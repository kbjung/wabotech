{
 "cells": [
  {
   "cell_type": "markdown",
   "metadata": {},
   "source": [
    "# Library"
   ]
  },
  {
   "cell_type": "code",
   "execution_count": 1,
   "metadata": {},
   "outputs": [],
   "source": [
    "import pandas as pd\n",
    "import numpy as np\n",
    "import os\n",
    "from datetime import datetime\n",
    "import datetime as dt\n",
    "import time\n",
    "import math"
   ]
  },
  {
   "cell_type": "code",
   "execution_count": 86,
   "metadata": {},
   "outputs": [],
   "source": [
    "import matplotlib.pyplot as plt\n",
    "import platform\n",
    "from matplotlib import font_manager, rc\n",
    "\n",
    "# 한글 폰트 지정\n",
    "path = \"C:/Windows/Fonts/malgun.ttf\"\n",
    "if platform.system() == \"Windows\":\n",
    "    font_name = font_manager.FontProperties(fname=path).get_name()\n",
    "    rc('font', family=font_name)\n",
    "elif platform.system()==\"Darwin\":\n",
    "    rc('font', family='AppleGothic')\n",
    "else:\n",
    "    print(\"Unknown System\")\n",
    "\n",
    "# 음수 표현\n",
    "plt.rcParams['axes.unicode_minus'] = False"
   ]
  },
  {
   "cell_type": "code",
   "execution_count": 2,
   "metadata": {},
   "outputs": [],
   "source": [
    "pd.options.display.float_format = '{:.2f}'.format\n",
    "# pd.reset_option('display.float_format')"
   ]
  },
  {
   "cell_type": "code",
   "execution_count": 3,
   "metadata": {},
   "outputs": [],
   "source": [
    "start_time = time.time()"
   ]
  },
  {
   "cell_type": "markdown",
   "metadata": {},
   "source": [
    "# Fold"
   ]
  },
  {
   "cell_type": "code",
   "execution_count": 4,
   "metadata": {},
   "outputs": [],
   "source": [
    "raw_fold = 'D:/data/processing/multi_road/raw'\n",
    "an_fold = 'D:/data/processing/multi_road/analysis'\n",
    "img_fold = 'D:/data/processing/multi_road/img'"
   ]
  },
  {
   "cell_type": "markdown",
   "metadata": {},
   "source": [
    "## xlsx to csv"
   ]
  },
  {
   "cell_type": "code",
   "execution_count": 5,
   "metadata": {},
   "outputs": [],
   "source": [
    "# # 4m 39.4s\n",
    "# name = '매연RSD_도로측정데이터_20221004~20230910'\n",
    "# file_name = f'{name}.xlsx'\n",
    "# rsd = pd.read_excel(os.path.join(raw_fold, file_name))\n",
    "# rsd.info()"
   ]
  },
  {
   "cell_type": "code",
   "execution_count": 6,
   "metadata": {},
   "outputs": [],
   "source": [
    "# # 12.6s\n",
    "# rsd.to_csv(os.path.join(raw_fold, f'{name}.csv'), index=False)"
   ]
  },
  {
   "cell_type": "markdown",
   "metadata": {},
   "source": [
    "# Load\n",
    "- 원격 측정 정보(자스텍 제공)\n",
    "- 차량제원(자스텍 제공)\n",
    "- 정밀검사(자스텍 제공)"
   ]
  },
  {
   "cell_type": "markdown",
   "metadata": {},
   "source": [
    "## 원격측정정보"
   ]
  },
  {
   "cell_type": "code",
   "execution_count": 7,
   "metadata": {},
   "outputs": [
    {
     "data": {
      "text/plain": [
       "15"
      ]
     },
     "execution_count": 7,
     "metadata": {},
     "output_type": "execute_result"
    }
   ],
   "source": [
    "rsd_cdict = {\n",
    "    'vdfDateTime':'측정날짜',\n",
    "    'vdfTime':'측정시간',\n",
    "    'vdfRecordStatus':'기록상태',\n",
    "    'vdfValid':'유효',\n",
    "    'samSpeed':'속도',\n",
    "    'samAccel':'가속도',\n",
    "    'samFlag':'플래그',\n",
    "    'vdfVSP':'VSP',\n",
    "    'Smoke':'매연',\n",
    "    'V_PLATE':'차량번호',\n",
    "    'LineNo':'차선번호',\n",
    "    'Wind speed':'풍속',\n",
    "    'Humidity':'습도', \n",
    "    'Temp':'온도',\n",
    "    'siteCode':'측정장소코드',\n",
    "    }\n",
    "len(rsd_cdict)"
   ]
  },
  {
   "cell_type": "code",
   "execution_count": 8,
   "metadata": {},
   "outputs": [
    {
     "name": "stderr",
     "output_type": "stream",
     "text": [
      "C:\\Users\\kbjung\\AppData\\Local\\Temp\\ipykernel_20140\\4153831191.py:4: DtypeWarning: Columns (73) have mixed types. Specify dtype option on import or set low_memory=False.\n",
      "  rsd = pd.read_csv(os.path.join(raw_fold, file_name), usecols=rsd_cdict.keys())\n"
     ]
    },
    {
     "name": "stdout",
     "output_type": "stream",
     "text": [
      "<class 'pandas.core.frame.DataFrame'>\n",
      "RangeIndex: 398673 entries, 0 to 398672\n",
      "Data columns (total 15 columns):\n",
      " #   Column           Non-Null Count   Dtype  \n",
      "---  ------           --------------   -----  \n",
      " 0   vdfDateTime      398673 non-null  object \n",
      " 1   vdfTime          398673 non-null  object \n",
      " 2   vdfRecordStatus  398673 non-null  object \n",
      " 3   vdfValid         398673 non-null  object \n",
      " 4   samSpeed         395272 non-null  float64\n",
      " 5   samAccel         395272 non-null  float64\n",
      " 6   samFlag          395272 non-null  object \n",
      " 7   vdfVSP           395272 non-null  float64\n",
      " 8   Smoke            398673 non-null  float64\n",
      " 9   V_PLATE          398673 non-null  object \n",
      " 10  LineNo           117903 non-null  float64\n",
      " 11  Wind speed       26712 non-null   float64\n",
      " 12  Humidity         99951 non-null   float64\n",
      " 13  Temp             398649 non-null  float64\n",
      " 14  siteCode         150 non-null     object \n",
      "dtypes: float64(8), object(7)\n",
      "memory usage: 45.6+ MB\n"
     ]
    }
   ],
   "source": [
    "# 1s\n",
    "name = '매연RSD_도로측정데이터_20221004~20230910'\n",
    "file_name = f'{name}.csv'\n",
    "rsd = pd.read_csv(os.path.join(raw_fold, file_name), usecols=rsd_cdict.keys())\n",
    "rsd.info()"
   ]
  },
  {
   "cell_type": "code",
   "execution_count": 9,
   "metadata": {},
   "outputs": [
    {
     "data": {
      "text/plain": [
       "Index(['vdfDateTime', 'vdfTime', 'vdfRecordStatus', 'vdfValid', 'samSpeed',\n",
       "       'samAccel', 'samFlag', 'vdfVSP', 'Smoke', 'V_PLATE', 'LineNo',\n",
       "       'Wind speed', 'Humidity', 'Temp', 'siteCode'],\n",
       "      dtype='object')"
      ]
     },
     "execution_count": 9,
     "metadata": {},
     "output_type": "execute_result"
    }
   ],
   "source": [
    "rsd.columns"
   ]
  },
  {
   "cell_type": "code",
   "execution_count": 10,
   "metadata": {},
   "outputs": [
    {
     "data": {
      "text/plain": [
       "Index(['측정날짜', '측정시간', '기록상태', '유효', '속도', '가속도', '플래그', 'VSP', '매연', '차량번호',\n",
       "       '차선번호', '풍속', '습도', '온도', '측정장소코드'],\n",
       "      dtype='object')"
      ]
     },
     "execution_count": 10,
     "metadata": {},
     "output_type": "execute_result"
    }
   ],
   "source": [
    "rsdr = rsd.rename(columns=rsd_cdict)\n",
    "rsdr.columns"
   ]
  },
  {
   "cell_type": "code",
   "execution_count": 11,
   "metadata": {},
   "outputs": [
    {
     "data": {
      "text/html": [
       "<div>\n",
       "<style scoped>\n",
       "    .dataframe tbody tr th:only-of-type {\n",
       "        vertical-align: middle;\n",
       "    }\n",
       "\n",
       "    .dataframe tbody tr th {\n",
       "        vertical-align: top;\n",
       "    }\n",
       "\n",
       "    .dataframe thead th {\n",
       "        text-align: right;\n",
       "    }\n",
       "</style>\n",
       "<table border=\"1\" class=\"dataframe\">\n",
       "  <thead>\n",
       "    <tr style=\"text-align: right;\">\n",
       "      <th></th>\n",
       "      <th>측정날짜</th>\n",
       "      <th>측정시간</th>\n",
       "      <th>기록상태</th>\n",
       "      <th>유효</th>\n",
       "      <th>속도</th>\n",
       "      <th>가속도</th>\n",
       "      <th>플래그</th>\n",
       "      <th>VSP</th>\n",
       "      <th>매연</th>\n",
       "      <th>차량번호</th>\n",
       "      <th>차선번호</th>\n",
       "      <th>풍속</th>\n",
       "      <th>습도</th>\n",
       "      <th>온도</th>\n",
       "      <th>측정장소코드</th>\n",
       "    </tr>\n",
       "  </thead>\n",
       "  <tbody>\n",
       "    <tr>\n",
       "      <th>0</th>\n",
       "      <td>10-04-2022</td>\n",
       "      <td>10:31:20</td>\n",
       "      <td>N</td>\n",
       "      <td>V</td>\n",
       "      <td>71.60</td>\n",
       "      <td>0.00</td>\n",
       "      <td>V</td>\n",
       "      <td>17.89</td>\n",
       "      <td>0.60</td>\n",
       "      <td>60저3406</td>\n",
       "      <td>NaN</td>\n",
       "      <td>NaN</td>\n",
       "      <td>NaN</td>\n",
       "      <td>0.00</td>\n",
       "      <td>JAS001</td>\n",
       "    </tr>\n",
       "    <tr>\n",
       "      <th>1</th>\n",
       "      <td>10-04-2022</td>\n",
       "      <td>10:31:46</td>\n",
       "      <td>N</td>\n",
       "      <td>V</td>\n",
       "      <td>60.70</td>\n",
       "      <td>0.00</td>\n",
       "      <td>V</td>\n",
       "      <td>2.65</td>\n",
       "      <td>0.80</td>\n",
       "      <td>41구0483</td>\n",
       "      <td>NaN</td>\n",
       "      <td>NaN</td>\n",
       "      <td>NaN</td>\n",
       "      <td>0.00</td>\n",
       "      <td>NaN</td>\n",
       "    </tr>\n",
       "    <tr>\n",
       "      <th>2</th>\n",
       "      <td>10-04-2022</td>\n",
       "      <td>10:31:58</td>\n",
       "      <td>N</td>\n",
       "      <td>V</td>\n",
       "      <td>50.60</td>\n",
       "      <td>0.40</td>\n",
       "      <td>V</td>\n",
       "      <td>13.42</td>\n",
       "      <td>0.70</td>\n",
       "      <td>80러0579</td>\n",
       "      <td>NaN</td>\n",
       "      <td>NaN</td>\n",
       "      <td>NaN</td>\n",
       "      <td>0.00</td>\n",
       "      <td>NaN</td>\n",
       "    </tr>\n",
       "    <tr>\n",
       "      <th>3</th>\n",
       "      <td>10-04-2022</td>\n",
       "      <td>10:32:47</td>\n",
       "      <td>N</td>\n",
       "      <td>V</td>\n",
       "      <td>53.30</td>\n",
       "      <td>1.40</td>\n",
       "      <td>V</td>\n",
       "      <td>18.71</td>\n",
       "      <td>0.90</td>\n",
       "      <td>94누0128</td>\n",
       "      <td>NaN</td>\n",
       "      <td>NaN</td>\n",
       "      <td>NaN</td>\n",
       "      <td>0.00</td>\n",
       "      <td>NaN</td>\n",
       "    </tr>\n",
       "    <tr>\n",
       "      <th>4</th>\n",
       "      <td>10-04-2022</td>\n",
       "      <td>10:34:03</td>\n",
       "      <td>N</td>\n",
       "      <td>V</td>\n",
       "      <td>36.10</td>\n",
       "      <td>0.50</td>\n",
       "      <td>V</td>\n",
       "      <td>9.51</td>\n",
       "      <td>0.70</td>\n",
       "      <td>60수4386</td>\n",
       "      <td>NaN</td>\n",
       "      <td>NaN</td>\n",
       "      <td>NaN</td>\n",
       "      <td>0.00</td>\n",
       "      <td>NaN</td>\n",
       "    </tr>\n",
       "  </tbody>\n",
       "</table>\n",
       "</div>"
      ],
      "text/plain": [
       "         측정날짜      측정시간 기록상태 유효    속도  가속도 플래그   VSP   매연     차량번호  차선번호  풍속  \\\n",
       "0  10-04-2022  10:31:20    N  V 71.60 0.00   V 17.89 0.60  60저3406   NaN NaN   \n",
       "1  10-04-2022  10:31:46    N  V 60.70 0.00   V  2.65 0.80  41구0483   NaN NaN   \n",
       "2  10-04-2022  10:31:58    N  V 50.60 0.40   V 13.42 0.70  80러0579   NaN NaN   \n",
       "3  10-04-2022  10:32:47    N  V 53.30 1.40   V 18.71 0.90  94누0128   NaN NaN   \n",
       "4  10-04-2022  10:34:03    N  V 36.10 0.50   V  9.51 0.70  60수4386   NaN NaN   \n",
       "\n",
       "   습도   온도  측정장소코드  \n",
       "0 NaN 0.00  JAS001  \n",
       "1 NaN 0.00     NaN  \n",
       "2 NaN 0.00     NaN  \n",
       "3 NaN 0.00     NaN  \n",
       "4 NaN 0.00     NaN  "
      ]
     },
     "execution_count": 11,
     "metadata": {},
     "output_type": "execute_result"
    }
   ],
   "source": [
    "rsdr.head()"
   ]
  },
  {
   "cell_type": "markdown",
   "metadata": {},
   "source": [
    "### [출력] csv"
   ]
  },
  {
   "cell_type": "code",
   "execution_count": 12,
   "metadata": {},
   "outputs": [
    {
     "data": {
      "text/plain": [
       "'매연RSD_도로측정데이터_20221004~20230910'"
      ]
     },
     "execution_count": 12,
     "metadata": {},
     "output_type": "execute_result"
    }
   ],
   "source": [
    "name"
   ]
  },
  {
   "cell_type": "code",
   "execution_count": 13,
   "metadata": {},
   "outputs": [],
   "source": [
    "# # 1s\n",
    "# rsd.to_csv(os.path.join(raw_fold, f'{name}.csv'), index=False)"
   ]
  },
  {
   "cell_type": "markdown",
   "metadata": {},
   "source": [
    "## 차량제원\n",
    "- 2023.09.20 기준"
   ]
  },
  {
   "cell_type": "code",
   "execution_count": 14,
   "metadata": {},
   "outputs": [
    {
     "name": "stdout",
     "output_type": "stream",
     "text": [
      "<class 'pandas.core.frame.DataFrame'>\n",
      "RangeIndex: 147895 entries, 0 to 147894\n",
      "Data columns (total 11 columns):\n",
      " #   Column  Non-Null Count   Dtype  \n",
      "---  ------  --------------   -----  \n",
      " 0   차량번호    147895 non-null  object \n",
      " 1   연료      141396 non-null  object \n",
      " 2   연식      141439 non-null  float64\n",
      " 3   배기량     141402 non-null  float64\n",
      " 4   차종      141439 non-null  object \n",
      " 5   총중량     141439 non-null  float64\n",
      " 6   엔진형식    141413 non-null  object \n",
      " 7   등급      141439 non-null  object \n",
      " 8   차대번호    141439 non-null  object \n",
      " 9   차명      141439 non-null  object \n",
      " 10  폐차여부    141439 non-null  object \n",
      "dtypes: float64(3), object(8)\n",
      "memory usage: 12.4+ MB\n"
     ]
    }
   ],
   "source": [
    "# 0.5s\n",
    "cs = pd.read_csv(os.path.join(raw_fold, '230920_차량제원.csv'))\n",
    "cs.info()"
   ]
  },
  {
   "cell_type": "markdown",
   "metadata": {},
   "source": [
    "### [출력] 제원정보"
   ]
  },
  {
   "cell_type": "code",
   "execution_count": 15,
   "metadata": {},
   "outputs": [],
   "source": [
    "# # 1.1s\n",
    "# car.to_csv(os.path.join(raw_fold, '230920_차량제원.csv'), index=False)"
   ]
  },
  {
   "cell_type": "markdown",
   "metadata": {},
   "source": [
    "## 정밀검사"
   ]
  },
  {
   "cell_type": "code",
   "execution_count": 16,
   "metadata": {},
   "outputs": [],
   "source": [
    "# # 51.1s\n",
    "# eet = pd.read_excel(os.path.join(raw_fold, '230920_정밀검사.xlsx'))\n",
    "# eet.info()"
   ]
  },
  {
   "cell_type": "code",
   "execution_count": 17,
   "metadata": {},
   "outputs": [
    {
     "data": {
      "text/plain": [
       "24"
      ]
     },
     "execution_count": 17,
     "metadata": {},
     "output_type": "execute_result"
    }
   ],
   "source": [
    "eetr_cols = ['차대번호', '정밀검사일자', '정밀검사종류', '관능검사판정', '정밀검사판정', '정밀검사측정방법', '무부하매연측정치1', '무부하매연허용치1', '무부하매연판정1', '무부하매연측정치2', '무부하매연허용치2', '무부하매연판정2', '무부하매연측정치3', '무부하매연허용치3', '무부하매연판정3', '무부하매연측정치4', '무부하매연허용치4', '무부하매연판정4', '무부하매연측정치5', '무부하매연허용치5', '무부하매연판정5', '무부하매연측정치6', '무부하매연허용치6', '무부하매연판정6']\n",
    "len(eetr_cols)"
   ]
  },
  {
   "cell_type": "code",
   "execution_count": 18,
   "metadata": {},
   "outputs": [
    {
     "name": "stdout",
     "output_type": "stream",
     "text": [
      "<class 'pandas.core.frame.DataFrame'>\n",
      "RangeIndex: 113320 entries, 0 to 113319\n",
      "Data columns (total 24 columns):\n",
      " #   Column     Non-Null Count   Dtype  \n",
      "---  ------     --------------   -----  \n",
      " 0   차대번호       113320 non-null  object \n",
      " 1   정밀검사일자     113320 non-null  int64  \n",
      " 2   정밀검사종류     113320 non-null  object \n",
      " 3   관능검사판정     113320 non-null  object \n",
      " 4   정밀검사판정     113320 non-null  object \n",
      " 5   정밀검사측정방법   113320 non-null  object \n",
      " 6   무부하매연측정치1  110568 non-null  float64\n",
      " 7   무부하매연허용치1  110565 non-null  float64\n",
      " 8   무부하매연판정1   110564 non-null  object \n",
      " 9   무부하매연측정치2  82400 non-null   float64\n",
      " 10  무부하매연허용치2  78642 non-null   float64\n",
      " 11  무부하매연판정2   59012 non-null   object \n",
      " 12  무부하매연측정치3  74018 non-null   float64\n",
      " 13  무부하매연허용치3  74015 non-null   float64\n",
      " 14  무부하매연판정3   52004 non-null   object \n",
      " 15  무부하매연측정치4  74016 non-null   float64\n",
      " 16  무부하매연허용치4  74013 non-null   float64\n",
      " 17  무부하매연판정4   51997 non-null   object \n",
      " 18  무부하매연측정치5  74016 non-null   float64\n",
      " 19  무부하매연허용치5  74013 non-null   float64\n",
      " 20  무부하매연판정5   51997 non-null   object \n",
      " 21  무부하매연측정치6  69438 non-null   float64\n",
      " 22  무부하매연허용치6  69436 non-null   float64\n",
      " 23  무부하매연판정6   44649 non-null   object \n",
      "dtypes: float64(12), int64(1), object(11)\n",
      "memory usage: 20.7+ MB\n"
     ]
    }
   ],
   "source": [
    "# 0.5s\n",
    "eetr = pd.read_csv(os.path.join(raw_fold, '230920_정밀검사.csv'), usecols=eetr_cols)\n",
    "eetr.info()"
   ]
  },
  {
   "cell_type": "code",
   "execution_count": 19,
   "metadata": {},
   "outputs": [
    {
     "data": {
      "text/plain": [
       "Index(['차대번호', '정밀검사일자', '정밀검사종류', '관능검사판정', '정밀검사판정', '정밀검사측정방법', '무부하매연측정치1',\n",
       "       '무부하매연허용치1', '무부하매연판정1', '무부하매연측정치2', '무부하매연허용치2', '무부하매연판정2',\n",
       "       '무부하매연측정치3', '무부하매연허용치3', '무부하매연판정3', '무부하매연측정치4', '무부하매연허용치4',\n",
       "       '무부하매연판정4', '무부하매연측정치5', '무부하매연허용치5', '무부하매연판정5', '무부하매연측정치6',\n",
       "       '무부하매연허용치6', '무부하매연판정6'],\n",
       "      dtype='object')"
      ]
     },
     "execution_count": 19,
     "metadata": {},
     "output_type": "execute_result"
    }
   ],
   "source": [
    "eetr.columns"
   ]
  },
  {
   "cell_type": "markdown",
   "metadata": {},
   "source": [
    "### [출력] 정밀검사"
   ]
  },
  {
   "cell_type": "code",
   "execution_count": 20,
   "metadata": {},
   "outputs": [],
   "source": [
    "# # 1.7s\n",
    "# eet.to_csv(os.path.join(raw_fold, '230920_정밀검사.csv'), index=False)"
   ]
  },
  {
   "cell_type": "markdown",
   "metadata": {},
   "source": [
    "# Preprocessing"
   ]
  },
  {
   "cell_type": "markdown",
   "metadata": {},
   "source": [
    "## 원격측정정보"
   ]
  },
  {
   "cell_type": "markdown",
   "metadata": {},
   "source": [
    "### 측정날짜, 측정시간 전처리\n",
    "- datetime type으로 변환"
   ]
  },
  {
   "cell_type": "code",
   "execution_count": 21,
   "metadata": {},
   "outputs": [
    {
     "data": {
      "text/html": [
       "<div>\n",
       "<style scoped>\n",
       "    .dataframe tbody tr th:only-of-type {\n",
       "        vertical-align: middle;\n",
       "    }\n",
       "\n",
       "    .dataframe tbody tr th {\n",
       "        vertical-align: top;\n",
       "    }\n",
       "\n",
       "    .dataframe thead th {\n",
       "        text-align: right;\n",
       "    }\n",
       "</style>\n",
       "<table border=\"1\" class=\"dataframe\">\n",
       "  <thead>\n",
       "    <tr style=\"text-align: right;\">\n",
       "      <th></th>\n",
       "      <th>측정날짜</th>\n",
       "      <th>측정시간</th>\n",
       "    </tr>\n",
       "  </thead>\n",
       "  <tbody>\n",
       "    <tr>\n",
       "      <th>0</th>\n",
       "      <td>10-04-2022</td>\n",
       "      <td>10:31:20</td>\n",
       "    </tr>\n",
       "    <tr>\n",
       "      <th>1</th>\n",
       "      <td>10-04-2022</td>\n",
       "      <td>10:31:46</td>\n",
       "    </tr>\n",
       "    <tr>\n",
       "      <th>2</th>\n",
       "      <td>10-04-2022</td>\n",
       "      <td>10:31:58</td>\n",
       "    </tr>\n",
       "    <tr>\n",
       "      <th>3</th>\n",
       "      <td>10-04-2022</td>\n",
       "      <td>10:32:47</td>\n",
       "    </tr>\n",
       "    <tr>\n",
       "      <th>4</th>\n",
       "      <td>10-04-2022</td>\n",
       "      <td>10:34:03</td>\n",
       "    </tr>\n",
       "  </tbody>\n",
       "</table>\n",
       "</div>"
      ],
      "text/plain": [
       "         측정날짜      측정시간\n",
       "0  10-04-2022  10:31:20\n",
       "1  10-04-2022  10:31:46\n",
       "2  10-04-2022  10:31:58\n",
       "3  10-04-2022  10:32:47\n",
       "4  10-04-2022  10:34:03"
      ]
     },
     "execution_count": 21,
     "metadata": {},
     "output_type": "execute_result"
    }
   ],
   "source": [
    "rsdr[['측정날짜', '측정시간']].head()"
   ]
  },
  {
   "cell_type": "code",
   "execution_count": 22,
   "metadata": {},
   "outputs": [
    {
     "data": {
      "text/plain": [
       "측정날짜    0\n",
       "측정시간    0\n",
       "dtype: int64"
      ]
     },
     "execution_count": 22,
     "metadata": {},
     "output_type": "execute_result"
    }
   ],
   "source": [
    "rsdr[['측정날짜', '측정시간']].isnull().sum()"
   ]
  },
  {
   "cell_type": "code",
   "execution_count": 23,
   "metadata": {},
   "outputs": [
    {
     "data": {
      "text/plain": [
       "측정날짜    object\n",
       "측정시간    object\n",
       "dtype: object"
      ]
     },
     "execution_count": 23,
     "metadata": {},
     "output_type": "execute_result"
    }
   ],
   "source": [
    "rsdr[['측정날짜', '측정시간']].dtypes"
   ]
  },
  {
   "cell_type": "markdown",
   "metadata": {},
   "source": [
    "#### [issue] 측정시간 값 오류\n",
    "- 차량번호(V_PLATE) : 서울06도5872, 대전80바9861, 경기86소7588, ********\n",
    "- index : 266253, 266383, 266384, 269478"
   ]
  },
  {
   "cell_type": "code",
   "execution_count": 24,
   "metadata": {},
   "outputs": [
    {
     "data": {
      "text/html": [
       "<div>\n",
       "<style scoped>\n",
       "    .dataframe tbody tr th:only-of-type {\n",
       "        vertical-align: middle;\n",
       "    }\n",
       "\n",
       "    .dataframe tbody tr th {\n",
       "        vertical-align: top;\n",
       "    }\n",
       "\n",
       "    .dataframe thead th {\n",
       "        text-align: right;\n",
       "    }\n",
       "</style>\n",
       "<table border=\"1\" class=\"dataframe\">\n",
       "  <thead>\n",
       "    <tr style=\"text-align: right;\">\n",
       "      <th></th>\n",
       "      <th>측정날짜</th>\n",
       "      <th>측정시간</th>\n",
       "      <th>기록상태</th>\n",
       "      <th>유효</th>\n",
       "      <th>속도</th>\n",
       "      <th>가속도</th>\n",
       "      <th>플래그</th>\n",
       "      <th>VSP</th>\n",
       "      <th>매연</th>\n",
       "      <th>차량번호</th>\n",
       "      <th>차선번호</th>\n",
       "      <th>풍속</th>\n",
       "      <th>습도</th>\n",
       "      <th>온도</th>\n",
       "      <th>측정장소코드</th>\n",
       "    </tr>\n",
       "  </thead>\n",
       "  <tbody>\n",
       "    <tr>\n",
       "      <th>266253</th>\n",
       "      <td>08-08-2023</td>\n",
       "      <td>0.491134259</td>\n",
       "      <td>N</td>\n",
       "      <td>V</td>\n",
       "      <td>72.36</td>\n",
       "      <td>0.00</td>\n",
       "      <td>V</td>\n",
       "      <td>18.13</td>\n",
       "      <td>1.90</td>\n",
       "      <td>서울06도5872</td>\n",
       "      <td>NaN</td>\n",
       "      <td>NaN</td>\n",
       "      <td>NaN</td>\n",
       "      <td>33.10</td>\n",
       "      <td>NaN</td>\n",
       "    </tr>\n",
       "    <tr>\n",
       "      <th>266383</th>\n",
       "      <td>08-08-2023</td>\n",
       "      <td>0.499652778</td>\n",
       "      <td>N</td>\n",
       "      <td>V</td>\n",
       "      <td>50.40</td>\n",
       "      <td>-1.44</td>\n",
       "      <td>V</td>\n",
       "      <td>5.57</td>\n",
       "      <td>1.70</td>\n",
       "      <td>대전80바9861</td>\n",
       "      <td>NaN</td>\n",
       "      <td>NaN</td>\n",
       "      <td>NaN</td>\n",
       "      <td>33.10</td>\n",
       "      <td>NaN</td>\n",
       "    </tr>\n",
       "    <tr>\n",
       "      <th>266384</th>\n",
       "      <td>08-08-2023</td>\n",
       "      <td>0.499768519</td>\n",
       "      <td>N</td>\n",
       "      <td>V</td>\n",
       "      <td>72.72</td>\n",
       "      <td>1.88</td>\n",
       "      <td>V</td>\n",
       "      <td>29.86</td>\n",
       "      <td>0.00</td>\n",
       "      <td>경기86소7588</td>\n",
       "      <td>NaN</td>\n",
       "      <td>NaN</td>\n",
       "      <td>NaN</td>\n",
       "      <td>33.10</td>\n",
       "      <td>NaN</td>\n",
       "    </tr>\n",
       "    <tr>\n",
       "      <th>269478</th>\n",
       "      <td>08-08-2023</td>\n",
       "      <td>0.7753125</td>\n",
       "      <td>N</td>\n",
       "      <td>V</td>\n",
       "      <td>44.28</td>\n",
       "      <td>-0.36</td>\n",
       "      <td>V</td>\n",
       "      <td>8.79</td>\n",
       "      <td>0.00</td>\n",
       "      <td>********</td>\n",
       "      <td>NaN</td>\n",
       "      <td>NaN</td>\n",
       "      <td>NaN</td>\n",
       "      <td>33.40</td>\n",
       "      <td>NaN</td>\n",
       "    </tr>\n",
       "  </tbody>\n",
       "</table>\n",
       "</div>"
      ],
      "text/plain": [
       "              측정날짜         측정시간 기록상태 유효    속도   가속도 플래그   VSP   매연       차량번호  \\\n",
       "266253  08-08-2023  0.491134259    N  V 72.36  0.00   V 18.13 1.90  서울06도5872   \n",
       "266383  08-08-2023  0.499652778    N  V 50.40 -1.44   V  5.57 1.70  대전80바9861   \n",
       "266384  08-08-2023  0.499768519    N  V 72.72  1.88   V 29.86 0.00  경기86소7588   \n",
       "269478  08-08-2023    0.7753125    N  V 44.28 -0.36   V  8.79 0.00   ********   \n",
       "\n",
       "        차선번호  풍속  습도    온도 측정장소코드  \n",
       "266253   NaN NaN NaN 33.10    NaN  \n",
       "266383   NaN NaN NaN 33.10    NaN  \n",
       "266384   NaN NaN NaN 33.10    NaN  \n",
       "269478   NaN NaN NaN 33.40    NaN  "
      ]
     },
     "execution_count": 24,
     "metadata": {},
     "output_type": "execute_result"
    }
   ],
   "source": [
    "rsdr.loc[[266253, 266383, 266384, 269478]]"
   ]
  },
  {
   "cell_type": "code",
   "execution_count": null,
   "metadata": {},
   "outputs": [],
   "source": [
    "rsdr[(rsdr['차량번호'] == '서울06도5872') | (rsdr['차량번호'] == '대전80바9861') | (rsdr['차량번호'] == '경기86소7588')]"
   ]
  },
  {
   "cell_type": "code",
   "execution_count": 27,
   "metadata": {},
   "outputs": [],
   "source": [
    "rsdr['측정날짜'] = pd.to_datetime(rsdr['측정날짜'])"
   ]
  },
  {
   "cell_type": "code",
   "execution_count": 28,
   "metadata": {},
   "outputs": [
    {
     "data": {
      "text/html": [
       "<div>\n",
       "<style scoped>\n",
       "    .dataframe tbody tr th:only-of-type {\n",
       "        vertical-align: middle;\n",
       "    }\n",
       "\n",
       "    .dataframe tbody tr th {\n",
       "        vertical-align: top;\n",
       "    }\n",
       "\n",
       "    .dataframe thead th {\n",
       "        text-align: right;\n",
       "    }\n",
       "</style>\n",
       "<table border=\"1\" class=\"dataframe\">\n",
       "  <thead>\n",
       "    <tr style=\"text-align: right;\">\n",
       "      <th></th>\n",
       "      <th>측정날짜</th>\n",
       "      <th>측정시간</th>\n",
       "      <th>기록상태</th>\n",
       "      <th>유효</th>\n",
       "      <th>속도</th>\n",
       "      <th>가속도</th>\n",
       "      <th>플래그</th>\n",
       "      <th>VSP</th>\n",
       "      <th>매연</th>\n",
       "      <th>차량번호</th>\n",
       "      <th>차선번호</th>\n",
       "      <th>풍속</th>\n",
       "      <th>습도</th>\n",
       "      <th>온도</th>\n",
       "      <th>측정장소코드</th>\n",
       "    </tr>\n",
       "  </thead>\n",
       "  <tbody>\n",
       "    <tr>\n",
       "      <th>0</th>\n",
       "      <td>2022-10-04</td>\n",
       "      <td>10:31:20</td>\n",
       "      <td>N</td>\n",
       "      <td>V</td>\n",
       "      <td>71.60</td>\n",
       "      <td>0.00</td>\n",
       "      <td>V</td>\n",
       "      <td>17.89</td>\n",
       "      <td>0.60</td>\n",
       "      <td>60저3406</td>\n",
       "      <td>NaN</td>\n",
       "      <td>NaN</td>\n",
       "      <td>NaN</td>\n",
       "      <td>0.00</td>\n",
       "      <td>JAS001</td>\n",
       "    </tr>\n",
       "    <tr>\n",
       "      <th>1</th>\n",
       "      <td>2022-10-04</td>\n",
       "      <td>10:31:46</td>\n",
       "      <td>N</td>\n",
       "      <td>V</td>\n",
       "      <td>60.70</td>\n",
       "      <td>0.00</td>\n",
       "      <td>V</td>\n",
       "      <td>2.65</td>\n",
       "      <td>0.80</td>\n",
       "      <td>41구0483</td>\n",
       "      <td>NaN</td>\n",
       "      <td>NaN</td>\n",
       "      <td>NaN</td>\n",
       "      <td>0.00</td>\n",
       "      <td>NaN</td>\n",
       "    </tr>\n",
       "    <tr>\n",
       "      <th>2</th>\n",
       "      <td>2022-10-04</td>\n",
       "      <td>10:31:58</td>\n",
       "      <td>N</td>\n",
       "      <td>V</td>\n",
       "      <td>50.60</td>\n",
       "      <td>0.40</td>\n",
       "      <td>V</td>\n",
       "      <td>13.42</td>\n",
       "      <td>0.70</td>\n",
       "      <td>80러0579</td>\n",
       "      <td>NaN</td>\n",
       "      <td>NaN</td>\n",
       "      <td>NaN</td>\n",
       "      <td>0.00</td>\n",
       "      <td>NaN</td>\n",
       "    </tr>\n",
       "    <tr>\n",
       "      <th>3</th>\n",
       "      <td>2022-10-04</td>\n",
       "      <td>10:32:47</td>\n",
       "      <td>N</td>\n",
       "      <td>V</td>\n",
       "      <td>53.30</td>\n",
       "      <td>1.40</td>\n",
       "      <td>V</td>\n",
       "      <td>18.71</td>\n",
       "      <td>0.90</td>\n",
       "      <td>94누0128</td>\n",
       "      <td>NaN</td>\n",
       "      <td>NaN</td>\n",
       "      <td>NaN</td>\n",
       "      <td>0.00</td>\n",
       "      <td>NaN</td>\n",
       "    </tr>\n",
       "    <tr>\n",
       "      <th>4</th>\n",
       "      <td>2022-10-04</td>\n",
       "      <td>10:34:03</td>\n",
       "      <td>N</td>\n",
       "      <td>V</td>\n",
       "      <td>36.10</td>\n",
       "      <td>0.50</td>\n",
       "      <td>V</td>\n",
       "      <td>9.51</td>\n",
       "      <td>0.70</td>\n",
       "      <td>60수4386</td>\n",
       "      <td>NaN</td>\n",
       "      <td>NaN</td>\n",
       "      <td>NaN</td>\n",
       "      <td>0.00</td>\n",
       "      <td>NaN</td>\n",
       "    </tr>\n",
       "  </tbody>\n",
       "</table>\n",
       "</div>"
      ],
      "text/plain": [
       "        측정날짜      측정시간 기록상태 유효    속도  가속도 플래그   VSP   매연     차량번호  차선번호  풍속  \\\n",
       "0 2022-10-04  10:31:20    N  V 71.60 0.00   V 17.89 0.60  60저3406   NaN NaN   \n",
       "1 2022-10-04  10:31:46    N  V 60.70 0.00   V  2.65 0.80  41구0483   NaN NaN   \n",
       "2 2022-10-04  10:31:58    N  V 50.60 0.40   V 13.42 0.70  80러0579   NaN NaN   \n",
       "3 2022-10-04  10:32:47    N  V 53.30 1.40   V 18.71 0.90  94누0128   NaN NaN   \n",
       "4 2022-10-04  10:34:03    N  V 36.10 0.50   V  9.51 0.70  60수4386   NaN NaN   \n",
       "\n",
       "   습도   온도  측정장소코드  \n",
       "0 NaN 0.00  JAS001  \n",
       "1 NaN 0.00     NaN  \n",
       "2 NaN 0.00     NaN  \n",
       "3 NaN 0.00     NaN  \n",
       "4 NaN 0.00     NaN  "
      ]
     },
     "execution_count": 28,
     "metadata": {},
     "output_type": "execute_result"
    }
   ],
   "source": [
    "rsdr.head()"
   ]
  },
  {
   "cell_type": "code",
   "execution_count": 30,
   "metadata": {},
   "outputs": [
    {
     "data": {
      "text/plain": [
       "(398673, 145008)"
      ]
     },
     "execution_count": 30,
     "metadata": {},
     "output_type": "execute_result"
    }
   ],
   "source": [
    "rsdr.shape[0], len(rsdr['차량번호'].unique())"
   ]
  },
  {
   "cell_type": "markdown",
   "metadata": {},
   "source": [
    "## 차량제원"
   ]
  },
  {
   "cell_type": "code",
   "execution_count": 31,
   "metadata": {},
   "outputs": [
    {
     "data": {
      "text/plain": [
       "Index(['차량번호', '연료', '연식', '배기량', '차종', '총중량', '엔진형식', '등급', '차대번호', '차명',\n",
       "       '폐차여부'],\n",
       "      dtype='object')"
      ]
     },
     "execution_count": 31,
     "metadata": {},
     "output_type": "execute_result"
    }
   ],
   "source": [
    "cs.columns"
   ]
  },
  {
   "cell_type": "code",
   "execution_count": 32,
   "metadata": {},
   "outputs": [
    {
     "data": {
      "text/html": [
       "<div>\n",
       "<style scoped>\n",
       "    .dataframe tbody tr th:only-of-type {\n",
       "        vertical-align: middle;\n",
       "    }\n",
       "\n",
       "    .dataframe tbody tr th {\n",
       "        vertical-align: top;\n",
       "    }\n",
       "\n",
       "    .dataframe thead th {\n",
       "        text-align: right;\n",
       "    }\n",
       "</style>\n",
       "<table border=\"1\" class=\"dataframe\">\n",
       "  <thead>\n",
       "    <tr style=\"text-align: right;\">\n",
       "      <th></th>\n",
       "      <th>차량번호</th>\n",
       "      <th>연료</th>\n",
       "      <th>연식</th>\n",
       "      <th>배기량</th>\n",
       "      <th>차종</th>\n",
       "      <th>총중량</th>\n",
       "      <th>엔진형식</th>\n",
       "      <th>등급</th>\n",
       "      <th>차대번호</th>\n",
       "      <th>차명</th>\n",
       "      <th>폐차여부</th>\n",
       "    </tr>\n",
       "  </thead>\n",
       "  <tbody>\n",
       "    <tr>\n",
       "      <th>0</th>\n",
       "      <td>01가0656</td>\n",
       "      <td>경유</td>\n",
       "      <td>2016.00</td>\n",
       "      <td>1598.00</td>\n",
       "      <td>승용</td>\n",
       "      <td>2100.00</td>\n",
       "      <td>LVL</td>\n",
       "      <td>3</td>\n",
       "      <td>KLAYA75CDGK341377</td>\n",
       "      <td>올란도 1.6 디젤</td>\n",
       "      <td>N</td>\n",
       "    </tr>\n",
       "    <tr>\n",
       "      <th>1</th>\n",
       "      <td>01가0666</td>\n",
       "      <td>휘발유</td>\n",
       "      <td>2013.00</td>\n",
       "      <td>3778.00</td>\n",
       "      <td>승용</td>\n",
       "      <td>2255.00</td>\n",
       "      <td>G6DJ</td>\n",
       "      <td>2</td>\n",
       "      <td>KMHGF41DBDU069448</td>\n",
       "      <td>에쿠스(EQUUS)</td>\n",
       "      <td>N</td>\n",
       "    </tr>\n",
       "    <tr>\n",
       "      <th>2</th>\n",
       "      <td>01가0758</td>\n",
       "      <td>경유</td>\n",
       "      <td>2011.00</td>\n",
       "      <td>2967.00</td>\n",
       "      <td>승용</td>\n",
       "      <td>2245.00</td>\n",
       "      <td>CDY</td>\n",
       "      <td>3</td>\n",
       "      <td>WAUZZZ4F0BN059469</td>\n",
       "      <td>A6 3.0 TDI Quattro</td>\n",
       "      <td>N</td>\n",
       "    </tr>\n",
       "    <tr>\n",
       "      <th>3</th>\n",
       "      <td>01가0847</td>\n",
       "      <td>휘발유</td>\n",
       "      <td>2014.00</td>\n",
       "      <td>1591.00</td>\n",
       "      <td>승용</td>\n",
       "      <td>1570.00</td>\n",
       "      <td>G4FD</td>\n",
       "      <td>2</td>\n",
       "      <td>KMHDG41DBEU137486</td>\n",
       "      <td>아반떼 (AVANTE)</td>\n",
       "      <td>N</td>\n",
       "    </tr>\n",
       "    <tr>\n",
       "      <th>4</th>\n",
       "      <td>01가1376</td>\n",
       "      <td>전기</td>\n",
       "      <td>2023.00</td>\n",
       "      <td>111.00</td>\n",
       "      <td>승용</td>\n",
       "      <td>2255.00</td>\n",
       "      <td>EM17</td>\n",
       "      <td>1</td>\n",
       "      <td>KNAC281AFPA095017</td>\n",
       "      <td>EV6</td>\n",
       "      <td>N</td>\n",
       "    </tr>\n",
       "  </tbody>\n",
       "</table>\n",
       "</div>"
      ],
      "text/plain": [
       "      차량번호   연료      연식     배기량  차종     총중량  엔진형식 등급               차대번호  \\\n",
       "0  01가0656   경유 2016.00 1598.00  승용 2100.00   LVL  3  KLAYA75CDGK341377   \n",
       "1  01가0666  휘발유 2013.00 3778.00  승용 2255.00  G6DJ  2  KMHGF41DBDU069448   \n",
       "2  01가0758   경유 2011.00 2967.00  승용 2245.00   CDY  3  WAUZZZ4F0BN059469   \n",
       "3  01가0847  휘발유 2014.00 1591.00  승용 1570.00  G4FD  2  KMHDG41DBEU137486   \n",
       "4  01가1376   전기 2023.00  111.00  승용 2255.00  EM17  1  KNAC281AFPA095017   \n",
       "\n",
       "                   차명 폐차여부  \n",
       "0          올란도 1.6 디젤    N  \n",
       "1          에쿠스(EQUUS)    N  \n",
       "2  A6 3.0 TDI Quattro    N  \n",
       "3        아반떼 (AVANTE)    N  \n",
       "4                 EV6    N  "
      ]
     },
     "execution_count": 32,
     "metadata": {},
     "output_type": "execute_result"
    }
   ],
   "source": [
    "cs.head()"
   ]
  },
  {
   "cell_type": "code",
   "execution_count": 33,
   "metadata": {},
   "outputs": [
    {
     "data": {
      "text/plain": [
       "(147895, 11)"
      ]
     },
     "execution_count": 33,
     "metadata": {},
     "output_type": "execute_result"
    }
   ],
   "source": [
    "cs.shape"
   ]
  },
  {
   "cell_type": "code",
   "execution_count": 40,
   "metadata": {},
   "outputs": [
    {
     "data": {
      "text/plain": [
       "(143575, 11)"
      ]
     },
     "execution_count": 40,
     "metadata": {},
     "output_type": "execute_result"
    }
   ],
   "source": [
    "csn = cs[cs['폐차여부'] != 'Y'].reset_index(drop=True)\n",
    "csn.shape"
   ]
  },
  {
   "cell_type": "code",
   "execution_count": 41,
   "metadata": {},
   "outputs": [
    {
     "data": {
      "text/plain": [
       "(143414, 11)"
      ]
     },
     "execution_count": 41,
     "metadata": {},
     "output_type": "execute_result"
    }
   ],
   "source": [
    "csn = csn.drop_duplicates().reset_index(drop=True)\n",
    "csn.shape"
   ]
  },
  {
   "cell_type": "code",
   "execution_count": 42,
   "metadata": {},
   "outputs": [
    {
     "data": {
      "text/plain": [
       "(143414, 143414)"
      ]
     },
     "execution_count": 42,
     "metadata": {},
     "output_type": "execute_result"
    }
   ],
   "source": [
    "csn.shape[0], len(csn['차량번호'].unique())"
   ]
  },
  {
   "cell_type": "code",
   "execution_count": 43,
   "metadata": {},
   "outputs": [
    {
     "data": {
      "text/plain": [
       "(143414, 136959)"
      ]
     },
     "execution_count": 43,
     "metadata": {},
     "output_type": "execute_result"
    }
   ],
   "source": [
    "csn.shape[0], len(csn['차대번호'].unique())"
   ]
  },
  {
   "cell_type": "code",
   "execution_count": 44,
   "metadata": {},
   "outputs": [
    {
     "data": {
      "text/plain": [
       "Index(['차량번호', '연료', '연식', '배기량', '차종', '총중량', '엔진형식', '등급', '차대번호', '차명',\n",
       "       '폐차여부'],\n",
       "      dtype='object')"
      ]
     },
     "execution_count": 44,
     "metadata": {},
     "output_type": "execute_result"
    }
   ],
   "source": [
    "csn.columns"
   ]
  },
  {
   "cell_type": "markdown",
   "metadata": {},
   "source": [
    "## 정밀검사"
   ]
  },
  {
   "cell_type": "code",
   "execution_count": 45,
   "metadata": {},
   "outputs": [
    {
     "data": {
      "text/plain": [
       "(113320, 24)"
      ]
     },
     "execution_count": 45,
     "metadata": {},
     "output_type": "execute_result"
    }
   ],
   "source": [
    "eetr.shape"
   ]
  },
  {
   "cell_type": "code",
   "execution_count": 46,
   "metadata": {},
   "outputs": [
    {
     "data": {
      "text/plain": [
       "Index(['차대번호', '정밀검사일자', '정밀검사종류', '관능검사판정', '정밀검사판정', '정밀검사측정방법', '무부하매연측정치1',\n",
       "       '무부하매연허용치1', '무부하매연판정1', '무부하매연측정치2', '무부하매연허용치2', '무부하매연판정2',\n",
       "       '무부하매연측정치3', '무부하매연허용치3', '무부하매연판정3', '무부하매연측정치4', '무부하매연허용치4',\n",
       "       '무부하매연판정4', '무부하매연측정치5', '무부하매연허용치5', '무부하매연판정5', '무부하매연측정치6',\n",
       "       '무부하매연허용치6', '무부하매연판정6'],\n",
       "      dtype='object')"
      ]
     },
     "execution_count": 46,
     "metadata": {},
     "output_type": "execute_result"
    }
   ],
   "source": [
    "eetr.columns"
   ]
  },
  {
   "cell_type": "code",
   "execution_count": 47,
   "metadata": {},
   "outputs": [
    {
     "data": {
      "text/plain": [
       "dtype('int64')"
      ]
     },
     "execution_count": 47,
     "metadata": {},
     "output_type": "execute_result"
    }
   ],
   "source": [
    "eetr['정밀검사일자'].dtype"
   ]
  },
  {
   "cell_type": "code",
   "execution_count": 48,
   "metadata": {},
   "outputs": [
    {
     "data": {
      "text/plain": [
       "0"
      ]
     },
     "execution_count": 48,
     "metadata": {},
     "output_type": "execute_result"
    }
   ],
   "source": [
    "eetr['정밀검사일자'].isnull().sum()"
   ]
  },
  {
   "cell_type": "code",
   "execution_count": 50,
   "metadata": {},
   "outputs": [],
   "source": [
    "# 2.1s\n",
    "eetr['정밀검사일자'] = pd.to_datetime(eetr['정밀검사일자'], format=\"%Y%m%d\")"
   ]
  },
  {
   "cell_type": "code",
   "execution_count": 51,
   "metadata": {},
   "outputs": [
    {
     "data": {
      "text/plain": [
       "0"
      ]
     },
     "execution_count": 51,
     "metadata": {},
     "output_type": "execute_result"
    }
   ],
   "source": [
    "eetr['정밀검사일자'].isnull().sum()"
   ]
  },
  {
   "cell_type": "code",
   "execution_count": 52,
   "metadata": {},
   "outputs": [
    {
     "data": {
      "text/plain": [
       "0   2022-05-02\n",
       "1   2023-01-25\n",
       "2   2023-05-09\n",
       "3   2022-06-27\n",
       "4   2022-12-24\n",
       "Name: 정밀검사일자, dtype: datetime64[ns]"
      ]
     },
     "execution_count": 52,
     "metadata": {},
     "output_type": "execute_result"
    }
   ],
   "source": [
    "eetr['정밀검사일자'].head()"
   ]
  },
  {
   "cell_type": "markdown",
   "metadata": {},
   "source": [
    "### 최신검사만"
   ]
  },
  {
   "cell_type": "code",
   "execution_count": 53,
   "metadata": {},
   "outputs": [
    {
     "data": {
      "text/plain": [
       "(113320, 77561)"
      ]
     },
     "execution_count": 53,
     "metadata": {},
     "output_type": "execute_result"
    }
   ],
   "source": [
    "# 27.6s\n",
    "# 113320, 77561\n",
    "eetr.shape[0], len(eetr['차대번호'].unique())"
   ]
  },
  {
   "cell_type": "code",
   "execution_count": 54,
   "metadata": {},
   "outputs": [
    {
     "data": {
      "text/plain": [
       "(77561, 24)"
      ]
     },
     "execution_count": 54,
     "metadata": {},
     "output_type": "execute_result"
    }
   ],
   "source": [
    "# 1m 43.4s\n",
    "eetr = eetr.sort_values('정밀검사일자', ascending=False).drop_duplicates('차대번호').reset_index(drop=True)\n",
    "eetr.shape"
   ]
  },
  {
   "cell_type": "markdown",
   "metadata": {},
   "source": [
    "### 2022년 1월부터 사용"
   ]
  },
  {
   "cell_type": "code",
   "execution_count": 55,
   "metadata": {},
   "outputs": [
    {
     "data": {
      "text/plain": [
       "0   2023-09-09\n",
       "1   2023-09-09\n",
       "2   2023-09-09\n",
       "3   2023-09-09\n",
       "4   2023-09-09\n",
       "Name: 정밀검사일자, dtype: datetime64[ns]"
      ]
     },
     "execution_count": 55,
     "metadata": {},
     "output_type": "execute_result"
    }
   ],
   "source": [
    "eetr['정밀검사일자'].head()"
   ]
  },
  {
   "cell_type": "code",
   "execution_count": 56,
   "metadata": {},
   "outputs": [
    {
     "data": {
      "text/plain": [
       "(69423, 24)"
      ]
     },
     "execution_count": 56,
     "metadata": {},
     "output_type": "execute_result"
    }
   ],
   "source": [
    "# 3.0s\n",
    "eetr = eetr[eetr['정밀검사일자'] >= '2022-01-01'].reset_index(drop=True)\n",
    "eetr.shape"
   ]
  },
  {
   "cell_type": "code",
   "execution_count": 57,
   "metadata": {},
   "outputs": [
    {
     "data": {
      "text/plain": [
       "0"
      ]
     },
     "execution_count": 57,
     "metadata": {},
     "output_type": "execute_result"
    }
   ],
   "source": [
    "eetr['차대번호'].isnull().sum()"
   ]
  },
  {
   "cell_type": "markdown",
   "metadata": {},
   "source": [
    "## 원격&차량제원"
   ]
  },
  {
   "cell_type": "code",
   "execution_count": 58,
   "metadata": {},
   "outputs": [
    {
     "data": {
      "text/plain": [
       "(398673, 15)"
      ]
     },
     "execution_count": 58,
     "metadata": {},
     "output_type": "execute_result"
    }
   ],
   "source": [
    "rsdr.shape"
   ]
  },
  {
   "cell_type": "code",
   "execution_count": 59,
   "metadata": {},
   "outputs": [
    {
     "data": {
      "text/plain": [
       "Index(['측정날짜', '측정시간', '기록상태', '유효', '속도', '가속도', '플래그', 'VSP', '매연', '차량번호',\n",
       "       '차선번호', '풍속', '습도', '온도', '측정장소코드'],\n",
       "      dtype='object')"
      ]
     },
     "execution_count": 59,
     "metadata": {},
     "output_type": "execute_result"
    }
   ],
   "source": [
    "rsdr.columns"
   ]
  },
  {
   "cell_type": "code",
   "execution_count": 61,
   "metadata": {},
   "outputs": [
    {
     "data": {
      "text/plain": [
       "Index(['차량번호', '연료', '연식', '배기량', '차종', '총중량', '엔진형식', '등급', '차대번호', '차명',\n",
       "       '폐차여부'],\n",
       "      dtype='object')"
      ]
     },
     "execution_count": 61,
     "metadata": {},
     "output_type": "execute_result"
    }
   ],
   "source": [
    "csn.columns"
   ]
  },
  {
   "cell_type": "code",
   "execution_count": 62,
   "metadata": {},
   "outputs": [
    {
     "data": {
      "text/plain": [
       "(398673, 25)"
      ]
     },
     "execution_count": 62,
     "metadata": {},
     "output_type": "execute_result"
    }
   ],
   "source": [
    "# 0.3s\n",
    "rcs = rsdr.merge(csn, on='차량번호', how='left')\n",
    "rcs.shape"
   ]
  },
  {
   "cell_type": "code",
   "execution_count": 63,
   "metadata": {},
   "outputs": [
    {
     "data": {
      "text/plain": [
       "차량번호         0\n",
       "차대번호    141953\n",
       "연료      142006\n",
       "dtype: int64"
      ]
     },
     "execution_count": 63,
     "metadata": {},
     "output_type": "execute_result"
    }
   ],
   "source": [
    "rcs[['차량번호', '차대번호', '연료']].isnull().sum()"
   ]
  },
  {
   "cell_type": "code",
   "execution_count": 64,
   "metadata": {},
   "outputs": [
    {
     "data": {
      "text/plain": [
       "(13462,)"
      ]
     },
     "execution_count": 64,
     "metadata": {},
     "output_type": "execute_result"
    }
   ],
   "source": [
    "rcs.loc[(rcs['차대번호'].isnull() == True) & (rcs['차량번호'] != '********'), '차량번호'].shape"
   ]
  },
  {
   "cell_type": "code",
   "execution_count": 65,
   "metadata": {},
   "outputs": [
    {
     "data": {
      "text/plain": [
       "15     300어6239\n",
       "35      88러5142\n",
       "53    경기06초5230\n",
       "54    경기06초5230\n",
       "61      08고8877\n",
       "Name: 차량번호, dtype: object"
      ]
     },
     "execution_count": 65,
     "metadata": {},
     "output_type": "execute_result"
    }
   ],
   "source": [
    "rcs.loc[(rcs['차대번호'].isnull() == True) & (rcs['차량번호'] != '********'), '차량번호'].head()"
   ]
  },
  {
   "cell_type": "code",
   "execution_count": 66,
   "metadata": {},
   "outputs": [
    {
     "data": {
      "text/html": [
       "<div>\n",
       "<style scoped>\n",
       "    .dataframe tbody tr th:only-of-type {\n",
       "        vertical-align: middle;\n",
       "    }\n",
       "\n",
       "    .dataframe tbody tr th {\n",
       "        vertical-align: top;\n",
       "    }\n",
       "\n",
       "    .dataframe thead th {\n",
       "        text-align: right;\n",
       "    }\n",
       "</style>\n",
       "<table border=\"1\" class=\"dataframe\">\n",
       "  <thead>\n",
       "    <tr style=\"text-align: right;\">\n",
       "      <th></th>\n",
       "      <th>측정날짜</th>\n",
       "      <th>측정시간</th>\n",
       "      <th>기록상태</th>\n",
       "      <th>유효</th>\n",
       "      <th>속도</th>\n",
       "      <th>가속도</th>\n",
       "      <th>플래그</th>\n",
       "      <th>VSP</th>\n",
       "      <th>매연</th>\n",
       "      <th>차량번호</th>\n",
       "      <th>차선번호</th>\n",
       "      <th>풍속</th>\n",
       "      <th>습도</th>\n",
       "      <th>온도</th>\n",
       "      <th>측정장소코드</th>\n",
       "    </tr>\n",
       "  </thead>\n",
       "  <tbody>\n",
       "    <tr>\n",
       "      <th>15</th>\n",
       "      <td>2022-10-04</td>\n",
       "      <td>10:35:19</td>\n",
       "      <td>N</td>\n",
       "      <td>V</td>\n",
       "      <td>54.40</td>\n",
       "      <td>0.00</td>\n",
       "      <td>V</td>\n",
       "      <td>12.82</td>\n",
       "      <td>0.60</td>\n",
       "      <td>300어6239</td>\n",
       "      <td>NaN</td>\n",
       "      <td>NaN</td>\n",
       "      <td>NaN</td>\n",
       "      <td>0.00</td>\n",
       "      <td>NaN</td>\n",
       "    </tr>\n",
       "  </tbody>\n",
       "</table>\n",
       "</div>"
      ],
      "text/plain": [
       "         측정날짜      측정시간 기록상태 유효    속도  가속도 플래그   VSP   매연      차량번호  차선번호  풍속  \\\n",
       "15 2022-10-04  10:35:19    N  V 54.40 0.00   V 12.82 0.60  300어6239   NaN NaN   \n",
       "\n",
       "    습도   온도 측정장소코드  \n",
       "15 NaN 0.00    NaN  "
      ]
     },
     "execution_count": 66,
     "metadata": {},
     "output_type": "execute_result"
    }
   ],
   "source": [
    "rsdr[rsdr['차량번호'] == '300어6239']"
   ]
  },
  {
   "cell_type": "code",
   "execution_count": 67,
   "metadata": {},
   "outputs": [
    {
     "data": {
      "text/html": [
       "<div>\n",
       "<style scoped>\n",
       "    .dataframe tbody tr th:only-of-type {\n",
       "        vertical-align: middle;\n",
       "    }\n",
       "\n",
       "    .dataframe tbody tr th {\n",
       "        vertical-align: top;\n",
       "    }\n",
       "\n",
       "    .dataframe thead th {\n",
       "        text-align: right;\n",
       "    }\n",
       "</style>\n",
       "<table border=\"1\" class=\"dataframe\">\n",
       "  <thead>\n",
       "    <tr style=\"text-align: right;\">\n",
       "      <th></th>\n",
       "      <th>차량번호</th>\n",
       "      <th>연료</th>\n",
       "      <th>연식</th>\n",
       "      <th>배기량</th>\n",
       "      <th>차종</th>\n",
       "      <th>총중량</th>\n",
       "      <th>엔진형식</th>\n",
       "      <th>등급</th>\n",
       "      <th>차대번호</th>\n",
       "      <th>차명</th>\n",
       "      <th>폐차여부</th>\n",
       "    </tr>\n",
       "  </thead>\n",
       "  <tbody>\n",
       "    <tr>\n",
       "      <th>143382</th>\n",
       "      <td>300어6239</td>\n",
       "      <td>NaN</td>\n",
       "      <td>NaN</td>\n",
       "      <td>NaN</td>\n",
       "      <td>NaN</td>\n",
       "      <td>NaN</td>\n",
       "      <td>NaN</td>\n",
       "      <td>NaN</td>\n",
       "      <td>NaN</td>\n",
       "      <td>NaN</td>\n",
       "      <td>NaN</td>\n",
       "    </tr>\n",
       "  </tbody>\n",
       "</table>\n",
       "</div>"
      ],
      "text/plain": [
       "            차량번호   연료  연식  배기량   차종  총중량 엔진형식   등급 차대번호   차명 폐차여부\n",
       "143382  300어6239  NaN NaN  NaN  NaN  NaN  NaN  NaN  NaN  NaN  NaN"
      ]
     },
     "execution_count": 67,
     "metadata": {},
     "output_type": "execute_result"
    }
   ],
   "source": [
    "cs[cs['차량번호'] == '300어6239']"
   ]
  },
  {
   "cell_type": "code",
   "execution_count": 68,
   "metadata": {},
   "outputs": [
    {
     "data": {
      "text/plain": [
       "(398673, 136670)"
      ]
     },
     "execution_count": 68,
     "metadata": {},
     "output_type": "execute_result"
    }
   ],
   "source": [
    "rcs.shape[0], len(rcs['차대번호'].unique())"
   ]
  },
  {
   "cell_type": "markdown",
   "metadata": {},
   "source": [
    "## 원격&차량제원&정밀"
   ]
  },
  {
   "cell_type": "code",
   "execution_count": 69,
   "metadata": {},
   "outputs": [
    {
     "data": {
      "text/plain": [
       "(398673, 25)"
      ]
     },
     "execution_count": 69,
     "metadata": {},
     "output_type": "execute_result"
    }
   ],
   "source": [
    "rcs.shape"
   ]
  },
  {
   "cell_type": "code",
   "execution_count": 70,
   "metadata": {},
   "outputs": [
    {
     "data": {
      "text/plain": [
       "(69423, 24)"
      ]
     },
     "execution_count": 70,
     "metadata": {},
     "output_type": "execute_result"
    }
   ],
   "source": [
    "eetr.shape"
   ]
  },
  {
   "cell_type": "code",
   "execution_count": 74,
   "metadata": {},
   "outputs": [
    {
     "data": {
      "text/plain": [
       "Index(['측정날짜', '측정시간', '기록상태', '유효', '속도', '가속도', '플래그', 'VSP', '매연', '차량번호',\n",
       "       '차선번호', '풍속', '습도', '온도', '측정장소코드', '연료', '연식', '배기량', '차종', '총중량',\n",
       "       '엔진형식', '등급', '차대번호', '차명', '폐차여부'],\n",
       "      dtype='object')"
      ]
     },
     "execution_count": 74,
     "metadata": {},
     "output_type": "execute_result"
    }
   ],
   "source": [
    "rcs.columns"
   ]
  },
  {
   "cell_type": "code",
   "execution_count": 75,
   "metadata": {},
   "outputs": [
    {
     "data": {
      "text/plain": [
       "Index(['차대번호', '정밀검사일자', '정밀검사종류', '관능검사판정', '정밀검사판정', '정밀검사측정방법', '무부하매연측정치1',\n",
       "       '무부하매연허용치1', '무부하매연판정1', '무부하매연측정치2', '무부하매연허용치2', '무부하매연판정2',\n",
       "       '무부하매연측정치3', '무부하매연허용치3', '무부하매연판정3', '무부하매연측정치4', '무부하매연허용치4',\n",
       "       '무부하매연판정4', '무부하매연측정치5', '무부하매연허용치5', '무부하매연판정5', '무부하매연측정치6',\n",
       "       '무부하매연허용치6', '무부하매연판정6'],\n",
       "      dtype='object')"
      ]
     },
     "execution_count": 75,
     "metadata": {},
     "output_type": "execute_result"
    }
   ],
   "source": [
    "eetr.columns"
   ]
  },
  {
   "cell_type": "code",
   "execution_count": 76,
   "metadata": {},
   "outputs": [
    {
     "data": {
      "text/plain": [
       "0"
      ]
     },
     "execution_count": 76,
     "metadata": {},
     "output_type": "execute_result"
    }
   ],
   "source": [
    "eetr['정밀검사일자'].isnull().sum()"
   ]
  },
  {
   "cell_type": "code",
   "execution_count": 77,
   "metadata": {},
   "outputs": [
    {
     "data": {
      "text/plain": [
       "(398673, 48)"
      ]
     },
     "execution_count": 77,
     "metadata": {},
     "output_type": "execute_result"
    }
   ],
   "source": [
    "# 38.8s\n",
    "rcse = rcs.merge(eetr, on='차대번호', how='left')\n",
    "rcse.shape"
   ]
  },
  {
   "cell_type": "code",
   "execution_count": 78,
   "metadata": {},
   "outputs": [
    {
     "data": {
      "text/plain": [
       "차량번호           0\n",
       "연료        142006\n",
       "정밀검사일자    273704\n",
       "dtype: int64"
      ]
     },
     "execution_count": 78,
     "metadata": {},
     "output_type": "execute_result"
    }
   ],
   "source": [
    "rcse[['차량번호', '연료', '정밀검사일자']].isnull().sum()"
   ]
  },
  {
   "cell_type": "markdown",
   "metadata": {},
   "source": [
    "### [출력] 원격&제원&정밀"
   ]
  },
  {
   "cell_type": "code",
   "execution_count": 79,
   "metadata": {},
   "outputs": [
    {
     "data": {
      "text/plain": [
       "'20231004'"
      ]
     },
     "execution_count": 79,
     "metadata": {},
     "output_type": "execute_result"
    }
   ],
   "source": [
    "today_date = datetime.today().strftime(\"%Y%m%d\")\n",
    "today_date"
   ]
  },
  {
   "cell_type": "code",
   "execution_count": 80,
   "metadata": {},
   "outputs": [
    {
     "data": {
      "text/plain": [
       "Index(['측정날짜', '측정시간', '기록상태', '유효', '속도', '가속도', '플래그', 'VSP', '매연', '차량번호',\n",
       "       '차선번호', '풍속', '습도', '온도', '측정장소코드', '연료', '연식', '배기량', '차종', '총중량',\n",
       "       '엔진형식', '등급', '차대번호', '차명', '폐차여부', '정밀검사일자', '정밀검사종류', '관능검사판정',\n",
       "       '정밀검사판정', '정밀검사측정방법', '무부하매연측정치1', '무부하매연허용치1', '무부하매연판정1', '무부하매연측정치2',\n",
       "       '무부하매연허용치2', '무부하매연판정2', '무부하매연측정치3', '무부하매연허용치3', '무부하매연판정3',\n",
       "       '무부하매연측정치4', '무부하매연허용치4', '무부하매연판정4', '무부하매연측정치5', '무부하매연허용치5',\n",
       "       '무부하매연판정5', '무부하매연측정치6', '무부하매연허용치6', '무부하매연판정6'],\n",
       "      dtype='object')"
      ]
     },
     "execution_count": 80,
     "metadata": {},
     "output_type": "execute_result"
    }
   ],
   "source": [
    "rcse.columns"
   ]
  },
  {
   "cell_type": "code",
   "execution_count": 82,
   "metadata": {},
   "outputs": [
    {
     "data": {
      "text/plain": [
       "48"
      ]
     },
     "execution_count": 82,
     "metadata": {},
     "output_type": "execute_result"
    }
   ],
   "source": [
    "rcse_cols = [\n",
    "    # 원격측정정보\n",
    "    '측정날짜',\n",
    "    '측정시간',\n",
    "    '기록상태',\n",
    "    '유효',\n",
    "    '속도',\n",
    "    '가속도',\n",
    "    '플래그',\n",
    "    'VSP',\n",
    "    '매연',\n",
    "    '차량번호',\n",
    "    '차선번호',\n",
    "    '풍속',\n",
    "    '습도',\n",
    "    '온도',\n",
    "    '측정장소코드',\n",
    "    \n",
    "    # 제원정보\n",
    "    '연료', \n",
    "    '연식', \n",
    "    '배기량', \n",
    "    '차종', \n",
    "    '총중량',\n",
    "    '엔진형식', \n",
    "    '등급', \n",
    "    '차대번호', \n",
    "    '차명', \n",
    "    '폐차여부', \n",
    "    \n",
    "    # 정밀검사\n",
    "    '정밀검사일자', \n",
    "    '정밀검사종류', \n",
    "    '관능검사판정',\n",
    "    '정밀검사판정', \n",
    "    '정밀검사측정방법', \n",
    "    '무부하매연측정치1',  # CO(매연)\n",
    "    '무부하매연허용치1', \n",
    "    '무부하매연판정1', \n",
    "    '무부하매연측정치2',\n",
    "    '무부하매연허용치2', \n",
    "    '무부하매연판정2', \n",
    "    '무부하매연측정치3', # NOx \n",
    "    '무부하매연허용치3', \n",
    "    '무부하매연판정3',\n",
    "    '무부하매연측정치4', \n",
    "    '무부하매연허용치4', \n",
    "    '무부하매연판정4', \n",
    "    '무부하매연측정치5', \n",
    "    '무부하매연허용치5',\n",
    "    '무부하매연판정5', \n",
    "    '무부하매연측정치6', \n",
    "    '무부하매연허용치6', \n",
    "    '무부하매연판정6'\n",
    "    ]\n",
    "len(rcse_cols)"
   ]
  },
  {
   "cell_type": "code",
   "execution_count": 83,
   "metadata": {},
   "outputs": [
    {
     "name": "stdout",
     "output_type": "stream",
     "text": [
      "원격_차량제원_정밀(20231004).csv 출력 완료.\n"
     ]
    }
   ],
   "source": [
    "# 10.6s\n",
    "file_name = f'원격_차량제원_정밀({today_date}).csv'\n",
    "rcse[rcse_cols].to_csv(os.path.join(raw_fold, file_name), index=False)\n",
    "print(f'{file_name} 출력 완료.')"
   ]
  },
  {
   "cell_type": "markdown",
   "metadata": {},
   "source": [
    "## 유효데이터만 추출\n",
    "- vdfRecordStatus = N\n",
    "- vdfValid = V\n",
    "- samFlag = V\n",
    "- 자동차등록번호 : nan, 오류 값(********) 제외\n",
    "- 매연 5% 초과 제외"
   ]
  },
  {
   "cell_type": "code",
   "execution_count": 84,
   "metadata": {},
   "outputs": [
    {
     "data": {
      "text/plain": [
       "NaN     280770\n",
       "2.00     47427\n",
       "1.00     38417\n",
       "3.00     32059\n",
       "Name: 차선번호, dtype: int64"
      ]
     },
     "execution_count": 84,
     "metadata": {},
     "output_type": "execute_result"
    }
   ],
   "source": [
    "rcse['차선번호'].value_counts(dropna=False)"
   ]
  },
  {
   "cell_type": "code",
   "execution_count": 85,
   "metadata": {},
   "outputs": [
    {
     "data": {
      "text/plain": [
       "279391   2023-08-14\n",
       "282205   2023-08-14\n",
       "282206   2023-08-14\n",
       "282207   2023-08-14\n",
       "282208   2023-08-14\n",
       "            ...    \n",
       "394859   2023-09-10\n",
       "394858   2023-09-10\n",
       "394857   2023-09-10\n",
       "394865   2023-09-10\n",
       "398663   2023-09-10\n",
       "Name: 측정날짜, Length: 117903, dtype: datetime64[ns]"
      ]
     },
     "execution_count": 85,
     "metadata": {},
     "output_type": "execute_result"
    }
   ],
   "source": [
    "rcse.loc[rcse['차선번호'].isnull() == False, '측정날짜'].sort_values()"
   ]
  },
  {
   "cell_type": "code",
   "execution_count": 86,
   "metadata": {},
   "outputs": [
    {
     "name": "stderr",
     "output_type": "stream",
     "text": [
      "C:\\Users\\kbjung\\AppData\\Local\\Temp\\ipykernel_20140\\3811848111.py:2: SettingWithCopyWarning: \n",
      "A value is trying to be set on a copy of a slice from a DataFrame.\n",
      "Try using .loc[row_indexer,col_indexer] = value instead\n",
      "\n",
      "See the caveats in the documentation: https://pandas.pydata.org/pandas-docs/stable/user_guide/indexing.html#returning-a-view-versus-a-copy\n",
      "  temp['측정날짜'] = pd.to_datetime(temp['측정날짜'], errors='coerce')\n"
     ]
    }
   ],
   "source": [
    "temp = rcse.loc[rcse['차선번호'].isnull() == False]\n",
    "temp['측정날짜'] = pd.to_datetime(temp['측정날짜'], errors='coerce')"
   ]
  },
  {
   "cell_type": "code",
   "execution_count": 87,
   "metadata": {},
   "outputs": [
    {
     "name": "stderr",
     "output_type": "stream",
     "text": [
      "C:\\Users\\kbjung\\AppData\\Local\\Temp\\ipykernel_20140\\2014358724.py:1: FutureWarning: Treating datetime data as categorical rather than numeric in `.describe` is deprecated and will be removed in a future version of pandas. Specify `datetime_is_numeric=True` to silence this warning and adopt the future behavior now.\n",
      "  temp['측정날짜'].describe()\n"
     ]
    },
    {
     "data": {
      "text/plain": [
       "count                  117903\n",
       "unique                     22\n",
       "top       2023-08-31 00:00:00\n",
       "freq                     8673\n",
       "first     2023-08-14 00:00:00\n",
       "last      2023-09-10 00:00:00\n",
       "Name: 측정날짜, dtype: object"
      ]
     },
     "execution_count": 87,
     "metadata": {},
     "output_type": "execute_result"
    }
   ],
   "source": [
    "temp['측정날짜'].describe()"
   ]
  },
  {
   "cell_type": "code",
   "execution_count": 88,
   "metadata": {},
   "outputs": [
    {
     "data": {
      "text/plain": [
       "Index(['측정날짜', '측정시간', '기록상태', '유효', '속도', '가속도', '플래그', 'VSP', '매연', '차량번호',\n",
       "       '차선번호', '풍속', '습도', '온도', '측정장소코드', '연료', '연식', '배기량', '차종', '총중량',\n",
       "       '엔진형식', '등급', '차대번호', '차명', '폐차여부', '정밀검사일자', '정밀검사종류', '관능검사판정',\n",
       "       '정밀검사판정', '정밀검사측정방법', '무부하매연측정치1', '무부하매연허용치1', '무부하매연판정1', '무부하매연측정치2',\n",
       "       '무부하매연허용치2', '무부하매연판정2', '무부하매연측정치3', '무부하매연허용치3', '무부하매연판정3',\n",
       "       '무부하매연측정치4', '무부하매연허용치4', '무부하매연판정4', '무부하매연측정치5', '무부하매연허용치5',\n",
       "       '무부하매연판정5', '무부하매연측정치6', '무부하매연허용치6', '무부하매연판정6'],\n",
       "      dtype='object')"
      ]
     },
     "execution_count": 88,
     "metadata": {},
     "output_type": "execute_result"
    }
   ],
   "source": [
    "rcse.columns"
   ]
  },
  {
   "cell_type": "code",
   "execution_count": 89,
   "metadata": {},
   "outputs": [
    {
     "data": {
      "text/plain": [
       "0    60저3406\n",
       "1    41구0483\n",
       "2    80러0579\n",
       "3    94누0128\n",
       "4    60수4386\n",
       "Name: 차량번호, dtype: object"
      ]
     },
     "execution_count": 89,
     "metadata": {},
     "output_type": "execute_result"
    }
   ],
   "source": [
    "rcse['차량번호'].head()"
   ]
  },
  {
   "cell_type": "code",
   "execution_count": 90,
   "metadata": {},
   "outputs": [
    {
     "data": {
      "text/plain": [
       "((398673, 48), 145008)"
      ]
     },
     "execution_count": 90,
     "metadata": {},
     "output_type": "execute_result"
    }
   ],
   "source": [
    "rcse.shape, len(rcse['차량번호'].unique())"
   ]
  },
  {
   "cell_type": "code",
   "execution_count": 91,
   "metadata": {},
   "outputs": [
    {
     "data": {
      "text/plain": [
       "0"
      ]
     },
     "execution_count": 91,
     "metadata": {},
     "output_type": "execute_result"
    }
   ],
   "source": [
    "rcse['차량번호'].isnull().sum()"
   ]
  },
  {
   "cell_type": "code",
   "execution_count": 92,
   "metadata": {},
   "outputs": [
    {
     "data": {
      "text/plain": [
       "(128491, 48)"
      ]
     },
     "execution_count": 92,
     "metadata": {},
     "output_type": "execute_result"
    }
   ],
   "source": [
    "rcse[rcse['차량번호'] == '********'].shape"
   ]
  },
  {
   "cell_type": "code",
   "execution_count": 93,
   "metadata": {},
   "outputs": [
    {
     "data": {
      "text/plain": [
       "N    394679\n",
       "A      2617\n",
       "C      1377\n",
       "Name: 기록상태, dtype: int64"
      ]
     },
     "execution_count": 93,
     "metadata": {},
     "output_type": "execute_result"
    }
   ],
   "source": [
    "# N : 일반데이터, C : 교정 중 측정된자료, A : Audit데이터(표준필터 측정값)\n",
    "rcse['기록상태'].value_counts(dropna=False)"
   ]
  },
  {
   "cell_type": "code",
   "execution_count": 94,
   "metadata": {},
   "outputs": [
    {
     "data": {
      "text/plain": [
       "V    397284\n",
       "x      1389\n",
       "Name: 유효, dtype: int64"
      ]
     },
     "execution_count": 94,
     "metadata": {},
     "output_type": "execute_result"
    }
   ],
   "source": [
    "# V : 일반데이터, x : 교정중\n",
    "rcse['유효'].value_counts(dropna=False)"
   ]
  },
  {
   "cell_type": "code",
   "execution_count": 95,
   "metadata": {},
   "outputs": [
    {
     "data": {
      "text/plain": [
       "V      367634\n",
       "x       27638\n",
       "NaN      3401\n",
       "Name: 플래그, dtype: int64"
      ]
     },
     "execution_count": 95,
     "metadata": {},
     "output_type": "execute_result"
    }
   ],
   "source": [
    "# V : 일반데이터, x : 교정중\n",
    "rcse['플래그'].value_counts(dropna=False)"
   ]
  },
  {
   "cell_type": "code",
   "execution_count": 96,
   "metadata": {},
   "outputs": [
    {
     "data": {
      "text/html": [
       "<div>\n",
       "<style scoped>\n",
       "    .dataframe tbody tr th:only-of-type {\n",
       "        vertical-align: middle;\n",
       "    }\n",
       "\n",
       "    .dataframe tbody tr th {\n",
       "        vertical-align: top;\n",
       "    }\n",
       "\n",
       "    .dataframe thead th {\n",
       "        text-align: right;\n",
       "    }\n",
       "</style>\n",
       "<table border=\"1\" class=\"dataframe\">\n",
       "  <thead>\n",
       "    <tr style=\"text-align: right;\">\n",
       "      <th></th>\n",
       "      <th>속도</th>\n",
       "      <th>가속도</th>\n",
       "      <th>매연</th>\n",
       "    </tr>\n",
       "  </thead>\n",
       "  <tbody>\n",
       "    <tr>\n",
       "      <th>count</th>\n",
       "      <td>395272.00</td>\n",
       "      <td>395272.00</td>\n",
       "      <td>398673.00</td>\n",
       "    </tr>\n",
       "    <tr>\n",
       "      <th>mean</th>\n",
       "      <td>61.70</td>\n",
       "      <td>-0.49</td>\n",
       "      <td>1.22</td>\n",
       "    </tr>\n",
       "    <tr>\n",
       "      <th>std</th>\n",
       "      <td>25.31</td>\n",
       "      <td>3.66</td>\n",
       "      <td>6.34</td>\n",
       "    </tr>\n",
       "    <tr>\n",
       "      <th>min</th>\n",
       "      <td>0.00</td>\n",
       "      <td>-325.50</td>\n",
       "      <td>0.00</td>\n",
       "    </tr>\n",
       "    <tr>\n",
       "      <th>25%</th>\n",
       "      <td>54.36</td>\n",
       "      <td>-1.08</td>\n",
       "      <td>0.00</td>\n",
       "    </tr>\n",
       "    <tr>\n",
       "      <th>50%</th>\n",
       "      <td>64.44</td>\n",
       "      <td>-0.36</td>\n",
       "      <td>0.40</td>\n",
       "    </tr>\n",
       "    <tr>\n",
       "      <th>75%</th>\n",
       "      <td>74.52</td>\n",
       "      <td>0.00</td>\n",
       "      <td>0.90</td>\n",
       "    </tr>\n",
       "    <tr>\n",
       "      <th>max</th>\n",
       "      <td>2964.70</td>\n",
       "      <td>314.10</td>\n",
       "      <td>1024.20</td>\n",
       "    </tr>\n",
       "  </tbody>\n",
       "</table>\n",
       "</div>"
      ],
      "text/plain": [
       "             속도       가속도        매연\n",
       "count 395272.00 395272.00 398673.00\n",
       "mean      61.70     -0.49      1.22\n",
       "std       25.31      3.66      6.34\n",
       "min        0.00   -325.50      0.00\n",
       "25%       54.36     -1.08      0.00\n",
       "50%       64.44     -0.36      0.40\n",
       "75%       74.52      0.00      0.90\n",
       "max     2964.70    314.10   1024.20"
      ]
     },
     "execution_count": 96,
     "metadata": {},
     "output_type": "execute_result"
    }
   ],
   "source": [
    "rcse[['속도', '가속도', '매연']].describe()"
   ]
  },
  {
   "cell_type": "code",
   "execution_count": 97,
   "metadata": {},
   "outputs": [
    {
     "data": {
      "text/plain": [
       "V    394542\n",
       "x       137\n",
       "Name: 유효, dtype: int64"
      ]
     },
     "execution_count": 97,
     "metadata": {},
     "output_type": "execute_result"
    }
   ],
   "source": [
    "rcse.loc[rcse['기록상태'] == 'N', '유효'].value_counts(dropna=False)"
   ]
  },
  {
   "cell_type": "code",
   "execution_count": 98,
   "metadata": {},
   "outputs": [
    {
     "data": {
      "text/plain": [
       "V    367091\n",
       "x     27588\n",
       "Name: 플래그, dtype: int64"
      ]
     },
     "execution_count": 98,
     "metadata": {},
     "output_type": "execute_result"
    }
   ],
   "source": [
    "rcse.loc[rcse['기록상태'] == 'N', '플래그'].value_counts(dropna=False)"
   ]
  },
  {
   "cell_type": "code",
   "execution_count": 99,
   "metadata": {},
   "outputs": [
    {
     "data": {
      "text/plain": [
       "count   398673.00\n",
       "mean         1.22\n",
       "std          6.34\n",
       "min          0.00\n",
       "25%          0.00\n",
       "50%          0.40\n",
       "75%          0.90\n",
       "max       1024.20\n",
       "Name: 매연, dtype: float64"
      ]
     },
     "execution_count": 99,
     "metadata": {},
     "output_type": "execute_result"
    }
   ],
   "source": [
    "rcse['매연'].describe()"
   ]
  },
  {
   "cell_type": "code",
   "execution_count": 100,
   "metadata": {},
   "outputs": [
    {
     "data": {
      "text/plain": [
       "(398673, 48)"
      ]
     },
     "execution_count": 100,
     "metadata": {},
     "output_type": "execute_result"
    }
   ],
   "source": [
    "rcse.shape"
   ]
  },
  {
   "cell_type": "code",
   "execution_count": 101,
   "metadata": {},
   "outputs": [
    {
     "data": {
      "text/plain": [
       "(252257, 48)"
      ]
     },
     "execution_count": 101,
     "metadata": {},
     "output_type": "execute_result"
    }
   ],
   "source": [
    "# vdfRecordStatus = N, vdfValid = V, samFlag = V, 차량번호 : nan, 오류 값(********) 제외, 매연 5% 초과 제외\n",
    "df = rcse[(rcse['기록상태'] == 'N') & (rcse['유효'] == 'V') & (rcse['플래그'] == 'V') & (rcse['차량번호'] != '********') & (rcse['차량번호'].isnull() == False) & (rcse['매연'] <= 5) & (rcse['매연'] >= 0)].reset_index(drop=True)\n",
    "df.shape"
   ]
  },
  {
   "cell_type": "code",
   "execution_count": 102,
   "metadata": {},
   "outputs": [
    {
     "data": {
      "text/html": [
       "<div>\n",
       "<style scoped>\n",
       "    .dataframe tbody tr th:only-of-type {\n",
       "        vertical-align: middle;\n",
       "    }\n",
       "\n",
       "    .dataframe tbody tr th {\n",
       "        vertical-align: top;\n",
       "    }\n",
       "\n",
       "    .dataframe thead th {\n",
       "        text-align: right;\n",
       "    }\n",
       "</style>\n",
       "<table border=\"1\" class=\"dataframe\">\n",
       "  <thead>\n",
       "    <tr style=\"text-align: right;\">\n",
       "      <th></th>\n",
       "      <th>속도</th>\n",
       "      <th>가속도</th>\n",
       "      <th>매연</th>\n",
       "    </tr>\n",
       "  </thead>\n",
       "  <tbody>\n",
       "    <tr>\n",
       "      <th>count</th>\n",
       "      <td>252257.00</td>\n",
       "      <td>252257.00</td>\n",
       "      <td>252257.00</td>\n",
       "    </tr>\n",
       "    <tr>\n",
       "      <th>mean</th>\n",
       "      <td>66.47</td>\n",
       "      <td>-0.51</td>\n",
       "      <td>0.64</td>\n",
       "    </tr>\n",
       "    <tr>\n",
       "      <th>std</th>\n",
       "      <td>14.86</td>\n",
       "      <td>1.05</td>\n",
       "      <td>0.75</td>\n",
       "    </tr>\n",
       "    <tr>\n",
       "      <th>min</th>\n",
       "      <td>1.00</td>\n",
       "      <td>-25.00</td>\n",
       "      <td>0.00</td>\n",
       "    </tr>\n",
       "    <tr>\n",
       "      <th>25%</th>\n",
       "      <td>57.24</td>\n",
       "      <td>-1.08</td>\n",
       "      <td>0.10</td>\n",
       "    </tr>\n",
       "    <tr>\n",
       "      <th>50%</th>\n",
       "      <td>66.24</td>\n",
       "      <td>-0.36</td>\n",
       "      <td>0.40</td>\n",
       "    </tr>\n",
       "    <tr>\n",
       "      <th>75%</th>\n",
       "      <td>75.96</td>\n",
       "      <td>0.00</td>\n",
       "      <td>0.90</td>\n",
       "    </tr>\n",
       "    <tr>\n",
       "      <th>max</th>\n",
       "      <td>119.88</td>\n",
       "      <td>25.00</td>\n",
       "      <td>5.00</td>\n",
       "    </tr>\n",
       "  </tbody>\n",
       "</table>\n",
       "</div>"
      ],
      "text/plain": [
       "             속도       가속도        매연\n",
       "count 252257.00 252257.00 252257.00\n",
       "mean      66.47     -0.51      0.64\n",
       "std       14.86      1.05      0.75\n",
       "min        1.00    -25.00      0.00\n",
       "25%       57.24     -1.08      0.10\n",
       "50%       66.24     -0.36      0.40\n",
       "75%       75.96      0.00      0.90\n",
       "max      119.88     25.00      5.00"
      ]
     },
     "execution_count": 102,
     "metadata": {},
     "output_type": "execute_result"
    }
   ],
   "source": [
    "df[['속도', '가속도', '매연']].describe()"
   ]
  },
  {
   "cell_type": "markdown",
   "metadata": {},
   "source": [
    "### [출력] 유효데이터"
   ]
  },
  {
   "cell_type": "code",
   "execution_count": 103,
   "metadata": {},
   "outputs": [
    {
     "name": "stdout",
     "output_type": "stream",
     "text": [
      "유효데이터(원격_차량제원_정밀)(20231004).csv 출력 완료.\n"
     ]
    }
   ],
   "source": [
    "# # 8.0s\n",
    "# file_name = f'유효데이터(원격_차량제원_정밀)({today_date}).csv'\n",
    "# df.to_csv(os.path.join(raw_fold, file_name), index=False)\n",
    "# print(f'{file_name} 출력 완료.')"
   ]
  },
  {
   "cell_type": "markdown",
   "metadata": {},
   "source": [
    "# Load csv"
   ]
  },
  {
   "cell_type": "markdown",
   "metadata": {},
   "source": [
    "## [로드] 원격&차량제원&정밀"
   ]
  },
  {
   "cell_type": "code",
   "execution_count": 125,
   "metadata": {},
   "outputs": [],
   "source": [
    "start_time = time.time()"
   ]
  },
  {
   "cell_type": "code",
   "execution_count": 126,
   "metadata": {},
   "outputs": [
    {
     "name": "stdout",
     "output_type": "stream",
     "text": [
      "<class 'pandas.core.frame.DataFrame'>\n",
      "RangeIndex: 398673 entries, 0 to 398672\n",
      "Data columns (total 48 columns):\n",
      " #   Column     Non-Null Count   Dtype  \n",
      "---  ------     --------------   -----  \n",
      " 0   측정날짜       398673 non-null  object \n",
      " 1   측정시간       398673 non-null  object \n",
      " 2   기록상태       398673 non-null  object \n",
      " 3   유효         398673 non-null  object \n",
      " 4   속도         395272 non-null  float64\n",
      " 5   가속도        395272 non-null  float64\n",
      " 6   플래그        395272 non-null  object \n",
      " 7   VSP        395272 non-null  float64\n",
      " 8   매연         398673 non-null  float64\n",
      " 9   차량번호       398673 non-null  object \n",
      " 10  차선번호       117903 non-null  float64\n",
      " 11  풍속         26712 non-null   float64\n",
      " 12  습도         99951 non-null   float64\n",
      " 13  온도         398649 non-null  float64\n",
      " 14  측정장소코드     150 non-null     object \n",
      " 15  연료         256667 non-null  object \n",
      " 16  연식         256720 non-null  float64\n",
      " 17  배기량        256670 non-null  float64\n",
      " 18  차종         256720 non-null  object \n",
      " 19  총중량        256720 non-null  float64\n",
      " 20  엔진형식       256691 non-null  object \n",
      " 21  등급         256720 non-null  object \n",
      " 22  차대번호       256720 non-null  object \n",
      " 23  차명         256720 non-null  object \n",
      " 24  폐차여부       256720 non-null  object \n",
      " 25  정밀검사일자     124969 non-null  object \n",
      " 26  정밀검사종류     124969 non-null  object \n",
      " 27  관능검사판정     124969 non-null  object \n",
      " 28  정밀검사판정     124969 non-null  object \n",
      " 29  정밀검사측정방법   124969 non-null  object \n",
      " 30  무부하매연측정치1  124143 non-null  float64\n",
      " 31  무부하매연허용치1  124143 non-null  float64\n",
      " 32  무부하매연판정1   124143 non-null  object \n",
      " 33  무부하매연측정치2  98308 non-null   float64\n",
      " 34  무부하매연허용치2  93508 non-null   float64\n",
      " 35  무부하매연판정2   72868 non-null   object \n",
      " 36  무부하매연측정치3  87869 non-null   float64\n",
      " 37  무부하매연허용치3  87869 non-null   float64\n",
      " 38  무부하매연판정3   63805 non-null   object \n",
      " 39  무부하매연측정치4  87868 non-null   float64\n",
      " 40  무부하매연허용치4  87868 non-null   float64\n",
      " 41  무부하매연판정4   63800 non-null   object \n",
      " 42  무부하매연측정치5  87868 non-null   float64\n",
      " 43  무부하매연허용치5  87868 non-null   float64\n",
      " 44  무부하매연판정5   63800 non-null   object \n",
      " 45  무부하매연측정치6  85611 non-null   float64\n",
      " 46  무부하매연허용치6  85611 non-null   float64\n",
      " 47  무부하매연판정6   58563 non-null   object \n",
      "dtypes: float64(23), object(25)\n",
      "memory usage: 146.0+ MB\n"
     ]
    }
   ],
   "source": [
    "# 3.3s\n",
    "name = '원격_차량제원_정밀(20231004)'\n",
    "file_name = f'{name}.csv'\n",
    "rcse = pd.read_csv(os.path.join(raw_fold, file_name), low_memory=False)\n",
    "rcse.info()"
   ]
  },
  {
   "cell_type": "markdown",
   "metadata": {},
   "source": [
    "## [로드] 유효데이터"
   ]
  },
  {
   "cell_type": "code",
   "execution_count": 127,
   "metadata": {},
   "outputs": [
    {
     "name": "stdout",
     "output_type": "stream",
     "text": [
      "<class 'pandas.core.frame.DataFrame'>\n",
      "RangeIndex: 252257 entries, 0 to 252256\n",
      "Data columns (total 48 columns):\n",
      " #   Column     Non-Null Count   Dtype  \n",
      "---  ------     --------------   -----  \n",
      " 0   측정날짜       252257 non-null  object \n",
      " 1   측정시간       252257 non-null  object \n",
      " 2   기록상태       252257 non-null  object \n",
      " 3   유효         252257 non-null  object \n",
      " 4   속도         252257 non-null  float64\n",
      " 5   가속도        252257 non-null  float64\n",
      " 6   플래그        252257 non-null  object \n",
      " 7   VSP        252257 non-null  float64\n",
      " 8   매연         252257 non-null  float64\n",
      " 9   차량번호       252257 non-null  object \n",
      " 10  차선번호       93271 non-null   float64\n",
      " 11  풍속         21849 non-null   float64\n",
      " 12  습도         80013 non-null   float64\n",
      " 13  온도         252257 non-null  float64\n",
      " 14  측정장소코드     53 non-null      object \n",
      " 15  연료         239988 non-null  object \n",
      " 16  연식         240024 non-null  float64\n",
      " 17  배기량        239991 non-null  float64\n",
      " 18  차종         240024 non-null  object \n",
      " 19  총중량        240024 non-null  float64\n",
      " 20  엔진형식       240002 non-null  object \n",
      " 21  등급         240024 non-null  object \n",
      " 22  차대번호       240024 non-null  object \n",
      " 23  차명         240024 non-null  object \n",
      " 24  폐차여부       240024 non-null  object \n",
      " 25  정밀검사일자     117246 non-null  object \n",
      " 26  정밀검사종류     117246 non-null  object \n",
      " 27  관능검사판정     117246 non-null  object \n",
      " 28  정밀검사판정     117246 non-null  object \n",
      " 29  정밀검사측정방법   117246 non-null  object \n",
      " 30  무부하매연측정치1  116466 non-null  float64\n",
      " 31  무부하매연허용치1  116466 non-null  float64\n",
      " 32  무부하매연판정1   116466 non-null  object \n",
      " 33  무부하매연측정치2  92339 non-null   float64\n",
      " 34  무부하매연허용치2  87812 non-null   float64\n",
      " 35  무부하매연판정2   68487 non-null   object \n",
      " 36  무부하매연측정치3  82546 non-null   float64\n",
      " 37  무부하매연허용치3  82546 non-null   float64\n",
      " 38  무부하매연판정3   60026 non-null   object \n",
      " 39  무부하매연측정치4  82545 non-null   float64\n",
      " 40  무부하매연허용치4  82545 non-null   float64\n",
      " 41  무부하매연판정4   60021 non-null   object \n",
      " 42  무부하매연측정치5  82545 non-null   float64\n",
      " 43  무부하매연허용치5  82545 non-null   float64\n",
      " 44  무부하매연판정5   60021 non-null   object \n",
      " 45  무부하매연측정치6  80556 non-null   float64\n",
      " 46  무부하매연허용치6  80556 non-null   float64\n",
      " 47  무부하매연판정6   55371 non-null   object \n",
      "dtypes: float64(23), object(25)\n",
      "memory usage: 92.4+ MB\n"
     ]
    }
   ],
   "source": [
    "# 2.3s\n",
    "name = '유효데이터(원격_차량제원_정밀)(20231004)'\n",
    "file_name = f'{name}.csv'\n",
    "df = pd.read_csv(os.path.join(raw_fold, file_name), low_memory=False)\n",
    "df.info()"
   ]
  },
  {
   "cell_type": "markdown",
   "metadata": {},
   "source": [
    "## Pre"
   ]
  },
  {
   "cell_type": "markdown",
   "metadata": {},
   "source": [
    "### 타입 변환"
   ]
  },
  {
   "cell_type": "code",
   "execution_count": 128,
   "metadata": {},
   "outputs": [
    {
     "data": {
      "text/plain": [
       "측정날짜      object\n",
       "정밀검사일자    object\n",
       "dtype: object"
      ]
     },
     "execution_count": 128,
     "metadata": {},
     "output_type": "execute_result"
    }
   ],
   "source": [
    "df[['측정날짜', '정밀검사일자']].dtypes"
   ]
  },
  {
   "cell_type": "code",
   "execution_count": 129,
   "metadata": {},
   "outputs": [
    {
     "data": {
      "text/plain": [
       "측정날짜           0\n",
       "정밀검사일자    135011\n",
       "dtype: int64"
      ]
     },
     "execution_count": 129,
     "metadata": {},
     "output_type": "execute_result"
    }
   ],
   "source": [
    "df[['측정날짜', '정밀검사일자']].isnull().sum()"
   ]
  },
  {
   "cell_type": "code",
   "execution_count": 130,
   "metadata": {},
   "outputs": [
    {
     "data": {
      "text/html": [
       "<div>\n",
       "<style scoped>\n",
       "    .dataframe tbody tr th:only-of-type {\n",
       "        vertical-align: middle;\n",
       "    }\n",
       "\n",
       "    .dataframe tbody tr th {\n",
       "        vertical-align: top;\n",
       "    }\n",
       "\n",
       "    .dataframe thead th {\n",
       "        text-align: right;\n",
       "    }\n",
       "</style>\n",
       "<table border=\"1\" class=\"dataframe\">\n",
       "  <thead>\n",
       "    <tr style=\"text-align: right;\">\n",
       "      <th></th>\n",
       "      <th>측정날짜</th>\n",
       "      <th>정밀검사일자</th>\n",
       "    </tr>\n",
       "  </thead>\n",
       "  <tbody>\n",
       "    <tr>\n",
       "      <th>0</th>\n",
       "      <td>2022-10-04</td>\n",
       "      <td>NaN</td>\n",
       "    </tr>\n",
       "    <tr>\n",
       "      <th>1</th>\n",
       "      <td>2022-10-04</td>\n",
       "      <td>2022-09-27</td>\n",
       "    </tr>\n",
       "    <tr>\n",
       "      <th>2</th>\n",
       "      <td>2022-10-04</td>\n",
       "      <td>2023-01-18</td>\n",
       "    </tr>\n",
       "    <tr>\n",
       "      <th>3</th>\n",
       "      <td>2022-10-04</td>\n",
       "      <td>2023-05-08</td>\n",
       "    </tr>\n",
       "    <tr>\n",
       "      <th>4</th>\n",
       "      <td>2022-10-04</td>\n",
       "      <td>2022-07-11</td>\n",
       "    </tr>\n",
       "  </tbody>\n",
       "</table>\n",
       "</div>"
      ],
      "text/plain": [
       "         측정날짜      정밀검사일자\n",
       "0  2022-10-04         NaN\n",
       "1  2022-10-04  2022-09-27\n",
       "2  2022-10-04  2023-01-18\n",
       "3  2022-10-04  2023-05-08\n",
       "4  2022-10-04  2022-07-11"
      ]
     },
     "execution_count": 130,
     "metadata": {},
     "output_type": "execute_result"
    }
   ],
   "source": [
    "df[['측정날짜', '정밀검사일자']].head()"
   ]
  },
  {
   "cell_type": "code",
   "execution_count": 131,
   "metadata": {},
   "outputs": [],
   "source": [
    "df['측정날짜'] = pd.to_datetime(df['측정날짜'])\n",
    "df['정밀검사일자'] = pd.to_datetime(df['정밀검사일자'], errors='coerce')"
   ]
  },
  {
   "cell_type": "code",
   "execution_count": 132,
   "metadata": {},
   "outputs": [
    {
     "data": {
      "text/plain": [
       "측정날짜      datetime64[ns]\n",
       "정밀검사일자    datetime64[ns]\n",
       "dtype: object"
      ]
     },
     "execution_count": 132,
     "metadata": {},
     "output_type": "execute_result"
    }
   ],
   "source": [
    "df[['측정날짜', '정밀검사일자']].dtypes"
   ]
  },
  {
   "cell_type": "code",
   "execution_count": 133,
   "metadata": {},
   "outputs": [
    {
     "data": {
      "text/plain": [
       "측정날짜           0\n",
       "정밀검사일자    135011\n",
       "dtype: int64"
      ]
     },
     "execution_count": 133,
     "metadata": {},
     "output_type": "execute_result"
    }
   ],
   "source": [
    "df[['측정날짜', '정밀검사일자']].isnull().sum()"
   ]
  },
  {
   "cell_type": "code",
   "execution_count": 134,
   "metadata": {},
   "outputs": [
    {
     "data": {
      "text/html": [
       "<div>\n",
       "<style scoped>\n",
       "    .dataframe tbody tr th:only-of-type {\n",
       "        vertical-align: middle;\n",
       "    }\n",
       "\n",
       "    .dataframe tbody tr th {\n",
       "        vertical-align: top;\n",
       "    }\n",
       "\n",
       "    .dataframe thead th {\n",
       "        text-align: right;\n",
       "    }\n",
       "</style>\n",
       "<table border=\"1\" class=\"dataframe\">\n",
       "  <thead>\n",
       "    <tr style=\"text-align: right;\">\n",
       "      <th></th>\n",
       "      <th>측정날짜</th>\n",
       "      <th>정밀검사일자</th>\n",
       "    </tr>\n",
       "  </thead>\n",
       "  <tbody>\n",
       "    <tr>\n",
       "      <th>0</th>\n",
       "      <td>2022-10-04</td>\n",
       "      <td>NaT</td>\n",
       "    </tr>\n",
       "    <tr>\n",
       "      <th>1</th>\n",
       "      <td>2022-10-04</td>\n",
       "      <td>2022-09-27</td>\n",
       "    </tr>\n",
       "    <tr>\n",
       "      <th>2</th>\n",
       "      <td>2022-10-04</td>\n",
       "      <td>2023-01-18</td>\n",
       "    </tr>\n",
       "    <tr>\n",
       "      <th>3</th>\n",
       "      <td>2022-10-04</td>\n",
       "      <td>2023-05-08</td>\n",
       "    </tr>\n",
       "    <tr>\n",
       "      <th>4</th>\n",
       "      <td>2022-10-04</td>\n",
       "      <td>2022-07-11</td>\n",
       "    </tr>\n",
       "  </tbody>\n",
       "</table>\n",
       "</div>"
      ],
      "text/plain": [
       "        측정날짜     정밀검사일자\n",
       "0 2022-10-04        NaT\n",
       "1 2022-10-04 2022-09-27\n",
       "2 2022-10-04 2023-01-18\n",
       "3 2022-10-04 2023-05-08\n",
       "4 2022-10-04 2022-07-11"
      ]
     },
     "execution_count": 134,
     "metadata": {},
     "output_type": "execute_result"
    }
   ],
   "source": [
    "df[['측정날짜', '정밀검사일자']].head()"
   ]
  },
  {
   "cell_type": "markdown",
   "metadata": {},
   "source": [
    "### 구간 설정"
   ]
  },
  {
   "cell_type": "markdown",
   "metadata": {},
   "source": [
    "#### 속도"
   ]
  },
  {
   "cell_type": "code",
   "execution_count": 135,
   "metadata": {},
   "outputs": [
    {
     "data": {
      "text/plain": [
       "count   252257.00\n",
       "mean        66.47\n",
       "std         14.86\n",
       "min          1.00\n",
       "25%         57.24\n",
       "50%         66.24\n",
       "75%         75.96\n",
       "max        119.88\n",
       "Name: 속도, dtype: float64"
      ]
     },
     "execution_count": 135,
     "metadata": {},
     "output_type": "execute_result"
    }
   ],
   "source": [
    "df['속도'].describe()"
   ]
  },
  {
   "cell_type": "code",
   "execution_count": 136,
   "metadata": {},
   "outputs": [
    {
     "data": {
      "text/plain": [
       "0"
      ]
     },
     "execution_count": 136,
     "metadata": {},
     "output_type": "execute_result"
    }
   ],
   "source": [
    "df['속도'].isnull().sum()"
   ]
  },
  {
   "cell_type": "code",
   "execution_count": 137,
   "metadata": {},
   "outputs": [
    {
     "data": {
      "text/plain": [
       "120"
      ]
     },
     "execution_count": 137,
     "metadata": {},
     "output_type": "execute_result"
    }
   ],
   "source": [
    "math.ceil(df['속도'].max())"
   ]
  },
  {
   "cell_type": "code",
   "execution_count": 138,
   "metadata": {},
   "outputs": [
    {
     "name": "stdout",
     "output_type": "stream",
     "text": [
      "1 : 0 ~ 10\n",
      "2 : 10 ~ 20\n",
      "3 : 20 ~ 30\n",
      "4 : 30 ~ 40\n",
      "5 : 40 ~ 50\n",
      "6 : 50 ~ 60\n",
      "7 : 60 ~ 70\n",
      "8 : 70 ~ 80\n",
      "9 : 80 ~ 90\n",
      "10 : 90 ~ 100\n",
      "11 : 100 ~ 110\n",
      "12 : 110 ~ 120\n"
     ]
    }
   ],
   "source": [
    "div = 10\n",
    "n = 1\n",
    "num = math.ceil(df['속도'].max())\n",
    "for i in range(0, num, div):\n",
    "    print(f'{n} : {i} ~ {i + div}')\n",
    "    n += 1"
   ]
  },
  {
   "cell_type": "code",
   "execution_count": 139,
   "metadata": {},
   "outputs": [],
   "source": [
    "# 속도 구간 나누기(10단위)\n",
    "div = 10\n",
    "n = 1\n",
    "num = math.ceil(df['속도'].max())\n",
    "for i in range(0, num, div):\n",
    "    df.loc[(df['속도'] >= i) & (df['속도'] < i + div), '속도구분'] = f'{i}이상 {i + div}미만'\n",
    "    df.loc[(df['속도'] >= i) & (df['속도'] < i + div), '속도구분인덱스'] = n\n",
    "    n += 1"
   ]
  },
  {
   "cell_type": "code",
   "execution_count": 140,
   "metadata": {},
   "outputs": [
    {
     "data": {
      "text/plain": [
       "array(['70이상 80미만', '60이상 70미만', '50이상 60미만', '30이상 40미만', '40이상 50미만',\n",
       "       '80이상 90미만', '10이상 20미만', '0이상 10미만', '100이상 110미만', '90이상 100미만',\n",
       "       '20이상 30미만', '110이상 120미만'], dtype=object)"
      ]
     },
     "execution_count": 140,
     "metadata": {},
     "output_type": "execute_result"
    }
   ],
   "source": [
    "df['속도구분'].unique()"
   ]
  },
  {
   "cell_type": "code",
   "execution_count": 141,
   "metadata": {},
   "outputs": [
    {
     "data": {
      "text/plain": [
       "array([ 8.,  7.,  6.,  4.,  5.,  9.,  2.,  1., 11., 10.,  3., 12.])"
      ]
     },
     "execution_count": 141,
     "metadata": {},
     "output_type": "execute_result"
    }
   ],
   "source": [
    "df['속도구분인덱스'].unique()"
   ]
  },
  {
   "cell_type": "markdown",
   "metadata": {},
   "source": [
    "#### 배기량"
   ]
  },
  {
   "cell_type": "code",
   "execution_count": 142,
   "metadata": {},
   "outputs": [
    {
     "data": {
      "text/plain": [
       "12266"
      ]
     },
     "execution_count": 142,
     "metadata": {},
     "output_type": "execute_result"
    }
   ],
   "source": [
    "df['배기량'].isnull().sum()"
   ]
  },
  {
   "cell_type": "code",
   "execution_count": 143,
   "metadata": {},
   "outputs": [
    {
     "data": {
      "text/plain": [
       "count   239991.00\n",
       "mean      2322.08\n",
       "std       1427.27\n",
       "min          0.00\n",
       "25%       1598.00\n",
       "50%       1999.00\n",
       "75%       2497.00\n",
       "max      16991.00\n",
       "Name: 배기량, dtype: float64"
      ]
     },
     "execution_count": 143,
     "metadata": {},
     "output_type": "execute_result"
    }
   ],
   "source": [
    "df['배기량'].describe()"
   ]
  },
  {
   "cell_type": "code",
   "execution_count": 144,
   "metadata": {},
   "outputs": [
    {
     "name": "stdout",
     "output_type": "stream",
     "text": [
      "1 : 1000 ~ 2000\n",
      "2 : 2000 ~ 3000\n",
      "3 : 3000 ~ 4000\n",
      "4 : 4000 ~ 5000\n",
      "5 : 5000 ~ 6000\n",
      "6 : 6000 ~ 7000\n",
      "7 : 7000 ~ 8000\n",
      "8 : 8000 ~ 9000\n",
      "9 : 9000 ~ 10000\n",
      "10 : 10000 ~ 11000\n",
      "11 : 11000 ~ 12000\n",
      "12 : 12000 ~ 13000\n",
      "13 : 13000 ~ 14000\n",
      "14 : 14000 ~ 15000\n",
      "15 : 15000 ~ 16000\n",
      "16 : 16000 ~ 17000\n"
     ]
    }
   ],
   "source": [
    "div = 1000\n",
    "n = 1\n",
    "num = math.ceil(df['배기량'].max() / div)\n",
    "for i in range(1, num):\n",
    "    print(f'{n} : {i*div} ~ {(i + 1) * 1000}')\n",
    "    n += 1"
   ]
  },
  {
   "cell_type": "code",
   "execution_count": 145,
   "metadata": {},
   "outputs": [],
   "source": [
    "div = 1000\n",
    "n = 1\n",
    "num = math.ceil(df['배기량'].max() / div)\n",
    "for i in range(1, num):\n",
    "    df.loc[(df['배기량'] >= i * div) & (df['배기량'] < (i + 1) * div), '배기량구분'] = f'{i}천이상 {i + 1}천미만'\n",
    "    df.loc[(df['배기량'] >= i * div) & (df['배기량'] < (i + 1) * div), '배기량구분인덱스'] = n\n",
    "    n += 1"
   ]
  },
  {
   "cell_type": "code",
   "execution_count": 146,
   "metadata": {},
   "outputs": [
    {
     "data": {
      "text/plain": [
       "array(['1천이상 2천미만', nan, '2천이상 3천미만', '9천이상 10천미만', '12천이상 13천미만',\n",
       "       '3천이상 4천미만', '11천이상 12천미만', '6천이상 7천미만', '5천이상 6천미만', '4천이상 5천미만',\n",
       "       '10천이상 11천미만', '8천이상 9천미만', '7천이상 8천미만', '16천이상 17천미만',\n",
       "       '15천이상 16천미만', '14천이상 15천미만'], dtype=object)"
      ]
     },
     "execution_count": 146,
     "metadata": {},
     "output_type": "execute_result"
    }
   ],
   "source": [
    "df['배기량구분'].unique()"
   ]
  },
  {
   "cell_type": "code",
   "execution_count": 147,
   "metadata": {},
   "outputs": [
    {
     "data": {
      "text/plain": [
       "array([ 1., nan,  2.,  9., 12.,  3., 11.,  6.,  5.,  4., 10.,  8.,  7.,\n",
       "       16., 15., 14.])"
      ]
     },
     "execution_count": 147,
     "metadata": {},
     "output_type": "execute_result"
    }
   ],
   "source": [
    "df['배기량구분인덱스'].unique()"
   ]
  },
  {
   "cell_type": "markdown",
   "metadata": {},
   "source": [
    "#### 차량중량(총중량)"
   ]
  },
  {
   "cell_type": "code",
   "execution_count": 148,
   "metadata": {},
   "outputs": [
    {
     "data": {
      "text/plain": [
       "12233"
      ]
     },
     "execution_count": 148,
     "metadata": {},
     "output_type": "execute_result"
    }
   ],
   "source": [
    "df['총중량'].isnull().sum()"
   ]
  },
  {
   "cell_type": "code",
   "execution_count": 149,
   "metadata": {},
   "outputs": [
    {
     "data": {
      "text/plain": [
       "count   240024.00\n",
       "mean      2667.71\n",
       "std       2962.67\n",
       "min          0.00\n",
       "25%       1780.00\n",
       "50%       2030.00\n",
       "75%       2655.00\n",
       "max      39990.00\n",
       "Name: 총중량, dtype: float64"
      ]
     },
     "execution_count": 149,
     "metadata": {},
     "output_type": "execute_result"
    }
   ],
   "source": [
    "df['총중량'].describe()"
   ]
  },
  {
   "cell_type": "code",
   "execution_count": 150,
   "metadata": {},
   "outputs": [
    {
     "name": "stdout",
     "output_type": "stream",
     "text": [
      "1 : 1000 ~ 2000\n",
      "2 : 2000 ~ 3000\n",
      "3 : 3000 ~ 4000\n",
      "4 : 4000 ~ 5000\n",
      "5 : 5000 ~ 6000\n",
      "6 : 6000 ~ 7000\n",
      "7 : 7000 ~ 8000\n",
      "8 : 8000 ~ 9000\n",
      "9 : 9000 ~ 10000\n",
      "10 : 10000 ~ 11000\n",
      "11 : 11000 ~ 12000\n",
      "12 : 12000 ~ 13000\n",
      "13 : 13000 ~ 14000\n",
      "14 : 14000 ~ 15000\n",
      "15 : 15000 ~ 16000\n",
      "16 : 16000 ~ 17000\n",
      "17 : 17000 ~ 18000\n",
      "18 : 18000 ~ 19000\n",
      "19 : 19000 ~ 20000\n",
      "20 : 20000 ~ 21000\n",
      "21 : 21000 ~ 22000\n",
      "22 : 22000 ~ 23000\n",
      "23 : 23000 ~ 24000\n",
      "24 : 24000 ~ 25000\n",
      "25 : 25000 ~ 26000\n",
      "26 : 26000 ~ 27000\n",
      "27 : 27000 ~ 28000\n",
      "28 : 28000 ~ 29000\n",
      "29 : 29000 ~ 30000\n",
      "30 : 30000 ~ 31000\n",
      "31 : 31000 ~ 32000\n",
      "32 : 32000 ~ 33000\n",
      "33 : 33000 ~ 34000\n",
      "34 : 34000 ~ 35000\n",
      "35 : 35000 ~ 36000\n",
      "36 : 36000 ~ 37000\n",
      "37 : 37000 ~ 38000\n",
      "38 : 38000 ~ 39000\n",
      "39 : 39000 ~ 40000\n"
     ]
    }
   ],
   "source": [
    "div = 1000\n",
    "n = 1\n",
    "num = math.ceil(df['총중량'].max() / div)\n",
    "for i in range(1, num):\n",
    "    print(f'{n} : {i*div} ~ {(i + 1) * div}')\n",
    "    n += 1"
   ]
  },
  {
   "cell_type": "code",
   "execution_count": 151,
   "metadata": {},
   "outputs": [
    {
     "data": {
      "text/plain": [
       "40"
      ]
     },
     "execution_count": 151,
     "metadata": {},
     "output_type": "execute_result"
    }
   ],
   "source": [
    "math.ceil(df['총중량'].max()/1000)"
   ]
  },
  {
   "cell_type": "code",
   "execution_count": 152,
   "metadata": {},
   "outputs": [],
   "source": [
    "div = 1000\n",
    "n = 1\n",
    "num = math.ceil(df['총중량'].max()/div)\n",
    "for i in range(0, num):\n",
    "    df.loc[(df['총중량'] >= i * div) & (df['총중량'] < (i + div) * div), '총중량구분'] = f'{i}천이상 {i + 1}천미만'\n",
    "    df.loc[(df['총중량'] >= i * div) & (df['총중량'] < (i + div) * div), '총중량구분인덱스'] = n\n",
    "    n += 1"
   ]
  },
  {
   "cell_type": "code",
   "execution_count": 153,
   "metadata": {},
   "outputs": [
    {
     "data": {
      "text/plain": [
       "array(['1천이상 2천미만', '3천이상 4천미만', '2천이상 3천미만', nan, '14천이상 15천미만',\n",
       "       '15천이상 16천미만', '13천이상 14천미만', '5천이상 6천미만', '4천이상 5천미만',\n",
       "       '10천이상 11천미만', '11천이상 12천미만', '6천이상 7천미만', '12천이상 13천미만',\n",
       "       '8천이상 9천미만', '0천이상 1천미만', '16천이상 17천미만', '7천이상 8천미만', '9천이상 10천미만',\n",
       "       '27천이상 28천미만', '19천이상 20천미만', '39천이상 40천미만', '30천이상 31천미만',\n",
       "       '28천이상 29천미만', '21천이상 22천미만', '38천이상 39천미만', '26천이상 27천미만',\n",
       "       '20천이상 21천미만', '18천이상 19천미만', '25천이상 26천미만', '17천이상 18천미만',\n",
       "       '35천이상 36천미만', '36천이상 37천미만', '37천이상 38천미만', '24천이상 25천미만',\n",
       "       '22천이상 23천미만', '31천이상 32천미만', '29천이상 30천미만', '33천이상 34천미만',\n",
       "       '23천이상 24천미만', '34천이상 35천미만', '32천이상 33천미만'], dtype=object)"
      ]
     },
     "execution_count": 153,
     "metadata": {},
     "output_type": "execute_result"
    }
   ],
   "source": [
    "df['총중량구분'].unique()"
   ]
  },
  {
   "cell_type": "code",
   "execution_count": 154,
   "metadata": {},
   "outputs": [
    {
     "data": {
      "text/plain": [
       "array([ 2.,  4.,  3., nan, 15., 16., 14.,  6.,  5., 11., 12.,  7., 13.,\n",
       "        9.,  1., 17.,  8., 10., 28., 20., 40., 31., 29., 22., 39., 27.,\n",
       "       21., 19., 26., 18., 36., 37., 38., 25., 23., 32., 30., 34., 24.,\n",
       "       35., 33.])"
      ]
     },
     "execution_count": 154,
     "metadata": {},
     "output_type": "execute_result"
    }
   ],
   "source": [
    "df['총중량구분인덱스'].unique()"
   ]
  },
  {
   "cell_type": "markdown",
   "metadata": {},
   "source": [
    "#### 매연농도(원격)\n",
    "- 농도별(0.5 단위) : 0 이상 0.5미만, …"
   ]
  },
  {
   "cell_type": "code",
   "execution_count": 155,
   "metadata": {},
   "outputs": [
    {
     "data": {
      "text/plain": [
       "count   252257.00\n",
       "mean         0.64\n",
       "std          0.75\n",
       "min          0.00\n",
       "25%          0.10\n",
       "50%          0.40\n",
       "75%          0.90\n",
       "max          5.00\n",
       "Name: 매연, dtype: float64"
      ]
     },
     "execution_count": 155,
     "metadata": {},
     "output_type": "execute_result"
    }
   ],
   "source": [
    "df['매연'].describe()"
   ]
  },
  {
   "cell_type": "code",
   "execution_count": 156,
   "metadata": {},
   "outputs": [
    {
     "name": "stdout",
     "output_type": "stream",
     "text": [
      "1 : 0 ~ 0.5\n",
      "2 : 0.5 ~ 1.0\n",
      "3 : 1.0 ~ 1.5\n",
      "4 : 1.5 ~ 2.0\n",
      "5 : 2.0 ~ 2.5\n",
      "6 : 2.5 ~ 3.0\n",
      "7 : 3.0 ~ 3.5\n",
      "8 : 3.5 ~ 4.0\n",
      "9 : 4.0 ~ 4.5\n"
     ]
    }
   ],
   "source": [
    "div = 0.5\n",
    "n = 0\n",
    "for i in range(9):\n",
    "    print(f'{i + 1} : {n} ~ {n + div}')\n",
    "    n += div"
   ]
  },
  {
   "cell_type": "code",
   "execution_count": 157,
   "metadata": {},
   "outputs": [],
   "source": [
    "div = 0.5\n",
    "n = 0\n",
    "for i in range(9):\n",
    "    df.loc[(df['매연'] >= n) & (df['매연'] < n + div), '매연구분'] = f'{n}이상 {n + div}미만'\n",
    "    df.loc[(df['매연'] >= n) & (df['매연'] < n + div), '매연구분인덱스'] = i + 1\n",
    "    n += div\n",
    "df.loc[df['매연'] >= n, '매연구분'] = f'{n}이상'\n",
    "df.loc[df['매연'] >= n, '매연구분인덱스'] = i + 2"
   ]
  },
  {
   "cell_type": "code",
   "execution_count": 158,
   "metadata": {},
   "outputs": [
    {
     "data": {
      "text/plain": [
       "array(['0.5이상 1.0미만', '1.0이상 1.5미만', '0이상 0.5미만', '1.5이상 2.0미만',\n",
       "       '3.0이상 3.5미만', '2.5이상 3.0미만', '2.0이상 2.5미만', '3.5이상 4.0미만',\n",
       "       '4.0이상 4.5미만', '4.5이상'], dtype=object)"
      ]
     },
     "execution_count": 158,
     "metadata": {},
     "output_type": "execute_result"
    }
   ],
   "source": [
    "df['매연구분'].unique()"
   ]
  },
  {
   "cell_type": "code",
   "execution_count": 159,
   "metadata": {},
   "outputs": [
    {
     "data": {
      "text/plain": [
       "array([ 2.,  3.,  1.,  4.,  7.,  6.,  5.,  8.,  9., 10.])"
      ]
     },
     "execution_count": 159,
     "metadata": {},
     "output_type": "execute_result"
    }
   ],
   "source": [
    "df['매연구분인덱스'].unique()"
   ]
  },
  {
   "cell_type": "markdown",
   "metadata": {},
   "source": [
    "#### 연식\n",
    "- 2004년 이전(~ 2003년 이하)은 한가지 구분으로 묶기 : 2003년이하"
   ]
  },
  {
   "cell_type": "code",
   "execution_count": 160,
   "metadata": {},
   "outputs": [
    {
     "data": {
      "text/plain": [
       "dtype('float64')"
      ]
     },
     "execution_count": 160,
     "metadata": {},
     "output_type": "execute_result"
    }
   ],
   "source": [
    "df['연식'].dtype"
   ]
  },
  {
   "cell_type": "code",
   "execution_count": 161,
   "metadata": {},
   "outputs": [
    {
     "data": {
      "text/plain": [
       "array([2010., 2016., 2018., 2019., 2015., 2013., 2021., 2020.,   nan,\n",
       "       2014., 2008., 2017., 2022., 2011., 2012., 2009., 2006., 2007.,\n",
       "       2023., 2004., 2005., 2001., 2002., 2003., 1998., 2024., 2000.,\n",
       "       1988., 1997., 1990., 1993., 1995., 1999., 1996., 1983., 1992.,\n",
       "       1994., 1991.])"
      ]
     },
     "execution_count": 161,
     "metadata": {},
     "output_type": "execute_result"
    }
   ],
   "source": [
    "df['연식'].unique()"
   ]
  },
  {
   "cell_type": "code",
   "execution_count": 162,
   "metadata": {},
   "outputs": [],
   "source": [
    "df.loc[df['연식'] <= 2003, '연식구분'] = '2003년 이하'\n",
    "df.loc[df['연식구분'].isnull(), '연식구분'] = df.loc[df['연식구분'].isnull(), '연식']"
   ]
  },
  {
   "cell_type": "code",
   "execution_count": 163,
   "metadata": {},
   "outputs": [
    {
     "data": {
      "text/plain": [
       "array([2010.0, 2016.0, 2018.0, 2019.0, 2015.0, 2013.0, 2021.0, 2020.0,\n",
       "       nan, 2014.0, 2008.0, 2017.0, 2022.0, 2011.0, 2012.0, 2009.0,\n",
       "       2006.0, 2007.0, 2023.0, 2004.0, 2005.0, '2003년 이하', 2024.0],\n",
       "      dtype=object)"
      ]
     },
     "execution_count": 163,
     "metadata": {},
     "output_type": "execute_result"
    }
   ],
   "source": [
    "df['연식구분'].unique()"
   ]
  },
  {
   "cell_type": "markdown",
   "metadata": {},
   "source": [
    "# Analysis"
   ]
  },
  {
   "cell_type": "markdown",
   "metadata": {},
   "source": [
    "## 1\\. 연료별 매연RSD 측정 평균, 건수"
   ]
  },
  {
   "cell_type": "code",
   "execution_count": 164,
   "metadata": {},
   "outputs": [
    {
     "data": {
      "text/plain": [
       "((252257, 57), 138469)"
      ]
     },
     "execution_count": 164,
     "metadata": {},
     "output_type": "execute_result"
    }
   ],
   "source": [
    "df.shape, len(df['차량번호'].unique())"
   ]
  },
  {
   "cell_type": "code",
   "execution_count": 165,
   "metadata": {},
   "outputs": [
    {
     "data": {
      "text/plain": [
       "12269"
      ]
     },
     "execution_count": 165,
     "metadata": {},
     "output_type": "execute_result"
    }
   ],
   "source": [
    "df['연료'].isnull().sum()"
   ]
  },
  {
   "cell_type": "code",
   "execution_count": 166,
   "metadata": {},
   "outputs": [
    {
     "data": {
      "text/html": [
       "<div>\n",
       "<style scoped>\n",
       "    .dataframe tbody tr th:only-of-type {\n",
       "        vertical-align: middle;\n",
       "    }\n",
       "\n",
       "    .dataframe tbody tr th {\n",
       "        vertical-align: top;\n",
       "    }\n",
       "\n",
       "    .dataframe thead th {\n",
       "        text-align: right;\n",
       "    }\n",
       "</style>\n",
       "<table border=\"1\" class=\"dataframe\">\n",
       "  <thead>\n",
       "    <tr style=\"text-align: right;\">\n",
       "      <th></th>\n",
       "      <th>연료</th>\n",
       "      <th>매연RSD_평균</th>\n",
       "      <th>측정건수</th>\n",
       "    </tr>\n",
       "  </thead>\n",
       "  <tbody>\n",
       "    <tr>\n",
       "      <th>0</th>\n",
       "      <td>CNG(압축천연가스)</td>\n",
       "      <td>1.71</td>\n",
       "      <td>895</td>\n",
       "    </tr>\n",
       "    <tr>\n",
       "      <th>1</th>\n",
       "      <td>LPG 하이브리드</td>\n",
       "      <td>0.68</td>\n",
       "      <td>118</td>\n",
       "    </tr>\n",
       "    <tr>\n",
       "      <th>2</th>\n",
       "      <td>LPG(액화석유가스)</td>\n",
       "      <td>0.65</td>\n",
       "      <td>19120</td>\n",
       "    </tr>\n",
       "    <tr>\n",
       "      <th>3</th>\n",
       "      <td>경유</td>\n",
       "      <td>0.65</td>\n",
       "      <td>105740</td>\n",
       "    </tr>\n",
       "    <tr>\n",
       "      <th>4</th>\n",
       "      <td>경유 하이브리드</td>\n",
       "      <td>0.56</td>\n",
       "      <td>556</td>\n",
       "    </tr>\n",
       "    <tr>\n",
       "      <th>5</th>\n",
       "      <td>수소</td>\n",
       "      <td>0.50</td>\n",
       "      <td>539</td>\n",
       "    </tr>\n",
       "    <tr>\n",
       "      <th>6</th>\n",
       "      <td>전기</td>\n",
       "      <td>0.51</td>\n",
       "      <td>4665</td>\n",
       "    </tr>\n",
       "    <tr>\n",
       "      <th>7</th>\n",
       "      <td>휘발유</td>\n",
       "      <td>0.63</td>\n",
       "      <td>92440</td>\n",
       "    </tr>\n",
       "    <tr>\n",
       "      <th>8</th>\n",
       "      <td>휘발유 하이브리드</td>\n",
       "      <td>0.57</td>\n",
       "      <td>15915</td>\n",
       "    </tr>\n",
       "    <tr>\n",
       "      <th>9</th>\n",
       "      <td>NaN</td>\n",
       "      <td>0.69</td>\n",
       "      <td>12269</td>\n",
       "    </tr>\n",
       "    <tr>\n",
       "      <th>10</th>\n",
       "      <td>총합</td>\n",
       "      <td>NaN</td>\n",
       "      <td>252257</td>\n",
       "    </tr>\n",
       "  </tbody>\n",
       "</table>\n",
       "</div>"
      ],
      "text/plain": [
       "             연료  매연RSD_평균    측정건수\n",
       "0   CNG(압축천연가스)      1.71     895\n",
       "1     LPG 하이브리드      0.68     118\n",
       "2   LPG(액화석유가스)      0.65   19120\n",
       "3            경유      0.65  105740\n",
       "4      경유 하이브리드      0.56     556\n",
       "5            수소      0.50     539\n",
       "6            전기      0.51    4665\n",
       "7           휘발유      0.63   92440\n",
       "8     휘발유 하이브리드      0.57   15915\n",
       "9           NaN      0.69   12269\n",
       "10           총합       NaN  252257"
      ]
     },
     "execution_count": 166,
     "metadata": {},
     "output_type": "execute_result"
    }
   ],
   "source": [
    "grp1 = df.groupby(['연료'], dropna=False).agg({'매연':'mean', '차량번호':'count'}).reset_index()\n",
    "grp1['매연'] = grp1['매연'].round(2)\n",
    "grp1 = grp1.rename(columns={'매연':'매연RSD_평균', '차량번호':'측정건수'})\n",
    "grp1.loc[grp1.shape[0]] = ['총합', np.nan, grp1['측정건수'].sum()]\n",
    "grp1"
   ]
  },
  {
   "cell_type": "markdown",
   "metadata": {},
   "source": [
    "## 경유차만 추출"
   ]
  },
  {
   "cell_type": "code",
   "execution_count": 167,
   "metadata": {},
   "outputs": [
    {
     "data": {
      "text/html": [
       "<div>\n",
       "<style scoped>\n",
       "    .dataframe tbody tr th:only-of-type {\n",
       "        vertical-align: middle;\n",
       "    }\n",
       "\n",
       "    .dataframe tbody tr th {\n",
       "        vertical-align: top;\n",
       "    }\n",
       "\n",
       "    .dataframe thead th {\n",
       "        text-align: right;\n",
       "    }\n",
       "</style>\n",
       "<table border=\"1\" class=\"dataframe\">\n",
       "  <thead>\n",
       "    <tr style=\"text-align: right;\">\n",
       "      <th></th>\n",
       "      <th>index</th>\n",
       "      <th>연료</th>\n",
       "    </tr>\n",
       "  </thead>\n",
       "  <tbody>\n",
       "    <tr>\n",
       "      <th>0</th>\n",
       "      <td>경유</td>\n",
       "      <td>105740</td>\n",
       "    </tr>\n",
       "    <tr>\n",
       "      <th>1</th>\n",
       "      <td>휘발유</td>\n",
       "      <td>92440</td>\n",
       "    </tr>\n",
       "    <tr>\n",
       "      <th>2</th>\n",
       "      <td>LPG(액화석유가스)</td>\n",
       "      <td>19120</td>\n",
       "    </tr>\n",
       "    <tr>\n",
       "      <th>3</th>\n",
       "      <td>휘발유 하이브리드</td>\n",
       "      <td>15915</td>\n",
       "    </tr>\n",
       "    <tr>\n",
       "      <th>4</th>\n",
       "      <td>NaN</td>\n",
       "      <td>12269</td>\n",
       "    </tr>\n",
       "    <tr>\n",
       "      <th>5</th>\n",
       "      <td>전기</td>\n",
       "      <td>4665</td>\n",
       "    </tr>\n",
       "    <tr>\n",
       "      <th>6</th>\n",
       "      <td>CNG(압축천연가스)</td>\n",
       "      <td>895</td>\n",
       "    </tr>\n",
       "    <tr>\n",
       "      <th>7</th>\n",
       "      <td>경유 하이브리드</td>\n",
       "      <td>556</td>\n",
       "    </tr>\n",
       "    <tr>\n",
       "      <th>8</th>\n",
       "      <td>수소</td>\n",
       "      <td>539</td>\n",
       "    </tr>\n",
       "    <tr>\n",
       "      <th>9</th>\n",
       "      <td>LPG 하이브리드</td>\n",
       "      <td>118</td>\n",
       "    </tr>\n",
       "  </tbody>\n",
       "</table>\n",
       "</div>"
      ],
      "text/plain": [
       "         index      연료\n",
       "0           경유  105740\n",
       "1          휘발유   92440\n",
       "2  LPG(액화석유가스)   19120\n",
       "3    휘발유 하이브리드   15915\n",
       "4          NaN   12269\n",
       "5           전기    4665\n",
       "6  CNG(압축천연가스)     895\n",
       "7     경유 하이브리드     556\n",
       "8           수소     539\n",
       "9    LPG 하이브리드     118"
      ]
     },
     "execution_count": 167,
     "metadata": {},
     "output_type": "execute_result"
    }
   ],
   "source": [
    "df['연료'].value_counts(dropna=False).reset_index()"
   ]
  },
  {
   "cell_type": "code",
   "execution_count": 168,
   "metadata": {},
   "outputs": [
    {
     "data": {
      "text/plain": [
       "(105740, 57)"
      ]
     },
     "execution_count": 168,
     "metadata": {},
     "output_type": "execute_result"
    }
   ],
   "source": [
    "die = df[df['연료'] == '경유'].reset_index(drop=True)\n",
    "die.shape"
   ]
  },
  {
   "cell_type": "markdown",
   "metadata": {},
   "source": [
    "### 2\\. 경유 > 차종별 매연RSD 측정 평균, 건수"
   ]
  },
  {
   "cell_type": "code",
   "execution_count": 169,
   "metadata": {},
   "outputs": [
    {
     "data": {
      "text/html": [
       "<div>\n",
       "<style scoped>\n",
       "    .dataframe tbody tr th:only-of-type {\n",
       "        vertical-align: middle;\n",
       "    }\n",
       "\n",
       "    .dataframe tbody tr th {\n",
       "        vertical-align: top;\n",
       "    }\n",
       "\n",
       "    .dataframe thead th {\n",
       "        text-align: right;\n",
       "    }\n",
       "</style>\n",
       "<table border=\"1\" class=\"dataframe\">\n",
       "  <thead>\n",
       "    <tr style=\"text-align: right;\">\n",
       "      <th></th>\n",
       "      <th>차종</th>\n",
       "      <th>매연RSD_평균</th>\n",
       "      <th>측정건수</th>\n",
       "    </tr>\n",
       "  </thead>\n",
       "  <tbody>\n",
       "    <tr>\n",
       "      <th>0</th>\n",
       "      <td>승용</td>\n",
       "      <td>0.65</td>\n",
       "      <td>56998</td>\n",
       "    </tr>\n",
       "    <tr>\n",
       "      <th>1</th>\n",
       "      <td>승합</td>\n",
       "      <td>0.86</td>\n",
       "      <td>6826</td>\n",
       "    </tr>\n",
       "    <tr>\n",
       "      <th>2</th>\n",
       "      <td>특수</td>\n",
       "      <td>0.57</td>\n",
       "      <td>1285</td>\n",
       "    </tr>\n",
       "    <tr>\n",
       "      <th>3</th>\n",
       "      <td>화물</td>\n",
       "      <td>0.62</td>\n",
       "      <td>40631</td>\n",
       "    </tr>\n",
       "    <tr>\n",
       "      <th>4</th>\n",
       "      <td>총합</td>\n",
       "      <td>NaN</td>\n",
       "      <td>105740</td>\n",
       "    </tr>\n",
       "  </tbody>\n",
       "</table>\n",
       "</div>"
      ],
      "text/plain": [
       "   차종  매연RSD_평균    측정건수\n",
       "0  승용      0.65   56998\n",
       "1  승합      0.86    6826\n",
       "2  특수      0.57    1285\n",
       "3  화물      0.62   40631\n",
       "4  총합       NaN  105740"
      ]
     },
     "execution_count": 169,
     "metadata": {},
     "output_type": "execute_result"
    }
   ],
   "source": [
    "grp2 = die.groupby(['차종'], dropna=False).agg({'매연':'mean', '차량번호':'count'}).reset_index()\n",
    "grp2['매연'] = grp2['매연'].round(2)\n",
    "grp2 = grp2.rename(columns={'매연':'매연RSD_평균', '차량번호':'측정건수'})\n",
    "grp2.loc[grp2.shape[0]] = ['총합', np.nan, grp2['측정건수'].sum()]\n",
    "grp2"
   ]
  },
  {
   "cell_type": "markdown",
   "metadata": {},
   "source": [
    "### 3\\. 경유 > 연식별 매연RSD 측정 평균, 건수"
   ]
  },
  {
   "cell_type": "code",
   "execution_count": 170,
   "metadata": {},
   "outputs": [],
   "source": [
    "# grp3 = die.groupby(['연식'], dropna=False).agg({'매연':'mean', '차량번호':'count'}).reset_index()\n",
    "# grp3['매연'] = grp3['매연'].round(2)\n",
    "# grp3 = grp3.rename(columns={'매연':'매연RSD_평균', '차량번호':'측정건수'})\n",
    "# grp3.loc[grp3.shape[0]] = ['총합', np.nan, grp3['측정건수'].sum()]\n",
    "# grp3"
   ]
  },
  {
   "cell_type": "code",
   "execution_count": 171,
   "metadata": {},
   "outputs": [
    {
     "data": {
      "text/html": [
       "<div>\n",
       "<style scoped>\n",
       "    .dataframe tbody tr th:only-of-type {\n",
       "        vertical-align: middle;\n",
       "    }\n",
       "\n",
       "    .dataframe tbody tr th {\n",
       "        vertical-align: top;\n",
       "    }\n",
       "\n",
       "    .dataframe thead th {\n",
       "        text-align: right;\n",
       "    }\n",
       "</style>\n",
       "<table border=\"1\" class=\"dataframe\">\n",
       "  <thead>\n",
       "    <tr style=\"text-align: right;\">\n",
       "      <th></th>\n",
       "      <th>연식구분</th>\n",
       "      <th>매연RSD_평균</th>\n",
       "      <th>측정건수</th>\n",
       "    </tr>\n",
       "  </thead>\n",
       "  <tbody>\n",
       "    <tr>\n",
       "      <th>0</th>\n",
       "      <td>2004.00</td>\n",
       "      <td>0.88</td>\n",
       "      <td>255</td>\n",
       "    </tr>\n",
       "    <tr>\n",
       "      <th>1</th>\n",
       "      <td>2005.00</td>\n",
       "      <td>0.90</td>\n",
       "      <td>354</td>\n",
       "    </tr>\n",
       "    <tr>\n",
       "      <th>2</th>\n",
       "      <td>2006.00</td>\n",
       "      <td>0.86</td>\n",
       "      <td>538</td>\n",
       "    </tr>\n",
       "    <tr>\n",
       "      <th>3</th>\n",
       "      <td>2007.00</td>\n",
       "      <td>0.84</td>\n",
       "      <td>1227</td>\n",
       "    </tr>\n",
       "    <tr>\n",
       "      <th>4</th>\n",
       "      <td>2008.00</td>\n",
       "      <td>0.84</td>\n",
       "      <td>1522</td>\n",
       "    </tr>\n",
       "    <tr>\n",
       "      <th>5</th>\n",
       "      <td>2009.00</td>\n",
       "      <td>0.76</td>\n",
       "      <td>1459</td>\n",
       "    </tr>\n",
       "    <tr>\n",
       "      <th>6</th>\n",
       "      <td>2010.00</td>\n",
       "      <td>0.78</td>\n",
       "      <td>2705</td>\n",
       "    </tr>\n",
       "    <tr>\n",
       "      <th>7</th>\n",
       "      <td>2011.00</td>\n",
       "      <td>0.74</td>\n",
       "      <td>3754</td>\n",
       "    </tr>\n",
       "    <tr>\n",
       "      <th>8</th>\n",
       "      <td>2012.00</td>\n",
       "      <td>0.68</td>\n",
       "      <td>4341</td>\n",
       "    </tr>\n",
       "    <tr>\n",
       "      <th>9</th>\n",
       "      <td>2013.00</td>\n",
       "      <td>0.67</td>\n",
       "      <td>4589</td>\n",
       "    </tr>\n",
       "    <tr>\n",
       "      <th>10</th>\n",
       "      <td>2014.00</td>\n",
       "      <td>0.71</td>\n",
       "      <td>7196</td>\n",
       "    </tr>\n",
       "    <tr>\n",
       "      <th>11</th>\n",
       "      <td>2015.00</td>\n",
       "      <td>0.66</td>\n",
       "      <td>8469</td>\n",
       "    </tr>\n",
       "    <tr>\n",
       "      <th>12</th>\n",
       "      <td>2016.00</td>\n",
       "      <td>0.63</td>\n",
       "      <td>10495</td>\n",
       "    </tr>\n",
       "    <tr>\n",
       "      <th>13</th>\n",
       "      <td>2017.00</td>\n",
       "      <td>0.65</td>\n",
       "      <td>8796</td>\n",
       "    </tr>\n",
       "    <tr>\n",
       "      <th>14</th>\n",
       "      <td>2018.00</td>\n",
       "      <td>0.62</td>\n",
       "      <td>10696</td>\n",
       "    </tr>\n",
       "    <tr>\n",
       "      <th>15</th>\n",
       "      <td>2019.00</td>\n",
       "      <td>0.61</td>\n",
       "      <td>11362</td>\n",
       "    </tr>\n",
       "    <tr>\n",
       "      <th>16</th>\n",
       "      <td>2020.00</td>\n",
       "      <td>0.59</td>\n",
       "      <td>8345</td>\n",
       "    </tr>\n",
       "    <tr>\n",
       "      <th>17</th>\n",
       "      <td>2021.00</td>\n",
       "      <td>0.62</td>\n",
       "      <td>6913</td>\n",
       "    </tr>\n",
       "    <tr>\n",
       "      <th>18</th>\n",
       "      <td>2022.00</td>\n",
       "      <td>0.59</td>\n",
       "      <td>7055</td>\n",
       "    </tr>\n",
       "    <tr>\n",
       "      <th>19</th>\n",
       "      <td>2023.00</td>\n",
       "      <td>0.59</td>\n",
       "      <td>4882</td>\n",
       "    </tr>\n",
       "    <tr>\n",
       "      <th>20</th>\n",
       "      <td>2024.00</td>\n",
       "      <td>0.53</td>\n",
       "      <td>185</td>\n",
       "    </tr>\n",
       "    <tr>\n",
       "      <th>21</th>\n",
       "      <td>2003년 이하</td>\n",
       "      <td>0.98</td>\n",
       "      <td>602</td>\n",
       "    </tr>\n",
       "    <tr>\n",
       "      <th>22</th>\n",
       "      <td>총합</td>\n",
       "      <td>NaN</td>\n",
       "      <td>105740</td>\n",
       "    </tr>\n",
       "  </tbody>\n",
       "</table>\n",
       "</div>"
      ],
      "text/plain": [
       "        연식구분  매연RSD_평균    측정건수\n",
       "0    2004.00      0.88     255\n",
       "1    2005.00      0.90     354\n",
       "2    2006.00      0.86     538\n",
       "3    2007.00      0.84    1227\n",
       "4    2008.00      0.84    1522\n",
       "5    2009.00      0.76    1459\n",
       "6    2010.00      0.78    2705\n",
       "7    2011.00      0.74    3754\n",
       "8    2012.00      0.68    4341\n",
       "9    2013.00      0.67    4589\n",
       "10   2014.00      0.71    7196\n",
       "11   2015.00      0.66    8469\n",
       "12   2016.00      0.63   10495\n",
       "13   2017.00      0.65    8796\n",
       "14   2018.00      0.62   10696\n",
       "15   2019.00      0.61   11362\n",
       "16   2020.00      0.59    8345\n",
       "17   2021.00      0.62    6913\n",
       "18   2022.00      0.59    7055\n",
       "19   2023.00      0.59    4882\n",
       "20   2024.00      0.53     185\n",
       "21  2003년 이하      0.98     602\n",
       "22        총합       NaN  105740"
      ]
     },
     "execution_count": 171,
     "metadata": {},
     "output_type": "execute_result"
    }
   ],
   "source": [
    "grp3 = die.groupby(['연식구분'], dropna=False).agg({'매연':'mean', '차량번호':'count'}).reset_index()\n",
    "grp3['매연'] = grp3['매연'].round(2)\n",
    "grp3 = grp3.rename(columns={'매연':'매연RSD_평균', '차량번호':'측정건수'})\n",
    "grp3.loc[grp3.shape[0]] = ['총합', np.nan, grp3['측정건수'].sum()]\n",
    "grp3"
   ]
  },
  {
   "cell_type": "markdown",
   "metadata": {},
   "source": [
    "### 4\\. 경유 > 차선별 매연RSD 측정 평균, 건수"
   ]
  },
  {
   "cell_type": "code",
   "execution_count": 172,
   "metadata": {},
   "outputs": [
    {
     "data": {
      "text/html": [
       "<div>\n",
       "<style scoped>\n",
       "    .dataframe tbody tr th:only-of-type {\n",
       "        vertical-align: middle;\n",
       "    }\n",
       "\n",
       "    .dataframe tbody tr th {\n",
       "        vertical-align: top;\n",
       "    }\n",
       "\n",
       "    .dataframe thead th {\n",
       "        text-align: right;\n",
       "    }\n",
       "</style>\n",
       "<table border=\"1\" class=\"dataframe\">\n",
       "  <thead>\n",
       "    <tr style=\"text-align: right;\">\n",
       "      <th></th>\n",
       "      <th>차선번호</th>\n",
       "      <th>매연RSD_평균</th>\n",
       "      <th>측정건수</th>\n",
       "    </tr>\n",
       "  </thead>\n",
       "  <tbody>\n",
       "    <tr>\n",
       "      <th>0</th>\n",
       "      <td>1.00</td>\n",
       "      <td>0.80</td>\n",
       "      <td>12306</td>\n",
       "    </tr>\n",
       "    <tr>\n",
       "      <th>1</th>\n",
       "      <td>2.00</td>\n",
       "      <td>0.67</td>\n",
       "      <td>16293</td>\n",
       "    </tr>\n",
       "    <tr>\n",
       "      <th>2</th>\n",
       "      <td>3.00</td>\n",
       "      <td>0.60</td>\n",
       "      <td>10571</td>\n",
       "    </tr>\n",
       "    <tr>\n",
       "      <th>3</th>\n",
       "      <td>NaN</td>\n",
       "      <td>0.63</td>\n",
       "      <td>66570</td>\n",
       "    </tr>\n",
       "    <tr>\n",
       "      <th>4</th>\n",
       "      <td>총합</td>\n",
       "      <td>NaN</td>\n",
       "      <td>105740</td>\n",
       "    </tr>\n",
       "  </tbody>\n",
       "</table>\n",
       "</div>"
      ],
      "text/plain": [
       "  차선번호  매연RSD_평균    측정건수\n",
       "0 1.00      0.80   12306\n",
       "1 2.00      0.67   16293\n",
       "2 3.00      0.60   10571\n",
       "3  NaN      0.63   66570\n",
       "4   총합       NaN  105740"
      ]
     },
     "execution_count": 172,
     "metadata": {},
     "output_type": "execute_result"
    }
   ],
   "source": [
    "grp4 = die.groupby(['차선번호'], dropna=False).agg({'매연':'mean', '차량번호':'count'}).reset_index()\n",
    "grp4['매연'] = grp4['매연'].round(2)\n",
    "grp4 = grp4.rename(columns={'매연':'매연RSD_평균', '차량번호':'측정건수'})\n",
    "grp4.loc[grp4.shape[0]] = ['총합', np.nan, grp4['측정건수'].sum()]\n",
    "grp4"
   ]
  },
  {
   "cell_type": "markdown",
   "metadata": {},
   "source": [
    "### 5\\. 경유 > 속도별 매연RSD 측정 평균, 건수"
   ]
  },
  {
   "cell_type": "code",
   "execution_count": 173,
   "metadata": {},
   "outputs": [
    {
     "data": {
      "text/html": [
       "<div>\n",
       "<style scoped>\n",
       "    .dataframe tbody tr th:only-of-type {\n",
       "        vertical-align: middle;\n",
       "    }\n",
       "\n",
       "    .dataframe tbody tr th {\n",
       "        vertical-align: top;\n",
       "    }\n",
       "\n",
       "    .dataframe thead th {\n",
       "        text-align: right;\n",
       "    }\n",
       "</style>\n",
       "<table border=\"1\" class=\"dataframe\">\n",
       "  <thead>\n",
       "    <tr style=\"text-align: right;\">\n",
       "      <th></th>\n",
       "      <th>속도(km/h)</th>\n",
       "      <th>매연RSD_평균</th>\n",
       "      <th>측정건수</th>\n",
       "    </tr>\n",
       "  </thead>\n",
       "  <tbody>\n",
       "    <tr>\n",
       "      <th>0</th>\n",
       "      <td>0이상 10미만</td>\n",
       "      <td>1.05</td>\n",
       "      <td>48</td>\n",
       "    </tr>\n",
       "    <tr>\n",
       "      <th>1</th>\n",
       "      <td>10이상 20미만</td>\n",
       "      <td>1.03</td>\n",
       "      <td>200</td>\n",
       "    </tr>\n",
       "    <tr>\n",
       "      <th>2</th>\n",
       "      <td>20이상 30미만</td>\n",
       "      <td>0.96</td>\n",
       "      <td>1199</td>\n",
       "    </tr>\n",
       "    <tr>\n",
       "      <th>3</th>\n",
       "      <td>30이상 40미만</td>\n",
       "      <td>0.81</td>\n",
       "      <td>3138</td>\n",
       "    </tr>\n",
       "    <tr>\n",
       "      <th>4</th>\n",
       "      <td>40이상 50미만</td>\n",
       "      <td>0.72</td>\n",
       "      <td>8668</td>\n",
       "    </tr>\n",
       "    <tr>\n",
       "      <th>5</th>\n",
       "      <td>50이상 60미만</td>\n",
       "      <td>0.66</td>\n",
       "      <td>22151</td>\n",
       "    </tr>\n",
       "    <tr>\n",
       "      <th>6</th>\n",
       "      <td>60이상 70미만</td>\n",
       "      <td>0.62</td>\n",
       "      <td>30184</td>\n",
       "    </tr>\n",
       "    <tr>\n",
       "      <th>7</th>\n",
       "      <td>70이상 80미만</td>\n",
       "      <td>0.64</td>\n",
       "      <td>22998</td>\n",
       "    </tr>\n",
       "    <tr>\n",
       "      <th>8</th>\n",
       "      <td>80이상 90미만</td>\n",
       "      <td>0.62</td>\n",
       "      <td>11526</td>\n",
       "    </tr>\n",
       "    <tr>\n",
       "      <th>9</th>\n",
       "      <td>90이상 100미만</td>\n",
       "      <td>0.62</td>\n",
       "      <td>4035</td>\n",
       "    </tr>\n",
       "    <tr>\n",
       "      <th>10</th>\n",
       "      <td>100이상 110미만</td>\n",
       "      <td>0.64</td>\n",
       "      <td>1301</td>\n",
       "    </tr>\n",
       "    <tr>\n",
       "      <th>11</th>\n",
       "      <td>110이상 120미만</td>\n",
       "      <td>0.67</td>\n",
       "      <td>292</td>\n",
       "    </tr>\n",
       "    <tr>\n",
       "      <th>12</th>\n",
       "      <td>총합</td>\n",
       "      <td>NaN</td>\n",
       "      <td>105740</td>\n",
       "    </tr>\n",
       "  </tbody>\n",
       "</table>\n",
       "</div>"
      ],
      "text/plain": [
       "       속도(km/h)  매연RSD_평균    측정건수\n",
       "0      0이상 10미만      1.05      48\n",
       "1     10이상 20미만      1.03     200\n",
       "2     20이상 30미만      0.96    1199\n",
       "3     30이상 40미만      0.81    3138\n",
       "4     40이상 50미만      0.72    8668\n",
       "5     50이상 60미만      0.66   22151\n",
       "6     60이상 70미만      0.62   30184\n",
       "7     70이상 80미만      0.64   22998\n",
       "8     80이상 90미만      0.62   11526\n",
       "9    90이상 100미만      0.62    4035\n",
       "10  100이상 110미만      0.64    1301\n",
       "11  110이상 120미만      0.67     292\n",
       "12           총합       NaN  105740"
      ]
     },
     "execution_count": 173,
     "metadata": {},
     "output_type": "execute_result"
    }
   ],
   "source": [
    "grp5 = die.groupby(['속도구분인덱스', '속도구분'], dropna=False).agg({'매연':'mean', '차량번호':'count'}).reset_index()\n",
    "grp5['매연'] = grp5['매연'].round(2)\n",
    "grp5 = grp5.rename(columns={'매연':'매연RSD_평균', '차량번호':'측정건수', '속도구분':'속도(km/h)'})\n",
    "grp5.loc[grp5.shape[0]] = [grp5['속도구분인덱스'].max() + 1, '총합', np.nan, grp5['측정건수'].sum()]\n",
    "grp5 = grp5.drop('속도구분인덱스', axis=1)\n",
    "grp5"
   ]
  },
  {
   "cell_type": "markdown",
   "metadata": {},
   "source": [
    "### 6\\. 경유 > 배출가스등급별 매연RSD 측정 평균, 건수"
   ]
  },
  {
   "cell_type": "code",
   "execution_count": 174,
   "metadata": {},
   "outputs": [
    {
     "data": {
      "text/html": [
       "<div>\n",
       "<style scoped>\n",
       "    .dataframe tbody tr th:only-of-type {\n",
       "        vertical-align: middle;\n",
       "    }\n",
       "\n",
       "    .dataframe tbody tr th {\n",
       "        vertical-align: top;\n",
       "    }\n",
       "\n",
       "    .dataframe thead th {\n",
       "        text-align: right;\n",
       "    }\n",
       "</style>\n",
       "<table border=\"1\" class=\"dataframe\">\n",
       "  <thead>\n",
       "    <tr style=\"text-align: right;\">\n",
       "      <th></th>\n",
       "      <th>등급</th>\n",
       "      <th>매연RSD_평균</th>\n",
       "      <th>측정건수</th>\n",
       "    </tr>\n",
       "  </thead>\n",
       "  <tbody>\n",
       "    <tr>\n",
       "      <th>0</th>\n",
       "      <td>3</td>\n",
       "      <td>0.63</td>\n",
       "      <td>90908</td>\n",
       "    </tr>\n",
       "    <tr>\n",
       "      <th>1</th>\n",
       "      <td>4</td>\n",
       "      <td>0.83</td>\n",
       "      <td>7795</td>\n",
       "    </tr>\n",
       "    <tr>\n",
       "      <th>2</th>\n",
       "      <td>5</td>\n",
       "      <td>0.85</td>\n",
       "      <td>2481</td>\n",
       "    </tr>\n",
       "    <tr>\n",
       "      <th>3</th>\n",
       "      <td>T3</td>\n",
       "      <td>0.58</td>\n",
       "      <td>4531</td>\n",
       "    </tr>\n",
       "    <tr>\n",
       "      <th>4</th>\n",
       "      <td>X</td>\n",
       "      <td>0.73</td>\n",
       "      <td>25</td>\n",
       "    </tr>\n",
       "    <tr>\n",
       "      <th>5</th>\n",
       "      <td>총합</td>\n",
       "      <td>NaN</td>\n",
       "      <td>105740</td>\n",
       "    </tr>\n",
       "  </tbody>\n",
       "</table>\n",
       "</div>"
      ],
      "text/plain": [
       "   등급  매연RSD_평균    측정건수\n",
       "0   3      0.63   90908\n",
       "1   4      0.83    7795\n",
       "2   5      0.85    2481\n",
       "3  T3      0.58    4531\n",
       "4   X      0.73      25\n",
       "5  총합       NaN  105740"
      ]
     },
     "execution_count": 174,
     "metadata": {},
     "output_type": "execute_result"
    }
   ],
   "source": [
    "grp6 = die.groupby(['등급'], dropna=False).agg({'매연':'mean', '차량번호':'count'}).reset_index()\n",
    "grp6['매연'] = grp6['매연'].round(2)\n",
    "grp6 = grp6.rename(columns={'매연':'매연RSD_평균', '차량번호':'측정건수'})\n",
    "grp6.loc[grp6.shape[0]] = ['총합', np.nan, grp6['측정건수'].sum()]\n",
    "grp6"
   ]
  },
  {
   "cell_type": "markdown",
   "metadata": {},
   "source": [
    "### 7\\. 경유 > 배기량별 매연RSD 측정 평균, 건수"
   ]
  },
  {
   "cell_type": "code",
   "execution_count": 175,
   "metadata": {},
   "outputs": [
    {
     "data": {
      "text/html": [
       "<div>\n",
       "<style scoped>\n",
       "    .dataframe tbody tr th:only-of-type {\n",
       "        vertical-align: middle;\n",
       "    }\n",
       "\n",
       "    .dataframe tbody tr th {\n",
       "        vertical-align: top;\n",
       "    }\n",
       "\n",
       "    .dataframe thead th {\n",
       "        text-align: right;\n",
       "    }\n",
       "</style>\n",
       "<table border=\"1\" class=\"dataframe\">\n",
       "  <thead>\n",
       "    <tr style=\"text-align: right;\">\n",
       "      <th></th>\n",
       "      <th>배기량(cc)</th>\n",
       "      <th>매연RSD_평균</th>\n",
       "      <th>측정건수</th>\n",
       "    </tr>\n",
       "  </thead>\n",
       "  <tbody>\n",
       "    <tr>\n",
       "      <th>0</th>\n",
       "      <td>1천이상 2천미만</td>\n",
       "      <td>0.65</td>\n",
       "      <td>34673</td>\n",
       "    </tr>\n",
       "    <tr>\n",
       "      <th>1</th>\n",
       "      <td>2천이상 3천미만</td>\n",
       "      <td>0.65</td>\n",
       "      <td>60312</td>\n",
       "    </tr>\n",
       "    <tr>\n",
       "      <th>2</th>\n",
       "      <td>3천이상 4천미만</td>\n",
       "      <td>0.72</td>\n",
       "      <td>4065</td>\n",
       "    </tr>\n",
       "    <tr>\n",
       "      <th>3</th>\n",
       "      <td>4천이상 5천미만</td>\n",
       "      <td>0.60</td>\n",
       "      <td>235</td>\n",
       "    </tr>\n",
       "    <tr>\n",
       "      <th>4</th>\n",
       "      <td>5천이상 6천미만</td>\n",
       "      <td>0.49</td>\n",
       "      <td>1389</td>\n",
       "    </tr>\n",
       "    <tr>\n",
       "      <th>5</th>\n",
       "      <td>6천이상 7천미만</td>\n",
       "      <td>0.57</td>\n",
       "      <td>2283</td>\n",
       "    </tr>\n",
       "    <tr>\n",
       "      <th>6</th>\n",
       "      <td>7천이상 8천미만</td>\n",
       "      <td>0.61</td>\n",
       "      <td>116</td>\n",
       "    </tr>\n",
       "    <tr>\n",
       "      <th>7</th>\n",
       "      <td>8천이상 9천미만</td>\n",
       "      <td>0.72</td>\n",
       "      <td>190</td>\n",
       "    </tr>\n",
       "    <tr>\n",
       "      <th>8</th>\n",
       "      <td>9천이상 10천미만</td>\n",
       "      <td>1.20</td>\n",
       "      <td>742</td>\n",
       "    </tr>\n",
       "    <tr>\n",
       "      <th>9</th>\n",
       "      <td>10천이상 11천미만</td>\n",
       "      <td>0.32</td>\n",
       "      <td>250</td>\n",
       "    </tr>\n",
       "    <tr>\n",
       "      <th>10</th>\n",
       "      <td>11천이상 12천미만</td>\n",
       "      <td>0.44</td>\n",
       "      <td>167</td>\n",
       "    </tr>\n",
       "    <tr>\n",
       "      <th>11</th>\n",
       "      <td>12천이상 13천미만</td>\n",
       "      <td>0.70</td>\n",
       "      <td>1266</td>\n",
       "    </tr>\n",
       "    <tr>\n",
       "      <th>12</th>\n",
       "      <td>14천이상 15천미만</td>\n",
       "      <td>0.68</td>\n",
       "      <td>12</td>\n",
       "    </tr>\n",
       "    <tr>\n",
       "      <th>13</th>\n",
       "      <td>15천이상 16천미만</td>\n",
       "      <td>0.07</td>\n",
       "      <td>15</td>\n",
       "    </tr>\n",
       "    <tr>\n",
       "      <th>14</th>\n",
       "      <td>16천이상 17천미만</td>\n",
       "      <td>0.34</td>\n",
       "      <td>25</td>\n",
       "    </tr>\n",
       "    <tr>\n",
       "      <th>15</th>\n",
       "      <td>총합</td>\n",
       "      <td>NaN</td>\n",
       "      <td>105740</td>\n",
       "    </tr>\n",
       "  </tbody>\n",
       "</table>\n",
       "</div>"
      ],
      "text/plain": [
       "        배기량(cc)  매연RSD_평균    측정건수\n",
       "0     1천이상 2천미만      0.65   34673\n",
       "1     2천이상 3천미만      0.65   60312\n",
       "2     3천이상 4천미만      0.72    4065\n",
       "3     4천이상 5천미만      0.60     235\n",
       "4     5천이상 6천미만      0.49    1389\n",
       "5     6천이상 7천미만      0.57    2283\n",
       "6     7천이상 8천미만      0.61     116\n",
       "7     8천이상 9천미만      0.72     190\n",
       "8    9천이상 10천미만      1.20     742\n",
       "9   10천이상 11천미만      0.32     250\n",
       "10  11천이상 12천미만      0.44     167\n",
       "11  12천이상 13천미만      0.70    1266\n",
       "12  14천이상 15천미만      0.68      12\n",
       "13  15천이상 16천미만      0.07      15\n",
       "14  16천이상 17천미만      0.34      25\n",
       "15           총합       NaN  105740"
      ]
     },
     "execution_count": 175,
     "metadata": {},
     "output_type": "execute_result"
    }
   ],
   "source": [
    "grp7 = die.groupby(['배기량구분인덱스', '배기량구분'], dropna=False).agg({'매연':'mean', '차량번호':'count'}).reset_index()\n",
    "grp7['매연'] = grp7['매연'].round(2)\n",
    "grp7 = grp7.rename(columns={'매연':'매연RSD_평균', '차량번호':'측정건수', '배기량구분':'배기량(cc)'})\n",
    "grp7.loc[grp7.shape[0]] = [grp7['배기량구분인덱스'].max() + 1, '총합', np.nan, grp7['측정건수'].sum()]\n",
    "grp7 = grp7.drop('배기량구분인덱스', axis=1)\n",
    "grp7    "
   ]
  },
  {
   "cell_type": "markdown",
   "metadata": {},
   "source": [
    "### 8\\. 경유 > 차량중량별 매연RSD 측정 평균, 건수"
   ]
  },
  {
   "cell_type": "code",
   "execution_count": 176,
   "metadata": {},
   "outputs": [
    {
     "data": {
      "text/html": [
       "<div>\n",
       "<style scoped>\n",
       "    .dataframe tbody tr th:only-of-type {\n",
       "        vertical-align: middle;\n",
       "    }\n",
       "\n",
       "    .dataframe tbody tr th {\n",
       "        vertical-align: top;\n",
       "    }\n",
       "\n",
       "    .dataframe thead th {\n",
       "        text-align: right;\n",
       "    }\n",
       "</style>\n",
       "<table border=\"1\" class=\"dataframe\">\n",
       "  <thead>\n",
       "    <tr style=\"text-align: right;\">\n",
       "      <th></th>\n",
       "      <th>차량중량구분</th>\n",
       "      <th>매연RSD_평균</th>\n",
       "      <th>측정건수</th>\n",
       "    </tr>\n",
       "  </thead>\n",
       "  <tbody>\n",
       "    <tr>\n",
       "      <th>0</th>\n",
       "      <td>1천이상 2천미만</td>\n",
       "      <td>0.64</td>\n",
       "      <td>17207</td>\n",
       "    </tr>\n",
       "    <tr>\n",
       "      <th>1</th>\n",
       "      <td>2천이상 3천미만</td>\n",
       "      <td>0.66</td>\n",
       "      <td>57182</td>\n",
       "    </tr>\n",
       "    <tr>\n",
       "      <th>2</th>\n",
       "      <td>3천이상 4천미만</td>\n",
       "      <td>0.62</td>\n",
       "      <td>20530</td>\n",
       "    </tr>\n",
       "    <tr>\n",
       "      <th>3</th>\n",
       "      <td>4천이상 5천미만</td>\n",
       "      <td>1.12</td>\n",
       "      <td>25</td>\n",
       "    </tr>\n",
       "    <tr>\n",
       "      <th>4</th>\n",
       "      <td>5천이상 6천미만</td>\n",
       "      <td>0.77</td>\n",
       "      <td>1473</td>\n",
       "    </tr>\n",
       "    <tr>\n",
       "      <th>5</th>\n",
       "      <td>6천이상 7천미만</td>\n",
       "      <td>0.83</td>\n",
       "      <td>669</td>\n",
       "    </tr>\n",
       "    <tr>\n",
       "      <th>6</th>\n",
       "      <td>7천이상 8천미만</td>\n",
       "      <td>0.63</td>\n",
       "      <td>1778</td>\n",
       "    </tr>\n",
       "    <tr>\n",
       "      <th>7</th>\n",
       "      <td>8천이상 9천미만</td>\n",
       "      <td>0.68</td>\n",
       "      <td>415</td>\n",
       "    </tr>\n",
       "    <tr>\n",
       "      <th>8</th>\n",
       "      <td>9천이상 10천미만</td>\n",
       "      <td>0.95</td>\n",
       "      <td>289</td>\n",
       "    </tr>\n",
       "    <tr>\n",
       "      <th>9</th>\n",
       "      <td>10천이상 11천미만</td>\n",
       "      <td>0.70</td>\n",
       "      <td>845</td>\n",
       "    </tr>\n",
       "    <tr>\n",
       "      <th>10</th>\n",
       "      <td>11천이상 12천미만</td>\n",
       "      <td>0.49</td>\n",
       "      <td>729</td>\n",
       "    </tr>\n",
       "    <tr>\n",
       "      <th>11</th>\n",
       "      <td>12천이상 13천미만</td>\n",
       "      <td>0.39</td>\n",
       "      <td>525</td>\n",
       "    </tr>\n",
       "    <tr>\n",
       "      <th>12</th>\n",
       "      <td>13천이상 14천미만</td>\n",
       "      <td>0.88</td>\n",
       "      <td>758</td>\n",
       "    </tr>\n",
       "    <tr>\n",
       "      <th>13</th>\n",
       "      <td>14천이상 15천미만</td>\n",
       "      <td>0.87</td>\n",
       "      <td>909</td>\n",
       "    </tr>\n",
       "    <tr>\n",
       "      <th>14</th>\n",
       "      <td>15천이상 16천미만</td>\n",
       "      <td>1.00</td>\n",
       "      <td>818</td>\n",
       "    </tr>\n",
       "    <tr>\n",
       "      <th>15</th>\n",
       "      <td>16천이상 17천미만</td>\n",
       "      <td>0.37</td>\n",
       "      <td>221</td>\n",
       "    </tr>\n",
       "    <tr>\n",
       "      <th>16</th>\n",
       "      <td>17천이상 18천미만</td>\n",
       "      <td>0.34</td>\n",
       "      <td>63</td>\n",
       "    </tr>\n",
       "    <tr>\n",
       "      <th>17</th>\n",
       "      <td>18천이상 19천미만</td>\n",
       "      <td>0.41</td>\n",
       "      <td>45</td>\n",
       "    </tr>\n",
       "    <tr>\n",
       "      <th>18</th>\n",
       "      <td>19천이상 20천미만</td>\n",
       "      <td>0.08</td>\n",
       "      <td>29</td>\n",
       "    </tr>\n",
       "    <tr>\n",
       "      <th>19</th>\n",
       "      <td>20천이상 21천미만</td>\n",
       "      <td>0.17</td>\n",
       "      <td>14</td>\n",
       "    </tr>\n",
       "    <tr>\n",
       "      <th>20</th>\n",
       "      <td>21천이상 22천미만</td>\n",
       "      <td>0.63</td>\n",
       "      <td>26</td>\n",
       "    </tr>\n",
       "    <tr>\n",
       "      <th>21</th>\n",
       "      <td>22천이상 23천미만</td>\n",
       "      <td>0.34</td>\n",
       "      <td>41</td>\n",
       "    </tr>\n",
       "    <tr>\n",
       "      <th>22</th>\n",
       "      <td>23천이상 24천미만</td>\n",
       "      <td>0.11</td>\n",
       "      <td>14</td>\n",
       "    </tr>\n",
       "    <tr>\n",
       "      <th>23</th>\n",
       "      <td>24천이상 25천미만</td>\n",
       "      <td>0.02</td>\n",
       "      <td>31</td>\n",
       "    </tr>\n",
       "    <tr>\n",
       "      <th>24</th>\n",
       "      <td>25천이상 26천미만</td>\n",
       "      <td>0.21</td>\n",
       "      <td>240</td>\n",
       "    </tr>\n",
       "    <tr>\n",
       "      <th>25</th>\n",
       "      <td>26천이상 27천미만</td>\n",
       "      <td>0.15</td>\n",
       "      <td>95</td>\n",
       "    </tr>\n",
       "    <tr>\n",
       "      <th>26</th>\n",
       "      <td>27천이상 28천미만</td>\n",
       "      <td>0.24</td>\n",
       "      <td>24</td>\n",
       "    </tr>\n",
       "    <tr>\n",
       "      <th>27</th>\n",
       "      <td>28천이상 29천미만</td>\n",
       "      <td>0.00</td>\n",
       "      <td>7</td>\n",
       "    </tr>\n",
       "    <tr>\n",
       "      <th>28</th>\n",
       "      <td>29천이상 30천미만</td>\n",
       "      <td>0.31</td>\n",
       "      <td>18</td>\n",
       "    </tr>\n",
       "    <tr>\n",
       "      <th>29</th>\n",
       "      <td>30천이상 31천미만</td>\n",
       "      <td>0.33</td>\n",
       "      <td>13</td>\n",
       "    </tr>\n",
       "    <tr>\n",
       "      <th>30</th>\n",
       "      <td>31천이상 32천미만</td>\n",
       "      <td>0.12</td>\n",
       "      <td>10</td>\n",
       "    </tr>\n",
       "    <tr>\n",
       "      <th>31</th>\n",
       "      <td>32천이상 33천미만</td>\n",
       "      <td>0.00</td>\n",
       "      <td>3</td>\n",
       "    </tr>\n",
       "    <tr>\n",
       "      <th>32</th>\n",
       "      <td>33천이상 34천미만</td>\n",
       "      <td>0.04</td>\n",
       "      <td>10</td>\n",
       "    </tr>\n",
       "    <tr>\n",
       "      <th>33</th>\n",
       "      <td>34천이상 35천미만</td>\n",
       "      <td>0.56</td>\n",
       "      <td>12</td>\n",
       "    </tr>\n",
       "    <tr>\n",
       "      <th>34</th>\n",
       "      <td>35천이상 36천미만</td>\n",
       "      <td>0.33</td>\n",
       "      <td>83</td>\n",
       "    </tr>\n",
       "    <tr>\n",
       "      <th>35</th>\n",
       "      <td>36천이상 37천미만</td>\n",
       "      <td>0.50</td>\n",
       "      <td>25</td>\n",
       "    </tr>\n",
       "    <tr>\n",
       "      <th>36</th>\n",
       "      <td>37천이상 38천미만</td>\n",
       "      <td>0.40</td>\n",
       "      <td>63</td>\n",
       "    </tr>\n",
       "    <tr>\n",
       "      <th>37</th>\n",
       "      <td>38천이상 39천미만</td>\n",
       "      <td>0.16</td>\n",
       "      <td>216</td>\n",
       "    </tr>\n",
       "    <tr>\n",
       "      <th>38</th>\n",
       "      <td>39천이상 40천미만</td>\n",
       "      <td>0.26</td>\n",
       "      <td>285</td>\n",
       "    </tr>\n",
       "    <tr>\n",
       "      <th>39</th>\n",
       "      <td>총합</td>\n",
       "      <td>NaN</td>\n",
       "      <td>105740</td>\n",
       "    </tr>\n",
       "  </tbody>\n",
       "</table>\n",
       "</div>"
      ],
      "text/plain": [
       "         차량중량구분  매연RSD_평균    측정건수\n",
       "0     1천이상 2천미만      0.64   17207\n",
       "1     2천이상 3천미만      0.66   57182\n",
       "2     3천이상 4천미만      0.62   20530\n",
       "3     4천이상 5천미만      1.12      25\n",
       "4     5천이상 6천미만      0.77    1473\n",
       "5     6천이상 7천미만      0.83     669\n",
       "6     7천이상 8천미만      0.63    1778\n",
       "7     8천이상 9천미만      0.68     415\n",
       "8    9천이상 10천미만      0.95     289\n",
       "9   10천이상 11천미만      0.70     845\n",
       "10  11천이상 12천미만      0.49     729\n",
       "11  12천이상 13천미만      0.39     525\n",
       "12  13천이상 14천미만      0.88     758\n",
       "13  14천이상 15천미만      0.87     909\n",
       "14  15천이상 16천미만      1.00     818\n",
       "15  16천이상 17천미만      0.37     221\n",
       "16  17천이상 18천미만      0.34      63\n",
       "17  18천이상 19천미만      0.41      45\n",
       "18  19천이상 20천미만      0.08      29\n",
       "19  20천이상 21천미만      0.17      14\n",
       "20  21천이상 22천미만      0.63      26\n",
       "21  22천이상 23천미만      0.34      41\n",
       "22  23천이상 24천미만      0.11      14\n",
       "23  24천이상 25천미만      0.02      31\n",
       "24  25천이상 26천미만      0.21     240\n",
       "25  26천이상 27천미만      0.15      95\n",
       "26  27천이상 28천미만      0.24      24\n",
       "27  28천이상 29천미만      0.00       7\n",
       "28  29천이상 30천미만      0.31      18\n",
       "29  30천이상 31천미만      0.33      13\n",
       "30  31천이상 32천미만      0.12      10\n",
       "31  32천이상 33천미만      0.00       3\n",
       "32  33천이상 34천미만      0.04      10\n",
       "33  34천이상 35천미만      0.56      12\n",
       "34  35천이상 36천미만      0.33      83\n",
       "35  36천이상 37천미만      0.50      25\n",
       "36  37천이상 38천미만      0.40      63\n",
       "37  38천이상 39천미만      0.16     216\n",
       "38  39천이상 40천미만      0.26     285\n",
       "39           총합       NaN  105740"
      ]
     },
     "execution_count": 176,
     "metadata": {},
     "output_type": "execute_result"
    }
   ],
   "source": [
    "grp8 = die.groupby(['총중량구분인덱스', '총중량구분'], dropna=False).agg({'매연':'mean', '차량번호':'count'}).reset_index()\n",
    "grp8['매연'] = grp8['매연'].round(2)\n",
    "grp8 = grp8.rename(columns={'총중량구분':'차량중량구분', '매연':'매연RSD_평균', '차량번호':'측정건수'})\n",
    "grp8.loc[grp8.shape[0]] = [grp8['총중량구분인덱스'].max() + 1, '총합', np.nan, grp8['측정건수'].sum()]\n",
    "grp8 = grp8.drop('총중량구분인덱스', axis=1)\n",
    "grp8    "
   ]
  },
  {
   "cell_type": "markdown",
   "metadata": {},
   "source": [
    "### 9\\. 경유 > 종합검사 매연허용기준별\n",
    "- 매연허용치 8미만 제외\n",
    "- 4륜 자동차의 경유 검사장비가 없어서 정기검사(무부하)만 가능함으로 정기검사 기준이 기록됨.(2023.09.20, 최이사님)"
   ]
  },
  {
   "cell_type": "code",
   "execution_count": 177,
   "metadata": {},
   "outputs": [
    {
     "data": {
      "text/plain": [
       "Index(['측정날짜', '측정시간', '기록상태', '유효', '속도', '가속도', '플래그', 'VSP', '매연', '차량번호',\n",
       "       '차선번호', '풍속', '습도', '온도', '측정장소코드', '연료', '연식', '배기량', '차종', '총중량',\n",
       "       '엔진형식', '등급', '차대번호', '차명', '폐차여부', '정밀검사일자', '정밀검사종류', '관능검사판정',\n",
       "       '정밀검사판정', '정밀검사측정방법', '무부하매연측정치1', '무부하매연허용치1', '무부하매연판정1', '무부하매연측정치2',\n",
       "       '무부하매연허용치2', '무부하매연판정2', '무부하매연측정치3', '무부하매연허용치3', '무부하매연판정3',\n",
       "       '무부하매연측정치4', '무부하매연허용치4', '무부하매연판정4', '무부하매연측정치5', '무부하매연허용치5',\n",
       "       '무부하매연판정5', '무부하매연측정치6', '무부하매연허용치6', '무부하매연판정6', '속도구분', '속도구분인덱스',\n",
       "       '배기량구분', '배기량구분인덱스', '총중량구분', '총중량구분인덱스', '매연구분', '매연구분인덱스', '연식구분'],\n",
       "      dtype='object')"
      ]
     },
     "execution_count": 177,
     "metadata": {},
     "output_type": "execute_result"
    }
   ],
   "source": [
    "die.columns"
   ]
  },
  {
   "cell_type": "code",
   "execution_count": 178,
   "metadata": {},
   "outputs": [],
   "source": [
    "# die['차량제작일자'].dtype"
   ]
  },
  {
   "cell_type": "code",
   "execution_count": 179,
   "metadata": {},
   "outputs": [],
   "source": [
    "# die['차량제작일자'] = pd.to_datetime(die['차량제작일자'], format=\"%Y%m%d\", errors='coerce')\n",
    "# die['차량제작일자'].isnull().sum()"
   ]
  },
  {
   "cell_type": "code",
   "execution_count": 180,
   "metadata": {},
   "outputs": [],
   "source": [
    "# die['차량제작일자'].head()"
   ]
  },
  {
   "cell_type": "code",
   "execution_count": 181,
   "metadata": {},
   "outputs": [],
   "source": [
    "# die.loc[die['차량제작일자'] == '20170904', '차량제작일자'].head()"
   ]
  },
  {
   "cell_type": "code",
   "execution_count": 182,
   "metadata": {},
   "outputs": [],
   "source": [
    "# die.loc[die['차량제작일자'] == '2017-09-04', '차량제작일자'].head()"
   ]
  },
  {
   "cell_type": "code",
   "execution_count": 183,
   "metadata": {},
   "outputs": [],
   "source": [
    "# die.loc[die['차량제작일자'] > '2017-09-04', '차량제작일자'].head()"
   ]
  },
  {
   "cell_type": "code",
   "execution_count": 184,
   "metadata": {},
   "outputs": [
    {
     "data": {
      "text/plain": [
       "array(['부하검사(KD-147)', '무부하검사(급가속)', nan, '부하검사(LUG DOWN)',\n",
       "       '부하검사(ASM-Idling)'], dtype=object)"
      ]
     },
     "execution_count": 184,
     "metadata": {},
     "output_type": "execute_result"
    }
   ],
   "source": [
    "die['정밀검사측정방법'].unique()"
   ]
  },
  {
   "cell_type": "code",
   "execution_count": 185,
   "metadata": {},
   "outputs": [
    {
     "data": {
      "text/plain": [
       "부하검사(KD-147)        49022\n",
       "NaN                 42705\n",
       "무부하검사(급가속)           7836\n",
       "부하검사(LUG DOWN)       6155\n",
       "부하검사(ASM-Idling)       22\n",
       "Name: 정밀검사측정방법, dtype: int64"
      ]
     },
     "execution_count": 185,
     "metadata": {},
     "output_type": "execute_result"
    }
   ],
   "source": [
    "die['정밀검사측정방법'].value_counts(dropna=False)"
   ]
  },
  {
   "cell_type": "code",
   "execution_count": 186,
   "metadata": {},
   "outputs": [
    {
     "data": {
      "text/html": [
       "<div>\n",
       "<style scoped>\n",
       "    .dataframe tbody tr th:only-of-type {\n",
       "        vertical-align: middle;\n",
       "    }\n",
       "\n",
       "    .dataframe tbody tr th {\n",
       "        vertical-align: top;\n",
       "    }\n",
       "\n",
       "    .dataframe thead th {\n",
       "        text-align: right;\n",
       "    }\n",
       "</style>\n",
       "<table border=\"1\" class=\"dataframe\">\n",
       "  <thead>\n",
       "    <tr style=\"text-align: right;\">\n",
       "      <th></th>\n",
       "      <th>정밀검사측정방법</th>\n",
       "      <th>무부하매연측정치1</th>\n",
       "      <th>무부하매연허용치1</th>\n",
       "    </tr>\n",
       "  </thead>\n",
       "  <tbody>\n",
       "    <tr>\n",
       "      <th>0</th>\n",
       "      <td>부하검사(KD-147)</td>\n",
       "      <td>0.00</td>\n",
       "      <td>8.00</td>\n",
       "    </tr>\n",
       "    <tr>\n",
       "      <th>1</th>\n",
       "      <td>부하검사(KD-147)</td>\n",
       "      <td>7.00</td>\n",
       "      <td>8.00</td>\n",
       "    </tr>\n",
       "    <tr>\n",
       "      <th>2</th>\n",
       "      <td>부하검사(KD-147)</td>\n",
       "      <td>2.00</td>\n",
       "      <td>15.00</td>\n",
       "    </tr>\n",
       "    <tr>\n",
       "      <th>4</th>\n",
       "      <td>부하검사(KD-147)</td>\n",
       "      <td>0.00</td>\n",
       "      <td>15.00</td>\n",
       "    </tr>\n",
       "    <tr>\n",
       "      <th>8</th>\n",
       "      <td>부하검사(KD-147)</td>\n",
       "      <td>0.00</td>\n",
       "      <td>15.00</td>\n",
       "    </tr>\n",
       "  </tbody>\n",
       "</table>\n",
       "</div>"
      ],
      "text/plain": [
       "       정밀검사측정방법  무부하매연측정치1  무부하매연허용치1\n",
       "0  부하검사(KD-147)       0.00       8.00\n",
       "1  부하검사(KD-147)       7.00       8.00\n",
       "2  부하검사(KD-147)       2.00      15.00\n",
       "4  부하검사(KD-147)       0.00      15.00\n",
       "8  부하검사(KD-147)       0.00      15.00"
      ]
     },
     "execution_count": 186,
     "metadata": {},
     "output_type": "execute_result"
    }
   ],
   "source": [
    "die.loc[die['정밀검사측정방법'] == '부하검사(KD-147)', ['정밀검사측정방법', '무부하매연측정치1', '무부하매연허용치1']].head()"
   ]
  },
  {
   "cell_type": "code",
   "execution_count": 187,
   "metadata": {},
   "outputs": [],
   "source": [
    "# die.loc[die['차량제작일자'] <= '1992-12-31', '정밀검사_매연허용치'] = 45\n",
    "# die.loc[(die['차량제작일자'] >= '1993-01-01') & (die['차량제작일자'] <= '1995-12-31'), '정밀검사_매연허용치'] = 40\n",
    "# die.loc[(die['차량제작일자'] >= '1996-01-01') & (die['차량제작일자'] <= '2000-12-31'), '정밀검사_매연허용치'] = 35\n",
    "# die.loc[(die['차량제작일자'] >= '2001-01-01') & (die['차량제작일자'] <= '2007-12-31'), '정밀검사_매연허용치'] = 25\n",
    "# die.loc[(die['차량제작일자'] >= '2008-01-01') & (die['차량제작일자'] <= '2016-08-31'), '정밀검사_매연허용치'] = 15\n",
    "# die.loc[die['차량제작일자'] <= '2018-01-01', '정밀검사_매연허용치'] = 8"
   ]
  },
  {
   "cell_type": "code",
   "execution_count": 188,
   "metadata": {},
   "outputs": [
    {
     "data": {
      "text/plain": [
       "array([ 8.  , 15.  , 20.  ,   nan, 25.  , 10.  , 40.  ,  0.49, 45.  ,\n",
       "       35.  ,  3.26,  0.56, 30.  ,  2.18, 50.  ,  2.13,  2.46])"
      ]
     },
     "execution_count": 188,
     "metadata": {},
     "output_type": "execute_result"
    }
   ],
   "source": [
    "die['무부하매연허용치1'].unique()"
   ]
  },
  {
   "cell_type": "code",
   "execution_count": 189,
   "metadata": {},
   "outputs": [
    {
     "data": {
      "text/plain": [
       "dtype('float64')"
      ]
     },
     "execution_count": 189,
     "metadata": {},
     "output_type": "execute_result"
    }
   ],
   "source": [
    "die['무부하매연허용치1'].dtype"
   ]
  },
  {
   "cell_type": "code",
   "execution_count": 190,
   "metadata": {},
   "outputs": [
    {
     "data": {
      "text/plain": [
       "count   62590.00\n",
       "mean       13.81\n",
       "std         4.80\n",
       "min         0.49\n",
       "25%         8.00\n",
       "50%        15.00\n",
       "75%        15.00\n",
       "max        50.00\n",
       "Name: 무부하매연허용치1, dtype: float64"
      ]
     },
     "execution_count": 190,
     "metadata": {},
     "output_type": "execute_result"
    }
   ],
   "source": [
    "die['무부하매연허용치1'].describe()"
   ]
  },
  {
   "cell_type": "code",
   "execution_count": 191,
   "metadata": {},
   "outputs": [
    {
     "data": {
      "text/plain": [
       "(62569, 57)"
      ]
     },
     "execution_count": 191,
     "metadata": {},
     "output_type": "execute_result"
    }
   ],
   "source": [
    "die[die['무부하매연허용치1'] >= 8].shape"
   ]
  },
  {
   "cell_type": "code",
   "execution_count": 192,
   "metadata": {},
   "outputs": [
    {
     "data": {
      "text/html": [
       "<div>\n",
       "<style scoped>\n",
       "    .dataframe tbody tr th:only-of-type {\n",
       "        vertical-align: middle;\n",
       "    }\n",
       "\n",
       "    .dataframe tbody tr th {\n",
       "        vertical-align: top;\n",
       "    }\n",
       "\n",
       "    .dataframe thead th {\n",
       "        text-align: right;\n",
       "    }\n",
       "</style>\n",
       "<table border=\"1\" class=\"dataframe\">\n",
       "  <thead>\n",
       "    <tr style=\"text-align: right;\">\n",
       "      <th></th>\n",
       "      <th>매연허용기준(%)</th>\n",
       "      <th>매연RSD_평균</th>\n",
       "      <th>측정건수</th>\n",
       "    </tr>\n",
       "  </thead>\n",
       "  <tbody>\n",
       "    <tr>\n",
       "      <th>0</th>\n",
       "      <td>8.00</td>\n",
       "      <td>0.63</td>\n",
       "      <td>18564</td>\n",
       "    </tr>\n",
       "    <tr>\n",
       "      <th>1</th>\n",
       "      <td>10.00</td>\n",
       "      <td>0.59</td>\n",
       "      <td>1488</td>\n",
       "    </tr>\n",
       "    <tr>\n",
       "      <th>2</th>\n",
       "      <td>15.00</td>\n",
       "      <td>0.69</td>\n",
       "      <td>34355</td>\n",
       "    </tr>\n",
       "    <tr>\n",
       "      <th>3</th>\n",
       "      <td>20.00</td>\n",
       "      <td>0.71</td>\n",
       "      <td>4084</td>\n",
       "    </tr>\n",
       "    <tr>\n",
       "      <th>4</th>\n",
       "      <td>25.00</td>\n",
       "      <td>0.74</td>\n",
       "      <td>3960</td>\n",
       "    </tr>\n",
       "    <tr>\n",
       "      <th>5</th>\n",
       "      <td>30.00</td>\n",
       "      <td>0.69</td>\n",
       "      <td>15</td>\n",
       "    </tr>\n",
       "    <tr>\n",
       "      <th>6</th>\n",
       "      <td>35.00</td>\n",
       "      <td>0.40</td>\n",
       "      <td>1</td>\n",
       "    </tr>\n",
       "    <tr>\n",
       "      <th>7</th>\n",
       "      <td>40.00</td>\n",
       "      <td>0.98</td>\n",
       "      <td>57</td>\n",
       "    </tr>\n",
       "    <tr>\n",
       "      <th>8</th>\n",
       "      <td>45.00</td>\n",
       "      <td>0.82</td>\n",
       "      <td>41</td>\n",
       "    </tr>\n",
       "    <tr>\n",
       "      <th>9</th>\n",
       "      <td>50.00</td>\n",
       "      <td>1.90</td>\n",
       "      <td>4</td>\n",
       "    </tr>\n",
       "    <tr>\n",
       "      <th>10</th>\n",
       "      <td>총합</td>\n",
       "      <td>NaN</td>\n",
       "      <td>62569</td>\n",
       "    </tr>\n",
       "  </tbody>\n",
       "</table>\n",
       "</div>"
      ],
      "text/plain": [
       "   매연허용기준(%)  매연RSD_평균   측정건수\n",
       "0       8.00      0.63  18564\n",
       "1      10.00      0.59   1488\n",
       "2      15.00      0.69  34355\n",
       "3      20.00      0.71   4084\n",
       "4      25.00      0.74   3960\n",
       "5      30.00      0.69     15\n",
       "6      35.00      0.40      1\n",
       "7      40.00      0.98     57\n",
       "8      45.00      0.82     41\n",
       "9      50.00      1.90      4\n",
       "10        총합       NaN  62569"
      ]
     },
     "execution_count": 192,
     "metadata": {},
     "output_type": "execute_result"
    }
   ],
   "source": [
    "grp9 = die[die['무부하매연허용치1'] >= 8].groupby(['무부하매연허용치1'], dropna=False).agg({'매연':'mean', '차량번호':'count'}).reset_index()\n",
    "grp9['매연'] = grp9['매연'].round(2)\n",
    "grp9 = grp9.rename(columns={'무부하매연허용치1':'매연허용기준(%)', '매연':'매연RSD_평균', '차량번호':'측정건수'})\n",
    "grp9.loc[grp9.shape[0]] = ['총합', np.nan, grp9['측정건수'].sum()]\n",
    "grp9"
   ]
  },
  {
   "cell_type": "markdown",
   "metadata": {},
   "source": [
    "### 10\\. 경유 > 종합검사 NOx허용기준별"
   ]
  },
  {
   "cell_type": "code",
   "execution_count": 193,
   "metadata": {},
   "outputs": [
    {
     "data": {
      "text/plain": [
       "array([  nan,   15.,    8.,    0.,  580.,   20.,   25., 2340.,  700.,\n",
       "         30., 1830.,   50., 1200., 2070.])"
      ]
     },
     "execution_count": 193,
     "metadata": {},
     "output_type": "execute_result"
    }
   ],
   "source": [
    "die['무부하매연허용치3'].unique()"
   ]
  },
  {
   "cell_type": "code",
   "execution_count": 194,
   "metadata": {},
   "outputs": [
    {
     "data": {
      "text/plain": [
       "dtype('float64')"
      ]
     },
     "execution_count": 194,
     "metadata": {},
     "output_type": "execute_result"
    }
   ],
   "source": [
    "die['무부하매연허용치3'].dtype"
   ]
  },
  {
   "cell_type": "code",
   "execution_count": 195,
   "metadata": {},
   "outputs": [
    {
     "data": {
      "text/plain": [
       "count   28676.00\n",
       "mean        4.00\n",
       "std        41.73\n",
       "min         0.00\n",
       "25%         0.00\n",
       "50%         0.00\n",
       "75%         0.00\n",
       "max      2340.00\n",
       "Name: 무부하매연허용치3, dtype: float64"
      ]
     },
     "execution_count": 195,
     "metadata": {},
     "output_type": "execute_result"
    }
   ],
   "source": [
    "die['무부하매연허용치3'].describe()"
   ]
  },
  {
   "cell_type": "code",
   "execution_count": 196,
   "metadata": {},
   "outputs": [
    {
     "data": {
      "text/html": [
       "<div>\n",
       "<style scoped>\n",
       "    .dataframe tbody tr th:only-of-type {\n",
       "        vertical-align: middle;\n",
       "    }\n",
       "\n",
       "    .dataframe tbody tr th {\n",
       "        vertical-align: top;\n",
       "    }\n",
       "\n",
       "    .dataframe thead th {\n",
       "        text-align: right;\n",
       "    }\n",
       "</style>\n",
       "<table border=\"1\" class=\"dataframe\">\n",
       "  <thead>\n",
       "    <tr style=\"text-align: right;\">\n",
       "      <th></th>\n",
       "      <th>NOx허용기준(ppm)</th>\n",
       "      <th>매연RSD_평균</th>\n",
       "      <th>측정건수</th>\n",
       "    </tr>\n",
       "  </thead>\n",
       "  <tbody>\n",
       "    <tr>\n",
       "      <th>0</th>\n",
       "      <td>0.00</td>\n",
       "      <td>0.66</td>\n",
       "      <td>22519</td>\n",
       "    </tr>\n",
       "    <tr>\n",
       "      <th>1</th>\n",
       "      <td>8.00</td>\n",
       "      <td>0.75</td>\n",
       "      <td>1551</td>\n",
       "    </tr>\n",
       "    <tr>\n",
       "      <th>2</th>\n",
       "      <td>15.00</td>\n",
       "      <td>0.70</td>\n",
       "      <td>3781</td>\n",
       "    </tr>\n",
       "    <tr>\n",
       "      <th>3</th>\n",
       "      <td>20.00</td>\n",
       "      <td>0.76</td>\n",
       "      <td>717</td>\n",
       "    </tr>\n",
       "    <tr>\n",
       "      <th>4</th>\n",
       "      <td>25.00</td>\n",
       "      <td>1.08</td>\n",
       "      <td>68</td>\n",
       "    </tr>\n",
       "    <tr>\n",
       "      <th>5</th>\n",
       "      <td>30.00</td>\n",
       "      <td>0.69</td>\n",
       "      <td>15</td>\n",
       "    </tr>\n",
       "    <tr>\n",
       "      <th>6</th>\n",
       "      <td>50.00</td>\n",
       "      <td>1.90</td>\n",
       "      <td>4</td>\n",
       "    </tr>\n",
       "    <tr>\n",
       "      <th>7</th>\n",
       "      <td>580.00</td>\n",
       "      <td>0.90</td>\n",
       "      <td>1</td>\n",
       "    </tr>\n",
       "    <tr>\n",
       "      <th>8</th>\n",
       "      <td>700.00</td>\n",
       "      <td>0.55</td>\n",
       "      <td>8</td>\n",
       "    </tr>\n",
       "    <tr>\n",
       "      <th>9</th>\n",
       "      <td>1200.00</td>\n",
       "      <td>0.03</td>\n",
       "      <td>3</td>\n",
       "    </tr>\n",
       "    <tr>\n",
       "      <th>10</th>\n",
       "      <td>1830.00</td>\n",
       "      <td>0.67</td>\n",
       "      <td>3</td>\n",
       "    </tr>\n",
       "    <tr>\n",
       "      <th>11</th>\n",
       "      <td>2070.00</td>\n",
       "      <td>0.00</td>\n",
       "      <td>2</td>\n",
       "    </tr>\n",
       "    <tr>\n",
       "      <th>12</th>\n",
       "      <td>2340.00</td>\n",
       "      <td>1.35</td>\n",
       "      <td>4</td>\n",
       "    </tr>\n",
       "    <tr>\n",
       "      <th>13</th>\n",
       "      <td>NaN</td>\n",
       "      <td>0.64</td>\n",
       "      <td>77064</td>\n",
       "    </tr>\n",
       "    <tr>\n",
       "      <th>14</th>\n",
       "      <td>총합</td>\n",
       "      <td>NaN</td>\n",
       "      <td>105740</td>\n",
       "    </tr>\n",
       "  </tbody>\n",
       "</table>\n",
       "</div>"
      ],
      "text/plain": [
       "   NOx허용기준(ppm)  매연RSD_평균    측정건수\n",
       "0          0.00      0.66   22519\n",
       "1          8.00      0.75    1551\n",
       "2         15.00      0.70    3781\n",
       "3         20.00      0.76     717\n",
       "4         25.00      1.08      68\n",
       "5         30.00      0.69      15\n",
       "6         50.00      1.90       4\n",
       "7        580.00      0.90       1\n",
       "8        700.00      0.55       8\n",
       "9       1200.00      0.03       3\n",
       "10      1830.00      0.67       3\n",
       "11      2070.00      0.00       2\n",
       "12      2340.00      1.35       4\n",
       "13          NaN      0.64   77064\n",
       "14           총합       NaN  105740"
      ]
     },
     "execution_count": 196,
     "metadata": {},
     "output_type": "execute_result"
    }
   ],
   "source": [
    "grp10 = die.groupby(['무부하매연허용치3'], dropna=False).agg({'매연':'mean', '차량번호':'count'}).reset_index()\n",
    "grp10['매연'] = grp10['매연'].round(2)\n",
    "grp10 = grp10.rename(columns={'무부하매연허용치3':'NOx허용기준(ppm)', '매연':'매연RSD_평균', '차량번호':'측정건수'})\n",
    "grp10.loc[grp10.shape[0]] = ['총합', np.nan, grp10['측정건수'].sum()]\n",
    "grp10"
   ]
  },
  {
   "cell_type": "markdown",
   "metadata": {},
   "source": [
    "## 매연RSD 매연농도별 측정건수 분포\n",
    "- 농도별(0.5단위) : 0 이상 0.5미만, …"
   ]
  },
  {
   "cell_type": "markdown",
   "metadata": {},
   "source": [
    "### 11\\. RSD 매연 농도별 데이터 수량"
   ]
  },
  {
   "cell_type": "code",
   "execution_count": 197,
   "metadata": {},
   "outputs": [
    {
     "data": {
      "text/html": [
       "<div>\n",
       "<style scoped>\n",
       "    .dataframe tbody tr th:only-of-type {\n",
       "        vertical-align: middle;\n",
       "    }\n",
       "\n",
       "    .dataframe tbody tr th {\n",
       "        vertical-align: top;\n",
       "    }\n",
       "\n",
       "    .dataframe thead th {\n",
       "        text-align: right;\n",
       "    }\n",
       "</style>\n",
       "<table border=\"1\" class=\"dataframe\">\n",
       "  <thead>\n",
       "    <tr style=\"text-align: right;\">\n",
       "      <th></th>\n",
       "      <th>매연(%)</th>\n",
       "      <th>측정건수</th>\n",
       "    </tr>\n",
       "  </thead>\n",
       "  <tbody>\n",
       "    <tr>\n",
       "      <th>0</th>\n",
       "      <td>0이상 0.5미만</td>\n",
       "      <td>52134</td>\n",
       "    </tr>\n",
       "    <tr>\n",
       "      <th>1</th>\n",
       "      <td>0.5이상 1.0미만</td>\n",
       "      <td>30014</td>\n",
       "    </tr>\n",
       "    <tr>\n",
       "      <th>2</th>\n",
       "      <td>1.0이상 1.5미만</td>\n",
       "      <td>12534</td>\n",
       "    </tr>\n",
       "    <tr>\n",
       "      <th>3</th>\n",
       "      <td>1.5이상 2.0미만</td>\n",
       "      <td>4775</td>\n",
       "    </tr>\n",
       "    <tr>\n",
       "      <th>4</th>\n",
       "      <td>2.0이상 2.5미만</td>\n",
       "      <td>2357</td>\n",
       "    </tr>\n",
       "    <tr>\n",
       "      <th>5</th>\n",
       "      <td>2.5이상 3.0미만</td>\n",
       "      <td>1334</td>\n",
       "    </tr>\n",
       "    <tr>\n",
       "      <th>6</th>\n",
       "      <td>3.0이상 3.5미만</td>\n",
       "      <td>908</td>\n",
       "    </tr>\n",
       "    <tr>\n",
       "      <th>7</th>\n",
       "      <td>3.5이상 4.0미만</td>\n",
       "      <td>671</td>\n",
       "    </tr>\n",
       "    <tr>\n",
       "      <th>8</th>\n",
       "      <td>4.0이상 4.5미만</td>\n",
       "      <td>532</td>\n",
       "    </tr>\n",
       "    <tr>\n",
       "      <th>9</th>\n",
       "      <td>4.5이상</td>\n",
       "      <td>481</td>\n",
       "    </tr>\n",
       "    <tr>\n",
       "      <th>10</th>\n",
       "      <td>총합</td>\n",
       "      <td>105740</td>\n",
       "    </tr>\n",
       "  </tbody>\n",
       "</table>\n",
       "</div>"
      ],
      "text/plain": [
       "          매연(%)    측정건수\n",
       "0     0이상 0.5미만   52134\n",
       "1   0.5이상 1.0미만   30014\n",
       "2   1.0이상 1.5미만   12534\n",
       "3   1.5이상 2.0미만    4775\n",
       "4   2.0이상 2.5미만    2357\n",
       "5   2.5이상 3.0미만    1334\n",
       "6   3.0이상 3.5미만     908\n",
       "7   3.5이상 4.0미만     671\n",
       "8   4.0이상 4.5미만     532\n",
       "9         4.5이상     481\n",
       "10           총합  105740"
      ]
     },
     "execution_count": 197,
     "metadata": {},
     "output_type": "execute_result"
    }
   ],
   "source": [
    "grp11 = die.groupby(['매연구분인덱스', '매연구분'], dropna=False).agg({'차량번호':'count'}).reset_index()\n",
    "grp11 = grp11.rename(columns={'차량번호':'측정건수', '매연구분':'매연(%)'})\n",
    "grp11.loc[grp11.shape[0]] = [grp11['매연구분인덱스'].max() + 1, '총합', grp11['측정건수'].sum()]\n",
    "grp11 = grp11.drop('매연구분인덱스', axis=1)\n",
    "grp11"
   ]
  },
  {
   "cell_type": "markdown",
   "metadata": {},
   "source": [
    "### 12\\. RSD 매연 농도, 차종별 데이터 수량"
   ]
  },
  {
   "cell_type": "code",
   "execution_count": 198,
   "metadata": {},
   "outputs": [
    {
     "data": {
      "text/html": [
       "<div>\n",
       "<style scoped>\n",
       "    .dataframe tbody tr th:only-of-type {\n",
       "        vertical-align: middle;\n",
       "    }\n",
       "\n",
       "    .dataframe tbody tr th {\n",
       "        vertical-align: top;\n",
       "    }\n",
       "\n",
       "    .dataframe thead th {\n",
       "        text-align: right;\n",
       "    }\n",
       "</style>\n",
       "<table border=\"1\" class=\"dataframe\">\n",
       "  <thead>\n",
       "    <tr style=\"text-align: right;\">\n",
       "      <th></th>\n",
       "      <th>매연(%)</th>\n",
       "      <th>차종</th>\n",
       "      <th>측정건수(건)</th>\n",
       "    </tr>\n",
       "  </thead>\n",
       "  <tbody>\n",
       "    <tr>\n",
       "      <th>0</th>\n",
       "      <td>0이상 0.5미만</td>\n",
       "      <td>승용</td>\n",
       "      <td>27969</td>\n",
       "    </tr>\n",
       "    <tr>\n",
       "      <th>1</th>\n",
       "      <td>0이상 0.5미만</td>\n",
       "      <td>승합</td>\n",
       "      <td>2651</td>\n",
       "    </tr>\n",
       "    <tr>\n",
       "      <th>2</th>\n",
       "      <td>0이상 0.5미만</td>\n",
       "      <td>특수</td>\n",
       "      <td>725</td>\n",
       "    </tr>\n",
       "    <tr>\n",
       "      <th>3</th>\n",
       "      <td>0이상 0.5미만</td>\n",
       "      <td>화물</td>\n",
       "      <td>20789</td>\n",
       "    </tr>\n",
       "    <tr>\n",
       "      <th>4</th>\n",
       "      <td>0.5이상 1.0미만</td>\n",
       "      <td>승용</td>\n",
       "      <td>16284</td>\n",
       "    </tr>\n",
       "    <tr>\n",
       "      <th>5</th>\n",
       "      <td>0.5이상 1.0미만</td>\n",
       "      <td>승합</td>\n",
       "      <td>2009</td>\n",
       "    </tr>\n",
       "    <tr>\n",
       "      <th>6</th>\n",
       "      <td>0.5이상 1.0미만</td>\n",
       "      <td>특수</td>\n",
       "      <td>314</td>\n",
       "    </tr>\n",
       "    <tr>\n",
       "      <th>7</th>\n",
       "      <td>0.5이상 1.0미만</td>\n",
       "      <td>화물</td>\n",
       "      <td>11407</td>\n",
       "    </tr>\n",
       "    <tr>\n",
       "      <th>8</th>\n",
       "      <td>1.0이상 1.5미만</td>\n",
       "      <td>승용</td>\n",
       "      <td>6801</td>\n",
       "    </tr>\n",
       "    <tr>\n",
       "      <th>9</th>\n",
       "      <td>1.0이상 1.5미만</td>\n",
       "      <td>승합</td>\n",
       "      <td>967</td>\n",
       "    </tr>\n",
       "    <tr>\n",
       "      <th>10</th>\n",
       "      <td>1.0이상 1.5미만</td>\n",
       "      <td>특수</td>\n",
       "      <td>133</td>\n",
       "    </tr>\n",
       "    <tr>\n",
       "      <th>11</th>\n",
       "      <td>1.0이상 1.5미만</td>\n",
       "      <td>화물</td>\n",
       "      <td>4633</td>\n",
       "    </tr>\n",
       "    <tr>\n",
       "      <th>12</th>\n",
       "      <td>1.5이상 2.0미만</td>\n",
       "      <td>승용</td>\n",
       "      <td>2648</td>\n",
       "    </tr>\n",
       "    <tr>\n",
       "      <th>13</th>\n",
       "      <td>1.5이상 2.0미만</td>\n",
       "      <td>승합</td>\n",
       "      <td>479</td>\n",
       "    </tr>\n",
       "    <tr>\n",
       "      <th>14</th>\n",
       "      <td>1.5이상 2.0미만</td>\n",
       "      <td>특수</td>\n",
       "      <td>38</td>\n",
       "    </tr>\n",
       "    <tr>\n",
       "      <th>15</th>\n",
       "      <td>1.5이상 2.0미만</td>\n",
       "      <td>화물</td>\n",
       "      <td>1610</td>\n",
       "    </tr>\n",
       "    <tr>\n",
       "      <th>16</th>\n",
       "      <td>2.0이상 2.5미만</td>\n",
       "      <td>승용</td>\n",
       "      <td>1281</td>\n",
       "    </tr>\n",
       "    <tr>\n",
       "      <th>17</th>\n",
       "      <td>2.0이상 2.5미만</td>\n",
       "      <td>승합</td>\n",
       "      <td>240</td>\n",
       "    </tr>\n",
       "    <tr>\n",
       "      <th>18</th>\n",
       "      <td>2.0이상 2.5미만</td>\n",
       "      <td>특수</td>\n",
       "      <td>26</td>\n",
       "    </tr>\n",
       "    <tr>\n",
       "      <th>19</th>\n",
       "      <td>2.0이상 2.5미만</td>\n",
       "      <td>화물</td>\n",
       "      <td>810</td>\n",
       "    </tr>\n",
       "    <tr>\n",
       "      <th>20</th>\n",
       "      <td>2.5이상 3.0미만</td>\n",
       "      <td>승용</td>\n",
       "      <td>700</td>\n",
       "    </tr>\n",
       "    <tr>\n",
       "      <th>21</th>\n",
       "      <td>2.5이상 3.0미만</td>\n",
       "      <td>승합</td>\n",
       "      <td>166</td>\n",
       "    </tr>\n",
       "    <tr>\n",
       "      <th>22</th>\n",
       "      <td>2.5이상 3.0미만</td>\n",
       "      <td>특수</td>\n",
       "      <td>11</td>\n",
       "    </tr>\n",
       "    <tr>\n",
       "      <th>23</th>\n",
       "      <td>2.5이상 3.0미만</td>\n",
       "      <td>화물</td>\n",
       "      <td>457</td>\n",
       "    </tr>\n",
       "    <tr>\n",
       "      <th>24</th>\n",
       "      <td>3.0이상 3.5미만</td>\n",
       "      <td>승용</td>\n",
       "      <td>458</td>\n",
       "    </tr>\n",
       "    <tr>\n",
       "      <th>25</th>\n",
       "      <td>3.0이상 3.5미만</td>\n",
       "      <td>승합</td>\n",
       "      <td>104</td>\n",
       "    </tr>\n",
       "    <tr>\n",
       "      <th>26</th>\n",
       "      <td>3.0이상 3.5미만</td>\n",
       "      <td>특수</td>\n",
       "      <td>15</td>\n",
       "    </tr>\n",
       "    <tr>\n",
       "      <th>27</th>\n",
       "      <td>3.0이상 3.5미만</td>\n",
       "      <td>화물</td>\n",
       "      <td>331</td>\n",
       "    </tr>\n",
       "    <tr>\n",
       "      <th>28</th>\n",
       "      <td>3.5이상 4.0미만</td>\n",
       "      <td>승용</td>\n",
       "      <td>352</td>\n",
       "    </tr>\n",
       "    <tr>\n",
       "      <th>29</th>\n",
       "      <td>3.5이상 4.0미만</td>\n",
       "      <td>승합</td>\n",
       "      <td>82</td>\n",
       "    </tr>\n",
       "    <tr>\n",
       "      <th>30</th>\n",
       "      <td>3.5이상 4.0미만</td>\n",
       "      <td>특수</td>\n",
       "      <td>9</td>\n",
       "    </tr>\n",
       "    <tr>\n",
       "      <th>31</th>\n",
       "      <td>3.5이상 4.0미만</td>\n",
       "      <td>화물</td>\n",
       "      <td>228</td>\n",
       "    </tr>\n",
       "    <tr>\n",
       "      <th>32</th>\n",
       "      <td>4.0이상 4.5미만</td>\n",
       "      <td>승용</td>\n",
       "      <td>265</td>\n",
       "    </tr>\n",
       "    <tr>\n",
       "      <th>33</th>\n",
       "      <td>4.0이상 4.5미만</td>\n",
       "      <td>승합</td>\n",
       "      <td>67</td>\n",
       "    </tr>\n",
       "    <tr>\n",
       "      <th>34</th>\n",
       "      <td>4.0이상 4.5미만</td>\n",
       "      <td>특수</td>\n",
       "      <td>5</td>\n",
       "    </tr>\n",
       "    <tr>\n",
       "      <th>35</th>\n",
       "      <td>4.0이상 4.5미만</td>\n",
       "      <td>화물</td>\n",
       "      <td>195</td>\n",
       "    </tr>\n",
       "    <tr>\n",
       "      <th>36</th>\n",
       "      <td>4.5이상</td>\n",
       "      <td>승용</td>\n",
       "      <td>240</td>\n",
       "    </tr>\n",
       "    <tr>\n",
       "      <th>37</th>\n",
       "      <td>4.5이상</td>\n",
       "      <td>승합</td>\n",
       "      <td>61</td>\n",
       "    </tr>\n",
       "    <tr>\n",
       "      <th>38</th>\n",
       "      <td>4.5이상</td>\n",
       "      <td>특수</td>\n",
       "      <td>9</td>\n",
       "    </tr>\n",
       "    <tr>\n",
       "      <th>39</th>\n",
       "      <td>4.5이상</td>\n",
       "      <td>화물</td>\n",
       "      <td>171</td>\n",
       "    </tr>\n",
       "    <tr>\n",
       "      <th>40</th>\n",
       "      <td>총합</td>\n",
       "      <td>NaN</td>\n",
       "      <td>105740</td>\n",
       "    </tr>\n",
       "  </tbody>\n",
       "</table>\n",
       "</div>"
      ],
      "text/plain": [
       "          매연(%)   차종  측정건수(건)\n",
       "0     0이상 0.5미만   승용    27969\n",
       "1     0이상 0.5미만   승합     2651\n",
       "2     0이상 0.5미만   특수      725\n",
       "3     0이상 0.5미만   화물    20789\n",
       "4   0.5이상 1.0미만   승용    16284\n",
       "5   0.5이상 1.0미만   승합     2009\n",
       "6   0.5이상 1.0미만   특수      314\n",
       "7   0.5이상 1.0미만   화물    11407\n",
       "8   1.0이상 1.5미만   승용     6801\n",
       "9   1.0이상 1.5미만   승합      967\n",
       "10  1.0이상 1.5미만   특수      133\n",
       "11  1.0이상 1.5미만   화물     4633\n",
       "12  1.5이상 2.0미만   승용     2648\n",
       "13  1.5이상 2.0미만   승합      479\n",
       "14  1.5이상 2.0미만   특수       38\n",
       "15  1.5이상 2.0미만   화물     1610\n",
       "16  2.0이상 2.5미만   승용     1281\n",
       "17  2.0이상 2.5미만   승합      240\n",
       "18  2.0이상 2.5미만   특수       26\n",
       "19  2.0이상 2.5미만   화물      810\n",
       "20  2.5이상 3.0미만   승용      700\n",
       "21  2.5이상 3.0미만   승합      166\n",
       "22  2.5이상 3.0미만   특수       11\n",
       "23  2.5이상 3.0미만   화물      457\n",
       "24  3.0이상 3.5미만   승용      458\n",
       "25  3.0이상 3.5미만   승합      104\n",
       "26  3.0이상 3.5미만   특수       15\n",
       "27  3.0이상 3.5미만   화물      331\n",
       "28  3.5이상 4.0미만   승용      352\n",
       "29  3.5이상 4.0미만   승합       82\n",
       "30  3.5이상 4.0미만   특수        9\n",
       "31  3.5이상 4.0미만   화물      228\n",
       "32  4.0이상 4.5미만   승용      265\n",
       "33  4.0이상 4.5미만   승합       67\n",
       "34  4.0이상 4.5미만   특수        5\n",
       "35  4.0이상 4.5미만   화물      195\n",
       "36        4.5이상   승용      240\n",
       "37        4.5이상   승합       61\n",
       "38        4.5이상   특수        9\n",
       "39        4.5이상   화물      171\n",
       "40           총합  NaN   105740"
      ]
     },
     "execution_count": 198,
     "metadata": {},
     "output_type": "execute_result"
    }
   ],
   "source": [
    "grp12 = die.groupby(['매연구분인덱스', '매연구분', '차종'], dropna=False).agg({'차량번호':'count'}).reset_index()\n",
    "grp12 = grp12.rename(columns={'차량번호':'측정건수(건)', '매연구분':'매연(%)'})\n",
    "grp12.loc[grp12.shape[0]] = [grp12['매연구분인덱스'].max() + 1, '총합', np.nan, grp12['측정건수(건)'].sum()]\n",
    "grp12 = grp12.drop('매연구분인덱스', axis=1)\n",
    "grp12"
   ]
  },
  {
   "cell_type": "code",
   "execution_count": 199,
   "metadata": {},
   "outputs": [
    {
     "data": {
      "text/html": [
       "<div>\n",
       "<style scoped>\n",
       "    .dataframe tbody tr th:only-of-type {\n",
       "        vertical-align: middle;\n",
       "    }\n",
       "\n",
       "    .dataframe tbody tr th {\n",
       "        vertical-align: top;\n",
       "    }\n",
       "\n",
       "    .dataframe thead tr th {\n",
       "        text-align: left;\n",
       "    }\n",
       "</style>\n",
       "<table border=\"1\" class=\"dataframe\">\n",
       "  <thead>\n",
       "    <tr>\n",
       "      <th></th>\n",
       "      <th>매연(%)</th>\n",
       "      <th colspan=\"4\" halign=\"left\">차종</th>\n",
       "      <th>합계</th>\n",
       "    </tr>\n",
       "    <tr>\n",
       "      <th>차종</th>\n",
       "      <th></th>\n",
       "      <th>승용</th>\n",
       "      <th>승합</th>\n",
       "      <th>특수</th>\n",
       "      <th>화물</th>\n",
       "      <th></th>\n",
       "    </tr>\n",
       "  </thead>\n",
       "  <tbody>\n",
       "    <tr>\n",
       "      <th>0</th>\n",
       "      <td>0이상 0.5미만</td>\n",
       "      <td>27969</td>\n",
       "      <td>2651</td>\n",
       "      <td>725</td>\n",
       "      <td>20789</td>\n",
       "      <td>52134</td>\n",
       "    </tr>\n",
       "    <tr>\n",
       "      <th>1</th>\n",
       "      <td>0.5이상 1.0미만</td>\n",
       "      <td>16284</td>\n",
       "      <td>2009</td>\n",
       "      <td>314</td>\n",
       "      <td>11407</td>\n",
       "      <td>30014</td>\n",
       "    </tr>\n",
       "    <tr>\n",
       "      <th>2</th>\n",
       "      <td>1.0이상 1.5미만</td>\n",
       "      <td>6801</td>\n",
       "      <td>967</td>\n",
       "      <td>133</td>\n",
       "      <td>4633</td>\n",
       "      <td>12534</td>\n",
       "    </tr>\n",
       "    <tr>\n",
       "      <th>3</th>\n",
       "      <td>1.5이상 2.0미만</td>\n",
       "      <td>2648</td>\n",
       "      <td>479</td>\n",
       "      <td>38</td>\n",
       "      <td>1610</td>\n",
       "      <td>4775</td>\n",
       "    </tr>\n",
       "    <tr>\n",
       "      <th>4</th>\n",
       "      <td>2.0이상 2.5미만</td>\n",
       "      <td>1281</td>\n",
       "      <td>240</td>\n",
       "      <td>26</td>\n",
       "      <td>810</td>\n",
       "      <td>2357</td>\n",
       "    </tr>\n",
       "    <tr>\n",
       "      <th>5</th>\n",
       "      <td>2.5이상 3.0미만</td>\n",
       "      <td>700</td>\n",
       "      <td>166</td>\n",
       "      <td>11</td>\n",
       "      <td>457</td>\n",
       "      <td>1334</td>\n",
       "    </tr>\n",
       "    <tr>\n",
       "      <th>6</th>\n",
       "      <td>3.0이상 3.5미만</td>\n",
       "      <td>458</td>\n",
       "      <td>104</td>\n",
       "      <td>15</td>\n",
       "      <td>331</td>\n",
       "      <td>908</td>\n",
       "    </tr>\n",
       "    <tr>\n",
       "      <th>7</th>\n",
       "      <td>3.5이상 4.0미만</td>\n",
       "      <td>352</td>\n",
       "      <td>82</td>\n",
       "      <td>9</td>\n",
       "      <td>228</td>\n",
       "      <td>671</td>\n",
       "    </tr>\n",
       "    <tr>\n",
       "      <th>8</th>\n",
       "      <td>4.0이상 4.5미만</td>\n",
       "      <td>265</td>\n",
       "      <td>67</td>\n",
       "      <td>5</td>\n",
       "      <td>195</td>\n",
       "      <td>532</td>\n",
       "    </tr>\n",
       "    <tr>\n",
       "      <th>9</th>\n",
       "      <td>4.5이상</td>\n",
       "      <td>240</td>\n",
       "      <td>61</td>\n",
       "      <td>9</td>\n",
       "      <td>171</td>\n",
       "      <td>481</td>\n",
       "    </tr>\n",
       "    <tr>\n",
       "      <th>10</th>\n",
       "      <td>총합</td>\n",
       "      <td>56998</td>\n",
       "      <td>6826</td>\n",
       "      <td>1285</td>\n",
       "      <td>40631</td>\n",
       "      <td>105740</td>\n",
       "    </tr>\n",
       "  </tbody>\n",
       "</table>\n",
       "</div>"
      ],
      "text/plain": [
       "          매연(%)     차종                         합계\n",
       "차종                  승용    승합    특수     화물        \n",
       "0     0이상 0.5미만  27969  2651   725  20789   52134\n",
       "1   0.5이상 1.0미만  16284  2009   314  11407   30014\n",
       "2   1.0이상 1.5미만   6801   967   133   4633   12534\n",
       "3   1.5이상 2.0미만   2648   479    38   1610    4775\n",
       "4   2.0이상 2.5미만   1281   240    26    810    2357\n",
       "5   2.5이상 3.0미만    700   166    11    457    1334\n",
       "6   3.0이상 3.5미만    458   104    15    331     908\n",
       "7   3.5이상 4.0미만    352    82     9    228     671\n",
       "8   4.0이상 4.5미만    265    67     5    195     532\n",
       "9         4.5이상    240    61     9    171     481\n",
       "10           총합  56998  6826  1285  40631  105740"
      ]
     },
     "execution_count": 199,
     "metadata": {},
     "output_type": "execute_result"
    }
   ],
   "source": [
    "grp12 = die.groupby(['매연구분인덱스', '매연구분', '차종'], dropna=False).agg({'차량번호':'count'}).unstack('차종').reset_index()\n",
    "grp12 = grp12.rename(columns={'매연구분':'매연(%)', '차량번호':'차종'})\n",
    "grp12['합계'] = grp12.iloc[:, 2:].sum(axis=1)\n",
    "grp12.loc[grp12.shape[0]] = [grp12['매연구분인덱스'].max() + 1, '총합'] + grp12.iloc[:, 2:].sum().to_list()\n",
    "grp12 = grp12.drop('매연구분인덱스', axis=1, level=0)\n",
    "grp12"
   ]
  },
  {
   "cell_type": "markdown",
   "metadata": {},
   "source": [
    "### 13\\. RSD 매연 농도, 연식별 데이터 수량"
   ]
  },
  {
   "cell_type": "code",
   "execution_count": 200,
   "metadata": {},
   "outputs": [
    {
     "data": {
      "text/plain": [
       "count   105740.00\n",
       "mean      2016.63\n",
       "std          4.13\n",
       "min       1983.00\n",
       "25%       2014.00\n",
       "50%       2017.00\n",
       "75%       2020.00\n",
       "max       2024.00\n",
       "Name: 연식, dtype: float64"
      ]
     },
     "execution_count": 200,
     "metadata": {},
     "output_type": "execute_result"
    }
   ],
   "source": [
    "die['연식'].describe()"
   ]
  },
  {
   "cell_type": "code",
   "execution_count": 201,
   "metadata": {},
   "outputs": [
    {
     "data": {
      "text/html": [
       "<div>\n",
       "<style scoped>\n",
       "    .dataframe tbody tr th:only-of-type {\n",
       "        vertical-align: middle;\n",
       "    }\n",
       "\n",
       "    .dataframe tbody tr th {\n",
       "        vertical-align: top;\n",
       "    }\n",
       "\n",
       "    .dataframe thead th {\n",
       "        text-align: right;\n",
       "    }\n",
       "</style>\n",
       "<table border=\"1\" class=\"dataframe\">\n",
       "  <thead>\n",
       "    <tr style=\"text-align: right;\">\n",
       "      <th></th>\n",
       "      <th>연료</th>\n",
       "      <th>차명</th>\n",
       "      <th>연식</th>\n",
       "      <th>차대번호</th>\n",
       "      <th>폐차여부</th>\n",
       "    </tr>\n",
       "  </thead>\n",
       "  <tbody>\n",
       "    <tr>\n",
       "      <th>7739</th>\n",
       "      <td>경유</td>\n",
       "      <td>다복특장12.1톤윙바디</td>\n",
       "      <td>2024.00</td>\n",
       "      <td>KLTJL8AMBRK000160</td>\n",
       "      <td>N</td>\n",
       "    </tr>\n",
       "    <tr>\n",
       "      <th>7785</th>\n",
       "      <td>경유</td>\n",
       "      <td>마이티</td>\n",
       "      <td>2024.00</td>\n",
       "      <td>KMFHA17GPRC076943</td>\n",
       "      <td>N</td>\n",
       "    </tr>\n",
       "    <tr>\n",
       "      <th>13110</th>\n",
       "      <td>경유</td>\n",
       "      <td>마이티</td>\n",
       "      <td>2024.00</td>\n",
       "      <td>KMFHA17GPRC078773</td>\n",
       "      <td>N</td>\n",
       "    </tr>\n",
       "    <tr>\n",
       "      <th>15652</th>\n",
       "      <td>경유</td>\n",
       "      <td>더쎈</td>\n",
       "      <td>2024.00</td>\n",
       "      <td>KLTEE5AH2RK000687</td>\n",
       "      <td>N</td>\n",
       "    </tr>\n",
       "    <tr>\n",
       "      <th>15691</th>\n",
       "      <td>경유</td>\n",
       "      <td>엑시언트(XCIENT)트랙터</td>\n",
       "      <td>2024.00</td>\n",
       "      <td>KMEKB18KPRC035304</td>\n",
       "      <td>N</td>\n",
       "    </tr>\n",
       "    <tr>\n",
       "      <th>...</th>\n",
       "      <td>...</td>\n",
       "      <td>...</td>\n",
       "      <td>...</td>\n",
       "      <td>...</td>\n",
       "      <td>...</td>\n",
       "    </tr>\n",
       "    <tr>\n",
       "      <th>104666</th>\n",
       "      <td>경유</td>\n",
       "      <td>렉스턴스포츠 쿨멘</td>\n",
       "      <td>2024.00</td>\n",
       "      <td>KPADA4AE1RP212579</td>\n",
       "      <td>N</td>\n",
       "    </tr>\n",
       "    <tr>\n",
       "      <th>105070</th>\n",
       "      <td>경유</td>\n",
       "      <td>더쎈윙바디</td>\n",
       "      <td>2024.00</td>\n",
       "      <td>KLTEE5AHJRK000029</td>\n",
       "      <td>N</td>\n",
       "    </tr>\n",
       "    <tr>\n",
       "      <th>105169</th>\n",
       "      <td>경유</td>\n",
       "      <td>유니버스(UNIVERSE)</td>\n",
       "      <td>2024.00</td>\n",
       "      <td>KMJKG18KPRC002556</td>\n",
       "      <td>N</td>\n",
       "    </tr>\n",
       "    <tr>\n",
       "      <th>105238</th>\n",
       "      <td>경유</td>\n",
       "      <td>더쎈</td>\n",
       "      <td>2024.00</td>\n",
       "      <td>KLTEE6AH2RK000463</td>\n",
       "      <td>N</td>\n",
       "    </tr>\n",
       "    <tr>\n",
       "      <th>105739</th>\n",
       "      <td>경유</td>\n",
       "      <td>렉스턴스포츠 쿨멘</td>\n",
       "      <td>2024.00</td>\n",
       "      <td>KPADA4AE1RP225418</td>\n",
       "      <td>N</td>\n",
       "    </tr>\n",
       "  </tbody>\n",
       "</table>\n",
       "<p>185 rows × 5 columns</p>\n",
       "</div>"
      ],
      "text/plain": [
       "        연료               차명      연식               차대번호 폐차여부\n",
       "7739    경유     다복특장12.1톤윙바디 2024.00  KLTJL8AMBRK000160    N\n",
       "7785    경유              마이티 2024.00  KMFHA17GPRC076943    N\n",
       "13110   경유              마이티 2024.00  KMFHA17GPRC078773    N\n",
       "15652   경유               더쎈 2024.00  KLTEE5AH2RK000687    N\n",
       "15691   경유  엑시언트(XCIENT)트랙터 2024.00  KMEKB18KPRC035304    N\n",
       "...     ..              ...     ...                ...  ...\n",
       "104666  경유        렉스턴스포츠 쿨멘 2024.00  KPADA4AE1RP212579    N\n",
       "105070  경유            더쎈윙바디 2024.00  KLTEE5AHJRK000029    N\n",
       "105169  경유   유니버스(UNIVERSE) 2024.00  KMJKG18KPRC002556    N\n",
       "105238  경유               더쎈 2024.00  KLTEE6AH2RK000463    N\n",
       "105739  경유        렉스턴스포츠 쿨멘 2024.00  KPADA4AE1RP225418    N\n",
       "\n",
       "[185 rows x 5 columns]"
      ]
     },
     "execution_count": 201,
     "metadata": {},
     "output_type": "execute_result"
    }
   ],
   "source": [
    "die.loc[die['연식'] == 2024, ['연료', '차명', '연식', '차대번호', '폐차여부']]"
   ]
  },
  {
   "cell_type": "code",
   "execution_count": 202,
   "metadata": {},
   "outputs": [
    {
     "data": {
      "text/plain": [
       "N    185\n",
       "Name: 폐차여부, dtype: int64"
      ]
     },
     "execution_count": 202,
     "metadata": {},
     "output_type": "execute_result"
    }
   ],
   "source": [
    "die.loc[die['연식'] == 2024, '폐차여부'].value_counts(dropna=False)"
   ]
  },
  {
   "cell_type": "code",
   "execution_count": 203,
   "metadata": {},
   "outputs": [],
   "source": [
    "# grp13 = die.groupby(['매연구분인덱스', '매연구분', '연식'], dropna=False).agg({'차량번호':'count'}).reset_index()\n",
    "# grp13 = grp13.rename(columns={'차량번호':'측정건수(건)', '매연구분':'매연(%)'})\n",
    "# grp13.loc[grp13.shape[0]] = [grp13['매연구분인덱스'].max() + 1, '총합', np.nan, grp13['측정건수(건)'].sum()]\n",
    "# grp13 = grp13.drop('매연구분인덱스', axis=1)\n",
    "# grp13"
   ]
  },
  {
   "cell_type": "code",
   "execution_count": 204,
   "metadata": {},
   "outputs": [],
   "source": [
    "# grp13 = die.groupby(['매연구분인덱스', '매연구분', '연식'], dropna=False).agg({'차량번호':'count'}).unstack('연식').reset_index()\n",
    "# grp13 = grp13.rename(columns={'매연구분':'매연(%)', '차량번호':'연식(년)'})\n",
    "# grp13 = grp13.rename_axis(columns={'연식':'연식(년)'})\n",
    "# grp13['합계'] = grp13.iloc[:, 2:].sum(axis=1)\n",
    "# grp13.loc[grp13.shape[0]] = [grp13['매연구분인덱스'].max() + 1, '총합'] + grp13.iloc[:, 2:].sum().to_list()\n",
    "# grp13 = grp13.drop('매연구분인덱스', axis=1, level=0)\n",
    "# grp13"
   ]
  },
  {
   "cell_type": "code",
   "execution_count": 205,
   "metadata": {},
   "outputs": [
    {
     "data": {
      "text/html": [
       "<div>\n",
       "<style scoped>\n",
       "    .dataframe tbody tr th:only-of-type {\n",
       "        vertical-align: middle;\n",
       "    }\n",
       "\n",
       "    .dataframe tbody tr th {\n",
       "        vertical-align: top;\n",
       "    }\n",
       "\n",
       "    .dataframe thead tr th {\n",
       "        text-align: left;\n",
       "    }\n",
       "</style>\n",
       "<table border=\"1\" class=\"dataframe\">\n",
       "  <thead>\n",
       "    <tr>\n",
       "      <th></th>\n",
       "      <th>매연(%)</th>\n",
       "      <th colspan=\"19\" halign=\"left\">연식(년)</th>\n",
       "      <th>합계</th>\n",
       "    </tr>\n",
       "    <tr>\n",
       "      <th>연식(년)</th>\n",
       "      <th></th>\n",
       "      <th>2004.0</th>\n",
       "      <th>2005.0</th>\n",
       "      <th>2006.0</th>\n",
       "      <th>2007.0</th>\n",
       "      <th>2008.0</th>\n",
       "      <th>2009.0</th>\n",
       "      <th>2010.0</th>\n",
       "      <th>2011.0</th>\n",
       "      <th>2012.0</th>\n",
       "      <th>...</th>\n",
       "      <th>2017.0</th>\n",
       "      <th>2018.0</th>\n",
       "      <th>2019.0</th>\n",
       "      <th>2020.0</th>\n",
       "      <th>2021.0</th>\n",
       "      <th>2022.0</th>\n",
       "      <th>2023.0</th>\n",
       "      <th>2024.0</th>\n",
       "      <th>2003년 이하</th>\n",
       "      <th></th>\n",
       "    </tr>\n",
       "  </thead>\n",
       "  <tbody>\n",
       "    <tr>\n",
       "      <th>0</th>\n",
       "      <td>0이상 0.5미만</td>\n",
       "      <td>100.00</td>\n",
       "      <td>142.00</td>\n",
       "      <td>211.00</td>\n",
       "      <td>491.00</td>\n",
       "      <td>606.00</td>\n",
       "      <td>624.00</td>\n",
       "      <td>1138.00</td>\n",
       "      <td>1660.00</td>\n",
       "      <td>2037.00</td>\n",
       "      <td>...</td>\n",
       "      <td>4256.00</td>\n",
       "      <td>5391.00</td>\n",
       "      <td>5806.00</td>\n",
       "      <td>4464.00</td>\n",
       "      <td>3593.00</td>\n",
       "      <td>3770.00</td>\n",
       "      <td>2641.00</td>\n",
       "      <td>114.00</td>\n",
       "      <td>242.00</td>\n",
       "      <td>52134.00</td>\n",
       "    </tr>\n",
       "    <tr>\n",
       "      <th>1</th>\n",
       "      <td>0.5이상 1.0미만</td>\n",
       "      <td>68.00</td>\n",
       "      <td>89.00</td>\n",
       "      <td>133.00</td>\n",
       "      <td>346.00</td>\n",
       "      <td>444.00</td>\n",
       "      <td>424.00</td>\n",
       "      <td>767.00</td>\n",
       "      <td>1045.00</td>\n",
       "      <td>1282.00</td>\n",
       "      <td>...</td>\n",
       "      <td>2569.00</td>\n",
       "      <td>3054.00</td>\n",
       "      <td>3295.00</td>\n",
       "      <td>2329.00</td>\n",
       "      <td>1879.00</td>\n",
       "      <td>1940.00</td>\n",
       "      <td>1322.00</td>\n",
       "      <td>35.00</td>\n",
       "      <td>117.00</td>\n",
       "      <td>30014.00</td>\n",
       "    </tr>\n",
       "    <tr>\n",
       "      <th>2</th>\n",
       "      <td>1.0이상 1.5미만</td>\n",
       "      <td>37.00</td>\n",
       "      <td>57.00</td>\n",
       "      <td>96.00</td>\n",
       "      <td>173.00</td>\n",
       "      <td>203.00</td>\n",
       "      <td>204.00</td>\n",
       "      <td>410.00</td>\n",
       "      <td>544.00</td>\n",
       "      <td>522.00</td>\n",
       "      <td>...</td>\n",
       "      <td>1063.00</td>\n",
       "      <td>1238.00</td>\n",
       "      <td>1242.00</td>\n",
       "      <td>851.00</td>\n",
       "      <td>760.00</td>\n",
       "      <td>751.00</td>\n",
       "      <td>504.00</td>\n",
       "      <td>18.00</td>\n",
       "      <td>102.00</td>\n",
       "      <td>12534.00</td>\n",
       "    </tr>\n",
       "    <tr>\n",
       "      <th>3</th>\n",
       "      <td>1.5이상 2.0미만</td>\n",
       "      <td>21.00</td>\n",
       "      <td>22.00</td>\n",
       "      <td>45.00</td>\n",
       "      <td>81.00</td>\n",
       "      <td>118.00</td>\n",
       "      <td>81.00</td>\n",
       "      <td>166.00</td>\n",
       "      <td>203.00</td>\n",
       "      <td>213.00</td>\n",
       "      <td>...</td>\n",
       "      <td>394.00</td>\n",
       "      <td>457.00</td>\n",
       "      <td>476.00</td>\n",
       "      <td>329.00</td>\n",
       "      <td>297.00</td>\n",
       "      <td>248.00</td>\n",
       "      <td>162.00</td>\n",
       "      <td>9.00</td>\n",
       "      <td>53.00</td>\n",
       "      <td>4775.00</td>\n",
       "    </tr>\n",
       "    <tr>\n",
       "      <th>4</th>\n",
       "      <td>2.0이상 2.5미만</td>\n",
       "      <td>9.00</td>\n",
       "      <td>17.00</td>\n",
       "      <td>17.00</td>\n",
       "      <td>51.00</td>\n",
       "      <td>43.00</td>\n",
       "      <td>59.00</td>\n",
       "      <td>91.00</td>\n",
       "      <td>102.00</td>\n",
       "      <td>103.00</td>\n",
       "      <td>...</td>\n",
       "      <td>210.00</td>\n",
       "      <td>213.00</td>\n",
       "      <td>212.00</td>\n",
       "      <td>136.00</td>\n",
       "      <td>145.00</td>\n",
       "      <td>141.00</td>\n",
       "      <td>80.00</td>\n",
       "      <td>3.00</td>\n",
       "      <td>26.00</td>\n",
       "      <td>2357.00</td>\n",
       "    </tr>\n",
       "    <tr>\n",
       "      <th>5</th>\n",
       "      <td>2.5이상 3.0미만</td>\n",
       "      <td>5.00</td>\n",
       "      <td>8.00</td>\n",
       "      <td>11.00</td>\n",
       "      <td>29.00</td>\n",
       "      <td>27.00</td>\n",
       "      <td>24.00</td>\n",
       "      <td>36.00</td>\n",
       "      <td>85.00</td>\n",
       "      <td>72.00</td>\n",
       "      <td>...</td>\n",
       "      <td>110.00</td>\n",
       "      <td>127.00</td>\n",
       "      <td>109.00</td>\n",
       "      <td>79.00</td>\n",
       "      <td>77.00</td>\n",
       "      <td>71.00</td>\n",
       "      <td>49.00</td>\n",
       "      <td>3.00</td>\n",
       "      <td>20.00</td>\n",
       "      <td>1334.00</td>\n",
       "    </tr>\n",
       "    <tr>\n",
       "      <th>6</th>\n",
       "      <td>3.0이상 3.5미만</td>\n",
       "      <td>4.00</td>\n",
       "      <td>4.00</td>\n",
       "      <td>11.00</td>\n",
       "      <td>17.00</td>\n",
       "      <td>28.00</td>\n",
       "      <td>11.00</td>\n",
       "      <td>34.00</td>\n",
       "      <td>41.00</td>\n",
       "      <td>30.00</td>\n",
       "      <td>...</td>\n",
       "      <td>72.00</td>\n",
       "      <td>83.00</td>\n",
       "      <td>85.00</td>\n",
       "      <td>58.00</td>\n",
       "      <td>54.00</td>\n",
       "      <td>48.00</td>\n",
       "      <td>43.00</td>\n",
       "      <td>NaN</td>\n",
       "      <td>14.00</td>\n",
       "      <td>908.00</td>\n",
       "    </tr>\n",
       "    <tr>\n",
       "      <th>7</th>\n",
       "      <td>3.5이상 4.0미만</td>\n",
       "      <td>7.00</td>\n",
       "      <td>5.00</td>\n",
       "      <td>6.00</td>\n",
       "      <td>19.00</td>\n",
       "      <td>23.00</td>\n",
       "      <td>10.00</td>\n",
       "      <td>26.00</td>\n",
       "      <td>27.00</td>\n",
       "      <td>38.00</td>\n",
       "      <td>...</td>\n",
       "      <td>51.00</td>\n",
       "      <td>56.00</td>\n",
       "      <td>60.00</td>\n",
       "      <td>36.00</td>\n",
       "      <td>48.00</td>\n",
       "      <td>27.00</td>\n",
       "      <td>34.00</td>\n",
       "      <td>1.00</td>\n",
       "      <td>7.00</td>\n",
       "      <td>671.00</td>\n",
       "    </tr>\n",
       "    <tr>\n",
       "      <th>8</th>\n",
       "      <td>4.0이상 4.5미만</td>\n",
       "      <td>3.00</td>\n",
       "      <td>4.00</td>\n",
       "      <td>4.00</td>\n",
       "      <td>13.00</td>\n",
       "      <td>18.00</td>\n",
       "      <td>13.00</td>\n",
       "      <td>21.00</td>\n",
       "      <td>29.00</td>\n",
       "      <td>24.00</td>\n",
       "      <td>...</td>\n",
       "      <td>34.00</td>\n",
       "      <td>38.00</td>\n",
       "      <td>34.00</td>\n",
       "      <td>30.00</td>\n",
       "      <td>33.00</td>\n",
       "      <td>35.00</td>\n",
       "      <td>25.00</td>\n",
       "      <td>2.00</td>\n",
       "      <td>13.00</td>\n",
       "      <td>532.00</td>\n",
       "    </tr>\n",
       "    <tr>\n",
       "      <th>9</th>\n",
       "      <td>4.5이상</td>\n",
       "      <td>1.00</td>\n",
       "      <td>6.00</td>\n",
       "      <td>4.00</td>\n",
       "      <td>7.00</td>\n",
       "      <td>12.00</td>\n",
       "      <td>9.00</td>\n",
       "      <td>16.00</td>\n",
       "      <td>18.00</td>\n",
       "      <td>20.00</td>\n",
       "      <td>...</td>\n",
       "      <td>37.00</td>\n",
       "      <td>39.00</td>\n",
       "      <td>43.00</td>\n",
       "      <td>33.00</td>\n",
       "      <td>27.00</td>\n",
       "      <td>24.00</td>\n",
       "      <td>22.00</td>\n",
       "      <td>NaN</td>\n",
       "      <td>8.00</td>\n",
       "      <td>481.00</td>\n",
       "    </tr>\n",
       "    <tr>\n",
       "      <th>10</th>\n",
       "      <td>총합</td>\n",
       "      <td>255.00</td>\n",
       "      <td>354.00</td>\n",
       "      <td>538.00</td>\n",
       "      <td>1227.00</td>\n",
       "      <td>1522.00</td>\n",
       "      <td>1459.00</td>\n",
       "      <td>2705.00</td>\n",
       "      <td>3754.00</td>\n",
       "      <td>4341.00</td>\n",
       "      <td>...</td>\n",
       "      <td>8796.00</td>\n",
       "      <td>10696.00</td>\n",
       "      <td>11362.00</td>\n",
       "      <td>8345.00</td>\n",
       "      <td>6913.00</td>\n",
       "      <td>7055.00</td>\n",
       "      <td>4882.00</td>\n",
       "      <td>185.00</td>\n",
       "      <td>602.00</td>\n",
       "      <td>105740.00</td>\n",
       "    </tr>\n",
       "  </tbody>\n",
       "</table>\n",
       "<p>11 rows × 24 columns</p>\n",
       "</div>"
      ],
      "text/plain": [
       "             매연(%)  연식(년)                                                \\\n",
       "연식(년)              2004.0 2005.0 2006.0  2007.0  2008.0  2009.0  2010.0   \n",
       "0        0이상 0.5미만 100.00 142.00 211.00  491.00  606.00  624.00 1138.00   \n",
       "1      0.5이상 1.0미만  68.00  89.00 133.00  346.00  444.00  424.00  767.00   \n",
       "2      1.0이상 1.5미만  37.00  57.00  96.00  173.00  203.00  204.00  410.00   \n",
       "3      1.5이상 2.0미만  21.00  22.00  45.00   81.00  118.00   81.00  166.00   \n",
       "4      2.0이상 2.5미만   9.00  17.00  17.00   51.00   43.00   59.00   91.00   \n",
       "5      2.5이상 3.0미만   5.00   8.00  11.00   29.00   27.00   24.00   36.00   \n",
       "6      3.0이상 3.5미만   4.00   4.00  11.00   17.00   28.00   11.00   34.00   \n",
       "7      3.5이상 4.0미만   7.00   5.00   6.00   19.00   23.00   10.00   26.00   \n",
       "8      4.0이상 4.5미만   3.00   4.00   4.00   13.00   18.00   13.00   21.00   \n",
       "9            4.5이상   1.00   6.00   4.00    7.00   12.00    9.00   16.00   \n",
       "10              총합 255.00 354.00 538.00 1227.00 1522.00 1459.00 2705.00   \n",
       "\n",
       "                       ...                                                    \\\n",
       "연식(년)  2011.0  2012.0  ...  2017.0   2018.0   2019.0  2020.0  2021.0  2022.0   \n",
       "0     1660.00 2037.00  ... 4256.00  5391.00  5806.00 4464.00 3593.00 3770.00   \n",
       "1     1045.00 1282.00  ... 2569.00  3054.00  3295.00 2329.00 1879.00 1940.00   \n",
       "2      544.00  522.00  ... 1063.00  1238.00  1242.00  851.00  760.00  751.00   \n",
       "3      203.00  213.00  ...  394.00   457.00   476.00  329.00  297.00  248.00   \n",
       "4      102.00  103.00  ...  210.00   213.00   212.00  136.00  145.00  141.00   \n",
       "5       85.00   72.00  ...  110.00   127.00   109.00   79.00   77.00   71.00   \n",
       "6       41.00   30.00  ...   72.00    83.00    85.00   58.00   54.00   48.00   \n",
       "7       27.00   38.00  ...   51.00    56.00    60.00   36.00   48.00   27.00   \n",
       "8       29.00   24.00  ...   34.00    38.00    34.00   30.00   33.00   35.00   \n",
       "9       18.00   20.00  ...   37.00    39.00    43.00   33.00   27.00   24.00   \n",
       "10    3754.00 4341.00  ... 8796.00 10696.00 11362.00 8345.00 6913.00 7055.00   \n",
       "\n",
       "                                     합계  \n",
       "연식(년)  2023.0 2024.0 2003년 이하            \n",
       "0     2641.00 114.00   242.00  52134.00  \n",
       "1     1322.00  35.00   117.00  30014.00  \n",
       "2      504.00  18.00   102.00  12534.00  \n",
       "3      162.00   9.00    53.00   4775.00  \n",
       "4       80.00   3.00    26.00   2357.00  \n",
       "5       49.00   3.00    20.00   1334.00  \n",
       "6       43.00    NaN    14.00    908.00  \n",
       "7       34.00   1.00     7.00    671.00  \n",
       "8       25.00   2.00    13.00    532.00  \n",
       "9       22.00    NaN     8.00    481.00  \n",
       "10    4882.00 185.00   602.00 105740.00  \n",
       "\n",
       "[11 rows x 24 columns]"
      ]
     },
     "execution_count": 205,
     "metadata": {},
     "output_type": "execute_result"
    }
   ],
   "source": [
    "grp13 = die.groupby(['매연구분인덱스', '매연구분', '연식구분'], dropna=False).agg({'차량번호':'count'}).unstack('연식구분').reset_index()\n",
    "grp13 = grp13.rename(columns={'매연구분':'매연(%)', '차량번호':'연식(년)'})\n",
    "grp13 = grp13.rename_axis(columns={'연식구분':'연식(년)'})\n",
    "grp13['합계'] = grp13.iloc[:, 2:].sum(axis=1)\n",
    "grp13.loc[grp13.shape[0]] = [grp13['매연구분인덱스'].max() + 1, '총합'] + grp13.iloc[:, 2:].sum().to_list()\n",
    "grp13 = grp13.drop('매연구분인덱스', axis=1, level=0)\n",
    "grp13"
   ]
  },
  {
   "cell_type": "markdown",
   "metadata": {},
   "source": [
    "### 14\\. RSD 매연 농도, 측정속도별 데이터 수량"
   ]
  },
  {
   "cell_type": "code",
   "execution_count": 206,
   "metadata": {},
   "outputs": [
    {
     "data": {
      "text/plain": [
       "array(['50이상 60미만', '30이상 40미만', '40이상 50미만', '60이상 70미만', '0이상 10미만',\n",
       "       '10이상 20미만', '90이상 100미만', '70이상 80미만', '20이상 30미만', '80이상 90미만',\n",
       "       '100이상 110미만', '110이상 120미만'], dtype=object)"
      ]
     },
     "execution_count": 206,
     "metadata": {},
     "output_type": "execute_result"
    }
   ],
   "source": [
    "die['속도구분'].unique()"
   ]
  },
  {
   "cell_type": "code",
   "execution_count": 207,
   "metadata": {},
   "outputs": [
    {
     "data": {
      "text/plain": [
       "array([ 6.,  4.,  5.,  7.,  1.,  2., 10.,  8.,  3.,  9., 11., 12.])"
      ]
     },
     "execution_count": 207,
     "metadata": {},
     "output_type": "execute_result"
    }
   ],
   "source": [
    "die['속도구분인덱스'].unique()"
   ]
  },
  {
   "cell_type": "code",
   "execution_count": 208,
   "metadata": {},
   "outputs": [
    {
     "data": {
      "text/html": [
       "<div>\n",
       "<style scoped>\n",
       "    .dataframe tbody tr th:only-of-type {\n",
       "        vertical-align: middle;\n",
       "    }\n",
       "\n",
       "    .dataframe tbody tr th {\n",
       "        vertical-align: top;\n",
       "    }\n",
       "\n",
       "    .dataframe thead th {\n",
       "        text-align: right;\n",
       "    }\n",
       "</style>\n",
       "<table border=\"1\" class=\"dataframe\">\n",
       "  <thead>\n",
       "    <tr style=\"text-align: right;\">\n",
       "      <th></th>\n",
       "      <th>매연(%)</th>\n",
       "      <th>속도(km/h)</th>\n",
       "      <th>측정건수(건)</th>\n",
       "    </tr>\n",
       "  </thead>\n",
       "  <tbody>\n",
       "    <tr>\n",
       "      <th>0</th>\n",
       "      <td>0이상 0.5미만</td>\n",
       "      <td>0이상 10미만</td>\n",
       "      <td>18</td>\n",
       "    </tr>\n",
       "    <tr>\n",
       "      <th>1</th>\n",
       "      <td>0이상 0.5미만</td>\n",
       "      <td>10이상 20미만</td>\n",
       "      <td>76</td>\n",
       "    </tr>\n",
       "    <tr>\n",
       "      <th>2</th>\n",
       "      <td>0이상 0.5미만</td>\n",
       "      <td>20이상 30미만</td>\n",
       "      <td>457</td>\n",
       "    </tr>\n",
       "    <tr>\n",
       "      <th>3</th>\n",
       "      <td>0이상 0.5미만</td>\n",
       "      <td>30이상 40미만</td>\n",
       "      <td>1302</td>\n",
       "    </tr>\n",
       "    <tr>\n",
       "      <th>4</th>\n",
       "      <td>0이상 0.5미만</td>\n",
       "      <td>40이상 50미만</td>\n",
       "      <td>3984</td>\n",
       "    </tr>\n",
       "    <tr>\n",
       "      <th>...</th>\n",
       "      <td>...</td>\n",
       "      <td>...</td>\n",
       "      <td>...</td>\n",
       "    </tr>\n",
       "    <tr>\n",
       "      <th>112</th>\n",
       "      <td>4.5이상</td>\n",
       "      <td>80이상 90미만</td>\n",
       "      <td>42</td>\n",
       "    </tr>\n",
       "    <tr>\n",
       "      <th>113</th>\n",
       "      <td>4.5이상</td>\n",
       "      <td>90이상 100미만</td>\n",
       "      <td>9</td>\n",
       "    </tr>\n",
       "    <tr>\n",
       "      <th>114</th>\n",
       "      <td>4.5이상</td>\n",
       "      <td>100이상 110미만</td>\n",
       "      <td>5</td>\n",
       "    </tr>\n",
       "    <tr>\n",
       "      <th>115</th>\n",
       "      <td>4.5이상</td>\n",
       "      <td>110이상 120미만</td>\n",
       "      <td>1</td>\n",
       "    </tr>\n",
       "    <tr>\n",
       "      <th>116</th>\n",
       "      <td>총합</td>\n",
       "      <td>NaN</td>\n",
       "      <td>105740</td>\n",
       "    </tr>\n",
       "  </tbody>\n",
       "</table>\n",
       "<p>117 rows × 3 columns</p>\n",
       "</div>"
      ],
      "text/plain": [
       "         매연(%)     속도(km/h)  측정건수(건)\n",
       "0    0이상 0.5미만     0이상 10미만       18\n",
       "1    0이상 0.5미만    10이상 20미만       76\n",
       "2    0이상 0.5미만    20이상 30미만      457\n",
       "3    0이상 0.5미만    30이상 40미만     1302\n",
       "4    0이상 0.5미만    40이상 50미만     3984\n",
       "..         ...          ...      ...\n",
       "112      4.5이상    80이상 90미만       42\n",
       "113      4.5이상   90이상 100미만        9\n",
       "114      4.5이상  100이상 110미만        5\n",
       "115      4.5이상  110이상 120미만        1\n",
       "116         총합          NaN   105740\n",
       "\n",
       "[117 rows x 3 columns]"
      ]
     },
     "execution_count": 208,
     "metadata": {},
     "output_type": "execute_result"
    }
   ],
   "source": [
    "grp14 = die.groupby(['매연구분인덱스', '매연구분', '속도구분인덱스', '속도구분'], dropna=False).agg({'차량번호':'count'}).reset_index()\n",
    "grp14 = grp14.rename(columns={'차량번호':'측정건수(건)', '매연구분':'매연(%)', '속도구분':'속도(km/h)'})\n",
    "grp14.loc[grp14.shape[0]] = [grp14['매연구분인덱스'].max() + 1, '총합', np.nan, np.nan, grp14['측정건수(건)'].sum()]\n",
    "grp14 = grp14.drop(['매연구분인덱스', '속도구분인덱스'], axis=1)\n",
    "grp14"
   ]
  },
  {
   "cell_type": "code",
   "execution_count": 209,
   "metadata": {},
   "outputs": [
    {
     "data": {
      "text/html": [
       "<div>\n",
       "<style scoped>\n",
       "    .dataframe tbody tr th:only-of-type {\n",
       "        vertical-align: middle;\n",
       "    }\n",
       "\n",
       "    .dataframe tbody tr th {\n",
       "        vertical-align: top;\n",
       "    }\n",
       "\n",
       "    .dataframe thead tr th {\n",
       "        text-align: left;\n",
       "    }\n",
       "</style>\n",
       "<table border=\"1\" class=\"dataframe\">\n",
       "  <thead>\n",
       "    <tr>\n",
       "      <th></th>\n",
       "      <th>매연(%)</th>\n",
       "      <th colspan=\"12\" halign=\"left\">속도(km/h)</th>\n",
       "      <th>합계</th>\n",
       "    </tr>\n",
       "    <tr>\n",
       "      <th>속도(km/h)</th>\n",
       "      <th></th>\n",
       "      <th>0이상 10미만</th>\n",
       "      <th>10이상 20미만</th>\n",
       "      <th>20이상 30미만</th>\n",
       "      <th>30이상 40미만</th>\n",
       "      <th>40이상 50미만</th>\n",
       "      <th>50이상 60미만</th>\n",
       "      <th>60이상 70미만</th>\n",
       "      <th>70이상 80미만</th>\n",
       "      <th>80이상 90미만</th>\n",
       "      <th>90이상 100미만</th>\n",
       "      <th>100이상 110미만</th>\n",
       "      <th>110이상 120미만</th>\n",
       "      <th></th>\n",
       "    </tr>\n",
       "  </thead>\n",
       "  <tbody>\n",
       "    <tr>\n",
       "      <th>0</th>\n",
       "      <td>0이상 0.5미만</td>\n",
       "      <td>18.00</td>\n",
       "      <td>76.00</td>\n",
       "      <td>457.00</td>\n",
       "      <td>1302.00</td>\n",
       "      <td>3984.00</td>\n",
       "      <td>10894.00</td>\n",
       "      <td>15355.00</td>\n",
       "      <td>11539.00</td>\n",
       "      <td>5768.00</td>\n",
       "      <td>1977.00</td>\n",
       "      <td>642.00</td>\n",
       "      <td>122.00</td>\n",
       "      <td>52134.00</td>\n",
       "    </tr>\n",
       "    <tr>\n",
       "      <th>1</th>\n",
       "      <td>0.5이상 1.0미만</td>\n",
       "      <td>15.00</td>\n",
       "      <td>42.00</td>\n",
       "      <td>296.00</td>\n",
       "      <td>885.00</td>\n",
       "      <td>2672.00</td>\n",
       "      <td>6386.00</td>\n",
       "      <td>8320.00</td>\n",
       "      <td>6427.00</td>\n",
       "      <td>3324.00</td>\n",
       "      <td>1211.00</td>\n",
       "      <td>339.00</td>\n",
       "      <td>97.00</td>\n",
       "      <td>30014.00</td>\n",
       "    </tr>\n",
       "    <tr>\n",
       "      <th>2</th>\n",
       "      <td>1.0이상 1.5미만</td>\n",
       "      <td>4.00</td>\n",
       "      <td>33.00</td>\n",
       "      <td>170.00</td>\n",
       "      <td>440.00</td>\n",
       "      <td>953.00</td>\n",
       "      <td>2525.00</td>\n",
       "      <td>3619.00</td>\n",
       "      <td>2683.00</td>\n",
       "      <td>1376.00</td>\n",
       "      <td>491.00</td>\n",
       "      <td>191.00</td>\n",
       "      <td>49.00</td>\n",
       "      <td>12534.00</td>\n",
       "    </tr>\n",
       "    <tr>\n",
       "      <th>3</th>\n",
       "      <td>1.5이상 2.0미만</td>\n",
       "      <td>4.00</td>\n",
       "      <td>20.00</td>\n",
       "      <td>97.00</td>\n",
       "      <td>221.00</td>\n",
       "      <td>414.00</td>\n",
       "      <td>950.00</td>\n",
       "      <td>1290.00</td>\n",
       "      <td>1041.00</td>\n",
       "      <td>478.00</td>\n",
       "      <td>174.00</td>\n",
       "      <td>71.00</td>\n",
       "      <td>15.00</td>\n",
       "      <td>4775.00</td>\n",
       "    </tr>\n",
       "    <tr>\n",
       "      <th>4</th>\n",
       "      <td>2.0이상 2.5미만</td>\n",
       "      <td>NaN</td>\n",
       "      <td>6.00</td>\n",
       "      <td>69.00</td>\n",
       "      <td>109.00</td>\n",
       "      <td>207.00</td>\n",
       "      <td>507.00</td>\n",
       "      <td>610.00</td>\n",
       "      <td>486.00</td>\n",
       "      <td>246.00</td>\n",
       "      <td>91.00</td>\n",
       "      <td>24.00</td>\n",
       "      <td>2.00</td>\n",
       "      <td>2357.00</td>\n",
       "    </tr>\n",
       "    <tr>\n",
       "      <th>5</th>\n",
       "      <td>2.5이상 3.0미만</td>\n",
       "      <td>2.00</td>\n",
       "      <td>4.00</td>\n",
       "      <td>37.00</td>\n",
       "      <td>71.00</td>\n",
       "      <td>127.00</td>\n",
       "      <td>278.00</td>\n",
       "      <td>341.00</td>\n",
       "      <td>292.00</td>\n",
       "      <td>123.00</td>\n",
       "      <td>39.00</td>\n",
       "      <td>15.00</td>\n",
       "      <td>5.00</td>\n",
       "      <td>1334.00</td>\n",
       "    </tr>\n",
       "    <tr>\n",
       "      <th>6</th>\n",
       "      <td>3.0이상 3.5미만</td>\n",
       "      <td>NaN</td>\n",
       "      <td>9.00</td>\n",
       "      <td>31.00</td>\n",
       "      <td>30.00</td>\n",
       "      <td>125.00</td>\n",
       "      <td>218.00</td>\n",
       "      <td>233.00</td>\n",
       "      <td>169.00</td>\n",
       "      <td>69.00</td>\n",
       "      <td>18.00</td>\n",
       "      <td>5.00</td>\n",
       "      <td>1.00</td>\n",
       "      <td>908.00</td>\n",
       "    </tr>\n",
       "    <tr>\n",
       "      <th>7</th>\n",
       "      <td>3.5이상 4.0미만</td>\n",
       "      <td>2.00</td>\n",
       "      <td>3.00</td>\n",
       "      <td>17.00</td>\n",
       "      <td>32.00</td>\n",
       "      <td>78.00</td>\n",
       "      <td>161.00</td>\n",
       "      <td>167.00</td>\n",
       "      <td>139.00</td>\n",
       "      <td>55.00</td>\n",
       "      <td>13.00</td>\n",
       "      <td>4.00</td>\n",
       "      <td>NaN</td>\n",
       "      <td>671.00</td>\n",
       "    </tr>\n",
       "    <tr>\n",
       "      <th>8</th>\n",
       "      <td>4.0이상 4.5미만</td>\n",
       "      <td>1.00</td>\n",
       "      <td>3.00</td>\n",
       "      <td>11.00</td>\n",
       "      <td>28.00</td>\n",
       "      <td>58.00</td>\n",
       "      <td>112.00</td>\n",
       "      <td>138.00</td>\n",
       "      <td>119.00</td>\n",
       "      <td>45.00</td>\n",
       "      <td>12.00</td>\n",
       "      <td>5.00</td>\n",
       "      <td>NaN</td>\n",
       "      <td>532.00</td>\n",
       "    </tr>\n",
       "    <tr>\n",
       "      <th>9</th>\n",
       "      <td>4.5이상</td>\n",
       "      <td>2.00</td>\n",
       "      <td>4.00</td>\n",
       "      <td>14.00</td>\n",
       "      <td>20.00</td>\n",
       "      <td>50.00</td>\n",
       "      <td>120.00</td>\n",
       "      <td>111.00</td>\n",
       "      <td>103.00</td>\n",
       "      <td>42.00</td>\n",
       "      <td>9.00</td>\n",
       "      <td>5.00</td>\n",
       "      <td>1.00</td>\n",
       "      <td>481.00</td>\n",
       "    </tr>\n",
       "    <tr>\n",
       "      <th>10</th>\n",
       "      <td>총합</td>\n",
       "      <td>48.00</td>\n",
       "      <td>200.00</td>\n",
       "      <td>1199.00</td>\n",
       "      <td>3138.00</td>\n",
       "      <td>8668.00</td>\n",
       "      <td>22151.00</td>\n",
       "      <td>30184.00</td>\n",
       "      <td>22998.00</td>\n",
       "      <td>11526.00</td>\n",
       "      <td>4035.00</td>\n",
       "      <td>1301.00</td>\n",
       "      <td>292.00</td>\n",
       "      <td>105740.00</td>\n",
       "    </tr>\n",
       "  </tbody>\n",
       "</table>\n",
       "</div>"
      ],
      "text/plain": [
       "                매연(%) 속도(km/h)                                          \\\n",
       "속도(km/h)              0이상 10미만 10이상 20미만 20이상 30미만 30이상 40미만 40이상 50미만   \n",
       "0           0이상 0.5미만    18.00     76.00    457.00   1302.00   3984.00   \n",
       "1         0.5이상 1.0미만    15.00     42.00    296.00    885.00   2672.00   \n",
       "2         1.0이상 1.5미만     4.00     33.00    170.00    440.00    953.00   \n",
       "3         1.5이상 2.0미만     4.00     20.00     97.00    221.00    414.00   \n",
       "4         2.0이상 2.5미만      NaN      6.00     69.00    109.00    207.00   \n",
       "5         2.5이상 3.0미만     2.00      4.00     37.00     71.00    127.00   \n",
       "6         3.0이상 3.5미만      NaN      9.00     31.00     30.00    125.00   \n",
       "7         3.5이상 4.0미만     2.00      3.00     17.00     32.00     78.00   \n",
       "8         4.0이상 4.5미만     1.00      3.00     11.00     28.00     58.00   \n",
       "9               4.5이상     2.00      4.00     14.00     20.00     50.00   \n",
       "10                 총합    48.00    200.00   1199.00   3138.00   8668.00   \n",
       "\n",
       "                                                                         \\\n",
       "속도(km/h) 50이상 60미만 60이상 70미만 70이상 80미만 80이상 90미만 90이상 100미만 100이상 110미만   \n",
       "0         10894.00  15355.00  11539.00   5768.00    1977.00      642.00   \n",
       "1          6386.00   8320.00   6427.00   3324.00    1211.00      339.00   \n",
       "2          2525.00   3619.00   2683.00   1376.00     491.00      191.00   \n",
       "3           950.00   1290.00   1041.00    478.00     174.00       71.00   \n",
       "4           507.00    610.00    486.00    246.00      91.00       24.00   \n",
       "5           278.00    341.00    292.00    123.00      39.00       15.00   \n",
       "6           218.00    233.00    169.00     69.00      18.00        5.00   \n",
       "7           161.00    167.00    139.00     55.00      13.00        4.00   \n",
       "8           112.00    138.00    119.00     45.00      12.00        5.00   \n",
       "9           120.00    111.00    103.00     42.00       9.00        5.00   \n",
       "10        22151.00  30184.00  22998.00  11526.00    4035.00     1301.00   \n",
       "\n",
       "                            합계  \n",
       "속도(km/h) 110이상 120미만            \n",
       "0             122.00  52134.00  \n",
       "1              97.00  30014.00  \n",
       "2              49.00  12534.00  \n",
       "3              15.00   4775.00  \n",
       "4               2.00   2357.00  \n",
       "5               5.00   1334.00  \n",
       "6               1.00    908.00  \n",
       "7                NaN    671.00  \n",
       "8                NaN    532.00  \n",
       "9               1.00    481.00  \n",
       "10            292.00 105740.00  "
      ]
     },
     "execution_count": 209,
     "metadata": {},
     "output_type": "execute_result"
    }
   ],
   "source": [
    "grp14 = die.groupby(['매연구분인덱스', '매연구분', '속도구분인덱스', '속도구분'], dropna=False).agg({'차량번호':'count'}).unstack(['속도구분인덱스', '속도구분']).reset_index()\n",
    "grp14 = grp14.rename(columns={'매연구분':'매연(%)', '차량번호':'속도(km/h)'})\n",
    "grp14 = grp14.rename_axis(columns={'속도구분':'속도(km/h)'})\n",
    "grp14['합계'] = grp14.iloc[:, 2:].sum(axis=1)\n",
    "grp14.loc[grp14.shape[0]] = [grp14['매연구분인덱스'].max() + 1, '총합'] + grp14.iloc[:, 2:].sum().to_list()\n",
    "grp14 = grp14.drop('매연구분인덱스', axis=1, level=0)\n",
    "grp14.columns = grp14.columns.droplevel(1)\n",
    "grp14"
   ]
  },
  {
   "cell_type": "markdown",
   "metadata": {},
   "source": [
    "### 15\\. RSD 매연 농도, 배출가스 등급별 데이터 수량"
   ]
  },
  {
   "cell_type": "code",
   "execution_count": 210,
   "metadata": {},
   "outputs": [
    {
     "data": {
      "text/html": [
       "<div>\n",
       "<style scoped>\n",
       "    .dataframe tbody tr th:only-of-type {\n",
       "        vertical-align: middle;\n",
       "    }\n",
       "\n",
       "    .dataframe tbody tr th {\n",
       "        vertical-align: top;\n",
       "    }\n",
       "\n",
       "    .dataframe thead th {\n",
       "        text-align: right;\n",
       "    }\n",
       "</style>\n",
       "<table border=\"1\" class=\"dataframe\">\n",
       "  <thead>\n",
       "    <tr style=\"text-align: right;\">\n",
       "      <th></th>\n",
       "      <th>매연(%)</th>\n",
       "      <th>등급</th>\n",
       "      <th>측정건수(건)</th>\n",
       "    </tr>\n",
       "  </thead>\n",
       "  <tbody>\n",
       "    <tr>\n",
       "      <th>0</th>\n",
       "      <td>0이상 0.5미만</td>\n",
       "      <td>3</td>\n",
       "      <td>45573</td>\n",
       "    </tr>\n",
       "    <tr>\n",
       "      <th>1</th>\n",
       "      <td>0이상 0.5미만</td>\n",
       "      <td>4</td>\n",
       "      <td>3005</td>\n",
       "    </tr>\n",
       "    <tr>\n",
       "      <th>2</th>\n",
       "      <td>0이상 0.5미만</td>\n",
       "      <td>5</td>\n",
       "      <td>1064</td>\n",
       "    </tr>\n",
       "    <tr>\n",
       "      <th>3</th>\n",
       "      <td>0이상 0.5미만</td>\n",
       "      <td>T3</td>\n",
       "      <td>2478</td>\n",
       "    </tr>\n",
       "    <tr>\n",
       "      <th>4</th>\n",
       "      <td>0이상 0.5미만</td>\n",
       "      <td>X</td>\n",
       "      <td>14</td>\n",
       "    </tr>\n",
       "    <tr>\n",
       "      <th>5</th>\n",
       "      <td>0.5이상 1.0미만</td>\n",
       "      <td>3</td>\n",
       "      <td>25887</td>\n",
       "    </tr>\n",
       "    <tr>\n",
       "      <th>6</th>\n",
       "      <td>0.5이상 1.0미만</td>\n",
       "      <td>4</td>\n",
       "      <td>2328</td>\n",
       "    </tr>\n",
       "    <tr>\n",
       "      <th>7</th>\n",
       "      <td>0.5이상 1.0미만</td>\n",
       "      <td>5</td>\n",
       "      <td>584</td>\n",
       "    </tr>\n",
       "    <tr>\n",
       "      <th>8</th>\n",
       "      <td>0.5이상 1.0미만</td>\n",
       "      <td>T3</td>\n",
       "      <td>1209</td>\n",
       "    </tr>\n",
       "    <tr>\n",
       "      <th>9</th>\n",
       "      <td>0.5이상 1.0미만</td>\n",
       "      <td>X</td>\n",
       "      <td>6</td>\n",
       "    </tr>\n",
       "    <tr>\n",
       "      <th>10</th>\n",
       "      <td>1.0이상 1.5미만</td>\n",
       "      <td>3</td>\n",
       "      <td>10495</td>\n",
       "    </tr>\n",
       "    <tr>\n",
       "      <th>11</th>\n",
       "      <td>1.0이상 1.5미만</td>\n",
       "      <td>4</td>\n",
       "      <td>1206</td>\n",
       "    </tr>\n",
       "    <tr>\n",
       "      <th>12</th>\n",
       "      <td>1.0이상 1.5미만</td>\n",
       "      <td>5</td>\n",
       "      <td>367</td>\n",
       "    </tr>\n",
       "    <tr>\n",
       "      <th>13</th>\n",
       "      <td>1.0이상 1.5미만</td>\n",
       "      <td>T3</td>\n",
       "      <td>464</td>\n",
       "    </tr>\n",
       "    <tr>\n",
       "      <th>14</th>\n",
       "      <td>1.0이상 1.5미만</td>\n",
       "      <td>X</td>\n",
       "      <td>2</td>\n",
       "    </tr>\n",
       "    <tr>\n",
       "      <th>15</th>\n",
       "      <td>1.5이상 2.0미만</td>\n",
       "      <td>3</td>\n",
       "      <td>3921</td>\n",
       "    </tr>\n",
       "    <tr>\n",
       "      <th>16</th>\n",
       "      <td>1.5이상 2.0미만</td>\n",
       "      <td>4</td>\n",
       "      <td>524</td>\n",
       "    </tr>\n",
       "    <tr>\n",
       "      <th>17</th>\n",
       "      <td>1.5이상 2.0미만</td>\n",
       "      <td>5</td>\n",
       "      <td>176</td>\n",
       "    </tr>\n",
       "    <tr>\n",
       "      <th>18</th>\n",
       "      <td>1.5이상 2.0미만</td>\n",
       "      <td>T3</td>\n",
       "      <td>154</td>\n",
       "    </tr>\n",
       "    <tr>\n",
       "      <th>19</th>\n",
       "      <td>2.0이상 2.5미만</td>\n",
       "      <td>3</td>\n",
       "      <td>1889</td>\n",
       "    </tr>\n",
       "    <tr>\n",
       "      <th>20</th>\n",
       "      <td>2.0이상 2.5미만</td>\n",
       "      <td>4</td>\n",
       "      <td>287</td>\n",
       "    </tr>\n",
       "    <tr>\n",
       "      <th>21</th>\n",
       "      <td>2.0이상 2.5미만</td>\n",
       "      <td>5</td>\n",
       "      <td>100</td>\n",
       "    </tr>\n",
       "    <tr>\n",
       "      <th>22</th>\n",
       "      <td>2.0이상 2.5미만</td>\n",
       "      <td>T3</td>\n",
       "      <td>81</td>\n",
       "    </tr>\n",
       "    <tr>\n",
       "      <th>23</th>\n",
       "      <td>2.5이상 3.0미만</td>\n",
       "      <td>3</td>\n",
       "      <td>1087</td>\n",
       "    </tr>\n",
       "    <tr>\n",
       "      <th>24</th>\n",
       "      <td>2.5이상 3.0미만</td>\n",
       "      <td>4</td>\n",
       "      <td>140</td>\n",
       "    </tr>\n",
       "    <tr>\n",
       "      <th>25</th>\n",
       "      <td>2.5이상 3.0미만</td>\n",
       "      <td>5</td>\n",
       "      <td>62</td>\n",
       "    </tr>\n",
       "    <tr>\n",
       "      <th>26</th>\n",
       "      <td>2.5이상 3.0미만</td>\n",
       "      <td>T3</td>\n",
       "      <td>45</td>\n",
       "    </tr>\n",
       "    <tr>\n",
       "      <th>27</th>\n",
       "      <td>3.0이상 3.5미만</td>\n",
       "      <td>3</td>\n",
       "      <td>727</td>\n",
       "    </tr>\n",
       "    <tr>\n",
       "      <th>28</th>\n",
       "      <td>3.0이상 3.5미만</td>\n",
       "      <td>4</td>\n",
       "      <td>104</td>\n",
       "    </tr>\n",
       "    <tr>\n",
       "      <th>29</th>\n",
       "      <td>3.0이상 3.5미만</td>\n",
       "      <td>5</td>\n",
       "      <td>38</td>\n",
       "    </tr>\n",
       "    <tr>\n",
       "      <th>30</th>\n",
       "      <td>3.0이상 3.5미만</td>\n",
       "      <td>T3</td>\n",
       "      <td>37</td>\n",
       "    </tr>\n",
       "    <tr>\n",
       "      <th>31</th>\n",
       "      <td>3.0이상 3.5미만</td>\n",
       "      <td>X</td>\n",
       "      <td>2</td>\n",
       "    </tr>\n",
       "    <tr>\n",
       "      <th>32</th>\n",
       "      <td>3.5이상 4.0미만</td>\n",
       "      <td>3</td>\n",
       "      <td>530</td>\n",
       "    </tr>\n",
       "    <tr>\n",
       "      <th>33</th>\n",
       "      <td>3.5이상 4.0미만</td>\n",
       "      <td>4</td>\n",
       "      <td>83</td>\n",
       "    </tr>\n",
       "    <tr>\n",
       "      <th>34</th>\n",
       "      <td>3.5이상 4.0미만</td>\n",
       "      <td>5</td>\n",
       "      <td>34</td>\n",
       "    </tr>\n",
       "    <tr>\n",
       "      <th>35</th>\n",
       "      <td>3.5이상 4.0미만</td>\n",
       "      <td>T3</td>\n",
       "      <td>24</td>\n",
       "    </tr>\n",
       "    <tr>\n",
       "      <th>36</th>\n",
       "      <td>4.0이상 4.5미만</td>\n",
       "      <td>3</td>\n",
       "      <td>409</td>\n",
       "    </tr>\n",
       "    <tr>\n",
       "      <th>37</th>\n",
       "      <td>4.0이상 4.5미만</td>\n",
       "      <td>4</td>\n",
       "      <td>67</td>\n",
       "    </tr>\n",
       "    <tr>\n",
       "      <th>38</th>\n",
       "      <td>4.0이상 4.5미만</td>\n",
       "      <td>5</td>\n",
       "      <td>33</td>\n",
       "    </tr>\n",
       "    <tr>\n",
       "      <th>39</th>\n",
       "      <td>4.0이상 4.5미만</td>\n",
       "      <td>T3</td>\n",
       "      <td>22</td>\n",
       "    </tr>\n",
       "    <tr>\n",
       "      <th>40</th>\n",
       "      <td>4.0이상 4.5미만</td>\n",
       "      <td>X</td>\n",
       "      <td>1</td>\n",
       "    </tr>\n",
       "    <tr>\n",
       "      <th>41</th>\n",
       "      <td>4.5이상</td>\n",
       "      <td>3</td>\n",
       "      <td>390</td>\n",
       "    </tr>\n",
       "    <tr>\n",
       "      <th>42</th>\n",
       "      <td>4.5이상</td>\n",
       "      <td>4</td>\n",
       "      <td>51</td>\n",
       "    </tr>\n",
       "    <tr>\n",
       "      <th>43</th>\n",
       "      <td>4.5이상</td>\n",
       "      <td>5</td>\n",
       "      <td>23</td>\n",
       "    </tr>\n",
       "    <tr>\n",
       "      <th>44</th>\n",
       "      <td>4.5이상</td>\n",
       "      <td>T3</td>\n",
       "      <td>17</td>\n",
       "    </tr>\n",
       "    <tr>\n",
       "      <th>45</th>\n",
       "      <td>총합</td>\n",
       "      <td>NaN</td>\n",
       "      <td>105740</td>\n",
       "    </tr>\n",
       "  </tbody>\n",
       "</table>\n",
       "</div>"
      ],
      "text/plain": [
       "          매연(%)   등급  측정건수(건)\n",
       "0     0이상 0.5미만    3    45573\n",
       "1     0이상 0.5미만    4     3005\n",
       "2     0이상 0.5미만    5     1064\n",
       "3     0이상 0.5미만   T3     2478\n",
       "4     0이상 0.5미만    X       14\n",
       "5   0.5이상 1.0미만    3    25887\n",
       "6   0.5이상 1.0미만    4     2328\n",
       "7   0.5이상 1.0미만    5      584\n",
       "8   0.5이상 1.0미만   T3     1209\n",
       "9   0.5이상 1.0미만    X        6\n",
       "10  1.0이상 1.5미만    3    10495\n",
       "11  1.0이상 1.5미만    4     1206\n",
       "12  1.0이상 1.5미만    5      367\n",
       "13  1.0이상 1.5미만   T3      464\n",
       "14  1.0이상 1.5미만    X        2\n",
       "15  1.5이상 2.0미만    3     3921\n",
       "16  1.5이상 2.0미만    4      524\n",
       "17  1.5이상 2.0미만    5      176\n",
       "18  1.5이상 2.0미만   T3      154\n",
       "19  2.0이상 2.5미만    3     1889\n",
       "20  2.0이상 2.5미만    4      287\n",
       "21  2.0이상 2.5미만    5      100\n",
       "22  2.0이상 2.5미만   T3       81\n",
       "23  2.5이상 3.0미만    3     1087\n",
       "24  2.5이상 3.0미만    4      140\n",
       "25  2.5이상 3.0미만    5       62\n",
       "26  2.5이상 3.0미만   T3       45\n",
       "27  3.0이상 3.5미만    3      727\n",
       "28  3.0이상 3.5미만    4      104\n",
       "29  3.0이상 3.5미만    5       38\n",
       "30  3.0이상 3.5미만   T3       37\n",
       "31  3.0이상 3.5미만    X        2\n",
       "32  3.5이상 4.0미만    3      530\n",
       "33  3.5이상 4.0미만    4       83\n",
       "34  3.5이상 4.0미만    5       34\n",
       "35  3.5이상 4.0미만   T3       24\n",
       "36  4.0이상 4.5미만    3      409\n",
       "37  4.0이상 4.5미만    4       67\n",
       "38  4.0이상 4.5미만    5       33\n",
       "39  4.0이상 4.5미만   T3       22\n",
       "40  4.0이상 4.5미만    X        1\n",
       "41        4.5이상    3      390\n",
       "42        4.5이상    4       51\n",
       "43        4.5이상    5       23\n",
       "44        4.5이상   T3       17\n",
       "45           총합  NaN   105740"
      ]
     },
     "execution_count": 210,
     "metadata": {},
     "output_type": "execute_result"
    }
   ],
   "source": [
    "grp15 = die.groupby(['매연구분인덱스', '매연구분', '등급'], dropna=False).agg({'차량번호':'count'}).reset_index()\n",
    "grp15 = grp15.rename(columns={'차량번호':'측정건수(건)', '매연구분':'매연(%)'})\n",
    "grp15.loc[grp15.shape[0]] = [grp15['매연구분인덱스'].max() + 1, '총합', np.nan, grp15['측정건수(건)'].sum()]\n",
    "grp15 = grp15.drop('매연구분인덱스', axis=1)\n",
    "grp15"
   ]
  },
  {
   "cell_type": "code",
   "execution_count": 211,
   "metadata": {},
   "outputs": [
    {
     "name": "stderr",
     "output_type": "stream",
     "text": [
      "C:\\Users\\kbjung\\AppData\\Local\\Temp\\ipykernel_7012\\1013039746.py:5: PerformanceWarning: dropping on a non-lexsorted multi-index without a level parameter may impact performance.\n",
      "  grp15 = grp15.drop('매연구분인덱스', axis=1)\n"
     ]
    },
    {
     "data": {
      "text/html": [
       "<div>\n",
       "<style scoped>\n",
       "    .dataframe tbody tr th:only-of-type {\n",
       "        vertical-align: middle;\n",
       "    }\n",
       "\n",
       "    .dataframe tbody tr th {\n",
       "        vertical-align: top;\n",
       "    }\n",
       "\n",
       "    .dataframe thead tr th {\n",
       "        text-align: left;\n",
       "    }\n",
       "</style>\n",
       "<table border=\"1\" class=\"dataframe\">\n",
       "  <thead>\n",
       "    <tr>\n",
       "      <th></th>\n",
       "      <th>매연(%)</th>\n",
       "      <th colspan=\"5\" halign=\"left\">등급</th>\n",
       "      <th>합계</th>\n",
       "    </tr>\n",
       "    <tr>\n",
       "      <th>등급</th>\n",
       "      <th></th>\n",
       "      <th>3</th>\n",
       "      <th>4</th>\n",
       "      <th>5</th>\n",
       "      <th>T3</th>\n",
       "      <th>X</th>\n",
       "      <th></th>\n",
       "    </tr>\n",
       "  </thead>\n",
       "  <tbody>\n",
       "    <tr>\n",
       "      <th>0</th>\n",
       "      <td>0이상 0.5미만</td>\n",
       "      <td>45573.00</td>\n",
       "      <td>3005.00</td>\n",
       "      <td>1064.00</td>\n",
       "      <td>2478.00</td>\n",
       "      <td>14.00</td>\n",
       "      <td>52134.00</td>\n",
       "    </tr>\n",
       "    <tr>\n",
       "      <th>1</th>\n",
       "      <td>0.5이상 1.0미만</td>\n",
       "      <td>25887.00</td>\n",
       "      <td>2328.00</td>\n",
       "      <td>584.00</td>\n",
       "      <td>1209.00</td>\n",
       "      <td>6.00</td>\n",
       "      <td>30014.00</td>\n",
       "    </tr>\n",
       "    <tr>\n",
       "      <th>2</th>\n",
       "      <td>1.0이상 1.5미만</td>\n",
       "      <td>10495.00</td>\n",
       "      <td>1206.00</td>\n",
       "      <td>367.00</td>\n",
       "      <td>464.00</td>\n",
       "      <td>2.00</td>\n",
       "      <td>12534.00</td>\n",
       "    </tr>\n",
       "    <tr>\n",
       "      <th>3</th>\n",
       "      <td>1.5이상 2.0미만</td>\n",
       "      <td>3921.00</td>\n",
       "      <td>524.00</td>\n",
       "      <td>176.00</td>\n",
       "      <td>154.00</td>\n",
       "      <td>NaN</td>\n",
       "      <td>4775.00</td>\n",
       "    </tr>\n",
       "    <tr>\n",
       "      <th>4</th>\n",
       "      <td>2.0이상 2.5미만</td>\n",
       "      <td>1889.00</td>\n",
       "      <td>287.00</td>\n",
       "      <td>100.00</td>\n",
       "      <td>81.00</td>\n",
       "      <td>NaN</td>\n",
       "      <td>2357.00</td>\n",
       "    </tr>\n",
       "    <tr>\n",
       "      <th>5</th>\n",
       "      <td>2.5이상 3.0미만</td>\n",
       "      <td>1087.00</td>\n",
       "      <td>140.00</td>\n",
       "      <td>62.00</td>\n",
       "      <td>45.00</td>\n",
       "      <td>NaN</td>\n",
       "      <td>1334.00</td>\n",
       "    </tr>\n",
       "    <tr>\n",
       "      <th>6</th>\n",
       "      <td>3.0이상 3.5미만</td>\n",
       "      <td>727.00</td>\n",
       "      <td>104.00</td>\n",
       "      <td>38.00</td>\n",
       "      <td>37.00</td>\n",
       "      <td>2.00</td>\n",
       "      <td>908.00</td>\n",
       "    </tr>\n",
       "    <tr>\n",
       "      <th>7</th>\n",
       "      <td>3.5이상 4.0미만</td>\n",
       "      <td>530.00</td>\n",
       "      <td>83.00</td>\n",
       "      <td>34.00</td>\n",
       "      <td>24.00</td>\n",
       "      <td>NaN</td>\n",
       "      <td>671.00</td>\n",
       "    </tr>\n",
       "    <tr>\n",
       "      <th>8</th>\n",
       "      <td>4.0이상 4.5미만</td>\n",
       "      <td>409.00</td>\n",
       "      <td>67.00</td>\n",
       "      <td>33.00</td>\n",
       "      <td>22.00</td>\n",
       "      <td>1.00</td>\n",
       "      <td>532.00</td>\n",
       "    </tr>\n",
       "    <tr>\n",
       "      <th>9</th>\n",
       "      <td>4.5이상</td>\n",
       "      <td>390.00</td>\n",
       "      <td>51.00</td>\n",
       "      <td>23.00</td>\n",
       "      <td>17.00</td>\n",
       "      <td>NaN</td>\n",
       "      <td>481.00</td>\n",
       "    </tr>\n",
       "    <tr>\n",
       "      <th>10</th>\n",
       "      <td>총합</td>\n",
       "      <td>90908.00</td>\n",
       "      <td>7795.00</td>\n",
       "      <td>2481.00</td>\n",
       "      <td>4531.00</td>\n",
       "      <td>25.00</td>\n",
       "      <td>105740.00</td>\n",
       "    </tr>\n",
       "  </tbody>\n",
       "</table>\n",
       "</div>"
      ],
      "text/plain": [
       "          매연(%)       등급                                      합계\n",
       "등급                     3       4       5      T3     X          \n",
       "0     0이상 0.5미만 45573.00 3005.00 1064.00 2478.00 14.00  52134.00\n",
       "1   0.5이상 1.0미만 25887.00 2328.00  584.00 1209.00  6.00  30014.00\n",
       "2   1.0이상 1.5미만 10495.00 1206.00  367.00  464.00  2.00  12534.00\n",
       "3   1.5이상 2.0미만  3921.00  524.00  176.00  154.00   NaN   4775.00\n",
       "4   2.0이상 2.5미만  1889.00  287.00  100.00   81.00   NaN   2357.00\n",
       "5   2.5이상 3.0미만  1087.00  140.00   62.00   45.00   NaN   1334.00\n",
       "6   3.0이상 3.5미만   727.00  104.00   38.00   37.00  2.00    908.00\n",
       "7   3.5이상 4.0미만   530.00   83.00   34.00   24.00   NaN    671.00\n",
       "8   4.0이상 4.5미만   409.00   67.00   33.00   22.00  1.00    532.00\n",
       "9         4.5이상   390.00   51.00   23.00   17.00   NaN    481.00\n",
       "10           총합 90908.00 7795.00 2481.00 4531.00 25.00 105740.00"
      ]
     },
     "execution_count": 211,
     "metadata": {},
     "output_type": "execute_result"
    }
   ],
   "source": [
    "grp15 = die.groupby(['매연구분인덱스', '매연구분', '등급'], dropna=False).agg({'차량번호':'count'}).unstack('등급').reset_index()\n",
    "grp15 = grp15.rename(columns={'매연구분':'매연(%)', '차량번호':'등급'})\n",
    "grp15['합계'] = grp15.iloc[:, 2:].sum(axis=1)\n",
    "grp15.loc[grp15.shape[0]] = [grp15['매연구분인덱스'].max() + 1, '총합'] + grp15.iloc[:, 2:].sum().to_list()\n",
    "grp15 = grp15.drop('매연구분인덱스', axis=1)\n",
    "grp15"
   ]
  },
  {
   "cell_type": "markdown",
   "metadata": {},
   "source": [
    "### 16\\. RSD 매연 농도, 배기량별 데이터 수량"
   ]
  },
  {
   "cell_type": "code",
   "execution_count": 212,
   "metadata": {},
   "outputs": [
    {
     "data": {
      "text/html": [
       "<div>\n",
       "<style scoped>\n",
       "    .dataframe tbody tr th:only-of-type {\n",
       "        vertical-align: middle;\n",
       "    }\n",
       "\n",
       "    .dataframe tbody tr th {\n",
       "        vertical-align: top;\n",
       "    }\n",
       "\n",
       "    .dataframe thead th {\n",
       "        text-align: right;\n",
       "    }\n",
       "</style>\n",
       "<table border=\"1\" class=\"dataframe\">\n",
       "  <thead>\n",
       "    <tr style=\"text-align: right;\">\n",
       "      <th></th>\n",
       "      <th>매연(%)</th>\n",
       "      <th>배기량(cc)</th>\n",
       "      <th>측정건수(건)</th>\n",
       "    </tr>\n",
       "  </thead>\n",
       "  <tbody>\n",
       "    <tr>\n",
       "      <th>0</th>\n",
       "      <td>0이상 0.5미만</td>\n",
       "      <td>1천이상 2천미만</td>\n",
       "      <td>16970</td>\n",
       "    </tr>\n",
       "    <tr>\n",
       "      <th>1</th>\n",
       "      <td>0이상 0.5미만</td>\n",
       "      <td>2천이상 3천미만</td>\n",
       "      <td>29516</td>\n",
       "    </tr>\n",
       "    <tr>\n",
       "      <th>2</th>\n",
       "      <td>0이상 0.5미만</td>\n",
       "      <td>3천이상 4천미만</td>\n",
       "      <td>1853</td>\n",
       "    </tr>\n",
       "    <tr>\n",
       "      <th>3</th>\n",
       "      <td>0이상 0.5미만</td>\n",
       "      <td>4천이상 5천미만</td>\n",
       "      <td>126</td>\n",
       "    </tr>\n",
       "    <tr>\n",
       "      <th>4</th>\n",
       "      <td>0이상 0.5미만</td>\n",
       "      <td>5천이상 6천미만</td>\n",
       "      <td>869</td>\n",
       "    </tr>\n",
       "    <tr>\n",
       "      <th>...</th>\n",
       "      <td>...</td>\n",
       "      <td>...</td>\n",
       "      <td>...</td>\n",
       "    </tr>\n",
       "    <tr>\n",
       "      <th>121</th>\n",
       "      <td>4.5이상</td>\n",
       "      <td>9천이상 10천미만</td>\n",
       "      <td>20</td>\n",
       "    </tr>\n",
       "    <tr>\n",
       "      <th>122</th>\n",
       "      <td>4.5이상</td>\n",
       "      <td>10천이상 11천미만</td>\n",
       "      <td>3</td>\n",
       "    </tr>\n",
       "    <tr>\n",
       "      <th>123</th>\n",
       "      <td>4.5이상</td>\n",
       "      <td>12천이상 13천미만</td>\n",
       "      <td>6</td>\n",
       "    </tr>\n",
       "    <tr>\n",
       "      <th>124</th>\n",
       "      <td>4.5이상</td>\n",
       "      <td>14천이상 15천미만</td>\n",
       "      <td>1</td>\n",
       "    </tr>\n",
       "    <tr>\n",
       "      <th>125</th>\n",
       "      <td>총합</td>\n",
       "      <td>NaN</td>\n",
       "      <td>105740</td>\n",
       "    </tr>\n",
       "  </tbody>\n",
       "</table>\n",
       "<p>126 rows × 3 columns</p>\n",
       "</div>"
      ],
      "text/plain": [
       "         매연(%)      배기량(cc)  측정건수(건)\n",
       "0    0이상 0.5미만    1천이상 2천미만    16970\n",
       "1    0이상 0.5미만    2천이상 3천미만    29516\n",
       "2    0이상 0.5미만    3천이상 4천미만     1853\n",
       "3    0이상 0.5미만    4천이상 5천미만      126\n",
       "4    0이상 0.5미만    5천이상 6천미만      869\n",
       "..         ...          ...      ...\n",
       "121      4.5이상   9천이상 10천미만       20\n",
       "122      4.5이상  10천이상 11천미만        3\n",
       "123      4.5이상  12천이상 13천미만        6\n",
       "124      4.5이상  14천이상 15천미만        1\n",
       "125         총합          NaN   105740\n",
       "\n",
       "[126 rows x 3 columns]"
      ]
     },
     "execution_count": 212,
     "metadata": {},
     "output_type": "execute_result"
    }
   ],
   "source": [
    "grp16 = die.groupby(['매연구분인덱스', '매연구분', '배기량구분인덱스', '배기량구분'], dropna=False).agg({'차량번호':'count'}).reset_index()\n",
    "grp16 = grp16.rename(columns={'차량번호':'측정건수(건)', '매연구분':'매연(%)', '배기량구분':'배기량(cc)'})\n",
    "grp16.loc[grp16.shape[0]] = [grp16['매연구분인덱스'].max() + 1, '총합', np.nan, np.nan, grp16['측정건수(건)'].sum()]\n",
    "grp16 = grp16.drop(['매연구분인덱스', '배기량구분인덱스'], axis=1)\n",
    "grp16"
   ]
  },
  {
   "cell_type": "code",
   "execution_count": 213,
   "metadata": {},
   "outputs": [
    {
     "name": "stderr",
     "output_type": "stream",
     "text": [
      "C:\\Users\\kbjung\\AppData\\Local\\Temp\\ipykernel_7012\\2848121395.py:7: PerformanceWarning: dropping on a non-lexsorted multi-index without a level parameter may impact performance.\n",
      "  grp16 = grp16.drop('매연구분인덱스', axis=1)\n"
     ]
    },
    {
     "data": {
      "text/html": [
       "<div>\n",
       "<style scoped>\n",
       "    .dataframe tbody tr th:only-of-type {\n",
       "        vertical-align: middle;\n",
       "    }\n",
       "\n",
       "    .dataframe tbody tr th {\n",
       "        vertical-align: top;\n",
       "    }\n",
       "\n",
       "    .dataframe thead th {\n",
       "        text-align: right;\n",
       "    }\n",
       "</style>\n",
       "<table border=\"1\" class=\"dataframe\">\n",
       "  <thead>\n",
       "    <tr style=\"text-align: right;\">\n",
       "      <th></th>\n",
       "      <th></th>\n",
       "      <th>0</th>\n",
       "      <th>1</th>\n",
       "      <th>2</th>\n",
       "      <th>3</th>\n",
       "      <th>4</th>\n",
       "      <th>5</th>\n",
       "      <th>6</th>\n",
       "      <th>7</th>\n",
       "      <th>8</th>\n",
       "      <th>9</th>\n",
       "      <th>10</th>\n",
       "    </tr>\n",
       "    <tr>\n",
       "      <th></th>\n",
       "      <th>배기량(cc)</th>\n",
       "      <th></th>\n",
       "      <th></th>\n",
       "      <th></th>\n",
       "      <th></th>\n",
       "      <th></th>\n",
       "      <th></th>\n",
       "      <th></th>\n",
       "      <th></th>\n",
       "      <th></th>\n",
       "      <th></th>\n",
       "      <th></th>\n",
       "    </tr>\n",
       "  </thead>\n",
       "  <tbody>\n",
       "    <tr>\n",
       "      <th>매연(%)</th>\n",
       "      <th></th>\n",
       "      <td>0이상 0.5미만</td>\n",
       "      <td>0.5이상 1.0미만</td>\n",
       "      <td>1.0이상 1.5미만</td>\n",
       "      <td>1.5이상 2.0미만</td>\n",
       "      <td>2.0이상 2.5미만</td>\n",
       "      <td>2.5이상 3.0미만</td>\n",
       "      <td>3.0이상 3.5미만</td>\n",
       "      <td>3.5이상 4.0미만</td>\n",
       "      <td>4.0이상 4.5미만</td>\n",
       "      <td>4.5이상</td>\n",
       "      <td>총합</td>\n",
       "    </tr>\n",
       "    <tr>\n",
       "      <th rowspan=\"15\" valign=\"top\">배기량(cc)</th>\n",
       "      <th>1천이상 2천미만</th>\n",
       "      <td>16970.00</td>\n",
       "      <td>9959.00</td>\n",
       "      <td>4174.00</td>\n",
       "      <td>1590.00</td>\n",
       "      <td>788.00</td>\n",
       "      <td>446.00</td>\n",
       "      <td>266.00</td>\n",
       "      <td>192.00</td>\n",
       "      <td>153.00</td>\n",
       "      <td>135.00</td>\n",
       "      <td>34673.00</td>\n",
       "    </tr>\n",
       "    <tr>\n",
       "      <th>2천이상 3천미만</th>\n",
       "      <td>29516.00</td>\n",
       "      <td>17653.00</td>\n",
       "      <td>7109.00</td>\n",
       "      <td>2632.00</td>\n",
       "      <td>1255.00</td>\n",
       "      <td>705.00</td>\n",
       "      <td>499.00</td>\n",
       "      <td>381.00</td>\n",
       "      <td>297.00</td>\n",
       "      <td>265.00</td>\n",
       "      <td>60312.00</td>\n",
       "    </tr>\n",
       "    <tr>\n",
       "      <th>3천이상 4천미만</th>\n",
       "      <td>1853.00</td>\n",
       "      <td>1158.00</td>\n",
       "      <td>533.00</td>\n",
       "      <td>219.00</td>\n",
       "      <td>113.00</td>\n",
       "      <td>54.00</td>\n",
       "      <td>46.00</td>\n",
       "      <td>31.00</td>\n",
       "      <td>28.00</td>\n",
       "      <td>30.00</td>\n",
       "      <td>4065.00</td>\n",
       "    </tr>\n",
       "    <tr>\n",
       "      <th>4천이상 5천미만</th>\n",
       "      <td>126.00</td>\n",
       "      <td>57.00</td>\n",
       "      <td>28.00</td>\n",
       "      <td>13.00</td>\n",
       "      <td>5.00</td>\n",
       "      <td>2.00</td>\n",
       "      <td>2.00</td>\n",
       "      <td>NaN</td>\n",
       "      <td>1.00</td>\n",
       "      <td>1.00</td>\n",
       "      <td>235.00</td>\n",
       "    </tr>\n",
       "    <tr>\n",
       "      <th>5천이상 6천미만</th>\n",
       "      <td>869.00</td>\n",
       "      <td>268.00</td>\n",
       "      <td>135.00</td>\n",
       "      <td>38.00</td>\n",
       "      <td>24.00</td>\n",
       "      <td>23.00</td>\n",
       "      <td>16.00</td>\n",
       "      <td>6.00</td>\n",
       "      <td>5.00</td>\n",
       "      <td>5.00</td>\n",
       "      <td>1389.00</td>\n",
       "    </tr>\n",
       "    <tr>\n",
       "      <th>6천이상 7천미만</th>\n",
       "      <td>1348.00</td>\n",
       "      <td>454.00</td>\n",
       "      <td>227.00</td>\n",
       "      <td>101.00</td>\n",
       "      <td>53.00</td>\n",
       "      <td>30.00</td>\n",
       "      <td>25.00</td>\n",
       "      <td>16.00</td>\n",
       "      <td>18.00</td>\n",
       "      <td>11.00</td>\n",
       "      <td>2283.00</td>\n",
       "    </tr>\n",
       "    <tr>\n",
       "      <th>7천이상 8천미만</th>\n",
       "      <td>74.00</td>\n",
       "      <td>18.00</td>\n",
       "      <td>6.00</td>\n",
       "      <td>4.00</td>\n",
       "      <td>6.00</td>\n",
       "      <td>2.00</td>\n",
       "      <td>2.00</td>\n",
       "      <td>1.00</td>\n",
       "      <td>2.00</td>\n",
       "      <td>1.00</td>\n",
       "      <td>116.00</td>\n",
       "    </tr>\n",
       "    <tr>\n",
       "      <th>8천이상 9천미만</th>\n",
       "      <td>103.00</td>\n",
       "      <td>28.00</td>\n",
       "      <td>24.00</td>\n",
       "      <td>18.00</td>\n",
       "      <td>5.00</td>\n",
       "      <td>4.00</td>\n",
       "      <td>3.00</td>\n",
       "      <td>1.00</td>\n",
       "      <td>1.00</td>\n",
       "      <td>3.00</td>\n",
       "      <td>190.00</td>\n",
       "    </tr>\n",
       "    <tr>\n",
       "      <th>9천이상 10천미만</th>\n",
       "      <td>216.00</td>\n",
       "      <td>171.00</td>\n",
       "      <td>134.00</td>\n",
       "      <td>70.00</td>\n",
       "      <td>48.00</td>\n",
       "      <td>30.00</td>\n",
       "      <td>21.00</td>\n",
       "      <td>22.00</td>\n",
       "      <td>10.00</td>\n",
       "      <td>20.00</td>\n",
       "      <td>742.00</td>\n",
       "    </tr>\n",
       "    <tr>\n",
       "      <th>10천이상 11천미만</th>\n",
       "      <td>202.00</td>\n",
       "      <td>17.00</td>\n",
       "      <td>11.00</td>\n",
       "      <td>7.00</td>\n",
       "      <td>5.00</td>\n",
       "      <td>2.00</td>\n",
       "      <td>1.00</td>\n",
       "      <td>1.00</td>\n",
       "      <td>1.00</td>\n",
       "      <td>3.00</td>\n",
       "      <td>250.00</td>\n",
       "    </tr>\n",
       "    <tr>\n",
       "      <th>11천이상 12천미만</th>\n",
       "      <td>123.00</td>\n",
       "      <td>11.00</td>\n",
       "      <td>10.00</td>\n",
       "      <td>10.00</td>\n",
       "      <td>6.00</td>\n",
       "      <td>3.00</td>\n",
       "      <td>2.00</td>\n",
       "      <td>1.00</td>\n",
       "      <td>1.00</td>\n",
       "      <td>NaN</td>\n",
       "      <td>167.00</td>\n",
       "    </tr>\n",
       "    <tr>\n",
       "      <th>12천이상 13천미만</th>\n",
       "      <td>688.00</td>\n",
       "      <td>219.00</td>\n",
       "      <td>143.00</td>\n",
       "      <td>71.00</td>\n",
       "      <td>49.00</td>\n",
       "      <td>33.00</td>\n",
       "      <td>25.00</td>\n",
       "      <td>19.00</td>\n",
       "      <td>13.00</td>\n",
       "      <td>6.00</td>\n",
       "      <td>1266.00</td>\n",
       "    </tr>\n",
       "    <tr>\n",
       "      <th>14천이상 15천미만</th>\n",
       "      <td>9.00</td>\n",
       "      <td>NaN</td>\n",
       "      <td>NaN</td>\n",
       "      <td>2.00</td>\n",
       "      <td>NaN</td>\n",
       "      <td>NaN</td>\n",
       "      <td>NaN</td>\n",
       "      <td>NaN</td>\n",
       "      <td>NaN</td>\n",
       "      <td>1.00</td>\n",
       "      <td>12.00</td>\n",
       "    </tr>\n",
       "    <tr>\n",
       "      <th>15천이상 16천미만</th>\n",
       "      <td>14.00</td>\n",
       "      <td>1.00</td>\n",
       "      <td>NaN</td>\n",
       "      <td>NaN</td>\n",
       "      <td>NaN</td>\n",
       "      <td>NaN</td>\n",
       "      <td>NaN</td>\n",
       "      <td>NaN</td>\n",
       "      <td>NaN</td>\n",
       "      <td>NaN</td>\n",
       "      <td>15.00</td>\n",
       "    </tr>\n",
       "    <tr>\n",
       "      <th>16천이상 17천미만</th>\n",
       "      <td>23.00</td>\n",
       "      <td>NaN</td>\n",
       "      <td>NaN</td>\n",
       "      <td>NaN</td>\n",
       "      <td>NaN</td>\n",
       "      <td>NaN</td>\n",
       "      <td>NaN</td>\n",
       "      <td>NaN</td>\n",
       "      <td>2.00</td>\n",
       "      <td>NaN</td>\n",
       "      <td>25.00</td>\n",
       "    </tr>\n",
       "    <tr>\n",
       "      <th>합계</th>\n",
       "      <th></th>\n",
       "      <td>52134.00</td>\n",
       "      <td>30014.00</td>\n",
       "      <td>12534.00</td>\n",
       "      <td>4775.00</td>\n",
       "      <td>2357.00</td>\n",
       "      <td>1334.00</td>\n",
       "      <td>908.00</td>\n",
       "      <td>671.00</td>\n",
       "      <td>532.00</td>\n",
       "      <td>481.00</td>\n",
       "      <td>105740.00</td>\n",
       "    </tr>\n",
       "  </tbody>\n",
       "</table>\n",
       "</div>"
      ],
      "text/plain": [
       "                            0            1            2            3   \\\n",
       "        배기량(cc)                                                         \n",
       "매연(%)                0이상 0.5미만  0.5이상 1.0미만  1.0이상 1.5미만  1.5이상 2.0미만   \n",
       "배기량(cc) 1천이상 2천미만     16970.00      9959.00      4174.00      1590.00   \n",
       "        2천이상 3천미만     29516.00     17653.00      7109.00      2632.00   \n",
       "        3천이상 4천미만      1853.00      1158.00       533.00       219.00   \n",
       "        4천이상 5천미만       126.00        57.00        28.00        13.00   \n",
       "        5천이상 6천미만       869.00       268.00       135.00        38.00   \n",
       "        6천이상 7천미만      1348.00       454.00       227.00       101.00   \n",
       "        7천이상 8천미만        74.00        18.00         6.00         4.00   \n",
       "        8천이상 9천미만       103.00        28.00        24.00        18.00   \n",
       "        9천이상 10천미만      216.00       171.00       134.00        70.00   \n",
       "        10천이상 11천미만     202.00        17.00        11.00         7.00   \n",
       "        11천이상 12천미만     123.00        11.00        10.00        10.00   \n",
       "        12천이상 13천미만     688.00       219.00       143.00        71.00   \n",
       "        14천이상 15천미만       9.00          NaN          NaN         2.00   \n",
       "        15천이상 16천미만      14.00         1.00          NaN          NaN   \n",
       "        16천이상 17천미만      23.00          NaN          NaN          NaN   \n",
       "합계                    52134.00     30014.00     12534.00      4775.00   \n",
       "\n",
       "                              4            5            6            7   \\\n",
       "        배기량(cc)                                                           \n",
       "매연(%)                2.0이상 2.5미만  2.5이상 3.0미만  3.0이상 3.5미만  3.5이상 4.0미만   \n",
       "배기량(cc) 1천이상 2천미만         788.00       446.00       266.00       192.00   \n",
       "        2천이상 3천미만        1255.00       705.00       499.00       381.00   \n",
       "        3천이상 4천미만         113.00        54.00        46.00        31.00   \n",
       "        4천이상 5천미만           5.00         2.00         2.00          NaN   \n",
       "        5천이상 6천미만          24.00        23.00        16.00         6.00   \n",
       "        6천이상 7천미만          53.00        30.00        25.00        16.00   \n",
       "        7천이상 8천미만           6.00         2.00         2.00         1.00   \n",
       "        8천이상 9천미만           5.00         4.00         3.00         1.00   \n",
       "        9천이상 10천미만         48.00        30.00        21.00        22.00   \n",
       "        10천이상 11천미만         5.00         2.00         1.00         1.00   \n",
       "        11천이상 12천미만         6.00         3.00         2.00         1.00   \n",
       "        12천이상 13천미만        49.00        33.00        25.00        19.00   \n",
       "        14천이상 15천미만          NaN          NaN          NaN          NaN   \n",
       "        15천이상 16천미만          NaN          NaN          NaN          NaN   \n",
       "        16천이상 17천미만          NaN          NaN          NaN          NaN   \n",
       "합계                       2357.00      1334.00       908.00       671.00   \n",
       "\n",
       "                              8      9         10  \n",
       "        배기량(cc)                                    \n",
       "매연(%)                4.0이상 4.5미만  4.5이상        총합  \n",
       "배기량(cc) 1천이상 2천미만         153.00 135.00  34673.00  \n",
       "        2천이상 3천미만         297.00 265.00  60312.00  \n",
       "        3천이상 4천미만          28.00  30.00   4065.00  \n",
       "        4천이상 5천미만           1.00   1.00    235.00  \n",
       "        5천이상 6천미만           5.00   5.00   1389.00  \n",
       "        6천이상 7천미만          18.00  11.00   2283.00  \n",
       "        7천이상 8천미만           2.00   1.00    116.00  \n",
       "        8천이상 9천미만           1.00   3.00    190.00  \n",
       "        9천이상 10천미만         10.00  20.00    742.00  \n",
       "        10천이상 11천미만         1.00   3.00    250.00  \n",
       "        11천이상 12천미만         1.00    NaN    167.00  \n",
       "        12천이상 13천미만        13.00   6.00   1266.00  \n",
       "        14천이상 15천미만          NaN   1.00     12.00  \n",
       "        15천이상 16천미만          NaN    NaN     15.00  \n",
       "        16천이상 17천미만         2.00    NaN     25.00  \n",
       "합계                        532.00 481.00 105740.00  "
      ]
     },
     "execution_count": 213,
     "metadata": {},
     "output_type": "execute_result"
    }
   ],
   "source": [
    "grp16 = die.groupby(['매연구분인덱스', '매연구분', '배기량구분인덱스', '배기량구분'], dropna=False).agg({'차량번호':'count'}).unstack(['배기량구분인덱스', '배기량구분']).reset_index()\n",
    "grp16 = grp16.rename(columns={'매연구분':'매연(%)', '배기량구분':'배기량(cc)', '차량번호':'배기량(cc)'})\n",
    "grp16 = grp16.rename_axis(columns={'배기량구분':'배기량(cc)'})\n",
    "# grp16 = grp16.rename(columns={'차량번호':'배기량(cc)'}, level=0)\n",
    "grp16['합계'] = grp16.iloc[:, 2:].sum(axis=1)\n",
    "grp16.loc[grp16.shape[0]] = [grp16['매연구분인덱스'].max() + 1, '총합'] + grp16.iloc[:, 2:].sum().to_list()\n",
    "grp16 = grp16.drop('매연구분인덱스', axis=1)\n",
    "grp16.columns = grp16.columns.droplevel(1)\n",
    "grp16 = grp16.T\n",
    "grp16"
   ]
  },
  {
   "cell_type": "markdown",
   "metadata": {},
   "source": [
    "### 17\\. RSD 매연 농도, 차량중량별 데이터 수량"
   ]
  },
  {
   "cell_type": "code",
   "execution_count": 214,
   "metadata": {},
   "outputs": [
    {
     "data": {
      "text/html": [
       "<div>\n",
       "<style scoped>\n",
       "    .dataframe tbody tr th:only-of-type {\n",
       "        vertical-align: middle;\n",
       "    }\n",
       "\n",
       "    .dataframe tbody tr th {\n",
       "        vertical-align: top;\n",
       "    }\n",
       "\n",
       "    .dataframe thead th {\n",
       "        text-align: right;\n",
       "    }\n",
       "</style>\n",
       "<table border=\"1\" class=\"dataframe\">\n",
       "  <thead>\n",
       "    <tr style=\"text-align: right;\">\n",
       "      <th></th>\n",
       "      <th>매연(%)</th>\n",
       "      <th>차량중량(kg)</th>\n",
       "      <th>측정건수(건)</th>\n",
       "    </tr>\n",
       "  </thead>\n",
       "  <tbody>\n",
       "    <tr>\n",
       "      <th>0</th>\n",
       "      <td>0이상 0.5미만</td>\n",
       "      <td>1천이상 2천미만</td>\n",
       "      <td>8471</td>\n",
       "    </tr>\n",
       "    <tr>\n",
       "      <th>1</th>\n",
       "      <td>0이상 0.5미만</td>\n",
       "      <td>2천이상 3천미만</td>\n",
       "      <td>27810</td>\n",
       "    </tr>\n",
       "    <tr>\n",
       "      <th>2</th>\n",
       "      <td>0이상 0.5미만</td>\n",
       "      <td>3천이상 4천미만</td>\n",
       "      <td>10168</td>\n",
       "    </tr>\n",
       "    <tr>\n",
       "      <th>3</th>\n",
       "      <td>0이상 0.5미만</td>\n",
       "      <td>4천이상 5천미만</td>\n",
       "      <td>7</td>\n",
       "    </tr>\n",
       "    <tr>\n",
       "      <th>4</th>\n",
       "      <td>0이상 0.5미만</td>\n",
       "      <td>5천이상 6천미만</td>\n",
       "      <td>591</td>\n",
       "    </tr>\n",
       "    <tr>\n",
       "      <th>...</th>\n",
       "      <td>...</td>\n",
       "      <td>...</td>\n",
       "      <td>...</td>\n",
       "    </tr>\n",
       "    <tr>\n",
       "      <th>249</th>\n",
       "      <td>4.5이상</td>\n",
       "      <td>14천이상 15천미만</td>\n",
       "      <td>9</td>\n",
       "    </tr>\n",
       "    <tr>\n",
       "      <th>250</th>\n",
       "      <td>4.5이상</td>\n",
       "      <td>15천이상 16천미만</td>\n",
       "      <td>6</td>\n",
       "    </tr>\n",
       "    <tr>\n",
       "      <th>251</th>\n",
       "      <td>4.5이상</td>\n",
       "      <td>16천이상 17천미만</td>\n",
       "      <td>3</td>\n",
       "    </tr>\n",
       "    <tr>\n",
       "      <th>252</th>\n",
       "      <td>4.5이상</td>\n",
       "      <td>37천이상 38천미만</td>\n",
       "      <td>1</td>\n",
       "    </tr>\n",
       "    <tr>\n",
       "      <th>253</th>\n",
       "      <td>총합</td>\n",
       "      <td>NaN</td>\n",
       "      <td>105740</td>\n",
       "    </tr>\n",
       "  </tbody>\n",
       "</table>\n",
       "<p>254 rows × 3 columns</p>\n",
       "</div>"
      ],
      "text/plain": [
       "         매연(%)     차량중량(kg)  측정건수(건)\n",
       "0    0이상 0.5미만    1천이상 2천미만     8471\n",
       "1    0이상 0.5미만    2천이상 3천미만    27810\n",
       "2    0이상 0.5미만    3천이상 4천미만    10168\n",
       "3    0이상 0.5미만    4천이상 5천미만        7\n",
       "4    0이상 0.5미만    5천이상 6천미만      591\n",
       "..         ...          ...      ...\n",
       "249      4.5이상  14천이상 15천미만        9\n",
       "250      4.5이상  15천이상 16천미만        6\n",
       "251      4.5이상  16천이상 17천미만        3\n",
       "252      4.5이상  37천이상 38천미만        1\n",
       "253         총합          NaN   105740\n",
       "\n",
       "[254 rows x 3 columns]"
      ]
     },
     "execution_count": 214,
     "metadata": {},
     "output_type": "execute_result"
    }
   ],
   "source": [
    "grp17 = die.groupby(['매연구분인덱스', '매연구분', '총중량구분인덱스', '총중량구분'], dropna=False).agg({'차량번호':'count'}).reset_index()\n",
    "grp17 = grp17.rename(columns={'총중량구분':'차량중량(kg)', '차량번호':'측정건수(건)', '매연구분':'매연(%)'})\n",
    "grp17.loc[grp17.shape[0]] = [grp17['매연구분인덱스'].max() + 1, '총합', np.nan, np.nan, grp17['측정건수(건)'].sum()]\n",
    "grp17 = grp17.drop(['매연구분인덱스', '총중량구분인덱스'], axis=1)\n",
    "grp17"
   ]
  },
  {
   "cell_type": "code",
   "execution_count": 215,
   "metadata": {},
   "outputs": [
    {
     "name": "stderr",
     "output_type": "stream",
     "text": [
      "C:\\Users\\kbjung\\AppData\\Local\\Temp\\ipykernel_7012\\2008584361.py:6: PerformanceWarning: dropping on a non-lexsorted multi-index without a level parameter may impact performance.\n",
      "  grp17 = grp17.drop('매연구분인덱스', axis=1)\n"
     ]
    },
    {
     "data": {
      "text/html": [
       "<div>\n",
       "<style scoped>\n",
       "    .dataframe tbody tr th:only-of-type {\n",
       "        vertical-align: middle;\n",
       "    }\n",
       "\n",
       "    .dataframe tbody tr th {\n",
       "        vertical-align: top;\n",
       "    }\n",
       "\n",
       "    .dataframe thead th {\n",
       "        text-align: right;\n",
       "    }\n",
       "</style>\n",
       "<table border=\"1\" class=\"dataframe\">\n",
       "  <thead>\n",
       "    <tr style=\"text-align: right;\">\n",
       "      <th></th>\n",
       "      <th></th>\n",
       "      <th>0</th>\n",
       "      <th>1</th>\n",
       "      <th>2</th>\n",
       "      <th>3</th>\n",
       "      <th>4</th>\n",
       "      <th>5</th>\n",
       "      <th>6</th>\n",
       "      <th>7</th>\n",
       "      <th>8</th>\n",
       "      <th>9</th>\n",
       "      <th>10</th>\n",
       "    </tr>\n",
       "    <tr>\n",
       "      <th></th>\n",
       "      <th>차량중량(kg)</th>\n",
       "      <th></th>\n",
       "      <th></th>\n",
       "      <th></th>\n",
       "      <th></th>\n",
       "      <th></th>\n",
       "      <th></th>\n",
       "      <th></th>\n",
       "      <th></th>\n",
       "      <th></th>\n",
       "      <th></th>\n",
       "      <th></th>\n",
       "    </tr>\n",
       "  </thead>\n",
       "  <tbody>\n",
       "    <tr>\n",
       "      <th>매연(%)</th>\n",
       "      <th></th>\n",
       "      <td>0이상 0.5미만</td>\n",
       "      <td>0.5이상 1.0미만</td>\n",
       "      <td>1.0이상 1.5미만</td>\n",
       "      <td>1.5이상 2.0미만</td>\n",
       "      <td>2.0이상 2.5미만</td>\n",
       "      <td>2.5이상 3.0미만</td>\n",
       "      <td>3.0이상 3.5미만</td>\n",
       "      <td>3.5이상 4.0미만</td>\n",
       "      <td>4.0이상 4.5미만</td>\n",
       "      <td>4.5이상</td>\n",
       "      <td>총합</td>\n",
       "    </tr>\n",
       "    <tr>\n",
       "      <th rowspan=\"39\" valign=\"top\">차량중량(kg)</th>\n",
       "      <th>1천이상 2천미만</th>\n",
       "      <td>8471.00</td>\n",
       "      <td>4987.00</td>\n",
       "      <td>2037.00</td>\n",
       "      <td>817.00</td>\n",
       "      <td>368.00</td>\n",
       "      <td>195.00</td>\n",
       "      <td>127.00</td>\n",
       "      <td>87.00</td>\n",
       "      <td>69.00</td>\n",
       "      <td>49.00</td>\n",
       "      <td>17207.00</td>\n",
       "    </tr>\n",
       "    <tr>\n",
       "      <th>2천이상 3천미만</th>\n",
       "      <td>27810.00</td>\n",
       "      <td>16478.00</td>\n",
       "      <td>6878.00</td>\n",
       "      <td>2579.00</td>\n",
       "      <td>1293.00</td>\n",
       "      <td>724.00</td>\n",
       "      <td>472.00</td>\n",
       "      <td>391.00</td>\n",
       "      <td>286.00</td>\n",
       "      <td>271.00</td>\n",
       "      <td>57182.00</td>\n",
       "    </tr>\n",
       "    <tr>\n",
       "      <th>3천이상 4천미만</th>\n",
       "      <td>10168.00</td>\n",
       "      <td>6129.00</td>\n",
       "      <td>2363.00</td>\n",
       "      <td>822.00</td>\n",
       "      <td>382.00</td>\n",
       "      <td>232.00</td>\n",
       "      <td>166.00</td>\n",
       "      <td>95.00</td>\n",
       "      <td>94.00</td>\n",
       "      <td>79.00</td>\n",
       "      <td>20530.00</td>\n",
       "    </tr>\n",
       "    <tr>\n",
       "      <th>4천이상 5천미만</th>\n",
       "      <td>7.00</td>\n",
       "      <td>6.00</td>\n",
       "      <td>5.00</td>\n",
       "      <td>4.00</td>\n",
       "      <td>1.00</td>\n",
       "      <td>NaN</td>\n",
       "      <td>NaN</td>\n",
       "      <td>NaN</td>\n",
       "      <td>1.00</td>\n",
       "      <td>1.00</td>\n",
       "      <td>25.00</td>\n",
       "    </tr>\n",
       "    <tr>\n",
       "      <th>5천이상 6천미만</th>\n",
       "      <td>591.00</td>\n",
       "      <td>462.00</td>\n",
       "      <td>214.00</td>\n",
       "      <td>93.00</td>\n",
       "      <td>49.00</td>\n",
       "      <td>24.00</td>\n",
       "      <td>18.00</td>\n",
       "      <td>9.00</td>\n",
       "      <td>7.00</td>\n",
       "      <td>6.00</td>\n",
       "      <td>1473.00</td>\n",
       "    </tr>\n",
       "    <tr>\n",
       "      <th>6천이상 7천미만</th>\n",
       "      <td>287.00</td>\n",
       "      <td>175.00</td>\n",
       "      <td>102.00</td>\n",
       "      <td>43.00</td>\n",
       "      <td>21.00</td>\n",
       "      <td>9.00</td>\n",
       "      <td>9.00</td>\n",
       "      <td>7.00</td>\n",
       "      <td>8.00</td>\n",
       "      <td>8.00</td>\n",
       "      <td>669.00</td>\n",
       "    </tr>\n",
       "    <tr>\n",
       "      <th>7천이상 8천미만</th>\n",
       "      <td>912.00</td>\n",
       "      <td>484.00</td>\n",
       "      <td>193.00</td>\n",
       "      <td>80.00</td>\n",
       "      <td>39.00</td>\n",
       "      <td>15.00</td>\n",
       "      <td>19.00</td>\n",
       "      <td>15.00</td>\n",
       "      <td>9.00</td>\n",
       "      <td>12.00</td>\n",
       "      <td>1778.00</td>\n",
       "    </tr>\n",
       "    <tr>\n",
       "      <th>8천이상 9천미만</th>\n",
       "      <td>208.00</td>\n",
       "      <td>111.00</td>\n",
       "      <td>51.00</td>\n",
       "      <td>16.00</td>\n",
       "      <td>8.00</td>\n",
       "      <td>8.00</td>\n",
       "      <td>2.00</td>\n",
       "      <td>1.00</td>\n",
       "      <td>5.00</td>\n",
       "      <td>5.00</td>\n",
       "      <td>415.00</td>\n",
       "    </tr>\n",
       "    <tr>\n",
       "      <th>9천이상 10천미만</th>\n",
       "      <td>126.00</td>\n",
       "      <td>63.00</td>\n",
       "      <td>33.00</td>\n",
       "      <td>21.00</td>\n",
       "      <td>12.00</td>\n",
       "      <td>7.00</td>\n",
       "      <td>9.00</td>\n",
       "      <td>6.00</td>\n",
       "      <td>6.00</td>\n",
       "      <td>6.00</td>\n",
       "      <td>289.00</td>\n",
       "    </tr>\n",
       "    <tr>\n",
       "      <th>10천이상 11천미만</th>\n",
       "      <td>415.00</td>\n",
       "      <td>198.00</td>\n",
       "      <td>115.00</td>\n",
       "      <td>42.00</td>\n",
       "      <td>25.00</td>\n",
       "      <td>22.00</td>\n",
       "      <td>10.00</td>\n",
       "      <td>4.00</td>\n",
       "      <td>10.00</td>\n",
       "      <td>4.00</td>\n",
       "      <td>845.00</td>\n",
       "    </tr>\n",
       "    <tr>\n",
       "      <th>11천이상 12천미만</th>\n",
       "      <td>454.00</td>\n",
       "      <td>142.00</td>\n",
       "      <td>72.00</td>\n",
       "      <td>26.00</td>\n",
       "      <td>9.00</td>\n",
       "      <td>9.00</td>\n",
       "      <td>7.00</td>\n",
       "      <td>5.00</td>\n",
       "      <td>2.00</td>\n",
       "      <td>3.00</td>\n",
       "      <td>729.00</td>\n",
       "    </tr>\n",
       "    <tr>\n",
       "      <th>12천이상 13천미만</th>\n",
       "      <td>377.00</td>\n",
       "      <td>73.00</td>\n",
       "      <td>43.00</td>\n",
       "      <td>6.00</td>\n",
       "      <td>7.00</td>\n",
       "      <td>7.00</td>\n",
       "      <td>5.00</td>\n",
       "      <td>2.00</td>\n",
       "      <td>3.00</td>\n",
       "      <td>2.00</td>\n",
       "      <td>525.00</td>\n",
       "    </tr>\n",
       "    <tr>\n",
       "      <th>13천이상 14천미만</th>\n",
       "      <td>362.00</td>\n",
       "      <td>145.00</td>\n",
       "      <td>90.00</td>\n",
       "      <td>55.00</td>\n",
       "      <td>33.00</td>\n",
       "      <td>22.00</td>\n",
       "      <td>14.00</td>\n",
       "      <td>15.00</td>\n",
       "      <td>6.00</td>\n",
       "      <td>16.00</td>\n",
       "      <td>758.00</td>\n",
       "    </tr>\n",
       "    <tr>\n",
       "      <th>14천이상 15천미만</th>\n",
       "      <td>362.00</td>\n",
       "      <td>231.00</td>\n",
       "      <td>136.00</td>\n",
       "      <td>65.00</td>\n",
       "      <td>44.00</td>\n",
       "      <td>26.00</td>\n",
       "      <td>22.00</td>\n",
       "      <td>7.00</td>\n",
       "      <td>7.00</td>\n",
       "      <td>9.00</td>\n",
       "      <td>909.00</td>\n",
       "    </tr>\n",
       "    <tr>\n",
       "      <th>15천이상 16천미만</th>\n",
       "      <td>294.00</td>\n",
       "      <td>189.00</td>\n",
       "      <td>136.00</td>\n",
       "      <td>68.00</td>\n",
       "      <td>44.00</td>\n",
       "      <td>28.00</td>\n",
       "      <td>20.00</td>\n",
       "      <td>22.00</td>\n",
       "      <td>11.00</td>\n",
       "      <td>6.00</td>\n",
       "      <td>818.00</td>\n",
       "    </tr>\n",
       "    <tr>\n",
       "      <th>16천이상 17천미만</th>\n",
       "      <td>169.00</td>\n",
       "      <td>23.00</td>\n",
       "      <td>7.00</td>\n",
       "      <td>10.00</td>\n",
       "      <td>5.00</td>\n",
       "      <td>2.00</td>\n",
       "      <td>1.00</td>\n",
       "      <td>1.00</td>\n",
       "      <td>NaN</td>\n",
       "      <td>3.00</td>\n",
       "      <td>221.00</td>\n",
       "    </tr>\n",
       "    <tr>\n",
       "      <th>17천이상 18천미만</th>\n",
       "      <td>46.00</td>\n",
       "      <td>9.00</td>\n",
       "      <td>2.00</td>\n",
       "      <td>4.00</td>\n",
       "      <td>2.00</td>\n",
       "      <td>NaN</td>\n",
       "      <td>NaN</td>\n",
       "      <td>NaN</td>\n",
       "      <td>NaN</td>\n",
       "      <td>NaN</td>\n",
       "      <td>63.00</td>\n",
       "    </tr>\n",
       "    <tr>\n",
       "      <th>18천이상 19천미만</th>\n",
       "      <td>32.00</td>\n",
       "      <td>4.00</td>\n",
       "      <td>4.00</td>\n",
       "      <td>3.00</td>\n",
       "      <td>1.00</td>\n",
       "      <td>NaN</td>\n",
       "      <td>1.00</td>\n",
       "      <td>NaN</td>\n",
       "      <td>NaN</td>\n",
       "      <td>NaN</td>\n",
       "      <td>45.00</td>\n",
       "    </tr>\n",
       "    <tr>\n",
       "      <th>19천이상 20천미만</th>\n",
       "      <td>25.00</td>\n",
       "      <td>4.00</td>\n",
       "      <td>NaN</td>\n",
       "      <td>NaN</td>\n",
       "      <td>NaN</td>\n",
       "      <td>NaN</td>\n",
       "      <td>NaN</td>\n",
       "      <td>NaN</td>\n",
       "      <td>NaN</td>\n",
       "      <td>NaN</td>\n",
       "      <td>29.00</td>\n",
       "    </tr>\n",
       "    <tr>\n",
       "      <th>20천이상 21천미만</th>\n",
       "      <td>11.00</td>\n",
       "      <td>2.00</td>\n",
       "      <td>1.00</td>\n",
       "      <td>NaN</td>\n",
       "      <td>NaN</td>\n",
       "      <td>NaN</td>\n",
       "      <td>NaN</td>\n",
       "      <td>NaN</td>\n",
       "      <td>NaN</td>\n",
       "      <td>NaN</td>\n",
       "      <td>14.00</td>\n",
       "    </tr>\n",
       "    <tr>\n",
       "      <th>21천이상 22천미만</th>\n",
       "      <td>16.00</td>\n",
       "      <td>5.00</td>\n",
       "      <td>NaN</td>\n",
       "      <td>3.00</td>\n",
       "      <td>NaN</td>\n",
       "      <td>NaN</td>\n",
       "      <td>NaN</td>\n",
       "      <td>NaN</td>\n",
       "      <td>2.00</td>\n",
       "      <td>NaN</td>\n",
       "      <td>26.00</td>\n",
       "    </tr>\n",
       "    <tr>\n",
       "      <th>22천이상 23천미만</th>\n",
       "      <td>33.00</td>\n",
       "      <td>4.00</td>\n",
       "      <td>1.00</td>\n",
       "      <td>1.00</td>\n",
       "      <td>NaN</td>\n",
       "      <td>NaN</td>\n",
       "      <td>1.00</td>\n",
       "      <td>NaN</td>\n",
       "      <td>1.00</td>\n",
       "      <td>NaN</td>\n",
       "      <td>41.00</td>\n",
       "    </tr>\n",
       "    <tr>\n",
       "      <th>23천이상 24천미만</th>\n",
       "      <td>13.00</td>\n",
       "      <td>NaN</td>\n",
       "      <td>NaN</td>\n",
       "      <td>1.00</td>\n",
       "      <td>NaN</td>\n",
       "      <td>NaN</td>\n",
       "      <td>NaN</td>\n",
       "      <td>NaN</td>\n",
       "      <td>NaN</td>\n",
       "      <td>NaN</td>\n",
       "      <td>14.00</td>\n",
       "    </tr>\n",
       "    <tr>\n",
       "      <th>24천이상 25천미만</th>\n",
       "      <td>30.00</td>\n",
       "      <td>1.00</td>\n",
       "      <td>NaN</td>\n",
       "      <td>NaN</td>\n",
       "      <td>NaN</td>\n",
       "      <td>NaN</td>\n",
       "      <td>NaN</td>\n",
       "      <td>NaN</td>\n",
       "      <td>NaN</td>\n",
       "      <td>NaN</td>\n",
       "      <td>31.00</td>\n",
       "    </tr>\n",
       "    <tr>\n",
       "      <th>25천이상 26천미만</th>\n",
       "      <td>205.00</td>\n",
       "      <td>14.00</td>\n",
       "      <td>13.00</td>\n",
       "      <td>1.00</td>\n",
       "      <td>4.00</td>\n",
       "      <td>NaN</td>\n",
       "      <td>1.00</td>\n",
       "      <td>2.00</td>\n",
       "      <td>NaN</td>\n",
       "      <td>NaN</td>\n",
       "      <td>240.00</td>\n",
       "    </tr>\n",
       "    <tr>\n",
       "      <th>26천이상 27천미만</th>\n",
       "      <td>81.00</td>\n",
       "      <td>7.00</td>\n",
       "      <td>6.00</td>\n",
       "      <td>1.00</td>\n",
       "      <td>NaN</td>\n",
       "      <td>NaN</td>\n",
       "      <td>NaN</td>\n",
       "      <td>NaN</td>\n",
       "      <td>NaN</td>\n",
       "      <td>NaN</td>\n",
       "      <td>95.00</td>\n",
       "    </tr>\n",
       "    <tr>\n",
       "      <th>27천이상 28천미만</th>\n",
       "      <td>18.00</td>\n",
       "      <td>5.00</td>\n",
       "      <td>1.00</td>\n",
       "      <td>NaN</td>\n",
       "      <td>NaN</td>\n",
       "      <td>NaN</td>\n",
       "      <td>NaN</td>\n",
       "      <td>NaN</td>\n",
       "      <td>NaN</td>\n",
       "      <td>NaN</td>\n",
       "      <td>24.00</td>\n",
       "    </tr>\n",
       "    <tr>\n",
       "      <th>28천이상 29천미만</th>\n",
       "      <td>7.00</td>\n",
       "      <td>NaN</td>\n",
       "      <td>NaN</td>\n",
       "      <td>NaN</td>\n",
       "      <td>NaN</td>\n",
       "      <td>NaN</td>\n",
       "      <td>NaN</td>\n",
       "      <td>NaN</td>\n",
       "      <td>NaN</td>\n",
       "      <td>NaN</td>\n",
       "      <td>7.00</td>\n",
       "    </tr>\n",
       "    <tr>\n",
       "      <th>29천이상 30천미만</th>\n",
       "      <td>15.00</td>\n",
       "      <td>NaN</td>\n",
       "      <td>2.00</td>\n",
       "      <td>NaN</td>\n",
       "      <td>1.00</td>\n",
       "      <td>NaN</td>\n",
       "      <td>NaN</td>\n",
       "      <td>NaN</td>\n",
       "      <td>NaN</td>\n",
       "      <td>NaN</td>\n",
       "      <td>18.00</td>\n",
       "    </tr>\n",
       "    <tr>\n",
       "      <th>30천이상 31천미만</th>\n",
       "      <td>9.00</td>\n",
       "      <td>1.00</td>\n",
       "      <td>2.00</td>\n",
       "      <td>1.00</td>\n",
       "      <td>NaN</td>\n",
       "      <td>NaN</td>\n",
       "      <td>NaN</td>\n",
       "      <td>NaN</td>\n",
       "      <td>NaN</td>\n",
       "      <td>NaN</td>\n",
       "      <td>13.00</td>\n",
       "    </tr>\n",
       "    <tr>\n",
       "      <th>31천이상 32천미만</th>\n",
       "      <td>9.00</td>\n",
       "      <td>NaN</td>\n",
       "      <td>1.00</td>\n",
       "      <td>NaN</td>\n",
       "      <td>NaN</td>\n",
       "      <td>NaN</td>\n",
       "      <td>NaN</td>\n",
       "      <td>NaN</td>\n",
       "      <td>NaN</td>\n",
       "      <td>NaN</td>\n",
       "      <td>10.00</td>\n",
       "    </tr>\n",
       "    <tr>\n",
       "      <th>32천이상 33천미만</th>\n",
       "      <td>3.00</td>\n",
       "      <td>NaN</td>\n",
       "      <td>NaN</td>\n",
       "      <td>NaN</td>\n",
       "      <td>NaN</td>\n",
       "      <td>NaN</td>\n",
       "      <td>NaN</td>\n",
       "      <td>NaN</td>\n",
       "      <td>NaN</td>\n",
       "      <td>NaN</td>\n",
       "      <td>3.00</td>\n",
       "    </tr>\n",
       "    <tr>\n",
       "      <th>33천이상 34천미만</th>\n",
       "      <td>10.00</td>\n",
       "      <td>NaN</td>\n",
       "      <td>NaN</td>\n",
       "      <td>NaN</td>\n",
       "      <td>NaN</td>\n",
       "      <td>NaN</td>\n",
       "      <td>NaN</td>\n",
       "      <td>NaN</td>\n",
       "      <td>NaN</td>\n",
       "      <td>NaN</td>\n",
       "      <td>10.00</td>\n",
       "    </tr>\n",
       "    <tr>\n",
       "      <th>34천이상 35천미만</th>\n",
       "      <td>8.00</td>\n",
       "      <td>2.00</td>\n",
       "      <td>NaN</td>\n",
       "      <td>1.00</td>\n",
       "      <td>NaN</td>\n",
       "      <td>NaN</td>\n",
       "      <td>NaN</td>\n",
       "      <td>1.00</td>\n",
       "      <td>NaN</td>\n",
       "      <td>NaN</td>\n",
       "      <td>12.00</td>\n",
       "    </tr>\n",
       "    <tr>\n",
       "      <th>35천이상 36천미만</th>\n",
       "      <td>63.00</td>\n",
       "      <td>8.00</td>\n",
       "      <td>6.00</td>\n",
       "      <td>3.00</td>\n",
       "      <td>1.00</td>\n",
       "      <td>NaN</td>\n",
       "      <td>1.00</td>\n",
       "      <td>NaN</td>\n",
       "      <td>1.00</td>\n",
       "      <td>NaN</td>\n",
       "      <td>83.00</td>\n",
       "    </tr>\n",
       "    <tr>\n",
       "      <th>36천이상 37천미만</th>\n",
       "      <td>18.00</td>\n",
       "      <td>2.00</td>\n",
       "      <td>1.00</td>\n",
       "      <td>1.00</td>\n",
       "      <td>1.00</td>\n",
       "      <td>2.00</td>\n",
       "      <td>NaN</td>\n",
       "      <td>NaN</td>\n",
       "      <td>NaN</td>\n",
       "      <td>NaN</td>\n",
       "      <td>25.00</td>\n",
       "    </tr>\n",
       "    <tr>\n",
       "      <th>37천이상 38천미만</th>\n",
       "      <td>49.00</td>\n",
       "      <td>5.00</td>\n",
       "      <td>3.00</td>\n",
       "      <td>3.00</td>\n",
       "      <td>1.00</td>\n",
       "      <td>NaN</td>\n",
       "      <td>NaN</td>\n",
       "      <td>NaN</td>\n",
       "      <td>1.00</td>\n",
       "      <td>1.00</td>\n",
       "      <td>63.00</td>\n",
       "    </tr>\n",
       "    <tr>\n",
       "      <th>38천이상 39천미만</th>\n",
       "      <td>190.00</td>\n",
       "      <td>15.00</td>\n",
       "      <td>5.00</td>\n",
       "      <td>2.00</td>\n",
       "      <td>1.00</td>\n",
       "      <td>1.00</td>\n",
       "      <td>1.00</td>\n",
       "      <td>NaN</td>\n",
       "      <td>1.00</td>\n",
       "      <td>NaN</td>\n",
       "      <td>216.00</td>\n",
       "    </tr>\n",
       "    <tr>\n",
       "      <th>39천이상 40천미만</th>\n",
       "      <td>230.00</td>\n",
       "      <td>30.00</td>\n",
       "      <td>11.00</td>\n",
       "      <td>3.00</td>\n",
       "      <td>5.00</td>\n",
       "      <td>1.00</td>\n",
       "      <td>2.00</td>\n",
       "      <td>1.00</td>\n",
       "      <td>2.00</td>\n",
       "      <td>NaN</td>\n",
       "      <td>285.00</td>\n",
       "    </tr>\n",
       "    <tr>\n",
       "      <th>합계</th>\n",
       "      <th></th>\n",
       "      <td>52134.00</td>\n",
       "      <td>30014.00</td>\n",
       "      <td>12534.00</td>\n",
       "      <td>4775.00</td>\n",
       "      <td>2357.00</td>\n",
       "      <td>1334.00</td>\n",
       "      <td>908.00</td>\n",
       "      <td>671.00</td>\n",
       "      <td>532.00</td>\n",
       "      <td>481.00</td>\n",
       "      <td>105740.00</td>\n",
       "    </tr>\n",
       "  </tbody>\n",
       "</table>\n",
       "</div>"
      ],
      "text/plain": [
       "                             0            1            2            3   \\\n",
       "         차량중량(kg)                                                        \n",
       "매연(%)                 0이상 0.5미만  0.5이상 1.0미만  1.0이상 1.5미만  1.5이상 2.0미만   \n",
       "차량중량(kg) 1천이상 2천미만      8471.00      4987.00      2037.00       817.00   \n",
       "         2천이상 3천미만     27810.00     16478.00      6878.00      2579.00   \n",
       "         3천이상 4천미만     10168.00      6129.00      2363.00       822.00   \n",
       "         4천이상 5천미만         7.00         6.00         5.00         4.00   \n",
       "         5천이상 6천미만       591.00       462.00       214.00        93.00   \n",
       "         6천이상 7천미만       287.00       175.00       102.00        43.00   \n",
       "         7천이상 8천미만       912.00       484.00       193.00        80.00   \n",
       "         8천이상 9천미만       208.00       111.00        51.00        16.00   \n",
       "         9천이상 10천미만      126.00        63.00        33.00        21.00   \n",
       "         10천이상 11천미만     415.00       198.00       115.00        42.00   \n",
       "         11천이상 12천미만     454.00       142.00        72.00        26.00   \n",
       "         12천이상 13천미만     377.00        73.00        43.00         6.00   \n",
       "         13천이상 14천미만     362.00       145.00        90.00        55.00   \n",
       "         14천이상 15천미만     362.00       231.00       136.00        65.00   \n",
       "         15천이상 16천미만     294.00       189.00       136.00        68.00   \n",
       "         16천이상 17천미만     169.00        23.00         7.00        10.00   \n",
       "         17천이상 18천미만      46.00         9.00         2.00         4.00   \n",
       "         18천이상 19천미만      32.00         4.00         4.00         3.00   \n",
       "         19천이상 20천미만      25.00         4.00          NaN          NaN   \n",
       "         20천이상 21천미만      11.00         2.00         1.00          NaN   \n",
       "         21천이상 22천미만      16.00         5.00          NaN         3.00   \n",
       "         22천이상 23천미만      33.00         4.00         1.00         1.00   \n",
       "         23천이상 24천미만      13.00          NaN          NaN         1.00   \n",
       "         24천이상 25천미만      30.00         1.00          NaN          NaN   \n",
       "         25천이상 26천미만     205.00        14.00        13.00         1.00   \n",
       "         26천이상 27천미만      81.00         7.00         6.00         1.00   \n",
       "         27천이상 28천미만      18.00         5.00         1.00          NaN   \n",
       "         28천이상 29천미만       7.00          NaN          NaN          NaN   \n",
       "         29천이상 30천미만      15.00          NaN         2.00          NaN   \n",
       "         30천이상 31천미만       9.00         1.00         2.00         1.00   \n",
       "         31천이상 32천미만       9.00          NaN         1.00          NaN   \n",
       "         32천이상 33천미만       3.00          NaN          NaN          NaN   \n",
       "         33천이상 34천미만      10.00          NaN          NaN          NaN   \n",
       "         34천이상 35천미만       8.00         2.00          NaN         1.00   \n",
       "         35천이상 36천미만      63.00         8.00         6.00         3.00   \n",
       "         36천이상 37천미만      18.00         2.00         1.00         1.00   \n",
       "         37천이상 38천미만      49.00         5.00         3.00         3.00   \n",
       "         38천이상 39천미만     190.00        15.00         5.00         2.00   \n",
       "         39천이상 40천미만     230.00        30.00        11.00         3.00   \n",
       "합계                     52134.00     30014.00     12534.00      4775.00   \n",
       "\n",
       "                               4            5            6            7   \\\n",
       "         차량중량(kg)                                                          \n",
       "매연(%)                 2.0이상 2.5미만  2.5이상 3.0미만  3.0이상 3.5미만  3.5이상 4.0미만   \n",
       "차량중량(kg) 1천이상 2천미만         368.00       195.00       127.00        87.00   \n",
       "         2천이상 3천미만        1293.00       724.00       472.00       391.00   \n",
       "         3천이상 4천미만         382.00       232.00       166.00        95.00   \n",
       "         4천이상 5천미만           1.00          NaN          NaN          NaN   \n",
       "         5천이상 6천미만          49.00        24.00        18.00         9.00   \n",
       "         6천이상 7천미만          21.00         9.00         9.00         7.00   \n",
       "         7천이상 8천미만          39.00        15.00        19.00        15.00   \n",
       "         8천이상 9천미만           8.00         8.00         2.00         1.00   \n",
       "         9천이상 10천미만         12.00         7.00         9.00         6.00   \n",
       "         10천이상 11천미만        25.00        22.00        10.00         4.00   \n",
       "         11천이상 12천미만         9.00         9.00         7.00         5.00   \n",
       "         12천이상 13천미만         7.00         7.00         5.00         2.00   \n",
       "         13천이상 14천미만        33.00        22.00        14.00        15.00   \n",
       "         14천이상 15천미만        44.00        26.00        22.00         7.00   \n",
       "         15천이상 16천미만        44.00        28.00        20.00        22.00   \n",
       "         16천이상 17천미만         5.00         2.00         1.00         1.00   \n",
       "         17천이상 18천미만         2.00          NaN          NaN          NaN   \n",
       "         18천이상 19천미만         1.00          NaN         1.00          NaN   \n",
       "         19천이상 20천미만          NaN          NaN          NaN          NaN   \n",
       "         20천이상 21천미만          NaN          NaN          NaN          NaN   \n",
       "         21천이상 22천미만          NaN          NaN          NaN          NaN   \n",
       "         22천이상 23천미만          NaN          NaN         1.00          NaN   \n",
       "         23천이상 24천미만          NaN          NaN          NaN          NaN   \n",
       "         24천이상 25천미만          NaN          NaN          NaN          NaN   \n",
       "         25천이상 26천미만         4.00          NaN         1.00         2.00   \n",
       "         26천이상 27천미만          NaN          NaN          NaN          NaN   \n",
       "         27천이상 28천미만          NaN          NaN          NaN          NaN   \n",
       "         28천이상 29천미만          NaN          NaN          NaN          NaN   \n",
       "         29천이상 30천미만         1.00          NaN          NaN          NaN   \n",
       "         30천이상 31천미만          NaN          NaN          NaN          NaN   \n",
       "         31천이상 32천미만          NaN          NaN          NaN          NaN   \n",
       "         32천이상 33천미만          NaN          NaN          NaN          NaN   \n",
       "         33천이상 34천미만          NaN          NaN          NaN          NaN   \n",
       "         34천이상 35천미만          NaN          NaN          NaN         1.00   \n",
       "         35천이상 36천미만         1.00          NaN         1.00          NaN   \n",
       "         36천이상 37천미만         1.00         2.00          NaN          NaN   \n",
       "         37천이상 38천미만         1.00          NaN          NaN          NaN   \n",
       "         38천이상 39천미만         1.00         1.00         1.00          NaN   \n",
       "         39천이상 40천미만         5.00         1.00         2.00         1.00   \n",
       "합계                        2357.00      1334.00       908.00       671.00   \n",
       "\n",
       "                               8      9         10  \n",
       "         차량중량(kg)                                   \n",
       "매연(%)                 4.0이상 4.5미만  4.5이상        총합  \n",
       "차량중량(kg) 1천이상 2천미만          69.00  49.00  17207.00  \n",
       "         2천이상 3천미만         286.00 271.00  57182.00  \n",
       "         3천이상 4천미만          94.00  79.00  20530.00  \n",
       "         4천이상 5천미만           1.00   1.00     25.00  \n",
       "         5천이상 6천미만           7.00   6.00   1473.00  \n",
       "         6천이상 7천미만           8.00   8.00    669.00  \n",
       "         7천이상 8천미만           9.00  12.00   1778.00  \n",
       "         8천이상 9천미만           5.00   5.00    415.00  \n",
       "         9천이상 10천미만          6.00   6.00    289.00  \n",
       "         10천이상 11천미만        10.00   4.00    845.00  \n",
       "         11천이상 12천미만         2.00   3.00    729.00  \n",
       "         12천이상 13천미만         3.00   2.00    525.00  \n",
       "         13천이상 14천미만         6.00  16.00    758.00  \n",
       "         14천이상 15천미만         7.00   9.00    909.00  \n",
       "         15천이상 16천미만        11.00   6.00    818.00  \n",
       "         16천이상 17천미만          NaN   3.00    221.00  \n",
       "         17천이상 18천미만          NaN    NaN     63.00  \n",
       "         18천이상 19천미만          NaN    NaN     45.00  \n",
       "         19천이상 20천미만          NaN    NaN     29.00  \n",
       "         20천이상 21천미만          NaN    NaN     14.00  \n",
       "         21천이상 22천미만         2.00    NaN     26.00  \n",
       "         22천이상 23천미만         1.00    NaN     41.00  \n",
       "         23천이상 24천미만          NaN    NaN     14.00  \n",
       "         24천이상 25천미만          NaN    NaN     31.00  \n",
       "         25천이상 26천미만          NaN    NaN    240.00  \n",
       "         26천이상 27천미만          NaN    NaN     95.00  \n",
       "         27천이상 28천미만          NaN    NaN     24.00  \n",
       "         28천이상 29천미만          NaN    NaN      7.00  \n",
       "         29천이상 30천미만          NaN    NaN     18.00  \n",
       "         30천이상 31천미만          NaN    NaN     13.00  \n",
       "         31천이상 32천미만          NaN    NaN     10.00  \n",
       "         32천이상 33천미만          NaN    NaN      3.00  \n",
       "         33천이상 34천미만          NaN    NaN     10.00  \n",
       "         34천이상 35천미만          NaN    NaN     12.00  \n",
       "         35천이상 36천미만         1.00    NaN     83.00  \n",
       "         36천이상 37천미만          NaN    NaN     25.00  \n",
       "         37천이상 38천미만         1.00   1.00     63.00  \n",
       "         38천이상 39천미만         1.00    NaN    216.00  \n",
       "         39천이상 40천미만         2.00    NaN    285.00  \n",
       "합계                         532.00 481.00 105740.00  "
      ]
     },
     "execution_count": 215,
     "metadata": {},
     "output_type": "execute_result"
    }
   ],
   "source": [
    "grp17 = die.groupby(['매연구분인덱스', '매연구분', '총중량구분인덱스', '총중량구분'], dropna=False).agg({'차량번호':'count'}).unstack(['총중량구분인덱스', '총중량구분']).reset_index()\n",
    "grp17 = grp17.rename(columns={'매연구분':'매연(%)', '차량번호':'차량중량(kg)'})\n",
    "grp17 = grp17.rename_axis(columns={'총중량구분':'차량중량(kg)'})\n",
    "grp17['합계'] = grp17.iloc[:, 2:].sum(axis=1)\n",
    "grp17.loc[grp17.shape[0]] = [grp17['매연구분인덱스'].max() + 1, '총합'] + grp17.iloc[:, 2:].sum().to_list()\n",
    "grp17 = grp17.drop('매연구분인덱스', axis=1)\n",
    "grp17.columns = grp17.columns.droplevel(1)\n",
    "grp17 = grp17.T\n",
    "grp17"
   ]
  },
  {
   "cell_type": "markdown",
   "metadata": {},
   "source": [
    "### 18\\. RSD 매연 농도, 종합검사 매연허용기준별 데이터 수량\n",
    "- 매연허용치 8미만 제외\n",
    "- 4륜 자동차의 경유 검사장비가 없어서 정기검사(무부하)만 가능함으로 정기검사 기준이 기록됨.(2023.09.20, 최이사님)"
   ]
  },
  {
   "cell_type": "code",
   "execution_count": 216,
   "metadata": {},
   "outputs": [
    {
     "data": {
      "text/plain": [
       "(62569, 57)"
      ]
     },
     "execution_count": 216,
     "metadata": {},
     "output_type": "execute_result"
    }
   ],
   "source": [
    "die[die['무부하매연허용치1'] >= 8].shape"
   ]
  },
  {
   "cell_type": "code",
   "execution_count": 217,
   "metadata": {},
   "outputs": [
    {
     "data": {
      "text/html": [
       "<div>\n",
       "<style scoped>\n",
       "    .dataframe tbody tr th:only-of-type {\n",
       "        vertical-align: middle;\n",
       "    }\n",
       "\n",
       "    .dataframe tbody tr th {\n",
       "        vertical-align: top;\n",
       "    }\n",
       "\n",
       "    .dataframe thead th {\n",
       "        text-align: right;\n",
       "    }\n",
       "</style>\n",
       "<table border=\"1\" class=\"dataframe\">\n",
       "  <thead>\n",
       "    <tr style=\"text-align: right;\">\n",
       "      <th></th>\n",
       "      <th>매연(%)</th>\n",
       "      <th>매연허용기준(%)</th>\n",
       "      <th>측정건수(건)</th>\n",
       "    </tr>\n",
       "  </thead>\n",
       "  <tbody>\n",
       "    <tr>\n",
       "      <th>0</th>\n",
       "      <td>0이상 0.5미만</td>\n",
       "      <td>8.00</td>\n",
       "      <td>9214</td>\n",
       "    </tr>\n",
       "    <tr>\n",
       "      <th>1</th>\n",
       "      <td>0이상 0.5미만</td>\n",
       "      <td>10.00</td>\n",
       "      <td>797</td>\n",
       "    </tr>\n",
       "    <tr>\n",
       "      <th>2</th>\n",
       "      <td>0이상 0.5미만</td>\n",
       "      <td>15.00</td>\n",
       "      <td>16062</td>\n",
       "    </tr>\n",
       "    <tr>\n",
       "      <th>3</th>\n",
       "      <td>0이상 0.5미만</td>\n",
       "      <td>20.00</td>\n",
       "      <td>1983</td>\n",
       "    </tr>\n",
       "    <tr>\n",
       "      <th>4</th>\n",
       "      <td>0이상 0.5미만</td>\n",
       "      <td>25.00</td>\n",
       "      <td>1793</td>\n",
       "    </tr>\n",
       "    <tr>\n",
       "      <th>...</th>\n",
       "      <td>...</td>\n",
       "      <td>...</td>\n",
       "      <td>...</td>\n",
       "    </tr>\n",
       "    <tr>\n",
       "      <th>69</th>\n",
       "      <td>4.5이상</td>\n",
       "      <td>15.00</td>\n",
       "      <td>180</td>\n",
       "    </tr>\n",
       "    <tr>\n",
       "      <th>70</th>\n",
       "      <td>4.5이상</td>\n",
       "      <td>20.00</td>\n",
       "      <td>25</td>\n",
       "    </tr>\n",
       "    <tr>\n",
       "      <th>71</th>\n",
       "      <td>4.5이상</td>\n",
       "      <td>25.00</td>\n",
       "      <td>30</td>\n",
       "    </tr>\n",
       "    <tr>\n",
       "      <th>72</th>\n",
       "      <td>4.5이상</td>\n",
       "      <td>50.00</td>\n",
       "      <td>1</td>\n",
       "    </tr>\n",
       "    <tr>\n",
       "      <th>73</th>\n",
       "      <td>총합</td>\n",
       "      <td>NaN</td>\n",
       "      <td>62569</td>\n",
       "    </tr>\n",
       "  </tbody>\n",
       "</table>\n",
       "<p>74 rows × 3 columns</p>\n",
       "</div>"
      ],
      "text/plain": [
       "        매연(%)  매연허용기준(%)  측정건수(건)\n",
       "0   0이상 0.5미만       8.00     9214\n",
       "1   0이상 0.5미만      10.00      797\n",
       "2   0이상 0.5미만      15.00    16062\n",
       "3   0이상 0.5미만      20.00     1983\n",
       "4   0이상 0.5미만      25.00     1793\n",
       "..        ...        ...      ...\n",
       "69      4.5이상      15.00      180\n",
       "70      4.5이상      20.00       25\n",
       "71      4.5이상      25.00       30\n",
       "72      4.5이상      50.00        1\n",
       "73         총합        NaN    62569\n",
       "\n",
       "[74 rows x 3 columns]"
      ]
     },
     "execution_count": 217,
     "metadata": {},
     "output_type": "execute_result"
    }
   ],
   "source": [
    "grp18 = die[die['무부하매연허용치1'] >= 8].groupby(['매연구분인덱스', '매연구분', '무부하매연허용치1'], dropna=False).agg({'차량번호':'count'}).reset_index()\n",
    "grp18 = grp18.rename(columns={'무부하매연허용치1':'매연허용기준(%)', '차량번호':'측정건수(건)', '매연구분':'매연(%)'})\n",
    "grp18.loc[grp18.shape[0]] = [grp18['매연구분인덱스'].max() + 1, '총합', np.nan, grp18['측정건수(건)'].sum()]\n",
    "grp18 = grp18.drop('매연구분인덱스', axis=1)\n",
    "grp18"
   ]
  },
  {
   "cell_type": "code",
   "execution_count": 218,
   "metadata": {},
   "outputs": [
    {
     "name": "stderr",
     "output_type": "stream",
     "text": [
      "C:\\Users\\kbjung\\AppData\\Local\\Temp\\ipykernel_7012\\1981776434.py:6: PerformanceWarning: dropping on a non-lexsorted multi-index without a level parameter may impact performance.\n",
      "  grp18 = grp18.drop('매연구분인덱스', axis=1)\n"
     ]
    },
    {
     "data": {
      "text/html": [
       "<div>\n",
       "<style scoped>\n",
       "    .dataframe tbody tr th:only-of-type {\n",
       "        vertical-align: middle;\n",
       "    }\n",
       "\n",
       "    .dataframe tbody tr th {\n",
       "        vertical-align: top;\n",
       "    }\n",
       "\n",
       "    .dataframe thead tr th {\n",
       "        text-align: left;\n",
       "    }\n",
       "</style>\n",
       "<table border=\"1\" class=\"dataframe\">\n",
       "  <thead>\n",
       "    <tr>\n",
       "      <th></th>\n",
       "      <th>매연(%)</th>\n",
       "      <th colspan=\"10\" halign=\"left\">매연허용기준(%)</th>\n",
       "      <th>합계</th>\n",
       "    </tr>\n",
       "    <tr>\n",
       "      <th>매연허용기준(%)</th>\n",
       "      <th></th>\n",
       "      <th>8.0</th>\n",
       "      <th>10.0</th>\n",
       "      <th>15.0</th>\n",
       "      <th>20.0</th>\n",
       "      <th>25.0</th>\n",
       "      <th>30.0</th>\n",
       "      <th>35.0</th>\n",
       "      <th>40.0</th>\n",
       "      <th>45.0</th>\n",
       "      <th>50.0</th>\n",
       "      <th></th>\n",
       "    </tr>\n",
       "  </thead>\n",
       "  <tbody>\n",
       "    <tr>\n",
       "      <th>0</th>\n",
       "      <td>0이상 0.5미만</td>\n",
       "      <td>9214.00</td>\n",
       "      <td>797.00</td>\n",
       "      <td>16062.00</td>\n",
       "      <td>1983.00</td>\n",
       "      <td>1793.00</td>\n",
       "      <td>7.00</td>\n",
       "      <td>1.00</td>\n",
       "      <td>13.00</td>\n",
       "      <td>16.00</td>\n",
       "      <td>1.00</td>\n",
       "      <td>29887.00</td>\n",
       "    </tr>\n",
       "    <tr>\n",
       "      <th>1</th>\n",
       "      <td>0.5이상 1.0미만</td>\n",
       "      <td>5465.00</td>\n",
       "      <td>398.00</td>\n",
       "      <td>9984.00</td>\n",
       "      <td>1034.00</td>\n",
       "      <td>1106.00</td>\n",
       "      <td>2.00</td>\n",
       "      <td>NaN</td>\n",
       "      <td>22.00</td>\n",
       "      <td>12.00</td>\n",
       "      <td>1.00</td>\n",
       "      <td>18024.00</td>\n",
       "    </tr>\n",
       "    <tr>\n",
       "      <th>2</th>\n",
       "      <td>1.0이상 1.5미만</td>\n",
       "      <td>2136.00</td>\n",
       "      <td>156.00</td>\n",
       "      <td>4371.00</td>\n",
       "      <td>537.00</td>\n",
       "      <td>529.00</td>\n",
       "      <td>3.00</td>\n",
       "      <td>NaN</td>\n",
       "      <td>9.00</td>\n",
       "      <td>7.00</td>\n",
       "      <td>NaN</td>\n",
       "      <td>7748.00</td>\n",
       "    </tr>\n",
       "    <tr>\n",
       "      <th>3</th>\n",
       "      <td>1.5이상 2.0미만</td>\n",
       "      <td>771.00</td>\n",
       "      <td>64.00</td>\n",
       "      <td>1668.00</td>\n",
       "      <td>223.00</td>\n",
       "      <td>221.00</td>\n",
       "      <td>3.00</td>\n",
       "      <td>NaN</td>\n",
       "      <td>8.00</td>\n",
       "      <td>3.00</td>\n",
       "      <td>1.00</td>\n",
       "      <td>2962.00</td>\n",
       "    </tr>\n",
       "    <tr>\n",
       "      <th>4</th>\n",
       "      <td>2.0이상 2.5미만</td>\n",
       "      <td>368.00</td>\n",
       "      <td>33.00</td>\n",
       "      <td>866.00</td>\n",
       "      <td>109.00</td>\n",
       "      <td>104.00</td>\n",
       "      <td>NaN</td>\n",
       "      <td>NaN</td>\n",
       "      <td>2.00</td>\n",
       "      <td>NaN</td>\n",
       "      <td>NaN</td>\n",
       "      <td>1482.00</td>\n",
       "    </tr>\n",
       "    <tr>\n",
       "      <th>5</th>\n",
       "      <td>2.5이상 3.0미만</td>\n",
       "      <td>224.00</td>\n",
       "      <td>12.00</td>\n",
       "      <td>472.00</td>\n",
       "      <td>61.00</td>\n",
       "      <td>60.00</td>\n",
       "      <td>NaN</td>\n",
       "      <td>NaN</td>\n",
       "      <td>2.00</td>\n",
       "      <td>1.00</td>\n",
       "      <td>NaN</td>\n",
       "      <td>832.00</td>\n",
       "    </tr>\n",
       "    <tr>\n",
       "      <th>6</th>\n",
       "      <td>3.0이상 3.5미만</td>\n",
       "      <td>146.00</td>\n",
       "      <td>11.00</td>\n",
       "      <td>317.00</td>\n",
       "      <td>45.00</td>\n",
       "      <td>52.00</td>\n",
       "      <td>NaN</td>\n",
       "      <td>NaN</td>\n",
       "      <td>NaN</td>\n",
       "      <td>1.00</td>\n",
       "      <td>NaN</td>\n",
       "      <td>572.00</td>\n",
       "    </tr>\n",
       "    <tr>\n",
       "      <th>7</th>\n",
       "      <td>3.5이상 4.0미만</td>\n",
       "      <td>102.00</td>\n",
       "      <td>5.00</td>\n",
       "      <td>237.00</td>\n",
       "      <td>34.00</td>\n",
       "      <td>32.00</td>\n",
       "      <td>NaN</td>\n",
       "      <td>NaN</td>\n",
       "      <td>1.00</td>\n",
       "      <td>1.00</td>\n",
       "      <td>NaN</td>\n",
       "      <td>412.00</td>\n",
       "    </tr>\n",
       "    <tr>\n",
       "      <th>8</th>\n",
       "      <td>4.0이상 4.5미만</td>\n",
       "      <td>73.00</td>\n",
       "      <td>5.00</td>\n",
       "      <td>198.00</td>\n",
       "      <td>33.00</td>\n",
       "      <td>33.00</td>\n",
       "      <td>NaN</td>\n",
       "      <td>NaN</td>\n",
       "      <td>NaN</td>\n",
       "      <td>NaN</td>\n",
       "      <td>NaN</td>\n",
       "      <td>342.00</td>\n",
       "    </tr>\n",
       "    <tr>\n",
       "      <th>9</th>\n",
       "      <td>4.5이상</td>\n",
       "      <td>65.00</td>\n",
       "      <td>7.00</td>\n",
       "      <td>180.00</td>\n",
       "      <td>25.00</td>\n",
       "      <td>30.00</td>\n",
       "      <td>NaN</td>\n",
       "      <td>NaN</td>\n",
       "      <td>NaN</td>\n",
       "      <td>NaN</td>\n",
       "      <td>1.00</td>\n",
       "      <td>308.00</td>\n",
       "    </tr>\n",
       "    <tr>\n",
       "      <th>10</th>\n",
       "      <td>총합</td>\n",
       "      <td>18564.00</td>\n",
       "      <td>1488.00</td>\n",
       "      <td>34355.00</td>\n",
       "      <td>4084.00</td>\n",
       "      <td>3960.00</td>\n",
       "      <td>15.00</td>\n",
       "      <td>1.00</td>\n",
       "      <td>57.00</td>\n",
       "      <td>41.00</td>\n",
       "      <td>4.00</td>\n",
       "      <td>62569.00</td>\n",
       "    </tr>\n",
       "  </tbody>\n",
       "</table>\n",
       "</div>"
      ],
      "text/plain": [
       "                 매연(%) 매연허용기준(%)                                              \\\n",
       "매연허용기준(%)                    8.0    10.0     15.0    20.0    25.0  30.0 35.0   \n",
       "0            0이상 0.5미만   9214.00  797.00 16062.00 1983.00 1793.00  7.00 1.00   \n",
       "1          0.5이상 1.0미만   5465.00  398.00  9984.00 1034.00 1106.00  2.00  NaN   \n",
       "2          1.0이상 1.5미만   2136.00  156.00  4371.00  537.00  529.00  3.00  NaN   \n",
       "3          1.5이상 2.0미만    771.00   64.00  1668.00  223.00  221.00  3.00  NaN   \n",
       "4          2.0이상 2.5미만    368.00   33.00   866.00  109.00  104.00   NaN  NaN   \n",
       "5          2.5이상 3.0미만    224.00   12.00   472.00   61.00   60.00   NaN  NaN   \n",
       "6          3.0이상 3.5미만    146.00   11.00   317.00   45.00   52.00   NaN  NaN   \n",
       "7          3.5이상 4.0미만    102.00    5.00   237.00   34.00   32.00   NaN  NaN   \n",
       "8          4.0이상 4.5미만     73.00    5.00   198.00   33.00   33.00   NaN  NaN   \n",
       "9                4.5이상     65.00    7.00   180.00   25.00   30.00   NaN  NaN   \n",
       "10                  총합  18564.00 1488.00 34355.00 4084.00 3960.00 15.00 1.00   \n",
       "\n",
       "                                 합계  \n",
       "매연허용기준(%)  40.0  45.0 50.0           \n",
       "0         13.00 16.00 1.00 29887.00  \n",
       "1         22.00 12.00 1.00 18024.00  \n",
       "2          9.00  7.00  NaN  7748.00  \n",
       "3          8.00  3.00 1.00  2962.00  \n",
       "4          2.00   NaN  NaN  1482.00  \n",
       "5          2.00  1.00  NaN   832.00  \n",
       "6           NaN  1.00  NaN   572.00  \n",
       "7          1.00  1.00  NaN   412.00  \n",
       "8           NaN   NaN  NaN   342.00  \n",
       "9           NaN   NaN 1.00   308.00  \n",
       "10        57.00 41.00 4.00 62569.00  "
      ]
     },
     "execution_count": 218,
     "metadata": {},
     "output_type": "execute_result"
    }
   ],
   "source": [
    "grp18 = die[die['무부하매연허용치1'] >= 8].groupby(['매연구분인덱스', '매연구분', '무부하매연허용치1'], dropna=False).agg({'차량번호':'count'}).unstack('무부하매연허용치1').reset_index()\n",
    "grp18 = grp18.rename(columns={'매연구분':'매연(%)', '차량번호':'매연허용기준(%)'})\n",
    "grp18 = grp18.rename_axis(columns={'무부하매연허용치1':'매연허용기준(%)'})\n",
    "grp18['합계'] = grp18.iloc[:, 2:].sum(axis=1)\n",
    "grp18.loc[grp18.shape[0]] = [grp18['매연구분인덱스'].max() + 1, '총합'] + grp18.iloc[:, 2:].sum().to_list()\n",
    "grp18 = grp18.drop('매연구분인덱스', axis=1)\n",
    "grp18"
   ]
  },
  {
   "cell_type": "markdown",
   "metadata": {},
   "source": [
    "### 19\\. RSD 매연 농도, 종합검사 NOx허용기준별 데이터 수량"
   ]
  },
  {
   "cell_type": "code",
   "execution_count": 219,
   "metadata": {},
   "outputs": [
    {
     "data": {
      "text/html": [
       "<div>\n",
       "<style scoped>\n",
       "    .dataframe tbody tr th:only-of-type {\n",
       "        vertical-align: middle;\n",
       "    }\n",
       "\n",
       "    .dataframe tbody tr th {\n",
       "        vertical-align: top;\n",
       "    }\n",
       "\n",
       "    .dataframe thead th {\n",
       "        text-align: right;\n",
       "    }\n",
       "</style>\n",
       "<table border=\"1\" class=\"dataframe\">\n",
       "  <thead>\n",
       "    <tr style=\"text-align: right;\">\n",
       "      <th></th>\n",
       "      <th>매연(%)</th>\n",
       "      <th>NOx허용기준(ppm)</th>\n",
       "      <th>측정건수(건)</th>\n",
       "    </tr>\n",
       "  </thead>\n",
       "  <tbody>\n",
       "    <tr>\n",
       "      <th>0</th>\n",
       "      <td>0이상 0.5미만</td>\n",
       "      <td>0.00</td>\n",
       "      <td>10758</td>\n",
       "    </tr>\n",
       "    <tr>\n",
       "      <th>1</th>\n",
       "      <td>0이상 0.5미만</td>\n",
       "      <td>8.00</td>\n",
       "      <td>727</td>\n",
       "    </tr>\n",
       "    <tr>\n",
       "      <th>2</th>\n",
       "      <td>0이상 0.5미만</td>\n",
       "      <td>15.00</td>\n",
       "      <td>1993</td>\n",
       "    </tr>\n",
       "    <tr>\n",
       "      <th>3</th>\n",
       "      <td>0이상 0.5미만</td>\n",
       "      <td>20.00</td>\n",
       "      <td>359</td>\n",
       "    </tr>\n",
       "    <tr>\n",
       "      <th>4</th>\n",
       "      <td>0이상 0.5미만</td>\n",
       "      <td>25.00</td>\n",
       "      <td>36</td>\n",
       "    </tr>\n",
       "    <tr>\n",
       "      <th>...</th>\n",
       "      <td>...</td>\n",
       "      <td>...</td>\n",
       "      <td>...</td>\n",
       "    </tr>\n",
       "    <tr>\n",
       "      <th>77</th>\n",
       "      <td>4.5이상</td>\n",
       "      <td>20.00</td>\n",
       "      <td>7</td>\n",
       "    </tr>\n",
       "    <tr>\n",
       "      <th>78</th>\n",
       "      <td>4.5이상</td>\n",
       "      <td>25.00</td>\n",
       "      <td>2</td>\n",
       "    </tr>\n",
       "    <tr>\n",
       "      <th>79</th>\n",
       "      <td>4.5이상</td>\n",
       "      <td>50.00</td>\n",
       "      <td>1</td>\n",
       "    </tr>\n",
       "    <tr>\n",
       "      <th>80</th>\n",
       "      <td>4.5이상</td>\n",
       "      <td>NaN</td>\n",
       "      <td>311</td>\n",
       "    </tr>\n",
       "    <tr>\n",
       "      <th>81</th>\n",
       "      <td>총합</td>\n",
       "      <td>NaN</td>\n",
       "      <td>105740</td>\n",
       "    </tr>\n",
       "  </tbody>\n",
       "</table>\n",
       "<p>82 rows × 3 columns</p>\n",
       "</div>"
      ],
      "text/plain": [
       "        매연(%)  NOx허용기준(ppm)  측정건수(건)\n",
       "0   0이상 0.5미만          0.00    10758\n",
       "1   0이상 0.5미만          8.00      727\n",
       "2   0이상 0.5미만         15.00     1993\n",
       "3   0이상 0.5미만         20.00      359\n",
       "4   0이상 0.5미만         25.00       36\n",
       "..        ...           ...      ...\n",
       "77      4.5이상         20.00        7\n",
       "78      4.5이상         25.00        2\n",
       "79      4.5이상         50.00        1\n",
       "80      4.5이상           NaN      311\n",
       "81         총합           NaN   105740\n",
       "\n",
       "[82 rows x 3 columns]"
      ]
     },
     "execution_count": 219,
     "metadata": {},
     "output_type": "execute_result"
    }
   ],
   "source": [
    "grp19 = die.groupby(['매연구분인덱스', '매연구분', '무부하매연허용치3'], dropna=False).agg({'차량번호':'count'}).reset_index()\n",
    "grp19 = grp19.rename(columns={'무부하매연허용치3':'NOx허용기준(ppm)', '차량번호':'측정건수(건)', '매연구분':'매연(%)'})\n",
    "grp19.loc[grp19.shape[0]] = [grp19['매연구분인덱스'].max() + 1, '총합', np.nan, grp19['측정건수(건)'].sum()]\n",
    "grp19 = grp19.drop('매연구분인덱스', axis=1)\n",
    "grp19"
   ]
  },
  {
   "cell_type": "code",
   "execution_count": 220,
   "metadata": {},
   "outputs": [
    {
     "name": "stderr",
     "output_type": "stream",
     "text": [
      "C:\\Users\\kbjung\\AppData\\Local\\Temp\\ipykernel_7012\\2405951417.py:6: PerformanceWarning: dropping on a non-lexsorted multi-index without a level parameter may impact performance.\n",
      "  grp19 = grp19.drop('매연구분인덱스', axis=1)\n"
     ]
    },
    {
     "data": {
      "text/html": [
       "<div>\n",
       "<style scoped>\n",
       "    .dataframe tbody tr th:only-of-type {\n",
       "        vertical-align: middle;\n",
       "    }\n",
       "\n",
       "    .dataframe tbody tr th {\n",
       "        vertical-align: top;\n",
       "    }\n",
       "\n",
       "    .dataframe thead tr th {\n",
       "        text-align: left;\n",
       "    }\n",
       "</style>\n",
       "<table border=\"1\" class=\"dataframe\">\n",
       "  <thead>\n",
       "    <tr>\n",
       "      <th></th>\n",
       "      <th>매연(%)</th>\n",
       "      <th colspan=\"14\" halign=\"left\">NOx허용기준(ppm)</th>\n",
       "      <th>합계</th>\n",
       "    </tr>\n",
       "    <tr>\n",
       "      <th>NOx허용기준(ppm)</th>\n",
       "      <th></th>\n",
       "      <th>0.0</th>\n",
       "      <th>8.0</th>\n",
       "      <th>15.0</th>\n",
       "      <th>20.0</th>\n",
       "      <th>25.0</th>\n",
       "      <th>30.0</th>\n",
       "      <th>50.0</th>\n",
       "      <th>580.0</th>\n",
       "      <th>700.0</th>\n",
       "      <th>1200.0</th>\n",
       "      <th>1830.0</th>\n",
       "      <th>2070.0</th>\n",
       "      <th>2340.0</th>\n",
       "      <th>NaN</th>\n",
       "      <th></th>\n",
       "    </tr>\n",
       "  </thead>\n",
       "  <tbody>\n",
       "    <tr>\n",
       "      <th>0</th>\n",
       "      <td>0이상 0.5미만</td>\n",
       "      <td>10758.00</td>\n",
       "      <td>727.00</td>\n",
       "      <td>1993.00</td>\n",
       "      <td>359.00</td>\n",
       "      <td>36.00</td>\n",
       "      <td>7.00</td>\n",
       "      <td>1.00</td>\n",
       "      <td>NaN</td>\n",
       "      <td>3.00</td>\n",
       "      <td>3.00</td>\n",
       "      <td>1.00</td>\n",
       "      <td>2.00</td>\n",
       "      <td>NaN</td>\n",
       "      <td>38244.00</td>\n",
       "      <td>52134.00</td>\n",
       "    </tr>\n",
       "    <tr>\n",
       "      <th>1</th>\n",
       "      <td>0.5이상 1.0미만</td>\n",
       "      <td>6716.00</td>\n",
       "      <td>381.00</td>\n",
       "      <td>806.00</td>\n",
       "      <td>141.00</td>\n",
       "      <td>8.00</td>\n",
       "      <td>2.00</td>\n",
       "      <td>1.00</td>\n",
       "      <td>1.00</td>\n",
       "      <td>4.00</td>\n",
       "      <td>NaN</td>\n",
       "      <td>1.00</td>\n",
       "      <td>NaN</td>\n",
       "      <td>1.00</td>\n",
       "      <td>21952.00</td>\n",
       "      <td>30014.00</td>\n",
       "    </tr>\n",
       "    <tr>\n",
       "      <th>2</th>\n",
       "      <td>1.0이상 1.5미만</td>\n",
       "      <td>2693.00</td>\n",
       "      <td>200.00</td>\n",
       "      <td>438.00</td>\n",
       "      <td>91.00</td>\n",
       "      <td>4.00</td>\n",
       "      <td>3.00</td>\n",
       "      <td>NaN</td>\n",
       "      <td>NaN</td>\n",
       "      <td>1.00</td>\n",
       "      <td>NaN</td>\n",
       "      <td>1.00</td>\n",
       "      <td>NaN</td>\n",
       "      <td>1.00</td>\n",
       "      <td>9102.00</td>\n",
       "      <td>12534.00</td>\n",
       "    </tr>\n",
       "    <tr>\n",
       "      <th>3</th>\n",
       "      <td>1.5이상 2.0미만</td>\n",
       "      <td>997.00</td>\n",
       "      <td>98.00</td>\n",
       "      <td>180.00</td>\n",
       "      <td>55.00</td>\n",
       "      <td>6.00</td>\n",
       "      <td>3.00</td>\n",
       "      <td>1.00</td>\n",
       "      <td>NaN</td>\n",
       "      <td>NaN</td>\n",
       "      <td>NaN</td>\n",
       "      <td>NaN</td>\n",
       "      <td>NaN</td>\n",
       "      <td>1.00</td>\n",
       "      <td>3434.00</td>\n",
       "      <td>4775.00</td>\n",
       "    </tr>\n",
       "    <tr>\n",
       "      <th>4</th>\n",
       "      <td>2.0이상 2.5미만</td>\n",
       "      <td>533.00</td>\n",
       "      <td>45.00</td>\n",
       "      <td>127.00</td>\n",
       "      <td>21.00</td>\n",
       "      <td>1.00</td>\n",
       "      <td>NaN</td>\n",
       "      <td>NaN</td>\n",
       "      <td>NaN</td>\n",
       "      <td>NaN</td>\n",
       "      <td>NaN</td>\n",
       "      <td>NaN</td>\n",
       "      <td>NaN</td>\n",
       "      <td>1.00</td>\n",
       "      <td>1629.00</td>\n",
       "      <td>2357.00</td>\n",
       "    </tr>\n",
       "    <tr>\n",
       "      <th>5</th>\n",
       "      <td>2.5이상 3.0미만</td>\n",
       "      <td>285.00</td>\n",
       "      <td>37.00</td>\n",
       "      <td>67.00</td>\n",
       "      <td>8.00</td>\n",
       "      <td>3.00</td>\n",
       "      <td>NaN</td>\n",
       "      <td>NaN</td>\n",
       "      <td>NaN</td>\n",
       "      <td>NaN</td>\n",
       "      <td>NaN</td>\n",
       "      <td>NaN</td>\n",
       "      <td>NaN</td>\n",
       "      <td>NaN</td>\n",
       "      <td>934.00</td>\n",
       "      <td>1334.00</td>\n",
       "    </tr>\n",
       "    <tr>\n",
       "      <th>6</th>\n",
       "      <td>3.0이상 3.5미만</td>\n",
       "      <td>198.00</td>\n",
       "      <td>19.00</td>\n",
       "      <td>61.00</td>\n",
       "      <td>16.00</td>\n",
       "      <td>1.00</td>\n",
       "      <td>NaN</td>\n",
       "      <td>NaN</td>\n",
       "      <td>NaN</td>\n",
       "      <td>NaN</td>\n",
       "      <td>NaN</td>\n",
       "      <td>NaN</td>\n",
       "      <td>NaN</td>\n",
       "      <td>NaN</td>\n",
       "      <td>613.00</td>\n",
       "      <td>908.00</td>\n",
       "    </tr>\n",
       "    <tr>\n",
       "      <th>7</th>\n",
       "      <td>3.5이상 4.0미만</td>\n",
       "      <td>129.00</td>\n",
       "      <td>22.00</td>\n",
       "      <td>35.00</td>\n",
       "      <td>10.00</td>\n",
       "      <td>2.00</td>\n",
       "      <td>NaN</td>\n",
       "      <td>NaN</td>\n",
       "      <td>NaN</td>\n",
       "      <td>NaN</td>\n",
       "      <td>NaN</td>\n",
       "      <td>NaN</td>\n",
       "      <td>NaN</td>\n",
       "      <td>NaN</td>\n",
       "      <td>473.00</td>\n",
       "      <td>671.00</td>\n",
       "    </tr>\n",
       "    <tr>\n",
       "      <th>8</th>\n",
       "      <td>4.0이상 4.5미만</td>\n",
       "      <td>100.00</td>\n",
       "      <td>13.00</td>\n",
       "      <td>33.00</td>\n",
       "      <td>9.00</td>\n",
       "      <td>5.00</td>\n",
       "      <td>NaN</td>\n",
       "      <td>NaN</td>\n",
       "      <td>NaN</td>\n",
       "      <td>NaN</td>\n",
       "      <td>NaN</td>\n",
       "      <td>NaN</td>\n",
       "      <td>NaN</td>\n",
       "      <td>NaN</td>\n",
       "      <td>372.00</td>\n",
       "      <td>532.00</td>\n",
       "    </tr>\n",
       "    <tr>\n",
       "      <th>9</th>\n",
       "      <td>4.5이상</td>\n",
       "      <td>110.00</td>\n",
       "      <td>9.00</td>\n",
       "      <td>41.00</td>\n",
       "      <td>7.00</td>\n",
       "      <td>2.00</td>\n",
       "      <td>NaN</td>\n",
       "      <td>1.00</td>\n",
       "      <td>NaN</td>\n",
       "      <td>NaN</td>\n",
       "      <td>NaN</td>\n",
       "      <td>NaN</td>\n",
       "      <td>NaN</td>\n",
       "      <td>NaN</td>\n",
       "      <td>311.00</td>\n",
       "      <td>481.00</td>\n",
       "    </tr>\n",
       "    <tr>\n",
       "      <th>10</th>\n",
       "      <td>총합</td>\n",
       "      <td>22519.00</td>\n",
       "      <td>1551.00</td>\n",
       "      <td>3781.00</td>\n",
       "      <td>717.00</td>\n",
       "      <td>68.00</td>\n",
       "      <td>15.00</td>\n",
       "      <td>4.00</td>\n",
       "      <td>1.00</td>\n",
       "      <td>8.00</td>\n",
       "      <td>3.00</td>\n",
       "      <td>3.00</td>\n",
       "      <td>2.00</td>\n",
       "      <td>4.00</td>\n",
       "      <td>77064.00</td>\n",
       "      <td>105740.00</td>\n",
       "    </tr>\n",
       "  </tbody>\n",
       "</table>\n",
       "</div>"
      ],
      "text/plain": [
       "                    매연(%) NOx허용기준(ppm)                                     \\\n",
       "NOx허용기준(ppm)                       0.0     8.0    15.0   20.0  25.0  30.0   \n",
       "0               0이상 0.5미만     10758.00  727.00 1993.00 359.00 36.00  7.00   \n",
       "1             0.5이상 1.0미만      6716.00  381.00  806.00 141.00  8.00  2.00   \n",
       "2             1.0이상 1.5미만      2693.00  200.00  438.00  91.00  4.00  3.00   \n",
       "3             1.5이상 2.0미만       997.00   98.00  180.00  55.00  6.00  3.00   \n",
       "4             2.0이상 2.5미만       533.00   45.00  127.00  21.00  1.00   NaN   \n",
       "5             2.5이상 3.0미만       285.00   37.00   67.00   8.00  3.00   NaN   \n",
       "6             3.0이상 3.5미만       198.00   19.00   61.00  16.00  1.00   NaN   \n",
       "7             3.5이상 4.0미만       129.00   22.00   35.00  10.00  2.00   NaN   \n",
       "8             4.0이상 4.5미만       100.00   13.00   33.00   9.00  5.00   NaN   \n",
       "9                   4.5이상       110.00    9.00   41.00   7.00  2.00   NaN   \n",
       "10                     총합     22519.00 1551.00 3781.00 717.00 68.00 15.00   \n",
       "\n",
       "                                                                          합계  \n",
       "NOx허용기준(ppm) 50.0 580.0 700.0 1200.0 1830.0 2070.0 2340.0      NaN            \n",
       "0            1.00   NaN  3.00   3.00   1.00   2.00    NaN 38244.00  52134.00  \n",
       "1            1.00  1.00  4.00    NaN   1.00    NaN   1.00 21952.00  30014.00  \n",
       "2             NaN   NaN  1.00    NaN   1.00    NaN   1.00  9102.00  12534.00  \n",
       "3            1.00   NaN   NaN    NaN    NaN    NaN   1.00  3434.00   4775.00  \n",
       "4             NaN   NaN   NaN    NaN    NaN    NaN   1.00  1629.00   2357.00  \n",
       "5             NaN   NaN   NaN    NaN    NaN    NaN    NaN   934.00   1334.00  \n",
       "6             NaN   NaN   NaN    NaN    NaN    NaN    NaN   613.00    908.00  \n",
       "7             NaN   NaN   NaN    NaN    NaN    NaN    NaN   473.00    671.00  \n",
       "8             NaN   NaN   NaN    NaN    NaN    NaN    NaN   372.00    532.00  \n",
       "9            1.00   NaN   NaN    NaN    NaN    NaN    NaN   311.00    481.00  \n",
       "10           4.00  1.00  8.00   3.00   3.00   2.00   4.00 77064.00 105740.00  "
      ]
     },
     "execution_count": 220,
     "metadata": {},
     "output_type": "execute_result"
    }
   ],
   "source": [
    "grp19 = die.groupby(['매연구분인덱스', '매연구분', '무부하매연허용치3'], dropna=False).agg({'차량번호':'count'}).unstack('무부하매연허용치3').reset_index()\n",
    "grp19 = grp19.rename(columns={'매연구분':'매연(%)', '차량번호':'NOx허용기준(ppm)'})\n",
    "grp19 = grp19.rename_axis(columns={'무부하매연허용치3':'NOx허용기준(ppm)'})\n",
    "grp19['합계'] = grp19.iloc[:, 2:].sum(axis=1)\n",
    "grp19.loc[grp19.shape[0]] = [grp19['매연구분인덱스'].max() + 1, '총합'] + grp19.iloc[:, 2:].sum().to_list()\n",
    "grp19 = grp19.drop('매연구분인덱스', axis=1)\n",
    "grp19"
   ]
  },
  {
   "cell_type": "markdown",
   "metadata": {},
   "source": [
    "## 종합검사 매연검사 결과와 매연RSD 매연측정 값 분석\n",
    "- 매연RSD측정 매연농도 상위10%의 종합검사 매연검사 결과(적/부, 농도) 비교\n",
    "- 2023.10.18 자스택 임근태 차장 요청\n",
    "    - 매연RSD측정 매연농도 나머지 하위90%의 종합검사 매연검사 결과(적/부, 농도) 비교\n",
    "    - 매연RSD측정 매연농도 나머지 하위10%의 종합검사 매연검사 결과(적/부, 농도) 비교"
   ]
  },
  {
   "cell_type": "code",
   "execution_count": 221,
   "metadata": {},
   "outputs": [
    {
     "data": {
      "text/plain": [
       "252257"
      ]
     },
     "execution_count": 221,
     "metadata": {},
     "output_type": "execute_result"
    }
   ],
   "source": [
    "df.shape[0]"
   ]
  },
  {
   "cell_type": "code",
   "execution_count": 222,
   "metadata": {},
   "outputs": [
    {
     "data": {
      "text/plain": [
       "105740"
      ]
     },
     "execution_count": 222,
     "metadata": {},
     "output_type": "execute_result"
    }
   ],
   "source": [
    "die.shape[0]"
   ]
  },
  {
   "cell_type": "code",
   "execution_count": 223,
   "metadata": {},
   "outputs": [
    {
     "data": {
      "text/plain": [
       "10574"
      ]
     },
     "execution_count": 223,
     "metadata": {},
     "output_type": "execute_result"
    }
   ],
   "source": [
    "top10_num = round(die.shape[0] * 0.1)\n",
    "top10_num"
   ]
  },
  {
   "cell_type": "code",
   "execution_count": 224,
   "metadata": {},
   "outputs": [
    {
     "data": {
      "text/plain": [
       "95166"
      ]
     },
     "execution_count": 224,
     "metadata": {},
     "output_type": "execute_result"
    }
   ],
   "source": [
    "die.shape[0] - top10_num"
   ]
  },
  {
   "cell_type": "code",
   "execution_count": 225,
   "metadata": {},
   "outputs": [],
   "source": [
    "temp = die.sort_values('매연', ascending=False)"
   ]
  },
  {
   "cell_type": "code",
   "execution_count": 226,
   "metadata": {},
   "outputs": [
    {
     "data": {
      "text/plain": [
       "94551   5.00\n",
       "19483   5.00\n",
       "55354   5.00\n",
       "71967   5.00\n",
       "92180   5.00\n",
       "        ... \n",
       "64288   0.50\n",
       "53437   0.50\n",
       "33958   0.50\n",
       "67439   0.50\n",
       "10      0.50\n",
       "Name: 매연, Length: 46440, dtype: float64"
      ]
     },
     "execution_count": 226,
     "metadata": {},
     "output_type": "execute_result"
    }
   ],
   "source": [
    "temp.loc[:10, '매연']"
   ]
  },
  {
   "cell_type": "code",
   "execution_count": 227,
   "metadata": {},
   "outputs": [
    {
     "data": {
      "text/plain": [
       "76932   0.00\n",
       "76931   0.00\n",
       "76929   0.00\n",
       "76928   0.00\n",
       "76927   0.00\n",
       "76926   0.00\n",
       "76925   0.00\n",
       "76924   0.00\n",
       "76923   0.00\n",
       "78797   0.00\n",
       "Name: 매연, dtype: float64"
      ]
     },
     "execution_count": 227,
     "metadata": {},
     "output_type": "execute_result"
    }
   ],
   "source": [
    "temp.loc[:, '매연'].tail(10)"
   ]
  },
  {
   "cell_type": "code",
   "execution_count": 228,
   "metadata": {},
   "outputs": [
    {
     "data": {
      "text/plain": [
       "((10574, 57), (95166, 57), (10574, 57))"
      ]
     },
     "execution_count": 228,
     "metadata": {},
     "output_type": "execute_result"
    }
   ],
   "source": [
    "top10 = die.sort_values('매연', ascending=False).iloc[:top10_num]\n",
    "nor90 = die.sort_values('매연', ascending=False).iloc[top10_num:]\n",
    "bottom10 = die.sort_values('매연', ascending=False).iloc[-top10_num:]\n",
    "top10.shape, nor90.shape, bottom10.shape"
   ]
  },
  {
   "cell_type": "code",
   "execution_count": 229,
   "metadata": {},
   "outputs": [
    {
     "data": {
      "text/plain": [
       "True"
      ]
     },
     "execution_count": 229,
     "metadata": {},
     "output_type": "execute_result"
    }
   ],
   "source": [
    "die.shape[0] == top10.shape[0] + nor90.shape[0]"
   ]
  },
  {
   "cell_type": "markdown",
   "metadata": {},
   "source": [
    "### 20\\. 종합검사의 매연측정결과 적합비율(상위 10%)"
   ]
  },
  {
   "cell_type": "code",
   "execution_count": 230,
   "metadata": {},
   "outputs": [
    {
     "data": {
      "text/html": [
       "<div>\n",
       "<style scoped>\n",
       "    .dataframe tbody tr th:only-of-type {\n",
       "        vertical-align: middle;\n",
       "    }\n",
       "\n",
       "    .dataframe tbody tr th {\n",
       "        vertical-align: top;\n",
       "    }\n",
       "\n",
       "    .dataframe thead th {\n",
       "        text-align: right;\n",
       "    }\n",
       "</style>\n",
       "<table border=\"1\" class=\"dataframe\">\n",
       "  <thead>\n",
       "    <tr style=\"text-align: right;\">\n",
       "      <th></th>\n",
       "      <th>매연판정</th>\n",
       "      <th>검사건수(건)</th>\n",
       "      <th>비율</th>\n",
       "    </tr>\n",
       "  </thead>\n",
       "  <tbody>\n",
       "    <tr>\n",
       "      <th>1</th>\n",
       "      <td>Y</td>\n",
       "      <td>6542.00</td>\n",
       "      <td>0.62</td>\n",
       "    </tr>\n",
       "    <tr>\n",
       "      <th>0</th>\n",
       "      <td>N</td>\n",
       "      <td>74.00</td>\n",
       "      <td>0.01</td>\n",
       "    </tr>\n",
       "    <tr>\n",
       "      <th>2</th>\n",
       "      <td>NaN</td>\n",
       "      <td>3958.00</td>\n",
       "      <td>0.37</td>\n",
       "    </tr>\n",
       "    <tr>\n",
       "      <th>3</th>\n",
       "      <td>총합</td>\n",
       "      <td>10574.00</td>\n",
       "      <td>1.00</td>\n",
       "    </tr>\n",
       "  </tbody>\n",
       "</table>\n",
       "</div>"
      ],
      "text/plain": [
       "  매연판정  검사건수(건)   비율\n",
       "1    Y  6542.00 0.62\n",
       "0    N    74.00 0.01\n",
       "2  NaN  3958.00 0.37\n",
       "3   총합 10574.00 1.00"
      ]
     },
     "execution_count": 230,
     "metadata": {},
     "output_type": "execute_result"
    }
   ],
   "source": [
    "# 매연 상위 10%\n",
    "grp20 = top10.groupby(['무부하매연판정1'], dropna=False).agg({'차량번호':'count'}).reset_index().sort_values('무부하매연판정1', ascending=False)\n",
    "grp20['합계'] = grp20['차량번호'].sum()\n",
    "grp20['비율'] = grp20['차량번호'] / grp20['합계']\n",
    "grp20['비율'] = grp20['비율'].round(2)\n",
    "grp20 = grp20.drop('합계', axis=1)\n",
    "grp20 = grp20.rename(columns={'무부하매연판정1':'매연판정', '차량번호':'검사건수(건)'})\n",
    "grp20.loc[grp20.shape[0]] = ['총합'] + grp20.iloc[:, 1:].sum().to_list()\n",
    "grp20"
   ]
  },
  {
   "cell_type": "markdown",
   "metadata": {},
   "source": [
    "### 21\\. 종합검사의 매연측정결과 적합비율(하위 90%)"
   ]
  },
  {
   "cell_type": "code",
   "execution_count": 231,
   "metadata": {},
   "outputs": [
    {
     "data": {
      "text/html": [
       "<div>\n",
       "<style scoped>\n",
       "    .dataframe tbody tr th:only-of-type {\n",
       "        vertical-align: middle;\n",
       "    }\n",
       "\n",
       "    .dataframe tbody tr th {\n",
       "        vertical-align: top;\n",
       "    }\n",
       "\n",
       "    .dataframe thead th {\n",
       "        text-align: right;\n",
       "    }\n",
       "</style>\n",
       "<table border=\"1\" class=\"dataframe\">\n",
       "  <thead>\n",
       "    <tr style=\"text-align: right;\">\n",
       "      <th></th>\n",
       "      <th>매연판정</th>\n",
       "      <th>검사건수(건)</th>\n",
       "      <th>비율</th>\n",
       "    </tr>\n",
       "  </thead>\n",
       "  <tbody>\n",
       "    <tr>\n",
       "      <th>1</th>\n",
       "      <td>Y</td>\n",
       "      <td>55488.00</td>\n",
       "      <td>0.58</td>\n",
       "    </tr>\n",
       "    <tr>\n",
       "      <th>0</th>\n",
       "      <td>N</td>\n",
       "      <td>486.00</td>\n",
       "      <td>0.01</td>\n",
       "    </tr>\n",
       "    <tr>\n",
       "      <th>2</th>\n",
       "      <td>NaN</td>\n",
       "      <td>39192.00</td>\n",
       "      <td>0.41</td>\n",
       "    </tr>\n",
       "    <tr>\n",
       "      <th>3</th>\n",
       "      <td>총합</td>\n",
       "      <td>95166.00</td>\n",
       "      <td>1.00</td>\n",
       "    </tr>\n",
       "  </tbody>\n",
       "</table>\n",
       "</div>"
      ],
      "text/plain": [
       "  매연판정  검사건수(건)   비율\n",
       "1    Y 55488.00 0.58\n",
       "0    N   486.00 0.01\n",
       "2  NaN 39192.00 0.41\n",
       "3   총합 95166.00 1.00"
      ]
     },
     "execution_count": 231,
     "metadata": {},
     "output_type": "execute_result"
    }
   ],
   "source": [
    "# 매연 하위 90%\n",
    "grp21 = nor90.groupby(['무부하매연판정1'], dropna=False).agg({'차량번호':'count'}).reset_index().sort_values('무부하매연판정1', ascending=False)\n",
    "grp21['합계'] = grp21['차량번호'].sum()\n",
    "grp21['비율'] = grp21['차량번호'] / grp21['합계']\n",
    "grp21['비율'] = grp21['비율'].round(2)\n",
    "grp21 = grp21.drop('합계', axis=1)\n",
    "grp21 = grp21.rename(columns={'무부하매연판정1':'매연판정', '차량번호':'검사건수(건)'})\n",
    "grp21.loc[grp21.shape[0]] = ['총합'] + grp21.iloc[:, 1:].sum().to_list()\n",
    "grp21"
   ]
  },
  {
   "cell_type": "markdown",
   "metadata": {},
   "source": [
    "### 22\\. 종합검사의 매연측정결과 적합비율(하위 10%)"
   ]
  },
  {
   "cell_type": "code",
   "execution_count": 232,
   "metadata": {},
   "outputs": [
    {
     "data": {
      "text/html": [
       "<div>\n",
       "<style scoped>\n",
       "    .dataframe tbody tr th:only-of-type {\n",
       "        vertical-align: middle;\n",
       "    }\n",
       "\n",
       "    .dataframe tbody tr th {\n",
       "        vertical-align: top;\n",
       "    }\n",
       "\n",
       "    .dataframe thead th {\n",
       "        text-align: right;\n",
       "    }\n",
       "</style>\n",
       "<table border=\"1\" class=\"dataframe\">\n",
       "  <thead>\n",
       "    <tr style=\"text-align: right;\">\n",
       "      <th></th>\n",
       "      <th>매연판정</th>\n",
       "      <th>검사건수(건)</th>\n",
       "      <th>비율</th>\n",
       "    </tr>\n",
       "  </thead>\n",
       "  <tbody>\n",
       "    <tr>\n",
       "      <th>1</th>\n",
       "      <td>Y</td>\n",
       "      <td>6173.00</td>\n",
       "      <td>0.58</td>\n",
       "    </tr>\n",
       "    <tr>\n",
       "      <th>0</th>\n",
       "      <td>N</td>\n",
       "      <td>47.00</td>\n",
       "      <td>0.00</td>\n",
       "    </tr>\n",
       "    <tr>\n",
       "      <th>2</th>\n",
       "      <td>NaN</td>\n",
       "      <td>4354.00</td>\n",
       "      <td>0.41</td>\n",
       "    </tr>\n",
       "    <tr>\n",
       "      <th>3</th>\n",
       "      <td>총합</td>\n",
       "      <td>10574.00</td>\n",
       "      <td>0.99</td>\n",
       "    </tr>\n",
       "  </tbody>\n",
       "</table>\n",
       "</div>"
      ],
      "text/plain": [
       "  매연판정  검사건수(건)   비율\n",
       "1    Y  6173.00 0.58\n",
       "0    N    47.00 0.00\n",
       "2  NaN  4354.00 0.41\n",
       "3   총합 10574.00 0.99"
      ]
     },
     "execution_count": 232,
     "metadata": {},
     "output_type": "execute_result"
    }
   ],
   "source": [
    "# 매연 하위 10%\n",
    "grp22 = bottom10.groupby(['무부하매연판정1'], dropna=False).agg({'차량번호':'count'}).reset_index().sort_values('무부하매연판정1', ascending=False)\n",
    "grp22['합계'] = grp22['차량번호'].sum()\n",
    "grp22['비율'] = grp22['차량번호'] / grp22['합계']\n",
    "grp22['비율'] = grp22['비율'].round(2)\n",
    "grp22 = grp22.drop('합계', axis=1)\n",
    "grp22 = grp22.rename(columns={'무부하매연판정1':'매연판정', '차량번호':'검사건수(건)'})\n",
    "grp22.loc[grp22.shape[0]] = ['총합'] + grp22.iloc[:, 1:].sum().to_list()\n",
    "grp22"
   ]
  },
  {
   "cell_type": "markdown",
   "metadata": {},
   "source": [
    "### 23\\. 엔진형식별 매연 평균, 정밀검사 매연 측정치 평균"
   ]
  },
  {
   "cell_type": "code",
   "execution_count": 233,
   "metadata": {},
   "outputs": [
    {
     "data": {
      "text/plain": [
       "24819    24.00\n",
       "68332     2.00\n",
       "100620     NaN\n",
       "Name: 무부하매연측정치1, dtype: float64"
      ]
     },
     "execution_count": 233,
     "metadata": {},
     "output_type": "execute_result"
    }
   ],
   "source": [
    "die.loc[die['엔진형식'] == 'D4AE', '무부하매연측정치1']"
   ]
  },
  {
   "cell_type": "code",
   "execution_count": 234,
   "metadata": {},
   "outputs": [
    {
     "data": {
      "text/html": [
       "<div>\n",
       "<style scoped>\n",
       "    .dataframe tbody tr th:only-of-type {\n",
       "        vertical-align: middle;\n",
       "    }\n",
       "\n",
       "    .dataframe tbody tr th {\n",
       "        vertical-align: top;\n",
       "    }\n",
       "\n",
       "    .dataframe thead th {\n",
       "        text-align: right;\n",
       "    }\n",
       "</style>\n",
       "<table border=\"1\" class=\"dataframe\">\n",
       "  <thead>\n",
       "    <tr style=\"text-align: right;\">\n",
       "      <th></th>\n",
       "      <th>엔진형식</th>\n",
       "      <th>매연(%)</th>\n",
       "      <th>정밀검사매연(%)</th>\n",
       "      <th>검사건수(건)</th>\n",
       "    </tr>\n",
       "  </thead>\n",
       "  <tbody>\n",
       "    <tr>\n",
       "      <th>305</th>\n",
       "      <td>K6</td>\n",
       "      <td>3.50</td>\n",
       "      <td>19.00</td>\n",
       "      <td>1</td>\n",
       "    </tr>\n",
       "    <tr>\n",
       "      <th>132</th>\n",
       "      <td>D0836LFL81</td>\n",
       "      <td>3.10</td>\n",
       "      <td>0.00</td>\n",
       "      <td>1</td>\n",
       "    </tr>\n",
       "    <tr>\n",
       "      <th>252</th>\n",
       "      <td>DPY</td>\n",
       "      <td>2.35</td>\n",
       "      <td>NaN</td>\n",
       "      <td>2</td>\n",
       "    </tr>\n",
       "    <tr>\n",
       "      <th>159</th>\n",
       "      <td>D4AE</td>\n",
       "      <td>2.27</td>\n",
       "      <td>13.00</td>\n",
       "      <td>3</td>\n",
       "    </tr>\n",
       "    <tr>\n",
       "      <th>276</th>\n",
       "      <td>F3GFE612A</td>\n",
       "      <td>2.13</td>\n",
       "      <td>0.33</td>\n",
       "      <td>3</td>\n",
       "    </tr>\n",
       "    <tr>\n",
       "      <th>...</th>\n",
       "      <td>...</td>\n",
       "      <td>...</td>\n",
       "      <td>...</td>\n",
       "      <td>...</td>\n",
       "    </tr>\n",
       "    <tr>\n",
       "      <th>262</th>\n",
       "      <td>DV15TIS</td>\n",
       "      <td>0.00</td>\n",
       "      <td>18.00</td>\n",
       "      <td>3</td>\n",
       "    </tr>\n",
       "    <tr>\n",
       "      <th>261</th>\n",
       "      <td>DV15TI</td>\n",
       "      <td>0.00</td>\n",
       "      <td>6.00</td>\n",
       "      <td>1</td>\n",
       "    </tr>\n",
       "    <tr>\n",
       "      <th>137</th>\n",
       "      <td>D12</td>\n",
       "      <td>0.00</td>\n",
       "      <td>2.00</td>\n",
       "      <td>2</td>\n",
       "    </tr>\n",
       "    <tr>\n",
       "      <th>189</th>\n",
       "      <td>D6AU</td>\n",
       "      <td>0.00</td>\n",
       "      <td>6.00</td>\n",
       "      <td>1</td>\n",
       "    </tr>\n",
       "    <tr>\n",
       "      <th>356</th>\n",
       "      <td>총합</td>\n",
       "      <td>NaN</td>\n",
       "      <td>NaN</td>\n",
       "      <td>105740</td>\n",
       "    </tr>\n",
       "  </tbody>\n",
       "</table>\n",
       "<p>357 rows × 4 columns</p>\n",
       "</div>"
      ],
      "text/plain": [
       "           엔진형식  매연(%)  정밀검사매연(%)  검사건수(건)\n",
       "305          K6   3.50      19.00        1\n",
       "132  D0836LFL81   3.10       0.00        1\n",
       "252         DPY   2.35        NaN        2\n",
       "159        D4AE   2.27      13.00        3\n",
       "276   F3GFE612A   2.13       0.33        3\n",
       "..          ...    ...        ...      ...\n",
       "262     DV15TIS   0.00      18.00        3\n",
       "261      DV15TI   0.00       6.00        1\n",
       "137         D12   0.00       2.00        2\n",
       "189        D6AU   0.00       6.00        1\n",
       "356          총합    NaN        NaN   105740\n",
       "\n",
       "[357 rows x 4 columns]"
      ]
     },
     "execution_count": 234,
     "metadata": {},
     "output_type": "execute_result"
    }
   ],
   "source": [
    "grp23 = die.groupby('엔진형식', dropna=False).agg({'매연':'mean', '무부하매연측정치1':'mean', '차량번호':'count'}).reset_index().sort_values('매연', ascending=False)\n",
    "grp23.loc[grp23.shape[0]] = ['총합', np.nan, np.nan] + grp23.iloc[:, 3:].sum().to_list()\n",
    "grp23 = grp23.rename(columns={'매연':'매연(%)', '무부하매연측정치1':'정밀검사매연(%)', '차량번호':'검사건수(건)'})\n",
    "grp23"
   ]
  },
  {
   "cell_type": "markdown",
   "metadata": {},
   "source": [
    "### [🔺] 24\\. 매연RSD 값과 정밀검사 매연측정치 비교\n",
    "- scatter 그래프\n",
    "- hist 그래프"
   ]
  },
  {
   "cell_type": "code",
   "execution_count": 235,
   "metadata": {},
   "outputs": [
    {
     "data": {
      "text/html": [
       "<div>\n",
       "<style scoped>\n",
       "    .dataframe tbody tr th:only-of-type {\n",
       "        vertical-align: middle;\n",
       "    }\n",
       "\n",
       "    .dataframe tbody tr th {\n",
       "        vertical-align: top;\n",
       "    }\n",
       "\n",
       "    .dataframe thead th {\n",
       "        text-align: right;\n",
       "    }\n",
       "</style>\n",
       "<table border=\"1\" class=\"dataframe\">\n",
       "  <thead>\n",
       "    <tr style=\"text-align: right;\">\n",
       "      <th></th>\n",
       "      <th>매연</th>\n",
       "      <th>무부하매연측정치1</th>\n",
       "    </tr>\n",
       "  </thead>\n",
       "  <tbody>\n",
       "    <tr>\n",
       "      <th>매연</th>\n",
       "      <td>1.00</td>\n",
       "      <td>0.05</td>\n",
       "    </tr>\n",
       "    <tr>\n",
       "      <th>무부하매연측정치1</th>\n",
       "      <td>0.05</td>\n",
       "      <td>1.00</td>\n",
       "    </tr>\n",
       "  </tbody>\n",
       "</table>\n",
       "</div>"
      ],
      "text/plain": [
       "            매연  무부하매연측정치1\n",
       "매연        1.00       0.05\n",
       "무부하매연측정치1 0.05       1.00"
      ]
     },
     "execution_count": 235,
     "metadata": {},
     "output_type": "execute_result"
    }
   ],
   "source": [
    "die[['매연', '무부하매연측정치1']].corr()"
   ]
  },
  {
   "cell_type": "code",
   "execution_count": 236,
   "metadata": {},
   "outputs": [
    {
     "data": {
      "image/png": "[encoded data removed]",
      "text/plain": [
       "<Figure size 1200x700 with 1 Axes>"
      ]
     },
     "metadata": {},
     "output_type": "display_data"
    }
   ],
   "source": [
    "plt.figure(figsize=(12, 7))\n",
    "plt.grid()\n",
    "plt.scatter(die.index, die['매연'], s=.5, alpha=.5, label='매연')\n",
    "plt.scatter(die.index, die['무부하매연측정치1'], s=.5, alpha=.5, label='정밀매연')\n",
    "plt.legend();"
   ]
  },
  {
   "cell_type": "code",
   "execution_count": 237,
   "metadata": {},
   "outputs": [
    {
     "data": {
      "image/png": "[encoded data removed]",
      "text/plain": [
       "<Figure size 1200x700 with 1 Axes>"
      ]
     },
     "metadata": {},
     "output_type": "display_data"
    }
   ],
   "source": [
    "plt.figure(figsize=(12, 7))\n",
    "plt.grid()\n",
    "plt.scatter(die.index, die['매연'], alpha=.5, label='매연')\n",
    "plt.scatter(die.index, die['무부하매연측정치1'], alpha=.5, label='정밀매연')\n",
    "plt.xlim([0, 50])\n",
    "plt.legend();"
   ]
  },
  {
   "cell_type": "code",
   "execution_count": 238,
   "metadata": {},
   "outputs": [
    {
     "data": {
      "image/png": "[encoded data removed]",
      "text/plain": [
       "<Figure size 1200x700 with 1 Axes>"
      ]
     },
     "metadata": {},
     "output_type": "display_data"
    }
   ],
   "source": [
    "plt.figure(figsize=(12, 7))\n",
    "plt.grid()\n",
    "plt.scatter(die.index, die['매연'], alpha=.5, label='매연')\n",
    "plt.scatter(die.index, die['무부하매연측정치1'], alpha=.5, label='정밀매연')\n",
    "plt.xlim([50, 100])\n",
    "plt.legend();"
   ]
  },
  {
   "cell_type": "code",
   "execution_count": 239,
   "metadata": {},
   "outputs": [
    {
     "data": {
      "image/png": "[encoded data removed]",
      "text/plain": [
       "<Figure size 1200x700 with 1 Axes>"
      ]
     },
     "metadata": {},
     "output_type": "display_data"
    }
   ],
   "source": [
    "plt.figure(figsize=(12, 7))\n",
    "plt.grid()\n",
    "plt.hist(die['매연'], alpha=.5, label='매연', bins=200)\n",
    "plt.hist(die['무부하매연측정치1'], alpha=.5, label='정밀매연', bins=200)\n",
    "plt.legend();"
   ]
  },
  {
   "cell_type": "code",
   "execution_count": 240,
   "metadata": {},
   "outputs": [
    {
     "data": {
      "image/png": "[encoded data removed]",
      "text/plain": [
       "<Figure size 1200x700 with 1 Axes>"
      ]
     },
     "metadata": {},
     "output_type": "display_data"
    }
   ],
   "source": [
    "plt.figure(figsize=(12, 7))\n",
    "plt.grid()\n",
    "plt.hist(die['매연'], alpha=.5, label='매연', bins=200)\n",
    "plt.hist(die['무부하매연측정치1'], alpha=.5, label='정밀매연', bins=200)\n",
    "plt.xlim([0, 20])\n",
    "plt.legend();"
   ]
  },
  {
   "cell_type": "code",
   "execution_count": null,
   "metadata": {},
   "outputs": [],
   "source": []
  },
  {
   "cell_type": "markdown",
   "metadata": {},
   "source": [
    "### [❌] 25\\. 종합검사의 매연측정결과 부적합비율\n",
    "- 20 ~ 22번 한번에 처리"
   ]
  },
  {
   "cell_type": "code",
   "execution_count": null,
   "metadata": {},
   "outputs": [],
   "source": []
  },
  {
   "cell_type": "markdown",
   "metadata": {},
   "source": [
    "### [❌] (차후) 26\\. 종합검사의 매연측정값 vs 매연RSD 매연값\n",
    "- Q. 1대1 비교?"
   ]
  },
  {
   "cell_type": "code",
   "execution_count": null,
   "metadata": {},
   "outputs": [],
   "source": []
  },
  {
   "cell_type": "markdown",
   "metadata": {},
   "source": [
    "### 종합검사 매연 부적합 경유차 vs 매연RSD 매연값 비교"
   ]
  },
  {
   "cell_type": "markdown",
   "metadata": {},
   "source": [
    "### [❌] (차후) 27\\. 종합검사 매연농도 vs 매연RSD 매연농도 1:1비교"
   ]
  },
  {
   "cell_type": "code",
   "execution_count": null,
   "metadata": {},
   "outputs": [],
   "source": []
  },
  {
   "cell_type": "markdown",
   "metadata": {},
   "source": [
    "## 28\\. 시험일 후 최초검사 부적합 - 매연RSD 값\n",
    "- 최초 정밀검사 부적합 차량의 매연RSD 값 확인하여 오류-적합, 오류-부적합 확인\n",
    "- 과정\n",
    "    - 1. 유효데이터(매연제한 없음) 중 경유차 추출\n",
    "    - 2. 운행차 정밀검사 기준으로 매연RSD 판정 부적합 데이터 추출\n",
    "    - 3. 검사일자(정밀검사) - 검사날짜(원격측정) = 검사날짜차이\n",
    "    - 4. '검사날짜차이' > 0 인 샘플 추출\n",
    "    - 5. '검사날짜차이' 오름차순, 자동차등록번호 중복 제거\n",
    "    - 6. 정밀검사 '무부하매연판정1' 비율"
   ]
  },
  {
   "cell_type": "code",
   "execution_count": 241,
   "metadata": {},
   "outputs": [
    {
     "data": {
      "text/plain": [
       "(398673, 48)"
      ]
     },
     "execution_count": 241,
     "metadata": {},
     "output_type": "execute_result"
    }
   ],
   "source": [
    "rcse.shape"
   ]
  },
  {
   "cell_type": "code",
   "execution_count": 242,
   "metadata": {},
   "outputs": [
    {
     "data": {
      "text/plain": [
       "Index(['측정날짜', '측정시간', '기록상태', '유효', '속도', '가속도', '플래그', 'VSP', '매연', '차량번호',\n",
       "       '차선번호', '풍속', '습도', '온도', '측정장소코드', '연료', '연식', '배기량', '차종', '총중량',\n",
       "       '엔진형식', '등급', '차대번호', '차명', '폐차여부', '정밀검사일자', '정밀검사종류', '관능검사판정',\n",
       "       '정밀검사판정', '정밀검사측정방법', '무부하매연측정치1', '무부하매연허용치1', '무부하매연판정1', '무부하매연측정치2',\n",
       "       '무부하매연허용치2', '무부하매연판정2', '무부하매연측정치3', '무부하매연허용치3', '무부하매연판정3',\n",
       "       '무부하매연측정치4', '무부하매연허용치4', '무부하매연판정4', '무부하매연측정치5', '무부하매연허용치5',\n",
       "       '무부하매연판정5', '무부하매연측정치6', '무부하매연허용치6', '무부하매연판정6'],\n",
       "      dtype='object')"
      ]
     },
     "execution_count": 242,
     "metadata": {},
     "output_type": "execute_result"
    }
   ],
   "source": [
    "rcse.columns"
   ]
  },
  {
   "cell_type": "code",
   "execution_count": 243,
   "metadata": {},
   "outputs": [
    {
     "data": {
      "text/plain": [
       "(108115, 48)"
      ]
     },
     "execution_count": 243,
     "metadata": {},
     "output_type": "execute_result"
    }
   ],
   "source": [
    "# 1. 경유차(매연제한 없음) 중 유효데이터 추출\n",
    "# vdfRecordStatus = N, vdfValid = V, samFlag = V, 차량번호 : nan, 오류 값(********) 제외, 경유\n",
    "sdie = rcse[(rcse['기록상태'] == 'N') & (rcse['유효'] == 'V') & (rcse['플래그'] == 'V') & (rcse['차량번호'] != '********') & (rcse['차량번호'].isnull() == False) & (rcse['연료'] == '경유')].reset_index(drop=True)\n",
    "sdie.shape"
   ]
  },
  {
   "cell_type": "code",
   "execution_count": 244,
   "metadata": {},
   "outputs": [
    {
     "data": {
      "text/plain": [
       "array(['경유'], dtype=object)"
      ]
     },
     "execution_count": 244,
     "metadata": {},
     "output_type": "execute_result"
    }
   ],
   "source": [
    "sdie['연료'].unique()"
   ]
  },
  {
   "cell_type": "code",
   "execution_count": 245,
   "metadata": {},
   "outputs": [
    {
     "data": {
      "text/plain": [
       "(397, 48)"
      ]
     },
     "execution_count": 245,
     "metadata": {},
     "output_type": "execute_result"
    }
   ],
   "source": [
    "# 2. 운행차 정밀검사 기준으로 매연RSD 판정 부적합 데이터 추출\n",
    "sdf28 = sdie[sdie['매연'] > sdie['무부하매연허용치1']].reset_index(drop=True)\n",
    "sdf28.shape"
   ]
  },
  {
   "cell_type": "markdown",
   "metadata": {},
   "source": [
    "### [출력] RSD 부적합 데이터"
   ]
  },
  {
   "cell_type": "code",
   "execution_count": 246,
   "metadata": {},
   "outputs": [],
   "source": [
    "# sdf28.to_excel(os.path.join(an_fold, 'RSD부적합_경유.xlsx'), index=False)"
   ]
  },
  {
   "cell_type": "code",
   "execution_count": 247,
   "metadata": {},
   "outputs": [
    {
     "data": {
      "text/plain": [
       "정밀검사일자    object\n",
       "측정날짜      object\n",
       "dtype: object"
      ]
     },
     "execution_count": 247,
     "metadata": {},
     "output_type": "execute_result"
    }
   ],
   "source": [
    "sdf28[['정밀검사일자', '측정날짜']].dtypes"
   ]
  },
  {
   "cell_type": "code",
   "execution_count": 248,
   "metadata": {},
   "outputs": [
    {
     "data": {
      "text/plain": [
       "정밀검사일자    datetime64[ns]\n",
       "측정날짜      datetime64[ns]\n",
       "dtype: object"
      ]
     },
     "execution_count": 248,
     "metadata": {},
     "output_type": "execute_result"
    }
   ],
   "source": [
    "sdf28['정밀검사일자'] = pd.to_datetime(sdf28['정밀검사일자'])\n",
    "sdf28['측정날짜'] = pd.to_datetime(sdf28['측정날짜'])\n",
    "sdf28[['정밀검사일자', '측정날짜']].dtypes"
   ]
  },
  {
   "cell_type": "code",
   "execution_count": 249,
   "metadata": {},
   "outputs": [],
   "source": [
    "# 3. 정밀검사일자(정밀검사) - 측정날짜(원격측정) = 검사날짜차이\n",
    "sdf28['검사날짜차이'] = sdf28['정밀검사일자'] - sdf28['측정날짜']\n",
    "sdf28['검사날짜차이'] = sdf28['검사날짜차이'].astype('str')\n",
    "sdf28['검사날짜차이'] = sdf28['검사날짜차이'].str.split(' ').str[0]\n",
    "sdf28['검사날짜차이'] = pd.to_numeric(sdf28['검사날짜차이'], errors='coerce')"
   ]
  },
  {
   "cell_type": "code",
   "execution_count": 250,
   "metadata": {},
   "outputs": [
    {
     "data": {
      "text/plain": [
       "(163, 49)"
      ]
     },
     "execution_count": 250,
     "metadata": {},
     "output_type": "execute_result"
    }
   ],
   "source": [
    "# 4. '검사날짜차이' > 0 인 샘플 추출\n",
    "sdf28 = sdf28[sdf28['검사날짜차이'] > 0].reset_index(drop=True)\n",
    "sdf28.shape"
   ]
  },
  {
   "cell_type": "code",
   "execution_count": 251,
   "metadata": {},
   "outputs": [
    {
     "data": {
      "text/plain": [
       "(159, 49)"
      ]
     },
     "execution_count": 251,
     "metadata": {},
     "output_type": "execute_result"
    }
   ],
   "source": [
    "# 5. '검사날짜차이' 오름차순\n",
    "sdf28a = sdf28.sort_values('검사날짜차이').drop_duplicates('차량번호').reset_index(drop=True)\n",
    "sdf28a.shape"
   ]
  },
  {
   "cell_type": "code",
   "execution_count": 252,
   "metadata": {},
   "outputs": [
    {
     "data": {
      "text/html": [
       "<div>\n",
       "<style scoped>\n",
       "    .dataframe tbody tr th:only-of-type {\n",
       "        vertical-align: middle;\n",
       "    }\n",
       "\n",
       "    .dataframe tbody tr th {\n",
       "        vertical-align: top;\n",
       "    }\n",
       "\n",
       "    .dataframe thead th {\n",
       "        text-align: right;\n",
       "    }\n",
       "</style>\n",
       "<table border=\"1\" class=\"dataframe\">\n",
       "  <thead>\n",
       "    <tr style=\"text-align: right;\">\n",
       "      <th></th>\n",
       "      <th>정밀검사일자</th>\n",
       "      <th>측정날짜</th>\n",
       "      <th>검사날짜차이</th>\n",
       "    </tr>\n",
       "  </thead>\n",
       "  <tbody>\n",
       "    <tr>\n",
       "      <th>0</th>\n",
       "      <td>2023-08-25</td>\n",
       "      <td>2023-08-23</td>\n",
       "      <td>2</td>\n",
       "    </tr>\n",
       "    <tr>\n",
       "      <th>1</th>\n",
       "      <td>2023-04-06</td>\n",
       "      <td>2023-04-04</td>\n",
       "      <td>2</td>\n",
       "    </tr>\n",
       "    <tr>\n",
       "      <th>2</th>\n",
       "      <td>2023-01-05</td>\n",
       "      <td>2023-01-03</td>\n",
       "      <td>2</td>\n",
       "    </tr>\n",
       "    <tr>\n",
       "      <th>3</th>\n",
       "      <td>2023-07-29</td>\n",
       "      <td>2023-07-26</td>\n",
       "      <td>3</td>\n",
       "    </tr>\n",
       "    <tr>\n",
       "      <th>4</th>\n",
       "      <td>2023-07-31</td>\n",
       "      <td>2023-07-26</td>\n",
       "      <td>5</td>\n",
       "    </tr>\n",
       "  </tbody>\n",
       "</table>\n",
       "</div>"
      ],
      "text/plain": [
       "      정밀검사일자       측정날짜  검사날짜차이\n",
       "0 2023-08-25 2023-08-23       2\n",
       "1 2023-04-06 2023-04-04       2\n",
       "2 2023-01-05 2023-01-03       2\n",
       "3 2023-07-29 2023-07-26       3\n",
       "4 2023-07-31 2023-07-26       5"
      ]
     },
     "execution_count": 252,
     "metadata": {},
     "output_type": "execute_result"
    }
   ],
   "source": [
    "sdf28a[['정밀검사일자', '측정날짜', '검사날짜차이']].head()"
   ]
  },
  {
   "cell_type": "code",
   "execution_count": 253,
   "metadata": {},
   "outputs": [
    {
     "data": {
      "text/html": [
       "<div>\n",
       "<style scoped>\n",
       "    .dataframe tbody tr th:only-of-type {\n",
       "        vertical-align: middle;\n",
       "    }\n",
       "\n",
       "    .dataframe tbody tr th {\n",
       "        vertical-align: top;\n",
       "    }\n",
       "\n",
       "    .dataframe thead th {\n",
       "        text-align: right;\n",
       "    }\n",
       "</style>\n",
       "<table border=\"1\" class=\"dataframe\">\n",
       "  <thead>\n",
       "    <tr style=\"text-align: right;\">\n",
       "      <th></th>\n",
       "      <th>매연판정</th>\n",
       "      <th>판정비율</th>\n",
       "    </tr>\n",
       "  </thead>\n",
       "  <tbody>\n",
       "    <tr>\n",
       "      <th>0</th>\n",
       "      <td>Y</td>\n",
       "      <td>1.00</td>\n",
       "    </tr>\n",
       "    <tr>\n",
       "      <th>1</th>\n",
       "      <td>총합</td>\n",
       "      <td>1.00</td>\n",
       "    </tr>\n",
       "  </tbody>\n",
       "</table>\n",
       "</div>"
      ],
      "text/plain": [
       "  매연판정  판정비율\n",
       "0    Y  1.00\n",
       "1   총합  1.00"
      ]
     },
     "execution_count": 253,
     "metadata": {},
     "output_type": "execute_result"
    }
   ],
   "source": [
    "# 6. 정밀검사 '무부하매연판정1' 비율\n",
    "grp28 = sdf28a['무부하매연판정1'].value_counts(dropna=False, normalize=True).reset_index()\n",
    "grp28 = grp28.rename(columns={'index':'매연판정', '무부하매연판정1':'판정비율'})\n",
    "grp28['판정비율'] = grp28['판정비율'].round(2)\n",
    "grp28.loc[grp28.shape[0]] = ['총합', round(grp28['판정비율'].sum(), 2)]\n",
    "grp28"
   ]
  },
  {
   "cell_type": "markdown",
   "metadata": {},
   "source": [
    "## 29\\. 시험일 후 최종검사 부적합 - 매연RSD값\n",
    "- 과정\n",
    "    - 1. 유효데이터(매연제한 없음) 중 경유차 추출\n",
    "    - 2. 운행차 정밀검사 기준으로 매연RSD 판정 부적합 데이터 추출\n",
    "    - 3. 검사일자(정밀검사) - 검사날짜(원격측정) = 검사날짜차이\n",
    "    - 4. '검사날짜차이' > 0 인 샘플 추출\n",
    "    - 5. '검사날짜차이' 내림차순, 자동차등록번호 중복 제거\n",
    "    - 6. 정밀검사 '무부하매연판정1' 비율"
   ]
  },
  {
   "cell_type": "code",
   "execution_count": 254,
   "metadata": {},
   "outputs": [
    {
     "data": {
      "text/plain": [
       "(159, 49)"
      ]
     },
     "execution_count": 254,
     "metadata": {},
     "output_type": "execute_result"
    }
   ],
   "source": [
    "# 1 ~ 4. 동일 과정\n",
    "# 5. '검사날짜차이' 내림차순\n",
    "sdf29 = sdf28.sort_values('검사날짜차이', ascending=False).drop_duplicates('차량번호').reset_index(drop=True)\n",
    "sdf29.shape"
   ]
  },
  {
   "cell_type": "code",
   "execution_count": 255,
   "metadata": {},
   "outputs": [
    {
     "data": {
      "text/html": [
       "<div>\n",
       "<style scoped>\n",
       "    .dataframe tbody tr th:only-of-type {\n",
       "        vertical-align: middle;\n",
       "    }\n",
       "\n",
       "    .dataframe tbody tr th {\n",
       "        vertical-align: top;\n",
       "    }\n",
       "\n",
       "    .dataframe thead th {\n",
       "        text-align: right;\n",
       "    }\n",
       "</style>\n",
       "<table border=\"1\" class=\"dataframe\">\n",
       "  <thead>\n",
       "    <tr style=\"text-align: right;\">\n",
       "      <th></th>\n",
       "      <th>정밀검사일자</th>\n",
       "      <th>측정날짜</th>\n",
       "      <th>검사날짜차이</th>\n",
       "    </tr>\n",
       "  </thead>\n",
       "  <tbody>\n",
       "    <tr>\n",
       "      <th>0</th>\n",
       "      <td>2023-09-07</td>\n",
       "      <td>2022-10-18</td>\n",
       "      <td>324</td>\n",
       "    </tr>\n",
       "    <tr>\n",
       "      <th>1</th>\n",
       "      <td>2023-09-06</td>\n",
       "      <td>2022-10-24</td>\n",
       "      <td>317</td>\n",
       "    </tr>\n",
       "    <tr>\n",
       "      <th>2</th>\n",
       "      <td>2023-08-21</td>\n",
       "      <td>2022-10-24</td>\n",
       "      <td>301</td>\n",
       "    </tr>\n",
       "    <tr>\n",
       "      <th>3</th>\n",
       "      <td>2023-08-12</td>\n",
       "      <td>2022-10-18</td>\n",
       "      <td>298</td>\n",
       "    </tr>\n",
       "    <tr>\n",
       "      <th>4</th>\n",
       "      <td>2023-08-25</td>\n",
       "      <td>2022-11-21</td>\n",
       "      <td>277</td>\n",
       "    </tr>\n",
       "  </tbody>\n",
       "</table>\n",
       "</div>"
      ],
      "text/plain": [
       "      정밀검사일자       측정날짜  검사날짜차이\n",
       "0 2023-09-07 2022-10-18     324\n",
       "1 2023-09-06 2022-10-24     317\n",
       "2 2023-08-21 2022-10-24     301\n",
       "3 2023-08-12 2022-10-18     298\n",
       "4 2023-08-25 2022-11-21     277"
      ]
     },
     "execution_count": 255,
     "metadata": {},
     "output_type": "execute_result"
    }
   ],
   "source": [
    "sdf29[['정밀검사일자', '측정날짜', '검사날짜차이']].head()"
   ]
  },
  {
   "cell_type": "code",
   "execution_count": 256,
   "metadata": {},
   "outputs": [
    {
     "data": {
      "text/html": [
       "<div>\n",
       "<style scoped>\n",
       "    .dataframe tbody tr th:only-of-type {\n",
       "        vertical-align: middle;\n",
       "    }\n",
       "\n",
       "    .dataframe tbody tr th {\n",
       "        vertical-align: top;\n",
       "    }\n",
       "\n",
       "    .dataframe thead th {\n",
       "        text-align: right;\n",
       "    }\n",
       "</style>\n",
       "<table border=\"1\" class=\"dataframe\">\n",
       "  <thead>\n",
       "    <tr style=\"text-align: right;\">\n",
       "      <th></th>\n",
       "      <th>매연판정</th>\n",
       "      <th>판정비율</th>\n",
       "    </tr>\n",
       "  </thead>\n",
       "  <tbody>\n",
       "    <tr>\n",
       "      <th>0</th>\n",
       "      <td>Y</td>\n",
       "      <td>1.00</td>\n",
       "    </tr>\n",
       "    <tr>\n",
       "      <th>1</th>\n",
       "      <td>총합</td>\n",
       "      <td>1.00</td>\n",
       "    </tr>\n",
       "  </tbody>\n",
       "</table>\n",
       "</div>"
      ],
      "text/plain": [
       "  매연판정  판정비율\n",
       "0    Y  1.00\n",
       "1   총합  1.00"
      ]
     },
     "execution_count": 256,
     "metadata": {},
     "output_type": "execute_result"
    }
   ],
   "source": [
    "# 6. 정밀검사 '무부하매연판정1' 비율\n",
    "grp29 = sdf29['무부하매연판정1'].value_counts(dropna=False, normalize=True).reset_index()\n",
    "grp29 = grp29.rename(columns={'index':'매연판정', '무부하매연판정1':'판정비율'})\n",
    "grp29['판정비율'] = grp29['판정비율'].round(2)\n",
    "grp29.loc[grp29.shape[0]] = ['총합', round(grp29['판정비율'].sum(), 2)]\n",
    "grp29"
   ]
  },
  {
   "cell_type": "markdown",
   "metadata": {},
   "source": [
    "## 종합검사 NOx 부적합 경유차 vs 매연RSD 매연값 비교"
   ]
  },
  {
   "cell_type": "markdown",
   "metadata": {},
   "source": [
    "### [❌] (차후) 30\\. 종합검사 NOx vs 매연RSD 매연농도 1:1비교"
   ]
  },
  {
   "cell_type": "code",
   "execution_count": null,
   "metadata": {},
   "outputs": [],
   "source": []
  },
  {
   "cell_type": "markdown",
   "metadata": {},
   "source": [
    "## 고정식 다차선 매연 원격측정기 유효 측정수량 검토"
   ]
  },
  {
   "cell_type": "markdown",
   "metadata": {},
   "source": [
    "### [❌] (보류) 31\\. 일자별 유효 측정수량\n",
    "- 1. 전체 통과 차량 건수 : UFM 사진파일 수 기록\n",
    "- 2. 다차선 매연RSD측정 건수 : 해당일 매연RSD측정 유효데이터 건수\n",
    "- 3. 유효율 : b번 / a번 *100(%)"
   ]
  },
  {
   "cell_type": "code",
   "execution_count": null,
   "metadata": {},
   "outputs": [],
   "source": []
  },
  {
   "cell_type": "markdown",
   "metadata": {},
   "source": [
    "## 결과 출력"
   ]
  },
  {
   "cell_type": "code",
   "execution_count": 257,
   "metadata": {},
   "outputs": [
    {
     "data": {
      "text/plain": [
       "'20231020'"
      ]
     },
     "execution_count": 257,
     "metadata": {},
     "output_type": "execute_result"
    }
   ],
   "source": [
    "today_date = dt.datetime.today().strftime(\"%Y%m%d\")\n",
    "today_date"
   ]
  },
  {
   "cell_type": "code",
   "execution_count": 258,
   "metadata": {},
   "outputs": [],
   "source": [
    "with pd.ExcelWriter(os.path.join(an_fold, f'매연RSD측정결과_분석(제공차량제원)({today_date}).xlsx')) as writer:\n",
    "    grp1.to_excel(writer, sheet_name='1_연료별', index=False)\n",
    "    grp2.to_excel(writer, sheet_name='2_경유_차종별', index=False)\n",
    "    grp3.to_excel(writer, sheet_name='3_경유_연식별', index=False)\n",
    "    grp4.to_excel(writer, sheet_name='4_경유_차선별', index=False)\n",
    "    grp5.to_excel(writer, sheet_name='5_경유_속도별', index=False)\n",
    "    grp6.to_excel(writer, sheet_name='6_경유_배출가스등급별', index=False)\n",
    "    grp7.to_excel(writer, sheet_name='7_경유_배기량별', index=False)\n",
    "    grp8.to_excel(writer, sheet_name='8_경유_차량중량별', index=False)\n",
    "    grp9.to_excel(writer, sheet_name='9_경유_매연허용기준별', index=False)\n",
    "    grp10.to_excel(writer, sheet_name='10_경유_NOx허용기준별', index=False)\n",
    "\n",
    "    grp11.to_excel(writer, sheet_name='11_농도별', index=False)\n",
    "    grp12.to_excel(writer, sheet_name='12_농도_차종별', index=True)\n",
    "    grp13.to_excel(writer, sheet_name='13_농도_연식별', index=True)\n",
    "    grp14.to_excel(writer, sheet_name='14_농도_측정속도별', index=True)\n",
    "    grp15.to_excel(writer, sheet_name='15_농도_배출가스등급별', index=True)\n",
    "    grp16.to_excel(writer, sheet_name='16_농도_배기량별', index=True)\n",
    "    grp17.to_excel(writer, sheet_name='17_농도_차량중량별', index=True)\n",
    "    grp18.to_excel(writer, sheet_name='18_농도_매연허용기준별', index=True)\n",
    "    grp19.to_excel(writer, sheet_name='19_농도_NOx허용기준별', index=True)\n",
    "\n",
    "    grp20.to_excel(writer, sheet_name='20_매연_적합_부적합비율(상위10%)', index=False)\n",
    "    grp21.to_excel(writer, sheet_name='21_매연_적합_부적합비율(하위90%)', index=False)\n",
    "    grp22.to_excel(writer, sheet_name='22_매연_적합_부적합비율(하위10%)', index=False)\n",
    "    grp23.to_excel(writer, sheet_name='23_엔진형식별_매연_정밀매연', index=False)\n",
    "    # grp24.to_excel(writer, sheet_name='24_매연_정밀매연_비교', index=False) # 시각화방법 고민\n",
    "    # grp25.to_excel(writer, sheet_name='25_매연_적합_부적합비율', index=False) # 20 ~ 22번 한번에 처리\n",
    "    # grp26.to_excel(writer, sheet_name='26_매연측정값과_매연RSD비교', index=False) # 차후 논의\n",
    "\n",
    "    # grp27.to_excel(writer, sheet_name='27_매연농도와_매연RSD_1대1비교', index=False) # 차후 논의\n",
    "    \n",
    "    grp28.to_excel(writer, sheet_name='28_시험일후_최초검사_부적합', index=False) # 문의 필요\n",
    "    grp29.to_excel(writer, sheet_name='29_시험일후_최종검사_부적합', index=False) # 문의 필요\n",
    "\n",
    "    # grp30.to_excel(writer, sheet_name='30_종합검사NOx와_RSD매연_1대1비교', index=False) # 차후 논의\n",
    "\n",
    "    # grp31.to_excel(writer, sheet_name='31_일자별_유효_측정수량', index=False) # 보류"
   ]
  },
  {
   "cell_type": "code",
   "execution_count": 259,
   "metadata": {},
   "outputs": [
    {
     "name": "stdout",
     "output_type": "stream",
     "text": [
      "0:00:20\n"
     ]
    }
   ],
   "source": [
    "sec = time.time() - start_time\n",
    "print(str(dt.timedelta(seconds=sec)).split('.')[0])"
   ]
  },
  {
   "cell_type": "markdown",
   "metadata": {},
   "source": [
    "# End"
   ]
  }
 ],
 "metadata": {
  "kernelspec": {
   "display_name": "base",
   "language": "python",
   "name": "python3"
  },
  "language_info": {
   "codemirror_mode": {
    "name": "ipython",
    "version": 3
   },
   "file_extension": ".py",
   "mimetype": "text/x-python",
   "name": "python",
   "nbconvert_exporter": "python",
   "pygments_lexer": "ipython3",
   "version": "3.11.4"
  },
  "orig_nbformat": 4
 },
 "nbformat": 4,
 "nbformat_minor": 2
}
