{
 "cells": [
  {
   "cell_type": "markdown",
   "metadata": {},
   "source": [
    "# 자동차 환경 빅데이터 3차\n",
    "- 과제2 : 건설기계 배출가스 관리 체게 구축\n",
    "- 과제4 : 배출가스 전문정비제도 관리체계 구축\n",
    "- 과제5 : 자동차 환경 빅데이터 제작사 공동 활용체게 구축"
   ]
  },
  {
   "cell_type": "markdown",
   "metadata": {},
   "source": [
    "# Library"
   ]
  },
  {
   "cell_type": "code",
   "execution_count": 1,
   "metadata": {},
   "outputs": [],
   "source": [
    "import pandas as pd\n",
    "import os\n",
    "import numpy as np"
   ]
  },
  {
   "cell_type": "code",
   "execution_count": 14,
   "metadata": {},
   "outputs": [],
   "source": [
    "pd.options.display.float_format = '{:.2f}'.format\n",
    "# pd.reset_option('display.float_format')"
   ]
  },
  {
   "cell_type": "markdown",
   "metadata": {},
   "source": [
    "# Fold"
   ]
  },
  {
   "cell_type": "code",
   "execution_count": 2,
   "metadata": {},
   "outputs": [
    {
     "data": {
      "text/plain": [
       "{'raw_fold': 'D:/data/processing/big3/raw',\n",
       " 'an_fold': 'D:/data/processing/big3/analysis',\n",
       " 'df_fold': 'D:/data/processing/big3/df'}"
      ]
     },
     "execution_count": 2,
     "metadata": {},
     "output_type": "execute_result"
    }
   ],
   "source": [
    "raw_fold = 'D:/data/processing/big3/raw'\n",
    "an_fold = 'D:/data/processing/big3/analysis'\n",
    "df_fold = 'D:/data/processing/big3/df'\n",
    "folds = {'raw_fold':raw_fold, 'an_fold':an_fold, 'df_fold':df_fold}\n",
    "folds"
   ]
  },
  {
   "cell_type": "markdown",
   "metadata": {},
   "source": [
    "# Load\n",
    "- 자동차전문정비 : STD_TB_ERR_RES\n",
    "- 자동차전문정비상세 : STD_TB_ERR_RES_DET\n",
    "- 구조변경검사 : STD_DLM_TB_ERP_GUBUN_BAECHUL"
   ]
  },
  {
   "cell_type": "markdown",
   "metadata": {},
   "source": [
    "## 전문정비(STD_TB_ERR_RES)"
   ]
  },
  {
   "cell_type": "code",
   "execution_count": 8,
   "metadata": {},
   "outputs": [],
   "source": [
    "er_dict = {\n",
    "    'DRVNG_DSTNC':'주행거리', \n",
    "    'VHRNO':'자동차등록번호', \n",
    "    'VIN':'차대번호', \n",
    "    'LOD_COX_MEVLU':'부하일산화탄소측정치', \n",
    "    'LOD_HC_MEVLU':'부하탄화수소측정치', \n",
    "    'LOD_NOX_MEVLU':'부하질소산화물측정치', \n",
    "    'LOD_SMO_MEVLU':'부하매연측정치', \n",
    "    'LOD_TQ_MEVLU':'부하토크측정치', \n",
    "    'OVHUL_YMD':'정비일자', \n",
    "    'SPCY_OVHUL_BIZPLC_NM':'전문정비사업소명', \n",
    "    'OVHUL_RCPT_NO':'정비접수번호', \n",
    "    'PRCINSP_RINSP_RCPT_NO':'정밀재검사접수번호', \n",
    "    'NOLOD_COX_MEVLU':'무부하일산화탄소측정치', \n",
    "    'NOLOD_HC_MEVLU':'무부하탄화수소측정치', \n",
    "    'NOLOD_AIR_EXCRT_MEVLU':'무부하공기과잉률측정치', \n",
    "    'NOLOD_SMO_MEVLU':'무부하매연측정치', \n",
    "}"
   ]
  },
  {
   "cell_type": "code",
   "execution_count": 3,
   "metadata": {},
   "outputs": [
    {
     "name": "stdout",
     "output_type": "stream",
     "text": [
      "<class 'pandas.core.frame.DataFrame'>\n",
      "RangeIndex: 54617 entries, 0 to 54616\n",
      "Data columns (total 16 columns):\n",
      " #   Column                 Non-Null Count  Dtype  \n",
      "---  ------                 --------------  -----  \n",
      " 0   DRVNG_DSTNC            54617 non-null  float64\n",
      " 1   VHRNO                  54617 non-null  object \n",
      " 2   VIN                    51051 non-null  object \n",
      " 3   LOD_COX_MEVLU          53884 non-null  object \n",
      " 4   LOD_HC_MEVLU           53886 non-null  object \n",
      " 5   LOD_NOX_MEVLU          53883 non-null  object \n",
      " 6   LOD_SMO_MEVLU          53941 non-null  object \n",
      " 7   LOD_TQ_MEVLU           53819 non-null  object \n",
      " 8   OVHUL_YMD              54617 non-null  int64  \n",
      " 9   SPCY_OVHUL_BIZPLC_NM   54617 non-null  object \n",
      " 10  OVHUL_RCPT_NO          54617 non-null  int64  \n",
      " 11  PRCINSP_RINSP_RCPT_NO  54617 non-null  object \n",
      " 12  NOLOD_COX_MEVLU        53870 non-null  object \n",
      " 13  NOLOD_HC_MEVLU         53871 non-null  object \n",
      " 14  NOLOD_AIR_EXCRT_MEVLU  28484 non-null  object \n",
      " 15  NOLOD_SMO_MEVLU        50992 non-null  object \n",
      "dtypes: float64(1), int64(2), object(13)\n",
      "memory usage: 6.7+ MB\n"
     ]
    }
   ],
   "source": [
    "# 0.3s\n",
    "name = 'STD_TB_ERR_RES(20231011)'\n",
    "file_name = f'{name}.csv'\n",
    "er = pd.read_csv(os.path.join(raw_fold, file_name), low_memory=False)\n",
    "er.info()"
   ]
  },
  {
   "cell_type": "code",
   "execution_count": 9,
   "metadata": {},
   "outputs": [
    {
     "data": {
      "text/plain": [
       "Index(['주행거리', '자동차등록번호', '차대번호', '부하일산화탄소측정치', '부하탄화수소측정치', '부하질소산화물측정치',\n",
       "       '부하매연측정치', '부하토크측정치', '정비일자', '전문정비사업소명', '정비접수번호', '정밀재검사접수번호',\n",
       "       '무부하일산화탄소측정치', '무부하탄화수소측정치', '무부하공기과잉률측정치', '무부하매연측정치'],\n",
       "      dtype='object')"
      ]
     },
     "execution_count": 9,
     "metadata": {},
     "output_type": "execute_result"
    }
   ],
   "source": [
    "er = er.rename(columns=er_dict)\n",
    "er.columns"
   ]
  },
  {
   "cell_type": "markdown",
   "metadata": {},
   "source": [
    "## 전문정비상세(STD_TB_ERR_RES_DET)"
   ]
  },
  {
   "cell_type": "code",
   "execution_count": 11,
   "metadata": {},
   "outputs": [],
   "source": [
    "erd_dict = {\n",
    "    'VHRNO':'자동차등록번호', \n",
    "    'VIN':'차대번호', \n",
    "    'OVHUL_CN':'정비내용', \n",
    "    'OVHUL_YMD':'정비일자', \n",
    "    'SPCY_OVHUL_BIZPLC_NM':'전문정비사업소명', \n",
    "    'OVHUL_CMPNT_NM':'정비부품명', \n",
    "    'OVHUL_RCPT_NO':'정비접수번호', \n",
    "    'PRCINSP_RINSP_RCPT_NO':'정밀재검사접수번호', \n",
    "}"
   ]
  },
  {
   "cell_type": "code",
   "execution_count": 4,
   "metadata": {},
   "outputs": [
    {
     "name": "stdout",
     "output_type": "stream",
     "text": [
      "<class 'pandas.core.frame.DataFrame'>\n",
      "RangeIndex: 106819 entries, 0 to 106818\n",
      "Data columns (total 8 columns):\n",
      " #   Column                 Non-Null Count   Dtype  \n",
      "---  ------                 --------------   -----  \n",
      " 0   VHRNO                  106818 non-null  object \n",
      " 1   VIN                    94670 non-null   object \n",
      " 2   OVHUL_CN               106817 non-null  object \n",
      " 3   OVHUL_YMD              106818 non-null  float64\n",
      " 4   SPCY_OVHUL_BIZPLC_NM   106818 non-null  object \n",
      " 5   OVHUL_CMPNT_NM         106817 non-null  object \n",
      " 6   OVHUL_RCPT_NO          106818 non-null  float64\n",
      " 7   PRCINSP_RINSP_RCPT_NO  0 non-null       float64\n",
      "dtypes: float64(3), object(5)\n",
      "memory usage: 6.5+ MB\n"
     ]
    }
   ],
   "source": [
    "# 0.3s\n",
    "name = 'STD_TB_ERR_RES_DET(20231011)'\n",
    "file_name = f'{name}.csv'\n",
    "erd = pd.read_csv(os.path.join(raw_fold, file_name), low_memory=False)\n",
    "erd.info()"
   ]
  },
  {
   "cell_type": "code",
   "execution_count": 12,
   "metadata": {},
   "outputs": [
    {
     "data": {
      "text/plain": [
       "Index(['자동차등록번호', '차대번호', '정비내용', '정비일자', '전문정비사업소명', '정비부품명', '정비접수번호',\n",
       "       '정밀재검사접수번호'],\n",
       "      dtype='object')"
      ]
     },
     "execution_count": 12,
     "metadata": {},
     "output_type": "execute_result"
    }
   ],
   "source": [
    "erd = erd.rename(columns=erd_dict)\n",
    "erd.columns"
   ]
  },
  {
   "cell_type": "markdown",
   "metadata": {},
   "source": [
    "## 구조변경검사(STD_DLM_TB_ERP_GUBUN_BAECHUL)"
   ]
  },
  {
   "cell_type": "code",
   "execution_count": 7,
   "metadata": {},
   "outputs": [
    {
     "name": "stdout",
     "output_type": "stream",
     "text": [
      "<class 'pandas.core.frame.DataFrame'>\n",
      "RangeIndex: 1321945 entries, 0 to 1321944\n",
      "Data columns (total 39 columns):\n",
      " #   Column                     Non-Null Count    Dtype  \n",
      "---  ------                     --------------    -----  \n",
      " 0   AIR_PSSR                   1152822 non-null  float64\n",
      " 1   AIR_TMPRT                  1152822 non-null  float64\n",
      " 2   CO2_VAL                    1110507 non-null  float64\n",
      " 3   DRVNG_DSTNC                1320563 non-null  float64\n",
      " 4   FNCINSP_JGMT_YN            1321919 non-null  object \n",
      " 5   INSPOF_NM                  1321945 non-null  object \n",
      " 6   INSPOF_RPRSV_NM            1318198 non-null  object \n",
      " 7   MAXM_OTPT_MSRMT_VAL        445619 non-null   float64\n",
      " 8   MAXM_OTPT_PRMT_VAL         544747 non-null   float64\n",
      " 9   O2_VAL                     1110507 non-null  float64\n",
      " 10  PRCINSP_YMD                1321945 non-null  int64  \n",
      " 11  PRCINSP_VLD_YMD            127529 non-null   float64\n",
      " 12  PRCINSP_VLD_WHL            1321945 non-null  object \n",
      " 13  PRCINSP_JGMT               1321904 non-null  object \n",
      " 14  PRCINSP_KND                1265148 non-null  object \n",
      " 15  PRCINSP_RCPT_NO            1308820 non-null  object \n",
      " 16  RINSP_WHL                  1321945 non-null  object \n",
      " 17  VHCL_PURPS_CD              1321945 non-null  object \n",
      " 18  VHRNO                      1321945 non-null  object \n",
      " 19  VIN                        1321945 non-null  object \n",
      " 20  STRCT_CHG_INSP_MSRMT_MTHD  1321945 non-null  object \n",
      " 21  NOLOD_SMO_MSRMT_VAL1       1276978 non-null  float64\n",
      " 22  NOLOD_SMO_PRMT_VAL1        1276912 non-null  float64\n",
      " 23  NOLOD_SMO_MSRMT_VAL2       1060644 non-null  float64\n",
      " 24  NOLOD_SMO_PRMT_VAL2        1012599 non-null  float64\n",
      " 25  NOLOD_SMO_MSRMT_VAL3       990667 non-null   float64\n",
      " 26  NOLOD_SMO_PRMT_VAL3        990600 non-null   float64\n",
      " 27  NOLOD_SMO_MSRMT_VAL4       731316 non-null   float64\n",
      " 28  NOLOD_SMO_PRMT_VAL4        731299 non-null   float64\n",
      " 29  NOLOD_SMO_MSRMT_VAL5       731316 non-null   float64\n",
      " 30  NOLOD_SMO_PRMT_VAL5        731296 non-null   float64\n",
      " 31  NOLOD_SMO_MSRMT_VAL6       346019 non-null   float64\n",
      " 32  NOLOD_SMO_PRMT_VAL6        345649 non-null   float64\n",
      " 33  NOLOD_SMO_JGMT_YN1         1276959 non-null  object \n",
      " 34  NOLOD_SMO_JGMT_YN2         760411 non-null   object \n",
      " 35  NOLOD_SMO_JGMT_YN3         760365 non-null   object \n",
      " 36  NOLOD_SMO_JGMT_YN4         500957 non-null   object \n",
      " 37  NOLOD_SMO_JGMT_YN5         500955 non-null   object \n",
      " 38  NOLOD_SMO_JGMT_YN6         76346 non-null    object \n",
      "dtypes: float64(20), int64(1), object(18)\n",
      "memory usage: 393.3+ MB\n"
     ]
    }
   ],
   "source": [
    "# 11.7s\n",
    "name = 'STD_DLM_TB_ERP_GUBUN_BAECHUL(20231011)'\n",
    "file_name = f'{name}.csv'\n",
    "gb = pd.read_csv(os.path.join(raw_fold, file_name), low_memory=False)\n",
    "gb.info()"
   ]
  },
  {
   "cell_type": "markdown",
   "metadata": {},
   "source": [
    "# EDA"
   ]
  },
  {
   "cell_type": "markdown",
   "metadata": {},
   "source": [
    "## 전문정비(STD_TB_ERR_RES)"
   ]
  },
  {
   "cell_type": "code",
   "execution_count": 17,
   "metadata": {},
   "outputs": [
    {
     "data": {
      "text/plain": [
       "0"
      ]
     },
     "execution_count": 17,
     "metadata": {},
     "output_type": "execute_result"
    }
   ],
   "source": [
    "er['정비일자'].isnull().sum()"
   ]
  },
  {
   "cell_type": "code",
   "execution_count": 15,
   "metadata": {},
   "outputs": [
    {
     "data": {
      "text/plain": [
       "count      54617.00\n",
       "mean    20083896.95\n",
       "std        16435.80\n",
       "min     20060727.00\n",
       "25%     20070801.00\n",
       "50%     20080507.00\n",
       "75%     20091109.00\n",
       "max     20121010.00\n",
       "Name: 정비일자, dtype: float64"
      ]
     },
     "execution_count": 15,
     "metadata": {},
     "output_type": "execute_result"
    }
   ],
   "source": [
    "er['정비일자'].describe()"
   ]
  },
  {
   "cell_type": "code",
   "execution_count": 19,
   "metadata": {},
   "outputs": [
    {
     "data": {
      "text/plain": [
       "0   2008-01-10\n",
       "1   2008-01-23\n",
       "2   2008-01-08\n",
       "3   2008-01-18\n",
       "4   2008-01-07\n",
       "Name: 정비일자, dtype: datetime64[ns]"
      ]
     },
     "execution_count": 19,
     "metadata": {},
     "output_type": "execute_result"
    }
   ],
   "source": [
    "er['정비일자'] = pd.to_datetime(er['정비일자'], format='%Y%m%d', errors='coerce')\n",
    "er['정비일자'].head()"
   ]
  },
  {
   "cell_type": "code",
   "execution_count": 20,
   "metadata": {},
   "outputs": [
    {
     "name": "stderr",
     "output_type": "stream",
     "text": [
      "C:\\Users\\kbjung\\AppData\\Local\\Temp\\ipykernel_3124\\328505498.py:1: FutureWarning: Treating datetime data as categorical rather than numeric in `.describe` is deprecated and will be removed in a future version of pandas. Specify `datetime_is_numeric=True` to silence this warning and adopt the future behavior now.\n",
      "  er['정비일자'].describe()\n"
     ]
    },
    {
     "data": {
      "text/plain": [
       "count                   54617\n",
       "unique                   1839\n",
       "top       2007-10-02 00:00:00\n",
       "freq                      123\n",
       "first     2006-07-27 00:00:00\n",
       "last      2012-10-10 00:00:00\n",
       "Name: 정비일자, dtype: object"
      ]
     },
     "execution_count": 20,
     "metadata": {},
     "output_type": "execute_result"
    }
   ],
   "source": [
    "er['정비일자'].describe()"
   ]
  },
  {
   "cell_type": "markdown",
   "metadata": {},
   "source": [
    "## 전문정비상세(STD_TB_ERR_RES_DET)"
   ]
  },
  {
   "cell_type": "code",
   "execution_count": 18,
   "metadata": {},
   "outputs": [
    {
     "data": {
      "text/plain": [
       "1"
      ]
     },
     "execution_count": 18,
     "metadata": {},
     "output_type": "execute_result"
    }
   ],
   "source": [
    "erd['정비일자'].isnull().sum()"
   ]
  },
  {
   "cell_type": "code",
   "execution_count": 16,
   "metadata": {},
   "outputs": [
    {
     "data": {
      "text/plain": [
       "count     106818.00\n",
       "mean    20083911.85\n",
       "std        15852.89\n",
       "min     20060727.00\n",
       "25%     20070829.00\n",
       "50%     20080529.00\n",
       "75%     20090921.00\n",
       "max     20120928.00\n",
       "Name: 정비일자, dtype: float64"
      ]
     },
     "execution_count": 16,
     "metadata": {},
     "output_type": "execute_result"
    }
   ],
   "source": [
    "erd['정비일자'].describe()"
   ]
  },
  {
   "cell_type": "code",
   "execution_count": 21,
   "metadata": {},
   "outputs": [
    {
     "data": {
      "text/plain": [
       "0   2007-02-08\n",
       "1   2006-08-11\n",
       "2   2006-08-11\n",
       "3   2006-08-11\n",
       "4   2006-12-11\n",
       "Name: 정비일자, dtype: datetime64[ns]"
      ]
     },
     "execution_count": 21,
     "metadata": {},
     "output_type": "execute_result"
    }
   ],
   "source": [
    "erd['정비일자'] = pd.to_datetime(erd['정비일자'], format='%Y%m%d', errors='coerce')\n",
    "erd['정비일자'].head()"
   ]
  },
  {
   "cell_type": "code",
   "execution_count": 22,
   "metadata": {},
   "outputs": [
    {
     "name": "stderr",
     "output_type": "stream",
     "text": [
      "C:\\Users\\kbjung\\AppData\\Local\\Temp\\ipykernel_3124\\338169835.py:1: FutureWarning: Treating datetime data as categorical rather than numeric in `.describe` is deprecated and will be removed in a future version of pandas. Specify `datetime_is_numeric=True` to silence this warning and adopt the future behavior now.\n",
      "  erd['정비일자'].describe()\n"
     ]
    },
    {
     "data": {
      "text/plain": [
       "count                  106818\n",
       "unique                   1832\n",
       "top       2007-08-13 00:00:00\n",
       "freq                      232\n",
       "first     2006-07-27 00:00:00\n",
       "last      2012-09-28 00:00:00\n",
       "Name: 정비일자, dtype: object"
      ]
     },
     "execution_count": 22,
     "metadata": {},
     "output_type": "execute_result"
    }
   ],
   "source": [
    "erd['정비일자'].describe()"
   ]
  },
  {
   "cell_type": "markdown",
   "metadata": {},
   "source": [
    "## 구조변경검사(STD_DLM_TB_ERP_GUBUN_BAECHUL)"
   ]
  },
  {
   "cell_type": "code",
   "execution_count": null,
   "metadata": {},
   "outputs": [],
   "source": []
  }
 ],
 "metadata": {
  "kernelspec": {
   "display_name": "base",
   "language": "python",
   "name": "python3"
  },
  "language_info": {
   "codemirror_mode": {
    "name": "ipython",
    "version": 3
   },
   "file_extension": ".py",
   "mimetype": "text/x-python",
   "name": "python",
   "nbconvert_exporter": "python",
   "pygments_lexer": "ipython3",
   "version": "3.11.4"
  }
 },
 "nbformat": 4,
 "nbformat_minor": 2
}
