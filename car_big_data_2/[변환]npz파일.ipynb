{
 "cells": [
  {
   "attachments": {},
   "cell_type": "markdown",
   "metadata": {},
   "source": [
    "# Library"
   ]
  },
  {
   "cell_type": "code",
   "execution_count": 2,
   "metadata": {},
   "outputs": [],
   "source": [
    "import pandas as pd\n",
    "import numpy as np\n",
    "import os"
   ]
  },
  {
   "attachments": {},
   "cell_type": "markdown",
   "metadata": {},
   "source": [
    "# fold path"
   ]
  },
  {
   "cell_type": "code",
   "execution_count": 1,
   "metadata": {},
   "outputs": [],
   "source": [
    "ods_fold = 'D:/data/big2/ODS'"
   ]
  },
  {
   "attachments": {},
   "cell_type": "markdown",
   "metadata": {},
   "source": [
    "# 등록정보"
   ]
  },
  {
   "attachments": {},
   "cell_type": "markdown",
   "metadata": {},
   "source": [
    "## csv 파일 로드"
   ]
  },
  {
   "cell_type": "code",
   "execution_count": 4,
   "metadata": {},
   "outputs": [
    {
     "name": "stdout",
     "output_type": "stream",
     "text": [
      "<class 'pandas.core.frame.DataFrame'>\n",
      "RangeIndex: 29534047 entries, 0 to 29534046\n",
      "Data columns (total 25 columns):\n",
      " #   Column        Dtype  \n",
      "---  ------        -----  \n",
      " 0   차량관리번호        object \n",
      " 1   차량등록번호        object \n",
      " 2   본거지법정동코드      int64  \n",
      " 3   소유자구분         object \n",
      " 4   차종_등록정보       object \n",
      " 5   용도            object \n",
      " 6   현재회원번호        object \n",
      " 7   차대번호          object \n",
      " 8   최초등록일자        int64  \n",
      " 9   차량연식          int64  \n",
      " 10  차량제작일자        float64\n",
      " 11  배출가스검사유효일자    float64\n",
      " 12  제원관리번호        object \n",
      " 13  배출가스인증번호      object \n",
      " 14  배출가스등급        object \n",
      " 15  저공해조치YN(미사용)  object \n",
      " 16  저공해조치종류       float64\n",
      " 17  저공해조치구조변경YN   object \n",
      " 18  차량등록번호숫자정보    int64  \n",
      " 19  차량말소YN        object \n",
      " 20  최초회원번호        object \n",
      " 21  취득일자          object \n",
      " 22  취득금액          float64\n",
      " 23  생성일시_등록정보     object \n",
      " 24  수정일시_등록정보     object \n",
      "dtypes: float64(4), int64(4), object(17)\n",
      "memory usage: 5.5+ GB\n"
     ]
    }
   ],
   "source": [
    "# about 4m 39s\n",
    "name = '[ODS]자동차_등록정보(2022.12.28)'\n",
    "file_name = f'{name}.csv'\n",
    "df = pd.read_csv(os.path.join(ods_fold, file_name), low_memory=False)\n",
    "df.info()"
   ]
  },
  {
   "attachments": {},
   "cell_type": "markdown",
   "metadata": {},
   "source": [
    "## npz로 저장"
   ]
  },
  {
   "cell_type": "code",
   "execution_count": 6,
   "metadata": {},
   "outputs": [],
   "source": [
    "# about 7m 12s\n",
    "np.savez_compressed(os.path.join(ods_fold, f'{name}'), col=df.columns, data=df.to_numpy())"
   ]
  },
  {
   "cell_type": "code",
   "execution_count": 7,
   "metadata": {},
   "outputs": [],
   "source": [
    "# about 3m 7s\n",
    "np.savez(os.path.join(ods_fold, f'{name}'), col=df.columns, data=df.to_numpy())"
   ]
  },
  {
   "attachments": {},
   "cell_type": "markdown",
   "metadata": {},
   "source": [
    "## npz 저장 파일 확인"
   ]
  },
  {
   "cell_type": "code",
   "execution_count": 9,
   "metadata": {},
   "outputs": [],
   "source": [
    "npz = np.load(os.path.join(ods_fold, f'{name}.npz'), allow_pickle=True)"
   ]
  },
  {
   "cell_type": "code",
   "execution_count": 10,
   "metadata": {},
   "outputs": [
    {
     "name": "stdout",
     "output_type": "stream",
     "text": [
      "<class 'pandas.core.frame.DataFrame'>\n",
      "RangeIndex: 29534047 entries, 0 to 29534046\n",
      "Data columns (total 25 columns):\n",
      " #   Column        Dtype \n",
      "---  ------        ----- \n",
      " 0   차량관리번호        object\n",
      " 1   차량등록번호        object\n",
      " 2   본거지법정동코드      object\n",
      " 3   소유자구분         object\n",
      " 4   차종_등록정보       object\n",
      " 5   용도            object\n",
      " 6   현재회원번호        object\n",
      " 7   차대번호          object\n",
      " 8   최초등록일자        object\n",
      " 9   차량연식          object\n",
      " 10  차량제작일자        object\n",
      " 11  배출가스검사유효일자    object\n",
      " 12  제원관리번호        object\n",
      " 13  배출가스인증번호      object\n",
      " 14  배출가스등급        object\n",
      " 15  저공해조치YN(미사용)  object\n",
      " 16  저공해조치종류       object\n",
      " 17  저공해조치구조변경YN   object\n",
      " 18  차량등록번호숫자정보    object\n",
      " 19  차량말소YN        object\n",
      " 20  최초회원번호        object\n",
      " 21  취득일자          object\n",
      " 22  취득금액          object\n",
      " 23  생성일시_등록정보     object\n",
      " 24  수정일시_등록정보     object\n",
      "dtypes: object(25)\n",
      "memory usage: 5.5+ GB\n"
     ]
    }
   ],
   "source": [
    "# about 2m 30s\n",
    "ndf = pd.DataFrame(npz['data'], columns=npz['col'])\n",
    "ndf.info()"
   ]
  },
  {
   "cell_type": "code",
   "execution_count": 11,
   "metadata": {},
   "outputs": [],
   "source": [
    "npz.close()"
   ]
  },
  {
   "attachments": {},
   "cell_type": "markdown",
   "metadata": {},
   "source": [
    "# 제원정보"
   ]
  },
  {
   "attachments": {},
   "cell_type": "markdown",
   "metadata": {},
   "source": [
    "## csv 파일 로드"
   ]
  },
  {
   "cell_type": "code",
   "execution_count": 13,
   "metadata": {},
   "outputs": [
    {
     "name": "stdout",
     "output_type": "stream",
     "text": [
      "<class 'pandas.core.frame.DataFrame'>\n",
      "RangeIndex: 545374 entries, 0 to 545373\n",
      "Data columns (total 25 columns):\n",
      " #   Column     Non-Null Count   Dtype  \n",
      "---  ------     --------------   -----  \n",
      " 0   제원관리번호     545374 non-null  object \n",
      " 1   차명         545272 non-null  object \n",
      " 2   차종_제원정보    545370 non-null  object \n",
      " 3   차종분류       531367 non-null  object \n",
      " 4   차종유형(소분류)  531332 non-null  object \n",
      " 5   자동차형식      516295 non-null  object \n",
      " 6   제작사명       529017 non-null  object \n",
      " 7   연료         503254 non-null  object \n",
      " 8   엔진형식       494157 non-null  object \n",
      " 9   공차중량       0 non-null       float64\n",
      " 10  총중량        541702 non-null  float64\n",
      " 11  적재중량       446181 non-null  float64\n",
      " 12  엔진출력       471948 non-null  float64\n",
      " 13  배기량        510521 non-null  float64\n",
      " 14  승차인원       545313 non-null  float64\n",
      " 15  차량길이       514786 non-null  float64\n",
      " 16  차량너비       514799 non-null  float64\n",
      " 17  차량높이       514732 non-null  float64\n",
      " 18  원산지명       540392 non-null  object \n",
      " 19  삭제YN       545374 non-null  object \n",
      " 20  승인일자       532881 non-null  object \n",
      " 21  구동형식       114619 non-null  object \n",
      " 22  변속기종류      540165 non-null  object \n",
      " 23  생성일시_제원정보  545374 non-null  object \n",
      " 24  수정일시_제원정보  14578 non-null   object \n",
      "dtypes: float64(9), object(16)\n",
      "memory usage: 104.0+ MB\n"
     ]
    }
   ],
   "source": [
    "# about 10s\n",
    "name = '[ODS]자동차_제원정보(2022.12.28)'\n",
    "file_name = f'{name}.csv'\n",
    "df = pd.read_csv(os.path.join(ods_fold, file_name), low_memory=False, encoding='cp949')\n",
    "df.info()"
   ]
  },
  {
   "cell_type": "markdown",
   "metadata": {},
   "source": [
    "## npz로 저장"
   ]
  },
  {
   "cell_type": "code",
   "execution_count": 14,
   "metadata": {},
   "outputs": [],
   "source": [
    "# about 3s\n",
    "np.savez(os.path.join(ods_fold, f'{name}'), col=df.columns, data=df.to_numpy())"
   ]
  },
  {
   "cell_type": "markdown",
   "metadata": {},
   "source": [
    "## npz 저장 파일 확인"
   ]
  },
  {
   "cell_type": "code",
   "execution_count": 18,
   "metadata": {},
   "outputs": [],
   "source": [
    "npz = np.load(os.path.join(ods_fold, f'{name}.npz'), allow_pickle=True)"
   ]
  },
  {
   "cell_type": "code",
   "execution_count": 19,
   "metadata": {},
   "outputs": [
    {
     "name": "stdout",
     "output_type": "stream",
     "text": [
      "<class 'pandas.core.frame.DataFrame'>\n",
      "RangeIndex: 545374 entries, 0 to 545373\n",
      "Data columns (total 25 columns):\n",
      " #   Column     Non-Null Count   Dtype \n",
      "---  ------     --------------   ----- \n",
      " 0   제원관리번호     545374 non-null  object\n",
      " 1   차명         545272 non-null  object\n",
      " 2   차종_제원정보    545370 non-null  object\n",
      " 3   차종분류       531367 non-null  object\n",
      " 4   차종유형(소분류)  531332 non-null  object\n",
      " 5   자동차형식      516295 non-null  object\n",
      " 6   제작사명       529017 non-null  object\n",
      " 7   연료         503254 non-null  object\n",
      " 8   엔진형식       494157 non-null  object\n",
      " 9   공차중량       0 non-null       object\n",
      " 10  총중량        541702 non-null  object\n",
      " 11  적재중량       446181 non-null  object\n",
      " 12  엔진출력       471948 non-null  object\n",
      " 13  배기량        510521 non-null  object\n",
      " 14  승차인원       545313 non-null  object\n",
      " 15  차량길이       514786 non-null  object\n",
      " 16  차량너비       514799 non-null  object\n",
      " 17  차량높이       514732 non-null  object\n",
      " 18  원산지명       540392 non-null  object\n",
      " 19  삭제YN       545374 non-null  object\n",
      " 20  승인일자       532881 non-null  object\n",
      " 21  구동형식       114619 non-null  object\n",
      " 22  변속기종류      540165 non-null  object\n",
      " 23  생성일시_제원정보  545374 non-null  object\n",
      " 24  수정일시_제원정보  14578 non-null   object\n",
      "dtypes: object(25)\n",
      "memory usage: 104.0+ MB\n"
     ]
    }
   ],
   "source": [
    "# about 4s\n",
    "ndf = pd.DataFrame(npz['data'], columns=npz['col'])\n",
    "ndf.info()"
   ]
  },
  {
   "cell_type": "code",
   "execution_count": 20,
   "metadata": {},
   "outputs": [],
   "source": [
    "npz.close()"
   ]
  },
  {
   "attachments": {},
   "cell_type": "markdown",
   "metadata": {},
   "source": [
    "# 정기검사"
   ]
  },
  {
   "attachments": {},
   "cell_type": "markdown",
   "metadata": {},
   "source": [
    "## csv 파일 로드"
   ]
  },
  {
   "cell_type": "code",
   "execution_count": 22,
   "metadata": {},
   "outputs": [
    {
     "name": "stdout",
     "output_type": "stream",
     "text": [
      "<class 'pandas.core.frame.DataFrame'>\n",
      "RangeIndex: 22006426 entries, 0 to 22006425\n",
      "Data columns (total 39 columns):\n",
      " #   Column     Dtype  \n",
      "---  ------     -----  \n",
      " 0   사용연료       object \n",
      " 1   주행거리       object \n",
      " 2   차명         object \n",
      " 3   차량번호       object \n",
      " 4   차대번호       object \n",
      " 5   차종         object \n",
      " 6   차량연식       int64  \n",
      " 7   엔진형식       object \n",
      " 8   검사방법       object \n",
      " 9   검사일자       int64  \n",
      " 10  검사종류       object \n",
      " 11  검사판정시각     object \n",
      " 12  검사판정       object \n",
      " 13  산소값        float64\n",
      " 14  이산화탄소값     float64\n",
      " 15  무부하매연판정1   object \n",
      " 16  무부하매연판정2   object \n",
      " 17  무부하매연판정3   object \n",
      " 18  무부하매연판정4   object \n",
      " 19  무부하매연판정5   object \n",
      " 20  무부하매연판정6   object \n",
      " 21  무부하매연허용치1  float64\n",
      " 22  무부하매연허용치2  float64\n",
      " 23  무부하매연허용치3  float64\n",
      " 24  무부하매연허용치4  float64\n",
      " 25  무부하매연허용치5  float64\n",
      " 26  무부하매연허용치6  float64\n",
      " 27  무부하매연측정치1  float64\n",
      " 28  무부하매연측정치2  float64\n",
      " 29  무부하매연측정치3  float64\n",
      " 30  무부하매연측정치4  float64\n",
      " 31  무부하매연측정치5  float64\n",
      " 32  무부하매연측정치6  float64\n",
      " 33  차량용도       object \n",
      " 34  최대출력허용치    float64\n",
      " 35  최대출력측정값    float64\n",
      " 36  검사접수번호     object \n",
      " 37  검사소명       object \n",
      " 38  재검사기간      object \n",
      "dtypes: float64(16), int64(2), object(21)\n",
      "memory usage: 6.4+ GB\n"
     ]
    }
   ],
   "source": [
    "# about 3m 27s\n",
    "name = '[ODS]정기검사(2022.12.28)'\n",
    "file_name = f'{name}.csv'\n",
    "df = pd.read_csv(os.path.join(ods_fold, file_name), low_memory=False)\n",
    "df.info()"
   ]
  },
  {
   "cell_type": "markdown",
   "metadata": {},
   "source": [
    "## npz로 저장"
   ]
  },
  {
   "cell_type": "code",
   "execution_count": 23,
   "metadata": {},
   "outputs": [],
   "source": [
    "# about 2m 58s\n",
    "np.savez(os.path.join(ods_fold, f'{name}'), col=df.columns, data=df.to_numpy())"
   ]
  },
  {
   "cell_type": "markdown",
   "metadata": {},
   "source": [
    "## npz 저장 파일 확인"
   ]
  },
  {
   "cell_type": "code",
   "execution_count": 24,
   "metadata": {},
   "outputs": [],
   "source": [
    "npz = np.load(os.path.join(ods_fold, f'{name}.npz'), allow_pickle=True)"
   ]
  },
  {
   "cell_type": "code",
   "execution_count": 25,
   "metadata": {},
   "outputs": [
    {
     "name": "stdout",
     "output_type": "stream",
     "text": [
      "<class 'pandas.core.frame.DataFrame'>\n",
      "RangeIndex: 22006426 entries, 0 to 22006425\n",
      "Data columns (total 39 columns):\n",
      " #   Column     Dtype \n",
      "---  ------     ----- \n",
      " 0   사용연료       object\n",
      " 1   주행거리       object\n",
      " 2   차명         object\n",
      " 3   차량번호       object\n",
      " 4   차대번호       object\n",
      " 5   차종         object\n",
      " 6   차량연식       object\n",
      " 7   엔진형식       object\n",
      " 8   검사방법       object\n",
      " 9   검사일자       object\n",
      " 10  검사종류       object\n",
      " 11  검사판정시각     object\n",
      " 12  검사판정       object\n",
      " 13  산소값        object\n",
      " 14  이산화탄소값     object\n",
      " 15  무부하매연판정1   object\n",
      " 16  무부하매연판정2   object\n",
      " 17  무부하매연판정3   object\n",
      " 18  무부하매연판정4   object\n",
      " 19  무부하매연판정5   object\n",
      " 20  무부하매연판정6   object\n",
      " 21  무부하매연허용치1  object\n",
      " 22  무부하매연허용치2  object\n",
      " 23  무부하매연허용치3  object\n",
      " 24  무부하매연허용치4  object\n",
      " 25  무부하매연허용치5  object\n",
      " 26  무부하매연허용치6  object\n",
      " 27  무부하매연측정치1  object\n",
      " 28  무부하매연측정치2  object\n",
      " 29  무부하매연측정치3  object\n",
      " 30  무부하매연측정치4  object\n",
      " 31  무부하매연측정치5  object\n",
      " 32  무부하매연측정치6  object\n",
      " 33  차량용도       object\n",
      " 34  최대출력허용치    object\n",
      " 35  최대출력측정값    object\n",
      " 36  검사접수번호     object\n",
      " 37  검사소명       object\n",
      " 38  재검사기간      object\n",
      "dtypes: object(39)\n",
      "memory usage: 6.4+ GB\n"
     ]
    }
   ],
   "source": [
    "# about 2m 34s\n",
    "ndf = pd.DataFrame(npz['data'], columns=npz['col'])\n",
    "ndf.info()"
   ]
  },
  {
   "cell_type": "code",
   "execution_count": 26,
   "metadata": {},
   "outputs": [],
   "source": [
    "npz.close()"
   ]
  },
  {
   "attachments": {},
   "cell_type": "markdown",
   "metadata": {},
   "source": [
    "# 정밀검사"
   ]
  },
  {
   "cell_type": "markdown",
   "metadata": {},
   "source": [
    "## csv 파일 로드"
   ]
  },
  {
   "cell_type": "code",
   "execution_count": 27,
   "metadata": {},
   "outputs": [
    {
     "name": "stdout",
     "output_type": "stream",
     "text": [
      "<class 'pandas.core.frame.DataFrame'>\n",
      "RangeIndex: 28682228 entries, 0 to 28682227\n",
      "Data columns (total 41 columns):\n",
      " #   Column     Dtype  \n",
      "---  ------     -----  \n",
      " 0   사용연료       object \n",
      " 1   주행거리       float64\n",
      " 2   차명         object \n",
      " 3   차량번호       object \n",
      " 4   차대번호       object \n",
      " 5   차종         object \n",
      " 6   차량연식       int64  \n",
      " 7   엔진형식       object \n",
      " 8   검사방법       object \n",
      " 9   검사일자       int64  \n",
      " 10  검사종류       object \n",
      " 11  검사판정시각     object \n",
      " 12  검사판정       object \n",
      " 13  산소값        float64\n",
      " 14  이산화탄소값     float64\n",
      " 15  무부하매연판정1   object \n",
      " 16  무부하매연판정2   object \n",
      " 17  무부하매연판정3   object \n",
      " 18  무부하매연판정4   object \n",
      " 19  무부하매연판정5   object \n",
      " 20  무부하매연판정6   object \n",
      " 21  무부하매연허용치1  float64\n",
      " 22  무부하매연허용치2  float64\n",
      " 23  무부하매연허용치3  float64\n",
      " 24  무부하매연허용치4  float64\n",
      " 25  무부하매연허용치5  float64\n",
      " 26  무부하매연허용치6  float64\n",
      " 27  무부하매연측정치1  float64\n",
      " 28  무부하매연측정치2  float64\n",
      " 29  무부하매연측정치3  float64\n",
      " 30  무부하매연측정치4  float64\n",
      " 31  무부하매연측정치5  float64\n",
      " 32  무부하매연측정치6  float64\n",
      " 33  차량용도       object \n",
      " 34  최대출력허용치    float64\n",
      " 35  최대출력측정값    float64\n",
      " 36  검사접수번호     object \n",
      " 37  검사소명       object \n",
      " 38  재검사기간      object \n",
      " 39  검사 검사소코드   object \n",
      " 40  검사유효기간     float64\n",
      "dtypes: float64(18), int64(2), object(21)\n",
      "memory usage: 8.8+ GB\n"
     ]
    }
   ],
   "source": [
    "# about 6m 23s\n",
    "name = '[ODS]정밀검사(2022.12.28)'\n",
    "file_name = f'{name}.csv'\n",
    "df = pd.read_csv(os.path.join(ods_fold, file_name), low_memory=False)\n",
    "df.info()"
   ]
  },
  {
   "cell_type": "markdown",
   "metadata": {},
   "source": [
    "## npz로 저장"
   ]
  },
  {
   "cell_type": "code",
   "execution_count": 28,
   "metadata": {},
   "outputs": [],
   "source": [
    "# about 5m 21s\n",
    "np.savez(os.path.join(ods_fold, f'{name}'), col=df.columns, data=df.to_numpy())"
   ]
  },
  {
   "cell_type": "markdown",
   "metadata": {},
   "source": [
    "## npz 저장 파일 확인"
   ]
  },
  {
   "cell_type": "code",
   "execution_count": 29,
   "metadata": {},
   "outputs": [],
   "source": [
    "npz = np.load(os.path.join(ods_fold, f'{name}.npz'), allow_pickle=True)"
   ]
  },
  {
   "cell_type": "code",
   "execution_count": 30,
   "metadata": {},
   "outputs": [
    {
     "name": "stdout",
     "output_type": "stream",
     "text": [
      "<class 'pandas.core.frame.DataFrame'>\n",
      "RangeIndex: 28682228 entries, 0 to 28682227\n",
      "Data columns (total 41 columns):\n",
      " #   Column     Dtype \n",
      "---  ------     ----- \n",
      " 0   사용연료       object\n",
      " 1   주행거리       object\n",
      " 2   차명         object\n",
      " 3   차량번호       object\n",
      " 4   차대번호       object\n",
      " 5   차종         object\n",
      " 6   차량연식       object\n",
      " 7   엔진형식       object\n",
      " 8   검사방법       object\n",
      " 9   검사일자       object\n",
      " 10  검사종류       object\n",
      " 11  검사판정시각     object\n",
      " 12  검사판정       object\n",
      " 13  산소값        object\n",
      " 14  이산화탄소값     object\n",
      " 15  무부하매연판정1   object\n",
      " 16  무부하매연판정2   object\n",
      " 17  무부하매연판정3   object\n",
      " 18  무부하매연판정4   object\n",
      " 19  무부하매연판정5   object\n",
      " 20  무부하매연판정6   object\n",
      " 21  무부하매연허용치1  object\n",
      " 22  무부하매연허용치2  object\n",
      " 23  무부하매연허용치3  object\n",
      " 24  무부하매연허용치4  object\n",
      " 25  무부하매연허용치5  object\n",
      " 26  무부하매연허용치6  object\n",
      " 27  무부하매연측정치1  object\n",
      " 28  무부하매연측정치2  object\n",
      " 29  무부하매연측정치3  object\n",
      " 30  무부하매연측정치4  object\n",
      " 31  무부하매연측정치5  object\n",
      " 32  무부하매연측정치6  object\n",
      " 33  차량용도       object\n",
      " 34  최대출력허용치    object\n",
      " 35  최대출력측정값    object\n",
      " 36  검사접수번호     object\n",
      " 37  검사소명       object\n",
      " 38  재검사기간      object\n",
      " 39  검사 검사소코드   object\n",
      " 40  검사유효기간     object\n",
      "dtypes: object(41)\n",
      "memory usage: 8.8+ GB\n"
     ]
    }
   ],
   "source": [
    "# about 6m 57s\n",
    "ndf = pd.DataFrame(npz['data'], columns=npz['col'])\n",
    "ndf.info()"
   ]
  },
  {
   "cell_type": "code",
   "execution_count": 31,
   "metadata": {},
   "outputs": [],
   "source": [
    "npz.close()"
   ]
  },
  {
   "attachments": {},
   "cell_type": "markdown",
   "metadata": {},
   "source": [
    "# 저감장치부착이력"
   ]
  },
  {
   "cell_type": "markdown",
   "metadata": {},
   "source": [
    "## csv 파일 로드"
   ]
  },
  {
   "cell_type": "code",
   "execution_count": 33,
   "metadata": {},
   "outputs": [
    {
     "name": "stdout",
     "output_type": "stream",
     "text": [
      "<class 'pandas.core.frame.DataFrame'>\n",
      "RangeIndex: 810777 entries, 0 to 810776\n",
      "Data columns (total 16 columns):\n",
      " #   Column      Non-Null Count   Dtype  \n",
      "---  ------      --------------   -----  \n",
      " 0   저감장치종류      586898 non-null  object \n",
      " 1   PM최종저감효율    84460 non-null   float64\n",
      " 2   TDMS부착여부    204951 non-null  object \n",
      " 3   구조변경일자      810777 non-null  int64  \n",
      " 4   부착업체명       801632 non-null  object \n",
      " 5   부착일자        810775 non-null  float64\n",
      " 6   탈거승인일       178 non-null     float64\n",
      " 7   차량번호        810777 non-null  object \n",
      " 8   차대번호        810777 non-null  object \n",
      " 9   주행거리        796828 non-null  float64\n",
      " 10  저감장치반납여부    326030 non-null  object \n",
      " 11  저감장치구분      810777 non-null  object \n",
      " 12  저감등록번호      810777 non-null  int64  \n",
      " 13  재장착확인일자     441 non-null     float64\n",
      " 14  장치일련번호      682711 non-null  object \n",
      " 15  삼원촉매장치반납여부  13694 non-null   object \n",
      "dtypes: float64(5), int64(2), object(9)\n",
      "memory usage: 99.0+ MB\n"
     ]
    }
   ],
   "source": [
    "# about 28s\n",
    "name = '[ODS]저감장치부착이력(2022.12.28)'\n",
    "file_name = f'{name}.csv'\n",
    "df = pd.read_csv(os.path.join(ods_fold, file_name), low_memory=False, encoding='cp949')\n",
    "df.info()"
   ]
  },
  {
   "cell_type": "markdown",
   "metadata": {},
   "source": [
    "## npz로 저장"
   ]
  },
  {
   "cell_type": "code",
   "execution_count": 34,
   "metadata": {},
   "outputs": [],
   "source": [
    "# about 3s\n",
    "np.savez(os.path.join(ods_fold, f'{name}'), col=df.columns, data=df.to_numpy())"
   ]
  },
  {
   "cell_type": "markdown",
   "metadata": {},
   "source": [
    "## npz 저장 파일 확인"
   ]
  },
  {
   "cell_type": "code",
   "execution_count": 35,
   "metadata": {},
   "outputs": [],
   "source": [
    "npz = np.load(os.path.join(ods_fold, f'{name}.npz'), allow_pickle=True)"
   ]
  },
  {
   "cell_type": "code",
   "execution_count": 36,
   "metadata": {},
   "outputs": [
    {
     "name": "stdout",
     "output_type": "stream",
     "text": [
      "<class 'pandas.core.frame.DataFrame'>\n",
      "RangeIndex: 810777 entries, 0 to 810776\n",
      "Data columns (total 16 columns):\n",
      " #   Column      Non-Null Count   Dtype \n",
      "---  ------      --------------   ----- \n",
      " 0   저감장치종류      586898 non-null  object\n",
      " 1   PM최종저감효율    84460 non-null   object\n",
      " 2   TDMS부착여부    204951 non-null  object\n",
      " 3   구조변경일자      810777 non-null  object\n",
      " 4   부착업체명       801632 non-null  object\n",
      " 5   부착일자        810775 non-null  object\n",
      " 6   탈거승인일       178 non-null     object\n",
      " 7   차량번호        810777 non-null  object\n",
      " 8   차대번호        810777 non-null  object\n",
      " 9   주행거리        796828 non-null  object\n",
      " 10  저감장치반납여부    326030 non-null  object\n",
      " 11  저감장치구분      810777 non-null  object\n",
      " 12  저감등록번호      810777 non-null  object\n",
      " 13  재장착확인일자     441 non-null     object\n",
      " 14  장치일련번호      682711 non-null  object\n",
      " 15  삼원촉매장치반납여부  13694 non-null   object\n",
      "dtypes: object(16)\n",
      "memory usage: 99.0+ MB\n"
     ]
    }
   ],
   "source": [
    "# about 49s\n",
    "ndf = pd.DataFrame(npz['data'], columns=npz['col'])\n",
    "ndf.info()"
   ]
  },
  {
   "cell_type": "code",
   "execution_count": 37,
   "metadata": {},
   "outputs": [],
   "source": [
    "npz.close()"
   ]
  },
  {
   "attachments": {},
   "cell_type": "markdown",
   "metadata": {},
   "source": [
    "# 배출가스인증정보"
   ]
  },
  {
   "cell_type": "markdown",
   "metadata": {},
   "source": [
    "## csv 파일 로드"
   ]
  },
  {
   "cell_type": "code",
   "execution_count": 39,
   "metadata": {},
   "outputs": [
    {
     "name": "stdout",
     "output_type": "stream",
     "text": [
      "<class 'pandas.core.frame.DataFrame'>\n",
      "RangeIndex: 79725 entries, 0 to 79724\n",
      "Data columns (total 21 columns):\n",
      " #   Column       Non-Null Count  Dtype  \n",
      "---  ------       --------------  -----  \n",
      " 0   저장일자         79715 non-null  object \n",
      " 1   제작사명         78956 non-null  object \n",
      " 2   연료           79493 non-null  object \n",
      " 3   배출가스인증일자     79670 non-null  float64\n",
      " 4   배출가스인증번호     79725 non-null  object \n",
      " 5   배출가스허용기준코드   17746 non-null  object \n",
      " 6   배출가스차종       79519 non-null  object \n",
      " 7   배출가스인증무효사유   45 non-null     object \n",
      " 8   배출가스인증2구분    79436 non-null  object \n",
      " 9   배출가스인증상태     79681 non-null  float64\n",
      " 10  배출가스인증일련번호   79725 non-null  int64  \n",
      " 11  배출가스인증무효일자   361 non-null    float64\n",
      " 12  배출가스인증1구분    79725 non-null  object \n",
      " 13  배출가스등급       23923 non-null  object \n",
      " 14  동일차종유형       9155 non-null   object \n",
      " 15  대표차차대번호      55697 non-null  object \n",
      " 16  대표차배출가스인증번호  26100 non-null  object \n",
      " 17  기본차제원관리번호    60648 non-null  object \n",
      " 18  국내수입제작사구분    79038 non-null  object \n",
      " 19  제조사명         79554 non-null  object \n",
      " 20  원산지명         29928 non-null  object \n",
      "dtypes: float64(3), int64(1), object(17)\n",
      "memory usage: 12.8+ MB\n"
     ]
    }
   ],
   "source": [
    "# about 1s\n",
    "name = '[ODS]배출가스인증정보(2022.12.28)'\n",
    "file_name = f'{name}.csv'\n",
    "df = pd.read_csv(os.path.join(ods_fold, file_name), low_memory=False)\n",
    "df.info()"
   ]
  },
  {
   "cell_type": "markdown",
   "metadata": {},
   "source": [
    "## npz로 저장"
   ]
  },
  {
   "cell_type": "code",
   "execution_count": 40,
   "metadata": {},
   "outputs": [],
   "source": [
    "# about 0s\n",
    "np.savez(os.path.join(ods_fold, f'{name}'), col=df.columns, data=df.to_numpy())"
   ]
  },
  {
   "cell_type": "markdown",
   "metadata": {},
   "source": [
    "## npz 저장 파일 확인"
   ]
  },
  {
   "cell_type": "code",
   "execution_count": 41,
   "metadata": {},
   "outputs": [],
   "source": [
    "npz = np.load(os.path.join(ods_fold, f'{name}.npz'), allow_pickle=True)"
   ]
  },
  {
   "cell_type": "code",
   "execution_count": 42,
   "metadata": {},
   "outputs": [
    {
     "name": "stdout",
     "output_type": "stream",
     "text": [
      "<class 'pandas.core.frame.DataFrame'>\n",
      "RangeIndex: 79725 entries, 0 to 79724\n",
      "Data columns (total 21 columns):\n",
      " #   Column       Non-Null Count  Dtype \n",
      "---  ------       --------------  ----- \n",
      " 0   저장일자         79715 non-null  object\n",
      " 1   제작사명         78956 non-null  object\n",
      " 2   연료           79493 non-null  object\n",
      " 3   배출가스인증일자     79670 non-null  object\n",
      " 4   배출가스인증번호     79725 non-null  object\n",
      " 5   배출가스허용기준코드   17746 non-null  object\n",
      " 6   배출가스차종       79519 non-null  object\n",
      " 7   배출가스인증무효사유   45 non-null     object\n",
      " 8   배출가스인증2구분    79436 non-null  object\n",
      " 9   배출가스인증상태     79681 non-null  object\n",
      " 10  배출가스인증일련번호   79725 non-null  object\n",
      " 11  배출가스인증무효일자   361 non-null    object\n",
      " 12  배출가스인증1구분    79725 non-null  object\n",
      " 13  배출가스등급       23923 non-null  object\n",
      " 14  동일차종유형       9155 non-null   object\n",
      " 15  대표차차대번호      55697 non-null  object\n",
      " 16  대표차배출가스인증번호  26100 non-null  object\n",
      " 17  기본차제원관리번호    60648 non-null  object\n",
      " 18  국내수입제작사구분    79038 non-null  object\n",
      " 19  제조사명         79554 non-null  object\n",
      " 20  원산지명         29928 non-null  object\n",
      "dtypes: object(21)\n",
      "memory usage: 12.8+ MB\n"
     ]
    }
   ],
   "source": [
    "# about 1s\n",
    "ndf = pd.DataFrame(npz['data'], columns=npz['col'])\n",
    "ndf.info()"
   ]
  },
  {
   "cell_type": "code",
   "execution_count": 43,
   "metadata": {},
   "outputs": [],
   "source": [
    "npz.close()"
   ]
  },
  {
   "attachments": {},
   "cell_type": "markdown",
   "metadata": {},
   "source": [
    "# 배출가스인증시험"
   ]
  },
  {
   "cell_type": "markdown",
   "metadata": {},
   "source": [
    "## csv 파일 로드"
   ]
  },
  {
   "cell_type": "code",
   "execution_count": 45,
   "metadata": {},
   "outputs": [
    {
     "name": "stdout",
     "output_type": "stream",
     "text": [
      "<class 'pandas.core.frame.DataFrame'>\n",
      "RangeIndex: 86406 entries, 0 to 86405\n",
      "Data columns (total 21 columns):\n",
      " #   Column           Non-Null Count  Dtype  \n",
      "---  ------           --------------  -----  \n",
      " 0   입자개수허용기준값        1978 non-null   float64\n",
      " 1   질소산화물허용기준값       13893 non-null  float64\n",
      " 2   입자상물질허용기준값       2770 non-null   float64\n",
      " 3   질소산화물시험결과        16856 non-null  float64\n",
      " 4   입자개수시험결과         0 non-null      float64\n",
      " 5   일산화탄소허용기준값       16761 non-null  float64\n",
      " 6   일산화탄소시험결과        17868 non-null  float64\n",
      " 7   배출가스인증번호         86406 non-null  object \n",
      " 8   배출가스인증일련번호       86406 non-null  int64  \n",
      " 9   배출가스시험모드값        85442 non-null  object \n",
      " 10  탄화수소3허용기준값       12176 non-null  float64\n",
      " 11  탄화수소3질소산화물허용기준값  8513 non-null   float64\n",
      " 12  탄화수소3질소산화물시험결과   8548 non-null   float64\n",
      " 13  탄화수소3시험결과        12236 non-null  float64\n",
      " 14  탄화수소2허용기준값       20 non-null     float64\n",
      " 15  탄화수소2시험결과        268 non-null    float64\n",
      " 16  탄화수소1허용기준값       43 non-null     float64\n",
      " 17  탄화수소1질소산화물허용기준값  4229 non-null   float64\n",
      " 18  탄화수소1질소산화물시험결과   4783 non-null   float64\n",
      " 19  탄화수소1시험결과        3116 non-null   float64\n",
      " 20  입자상물질시험결과        6460 non-null   float64\n",
      "dtypes: float64(18), int64(1), object(2)\n",
      "memory usage: 13.8+ MB\n"
     ]
    }
   ],
   "source": [
    "# about 0s\n",
    "name = '[ODS]배출가스인증시험(2022.12.28)'\n",
    "file_name = f'{name}.csv'\n",
    "df = pd.read_csv(os.path.join(ods_fold, file_name), low_memory=False)\n",
    "df.info()"
   ]
  },
  {
   "cell_type": "markdown",
   "metadata": {},
   "source": [
    "## npz로 저장"
   ]
  },
  {
   "cell_type": "code",
   "execution_count": 46,
   "metadata": {},
   "outputs": [],
   "source": [
    "# about 0s\n",
    "np.savez(os.path.join(ods_fold, f'{name}'), col=df.columns, data=df.to_numpy())"
   ]
  },
  {
   "cell_type": "markdown",
   "metadata": {},
   "source": [
    "## npz 저장 파일 확인"
   ]
  },
  {
   "cell_type": "code",
   "execution_count": 47,
   "metadata": {},
   "outputs": [],
   "source": [
    "npz = np.load(os.path.join(ods_fold, f'{name}.npz'), allow_pickle=True)"
   ]
  },
  {
   "cell_type": "code",
   "execution_count": 48,
   "metadata": {},
   "outputs": [
    {
     "name": "stdout",
     "output_type": "stream",
     "text": [
      "<class 'pandas.core.frame.DataFrame'>\n",
      "RangeIndex: 86406 entries, 0 to 86405\n",
      "Data columns (total 21 columns):\n",
      " #   Column           Non-Null Count  Dtype \n",
      "---  ------           --------------  ----- \n",
      " 0   입자개수허용기준값        1978 non-null   object\n",
      " 1   질소산화물허용기준값       13893 non-null  object\n",
      " 2   입자상물질허용기준값       2770 non-null   object\n",
      " 3   질소산화물시험결과        16856 non-null  object\n",
      " 4   입자개수시험결과         0 non-null      object\n",
      " 5   일산화탄소허용기준값       16761 non-null  object\n",
      " 6   일산화탄소시험결과        17868 non-null  object\n",
      " 7   배출가스인증번호         86406 non-null  object\n",
      " 8   배출가스인증일련번호       86406 non-null  object\n",
      " 9   배출가스시험모드값        85442 non-null  object\n",
      " 10  탄화수소3허용기준값       12176 non-null  object\n",
      " 11  탄화수소3질소산화물허용기준값  8513 non-null   object\n",
      " 12  탄화수소3질소산화물시험결과   8548 non-null   object\n",
      " 13  탄화수소3시험결과        12236 non-null  object\n",
      " 14  탄화수소2허용기준값       20 non-null     object\n",
      " 15  탄화수소2시험결과        268 non-null    object\n",
      " 16  탄화수소1허용기준값       43 non-null     object\n",
      " 17  탄화수소1질소산화물허용기준값  4229 non-null   object\n",
      " 18  탄화수소1질소산화물시험결과   4783 non-null   object\n",
      " 19  탄화수소1시험결과        3116 non-null   object\n",
      " 20  입자상물질시험결과        6460 non-null   object\n",
      "dtypes: object(21)\n",
      "memory usage: 13.8+ MB\n"
     ]
    }
   ],
   "source": [
    "# about 1s\n",
    "ndf = pd.DataFrame(npz['data'], columns=npz['col'])\n",
    "ndf.info()"
   ]
  },
  {
   "cell_type": "code",
   "execution_count": 49,
   "metadata": {},
   "outputs": [],
   "source": [
    "npz.close()"
   ]
  },
  {
   "attachments": {},
   "cell_type": "markdown",
   "metadata": {},
   "source": [
    "# 배출가스인증자동차정보"
   ]
  },
  {
   "cell_type": "markdown",
   "metadata": {},
   "source": [
    "## csv 파일 로드"
   ]
  },
  {
   "cell_type": "code",
   "execution_count": 51,
   "metadata": {},
   "outputs": [
    {
     "name": "stdout",
     "output_type": "stream",
     "text": [
      "<class 'pandas.core.frame.DataFrame'>\n",
      "RangeIndex: 109269 entries, 0 to 109268\n",
      "Data columns (total 22 columns):\n",
      " #   Column      Non-Null Count   Dtype  \n",
      "---  ------      --------------   -----  \n",
      " 0   배출가스차종      84041 non-null   object \n",
      " 1   공차중량        109166 non-null  object \n",
      " 2   용도          96950 non-null   object \n",
      " 3   배출가스인증번호    109269 non-null  object \n",
      " 4   배출가스인증일련번호  109269 non-null  int64  \n",
      " 5   배기량         108249 non-null  float64\n",
      " 6   구동형식        91142 non-null   object \n",
      " 7   연료          108746 non-null  object \n",
      " 8   엔진형식        108279 non-null  object \n",
      " 9   엔진출력        99675 non-null   object \n",
      " 10  차대번호        72498 non-null   object \n",
      " 11  승차인원정보      82499 non-null   object \n",
      " 12  변속기종류       108853 non-null  object \n",
      " 13  저장일자        109265 non-null  object \n",
      " 14  차량길이정보      102659 non-null  object \n",
      " 15  차량너비정보      102662 non-null  object \n",
      " 16  차량높이정보      102660 non-null  object \n",
      " 17  차량연식        104332 non-null  float64\n",
      " 18  차량일련번호      109269 non-null  object \n",
      " 19  차명          109241 non-null  object \n",
      " 20  총중량         109027 non-null  object \n",
      " 21  자동차형식       109181 non-null  object \n",
      "dtypes: float64(2), int64(1), object(19)\n",
      "memory usage: 18.3+ MB\n"
     ]
    }
   ],
   "source": [
    "# about 1s\n",
    "name = '[ODS]배출가스인증자동차정보(2022.12.28)'\n",
    "file_name = f'{name}.csv'\n",
    "df = pd.read_csv(os.path.join(ods_fold, file_name), low_memory=False)\n",
    "df.info()"
   ]
  },
  {
   "cell_type": "markdown",
   "metadata": {},
   "source": [
    "## npz로 저장"
   ]
  },
  {
   "cell_type": "code",
   "execution_count": 52,
   "metadata": {},
   "outputs": [],
   "source": [
    "# about 0s\n",
    "np.savez(os.path.join(ods_fold, f'{name}'), col=df.columns, data=df.to_numpy())"
   ]
  },
  {
   "cell_type": "markdown",
   "metadata": {},
   "source": [
    "## npz 저장 파일 확인"
   ]
  },
  {
   "cell_type": "code",
   "execution_count": 53,
   "metadata": {},
   "outputs": [],
   "source": [
    "npz = np.load(os.path.join(ods_fold, f'{name}.npz'), allow_pickle=True)"
   ]
  },
  {
   "cell_type": "code",
   "execution_count": 54,
   "metadata": {},
   "outputs": [
    {
     "name": "stdout",
     "output_type": "stream",
     "text": [
      "<class 'pandas.core.frame.DataFrame'>\n",
      "RangeIndex: 109269 entries, 0 to 109268\n",
      "Data columns (total 22 columns):\n",
      " #   Column      Non-Null Count   Dtype \n",
      "---  ------      --------------   ----- \n",
      " 0   배출가스차종      84041 non-null   object\n",
      " 1   공차중량        109166 non-null  object\n",
      " 2   용도          96950 non-null   object\n",
      " 3   배출가스인증번호    109269 non-null  object\n",
      " 4   배출가스인증일련번호  109269 non-null  object\n",
      " 5   배기량         108249 non-null  object\n",
      " 6   구동형식        91142 non-null   object\n",
      " 7   연료          108746 non-null  object\n",
      " 8   엔진형식        108279 non-null  object\n",
      " 9   엔진출력        99675 non-null   object\n",
      " 10  차대번호        72498 non-null   object\n",
      " 11  승차인원정보      82499 non-null   object\n",
      " 12  변속기종류       108853 non-null  object\n",
      " 13  저장일자        109265 non-null  object\n",
      " 14  차량길이정보      102659 non-null  object\n",
      " 15  차량너비정보      102662 non-null  object\n",
      " 16  차량높이정보      102660 non-null  object\n",
      " 17  차량연식        104332 non-null  object\n",
      " 18  차량일련번호      109269 non-null  object\n",
      " 19  차명          109241 non-null  object\n",
      " 20  총중량         109027 non-null  object\n",
      " 21  자동차형식       109181 non-null  object\n",
      "dtypes: object(22)\n",
      "memory usage: 18.3+ MB\n"
     ]
    }
   ],
   "source": [
    "# about 1s\n",
    "ndf = pd.DataFrame(npz['data'], columns=npz['col'])\n",
    "ndf.info()"
   ]
  },
  {
   "cell_type": "code",
   "execution_count": 55,
   "metadata": {},
   "outputs": [],
   "source": [
    "npz.close()"
   ]
  },
  {
   "cell_type": "markdown",
   "metadata": {},
   "source": [
    "# 코드 마지막"
   ]
  }
 ],
 "metadata": {
  "kernelspec": {
   "display_name": "base",
   "language": "python",
   "name": "python3"
  },
  "language_info": {
   "codemirror_mode": {
    "name": "ipython",
    "version": 3
   },
   "file_extension": ".py",
   "mimetype": "text/x-python",
   "name": "python",
   "nbconvert_exporter": "python",
   "pygments_lexer": "ipython3",
   "version": "3.9.13"
  },
  "orig_nbformat": 4,
  "vscode": {
   "interpreter": {
    "hash": "ad2bdc8ecc057115af97d19610ffacc2b4e99fae6737bb82f5d7fb13d2f2c186"
   }
  }
 },
 "nbformat": 4,
 "nbformat_minor": 2
}
