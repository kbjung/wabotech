{
 "cells": [
  {
   "attachments": {},
   "cell_type": "markdown",
   "metadata": {},
   "source": [
    "# Library"
   ]
  },
  {
   "cell_type": "code",
   "execution_count": 18,
   "metadata": {},
   "outputs": [],
   "source": [
    "import pandas as pd\n",
    "import numpy as np\n",
    "import os\n",
    "from datetime import datetime"
   ]
  },
  {
   "attachments": {},
   "cell_type": "markdown",
   "metadata": {},
   "source": [
    "# fold path"
   ]
  },
  {
   "cell_type": "code",
   "execution_count": 2,
   "metadata": {},
   "outputs": [],
   "source": [
    "ods_fold = 'D:/data/big2/ODS'\n",
    "fold = 'D:/data/big2/BD1_4등급_데이터_점검1'"
   ]
  },
  {
   "cell_type": "code",
   "execution_count": 46,
   "metadata": {},
   "outputs": [],
   "source": [
    "# 소수점 옵션\n",
    "pd.options.display.float_format = '{:.2f}'.format\n",
    "# pd.reset_option('display.float_format')"
   ]
  },
  {
   "attachments": {},
   "cell_type": "markdown",
   "metadata": {},
   "source": [
    "# 9MY-KM-14-22 차량 확인"
   ]
  },
  {
   "attachments": {},
   "cell_type": "markdown",
   "metadata": {},
   "source": [
    "## 등록&제원정보(말소제거)"
   ]
  },
  {
   "cell_type": "code",
   "execution_count": 4,
   "metadata": {},
   "outputs": [],
   "source": [
    "# about 6m 48s\n",
    "file_name = '[ODS]등록정보&제원정보(말소제거)(2022.12.28).csv'\n",
    "car_info = pd.read_csv(os.path.join(ods_fold, file_name), encoding='cp949', low_memory=False)\n",
    "car_info.info()"
   ]
  },
  {
   "cell_type": "code",
   "execution_count": null,
   "metadata": {},
   "outputs": [
    {
     "data": {
      "text/plain": [
       "Index(['차량관리번호', '차량등록번호', '본거지법정동코드', '소유자구분', '차종_등록정보', '용도', '현재회원번호',\n",
       "       '차대번호', '최초등록일자', '차량연식', '차량제작일자', '배출가스검사유효일자', '제원관리번호', '배출가스인증번호',\n",
       "       '배출가스등급', '저공해조치YN(미사용)', '저공해조치종류', '저공해조치구조변경YN', '차량등록번호숫자정보',\n",
       "       '차량말소YN', '최초회원번호', '취득일자', '취득금액', '생성일시_등록정보', '수정일시_등록정보', '차명',\n",
       "       '차종_제원정보', '차종분류', '차종유형(소분류)', '자동차형식', '제작사명', '연료', '엔진형식', '공차중량',\n",
       "       '총중량', '적재중량', '엔진출력', '배기량', '승차인원', '차량길이', '차량너비', '차량높이', '원산지명',\n",
       "       '삭제YN', '승인일자', '구동형식', '변속기종류', '생성일시_제원정보', '수정일시_제원정보'],\n",
       "      dtype='object')"
      ]
     },
     "execution_count": 5,
     "metadata": {},
     "output_type": "execute_result"
    }
   ],
   "source": [
    "car_info.columns"
   ]
  },
  {
   "cell_type": "code",
   "execution_count": 6,
   "metadata": {},
   "outputs": [
    {
     "data": {
      "text/plain": [
       "(94868, 49)"
      ]
     },
     "execution_count": 6,
     "metadata": {},
     "output_type": "execute_result"
    }
   ],
   "source": [
    "car_info[car_info['배출가스인증번호'] == '9MY-KM-14-22'].shape"
   ]
  },
  {
   "cell_type": "code",
   "execution_count": 14,
   "metadata": {},
   "outputs": [
    {
     "data": {
      "text/plain": [
       "3    94868\n",
       "Name: 배출가스등급, dtype: int64"
      ]
     },
     "execution_count": 14,
     "metadata": {},
     "output_type": "execute_result"
    }
   ],
   "source": [
    "car_info.loc[car_info['배출가스인증번호'] == '9MY-KM-14-22', '배출가스등급'].value_counts(dropna=False)"
   ]
  },
  {
   "cell_type": "code",
   "execution_count": 21,
   "metadata": {},
   "outputs": [
    {
     "data": {
      "text/plain": [
       "N    87217\n",
       "Y     7651\n",
       "Name: 차량말소YN, dtype: int64"
      ]
     },
     "execution_count": 21,
     "metadata": {},
     "output_type": "execute_result"
    }
   ],
   "source": [
    "car_info.loc[car_info['배출가스인증번호'] == '9MY-KM-14-22', '차량말소YN'].value_counts(dropna=False)"
   ]
  },
  {
   "attachments": {},
   "cell_type": "markdown",
   "metadata": {},
   "source": [
    "## 4등급_차량_리스트_양식_result"
   ]
  },
  {
   "cell_type": "code",
   "execution_count": 17,
   "metadata": {},
   "outputs": [
    {
     "name": "stdout",
     "output_type": "stream",
     "text": [
      "<class 'pandas.core.frame.DataFrame'>\n",
      "RangeIndex: 1153813 entries, 0 to 1153812\n",
      "Data columns (total 64 columns):\n",
      " #   Column     Non-Null Count    Dtype  \n",
      "---  ------     --------------    -----  \n",
      " 0   차대번호       1153813 non-null  object \n",
      " 1   차량번호_x     1153813 non-null  object \n",
      " 2   제원관리번호     1153813 non-null  object \n",
      " 3   차종_원본      1153813 non-null  object \n",
      " 4   용도         1153813 non-null  object \n",
      " 5   최초등록일      1153813 non-null  int64  \n",
      " 6   연식         1153813 non-null  int64  \n",
      " 7   제작일자       1153809 non-null  float64\n",
      " 8   검사유효일      1153810 non-null  float64\n",
      " 9   배출가스인증번호   1146663 non-null  object \n",
      " 10  등급         1153813 non-null  int64  \n",
      " 11  차명_x       1153813 non-null  object \n",
      " 12  차종분류       1153813 non-null  object \n",
      " 13  차종유형       1153813 non-null  object \n",
      " 14  자동차형식      1153812 non-null  object \n",
      " 15  제작사명       1153795 non-null  object \n",
      " 16  연료         1153813 non-null  object \n",
      " 17  엔진형식_x     1153813 non-null  object \n",
      " 18  총중량        1153813 non-null  float64\n",
      " 19  적재중량       1153589 non-null  float64\n",
      " 20  엔진출력       1153811 non-null  float64\n",
      " 21  배기량        1153813 non-null  float64\n",
      " 22  법정동코드      1153813 non-null  int64  \n",
      " 23  시도명        1153813 non-null  object \n",
      " 24  시군구명       1153813 non-null  object \n",
      " 25  소유자구분      1153813 non-null  object \n",
      " 26  말소여부       1153813 non-null  object \n",
      " 27  일치유무       1153813 non-null  object \n",
      " 28  사용연료       1131176 non-null  object \n",
      " 29  주행거리       1131063 non-null  float64\n",
      " 30  차명_y       1131176 non-null  object \n",
      " 31  차량번호_y     1131176 non-null  object \n",
      " 32  차종         1131176 non-null  object \n",
      " 33  차량연식       1131176 non-null  float64\n",
      " 34  엔진형식_y     1131165 non-null  object \n",
      " 35  검사방법       1131176 non-null  object \n",
      " 36  검사일자       1131176 non-null  float64\n",
      " 37  검사종류       1131176 non-null  object \n",
      " 38  검사판정시각     1122501 non-null  object \n",
      " 39  검사판정       1131176 non-null  object \n",
      " 40  산소값        817299 non-null   float64\n",
      " 41  이산화탄소값     817299 non-null   float64\n",
      " 42  무부하매연판정1   1122497 non-null  object \n",
      " 43  무부하매연판정2   44435 non-null    object \n",
      " 44  무부하매연판정3   43534 non-null    object \n",
      " 45  무부하매연판정4   43532 non-null    object \n",
      " 46  무부하매연판정5   43532 non-null    object \n",
      " 47  무부하매연판정6   46 non-null       object \n",
      " 48  무부하매연허용치1  1122497 non-null  float64\n",
      " 49  무부하매연허용치2  333612 non-null   float64\n",
      " 50  무부하매연허용치3  333611 non-null   float64\n",
      " 51  무부하매연허용치4  333609 non-null   float64\n",
      " 52  무부하매연허용치5  333609 non-null   float64\n",
      " 53  무부하매연허용치6  301714 non-null   float64\n",
      " 54  무부하매연측정치1  1122501 non-null  float64\n",
      " 55  무부하매연측정치2  367673 non-null   float64\n",
      " 56  무부하매연측정치3  333613 non-null   float64\n",
      " 57  무부하매연측정치4  333611 non-null   float64\n",
      " 58  무부하매연측정치5  333611 non-null   float64\n",
      " 59  무부하매연측정치6  301714 non-null   float64\n",
      " 60  정기정밀       1131176 non-null  object \n",
      " 61  vin10      1153813 non-null  object \n",
      " 62  vin_year   1153810 non-null  float64\n",
      " 63  DPF유무      1153813 non-null  object \n",
      "dtypes: float64(24), int64(4), object(36)\n",
      "memory usage: 563.4+ MB\n"
     ]
    }
   ],
   "source": [
    "# about 27s\n",
    "file_name = '[병합]4등급_차량_리스트_양식_result.csv'\n",
    "result = pd.read_csv(os.path.join(fold, file_name), encoding='cp949', low_memory=False)\n",
    "result.info()"
   ]
  },
  {
   "cell_type": "code",
   "execution_count": 18,
   "metadata": {},
   "outputs": [
    {
     "data": {
      "text/plain": [
       "Index(['차대번호', '차량번호_x', '제원관리번호', '차종_원본', '용도', '최초등록일', '연식', '제작일자',\n",
       "       '검사유효일', '배출가스인증번호', '등급', '차명_x', '차종분류', '차종유형', '자동차형식', '제작사명',\n",
       "       '연료', '엔진형식_x', '총중량', '적재중량', '엔진출력', '배기량', '법정동코드', '시도명', '시군구명',\n",
       "       '소유자구분', '말소여부', '일치유무', '사용연료', '주행거리', '차명_y', '차량번호_y', '차종', '차량연식',\n",
       "       '엔진형식_y', '검사방법', '검사일자', '검사종류', '검사판정시각', '검사판정', '산소값', '이산화탄소값',\n",
       "       '무부하매연판정1', '무부하매연판정2', '무부하매연판정3', '무부하매연판정4', '무부하매연판정5', '무부하매연판정6',\n",
       "       '무부하매연허용치1', '무부하매연허용치2', '무부하매연허용치3', '무부하매연허용치4', '무부하매연허용치5',\n",
       "       '무부하매연허용치6', '무부하매연측정치1', '무부하매연측정치2', '무부하매연측정치3', '무부하매연측정치4',\n",
       "       '무부하매연측정치5', '무부하매연측정치6', '정기정밀', 'vin10', 'vin_year', 'DPF유무'],\n",
       "      dtype='object')"
      ]
     },
     "execution_count": 18,
     "metadata": {},
     "output_type": "execute_result"
    }
   ],
   "source": [
    "result.columns"
   ]
  },
  {
   "cell_type": "code",
   "execution_count": 19,
   "metadata": {},
   "outputs": [
    {
     "data": {
      "text/plain": [
       "4    1153813\n",
       "Name: 등급, dtype: int64"
      ]
     },
     "execution_count": 19,
     "metadata": {},
     "output_type": "execute_result"
    }
   ],
   "source": [
    "result['등급'].value_counts(dropna=True)"
   ]
  },
  {
   "cell_type": "code",
   "execution_count": 20,
   "metadata": {},
   "outputs": [
    {
     "data": {
      "text/plain": [
       "(39626, 64)"
      ]
     },
     "execution_count": 20,
     "metadata": {},
     "output_type": "execute_result"
    }
   ],
   "source": [
    "result[result['배출가스인증번호'] == '9MY-KM-14-22'].shape"
   ]
  },
  {
   "attachments": {},
   "cell_type": "markdown",
   "metadata": {},
   "source": [
    "# 4,5 등급 검사 기록 확인"
   ]
  },
  {
   "cell_type": "code",
   "execution_count": 3,
   "metadata": {},
   "outputs": [
    {
     "name": "stdout",
     "output_type": "stream",
     "text": [
      "<class 'pandas.core.frame.DataFrame'>\n",
      "RangeIndex: 1511251 entries, 0 to 1511250\n",
      "Data columns (total 49 columns):\n",
      " #   Column        Non-Null Count    Dtype  \n",
      "---  ------        --------------    -----  \n",
      " 0   차량관리번호        1511251 non-null  object \n",
      " 1   차량등록번호        1511251 non-null  object \n",
      " 2   본거지법정동코드      1511251 non-null  int64  \n",
      " 3   소유자구분         1511251 non-null  object \n",
      " 4   차종_등록정보       1511249 non-null  object \n",
      " 5   용도            1511251 non-null  object \n",
      " 6   현재회원번호        1510412 non-null  object \n",
      " 7   차대번호          1511251 non-null  object \n",
      " 8   최초등록일자        1511251 non-null  int64  \n",
      " 9   차량연식          1511251 non-null  int64  \n",
      " 10  차량제작일자        1342461 non-null  float64\n",
      " 11  배출가스검사유효일자    1511239 non-null  float64\n",
      " 12  제원관리번호        1511251 non-null  object \n",
      " 13  배출가스인증번호      1387530 non-null  object \n",
      " 14  배출가스등급        1511251 non-null  object \n",
      " 15  저공해조치YN(미사용)  1511096 non-null  object \n",
      " 16  저공해조치종류       189 non-null      float64\n",
      " 17  저공해조치구조변경YN   1511251 non-null  object \n",
      " 18  차량등록번호숫자정보    1511251 non-null  int64  \n",
      " 19  차량말소YN        1511251 non-null  object \n",
      " 20  최초회원번호        1506595 non-null  object \n",
      " 21  취득일자          1418010 non-null  object \n",
      " 22  취득금액          1436843 non-null  float64\n",
      " 23  생성일시_등록정보     1511251 non-null  object \n",
      " 24  수정일시_등록정보     915041 non-null   object \n",
      " 25  차명            1511251 non-null  object \n",
      " 26  차종_제원정보       1511251 non-null  object \n",
      " 27  차종분류          1511251 non-null  object \n",
      " 28  차종유형(소분류)     1511251 non-null  object \n",
      " 29  자동차형식         1510723 non-null  object \n",
      " 30  제작사명          1501221 non-null  object \n",
      " 31  연료            1511180 non-null  object \n",
      " 32  엔진형식          1509249 non-null  object \n",
      " 33  공차중량          0 non-null        float64\n",
      " 34  총중량           1511226 non-null  float64\n",
      " 35  적재중량          1510714 non-null  float64\n",
      " 36  엔진출력          1510623 non-null  float64\n",
      " 37  배기량           1511240 non-null  float64\n",
      " 38  승차인원          1511251 non-null  float64\n",
      " 39  차량길이          1511176 non-null  float64\n",
      " 40  차량너비          1511176 non-null  float64\n",
      " 41  차량높이          1511174 non-null  float64\n",
      " 42  원산지명          1492122 non-null  object \n",
      " 43  삭제YN          1511251 non-null  object \n",
      " 44  승인일자          1510704 non-null  object \n",
      " 45  구동형식          47 non-null       float64\n",
      " 46  변속기종류         1511091 non-null  object \n",
      " 47  생성일시_제원정보     1511251 non-null  object \n",
      " 48  수정일시_제원정보     497 non-null      object \n",
      "dtypes: float64(14), int64(4), object(31)\n",
      "memory usage: 565.0+ MB\n"
     ]
    }
   ],
   "source": [
    "# about 30s\n",
    "grade = 4\n",
    "file_name = f'[ODS][G{grade}]등록정보&제원정보(말소제거)(2022.12.28).csv'\n",
    "g4 =  pd.read_csv(os.path.join(ods_fold, file_name), encoding='cp949', low_memory=False)\n",
    "g4.info()"
   ]
  },
  {
   "cell_type": "code",
   "execution_count": 4,
   "metadata": {},
   "outputs": [
    {
     "name": "stdout",
     "output_type": "stream",
     "text": [
      "<class 'pandas.core.frame.DataFrame'>\n",
      "RangeIndex: 1154762 entries, 0 to 1154761\n",
      "Data columns (total 49 columns):\n",
      " #   Column        Non-Null Count    Dtype  \n",
      "---  ------        --------------    -----  \n",
      " 0   차량관리번호        1154762 non-null  object \n",
      " 1   차량등록번호        1154762 non-null  object \n",
      " 2   본거지법정동코드      1154762 non-null  int64  \n",
      " 3   소유자구분         1154762 non-null  object \n",
      " 4   차종_등록정보       1154750 non-null  object \n",
      " 5   용도            1154762 non-null  object \n",
      " 6   현재회원번호        1146089 non-null  object \n",
      " 7   차대번호          1154762 non-null  object \n",
      " 8   최초등록일자        1154762 non-null  int64  \n",
      " 9   차량연식          1154762 non-null  int64  \n",
      " 10  차량제작일자        959061 non-null   float64\n",
      " 11  배출가스검사유효일자    1154250 non-null  float64\n",
      " 12  제원관리번호        1154762 non-null  object \n",
      " 13  배출가스인증번호      542939 non-null   object \n",
      " 14  배출가스등급        1154762 non-null  object \n",
      " 15  저공해조치YN(미사용)  1154688 non-null  object \n",
      " 16  저공해조치종류       361634 non-null   float64\n",
      " 17  저공해조치구조변경YN   1154762 non-null  object \n",
      " 18  차량등록번호숫자정보    1154762 non-null  int64  \n",
      " 19  차량말소YN        1154762 non-null  object \n",
      " 20  최초회원번호        1129482 non-null  object \n",
      " 21  취득일자          1014515 non-null  float64\n",
      " 22  취득금액          1040455 non-null  float64\n",
      " 23  생성일시_등록정보     1154762 non-null  object \n",
      " 24  수정일시_등록정보     556092 non-null   object \n",
      " 25  차명            1154761 non-null  object \n",
      " 26  차종_제원정보       1154762 non-null  object \n",
      " 27  차종분류          1154762 non-null  object \n",
      " 28  차종유형(소분류)     1154762 non-null  object \n",
      " 29  자동차형식         1154240 non-null  object \n",
      " 30  제작사명          1151542 non-null  object \n",
      " 31  연료            1154733 non-null  object \n",
      " 32  엔진형식          1151256 non-null  object \n",
      " 33  공차중량          0 non-null        float64\n",
      " 34  총중량           1154761 non-null  float64\n",
      " 35  적재중량          1154751 non-null  float64\n",
      " 36  엔진출력          1154450 non-null  float64\n",
      " 37  배기량           1154760 non-null  float64\n",
      " 38  승차인원          1154761 non-null  float64\n",
      " 39  차량길이          1154761 non-null  float64\n",
      " 40  차량너비          1154761 non-null  float64\n",
      " 41  차량높이          1154761 non-null  float64\n",
      " 42  원산지명          1113130 non-null  object \n",
      " 43  삭제YN          1154762 non-null  object \n",
      " 44  승인일자          1153569 non-null  object \n",
      " 45  구동형식          7 non-null        float64\n",
      " 46  변속기종류         1154760 non-null  object \n",
      " 47  생성일시_제원정보     1154762 non-null  object \n",
      " 48  수정일시_제원정보     218 non-null      object \n",
      "dtypes: float64(15), int64(4), object(30)\n",
      "memory usage: 431.7+ MB\n"
     ]
    }
   ],
   "source": [
    "# about 22s\n",
    "grade = 5\n",
    "file_name = f'[ODS][G{grade}]등록정보&제원정보(말소제거)(2022.12.28).csv'\n",
    "g5 =  pd.read_csv(os.path.join(ods_fold, file_name), encoding='cp949', low_memory=False)\n",
    "g5.info()"
   ]
  },
  {
   "cell_type": "code",
   "execution_count": 5,
   "metadata": {},
   "outputs": [
    {
     "name": "stdout",
     "output_type": "stream",
     "text": [
      "<class 'pandas.core.frame.DataFrame'>\n",
      "RangeIndex: 22044208 entries, 0 to 22044207\n",
      "Data columns (total 42 columns):\n",
      " #   Column     Dtype  \n",
      "---  ------     -----  \n",
      " 0   사용연료       object \n",
      " 1   주행거리       object \n",
      " 2   차명         object \n",
      " 3   차량번호       object \n",
      " 4   차대번호       object \n",
      " 5   차종         object \n",
      " 6   차량연식       int64  \n",
      " 7   엔진형식       object \n",
      " 8   검사방법       object \n",
      " 9   검사일자       int64  \n",
      " 10  검사종류       object \n",
      " 11  검사판정시각     object \n",
      " 12  검사판정       object \n",
      " 13  산소값        float64\n",
      " 14  이산화탄소값     float64\n",
      " 15  무부하매연판정1   object \n",
      " 16  무부하매연판정2   object \n",
      " 17  무부하매연판정3   object \n",
      " 18  무부하매연판정4   object \n",
      " 19  무부하매연판정5   object \n",
      " 20  무부하매연판정6   object \n",
      " 21  무부하매연허용치1  float64\n",
      " 22  무부하매연허용치2  float64\n",
      " 23  무부하매연허용치3  float64\n",
      " 24  무부하매연허용치4  float64\n",
      " 25  무부하매연허용치5  float64\n",
      " 26  무부하매연허용치6  float64\n",
      " 27  무부하매연측정치1  float64\n",
      " 28  무부하매연측정치2  float64\n",
      " 29  무부하매연측정치3  float64\n",
      " 30  무부하매연측정치4  float64\n",
      " 31  무부하매연측정치5  float64\n",
      " 32  무부하매연측정치6  float64\n",
      " 33  차량용도       object \n",
      " 34  최대출력허용치    float64\n",
      " 35  최대출력측정값    float64\n",
      " 36  검사접수번호     object \n",
      " 37  검사소명       object \n",
      " 38  재검사기간      object \n",
      " 39  정기정밀       object \n",
      " 40  검사 검사소코드   object \n",
      " 41  검사유효기간     float64\n",
      "dtypes: float64(17), int64(2), object(23)\n",
      "memory usage: 6.9+ GB\n"
     ]
    }
   ],
   "source": [
    "# about 4m 21s\n",
    "file_name = '[ODS]정기&정밀검사(최신검사만)(2022.12.28).csv'\n",
    "tin = pd.read_csv(os.path.join(ods_fold, file_name), low_memory=False)\n",
    "tin.info()"
   ]
  },
  {
   "cell_type": "code",
   "execution_count": 6,
   "metadata": {},
   "outputs": [
    {
     "data": {
      "text/plain": [
       "Index(['사용연료', '주행거리', '차명', '차량번호', '차대번호', '차종', '차량연식', '엔진형식', '검사방법',\n",
       "       '검사일자', '검사종류', '검사판정시각', '검사판정', '산소값', '이산화탄소값', '무부하매연판정1',\n",
       "       '무부하매연판정2', '무부하매연판정3', '무부하매연판정4', '무부하매연판정5', '무부하매연판정6', '무부하매연허용치1',\n",
       "       '무부하매연허용치2', '무부하매연허용치3', '무부하매연허용치4', '무부하매연허용치5', '무부하매연허용치6',\n",
       "       '무부하매연측정치1', '무부하매연측정치2', '무부하매연측정치3', '무부하매연측정치4', '무부하매연측정치5',\n",
       "       '무부하매연측정치6', '차량용도', '최대출력허용치', '최대출력측정값', '검사접수번호', '검사소명', '재검사기간',\n",
       "       '정기정밀', '검사 검사소코드', '검사유효기간'],\n",
       "      dtype='object')"
      ]
     },
     "execution_count": 6,
     "metadata": {},
     "output_type": "execute_result"
    }
   ],
   "source": [
    "tin.columns"
   ]
  },
  {
   "attachments": {},
   "cell_type": "markdown",
   "metadata": {},
   "source": [
    "## 최근 3년 검사 데이터 추출"
   ]
  },
  {
   "cell_type": "code",
   "execution_count": 47,
   "metadata": {},
   "outputs": [
    {
     "data": {
      "text/plain": [
       "count   22044208.00\n",
       "mean    20213557.70\n",
       "std         8679.78\n",
       "min     20190102.00\n",
       "25%     20210427.00\n",
       "50%     20211222.00\n",
       "75%     20220614.00\n",
       "max     20230107.00\n",
       "Name: 검사일자, dtype: float64"
      ]
     },
     "execution_count": 47,
     "metadata": {},
     "output_type": "execute_result"
    }
   ],
   "source": [
    "tin['검사일자'].describe()"
   ]
  },
  {
   "cell_type": "code",
   "execution_count": 50,
   "metadata": {},
   "outputs": [
    {
     "data": {
      "text/plain": [
       "(20547872, 42)"
      ]
     },
     "execution_count": 50,
     "metadata": {},
     "output_type": "execute_result"
    }
   ],
   "source": [
    "tin1 = tin[(tin['검사일자'] >= 20200101) & (tin['검사일자'] <= 20221231)]\n",
    "tin1.shape"
   ]
  },
  {
   "cell_type": "code",
   "execution_count": 51,
   "metadata": {},
   "outputs": [
    {
     "data": {
      "text/plain": [
       "count   20547872.00\n",
       "mean    20214858.24\n",
       "std         6580.17\n",
       "min     20200102.00\n",
       "25%     20210611.00\n",
       "50%     20220113.00\n",
       "75%     20220620.00\n",
       "max     20221231.00\n",
       "Name: 검사일자, dtype: float64"
      ]
     },
     "execution_count": 51,
     "metadata": {},
     "output_type": "execute_result"
    }
   ],
   "source": [
    "tin1['검사일자'].describe()"
   ]
  },
  {
   "cell_type": "code",
   "execution_count": 27,
   "metadata": {},
   "outputs": [
    {
     "data": {
      "text/plain": [
       "경유             1152697\n",
       "휘발유             332313\n",
       "LPG(액화석유가스)      26089\n",
       "NaN                 71\n",
       "기타연료                39\n",
       "CNG(압축천연가스)          1\n",
       "알코올                  1\n",
       "Name: 연료, dtype: int64"
      ]
     },
     "execution_count": 27,
     "metadata": {},
     "output_type": "execute_result"
    }
   ],
   "source": [
    "g4['연료'].value_counts(dropna=False)"
   ]
  },
  {
   "cell_type": "code",
   "execution_count": 28,
   "metadata": {},
   "outputs": [
    {
     "data": {
      "text/plain": [
       "경유             1124188\n",
       "휘발유              30040\n",
       "LPG(액화석유가스)        436\n",
       "NaN                 29\n",
       "기타연료                25\n",
       "CNG(압축천연가스)          5\n",
       "알코올                  1\n",
       "Name: 연료, dtype: int64"
      ]
     },
     "execution_count": 28,
     "metadata": {},
     "output_type": "execute_result"
    }
   ],
   "source": [
    "g5['연료'].value_counts(dropna=False)"
   ]
  },
  {
   "cell_type": "code",
   "execution_count": 7,
   "metadata": {},
   "outputs": [
    {
     "data": {
      "text/plain": [
       "(1511251, 49)"
      ]
     },
     "execution_count": 7,
     "metadata": {},
     "output_type": "execute_result"
    }
   ],
   "source": [
    "g4.shape"
   ]
  },
  {
   "cell_type": "code",
   "execution_count": 8,
   "metadata": {},
   "outputs": [
    {
     "data": {
      "text/plain": [
       "(1511211, 49)"
      ]
     },
     "execution_count": 8,
     "metadata": {},
     "output_type": "execute_result"
    }
   ],
   "source": [
    "g4 = g4.sort_values(['최초등록일자', '배출가스검사유효일자'], ascending=[False, False]).drop_duplicates('차대번호').reset_index(drop=True)\n",
    "g4.shape"
   ]
  },
  {
   "cell_type": "code",
   "execution_count": 9,
   "metadata": {},
   "outputs": [
    {
     "data": {
      "text/plain": [
       "(1154762, 49)"
      ]
     },
     "execution_count": 9,
     "metadata": {},
     "output_type": "execute_result"
    }
   ],
   "source": [
    "g5.shape"
   ]
  },
  {
   "cell_type": "code",
   "execution_count": 10,
   "metadata": {},
   "outputs": [
    {
     "data": {
      "text/plain": [
       "(1154724, 49)"
      ]
     },
     "execution_count": 10,
     "metadata": {},
     "output_type": "execute_result"
    }
   ],
   "source": [
    "g5 = g5.sort_values(['최초등록일자', '배출가스검사유효일자'], ascending=[False, False]).drop_duplicates('차대번호').reset_index(drop=True)\n",
    "g5.shape"
   ]
  },
  {
   "cell_type": "code",
   "execution_count": 52,
   "metadata": {},
   "outputs": [
    {
     "data": {
      "text/plain": [
       "(1511211, 90)"
      ]
     },
     "execution_count": 52,
     "metadata": {},
     "output_type": "execute_result"
    }
   ],
   "source": [
    "# about 47s\n",
    "g4_tin = g4.merge(tin1, on='차대번호', how='left')\n",
    "g4_tin.shape"
   ]
  },
  {
   "cell_type": "code",
   "execution_count": 53,
   "metadata": {},
   "outputs": [
    {
     "data": {
      "text/plain": [
       "(1154724, 90)"
      ]
     },
     "execution_count": 53,
     "metadata": {},
     "output_type": "execute_result"
    }
   ],
   "source": [
    "# about 43s\n",
    "g5_tin = g5.merge(tin1, on='차대번호', how='left')\n",
    "g5_tin.shape"
   ]
  },
  {
   "cell_type": "code",
   "execution_count": 41,
   "metadata": {},
   "outputs": [
    {
     "data": {
      "text/plain": [
       "array([nan, '부하검사(KD-147)', '부하검사(LUG DOWN)', '무부하검사(급가속)',\n",
       "       '부하검사(ASM-Idling)', '무부하검사(TSI)', '무부하검사(정지가동)'], dtype=object)"
      ]
     },
     "execution_count": 41,
     "metadata": {},
     "output_type": "execute_result"
    }
   ],
   "source": [
    "g4_tin['검사방법'].unique()"
   ]
  },
  {
   "cell_type": "code",
   "execution_count": 42,
   "metadata": {},
   "outputs": [
    {
     "data": {
      "text/plain": [
       "array([nan, '2부재검사(종합)', '종합검사(경과)', '종합검사', '정기검사', '정기(경과)검사',\n",
       "       '재검사(2부재검사)', '재검사(1부재검사)', '1부재검사(종합)'], dtype=object)"
      ]
     },
     "execution_count": 42,
     "metadata": {},
     "output_type": "execute_result"
    }
   ],
   "source": [
    "g4_tin['검사종류'].unique()"
   ]
  },
  {
   "cell_type": "code",
   "execution_count": 43,
   "metadata": {},
   "outputs": [
    {
     "data": {
      "text/plain": [
       "array([nan, '부하검사(KD-147)', '무부하검사(급가속)', '부하검사(LUG DOWN)', '무부하검사(TSI)',\n",
       "       '부하검사(ASM-Idling)', '무부하검사(정지가동)'], dtype=object)"
      ]
     },
     "execution_count": 43,
     "metadata": {},
     "output_type": "execute_result"
    }
   ],
   "source": [
    "g5_tin['검사방법'].unique()"
   ]
  },
  {
   "cell_type": "code",
   "execution_count": 44,
   "metadata": {},
   "outputs": [
    {
     "data": {
      "text/plain": [
       "array([nan, '종합검사', '2부재검사(종합)', '정기검사', '종합검사(경과)', '재검사(2부재검사)',\n",
       "       '재검사(1부재검사)', '1부재검사(종합)', '정기(경과)검사'], dtype=object)"
      ]
     },
     "execution_count": 44,
     "metadata": {},
     "output_type": "execute_result"
    }
   ],
   "source": [
    "g5_tin['검사종류'].unique()"
   ]
  },
  {
   "cell_type": "code",
   "execution_count": 54,
   "metadata": {},
   "outputs": [],
   "source": [
    "view_cols = ['검사방법', '검사일자', '검사종류', '검사판정시각', '검사판정', \n",
    "'무부하매연판정1', '무부하매연측정치1',\n",
    "'무부하매연판정2', '무부하매연측정치2',\n",
    "'무부하매연판정3', '무부하매연측정치3',\n",
    "'무부하매연판정4', '무부하매연측정치4',\n",
    "'무부하매연판정5', '무부하매연측정치5',\n",
    "'무부하매연판정6', '무부하매연측정치6',]"
   ]
  },
  {
   "cell_type": "code",
   "execution_count": 55,
   "metadata": {},
   "outputs": [
    {
     "data": {
      "text/html": [
       "<div>\n",
       "<style scoped>\n",
       "    .dataframe tbody tr th:only-of-type {\n",
       "        vertical-align: middle;\n",
       "    }\n",
       "\n",
       "    .dataframe tbody tr th {\n",
       "        vertical-align: top;\n",
       "    }\n",
       "\n",
       "    .dataframe thead th {\n",
       "        text-align: right;\n",
       "    }\n",
       "</style>\n",
       "<table border=\"1\" class=\"dataframe\">\n",
       "  <thead>\n",
       "    <tr style=\"text-align: right;\">\n",
       "      <th></th>\n",
       "      <th>index</th>\n",
       "      <th>0</th>\n",
       "    </tr>\n",
       "  </thead>\n",
       "  <tbody>\n",
       "    <tr>\n",
       "      <th>0</th>\n",
       "      <td>검사방법</td>\n",
       "      <td>0</td>\n",
       "    </tr>\n",
       "    <tr>\n",
       "      <th>1</th>\n",
       "      <td>검사일자</td>\n",
       "      <td>0</td>\n",
       "    </tr>\n",
       "    <tr>\n",
       "      <th>2</th>\n",
       "      <td>검사종류</td>\n",
       "      <td>0</td>\n",
       "    </tr>\n",
       "    <tr>\n",
       "      <th>3</th>\n",
       "      <td>검사판정시각</td>\n",
       "      <td>0</td>\n",
       "    </tr>\n",
       "    <tr>\n",
       "      <th>4</th>\n",
       "      <td>검사판정</td>\n",
       "      <td>0</td>\n",
       "    </tr>\n",
       "    <tr>\n",
       "      <th>5</th>\n",
       "      <td>무부하매연판정1</td>\n",
       "      <td>0</td>\n",
       "    </tr>\n",
       "    <tr>\n",
       "      <th>6</th>\n",
       "      <td>무부하매연측정치1</td>\n",
       "      <td>0</td>\n",
       "    </tr>\n",
       "    <tr>\n",
       "      <th>7</th>\n",
       "      <td>무부하매연판정2</td>\n",
       "      <td>0</td>\n",
       "    </tr>\n",
       "    <tr>\n",
       "      <th>8</th>\n",
       "      <td>무부하매연측정치2</td>\n",
       "      <td>0</td>\n",
       "    </tr>\n",
       "    <tr>\n",
       "      <th>9</th>\n",
       "      <td>무부하매연판정3</td>\n",
       "      <td>0</td>\n",
       "    </tr>\n",
       "    <tr>\n",
       "      <th>10</th>\n",
       "      <td>무부하매연측정치3</td>\n",
       "      <td>0</td>\n",
       "    </tr>\n",
       "    <tr>\n",
       "      <th>11</th>\n",
       "      <td>무부하매연판정4</td>\n",
       "      <td>0</td>\n",
       "    </tr>\n",
       "    <tr>\n",
       "      <th>12</th>\n",
       "      <td>무부하매연측정치4</td>\n",
       "      <td>0</td>\n",
       "    </tr>\n",
       "    <tr>\n",
       "      <th>13</th>\n",
       "      <td>무부하매연판정5</td>\n",
       "      <td>0</td>\n",
       "    </tr>\n",
       "    <tr>\n",
       "      <th>14</th>\n",
       "      <td>무부하매연측정치5</td>\n",
       "      <td>0</td>\n",
       "    </tr>\n",
       "    <tr>\n",
       "      <th>15</th>\n",
       "      <td>무부하매연판정6</td>\n",
       "      <td>0</td>\n",
       "    </tr>\n",
       "    <tr>\n",
       "      <th>16</th>\n",
       "      <td>무부하매연측정치6</td>\n",
       "      <td>0</td>\n",
       "    </tr>\n",
       "  </tbody>\n",
       "</table>\n",
       "</div>"
      ],
      "text/plain": [
       "        index  0\n",
       "0        검사방법  0\n",
       "1        검사일자  0\n",
       "2        검사종류  0\n",
       "3      검사판정시각  0\n",
       "4        검사판정  0\n",
       "5    무부하매연판정1  0\n",
       "6   무부하매연측정치1  0\n",
       "7    무부하매연판정2  0\n",
       "8   무부하매연측정치2  0\n",
       "9    무부하매연판정3  0\n",
       "10  무부하매연측정치3  0\n",
       "11   무부하매연판정4  0\n",
       "12  무부하매연측정치4  0\n",
       "13   무부하매연판정5  0\n",
       "14  무부하매연측정치5  0\n",
       "15   무부하매연판정6  0\n",
       "16  무부하매연측정치6  0"
      ]
     },
     "execution_count": 55,
     "metadata": {},
     "output_type": "execute_result"
    }
   ],
   "source": [
    "g4_tin[g4_tin['연료'] == '알코올'].reset_index(drop=True)[view_cols].isnull().sum().reset_index()"
   ]
  },
  {
   "cell_type": "code",
   "execution_count": 56,
   "metadata": {},
   "outputs": [],
   "source": [
    "g4_miss = pd.DataFrame({'컬럼명':view_cols})\n",
    "for one in g4_tin['연료'].unique():\n",
    "    temp = g4_tin[g4_tin['연료'] == one].reset_index(drop=True)[view_cols].isnull().sum().reset_index()\n",
    "    temp.columns = ['컬럼명', f'4등급_{one}']\n",
    "    g4_miss = g4_miss.merge(temp, on='컬럼명', how='left')"
   ]
  },
  {
   "cell_type": "code",
   "execution_count": 57,
   "metadata": {},
   "outputs": [
    {
     "data": {
      "text/html": [
       "<div>\n",
       "<style scoped>\n",
       "    .dataframe tbody tr th:only-of-type {\n",
       "        vertical-align: middle;\n",
       "    }\n",
       "\n",
       "    .dataframe tbody tr th {\n",
       "        vertical-align: top;\n",
       "    }\n",
       "\n",
       "    .dataframe thead th {\n",
       "        text-align: right;\n",
       "    }\n",
       "</style>\n",
       "<table border=\"1\" class=\"dataframe\">\n",
       "  <thead>\n",
       "    <tr style=\"text-align: right;\">\n",
       "      <th></th>\n",
       "      <th>컬럼명</th>\n",
       "      <th>4등급_경유</th>\n",
       "      <th>4등급_휘발유</th>\n",
       "      <th>4등급_nan</th>\n",
       "      <th>4등급_기타연료</th>\n",
       "      <th>4등급_LPG(액화석유가스)</th>\n",
       "      <th>4등급_CNG(압축천연가스)</th>\n",
       "      <th>4등급_알코올</th>\n",
       "    </tr>\n",
       "  </thead>\n",
       "  <tbody>\n",
       "    <tr>\n",
       "      <th>0</th>\n",
       "      <td>검사방법</td>\n",
       "      <td>44043</td>\n",
       "      <td>275254</td>\n",
       "      <td>0.00</td>\n",
       "      <td>37</td>\n",
       "      <td>21761</td>\n",
       "      <td>0</td>\n",
       "      <td>0</td>\n",
       "    </tr>\n",
       "    <tr>\n",
       "      <th>1</th>\n",
       "      <td>검사일자</td>\n",
       "      <td>44043</td>\n",
       "      <td>275254</td>\n",
       "      <td>0.00</td>\n",
       "      <td>37</td>\n",
       "      <td>21761</td>\n",
       "      <td>0</td>\n",
       "      <td>0</td>\n",
       "    </tr>\n",
       "    <tr>\n",
       "      <th>2</th>\n",
       "      <td>검사종류</td>\n",
       "      <td>44043</td>\n",
       "      <td>275254</td>\n",
       "      <td>0.00</td>\n",
       "      <td>37</td>\n",
       "      <td>21761</td>\n",
       "      <td>0</td>\n",
       "      <td>0</td>\n",
       "    </tr>\n",
       "    <tr>\n",
       "      <th>3</th>\n",
       "      <td>검사판정시각</td>\n",
       "      <td>52620</td>\n",
       "      <td>275825</td>\n",
       "      <td>0.00</td>\n",
       "      <td>37</td>\n",
       "      <td>21806</td>\n",
       "      <td>0</td>\n",
       "      <td>0</td>\n",
       "    </tr>\n",
       "    <tr>\n",
       "      <th>4</th>\n",
       "      <td>검사판정</td>\n",
       "      <td>44043</td>\n",
       "      <td>275254</td>\n",
       "      <td>0.00</td>\n",
       "      <td>37</td>\n",
       "      <td>21761</td>\n",
       "      <td>0</td>\n",
       "      <td>0</td>\n",
       "    </tr>\n",
       "    <tr>\n",
       "      <th>5</th>\n",
       "      <td>무부하매연판정1</td>\n",
       "      <td>52625</td>\n",
       "      <td>276357</td>\n",
       "      <td>0.00</td>\n",
       "      <td>38</td>\n",
       "      <td>21859</td>\n",
       "      <td>0</td>\n",
       "      <td>0</td>\n",
       "    </tr>\n",
       "    <tr>\n",
       "      <th>6</th>\n",
       "      <td>무부하매연측정치1</td>\n",
       "      <td>52620</td>\n",
       "      <td>276357</td>\n",
       "      <td>0.00</td>\n",
       "      <td>38</td>\n",
       "      <td>21859</td>\n",
       "      <td>0</td>\n",
       "      <td>0</td>\n",
       "    </tr>\n",
       "    <tr>\n",
       "      <th>7</th>\n",
       "      <td>무부하매연판정2</td>\n",
       "      <td>1108848</td>\n",
       "      <td>276368</td>\n",
       "      <td>0.00</td>\n",
       "      <td>38</td>\n",
       "      <td>21859</td>\n",
       "      <td>1</td>\n",
       "      <td>0</td>\n",
       "    </tr>\n",
       "    <tr>\n",
       "      <th>8</th>\n",
       "      <td>무부하매연측정치2</td>\n",
       "      <td>794724</td>\n",
       "      <td>276366</td>\n",
       "      <td>0.00</td>\n",
       "      <td>38</td>\n",
       "      <td>21859</td>\n",
       "      <td>1</td>\n",
       "      <td>0</td>\n",
       "    </tr>\n",
       "    <tr>\n",
       "      <th>9</th>\n",
       "      <td>무부하매연판정3</td>\n",
       "      <td>1109728</td>\n",
       "      <td>276368</td>\n",
       "      <td>0.00</td>\n",
       "      <td>38</td>\n",
       "      <td>21859</td>\n",
       "      <td>1</td>\n",
       "      <td>0</td>\n",
       "    </tr>\n",
       "    <tr>\n",
       "      <th>10</th>\n",
       "      <td>무부하매연측정치3</td>\n",
       "      <td>829069</td>\n",
       "      <td>276366</td>\n",
       "      <td>0.00</td>\n",
       "      <td>38</td>\n",
       "      <td>21859</td>\n",
       "      <td>1</td>\n",
       "      <td>0</td>\n",
       "    </tr>\n",
       "    <tr>\n",
       "      <th>11</th>\n",
       "      <td>무부하매연판정4</td>\n",
       "      <td>1109730</td>\n",
       "      <td>276843</td>\n",
       "      <td>0.00</td>\n",
       "      <td>38</td>\n",
       "      <td>22039</td>\n",
       "      <td>1</td>\n",
       "      <td>0</td>\n",
       "    </tr>\n",
       "    <tr>\n",
       "      <th>12</th>\n",
       "      <td>무부하매연측정치4</td>\n",
       "      <td>829071</td>\n",
       "      <td>276839</td>\n",
       "      <td>0.00</td>\n",
       "      <td>38</td>\n",
       "      <td>22039</td>\n",
       "      <td>1</td>\n",
       "      <td>0</td>\n",
       "    </tr>\n",
       "    <tr>\n",
       "      <th>13</th>\n",
       "      <td>무부하매연판정5</td>\n",
       "      <td>1109730</td>\n",
       "      <td>276843</td>\n",
       "      <td>0.00</td>\n",
       "      <td>38</td>\n",
       "      <td>22039</td>\n",
       "      <td>1</td>\n",
       "      <td>0</td>\n",
       "    </tr>\n",
       "    <tr>\n",
       "      <th>14</th>\n",
       "      <td>무부하매연측정치5</td>\n",
       "      <td>829071</td>\n",
       "      <td>276839</td>\n",
       "      <td>0.00</td>\n",
       "      <td>38</td>\n",
       "      <td>22039</td>\n",
       "      <td>1</td>\n",
       "      <td>0</td>\n",
       "    </tr>\n",
       "    <tr>\n",
       "      <th>15</th>\n",
       "      <td>무부하매연판정6</td>\n",
       "      <td>1152693</td>\n",
       "      <td>276843</td>\n",
       "      <td>0.00</td>\n",
       "      <td>38</td>\n",
       "      <td>22039</td>\n",
       "      <td>1</td>\n",
       "      <td>0</td>\n",
       "    </tr>\n",
       "    <tr>\n",
       "      <th>16</th>\n",
       "      <td>무부하매연측정치6</td>\n",
       "      <td>860555</td>\n",
       "      <td>276839</td>\n",
       "      <td>0.00</td>\n",
       "      <td>38</td>\n",
       "      <td>22039</td>\n",
       "      <td>1</td>\n",
       "      <td>0</td>\n",
       "    </tr>\n",
       "  </tbody>\n",
       "</table>\n",
       "</div>"
      ],
      "text/plain": [
       "          컬럼명   4등급_경유  4등급_휘발유  4등급_nan  4등급_기타연료  4등급_LPG(액화석유가스)  \\\n",
       "0        검사방법    44043   275254     0.00        37            21761   \n",
       "1        검사일자    44043   275254     0.00        37            21761   \n",
       "2        검사종류    44043   275254     0.00        37            21761   \n",
       "3      검사판정시각    52620   275825     0.00        37            21806   \n",
       "4        검사판정    44043   275254     0.00        37            21761   \n",
       "5    무부하매연판정1    52625   276357     0.00        38            21859   \n",
       "6   무부하매연측정치1    52620   276357     0.00        38            21859   \n",
       "7    무부하매연판정2  1108848   276368     0.00        38            21859   \n",
       "8   무부하매연측정치2   794724   276366     0.00        38            21859   \n",
       "9    무부하매연판정3  1109728   276368     0.00        38            21859   \n",
       "10  무부하매연측정치3   829069   276366     0.00        38            21859   \n",
       "11   무부하매연판정4  1109730   276843     0.00        38            22039   \n",
       "12  무부하매연측정치4   829071   276839     0.00        38            22039   \n",
       "13   무부하매연판정5  1109730   276843     0.00        38            22039   \n",
       "14  무부하매연측정치5   829071   276839     0.00        38            22039   \n",
       "15   무부하매연판정6  1152693   276843     0.00        38            22039   \n",
       "16  무부하매연측정치6   860555   276839     0.00        38            22039   \n",
       "\n",
       "    4등급_CNG(압축천연가스)  4등급_알코올  \n",
       "0                 0        0  \n",
       "1                 0        0  \n",
       "2                 0        0  \n",
       "3                 0        0  \n",
       "4                 0        0  \n",
       "5                 0        0  \n",
       "6                 0        0  \n",
       "7                 1        0  \n",
       "8                 1        0  \n",
       "9                 1        0  \n",
       "10                1        0  \n",
       "11                1        0  \n",
       "12                1        0  \n",
       "13                1        0  \n",
       "14                1        0  \n",
       "15                1        0  \n",
       "16                1        0  "
      ]
     },
     "execution_count": 57,
     "metadata": {},
     "output_type": "execute_result"
    }
   ],
   "source": [
    "g4_miss"
   ]
  },
  {
   "cell_type": "code",
   "execution_count": 58,
   "metadata": {},
   "outputs": [],
   "source": [
    "g5_miss = pd.DataFrame({'컬럼명':view_cols})\n",
    "for one in g5_tin['연료'].unique():\n",
    "    temp = g5_tin[g5_tin['연료'] == one].reset_index(drop=True)[view_cols].isnull().sum().reset_index()\n",
    "    temp.columns = ['컬럼명', f'5등급_{one}']\n",
    "    g5_miss = g5_miss.merge(temp, on='컬럼명', how='left')"
   ]
  },
  {
   "cell_type": "code",
   "execution_count": 59,
   "metadata": {},
   "outputs": [
    {
     "data": {
      "text/html": [
       "<div>\n",
       "<style scoped>\n",
       "    .dataframe tbody tr th:only-of-type {\n",
       "        vertical-align: middle;\n",
       "    }\n",
       "\n",
       "    .dataframe tbody tr th {\n",
       "        vertical-align: top;\n",
       "    }\n",
       "\n",
       "    .dataframe thead th {\n",
       "        text-align: right;\n",
       "    }\n",
       "</style>\n",
       "<table border=\"1\" class=\"dataframe\">\n",
       "  <thead>\n",
       "    <tr style=\"text-align: right;\">\n",
       "      <th></th>\n",
       "      <th>컬럼명</th>\n",
       "      <th>5등급_경유</th>\n",
       "      <th>5등급_휘발유</th>\n",
       "      <th>5등급_CNG(압축천연가스)</th>\n",
       "      <th>5등급_LPG(액화석유가스)</th>\n",
       "      <th>5등급_nan</th>\n",
       "      <th>5등급_기타연료</th>\n",
       "      <th>5등급_알코올</th>\n",
       "    </tr>\n",
       "  </thead>\n",
       "  <tbody>\n",
       "    <tr>\n",
       "      <th>0</th>\n",
       "      <td>검사방법</td>\n",
       "      <td>417776</td>\n",
       "      <td>29670</td>\n",
       "      <td>3</td>\n",
       "      <td>433</td>\n",
       "      <td>0.00</td>\n",
       "      <td>25</td>\n",
       "      <td>1</td>\n",
       "    </tr>\n",
       "    <tr>\n",
       "      <th>1</th>\n",
       "      <td>검사일자</td>\n",
       "      <td>417776</td>\n",
       "      <td>29670</td>\n",
       "      <td>3</td>\n",
       "      <td>433</td>\n",
       "      <td>0.00</td>\n",
       "      <td>25</td>\n",
       "      <td>1</td>\n",
       "    </tr>\n",
       "    <tr>\n",
       "      <th>2</th>\n",
       "      <td>검사종류</td>\n",
       "      <td>417776</td>\n",
       "      <td>29670</td>\n",
       "      <td>3</td>\n",
       "      <td>433</td>\n",
       "      <td>0.00</td>\n",
       "      <td>25</td>\n",
       "      <td>1</td>\n",
       "    </tr>\n",
       "    <tr>\n",
       "      <th>3</th>\n",
       "      <td>검사판정시각</td>\n",
       "      <td>423727</td>\n",
       "      <td>29674</td>\n",
       "      <td>3</td>\n",
       "      <td>433</td>\n",
       "      <td>0.00</td>\n",
       "      <td>25</td>\n",
       "      <td>1</td>\n",
       "    </tr>\n",
       "    <tr>\n",
       "      <th>4</th>\n",
       "      <td>검사판정</td>\n",
       "      <td>417776</td>\n",
       "      <td>29670</td>\n",
       "      <td>3</td>\n",
       "      <td>433</td>\n",
       "      <td>0.00</td>\n",
       "      <td>25</td>\n",
       "      <td>1</td>\n",
       "    </tr>\n",
       "    <tr>\n",
       "      <th>5</th>\n",
       "      <td>무부하매연판정1</td>\n",
       "      <td>423936</td>\n",
       "      <td>29681</td>\n",
       "      <td>3</td>\n",
       "      <td>433</td>\n",
       "      <td>0.00</td>\n",
       "      <td>25</td>\n",
       "      <td>1</td>\n",
       "    </tr>\n",
       "    <tr>\n",
       "      <th>6</th>\n",
       "      <td>무부하매연측정치1</td>\n",
       "      <td>423927</td>\n",
       "      <td>29681</td>\n",
       "      <td>3</td>\n",
       "      <td>433</td>\n",
       "      <td>0.00</td>\n",
       "      <td>25</td>\n",
       "      <td>1</td>\n",
       "    </tr>\n",
       "    <tr>\n",
       "      <th>7</th>\n",
       "      <td>무부하매연판정2</td>\n",
       "      <td>1017450</td>\n",
       "      <td>29683</td>\n",
       "      <td>3</td>\n",
       "      <td>433</td>\n",
       "      <td>0.00</td>\n",
       "      <td>25</td>\n",
       "      <td>1</td>\n",
       "    </tr>\n",
       "    <tr>\n",
       "      <th>8</th>\n",
       "      <td>무부하매연측정치2</td>\n",
       "      <td>890184</td>\n",
       "      <td>29683</td>\n",
       "      <td>3</td>\n",
       "      <td>433</td>\n",
       "      <td>0.00</td>\n",
       "      <td>25</td>\n",
       "      <td>1</td>\n",
       "    </tr>\n",
       "    <tr>\n",
       "      <th>9</th>\n",
       "      <td>무부하매연판정3</td>\n",
       "      <td>1017776</td>\n",
       "      <td>29683</td>\n",
       "      <td>3</td>\n",
       "      <td>433</td>\n",
       "      <td>0.00</td>\n",
       "      <td>25</td>\n",
       "      <td>1</td>\n",
       "    </tr>\n",
       "    <tr>\n",
       "      <th>10</th>\n",
       "      <td>무부하매연측정치3</td>\n",
       "      <td>909619</td>\n",
       "      <td>29683</td>\n",
       "      <td>3</td>\n",
       "      <td>433</td>\n",
       "      <td>0.00</td>\n",
       "      <td>25</td>\n",
       "      <td>1</td>\n",
       "    </tr>\n",
       "    <tr>\n",
       "      <th>11</th>\n",
       "      <td>무부하매연판정4</td>\n",
       "      <td>1018119</td>\n",
       "      <td>29692</td>\n",
       "      <td>3</td>\n",
       "      <td>435</td>\n",
       "      <td>0.00</td>\n",
       "      <td>25</td>\n",
       "      <td>1</td>\n",
       "    </tr>\n",
       "    <tr>\n",
       "      <th>12</th>\n",
       "      <td>무부하매연측정치4</td>\n",
       "      <td>909961</td>\n",
       "      <td>29687</td>\n",
       "      <td>3</td>\n",
       "      <td>435</td>\n",
       "      <td>0.00</td>\n",
       "      <td>25</td>\n",
       "      <td>1</td>\n",
       "    </tr>\n",
       "    <tr>\n",
       "      <th>13</th>\n",
       "      <td>무부하매연판정5</td>\n",
       "      <td>1018119</td>\n",
       "      <td>29692</td>\n",
       "      <td>3</td>\n",
       "      <td>435</td>\n",
       "      <td>0.00</td>\n",
       "      <td>25</td>\n",
       "      <td>1</td>\n",
       "    </tr>\n",
       "    <tr>\n",
       "      <th>14</th>\n",
       "      <td>무부하매연측정치5</td>\n",
       "      <td>909961</td>\n",
       "      <td>29687</td>\n",
       "      <td>3</td>\n",
       "      <td>435</td>\n",
       "      <td>0.00</td>\n",
       "      <td>25</td>\n",
       "      <td>1</td>\n",
       "    </tr>\n",
       "    <tr>\n",
       "      <th>15</th>\n",
       "      <td>무부하매연판정6</td>\n",
       "      <td>1115336</td>\n",
       "      <td>29692</td>\n",
       "      <td>5</td>\n",
       "      <td>435</td>\n",
       "      <td>0.00</td>\n",
       "      <td>25</td>\n",
       "      <td>1</td>\n",
       "    </tr>\n",
       "    <tr>\n",
       "      <th>16</th>\n",
       "      <td>무부하매연측정치6</td>\n",
       "      <td>982782</td>\n",
       "      <td>29687</td>\n",
       "      <td>4</td>\n",
       "      <td>435</td>\n",
       "      <td>0.00</td>\n",
       "      <td>25</td>\n",
       "      <td>1</td>\n",
       "    </tr>\n",
       "  </tbody>\n",
       "</table>\n",
       "</div>"
      ],
      "text/plain": [
       "          컬럼명   5등급_경유  5등급_휘발유  5등급_CNG(압축천연가스)  5등급_LPG(액화석유가스)  5등급_nan  \\\n",
       "0        검사방법   417776    29670                3              433     0.00   \n",
       "1        검사일자   417776    29670                3              433     0.00   \n",
       "2        검사종류   417776    29670                3              433     0.00   \n",
       "3      검사판정시각   423727    29674                3              433     0.00   \n",
       "4        검사판정   417776    29670                3              433     0.00   \n",
       "5    무부하매연판정1   423936    29681                3              433     0.00   \n",
       "6   무부하매연측정치1   423927    29681                3              433     0.00   \n",
       "7    무부하매연판정2  1017450    29683                3              433     0.00   \n",
       "8   무부하매연측정치2   890184    29683                3              433     0.00   \n",
       "9    무부하매연판정3  1017776    29683                3              433     0.00   \n",
       "10  무부하매연측정치3   909619    29683                3              433     0.00   \n",
       "11   무부하매연판정4  1018119    29692                3              435     0.00   \n",
       "12  무부하매연측정치4   909961    29687                3              435     0.00   \n",
       "13   무부하매연판정5  1018119    29692                3              435     0.00   \n",
       "14  무부하매연측정치5   909961    29687                3              435     0.00   \n",
       "15   무부하매연판정6  1115336    29692                5              435     0.00   \n",
       "16  무부하매연측정치6   982782    29687                4              435     0.00   \n",
       "\n",
       "    5등급_기타연료  5등급_알코올  \n",
       "0         25        1  \n",
       "1         25        1  \n",
       "2         25        1  \n",
       "3         25        1  \n",
       "4         25        1  \n",
       "5         25        1  \n",
       "6         25        1  \n",
       "7         25        1  \n",
       "8         25        1  \n",
       "9         25        1  \n",
       "10        25        1  \n",
       "11        25        1  \n",
       "12        25        1  \n",
       "13        25        1  \n",
       "14        25        1  \n",
       "15        25        1  \n",
       "16        25        1  "
      ]
     },
     "execution_count": 59,
     "metadata": {},
     "output_type": "execute_result"
    }
   ],
   "source": [
    "g5_miss"
   ]
  },
  {
   "cell_type": "code",
   "execution_count": 60,
   "metadata": {},
   "outputs": [
    {
     "data": {
      "text/html": [
       "<div>\n",
       "<style scoped>\n",
       "    .dataframe tbody tr th:only-of-type {\n",
       "        vertical-align: middle;\n",
       "    }\n",
       "\n",
       "    .dataframe tbody tr th {\n",
       "        vertical-align: top;\n",
       "    }\n",
       "\n",
       "    .dataframe thead th {\n",
       "        text-align: right;\n",
       "    }\n",
       "</style>\n",
       "<table border=\"1\" class=\"dataframe\">\n",
       "  <thead>\n",
       "    <tr style=\"text-align: right;\">\n",
       "      <th></th>\n",
       "      <th>컬럼명</th>\n",
       "      <th>4등급_경유</th>\n",
       "      <th>4등급_휘발유</th>\n",
       "      <th>4등급_nan</th>\n",
       "      <th>4등급_기타연료</th>\n",
       "      <th>4등급_LPG(액화석유가스)</th>\n",
       "      <th>4등급_CNG(압축천연가스)</th>\n",
       "      <th>4등급_알코올</th>\n",
       "      <th>5등급_경유</th>\n",
       "      <th>5등급_휘발유</th>\n",
       "      <th>5등급_CNG(압축천연가스)</th>\n",
       "      <th>5등급_LPG(액화석유가스)</th>\n",
       "      <th>5등급_nan</th>\n",
       "      <th>5등급_기타연료</th>\n",
       "      <th>5등급_알코올</th>\n",
       "    </tr>\n",
       "  </thead>\n",
       "  <tbody>\n",
       "    <tr>\n",
       "      <th>0</th>\n",
       "      <td>검사방법</td>\n",
       "      <td>44043</td>\n",
       "      <td>275254</td>\n",
       "      <td>0.00</td>\n",
       "      <td>37</td>\n",
       "      <td>21761</td>\n",
       "      <td>0</td>\n",
       "      <td>0</td>\n",
       "      <td>417776</td>\n",
       "      <td>29670</td>\n",
       "      <td>3</td>\n",
       "      <td>433</td>\n",
       "      <td>0.00</td>\n",
       "      <td>25</td>\n",
       "      <td>1</td>\n",
       "    </tr>\n",
       "    <tr>\n",
       "      <th>1</th>\n",
       "      <td>검사일자</td>\n",
       "      <td>44043</td>\n",
       "      <td>275254</td>\n",
       "      <td>0.00</td>\n",
       "      <td>37</td>\n",
       "      <td>21761</td>\n",
       "      <td>0</td>\n",
       "      <td>0</td>\n",
       "      <td>417776</td>\n",
       "      <td>29670</td>\n",
       "      <td>3</td>\n",
       "      <td>433</td>\n",
       "      <td>0.00</td>\n",
       "      <td>25</td>\n",
       "      <td>1</td>\n",
       "    </tr>\n",
       "    <tr>\n",
       "      <th>2</th>\n",
       "      <td>검사종류</td>\n",
       "      <td>44043</td>\n",
       "      <td>275254</td>\n",
       "      <td>0.00</td>\n",
       "      <td>37</td>\n",
       "      <td>21761</td>\n",
       "      <td>0</td>\n",
       "      <td>0</td>\n",
       "      <td>417776</td>\n",
       "      <td>29670</td>\n",
       "      <td>3</td>\n",
       "      <td>433</td>\n",
       "      <td>0.00</td>\n",
       "      <td>25</td>\n",
       "      <td>1</td>\n",
       "    </tr>\n",
       "    <tr>\n",
       "      <th>3</th>\n",
       "      <td>검사판정시각</td>\n",
       "      <td>52620</td>\n",
       "      <td>275825</td>\n",
       "      <td>0.00</td>\n",
       "      <td>37</td>\n",
       "      <td>21806</td>\n",
       "      <td>0</td>\n",
       "      <td>0</td>\n",
       "      <td>423727</td>\n",
       "      <td>29674</td>\n",
       "      <td>3</td>\n",
       "      <td>433</td>\n",
       "      <td>0.00</td>\n",
       "      <td>25</td>\n",
       "      <td>1</td>\n",
       "    </tr>\n",
       "    <tr>\n",
       "      <th>4</th>\n",
       "      <td>검사판정</td>\n",
       "      <td>44043</td>\n",
       "      <td>275254</td>\n",
       "      <td>0.00</td>\n",
       "      <td>37</td>\n",
       "      <td>21761</td>\n",
       "      <td>0</td>\n",
       "      <td>0</td>\n",
       "      <td>417776</td>\n",
       "      <td>29670</td>\n",
       "      <td>3</td>\n",
       "      <td>433</td>\n",
       "      <td>0.00</td>\n",
       "      <td>25</td>\n",
       "      <td>1</td>\n",
       "    </tr>\n",
       "    <tr>\n",
       "      <th>5</th>\n",
       "      <td>무부하매연판정1</td>\n",
       "      <td>52625</td>\n",
       "      <td>276357</td>\n",
       "      <td>0.00</td>\n",
       "      <td>38</td>\n",
       "      <td>21859</td>\n",
       "      <td>0</td>\n",
       "      <td>0</td>\n",
       "      <td>423936</td>\n",
       "      <td>29681</td>\n",
       "      <td>3</td>\n",
       "      <td>433</td>\n",
       "      <td>0.00</td>\n",
       "      <td>25</td>\n",
       "      <td>1</td>\n",
       "    </tr>\n",
       "    <tr>\n",
       "      <th>6</th>\n",
       "      <td>무부하매연측정치1</td>\n",
       "      <td>52620</td>\n",
       "      <td>276357</td>\n",
       "      <td>0.00</td>\n",
       "      <td>38</td>\n",
       "      <td>21859</td>\n",
       "      <td>0</td>\n",
       "      <td>0</td>\n",
       "      <td>423927</td>\n",
       "      <td>29681</td>\n",
       "      <td>3</td>\n",
       "      <td>433</td>\n",
       "      <td>0.00</td>\n",
       "      <td>25</td>\n",
       "      <td>1</td>\n",
       "    </tr>\n",
       "    <tr>\n",
       "      <th>7</th>\n",
       "      <td>무부하매연판정2</td>\n",
       "      <td>1108848</td>\n",
       "      <td>276368</td>\n",
       "      <td>0.00</td>\n",
       "      <td>38</td>\n",
       "      <td>21859</td>\n",
       "      <td>1</td>\n",
       "      <td>0</td>\n",
       "      <td>1017450</td>\n",
       "      <td>29683</td>\n",
       "      <td>3</td>\n",
       "      <td>433</td>\n",
       "      <td>0.00</td>\n",
       "      <td>25</td>\n",
       "      <td>1</td>\n",
       "    </tr>\n",
       "    <tr>\n",
       "      <th>8</th>\n",
       "      <td>무부하매연측정치2</td>\n",
       "      <td>794724</td>\n",
       "      <td>276366</td>\n",
       "      <td>0.00</td>\n",
       "      <td>38</td>\n",
       "      <td>21859</td>\n",
       "      <td>1</td>\n",
       "      <td>0</td>\n",
       "      <td>890184</td>\n",
       "      <td>29683</td>\n",
       "      <td>3</td>\n",
       "      <td>433</td>\n",
       "      <td>0.00</td>\n",
       "      <td>25</td>\n",
       "      <td>1</td>\n",
       "    </tr>\n",
       "    <tr>\n",
       "      <th>9</th>\n",
       "      <td>무부하매연판정3</td>\n",
       "      <td>1109728</td>\n",
       "      <td>276368</td>\n",
       "      <td>0.00</td>\n",
       "      <td>38</td>\n",
       "      <td>21859</td>\n",
       "      <td>1</td>\n",
       "      <td>0</td>\n",
       "      <td>1017776</td>\n",
       "      <td>29683</td>\n",
       "      <td>3</td>\n",
       "      <td>433</td>\n",
       "      <td>0.00</td>\n",
       "      <td>25</td>\n",
       "      <td>1</td>\n",
       "    </tr>\n",
       "    <tr>\n",
       "      <th>10</th>\n",
       "      <td>무부하매연측정치3</td>\n",
       "      <td>829069</td>\n",
       "      <td>276366</td>\n",
       "      <td>0.00</td>\n",
       "      <td>38</td>\n",
       "      <td>21859</td>\n",
       "      <td>1</td>\n",
       "      <td>0</td>\n",
       "      <td>909619</td>\n",
       "      <td>29683</td>\n",
       "      <td>3</td>\n",
       "      <td>433</td>\n",
       "      <td>0.00</td>\n",
       "      <td>25</td>\n",
       "      <td>1</td>\n",
       "    </tr>\n",
       "    <tr>\n",
       "      <th>11</th>\n",
       "      <td>무부하매연판정4</td>\n",
       "      <td>1109730</td>\n",
       "      <td>276843</td>\n",
       "      <td>0.00</td>\n",
       "      <td>38</td>\n",
       "      <td>22039</td>\n",
       "      <td>1</td>\n",
       "      <td>0</td>\n",
       "      <td>1018119</td>\n",
       "      <td>29692</td>\n",
       "      <td>3</td>\n",
       "      <td>435</td>\n",
       "      <td>0.00</td>\n",
       "      <td>25</td>\n",
       "      <td>1</td>\n",
       "    </tr>\n",
       "    <tr>\n",
       "      <th>12</th>\n",
       "      <td>무부하매연측정치4</td>\n",
       "      <td>829071</td>\n",
       "      <td>276839</td>\n",
       "      <td>0.00</td>\n",
       "      <td>38</td>\n",
       "      <td>22039</td>\n",
       "      <td>1</td>\n",
       "      <td>0</td>\n",
       "      <td>909961</td>\n",
       "      <td>29687</td>\n",
       "      <td>3</td>\n",
       "      <td>435</td>\n",
       "      <td>0.00</td>\n",
       "      <td>25</td>\n",
       "      <td>1</td>\n",
       "    </tr>\n",
       "    <tr>\n",
       "      <th>13</th>\n",
       "      <td>무부하매연판정5</td>\n",
       "      <td>1109730</td>\n",
       "      <td>276843</td>\n",
       "      <td>0.00</td>\n",
       "      <td>38</td>\n",
       "      <td>22039</td>\n",
       "      <td>1</td>\n",
       "      <td>0</td>\n",
       "      <td>1018119</td>\n",
       "      <td>29692</td>\n",
       "      <td>3</td>\n",
       "      <td>435</td>\n",
       "      <td>0.00</td>\n",
       "      <td>25</td>\n",
       "      <td>1</td>\n",
       "    </tr>\n",
       "    <tr>\n",
       "      <th>14</th>\n",
       "      <td>무부하매연측정치5</td>\n",
       "      <td>829071</td>\n",
       "      <td>276839</td>\n",
       "      <td>0.00</td>\n",
       "      <td>38</td>\n",
       "      <td>22039</td>\n",
       "      <td>1</td>\n",
       "      <td>0</td>\n",
       "      <td>909961</td>\n",
       "      <td>29687</td>\n",
       "      <td>3</td>\n",
       "      <td>435</td>\n",
       "      <td>0.00</td>\n",
       "      <td>25</td>\n",
       "      <td>1</td>\n",
       "    </tr>\n",
       "    <tr>\n",
       "      <th>15</th>\n",
       "      <td>무부하매연판정6</td>\n",
       "      <td>1152693</td>\n",
       "      <td>276843</td>\n",
       "      <td>0.00</td>\n",
       "      <td>38</td>\n",
       "      <td>22039</td>\n",
       "      <td>1</td>\n",
       "      <td>0</td>\n",
       "      <td>1115336</td>\n",
       "      <td>29692</td>\n",
       "      <td>5</td>\n",
       "      <td>435</td>\n",
       "      <td>0.00</td>\n",
       "      <td>25</td>\n",
       "      <td>1</td>\n",
       "    </tr>\n",
       "    <tr>\n",
       "      <th>16</th>\n",
       "      <td>무부하매연측정치6</td>\n",
       "      <td>860555</td>\n",
       "      <td>276839</td>\n",
       "      <td>0.00</td>\n",
       "      <td>38</td>\n",
       "      <td>22039</td>\n",
       "      <td>1</td>\n",
       "      <td>0</td>\n",
       "      <td>982782</td>\n",
       "      <td>29687</td>\n",
       "      <td>4</td>\n",
       "      <td>435</td>\n",
       "      <td>0.00</td>\n",
       "      <td>25</td>\n",
       "      <td>1</td>\n",
       "    </tr>\n",
       "  </tbody>\n",
       "</table>\n",
       "</div>"
      ],
      "text/plain": [
       "          컬럼명   4등급_경유  4등급_휘발유  4등급_nan  4등급_기타연료  4등급_LPG(액화석유가스)  \\\n",
       "0        검사방법    44043   275254     0.00        37            21761   \n",
       "1        검사일자    44043   275254     0.00        37            21761   \n",
       "2        검사종류    44043   275254     0.00        37            21761   \n",
       "3      검사판정시각    52620   275825     0.00        37            21806   \n",
       "4        검사판정    44043   275254     0.00        37            21761   \n",
       "5    무부하매연판정1    52625   276357     0.00        38            21859   \n",
       "6   무부하매연측정치1    52620   276357     0.00        38            21859   \n",
       "7    무부하매연판정2  1108848   276368     0.00        38            21859   \n",
       "8   무부하매연측정치2   794724   276366     0.00        38            21859   \n",
       "9    무부하매연판정3  1109728   276368     0.00        38            21859   \n",
       "10  무부하매연측정치3   829069   276366     0.00        38            21859   \n",
       "11   무부하매연판정4  1109730   276843     0.00        38            22039   \n",
       "12  무부하매연측정치4   829071   276839     0.00        38            22039   \n",
       "13   무부하매연판정5  1109730   276843     0.00        38            22039   \n",
       "14  무부하매연측정치5   829071   276839     0.00        38            22039   \n",
       "15   무부하매연판정6  1152693   276843     0.00        38            22039   \n",
       "16  무부하매연측정치6   860555   276839     0.00        38            22039   \n",
       "\n",
       "    4등급_CNG(압축천연가스)  4등급_알코올   5등급_경유  5등급_휘발유  5등급_CNG(압축천연가스)  \\\n",
       "0                 0        0   417776    29670                3   \n",
       "1                 0        0   417776    29670                3   \n",
       "2                 0        0   417776    29670                3   \n",
       "3                 0        0   423727    29674                3   \n",
       "4                 0        0   417776    29670                3   \n",
       "5                 0        0   423936    29681                3   \n",
       "6                 0        0   423927    29681                3   \n",
       "7                 1        0  1017450    29683                3   \n",
       "8                 1        0   890184    29683                3   \n",
       "9                 1        0  1017776    29683                3   \n",
       "10                1        0   909619    29683                3   \n",
       "11                1        0  1018119    29692                3   \n",
       "12                1        0   909961    29687                3   \n",
       "13                1        0  1018119    29692                3   \n",
       "14                1        0   909961    29687                3   \n",
       "15                1        0  1115336    29692                5   \n",
       "16                1        0   982782    29687                4   \n",
       "\n",
       "    5등급_LPG(액화석유가스)  5등급_nan  5등급_기타연료  5등급_알코올  \n",
       "0               433     0.00        25        1  \n",
       "1               433     0.00        25        1  \n",
       "2               433     0.00        25        1  \n",
       "3               433     0.00        25        1  \n",
       "4               433     0.00        25        1  \n",
       "5               433     0.00        25        1  \n",
       "6               433     0.00        25        1  \n",
       "7               433     0.00        25        1  \n",
       "8               433     0.00        25        1  \n",
       "9               433     0.00        25        1  \n",
       "10              433     0.00        25        1  \n",
       "11              435     0.00        25        1  \n",
       "12              435     0.00        25        1  \n",
       "13              435     0.00        25        1  \n",
       "14              435     0.00        25        1  \n",
       "15              435     0.00        25        1  \n",
       "16              435     0.00        25        1  "
      ]
     },
     "execution_count": 60,
     "metadata": {},
     "output_type": "execute_result"
    }
   ],
   "source": [
    "g45_miss = g4_miss.merge(g5_miss, on='컬럼명', how='left')\n",
    "g45_miss"
   ]
  },
  {
   "cell_type": "code",
   "execution_count": 61,
   "metadata": {},
   "outputs": [
    {
     "data": {
      "text/plain": [
       "'2023.02.22_PM.15.33.36'"
      ]
     },
     "execution_count": 61,
     "metadata": {},
     "output_type": "execute_result"
    }
   ],
   "source": [
    "today_date = datetime.today().strftime(\"%Y.%m.%d_%p.%H.%M.%S\")\n",
    "today_date"
   ]
  },
  {
   "cell_type": "code",
   "execution_count": 62,
   "metadata": {},
   "outputs": [],
   "source": [
    "g45_miss.to_excel(f'analysis2/4_5등급_검사_결측치_{today_date}.xlsx', index=False)"
   ]
  },
  {
   "attachments": {},
   "cell_type": "markdown",
   "metadata": {},
   "source": [
    "# 코드 마지막"
   ]
  }
 ],
 "metadata": {
  "kernelspec": {
   "display_name": "base",
   "language": "python",
   "name": "python3"
  },
  "language_info": {
   "codemirror_mode": {
    "name": "ipython",
    "version": 3
   },
   "file_extension": ".py",
   "mimetype": "text/x-python",
   "name": "python",
   "nbconvert_exporter": "python",
   "pygments_lexer": "ipython3",
   "version": "3.9.13"
  },
  "orig_nbformat": 4,
  "vscode": {
   "interpreter": {
    "hash": "ad2bdc8ecc057115af97d19610ffacc2b4e99fae6737bb82f5d7fb13d2f2c186"
   }
  }
 },
 "nbformat": 4,
 "nbformat_minor": 2
}
