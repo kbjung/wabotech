{
 "cells": [
  {
   "attachments": {},
   "cell_type": "markdown",
   "metadata": {},
   "source": [
    "# Library"
   ]
  },
  {
   "cell_type": "code",
   "execution_count": 1,
   "metadata": {},
   "outputs": [],
   "source": [
    "import pandas as pd\n",
    "import numpy as np\n",
    "import os\n",
    "from tqdm import tqdm"
   ]
  },
  {
   "cell_type": "code",
   "execution_count": 2,
   "metadata": {},
   "outputs": [],
   "source": [
    "# ODS 폴더 경로\n",
    "ods_fold = 'D:/data/big2/ODS'"
   ]
  },
  {
   "attachments": {},
   "cell_type": "markdown",
   "metadata": {},
   "source": [
    "## 배출가스인증정보"
   ]
  },
  {
   "attachments": {},
   "cell_type": "markdown",
   "metadata": {},
   "source": [
    "### columns"
   ]
  },
  {
   "cell_type": "code",
   "execution_count": 8,
   "metadata": {},
   "outputs": [
    {
     "data": {
      "text/plain": [
       "(23, 2)"
      ]
     },
     "execution_count": 8,
     "metadata": {},
     "output_type": "execute_result"
    }
   ],
   "source": [
    "name = 'CEG_EMIS_CERTI_MIG'\n",
    "file_name = f'[정제]{name}.xlsx'\n",
    "col_exc = pd.read_excel(f'analysis/ODSvsSTD/{file_name}', sheet_name='ODS_col')\n",
    "col_exc.shape"
   ]
  },
  {
   "cell_type": "code",
   "execution_count": 9,
   "metadata": {},
   "outputs": [
    {
     "name": "stdout",
     "output_type": "stream",
     "text": [
      "<class 'pandas.core.frame.DataFrame'>\n",
      "RangeIndex: 23 entries, 0 to 22\n",
      "Data columns (total 2 columns):\n",
      " #   Column  Non-Null Count  Dtype \n",
      "---  ------  --------------  ----- \n",
      " 0   컬럼      23 non-null     object\n",
      " 1   내용      23 non-null     object\n",
      "dtypes: object(2)\n",
      "memory usage: 496.0+ bytes\n"
     ]
    }
   ],
   "source": [
    "col_exc.info()"
   ]
  },
  {
   "cell_type": "code",
   "execution_count": 10,
   "metadata": {},
   "outputs": [
    {
     "data": {
      "text/plain": [
       "{'STRE_DE': '저장 일자',\n",
       " 'MKR_NM': '제작사 명',\n",
       " 'FUEL': '연료',\n",
       " 'EMIS_CRTC_DE': '배출가스 인증 일자',\n",
       " 'EMIS_CRTCNO': '배출가스인증번호',\n",
       " 'EMIS_PERM_STDR_CD': '배출가스 허용 기준 코드',\n",
       " 'EMIS_VHCTY': '배출가스 차종',\n",
       " 'EMIS_CRTC_UNAVBL_RESN': '배출가스 인증 무효 사유',\n",
       " 'EMIS_CRTC_2_SE': '배출가스 인증 2 구분',\n",
       " 'EMIS_CRTC_STUS': '배출가스 인증 상태',\n",
       " 'EMIS_CRTC_SNO': '배출가스 인증 일련번호',\n",
       " 'EMIS_CRTC_UNAVBL_DE': '배출가스 인증 무효 일자',\n",
       " 'EMIS_CRTC_1_SE': '배출가스 인증 1 구분',\n",
       " 'EMIS_GRD': '배출가스 등급',\n",
       " 'SAME_VHCTY_TY': '동일 차종 유형',\n",
       " 'REPCAR_VIN': '대표차 차대번호',\n",
       " 'REPCAR_EMIS_CRTCNO': '대표차 배출가스 인증번호',\n",
       " 'ORGCAR_SRCMNNO': '기본차 제원관리번호',\n",
       " 'DMSTC_INCM_MKR_SE': '국내 수입 제작사 구분',\n",
       " 'MNFCT_NM': '제조사 명',\n",
       " 'PLOR_NM': '원산지 명',\n",
       " 'RECP_FILE_NM': '미정',\n",
       " 'SRCMNNO': '미정'}"
      ]
     },
     "execution_count": 10,
     "metadata": {},
     "output_type": "execute_result"
    }
   ],
   "source": [
    "# 필요한 컬럼만 추출\n",
    "col = col_exc['컬럼'].to_list()\n",
    "col_dict = {a:b for a, b in zip(col_exc['컬럼'], col_exc['내용'])}\n",
    "col_dict"
   ]
  },
  {
   "attachments": {},
   "cell_type": "markdown",
   "metadata": {},
   "source": [
    "### [로드] 배출가스인증정보"
   ]
  },
  {
   "cell_type": "code",
   "execution_count": 11,
   "metadata": {},
   "outputs": [
    {
     "name": "stdout",
     "output_type": "stream",
     "text": [
      "<class 'pandas.core.frame.DataFrame'>\n",
      "RangeIndex: 79725 entries, 0 to 79724\n",
      "Data columns (total 23 columns):\n",
      " #   Column                 Non-Null Count  Dtype  \n",
      "---  ------                 --------------  -----  \n",
      " 0   EMIS_CRTCNO            79725 non-null  object \n",
      " 1   EMIS_CRTC_SNO          79725 non-null  int64  \n",
      " 2   EMIS_CRTC_1_SE         79725 non-null  object \n",
      " 3   EMIS_CRTC_2_SE         79436 non-null  object \n",
      " 4   DMSTC_INCM_MKR_SE      79038 non-null  object \n",
      " 5   EMIS_VHCTY             79519 non-null  object \n",
      " 6   FUEL                   79493 non-null  object \n",
      " 7   SAME_VHCTY_TY          9155 non-null   object \n",
      " 8   EMIS_CRTC_DE           79670 non-null  float64\n",
      " 9   MKR_NM                 78956 non-null  object \n",
      " 10  MNFCT_NM               79554 non-null  object \n",
      " 11  PLOR_NM                29928 non-null  object \n",
      " 12  EMIS_CRTC_STUS         79681 non-null  float64\n",
      " 13  EMIS_CRTC_UNAVBL_DE    361 non-null    float64\n",
      " 14  EMIS_CRTC_UNAVBL_RESN  45 non-null     object \n",
      " 15  ORGCAR_SRCMNNO         60648 non-null  object \n",
      " 16  REPCAR_EMIS_CRTCNO     26100 non-null  object \n",
      " 17  REPCAR_VIN             55697 non-null  object \n",
      " 18  EMIS_PERM_STDR_CD      17746 non-null  object \n",
      " 19  EMIS_GRD               23923 non-null  object \n",
      " 20  RECP_FILE_NM           79707 non-null  object \n",
      " 21  STRE_DE                79715 non-null  object \n",
      " 22  SRCMNNO                0 non-null      float64\n",
      "dtypes: float64(4), int64(1), object(18)\n",
      "memory usage: 14.0+ MB\n"
     ]
    }
   ],
   "source": [
    "# about 1s\n",
    "file_name = f'ODS_{name}.csv'\n",
    "ins = pd.read_csv(os.path.join(ods_fold, file_name), usecols=col, low_memory=False)\n",
    "ins.info()"
   ]
  },
  {
   "cell_type": "code",
   "execution_count": 12,
   "metadata": {},
   "outputs": [
    {
     "name": "stdout",
     "output_type": "stream",
     "text": [
      "<class 'pandas.core.frame.DataFrame'>\n",
      "RangeIndex: 79725 entries, 0 to 79724\n",
      "Data columns (total 23 columns):\n",
      " #   Column                 Non-Null Count  Dtype  \n",
      "---  ------                 --------------  -----  \n",
      " 0   STRE_DE                79715 non-null  object \n",
      " 1   MKR_NM                 78956 non-null  object \n",
      " 2   FUEL                   79493 non-null  object \n",
      " 3   EMIS_CRTC_DE           79670 non-null  float64\n",
      " 4   EMIS_CRTCNO            79725 non-null  object \n",
      " 5   EMIS_PERM_STDR_CD      17746 non-null  object \n",
      " 6   EMIS_VHCTY             79519 non-null  object \n",
      " 7   EMIS_CRTC_UNAVBL_RESN  45 non-null     object \n",
      " 8   EMIS_CRTC_2_SE         79436 non-null  object \n",
      " 9   EMIS_CRTC_STUS         79681 non-null  float64\n",
      " 10  EMIS_CRTC_SNO          79725 non-null  int64  \n",
      " 11  EMIS_CRTC_UNAVBL_DE    361 non-null    float64\n",
      " 12  EMIS_CRTC_1_SE         79725 non-null  object \n",
      " 13  EMIS_GRD               23923 non-null  object \n",
      " 14  SAME_VHCTY_TY          9155 non-null   object \n",
      " 15  REPCAR_VIN             55697 non-null  object \n",
      " 16  REPCAR_EMIS_CRTCNO     26100 non-null  object \n",
      " 17  ORGCAR_SRCMNNO         60648 non-null  object \n",
      " 18  DMSTC_INCM_MKR_SE      79038 non-null  object \n",
      " 19  MNFCT_NM               79554 non-null  object \n",
      " 20  PLOR_NM                29928 non-null  object \n",
      " 21  RECP_FILE_NM           79707 non-null  object \n",
      " 22  SRCMNNO                0 non-null      float64\n",
      "dtypes: float64(4), int64(1), object(18)\n",
      "memory usage: 14.0+ MB\n"
     ]
    }
   ],
   "source": [
    "ins = ins[col]\n",
    "ins.info()"
   ]
  },
  {
   "cell_type": "code",
   "execution_count": 13,
   "metadata": {},
   "outputs": [],
   "source": [
    "ins.columns = [col_dict[x] for x in ins.columns]"
   ]
  },
  {
   "cell_type": "code",
   "execution_count": 14,
   "metadata": {},
   "outputs": [
    {
     "data": {
      "text/plain": [
       "Index(['저장 일자', '제작사 명', '연료', '배출가스 인증 일자', '배출가스인증번호', '배출가스 허용 기준 코드',\n",
       "       '배출가스 차종', '배출가스 인증 무효 사유', '배출가스 인증 2 구분', '배출가스 인증 상태',\n",
       "       '배출가스 인증 일련번호', '배출가스 인증 무효 일자', '배출가스 인증 1 구분', '배출가스 등급', '동일 차종 유형',\n",
       "       '대표차 차대번호', '대표차 배출가스 인증번호', '기본차 제원관리번호', '국내 수입 제작사 구분', '제조사 명',\n",
       "       '원산지 명', '미정', '미정'],\n",
       "      dtype='object')"
      ]
     },
     "execution_count": 14,
     "metadata": {},
     "output_type": "execute_result"
    }
   ],
   "source": [
    "ins.columns"
   ]
  },
  {
   "cell_type": "code",
   "execution_count": 15,
   "metadata": {},
   "outputs": [],
   "source": [
    "ins = ins[['저장 일자', '제작사 명', '연료', '배출가스 인증 일자', '배출가스인증번호', '배출가스 허용 기준 코드',\n",
    "       '배출가스 차종', '배출가스 인증 무효 사유', '배출가스 인증 2 구분', '배출가스 인증 상태',\n",
    "       '배출가스 인증 일련번호', '배출가스 인증 무효 일자', '배출가스 인증 1 구분', '배출가스 등급', '동일 차종 유형',\n",
    "       '대표차 차대번호', '대표차 배출가스 인증번호', '기본차 제원관리번호', '국내 수입 제작사 구분', '제조사 명',\n",
    "       '원산지 명']]"
   ]
  },
  {
   "cell_type": "code",
   "execution_count": 16,
   "metadata": {},
   "outputs": [],
   "source": [
    "ins.columns = ['저장일자', '제작사명', '연료', '배출가스인증일자', '배출가스인증번호', '배출가스허용기준코드',\n",
    "       '배출가스차종', '배출가스인증무효사유', '배출가스인증2구분', '배출가스인증상태',\n",
    "       '배출가스인증일련번호', '배출가스인증무효일자', '배출가스인증1구분', '배출가스등급', '동일차종유형',\n",
    "       '대표차차대번호', '대표차배출가스인증번호', '기본차제원관리번호', '국내수입제작사구분', '제조사명',\n",
    "       '원산지명']"
   ]
  },
  {
   "attachments": {},
   "cell_type": "markdown",
   "metadata": {},
   "source": [
    "### [출력] 배출가스인증정보"
   ]
  },
  {
   "cell_type": "code",
   "execution_count": 17,
   "metadata": {},
   "outputs": [],
   "source": [
    "# about 1s\n",
    "ins.to_csv(os.path.join(ods_fold, f'[ODS]배출가스인증정보(2022.12.29).csv'), index=False)"
   ]
  },
  {
   "attachments": {},
   "cell_type": "markdown",
   "metadata": {},
   "source": [
    "# 코드 마지막"
   ]
  }
 ],
 "metadata": {
  "kernelspec": {
   "display_name": "base",
   "language": "python",
   "name": "python3"
  },
  "language_info": {
   "codemirror_mode": {
    "name": "ipython",
    "version": 3
   },
   "file_extension": ".py",
   "mimetype": "text/x-python",
   "name": "python",
   "nbconvert_exporter": "python",
   "pygments_lexer": "ipython3",
   "version": "3.9.13"
  },
  "orig_nbformat": 4,
  "vscode": {
   "interpreter": {
    "hash": "ad2bdc8ecc057115af97d19610ffacc2b4e99fae6737bb82f5d7fb13d2f2c186"
   }
  }
 },
 "nbformat": 4,
 "nbformat_minor": 2
}
