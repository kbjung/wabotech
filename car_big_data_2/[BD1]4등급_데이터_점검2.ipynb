{
 "cells": [
  {
   "attachments": {},
   "cell_type": "markdown",
   "metadata": {},
   "source": [
    "# Library"
   ]
  },
  {
   "cell_type": "code",
   "execution_count": 1,
   "metadata": {},
   "outputs": [],
   "source": [
    "import pandas as pd\n",
    "import os\n",
    "import numpy as np\n",
    "from tqdm import tqdm"
   ]
  },
  {
   "attachments": {},
   "cell_type": "markdown",
   "metadata": {},
   "source": [
    "# [로드]"
   ]
  },
  {
   "cell_type": "code",
   "execution_count": 2,
   "metadata": {},
   "outputs": [],
   "source": [
    "fold = 'D:\\과업\\[한국환경공단]자동차_환경_빅데이터_구축_2차\\data\\[BD1]4등급_데이터_점검(23.02.03)(ing)'\n",
    "ods_fold = 'D:\\과업\\[한국환경공단]자동차_환경_빅데이터_구축_2차\\data\\ODS'"
   ]
  },
  {
   "attachments": {},
   "cell_type": "markdown",
   "metadata": {},
   "source": [
    "## [로드] 검증요청 파일"
   ]
  },
  {
   "cell_type": "code",
   "execution_count": 4,
   "metadata": {},
   "outputs": [
    {
     "data": {
      "text/plain": [
       "((4790, 71), (92265, 71))"
      ]
     },
     "execution_count": 4,
     "metadata": {},
     "output_type": "execute_result"
    }
   ],
   "source": [
    "m3 = pd.read_csv(os.path.join(fold, '3등급_데이터_점검(8MY-KM-13-19).csv'), encoding='cp949')\n",
    "m4 = pd.read_csv(os.path.join(fold, '4등급_데이터_점검(8MY-KM-13-19).csv'), encoding='cp949')\n",
    "m3.shape, m4.shape"
   ]
  },
  {
   "cell_type": "code",
   "execution_count": 5,
   "metadata": {},
   "outputs": [],
   "source": [
    "df = pd.read_csv(os.path.join(fold, '검증요청_33573(수정).csv'), encoding='cp949')"
   ]
  },
  {
   "cell_type": "code",
   "execution_count": 6,
   "metadata": {},
   "outputs": [
    {
     "name": "stdout",
     "output_type": "stream",
     "text": [
      "<class 'pandas.core.frame.DataFrame'>\n",
      "RangeIndex: 33573 entries, 0 to 33572\n",
      "Data columns (total 28 columns):\n",
      " #   Column  Non-Null Count  Dtype  \n",
      "---  ------  --------------  -----  \n",
      " 0   차대번호    33573 non-null  object \n",
      " 1   차량번호    33573 non-null  object \n",
      " 2   제원관리번호  33573 non-null  object \n",
      " 3   차종      33573 non-null  object \n",
      " 4   용도      33573 non-null  object \n",
      " 5   최초등록일   33573 non-null  int64  \n",
      " 6   연식      33573 non-null  int64  \n",
      " 7   제작일자    33571 non-null  float64\n",
      " 8   검사유효일   33572 non-null  float64\n",
      " 9   인증번호    32978 non-null  object \n",
      " 10  등급      33573 non-null  int64  \n",
      " 11  차명      33573 non-null  object \n",
      " 12  차종분류    33573 non-null  object \n",
      " 13  차종유형    33573 non-null  object \n",
      " 14  자동차형식   33573 non-null  object \n",
      " 15  제작사명    33571 non-null  object \n",
      " 16  연료      33573 non-null  object \n",
      " 17  엔진형식    33573 non-null  object \n",
      " 18  총중량     33573 non-null  int64  \n",
      " 19  적재중량    33376 non-null  float64\n",
      " 20  엔진출력    33573 non-null  int64  \n",
      " 21  배기량     33573 non-null  int64  \n",
      " 22  법정동코드   33573 non-null  int64  \n",
      " 23  시도명     33573 non-null  object \n",
      " 24  시군구명    33573 non-null  object \n",
      " 25  소유자구분   33573 non-null  object \n",
      " 26  말소여부    33573 non-null  object \n",
      " 27  일치유무    33573 non-null  object \n",
      "dtypes: float64(3), int64(7), object(18)\n",
      "memory usage: 7.2+ MB\n"
     ]
    }
   ],
   "source": [
    "df.info()"
   ]
  },
  {
   "cell_type": "code",
   "execution_count": 7,
   "metadata": {},
   "outputs": [
    {
     "name": "stdout",
     "output_type": "stream",
     "text": [
      "<class 'pandas.core.frame.DataFrame'>\n",
      "RangeIndex: 4790 entries, 0 to 4789\n",
      "Data columns (total 71 columns):\n",
      " #   Column        Non-Null Count  Dtype  \n",
      "---  ------        --------------  -----  \n",
      " 0   차량관리번호        4790 non-null   object \n",
      " 1   차량등록번호        4790 non-null   object \n",
      " 2   본거지법정동코드      4790 non-null   int64  \n",
      " 3   소유자구분         4790 non-null   object \n",
      " 4   차종_등록정보       4790 non-null   object \n",
      " 5   용도            4790 non-null   object \n",
      " 6   현재회원번호        4790 non-null   object \n",
      " 7   차대번호          4790 non-null   object \n",
      " 8   최초등록일자        4790 non-null   int64  \n",
      " 9   차량연식          4790 non-null   int64  \n",
      " 10  차량제작일자        4790 non-null   int64  \n",
      " 11  배출가스검사유효일자    4790 non-null   int64  \n",
      " 12  제원관리번호        4790 non-null   object \n",
      " 13  배출가스인증번호      4790 non-null   object \n",
      " 14  배출가스등급        4790 non-null   int64  \n",
      " 15  저공해조치YN(미사용)  4790 non-null   object \n",
      " 16  저공해조치종류       0 non-null      float64\n",
      " 17  저공해조치구조변경YN   4790 non-null   object \n",
      " 18  차량등록번호숫자정보    4790 non-null   int64  \n",
      " 19  차량말소YN        4790 non-null   object \n",
      " 20  최초회원번호        4790 non-null   object \n",
      " 21  취득일자          4780 non-null   float64\n",
      " 22  취득금액          4779 non-null   float64\n",
      " 23  생성일시_등록정보     4790 non-null   object \n",
      " 24  수정일시_등록정보     4790 non-null   object \n",
      " 25  차명            4790 non-null   object \n",
      " 26  차종_제원정보       4790 non-null   object \n",
      " 27  차종분류          4790 non-null   object \n",
      " 28  차종유형(소분류)     4790 non-null   object \n",
      " 29  자동차형식         4790 non-null   object \n",
      " 30  제작사명          4790 non-null   object \n",
      " 31  연료            4790 non-null   object \n",
      " 32  엔진형식          4790 non-null   object \n",
      " 33  공차중량          0 non-null      float64\n",
      " 34  총중량           4790 non-null   int64  \n",
      " 35  적재중량          4790 non-null   int64  \n",
      " 36  엔진출력          4790 non-null   int64  \n",
      " 37  배기량           4790 non-null   int64  \n",
      " 38  승차인원          4790 non-null   int64  \n",
      " 39  차량길이          4790 non-null   int64  \n",
      " 40  차량너비          4790 non-null   int64  \n",
      " 41  차량높이          4790 non-null   int64  \n",
      " 42  원산지명          4790 non-null   object \n",
      " 43  삭제YN          4790 non-null   object \n",
      " 44  승인일자          4790 non-null   int64  \n",
      " 45  구동형식          0 non-null      float64\n",
      " 46  변속기종류         4790 non-null   object \n",
      " 47  생성일시_제원정보     4790 non-null   object \n",
      " 48  수정일시_제원정보     0 non-null      float64\n",
      " 49  검사방법          4619 non-null   object \n",
      " 50  검사종류          4619 non-null   object \n",
      " 51  검사판정          4619 non-null   object \n",
      " 52  무부하매연판정1      4568 non-null   object \n",
      " 53  무부하매연판정2      2 non-null      object \n",
      " 54  무부하매연판정3      2 non-null      object \n",
      " 55  무부하매연판정4      2 non-null      object \n",
      " 56  무부하매연판정5      2 non-null      object \n",
      " 57  무부하매연판정6      0 non-null      float64\n",
      " 58  무부하매연허용치1     4568 non-null   float64\n",
      " 59  무부하매연허용치2     885 non-null    float64\n",
      " 60  무부하매연허용치3     885 non-null    float64\n",
      " 61  무부하매연허용치4     885 non-null    float64\n",
      " 62  무부하매연허용치5     885 non-null    float64\n",
      " 63  무부하매연허용치6     884 non-null    float64\n",
      " 64  무부하매연측정치1     4568 non-null   float64\n",
      " 65  무부하매연측정치2     885 non-null    float64\n",
      " 66  무부하매연측정치3     885 non-null    float64\n",
      " 67  무부하매연측정치4     885 non-null    float64\n",
      " 68  무부하매연측정치5     885 non-null    float64\n",
      " 69  무부하매연측정치6     884 non-null    float64\n",
      " 70  정기정밀          4619 non-null   object \n",
      "dtypes: float64(19), int64(16), object(36)\n",
      "memory usage: 2.6+ MB\n"
     ]
    }
   ],
   "source": [
    "m3.info()"
   ]
  },
  {
   "cell_type": "code",
   "execution_count": 8,
   "metadata": {},
   "outputs": [
    {
     "name": "stdout",
     "output_type": "stream",
     "text": [
      "<class 'pandas.core.frame.DataFrame'>\n",
      "RangeIndex: 92265 entries, 0 to 92264\n",
      "Data columns (total 71 columns):\n",
      " #   Column        Non-Null Count  Dtype  \n",
      "---  ------        --------------  -----  \n",
      " 0   차량관리번호        92265 non-null  object \n",
      " 1   차량등록번호        92265 non-null  object \n",
      " 2   본거지법정동코드      92265 non-null  int64  \n",
      " 3   소유자구분         92265 non-null  object \n",
      " 4   차종_등록정보       92265 non-null  object \n",
      " 5   용도            92265 non-null  object \n",
      " 6   현재회원번호        92265 non-null  object \n",
      " 7   차대번호          92265 non-null  object \n",
      " 8   최초등록일자        92265 non-null  int64  \n",
      " 9   차량연식          92265 non-null  int64  \n",
      " 10  차량제작일자        92265 non-null  int64  \n",
      " 11  배출가스검사유효일자    92265 non-null  int64  \n",
      " 12  제원관리번호        92265 non-null  object \n",
      " 13  배출가스인증번호      92265 non-null  object \n",
      " 14  배출가스등급        92265 non-null  int64  \n",
      " 15  저공해조치YN(미사용)  92262 non-null  object \n",
      " 16  저공해조치종류       5 non-null      float64\n",
      " 17  저공해조치구조변경YN   92265 non-null  object \n",
      " 18  차량등록번호숫자정보    92265 non-null  int64  \n",
      " 19  차량말소YN        92265 non-null  object \n",
      " 20  최초회원번호        92265 non-null  object \n",
      " 21  취득일자          92021 non-null  float64\n",
      " 22  취득금액          92004 non-null  float64\n",
      " 23  생성일시_등록정보     92265 non-null  object \n",
      " 24  수정일시_등록정보     92257 non-null  object \n",
      " 25  차명            92265 non-null  object \n",
      " 26  차종_제원정보       92265 non-null  object \n",
      " 27  차종분류          92265 non-null  object \n",
      " 28  차종유형(소분류)     92265 non-null  object \n",
      " 29  자동차형식         92265 non-null  object \n",
      " 30  제작사명          92265 non-null  object \n",
      " 31  연료            92265 non-null  object \n",
      " 32  엔진형식          92265 non-null  object \n",
      " 33  공차중량          0 non-null      float64\n",
      " 34  총중량           92265 non-null  int64  \n",
      " 35  적재중량          92265 non-null  int64  \n",
      " 36  엔진출력          92265 non-null  int64  \n",
      " 37  배기량           92265 non-null  int64  \n",
      " 38  승차인원          92265 non-null  int64  \n",
      " 39  차량길이          92265 non-null  int64  \n",
      " 40  차량너비          92265 non-null  int64  \n",
      " 41  차량높이          92265 non-null  int64  \n",
      " 42  원산지명          92265 non-null  object \n",
      " 43  삭제YN          92265 non-null  object \n",
      " 44  승인일자          92265 non-null  int64  \n",
      " 45  구동형식          0 non-null      float64\n",
      " 46  변속기종류         92265 non-null  object \n",
      " 47  생성일시_제원정보     92265 non-null  object \n",
      " 48  수정일시_제원정보     0 non-null      float64\n",
      " 49  검사방법          89355 non-null  object \n",
      " 50  검사종류          89355 non-null  object \n",
      " 51  검사판정          89355 non-null  object \n",
      " 52  무부하매연판정1      88573 non-null  object \n",
      " 53  무부하매연판정2      71 non-null     object \n",
      " 54  무부하매연판정3      38 non-null     object \n",
      " 55  무부하매연판정4      38 non-null     object \n",
      " 56  무부하매연판정5      38 non-null     object \n",
      " 57  무부하매연판정6      0 non-null      float64\n",
      " 58  무부하매연허용치1     88573 non-null  float64\n",
      " 59  무부하매연허용치2     15865 non-null  float64\n",
      " 60  무부하매연허용치3     15865 non-null  float64\n",
      " 61  무부하매연허용치4     15865 non-null  float64\n",
      " 62  무부하매연허용치5     15865 non-null  float64\n",
      " 63  무부하매연허용치6     15832 non-null  float64\n",
      " 64  무부하매연측정치1     88573 non-null  float64\n",
      " 65  무부하매연측정치2     15865 non-null  float64\n",
      " 66  무부하매연측정치3     15865 non-null  float64\n",
      " 67  무부하매연측정치4     15865 non-null  float64\n",
      " 68  무부하매연측정치5     15865 non-null  float64\n",
      " 69  무부하매연측정치6     15832 non-null  float64\n",
      " 70  정기정밀          89355 non-null  object \n",
      "dtypes: float64(19), int64(16), object(36)\n",
      "memory usage: 50.0+ MB\n"
     ]
    }
   ],
   "source": [
    "m4.info()"
   ]
  },
  {
   "attachments": {},
   "cell_type": "markdown",
   "metadata": {},
   "source": [
    "### [로드] 정기검사"
   ]
  },
  {
   "attachments": {},
   "cell_type": "markdown",
   "metadata": {},
   "source": [
    "#### columns"
   ]
  },
  {
   "cell_type": "code",
   "execution_count": 9,
   "metadata": {},
   "outputs": [],
   "source": [
    "file_name = 'TB_JGT_HIS'\n",
    "col_exc = pd.read_excel(f'analysis/ODSvsSTD/[정제]{file_name}.xlsx', sheet_name='ODS_col')"
   ]
  },
  {
   "cell_type": "code",
   "execution_count": 10,
   "metadata": {},
   "outputs": [
    {
     "data": {
      "text/html": [
       "<div>\n",
       "<style scoped>\n",
       "    .dataframe tbody tr th:only-of-type {\n",
       "        vertical-align: middle;\n",
       "    }\n",
       "\n",
       "    .dataframe tbody tr th {\n",
       "        vertical-align: top;\n",
       "    }\n",
       "\n",
       "    .dataframe thead th {\n",
       "        text-align: right;\n",
       "    }\n",
       "</style>\n",
       "<table border=\"1\" class=\"dataframe\">\n",
       "  <thead>\n",
       "    <tr style=\"text-align: right;\">\n",
       "      <th></th>\n",
       "      <th>컬럼</th>\n",
       "      <th>내용</th>\n",
       "    </tr>\n",
       "  </thead>\n",
       "  <tbody>\n",
       "    <tr>\n",
       "      <th>0</th>\n",
       "      <td>CAR_FUEL_NM</td>\n",
       "      <td>사용연료</td>\n",
       "    </tr>\n",
       "    <tr>\n",
       "      <th>1</th>\n",
       "      <td>CAR_MILE</td>\n",
       "      <td>주행거리</td>\n",
       "    </tr>\n",
       "    <tr>\n",
       "      <th>2</th>\n",
       "      <td>CAR_NM</td>\n",
       "      <td>차명</td>\n",
       "    </tr>\n",
       "    <tr>\n",
       "      <th>3</th>\n",
       "      <td>CAR_REG_NO</td>\n",
       "      <td>차량번호</td>\n",
       "    </tr>\n",
       "    <tr>\n",
       "      <th>4</th>\n",
       "      <td>CAR_SER_NO</td>\n",
       "      <td>차대번호</td>\n",
       "    </tr>\n",
       "    <tr>\n",
       "      <th>...</th>\n",
       "      <td>...</td>\n",
       "      <td>...</td>\n",
       "    </tr>\n",
       "    <tr>\n",
       "      <th>58</th>\n",
       "      <td>FUN_CHKR_NM</td>\n",
       "      <td>미정</td>\n",
       "    </tr>\n",
       "    <tr>\n",
       "      <th>59</th>\n",
       "      <td>SMO_CHKR_NM</td>\n",
       "      <td>미정</td>\n",
       "    </tr>\n",
       "    <tr>\n",
       "      <th>60</th>\n",
       "      <td>MNG_CHKR_NM</td>\n",
       "      <td>미정</td>\n",
       "    </tr>\n",
       "    <tr>\n",
       "      <th>61</th>\n",
       "      <td>DT_GUBUN</td>\n",
       "      <td>미정</td>\n",
       "    </tr>\n",
       "    <tr>\n",
       "      <th>62</th>\n",
       "      <td>FILE_NM</td>\n",
       "      <td>미정</td>\n",
       "    </tr>\n",
       "  </tbody>\n",
       "</table>\n",
       "<p>63 rows × 2 columns</p>\n",
       "</div>"
      ],
      "text/plain": [
       "             컬럼    내용\n",
       "0   CAR_FUEL_NM  사용연료\n",
       "1      CAR_MILE  주행거리\n",
       "2        CAR_NM    차명\n",
       "3    CAR_REG_NO  차량번호\n",
       "4    CAR_SER_NO  차대번호\n",
       "..          ...   ...\n",
       "58  FUN_CHKR_NM    미정\n",
       "59  SMO_CHKR_NM    미정\n",
       "60  MNG_CHKR_NM    미정\n",
       "61     DT_GUBUN    미정\n",
       "62      FILE_NM    미정\n",
       "\n",
       "[63 rows x 2 columns]"
      ]
     },
     "execution_count": 10,
     "metadata": {},
     "output_type": "execute_result"
    }
   ],
   "source": [
    "col_exc"
   ]
  },
  {
   "cell_type": "code",
   "execution_count": 11,
   "metadata": {},
   "outputs": [
    {
     "data": {
      "text/plain": [
       "['사용연료',\n",
       " '주행거리',\n",
       " '차명',\n",
       " '차량번호',\n",
       " '차대번호',\n",
       " '차종',\n",
       " '차량연식',\n",
       " '검사방법',\n",
       " '이산화탄소값',\n",
       " '최대출력허용치',\n",
       " '최대출력측정값',\n",
       " '엔진형식',\n",
       " '검사접수번호',\n",
       " '정기검사일자',\n",
       " '검사종류',\n",
       " '검사소명',\n",
       " '검사판정시각',\n",
       " '정기검사판정',\n",
       " '산소값',\n",
       " '재검사기간',\n",
       " '무부하매연판정1',\n",
       " '무부하매연판정2',\n",
       " '무부하매연판정3',\n",
       " '무부하매연판정4',\n",
       " '무부하매연판정5',\n",
       " '무부하매연판정6',\n",
       " '무부하매연허용치1',\n",
       " '무부하매연허용치2',\n",
       " '무부하매연허용치3',\n",
       " '무부하매연허용치4',\n",
       " '무부하매연허용치5',\n",
       " '무부하매연허용치6',\n",
       " '무부하매연측정치1',\n",
       " '무부하매연측정치2',\n",
       " '무부하매연측정치3',\n",
       " '무부하매연측정치4',\n",
       " '무부하매연측정치5',\n",
       " '무부하매연측정치6',\n",
       " '차량용도',\n",
       " '미정',\n",
       " '미정',\n",
       " '미정',\n",
       " '미정',\n",
       " '미정',\n",
       " '미정',\n",
       " '미정',\n",
       " '미정',\n",
       " '미정',\n",
       " '미정',\n",
       " '미정',\n",
       " '미정',\n",
       " '미정',\n",
       " '미정',\n",
       " '미정',\n",
       " '미정',\n",
       " '미정',\n",
       " '미정',\n",
       " '미정',\n",
       " '미정',\n",
       " '미정',\n",
       " '미정',\n",
       " '미정',\n",
       " '미정']"
      ]
     },
     "execution_count": 11,
     "metadata": {},
     "output_type": "execute_result"
    }
   ],
   "source": [
    "col_exc['내용'].to_list()"
   ]
  },
  {
   "cell_type": "code",
   "execution_count": 12,
   "metadata": {},
   "outputs": [
    {
     "data": {
      "text/html": [
       "<div>\n",
       "<style scoped>\n",
       "    .dataframe tbody tr th:only-of-type {\n",
       "        vertical-align: middle;\n",
       "    }\n",
       "\n",
       "    .dataframe tbody tr th {\n",
       "        vertical-align: top;\n",
       "    }\n",
       "\n",
       "    .dataframe thead th {\n",
       "        text-align: right;\n",
       "    }\n",
       "</style>\n",
       "<table border=\"1\" class=\"dataframe\">\n",
       "  <thead>\n",
       "    <tr style=\"text-align: right;\">\n",
       "      <th></th>\n",
       "      <th>컬럼</th>\n",
       "      <th>내용</th>\n",
       "    </tr>\n",
       "  </thead>\n",
       "  <tbody>\n",
       "    <tr>\n",
       "      <th>0</th>\n",
       "      <td>CAR_FUEL_NM</td>\n",
       "      <td>사용연료</td>\n",
       "    </tr>\n",
       "    <tr>\n",
       "      <th>1</th>\n",
       "      <td>CAR_MILE</td>\n",
       "      <td>주행거리</td>\n",
       "    </tr>\n",
       "    <tr>\n",
       "      <th>2</th>\n",
       "      <td>CAR_NM</td>\n",
       "      <td>차명</td>\n",
       "    </tr>\n",
       "    <tr>\n",
       "      <th>3</th>\n",
       "      <td>CAR_REG_NO</td>\n",
       "      <td>차량번호</td>\n",
       "    </tr>\n",
       "    <tr>\n",
       "      <th>4</th>\n",
       "      <td>CAR_SER_NO</td>\n",
       "      <td>차대번호</td>\n",
       "    </tr>\n",
       "    <tr>\n",
       "      <th>5</th>\n",
       "      <td>CAR_TYPE_NM</td>\n",
       "      <td>차종</td>\n",
       "    </tr>\n",
       "    <tr>\n",
       "      <th>6</th>\n",
       "      <td>CAR_YEAR</td>\n",
       "      <td>차량연식</td>\n",
       "    </tr>\n",
       "    <tr>\n",
       "      <th>7</th>\n",
       "      <td>CHK_METHOD</td>\n",
       "      <td>검사방법</td>\n",
       "    </tr>\n",
       "    <tr>\n",
       "      <th>8</th>\n",
       "      <td>CO2_VAL</td>\n",
       "      <td>이산화탄소값</td>\n",
       "    </tr>\n",
       "    <tr>\n",
       "      <th>9</th>\n",
       "      <td>ENGINE_TOR_LIM</td>\n",
       "      <td>최대출력허용치</td>\n",
       "    </tr>\n",
       "    <tr>\n",
       "      <th>10</th>\n",
       "      <td>ENGINE_TOR_VAL</td>\n",
       "      <td>최대출력측정값</td>\n",
       "    </tr>\n",
       "    <tr>\n",
       "      <th>11</th>\n",
       "      <td>ENGINE_TYPE</td>\n",
       "      <td>엔진형식</td>\n",
       "    </tr>\n",
       "    <tr>\n",
       "      <th>12</th>\n",
       "      <td>JEBSU_NO</td>\n",
       "      <td>검사접수번호</td>\n",
       "    </tr>\n",
       "    <tr>\n",
       "      <th>13</th>\n",
       "      <td>JG_CHK_DATE</td>\n",
       "      <td>정기검사일자</td>\n",
       "    </tr>\n",
       "    <tr>\n",
       "      <th>14</th>\n",
       "      <td>JG_CHK_TYPE</td>\n",
       "      <td>검사종류</td>\n",
       "    </tr>\n",
       "    <tr>\n",
       "      <th>15</th>\n",
       "      <td>JG_ORG_NM</td>\n",
       "      <td>검사소명</td>\n",
       "    </tr>\n",
       "    <tr>\n",
       "      <th>16</th>\n",
       "      <td>JUDGE_DATE</td>\n",
       "      <td>검사판정시각</td>\n",
       "    </tr>\n",
       "    <tr>\n",
       "      <th>17</th>\n",
       "      <td>JUDGE_YN</td>\n",
       "      <td>정기검사판정</td>\n",
       "    </tr>\n",
       "    <tr>\n",
       "      <th>18</th>\n",
       "      <td>O2_VAL</td>\n",
       "      <td>산소값</td>\n",
       "    </tr>\n",
       "    <tr>\n",
       "      <th>19</th>\n",
       "      <td>RE_CHK_DATE</td>\n",
       "      <td>재검사기간</td>\n",
       "    </tr>\n",
       "    <tr>\n",
       "      <th>20</th>\n",
       "      <td>UNLOAD_SMO_JUDGE1</td>\n",
       "      <td>무부하매연판정1</td>\n",
       "    </tr>\n",
       "    <tr>\n",
       "      <th>21</th>\n",
       "      <td>UNLOAD_SMO_JUDGE2</td>\n",
       "      <td>무부하매연판정2</td>\n",
       "    </tr>\n",
       "    <tr>\n",
       "      <th>22</th>\n",
       "      <td>UNLOAD_SMO_JUDGE3</td>\n",
       "      <td>무부하매연판정3</td>\n",
       "    </tr>\n",
       "    <tr>\n",
       "      <th>23</th>\n",
       "      <td>UNLOAD_SMO_JUDGE4</td>\n",
       "      <td>무부하매연판정4</td>\n",
       "    </tr>\n",
       "    <tr>\n",
       "      <th>24</th>\n",
       "      <td>UNLOAD_SMO_JUDGE5</td>\n",
       "      <td>무부하매연판정5</td>\n",
       "    </tr>\n",
       "    <tr>\n",
       "      <th>25</th>\n",
       "      <td>UNLOAD_SMO_JUDGE6</td>\n",
       "      <td>무부하매연판정6</td>\n",
       "    </tr>\n",
       "    <tr>\n",
       "      <th>26</th>\n",
       "      <td>UNLOAD_SMO_LIM1</td>\n",
       "      <td>무부하매연허용치1</td>\n",
       "    </tr>\n",
       "    <tr>\n",
       "      <th>27</th>\n",
       "      <td>UNLOAD_SMO_LIM2</td>\n",
       "      <td>무부하매연허용치2</td>\n",
       "    </tr>\n",
       "    <tr>\n",
       "      <th>28</th>\n",
       "      <td>UNLOAD_SMO_LIM3</td>\n",
       "      <td>무부하매연허용치3</td>\n",
       "    </tr>\n",
       "    <tr>\n",
       "      <th>29</th>\n",
       "      <td>UNLOAD_SMO_LIM4</td>\n",
       "      <td>무부하매연허용치4</td>\n",
       "    </tr>\n",
       "    <tr>\n",
       "      <th>30</th>\n",
       "      <td>UNLOAD_SMO_LIM5</td>\n",
       "      <td>무부하매연허용치5</td>\n",
       "    </tr>\n",
       "    <tr>\n",
       "      <th>31</th>\n",
       "      <td>UNLOAD_SMO_LIM6</td>\n",
       "      <td>무부하매연허용치6</td>\n",
       "    </tr>\n",
       "    <tr>\n",
       "      <th>32</th>\n",
       "      <td>UNLOAD_SMO_VAL1</td>\n",
       "      <td>무부하매연측정치1</td>\n",
       "    </tr>\n",
       "    <tr>\n",
       "      <th>33</th>\n",
       "      <td>UNLOAD_SMO_VAL2</td>\n",
       "      <td>무부하매연측정치2</td>\n",
       "    </tr>\n",
       "    <tr>\n",
       "      <th>34</th>\n",
       "      <td>UNLOAD_SMO_VAL3</td>\n",
       "      <td>무부하매연측정치3</td>\n",
       "    </tr>\n",
       "    <tr>\n",
       "      <th>35</th>\n",
       "      <td>UNLOAD_SMO_VAL4</td>\n",
       "      <td>무부하매연측정치4</td>\n",
       "    </tr>\n",
       "    <tr>\n",
       "      <th>36</th>\n",
       "      <td>UNLOAD_SMO_VAL5</td>\n",
       "      <td>무부하매연측정치5</td>\n",
       "    </tr>\n",
       "    <tr>\n",
       "      <th>37</th>\n",
       "      <td>UNLOAD_SMO_VAL6</td>\n",
       "      <td>무부하매연측정치6</td>\n",
       "    </tr>\n",
       "    <tr>\n",
       "      <th>38</th>\n",
       "      <td>USAGE</td>\n",
       "      <td>차량용도</td>\n",
       "    </tr>\n",
       "  </tbody>\n",
       "</table>\n",
       "</div>"
      ],
      "text/plain": [
       "                   컬럼         내용\n",
       "0         CAR_FUEL_NM       사용연료\n",
       "1            CAR_MILE       주행거리\n",
       "2              CAR_NM         차명\n",
       "3          CAR_REG_NO       차량번호\n",
       "4          CAR_SER_NO       차대번호\n",
       "5         CAR_TYPE_NM         차종\n",
       "6            CAR_YEAR       차량연식\n",
       "7          CHK_METHOD       검사방법\n",
       "8             CO2_VAL     이산화탄소값\n",
       "9      ENGINE_TOR_LIM    최대출력허용치\n",
       "10     ENGINE_TOR_VAL    최대출력측정값\n",
       "11        ENGINE_TYPE       엔진형식\n",
       "12           JEBSU_NO     검사접수번호\n",
       "13        JG_CHK_DATE     정기검사일자\n",
       "14        JG_CHK_TYPE       검사종류\n",
       "15          JG_ORG_NM       검사소명\n",
       "16         JUDGE_DATE     검사판정시각\n",
       "17           JUDGE_YN     정기검사판정\n",
       "18             O2_VAL        산소값\n",
       "19        RE_CHK_DATE      재검사기간\n",
       "20  UNLOAD_SMO_JUDGE1   무부하매연판정1\n",
       "21  UNLOAD_SMO_JUDGE2   무부하매연판정2\n",
       "22  UNLOAD_SMO_JUDGE3   무부하매연판정3\n",
       "23  UNLOAD_SMO_JUDGE4   무부하매연판정4\n",
       "24  UNLOAD_SMO_JUDGE5   무부하매연판정5\n",
       "25  UNLOAD_SMO_JUDGE6   무부하매연판정6\n",
       "26    UNLOAD_SMO_LIM1  무부하매연허용치1\n",
       "27    UNLOAD_SMO_LIM2  무부하매연허용치2\n",
       "28    UNLOAD_SMO_LIM3  무부하매연허용치3\n",
       "29    UNLOAD_SMO_LIM4  무부하매연허용치4\n",
       "30    UNLOAD_SMO_LIM5  무부하매연허용치5\n",
       "31    UNLOAD_SMO_LIM6  무부하매연허용치6\n",
       "32    UNLOAD_SMO_VAL1  무부하매연측정치1\n",
       "33    UNLOAD_SMO_VAL2  무부하매연측정치2\n",
       "34    UNLOAD_SMO_VAL3  무부하매연측정치3\n",
       "35    UNLOAD_SMO_VAL4  무부하매연측정치4\n",
       "36    UNLOAD_SMO_VAL5  무부하매연측정치5\n",
       "37    UNLOAD_SMO_VAL6  무부하매연측정치6\n",
       "38              USAGE       차량용도"
      ]
     },
     "execution_count": 12,
     "metadata": {},
     "output_type": "execute_result"
    }
   ],
   "source": [
    "col_exc = col_exc.loc[:38]\n",
    "col_exc"
   ]
  },
  {
   "cell_type": "code",
   "execution_count": 13,
   "metadata": {},
   "outputs": [
    {
     "data": {
      "text/plain": [
       "['CAR_FUEL_NM',\n",
       " 'CAR_MILE',\n",
       " 'CAR_NM',\n",
       " 'CAR_REG_NO',\n",
       " 'CAR_SER_NO',\n",
       " 'CAR_TYPE_NM',\n",
       " 'CAR_YEAR',\n",
       " 'CHK_METHOD',\n",
       " 'CO2_VAL',\n",
       " 'ENGINE_TOR_LIM',\n",
       " 'ENGINE_TOR_VAL',\n",
       " 'ENGINE_TYPE',\n",
       " 'JEBSU_NO',\n",
       " 'JG_CHK_DATE',\n",
       " 'JG_CHK_TYPE',\n",
       " 'JG_ORG_NM',\n",
       " 'JUDGE_DATE',\n",
       " 'JUDGE_YN',\n",
       " 'O2_VAL',\n",
       " 'RE_CHK_DATE',\n",
       " 'UNLOAD_SMO_JUDGE1',\n",
       " 'UNLOAD_SMO_JUDGE2',\n",
       " 'UNLOAD_SMO_JUDGE3',\n",
       " 'UNLOAD_SMO_JUDGE4',\n",
       " 'UNLOAD_SMO_JUDGE5',\n",
       " 'UNLOAD_SMO_JUDGE6',\n",
       " 'UNLOAD_SMO_LIM1',\n",
       " 'UNLOAD_SMO_LIM2',\n",
       " 'UNLOAD_SMO_LIM3',\n",
       " 'UNLOAD_SMO_LIM4',\n",
       " 'UNLOAD_SMO_LIM5',\n",
       " 'UNLOAD_SMO_LIM6',\n",
       " 'UNLOAD_SMO_VAL1',\n",
       " 'UNLOAD_SMO_VAL2',\n",
       " 'UNLOAD_SMO_VAL3',\n",
       " 'UNLOAD_SMO_VAL4',\n",
       " 'UNLOAD_SMO_VAL5',\n",
       " 'UNLOAD_SMO_VAL6',\n",
       " 'USAGE']"
      ]
     },
     "execution_count": 13,
     "metadata": {},
     "output_type": "execute_result"
    }
   ],
   "source": [
    "col = col_exc['컬럼'].to_list()\n",
    "col"
   ]
  },
  {
   "cell_type": "code",
   "execution_count": 14,
   "metadata": {},
   "outputs": [
    {
     "data": {
      "text/plain": [
       "['사용연료',\n",
       " '주행거리',\n",
       " '차명',\n",
       " '차량번호',\n",
       " '차대번호',\n",
       " '차종',\n",
       " '차량연식',\n",
       " '검사방법',\n",
       " '이산화탄소값',\n",
       " '최대출력허용치',\n",
       " '최대출력측정값',\n",
       " '엔진형식',\n",
       " '검사접수번호',\n",
       " '정기검사일자',\n",
       " '검사종류',\n",
       " '검사소명',\n",
       " '검사판정시각',\n",
       " '정기검사판정',\n",
       " '산소값',\n",
       " '재검사기간',\n",
       " '무부하매연판정1',\n",
       " '무부하매연판정2',\n",
       " '무부하매연판정3',\n",
       " '무부하매연판정4',\n",
       " '무부하매연판정5',\n",
       " '무부하매연판정6',\n",
       " '무부하매연허용치1',\n",
       " '무부하매연허용치2',\n",
       " '무부하매연허용치3',\n",
       " '무부하매연허용치4',\n",
       " '무부하매연허용치5',\n",
       " '무부하매연허용치6',\n",
       " '무부하매연측정치1',\n",
       " '무부하매연측정치2',\n",
       " '무부하매연측정치3',\n",
       " '무부하매연측정치4',\n",
       " '무부하매연측정치5',\n",
       " '무부하매연측정치6',\n",
       " '차량용도']"
      ]
     },
     "execution_count": 14,
     "metadata": {},
     "output_type": "execute_result"
    }
   ],
   "source": [
    "# 필요한 컬럼만 추출\n",
    "sel_col = col_exc['내용'].to_list()\n",
    "sel_col"
   ]
  },
  {
   "attachments": {},
   "cell_type": "markdown",
   "metadata": {},
   "source": [
    "#### [로드] 정기검사"
   ]
  },
  {
   "cell_type": "code",
   "execution_count": 15,
   "metadata": {},
   "outputs": [
    {
     "name": "stdout",
     "output_type": "stream",
     "text": [
      "<class 'pandas.core.frame.DataFrame'>\n",
      "RangeIndex: 22006426 entries, 0 to 22006425\n",
      "Data columns (total 39 columns):\n",
      " #   Column             Dtype  \n",
      "---  ------             -----  \n",
      " 0   JG_ORG_NM          object \n",
      " 1   JG_CHK_DATE        int64  \n",
      " 2   JG_CHK_TYPE        object \n",
      " 3   JEBSU_NO           object \n",
      " 4   CAR_REG_NO         object \n",
      " 5   CAR_SER_NO         object \n",
      " 6   CAR_NM             object \n",
      " 7   CAR_TYPE_NM        object \n",
      " 8   USAGE              object \n",
      " 9   CAR_YEAR           int64  \n",
      " 10  CAR_FUEL_NM        object \n",
      " 11  CAR_MILE           object \n",
      " 12  ENGINE_TYPE        object \n",
      " 13  CHK_METHOD         object \n",
      " 14  UNLOAD_SMO_VAL1    float64\n",
      " 15  UNLOAD_SMO_LIM1    float64\n",
      " 16  UNLOAD_SMO_JUDGE1  object \n",
      " 17  UNLOAD_SMO_VAL2    float64\n",
      " 18  UNLOAD_SMO_LIM2    float64\n",
      " 19  UNLOAD_SMO_JUDGE2  object \n",
      " 20  UNLOAD_SMO_VAL3    float64\n",
      " 21  UNLOAD_SMO_LIM3    float64\n",
      " 22  UNLOAD_SMO_JUDGE3  object \n",
      " 23  UNLOAD_SMO_VAL4    float64\n",
      " 24  UNLOAD_SMO_LIM4    float64\n",
      " 25  UNLOAD_SMO_JUDGE4  object \n",
      " 26  UNLOAD_SMO_VAL5    float64\n",
      " 27  UNLOAD_SMO_LIM5    float64\n",
      " 28  UNLOAD_SMO_JUDGE5  object \n",
      " 29  UNLOAD_SMO_VAL6    float64\n",
      " 30  UNLOAD_SMO_LIM6    float64\n",
      " 31  UNLOAD_SMO_JUDGE6  object \n",
      " 32  CO2_VAL            float64\n",
      " 33  ENGINE_TOR_LIM     float64\n",
      " 34  ENGINE_TOR_VAL     float64\n",
      " 35  O2_VAL             float64\n",
      " 36  JUDGE_YN           object \n",
      " 37  RE_CHK_DATE        object \n",
      " 38  JUDGE_DATE         object \n",
      "dtypes: float64(16), int64(2), object(21)\n",
      "memory usage: 6.4+ GB\n"
     ]
    }
   ],
   "source": [
    "# about 5m\n",
    "file_name = 'ODS_TB_JGT_HIS.csv'\n",
    "ins = pd.read_csv(os.path.join(ods_fold, file_name), usecols=col, low_memory=False)\n",
    "ins.info()"
   ]
  },
  {
   "cell_type": "code",
   "execution_count": 16,
   "metadata": {},
   "outputs": [
    {
     "name": "stdout",
     "output_type": "stream",
     "text": [
      "<class 'pandas.core.frame.DataFrame'>\n",
      "RangeIndex: 22006426 entries, 0 to 22006425\n",
      "Data columns (total 39 columns):\n",
      " #   Column             Dtype  \n",
      "---  ------             -----  \n",
      " 0   CAR_FUEL_NM        object \n",
      " 1   CAR_MILE           object \n",
      " 2   CAR_NM             object \n",
      " 3   CAR_REG_NO         object \n",
      " 4   CAR_SER_NO         object \n",
      " 5   CAR_TYPE_NM        object \n",
      " 6   CAR_YEAR           int64  \n",
      " 7   CHK_METHOD         object \n",
      " 8   CO2_VAL            float64\n",
      " 9   ENGINE_TOR_LIM     float64\n",
      " 10  ENGINE_TOR_VAL     float64\n",
      " 11  ENGINE_TYPE        object \n",
      " 12  JEBSU_NO           object \n",
      " 13  JG_CHK_DATE        int64  \n",
      " 14  JG_CHK_TYPE        object \n",
      " 15  JG_ORG_NM          object \n",
      " 16  JUDGE_DATE         object \n",
      " 17  JUDGE_YN           object \n",
      " 18  O2_VAL             float64\n",
      " 19  RE_CHK_DATE        object \n",
      " 20  UNLOAD_SMO_JUDGE1  object \n",
      " 21  UNLOAD_SMO_JUDGE2  object \n",
      " 22  UNLOAD_SMO_JUDGE3  object \n",
      " 23  UNLOAD_SMO_JUDGE4  object \n",
      " 24  UNLOAD_SMO_JUDGE5  object \n",
      " 25  UNLOAD_SMO_JUDGE6  object \n",
      " 26  UNLOAD_SMO_LIM1    float64\n",
      " 27  UNLOAD_SMO_LIM2    float64\n",
      " 28  UNLOAD_SMO_LIM3    float64\n",
      " 29  UNLOAD_SMO_LIM4    float64\n",
      " 30  UNLOAD_SMO_LIM5    float64\n",
      " 31  UNLOAD_SMO_LIM6    float64\n",
      " 32  UNLOAD_SMO_VAL1    float64\n",
      " 33  UNLOAD_SMO_VAL2    float64\n",
      " 34  UNLOAD_SMO_VAL3    float64\n",
      " 35  UNLOAD_SMO_VAL4    float64\n",
      " 36  UNLOAD_SMO_VAL5    float64\n",
      " 37  UNLOAD_SMO_VAL6    float64\n",
      " 38  USAGE              object \n",
      "dtypes: float64(16), int64(2), object(21)\n",
      "memory usage: 6.4+ GB\n"
     ]
    }
   ],
   "source": [
    "ins = ins[col]\n",
    "ins.info()"
   ]
  },
  {
   "cell_type": "code",
   "execution_count": 17,
   "metadata": {},
   "outputs": [],
   "source": [
    "ins.columns = sel_col"
   ]
  },
  {
   "cell_type": "code",
   "execution_count": 18,
   "metadata": {},
   "outputs": [
    {
     "data": {
      "text/plain": [
       "Index(['사용연료', '주행거리', '차명', '차량번호', '차대번호', '차종', '차량연식', '검사방법', '이산화탄소값',\n",
       "       '최대출력허용치', '최대출력측정값', '엔진형식', '검사접수번호', '정기검사일자', '검사종류', '검사소명',\n",
       "       '검사판정시각', '정기검사판정', '산소값', '재검사기간', '무부하매연판정1', '무부하매연판정2', '무부하매연판정3',\n",
       "       '무부하매연판정4', '무부하매연판정5', '무부하매연판정6', '무부하매연허용치1', '무부하매연허용치2',\n",
       "       '무부하매연허용치3', '무부하매연허용치4', '무부하매연허용치5', '무부하매연허용치6', '무부하매연측정치1',\n",
       "       '무부하매연측정치2', '무부하매연측정치3', '무부하매연측정치4', '무부하매연측정치5', '무부하매연측정치6',\n",
       "       '차량용도'],\n",
       "      dtype='object')"
      ]
     },
     "execution_count": 18,
     "metadata": {},
     "output_type": "execute_result"
    }
   ],
   "source": [
    "ins.columns"
   ]
  },
  {
   "cell_type": "code",
   "execution_count": 19,
   "metadata": {},
   "outputs": [],
   "source": [
    "ins.columns = ['사용연료', '주행거리', '차명', '차량번호', '차대번호', '차종', '차량연식', '검사방법', '이산화탄소값', '최대출력허용치',\n",
    "       '최대출력측정값', '엔진형식', '검사접수번호', '검사일자', '검사종류', '검사소명', '검사판정시각',\n",
    "       '검사판정', '산소값', '재검사기간', '무부하매연판정1', '무부하매연판정2', '무부하매연판정3',\n",
    "       '무부하매연판정4', '무부하매연판정5', '무부하매연판정6', '무부하매연허용치1', '무부하매연허용치2',\n",
    "       '무부하매연허용치3', '무부하매연허용치4', '무부하매연허용치5', '무부하매연허용치6', '무부하매연측정치1',\n",
    "       '무부하매연측정치2', '무부하매연측정치3', '무부하매연측정치4', '무부하매연측정치5', '무부하매연측정치6',\n",
    "       '차량용도']\n",
    "ins['정기정밀'] = '정기'"
   ]
  },
  {
   "attachments": {},
   "cell_type": "markdown",
   "metadata": {},
   "source": [
    "### [로드] 정밀검사"
   ]
  },
  {
   "attachments": {},
   "cell_type": "markdown",
   "metadata": {},
   "source": [
    "#### columns"
   ]
  },
  {
   "cell_type": "code",
   "execution_count": 20,
   "metadata": {},
   "outputs": [],
   "source": [
    "file_name = 'TB_EET_HIS_ME'\n",
    "col_exc = pd.read_excel(f'analysis/ODSvsSTD/[정제]{file_name}.xlsx', sheet_name='ODS_col')"
   ]
  },
  {
   "cell_type": "code",
   "execution_count": 21,
   "metadata": {},
   "outputs": [
    {
     "data": {
      "text/html": [
       "<div>\n",
       "<style scoped>\n",
       "    .dataframe tbody tr th:only-of-type {\n",
       "        vertical-align: middle;\n",
       "    }\n",
       "\n",
       "    .dataframe tbody tr th {\n",
       "        vertical-align: top;\n",
       "    }\n",
       "\n",
       "    .dataframe thead th {\n",
       "        text-align: right;\n",
       "    }\n",
       "</style>\n",
       "<table border=\"1\" class=\"dataframe\">\n",
       "  <thead>\n",
       "    <tr style=\"text-align: right;\">\n",
       "      <th></th>\n",
       "      <th>컬럼</th>\n",
       "      <th>내용</th>\n",
       "    </tr>\n",
       "  </thead>\n",
       "  <tbody>\n",
       "    <tr>\n",
       "      <th>0</th>\n",
       "      <td>CAR_FUEL_NM</td>\n",
       "      <td>사용연료</td>\n",
       "    </tr>\n",
       "    <tr>\n",
       "      <th>1</th>\n",
       "      <td>CAR_MILE</td>\n",
       "      <td>주행거리</td>\n",
       "    </tr>\n",
       "    <tr>\n",
       "      <th>2</th>\n",
       "      <td>CAR_NM</td>\n",
       "      <td>차명</td>\n",
       "    </tr>\n",
       "    <tr>\n",
       "      <th>3</th>\n",
       "      <td>CAR_REG_NO</td>\n",
       "      <td>차량번호</td>\n",
       "    </tr>\n",
       "    <tr>\n",
       "      <th>4</th>\n",
       "      <td>CAR_SER_NO</td>\n",
       "      <td>차대번호</td>\n",
       "    </tr>\n",
       "    <tr>\n",
       "      <th>...</th>\n",
       "      <td>...</td>\n",
       "      <td>...</td>\n",
       "    </tr>\n",
       "    <tr>\n",
       "      <th>70</th>\n",
       "      <td>DELETE_GBN</td>\n",
       "      <td>미정</td>\n",
       "    </tr>\n",
       "    <tr>\n",
       "      <th>71</th>\n",
       "      <td>DELETE_REASON1</td>\n",
       "      <td>미정</td>\n",
       "    </tr>\n",
       "    <tr>\n",
       "      <th>72</th>\n",
       "      <td>DELETE_REASON2</td>\n",
       "      <td>미정</td>\n",
       "    </tr>\n",
       "    <tr>\n",
       "      <th>73</th>\n",
       "      <td>DELETE_REASON3</td>\n",
       "      <td>미정</td>\n",
       "    </tr>\n",
       "    <tr>\n",
       "      <th>74</th>\n",
       "      <td>DELETE_REASON4</td>\n",
       "      <td>미정</td>\n",
       "    </tr>\n",
       "  </tbody>\n",
       "</table>\n",
       "<p>75 rows × 2 columns</p>\n",
       "</div>"
      ],
      "text/plain": [
       "                컬럼    내용\n",
       "0      CAR_FUEL_NM  사용연료\n",
       "1         CAR_MILE  주행거리\n",
       "2           CAR_NM    차명\n",
       "3       CAR_REG_NO  차량번호\n",
       "4       CAR_SER_NO  차대번호\n",
       "..             ...   ...\n",
       "70      DELETE_GBN    미정\n",
       "71  DELETE_REASON1    미정\n",
       "72  DELETE_REASON2    미정\n",
       "73  DELETE_REASON3    미정\n",
       "74  DELETE_REASON4    미정\n",
       "\n",
       "[75 rows x 2 columns]"
      ]
     },
     "execution_count": 21,
     "metadata": {},
     "output_type": "execute_result"
    }
   ],
   "source": [
    "col_exc"
   ]
  },
  {
   "cell_type": "code",
   "execution_count": 22,
   "metadata": {},
   "outputs": [
    {
     "data": {
      "text/html": [
       "<div>\n",
       "<style scoped>\n",
       "    .dataframe tbody tr th:only-of-type {\n",
       "        vertical-align: middle;\n",
       "    }\n",
       "\n",
       "    .dataframe tbody tr th {\n",
       "        vertical-align: top;\n",
       "    }\n",
       "\n",
       "    .dataframe thead th {\n",
       "        text-align: right;\n",
       "    }\n",
       "</style>\n",
       "<table border=\"1\" class=\"dataframe\">\n",
       "  <thead>\n",
       "    <tr style=\"text-align: right;\">\n",
       "      <th></th>\n",
       "      <th>컬럼</th>\n",
       "      <th>내용</th>\n",
       "    </tr>\n",
       "  </thead>\n",
       "  <tbody>\n",
       "    <tr>\n",
       "      <th>0</th>\n",
       "      <td>CAR_FUEL_NM</td>\n",
       "      <td>사용연료</td>\n",
       "    </tr>\n",
       "    <tr>\n",
       "      <th>1</th>\n",
       "      <td>CAR_MILE</td>\n",
       "      <td>주행거리</td>\n",
       "    </tr>\n",
       "    <tr>\n",
       "      <th>2</th>\n",
       "      <td>CAR_NM</td>\n",
       "      <td>차명</td>\n",
       "    </tr>\n",
       "    <tr>\n",
       "      <th>3</th>\n",
       "      <td>CAR_REG_NO</td>\n",
       "      <td>차량번호</td>\n",
       "    </tr>\n",
       "    <tr>\n",
       "      <th>4</th>\n",
       "      <td>CAR_SER_NO</td>\n",
       "      <td>차대번호</td>\n",
       "    </tr>\n",
       "    <tr>\n",
       "      <th>5</th>\n",
       "      <td>CAR_TYPE_NM</td>\n",
       "      <td>차종</td>\n",
       "    </tr>\n",
       "    <tr>\n",
       "      <th>6</th>\n",
       "      <td>CAR_YEAR</td>\n",
       "      <td>차량연식</td>\n",
       "    </tr>\n",
       "    <tr>\n",
       "      <th>7</th>\n",
       "      <td>CMB_SMO_CHK_REG_NO</td>\n",
       "      <td>정밀검사 검사소코드</td>\n",
       "    </tr>\n",
       "    <tr>\n",
       "      <th>8</th>\n",
       "      <td>CO2_VAL</td>\n",
       "      <td>이산화탄소값</td>\n",
       "    </tr>\n",
       "    <tr>\n",
       "      <th>9</th>\n",
       "      <td>ENGINE_TOR_LIM</td>\n",
       "      <td>최대출력허용치</td>\n",
       "    </tr>\n",
       "    <tr>\n",
       "      <th>10</th>\n",
       "      <td>ENGINE_TOR_VAL</td>\n",
       "      <td>최대출력측정값</td>\n",
       "    </tr>\n",
       "    <tr>\n",
       "      <th>11</th>\n",
       "      <td>ENGINE_TYPE</td>\n",
       "      <td>엔진형식</td>\n",
       "    </tr>\n",
       "    <tr>\n",
       "      <th>12</th>\n",
       "      <td>O2_VAL</td>\n",
       "      <td>산소값</td>\n",
       "    </tr>\n",
       "    <tr>\n",
       "      <th>13</th>\n",
       "      <td>RE_INS_DATE2</td>\n",
       "      <td>재검사기간</td>\n",
       "    </tr>\n",
       "    <tr>\n",
       "      <th>14</th>\n",
       "      <td>SMO_CHK_DATE</td>\n",
       "      <td>정밀검사일자</td>\n",
       "    </tr>\n",
       "    <tr>\n",
       "      <th>15</th>\n",
       "      <td>SMO_CHK_JUDGE_YN</td>\n",
       "      <td>정밀검사판정</td>\n",
       "    </tr>\n",
       "    <tr>\n",
       "      <th>16</th>\n",
       "      <td>SMO_CHK_METHOD</td>\n",
       "      <td>정밀검사측정방법</td>\n",
       "    </tr>\n",
       "    <tr>\n",
       "      <th>17</th>\n",
       "      <td>SMO_CHK_ORG_NM</td>\n",
       "      <td>정밀검사소명</td>\n",
       "    </tr>\n",
       "    <tr>\n",
       "      <th>18</th>\n",
       "      <td>SMO_CHK_REG_NO</td>\n",
       "      <td>정밀검사접수번호</td>\n",
       "    </tr>\n",
       "    <tr>\n",
       "      <th>19</th>\n",
       "      <td>SMO_CHK_TYPE</td>\n",
       "      <td>정밀검사종류</td>\n",
       "    </tr>\n",
       "    <tr>\n",
       "      <th>20</th>\n",
       "      <td>SMO_CLOCK_INFO</td>\n",
       "      <td>정밀검사시각정보</td>\n",
       "    </tr>\n",
       "    <tr>\n",
       "      <th>21</th>\n",
       "      <td>UNLOAD_SMO_JUDGE1</td>\n",
       "      <td>무부하매연판정1</td>\n",
       "    </tr>\n",
       "    <tr>\n",
       "      <th>22</th>\n",
       "      <td>UNLOAD_SMO_JUDGE2</td>\n",
       "      <td>무부하매연판정2</td>\n",
       "    </tr>\n",
       "    <tr>\n",
       "      <th>23</th>\n",
       "      <td>UNLOAD_SMO_JUDGE3</td>\n",
       "      <td>무부하매연판정3</td>\n",
       "    </tr>\n",
       "    <tr>\n",
       "      <th>24</th>\n",
       "      <td>UNLOAD_SMO_JUDGE4</td>\n",
       "      <td>무부하매연판정4</td>\n",
       "    </tr>\n",
       "    <tr>\n",
       "      <th>25</th>\n",
       "      <td>UNLOAD_SMO_JUDGE5</td>\n",
       "      <td>무부하매연판정5</td>\n",
       "    </tr>\n",
       "    <tr>\n",
       "      <th>26</th>\n",
       "      <td>UNLOAD_SMO_JUDGE6</td>\n",
       "      <td>무부하매연판정6</td>\n",
       "    </tr>\n",
       "    <tr>\n",
       "      <th>27</th>\n",
       "      <td>UNLOAD_SMO_LIM1</td>\n",
       "      <td>무부하매연허용치1</td>\n",
       "    </tr>\n",
       "    <tr>\n",
       "      <th>28</th>\n",
       "      <td>UNLOAD_SMO_LIM2</td>\n",
       "      <td>무부하매연허용치2</td>\n",
       "    </tr>\n",
       "    <tr>\n",
       "      <th>29</th>\n",
       "      <td>UNLOAD_SMO_LIM3</td>\n",
       "      <td>무부하매연허용치3</td>\n",
       "    </tr>\n",
       "    <tr>\n",
       "      <th>30</th>\n",
       "      <td>UNLOAD_SMO_LIM4</td>\n",
       "      <td>무부하매연허용치4</td>\n",
       "    </tr>\n",
       "    <tr>\n",
       "      <th>31</th>\n",
       "      <td>UNLOAD_SMO_LIM5</td>\n",
       "      <td>무부하매연허용치5</td>\n",
       "    </tr>\n",
       "    <tr>\n",
       "      <th>32</th>\n",
       "      <td>UNLOAD_SMO_LIM6</td>\n",
       "      <td>무부하매연허용치6</td>\n",
       "    </tr>\n",
       "    <tr>\n",
       "      <th>33</th>\n",
       "      <td>UNLOAD_SMO_VAL1</td>\n",
       "      <td>무부하매연측정치1</td>\n",
       "    </tr>\n",
       "    <tr>\n",
       "      <th>34</th>\n",
       "      <td>UNLOAD_SMO_VAL2</td>\n",
       "      <td>무부하매연측정치2</td>\n",
       "    </tr>\n",
       "    <tr>\n",
       "      <th>35</th>\n",
       "      <td>UNLOAD_SMO_VAL3</td>\n",
       "      <td>무부하매연측정치3</td>\n",
       "    </tr>\n",
       "    <tr>\n",
       "      <th>36</th>\n",
       "      <td>UNLOAD_SMO_VAL4</td>\n",
       "      <td>무부하매연측정치4</td>\n",
       "    </tr>\n",
       "    <tr>\n",
       "      <th>37</th>\n",
       "      <td>UNLOAD_SMO_VAL5</td>\n",
       "      <td>무부하매연측정치5</td>\n",
       "    </tr>\n",
       "    <tr>\n",
       "      <th>38</th>\n",
       "      <td>UNLOAD_SMO_VAL6</td>\n",
       "      <td>무부하매연측정치6</td>\n",
       "    </tr>\n",
       "    <tr>\n",
       "      <th>39</th>\n",
       "      <td>USAGE</td>\n",
       "      <td>차량용도</td>\n",
       "    </tr>\n",
       "    <tr>\n",
       "      <th>40</th>\n",
       "      <td>SMO_CHK_EXP_DATE</td>\n",
       "      <td>정밀검사유효기간</td>\n",
       "    </tr>\n",
       "  </tbody>\n",
       "</table>\n",
       "</div>"
      ],
      "text/plain": [
       "                    컬럼          내용\n",
       "0          CAR_FUEL_NM        사용연료\n",
       "1             CAR_MILE        주행거리\n",
       "2               CAR_NM          차명\n",
       "3           CAR_REG_NO        차량번호\n",
       "4           CAR_SER_NO        차대번호\n",
       "5          CAR_TYPE_NM          차종\n",
       "6             CAR_YEAR        차량연식\n",
       "7   CMB_SMO_CHK_REG_NO  정밀검사 검사소코드\n",
       "8              CO2_VAL      이산화탄소값\n",
       "9       ENGINE_TOR_LIM     최대출력허용치\n",
       "10      ENGINE_TOR_VAL     최대출력측정값\n",
       "11         ENGINE_TYPE        엔진형식\n",
       "12              O2_VAL         산소값\n",
       "13        RE_INS_DATE2       재검사기간\n",
       "14        SMO_CHK_DATE      정밀검사일자\n",
       "15    SMO_CHK_JUDGE_YN      정밀검사판정\n",
       "16      SMO_CHK_METHOD    정밀검사측정방법\n",
       "17      SMO_CHK_ORG_NM      정밀검사소명\n",
       "18      SMO_CHK_REG_NO    정밀검사접수번호\n",
       "19        SMO_CHK_TYPE      정밀검사종류\n",
       "20      SMO_CLOCK_INFO    정밀검사시각정보\n",
       "21   UNLOAD_SMO_JUDGE1    무부하매연판정1\n",
       "22   UNLOAD_SMO_JUDGE2    무부하매연판정2\n",
       "23   UNLOAD_SMO_JUDGE3    무부하매연판정3\n",
       "24   UNLOAD_SMO_JUDGE4    무부하매연판정4\n",
       "25   UNLOAD_SMO_JUDGE5    무부하매연판정5\n",
       "26   UNLOAD_SMO_JUDGE6    무부하매연판정6\n",
       "27     UNLOAD_SMO_LIM1   무부하매연허용치1\n",
       "28     UNLOAD_SMO_LIM2   무부하매연허용치2\n",
       "29     UNLOAD_SMO_LIM3   무부하매연허용치3\n",
       "30     UNLOAD_SMO_LIM4   무부하매연허용치4\n",
       "31     UNLOAD_SMO_LIM5   무부하매연허용치5\n",
       "32     UNLOAD_SMO_LIM6   무부하매연허용치6\n",
       "33     UNLOAD_SMO_VAL1   무부하매연측정치1\n",
       "34     UNLOAD_SMO_VAL2   무부하매연측정치2\n",
       "35     UNLOAD_SMO_VAL3   무부하매연측정치3\n",
       "36     UNLOAD_SMO_VAL4   무부하매연측정치4\n",
       "37     UNLOAD_SMO_VAL5   무부하매연측정치5\n",
       "38     UNLOAD_SMO_VAL6   무부하매연측정치6\n",
       "39               USAGE        차량용도\n",
       "40    SMO_CHK_EXP_DATE    정밀검사유효기간"
      ]
     },
     "execution_count": 22,
     "metadata": {},
     "output_type": "execute_result"
    }
   ],
   "source": [
    "col_exc = col_exc.loc[:40]\n",
    "col_exc"
   ]
  },
  {
   "cell_type": "code",
   "execution_count": 23,
   "metadata": {},
   "outputs": [
    {
     "data": {
      "text/plain": [
       "['CAR_FUEL_NM',\n",
       " 'CAR_MILE',\n",
       " 'CAR_NM',\n",
       " 'CAR_REG_NO',\n",
       " 'CAR_SER_NO',\n",
       " 'CAR_TYPE_NM',\n",
       " 'CAR_YEAR',\n",
       " 'CMB_SMO_CHK_REG_NO',\n",
       " 'CO2_VAL',\n",
       " 'ENGINE_TOR_LIM',\n",
       " 'ENGINE_TOR_VAL',\n",
       " 'ENGINE_TYPE',\n",
       " 'O2_VAL',\n",
       " 'RE_INS_DATE2',\n",
       " 'SMO_CHK_DATE',\n",
       " 'SMO_CHK_JUDGE_YN',\n",
       " 'SMO_CHK_METHOD',\n",
       " 'SMO_CHK_ORG_NM',\n",
       " 'SMO_CHK_REG_NO',\n",
       " 'SMO_CHK_TYPE',\n",
       " 'SMO_CLOCK_INFO',\n",
       " 'UNLOAD_SMO_JUDGE1',\n",
       " 'UNLOAD_SMO_JUDGE2',\n",
       " 'UNLOAD_SMO_JUDGE3',\n",
       " 'UNLOAD_SMO_JUDGE4',\n",
       " 'UNLOAD_SMO_JUDGE5',\n",
       " 'UNLOAD_SMO_JUDGE6',\n",
       " 'UNLOAD_SMO_LIM1',\n",
       " 'UNLOAD_SMO_LIM2',\n",
       " 'UNLOAD_SMO_LIM3',\n",
       " 'UNLOAD_SMO_LIM4',\n",
       " 'UNLOAD_SMO_LIM5',\n",
       " 'UNLOAD_SMO_LIM6',\n",
       " 'UNLOAD_SMO_VAL1',\n",
       " 'UNLOAD_SMO_VAL2',\n",
       " 'UNLOAD_SMO_VAL3',\n",
       " 'UNLOAD_SMO_VAL4',\n",
       " 'UNLOAD_SMO_VAL5',\n",
       " 'UNLOAD_SMO_VAL6',\n",
       " 'USAGE',\n",
       " 'SMO_CHK_EXP_DATE']"
      ]
     },
     "execution_count": 23,
     "metadata": {},
     "output_type": "execute_result"
    }
   ],
   "source": [
    "col = col_exc['컬럼'].to_list()\n",
    "col"
   ]
  },
  {
   "cell_type": "code",
   "execution_count": 24,
   "metadata": {},
   "outputs": [
    {
     "data": {
      "text/plain": [
       "['사용연료',\n",
       " '주행거리',\n",
       " '차명',\n",
       " '차량번호',\n",
       " '차대번호',\n",
       " '차종',\n",
       " '차량연식',\n",
       " '정밀검사 검사소코드',\n",
       " '이산화탄소값',\n",
       " '최대출력허용치',\n",
       " '최대출력측정값',\n",
       " '엔진형식',\n",
       " '산소값',\n",
       " '재검사기간',\n",
       " '정밀검사일자',\n",
       " '정밀검사판정',\n",
       " '정밀검사측정방법',\n",
       " '정밀검사소명',\n",
       " '정밀검사접수번호',\n",
       " '정밀검사종류',\n",
       " '정밀검사시각정보',\n",
       " '무부하매연판정1',\n",
       " '무부하매연판정2',\n",
       " '무부하매연판정3',\n",
       " '무부하매연판정4',\n",
       " '무부하매연판정5',\n",
       " '무부하매연판정6',\n",
       " '무부하매연허용치1',\n",
       " '무부하매연허용치2',\n",
       " '무부하매연허용치3',\n",
       " '무부하매연허용치4',\n",
       " '무부하매연허용치5',\n",
       " '무부하매연허용치6',\n",
       " '무부하매연측정치1',\n",
       " '무부하매연측정치2',\n",
       " '무부하매연측정치3',\n",
       " '무부하매연측정치4',\n",
       " '무부하매연측정치5',\n",
       " '무부하매연측정치6',\n",
       " '차량용도',\n",
       " '정밀검사유효기간']"
      ]
     },
     "execution_count": 24,
     "metadata": {},
     "output_type": "execute_result"
    }
   ],
   "source": [
    "# 필요한 컬럼만 추출\n",
    "sel_col = col_exc['내용'].to_list()\n",
    "sel_col"
   ]
  },
  {
   "attachments": {},
   "cell_type": "markdown",
   "metadata": {},
   "source": [
    "#### [로드] 정밀검사"
   ]
  },
  {
   "cell_type": "code",
   "execution_count": 25,
   "metadata": {},
   "outputs": [
    {
     "name": "stdout",
     "output_type": "stream",
     "text": [
      "<class 'pandas.core.frame.DataFrame'>\n",
      "RangeIndex: 28682228 entries, 0 to 28682227\n",
      "Data columns (total 41 columns):\n",
      " #   Column              Dtype  \n",
      "---  ------              -----  \n",
      " 0   SMO_CHK_ORG_NM      object \n",
      " 1   SMO_CHK_DATE        int64  \n",
      " 2   SMO_CHK_TYPE        object \n",
      " 3   SMO_CHK_REG_NO      object \n",
      " 4   CAR_REG_NO          object \n",
      " 5   CAR_SER_NO          object \n",
      " 6   CAR_NM              object \n",
      " 7   CAR_TYPE_NM         object \n",
      " 8   USAGE               object \n",
      " 9   CAR_YEAR            int64  \n",
      " 10  CAR_FUEL_NM         object \n",
      " 11  CAR_MILE            float64\n",
      " 12  ENGINE_TYPE         object \n",
      " 13  SMO_CHK_EXP_DATE    float64\n",
      " 14  SMO_CHK_METHOD      object \n",
      " 15  UNLOAD_SMO_VAL1     float64\n",
      " 16  UNLOAD_SMO_LIM1     float64\n",
      " 17  UNLOAD_SMO_JUDGE1   object \n",
      " 18  UNLOAD_SMO_VAL2     float64\n",
      " 19  UNLOAD_SMO_LIM2     float64\n",
      " 20  UNLOAD_SMO_JUDGE2   object \n",
      " 21  UNLOAD_SMO_VAL3     float64\n",
      " 22  UNLOAD_SMO_LIM3     float64\n",
      " 23  UNLOAD_SMO_JUDGE3   object \n",
      " 24  UNLOAD_SMO_VAL4     float64\n",
      " 25  UNLOAD_SMO_LIM4     float64\n",
      " 26  UNLOAD_SMO_JUDGE4   object \n",
      " 27  UNLOAD_SMO_VAL5     float64\n",
      " 28  UNLOAD_SMO_LIM5     float64\n",
      " 29  UNLOAD_SMO_JUDGE5   object \n",
      " 30  CO2_VAL             float64\n",
      " 31  ENGINE_TOR_LIM      float64\n",
      " 32  ENGINE_TOR_VAL      float64\n",
      " 33  O2_VAL              float64\n",
      " 34  SMO_CHK_JUDGE_YN    object \n",
      " 35  RE_INS_DATE2        object \n",
      " 36  SMO_CLOCK_INFO      object \n",
      " 37  CMB_SMO_CHK_REG_NO  object \n",
      " 38  UNLOAD_SMO_VAL6     float64\n",
      " 39  UNLOAD_SMO_LIM6     float64\n",
      " 40  UNLOAD_SMO_JUDGE6   object \n",
      "dtypes: float64(18), int64(2), object(21)\n",
      "memory usage: 8.8+ GB\n"
     ]
    }
   ],
   "source": [
    "# about 8m 44s\n",
    "file_name = 'ODS_TB_EET_HIS_ME.csv'\n",
    "dins = pd.read_csv(os.path.join(ods_fold, file_name), usecols=col, low_memory=False)\n",
    "dins.info()"
   ]
  },
  {
   "cell_type": "code",
   "execution_count": 26,
   "metadata": {},
   "outputs": [
    {
     "name": "stdout",
     "output_type": "stream",
     "text": [
      "<class 'pandas.core.frame.DataFrame'>\n",
      "RangeIndex: 28682228 entries, 0 to 28682227\n",
      "Data columns (total 41 columns):\n",
      " #   Column              Dtype  \n",
      "---  ------              -----  \n",
      " 0   CAR_FUEL_NM         object \n",
      " 1   CAR_MILE            float64\n",
      " 2   CAR_NM              object \n",
      " 3   CAR_REG_NO          object \n",
      " 4   CAR_SER_NO          object \n",
      " 5   CAR_TYPE_NM         object \n",
      " 6   CAR_YEAR            int64  \n",
      " 7   CMB_SMO_CHK_REG_NO  object \n",
      " 8   CO2_VAL             float64\n",
      " 9   ENGINE_TOR_LIM      float64\n",
      " 10  ENGINE_TOR_VAL      float64\n",
      " 11  ENGINE_TYPE         object \n",
      " 12  O2_VAL              float64\n",
      " 13  RE_INS_DATE2        object \n",
      " 14  SMO_CHK_DATE        int64  \n",
      " 15  SMO_CHK_JUDGE_YN    object \n",
      " 16  SMO_CHK_METHOD      object \n",
      " 17  SMO_CHK_ORG_NM      object \n",
      " 18  SMO_CHK_REG_NO      object \n",
      " 19  SMO_CHK_TYPE        object \n",
      " 20  SMO_CLOCK_INFO      object \n",
      " 21  UNLOAD_SMO_JUDGE1   object \n",
      " 22  UNLOAD_SMO_JUDGE2   object \n",
      " 23  UNLOAD_SMO_JUDGE3   object \n",
      " 24  UNLOAD_SMO_JUDGE4   object \n",
      " 25  UNLOAD_SMO_JUDGE5   object \n",
      " 26  UNLOAD_SMO_JUDGE6   object \n",
      " 27  UNLOAD_SMO_LIM1     float64\n",
      " 28  UNLOAD_SMO_LIM2     float64\n",
      " 29  UNLOAD_SMO_LIM3     float64\n",
      " 30  UNLOAD_SMO_LIM4     float64\n",
      " 31  UNLOAD_SMO_LIM5     float64\n",
      " 32  UNLOAD_SMO_LIM6     float64\n",
      " 33  UNLOAD_SMO_VAL1     float64\n",
      " 34  UNLOAD_SMO_VAL2     float64\n",
      " 35  UNLOAD_SMO_VAL3     float64\n",
      " 36  UNLOAD_SMO_VAL4     float64\n",
      " 37  UNLOAD_SMO_VAL5     float64\n",
      " 38  UNLOAD_SMO_VAL6     float64\n",
      " 39  USAGE               object \n",
      " 40  SMO_CHK_EXP_DATE    float64\n",
      "dtypes: float64(18), int64(2), object(21)\n",
      "memory usage: 8.8+ GB\n"
     ]
    }
   ],
   "source": [
    "dins = dins[col]\n",
    "dins.info()"
   ]
  },
  {
   "cell_type": "code",
   "execution_count": 27,
   "metadata": {},
   "outputs": [],
   "source": [
    "dins.columns = sel_col"
   ]
  },
  {
   "cell_type": "code",
   "execution_count": 28,
   "metadata": {},
   "outputs": [
    {
     "data": {
      "text/plain": [
       "Index(['사용연료', '주행거리', '차명', '차량번호', '차대번호', '차종', '차량연식', '정밀검사 검사소코드',\n",
       "       '이산화탄소값', '최대출력허용치', '최대출력측정값', '엔진형식', '산소값', '재검사기간', '정밀검사일자',\n",
       "       '정밀검사판정', '정밀검사측정방법', '정밀검사소명', '정밀검사접수번호', '정밀검사종류', '정밀검사시각정보',\n",
       "       '무부하매연판정1', '무부하매연판정2', '무부하매연판정3', '무부하매연판정4', '무부하매연판정5', '무부하매연판정6',\n",
       "       '무부하매연허용치1', '무부하매연허용치2', '무부하매연허용치3', '무부하매연허용치4', '무부하매연허용치5',\n",
       "       '무부하매연허용치6', '무부하매연측정치1', '무부하매연측정치2', '무부하매연측정치3', '무부하매연측정치4',\n",
       "       '무부하매연측정치5', '무부하매연측정치6', '차량용도', '정밀검사유효기간'],\n",
       "      dtype='object')"
      ]
     },
     "execution_count": 28,
     "metadata": {},
     "output_type": "execute_result"
    }
   ],
   "source": [
    "dins.columns"
   ]
  },
  {
   "cell_type": "code",
   "execution_count": 29,
   "metadata": {},
   "outputs": [],
   "source": [
    "dins = dins[['사용연료', '주행거리', '차명', '차량번호', '차대번호', '차종', '차량연식', '정밀검사측정방법', '이산화탄소값',\n",
    "       '최대출력허용치', '최대출력측정값', '엔진형식', '정밀검사접수번호', '정밀검사일자', '정밀검사종류', '정밀검사소명', '정밀검사시각정보', '정밀검사판정', \n",
    "       '산소값', '재검사기간',  '무부하매연판정1', '무부하매연판정2', '무부하매연판정3', '무부하매연판정4', '무부하매연판정5', '무부하매연판정6', '무부하매연허용치1',\n",
    "       '무부하매연허용치2', '무부하매연허용치3', '무부하매연허용치4', '무부하매연허용치5', '무부하매연허용치6',\n",
    "       '무부하매연측정치1', '무부하매연측정치2', '무부하매연측정치3', '무부하매연측정치4', '무부하매연측정치5',\n",
    "       '무부하매연측정치6', '차량용도']]"
   ]
  },
  {
   "cell_type": "code",
   "execution_count": 30,
   "metadata": {},
   "outputs": [],
   "source": [
    "dins.columns = ['사용연료', '주행거리', '차명', '차량번호', '차대번호', '차종', '차량연식', '검사방법', '이산화탄소값', '최대출력허용치',\n",
    "       '최대출력측정값', '엔진형식', '검사접수번호', '검사일자', '검사종류', '검사소명', '검사판정시각',\n",
    "       '검사판정', '산소값', '재검사기간', '무부하매연판정1', '무부하매연판정2', '무부하매연판정3',\n",
    "       '무부하매연판정4', '무부하매연판정5', '무부하매연판정6', '무부하매연허용치1', '무부하매연허용치2',\n",
    "       '무부하매연허용치3', '무부하매연허용치4', '무부하매연허용치5', '무부하매연허용치6', '무부하매연측정치1',\n",
    "       '무부하매연측정치2', '무부하매연측정치3', '무부하매연측정치4', '무부하매연측정치5', '무부하매연측정치6',\n",
    "       '차량용도']"
   ]
  },
  {
   "cell_type": "code",
   "execution_count": 31,
   "metadata": {},
   "outputs": [],
   "source": [
    "dins['정기정밀'] = '정밀'"
   ]
  },
  {
   "cell_type": "code",
   "execution_count": 32,
   "metadata": {},
   "outputs": [
    {
     "data": {
      "text/plain": [
       "(40, 40)"
      ]
     },
     "execution_count": 32,
     "metadata": {},
     "output_type": "execute_result"
    }
   ],
   "source": [
    "len(ins.columns), len(dins.columns)"
   ]
  },
  {
   "cell_type": "code",
   "execution_count": 36,
   "metadata": {},
   "outputs": [
    {
     "data": {
      "text/plain": [
       "((4790, 71), (92265, 71))"
      ]
     },
     "execution_count": 36,
     "metadata": {},
     "output_type": "execute_result"
    }
   ],
   "source": [
    "m3.shape, m4.shape"
   ]
  },
  {
   "cell_type": "code",
   "execution_count": 41,
   "metadata": {},
   "outputs": [
    {
     "data": {
      "text/plain": [
       "Index(['차량관리번호', '차량등록번호', '본거지법정동코드', '소유자구분', '차종_등록정보', '용도', '현재회원번호',\n",
       "       '차대번호', '최초등록일자', '차량연식', '차량제작일자', '배출가스검사유효일자', '제원관리번호', '배출가스인증번호',\n",
       "       '배출가스등급', '저공해조치YN(미사용)', '저공해조치종류', '저공해조치구조변경YN', '차량등록번호숫자정보',\n",
       "       '차량말소YN', '최초회원번호', '취득일자', '취득금액', '생성일시_등록정보', '수정일시_등록정보', '차명',\n",
       "       '차종_제원정보', '차종분류', '차종유형(소분류)', '자동차형식', '제작사명', '연료', '엔진형식', '공차중량',\n",
       "       '총중량', '적재중량', '엔진출력', '배기량', '승차인원', '차량길이', '차량너비', '차량높이', '원산지명',\n",
       "       '삭제YN', '승인일자', '구동형식', '변속기종류', '생성일시_제원정보', '수정일시_제원정보', '검사방법',\n",
       "       '검사종류', '검사판정', '무부하매연판정1', '무부하매연판정2', '무부하매연판정3', '무부하매연판정4',\n",
       "       '무부하매연판정5', '무부하매연판정6', '무부하매연허용치1', '무부하매연허용치2', '무부하매연허용치3',\n",
       "       '무부하매연허용치4', '무부하매연허용치5', '무부하매연허용치6', '무부하매연측정치1', '무부하매연측정치2',\n",
       "       '무부하매연측정치3', '무부하매연측정치4', '무부하매연측정치5', '무부하매연측정치6', '정기정밀'],\n",
       "      dtype='object')"
      ]
     },
     "execution_count": 41,
     "metadata": {},
     "output_type": "execute_result"
    }
   ],
   "source": [
    "m3.columns"
   ]
  },
  {
   "cell_type": "code",
   "execution_count": 42,
   "metadata": {},
   "outputs": [
    {
     "data": {
      "text/plain": [
       "Index(['차량관리번호', '차량등록번호', '본거지법정동코드', '소유자구분', '차종_등록정보', '용도', '현재회원번호',\n",
       "       '차대번호', '최초등록일자', '차량연식', '차량제작일자', '배출가스검사유효일자', '제원관리번호', '배출가스인증번호',\n",
       "       '배출가스등급', '저공해조치YN(미사용)', '저공해조치종류', '저공해조치구조변경YN', '차량등록번호숫자정보',\n",
       "       '차량말소YN', '최초회원번호', '취득일자', '취득금액', '생성일시_등록정보', '수정일시_등록정보', '차명',\n",
       "       '차종_제원정보', '차종분류', '차종유형(소분류)', '자동차형식', '제작사명', '연료', '엔진형식', '공차중량',\n",
       "       '총중량', '적재중량', '엔진출력', '배기량', '승차인원', '차량길이', '차량너비', '차량높이', '원산지명',\n",
       "       '삭제YN', '승인일자', '구동형식', '변속기종류', '생성일시_제원정보', '수정일시_제원정보', '검사방법',\n",
       "       '검사종류', '검사판정', '무부하매연판정1', '무부하매연판정2', '무부하매연판정3', '무부하매연판정4',\n",
       "       '무부하매연판정5', '무부하매연판정6', '무부하매연허용치1', '무부하매연허용치2', '무부하매연허용치3',\n",
       "       '무부하매연허용치4', '무부하매연허용치5', '무부하매연허용치6', '무부하매연측정치1', '무부하매연측정치2',\n",
       "       '무부하매연측정치3', '무부하매연측정치4', '무부하매연측정치5', '무부하매연측정치6', '정기정밀'],\n",
       "      dtype='object')"
      ]
     },
     "execution_count": 42,
     "metadata": {},
     "output_type": "execute_result"
    }
   ],
   "source": [
    "m4.columns"
   ]
  },
  {
   "cell_type": "code",
   "execution_count": 44,
   "metadata": {},
   "outputs": [
    {
     "data": {
      "text/plain": [
       "Index(['사용연료', '주행거리', '차명', '차량번호', '차대번호', '차종', '차량연식', '검사방법', '이산화탄소값',\n",
       "       '최대출력허용치', '최대출력측정값', '엔진형식', '검사접수번호', '검사일자', '검사종류', '검사소명',\n",
       "       '검사판정시각', '검사판정', '산소값', '재검사기간', '무부하매연판정1', '무부하매연판정2', '무부하매연판정3',\n",
       "       '무부하매연판정4', '무부하매연판정5', '무부하매연판정6', '무부하매연허용치1', '무부하매연허용치2',\n",
       "       '무부하매연허용치3', '무부하매연허용치4', '무부하매연허용치5', '무부하매연허용치6', '무부하매연측정치1',\n",
       "       '무부하매연측정치2', '무부하매연측정치3', '무부하매연측정치4', '무부하매연측정치5', '무부하매연측정치6', '차량용도',\n",
       "       '정기정밀'],\n",
       "      dtype='object')"
      ]
     },
     "execution_count": 44,
     "metadata": {},
     "output_type": "execute_result"
    }
   ],
   "source": [
    "ins.columns"
   ]
  },
  {
   "cell_type": "code",
   "execution_count": 51,
   "metadata": {},
   "outputs": [
    {
     "data": {
      "text/plain": [
       "Index(['사용연료', '주행거리', '차명', '차량번호', '차대번호', '차종', '차량연식', '검사방법', '이산화탄소값',\n",
       "       '최대출력허용치', '최대출력측정값', '엔진형식', '검사접수번호', '검사일자', '검사종류', '검사소명',\n",
       "       '검사판정시각', '검사판정', '산소값', '재검사기간', '무부하매연판정1', '무부하매연판정2', '무부하매연판정3',\n",
       "       '무부하매연판정4', '무부하매연판정5', '무부하매연판정6', '무부하매연허용치1', '무부하매연허용치2',\n",
       "       '무부하매연허용치3', '무부하매연허용치4', '무부하매연허용치5', '무부하매연허용치6', '무부하매연측정치1',\n",
       "       '무부하매연측정치2', '무부하매연측정치3', '무부하매연측정치4', '무부하매연측정치5', '무부하매연측정치6', '차량용도',\n",
       "       '정기정밀'],\n",
       "      dtype='object')"
      ]
     },
     "execution_count": 51,
     "metadata": {},
     "output_type": "execute_result"
    }
   ],
   "source": [
    "dins.columns"
   ]
  },
  {
   "cell_type": "code",
   "execution_count": 48,
   "metadata": {},
   "outputs": [
    {
     "data": {
      "text/plain": [
       "Index(['검사방법', '검사종류', '검사판정', '무부하매연판정1', '무부하매연판정2', '무부하매연판정3', '무부하매연판정4',\n",
       "       '무부하매연판정5', '무부하매연판정6', '무부하매연허용치1', '무부하매연허용치2', '무부하매연허용치3',\n",
       "       '무부하매연허용치4', '무부하매연허용치5', '무부하매연허용치6', '무부하매연측정치1', '무부하매연측정치2',\n",
       "       '무부하매연측정치3', '무부하매연측정치4', '무부하매연측정치5', '무부하매연측정치6', '정기정밀'],\n",
       "      dtype='object')"
      ]
     },
     "execution_count": 48,
     "metadata": {},
     "output_type": "execute_result"
    }
   ],
   "source": [
    "m3.columns[49:]"
   ]
  },
  {
   "cell_type": "code",
   "execution_count": 49,
   "metadata": {},
   "outputs": [
    {
     "data": {
      "text/plain": [
       "(4790, 49)"
      ]
     },
     "execution_count": 49,
     "metadata": {},
     "output_type": "execute_result"
    }
   ],
   "source": [
    "m3_1 = m3[['차량관리번호', '차량등록번호', '본거지법정동코드', '소유자구분', '차종_등록정보', '용도', '현재회원번호',\n",
    "       '차대번호', '최초등록일자', '차량연식', '차량제작일자', '배출가스검사유효일자', '제원관리번호', '배출가스인증번호',\n",
    "       '배출가스등급', '저공해조치YN(미사용)', '저공해조치종류', '저공해조치구조변경YN', '차량등록번호숫자정보',\n",
    "       '차량말소YN', '최초회원번호', '취득일자', '취득금액', '생성일시_등록정보', '수정일시_등록정보', '차명',\n",
    "       '차종_제원정보', '차종분류', '차종유형(소분류)', '자동차형식', '제작사명', '연료', '엔진형식', '공차중량',\n",
    "       '총중량', '적재중량', '엔진출력', '배기량', '승차인원', '차량길이', '차량너비', '차량높이', '원산지명',\n",
    "       '삭제YN', '승인일자', '구동형식', '변속기종류', '생성일시_제원정보', '수정일시_제원정보']]\n",
    "m3_1.shape"
   ]
  },
  {
   "cell_type": "code",
   "execution_count": 50,
   "metadata": {},
   "outputs": [
    {
     "data": {
      "text/plain": [
       "(92265, 49)"
      ]
     },
     "execution_count": 50,
     "metadata": {},
     "output_type": "execute_result"
    }
   ],
   "source": [
    "m4_1 =  m4[['차량관리번호', '차량등록번호', '본거지법정동코드', '소유자구분', '차종_등록정보', '용도', '현재회원번호',\n",
    "       '차대번호', '최초등록일자', '차량연식', '차량제작일자', '배출가스검사유효일자', '제원관리번호', '배출가스인증번호',\n",
    "       '배출가스등급', '저공해조치YN(미사용)', '저공해조치종류', '저공해조치구조변경YN', '차량등록번호숫자정보',\n",
    "       '차량말소YN', '최초회원번호', '취득일자', '취득금액', '생성일시_등록정보', '수정일시_등록정보', '차명',\n",
    "       '차종_제원정보', '차종분류', '차종유형(소분류)', '자동차형식', '제작사명', '연료', '엔진형식', '공차중량',\n",
    "       '총중량', '적재중량', '엔진출력', '배기량', '승차인원', '차량길이', '차량너비', '차량높이', '원산지명',\n",
    "       '삭제YN', '승인일자', '구동형식', '변속기종류', '생성일시_제원정보', '수정일시_제원정보']]\n",
    "m4_1.shape"
   ]
  },
  {
   "cell_type": "code",
   "execution_count": 52,
   "metadata": {},
   "outputs": [
    {
     "data": {
      "text/plain": [
       "((12601262, 40), (15367596, 40))"
      ]
     },
     "execution_count": 52,
     "metadata": {},
     "output_type": "execute_result"
    }
   ],
   "source": [
    "# about 2m 31s\n",
    "ins_m = ins.sort_values('검사판정시각', ascending=False).drop_duplicates(subset=['차대번호']).reset_index(drop=True)\n",
    "dins_m = dins.sort_values('검사판정시각', ascending=False).drop_duplicates(subset=['차대번호']).reset_index(drop=True)\n",
    "ins_m.shape, dins_m.shape"
   ]
  },
  {
   "cell_type": "code",
   "execution_count": 53,
   "metadata": {},
   "outputs": [
    {
     "data": {
      "text/plain": [
       "((4790, 88), (4790, 88), (92265, 88), (92265, 88))"
      ]
     },
     "execution_count": 53,
     "metadata": {},
     "output_type": "execute_result"
    }
   ],
   "source": [
    "# about \n",
    "icond3 = m3_1.merge(ins_m, on='차대번호', how='left') # 3등급 정기\n",
    "dcond3 = m3_1.merge(dins_m, on='차대번호', how='left') # 3등급 정밀\n",
    "\n",
    "icond4 = m4_1.merge(ins_m, on='차대번호', how='left') # 4등급 정기\n",
    "dcond4 = m4_1.merge(dins_m, on='차대번호', how='left') # 4등급 정밀\n",
    "icond3.shape, dcond3.shape, icond4.shape, dcond4.shape"
   ]
  },
  {
   "cell_type": "code",
   "execution_count": 103,
   "metadata": {},
   "outputs": [
    {
     "data": {
      "text/plain": [
       "Index(['차량관리번호', '차량등록번호', '본거지법정동코드', '소유자구분', '차종_등록정보', '용도', '현재회원번호',\n",
       "       '차대번호', '최초등록일자', '차량연식_x', '차량제작일자', '배출가스검사유효일자', '제원관리번호',\n",
       "       '배출가스인증번호', '배출가스등급', '저공해조치YN(미사용)', '저공해조치종류', '저공해조치구조변경YN',\n",
       "       '차량등록번호숫자정보', '차량말소YN', '최초회원번호', '취득일자', '취득금액', '생성일시_등록정보',\n",
       "       '수정일시_등록정보', '차명_x', '차종_제원정보', '차종분류', '차종유형(소분류)', '자동차형식', '제작사명',\n",
       "       '연료', '엔진형식_x', '공차중량', '총중량', '적재중량', '엔진출력', '배기량', '승차인원', '차량길이',\n",
       "       '차량너비', '차량높이', '원산지명', '삭제YN', '승인일자', '구동형식', '변속기종류', '생성일시_제원정보',\n",
       "       '수정일시_제원정보', '사용연료', '주행거리', '차명_y', '차량번호', '차종', '차량연식_y', '검사방법',\n",
       "       '이산화탄소값', '최대출력허용치', '최대출력측정값', '엔진형식_y', '검사접수번호', '검사일자', '검사종류',\n",
       "       '검사소명', '검사판정시각', '검사판정', '산소값', '재검사기간', '무부하매연판정1', '무부하매연판정2',\n",
       "       '무부하매연판정3', '무부하매연판정4', '무부하매연판정5', '무부하매연판정6', '무부하매연허용치1',\n",
       "       '무부하매연허용치2', '무부하매연허용치3', '무부하매연허용치4', '무부하매연허용치5', '무부하매연허용치6',\n",
       "       '무부하매연측정치1', '무부하매연측정치2', '무부하매연측정치3', '무부하매연측정치4', '무부하매연측정치5',\n",
       "       '무부하매연측정치6', '차량용도', '정기정밀'],\n",
       "      dtype='object')"
      ]
     },
     "execution_count": 103,
     "metadata": {},
     "output_type": "execute_result"
    }
   ],
   "source": [
    "icond3.columns"
   ]
  },
  {
   "cell_type": "code",
   "execution_count": 104,
   "metadata": {},
   "outputs": [],
   "source": [
    "icond3['정기정밀'] = '정기'\n",
    "dcond3['정기정밀'] = '정밀'\n",
    "icond4['정기정밀'] = '정기'\n",
    "dcond4['정기정밀'] = '정밀'"
   ]
  },
  {
   "cell_type": "code",
   "execution_count": null,
   "metadata": {},
   "outputs": [],
   "source": [
    "icond3 = icond3.drop(['차명_y', '차량연식_y', '엔진형식_y'], axis=1)"
   ]
  },
  {
   "cell_type": "code",
   "execution_count": 107,
   "metadata": {},
   "outputs": [],
   "source": [
    "icond3.columns = ['차량관리번호', '차량등록번호', '본거지법정동코드', '소유자구분', '차종_등록정보', '용도', '현재회원번호',\n",
    "       '차대번호', '최초등록일자', '차량연식', '차량제작일자', '배출가스검사유효일자', '제원관리번호',\n",
    "       '배출가스인증번호', '배출가스등급', '저공해조치YN(미사용)', '저공해조치종류', '저공해조치구조변경YN',\n",
    "       '차량등록번호숫자정보', '차량말소YN', '최초회원번호', '취득일자', '취득금액', '생성일시_등록정보',\n",
    "       '수정일시_등록정보', '차명', '차종_제원정보', '차종분류', '차종유형(소분류)', '자동차형식', '제작사명',\n",
    "       '연료', '엔진형식', '공차중량', '총중량', '적재중량', '엔진출력', '배기량', '승차인원', '차량길이',\n",
    "       '차량너비', '차량높이', '원산지명', '삭제YN', '승인일자', '구동형식', '변속기종류', '생성일시_제원정보',\n",
    "       '수정일시_제원정보', '사용연료', '주행거리', '차량번호', '차종', '검사방법', '이산화탄소값', '최대출력허용치',\n",
    "       '최대출력측정값', '검사접수번호', '검사일자', '검사종류', '검사소명', '검사판정시각', '검사판정', '산소값',\n",
    "       '재검사기간', '무부하매연판정1', '무부하매연판정2', '무부하매연판정3', '무부하매연판정4', '무부하매연판정5',\n",
    "       '무부하매연판정6', '무부하매연허용치1', '무부하매연허용치2', '무부하매연허용치3', '무부하매연허용치4',\n",
    "       '무부하매연허용치5', '무부하매연허용치6', '무부하매연측정치1', '무부하매연측정치2', '무부하매연측정치3',\n",
    "       '무부하매연측정치4', '무부하매연측정치5', '무부하매연측정치6', '차량용도', '정기정밀']"
   ]
  },
  {
   "cell_type": "code",
   "execution_count": 112,
   "metadata": {},
   "outputs": [
    {
     "data": {
      "text/plain": [
       "Index(['차량관리번호', '차량등록번호', '본거지법정동코드', '소유자구분', '차종_등록정보', '용도', '현재회원번호',\n",
       "       '차대번호', '최초등록일자', '차량연식_x', '차량제작일자', '배출가스검사유효일자', '제원관리번호',\n",
       "       '배출가스인증번호', '배출가스등급', '저공해조치YN(미사용)', '저공해조치종류', '저공해조치구조변경YN',\n",
       "       '차량등록번호숫자정보', '차량말소YN', '최초회원번호', '취득일자', '취득금액', '생성일시_등록정보',\n",
       "       '수정일시_등록정보', '차명_x', '차종_제원정보', '차종분류', '차종유형(소분류)', '자동차형식', '제작사명',\n",
       "       '연료', '엔진형식_x', '공차중량', '총중량', '적재중량', '엔진출력', '배기량', '승차인원', '차량길이',\n",
       "       '차량너비', '차량높이', '원산지명', '삭제YN', '승인일자', '구동형식', '변속기종류', '생성일시_제원정보',\n",
       "       '수정일시_제원정보', '사용연료', '주행거리', '차명_y', '차량번호', '차종', '차량연식_y', '검사방법',\n",
       "       '이산화탄소값', '최대출력허용치', '최대출력측정값', '엔진형식_y', '검사접수번호', '검사일자', '검사종류',\n",
       "       '검사소명', '검사판정시각', '검사판정', '산소값', '재검사기간', '무부하매연판정1', '무부하매연판정2',\n",
       "       '무부하매연판정3', '무부하매연판정4', '무부하매연판정5', '무부하매연판정6', '무부하매연허용치1',\n",
       "       '무부하매연허용치2', '무부하매연허용치3', '무부하매연허용치4', '무부하매연허용치5', '무부하매연허용치6',\n",
       "       '무부하매연측정치1', '무부하매연측정치2', '무부하매연측정치3', '무부하매연측정치4', '무부하매연측정치5',\n",
       "       '무부하매연측정치6', '차량용도', '정기정밀'],\n",
       "      dtype='object')"
      ]
     },
     "execution_count": 112,
     "metadata": {},
     "output_type": "execute_result"
    }
   ],
   "source": [
    "dcond3.columns"
   ]
  },
  {
   "cell_type": "code",
   "execution_count": 113,
   "metadata": {},
   "outputs": [],
   "source": [
    "dcond3 = dcond3.drop(['차명_y', '차량연식_y', '엔진형식_y'], axis=1)"
   ]
  },
  {
   "cell_type": "code",
   "execution_count": 114,
   "metadata": {},
   "outputs": [],
   "source": [
    "dcond3.columns = ['차량관리번호', '차량등록번호', '본거지법정동코드', '소유자구분', '차종_등록정보', '용도', '현재회원번호',\n",
    "       '차대번호', '최초등록일자', '차량연식', '차량제작일자', '배출가스검사유효일자', '제원관리번호',\n",
    "       '배출가스인증번호', '배출가스등급', '저공해조치YN(미사용)', '저공해조치종류', '저공해조치구조변경YN',\n",
    "       '차량등록번호숫자정보', '차량말소YN', '최초회원번호', '취득일자', '취득금액', '생성일시_등록정보',\n",
    "       '수정일시_등록정보', '차명', '차종_제원정보', '차종분류', '차종유형(소분류)', '자동차형식', '제작사명',\n",
    "       '연료', '엔진형식', '공차중량', '총중량', '적재중량', '엔진출력', '배기량', '승차인원', '차량길이',\n",
    "       '차량너비', '차량높이', '원산지명', '삭제YN', '승인일자', '구동형식', '변속기종류', '생성일시_제원정보',\n",
    "       '수정일시_제원정보', '사용연료', '주행거리', '차량번호', '차종', '검사방법', '이산화탄소값', '최대출력허용치',\n",
    "       '최대출력측정값', '검사접수번호', '검사일자', '검사종류', '검사소명', '검사판정시각', '검사판정', '산소값',\n",
    "       '재검사기간', '무부하매연판정1', '무부하매연판정2', '무부하매연판정3', '무부하매연판정4', '무부하매연판정5',\n",
    "       '무부하매연판정6', '무부하매연허용치1', '무부하매연허용치2', '무부하매연허용치3', '무부하매연허용치4',\n",
    "       '무부하매연허용치5', '무부하매연허용치6', '무부하매연측정치1', '무부하매연측정치2', '무부하매연측정치3',\n",
    "       '무부하매연측정치4', '무부하매연측정치5', '무부하매연측정치6', '차량용도', '정기정밀']"
   ]
  },
  {
   "cell_type": "code",
   "execution_count": 115,
   "metadata": {},
   "outputs": [],
   "source": [
    "dcond4 = dcond4.drop(['차명_y', '차량연식_y', '엔진형식_y'], axis=1)"
   ]
  },
  {
   "cell_type": "code",
   "execution_count": 116,
   "metadata": {},
   "outputs": [],
   "source": [
    "dcond4.columns = ['차량관리번호', '차량등록번호', '본거지법정동코드', '소유자구분', '차종_등록정보', '용도', '현재회원번호',\n",
    "       '차대번호', '최초등록일자', '차량연식', '차량제작일자', '배출가스검사유효일자', '제원관리번호',\n",
    "       '배출가스인증번호', '배출가스등급', '저공해조치YN(미사용)', '저공해조치종류', '저공해조치구조변경YN',\n",
    "       '차량등록번호숫자정보', '차량말소YN', '최초회원번호', '취득일자', '취득금액', '생성일시_등록정보',\n",
    "       '수정일시_등록정보', '차명', '차종_제원정보', '차종분류', '차종유형(소분류)', '자동차형식', '제작사명',\n",
    "       '연료', '엔진형식', '공차중량', '총중량', '적재중량', '엔진출력', '배기량', '승차인원', '차량길이',\n",
    "       '차량너비', '차량높이', '원산지명', '삭제YN', '승인일자', '구동형식', '변속기종류', '생성일시_제원정보',\n",
    "       '수정일시_제원정보', '사용연료', '주행거리', '차량번호', '차종', '검사방법', '이산화탄소값', '최대출력허용치',\n",
    "       '최대출력측정값', '검사접수번호', '검사일자', '검사종류', '검사소명', '검사판정시각', '검사판정', '산소값',\n",
    "       '재검사기간', '무부하매연판정1', '무부하매연판정2', '무부하매연판정3', '무부하매연판정4', '무부하매연판정5',\n",
    "       '무부하매연판정6', '무부하매연허용치1', '무부하매연허용치2', '무부하매연허용치3', '무부하매연허용치4',\n",
    "       '무부하매연허용치5', '무부하매연허용치6', '무부하매연측정치1', '무부하매연측정치2', '무부하매연측정치3',\n",
    "       '무부하매연측정치4', '무부하매연측정치5', '무부하매연측정치6', '차량용도', '정기정밀']"
   ]
  },
  {
   "cell_type": "code",
   "execution_count": 117,
   "metadata": {},
   "outputs": [
    {
     "data": {
      "text/plain": [
       "Y      2693\n",
       "NaN    2094\n",
       "N         3\n",
       "Name: 무부하매연판정1, dtype: int64"
      ]
     },
     "execution_count": 117,
     "metadata": {},
     "output_type": "execute_result"
    }
   ],
   "source": [
    "icond3['무부하매연판정1'].value_counts(dropna=False)"
   ]
  },
  {
   "cell_type": "code",
   "execution_count": 134,
   "metadata": {},
   "outputs": [
    {
     "data": {
      "text/plain": [
       "Y      2683\n",
       "NaN    2094\n",
       "N        13\n",
       "Name: 검사판정, dtype: int64"
      ]
     },
     "execution_count": 134,
     "metadata": {},
     "output_type": "execute_result"
    }
   ],
   "source": [
    "icond3['검사판정'].value_counts(dropna=False)"
   ]
  },
  {
   "cell_type": "code",
   "execution_count": 137,
   "metadata": {},
   "outputs": [
    {
     "data": {
      "text/plain": [
       "array([nan], dtype=object)"
      ]
     },
     "execution_count": 137,
     "metadata": {},
     "output_type": "execute_result"
    }
   ],
   "source": [
    "icond3[icond3['무부하매연판정1'].isnull() == True]['검사판정'].unique()"
   ]
  },
  {
   "cell_type": "code",
   "execution_count": 118,
   "metadata": {},
   "outputs": [
    {
     "data": {
      "text/plain": [
       "Y      3430\n",
       "NaN    1328\n",
       "N        32\n",
       "Name: 무부하매연판정1, dtype: int64"
      ]
     },
     "execution_count": 118,
     "metadata": {},
     "output_type": "execute_result"
    }
   ],
   "source": [
    "dcond3['무부하매연판정1'].value_counts(dropna=False)"
   ]
  },
  {
   "cell_type": "code",
   "execution_count": 138,
   "metadata": {},
   "outputs": [
    {
     "data": {
      "text/plain": [
       "array([nan, 'N'], dtype=object)"
      ]
     },
     "execution_count": 138,
     "metadata": {},
     "output_type": "execute_result"
    }
   ],
   "source": [
    "dcond3[dcond3['무부하매연판정1'].isnull() == True]['검사판정'].unique()"
   ]
  },
  {
   "cell_type": "code",
   "execution_count": 119,
   "metadata": {},
   "outputs": [
    {
     "data": {
      "text/plain": [
       "Y      59049\n",
       "NaN    33070\n",
       "N        146\n",
       "Name: 무부하매연판정1, dtype: int64"
      ]
     },
     "execution_count": 119,
     "metadata": {},
     "output_type": "execute_result"
    }
   ],
   "source": [
    "icond4['무부하매연판정1'].value_counts(dropna=False)"
   ]
  },
  {
   "cell_type": "code",
   "execution_count": 139,
   "metadata": {},
   "outputs": [
    {
     "data": {
      "text/plain": [
       "array([nan], dtype=object)"
      ]
     },
     "execution_count": 139,
     "metadata": {},
     "output_type": "execute_result"
    }
   ],
   "source": [
    "icond4[icond4['무부하매연판정1'].isnull() == True]['검사판정'].unique()"
   ]
  },
  {
   "cell_type": "code",
   "execution_count": 120,
   "metadata": {},
   "outputs": [
    {
     "data": {
      "text/plain": [
       "Y      59554\n",
       "NaN    32236\n",
       "N        475\n",
       "Name: 무부하매연판정1, dtype: int64"
      ]
     },
     "execution_count": 120,
     "metadata": {},
     "output_type": "execute_result"
    }
   ],
   "source": [
    "dcond4['무부하매연판정1'].value_counts(dropna=False)"
   ]
  },
  {
   "cell_type": "code",
   "execution_count": 140,
   "metadata": {},
   "outputs": [
    {
     "data": {
      "text/plain": [
       "array([nan, 'N'], dtype=object)"
      ]
     },
     "execution_count": 140,
     "metadata": {},
     "output_type": "execute_result"
    }
   ],
   "source": [
    "dcond4[dcond4['무부하매연판정1'].isnull() == True]['검사판정'].unique()"
   ]
  },
  {
   "cell_type": "code",
   "execution_count": 121,
   "metadata": {},
   "outputs": [
    {
     "data": {
      "text/plain": [
       "((2693, 85), (3, 85), (3430, 85), (32, 85))"
      ]
     },
     "execution_count": 121,
     "metadata": {},
     "output_type": "execute_result"
    }
   ],
   "source": [
    "icond3Y = icond3[icond3['무부하매연판정1'] == 'Y'].reset_index(drop=True) # 3등급 정기 매연검사 합격\n",
    "icond3N = icond3[icond3['무부하매연판정1'] == 'N'].reset_index(drop=True) # 3등급 정기 매연검사 불합격\n",
    "\n",
    "dcond3Y = dcond3[dcond3['무부하매연판정1'] == 'Y'].reset_index(drop=True) # 3등급 정밀 매연검사 합격\n",
    "dcond3N = dcond3[dcond3['무부하매연판정1'] == 'N'].reset_index(drop=True) # 3등급 정밀 매연검사 불합격\n",
    "icond3Y.shape, icond3N.shape, dcond3Y.shape, dcond3N.shape"
   ]
  },
  {
   "cell_type": "code",
   "execution_count": 122,
   "metadata": {},
   "outputs": [
    {
     "data": {
      "text/plain": [
       "((59049, 85), (146, 85), (59554, 85), (475, 85))"
      ]
     },
     "execution_count": 122,
     "metadata": {},
     "output_type": "execute_result"
    }
   ],
   "source": [
    "icond4Y = icond4[icond4['무부하매연판정1'] == 'Y'].reset_index(drop=True) # 4등급 정기 매연검사 합격\n",
    "icond4N = icond4[icond4['무부하매연판정1'] == 'N'].reset_index(drop=True) # 4등급 정기 매연검사 불합격\n",
    "\n",
    "dcond4Y = dcond4[dcond4['무부하매연판정1'] == 'Y'].reset_index(drop=True) # 4등급 정밀 매연검사 합격\n",
    "dcond4N = dcond4[dcond4['무부하매연판정1'] == 'N'].reset_index(drop=True) # 4등급 정밀 매연검사 불합격\n",
    "icond4Y.shape, icond4N.shape, dcond4Y.shape, dcond4N.shape"
   ]
  },
  {
   "attachments": {},
   "cell_type": "markdown",
   "metadata": {},
   "source": [
    "## 그룹 통계"
   ]
  },
  {
   "cell_type": "code",
   "execution_count": 123,
   "metadata": {},
   "outputs": [
    {
     "data": {
      "text/html": [
       "<div>\n",
       "<style scoped>\n",
       "    .dataframe tbody tr th:only-of-type {\n",
       "        vertical-align: middle;\n",
       "    }\n",
       "\n",
       "    .dataframe tbody tr th {\n",
       "        vertical-align: top;\n",
       "    }\n",
       "\n",
       "    .dataframe thead th {\n",
       "        text-align: right;\n",
       "    }\n",
       "</style>\n",
       "<table border=\"1\" class=\"dataframe\">\n",
       "  <thead>\n",
       "    <tr style=\"text-align: right;\">\n",
       "      <th></th>\n",
       "      <th></th>\n",
       "      <th>mean</th>\n",
       "      <th>min</th>\n",
       "      <th>max</th>\n",
       "      <th>count</th>\n",
       "    </tr>\n",
       "    <tr>\n",
       "      <th>제원관리번호</th>\n",
       "      <th>자동차형식</th>\n",
       "      <th></th>\n",
       "      <th></th>\n",
       "      <th></th>\n",
       "      <th></th>\n",
       "    </tr>\n",
       "  </thead>\n",
       "  <tbody>\n",
       "    <tr>\n",
       "      <th>A0110003116493108</th>\n",
       "      <th>SEL42K-PGT-2</th>\n",
       "      <td>10.194444</td>\n",
       "      <td>0.0</td>\n",
       "      <td>25.0</td>\n",
       "      <td>36</td>\n",
       "    </tr>\n",
       "    <tr>\n",
       "      <th>A0110003117113109</th>\n",
       "      <th>PUL4AA-L</th>\n",
       "      <td>9.289168</td>\n",
       "      <td>0.0</td>\n",
       "      <td>25.0</td>\n",
       "      <td>2151</td>\n",
       "    </tr>\n",
       "    <tr>\n",
       "      <th>A0110003117193109</th>\n",
       "      <th>PUE4BA</th>\n",
       "      <td>8.016393</td>\n",
       "      <td>0.0</td>\n",
       "      <td>25.0</td>\n",
       "      <td>427</td>\n",
       "    </tr>\n",
       "    <tr>\n",
       "      <th>A0110003117863109</th>\n",
       "      <th>PUL4AA-PGT-2</th>\n",
       "      <td>7.094595</td>\n",
       "      <td>0.0</td>\n",
       "      <td>24.0</td>\n",
       "      <td>74</td>\n",
       "    </tr>\n",
       "    <tr>\n",
       "      <th>A0110003118303110</th>\n",
       "      <th>PUS4BB</th>\n",
       "      <td>11.000000</td>\n",
       "      <td>11.0</td>\n",
       "      <td>11.0</td>\n",
       "      <td>1</td>\n",
       "    </tr>\n",
       "    <tr>\n",
       "      <th>A0110003119653111</th>\n",
       "      <th>PUK4BC</th>\n",
       "      <td>8.750000</td>\n",
       "      <td>0.0</td>\n",
       "      <td>23.0</td>\n",
       "      <td>4</td>\n",
       "    </tr>\n",
       "  </tbody>\n",
       "</table>\n",
       "</div>"
      ],
      "text/plain": [
       "                                     mean   min   max  count\n",
       "제원관리번호            자동차형식                                     \n",
       "A0110003116493108 SEL42K-PGT-2  10.194444   0.0  25.0     36\n",
       "A0110003117113109 PUL4AA-L       9.289168   0.0  25.0   2151\n",
       "A0110003117193109 PUE4BA         8.016393   0.0  25.0    427\n",
       "A0110003117863109 PUL4AA-PGT-2   7.094595   0.0  24.0     74\n",
       "A0110003118303110 PUS4BB        11.000000  11.0  11.0      1\n",
       "A0110003119653111 PUK4BC         8.750000   0.0  23.0      4"
      ]
     },
     "execution_count": 123,
     "metadata": {},
     "output_type": "execute_result"
    }
   ],
   "source": [
    "icond3Y.groupby(['제원관리번호', '자동차형식'])['무부하매연측정치1'].agg(['mean', 'min', 'max', 'count'])"
   ]
  },
  {
   "cell_type": "code",
   "execution_count": 124,
   "metadata": {},
   "outputs": [
    {
     "data": {
      "text/html": [
       "<div>\n",
       "<style scoped>\n",
       "    .dataframe tbody tr th:only-of-type {\n",
       "        vertical-align: middle;\n",
       "    }\n",
       "\n",
       "    .dataframe tbody tr th {\n",
       "        vertical-align: top;\n",
       "    }\n",
       "\n",
       "    .dataframe thead tr th {\n",
       "        text-align: left;\n",
       "    }\n",
       "\n",
       "    .dataframe thead tr:last-of-type th {\n",
       "        text-align: right;\n",
       "    }\n",
       "</style>\n",
       "<table border=\"1\" class=\"dataframe\">\n",
       "  <thead>\n",
       "    <tr>\n",
       "      <th></th>\n",
       "      <th></th>\n",
       "      <th>mean</th>\n",
       "      <th>min</th>\n",
       "      <th>max</th>\n",
       "      <th>count</th>\n",
       "    </tr>\n",
       "    <tr>\n",
       "      <th></th>\n",
       "      <th>검사방법</th>\n",
       "      <th>무부하검사(급가속)</th>\n",
       "      <th>무부하검사(급가속)</th>\n",
       "      <th>무부하검사(급가속)</th>\n",
       "      <th>무부하검사(급가속)</th>\n",
       "    </tr>\n",
       "    <tr>\n",
       "      <th>제원관리번호</th>\n",
       "      <th>자동차형식</th>\n",
       "      <th></th>\n",
       "      <th></th>\n",
       "      <th></th>\n",
       "      <th></th>\n",
       "    </tr>\n",
       "  </thead>\n",
       "  <tbody>\n",
       "    <tr>\n",
       "      <th>A0110003116493108</th>\n",
       "      <th>SEL42K-PGT-2</th>\n",
       "      <td>10.194444</td>\n",
       "      <td>0.0</td>\n",
       "      <td>25.0</td>\n",
       "      <td>36</td>\n",
       "    </tr>\n",
       "    <tr>\n",
       "      <th>A0110003117113109</th>\n",
       "      <th>PUL4AA-L</th>\n",
       "      <td>9.289168</td>\n",
       "      <td>0.0</td>\n",
       "      <td>25.0</td>\n",
       "      <td>2151</td>\n",
       "    </tr>\n",
       "    <tr>\n",
       "      <th>A0110003117193109</th>\n",
       "      <th>PUE4BA</th>\n",
       "      <td>8.016393</td>\n",
       "      <td>0.0</td>\n",
       "      <td>25.0</td>\n",
       "      <td>427</td>\n",
       "    </tr>\n",
       "    <tr>\n",
       "      <th>A0110003117863109</th>\n",
       "      <th>PUL4AA-PGT-2</th>\n",
       "      <td>7.094595</td>\n",
       "      <td>0.0</td>\n",
       "      <td>24.0</td>\n",
       "      <td>74</td>\n",
       "    </tr>\n",
       "    <tr>\n",
       "      <th>A0110003118303110</th>\n",
       "      <th>PUS4BB</th>\n",
       "      <td>11.000000</td>\n",
       "      <td>11.0</td>\n",
       "      <td>11.0</td>\n",
       "      <td>1</td>\n",
       "    </tr>\n",
       "    <tr>\n",
       "      <th>A0110003119653111</th>\n",
       "      <th>PUK4BC</th>\n",
       "      <td>8.750000</td>\n",
       "      <td>0.0</td>\n",
       "      <td>23.0</td>\n",
       "      <td>4</td>\n",
       "    </tr>\n",
       "  </tbody>\n",
       "</table>\n",
       "</div>"
      ],
      "text/plain": [
       "                                     mean        min        max      count\n",
       "검사방법                           무부하검사(급가속) 무부하검사(급가속) 무부하검사(급가속) 무부하검사(급가속)\n",
       "제원관리번호            자동차형식                                                   \n",
       "A0110003116493108 SEL42K-PGT-2  10.194444        0.0       25.0         36\n",
       "A0110003117113109 PUL4AA-L       9.289168        0.0       25.0       2151\n",
       "A0110003117193109 PUE4BA         8.016393        0.0       25.0        427\n",
       "A0110003117863109 PUL4AA-PGT-2   7.094595        0.0       24.0         74\n",
       "A0110003118303110 PUS4BB        11.000000       11.0       11.0          1\n",
       "A0110003119653111 PUK4BC         8.750000        0.0       23.0          4"
      ]
     },
     "execution_count": 124,
     "metadata": {},
     "output_type": "execute_result"
    }
   ],
   "source": [
    "icond3Y.groupby(['제원관리번호', '자동차형식', '검사방법'])['무부하매연측정치1'].agg(['mean', 'min', 'max', 'count']).unstack()"
   ]
  },
  {
   "cell_type": "code",
   "execution_count": 125,
   "metadata": {},
   "outputs": [
    {
     "data": {
      "text/plain": [
       "((2693, 85), (3, 85), (3430, 85), (32, 85))"
      ]
     },
     "execution_count": 125,
     "metadata": {},
     "output_type": "execute_result"
    }
   ],
   "source": [
    "icond3Y.shape, icond3N.shape, dcond3Y.shape, dcond3N.shape"
   ]
  },
  {
   "cell_type": "code",
   "execution_count": 126,
   "metadata": {},
   "outputs": [
    {
     "data": {
      "text/plain": [
       "((59049, 85), (146, 85), (59554, 85), (475, 85))"
      ]
     },
     "execution_count": 126,
     "metadata": {},
     "output_type": "execute_result"
    }
   ],
   "source": [
    "icond4Y.shape, icond4N.shape, dcond4Y.shape, dcond4N.shape"
   ]
  },
  {
   "attachments": {},
   "cell_type": "markdown",
   "metadata": {},
   "source": [
    "## [출력]"
   ]
  },
  {
   "cell_type": "code",
   "execution_count": 127,
   "metadata": {},
   "outputs": [],
   "source": [
    "g4dc_fold = 'C:/Users/kbjung/Documents/GitHub/wabotech/car_big_data_2/analysis2/4등급_데이터_점검'\n",
    "file_name = '[BD1]3등급_8MY-KM-13-19_점검.xlsx'\n",
    "g4dc_path = os.path.join(g4dc_fold, file_name)\n",
    "with pd.ExcelWriter(g4dc_path) as writer:\n",
    "    icond3Y.groupby(['제원관리번호', '자동차형식'])['무부하매연측정치1'].agg(['mean', 'min', 'max', 'count']).to_excel(writer, sheet_name='3등급_정기_합격')\n",
    "    icond3Y.groupby(['제원관리번호', '자동차형식', '검사방법'])['무부하매연측정치1'].agg(['mean', 'min', 'max', 'count']).unstack().to_excel(writer, sheet_name='3등급_정기_합격_검사방법')\n",
    "\n",
    "    icond3N.groupby(['제원관리번호', '자동차형식'])['무부하매연측정치1'].agg(['mean', 'min', 'max', 'count']).to_excel(writer, sheet_name='3등급_정기_불합격')\n",
    "    icond3N.groupby(['제원관리번호', '자동차형식', '검사방법'])['무부하매연측정치1'].agg(['mean', 'min', 'max', 'count']).unstack().to_excel(writer, sheet_name='3등급_정기_불합격_검사방법')\n",
    "    \n",
    "    dcond3Y.groupby(['제원관리번호', '자동차형식'])['무부하매연측정치1'].agg(['mean', 'min', 'max', 'count']).to_excel(writer, sheet_name='3등급_정밀_합격')\n",
    "    dcond3Y.groupby(['제원관리번호', '자동차형식', '검사방법'])['무부하매연측정치1'].agg(['mean', 'min', 'max', 'count']).unstack().to_excel(writer, sheet_name='3등급_정밀_합격_검사방법')\n",
    "    \n",
    "    dcond3N.groupby(['제원관리번호', '자동차형식'])['무부하매연측정치1'].agg(['mean', 'min', 'max', 'count']).to_excel(writer, sheet_name='3등급_정밀_불합격')\n",
    "    dcond3N.groupby(['제원관리번호', '자동차형식', '검사방법'])['무부하매연측정치1'].agg(['mean', 'min', 'max', 'count']).unstack().to_excel(writer, sheet_name='3등급_정밀_불합격_검사방법')\n"
   ]
  },
  {
   "cell_type": "code",
   "execution_count": 129,
   "metadata": {},
   "outputs": [],
   "source": [
    "g4dc_fold = 'C:/Users/kbjung/Documents/GitHub/wabotech/car_big_data_2/analysis2/4등급_데이터_점검'\n",
    "file_name = '[BD1]4등급_8MY-KM-13-19_점검.xlsx'\n",
    "g4dc_path = os.path.join(g4dc_fold, file_name)\n",
    "with pd.ExcelWriter(g4dc_path) as writer:    \n",
    "    icond4Y.groupby(['제원관리번호', '자동차형식'])['무부하매연측정치1'].agg(['mean', 'min', 'max', 'count']).to_excel(writer, sheet_name='4등급_정기_합격')\n",
    "    icond4Y.groupby(['제원관리번호', '자동차형식', '검사방법'])['무부하매연측정치1'].agg(['mean', 'min', 'max', 'count']).unstack().to_excel(writer, sheet_name='4등급_정기_합격_검사방법')\n",
    "\n",
    "    icond4N.groupby(['제원관리번호', '자동차형식'])['무부하매연측정치1'].agg(['mean', 'min', 'max', 'count']).to_excel(writer, sheet_name='4등급_정기_불합격')\n",
    "    icond4N.groupby(['제원관리번호', '자동차형식', '검사방법'])['무부하매연측정치1'].agg(['mean', 'min', 'max', 'count']).unstack().to_excel(writer, sheet_name='4등급_정기_불합격_검사방법')\n",
    "    \n",
    "    dcond4Y.groupby(['제원관리번호', '자동차형식'])['무부하매연측정치1'].agg(['mean', 'min', 'max', 'count']).to_excel(writer, sheet_name='4등급_정밀_합격')\n",
    "    dcond4Y.groupby(['제원관리번호', '자동차형식', '검사방법'])['무부하매연측정치1'].agg(['mean', 'min', 'max', 'count']).unstack().to_excel(writer, sheet_name='4등급_정밀_합격_검사방법')\n",
    "    \n",
    "    dcond4N.groupby(['제원관리번호', '자동차형식'])['무부하매연측정치1'].agg(['mean', 'min', 'max', 'count']).to_excel(writer, sheet_name='4등급_정밀_불합격')\n",
    "    dcond4N.groupby(['제원관리번호', '자동차형식', '검사방법'])['무부하매연측정치1'].agg(['mean', 'min', 'max', 'count']).unstack().to_excel(writer, sheet_name='4등급_정밀_불합격_검사방법')"
   ]
  },
  {
   "cell_type": "code",
   "execution_count": null,
   "metadata": {},
   "outputs": [],
   "source": []
  },
  {
   "attachments": {},
   "cell_type": "markdown",
   "metadata": {},
   "source": [
    "## 기타"
   ]
  },
  {
   "cell_type": "code",
   "execution_count": 130,
   "metadata": {},
   "outputs": [],
   "source": [
    "icond3[icond3['무부하매연판정1'].isnull() == True].to_excel('analysis2/4등급_데이터_점검/3등급정기_판정_빈값_예시.xlsx', index=False)"
   ]
  },
  {
   "cell_type": "code",
   "execution_count": 131,
   "metadata": {},
   "outputs": [],
   "source": [
    "dcond3[dcond3['무부하매연판정1'].isnull() == True].to_excel('analysis2/4등급_데이터_점검/3등급정밀_판정_빈값_예시.xlsx', index=False)"
   ]
  },
  {
   "cell_type": "code",
   "execution_count": 132,
   "metadata": {},
   "outputs": [],
   "source": [
    "icond4[icond4['무부하매연판정1'].isnull() == True].to_excel('analysis2/4등급_데이터_점검/4등급정기_판정_빈값_예시.xlsx', index=False)"
   ]
  },
  {
   "cell_type": "code",
   "execution_count": 133,
   "metadata": {},
   "outputs": [],
   "source": [
    "dcond4[dcond4['무부하매연판정1'].isnull() == True].to_excel('analysis2/4등급_데이터_점검/4등급정밀_판정_빈값_예시.xlsx', index=False)"
   ]
  },
  {
   "cell_type": "code",
   "execution_count": null,
   "metadata": {},
   "outputs": [],
   "source": []
  }
 ],
 "metadata": {
  "kernelspec": {
   "display_name": "base",
   "language": "python",
   "name": "python3"
  },
  "language_info": {
   "codemirror_mode": {
    "name": "ipython",
    "version": 3
   },
   "file_extension": ".py",
   "mimetype": "text/x-python",
   "name": "python",
   "nbconvert_exporter": "python",
   "pygments_lexer": "ipython3",
   "version": "3.9.13"
  },
  "orig_nbformat": 4,
  "vscode": {
   "interpreter": {
    "hash": "ad2bdc8ecc057115af97d19610ffacc2b4e99fae6737bb82f5d7fb13d2f2c186"
   }
  }
 },
 "nbformat": 4,
 "nbformat_minor": 2
}
