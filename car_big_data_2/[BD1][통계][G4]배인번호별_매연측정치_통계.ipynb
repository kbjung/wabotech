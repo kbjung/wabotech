{
 "cells": [
  {
   "attachments": {},
   "cell_type": "markdown",
   "metadata": {},
   "source": [
    "# Library"
   ]
  },
  {
   "cell_type": "code",
   "execution_count": 1,
   "metadata": {},
   "outputs": [],
   "source": [
    "import pandas as pd\n",
    "import os\n",
    "import numpy as np\n",
    "from tqdm import tqdm"
   ]
  },
  {
   "attachments": {},
   "cell_type": "markdown",
   "metadata": {},
   "source": [
    "# File Load\n",
    "- 4등급 등록&제원(말소제거)\n",
    "- 정기\n",
    "- 정밀"
   ]
  },
  {
   "cell_type": "code",
   "execution_count": 4,
   "metadata": {},
   "outputs": [],
   "source": [
    "ods_fold = 'D:/data/big2/ODS'"
   ]
  },
  {
   "cell_type": "code",
   "execution_count": 9,
   "metadata": {},
   "outputs": [],
   "source": [
    "# about 24s\n",
    "file_name = '[ODS][G4]등록정보&제원정보(말소제거)(2022.12.29).csv'\n",
    "df = pd.read_csv(os.path.join(ods_fold, file_name), encoding='cp949', low_memory=False)"
   ]
  },
  {
   "cell_type": "code",
   "execution_count": 10,
   "metadata": {},
   "outputs": [],
   "source": [
    "# about \n",
    "file_name = '[ODS]정기검사(2022.12.29).csv'\n",
    "ins = pd.read_csv(os.path.join(ods_fold, file_name), low_memory=False)"
   ]
  },
  {
   "cell_type": "code",
   "execution_count": 11,
   "metadata": {},
   "outputs": [],
   "source": [
    "# about \n",
    "file_name = '[ODS]정밀검사(2022.12.29).csv'\n",
    "dins = pd.read_csv(os.path.join(ods_fold, file_name), low_memory=False)"
   ]
  },
  {
   "cell_type": "code",
   "execution_count": 12,
   "metadata": {},
   "outputs": [
    {
     "data": {
      "text/plain": [
       "((1511251, 49), (22006426, 39), (28682228, 41))"
      ]
     },
     "execution_count": 12,
     "metadata": {},
     "output_type": "execute_result"
    }
   ],
   "source": [
    "df.shape, ins.shape, dins.shape"
   ]
  },
  {
   "cell_type": "code",
   "execution_count": 13,
   "metadata": {},
   "outputs": [
    {
     "data": {
      "text/plain": [
       "Index(['차량관리번호', '차량등록번호', '본거지법정동코드', '소유자구분', '차종_등록정보', '용도', '현재회원번호',\n",
       "       '차대번호', '최초등록일자', '차량연식', '차량제작일자', '배출가스검사유효일자', '제원관리번호', '배출가스인증번호',\n",
       "       '배출가스등급', '저공해조치YN(미사용)', '저공해조치종류', '저공해조치구조변경YN', '차량등록번호숫자정보',\n",
       "       '차량말소YN', '최초회원번호', '취득일자', '취득금액', '생성일시_등록정보', '수정일시_등록정보', '차명',\n",
       "       '차종_제원정보', '차종분류', '차종유형(소분류)', '자동차형식', '제작사명', '연료', '엔진형식', '공차중량',\n",
       "       '총중량', '적재중량', '엔진출력', '배기량', '승차인원', '차량길이', '차량너비', '차량높이', '원산지명',\n",
       "       '삭제YN', '승인일자', '구동형식', '변속기종류', '생성일시_제원정보', '수정일시_제원정보'],\n",
       "      dtype='object')"
      ]
     },
     "execution_count": 13,
     "metadata": {},
     "output_type": "execute_result"
    }
   ],
   "source": [
    "df.columns"
   ]
  },
  {
   "cell_type": "code",
   "execution_count": 14,
   "metadata": {},
   "outputs": [
    {
     "data": {
      "text/plain": [
       "Index(['사용연료', '주행거리', '차명', '차량번호', '차대번호', '차종', '차량연식', '엔진형식', '검사방법',\n",
       "       '검사일자', '검사종류', '검사판정시각', '검사판정', '산소값', '이산화탄소값', '무부하매연판정1',\n",
       "       '무부하매연판정2', '무부하매연판정3', '무부하매연판정4', '무부하매연판정5', '무부하매연판정6', '무부하매연허용치1',\n",
       "       '무부하매연허용치2', '무부하매연허용치3', '무부하매연허용치4', '무부하매연허용치5', '무부하매연허용치6',\n",
       "       '무부하매연측정치1', '무부하매연측정치2', '무부하매연측정치3', '무부하매연측정치4', '무부하매연측정치5',\n",
       "       '무부하매연측정치6', '차량용도', '최대출력허용치', '최대출력측정값', '검사접수번호', '검사소명', '재검사기간'],\n",
       "      dtype='object')"
      ]
     },
     "execution_count": 14,
     "metadata": {},
     "output_type": "execute_result"
    }
   ],
   "source": [
    "ins.columns"
   ]
  },
  {
   "cell_type": "code",
   "execution_count": 15,
   "metadata": {},
   "outputs": [
    {
     "data": {
      "text/plain": [
       "Index(['사용연료', '주행거리', '차명', '차량번호', '차대번호', '차종', '차량연식', '엔진형식', '검사방법',\n",
       "       '검사일자', '검사종류', '검사판정시각', '검사판정', '산소값', '이산화탄소값', '무부하매연판정1',\n",
       "       '무부하매연판정2', '무부하매연판정3', '무부하매연판정4', '무부하매연판정5', '무부하매연판정6', '무부하매연허용치1',\n",
       "       '무부하매연허용치2', '무부하매연허용치3', '무부하매연허용치4', '무부하매연허용치5', '무부하매연허용치6',\n",
       "       '무부하매연측정치1', '무부하매연측정치2', '무부하매연측정치3', '무부하매연측정치4', '무부하매연측정치5',\n",
       "       '무부하매연측정치6', '차량용도', '최대출력허용치', '최대출력측정값', '검사접수번호', '검사소명', '재검사기간',\n",
       "       '검사 검사소코드', '검사유효기간'],\n",
       "      dtype='object')"
      ]
     },
     "execution_count": 15,
     "metadata": {},
     "output_type": "execute_result"
    }
   ],
   "source": [
    "dins.columns"
   ]
  },
  {
   "attachments": {},
   "cell_type": "markdown",
   "metadata": {},
   "source": [
    "# Preprocessing"
   ]
  },
  {
   "attachments": {},
   "cell_type": "markdown",
   "metadata": {},
   "source": [
    "## 전처리 : 등록&제원\n",
    "- 중복 차대번호 처리 : '최초등록일자', '배출가스검사유효일자’, 내림차순 정렬(ascending=[False, False])\n",
    "- 배출가스등급 : 4등급\n",
    "- 연료 : 경유차"
   ]
  },
  {
   "cell_type": "code",
   "execution_count": 25,
   "metadata": {},
   "outputs": [
    {
     "data": {
      "text/plain": [
       "(1511251, 49)"
      ]
     },
     "execution_count": 25,
     "metadata": {},
     "output_type": "execute_result"
    }
   ],
   "source": [
    "df.shape"
   ]
  },
  {
   "cell_type": "code",
   "execution_count": 26,
   "metadata": {},
   "outputs": [
    {
     "data": {
      "text/plain": [
       "(1511211, 49)"
      ]
     },
     "execution_count": 26,
     "metadata": {},
     "output_type": "execute_result"
    }
   ],
   "source": [
    "df = df.sort_values(['최초등록일자', '배출가스검사유효일자'], ascending=[False, False]).drop_duplicates('차대번호').reset_index(drop=True)\n",
    "df.shape"
   ]
  },
  {
   "cell_type": "code",
   "execution_count": 27,
   "metadata": {},
   "outputs": [
    {
     "data": {
      "text/plain": [
       "4     1511174\n",
       "T4         37\n",
       "Name: 배출가스등급, dtype: int64"
      ]
     },
     "execution_count": 27,
     "metadata": {},
     "output_type": "execute_result"
    }
   ],
   "source": [
    "df['배출가스등급'].value_counts(dropna=False)"
   ]
  },
  {
   "cell_type": "code",
   "execution_count": 28,
   "metadata": {},
   "outputs": [
    {
     "data": {
      "text/plain": [
       "경유             1152697\n",
       "휘발유             332313\n",
       "LGP(액화석유가스)      26089\n",
       "NaN                 71\n",
       "기타연료                39\n",
       "CNG(압축천연가스)          1\n",
       "알코올                  1\n",
       "Name: 연료, dtype: int64"
      ]
     },
     "execution_count": 28,
     "metadata": {},
     "output_type": "execute_result"
    }
   ],
   "source": [
    "df['연료'].value_counts(dropna=False)"
   ]
  },
  {
   "cell_type": "code",
   "execution_count": 29,
   "metadata": {},
   "outputs": [
    {
     "data": {
      "text/plain": [
       "(1511211, 49)"
      ]
     },
     "execution_count": 29,
     "metadata": {},
     "output_type": "execute_result"
    }
   ],
   "source": [
    "df.shape"
   ]
  },
  {
   "cell_type": "code",
   "execution_count": 30,
   "metadata": {},
   "outputs": [
    {
     "data": {
      "text/plain": [
       "(1152697, 49)"
      ]
     },
     "execution_count": 30,
     "metadata": {},
     "output_type": "execute_result"
    }
   ],
   "source": [
    "df = df[df['연료'] == '경유'].reset_index(drop=True)\n",
    "df.shape"
   ]
  },
  {
   "attachments": {},
   "cell_type": "markdown",
   "metadata": {},
   "source": [
    "## 전처리 : 정기, 정밀 검사\n",
    "- 정기, 정밀 검사 필요한 컬럼만 추출\n",
    "- 정기, 정밀 검사 샘플에 '정기, 정밀' 검사 표기\n",
    "- 정기, 정밀 통합하여 중복 차대번호 제거(최신 '검사일자'만 사용)"
   ]
  },
  {
   "cell_type": "code",
   "execution_count": 17,
   "metadata": {},
   "outputs": [
    {
     "data": {
      "text/plain": [
       "(39, 41)"
      ]
     },
     "execution_count": 17,
     "metadata": {},
     "output_type": "execute_result"
    }
   ],
   "source": [
    "len(ins.columns), len(dins.columns)"
   ]
  },
  {
   "cell_type": "code",
   "execution_count": 18,
   "metadata": {},
   "outputs": [
    {
     "data": {
      "text/plain": [
       "33"
      ]
     },
     "execution_count": 18,
     "metadata": {},
     "output_type": "execute_result"
    }
   ],
   "source": [
    "col = ['사용연료', '주행거리', '차명', '차량번호', '차대번호', '차종', '차량연식', '엔진형식', '검사방법',\n",
    "       '검사일자', '검사종류', '검사판정시각', '검사판정', '산소값', '이산화탄소값', '무부하매연판정1',\n",
    "       '무부하매연판정2', '무부하매연판정3', '무부하매연판정4', '무부하매연판정5', '무부하매연판정6', '무부하매연허용치1',\n",
    "       '무부하매연허용치2', '무부하매연허용치3', '무부하매연허용치4', '무부하매연허용치5', '무부하매연허용치6',\n",
    "       '무부하매연측정치1', '무부하매연측정치2', '무부하매연측정치3', '무부하매연측정치4', '무부하매연측정치5',\n",
    "       '무부하매연측정치6',]\n",
    "len(col)"
   ]
  },
  {
   "cell_type": "code",
   "execution_count": 19,
   "metadata": {},
   "outputs": [
    {
     "data": {
      "text/plain": [
       "((22006426, 33), (28682228, 33))"
      ]
     },
     "execution_count": 19,
     "metadata": {},
     "output_type": "execute_result"
    }
   ],
   "source": [
    "# about 30s\n",
    "ins = ins[col]\n",
    "dins = dins[col]\n",
    "ins.shape, dins.shape"
   ]
  },
  {
   "cell_type": "code",
   "execution_count": 20,
   "metadata": {},
   "outputs": [],
   "source": [
    "ins['정기정밀'] = '정기'\n",
    "dins['정기정밀'] = '정밀'"
   ]
  },
  {
   "cell_type": "code",
   "execution_count": 21,
   "metadata": {},
   "outputs": [
    {
     "data": {
      "text/plain": [
       "((22006426, 34), 12601262)"
      ]
     },
     "execution_count": 21,
     "metadata": {},
     "output_type": "execute_result"
    }
   ],
   "source": [
    "# about 13s\n",
    "ins.shape, len(ins['차대번호'].unique())"
   ]
  },
  {
   "cell_type": "code",
   "execution_count": 32,
   "metadata": {},
   "outputs": [
    {
     "data": {
      "text/plain": [
       "((28682228, 34), 15367596)"
      ]
     },
     "execution_count": 32,
     "metadata": {},
     "output_type": "execute_result"
    }
   ],
   "source": [
    "# 20s\n",
    "dins.shape, len(dins['차대번호'].unique())"
   ]
  },
  {
   "cell_type": "code",
   "execution_count": 33,
   "metadata": {},
   "outputs": [
    {
     "data": {
      "text/plain": [
       "(50688654, 34)"
      ]
     },
     "execution_count": 33,
     "metadata": {},
     "output_type": "execute_result"
    }
   ],
   "source": [
    "# about \n",
    "tin = pd.concat([ins, dins], ignore_index=True)\n",
    "tin.shape"
   ]
  },
  {
   "cell_type": "code",
   "execution_count": 34,
   "metadata": {},
   "outputs": [
    {
     "data": {
      "text/plain": [
       "True"
      ]
     },
     "execution_count": 34,
     "metadata": {},
     "output_type": "execute_result"
    }
   ],
   "source": [
    "tin.shape[0] == ins.shape[0] + dins.shape[0]"
   ]
  },
  {
   "cell_type": "code",
   "execution_count": 35,
   "metadata": {},
   "outputs": [
    {
     "data": {
      "text/plain": [
       "(22044208, 34)"
      ]
     },
     "execution_count": 35,
     "metadata": {},
     "output_type": "execute_result"
    }
   ],
   "source": [
    "tin = tin.sort_values('검사일자', ascending=False).drop_duplicates('차대번호').reset_index(drop=True)\n",
    "tin.shape"
   ]
  },
  {
   "attachments": {},
   "cell_type": "markdown",
   "metadata": {},
   "source": [
    "## 전처리 : 등록&제원과 정기,정밀 병합\n",
    "- 4등급 경유 등록&제원 : df\n",
    "- 최신 검사일자 중복 차대번호 제거 정기, 정밀 : tin\n",
    "- 병합 : total"
   ]
  },
  {
   "cell_type": "code",
   "execution_count": 36,
   "metadata": {},
   "outputs": [
    {
     "data": {
      "text/plain": [
       "(1152697, 82)"
      ]
     },
     "execution_count": 36,
     "metadata": {},
     "output_type": "execute_result"
    }
   ],
   "source": [
    "# about 45s\n",
    "total = df.merge(tin, on='차대번호', how='left')\n",
    "total.shape"
   ]
  },
  {
   "attachments": {},
   "cell_type": "markdown",
   "metadata": {},
   "source": [
    "# Analysis\n",
    "- '배출가스인증번호'별 '무부하매연판정1'별 '차대번호' 개수\n",
    "- '배출가스인증번호'별 '무부하매연판정1'별 '무부하매연측정치1'의 통계"
   ]
  },
  {
   "cell_type": "code",
   "execution_count": 41,
   "metadata": {},
   "outputs": [
    {
     "data": {
      "text/plain": [
       "Y      1085469\n",
       "N        34667\n",
       "NaN      32561\n",
       "Name: 무부하매연판정1, dtype: int64"
      ]
     },
     "execution_count": 41,
     "metadata": {},
     "output_type": "execute_result"
    }
   ],
   "source": [
    "total['무부하매연판정1'].value_counts(dropna=False)"
   ]
  },
  {
   "cell_type": "code",
   "execution_count": 60,
   "metadata": {},
   "outputs": [
    {
     "data": {
      "text/plain": [
       "32561"
      ]
     },
     "execution_count": 60,
     "metadata": {},
     "output_type": "execute_result"
    }
   ],
   "source": [
    "total['무부하매연판정1'].isnull().sum()"
   ]
  },
  {
   "cell_type": "code",
   "execution_count": 42,
   "metadata": {},
   "outputs": [
    {
     "data": {
      "text/plain": [
       "0.00      282188\n",
       "1.00       84819\n",
       "2.00       70060\n",
       "3.00       62826\n",
       "4.00       62018\n",
       "           ...  \n",
       "135.00         1\n",
       "2.50           1\n",
       "103.00         1\n",
       "0.01           1\n",
       "0.03           1\n",
       "Name: 무부하매연측정치1, Length: 111, dtype: int64"
      ]
     },
     "execution_count": 42,
     "metadata": {},
     "output_type": "execute_result"
    }
   ],
   "source": [
    "total['무부하매연측정치1'].value_counts(dropna=False)"
   ]
  },
  {
   "cell_type": "code",
   "execution_count": 59,
   "metadata": {},
   "outputs": [
    {
     "data": {
      "text/plain": [
       "32556"
      ]
     },
     "execution_count": 59,
     "metadata": {},
     "output_type": "execute_result"
    }
   ],
   "source": [
    "total['무부하매연측정치1'].isnull().sum()"
   ]
  },
  {
   "cell_type": "code",
   "execution_count": 44,
   "metadata": {},
   "outputs": [
    {
     "data": {
      "text/html": [
       "<div>\n",
       "<style scoped>\n",
       "    .dataframe tbody tr th:only-of-type {\n",
       "        vertical-align: middle;\n",
       "    }\n",
       "\n",
       "    .dataframe tbody tr th {\n",
       "        vertical-align: top;\n",
       "    }\n",
       "\n",
       "    .dataframe thead th {\n",
       "        text-align: right;\n",
       "    }\n",
       "</style>\n",
       "<table border=\"1\" class=\"dataframe\">\n",
       "  <thead>\n",
       "    <tr style=\"text-align: right;\">\n",
       "      <th></th>\n",
       "      <th>count</th>\n",
       "    </tr>\n",
       "    <tr>\n",
       "      <th>무부하매연판정1</th>\n",
       "      <th></th>\n",
       "    </tr>\n",
       "  </thead>\n",
       "  <tbody>\n",
       "    <tr>\n",
       "      <th>N</th>\n",
       "      <td>34667</td>\n",
       "    </tr>\n",
       "    <tr>\n",
       "      <th>Y</th>\n",
       "      <td>1085469</td>\n",
       "    </tr>\n",
       "    <tr>\n",
       "      <th>NaN</th>\n",
       "      <td>32561</td>\n",
       "    </tr>\n",
       "  </tbody>\n",
       "</table>\n",
       "</div>"
      ],
      "text/plain": [
       "            count\n",
       "무부하매연판정1         \n",
       "N           34667\n",
       "Y         1085469\n",
       "NaN         32561"
      ]
     },
     "execution_count": 44,
     "metadata": {},
     "output_type": "execute_result"
    }
   ],
   "source": [
    "total.groupby(['무부하매연판정1'], dropna=False)['차대번호'].agg(['count'])"
   ]
  },
  {
   "cell_type": "code",
   "execution_count": 64,
   "metadata": {},
   "outputs": [
    {
     "data": {
      "text/html": [
       "<div>\n",
       "<style scoped>\n",
       "    .dataframe tbody tr th:only-of-type {\n",
       "        vertical-align: middle;\n",
       "    }\n",
       "\n",
       "    .dataframe tbody tr th {\n",
       "        vertical-align: top;\n",
       "    }\n",
       "\n",
       "    .dataframe thead th {\n",
       "        text-align: right;\n",
       "    }\n",
       "</style>\n",
       "<table border=\"1\" class=\"dataframe\">\n",
       "  <thead>\n",
       "    <tr style=\"text-align: right;\">\n",
       "      <th></th>\n",
       "      <th>count</th>\n",
       "    </tr>\n",
       "    <tr>\n",
       "      <th>무부하매연판정1</th>\n",
       "      <th></th>\n",
       "    </tr>\n",
       "  </thead>\n",
       "  <tbody>\n",
       "    <tr>\n",
       "      <th>N</th>\n",
       "      <td>34667</td>\n",
       "    </tr>\n",
       "    <tr>\n",
       "      <th>Y</th>\n",
       "      <td>1085469</td>\n",
       "    </tr>\n",
       "    <tr>\n",
       "      <th>NaN</th>\n",
       "      <td>32561</td>\n",
       "    </tr>\n",
       "  </tbody>\n",
       "</table>\n",
       "</div>"
      ],
      "text/plain": [
       "            count\n",
       "무부하매연판정1         \n",
       "N           34667\n",
       "Y         1085469\n",
       "NaN         32561"
      ]
     },
     "execution_count": 64,
     "metadata": {},
     "output_type": "execute_result"
    }
   ],
   "source": [
    "total.groupby(['무부하매연판정1'], dropna=False)['차대번호'].agg(['count'])"
   ]
  },
  {
   "cell_type": "code",
   "execution_count": 61,
   "metadata": {},
   "outputs": [
    {
     "data": {
      "text/html": [
       "<div>\n",
       "<style scoped>\n",
       "    .dataframe tbody tr th:only-of-type {\n",
       "        vertical-align: middle;\n",
       "    }\n",
       "\n",
       "    .dataframe tbody tr th {\n",
       "        vertical-align: top;\n",
       "    }\n",
       "\n",
       "    .dataframe thead th {\n",
       "        text-align: right;\n",
       "    }\n",
       "</style>\n",
       "<table border=\"1\" class=\"dataframe\">\n",
       "  <thead>\n",
       "    <tr style=\"text-align: right;\">\n",
       "      <th></th>\n",
       "      <th></th>\n",
       "      <th>count</th>\n",
       "      <th>mean</th>\n",
       "      <th>min</th>\n",
       "      <th>max</th>\n",
       "    </tr>\n",
       "    <tr>\n",
       "      <th>배출가스인증번호</th>\n",
       "      <th>무부하매연판정1</th>\n",
       "      <th></th>\n",
       "      <th></th>\n",
       "      <th></th>\n",
       "      <th></th>\n",
       "    </tr>\n",
       "  </thead>\n",
       "  <tbody>\n",
       "    <tr>\n",
       "      <th rowspan=\"3\" valign=\"top\">4MY-AD-20</th>\n",
       "      <th>N</th>\n",
       "      <td>2</td>\n",
       "      <td>52.500000</td>\n",
       "      <td>51.0</td>\n",
       "      <td>54.0</td>\n",
       "    </tr>\n",
       "    <tr>\n",
       "      <th>Y</th>\n",
       "      <td>30</td>\n",
       "      <td>12.233333</td>\n",
       "      <td>0.0</td>\n",
       "      <td>31.0</td>\n",
       "    </tr>\n",
       "    <tr>\n",
       "      <th>NaN</th>\n",
       "      <td>0</td>\n",
       "      <td>NaN</td>\n",
       "      <td>NaN</td>\n",
       "      <td>NaN</td>\n",
       "    </tr>\n",
       "    <tr>\n",
       "      <th rowspan=\"2\" valign=\"top\">4MY-DC-33</th>\n",
       "      <th>Y</th>\n",
       "      <td>6</td>\n",
       "      <td>6.000000</td>\n",
       "      <td>0.0</td>\n",
       "      <td>20.0</td>\n",
       "    </tr>\n",
       "    <tr>\n",
       "      <th>NaN</th>\n",
       "      <td>0</td>\n",
       "      <td>NaN</td>\n",
       "      <td>NaN</td>\n",
       "      <td>NaN</td>\n",
       "    </tr>\n",
       "    <tr>\n",
       "      <th>...</th>\n",
       "      <th>...</th>\n",
       "      <td>...</td>\n",
       "      <td>...</td>\n",
       "      <td>...</td>\n",
       "      <td>...</td>\n",
       "    </tr>\n",
       "    <tr>\n",
       "      <th>FMY-VTK-14-3</th>\n",
       "      <th>NaN</th>\n",
       "      <td>0</td>\n",
       "      <td>NaN</td>\n",
       "      <td>NaN</td>\n",
       "      <td>NaN</td>\n",
       "    </tr>\n",
       "    <tr>\n",
       "      <th>FMY-VTK-14-4</th>\n",
       "      <th>Y</th>\n",
       "      <td>49</td>\n",
       "      <td>0.918367</td>\n",
       "      <td>0.0</td>\n",
       "      <td>21.0</td>\n",
       "    </tr>\n",
       "    <tr>\n",
       "      <th rowspan=\"3\" valign=\"top\">NaN</th>\n",
       "      <th>N</th>\n",
       "      <td>114</td>\n",
       "      <td>36.456140</td>\n",
       "      <td>10.0</td>\n",
       "      <td>94.0</td>\n",
       "    </tr>\n",
       "    <tr>\n",
       "      <th>Y</th>\n",
       "      <td>6981</td>\n",
       "      <td>3.485178</td>\n",
       "      <td>0.0</td>\n",
       "      <td>41.0</td>\n",
       "    </tr>\n",
       "    <tr>\n",
       "      <th>NaN</th>\n",
       "      <td>0</td>\n",
       "      <td>NaN</td>\n",
       "      <td>NaN</td>\n",
       "      <td>NaN</td>\n",
       "    </tr>\n",
       "  </tbody>\n",
       "</table>\n",
       "<p>451 rows × 4 columns</p>\n",
       "</div>"
      ],
      "text/plain": [
       "                       count       mean   min   max\n",
       "배출가스인증번호     무부하매연판정1                              \n",
       "4MY-AD-20    N             2  52.500000  51.0  54.0\n",
       "             Y            30  12.233333   0.0  31.0\n",
       "             NaN           0        NaN   NaN   NaN\n",
       "4MY-DC-33    Y             6   6.000000   0.0  20.0\n",
       "             NaN           0        NaN   NaN   NaN\n",
       "...                      ...        ...   ...   ...\n",
       "FMY-VTK-14-3 NaN           0        NaN   NaN   NaN\n",
       "FMY-VTK-14-4 Y            49   0.918367   0.0  21.0\n",
       "NaN          N           114  36.456140  10.0  94.0\n",
       "             Y          6981   3.485178   0.0  41.0\n",
       "             NaN           0        NaN   NaN   NaN\n",
       "\n",
       "[451 rows x 4 columns]"
      ]
     },
     "execution_count": 61,
     "metadata": {},
     "output_type": "execute_result"
    }
   ],
   "source": [
    "gas_grp = total.groupby(['배출가스인증번호', '무부하매연판정1'], dropna=False)['무부하매연측정치1'].agg(['count', 'mean', 'min', 'max'])\n",
    "gas_grp"
   ]
  },
  {
   "cell_type": "code",
   "execution_count": 73,
   "metadata": {},
   "outputs": [
    {
     "data": {
      "text/html": [
       "<div>\n",
       "<style scoped>\n",
       "    .dataframe tbody tr th:only-of-type {\n",
       "        vertical-align: middle;\n",
       "    }\n",
       "\n",
       "    .dataframe tbody tr th {\n",
       "        vertical-align: top;\n",
       "    }\n",
       "\n",
       "    .dataframe thead th {\n",
       "        text-align: right;\n",
       "    }\n",
       "</style>\n",
       "<table border=\"1\" class=\"dataframe\">\n",
       "  <thead>\n",
       "    <tr style=\"text-align: right;\">\n",
       "      <th></th>\n",
       "      <th></th>\n",
       "      <th>count</th>\n",
       "    </tr>\n",
       "    <tr>\n",
       "      <th>배출가스인증번호</th>\n",
       "      <th>무부하매연판정1</th>\n",
       "      <th></th>\n",
       "    </tr>\n",
       "  </thead>\n",
       "  <tbody>\n",
       "    <tr>\n",
       "      <th rowspan=\"3\" valign=\"top\">4MY-AD-20</th>\n",
       "      <th>N</th>\n",
       "      <td>2</td>\n",
       "    </tr>\n",
       "    <tr>\n",
       "      <th>Y</th>\n",
       "      <td>30</td>\n",
       "    </tr>\n",
       "    <tr>\n",
       "      <th>NaN</th>\n",
       "      <td>2</td>\n",
       "    </tr>\n",
       "    <tr>\n",
       "      <th rowspan=\"2\" valign=\"top\">4MY-DC-33</th>\n",
       "      <th>Y</th>\n",
       "      <td>6</td>\n",
       "    </tr>\n",
       "    <tr>\n",
       "      <th>NaN</th>\n",
       "      <td>1</td>\n",
       "    </tr>\n",
       "    <tr>\n",
       "      <th>...</th>\n",
       "      <th>...</th>\n",
       "      <td>...</td>\n",
       "    </tr>\n",
       "    <tr>\n",
       "      <th>FMY-VTK-14-3</th>\n",
       "      <th>NaN</th>\n",
       "      <td>2</td>\n",
       "    </tr>\n",
       "    <tr>\n",
       "      <th>FMY-VTK-14-4</th>\n",
       "      <th>Y</th>\n",
       "      <td>49</td>\n",
       "    </tr>\n",
       "    <tr>\n",
       "      <th rowspan=\"3\" valign=\"top\">NaN</th>\n",
       "      <th>N</th>\n",
       "      <td>114</td>\n",
       "    </tr>\n",
       "    <tr>\n",
       "      <th>Y</th>\n",
       "      <td>6981</td>\n",
       "    </tr>\n",
       "    <tr>\n",
       "      <th>NaN</th>\n",
       "      <td>525</td>\n",
       "    </tr>\n",
       "  </tbody>\n",
       "</table>\n",
       "<p>451 rows × 1 columns</p>\n",
       "</div>"
      ],
      "text/plain": [
       "                       count\n",
       "배출가스인증번호     무부하매연판정1       \n",
       "4MY-AD-20    N             2\n",
       "             Y            30\n",
       "             NaN           2\n",
       "4MY-DC-33    Y             6\n",
       "             NaN           1\n",
       "...                      ...\n",
       "FMY-VTK-14-3 NaN           2\n",
       "FMY-VTK-14-4 Y            49\n",
       "NaN          N           114\n",
       "             Y          6981\n",
       "             NaN         525\n",
       "\n",
       "[451 rows x 1 columns]"
      ]
     },
     "execution_count": 73,
     "metadata": {},
     "output_type": "execute_result"
    }
   ],
   "source": [
    "gas_vin_grp = total.groupby(['배출가스인증번호', '무부하매연판정1'], dropna=False)['차대번호'].agg(['count'])\n",
    "gas_vin_grp"
   ]
  },
  {
   "cell_type": "code",
   "execution_count": 74,
   "metadata": {},
   "outputs": [
    {
     "data": {
      "text/html": [
       "<div>\n",
       "<style scoped>\n",
       "    .dataframe tbody tr th:only-of-type {\n",
       "        vertical-align: middle;\n",
       "    }\n",
       "\n",
       "    .dataframe tbody tr th {\n",
       "        vertical-align: top;\n",
       "    }\n",
       "\n",
       "    .dataframe thead th {\n",
       "        text-align: right;\n",
       "    }\n",
       "</style>\n",
       "<table border=\"1\" class=\"dataframe\">\n",
       "  <thead>\n",
       "    <tr style=\"text-align: right;\">\n",
       "      <th></th>\n",
       "      <th></th>\n",
       "      <th>count</th>\n",
       "      <th>mean</th>\n",
       "      <th>min</th>\n",
       "      <th>max</th>\n",
       "    </tr>\n",
       "    <tr>\n",
       "      <th>무부하매연판정1</th>\n",
       "      <th>배출가스인증번호</th>\n",
       "      <th></th>\n",
       "      <th></th>\n",
       "      <th></th>\n",
       "      <th></th>\n",
       "    </tr>\n",
       "  </thead>\n",
       "  <tbody>\n",
       "    <tr>\n",
       "      <th rowspan=\"11\" valign=\"top\">Y</th>\n",
       "      <th>4MY-AD-20</th>\n",
       "      <td>30</td>\n",
       "      <td>12.233333</td>\n",
       "      <td>0.0</td>\n",
       "      <td>31.0</td>\n",
       "    </tr>\n",
       "    <tr>\n",
       "      <th>4MY-DC-33</th>\n",
       "      <td>6</td>\n",
       "      <td>6.000000</td>\n",
       "      <td>0.0</td>\n",
       "      <td>20.0</td>\n",
       "    </tr>\n",
       "    <tr>\n",
       "      <th>4MY-PA-06</th>\n",
       "      <td>12</td>\n",
       "      <td>14.500000</td>\n",
       "      <td>0.0</td>\n",
       "      <td>40.0</td>\n",
       "    </tr>\n",
       "    <tr>\n",
       "      <th>5MY-AD-13-06</th>\n",
       "      <td>336</td>\n",
       "      <td>1.247024</td>\n",
       "      <td>0.0</td>\n",
       "      <td>41.0</td>\n",
       "    </tr>\n",
       "    <tr>\n",
       "      <th>5MY-AD-13-07</th>\n",
       "      <td>110</td>\n",
       "      <td>1.781818</td>\n",
       "      <td>0.0</td>\n",
       "      <td>45.0</td>\n",
       "    </tr>\n",
       "    <tr>\n",
       "      <th>...</th>\n",
       "      <td>...</td>\n",
       "      <td>...</td>\n",
       "      <td>...</td>\n",
       "      <td>...</td>\n",
       "    </tr>\n",
       "    <tr>\n",
       "      <th>FMY-VTK-14-1</th>\n",
       "      <td>1757</td>\n",
       "      <td>0.892999</td>\n",
       "      <td>-1.0</td>\n",
       "      <td>19.0</td>\n",
       "    </tr>\n",
       "    <tr>\n",
       "      <th>FMY-VTK-14-2</th>\n",
       "      <td>86</td>\n",
       "      <td>0.569767</td>\n",
       "      <td>0.0</td>\n",
       "      <td>10.0</td>\n",
       "    </tr>\n",
       "    <tr>\n",
       "      <th>FMY-VTK-14-3</th>\n",
       "      <td>74</td>\n",
       "      <td>0.202703</td>\n",
       "      <td>0.0</td>\n",
       "      <td>6.0</td>\n",
       "    </tr>\n",
       "    <tr>\n",
       "      <th>FMY-VTK-14-4</th>\n",
       "      <td>49</td>\n",
       "      <td>0.918367</td>\n",
       "      <td>0.0</td>\n",
       "      <td>21.0</td>\n",
       "    </tr>\n",
       "    <tr>\n",
       "      <th>NaN</th>\n",
       "      <td>6981</td>\n",
       "      <td>3.485178</td>\n",
       "      <td>0.0</td>\n",
       "      <td>41.0</td>\n",
       "    </tr>\n",
       "  </tbody>\n",
       "</table>\n",
       "<p>204 rows × 4 columns</p>\n",
       "</div>"
      ],
      "text/plain": [
       "                       count       mean  min   max\n",
       "무부하매연판정1 배출가스인증번호                                 \n",
       "Y        4MY-AD-20        30  12.233333  0.0  31.0\n",
       "         4MY-DC-33         6   6.000000  0.0  20.0\n",
       "         4MY-PA-06        12  14.500000  0.0  40.0\n",
       "         5MY-AD-13-06    336   1.247024  0.0  41.0\n",
       "         5MY-AD-13-07    110   1.781818  0.0  45.0\n",
       "...                      ...        ...  ...   ...\n",
       "         FMY-VTK-14-1   1757   0.892999 -1.0  19.0\n",
       "         FMY-VTK-14-2     86   0.569767  0.0  10.0\n",
       "         FMY-VTK-14-3     74   0.202703  0.0   6.0\n",
       "         FMY-VTK-14-4     49   0.918367  0.0  21.0\n",
       "         NaN            6981   3.485178  0.0  41.0\n",
       "\n",
       "[204 rows x 4 columns]"
      ]
     },
     "execution_count": 74,
     "metadata": {},
     "output_type": "execute_result"
    }
   ],
   "source": [
    "gas_grp_y = total[total['무부하매연판정1'] == 'Y'].groupby(['무부하매연판정1', '배출가스인증번호'], dropna=False)['무부하매연측정치1'].agg(['count', 'mean', 'min', 'max'])\n",
    "gas_grp_y"
   ]
  },
  {
   "cell_type": "code",
   "execution_count": 75,
   "metadata": {},
   "outputs": [
    {
     "data": {
      "text/plain": [
       "무부하매연판정1  배출가스인증번호    \n",
       "Y         4MY-AD-20         30\n",
       "          4MY-DC-33          6\n",
       "          4MY-PA-06         12\n",
       "          5MY-AD-13-06     336\n",
       "          5MY-AD-13-07     110\n",
       "                          ... \n",
       "          FMY-VTK-14-1    1757\n",
       "          FMY-VTK-14-2      86\n",
       "          FMY-VTK-14-3      74\n",
       "          FMY-VTK-14-4      49\n",
       "          NaN             6981\n",
       "Name: 차대번호, Length: 204, dtype: int64"
      ]
     },
     "execution_count": 75,
     "metadata": {},
     "output_type": "execute_result"
    }
   ],
   "source": [
    "gas_grp_y_vin = total[total['무부하매연판정1'] == 'Y'].groupby(['무부하매연판정1', '배출가스인증번호'], dropna=False)['차대번호'].agg('count')\n",
    "gas_grp_y_vin"
   ]
  },
  {
   "cell_type": "code",
   "execution_count": 76,
   "metadata": {},
   "outputs": [
    {
     "data": {
      "text/html": [
       "<div>\n",
       "<style scoped>\n",
       "    .dataframe tbody tr th:only-of-type {\n",
       "        vertical-align: middle;\n",
       "    }\n",
       "\n",
       "    .dataframe tbody tr th {\n",
       "        vertical-align: top;\n",
       "    }\n",
       "\n",
       "    .dataframe thead th {\n",
       "        text-align: right;\n",
       "    }\n",
       "</style>\n",
       "<table border=\"1\" class=\"dataframe\">\n",
       "  <thead>\n",
       "    <tr style=\"text-align: right;\">\n",
       "      <th></th>\n",
       "      <th></th>\n",
       "      <th>count</th>\n",
       "      <th>mean</th>\n",
       "      <th>min</th>\n",
       "      <th>max</th>\n",
       "    </tr>\n",
       "    <tr>\n",
       "      <th>무부하매연판정1</th>\n",
       "      <th>배출가스인증번호</th>\n",
       "      <th></th>\n",
       "      <th></th>\n",
       "      <th></th>\n",
       "      <th></th>\n",
       "    </tr>\n",
       "  </thead>\n",
       "  <tbody>\n",
       "    <tr>\n",
       "      <th rowspan=\"11\" valign=\"top\">N</th>\n",
       "      <th>4MY-AD-20</th>\n",
       "      <td>2</td>\n",
       "      <td>52.500000</td>\n",
       "      <td>51.0</td>\n",
       "      <td>54.0</td>\n",
       "    </tr>\n",
       "    <tr>\n",
       "      <th>5MY-AD-13-06</th>\n",
       "      <td>1</td>\n",
       "      <td>51.000000</td>\n",
       "      <td>51.0</td>\n",
       "      <td>51.0</td>\n",
       "    </tr>\n",
       "    <tr>\n",
       "      <th>5MY-AD-14-08</th>\n",
       "      <td>1</td>\n",
       "      <td>65.000000</td>\n",
       "      <td>65.0</td>\n",
       "      <td>65.0</td>\n",
       "    </tr>\n",
       "    <tr>\n",
       "      <th>5MY-AD-14-18</th>\n",
       "      <td>4</td>\n",
       "      <td>35.000000</td>\n",
       "      <td>20.0</td>\n",
       "      <td>49.0</td>\n",
       "    </tr>\n",
       "    <tr>\n",
       "      <th>5MY-HB-24-02</th>\n",
       "      <td>5</td>\n",
       "      <td>48.600000</td>\n",
       "      <td>30.0</td>\n",
       "      <td>80.0</td>\n",
       "    </tr>\n",
       "    <tr>\n",
       "      <th>...</th>\n",
       "      <td>...</td>\n",
       "      <td>...</td>\n",
       "      <td>...</td>\n",
       "      <td>...</td>\n",
       "    </tr>\n",
       "    <tr>\n",
       "      <th>9MY-KM-14-41</th>\n",
       "      <td>2293</td>\n",
       "      <td>41.387266</td>\n",
       "      <td>16.0</td>\n",
       "      <td>99.0</td>\n",
       "    </tr>\n",
       "    <tr>\n",
       "      <th>9MY-PA-13-1</th>\n",
       "      <td>1</td>\n",
       "      <td>22.000000</td>\n",
       "      <td>22.0</td>\n",
       "      <td>22.0</td>\n",
       "    </tr>\n",
       "    <tr>\n",
       "      <th>C135</th>\n",
       "      <td>2</td>\n",
       "      <td>56.000000</td>\n",
       "      <td>53.0</td>\n",
       "      <td>59.0</td>\n",
       "    </tr>\n",
       "    <tr>\n",
       "      <th>FMY-VTK-14-1</th>\n",
       "      <td>4</td>\n",
       "      <td>24.750000</td>\n",
       "      <td>18.0</td>\n",
       "      <td>38.0</td>\n",
       "    </tr>\n",
       "    <tr>\n",
       "      <th>NaN</th>\n",
       "      <td>114</td>\n",
       "      <td>36.456140</td>\n",
       "      <td>10.0</td>\n",
       "      <td>94.0</td>\n",
       "    </tr>\n",
       "  </tbody>\n",
       "</table>\n",
       "<p>104 rows × 4 columns</p>\n",
       "</div>"
      ],
      "text/plain": [
       "                       count       mean   min   max\n",
       "무부하매연판정1 배출가스인증번호                                  \n",
       "N        4MY-AD-20         2  52.500000  51.0  54.0\n",
       "         5MY-AD-13-06      1  51.000000  51.0  51.0\n",
       "         5MY-AD-14-08      1  65.000000  65.0  65.0\n",
       "         5MY-AD-14-18      4  35.000000  20.0  49.0\n",
       "         5MY-HB-24-02      5  48.600000  30.0  80.0\n",
       "...                      ...        ...   ...   ...\n",
       "         9MY-KM-14-41   2293  41.387266  16.0  99.0\n",
       "         9MY-PA-13-1       1  22.000000  22.0  22.0\n",
       "         C135              2  56.000000  53.0  59.0\n",
       "         FMY-VTK-14-1      4  24.750000  18.0  38.0\n",
       "         NaN             114  36.456140  10.0  94.0\n",
       "\n",
       "[104 rows x 4 columns]"
      ]
     },
     "execution_count": 76,
     "metadata": {},
     "output_type": "execute_result"
    }
   ],
   "source": [
    "gas_grp_n = total[total['무부하매연판정1'] == 'N'].groupby(['무부하매연판정1', '배출가스인증번호'], dropna=False)['무부하매연측정치1'].agg(['count', 'mean', 'min', 'max'])\n",
    "gas_grp_n"
   ]
  },
  {
   "cell_type": "code",
   "execution_count": 77,
   "metadata": {},
   "outputs": [
    {
     "data": {
      "text/plain": [
       "무부하매연판정1  배출가스인증번호    \n",
       "N         4MY-AD-20          2\n",
       "          5MY-AD-13-06       1\n",
       "          5MY-AD-14-08       1\n",
       "          5MY-AD-14-18       4\n",
       "          5MY-HB-24-02       5\n",
       "                          ... \n",
       "          9MY-KM-14-41    2293\n",
       "          9MY-PA-13-1        1\n",
       "          C135               2\n",
       "          FMY-VTK-14-1       4\n",
       "          NaN              114\n",
       "Name: 차대번호, Length: 104, dtype: int64"
      ]
     },
     "execution_count": 77,
     "metadata": {},
     "output_type": "execute_result"
    }
   ],
   "source": [
    "gas_grp_n_vin = total[total['무부하매연판정1'] == 'N'].groupby(['무부하매연판정1', '배출가스인증번호'], dropna=False)['차대번호'].agg('count')\n",
    "gas_grp_n_vin"
   ]
  },
  {
   "cell_type": "code",
   "execution_count": 81,
   "metadata": {},
   "outputs": [
    {
     "data": {
      "text/html": [
       "<div>\n",
       "<style scoped>\n",
       "    .dataframe tbody tr th:only-of-type {\n",
       "        vertical-align: middle;\n",
       "    }\n",
       "\n",
       "    .dataframe tbody tr th {\n",
       "        vertical-align: top;\n",
       "    }\n",
       "\n",
       "    .dataframe thead th {\n",
       "        text-align: right;\n",
       "    }\n",
       "</style>\n",
       "<table border=\"1\" class=\"dataframe\">\n",
       "  <thead>\n",
       "    <tr style=\"text-align: right;\">\n",
       "      <th></th>\n",
       "      <th>무부하매연판정1</th>\n",
       "      <th>배출가스인증번호</th>\n",
       "      <th>count</th>\n",
       "      <th>mean</th>\n",
       "      <th>min</th>\n",
       "      <th>max</th>\n",
       "    </tr>\n",
       "  </thead>\n",
       "  <tbody>\n",
       "    <tr>\n",
       "      <th>0</th>\n",
       "      <td>Y</td>\n",
       "      <td>4MY-AD-20</td>\n",
       "      <td>30</td>\n",
       "      <td>12.233333</td>\n",
       "      <td>0.0</td>\n",
       "      <td>31.0</td>\n",
       "    </tr>\n",
       "    <tr>\n",
       "      <th>1</th>\n",
       "      <td>Y</td>\n",
       "      <td>4MY-DC-33</td>\n",
       "      <td>6</td>\n",
       "      <td>6.000000</td>\n",
       "      <td>0.0</td>\n",
       "      <td>20.0</td>\n",
       "    </tr>\n",
       "    <tr>\n",
       "      <th>2</th>\n",
       "      <td>Y</td>\n",
       "      <td>4MY-PA-06</td>\n",
       "      <td>12</td>\n",
       "      <td>14.500000</td>\n",
       "      <td>0.0</td>\n",
       "      <td>40.0</td>\n",
       "    </tr>\n",
       "    <tr>\n",
       "      <th>3</th>\n",
       "      <td>Y</td>\n",
       "      <td>5MY-AD-13-06</td>\n",
       "      <td>336</td>\n",
       "      <td>1.247024</td>\n",
       "      <td>0.0</td>\n",
       "      <td>41.0</td>\n",
       "    </tr>\n",
       "    <tr>\n",
       "      <th>4</th>\n",
       "      <td>Y</td>\n",
       "      <td>5MY-AD-13-07</td>\n",
       "      <td>110</td>\n",
       "      <td>1.781818</td>\n",
       "      <td>0.0</td>\n",
       "      <td>45.0</td>\n",
       "    </tr>\n",
       "    <tr>\n",
       "      <th>...</th>\n",
       "      <td>...</td>\n",
       "      <td>...</td>\n",
       "      <td>...</td>\n",
       "      <td>...</td>\n",
       "      <td>...</td>\n",
       "      <td>...</td>\n",
       "    </tr>\n",
       "    <tr>\n",
       "      <th>199</th>\n",
       "      <td>Y</td>\n",
       "      <td>FMY-VTK-14-1</td>\n",
       "      <td>1757</td>\n",
       "      <td>0.892999</td>\n",
       "      <td>-1.0</td>\n",
       "      <td>19.0</td>\n",
       "    </tr>\n",
       "    <tr>\n",
       "      <th>200</th>\n",
       "      <td>Y</td>\n",
       "      <td>FMY-VTK-14-2</td>\n",
       "      <td>86</td>\n",
       "      <td>0.569767</td>\n",
       "      <td>0.0</td>\n",
       "      <td>10.0</td>\n",
       "    </tr>\n",
       "    <tr>\n",
       "      <th>201</th>\n",
       "      <td>Y</td>\n",
       "      <td>FMY-VTK-14-3</td>\n",
       "      <td>74</td>\n",
       "      <td>0.202703</td>\n",
       "      <td>0.0</td>\n",
       "      <td>6.0</td>\n",
       "    </tr>\n",
       "    <tr>\n",
       "      <th>202</th>\n",
       "      <td>Y</td>\n",
       "      <td>FMY-VTK-14-4</td>\n",
       "      <td>49</td>\n",
       "      <td>0.918367</td>\n",
       "      <td>0.0</td>\n",
       "      <td>21.0</td>\n",
       "    </tr>\n",
       "    <tr>\n",
       "      <th>203</th>\n",
       "      <td>Y</td>\n",
       "      <td>NaN</td>\n",
       "      <td>6981</td>\n",
       "      <td>3.485178</td>\n",
       "      <td>0.0</td>\n",
       "      <td>41.0</td>\n",
       "    </tr>\n",
       "  </tbody>\n",
       "</table>\n",
       "<p>204 rows × 6 columns</p>\n",
       "</div>"
      ],
      "text/plain": [
       "    무부하매연판정1      배출가스인증번호  count       mean  min   max\n",
       "0          Y     4MY-AD-20     30  12.233333  0.0  31.0\n",
       "1          Y     4MY-DC-33      6   6.000000  0.0  20.0\n",
       "2          Y     4MY-PA-06     12  14.500000  0.0  40.0\n",
       "3          Y  5MY-AD-13-06    336   1.247024  0.0  41.0\n",
       "4          Y  5MY-AD-13-07    110   1.781818  0.0  45.0\n",
       "..       ...           ...    ...        ...  ...   ...\n",
       "199        Y  FMY-VTK-14-1   1757   0.892999 -1.0  19.0\n",
       "200        Y  FMY-VTK-14-2     86   0.569767  0.0  10.0\n",
       "201        Y  FMY-VTK-14-3     74   0.202703  0.0   6.0\n",
       "202        Y  FMY-VTK-14-4     49   0.918367  0.0  21.0\n",
       "203        Y           NaN   6981   3.485178  0.0  41.0\n",
       "\n",
       "[204 rows x 6 columns]"
      ]
     },
     "execution_count": 81,
     "metadata": {},
     "output_type": "execute_result"
    }
   ],
   "source": [
    "gas_grp_y.reset_index()"
   ]
  },
  {
   "cell_type": "code",
   "execution_count": 82,
   "metadata": {},
   "outputs": [
    {
     "data": {
      "text/html": [
       "<div>\n",
       "<style scoped>\n",
       "    .dataframe tbody tr th:only-of-type {\n",
       "        vertical-align: middle;\n",
       "    }\n",
       "\n",
       "    .dataframe tbody tr th {\n",
       "        vertical-align: top;\n",
       "    }\n",
       "\n",
       "    .dataframe thead th {\n",
       "        text-align: right;\n",
       "    }\n",
       "</style>\n",
       "<table border=\"1\" class=\"dataframe\">\n",
       "  <thead>\n",
       "    <tr style=\"text-align: right;\">\n",
       "      <th></th>\n",
       "      <th>무부하매연판정1</th>\n",
       "      <th>배출가스인증번호</th>\n",
       "      <th>count</th>\n",
       "      <th>mean</th>\n",
       "      <th>min</th>\n",
       "      <th>max</th>\n",
       "    </tr>\n",
       "  </thead>\n",
       "  <tbody>\n",
       "    <tr>\n",
       "      <th>0</th>\n",
       "      <td>N</td>\n",
       "      <td>4MY-AD-20</td>\n",
       "      <td>2</td>\n",
       "      <td>52.500000</td>\n",
       "      <td>51.0</td>\n",
       "      <td>54.0</td>\n",
       "    </tr>\n",
       "    <tr>\n",
       "      <th>1</th>\n",
       "      <td>N</td>\n",
       "      <td>5MY-AD-13-06</td>\n",
       "      <td>1</td>\n",
       "      <td>51.000000</td>\n",
       "      <td>51.0</td>\n",
       "      <td>51.0</td>\n",
       "    </tr>\n",
       "    <tr>\n",
       "      <th>2</th>\n",
       "      <td>N</td>\n",
       "      <td>5MY-AD-14-08</td>\n",
       "      <td>1</td>\n",
       "      <td>65.000000</td>\n",
       "      <td>65.0</td>\n",
       "      <td>65.0</td>\n",
       "    </tr>\n",
       "    <tr>\n",
       "      <th>3</th>\n",
       "      <td>N</td>\n",
       "      <td>5MY-AD-14-18</td>\n",
       "      <td>4</td>\n",
       "      <td>35.000000</td>\n",
       "      <td>20.0</td>\n",
       "      <td>49.0</td>\n",
       "    </tr>\n",
       "    <tr>\n",
       "      <th>4</th>\n",
       "      <td>N</td>\n",
       "      <td>5MY-HB-24-02</td>\n",
       "      <td>5</td>\n",
       "      <td>48.600000</td>\n",
       "      <td>30.0</td>\n",
       "      <td>80.0</td>\n",
       "    </tr>\n",
       "    <tr>\n",
       "      <th>...</th>\n",
       "      <td>...</td>\n",
       "      <td>...</td>\n",
       "      <td>...</td>\n",
       "      <td>...</td>\n",
       "      <td>...</td>\n",
       "      <td>...</td>\n",
       "    </tr>\n",
       "    <tr>\n",
       "      <th>99</th>\n",
       "      <td>N</td>\n",
       "      <td>9MY-KM-14-41</td>\n",
       "      <td>2293</td>\n",
       "      <td>41.387266</td>\n",
       "      <td>16.0</td>\n",
       "      <td>99.0</td>\n",
       "    </tr>\n",
       "    <tr>\n",
       "      <th>100</th>\n",
       "      <td>N</td>\n",
       "      <td>9MY-PA-13-1</td>\n",
       "      <td>1</td>\n",
       "      <td>22.000000</td>\n",
       "      <td>22.0</td>\n",
       "      <td>22.0</td>\n",
       "    </tr>\n",
       "    <tr>\n",
       "      <th>101</th>\n",
       "      <td>N</td>\n",
       "      <td>C135</td>\n",
       "      <td>2</td>\n",
       "      <td>56.000000</td>\n",
       "      <td>53.0</td>\n",
       "      <td>59.0</td>\n",
       "    </tr>\n",
       "    <tr>\n",
       "      <th>102</th>\n",
       "      <td>N</td>\n",
       "      <td>FMY-VTK-14-1</td>\n",
       "      <td>4</td>\n",
       "      <td>24.750000</td>\n",
       "      <td>18.0</td>\n",
       "      <td>38.0</td>\n",
       "    </tr>\n",
       "    <tr>\n",
       "      <th>103</th>\n",
       "      <td>N</td>\n",
       "      <td>NaN</td>\n",
       "      <td>114</td>\n",
       "      <td>36.456140</td>\n",
       "      <td>10.0</td>\n",
       "      <td>94.0</td>\n",
       "    </tr>\n",
       "  </tbody>\n",
       "</table>\n",
       "<p>104 rows × 6 columns</p>\n",
       "</div>"
      ],
      "text/plain": [
       "    무부하매연판정1      배출가스인증번호  count       mean   min   max\n",
       "0          N     4MY-AD-20      2  52.500000  51.0  54.0\n",
       "1          N  5MY-AD-13-06      1  51.000000  51.0  51.0\n",
       "2          N  5MY-AD-14-08      1  65.000000  65.0  65.0\n",
       "3          N  5MY-AD-14-18      4  35.000000  20.0  49.0\n",
       "4          N  5MY-HB-24-02      5  48.600000  30.0  80.0\n",
       "..       ...           ...    ...        ...   ...   ...\n",
       "99         N  9MY-KM-14-41   2293  41.387266  16.0  99.0\n",
       "100        N   9MY-PA-13-1      1  22.000000  22.0  22.0\n",
       "101        N          C135      2  56.000000  53.0  59.0\n",
       "102        N  FMY-VTK-14-1      4  24.750000  18.0  38.0\n",
       "103        N           NaN    114  36.456140  10.0  94.0\n",
       "\n",
       "[104 rows x 6 columns]"
      ]
     },
     "execution_count": 82,
     "metadata": {},
     "output_type": "execute_result"
    }
   ],
   "source": [
    "gas_grp_n.reset_index()"
   ]
  },
  {
   "cell_type": "code",
   "execution_count": 83,
   "metadata": {},
   "outputs": [
    {
     "data": {
      "text/html": [
       "<div>\n",
       "<style scoped>\n",
       "    .dataframe tbody tr th:only-of-type {\n",
       "        vertical-align: middle;\n",
       "    }\n",
       "\n",
       "    .dataframe tbody tr th {\n",
       "        vertical-align: top;\n",
       "    }\n",
       "\n",
       "    .dataframe thead th {\n",
       "        text-align: right;\n",
       "    }\n",
       "</style>\n",
       "<table border=\"1\" class=\"dataframe\">\n",
       "  <thead>\n",
       "    <tr style=\"text-align: right;\">\n",
       "      <th></th>\n",
       "      <th>무부하매연판정1_x</th>\n",
       "      <th>배출가스인증번호</th>\n",
       "      <th>count_x</th>\n",
       "      <th>mean_x</th>\n",
       "      <th>min_x</th>\n",
       "      <th>max_x</th>\n",
       "      <th>무부하매연판정1_y</th>\n",
       "      <th>count_y</th>\n",
       "      <th>mean_y</th>\n",
       "      <th>min_y</th>\n",
       "      <th>max_y</th>\n",
       "    </tr>\n",
       "  </thead>\n",
       "  <tbody>\n",
       "    <tr>\n",
       "      <th>0</th>\n",
       "      <td>Y</td>\n",
       "      <td>4MY-AD-20</td>\n",
       "      <td>30.0</td>\n",
       "      <td>12.233333</td>\n",
       "      <td>0.0</td>\n",
       "      <td>31.0</td>\n",
       "      <td>N</td>\n",
       "      <td>2.0</td>\n",
       "      <td>52.50000</td>\n",
       "      <td>51.0</td>\n",
       "      <td>54.0</td>\n",
       "    </tr>\n",
       "    <tr>\n",
       "      <th>1</th>\n",
       "      <td>Y</td>\n",
       "      <td>4MY-DC-33</td>\n",
       "      <td>6.0</td>\n",
       "      <td>6.000000</td>\n",
       "      <td>0.0</td>\n",
       "      <td>20.0</td>\n",
       "      <td>NaN</td>\n",
       "      <td>NaN</td>\n",
       "      <td>NaN</td>\n",
       "      <td>NaN</td>\n",
       "      <td>NaN</td>\n",
       "    </tr>\n",
       "    <tr>\n",
       "      <th>2</th>\n",
       "      <td>Y</td>\n",
       "      <td>4MY-PA-06</td>\n",
       "      <td>12.0</td>\n",
       "      <td>14.500000</td>\n",
       "      <td>0.0</td>\n",
       "      <td>40.0</td>\n",
       "      <td>NaN</td>\n",
       "      <td>NaN</td>\n",
       "      <td>NaN</td>\n",
       "      <td>NaN</td>\n",
       "      <td>NaN</td>\n",
       "    </tr>\n",
       "    <tr>\n",
       "      <th>3</th>\n",
       "      <td>Y</td>\n",
       "      <td>5MY-AD-13-06</td>\n",
       "      <td>336.0</td>\n",
       "      <td>1.247024</td>\n",
       "      <td>0.0</td>\n",
       "      <td>41.0</td>\n",
       "      <td>N</td>\n",
       "      <td>1.0</td>\n",
       "      <td>51.00000</td>\n",
       "      <td>51.0</td>\n",
       "      <td>51.0</td>\n",
       "    </tr>\n",
       "    <tr>\n",
       "      <th>4</th>\n",
       "      <td>Y</td>\n",
       "      <td>5MY-AD-13-07</td>\n",
       "      <td>110.0</td>\n",
       "      <td>1.781818</td>\n",
       "      <td>0.0</td>\n",
       "      <td>45.0</td>\n",
       "      <td>NaN</td>\n",
       "      <td>NaN</td>\n",
       "      <td>NaN</td>\n",
       "      <td>NaN</td>\n",
       "      <td>NaN</td>\n",
       "    </tr>\n",
       "    <tr>\n",
       "      <th>...</th>\n",
       "      <td>...</td>\n",
       "      <td>...</td>\n",
       "      <td>...</td>\n",
       "      <td>...</td>\n",
       "      <td>...</td>\n",
       "      <td>...</td>\n",
       "      <td>...</td>\n",
       "      <td>...</td>\n",
       "      <td>...</td>\n",
       "      <td>...</td>\n",
       "      <td>...</td>\n",
       "    </tr>\n",
       "    <tr>\n",
       "      <th>200</th>\n",
       "      <td>Y</td>\n",
       "      <td>FMY-VTK-14-2</td>\n",
       "      <td>86.0</td>\n",
       "      <td>0.569767</td>\n",
       "      <td>0.0</td>\n",
       "      <td>10.0</td>\n",
       "      <td>NaN</td>\n",
       "      <td>NaN</td>\n",
       "      <td>NaN</td>\n",
       "      <td>NaN</td>\n",
       "      <td>NaN</td>\n",
       "    </tr>\n",
       "    <tr>\n",
       "      <th>201</th>\n",
       "      <td>Y</td>\n",
       "      <td>FMY-VTK-14-3</td>\n",
       "      <td>74.0</td>\n",
       "      <td>0.202703</td>\n",
       "      <td>0.0</td>\n",
       "      <td>6.0</td>\n",
       "      <td>NaN</td>\n",
       "      <td>NaN</td>\n",
       "      <td>NaN</td>\n",
       "      <td>NaN</td>\n",
       "      <td>NaN</td>\n",
       "    </tr>\n",
       "    <tr>\n",
       "      <th>202</th>\n",
       "      <td>Y</td>\n",
       "      <td>FMY-VTK-14-4</td>\n",
       "      <td>49.0</td>\n",
       "      <td>0.918367</td>\n",
       "      <td>0.0</td>\n",
       "      <td>21.0</td>\n",
       "      <td>NaN</td>\n",
       "      <td>NaN</td>\n",
       "      <td>NaN</td>\n",
       "      <td>NaN</td>\n",
       "      <td>NaN</td>\n",
       "    </tr>\n",
       "    <tr>\n",
       "      <th>203</th>\n",
       "      <td>Y</td>\n",
       "      <td>NaN</td>\n",
       "      <td>6981.0</td>\n",
       "      <td>3.485178</td>\n",
       "      <td>0.0</td>\n",
       "      <td>41.0</td>\n",
       "      <td>N</td>\n",
       "      <td>114.0</td>\n",
       "      <td>36.45614</td>\n",
       "      <td>10.0</td>\n",
       "      <td>94.0</td>\n",
       "    </tr>\n",
       "    <tr>\n",
       "      <th>204</th>\n",
       "      <td>NaN</td>\n",
       "      <td>8MY-BD-0M-24</td>\n",
       "      <td>NaN</td>\n",
       "      <td>NaN</td>\n",
       "      <td>NaN</td>\n",
       "      <td>NaN</td>\n",
       "      <td>N</td>\n",
       "      <td>1.0</td>\n",
       "      <td>16.00000</td>\n",
       "      <td>16.0</td>\n",
       "      <td>16.0</td>\n",
       "    </tr>\n",
       "  </tbody>\n",
       "</table>\n",
       "<p>205 rows × 11 columns</p>\n",
       "</div>"
      ],
      "text/plain": [
       "    무부하매연판정1_x      배출가스인증번호  count_x     mean_x  min_x  max_x 무부하매연판정1_y  \\\n",
       "0            Y     4MY-AD-20     30.0  12.233333    0.0   31.0          N   \n",
       "1            Y     4MY-DC-33      6.0   6.000000    0.0   20.0        NaN   \n",
       "2            Y     4MY-PA-06     12.0  14.500000    0.0   40.0        NaN   \n",
       "3            Y  5MY-AD-13-06    336.0   1.247024    0.0   41.0          N   \n",
       "4            Y  5MY-AD-13-07    110.0   1.781818    0.0   45.0        NaN   \n",
       "..         ...           ...      ...        ...    ...    ...        ...   \n",
       "200          Y  FMY-VTK-14-2     86.0   0.569767    0.0   10.0        NaN   \n",
       "201          Y  FMY-VTK-14-3     74.0   0.202703    0.0    6.0        NaN   \n",
       "202          Y  FMY-VTK-14-4     49.0   0.918367    0.0   21.0        NaN   \n",
       "203          Y           NaN   6981.0   3.485178    0.0   41.0          N   \n",
       "204        NaN  8MY-BD-0M-24      NaN        NaN    NaN    NaN          N   \n",
       "\n",
       "     count_y    mean_y  min_y  max_y  \n",
       "0        2.0  52.50000   51.0   54.0  \n",
       "1        NaN       NaN    NaN    NaN  \n",
       "2        NaN       NaN    NaN    NaN  \n",
       "3        1.0  51.00000   51.0   51.0  \n",
       "4        NaN       NaN    NaN    NaN  \n",
       "..       ...       ...    ...    ...  \n",
       "200      NaN       NaN    NaN    NaN  \n",
       "201      NaN       NaN    NaN    NaN  \n",
       "202      NaN       NaN    NaN    NaN  \n",
       "203    114.0  36.45614   10.0   94.0  \n",
       "204      1.0  16.00000   16.0   16.0  \n",
       "\n",
       "[205 rows x 11 columns]"
      ]
     },
     "execution_count": 83,
     "metadata": {},
     "output_type": "execute_result"
    }
   ],
   "source": [
    "pd.merge(gas_grp_y.reset_index(), gas_grp_n.reset_index(), on='배출가스인증번호', how='outer')"
   ]
  },
  {
   "cell_type": "code",
   "execution_count": 92,
   "metadata": {},
   "outputs": [],
   "source": [
    "with pd.ExcelWriter('analysis2/4등급_데이터_점검/[BD1][통계][G4]배인번호별_매연측정치_통계.xlsx') as writer:\n",
    "    # 전체 합격/불합격별 대수 통계\n",
    "    total.groupby(['무부하매연판정1'], dropna=False)['차대번호'].agg(['count']).to_excel(writer, sheet_name='판정별_통계')\n",
    "    # 배출가스인증번호, 판정별 매연측정치 통계\n",
    "    gas_grp.reset_index().to_excel(writer, sheet_name = '매연측정치_통계', index=False)\n",
    "    gas_vin_grp.reset_index().to_excel(writer, sheet_name = '매연측정치_차대번호_통계', index=False)\n",
    "    # 매연판정 합격/불합격별 매연측정치 통계\n",
    "    gas_grp_y.reset_index().to_excel(writer, sheet_name='합격_매연측정치_통계', index=False)\n",
    "    gas_grp_y_vin.reset_index().to_excel(writer, sheet_name='합격_매연측정치_차대번호_통계', index=False)\n",
    "    gas_grp_n.reset_index().to_excel(writer, sheet_name='불합격_매연측정치_통계', index=False)\n",
    "    gas_grp_n_vin.reset_index().to_excel(writer, sheet_name='불합격_매연측정치_차대번호_통계', index=False)\n",
    "    # 합격/불합격 매연측정치 비교 통계\n",
    "    pd.merge(gas_grp_y.reset_index(), gas_grp_n.reset_index(), on='배출가스인증번호', how='outer').to_excel(writer, sheet_name='합격_불합격_매연측정치_통계_비교', index=False)"
   ]
  },
  {
   "cell_type": "code",
   "execution_count": 89,
   "metadata": {},
   "outputs": [],
   "source": [
    "gas_grp.reset_index().to_excel('analysis2/4등급_데이터_점검/[BD1][통계][G4]배인번호별_매연측정치_통계(test).xlsx', index=False)"
   ]
  },
  {
   "cell_type": "code",
   "execution_count": null,
   "metadata": {},
   "outputs": [],
   "source": []
  }
 ],
 "metadata": {
  "kernelspec": {
   "display_name": "base",
   "language": "python",
   "name": "python3"
  },
  "language_info": {
   "codemirror_mode": {
    "name": "ipython",
    "version": 3
   },
   "file_extension": ".py",
   "mimetype": "text/x-python",
   "name": "python",
   "nbconvert_exporter": "python",
   "pygments_lexer": "ipython3",
   "version": "3.9.13"
  },
  "orig_nbformat": 4,
  "vscode": {
   "interpreter": {
    "hash": "ad2bdc8ecc057115af97d19610ffacc2b4e99fae6737bb82f5d7fb13d2f2c186"
   }
  }
 },
 "nbformat": 4,
 "nbformat_minor": 2
}
