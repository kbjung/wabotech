{
 "cells": [
  {
   "cell_type": "markdown",
   "metadata": {},
   "source": [
    "# Library\n"
   ]
  },
  {
   "cell_type": "code",
   "execution_count": 1,
   "metadata": {
    "tags": []
   },
   "outputs": [],
   "source": [
    "import pandas as pd\n",
    "import numpy as np\n",
    "from tqdm import tqdm\n",
    "from datetime import datetime\n",
    "import pyexasol"
   ]
  },
  {
   "cell_type": "code",
   "execution_count": 2,
   "metadata": {},
   "outputs": [],
   "source": [
    "import os"
   ]
  },
  {
   "cell_type": "code",
   "execution_count": 3,
   "metadata": {
    "tags": []
   },
   "outputs": [],
   "source": [
    "# 소수점 옵션\n",
    "pd.options.display.float_format = '{:.2f}'.format\n",
    "# pd.reset_option('display.float_format')"
   ]
  },
  {
   "cell_type": "markdown",
   "metadata": {},
   "source": [
    "# Fold"
   ]
  },
  {
   "cell_type": "code",
   "execution_count": 4,
   "metadata": {},
   "outputs": [],
   "source": [
    "df1_fold = 'D:/data/big2/BD1/df'"
   ]
  },
  {
   "cell_type": "markdown",
   "metadata": {},
   "source": [
    "# server"
   ]
  },
  {
   "cell_type": "code",
   "execution_count": 5,
   "metadata": {
    "tags": []
   },
   "outputs": [],
   "source": [
    "# # insider db\n",
    "# wd = pyexasol.connect(dsn='172.29.135.35/F99FAB2444F86051A9A467F6313FAAB48AF7C4760663430958E3B89A9DC53361:8563', user='sys', password='exasol', compression=True, schema='VSYSD')\n",
    "# we = pyexasol.connect(dsn='172.29.135.35/F99FAB2444F86051A9A467F6313FAAB48AF7C4760663430958E3B89A9DC53361:8563', user='sys', password='exasol', compression=True, schema='VSYSE')"
   ]
  },
  {
   "cell_type": "code",
   "execution_count": 6,
   "metadata": {},
   "outputs": [],
   "source": [
    "# exasol db\n",
    "ws = pyexasol.connect(dsn='dev.openankus.org:8563', user='sys', password='djslzja', compression=True, schema='VSYS')\n",
    "wd = pyexasol.connect(dsn='dev.openankus.org:8563', user='sys', password='djslzja', compression=True, schema='VSYSD')\n",
    "we = pyexasol.connect(dsn='dev.openankus.org:8563', user='sys', password='djslzja', compression=True, schema='VSYSE')"
   ]
  },
  {
   "cell_type": "markdown",
   "metadata": {},
   "source": [
    "# Load\n",
    "- 등록정보&제원정보 -> result 4등급(연료 전체)\n",
    "- 정기검사&정밀검사"
   ]
  },
  {
   "cell_type": "markdown",
   "metadata": {},
   "source": [
    "## 등록정보(STD_CEG_CAR_MIG) 4등급만"
   ]
  },
  {
   "cell_type": "code",
   "execution_count": 7,
   "metadata": {},
   "outputs": [
    {
     "name": "stdout",
     "output_type": "stream",
     "text": [
      "<class 'pandas.core.frame.DataFrame'>\n",
      "RangeIndex: 1906876 entries, 0 to 1906875\n",
      "Data columns (total 11 columns):\n",
      " #   Column             Dtype  \n",
      "---  ------             -----  \n",
      " 0   VIN                object \n",
      " 1   BSPL_STDG_CD       int64  \n",
      " 2   EXHST_GAS_GRD_CD   object \n",
      " 3   EXHST_GAS_CERT_NO  object \n",
      " 4   VHCL_ERSR_YN       object \n",
      " 5   MANP_MNG_NO        object \n",
      " 6   YRIDNW             int64  \n",
      " 7   VHCTY_CD           object \n",
      " 8   PURPS_CD2          object \n",
      " 9   FRST_REG_YMD       float64\n",
      " 10  VHCL_FBCTN_YMD     float64\n",
      "dtypes: float64(2), int64(2), object(7)\n",
      "memory usage: 160.0+ MB\n"
     ]
    }
   ],
   "source": [
    "# 8.6s\n",
    "car = wd.export_to_pandas(\"SELECT VIN, BSPL_STDG_CD, EXHST_GAS_GRD_CD, EXHST_GAS_CERT_NO, VHCL_ERSR_YN, MANP_MNG_NO, YRIDNW, VHCTY_CD, PURPS_CD2, FRST_REG_YMD, VHCL_FBCTN_YMD FROM STD_CEG_CAR_MIG WHERE EXHST_GAS_GRD_CD = 'A0504' OR EXHST_GAS_GRD_CD = 'A05T4';\")\n",
    "car_ch_col = {\n",
    "    'VIN':'차대번호', \n",
    "    'BSPL_STDG_CD':'법정동코드', \n",
    "    'EXHST_GAS_GRD_CD':'배출가스등급', \n",
    "    'EXHST_GAS_CERT_NO':'배출가스인증번호',\n",
    "    'VHCL_ERSR_YN':'차량말소YN',\n",
    "    'MANP_MNG_NO':'제원관리번호', \n",
    "    'YRIDNW':'차량연식', \n",
    "    'VHCTY_CD':'차종', \n",
    "    'PURPS_CD2':'용도', \n",
    "    'FRST_REG_YMD':'최초등록일자',\n",
    "    'VHCL_FBCTN_YMD':'제작일자',\n",
    "}\n",
    "car.info()"
   ]
  },
  {
   "cell_type": "code",
   "execution_count": 8,
   "metadata": {},
   "outputs": [
    {
     "data": {
      "text/plain": [
       "Index(['차대번호', '법정동코드', '배출가스등급', '배출가스인증번호', '차량말소YN', '제원관리번호', '차량연식', '차종',\n",
       "       '용도', '최초등록일자', '제작일자'],\n",
       "      dtype='object')"
      ]
     },
     "execution_count": 8,
     "metadata": {},
     "output_type": "execute_result"
    }
   ],
   "source": [
    "carr = car.rename(columns=car_ch_col)\n",
    "carr.columns"
   ]
  },
  {
   "cell_type": "markdown",
   "metadata": {},
   "source": [
    "## 제원정보(STD_CEG_CAR_SRC_MIG)"
   ]
  },
  {
   "cell_type": "code",
   "execution_count": 9,
   "metadata": {},
   "outputs": [
    {
     "name": "stdout",
     "output_type": "stream",
     "text": [
      "<class 'pandas.core.frame.DataFrame'>\n",
      "RangeIndex: 566615 entries, 0 to 566614\n",
      "Data columns (total 7 columns):\n",
      " #   Column        Non-Null Count   Dtype \n",
      "---  ------        --------------   ----- \n",
      " 0   MANP_MNG_NO   566615 non-null  object\n",
      " 1   FUEL_CD       545937 non-null  object\n",
      " 2   VHCTY_TY_CD2  553038 non-null  object\n",
      " 3   MNFCTR_NM     559794 non-null  object\n",
      " 4   VHCNM         566544 non-null  object\n",
      " 5   VHCL_FRM      536460 non-null  object\n",
      " 6   EGIN_TY       517013 non-null  object\n",
      "dtypes: object(7)\n",
      "memory usage: 30.3+ MB\n"
     ]
    }
   ],
   "source": [
    "# 3.8s\n",
    "src = wd.export_to_pandas(\"SELECT MANP_MNG_NO, FUEL_CD, VHCTY_TY_CD2, MNFCTR_NM, VHCNM, VHCL_FRM, EGIN_TY FROM STD_CEG_CAR_SRC_MIG;\")\n",
    "src_ch_col = {\n",
    "    'MANP_MNG_NO':'제원관리번호', \n",
    "    'FUEL_CD':'연료',\n",
    "    'VHCTY_TY_CD2':'차종유형', \n",
    "    'MNFCTR_NM':'제작사명', \n",
    "    'VHCNM':'차명', \n",
    "    'VHCL_FRM':'자동차형식', \n",
    "    'EGIN_TY':'엔진형식', \n",
    "}\n",
    "src.info()"
   ]
  },
  {
   "cell_type": "code",
   "execution_count": 10,
   "metadata": {},
   "outputs": [
    {
     "data": {
      "text/plain": [
       "Index(['제원관리번호', '연료', '차종유형', '제작사명', '차명', '자동차형식', '엔진형식'], dtype='object')"
      ]
     },
     "execution_count": 10,
     "metadata": {},
     "output_type": "execute_result"
    }
   ],
   "source": [
    "srcr = src.rename(columns=src_ch_col)\n",
    "srcr.columns"
   ]
  },
  {
   "cell_type": "markdown",
   "metadata": {},
   "source": [
    "## 정기검사(STD_TB_JGT_HIS)"
   ]
  },
  {
   "cell_type": "code",
   "execution_count": 11,
   "metadata": {},
   "outputs": [
    {
     "name": "stdout",
     "output_type": "stream",
     "text": [
      "<class 'pandas.core.frame.DataFrame'>\n",
      "RangeIndex: 65903838 entries, 0 to 65903837\n",
      "Data columns (total 11 columns):\n",
      " #   Column                  Dtype  \n",
      "---  ------                  -----  \n",
      " 0   VIN                     object \n",
      " 1   FDRM_INSP_INSP_MTHD_CD  object \n",
      " 2   FDRM_INSP_KND_CD        object \n",
      " 3   FDRM_INSP_JGMT          object \n",
      " 4   FDRM_NLOD_SMO_MSTVL1    float64\n",
      " 5   FDRM_NLOD_SMO_MSTVL2    float64\n",
      " 6   FDRM_NLOD_SMO_MSTVL3    float64\n",
      " 7   FDRM_NLOD_SMO_JT_YN1    object \n",
      " 8   FDRM_INSP_YMD           int64  \n",
      " 9   FDRM_DRVNG_DSTNC        float64\n",
      " 10  FDRM_NLOD_SMO_PRMVL1    float64\n",
      "dtypes: float64(5), int64(1), object(5)\n",
      "memory usage: 5.4+ GB\n"
     ]
    }
   ],
   "source": [
    "# 3m 34.9s\n",
    "jgt = wd.export_to_pandas(\"SELECT VIN, FDRM_INSP_INSP_MTHD_CD, FDRM_INSP_KND_CD, FDRM_INSP_JGMT, FDRM_NLOD_SMO_MSTVL1, FDRM_NLOD_SMO_MSTVL2, FDRM_NLOD_SMO_MSTVL3, FDRM_NLOD_SMO_JT_YN1, FDRM_INSP_YMD, FDRM_DRVNG_DSTNC, FDRM_NLOD_SMO_PRMVL1 FROM STD_TB_JGT_HIS;\")\n",
    "jgt_ch_col = {\n",
    "    'VIN':'차대번호', \n",
    "    'FDRM_INSP_INSP_MTHD_CD':'검사방법', \n",
    "    'FDRM_INSP_KND_CD':'검사종류', \n",
    "    'FDRM_INSP_JGMT':'검사판정', \n",
    "    'FDRM_NLOD_SMO_MSTVL1':'무부하매연측정치1', \n",
    "    'FDRM_NLOD_SMO_MSTVL2':'무부하매연측정치2', \n",
    "    'FDRM_NLOD_SMO_MSTVL3':'무부하매연측정치3', \n",
    "    'FDRM_NLOD_SMO_JT_YN1':'무부하매연판정1', \n",
    "    'FDRM_INSP_YMD':'검사일자',\n",
    "    'FDRM_DRVNG_DSTNC':'주행거리',\n",
    "    'FDRM_NLOD_SMO_PRMVL1':'무부하매연허용치1', \n",
    "}\n",
    "jgt.info()"
   ]
  },
  {
   "cell_type": "code",
   "execution_count": 12,
   "metadata": {},
   "outputs": [
    {
     "data": {
      "text/plain": [
       "Index(['차대번호', '검사방법', '검사종류', '검사판정', '무부하매연측정치1', '무부하매연측정치2', '무부하매연측정치3',\n",
       "       '무부하매연판정1', '검사일자', '주행거리', '무부하매연허용치1'],\n",
       "      dtype='object')"
      ]
     },
     "execution_count": 12,
     "metadata": {},
     "output_type": "execute_result"
    }
   ],
   "source": [
    "jgtr = jgt.rename(columns=jgt_ch_col)\n",
    "jgtr.columns"
   ]
  },
  {
   "cell_type": "markdown",
   "metadata": {},
   "source": [
    "## 정밀검사(STD_TB_EET_HIS_ME)"
   ]
  },
  {
   "cell_type": "code",
   "execution_count": 13,
   "metadata": {},
   "outputs": [
    {
     "name": "stdout",
     "output_type": "stream",
     "text": [
      "<class 'pandas.core.frame.DataFrame'>\n",
      "RangeIndex: 102191938 entries, 0 to 102191937\n",
      "Data columns (total 11 columns):\n",
      " #   Column                 Dtype  \n",
      "---  ------                 -----  \n",
      " 0   VIN                    object \n",
      " 1   PRCINSP_MSRMT_MTHD_CD  object \n",
      " 2   PRCINSP_KND_CD         object \n",
      " 3   PRCINSP_JGMT           object \n",
      " 4   PREC_NLOD_SMO_MSTVL1   float64\n",
      " 5   PREC_NLOD_SMO_MSTVL2   float64\n",
      " 6   PREC_NLOD_SMO_MSTVL3   float64\n",
      " 7   PREC_NLOD_SMO_JT_YN1   object \n",
      " 8   PRCINSP_YMD            int64  \n",
      " 9   PRCINSP_DRVNG_DSTNC    float64\n",
      " 10  PREC_NLOD_SMO_PRMVL1   float64\n",
      "dtypes: float64(5), int64(1), object(5)\n",
      "memory usage: 8.4+ GB\n"
     ]
    }
   ],
   "source": [
    "# 6m 36.1s\n",
    "eet = wd.export_to_pandas(\"SELECT VIN, PRCINSP_MSRMT_MTHD_CD, PRCINSP_KND_CD, PRCINSP_JGMT, PREC_NLOD_SMO_MSTVL1, PREC_NLOD_SMO_MSTVL2, PREC_NLOD_SMO_MSTVL3, PREC_NLOD_SMO_JT_YN1, PRCINSP_YMD, PRCINSP_DRVNG_DSTNC, PREC_NLOD_SMO_PRMVL1 FROM STD_TB_EET_HIS_ME;\")\n",
    "eet_ch_col = {\n",
    "    'VIN':'차대번호', \n",
    "    'PRCINSP_MSRMT_MTHD_CD':'검사방법', \n",
    "    'PRCINSP_KND_CD':'검사종류', \n",
    "    'PRCINSP_JGMT':'검사판정', \n",
    "    'PREC_NLOD_SMO_MSTVL1':'무부하매연측정치1', \n",
    "    'PREC_NLOD_SMO_MSTVL2':'무부하매연측정치2', \n",
    "    'PREC_NLOD_SMO_MSTVL3':'무부하매연측정치3', \n",
    "    'PREC_NLOD_SMO_JT_YN1':'무부하매연판정1', \n",
    "    'PRCINSP_YMD':'검사일자',\n",
    "    'PRCINSP_DRVNG_DSTNC':'주행거리', \n",
    "    'PREC_NLOD_SMO_PRMVL1':'무부하매연허용치1', \n",
    "}\n",
    "eet.info()"
   ]
  },
  {
   "cell_type": "code",
   "execution_count": 14,
   "metadata": {},
   "outputs": [
    {
     "data": {
      "text/plain": [
       "Index(['차대번호', '검사방법', '검사종류', '검사판정', '무부하매연측정치1', '무부하매연측정치2', '무부하매연측정치3',\n",
       "       '무부하매연판정1', '검사일자', '주행거리', '무부하매연허용치1'],\n",
       "      dtype='object')"
      ]
     },
     "execution_count": 14,
     "metadata": {},
     "output_type": "execute_result"
    }
   ],
   "source": [
    "eetr = eet.rename(columns=eet_ch_col)\n",
    "eetr.columns"
   ]
  },
  {
   "cell_type": "markdown",
   "metadata": {},
   "source": [
    "## 법정동코드(STD_BJCD_INFO)"
   ]
  },
  {
   "cell_type": "code",
   "execution_count": 15,
   "metadata": {},
   "outputs": [
    {
     "name": "stdout",
     "output_type": "stream",
     "text": [
      "<class 'pandas.core.frame.DataFrame'>\n",
      "RangeIndex: 47916 entries, 0 to 47915\n",
      "Data columns (total 3 columns):\n",
      " #   Column        Non-Null Count  Dtype \n",
      "---  ------        --------------  ----- \n",
      " 0   STDG_CD       47916 non-null  int64 \n",
      " 1   STDG_CTPV_NM  47916 non-null  object\n",
      " 2   STDG_SGG_NM   47892 non-null  object\n",
      "dtypes: int64(1), object(2)\n",
      "memory usage: 1.1+ MB\n"
     ]
    }
   ],
   "source": [
    "# 1.3s\n",
    "code = wd.export_to_pandas(\"SELECT STDG_CD, STDG_CTPV_NM, STDG_SGG_NM FROM STD_BJCD_INFO;\")\n",
    "code_ch_col = {\n",
    "    'STDG_CD':'법정동코드', \n",
    "    'STDG_CTPV_NM':'시도', \n",
    "    'STDG_SGG_NM':'시군구',  \n",
    "}\n",
    "code.info()"
   ]
  },
  {
   "cell_type": "code",
   "execution_count": 16,
   "metadata": {},
   "outputs": [
    {
     "data": {
      "text/plain": [
       "Index(['법정동코드', '시도', '시군구'], dtype='object')"
      ]
     },
     "execution_count": 16,
     "metadata": {},
     "output_type": "execute_result"
    }
   ],
   "source": [
    "coder = code.rename(columns=code_ch_col)\n",
    "coder.columns"
   ]
  },
  {
   "cell_type": "markdown",
   "metadata": {},
   "source": [
    "## RH에서 제공한 법정동코드"
   ]
  },
  {
   "cell_type": "code",
   "execution_count": 17,
   "metadata": {
    "tags": []
   },
   "outputs": [
    {
     "name": "stdout",
     "output_type": "stream",
     "text": [
      "<class 'pandas.core.frame.DataFrame'>\n",
      "RangeIndex: 3799 entries, 0 to 3798\n",
      "Data columns (total 3 columns):\n",
      " #   Column  Non-Null Count  Dtype \n",
      "---  ------  --------------  ----- \n",
      " 0   법정동코드   3799 non-null   int64 \n",
      " 1   시도      3799 non-null   object\n",
      " 2   시군구     3757 non-null   object\n",
      "dtypes: int64(1), object(2)\n",
      "memory usage: 89.2+ KB\n"
     ]
    }
   ],
   "source": [
    "# 1.3s\n",
    "rh = we.export_to_pandas(\"SELECT DONG_CODE, CTPRVN_NM, SIGNGU_NM FROM STD_BD_TB_MAPDATA;\")\n",
    "rh = rh.rename(columns={'DONG_CODE':'법정동코드', 'CTPRVN_NM':'시도', 'SIGNGU_NM':'시군구'})\n",
    "rh.info()"
   ]
  },
  {
   "cell_type": "markdown",
   "metadata": {},
   "source": [
    "## 4등급 result(for DPF유무)"
   ]
  },
  {
   "cell_type": "code",
   "execution_count": 18,
   "metadata": {
    "tags": []
   },
   "outputs": [
    {
     "name": "stdout",
     "output_type": "stream",
     "text": [
      "<class 'pandas.core.frame.DataFrame'>\n",
      "RangeIndex: 1502235 entries, 0 to 1502234\n",
      "Data columns (total 2 columns):\n",
      " #   Column    Non-Null Count    Dtype \n",
      "---  ------    --------------    ----- \n",
      " 0   차대번호      1502235 non-null  object\n",
      " 1   DPF유무_수정  1153813 non-null  object\n",
      "dtypes: object(2)\n",
      "memory usage: 22.9+ MB\n"
     ]
    }
   ],
   "source": [
    "# 3.3s\n",
    "rs = we.export_to_pandas(\"SELECT 차대번호, DPF유무_수정 FROM STD_BD_GRD4_RESULT;\")\n",
    "rs.info()"
   ]
  },
  {
   "cell_type": "markdown",
   "metadata": {},
   "source": [
    "# 전처리"
   ]
  },
  {
   "cell_type": "markdown",
   "metadata": {},
   "source": [
    "## 중복 차대번호 제거"
   ]
  },
  {
   "cell_type": "code",
   "execution_count": 19,
   "metadata": {},
   "outputs": [
    {
     "data": {
      "text/plain": [
       "((1906876, 11), 1906823)"
      ]
     },
     "execution_count": 19,
     "metadata": {},
     "output_type": "execute_result"
    }
   ],
   "source": [
    "carr.shape, len(carr['차대번호'].unique())"
   ]
  },
  {
   "cell_type": "code",
   "execution_count": 20,
   "metadata": {},
   "outputs": [
    {
     "data": {
      "text/plain": [
       "(1906823, 11)"
      ]
     },
     "execution_count": 20,
     "metadata": {},
     "output_type": "execute_result"
    }
   ],
   "source": [
    "carr = carr.sort_values('최초등록일자', ascending=False).drop_duplicates('차대번호').reset_index(drop=True)\n",
    "carr.shape"
   ]
  },
  {
   "cell_type": "markdown",
   "metadata": {},
   "source": [
    "## 배출가스등급 코드 변환"
   ]
  },
  {
   "cell_type": "code",
   "execution_count": 21,
   "metadata": {},
   "outputs": [
    {
     "data": {
      "text/plain": [
       "array(['4'], dtype=object)"
      ]
     },
     "execution_count": 21,
     "metadata": {},
     "output_type": "execute_result"
    }
   ],
   "source": [
    "grd_dict = {\n",
    "    'A0501':'1', \n",
    "    'A0502':'2', \n",
    "    'A0503':'3', \n",
    "    'A0504':'4', \n",
    "    'A0505':'5', \n",
    "    'A05T2':'2',\n",
    "    'A05T3':'3', \n",
    "    'A05T4':'4', \n",
    "    'A05T5':'5', \n",
    "    'A05X':'X', \n",
    "}\n",
    "carr['배출가스등급'] = carr['배출가스등급'].replace(grd_dict)\n",
    "carr['배출가스등급'].unique()"
   ]
  },
  {
   "cell_type": "markdown",
   "metadata": {},
   "source": [
    "## 차종 코드 변환"
   ]
  },
  {
   "cell_type": "code",
   "execution_count": 22,
   "metadata": {},
   "outputs": [
    {
     "data": {
      "text/plain": [
       "array(['승용', '화물', '승합', '특수'], dtype=object)"
      ]
     },
     "execution_count": 22,
     "metadata": {},
     "output_type": "execute_result"
    }
   ],
   "source": [
    "cd_dict = {\n",
    "    'A31M':'이륜', \n",
    "    'A31P':'승용', \n",
    "    'A31S':'특수', \n",
    "    'A31T':'화물', \n",
    "    'A31V':'승합'\n",
    "}\n",
    "carr['차종'] = carr['차종'].replace(cd_dict)\n",
    "carr['차종'].unique()"
   ]
  },
  {
   "cell_type": "markdown",
   "metadata": {},
   "source": [
    "## 용도 코드 변환"
   ]
  },
  {
   "cell_type": "code",
   "execution_count": 23,
   "metadata": {},
   "outputs": [
    {
     "data": {
      "text/plain": [
       "array(['개인용', '영업용', '관용'], dtype=object)"
      ]
     },
     "execution_count": 23,
     "metadata": {},
     "output_type": "execute_result"
    }
   ],
   "source": [
    "purps_dict = {\n",
    "    'A08P':'개인용', \n",
    "    'A08B':'영업용', \n",
    "    'A08O':'관용',\n",
    "}\n",
    "carr['용도'] = carr['용도'].replace(purps_dict)\n",
    "carr['용도'].unique()"
   ]
  },
  {
   "cell_type": "markdown",
   "metadata": {},
   "source": [
    "## 등록정보 말소 제거"
   ]
  },
  {
   "cell_type": "code",
   "execution_count": 24,
   "metadata": {},
   "outputs": [
    {
     "data": {
      "text/plain": [
       "(1390280, 11)"
      ]
     },
     "execution_count": 24,
     "metadata": {},
     "output_type": "execute_result"
    }
   ],
   "source": [
    "carn = carr[carr['차량말소YN'] == 'N'].reset_index(drop=True)\n",
    "carn.shape"
   ]
  },
  {
   "cell_type": "markdown",
   "metadata": {},
   "source": [
    "## 연료 코드 변환"
   ]
  },
  {
   "cell_type": "code",
   "execution_count": 25,
   "metadata": {},
   "outputs": [
    {
     "data": {
      "text/plain": [
       "array(['휘발유', '경유', '기타연료', 'LPG(액화석유가스)', nan, '휘발유 하이브리드',\n",
       "       'CNG(압축천연가스)', '알코올', '등유', '태양열', '경유 하이브리드', '전기', 'LPG 하이브리드',\n",
       "       '수소', 'LNG(액화천연가스)', 'CNG 하이브리드'], dtype=object)"
      ]
     },
     "execution_count": 25,
     "metadata": {},
     "output_type": "execute_result"
    }
   ],
   "source": [
    "fuel_dict = {\n",
    "    'A90GS':'휘발유', \n",
    "    'A91DS':'경유',\n",
    "    'A92LP':'LPG(액화석유가스)', \n",
    "    'A90GH':'휘발유 하이브리드', \n",
    "    'A93EV':'전기', \n",
    "    'A91DH':'경유 하이브리드', \n",
    "    'A92CN':'CNG(압축천연가스)', \n",
    "    'A93HD':'수소', \n",
    "    'A92LH':'LPG 하이브리드', \n",
    "    'A94OT':'기타연료', \n",
    "    'A92CH':'CNG 하이브리드',\n",
    "    'A90AC':'알코올', \n",
    "    'A93SH':'태양열', \n",
    "    'A91KS':'등유', \n",
    "    'A92LN':'LNG(액화천연가스)', \n",
    "    'A90PH':'플러그인 하이브리드', \n",
    "}\n",
    "srcr['연료'] = srcr['연료'].replace(fuel_dict)\n",
    "srcr['연료'].unique()"
   ]
  },
  {
   "cell_type": "markdown",
   "metadata": {},
   "source": [
    "## 차종유형 코드 변환"
   ]
  },
  {
   "cell_type": "code",
   "execution_count": 26,
   "metadata": {},
   "outputs": [
    {
     "data": {
      "text/plain": [
       "array(['대형', '중형', '소형', '경형', nan], dtype=object)"
      ]
     },
     "execution_count": 26,
     "metadata": {},
     "output_type": "execute_result"
    }
   ],
   "source": [
    "ty_dict = {\n",
    "    'A30C':'경형', \n",
    "    'A30L':'대형', \n",
    "    'A30M':'중형', \n",
    "    'A30S':'소형',\n",
    "}\n",
    "srcr['차종유형'] = srcr['차종유형'].replace(ty_dict)\n",
    "srcr['차종유형'].unique()"
   ]
  },
  {
   "cell_type": "markdown",
   "metadata": {},
   "source": [
    "## 등록&제원 병합"
   ]
  },
  {
   "cell_type": "code",
   "execution_count": 27,
   "metadata": {},
   "outputs": [
    {
     "data": {
      "text/plain": [
       "(1390280, 17)"
      ]
     },
     "execution_count": 27,
     "metadata": {},
     "output_type": "execute_result"
    }
   ],
   "source": [
    "# 0.7s\n",
    "cs = carn.merge(srcr, on='제원관리번호', how='left')\n",
    "cs.shape"
   ]
  },
  {
   "cell_type": "code",
   "execution_count": 28,
   "metadata": {},
   "outputs": [
    {
     "data": {
      "text/html": [
       "<div>\n",
       "<style scoped>\n",
       "    .dataframe tbody tr th:only-of-type {\n",
       "        vertical-align: middle;\n",
       "    }\n",
       "\n",
       "    .dataframe tbody tr th {\n",
       "        vertical-align: top;\n",
       "    }\n",
       "\n",
       "    .dataframe thead th {\n",
       "        text-align: right;\n",
       "    }\n",
       "</style>\n",
       "<table border=\"1\" class=\"dataframe\">\n",
       "  <thead>\n",
       "    <tr style=\"text-align: right;\">\n",
       "      <th></th>\n",
       "      <th>차대번호</th>\n",
       "      <th>법정동코드</th>\n",
       "      <th>배출가스등급</th>\n",
       "      <th>배출가스인증번호</th>\n",
       "      <th>차량말소YN</th>\n",
       "      <th>제원관리번호</th>\n",
       "      <th>차량연식</th>\n",
       "      <th>차종</th>\n",
       "      <th>용도</th>\n",
       "      <th>최초등록일자</th>\n",
       "      <th>제작일자</th>\n",
       "      <th>연료</th>\n",
       "      <th>차종유형</th>\n",
       "      <th>제작사명</th>\n",
       "      <th>차명</th>\n",
       "      <th>자동차형식</th>\n",
       "      <th>엔진형식</th>\n",
       "    </tr>\n",
       "  </thead>\n",
       "  <tbody>\n",
       "    <tr>\n",
       "      <th>0</th>\n",
       "      <td>KMFZSX7JABU684137</td>\n",
       "      <td>4374025000</td>\n",
       "      <td>4</td>\n",
       "      <td>NaN</td>\n",
       "      <td>N</td>\n",
       "      <td>A0810006209153110</td>\n",
       "      <td>2011</td>\n",
       "      <td>화물</td>\n",
       "      <td>개인용</td>\n",
       "      <td>20220923.00</td>\n",
       "      <td>20101022.00</td>\n",
       "      <td>경유</td>\n",
       "      <td>소형</td>\n",
       "      <td>현대자동차(주)</td>\n",
       "      <td>포터Ⅱ(PORTERⅡ)</td>\n",
       "      <td>HRTJA-DX-B</td>\n",
       "      <td>D4CB</td>\n",
       "    </tr>\n",
       "    <tr>\n",
       "      <th>1</th>\n",
       "      <td>KNCSE06428K344169</td>\n",
       "      <td>4374025000</td>\n",
       "      <td>4</td>\n",
       "      <td>NaN</td>\n",
       "      <td>N</td>\n",
       "      <td>A0110003113533107</td>\n",
       "      <td>2008</td>\n",
       "      <td>화물</td>\n",
       "      <td>개인용</td>\n",
       "      <td>20220923.00</td>\n",
       "      <td>20080721.00</td>\n",
       "      <td>경유</td>\n",
       "      <td>소형</td>\n",
       "      <td>기아자동차(주)</td>\n",
       "      <td>봉고Ⅲ 1톤</td>\n",
       "      <td>SEE42J-A</td>\n",
       "      <td>J3</td>\n",
       "    </tr>\n",
       "    <tr>\n",
       "      <th>2</th>\n",
       "      <td>KMCGK17HP9C112030</td>\n",
       "      <td>4518010400</td>\n",
       "      <td>4</td>\n",
       "      <td>7MY-HD-24-28</td>\n",
       "      <td>N</td>\n",
       "      <td>A0810005008143209</td>\n",
       "      <td>2009</td>\n",
       "      <td>화물</td>\n",
       "      <td>개인용</td>\n",
       "      <td>20220407.00</td>\n",
       "      <td>20090316.00</td>\n",
       "      <td>경유</td>\n",
       "      <td>중형</td>\n",
       "      <td>현대자동차(주)</td>\n",
       "      <td>마이티군물자수송트럭</td>\n",
       "      <td>HD25-9MT0-LHFbF</td>\n",
       "      <td>D4GA</td>\n",
       "    </tr>\n",
       "    <tr>\n",
       "      <th>3</th>\n",
       "      <td>KNCSE01429K388374</td>\n",
       "      <td>2771026522</td>\n",
       "      <td>4</td>\n",
       "      <td>7MY-KM-14-65</td>\n",
       "      <td>N</td>\n",
       "      <td>A0110003115353108</td>\n",
       "      <td>2009</td>\n",
       "      <td>화물</td>\n",
       "      <td>개인용</td>\n",
       "      <td>20210909.00</td>\n",
       "      <td>20090312.00</td>\n",
       "      <td>경유</td>\n",
       "      <td>소형</td>\n",
       "      <td>기아자동차(주)</td>\n",
       "      <td>봉고Ⅲ 1톤</td>\n",
       "      <td>SET42K-A</td>\n",
       "      <td>J3</td>\n",
       "    </tr>\n",
       "    <tr>\n",
       "      <th>4</th>\n",
       "      <td>KNFSE0A439K387582</td>\n",
       "      <td>3020011900</td>\n",
       "      <td>4</td>\n",
       "      <td>7MY-KM-14-65</td>\n",
       "      <td>N</td>\n",
       "      <td>A0110003116073108</td>\n",
       "      <td>2009</td>\n",
       "      <td>화물</td>\n",
       "      <td>개인용</td>\n",
       "      <td>20210902.00</td>\n",
       "      <td>20090320.00</td>\n",
       "      <td>경유</td>\n",
       "      <td>소형</td>\n",
       "      <td>기아자동차(주)</td>\n",
       "      <td>봉고Ⅲ 냉동차</td>\n",
       "      <td>SEL43K-RTSS</td>\n",
       "      <td>J3</td>\n",
       "    </tr>\n",
       "  </tbody>\n",
       "</table>\n",
       "</div>"
      ],
      "text/plain": [
       "                차대번호       법정동코드 배출가스등급      배출가스인증번호 차량말소YN   \n",
       "0  KMFZSX7JABU684137  4374025000      4           NaN      N  \\\n",
       "1  KNCSE06428K344169  4374025000      4           NaN      N   \n",
       "2  KMCGK17HP9C112030  4518010400      4  7MY-HD-24-28      N   \n",
       "3  KNCSE01429K388374  2771026522      4  7MY-KM-14-65      N   \n",
       "4  KNFSE0A439K387582  3020011900      4  7MY-KM-14-65      N   \n",
       "\n",
       "              제원관리번호  차량연식  차종   용도      최초등록일자        제작일자  연료 차종유형   \n",
       "0  A0810006209153110  2011  화물  개인용 20220923.00 20101022.00  경유   소형  \\\n",
       "1  A0110003113533107  2008  화물  개인용 20220923.00 20080721.00  경유   소형   \n",
       "2  A0810005008143209  2009  화물  개인용 20220407.00 20090316.00  경유   중형   \n",
       "3  A0110003115353108  2009  화물  개인용 20210909.00 20090312.00  경유   소형   \n",
       "4  A0110003116073108  2009  화물  개인용 20210902.00 20090320.00  경유   소형   \n",
       "\n",
       "       제작사명            차명            자동차형식  엔진형식  \n",
       "0  현대자동차(주)  포터Ⅱ(PORTERⅡ)       HRTJA-DX-B  D4CB  \n",
       "1  기아자동차(주)        봉고Ⅲ 1톤         SEE42J-A    J3  \n",
       "2  현대자동차(주)    마이티군물자수송트럭  HD25-9MT0-LHFbF  D4GA  \n",
       "3  기아자동차(주)        봉고Ⅲ 1톤         SET42K-A    J3  \n",
       "4  기아자동차(주)       봉고Ⅲ 냉동차      SEL43K-RTSS    J3  "
      ]
     },
     "execution_count": 28,
     "metadata": {},
     "output_type": "execute_result"
    }
   ],
   "source": [
    "cs.head()"
   ]
  },
  {
   "cell_type": "markdown",
   "metadata": {},
   "source": [
    "## 정기&정밀 병합"
   ]
  },
  {
   "cell_type": "code",
   "execution_count": 29,
   "metadata": {},
   "outputs": [
    {
     "data": {
      "text/plain": [
       "Index(['차대번호', '검사방법', '검사종류', '검사판정', '무부하매연측정치1', '무부하매연측정치2', '무부하매연측정치3',\n",
       "       '무부하매연판정1', '검사일자', '주행거리', '무부하매연허용치1'],\n",
       "      dtype='object')"
      ]
     },
     "execution_count": 29,
     "metadata": {},
     "output_type": "execute_result"
    }
   ],
   "source": [
    "jgtr.columns"
   ]
  },
  {
   "cell_type": "code",
   "execution_count": 30,
   "metadata": {},
   "outputs": [
    {
     "data": {
      "text/plain": [
       "Index(['차대번호', '검사방법', '검사종류', '검사판정', '무부하매연측정치1', '무부하매연측정치2', '무부하매연측정치3',\n",
       "       '무부하매연판정1', '검사일자', '주행거리', '무부하매연허용치1'],\n",
       "      dtype='object')"
      ]
     },
     "execution_count": 30,
     "metadata": {},
     "output_type": "execute_result"
    }
   ],
   "source": [
    "eetr.columns"
   ]
  },
  {
   "cell_type": "code",
   "execution_count": 31,
   "metadata": {},
   "outputs": [],
   "source": [
    "jgtr['정기정밀'] = '정기'\n",
    "eetr['정기정밀'] = '정밀'"
   ]
  },
  {
   "cell_type": "code",
   "execution_count": 32,
   "metadata": {},
   "outputs": [
    {
     "data": {
      "text/plain": [
       "(168095776, 12)"
      ]
     },
     "execution_count": 32,
     "metadata": {},
     "output_type": "execute_result"
    }
   ],
   "source": [
    "# 39.6s\n",
    "ins = pd.concat([jgtr, eetr], ignore_index=True)\n",
    "ins.shape"
   ]
  },
  {
   "cell_type": "markdown",
   "metadata": {},
   "source": [
    "### 최근 검사만 활용"
   ]
  },
  {
   "cell_type": "code",
   "execution_count": 33,
   "metadata": {},
   "outputs": [
    {
     "data": {
      "text/plain": [
       "(34641431, 12)"
      ]
     },
     "execution_count": 33,
     "metadata": {},
     "output_type": "execute_result"
    }
   ],
   "source": [
    "# 4m 14.3s\n",
    "insm = ins.sort_values('검사일자', ascending=False).drop_duplicates('차대번호').reset_index(drop=True)\n",
    "insm.shape"
   ]
  },
  {
   "cell_type": "markdown",
   "metadata": {},
   "source": [
    "## 검사종류 코드 변환"
   ]
  },
  {
   "cell_type": "code",
   "execution_count": 34,
   "metadata": {},
   "outputs": [
    {
     "data": {
      "text/plain": [
       "array(['종합검사(경과)', '종합검사', '2부재검사(종합)', '1부재검사(종합)', '정기검사', '재검사(1부재검사)',\n",
       "       '재검사(2부재검사)', '정기(경과)검사', nan, '배출재검사(구변)', '구조변경검사',\n",
       "       '종합(정밀) 1부재검사', '종합(정밀) 2부재검사', '종합(정밀)', '종합(경과:정밀)', '정밀검사',\n",
       "       'A21C01', '특정재검사(배출)', '임시검사', '배출재검사', '관능재검사', '특정재검사(관능)',\n",
       "       '특정검사', '특정검사(경과)', '정밀검사(경과)', 'A21R03', 'A21R05', 'A21R06',\n",
       "       '관능재검사(임시)', 'A21E03'], dtype=object)"
      ]
     },
     "execution_count": 34,
     "metadata": {},
     "output_type": "execute_result"
    }
   ],
   "source": [
    "# 27.5s\n",
    "knd_dict = {\n",
    "    'A21P01':'정밀검사', \n",
    "    'A1904':'정기검사', \n",
    "    'A21T06':'종합검사(경과)', \n",
    "    'A21T05':'종합검사', \n",
    "    'A21S01':'특정검사', \n",
    "    'A1902':'재검사(2부재검사)',\n",
    "    'A21R02':'2부재검사(종합)', \n",
    "    'A21P02':'정밀검사(경과)', \n",
    "    'A1903':'정기(경과)검사', \n",
    "    'A21S04':'특정재검사(배출)', \n",
    "    'A21E01':'배출재검사', \n",
    "    'A21R01':'1부재검사(종합)',\n",
    "    'A21C02':'구조변경검사', \n",
    "    'A21002':'관능재검사(임시)', \n",
    "    'A21S03':'특정재검사(관능)', \n",
    "    'A21S02':'특정검사(경과)', \n",
    "    'A1901':'재검사(1부재검사)', \n",
    "    'A21T02':'종합(정밀)',\n",
    "    'A21E02':'배출재검사(구변)', \n",
    "    'A21T01':'종합(경과:정밀)', \n",
    "    'A21T04':'종합(정밀) 2부재검사', \n",
    "    'A21001':'관능재검사', \n",
    "    'A21T03':'종합(정밀) 1부재검사', \n",
    "    'A21TMP':'임시검사', \n",
    "}\n",
    "insm['검사종류'] = insm['검사종류'].replace(knd_dict)\n",
    "insm['검사종류'].unique()"
   ]
  },
  {
   "cell_type": "markdown",
   "metadata": {},
   "source": [
    "## 검사방법 코드 변환"
   ]
  },
  {
   "cell_type": "code",
   "execution_count": 35,
   "metadata": {},
   "outputs": [
    {
     "data": {
      "text/plain": [
       "array(['부하검사(KD-147)', '무부하검사(급가속)', '부하검사(ASM-Idling)', '부하검사(LUG DOWN)',\n",
       "       '무부하검사(TSI)', '무부하검사(정지가동)', '부하검사(ASM2525)'], dtype=object)"
      ]
     },
     "execution_count": 35,
     "metadata": {},
     "output_type": "execute_result"
    }
   ],
   "source": [
    "# 14.9s\n",
    "mth_dict = {\n",
    "    'A18A':'무부하검사(TSI)', \n",
    "    'A18B':'무부하검사(급가속)', \n",
    "    'A18C':'무부하검사(정지가동)',\n",
    "    'A2301':'무부하검사(급가속)', \n",
    "    'A2302':'무부하검사(정지가동)',\n",
    "    'A2303':'무부하검사(TSI)', \n",
    "    'A2304':'부하검사(LUG DOWN)', \n",
    "    'A2305':'부하검사(ASM-Idling)', \n",
    "    'A2306':'부하검사(KD-147)', \n",
    "    'A2307':'부하검사(ASM2525)', \n",
    "}\n",
    "insm['검사방법'] = insm['검사방법'].replace(mth_dict)\n",
    "insm['검사방법'].unique()"
   ]
  },
  {
   "cell_type": "markdown",
   "metadata": {},
   "source": [
    "## 등록&제원&정기&정밀 병합"
   ]
  },
  {
   "cell_type": "code",
   "execution_count": 36,
   "metadata": {},
   "outputs": [
    {
     "data": {
      "text/plain": [
       "(1390280, 28)"
      ]
     },
     "execution_count": 36,
     "metadata": {},
     "output_type": "execute_result"
    }
   ],
   "source": [
    "# 51.4s\n",
    "csi = cs.merge(insm, on='차대번호', how='left')\n",
    "csi.shape"
   ]
  },
  {
   "cell_type": "code",
   "execution_count": 37,
   "metadata": {},
   "outputs": [
    {
     "data": {
      "text/plain": [
       "Index(['차대번호', '법정동코드', '배출가스등급', '배출가스인증번호', '차량말소YN', '제원관리번호', '차량연식', '차종',\n",
       "       '용도', '최초등록일자', '제작일자', '연료', '차종유형', '제작사명', '차명', '자동차형식', '엔진형식',\n",
       "       '검사방법', '검사종류', '검사판정', '무부하매연측정치1', '무부하매연측정치2', '무부하매연측정치3',\n",
       "       '무부하매연판정1', '검사일자', '주행거리', '무부하매연허용치1', '정기정밀'],\n",
       "      dtype='object')"
      ]
     },
     "execution_count": 37,
     "metadata": {},
     "output_type": "execute_result"
    }
   ],
   "source": [
    "csi.columns"
   ]
  },
  {
   "cell_type": "code",
   "execution_count": 38,
   "metadata": {},
   "outputs": [
    {
     "data": {
      "text/html": [
       "<div>\n",
       "<style scoped>\n",
       "    .dataframe tbody tr th:only-of-type {\n",
       "        vertical-align: middle;\n",
       "    }\n",
       "\n",
       "    .dataframe tbody tr th {\n",
       "        vertical-align: top;\n",
       "    }\n",
       "\n",
       "    .dataframe thead th {\n",
       "        text-align: right;\n",
       "    }\n",
       "</style>\n",
       "<table border=\"1\" class=\"dataframe\">\n",
       "  <thead>\n",
       "    <tr style=\"text-align: right;\">\n",
       "      <th></th>\n",
       "      <th>차대번호</th>\n",
       "      <th>법정동코드</th>\n",
       "      <th>배출가스등급</th>\n",
       "      <th>배출가스인증번호</th>\n",
       "      <th>차량말소YN</th>\n",
       "      <th>제원관리번호</th>\n",
       "      <th>차량연식</th>\n",
       "      <th>차종</th>\n",
       "      <th>용도</th>\n",
       "      <th>최초등록일자</th>\n",
       "      <th>...</th>\n",
       "      <th>검사종류</th>\n",
       "      <th>검사판정</th>\n",
       "      <th>무부하매연측정치1</th>\n",
       "      <th>무부하매연측정치2</th>\n",
       "      <th>무부하매연측정치3</th>\n",
       "      <th>무부하매연판정1</th>\n",
       "      <th>검사일자</th>\n",
       "      <th>주행거리</th>\n",
       "      <th>무부하매연허용치1</th>\n",
       "      <th>정기정밀</th>\n",
       "    </tr>\n",
       "  </thead>\n",
       "  <tbody>\n",
       "    <tr>\n",
       "      <th>0</th>\n",
       "      <td>KMFZSX7JABU684137</td>\n",
       "      <td>4374025000</td>\n",
       "      <td>4</td>\n",
       "      <td>NaN</td>\n",
       "      <td>N</td>\n",
       "      <td>A0810006209153110</td>\n",
       "      <td>2011</td>\n",
       "      <td>화물</td>\n",
       "      <td>개인용</td>\n",
       "      <td>20220923.00</td>\n",
       "      <td>...</td>\n",
       "      <td>정기검사</td>\n",
       "      <td>Y</td>\n",
       "      <td>16.00</td>\n",
       "      <td>NaN</td>\n",
       "      <td>NaN</td>\n",
       "      <td>Y</td>\n",
       "      <td>20230623.00</td>\n",
       "      <td>223409.00</td>\n",
       "      <td>20.00</td>\n",
       "      <td>정기</td>\n",
       "    </tr>\n",
       "    <tr>\n",
       "      <th>1</th>\n",
       "      <td>KNCSE06428K344169</td>\n",
       "      <td>4374025000</td>\n",
       "      <td>4</td>\n",
       "      <td>NaN</td>\n",
       "      <td>N</td>\n",
       "      <td>A0110003113533107</td>\n",
       "      <td>2008</td>\n",
       "      <td>화물</td>\n",
       "      <td>개인용</td>\n",
       "      <td>20220923.00</td>\n",
       "      <td>...</td>\n",
       "      <td>NaN</td>\n",
       "      <td>NaN</td>\n",
       "      <td>NaN</td>\n",
       "      <td>NaN</td>\n",
       "      <td>NaN</td>\n",
       "      <td>NaN</td>\n",
       "      <td>NaN</td>\n",
       "      <td>NaN</td>\n",
       "      <td>NaN</td>\n",
       "      <td>NaN</td>\n",
       "    </tr>\n",
       "    <tr>\n",
       "      <th>2</th>\n",
       "      <td>KMCGK17HP9C112030</td>\n",
       "      <td>4518010400</td>\n",
       "      <td>4</td>\n",
       "      <td>7MY-HD-24-28</td>\n",
       "      <td>N</td>\n",
       "      <td>A0810005008143209</td>\n",
       "      <td>2009</td>\n",
       "      <td>화물</td>\n",
       "      <td>개인용</td>\n",
       "      <td>20220407.00</td>\n",
       "      <td>...</td>\n",
       "      <td>정기(경과)검사</td>\n",
       "      <td>Y</td>\n",
       "      <td>5.00</td>\n",
       "      <td>NaN</td>\n",
       "      <td>NaN</td>\n",
       "      <td>Y</td>\n",
       "      <td>20230523.00</td>\n",
       "      <td>79425.00</td>\n",
       "      <td>20.00</td>\n",
       "      <td>정기</td>\n",
       "    </tr>\n",
       "    <tr>\n",
       "      <th>3</th>\n",
       "      <td>KNCSE01429K388374</td>\n",
       "      <td>2771026522</td>\n",
       "      <td>4</td>\n",
       "      <td>7MY-KM-14-65</td>\n",
       "      <td>N</td>\n",
       "      <td>A0110003115353108</td>\n",
       "      <td>2009</td>\n",
       "      <td>화물</td>\n",
       "      <td>개인용</td>\n",
       "      <td>20210909.00</td>\n",
       "      <td>...</td>\n",
       "      <td>2부재검사(종합)</td>\n",
       "      <td>Y</td>\n",
       "      <td>14.00</td>\n",
       "      <td>NaN</td>\n",
       "      <td>NaN</td>\n",
       "      <td>Y</td>\n",
       "      <td>20220810.00</td>\n",
       "      <td>50589.00</td>\n",
       "      <td>15.00</td>\n",
       "      <td>정밀</td>\n",
       "    </tr>\n",
       "    <tr>\n",
       "      <th>4</th>\n",
       "      <td>KNFSE0A439K387582</td>\n",
       "      <td>3020011900</td>\n",
       "      <td>4</td>\n",
       "      <td>7MY-KM-14-65</td>\n",
       "      <td>N</td>\n",
       "      <td>A0110003116073108</td>\n",
       "      <td>2009</td>\n",
       "      <td>화물</td>\n",
       "      <td>개인용</td>\n",
       "      <td>20210902.00</td>\n",
       "      <td>...</td>\n",
       "      <td>종합검사</td>\n",
       "      <td>Y</td>\n",
       "      <td>0.00</td>\n",
       "      <td>NaN</td>\n",
       "      <td>NaN</td>\n",
       "      <td>Y</td>\n",
       "      <td>20220831.00</td>\n",
       "      <td>151328.00</td>\n",
       "      <td>15.00</td>\n",
       "      <td>정밀</td>\n",
       "    </tr>\n",
       "  </tbody>\n",
       "</table>\n",
       "<p>5 rows × 28 columns</p>\n",
       "</div>"
      ],
      "text/plain": [
       "                차대번호       법정동코드 배출가스등급      배출가스인증번호 차량말소YN   \n",
       "0  KMFZSX7JABU684137  4374025000      4           NaN      N  \\\n",
       "1  KNCSE06428K344169  4374025000      4           NaN      N   \n",
       "2  KMCGK17HP9C112030  4518010400      4  7MY-HD-24-28      N   \n",
       "3  KNCSE01429K388374  2771026522      4  7MY-KM-14-65      N   \n",
       "4  KNFSE0A439K387582  3020011900      4  7MY-KM-14-65      N   \n",
       "\n",
       "              제원관리번호  차량연식  차종   용도      최초등록일자  ...       검사종류 검사판정   \n",
       "0  A0810006209153110  2011  화물  개인용 20220923.00  ...       정기검사    Y  \\\n",
       "1  A0110003113533107  2008  화물  개인용 20220923.00  ...        NaN  NaN   \n",
       "2  A0810005008143209  2009  화물  개인용 20220407.00  ...   정기(경과)검사    Y   \n",
       "3  A0110003115353108  2009  화물  개인용 20210909.00  ...  2부재검사(종합)    Y   \n",
       "4  A0110003116073108  2009  화물  개인용 20210902.00  ...       종합검사    Y   \n",
       "\n",
       "  무부하매연측정치1 무부하매연측정치2 무부하매연측정치3 무부하매연판정1        검사일자      주행거리 무부하매연허용치1 정기정밀  \n",
       "0     16.00       NaN       NaN        Y 20230623.00 223409.00     20.00   정기  \n",
       "1       NaN       NaN       NaN      NaN         NaN       NaN       NaN  NaN  \n",
       "2      5.00       NaN       NaN        Y 20230523.00  79425.00     20.00   정기  \n",
       "3     14.00       NaN       NaN        Y 20220810.00  50589.00     15.00   정밀  \n",
       "4      0.00       NaN       NaN        Y 20220831.00 151328.00     15.00   정밀  \n",
       "\n",
       "[5 rows x 28 columns]"
      ]
     },
     "execution_count": 38,
     "metadata": {},
     "output_type": "execute_result"
    }
   ],
   "source": [
    "csi.head()"
   ]
  },
  {
   "cell_type": "markdown",
   "metadata": {},
   "source": [
    "## 등록&제원&정기&정밀&법정동코드 병합"
   ]
  },
  {
   "cell_type": "code",
   "execution_count": 39,
   "metadata": {},
   "outputs": [
    {
     "data": {
      "text/plain": [
       "(1390280, 28)"
      ]
     },
     "execution_count": 39,
     "metadata": {},
     "output_type": "execute_result"
    }
   ],
   "source": [
    "csi.shape"
   ]
  },
  {
   "cell_type": "code",
   "execution_count": 40,
   "metadata": {},
   "outputs": [
    {
     "data": {
      "text/plain": [
       "0"
      ]
     },
     "execution_count": 40,
     "metadata": {},
     "output_type": "execute_result"
    }
   ],
   "source": [
    "csi['법정동코드'].isnull().sum()"
   ]
  },
  {
   "cell_type": "code",
   "execution_count": 41,
   "metadata": {},
   "outputs": [],
   "source": [
    "csi['법정동코드'] = csi['법정동코드'].astype('str')\n",
    "csi['법정동코드'] = csi['법정동코드'].str[:5] + '00000'\n",
    "csi['법정동코드'] = pd.to_numeric(csi['법정동코드'])"
   ]
  },
  {
   "cell_type": "code",
   "execution_count": 42,
   "metadata": {},
   "outputs": [],
   "source": [
    "df = csi.merge(coder, on='법정동코드', how='left')"
   ]
  },
  {
   "cell_type": "code",
   "execution_count": 43,
   "metadata": {},
   "outputs": [
    {
     "data": {
      "text/plain": [
       "0"
      ]
     },
     "execution_count": 43,
     "metadata": {},
     "output_type": "execute_result"
    }
   ],
   "source": [
    "df['시도'].isnull().sum()"
   ]
  },
  {
   "cell_type": "markdown",
   "metadata": {},
   "source": [
    "## rh 법정동코드 참고하여 법정동코드 수정"
   ]
  },
  {
   "cell_type": "code",
   "execution_count": 44,
   "metadata": {},
   "outputs": [],
   "source": [
    "df['법정동코드_수정'] = df['법정동코드'].copy()"
   ]
  },
  {
   "cell_type": "markdown",
   "metadata": {},
   "source": [
    "## 4등급 result 파일 참고하여 DPF유무 수정"
   ]
  },
  {
   "cell_type": "code",
   "execution_count": 45,
   "metadata": {},
   "outputs": [],
   "source": [
    "rdf = df.copy()"
   ]
  },
  {
   "cell_type": "code",
   "execution_count": 46,
   "metadata": {},
   "outputs": [
    {
     "data": {
      "text/plain": [
       "2092"
      ]
     },
     "execution_count": 46,
     "metadata": {},
     "output_type": "execute_result"
    }
   ],
   "source": [
    "len(set(rdf['차대번호'].unique()) - set(rs['차대번호'].unique()))"
   ]
  },
  {
   "cell_type": "code",
   "execution_count": 47,
   "metadata": {},
   "outputs": [
    {
     "data": {
      "text/plain": [
       "DPF유무_수정\n",
       "무       879481\n",
       "NaN     348422\n",
       "유       261897\n",
       "확인불가     12435\n",
       "Name: count, dtype: int64"
      ]
     },
     "execution_count": 47,
     "metadata": {},
     "output_type": "execute_result"
    }
   ],
   "source": [
    "rs['DPF유무_수정'].value_counts(dropna=False)"
   ]
  },
  {
   "cell_type": "code",
   "execution_count": 48,
   "metadata": {},
   "outputs": [
    {
     "data": {
      "text/plain": [
       "(1502213, 2)"
      ]
     },
     "execution_count": 48,
     "metadata": {},
     "output_type": "execute_result"
    }
   ],
   "source": [
    "rs = rs.drop_duplicates('차대번호').reset_index(drop=True)\n",
    "rs.shape"
   ]
  },
  {
   "cell_type": "code",
   "execution_count": 49,
   "metadata": {},
   "outputs": [],
   "source": [
    "rdf1 = rdf.merge(rs, on='차대번호', how='left')"
   ]
  },
  {
   "cell_type": "code",
   "execution_count": 50,
   "metadata": {},
   "outputs": [
    {
     "data": {
      "text/plain": [
       "DPF유무_수정\n",
       "무       806991\n",
       "NaN     337658\n",
       "유       234291\n",
       "확인불가     11340\n",
       "Name: count, dtype: int64"
      ]
     },
     "execution_count": 50,
     "metadata": {},
     "output_type": "execute_result"
    }
   ],
   "source": [
    "rdf1['DPF유무_수정'].value_counts(dropna=False)"
   ]
  },
  {
   "cell_type": "code",
   "execution_count": 51,
   "metadata": {},
   "outputs": [],
   "source": [
    "df = rdf1.copy()"
   ]
  },
  {
   "cell_type": "code",
   "execution_count": 52,
   "metadata": {},
   "outputs": [
    {
     "data": {
      "text/plain": [
       "(1390280, 32)"
      ]
     },
     "execution_count": 52,
     "metadata": {},
     "output_type": "execute_result"
    }
   ],
   "source": [
    "df.shape"
   ]
  },
  {
   "cell_type": "markdown",
   "metadata": {},
   "source": [
    "## 연료 확인"
   ]
  },
  {
   "cell_type": "code",
   "execution_count": 53,
   "metadata": {},
   "outputs": [
    {
     "data": {
      "text/plain": [
       "연료\n",
       "경유             1052801\n",
       "휘발유             313039\n",
       "LPG(액화석유가스)      24355\n",
       "NaN                 49\n",
       "기타연료                34\n",
       "CNG(압축천연가스)          1\n",
       "알코올                  1\n",
       "Name: count, dtype: int64"
      ]
     },
     "execution_count": 53,
     "metadata": {},
     "output_type": "execute_result"
    }
   ],
   "source": [
    "df['연료'].value_counts(dropna=False)"
   ]
  },
  {
   "cell_type": "markdown",
   "metadata": {},
   "source": [
    "## 연료 컬럼 추가"
   ]
  },
  {
   "cell_type": "code",
   "execution_count": 54,
   "metadata": {},
   "outputs": [],
   "source": [
    "df.loc[df['연료'] == '경유', 'fuel'] = '경유'\n",
    "df.loc[(df['연료'] == '휘발유') | (df['연료'] == 'LPG(액화석유가스)'), 'fuel'] = '휘발유_가스'"
   ]
  },
  {
   "cell_type": "markdown",
   "metadata": {},
   "source": [
    "# 분석"
   ]
  },
  {
   "cell_type": "markdown",
   "metadata": {},
   "source": [
    "## EG 분류"
   ]
  },
  {
   "cell_type": "code",
   "execution_count": 55,
   "metadata": {},
   "outputs": [
    {
     "data": {
      "text/plain": [
       "fuel\n",
       "경유        1052801\n",
       "휘발유_가스     337394\n",
       "NaN            85\n",
       "Name: count, dtype: int64"
      ]
     },
     "execution_count": 55,
     "metadata": {},
     "output_type": "execute_result"
    }
   ],
   "source": [
    "df['fuel'].value_counts(dropna=False)"
   ]
  },
  {
   "cell_type": "code",
   "execution_count": 56,
   "metadata": {},
   "outputs": [
    {
     "name": "stderr",
     "output_type": "stream",
     "text": [
      "100%|██████████| 1390280/1390280 [00:02<00:00, 526564.98it/s]\n"
     ]
    },
    {
     "data": {
      "text/plain": [
       "1390280"
      ]
     },
     "execution_count": 56,
     "metadata": {},
     "output_type": "execute_result"
    }
   ],
   "source": [
    "grade_list = []\n",
    "for f, y, cy, e in tqdm(df[['fuel', '제작일자', '차량연식', 'DPF유무_수정']].values):\n",
    "    if (f == '휘발유_가스') and ( (19980101 <= y <= 20001231) or (1998 <= cy <= 2000) ):\n",
    "        grade_list.append('A')\n",
    "    elif (f == '휘발유_가스') and ( (y <= 19971231) or (cy <= 1997) ):\n",
    "        grade_list.append('B')\n",
    "    elif (f == '경유') and ( (y >= 20080101) or (cy >= 2008) ) and (e == '유'):\n",
    "        grade_list.append('A')\n",
    "    elif (f == '경유') and ( (y <= 20071231) or (cy <= 2007) )and (e == '유'):\n",
    "        grade_list.append('B')\n",
    "    elif (f == '경유') and ( (y >= 20080101) or (cy >= 2008) ) and (e == '무'):\n",
    "        grade_list.append('C')\n",
    "    elif (f == '경유') and ( (y <= 20071231) or (cy <= 2007) ) and (e == '무'):\n",
    "        grade_list.append('D')\n",
    "    else:\n",
    "        grade_list.append('X')\n",
    "len(grade_list)"
   ]
  },
  {
   "cell_type": "code",
   "execution_count": 57,
   "metadata": {},
   "outputs": [],
   "source": [
    "df['EG'] = grade_list"
   ]
  },
  {
   "cell_type": "code",
   "execution_count": 58,
   "metadata": {},
   "outputs": [
    {
     "data": {
      "text/plain": [
       "Index(['차대번호', '법정동코드', '배출가스등급', '배출가스인증번호', '차량말소YN', '제원관리번호', '차량연식', '차종',\n",
       "       '용도', '최초등록일자', '제작일자', '연료', '차종유형', '제작사명', '차명', '자동차형식', '엔진형식',\n",
       "       '검사방법', '검사종류', '검사판정', '무부하매연측정치1', '무부하매연측정치2', '무부하매연측정치3',\n",
       "       '무부하매연판정1', '검사일자', '주행거리', '무부하매연허용치1', '정기정밀', '시도', '시군구',\n",
       "       '법정동코드_수정', 'DPF유무_수정', 'fuel', 'EG'],\n",
       "      dtype='object')"
      ]
     },
     "execution_count": 58,
     "metadata": {},
     "output_type": "execute_result"
    }
   ],
   "source": [
    "df.columns"
   ]
  },
  {
   "cell_type": "markdown",
   "metadata": {},
   "source": [
    "# STD_BD_GRD4_CAR_CURSTT"
   ]
  },
  {
   "cell_type": "markdown",
   "metadata": {},
   "source": [
    "## 4등급차만 추출"
   ]
  },
  {
   "cell_type": "code",
   "execution_count": 59,
   "metadata": {},
   "outputs": [
    {
     "data": {
      "text/plain": [
       "(1390280, 34)"
      ]
     },
     "execution_count": 59,
     "metadata": {},
     "output_type": "execute_result"
    }
   ],
   "source": [
    "# 2.8s\n",
    "df1 = df[df['배출가스등급'] == '4'].reset_index(drop=True)\n",
    "df1.shape"
   ]
  },
  {
   "cell_type": "code",
   "execution_count": 60,
   "metadata": {},
   "outputs": [
    {
     "data": {
      "text/plain": [
       "'20230823'"
      ]
     },
     "execution_count": 60,
     "metadata": {},
     "output_type": "execute_result"
    }
   ],
   "source": [
    "today_date = datetime.today().strftime(\"%Y%m%d\")\n",
    "today_date"
   ]
  },
  {
   "cell_type": "code",
   "execution_count": 61,
   "metadata": {},
   "outputs": [],
   "source": [
    "df1['기준연월'] = '2022.12'\n",
    "# df1['기준연월'] = today_date[:4] + '.' + today_date[4:6]"
   ]
  },
  {
   "cell_type": "code",
   "execution_count": 62,
   "metadata": {},
   "outputs": [],
   "source": [
    "df1['테이블생성일자'] = today_date"
   ]
  },
  {
   "cell_type": "code",
   "execution_count": 63,
   "metadata": {},
   "outputs": [
    {
     "data": {
      "text/plain": [
       "Index(['차대번호', '법정동코드', '배출가스등급', '배출가스인증번호', '차량말소YN', '제원관리번호', '차량연식', '차종',\n",
       "       '용도', '최초등록일자', '제작일자', '연료', '차종유형', '제작사명', '차명', '자동차형식', '엔진형식',\n",
       "       '검사방법', '검사종류', '검사판정', '무부하매연측정치1', '무부하매연측정치2', '무부하매연측정치3',\n",
       "       '무부하매연판정1', '검사일자', '주행거리', '무부하매연허용치1', '정기정밀', '시도', '시군구',\n",
       "       '법정동코드_수정', 'DPF유무_수정', 'fuel', 'EG', '기준연월', '테이블생성일자'],\n",
       "      dtype='object')"
      ]
     },
     "execution_count": 63,
     "metadata": {},
     "output_type": "execute_result"
    }
   ],
   "source": [
    "df1.columns"
   ]
  },
  {
   "cell_type": "code",
   "execution_count": 64,
   "metadata": {},
   "outputs": [
    {
     "data": {
      "text/plain": [
       "0    4374000000\n",
       "1    4374000000\n",
       "2    4518000000\n",
       "3    2771000000\n",
       "4    3020000000\n",
       "Name: 법정동코드_수정, dtype: object"
      ]
     },
     "execution_count": 64,
     "metadata": {},
     "output_type": "execute_result"
    }
   ],
   "source": [
    "df1['법정동코드_수정'] = df1['법정동코드_수정'].astype('str')\n",
    "df1['법정동코드_수정'].head()"
   ]
  },
  {
   "cell_type": "code",
   "execution_count": 65,
   "metadata": {},
   "outputs": [
    {
     "data": {
      "text/plain": [
       "(1390280, 26)"
      ]
     },
     "execution_count": 65,
     "metadata": {},
     "output_type": "execute_result"
    }
   ],
   "source": [
    "STD_BD_GRD4_CAR_CURSTT = df1[[\n",
    "    '테이블생성일자', \n",
    "    '기준연월', \n",
    "    '차대번호', \n",
    "    '제원관리번호', \n",
    "    '차종', \n",
    "    '용도',\n",
    "    '차량연식', \n",
    "    '차종유형', \n",
    "    '연료', \n",
    "    '법정동코드', \n",
    "    '시도',\n",
    "    '시군구',\n",
    "    '차명', \n",
    "    '제작사명', \n",
    "    '배출가스인증번호', \n",
    "    '배출가스등급', \n",
    "    'DPF유무_수정',\n",
    "    '검사방법', \n",
    "    '검사종류', \n",
    "    '검사판정', \n",
    "    '무부하매연측정치1', \n",
    "    '무부하매연판정1', \n",
    "    '무부하매연측정치2', \n",
    "    '무부하매연측정치3', \n",
    "    '법정동코드_수정', \n",
    "    'EG', \n",
    "    ]]\n",
    "STD_BD_GRD4_CAR_CURSTT.shape"
   ]
  },
  {
   "cell_type": "code",
   "execution_count": 66,
   "metadata": {},
   "outputs": [
    {
     "data": {
      "text/html": [
       "<div>\n",
       "<style scoped>\n",
       "    .dataframe tbody tr th:only-of-type {\n",
       "        vertical-align: middle;\n",
       "    }\n",
       "\n",
       "    .dataframe tbody tr th {\n",
       "        vertical-align: top;\n",
       "    }\n",
       "\n",
       "    .dataframe thead th {\n",
       "        text-align: right;\n",
       "    }\n",
       "</style>\n",
       "<table border=\"1\" class=\"dataframe\">\n",
       "  <thead>\n",
       "    <tr style=\"text-align: right;\">\n",
       "      <th></th>\n",
       "      <th>테이블생성일자</th>\n",
       "      <th>기준연월</th>\n",
       "      <th>차대번호</th>\n",
       "      <th>제원관리번호</th>\n",
       "      <th>차종</th>\n",
       "      <th>용도</th>\n",
       "      <th>차량연식</th>\n",
       "      <th>차종유형</th>\n",
       "      <th>연료</th>\n",
       "      <th>법정동코드</th>\n",
       "      <th>...</th>\n",
       "      <th>DPF유무_수정</th>\n",
       "      <th>검사방법</th>\n",
       "      <th>검사종류</th>\n",
       "      <th>검사판정</th>\n",
       "      <th>무부하매연측정치1</th>\n",
       "      <th>무부하매연판정1</th>\n",
       "      <th>무부하매연측정치2</th>\n",
       "      <th>무부하매연측정치3</th>\n",
       "      <th>법정동코드_수정</th>\n",
       "      <th>EG</th>\n",
       "    </tr>\n",
       "  </thead>\n",
       "  <tbody>\n",
       "    <tr>\n",
       "      <th>0</th>\n",
       "      <td>20230823</td>\n",
       "      <td>2022.12</td>\n",
       "      <td>KMFZSX7JABU684137</td>\n",
       "      <td>A0810006209153110</td>\n",
       "      <td>화물</td>\n",
       "      <td>개인용</td>\n",
       "      <td>2011</td>\n",
       "      <td>소형</td>\n",
       "      <td>경유</td>\n",
       "      <td>4374000000</td>\n",
       "      <td>...</td>\n",
       "      <td>NaN</td>\n",
       "      <td>무부하검사(급가속)</td>\n",
       "      <td>정기검사</td>\n",
       "      <td>Y</td>\n",
       "      <td>16.00</td>\n",
       "      <td>Y</td>\n",
       "      <td>NaN</td>\n",
       "      <td>NaN</td>\n",
       "      <td>4374000000</td>\n",
       "      <td>X</td>\n",
       "    </tr>\n",
       "    <tr>\n",
       "      <th>1</th>\n",
       "      <td>20230823</td>\n",
       "      <td>2022.12</td>\n",
       "      <td>KNCSE06428K344169</td>\n",
       "      <td>A0110003113533107</td>\n",
       "      <td>화물</td>\n",
       "      <td>개인용</td>\n",
       "      <td>2008</td>\n",
       "      <td>소형</td>\n",
       "      <td>경유</td>\n",
       "      <td>4374000000</td>\n",
       "      <td>...</td>\n",
       "      <td>무</td>\n",
       "      <td>NaN</td>\n",
       "      <td>NaN</td>\n",
       "      <td>NaN</td>\n",
       "      <td>NaN</td>\n",
       "      <td>NaN</td>\n",
       "      <td>NaN</td>\n",
       "      <td>NaN</td>\n",
       "      <td>4374000000</td>\n",
       "      <td>C</td>\n",
       "    </tr>\n",
       "    <tr>\n",
       "      <th>2</th>\n",
       "      <td>20230823</td>\n",
       "      <td>2022.12</td>\n",
       "      <td>KMCGK17HP9C112030</td>\n",
       "      <td>A0810005008143209</td>\n",
       "      <td>화물</td>\n",
       "      <td>개인용</td>\n",
       "      <td>2009</td>\n",
       "      <td>중형</td>\n",
       "      <td>경유</td>\n",
       "      <td>4518000000</td>\n",
       "      <td>...</td>\n",
       "      <td>유</td>\n",
       "      <td>무부하검사(급가속)</td>\n",
       "      <td>정기(경과)검사</td>\n",
       "      <td>Y</td>\n",
       "      <td>5.00</td>\n",
       "      <td>Y</td>\n",
       "      <td>NaN</td>\n",
       "      <td>NaN</td>\n",
       "      <td>4518000000</td>\n",
       "      <td>A</td>\n",
       "    </tr>\n",
       "    <tr>\n",
       "      <th>3</th>\n",
       "      <td>20230823</td>\n",
       "      <td>2022.12</td>\n",
       "      <td>KNCSE01429K388374</td>\n",
       "      <td>A0110003115353108</td>\n",
       "      <td>화물</td>\n",
       "      <td>개인용</td>\n",
       "      <td>2009</td>\n",
       "      <td>소형</td>\n",
       "      <td>경유</td>\n",
       "      <td>2771000000</td>\n",
       "      <td>...</td>\n",
       "      <td>무</td>\n",
       "      <td>부하검사(KD-147)</td>\n",
       "      <td>2부재검사(종합)</td>\n",
       "      <td>Y</td>\n",
       "      <td>14.00</td>\n",
       "      <td>Y</td>\n",
       "      <td>NaN</td>\n",
       "      <td>NaN</td>\n",
       "      <td>2771000000</td>\n",
       "      <td>C</td>\n",
       "    </tr>\n",
       "    <tr>\n",
       "      <th>4</th>\n",
       "      <td>20230823</td>\n",
       "      <td>2022.12</td>\n",
       "      <td>KNFSE0A439K387582</td>\n",
       "      <td>A0110003116073108</td>\n",
       "      <td>화물</td>\n",
       "      <td>개인용</td>\n",
       "      <td>2009</td>\n",
       "      <td>소형</td>\n",
       "      <td>경유</td>\n",
       "      <td>3020000000</td>\n",
       "      <td>...</td>\n",
       "      <td>무</td>\n",
       "      <td>부하검사(KD-147)</td>\n",
       "      <td>종합검사</td>\n",
       "      <td>Y</td>\n",
       "      <td>0.00</td>\n",
       "      <td>Y</td>\n",
       "      <td>NaN</td>\n",
       "      <td>NaN</td>\n",
       "      <td>3020000000</td>\n",
       "      <td>C</td>\n",
       "    </tr>\n",
       "  </tbody>\n",
       "</table>\n",
       "<p>5 rows × 26 columns</p>\n",
       "</div>"
      ],
      "text/plain": [
       "    테이블생성일자     기준연월               차대번호             제원관리번호  차종   용도  차량연식   \n",
       "0  20230823  2022.12  KMFZSX7JABU684137  A0810006209153110  화물  개인용  2011  \\\n",
       "1  20230823  2022.12  KNCSE06428K344169  A0110003113533107  화물  개인용  2008   \n",
       "2  20230823  2022.12  KMCGK17HP9C112030  A0810005008143209  화물  개인용  2009   \n",
       "3  20230823  2022.12  KNCSE01429K388374  A0110003115353108  화물  개인용  2009   \n",
       "4  20230823  2022.12  KNFSE0A439K387582  A0110003116073108  화물  개인용  2009   \n",
       "\n",
       "  차종유형  연료       법정동코드  ... DPF유무_수정          검사방법       검사종류 검사판정 무부하매연측정치1   \n",
       "0   소형  경유  4374000000  ...      NaN    무부하검사(급가속)       정기검사    Y     16.00  \\\n",
       "1   소형  경유  4374000000  ...        무           NaN        NaN  NaN       NaN   \n",
       "2   중형  경유  4518000000  ...        유    무부하검사(급가속)   정기(경과)검사    Y      5.00   \n",
       "3   소형  경유  2771000000  ...        무  부하검사(KD-147)  2부재검사(종합)    Y     14.00   \n",
       "4   소형  경유  3020000000  ...        무  부하검사(KD-147)       종합검사    Y      0.00   \n",
       "\n",
       "  무부하매연판정1 무부하매연측정치2 무부하매연측정치3    법정동코드_수정 EG  \n",
       "0        Y       NaN       NaN  4374000000  X  \n",
       "1      NaN       NaN       NaN  4374000000  C  \n",
       "2        Y       NaN       NaN  4518000000  A  \n",
       "3        Y       NaN       NaN  2771000000  C  \n",
       "4        Y       NaN       NaN  3020000000  C  \n",
       "\n",
       "[5 rows x 26 columns]"
      ]
     },
     "execution_count": 66,
     "metadata": {},
     "output_type": "execute_result"
    }
   ],
   "source": [
    "STD_BD_GRD4_CAR_CURSTT.head()"
   ]
  },
  {
   "cell_type": "code",
   "execution_count": 67,
   "metadata": {},
   "outputs": [],
   "source": [
    "ch_col_dict = {\n",
    "                '테이블생성일자':'LOAD_DT',\n",
    "                '기준연월':'CRTR_YM', \n",
    "                '차대번호':'VIN', \n",
    "                '제원관리번호':'MANG_MNG_NO', \n",
    "                '차종':'VHCTY_CD', \n",
    "                '용도':'PURPS_CD2', \n",
    "                '차량연식':'YRIDNW', \n",
    "                '차종유형':'VHCTY_TY', \n",
    "                '연료':'FUEL_CD', \n",
    "                '법정동코드':'STDG_CD', \n",
    "                '시도':'CTPV_NM', \n",
    "                '시군구':'SGG_NM', \n",
    "                '차명':'VHCNM', \n",
    "                '제작사명':'MNFCTR_NM', \n",
    "                '배출가스인증번호':'EXHST_GAS_CERT_NO_MOD', \n",
    "                '배출가스등급':'EXHST_GAS_GRD_CD_MOD',\n",
    "                'DPF유무_수정':'DPF_MNTNG_YN', \n",
    "                '검사방법':'INSP_MTHD', \n",
    "                '검사종류':'INSP_KND', \n",
    "                '검사판정':'INSP_JGMT', \n",
    "                '무부하매연측정치1':'NOLOD_SMO_MEVLU1', \n",
    "                '무부하매연판정1':'NOLOD_SMO_JGMT_YN1', \n",
    "                '무부하매연측정치2':'NOLOD_SMO_MEVLU2', \n",
    "                '무부하매연측정치3':'NOLOD_SMO_MEVLU3', \n",
    "                '법정동코드_수정':'STDG_CD_MOD',\n",
    "                'EG':'GRD4_MLSFC',\n",
    "\n",
    "                '제작일자':'FBCTN_YMD', \n",
    "                '차종분류':'VHCTY_CL_CD',\n",
    "                }"
   ]
  },
  {
   "cell_type": "code",
   "execution_count": 68,
   "metadata": {},
   "outputs": [
    {
     "data": {
      "text/plain": [
       "Index(['LOAD_DT', 'CRTR_YM', 'VIN', 'MANG_MNG_NO', 'VHCTY_CD', 'PURPS_CD2',\n",
       "       'YRIDNW', 'VHCTY_TY', 'FUEL_CD', 'STDG_CD', 'CTPV_NM', 'SGG_NM',\n",
       "       'VHCNM', 'MNFCTR_NM', 'EXHST_GAS_CERT_NO_MOD', 'EXHST_GAS_GRD_CD_MOD',\n",
       "       'DPF_MNTNG_YN', 'INSP_MTHD', 'INSP_KND', 'INSP_JGMT',\n",
       "       'NOLOD_SMO_MEVLU1', 'NOLOD_SMO_JGMT_YN1', 'NOLOD_SMO_MEVLU2',\n",
       "       'NOLOD_SMO_MEVLU3', 'STDG_CD_MOD', 'GRD4_MLSFC'],\n",
       "      dtype='object')"
      ]
     },
     "execution_count": 68,
     "metadata": {},
     "output_type": "execute_result"
    }
   ],
   "source": [
    "STD_BD_GRD4_CAR_CURSTT = STD_BD_GRD4_CAR_CURSTT.rename(columns=ch_col_dict)\n",
    "STD_BD_GRD4_CAR_CURSTT.columns"
   ]
  },
  {
   "cell_type": "code",
   "execution_count": 69,
   "metadata": {
    "tags": []
   },
   "outputs": [
    {
     "data": {
      "text/plain": [
       "(1390280, 26)"
      ]
     },
     "execution_count": 69,
     "metadata": {},
     "output_type": "execute_result"
    }
   ],
   "source": [
    "STD_BD_GRD4_CAR_CURSTT.shape"
   ]
  },
  {
   "cell_type": "markdown",
   "metadata": {},
   "source": [
    "## [출력] STD_BD_GRD4_CAR_CURSTT"
   ]
  },
  {
   "cell_type": "code",
   "execution_count": 70,
   "metadata": {
    "tags": []
   },
   "outputs": [],
   "source": [
    "# expdf = STD_BD_GRD4_CAR_CURSTT\n",
    "# table_nm = 'STD_BD_GRD4_CAR_CURSTT'.upper()\n",
    "\n",
    "# # 테이블 생성\n",
    "# sql = 'create or replace table ' + table_nm + '( \\n'\n",
    "\n",
    "# for idx,column in enumerate(expdf.columns):\n",
    "#     if 'float' in expdf[column].dtype.name:\n",
    "#         sql += column + ' float'\n",
    "#     elif 'int' in expdf[column].dtype.name:\n",
    "#         sql += column + ' number'\n",
    "#     else:\n",
    "#         sql += column + ' varchar(255)'\n",
    "\n",
    "#     if len(expdf.columns) - 1 != idx:\n",
    "#         sql += ','\n",
    "#     sql += '\\n'\n",
    "# sql += ')'    \n",
    "# we.execute(sql)\n",
    "\n",
    "# # 데이터 추가\n",
    "# # 9s\n",
    "# we.import_from_pandas(expdf, table_nm)"
   ]
  },
  {
   "cell_type": "code",
   "execution_count": 71,
   "metadata": {},
   "outputs": [],
   "source": [
    "# # 0s\n",
    "# STD_BD_GRD4_CAR_CURSTT.to_csv(os.path.join(df1_fold, 'STD_BD_GRD4_CAR_CURSTT.csv'), index=False)"
   ]
  },
  {
   "cell_type": "markdown",
   "metadata": {},
   "source": [
    "# STD_BD_GRD4_CAR_CURSTT_TOT"
   ]
  },
  {
   "cell_type": "markdown",
   "metadata": {},
   "source": [
    "## 경유차만 추출"
   ]
  },
  {
   "cell_type": "code",
   "execution_count": 72,
   "metadata": {},
   "outputs": [],
   "source": [
    "df2 = df1[df1['연료'] == '경유'].reset_index(drop=True)"
   ]
  },
  {
   "cell_type": "markdown",
   "metadata": {},
   "source": [
    "## 차대번호 10자리 연식"
   ]
  },
  {
   "cell_type": "code",
   "execution_count": 73,
   "metadata": {},
   "outputs": [],
   "source": [
    "df2['vin10'] = df2['차대번호'].str[9]"
   ]
  },
  {
   "cell_type": "code",
   "execution_count": 74,
   "metadata": {},
   "outputs": [],
   "source": [
    "vin10_dict = {'J':1988, 'K':1989, 'L':1990, 'M':1991, 'N':1992, 'P':1993, 'R':1994, 'S':1995, 'T':1996, 'V':1997, 'W':1998, 'X':1999, 'Y':2000, '1':2001, '2':2002, '3':2003, '4':2004, '5':2005, '6':2006, '7':2007, '8':2008, '9':2009, 'A':2010, 'B':2011, 'C':2012, 'D':2013, 'E':2014, 'F':2015, 'G':2016, 'H':2017}"
   ]
  },
  {
   "cell_type": "code",
   "execution_count": 75,
   "metadata": {},
   "outputs": [],
   "source": [
    "df2['vin10_year'] = df2['vin10'].map(vin10_dict, na_action='ignore')"
   ]
  },
  {
   "cell_type": "markdown",
   "metadata": {},
   "source": [
    "## 배인번호_수정 문자 타입으로 변경"
   ]
  },
  {
   "cell_type": "code",
   "execution_count": 76,
   "metadata": {},
   "outputs": [],
   "source": [
    "df2['배출가스인증번호'] = df2['배출가스인증번호'].astype('str')"
   ]
  },
  {
   "cell_type": "markdown",
   "metadata": {},
   "source": [
    "## 차대번호 17자리 샘플"
   ]
  },
  {
   "cell_type": "code",
   "execution_count": 77,
   "metadata": {},
   "outputs": [
    {
     "data": {
      "text/plain": [
       "((1052791, 38), (10, 38))"
      ]
     },
     "execution_count": 77,
     "metadata": {},
     "output_type": "execute_result"
    }
   ],
   "source": [
    "df2y = df2.loc[df2['차대번호'].str.len() == 17].reset_index(drop=True)\n",
    "df2n = df2.loc[df2['차대번호'].str.len() != 17].reset_index(drop=True)\n",
    "df2y.shape, df2n.shape"
   ]
  },
  {
   "cell_type": "markdown",
   "metadata": {},
   "source": [
    "## 차대번호 연식과 연식 동일한 샘플"
   ]
  },
  {
   "cell_type": "code",
   "execution_count": 78,
   "metadata": {},
   "outputs": [
    {
     "data": {
      "text/plain": [
       "((1052707, 38), (84, 38))"
      ]
     },
     "execution_count": 78,
     "metadata": {},
     "output_type": "execute_result"
    }
   ],
   "source": [
    "df3y = df2y.loc[df2y['vin10_year'] == df2y['차량연식']].reset_index(drop=True)\n",
    "df3n = df2y.loc[df2y['vin10_year'] != df2y['차량연식']].reset_index(drop=True)\n",
    "df3y.shape, df3n.shape"
   ]
  },
  {
   "cell_type": "markdown",
   "metadata": {},
   "source": [
    "# 배인번호별 분석"
   ]
  },
  {
   "cell_type": "code",
   "execution_count": 79,
   "metadata": {},
   "outputs": [],
   "source": [
    "def flat_cols(df):\n",
    "    df.columns = ['/'.join(x) for x in df.columns.to_flat_index()]\n",
    "    return df"
   ]
  },
  {
   "cell_type": "code",
   "execution_count": 80,
   "metadata": {},
   "outputs": [
    {
     "name": "stderr",
     "output_type": "stream",
     "text": [
      "  0%|          | 0/201 [00:00<?, ?it/s]"
     ]
    },
    {
     "name": "stderr",
     "output_type": "stream",
     "text": [
      "100%|██████████| 201/201 [00:15<00:00, 13.00it/s]\n"
     ]
    }
   ],
   "source": [
    "# about 31.3s\n",
    "# 최적화 24m 51s -> 30.0s\n",
    "total_g_df = pd.DataFrame()\n",
    "groupby_col1 = ['제작사명', '배출가스인증번호', '제원관리번호', '자동차형식', '엔진형식', '검사종류', '검사방법', '검사판정']\n",
    "groupby_col2 = ['제작사명', '배출가스인증번호', '제원관리번호', '자동차형식', '엔진형식', '검사종류', '검사방법']\n",
    "for one in tqdm(df3y['배출가스인증번호'].unique()):\n",
    "    # 배인번호별 df\n",
    "    gas_df = df3y.loc[df3y['배출가스인증번호'] == str(one)].reset_index(drop=True)\n",
    "\n",
    "    if gas_df.shape[0] != 0:\n",
    "        # 제번별, 차형식별, 엔진형식별, 검사판정별 무부하매연측정치1 통계\n",
    "        g = gas_df.groupby(groupby_col1).agg({'차대번호':'count', '무부하매연측정치1':['mean', 'min', 'max']}).pipe(flat_cols).round(2).reset_index()\n",
    "        g = g.rename(columns={'배출가스인증번호':'배출가스인증번호', '차대번호/count':'대수', '무부하매연측정치1/mean':'mean', '무부하매연측정치1/min':'min', '무부하매연측정치1/max':'max'})\n",
    "        # 하나의 배인번호에서 제번별 엔진형식별 비율 계산\n",
    "        g['합격률(%)'] = round(g['대수'] / g.groupby(groupby_col2)['대수'].transform('sum') * 100, 2)\n",
    "        # 종합 - 통계\n",
    "        total_g_df = pd.concat([total_g_df, g], ignore_index=True)\n",
    "    else:\n",
    "        print(f'오류 배인번호 : {one}')\n",
    "        pass"
   ]
  },
  {
   "cell_type": "code",
   "execution_count": 81,
   "metadata": {},
   "outputs": [
    {
     "data": {
      "text/html": [
       "<div>\n",
       "<style scoped>\n",
       "    .dataframe tbody tr th:only-of-type {\n",
       "        vertical-align: middle;\n",
       "    }\n",
       "\n",
       "    .dataframe tbody tr th {\n",
       "        vertical-align: top;\n",
       "    }\n",
       "\n",
       "    .dataframe thead th {\n",
       "        text-align: right;\n",
       "    }\n",
       "</style>\n",
       "<table border=\"1\" class=\"dataframe\">\n",
       "  <thead>\n",
       "    <tr style=\"text-align: right;\">\n",
       "      <th></th>\n",
       "      <th>제작사명</th>\n",
       "      <th>배출가스인증번호</th>\n",
       "      <th>제원관리번호</th>\n",
       "      <th>자동차형식</th>\n",
       "      <th>엔진형식</th>\n",
       "      <th>검사종류</th>\n",
       "      <th>검사방법</th>\n",
       "      <th>검사판정</th>\n",
       "      <th>대수</th>\n",
       "      <th>mean</th>\n",
       "      <th>min</th>\n",
       "      <th>max</th>\n",
       "      <th>합격률(%)</th>\n",
       "    </tr>\n",
       "  </thead>\n",
       "  <tbody>\n",
       "    <tr>\n",
       "      <th>0</th>\n",
       "      <td>(주) 골드밴</td>\n",
       "      <td>nan</td>\n",
       "      <td>B3M10009800003308</td>\n",
       "      <td>ECKH22-CAB</td>\n",
       "      <td>D6CB</td>\n",
       "      <td>종합검사</td>\n",
       "      <td>부하검사(LUG DOWN)</td>\n",
       "      <td>Y</td>\n",
       "      <td>1</td>\n",
       "      <td>7.00</td>\n",
       "      <td>7.00</td>\n",
       "      <td>7.00</td>\n",
       "      <td>100.00</td>\n",
       "    </tr>\n",
       "    <tr>\n",
       "      <th>1</th>\n",
       "      <td>(주) 대진에스티씨</td>\n",
       "      <td>nan</td>\n",
       "      <td>1BE20002100003207</td>\n",
       "      <td>405 101</td>\n",
       "      <td>904LA</td>\n",
       "      <td>종합검사(경과)</td>\n",
       "      <td>무부하검사(급가속)</td>\n",
       "      <td>Y</td>\n",
       "      <td>1</td>\n",
       "      <td>0.00</td>\n",
       "      <td>0.00</td>\n",
       "      <td>0.00</td>\n",
       "      <td>100.00</td>\n",
       "    </tr>\n",
       "    <tr>\n",
       "      <th>2</th>\n",
       "      <td>(주) 대진에스티씨</td>\n",
       "      <td>nan</td>\n",
       "      <td>1BE20002500003307</td>\n",
       "      <td>405 221</td>\n",
       "      <td>906LA</td>\n",
       "      <td>정기검사</td>\n",
       "      <td>무부하검사(급가속)</td>\n",
       "      <td>Y</td>\n",
       "      <td>1</td>\n",
       "      <td>1.00</td>\n",
       "      <td>1.00</td>\n",
       "      <td>1.00</td>\n",
       "      <td>100.00</td>\n",
       "    </tr>\n",
       "    <tr>\n",
       "      <th>3</th>\n",
       "      <td>(주) 대진에스티씨</td>\n",
       "      <td>nan</td>\n",
       "      <td>1BE20002600003307</td>\n",
       "      <td>405 122</td>\n",
       "      <td>906LA</td>\n",
       "      <td>정기검사</td>\n",
       "      <td>무부하검사(급가속)</td>\n",
       "      <td>Y</td>\n",
       "      <td>1</td>\n",
       "      <td>0.00</td>\n",
       "      <td>0.00</td>\n",
       "      <td>0.00</td>\n",
       "      <td>100.00</td>\n",
       "    </tr>\n",
       "    <tr>\n",
       "      <th>4</th>\n",
       "      <td>(주) 대진에스티씨</td>\n",
       "      <td>nan</td>\n",
       "      <td>1BE20002800003307</td>\n",
       "      <td>405 221</td>\n",
       "      <td>906LA</td>\n",
       "      <td>종합검사</td>\n",
       "      <td>무부하검사(급가속)</td>\n",
       "      <td>Y</td>\n",
       "      <td>1</td>\n",
       "      <td>1.00</td>\n",
       "      <td>1.00</td>\n",
       "      <td>1.00</td>\n",
       "      <td>100.00</td>\n",
       "    </tr>\n",
       "  </tbody>\n",
       "</table>\n",
       "</div>"
      ],
      "text/plain": [
       "         제작사명 배출가스인증번호             제원관리번호       자동차형식   엔진형식      검사종류   \n",
       "0     (주) 골드밴      nan  B3M10009800003308  ECKH22-CAB   D6CB      종합검사  \\\n",
       "1  (주) 대진에스티씨      nan  1BE20002100003207     405 101  904LA  종합검사(경과)   \n",
       "2  (주) 대진에스티씨      nan  1BE20002500003307     405 221  906LA      정기검사   \n",
       "3  (주) 대진에스티씨      nan  1BE20002600003307     405 122  906LA      정기검사   \n",
       "4  (주) 대진에스티씨      nan  1BE20002800003307     405 221  906LA      종합검사   \n",
       "\n",
       "             검사방법 검사판정  대수  mean  min  max  합격률(%)  \n",
       "0  부하검사(LUG DOWN)    Y   1  7.00 7.00 7.00  100.00  \n",
       "1      무부하검사(급가속)    Y   1  0.00 0.00 0.00  100.00  \n",
       "2      무부하검사(급가속)    Y   1  1.00 1.00 1.00  100.00  \n",
       "3      무부하검사(급가속)    Y   1  0.00 0.00 0.00  100.00  \n",
       "4      무부하검사(급가속)    Y   1  1.00 1.00 1.00  100.00  "
      ]
     },
     "execution_count": 81,
     "metadata": {},
     "output_type": "execute_result"
    }
   ],
   "source": [
    "total_g_df.head()"
   ]
  },
  {
   "cell_type": "code",
   "execution_count": 82,
   "metadata": {},
   "outputs": [
    {
     "data": {
      "text/plain": [
       "(11390, 13)"
      ]
     },
     "execution_count": 82,
     "metadata": {},
     "output_type": "execute_result"
    }
   ],
   "source": [
    "total_g_df[total_g_df['합격률(%)'] != 100].shape"
   ]
  },
  {
   "cell_type": "code",
   "execution_count": 85,
   "metadata": {},
   "outputs": [
    {
     "data": {
      "text/html": [
       "<div>\n",
       "<style scoped>\n",
       "    .dataframe tbody tr th:only-of-type {\n",
       "        vertical-align: middle;\n",
       "    }\n",
       "\n",
       "    .dataframe tbody tr th {\n",
       "        vertical-align: top;\n",
       "    }\n",
       "\n",
       "    .dataframe thead th {\n",
       "        text-align: right;\n",
       "    }\n",
       "</style>\n",
       "<table border=\"1\" class=\"dataframe\">\n",
       "  <thead>\n",
       "    <tr style=\"text-align: right;\">\n",
       "      <th></th>\n",
       "      <th>제작사명</th>\n",
       "      <th>배출가스인증번호</th>\n",
       "      <th>제원관리번호</th>\n",
       "      <th>자동차형식</th>\n",
       "      <th>엔진형식</th>\n",
       "      <th>검사종류</th>\n",
       "      <th>검사방법</th>\n",
       "      <th>검사판정</th>\n",
       "      <th>대수</th>\n",
       "      <th>mean</th>\n",
       "      <th>min</th>\n",
       "      <th>max</th>\n",
       "      <th>합격률(%)</th>\n",
       "    </tr>\n",
       "  </thead>\n",
       "  <tbody>\n",
       "    <tr>\n",
       "      <th>946</th>\n",
       "      <td>(주) 오텍</td>\n",
       "      <td>7MY-HD-24-28</td>\n",
       "      <td>A0610004400003210</td>\n",
       "      <td>D4GA-3P34WL-SRT1</td>\n",
       "      <td>D4GA</td>\n",
       "      <td>정기검사</td>\n",
       "      <td>무부하검사(급가속)</td>\n",
       "      <td>N</td>\n",
       "      <td>2</td>\n",
       "      <td>1.00</td>\n",
       "      <td>0.00</td>\n",
       "      <td>2.00</td>\n",
       "      <td>4.26</td>\n",
       "    </tr>\n",
       "    <tr>\n",
       "      <th>947</th>\n",
       "      <td>(주) 오텍</td>\n",
       "      <td>7MY-HD-24-28</td>\n",
       "      <td>A0610004400003210</td>\n",
       "      <td>D4GA-3P34WL-SRT1</td>\n",
       "      <td>D4GA</td>\n",
       "      <td>정기검사</td>\n",
       "      <td>무부하검사(급가속)</td>\n",
       "      <td>Y</td>\n",
       "      <td>45</td>\n",
       "      <td>3.71</td>\n",
       "      <td>0.00</td>\n",
       "      <td>21.00</td>\n",
       "      <td>95.74</td>\n",
       "    </tr>\n",
       "    <tr>\n",
       "      <th>948</th>\n",
       "      <td>(주) 오텍</td>\n",
       "      <td>7MY-HD-24-28</td>\n",
       "      <td>A0610004400003210</td>\n",
       "      <td>D4GA-3P34WL-SRT1</td>\n",
       "      <td>D4GA</td>\n",
       "      <td>종합검사</td>\n",
       "      <td>부하검사(KD-147)</td>\n",
       "      <td>N</td>\n",
       "      <td>1</td>\n",
       "      <td>NaN</td>\n",
       "      <td>NaN</td>\n",
       "      <td>NaN</td>\n",
       "      <td>2.50</td>\n",
       "    </tr>\n",
       "    <tr>\n",
       "      <th>949</th>\n",
       "      <td>(주) 오텍</td>\n",
       "      <td>7MY-HD-24-28</td>\n",
       "      <td>A0610004400003210</td>\n",
       "      <td>D4GA-3P34WL-SRT1</td>\n",
       "      <td>D4GA</td>\n",
       "      <td>종합검사</td>\n",
       "      <td>부하검사(KD-147)</td>\n",
       "      <td>Y</td>\n",
       "      <td>39</td>\n",
       "      <td>4.05</td>\n",
       "      <td>0.00</td>\n",
       "      <td>14.00</td>\n",
       "      <td>97.50</td>\n",
       "    </tr>\n",
       "    <tr>\n",
       "      <th>950</th>\n",
       "      <td>(주) 오텍</td>\n",
       "      <td>7MY-HD-24-28</td>\n",
       "      <td>A0610004400003210</td>\n",
       "      <td>D4GA-3P34WL-SRT1</td>\n",
       "      <td>D4GA</td>\n",
       "      <td>종합검사</td>\n",
       "      <td>부하검사(LUG DOWN)</td>\n",
       "      <td>N</td>\n",
       "      <td>3</td>\n",
       "      <td>5.67</td>\n",
       "      <td>0.00</td>\n",
       "      <td>13.00</td>\n",
       "      <td>7.69</td>\n",
       "    </tr>\n",
       "    <tr>\n",
       "      <th>951</th>\n",
       "      <td>(주) 오텍</td>\n",
       "      <td>7MY-HD-24-28</td>\n",
       "      <td>A0610004400003210</td>\n",
       "      <td>D4GA-3P34WL-SRT1</td>\n",
       "      <td>D4GA</td>\n",
       "      <td>종합검사</td>\n",
       "      <td>부하검사(LUG DOWN)</td>\n",
       "      <td>Y</td>\n",
       "      <td>36</td>\n",
       "      <td>8.36</td>\n",
       "      <td>0.00</td>\n",
       "      <td>19.00</td>\n",
       "      <td>92.31</td>\n",
       "    </tr>\n",
       "    <tr>\n",
       "      <th>953</th>\n",
       "      <td>(주) 오텍</td>\n",
       "      <td>7MY-HD-24-28</td>\n",
       "      <td>A0610004400003210</td>\n",
       "      <td>D4GA-3P34WL-SRT1</td>\n",
       "      <td>D4GA</td>\n",
       "      <td>종합검사(경과)</td>\n",
       "      <td>부하검사(LUG DOWN)</td>\n",
       "      <td>N</td>\n",
       "      <td>1</td>\n",
       "      <td>NaN</td>\n",
       "      <td>NaN</td>\n",
       "      <td>NaN</td>\n",
       "      <td>9.09</td>\n",
       "    </tr>\n",
       "    <tr>\n",
       "      <th>954</th>\n",
       "      <td>(주) 오텍</td>\n",
       "      <td>7MY-HD-24-28</td>\n",
       "      <td>A0610004400003210</td>\n",
       "      <td>D4GA-3P34WL-SRT1</td>\n",
       "      <td>D4GA</td>\n",
       "      <td>종합검사(경과)</td>\n",
       "      <td>부하검사(LUG DOWN)</td>\n",
       "      <td>Y</td>\n",
       "      <td>10</td>\n",
       "      <td>9.20</td>\n",
       "      <td>0.00</td>\n",
       "      <td>16.00</td>\n",
       "      <td>90.91</td>\n",
       "    </tr>\n",
       "    <tr>\n",
       "      <th>961</th>\n",
       "      <td>(주)광림</td>\n",
       "      <td>7MY-HD-24-28</td>\n",
       "      <td>B0W10008100004208</td>\n",
       "      <td>KEH0428SEHSN15B</td>\n",
       "      <td>D4GA</td>\n",
       "      <td>종합검사</td>\n",
       "      <td>부하검사(LUG DOWN)</td>\n",
       "      <td>N</td>\n",
       "      <td>1</td>\n",
       "      <td>24.00</td>\n",
       "      <td>24.00</td>\n",
       "      <td>24.00</td>\n",
       "      <td>50.00</td>\n",
       "    </tr>\n",
       "    <tr>\n",
       "      <th>962</th>\n",
       "      <td>(주)광림</td>\n",
       "      <td>7MY-HD-24-28</td>\n",
       "      <td>B0W10008100004208</td>\n",
       "      <td>KEH0428SEHSN15B</td>\n",
       "      <td>D4GA</td>\n",
       "      <td>종합검사</td>\n",
       "      <td>부하검사(LUG DOWN)</td>\n",
       "      <td>Y</td>\n",
       "      <td>1</td>\n",
       "      <td>9.00</td>\n",
       "      <td>9.00</td>\n",
       "      <td>9.00</td>\n",
       "      <td>50.00</td>\n",
       "    </tr>\n",
       "  </tbody>\n",
       "</table>\n",
       "</div>"
      ],
      "text/plain": [
       "       제작사명      배출가스인증번호             제원관리번호             자동차형식  엔진형식   \n",
       "946  (주) 오텍  7MY-HD-24-28  A0610004400003210  D4GA-3P34WL-SRT1  D4GA  \\\n",
       "947  (주) 오텍  7MY-HD-24-28  A0610004400003210  D4GA-3P34WL-SRT1  D4GA   \n",
       "948  (주) 오텍  7MY-HD-24-28  A0610004400003210  D4GA-3P34WL-SRT1  D4GA   \n",
       "949  (주) 오텍  7MY-HD-24-28  A0610004400003210  D4GA-3P34WL-SRT1  D4GA   \n",
       "950  (주) 오텍  7MY-HD-24-28  A0610004400003210  D4GA-3P34WL-SRT1  D4GA   \n",
       "951  (주) 오텍  7MY-HD-24-28  A0610004400003210  D4GA-3P34WL-SRT1  D4GA   \n",
       "953  (주) 오텍  7MY-HD-24-28  A0610004400003210  D4GA-3P34WL-SRT1  D4GA   \n",
       "954  (주) 오텍  7MY-HD-24-28  A0610004400003210  D4GA-3P34WL-SRT1  D4GA   \n",
       "961   (주)광림  7MY-HD-24-28  B0W10008100004208   KEH0428SEHSN15B  D4GA   \n",
       "962   (주)광림  7MY-HD-24-28  B0W10008100004208   KEH0428SEHSN15B  D4GA   \n",
       "\n",
       "         검사종류            검사방법 검사판정  대수  mean   min   max  합격률(%)  \n",
       "946      정기검사      무부하검사(급가속)    N   2  1.00  0.00  2.00    4.26  \n",
       "947      정기검사      무부하검사(급가속)    Y  45  3.71  0.00 21.00   95.74  \n",
       "948      종합검사    부하검사(KD-147)    N   1   NaN   NaN   NaN    2.50  \n",
       "949      종합검사    부하검사(KD-147)    Y  39  4.05  0.00 14.00   97.50  \n",
       "950      종합검사  부하검사(LUG DOWN)    N   3  5.67  0.00 13.00    7.69  \n",
       "951      종합검사  부하검사(LUG DOWN)    Y  36  8.36  0.00 19.00   92.31  \n",
       "953  종합검사(경과)  부하검사(LUG DOWN)    N   1   NaN   NaN   NaN    9.09  \n",
       "954  종합검사(경과)  부하검사(LUG DOWN)    Y  10  9.20  0.00 16.00   90.91  \n",
       "961      종합검사  부하검사(LUG DOWN)    N   1 24.00 24.00 24.00   50.00  \n",
       "962      종합검사  부하검사(LUG DOWN)    Y   1  9.00  9.00  9.00   50.00  "
      ]
     },
     "execution_count": 85,
     "metadata": {},
     "output_type": "execute_result"
    }
   ],
   "source": [
    "total_g_df[(total_g_df['합격률(%)'] != 100) & (total_g_df['배출가스인증번호'] != 'nan')].head(10)"
   ]
  },
  {
   "cell_type": "markdown",
   "metadata": {},
   "source": [
    "# 분석"
   ]
  },
  {
   "cell_type": "markdown",
   "metadata": {},
   "source": [
    "## 열화계수(SI) 지수 계산\n",
    "- SI = 측정치 / 허용치"
   ]
  },
  {
   "cell_type": "code",
   "execution_count": 86,
   "metadata": {},
   "outputs": [
    {
     "data": {
      "text/plain": [
       "(1052707, 38)"
      ]
     },
     "execution_count": 86,
     "metadata": {},
     "output_type": "execute_result"
    }
   ],
   "source": [
    "df3y.shape"
   ]
  },
  {
   "cell_type": "code",
   "execution_count": 87,
   "metadata": {},
   "outputs": [
    {
     "data": {
      "text/plain": [
       "Index(['차대번호', '법정동코드', '배출가스등급', '배출가스인증번호', '차량말소YN', '제원관리번호', '차량연식', '차종',\n",
       "       '용도', '최초등록일자', '제작일자', '연료', '차종유형', '제작사명', '차명', '자동차형식', '엔진형식',\n",
       "       '검사방법', '검사종류', '검사판정', '무부하매연측정치1', '무부하매연측정치2', '무부하매연측정치3',\n",
       "       '무부하매연판정1', '검사일자', '주행거리', '무부하매연허용치1', '정기정밀', '시도', '시군구',\n",
       "       '법정동코드_수정', 'DPF유무_수정', 'fuel', 'EG', '기준연월', '테이블생성일자', 'vin10',\n",
       "       'vin10_year'],\n",
       "      dtype='object')"
      ]
     },
     "execution_count": 87,
     "metadata": {},
     "output_type": "execute_result"
    }
   ],
   "source": [
    "df3y.columns"
   ]
  },
  {
   "cell_type": "code",
   "execution_count": 88,
   "metadata": {},
   "outputs": [
    {
     "data": {
      "text/plain": [
       "(1052707, 17)"
      ]
     },
     "execution_count": 88,
     "metadata": {},
     "output_type": "execute_result"
    }
   ],
   "source": [
    "sidf = df3y[[\n",
    "    '차대번호', \n",
    "    '제원관리번호', \n",
    "    '차종', \n",
    "    '차량연식', \n",
    "    '차명', \n",
    "    '차종유형', \n",
    "    '제작사명', \n",
    "    '연료', \n",
    "    '법정동코드', \n",
    "    '배출가스인증번호', \n",
    "    '검사방법', \n",
    "    '검사종류', \n",
    "    '검사판정', \n",
    "    '주행거리', \n",
    "    '무부하매연판정1', \n",
    "    '무부하매연허용치1', \n",
    "    '무부하매연측정치1'\n",
    "    ]]\n",
    "sidf.shape"
   ]
  },
  {
   "cell_type": "code",
   "execution_count": 89,
   "metadata": {},
   "outputs": [
    {
     "data": {
      "text/plain": [
       "2023"
      ]
     },
     "execution_count": 89,
     "metadata": {},
     "output_type": "execute_result"
    }
   ],
   "source": [
    "current_yr = int(datetime.today().strftime(\"%Y\"))\n",
    "current_yr"
   ]
  },
  {
   "cell_type": "code",
   "execution_count": 90,
   "metadata": {},
   "outputs": [
    {
     "name": "stderr",
     "output_type": "stream",
     "text": [
      "C:\\Users\\kbjung\\AppData\\Local\\Temp\\ipykernel_18100\\4139794486.py:1: SettingWithCopyWarning: \n",
      "A value is trying to be set on a copy of a slice from a DataFrame.\n",
      "Try using .loc[row_indexer,col_indexer] = value instead\n",
      "\n",
      "See the caveats in the documentation: https://pandas.pydata.org/pandas-docs/stable/user_guide/indexing.html#returning-a-view-versus-a-copy\n",
      "  sidf['차령'] = current_yr - sidf['차량연식']\n",
      "C:\\Users\\kbjung\\AppData\\Local\\Temp\\ipykernel_18100\\4139794486.py:2: SettingWithCopyWarning: \n",
      "A value is trying to be set on a copy of a slice from a DataFrame.\n",
      "Try using .loc[row_indexer,col_indexer] = value instead\n",
      "\n",
      "See the caveats in the documentation: https://pandas.pydata.org/pandas-docs/stable/user_guide/indexing.html#returning-a-view-versus-a-copy\n",
      "  sidf['SI'] = sidf['무부하매연측정치1'] / sidf['무부하매연허용치1']\n"
     ]
    }
   ],
   "source": [
    "sidf['차령'] = current_yr - sidf['차량연식']\n",
    "sidf['SI'] = sidf['무부하매연측정치1'] / sidf['무부하매연허용치1']"
   ]
  },
  {
   "cell_type": "code",
   "execution_count": 91,
   "metadata": {},
   "outputs": [
    {
     "data": {
      "text/plain": [
       "0"
      ]
     },
     "execution_count": 91,
     "metadata": {},
     "output_type": "execute_result"
    }
   ],
   "source": [
    "sidf['차량연식'].isnull().sum()"
   ]
  },
  {
   "cell_type": "code",
   "execution_count": 92,
   "metadata": {},
   "outputs": [
    {
     "data": {
      "text/plain": [
       "차령        0\n",
       "SI    46433\n",
       "dtype: int64"
      ]
     },
     "execution_count": 92,
     "metadata": {},
     "output_type": "execute_result"
    }
   ],
   "source": [
    "sidf[['차령', 'SI']].isnull().sum()"
   ]
  },
  {
   "cell_type": "code",
   "execution_count": 93,
   "metadata": {},
   "outputs": [
    {
     "data": {
      "text/plain": [
       "무부하매연측정치1    12545\n",
       "무부하매연허용치1    12546\n",
       "dtype: int64"
      ]
     },
     "execution_count": 93,
     "metadata": {},
     "output_type": "execute_result"
    }
   ],
   "source": [
    "sidf[['무부하매연측정치1', '무부하매연허용치1']].isnull().sum()"
   ]
  },
  {
   "cell_type": "code",
   "execution_count": 94,
   "metadata": {},
   "outputs": [
    {
     "data": {
      "text/html": [
       "<div>\n",
       "<style scoped>\n",
       "    .dataframe tbody tr th:only-of-type {\n",
       "        vertical-align: middle;\n",
       "    }\n",
       "\n",
       "    .dataframe tbody tr th {\n",
       "        vertical-align: top;\n",
       "    }\n",
       "\n",
       "    .dataframe thead th {\n",
       "        text-align: right;\n",
       "    }\n",
       "</style>\n",
       "<table border=\"1\" class=\"dataframe\">\n",
       "  <thead>\n",
       "    <tr style=\"text-align: right;\">\n",
       "      <th></th>\n",
       "      <th>차대번호</th>\n",
       "      <th>제원관리번호</th>\n",
       "      <th>차종</th>\n",
       "      <th>차량연식</th>\n",
       "      <th>차명</th>\n",
       "      <th>차종유형</th>\n",
       "      <th>제작사명</th>\n",
       "      <th>연료</th>\n",
       "      <th>법정동코드</th>\n",
       "      <th>배출가스인증번호</th>\n",
       "      <th>검사방법</th>\n",
       "      <th>검사종류</th>\n",
       "      <th>검사판정</th>\n",
       "      <th>주행거리</th>\n",
       "      <th>무부하매연판정1</th>\n",
       "      <th>무부하매연허용치1</th>\n",
       "      <th>무부하매연측정치1</th>\n",
       "      <th>차령</th>\n",
       "      <th>SI</th>\n",
       "    </tr>\n",
       "  </thead>\n",
       "  <tbody>\n",
       "    <tr>\n",
       "      <th>0</th>\n",
       "      <td>KMFZSX7JABU684137</td>\n",
       "      <td>A0810006209153110</td>\n",
       "      <td>화물</td>\n",
       "      <td>2011</td>\n",
       "      <td>포터Ⅱ(PORTERⅡ)</td>\n",
       "      <td>소형</td>\n",
       "      <td>현대자동차(주)</td>\n",
       "      <td>경유</td>\n",
       "      <td>4374000000</td>\n",
       "      <td>nan</td>\n",
       "      <td>무부하검사(급가속)</td>\n",
       "      <td>정기검사</td>\n",
       "      <td>Y</td>\n",
       "      <td>223409.00</td>\n",
       "      <td>Y</td>\n",
       "      <td>20.00</td>\n",
       "      <td>16.00</td>\n",
       "      <td>12</td>\n",
       "      <td>0.80</td>\n",
       "    </tr>\n",
       "    <tr>\n",
       "      <th>1</th>\n",
       "      <td>KNCSE06428K344169</td>\n",
       "      <td>A0110003113533107</td>\n",
       "      <td>화물</td>\n",
       "      <td>2008</td>\n",
       "      <td>봉고Ⅲ 1톤</td>\n",
       "      <td>소형</td>\n",
       "      <td>기아자동차(주)</td>\n",
       "      <td>경유</td>\n",
       "      <td>4374000000</td>\n",
       "      <td>nan</td>\n",
       "      <td>NaN</td>\n",
       "      <td>NaN</td>\n",
       "      <td>NaN</td>\n",
       "      <td>NaN</td>\n",
       "      <td>NaN</td>\n",
       "      <td>NaN</td>\n",
       "      <td>NaN</td>\n",
       "      <td>15</td>\n",
       "      <td>NaN</td>\n",
       "    </tr>\n",
       "    <tr>\n",
       "      <th>2</th>\n",
       "      <td>KMCGK17HP9C112030</td>\n",
       "      <td>A0810005008143209</td>\n",
       "      <td>화물</td>\n",
       "      <td>2009</td>\n",
       "      <td>마이티군물자수송트럭</td>\n",
       "      <td>중형</td>\n",
       "      <td>현대자동차(주)</td>\n",
       "      <td>경유</td>\n",
       "      <td>4518000000</td>\n",
       "      <td>7MY-HD-24-28</td>\n",
       "      <td>무부하검사(급가속)</td>\n",
       "      <td>정기(경과)검사</td>\n",
       "      <td>Y</td>\n",
       "      <td>79425.00</td>\n",
       "      <td>Y</td>\n",
       "      <td>20.00</td>\n",
       "      <td>5.00</td>\n",
       "      <td>14</td>\n",
       "      <td>0.25</td>\n",
       "    </tr>\n",
       "    <tr>\n",
       "      <th>3</th>\n",
       "      <td>KNCSE01429K388374</td>\n",
       "      <td>A0110003115353108</td>\n",
       "      <td>화물</td>\n",
       "      <td>2009</td>\n",
       "      <td>봉고Ⅲ 1톤</td>\n",
       "      <td>소형</td>\n",
       "      <td>기아자동차(주)</td>\n",
       "      <td>경유</td>\n",
       "      <td>2771000000</td>\n",
       "      <td>7MY-KM-14-65</td>\n",
       "      <td>부하검사(KD-147)</td>\n",
       "      <td>2부재검사(종합)</td>\n",
       "      <td>Y</td>\n",
       "      <td>50589.00</td>\n",
       "      <td>Y</td>\n",
       "      <td>15.00</td>\n",
       "      <td>14.00</td>\n",
       "      <td>14</td>\n",
       "      <td>0.93</td>\n",
       "    </tr>\n",
       "    <tr>\n",
       "      <th>4</th>\n",
       "      <td>KNFSE0A439K387582</td>\n",
       "      <td>A0110003116073108</td>\n",
       "      <td>화물</td>\n",
       "      <td>2009</td>\n",
       "      <td>봉고Ⅲ 냉동차</td>\n",
       "      <td>소형</td>\n",
       "      <td>기아자동차(주)</td>\n",
       "      <td>경유</td>\n",
       "      <td>3020000000</td>\n",
       "      <td>7MY-KM-14-65</td>\n",
       "      <td>부하검사(KD-147)</td>\n",
       "      <td>종합검사</td>\n",
       "      <td>Y</td>\n",
       "      <td>151328.00</td>\n",
       "      <td>Y</td>\n",
       "      <td>15.00</td>\n",
       "      <td>0.00</td>\n",
       "      <td>14</td>\n",
       "      <td>0.00</td>\n",
       "    </tr>\n",
       "  </tbody>\n",
       "</table>\n",
       "</div>"
      ],
      "text/plain": [
       "                차대번호             제원관리번호  차종  차량연식            차명 차종유형   \n",
       "0  KMFZSX7JABU684137  A0810006209153110  화물  2011  포터Ⅱ(PORTERⅡ)   소형  \\\n",
       "1  KNCSE06428K344169  A0110003113533107  화물  2008        봉고Ⅲ 1톤   소형   \n",
       "2  KMCGK17HP9C112030  A0810005008143209  화물  2009    마이티군물자수송트럭   중형   \n",
       "3  KNCSE01429K388374  A0110003115353108  화물  2009        봉고Ⅲ 1톤   소형   \n",
       "4  KNFSE0A439K387582  A0110003116073108  화물  2009       봉고Ⅲ 냉동차   소형   \n",
       "\n",
       "       제작사명  연료       법정동코드      배출가스인증번호          검사방법       검사종류 검사판정   \n",
       "0  현대자동차(주)  경유  4374000000           nan    무부하검사(급가속)       정기검사    Y  \\\n",
       "1  기아자동차(주)  경유  4374000000           nan           NaN        NaN  NaN   \n",
       "2  현대자동차(주)  경유  4518000000  7MY-HD-24-28    무부하검사(급가속)   정기(경과)검사    Y   \n",
       "3  기아자동차(주)  경유  2771000000  7MY-KM-14-65  부하검사(KD-147)  2부재검사(종합)    Y   \n",
       "4  기아자동차(주)  경유  3020000000  7MY-KM-14-65  부하검사(KD-147)       종합검사    Y   \n",
       "\n",
       "       주행거리 무부하매연판정1  무부하매연허용치1  무부하매연측정치1  차령   SI  \n",
       "0 223409.00        Y      20.00      16.00  12 0.80  \n",
       "1       NaN      NaN        NaN        NaN  15  NaN  \n",
       "2  79425.00        Y      20.00       5.00  14 0.25  \n",
       "3  50589.00        Y      15.00      14.00  14 0.93  \n",
       "4 151328.00        Y      15.00       0.00  14 0.00  "
      ]
     },
     "execution_count": 94,
     "metadata": {},
     "output_type": "execute_result"
    }
   ],
   "source": [
    "sidf.head()"
   ]
  },
  {
   "cell_type": "markdown",
   "metadata": {},
   "source": [
    "### 경유만 추출"
   ]
  },
  {
   "cell_type": "code",
   "execution_count": 95,
   "metadata": {},
   "outputs": [
    {
     "data": {
      "text/plain": [
       "'20230823'"
      ]
     },
     "execution_count": 95,
     "metadata": {},
     "output_type": "execute_result"
    }
   ],
   "source": [
    "today_date = datetime.today().strftime(\"%Y%m%d\")\n",
    "today_date"
   ]
  },
  {
   "cell_type": "code",
   "execution_count": 96,
   "metadata": {},
   "outputs": [
    {
     "name": "stderr",
     "output_type": "stream",
     "text": [
      "C:\\Users\\kbjung\\AppData\\Local\\Temp\\ipykernel_18100\\3010636050.py:1: SettingWithCopyWarning: \n",
      "A value is trying to be set on a copy of a slice from a DataFrame.\n",
      "Try using .loc[row_indexer,col_indexer] = value instead\n",
      "\n",
      "See the caveats in the documentation: https://pandas.pydata.org/pandas-docs/stable/user_guide/indexing.html#returning-a-view-versus-a-copy\n",
      "  sidf['테이블생성일자'] = today_date\n"
     ]
    }
   ],
   "source": [
    "sidf['테이블생성일자'] = today_date"
   ]
  },
  {
   "cell_type": "code",
   "execution_count": 97,
   "metadata": {},
   "outputs": [],
   "source": [
    "sidf1 = sidf[[\n",
    "    '테이블생성일자', \n",
    "    '차대번호', \n",
    "    '제원관리번호', \n",
    "    '차명', \n",
    "    '제작사명', \n",
    "    '배출가스인증번호', \n",
    "    '검사방법',\n",
    "    '주행거리', \n",
    "    '차령',\n",
    "    'SI', \n",
    "    ]]"
   ]
  },
  {
   "cell_type": "code",
   "execution_count": 98,
   "metadata": {},
   "outputs": [],
   "source": [
    "chc_dict = {\n",
    "    '테이블생성일자':'LOAD_DT',\n",
    "    '차대번호':'VIN', \n",
    "    '제원관리번호':'MANG_MNG_NO', \n",
    "    '차종':'VHCTY_CD', \n",
    "    '연식':'YRIDNW', \n",
    "    '차명':'VHCNM',\n",
    "    '제작사명':'MNFCTR_NM', \n",
    "    '차종유형':'VHCTY_TY', \n",
    "    '연료':'FUEL_CD',\n",
    "    '법정동코드':'STDG_CD', \n",
    "    '배출가스인증번호':'EXHST_GAS_CERT_NO_MOD', \n",
    "    '검사방법':'INSP_MTHD', \n",
    "    '검사종류':'INSP_KND', \n",
    "    '검사판정':'INSP_JGMT', \n",
    "    '주행거리':'DRVNG_DSTNC',\n",
    "    '무부하매연판정1':'NOLOD_SMO_JGMT_YN1',\n",
    "    '무부하매연허용치1':'NOLOD_SMO_PRMT_VAL1',\n",
    "    '무부하매연측정치1':'NOLOD_SMO_MEVLU1', \n",
    "    '차령':'VHCAG',\n",
    "    }"
   ]
  },
  {
   "cell_type": "code",
   "execution_count": 99,
   "metadata": {},
   "outputs": [
    {
     "data": {
      "text/plain": [
       "Index(['LOAD_DT', 'VIN', 'MANG_MNG_NO', 'VHCNM', 'MNFCTR_NM',\n",
       "       'EXHST_GAS_CERT_NO_MOD', 'INSP_MTHD', 'DRVNG_DSTNC', 'VHCAG', 'SI'],\n",
       "      dtype='object')"
      ]
     },
     "execution_count": 99,
     "metadata": {},
     "output_type": "execute_result"
    }
   ],
   "source": [
    "STD_BD_GRD4_SI = sidf1.rename(columns=chc_dict)\n",
    "STD_BD_GRD4_SI.columns"
   ]
  },
  {
   "cell_type": "code",
   "execution_count": 100,
   "metadata": {},
   "outputs": [
    {
     "data": {
      "text/html": [
       "<div>\n",
       "<style scoped>\n",
       "    .dataframe tbody tr th:only-of-type {\n",
       "        vertical-align: middle;\n",
       "    }\n",
       "\n",
       "    .dataframe tbody tr th {\n",
       "        vertical-align: top;\n",
       "    }\n",
       "\n",
       "    .dataframe thead th {\n",
       "        text-align: right;\n",
       "    }\n",
       "</style>\n",
       "<table border=\"1\" class=\"dataframe\">\n",
       "  <thead>\n",
       "    <tr style=\"text-align: right;\">\n",
       "      <th></th>\n",
       "      <th>LOAD_DT</th>\n",
       "      <th>VIN</th>\n",
       "      <th>MANG_MNG_NO</th>\n",
       "      <th>VHCNM</th>\n",
       "      <th>MNFCTR_NM</th>\n",
       "      <th>EXHST_GAS_CERT_NO_MOD</th>\n",
       "      <th>INSP_MTHD</th>\n",
       "      <th>DRVNG_DSTNC</th>\n",
       "      <th>VHCAG</th>\n",
       "      <th>SI</th>\n",
       "    </tr>\n",
       "  </thead>\n",
       "  <tbody>\n",
       "    <tr>\n",
       "      <th>0</th>\n",
       "      <td>20230823</td>\n",
       "      <td>KMFZSX7JABU684137</td>\n",
       "      <td>A0810006209153110</td>\n",
       "      <td>포터Ⅱ(PORTERⅡ)</td>\n",
       "      <td>현대자동차(주)</td>\n",
       "      <td>nan</td>\n",
       "      <td>무부하검사(급가속)</td>\n",
       "      <td>223409.00</td>\n",
       "      <td>12</td>\n",
       "      <td>0.80</td>\n",
       "    </tr>\n",
       "    <tr>\n",
       "      <th>1</th>\n",
       "      <td>20230823</td>\n",
       "      <td>KNCSE06428K344169</td>\n",
       "      <td>A0110003113533107</td>\n",
       "      <td>봉고Ⅲ 1톤</td>\n",
       "      <td>기아자동차(주)</td>\n",
       "      <td>nan</td>\n",
       "      <td>NaN</td>\n",
       "      <td>NaN</td>\n",
       "      <td>15</td>\n",
       "      <td>NaN</td>\n",
       "    </tr>\n",
       "    <tr>\n",
       "      <th>2</th>\n",
       "      <td>20230823</td>\n",
       "      <td>KMCGK17HP9C112030</td>\n",
       "      <td>A0810005008143209</td>\n",
       "      <td>마이티군물자수송트럭</td>\n",
       "      <td>현대자동차(주)</td>\n",
       "      <td>7MY-HD-24-28</td>\n",
       "      <td>무부하검사(급가속)</td>\n",
       "      <td>79425.00</td>\n",
       "      <td>14</td>\n",
       "      <td>0.25</td>\n",
       "    </tr>\n",
       "    <tr>\n",
       "      <th>3</th>\n",
       "      <td>20230823</td>\n",
       "      <td>KNCSE01429K388374</td>\n",
       "      <td>A0110003115353108</td>\n",
       "      <td>봉고Ⅲ 1톤</td>\n",
       "      <td>기아자동차(주)</td>\n",
       "      <td>7MY-KM-14-65</td>\n",
       "      <td>부하검사(KD-147)</td>\n",
       "      <td>50589.00</td>\n",
       "      <td>14</td>\n",
       "      <td>0.93</td>\n",
       "    </tr>\n",
       "    <tr>\n",
       "      <th>4</th>\n",
       "      <td>20230823</td>\n",
       "      <td>KNFSE0A439K387582</td>\n",
       "      <td>A0110003116073108</td>\n",
       "      <td>봉고Ⅲ 냉동차</td>\n",
       "      <td>기아자동차(주)</td>\n",
       "      <td>7MY-KM-14-65</td>\n",
       "      <td>부하검사(KD-147)</td>\n",
       "      <td>151328.00</td>\n",
       "      <td>14</td>\n",
       "      <td>0.00</td>\n",
       "    </tr>\n",
       "  </tbody>\n",
       "</table>\n",
       "</div>"
      ],
      "text/plain": [
       "    LOAD_DT                VIN        MANG_MNG_NO         VHCNM MNFCTR_NM   \n",
       "0  20230823  KMFZSX7JABU684137  A0810006209153110  포터Ⅱ(PORTERⅡ)  현대자동차(주)  \\\n",
       "1  20230823  KNCSE06428K344169  A0110003113533107        봉고Ⅲ 1톤  기아자동차(주)   \n",
       "2  20230823  KMCGK17HP9C112030  A0810005008143209    마이티군물자수송트럭  현대자동차(주)   \n",
       "3  20230823  KNCSE01429K388374  A0110003115353108        봉고Ⅲ 1톤  기아자동차(주)   \n",
       "4  20230823  KNFSE0A439K387582  A0110003116073108       봉고Ⅲ 냉동차  기아자동차(주)   \n",
       "\n",
       "  EXHST_GAS_CERT_NO_MOD     INSP_MTHD  DRVNG_DSTNC  VHCAG   SI  \n",
       "0                   nan    무부하검사(급가속)    223409.00     12 0.80  \n",
       "1                   nan           NaN          NaN     15  NaN  \n",
       "2          7MY-HD-24-28    무부하검사(급가속)     79425.00     14 0.25  \n",
       "3          7MY-KM-14-65  부하검사(KD-147)     50589.00     14 0.93  \n",
       "4          7MY-KM-14-65  부하검사(KD-147)    151328.00     14 0.00  "
      ]
     },
     "execution_count": 100,
     "metadata": {},
     "output_type": "execute_result"
    }
   ],
   "source": [
    "STD_BD_GRD4_SI.head()"
   ]
  },
  {
   "cell_type": "code",
   "execution_count": 101,
   "metadata": {},
   "outputs": [
    {
     "data": {
      "text/plain": [
       "(1052707, 10)"
      ]
     },
     "execution_count": 101,
     "metadata": {},
     "output_type": "execute_result"
    }
   ],
   "source": [
    "STD_BD_GRD4_SI.shape"
   ]
  },
  {
   "cell_type": "markdown",
   "metadata": {},
   "source": [
    "### [출력] SI 지수 정보(STD_BD_GRD4_SI)"
   ]
  },
  {
   "cell_type": "code",
   "execution_count": 98,
   "metadata": {},
   "outputs": [],
   "source": [
    "# expdf = STD_BD_GRD4_SI\n",
    "# table_nm = 'STD_BD_GRD4_SI'.upper()\n",
    "\n",
    "# # 테이블 생성\n",
    "# sql = 'create or replace table ' + table_nm + '( \\n'\n",
    "\n",
    "# for idx,column in enumerate(expdf.columns):\n",
    "#     if 'float' in expdf[column].dtype.name:\n",
    "#         sql += column + ' float'\n",
    "#     elif 'int' in expdf[column].dtype.name:\n",
    "#         sql += column + ' number'\n",
    "#     else:\n",
    "#         sql += column + ' varchar(255)'\n",
    "\n",
    "#     if len(expdf.columns) - 1 != idx:\n",
    "#         sql += ','\n",
    "#     sql += '\\n'\n",
    "# sql += ')'    \n",
    "# we.execute(sql)\n",
    "\n",
    "# # 데이터 추가\n",
    "# # 6s\n",
    "# we.import_from_pandas(expdf, table_nm)"
   ]
  },
  {
   "cell_type": "code",
   "execution_count": 99,
   "metadata": {},
   "outputs": [],
   "source": [
    "# # 0s\n",
    "# STD_BD_GRD4_SI.to_csv(os.path.join(df1_fold, 'STD_BD_GRD4_SI.csv'), index=False)"
   ]
  },
  {
   "cell_type": "markdown",
   "metadata": {},
   "source": [
    "## 동일 배번에서 제번별 매연 boxplot"
   ]
  },
  {
   "cell_type": "code",
   "execution_count": 106,
   "metadata": {},
   "outputs": [
    {
     "data": {
      "text/plain": [
       "(27359, 13)"
      ]
     },
     "execution_count": 106,
     "metadata": {},
     "output_type": "execute_result"
    }
   ],
   "source": [
    "total_g_df1 = total_g_df.loc[total_g_df['배출가스인증번호'] != 'nan'] # !!! 수정(2023.08.23)\n",
    "total_g_df1.shape"
   ]
  },
  {
   "cell_type": "code",
   "execution_count": 108,
   "metadata": {},
   "outputs": [
    {
     "data": {
      "text/plain": [
       "200"
      ]
     },
     "execution_count": 108,
     "metadata": {},
     "output_type": "execute_result"
    }
   ],
   "source": [
    "len(total_g_df1['배출가스인증번호'].unique())"
   ]
  },
  {
   "cell_type": "code",
   "execution_count": 109,
   "metadata": {},
   "outputs": [
    {
     "data": {
      "text/plain": [
       "(1498, 13)"
      ]
     },
     "execution_count": 109,
     "metadata": {},
     "output_type": "execute_result"
    }
   ],
   "source": [
    "sample01 = total_g_df1.loc[total_g_df1['대수'] > 100].reset_index(drop=True)\n",
    "sample01.shape"
   ]
  },
  {
   "cell_type": "code",
   "execution_count": 111,
   "metadata": {},
   "outputs": [
    {
     "data": {
      "text/plain": [
       "200"
      ]
     },
     "execution_count": 111,
     "metadata": {},
     "output_type": "execute_result"
    }
   ],
   "source": [
    "len(total_g_df1['배출가스인증번호'].unique())"
   ]
  },
  {
   "cell_type": "code",
   "execution_count": 124,
   "metadata": {},
   "outputs": [
    {
     "data": {
      "text/plain": [
       "count   1040162.00\n",
       "mean          6.59\n",
       "std           8.48\n",
       "min          -1.00\n",
       "25%           1.00\n",
       "50%           5.00\n",
       "75%           9.00\n",
       "max         104.00\n",
       "Name: 무부하매연측정치1, dtype: float64"
      ]
     },
     "execution_count": 124,
     "metadata": {},
     "output_type": "execute_result"
    }
   ],
   "source": [
    "df3y['무부하매연측정치1'].describe()"
   ]
  },
  {
   "cell_type": "code",
   "execution_count": 123,
   "metadata": {},
   "outputs": [
    {
     "data": {
      "text/plain": [
       "1.0"
      ]
     },
     "execution_count": 123,
     "metadata": {},
     "output_type": "execute_result"
    }
   ],
   "source": [
    "df3y['무부하매연측정치1'].describe()['25%']"
   ]
  },
  {
   "cell_type": "markdown",
   "metadata": {},
   "source": [
    "### quantile"
   ]
  },
  {
   "cell_type": "markdown",
   "metadata": {},
   "source": [
    "#### !!! 확인중..."
   ]
  },
  {
   "cell_type": "code",
   "execution_count": 130,
   "metadata": {},
   "outputs": [
    {
     "data": {
      "text/html": [
       "<div>\n",
       "<style scoped>\n",
       "    .dataframe tbody tr th:only-of-type {\n",
       "        vertical-align: middle;\n",
       "    }\n",
       "\n",
       "    .dataframe tbody tr th {\n",
       "        vertical-align: top;\n",
       "    }\n",
       "\n",
       "    .dataframe thead tr th {\n",
       "        text-align: left;\n",
       "    }\n",
       "</style>\n",
       "<table border=\"1\" class=\"dataframe\">\n",
       "  <thead>\n",
       "    <tr>\n",
       "      <th></th>\n",
       "      <th>배출가스인증번호</th>\n",
       "      <th>검사종류</th>\n",
       "      <th>검사방법</th>\n",
       "      <th>제원관리번호</th>\n",
       "      <th colspan=\"3\" halign=\"left\">무부하매연측정치1</th>\n",
       "      <th>차대번호</th>\n",
       "    </tr>\n",
       "    <tr>\n",
       "      <th></th>\n",
       "      <th></th>\n",
       "      <th></th>\n",
       "      <th></th>\n",
       "      <th></th>\n",
       "      <th>&lt;lambda_0&gt;</th>\n",
       "      <th>&lt;lambda_1&gt;</th>\n",
       "      <th>&lt;lambda_2&gt;</th>\n",
       "      <th>count</th>\n",
       "    </tr>\n",
       "  </thead>\n",
       "  <tbody>\n",
       "    <tr>\n",
       "      <th>0</th>\n",
       "      <td>4MY-AD-20</td>\n",
       "      <td>2부재검사(종합)</td>\n",
       "      <td>무부하검사(급가속)</td>\n",
       "      <td>02420000100031305</td>\n",
       "      <td>27.75</td>\n",
       "      <td>29.50</td>\n",
       "      <td>31.25</td>\n",
       "      <td>2</td>\n",
       "    </tr>\n",
       "    <tr>\n",
       "      <th>1</th>\n",
       "      <td>4MY-AD-20</td>\n",
       "      <td>재검사(2부재검사)</td>\n",
       "      <td>무부하검사(급가속)</td>\n",
       "      <td>02420000100031305</td>\n",
       "      <td>19.00</td>\n",
       "      <td>19.00</td>\n",
       "      <td>19.00</td>\n",
       "      <td>1</td>\n",
       "    </tr>\n",
       "    <tr>\n",
       "      <th>2</th>\n",
       "      <td>4MY-AD-20</td>\n",
       "      <td>정기검사</td>\n",
       "      <td>무부하검사(급가속)</td>\n",
       "      <td>02420000100031305</td>\n",
       "      <td>16.25</td>\n",
       "      <td>23.00</td>\n",
       "      <td>25.25</td>\n",
       "      <td>4</td>\n",
       "    </tr>\n",
       "    <tr>\n",
       "      <th>3</th>\n",
       "      <td>4MY-AD-20</td>\n",
       "      <td>종합검사</td>\n",
       "      <td>무부하검사(급가속)</td>\n",
       "      <td>02420000100031305</td>\n",
       "      <td>3.75</td>\n",
       "      <td>9.50</td>\n",
       "      <td>14.50</td>\n",
       "      <td>12</td>\n",
       "    </tr>\n",
       "    <tr>\n",
       "      <th>4</th>\n",
       "      <td>4MY-AD-20</td>\n",
       "      <td>종합검사(경과)</td>\n",
       "      <td>무부하검사(급가속)</td>\n",
       "      <td>02420000100031305</td>\n",
       "      <td>14.00</td>\n",
       "      <td>17.00</td>\n",
       "      <td>17.00</td>\n",
       "      <td>3</td>\n",
       "    </tr>\n",
       "    <tr>\n",
       "      <th>...</th>\n",
       "      <td>...</td>\n",
       "      <td>...</td>\n",
       "      <td>...</td>\n",
       "      <td>...</td>\n",
       "      <td>...</td>\n",
       "      <td>...</td>\n",
       "      <td>...</td>\n",
       "      <td>...</td>\n",
       "    </tr>\n",
       "    <tr>\n",
       "      <th>22576</th>\n",
       "      <td>nan</td>\n",
       "      <td>종합검사(경과)</td>\n",
       "      <td>부하검사(LUG DOWN)</td>\n",
       "      <td>B4T10005300003308</td>\n",
       "      <td>8.00</td>\n",
       "      <td>8.00</td>\n",
       "      <td>8.00</td>\n",
       "      <td>1</td>\n",
       "    </tr>\n",
       "    <tr>\n",
       "      <th>22577</th>\n",
       "      <td>nan</td>\n",
       "      <td>종합검사(경과)</td>\n",
       "      <td>부하검사(LUG DOWN)</td>\n",
       "      <td>B4V10002400004307</td>\n",
       "      <td>2.00</td>\n",
       "      <td>2.00</td>\n",
       "      <td>2.00</td>\n",
       "      <td>1</td>\n",
       "    </tr>\n",
       "    <tr>\n",
       "      <th>22578</th>\n",
       "      <td>nan</td>\n",
       "      <td>종합검사(경과)</td>\n",
       "      <td>부하검사(LUG DOWN)</td>\n",
       "      <td>B8E10002400003306</td>\n",
       "      <td>10.00</td>\n",
       "      <td>10.00</td>\n",
       "      <td>10.00</td>\n",
       "      <td>1</td>\n",
       "    </tr>\n",
       "    <tr>\n",
       "      <th>22579</th>\n",
       "      <td>nan</td>\n",
       "      <td>종합검사(경과)</td>\n",
       "      <td>부하검사(LUG DOWN)</td>\n",
       "      <td>B8W20002200003308</td>\n",
       "      <td>9.00</td>\n",
       "      <td>9.00</td>\n",
       "      <td>9.00</td>\n",
       "      <td>1</td>\n",
       "    </tr>\n",
       "    <tr>\n",
       "      <th>22580</th>\n",
       "      <td>nan</td>\n",
       "      <td>종합검사(경과)</td>\n",
       "      <td>부하검사(LUG DOWN)</td>\n",
       "      <td>B9G10003400003307</td>\n",
       "      <td>5.00</td>\n",
       "      <td>5.00</td>\n",
       "      <td>5.00</td>\n",
       "      <td>1</td>\n",
       "    </tr>\n",
       "  </tbody>\n",
       "</table>\n",
       "<p>22581 rows × 8 columns</p>\n",
       "</div>"
      ],
      "text/plain": [
       "        배출가스인증번호        검사종류            검사방법             제원관리번호  무부하매연측정치1   \n",
       "                                                                <lambda_0>   \n",
       "0      4MY-AD-20   2부재검사(종합)      무부하검사(급가속)  02420000100031305      27.75  \\\n",
       "1      4MY-AD-20  재검사(2부재검사)      무부하검사(급가속)  02420000100031305      19.00   \n",
       "2      4MY-AD-20        정기검사      무부하검사(급가속)  02420000100031305      16.25   \n",
       "3      4MY-AD-20        종합검사      무부하검사(급가속)  02420000100031305       3.75   \n",
       "4      4MY-AD-20    종합검사(경과)      무부하검사(급가속)  02420000100031305      14.00   \n",
       "...          ...         ...             ...                ...        ...   \n",
       "22576        nan    종합검사(경과)  부하검사(LUG DOWN)  B4T10005300003308       8.00   \n",
       "22577        nan    종합검사(경과)  부하검사(LUG DOWN)  B4V10002400004307       2.00   \n",
       "22578        nan    종합검사(경과)  부하검사(LUG DOWN)  B8E10002400003306      10.00   \n",
       "22579        nan    종합검사(경과)  부하검사(LUG DOWN)  B8W20002200003308       9.00   \n",
       "22580        nan    종합검사(경과)  부하검사(LUG DOWN)  B9G10003400003307       5.00   \n",
       "\n",
       "                             차대번호  \n",
       "      <lambda_1> <lambda_2> count  \n",
       "0          29.50      31.25     2  \n",
       "1          19.00      19.00     1  \n",
       "2          23.00      25.25     4  \n",
       "3           9.50      14.50    12  \n",
       "4          17.00      17.00     3  \n",
       "...          ...        ...   ...  \n",
       "22576       8.00       8.00     1  \n",
       "22577       2.00       2.00     1  \n",
       "22578      10.00      10.00     1  \n",
       "22579       9.00       9.00     1  \n",
       "22580       5.00       5.00     1  \n",
       "\n",
       "[22581 rows x 8 columns]"
      ]
     },
     "execution_count": 130,
     "metadata": {},
     "output_type": "execute_result"
    }
   ],
   "source": [
    "# 22s\n",
    "temp = df3y.groupby(['배출가스인증번호', '검사종류', '검사방법', '제원관리번호']).agg({'무부하매연측정치1':[ lambda x:x.describe()['25%'], lambda x:x.describe()['50%'], lambda x:x.describe()['75%'] ], '차대번호':'count'}).reset_index()\n",
    "temp"
   ]
  },
  {
   "cell_type": "code",
   "execution_count": 133,
   "metadata": {},
   "outputs": [
    {
     "data": {
      "text/html": [
       "<div>\n",
       "<style scoped>\n",
       "    .dataframe tbody tr th:only-of-type {\n",
       "        vertical-align: middle;\n",
       "    }\n",
       "\n",
       "    .dataframe tbody tr th {\n",
       "        vertical-align: top;\n",
       "    }\n",
       "\n",
       "    .dataframe thead th {\n",
       "        text-align: right;\n",
       "    }\n",
       "</style>\n",
       "<table border=\"1\" class=\"dataframe\">\n",
       "  <thead>\n",
       "    <tr style=\"text-align: right;\">\n",
       "      <th></th>\n",
       "      <th>배출가스인증번호</th>\n",
       "      <th>검사종류</th>\n",
       "      <th>검사방법</th>\n",
       "      <th>제원관리번호</th>\n",
       "      <th>q1</th>\n",
       "      <th>q2</th>\n",
       "      <th>q3</th>\n",
       "      <th>차량대수</th>\n",
       "    </tr>\n",
       "  </thead>\n",
       "  <tbody>\n",
       "    <tr>\n",
       "      <th>0</th>\n",
       "      <td>4MY-AD-20</td>\n",
       "      <td>2부재검사(종합)</td>\n",
       "      <td>무부하검사(급가속)</td>\n",
       "      <td>02420000100031305</td>\n",
       "      <td>27.75</td>\n",
       "      <td>29.50</td>\n",
       "      <td>31.25</td>\n",
       "      <td>2</td>\n",
       "    </tr>\n",
       "    <tr>\n",
       "      <th>1</th>\n",
       "      <td>4MY-AD-20</td>\n",
       "      <td>재검사(2부재검사)</td>\n",
       "      <td>무부하검사(급가속)</td>\n",
       "      <td>02420000100031305</td>\n",
       "      <td>19.00</td>\n",
       "      <td>19.00</td>\n",
       "      <td>19.00</td>\n",
       "      <td>1</td>\n",
       "    </tr>\n",
       "    <tr>\n",
       "      <th>2</th>\n",
       "      <td>4MY-AD-20</td>\n",
       "      <td>정기검사</td>\n",
       "      <td>무부하검사(급가속)</td>\n",
       "      <td>02420000100031305</td>\n",
       "      <td>16.25</td>\n",
       "      <td>23.00</td>\n",
       "      <td>25.25</td>\n",
       "      <td>4</td>\n",
       "    </tr>\n",
       "    <tr>\n",
       "      <th>3</th>\n",
       "      <td>4MY-AD-20</td>\n",
       "      <td>종합검사</td>\n",
       "      <td>무부하검사(급가속)</td>\n",
       "      <td>02420000100031305</td>\n",
       "      <td>3.75</td>\n",
       "      <td>9.50</td>\n",
       "      <td>14.50</td>\n",
       "      <td>12</td>\n",
       "    </tr>\n",
       "    <tr>\n",
       "      <th>4</th>\n",
       "      <td>4MY-AD-20</td>\n",
       "      <td>종합검사(경과)</td>\n",
       "      <td>무부하검사(급가속)</td>\n",
       "      <td>02420000100031305</td>\n",
       "      <td>14.00</td>\n",
       "      <td>17.00</td>\n",
       "      <td>17.00</td>\n",
       "      <td>3</td>\n",
       "    </tr>\n",
       "    <tr>\n",
       "      <th>...</th>\n",
       "      <td>...</td>\n",
       "      <td>...</td>\n",
       "      <td>...</td>\n",
       "      <td>...</td>\n",
       "      <td>...</td>\n",
       "      <td>...</td>\n",
       "      <td>...</td>\n",
       "      <td>...</td>\n",
       "    </tr>\n",
       "    <tr>\n",
       "      <th>22576</th>\n",
       "      <td>nan</td>\n",
       "      <td>종합검사(경과)</td>\n",
       "      <td>부하검사(LUG DOWN)</td>\n",
       "      <td>B4T10005300003308</td>\n",
       "      <td>8.00</td>\n",
       "      <td>8.00</td>\n",
       "      <td>8.00</td>\n",
       "      <td>1</td>\n",
       "    </tr>\n",
       "    <tr>\n",
       "      <th>22577</th>\n",
       "      <td>nan</td>\n",
       "      <td>종합검사(경과)</td>\n",
       "      <td>부하검사(LUG DOWN)</td>\n",
       "      <td>B4V10002400004307</td>\n",
       "      <td>2.00</td>\n",
       "      <td>2.00</td>\n",
       "      <td>2.00</td>\n",
       "      <td>1</td>\n",
       "    </tr>\n",
       "    <tr>\n",
       "      <th>22578</th>\n",
       "      <td>nan</td>\n",
       "      <td>종합검사(경과)</td>\n",
       "      <td>부하검사(LUG DOWN)</td>\n",
       "      <td>B8E10002400003306</td>\n",
       "      <td>10.00</td>\n",
       "      <td>10.00</td>\n",
       "      <td>10.00</td>\n",
       "      <td>1</td>\n",
       "    </tr>\n",
       "    <tr>\n",
       "      <th>22579</th>\n",
       "      <td>nan</td>\n",
       "      <td>종합검사(경과)</td>\n",
       "      <td>부하검사(LUG DOWN)</td>\n",
       "      <td>B8W20002200003308</td>\n",
       "      <td>9.00</td>\n",
       "      <td>9.00</td>\n",
       "      <td>9.00</td>\n",
       "      <td>1</td>\n",
       "    </tr>\n",
       "    <tr>\n",
       "      <th>22580</th>\n",
       "      <td>nan</td>\n",
       "      <td>종합검사(경과)</td>\n",
       "      <td>부하검사(LUG DOWN)</td>\n",
       "      <td>B9G10003400003307</td>\n",
       "      <td>5.00</td>\n",
       "      <td>5.00</td>\n",
       "      <td>5.00</td>\n",
       "      <td>1</td>\n",
       "    </tr>\n",
       "  </tbody>\n",
       "</table>\n",
       "<p>22581 rows × 8 columns</p>\n",
       "</div>"
      ],
      "text/plain": [
       "        배출가스인증번호        검사종류            검사방법             제원관리번호    q1    q2   \n",
       "0      4MY-AD-20   2부재검사(종합)      무부하검사(급가속)  02420000100031305 27.75 29.50  \\\n",
       "1      4MY-AD-20  재검사(2부재검사)      무부하검사(급가속)  02420000100031305 19.00 19.00   \n",
       "2      4MY-AD-20        정기검사      무부하검사(급가속)  02420000100031305 16.25 23.00   \n",
       "3      4MY-AD-20        종합검사      무부하검사(급가속)  02420000100031305  3.75  9.50   \n",
       "4      4MY-AD-20    종합검사(경과)      무부하검사(급가속)  02420000100031305 14.00 17.00   \n",
       "...          ...         ...             ...                ...   ...   ...   \n",
       "22576        nan    종합검사(경과)  부하검사(LUG DOWN)  B4T10005300003308  8.00  8.00   \n",
       "22577        nan    종합검사(경과)  부하검사(LUG DOWN)  B4V10002400004307  2.00  2.00   \n",
       "22578        nan    종합검사(경과)  부하검사(LUG DOWN)  B8E10002400003306 10.00 10.00   \n",
       "22579        nan    종합검사(경과)  부하검사(LUG DOWN)  B8W20002200003308  9.00  9.00   \n",
       "22580        nan    종합검사(경과)  부하검사(LUG DOWN)  B9G10003400003307  5.00  5.00   \n",
       "\n",
       "         q3  차량대수  \n",
       "0     31.25     2  \n",
       "1     19.00     1  \n",
       "2     25.25     4  \n",
       "3     14.50    12  \n",
       "4     17.00     3  \n",
       "...     ...   ...  \n",
       "22576  8.00     1  \n",
       "22577  2.00     1  \n",
       "22578 10.00     1  \n",
       "22579  9.00     1  \n",
       "22580  5.00     1  \n",
       "\n",
       "[22581 rows x 8 columns]"
      ]
     },
     "execution_count": 133,
     "metadata": {},
     "output_type": "execute_result"
    }
   ],
   "source": [
    "temp.columns = ['배출가스인증번호', '검사종류', '검사방법', '제원관리번호', 'q1', 'q2', 'q3', '차량대수']\n",
    "temp"
   ]
  },
  {
   "cell_type": "code",
   "execution_count": 134,
   "metadata": {},
   "outputs": [
    {
     "data": {
      "text/plain": [
       "(1466, 8)"
      ]
     },
     "execution_count": 134,
     "metadata": {},
     "output_type": "execute_result"
    }
   ],
   "source": [
    "temp[temp['차량대수'] > 100].shape"
   ]
  },
  {
   "cell_type": "code",
   "execution_count": 137,
   "metadata": {},
   "outputs": [
    {
     "data": {
      "text/html": [
       "<div>\n",
       "<style scoped>\n",
       "    .dataframe tbody tr th:only-of-type {\n",
       "        vertical-align: middle;\n",
       "    }\n",
       "\n",
       "    .dataframe tbody tr th {\n",
       "        vertical-align: top;\n",
       "    }\n",
       "\n",
       "    .dataframe thead th {\n",
       "        text-align: right;\n",
       "    }\n",
       "</style>\n",
       "<table border=\"1\" class=\"dataframe\">\n",
       "  <thead>\n",
       "    <tr style=\"text-align: right;\">\n",
       "      <th></th>\n",
       "      <th>배출가스인증번호</th>\n",
       "      <th>검사종류</th>\n",
       "      <th>검사방법</th>\n",
       "      <th>제원관리번호</th>\n",
       "      <th>q1</th>\n",
       "      <th>q2</th>\n",
       "      <th>q3</th>\n",
       "      <th>차량대수</th>\n",
       "    </tr>\n",
       "  </thead>\n",
       "  <tbody>\n",
       "    <tr>\n",
       "      <th>53</th>\n",
       "      <td>5MY-AD-13-06</td>\n",
       "      <td>종합검사</td>\n",
       "      <td>무부하검사(급가속)</td>\n",
       "      <td>02420004800011305</td>\n",
       "      <td>0.00</td>\n",
       "      <td>0.00</td>\n",
       "      <td>0.00</td>\n",
       "      <td>116</td>\n",
       "    </tr>\n",
       "    <tr>\n",
       "      <th>111</th>\n",
       "      <td>5MY-AD-14-08</td>\n",
       "      <td>종합검사</td>\n",
       "      <td>부하검사(KD-147)</td>\n",
       "      <td>02420006800031206</td>\n",
       "      <td>0.00</td>\n",
       "      <td>0.00</td>\n",
       "      <td>1.00</td>\n",
       "      <td>181</td>\n",
       "    </tr>\n",
       "    <tr>\n",
       "      <th>114</th>\n",
       "      <td>5MY-AD-14-08</td>\n",
       "      <td>종합검사</td>\n",
       "      <td>부하검사(KD-147)</td>\n",
       "      <td>02420006800111207</td>\n",
       "      <td>0.00</td>\n",
       "      <td>0.00</td>\n",
       "      <td>0.00</td>\n",
       "      <td>231</td>\n",
       "    </tr>\n",
       "    <tr>\n",
       "      <th>167</th>\n",
       "      <td>5MY-AD-14-18</td>\n",
       "      <td>종합검사</td>\n",
       "      <td>부하검사(KD-147)</td>\n",
       "      <td>02420004900031207</td>\n",
       "      <td>0.00</td>\n",
       "      <td>0.00</td>\n",
       "      <td>1.00</td>\n",
       "      <td>279</td>\n",
       "    </tr>\n",
       "    <tr>\n",
       "      <th>168</th>\n",
       "      <td>5MY-AD-14-18</td>\n",
       "      <td>종합검사</td>\n",
       "      <td>부하검사(KD-147)</td>\n",
       "      <td>02420004900041208</td>\n",
       "      <td>0.00</td>\n",
       "      <td>0.00</td>\n",
       "      <td>1.00</td>\n",
       "      <td>450</td>\n",
       "    </tr>\n",
       "    <tr>\n",
       "      <th>170</th>\n",
       "      <td>5MY-AD-14-18</td>\n",
       "      <td>종합검사</td>\n",
       "      <td>부하검사(KD-147)</td>\n",
       "      <td>02420007000021207</td>\n",
       "      <td>0.00</td>\n",
       "      <td>0.00</td>\n",
       "      <td>1.00</td>\n",
       "      <td>122</td>\n",
       "    </tr>\n",
       "    <tr>\n",
       "      <th>288</th>\n",
       "      <td>5MY-HD-24-35</td>\n",
       "      <td>종합검사</td>\n",
       "      <td>부하검사(KD-147)</td>\n",
       "      <td>A0810006700341105</td>\n",
       "      <td>6.50</td>\n",
       "      <td>13.00</td>\n",
       "      <td>21.50</td>\n",
       "      <td>168</td>\n",
       "    </tr>\n",
       "    <tr>\n",
       "      <th>290</th>\n",
       "      <td>5MY-HD-24-35</td>\n",
       "      <td>종합검사</td>\n",
       "      <td>부하검사(KD-147)</td>\n",
       "      <td>A0810006700421105</td>\n",
       "      <td>7.00</td>\n",
       "      <td>11.00</td>\n",
       "      <td>22.00</td>\n",
       "      <td>137</td>\n",
       "    </tr>\n",
       "    <tr>\n",
       "      <th>341</th>\n",
       "      <td>5MY-HD-24-59</td>\n",
       "      <td>1부재검사(종합)</td>\n",
       "      <td>부하검사(KD-147)</td>\n",
       "      <td>A0810006300981205</td>\n",
       "      <td>0.00</td>\n",
       "      <td>1.00</td>\n",
       "      <td>5.00</td>\n",
       "      <td>108</td>\n",
       "    </tr>\n",
       "    <tr>\n",
       "      <th>346</th>\n",
       "      <td>5MY-HD-24-59</td>\n",
       "      <td>1부재검사(종합)</td>\n",
       "      <td>부하검사(KD-147)</td>\n",
       "      <td>A0810006301201206</td>\n",
       "      <td>0.00</td>\n",
       "      <td>2.00</td>\n",
       "      <td>5.00</td>\n",
       "      <td>154</td>\n",
       "    </tr>\n",
       "  </tbody>\n",
       "</table>\n",
       "</div>"
      ],
      "text/plain": [
       "         배출가스인증번호       검사종류          검사방법             제원관리번호   q1    q2   \n",
       "53   5MY-AD-13-06       종합검사    무부하검사(급가속)  02420004800011305 0.00  0.00  \\\n",
       "111  5MY-AD-14-08       종합검사  부하검사(KD-147)  02420006800031206 0.00  0.00   \n",
       "114  5MY-AD-14-08       종합검사  부하검사(KD-147)  02420006800111207 0.00  0.00   \n",
       "167  5MY-AD-14-18       종합검사  부하검사(KD-147)  02420004900031207 0.00  0.00   \n",
       "168  5MY-AD-14-18       종합검사  부하검사(KD-147)  02420004900041208 0.00  0.00   \n",
       "170  5MY-AD-14-18       종합검사  부하검사(KD-147)  02420007000021207 0.00  0.00   \n",
       "288  5MY-HD-24-35       종합검사  부하검사(KD-147)  A0810006700341105 6.50 13.00   \n",
       "290  5MY-HD-24-35       종합검사  부하검사(KD-147)  A0810006700421105 7.00 11.00   \n",
       "341  5MY-HD-24-59  1부재검사(종합)  부하검사(KD-147)  A0810006300981205 0.00  1.00   \n",
       "346  5MY-HD-24-59  1부재검사(종합)  부하검사(KD-147)  A0810006301201206 0.00  2.00   \n",
       "\n",
       "       q3  차량대수  \n",
       "53   0.00   116  \n",
       "111  1.00   181  \n",
       "114  0.00   231  \n",
       "167  1.00   279  \n",
       "168  1.00   450  \n",
       "170  1.00   122  \n",
       "288 21.50   168  \n",
       "290 22.00   137  \n",
       "341  5.00   108  \n",
       "346  5.00   154  "
      ]
     },
     "execution_count": 137,
     "metadata": {},
     "output_type": "execute_result"
    }
   ],
   "source": [
    "temp[temp['차량대수'] > 100].head(10)"
   ]
  },
  {
   "cell_type": "code",
   "execution_count": 136,
   "metadata": {},
   "outputs": [
    {
     "data": {
      "text/plain": [
       "728"
      ]
     },
     "execution_count": 136,
     "metadata": {},
     "output_type": "execute_result"
    }
   ],
   "source": [
    "len(temp.loc[temp['차량대수'] > 100, '제원관리번호'].unique())"
   ]
  },
  {
   "cell_type": "code",
   "execution_count": 138,
   "metadata": {},
   "outputs": [
    {
     "data": {
      "text/plain": [
       "(728, 8)"
      ]
     },
     "execution_count": 138,
     "metadata": {},
     "output_type": "execute_result"
    }
   ],
   "source": [
    "temp.loc[temp['차량대수'] > 100].drop_duplicates(['배출가스인증번호', '제원관리번호']).shape"
   ]
  },
  {
   "cell_type": "code",
   "execution_count": null,
   "metadata": {},
   "outputs": [],
   "source": []
  },
  {
   "cell_type": "code",
   "execution_count": 112,
   "metadata": {},
   "outputs": [],
   "source": [
    "# 4m 11.2s\n",
    "boxplot_df = pd.DataFrame()\n",
    "quantile_df = pd.DataFrame()\n",
    "for one in sample01['배출가스인증번호'].unique(): # 통계에서 100대 초과인 배인번호만 추출\n",
    "    temp_one = df3y.loc[(df3y['배출가스인증번호'] == one) & (df3y['검사판정'] == 'Y')].reset_index(drop=True) # 해당 배인번호 중 검사판정이 'Y'인 샘플만 추출\n",
    "    if temp_one.shape[0] > 100: # 100대 초과면 진행\n",
    "        for two in temp_one['검사종류'].unique(): # 검사종류별 샘플 추출\n",
    "            temp_two = temp_one.loc[temp_one['검사종류'] == two].reset_index(drop=True)\n",
    "            if temp_two.shape[0] > 100:\n",
    "                for three in temp_two['검사방법'].unique(): # 검사방법별 샘플 추출\n",
    "                    temp_three = temp_two.loc[temp_two['검사방법'] == three].reset_index(drop=True)\n",
    "                    boxplot_df = pd.concat([boxplot_df, temp_three], ignore_index=True) # 해당 샘플만 추출하여 쌓기\n",
    "                    if temp_three.shape[0] > 100:\n",
    "                        xticks_list= []\n",
    "                        data_list = []\n",
    "                        for four in temp_three['제원관리번호'].unique():\n",
    "                            temp_four = temp_three.loc[temp_three['제원관리번호'] == four].reset_index(drop=True).dropna(subset=['무부하매연측정치1'])\n",
    "                            if temp_four.shape[0] > 100:\n",
    "                                xticks_list.append(four)\n",
    "                                data_list.append(temp_four['무부하매연측정치1'])\n",
    "                                temp_four['q1'] = temp_four['무부하매연측정치1'].describe()['25%']\n",
    "                                temp_four['q2'] = temp_four['무부하매연측정치1'].describe()['50%']\n",
    "                                temp_four['q3'] = temp_four['무부하매연측정치1'].describe()['75%']\n",
    "                                temp_four['차량대수'] = temp_four.shape[0]\n",
    "                                quantile_df = pd.concat([quantile_df, temp_four], ignore_index=True) # 제번별 4분위 값 df형태로 저장"
   ]
  },
  {
   "cell_type": "code",
   "execution_count": 113,
   "metadata": {},
   "outputs": [
    {
     "data": {
      "text/plain": [
       "(794428, 42)"
      ]
     },
     "execution_count": 113,
     "metadata": {},
     "output_type": "execute_result"
    }
   ],
   "source": [
    "quantile_df.shape"
   ]
  },
  {
   "cell_type": "code",
   "execution_count": 132,
   "metadata": {},
   "outputs": [
    {
     "data": {
      "text/html": [
       "<div>\n",
       "<style scoped>\n",
       "    .dataframe tbody tr th:only-of-type {\n",
       "        vertical-align: middle;\n",
       "    }\n",
       "\n",
       "    .dataframe tbody tr th {\n",
       "        vertical-align: top;\n",
       "    }\n",
       "\n",
       "    .dataframe thead th {\n",
       "        text-align: right;\n",
       "    }\n",
       "</style>\n",
       "<table border=\"1\" class=\"dataframe\">\n",
       "  <thead>\n",
       "    <tr style=\"text-align: right;\">\n",
       "      <th></th>\n",
       "      <th>배출가스인증번호</th>\n",
       "      <th>제원관리번호</th>\n",
       "      <th>검사종류</th>\n",
       "      <th>검사방법</th>\n",
       "      <th>q1</th>\n",
       "      <th>q2</th>\n",
       "      <th>q3</th>\n",
       "      <th>차량대수</th>\n",
       "    </tr>\n",
       "  </thead>\n",
       "  <tbody>\n",
       "    <tr>\n",
       "      <th>0</th>\n",
       "      <td>7MY-HD-24-28</td>\n",
       "      <td>A0810005008503209</td>\n",
       "      <td>종합검사</td>\n",
       "      <td>부하검사(LUG DOWN)</td>\n",
       "      <td>5.00</td>\n",
       "      <td>8.00</td>\n",
       "      <td>11.00</td>\n",
       "      <td>332</td>\n",
       "    </tr>\n",
       "    <tr>\n",
       "      <th>1</th>\n",
       "      <td>7MY-HD-24-28</td>\n",
       "      <td>A0810005008503209</td>\n",
       "      <td>종합검사</td>\n",
       "      <td>부하검사(LUG DOWN)</td>\n",
       "      <td>5.00</td>\n",
       "      <td>8.00</td>\n",
       "      <td>11.00</td>\n",
       "      <td>332</td>\n",
       "    </tr>\n",
       "    <tr>\n",
       "      <th>2</th>\n",
       "      <td>7MY-HD-24-28</td>\n",
       "      <td>A0810005008503209</td>\n",
       "      <td>종합검사</td>\n",
       "      <td>부하검사(LUG DOWN)</td>\n",
       "      <td>5.00</td>\n",
       "      <td>8.00</td>\n",
       "      <td>11.00</td>\n",
       "      <td>332</td>\n",
       "    </tr>\n",
       "    <tr>\n",
       "      <th>3</th>\n",
       "      <td>7MY-HD-24-28</td>\n",
       "      <td>A0810005008503209</td>\n",
       "      <td>종합검사</td>\n",
       "      <td>부하검사(LUG DOWN)</td>\n",
       "      <td>5.00</td>\n",
       "      <td>8.00</td>\n",
       "      <td>11.00</td>\n",
       "      <td>332</td>\n",
       "    </tr>\n",
       "    <tr>\n",
       "      <th>4</th>\n",
       "      <td>7MY-HD-24-28</td>\n",
       "      <td>A0810005008503209</td>\n",
       "      <td>종합검사</td>\n",
       "      <td>부하검사(LUG DOWN)</td>\n",
       "      <td>5.00</td>\n",
       "      <td>8.00</td>\n",
       "      <td>11.00</td>\n",
       "      <td>332</td>\n",
       "    </tr>\n",
       "    <tr>\n",
       "      <th>5</th>\n",
       "      <td>7MY-HD-24-28</td>\n",
       "      <td>A0810005008503209</td>\n",
       "      <td>종합검사</td>\n",
       "      <td>부하검사(LUG DOWN)</td>\n",
       "      <td>5.00</td>\n",
       "      <td>8.00</td>\n",
       "      <td>11.00</td>\n",
       "      <td>332</td>\n",
       "    </tr>\n",
       "    <tr>\n",
       "      <th>6</th>\n",
       "      <td>7MY-HD-24-28</td>\n",
       "      <td>A0810005008503209</td>\n",
       "      <td>종합검사</td>\n",
       "      <td>부하검사(LUG DOWN)</td>\n",
       "      <td>5.00</td>\n",
       "      <td>8.00</td>\n",
       "      <td>11.00</td>\n",
       "      <td>332</td>\n",
       "    </tr>\n",
       "    <tr>\n",
       "      <th>7</th>\n",
       "      <td>7MY-HD-24-28</td>\n",
       "      <td>A0810005008503209</td>\n",
       "      <td>종합검사</td>\n",
       "      <td>부하검사(LUG DOWN)</td>\n",
       "      <td>5.00</td>\n",
       "      <td>8.00</td>\n",
       "      <td>11.00</td>\n",
       "      <td>332</td>\n",
       "    </tr>\n",
       "    <tr>\n",
       "      <th>8</th>\n",
       "      <td>7MY-HD-24-28</td>\n",
       "      <td>A0810005008503209</td>\n",
       "      <td>종합검사</td>\n",
       "      <td>부하검사(LUG DOWN)</td>\n",
       "      <td>5.00</td>\n",
       "      <td>8.00</td>\n",
       "      <td>11.00</td>\n",
       "      <td>332</td>\n",
       "    </tr>\n",
       "    <tr>\n",
       "      <th>9</th>\n",
       "      <td>7MY-HD-24-28</td>\n",
       "      <td>A0810005008503209</td>\n",
       "      <td>종합검사</td>\n",
       "      <td>부하검사(LUG DOWN)</td>\n",
       "      <td>5.00</td>\n",
       "      <td>8.00</td>\n",
       "      <td>11.00</td>\n",
       "      <td>332</td>\n",
       "    </tr>\n",
       "  </tbody>\n",
       "</table>\n",
       "</div>"
      ],
      "text/plain": [
       "       배출가스인증번호             제원관리번호  검사종류            검사방법   q1   q2    q3  차량대수\n",
       "0  7MY-HD-24-28  A0810005008503209  종합검사  부하검사(LUG DOWN) 5.00 8.00 11.00   332\n",
       "1  7MY-HD-24-28  A0810005008503209  종합검사  부하검사(LUG DOWN) 5.00 8.00 11.00   332\n",
       "2  7MY-HD-24-28  A0810005008503209  종합검사  부하검사(LUG DOWN) 5.00 8.00 11.00   332\n",
       "3  7MY-HD-24-28  A0810005008503209  종합검사  부하검사(LUG DOWN) 5.00 8.00 11.00   332\n",
       "4  7MY-HD-24-28  A0810005008503209  종합검사  부하검사(LUG DOWN) 5.00 8.00 11.00   332\n",
       "5  7MY-HD-24-28  A0810005008503209  종합검사  부하검사(LUG DOWN) 5.00 8.00 11.00   332\n",
       "6  7MY-HD-24-28  A0810005008503209  종합검사  부하검사(LUG DOWN) 5.00 8.00 11.00   332\n",
       "7  7MY-HD-24-28  A0810005008503209  종합검사  부하검사(LUG DOWN) 5.00 8.00 11.00   332\n",
       "8  7MY-HD-24-28  A0810005008503209  종합검사  부하검사(LUG DOWN) 5.00 8.00 11.00   332\n",
       "9  7MY-HD-24-28  A0810005008503209  종합검사  부하검사(LUG DOWN) 5.00 8.00 11.00   332"
      ]
     },
     "execution_count": 132,
     "metadata": {},
     "output_type": "execute_result"
    }
   ],
   "source": [
    "quantile_df[['배출가스인증번호', '제원관리번호', '검사종류', '검사방법', 'q1', 'q2', 'q3', '차량대수']].head(10)"
   ]
  },
  {
   "cell_type": "code",
   "execution_count": 114,
   "metadata": {},
   "outputs": [
    {
     "data": {
      "text/plain": [
       "Index(['차대번호', '법정동코드', '배출가스등급', '배출가스인증번호', '차량말소YN', '제원관리번호', '차량연식', '차종',\n",
       "       '용도', '최초등록일자', '제작일자', '연료', '차종유형', '제작사명', '차명', '자동차형식', '엔진형식',\n",
       "       '검사방법', '검사종류', '검사판정', '무부하매연측정치1', '무부하매연측정치2', '무부하매연측정치3',\n",
       "       '무부하매연판정1', '검사일자', '주행거리', '무부하매연허용치1', '정기정밀', '시도', '시군구',\n",
       "       '법정동코드_수정', 'DPF유무_수정', 'fuel', 'EG', '기준연월', '테이블생성일자', 'vin10',\n",
       "       'vin10_year', 'q1', 'q2', 'q3', '차량대수'],\n",
       "      dtype='object')"
      ]
     },
     "execution_count": 114,
     "metadata": {},
     "output_type": "execute_result"
    }
   ],
   "source": [
    "quantile_df.columns"
   ]
  },
  {
   "cell_type": "code",
   "execution_count": 115,
   "metadata": {},
   "outputs": [
    {
     "data": {
      "text/plain": [
       "63"
      ]
     },
     "execution_count": 115,
     "metadata": {},
     "output_type": "execute_result"
    }
   ],
   "source": [
    "len(quantile_df['배출가스인증번호'].unique())"
   ]
  },
  {
   "cell_type": "code",
   "execution_count": 116,
   "metadata": {},
   "outputs": [
    {
     "data": {
      "text/plain": [
       "(1391, 42)"
      ]
     },
     "execution_count": 116,
     "metadata": {},
     "output_type": "execute_result"
    }
   ],
   "source": [
    "quantile_df1 = quantile_df.drop_duplicates(['배출가스인증번호', '제원관리번호', '검사방법', '검사종류'])\n",
    "quantile_df1.shape"
   ]
  },
  {
   "cell_type": "code",
   "execution_count": 117,
   "metadata": {},
   "outputs": [
    {
     "data": {
      "text/html": [
       "<div>\n",
       "<style scoped>\n",
       "    .dataframe tbody tr th:only-of-type {\n",
       "        vertical-align: middle;\n",
       "    }\n",
       "\n",
       "    .dataframe tbody tr th {\n",
       "        vertical-align: top;\n",
       "    }\n",
       "\n",
       "    .dataframe thead th {\n",
       "        text-align: right;\n",
       "    }\n",
       "</style>\n",
       "<table border=\"1\" class=\"dataframe\">\n",
       "  <thead>\n",
       "    <tr style=\"text-align: right;\">\n",
       "      <th></th>\n",
       "      <th>차대번호</th>\n",
       "      <th>법정동코드</th>\n",
       "      <th>배출가스등급</th>\n",
       "      <th>배출가스인증번호</th>\n",
       "      <th>차량말소YN</th>\n",
       "      <th>제원관리번호</th>\n",
       "      <th>차량연식</th>\n",
       "      <th>차종</th>\n",
       "      <th>용도</th>\n",
       "      <th>최초등록일자</th>\n",
       "      <th>...</th>\n",
       "      <th>fuel</th>\n",
       "      <th>EG</th>\n",
       "      <th>기준연월</th>\n",
       "      <th>테이블생성일자</th>\n",
       "      <th>vin10</th>\n",
       "      <th>vin10_year</th>\n",
       "      <th>q1</th>\n",
       "      <th>q2</th>\n",
       "      <th>q3</th>\n",
       "      <th>차량대수</th>\n",
       "    </tr>\n",
       "  </thead>\n",
       "  <tbody>\n",
       "    <tr>\n",
       "      <th>0</th>\n",
       "      <td>KMFGA17HPAC152609</td>\n",
       "      <td>4719000000</td>\n",
       "      <td>4</td>\n",
       "      <td>7MY-HD-24-28</td>\n",
       "      <td>N</td>\n",
       "      <td>A0810005008503209</td>\n",
       "      <td>2010</td>\n",
       "      <td>화물</td>\n",
       "      <td>개인용</td>\n",
       "      <td>20200128.00</td>\n",
       "      <td>...</td>\n",
       "      <td>경유</td>\n",
       "      <td>A</td>\n",
       "      <td>2022.12</td>\n",
       "      <td>20230823</td>\n",
       "      <td>A</td>\n",
       "      <td>2010.00</td>\n",
       "      <td>5.00</td>\n",
       "      <td>8.00</td>\n",
       "      <td>11.00</td>\n",
       "      <td>332</td>\n",
       "    </tr>\n",
       "    <tr>\n",
       "      <th>332</th>\n",
       "      <td>KMFGA17HPAC141581</td>\n",
       "      <td>4812100000</td>\n",
       "      <td>4</td>\n",
       "      <td>7MY-HD-24-28</td>\n",
       "      <td>N</td>\n",
       "      <td>A0810005008603209</td>\n",
       "      <td>2010</td>\n",
       "      <td>화물</td>\n",
       "      <td>개인용</td>\n",
       "      <td>20171226.00</td>\n",
       "      <td>...</td>\n",
       "      <td>경유</td>\n",
       "      <td>A</td>\n",
       "      <td>2022.12</td>\n",
       "      <td>20230823</td>\n",
       "      <td>A</td>\n",
       "      <td>2010.00</td>\n",
       "      <td>4.00</td>\n",
       "      <td>8.00</td>\n",
       "      <td>11.00</td>\n",
       "      <td>512</td>\n",
       "    </tr>\n",
       "    <tr>\n",
       "      <th>844</th>\n",
       "      <td>KMFGA17HPBC187773</td>\n",
       "      <td>1150000000</td>\n",
       "      <td>4</td>\n",
       "      <td>7MY-HD-24-28</td>\n",
       "      <td>N</td>\n",
       "      <td>A0810005009343210</td>\n",
       "      <td>2011</td>\n",
       "      <td>화물</td>\n",
       "      <td>영업용</td>\n",
       "      <td>20111216.00</td>\n",
       "      <td>...</td>\n",
       "      <td>경유</td>\n",
       "      <td>A</td>\n",
       "      <td>2022.12</td>\n",
       "      <td>20230823</td>\n",
       "      <td>B</td>\n",
       "      <td>2011.00</td>\n",
       "      <td>2.00</td>\n",
       "      <td>6.00</td>\n",
       "      <td>9.00</td>\n",
       "      <td>476</td>\n",
       "    </tr>\n",
       "    <tr>\n",
       "      <th>1320</th>\n",
       "      <td>KMJHD17HPAC008298</td>\n",
       "      <td>4719000000</td>\n",
       "      <td>4</td>\n",
       "      <td>7MY-HD-24-28</td>\n",
       "      <td>N</td>\n",
       "      <td>A0810005603012209</td>\n",
       "      <td>2010</td>\n",
       "      <td>승합</td>\n",
       "      <td>개인용</td>\n",
       "      <td>20101231.00</td>\n",
       "      <td>...</td>\n",
       "      <td>경유</td>\n",
       "      <td>A</td>\n",
       "      <td>2022.12</td>\n",
       "      <td>20230823</td>\n",
       "      <td>A</td>\n",
       "      <td>2010.00</td>\n",
       "      <td>3.00</td>\n",
       "      <td>8.00</td>\n",
       "      <td>11.00</td>\n",
       "      <td>327</td>\n",
       "    </tr>\n",
       "    <tr>\n",
       "      <th>1647</th>\n",
       "      <td>KMFGA17HPAC152695</td>\n",
       "      <td>4141000000</td>\n",
       "      <td>4</td>\n",
       "      <td>7MY-HD-24-28</td>\n",
       "      <td>N</td>\n",
       "      <td>A0810005008583209</td>\n",
       "      <td>2010</td>\n",
       "      <td>화물</td>\n",
       "      <td>영업용</td>\n",
       "      <td>20101130.00</td>\n",
       "      <td>...</td>\n",
       "      <td>경유</td>\n",
       "      <td>A</td>\n",
       "      <td>2022.12</td>\n",
       "      <td>20230823</td>\n",
       "      <td>A</td>\n",
       "      <td>2010.00</td>\n",
       "      <td>3.00</td>\n",
       "      <td>7.00</td>\n",
       "      <td>10.75</td>\n",
       "      <td>650</td>\n",
       "    </tr>\n",
       "  </tbody>\n",
       "</table>\n",
       "<p>5 rows × 42 columns</p>\n",
       "</div>"
      ],
      "text/plain": [
       "                   차대번호       법정동코드 배출가스등급      배출가스인증번호 차량말소YN   \n",
       "0     KMFGA17HPAC152609  4719000000      4  7MY-HD-24-28      N  \\\n",
       "332   KMFGA17HPAC141581  4812100000      4  7MY-HD-24-28      N   \n",
       "844   KMFGA17HPBC187773  1150000000      4  7MY-HD-24-28      N   \n",
       "1320  KMJHD17HPAC008298  4719000000      4  7MY-HD-24-28      N   \n",
       "1647  KMFGA17HPAC152695  4141000000      4  7MY-HD-24-28      N   \n",
       "\n",
       "                 제원관리번호  차량연식  차종   용도      최초등록일자  ...  fuel EG     기준연월   \n",
       "0     A0810005008503209  2010  화물  개인용 20200128.00  ...    경유  A  2022.12  \\\n",
       "332   A0810005008603209  2010  화물  개인용 20171226.00  ...    경유  A  2022.12   \n",
       "844   A0810005009343210  2011  화물  영업용 20111216.00  ...    경유  A  2022.12   \n",
       "1320  A0810005603012209  2010  승합  개인용 20101231.00  ...    경유  A  2022.12   \n",
       "1647  A0810005008583209  2010  화물  영업용 20101130.00  ...    경유  A  2022.12   \n",
       "\n",
       "       테이블생성일자 vin10 vin10_year   q1   q2    q3 차량대수  \n",
       "0     20230823     A    2010.00 5.00 8.00 11.00  332  \n",
       "332   20230823     A    2010.00 4.00 8.00 11.00  512  \n",
       "844   20230823     B    2011.00 2.00 6.00  9.00  476  \n",
       "1320  20230823     A    2010.00 3.00 8.00 11.00  327  \n",
       "1647  20230823     A    2010.00 3.00 7.00 10.75  650  \n",
       "\n",
       "[5 rows x 42 columns]"
      ]
     },
     "execution_count": 117,
     "metadata": {},
     "output_type": "execute_result"
    }
   ],
   "source": [
    "quantile_df1.head()"
   ]
  },
  {
   "cell_type": "code",
   "execution_count": 118,
   "metadata": {},
   "outputs": [
    {
     "data": {
      "text/html": [
       "<div>\n",
       "<style scoped>\n",
       "    .dataframe tbody tr th:only-of-type {\n",
       "        vertical-align: middle;\n",
       "    }\n",
       "\n",
       "    .dataframe tbody tr th {\n",
       "        vertical-align: top;\n",
       "    }\n",
       "\n",
       "    .dataframe thead th {\n",
       "        text-align: right;\n",
       "    }\n",
       "</style>\n",
       "<table border=\"1\" class=\"dataframe\">\n",
       "  <thead>\n",
       "    <tr style=\"text-align: right;\">\n",
       "      <th></th>\n",
       "      <th>차대번호</th>\n",
       "      <th>법정동코드</th>\n",
       "      <th>배출가스등급</th>\n",
       "      <th>배출가스인증번호</th>\n",
       "      <th>차량말소YN</th>\n",
       "      <th>제원관리번호</th>\n",
       "      <th>차량연식</th>\n",
       "      <th>차종</th>\n",
       "      <th>용도</th>\n",
       "      <th>최초등록일자</th>\n",
       "      <th>...</th>\n",
       "      <th>fuel</th>\n",
       "      <th>EG</th>\n",
       "      <th>기준연월</th>\n",
       "      <th>테이블생성일자</th>\n",
       "      <th>vin10</th>\n",
       "      <th>vin10_year</th>\n",
       "      <th>q1</th>\n",
       "      <th>q2</th>\n",
       "      <th>q3</th>\n",
       "      <th>차량대수</th>\n",
       "    </tr>\n",
       "  </thead>\n",
       "  <tbody>\n",
       "    <tr>\n",
       "      <th>794313</th>\n",
       "      <td>WVWZZZ3DZ68005835</td>\n",
       "      <td>4812700000</td>\n",
       "      <td>4</td>\n",
       "      <td>5MY-AD-13-06</td>\n",
       "      <td>N</td>\n",
       "      <td>02420004800011305</td>\n",
       "      <td>2006</td>\n",
       "      <td>승용</td>\n",
       "      <td>개인용</td>\n",
       "      <td>20070109.00</td>\n",
       "      <td>...</td>\n",
       "      <td>경유</td>\n",
       "      <td>D</td>\n",
       "      <td>2022.12</td>\n",
       "      <td>20230823</td>\n",
       "      <td>6</td>\n",
       "      <td>2006.00</td>\n",
       "      <td>0.00</td>\n",
       "      <td>0.00</td>\n",
       "      <td>0.00</td>\n",
       "      <td>115</td>\n",
       "    </tr>\n",
       "    <tr>\n",
       "      <th>732562</th>\n",
       "      <td>WVWZZZ3CZ7P166019</td>\n",
       "      <td>4477000000</td>\n",
       "      <td>4</td>\n",
       "      <td>5MY-AD-14-08</td>\n",
       "      <td>N</td>\n",
       "      <td>02420006800031206</td>\n",
       "      <td>2007</td>\n",
       "      <td>승용</td>\n",
       "      <td>개인용</td>\n",
       "      <td>20071024.00</td>\n",
       "      <td>...</td>\n",
       "      <td>경유</td>\n",
       "      <td>D</td>\n",
       "      <td>2022.12</td>\n",
       "      <td>20230823</td>\n",
       "      <td>7</td>\n",
       "      <td>2007.00</td>\n",
       "      <td>0.00</td>\n",
       "      <td>0.00</td>\n",
       "      <td>1.00</td>\n",
       "      <td>179</td>\n",
       "    </tr>\n",
       "    <tr>\n",
       "      <th>732333</th>\n",
       "      <td>WVWZZZ3CZ8P070420</td>\n",
       "      <td>4139000000</td>\n",
       "      <td>4</td>\n",
       "      <td>5MY-AD-14-08</td>\n",
       "      <td>N</td>\n",
       "      <td>02420006800111207</td>\n",
       "      <td>2008</td>\n",
       "      <td>승용</td>\n",
       "      <td>개인용</td>\n",
       "      <td>20080905.00</td>\n",
       "      <td>...</td>\n",
       "      <td>경유</td>\n",
       "      <td>C</td>\n",
       "      <td>2022.12</td>\n",
       "      <td>20230823</td>\n",
       "      <td>8</td>\n",
       "      <td>2008.00</td>\n",
       "      <td>0.00</td>\n",
       "      <td>0.00</td>\n",
       "      <td>0.00</td>\n",
       "      <td>229</td>\n",
       "    </tr>\n",
       "    <tr>\n",
       "      <th>586639</th>\n",
       "      <td>WVWZZZ1KZ8W338454</td>\n",
       "      <td>4513000000</td>\n",
       "      <td>4</td>\n",
       "      <td>5MY-AD-14-18</td>\n",
       "      <td>N</td>\n",
       "      <td>02420004900031207</td>\n",
       "      <td>2008</td>\n",
       "      <td>승용</td>\n",
       "      <td>개인용</td>\n",
       "      <td>20081007.00</td>\n",
       "      <td>...</td>\n",
       "      <td>경유</td>\n",
       "      <td>C</td>\n",
       "      <td>2022.12</td>\n",
       "      <td>20230823</td>\n",
       "      <td>8</td>\n",
       "      <td>2008.00</td>\n",
       "      <td>0.00</td>\n",
       "      <td>0.00</td>\n",
       "      <td>1.00</td>\n",
       "      <td>279</td>\n",
       "    </tr>\n",
       "    <tr>\n",
       "      <th>586067</th>\n",
       "      <td>WVWZZZ1KZ9W146549</td>\n",
       "      <td>2635000000</td>\n",
       "      <td>4</td>\n",
       "      <td>5MY-AD-14-18</td>\n",
       "      <td>N</td>\n",
       "      <td>02420004900041208</td>\n",
       "      <td>2009</td>\n",
       "      <td>승용</td>\n",
       "      <td>개인용</td>\n",
       "      <td>20090526.00</td>\n",
       "      <td>...</td>\n",
       "      <td>경유</td>\n",
       "      <td>C</td>\n",
       "      <td>2022.12</td>\n",
       "      <td>20230823</td>\n",
       "      <td>9</td>\n",
       "      <td>2009.00</td>\n",
       "      <td>0.00</td>\n",
       "      <td>0.00</td>\n",
       "      <td>1.00</td>\n",
       "      <td>450</td>\n",
       "    </tr>\n",
       "    <tr>\n",
       "      <th>...</th>\n",
       "      <td>...</td>\n",
       "      <td>...</td>\n",
       "      <td>...</td>\n",
       "      <td>...</td>\n",
       "      <td>...</td>\n",
       "      <td>...</td>\n",
       "      <td>...</td>\n",
       "      <td>...</td>\n",
       "      <td>...</td>\n",
       "      <td>...</td>\n",
       "      <td>...</td>\n",
       "      <td>...</td>\n",
       "      <td>...</td>\n",
       "      <td>...</td>\n",
       "      <td>...</td>\n",
       "      <td>...</td>\n",
       "      <td>...</td>\n",
       "      <td>...</td>\n",
       "      <td>...</td>\n",
       "      <td>...</td>\n",
       "      <td>...</td>\n",
       "    </tr>\n",
       "    <tr>\n",
       "      <th>394570</th>\n",
       "      <td>KNAMN816BBS464259</td>\n",
       "      <td>4122000000</td>\n",
       "      <td>4</td>\n",
       "      <td>9MY-KM-14-41</td>\n",
       "      <td>N</td>\n",
       "      <td>A0110003800911310</td>\n",
       "      <td>2011</td>\n",
       "      <td>승용</td>\n",
       "      <td>개인용</td>\n",
       "      <td>20111202.00</td>\n",
       "      <td>...</td>\n",
       "      <td>경유</td>\n",
       "      <td>C</td>\n",
       "      <td>2022.12</td>\n",
       "      <td>20230823</td>\n",
       "      <td>B</td>\n",
       "      <td>2011.00</td>\n",
       "      <td>2.00</td>\n",
       "      <td>5.00</td>\n",
       "      <td>8.25</td>\n",
       "      <td>112</td>\n",
       "    </tr>\n",
       "    <tr>\n",
       "      <th>398289</th>\n",
       "      <td>KNAMN816BBS464236</td>\n",
       "      <td>4163000000</td>\n",
       "      <td>4</td>\n",
       "      <td>9MY-KM-14-41</td>\n",
       "      <td>N</td>\n",
       "      <td>A0110003800911310</td>\n",
       "      <td>2011</td>\n",
       "      <td>승용</td>\n",
       "      <td>개인용</td>\n",
       "      <td>20130626.00</td>\n",
       "      <td>...</td>\n",
       "      <td>경유</td>\n",
       "      <td>C</td>\n",
       "      <td>2022.12</td>\n",
       "      <td>20230823</td>\n",
       "      <td>B</td>\n",
       "      <td>2011.00</td>\n",
       "      <td>0.00</td>\n",
       "      <td>4.00</td>\n",
       "      <td>8.00</td>\n",
       "      <td>893</td>\n",
       "    </tr>\n",
       "    <tr>\n",
       "      <th>439402</th>\n",
       "      <td>KNAMN816BBS464253</td>\n",
       "      <td>4817000000</td>\n",
       "      <td>4</td>\n",
       "      <td>9MY-KM-14-41</td>\n",
       "      <td>N</td>\n",
       "      <td>A0110003800911310</td>\n",
       "      <td>2011</td>\n",
       "      <td>승용</td>\n",
       "      <td>개인용</td>\n",
       "      <td>20120220.00</td>\n",
       "      <td>...</td>\n",
       "      <td>경유</td>\n",
       "      <td>C</td>\n",
       "      <td>2022.12</td>\n",
       "      <td>20230823</td>\n",
       "      <td>B</td>\n",
       "      <td>2011.00</td>\n",
       "      <td>2.00</td>\n",
       "      <td>6.00</td>\n",
       "      <td>10.00</td>\n",
       "      <td>155</td>\n",
       "    </tr>\n",
       "    <tr>\n",
       "      <th>789184</th>\n",
       "      <td>YV1DZ7046A2105590</td>\n",
       "      <td>4143000000</td>\n",
       "      <td>4</td>\n",
       "      <td>9MY-PA-13-1</td>\n",
       "      <td>N</td>\n",
       "      <td>00920003200021309</td>\n",
       "      <td>2010</td>\n",
       "      <td>승용</td>\n",
       "      <td>개인용</td>\n",
       "      <td>20100423.00</td>\n",
       "      <td>...</td>\n",
       "      <td>경유</td>\n",
       "      <td>A</td>\n",
       "      <td>2022.12</td>\n",
       "      <td>20230823</td>\n",
       "      <td>A</td>\n",
       "      <td>2010.00</td>\n",
       "      <td>0.00</td>\n",
       "      <td>0.00</td>\n",
       "      <td>0.00</td>\n",
       "      <td>111</td>\n",
       "    </tr>\n",
       "    <tr>\n",
       "      <th>786691</th>\n",
       "      <td>SALFA2BC0AH209292</td>\n",
       "      <td>4817000000</td>\n",
       "      <td>4</td>\n",
       "      <td>AMY-JL-13-9</td>\n",
       "      <td>N</td>\n",
       "      <td>04220000900021309</td>\n",
       "      <td>2010</td>\n",
       "      <td>승용</td>\n",
       "      <td>개인용</td>\n",
       "      <td>20110128.00</td>\n",
       "      <td>...</td>\n",
       "      <td>경유</td>\n",
       "      <td>X</td>\n",
       "      <td>2022.12</td>\n",
       "      <td>20230823</td>\n",
       "      <td>A</td>\n",
       "      <td>2010.00</td>\n",
       "      <td>0.00</td>\n",
       "      <td>0.00</td>\n",
       "      <td>0.00</td>\n",
       "      <td>229</td>\n",
       "    </tr>\n",
       "  </tbody>\n",
       "</table>\n",
       "<p>1391 rows × 42 columns</p>\n",
       "</div>"
      ],
      "text/plain": [
       "                     차대번호       법정동코드 배출가스등급      배출가스인증번호 차량말소YN   \n",
       "794313  WVWZZZ3DZ68005835  4812700000      4  5MY-AD-13-06      N  \\\n",
       "732562  WVWZZZ3CZ7P166019  4477000000      4  5MY-AD-14-08      N   \n",
       "732333  WVWZZZ3CZ8P070420  4139000000      4  5MY-AD-14-08      N   \n",
       "586639  WVWZZZ1KZ8W338454  4513000000      4  5MY-AD-14-18      N   \n",
       "586067  WVWZZZ1KZ9W146549  2635000000      4  5MY-AD-14-18      N   \n",
       "...                   ...         ...    ...           ...    ...   \n",
       "394570  KNAMN816BBS464259  4122000000      4  9MY-KM-14-41      N   \n",
       "398289  KNAMN816BBS464236  4163000000      4  9MY-KM-14-41      N   \n",
       "439402  KNAMN816BBS464253  4817000000      4  9MY-KM-14-41      N   \n",
       "789184  YV1DZ7046A2105590  4143000000      4   9MY-PA-13-1      N   \n",
       "786691  SALFA2BC0AH209292  4817000000      4   AMY-JL-13-9      N   \n",
       "\n",
       "                   제원관리번호  차량연식  차종   용도      최초등록일자  ...  fuel EG     기준연월   \n",
       "794313  02420004800011305  2006  승용  개인용 20070109.00  ...    경유  D  2022.12  \\\n",
       "732562  02420006800031206  2007  승용  개인용 20071024.00  ...    경유  D  2022.12   \n",
       "732333  02420006800111207  2008  승용  개인용 20080905.00  ...    경유  C  2022.12   \n",
       "586639  02420004900031207  2008  승용  개인용 20081007.00  ...    경유  C  2022.12   \n",
       "586067  02420004900041208  2009  승용  개인용 20090526.00  ...    경유  C  2022.12   \n",
       "...                   ...   ...  ..  ...         ...  ...   ... ..      ...   \n",
       "394570  A0110003800911310  2011  승용  개인용 20111202.00  ...    경유  C  2022.12   \n",
       "398289  A0110003800911310  2011  승용  개인용 20130626.00  ...    경유  C  2022.12   \n",
       "439402  A0110003800911310  2011  승용  개인용 20120220.00  ...    경유  C  2022.12   \n",
       "789184  00920003200021309  2010  승용  개인용 20100423.00  ...    경유  A  2022.12   \n",
       "786691  04220000900021309  2010  승용  개인용 20110128.00  ...    경유  X  2022.12   \n",
       "\n",
       "         테이블생성일자 vin10 vin10_year   q1   q2    q3 차량대수  \n",
       "794313  20230823     6    2006.00 0.00 0.00  0.00  115  \n",
       "732562  20230823     7    2007.00 0.00 0.00  1.00  179  \n",
       "732333  20230823     8    2008.00 0.00 0.00  0.00  229  \n",
       "586639  20230823     8    2008.00 0.00 0.00  1.00  279  \n",
       "586067  20230823     9    2009.00 0.00 0.00  1.00  450  \n",
       "...          ...   ...        ...  ...  ...   ...  ...  \n",
       "394570  20230823     B    2011.00 2.00 5.00  8.25  112  \n",
       "398289  20230823     B    2011.00 0.00 4.00  8.00  893  \n",
       "439402  20230823     B    2011.00 2.00 6.00 10.00  155  \n",
       "789184  20230823     A    2010.00 0.00 0.00  0.00  111  \n",
       "786691  20230823     A    2010.00 0.00 0.00  0.00  229  \n",
       "\n",
       "[1391 rows x 42 columns]"
      ]
     },
     "execution_count": 118,
     "metadata": {},
     "output_type": "execute_result"
    }
   ],
   "source": [
    "quantile_df1.sort_values(['배출가스인증번호', '제원관리번호'])"
   ]
  },
  {
   "cell_type": "code",
   "execution_count": 251,
   "metadata": {},
   "outputs": [
    {
     "data": {
      "text/html": [
       "<div>\n",
       "<style scoped>\n",
       "    .dataframe tbody tr th:only-of-type {\n",
       "        vertical-align: middle;\n",
       "    }\n",
       "\n",
       "    .dataframe tbody tr th {\n",
       "        vertical-align: top;\n",
       "    }\n",
       "\n",
       "    .dataframe thead th {\n",
       "        text-align: right;\n",
       "    }\n",
       "</style>\n",
       "<table border=\"1\" class=\"dataframe\">\n",
       "  <thead>\n",
       "    <tr style=\"text-align: right;\">\n",
       "      <th></th>\n",
       "      <th></th>\n",
       "      <th>q2</th>\n",
       "    </tr>\n",
       "    <tr>\n",
       "      <th>배출가스인증번호</th>\n",
       "      <th>제원관리번호</th>\n",
       "      <th></th>\n",
       "    </tr>\n",
       "  </thead>\n",
       "  <tbody>\n",
       "    <tr>\n",
       "      <th>5MY-AD-13-06</th>\n",
       "      <th>02420004800011305</th>\n",
       "      <td>0.00</td>\n",
       "    </tr>\n",
       "    <tr>\n",
       "      <th rowspan=\"2\" valign=\"top\">5MY-AD-14-08</th>\n",
       "      <th>02420006800031206</th>\n",
       "      <td>0.00</td>\n",
       "    </tr>\n",
       "    <tr>\n",
       "      <th>02420006800111207</th>\n",
       "      <td>0.00</td>\n",
       "    </tr>\n",
       "    <tr>\n",
       "      <th rowspan=\"2\" valign=\"top\">5MY-AD-14-18</th>\n",
       "      <th>02420004900031207</th>\n",
       "      <td>0.00</td>\n",
       "    </tr>\n",
       "    <tr>\n",
       "      <th>02420004900041208</th>\n",
       "      <td>0.00</td>\n",
       "    </tr>\n",
       "    <tr>\n",
       "      <th>...</th>\n",
       "      <th>...</th>\n",
       "      <td>...</td>\n",
       "    </tr>\n",
       "    <tr>\n",
       "      <th rowspan=\"5\" valign=\"top\">nan</th>\n",
       "      <th>00620000800081209</th>\n",
       "      <td>4.00</td>\n",
       "    </tr>\n",
       "    <tr>\n",
       "      <th>00620000900021210</th>\n",
       "      <td>5.00</td>\n",
       "    </tr>\n",
       "    <tr>\n",
       "      <th>00920002300051307</th>\n",
       "      <td>0.00</td>\n",
       "    </tr>\n",
       "    <tr>\n",
       "      <th>00920002300141308</th>\n",
       "      <td>1.00</td>\n",
       "    </tr>\n",
       "    <tr>\n",
       "      <th>A0110003113613107</th>\n",
       "      <td>6.00</td>\n",
       "    </tr>\n",
       "  </tbody>\n",
       "</table>\n",
       "<p>708 rows × 1 columns</p>\n",
       "</div>"
      ],
      "text/plain": [
       "                                 q2\n",
       "배출가스인증번호     제원관리번호                \n",
       "5MY-AD-13-06 02420004800011305 0.00\n",
       "5MY-AD-14-08 02420006800031206 0.00\n",
       "             02420006800111207 0.00\n",
       "5MY-AD-14-18 02420004900031207 0.00\n",
       "             02420004900041208 0.00\n",
       "...                             ...\n",
       "nan          00620000800081209 4.00\n",
       "             00620000900021210 5.00\n",
       "             00920002300051307 0.00\n",
       "             00920002300141308 1.00\n",
       "             A0110003113613107 6.00\n",
       "\n",
       "[708 rows x 1 columns]"
      ]
     },
     "execution_count": 251,
     "metadata": {},
     "output_type": "execute_result"
    }
   ],
   "source": [
    "quantile_df1.groupby(['배출가스인증번호', '제원관리번호']).agg({'q2':'mean'})"
   ]
  },
  {
   "cell_type": "code",
   "execution_count": 108,
   "metadata": {},
   "outputs": [
    {
     "data": {
      "text/plain": [
       "Index(['차대번호', '법정동코드', '배출가스등급', '배출가스인증번호', '차량말소YN', '제원관리번호', '차량연식', '차종',\n",
       "       '용도', '최초등록일자', '제작일자', '연료', '차종유형', '제작사명', '차명', '자동차형식', '엔진형식',\n",
       "       '검사방법', '검사종류', '검사판정', '무부하매연측정치1', '무부하매연측정치2', '무부하매연측정치3',\n",
       "       '무부하매연판정1', '검사일자', '주행거리', '무부하매연허용치1', '정기정밀', '시도', '시군구',\n",
       "       '법정동코드_수정', 'DPF유무_수정', 'fuel', 'EG', '기준연월', '테이블생성일자', 'vin10',\n",
       "       'vin10_year', 'q1', 'q2', 'q3', '차량대수'],\n",
       "      dtype='object')"
      ]
     },
     "execution_count": 108,
     "metadata": {},
     "output_type": "execute_result"
    }
   ],
   "source": [
    "quantile_df1.columns"
   ]
  },
  {
   "cell_type": "code",
   "execution_count": 109,
   "metadata": {},
   "outputs": [
    {
     "data": {
      "text/plain": [
       "'20230821'"
      ]
     },
     "execution_count": 109,
     "metadata": {},
     "output_type": "execute_result"
    }
   ],
   "source": [
    "today_date = datetime.today().strftime(\"%Y%m%d\")\n",
    "today_date"
   ]
  },
  {
   "cell_type": "code",
   "execution_count": 110,
   "metadata": {},
   "outputs": [
    {
     "name": "stderr",
     "output_type": "stream",
     "text": [
      "C:\\Users\\kbjung\\AppData\\Local\\Temp\\ipykernel_14124\\752261507.py:1: SettingWithCopyWarning: \n",
      "A value is trying to be set on a copy of a slice from a DataFrame.\n",
      "Try using .loc[row_indexer,col_indexer] = value instead\n",
      "\n",
      "See the caveats in the documentation: https://pandas.pydata.org/pandas-docs/stable/user_guide/indexing.html#returning-a-view-versus-a-copy\n",
      "  quantile_df1['테이블생성일자'] = today_date\n"
     ]
    }
   ],
   "source": [
    "quantile_df1['테이블생성일자'] = today_date"
   ]
  },
  {
   "cell_type": "code",
   "execution_count": 111,
   "metadata": {},
   "outputs": [
    {
     "data": {
      "text/plain": [
       "(1401, 10)"
      ]
     },
     "execution_count": 111,
     "metadata": {},
     "output_type": "execute_result"
    }
   ],
   "source": [
    "STD_BD_GRD4_CAR_CURSTT_TOT = quantile_df1[[\n",
    "    '테이블생성일자',\n",
    "    '차명',\n",
    "    '제작사명', \n",
    "    '제원관리번호', \n",
    "    '배출가스인증번호', \n",
    "    '검사방법', \n",
    "    'q1', \n",
    "    'q2', \n",
    "    'q3',\n",
    "    '차량대수',\n",
    "    ]]\n",
    "STD_BD_GRD4_CAR_CURSTT_TOT.shape"
   ]
  },
  {
   "cell_type": "code",
   "execution_count": 112,
   "metadata": {},
   "outputs": [],
   "source": [
    "chc_dict = {\n",
    "    '테이블생성일자':'LOAD_DT', \n",
    "    '차대번호':'VIN', \n",
    "    '제원관리번호':'MANG_MNG_NO', \n",
    "    '차명':'VHCNM',\n",
    "    '제작사명':'MNFCTR_NM', \n",
    "    '차종':'VHCTY_CD', \n",
    "    '용도':'PURPS_CD2', \n",
    "    '차종유형':'CHCTY_TY', \n",
    "    '법정동코드':'STDG_CD', \n",
    "    '배출가스인증번호':'EXHST_GAS_CERT_NO_MOD', \n",
    "    '검사방법':'INSP_MTHD', \n",
    "    '검사종류':'INSP_KND', \n",
    "    '검사판정':'INSP_JGMT', \n",
    "    '무부하매연측정치1':'NOLOD_SMO_MEVLU1', \n",
    "    '무부하매연판정1':'NOLOD_SMO_JGMT_YN1',\n",
    "    'q1':'LOWR_QRT',\n",
    "    'q2':'MID_QRT',\n",
    "    'q3':'UP_QRT',\n",
    "    '차량대수':'VHCL_MKCNT',\n",
    "    # '등급_수정':'EXHST_GAS_GRD_CD_MOD', \n",
    "    # 'DPF유무_수정':'DPF_MNTNG_YN', \n",
    "    # '시도명':'CTPV_NM', \n",
    "    # '시군구명':'SGG_NM', \n",
    "    # '차종분류':'VHCTY_CL_CD', \n",
    "    }"
   ]
  },
  {
   "cell_type": "code",
   "execution_count": 113,
   "metadata": {},
   "outputs": [
    {
     "data": {
      "text/plain": [
       "Index(['LOAD_DT', 'VHCNM', 'MNFCTR_NM', 'MANG_MNG_NO', 'EXHST_GAS_CERT_NO_MOD',\n",
       "       'INSP_MTHD', 'LOWR_QRT', 'MID_QRT', 'UP_QRT', 'VHCL_MKCNT'],\n",
       "      dtype='object')"
      ]
     },
     "execution_count": 113,
     "metadata": {},
     "output_type": "execute_result"
    }
   ],
   "source": [
    "STD_BD_GRD4_CAR_CURSTT_TOT = STD_BD_GRD4_CAR_CURSTT_TOT.rename(columns=chc_dict)\n",
    "STD_BD_GRD4_CAR_CURSTT_TOT.columns"
   ]
  },
  {
   "cell_type": "code",
   "execution_count": 114,
   "metadata": {},
   "outputs": [
    {
     "data": {
      "text/plain": [
       "(1401, 10)"
      ]
     },
     "execution_count": 114,
     "metadata": {},
     "output_type": "execute_result"
    }
   ],
   "source": [
    "STD_BD_GRD4_CAR_CURSTT_TOT.shape"
   ]
  },
  {
   "cell_type": "code",
   "execution_count": 115,
   "metadata": {},
   "outputs": [
    {
     "data": {
      "text/html": [
       "<div>\n",
       "<style scoped>\n",
       "    .dataframe tbody tr th:only-of-type {\n",
       "        vertical-align: middle;\n",
       "    }\n",
       "\n",
       "    .dataframe tbody tr th {\n",
       "        vertical-align: top;\n",
       "    }\n",
       "\n",
       "    .dataframe thead th {\n",
       "        text-align: right;\n",
       "    }\n",
       "</style>\n",
       "<table border=\"1\" class=\"dataframe\">\n",
       "  <thead>\n",
       "    <tr style=\"text-align: right;\">\n",
       "      <th></th>\n",
       "      <th>LOAD_DT</th>\n",
       "      <th>VHCNM</th>\n",
       "      <th>MNFCTR_NM</th>\n",
       "      <th>MANG_MNG_NO</th>\n",
       "      <th>EXHST_GAS_CERT_NO_MOD</th>\n",
       "      <th>INSP_MTHD</th>\n",
       "      <th>LOWR_QRT</th>\n",
       "      <th>MID_QRT</th>\n",
       "      <th>UP_QRT</th>\n",
       "      <th>VHCL_MKCNT</th>\n",
       "    </tr>\n",
       "  </thead>\n",
       "  <tbody>\n",
       "    <tr>\n",
       "      <th>0</th>\n",
       "      <td>20230821</td>\n",
       "      <td>3008 1.6 HDi MCP</td>\n",
       "      <td>한불모터스(주)</td>\n",
       "      <td>00620000900021210</td>\n",
       "      <td>nan</td>\n",
       "      <td>부하검사(KD-147)</td>\n",
       "      <td>0.00</td>\n",
       "      <td>5.00</td>\n",
       "      <td>10.00</td>\n",
       "      <td>184</td>\n",
       "    </tr>\n",
       "    <tr>\n",
       "      <th>184</th>\n",
       "      <td>20230821</td>\n",
       "      <td>308 1.6 HDi MCP</td>\n",
       "      <td>한불모터스(주)</td>\n",
       "      <td>00620000800081209</td>\n",
       "      <td>nan</td>\n",
       "      <td>부하검사(KD-147)</td>\n",
       "      <td>1.00</td>\n",
       "      <td>4.00</td>\n",
       "      <td>9.50</td>\n",
       "      <td>159</td>\n",
       "    </tr>\n",
       "    <tr>\n",
       "      <th>343</th>\n",
       "      <td>20230821</td>\n",
       "      <td>Nouvelle Peugeot 308SW HDi</td>\n",
       "      <td>한불모터스(주)</td>\n",
       "      <td>00620000800021208</td>\n",
       "      <td>nan</td>\n",
       "      <td>부하검사(KD-147)</td>\n",
       "      <td>3.00</td>\n",
       "      <td>6.00</td>\n",
       "      <td>9.00</td>\n",
       "      <td>109</td>\n",
       "    </tr>\n",
       "    <tr>\n",
       "      <th>452</th>\n",
       "      <td>20230821</td>\n",
       "      <td>푸조 NEW 307SW HDi</td>\n",
       "      <td>한불모터스(주)</td>\n",
       "      <td>00620000400221207</td>\n",
       "      <td>nan</td>\n",
       "      <td>부하검사(KD-147)</td>\n",
       "      <td>2.00</td>\n",
       "      <td>6.00</td>\n",
       "      <td>9.25</td>\n",
       "      <td>112</td>\n",
       "    </tr>\n",
       "    <tr>\n",
       "      <th>564</th>\n",
       "      <td>20230821</td>\n",
       "      <td>푸조 407 HDi FAP A6</td>\n",
       "      <td>한불모터스(주)</td>\n",
       "      <td>00620000500251207</td>\n",
       "      <td>nan</td>\n",
       "      <td>부하검사(KD-147)</td>\n",
       "      <td>1.00</td>\n",
       "      <td>4.00</td>\n",
       "      <td>9.00</td>\n",
       "      <td>160</td>\n",
       "    </tr>\n",
       "  </tbody>\n",
       "</table>\n",
       "</div>"
      ],
      "text/plain": [
       "      LOAD_DT                       VHCNM MNFCTR_NM        MANG_MNG_NO   \n",
       "0    20230821            3008 1.6 HDi MCP  한불모터스(주)  00620000900021210  \\\n",
       "184  20230821             308 1.6 HDi MCP  한불모터스(주)  00620000800081209   \n",
       "343  20230821  Nouvelle Peugeot 308SW HDi  한불모터스(주)  00620000800021208   \n",
       "452  20230821            푸조 NEW 307SW HDi  한불모터스(주)  00620000400221207   \n",
       "564  20230821           푸조 407 HDi FAP A6  한불모터스(주)  00620000500251207   \n",
       "\n",
       "    EXHST_GAS_CERT_NO_MOD     INSP_MTHD  LOWR_QRT  MID_QRT  UP_QRT  VHCL_MKCNT  \n",
       "0                     nan  부하검사(KD-147)      0.00     5.00   10.00         184  \n",
       "184                   nan  부하검사(KD-147)      1.00     4.00    9.50         159  \n",
       "343                   nan  부하검사(KD-147)      3.00     6.00    9.00         109  \n",
       "452                   nan  부하검사(KD-147)      2.00     6.00    9.25         112  \n",
       "564                   nan  부하검사(KD-147)      1.00     4.00    9.00         160  "
      ]
     },
     "execution_count": 115,
     "metadata": {},
     "output_type": "execute_result"
    }
   ],
   "source": [
    "STD_BD_GRD4_CAR_CURSTT_TOT.head()"
   ]
  },
  {
   "cell_type": "code",
   "execution_count": 116,
   "metadata": {},
   "outputs": [
    {
     "data": {
      "text/plain": [
       "set()"
      ]
     },
     "execution_count": 116,
     "metadata": {},
     "output_type": "execute_result"
    }
   ],
   "source": [
    "set(STD_BD_GRD4_CAR_CURSTT_TOT['MNFCTR_NM'].unique()) - set(STD_BD_GRD4_CAR_CURSTT['MNFCTR_NM'].unique())"
   ]
  },
  {
   "cell_type": "code",
   "execution_count": 117,
   "metadata": {},
   "outputs": [
    {
     "data": {
      "text/plain": [
       "set()"
      ]
     },
     "execution_count": 117,
     "metadata": {},
     "output_type": "execute_result"
    }
   ],
   "source": [
    "set(STD_BD_GRD4_SI['MNFCTR_NM'].unique()) - set(STD_BD_GRD4_CAR_CURSTT['MNFCTR_NM'].unique())"
   ]
  },
  {
   "cell_type": "markdown",
   "metadata": {},
   "source": [
    "### [출력] STD_BD_GRD4_CAR_CURSTT_TOT"
   ]
  },
  {
   "cell_type": "code",
   "execution_count": 118,
   "metadata": {},
   "outputs": [],
   "source": [
    "# expdf = STD_BD_GRD4_CAR_CURSTT_TOT\n",
    "# table_nm = 'STD_BD_GRD4_CAR_CURSTT_TOT'.upper()\n",
    "\n",
    "# # 테이블 생성\n",
    "# sql = 'create or replace table ' + table_nm + '( \\n'\n",
    "\n",
    "# for idx,column in enumerate(expdf.columns):\n",
    "#     if 'float' in expdf[column].dtype.name:\n",
    "#         sql += column + ' float'\n",
    "#     elif 'int' in expdf[column].dtype.name:\n",
    "#         sql += column + ' number'\n",
    "#     else:\n",
    "#         sql += column + ' varchar(255)'\n",
    "\n",
    "#     if len(expdf.columns) - 1 != idx:\n",
    "#         sql += ','\n",
    "#     sql += '\\n'\n",
    "# sql += ')'    \n",
    "# we.execute(sql)\n",
    "\n",
    "# # 데이터 추가\n",
    "# # 1s\n",
    "# we.import_from_pandas(expdf, table_nm)"
   ]
  },
  {
   "cell_type": "code",
   "execution_count": 119,
   "metadata": {},
   "outputs": [],
   "source": [
    "# # 0s\n",
    "# STD_BD_GRD4_CAR_CURSTT_TOT.to_csv(os.path.join(df1_fold, 'STD_BD_GRD4_CAR_CURSTT_TOT.csv'), index=False)"
   ]
  },
  {
   "cell_type": "markdown",
   "metadata": {},
   "source": [
    "## 인증번호검토"
   ]
  },
  {
   "cell_type": "code",
   "execution_count": 139,
   "metadata": {},
   "outputs": [
    {
     "data": {
      "text/plain": [
       "(1391, 10)"
      ]
     },
     "execution_count": 139,
     "metadata": {},
     "output_type": "execute_result"
    }
   ],
   "source": [
    "cert_df1 = quantile_df1[[\n",
    "    '테이블생성일자',\n",
    "    '차명',\n",
    "    '제작사명', \n",
    "    '제원관리번호', \n",
    "    '배출가스인증번호', \n",
    "    '검사방법', \n",
    "    'q1', \n",
    "    'q2', \n",
    "    'q3',\n",
    "    '차량대수',\n",
    "    ]].reset_index(drop=True)\n",
    "cert_df1.shape"
   ]
  },
  {
   "cell_type": "code",
   "execution_count": 140,
   "metadata": {},
   "outputs": [
    {
     "data": {
      "text/html": [
       "<div>\n",
       "<style scoped>\n",
       "    .dataframe tbody tr th:only-of-type {\n",
       "        vertical-align: middle;\n",
       "    }\n",
       "\n",
       "    .dataframe tbody tr th {\n",
       "        vertical-align: top;\n",
       "    }\n",
       "\n",
       "    .dataframe thead th {\n",
       "        text-align: right;\n",
       "    }\n",
       "</style>\n",
       "<table border=\"1\" class=\"dataframe\">\n",
       "  <thead>\n",
       "    <tr style=\"text-align: right;\">\n",
       "      <th></th>\n",
       "      <th>테이블생성일자</th>\n",
       "      <th>차명</th>\n",
       "      <th>제작사명</th>\n",
       "      <th>제원관리번호</th>\n",
       "      <th>배출가스인증번호</th>\n",
       "      <th>검사방법</th>\n",
       "      <th>q1</th>\n",
       "      <th>q2</th>\n",
       "      <th>q3</th>\n",
       "      <th>차량대수</th>\n",
       "    </tr>\n",
       "  </thead>\n",
       "  <tbody>\n",
       "    <tr>\n",
       "      <th>0</th>\n",
       "      <td>20230823</td>\n",
       "      <td>이-마이티</td>\n",
       "      <td>현대자동차(주)</td>\n",
       "      <td>A0810005008503209</td>\n",
       "      <td>7MY-HD-24-28</td>\n",
       "      <td>부하검사(LUG DOWN)</td>\n",
       "      <td>5.00</td>\n",
       "      <td>8.00</td>\n",
       "      <td>11.00</td>\n",
       "      <td>332</td>\n",
       "    </tr>\n",
       "    <tr>\n",
       "      <th>1</th>\n",
       "      <td>20230823</td>\n",
       "      <td>이-마이티</td>\n",
       "      <td>현대자동차(주)</td>\n",
       "      <td>A0810005008603209</td>\n",
       "      <td>7MY-HD-24-28</td>\n",
       "      <td>부하검사(LUG DOWN)</td>\n",
       "      <td>4.00</td>\n",
       "      <td>8.00</td>\n",
       "      <td>11.00</td>\n",
       "      <td>512</td>\n",
       "    </tr>\n",
       "    <tr>\n",
       "      <th>2</th>\n",
       "      <td>20230823</td>\n",
       "      <td>이-마이티</td>\n",
       "      <td>현대자동차(주)</td>\n",
       "      <td>A0810005009343210</td>\n",
       "      <td>7MY-HD-24-28</td>\n",
       "      <td>부하검사(LUG DOWN)</td>\n",
       "      <td>2.00</td>\n",
       "      <td>6.00</td>\n",
       "      <td>9.00</td>\n",
       "      <td>476</td>\n",
       "    </tr>\n",
       "    <tr>\n",
       "      <th>3</th>\n",
       "      <td>20230823</td>\n",
       "      <td>이-카운티</td>\n",
       "      <td>현대자동차(주)</td>\n",
       "      <td>A0810005603012209</td>\n",
       "      <td>7MY-HD-24-28</td>\n",
       "      <td>부하검사(LUG DOWN)</td>\n",
       "      <td>3.00</td>\n",
       "      <td>8.00</td>\n",
       "      <td>11.00</td>\n",
       "      <td>327</td>\n",
       "    </tr>\n",
       "    <tr>\n",
       "      <th>4</th>\n",
       "      <td>20230823</td>\n",
       "      <td>이-마이티</td>\n",
       "      <td>현대자동차(주)</td>\n",
       "      <td>A0810005008583209</td>\n",
       "      <td>7MY-HD-24-28</td>\n",
       "      <td>부하검사(LUG DOWN)</td>\n",
       "      <td>3.00</td>\n",
       "      <td>7.00</td>\n",
       "      <td>10.75</td>\n",
       "      <td>650</td>\n",
       "    </tr>\n",
       "  </tbody>\n",
       "</table>\n",
       "</div>"
      ],
      "text/plain": [
       "    테이블생성일자     차명      제작사명             제원관리번호      배출가스인증번호            검사방법   \n",
       "0  20230823  이-마이티  현대자동차(주)  A0810005008503209  7MY-HD-24-28  부하검사(LUG DOWN)  \\\n",
       "1  20230823  이-마이티  현대자동차(주)  A0810005008603209  7MY-HD-24-28  부하검사(LUG DOWN)   \n",
       "2  20230823  이-마이티  현대자동차(주)  A0810005009343210  7MY-HD-24-28  부하검사(LUG DOWN)   \n",
       "3  20230823  이-카운티  현대자동차(주)  A0810005603012209  7MY-HD-24-28  부하검사(LUG DOWN)   \n",
       "4  20230823  이-마이티  현대자동차(주)  A0810005008583209  7MY-HD-24-28  부하검사(LUG DOWN)   \n",
       "\n",
       "    q1   q2    q3  차량대수  \n",
       "0 5.00 8.00 11.00   332  \n",
       "1 4.00 8.00 11.00   512  \n",
       "2 2.00 6.00  9.00   476  \n",
       "3 3.00 8.00 11.00   327  \n",
       "4 3.00 7.00 10.75   650  "
      ]
     },
     "execution_count": 140,
     "metadata": {},
     "output_type": "execute_result"
    }
   ],
   "source": [
    "cert_df1.head()"
   ]
  },
  {
   "cell_type": "code",
   "execution_count": 141,
   "metadata": {},
   "outputs": [
    {
     "data": {
      "text/plain": [
       "Index(['제작사명', '배출가스인증번호', '제원관리번호', '자동차형식', '엔진형식', '검사종류', '검사방법', '검사판정',\n",
       "       '대수', 'mean', 'min', 'max', '합격률(%)'],\n",
       "      dtype='object')"
      ]
     },
     "execution_count": 141,
     "metadata": {},
     "output_type": "execute_result"
    }
   ],
   "source": [
    "sample01.columns"
   ]
  },
  {
   "cell_type": "code",
   "execution_count": 142,
   "metadata": {},
   "outputs": [
    {
     "data": {
      "text/plain": [
       "(1391, 10)"
      ]
     },
     "execution_count": 142,
     "metadata": {},
     "output_type": "execute_result"
    }
   ],
   "source": [
    "# cert_df2 = cert_df1[cert_df1['배출가스인증번호'] != 'nan'].reset_index(drop=True)\n",
    "cert_df2 = cert_df1[cert_df1['배출가스인증번호'].isnull() == False].reset_index(drop=True)\n",
    "cert_df2.shape"
   ]
  },
  {
   "cell_type": "code",
   "execution_count": 143,
   "metadata": {},
   "outputs": [
    {
     "data": {
      "text/html": [
       "<div>\n",
       "<style scoped>\n",
       "    .dataframe tbody tr th:only-of-type {\n",
       "        vertical-align: middle;\n",
       "    }\n",
       "\n",
       "    .dataframe tbody tr th {\n",
       "        vertical-align: top;\n",
       "    }\n",
       "\n",
       "    .dataframe thead th {\n",
       "        text-align: right;\n",
       "    }\n",
       "</style>\n",
       "<table border=\"1\" class=\"dataframe\">\n",
       "  <thead>\n",
       "    <tr style=\"text-align: right;\">\n",
       "      <th></th>\n",
       "      <th>테이블생성일자</th>\n",
       "      <th>차명</th>\n",
       "      <th>제작사명</th>\n",
       "      <th>제원관리번호</th>\n",
       "      <th>배출가스인증번호</th>\n",
       "      <th>검사방법</th>\n",
       "      <th>q1</th>\n",
       "      <th>q2</th>\n",
       "      <th>q3</th>\n",
       "      <th>차량대수</th>\n",
       "      <th>q2_mean</th>\n",
       "    </tr>\n",
       "  </thead>\n",
       "  <tbody>\n",
       "    <tr>\n",
       "      <th>0</th>\n",
       "      <td>20230823</td>\n",
       "      <td>이-마이티</td>\n",
       "      <td>현대자동차(주)</td>\n",
       "      <td>A0810005008503209</td>\n",
       "      <td>7MY-HD-24-28</td>\n",
       "      <td>부하검사(LUG DOWN)</td>\n",
       "      <td>5.00</td>\n",
       "      <td>8.00</td>\n",
       "      <td>11.00</td>\n",
       "      <td>332</td>\n",
       "      <td>6.57</td>\n",
       "    </tr>\n",
       "    <tr>\n",
       "      <th>1</th>\n",
       "      <td>20230823</td>\n",
       "      <td>이-마이티</td>\n",
       "      <td>현대자동차(주)</td>\n",
       "      <td>A0810005008603209</td>\n",
       "      <td>7MY-HD-24-28</td>\n",
       "      <td>부하검사(LUG DOWN)</td>\n",
       "      <td>4.00</td>\n",
       "      <td>8.00</td>\n",
       "      <td>11.00</td>\n",
       "      <td>512</td>\n",
       "      <td>6.57</td>\n",
       "    </tr>\n",
       "    <tr>\n",
       "      <th>2</th>\n",
       "      <td>20230823</td>\n",
       "      <td>이-마이티</td>\n",
       "      <td>현대자동차(주)</td>\n",
       "      <td>A0810005009343210</td>\n",
       "      <td>7MY-HD-24-28</td>\n",
       "      <td>부하검사(LUG DOWN)</td>\n",
       "      <td>2.00</td>\n",
       "      <td>6.00</td>\n",
       "      <td>9.00</td>\n",
       "      <td>476</td>\n",
       "      <td>6.57</td>\n",
       "    </tr>\n",
       "    <tr>\n",
       "      <th>3</th>\n",
       "      <td>20230823</td>\n",
       "      <td>이-카운티</td>\n",
       "      <td>현대자동차(주)</td>\n",
       "      <td>A0810005603012209</td>\n",
       "      <td>7MY-HD-24-28</td>\n",
       "      <td>부하검사(LUG DOWN)</td>\n",
       "      <td>3.00</td>\n",
       "      <td>8.00</td>\n",
       "      <td>11.00</td>\n",
       "      <td>327</td>\n",
       "      <td>6.50</td>\n",
       "    </tr>\n",
       "    <tr>\n",
       "      <th>4</th>\n",
       "      <td>20230823</td>\n",
       "      <td>이-마이티</td>\n",
       "      <td>현대자동차(주)</td>\n",
       "      <td>A0810005008583209</td>\n",
       "      <td>7MY-HD-24-28</td>\n",
       "      <td>부하검사(LUG DOWN)</td>\n",
       "      <td>3.00</td>\n",
       "      <td>7.00</td>\n",
       "      <td>10.75</td>\n",
       "      <td>650</td>\n",
       "      <td>6.57</td>\n",
       "    </tr>\n",
       "    <tr>\n",
       "      <th>...</th>\n",
       "      <td>...</td>\n",
       "      <td>...</td>\n",
       "      <td>...</td>\n",
       "      <td>...</td>\n",
       "      <td>...</td>\n",
       "      <td>...</td>\n",
       "      <td>...</td>\n",
       "      <td>...</td>\n",
       "      <td>...</td>\n",
       "      <td>...</td>\n",
       "      <td>...</td>\n",
       "    </tr>\n",
       "    <tr>\n",
       "      <th>1386</th>\n",
       "      <td>20230823</td>\n",
       "      <td>싼타페(SANTAFE)</td>\n",
       "      <td>현대자동차(주)</td>\n",
       "      <td>A0810006800761307</td>\n",
       "      <td>7MY-HD-23-01</td>\n",
       "      <td>무부하검사(급가속)</td>\n",
       "      <td>0.00</td>\n",
       "      <td>0.00</td>\n",
       "      <td>1.00</td>\n",
       "      <td>105</td>\n",
       "      <td>0.00</td>\n",
       "    </tr>\n",
       "    <tr>\n",
       "      <th>1387</th>\n",
       "      <td>20230823</td>\n",
       "      <td>싼타페(SANTAFE)</td>\n",
       "      <td>현대자동차(주)</td>\n",
       "      <td>A0810006800781307</td>\n",
       "      <td>7MY-HD-23-01</td>\n",
       "      <td>무부하검사(급가속)</td>\n",
       "      <td>0.00</td>\n",
       "      <td>0.00</td>\n",
       "      <td>3.00</td>\n",
       "      <td>223</td>\n",
       "      <td>0.00</td>\n",
       "    </tr>\n",
       "    <tr>\n",
       "      <th>1388</th>\n",
       "      <td>20230823</td>\n",
       "      <td>쎄라토</td>\n",
       "      <td>기아자동차(주)</td>\n",
       "      <td>A0110003001211206</td>\n",
       "      <td>5MY-KM-24-64</td>\n",
       "      <td>부하검사(KD-147)</td>\n",
       "      <td>4.00</td>\n",
       "      <td>7.00</td>\n",
       "      <td>14.00</td>\n",
       "      <td>205</td>\n",
       "      <td>8.00</td>\n",
       "    </tr>\n",
       "    <tr>\n",
       "      <th>1389</th>\n",
       "      <td>20230823</td>\n",
       "      <td>쎄라토</td>\n",
       "      <td>기아자동차(주)</td>\n",
       "      <td>A0110003000981205</td>\n",
       "      <td>5MY-KM-24-64</td>\n",
       "      <td>부하검사(KD-147)</td>\n",
       "      <td>5.00</td>\n",
       "      <td>9.00</td>\n",
       "      <td>14.75</td>\n",
       "      <td>262</td>\n",
       "      <td>8.00</td>\n",
       "    </tr>\n",
       "    <tr>\n",
       "      <th>1390</th>\n",
       "      <td>20230823</td>\n",
       "      <td>Phaeton 3.0 TDI</td>\n",
       "      <td>아우디폭스바겐코리아(주)</td>\n",
       "      <td>02420004800011305</td>\n",
       "      <td>5MY-AD-13-06</td>\n",
       "      <td>무부하검사(급가속)</td>\n",
       "      <td>0.00</td>\n",
       "      <td>0.00</td>\n",
       "      <td>0.00</td>\n",
       "      <td>115</td>\n",
       "      <td>0.00</td>\n",
       "    </tr>\n",
       "  </tbody>\n",
       "</table>\n",
       "<p>1391 rows × 11 columns</p>\n",
       "</div>"
      ],
      "text/plain": [
       "       테이블생성일자               차명           제작사명             제원관리번호   \n",
       "0     20230823            이-마이티       현대자동차(주)  A0810005008503209  \\\n",
       "1     20230823            이-마이티       현대자동차(주)  A0810005008603209   \n",
       "2     20230823            이-마이티       현대자동차(주)  A0810005009343210   \n",
       "3     20230823            이-카운티       현대자동차(주)  A0810005603012209   \n",
       "4     20230823            이-마이티       현대자동차(주)  A0810005008583209   \n",
       "...        ...              ...            ...                ...   \n",
       "1386  20230823     싼타페(SANTAFE)       현대자동차(주)  A0810006800761307   \n",
       "1387  20230823     싼타페(SANTAFE)       현대자동차(주)  A0810006800781307   \n",
       "1388  20230823              쎄라토       기아자동차(주)  A0110003001211206   \n",
       "1389  20230823              쎄라토       기아자동차(주)  A0110003000981205   \n",
       "1390  20230823  Phaeton 3.0 TDI  아우디폭스바겐코리아(주)  02420004800011305   \n",
       "\n",
       "          배출가스인증번호            검사방법   q1   q2    q3  차량대수  q2_mean  \n",
       "0     7MY-HD-24-28  부하검사(LUG DOWN) 5.00 8.00 11.00   332     6.57  \n",
       "1     7MY-HD-24-28  부하검사(LUG DOWN) 4.00 8.00 11.00   512     6.57  \n",
       "2     7MY-HD-24-28  부하검사(LUG DOWN) 2.00 6.00  9.00   476     6.57  \n",
       "3     7MY-HD-24-28  부하검사(LUG DOWN) 3.00 8.00 11.00   327     6.50  \n",
       "4     7MY-HD-24-28  부하검사(LUG DOWN) 3.00 7.00 10.75   650     6.57  \n",
       "...            ...             ...  ...  ...   ...   ...      ...  \n",
       "1386  7MY-HD-23-01      무부하검사(급가속) 0.00 0.00  1.00   105     0.00  \n",
       "1387  7MY-HD-23-01      무부하검사(급가속) 0.00 0.00  3.00   223     0.00  \n",
       "1388  5MY-KM-24-64    부하검사(KD-147) 4.00 7.00 14.00   205     8.00  \n",
       "1389  5MY-KM-24-64    부하검사(KD-147) 5.00 9.00 14.75   262     8.00  \n",
       "1390  5MY-AD-13-06      무부하검사(급가속) 0.00 0.00  0.00   115     0.00  \n",
       "\n",
       "[1391 rows x 11 columns]"
      ]
     },
     "execution_count": 143,
     "metadata": {},
     "output_type": "execute_result"
    }
   ],
   "source": [
    "# cert_df1['q2_mean'] = cert_df1.groupby(['배출가스인증번호', '검사방법'])['q2'].transform('mean')\n",
    "cert_df2['q2_mean'] = cert_df2.groupby(['제작사명', '차명', '배출가스인증번호', '검사방법'])['q2'].transform('mean')\n",
    "cert_df2"
   ]
  },
  {
   "cell_type": "code",
   "execution_count": 144,
   "metadata": {},
   "outputs": [],
   "source": [
    "cert_df2.loc[(cert_df2['q2'] > cert_df2['q2_mean']*5) | (cert_df2['q2'] < cert_df2['q2_mean']/5), '검토구분'] = '주의'\n",
    "cert_df2.loc[cert_df2['q3'] == 0, '검토구분'] = '양호'\n",
    "cert_df2['검토구분'] = cert_df2['검토구분'].fillna('양호')"
   ]
  },
  {
   "cell_type": "code",
   "execution_count": 145,
   "metadata": {},
   "outputs": [
    {
     "data": {
      "text/plain": [
       "검토구분\n",
       "양호    102\n",
       "Name: count, dtype: int64"
      ]
     },
     "execution_count": 145,
     "metadata": {},
     "output_type": "execute_result"
    }
   ],
   "source": [
    "cert_df2.loc[cert_df2['q3'] == 0, '검토구분'].value_counts()"
   ]
  },
  {
   "cell_type": "code",
   "execution_count": 146,
   "metadata": {},
   "outputs": [
    {
     "data": {
      "text/plain": [
       "검토구분\n",
       "양호    1340\n",
       "주의      51\n",
       "Name: count, dtype: int64"
      ]
     },
     "execution_count": 146,
     "metadata": {},
     "output_type": "execute_result"
    }
   ],
   "source": [
    "cert_df2['검토구분'].value_counts()"
   ]
  },
  {
   "cell_type": "code",
   "execution_count": 147,
   "metadata": {},
   "outputs": [
    {
     "data": {
      "text/html": [
       "<div>\n",
       "<style scoped>\n",
       "    .dataframe tbody tr th:only-of-type {\n",
       "        vertical-align: middle;\n",
       "    }\n",
       "\n",
       "    .dataframe tbody tr th {\n",
       "        vertical-align: top;\n",
       "    }\n",
       "\n",
       "    .dataframe thead th {\n",
       "        text-align: right;\n",
       "    }\n",
       "</style>\n",
       "<table border=\"1\" class=\"dataframe\">\n",
       "  <thead>\n",
       "    <tr style=\"text-align: right;\">\n",
       "      <th></th>\n",
       "      <th>배출가스인증번호</th>\n",
       "      <th>검사방법</th>\n",
       "      <th>검토구분</th>\n",
       "      <th>제원관리번호</th>\n",
       "      <th>대표제작사명</th>\n",
       "      <th>대표차명</th>\n",
       "    </tr>\n",
       "  </thead>\n",
       "  <tbody>\n",
       "    <tr>\n",
       "      <th>0</th>\n",
       "      <td>5MY-AD-13-06</td>\n",
       "      <td>무부하검사(급가속)</td>\n",
       "      <td>양호</td>\n",
       "      <td>02420004800011305</td>\n",
       "      <td>아우디폭스바겐코리아(주)</td>\n",
       "      <td>Phaeton 3.0 TDI</td>\n",
       "    </tr>\n",
       "    <tr>\n",
       "      <th>1</th>\n",
       "      <td>5MY-AD-14-08</td>\n",
       "      <td>부하검사(KD-147)</td>\n",
       "      <td>양호</td>\n",
       "      <td>02420006800031206</td>\n",
       "      <td>아우디폭스바겐코리아(주)</td>\n",
       "      <td>Passat 2.0 TDI</td>\n",
       "    </tr>\n",
       "    <tr>\n",
       "      <th>2</th>\n",
       "      <td>5MY-AD-14-08</td>\n",
       "      <td>부하검사(KD-147)</td>\n",
       "      <td>양호</td>\n",
       "      <td>02420006800111207</td>\n",
       "      <td>아우디폭스바겐코리아(주)</td>\n",
       "      <td>Passat 2.0 TDI</td>\n",
       "    </tr>\n",
       "    <tr>\n",
       "      <th>3</th>\n",
       "      <td>5MY-AD-14-18</td>\n",
       "      <td>부하검사(KD-147)</td>\n",
       "      <td>양호</td>\n",
       "      <td>02420004900031207</td>\n",
       "      <td>아우디폭스바겐코리아(주)</td>\n",
       "      <td>Golf 2.0 TDI</td>\n",
       "    </tr>\n",
       "    <tr>\n",
       "      <th>4</th>\n",
       "      <td>5MY-AD-14-18</td>\n",
       "      <td>부하검사(KD-147)</td>\n",
       "      <td>양호</td>\n",
       "      <td>02420004900041208</td>\n",
       "      <td>아우디폭스바겐코리아(주)</td>\n",
       "      <td>Golf 2.0 TDI</td>\n",
       "    </tr>\n",
       "    <tr>\n",
       "      <th>...</th>\n",
       "      <td>...</td>\n",
       "      <td>...</td>\n",
       "      <td>...</td>\n",
       "      <td>...</td>\n",
       "      <td>...</td>\n",
       "      <td>...</td>\n",
       "    </tr>\n",
       "    <tr>\n",
       "      <th>985</th>\n",
       "      <td>9MY-KM-14-41</td>\n",
       "      <td>부하검사(KD-147)</td>\n",
       "      <td>양호</td>\n",
       "      <td>A0110003800871309</td>\n",
       "      <td>기아자동차(주)</td>\n",
       "      <td>카니발</td>\n",
       "    </tr>\n",
       "    <tr>\n",
       "      <th>986</th>\n",
       "      <td>9MY-KM-14-41</td>\n",
       "      <td>부하검사(KD-147)</td>\n",
       "      <td>양호</td>\n",
       "      <td>A0110003800901310</td>\n",
       "      <td>기아자동차(주)</td>\n",
       "      <td>카니발</td>\n",
       "    </tr>\n",
       "    <tr>\n",
       "      <th>987</th>\n",
       "      <td>9MY-KM-14-41</td>\n",
       "      <td>부하검사(KD-147)</td>\n",
       "      <td>양호</td>\n",
       "      <td>A0110003800911310</td>\n",
       "      <td>기아자동차(주)</td>\n",
       "      <td>카니발</td>\n",
       "    </tr>\n",
       "    <tr>\n",
       "      <th>988</th>\n",
       "      <td>9MY-PA-13-1</td>\n",
       "      <td>무부하검사(급가속)</td>\n",
       "      <td>양호</td>\n",
       "      <td>00920003200021309</td>\n",
       "      <td>(주)볼보자동차코리아</td>\n",
       "      <td>볼보 XC60D5</td>\n",
       "    </tr>\n",
       "    <tr>\n",
       "      <th>989</th>\n",
       "      <td>AMY-JL-13-9</td>\n",
       "      <td>무부하검사(급가속)</td>\n",
       "      <td>양호</td>\n",
       "      <td>04220000900021309</td>\n",
       "      <td>(주)재규어랜드로버코리아</td>\n",
       "      <td>프리랜더 TD4</td>\n",
       "    </tr>\n",
       "  </tbody>\n",
       "</table>\n",
       "<p>990 rows × 6 columns</p>\n",
       "</div>"
      ],
      "text/plain": [
       "         배출가스인증번호          검사방법 검토구분             제원관리번호         대표제작사명   \n",
       "0    5MY-AD-13-06    무부하검사(급가속)   양호  02420004800011305  아우디폭스바겐코리아(주)  \\\n",
       "1    5MY-AD-14-08  부하검사(KD-147)   양호  02420006800031206  아우디폭스바겐코리아(주)   \n",
       "2    5MY-AD-14-08  부하검사(KD-147)   양호  02420006800111207  아우디폭스바겐코리아(주)   \n",
       "3    5MY-AD-14-18  부하검사(KD-147)   양호  02420004900031207  아우디폭스바겐코리아(주)   \n",
       "4    5MY-AD-14-18  부하검사(KD-147)   양호  02420004900041208  아우디폭스바겐코리아(주)   \n",
       "..            ...           ...  ...                ...            ...   \n",
       "985  9MY-KM-14-41  부하검사(KD-147)   양호  A0110003800871309       기아자동차(주)   \n",
       "986  9MY-KM-14-41  부하검사(KD-147)   양호  A0110003800901310       기아자동차(주)   \n",
       "987  9MY-KM-14-41  부하검사(KD-147)   양호  A0110003800911310       기아자동차(주)   \n",
       "988   9MY-PA-13-1    무부하검사(급가속)   양호  00920003200021309    (주)볼보자동차코리아   \n",
       "989   AMY-JL-13-9    무부하검사(급가속)   양호  04220000900021309  (주)재규어랜드로버코리아   \n",
       "\n",
       "                대표차명  \n",
       "0    Phaeton 3.0 TDI  \n",
       "1     Passat 2.0 TDI  \n",
       "2     Passat 2.0 TDI  \n",
       "3       Golf 2.0 TDI  \n",
       "4       Golf 2.0 TDI  \n",
       "..               ...  \n",
       "985              카니발  \n",
       "986              카니발  \n",
       "987              카니발  \n",
       "988        볼보 XC60D5  \n",
       "989         프리랜더 TD4  \n",
       "\n",
       "[990 rows x 6 columns]"
      ]
     },
     "execution_count": 147,
     "metadata": {},
     "output_type": "execute_result"
    }
   ],
   "source": [
    "grp1 = cert_df2.groupby(['배출가스인증번호', '검사방법', '검토구분', '제원관리번호']).agg({'제작사명':lambda x:x.value_counts().index[0], '차명':lambda x:x.value_counts().index[0]}).reset_index()\n",
    "grp1 = grp1.rename(columns={'제작사명':'대표제작사명', '차명':'대표차명'})\n",
    "grp1"
   ]
  },
  {
   "cell_type": "code",
   "execution_count": 149,
   "metadata": {},
   "outputs": [
    {
     "data": {
      "text/plain": [
       "(1391, 14)"
      ]
     },
     "execution_count": 149,
     "metadata": {},
     "output_type": "execute_result"
    }
   ],
   "source": [
    "cg1 = cert_df2.merge(grp1, on=['배출가스인증번호', '검사방법', '검토구분', '제원관리번호'], how='left')\n",
    "cg1.shape"
   ]
  },
  {
   "cell_type": "code",
   "execution_count": 150,
   "metadata": {},
   "outputs": [
    {
     "data": {
      "text/html": [
       "<div>\n",
       "<style scoped>\n",
       "    .dataframe tbody tr th:only-of-type {\n",
       "        vertical-align: middle;\n",
       "    }\n",
       "\n",
       "    .dataframe tbody tr th {\n",
       "        vertical-align: top;\n",
       "    }\n",
       "\n",
       "    .dataframe thead th {\n",
       "        text-align: right;\n",
       "    }\n",
       "</style>\n",
       "<table border=\"1\" class=\"dataframe\">\n",
       "  <thead>\n",
       "    <tr style=\"text-align: right;\">\n",
       "      <th></th>\n",
       "      <th>테이블생성일자</th>\n",
       "      <th>차명</th>\n",
       "      <th>제작사명</th>\n",
       "      <th>제원관리번호</th>\n",
       "      <th>배출가스인증번호</th>\n",
       "      <th>검사방법</th>\n",
       "      <th>q1</th>\n",
       "      <th>q2</th>\n",
       "      <th>q3</th>\n",
       "      <th>차량대수</th>\n",
       "      <th>q2_mean</th>\n",
       "      <th>검토구분</th>\n",
       "      <th>대표제작사명</th>\n",
       "      <th>대표차명</th>\n",
       "    </tr>\n",
       "  </thead>\n",
       "  <tbody>\n",
       "    <tr>\n",
       "      <th>0</th>\n",
       "      <td>20230823</td>\n",
       "      <td>이-마이티</td>\n",
       "      <td>현대자동차(주)</td>\n",
       "      <td>A0810005008503209</td>\n",
       "      <td>7MY-HD-24-28</td>\n",
       "      <td>부하검사(LUG DOWN)</td>\n",
       "      <td>5.00</td>\n",
       "      <td>8.00</td>\n",
       "      <td>11.00</td>\n",
       "      <td>332</td>\n",
       "      <td>6.57</td>\n",
       "      <td>양호</td>\n",
       "      <td>현대자동차(주)</td>\n",
       "      <td>이-마이티</td>\n",
       "    </tr>\n",
       "    <tr>\n",
       "      <th>1</th>\n",
       "      <td>20230823</td>\n",
       "      <td>이-마이티</td>\n",
       "      <td>현대자동차(주)</td>\n",
       "      <td>A0810005008603209</td>\n",
       "      <td>7MY-HD-24-28</td>\n",
       "      <td>부하검사(LUG DOWN)</td>\n",
       "      <td>4.00</td>\n",
       "      <td>8.00</td>\n",
       "      <td>11.00</td>\n",
       "      <td>512</td>\n",
       "      <td>6.57</td>\n",
       "      <td>양호</td>\n",
       "      <td>현대자동차(주)</td>\n",
       "      <td>이-마이티</td>\n",
       "    </tr>\n",
       "    <tr>\n",
       "      <th>2</th>\n",
       "      <td>20230823</td>\n",
       "      <td>이-마이티</td>\n",
       "      <td>현대자동차(주)</td>\n",
       "      <td>A0810005009343210</td>\n",
       "      <td>7MY-HD-24-28</td>\n",
       "      <td>부하검사(LUG DOWN)</td>\n",
       "      <td>2.00</td>\n",
       "      <td>6.00</td>\n",
       "      <td>9.00</td>\n",
       "      <td>476</td>\n",
       "      <td>6.57</td>\n",
       "      <td>양호</td>\n",
       "      <td>현대자동차(주)</td>\n",
       "      <td>이-마이티</td>\n",
       "    </tr>\n",
       "    <tr>\n",
       "      <th>3</th>\n",
       "      <td>20230823</td>\n",
       "      <td>이-카운티</td>\n",
       "      <td>현대자동차(주)</td>\n",
       "      <td>A0810005603012209</td>\n",
       "      <td>7MY-HD-24-28</td>\n",
       "      <td>부하검사(LUG DOWN)</td>\n",
       "      <td>3.00</td>\n",
       "      <td>8.00</td>\n",
       "      <td>11.00</td>\n",
       "      <td>327</td>\n",
       "      <td>6.50</td>\n",
       "      <td>양호</td>\n",
       "      <td>현대자동차(주)</td>\n",
       "      <td>이-카운티</td>\n",
       "    </tr>\n",
       "    <tr>\n",
       "      <th>4</th>\n",
       "      <td>20230823</td>\n",
       "      <td>이-마이티</td>\n",
       "      <td>현대자동차(주)</td>\n",
       "      <td>A0810005008583209</td>\n",
       "      <td>7MY-HD-24-28</td>\n",
       "      <td>부하검사(LUG DOWN)</td>\n",
       "      <td>3.00</td>\n",
       "      <td>7.00</td>\n",
       "      <td>10.75</td>\n",
       "      <td>650</td>\n",
       "      <td>6.57</td>\n",
       "      <td>양호</td>\n",
       "      <td>현대자동차(주)</td>\n",
       "      <td>이-마이티</td>\n",
       "    </tr>\n",
       "    <tr>\n",
       "      <th>...</th>\n",
       "      <td>...</td>\n",
       "      <td>...</td>\n",
       "      <td>...</td>\n",
       "      <td>...</td>\n",
       "      <td>...</td>\n",
       "      <td>...</td>\n",
       "      <td>...</td>\n",
       "      <td>...</td>\n",
       "      <td>...</td>\n",
       "      <td>...</td>\n",
       "      <td>...</td>\n",
       "      <td>...</td>\n",
       "      <td>...</td>\n",
       "      <td>...</td>\n",
       "    </tr>\n",
       "    <tr>\n",
       "      <th>1386</th>\n",
       "      <td>20230823</td>\n",
       "      <td>싼타페(SANTAFE)</td>\n",
       "      <td>현대자동차(주)</td>\n",
       "      <td>A0810006800761307</td>\n",
       "      <td>7MY-HD-23-01</td>\n",
       "      <td>무부하검사(급가속)</td>\n",
       "      <td>0.00</td>\n",
       "      <td>0.00</td>\n",
       "      <td>1.00</td>\n",
       "      <td>105</td>\n",
       "      <td>0.00</td>\n",
       "      <td>양호</td>\n",
       "      <td>현대자동차(주)</td>\n",
       "      <td>싼타페(SANTAFE)</td>\n",
       "    </tr>\n",
       "    <tr>\n",
       "      <th>1387</th>\n",
       "      <td>20230823</td>\n",
       "      <td>싼타페(SANTAFE)</td>\n",
       "      <td>현대자동차(주)</td>\n",
       "      <td>A0810006800781307</td>\n",
       "      <td>7MY-HD-23-01</td>\n",
       "      <td>무부하검사(급가속)</td>\n",
       "      <td>0.00</td>\n",
       "      <td>0.00</td>\n",
       "      <td>3.00</td>\n",
       "      <td>223</td>\n",
       "      <td>0.00</td>\n",
       "      <td>양호</td>\n",
       "      <td>현대자동차(주)</td>\n",
       "      <td>싼타페(SANTAFE)</td>\n",
       "    </tr>\n",
       "    <tr>\n",
       "      <th>1388</th>\n",
       "      <td>20230823</td>\n",
       "      <td>쎄라토</td>\n",
       "      <td>기아자동차(주)</td>\n",
       "      <td>A0110003001211206</td>\n",
       "      <td>5MY-KM-24-64</td>\n",
       "      <td>부하검사(KD-147)</td>\n",
       "      <td>4.00</td>\n",
       "      <td>7.00</td>\n",
       "      <td>14.00</td>\n",
       "      <td>205</td>\n",
       "      <td>8.00</td>\n",
       "      <td>양호</td>\n",
       "      <td>기아자동차(주)</td>\n",
       "      <td>쎄라토</td>\n",
       "    </tr>\n",
       "    <tr>\n",
       "      <th>1389</th>\n",
       "      <td>20230823</td>\n",
       "      <td>쎄라토</td>\n",
       "      <td>기아자동차(주)</td>\n",
       "      <td>A0110003000981205</td>\n",
       "      <td>5MY-KM-24-64</td>\n",
       "      <td>부하검사(KD-147)</td>\n",
       "      <td>5.00</td>\n",
       "      <td>9.00</td>\n",
       "      <td>14.75</td>\n",
       "      <td>262</td>\n",
       "      <td>8.00</td>\n",
       "      <td>양호</td>\n",
       "      <td>기아자동차(주)</td>\n",
       "      <td>쎄라토</td>\n",
       "    </tr>\n",
       "    <tr>\n",
       "      <th>1390</th>\n",
       "      <td>20230823</td>\n",
       "      <td>Phaeton 3.0 TDI</td>\n",
       "      <td>아우디폭스바겐코리아(주)</td>\n",
       "      <td>02420004800011305</td>\n",
       "      <td>5MY-AD-13-06</td>\n",
       "      <td>무부하검사(급가속)</td>\n",
       "      <td>0.00</td>\n",
       "      <td>0.00</td>\n",
       "      <td>0.00</td>\n",
       "      <td>115</td>\n",
       "      <td>0.00</td>\n",
       "      <td>양호</td>\n",
       "      <td>아우디폭스바겐코리아(주)</td>\n",
       "      <td>Phaeton 3.0 TDI</td>\n",
       "    </tr>\n",
       "  </tbody>\n",
       "</table>\n",
       "<p>1391 rows × 14 columns</p>\n",
       "</div>"
      ],
      "text/plain": [
       "       테이블생성일자               차명           제작사명             제원관리번호   \n",
       "0     20230823            이-마이티       현대자동차(주)  A0810005008503209  \\\n",
       "1     20230823            이-마이티       현대자동차(주)  A0810005008603209   \n",
       "2     20230823            이-마이티       현대자동차(주)  A0810005009343210   \n",
       "3     20230823            이-카운티       현대자동차(주)  A0810005603012209   \n",
       "4     20230823            이-마이티       현대자동차(주)  A0810005008583209   \n",
       "...        ...              ...            ...                ...   \n",
       "1386  20230823     싼타페(SANTAFE)       현대자동차(주)  A0810006800761307   \n",
       "1387  20230823     싼타페(SANTAFE)       현대자동차(주)  A0810006800781307   \n",
       "1388  20230823              쎄라토       기아자동차(주)  A0110003001211206   \n",
       "1389  20230823              쎄라토       기아자동차(주)  A0110003000981205   \n",
       "1390  20230823  Phaeton 3.0 TDI  아우디폭스바겐코리아(주)  02420004800011305   \n",
       "\n",
       "          배출가스인증번호            검사방법   q1   q2    q3  차량대수  q2_mean 검토구분   \n",
       "0     7MY-HD-24-28  부하검사(LUG DOWN) 5.00 8.00 11.00   332     6.57   양호  \\\n",
       "1     7MY-HD-24-28  부하검사(LUG DOWN) 4.00 8.00 11.00   512     6.57   양호   \n",
       "2     7MY-HD-24-28  부하검사(LUG DOWN) 2.00 6.00  9.00   476     6.57   양호   \n",
       "3     7MY-HD-24-28  부하검사(LUG DOWN) 3.00 8.00 11.00   327     6.50   양호   \n",
       "4     7MY-HD-24-28  부하검사(LUG DOWN) 3.00 7.00 10.75   650     6.57   양호   \n",
       "...            ...             ...  ...  ...   ...   ...      ...  ...   \n",
       "1386  7MY-HD-23-01      무부하검사(급가속) 0.00 0.00  1.00   105     0.00   양호   \n",
       "1387  7MY-HD-23-01      무부하검사(급가속) 0.00 0.00  3.00   223     0.00   양호   \n",
       "1388  5MY-KM-24-64    부하검사(KD-147) 4.00 7.00 14.00   205     8.00   양호   \n",
       "1389  5MY-KM-24-64    부하검사(KD-147) 5.00 9.00 14.75   262     8.00   양호   \n",
       "1390  5MY-AD-13-06      무부하검사(급가속) 0.00 0.00  0.00   115     0.00   양호   \n",
       "\n",
       "             대표제작사명             대표차명  \n",
       "0          현대자동차(주)            이-마이티  \n",
       "1          현대자동차(주)            이-마이티  \n",
       "2          현대자동차(주)            이-마이티  \n",
       "3          현대자동차(주)            이-카운티  \n",
       "4          현대자동차(주)            이-마이티  \n",
       "...             ...              ...  \n",
       "1386       현대자동차(주)     싼타페(SANTAFE)  \n",
       "1387       현대자동차(주)     싼타페(SANTAFE)  \n",
       "1388       기아자동차(주)              쎄라토  \n",
       "1389       기아자동차(주)              쎄라토  \n",
       "1390  아우디폭스바겐코리아(주)  Phaeton 3.0 TDI  \n",
       "\n",
       "[1391 rows x 14 columns]"
      ]
     },
     "execution_count": 150,
     "metadata": {},
     "output_type": "execute_result"
    }
   ],
   "source": [
    "cg1"
   ]
  },
  {
   "cell_type": "code",
   "execution_count": 151,
   "metadata": {},
   "outputs": [
    {
     "data": {
      "text/plain": [
       "array(['양호', '주의'], dtype=object)"
      ]
     },
     "execution_count": 151,
     "metadata": {},
     "output_type": "execute_result"
    }
   ],
   "source": [
    "cg1['검토구분'].unique()"
   ]
  },
  {
   "cell_type": "code",
   "execution_count": 152,
   "metadata": {},
   "outputs": [
    {
     "data": {
      "text/plain": [
       "검토구분      0\n",
       "대표제작사명    0\n",
       "대표차명      0\n",
       "dtype: int64"
      ]
     },
     "execution_count": 152,
     "metadata": {},
     "output_type": "execute_result"
    }
   ],
   "source": [
    "cg1[['검토구분', '대표제작사명', '대표차명']].isnull().sum()"
   ]
  },
  {
   "cell_type": "code",
   "execution_count": 153,
   "metadata": {},
   "outputs": [
    {
     "data": {
      "text/plain": [
       "(990, 14)"
      ]
     },
     "execution_count": 153,
     "metadata": {},
     "output_type": "execute_result"
    }
   ],
   "source": [
    "cg2 = cg1.drop_duplicates(['배출가스인증번호', '검사방법', '검토구분', '대표제작사명', '대표차명', '제원관리번호']).reset_index(drop=True)\n",
    "cg2.shape"
   ]
  },
  {
   "cell_type": "code",
   "execution_count": 154,
   "metadata": {},
   "outputs": [
    {
     "data": {
      "text/plain": [
       "검토구분\n",
       "양호    942\n",
       "주의     48\n",
       "Name: count, dtype: int64"
      ]
     },
     "execution_count": 154,
     "metadata": {},
     "output_type": "execute_result"
    }
   ],
   "source": [
    "cg2['검토구분'].value_counts(dropna=False)"
   ]
  },
  {
   "cell_type": "code",
   "execution_count": 155,
   "metadata": {},
   "outputs": [
    {
     "data": {
      "text/plain": [
       "['테이블생성일자',\n",
       " '차명',\n",
       " '제작사명',\n",
       " '제원관리번호',\n",
       " '배출가스인증번호',\n",
       " '검사방법',\n",
       " 'q1',\n",
       " 'q2',\n",
       " 'q3',\n",
       " '차량대수',\n",
       " 'q2_mean',\n",
       " '검토구분',\n",
       " '대표제작사명',\n",
       " '대표차명']"
      ]
     },
     "execution_count": 155,
     "metadata": {},
     "output_type": "execute_result"
    }
   ],
   "source": [
    "list(cg2.columns)"
   ]
  },
  {
   "cell_type": "code",
   "execution_count": null,
   "metadata": {},
   "outputs": [],
   "source": []
  },
  {
   "cell_type": "code",
   "execution_count": 163,
   "metadata": {},
   "outputs": [],
   "source": [
    "STD_BD_DAT_GRD4_CERT_NO_RVW = cg2[[\n",
    "    '배출가스인증번호',\n",
    "    '검사방법',\n",
    "    '검토구분',\n",
    "    '대표제작사명',\n",
    "    '대표차명',\n",
    "    '제원관리번호',\n",
    "    'q1',\n",
    "    'q2',\n",
    "    'q3',\n",
    "    '테이블생성일자',\n",
    "]]"
   ]
  },
  {
   "cell_type": "code",
   "execution_count": 164,
   "metadata": {},
   "outputs": [
    {
     "data": {
      "text/plain": [
       "Index(['EXHST_GAS_CERT_NO', 'INSP_MTHD', 'RVW_SE', 'RPRS_MNFCTR_NM',\n",
       "       'RPRS_VHCNM', 'MANG_MNG_NO', 'LOWR_QRT', 'MID_QRT', 'UP_QRT',\n",
       "       'LOAD_DT'],\n",
       "      dtype='object')"
      ]
     },
     "execution_count": 164,
     "metadata": {},
     "output_type": "execute_result"
    }
   ],
   "source": [
    "cdict = {\n",
    "    '배출가스인증번호':'EXHST_GAS_CERT_NO',\n",
    "    '검사방법':'INSP_MTHD',\n",
    "    '검토구분':'RVW_SE',\n",
    "    '대표제작사명':'RPRS_MNFCTR_NM',\n",
    "    '대표차명':'RPRS_VHCNM', \n",
    "    '제원관리번호':'MANG_MNG_NO',\n",
    "    'q1':'LOWR_QRT',\n",
    "    'q2':'MID_QRT',\n",
    "    'q3':'UP_QRT',\n",
    "    '테이블생성일자':'LOAD_DT',\n",
    "}\n",
    "STD_BD_DAT_GRD4_CERT_NO_RVW = STD_BD_DAT_GRD4_CERT_NO_RVW.rename(columns=cdict)\n",
    "STD_BD_DAT_GRD4_CERT_NO_RVW.columns"
   ]
  },
  {
   "cell_type": "markdown",
   "metadata": {},
   "source": [
    "### [출력] STD_BD_DAT_GRD4_CERT_NO_RVW"
   ]
  },
  {
   "cell_type": "code",
   "execution_count": 165,
   "metadata": {},
   "outputs": [],
   "source": [
    "# expdf = STD_BD_DAT_GRD4_CERT_NO_RVW\n",
    "# table_nm = 'STD_BD_DAT_GRD4_CERT_NO_RVW'.upper()\n",
    "\n",
    "# # 테이블 생성\n",
    "# sql = 'create or replace table ' + table_nm + '( \\n'\n",
    "\n",
    "# for idx,column in enumerate(expdf.columns):\n",
    "#     if 'float' in expdf[column].dtype.name:\n",
    "#         sql += column + ' float'\n",
    "#     elif 'int' in expdf[column].dtype.name:\n",
    "#         sql += column + ' number'\n",
    "#     else:\n",
    "#         sql += column + ' varchar(255)'\n",
    "\n",
    "#     if len(expdf.columns) - 1 != idx:\n",
    "#         sql += ','\n",
    "#     sql += '\\n'\n",
    "# sql += ')'    \n",
    "# we.execute(sql)\n",
    "\n",
    "# # 데이터 추가\n",
    "# # 1s\n",
    "# we.import_from_pandas(expdf, table_nm)"
   ]
  },
  {
   "cell_type": "code",
   "execution_count": 166,
   "metadata": {},
   "outputs": [],
   "source": [
    "# # 0s\n",
    "# STD_BD_DAT_GRD4_CERT_NO_RVW.to_csv(os.path.join(df1_fold, 'STD_BD_DAT_GRD4_CERT_NO_RVW.csv'), index=False)"
   ]
  },
  {
   "cell_type": "markdown",
   "metadata": {},
   "source": [
    "## 열화도 테이블"
   ]
  },
  {
   "cell_type": "code",
   "execution_count": 167,
   "metadata": {},
   "outputs": [
    {
     "data": {
      "text/plain": [
       "Index(['차대번호', '제원관리번호', '차종', '차량연식', '차명', '차종유형', '제작사명', '연료', '법정동코드',\n",
       "       '배출가스인증번호', '검사방법', '검사종류', '검사판정', '주행거리', '무부하매연판정1', '무부하매연허용치1',\n",
       "       '무부하매연측정치1', '차령', 'SI', '테이블생성일자'],\n",
       "      dtype='object')"
      ]
     },
     "execution_count": 167,
     "metadata": {},
     "output_type": "execute_result"
    }
   ],
   "source": [
    "sidf.columns"
   ]
  },
  {
   "cell_type": "code",
   "execution_count": 168,
   "metadata": {},
   "outputs": [
    {
     "data": {
      "text/plain": [
       "1052704    1996\n",
       "Name: 차량연식, dtype: int64"
      ]
     },
     "execution_count": 168,
     "metadata": {},
     "output_type": "execute_result"
    }
   ],
   "source": [
    "sidf['차량연식'].nsmallest(1)"
   ]
  },
  {
   "cell_type": "code",
   "execution_count": 169,
   "metadata": {},
   "outputs": [
    {
     "data": {
      "text/html": [
       "<div>\n",
       "<style scoped>\n",
       "    .dataframe tbody tr th:only-of-type {\n",
       "        vertical-align: middle;\n",
       "    }\n",
       "\n",
       "    .dataframe tbody tr th {\n",
       "        vertical-align: top;\n",
       "    }\n",
       "\n",
       "    .dataframe thead th {\n",
       "        text-align: right;\n",
       "    }\n",
       "</style>\n",
       "<table border=\"1\" class=\"dataframe\">\n",
       "  <thead>\n",
       "    <tr style=\"text-align: right;\">\n",
       "      <th></th>\n",
       "      <th>배출가스인증번호</th>\n",
       "      <th>검사방법</th>\n",
       "      <th>차량연식</th>\n",
       "    </tr>\n",
       "  </thead>\n",
       "  <tbody>\n",
       "    <tr>\n",
       "      <th>0</th>\n",
       "      <td>4MY-AD-20</td>\n",
       "      <td>무부하검사(급가속)</td>\n",
       "      <td>2006</td>\n",
       "    </tr>\n",
       "    <tr>\n",
       "      <th>1</th>\n",
       "      <td>4MY-DC-33</td>\n",
       "      <td>무부하검사(급가속)</td>\n",
       "      <td>2007</td>\n",
       "    </tr>\n",
       "    <tr>\n",
       "      <th>2</th>\n",
       "      <td>4MY-DC-33</td>\n",
       "      <td>부하검사(LUG DOWN)</td>\n",
       "      <td>2007</td>\n",
       "    </tr>\n",
       "    <tr>\n",
       "      <th>3</th>\n",
       "      <td>4MY-KM-06</td>\n",
       "      <td>무부하검사(급가속)</td>\n",
       "      <td>2008</td>\n",
       "    </tr>\n",
       "    <tr>\n",
       "      <th>4</th>\n",
       "      <td>4MY-KM-06</td>\n",
       "      <td>부하검사(KD-147)</td>\n",
       "      <td>2008</td>\n",
       "    </tr>\n",
       "    <tr>\n",
       "      <th>...</th>\n",
       "      <td>...</td>\n",
       "      <td>...</td>\n",
       "      <td>...</td>\n",
       "    </tr>\n",
       "    <tr>\n",
       "      <th>379</th>\n",
       "      <td>C135</td>\n",
       "      <td>부하검사(KD-147)</td>\n",
       "      <td>2008</td>\n",
       "    </tr>\n",
       "    <tr>\n",
       "      <th>380</th>\n",
       "      <td>nan</td>\n",
       "      <td>무부하검사(TSI)</td>\n",
       "      <td>1996</td>\n",
       "    </tr>\n",
       "    <tr>\n",
       "      <th>381</th>\n",
       "      <td>nan</td>\n",
       "      <td>무부하검사(급가속)</td>\n",
       "      <td>2002</td>\n",
       "    </tr>\n",
       "    <tr>\n",
       "      <th>382</th>\n",
       "      <td>nan</td>\n",
       "      <td>부하검사(KD-147)</td>\n",
       "      <td>2005</td>\n",
       "    </tr>\n",
       "    <tr>\n",
       "      <th>383</th>\n",
       "      <td>nan</td>\n",
       "      <td>부하검사(LUG DOWN)</td>\n",
       "      <td>2006</td>\n",
       "    </tr>\n",
       "  </tbody>\n",
       "</table>\n",
       "<p>384 rows × 3 columns</p>\n",
       "</div>"
      ],
      "text/plain": [
       "      배출가스인증번호            검사방법  차량연식\n",
       "0    4MY-AD-20      무부하검사(급가속)  2006\n",
       "1    4MY-DC-33      무부하검사(급가속)  2007\n",
       "2    4MY-DC-33  부하검사(LUG DOWN)  2007\n",
       "3    4MY-KM-06      무부하검사(급가속)  2008\n",
       "4    4MY-KM-06    부하검사(KD-147)  2008\n",
       "..         ...             ...   ...\n",
       "379       C135    부하검사(KD-147)  2008\n",
       "380        nan      무부하검사(TSI)  1996\n",
       "381        nan      무부하검사(급가속)  2002\n",
       "382        nan    부하검사(KD-147)  2005\n",
       "383        nan  부하검사(LUG DOWN)  2006\n",
       "\n",
       "[384 rows x 3 columns]"
      ]
     },
     "execution_count": 169,
     "metadata": {},
     "output_type": "execute_result"
    }
   ],
   "source": [
    "sidf.groupby(['배출가스인증번호', '검사방법']).agg({'차량연식':lambda x : x.nsmallest(1)}).reset_index()"
   ]
  },
  {
   "cell_type": "code",
   "execution_count": 238,
   "metadata": {},
   "outputs": [
    {
     "data": {
      "text/html": [
       "<div>\n",
       "<style scoped>\n",
       "    .dataframe tbody tr th:only-of-type {\n",
       "        vertical-align: middle;\n",
       "    }\n",
       "\n",
       "    .dataframe tbody tr th {\n",
       "        vertical-align: top;\n",
       "    }\n",
       "\n",
       "    .dataframe thead th {\n",
       "        text-align: right;\n",
       "    }\n",
       "</style>\n",
       "<table border=\"1\" class=\"dataframe\">\n",
       "  <thead>\n",
       "    <tr style=\"text-align: right;\">\n",
       "      <th></th>\n",
       "      <th>배출가스인증번호</th>\n",
       "      <th>대표제작사명</th>\n",
       "      <th>대표차명</th>\n",
       "      <th>대표차종</th>\n",
       "      <th>대표차연료</th>\n",
       "      <th>최초연식</th>\n",
       "      <th>열화도</th>\n",
       "    </tr>\n",
       "  </thead>\n",
       "  <tbody>\n",
       "    <tr>\n",
       "      <th>0</th>\n",
       "      <td>4MY-AD-20</td>\n",
       "      <td>아우디폭스바겐코리아(주)</td>\n",
       "      <td>아우디 A6 3.0 TDI Quattro</td>\n",
       "      <td>승용</td>\n",
       "      <td>경유</td>\n",
       "      <td>2006</td>\n",
       "      <td>0.37</td>\n",
       "    </tr>\n",
       "    <tr>\n",
       "      <th>1</th>\n",
       "      <td>4MY-DC-33</td>\n",
       "      <td>타타대우상용차(주)</td>\n",
       "      <td>대우11.5톤장축카고트럭(DPF)</td>\n",
       "      <td>화물</td>\n",
       "      <td>경유</td>\n",
       "      <td>2007</td>\n",
       "      <td>0.34</td>\n",
       "    </tr>\n",
       "    <tr>\n",
       "      <th>2</th>\n",
       "      <td>4MY-KM-06</td>\n",
       "      <td>기아자동차(주)</td>\n",
       "      <td>봉고Ⅲ 일반덤프</td>\n",
       "      <td>화물</td>\n",
       "      <td>경유</td>\n",
       "      <td>2008</td>\n",
       "      <td>0.36</td>\n",
       "    </tr>\n",
       "    <tr>\n",
       "      <th>3</th>\n",
       "      <td>4MY-PA-06</td>\n",
       "      <td>(주)볼보자동차코리아</td>\n",
       "      <td>프리랜더 2.0D</td>\n",
       "      <td>승용</td>\n",
       "      <td>경유</td>\n",
       "      <td>2005</td>\n",
       "      <td>0.38</td>\n",
       "    </tr>\n",
       "    <tr>\n",
       "      <th>4</th>\n",
       "      <td>5MY-AD-13-06</td>\n",
       "      <td>아우디폭스바겐코리아(주)</td>\n",
       "      <td>Phaeton 3.0 TDI</td>\n",
       "      <td>승용</td>\n",
       "      <td>경유</td>\n",
       "      <td>2005</td>\n",
       "      <td>0.03</td>\n",
       "    </tr>\n",
       "    <tr>\n",
       "      <th>...</th>\n",
       "      <td>...</td>\n",
       "      <td>...</td>\n",
       "      <td>...</td>\n",
       "      <td>...</td>\n",
       "      <td>...</td>\n",
       "      <td>...</td>\n",
       "      <td>...</td>\n",
       "    </tr>\n",
       "    <tr>\n",
       "      <th>196</th>\n",
       "      <td>9MY-PP-14-333</td>\n",
       "      <td>(주)비오에프인베스트먼트</td>\n",
       "      <td>랜드로버 디펜더</td>\n",
       "      <td>승용</td>\n",
       "      <td>경유</td>\n",
       "      <td>2009</td>\n",
       "      <td>0.12</td>\n",
       "    </tr>\n",
       "    <tr>\n",
       "      <th>197</th>\n",
       "      <td>9MY-PP-14-409</td>\n",
       "      <td>로버코리아(주)</td>\n",
       "      <td>랜드로버 디펜더110</td>\n",
       "      <td>승용</td>\n",
       "      <td>경유</td>\n",
       "      <td>2009</td>\n",
       "      <td>0.25</td>\n",
       "    </tr>\n",
       "    <tr>\n",
       "      <th>198</th>\n",
       "      <td>AMY-JL-13-9</td>\n",
       "      <td>(주)재규어랜드로버코리아</td>\n",
       "      <td>프리랜더 TD4</td>\n",
       "      <td>승용</td>\n",
       "      <td>경유</td>\n",
       "      <td>2009</td>\n",
       "      <td>0.01</td>\n",
       "    </tr>\n",
       "    <tr>\n",
       "      <th>199</th>\n",
       "      <td>C135</td>\n",
       "      <td>쌍용자동차(주)</td>\n",
       "      <td>액티언</td>\n",
       "      <td>승용</td>\n",
       "      <td>경유</td>\n",
       "      <td>2008</td>\n",
       "      <td>1.05</td>\n",
       "    </tr>\n",
       "    <tr>\n",
       "      <th>200</th>\n",
       "      <td>nan</td>\n",
       "      <td>한불모터스(주)</td>\n",
       "      <td>볼보 S80D5</td>\n",
       "      <td>승용</td>\n",
       "      <td>경유</td>\n",
       "      <td>1996</td>\n",
       "      <td>0.24</td>\n",
       "    </tr>\n",
       "  </tbody>\n",
       "</table>\n",
       "<p>201 rows × 7 columns</p>\n",
       "</div>"
      ],
      "text/plain": [
       "          배출가스인증번호         대표제작사명                    대표차명 대표차종 대표차연료  최초연식   \n",
       "0        4MY-AD-20  아우디폭스바겐코리아(주)  아우디 A6 3.0 TDI Quattro   승용    경유  2006  \\\n",
       "1        4MY-DC-33     타타대우상용차(주)      대우11.5톤장축카고트럭(DPF)   화물    경유  2007   \n",
       "2        4MY-KM-06       기아자동차(주)                봉고Ⅲ 일반덤프   화물    경유  2008   \n",
       "3        4MY-PA-06    (주)볼보자동차코리아               프리랜더 2.0D   승용    경유  2005   \n",
       "4     5MY-AD-13-06  아우디폭스바겐코리아(주)         Phaeton 3.0 TDI   승용    경유  2005   \n",
       "..             ...            ...                     ...  ...   ...   ...   \n",
       "196  9MY-PP-14-333  (주)비오에프인베스트먼트                랜드로버 디펜더   승용    경유  2009   \n",
       "197  9MY-PP-14-409       로버코리아(주)             랜드로버 디펜더110   승용    경유  2009   \n",
       "198    AMY-JL-13-9  (주)재규어랜드로버코리아                프리랜더 TD4   승용    경유  2009   \n",
       "199           C135       쌍용자동차(주)                     액티언   승용    경유  2008   \n",
       "200            nan       한불모터스(주)                볼보 S80D5   승용    경유  1996   \n",
       "\n",
       "     열화도  \n",
       "0   0.37  \n",
       "1   0.34  \n",
       "2   0.36  \n",
       "3   0.38  \n",
       "4   0.03  \n",
       "..   ...  \n",
       "196 0.12  \n",
       "197 0.25  \n",
       "198 0.01  \n",
       "199 1.05  \n",
       "200 0.24  \n",
       "\n",
       "[201 rows x 7 columns]"
      ]
     },
     "execution_count": 238,
     "metadata": {},
     "output_type": "execute_result"
    }
   ],
   "source": [
    "# grp2 = sidf.groupby(['배출가스인증번호', '검사방법']).agg({'제작사명':lambda x:x.value_counts().index[0], '차명':lambda x:x.value_counts().index[0], '차종':lambda x:x.value_counts().index[0], '연료':lambda x:x.value_counts().index[0], '차량연식':lambda x : x.nsmallest(1), 'SI':'mean'}).reset_index()\n",
    "grp2 = sidf.groupby(['배출가스인증번호']).agg({'제작사명':lambda x:x.value_counts().index[0], '차명':lambda x:x.value_counts().index[0], '차종':lambda x:x.value_counts().index[0], '연료':lambda x:x.value_counts().index[0], '차량연식':lambda x : x.nsmallest(1), 'SI':'mean'}).reset_index()\n",
    "grp2 = grp2.rename(columns={'제작사명':'대표제작사명', '차명':'대표차명', '차종':'대표차종', '연료':'대표차연료', '차량연식':'최초연식', 'SI':'열화도'})\n",
    "grp2"
   ]
  },
  {
   "cell_type": "code",
   "execution_count": 239,
   "metadata": {},
   "outputs": [
    {
     "data": {
      "text/plain": [
       "Index(['테이블생성일자', '차명', '제작사명', '제원관리번호', '배출가스인증번호', '검사방법', 'q1', 'q2', 'q3',\n",
       "       '차량대수', 'q2_mean', '검토구분', '대표제작사명', '대표차명'],\n",
       "      dtype='object')"
      ]
     },
     "execution_count": 239,
     "metadata": {},
     "output_type": "execute_result"
    }
   ],
   "source": [
    "cg1.columns"
   ]
  },
  {
   "cell_type": "code",
   "execution_count": null,
   "metadata": {},
   "outputs": [],
   "source": []
  },
  {
   "cell_type": "code",
   "execution_count": 156,
   "metadata": {},
   "outputs": [
    {
     "data": {
      "text/plain": [
       "(1391, 9)"
      ]
     },
     "execution_count": 156,
     "metadata": {},
     "output_type": "execute_result"
    }
   ],
   "source": [
    "cert_df1 = quantile_df1[[\n",
    "    '차명',\n",
    "    '제작사명', \n",
    "    '제원관리번호', \n",
    "    '배출가스인증번호', \n",
    "    '검사방법', \n",
    "    'q1', \n",
    "    'q2', \n",
    "    'q3',\n",
    "    '차량대수',\n",
    "    ]]\n",
    "cert_df1.shape"
   ]
  },
  {
   "cell_type": "code",
   "execution_count": 157,
   "metadata": {},
   "outputs": [
    {
     "data": {
      "text/html": [
       "<div>\n",
       "<style scoped>\n",
       "    .dataframe tbody tr th:only-of-type {\n",
       "        vertical-align: middle;\n",
       "    }\n",
       "\n",
       "    .dataframe tbody tr th {\n",
       "        vertical-align: top;\n",
       "    }\n",
       "\n",
       "    .dataframe thead th {\n",
       "        text-align: right;\n",
       "    }\n",
       "</style>\n",
       "<table border=\"1\" class=\"dataframe\">\n",
       "  <thead>\n",
       "    <tr style=\"text-align: right;\">\n",
       "      <th></th>\n",
       "      <th>차명</th>\n",
       "      <th>제작사명</th>\n",
       "      <th>제원관리번호</th>\n",
       "      <th>배출가스인증번호</th>\n",
       "      <th>검사방법</th>\n",
       "      <th>q1</th>\n",
       "      <th>q2</th>\n",
       "      <th>q3</th>\n",
       "      <th>차량대수</th>\n",
       "    </tr>\n",
       "  </thead>\n",
       "  <tbody>\n",
       "    <tr>\n",
       "      <th>0</th>\n",
       "      <td>이-마이티</td>\n",
       "      <td>현대자동차(주)</td>\n",
       "      <td>A0810005008503209</td>\n",
       "      <td>7MY-HD-24-28</td>\n",
       "      <td>부하검사(LUG DOWN)</td>\n",
       "      <td>5.00</td>\n",
       "      <td>8.00</td>\n",
       "      <td>11.00</td>\n",
       "      <td>332</td>\n",
       "    </tr>\n",
       "    <tr>\n",
       "      <th>332</th>\n",
       "      <td>이-마이티</td>\n",
       "      <td>현대자동차(주)</td>\n",
       "      <td>A0810005008603209</td>\n",
       "      <td>7MY-HD-24-28</td>\n",
       "      <td>부하검사(LUG DOWN)</td>\n",
       "      <td>4.00</td>\n",
       "      <td>8.00</td>\n",
       "      <td>11.00</td>\n",
       "      <td>512</td>\n",
       "    </tr>\n",
       "    <tr>\n",
       "      <th>844</th>\n",
       "      <td>이-마이티</td>\n",
       "      <td>현대자동차(주)</td>\n",
       "      <td>A0810005009343210</td>\n",
       "      <td>7MY-HD-24-28</td>\n",
       "      <td>부하검사(LUG DOWN)</td>\n",
       "      <td>2.00</td>\n",
       "      <td>6.00</td>\n",
       "      <td>9.00</td>\n",
       "      <td>476</td>\n",
       "    </tr>\n",
       "    <tr>\n",
       "      <th>1320</th>\n",
       "      <td>이-카운티</td>\n",
       "      <td>현대자동차(주)</td>\n",
       "      <td>A0810005603012209</td>\n",
       "      <td>7MY-HD-24-28</td>\n",
       "      <td>부하검사(LUG DOWN)</td>\n",
       "      <td>3.00</td>\n",
       "      <td>8.00</td>\n",
       "      <td>11.00</td>\n",
       "      <td>327</td>\n",
       "    </tr>\n",
       "    <tr>\n",
       "      <th>1647</th>\n",
       "      <td>이-마이티</td>\n",
       "      <td>현대자동차(주)</td>\n",
       "      <td>A0810005008583209</td>\n",
       "      <td>7MY-HD-24-28</td>\n",
       "      <td>부하검사(LUG DOWN)</td>\n",
       "      <td>3.00</td>\n",
       "      <td>7.00</td>\n",
       "      <td>10.75</td>\n",
       "      <td>650</td>\n",
       "    </tr>\n",
       "  </tbody>\n",
       "</table>\n",
       "</div>"
      ],
      "text/plain": [
       "         차명      제작사명             제원관리번호      배출가스인증번호            검사방법   q1   \n",
       "0     이-마이티  현대자동차(주)  A0810005008503209  7MY-HD-24-28  부하검사(LUG DOWN) 5.00  \\\n",
       "332   이-마이티  현대자동차(주)  A0810005008603209  7MY-HD-24-28  부하검사(LUG DOWN) 4.00   \n",
       "844   이-마이티  현대자동차(주)  A0810005009343210  7MY-HD-24-28  부하검사(LUG DOWN) 2.00   \n",
       "1320  이-카운티  현대자동차(주)  A0810005603012209  7MY-HD-24-28  부하검사(LUG DOWN) 3.00   \n",
       "1647  이-마이티  현대자동차(주)  A0810005008583209  7MY-HD-24-28  부하검사(LUG DOWN) 3.00   \n",
       "\n",
       "       q2    q3  차량대수  \n",
       "0    8.00 11.00   332  \n",
       "332  8.00 11.00   512  \n",
       "844  6.00  9.00   476  \n",
       "1320 8.00 11.00   327  \n",
       "1647 7.00 10.75   650  "
      ]
     },
     "execution_count": 157,
     "metadata": {},
     "output_type": "execute_result"
    }
   ],
   "source": [
    "cert_df1.head()"
   ]
  },
  {
   "cell_type": "code",
   "execution_count": 158,
   "metadata": {},
   "outputs": [
    {
     "data": {
      "text/plain": [
       "(1391, 9)"
      ]
     },
     "execution_count": 158,
     "metadata": {},
     "output_type": "execute_result"
    }
   ],
   "source": [
    "# cert_df2 = cert_df1[cert_df1['배출가스인증번호'] != 'nan'].reset_index(drop=True)\n",
    "cert_df2 = cert_df1[cert_df1['배출가스인증번호'].isnull() == False].reset_index(drop=True)\n",
    "cert_df2.shape"
   ]
  },
  {
   "cell_type": "code",
   "execution_count": 159,
   "metadata": {},
   "outputs": [
    {
     "data": {
      "text/html": [
       "<div>\n",
       "<style scoped>\n",
       "    .dataframe tbody tr th:only-of-type {\n",
       "        vertical-align: middle;\n",
       "    }\n",
       "\n",
       "    .dataframe tbody tr th {\n",
       "        vertical-align: top;\n",
       "    }\n",
       "\n",
       "    .dataframe thead th {\n",
       "        text-align: right;\n",
       "    }\n",
       "</style>\n",
       "<table border=\"1\" class=\"dataframe\">\n",
       "  <thead>\n",
       "    <tr style=\"text-align: right;\">\n",
       "      <th></th>\n",
       "      <th>차명</th>\n",
       "      <th>제작사명</th>\n",
       "      <th>제원관리번호</th>\n",
       "      <th>배출가스인증번호</th>\n",
       "      <th>검사방법</th>\n",
       "      <th>q1</th>\n",
       "      <th>q2</th>\n",
       "      <th>q3</th>\n",
       "      <th>차량대수</th>\n",
       "      <th>q2_mean</th>\n",
       "    </tr>\n",
       "  </thead>\n",
       "  <tbody>\n",
       "    <tr>\n",
       "      <th>0</th>\n",
       "      <td>이-마이티</td>\n",
       "      <td>현대자동차(주)</td>\n",
       "      <td>A0810005008503209</td>\n",
       "      <td>7MY-HD-24-28</td>\n",
       "      <td>부하검사(LUG DOWN)</td>\n",
       "      <td>5.00</td>\n",
       "      <td>8.00</td>\n",
       "      <td>11.00</td>\n",
       "      <td>332</td>\n",
       "      <td>6.57</td>\n",
       "    </tr>\n",
       "    <tr>\n",
       "      <th>1</th>\n",
       "      <td>이-마이티</td>\n",
       "      <td>현대자동차(주)</td>\n",
       "      <td>A0810005008603209</td>\n",
       "      <td>7MY-HD-24-28</td>\n",
       "      <td>부하검사(LUG DOWN)</td>\n",
       "      <td>4.00</td>\n",
       "      <td>8.00</td>\n",
       "      <td>11.00</td>\n",
       "      <td>512</td>\n",
       "      <td>6.57</td>\n",
       "    </tr>\n",
       "    <tr>\n",
       "      <th>2</th>\n",
       "      <td>이-마이티</td>\n",
       "      <td>현대자동차(주)</td>\n",
       "      <td>A0810005009343210</td>\n",
       "      <td>7MY-HD-24-28</td>\n",
       "      <td>부하검사(LUG DOWN)</td>\n",
       "      <td>2.00</td>\n",
       "      <td>6.00</td>\n",
       "      <td>9.00</td>\n",
       "      <td>476</td>\n",
       "      <td>6.57</td>\n",
       "    </tr>\n",
       "    <tr>\n",
       "      <th>3</th>\n",
       "      <td>이-카운티</td>\n",
       "      <td>현대자동차(주)</td>\n",
       "      <td>A0810005603012209</td>\n",
       "      <td>7MY-HD-24-28</td>\n",
       "      <td>부하검사(LUG DOWN)</td>\n",
       "      <td>3.00</td>\n",
       "      <td>8.00</td>\n",
       "      <td>11.00</td>\n",
       "      <td>327</td>\n",
       "      <td>6.50</td>\n",
       "    </tr>\n",
       "    <tr>\n",
       "      <th>4</th>\n",
       "      <td>이-마이티</td>\n",
       "      <td>현대자동차(주)</td>\n",
       "      <td>A0810005008583209</td>\n",
       "      <td>7MY-HD-24-28</td>\n",
       "      <td>부하검사(LUG DOWN)</td>\n",
       "      <td>3.00</td>\n",
       "      <td>7.00</td>\n",
       "      <td>10.75</td>\n",
       "      <td>650</td>\n",
       "      <td>6.57</td>\n",
       "    </tr>\n",
       "    <tr>\n",
       "      <th>...</th>\n",
       "      <td>...</td>\n",
       "      <td>...</td>\n",
       "      <td>...</td>\n",
       "      <td>...</td>\n",
       "      <td>...</td>\n",
       "      <td>...</td>\n",
       "      <td>...</td>\n",
       "      <td>...</td>\n",
       "      <td>...</td>\n",
       "      <td>...</td>\n",
       "    </tr>\n",
       "    <tr>\n",
       "      <th>1386</th>\n",
       "      <td>싼타페(SANTAFE)</td>\n",
       "      <td>현대자동차(주)</td>\n",
       "      <td>A0810006800761307</td>\n",
       "      <td>7MY-HD-23-01</td>\n",
       "      <td>무부하검사(급가속)</td>\n",
       "      <td>0.00</td>\n",
       "      <td>0.00</td>\n",
       "      <td>1.00</td>\n",
       "      <td>105</td>\n",
       "      <td>0.00</td>\n",
       "    </tr>\n",
       "    <tr>\n",
       "      <th>1387</th>\n",
       "      <td>싼타페(SANTAFE)</td>\n",
       "      <td>현대자동차(주)</td>\n",
       "      <td>A0810006800781307</td>\n",
       "      <td>7MY-HD-23-01</td>\n",
       "      <td>무부하검사(급가속)</td>\n",
       "      <td>0.00</td>\n",
       "      <td>0.00</td>\n",
       "      <td>3.00</td>\n",
       "      <td>223</td>\n",
       "      <td>0.00</td>\n",
       "    </tr>\n",
       "    <tr>\n",
       "      <th>1388</th>\n",
       "      <td>쎄라토</td>\n",
       "      <td>기아자동차(주)</td>\n",
       "      <td>A0110003001211206</td>\n",
       "      <td>5MY-KM-24-64</td>\n",
       "      <td>부하검사(KD-147)</td>\n",
       "      <td>4.00</td>\n",
       "      <td>7.00</td>\n",
       "      <td>14.00</td>\n",
       "      <td>205</td>\n",
       "      <td>8.00</td>\n",
       "    </tr>\n",
       "    <tr>\n",
       "      <th>1389</th>\n",
       "      <td>쎄라토</td>\n",
       "      <td>기아자동차(주)</td>\n",
       "      <td>A0110003000981205</td>\n",
       "      <td>5MY-KM-24-64</td>\n",
       "      <td>부하검사(KD-147)</td>\n",
       "      <td>5.00</td>\n",
       "      <td>9.00</td>\n",
       "      <td>14.75</td>\n",
       "      <td>262</td>\n",
       "      <td>8.00</td>\n",
       "    </tr>\n",
       "    <tr>\n",
       "      <th>1390</th>\n",
       "      <td>Phaeton 3.0 TDI</td>\n",
       "      <td>아우디폭스바겐코리아(주)</td>\n",
       "      <td>02420004800011305</td>\n",
       "      <td>5MY-AD-13-06</td>\n",
       "      <td>무부하검사(급가속)</td>\n",
       "      <td>0.00</td>\n",
       "      <td>0.00</td>\n",
       "      <td>0.00</td>\n",
       "      <td>115</td>\n",
       "      <td>0.00</td>\n",
       "    </tr>\n",
       "  </tbody>\n",
       "</table>\n",
       "<p>1391 rows × 10 columns</p>\n",
       "</div>"
      ],
      "text/plain": [
       "                   차명           제작사명             제원관리번호      배출가스인증번호   \n",
       "0               이-마이티       현대자동차(주)  A0810005008503209  7MY-HD-24-28  \\\n",
       "1               이-마이티       현대자동차(주)  A0810005008603209  7MY-HD-24-28   \n",
       "2               이-마이티       현대자동차(주)  A0810005009343210  7MY-HD-24-28   \n",
       "3               이-카운티       현대자동차(주)  A0810005603012209  7MY-HD-24-28   \n",
       "4               이-마이티       현대자동차(주)  A0810005008583209  7MY-HD-24-28   \n",
       "...               ...            ...                ...           ...   \n",
       "1386     싼타페(SANTAFE)       현대자동차(주)  A0810006800761307  7MY-HD-23-01   \n",
       "1387     싼타페(SANTAFE)       현대자동차(주)  A0810006800781307  7MY-HD-23-01   \n",
       "1388              쎄라토       기아자동차(주)  A0110003001211206  5MY-KM-24-64   \n",
       "1389              쎄라토       기아자동차(주)  A0110003000981205  5MY-KM-24-64   \n",
       "1390  Phaeton 3.0 TDI  아우디폭스바겐코리아(주)  02420004800011305  5MY-AD-13-06   \n",
       "\n",
       "                검사방법   q1   q2    q3  차량대수  q2_mean  \n",
       "0     부하검사(LUG DOWN) 5.00 8.00 11.00   332     6.57  \n",
       "1     부하검사(LUG DOWN) 4.00 8.00 11.00   512     6.57  \n",
       "2     부하검사(LUG DOWN) 2.00 6.00  9.00   476     6.57  \n",
       "3     부하검사(LUG DOWN) 3.00 8.00 11.00   327     6.50  \n",
       "4     부하검사(LUG DOWN) 3.00 7.00 10.75   650     6.57  \n",
       "...              ...  ...  ...   ...   ...      ...  \n",
       "1386      무부하검사(급가속) 0.00 0.00  1.00   105     0.00  \n",
       "1387      무부하검사(급가속) 0.00 0.00  3.00   223     0.00  \n",
       "1388    부하검사(KD-147) 4.00 7.00 14.00   205     8.00  \n",
       "1389    부하검사(KD-147) 5.00 9.00 14.75   262     8.00  \n",
       "1390      무부하검사(급가속) 0.00 0.00  0.00   115     0.00  \n",
       "\n",
       "[1391 rows x 10 columns]"
      ]
     },
     "execution_count": 159,
     "metadata": {},
     "output_type": "execute_result"
    }
   ],
   "source": [
    "# cert_df1['q2_mean'] = cert_df1.groupby(['배출가스인증번호', '검사방법'])['q2'].transform('mean')\n",
    "cert_df2['q2_mean'] = cert_df2.groupby(['제작사명', '차명', '배출가스인증번호', '검사방법'])['q2'].transform('mean')\n",
    "cert_df2"
   ]
  },
  {
   "cell_type": "code",
   "execution_count": 160,
   "metadata": {},
   "outputs": [],
   "source": [
    "cert_df2.loc[(cert_df2['q2'] > cert_df2['q2_mean']*5) | (cert_df2['q2'] < cert_df2['q2_mean']/5), '검토구분'] = '주의'\n",
    "cert_df2.loc[cert_df2['q3'] == 0, '검토구분'] = '양호'\n",
    "cert_df2['검토구분'] = cert_df2['검토구분'].fillna('양호')"
   ]
  },
  {
   "cell_type": "code",
   "execution_count": 161,
   "metadata": {},
   "outputs": [
    {
     "data": {
      "text/plain": [
       "검토구분\n",
       "양호    1340\n",
       "주의      51\n",
       "Name: count, dtype: int64"
      ]
     },
     "execution_count": 161,
     "metadata": {},
     "output_type": "execute_result"
    }
   ],
   "source": [
    "cert_df2['검토구분'].value_counts()"
   ]
  },
  {
   "cell_type": "code",
   "execution_count": 162,
   "metadata": {},
   "outputs": [
    {
     "data": {
      "text/plain": [
       "(1052707, 20)"
      ]
     },
     "execution_count": 162,
     "metadata": {},
     "output_type": "execute_result"
    }
   ],
   "source": [
    "sidf.shape"
   ]
  },
  {
   "cell_type": "code",
   "execution_count": 163,
   "metadata": {},
   "outputs": [
    {
     "data": {
      "text/plain": [
       "Index(['차대번호', '제원관리번호', '차종', '차량연식', '차명', '차종유형', '제작사명', '연료', '법정동코드',\n",
       "       '배출가스인증번호', '검사방법', '검사종류', '검사판정', '주행거리', '무부하매연판정1', '무부하매연허용치1',\n",
       "       '무부하매연측정치1', '차령', 'SI', '테이블생성일자'],\n",
       "      dtype='object')"
      ]
     },
     "execution_count": 163,
     "metadata": {},
     "output_type": "execute_result"
    }
   ],
   "source": [
    "sidf.columns"
   ]
  },
  {
   "cell_type": "code",
   "execution_count": 164,
   "metadata": {},
   "outputs": [
    {
     "data": {
      "text/html": [
       "<div>\n",
       "<style scoped>\n",
       "    .dataframe tbody tr th:only-of-type {\n",
       "        vertical-align: middle;\n",
       "    }\n",
       "\n",
       "    .dataframe tbody tr th {\n",
       "        vertical-align: top;\n",
       "    }\n",
       "\n",
       "    .dataframe thead th {\n",
       "        text-align: right;\n",
       "    }\n",
       "</style>\n",
       "<table border=\"1\" class=\"dataframe\">\n",
       "  <thead>\n",
       "    <tr style=\"text-align: right;\">\n",
       "      <th></th>\n",
       "      <th>배출가스인증번호</th>\n",
       "      <th>검사방법</th>\n",
       "      <th>차량연식</th>\n",
       "    </tr>\n",
       "  </thead>\n",
       "  <tbody>\n",
       "    <tr>\n",
       "      <th>0</th>\n",
       "      <td>4MY-AD-20</td>\n",
       "      <td>무부하검사(급가속)</td>\n",
       "      <td>2006</td>\n",
       "    </tr>\n",
       "    <tr>\n",
       "      <th>1</th>\n",
       "      <td>4MY-DC-33</td>\n",
       "      <td>무부하검사(급가속)</td>\n",
       "      <td>2007</td>\n",
       "    </tr>\n",
       "    <tr>\n",
       "      <th>2</th>\n",
       "      <td>4MY-DC-33</td>\n",
       "      <td>부하검사(LUG DOWN)</td>\n",
       "      <td>2007</td>\n",
       "    </tr>\n",
       "    <tr>\n",
       "      <th>3</th>\n",
       "      <td>4MY-KM-06</td>\n",
       "      <td>무부하검사(급가속)</td>\n",
       "      <td>2008</td>\n",
       "    </tr>\n",
       "    <tr>\n",
       "      <th>4</th>\n",
       "      <td>4MY-KM-06</td>\n",
       "      <td>부하검사(KD-147)</td>\n",
       "      <td>2008</td>\n",
       "    </tr>\n",
       "    <tr>\n",
       "      <th>...</th>\n",
       "      <td>...</td>\n",
       "      <td>...</td>\n",
       "      <td>...</td>\n",
       "    </tr>\n",
       "    <tr>\n",
       "      <th>378</th>\n",
       "      <td>C135</td>\n",
       "      <td>부하검사(KD-147)</td>\n",
       "      <td>2008</td>\n",
       "    </tr>\n",
       "    <tr>\n",
       "      <th>379</th>\n",
       "      <td>nan</td>\n",
       "      <td>무부하검사(TSI)</td>\n",
       "      <td>1996</td>\n",
       "    </tr>\n",
       "    <tr>\n",
       "      <th>380</th>\n",
       "      <td>nan</td>\n",
       "      <td>무부하검사(급가속)</td>\n",
       "      <td>2002</td>\n",
       "    </tr>\n",
       "    <tr>\n",
       "      <th>381</th>\n",
       "      <td>nan</td>\n",
       "      <td>부하검사(KD-147)</td>\n",
       "      <td>2005</td>\n",
       "    </tr>\n",
       "    <tr>\n",
       "      <th>382</th>\n",
       "      <td>nan</td>\n",
       "      <td>부하검사(LUG DOWN)</td>\n",
       "      <td>2006</td>\n",
       "    </tr>\n",
       "  </tbody>\n",
       "</table>\n",
       "<p>383 rows × 3 columns</p>\n",
       "</div>"
      ],
      "text/plain": [
       "      배출가스인증번호            검사방법  차량연식\n",
       "0    4MY-AD-20      무부하검사(급가속)  2006\n",
       "1    4MY-DC-33      무부하검사(급가속)  2007\n",
       "2    4MY-DC-33  부하검사(LUG DOWN)  2007\n",
       "3    4MY-KM-06      무부하검사(급가속)  2008\n",
       "4    4MY-KM-06    부하검사(KD-147)  2008\n",
       "..         ...             ...   ...\n",
       "378       C135    부하검사(KD-147)  2008\n",
       "379        nan      무부하검사(TSI)  1996\n",
       "380        nan      무부하검사(급가속)  2002\n",
       "381        nan    부하검사(KD-147)  2005\n",
       "382        nan  부하검사(LUG DOWN)  2006\n",
       "\n",
       "[383 rows x 3 columns]"
      ]
     },
     "execution_count": 164,
     "metadata": {},
     "output_type": "execute_result"
    }
   ],
   "source": [
    "sidf.groupby(['배출가스인증번호', '검사방법']).agg({'차량연식':lambda x : x.nsmallest(1)}).reset_index()"
   ]
  },
  {
   "cell_type": "code",
   "execution_count": 165,
   "metadata": {},
   "outputs": [
    {
     "data": {
      "text/html": [
       "<div>\n",
       "<style scoped>\n",
       "    .dataframe tbody tr th:only-of-type {\n",
       "        vertical-align: middle;\n",
       "    }\n",
       "\n",
       "    .dataframe tbody tr th {\n",
       "        vertical-align: top;\n",
       "    }\n",
       "\n",
       "    .dataframe thead th {\n",
       "        text-align: right;\n",
       "    }\n",
       "</style>\n",
       "<table border=\"1\" class=\"dataframe\">\n",
       "  <thead>\n",
       "    <tr style=\"text-align: right;\">\n",
       "      <th></th>\n",
       "      <th>배출가스인증번호</th>\n",
       "      <th>검사방법</th>\n",
       "      <th>제작사명</th>\n",
       "      <th>차명</th>\n",
       "      <th>차종</th>\n",
       "      <th>연료</th>\n",
       "      <th>최초연식</th>\n",
       "      <th>열화도</th>\n",
       "    </tr>\n",
       "  </thead>\n",
       "  <tbody>\n",
       "    <tr>\n",
       "      <th>0</th>\n",
       "      <td>4MY-AD-20</td>\n",
       "      <td>무부하검사(급가속)</td>\n",
       "      <td>아우디폭스바겐코리아(주)</td>\n",
       "      <td>아우디 A6 3.0 TDI Quattro</td>\n",
       "      <td>승용</td>\n",
       "      <td>경유</td>\n",
       "      <td>2006</td>\n",
       "      <td>0.34</td>\n",
       "    </tr>\n",
       "    <tr>\n",
       "      <th>1</th>\n",
       "      <td>4MY-DC-33</td>\n",
       "      <td>무부하검사(급가속)</td>\n",
       "      <td>타타대우상용차(주)</td>\n",
       "      <td>대우11.5톤장축카고트럭(DPF)</td>\n",
       "      <td>화물</td>\n",
       "      <td>경유</td>\n",
       "      <td>2007</td>\n",
       "      <td>0.80</td>\n",
       "    </tr>\n",
       "    <tr>\n",
       "      <th>2</th>\n",
       "      <td>4MY-DC-33</td>\n",
       "      <td>부하검사(LUG DOWN)</td>\n",
       "      <td>타타대우상용차(주)</td>\n",
       "      <td>대우11.5톤장축카고트럭(DPF)</td>\n",
       "      <td>화물</td>\n",
       "      <td>경유</td>\n",
       "      <td>2007</td>\n",
       "      <td>0.32</td>\n",
       "    </tr>\n",
       "    <tr>\n",
       "      <th>3</th>\n",
       "      <td>4MY-KM-06</td>\n",
       "      <td>무부하검사(급가속)</td>\n",
       "      <td>기아자동차(주)</td>\n",
       "      <td>봉고Ⅲ 일반덤프</td>\n",
       "      <td>화물</td>\n",
       "      <td>경유</td>\n",
       "      <td>2008</td>\n",
       "      <td>0.40</td>\n",
       "    </tr>\n",
       "    <tr>\n",
       "      <th>4</th>\n",
       "      <td>4MY-KM-06</td>\n",
       "      <td>부하검사(KD-147)</td>\n",
       "      <td>기아자동차(주)</td>\n",
       "      <td>봉고Ⅲ 일반덤프</td>\n",
       "      <td>화물</td>\n",
       "      <td>경유</td>\n",
       "      <td>2008</td>\n",
       "      <td>0.35</td>\n",
       "    </tr>\n",
       "    <tr>\n",
       "      <th>...</th>\n",
       "      <td>...</td>\n",
       "      <td>...</td>\n",
       "      <td>...</td>\n",
       "      <td>...</td>\n",
       "      <td>...</td>\n",
       "      <td>...</td>\n",
       "      <td>...</td>\n",
       "      <td>...</td>\n",
       "    </tr>\n",
       "    <tr>\n",
       "      <th>378</th>\n",
       "      <td>C135</td>\n",
       "      <td>부하검사(KD-147)</td>\n",
       "      <td>쌍용자동차(주)</td>\n",
       "      <td>액티언</td>\n",
       "      <td>승용</td>\n",
       "      <td>경유</td>\n",
       "      <td>2008</td>\n",
       "      <td>1.26</td>\n",
       "    </tr>\n",
       "    <tr>\n",
       "      <th>379</th>\n",
       "      <td>nan</td>\n",
       "      <td>무부하검사(TSI)</td>\n",
       "      <td>쌍용자동차(주)</td>\n",
       "      <td>코란도KJ</td>\n",
       "      <td>승용</td>\n",
       "      <td>경유</td>\n",
       "      <td>1996</td>\n",
       "      <td>0.00</td>\n",
       "    </tr>\n",
       "    <tr>\n",
       "      <th>380</th>\n",
       "      <td>nan</td>\n",
       "      <td>무부하검사(급가속)</td>\n",
       "      <td>에프씨에이코리아(주)</td>\n",
       "      <td>짚 랭글러</td>\n",
       "      <td>승용</td>\n",
       "      <td>경유</td>\n",
       "      <td>2002</td>\n",
       "      <td>0.15</td>\n",
       "    </tr>\n",
       "    <tr>\n",
       "      <th>381</th>\n",
       "      <td>nan</td>\n",
       "      <td>부하검사(KD-147)</td>\n",
       "      <td>한불모터스(주)</td>\n",
       "      <td>볼보 S80D5</td>\n",
       "      <td>승용</td>\n",
       "      <td>경유</td>\n",
       "      <td>2005</td>\n",
       "      <td>0.28</td>\n",
       "    </tr>\n",
       "    <tr>\n",
       "      <th>382</th>\n",
       "      <td>nan</td>\n",
       "      <td>부하검사(LUG DOWN)</td>\n",
       "      <td>한국상용차(주)</td>\n",
       "      <td>이베코6X2트랙터</td>\n",
       "      <td>특수</td>\n",
       "      <td>경유</td>\n",
       "      <td>2006</td>\n",
       "      <td>0.21</td>\n",
       "    </tr>\n",
       "  </tbody>\n",
       "</table>\n",
       "<p>383 rows × 8 columns</p>\n",
       "</div>"
      ],
      "text/plain": [
       "      배출가스인증번호            검사방법           제작사명                      차명  차종  연료   \n",
       "0    4MY-AD-20      무부하검사(급가속)  아우디폭스바겐코리아(주)  아우디 A6 3.0 TDI Quattro  승용  경유  \\\n",
       "1    4MY-DC-33      무부하검사(급가속)     타타대우상용차(주)      대우11.5톤장축카고트럭(DPF)  화물  경유   \n",
       "2    4MY-DC-33  부하검사(LUG DOWN)     타타대우상용차(주)      대우11.5톤장축카고트럭(DPF)  화물  경유   \n",
       "3    4MY-KM-06      무부하검사(급가속)       기아자동차(주)                봉고Ⅲ 일반덤프  화물  경유   \n",
       "4    4MY-KM-06    부하검사(KD-147)       기아자동차(주)                봉고Ⅲ 일반덤프  화물  경유   \n",
       "..         ...             ...            ...                     ...  ..  ..   \n",
       "378       C135    부하검사(KD-147)       쌍용자동차(주)                     액티언  승용  경유   \n",
       "379        nan      무부하검사(TSI)       쌍용자동차(주)                   코란도KJ  승용  경유   \n",
       "380        nan      무부하검사(급가속)    에프씨에이코리아(주)                   짚 랭글러  승용  경유   \n",
       "381        nan    부하검사(KD-147)       한불모터스(주)                볼보 S80D5  승용  경유   \n",
       "382        nan  부하검사(LUG DOWN)       한국상용차(주)               이베코6X2트랙터  특수  경유   \n",
       "\n",
       "     최초연식  열화도  \n",
       "0    2006 0.34  \n",
       "1    2007 0.80  \n",
       "2    2007 0.32  \n",
       "3    2008 0.40  \n",
       "4    2008 0.35  \n",
       "..    ...  ...  \n",
       "378  2008 1.26  \n",
       "379  1996 0.00  \n",
       "380  2002 0.15  \n",
       "381  2005 0.28  \n",
       "382  2006 0.21  \n",
       "\n",
       "[383 rows x 8 columns]"
      ]
     },
     "execution_count": 165,
     "metadata": {},
     "output_type": "execute_result"
    }
   ],
   "source": [
    "# grp2 = sidf.groupby(['배출가스인증번호', '검사방법']).agg({'제작사명':lambda x:x.value_counts().index[0], '차명':lambda x:x.value_counts().index[0], '차종':lambda x:x.value_counts().index[0], '연료':lambda x:x.value_counts().index[0], '차량연식':lambda x : x.nsmallest(1), 'SI':'mean'}).reset_index()\n",
    "grp2 = sidf.groupby(['배출가스인증번호', '검사방법']).agg({'제작사명':lambda x:x.value_counts().index[0], '차명':lambda x:x.value_counts().index[0], '차종':lambda x:x.value_counts().index[0], '연료':lambda x:x.value_counts().index[0], '차량연식':lambda x : x.nsmallest(1), 'SI':'mean'}).reset_index()\n",
    "grp2 = grp2.rename(columns={ '차량연식':'최초연식', 'SI':'열화도'})\n",
    "grp2\n",
    "# '제작사명':'대표제작사명', '차명':'대표차명', '차종':'대표차종', '연료':'대표차연료',"
   ]
  },
  {
   "cell_type": "code",
   "execution_count": 166,
   "metadata": {},
   "outputs": [
    {
     "data": {
      "text/plain": [
       "(383, 8)"
      ]
     },
     "execution_count": 166,
     "metadata": {},
     "output_type": "execute_result"
    }
   ],
   "source": [
    "grp2 = grp2.drop_duplicates(['제작사명', '차명', '배출가스인증번호', '검사방법']).reset_index(drop=True)\n",
    "grp2.shape"
   ]
  },
  {
   "cell_type": "code",
   "execution_count": 167,
   "metadata": {},
   "outputs": [
    {
     "data": {
      "text/plain": [
       "Index(['차명', '제작사명', '제원관리번호', '배출가스인증번호', '검사방법', 'q1', 'q2', 'q3', '차량대수',\n",
       "       'q2_mean', '검토구분'],\n",
       "      dtype='object')"
      ]
     },
     "execution_count": 167,
     "metadata": {},
     "output_type": "execute_result"
    }
   ],
   "source": [
    "cert_df2.columns"
   ]
  },
  {
   "cell_type": "code",
   "execution_count": 168,
   "metadata": {},
   "outputs": [
    {
     "data": {
      "text/plain": [
       "(1391, 11)"
      ]
     },
     "execution_count": 168,
     "metadata": {},
     "output_type": "execute_result"
    }
   ],
   "source": [
    "cert_df2.shape"
   ]
  },
  {
   "cell_type": "code",
   "execution_count": 185,
   "metadata": {},
   "outputs": [
    {
     "data": {
      "text/plain": [
       "Index(['배출가스인증번호', '검사방법', '제작사명', '차명', '차종', '연료', '최초연식', '열화도'], dtype='object')"
      ]
     },
     "execution_count": 185,
     "metadata": {},
     "output_type": "execute_result"
    }
   ],
   "source": [
    "grp2.columns"
   ]
  },
  {
   "cell_type": "code",
   "execution_count": 186,
   "metadata": {},
   "outputs": [
    {
     "data": {
      "text/plain": [
       "(1391, 15)"
      ]
     },
     "execution_count": 186,
     "metadata": {},
     "output_type": "execute_result"
    }
   ],
   "source": [
    "cg2 = cert_df2[['제원관리번호', '배출가스인증번호', '검사방법', 'q1', 'q2', 'q3', '차량대수','q2_mean', '검토구분']].merge(grp2, on=['배출가스인증번호', '검사방법'], how='left')\n",
    "cg2.shape"
   ]
  },
  {
   "cell_type": "code",
   "execution_count": 187,
   "metadata": {},
   "outputs": [
    {
     "data": {
      "text/html": [
       "<div>\n",
       "<style scoped>\n",
       "    .dataframe tbody tr th:only-of-type {\n",
       "        vertical-align: middle;\n",
       "    }\n",
       "\n",
       "    .dataframe tbody tr th {\n",
       "        vertical-align: top;\n",
       "    }\n",
       "\n",
       "    .dataframe thead th {\n",
       "        text-align: right;\n",
       "    }\n",
       "</style>\n",
       "<table border=\"1\" class=\"dataframe\">\n",
       "  <thead>\n",
       "    <tr style=\"text-align: right;\">\n",
       "      <th></th>\n",
       "      <th>제원관리번호</th>\n",
       "      <th>배출가스인증번호</th>\n",
       "      <th>검사방법</th>\n",
       "      <th>q1</th>\n",
       "      <th>q2</th>\n",
       "      <th>q3</th>\n",
       "      <th>차량대수</th>\n",
       "      <th>q2_mean</th>\n",
       "      <th>검토구분</th>\n",
       "      <th>제작사명</th>\n",
       "      <th>차명</th>\n",
       "      <th>차종</th>\n",
       "      <th>연료</th>\n",
       "      <th>최초연식</th>\n",
       "      <th>열화도</th>\n",
       "    </tr>\n",
       "  </thead>\n",
       "  <tbody>\n",
       "    <tr>\n",
       "      <th>0</th>\n",
       "      <td>A0810005008503209</td>\n",
       "      <td>7MY-HD-24-28</td>\n",
       "      <td>부하검사(LUG DOWN)</td>\n",
       "      <td>5.00</td>\n",
       "      <td>8.00</td>\n",
       "      <td>11.00</td>\n",
       "      <td>332</td>\n",
       "      <td>6.57</td>\n",
       "      <td>양호</td>\n",
       "      <td>현대자동차(주)</td>\n",
       "      <td>이-마이티</td>\n",
       "      <td>화물</td>\n",
       "      <td>경유</td>\n",
       "      <td>2007</td>\n",
       "      <td>0.47</td>\n",
       "    </tr>\n",
       "    <tr>\n",
       "      <th>1</th>\n",
       "      <td>A0810005008603209</td>\n",
       "      <td>7MY-HD-24-28</td>\n",
       "      <td>부하검사(LUG DOWN)</td>\n",
       "      <td>4.00</td>\n",
       "      <td>8.00</td>\n",
       "      <td>11.00</td>\n",
       "      <td>512</td>\n",
       "      <td>6.57</td>\n",
       "      <td>양호</td>\n",
       "      <td>현대자동차(주)</td>\n",
       "      <td>이-마이티</td>\n",
       "      <td>화물</td>\n",
       "      <td>경유</td>\n",
       "      <td>2007</td>\n",
       "      <td>0.47</td>\n",
       "    </tr>\n",
       "    <tr>\n",
       "      <th>2</th>\n",
       "      <td>A0810005009343210</td>\n",
       "      <td>7MY-HD-24-28</td>\n",
       "      <td>부하검사(LUG DOWN)</td>\n",
       "      <td>2.00</td>\n",
       "      <td>6.00</td>\n",
       "      <td>9.00</td>\n",
       "      <td>476</td>\n",
       "      <td>6.57</td>\n",
       "      <td>양호</td>\n",
       "      <td>현대자동차(주)</td>\n",
       "      <td>이-마이티</td>\n",
       "      <td>화물</td>\n",
       "      <td>경유</td>\n",
       "      <td>2007</td>\n",
       "      <td>0.47</td>\n",
       "    </tr>\n",
       "    <tr>\n",
       "      <th>3</th>\n",
       "      <td>A0810005603012209</td>\n",
       "      <td>7MY-HD-24-28</td>\n",
       "      <td>부하검사(LUG DOWN)</td>\n",
       "      <td>3.00</td>\n",
       "      <td>8.00</td>\n",
       "      <td>11.00</td>\n",
       "      <td>327</td>\n",
       "      <td>6.50</td>\n",
       "      <td>양호</td>\n",
       "      <td>현대자동차(주)</td>\n",
       "      <td>이-마이티</td>\n",
       "      <td>화물</td>\n",
       "      <td>경유</td>\n",
       "      <td>2007</td>\n",
       "      <td>0.47</td>\n",
       "    </tr>\n",
       "    <tr>\n",
       "      <th>4</th>\n",
       "      <td>A0810005008583209</td>\n",
       "      <td>7MY-HD-24-28</td>\n",
       "      <td>부하검사(LUG DOWN)</td>\n",
       "      <td>3.00</td>\n",
       "      <td>7.00</td>\n",
       "      <td>10.75</td>\n",
       "      <td>650</td>\n",
       "      <td>6.57</td>\n",
       "      <td>양호</td>\n",
       "      <td>현대자동차(주)</td>\n",
       "      <td>이-마이티</td>\n",
       "      <td>화물</td>\n",
       "      <td>경유</td>\n",
       "      <td>2007</td>\n",
       "      <td>0.47</td>\n",
       "    </tr>\n",
       "  </tbody>\n",
       "</table>\n",
       "</div>"
      ],
      "text/plain": [
       "              제원관리번호      배출가스인증번호            검사방법   q1   q2    q3  차량대수   \n",
       "0  A0810005008503209  7MY-HD-24-28  부하검사(LUG DOWN) 5.00 8.00 11.00   332  \\\n",
       "1  A0810005008603209  7MY-HD-24-28  부하검사(LUG DOWN) 4.00 8.00 11.00   512   \n",
       "2  A0810005009343210  7MY-HD-24-28  부하검사(LUG DOWN) 2.00 6.00  9.00   476   \n",
       "3  A0810005603012209  7MY-HD-24-28  부하검사(LUG DOWN) 3.00 8.00 11.00   327   \n",
       "4  A0810005008583209  7MY-HD-24-28  부하검사(LUG DOWN) 3.00 7.00 10.75   650   \n",
       "\n",
       "   q2_mean 검토구분      제작사명     차명  차종  연료  최초연식  열화도  \n",
       "0     6.57   양호  현대자동차(주)  이-마이티  화물  경유  2007 0.47  \n",
       "1     6.57   양호  현대자동차(주)  이-마이티  화물  경유  2007 0.47  \n",
       "2     6.57   양호  현대자동차(주)  이-마이티  화물  경유  2007 0.47  \n",
       "3     6.50   양호  현대자동차(주)  이-마이티  화물  경유  2007 0.47  \n",
       "4     6.57   양호  현대자동차(주)  이-마이티  화물  경유  2007 0.47  "
      ]
     },
     "execution_count": 187,
     "metadata": {},
     "output_type": "execute_result"
    }
   ],
   "source": [
    "cg2.head()"
   ]
  },
  {
   "cell_type": "code",
   "execution_count": 189,
   "metadata": {},
   "outputs": [
    {
     "data": {
      "text/html": [
       "<div>\n",
       "<style scoped>\n",
       "    .dataframe tbody tr th:only-of-type {\n",
       "        vertical-align: middle;\n",
       "    }\n",
       "\n",
       "    .dataframe tbody tr th {\n",
       "        vertical-align: top;\n",
       "    }\n",
       "\n",
       "    .dataframe thead th {\n",
       "        text-align: right;\n",
       "    }\n",
       "</style>\n",
       "<table border=\"1\" class=\"dataframe\">\n",
       "  <thead>\n",
       "    <tr style=\"text-align: right;\">\n",
       "      <th></th>\n",
       "      <th>배출가스인증번호</th>\n",
       "      <th>검토주의</th>\n",
       "    </tr>\n",
       "  </thead>\n",
       "  <tbody>\n",
       "    <tr>\n",
       "      <th>0</th>\n",
       "      <td>7MY-HD-24-28</td>\n",
       "      <td>양호</td>\n",
       "    </tr>\n",
       "    <tr>\n",
       "      <th>1</th>\n",
       "      <td>7MY-KM-14-65</td>\n",
       "      <td>양호</td>\n",
       "    </tr>\n",
       "    <tr>\n",
       "      <th>2</th>\n",
       "      <td>7MY-KM-14-64</td>\n",
       "      <td>양호</td>\n",
       "    </tr>\n",
       "    <tr>\n",
       "      <th>3</th>\n",
       "      <td>7MY-HD-24-30</td>\n",
       "      <td>양호</td>\n",
       "    </tr>\n",
       "    <tr>\n",
       "      <th>4</th>\n",
       "      <td>7MY-HD-14-68</td>\n",
       "      <td>주의</td>\n",
       "    </tr>\n",
       "    <tr>\n",
       "      <th>...</th>\n",
       "      <td>...</td>\n",
       "      <td>...</td>\n",
       "    </tr>\n",
       "    <tr>\n",
       "      <th>58</th>\n",
       "      <td>7MY-SY-14-61</td>\n",
       "      <td>양호</td>\n",
       "    </tr>\n",
       "    <tr>\n",
       "      <th>59</th>\n",
       "      <td>7MY-SY-14-49</td>\n",
       "      <td>양호</td>\n",
       "    </tr>\n",
       "    <tr>\n",
       "      <th>60</th>\n",
       "      <td>7MY-HD-23-01</td>\n",
       "      <td>양호</td>\n",
       "    </tr>\n",
       "    <tr>\n",
       "      <th>61</th>\n",
       "      <td>5MY-KM-24-64</td>\n",
       "      <td>양호</td>\n",
       "    </tr>\n",
       "    <tr>\n",
       "      <th>62</th>\n",
       "      <td>5MY-AD-13-06</td>\n",
       "      <td>양호</td>\n",
       "    </tr>\n",
       "  </tbody>\n",
       "</table>\n",
       "<p>63 rows × 2 columns</p>\n",
       "</div>"
      ],
      "text/plain": [
       "        배출가스인증번호 검토주의\n",
       "0   7MY-HD-24-28   양호\n",
       "1   7MY-KM-14-65   양호\n",
       "2   7MY-KM-14-64   양호\n",
       "3   7MY-HD-24-30   양호\n",
       "4   7MY-HD-14-68   주의\n",
       "..           ...  ...\n",
       "58  7MY-SY-14-61   양호\n",
       "59  7MY-SY-14-49   양호\n",
       "60  7MY-HD-23-01   양호\n",
       "61  5MY-KM-24-64   양호\n",
       "62  5MY-AD-13-06   양호\n",
       "\n",
       "[63 rows x 2 columns]"
      ]
     },
     "execution_count": 189,
     "metadata": {},
     "output_type": "execute_result"
    }
   ],
   "source": [
    "cert_no_list, pf_list = [], []\n",
    "for cert_no in cg2['배출가스인증번호'].unique():\n",
    "    temp = cg2[(cg2['배출가스인증번호'] == cert_no) & (cg2['검토구분'] == '주의')]\n",
    "    if temp.shape[0] == 0:\n",
    "        pf = '양호'\n",
    "    else:\n",
    "        pf = '주의'\n",
    "    cert_no_list.append(cert_no)\n",
    "    pf_list.append(pf)\n",
    "cert_pf = pd.DataFrame({'배출가스인증번호':cert_no_list, '검토주의':pf_list})\n",
    "cert_pf"
   ]
  },
  {
   "cell_type": "code",
   "execution_count": 190,
   "metadata": {},
   "outputs": [
    {
     "data": {
      "text/plain": [
       "검토주의\n",
       "양호    56\n",
       "주의     7\n",
       "Name: count, dtype: int64"
      ]
     },
     "execution_count": 190,
     "metadata": {},
     "output_type": "execute_result"
    }
   ],
   "source": [
    "cert_pf['검토주의'].value_counts()"
   ]
  },
  {
   "cell_type": "code",
   "execution_count": null,
   "metadata": {},
   "outputs": [],
   "source": []
  },
  {
   "cell_type": "code",
   "execution_count": 188,
   "metadata": {},
   "outputs": [
    {
     "data": {
      "text/plain": [
       "검토구분\n",
       "양호    1340\n",
       "주의      51\n",
       "Name: count, dtype: int64"
      ]
     },
     "execution_count": 188,
     "metadata": {},
     "output_type": "execute_result"
    }
   ],
   "source": [
    "cg2['검토구분'].value_counts(dropna=False)"
   ]
  },
  {
   "cell_type": "code",
   "execution_count": 172,
   "metadata": {},
   "outputs": [
    {
     "data": {
      "text/plain": [
       "차종      0\n",
       "연료      0\n",
       "최초연식    0\n",
       "dtype: int64"
      ]
     },
     "execution_count": 172,
     "metadata": {},
     "output_type": "execute_result"
    }
   ],
   "source": [
    "cg2[['차종', '연료', '최초연식']].isnull().sum()"
   ]
  },
  {
   "cell_type": "code",
   "execution_count": 173,
   "metadata": {},
   "outputs": [],
   "source": [
    "cg2['테이블생성일자'] = today_date"
   ]
  },
  {
   "cell_type": "code",
   "execution_count": 174,
   "metadata": {},
   "outputs": [
    {
     "data": {
      "text/plain": [
       "['차명',\n",
       " '제작사명',\n",
       " '제원관리번호',\n",
       " '배출가스인증번호',\n",
       " '검사방법',\n",
       " 'q1',\n",
       " 'q2',\n",
       " 'q3',\n",
       " '차량대수',\n",
       " 'q2_mean',\n",
       " '검토구분',\n",
       " '차종',\n",
       " '연료',\n",
       " '최초연식',\n",
       " '열화도',\n",
       " '테이블생성일자']"
      ]
     },
     "execution_count": 174,
     "metadata": {},
     "output_type": "execute_result"
    }
   ],
   "source": [
    "list(cg2.columns)"
   ]
  },
  {
   "cell_type": "code",
   "execution_count": 175,
   "metadata": {},
   "outputs": [],
   "source": [
    "STD_BD_DAT_GRD4_SI = cg2[[\n",
    "    '배출가스인증번호',\n",
    "    '검사방법', \n",
    "    '검토구분',\n",
    "    '제작사명',\n",
    "    '차명',\n",
    "    '차종', \n",
    "    '연료',\n",
    "    '최초연식',\n",
    "    '열화도',\n",
    "    '테이블생성일자'\n",
    "]]"
   ]
  },
  {
   "cell_type": "code",
   "execution_count": 176,
   "metadata": {},
   "outputs": [
    {
     "data": {
      "text/plain": [
       "Index(['EXHST_GAS_CERT_NO', 'INSP_MTHD', 'RVW_SE', 'RPRS_MNFCTR_NM',\n",
       "       'RPRS_VHCNM', 'RPRS_VHCTY_CD', 'RPRS_FUEL', 'FRST_YRIDNW', 'SI',\n",
       "       'LOAD_DT'],\n",
       "      dtype='object')"
      ]
     },
     "execution_count": 176,
     "metadata": {},
     "output_type": "execute_result"
    }
   ],
   "source": [
    "# cdict = {\n",
    "#     '배출가스인증번호':'EXHST_GAS_CERT_NO', \n",
    "#     '검토구분':'RVW_SE', \n",
    "#     '대표제작사명':'RPRS_MNFCTR_NM', \n",
    "#     '대표차명':'RPRS_VHCNM', \n",
    "#     '대표차종':'RPRS_VHCTY_CD', \n",
    "#     '대표차연료':'RPRS_FUEL', \n",
    "#     '최초연식':'FRST_YRIDNW', \n",
    "#     '열화도':'SI', \n",
    "#     '테이블생성일자':'LOAD_DT', \n",
    "#     # '검사방법':'INSP_MTHD', \n",
    "# }\n",
    "cdict = {\n",
    "    '배출가스인증번호':'EXHST_GAS_CERT_NO', \n",
    "    '검사방법':'INSP_MTHD', \n",
    "    '검토구분':'RVW_SE', \n",
    "    '제작사명':'RPRS_MNFCTR_NM', \n",
    "    '차명':'RPRS_VHCNM', \n",
    "    '차종':'RPRS_VHCTY_CD', \n",
    "    '연료':'RPRS_FUEL', \n",
    "    '최초연식':'FRST_YRIDNW', \n",
    "    '열화도':'SI', \n",
    "    '테이블생성일자':'LOAD_DT', \n",
    "}\n",
    "STD_BD_DAT_GRD4_SI = STD_BD_DAT_GRD4_SI.rename(columns=cdict)\n",
    "STD_BD_DAT_GRD4_SI.columns"
   ]
  },
  {
   "cell_type": "markdown",
   "metadata": {},
   "source": [
    "### [출력] STD_BD_DAT_GRD4_SI"
   ]
  },
  {
   "cell_type": "code",
   "execution_count": 446,
   "metadata": {},
   "outputs": [],
   "source": [
    "# expdf = STD_BD_DAT_GRD4_SI\n",
    "# table_nm = 'STD_BD_DAT_GRD4_SI'.upper()\n",
    "\n",
    "# # 테이블 생성\n",
    "# sql = 'create or replace table ' + table_nm + '( \\n'\n",
    "\n",
    "# for idx,column in enumerate(expdf.columns):\n",
    "#     if 'float' in expdf[column].dtype.name:\n",
    "#         sql += column + ' float'\n",
    "#     elif 'int' in expdf[column].dtype.name:\n",
    "#         sql += column + ' number'\n",
    "#     else:\n",
    "#         sql += column + ' varchar(255)'\n",
    "\n",
    "#     if len(expdf.columns) - 1 != idx:\n",
    "#         sql += ','\n",
    "#     sql += '\\n'\n",
    "# sql += ')'    \n",
    "# we.execute(sql)\n",
    "\n",
    "# # 데이터 추가\n",
    "# # 1s\n",
    "# we.import_from_pandas(expdf, table_nm)"
   ]
  },
  {
   "cell_type": "code",
   "execution_count": 447,
   "metadata": {},
   "outputs": [],
   "source": [
    "# # 0s\n",
    "# STD_BD_DAT_GRD4_SI.to_csv(os.path.join(df1_fold, 'STD_BD_DAT_GRD4_SI.csv'), index=False)"
   ]
  },
  {
   "cell_type": "markdown",
   "metadata": {},
   "source": [
    "# code end"
   ]
  }
 ],
 "metadata": {
  "interpreter": {
   "hash": "569b4317022eb29baeafb3d0f1f739310808ea28ce83ca127a35db1c01070585"
  },
  "kernelspec": {
   "display_name": "Python 3 (ipykernel)",
   "language": "python",
   "name": "python3"
  },
  "language_info": {
   "codemirror_mode": {
    "name": "ipython",
    "version": 3
   },
   "file_extension": ".py",
   "mimetype": "text/x-python",
   "name": "python",
   "nbconvert_exporter": "python",
   "pygments_lexer": "ipython3",
   "version": "3.9.13"
  },
  "vscode": {
   "interpreter": {
    "hash": "ad2bdc8ecc057115af97d19610ffacc2b4e99fae6737bb82f5d7fb13d2f2c186"
   }
  }
 },
 "nbformat": 4,
 "nbformat_minor": 4
}
