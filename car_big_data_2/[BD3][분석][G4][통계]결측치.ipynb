{
 "cells": [
  {
   "attachments": {},
   "cell_type": "markdown",
   "metadata": {},
   "source": [
    "# Library"
   ]
  },
  {
   "cell_type": "code",
   "execution_count": 1,
   "metadata": {},
   "outputs": [],
   "source": [
    "import pandas as pd\n",
    "import numpy as np\n",
    "import os"
   ]
  },
  {
   "cell_type": "code",
   "execution_count": 2,
   "metadata": {},
   "outputs": [],
   "source": [
    "grade = 4\n",
    "ods_folder = 'D:\\과업\\[한국환경공단]자동차_환경_빅데이터_구축_2차\\data\\ODS'\n",
    "file_name = f'[ODS][G{grade}]등록정보&제원정보(말소적용)(한글컬럼)(2022.12.29).csv'\n",
    "ods_path = os.path.join(ods_folder, file_name)"
   ]
  },
  {
   "attachments": {},
   "cell_type": "markdown",
   "metadata": {},
   "source": [
    "# 로드"
   ]
  },
  {
   "cell_type": "code",
   "execution_count": 3,
   "metadata": {},
   "outputs": [
    {
     "name": "stdout",
     "output_type": "stream",
     "text": [
      "<class 'pandas.core.frame.DataFrame'>\n",
      "RangeIndex: 1511251 entries, 0 to 1511250\n",
      "Data columns (total 59 columns):\n",
      " #   Column        Non-Null Count    Dtype  \n",
      "---  ------        --------------    -----  \n",
      " 0   차량관리번호        1511251 non-null  object \n",
      " 1   차량등록번호        1511251 non-null  object \n",
      " 2   본거지법정동코드      1511251 non-null  int64  \n",
      " 3   소유자구분         1511251 non-null  object \n",
      " 4   차종_등록정보       1511249 non-null  object \n",
      " 5   용도            1511251 non-null  object \n",
      " 6   미정1_x         1511251 non-null  object \n",
      " 7   현재회원번호        1510412 non-null  object \n",
      " 8   미정2_x         1511251 non-null  object \n",
      " 9   미정3_x         1511251 non-null  object \n",
      " 10  차대번호          1511251 non-null  object \n",
      " 11  최초등록일자        1511251 non-null  int64  \n",
      " 12  차량연식          1511251 non-null  int64  \n",
      " 13  차량제작일자        1342461 non-null  float64\n",
      " 14  배출가스검사유효일자    1511239 non-null  float64\n",
      " 15  제원관리번호        1511251 non-null  object \n",
      " 16  배출가스인증번호      1387542 non-null  object \n",
      " 17  배출가스등급        1511251 non-null  object \n",
      " 18  저공해조치YN(미사용)  1511096 non-null  object \n",
      " 19  저공해조치종류       189 non-null      float64\n",
      " 20  저공해조치구조변경YN   1511251 non-null  object \n",
      " 21  미정4           0 non-null        float64\n",
      " 22  차량등록번호숫자정보    1511251 non-null  int64  \n",
      " 23  차량말소YN        1511251 non-null  object \n",
      " 24  미정5           1511230 non-null  object \n",
      " 25  최초회원번호        1506595 non-null  object \n",
      " 26  취득일자          1418010 non-null  object \n",
      " 27  취득금액          1436843 non-null  float64\n",
      " 28  미정6           403099 non-null   object \n",
      " 29  생성일시_등록정보     1511251 non-null  object \n",
      " 30  수정일시_등록정보     915041 non-null   object \n",
      " 31  미정7           1511251 non-null  object \n",
      " 32  차명            1511251 non-null  object \n",
      " 33  차종_제원정보       1511251 non-null  object \n",
      " 34  차종분류          1511251 non-null  object \n",
      " 35  차종유형(소분류)     1511251 non-null  object \n",
      " 36  자동차형식         1510723 non-null  object \n",
      " 37  제작사명          1501221 non-null  object \n",
      " 38  연료            1511180 non-null  object \n",
      " 39  엔진형식          1509249 non-null  object \n",
      " 40  공차중량          0 non-null        float64\n",
      " 41  총중량           1511226 non-null  float64\n",
      " 42  적재중량          1510714 non-null  float64\n",
      " 43  엔진출력          1510623 non-null  float64\n",
      " 44  배기량           1511240 non-null  float64\n",
      " 45  승차인원          1511251 non-null  float64\n",
      " 46  차량길이          1511176 non-null  float64\n",
      " 47  차량너비          1511176 non-null  float64\n",
      " 48  차량높이          1511174 non-null  float64\n",
      " 49  원산지명          1492122 non-null  object \n",
      " 50  미정1_y         0 non-null        float64\n",
      " 51  삭제YN          1511251 non-null  object \n",
      " 52  승인일자          1510704 non-null  object \n",
      " 53  구동형식          47 non-null       float64\n",
      " 54  변속기종류         1511091 non-null  object \n",
      " 55  미정2_y         0 non-null        float64\n",
      " 56  생성일시_제원정보     1511251 non-null  object \n",
      " 57  수정일시_제원정보     497 non-null      object \n",
      " 58  미정3_y         1511251 non-null  object \n",
      "dtypes: float64(17), int64(4), object(38)\n",
      "memory usage: 680.3+ MB\n"
     ]
    }
   ],
   "source": [
    "# about 4m\n",
    "df = pd.read_csv(ods_path, encoding='cp949', low_memory=False)\n",
    "df.info()"
   ]
  },
  {
   "attachments": {},
   "cell_type": "markdown",
   "metadata": {},
   "source": [
    "# 전처리\n",
    "- 연료(제원정보) : 전기차 제외"
   ]
  },
  {
   "cell_type": "code",
   "execution_count": 4,
   "metadata": {},
   "outputs": [
    {
     "data": {
      "text/plain": [
       "Index(['차량관리번호', '차량등록번호', '본거지법정동코드', '소유자구분', '차종_등록정보', '용도', '미정1_x',\n",
       "       '현재회원번호', '미정2_x', '미정3_x', '차대번호', '최초등록일자', '차량연식', '차량제작일자',\n",
       "       '배출가스검사유효일자', '제원관리번호', '배출가스인증번호', '배출가스등급', '저공해조치YN(미사용)', '저공해조치종류',\n",
       "       '저공해조치구조변경YN', '미정4', '차량등록번호숫자정보', '차량말소YN', '미정5', '최초회원번호', '취득일자',\n",
       "       '취득금액', '미정6', '생성일시_등록정보', '수정일시_등록정보', '미정7', '차명', '차종_제원정보', '차종분류',\n",
       "       '차종유형(소분류)', '자동차형식', '제작사명', '연료', '엔진형식', '공차중량', '총중량', '적재중량',\n",
       "       '엔진출력', '배기량', '승차인원', '차량길이', '차량너비', '차량높이', '원산지명', '미정1_y', '삭제YN',\n",
       "       '승인일자', '구동형식', '변속기종류', '미정2_y', '생성일시_제원정보', '수정일시_제원정보', '미정3_y'],\n",
       "      dtype='object')"
      ]
     },
     "execution_count": 4,
     "metadata": {},
     "output_type": "execute_result"
    }
   ],
   "source": [
    "df.columns"
   ]
  },
  {
   "cell_type": "code",
   "execution_count": 5,
   "metadata": {},
   "outputs": [
    {
     "data": {
      "text/plain": [
       "array(['휘발유', 'LGP(액화석유가스)', '경유', '기타연료', nan, '알코올', 'CNG(압축천연가스)'],\n",
       "      dtype=object)"
      ]
     },
     "execution_count": 5,
     "metadata": {},
     "output_type": "execute_result"
    }
   ],
   "source": [
    "df['연료'].unique()"
   ]
  },
  {
   "cell_type": "code",
   "execution_count": 6,
   "metadata": {},
   "outputs": [],
   "source": [
    "df1 = df[['차량관리번호', '차량등록번호', '본거지법정동코드', '소유자구분', '차종_등록정보', '용도', '현재회원번호', '차대번호', '최초등록일자', '차량연식', '차량제작일자', '배출가스검사유효일자',\n",
    "          '제원관리번호', '배출가스인증번호', '배출가스등급', '저공해조치YN(미사용)', '저공해조치종류', '저공해조치구조변경YN', '차량등록번호숫자정보', '차량말소YN', '최초회원번호', '취득일자', '취득금액', \n",
    "          '생성일시_등록정보', '수정일시_등록정보', '차명', '차종_제원정보', '차종분류', '차종유형(소분류)', '자동차형식', '제작사명', '연료', '엔진형식', '공차중량', '총중량', '적재중량', '엔진출력', '배기량', \n",
    "          '승차인원', '차량길이', '차량너비', '차량높이', '원산지명', '삭제YN', '승인일자', '구동형식', '변속기종류', '생성일시_제원정보', '수정일시_제원정보', ]]"
   ]
  },
  {
   "cell_type": "code",
   "execution_count": 7,
   "metadata": {},
   "outputs": [
    {
     "data": {
      "text/plain": [
       "array(['휘발유', 'LGP(액화석유가스)', '경유', '기타연료', nan, '알코올', 'CNG(압축천연가스)'],\n",
       "      dtype=object)"
      ]
     },
     "execution_count": 7,
     "metadata": {},
     "output_type": "execute_result"
    }
   ],
   "source": [
    "df1['연료'].unique()"
   ]
  },
  {
   "cell_type": "code",
   "execution_count": 8,
   "metadata": {},
   "outputs": [
    {
     "data": {
      "text/plain": [
       "경유             1152698\n",
       "휘발유             332351\n",
       "LGP(액화석유가스)      26090\n",
       "기타연료                39\n",
       "알코올                  1\n",
       "CNG(압축천연가스)          1\n",
       "Name: 연료, dtype: int64"
      ]
     },
     "execution_count": 8,
     "metadata": {},
     "output_type": "execute_result"
    }
   ],
   "source": [
    "df1['연료'].value_counts()"
   ]
  },
  {
   "cell_type": "code",
   "execution_count": 9,
   "metadata": {},
   "outputs": [
    {
     "data": {
      "text/plain": [
       "(1511251, 49)"
      ]
     },
     "execution_count": 9,
     "metadata": {},
     "output_type": "execute_result"
    }
   ],
   "source": [
    "df1.shape"
   ]
  },
  {
   "cell_type": "code",
   "execution_count": 10,
   "metadata": {},
   "outputs": [
    {
     "data": {
      "text/plain": [
       "(1511251, 49)"
      ]
     },
     "execution_count": 10,
     "metadata": {},
     "output_type": "execute_result"
    }
   ],
   "source": [
    "df2 = df1[df1['연료'] != '전기'].reset_index(drop=True)\n",
    "df2.shape"
   ]
  },
  {
   "attachments": {},
   "cell_type": "markdown",
   "metadata": {},
   "source": [
    "# 기초 분석"
   ]
  },
  {
   "attachments": {},
   "cell_type": "markdown",
   "metadata": {},
   "source": [
    "## [로드] 영문, 한글 컬럼명 "
   ]
  },
  {
   "cell_type": "code",
   "execution_count": 11,
   "metadata": {},
   "outputs": [],
   "source": [
    "# 등록정보\n",
    "ex1 = pd.read_excel('analysis/ODSvsSTD/[정제]CEG_CAR_MIG.xlsx')\n",
    "# 제원정보\n",
    "ex2 = pd.read_excel('analysis/ODSvsSTD/[정제]CEG_CAR_SRC_MIG.xlsx')"
   ]
  },
  {
   "cell_type": "code",
   "execution_count": 12,
   "metadata": {},
   "outputs": [],
   "source": [
    "ex1['내용'] = ['수정일시_등록정보', '소유자구분', '차량등록번호', '본거지법정동코드', '생성일시_등록정보', '용도', '배출가스검사유효일자', '배출가스인증번호', '현재회원번호', '취득일자', '취득금액', \n",
    "               '최초회원번호', '최초등록일자', '차종_등록정보', '차량등록번호숫자정보', '차량관리번호', '차량제작일자', '차량연식', '차량말소YN', '차대번호', '제원관리번호', '배출가스등급', '저공해조치종류',\n",
    "               '저공해조치구조변경YN', '저공해조치YN(미사용)', '미정', '미정', '미정', '미정', '미정', '미정', '미정', ]\n",
    "ex2['내용'] = ['수정일시_제원정보', '승인일자', '삭제YN', '생성일시_제원정보', '총중량', '차종유형(소분류)', '차종분류', '차종_제원정보', '차명', '차량높이', '차량너비', '차량길이', '구동형식', '제작사명', \n",
    "               '제원관리번호', '적재중량', '자동차형식', '공차중량', '원산지명', '연료', '엔진형식', '엔진출력', '승차인원', '배기량', '변속기종류', '미정', '미정', '미정' ]\n",
    "ex = pd.concat([ex1, ex2], ignore_index=True)"
   ]
  },
  {
   "cell_type": "code",
   "execution_count": 13,
   "metadata": {},
   "outputs": [],
   "source": [
    "col_dict = {a:b for b, a in zip(ex['컬럼'], ex['내용'])}"
   ]
  },
  {
   "cell_type": "code",
   "execution_count": 14,
   "metadata": {},
   "outputs": [],
   "source": [
    "an = df2.isnull().sum().reset_index()\n",
    "an.columns = ['한글컬럼', '결측치']\n",
    "an['컬럼'] = [col_dict[x] for x in an['한글컬럼']]\n",
    "an = an[['컬럼', '한글컬럼', '결측치']]"
   ]
  },
  {
   "attachments": {},
   "cell_type": "markdown",
   "metadata": {},
   "source": [
    "## [출력] 등록정보&제원정보 결측치 통계"
   ]
  },
  {
   "cell_type": "code",
   "execution_count": 15,
   "metadata": {},
   "outputs": [],
   "source": [
    "an.to_excel(f'analysis2/[BD3][G{grade}][통계]등록정보&제원정보_결측치(전기차제외)(말소적용).xlsx', index=False)"
   ]
  },
  {
   "cell_type": "markdown",
   "metadata": {},
   "source": [
    "# 코드 마지막"
   ]
  }
 ],
 "metadata": {
  "kernelspec": {
   "display_name": "base",
   "language": "python",
   "name": "python3"
  },
  "language_info": {
   "codemirror_mode": {
    "name": "ipython",
    "version": 3
   },
   "file_extension": ".py",
   "mimetype": "text/x-python",
   "name": "python",
   "nbconvert_exporter": "python",
   "pygments_lexer": "ipython3",
   "version": "3.9.13"
  },
  "orig_nbformat": 4,
  "vscode": {
   "interpreter": {
    "hash": "ad2bdc8ecc057115af97d19610ffacc2b4e99fae6737bb82f5d7fb13d2f2c186"
   }
  }
 },
 "nbformat": 4,
 "nbformat_minor": 2
}
