{
 "cells": [
  {
   "attachments": {},
   "cell_type": "markdown",
   "metadata": {},
   "source": [
    "# Library"
   ]
  },
  {
   "cell_type": "code",
   "execution_count": 1,
   "metadata": {},
   "outputs": [],
   "source": [
    "import pandas as pd\n",
    "import numpy as np\n",
    "import os\n",
    "from tqdm import tqdm"
   ]
  },
  {
   "attachments": {},
   "cell_type": "markdown",
   "metadata": {},
   "source": [
    "# 로드\n",
    "- 등록정보&제원정보"
   ]
  },
  {
   "attachments": {},
   "cell_type": "markdown",
   "metadata": {},
   "source": [
    "## [로드] 등록정보&제원정보(말소제거, 중복차대제거)"
   ]
  },
  {
   "cell_type": "code",
   "execution_count": 3,
   "metadata": {},
   "outputs": [],
   "source": [
    "# about 30s\n",
    "ods_folder = 'D:/data/big2/ODS'\n",
    "file_name = '[ODS][G4]등록정보&제원정보(말소제거)(중복차대제거)(2022.12.29).csv'\n",
    "ods_path = os.path.join(ods_folder, file_name)\n",
    "df = pd.read_csv(ods_path, encoding='cp949', low_memory=False)"
   ]
  },
  {
   "attachments": {},
   "cell_type": "markdown",
   "metadata": {},
   "source": [
    "## [로드] DPF"
   ]
  },
  {
   "cell_type": "code",
   "execution_count": 4,
   "metadata": {},
   "outputs": [
    {
     "data": {
      "text/html": [
       "<div>\n",
       "<style scoped>\n",
       "    .dataframe tbody tr th:only-of-type {\n",
       "        vertical-align: middle;\n",
       "    }\n",
       "\n",
       "    .dataframe tbody tr th {\n",
       "        vertical-align: top;\n",
       "    }\n",
       "\n",
       "    .dataframe thead th {\n",
       "        text-align: right;\n",
       "    }\n",
       "</style>\n",
       "<table border=\"1\" class=\"dataframe\">\n",
       "  <thead>\n",
       "    <tr style=\"text-align: right;\">\n",
       "      <th></th>\n",
       "      <th>배출가스 인증번호</th>\n",
       "      <th>DPF 유무</th>\n",
       "    </tr>\n",
       "  </thead>\n",
       "  <tbody>\n",
       "    <tr>\n",
       "      <th>0</th>\n",
       "      <td>NaN</td>\n",
       "      <td>NaN</td>\n",
       "    </tr>\n",
       "    <tr>\n",
       "      <th>1</th>\n",
       "      <td>5MY-HD-24-55</td>\n",
       "      <td>유</td>\n",
       "    </tr>\n",
       "    <tr>\n",
       "      <th>2</th>\n",
       "      <td>5MY-HD-24-59</td>\n",
       "      <td>유</td>\n",
       "    </tr>\n",
       "    <tr>\n",
       "      <th>3</th>\n",
       "      <td>6MY-HD-24-100</td>\n",
       "      <td>유</td>\n",
       "    </tr>\n",
       "    <tr>\n",
       "      <th>4</th>\n",
       "      <td>7MY-HD-24-57</td>\n",
       "      <td>무</td>\n",
       "    </tr>\n",
       "  </tbody>\n",
       "</table>\n",
       "</div>"
      ],
      "text/plain": [
       "       배출가스 인증번호 DPF 유무\n",
       "0            NaN    NaN\n",
       "1   5MY-HD-24-55      유\n",
       "2   5MY-HD-24-59      유\n",
       "3  6MY-HD-24-100      유\n",
       "4   7MY-HD-24-57      무"
      ]
     },
     "execution_count": 4,
     "metadata": {},
     "output_type": "execute_result"
    }
   ],
   "source": [
    "dpf1 = pd.read_excel('D:/과업/[한국환경공단]자동차_환경_빅데이터_구축_2차/data/TalkFile_유로4인증대장자료 검토_경유1.xlsx', \n",
    "                    sheet_name='인증대장기반 국내 차종 배출량 검토', usecols=['배출가스 인증번호', 'DPF 유무'])\n",
    "dpf1.head()"
   ]
  },
  {
   "cell_type": "code",
   "execution_count": 5,
   "metadata": {},
   "outputs": [
    {
     "data": {
      "text/html": [
       "<div>\n",
       "<style scoped>\n",
       "    .dataframe tbody tr th:only-of-type {\n",
       "        vertical-align: middle;\n",
       "    }\n",
       "\n",
       "    .dataframe tbody tr th {\n",
       "        vertical-align: top;\n",
       "    }\n",
       "\n",
       "    .dataframe thead th {\n",
       "        text-align: right;\n",
       "    }\n",
       "</style>\n",
       "<table border=\"1\" class=\"dataframe\">\n",
       "  <thead>\n",
       "    <tr style=\"text-align: right;\">\n",
       "      <th></th>\n",
       "      <th>배출가스 인증번호</th>\n",
       "      <th>DPF 유무</th>\n",
       "    </tr>\n",
       "  </thead>\n",
       "  <tbody>\n",
       "    <tr>\n",
       "      <th>1</th>\n",
       "      <td>5MY-HD-24-55</td>\n",
       "      <td>유</td>\n",
       "    </tr>\n",
       "    <tr>\n",
       "      <th>2</th>\n",
       "      <td>5MY-HD-24-59</td>\n",
       "      <td>유</td>\n",
       "    </tr>\n",
       "    <tr>\n",
       "      <th>3</th>\n",
       "      <td>6MY-HD-24-100</td>\n",
       "      <td>유</td>\n",
       "    </tr>\n",
       "    <tr>\n",
       "      <th>4</th>\n",
       "      <td>7MY-HD-24-57</td>\n",
       "      <td>무</td>\n",
       "    </tr>\n",
       "    <tr>\n",
       "      <th>5</th>\n",
       "      <td>7MY-HD-13-58</td>\n",
       "      <td>유</td>\n",
       "    </tr>\n",
       "  </tbody>\n",
       "</table>\n",
       "</div>"
      ],
      "text/plain": [
       "       배출가스 인증번호 DPF 유무\n",
       "1   5MY-HD-24-55      유\n",
       "2   5MY-HD-24-59      유\n",
       "3  6MY-HD-24-100      유\n",
       "4   7MY-HD-24-57      무\n",
       "5   7MY-HD-13-58      유"
      ]
     },
     "execution_count": 5,
     "metadata": {},
     "output_type": "execute_result"
    }
   ],
   "source": [
    "dpf1 = dpf1.iloc[1:, :]\n",
    "dpf1.head()"
   ]
  },
  {
   "cell_type": "code",
   "execution_count": 6,
   "metadata": {},
   "outputs": [
    {
     "data": {
      "text/plain": [
       "(44, 2)"
      ]
     },
     "execution_count": 6,
     "metadata": {},
     "output_type": "execute_result"
    }
   ],
   "source": [
    "dpf1.shape"
   ]
  },
  {
   "cell_type": "code",
   "execution_count": 7,
   "metadata": {},
   "outputs": [
    {
     "data": {
      "text/html": [
       "<div>\n",
       "<style scoped>\n",
       "    .dataframe tbody tr th:only-of-type {\n",
       "        vertical-align: middle;\n",
       "    }\n",
       "\n",
       "    .dataframe tbody tr th {\n",
       "        vertical-align: top;\n",
       "    }\n",
       "\n",
       "    .dataframe thead th {\n",
       "        text-align: right;\n",
       "    }\n",
       "</style>\n",
       "<table border=\"1\" class=\"dataframe\">\n",
       "  <thead>\n",
       "    <tr style=\"text-align: right;\">\n",
       "      <th></th>\n",
       "      <th>배출가스 인증번호</th>\n",
       "      <th>DPF 유무</th>\n",
       "    </tr>\n",
       "  </thead>\n",
       "  <tbody>\n",
       "    <tr>\n",
       "      <th>0</th>\n",
       "      <td>NaN</td>\n",
       "      <td>NaN</td>\n",
       "    </tr>\n",
       "    <tr>\n",
       "      <th>1</th>\n",
       "      <td>5MY-BK-14-07</td>\n",
       "      <td>유</td>\n",
       "    </tr>\n",
       "    <tr>\n",
       "      <th>2</th>\n",
       "      <td>8MY-BK-14-02</td>\n",
       "      <td>유</td>\n",
       "    </tr>\n",
       "    <tr>\n",
       "      <th>3</th>\n",
       "      <td>8MY-BK-14-07</td>\n",
       "      <td>유</td>\n",
       "    </tr>\n",
       "    <tr>\n",
       "      <th>4</th>\n",
       "      <td>6MY-MK-14-13</td>\n",
       "      <td>유</td>\n",
       "    </tr>\n",
       "  </tbody>\n",
       "</table>\n",
       "</div>"
      ],
      "text/plain": [
       "      배출가스 인증번호 DPF 유무\n",
       "0           NaN    NaN\n",
       "1  5MY-BK-14-07      유\n",
       "2  8MY-BK-14-02      유\n",
       "3  8MY-BK-14-07      유\n",
       "4  6MY-MK-14-13      유"
      ]
     },
     "execution_count": 7,
     "metadata": {},
     "output_type": "execute_result"
    }
   ],
   "source": [
    "dpf2 = pd.read_excel('D:/과업/[한국환경공단]자동차_환경_빅데이터_구축_2차/data/TalkFile_유로4인증대장자료 검토_경유1.xlsx', \n",
    "                    sheet_name='인증대장기반 해외 차종 배출량 검토(EURO4)', usecols=['배출가스 인증번호', 'DPF 유무'])\n",
    "dpf2.head()"
   ]
  },
  {
   "cell_type": "code",
   "execution_count": 8,
   "metadata": {},
   "outputs": [
    {
     "data": {
      "text/html": [
       "<div>\n",
       "<style scoped>\n",
       "    .dataframe tbody tr th:only-of-type {\n",
       "        vertical-align: middle;\n",
       "    }\n",
       "\n",
       "    .dataframe tbody tr th {\n",
       "        vertical-align: top;\n",
       "    }\n",
       "\n",
       "    .dataframe thead th {\n",
       "        text-align: right;\n",
       "    }\n",
       "</style>\n",
       "<table border=\"1\" class=\"dataframe\">\n",
       "  <thead>\n",
       "    <tr style=\"text-align: right;\">\n",
       "      <th></th>\n",
       "      <th>배출가스 인증번호</th>\n",
       "      <th>DPF 유무</th>\n",
       "    </tr>\n",
       "  </thead>\n",
       "  <tbody>\n",
       "    <tr>\n",
       "      <th>1</th>\n",
       "      <td>5MY-BK-14-07</td>\n",
       "      <td>유</td>\n",
       "    </tr>\n",
       "    <tr>\n",
       "      <th>2</th>\n",
       "      <td>8MY-BK-14-02</td>\n",
       "      <td>유</td>\n",
       "    </tr>\n",
       "    <tr>\n",
       "      <th>3</th>\n",
       "      <td>8MY-BK-14-07</td>\n",
       "      <td>유</td>\n",
       "    </tr>\n",
       "    <tr>\n",
       "      <th>4</th>\n",
       "      <td>6MY-MK-14-13</td>\n",
       "      <td>유</td>\n",
       "    </tr>\n",
       "    <tr>\n",
       "      <th>5</th>\n",
       "      <td>7MY-MK-14-4</td>\n",
       "      <td>유</td>\n",
       "    </tr>\n",
       "  </tbody>\n",
       "</table>\n",
       "</div>"
      ],
      "text/plain": [
       "      배출가스 인증번호 DPF 유무\n",
       "1  5MY-BK-14-07      유\n",
       "2  8MY-BK-14-02      유\n",
       "3  8MY-BK-14-07      유\n",
       "4  6MY-MK-14-13      유\n",
       "5   7MY-MK-14-4      유"
      ]
     },
     "execution_count": 8,
     "metadata": {},
     "output_type": "execute_result"
    }
   ],
   "source": [
    "dpf2 = dpf2.iloc[1:, :]\n",
    "dpf2.head()"
   ]
  },
  {
   "cell_type": "code",
   "execution_count": 9,
   "metadata": {},
   "outputs": [
    {
     "data": {
      "text/plain": [
       "(39, 2)"
      ]
     },
     "execution_count": 9,
     "metadata": {},
     "output_type": "execute_result"
    }
   ],
   "source": [
    "dpf2.shape"
   ]
  },
  {
   "cell_type": "code",
   "execution_count": 10,
   "metadata": {},
   "outputs": [
    {
     "data": {
      "text/plain": [
       "(83, 2)"
      ]
     },
     "execution_count": 10,
     "metadata": {},
     "output_type": "execute_result"
    }
   ],
   "source": [
    "dpf = pd.concat([dpf1, dpf2], ignore_index=True)\n",
    "dpf.shape"
   ]
  },
  {
   "cell_type": "code",
   "execution_count": 11,
   "metadata": {},
   "outputs": [
    {
     "data": {
      "text/plain": [
       "Index(['배출가스 인증번호', 'DPF 유무'], dtype='object')"
      ]
     },
     "execution_count": 11,
     "metadata": {},
     "output_type": "execute_result"
    }
   ],
   "source": [
    "dpf.columns"
   ]
  },
  {
   "cell_type": "code",
   "execution_count": 12,
   "metadata": {},
   "outputs": [],
   "source": [
    "dpf.columns = ['배출가스인증번호', 'DPF유무']"
   ]
  },
  {
   "cell_type": "code",
   "execution_count": 13,
   "metadata": {},
   "outputs": [
    {
     "data": {
      "text/plain": [
       "유    47\n",
       "무    36\n",
       "Name: DPF유무, dtype: int64"
      ]
     },
     "execution_count": 13,
     "metadata": {},
     "output_type": "execute_result"
    }
   ],
   "source": [
    "dpf['DPF유무'].value_counts()"
   ]
  },
  {
   "cell_type": "code",
   "execution_count": 14,
   "metadata": {},
   "outputs": [
    {
     "data": {
      "text/plain": [
       "유    47\n",
       "무    36\n",
       "Name: DPF유무, dtype: int64"
      ]
     },
     "execution_count": 14,
     "metadata": {},
     "output_type": "execute_result"
    }
   ],
   "source": [
    "dpf['DPF유무'] = dpf['DPF유무'].astype('str')\n",
    "dpf['DPF유무'].value_counts()"
   ]
  },
  {
   "attachments": {},
   "cell_type": "markdown",
   "metadata": {},
   "source": [
    "## [출력] dpf 병합"
   ]
  },
  {
   "cell_type": "code",
   "execution_count": 38,
   "metadata": {},
   "outputs": [],
   "source": [
    "dpf.to_excel(os.path.join('D:/data/big2', 'dpf.xlsx'), index=False)"
   ]
  },
  {
   "attachments": {},
   "cell_type": "markdown",
   "metadata": {},
   "source": [
    "## [로드] 저감장치 부착이력(중복차대제거)"
   ]
  },
  {
   "cell_type": "code",
   "execution_count": 16,
   "metadata": {},
   "outputs": [
    {
     "name": "stdout",
     "output_type": "stream",
     "text": [
      "<class 'pandas.core.frame.DataFrame'>\n",
      "RangeIndex: 809255 entries, 0 to 809254\n",
      "Data columns (total 11 columns):\n",
      " #   Column      Non-Null Count   Dtype  \n",
      "---  ------      --------------   -----  \n",
      " 0   저감장치종류      585410 non-null  object \n",
      " 1   TDMS부착여부    204903 non-null  object \n",
      " 2   구조변경일자      809255 non-null  int64  \n",
      " 3   부착업체명       800321 non-null  object \n",
      " 4   부착일자        809254 non-null  float64\n",
      " 5   탈거승인일       169 non-null     float64\n",
      " 6   차량번호        809255 non-null  object \n",
      " 7   차대번호        809255 non-null  object \n",
      " 8   저감장치반납여부    324650 non-null  object \n",
      " 9   저감장치구분      809255 non-null  object \n",
      " 10  삼원촉매장치반납여부  13688 non-null   object \n",
      "dtypes: float64(2), int64(1), object(8)\n",
      "memory usage: 67.9+ MB\n"
     ]
    }
   ],
   "source": [
    "file_name = '[ODS]저감장치부착이력(중복차대제거)(2022.12.29).csv'\n",
    "low_path = os.path.join(ods_folder, file_name)\n",
    "low = pd.read_csv(low_path, encoding='cp949', low_memory=False)\n",
    "low.info()"
   ]
  },
  {
   "attachments": {},
   "cell_type": "markdown",
   "metadata": {},
   "source": [
    "# 전처리"
   ]
  },
  {
   "cell_type": "code",
   "execution_count": 17,
   "metadata": {},
   "outputs": [
    {
     "name": "stdout",
     "output_type": "stream",
     "text": [
      "<class 'pandas.core.frame.DataFrame'>\n",
      "RangeIndex: 1511139 entries, 0 to 1511138\n",
      "Data columns (total 59 columns):\n",
      " #   Column        Non-Null Count    Dtype  \n",
      "---  ------        --------------    -----  \n",
      " 0   차량관리번호        1511139 non-null  object \n",
      " 1   차량등록번호        1511139 non-null  object \n",
      " 2   본거지법정동코드      1511139 non-null  int64  \n",
      " 3   소유자구분         1511139 non-null  object \n",
      " 4   차종_등록정보       1511137 non-null  object \n",
      " 5   용도            1511139 non-null  object \n",
      " 6   미정1_x         1511139 non-null  object \n",
      " 7   현재회원번호        1510300 non-null  object \n",
      " 8   미정2_x         1511139 non-null  object \n",
      " 9   미정3_x         1511139 non-null  object \n",
      " 10  차대번호          1511139 non-null  object \n",
      " 11  최초등록일자        1511139 non-null  int64  \n",
      " 12  차량연식          1511139 non-null  int64  \n",
      " 13  차량제작일자        1342367 non-null  float64\n",
      " 14  배출가스검사유효일자    1511127 non-null  float64\n",
      " 15  제원관리번호        1511139 non-null  object \n",
      " 16  배출가스인증번호      1387441 non-null  object \n",
      " 17  배출가스등급        1511139 non-null  object \n",
      " 18  저공해조치YN(미사용)  1510984 non-null  object \n",
      " 19  저공해조치종류       189 non-null      float64\n",
      " 20  저공해조치구조변경YN   1511139 non-null  object \n",
      " 21  미정4           0 non-null        float64\n",
      " 22  차량등록번호숫자정보    1511139 non-null  int64  \n",
      " 23  차량말소YN        1511139 non-null  object \n",
      " 24  미정5           1511118 non-null  object \n",
      " 25  최초회원번호        1506484 non-null  object \n",
      " 26  취득일자          1417927 non-null  object \n",
      " 27  취득금액          1436738 non-null  float64\n",
      " 28  미정6           403044 non-null   object \n",
      " 29  생성일시_등록정보     1511139 non-null  object \n",
      " 30  수정일시_등록정보     914957 non-null   object \n",
      " 31  미정7           1511139 non-null  object \n",
      " 32  차명            1511139 non-null  object \n",
      " 33  차종_제원정보       1511139 non-null  object \n",
      " 34  차종분류          1511139 non-null  object \n",
      " 35  차종유형(소분류)     1511139 non-null  object \n",
      " 36  자동차형식         1510611 non-null  object \n",
      " 37  제작사명          1501112 non-null  object \n",
      " 38  연료            1511068 non-null  object \n",
      " 39  엔진형식          1509138 non-null  object \n",
      " 40  공차중량          0 non-null        float64\n",
      " 41  총중량           1511114 non-null  float64\n",
      " 42  적재중량          1510602 non-null  float64\n",
      " 43  엔진출력          1510511 non-null  float64\n",
      " 44  배기량           1511128 non-null  float64\n",
      " 45  승차인원          1511139 non-null  float64\n",
      " 46  차량길이          1511064 non-null  float64\n",
      " 47  차량너비          1511064 non-null  float64\n",
      " 48  차량높이          1511062 non-null  float64\n",
      " 49  원산지명          1492014 non-null  object \n",
      " 50  미정1_y         0 non-null        float64\n",
      " 51  삭제YN          1511139 non-null  object \n",
      " 52  승인일자          1510592 non-null  object \n",
      " 53  구동형식          47 non-null       float64\n",
      " 54  변속기종류         1510979 non-null  object \n",
      " 55  미정2_y         0 non-null        float64\n",
      " 56  생성일시_제원정보     1511139 non-null  object \n",
      " 57  수정일시_제원정보     497 non-null      object \n",
      " 58  미정3_y         1511139 non-null  object \n",
      "dtypes: float64(17), int64(4), object(38)\n",
      "memory usage: 680.2+ MB\n"
     ]
    }
   ],
   "source": [
    "df.info()"
   ]
  },
  {
   "cell_type": "code",
   "execution_count": 18,
   "metadata": {},
   "outputs": [
    {
     "data": {
      "text/plain": [
       "(1511139, 59)"
      ]
     },
     "execution_count": 18,
     "metadata": {},
     "output_type": "execute_result"
    }
   ],
   "source": [
    "df.shape"
   ]
  },
  {
   "attachments": {},
   "cell_type": "markdown",
   "metadata": {},
   "source": [
    "## 빈칸 처리"
   ]
  },
  {
   "cell_type": "code",
   "execution_count": 19,
   "metadata": {},
   "outputs": [],
   "source": [
    "df1 = df.copy()"
   ]
  },
  {
   "cell_type": "code",
   "execution_count": 20,
   "metadata": {},
   "outputs": [
    {
     "data": {
      "text/plain": [
       "123698"
      ]
     },
     "execution_count": 20,
     "metadata": {},
     "output_type": "execute_result"
    }
   ],
   "source": [
    "df1['배출가스인증번호'].isnull().sum()"
   ]
  },
  {
   "cell_type": "code",
   "execution_count": 22,
   "metadata": {},
   "outputs": [],
   "source": [
    "# # 빈칸이 포함된 샘플\n",
    "# count = 0\n",
    "# for i, one in enumerate(df1['배출가스인증번호']):\n",
    "#     if ' ' in str(one):\n",
    "#         print(i)\n",
    "#         count += 1\n",
    "# count"
   ]
  },
  {
   "cell_type": "code",
   "execution_count": 23,
   "metadata": {},
   "outputs": [],
   "source": [
    "# df1.loc[706692, '배출가스인증번호']"
   ]
  },
  {
   "cell_type": "code",
   "execution_count": 24,
   "metadata": {},
   "outputs": [],
   "source": [
    "# # 빈칸만 있는 샘플\n",
    "# count = 0\n",
    "# for i, one in enumerate(df1['배출가스인증번호']):\n",
    "#     if ' ' == str(one):\n",
    "#         print(i)\n",
    "#         count += 1\n",
    "# count"
   ]
  },
  {
   "cell_type": "code",
   "execution_count": 25,
   "metadata": {},
   "outputs": [],
   "source": [
    "# df1.loc[2453, '배출가스인증번호']"
   ]
  },
  {
   "cell_type": "code",
   "execution_count": 26,
   "metadata": {},
   "outputs": [],
   "source": [
    "# df1['배출가스인증번호'] = df1['배출가스인증번호'].replace(' ', np.nan)"
   ]
  },
  {
   "cell_type": "code",
   "execution_count": 27,
   "metadata": {},
   "outputs": [],
   "source": [
    "# df1.loc[2453, '배출가스인증번호']"
   ]
  },
  {
   "cell_type": "code",
   "execution_count": 28,
   "metadata": {},
   "outputs": [],
   "source": [
    "# # 빈칸이 포함된 샘플\n",
    "# count = 0\n",
    "# for i, one in enumerate(df1['배출가스인증번호']):\n",
    "#     if ' ' in str(one):\n",
    "#         print(i)\n",
    "#         count += 1\n",
    "# count"
   ]
  },
  {
   "cell_type": "code",
   "execution_count": 29,
   "metadata": {},
   "outputs": [],
   "source": [
    "# df1.loc[521777, '배출가스인증번호']"
   ]
  },
  {
   "cell_type": "code",
   "execution_count": 30,
   "metadata": {},
   "outputs": [],
   "source": [
    "# df1['배출가스인증번호'] = df1['배출가스인증번호'].str.strip()"
   ]
  },
  {
   "cell_type": "code",
   "execution_count": 31,
   "metadata": {},
   "outputs": [],
   "source": [
    "# # 빈칸이 포함된 샘플\n",
    "# count = 0\n",
    "# for i, one in enumerate(df1['배출가스인증번호']):\n",
    "#     if ' ' in str(one):\n",
    "#         print(i)\n",
    "#         count += 1\n",
    "# count"
   ]
  },
  {
   "cell_type": "code",
   "execution_count": 32,
   "metadata": {},
   "outputs": [],
   "source": [
    "# df1.loc[521777, '배출가스인증번호']"
   ]
  },
  {
   "cell_type": "code",
   "execution_count": 33,
   "metadata": {},
   "outputs": [],
   "source": [
    "# df1['배출가스인증번호'].isnull().sum()"
   ]
  },
  {
   "attachments": {},
   "cell_type": "markdown",
   "metadata": {},
   "source": [
    "# 분석"
   ]
  },
  {
   "cell_type": "code",
   "execution_count": 34,
   "metadata": {},
   "outputs": [
    {
     "data": {
      "text/plain": [
       "배출가스인증번호     123698\n",
       "제원관리번호            0\n",
       "자동차형식           528\n",
       "연료               71\n",
       "차종_등록정보           2\n",
       "차종유형(소분류)         0\n",
       "dtype: int64"
      ]
     },
     "execution_count": 34,
     "metadata": {},
     "output_type": "execute_result"
    }
   ],
   "source": [
    "df1[['배출가스인증번호', '제원관리번호', '자동차형식', '연료', '차종_등록정보', '차종유형(소분류)']].isnull().sum()"
   ]
  },
  {
   "cell_type": "code",
   "execution_count": 35,
   "metadata": {},
   "outputs": [
    {
     "data": {
      "text/plain": [
       "303"
      ]
     },
     "execution_count": 35,
     "metadata": {},
     "output_type": "execute_result"
    }
   ],
   "source": [
    "len(df1['배출가스인증번호'].unique())"
   ]
  },
  {
   "cell_type": "code",
   "execution_count": 36,
   "metadata": {},
   "outputs": [
    {
     "data": {
      "text/plain": [
       "17387"
      ]
     },
     "execution_count": 36,
     "metadata": {},
     "output_type": "execute_result"
    }
   ],
   "source": [
    "len(df1['제원관리번호'].unique())"
   ]
  },
  {
   "cell_type": "code",
   "execution_count": 37,
   "metadata": {},
   "outputs": [
    {
     "data": {
      "text/plain": [
       "0"
      ]
     },
     "execution_count": 37,
     "metadata": {},
     "output_type": "execute_result"
    }
   ],
   "source": [
    "df1['제원관리번호'].isnull().sum()"
   ]
  },
  {
   "attachments": {},
   "cell_type": "markdown",
   "metadata": {},
   "source": [
    "## 통계(nan 값 제외)"
   ]
  },
  {
   "cell_type": "code",
   "execution_count": 38,
   "metadata": {},
   "outputs": [
    {
     "data": {
      "text/plain": [
       "Index(['차량관리번호', '차량등록번호', '본거지법정동코드', '소유자구분', '차종_등록정보', '용도', '미정1_x',\n",
       "       '현재회원번호', '미정2_x', '미정3_x', '차대번호', '최초등록일자', '차량연식', '차량제작일자',\n",
       "       '배출가스검사유효일자', '제원관리번호', '배출가스인증번호', '배출가스등급', '저공해조치YN(미사용)', '저공해조치종류',\n",
       "       '저공해조치구조변경YN', '미정4', '차량등록번호숫자정보', '차량말소YN', '미정5', '최초회원번호', '취득일자',\n",
       "       '취득금액', '미정6', '생성일시_등록정보', '수정일시_등록정보', '미정7', '차명', '차종_제원정보', '차종분류',\n",
       "       '차종유형(소분류)', '자동차형식', '제작사명', '연료', '엔진형식', '공차중량', '총중량', '적재중량',\n",
       "       '엔진출력', '배기량', '승차인원', '차량길이', '차량너비', '차량높이', '원산지명', '미정1_y', '삭제YN',\n",
       "       '승인일자', '구동형식', '변속기종류', '미정2_y', '생성일시_제원정보', '수정일시_제원정보', '미정3_y'],\n",
       "      dtype='object')"
      ]
     },
     "execution_count": 38,
     "metadata": {},
     "output_type": "execute_result"
    }
   ],
   "source": [
    "df1.columns"
   ]
  },
  {
   "cell_type": "code",
   "execution_count": 39,
   "metadata": {},
   "outputs": [
    {
     "data": {
      "text/plain": [
       "(1511139, 59)"
      ]
     },
     "execution_count": 39,
     "metadata": {},
     "output_type": "execute_result"
    }
   ],
   "source": [
    "df1.shape"
   ]
  },
  {
   "attachments": {},
   "cell_type": "markdown",
   "metadata": {},
   "source": [
    "## 필요 컬럼만 추출"
   ]
  },
  {
   "cell_type": "code",
   "execution_count": 40,
   "metadata": {},
   "outputs": [
    {
     "data": {
      "text/html": [
       "<div>\n",
       "<style scoped>\n",
       "    .dataframe tbody tr th:only-of-type {\n",
       "        vertical-align: middle;\n",
       "    }\n",
       "\n",
       "    .dataframe tbody tr th {\n",
       "        vertical-align: top;\n",
       "    }\n",
       "\n",
       "    .dataframe thead th {\n",
       "        text-align: right;\n",
       "    }\n",
       "</style>\n",
       "<table border=\"1\" class=\"dataframe\">\n",
       "  <thead>\n",
       "    <tr style=\"text-align: right;\">\n",
       "      <th></th>\n",
       "      <th>차량등록번호</th>\n",
       "      <th>본거지법정동코드</th>\n",
       "      <th>용도</th>\n",
       "      <th>배출가스검사유효일자</th>\n",
       "      <th>배출가스인증번호</th>\n",
       "      <th>최초등록일자</th>\n",
       "      <th>차종_등록정보</th>\n",
       "      <th>차량제작일자</th>\n",
       "      <th>차량연식</th>\n",
       "      <th>차량말소YN</th>\n",
       "      <th>...</th>\n",
       "      <th>제원관리번호</th>\n",
       "      <th>배출가스등급</th>\n",
       "      <th>연료</th>\n",
       "      <th>저공해조치종류</th>\n",
       "      <th>저공해조치구조변경YN</th>\n",
       "      <th>저공해조치YN(미사용)</th>\n",
       "      <th>차명</th>\n",
       "      <th>공차중량</th>\n",
       "      <th>총중량</th>\n",
       "      <th>적재중량</th>\n",
       "    </tr>\n",
       "  </thead>\n",
       "  <tbody>\n",
       "    <tr>\n",
       "      <th>0</th>\n",
       "      <td>83노5980</td>\n",
       "      <td>2653010500</td>\n",
       "      <td>자가용</td>\n",
       "      <td>20231124.0</td>\n",
       "      <td>NaN</td>\n",
       "      <td>20221125</td>\n",
       "      <td>화물</td>\n",
       "      <td>20071224.0</td>\n",
       "      <td>2008</td>\n",
       "      <td>N</td>\n",
       "      <td>...</td>\n",
       "      <td>A0810005207533307</td>\n",
       "      <td>T4</td>\n",
       "      <td>경유</td>\n",
       "      <td>NaN</td>\n",
       "      <td>N</td>\n",
       "      <td>N</td>\n",
       "      <td>메가트럭</td>\n",
       "      <td>NaN</td>\n",
       "      <td>10005.0</td>\n",
       "      <td>5000.0</td>\n",
       "    </tr>\n",
       "    <tr>\n",
       "      <th>1</th>\n",
       "      <td>96부7399</td>\n",
       "      <td>4824034000</td>\n",
       "      <td>자가용</td>\n",
       "      <td>20230613.0</td>\n",
       "      <td>NaN</td>\n",
       "      <td>20220614</td>\n",
       "      <td>화물</td>\n",
       "      <td>20080924.0</td>\n",
       "      <td>2008</td>\n",
       "      <td>N</td>\n",
       "      <td>...</td>\n",
       "      <td>A0810005209353308</td>\n",
       "      <td>T4</td>\n",
       "      <td>경유</td>\n",
       "      <td>NaN</td>\n",
       "      <td>N</td>\n",
       "      <td>N</td>\n",
       "      <td>메가트럭군물자수송</td>\n",
       "      <td>NaN</td>\n",
       "      <td>10825.0</td>\n",
       "      <td>5000.0</td>\n",
       "    </tr>\n",
       "    <tr>\n",
       "      <th>2</th>\n",
       "      <td>92도0997</td>\n",
       "      <td>4482533000</td>\n",
       "      <td>자가용</td>\n",
       "      <td>20230418.0</td>\n",
       "      <td>NaN</td>\n",
       "      <td>20220419</td>\n",
       "      <td>화물</td>\n",
       "      <td>20080605.0</td>\n",
       "      <td>2008</td>\n",
       "      <td>N</td>\n",
       "      <td>...</td>\n",
       "      <td>B1R10005100003308</td>\n",
       "      <td>T4</td>\n",
       "      <td>경유</td>\n",
       "      <td>NaN</td>\n",
       "      <td>N</td>\n",
       "      <td>N</td>\n",
       "      <td>신정4㎥급진공노면총소차</td>\n",
       "      <td>NaN</td>\n",
       "      <td>11075.0</td>\n",
       "      <td>2000.0</td>\n",
       "    </tr>\n",
       "    <tr>\n",
       "      <th>3</th>\n",
       "      <td>93루6527</td>\n",
       "      <td>4518010400</td>\n",
       "      <td>자가용</td>\n",
       "      <td>20230406.0</td>\n",
       "      <td>7MY-HD-24-28</td>\n",
       "      <td>20220407</td>\n",
       "      <td>화물</td>\n",
       "      <td>20090316.0</td>\n",
       "      <td>2009</td>\n",
       "      <td>N</td>\n",
       "      <td>...</td>\n",
       "      <td>A0810005008143209</td>\n",
       "      <td>4</td>\n",
       "      <td>경유</td>\n",
       "      <td>NaN</td>\n",
       "      <td>N</td>\n",
       "      <td>N</td>\n",
       "      <td>마이티군물자수송트럭</td>\n",
       "      <td>NaN</td>\n",
       "      <td>6160.0</td>\n",
       "      <td>2500.0</td>\n",
       "    </tr>\n",
       "    <tr>\n",
       "      <th>4</th>\n",
       "      <td>153구6446</td>\n",
       "      <td>2826011300</td>\n",
       "      <td>자가용</td>\n",
       "      <td>20250908.0</td>\n",
       "      <td>NaN</td>\n",
       "      <td>20210909</td>\n",
       "      <td>승용</td>\n",
       "      <td>20080221.0</td>\n",
       "      <td>2008</td>\n",
       "      <td>N</td>\n",
       "      <td>...</td>\n",
       "      <td>A0710001100361207</td>\n",
       "      <td>T4</td>\n",
       "      <td>경유</td>\n",
       "      <td>NaN</td>\n",
       "      <td>N</td>\n",
       "      <td>N</td>\n",
       "      <td>윈스톰2.0S디젤</td>\n",
       "      <td>NaN</td>\n",
       "      <td>2215.0</td>\n",
       "      <td>0.0</td>\n",
       "    </tr>\n",
       "  </tbody>\n",
       "</table>\n",
       "<p>5 rows × 21 columns</p>\n",
       "</div>"
      ],
      "text/plain": [
       "     차량등록번호    본거지법정동코드   용도  배출가스검사유효일자      배출가스인증번호    최초등록일자 차종_등록정보  \\\n",
       "0   83노5980  2653010500  자가용  20231124.0           NaN  20221125      화물   \n",
       "1   96부7399  4824034000  자가용  20230613.0           NaN  20220614      화물   \n",
       "2   92도0997  4482533000  자가용  20230418.0           NaN  20220419      화물   \n",
       "3   93루6527  4518010400  자가용  20230406.0  7MY-HD-24-28  20220407      화물   \n",
       "4  153구6446  2826011300  자가용  20250908.0           NaN  20210909      승용   \n",
       "\n",
       "       차량제작일자  차량연식 차량말소YN  ...             제원관리번호 배출가스등급  연료 저공해조치종류  \\\n",
       "0  20071224.0  2008      N  ...  A0810005207533307     T4  경유     NaN   \n",
       "1  20080924.0  2008      N  ...  A0810005209353308     T4  경유     NaN   \n",
       "2  20080605.0  2008      N  ...  B1R10005100003308     T4  경유     NaN   \n",
       "3  20090316.0  2009      N  ...  A0810005008143209      4  경유     NaN   \n",
       "4  20080221.0  2008      N  ...  A0710001100361207     T4  경유     NaN   \n",
       "\n",
       "   저공해조치구조변경YN 저공해조치YN(미사용)            차명 공차중량      총중량    적재중량  \n",
       "0            N            N          메가트럭  NaN  10005.0  5000.0  \n",
       "1            N            N     메가트럭군물자수송  NaN  10825.0  5000.0  \n",
       "2            N            N  신정4㎥급진공노면총소차  NaN  11075.0  2000.0  \n",
       "3            N            N    마이티군물자수송트럭  NaN   6160.0  2500.0  \n",
       "4            N            N     윈스톰2.0S디젤  NaN   2215.0     0.0  \n",
       "\n",
       "[5 rows x 21 columns]"
      ]
     },
     "execution_count": 40,
     "metadata": {},
     "output_type": "execute_result"
    }
   ],
   "source": [
    "df2 = df1[['차량등록번호', '본거지법정동코드', '용도', '배출가스검사유효일자', '배출가스인증번호', '최초등록일자', '차종_등록정보', '차량제작일자', '차량연식', '차량말소YN', '차대번호', '제원관리번호', \n",
    "       '배출가스등급', '연료', '저공해조치종류', '저공해조치구조변경YN', '저공해조치YN(미사용)', \n",
    "       '차명', '공차중량', '총중량', '적재중량', ]].copy()\n",
    "df2.head()"
   ]
  },
  {
   "attachments": {},
   "cell_type": "markdown",
   "metadata": {},
   "source": [
    "## dpf와 매칭"
   ]
  },
  {
   "cell_type": "code",
   "execution_count": 41,
   "metadata": {},
   "outputs": [
    {
     "data": {
      "text/html": [
       "<div>\n",
       "<style scoped>\n",
       "    .dataframe tbody tr th:only-of-type {\n",
       "        vertical-align: middle;\n",
       "    }\n",
       "\n",
       "    .dataframe tbody tr th {\n",
       "        vertical-align: top;\n",
       "    }\n",
       "\n",
       "    .dataframe thead th {\n",
       "        text-align: right;\n",
       "    }\n",
       "</style>\n",
       "<table border=\"1\" class=\"dataframe\">\n",
       "  <thead>\n",
       "    <tr style=\"text-align: right;\">\n",
       "      <th></th>\n",
       "      <th>차량등록번호</th>\n",
       "      <th>본거지법정동코드</th>\n",
       "      <th>용도</th>\n",
       "      <th>배출가스검사유효일자</th>\n",
       "      <th>배출가스인증번호</th>\n",
       "      <th>최초등록일자</th>\n",
       "      <th>차종_등록정보</th>\n",
       "      <th>차량제작일자</th>\n",
       "      <th>차량연식</th>\n",
       "      <th>차량말소YN</th>\n",
       "      <th>...</th>\n",
       "      <th>배출가스등급</th>\n",
       "      <th>연료</th>\n",
       "      <th>저공해조치종류</th>\n",
       "      <th>저공해조치구조변경YN</th>\n",
       "      <th>저공해조치YN(미사용)</th>\n",
       "      <th>차명</th>\n",
       "      <th>공차중량</th>\n",
       "      <th>총중량</th>\n",
       "      <th>적재중량</th>\n",
       "      <th>DPF유무</th>\n",
       "    </tr>\n",
       "  </thead>\n",
       "  <tbody>\n",
       "    <tr>\n",
       "      <th>0</th>\n",
       "      <td>83노5980</td>\n",
       "      <td>2653010500</td>\n",
       "      <td>자가용</td>\n",
       "      <td>20231124.0</td>\n",
       "      <td>NaN</td>\n",
       "      <td>20221125</td>\n",
       "      <td>화물</td>\n",
       "      <td>20071224.0</td>\n",
       "      <td>2008</td>\n",
       "      <td>N</td>\n",
       "      <td>...</td>\n",
       "      <td>T4</td>\n",
       "      <td>경유</td>\n",
       "      <td>NaN</td>\n",
       "      <td>N</td>\n",
       "      <td>N</td>\n",
       "      <td>메가트럭</td>\n",
       "      <td>NaN</td>\n",
       "      <td>10005.0</td>\n",
       "      <td>5000.0</td>\n",
       "      <td>NaN</td>\n",
       "    </tr>\n",
       "    <tr>\n",
       "      <th>1</th>\n",
       "      <td>96부7399</td>\n",
       "      <td>4824034000</td>\n",
       "      <td>자가용</td>\n",
       "      <td>20230613.0</td>\n",
       "      <td>NaN</td>\n",
       "      <td>20220614</td>\n",
       "      <td>화물</td>\n",
       "      <td>20080924.0</td>\n",
       "      <td>2008</td>\n",
       "      <td>N</td>\n",
       "      <td>...</td>\n",
       "      <td>T4</td>\n",
       "      <td>경유</td>\n",
       "      <td>NaN</td>\n",
       "      <td>N</td>\n",
       "      <td>N</td>\n",
       "      <td>메가트럭군물자수송</td>\n",
       "      <td>NaN</td>\n",
       "      <td>10825.0</td>\n",
       "      <td>5000.0</td>\n",
       "      <td>NaN</td>\n",
       "    </tr>\n",
       "    <tr>\n",
       "      <th>2</th>\n",
       "      <td>92도0997</td>\n",
       "      <td>4482533000</td>\n",
       "      <td>자가용</td>\n",
       "      <td>20230418.0</td>\n",
       "      <td>NaN</td>\n",
       "      <td>20220419</td>\n",
       "      <td>화물</td>\n",
       "      <td>20080605.0</td>\n",
       "      <td>2008</td>\n",
       "      <td>N</td>\n",
       "      <td>...</td>\n",
       "      <td>T4</td>\n",
       "      <td>경유</td>\n",
       "      <td>NaN</td>\n",
       "      <td>N</td>\n",
       "      <td>N</td>\n",
       "      <td>신정4㎥급진공노면총소차</td>\n",
       "      <td>NaN</td>\n",
       "      <td>11075.0</td>\n",
       "      <td>2000.0</td>\n",
       "      <td>NaN</td>\n",
       "    </tr>\n",
       "    <tr>\n",
       "      <th>3</th>\n",
       "      <td>93루6527</td>\n",
       "      <td>4518010400</td>\n",
       "      <td>자가용</td>\n",
       "      <td>20230406.0</td>\n",
       "      <td>7MY-HD-24-28</td>\n",
       "      <td>20220407</td>\n",
       "      <td>화물</td>\n",
       "      <td>20090316.0</td>\n",
       "      <td>2009</td>\n",
       "      <td>N</td>\n",
       "      <td>...</td>\n",
       "      <td>4</td>\n",
       "      <td>경유</td>\n",
       "      <td>NaN</td>\n",
       "      <td>N</td>\n",
       "      <td>N</td>\n",
       "      <td>마이티군물자수송트럭</td>\n",
       "      <td>NaN</td>\n",
       "      <td>6160.0</td>\n",
       "      <td>2500.0</td>\n",
       "      <td>NaN</td>\n",
       "    </tr>\n",
       "    <tr>\n",
       "      <th>4</th>\n",
       "      <td>153구6446</td>\n",
       "      <td>2826011300</td>\n",
       "      <td>자가용</td>\n",
       "      <td>20250908.0</td>\n",
       "      <td>NaN</td>\n",
       "      <td>20210909</td>\n",
       "      <td>승용</td>\n",
       "      <td>20080221.0</td>\n",
       "      <td>2008</td>\n",
       "      <td>N</td>\n",
       "      <td>...</td>\n",
       "      <td>T4</td>\n",
       "      <td>경유</td>\n",
       "      <td>NaN</td>\n",
       "      <td>N</td>\n",
       "      <td>N</td>\n",
       "      <td>윈스톰2.0S디젤</td>\n",
       "      <td>NaN</td>\n",
       "      <td>2215.0</td>\n",
       "      <td>0.0</td>\n",
       "      <td>NaN</td>\n",
       "    </tr>\n",
       "  </tbody>\n",
       "</table>\n",
       "<p>5 rows × 22 columns</p>\n",
       "</div>"
      ],
      "text/plain": [
       "     차량등록번호    본거지법정동코드   용도  배출가스검사유효일자      배출가스인증번호    최초등록일자 차종_등록정보  \\\n",
       "0   83노5980  2653010500  자가용  20231124.0           NaN  20221125      화물   \n",
       "1   96부7399  4824034000  자가용  20230613.0           NaN  20220614      화물   \n",
       "2   92도0997  4482533000  자가용  20230418.0           NaN  20220419      화물   \n",
       "3   93루6527  4518010400  자가용  20230406.0  7MY-HD-24-28  20220407      화물   \n",
       "4  153구6446  2826011300  자가용  20250908.0           NaN  20210909      승용   \n",
       "\n",
       "       차량제작일자  차량연식 차량말소YN  ... 배출가스등급  연료 저공해조치종류 저공해조치구조변경YN  저공해조치YN(미사용)  \\\n",
       "0  20071224.0  2008      N  ...     T4  경유     NaN           N             N   \n",
       "1  20080924.0  2008      N  ...     T4  경유     NaN           N             N   \n",
       "2  20080605.0  2008      N  ...     T4  경유     NaN           N             N   \n",
       "3  20090316.0  2009      N  ...      4  경유     NaN           N             N   \n",
       "4  20080221.0  2008      N  ...     T4  경유     NaN           N             N   \n",
       "\n",
       "             차명 공차중량      총중량    적재중량  DPF유무  \n",
       "0          메가트럭  NaN  10005.0  5000.0    NaN  \n",
       "1     메가트럭군물자수송  NaN  10825.0  5000.0    NaN  \n",
       "2  신정4㎥급진공노면총소차  NaN  11075.0  2000.0    NaN  \n",
       "3    마이티군물자수송트럭  NaN   6160.0  2500.0    NaN  \n",
       "4     윈스톰2.0S디젤  NaN   2215.0     0.0    NaN  \n",
       "\n",
       "[5 rows x 22 columns]"
      ]
     },
     "execution_count": 41,
     "metadata": {},
     "output_type": "execute_result"
    }
   ],
   "source": [
    "df3 = df2.merge(dpf, on='배출가스인증번호', how='left')\n",
    "df3.head()"
   ]
  },
  {
   "cell_type": "code",
   "execution_count": 42,
   "metadata": {},
   "outputs": [
    {
     "data": {
      "text/plain": [
       "무    686142\n",
       "유    306054\n",
       "Name: DPF유무, dtype: int64"
      ]
     },
     "execution_count": 42,
     "metadata": {},
     "output_type": "execute_result"
    }
   ],
   "source": [
    "df3['DPF유무'].value_counts()"
   ]
  },
  {
   "cell_type": "code",
   "execution_count": 43,
   "metadata": {},
   "outputs": [],
   "source": [
    "df4 = df3.copy()"
   ]
  },
  {
   "cell_type": "code",
   "execution_count": 44,
   "metadata": {},
   "outputs": [
    {
     "data": {
      "text/plain": [
       "무      686142\n",
       "nan    518943\n",
       "유      306054\n",
       "Name: DPF유무, dtype: int64"
      ]
     },
     "execution_count": 44,
     "metadata": {},
     "output_type": "execute_result"
    }
   ],
   "source": [
    "df4['DPF유무'] = df4['DPF유무'].astype('str')\n",
    "df4['DPF유무'].value_counts()"
   ]
  },
  {
   "cell_type": "code",
   "execution_count": 45,
   "metadata": {},
   "outputs": [
    {
     "data": {
      "text/plain": [
       "무    1205085\n",
       "유     306054\n",
       "Name: DPF유무, dtype: int64"
      ]
     },
     "execution_count": 45,
     "metadata": {},
     "output_type": "execute_result"
    }
   ],
   "source": [
    "df4['DPF유무'] = df4['DPF유무'].replace('nan', '무')\n",
    "df4['DPF유무'].value_counts()"
   ]
  },
  {
   "cell_type": "code",
   "execution_count": 46,
   "metadata": {},
   "outputs": [
    {
     "data": {
      "text/html": [
       "<div>\n",
       "<style scoped>\n",
       "    .dataframe tbody tr th:only-of-type {\n",
       "        vertical-align: middle;\n",
       "    }\n",
       "\n",
       "    .dataframe tbody tr th {\n",
       "        vertical-align: top;\n",
       "    }\n",
       "\n",
       "    .dataframe thead th {\n",
       "        text-align: right;\n",
       "    }\n",
       "</style>\n",
       "<table border=\"1\" class=\"dataframe\">\n",
       "  <thead>\n",
       "    <tr style=\"text-align: right;\">\n",
       "      <th></th>\n",
       "      <th>차량등록번호</th>\n",
       "      <th>본거지법정동코드</th>\n",
       "      <th>용도</th>\n",
       "      <th>배출가스검사유효일자</th>\n",
       "      <th>배출가스인증번호</th>\n",
       "      <th>최초등록일자</th>\n",
       "      <th>차종_등록정보</th>\n",
       "      <th>차량제작일자</th>\n",
       "      <th>차량연식</th>\n",
       "      <th>차량말소YN</th>\n",
       "      <th>...</th>\n",
       "      <th>배출가스등급</th>\n",
       "      <th>연료</th>\n",
       "      <th>저공해조치종류</th>\n",
       "      <th>저공해조치구조변경YN</th>\n",
       "      <th>저공해조치YN(미사용)</th>\n",
       "      <th>차명</th>\n",
       "      <th>공차중량</th>\n",
       "      <th>총중량</th>\n",
       "      <th>적재중량</th>\n",
       "      <th>DPF유무</th>\n",
       "    </tr>\n",
       "  </thead>\n",
       "  <tbody>\n",
       "    <tr>\n",
       "      <th>0</th>\n",
       "      <td>서울4오6136</td>\n",
       "      <td>1165010100</td>\n",
       "      <td>자가용</td>\n",
       "      <td>19960831.0</td>\n",
       "      <td>3MY-FK-08</td>\n",
       "      <td>19900625</td>\n",
       "      <td>승용</td>\n",
       "      <td>NaN</td>\n",
       "      <td>1990</td>\n",
       "      <td>N</td>\n",
       "      <td>...</td>\n",
       "      <td>4</td>\n",
       "      <td>휘발유</td>\n",
       "      <td>NaN</td>\n",
       "      <td>N</td>\n",
       "      <td>N</td>\n",
       "      <td>머큐리세이블</td>\n",
       "      <td>NaN</td>\n",
       "      <td>1835.0</td>\n",
       "      <td>0.0</td>\n",
       "      <td>무</td>\n",
       "    </tr>\n",
       "    <tr>\n",
       "      <th>1</th>\n",
       "      <td>충남35라7151</td>\n",
       "      <td>4421010900</td>\n",
       "      <td>자가용</td>\n",
       "      <td>20000721.0</td>\n",
       "      <td>3MY-FK-08</td>\n",
       "      <td>19900605</td>\n",
       "      <td>승용</td>\n",
       "      <td>NaN</td>\n",
       "      <td>1990</td>\n",
       "      <td>N</td>\n",
       "      <td>...</td>\n",
       "      <td>4</td>\n",
       "      <td>휘발유</td>\n",
       "      <td>NaN</td>\n",
       "      <td>N</td>\n",
       "      <td>N</td>\n",
       "      <td>머큐리세이블</td>\n",
       "      <td>NaN</td>\n",
       "      <td>1740.0</td>\n",
       "      <td>0.0</td>\n",
       "      <td>무</td>\n",
       "    </tr>\n",
       "    <tr>\n",
       "      <th>2</th>\n",
       "      <td>충남38가6881</td>\n",
       "      <td>4423010400</td>\n",
       "      <td>자가용</td>\n",
       "      <td>19971127.0</td>\n",
       "      <td>3MY-FK-08</td>\n",
       "      <td>19891006</td>\n",
       "      <td>승용</td>\n",
       "      <td>NaN</td>\n",
       "      <td>1989</td>\n",
       "      <td>N</td>\n",
       "      <td>...</td>\n",
       "      <td>4</td>\n",
       "      <td>휘발유</td>\n",
       "      <td>NaN</td>\n",
       "      <td>N</td>\n",
       "      <td>N</td>\n",
       "      <td>머큐리세이블</td>\n",
       "      <td>NaN</td>\n",
       "      <td>1740.0</td>\n",
       "      <td>0.0</td>\n",
       "      <td>무</td>\n",
       "    </tr>\n",
       "    <tr>\n",
       "      <th>3</th>\n",
       "      <td>서울30나1918</td>\n",
       "      <td>1111017400</td>\n",
       "      <td>자가용</td>\n",
       "      <td>19970910.0</td>\n",
       "      <td>3MY-FK-08</td>\n",
       "      <td>19890911</td>\n",
       "      <td>승용</td>\n",
       "      <td>NaN</td>\n",
       "      <td>1989</td>\n",
       "      <td>N</td>\n",
       "      <td>...</td>\n",
       "      <td>4</td>\n",
       "      <td>휘발유</td>\n",
       "      <td>NaN</td>\n",
       "      <td>N</td>\n",
       "      <td>N</td>\n",
       "      <td>머큐리세이블</td>\n",
       "      <td>NaN</td>\n",
       "      <td>1740.0</td>\n",
       "      <td>0.0</td>\n",
       "      <td>무</td>\n",
       "    </tr>\n",
       "    <tr>\n",
       "      <th>4</th>\n",
       "      <td>경기57가5322</td>\n",
       "      <td>4159026200</td>\n",
       "      <td>자가용</td>\n",
       "      <td>19990730.0</td>\n",
       "      <td>3MY-FK-08</td>\n",
       "      <td>19890731</td>\n",
       "      <td>승용</td>\n",
       "      <td>NaN</td>\n",
       "      <td>1989</td>\n",
       "      <td>N</td>\n",
       "      <td>...</td>\n",
       "      <td>4</td>\n",
       "      <td>휘발유</td>\n",
       "      <td>NaN</td>\n",
       "      <td>N</td>\n",
       "      <td>N</td>\n",
       "      <td>머큐리세이블</td>\n",
       "      <td>NaN</td>\n",
       "      <td>1740.0</td>\n",
       "      <td>0.0</td>\n",
       "      <td>무</td>\n",
       "    </tr>\n",
       "  </tbody>\n",
       "</table>\n",
       "<p>5 rows × 22 columns</p>\n",
       "</div>"
      ],
      "text/plain": [
       "      차량등록번호    본거지법정동코드   용도  배출가스검사유효일자   배출가스인증번호    최초등록일자 차종_등록정보  \\\n",
       "0   서울4오6136  1165010100  자가용  19960831.0  3MY-FK-08  19900625      승용   \n",
       "1  충남35라7151  4421010900  자가용  20000721.0  3MY-FK-08  19900605      승용   \n",
       "2  충남38가6881  4423010400  자가용  19971127.0  3MY-FK-08  19891006      승용   \n",
       "3  서울30나1918  1111017400  자가용  19970910.0  3MY-FK-08  19890911      승용   \n",
       "4  경기57가5322  4159026200  자가용  19990730.0  3MY-FK-08  19890731      승용   \n",
       "\n",
       "   차량제작일자  차량연식 차량말소YN  ... 배출가스등급   연료 저공해조치종류 저공해조치구조변경YN  저공해조치YN(미사용)  \\\n",
       "0     NaN  1990      N  ...      4  휘발유     NaN           N             N   \n",
       "1     NaN  1990      N  ...      4  휘발유     NaN           N             N   \n",
       "2     NaN  1989      N  ...      4  휘발유     NaN           N             N   \n",
       "3     NaN  1989      N  ...      4  휘발유     NaN           N             N   \n",
       "4     NaN  1989      N  ...      4  휘발유     NaN           N             N   \n",
       "\n",
       "       차명 공차중량     총중량  적재중량  DPF유무  \n",
       "0  머큐리세이블  NaN  1835.0   0.0      무  \n",
       "1  머큐리세이블  NaN  1740.0   0.0      무  \n",
       "2  머큐리세이블  NaN  1740.0   0.0      무  \n",
       "3  머큐리세이블  NaN  1740.0   0.0      무  \n",
       "4  머큐리세이블  NaN  1740.0   0.0      무  \n",
       "\n",
       "[5 rows x 22 columns]"
      ]
     },
     "execution_count": 46,
     "metadata": {},
     "output_type": "execute_result"
    }
   ],
   "source": [
    "df5 = df4.sort_values(['배출가스인증번호', '제원관리번호']).reset_index(drop=True)\n",
    "df5.head()"
   ]
  },
  {
   "cell_type": "code",
   "execution_count": 47,
   "metadata": {},
   "outputs": [
    {
     "data": {
      "text/plain": [
       "경유             1152630\n",
       "휘발유             332308\n",
       "LGP(액화석유가스)      26089\n",
       "기타연료                39\n",
       "CNG(압축천연가스)          1\n",
       "알코올                  1\n",
       "Name: 연료, dtype: int64"
      ]
     },
     "execution_count": 47,
     "metadata": {},
     "output_type": "execute_result"
    }
   ],
   "source": [
    "df5['연료'].value_counts()"
   ]
  },
  {
   "attachments": {},
   "cell_type": "markdown",
   "metadata": {},
   "source": [
    "## 저감장치 부착이력 매칭"
   ]
  },
  {
   "cell_type": "code",
   "execution_count": 48,
   "metadata": {},
   "outputs": [
    {
     "data": {
      "text/html": [
       "<div>\n",
       "<style scoped>\n",
       "    .dataframe tbody tr th:only-of-type {\n",
       "        vertical-align: middle;\n",
       "    }\n",
       "\n",
       "    .dataframe tbody tr th {\n",
       "        vertical-align: top;\n",
       "    }\n",
       "\n",
       "    .dataframe thead th {\n",
       "        text-align: right;\n",
       "    }\n",
       "</style>\n",
       "<table border=\"1\" class=\"dataframe\">\n",
       "  <thead>\n",
       "    <tr style=\"text-align: right;\">\n",
       "      <th></th>\n",
       "      <th>차량등록번호</th>\n",
       "      <th>본거지법정동코드</th>\n",
       "      <th>용도</th>\n",
       "      <th>배출가스검사유효일자</th>\n",
       "      <th>배출가스인증번호</th>\n",
       "      <th>최초등록일자</th>\n",
       "      <th>차종_등록정보</th>\n",
       "      <th>차량제작일자</th>\n",
       "      <th>차량연식</th>\n",
       "      <th>차량말소YN</th>\n",
       "      <th>...</th>\n",
       "      <th>연료</th>\n",
       "      <th>저공해조치종류</th>\n",
       "      <th>저공해조치구조변경YN</th>\n",
       "      <th>저공해조치YN(미사용)</th>\n",
       "      <th>차명</th>\n",
       "      <th>공차중량</th>\n",
       "      <th>총중량</th>\n",
       "      <th>적재중량</th>\n",
       "      <th>DPF유무</th>\n",
       "      <th>저감장치구분</th>\n",
       "    </tr>\n",
       "  </thead>\n",
       "  <tbody>\n",
       "    <tr>\n",
       "      <th>0</th>\n",
       "      <td>서울87아7110</td>\n",
       "      <td>1168010800</td>\n",
       "      <td>영업용</td>\n",
       "      <td>20191018.0</td>\n",
       "      <td>4MY-DC-33</td>\n",
       "      <td>20061017</td>\n",
       "      <td>화물</td>\n",
       "      <td>20060929.0</td>\n",
       "      <td>2007</td>\n",
       "      <td>N</td>\n",
       "      <td>...</td>\n",
       "      <td>경유</td>\n",
       "      <td>1.0</td>\n",
       "      <td>Y</td>\n",
       "      <td>N</td>\n",
       "      <td>대우11.5톤장축카고트럭(DPF)</td>\n",
       "      <td>NaN</td>\n",
       "      <td>22010.0</td>\n",
       "      <td>11500.0</td>\n",
       "      <td>무</td>\n",
       "      <td>1종+SCR</td>\n",
       "    </tr>\n",
       "    <tr>\n",
       "      <th>1</th>\n",
       "      <td>75주9974</td>\n",
       "      <td>4159025300</td>\n",
       "      <td>자가용</td>\n",
       "      <td>20171012.0</td>\n",
       "      <td>6MY-DB-24-24</td>\n",
       "      <td>20070413</td>\n",
       "      <td>승합</td>\n",
       "      <td>20070326.0</td>\n",
       "      <td>2007</td>\n",
       "      <td>N</td>\n",
       "      <td>...</td>\n",
       "      <td>경유</td>\n",
       "      <td>5.0</td>\n",
       "      <td>Y</td>\n",
       "      <td>Y</td>\n",
       "      <td>BX212</td>\n",
       "      <td>NaN</td>\n",
       "      <td>15095.0</td>\n",
       "      <td>0.0</td>\n",
       "      <td>무</td>\n",
       "      <td>1종+SCR</td>\n",
       "    </tr>\n",
       "    <tr>\n",
       "      <th>2</th>\n",
       "      <td>서울72바8684</td>\n",
       "      <td>1156010600</td>\n",
       "      <td>영업용</td>\n",
       "      <td>20170928.0</td>\n",
       "      <td>6MY-DB-24-24</td>\n",
       "      <td>20070329</td>\n",
       "      <td>승합</td>\n",
       "      <td>20070323.0</td>\n",
       "      <td>2007</td>\n",
       "      <td>N</td>\n",
       "      <td>...</td>\n",
       "      <td>경유</td>\n",
       "      <td>1.0</td>\n",
       "      <td>Y</td>\n",
       "      <td>Y</td>\n",
       "      <td>BX212</td>\n",
       "      <td>NaN</td>\n",
       "      <td>15095.0</td>\n",
       "      <td>0.0</td>\n",
       "      <td>무</td>\n",
       "      <td>1종</td>\n",
       "    </tr>\n",
       "    <tr>\n",
       "      <th>3</th>\n",
       "      <td>74수4388</td>\n",
       "      <td>4571025300</td>\n",
       "      <td>자가용</td>\n",
       "      <td>20171207.0</td>\n",
       "      <td>6MY-DB-24-24</td>\n",
       "      <td>20070227</td>\n",
       "      <td>승합</td>\n",
       "      <td>20070131.0</td>\n",
       "      <td>2007</td>\n",
       "      <td>N</td>\n",
       "      <td>...</td>\n",
       "      <td>경유</td>\n",
       "      <td>1.0</td>\n",
       "      <td>Y</td>\n",
       "      <td>Y</td>\n",
       "      <td>BX212</td>\n",
       "      <td>NaN</td>\n",
       "      <td>15095.0</td>\n",
       "      <td>0.0</td>\n",
       "      <td>무</td>\n",
       "      <td>1종</td>\n",
       "    </tr>\n",
       "    <tr>\n",
       "      <th>4</th>\n",
       "      <td>71구1475</td>\n",
       "      <td>1123010900</td>\n",
       "      <td>자가용</td>\n",
       "      <td>20200129.0</td>\n",
       "      <td>6MY-DB-24-24</td>\n",
       "      <td>20070612</td>\n",
       "      <td>승합</td>\n",
       "      <td>20070531.0</td>\n",
       "      <td>2007</td>\n",
       "      <td>N</td>\n",
       "      <td>...</td>\n",
       "      <td>경유</td>\n",
       "      <td>1.0</td>\n",
       "      <td>Y</td>\n",
       "      <td>Y</td>\n",
       "      <td>BX212</td>\n",
       "      <td>NaN</td>\n",
       "      <td>14910.0</td>\n",
       "      <td>0.0</td>\n",
       "      <td>무</td>\n",
       "      <td>1종</td>\n",
       "    </tr>\n",
       "  </tbody>\n",
       "</table>\n",
       "<p>5 rows × 23 columns</p>\n",
       "</div>"
      ],
      "text/plain": [
       "      차량등록번호    본거지법정동코드   용도  배출가스검사유효일자      배출가스인증번호    최초등록일자 차종_등록정보  \\\n",
       "0  서울87아7110  1168010800  영업용  20191018.0     4MY-DC-33  20061017      화물   \n",
       "1    75주9974  4159025300  자가용  20171012.0  6MY-DB-24-24  20070413      승합   \n",
       "2  서울72바8684  1156010600  영업용  20170928.0  6MY-DB-24-24  20070329      승합   \n",
       "3    74수4388  4571025300  자가용  20171207.0  6MY-DB-24-24  20070227      승합   \n",
       "4    71구1475  1123010900  자가용  20200129.0  6MY-DB-24-24  20070612      승합   \n",
       "\n",
       "       차량제작일자  차량연식 차량말소YN  ...  연료 저공해조치종류 저공해조치구조변경YN 저공해조치YN(미사용)  \\\n",
       "0  20060929.0  2007      N  ...  경유     1.0           Y            N   \n",
       "1  20070326.0  2007      N  ...  경유     5.0           Y            Y   \n",
       "2  20070323.0  2007      N  ...  경유     1.0           Y            Y   \n",
       "3  20070131.0  2007      N  ...  경유     1.0           Y            Y   \n",
       "4  20070531.0  2007      N  ...  경유     1.0           Y            Y   \n",
       "\n",
       "                   차명 공차중량      총중량     적재중량  DPF유무  저감장치구분  \n",
       "0  대우11.5톤장축카고트럭(DPF)  NaN  22010.0  11500.0      무  1종+SCR  \n",
       "1               BX212  NaN  15095.0      0.0      무  1종+SCR  \n",
       "2               BX212  NaN  15095.0      0.0      무      1종  \n",
       "3               BX212  NaN  15095.0      0.0      무      1종  \n",
       "4               BX212  NaN  14910.0      0.0      무      1종  \n",
       "\n",
       "[5 rows x 23 columns]"
      ]
     },
     "execution_count": 48,
     "metadata": {},
     "output_type": "execute_result"
    }
   ],
   "source": [
    "df6 = df5.merge(low[['차대번호', '저감장치구분']], on='차대번호')\n",
    "df6.head()"
   ]
  },
  {
   "attachments": {},
   "cell_type": "markdown",
   "metadata": {},
   "source": [
    "### 저감장치구분 중 '1종'만 추출"
   ]
  },
  {
   "cell_type": "code",
   "execution_count": 49,
   "metadata": {},
   "outputs": [
    {
     "data": {
      "text/plain": [
       "1종        32\n",
       "1종+SCR     2\n",
       "2종         2\n",
       "Name: 저감장치구분, dtype: int64"
      ]
     },
     "execution_count": 49,
     "metadata": {},
     "output_type": "execute_result"
    }
   ],
   "source": [
    "df6['저감장치구분'].value_counts()"
   ]
  },
  {
   "cell_type": "code",
   "execution_count": 50,
   "metadata": {},
   "outputs": [
    {
     "data": {
      "text/plain": [
       "(32, 23)"
      ]
     },
     "execution_count": 50,
     "metadata": {},
     "output_type": "execute_result"
    }
   ],
   "source": [
    "df7 = df6[df6['저감장치구분'] == '1종'].reset_index(drop=True)\n",
    "df7.shape"
   ]
  },
  {
   "cell_type": "code",
   "execution_count": 51,
   "metadata": {},
   "outputs": [
    {
     "data": {
      "text/html": [
       "<div>\n",
       "<style scoped>\n",
       "    .dataframe tbody tr th:only-of-type {\n",
       "        vertical-align: middle;\n",
       "    }\n",
       "\n",
       "    .dataframe tbody tr th {\n",
       "        vertical-align: top;\n",
       "    }\n",
       "\n",
       "    .dataframe thead th {\n",
       "        text-align: right;\n",
       "    }\n",
       "</style>\n",
       "<table border=\"1\" class=\"dataframe\">\n",
       "  <thead>\n",
       "    <tr style=\"text-align: right;\">\n",
       "      <th></th>\n",
       "      <th>차량등록번호</th>\n",
       "      <th>본거지법정동코드</th>\n",
       "      <th>용도</th>\n",
       "      <th>배출가스검사유효일자</th>\n",
       "      <th>배출가스인증번호</th>\n",
       "      <th>최초등록일자</th>\n",
       "      <th>차종_등록정보</th>\n",
       "      <th>차량제작일자</th>\n",
       "      <th>차량연식</th>\n",
       "      <th>차량말소YN</th>\n",
       "      <th>...</th>\n",
       "      <th>연료</th>\n",
       "      <th>저공해조치종류</th>\n",
       "      <th>저공해조치구조변경YN</th>\n",
       "      <th>저공해조치YN(미사용)</th>\n",
       "      <th>차명</th>\n",
       "      <th>공차중량</th>\n",
       "      <th>총중량</th>\n",
       "      <th>적재중량</th>\n",
       "      <th>DPF유무</th>\n",
       "      <th>저감장치구분</th>\n",
       "    </tr>\n",
       "  </thead>\n",
       "  <tbody>\n",
       "    <tr>\n",
       "      <th>0</th>\n",
       "      <td>서울72바8684</td>\n",
       "      <td>1156010600</td>\n",
       "      <td>영업용</td>\n",
       "      <td>20170928.0</td>\n",
       "      <td>6MY-DB-24-24</td>\n",
       "      <td>20070329</td>\n",
       "      <td>승합</td>\n",
       "      <td>20070323.0</td>\n",
       "      <td>2007</td>\n",
       "      <td>N</td>\n",
       "      <td>...</td>\n",
       "      <td>경유</td>\n",
       "      <td>1.0</td>\n",
       "      <td>Y</td>\n",
       "      <td>Y</td>\n",
       "      <td>BX212</td>\n",
       "      <td>NaN</td>\n",
       "      <td>15095.0</td>\n",
       "      <td>0.0</td>\n",
       "      <td>무</td>\n",
       "      <td>1종</td>\n",
       "    </tr>\n",
       "    <tr>\n",
       "      <th>1</th>\n",
       "      <td>74수4388</td>\n",
       "      <td>4571025300</td>\n",
       "      <td>자가용</td>\n",
       "      <td>20171207.0</td>\n",
       "      <td>6MY-DB-24-24</td>\n",
       "      <td>20070227</td>\n",
       "      <td>승합</td>\n",
       "      <td>20070131.0</td>\n",
       "      <td>2007</td>\n",
       "      <td>N</td>\n",
       "      <td>...</td>\n",
       "      <td>경유</td>\n",
       "      <td>1.0</td>\n",
       "      <td>Y</td>\n",
       "      <td>Y</td>\n",
       "      <td>BX212</td>\n",
       "      <td>NaN</td>\n",
       "      <td>15095.0</td>\n",
       "      <td>0.0</td>\n",
       "      <td>무</td>\n",
       "      <td>1종</td>\n",
       "    </tr>\n",
       "    <tr>\n",
       "      <th>2</th>\n",
       "      <td>71구1475</td>\n",
       "      <td>1123010900</td>\n",
       "      <td>자가용</td>\n",
       "      <td>20200129.0</td>\n",
       "      <td>6MY-DB-24-24</td>\n",
       "      <td>20070612</td>\n",
       "      <td>승합</td>\n",
       "      <td>20070531.0</td>\n",
       "      <td>2007</td>\n",
       "      <td>N</td>\n",
       "      <td>...</td>\n",
       "      <td>경유</td>\n",
       "      <td>1.0</td>\n",
       "      <td>Y</td>\n",
       "      <td>Y</td>\n",
       "      <td>BX212</td>\n",
       "      <td>NaN</td>\n",
       "      <td>14910.0</td>\n",
       "      <td>0.0</td>\n",
       "      <td>무</td>\n",
       "      <td>1종</td>\n",
       "    </tr>\n",
       "    <tr>\n",
       "      <th>3</th>\n",
       "      <td>68우7843</td>\n",
       "      <td>3117010100</td>\n",
       "      <td>자가용</td>\n",
       "      <td>20210828.0</td>\n",
       "      <td>6MY-HD-24-100</td>\n",
       "      <td>20070829</td>\n",
       "      <td>승용</td>\n",
       "      <td>20070719.0</td>\n",
       "      <td>2007</td>\n",
       "      <td>N</td>\n",
       "      <td>...</td>\n",
       "      <td>경유</td>\n",
       "      <td>1.0</td>\n",
       "      <td>Y</td>\n",
       "      <td>N</td>\n",
       "      <td>싼타페(SANTAFE)</td>\n",
       "      <td>NaN</td>\n",
       "      <td>2325.0</td>\n",
       "      <td>0.0</td>\n",
       "      <td>유</td>\n",
       "      <td>1종</td>\n",
       "    </tr>\n",
       "    <tr>\n",
       "      <th>4</th>\n",
       "      <td>57무6009</td>\n",
       "      <td>2826011300</td>\n",
       "      <td>자가용</td>\n",
       "      <td>20210701.0</td>\n",
       "      <td>6MY-HD-24-100</td>\n",
       "      <td>20070522</td>\n",
       "      <td>승용</td>\n",
       "      <td>20070317.0</td>\n",
       "      <td>2007</td>\n",
       "      <td>N</td>\n",
       "      <td>...</td>\n",
       "      <td>경유</td>\n",
       "      <td>1.0</td>\n",
       "      <td>Y</td>\n",
       "      <td>N</td>\n",
       "      <td>싼타페(SANTAFE)</td>\n",
       "      <td>NaN</td>\n",
       "      <td>2325.0</td>\n",
       "      <td>0.0</td>\n",
       "      <td>유</td>\n",
       "      <td>1종</td>\n",
       "    </tr>\n",
       "  </tbody>\n",
       "</table>\n",
       "<p>5 rows × 23 columns</p>\n",
       "</div>"
      ],
      "text/plain": [
       "      차량등록번호    본거지법정동코드   용도  배출가스검사유효일자       배출가스인증번호    최초등록일자 차종_등록정보  \\\n",
       "0  서울72바8684  1156010600  영업용  20170928.0   6MY-DB-24-24  20070329      승합   \n",
       "1    74수4388  4571025300  자가용  20171207.0   6MY-DB-24-24  20070227      승합   \n",
       "2    71구1475  1123010900  자가용  20200129.0   6MY-DB-24-24  20070612      승합   \n",
       "3    68우7843  3117010100  자가용  20210828.0  6MY-HD-24-100  20070829      승용   \n",
       "4    57무6009  2826011300  자가용  20210701.0  6MY-HD-24-100  20070522      승용   \n",
       "\n",
       "       차량제작일자  차량연식 차량말소YN  ...  연료 저공해조치종류 저공해조치구조변경YN 저공해조치YN(미사용)  \\\n",
       "0  20070323.0  2007      N  ...  경유     1.0           Y            Y   \n",
       "1  20070131.0  2007      N  ...  경유     1.0           Y            Y   \n",
       "2  20070531.0  2007      N  ...  경유     1.0           Y            Y   \n",
       "3  20070719.0  2007      N  ...  경유     1.0           Y            N   \n",
       "4  20070317.0  2007      N  ...  경유     1.0           Y            N   \n",
       "\n",
       "             차명 공차중량      총중량 적재중량  DPF유무  저감장치구분  \n",
       "0         BX212  NaN  15095.0  0.0      무      1종  \n",
       "1         BX212  NaN  15095.0  0.0      무      1종  \n",
       "2         BX212  NaN  14910.0  0.0      무      1종  \n",
       "3  싼타페(SANTAFE)  NaN   2325.0  0.0      유      1종  \n",
       "4  싼타페(SANTAFE)  NaN   2325.0  0.0      유      1종  \n",
       "\n",
       "[5 rows x 23 columns]"
      ]
     },
     "execution_count": 51,
     "metadata": {},
     "output_type": "execute_result"
    }
   ],
   "source": [
    "df7.head()"
   ]
  },
  {
   "attachments": {},
   "cell_type": "markdown",
   "metadata": {},
   "source": [
    "#### [출력] 저감장치구분 중 '1종'만"
   ]
  },
  {
   "cell_type": "code",
   "execution_count": 52,
   "metadata": {},
   "outputs": [],
   "source": [
    "df7.to_csv('analysis2/[BD1][G4][배인번호]저감1종샘플(nan값_포함)(DPF).csv', index=False, encoding='cp949')"
   ]
  },
  {
   "attachments": {},
   "cell_type": "markdown",
   "metadata": {},
   "source": [
    "## 연료로 구분"
   ]
  },
  {
   "cell_type": "code",
   "execution_count": 53,
   "metadata": {},
   "outputs": [
    {
     "data": {
      "text/plain": [
       "((1152630, 22), (358509, 22))"
      ]
     },
     "execution_count": 53,
     "metadata": {},
     "output_type": "execute_result"
    }
   ],
   "source": [
    "df5_1 = df5[df5['연료'] == '경유'].reset_index(drop=True)\n",
    "df5_2 = df5[df5['연료'] != '경유'].reset_index(drop=True)\n",
    "df5_1.shape, df5_2.shape"
   ]
  },
  {
   "cell_type": "code",
   "execution_count": 54,
   "metadata": {},
   "outputs": [
    {
     "data": {
      "text/plain": [
       "((600000, 22), (552630, 22))"
      ]
     },
     "execution_count": 54,
     "metadata": {},
     "output_type": "execute_result"
    }
   ],
   "source": [
    "df5_1_1 = df5_1.iloc[:600000]\n",
    "df5_1_2 = df5_1.iloc[600000:].reset_index(drop=True)\n",
    "df5_1_1.shape, df5_1_2.shape"
   ]
  },
  {
   "attachments": {},
   "cell_type": "markdown",
   "metadata": {},
   "source": [
    "## [출력] 샘플"
   ]
  },
  {
   "cell_type": "code",
   "execution_count": 55,
   "metadata": {},
   "outputs": [],
   "source": [
    "df5.to_csv('analysis2/[BD1][G4][배인번호]샘플(nan값_포함)(DPF).csv', index=False, encoding='cp949')"
   ]
  },
  {
   "cell_type": "code",
   "execution_count": 56,
   "metadata": {},
   "outputs": [],
   "source": [
    "df5_1_1.to_csv('analysis2/[BD1][G4][배인번호]경유샘플01(nan값_포함)(DPF).csv', index=False, encoding='cp949')\n",
    "df5_1_2.to_csv('analysis2/[BD1][G4][배인번호]경유샘플02(nan값_포함)(DPF).csv', index=False, encoding='cp949')\n",
    "df5_2.to_csv('analysis2/[BD1][G4][배인번호]경유외_샘플(nan값_포함)(DPF).csv', index=False, encoding='cp949')"
   ]
  },
  {
   "attachments": {},
   "cell_type": "markdown",
   "metadata": {},
   "source": [
    "# 코드 마지막"
   ]
  }
 ],
 "metadata": {
  "kernelspec": {
   "display_name": "base",
   "language": "python",
   "name": "python3"
  },
  "language_info": {
   "codemirror_mode": {
    "name": "ipython",
    "version": 3
   },
   "file_extension": ".py",
   "mimetype": "text/x-python",
   "name": "python",
   "nbconvert_exporter": "python",
   "pygments_lexer": "ipython3",
   "version": "3.9.13"
  },
  "orig_nbformat": 4,
  "vscode": {
   "interpreter": {
    "hash": "ad2bdc8ecc057115af97d19610ffacc2b4e99fae6737bb82f5d7fb13d2f2c186"
   }
  }
 },
 "nbformat": 4,
 "nbformat_minor": 2
}
