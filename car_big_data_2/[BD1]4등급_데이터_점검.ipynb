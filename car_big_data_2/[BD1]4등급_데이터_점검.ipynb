{
 "cells": [
  {
   "attachments": {},
   "cell_type": "markdown",
   "metadata": {},
   "source": [
    "# Library"
   ]
  },
  {
   "cell_type": "code",
   "execution_count": 3,
   "metadata": {},
   "outputs": [],
   "source": [
    "import pandas as pd\n",
    "import os\n",
    "import numpy as np\n",
    "from tqdm import tqdm"
   ]
  },
  {
   "attachments": {},
   "cell_type": "markdown",
   "metadata": {},
   "source": [
    "# [로드]"
   ]
  },
  {
   "cell_type": "code",
   "execution_count": 4,
   "metadata": {},
   "outputs": [],
   "source": [
    "fold = 'D:\\과업\\[한국환경공단]자동차_환경_빅데이터_구축_2차\\data\\[BD1]4등급_데이터_점검(23.02.03)(ing)'"
   ]
  },
  {
   "cell_type": "code",
   "execution_count": 3,
   "metadata": {},
   "outputs": [],
   "source": [
    "file_name = '검증요청_33573.xlsx'\n",
    "path = os.path.join(fold, file_name)"
   ]
  },
  {
   "cell_type": "code",
   "execution_count": 4,
   "metadata": {},
   "outputs": [
    {
     "name": "stdout",
     "output_type": "stream",
     "text": [
      "<class 'pandas.core.frame.DataFrame'>\n",
      "Int64Index: 33573 entries, 82 to 702221\n",
      "Data columns (total 28 columns):\n",
      " #   Column  Non-Null Count  Dtype  \n",
      "---  ------  --------------  -----  \n",
      " 0   차대번호    33573 non-null  object \n",
      " 1   차량번호    33573 non-null  object \n",
      " 2   제원관리번호  33573 non-null  object \n",
      " 3   차종      33573 non-null  object \n",
      " 4   용도      33573 non-null  object \n",
      " 5   최초등록일   33573 non-null  int64  \n",
      " 6   연식      33573 non-null  int64  \n",
      " 7   제작일자    33571 non-null  float64\n",
      " 8   검사유효일   33572 non-null  float64\n",
      " 9   인증번호    32978 non-null  object \n",
      " 10  등급      33573 non-null  int64  \n",
      " 11  차명      33573 non-null  object \n",
      " 12  차종분류    33573 non-null  object \n",
      " 13  차종유형    33573 non-null  object \n",
      " 14  자동차형식   33573 non-null  object \n",
      " 15  제작사명    33571 non-null  object \n",
      " 16  연료      33573 non-null  object \n",
      " 17  엔진형식    33573 non-null  object \n",
      " 18  총중량     33573 non-null  int64  \n",
      " 19  적재중량    33376 non-null  float64\n",
      " 20  엔진출력    33573 non-null  int64  \n",
      " 21  배기량     33573 non-null  int64  \n",
      " 22  법정동코드   33573 non-null  int64  \n",
      " 23  시도명     33573 non-null  object \n",
      " 24  시군구명    33573 non-null  object \n",
      " 25  소유자구분   33573 non-null  object \n",
      " 26  말소여부    33573 non-null  object \n",
      " 27  일치유무    33573 non-null  object \n",
      "dtypes: float64(3), int64(7), object(18)\n",
      "memory usage: 7.4+ MB\n"
     ]
    }
   ],
   "source": [
    "# about \n",
    "df = pd.read_excel(path, index_col=0, skiprows=[0])\n",
    "df.info()"
   ]
  },
  {
   "cell_type": "code",
   "execution_count": 5,
   "metadata": {},
   "outputs": [
    {
     "data": {
      "text/plain": [
       "Index(['차대번호', '차량번호', '제원관리번호', '차종', '용도', '최초등록일', '연식', '제작일자', '검사유효일',\n",
       "       '인증번호', '등급', '차명', '차종분류', '차종유형', '자동차형식', '제작사명', '연료', '엔진형식',\n",
       "       '총중량', '적재중량', '엔진출력', '배기량', '법정동코드', '시도명', '시군구명', '소유자구분', '말소여부',\n",
       "       '일치유무'],\n",
       "      dtype='object')"
      ]
     },
     "execution_count": 5,
     "metadata": {},
     "output_type": "execute_result"
    }
   ],
   "source": [
    "df.columns"
   ]
  },
  {
   "cell_type": "code",
   "execution_count": 6,
   "metadata": {},
   "outputs": [
    {
     "data": {
      "text/plain": [
       "33573"
      ]
     },
     "execution_count": 6,
     "metadata": {},
     "output_type": "execute_result"
    }
   ],
   "source": [
    "len(df['차대번호'].unique())"
   ]
  },
  {
   "cell_type": "code",
   "execution_count": 7,
   "metadata": {},
   "outputs": [
    {
     "name": "stdout",
     "output_type": "stream",
     "text": [
      "<class 'pandas.core.frame.DataFrame'>\n",
      "RangeIndex: 33573 entries, 0 to 33572\n",
      "Data columns (total 28 columns):\n",
      " #   Column  Non-Null Count  Dtype  \n",
      "---  ------  --------------  -----  \n",
      " 0   차대번호    33573 non-null  object \n",
      " 1   차량번호    33573 non-null  object \n",
      " 2   제원관리번호  33573 non-null  object \n",
      " 3   차종      33573 non-null  object \n",
      " 4   용도      33573 non-null  object \n",
      " 5   최초등록일   33573 non-null  int64  \n",
      " 6   연식      33573 non-null  int64  \n",
      " 7   제작일자    33571 non-null  float64\n",
      " 8   검사유효일   33572 non-null  float64\n",
      " 9   인증번호    32978 non-null  object \n",
      " 10  등급      33573 non-null  int64  \n",
      " 11  차명      33573 non-null  object \n",
      " 12  차종분류    33573 non-null  object \n",
      " 13  차종유형    33573 non-null  object \n",
      " 14  자동차형식   33573 non-null  object \n",
      " 15  제작사명    33571 non-null  object \n",
      " 16  연료      33573 non-null  object \n",
      " 17  엔진형식    33573 non-null  object \n",
      " 18  총중량     33573 non-null  int64  \n",
      " 19  적재중량    33376 non-null  float64\n",
      " 20  엔진출력    33573 non-null  int64  \n",
      " 21  배기량     33573 non-null  int64  \n",
      " 22  법정동코드   33573 non-null  int64  \n",
      " 23  시도명     33573 non-null  object \n",
      " 24  시군구명    33573 non-null  object \n",
      " 25  소유자구분   33573 non-null  object \n",
      " 26  말소여부    33573 non-null  object \n",
      " 27  일치유무    33573 non-null  object \n",
      "dtypes: float64(3), int64(7), object(18)\n",
      "memory usage: 7.2+ MB\n"
     ]
    }
   ],
   "source": [
    "df = df.reset_index(drop=True)\n",
    "df.info()"
   ]
  },
  {
   "attachments": {},
   "cell_type": "markdown",
   "metadata": {},
   "source": [
    "## [출력] 첫줄 제거, 인덱스 초기화"
   ]
  },
  {
   "cell_type": "code",
   "execution_count": 7,
   "metadata": {},
   "outputs": [],
   "source": [
    "df.to_csv(os.path.join(fold, '검증요청_33573(수정).csv'), index=False, encoding='cp949')"
   ]
  },
  {
   "attachments": {},
   "cell_type": "markdown",
   "metadata": {},
   "source": [
    "## [로드] 검증요청 파일"
   ]
  },
  {
   "cell_type": "code",
   "execution_count": 5,
   "metadata": {},
   "outputs": [],
   "source": [
    "df = pd.read_csv(os.path.join(fold, '검증요청_33573(수정).csv'), encoding='cp949')"
   ]
  },
  {
   "cell_type": "code",
   "execution_count": 6,
   "metadata": {},
   "outputs": [
    {
     "name": "stdout",
     "output_type": "stream",
     "text": [
      "<class 'pandas.core.frame.DataFrame'>\n",
      "RangeIndex: 33573 entries, 0 to 33572\n",
      "Data columns (total 28 columns):\n",
      " #   Column  Non-Null Count  Dtype  \n",
      "---  ------  --------------  -----  \n",
      " 0   차대번호    33573 non-null  object \n",
      " 1   차량번호    33573 non-null  object \n",
      " 2   제원관리번호  33573 non-null  object \n",
      " 3   차종      33573 non-null  object \n",
      " 4   용도      33573 non-null  object \n",
      " 5   최초등록일   33573 non-null  int64  \n",
      " 6   연식      33573 non-null  int64  \n",
      " 7   제작일자    33571 non-null  float64\n",
      " 8   검사유효일   33572 non-null  float64\n",
      " 9   인증번호    32978 non-null  object \n",
      " 10  등급      33573 non-null  int64  \n",
      " 11  차명      33573 non-null  object \n",
      " 12  차종분류    33573 non-null  object \n",
      " 13  차종유형    33573 non-null  object \n",
      " 14  자동차형식   33573 non-null  object \n",
      " 15  제작사명    33571 non-null  object \n",
      " 16  연료      33573 non-null  object \n",
      " 17  엔진형식    33573 non-null  object \n",
      " 18  총중량     33573 non-null  int64  \n",
      " 19  적재중량    33376 non-null  float64\n",
      " 20  엔진출력    33573 non-null  int64  \n",
      " 21  배기량     33573 non-null  int64  \n",
      " 22  법정동코드   33573 non-null  int64  \n",
      " 23  시도명     33573 non-null  object \n",
      " 24  시군구명    33573 non-null  object \n",
      " 25  소유자구분   33573 non-null  object \n",
      " 26  말소여부    33573 non-null  object \n",
      " 27  일치유무    33573 non-null  object \n",
      "dtypes: float64(3), int64(7), object(18)\n",
      "memory usage: 7.2+ MB\n"
     ]
    }
   ],
   "source": [
    "df.info()"
   ]
  },
  {
   "cell_type": "code",
   "execution_count": 7,
   "metadata": {},
   "outputs": [
    {
     "data": {
      "text/html": [
       "<div>\n",
       "<style scoped>\n",
       "    .dataframe tbody tr th:only-of-type {\n",
       "        vertical-align: middle;\n",
       "    }\n",
       "\n",
       "    .dataframe tbody tr th {\n",
       "        vertical-align: top;\n",
       "    }\n",
       "\n",
       "    .dataframe thead th {\n",
       "        text-align: right;\n",
       "    }\n",
       "</style>\n",
       "<table border=\"1\" class=\"dataframe\">\n",
       "  <thead>\n",
       "    <tr style=\"text-align: right;\">\n",
       "      <th></th>\n",
       "      <th>차대번호</th>\n",
       "      <th>차량번호</th>\n",
       "      <th>제원관리번호</th>\n",
       "      <th>차종</th>\n",
       "      <th>용도</th>\n",
       "      <th>최초등록일</th>\n",
       "      <th>연식</th>\n",
       "      <th>제작일자</th>\n",
       "      <th>검사유효일</th>\n",
       "      <th>인증번호</th>\n",
       "      <th>...</th>\n",
       "      <th>총중량</th>\n",
       "      <th>적재중량</th>\n",
       "      <th>엔진출력</th>\n",
       "      <th>배기량</th>\n",
       "      <th>법정동코드</th>\n",
       "      <th>시도명</th>\n",
       "      <th>시군구명</th>\n",
       "      <th>소유자구분</th>\n",
       "      <th>말소여부</th>\n",
       "      <th>일치유무</th>\n",
       "    </tr>\n",
       "  </thead>\n",
       "  <tbody>\n",
       "    <tr>\n",
       "      <th>0</th>\n",
       "      <td>KNAJE55538K488660</td>\n",
       "      <td>31어4928</td>\n",
       "      <td>A0110003400501207</td>\n",
       "      <td>승용</td>\n",
       "      <td>자가용</td>\n",
       "      <td>20080118</td>\n",
       "      <td>2008</td>\n",
       "      <td>20071009.0</td>\n",
       "      <td>20160305.0</td>\n",
       "      <td>6MY-KM-14-61</td>\n",
       "      <td>...</td>\n",
       "      <td>1960</td>\n",
       "      <td>0.0</td>\n",
       "      <td>151</td>\n",
       "      <td>1991</td>\n",
       "      <td>1154510200</td>\n",
       "      <td>서울특별시</td>\n",
       "      <td>금천구</td>\n",
       "      <td>주민</td>\n",
       "      <td>N</td>\n",
       "      <td>N</td>\n",
       "    </tr>\n",
       "    <tr>\n",
       "      <th>1</th>\n",
       "      <td>KMHSJ81VP8U264640</td>\n",
       "      <td>45수2247</td>\n",
       "      <td>A0810006800831207</td>\n",
       "      <td>승용</td>\n",
       "      <td>자가용</td>\n",
       "      <td>20070907</td>\n",
       "      <td>2008</td>\n",
       "      <td>20070821.0</td>\n",
       "      <td>20110906.0</td>\n",
       "      <td>6MY-HD-24-100</td>\n",
       "      <td>...</td>\n",
       "      <td>2345</td>\n",
       "      <td>0.0</td>\n",
       "      <td>151</td>\n",
       "      <td>1991</td>\n",
       "      <td>4825010200</td>\n",
       "      <td>경상남도</td>\n",
       "      <td>김해시</td>\n",
       "      <td>법인</td>\n",
       "      <td>N</td>\n",
       "      <td>N</td>\n",
       "    </tr>\n",
       "    <tr>\n",
       "      <th>2</th>\n",
       "      <td>KMHSJ81VP9U437824</td>\n",
       "      <td>57우7716</td>\n",
       "      <td>A0810006801411208</td>\n",
       "      <td>승용</td>\n",
       "      <td>자가용</td>\n",
       "      <td>20081007</td>\n",
       "      <td>2009</td>\n",
       "      <td>20080919.0</td>\n",
       "      <td>20201006.0</td>\n",
       "      <td>7MY-HD-14-57</td>\n",
       "      <td>...</td>\n",
       "      <td>2345</td>\n",
       "      <td>0.0</td>\n",
       "      <td>151</td>\n",
       "      <td>1991</td>\n",
       "      <td>4812112700</td>\n",
       "      <td>경상남도</td>\n",
       "      <td>창원시 의창구</td>\n",
       "      <td>주민</td>\n",
       "      <td>N</td>\n",
       "      <td>N</td>\n",
       "    </tr>\n",
       "    <tr>\n",
       "      <th>3</th>\n",
       "      <td>KMHJN81VP7U714285</td>\n",
       "      <td>24도2516</td>\n",
       "      <td>A0810006301201206</td>\n",
       "      <td>승용</td>\n",
       "      <td>자가용</td>\n",
       "      <td>20070713</td>\n",
       "      <td>2007</td>\n",
       "      <td>20070521.0</td>\n",
       "      <td>20190712.0</td>\n",
       "      <td>5MY-HD-24-59</td>\n",
       "      <td>...</td>\n",
       "      <td>1965</td>\n",
       "      <td>0.0</td>\n",
       "      <td>146</td>\n",
       "      <td>1991</td>\n",
       "      <td>4480025026</td>\n",
       "      <td>충청남도</td>\n",
       "      <td>홍성군</td>\n",
       "      <td>주민</td>\n",
       "      <td>N</td>\n",
       "      <td>N</td>\n",
       "    </tr>\n",
       "    <tr>\n",
       "      <th>4</th>\n",
       "      <td>KMJWA37JBBU348189</td>\n",
       "      <td>71소8695</td>\n",
       "      <td>A0810007402962210</td>\n",
       "      <td>승합</td>\n",
       "      <td>자가용</td>\n",
       "      <td>20110318</td>\n",
       "      <td>2011</td>\n",
       "      <td>20110303.0</td>\n",
       "      <td>20200317.0</td>\n",
       "      <td>7MY-HD-14-46</td>\n",
       "      <td>...</td>\n",
       "      <td>2990</td>\n",
       "      <td>0.0</td>\n",
       "      <td>174</td>\n",
       "      <td>2497</td>\n",
       "      <td>4374040022</td>\n",
       "      <td>충청북도</td>\n",
       "      <td>영동군</td>\n",
       "      <td>주민</td>\n",
       "      <td>N</td>\n",
       "      <td>N</td>\n",
       "    </tr>\n",
       "  </tbody>\n",
       "</table>\n",
       "<p>5 rows × 28 columns</p>\n",
       "</div>"
      ],
      "text/plain": [
       "                차대번호     차량번호             제원관리번호  차종   용도     최초등록일    연식  \\\n",
       "0  KNAJE55538K488660  31어4928  A0110003400501207  승용  자가용  20080118  2008   \n",
       "1  KMHSJ81VP8U264640  45수2247  A0810006800831207  승용  자가용  20070907  2008   \n",
       "2  KMHSJ81VP9U437824  57우7716  A0810006801411208  승용  자가용  20081007  2009   \n",
       "3  KMHJN81VP7U714285  24도2516  A0810006301201206  승용  자가용  20070713  2007   \n",
       "4  KMJWA37JBBU348189  71소8695  A0810007402962210  승합  자가용  20110318  2011   \n",
       "\n",
       "         제작일자       검사유효일           인증번호  ...   총중량 적재중량 엔진출력   배기량  \\\n",
       "0  20071009.0  20160305.0   6MY-KM-14-61  ...  1960  0.0  151  1991   \n",
       "1  20070821.0  20110906.0  6MY-HD-24-100  ...  2345  0.0  151  1991   \n",
       "2  20080919.0  20201006.0   7MY-HD-14-57  ...  2345  0.0  151  1991   \n",
       "3  20070521.0  20190712.0   5MY-HD-24-59  ...  1965  0.0  146  1991   \n",
       "4  20110303.0  20200317.0   7MY-HD-14-46  ...  2990  0.0  174  2497   \n",
       "\n",
       "        법정동코드    시도명     시군구명 소유자구분  말소여부  일치유무  \n",
       "0  1154510200  서울특별시      금천구    주민     N     N  \n",
       "1  4825010200   경상남도      김해시    법인     N     N  \n",
       "2  4812112700   경상남도  창원시 의창구    주민     N     N  \n",
       "3  4480025026   충청남도      홍성군    주민     N     N  \n",
       "4  4374040022   충청북도      영동군    주민     N     N  \n",
       "\n",
       "[5 rows x 28 columns]"
      ]
     },
     "execution_count": 7,
     "metadata": {},
     "output_type": "execute_result"
    }
   ],
   "source": [
    "df.head()"
   ]
  },
  {
   "attachments": {},
   "cell_type": "markdown",
   "metadata": {},
   "source": [
    "## [로드] 4등급 차량 리스트"
   ]
  },
  {
   "cell_type": "code",
   "execution_count": 8,
   "metadata": {},
   "outputs": [
    {
     "name": "stdout",
     "output_type": "stream",
     "text": [
      "<class 'pandas.core.frame.DataFrame'>\n",
      "RangeIndex: 574034 entries, 0 to 574033\n",
      "Data columns (total 28 columns):\n",
      " #   Column  Non-Null Count   Dtype  \n",
      "---  ------  --------------   -----  \n",
      " 0   차대번호    574034 non-null  object \n",
      " 1   차량번호    574034 non-null  object \n",
      " 2   제원관리번호  574034 non-null  object \n",
      " 3   차종      574034 non-null  object \n",
      " 4   용도      574034 non-null  object \n",
      " 5   최초등록일   574034 non-null  int64  \n",
      " 6   연식      574034 non-null  int64  \n",
      " 7   제작일자    574033 non-null  float64\n",
      " 8   검사유효일   574033 non-null  float64\n",
      " 9   인증번호    570547 non-null  object \n",
      " 10  등급      574034 non-null  int64  \n",
      " 11  차명      574034 non-null  object \n",
      " 12  차종분류    574034 non-null  object \n",
      " 13  차종유형    574034 non-null  object \n",
      " 14  자동차형식   574034 non-null  object \n",
      " 15  제작사명    574025 non-null  object \n",
      " 16  연료      574034 non-null  object \n",
      " 17  엔진형식    574034 non-null  object \n",
      " 18  총중량     574034 non-null  int64  \n",
      " 19  적재중량    574018 non-null  float64\n",
      " 20  엔진출력    574032 non-null  float64\n",
      " 21  배기량     574034 non-null  int64  \n",
      " 22  법정동코드   574034 non-null  int64  \n",
      " 23  시도명     574034 non-null  object \n",
      " 24  시군구명    574034 non-null  object \n",
      " 25  소유자구분   574034 non-null  object \n",
      " 26  말소여부    574034 non-null  object \n",
      " 27  일치유무    574034 non-null  object \n",
      "dtypes: float64(4), int64(6), object(18)\n",
      "memory usage: 122.6+ MB\n"
     ]
    }
   ],
   "source": [
    "# about 5s\n",
    "file_name = '4등급 차량 리스트 양식_1_result_Y.csv'\n",
    "list1_path = os.path.join(fold, file_name)\n",
    "list1 = pd.read_csv(list1_path, encoding='cp949')\n",
    "list1.info()"
   ]
  },
  {
   "cell_type": "code",
   "execution_count": 9,
   "metadata": {},
   "outputs": [
    {
     "name": "stdout",
     "output_type": "stream",
     "text": [
      "<class 'pandas.core.frame.DataFrame'>\n",
      "RangeIndex: 503903 entries, 0 to 503902\n",
      "Data columns (total 28 columns):\n",
      " #   Column  Non-Null Count   Dtype  \n",
      "---  ------  --------------   -----  \n",
      " 0   차대번호    503903 non-null  object \n",
      " 1   차량번호    503903 non-null  object \n",
      " 2   제원관리번호  503903 non-null  object \n",
      " 3   차종      503903 non-null  object \n",
      " 4   용도      503903 non-null  object \n",
      " 5   최초등록일   503903 non-null  int64  \n",
      " 6   연식      503903 non-null  int64  \n",
      " 7   제작일자    503902 non-null  float64\n",
      " 8   검사유효일   503902 non-null  float64\n",
      " 9   인증번호    500838 non-null  object \n",
      " 10  등급      503903 non-null  int64  \n",
      " 11  차명      503903 non-null  object \n",
      " 12  차종분류    503903 non-null  object \n",
      " 13  차종유형    503903 non-null  object \n",
      " 14  자동차형식   503902 non-null  object \n",
      " 15  제작사명    503896 non-null  object \n",
      " 16  연료      503903 non-null  object \n",
      " 17  엔진형식    503903 non-null  object \n",
      " 18  총중량     503903 non-null  int64  \n",
      " 19  적재중량    503892 non-null  float64\n",
      " 20  엔진출력    503903 non-null  int64  \n",
      " 21  배기량     503903 non-null  int64  \n",
      " 22  법정동코드   503903 non-null  int64  \n",
      " 23  시도명     503903 non-null  object \n",
      " 24  시군구명    503903 non-null  object \n",
      " 25  소유자구분   503903 non-null  object \n",
      " 26  말소여부    503903 non-null  object \n",
      " 27  일치유무    503903 non-null  object \n",
      "dtypes: float64(3), int64(7), object(18)\n",
      "memory usage: 107.6+ MB\n"
     ]
    }
   ],
   "source": [
    "# about 4s\n",
    "file_name = '4등급 차량 리스트 양식_2_result_Y.csv'\n",
    "list2_path = os.path.join(fold, file_name)\n",
    "list2 = pd.read_csv(list2_path, encoding='cp949')\n",
    "list2.info()"
   ]
  },
  {
   "cell_type": "code",
   "execution_count": 10,
   "metadata": {},
   "outputs": [
    {
     "name": "stdout",
     "output_type": "stream",
     "text": [
      "<class 'pandas.core.frame.DataFrame'>\n",
      "RangeIndex: 1077937 entries, 0 to 1077936\n",
      "Data columns (total 28 columns):\n",
      " #   Column  Non-Null Count    Dtype  \n",
      "---  ------  --------------    -----  \n",
      " 0   차대번호    1077937 non-null  object \n",
      " 1   차량번호    1077937 non-null  object \n",
      " 2   제원관리번호  1077937 non-null  object \n",
      " 3   차종      1077937 non-null  object \n",
      " 4   용도      1077937 non-null  object \n",
      " 5   최초등록일   1077937 non-null  int64  \n",
      " 6   연식      1077937 non-null  int64  \n",
      " 7   제작일자    1077935 non-null  float64\n",
      " 8   검사유효일   1077935 non-null  float64\n",
      " 9   인증번호    1071385 non-null  object \n",
      " 10  등급      1077937 non-null  int64  \n",
      " 11  차명      1077937 non-null  object \n",
      " 12  차종분류    1077937 non-null  object \n",
      " 13  차종유형    1077937 non-null  object \n",
      " 14  자동차형식   1077936 non-null  object \n",
      " 15  제작사명    1077921 non-null  object \n",
      " 16  연료      1077937 non-null  object \n",
      " 17  엔진형식    1077937 non-null  object \n",
      " 18  총중량     1077937 non-null  int64  \n",
      " 19  적재중량    1077910 non-null  float64\n",
      " 20  엔진출력    1077935 non-null  float64\n",
      " 21  배기량     1077937 non-null  int64  \n",
      " 22  법정동코드   1077937 non-null  int64  \n",
      " 23  시도명     1077937 non-null  object \n",
      " 24  시군구명    1077937 non-null  object \n",
      " 25  소유자구분   1077937 non-null  object \n",
      " 26  말소여부    1077937 non-null  object \n",
      " 27  일치유무    1077937 non-null  object \n",
      "dtypes: float64(4), int64(6), object(18)\n",
      "memory usage: 230.3+ MB\n"
     ]
    }
   ],
   "source": [
    "list = pd.concat([list1, list2], ignore_index=True)\n",
    "list.info()"
   ]
  },
  {
   "attachments": {},
   "cell_type": "markdown",
   "metadata": {},
   "source": [
    "### [출력] 4등급 차량 리스트"
   ]
  },
  {
   "cell_type": "code",
   "execution_count": 11,
   "metadata": {},
   "outputs": [],
   "source": [
    "# about 14s\n",
    "list.to_csv(os.path.join(fold, '4등급_차량_리스트_양식_result.csv'), index=False, encoding='cp949')"
   ]
  },
  {
   "cell_type": "code",
   "execution_count": null,
   "metadata": {},
   "outputs": [],
   "source": []
  },
  {
   "attachments": {},
   "cell_type": "markdown",
   "metadata": {},
   "source": [
    "# 1\\. 3등급 차량으로 유추되는 다수의 차량 확인\n",
    "- 인증번호 : 8MY-KM-13\n",
    "- 사용 데이터 : ODS \"CEG_EMIS_CERTI_VEH_MIG(배출가스 인증 자동차정보)\""
   ]
  },
  {
   "attachments": {},
   "cell_type": "markdown",
   "metadata": {},
   "source": [
    "## [로드] CEG_EMIS_CERTI_VEH_MIG(배출가스 인증 자동차정보)"
   ]
  },
  {
   "cell_type": "code",
   "execution_count": 3,
   "metadata": {},
   "outputs": [
    {
     "name": "stdout",
     "output_type": "stream",
     "text": [
      "<class 'pandas.core.frame.DataFrame'>\n",
      "RangeIndex: 109269 entries, 0 to 109268\n",
      "Data columns (total 25 columns):\n",
      " #   Column           Non-Null Count   Dtype  \n",
      "---  ------           --------------   -----  \n",
      " 0   EMIS_CRTCNO      109269 non-null  object \n",
      " 1   EMIS_CRTC_SNO    109269 non-null  int64  \n",
      " 2   VHCL_SNO         109269 non-null  object \n",
      " 3   VHCNM            109241 non-null  object \n",
      " 4   CAR_FRM          109181 non-null  object \n",
      " 5   VIN              72498 non-null   object \n",
      " 6   EMIS_VHCTY       84041 non-null   object \n",
      " 7   VHCL_YRIDNW      104332 non-null  float64\n",
      " 8   DRV_FRM          91142 non-null   object \n",
      " 9   PURPS            96950 non-null   object \n",
      " 10  GEARBOX_KND      108853 non-null  object \n",
      " 11  EMPV_WGHT        109166 non-null  object \n",
      " 12  TOT_WGHT         109027 non-null  object \n",
      " 13  EGINTY           108279 non-null  object \n",
      " 14  DSPLVL           108249 non-null  float64\n",
      " 15  FUEL             108746 non-null  object \n",
      " 16  EGINPWR          99675 non-null   object \n",
      " 17  VHCL_LT_INFO     102659 non-null  object \n",
      " 18  VHCL_WH_INFO     102662 non-null  object \n",
      " 19  VHCL_HG_INFO     102660 non-null  object \n",
      " 20  TKCAR_NMPR_INFO  82499 non-null   object \n",
      " 21  TIRE_MG_PRE_DTL  76202 non-null   object \n",
      " 22  TIRE_MG_RR_DTL   76172 non-null   object \n",
      " 23  RECP_FILE_NM     109265 non-null  object \n",
      " 24  STRE_DE          109265 non-null  object \n",
      "dtypes: float64(2), int64(1), object(22)\n",
      "memory usage: 20.8+ MB\n"
     ]
    }
   ],
   "source": [
    "ods_fold = 'D:\\과업\\[한국환경공단]자동차_환경_빅데이터_구축_2차\\data\\ODS'\n",
    "file_name = 'ODS_CEG_EMIS_CERTI_VEH_MIG.csv'\n",
    "ods_path = os.path.join(ods_fold, file_name)\n",
    "\n",
    "emis = pd.read_csv(ods_path, low_memory=False)\n",
    "emis.info()"
   ]
  },
  {
   "attachments": {},
   "cell_type": "markdown",
   "metadata": {},
   "source": [
    "### [로드] 컬럼명"
   ]
  },
  {
   "cell_type": "code",
   "execution_count": 4,
   "metadata": {},
   "outputs": [
    {
     "data": {
      "text/html": [
       "<div>\n",
       "<style scoped>\n",
       "    .dataframe tbody tr th:only-of-type {\n",
       "        vertical-align: middle;\n",
       "    }\n",
       "\n",
       "    .dataframe tbody tr th {\n",
       "        vertical-align: top;\n",
       "    }\n",
       "\n",
       "    .dataframe thead th {\n",
       "        text-align: right;\n",
       "    }\n",
       "</style>\n",
       "<table border=\"1\" class=\"dataframe\">\n",
       "  <thead>\n",
       "    <tr style=\"text-align: right;\">\n",
       "      <th></th>\n",
       "      <th>컬럼</th>\n",
       "      <th>내용</th>\n",
       "    </tr>\n",
       "  </thead>\n",
       "  <tbody>\n",
       "    <tr>\n",
       "      <th>0</th>\n",
       "      <td>EMIS_VHCTY</td>\n",
       "      <td>배출가스 차종</td>\n",
       "    </tr>\n",
       "    <tr>\n",
       "      <th>1</th>\n",
       "      <td>EMPV_WGHT</td>\n",
       "      <td>공차중량</td>\n",
       "    </tr>\n",
       "    <tr>\n",
       "      <th>2</th>\n",
       "      <td>PURPS</td>\n",
       "      <td>용도</td>\n",
       "    </tr>\n",
       "    <tr>\n",
       "      <th>3</th>\n",
       "      <td>EMIS_CRTCNO</td>\n",
       "      <td>배출가스 인증번호</td>\n",
       "    </tr>\n",
       "    <tr>\n",
       "      <th>4</th>\n",
       "      <td>EMIS_CRTC_SNO</td>\n",
       "      <td>배출가스 인증 일련번호</td>\n",
       "    </tr>\n",
       "    <tr>\n",
       "      <th>5</th>\n",
       "      <td>DSPLVL</td>\n",
       "      <td>배기량</td>\n",
       "    </tr>\n",
       "    <tr>\n",
       "      <th>6</th>\n",
       "      <td>DRV_FRM</td>\n",
       "      <td>구동 형식</td>\n",
       "    </tr>\n",
       "    <tr>\n",
       "      <th>7</th>\n",
       "      <td>FUEL</td>\n",
       "      <td>연료</td>\n",
       "    </tr>\n",
       "    <tr>\n",
       "      <th>8</th>\n",
       "      <td>EGINTY</td>\n",
       "      <td>엔진형식</td>\n",
       "    </tr>\n",
       "    <tr>\n",
       "      <th>9</th>\n",
       "      <td>EGINPWR</td>\n",
       "      <td>엔진출력</td>\n",
       "    </tr>\n",
       "    <tr>\n",
       "      <th>10</th>\n",
       "      <td>VIN</td>\n",
       "      <td>차대번호</td>\n",
       "    </tr>\n",
       "    <tr>\n",
       "      <th>11</th>\n",
       "      <td>TKCAR_NMPR_INFO</td>\n",
       "      <td>승차 인원 정보</td>\n",
       "    </tr>\n",
       "    <tr>\n",
       "      <th>12</th>\n",
       "      <td>GEARBOX_KND</td>\n",
       "      <td>변속기 종류</td>\n",
       "    </tr>\n",
       "    <tr>\n",
       "      <th>13</th>\n",
       "      <td>STRE_DE</td>\n",
       "      <td>저장 일자</td>\n",
       "    </tr>\n",
       "    <tr>\n",
       "      <th>14</th>\n",
       "      <td>VHCL_LT_INFO</td>\n",
       "      <td>차량 길이 정보</td>\n",
       "    </tr>\n",
       "    <tr>\n",
       "      <th>15</th>\n",
       "      <td>VHCL_WH_INFO</td>\n",
       "      <td>차량 너비 정보</td>\n",
       "    </tr>\n",
       "    <tr>\n",
       "      <th>16</th>\n",
       "      <td>VHCL_HG_INFO</td>\n",
       "      <td>차량 높이 정보</td>\n",
       "    </tr>\n",
       "    <tr>\n",
       "      <th>17</th>\n",
       "      <td>VHCL_YRIDNW</td>\n",
       "      <td>차량 연식</td>\n",
       "    </tr>\n",
       "    <tr>\n",
       "      <th>18</th>\n",
       "      <td>VHCL_SNO</td>\n",
       "      <td>차량 일련번호</td>\n",
       "    </tr>\n",
       "    <tr>\n",
       "      <th>19</th>\n",
       "      <td>VHCNM</td>\n",
       "      <td>차명</td>\n",
       "    </tr>\n",
       "    <tr>\n",
       "      <th>20</th>\n",
       "      <td>TOT_WGHT</td>\n",
       "      <td>총 중량</td>\n",
       "    </tr>\n",
       "    <tr>\n",
       "      <th>21</th>\n",
       "      <td>CAR_FRM</td>\n",
       "      <td>자동차 형식</td>\n",
       "    </tr>\n",
       "    <tr>\n",
       "      <th>22</th>\n",
       "      <td>TIRE_MG_PRE_DTL</td>\n",
       "      <td>미정</td>\n",
       "    </tr>\n",
       "    <tr>\n",
       "      <th>23</th>\n",
       "      <td>TIRE_MG_RR_DTL</td>\n",
       "      <td>미정</td>\n",
       "    </tr>\n",
       "    <tr>\n",
       "      <th>24</th>\n",
       "      <td>RECP_FILE_NM</td>\n",
       "      <td>미정</td>\n",
       "    </tr>\n",
       "  </tbody>\n",
       "</table>\n",
       "</div>"
      ],
      "text/plain": [
       "                 컬럼            내용\n",
       "0        EMIS_VHCTY       배출가스 차종\n",
       "1         EMPV_WGHT          공차중량\n",
       "2             PURPS            용도\n",
       "3       EMIS_CRTCNO     배출가스 인증번호\n",
       "4     EMIS_CRTC_SNO  배출가스 인증 일련번호\n",
       "5            DSPLVL           배기량\n",
       "6           DRV_FRM         구동 형식\n",
       "7              FUEL            연료\n",
       "8            EGINTY          엔진형식\n",
       "9           EGINPWR          엔진출력\n",
       "10              VIN          차대번호\n",
       "11  TKCAR_NMPR_INFO      승차 인원 정보\n",
       "12      GEARBOX_KND        변속기 종류\n",
       "13          STRE_DE         저장 일자\n",
       "14     VHCL_LT_INFO      차량 길이 정보\n",
       "15     VHCL_WH_INFO      차량 너비 정보\n",
       "16     VHCL_HG_INFO      차량 높이 정보\n",
       "17      VHCL_YRIDNW         차량 연식\n",
       "18         VHCL_SNO       차량 일련번호\n",
       "19            VHCNM            차명\n",
       "20         TOT_WGHT          총 중량\n",
       "21          CAR_FRM        자동차 형식\n",
       "22  TIRE_MG_PRE_DTL            미정\n",
       "23   TIRE_MG_RR_DTL            미정\n",
       "24     RECP_FILE_NM            미정"
      ]
     },
     "execution_count": 4,
     "metadata": {},
     "output_type": "execute_result"
    }
   ],
   "source": [
    "col_fold = 'C:/Users/kbjung/Documents/GitHub/wabotech/car_big_data_2/analysis/ODSvsSTD'\n",
    "file_name = '[정제][ODS]CEG_EMIS_CERTI_VEH_MIG.xlsx'\n",
    "col_path = os.path.join(col_fold, file_name)\n",
    "\n",
    "col = pd.read_excel(col_path, sheet_name='ODS_col')\n",
    "col"
   ]
  },
  {
   "attachments": {},
   "cell_type": "markdown",
   "metadata": {},
   "source": [
    "### 컬럼명 한글화"
   ]
  },
  {
   "cell_type": "code",
   "execution_count": 5,
   "metadata": {},
   "outputs": [
    {
     "data": {
      "text/plain": [
       "{'EMIS_VHCTY': '배출가스 차종',\n",
       " 'EMPV_WGHT': '공차중량',\n",
       " 'PURPS': '용도',\n",
       " 'EMIS_CRTCNO': '배출가스 인증번호',\n",
       " 'EMIS_CRTC_SNO': '배출가스 인증 일련번호'}"
      ]
     },
     "execution_count": 5,
     "metadata": {},
     "output_type": "execute_result"
    }
   ],
   "source": [
    "col_dict = {a:b for a, b in zip(col['컬럼'], col['내용'])}\n",
    "dict(list(col_dict.items())[:5])"
   ]
  },
  {
   "cell_type": "code",
   "execution_count": 6,
   "metadata": {},
   "outputs": [
    {
     "data": {
      "text/plain": [
       "['배출가스 인증번호',\n",
       " '배출가스 인증 일련번호',\n",
       " '차량 일련번호',\n",
       " '차명',\n",
       " '자동차 형식',\n",
       " '차대번호',\n",
       " '배출가스 차종',\n",
       " '차량 연식',\n",
       " '구동 형식',\n",
       " '용도',\n",
       " '변속기 종류',\n",
       " '공차중량',\n",
       " '총 중량',\n",
       " '엔진형식',\n",
       " '배기량',\n",
       " '연료',\n",
       " '엔진출력',\n",
       " '차량 길이 정보',\n",
       " '차량 너비 정보',\n",
       " '차량 높이 정보',\n",
       " '승차 인원 정보',\n",
       " '미정',\n",
       " '미정',\n",
       " '미정',\n",
       " '저장 일자']"
      ]
     },
     "execution_count": 6,
     "metadata": {},
     "output_type": "execute_result"
    }
   ],
   "source": [
    "col_list = [col_dict[x] for x in emis.columns]\n",
    "col_list"
   ]
  },
  {
   "cell_type": "code",
   "execution_count": 7,
   "metadata": {},
   "outputs": [
    {
     "name": "stdout",
     "output_type": "stream",
     "text": [
      "<class 'pandas.core.frame.DataFrame'>\n",
      "RangeIndex: 109269 entries, 0 to 109268\n",
      "Data columns (total 25 columns):\n",
      " #   Column        Non-Null Count   Dtype  \n",
      "---  ------        --------------   -----  \n",
      " 0   배출가스 인증번호     109269 non-null  object \n",
      " 1   배출가스 인증 일련번호  109269 non-null  int64  \n",
      " 2   차량 일련번호       109269 non-null  object \n",
      " 3   차명            109241 non-null  object \n",
      " 4   자동차 형식        109181 non-null  object \n",
      " 5   차대번호          72498 non-null   object \n",
      " 6   배출가스 차종       84041 non-null   object \n",
      " 7   차량 연식         104332 non-null  float64\n",
      " 8   구동 형식         91142 non-null   object \n",
      " 9   용도            96950 non-null   object \n",
      " 10  변속기 종류        108853 non-null  object \n",
      " 11  공차중량          109166 non-null  object \n",
      " 12  총 중량          109027 non-null  object \n",
      " 13  엔진형식          108279 non-null  object \n",
      " 14  배기량           108249 non-null  float64\n",
      " 15  연료            108746 non-null  object \n",
      " 16  엔진출력          99675 non-null   object \n",
      " 17  차량 길이 정보      102659 non-null  object \n",
      " 18  차량 너비 정보      102662 non-null  object \n",
      " 19  차량 높이 정보      102660 non-null  object \n",
      " 20  승차 인원 정보      82499 non-null   object \n",
      " 21  미정            76202 non-null   object \n",
      " 22  미정            76172 non-null   object \n",
      " 23  미정            109265 non-null  object \n",
      " 24  저장 일자         109265 non-null  object \n",
      "dtypes: float64(2), int64(1), object(22)\n",
      "memory usage: 20.8+ MB\n"
     ]
    }
   ],
   "source": [
    "emis.columns = col_list\n",
    "emis.info()"
   ]
  },
  {
   "attachments": {},
   "cell_type": "markdown",
   "metadata": {},
   "source": [
    "## 해당 인증번호 정보 확인\n",
    "- 인증번호 : 8MY-KM-13 (❌)\n",
    "    - 8MY-KM-13 포함한 1개만 존재\n",
    "- 인증번호 : 8MY-KM-13-19 (⭕)"
   ]
  },
  {
   "cell_type": "code",
   "execution_count": 8,
   "metadata": {},
   "outputs": [
    {
     "data": {
      "text/html": [
       "<div>\n",
       "<style scoped>\n",
       "    .dataframe tbody tr th:only-of-type {\n",
       "        vertical-align: middle;\n",
       "    }\n",
       "\n",
       "    .dataframe tbody tr th {\n",
       "        vertical-align: top;\n",
       "    }\n",
       "\n",
       "    .dataframe thead th {\n",
       "        text-align: right;\n",
       "    }\n",
       "</style>\n",
       "<table border=\"1\" class=\"dataframe\">\n",
       "  <thead>\n",
       "    <tr style=\"text-align: right;\">\n",
       "      <th></th>\n",
       "      <th>배출가스 인증번호</th>\n",
       "      <th>배출가스 인증 일련번호</th>\n",
       "      <th>차량 일련번호</th>\n",
       "      <th>차명</th>\n",
       "      <th>자동차 형식</th>\n",
       "      <th>차대번호</th>\n",
       "      <th>배출가스 차종</th>\n",
       "      <th>차량 연식</th>\n",
       "      <th>구동 형식</th>\n",
       "      <th>용도</th>\n",
       "      <th>...</th>\n",
       "      <th>연료</th>\n",
       "      <th>엔진출력</th>\n",
       "      <th>차량 길이 정보</th>\n",
       "      <th>차량 너비 정보</th>\n",
       "      <th>차량 높이 정보</th>\n",
       "      <th>승차 인원 정보</th>\n",
       "      <th>미정</th>\n",
       "      <th>미정</th>\n",
       "      <th>미정</th>\n",
       "      <th>저장 일자</th>\n",
       "    </tr>\n",
       "  </thead>\n",
       "  <tbody>\n",
       "  </tbody>\n",
       "</table>\n",
       "<p>0 rows × 25 columns</p>\n",
       "</div>"
      ],
      "text/plain": [
       "Empty DataFrame\n",
       "Columns: [배출가스 인증번호, 배출가스 인증 일련번호, 차량 일련번호, 차명, 자동차 형식, 차대번호, 배출가스 차종, 차량 연식, 구동 형식, 용도, 변속기 종류, 공차중량, 총 중량, 엔진형식, 배기량, 연료, 엔진출력, 차량 길이 정보, 차량 너비 정보, 차량 높이 정보, 승차 인원 정보, 미정, 미정, 미정, 저장 일자]\n",
       "Index: []\n",
       "\n",
       "[0 rows x 25 columns]"
      ]
     },
     "execution_count": 8,
     "metadata": {},
     "output_type": "execute_result"
    }
   ],
   "source": [
    "emis[emis['배출가스 인증번호'] == '8MY-KM-13']"
   ]
  },
  {
   "cell_type": "code",
   "execution_count": 9,
   "metadata": {},
   "outputs": [
    {
     "data": {
      "text/html": [
       "<div>\n",
       "<style scoped>\n",
       "    .dataframe tbody tr th:only-of-type {\n",
       "        vertical-align: middle;\n",
       "    }\n",
       "\n",
       "    .dataframe tbody tr th {\n",
       "        vertical-align: top;\n",
       "    }\n",
       "\n",
       "    .dataframe thead th {\n",
       "        text-align: right;\n",
       "    }\n",
       "</style>\n",
       "<table border=\"1\" class=\"dataframe\">\n",
       "  <thead>\n",
       "    <tr style=\"text-align: right;\">\n",
       "      <th></th>\n",
       "      <th>배출가스 인증번호</th>\n",
       "      <th>배출가스 인증 일련번호</th>\n",
       "      <th>차량 일련번호</th>\n",
       "      <th>차명</th>\n",
       "      <th>자동차 형식</th>\n",
       "      <th>차대번호</th>\n",
       "      <th>배출가스 차종</th>\n",
       "      <th>차량 연식</th>\n",
       "      <th>구동 형식</th>\n",
       "      <th>용도</th>\n",
       "      <th>...</th>\n",
       "      <th>연료</th>\n",
       "      <th>엔진출력</th>\n",
       "      <th>차량 길이 정보</th>\n",
       "      <th>차량 너비 정보</th>\n",
       "      <th>차량 높이 정보</th>\n",
       "      <th>승차 인원 정보</th>\n",
       "      <th>미정</th>\n",
       "      <th>미정</th>\n",
       "      <th>미정</th>\n",
       "      <th>저장 일자</th>\n",
       "    </tr>\n",
       "  </thead>\n",
       "  <tbody>\n",
       "    <tr>\n",
       "      <th>3603</th>\n",
       "      <td>8MY-KM-13-19</td>\n",
       "      <td>0</td>\n",
       "      <td>000</td>\n",
       "      <td>봉고1톤초장축 수퍼캡</td>\n",
       "      <td>PU1.0-29D-L6-SE-2W5M</td>\n",
       "      <td>NaN</td>\n",
       "      <td>FM</td>\n",
       "      <td>NaN</td>\n",
       "      <td>NaN</td>\n",
       "      <td>NaN</td>\n",
       "      <td>...</td>\n",
       "      <td>DS</td>\n",
       "      <td>126</td>\n",
       "      <td>NaN</td>\n",
       "      <td>NaN</td>\n",
       "      <td>NaN</td>\n",
       "      <td>NaN</td>\n",
       "      <td>NaN</td>\n",
       "      <td>NaN</td>\n",
       "      <td>초기데이터</td>\n",
       "      <td>19/06/28</td>\n",
       "    </tr>\n",
       "  </tbody>\n",
       "</table>\n",
       "<p>1 rows × 25 columns</p>\n",
       "</div>"
      ],
      "text/plain": [
       "         배출가스 인증번호  배출가스 인증 일련번호 차량 일련번호           차명                자동차 형식  \\\n",
       "3603  8MY-KM-13-19             0     000  봉고1톤초장축 수퍼캡  PU1.0-29D-L6-SE-2W5M   \n",
       "\n",
       "     차대번호 배출가스 차종  차량 연식 구동 형식   용도  ...  연료 엔진출력 차량 길이 정보 차량 너비 정보  차량 높이 정보  \\\n",
       "3603  NaN      FM    NaN   NaN  NaN  ...  DS  126      NaN      NaN       NaN   \n",
       "\n",
       "     승차 인원 정보   미정   미정     미정     저장 일자  \n",
       "3603      NaN  NaN  NaN  초기데이터  19/06/28  \n",
       "\n",
       "[1 rows x 25 columns]"
      ]
     },
     "execution_count": 9,
     "metadata": {},
     "output_type": "execute_result"
    }
   ],
   "source": [
    "emis[emis['배출가스 인증번호'] == '8MY-KM-13-19']"
   ]
  },
  {
   "cell_type": "code",
   "execution_count": 10,
   "metadata": {},
   "outputs": [
    {
     "name": "stdout",
     "output_type": "stream",
     "text": [
      "8MY-KM-13-19\n"
     ]
    }
   ],
   "source": [
    "emis_no = '8MY-KM-13'\n",
    "for one in emis['배출가스 인증번호']:\n",
    "    if emis_no in one:\n",
    "        print(one)"
   ]
  },
  {
   "attachments": {},
   "cell_type": "markdown",
   "metadata": {},
   "source": [
    "### [로드] [G4]등록정보&제원정보"
   ]
  },
  {
   "cell_type": "code",
   "execution_count": 37,
   "metadata": {},
   "outputs": [
    {
     "name": "stdout",
     "output_type": "stream",
     "text": [
      "<class 'pandas.core.frame.DataFrame'>\n",
      "RangeIndex: 1511139 entries, 0 to 1511138\n",
      "Data columns (total 49 columns):\n",
      " #   Column        Non-Null Count    Dtype  \n",
      "---  ------        --------------    -----  \n",
      " 0   차량관리번호        1511139 non-null  object \n",
      " 1   차량등록번호        1511139 non-null  object \n",
      " 2   본거지법정동코드      1511139 non-null  int64  \n",
      " 3   소유자구분         1511139 non-null  object \n",
      " 4   차종_등록정보       1511137 non-null  object \n",
      " 5   용도            1511139 non-null  object \n",
      " 6   현재회원번호        1510300 non-null  object \n",
      " 7   차대번호          1511139 non-null  object \n",
      " 8   최초등록일자        1511139 non-null  int64  \n",
      " 9   차량연식          1511139 non-null  int64  \n",
      " 10  차량제작일자        1342367 non-null  float64\n",
      " 11  배출가스검사유효일자    1511127 non-null  float64\n",
      " 12  제원관리번호        1511139 non-null  object \n",
      " 13  배출가스인증번호      1387441 non-null  object \n",
      " 14  배출가스등급        1511139 non-null  object \n",
      " 15  저공해조치YN(미사용)  1510984 non-null  object \n",
      " 16  저공해조치종류       189 non-null      float64\n",
      " 17  저공해조치구조변경YN   1511139 non-null  object \n",
      " 18  차량등록번호숫자정보    1511139 non-null  int64  \n",
      " 19  차량말소YN        1511139 non-null  object \n",
      " 20  최초회원번호        1506484 non-null  object \n",
      " 21  취득일자          1417927 non-null  object \n",
      " 22  취득금액          1436738 non-null  float64\n",
      " 23  생성일시_등록정보     1511139 non-null  object \n",
      " 24  수정일시_등록정보     914957 non-null   object \n",
      " 25  차명            1511139 non-null  object \n",
      " 26  차종_제원정보       1511139 non-null  object \n",
      " 27  차종분류          1511139 non-null  object \n",
      " 28  차종유형(소분류)     1511139 non-null  object \n",
      " 29  자동차형식         1510611 non-null  object \n",
      " 30  제작사명          1501112 non-null  object \n",
      " 31  연료            1511068 non-null  object \n",
      " 32  엔진형식          1509138 non-null  object \n",
      " 33  공차중량          0 non-null        float64\n",
      " 34  총중량           1511114 non-null  float64\n",
      " 35  적재중량          1510602 non-null  float64\n",
      " 36  엔진출력          1510511 non-null  float64\n",
      " 37  배기량           1511128 non-null  float64\n",
      " 38  승차인원          1511139 non-null  float64\n",
      " 39  차량길이          1511064 non-null  float64\n",
      " 40  차량너비          1511064 non-null  float64\n",
      " 41  차량높이          1511062 non-null  float64\n",
      " 42  원산지명          1492014 non-null  object \n",
      " 43  삭제YN          1511139 non-null  object \n",
      " 44  승인일자          1510592 non-null  object \n",
      " 45  구동형식          47 non-null       float64\n",
      " 46  변속기종류         1510979 non-null  object \n",
      " 47  생성일시_제원정보     1511139 non-null  object \n",
      " 48  수정일시_제원정보     497 non-null      object \n",
      "dtypes: float64(14), int64(4), object(31)\n",
      "memory usage: 564.9+ MB\n"
     ]
    }
   ],
   "source": [
    "# about 30s\n",
    "file_name = '[ODS][G4]등록정보&제원정보(말소제거)(중복차대제거)(한글컬럼)(2022.12.29).csv'\n",
    "car_path = os.path.join(ods_fold, file_name)\n",
    "car4 = pd.read_csv(car_path, low_memory=False)\n",
    "car4.info()"
   ]
  },
  {
   "cell_type": "code",
   "execution_count": 38,
   "metadata": {},
   "outputs": [
    {
     "data": {
      "text/plain": [
       "Index(['차량관리번호', '차량등록번호', '본거지법정동코드', '소유자구분', '차종_등록정보', '용도', '현재회원번호',\n",
       "       '차대번호', '최초등록일자', '차량연식', '차량제작일자', '배출가스검사유효일자', '제원관리번호', '배출가스인증번호',\n",
       "       '배출가스등급', '저공해조치YN(미사용)', '저공해조치종류', '저공해조치구조변경YN', '차량등록번호숫자정보',\n",
       "       '차량말소YN', '최초회원번호', '취득일자', '취득금액', '생성일시_등록정보', '수정일시_등록정보', '차명',\n",
       "       '차종_제원정보', '차종분류', '차종유형(소분류)', '자동차형식', '제작사명', '연료', '엔진형식', '공차중량',\n",
       "       '총중량', '적재중량', '엔진출력', '배기량', '승차인원', '차량길이', '차량너비', '차량높이', '원산지명',\n",
       "       '삭제YN', '승인일자', '구동형식', '변속기종류', '생성일시_제원정보', '수정일시_제원정보'],\n",
       "      dtype='object')"
      ]
     },
     "execution_count": 38,
     "metadata": {},
     "output_type": "execute_result"
    }
   ],
   "source": [
    "car4.columns"
   ]
  },
  {
   "cell_type": "code",
   "execution_count": 39,
   "metadata": {},
   "outputs": [
    {
     "data": {
      "text/plain": [
       "(92265, 49)"
      ]
     },
     "execution_count": 39,
     "metadata": {},
     "output_type": "execute_result"
    }
   ],
   "source": [
    "emis_no = '8MY-KM-13-19'\n",
    "cond1 = car4[car4['배출가스인증번호'] == emis_no]\n",
    "cond1.shape"
   ]
  },
  {
   "cell_type": "code",
   "execution_count": 40,
   "metadata": {},
   "outputs": [
    {
     "data": {
      "text/plain": [
       "array(['봉고Ⅲ 1톤', '봉고Ⅲ 4륜구동', '봉고Ⅲ 운교차', '평강봉고Ⅲ렉커', '삼오봉고홈로리', '삼오봉고4륜홈로리',\n",
       "       '봉고Ⅲ 냉동차', '봉고Ⅲ 내장차', '봉고Ⅲ 일반덤프', '봉고Ⅲ 플러스내장차', '봉고Ⅲ 보냉차',\n",
       "       '봉고Ⅲ 파워게이트', '봉고Ⅲ 3방덤프', '봉고Ⅲ 워크스루밴', '봉고Ⅲ 윙바디', '봉고Ⅲ 홈로리',\n",
       "       '봉고Ⅲ 플러스냉동차', '봉고Ⅲ 냉장차', '봉고Ⅲ 다용도탑차', '봉고Ⅲ 활어수송차', '봉고Ⅲ 냉온장차',\n",
       "       '수성 봉고3 언더리프트', '삼오봉고탱크로리', '봉고Ⅲ활어수송차', '고호1.0톤이삿짐사다리차',\n",
       "       '평강봉고렉커4륜', '드림사다리차', '호룡 엘리카 고가사다리차', '봉고Ⅲ크레인', '평강이삿짐사다리차',\n",
       "       '대진홈로리', '드림 사다리차', '천하 사다리차', '평강봉고렉커', '에코다목적방제차', '봉고Ⅲ 원박스냉동차',\n",
       "       '금강홈로리', 'KJM렉커', '다산고소작업차', '동아홈로리', '한아방제차', '라헬4륜내장탑차',\n",
       "       '반도크레인탑차', '동해10M고소작업차-0801', '에스알중계차'], dtype=object)"
      ]
     },
     "execution_count": 40,
     "metadata": {},
     "output_type": "execute_result"
    }
   ],
   "source": [
    "car4[car4['배출가스인증번호'] == emis_no]['차명'].unique()"
   ]
  },
  {
   "cell_type": "code",
   "execution_count": 41,
   "metadata": {},
   "outputs": [
    {
     "data": {
      "text/plain": [
       "(55824, 49)"
      ]
     },
     "execution_count": 41,
     "metadata": {},
     "output_type": "execute_result"
    }
   ],
   "source": [
    "car4[(car4['배출가스인증번호'] == emis_no) & (car4['차명'] == '봉고Ⅲ 1톤')].shape"
   ]
  },
  {
   "cell_type": "code",
   "execution_count": 42,
   "metadata": {},
   "outputs": [
    {
     "data": {
      "text/plain": [
       "(92265, 1)"
      ]
     },
     "execution_count": 42,
     "metadata": {},
     "output_type": "execute_result"
    }
   ],
   "source": [
    "emis_no = '8MY-KM-13'\n",
    "temp = []\n",
    "for one in car4['배출가스인증번호']:\n",
    "    if emis_no in str(one):\n",
    "        temp.append(one)\n",
    "len(temp), len(set(temp))"
   ]
  },
  {
   "cell_type": "code",
   "execution_count": 59,
   "metadata": {},
   "outputs": [
    {
     "data": {
      "text/plain": [
       "array(['KNCSE01428K315472', 'KNCSE03429K378300', 'KNCSE26458K323877', ...,\n",
       "       'KNCSE03428K293267', 'KNCSE06438K293750', 'KNCSE26458K293991'],\n",
       "      dtype=object)"
      ]
     },
     "execution_count": 59,
     "metadata": {},
     "output_type": "execute_result"
    }
   ],
   "source": [
    "cond1['차대번호'].unique()"
   ]
  },
  {
   "attachments": {},
   "cell_type": "markdown",
   "metadata": {},
   "source": [
    "### [로드] [G3]등록정보&제원정보"
   ]
  },
  {
   "cell_type": "code",
   "execution_count": 43,
   "metadata": {},
   "outputs": [
    {
     "name": "stdout",
     "output_type": "stream",
     "text": [
      "<class 'pandas.core.frame.DataFrame'>\n",
      "RangeIndex: 8759209 entries, 0 to 8759208\n",
      "Data columns (total 49 columns):\n",
      " #   Column        Dtype  \n",
      "---  ------        -----  \n",
      " 0   차량관리번호        object \n",
      " 1   차량등록번호        object \n",
      " 2   본거지법정동코드      int64  \n",
      " 3   소유자구분         object \n",
      " 4   차종_등록정보       object \n",
      " 5   용도            object \n",
      " 6   현재회원번호        object \n",
      " 7   차대번호          object \n",
      " 8   최초등록일자        int64  \n",
      " 9   차량연식          int64  \n",
      " 10  차량제작일자        float64\n",
      " 11  배출가스검사유효일자    float64\n",
      " 12  제원관리번호        object \n",
      " 13  배출가스인증번호      object \n",
      " 14  배출가스등급        object \n",
      " 15  저공해조치YN(미사용)  object \n",
      " 16  저공해조치종류       float64\n",
      " 17  저공해조치구조변경YN   object \n",
      " 18  차량등록번호숫자정보    int64  \n",
      " 19  차량말소YN        object \n",
      " 20  최초회원번호        object \n",
      " 21  취득일자          float64\n",
      " 22  취득금액          float64\n",
      " 23  생성일시_등록정보     object \n",
      " 24  수정일시_등록정보     object \n",
      " 25  차명            object \n",
      " 26  차종_제원정보       object \n",
      " 27  차종분류          object \n",
      " 28  차종유형(소분류)     object \n",
      " 29  자동차형식         object \n",
      " 30  제작사명          object \n",
      " 31  연료            object \n",
      " 32  엔진형식          object \n",
      " 33  공차중량          float64\n",
      " 34  총중량           float64\n",
      " 35  적재중량          float64\n",
      " 36  엔진출력          float64\n",
      " 37  배기량           float64\n",
      " 38  승차인원          float64\n",
      " 39  차량길이          float64\n",
      " 40  차량너비          float64\n",
      " 41  차량높이          float64\n",
      " 42  원산지명          object \n",
      " 43  삭제YN          object \n",
      " 44  승인일자          float64\n",
      " 45  구동형식          float64\n",
      " 46  변속기종류         object \n",
      " 47  생성일시_제원정보     object \n",
      " 48  수정일시_제원정보     object \n",
      "dtypes: float64(16), int64(4), object(29)\n",
      "memory usage: 3.2+ GB\n"
     ]
    }
   ],
   "source": [
    "# about 2m 10s\n",
    "file_name = '[ODS][G3]등록정보&제원정보(말소제거)(중복차대제거)(한글컬럼)(2022.12.29).csv'\n",
    "car_path = os.path.join(ods_fold, file_name)\n",
    "car3 = pd.read_csv(car_path, low_memory=False)\n",
    "car3.info()"
   ]
  },
  {
   "cell_type": "code",
   "execution_count": 44,
   "metadata": {},
   "outputs": [
    {
     "data": {
      "text/plain": [
       "(4790, 49)"
      ]
     },
     "execution_count": 44,
     "metadata": {},
     "output_type": "execute_result"
    }
   ],
   "source": [
    "emis_no = '8MY-KM-13-19'\n",
    "cond2 = car3[car3['배출가스인증번호'] == emis_no]\n",
    "cond2.shape"
   ]
  },
  {
   "cell_type": "code",
   "execution_count": 45,
   "metadata": {},
   "outputs": [
    {
     "data": {
      "text/plain": [
       "array(['봉고Ⅲ 1톤', '봉고Ⅲ 파워게이트'], dtype=object)"
      ]
     },
     "execution_count": 45,
     "metadata": {},
     "output_type": "execute_result"
    }
   ],
   "source": [
    "cond2['차명'].unique()"
   ]
  },
  {
   "cell_type": "code",
   "execution_count": 54,
   "metadata": {},
   "outputs": [
    {
     "data": {
      "text/plain": [
       "(4600, 49)"
      ]
     },
     "execution_count": 54,
     "metadata": {},
     "output_type": "execute_result"
    }
   ],
   "source": [
    "car3[(car3['배출가스인증번호'] == emis_no) & (car3['차명'] == '봉고Ⅲ 1톤')].shape"
   ]
  },
  {
   "cell_type": "code",
   "execution_count": 60,
   "metadata": {},
   "outputs": [
    {
     "data": {
      "text/plain": [
       "array(['KNCSJZ74AAK481682', 'KNFSE04429K373147', 'KNCSGX74BBK538164', ...,\n",
       "       'KN90J4MDD9AZ00006', 'KNFSE04429K349821', 'KNFSE04429K349853'],\n",
       "      dtype=object)"
      ]
     },
     "execution_count": 60,
     "metadata": {},
     "output_type": "execute_result"
    }
   ],
   "source": [
    "cond2['차대번호'].unique()"
   ]
  },
  {
   "attachments": {},
   "cell_type": "markdown",
   "metadata": {},
   "source": [
    "### [로드] [G4]정기, 정밀"
   ]
  },
  {
   "cell_type": "code",
   "execution_count": 29,
   "metadata": {},
   "outputs": [
    {
     "name": "stdout",
     "output_type": "stream",
     "text": [
      "<class 'pandas.core.frame.DataFrame'>\n",
      "RangeIndex: 2563244 entries, 0 to 2563243\n",
      "Data columns (total 39 columns):\n",
      " #   Column     Dtype  \n",
      "---  ------     -----  \n",
      " 0   차대번호       object \n",
      " 1   사용연료       object \n",
      " 2   주행거리       float64\n",
      " 3   차명         object \n",
      " 4   차량번호       object \n",
      " 5   차종         object \n",
      " 6   차량연식       float64\n",
      " 7   검사방법       object \n",
      " 8   이산화탄소값     float64\n",
      " 9   최대출력허용치    float64\n",
      " 10  최대출력측정값    float64\n",
      " 11  엔진형식       object \n",
      " 12  검사접수번호     object \n",
      " 13  정기검사일자     float64\n",
      " 14  검사종류       object \n",
      " 15  검사소명       object \n",
      " 16  검사판정시각     object \n",
      " 17  정기검사판정     object \n",
      " 18  산소값        float64\n",
      " 19  재검사기간      object \n",
      " 20  무부하매연판정1   object \n",
      " 21  무부하매연판정2   object \n",
      " 22  무부하매연판정3   object \n",
      " 23  무부하매연판정4   object \n",
      " 24  무부하매연판정5   object \n",
      " 25  무부하매연판정6   object \n",
      " 26  무부하매연허용치1  float64\n",
      " 27  무부하매연허용치2  float64\n",
      " 28  무부하매연허용치3  float64\n",
      " 29  무부하매연허용치4  float64\n",
      " 30  무부하매연허용치5  float64\n",
      " 31  무부하매연허용치6  float64\n",
      " 32  무부하매연측정치1  float64\n",
      " 33  무부하매연측정치2  float64\n",
      " 34  무부하매연측정치3  float64\n",
      " 35  무부하매연측정치4  float64\n",
      " 36  무부하매연측정치5  float64\n",
      " 37  무부하매연측정치6  float64\n",
      " 38  차량용도       object \n",
      "dtypes: float64(19), object(20)\n",
      "memory usage: 762.7+ MB\n"
     ]
    }
   ],
   "source": [
    "# about 14s\n",
    "grade = 4\n",
    "file_name = f'[ODS][G{grade}]정기검사(말소제거)(2022.12.29).csv'\n",
    "ins4_path = os.path.join(ods_fold, file_name)\n",
    "ins4 = pd.read_csv(ins4_path, low_memory=False)\n",
    "ins4.info()"
   ]
  },
  {
   "cell_type": "code",
   "execution_count": 30,
   "metadata": {},
   "outputs": [
    {
     "name": "stdout",
     "output_type": "stream",
     "text": [
      "<class 'pandas.core.frame.DataFrame'>\n",
      "RangeIndex: 3431740 entries, 0 to 3431739\n",
      "Data columns (total 41 columns):\n",
      " #   Column      Dtype  \n",
      "---  ------      -----  \n",
      " 0   차대번호        object \n",
      " 1   사용연료        object \n",
      " 2   주행거리        float64\n",
      " 3   차명          object \n",
      " 4   차량번호        object \n",
      " 5   차종          object \n",
      " 6   차량연식        float64\n",
      " 7   정밀검사 검사소코드  object \n",
      " 8   이산화탄소값      float64\n",
      " 9   최대출력허용치     float64\n",
      " 10  최대출력측정값     float64\n",
      " 11  엔진형식        object \n",
      " 12  산소값         float64\n",
      " 13  재검사기간       object \n",
      " 14  정밀검사일자      float64\n",
      " 15  정밀검사판정      object \n",
      " 16  정밀검사측정방법    object \n",
      " 17  정밀검사소명      object \n",
      " 18  정밀검사접수번호    object \n",
      " 19  정밀검사종류      object \n",
      " 20  정밀검사시각정보    object \n",
      " 21  무부하매연판정1    object \n",
      " 22  무부하매연판정2    object \n",
      " 23  무부하매연판정3    object \n",
      " 24  무부하매연판정4    object \n",
      " 25  무부하매연판정5    object \n",
      " 26  무부하매연판정6    object \n",
      " 27  무부하매연허용치1   float64\n",
      " 28  무부하매연허용치2   float64\n",
      " 29  무부하매연허용치3   float64\n",
      " 30  무부하매연허용치4   float64\n",
      " 31  무부하매연허용치5   float64\n",
      " 32  무부하매연허용치6   float64\n",
      " 33  무부하매연측정치1   float64\n",
      " 34  무부하매연측정치2   float64\n",
      " 35  무부하매연측정치3   float64\n",
      " 36  무부하매연측정치4   float64\n",
      " 37  무부하매연측정치5   float64\n",
      " 38  무부하매연측정치6   float64\n",
      " 39  차량용도        object \n",
      " 40  정밀검사유효기간    float64\n",
      "dtypes: float64(20), object(21)\n",
      "memory usage: 1.0+ GB\n"
     ]
    }
   ],
   "source": [
    "# about 28s\n",
    "file_name = f'[ODS][G{grade}]정밀검사(말소제거)(2022.12.29).csv'\n",
    "dins4_path = os.path.join(ods_fold, file_name)\n",
    "dins4 = pd.read_csv(dins4_path, low_memory=False)\n",
    "dins4.info()"
   ]
  },
  {
   "attachments": {},
   "cell_type": "markdown",
   "metadata": {},
   "source": [
    "### [로드] [G3]정기, 정밀"
   ]
  },
  {
   "cell_type": "code",
   "execution_count": 31,
   "metadata": {},
   "outputs": [
    {
     "name": "stdout",
     "output_type": "stream",
     "text": [
      "<class 'pandas.core.frame.DataFrame'>\n",
      "RangeIndex: 12885150 entries, 0 to 12885149\n",
      "Data columns (total 39 columns):\n",
      " #   Column     Dtype  \n",
      "---  ------     -----  \n",
      " 0   차대번호       object \n",
      " 1   사용연료       object \n",
      " 2   주행거리       float64\n",
      " 3   차명         object \n",
      " 4   차량번호       object \n",
      " 5   차종         object \n",
      " 6   차량연식       float64\n",
      " 7   검사방법       object \n",
      " 8   이산화탄소값     float64\n",
      " 9   최대출력허용치    float64\n",
      " 10  최대출력측정값    float64\n",
      " 11  엔진형식       object \n",
      " 12  검사접수번호     object \n",
      " 13  정기검사일자     float64\n",
      " 14  검사종류       object \n",
      " 15  검사소명       object \n",
      " 16  검사판정시각     object \n",
      " 17  정기검사판정     object \n",
      " 18  산소값        float64\n",
      " 19  재검사기간      object \n",
      " 20  무부하매연판정1   object \n",
      " 21  무부하매연판정2   object \n",
      " 22  무부하매연판정3   object \n",
      " 23  무부하매연판정4   object \n",
      " 24  무부하매연판정5   object \n",
      " 25  무부하매연판정6   object \n",
      " 26  무부하매연허용치1  float64\n",
      " 27  무부하매연허용치2  float64\n",
      " 28  무부하매연허용치3  float64\n",
      " 29  무부하매연허용치4  float64\n",
      " 30  무부하매연허용치5  float64\n",
      " 31  무부하매연허용치6  float64\n",
      " 32  무부하매연측정치1  float64\n",
      " 33  무부하매연측정치2  float64\n",
      " 34  무부하매연측정치3  float64\n",
      " 35  무부하매연측정치4  float64\n",
      " 36  무부하매연측정치5  float64\n",
      " 37  무부하매연측정치6  float64\n",
      " 38  차량용도       object \n",
      "dtypes: float64(19), object(20)\n",
      "memory usage: 3.7+ GB\n"
     ]
    }
   ],
   "source": [
    "# about 1m 27s\n",
    "grade = 3\n",
    "file_name = f'[ODS][G{grade}]정기검사(말소제거)(2022.12.29).csv'\n",
    "ins3_path = os.path.join(ods_fold, file_name)\n",
    "ins3 = pd.read_csv(ins3_path, low_memory=False)\n",
    "ins3.info()"
   ]
  },
  {
   "cell_type": "code",
   "execution_count": 91,
   "metadata": {},
   "outputs": [
    {
     "data": {
      "text/plain": [
       "차대번호                0\n",
       "사용연료          3876659\n",
       "주행거리          3885288\n",
       "차명            3876651\n",
       "차량번호          3876651\n",
       "차종            3876651\n",
       "차량연식          3876651\n",
       "검사방법          3876651\n",
       "이산화탄소값       12433353\n",
       "최대출력허용치      12885150\n",
       "최대출력측정값      12885150\n",
       "엔진형식          3876661\n",
       "검사접수번호        3876651\n",
       "정기검사일자        3876651\n",
       "검사종류          3876651\n",
       "검사소명          3876651\n",
       "검사판정시각        3876651\n",
       "정기검사판정        3876651\n",
       "산소값          12488840\n",
       "재검사기간         3876651\n",
       "무부하매연판정1      3957315\n",
       "무부하매연판정2     12429514\n",
       "무부하매연판정3     12429518\n",
       "무부하매연판정4     12496983\n",
       "무부하매연판정5     12496983\n",
       "무부하매연판정6     12496983\n",
       "무부하매연허용치1     3957315\n",
       "무부하매연허용치2    12429514\n",
       "무부하매연허용치3    12429518\n",
       "무부하매연허용치4    12496983\n",
       "무부하매연허용치5    12496983\n",
       "무부하매연허용치6    12496983\n",
       "무부하매연측정치1     3957315\n",
       "무부하매연측정치2    12429514\n",
       "무부하매연측정치3    12429514\n",
       "무부하매연측정치4    12496983\n",
       "무부하매연측정치5    12496983\n",
       "무부하매연측정치6    12496983\n",
       "차량용도          3876651\n",
       "dtype: int64"
      ]
     },
     "execution_count": 91,
     "metadata": {},
     "output_type": "execute_result"
    }
   ],
   "source": [
    "ins3.isnull().sum()"
   ]
  },
  {
   "cell_type": "code",
   "execution_count": 32,
   "metadata": {},
   "outputs": [
    {
     "name": "stdout",
     "output_type": "stream",
     "text": [
      "<class 'pandas.core.frame.DataFrame'>\n",
      "RangeIndex: 13612266 entries, 0 to 13612265\n",
      "Data columns (total 41 columns):\n",
      " #   Column      Dtype  \n",
      "---  ------      -----  \n",
      " 0   차대번호        object \n",
      " 1   사용연료        object \n",
      " 2   주행거리        float64\n",
      " 3   차명          object \n",
      " 4   차량번호        object \n",
      " 5   차종          object \n",
      " 6   차량연식        float64\n",
      " 7   정밀검사 검사소코드  object \n",
      " 8   이산화탄소값      float64\n",
      " 9   최대출력허용치     float64\n",
      " 10  최대출력측정값     float64\n",
      " 11  엔진형식        object \n",
      " 12  산소값         float64\n",
      " 13  재검사기간       object \n",
      " 14  정밀검사일자      float64\n",
      " 15  정밀검사판정      object \n",
      " 16  정밀검사측정방법    object \n",
      " 17  정밀검사소명      object \n",
      " 18  정밀검사접수번호    object \n",
      " 19  정밀검사종류      object \n",
      " 20  정밀검사시각정보    object \n",
      " 21  무부하매연판정1    object \n",
      " 22  무부하매연판정2    object \n",
      " 23  무부하매연판정3    object \n",
      " 24  무부하매연판정4    object \n",
      " 25  무부하매연판정5    object \n",
      " 26  무부하매연판정6    object \n",
      " 27  무부하매연허용치1   float64\n",
      " 28  무부하매연허용치2   float64\n",
      " 29  무부하매연허용치3   float64\n",
      " 30  무부하매연허용치4   float64\n",
      " 31  무부하매연허용치5   float64\n",
      " 32  무부하매연허용치6   float64\n",
      " 33  무부하매연측정치1   float64\n",
      " 34  무부하매연측정치2   float64\n",
      " 35  무부하매연측정치3   float64\n",
      " 36  무부하매연측정치4   float64\n",
      " 37  무부하매연측정치5   float64\n",
      " 38  무부하매연측정치6   float64\n",
      " 39  차량용도        object \n",
      " 40  정밀검사유효기간    float64\n",
      "dtypes: float64(20), object(21)\n",
      "memory usage: 4.2+ GB\n"
     ]
    }
   ],
   "source": [
    "# about 1m 55s\n",
    "file_name = f'[ODS][G{grade}]정밀검사(말소제거)(2022.12.29).csv'\n",
    "dins3_path = os.path.join(ods_fold, file_name)\n",
    "dins3 = pd.read_csv(dins3_path, low_memory=False)\n",
    "dins3.info()"
   ]
  },
  {
   "cell_type": "code",
   "execution_count": 92,
   "metadata": {},
   "outputs": [
    {
     "data": {
      "text/plain": [
       "차대번호                 0\n",
       "사용연료           3699657\n",
       "주행거리           3699657\n",
       "차명             3699657\n",
       "차량번호           3699657\n",
       "차종             3699657\n",
       "차량연식           3699657\n",
       "정밀검사 검사소코드     3699657\n",
       "이산화탄소값         4316545\n",
       "최대출력허용치       12253355\n",
       "최대출력측정값       13612266\n",
       "엔진형식           3699709\n",
       "산소값            4316545\n",
       "재검사기간          3699657\n",
       "정밀검사일자         3699657\n",
       "정밀검사판정         3699657\n",
       "정밀검사측정방법       3699657\n",
       "정밀검사소명         3699657\n",
       "정밀검사접수번호       3699657\n",
       "정밀검사종류         3699657\n",
       "정밀검사시각정보       3890395\n",
       "무부하매연판정1       3890534\n",
       "무부하매연판정2      11080678\n",
       "무부하매연판정3      11261117\n",
       "무부하매연판정4      11261380\n",
       "무부하매연판정5      11261380\n",
       "무부하매연판정6      11949035\n",
       "무부하매연허용치1      3890516\n",
       "무부하매연허용치2      8124221\n",
       "무부하매연허용치3      8230092\n",
       "무부하매연허용치4      8230178\n",
       "무부하매연허용치5      8230178\n",
       "무부하매연허용치6      8717959\n",
       "무부하매연측정치1      3890395\n",
       "무부하매연측정치2      7573502\n",
       "무부하매연측정치3      8229954\n",
       "무부하매연측정치4      8230040\n",
       "무부하매연측정치5      8230040\n",
       "무부하매연측정치6      8717929\n",
       "차량용도           3699657\n",
       "정밀검사유효기간       3699682\n",
       "dtype: int64"
      ]
     },
     "execution_count": 92,
     "metadata": {},
     "output_type": "execute_result"
    }
   ],
   "source": [
    "dins3.isnull().sum()"
   ]
  },
  {
   "attachments": {},
   "cell_type": "markdown",
   "metadata": {},
   "source": [
    "### [로드] 정기검사"
   ]
  },
  {
   "attachments": {},
   "cell_type": "markdown",
   "metadata": {},
   "source": [
    "#### columns"
   ]
  },
  {
   "cell_type": "code",
   "execution_count": 11,
   "metadata": {},
   "outputs": [],
   "source": [
    "file_name = 'TB_JGT_HIS'\n",
    "col_exc = pd.read_excel(f'analysis/ODSvsSTD/[정제]{file_name}.xlsx', sheet_name='ODS_col')"
   ]
  },
  {
   "cell_type": "code",
   "execution_count": 12,
   "metadata": {},
   "outputs": [
    {
     "data": {
      "text/html": [
       "<div>\n",
       "<style scoped>\n",
       "    .dataframe tbody tr th:only-of-type {\n",
       "        vertical-align: middle;\n",
       "    }\n",
       "\n",
       "    .dataframe tbody tr th {\n",
       "        vertical-align: top;\n",
       "    }\n",
       "\n",
       "    .dataframe thead th {\n",
       "        text-align: right;\n",
       "    }\n",
       "</style>\n",
       "<table border=\"1\" class=\"dataframe\">\n",
       "  <thead>\n",
       "    <tr style=\"text-align: right;\">\n",
       "      <th></th>\n",
       "      <th>컬럼</th>\n",
       "      <th>내용</th>\n",
       "    </tr>\n",
       "  </thead>\n",
       "  <tbody>\n",
       "    <tr>\n",
       "      <th>0</th>\n",
       "      <td>CAR_FUEL_NM</td>\n",
       "      <td>사용연료</td>\n",
       "    </tr>\n",
       "    <tr>\n",
       "      <th>1</th>\n",
       "      <td>CAR_MILE</td>\n",
       "      <td>주행거리</td>\n",
       "    </tr>\n",
       "    <tr>\n",
       "      <th>2</th>\n",
       "      <td>CAR_NM</td>\n",
       "      <td>차명</td>\n",
       "    </tr>\n",
       "    <tr>\n",
       "      <th>3</th>\n",
       "      <td>CAR_REG_NO</td>\n",
       "      <td>차량번호</td>\n",
       "    </tr>\n",
       "    <tr>\n",
       "      <th>4</th>\n",
       "      <td>CAR_SER_NO</td>\n",
       "      <td>차대번호</td>\n",
       "    </tr>\n",
       "    <tr>\n",
       "      <th>...</th>\n",
       "      <td>...</td>\n",
       "      <td>...</td>\n",
       "    </tr>\n",
       "    <tr>\n",
       "      <th>58</th>\n",
       "      <td>FUN_CHKR_NM</td>\n",
       "      <td>미정</td>\n",
       "    </tr>\n",
       "    <tr>\n",
       "      <th>59</th>\n",
       "      <td>SMO_CHKR_NM</td>\n",
       "      <td>미정</td>\n",
       "    </tr>\n",
       "    <tr>\n",
       "      <th>60</th>\n",
       "      <td>MNG_CHKR_NM</td>\n",
       "      <td>미정</td>\n",
       "    </tr>\n",
       "    <tr>\n",
       "      <th>61</th>\n",
       "      <td>DT_GUBUN</td>\n",
       "      <td>미정</td>\n",
       "    </tr>\n",
       "    <tr>\n",
       "      <th>62</th>\n",
       "      <td>FILE_NM</td>\n",
       "      <td>미정</td>\n",
       "    </tr>\n",
       "  </tbody>\n",
       "</table>\n",
       "<p>63 rows × 2 columns</p>\n",
       "</div>"
      ],
      "text/plain": [
       "             컬럼    내용\n",
       "0   CAR_FUEL_NM  사용연료\n",
       "1      CAR_MILE  주행거리\n",
       "2        CAR_NM    차명\n",
       "3    CAR_REG_NO  차량번호\n",
       "4    CAR_SER_NO  차대번호\n",
       "..          ...   ...\n",
       "58  FUN_CHKR_NM    미정\n",
       "59  SMO_CHKR_NM    미정\n",
       "60  MNG_CHKR_NM    미정\n",
       "61     DT_GUBUN    미정\n",
       "62      FILE_NM    미정\n",
       "\n",
       "[63 rows x 2 columns]"
      ]
     },
     "execution_count": 12,
     "metadata": {},
     "output_type": "execute_result"
    }
   ],
   "source": [
    "col_exc"
   ]
  },
  {
   "cell_type": "code",
   "execution_count": 13,
   "metadata": {},
   "outputs": [
    {
     "data": {
      "text/plain": [
       "['사용연료',\n",
       " '주행거리',\n",
       " '차명',\n",
       " '차량번호',\n",
       " '차대번호',\n",
       " '차종',\n",
       " '차량연식',\n",
       " '검사방법',\n",
       " '이산화탄소값',\n",
       " '최대출력허용치',\n",
       " '최대출력측정값',\n",
       " '엔진형식',\n",
       " '검사접수번호',\n",
       " '정기검사일자',\n",
       " '검사종류',\n",
       " '검사소명',\n",
       " '검사판정시각',\n",
       " '정기검사판정',\n",
       " '산소값',\n",
       " '재검사기간',\n",
       " '무부하매연판정1',\n",
       " '무부하매연판정2',\n",
       " '무부하매연판정3',\n",
       " '무부하매연판정4',\n",
       " '무부하매연판정5',\n",
       " '무부하매연판정6',\n",
       " '무부하매연허용치1',\n",
       " '무부하매연허용치2',\n",
       " '무부하매연허용치3',\n",
       " '무부하매연허용치4',\n",
       " '무부하매연허용치5',\n",
       " '무부하매연허용치6',\n",
       " '무부하매연측정치1',\n",
       " '무부하매연측정치2',\n",
       " '무부하매연측정치3',\n",
       " '무부하매연측정치4',\n",
       " '무부하매연측정치5',\n",
       " '무부하매연측정치6',\n",
       " '차량용도',\n",
       " '미정',\n",
       " '미정',\n",
       " '미정',\n",
       " '미정',\n",
       " '미정',\n",
       " '미정',\n",
       " '미정',\n",
       " '미정',\n",
       " '미정',\n",
       " '미정',\n",
       " '미정',\n",
       " '미정',\n",
       " '미정',\n",
       " '미정',\n",
       " '미정',\n",
       " '미정',\n",
       " '미정',\n",
       " '미정',\n",
       " '미정',\n",
       " '미정',\n",
       " '미정',\n",
       " '미정',\n",
       " '미정',\n",
       " '미정']"
      ]
     },
     "execution_count": 13,
     "metadata": {},
     "output_type": "execute_result"
    }
   ],
   "source": [
    "col_exc['내용'].to_list()"
   ]
  },
  {
   "cell_type": "code",
   "execution_count": 14,
   "metadata": {},
   "outputs": [
    {
     "data": {
      "text/html": [
       "<div>\n",
       "<style scoped>\n",
       "    .dataframe tbody tr th:only-of-type {\n",
       "        vertical-align: middle;\n",
       "    }\n",
       "\n",
       "    .dataframe tbody tr th {\n",
       "        vertical-align: top;\n",
       "    }\n",
       "\n",
       "    .dataframe thead th {\n",
       "        text-align: right;\n",
       "    }\n",
       "</style>\n",
       "<table border=\"1\" class=\"dataframe\">\n",
       "  <thead>\n",
       "    <tr style=\"text-align: right;\">\n",
       "      <th></th>\n",
       "      <th>컬럼</th>\n",
       "      <th>내용</th>\n",
       "    </tr>\n",
       "  </thead>\n",
       "  <tbody>\n",
       "    <tr>\n",
       "      <th>0</th>\n",
       "      <td>CAR_FUEL_NM</td>\n",
       "      <td>사용연료</td>\n",
       "    </tr>\n",
       "    <tr>\n",
       "      <th>1</th>\n",
       "      <td>CAR_MILE</td>\n",
       "      <td>주행거리</td>\n",
       "    </tr>\n",
       "    <tr>\n",
       "      <th>2</th>\n",
       "      <td>CAR_NM</td>\n",
       "      <td>차명</td>\n",
       "    </tr>\n",
       "    <tr>\n",
       "      <th>3</th>\n",
       "      <td>CAR_REG_NO</td>\n",
       "      <td>차량번호</td>\n",
       "    </tr>\n",
       "    <tr>\n",
       "      <th>4</th>\n",
       "      <td>CAR_SER_NO</td>\n",
       "      <td>차대번호</td>\n",
       "    </tr>\n",
       "    <tr>\n",
       "      <th>5</th>\n",
       "      <td>CAR_TYPE_NM</td>\n",
       "      <td>차종</td>\n",
       "    </tr>\n",
       "    <tr>\n",
       "      <th>6</th>\n",
       "      <td>CAR_YEAR</td>\n",
       "      <td>차량연식</td>\n",
       "    </tr>\n",
       "    <tr>\n",
       "      <th>7</th>\n",
       "      <td>CHK_METHOD</td>\n",
       "      <td>검사방법</td>\n",
       "    </tr>\n",
       "    <tr>\n",
       "      <th>8</th>\n",
       "      <td>CO2_VAL</td>\n",
       "      <td>이산화탄소값</td>\n",
       "    </tr>\n",
       "    <tr>\n",
       "      <th>9</th>\n",
       "      <td>ENGINE_TOR_LIM</td>\n",
       "      <td>최대출력허용치</td>\n",
       "    </tr>\n",
       "    <tr>\n",
       "      <th>10</th>\n",
       "      <td>ENGINE_TOR_VAL</td>\n",
       "      <td>최대출력측정값</td>\n",
       "    </tr>\n",
       "    <tr>\n",
       "      <th>11</th>\n",
       "      <td>ENGINE_TYPE</td>\n",
       "      <td>엔진형식</td>\n",
       "    </tr>\n",
       "    <tr>\n",
       "      <th>12</th>\n",
       "      <td>JEBSU_NO</td>\n",
       "      <td>검사접수번호</td>\n",
       "    </tr>\n",
       "    <tr>\n",
       "      <th>13</th>\n",
       "      <td>JG_CHK_DATE</td>\n",
       "      <td>정기검사일자</td>\n",
       "    </tr>\n",
       "    <tr>\n",
       "      <th>14</th>\n",
       "      <td>JG_CHK_TYPE</td>\n",
       "      <td>검사종류</td>\n",
       "    </tr>\n",
       "    <tr>\n",
       "      <th>15</th>\n",
       "      <td>JG_ORG_NM</td>\n",
       "      <td>검사소명</td>\n",
       "    </tr>\n",
       "    <tr>\n",
       "      <th>16</th>\n",
       "      <td>JUDGE_DATE</td>\n",
       "      <td>검사판정시각</td>\n",
       "    </tr>\n",
       "    <tr>\n",
       "      <th>17</th>\n",
       "      <td>JUDGE_YN</td>\n",
       "      <td>정기검사판정</td>\n",
       "    </tr>\n",
       "    <tr>\n",
       "      <th>18</th>\n",
       "      <td>O2_VAL</td>\n",
       "      <td>산소값</td>\n",
       "    </tr>\n",
       "    <tr>\n",
       "      <th>19</th>\n",
       "      <td>RE_CHK_DATE</td>\n",
       "      <td>재검사기간</td>\n",
       "    </tr>\n",
       "    <tr>\n",
       "      <th>20</th>\n",
       "      <td>UNLOAD_SMO_JUDGE1</td>\n",
       "      <td>무부하매연판정1</td>\n",
       "    </tr>\n",
       "    <tr>\n",
       "      <th>21</th>\n",
       "      <td>UNLOAD_SMO_JUDGE2</td>\n",
       "      <td>무부하매연판정2</td>\n",
       "    </tr>\n",
       "    <tr>\n",
       "      <th>22</th>\n",
       "      <td>UNLOAD_SMO_JUDGE3</td>\n",
       "      <td>무부하매연판정3</td>\n",
       "    </tr>\n",
       "    <tr>\n",
       "      <th>23</th>\n",
       "      <td>UNLOAD_SMO_JUDGE4</td>\n",
       "      <td>무부하매연판정4</td>\n",
       "    </tr>\n",
       "    <tr>\n",
       "      <th>24</th>\n",
       "      <td>UNLOAD_SMO_JUDGE5</td>\n",
       "      <td>무부하매연판정5</td>\n",
       "    </tr>\n",
       "    <tr>\n",
       "      <th>25</th>\n",
       "      <td>UNLOAD_SMO_JUDGE6</td>\n",
       "      <td>무부하매연판정6</td>\n",
       "    </tr>\n",
       "    <tr>\n",
       "      <th>26</th>\n",
       "      <td>UNLOAD_SMO_LIM1</td>\n",
       "      <td>무부하매연허용치1</td>\n",
       "    </tr>\n",
       "    <tr>\n",
       "      <th>27</th>\n",
       "      <td>UNLOAD_SMO_LIM2</td>\n",
       "      <td>무부하매연허용치2</td>\n",
       "    </tr>\n",
       "    <tr>\n",
       "      <th>28</th>\n",
       "      <td>UNLOAD_SMO_LIM3</td>\n",
       "      <td>무부하매연허용치3</td>\n",
       "    </tr>\n",
       "    <tr>\n",
       "      <th>29</th>\n",
       "      <td>UNLOAD_SMO_LIM4</td>\n",
       "      <td>무부하매연허용치4</td>\n",
       "    </tr>\n",
       "    <tr>\n",
       "      <th>30</th>\n",
       "      <td>UNLOAD_SMO_LIM5</td>\n",
       "      <td>무부하매연허용치5</td>\n",
       "    </tr>\n",
       "    <tr>\n",
       "      <th>31</th>\n",
       "      <td>UNLOAD_SMO_LIM6</td>\n",
       "      <td>무부하매연허용치6</td>\n",
       "    </tr>\n",
       "    <tr>\n",
       "      <th>32</th>\n",
       "      <td>UNLOAD_SMO_VAL1</td>\n",
       "      <td>무부하매연측정치1</td>\n",
       "    </tr>\n",
       "    <tr>\n",
       "      <th>33</th>\n",
       "      <td>UNLOAD_SMO_VAL2</td>\n",
       "      <td>무부하매연측정치2</td>\n",
       "    </tr>\n",
       "    <tr>\n",
       "      <th>34</th>\n",
       "      <td>UNLOAD_SMO_VAL3</td>\n",
       "      <td>무부하매연측정치3</td>\n",
       "    </tr>\n",
       "    <tr>\n",
       "      <th>35</th>\n",
       "      <td>UNLOAD_SMO_VAL4</td>\n",
       "      <td>무부하매연측정치4</td>\n",
       "    </tr>\n",
       "    <tr>\n",
       "      <th>36</th>\n",
       "      <td>UNLOAD_SMO_VAL5</td>\n",
       "      <td>무부하매연측정치5</td>\n",
       "    </tr>\n",
       "    <tr>\n",
       "      <th>37</th>\n",
       "      <td>UNLOAD_SMO_VAL6</td>\n",
       "      <td>무부하매연측정치6</td>\n",
       "    </tr>\n",
       "    <tr>\n",
       "      <th>38</th>\n",
       "      <td>USAGE</td>\n",
       "      <td>차량용도</td>\n",
       "    </tr>\n",
       "  </tbody>\n",
       "</table>\n",
       "</div>"
      ],
      "text/plain": [
       "                   컬럼         내용\n",
       "0         CAR_FUEL_NM       사용연료\n",
       "1            CAR_MILE       주행거리\n",
       "2              CAR_NM         차명\n",
       "3          CAR_REG_NO       차량번호\n",
       "4          CAR_SER_NO       차대번호\n",
       "5         CAR_TYPE_NM         차종\n",
       "6            CAR_YEAR       차량연식\n",
       "7          CHK_METHOD       검사방법\n",
       "8             CO2_VAL     이산화탄소값\n",
       "9      ENGINE_TOR_LIM    최대출력허용치\n",
       "10     ENGINE_TOR_VAL    최대출력측정값\n",
       "11        ENGINE_TYPE       엔진형식\n",
       "12           JEBSU_NO     검사접수번호\n",
       "13        JG_CHK_DATE     정기검사일자\n",
       "14        JG_CHK_TYPE       검사종류\n",
       "15          JG_ORG_NM       검사소명\n",
       "16         JUDGE_DATE     검사판정시각\n",
       "17           JUDGE_YN     정기검사판정\n",
       "18             O2_VAL        산소값\n",
       "19        RE_CHK_DATE      재검사기간\n",
       "20  UNLOAD_SMO_JUDGE1   무부하매연판정1\n",
       "21  UNLOAD_SMO_JUDGE2   무부하매연판정2\n",
       "22  UNLOAD_SMO_JUDGE3   무부하매연판정3\n",
       "23  UNLOAD_SMO_JUDGE4   무부하매연판정4\n",
       "24  UNLOAD_SMO_JUDGE5   무부하매연판정5\n",
       "25  UNLOAD_SMO_JUDGE6   무부하매연판정6\n",
       "26    UNLOAD_SMO_LIM1  무부하매연허용치1\n",
       "27    UNLOAD_SMO_LIM2  무부하매연허용치2\n",
       "28    UNLOAD_SMO_LIM3  무부하매연허용치3\n",
       "29    UNLOAD_SMO_LIM4  무부하매연허용치4\n",
       "30    UNLOAD_SMO_LIM5  무부하매연허용치5\n",
       "31    UNLOAD_SMO_LIM6  무부하매연허용치6\n",
       "32    UNLOAD_SMO_VAL1  무부하매연측정치1\n",
       "33    UNLOAD_SMO_VAL2  무부하매연측정치2\n",
       "34    UNLOAD_SMO_VAL3  무부하매연측정치3\n",
       "35    UNLOAD_SMO_VAL4  무부하매연측정치4\n",
       "36    UNLOAD_SMO_VAL5  무부하매연측정치5\n",
       "37    UNLOAD_SMO_VAL6  무부하매연측정치6\n",
       "38              USAGE       차량용도"
      ]
     },
     "execution_count": 14,
     "metadata": {},
     "output_type": "execute_result"
    }
   ],
   "source": [
    "col_exc = col_exc.loc[:38]\n",
    "col_exc"
   ]
  },
  {
   "cell_type": "code",
   "execution_count": 15,
   "metadata": {},
   "outputs": [
    {
     "data": {
      "text/plain": [
       "['CAR_FUEL_NM',\n",
       " 'CAR_MILE',\n",
       " 'CAR_NM',\n",
       " 'CAR_REG_NO',\n",
       " 'CAR_SER_NO',\n",
       " 'CAR_TYPE_NM',\n",
       " 'CAR_YEAR',\n",
       " 'CHK_METHOD',\n",
       " 'CO2_VAL',\n",
       " 'ENGINE_TOR_LIM',\n",
       " 'ENGINE_TOR_VAL',\n",
       " 'ENGINE_TYPE',\n",
       " 'JEBSU_NO',\n",
       " 'JG_CHK_DATE',\n",
       " 'JG_CHK_TYPE',\n",
       " 'JG_ORG_NM',\n",
       " 'JUDGE_DATE',\n",
       " 'JUDGE_YN',\n",
       " 'O2_VAL',\n",
       " 'RE_CHK_DATE',\n",
       " 'UNLOAD_SMO_JUDGE1',\n",
       " 'UNLOAD_SMO_JUDGE2',\n",
       " 'UNLOAD_SMO_JUDGE3',\n",
       " 'UNLOAD_SMO_JUDGE4',\n",
       " 'UNLOAD_SMO_JUDGE5',\n",
       " 'UNLOAD_SMO_JUDGE6',\n",
       " 'UNLOAD_SMO_LIM1',\n",
       " 'UNLOAD_SMO_LIM2',\n",
       " 'UNLOAD_SMO_LIM3',\n",
       " 'UNLOAD_SMO_LIM4',\n",
       " 'UNLOAD_SMO_LIM5',\n",
       " 'UNLOAD_SMO_LIM6',\n",
       " 'UNLOAD_SMO_VAL1',\n",
       " 'UNLOAD_SMO_VAL2',\n",
       " 'UNLOAD_SMO_VAL3',\n",
       " 'UNLOAD_SMO_VAL4',\n",
       " 'UNLOAD_SMO_VAL5',\n",
       " 'UNLOAD_SMO_VAL6',\n",
       " 'USAGE']"
      ]
     },
     "execution_count": 15,
     "metadata": {},
     "output_type": "execute_result"
    }
   ],
   "source": [
    "col = col_exc['컬럼'].to_list()\n",
    "col"
   ]
  },
  {
   "cell_type": "code",
   "execution_count": 16,
   "metadata": {},
   "outputs": [
    {
     "data": {
      "text/plain": [
       "['사용연료',\n",
       " '주행거리',\n",
       " '차명',\n",
       " '차량번호',\n",
       " '차대번호',\n",
       " '차종',\n",
       " '차량연식',\n",
       " '검사방법',\n",
       " '이산화탄소값',\n",
       " '최대출력허용치',\n",
       " '최대출력측정값',\n",
       " '엔진형식',\n",
       " '검사접수번호',\n",
       " '정기검사일자',\n",
       " '검사종류',\n",
       " '검사소명',\n",
       " '검사판정시각',\n",
       " '정기검사판정',\n",
       " '산소값',\n",
       " '재검사기간',\n",
       " '무부하매연판정1',\n",
       " '무부하매연판정2',\n",
       " '무부하매연판정3',\n",
       " '무부하매연판정4',\n",
       " '무부하매연판정5',\n",
       " '무부하매연판정6',\n",
       " '무부하매연허용치1',\n",
       " '무부하매연허용치2',\n",
       " '무부하매연허용치3',\n",
       " '무부하매연허용치4',\n",
       " '무부하매연허용치5',\n",
       " '무부하매연허용치6',\n",
       " '무부하매연측정치1',\n",
       " '무부하매연측정치2',\n",
       " '무부하매연측정치3',\n",
       " '무부하매연측정치4',\n",
       " '무부하매연측정치5',\n",
       " '무부하매연측정치6',\n",
       " '차량용도']"
      ]
     },
     "execution_count": 16,
     "metadata": {},
     "output_type": "execute_result"
    }
   ],
   "source": [
    "# 필요한 컬럼만 추출\n",
    "sel_col = col_exc['내용'].to_list()\n",
    "sel_col"
   ]
  },
  {
   "attachments": {},
   "cell_type": "markdown",
   "metadata": {},
   "source": [
    "#### [로드] 정기검사"
   ]
  },
  {
   "cell_type": "code",
   "execution_count": 75,
   "metadata": {},
   "outputs": [
    {
     "name": "stderr",
     "output_type": "stream",
     "text": [
      "C:\\Users\\kbjung\\AppData\\Local\\Temp\\ipykernel_9872\\3710981891.py:3: DtypeWarning: Columns (13) have mixed types. Specify dtype option on import or set low_memory=False.\n",
      "  ins = pd.read_csv(os.path.join(ods_fold, file_name))\n"
     ]
    },
    {
     "ename": "KeyboardInterrupt",
     "evalue": "",
     "output_type": "error",
     "traceback": [
      "\u001b[1;31m---------------------------------------------------------------------------\u001b[0m",
      "\u001b[1;31mKeyboardInterrupt\u001b[0m                         Traceback (most recent call last)",
      "\u001b[1;32m~\\AppData\\Local\\Temp\\ipykernel_9872\\3710981891.py\u001b[0m in \u001b[0;36m<module>\u001b[1;34m\u001b[0m\n\u001b[0;32m      1\u001b[0m \u001b[1;31m# about 5m\u001b[0m\u001b[1;33m\u001b[0m\u001b[1;33m\u001b[0m\u001b[0m\n\u001b[0;32m      2\u001b[0m \u001b[0mfile_name\u001b[0m \u001b[1;33m=\u001b[0m \u001b[1;34m'ODS_TB_JGT_HIS.csv'\u001b[0m\u001b[1;33m\u001b[0m\u001b[1;33m\u001b[0m\u001b[0m\n\u001b[1;32m----> 3\u001b[1;33m \u001b[0mins\u001b[0m \u001b[1;33m=\u001b[0m \u001b[0mpd\u001b[0m\u001b[1;33m.\u001b[0m\u001b[0mread_csv\u001b[0m\u001b[1;33m(\u001b[0m\u001b[0mos\u001b[0m\u001b[1;33m.\u001b[0m\u001b[0mpath\u001b[0m\u001b[1;33m.\u001b[0m\u001b[0mjoin\u001b[0m\u001b[1;33m(\u001b[0m\u001b[0mods_fold\u001b[0m\u001b[1;33m,\u001b[0m \u001b[0mfile_name\u001b[0m\u001b[1;33m)\u001b[0m\u001b[1;33m)\u001b[0m\u001b[1;33m\u001b[0m\u001b[1;33m\u001b[0m\u001b[0m\n\u001b[0m\u001b[0;32m      4\u001b[0m \u001b[0mins\u001b[0m\u001b[1;33m.\u001b[0m\u001b[0minfo\u001b[0m\u001b[1;33m(\u001b[0m\u001b[1;33m)\u001b[0m\u001b[1;33m\u001b[0m\u001b[1;33m\u001b[0m\u001b[0m\n",
      "\u001b[1;32m~\\AppData\\Roaming\\Python\\Python39\\site-packages\\pandas\\util\\_decorators.py\u001b[0m in \u001b[0;36mwrapper\u001b[1;34m(*args, **kwargs)\u001b[0m\n\u001b[0;32m    209\u001b[0m                 \u001b[1;32melse\u001b[0m\u001b[1;33m:\u001b[0m\u001b[1;33m\u001b[0m\u001b[1;33m\u001b[0m\u001b[0m\n\u001b[0;32m    210\u001b[0m                     \u001b[0mkwargs\u001b[0m\u001b[1;33m[\u001b[0m\u001b[0mnew_arg_name\u001b[0m\u001b[1;33m]\u001b[0m \u001b[1;33m=\u001b[0m \u001b[0mnew_arg_value\u001b[0m\u001b[1;33m\u001b[0m\u001b[1;33m\u001b[0m\u001b[0m\n\u001b[1;32m--> 211\u001b[1;33m             \u001b[1;32mreturn\u001b[0m \u001b[0mfunc\u001b[0m\u001b[1;33m(\u001b[0m\u001b[1;33m*\u001b[0m\u001b[0margs\u001b[0m\u001b[1;33m,\u001b[0m \u001b[1;33m**\u001b[0m\u001b[0mkwargs\u001b[0m\u001b[1;33m)\u001b[0m\u001b[1;33m\u001b[0m\u001b[1;33m\u001b[0m\u001b[0m\n\u001b[0m\u001b[0;32m    212\u001b[0m \u001b[1;33m\u001b[0m\u001b[0m\n\u001b[0;32m    213\u001b[0m         \u001b[1;32mreturn\u001b[0m \u001b[0mcast\u001b[0m\u001b[1;33m(\u001b[0m\u001b[0mF\u001b[0m\u001b[1;33m,\u001b[0m \u001b[0mwrapper\u001b[0m\u001b[1;33m)\u001b[0m\u001b[1;33m\u001b[0m\u001b[1;33m\u001b[0m\u001b[0m\n",
      "\u001b[1;32m~\\AppData\\Roaming\\Python\\Python39\\site-packages\\pandas\\util\\_decorators.py\u001b[0m in \u001b[0;36mwrapper\u001b[1;34m(*args, **kwargs)\u001b[0m\n\u001b[0;32m    329\u001b[0m                     \u001b[0mstacklevel\u001b[0m\u001b[1;33m=\u001b[0m\u001b[0mfind_stack_level\u001b[0m\u001b[1;33m(\u001b[0m\u001b[1;33m)\u001b[0m\u001b[1;33m,\u001b[0m\u001b[1;33m\u001b[0m\u001b[1;33m\u001b[0m\u001b[0m\n\u001b[0;32m    330\u001b[0m                 )\n\u001b[1;32m--> 331\u001b[1;33m             \u001b[1;32mreturn\u001b[0m \u001b[0mfunc\u001b[0m\u001b[1;33m(\u001b[0m\u001b[1;33m*\u001b[0m\u001b[0margs\u001b[0m\u001b[1;33m,\u001b[0m \u001b[1;33m**\u001b[0m\u001b[0mkwargs\u001b[0m\u001b[1;33m)\u001b[0m\u001b[1;33m\u001b[0m\u001b[1;33m\u001b[0m\u001b[0m\n\u001b[0m\u001b[0;32m    332\u001b[0m \u001b[1;33m\u001b[0m\u001b[0m\n\u001b[0;32m    333\u001b[0m         \u001b[1;31m# error: \"Callable[[VarArg(Any), KwArg(Any)], Any]\" has no\u001b[0m\u001b[1;33m\u001b[0m\u001b[1;33m\u001b[0m\u001b[0m\n",
      "\u001b[1;32m~\\AppData\\Roaming\\Python\\Python39\\site-packages\\pandas\\io\\parsers\\readers.py\u001b[0m in \u001b[0;36mread_csv\u001b[1;34m(filepath_or_buffer, sep, delimiter, header, names, index_col, usecols, squeeze, prefix, mangle_dupe_cols, dtype, engine, converters, true_values, false_values, skipinitialspace, skiprows, skipfooter, nrows, na_values, keep_default_na, na_filter, verbose, skip_blank_lines, parse_dates, infer_datetime_format, keep_date_col, date_parser, dayfirst, cache_dates, iterator, chunksize, compression, thousands, decimal, lineterminator, quotechar, quoting, doublequote, escapechar, comment, encoding, encoding_errors, dialect, error_bad_lines, warn_bad_lines, on_bad_lines, delim_whitespace, low_memory, memory_map, float_precision, storage_options)\u001b[0m\n\u001b[0;32m    948\u001b[0m     \u001b[0mkwds\u001b[0m\u001b[1;33m.\u001b[0m\u001b[0mupdate\u001b[0m\u001b[1;33m(\u001b[0m\u001b[0mkwds_defaults\u001b[0m\u001b[1;33m)\u001b[0m\u001b[1;33m\u001b[0m\u001b[1;33m\u001b[0m\u001b[0m\n\u001b[0;32m    949\u001b[0m \u001b[1;33m\u001b[0m\u001b[0m\n\u001b[1;32m--> 950\u001b[1;33m     \u001b[1;32mreturn\u001b[0m \u001b[0m_read\u001b[0m\u001b[1;33m(\u001b[0m\u001b[0mfilepath_or_buffer\u001b[0m\u001b[1;33m,\u001b[0m \u001b[0mkwds\u001b[0m\u001b[1;33m)\u001b[0m\u001b[1;33m\u001b[0m\u001b[1;33m\u001b[0m\u001b[0m\n\u001b[0m\u001b[0;32m    951\u001b[0m \u001b[1;33m\u001b[0m\u001b[0m\n\u001b[0;32m    952\u001b[0m \u001b[1;33m\u001b[0m\u001b[0m\n",
      "\u001b[1;32m~\\AppData\\Roaming\\Python\\Python39\\site-packages\\pandas\\io\\parsers\\readers.py\u001b[0m in \u001b[0;36m_read\u001b[1;34m(filepath_or_buffer, kwds)\u001b[0m\n\u001b[0;32m    609\u001b[0m \u001b[1;33m\u001b[0m\u001b[0m\n\u001b[0;32m    610\u001b[0m     \u001b[1;32mwith\u001b[0m \u001b[0mparser\u001b[0m\u001b[1;33m:\u001b[0m\u001b[1;33m\u001b[0m\u001b[1;33m\u001b[0m\u001b[0m\n\u001b[1;32m--> 611\u001b[1;33m         \u001b[1;32mreturn\u001b[0m \u001b[0mparser\u001b[0m\u001b[1;33m.\u001b[0m\u001b[0mread\u001b[0m\u001b[1;33m(\u001b[0m\u001b[0mnrows\u001b[0m\u001b[1;33m)\u001b[0m\u001b[1;33m\u001b[0m\u001b[1;33m\u001b[0m\u001b[0m\n\u001b[0m\u001b[0;32m    612\u001b[0m \u001b[1;33m\u001b[0m\u001b[0m\n\u001b[0;32m    613\u001b[0m \u001b[1;33m\u001b[0m\u001b[0m\n",
      "\u001b[1;32m~\\AppData\\Roaming\\Python\\Python39\\site-packages\\pandas\\io\\parsers\\readers.py\u001b[0m in \u001b[0;36mread\u001b[1;34m(self, nrows)\u001b[0m\n\u001b[0;32m   1793\u001b[0m                 \u001b[0mnew_rows\u001b[0m \u001b[1;33m=\u001b[0m \u001b[0mlen\u001b[0m\u001b[1;33m(\u001b[0m\u001b[0mindex\u001b[0m\u001b[1;33m)\u001b[0m\u001b[1;33m\u001b[0m\u001b[1;33m\u001b[0m\u001b[0m\n\u001b[0;32m   1794\u001b[0m \u001b[1;33m\u001b[0m\u001b[0m\n\u001b[1;32m-> 1795\u001b[1;33m             \u001b[0mdf\u001b[0m \u001b[1;33m=\u001b[0m \u001b[0mDataFrame\u001b[0m\u001b[1;33m(\u001b[0m\u001b[0mcol_dict\u001b[0m\u001b[1;33m,\u001b[0m \u001b[0mcolumns\u001b[0m\u001b[1;33m=\u001b[0m\u001b[0mcolumns\u001b[0m\u001b[1;33m,\u001b[0m \u001b[0mindex\u001b[0m\u001b[1;33m=\u001b[0m\u001b[0mindex\u001b[0m\u001b[1;33m)\u001b[0m\u001b[1;33m\u001b[0m\u001b[1;33m\u001b[0m\u001b[0m\n\u001b[0m\u001b[0;32m   1796\u001b[0m \u001b[1;33m\u001b[0m\u001b[0m\n\u001b[0;32m   1797\u001b[0m             \u001b[0mself\u001b[0m\u001b[1;33m.\u001b[0m\u001b[0m_currow\u001b[0m \u001b[1;33m+=\u001b[0m \u001b[0mnew_rows\u001b[0m\u001b[1;33m\u001b[0m\u001b[1;33m\u001b[0m\u001b[0m\n",
      "\u001b[1;32m~\\AppData\\Roaming\\Python\\Python39\\site-packages\\pandas\\core\\frame.py\u001b[0m in \u001b[0;36m__init__\u001b[1;34m(self, data, index, columns, dtype, copy)\u001b[0m\n\u001b[0;32m    661\u001b[0m         \u001b[1;32melif\u001b[0m \u001b[0misinstance\u001b[0m\u001b[1;33m(\u001b[0m\u001b[0mdata\u001b[0m\u001b[1;33m,\u001b[0m \u001b[0mdict\u001b[0m\u001b[1;33m)\u001b[0m\u001b[1;33m:\u001b[0m\u001b[1;33m\u001b[0m\u001b[1;33m\u001b[0m\u001b[0m\n\u001b[0;32m    662\u001b[0m             \u001b[1;31m# GH#38939 de facto copy defaults to False only in non-dict cases\u001b[0m\u001b[1;33m\u001b[0m\u001b[1;33m\u001b[0m\u001b[0m\n\u001b[1;32m--> 663\u001b[1;33m             \u001b[0mmgr\u001b[0m \u001b[1;33m=\u001b[0m \u001b[0mdict_to_mgr\u001b[0m\u001b[1;33m(\u001b[0m\u001b[0mdata\u001b[0m\u001b[1;33m,\u001b[0m \u001b[0mindex\u001b[0m\u001b[1;33m,\u001b[0m \u001b[0mcolumns\u001b[0m\u001b[1;33m,\u001b[0m \u001b[0mdtype\u001b[0m\u001b[1;33m=\u001b[0m\u001b[0mdtype\u001b[0m\u001b[1;33m,\u001b[0m \u001b[0mcopy\u001b[0m\u001b[1;33m=\u001b[0m\u001b[0mcopy\u001b[0m\u001b[1;33m,\u001b[0m \u001b[0mtyp\u001b[0m\u001b[1;33m=\u001b[0m\u001b[0mmanager\u001b[0m\u001b[1;33m)\u001b[0m\u001b[1;33m\u001b[0m\u001b[1;33m\u001b[0m\u001b[0m\n\u001b[0m\u001b[0;32m    664\u001b[0m         \u001b[1;32melif\u001b[0m \u001b[0misinstance\u001b[0m\u001b[1;33m(\u001b[0m\u001b[0mdata\u001b[0m\u001b[1;33m,\u001b[0m \u001b[0mma\u001b[0m\u001b[1;33m.\u001b[0m\u001b[0mMaskedArray\u001b[0m\u001b[1;33m)\u001b[0m\u001b[1;33m:\u001b[0m\u001b[1;33m\u001b[0m\u001b[1;33m\u001b[0m\u001b[0m\n\u001b[0;32m    665\u001b[0m             \u001b[1;32mimport\u001b[0m \u001b[0mnumpy\u001b[0m\u001b[1;33m.\u001b[0m\u001b[0mma\u001b[0m\u001b[1;33m.\u001b[0m\u001b[0mmrecords\u001b[0m \u001b[1;32mas\u001b[0m \u001b[0mmrecords\u001b[0m\u001b[1;33m\u001b[0m\u001b[1;33m\u001b[0m\u001b[0m\n",
      "\u001b[1;32m~\\AppData\\Roaming\\Python\\Python39\\site-packages\\pandas\\core\\internals\\construction.py\u001b[0m in \u001b[0;36mdict_to_mgr\u001b[1;34m(data, index, columns, dtype, typ, copy)\u001b[0m\n\u001b[0;32m    491\u001b[0m             \u001b[0marrays\u001b[0m \u001b[1;33m=\u001b[0m \u001b[1;33m[\u001b[0m\u001b[0mx\u001b[0m\u001b[1;33m.\u001b[0m\u001b[0mcopy\u001b[0m\u001b[1;33m(\u001b[0m\u001b[1;33m)\u001b[0m \u001b[1;32mif\u001b[0m \u001b[0mhasattr\u001b[0m\u001b[1;33m(\u001b[0m\u001b[0mx\u001b[0m\u001b[1;33m,\u001b[0m \u001b[1;34m\"dtype\"\u001b[0m\u001b[1;33m)\u001b[0m \u001b[1;32melse\u001b[0m \u001b[0mx\u001b[0m \u001b[1;32mfor\u001b[0m \u001b[0mx\u001b[0m \u001b[1;32min\u001b[0m \u001b[0marrays\u001b[0m\u001b[1;33m]\u001b[0m\u001b[1;33m\u001b[0m\u001b[1;33m\u001b[0m\u001b[0m\n\u001b[0;32m    492\u001b[0m \u001b[1;33m\u001b[0m\u001b[0m\n\u001b[1;32m--> 493\u001b[1;33m     \u001b[1;32mreturn\u001b[0m \u001b[0marrays_to_mgr\u001b[0m\u001b[1;33m(\u001b[0m\u001b[0marrays\u001b[0m\u001b[1;33m,\u001b[0m \u001b[0mcolumns\u001b[0m\u001b[1;33m,\u001b[0m \u001b[0mindex\u001b[0m\u001b[1;33m,\u001b[0m \u001b[0mdtype\u001b[0m\u001b[1;33m=\u001b[0m\u001b[0mdtype\u001b[0m\u001b[1;33m,\u001b[0m \u001b[0mtyp\u001b[0m\u001b[1;33m=\u001b[0m\u001b[0mtyp\u001b[0m\u001b[1;33m,\u001b[0m \u001b[0mconsolidate\u001b[0m\u001b[1;33m=\u001b[0m\u001b[0mcopy\u001b[0m\u001b[1;33m)\u001b[0m\u001b[1;33m\u001b[0m\u001b[1;33m\u001b[0m\u001b[0m\n\u001b[0m\u001b[0;32m    494\u001b[0m \u001b[1;33m\u001b[0m\u001b[0m\n\u001b[0;32m    495\u001b[0m \u001b[1;33m\u001b[0m\u001b[0m\n",
      "\u001b[1;32m~\\AppData\\Roaming\\Python\\Python39\\site-packages\\pandas\\core\\internals\\construction.py\u001b[0m in \u001b[0;36marrays_to_mgr\u001b[1;34m(arrays, columns, index, dtype, verify_integrity, typ, consolidate)\u001b[0m\n\u001b[0;32m    152\u001b[0m \u001b[1;33m\u001b[0m\u001b[0m\n\u001b[0;32m    153\u001b[0m     \u001b[1;32mif\u001b[0m \u001b[0mtyp\u001b[0m \u001b[1;33m==\u001b[0m \u001b[1;34m\"block\"\u001b[0m\u001b[1;33m:\u001b[0m\u001b[1;33m\u001b[0m\u001b[1;33m\u001b[0m\u001b[0m\n\u001b[1;32m--> 154\u001b[1;33m         return create_block_manager_from_column_arrays(\n\u001b[0m\u001b[0;32m    155\u001b[0m             \u001b[0marrays\u001b[0m\u001b[1;33m,\u001b[0m \u001b[0maxes\u001b[0m\u001b[1;33m,\u001b[0m \u001b[0mconsolidate\u001b[0m\u001b[1;33m=\u001b[0m\u001b[0mconsolidate\u001b[0m\u001b[1;33m\u001b[0m\u001b[1;33m\u001b[0m\u001b[0m\n\u001b[0;32m    156\u001b[0m         )\n",
      "\u001b[1;32m~\\AppData\\Roaming\\Python\\Python39\\site-packages\\pandas\\core\\internals\\managers.py\u001b[0m in \u001b[0;36mcreate_block_manager_from_column_arrays\u001b[1;34m(arrays, axes, consolidate)\u001b[0m\n\u001b[0;32m   2199\u001b[0m         \u001b[1;32mraise\u001b[0m \u001b[0mconstruction_error\u001b[0m\u001b[1;33m(\u001b[0m\u001b[0mlen\u001b[0m\u001b[1;33m(\u001b[0m\u001b[0marrays\u001b[0m\u001b[1;33m)\u001b[0m\u001b[1;33m,\u001b[0m \u001b[0marrays\u001b[0m\u001b[1;33m[\u001b[0m\u001b[1;36m0\u001b[0m\u001b[1;33m]\u001b[0m\u001b[1;33m.\u001b[0m\u001b[0mshape\u001b[0m\u001b[1;33m,\u001b[0m \u001b[0maxes\u001b[0m\u001b[1;33m,\u001b[0m \u001b[0me\u001b[0m\u001b[1;33m)\u001b[0m\u001b[1;33m\u001b[0m\u001b[1;33m\u001b[0m\u001b[0m\n\u001b[0;32m   2200\u001b[0m     \u001b[1;32mif\u001b[0m \u001b[0mconsolidate\u001b[0m\u001b[1;33m:\u001b[0m\u001b[1;33m\u001b[0m\u001b[1;33m\u001b[0m\u001b[0m\n\u001b[1;32m-> 2201\u001b[1;33m         \u001b[0mmgr\u001b[0m\u001b[1;33m.\u001b[0m\u001b[0m_consolidate_inplace\u001b[0m\u001b[1;33m(\u001b[0m\u001b[1;33m)\u001b[0m\u001b[1;33m\u001b[0m\u001b[1;33m\u001b[0m\u001b[0m\n\u001b[0m\u001b[0;32m   2202\u001b[0m     \u001b[1;32mreturn\u001b[0m \u001b[0mmgr\u001b[0m\u001b[1;33m\u001b[0m\u001b[1;33m\u001b[0m\u001b[0m\n\u001b[0;32m   2203\u001b[0m \u001b[1;33m\u001b[0m\u001b[0m\n",
      "\u001b[1;32m~\\AppData\\Roaming\\Python\\Python39\\site-packages\\pandas\\core\\internals\\managers.py\u001b[0m in \u001b[0;36m_consolidate_inplace\u001b[1;34m(self)\u001b[0m\n\u001b[0;32m   1866\u001b[0m         \u001b[1;32mif\u001b[0m \u001b[1;32mnot\u001b[0m \u001b[0mself\u001b[0m\u001b[1;33m.\u001b[0m\u001b[0mis_consolidated\u001b[0m\u001b[1;33m(\u001b[0m\u001b[1;33m)\u001b[0m\u001b[1;33m:\u001b[0m\u001b[1;33m\u001b[0m\u001b[1;33m\u001b[0m\u001b[0m\n\u001b[0;32m   1867\u001b[0m             \u001b[1;32mif\u001b[0m \u001b[0mself\u001b[0m\u001b[1;33m.\u001b[0m\u001b[0mrefs\u001b[0m \u001b[1;32mis\u001b[0m \u001b[1;32mNone\u001b[0m\u001b[1;33m:\u001b[0m\u001b[1;33m\u001b[0m\u001b[1;33m\u001b[0m\u001b[0m\n\u001b[1;32m-> 1868\u001b[1;33m                 \u001b[0mself\u001b[0m\u001b[1;33m.\u001b[0m\u001b[0mblocks\u001b[0m \u001b[1;33m=\u001b[0m \u001b[0m_consolidate\u001b[0m\u001b[1;33m(\u001b[0m\u001b[0mself\u001b[0m\u001b[1;33m.\u001b[0m\u001b[0mblocks\u001b[0m\u001b[1;33m)\u001b[0m\u001b[1;33m\u001b[0m\u001b[1;33m\u001b[0m\u001b[0m\n\u001b[0m\u001b[0;32m   1869\u001b[0m             \u001b[1;32melse\u001b[0m\u001b[1;33m:\u001b[0m\u001b[1;33m\u001b[0m\u001b[1;33m\u001b[0m\u001b[0m\n\u001b[0;32m   1870\u001b[0m                 \u001b[0mself\u001b[0m\u001b[1;33m.\u001b[0m\u001b[0mblocks\u001b[0m\u001b[1;33m,\u001b[0m \u001b[0mself\u001b[0m\u001b[1;33m.\u001b[0m\u001b[0mrefs\u001b[0m \u001b[1;33m=\u001b[0m \u001b[0m_consolidate_with_refs\u001b[0m\u001b[1;33m(\u001b[0m\u001b[0mself\u001b[0m\u001b[1;33m.\u001b[0m\u001b[0mblocks\u001b[0m\u001b[1;33m,\u001b[0m \u001b[0mself\u001b[0m\u001b[1;33m.\u001b[0m\u001b[0mrefs\u001b[0m\u001b[1;33m)\u001b[0m\u001b[1;33m\u001b[0m\u001b[1;33m\u001b[0m\u001b[0m\n",
      "\u001b[1;32m~\\AppData\\Roaming\\Python\\Python39\\site-packages\\pandas\\core\\internals\\managers.py\u001b[0m in \u001b[0;36m_consolidate\u001b[1;34m(blocks)\u001b[0m\n\u001b[0;32m   2324\u001b[0m     \u001b[0mnew_blocks\u001b[0m\u001b[1;33m:\u001b[0m \u001b[0mlist\u001b[0m\u001b[1;33m[\u001b[0m\u001b[0mBlock\u001b[0m\u001b[1;33m]\u001b[0m \u001b[1;33m=\u001b[0m \u001b[1;33m[\u001b[0m\u001b[1;33m]\u001b[0m\u001b[1;33m\u001b[0m\u001b[1;33m\u001b[0m\u001b[0m\n\u001b[0;32m   2325\u001b[0m     \u001b[1;32mfor\u001b[0m \u001b[1;33m(\u001b[0m\u001b[0m_can_consolidate\u001b[0m\u001b[1;33m,\u001b[0m \u001b[0mdtype\u001b[0m\u001b[1;33m)\u001b[0m\u001b[1;33m,\u001b[0m \u001b[0mgroup_blocks\u001b[0m \u001b[1;32min\u001b[0m \u001b[0mgrouper\u001b[0m\u001b[1;33m:\u001b[0m\u001b[1;33m\u001b[0m\u001b[1;33m\u001b[0m\u001b[0m\n\u001b[1;32m-> 2326\u001b[1;33m         merged_blocks, _ = _merge_blocks(\n\u001b[0m\u001b[0;32m   2327\u001b[0m             \u001b[0mlist\u001b[0m\u001b[1;33m(\u001b[0m\u001b[0mgroup_blocks\u001b[0m\u001b[1;33m)\u001b[0m\u001b[1;33m,\u001b[0m \u001b[0mdtype\u001b[0m\u001b[1;33m=\u001b[0m\u001b[0mdtype\u001b[0m\u001b[1;33m,\u001b[0m \u001b[0mcan_consolidate\u001b[0m\u001b[1;33m=\u001b[0m\u001b[0m_can_consolidate\u001b[0m\u001b[1;33m\u001b[0m\u001b[1;33m\u001b[0m\u001b[0m\n\u001b[0;32m   2328\u001b[0m         )\n",
      "\u001b[1;32m~\\AppData\\Roaming\\Python\\Python39\\site-packages\\pandas\\core\\internals\\managers.py\u001b[0m in \u001b[0;36m_merge_blocks\u001b[1;34m(blocks, dtype, can_consolidate)\u001b[0m\n\u001b[0;32m   2383\u001b[0m \u001b[1;33m\u001b[0m\u001b[0m\n\u001b[0;32m   2384\u001b[0m         \u001b[0margsort\u001b[0m \u001b[1;33m=\u001b[0m \u001b[0mnp\u001b[0m\u001b[1;33m.\u001b[0m\u001b[0margsort\u001b[0m\u001b[1;33m(\u001b[0m\u001b[0mnew_mgr_locs\u001b[0m\u001b[1;33m)\u001b[0m\u001b[1;33m\u001b[0m\u001b[1;33m\u001b[0m\u001b[0m\n\u001b[1;32m-> 2385\u001b[1;33m         \u001b[0mnew_values\u001b[0m \u001b[1;33m=\u001b[0m \u001b[0mnew_values\u001b[0m\u001b[1;33m[\u001b[0m\u001b[0margsort\u001b[0m\u001b[1;33m]\u001b[0m\u001b[1;33m\u001b[0m\u001b[1;33m\u001b[0m\u001b[0m\n\u001b[0m\u001b[0;32m   2386\u001b[0m         \u001b[0mnew_mgr_locs\u001b[0m \u001b[1;33m=\u001b[0m \u001b[0mnew_mgr_locs\u001b[0m\u001b[1;33m[\u001b[0m\u001b[0margsort\u001b[0m\u001b[1;33m]\u001b[0m\u001b[1;33m\u001b[0m\u001b[1;33m\u001b[0m\u001b[0m\n\u001b[0;32m   2387\u001b[0m \u001b[1;33m\u001b[0m\u001b[0m\n",
      "\u001b[1;31mKeyboardInterrupt\u001b[0m: "
     ]
    }
   ],
   "source": [
    "# about 5m\n",
    "file_name = 'ODS_TB_JGT_HIS.csv'\n",
    "ins = pd.read_csv(os.path.join(ods_fold, file_name), usecols=col, low_memory=False)\n",
    "ins.info()"
   ]
  },
  {
   "cell_type": "code",
   "execution_count": 18,
   "metadata": {},
   "outputs": [
    {
     "name": "stdout",
     "output_type": "stream",
     "text": [
      "<class 'pandas.core.frame.DataFrame'>\n",
      "RangeIndex: 22006426 entries, 0 to 22006425\n",
      "Data columns (total 39 columns):\n",
      " #   Column             Dtype  \n",
      "---  ------             -----  \n",
      " 0   CAR_FUEL_NM        object \n",
      " 1   CAR_MILE           object \n",
      " 2   CAR_NM             object \n",
      " 3   CAR_REG_NO         object \n",
      " 4   CAR_SER_NO         object \n",
      " 5   CAR_TYPE_NM        object \n",
      " 6   CAR_YEAR           int64  \n",
      " 7   CHK_METHOD         object \n",
      " 8   CO2_VAL            float64\n",
      " 9   ENGINE_TOR_LIM     float64\n",
      " 10  ENGINE_TOR_VAL     float64\n",
      " 11  ENGINE_TYPE        object \n",
      " 12  JEBSU_NO           object \n",
      " 13  JG_CHK_DATE        int64  \n",
      " 14  JG_CHK_TYPE        object \n",
      " 15  JG_ORG_NM          object \n",
      " 16  JUDGE_DATE         object \n",
      " 17  JUDGE_YN           object \n",
      " 18  O2_VAL             float64\n",
      " 19  RE_CHK_DATE        object \n",
      " 20  UNLOAD_SMO_JUDGE1  object \n",
      " 21  UNLOAD_SMO_JUDGE2  object \n",
      " 22  UNLOAD_SMO_JUDGE3  object \n",
      " 23  UNLOAD_SMO_JUDGE4  object \n",
      " 24  UNLOAD_SMO_JUDGE5  object \n",
      " 25  UNLOAD_SMO_JUDGE6  object \n",
      " 26  UNLOAD_SMO_LIM1    float64\n",
      " 27  UNLOAD_SMO_LIM2    float64\n",
      " 28  UNLOAD_SMO_LIM3    float64\n",
      " 29  UNLOAD_SMO_LIM4    float64\n",
      " 30  UNLOAD_SMO_LIM5    float64\n",
      " 31  UNLOAD_SMO_LIM6    float64\n",
      " 32  UNLOAD_SMO_VAL1    float64\n",
      " 33  UNLOAD_SMO_VAL2    float64\n",
      " 34  UNLOAD_SMO_VAL3    float64\n",
      " 35  UNLOAD_SMO_VAL4    float64\n",
      " 36  UNLOAD_SMO_VAL5    float64\n",
      " 37  UNLOAD_SMO_VAL6    float64\n",
      " 38  USAGE              object \n",
      "dtypes: float64(16), int64(2), object(21)\n",
      "memory usage: 6.4+ GB\n"
     ]
    }
   ],
   "source": [
    "ins = ins[col]\n",
    "ins.info()"
   ]
  },
  {
   "cell_type": "code",
   "execution_count": 19,
   "metadata": {},
   "outputs": [],
   "source": [
    "ins.columns = sel_col"
   ]
  },
  {
   "cell_type": "code",
   "execution_count": 20,
   "metadata": {},
   "outputs": [
    {
     "data": {
      "text/plain": [
       "Index(['사용연료', '주행거리', '차명', '차량번호', '차대번호', '차종', '차량연식', '검사방법', '이산화탄소값',\n",
       "       '최대출력허용치', '최대출력측정값', '엔진형식', '검사접수번호', '정기검사일자', '검사종류', '검사소명',\n",
       "       '검사판정시각', '정기검사판정', '산소값', '재검사기간', '무부하매연판정1', '무부하매연판정2', '무부하매연판정3',\n",
       "       '무부하매연판정4', '무부하매연판정5', '무부하매연판정6', '무부하매연허용치1', '무부하매연허용치2',\n",
       "       '무부하매연허용치3', '무부하매연허용치4', '무부하매연허용치5', '무부하매연허용치6', '무부하매연측정치1',\n",
       "       '무부하매연측정치2', '무부하매연측정치3', '무부하매연측정치4', '무부하매연측정치5', '무부하매연측정치6',\n",
       "       '차량용도'],\n",
       "      dtype='object')"
      ]
     },
     "execution_count": 20,
     "metadata": {},
     "output_type": "execute_result"
    }
   ],
   "source": [
    "ins.columns"
   ]
  },
  {
   "cell_type": "code",
   "execution_count": 21,
   "metadata": {},
   "outputs": [],
   "source": [
    "ins.columns = ['사용연료', '주행거리', '차명', '차량번호', '차대번호', '차종', '차량연식', '검사방법', '이산화탄소값', '최대출력허용치',\n",
    "       '최대출력측정값', '엔진형식', '검사접수번호', '검사일자', '검사종류', '검사소명', '검사판정시각',\n",
    "       '검사판정', '산소값', '재검사기간', '무부하매연판정1', '무부하매연판정2', '무부하매연판정3',\n",
    "       '무부하매연판정4', '무부하매연판정5', '무부하매연판정6', '무부하매연허용치1', '무부하매연허용치2',\n",
    "       '무부하매연허용치3', '무부하매연허용치4', '무부하매연허용치5', '무부하매연허용치6', '무부하매연측정치1',\n",
    "       '무부하매연측정치2', '무부하매연측정치3', '무부하매연측정치4', '무부하매연측정치5', '무부하매연측정치6',\n",
    "       '차량용도']\n",
    "ins['정기정밀'] = '정기'"
   ]
  },
  {
   "cell_type": "code",
   "execution_count": 71,
   "metadata": {},
   "outputs": [],
   "source": [
    "pd.options.display.float_format = '{:.2f}'.format"
   ]
  },
  {
   "cell_type": "code",
   "execution_count": 72,
   "metadata": {},
   "outputs": [
    {
     "data": {
      "text/plain": [
       "count   22006426.00\n",
       "mean    20203268.21\n",
       "std        11150.50\n",
       "min     20190102.00\n",
       "25%     20191007.00\n",
       "50%     20200710.00\n",
       "75%     20210924.00\n",
       "max     20230102.00\n",
       "Name: 검사일자, dtype: float64"
      ]
     },
     "execution_count": 72,
     "metadata": {},
     "output_type": "execute_result"
    }
   ],
   "source": [
    "ins['검사일자'].describe()"
   ]
  },
  {
   "attachments": {},
   "cell_type": "markdown",
   "metadata": {},
   "source": [
    "### [로드] 정밀검사"
   ]
  },
  {
   "attachments": {},
   "cell_type": "markdown",
   "metadata": {},
   "source": [
    "#### columns"
   ]
  },
  {
   "cell_type": "code",
   "execution_count": 22,
   "metadata": {},
   "outputs": [],
   "source": [
    "file_name = 'TB_EET_HIS_ME'\n",
    "col_exc = pd.read_excel(f'analysis/ODSvsSTD/[정제]{file_name}.xlsx', sheet_name='ODS_col')"
   ]
  },
  {
   "cell_type": "code",
   "execution_count": 23,
   "metadata": {},
   "outputs": [
    {
     "data": {
      "text/html": [
       "<div>\n",
       "<style scoped>\n",
       "    .dataframe tbody tr th:only-of-type {\n",
       "        vertical-align: middle;\n",
       "    }\n",
       "\n",
       "    .dataframe tbody tr th {\n",
       "        vertical-align: top;\n",
       "    }\n",
       "\n",
       "    .dataframe thead th {\n",
       "        text-align: right;\n",
       "    }\n",
       "</style>\n",
       "<table border=\"1\" class=\"dataframe\">\n",
       "  <thead>\n",
       "    <tr style=\"text-align: right;\">\n",
       "      <th></th>\n",
       "      <th>컬럼</th>\n",
       "      <th>내용</th>\n",
       "    </tr>\n",
       "  </thead>\n",
       "  <tbody>\n",
       "    <tr>\n",
       "      <th>0</th>\n",
       "      <td>CAR_FUEL_NM</td>\n",
       "      <td>사용연료</td>\n",
       "    </tr>\n",
       "    <tr>\n",
       "      <th>1</th>\n",
       "      <td>CAR_MILE</td>\n",
       "      <td>주행거리</td>\n",
       "    </tr>\n",
       "    <tr>\n",
       "      <th>2</th>\n",
       "      <td>CAR_NM</td>\n",
       "      <td>차명</td>\n",
       "    </tr>\n",
       "    <tr>\n",
       "      <th>3</th>\n",
       "      <td>CAR_REG_NO</td>\n",
       "      <td>차량번호</td>\n",
       "    </tr>\n",
       "    <tr>\n",
       "      <th>4</th>\n",
       "      <td>CAR_SER_NO</td>\n",
       "      <td>차대번호</td>\n",
       "    </tr>\n",
       "    <tr>\n",
       "      <th>...</th>\n",
       "      <td>...</td>\n",
       "      <td>...</td>\n",
       "    </tr>\n",
       "    <tr>\n",
       "      <th>70</th>\n",
       "      <td>DELETE_GBN</td>\n",
       "      <td>미정</td>\n",
       "    </tr>\n",
       "    <tr>\n",
       "      <th>71</th>\n",
       "      <td>DELETE_REASON1</td>\n",
       "      <td>미정</td>\n",
       "    </tr>\n",
       "    <tr>\n",
       "      <th>72</th>\n",
       "      <td>DELETE_REASON2</td>\n",
       "      <td>미정</td>\n",
       "    </tr>\n",
       "    <tr>\n",
       "      <th>73</th>\n",
       "      <td>DELETE_REASON3</td>\n",
       "      <td>미정</td>\n",
       "    </tr>\n",
       "    <tr>\n",
       "      <th>74</th>\n",
       "      <td>DELETE_REASON4</td>\n",
       "      <td>미정</td>\n",
       "    </tr>\n",
       "  </tbody>\n",
       "</table>\n",
       "<p>75 rows × 2 columns</p>\n",
       "</div>"
      ],
      "text/plain": [
       "                컬럼    내용\n",
       "0      CAR_FUEL_NM  사용연료\n",
       "1         CAR_MILE  주행거리\n",
       "2           CAR_NM    차명\n",
       "3       CAR_REG_NO  차량번호\n",
       "4       CAR_SER_NO  차대번호\n",
       "..             ...   ...\n",
       "70      DELETE_GBN    미정\n",
       "71  DELETE_REASON1    미정\n",
       "72  DELETE_REASON2    미정\n",
       "73  DELETE_REASON3    미정\n",
       "74  DELETE_REASON4    미정\n",
       "\n",
       "[75 rows x 2 columns]"
      ]
     },
     "execution_count": 23,
     "metadata": {},
     "output_type": "execute_result"
    }
   ],
   "source": [
    "col_exc"
   ]
  },
  {
   "cell_type": "code",
   "execution_count": 25,
   "metadata": {},
   "outputs": [
    {
     "data": {
      "text/html": [
       "<div>\n",
       "<style scoped>\n",
       "    .dataframe tbody tr th:only-of-type {\n",
       "        vertical-align: middle;\n",
       "    }\n",
       "\n",
       "    .dataframe tbody tr th {\n",
       "        vertical-align: top;\n",
       "    }\n",
       "\n",
       "    .dataframe thead th {\n",
       "        text-align: right;\n",
       "    }\n",
       "</style>\n",
       "<table border=\"1\" class=\"dataframe\">\n",
       "  <thead>\n",
       "    <tr style=\"text-align: right;\">\n",
       "      <th></th>\n",
       "      <th>컬럼</th>\n",
       "      <th>내용</th>\n",
       "    </tr>\n",
       "  </thead>\n",
       "  <tbody>\n",
       "    <tr>\n",
       "      <th>0</th>\n",
       "      <td>CAR_FUEL_NM</td>\n",
       "      <td>사용연료</td>\n",
       "    </tr>\n",
       "    <tr>\n",
       "      <th>1</th>\n",
       "      <td>CAR_MILE</td>\n",
       "      <td>주행거리</td>\n",
       "    </tr>\n",
       "    <tr>\n",
       "      <th>2</th>\n",
       "      <td>CAR_NM</td>\n",
       "      <td>차명</td>\n",
       "    </tr>\n",
       "    <tr>\n",
       "      <th>3</th>\n",
       "      <td>CAR_REG_NO</td>\n",
       "      <td>차량번호</td>\n",
       "    </tr>\n",
       "    <tr>\n",
       "      <th>4</th>\n",
       "      <td>CAR_SER_NO</td>\n",
       "      <td>차대번호</td>\n",
       "    </tr>\n",
       "    <tr>\n",
       "      <th>5</th>\n",
       "      <td>CAR_TYPE_NM</td>\n",
       "      <td>차종</td>\n",
       "    </tr>\n",
       "    <tr>\n",
       "      <th>6</th>\n",
       "      <td>CAR_YEAR</td>\n",
       "      <td>차량연식</td>\n",
       "    </tr>\n",
       "    <tr>\n",
       "      <th>7</th>\n",
       "      <td>CMB_SMO_CHK_REG_NO</td>\n",
       "      <td>정밀검사 검사소코드</td>\n",
       "    </tr>\n",
       "    <tr>\n",
       "      <th>8</th>\n",
       "      <td>CO2_VAL</td>\n",
       "      <td>이산화탄소값</td>\n",
       "    </tr>\n",
       "    <tr>\n",
       "      <th>9</th>\n",
       "      <td>ENGINE_TOR_LIM</td>\n",
       "      <td>최대출력허용치</td>\n",
       "    </tr>\n",
       "    <tr>\n",
       "      <th>10</th>\n",
       "      <td>ENGINE_TOR_VAL</td>\n",
       "      <td>최대출력측정값</td>\n",
       "    </tr>\n",
       "    <tr>\n",
       "      <th>11</th>\n",
       "      <td>ENGINE_TYPE</td>\n",
       "      <td>엔진형식</td>\n",
       "    </tr>\n",
       "    <tr>\n",
       "      <th>12</th>\n",
       "      <td>O2_VAL</td>\n",
       "      <td>산소값</td>\n",
       "    </tr>\n",
       "    <tr>\n",
       "      <th>13</th>\n",
       "      <td>RE_INS_DATE2</td>\n",
       "      <td>재검사기간</td>\n",
       "    </tr>\n",
       "    <tr>\n",
       "      <th>14</th>\n",
       "      <td>SMO_CHK_DATE</td>\n",
       "      <td>정밀검사일자</td>\n",
       "    </tr>\n",
       "    <tr>\n",
       "      <th>15</th>\n",
       "      <td>SMO_CHK_JUDGE_YN</td>\n",
       "      <td>정밀검사판정</td>\n",
       "    </tr>\n",
       "    <tr>\n",
       "      <th>16</th>\n",
       "      <td>SMO_CHK_METHOD</td>\n",
       "      <td>정밀검사측정방법</td>\n",
       "    </tr>\n",
       "    <tr>\n",
       "      <th>17</th>\n",
       "      <td>SMO_CHK_ORG_NM</td>\n",
       "      <td>정밀검사소명</td>\n",
       "    </tr>\n",
       "    <tr>\n",
       "      <th>18</th>\n",
       "      <td>SMO_CHK_REG_NO</td>\n",
       "      <td>정밀검사접수번호</td>\n",
       "    </tr>\n",
       "    <tr>\n",
       "      <th>19</th>\n",
       "      <td>SMO_CHK_TYPE</td>\n",
       "      <td>정밀검사종류</td>\n",
       "    </tr>\n",
       "    <tr>\n",
       "      <th>20</th>\n",
       "      <td>SMO_CLOCK_INFO</td>\n",
       "      <td>정밀검사시각정보</td>\n",
       "    </tr>\n",
       "    <tr>\n",
       "      <th>21</th>\n",
       "      <td>UNLOAD_SMO_JUDGE1</td>\n",
       "      <td>무부하매연판정1</td>\n",
       "    </tr>\n",
       "    <tr>\n",
       "      <th>22</th>\n",
       "      <td>UNLOAD_SMO_JUDGE2</td>\n",
       "      <td>무부하매연판정2</td>\n",
       "    </tr>\n",
       "    <tr>\n",
       "      <th>23</th>\n",
       "      <td>UNLOAD_SMO_JUDGE3</td>\n",
       "      <td>무부하매연판정3</td>\n",
       "    </tr>\n",
       "    <tr>\n",
       "      <th>24</th>\n",
       "      <td>UNLOAD_SMO_JUDGE4</td>\n",
       "      <td>무부하매연판정4</td>\n",
       "    </tr>\n",
       "    <tr>\n",
       "      <th>25</th>\n",
       "      <td>UNLOAD_SMO_JUDGE5</td>\n",
       "      <td>무부하매연판정5</td>\n",
       "    </tr>\n",
       "    <tr>\n",
       "      <th>26</th>\n",
       "      <td>UNLOAD_SMO_JUDGE6</td>\n",
       "      <td>무부하매연판정6</td>\n",
       "    </tr>\n",
       "    <tr>\n",
       "      <th>27</th>\n",
       "      <td>UNLOAD_SMO_LIM1</td>\n",
       "      <td>무부하매연허용치1</td>\n",
       "    </tr>\n",
       "    <tr>\n",
       "      <th>28</th>\n",
       "      <td>UNLOAD_SMO_LIM2</td>\n",
       "      <td>무부하매연허용치2</td>\n",
       "    </tr>\n",
       "    <tr>\n",
       "      <th>29</th>\n",
       "      <td>UNLOAD_SMO_LIM3</td>\n",
       "      <td>무부하매연허용치3</td>\n",
       "    </tr>\n",
       "    <tr>\n",
       "      <th>30</th>\n",
       "      <td>UNLOAD_SMO_LIM4</td>\n",
       "      <td>무부하매연허용치4</td>\n",
       "    </tr>\n",
       "    <tr>\n",
       "      <th>31</th>\n",
       "      <td>UNLOAD_SMO_LIM5</td>\n",
       "      <td>무부하매연허용치5</td>\n",
       "    </tr>\n",
       "    <tr>\n",
       "      <th>32</th>\n",
       "      <td>UNLOAD_SMO_LIM6</td>\n",
       "      <td>무부하매연허용치6</td>\n",
       "    </tr>\n",
       "    <tr>\n",
       "      <th>33</th>\n",
       "      <td>UNLOAD_SMO_VAL1</td>\n",
       "      <td>무부하매연측정치1</td>\n",
       "    </tr>\n",
       "    <tr>\n",
       "      <th>34</th>\n",
       "      <td>UNLOAD_SMO_VAL2</td>\n",
       "      <td>무부하매연측정치2</td>\n",
       "    </tr>\n",
       "    <tr>\n",
       "      <th>35</th>\n",
       "      <td>UNLOAD_SMO_VAL3</td>\n",
       "      <td>무부하매연측정치3</td>\n",
       "    </tr>\n",
       "    <tr>\n",
       "      <th>36</th>\n",
       "      <td>UNLOAD_SMO_VAL4</td>\n",
       "      <td>무부하매연측정치4</td>\n",
       "    </tr>\n",
       "    <tr>\n",
       "      <th>37</th>\n",
       "      <td>UNLOAD_SMO_VAL5</td>\n",
       "      <td>무부하매연측정치5</td>\n",
       "    </tr>\n",
       "    <tr>\n",
       "      <th>38</th>\n",
       "      <td>UNLOAD_SMO_VAL6</td>\n",
       "      <td>무부하매연측정치6</td>\n",
       "    </tr>\n",
       "    <tr>\n",
       "      <th>39</th>\n",
       "      <td>USAGE</td>\n",
       "      <td>차량용도</td>\n",
       "    </tr>\n",
       "    <tr>\n",
       "      <th>40</th>\n",
       "      <td>SMO_CHK_EXP_DATE</td>\n",
       "      <td>정밀검사유효기간</td>\n",
       "    </tr>\n",
       "  </tbody>\n",
       "</table>\n",
       "</div>"
      ],
      "text/plain": [
       "                    컬럼          내용\n",
       "0          CAR_FUEL_NM        사용연료\n",
       "1             CAR_MILE        주행거리\n",
       "2               CAR_NM          차명\n",
       "3           CAR_REG_NO        차량번호\n",
       "4           CAR_SER_NO        차대번호\n",
       "5          CAR_TYPE_NM          차종\n",
       "6             CAR_YEAR        차량연식\n",
       "7   CMB_SMO_CHK_REG_NO  정밀검사 검사소코드\n",
       "8              CO2_VAL      이산화탄소값\n",
       "9       ENGINE_TOR_LIM     최대출력허용치\n",
       "10      ENGINE_TOR_VAL     최대출력측정값\n",
       "11         ENGINE_TYPE        엔진형식\n",
       "12              O2_VAL         산소값\n",
       "13        RE_INS_DATE2       재검사기간\n",
       "14        SMO_CHK_DATE      정밀검사일자\n",
       "15    SMO_CHK_JUDGE_YN      정밀검사판정\n",
       "16      SMO_CHK_METHOD    정밀검사측정방법\n",
       "17      SMO_CHK_ORG_NM      정밀검사소명\n",
       "18      SMO_CHK_REG_NO    정밀검사접수번호\n",
       "19        SMO_CHK_TYPE      정밀검사종류\n",
       "20      SMO_CLOCK_INFO    정밀검사시각정보\n",
       "21   UNLOAD_SMO_JUDGE1    무부하매연판정1\n",
       "22   UNLOAD_SMO_JUDGE2    무부하매연판정2\n",
       "23   UNLOAD_SMO_JUDGE3    무부하매연판정3\n",
       "24   UNLOAD_SMO_JUDGE4    무부하매연판정4\n",
       "25   UNLOAD_SMO_JUDGE5    무부하매연판정5\n",
       "26   UNLOAD_SMO_JUDGE6    무부하매연판정6\n",
       "27     UNLOAD_SMO_LIM1   무부하매연허용치1\n",
       "28     UNLOAD_SMO_LIM2   무부하매연허용치2\n",
       "29     UNLOAD_SMO_LIM3   무부하매연허용치3\n",
       "30     UNLOAD_SMO_LIM4   무부하매연허용치4\n",
       "31     UNLOAD_SMO_LIM5   무부하매연허용치5\n",
       "32     UNLOAD_SMO_LIM6   무부하매연허용치6\n",
       "33     UNLOAD_SMO_VAL1   무부하매연측정치1\n",
       "34     UNLOAD_SMO_VAL2   무부하매연측정치2\n",
       "35     UNLOAD_SMO_VAL3   무부하매연측정치3\n",
       "36     UNLOAD_SMO_VAL4   무부하매연측정치4\n",
       "37     UNLOAD_SMO_VAL5   무부하매연측정치5\n",
       "38     UNLOAD_SMO_VAL6   무부하매연측정치6\n",
       "39               USAGE        차량용도\n",
       "40    SMO_CHK_EXP_DATE    정밀검사유효기간"
      ]
     },
     "execution_count": 25,
     "metadata": {},
     "output_type": "execute_result"
    }
   ],
   "source": [
    "col_exc = col_exc.loc[:40]\n",
    "col_exc"
   ]
  },
  {
   "cell_type": "code",
   "execution_count": 26,
   "metadata": {},
   "outputs": [
    {
     "data": {
      "text/plain": [
       "['CAR_FUEL_NM',\n",
       " 'CAR_MILE',\n",
       " 'CAR_NM',\n",
       " 'CAR_REG_NO',\n",
       " 'CAR_SER_NO',\n",
       " 'CAR_TYPE_NM',\n",
       " 'CAR_YEAR',\n",
       " 'CMB_SMO_CHK_REG_NO',\n",
       " 'CO2_VAL',\n",
       " 'ENGINE_TOR_LIM',\n",
       " 'ENGINE_TOR_VAL',\n",
       " 'ENGINE_TYPE',\n",
       " 'O2_VAL',\n",
       " 'RE_INS_DATE2',\n",
       " 'SMO_CHK_DATE',\n",
       " 'SMO_CHK_JUDGE_YN',\n",
       " 'SMO_CHK_METHOD',\n",
       " 'SMO_CHK_ORG_NM',\n",
       " 'SMO_CHK_REG_NO',\n",
       " 'SMO_CHK_TYPE',\n",
       " 'SMO_CLOCK_INFO',\n",
       " 'UNLOAD_SMO_JUDGE1',\n",
       " 'UNLOAD_SMO_JUDGE2',\n",
       " 'UNLOAD_SMO_JUDGE3',\n",
       " 'UNLOAD_SMO_JUDGE4',\n",
       " 'UNLOAD_SMO_JUDGE5',\n",
       " 'UNLOAD_SMO_JUDGE6',\n",
       " 'UNLOAD_SMO_LIM1',\n",
       " 'UNLOAD_SMO_LIM2',\n",
       " 'UNLOAD_SMO_LIM3',\n",
       " 'UNLOAD_SMO_LIM4',\n",
       " 'UNLOAD_SMO_LIM5',\n",
       " 'UNLOAD_SMO_LIM6',\n",
       " 'UNLOAD_SMO_VAL1',\n",
       " 'UNLOAD_SMO_VAL2',\n",
       " 'UNLOAD_SMO_VAL3',\n",
       " 'UNLOAD_SMO_VAL4',\n",
       " 'UNLOAD_SMO_VAL5',\n",
       " 'UNLOAD_SMO_VAL6',\n",
       " 'USAGE',\n",
       " 'SMO_CHK_EXP_DATE']"
      ]
     },
     "execution_count": 26,
     "metadata": {},
     "output_type": "execute_result"
    }
   ],
   "source": [
    "col = col_exc['컬럼'].to_list()\n",
    "col"
   ]
  },
  {
   "cell_type": "code",
   "execution_count": 27,
   "metadata": {},
   "outputs": [
    {
     "data": {
      "text/plain": [
       "['사용연료',\n",
       " '주행거리',\n",
       " '차명',\n",
       " '차량번호',\n",
       " '차대번호',\n",
       " '차종',\n",
       " '차량연식',\n",
       " '정밀검사 검사소코드',\n",
       " '이산화탄소값',\n",
       " '최대출력허용치',\n",
       " '최대출력측정값',\n",
       " '엔진형식',\n",
       " '산소값',\n",
       " '재검사기간',\n",
       " '정밀검사일자',\n",
       " '정밀검사판정',\n",
       " '정밀검사측정방법',\n",
       " '정밀검사소명',\n",
       " '정밀검사접수번호',\n",
       " '정밀검사종류',\n",
       " '정밀검사시각정보',\n",
       " '무부하매연판정1',\n",
       " '무부하매연판정2',\n",
       " '무부하매연판정3',\n",
       " '무부하매연판정4',\n",
       " '무부하매연판정5',\n",
       " '무부하매연판정6',\n",
       " '무부하매연허용치1',\n",
       " '무부하매연허용치2',\n",
       " '무부하매연허용치3',\n",
       " '무부하매연허용치4',\n",
       " '무부하매연허용치5',\n",
       " '무부하매연허용치6',\n",
       " '무부하매연측정치1',\n",
       " '무부하매연측정치2',\n",
       " '무부하매연측정치3',\n",
       " '무부하매연측정치4',\n",
       " '무부하매연측정치5',\n",
       " '무부하매연측정치6',\n",
       " '차량용도',\n",
       " '정밀검사유효기간']"
      ]
     },
     "execution_count": 27,
     "metadata": {},
     "output_type": "execute_result"
    }
   ],
   "source": [
    "# 필요한 컬럼만 추출\n",
    "sel_col = col_exc['내용'].to_list()\n",
    "sel_col"
   ]
  },
  {
   "attachments": {},
   "cell_type": "markdown",
   "metadata": {},
   "source": [
    "#### [로드] 정밀검사"
   ]
  },
  {
   "cell_type": "code",
   "execution_count": 28,
   "metadata": {},
   "outputs": [
    {
     "name": "stdout",
     "output_type": "stream",
     "text": [
      "<class 'pandas.core.frame.DataFrame'>\n",
      "RangeIndex: 28682228 entries, 0 to 28682227\n",
      "Data columns (total 41 columns):\n",
      " #   Column              Dtype  \n",
      "---  ------              -----  \n",
      " 0   SMO_CHK_ORG_NM      object \n",
      " 1   SMO_CHK_DATE        int64  \n",
      " 2   SMO_CHK_TYPE        object \n",
      " 3   SMO_CHK_REG_NO      object \n",
      " 4   CAR_REG_NO          object \n",
      " 5   CAR_SER_NO          object \n",
      " 6   CAR_NM              object \n",
      " 7   CAR_TYPE_NM         object \n",
      " 8   USAGE               object \n",
      " 9   CAR_YEAR            int64  \n",
      " 10  CAR_FUEL_NM         object \n",
      " 11  CAR_MILE            float64\n",
      " 12  ENGINE_TYPE         object \n",
      " 13  SMO_CHK_EXP_DATE    float64\n",
      " 14  SMO_CHK_METHOD      object \n",
      " 15  UNLOAD_SMO_VAL1     float64\n",
      " 16  UNLOAD_SMO_LIM1     float64\n",
      " 17  UNLOAD_SMO_JUDGE1   object \n",
      " 18  UNLOAD_SMO_VAL2     float64\n",
      " 19  UNLOAD_SMO_LIM2     float64\n",
      " 20  UNLOAD_SMO_JUDGE2   object \n",
      " 21  UNLOAD_SMO_VAL3     float64\n",
      " 22  UNLOAD_SMO_LIM3     float64\n",
      " 23  UNLOAD_SMO_JUDGE3   object \n",
      " 24  UNLOAD_SMO_VAL4     float64\n",
      " 25  UNLOAD_SMO_LIM4     float64\n",
      " 26  UNLOAD_SMO_JUDGE4   object \n",
      " 27  UNLOAD_SMO_VAL5     float64\n",
      " 28  UNLOAD_SMO_LIM5     float64\n",
      " 29  UNLOAD_SMO_JUDGE5   object \n",
      " 30  CO2_VAL             float64\n",
      " 31  ENGINE_TOR_LIM      float64\n",
      " 32  ENGINE_TOR_VAL      float64\n",
      " 33  O2_VAL              float64\n",
      " 34  SMO_CHK_JUDGE_YN    object \n",
      " 35  RE_INS_DATE2        object \n",
      " 36  SMO_CLOCK_INFO      object \n",
      " 37  CMB_SMO_CHK_REG_NO  object \n",
      " 38  UNLOAD_SMO_VAL6     float64\n",
      " 39  UNLOAD_SMO_LIM6     float64\n",
      " 40  UNLOAD_SMO_JUDGE6   object \n",
      "dtypes: float64(18), int64(2), object(21)\n",
      "memory usage: 8.8+ GB\n"
     ]
    }
   ],
   "source": [
    "# about 8m 44s\n",
    "file_name = 'ODS_TB_EET_HIS_ME.csv'\n",
    "dins = pd.read_csv(os.path.join(ods_fold, file_name), usecols=col, low_memory=False)\n",
    "dins.info()"
   ]
  },
  {
   "cell_type": "code",
   "execution_count": 29,
   "metadata": {},
   "outputs": [
    {
     "name": "stdout",
     "output_type": "stream",
     "text": [
      "<class 'pandas.core.frame.DataFrame'>\n",
      "RangeIndex: 28682228 entries, 0 to 28682227\n",
      "Data columns (total 41 columns):\n",
      " #   Column              Dtype  \n",
      "---  ------              -----  \n",
      " 0   CAR_FUEL_NM         object \n",
      " 1   CAR_MILE            float64\n",
      " 2   CAR_NM              object \n",
      " 3   CAR_REG_NO          object \n",
      " 4   CAR_SER_NO          object \n",
      " 5   CAR_TYPE_NM         object \n",
      " 6   CAR_YEAR            int64  \n",
      " 7   CMB_SMO_CHK_REG_NO  object \n",
      " 8   CO2_VAL             float64\n",
      " 9   ENGINE_TOR_LIM      float64\n",
      " 10  ENGINE_TOR_VAL      float64\n",
      " 11  ENGINE_TYPE         object \n",
      " 12  O2_VAL              float64\n",
      " 13  RE_INS_DATE2        object \n",
      " 14  SMO_CHK_DATE        int64  \n",
      " 15  SMO_CHK_JUDGE_YN    object \n",
      " 16  SMO_CHK_METHOD      object \n",
      " 17  SMO_CHK_ORG_NM      object \n",
      " 18  SMO_CHK_REG_NO      object \n",
      " 19  SMO_CHK_TYPE        object \n",
      " 20  SMO_CLOCK_INFO      object \n",
      " 21  UNLOAD_SMO_JUDGE1   object \n",
      " 22  UNLOAD_SMO_JUDGE2   object \n",
      " 23  UNLOAD_SMO_JUDGE3   object \n",
      " 24  UNLOAD_SMO_JUDGE4   object \n",
      " 25  UNLOAD_SMO_JUDGE5   object \n",
      " 26  UNLOAD_SMO_JUDGE6   object \n",
      " 27  UNLOAD_SMO_LIM1     float64\n",
      " 28  UNLOAD_SMO_LIM2     float64\n",
      " 29  UNLOAD_SMO_LIM3     float64\n",
      " 30  UNLOAD_SMO_LIM4     float64\n",
      " 31  UNLOAD_SMO_LIM5     float64\n",
      " 32  UNLOAD_SMO_LIM6     float64\n",
      " 33  UNLOAD_SMO_VAL1     float64\n",
      " 34  UNLOAD_SMO_VAL2     float64\n",
      " 35  UNLOAD_SMO_VAL3     float64\n",
      " 36  UNLOAD_SMO_VAL4     float64\n",
      " 37  UNLOAD_SMO_VAL5     float64\n",
      " 38  UNLOAD_SMO_VAL6     float64\n",
      " 39  USAGE               object \n",
      " 40  SMO_CHK_EXP_DATE    float64\n",
      "dtypes: float64(18), int64(2), object(21)\n",
      "memory usage: 8.8+ GB\n"
     ]
    }
   ],
   "source": [
    "dins = dins[col]\n",
    "dins.info()"
   ]
  },
  {
   "cell_type": "code",
   "execution_count": 30,
   "metadata": {},
   "outputs": [],
   "source": [
    "dins.columns = sel_col"
   ]
  },
  {
   "cell_type": "code",
   "execution_count": 31,
   "metadata": {},
   "outputs": [
    {
     "data": {
      "text/plain": [
       "Index(['사용연료', '주행거리', '차명', '차량번호', '차대번호', '차종', '차량연식', '정밀검사 검사소코드',\n",
       "       '이산화탄소값', '최대출력허용치', '최대출력측정값', '엔진형식', '산소값', '재검사기간', '정밀검사일자',\n",
       "       '정밀검사판정', '정밀검사측정방법', '정밀검사소명', '정밀검사접수번호', '정밀검사종류', '정밀검사시각정보',\n",
       "       '무부하매연판정1', '무부하매연판정2', '무부하매연판정3', '무부하매연판정4', '무부하매연판정5', '무부하매연판정6',\n",
       "       '무부하매연허용치1', '무부하매연허용치2', '무부하매연허용치3', '무부하매연허용치4', '무부하매연허용치5',\n",
       "       '무부하매연허용치6', '무부하매연측정치1', '무부하매연측정치2', '무부하매연측정치3', '무부하매연측정치4',\n",
       "       '무부하매연측정치5', '무부하매연측정치6', '차량용도', '정밀검사유효기간'],\n",
       "      dtype='object')"
      ]
     },
     "execution_count": 31,
     "metadata": {},
     "output_type": "execute_result"
    }
   ],
   "source": [
    "dins.columns"
   ]
  },
  {
   "cell_type": "code",
   "execution_count": 32,
   "metadata": {},
   "outputs": [],
   "source": [
    "dins = dins[['사용연료', '주행거리', '차명', '차량번호', '차대번호', '차종', '차량연식', '정밀검사측정방법', '이산화탄소값',\n",
    "       '최대출력허용치', '최대출력측정값', '엔진형식', '정밀검사접수번호', '정밀검사일자', '정밀검사종류', '정밀검사소명', '정밀검사시각정보', '정밀검사판정', \n",
    "       '산소값', '재검사기간',  '무부하매연판정1', '무부하매연판정2', '무부하매연판정3', '무부하매연판정4', '무부하매연판정5', '무부하매연판정6', '무부하매연허용치1',\n",
    "       '무부하매연허용치2', '무부하매연허용치3', '무부하매연허용치4', '무부하매연허용치5', '무부하매연허용치6',\n",
    "       '무부하매연측정치1', '무부하매연측정치2', '무부하매연측정치3', '무부하매연측정치4', '무부하매연측정치5',\n",
    "       '무부하매연측정치6', '차량용도']]"
   ]
  },
  {
   "cell_type": "code",
   "execution_count": 33,
   "metadata": {},
   "outputs": [
    {
     "data": {
      "text/plain": [
       "39"
      ]
     },
     "execution_count": 33,
     "metadata": {},
     "output_type": "execute_result"
    }
   ],
   "source": [
    "len(dins.columns)"
   ]
  },
  {
   "cell_type": "code",
   "execution_count": 34,
   "metadata": {},
   "outputs": [],
   "source": [
    "dins.columns = ['사용연료', '주행거리', '차명', '차량번호', '차대번호', '차종', '차량연식', '검사방법', '이산화탄소값', '최대출력허용치',\n",
    "       '최대출력측정값', '엔진형식', '검사접수번호', '검사일자', '검사종류', '검사소명', '검사판정시각',\n",
    "       '검사판정', '산소값', '재검사기간', '무부하매연판정1', '무부하매연판정2', '무부하매연판정3',\n",
    "       '무부하매연판정4', '무부하매연판정5', '무부하매연판정6', '무부하매연허용치1', '무부하매연허용치2',\n",
    "       '무부하매연허용치3', '무부하매연허용치4', '무부하매연허용치5', '무부하매연허용치6', '무부하매연측정치1',\n",
    "       '무부하매연측정치2', '무부하매연측정치3', '무부하매연측정치4', '무부하매연측정치5', '무부하매연측정치6',\n",
    "       '차량용도']"
   ]
  },
  {
   "cell_type": "code",
   "execution_count": 35,
   "metadata": {},
   "outputs": [],
   "source": [
    "dins['정기정밀'] = '정밀'"
   ]
  },
  {
   "cell_type": "code",
   "execution_count": 73,
   "metadata": {},
   "outputs": [
    {
     "data": {
      "text/plain": [
       "count   28682228.00\n",
       "mean    20207111.54\n",
       "std        10853.16\n",
       "min     20190102.00\n",
       "25%     20200409.00\n",
       "50%     20210319.00\n",
       "75%     20220127.00\n",
       "max     20230107.00\n",
       "Name: 검사일자, dtype: float64"
      ]
     },
     "execution_count": 73,
     "metadata": {},
     "output_type": "execute_result"
    }
   ],
   "source": [
    "dins['검사일자'].describe()"
   ]
  },
  {
   "cell_type": "code",
   "execution_count": 36,
   "metadata": {},
   "outputs": [
    {
     "data": {
      "text/plain": [
       "(40, 40)"
      ]
     },
     "execution_count": 36,
     "metadata": {},
     "output_type": "execute_result"
    }
   ],
   "source": [
    "len(ins.columns), len(dins.columns)"
   ]
  },
  {
   "cell_type": "code",
   "execution_count": 62,
   "metadata": {},
   "outputs": [
    {
     "data": {
      "text/plain": [
       "((22006426, 40), (28682228, 40))"
      ]
     },
     "execution_count": 62,
     "metadata": {},
     "output_type": "execute_result"
    }
   ],
   "source": [
    "ins.shape, dins.shape"
   ]
  },
  {
   "cell_type": "code",
   "execution_count": 46,
   "metadata": {},
   "outputs": [
    {
     "data": {
      "text/plain": [
       "(50688654, 40)"
      ]
     },
     "execution_count": 46,
     "metadata": {},
     "output_type": "execute_result"
    }
   ],
   "source": [
    "# about 45s\n",
    "tins = pd.concat([ins, dins], ignore_index=True)\n",
    "tins.shape"
   ]
  },
  {
   "cell_type": "code",
   "execution_count": 63,
   "metadata": {},
   "outputs": [
    {
     "data": {
      "text/plain": [
       "True"
      ]
     },
     "execution_count": 63,
     "metadata": {},
     "output_type": "execute_result"
    }
   ],
   "source": [
    "tins.shape[0] == ins.shape[0] + dins.shape[0]"
   ]
  },
  {
   "cell_type": "code",
   "execution_count": 56,
   "metadata": {},
   "outputs": [
    {
     "data": {
      "text/plain": [
       "사용연료           166419\n",
       "주행거리            36454\n",
       "차명                  0\n",
       "차량번호                0\n",
       "차대번호                0\n",
       "차종                  0\n",
       "차량연식                0\n",
       "검사방법                0\n",
       "이산화탄소값       15811387\n",
       "최대출력허용치      42661321\n",
       "최대출력측정값      50688654\n",
       "엔진형식            61202\n",
       "검사접수번호              0\n",
       "검사일자                0\n",
       "검사종류                0\n",
       "검사소명                0\n",
       "검사판정시각         668123\n",
       "검사판정                0\n",
       "산소값          16909318\n",
       "재검사기간               0\n",
       "무부하매연판정1      2212480\n",
       "무부하매연판정2     27327749\n",
       "무부하매연판정3     27515750\n",
       "무부하매연판정4     29113847\n",
       "무부하매연판정5     29113847\n",
       "무부하매연판정6     30375779\n",
       "무부하매연허용치1     2212436\n",
       "무부하매연허용치2    22808108\n",
       "무부하매연허용치3    22916313\n",
       "무부하매연허용치4    24512624\n",
       "무부하매연허용치5    24512624\n",
       "무부하매연허용치6    25450937\n",
       "무부하매연측정치1     2212037\n",
       "무부하매연측정치2    22088516\n",
       "무부하매연측정치3    22915891\n",
       "무부하매연측정치4    24512241\n",
       "무부하매연측정치5    24512241\n",
       "무부하매연측정치6    25450794\n",
       "차량용도                0\n",
       "정기정밀                0\n",
       "dtype: int64"
      ]
     },
     "execution_count": 56,
     "metadata": {},
     "output_type": "execute_result"
    }
   ],
   "source": [
    "# about 2m 17s\n",
    "tins.isnull().sum()"
   ]
  },
  {
   "cell_type": "code",
   "execution_count": 57,
   "metadata": {},
   "outputs": [
    {
     "data": {
      "text/plain": [
       "array(['KNCWJX76AGK038342', 'KMHFF41CBDA233234', 'KNAGN418BFA579667', ...,\n",
       "       'KNAPK81BBKA531767', 'KMHD641EEKU794897', 'KNAGU411BKA320199'],\n",
       "      dtype=object)"
      ]
     },
     "execution_count": 57,
     "metadata": {},
     "output_type": "execute_result"
    }
   ],
   "source": [
    "tins['차대번호'].unique()"
   ]
  },
  {
   "cell_type": "code",
   "execution_count": 47,
   "metadata": {},
   "outputs": [
    {
     "data": {
      "text/plain": [
       "(22044208, 40)"
      ]
     },
     "execution_count": 47,
     "metadata": {},
     "output_type": "execute_result"
    }
   ],
   "source": [
    "# about 3m 1s\n",
    "tins_m = tins.sort_values('검사일자', ascending=False).drop_duplicates(subset=['차대번호']).reset_index(drop=True)\n",
    "tins_m.shape"
   ]
  },
  {
   "cell_type": "code",
   "execution_count": 48,
   "metadata": {},
   "outputs": [],
   "source": [
    "tins_m = tins_m[['차대번호', '검사방법', '검사종류', '검사판정', '무부하매연판정1', '무부하매연판정2', '무부하매연판정3',\n",
    "       '무부하매연판정4', '무부하매연판정5', '무부하매연판정6', '무부하매연허용치1', '무부하매연허용치2',\n",
    "       '무부하매연허용치3', '무부하매연허용치4', '무부하매연허용치5', '무부하매연허용치6', '무부하매연측정치1',\n",
    "       '무부하매연측정치2', '무부하매연측정치3', '무부하매연측정치4', '무부하매연측정치5', '무부하매연측정치6', '정기정밀'\n",
    "       ]]"
   ]
  },
  {
   "cell_type": "code",
   "execution_count": 49,
   "metadata": {},
   "outputs": [],
   "source": [
    "# about 1m 4s\n",
    "tcond1 = cond1.merge(tins_m, on='차대번호', how='left')\n",
    "tcond2 = cond2.merge(tins_m, on='차대번호', how='left')"
   ]
  },
  {
   "cell_type": "code",
   "execution_count": 50,
   "metadata": {},
   "outputs": [
    {
     "data": {
      "text/plain": [
       "((92265, 71), (4790, 71))"
      ]
     },
     "execution_count": 50,
     "metadata": {},
     "output_type": "execute_result"
    }
   ],
   "source": [
    "tcond1.shape, tcond2.shape"
   ]
  },
  {
   "cell_type": "code",
   "execution_count": 51,
   "metadata": {},
   "outputs": [
    {
     "data": {
      "text/plain": [
       "차량관리번호           0\n",
       "차량등록번호           0\n",
       "본거지법정동코드         0\n",
       "소유자구분            0\n",
       "차종_등록정보          0\n",
       "             ...  \n",
       "무부하매연측정치3    76400\n",
       "무부하매연측정치4    76400\n",
       "무부하매연측정치5    76400\n",
       "무부하매연측정치6    76433\n",
       "정기정밀          2910\n",
       "Length: 71, dtype: int64"
      ]
     },
     "execution_count": 51,
     "metadata": {},
     "output_type": "execute_result"
    }
   ],
   "source": [
    "tcond1.isnull().sum()"
   ]
  },
  {
   "cell_type": "code",
   "execution_count": 52,
   "metadata": {},
   "outputs": [
    {
     "data": {
      "text/plain": [
       "차량관리번호          0\n",
       "차량등록번호          0\n",
       "본거지법정동코드        0\n",
       "소유자구분           0\n",
       "차종_등록정보         0\n",
       "             ... \n",
       "무부하매연측정치3    3905\n",
       "무부하매연측정치4    3905\n",
       "무부하매연측정치5    3905\n",
       "무부하매연측정치6    3906\n",
       "정기정밀          171\n",
       "Length: 71, dtype: int64"
      ]
     },
     "execution_count": 52,
     "metadata": {},
     "output_type": "execute_result"
    }
   ],
   "source": [
    "tcond2.isnull().sum()"
   ]
  },
  {
   "cell_type": "code",
   "execution_count": null,
   "metadata": {},
   "outputs": [],
   "source": []
  },
  {
   "attachments": {},
   "cell_type": "markdown",
   "metadata": {},
   "source": [
    "### 최신 정기&정밀 데이터 정보 추가"
   ]
  },
  {
   "attachments": {},
   "cell_type": "markdown",
   "metadata": {},
   "source": [
    "#### 최신 데이터만 남기기\n",
    "- ins(정기검사) : '정기검사일자' 기준 정렬\n",
    "- dins(정밀검사) : '정밀검사일자' 기준 정렬"
   ]
  },
  {
   "cell_type": "code",
   "execution_count": 33,
   "metadata": {},
   "outputs": [
    {
     "data": {
      "text/plain": [
       "Index(['차대번호', '사용연료', '주행거리', '차명', '차량번호', '차종', '차량연식', '검사방법', '이산화탄소값',\n",
       "       '최대출력허용치', '최대출력측정값', '엔진형식', '검사접수번호', '정기검사일자', '검사종류', '검사소명',\n",
       "       '검사판정시각', '정기검사판정', '산소값', '재검사기간', '무부하매연판정1', '무부하매연판정2', '무부하매연판정3',\n",
       "       '무부하매연판정4', '무부하매연판정5', '무부하매연판정6', '무부하매연허용치1', '무부하매연허용치2',\n",
       "       '무부하매연허용치3', '무부하매연허용치4', '무부하매연허용치5', '무부하매연허용치6', '무부하매연측정치1',\n",
       "       '무부하매연측정치2', '무부하매연측정치3', '무부하매연측정치4', '무부하매연측정치5', '무부하매연측정치6',\n",
       "       '차량용도'],\n",
       "      dtype='object')"
      ]
     },
     "execution_count": 33,
     "metadata": {},
     "output_type": "execute_result"
    }
   ],
   "source": [
    "ins4.columns"
   ]
  },
  {
   "cell_type": "code",
   "execution_count": 34,
   "metadata": {},
   "outputs": [
    {
     "data": {
      "text/plain": [
       "39"
      ]
     },
     "execution_count": 34,
     "metadata": {},
     "output_type": "execute_result"
    }
   ],
   "source": [
    "len(ins4.columns)"
   ]
  },
  {
   "cell_type": "code",
   "execution_count": 35,
   "metadata": {},
   "outputs": [
    {
     "data": {
      "text/plain": [
       "41"
      ]
     },
     "execution_count": 35,
     "metadata": {},
     "output_type": "execute_result"
    }
   ],
   "source": [
    "len(dins4.columns)"
   ]
  },
  {
   "cell_type": "code",
   "execution_count": 36,
   "metadata": {},
   "outputs": [],
   "source": [
    "ins4.columns = ['차대번호', '사용연료', '주행거리', '차명', '차량번호', '차종', '차량연식', '검사방법', '이산화탄소값', '최대출력허용치',\n",
    "       '최대출력측정값', '엔진형식', '검사접수번호', '검사일자', '검사종류', '검사소명', '검사판정시각',\n",
    "       '검사판정', '산소값', '재검사기간', '무부하매연판정1', '무부하매연판정2', '무부하매연판정3',\n",
    "       '무부하매연판정4', '무부하매연판정5', '무부하매연판정6', '무부하매연허용치1', '무부하매연허용치2',\n",
    "       '무부하매연허용치3', '무부하매연허용치4', '무부하매연허용치5', '무부하매연허용치6', '무부하매연측정치1',\n",
    "       '무부하매연측정치2', '무부하매연측정치3', '무부하매연측정치4', '무부하매연측정치5', '무부하매연측정치6',\n",
    "       '차량용도']"
   ]
  },
  {
   "cell_type": "code",
   "execution_count": 37,
   "metadata": {},
   "outputs": [],
   "source": [
    "ins4['정기정밀'] = '정기'"
   ]
  },
  {
   "cell_type": "code",
   "execution_count": 38,
   "metadata": {},
   "outputs": [
    {
     "data": {
      "text/plain": [
       "Index(['차대번호', '사용연료', '주행거리', '차명', '차량번호', '차종', '차량연식', '정밀검사 검사소코드',\n",
       "       '이산화탄소값', '최대출력허용치', '최대출력측정값', '엔진형식', '산소값', '재검사기간', '정밀검사일자',\n",
       "       '정밀검사판정', '정밀검사측정방법', '정밀검사소명', '정밀검사접수번호', '정밀검사종류', '정밀검사시각정보',\n",
       "       '무부하매연판정1', '무부하매연판정2', '무부하매연판정3', '무부하매연판정4', '무부하매연판정5', '무부하매연판정6',\n",
       "       '무부하매연허용치1', '무부하매연허용치2', '무부하매연허용치3', '무부하매연허용치4', '무부하매연허용치5',\n",
       "       '무부하매연허용치6', '무부하매연측정치1', '무부하매연측정치2', '무부하매연측정치3', '무부하매연측정치4',\n",
       "       '무부하매연측정치5', '무부하매연측정치6', '차량용도', '정밀검사유효기간'],\n",
       "      dtype='object')"
      ]
     },
     "execution_count": 38,
     "metadata": {},
     "output_type": "execute_result"
    }
   ],
   "source": [
    "dins4.columns"
   ]
  },
  {
   "cell_type": "code",
   "execution_count": 39,
   "metadata": {},
   "outputs": [],
   "source": [
    "dins4 = dins4[['차대번호', '사용연료', '주행거리', '차명', '차량번호', '차종', '차량연식', '정밀검사측정방법', '이산화탄소값',\n",
    "       '최대출력허용치', '최대출력측정값', '엔진형식', '정밀검사접수번호', '정밀검사일자', '정밀검사종류', '정밀검사소명', '정밀검사시각정보', '정밀검사판정', \n",
    "       '산소값', '재검사기간',  '무부하매연판정1', '무부하매연판정2', '무부하매연판정3', '무부하매연판정4', '무부하매연판정5', '무부하매연판정6', '무부하매연허용치1',\n",
    "       '무부하매연허용치2', '무부하매연허용치3', '무부하매연허용치4', '무부하매연허용치5', '무부하매연허용치6',\n",
    "       '무부하매연측정치1', '무부하매연측정치2', '무부하매연측정치3', '무부하매연측정치4', '무부하매연측정치5',\n",
    "       '무부하매연측정치6', '차량용도']]"
   ]
  },
  {
   "cell_type": "code",
   "execution_count": 40,
   "metadata": {},
   "outputs": [
    {
     "data": {
      "text/plain": [
       "39"
      ]
     },
     "execution_count": 40,
     "metadata": {},
     "output_type": "execute_result"
    }
   ],
   "source": [
    "len(dins4.columns)"
   ]
  },
  {
   "cell_type": "code",
   "execution_count": 41,
   "metadata": {},
   "outputs": [],
   "source": [
    "dins4.columns = ['차대번호', '사용연료', '주행거리', '차명', '차량번호', '차종', '차량연식', '검사방법', '이산화탄소값', '최대출력허용치',\n",
    "       '최대출력측정값', '엔진형식', '검사접수번호', '검사일자', '검사종류', '검사소명', '검사판정시각',\n",
    "       '검사판정', '산소값', '재검사기간', '무부하매연판정1', '무부하매연판정2', '무부하매연판정3',\n",
    "       '무부하매연판정4', '무부하매연판정5', '무부하매연판정6', '무부하매연허용치1', '무부하매연허용치2',\n",
    "       '무부하매연허용치3', '무부하매연허용치4', '무부하매연허용치5', '무부하매연허용치6', '무부하매연측정치1',\n",
    "       '무부하매연측정치2', '무부하매연측정치3', '무부하매연측정치4', '무부하매연측정치5', '무부하매연측정치6',\n",
    "       '차량용도']"
   ]
  },
  {
   "cell_type": "code",
   "execution_count": 42,
   "metadata": {},
   "outputs": [],
   "source": [
    "dins4['정기정밀'] = '정밀'"
   ]
  },
  {
   "cell_type": "code",
   "execution_count": 43,
   "metadata": {},
   "outputs": [
    {
     "data": {
      "text/plain": [
       "(40, 40)"
      ]
     },
     "execution_count": 43,
     "metadata": {},
     "output_type": "execute_result"
    }
   ],
   "source": [
    "len(ins4.columns), len(dins4.columns)"
   ]
  },
  {
   "cell_type": "code",
   "execution_count": 44,
   "metadata": {},
   "outputs": [
    {
     "data": {
      "text/plain": [
       "(5994984, 40)"
      ]
     },
     "execution_count": 44,
     "metadata": {},
     "output_type": "execute_result"
    }
   ],
   "source": [
    "tins4 = pd.concat([ins4, dins4], ignore_index=True)\n",
    "tins4.shape"
   ]
  },
  {
   "cell_type": "code",
   "execution_count": 45,
   "metadata": {},
   "outputs": [
    {
     "data": {
      "text/plain": [
       "3178081    20230107.0\n",
       "3892803    20230107.0\n",
       "2620998    20230107.0\n",
       "2620997    20230107.0\n",
       "2890488    20230107.0\n",
       "Name: 검사일자, dtype: float64"
      ]
     },
     "execution_count": 45,
     "metadata": {},
     "output_type": "execute_result"
    }
   ],
   "source": [
    "tins4.sort_values('검사일자', ascending=False)['검사일자'].head()"
   ]
  },
  {
   "cell_type": "code",
   "execution_count": 46,
   "metadata": {},
   "outputs": [
    {
     "data": {
      "text/plain": [
       "(1511139, 40)"
      ]
     },
     "execution_count": 46,
     "metadata": {},
     "output_type": "execute_result"
    }
   ],
   "source": [
    "tins4_m = tins4.sort_values('검사일자', ascending=False).drop_duplicates(subset=['차대번호']).reset_index(drop=True)\n",
    "tins4_m.shape"
   ]
  },
  {
   "cell_type": "code",
   "execution_count": 47,
   "metadata": {},
   "outputs": [
    {
     "data": {
      "text/plain": [
       "array(['부하검사(KD-147)', '무부하검사(급가속)', '부하검사(LUG DOWN)', '부하검사(ASM-Idling)',\n",
       "       '무부하검사(TSI)', '무부하검사(정지가동)', nan], dtype=object)"
      ]
     },
     "execution_count": 47,
     "metadata": {},
     "output_type": "execute_result"
    }
   ],
   "source": [
    "tins4_m['검사방법'].unique()"
   ]
  },
  {
   "cell_type": "code",
   "execution_count": 48,
   "metadata": {},
   "outputs": [
    {
     "data": {
      "text/plain": [
       "array(['종합검사', '종합검사(경과)', '2부재검사(종합)', '1부재검사(종합)', '정기검사', '재검사(2부재검사)',\n",
       "       '정기(경과)검사', '재검사(1부재검사)', nan], dtype=object)"
      ]
     },
     "execution_count": 48,
     "metadata": {},
     "output_type": "execute_result"
    }
   ],
   "source": [
    "tins4_m['검사종류'].unique()"
   ]
  },
  {
   "cell_type": "code",
   "execution_count": 49,
   "metadata": {},
   "outputs": [],
   "source": [
    "tins4_m = tins4_m[['차대번호', '검사방법', '검사종류', '검사판정', '무부하매연판정1', '무부하매연판정2', '무부하매연판정3',\n",
    "       '무부하매연판정4', '무부하매연판정5', '무부하매연판정6', '무부하매연허용치1', '무부하매연허용치2',\n",
    "       '무부하매연허용치3', '무부하매연허용치4', '무부하매연허용치5', '무부하매연허용치6', '무부하매연측정치1',\n",
    "       '무부하매연측정치2', '무부하매연측정치3', '무부하매연측정치4', '무부하매연측정치5', '무부하매연측정치6', '정기정밀'\n",
    "       ]]"
   ]
  },
  {
   "cell_type": "code",
   "execution_count": 55,
   "metadata": {},
   "outputs": [],
   "source": [
    "tcond1 = cond1.merge(tins4_m, on='차대번호', how='left')\n",
    "tcond2 = cond2.merge(tins4_m, on='차대번호', how='left')"
   ]
  },
  {
   "cell_type": "code",
   "execution_count": 90,
   "metadata": {},
   "outputs": [
    {
     "data": {
      "text/plain": [
       "0"
      ]
     },
     "execution_count": 90,
     "metadata": {},
     "output_type": "execute_result"
    }
   ],
   "source": [
    "len(set(cond2['차대번호']) & set(tins4_m['차대번호']))"
   ]
  },
  {
   "cell_type": "code",
   "execution_count": 56,
   "metadata": {},
   "outputs": [
    {
     "data": {
      "text/plain": [
       "((92265, 71), (4790, 71))"
      ]
     },
     "execution_count": 56,
     "metadata": {},
     "output_type": "execute_result"
    }
   ],
   "source": [
    "tcond1.shape, tcond2.shape"
   ]
  },
  {
   "cell_type": "code",
   "execution_count": 78,
   "metadata": {},
   "outputs": [
    {
     "data": {
      "text/plain": [
       "(1511139, 23)"
      ]
     },
     "execution_count": 78,
     "metadata": {},
     "output_type": "execute_result"
    }
   ],
   "source": [
    "tins4_m.shape"
   ]
  },
  {
   "cell_type": "code",
   "execution_count": 77,
   "metadata": {},
   "outputs": [
    {
     "data": {
      "text/plain": [
       "차대번호               0\n",
       "검사방법          319472\n",
       "검사종류          319472\n",
       "검사판정          319472\n",
       "무부하매연판정1      329827\n",
       "무부하매연판정2     1404876\n",
       "무부하매연판정3     1405799\n",
       "무부하매연판정4     1406487\n",
       "무부하매연판정5     1406487\n",
       "무부하매연판정6     1450407\n",
       "무부하매연허용치1     329827\n",
       "무부하매연허용치2    1120100\n",
       "무부하매연허용치3    1120101\n",
       "무부하매연허용치4    1120787\n",
       "무부하매연허용치5    1120787\n",
       "무부하매연허용치6    1152988\n",
       "무부하매연측정치1     329825\n",
       "무부하매연측정치2    1085268\n",
       "무부하매연측정치3    1120100\n",
       "무부하매연측정치4    1120786\n",
       "무부하매연측정치5    1120786\n",
       "무부하매연측정치6    1152988\n",
       "정기정밀               0\n",
       "dtype: int64"
      ]
     },
     "execution_count": 77,
     "metadata": {},
     "output_type": "execute_result"
    }
   ],
   "source": [
    "tins4_m.isnull().sum()"
   ]
  },
  {
   "cell_type": "code",
   "execution_count": 81,
   "metadata": {},
   "outputs": [
    {
     "data": {
      "text/plain": [
       "차량관리번호           0\n",
       "차량등록번호           0\n",
       "본거지법정동코드         0\n",
       "소유자구분            0\n",
       "차종_등록정보          0\n",
       "             ...  \n",
       "무부하매연측정치3    76402\n",
       "무부하매연측정치4    76402\n",
       "무부하매연측정치5    76402\n",
       "무부하매연측정치6    76436\n",
       "정기정밀             0\n",
       "Length: 71, dtype: int64"
      ]
     },
     "execution_count": 81,
     "metadata": {},
     "output_type": "execute_result"
    }
   ],
   "source": [
    "tcond1.isnull().sum()"
   ]
  },
  {
   "cell_type": "code",
   "execution_count": 82,
   "metadata": {},
   "outputs": [
    {
     "data": {
      "text/plain": [
       "차량관리번호          0\n",
       "차량등록번호          0\n",
       "본거지법정동코드        0\n",
       "소유자구분           0\n",
       "차종_등록정보         0\n",
       "             ... \n",
       "무부하매연측정치3    4790\n",
       "무부하매연측정치4    4790\n",
       "무부하매연측정치5    4790\n",
       "무부하매연측정치6    4790\n",
       "정기정밀         4790\n",
       "Length: 71, dtype: int64"
      ]
     },
     "execution_count": 82,
     "metadata": {},
     "output_type": "execute_result"
    }
   ],
   "source": [
    "tcond2.isnull().sum()"
   ]
  },
  {
   "attachments": {},
   "cell_type": "markdown",
   "metadata": {},
   "source": [
    "### 통계"
   ]
  },
  {
   "cell_type": "code",
   "execution_count": 82,
   "metadata": {},
   "outputs": [
    {
     "data": {
      "text/html": [
       "<div>\n",
       "<style scoped>\n",
       "    .dataframe tbody tr th:only-of-type {\n",
       "        vertical-align: middle;\n",
       "    }\n",
       "\n",
       "    .dataframe tbody tr th {\n",
       "        vertical-align: top;\n",
       "    }\n",
       "\n",
       "    .dataframe thead th {\n",
       "        text-align: right;\n",
       "    }\n",
       "</style>\n",
       "<table border=\"1\" class=\"dataframe\">\n",
       "  <thead>\n",
       "    <tr style=\"text-align: right;\">\n",
       "      <th></th>\n",
       "      <th>mean</th>\n",
       "      <th>min</th>\n",
       "      <th>max</th>\n",
       "    </tr>\n",
       "    <tr>\n",
       "      <th>제원관리번호</th>\n",
       "      <th></th>\n",
       "      <th></th>\n",
       "      <th></th>\n",
       "    </tr>\n",
       "  </thead>\n",
       "  <tbody>\n",
       "    <tr>\n",
       "      <th>00034101000013116</th>\n",
       "      <td>11.00</td>\n",
       "      <td>11.00</td>\n",
       "      <td>11.00</td>\n",
       "    </tr>\n",
       "    <tr>\n",
       "      <th>00034101000023116</th>\n",
       "      <td>0.00</td>\n",
       "      <td>0.00</td>\n",
       "      <td>0.00</td>\n",
       "    </tr>\n",
       "    <tr>\n",
       "      <th>00034427000113118</th>\n",
       "      <td>0.00</td>\n",
       "      <td>0.00</td>\n",
       "      <td>0.00</td>\n",
       "    </tr>\n",
       "    <tr>\n",
       "      <th>2P810000500003108</th>\n",
       "      <td>17.00</td>\n",
       "      <td>17.00</td>\n",
       "      <td>17.00</td>\n",
       "    </tr>\n",
       "    <tr>\n",
       "      <th>9993411b031771319</th>\n",
       "      <td>NaN</td>\n",
       "      <td>NaN</td>\n",
       "      <td>NaN</td>\n",
       "    </tr>\n",
       "    <tr>\n",
       "      <th>...</th>\n",
       "      <td>...</td>\n",
       "      <td>...</td>\n",
       "      <td>...</td>\n",
       "    </tr>\n",
       "    <tr>\n",
       "      <th>B7M10000700004108</th>\n",
       "      <td>6.00</td>\n",
       "      <td>6.00</td>\n",
       "      <td>6.00</td>\n",
       "    </tr>\n",
       "    <tr>\n",
       "      <th>B7Y10000700004108</th>\n",
       "      <td>8.50</td>\n",
       "      <td>2.00</td>\n",
       "      <td>15.00</td>\n",
       "    </tr>\n",
       "    <tr>\n",
       "      <th>B9P10000900004108</th>\n",
       "      <td>13.69</td>\n",
       "      <td>0.00</td>\n",
       "      <td>89.00</td>\n",
       "    </tr>\n",
       "    <tr>\n",
       "      <th>B9P10001100004108</th>\n",
       "      <td>9.50</td>\n",
       "      <td>5.00</td>\n",
       "      <td>14.00</td>\n",
       "    </tr>\n",
       "    <tr>\n",
       "      <th>BAE10000400004108</th>\n",
       "      <td>12.64</td>\n",
       "      <td>2.00</td>\n",
       "      <td>26.00</td>\n",
       "    </tr>\n",
       "  </tbody>\n",
       "</table>\n",
       "<p>506 rows × 3 columns</p>\n",
       "</div>"
      ],
      "text/plain": [
       "                   mean   min   max\n",
       "제원관리번호                             \n",
       "00034101000013116 11.00 11.00 11.00\n",
       "00034101000023116  0.00  0.00  0.00\n",
       "00034427000113118  0.00  0.00  0.00\n",
       "2P810000500003108 17.00 17.00 17.00\n",
       "9993411b031771319   NaN   NaN   NaN\n",
       "...                 ...   ...   ...\n",
       "B7M10000700004108  6.00  6.00  6.00\n",
       "B7Y10000700004108  8.50  2.00 15.00\n",
       "B9P10000900004108 13.69  0.00 89.00\n",
       "B9P10001100004108  9.50  5.00 14.00\n",
       "BAE10000400004108 12.64  2.00 26.00\n",
       "\n",
       "[506 rows x 3 columns]"
      ]
     },
     "execution_count": 82,
     "metadata": {},
     "output_type": "execute_result"
    }
   ],
   "source": [
    "tcond1.groupby(['제원관리번호'])['무부하매연측정치1'].agg(['mean', 'min', 'max'])"
   ]
  },
  {
   "cell_type": "code",
   "execution_count": 83,
   "metadata": {},
   "outputs": [
    {
     "data": {
      "text/plain": [
       "count   0.00\n",
       "mean     NaN\n",
       "std      NaN\n",
       "min      NaN\n",
       "25%      NaN\n",
       "50%      NaN\n",
       "75%      NaN\n",
       "max      NaN\n",
       "Name: 무부하매연측정치1, dtype: float64"
      ]
     },
     "execution_count": 83,
     "metadata": {},
     "output_type": "execute_result"
    }
   ],
   "source": [
    "tcond1[tcond1['제원관리번호'] == '9993411b031771319']['무부하매연측정치1'].describe()"
   ]
  },
  {
   "cell_type": "code",
   "execution_count": 84,
   "metadata": {},
   "outputs": [
    {
     "data": {
      "text/html": [
       "<div>\n",
       "<style scoped>\n",
       "    .dataframe tbody tr th:only-of-type {\n",
       "        vertical-align: middle;\n",
       "    }\n",
       "\n",
       "    .dataframe tbody tr th {\n",
       "        vertical-align: top;\n",
       "    }\n",
       "\n",
       "    .dataframe thead th {\n",
       "        text-align: right;\n",
       "    }\n",
       "</style>\n",
       "<table border=\"1\" class=\"dataframe\">\n",
       "  <thead>\n",
       "    <tr style=\"text-align: right;\">\n",
       "      <th></th>\n",
       "      <th>mean</th>\n",
       "      <th>min</th>\n",
       "      <th>max</th>\n",
       "    </tr>\n",
       "    <tr>\n",
       "      <th>제원관리번호</th>\n",
       "      <th></th>\n",
       "      <th></th>\n",
       "      <th></th>\n",
       "    </tr>\n",
       "  </thead>\n",
       "  <tbody>\n",
       "    <tr>\n",
       "      <th>A0110003116493108</th>\n",
       "      <td>12.22</td>\n",
       "      <td>0.00</td>\n",
       "      <td>94.00</td>\n",
       "    </tr>\n",
       "    <tr>\n",
       "      <th>A0110003117113109</th>\n",
       "      <td>9.13</td>\n",
       "      <td>0.00</td>\n",
       "      <td>97.00</td>\n",
       "    </tr>\n",
       "    <tr>\n",
       "      <th>A0110003117193109</th>\n",
       "      <td>8.05</td>\n",
       "      <td>0.00</td>\n",
       "      <td>73.00</td>\n",
       "    </tr>\n",
       "    <tr>\n",
       "      <th>A0110003117863109</th>\n",
       "      <td>9.18</td>\n",
       "      <td>0.00</td>\n",
       "      <td>71.00</td>\n",
       "    </tr>\n",
       "    <tr>\n",
       "      <th>A0110003118303110</th>\n",
       "      <td>12.50</td>\n",
       "      <td>11.00</td>\n",
       "      <td>14.00</td>\n",
       "    </tr>\n",
       "    <tr>\n",
       "      <th>A0110003119653111</th>\n",
       "      <td>7.71</td>\n",
       "      <td>0.00</td>\n",
       "      <td>23.00</td>\n",
       "    </tr>\n",
       "  </tbody>\n",
       "</table>\n",
       "</div>"
      ],
      "text/plain": [
       "                   mean   min   max\n",
       "제원관리번호                             \n",
       "A0110003116493108 12.22  0.00 94.00\n",
       "A0110003117113109  9.13  0.00 97.00\n",
       "A0110003117193109  8.05  0.00 73.00\n",
       "A0110003117863109  9.18  0.00 71.00\n",
       "A0110003118303110 12.50 11.00 14.00\n",
       "A0110003119653111  7.71  0.00 23.00"
      ]
     },
     "execution_count": 84,
     "metadata": {},
     "output_type": "execute_result"
    }
   ],
   "source": [
    "tcond2.groupby(['제원관리번호'])['무부하매연측정치1'].agg(['mean', 'min', 'max'])"
   ]
  },
  {
   "cell_type": "code",
   "execution_count": null,
   "metadata": {},
   "outputs": [],
   "source": []
  },
  {
   "attachments": {},
   "cell_type": "markdown",
   "metadata": {},
   "source": [
    "# 2\\. 오류부적합 차량 확인\n",
    "- 18대 차량의 전체 정기, 정밀 검사 데이터\n",
    "- \"자동차 등록정보\"의 '구조변경여부'"
   ]
  },
  {
   "cell_type": "code",
   "execution_count": 53,
   "metadata": {},
   "outputs": [
    {
     "data": {
      "text/plain": [
       "(9, 40)"
      ]
     },
     "execution_count": 53,
     "metadata": {},
     "output_type": "execute_result"
    }
   ],
   "source": [
    "# about 53s\n",
    "sort_ins = ins[(ins['차대번호'] == 'KNADA2322JS052345') | (ins['차대번호'] == 'KL90E3ADDPKZ00001') | (ins['차대번호'] == '119213302764다') | (ins['차대번호'] == '2J4FY29P6NJ557922') |\n",
    "               (ins['차대번호'] == '1J4FY19P2VP499580') | (ins['차대번호'] == '119111200133') | (ins['차대번호'] == '1J4FY29P0SP273538') | (ins['차대번호'] == '1J4FY19P8VP531416') |\n",
    "               (ins['차대번호'] == '4TAVN13D6RZ211218') | (ins['차대번호'] == 'KN3SAP2T2JK000655') | (ins['차대번호'] == '1J4FY19PXVP480887') | (ins['차대번호'] == 'WDB2010241F648322') |\n",
    "               (ins['차대번호'] == '1J4FY19P8VP480886') | (ins['차대번호'] == '1J4FY19P6VP499582') | (ins['차대번호'] == 'SALLPAMM4XA423884') | (ins['차대번호'] == '1J4FY19P4VP531431') |\n",
    "               (ins['차대번호'] == 'KLAPM69P1LB214595') | (ins['차대번호'] == 'KL3K8CGFA5K000018')\n",
    "              ].sort_values('차대번호').reset_index(drop=True)\n",
    "sort_ins.shape"
   ]
  },
  {
   "cell_type": "code",
   "execution_count": 54,
   "metadata": {},
   "outputs": [
    {
     "data": {
      "text/plain": [
       "(17, 40)"
      ]
     },
     "execution_count": 54,
     "metadata": {},
     "output_type": "execute_result"
    }
   ],
   "source": [
    "# about 1m 14s\n",
    "sort_dins = dins[(dins['차대번호'] == 'KNADA2322JS052345') | (dins['차대번호'] == 'KL90E3ADDPKZ00001') | (dins['차대번호'] == '119213302764다') | (dins['차대번호'] == '2J4FY29P6NJ557922') |\n",
    "               (dins['차대번호'] == '1J4FY19P2VP499580') | (dins['차대번호'] == '119111200133') | (dins['차대번호'] == '1J4FY29P0SP273538') | (dins['차대번호'] == '1J4FY19P8VP531416') |\n",
    "               (dins['차대번호'] == '4TAVN13D6RZ211218') | (dins['차대번호'] == 'KN3SAP2T2JK000655') | (dins['차대번호'] == '1J4FY19PXVP480887') | (dins['차대번호'] == 'WDB2010241F648322') |\n",
    "               (dins['차대번호'] == '1J4FY19P8VP480886') | (dins['차대번호'] == '1J4FY19P6VP499582') | (dins['차대번호'] == 'SALLPAMM4XA423884') | (dins['차대번호'] == '1J4FY19P4VP531431') |\n",
    "               (dins['차대번호'] == 'KLAPM69P1LB214595') | (dins['차대번호'] == 'KL3K8CGFA5K000018')\n",
    "              ].sort_values('차대번호').reset_index(drop=True)\n",
    "sort_dins.shape"
   ]
  },
  {
   "cell_type": "code",
   "execution_count": 55,
   "metadata": {},
   "outputs": [
    {
     "data": {
      "text/plain": [
       "(26, 40)"
      ]
     },
     "execution_count": 55,
     "metadata": {},
     "output_type": "execute_result"
    }
   ],
   "source": [
    "# about 3m \n",
    "total_sort = tins[(tins['차대번호'] == 'KNADA2322JS052345') | (tins['차대번호'] == 'KL90E3ADDPKZ00001') | (tins['차대번호'] == '119213302764다') | (tins['차대번호'] == '2J4FY29P6NJ557922') |\n",
    "               (tins['차대번호'] == '1J4FY19P2VP499580') | (tins['차대번호'] == '119111200133') | (tins['차대번호'] == '1J4FY29P0SP273538') | (tins['차대번호'] == '1J4FY19P8VP531416') |\n",
    "               (tins['차대번호'] == '4TAVN13D6RZ211218') | (tins['차대번호'] == 'KN3SAP2T2JK000655') | (tins['차대번호'] == '1J4FY19PXVP480887') | (tins['차대번호'] == 'WDB2010241F648322') |\n",
    "               (tins['차대번호'] == '1J4FY19P8VP480886') | (tins['차대번호'] == '1J4FY19P6VP499582') | (tins['차대번호'] == 'SALLPAMM4XA423884') | (tins['차대번호'] == '1J4FY19P4VP531431') |\n",
    "               (tins['차대번호'] == 'KLAPM69P1LB214595') | (tins['차대번호'] == 'KL3K8CGFA5K000018')\n",
    "              ].sort_values('차대번호').reset_index(drop=True)\n",
    "total_sort.shape"
   ]
  },
  {
   "cell_type": "code",
   "execution_count": 83,
   "metadata": {},
   "outputs": [
    {
     "data": {
      "text/plain": [
       "Index(['차대번호', '사용연료', '주행거리', '차명', '차량번호', '차종', '차량연식', '검사방법', '이산화탄소값',\n",
       "       '최대출력허용치', '최대출력측정값', '엔진형식', '검사접수번호', '검사일자', '검사종류', '검사소명',\n",
       "       '검사판정시각', '검사판정', '산소값', '재검사기간', '무부하매연판정1', '무부하매연판정2', '무부하매연판정3',\n",
       "       '무부하매연판정4', '무부하매연판정5', '무부하매연판정6', '무부하매연허용치1', '무부하매연허용치2',\n",
       "       '무부하매연허용치3', '무부하매연허용치4', '무부하매연허용치5', '무부하매연허용치6', '무부하매연측정치1',\n",
       "       '무부하매연측정치2', '무부하매연측정치3', '무부하매연측정치4', '무부하매연측정치5', '무부하매연측정치6', '차량용도',\n",
       "       '정기정밀'],\n",
       "      dtype='object')"
      ]
     },
     "execution_count": 83,
     "metadata": {},
     "output_type": "execute_result"
    }
   ],
   "source": [
    "sort_ins.columns"
   ]
  },
  {
   "cell_type": "code",
   "execution_count": 76,
   "metadata": {},
   "outputs": [
    {
     "data": {
      "text/plain": [
       "Index(['사용연료', '주행거리', '차명', '차량번호', '차대번호', '차종', '차량연식', '검사방법', '이산화탄소값',\n",
       "       '최대출력허용치', '최대출력측정값', '엔진형식', '검사접수번호', '검사일자', '검사종류', '검사소명',\n",
       "       '검사판정시각', '검사판정', '산소값', '재검사기간', '무부하매연판정1', '무부하매연판정2', '무부하매연판정3',\n",
       "       '무부하매연판정4', '무부하매연판정5', '무부하매연판정6', '무부하매연허용치1', '무부하매연허용치2',\n",
       "       '무부하매연허용치3', '무부하매연허용치4', '무부하매연허용치5', '무부하매연허용치6', '무부하매연측정치1',\n",
       "       '무부하매연측정치2', '무부하매연측정치3', '무부하매연측정치4', '무부하매연측정치5', '무부하매연측정치6', '차량용도',\n",
       "       '정기정밀'],\n",
       "      dtype='object')"
      ]
     },
     "execution_count": 76,
     "metadata": {},
     "output_type": "execute_result"
    }
   ],
   "source": [
    "total_sort.columns"
   ]
  },
  {
   "cell_type": "code",
   "execution_count": 77,
   "metadata": {},
   "outputs": [],
   "source": [
    "temp = car4[['차대번호', '저공해조치구조변경YN']]"
   ]
  },
  {
   "cell_type": "code",
   "execution_count": 78,
   "metadata": {},
   "outputs": [
    {
     "data": {
      "text/plain": [
       "(26, 41)"
      ]
     },
     "execution_count": 78,
     "metadata": {},
     "output_type": "execute_result"
    }
   ],
   "source": [
    "total_sort = total_sort.merge(temp, on='차대번호', how='left')\n",
    "total_sort.shape"
   ]
  },
  {
   "cell_type": "code",
   "execution_count": 84,
   "metadata": {},
   "outputs": [
    {
     "data": {
      "text/plain": [
       "(1, 40)"
      ]
     },
     "execution_count": 84,
     "metadata": {},
     "output_type": "execute_result"
    }
   ],
   "source": [
    "ins4[ins4['차대번호'] == 'KNADA2322JS052345'].shape"
   ]
  },
  {
   "cell_type": "code",
   "execution_count": 85,
   "metadata": {},
   "outputs": [
    {
     "data": {
      "text/plain": [
       "(1, 40)"
      ]
     },
     "execution_count": 85,
     "metadata": {},
     "output_type": "execute_result"
    }
   ],
   "source": [
    "ins4[ins4['차대번호'] == 'KL90E3ADDPKZ00001'].shape"
   ]
  },
  {
   "cell_type": "code",
   "execution_count": 86,
   "metadata": {},
   "outputs": [
    {
     "data": {
      "text/plain": [
       "(49, 40)"
      ]
     },
     "execution_count": 86,
     "metadata": {},
     "output_type": "execute_result"
    }
   ],
   "source": [
    "total_sort = pd.concat([sort_ins, sort_dins], ignore_index=True)\n",
    "total_sort.shape"
   ]
  },
  {
   "attachments": {},
   "cell_type": "markdown",
   "metadata": {},
   "source": [
    "# 3\\. 33,573대 검증"
   ]
  },
  {
   "cell_type": "code",
   "execution_count": 12,
   "metadata": {},
   "outputs": [
    {
     "data": {
      "text/plain": [
       "Index(['차대번호', '차량번호', '제원관리번호', '차종', '용도', '최초등록일', '연식', '제작일자', '검사유효일',\n",
       "       '인증번호', '등급', '차명', '차종분류', '차종유형', '자동차형식', '제작사명', '연료', '엔진형식',\n",
       "       '총중량', '적재중량', '엔진출력', '배기량', '법정동코드', '시도명', '시군구명', '소유자구분', '말소여부',\n",
       "       '일치유무'],\n",
       "      dtype='object')"
      ]
     },
     "execution_count": 12,
     "metadata": {},
     "output_type": "execute_result"
    }
   ],
   "source": [
    "df.columns"
   ]
  },
  {
   "cell_type": "code",
   "execution_count": 13,
   "metadata": {},
   "outputs": [
    {
     "data": {
      "text/plain": [
       "Index(['차대번호', '차량번호', '제원관리번호', '차종', '용도', '최초등록일', '연식', '제작일자', '검사유효일',\n",
       "       '인증번호', '등급', '차명', '차종분류', '차종유형', '자동차형식', '제작사명', '연료', '엔진형식',\n",
       "       '총중량', '적재중량', '엔진출력', '배기량', '법정동코드', '시도명', '시군구명', '소유자구분', '말소여부',\n",
       "       '일치유무'],\n",
       "      dtype='object')"
      ]
     },
     "execution_count": 13,
     "metadata": {},
     "output_type": "execute_result"
    }
   ],
   "source": [
    "list.columns"
   ]
  },
  {
   "cell_type": "code",
   "execution_count": 18,
   "metadata": {},
   "outputs": [
    {
     "data": {
      "text/plain": [
       "((33573, 28), 2213)"
      ]
     },
     "execution_count": 18,
     "metadata": {},
     "output_type": "execute_result"
    }
   ],
   "source": [
    "df.shape, len(df['제원관리번호'].unique())"
   ]
  },
  {
   "cell_type": "code",
   "execution_count": 19,
   "metadata": {},
   "outputs": [
    {
     "data": {
      "text/plain": [
       "((1077937, 28), 5481)"
      ]
     },
     "execution_count": 19,
     "metadata": {},
     "output_type": "execute_result"
    }
   ],
   "source": [
    "list.shape, len(list['제원관리번호'].unique())"
   ]
  },
  {
   "cell_type": "code",
   "execution_count": 21,
   "metadata": {},
   "outputs": [
    {
     "data": {
      "text/plain": [
       "1649"
      ]
     },
     "execution_count": 21,
     "metadata": {},
     "output_type": "execute_result"
    }
   ],
   "source": [
    "len(set(df['제원관리번호']) & set(list['제원관리번호']))"
   ]
  },
  {
   "cell_type": "code",
   "execution_count": 48,
   "metadata": {},
   "outputs": [],
   "source": [
    "temp = list['제원관리번호'].unique()"
   ]
  },
  {
   "cell_type": "code",
   "execution_count": 49,
   "metadata": {},
   "outputs": [],
   "source": [
    "match_no = []\n",
    "for i in df['제원관리번호'].to_list():\n",
    "    if i in temp:\n",
    "        match_no.append(i)"
   ]
  },
  {
   "cell_type": "code",
   "execution_count": 50,
   "metadata": {},
   "outputs": [
    {
     "data": {
      "text/plain": [
       "29138"
      ]
     },
     "execution_count": 50,
     "metadata": {},
     "output_type": "execute_result"
    }
   ],
   "source": [
    "len(match_no)"
   ]
  },
  {
   "cell_type": "code",
   "execution_count": 54,
   "metadata": {},
   "outputs": [
    {
     "data": {
      "text/plain": [
       "list"
      ]
     },
     "execution_count": 54,
     "metadata": {},
     "output_type": "execute_result"
    }
   ],
   "source": [
    "type(match_no)"
   ]
  },
  {
   "cell_type": "code",
   "execution_count": 53,
   "metadata": {},
   "outputs": [
    {
     "data": {
      "text/plain": [
       "{'A0810006211153111',\n",
       " '00920002300101308',\n",
       " 'A0810003001051107',\n",
       " 'B6610021800003308',\n",
       " 'A0810007401112208',\n",
       " '00920003000021309',\n",
       " 'A0110002004851308',\n",
       " 'A0110003400561208',\n",
       " 'A0110004100302307',\n",
       " 'A0810006208053209',\n",
       " 'A0710000301261207',\n",
       " 'A0110004000991308',\n",
       " '00620000800121210',\n",
       " 'A0110003601102210',\n",
       " 'A0110004000901308',\n",
       " 'A0810007000631307',\n",
       " 'B6E10006200003307',\n",
       " 'A0510001600281207',\n",
       " 'A0110003400581208',\n",
       " 'A0810005101413208',\n",
       " 'A0110002004841308',\n",
       " 'A0110003301703109',\n",
       " 'A0810006207323108',\n",
       " 'A0310008400543310',\n",
       " 'A0810007800873310',\n",
       " 'A0810006209213110',\n",
       " 'A0810006900441208',\n",
       " 'A0810006800711307',\n",
       " '04220000800021308',\n",
       " 'A0810007104873309',\n",
       " 'B7F10005300014109',\n",
       " 'A0810006301001205',\n",
       " 'A0810007800543309',\n",
       " 'A0810007317312309',\n",
       " '00220004900051308',\n",
       " 'A0810005101053207',\n",
       " 'A0810006211103111',\n",
       " 'A0810006302001208',\n",
       " 'A0110003600961309',\n",
       " 'A0810006301761207',\n",
       " 'A0810006210863111',\n",
       " 'A0810006302191208',\n",
       " 'A0810006210733111',\n",
       " 'A0810005909132310',\n",
       " 'A0810007402652209',\n",
       " 'A0810006208653109',\n",
       " 'A0110003502301109',\n",
       " 'A0810007800913310',\n",
       " 'A0810007001431308',\n",
       " 'A0810006302441209',\n",
       " 'A0110002004321306',\n",
       " 'A0810006210363111',\n",
       " 'A0810006210393111',\n",
       " 'A0410000500091207',\n",
       " 'A0810005008583209',\n",
       " 'A0810007000121306',\n",
       " '00620000200161307',\n",
       " 'A0810007203874310',\n",
       " 'A0810005101283208',\n",
       " 'A0510001400921308',\n",
       " 'A0110003400621208',\n",
       " 'A0810006700461105',\n",
       " 'A0110003600722208',\n",
       " 'A0110004104612308',\n",
       " 'B1R10005100003308',\n",
       " 'A0810005603032309',\n",
       " 'A0810006207603108',\n",
       " 'A0810007603563308',\n",
       " 'A0810006401611207',\n",
       " 'A0810006211253111',\n",
       " 'A0110003500501105',\n",
       " 'A0810007002031311',\n",
       " 'A0110004109282309',\n",
       " 'A0810006208793109',\n",
       " 'B0310012300014110',\n",
       " 'A0810006210513111',\n",
       " 'A0610003100212209',\n",
       " 'A0510001400751307',\n",
       " 'B2F10025500003308',\n",
       " 'A0410000500111207',\n",
       " 'A0810007000241307',\n",
       " 'A0810007402932210',\n",
       " 'A0810006800811207',\n",
       " '02420000100051306',\n",
       " 'A0110003600592207',\n",
       " 'A0810005602982209',\n",
       " 'A0810005306123310',\n",
       " 'A0810006207633108',\n",
       " '00120001600051307',\n",
       " 'A0810006208303109',\n",
       " 'A0810006900061206',\n",
       " 'A0810006208983209',\n",
       " 'A0110004109012309',\n",
       " '01520003200183208',\n",
       " '04220000400041309',\n",
       " 'A0110003301563108',\n",
       " 'A0810006206533107',\n",
       " 'A0810005101703209',\n",
       " '00920000600111307',\n",
       " '01520003100564310',\n",
       " 'A0810006209643110',\n",
       " 'A0510001500331307',\n",
       " 'A0810005007603208',\n",
       " 'A0810005211503209',\n",
       " 'A0810005101063207',\n",
       " 'A0810006210583111',\n",
       " 'A0810007403482211',\n",
       " 'A0110002004571307',\n",
       " 'A0810006211273211',\n",
       " 'A0110003600942209',\n",
       " 'A0810007403423110',\n",
       " 'A0810005206993207',\n",
       " '01620000200764308',\n",
       " 'A0810005101713209',\n",
       " 'A0810006301241206',\n",
       " 'A0810006401371207',\n",
       " 'A0810007612003310',\n",
       " 'A0210002001552307',\n",
       " 'A0810005211903309',\n",
       " '00620000500251207',\n",
       " 'A0810006208943109',\n",
       " 'A0810005304583307',\n",
       " 'A0110003501621107',\n",
       " 'A0810006209363110',\n",
       " 'A0810007001081308',\n",
       " 'A0810005007343207',\n",
       " 'A0110003600752208',\n",
       " '04220000300051308',\n",
       " 'A0810006301191206',\n",
       " 'A0810007400092207',\n",
       " 'A0810006206963108',\n",
       " 'A0810007108733310',\n",
       " 'A0410000500231208',\n",
       " '02420006800021206',\n",
       " '00920003000011308',\n",
       " 'A0810005801742209',\n",
       " '04220000800061309',\n",
       " 'A0810006211023111',\n",
       " 'A0810006302501209',\n",
       " '00620000200141306',\n",
       " 'A0810005100963207',\n",
       " 'A0310007300033307',\n",
       " 'A0410000500271208',\n",
       " 'A0810005602932209',\n",
       " 'A0810007001441308',\n",
       " 'A0110003400361205',\n",
       " 'A0810007001321308',\n",
       " '02420011500031210',\n",
       " 'A0810006301111205',\n",
       " 'A0110003502051108',\n",
       " 'B4V10003900004208',\n",
       " 'A0110004001421308',\n",
       " 'A0810006400571205',\n",
       " 'A0110003301943111',\n",
       " 'A0310007700303310',\n",
       " 'B2F10010200013307',\n",
       " 'A0110003400441206',\n",
       " 'A0810006210793111',\n",
       " '00820002400001307',\n",
       " 'A0810005005853207',\n",
       " 'A0810007402372209',\n",
       " 'A0810006208153109',\n",
       " 'A0810007319942309',\n",
       " 'A0810005008033208',\n",
       " 'A0110003800651308',\n",
       " 'A0110003301753210',\n",
       " 'A0810006209763110',\n",
       " 'A0810006209193110',\n",
       " 'A0710000400681208',\n",
       " 'A0110004300011208',\n",
       " 'B3710006800024111',\n",
       " 'A0110004002001308',\n",
       " '00820001800111308',\n",
       " 'A0810006210163111',\n",
       " 'A0110003501291106',\n",
       " 'A0810005007893208',\n",
       " '01520003100584310',\n",
       " 'A0810007605283308',\n",
       " 'A0110003900401208',\n",
       " 'A0110002004731307',\n",
       " '00920002000011307',\n",
       " 'A0810006209903210',\n",
       " 'A0810005101343208',\n",
       " 'A0810005007473208',\n",
       " 'A0510001400682207',\n",
       " 'A0810006209723110',\n",
       " 'A0810006210043111',\n",
       " '02420007000001206',\n",
       " 'A0810006401171207',\n",
       " 'A0110003301743110',\n",
       " 'A0610003100002207',\n",
       " 'A0810006209013110',\n",
       " 'A0810006206703107',\n",
       " 'A0810006206953108',\n",
       " 'A0810005801372207',\n",
       " 'B8E10008300003308',\n",
       " 'A0810007000271307',\n",
       " 'B6610031700003308',\n",
       " '00920000700181308',\n",
       " 'A0310007300343308',\n",
       " 'A0810006210673111',\n",
       " 'A0810006801211208',\n",
       " 'A0110004001381308',\n",
       " 'A0810006206513107',\n",
       " 'A0110003400501207',\n",
       " 'A0810006301271206',\n",
       " 'A0810005007433208',\n",
       " 'A0810006208883109',\n",
       " 'A0810007104883309',\n",
       " 'A0110003301923111',\n",
       " 'A0810005210493308',\n",
       " 'A0110004113812310',\n",
       " 'A0510001500421207',\n",
       " 'A0810006208743109',\n",
       " 'A0610003100382211',\n",
       " 'A0110003500301105',\n",
       " 'A0810007000951308',\n",
       " '00220004500021306',\n",
       " 'A0710000400571207',\n",
       " 'B0310008900003209',\n",
       " '02420009200031208',\n",
       " 'A0810005602552207',\n",
       " 'A0810005006373207',\n",
       " 'A0110004110292309',\n",
       " 'A0810006210703111',\n",
       " 'A0810006207063208',\n",
       " 'A0110004002911310',\n",
       " 'A0810005801382207',\n",
       " 'A0810007400793108',\n",
       " 'A0810006207913109',\n",
       " 'A0110002004781308',\n",
       " 'A0810007401572209',\n",
       " 'A0110003800591307',\n",
       " 'A0810007400362207',\n",
       " 'A0110003600982209',\n",
       " '00220005900011307',\n",
       " 'A0810005211213309',\n",
       " 'A0810006800921307',\n",
       " 'A0810006210173111',\n",
       " 'A0810006211073111',\n",
       " 'A0810005212943309',\n",
       " 'A0810005006513207',\n",
       " 'A0110004001131308',\n",
       " 'A0810006208843109',\n",
       " 'A0110003400341205',\n",
       " '00220005000021308',\n",
       " 'A0810005601902206',\n",
       " 'A0810005213223309',\n",
       " 'A0810006211003111',\n",
       " '00220004900021306',\n",
       " 'A0810007001471308',\n",
       " 'A0810007001911310',\n",
       " 'B0310006800014108',\n",
       " 'A0810005101563209',\n",
       " 'A0310007300733308',\n",
       " 'BMY10000100014110',\n",
       " 'A0110003500481105',\n",
       " 'A0810006208723109',\n",
       " 'A0810006302261208',\n",
       " 'A0810007607353309',\n",
       " 'A0810007401873109',\n",
       " 'A0110003502401109',\n",
       " 'A0110003601202210',\n",
       " 'BBN10000100004107',\n",
       " 'A0810005304543307',\n",
       " 'A0110003301683209',\n",
       " 'A0810005211173209',\n",
       " 'BAF10000200012207',\n",
       " 'A0810006300981205',\n",
       " 'A0810007002001311',\n",
       " 'A0810007108643310',\n",
       " 'A0810007400843108',\n",
       " 'A0610001500383110',\n",
       " 'A0110003501311106',\n",
       " 'A0810006801571309',\n",
       " 'A0810006206803108',\n",
       " '02420011500011209',\n",
       " 'A0510001700423110',\n",
       " 'A0810007403612211',\n",
       " '01620000200844308',\n",
       " 'B0B10003300003207',\n",
       " 'A0810005007683208',\n",
       " 'A0710001200071209',\n",
       " '04220000400031308',\n",
       " 'A0110002004501307',\n",
       " 'A0810007401652209',\n",
       " 'A0810005602712208',\n",
       " 'A0810006300961205',\n",
       " 'A0810006208503109',\n",
       " 'A0110003600782208',\n",
       " 'A0110003001531207',\n",
       " 'A0810007401843109',\n",
       " 'B6610023800003308',\n",
       " '00620000400221207',\n",
       " 'A0110003501991108',\n",
       " 'A0110002004941308',\n",
       " 'A0810006800931307',\n",
       " 'B3C20000600003307',\n",
       " 'A0110002004361306',\n",
       " 'A0610003100062207',\n",
       " 'A0810007000881308',\n",
       " 'A0810007400332207',\n",
       " 'A0810006800531306',\n",
       " 'A0210003101072307',\n",
       " 'A0110003600702208',\n",
       " 'A0810005101403208',\n",
       " 'A0810006800481306',\n",
       " 'A0810007001361308',\n",
       " 'A0810005008813209',\n",
       " 'B3C10019500003307',\n",
       " 'A0810007400773108',\n",
       " 'A0310007900783308',\n",
       " 'A0810007612443310',\n",
       " 'A0110003600852209',\n",
       " 'A0110003501951108',\n",
       " 'A0810006209373110',\n",
       " 'A0810006207773108',\n",
       " 'A0810006900391208',\n",
       " 'A0110004300361210',\n",
       " 'A0810006207753108',\n",
       " 'A0110003800871309',\n",
       " 'A0810007400152207',\n",
       " 'A0810007401522209',\n",
       " '00920001600051307',\n",
       " 'B0B10005800013211',\n",
       " 'A0410000500251208',\n",
       " 'A0810006900251207',\n",
       " 'A0810005008563209',\n",
       " 'B3710004600003207',\n",
       " 'A0510001600251207',\n",
       " 'A0810006301221206',\n",
       " 'A0110003400331205',\n",
       " 'A0510001700443110',\n",
       " '00620000500081205',\n",
       " 'A0110002004421306',\n",
       " 'A0110003600842209',\n",
       " 'A0810006207473108',\n",
       " '00620000800011208',\n",
       " 'A0810007500171208',\n",
       " 'A0810006800491306',\n",
       " 'A0110004002901310',\n",
       " 'A0410000500011207',\n",
       " '00920001600041307',\n",
       " 'A0110003500161105',\n",
       " 'B0310010300004109',\n",
       " 'A0810005602322207',\n",
       " 'A0810007000751307',\n",
       " 'A0810005007793208',\n",
       " 'A0810007000031306',\n",
       " 'A0810006302301208',\n",
       " 'A0810005101593209',\n",
       " '01520003100304308',\n",
       " 'A0510001400971309',\n",
       " 'A0110003501351106',\n",
       " 'A0110004400121209',\n",
       " 'A0810006208493109',\n",
       " 'A0810007400253107',\n",
       " 'A0110004001651308',\n",
       " 'A0710001200021208',\n",
       " 'A0110003501701107',\n",
       " 'A0110003301453208',\n",
       " 'B6610019700003307',\n",
       " 'A0510001700253108',\n",
       " 'A0110003601081309',\n",
       " 'A0810006301961208',\n",
       " 'A0110004001971308',\n",
       " 'A0810007000351307',\n",
       " 'B2F20001100003309',\n",
       " '00920001900021307',\n",
       " 'A0410000500051207',\n",
       " 'A0810006207743108',\n",
       " 'A0210002101092307',\n",
       " 'A0810006801221208',\n",
       " 'A0110003502431109',\n",
       " 'A0110004001401308',\n",
       " 'A0810007002051311',\n",
       " 'A0110003601122210',\n",
       " 'A0810005007983208',\n",
       " 'A0810006801551309',\n",
       " 'A0110003601132210',\n",
       " 'A0110004000681307',\n",
       " 'A0810006208463109',\n",
       " '00420000400191206',\n",
       " 'A0110004002681308',\n",
       " 'A0810007312402308',\n",
       " 'A0110003600862209',\n",
       " 'A0810006207393108',\n",
       " 'A0810005602192207',\n",
       " 'A0810006207943109',\n",
       " 'A0810007000441307',\n",
       " 'A0510001700303108',\n",
       " 'A0810005007143207',\n",
       " 'A0810005602772208',\n",
       " 'A0810006209683110',\n",
       " 'A0810007001031308',\n",
       " 'A0810005207263307',\n",
       " 'A0110003301833210',\n",
       " 'A0810007000711307',\n",
       " 'A0810007602863308',\n",
       " 'A0810006207463108',\n",
       " 'A0810005006633207',\n",
       " 'A0810005212053209',\n",
       " 'A0310007300083307',\n",
       " 'A0810007402952210',\n",
       " 'A0810006800911307',\n",
       " 'B7F10002000024107',\n",
       " 'A0110004109042309',\n",
       " 'A0810006703891109',\n",
       " 'A0810007403252210',\n",
       " '01120000500724307',\n",
       " 'A0810007401612209',\n",
       " 'A0810007000161306',\n",
       " 'A0810006209553110',\n",
       " 'A0810007000231306',\n",
       " 'A0810007500621209',\n",
       " 'A0810006208863109',\n",
       " 'A0810003000631105',\n",
       " 'A0810005007963208',\n",
       " 'A0110003600922209',\n",
       " 'A0810006207593108',\n",
       " 'A0810005008433209',\n",
       " 'A0110003400401206',\n",
       " 'A0810006208363109',\n",
       " 'A0810007001731309',\n",
       " 'A0810007400193107',\n",
       " 'A0810007403003110',\n",
       " 'A0810005009053209',\n",
       " 'A0810005007283207',\n",
       " 'B2F10024900003308',\n",
       " 'A0810006208633109',\n",
       " 'A0810005210003208',\n",
       " 'A0810007401723109',\n",
       " 'A0810007201934308',\n",
       " 'A0810007401763109',\n",
       " '00920000600081306',\n",
       " 'A0810005008193209',\n",
       " 'B3710006400024110',\n",
       " 'A0810005700912207',\n",
       " 'A0110003501231106',\n",
       " 'A0810006206873108',\n",
       " 'A0810006210343111',\n",
       " 'A0110004002731308',\n",
       " 'A0110003900221207',\n",
       " 'A0810006206493107',\n",
       " 'A0810005008533209',\n",
       " 'A0810006206933108',\n",
       " 'A0810007403712211',\n",
       " 'A0810005207533307',\n",
       " 'A0810006208523109',\n",
       " 'A0810006210623111',\n",
       " 'A0810006208283109',\n",
       " 'A0810007500191208',\n",
       " '00920003100011308',\n",
       " '01120000504484315',\n",
       " 'A0810005007493208',\n",
       " 'B1Y10000700023306',\n",
       " 'A0110002004551307',\n",
       " 'A0810006206583107',\n",
       " 'A0810006208613109',\n",
       " 'A0110003800691308',\n",
       " '01220001000014306',\n",
       " 'A0810006206823108',\n",
       " 'BMY10000600014110',\n",
       " 'A0810006208563109',\n",
       " 'A0810007401562209',\n",
       " 'A0410000500451209',\n",
       " 'A0810006701811106',\n",
       " 'A0810007402993110',\n",
       " 'A0810006801401208',\n",
       " 'A0810007608713309',\n",
       " 'A0810006800631307',\n",
       " '00920001900061308',\n",
       " 'A0810006700341105',\n",
       " 'A0110004101602307',\n",
       " 'A0110003900071206',\n",
       " 'A0810006801051207',\n",
       " 'A0810006209803110',\n",
       " 'A0810006209293110',\n",
       " 'A0110003400471207',\n",
       " '02420007000021207',\n",
       " 'A0810005213263309',\n",
       " 'A0110004000371307',\n",
       " 'A0110003601042209',\n",
       " 'A0810007400213107',\n",
       " 'A0810007400682208',\n",
       " 'A0810006301201206',\n",
       " 'A0810006207373108',\n",
       " 'BJS10000300014110',\n",
       " 'A0810006800691307',\n",
       " 'A0810006801421208',\n",
       " '00620000500331208',\n",
       " 'A0810005008523209',\n",
       " 'A0810005101373208',\n",
       " '00920000900041305',\n",
       " 'A0810005304763308',\n",
       " 'A0810006301291206',\n",
       " 'A0810006801361308',\n",
       " 'A0810007000391307',\n",
       " 'A0110003601161310',\n",
       " 'A0810007316782309',\n",
       " '00920000300131205',\n",
       " 'A0110003301173207',\n",
       " '02420004900031207',\n",
       " 'A0810005006763207',\n",
       " 'A0810006801081207',\n",
       " 'A0810006210993111',\n",
       " 'A0810006210893111',\n",
       " 'A0110003800761308',\n",
       " 'A0810007001721309',\n",
       " 'B2F10026200003308',\n",
       " 'A0110002004221306',\n",
       " 'A0810006207553108',\n",
       " 'A0810005008603209',\n",
       " 'A0810007000081306',\n",
       " 'A0810006211243111',\n",
       " '00620000800081209',\n",
       " 'A0510001400982210',\n",
       " '00920002300141308',\n",
       " 'A0810005101523208',\n",
       " 'A0110004113222310',\n",
       " 'A0810006209793110',\n",
       " 'A0810007000281307',\n",
       " 'A0810005700922207',\n",
       " 'A0810005207613307',\n",
       " 'A0810006211123111',\n",
       " 'A0110003501721107',\n",
       " 'A0810005008183209',\n",
       " 'A0810005008483209',\n",
       " 'A0810007402362209',\n",
       " 'A0810006207723108',\n",
       " 'A0110003118573110',\n",
       " 'A0810006209273110',\n",
       " 'A0810007317202309',\n",
       " 'A0110004113462310',\n",
       " 'A0810007400002207',\n",
       " 'A0810007400883108',\n",
       " 'A0810005602842208',\n",
       " 'A0810007203794310',\n",
       " 'A0810007401682209',\n",
       " '01520003200203208',\n",
       " 'A0810005007823208',\n",
       " 'A0810006208473109',\n",
       " 'A0110003501271106',\n",
       " 'A0110003600932209',\n",
       " '00220004900031307',\n",
       " 'A0810007500291208',\n",
       " 'A0810005008683209',\n",
       " 'A0810005101463208',\n",
       " 'A0810005212473309',\n",
       " 'A0810005006453207',\n",
       " 'A0810007001241308',\n",
       " 'A0810007403493111',\n",
       " 'A0810006900431208',\n",
       " 'A0510001700313108',\n",
       " '00620000500281307',\n",
       " 'A0810006206893108',\n",
       " '01220001000034308',\n",
       " 'A0110002004741307',\n",
       " 'A0810005207323307',\n",
       " 'B6610006000023307',\n",
       " 'A0810006210823111',\n",
       " 'A0110004000651307',\n",
       " 'A0110002004561307',\n",
       " 'A0510001401042211',\n",
       " 'A0810006301131205',\n",
       " 'A0110004300001208',\n",
       " 'A0110003301603209',\n",
       " 'A0810007400612208',\n",
       " 'A0810006210083111',\n",
       " 'A0110004002831309',\n",
       " 'A0810007402973110',\n",
       " 'A0810007000561307',\n",
       " 'A0410000500331208',\n",
       " 'A0110003001211206',\n",
       " 'A0810005008203209',\n",
       " '00920001800151307',\n",
       " 'A0110003400431206',\n",
       " 'A0310007300023307',\n",
       " 'A0110003600612207',\n",
       " 'A0810005208663308',\n",
       " 'B0W10007700014308',\n",
       " 'A0110003600952209',\n",
       " 'A0810006208773109',\n",
       " 'A0110003501331106',\n",
       " 'A0810006207883208',\n",
       " 'A0810007316772309',\n",
       " 'A0510001002211307',\n",
       " 'A0810007400243107',\n",
       " '01120000500814307',\n",
       " 'A0810008000441210',\n",
       " 'A0810006206573107',\n",
       " 'A0110003601002209',\n",
       " 'A0110003400631208',\n",
       " 'A0110003502291109',\n",
       " 'A0110003600992209',\n",
       " 'A0810005801392307',\n",
       " '02420006800101207',\n",
       " 'A0110003600642207',\n",
       " 'A0810006209913210',\n",
       " 'BBN10000200004208',\n",
       " 'A0810006900221207',\n",
       " 'A0810006301021205',\n",
       " 'A0810006208623109',\n",
       " 'A0110004400101209',\n",
       " 'A0110003400671209',\n",
       " 'A0110004400241210',\n",
       " 'A0110003800671308',\n",
       " 'A0110003601031309',\n",
       " 'A0810005008293209',\n",
       " 'A0110003601192210',\n",
       " 'A0110003800901310',\n",
       " 'A0810005007843208',\n",
       " 'A0810006801311308',\n",
       " 'B3710006400014109',\n",
       " 'A0810006208753109',\n",
       " 'A0810006207413108',\n",
       " '00620000600011205',\n",
       " 'A0110003600901309',\n",
       " 'A0110003301313207',\n",
       " 'A0210001300792207',\n",
       " 'A0110003800601307',\n",
       " 'A0810006208603109',\n",
       " 'A0810006206733107',\n",
       " 'B8E10008400003308',\n",
       " 'A0810007500301208',\n",
       " 'A0810006206903108',\n",
       " 'A0810006207863108',\n",
       " 'A0810006210383111',\n",
       " 'A0810007403472211',\n",
       " 'A0810006211053111',\n",
       " '02420006800001206',\n",
       " 'A0110003301243207',\n",
       " 'A0810007317612309',\n",
       " '00820001600051307',\n",
       " 'A0810006207513108',\n",
       " 'A0810006206843108',\n",
       " 'A0810007403632211',\n",
       " 'A0810007500071207',\n",
       " 'A0810005208893308',\n",
       " 'A0810005101033207',\n",
       " '02420000100031305',\n",
       " 'A0310008001723310',\n",
       " 'A0810006209783110',\n",
       " 'A0810007000311307',\n",
       " 'A0810007401702209',\n",
       " 'A0510001600221207',\n",
       " 'A0810005212563309',\n",
       " 'A0110004002201308',\n",
       " 'A0510001500411207',\n",
       " 'A0510001700363109',\n",
       " 'A0110003600602207',\n",
       " 'A0810005101003207',\n",
       " 'A0110004000161307',\n",
       " 'A0810006300951205',\n",
       " 'A0810006209843210',\n",
       " 'A0410000500021207',\n",
       " 'A0810005602852208',\n",
       " '01620000200674307',\n",
       " 'B2F10021200003308',\n",
       " 'A0810006301491207',\n",
       " 'A0110003601072209',\n",
       " 'A0110003600562207',\n",
       " 'B3C10021600003308',\n",
       " 'A0210002100412306',\n",
       " 'A0810006402021208',\n",
       " 'A0510001700263108',\n",
       " 'A0810005008543209',\n",
       " 'A0310007302773309',\n",
       " 'A0810007400293107',\n",
       " 'A0810006704041110',\n",
       " 'A0810007600003307',\n",
       " 'A0110003800621307',\n",
       " 'A0810005209303308',\n",
       " 'A0310007301853308',\n",
       " 'A0110004102122307',\n",
       " 'A0810006210543111',\n",
       " 'A0810007316802309',\n",
       " '03620000700003307',\n",
       " '00920001500141307',\n",
       " 'B3C10016400003307',\n",
       " 'A0810005208323208',\n",
       " 'B2F10015200003307',\n",
       " 'A0810006207673108',\n",
       " 'A0110003800431307',\n",
       " 'A0810007401692209',\n",
       " 'A0810006208233109',\n",
       " 'BMY10001000004111',\n",
       " 'A0810007310002308',\n",
       " 'A0110002004831308',\n",
       " 'A0810007401592209',\n",
       " 'A0810005212813309',\n",
       " 'A0810005211883309',\n",
       " 'A0310007300303308',\n",
       " 'A0810006209423110',\n",
       " 'A0810005008023208',\n",
       " 'A0810005208863308',\n",
       " 'A0810007000721307',\n",
       " 'A0410000500041207',\n",
       " 'A0810005211893309',\n",
       " 'A0110004000041307',\n",
       " '00220005900021308',\n",
       " 'A0110003900421208',\n",
       " '00920001200201307',\n",
       " 'A0810007403062210',\n",
       " 'A0810006301431207',\n",
       " 'A0810006400731206',\n",
       " 'A0310007300753308',\n",
       " 'A0810006211193111',\n",
       " 'A0110004002211308',\n",
       " 'A0110003900431208',\n",
       " 'A0810006402031208',\n",
       " 'A0810007400112207',\n",
       " 'A0110004000131307',\n",
       " 'A0810006800661307',\n",
       " 'A0810006900241207',\n",
       " 'A0410000500311208',\n",
       " 'A0810006208533109',\n",
       " 'A0810007500801210',\n",
       " 'A0110004002801309',\n",
       " '00820001900001306',\n",
       " 'A0810007201424307',\n",
       " 'A0810005211243309',\n",
       " 'A0110003502311109',\n",
       " '00220004500041308',\n",
       " 'A0810007101783307',\n",
       " 'A0810006301411207',\n",
       " 'A0110004105292308',\n",
       " 'A0810006206923108',\n",
       " 'A0810007604973308',\n",
       " 'A0110004000001307',\n",
       " 'A0810006207713108',\n",
       " 'A0110003400541208',\n",
       " 'A0510001002251307',\n",
       " 'A0810006301691207',\n",
       " 'A0110004001591308',\n",
       " '00220005800011307',\n",
       " 'A0810006205343107',\n",
       " 'A0410000500261208',\n",
       " 'A0810006700351105',\n",
       " 'A0810005006653207',\n",
       " 'A0810006206973108',\n",
       " 'A0810007400903108',\n",
       " 'A0810007103583308',\n",
       " 'A0810005101763209',\n",
       " 'A0110002004521307',\n",
       " 'A0110004001601308',\n",
       " 'A0110004000231307',\n",
       " 'A0110003400481207',\n",
       " 'A0110003400611208',\n",
       " 'A0810006207823108',\n",
       " 'A0810006801131308',\n",
       " 'A0810006209733110',\n",
       " 'A0410000500461209',\n",
       " 'A0810006207663108',\n",
       " 'A0810007400853108',\n",
       " 'A0810005208543308',\n",
       " 'A0310007700313310',\n",
       " 'A0810005603302209',\n",
       " '00620000800021208',\n",
       " 'A0310007301533308',\n",
       " 'B3710006300004108',\n",
       " 'A0810007401773109',\n",
       " '02420010200001208',\n",
       " 'A0310008002063310',\n",
       " 'A0810005101423208',\n",
       " 'A0810005207053207',\n",
       " 'A0810006210573111',\n",
       " 'A0810007402902209',\n",
       " 'A0810007401312208',\n",
       " 'A0110003600802208',\n",
       " 'A0810006801111308',\n",
       " 'A0810006206693107',\n",
       " 'A0810007319762309',\n",
       " 'A0810006210223111',\n",
       " 'A0810006209133110',\n",
       " 'A0110003400661209',\n",
       " '00820001600031306',\n",
       " 'A0810005212113309',\n",
       " '02420006800171208',\n",
       " 'A0810007000001306',\n",
       " 'A0110002004711307',\n",
       " 'A0710001200061209',\n",
       " 'A0110004000711307',\n",
       " 'A0810005006223207',\n",
       " 'A0810006207733108',\n",
       " 'A0810006211183111',\n",
       " 'A0110004001671308',\n",
       " 'A0810006208893109',\n",
       " 'A0110003501601107',\n",
       " 'A0110003301763210',\n",
       " 'A0810005908182309',\n",
       " 'A0810005008653209',\n",
       " 'A0110003500601105',\n",
       " 'A0110004002231308',\n",
       " 'A0810006801231208',\n",
       " 'A0110003502281109',\n",
       " 'A0810005211193309',\n",
       " 'A0810005207423307',\n",
       " 'A0810005007913208',\n",
       " 'A0110003400351205',\n",
       " 'A0810005008213209',\n",
       " 'A0110003301873110',\n",
       " 'A0810006301941208',\n",
       " 'A0810007001281308',\n",
       " 'A0810006800681307',\n",
       " 'A0110003600572207',\n",
       " 'A0810006209713110',\n",
       " 'A0410000500061207',\n",
       " 'A0110003301893211',\n",
       " 'A0810007402383109',\n",
       " 'A0810005008513209',\n",
       " 'A0810005211093309',\n",
       " 'A0810005602582207',\n",
       " '00220005900001307',\n",
       " 'A0810006206813108',\n",
       " 'A0810006207403108',\n",
       " 'A0810006301661207',\n",
       " 'A0810006209413110',\n",
       " 'A0810006206443107',\n",
       " 'A0810006800831207',\n",
       " 'A0810006300931205',\n",
       " 'A0810005210743308',\n",
       " 'A0310008400533310',\n",
       " 'B6610015600003307',\n",
       " 'A0810005008273209',\n",
       " 'A0810007000601307',\n",
       " 'A0810006209573110',\n",
       " 'A0810005210163208',\n",
       " 'A0310008400643310',\n",
       " '00620000900021210',\n",
       " 'A0810005306733310',\n",
       " 'A0810006209773110',\n",
       " 'A0810006211173111',\n",
       " 'B3C10022000003308',\n",
       " 'A0810007400753108',\n",
       " 'A0110003700441206',\n",
       " 'A0810005008773209',\n",
       " 'A0810005208603308',\n",
       " 'A0110003301523208',\n",
       " 'A0810007403503111',\n",
       " 'A0810007401823109',\n",
       " 'A0410000500421209',\n",
       " 'A0810006302271208',\n",
       " 'A0110004112422309',\n",
       " 'A0810007304552307',\n",
       " 'A0810007002041311',\n",
       " '00220005000001306',\n",
       " 'A0310007300043307',\n",
       " 'A0810006209893110',\n",
       " 'A0110004001461308',\n",
       " 'A0110004000171307',\n",
       " 'A0810007000921308',\n",
       " 'A0810007316662309',\n",
       " 'A0110003301643109',\n",
       " 'A0810005008623209',\n",
       " 'A0810007401072208',\n",
       " 'A0810007001041308',\n",
       " 'A0810006207263108',\n",
       " 'A0110002004801308',\n",
       " 'A0810006211143111',\n",
       " 'A0810007400863108',\n",
       " 'A0810006207893208',\n",
       " 'A0810007403332210',\n",
       " 'A0810007106873309',\n",
       " 'A0810007202684309',\n",
       " 'A0810006800901307',\n",
       " 'A0110003301493108',\n",
       " 'A0110002004681307',\n",
       " 'A0510001400862208',\n",
       " 'A0810006207033108',\n",
       " 'A0810006209813110',\n",
       " 'BFW10001800004111',\n",
       " 'A0810006207253108',\n",
       " 'A0810006207853108',\n",
       " 'A0810006800451306',\n",
       " 'A0810007500251208',\n",
       " '00920001200151306',\n",
       " 'A0810006206913108',\n",
       " 'A0110003301983211',\n",
       " 'A0810007611083310',\n",
       " 'A0810006209513110',\n",
       " 'A0810006801471308',\n",
       " 'A0810005602832208',\n",
       " '00920001200141305',\n",
       " 'A0810005006093207',\n",
       " '00620000800051209',\n",
       " 'A0110003113533107',\n",
       " 'A0810005210833308',\n",
       " 'A0110003502421109',\n",
       " 'A0810006302211208',\n",
       " 'A0110003800791308',\n",
       " 'A0110004001621308',\n",
       " 'A0810006400581205',\n",
       " 'A0810006206793108',\n",
       " 'A0810005208123308',\n",
       " 'A0810006209083110',\n",
       " 'A0810007400893108',\n",
       " 'A0810007313062308',\n",
       " 'A0110003501581107',\n",
       " 'A0810006210233111',\n",
       " 'A0110003301593209',\n",
       " 'A0810005006553207',\n",
       " '01120000500964308',\n",
       " 'A0110003501641107',\n",
       " 'A0810006207813108',\n",
       " 'A0110004001431308',\n",
       " 'A0810006207073108',\n",
       " 'A0810005206833207',\n",
       " 'A0810006206433107',\n",
       " 'A0110004000661307',\n",
       " 'A0810006208903209',\n",
       " 'B3910001400003208',\n",
       " 'A0810005305363309',\n",
       " '00920001800101307',\n",
       " 'A0810006801061207',\n",
       " 'A0810007600023307',\n",
       " 'A0210002900122307',\n",
       " 'A0810007400592208',\n",
       " 'B2F10012700003307',\n",
       " 'A0810006207873108',\n",
       " 'A0810006207333108',\n",
       " '01520003100604310',\n",
       " 'A0110002004121306',\n",
       " 'A0810007401803109',\n",
       " 'A0810006401391207',\n",
       " 'A0410000500081207',\n",
       " 'A0810005100973207',\n",
       " 'A0810007401712209',\n",
       " '00620000800111210',\n",
       " 'A0810005101163207',\n",
       " '00920002300021306',\n",
       " 'A0110004300341210',\n",
       " 'A0810007400803108',\n",
       " 'A0110004300061208',\n",
       " 'A0810006208433109',\n",
       " 'A0810007001761309',\n",
       " 'A0810005602792308',\n",
       " 'A0110003800661308',\n",
       " 'A0110003501371106',\n",
       " 'A0810006207643108',\n",
       " 'A0110004400231210',\n",
       " 'A0810006209463110',\n",
       " 'A0310007301603308',\n",
       " 'A0110003500581105',\n",
       " 'A0810007000911308',\n",
       " 'A0110002004661307',\n",
       " 'A0810006207243108',\n",
       " 'A0810006208313109',\n",
       " 'A0410000500101207',\n",
       " 'A0810005209833308',\n",
       " 'A0810006207793108',\n",
       " 'A0810003000841106',\n",
       " 'A0810007403232210',\n",
       " 'A0810006206943108',\n",
       " 'A0810007500511208',\n",
       " 'A0810006208713109',\n",
       " 'A0810006206523107',\n",
       " 'A0810007400122207',\n",
       " 'A0810008000081209',\n",
       " 'A0810005005983207',\n",
       " 'A0510001002231307',\n",
       " 'A0710000301401209',\n",
       " 'A0810005206653307',\n",
       " 'A0810005006173207',\n",
       " 'A0810006301921208',\n",
       " 'A0810006208373109',\n",
       " 'A0410000500031207',\n",
       " 'A0810007000201306',\n",
       " 'A0710000301321208',\n",
       " 'A0810007400142207',\n",
       " 'A0810007108653310',\n",
       " 'A0810007400052207',\n",
       " 'A0810006800801207',\n",
       " 'A0810006801631310',\n",
       " 'A0810007400402207',\n",
       " 'A0110003301433108',\n",
       " 'A0110004002601308',\n",
       " 'A0110003500541105',\n",
       " '00120001600041305',\n",
       " '00620000400151206',\n",
       " 'A0810005212363209',\n",
       " 'A0810006900401208',\n",
       " 'A0810007002011311',\n",
       " 'A0810006701731106',\n",
       " 'A0810006301181206',\n",
       " '02420006800061206',\n",
       " 'A0110002004261306',\n",
       " '02420006800091207',\n",
       " 'A0110004000011307',\n",
       " 'A0810006207613108',\n",
       " 'A0110003501931108',\n",
       " 'A0810006209673110',\n",
       " 'A0810005208203308',\n",
       " 'A0110003500201105',\n",
       " 'A0710001200031208',\n",
       " 'A0810006900081206',\n",
       " 'A0110003501661107',\n",
       " 'A0810006209433110',\n",
       " 'A0810006800461306',\n",
       " 'A0810007401642209',\n",
       " ...}"
      ]
     },
     "execution_count": 53,
     "metadata": {},
     "output_type": "execute_result"
    }
   ],
   "source": [
    "set(match_no)"
   ]
  },
  {
   "cell_type": "code",
   "execution_count": 24,
   "metadata": {},
   "outputs": [
    {
     "ename": "TypeError",
     "evalue": "'DataFrame' object is not callable",
     "output_type": "error",
     "traceback": [
      "\u001b[1;31m---------------------------------------------------------------------------\u001b[0m",
      "\u001b[1;31mTypeError\u001b[0m                                 Traceback (most recent call last)",
      "\u001b[1;32m~\\AppData\\Local\\Temp\\ipykernel_11908\\1869691037.py\u001b[0m in \u001b[0;36m<module>\u001b[1;34m\u001b[0m\n\u001b[1;32m----> 1\u001b[1;33m \u001b[0mtemp\u001b[0m \u001b[1;33m=\u001b[0m \u001b[0mlist\u001b[0m\u001b[1;33m(\u001b[0m \u001b[0mset\u001b[0m\u001b[1;33m(\u001b[0m\u001b[0mdf\u001b[0m\u001b[1;33m[\u001b[0m\u001b[1;34m'제원관리번호'\u001b[0m\u001b[1;33m]\u001b[0m\u001b[1;33m)\u001b[0m \u001b[1;33m&\u001b[0m \u001b[0mset\u001b[0m\u001b[1;33m(\u001b[0m\u001b[0mlist\u001b[0m\u001b[1;33m[\u001b[0m\u001b[1;34m'제원관리번호'\u001b[0m\u001b[1;33m]\u001b[0m\u001b[1;33m)\u001b[0m \u001b[1;33m)\u001b[0m\u001b[1;33m\u001b[0m\u001b[1;33m\u001b[0m\u001b[0m\n\u001b[0m\u001b[0;32m      2\u001b[0m \u001b[0mmatch_idx\u001b[0m \u001b[1;33m=\u001b[0m \u001b[1;33m[\u001b[0m\u001b[1;33m]\u001b[0m\u001b[1;33m\u001b[0m\u001b[1;33m\u001b[0m\u001b[0m\n\u001b[0;32m      3\u001b[0m \u001b[1;32mfor\u001b[0m \u001b[0mi\u001b[0m\u001b[1;33m,\u001b[0m \u001b[0mone\u001b[0m \u001b[1;32min\u001b[0m \u001b[0menumerate\u001b[0m\u001b[1;33m(\u001b[0m\u001b[0mdf\u001b[0m\u001b[1;33m[\u001b[0m\u001b[1;34m'제원관리번호'\u001b[0m\u001b[1;33m]\u001b[0m\u001b[1;33m.\u001b[0m\u001b[0mto_list\u001b[0m\u001b[1;33m(\u001b[0m\u001b[1;33m)\u001b[0m\u001b[1;33m)\u001b[0m\u001b[1;33m:\u001b[0m\u001b[1;33m\u001b[0m\u001b[1;33m\u001b[0m\u001b[0m\n\u001b[0;32m      4\u001b[0m     \u001b[1;32mif\u001b[0m \u001b[0mone\u001b[0m \u001b[1;32min\u001b[0m \u001b[0mtemp\u001b[0m\u001b[1;33m:\u001b[0m\u001b[1;33m\u001b[0m\u001b[1;33m\u001b[0m\u001b[0m\n\u001b[0;32m      5\u001b[0m         \u001b[0mmatch_idx\u001b[0m\u001b[1;33m.\u001b[0m\u001b[0mappend\u001b[0m\u001b[1;33m(\u001b[0m\u001b[0mi\u001b[0m\u001b[1;33m)\u001b[0m\u001b[1;33m\u001b[0m\u001b[1;33m\u001b[0m\u001b[0m\n",
      "\u001b[1;31mTypeError\u001b[0m: 'DataFrame' object is not callable"
     ]
    }
   ],
   "source": [
    "match_idx = []\n",
    "for i, one in enumerate(df['제원관리번호'].to_list()):\n",
    "    if one in temp:\n",
    "        match_idx.append(i)"
   ]
  },
  {
   "cell_type": "code",
   "execution_count": 75,
   "metadata": {},
   "outputs": [
    {
     "data": {
      "text/plain": [
       "0"
      ]
     },
     "execution_count": 75,
     "metadata": {},
     "output_type": "execute_result"
    }
   ],
   "source": [
    "# about \n",
    "temp2 = df.merge(list, on='자동차형식', how='left')\n",
    "temp2.shape"
   ]
  },
  {
   "cell_type": "code",
   "execution_count": null,
   "metadata": {},
   "outputs": [],
   "source": []
  },
  {
   "attachments": {},
   "cell_type": "markdown",
   "metadata": {},
   "source": [
    "### [출력]"
   ]
  },
  {
   "cell_type": "code",
   "execution_count": 86,
   "metadata": {},
   "outputs": [],
   "source": [
    "# about 2m\n",
    "g4dc_fold = 'C:/Users/kbjung/Documents/GitHub/wabotech/car_big_data_2/analysis2/4등급_데이터_점검'\n",
    "file_name = '[BD1]4등급_데이터_점검(8MY-KM-13-19).xlsx'\n",
    "g4dc_path = os.path.join(g4dc_fold, file_name)\n",
    "with pd.ExcelWriter(g4dc_path) as writer:\n",
    "    emis[emis['배출가스 인증번호'] == '8MY-KM-13-19'].to_excel(writer, sheet_name='배출가스인증 자동차정보', index=False)\n",
    "    tcond1.to_excel(writer, sheet_name='4등급', index=False)\n",
    "    tcond2.to_excel(writer, sheet_name='3등급', index=False)\n",
    "    tcond1.groupby(['제원관리번호'])['무부하매연측정치1'].agg(['mean', 'min', 'max']).to_excel(writer, sheet_name='4등급매연')\n",
    "    tcond2.groupby(['제원관리번호'])['무부하매연측정치1'].agg(['mean', 'min', 'max']).to_excel(writer, sheet_name='3등급매연')"
   ]
  },
  {
   "cell_type": "code",
   "execution_count": 80,
   "metadata": {},
   "outputs": [],
   "source": [
    "# about 1m 43s\n",
    "g4dc_fold = 'C:/Users/kbjung/Documents/GitHub/wabotech/car_big_data_2/analysis2/4등급_데이터_점검'\n",
    "file_name = '[BD1]오류부적합.xlsx'\n",
    "g4dc_path = os.path.join(g4dc_fold, file_name)\n",
    "with pd.ExcelWriter(g4dc_path) as writer2:\n",
    "    total_sort.to_excel(writer2, sheet_name='오류부적합', index=False)"
   ]
  },
  {
   "cell_type": "code",
   "execution_count": null,
   "metadata": {},
   "outputs": [],
   "source": [
    "# about 1m 43s\n",
    "g4dc_fold = 'C:/Users/kbjung/Documents/GitHub/wabotech/car_big_data_2/analysis2/4등급_데이터_점검'\n",
    "file_name = '[BD1]4등급_33573대_검증.xlsx'\n",
    "g4dc_path = os.path.join(g4dc_fold, file_name)\n",
    "with pd.ExcelWriter(g4dc_path) as writer3:\n",
    "    temp1.to_excel(writer3, sheet_name='제원관리번호')\n",
    "    temp2.to_excel(writer3, sheet_name='자동차형식')"
   ]
  },
  {
   "attachments": {},
   "cell_type": "markdown",
   "metadata": {},
   "source": [
    "# 코드 마지막"
   ]
  }
 ],
 "metadata": {
  "kernelspec": {
   "display_name": "base",
   "language": "python",
   "name": "python3"
  },
  "language_info": {
   "codemirror_mode": {
    "name": "ipython",
    "version": 3
   },
   "file_extension": ".py",
   "mimetype": "text/x-python",
   "name": "python",
   "nbconvert_exporter": "python",
   "pygments_lexer": "ipython3",
   "version": "3.9.13"
  },
  "orig_nbformat": 4,
  "vscode": {
   "interpreter": {
    "hash": "ad2bdc8ecc057115af97d19610ffacc2b4e99fae6737bb82f5d7fb13d2f2c186"
   }
  }
 },
 "nbformat": 4,
 "nbformat_minor": 2
}
