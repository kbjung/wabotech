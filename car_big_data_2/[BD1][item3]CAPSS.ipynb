{
 "cells": [
  {
   "attachments": {},
   "cell_type": "markdown",
   "metadata": {},
   "source": [
    "# Library"
   ]
  },
  {
   "cell_type": "code",
   "execution_count": 34,
   "metadata": {},
   "outputs": [],
   "source": [
    "import pandas as pd\n",
    "import numpy as np\n",
    "import os\n",
    "from tqdm import tqdm\n",
    "from datetime import datetime\n",
    "import math\n",
    "import xlsxwriter"
   ]
  },
  {
   "cell_type": "code",
   "execution_count": 35,
   "metadata": {},
   "outputs": [],
   "source": [
    "# 소수점 옵션\n",
    "pd.options.display.float_format = '{:.2f}'.format\n",
    "# pd.reset_option('display.float_format')"
   ]
  },
  {
   "attachments": {},
   "cell_type": "markdown",
   "metadata": {},
   "source": [
    "# fold path"
   ]
  },
  {
   "cell_type": "code",
   "execution_count": 36,
   "metadata": {},
   "outputs": [],
   "source": [
    "drive = 'D'\n",
    "raw_fold = f'{drive}:/data/big2/BD1/raw'\n",
    "ods_fold = f'{drive}:/data/big2/ODS'\n",
    "sample_fold = f'{drive}:/data/big2/BD1/sample'\n",
    "analysis_fold = f'{drive}:/data/big2/BD1/an'"
   ]
  },
  {
   "attachments": {},
   "cell_type": "markdown",
   "metadata": {},
   "source": [
    "# Load"
   ]
  },
  {
   "attachments": {},
   "cell_type": "markdown",
   "metadata": {},
   "source": [
    "## 병합 result 최종 파일"
   ]
  },
  {
   "cell_type": "code",
   "execution_count": 37,
   "metadata": {},
   "outputs": [
    {
     "name": "stdout",
     "output_type": "stream",
     "text": [
      "<class 'pandas.core.frame.DataFrame'>\n",
      "RangeIndex: 1502235 entries, 0 to 1502234\n",
      "Data columns (total 37 columns):\n",
      " #   Column      Non-Null Count    Dtype  \n",
      "---  ------      --------------    -----  \n",
      " 0   차대번호        1502235 non-null  object \n",
      " 1   차량번호        1502235 non-null  object \n",
      " 2   제원관리번호      1502235 non-null  object \n",
      " 3   차종          1502235 non-null  object \n",
      " 4   용도          1502235 non-null  object \n",
      " 5   최초등록일       1502235 non-null  int64  \n",
      " 6   연식          1502235 non-null  int64  \n",
      " 7   제작일자        1335178 non-null  float64\n",
      " 8   검사유효일       1502223 non-null  float64\n",
      " 9   배출가스인증번호    1384783 non-null  object \n",
      " 10  등급          1502235 non-null  int64  \n",
      " 11  차명          1502235 non-null  object \n",
      " 12  차종분류        1502235 non-null  object \n",
      " 13  차종유형        1502235 non-null  object \n",
      " 14  자동차형식       1501958 non-null  object \n",
      " 15  제작사명        1492590 non-null  object \n",
      " 16  연료          1502235 non-null  object \n",
      " 17  엔진형식        1500400 non-null  object \n",
      " 18  총중량         1502234 non-null  float64\n",
      " 19  적재중량        1501728 non-null  float64\n",
      " 20  엔진출력        1501882 non-null  object \n",
      " 21  배기량         1502231 non-null  float64\n",
      " 22  법정동코드       1502235 non-null  int64  \n",
      " 23  시도명         1502235 non-null  object \n",
      " 24  시군구명        1502235 non-null  object \n",
      " 25  소유자구분       1502235 non-null  object \n",
      " 26  말소여부        1502235 non-null  object \n",
      " 27  일치유무        1153813 non-null  object \n",
      " 28  인증번호 수정 유무  1151141 non-null  object \n",
      " 29  배인번호_수정     1153813 non-null  object \n",
      " 30  등급_수정       1502235 non-null  float64\n",
      " 31  DPF유무_수정    1153813 non-null  object \n",
      " 32  배출가스        1151141 non-null  object \n",
      " 33  등급2         1151141 non-null  object \n",
      " 34  DPF         1144315 non-null  object \n",
      " 35  비고          46494 non-null    object \n",
      " 36  Grade       1497711 non-null  object \n",
      "dtypes: float64(6), int64(4), object(27)\n",
      "memory usage: 424.1+ MB\n"
     ]
    }
   ],
   "source": [
    "# about 18.9s\n",
    "name = '4등급_차량_리스트_양식_result(전체)_Grade_추가(2023.04.18_PM.03.07.04)'\n",
    "file_name = f'{name}.csv'\n",
    "df = pd.read_csv(os.path.join(raw_fold, file_name), low_memory=False, encoding='cp949')\n",
    "df.info()"
   ]
  },
  {
   "attachments": {},
   "cell_type": "markdown",
   "metadata": {},
   "source": [
    "# 전처리"
   ]
  },
  {
   "cell_type": "code",
   "execution_count": 38,
   "metadata": {},
   "outputs": [
    {
     "data": {
      "text/plain": [
       "Index(['차대번호', '차량번호', '제원관리번호', '차종', '용도', '최초등록일', '연식', '제작일자', '검사유효일',\n",
       "       '배출가스인증번호', '등급', '차명', '차종분류', '차종유형', '자동차형식', '제작사명', '연료', '엔진형식',\n",
       "       '총중량', '적재중량', '엔진출력', '배기량', '법정동코드', '시도명', '시군구명', '소유자구분', '말소여부',\n",
       "       '일치유무', '인증번호 수정 유무', '배인번호_수정', '등급_수정', 'DPF유무_수정', '배출가스', '등급2',\n",
       "       'DPF', '비고', 'Grade'],\n",
       "      dtype='object')"
      ]
     },
     "execution_count": 38,
     "metadata": {},
     "output_type": "execute_result"
    }
   ],
   "source": [
    "df.columns"
   ]
  },
  {
   "cell_type": "code",
   "execution_count": 39,
   "metadata": {},
   "outputs": [
    {
     "data": {
      "text/plain": [
       "경유             1153813\n",
       "휘발유             323019\n",
       "LPG(액화석유가스)      25400\n",
       "알코올                  1\n",
       "기타연료                 1\n",
       "CNG(압축천연가스)          1\n",
       "Name: 연료, dtype: int64"
      ]
     },
     "execution_count": 39,
     "metadata": {},
     "output_type": "execute_result"
    }
   ],
   "source": [
    "df['연료'].value_counts(dropna=False)"
   ]
  },
  {
   "cell_type": "code",
   "execution_count": 40,
   "metadata": {},
   "outputs": [
    {
     "data": {
      "text/plain": [
       "4.00    1497711\n",
       "3.00       4397\n",
       "5.00        127\n",
       "Name: 등급_수정, dtype: int64"
      ]
     },
     "execution_count": 40,
     "metadata": {},
     "output_type": "execute_result"
    }
   ],
   "source": [
    "# 한불모터스에서 확인 한 1대 3등급으로 변경\n",
    "# 3등급 : 4396 + 1 = 4397\n",
    "df['등급_수정'].value_counts(dropna=False)"
   ]
  },
  {
   "attachments": {},
   "cell_type": "markdown",
   "metadata": {},
   "source": [
    "## 4등급 차량(휘발유, 경유, LPG) 추출"
   ]
  },
  {
   "cell_type": "code",
   "execution_count": 41,
   "metadata": {},
   "outputs": [
    {
     "data": {
      "text/plain": [
       "(1497711, 37)"
      ]
     },
     "execution_count": 41,
     "metadata": {},
     "output_type": "execute_result"
    }
   ],
   "source": [
    "df1 = df[df['등급_수정'] == 4].reset_index(drop=True)\n",
    "df1.shape"
   ]
  },
  {
   "cell_type": "code",
   "execution_count": 42,
   "metadata": {},
   "outputs": [
    {
     "data": {
      "text/plain": [
       "(4524, 37)"
      ]
     },
     "execution_count": 42,
     "metadata": {},
     "output_type": "execute_result"
    }
   ],
   "source": [
    "g3_g5 = df[df['등급_수정'] != 4].reset_index(drop=True)\n",
    "g3_g5.shape"
   ]
  },
  {
   "cell_type": "code",
   "execution_count": 43,
   "metadata": {},
   "outputs": [
    {
     "data": {
      "text/plain": [
       "경유             1149289\n",
       "휘발유             323019\n",
       "LPG(액화석유가스)      25400\n",
       "알코올                  1\n",
       "기타연료                 1\n",
       "CNG(압축천연가스)          1\n",
       "Name: 연료, dtype: int64"
      ]
     },
     "execution_count": 43,
     "metadata": {},
     "output_type": "execute_result"
    }
   ],
   "source": [
    "df1['연료'].value_counts(dropna=False)"
   ]
  },
  {
   "cell_type": "code",
   "execution_count": 44,
   "metadata": {},
   "outputs": [
    {
     "data": {
      "text/plain": [
       "(1497708, 37)"
      ]
     },
     "execution_count": 44,
     "metadata": {},
     "output_type": "execute_result"
    }
   ],
   "source": [
    "df1[(df1['연료'] == '휘발유') | (df1['연료'] == '경유') | (df1['연료'] == 'LPG(액화석유가스)')].shape"
   ]
  },
  {
   "cell_type": "code",
   "execution_count": 45,
   "metadata": {},
   "outputs": [],
   "source": [
    "df1 = df1[(df1['연료'] == '휘발유') | (df1['연료'] == '경유') | (df1['연료'] == 'LPG(액화석유가스)')].reset_index(drop=True)"
   ]
  },
  {
   "cell_type": "code",
   "execution_count": 46,
   "metadata": {},
   "outputs": [
    {
     "data": {
      "text/plain": [
       "Index(['차대번호', '차량번호', '제원관리번호', '차종', '용도', '최초등록일', '연식', '제작일자', '검사유효일',\n",
       "       '배출가스인증번호', '등급', '차명', '차종분류', '차종유형', '자동차형식', '제작사명', '연료', '엔진형식',\n",
       "       '총중량', '적재중량', '엔진출력', '배기량', '법정동코드', '시도명', '시군구명', '소유자구분', '말소여부',\n",
       "       '일치유무', '인증번호 수정 유무', '배인번호_수정', '등급_수정', 'DPF유무_수정', '배출가스', '등급2',\n",
       "       'DPF', '비고', 'Grade'],\n",
       "      dtype='object')"
      ]
     },
     "execution_count": 46,
     "metadata": {},
     "output_type": "execute_result"
    }
   ],
   "source": [
    "df1.columns"
   ]
  },
  {
   "cell_type": "code",
   "execution_count": 47,
   "metadata": {},
   "outputs": [
    {
     "data": {
      "text/plain": [
       "경유             1149289\n",
       "휘발유             323019\n",
       "LPG(액화석유가스)      25400\n",
       "Name: 연료, dtype: int64"
      ]
     },
     "execution_count": 47,
     "metadata": {},
     "output_type": "execute_result"
    }
   ],
   "source": [
    "df1['연료'].value_counts(dropna=False)"
   ]
  },
  {
   "attachments": {},
   "cell_type": "markdown",
   "metadata": {},
   "source": [
    "## 중복 차대번호 확인\n",
    "- 최종등록일자, 배출가스검사유효일자 최신 데이터 사용"
   ]
  },
  {
   "cell_type": "code",
   "execution_count": 48,
   "metadata": {},
   "outputs": [
    {
     "data": {
      "text/plain": [
       "(1497708, 1497687)"
      ]
     },
     "execution_count": 48,
     "metadata": {},
     "output_type": "execute_result"
    }
   ],
   "source": [
    "df1.shape[0], len(df1['차대번호'].unique())"
   ]
  },
  {
   "attachments": {},
   "cell_type": "markdown",
   "metadata": {},
   "source": [
    "## 차종 확인"
   ]
  },
  {
   "cell_type": "code",
   "execution_count": 49,
   "metadata": {},
   "outputs": [
    {
     "data": {
      "text/plain": [
       "승용    852363\n",
       "화물    496078\n",
       "승합    142815\n",
       "특수      6452\n",
       "Name: 차종, dtype: int64"
      ]
     },
     "execution_count": 49,
     "metadata": {},
     "output_type": "execute_result"
    }
   ],
   "source": [
    "df1['차종'].value_counts(dropna=False)"
   ]
  },
  {
   "attachments": {},
   "cell_type": "markdown",
   "metadata": {},
   "source": [
    "## 차종유형 확인"
   ]
  },
  {
   "cell_type": "code",
   "execution_count": 50,
   "metadata": {},
   "outputs": [
    {
     "data": {
      "text/plain": [
       "중형    705734\n",
       "소형    554911\n",
       "대형    209816\n",
       "경형     27247\n",
       "Name: 차종유형, dtype: int64"
      ]
     },
     "execution_count": 50,
     "metadata": {},
     "output_type": "execute_result"
    }
   ],
   "source": [
    "df1['차종유형'].value_counts()"
   ]
  },
  {
   "attachments": {},
   "cell_type": "markdown",
   "metadata": {},
   "source": [
    "## 연식 확인"
   ]
  },
  {
   "cell_type": "code",
   "execution_count": 51,
   "metadata": {},
   "outputs": [
    {
     "data": {
      "text/plain": [
       "count   1497708.00\n",
       "mean       2005.87\n",
       "std           6.83\n",
       "min        1901.00\n",
       "25%        2006.00\n",
       "50%        2009.00\n",
       "75%        2010.00\n",
       "max        2018.00\n",
       "Name: 연식, dtype: float64"
      ]
     },
     "execution_count": 51,
     "metadata": {},
     "output_type": "execute_result"
    }
   ],
   "source": [
    "df1['연식'].describe()"
   ]
  },
  {
   "attachments": {},
   "cell_type": "markdown",
   "metadata": {},
   "source": [
    "## 제작일자 확인"
   ]
  },
  {
   "cell_type": "code",
   "execution_count": 52,
   "metadata": {},
   "outputs": [
    {
     "data": {
      "text/plain": [
       "count    1330654.00\n",
       "mean    20072621.19\n",
       "std        52791.07\n",
       "min         1993.00\n",
       "25%     20070917.00\n",
       "50%     20090406.00\n",
       "75%     20100616.00\n",
       "max     20190923.00\n",
       "Name: 제작일자, dtype: float64"
      ]
     },
     "execution_count": 52,
     "metadata": {},
     "output_type": "execute_result"
    }
   ],
   "source": [
    "df1['제작일자'].describe()"
   ]
  },
  {
   "attachments": {},
   "cell_type": "markdown",
   "metadata": {},
   "source": [
    "## 연료별 차종별 차종유형 확인"
   ]
  },
  {
   "cell_type": "code",
   "execution_count": 53,
   "metadata": {},
   "outputs": [
    {
     "data": {
      "text/plain": [
       "연료           차종  차종유형\n",
       "LPG(액화석유가스)  승용  경형          51\n",
       "                 대형         845\n",
       "                 소형         131\n",
       "                 중형       11221\n",
       "             승합  경형        2148\n",
       "                 소형         386\n",
       "                 중형        4501\n",
       "             특수  중형           2\n",
       "             화물  경형        3511\n",
       "                 대형           1\n",
       "                 소형        1792\n",
       "                 중형         811\n",
       "경유           승용  경형           1\n",
       "                 대형      146277\n",
       "                 소형       14589\n",
       "                 중형      364145\n",
       "             승합  대형        3470\n",
       "                 중형      129054\n",
       "             특수  대형        3877\n",
       "                 소형        2045\n",
       "                 중형         524\n",
       "             화물  대형       20782\n",
       "                 소형      426616\n",
       "                 중형       37909\n",
       "휘발유          승용  경형       17519\n",
       "                 대형       34562\n",
       "                 소형      106300\n",
       "                 중형      156722\n",
       "             승합  경형        2010\n",
       "                 대형           1\n",
       "                 소형         437\n",
       "                 중형         808\n",
       "             특수  중형           4\n",
       "             화물  경형        2007\n",
       "                 대형           1\n",
       "                 소형        2615\n",
       "                 중형          33\n",
       "Name: 차대번호, dtype: int64"
      ]
     },
     "execution_count": 53,
     "metadata": {},
     "output_type": "execute_result"
    }
   ],
   "source": [
    "df1.groupby(['연료', '차종', '차종유형'])['차대번호'].count()"
   ]
  },
  {
   "cell_type": "code",
   "execution_count": 54,
   "metadata": {},
   "outputs": [
    {
     "name": "stdout",
     "output_type": "stream",
     "text": [
      "경유 - 승용의 차종유형 : ['대형', '중형', '소형', '경형']\n",
      "경유 - 특수의 차종유형 : ['대형', '소형', '중형']\n",
      "경유 - 승합의 차종유형 : ['대형', '중형']\n",
      "경유 - 화물의 차종유형 : ['대형', '소형', '중형']\n",
      "휘발유 - 승용의 차종유형 : ['소형', '대형', '중형', '경형']\n",
      "휘발유 - 화물의 차종유형 : ['경형', '소형', '대형', '중형']\n",
      "휘발유 - 승합의 차종유형 : ['경형', '소형', '중형', '대형']\n",
      "휘발유 - 특수의 차종유형 : ['중형']\n",
      "LPG(액화석유가스) - 승합의 차종유형 : ['중형', '경형', '소형']\n",
      "LPG(액화석유가스) - 승용의 차종유형 : ['중형', '대형', '소형', '경형']\n",
      "LPG(액화석유가스) - 화물의 차종유형 : ['소형', '경형', '중형', '대형']\n",
      "LPG(액화석유가스) - 특수의 차종유형 : ['중형']\n"
     ]
    }
   ],
   "source": [
    "for fuel in ['경유', '휘발유', 'LPG(액화석유가스)']:\n",
    "    temp1 = df1[df1['연료'] == fuel].reset_index(drop=True)\n",
    "    for car_type in temp1['차종'].unique():\n",
    "        temp2 = temp1[temp1['차종'] == car_type].reset_index(drop=True)\n",
    "        car_size = list(temp2['차종유형'].unique())\n",
    "        print(f'{fuel} - {car_type}의 차종유형 : {car_size}')"
   ]
  },
  {
   "attachments": {},
   "cell_type": "markdown",
   "metadata": {},
   "source": [
    "### 차령 정보 계산 및 데이터 추가"
   ]
  },
  {
   "cell_type": "code",
   "execution_count": 55,
   "metadata": {},
   "outputs": [
    {
     "data": {
      "text/plain": [
       "2023"
      ]
     },
     "execution_count": 55,
     "metadata": {},
     "output_type": "execute_result"
    }
   ],
   "source": [
    "current_yr = int(datetime.today().strftime(\"%Y\"))\n",
    "current_yr"
   ]
  },
  {
   "cell_type": "code",
   "execution_count": 56,
   "metadata": {},
   "outputs": [
    {
     "data": {
      "text/plain": [
       "count   1497708.00\n",
       "mean         17.13\n",
       "std           6.83\n",
       "min           5.00\n",
       "25%          13.00\n",
       "50%          14.00\n",
       "75%          17.00\n",
       "max         122.00\n",
       "Name: 차령, dtype: float64"
      ]
     },
     "execution_count": 56,
     "metadata": {},
     "output_type": "execute_result"
    }
   ],
   "source": [
    "df1['차령'] = current_yr - df1['연식']\n",
    "df1['차령'].describe()"
   ]
  },
  {
   "attachments": {},
   "cell_type": "markdown",
   "metadata": {},
   "source": [
    "## 시도명, 시군구명 수정\n",
    "- 시군구명 앞지역명만 추출\n",
    "- 세종특별자치시 -> 세종시\n",
    "- 여주군 -> 여주시\n",
    "- 청원군 -> 청원시\n",
    "- 인천광역시 남구 -> 미추홀구"
   ]
  },
  {
   "cell_type": "code",
   "execution_count": 57,
   "metadata": {},
   "outputs": [
    {
     "data": {
      "text/plain": [
       "시도명     0\n",
       "시군구명    0\n",
       "차종      0\n",
       "dtype: int64"
      ]
     },
     "execution_count": 57,
     "metadata": {},
     "output_type": "execute_result"
    }
   ],
   "source": [
    "df1[['시도명', '시군구명', '차종']].isnull().sum()"
   ]
  },
  {
   "cell_type": "code",
   "execution_count": 58,
   "metadata": {},
   "outputs": [
    {
     "data": {
      "text/plain": [
       "array(['대전광역시', '부산광역시', '경기도', '제주특별자치도', '경상남도', '강원도', '전라남도', '인천광역시',\n",
       "       '서울특별시', '충청북도', '충청남도', '대구광역시', '전라북도', '울산광역시', '경상북도', '광주광역시',\n",
       "       '세종특별자치시'], dtype=object)"
      ]
     },
     "execution_count": 58,
     "metadata": {},
     "output_type": "execute_result"
    }
   ],
   "source": [
    "df1['시도명'].unique()"
   ]
  },
  {
   "cell_type": "code",
   "execution_count": 59,
   "metadata": {},
   "outputs": [
    {
     "data": {
      "text/html": [
       "<div>\n",
       "<style scoped>\n",
       "    .dataframe tbody tr th:only-of-type {\n",
       "        vertical-align: middle;\n",
       "    }\n",
       "\n",
       "    .dataframe tbody tr th {\n",
       "        vertical-align: top;\n",
       "    }\n",
       "\n",
       "    .dataframe thead th {\n",
       "        text-align: right;\n",
       "    }\n",
       "</style>\n",
       "<table border=\"1\" class=\"dataframe\">\n",
       "  <thead>\n",
       "    <tr style=\"text-align: right;\">\n",
       "      <th></th>\n",
       "      <th>시도명</th>\n",
       "      <th>시군구명</th>\n",
       "    </tr>\n",
       "  </thead>\n",
       "  <tbody>\n",
       "    <tr>\n",
       "      <th>10</th>\n",
       "      <td>경기도</td>\n",
       "      <td>남양주시</td>\n",
       "    </tr>\n",
       "    <tr>\n",
       "      <th>11</th>\n",
       "      <td>경기도</td>\n",
       "      <td>화성시</td>\n",
       "    </tr>\n",
       "    <tr>\n",
       "      <th>12</th>\n",
       "      <td>경기도</td>\n",
       "      <td>안성시</td>\n",
       "    </tr>\n",
       "    <tr>\n",
       "      <th>13</th>\n",
       "      <td>경기도</td>\n",
       "      <td>평택시</td>\n",
       "    </tr>\n",
       "    <tr>\n",
       "      <th>14</th>\n",
       "      <td>경기도</td>\n",
       "      <td>안산시 단원구</td>\n",
       "    </tr>\n",
       "    <tr>\n",
       "      <th>15</th>\n",
       "      <td>부산광역시</td>\n",
       "      <td>부산진구</td>\n",
       "    </tr>\n",
       "    <tr>\n",
       "      <th>16</th>\n",
       "      <td>인천광역시</td>\n",
       "      <td>강화군</td>\n",
       "    </tr>\n",
       "    <tr>\n",
       "      <th>17</th>\n",
       "      <td>서울특별시</td>\n",
       "      <td>서초구</td>\n",
       "    </tr>\n",
       "    <tr>\n",
       "      <th>18</th>\n",
       "      <td>부산광역시</td>\n",
       "      <td>금정구</td>\n",
       "    </tr>\n",
       "    <tr>\n",
       "      <th>19</th>\n",
       "      <td>경기도</td>\n",
       "      <td>성남시 분당구</td>\n",
       "    </tr>\n",
       "  </tbody>\n",
       "</table>\n",
       "</div>"
      ],
      "text/plain": [
       "      시도명     시군구명\n",
       "10    경기도     남양주시\n",
       "11    경기도      화성시\n",
       "12    경기도      안성시\n",
       "13    경기도      평택시\n",
       "14    경기도  안산시 단원구\n",
       "15  부산광역시     부산진구\n",
       "16  인천광역시      강화군\n",
       "17  서울특별시      서초구\n",
       "18  부산광역시      금정구\n",
       "19    경기도  성남시 분당구"
      ]
     },
     "execution_count": 59,
     "metadata": {},
     "output_type": "execute_result"
    }
   ],
   "source": [
    "df1[['시도명', '시군구명']].iloc[10:20]"
   ]
  },
  {
   "cell_type": "code",
   "execution_count": 60,
   "metadata": {},
   "outputs": [],
   "source": [
    "df1['시군구명_수정'] = df1['시군구명'].str.split(' ').str[0]"
   ]
  },
  {
   "cell_type": "code",
   "execution_count": 61,
   "metadata": {},
   "outputs": [
    {
     "data": {
      "text/html": [
       "<div>\n",
       "<style scoped>\n",
       "    .dataframe tbody tr th:only-of-type {\n",
       "        vertical-align: middle;\n",
       "    }\n",
       "\n",
       "    .dataframe tbody tr th {\n",
       "        vertical-align: top;\n",
       "    }\n",
       "\n",
       "    .dataframe thead th {\n",
       "        text-align: right;\n",
       "    }\n",
       "</style>\n",
       "<table border=\"1\" class=\"dataframe\">\n",
       "  <thead>\n",
       "    <tr style=\"text-align: right;\">\n",
       "      <th></th>\n",
       "      <th>시도명</th>\n",
       "      <th>시군구명</th>\n",
       "      <th>시군구명_수정</th>\n",
       "    </tr>\n",
       "  </thead>\n",
       "  <tbody>\n",
       "    <tr>\n",
       "      <th>10</th>\n",
       "      <td>경기도</td>\n",
       "      <td>남양주시</td>\n",
       "      <td>남양주시</td>\n",
       "    </tr>\n",
       "    <tr>\n",
       "      <th>11</th>\n",
       "      <td>경기도</td>\n",
       "      <td>화성시</td>\n",
       "      <td>화성시</td>\n",
       "    </tr>\n",
       "    <tr>\n",
       "      <th>12</th>\n",
       "      <td>경기도</td>\n",
       "      <td>안성시</td>\n",
       "      <td>안성시</td>\n",
       "    </tr>\n",
       "    <tr>\n",
       "      <th>13</th>\n",
       "      <td>경기도</td>\n",
       "      <td>평택시</td>\n",
       "      <td>평택시</td>\n",
       "    </tr>\n",
       "    <tr>\n",
       "      <th>14</th>\n",
       "      <td>경기도</td>\n",
       "      <td>안산시 단원구</td>\n",
       "      <td>안산시</td>\n",
       "    </tr>\n",
       "    <tr>\n",
       "      <th>15</th>\n",
       "      <td>부산광역시</td>\n",
       "      <td>부산진구</td>\n",
       "      <td>부산진구</td>\n",
       "    </tr>\n",
       "    <tr>\n",
       "      <th>16</th>\n",
       "      <td>인천광역시</td>\n",
       "      <td>강화군</td>\n",
       "      <td>강화군</td>\n",
       "    </tr>\n",
       "    <tr>\n",
       "      <th>17</th>\n",
       "      <td>서울특별시</td>\n",
       "      <td>서초구</td>\n",
       "      <td>서초구</td>\n",
       "    </tr>\n",
       "    <tr>\n",
       "      <th>18</th>\n",
       "      <td>부산광역시</td>\n",
       "      <td>금정구</td>\n",
       "      <td>금정구</td>\n",
       "    </tr>\n",
       "    <tr>\n",
       "      <th>19</th>\n",
       "      <td>경기도</td>\n",
       "      <td>성남시 분당구</td>\n",
       "      <td>성남시</td>\n",
       "    </tr>\n",
       "  </tbody>\n",
       "</table>\n",
       "</div>"
      ],
      "text/plain": [
       "      시도명     시군구명 시군구명_수정\n",
       "10    경기도     남양주시    남양주시\n",
       "11    경기도      화성시     화성시\n",
       "12    경기도      안성시     안성시\n",
       "13    경기도      평택시     평택시\n",
       "14    경기도  안산시 단원구     안산시\n",
       "15  부산광역시     부산진구    부산진구\n",
       "16  인천광역시      강화군     강화군\n",
       "17  서울특별시      서초구     서초구\n",
       "18  부산광역시      금정구     금정구\n",
       "19    경기도  성남시 분당구     성남시"
      ]
     },
     "execution_count": 61,
     "metadata": {},
     "output_type": "execute_result"
    }
   ],
   "source": [
    "df1[['시도명', '시군구명', '시군구명_수정']].iloc[10:20]"
   ]
  },
  {
   "cell_type": "code",
   "execution_count": 62,
   "metadata": {},
   "outputs": [
    {
     "data": {
      "text/plain": [
       "(8102,)"
      ]
     },
     "execution_count": 62,
     "metadata": {},
     "output_type": "execute_result"
    }
   ],
   "source": [
    "df1.loc[df1['시군구명_수정'] == '세종특별자치시', '시군구명_수정'].shape"
   ]
  },
  {
   "cell_type": "code",
   "execution_count": 63,
   "metadata": {},
   "outputs": [],
   "source": [
    "df1.loc[df1['시군구명_수정'] == '세종특별자치시', '시군구명_수정'] = '세종시'"
   ]
  },
  {
   "cell_type": "code",
   "execution_count": 64,
   "metadata": {},
   "outputs": [
    {
     "data": {
      "text/plain": [
       "(0,)"
      ]
     },
     "execution_count": 64,
     "metadata": {},
     "output_type": "execute_result"
    }
   ],
   "source": [
    "df1.loc[df1['시군구명_수정'] == '세종특별자치시', '시군구명_수정'].shape"
   ]
  },
  {
   "cell_type": "code",
   "execution_count": 65,
   "metadata": {},
   "outputs": [
    {
     "data": {
      "text/plain": [
       "(1,)"
      ]
     },
     "execution_count": 65,
     "metadata": {},
     "output_type": "execute_result"
    }
   ],
   "source": [
    "df1.loc[df1['시군구명_수정'] == '여주군', '시군구명_수정'].shape"
   ]
  },
  {
   "cell_type": "code",
   "execution_count": 66,
   "metadata": {},
   "outputs": [],
   "source": [
    "df1.loc[df1['시군구명_수정'] == '여주군', '시군구명_수정'] = '여주시'"
   ]
  },
  {
   "cell_type": "code",
   "execution_count": 67,
   "metadata": {},
   "outputs": [
    {
     "data": {
      "text/plain": [
       "(0,)"
      ]
     },
     "execution_count": 67,
     "metadata": {},
     "output_type": "execute_result"
    }
   ],
   "source": [
    "df1.loc[df1['시군구명_수정'] == '여주군', '시군구명_수정'].shape"
   ]
  },
  {
   "cell_type": "code",
   "execution_count": 68,
   "metadata": {},
   "outputs": [
    {
     "data": {
      "text/plain": [
       "(4,)"
      ]
     },
     "execution_count": 68,
     "metadata": {},
     "output_type": "execute_result"
    }
   ],
   "source": [
    "df1.loc[df1['시군구명_수정'] == '청원군', '시군구명_수정'].shape"
   ]
  },
  {
   "cell_type": "code",
   "execution_count": 69,
   "metadata": {},
   "outputs": [],
   "source": [
    "df1.loc[df1['시군구명_수정'] == '청원군', '시군구명_수정'] = '청주시'"
   ]
  },
  {
   "cell_type": "code",
   "execution_count": 70,
   "metadata": {},
   "outputs": [
    {
     "data": {
      "text/plain": [
       "(0,)"
      ]
     },
     "execution_count": 70,
     "metadata": {},
     "output_type": "execute_result"
    }
   ],
   "source": [
    "df1.loc[df1['시군구명_수정'] == '청원군', '시군구명_수정'].shape"
   ]
  },
  {
   "cell_type": "code",
   "execution_count": 71,
   "metadata": {},
   "outputs": [
    {
     "data": {
      "text/plain": [
       "(9,)"
      ]
     },
     "execution_count": 71,
     "metadata": {},
     "output_type": "execute_result"
    }
   ],
   "source": [
    "df1.loc[(df1['시도명'] == '인천광역시') & (df1['시군구명_수정'] == '남구'), '시군구명_수정'].shape"
   ]
  },
  {
   "cell_type": "code",
   "execution_count": 72,
   "metadata": {},
   "outputs": [],
   "source": [
    "df1.loc[(df1['시도명'] == '인천광역시') & (df1['시군구명_수정'] == '남구'), '시군구명_수정'] = '미추홀구'"
   ]
  },
  {
   "cell_type": "code",
   "execution_count": 73,
   "metadata": {},
   "outputs": [
    {
     "data": {
      "text/plain": [
       "(0,)"
      ]
     },
     "execution_count": 73,
     "metadata": {},
     "output_type": "execute_result"
    }
   ],
   "source": [
    "df1.loc[(df1['시도명'] == '인천광역시') & (df1['시군구명_수정'] == '남구'), '시군구명_수정'].shape"
   ]
  },
  {
   "attachments": {},
   "cell_type": "markdown",
   "metadata": {},
   "source": [
    "# 자동차-엔진 가열(Hot-start) 배출"
   ]
  },
  {
   "attachments": {},
   "cell_type": "markdown",
   "metadata": {},
   "source": [
    "## 배출량 식\n",
    "$$E_{i, j} = VKT \\times {EF_i \\over {1000}} \\times DF \\times (1 - {R \\over {100}})$$\n",
    "\n",
    "$E_{i, j}$ : 자동차 $j$의 도로주행시 발생한 오염물질 $i$의 배출량($kg/yr$)\n",
    "\n",
    "$VKT$ : 주행거리($km/yr$)\n",
    "\n",
    "$EF_i$ : 차종별, 연료별, 연식별, 차속별 배출계수($g/km$)\n",
    "\n",
    "$DF$ : 열화계수\n",
    "\n",
    "$R$ : 저감장치 부착 효율(%)"
   ]
  },
  {
   "attachments": {},
   "cell_type": "markdown",
   "metadata": {},
   "source": [
    "## 주행거리(VKT)\n",
    "- [현재 설정] \"용도별_차종별_시군구별_자동차주행거리\" 자료(KOSIS)(2021)의 1일 평균주행거리 * 365 = 주행거리(km/yr)"
   ]
  },
  {
   "attachments": {},
   "cell_type": "markdown",
   "metadata": {},
   "source": [
    "### [로드] 1일평균주행거리(2021)"
   ]
  },
  {
   "cell_type": "code",
   "execution_count": 74,
   "metadata": {},
   "outputs": [
    {
     "name": "stdout",
     "output_type": "stream",
     "text": [
      "<class 'pandas.core.frame.DataFrame'>\n",
      "RangeIndex: 1230 entries, 0 to 1229\n",
      "Data columns (total 4 columns):\n",
      " #   Column  Non-Null Count  Dtype  \n",
      "---  ------  --------------  -----  \n",
      " 0   시도명     1230 non-null   object \n",
      " 1   시군구명    1230 non-null   object \n",
      " 2   차종      1230 non-null   object \n",
      " 3   전체      1230 non-null   float64\n",
      "dtypes: float64(1), object(3)\n",
      "memory usage: 38.6+ KB\n"
     ]
    }
   ],
   "source": [
    "# 1일 평균 주행거리 자료 로드\n",
    "run = pd.read_excel(os.path.join(raw_fold, '용도별_차종별_시군구별_자동차1일평균주행거리(2021).xlsx'))\n",
    "run.info()"
   ]
  },
  {
   "cell_type": "code",
   "execution_count": 75,
   "metadata": {},
   "outputs": [
    {
     "data": {
      "text/html": [
       "<div>\n",
       "<style scoped>\n",
       "    .dataframe tbody tr th:only-of-type {\n",
       "        vertical-align: middle;\n",
       "    }\n",
       "\n",
       "    .dataframe tbody tr th {\n",
       "        vertical-align: top;\n",
       "    }\n",
       "\n",
       "    .dataframe thead th {\n",
       "        text-align: right;\n",
       "    }\n",
       "</style>\n",
       "<table border=\"1\" class=\"dataframe\">\n",
       "  <thead>\n",
       "    <tr style=\"text-align: right;\">\n",
       "      <th></th>\n",
       "      <th>시도명</th>\n",
       "      <th>시군구명</th>\n",
       "      <th>차종</th>\n",
       "      <th>전체</th>\n",
       "    </tr>\n",
       "  </thead>\n",
       "  <tbody>\n",
       "    <tr>\n",
       "      <th>1225</th>\n",
       "      <td>제주특별자치도</td>\n",
       "      <td>서귀포시</td>\n",
       "      <td>합계</td>\n",
       "      <td>35.10</td>\n",
       "    </tr>\n",
       "    <tr>\n",
       "      <th>1226</th>\n",
       "      <td>제주특별자치도</td>\n",
       "      <td>서귀포시</td>\n",
       "      <td>승용</td>\n",
       "      <td>36.10</td>\n",
       "    </tr>\n",
       "    <tr>\n",
       "      <th>1227</th>\n",
       "      <td>제주특별자치도</td>\n",
       "      <td>서귀포시</td>\n",
       "      <td>승합</td>\n",
       "      <td>37.20</td>\n",
       "    </tr>\n",
       "    <tr>\n",
       "      <th>1228</th>\n",
       "      <td>제주특별자치도</td>\n",
       "      <td>서귀포시</td>\n",
       "      <td>화물</td>\n",
       "      <td>32.50</td>\n",
       "    </tr>\n",
       "    <tr>\n",
       "      <th>1229</th>\n",
       "      <td>제주특별자치도</td>\n",
       "      <td>서귀포시</td>\n",
       "      <td>특수</td>\n",
       "      <td>38.40</td>\n",
       "    </tr>\n",
       "  </tbody>\n",
       "</table>\n",
       "</div>"
      ],
      "text/plain": [
       "          시도명  시군구명  차종    전체\n",
       "1225  제주특별자치도  서귀포시  합계 35.10\n",
       "1226  제주특별자치도  서귀포시  승용 36.10\n",
       "1227  제주특별자치도  서귀포시  승합 37.20\n",
       "1228  제주특별자치도  서귀포시  화물 32.50\n",
       "1229  제주특별자치도  서귀포시  특수 38.40"
      ]
     },
     "execution_count": 75,
     "metadata": {},
     "output_type": "execute_result"
    }
   ],
   "source": [
    "run.tail()"
   ]
  },
  {
   "cell_type": "code",
   "execution_count": 76,
   "metadata": {},
   "outputs": [
    {
     "data": {
      "text/plain": [
       "0"
      ]
     },
     "execution_count": 76,
     "metadata": {},
     "output_type": "execute_result"
    }
   ],
   "source": [
    "len(set(df1['시군구명_수정'].unique()) - set(run['시군구명'].unique()))"
   ]
  },
  {
   "cell_type": "code",
   "execution_count": 77,
   "metadata": {},
   "outputs": [
    {
     "data": {
      "text/plain": [
       "(1497708, 39)"
      ]
     },
     "execution_count": 77,
     "metadata": {},
     "output_type": "execute_result"
    }
   ],
   "source": [
    "df1.shape"
   ]
  },
  {
   "attachments": {},
   "cell_type": "markdown",
   "metadata": {},
   "source": [
    "### [병합] 1일평균주행거리 데이터 추가(df1)"
   ]
  },
  {
   "cell_type": "code",
   "execution_count": 78,
   "metadata": {},
   "outputs": [
    {
     "data": {
      "text/plain": [
       "(1497708, 41)"
      ]
     },
     "execution_count": 78,
     "metadata": {},
     "output_type": "execute_result"
    }
   ],
   "source": [
    "df2 = df1.merge(run, left_on=['시도명', '시군구명_수정', '차종'], right_on=['시도명', '시군구명', '차종'], how='left')\n",
    "df2.shape"
   ]
  },
  {
   "cell_type": "code",
   "execution_count": 79,
   "metadata": {},
   "outputs": [
    {
     "data": {
      "text/plain": [
       "Index(['차대번호', '차량번호', '제원관리번호', '차종', '용도', '최초등록일', '연식', '제작일자', '검사유효일',\n",
       "       '배출가스인증번호', '등급', '차명', '차종분류', '차종유형', '자동차형식', '제작사명', '연료', '엔진형식',\n",
       "       '총중량', '적재중량', '엔진출력', '배기량', '법정동코드', '시도명', '시군구명_x', '소유자구분', '말소여부',\n",
       "       '일치유무', '인증번호 수정 유무', '배인번호_수정', '등급_수정', 'DPF유무_수정', '배출가스', '등급2',\n",
       "       'DPF', '비고', 'Grade', '차령', '시군구명_수정', '시군구명_y', '전체'],\n",
       "      dtype='object')"
      ]
     },
     "execution_count": 79,
     "metadata": {},
     "output_type": "execute_result"
    }
   ],
   "source": [
    "df2.columns"
   ]
  },
  {
   "cell_type": "code",
   "execution_count": 80,
   "metadata": {},
   "outputs": [
    {
     "data": {
      "text/plain": [
       "Index(['차대번호', '차량번호', '제원관리번호', '차종', '용도', '최초등록일', '연식', '제작일자', '검사유효일',\n",
       "       '배출가스인증번호', '등급', '차명', '차종분류', '차종유형', '자동차형식', '제작사명', '연료', '엔진형식',\n",
       "       '총중량', '적재중량', '엔진출력', '배기량', '법정동코드', '시도명', '시군구명', '소유자구분', '말소여부',\n",
       "       '일치유무', '인증번호 수정 유무', '배인번호_수정', '등급_수정', 'DPF유무_수정', '배출가스', '등급2',\n",
       "       'DPF', '비고', 'Grade', '차령', '시군구명_수정', '1일평균주행거리'],\n",
       "      dtype='object')"
      ]
     },
     "execution_count": 80,
     "metadata": {},
     "output_type": "execute_result"
    }
   ],
   "source": [
    "df2.drop('시군구명_y', axis=1, inplace=True)\n",
    "df2.rename(columns={'시군구명_x':'시군구명', '전체':'1일평균주행거리'}, inplace=True)\n",
    "df2.columns"
   ]
  },
  {
   "cell_type": "code",
   "execution_count": 81,
   "metadata": {},
   "outputs": [
    {
     "data": {
      "text/plain": [
       "0"
      ]
     },
     "execution_count": 81,
     "metadata": {},
     "output_type": "execute_result"
    }
   ],
   "source": [
    "df2['1일평균주행거리'].isnull().sum()"
   ]
  },
  {
   "cell_type": "code",
   "execution_count": 82,
   "metadata": {},
   "outputs": [
    {
     "data": {
      "text/html": [
       "<div>\n",
       "<style scoped>\n",
       "    .dataframe tbody tr th:only-of-type {\n",
       "        vertical-align: middle;\n",
       "    }\n",
       "\n",
       "    .dataframe tbody tr th {\n",
       "        vertical-align: top;\n",
       "    }\n",
       "\n",
       "    .dataframe thead th {\n",
       "        text-align: right;\n",
       "    }\n",
       "</style>\n",
       "<table border=\"1\" class=\"dataframe\">\n",
       "  <thead>\n",
       "    <tr style=\"text-align: right;\">\n",
       "      <th></th>\n",
       "      <th>시도명</th>\n",
       "      <th>시군구명</th>\n",
       "      <th>시군구명_수정</th>\n",
       "      <th>차종</th>\n",
       "      <th>1일평균주행거리</th>\n",
       "    </tr>\n",
       "  </thead>\n",
       "  <tbody>\n",
       "    <tr>\n",
       "      <th>1497703</th>\n",
       "      <td>대구광역시</td>\n",
       "      <td>달성군</td>\n",
       "      <td>달성군</td>\n",
       "      <td>승용</td>\n",
       "      <td>37.90</td>\n",
       "    </tr>\n",
       "    <tr>\n",
       "      <th>1497704</th>\n",
       "      <td>대구광역시</td>\n",
       "      <td>북구</td>\n",
       "      <td>북구</td>\n",
       "      <td>승용</td>\n",
       "      <td>36.80</td>\n",
       "    </tr>\n",
       "    <tr>\n",
       "      <th>1497705</th>\n",
       "      <td>대구광역시</td>\n",
       "      <td>동구</td>\n",
       "      <td>동구</td>\n",
       "      <td>승용</td>\n",
       "      <td>37.40</td>\n",
       "    </tr>\n",
       "    <tr>\n",
       "      <th>1497706</th>\n",
       "      <td>대구광역시</td>\n",
       "      <td>서구</td>\n",
       "      <td>서구</td>\n",
       "      <td>승용</td>\n",
       "      <td>36.50</td>\n",
       "    </tr>\n",
       "    <tr>\n",
       "      <th>1497707</th>\n",
       "      <td>대구광역시</td>\n",
       "      <td>달서구</td>\n",
       "      <td>달서구</td>\n",
       "      <td>승용</td>\n",
       "      <td>36.20</td>\n",
       "    </tr>\n",
       "  </tbody>\n",
       "</table>\n",
       "</div>"
      ],
      "text/plain": [
       "           시도명 시군구명 시군구명_수정  차종  1일평균주행거리\n",
       "1497703  대구광역시  달성군     달성군  승용     37.90\n",
       "1497704  대구광역시   북구      북구  승용     36.80\n",
       "1497705  대구광역시   동구      동구  승용     37.40\n",
       "1497706  대구광역시   서구      서구  승용     36.50\n",
       "1497707  대구광역시  달서구     달서구  승용     36.20"
      ]
     },
     "execution_count": 82,
     "metadata": {},
     "output_type": "execute_result"
    }
   ],
   "source": [
    "df2[['시도명', '시군구명', '시군구명_수정', '차종', '1일평균주행거리']].tail()"
   ]
  },
  {
   "attachments": {},
   "cell_type": "markdown",
   "metadata": {},
   "source": [
    "#### [출력] 1일평균주행거리 추가 데이터"
   ]
  },
  {
   "cell_type": "code",
   "execution_count": 83,
   "metadata": {},
   "outputs": [],
   "source": [
    "# today_date = datetime.today().strftime(\"%Y.%m.%d_%p.%I.%M.%S\")\n",
    "# today_date"
   ]
  },
  {
   "cell_type": "code",
   "execution_count": 84,
   "metadata": {},
   "outputs": [],
   "source": [
    "# # about 24.1s\n",
    "# name = f'4등급_차량_리스트_양식_result(전체)_Grade_추가_1일평균주행거리_추가({today_date})'\n",
    "# file_name = f'{name}.csv'\n",
    "# df1.to_csv(os.path.join(raw_fold, file_name), index=False)"
   ]
  },
  {
   "attachments": {},
   "cell_type": "markdown",
   "metadata": {},
   "source": [
    "# 로드"
   ]
  },
  {
   "cell_type": "code",
   "execution_count": 85,
   "metadata": {},
   "outputs": [],
   "source": [
    "# # about 14.1s\n",
    "# name = f'4등급_차량_리스트_양식_result(전체)_Grade_추가_1일평균주행거리_추가(2023.04.19_PM.02.25.59)'\n",
    "# file_name = f'{name}.csv'\n",
    "# df1 = pd.read_csv(os.path.join(raw_fold, file_name), low_memory=False)"
   ]
  },
  {
   "cell_type": "code",
   "execution_count": 86,
   "metadata": {},
   "outputs": [],
   "source": [
    "df2['VKT'] = df2['1일평균주행거리'] * 365"
   ]
  },
  {
   "cell_type": "code",
   "execution_count": 87,
   "metadata": {},
   "outputs": [
    {
     "data": {
      "text/plain": [
       "Index(['차대번호', '차량번호', '제원관리번호', '차종', '용도', '최초등록일', '연식', '제작일자', '검사유효일',\n",
       "       '배출가스인증번호', '등급', '차명', '차종분류', '차종유형', '자동차형식', '제작사명', '연료', '엔진형식',\n",
       "       '총중량', '적재중량', '엔진출력', '배기량', '법정동코드', '시도명', '시군구명', '소유자구분', '말소여부',\n",
       "       '일치유무', '인증번호 수정 유무', '배인번호_수정', '등급_수정', 'DPF유무_수정', '배출가스', '등급2',\n",
       "       'DPF', '비고', 'Grade', '차령', '시군구명_수정', '1일평균주행거리', 'VKT'],\n",
       "      dtype='object')"
      ]
     },
     "execution_count": 87,
     "metadata": {},
     "output_type": "execute_result"
    }
   ],
   "source": [
    "df2.columns"
   ]
  },
  {
   "cell_type": "code",
   "execution_count": 88,
   "metadata": {},
   "outputs": [
    {
     "data": {
      "text/html": [
       "<div>\n",
       "<style scoped>\n",
       "    .dataframe tbody tr th:only-of-type {\n",
       "        vertical-align: middle;\n",
       "    }\n",
       "\n",
       "    .dataframe tbody tr th {\n",
       "        vertical-align: top;\n",
       "    }\n",
       "\n",
       "    .dataframe thead th {\n",
       "        text-align: right;\n",
       "    }\n",
       "</style>\n",
       "<table border=\"1\" class=\"dataframe\">\n",
       "  <thead>\n",
       "    <tr style=\"text-align: right;\">\n",
       "      <th></th>\n",
       "      <th>시도명</th>\n",
       "      <th>시군구명</th>\n",
       "      <th>차종</th>\n",
       "      <th>VKT</th>\n",
       "    </tr>\n",
       "  </thead>\n",
       "  <tbody>\n",
       "    <tr>\n",
       "      <th>1497703</th>\n",
       "      <td>대구광역시</td>\n",
       "      <td>달성군</td>\n",
       "      <td>승용</td>\n",
       "      <td>13833.50</td>\n",
       "    </tr>\n",
       "    <tr>\n",
       "      <th>1497704</th>\n",
       "      <td>대구광역시</td>\n",
       "      <td>북구</td>\n",
       "      <td>승용</td>\n",
       "      <td>13432.00</td>\n",
       "    </tr>\n",
       "    <tr>\n",
       "      <th>1497705</th>\n",
       "      <td>대구광역시</td>\n",
       "      <td>동구</td>\n",
       "      <td>승용</td>\n",
       "      <td>13651.00</td>\n",
       "    </tr>\n",
       "    <tr>\n",
       "      <th>1497706</th>\n",
       "      <td>대구광역시</td>\n",
       "      <td>서구</td>\n",
       "      <td>승용</td>\n",
       "      <td>13322.50</td>\n",
       "    </tr>\n",
       "    <tr>\n",
       "      <th>1497707</th>\n",
       "      <td>대구광역시</td>\n",
       "      <td>달서구</td>\n",
       "      <td>승용</td>\n",
       "      <td>13213.00</td>\n",
       "    </tr>\n",
       "  </tbody>\n",
       "</table>\n",
       "</div>"
      ],
      "text/plain": [
       "           시도명 시군구명  차종      VKT\n",
       "1497703  대구광역시  달성군  승용 13833.50\n",
       "1497704  대구광역시   북구  승용 13432.00\n",
       "1497705  대구광역시   동구  승용 13651.00\n",
       "1497706  대구광역시   서구  승용 13322.50\n",
       "1497707  대구광역시  달서구  승용 13213.00"
      ]
     },
     "execution_count": 88,
     "metadata": {},
     "output_type": "execute_result"
    }
   ],
   "source": [
    "df2[['시도명', '시군구명', '차종', 'VKT']].tail()"
   ]
  },
  {
   "cell_type": "code",
   "execution_count": 89,
   "metadata": {},
   "outputs": [
    {
     "data": {
      "text/plain": [
       "0"
      ]
     },
     "execution_count": 89,
     "metadata": {},
     "output_type": "execute_result"
    }
   ],
   "source": [
    "df2['VKT'].isnull().sum()"
   ]
  },
  {
   "attachments": {},
   "cell_type": "markdown",
   "metadata": {},
   "source": [
    "## DF(열화계수)\n",
    "- 필요한 정보 : 연료, 차종, 차종유형, 연식, 차령\n",
    "- 조건 수정(2023.04.20, 최)\n",
    "    - 특수 소형 = 승용 소형\n",
    "    - 승합 대형 = 화물 대형"
   ]
  },
  {
   "cell_type": "code",
   "execution_count": 90,
   "metadata": {},
   "outputs": [
    {
     "data": {
      "text/plain": [
       "array(['경유', '휘발유', 'LPG(액화석유가스)'], dtype=object)"
      ]
     },
     "execution_count": 90,
     "metadata": {},
     "output_type": "execute_result"
    }
   ],
   "source": [
    "df2['연료'].unique()"
   ]
  },
  {
   "cell_type": "code",
   "execution_count": 91,
   "metadata": {},
   "outputs": [],
   "source": [
    "DF_col = ['연료', '차종', '차종유형', '연식', '차령']"
   ]
  },
  {
   "cell_type": "code",
   "execution_count": 92,
   "metadata": {},
   "outputs": [
    {
     "data": {
      "text/html": [
       "<div>\n",
       "<style scoped>\n",
       "    .dataframe tbody tr th:only-of-type {\n",
       "        vertical-align: middle;\n",
       "    }\n",
       "\n",
       "    .dataframe tbody tr th {\n",
       "        vertical-align: top;\n",
       "    }\n",
       "\n",
       "    .dataframe thead th {\n",
       "        text-align: right;\n",
       "    }\n",
       "</style>\n",
       "<table border=\"1\" class=\"dataframe\">\n",
       "  <thead>\n",
       "    <tr style=\"text-align: right;\">\n",
       "      <th></th>\n",
       "      <th>연료</th>\n",
       "      <th>차종</th>\n",
       "      <th>차종유형</th>\n",
       "      <th>연식</th>\n",
       "      <th>차령</th>\n",
       "    </tr>\n",
       "  </thead>\n",
       "  <tbody>\n",
       "    <tr>\n",
       "      <th>0</th>\n",
       "      <td>경유</td>\n",
       "      <td>승용</td>\n",
       "      <td>대형</td>\n",
       "      <td>2006</td>\n",
       "      <td>17</td>\n",
       "    </tr>\n",
       "    <tr>\n",
       "      <th>1</th>\n",
       "      <td>경유</td>\n",
       "      <td>승용</td>\n",
       "      <td>대형</td>\n",
       "      <td>2006</td>\n",
       "      <td>17</td>\n",
       "    </tr>\n",
       "    <tr>\n",
       "      <th>2</th>\n",
       "      <td>경유</td>\n",
       "      <td>승용</td>\n",
       "      <td>대형</td>\n",
       "      <td>2006</td>\n",
       "      <td>17</td>\n",
       "    </tr>\n",
       "    <tr>\n",
       "      <th>3</th>\n",
       "      <td>경유</td>\n",
       "      <td>승용</td>\n",
       "      <td>대형</td>\n",
       "      <td>2006</td>\n",
       "      <td>17</td>\n",
       "    </tr>\n",
       "    <tr>\n",
       "      <th>4</th>\n",
       "      <td>경유</td>\n",
       "      <td>승용</td>\n",
       "      <td>대형</td>\n",
       "      <td>2006</td>\n",
       "      <td>17</td>\n",
       "    </tr>\n",
       "  </tbody>\n",
       "</table>\n",
       "</div>"
      ],
      "text/plain": [
       "   연료  차종 차종유형    연식  차령\n",
       "0  경유  승용   대형  2006  17\n",
       "1  경유  승용   대형  2006  17\n",
       "2  경유  승용   대형  2006  17\n",
       "3  경유  승용   대형  2006  17\n",
       "4  경유  승용   대형  2006  17"
      ]
     },
     "execution_count": 92,
     "metadata": {},
     "output_type": "execute_result"
    }
   ],
   "source": [
    "df2[DF_col].head()"
   ]
  },
  {
   "cell_type": "code",
   "execution_count": 93,
   "metadata": {},
   "outputs": [
    {
     "data": {
      "text/plain": [
       "array(['경유', '승용', '대형', 2006, 17], dtype=object)"
      ]
     },
     "execution_count": 93,
     "metadata": {},
     "output_type": "execute_result"
    }
   ],
   "source": [
    "df2[DF_col].values[0]"
   ]
  },
  {
   "attachments": {},
   "cell_type": "markdown",
   "metadata": {},
   "source": [
    "### ❗ DF(열화계수) 코드\n",
    "- 연료, 차종, 차종유형 설정에 해당되지 않는 차량의 열화계수 값 설정\n",
    "    - 현재 설정값 : np.nan\n",
    "    - 고려 설정값 : 1"
   ]
  },
  {
   "cell_type": "code",
   "execution_count": 94,
   "metadata": {},
   "outputs": [
    {
     "name": "stderr",
     "output_type": "stream",
     "text": [
      "100%|██████████| 1497708/1497708 [00:04<00:00, 316478.00it/s]\n"
     ]
    }
   ],
   "source": [
    "# about 5.0s\n",
    "DF_CO_list = []\n",
    "DF_HC_list = []\n",
    "DF_PM_list = []\n",
    "DF_NOx_list = []\n",
    "# '연료', '차종', '차종유형', '연식', '차령'\n",
    "for fuel, car_type, car_size, car_birth, car_age in tqdm(df2[DF_col].values):    \n",
    "    if fuel == '경유':\n",
    "        if (car_type == '승용') or ( (car_type == '특수') and (car_size == '소형') ): # 최 확인(2023.04.20) : \"특수 소형\" -> \"승용 소형\" 조건으로 계산\n",
    "            warranty = 5\n",
    "            if car_age <= warranty:\n",
    "                DF_CO = 1\n",
    "                DF_HC = 1\n",
    "                DF_PM = 1\n",
    "                DF_NOx = 1\n",
    "            else:\n",
    "                DF_CO = 1 + (car_age - warranty)*0.05\n",
    "                DF_HC = 1 + (car_age - warranty)*0.05\n",
    "                DF_PM = 1 + (car_age - warranty)*0.05\n",
    "                DF_NOx = 1 + (car_age - warranty)*0.02\n",
    "                if DF_CO > 1.5:\n",
    "                    DF_CO = 1.5\n",
    "                if DF_HC > 1.5:\n",
    "                    DF_HC = 1.5\n",
    "                if DF_PM > 1.5:\n",
    "                    DF_PM = 1.5\n",
    "                if DF_NOx > 1.2:\n",
    "                    DF_NOx = 1.2\n",
    "        elif car_type == '승합':\n",
    "            if car_size == '소형' or car_size == '중형':\n",
    "                warranty = 5\n",
    "                if car_age <= warranty:\n",
    "                    DF_CO = 1\n",
    "                    DF_HC = 1\n",
    "                    DF_PM = 1\n",
    "                    DF_NOx = 1\n",
    "                else:\n",
    "                    DF_CO = 1 + (car_age - warranty)*0.05\n",
    "                    DF_HC = 1 + (car_age - warranty)*0.05\n",
    "                    DF_PM = 1 + (car_age - warranty)*0.05\n",
    "                    DF_NOx = 1 + (car_age - warranty)*0.02\n",
    "                    if DF_CO > 1.5:\n",
    "                        DF_CO = 1.5\n",
    "                    if DF_HC > 1.5:\n",
    "                        DF_HC = 1.5\n",
    "                    if DF_PM > 1.5:\n",
    "                        DF_PM = 1.5\n",
    "                    if DF_NOx > 1.2:\n",
    "                        DF_NOx = 1.2\n",
    "            elif car_size == '대형':\n",
    "                warranty = 3\n",
    "                if car_age <= warranty:\n",
    "                    DF_CO = 1\n",
    "                    DF_HC = 1\n",
    "                    DF_PM = 1\n",
    "                    DF_NOx = 1\n",
    "                else:\n",
    "                    DF_CO = 1 + (car_age - warranty)*0.05\n",
    "                    DF_HC = 1 + (car_age - warranty)*0.05\n",
    "                    DF_PM = 1 + (car_age - warranty)*0.05\n",
    "                    DF_NOx = 1 + (car_age - warranty)*0.02\n",
    "                    if DF_CO > 1.5:\n",
    "                        DF_CO = 1.5\n",
    "                    if DF_HC > 1.5:\n",
    "                        DF_HC = 1.5\n",
    "                    if DF_PM > 1.5:\n",
    "                        DF_PM = 1.5\n",
    "                    if DF_NOx > 1.2:\n",
    "                        DF_NOx = 1.2\n",
    "        elif car_type == '화물':\n",
    "            # car_size : 경, 소, 중, 대\n",
    "            warranty = 5\n",
    "            if car_age <= warranty:\n",
    "                DF_CO = 1\n",
    "                DF_HC = 1\n",
    "                DF_PM = 1\n",
    "                DF_NOx = 1\n",
    "            else:\n",
    "                DF_CO = 1 + (car_age - warranty)*0.05\n",
    "                DF_HC = 1 + (car_age - warranty)*0.05\n",
    "                DF_PM = 1 + (car_age - warranty)*0.05\n",
    "                DF_NOx = 1 + (car_age - warranty)*0.02\n",
    "                if DF_CO > 1.5:\n",
    "                    DF_CO = 1.5\n",
    "                if DF_HC > 1.5:\n",
    "                    DF_HC = 1.5\n",
    "                if DF_PM > 1.5:\n",
    "                    DF_PM = 1.5\n",
    "                if DF_NOx > 1.2:\n",
    "                    DF_NOx = 1.2\n",
    "        elif car_type == '특수':\n",
    "            # car_size : 중, 대\n",
    "            warranty = 5\n",
    "            if car_age <= warranty:\n",
    "                DF_CO = 1\n",
    "                DF_HC = 1\n",
    "                DF_PM = 1\n",
    "                DF_NOx = 1\n",
    "            else:\n",
    "                DF_CO = 1 + (car_age - warranty)*0.05\n",
    "                DF_HC = 1 + (car_age - warranty)*0.05\n",
    "                DF_PM = 1 + (car_age - warranty)*0.05\n",
    "                DF_NOx = 1 + (car_age - warranty)*0.02\n",
    "                if DF_CO > 1.5:\n",
    "                    DF_CO = 1.5\n",
    "                if DF_HC > 1.5:\n",
    "                    DF_HC = 1.5\n",
    "                if DF_PM > 1.5:\n",
    "                    DF_PM = 1.5\n",
    "                if DF_NOx > 1.2:\n",
    "                    DF_NOx = 1.2\n",
    "    elif (fuel == '휘발유') or (fuel == 'LPG(액화석유가스)'):\n",
    "        if car_type == '승용':\n",
    "            # 경, 소, 중, 대\n",
    "            if car_birth <= 2000:\n",
    "                warranty = 5\n",
    "                if car_age <= warranty:\n",
    "                    DF_CO = 1\n",
    "                    DF_HC = 1\n",
    "                    DF_PM = 1\n",
    "                    DF_NOx = 1\n",
    "                else:\n",
    "                    DF_CO = 1 + (car_age - warranty)*0.1\n",
    "                    DF_HC = 1 + (car_age - warranty)*0.1\n",
    "                    DF_PM = 1 + (car_age - warranty)*0.1\n",
    "                    DF_NOx = 1 + (car_age - warranty)*0.1\n",
    "                    if DF_CO > 2.0:\n",
    "                        DF_CO = 2.0\n",
    "                    if DF_HC > 2.0:\n",
    "                        DF_HC = 2.0\n",
    "                    if DF_PM > 2.0:\n",
    "                        DF_PM = 2.0\n",
    "                    if DF_NOx > 2.0:\n",
    "                        DF_NOx = 2.0\n",
    "            elif car_birth >= 2001:\n",
    "                warranty = 10\n",
    "                if car_age <= warranty:\n",
    "                    DF_CO = 1\n",
    "                    DF_HC = 1\n",
    "                    DF_PM = 1\n",
    "                    DF_NOx = 1\n",
    "                else:\n",
    "                    DF_CO = 1 + (car_age - warranty)*0.1\n",
    "                    DF_HC = 1 + (car_age - warranty)*0.1\n",
    "                    DF_PM = 1 + (car_age - warranty)*0.1\n",
    "                    DF_NOx = 1 + (car_age - warranty)*0.1\n",
    "                    if DF_CO > 2.0:\n",
    "                        DF_CO = 2.0\n",
    "                    if DF_HC > 2.0:\n",
    "                        DF_HC = 2.0\n",
    "                    if DF_PM > 2.0:\n",
    "                        DF_PM = 2.0\n",
    "                    if DF_NOx > 2.0:\n",
    "                        DF_NOx = 2.0\n",
    "        elif car_type == '승합':\n",
    "            if car_size == '경형':\n",
    "                warranty = 5\n",
    "                if car_age <= warranty:\n",
    "                    DF_CO = 1\n",
    "                    DF_HC = 1\n",
    "                    DF_PM = 1\n",
    "                    DF_NOx = 1\n",
    "                else:\n",
    "                    DF_CO = 1 + (car_age - warranty)*0.1\n",
    "                    DF_HC = 1 + (car_age - warranty)*0.1\n",
    "                    DF_PM = 1 + (car_age - warranty)*0.1\n",
    "                    DF_NOx = 1 + (car_age - warranty)*0.1\n",
    "                    if DF_CO > 2.0:\n",
    "                        DF_CO = 2.0\n",
    "                    if DF_HC > 2.0:\n",
    "                        DF_HC = 2.0\n",
    "                    if DF_PM > 2.0:\n",
    "                        DF_PM = 2.0\n",
    "                    if DF_NOx > 2.0:\n",
    "                        DF_NOx = 2.0\n",
    "            elif (car_size == '소형') or (car_size == '중형'):\n",
    "                if car_birth <= 2005:\n",
    "                    warranty = 5\n",
    "                    if car_age <= warranty:\n",
    "                        DF_CO = 1\n",
    "                        DF_HC = 1\n",
    "                        DF_PM = 1\n",
    "                        DF_NOx = 1\n",
    "                    else:\n",
    "                        DF_CO = 1 + (car_age - warranty)*0.1\n",
    "                        DF_HC = 1 + (car_age - warranty)*0.1\n",
    "                        DF_PM = 1 + (car_age - warranty)*0.1\n",
    "                        DF_NOx = 1 + (car_age - warranty)*0.1\n",
    "                        if DF_CO > 2.0:\n",
    "                            DF_CO = 2.0\n",
    "                        if DF_HC > 2.0:\n",
    "                            DF_HC = 2.0\n",
    "                        if DF_PM > 2.0:\n",
    "                            DF_PM = 2.0\n",
    "                        if DF_NOx > 2.0:\n",
    "                            DF_NOx = 2.0\n",
    "                elif car_birth >= 2006:\n",
    "                    warranty = 10\n",
    "                    if car_age <= warranty:\n",
    "                        DF_CO = 1\n",
    "                        DF_HC = 1\n",
    "                        DF_PM = 1\n",
    "                        DF_NOx = 1\n",
    "                    else:\n",
    "                        DF_CO = 1 + (car_age - warranty)*0.1\n",
    "                        DF_HC = 1 + (car_age - warranty)*0.1\n",
    "                        DF_PM = 1 + (car_age - warranty)*0.1\n",
    "                        DF_NOx = 1 + (car_age - warranty)*0.1\n",
    "                        if DF_CO > 2.0:\n",
    "                            DF_CO = 2.0\n",
    "                        if DF_HC > 2.0:\n",
    "                            DF_HC = 2.0\n",
    "                        if DF_PM > 2.0:\n",
    "                            DF_PM = 2.0\n",
    "                        if DF_NOx > 2.0:\n",
    "                            DF_NOx = 2.0\n",
    "        elif (car_type == '화물') or ( (car_type == '승합') and (car_size == '대형')): # 최 확인(2023.04.20) : 습합 대형 -> 화물 대형 조건으로 계산\n",
    "            # 경, 소, 중, 대\n",
    "            warranty = 5\n",
    "            if car_age <= warranty:\n",
    "                DF_CO = 1\n",
    "                DF_HC = 1\n",
    "                DF_PM = 1\n",
    "                DF_NOx = 1\n",
    "            else:\n",
    "                DF_CO = 1 + (car_age - warranty)*0.1\n",
    "                DF_HC = 1 + (car_age - warranty)*0.1\n",
    "                DF_PM = 1 + (car_age - warranty)*0.1\n",
    "                DF_NOx = 1 + (car_age - warranty)*0.1\n",
    "                if DF_CO > 2.0:\n",
    "                    DF_CO = 2.0\n",
    "                if DF_HC > 2.0:\n",
    "                    DF_HC = 2.0\n",
    "                if DF_PM > 2.0:\n",
    "                    DF_PM = 2.0\n",
    "                if DF_NOx > 2.0:\n",
    "                    DF_NOx = 2.0\n",
    "        elif car_type == '특수':\n",
    "            # 중, 대\n",
    "            warranty = 5\n",
    "            if car_age <= warranty:\n",
    "                DF_CO = 1\n",
    "                DF_HC = 1\n",
    "                DF_PM = 1\n",
    "                DF_NOx = 1\n",
    "            else:\n",
    "                DF_CO = 1 + (car_age - warranty)*0.1\n",
    "                DF_HC = 1 + (car_age - warranty)*0.1\n",
    "                DF_PM = 1 + (car_age - warranty)*0.1\n",
    "                DF_NOx = 1 + (car_age - warranty)*0.1\n",
    "                if DF_CO > 2.0:\n",
    "                    DF_CO = 2.0\n",
    "                if DF_HC > 2.0:\n",
    "                    DF_HC = 2.0\n",
    "                if DF_PM > 2.0:\n",
    "                    DF_PM = 2.0\n",
    "                if DF_NOx > 2.0:\n",
    "                    DF_NOx = 2.0\n",
    "    else:\n",
    "        # 설정 고민\n",
    "            # 고려 : 1\n",
    "        # DF_CO, DF_HC, DF_PM, DF_NOx = np.nan, np.nan, np.nan, np.nan\n",
    "        DF_CO, DF_HC, DF_PM, DF_NOx = 1, 1, 1, 1\n",
    "\n",
    "    # 열화계수(DF) 리스트에 저장\n",
    "    DF_CO_list.append(DF_CO)\n",
    "    DF_HC_list.append(DF_HC)\n",
    "    DF_PM_list.append(DF_PM)\n",
    "    DF_NOx_list.append(DF_NOx)"
   ]
  },
  {
   "cell_type": "code",
   "execution_count": 95,
   "metadata": {},
   "outputs": [
    {
     "data": {
      "text/plain": [
       "1497708"
      ]
     },
     "execution_count": 95,
     "metadata": {},
     "output_type": "execute_result"
    }
   ],
   "source": [
    "df2.shape[0]"
   ]
  },
  {
   "cell_type": "code",
   "execution_count": 96,
   "metadata": {},
   "outputs": [
    {
     "data": {
      "text/plain": [
       "(1497708, 1497708, 1497708, 1497708)"
      ]
     },
     "execution_count": 96,
     "metadata": {},
     "output_type": "execute_result"
    }
   ],
   "source": [
    "len(DF_CO_list), len(DF_HC_list), len(DF_PM_list), len(DF_NOx_list)"
   ]
  },
  {
   "cell_type": "code",
   "execution_count": 97,
   "metadata": {},
   "outputs": [],
   "source": [
    "df2['DF_CO'] = DF_CO_list\n",
    "df2['DF_HC'] = DF_HC_list\n",
    "df2['DF_PM'] = DF_PM_list\n",
    "df2['DF_NOx'] = DF_NOx_list"
   ]
  },
  {
   "cell_type": "code",
   "execution_count": 98,
   "metadata": {},
   "outputs": [
    {
     "data": {
      "text/html": [
       "<div>\n",
       "<style scoped>\n",
       "    .dataframe tbody tr th:only-of-type {\n",
       "        vertical-align: middle;\n",
       "    }\n",
       "\n",
       "    .dataframe tbody tr th {\n",
       "        vertical-align: top;\n",
       "    }\n",
       "\n",
       "    .dataframe thead th {\n",
       "        text-align: right;\n",
       "    }\n",
       "</style>\n",
       "<table border=\"1\" class=\"dataframe\">\n",
       "  <thead>\n",
       "    <tr style=\"text-align: right;\">\n",
       "      <th></th>\n",
       "      <th>연료</th>\n",
       "      <th>차종</th>\n",
       "      <th>차종유형</th>\n",
       "      <th>연식</th>\n",
       "      <th>차령</th>\n",
       "      <th>DF_CO</th>\n",
       "      <th>DF_HC</th>\n",
       "      <th>DF_PM</th>\n",
       "      <th>DF_NOx</th>\n",
       "    </tr>\n",
       "  </thead>\n",
       "  <tbody>\n",
       "    <tr>\n",
       "      <th>1140557</th>\n",
       "      <td>경유</td>\n",
       "      <td>화물</td>\n",
       "      <td>중형</td>\n",
       "      <td>2018</td>\n",
       "      <td>5</td>\n",
       "      <td>1.00</td>\n",
       "      <td>1.00</td>\n",
       "      <td>1.00</td>\n",
       "      <td>1.00</td>\n",
       "    </tr>\n",
       "    <tr>\n",
       "      <th>1143212</th>\n",
       "      <td>경유</td>\n",
       "      <td>화물</td>\n",
       "      <td>대형</td>\n",
       "      <td>2018</td>\n",
       "      <td>5</td>\n",
       "      <td>1.00</td>\n",
       "      <td>1.00</td>\n",
       "      <td>1.00</td>\n",
       "      <td>1.00</td>\n",
       "    </tr>\n",
       "  </tbody>\n",
       "</table>\n",
       "</div>"
      ],
      "text/plain": [
       "         연료  차종 차종유형    연식  차령  DF_CO  DF_HC  DF_PM  DF_NOx\n",
       "1140557  경유  화물   중형  2018   5   1.00   1.00   1.00    1.00\n",
       "1143212  경유  화물   대형  2018   5   1.00   1.00   1.00    1.00"
      ]
     },
     "execution_count": 98,
     "metadata": {},
     "output_type": "execute_result"
    }
   ],
   "source": [
    "check_DF_col = ['DF_CO', 'DF_HC', 'DF_PM', 'DF_NOx']\n",
    "df2.loc[df2['차령'] < 10, DF_col + check_DF_col].head()"
   ]
  },
  {
   "attachments": {},
   "cell_type": "markdown",
   "metadata": {},
   "source": [
    "## 저감장치 부착 효율(R) 계산\n",
    "- DPF유무_수정 : 유 -> DPF로 가정하고 진행\n",
    "- 휘발성 유기 화합물(Volatile Organic Compounds:VOC) : 생활주변에서 흔히 사용하는 탄화수소류가 거의 해당됨.\n",
    "- 저감장치별 물질 제거 효율(%)\n",
    "\n",
    "    장치종류|CO|VOC|PM\n",
    "    :-:|:-:|:-:|:-:\n",
    "    DPF|99.5|90|83.6\n",
    "    pDPF|94.6|89.3|56\n",
    "    DOC|85.4|72|35"
   ]
  },
  {
   "attachments": {},
   "cell_type": "markdown",
   "metadata": {},
   "source": [
    "### 현대자동차 상용차 중 pDPF 달린 차량\n",
    "- 6MY-HD-23-55\n",
    "- 7MY-HD-24-28\n",
    "- 7MY-HD-24-30"
   ]
  },
  {
   "cell_type": "code",
   "execution_count": 99,
   "metadata": {},
   "outputs": [
    {
     "data": {
      "text/plain": [
       "무       879365\n",
       "NaN     348419\n",
       "유       253675\n",
       "확인불가     16249\n",
       "Name: DPF유무_수정, dtype: int64"
      ]
     },
     "execution_count": 99,
     "metadata": {},
     "output_type": "execute_result"
    }
   ],
   "source": [
    "df2['DPF유무_수정'].value_counts(dropna=False)"
   ]
  },
  {
   "cell_type": "code",
   "execution_count": 100,
   "metadata": {},
   "outputs": [
    {
     "data": {
      "text/plain": [
       "array(['무', '무', '무', '무', '무'], dtype=object)"
      ]
     },
     "execution_count": 100,
     "metadata": {},
     "output_type": "execute_result"
    }
   ],
   "source": [
    "df2['DPF유무_수정'].values[:5]"
   ]
  },
  {
   "cell_type": "code",
   "execution_count": 101,
   "metadata": {},
   "outputs": [
    {
     "data": {
      "text/plain": [
       "'무'"
      ]
     },
     "execution_count": 101,
     "metadata": {},
     "output_type": "execute_result"
    }
   ],
   "source": [
    "df2['DPF유무_수정'].values[0]"
   ]
  },
  {
   "cell_type": "code",
   "execution_count": 102,
   "metadata": {},
   "outputs": [
    {
     "data": {
      "text/plain": [
       "(0, 45)"
      ]
     },
     "execution_count": 102,
     "metadata": {},
     "output_type": "execute_result"
    }
   ],
   "source": [
    "df2.loc[(df2['배인번호_수정'] == '6MY-HD-23-55') & (df2['제작사명'] == '현대자동차(주)')].shape"
   ]
  },
  {
   "cell_type": "code",
   "execution_count": 103,
   "metadata": {},
   "outputs": [
    {
     "data": {
      "text/plain": [
       "(24413, 45)"
      ]
     },
     "execution_count": 103,
     "metadata": {},
     "output_type": "execute_result"
    }
   ],
   "source": [
    "df2.loc[(df2['배인번호_수정'] == '7MY-HD-24-28') & (df2['제작사명'] == '현대자동차(주)')].shape"
   ]
  },
  {
   "cell_type": "code",
   "execution_count": 104,
   "metadata": {},
   "outputs": [
    {
     "data": {
      "text/plain": [
       "(10751, 45)"
      ]
     },
     "execution_count": 104,
     "metadata": {},
     "output_type": "execute_result"
    }
   ],
   "source": [
    "df2.loc[(df2['배인번호_수정'] == '7MY-HD-24-30') & (df2['제작사명'] == '현대자동차(주)')].shape"
   ]
  },
  {
   "cell_type": "code",
   "execution_count": 105,
   "metadata": {},
   "outputs": [],
   "source": [
    "df2.loc[df2['DPF유무_수정'] == '유', ['R_CO', 'R_HC', 'R_PM']] = 99.5, 90, 83.6\n",
    "df2.loc[(df2['DPF유무_수정'] == '유') & (df2['배인번호_수정'] == '6MY-HD-23-55') & (df2['제작사명'] == '현대자동차(주)'), ['R_CO', 'R_HC', 'R_PM']] = 94.6, 89.3, 56\n",
    "df2.loc[(df2['DPF유무_수정'] == '유') & (df2['배인번호_수정'] == '7MY-HD-24-28') & (df2['제작사명'] == '현대자동차(주)'), ['R_CO', 'R_HC', 'R_PM']] = 94.6, 89.3, 56\n",
    "df2.loc[(df2['DPF유무_수정'] == '유') & (df2['배인번호_수정'] == '7MY-HD-24-30') & (df2['제작사명'] == '현대자동차(주)'), ['R_CO', 'R_HC', 'R_PM']] = 94.6, 89.3, 56"
   ]
  },
  {
   "cell_type": "code",
   "execution_count": 106,
   "metadata": {},
   "outputs": [
    {
     "data": {
      "text/plain": [
       "Series([], Name: R_PM, dtype: float64)"
      ]
     },
     "execution_count": 106,
     "metadata": {},
     "output_type": "execute_result"
    }
   ],
   "source": [
    "df2.loc[(df2['DPF유무_수정'] == '유') & (df2['배인번호_수정'] == '6MY-HD-23-55') & (df2['제작사명'] == '현대자동차(주)'), 'R_PM'].head()"
   ]
  },
  {
   "cell_type": "code",
   "execution_count": 107,
   "metadata": {},
   "outputs": [
    {
     "data": {
      "text/plain": [
       "734704   56.00\n",
       "734705   56.00\n",
       "734706   56.00\n",
       "734707   56.00\n",
       "734708   56.00\n",
       "Name: R_PM, dtype: float64"
      ]
     },
     "execution_count": 107,
     "metadata": {},
     "output_type": "execute_result"
    }
   ],
   "source": [
    "df2.loc[(df2['DPF유무_수정'] == '유') & (df2['배인번호_수정'] == '7MY-HD-24-28') & (df2['제작사명'] == '현대자동차(주)'), 'R_PM'].head()"
   ]
  },
  {
   "cell_type": "code",
   "execution_count": 108,
   "metadata": {},
   "outputs": [
    {
     "data": {
      "text/plain": [
       "766085   56.00\n",
       "766086   56.00\n",
       "766087   56.00\n",
       "766088   56.00\n",
       "766089   56.00\n",
       "Name: R_PM, dtype: float64"
      ]
     },
     "execution_count": 108,
     "metadata": {},
     "output_type": "execute_result"
    }
   ],
   "source": [
    "df2.loc[(df2['DPF유무_수정'] == '유') & (df2['배인번호_수정'] == '7MY-HD-24-30') & (df2['제작사명'] == '현대자동차(주)'), 'R_PM'].head()"
   ]
  },
  {
   "cell_type": "code",
   "execution_count": 109,
   "metadata": {},
   "outputs": [
    {
     "data": {
      "text/plain": [
       "1497708"
      ]
     },
     "execution_count": 109,
     "metadata": {},
     "output_type": "execute_result"
    }
   ],
   "source": [
    "df2.shape[0]"
   ]
  },
  {
   "cell_type": "code",
   "execution_count": 110,
   "metadata": {},
   "outputs": [],
   "source": [
    "check_R_col = ['R_CO', 'R_HC', 'R_PM']"
   ]
  },
  {
   "cell_type": "code",
   "execution_count": 111,
   "metadata": {},
   "outputs": [
    {
     "data": {
      "text/plain": [
       "R_CO    253675\n",
       "R_HC    253675\n",
       "R_PM    253675\n",
       "dtype: int64"
      ]
     },
     "execution_count": 111,
     "metadata": {},
     "output_type": "execute_result"
    }
   ],
   "source": [
    "df2[check_R_col].notnull().sum()"
   ]
  },
  {
   "cell_type": "code",
   "execution_count": 112,
   "metadata": {},
   "outputs": [
    {
     "data": {
      "text/html": [
       "<div>\n",
       "<style scoped>\n",
       "    .dataframe tbody tr th:only-of-type {\n",
       "        vertical-align: middle;\n",
       "    }\n",
       "\n",
       "    .dataframe tbody tr th {\n",
       "        vertical-align: top;\n",
       "    }\n",
       "\n",
       "    .dataframe thead th {\n",
       "        text-align: right;\n",
       "    }\n",
       "</style>\n",
       "<table border=\"1\" class=\"dataframe\">\n",
       "  <thead>\n",
       "    <tr style=\"text-align: right;\">\n",
       "      <th></th>\n",
       "      <th>연료</th>\n",
       "      <th>차종</th>\n",
       "      <th>차종유형</th>\n",
       "      <th>연식</th>\n",
       "      <th>차령</th>\n",
       "      <th>DF_CO</th>\n",
       "      <th>DF_HC</th>\n",
       "      <th>DF_PM</th>\n",
       "      <th>DF_NOx</th>\n",
       "      <th>R_CO</th>\n",
       "      <th>R_HC</th>\n",
       "      <th>R_PM</th>\n",
       "    </tr>\n",
       "  </thead>\n",
       "  <tbody>\n",
       "    <tr>\n",
       "      <th>3207</th>\n",
       "      <td>경유</td>\n",
       "      <td>승용</td>\n",
       "      <td>대형</td>\n",
       "      <td>2006</td>\n",
       "      <td>17</td>\n",
       "      <td>1.50</td>\n",
       "      <td>1.50</td>\n",
       "      <td>1.50</td>\n",
       "      <td>1.20</td>\n",
       "      <td>99.50</td>\n",
       "      <td>90.00</td>\n",
       "      <td>83.60</td>\n",
       "    </tr>\n",
       "    <tr>\n",
       "      <th>3208</th>\n",
       "      <td>경유</td>\n",
       "      <td>승용</td>\n",
       "      <td>대형</td>\n",
       "      <td>2006</td>\n",
       "      <td>17</td>\n",
       "      <td>1.50</td>\n",
       "      <td>1.50</td>\n",
       "      <td>1.50</td>\n",
       "      <td>1.20</td>\n",
       "      <td>99.50</td>\n",
       "      <td>90.00</td>\n",
       "      <td>83.60</td>\n",
       "    </tr>\n",
       "    <tr>\n",
       "      <th>3209</th>\n",
       "      <td>경유</td>\n",
       "      <td>승용</td>\n",
       "      <td>대형</td>\n",
       "      <td>2007</td>\n",
       "      <td>16</td>\n",
       "      <td>1.50</td>\n",
       "      <td>1.50</td>\n",
       "      <td>1.50</td>\n",
       "      <td>1.20</td>\n",
       "      <td>99.50</td>\n",
       "      <td>90.00</td>\n",
       "      <td>83.60</td>\n",
       "    </tr>\n",
       "    <tr>\n",
       "      <th>3210</th>\n",
       "      <td>경유</td>\n",
       "      <td>승용</td>\n",
       "      <td>대형</td>\n",
       "      <td>2007</td>\n",
       "      <td>16</td>\n",
       "      <td>1.50</td>\n",
       "      <td>1.50</td>\n",
       "      <td>1.50</td>\n",
       "      <td>1.20</td>\n",
       "      <td>99.50</td>\n",
       "      <td>90.00</td>\n",
       "      <td>83.60</td>\n",
       "    </tr>\n",
       "    <tr>\n",
       "      <th>3211</th>\n",
       "      <td>경유</td>\n",
       "      <td>승용</td>\n",
       "      <td>대형</td>\n",
       "      <td>2006</td>\n",
       "      <td>17</td>\n",
       "      <td>1.50</td>\n",
       "      <td>1.50</td>\n",
       "      <td>1.50</td>\n",
       "      <td>1.20</td>\n",
       "      <td>99.50</td>\n",
       "      <td>90.00</td>\n",
       "      <td>83.60</td>\n",
       "    </tr>\n",
       "  </tbody>\n",
       "</table>\n",
       "</div>"
      ],
      "text/plain": [
       "      연료  차종 차종유형    연식  차령  DF_CO  DF_HC  DF_PM  DF_NOx  R_CO  R_HC  R_PM\n",
       "3207  경유  승용   대형  2006  17   1.50   1.50   1.50    1.20 99.50 90.00 83.60\n",
       "3208  경유  승용   대형  2006  17   1.50   1.50   1.50    1.20 99.50 90.00 83.60\n",
       "3209  경유  승용   대형  2007  16   1.50   1.50   1.50    1.20 99.50 90.00 83.60\n",
       "3210  경유  승용   대형  2007  16   1.50   1.50   1.50    1.20 99.50 90.00 83.60\n",
       "3211  경유  승용   대형  2006  17   1.50   1.50   1.50    1.20 99.50 90.00 83.60"
      ]
     },
     "execution_count": 112,
     "metadata": {},
     "output_type": "execute_result"
    }
   ],
   "source": [
    "df2.loc[df2['DPF유무_수정'] == '유', DF_col + check_DF_col + check_R_col].head()"
   ]
  },
  {
   "cell_type": "code",
   "execution_count": 113,
   "metadata": {},
   "outputs": [
    {
     "data": {
      "text/html": [
       "<div>\n",
       "<style scoped>\n",
       "    .dataframe tbody tr th:only-of-type {\n",
       "        vertical-align: middle;\n",
       "    }\n",
       "\n",
       "    .dataframe tbody tr th {\n",
       "        vertical-align: top;\n",
       "    }\n",
       "\n",
       "    .dataframe thead th {\n",
       "        text-align: right;\n",
       "    }\n",
       "</style>\n",
       "<table border=\"1\" class=\"dataframe\">\n",
       "  <thead>\n",
       "    <tr style=\"text-align: right;\">\n",
       "      <th></th>\n",
       "      <th>연료</th>\n",
       "      <th>차종</th>\n",
       "      <th>차종유형</th>\n",
       "      <th>연식</th>\n",
       "      <th>차령</th>\n",
       "      <th>DF_CO</th>\n",
       "      <th>DF_HC</th>\n",
       "      <th>DF_PM</th>\n",
       "      <th>DF_NOx</th>\n",
       "      <th>R_CO</th>\n",
       "      <th>R_HC</th>\n",
       "      <th>R_PM</th>\n",
       "    </tr>\n",
       "  </thead>\n",
       "  <tbody>\n",
       "    <tr>\n",
       "      <th>0</th>\n",
       "      <td>경유</td>\n",
       "      <td>승용</td>\n",
       "      <td>대형</td>\n",
       "      <td>2006</td>\n",
       "      <td>17</td>\n",
       "      <td>1.50</td>\n",
       "      <td>1.50</td>\n",
       "      <td>1.50</td>\n",
       "      <td>1.20</td>\n",
       "      <td>NaN</td>\n",
       "      <td>NaN</td>\n",
       "      <td>NaN</td>\n",
       "    </tr>\n",
       "    <tr>\n",
       "      <th>1</th>\n",
       "      <td>경유</td>\n",
       "      <td>승용</td>\n",
       "      <td>대형</td>\n",
       "      <td>2006</td>\n",
       "      <td>17</td>\n",
       "      <td>1.50</td>\n",
       "      <td>1.50</td>\n",
       "      <td>1.50</td>\n",
       "      <td>1.20</td>\n",
       "      <td>NaN</td>\n",
       "      <td>NaN</td>\n",
       "      <td>NaN</td>\n",
       "    </tr>\n",
       "    <tr>\n",
       "      <th>2</th>\n",
       "      <td>경유</td>\n",
       "      <td>승용</td>\n",
       "      <td>대형</td>\n",
       "      <td>2006</td>\n",
       "      <td>17</td>\n",
       "      <td>1.50</td>\n",
       "      <td>1.50</td>\n",
       "      <td>1.50</td>\n",
       "      <td>1.20</td>\n",
       "      <td>NaN</td>\n",
       "      <td>NaN</td>\n",
       "      <td>NaN</td>\n",
       "    </tr>\n",
       "    <tr>\n",
       "      <th>3</th>\n",
       "      <td>경유</td>\n",
       "      <td>승용</td>\n",
       "      <td>대형</td>\n",
       "      <td>2006</td>\n",
       "      <td>17</td>\n",
       "      <td>1.50</td>\n",
       "      <td>1.50</td>\n",
       "      <td>1.50</td>\n",
       "      <td>1.20</td>\n",
       "      <td>NaN</td>\n",
       "      <td>NaN</td>\n",
       "      <td>NaN</td>\n",
       "    </tr>\n",
       "    <tr>\n",
       "      <th>4</th>\n",
       "      <td>경유</td>\n",
       "      <td>승용</td>\n",
       "      <td>대형</td>\n",
       "      <td>2006</td>\n",
       "      <td>17</td>\n",
       "      <td>1.50</td>\n",
       "      <td>1.50</td>\n",
       "      <td>1.50</td>\n",
       "      <td>1.20</td>\n",
       "      <td>NaN</td>\n",
       "      <td>NaN</td>\n",
       "      <td>NaN</td>\n",
       "    </tr>\n",
       "  </tbody>\n",
       "</table>\n",
       "</div>"
      ],
      "text/plain": [
       "   연료  차종 차종유형    연식  차령  DF_CO  DF_HC  DF_PM  DF_NOx  R_CO  R_HC  R_PM\n",
       "0  경유  승용   대형  2006  17   1.50   1.50   1.50    1.20   NaN   NaN   NaN\n",
       "1  경유  승용   대형  2006  17   1.50   1.50   1.50    1.20   NaN   NaN   NaN\n",
       "2  경유  승용   대형  2006  17   1.50   1.50   1.50    1.20   NaN   NaN   NaN\n",
       "3  경유  승용   대형  2006  17   1.50   1.50   1.50    1.20   NaN   NaN   NaN\n",
       "4  경유  승용   대형  2006  17   1.50   1.50   1.50    1.20   NaN   NaN   NaN"
      ]
     },
     "execution_count": 113,
     "metadata": {},
     "output_type": "execute_result"
    }
   ],
   "source": [
    "df2.loc[df2['DPF유무_수정'] == '무', DF_col + check_DF_col + check_R_col].head()"
   ]
  },
  {
   "cell_type": "code",
   "execution_count": 114,
   "metadata": {},
   "outputs": [
    {
     "data": {
      "text/html": [
       "<div>\n",
       "<style scoped>\n",
       "    .dataframe tbody tr th:only-of-type {\n",
       "        vertical-align: middle;\n",
       "    }\n",
       "\n",
       "    .dataframe tbody tr th {\n",
       "        vertical-align: top;\n",
       "    }\n",
       "\n",
       "    .dataframe thead th {\n",
       "        text-align: right;\n",
       "    }\n",
       "</style>\n",
       "<table border=\"1\" class=\"dataframe\">\n",
       "  <thead>\n",
       "    <tr style=\"text-align: right;\">\n",
       "      <th></th>\n",
       "      <th>연료</th>\n",
       "      <th>차종</th>\n",
       "      <th>차종유형</th>\n",
       "      <th>연식</th>\n",
       "      <th>차령</th>\n",
       "      <th>DF_CO</th>\n",
       "      <th>DF_HC</th>\n",
       "      <th>DF_PM</th>\n",
       "      <th>DF_NOx</th>\n",
       "      <th>R_CO</th>\n",
       "      <th>R_HC</th>\n",
       "      <th>R_PM</th>\n",
       "    </tr>\n",
       "  </thead>\n",
       "  <tbody>\n",
       "    <tr>\n",
       "      <th>43680</th>\n",
       "      <td>경유</td>\n",
       "      <td>승용</td>\n",
       "      <td>중형</td>\n",
       "      <td>2008</td>\n",
       "      <td>15</td>\n",
       "      <td>1.50</td>\n",
       "      <td>1.50</td>\n",
       "      <td>1.50</td>\n",
       "      <td>1.20</td>\n",
       "      <td>NaN</td>\n",
       "      <td>NaN</td>\n",
       "      <td>NaN</td>\n",
       "    </tr>\n",
       "    <tr>\n",
       "      <th>43687</th>\n",
       "      <td>경유</td>\n",
       "      <td>승용</td>\n",
       "      <td>중형</td>\n",
       "      <td>2008</td>\n",
       "      <td>15</td>\n",
       "      <td>1.50</td>\n",
       "      <td>1.50</td>\n",
       "      <td>1.50</td>\n",
       "      <td>1.20</td>\n",
       "      <td>NaN</td>\n",
       "      <td>NaN</td>\n",
       "      <td>NaN</td>\n",
       "    </tr>\n",
       "    <tr>\n",
       "      <th>43690</th>\n",
       "      <td>경유</td>\n",
       "      <td>승용</td>\n",
       "      <td>중형</td>\n",
       "      <td>2008</td>\n",
       "      <td>15</td>\n",
       "      <td>1.50</td>\n",
       "      <td>1.50</td>\n",
       "      <td>1.50</td>\n",
       "      <td>1.20</td>\n",
       "      <td>NaN</td>\n",
       "      <td>NaN</td>\n",
       "      <td>NaN</td>\n",
       "    </tr>\n",
       "    <tr>\n",
       "      <th>71238</th>\n",
       "      <td>경유</td>\n",
       "      <td>승용</td>\n",
       "      <td>중형</td>\n",
       "      <td>2009</td>\n",
       "      <td>14</td>\n",
       "      <td>1.45</td>\n",
       "      <td>1.45</td>\n",
       "      <td>1.45</td>\n",
       "      <td>1.18</td>\n",
       "      <td>NaN</td>\n",
       "      <td>NaN</td>\n",
       "      <td>NaN</td>\n",
       "    </tr>\n",
       "    <tr>\n",
       "      <th>71239</th>\n",
       "      <td>경유</td>\n",
       "      <td>승용</td>\n",
       "      <td>중형</td>\n",
       "      <td>2007</td>\n",
       "      <td>16</td>\n",
       "      <td>1.50</td>\n",
       "      <td>1.50</td>\n",
       "      <td>1.50</td>\n",
       "      <td>1.20</td>\n",
       "      <td>NaN</td>\n",
       "      <td>NaN</td>\n",
       "      <td>NaN</td>\n",
       "    </tr>\n",
       "  </tbody>\n",
       "</table>\n",
       "</div>"
      ],
      "text/plain": [
       "       연료  차종 차종유형    연식  차령  DF_CO  DF_HC  DF_PM  DF_NOx  R_CO  R_HC  R_PM\n",
       "43680  경유  승용   중형  2008  15   1.50   1.50   1.50    1.20   NaN   NaN   NaN\n",
       "43687  경유  승용   중형  2008  15   1.50   1.50   1.50    1.20   NaN   NaN   NaN\n",
       "43690  경유  승용   중형  2008  15   1.50   1.50   1.50    1.20   NaN   NaN   NaN\n",
       "71238  경유  승용   중형  2009  14   1.45   1.45   1.45    1.18   NaN   NaN   NaN\n",
       "71239  경유  승용   중형  2007  16   1.50   1.50   1.50    1.20   NaN   NaN   NaN"
      ]
     },
     "execution_count": 114,
     "metadata": {},
     "output_type": "execute_result"
    }
   ],
   "source": [
    "df2.loc[df2['DPF유무_수정'] == '확인불가', DF_col + check_DF_col + check_R_col].head()"
   ]
  },
  {
   "cell_type": "code",
   "execution_count": 115,
   "metadata": {},
   "outputs": [],
   "source": [
    "df2[check_R_col] = df2[check_R_col].fillna(0)"
   ]
  },
  {
   "cell_type": "code",
   "execution_count": 116,
   "metadata": {},
   "outputs": [
    {
     "data": {
      "text/plain": [
       "R_CO    0\n",
       "R_HC    0\n",
       "R_PM    0\n",
       "dtype: int64"
      ]
     },
     "execution_count": 116,
     "metadata": {},
     "output_type": "execute_result"
    }
   ],
   "source": [
    "df2[check_R_col].isnull().sum()"
   ]
  },
  {
   "attachments": {},
   "cell_type": "markdown",
   "metadata": {},
   "source": [
    "### DPF 무, 확인불가, nan의 R값 수정\n",
    "- 0"
   ]
  },
  {
   "cell_type": "code",
   "execution_count": 117,
   "metadata": {},
   "outputs": [],
   "source": [
    "df2[check_R_col] = df2[check_R_col].fillna(0)"
   ]
  },
  {
   "cell_type": "code",
   "execution_count": 118,
   "metadata": {},
   "outputs": [
    {
     "data": {
      "text/plain": [
       "R_CO    0\n",
       "R_HC    0\n",
       "R_PM    0\n",
       "dtype: int64"
      ]
     },
     "execution_count": 118,
     "metadata": {},
     "output_type": "execute_result"
    }
   ],
   "source": [
    "df2[check_R_col].isnull().sum()"
   ]
  },
  {
   "cell_type": "code",
   "execution_count": 119,
   "metadata": {},
   "outputs": [
    {
     "data": {
      "text/html": [
       "<div>\n",
       "<style scoped>\n",
       "    .dataframe tbody tr th:only-of-type {\n",
       "        vertical-align: middle;\n",
       "    }\n",
       "\n",
       "    .dataframe tbody tr th {\n",
       "        vertical-align: top;\n",
       "    }\n",
       "\n",
       "    .dataframe thead th {\n",
       "        text-align: right;\n",
       "    }\n",
       "</style>\n",
       "<table border=\"1\" class=\"dataframe\">\n",
       "  <thead>\n",
       "    <tr style=\"text-align: right;\">\n",
       "      <th></th>\n",
       "      <th>연료</th>\n",
       "      <th>차종</th>\n",
       "      <th>차종유형</th>\n",
       "      <th>연식</th>\n",
       "      <th>차령</th>\n",
       "      <th>DF_CO</th>\n",
       "      <th>DF_HC</th>\n",
       "      <th>DF_PM</th>\n",
       "      <th>DF_NOx</th>\n",
       "      <th>R_CO</th>\n",
       "      <th>R_HC</th>\n",
       "      <th>R_PM</th>\n",
       "    </tr>\n",
       "  </thead>\n",
       "  <tbody>\n",
       "    <tr>\n",
       "      <th>1149289</th>\n",
       "      <td>휘발유</td>\n",
       "      <td>승용</td>\n",
       "      <td>소형</td>\n",
       "      <td>2001</td>\n",
       "      <td>22</td>\n",
       "      <td>2.00</td>\n",
       "      <td>2.00</td>\n",
       "      <td>2.00</td>\n",
       "      <td>2.00</td>\n",
       "      <td>0.00</td>\n",
       "      <td>0.00</td>\n",
       "      <td>0.00</td>\n",
       "    </tr>\n",
       "    <tr>\n",
       "      <th>1149290</th>\n",
       "      <td>휘발유</td>\n",
       "      <td>승용</td>\n",
       "      <td>대형</td>\n",
       "      <td>1999</td>\n",
       "      <td>24</td>\n",
       "      <td>2.00</td>\n",
       "      <td>2.00</td>\n",
       "      <td>2.00</td>\n",
       "      <td>2.00</td>\n",
       "      <td>0.00</td>\n",
       "      <td>0.00</td>\n",
       "      <td>0.00</td>\n",
       "    </tr>\n",
       "    <tr>\n",
       "      <th>1149291</th>\n",
       "      <td>휘발유</td>\n",
       "      <td>승용</td>\n",
       "      <td>소형</td>\n",
       "      <td>1991</td>\n",
       "      <td>32</td>\n",
       "      <td>2.00</td>\n",
       "      <td>2.00</td>\n",
       "      <td>2.00</td>\n",
       "      <td>2.00</td>\n",
       "      <td>0.00</td>\n",
       "      <td>0.00</td>\n",
       "      <td>0.00</td>\n",
       "    </tr>\n",
       "    <tr>\n",
       "      <th>1149292</th>\n",
       "      <td>LPG(액화석유가스)</td>\n",
       "      <td>승합</td>\n",
       "      <td>중형</td>\n",
       "      <td>2000</td>\n",
       "      <td>23</td>\n",
       "      <td>2.00</td>\n",
       "      <td>2.00</td>\n",
       "      <td>2.00</td>\n",
       "      <td>2.00</td>\n",
       "      <td>0.00</td>\n",
       "      <td>0.00</td>\n",
       "      <td>0.00</td>\n",
       "    </tr>\n",
       "    <tr>\n",
       "      <th>1149293</th>\n",
       "      <td>휘발유</td>\n",
       "      <td>승용</td>\n",
       "      <td>중형</td>\n",
       "      <td>1999</td>\n",
       "      <td>24</td>\n",
       "      <td>2.00</td>\n",
       "      <td>2.00</td>\n",
       "      <td>2.00</td>\n",
       "      <td>2.00</td>\n",
       "      <td>0.00</td>\n",
       "      <td>0.00</td>\n",
       "      <td>0.00</td>\n",
       "    </tr>\n",
       "  </tbody>\n",
       "</table>\n",
       "</div>"
      ],
      "text/plain": [
       "                  연료  차종 차종유형    연식  차령  DF_CO  DF_HC  DF_PM  DF_NOx  R_CO  \\\n",
       "1149289          휘발유  승용   소형  2001  22   2.00   2.00   2.00    2.00  0.00   \n",
       "1149290          휘발유  승용   대형  1999  24   2.00   2.00   2.00    2.00  0.00   \n",
       "1149291          휘발유  승용   소형  1991  32   2.00   2.00   2.00    2.00  0.00   \n",
       "1149292  LPG(액화석유가스)  승합   중형  2000  23   2.00   2.00   2.00    2.00  0.00   \n",
       "1149293          휘발유  승용   중형  1999  24   2.00   2.00   2.00    2.00  0.00   \n",
       "\n",
       "         R_HC  R_PM  \n",
       "1149289  0.00  0.00  \n",
       "1149290  0.00  0.00  \n",
       "1149291  0.00  0.00  \n",
       "1149292  0.00  0.00  \n",
       "1149293  0.00  0.00  "
      ]
     },
     "execution_count": 119,
     "metadata": {},
     "output_type": "execute_result"
    }
   ],
   "source": [
    "df2.loc[df2['DPF유무_수정'].isnull() == True, DF_col + check_DF_col + check_R_col].head()"
   ]
  },
  {
   "attachments": {},
   "cell_type": "markdown",
   "metadata": {},
   "source": [
    "## ❗ 배출계수(EFi)\n",
    "- 연료, 차종, 차종유형 설정에 해당되지 않는 차량의 배출계수 값 설정\n",
    "    - 현재 설정값 : np.nan\n",
    "    - 고려 설정값 : 1\n",
    "- 조건 수정(2023.04.20, 최)\n",
    "    - 특수 중형 = 승합 중형\n",
    "    - 화물 중형 = 승합 중형\n",
    "    - 화물 대형 = 승합 대형\n",
    "    - 특수 중형 = 승용 중형"
   ]
  },
  {
   "cell_type": "code",
   "execution_count": 120,
   "metadata": {},
   "outputs": [],
   "source": [
    "EFi_col = ['차종', '차종유형', '연료', '연식']\n",
    "# 참고 : KOSIS 차량속도(2017) 일반국도 평균 (https://kosis.kr/statHtml/statHtml.do?orgId=210&tblId=DT_21002_J008)\n",
    "V = 54.1\n",
    "# 국가 대기오염물질 배출량 산정방법 편람(V)(2022) 부록 참고(for PM-2.5)\n",
    "k = 0.92"
   ]
  },
  {
   "cell_type": "code",
   "execution_count": 121,
   "metadata": {},
   "outputs": [
    {
     "data": {
      "text/plain": [
       "array(['승용', '대형', '경유', 2006], dtype=object)"
      ]
     },
     "execution_count": 121,
     "metadata": {},
     "output_type": "execute_result"
    }
   ],
   "source": [
    "df2[EFi_col].values[0]"
   ]
  },
  {
   "cell_type": "code",
   "execution_count": 122,
   "metadata": {},
   "outputs": [
    {
     "data": {
      "text/plain": [
       "array(['대형', '중형', '소형', '경형'], dtype=object)"
      ]
     },
     "execution_count": 122,
     "metadata": {},
     "output_type": "execute_result"
    }
   ],
   "source": [
    "df2['차종유형'].unique()"
   ]
  },
  {
   "cell_type": "code",
   "execution_count": 123,
   "metadata": {},
   "outputs": [
    {
     "name": "stderr",
     "output_type": "stream",
     "text": [
      "100%|██████████| 1497708/1497708 [00:06<00:00, 244566.86it/s]\n"
     ]
    }
   ],
   "source": [
    "# about 7.9s\n",
    "EFi_CO_list = []\n",
    "EFi_HC_list = []\n",
    "EFi_NOx_list = []\n",
    "EFi_PM10_list = []\n",
    "EFi_PM2_5_list = []\n",
    "\n",
    "for car_type, car_size, fuel, car_birth in tqdm(df2[EFi_col].values):\n",
    "    if fuel == '휘발유':\n",
    "        if (car_type == '승용') and (car_size == '경형'):\n",
    "            if car_birth <= 1996:\n",
    "                if V <= 65:\n",
    "                    EFi_CO = 59.783 * (V**-1.0007)\n",
    "                else:\n",
    "                    EFi_CO = 0.0874 * V - 3.5618\n",
    "                EFi_HC = 7.6244 * (V**-0.8364)\n",
    "                EFi_NOx = 2.6754 * (V**-0.3236)\n",
    "                if V < 85:\n",
    "                    EFi_PM10 = 0.00030\n",
    "                    EFi_PM2_5 = k * 0.00030\n",
    "                else:\n",
    "                    EFi_PM10 = 0.00075\n",
    "                    EFi_PM2_5 = k * 0.00075\n",
    "            elif 1997 <= car_birth <= 1999:\n",
    "                if V <= 65:\n",
    "                    EFi_CO = 59.783 * (V**-1.0007)\n",
    "                else:\n",
    "                    EFi_CO = 0.0874 * V - 3.5618\n",
    "                EFi_HC = 8.6275 * (V**-1.0722)\n",
    "                EFi_NOx = 3.2294 * (V**-0.5763)\n",
    "                if V < 85:\n",
    "                    EFi_PM10 = 0.00030\n",
    "                    EFi_PM2_5 = k * 0.00030\n",
    "                else:\n",
    "                    EFi_PM10 = 0.00075\n",
    "                    EFi_PM2_5 = k * 0.00075\n",
    "            elif 2000 <= car_birth <= 2002:\n",
    "                if V <= 65:\n",
    "                    EFi_CO = 60.556 * (V**-1.2501)\n",
    "                else:\n",
    "                    EFi_CO = -0.0006 * V + 0.5753\n",
    "                EFi_HC = 5.1835 * (V**-1.1889)\n",
    "                EFi_NOx = 1.7525 * (V**-0.6481)\n",
    "                if V < 85:\n",
    "                    EFi_PM10 = 0.00030\n",
    "                    EFi_PM2_5 = k * 0.00030\n",
    "                else:\n",
    "                    EFi_PM10 = 0.00075\n",
    "                    EFi_PM2_5 = k * 0.00075\n",
    "            elif 2003 <= car_birth <= 2005:\n",
    "                if V <= 65:\n",
    "                    EFi_CO = 60.556 * (V**-1.2501)\n",
    "                else:\n",
    "                    EFi_CO = -0.0006 * V + 0.5753\n",
    "                EFi_HC = 0.7446 * (V**-0.9392)\n",
    "                EFi_NOx = 0.3403 * (V**-0.5455)\n",
    "                if V < 85:\n",
    "                    EFi_PM10 = 0.00030\n",
    "                    EFi_PM2_5 = k * 0.00030\n",
    "                else:\n",
    "                    EFi_PM10 = 0.00075\n",
    "                    EFi_PM2_5 = k * 0.00075\n",
    "            elif 2006 <= car_birth <= 2008:\n",
    "                if V <= 45:\n",
    "                    EFi_CO = 4.9952 * (V**-0.8461)\n",
    "                else:\n",
    "                    EFi_CO = -0.0001 * V**2 + 0.0229 * V - 0.5701\n",
    "                EFi_HC = 0.2958 * (V**-0.7830)\n",
    "                EFi_NOx = 0.4819 * (V**-0.9198)\n",
    "                if V < 85:\n",
    "                    EFi_PM10 = 0.00030\n",
    "                    EFi_PM2_5 = k * 0.00030\n",
    "                else:\n",
    "                    EFi_PM10 = 0.00075\n",
    "                    EFi_PM2_5 = k * 0.00075\n",
    "            elif 2009 <= car_birth <= 2011:\n",
    "                if V <= 45:\n",
    "                    EFi_CO = 4.5956 * (V**-0.8461)\n",
    "                else:\n",
    "                    EFi_CO = -9.2000*(10**-5) * (V**2) + 2.1068*(10**-2) * V - 5.2449*(10**-1)\n",
    "                EFi_HC = 0.2662 * (V**-0.7830)\n",
    "                EFi_NOx = 0.4476 * (V**-0.9198)\n",
    "                if V < 85:\n",
    "                    EFi_PM10 = 0.00030\n",
    "                    EFi_PM2_5 = k * 0.00030\n",
    "                else:\n",
    "                    EFi_PM10 = 0.00075\n",
    "                    EFi_PM2_5 = k * 0.00075\n",
    "            elif 2012 <= car_birth <= 2013:\n",
    "                if V <= 45:\n",
    "                    EFi_CO = 4.4517 * (V**-0.8461)\n",
    "                else:\n",
    "                    EFi_CO = -8.9120*(10**-5) * (V**2) + 2.0408*(10**-2)*V - 5.0807*(10**-1)\n",
    "                EFi_HC = 0.2556 * (V**-0.7830)\n",
    "                EFi_NOx = 0.4353 * (V**-0.9198)\n",
    "                if V < 85:\n",
    "                    EFi_PM10 = 0.00030\n",
    "                    EFi_PM2_5 = k * 0.00030\n",
    "                else:\n",
    "                    EFi_PM10 = 0.00075\n",
    "                    EFi_PM2_5 = k * 0.00075\n",
    "            elif car_birth == 2014:\n",
    "                if V <= 45:\n",
    "                    EFi_CO = 4.3079 * (V**-0.8461)\n",
    "                else:\n",
    "                    EFi_CO = -8.6240*(10**-5) * (V**2) + 1.9749*(10**-2)*V - 4.9165*(10**-1)\n",
    "                EFi_HC = 0.2449 * (V**-0.7830)\n",
    "                EFi_NOx = 0.4230 * (V**-0.9198)\n",
    "                if V < 85:\n",
    "                    EFi_PM10 = 0.00030\n",
    "                    EFi_PM2_5 = k * 0.00030\n",
    "                else:\n",
    "                    EFi_PM10 = 0.00075\n",
    "                    EFi_PM2_5 = k * 0.00075\n",
    "            elif 2015 <= car_birth:\n",
    "                if V <= 45:\n",
    "                    EFi_CO = 4.164 * (V**-0.8461)\n",
    "                else:\n",
    "                    EFi_CO = -8.3360*(10**-5) * (V**2) + 1.9089*(10**-2)*V - 4.7524*(10**-1)\n",
    "                EFi_HC = 0.2343 * (V**-0.7830)\n",
    "                EFi_NOx = 0.4106 * (V**-0.9198)\n",
    "                if V < 85:\n",
    "                    EFi_PM10 = 0.00030\n",
    "                    EFi_PM2_5 = k * 0.00030\n",
    "                else:\n",
    "                    EFi_PM10 = 0.00075\n",
    "                    EFi_PM2_5 = k * 0.00075\n",
    "        elif (car_type == '승용') and (car_size == '소형'):\n",
    "            if car_birth <= 1986:\n",
    "                EFi_CO = 247.00 * (V**-0.6651)\n",
    "                EFi_HC = 15.953 * (V**-0.5059)\n",
    "                EFi_NOx = 3.1140 * (V**-0.2278)\n",
    "                if V < 85:\n",
    "                    EFi_PM10 = 0.00030\n",
    "                    EFi_PM2_5 = k * 0.00030\n",
    "                else:\n",
    "                    EFi_PM10 = 0.00075\n",
    "                    EFi_PM2_5 = k * 0.00075\n",
    "            elif 1987 <= car_birth <= 1990:\n",
    "                EFi_CO = 36.169 * (V**-0.7587)\n",
    "                EFi_HC = 15.607 * (V**-1.0423)\n",
    "                EFi_NOx = 6.2007 * (V**-0.6781)\n",
    "                if V < 85:\n",
    "                    EFi_PM10 = 0.00030\n",
    "                    EFi_PM2_5 = k * 0.00030\n",
    "                else:\n",
    "                    EFi_PM10 = 0.00075\n",
    "                    EFi_PM2_5 = k * 0.00075\n",
    "            elif 1991 <= car_birth <= 1999:\n",
    "                EFi_CO = 111.67 * (V**-1.1566)\n",
    "                EFi_HC = 32.017 * (V**-1.4171)\n",
    "                EFi_NOx = 7.5244 * (V**-0.7634)\n",
    "                if V < 85:\n",
    "                    EFi_PM10 = 0.00030\n",
    "                    EFi_PM2_5 = k * 0.00030\n",
    "                else:\n",
    "                    EFi_PM10 = 0.00075\n",
    "                    EFi_PM2_5 = k * 0.00075\n",
    "            elif 2000 <= car_birth <= 2002:\n",
    "                EFi_CO = 22.356 * (V**-0.9068)\n",
    "                EFi_HC = 0.8428 * (V**-0.8829)\n",
    "                EFi_NOx = 1.2613 * (V**-0.3873)\n",
    "                if V < 85:\n",
    "                    EFi_PM10 = 0.00030\n",
    "                    EFi_PM2_5 = k * 0.00030\n",
    "                else:\n",
    "                    EFi_PM10 = 0.00075\n",
    "                    EFi_PM2_5 = k * 0.00075\n",
    "            elif 2003 <= car_birth <= 2005:\n",
    "                EFi_CO = 1.4898 * (V**-0.3837)\n",
    "                EFi_HC = 0.1738 * (V**-0.7268)\n",
    "                EFi_NOx = 0.1563 * (V**-0.2671)\n",
    "                if V < 85:\n",
    "                    EFi_PM10 = 0.00030\n",
    "                    EFi_PM2_5 = k * 0.00030\n",
    "                else:\n",
    "                    EFi_PM10 = 0.00075\n",
    "                    EFi_PM2_5 = k * 0.00075\n",
    "            elif 2006 <= car_birth <= 2008:\n",
    "                EFi_CO = 1.0000*(10**-4)*(V**2) - 7.1000*(10**-3)*V + 2.2450*(10**-1)\n",
    "                if V <= 65.4:\n",
    "                    EFi_HC = 0.0633 * (V**-1.0484)\n",
    "                else:\n",
    "                    EFi_HC = 1.3200*(10**-6)*(V**2) - 1.8800*(10**-4)*V + 7.7000*(10**-3)\n",
    "                EFi_NOx = -3.5000*(10**-6)*(V**2) + 3.3000*(10**-4)*V + 1.1200*(10**-2)\n",
    "                if V < 85:\n",
    "                    EFi_PM10 = 0.00030\n",
    "                    EFi_PM2_5 = k * 0.00030\n",
    "                else:\n",
    "                    EFi_PM10 = 0.00075\n",
    "                    EFi_PM2_5 = k * 0.00075\n",
    "            elif 2009 <= car_birth <= 2011:\n",
    "                EFi_CO = 9.2000*(10**-5)*(V**2) - 6.5320*(10**-3)*V + 2.0654*(10**-1)\n",
    "                if V <= 65.4:\n",
    "                    EFi_HC = 0.0570 * (V**-1.0484)\n",
    "                else:\n",
    "                    EFi_HC = 1.1880*(10**-6)*(V**2) - 1.6920*(10**-4)*V + 6.9300*(10**-3)\n",
    "                EFi_NOx = -3.2511*(10**-6)*(V**2) + 3.0653*(10**-4)*V + 1.0404*(10**-2)\n",
    "                if V < 85:\n",
    "                    EFi_PM10 = 0.00030\n",
    "                    EFi_PM2_5 = k * 0.00030\n",
    "                else:\n",
    "                    EFi_PM10 = 0.00075\n",
    "                    EFi_PM2_5 = k * 0.00075\n",
    "            elif 2012 <= car_birth <= 2013:\n",
    "                EFi_CO = 8.9120*(10**-5)*(V**2) - 6.3275*(10**-3)*V + 2.0007*(10**-1)\n",
    "                if V <= 65.4:\n",
    "                    EFi_HC = 0.0547 * (V**-1.0484)\n",
    "                else:\n",
    "                    EFi_HC = 1.1405*(10**-6)*(V**2) - 1.6243*(10**-4)*V + 6.6528*(10**-3)\n",
    "                EFi_NOx = -3.1615*(10**-6)*(V**2) + 2.9809*(10**-4)*V + 1.0117*(10**-2)\n",
    "                if V < 85:\n",
    "                    EFi_PM10 = 0.00030\n",
    "                    EFi_PM2_5 = k * 0.00030\n",
    "                else:\n",
    "                    EFi_PM10 = 0.00075\n",
    "                    EFi_PM2_5 = k * 0.00075\n",
    "            elif car_birth == 2014:\n",
    "                EFi_CO = 8.6240*(10**-5)*(V**2) - 6.1230*(10**-3)*V + 1.9361*(10**-1)\n",
    "                if V <= 65.4:\n",
    "                    EFi_HC = 0.0524 * (V**-1.0484)\n",
    "                else:\n",
    "                    EFi_HC = 1.0930*(10**-6)*(V**2) - 1.5566*(10**-4)*V + 6.3756*(10**-3)\n",
    "                EFi_NOx = -3.0719*(10**-6)*(V**2) + 2.8964*(10**-4)*V + 9.8301*(10**-3)\n",
    "                if V < 85:\n",
    "                    EFi_PM10 = 0.00030\n",
    "                    EFi_PM2_5 = k * 0.00030\n",
    "                else:\n",
    "                    EFi_PM10 = 0.00075\n",
    "                    EFi_PM2_5 = k * 0.00075\n",
    "            elif 2015 <= car_birth:\n",
    "                EFi_CO = 8.3360*(10**-5)*(V**2) - 5.9186*(10**-3)*V + 1.8714*(10**-1)\n",
    "                if V <= 65.4:\n",
    "                    EFi_HC = 0.0501 * (V**-1.0484)\n",
    "                else:\n",
    "                    EFi_HC = 1.0500*(10**-6)*(V**2) - 1.4890*(10**-4)*V + 6.09840*(10**-3)\n",
    "                EFi_NOx = -2.9823*(10**-6)*(V**2) + 2.8119*(10**-4)*V + 9.5434*(10**-3)\n",
    "                if V < 85:\n",
    "                    EFi_PM10 = 0.00030\n",
    "                    EFi_PM2_5 = k * 0.00030\n",
    "                else:\n",
    "                    EFi_PM10 = 0.00075\n",
    "                    EFi_PM2_5 = k * 0.00075\n",
    "        elif ( (car_type == '승용') and (car_size == '중형') ) or ( (car_type == '특수') and (car_size == '중형') ): # 최 확인(2023.04.20) : 특수 중형 -> 승용 중형 조건으로 계산\n",
    "            if car_birth <= 1986:\n",
    "                EFi_CO = 247.00 * (V**-0.6651)\n",
    "                EFi_HC = 15.953 * (V**-0.5059)\n",
    "                EFi_NOx = 3.1140 * (V**-0.2278)\n",
    "                if V < 85:\n",
    "                    EFi_PM10 = 0.00030\n",
    "                    EFi_PM2_5 = k * 0.00030\n",
    "                else:\n",
    "                    EFi_PM10 = 0.00075\n",
    "                    EFi_PM2_5 = k * 0.00075\n",
    "            elif 1987 <= car_birth <= 1990:\n",
    "                EFi_CO = 36.169 * (V**-0.7587)\n",
    "                EFi_HC = 15.607 * (V**-1.0423)\n",
    "                EFi_NOx = 6.2007 * (V**-0.6781)\n",
    "                if V < 85:\n",
    "                    EFi_PM10 = 0.00030\n",
    "                    EFi_PM2_5 = k * 0.00030\n",
    "                else:\n",
    "                    EFi_PM10 = 0.00075\n",
    "                    EFi_PM2_5 = k * 0.00075\n",
    "            elif 1991 <= car_birth <= 1999:\n",
    "                EFi_CO = 51.555 * (V**-0.9531)\n",
    "                EFi_HC = 31.816 * (V**-1.4804)\n",
    "                EFi_NOx = 7.5244 * (V**-0.7634)\n",
    "                if V < 85:\n",
    "                    EFi_PM10 = 0.00030\n",
    "                    EFi_PM2_5 = k * 0.00030\n",
    "                else:\n",
    "                    EFi_PM10 = 0.00075\n",
    "                    EFi_PM2_5 = k * 0.00075\n",
    "            elif 2000 <= car_birth <= 2002:\n",
    "                EFi_CO = 29.921 * (V**-0.8868)\n",
    "                EFi_HC = 7.9374 * (V**-1.3041)\n",
    "                EFi_NOx = 1.8525 * (V**-0.4192)\n",
    "                if V < 85:\n",
    "                    EFi_PM10 = 0.00030\n",
    "                    EFi_PM2_5 = k * 0.00030\n",
    "                else:\n",
    "                    EFi_PM10 = 0.00075\n",
    "                    EFi_PM2_5 = k * 0.00075\n",
    "            elif 2003 <= car_birth <= 2005:\n",
    "                EFi_CO = 2.4938 * (V**-0.6106)\n",
    "                EFi_HC = 0.4262 * (V**-1.0122)\n",
    "                EFi_NOx = 0.1818 * (V**-0.4316)\n",
    "                if V < 85:\n",
    "                    EFi_PM10 = 0.00030\n",
    "                    EFi_PM2_5 = k * 0.00030\n",
    "                else:\n",
    "                    EFi_PM10 = 0.00075\n",
    "                    EFi_PM2_5 = k * 0.00075\n",
    "            elif 2006 <= car_birth <= 2008:\n",
    "                EFi_CO = 2.2900*(10**-5)*(V**2) - 1.6300*(10**-3)*V + 5.8300*(10**-2)\n",
    "                if V <= 65.4:\n",
    "                    EFi_HC = 0.0633 * (V**-1.0484)\n",
    "                else:\n",
    "                    EFi_HC = 1.3200*(10**-6)*(V**2) - 1.8800*(10**-4)*V + 7.7000*(10**-3)\n",
    "                EFi_NOx = -3.5000*(10**-6)*(V**2) + 3.3000*(10**-4)*V + 1.1200*(10**-2)\n",
    "                if V < 85:\n",
    "                    EFi_PM10 = 0.00030\n",
    "                    EFi_PM2_5 = k * 0.00030\n",
    "                else:\n",
    "                    EFi_PM10 = 0.00075\n",
    "                    EFi_PM2_5 = k * 0.00075\n",
    "            elif 2009 <= car_birth <= 2011:\n",
    "                EFi_CO = 2.1068*(10**-5)*(V**2) - 1.4996*(10**-3)*V + 5.3636*(10**-2)\n",
    "                if V <= 65.4:\n",
    "                    EFi_HC = 0.0570 * (V**-1.0484)\n",
    "                else:\n",
    "                    EFi_HC = 1.1880*(10**-6)*(V**2) - 1.6920*(10**-4)*V + 6.9300*(10**-3)\n",
    "                EFi_NOx = -3.2511*(10**-6)*(V**2) + 3.0653*(10**-4)*V + 1.0404*(10**-2)\n",
    "                if V < 85:\n",
    "                    EFi_PM10 = 0.00030\n",
    "                    EFi_PM2_5 = k * 0.00030\n",
    "                else:\n",
    "                    EFi_PM10 = 0.00075\n",
    "                    EFi_PM2_5 = k * 0.00075\n",
    "            elif 2012 <= car_birth <= 2013:\n",
    "                EFi_CO = 2.0408*(10**-5)*(V**2) - 1.4527*(10**-3)*V + 5.1957*(10**-2)\n",
    "                if V <= 65.4:\n",
    "                    EFi_HC = 0.0547 * (V**-1.0484)\n",
    "                else:\n",
    "                    EFi_HC = 1.1405*(10**-6)*(V**2) - 1.6243*(10**-4)*V + 6.6528*(10**-3)\n",
    "                EFi_NOx = -3.1615*(10**-6)*(V**2) + 2.9809*(10**-4)*V + 1.0117*(10**-2)\n",
    "                if V < 85:\n",
    "                    EFi_PM10 = 0.00030\n",
    "                    EFi_PM2_5 = k * 0.00030\n",
    "                else:\n",
    "                    EFi_PM10 = 0.00075\n",
    "                    EFi_PM2_5 = k * 0.00075\n",
    "            elif car_birth == 2014:\n",
    "                EFi_CO = 1.9749*(10**-5)*(V**2) - 1.4057*(10**-3)*V + 5.0278*(10**-2)\n",
    "                if V <= 65.4:\n",
    "                    EFi_HC = 0.0524 * (V**-1.0484)\n",
    "                else:\n",
    "                    EFi_HC = 1.0930*(10**-6)*(V**2) - 1.5566*(10**-4)*V + 6.3756*(10**-3)\n",
    "                EFi_NOx = -3.0719*(10**-6)*(V**2) + 2.8964*(10**-4)*V + 9.8301*(10**-3)\n",
    "                if V < 85:\n",
    "                    EFi_PM10 = 0.00030\n",
    "                    EFi_PM2_5 = k * 0.00030\n",
    "                else:\n",
    "                    EFi_PM10 = 0.00075\n",
    "                    EFi_PM2_5 = k * 0.00075\n",
    "            elif 2015 <= car_birth:\n",
    "                EFi_CO = 1.9089*(10**-5)*(V**2) - 1.3588*(10**-3)*V + 4.8599*(10**-2)\n",
    "                if V <= 65.4:\n",
    "                    EFi_HC = 0.0501 * (V**-1.0484)\n",
    "                else:\n",
    "                    EFi_HC = 1.0500*(10**-6)*(V**2) - 1.4890*(10**-4)*V + 6.0984*(10**-3)\n",
    "                EFi_NOx = -2.9823*(10**-6)*(V**2) + 2.8119*(10**-4)*V + 9.5434*(10**-3)\n",
    "                if V < 85:\n",
    "                    EFi_PM10 = 0.00030\n",
    "                    EFi_PM2_5 = k * 0.00030\n",
    "                else:\n",
    "                    EFi_PM10 = 0.00075\n",
    "                    EFi_PM2_5 = k * 0.00075\n",
    "        elif (car_type == '승용') and (car_size == '대형'):\n",
    "            if car_birth <= 1986:\n",
    "                EFi_CO = 247.00 * (V**-0.6651)\n",
    "                EFi_HC = 15.953 * (V**-0.5059)\n",
    "                EFi_NOx = 3.1140 * (V**-0.2278)\n",
    "                if V < 85:\n",
    "                    EFi_PM10 = 0.00030\n",
    "                    EFi_PM2_5 = k * 0.00030\n",
    "                else:\n",
    "                    EFi_PM10 = 0.00075\n",
    "                    EFi_PM2_5 = k * 0.00075\n",
    "            elif 1987 <= car_birth <= 1990:\n",
    "                EFi_CO = 36.169 * (V**-0.7587)\n",
    "                EFi_HC = 15.607 * (V**-1.0423)\n",
    "                EFi_NOx = 6.2007 * (V**-0.6781)\n",
    "                if V < 85:\n",
    "                    EFi_PM10 = 0.00030\n",
    "                    EFi_PM2_5 = k * 0.00030\n",
    "                else:\n",
    "                    EFi_PM10 = 0.00075\n",
    "                    EFi_PM2_5 = k * 0.00075\n",
    "            elif 1991 <= car_birth <= 1999:\n",
    "                EFi_CO = 51.555 * (V**-0.9531)\n",
    "                EFi_HC = 31.816 * (V**-1.4804)\n",
    "                EFi_NOx = 7.5244 * (V**-0.7634)\n",
    "                if V < 85:\n",
    "                    EFi_PM10 = 0.00030\n",
    "                    EFi_PM2_5 = k * 0.00030\n",
    "                else:\n",
    "                    EFi_PM10 = 0.00075\n",
    "                    EFi_PM2_5 = k * 0.00075\n",
    "            elif 2000 <= car_birth <= 2002:\n",
    "                EFi_CO = 29.921 * (V**-0.8868)\n",
    "                EFi_HC = 7.9374 * (V**-1.3041)\n",
    "                EFi_NOx = 1.8525 * (V**-0.4192)\n",
    "                if V < 85:\n",
    "                    EFi_PM10 = 0.00030\n",
    "                    EFi_PM2_5 = k * 0.00030\n",
    "                else:\n",
    "                    EFi_PM10 = 0.00075\n",
    "                    EFi_PM2_5 = k * 0.00075\n",
    "            elif 2003 <= car_birth <= 2005:\n",
    "                EFi_CO = 2.4938 * (V**-0.6106)\n",
    "                EFi_HC = 0.4262 * (V**-1.0122)\n",
    "                EFi_NOx = 0.1818 * (V**-0.4316)\n",
    "                if V < 85:\n",
    "                    EFi_PM10 = 0.00030\n",
    "                    EFi_PM2_5 = k * 0.00030\n",
    "                else:\n",
    "                    EFi_PM10 = 0.00075\n",
    "                    EFi_PM2_5 = k * 0.00075\n",
    "            elif 2006 <= car_birth <= 2008:\n",
    "                if V <= 65.4:\n",
    "                    EFi_CO = 1.4082 * (V**-0.7728)\n",
    "                else:\n",
    "                    EFi_CO = 8.0000*(10**-5)*(V**2) - 1.2700*(10**-2)*V + 5.7510*(10**-1)\n",
    "                if V <= 65.4:\n",
    "                    EFi_HC = 0.0633 * (V**-1.0484)\n",
    "                else:\n",
    "                    EFi_HC = 1.3200*(10**-6)*(V**2) - 1.8800*(10**-4)*V + 7.7000*(10**-3)\n",
    "                EFi_NOx = -3.5000*(10**-6)*(V**2) + 3.3000*(10**-4)*V + 1.1200*(10**-2)\n",
    "                if V < 85:\n",
    "                    EFi_PM10 = 0.00030\n",
    "                    EFi_PM2_5 = k * 0.00030\n",
    "                else:\n",
    "                    EFi_PM10 = 0.00075\n",
    "                    EFi_PM2_5 = k * 0.00075\n",
    "            elif 2009 <= car_birth <= 2011:\n",
    "                if V <= 65.4:\n",
    "                    EFi_CO = 1.2955 * (V**-0.7728)\n",
    "                else:\n",
    "                    EFi_CO = 7.3600*(10**-5)*(V**2) - 1.1684*(10**-2)*V + 5.2909*(10**-1)\n",
    "                if V <= 65.4:\n",
    "                    EFi_HC = 0.0570 * (V**-1.0484)\n",
    "                else:\n",
    "                    EFi_HC = 1.1880*(10**-6)*(V**2) - 1.6920*(10**-4)*V + 6.9300*(10**-3)\n",
    "                EFi_NOx = -3.2511*(10**-6)*(V**2) + 3.0653*(10**-4)*V + 1.0404*(10**-2)\n",
    "                if V < 85:\n",
    "                    EFi_PM10 = 0.00030\n",
    "                    EFi_PM2_5 = k * 0.00030\n",
    "                else:\n",
    "                    EFi_PM10 = 0.00075\n",
    "                    EFi_PM2_5 = k * 0.00075\n",
    "            elif 2012 <= car_birth <= 2013:\n",
    "                if V <= 65.4:\n",
    "                    EFi_CO = 1.2550 * (V**-0.7728)\n",
    "                else:\n",
    "                    EFi_CO = 7.1296*(10**-5)*(V**2) - 1.1318*(10**-2)*V + 5.1253*(10**-1)\n",
    "                if V <= 65.4:\n",
    "                    EFi_HC = 0.0547 * (V**-1.0484)\n",
    "                else:\n",
    "                    EFi_HC = 1.1405*(10**-6)*(V**2) - 1.6243*(10**-4)*V + 6.6528*(10**-3)\n",
    "                EFi_NOx = -3.1615*(10**-6)*(V**2) + 2.9809*(10**-4)*V + 1.0117*(10**-2)\n",
    "                if V < 85:\n",
    "                    EFi_PM10 = 0.00030\n",
    "                    EFi_PM2_5 = k * 0.00030\n",
    "                else:\n",
    "                    EFi_PM10 = 0.00075\n",
    "                    EFi_PM2_5 = k * 0.00075\n",
    "            elif car_birth == 2014:\n",
    "                if V <= 65.4:\n",
    "                    EFi_CO = 1.2144 * (V**-0.7728)\n",
    "                else:\n",
    "                    EFi_CO = 6.8992*(10**-5)*(V**2) - 1.0952*(10**-2)*V + 4.9597*(10**-1)\n",
    "                if V <= 65.4:\n",
    "                    EFi_HC = 0.0524 * (V**-1.0484)\n",
    "                else:\n",
    "                    EFi_HC = 1.0930*(10**-6)*(V**2) - 1.5566*(10**-4)*V + 6.3756*(10**-3)\n",
    "                EFi_NOx = -3.0719*(10**-6)*(V**2) + 2.8964*(10**-4)*V + 9.8301*(10**-3)\n",
    "                if V < 85:\n",
    "                    EFi_PM10 = 0.00030\n",
    "                    EFi_PM2_5 = k * 0.00030\n",
    "                else:\n",
    "                    EFi_PM10 = 0.00075\n",
    "                    EFi_PM2_5 = k * 0.00075\n",
    "            elif 2015 <= car_birth:\n",
    "                if V <= 65.4:\n",
    "                    EFi_CO = 1.1739 * (V**-0.7728)\n",
    "                else:\n",
    "                    EFi_CO = 6.6688*(10**-5)*(V**2) - 1.0587*(10**-2)*V + 4.7940*(10**-1)\n",
    "                if V <= 65.4:\n",
    "                    EFi_HC = 0.0501 * (V**-1.0484)\n",
    "                else:\n",
    "                    EFi_HC = 1.0500*(10**-6)*(V**2) - 1.4890*(10**-4)*V + 6.0984*(10**-3)\n",
    "                EFi_NOx = -2.9823*(10**-6)*(V**2) + 2.8119*(10**-4)*V + 9.5434*(10**-3)\n",
    "                if V < 85:\n",
    "                    EFi_PM10 = 0.00030\n",
    "                    EFi_PM2_5 = k * 0.00030\n",
    "                else:\n",
    "                    EFi_PM10 = 0.00075\n",
    "                    EFi_PM2_5 = k * 0.00075\n",
    "        elif ( (car_type == '승합') and (car_size == '경형') ) or ( (car_type == '화물') and (car_size == '경형') ):\n",
    "            if car_birth <= 1996:\n",
    "                if V <= 45:\n",
    "                    EFi_CO = 11.249 * (V**-0.6579)\n",
    "                else:\n",
    "                    EFi_CO = 0.0003 * (V**2) + 0.0002 * V + 0.4136\n",
    "                EFi_HC = 7.6244 * (V**-0.8364)\n",
    "                EFi_NOx = 2.6754 * (V**-0.3236)\n",
    "                if V < 85:\n",
    "                    EFi_PM10 = 0.00030\n",
    "                    EFi_PM2_5 = k * 0.00030\n",
    "                else:\n",
    "                    EFi_PM10 = 0.00075\n",
    "                    EFi_PM2_5 = k * 0.00075\n",
    "            elif 1997 <= car_birth <= 1999:\n",
    "                if V <= 45:\n",
    "                    EFi_CO = 16.965 * (V**-0.8461)\n",
    "                else:\n",
    "                    EFi_CO = -0.0003 * (V**2) + 0.0777 * V - 1.9363\n",
    "                EFi_HC = 3.0285 * (V**-0.7830)\n",
    "                EFi_NOx = 1.9923 * (V**-0.3889)\n",
    "                if V < 85:\n",
    "                    EFi_PM10 = 0.00030\n",
    "                    EFi_PM2_5 = k * 0.00030\n",
    "                else:\n",
    "                    EFi_PM10 = 0.00075\n",
    "                    EFi_PM2_5 = k * 0.00075\n",
    "            elif 2000 <= car_birth <= 2002:\n",
    "                if V <= 45:\n",
    "                    EFi_CO = 9.9433 * (V**-0.8461)\n",
    "                else:\n",
    "                    EFi_CO = -0.0002 * (V**2) + 0.0455 * V - 1.1349\n",
    "                EFi_HC = 1.8928 * (V**-0.7830)\n",
    "                EFi_NOx = 1.2352 * (V**-0.3889)\n",
    "                if V < 85:\n",
    "                    EFi_PM10 = 0.00030\n",
    "                    EFi_PM2_5 = k * 0.00030\n",
    "                else:\n",
    "                    EFi_PM10 = 0.00075\n",
    "                    EFi_PM2_5 = k * 0.00075\n",
    "            elif 2003 <= car_birth <= 2005:\n",
    "                if V <= 45:\n",
    "                    EFi_CO = 9.9433 * (V**-0.8461)\n",
    "                else:\n",
    "                    EFi_CO = -0.0002 * (V**2) + 0.0455 * V - 1.1349\n",
    "                EFi_HC = 0.9227 * (V**-0.7830)\n",
    "                EFi_NOx = 3.8859 * (V**-0.9198)\n",
    "                if V < 85:\n",
    "                    EFi_PM10 = 0.00030\n",
    "                    EFi_PM2_5 = k * 0.00030\n",
    "                else:\n",
    "                    EFi_PM10 = 0.00075\n",
    "                    EFi_PM2_5 = k * 0.00075\n",
    "            elif 2006 <= car_birth:\n",
    "                if V <= 45:\n",
    "                    EFi_CO = 4.4952 * (V**-0.8461)\n",
    "                else:\n",
    "                    EFi_CO = -0.0001 * (V**2) + 0.0229 * V - 0.5701\n",
    "                EFi_HC = 0.2958 * (V**-0.7830)\n",
    "                EFi_NOx = 0.4819 * (V**-0.9198)\n",
    "                if V < 85:\n",
    "                    EFi_PM10 = 0.00030\n",
    "                    EFi_PM2_5 = k * 0.00030\n",
    "                else:\n",
    "                    EFi_PM10 = 0.00075\n",
    "                    EFi_PM2_5 = k * 0.00075\n",
    "        elif (car_type == '승합') and (car_size == '소형'):\n",
    "            if car_birth <= 1990:\n",
    "                EFi_CO = 36.169 * (V**-0.7587)\n",
    "                EFi_HC = 15.607 * (V**-1.0423)\n",
    "                EFi_NOx = 6.2007 * (V**-0.6781)\n",
    "                if V < 85:\n",
    "                    EFi_PM10 = 0.00030\n",
    "                    EFi_PM2_5 = k * 0.00030\n",
    "                else:\n",
    "                    EFi_PM10 = 0.00075\n",
    "                    EFi_PM2_5 = k * 0.00075\n",
    "            elif 1991 <= car_birth <= 1996:\n",
    "                EFi_CO = 39.402 * (V**-0.8879)\n",
    "                EFi_HC = 23.400 * (V**-1.4041)\n",
    "                EFi_NOx = 7.5244 * (V**-0.7634)\n",
    "                if V < 85:\n",
    "                    EFi_PM10 = 0.00030\n",
    "                    EFi_PM2_5 = k * 0.00030\n",
    "                else:\n",
    "                    EFi_PM10 = 0.00075\n",
    "                    EFi_PM2_5 = k * 0.00075\n",
    "            elif 1997 <= car_birth <= 1999:\n",
    "                EFi_CO = 77.088 * (V**-1.2078)\n",
    "                EFi_HC = 18.731 * (V**-1.5356)\n",
    "                EFi_NOx = 4.4260 * (V**-0.7978)\n",
    "                if V < 85:\n",
    "                    EFi_PM10 = 0.00030\n",
    "                    EFi_PM2_5 = k * 0.00030\n",
    "                else:\n",
    "                    EFi_PM10 = 0.00075\n",
    "                    EFi_PM2_5 = k * 0.00075\n",
    "            elif car_birth == 2000:\n",
    "                EFi_CO = 41.669 * (V**-1.2078)\n",
    "                EFi_HC = 14.190 * (V**-1.5356)\n",
    "                EFi_NOx = 3.4578 * (V**-0.7978)\n",
    "                if V < 85:\n",
    "                    EFi_PM10 = 0.00030\n",
    "                    EFi_PM2_5 = k * 0.00030\n",
    "                else:\n",
    "                    EFi_PM10 = 0.00075\n",
    "                    EFi_PM2_5 = k * 0.00075\n",
    "            elif 2001 <= car_birth <= 2002:\n",
    "                EFi_CO = 41.669 * (V**-1.2078)\n",
    "                EFi_HC = 11.920 * (V**-1.5356)\n",
    "                EFi_NOx = 3.0649 * (V**-0.7978)\n",
    "                if V < 85:\n",
    "                    EFi_PM10 = 0.00030\n",
    "                    EFi_PM2_5 = k * 0.00030\n",
    "                else:\n",
    "                    EFi_PM10 = 0.00075\n",
    "                    EFi_PM2_5 = k * 0.00075\n",
    "            elif 2003 <= car_birth <= 2005:\n",
    "                EFi_CO = 37.573 * (V**-1.2078)\n",
    "                EFi_HC = 3.1786 * (V**-1.5356)\n",
    "                EFi_NOx = 1.4931 * (V**-0.7978)\n",
    "                if V < 85:\n",
    "                    EFi_PM10 = 0.00030\n",
    "                    EFi_PM2_5 = k * 0.00030\n",
    "                else:\n",
    "                    EFi_PM10 = 0.00075\n",
    "                    EFi_PM2_5 = k * 0.00075\n",
    "            elif 2006 <= car_birth:\n",
    "                EFi_CO = 32.899 * (V**-1.2078)\n",
    "                EFi_HC = 2.7387 * (V**-1.5356)\n",
    "                EFi_NOx = 1.1808 * (V**-0.7978)\n",
    "                if V < 85:\n",
    "                    EFi_PM10 = 0.00030\n",
    "                    EFi_PM2_5 = k * 0.00030\n",
    "                else:\n",
    "                    EFi_PM10 = 0.00075\n",
    "                    EFi_PM2_5 = k * 0.00075\n",
    "        elif ( (car_type == '승합') and ((car_size == '중형') or (car_size == '대형')) ) or ( (car_type == '화물') and (car_size == '소형') ):\n",
    "            if car_birth <= 1990:\n",
    "                EFi_CO = 36.169 * (V**-0.7587)\n",
    "                EFi_HC = 15.607 * (V**-1.0423)\n",
    "                EFi_NOx = 6.2007 * (V**-0.6781)\n",
    "                if V < 85:\n",
    "                    EFi_PM10 = 0.00030\n",
    "                    EFi_PM2_5 = k * 0.00030\n",
    "                else:\n",
    "                    EFi_PM10 = 0.00075\n",
    "                    EFi_PM2_5 = k * 0.00075\n",
    "            elif 1991 <= car_birth <= 1996:\n",
    "                EFi_CO = 39.402 * (V**-0.8879)\n",
    "                EFi_HC = 23.400 * (V**-1.4041)\n",
    "                EFi_NOx = 7.5244 * (V**-0.7634)\n",
    "                if V < 85:\n",
    "                    EFi_PM10 = 0.00030\n",
    "                    EFi_PM2_5 = k * 0.00030\n",
    "                else:\n",
    "                    EFi_PM10 = 0.00075\n",
    "                    EFi_PM2_5 = k * 0.00075\n",
    "            elif 1997 <= car_birth <= 1999:\n",
    "                EFi_CO = 77.088 * (V**-1.2078)\n",
    "                EFi_HC = 18.731 * (V**-1.5356)\n",
    "                EFi_NOx = 4.4260 * (V**-0.7978)\n",
    "                if V < 85:\n",
    "                    EFi_PM10 = 0.00030\n",
    "                    EFi_PM2_5 = k * 0.00030\n",
    "                else:\n",
    "                    EFi_PM10 = 0.00075\n",
    "                    EFi_PM2_5 = k * 0.00075\n",
    "            elif 2000 <= car_birth <= 2002:\n",
    "                EFi_CO = 41.669 * (V**-1.2078)\n",
    "                EFi_HC = 14.190 * (V**-1.5356)\n",
    "                EFi_NOx = 3.4578 * (V**-0.7978)\n",
    "                if V < 85:\n",
    "                    EFi_PM10 = 0.00030\n",
    "                    EFi_PM2_5 = k * 0.00030\n",
    "                else:\n",
    "                    EFi_PM10 = 0.00075\n",
    "                    EFi_PM2_5 = k * 0.00075\n",
    "            elif 2003 <= car_birth <= 2005:\n",
    "                EFi_CO = 36.578 * (V**-1.2078)\n",
    "                EFi_HC = 3.0337 * (V**-1.5356)\n",
    "                EFi_NOx = 2.0104 * (V**-0.7978)\n",
    "                if V < 85:\n",
    "                    EFi_PM10 = 0.00030\n",
    "                    EFi_PM2_5 = k * 0.00030\n",
    "                else:\n",
    "                    EFi_PM10 = 0.00075\n",
    "                    EFi_PM2_5 = k * 0.00075\n",
    "            elif 2006 <= car_birth:\n",
    "                EFi_CO = 14.202 * (V**-1.2078)\n",
    "                EFi_HC = 1.2233 * (V**-1.5356)\n",
    "                EFi_NOx = 0.2493 * (V**-0.7978)\n",
    "                if V < 85:\n",
    "                    EFi_PM10 = 0.00030\n",
    "                    EFi_PM2_5 = k * 0.00030\n",
    "                else:\n",
    "                    EFi_PM10 = 0.00075\n",
    "                    EFi_PM2_5 = k * 0.00075\n",
    "        elif (car_type == '화물') and ( (car_size == '중형') or (car_size == '대형') ):\n",
    "            if 1993 <= car_birth:\n",
    "                if V <= 65:\n",
    "                    EFi_CO = 70\n",
    "                    EFi_HC = 7\n",
    "                    EFi_NOx = 4.5\n",
    "                else:\n",
    "                    EFi_CO = 55\n",
    "                    EFi_HC = 3.5\n",
    "                    EFi_NOx = 7.5\n",
    "                if V < 85:\n",
    "                    EFi_PM10 = 0.00030\n",
    "                    EFi_PM2_5 = k * 0.00030\n",
    "                else:\n",
    "                    EFi_PM10 = 0.00075\n",
    "                    EFi_PM2_5 = k * 0.00075\n",
    "    elif fuel == '경유':\n",
    "        if (car_type == '승용') and (car_size == '경형'):\n",
    "            if car_birth <= 2005:\n",
    "                EFi_CO = 0.7392 * (V**-0.7524)\n",
    "                EFi_HC = 0.0989 * (V**-0.6848)\n",
    "                EFi_NOx = 24.3491 * (V**-0.7277)\n",
    "                EFi_PM10 = 0.0839 * (V**-0.3420)\n",
    "                EFi_PM2_5 = k * 0.0839 * (V**-0.3420)\n",
    "            elif 2006 <= car_birth <= 2010:\n",
    "                EFi_CO = 0.5775 * (V**-0.7524)\n",
    "                EFi_HC = 0.0825 * (V**-0.6848)\n",
    "                EFi_NOx = 24.3491 * (V**-0.7277)\n",
    "                EFi_PM10 = 0.0420 * (V**-0.3420)\n",
    "                EFi_PM2_5 = k * 0.0420 * (V**-0.3420)\n",
    "            elif 2011 <= car_birth <= 2015:\n",
    "                EFi_CO = 0.5141 * (V**-0.6792)\n",
    "                EFi_HC = 0.3713 * (V**-0.7513)\n",
    "                EFi_NOx = 0.0003 * (V**2) - 0.0324 * V + 1.4773\n",
    "                if V <= 65.4:\n",
    "                    EFi_PM10 = 0.0225 * (V**-0.7264)\n",
    "                    EFi_PM2_5 = k * 0.0225 * (V**-0.7264)\n",
    "                else:\n",
    "                    EFi_PM10 = 0.0009 * (V**-0.0416)\n",
    "                    EFi_PM2_5 = k * 0.0009 * (V**-0.0416)\n",
    "            elif 2016 <= car_birth:\n",
    "                EFi_CO = 0.4574 * (V**-0.5215)\n",
    "                EFi_HC = 0.1300 * (V**-0.7265)\n",
    "                EFi_NOx = 2.7702 * (V**-0.3869)\n",
    "                if V <= 65.4:\n",
    "                    EFi_PM10 = 0.0225 * (V**-0.7264)\n",
    "                    EFi_PM2_5 = k * 0.0225 * (V**-0.7264)\n",
    "                else:\n",
    "                    EFi_PM10 = 0.0009 * (V**-0.0416)\n",
    "                    EFi_PM2_5 = k * 0.0009 * (V**-0.0416)\n",
    "        elif (car_type == '승용') and (car_size == '소형'):\n",
    "            if car_birth <= 2004:\n",
    "                EFi_CO = 5.9672 * (V**-0.9534)\n",
    "                EFi_HC = 0.6523 * (V**-1.0167)\n",
    "                EFi_NOx = 24.3491 * (V**-0.7277)\n",
    "                if V <= 65:\n",
    "                    EFi_PM10 = 0.3861 * (V**-0.5093)\n",
    "                    EFi_PM2_5 = k * 0.3861 * (V**-0.5093)\n",
    "                else:\n",
    "                    EFi_PM10 = -0.00001 * (V**2) + 0.0026 * V - 0.0618\n",
    "                    EFi_PM2_5 = k * -0.00001 * (V**2) + 0.0026 * V - 0.0618\n",
    "            elif car_birth == 2005:\n",
    "                EFi_CO = 0.7392 * (V**-0.7524)\n",
    "                EFi_HC = 0.0989 * (V**-0.6848)\n",
    "                EFi_NOx = 24.3491 * (V**-0.7277)\n",
    "                EFi_PM10 = 0.0839 * (V**-0.3420)\n",
    "                EFi_PM2_5 = k * 0.0839 * (V**-0.3420)\n",
    "            elif 2006 <= car_birth <= 2010:\n",
    "                EFi_CO = 0.5775 * (V**-0.7524)\n",
    "                EFi_HC = 0.0825 * (V**-0.6848)\n",
    "                EFi_NOx = 24.3491 * (V**-0.7277)\n",
    "                EFi_PM10 = 0.0420 * (V**-0.3420)\n",
    "                EFi_PM2_5 = k * 0.0420 * (V**-0.3420)\n",
    "            elif 2011 <= car_birth <= 2015:\n",
    "                EFi_CO = 0.5141 * (V**-0.6792)\n",
    "                EFi_HC = 0.3713 * (V**-0.7513)\n",
    "                EFi_NOx = 0.0003 * (V**2) - 0.0324 * V + 1.4773\n",
    "                if V <= 65.4:\n",
    "                    EFi_PM10 = 0.0225 * (V**-0.7264)\n",
    "                    EFi_PM2_5 = k * 0.0225 * (V**-0.7264)\n",
    "                else:\n",
    "                    EFi_PM10 = 0.0009 * (V**-0.0416)\n",
    "                    EFi_PM2_5 = k * 0.0009 * (V**-0.0416)\n",
    "            elif 2016 <= car_birth:\n",
    "                EFi_CO = 0.4574 * (V**-0.5215)\n",
    "                EFi_HC = 0.1300 * (V**-0.7265)\n",
    "                EFi_NOx = 2.7702 * (V**-0.3869)\n",
    "                if V <= 65.4:\n",
    "                    EFi_PM10 = 0.0225 * (V**-0.7264)\n",
    "                    EFi_PM2_5 = k * 0.0225 * (V**-0.7264)\n",
    "                else:\n",
    "                    EFi_PM10 = 0.0009 * (V**-0.0416)\n",
    "                    EFi_PM2_5 = k * 0.0009 * (V**-0.0416)\n",
    "        elif (car_type == '승용') and (car_size == '중형'):\n",
    "            if car_birth <= 2004:\n",
    "                EFi_CO = 5.9672 * (V**-0.9534)\n",
    "                EFi_HC = 0.6523 * (V**-1.0167)\n",
    "                EFi_NOx = 24.3491 * (V**-0.7277)\n",
    "                if V <= 65:\n",
    "                    EFi_PM10 = 0.3861 * (V**-0.5093)\n",
    "                    EFi_PM2_5 = k * 0.3861 * (V**-0.5093)\n",
    "                else:\n",
    "                    EFi_PM10 = -0.00001 * (V**2) + 0.0026 * V - 0.0618\n",
    "                    EFi_PM2_5 = k * -0.00001 * (V**2) + 0.0026 * V - 0.0618\n",
    "            elif car_birth == 2005:\n",
    "                EFi_CO = 0.6930 * (V**-0.7524)\n",
    "                EFi_HC = 0.1865 * (V**-0.6848)\n",
    "                EFi_NOx = 24.3491 * (V**-0.7277)\n",
    "                EFi_PM10 = 0.0723 * (V**-0.3420)\n",
    "                EFi_PM2_5 = k * 0.0723 * (V**-0.3420)\n",
    "            elif 2006 <= car_birth <= 2010:\n",
    "                EFi_CO = 0.5414 * (V**-0.7524)\n",
    "                EFi_HC = 0.0927 * (V**-0.6848)\n",
    "                EFi_NOx = 24.3491 * (V**-0.7277)\n",
    "                EFi_PM10 = 0.0396 * (V**-0.3420)\n",
    "                EFi_PM2_5 = k * 0.0396 * (V**-0.3420)\n",
    "            elif 2011 <= car_birth <= 2015:\n",
    "                EFi_CO = 0.5141 * (V**-0.6792)\n",
    "                EFi_HC = 0.3713 * (V**-0.7513)\n",
    "                EFi_NOx = 0.0003 * (V**2) - 0.0324 * V + 1.4773\n",
    "                if V <= 65.4:\n",
    "                    EFi_PM10 = 0.0225 * (V**-0.7264)\n",
    "                    EFi_PM2_5 = k * 0.0225 * (V**-0.7264)\n",
    "                else:\n",
    "                    EFi_PM10 = 0.0009 * (V**-0.0416)\n",
    "                    EFi_PM2_5 = k * 0.0009 * (V**-0.0416)\n",
    "            elif 2016 <= car_birth:\n",
    "                EFi_CO = 0.4574 * (V**-0.5215)\n",
    "                EFi_HC = 0.1300 * (V**-0.7265)\n",
    "                EFi_NOx = 2.7702 * (V**-0.3869)\n",
    "                if V <= 65.4:\n",
    "                    EFi_PM10 = 0.0225 * (V**-0.7264)\n",
    "                    EFi_PM2_5 = k * 0.0225 * (V**-0.7264)\n",
    "                else:\n",
    "                    EFi_PM10 = 0.0009 * (V**-0.0416)\n",
    "                    EFi_PM2_5 = k * 0.0009 * (V**-0.0416)\n",
    "        elif (car_type == '승용') and (car_size == '대형'):\n",
    "            if car_birth <= 2004:\n",
    "                EFi_CO = 5.9672 * (V**-0.9534)\n",
    "                EFi_HC = 0.6523 * (V**-1.0167)\n",
    "                EFi_NOx = 24.3491 * (V**-0.7277)\n",
    "                if V <= 65:\n",
    "                    EFi_PM10 = 0.3861 * (V**-0.5093)\n",
    "                    EFi_PM2_5 = k * 0.3861 * (V**-0.5093)\n",
    "                else:\n",
    "                    EFi_PM10 = -0.00001 * (V**2) + 0.0026 * V - 0.0618\n",
    "                    EFi_PM2_5 = k * -0.00001 * (V**2) + 0.0026 * V - 0.0618\n",
    "            elif car_birth == 2005:\n",
    "                EFi_CO = 0.9609 * (V**-0.7524)\n",
    "                EFi_HC = 0.1865 * (V**-0.6848)\n",
    "                EFi_NOx = 24.3491 * (V**-0.7277)\n",
    "                EFi_PM10 = 0.0723 * (V**-0.3420)\n",
    "                EFi_PM2_5 = k * 0.0723 * (V**-0.3420)\n",
    "            elif 2006 <= car_birth <= 2010:\n",
    "                EFi_CO = 0.7507 * (V**-0.7524)\n",
    "                EFi_HC = 0.1554 * (V**-0.6848)\n",
    "                EFi_NOx = 24.3491 * (V**-0.7277)\n",
    "                EFi_PM10 = 0.0361 * (V**-0.3420)\n",
    "                EFi_PM2_5 = k * 0.0361 * (V**-0.3420)\n",
    "            elif 2011 <= car_birth <= 2015:\n",
    "                EFi_CO = 0.5141 * (V**-0.6792)\n",
    "                EFi_HC = 0.3713 * (V**-0.7513)\n",
    "                EFi_NOx = 0.0003 * (V**2) - 0.0324 * V + 1.4773\n",
    "                if V <= 65.4:\n",
    "                    EFi_PM10 = 0.0225 * (V**-0.7264)\n",
    "                    EFi_PM2_5 = k * 0.0225 * (V**-0.7264)\n",
    "                else:\n",
    "                    EFi_PM10 = 0.0009 * (V**-0.0416)\n",
    "                    EFi_PM2_5 = k * 0.0009 * (V**-0.0416)\n",
    "            elif 2016 <= car_birth:\n",
    "                EFi_CO = 0.4574 * (V**-0.5215)\n",
    "                EFi_HC = 0.1300 * (V**-0.7265)\n",
    "                EFi_NOx = 2.7702 * (V**-0.3869)\n",
    "                if V <= 65.4:\n",
    "                    EFi_PM10 = 0.0225 * (V**-0.7264)\n",
    "                    EFi_PM2_5 = k * 0.0225 * (V**-0.7264)\n",
    "                else:\n",
    "                    EFi_PM10 = 0.0009 * (V**-0.0416)\n",
    "                    EFi_PM2_5 = k * 0.0009 * (V**-0.0416)\n",
    "        elif (car_type == '승합') and (car_size == '소형'):\n",
    "            if car_birth <= 1990:\n",
    "                if V <= 65.4:\n",
    "                    EFi_CO = 3.4539 * (V**-0.4266)\n",
    "                else:\n",
    "                    EFi_CO = 0.0051 * V + 0.2212\n",
    "                EFi_HC = 0.9835 * (V**-0.5096)\n",
    "                EFi_NOx = 24.3491 * (V**-0.7277)\n",
    "                EFi_PM10 = 1.1412 * (V**-0.4324)\n",
    "                EFi_PM2_5 = k * 1.1412 * (V**-0.4324)\n",
    "            elif 1991 <= car_birth <= 1995:\n",
    "                if V <= 65.4:\n",
    "                    EFi_CO = 3.4539 * (V**-0.4266)\n",
    "                else:\n",
    "                    EFi_CO = 0.0051 * V + 0.2212\n",
    "                EFi_HC = 1.6313 * (V**-0.7298)\n",
    "                EFi_NOx = 24.3491 * (V**-0.7277)\n",
    "                EFi_PM10 = 0.5999 * (V**-0.3294)\n",
    "                EFi_PM2_5 = k * 0.5999 * (V**-0.3294)\n",
    "            elif 1996 <= car_birth <= 1997:\n",
    "                if V <= 65.4:\n",
    "                    EFi_CO = 3.4539 * (V**-0.4266)\n",
    "                else:\n",
    "                    EFi_CO = 0.0051 * V + 0.2212\n",
    "                EFi_HC = 1.1293 * (V**-0.6588)\n",
    "                EFi_NOx = 24.3491 * (V**-0.7277)\n",
    "                EFi_PM10 = 0.6408 * (V**-0.3596)\n",
    "                EFi_PM2_5 = k * 0.6408 * (V**-0.3596)\n",
    "            elif 1998 <= car_birth <= 1999:\n",
    "                EFi_CO = 3.7564 * (V**-0.5175)\n",
    "                EFi_HC = 1.1293 * (V**-0.6588)\n",
    "                EFi_NOx = 24.3491 * (V**-0.7277)\n",
    "                EFi_PM10 = 0.5168 * (V**-0.3596)\n",
    "                EFi_PM2_5 = k * 0.5168 * (V**-0.3596)\n",
    "            elif 2000 <= car_birth <= 2003:\n",
    "                EFi_CO = 3.7564 * (V**-0.5175)\n",
    "                EFi_HC = 1.1293 * (V**-0.6588)\n",
    "                EFi_NOx = 24.3491 * (V**-0.7277)\n",
    "                EFi_PM10 = 0.2894 * (V**-0.3596)\n",
    "                EFi_PM2_5 = k * 0.2894 * (V**-0.3596)\n",
    "            elif 2004 <= car_birth <= 2007:\n",
    "                EFi_CO = 3.2797 * (V**-0.8887)\n",
    "                EFi_HC = 0.1807 * (V**-0.6588)\n",
    "                EFi_NOx = 24.3491 * (V**-0.7277)\n",
    "                EFi_PM10 = 0.2067 * (V**-0.3596)\n",
    "                EFi_PM2_5 = k * 0.2067 * (V**-0.3596)\n",
    "            elif 2008 <= car_birth <= 2011:\n",
    "                if V <= 65.4:\n",
    "                    EFi_CO = 4.222 * (V**-1.4035)\n",
    "                else:\n",
    "                    EFi_CO = 0.011666 * (V**0.09222)\n",
    "                if V <= 97.3:\n",
    "                    EFi_HC = 0.829 * (V**-1.0961)\n",
    "                EFi_NOx = 24.3491 * (V**-0.7277)\n",
    "                EFi_PM10 = 0.3111 * (V**-0.5125)\n",
    "                EFi_PM2_5 = k * 0.3111 * (V**-0.5125)\n",
    "            elif 2012 <= car_birth:\n",
    "                if V <= 65.4:\n",
    "                    EFi_CO = 4.222 * (V**-1.4035)\n",
    "                else:\n",
    "                    EFi_CO = 0.011666 * (V**0.09222)\n",
    "                if V <= 97.3:\n",
    "                    EFi_HC = 0.829 * (V**-1.0961)\n",
    "                if V <= 65.4:\n",
    "                    EFi_NOx = 2.0217 * (V**-0.2645)\n",
    "                else:\n",
    "                    EFi_NOx = 0.0271 * (V**0.7596)\n",
    "                EFi_PM10 = 0.1119 * (V**-0.5125)\n",
    "                EFi_PM2_5 = k * 0.1119 * (V**-0.5125)\n",
    "        elif (car_type == '승합') and (car_size == '중형'):\n",
    "            if car_birth <= 1995:\n",
    "                EFi_CO = 32.550 * (V**-0.4944)\n",
    "                EFi_HC = 15.753 * (V**-0.5912)\n",
    "                if V < 80:\n",
    "                    EFi_NOx = 40.692 * (V**-0.5590)\n",
    "                else:\n",
    "                    EFi_NOx = -0.0023 * (V**2) + 0.5381 * V - 23.590\n",
    "                EFi_PM10 = 5.4886 * (V**-0.5911)\n",
    "                EFi_PM2_5 = k * 5.4886 * (V**-0.5911)\n",
    "            elif 1996 <= car_birth <= 1997:\n",
    "                EFi_CO = 16.410 * (V**-0.3790)\n",
    "                EFi_HC = 4.2324 * (V**-0.3926)\n",
    "                if V < 80:\n",
    "                    EFi_NOx = 22.804 * (V**-0.4660)\n",
    "                else:\n",
    "                    EFi_NOx = -0.0021 * (V**2) + 0.4430 * V - 18.730\n",
    "                EFi_PM10 = 1.6593 * (V**-0.3935)\n",
    "                EFi_PM2_5 = k * 1.6593 * (V**-0.3935)\n",
    "            elif 1998 <= car_birth <= 2000:\n",
    "                EFi_CO = 16.410 * (V**-0.3790)\n",
    "                EFi_HC = 4.2324 * (V**-0.3926)\n",
    "                if V < 80:\n",
    "                    EFi_NOx = 25.708 * (V**-0.4772)\n",
    "                else:\n",
    "                    EFi_NOx = 0.0019 * (V**2) - 0.2628 * V + 12.145\n",
    "                EFi_PM10 = 1.6593 * (V**-0.3935)\n",
    "                EFi_PM2_5 = k * 1.6593 * (V**-0.3935)\n",
    "            elif 2001 <= car_birth <= 2004:\n",
    "                EFi_CO = 16.378 * (V**-0.5340)\n",
    "                EFi_HC = 5.8477 * (V**-0.5466)\n",
    "                if V < 80:\n",
    "                    EFi_NOx = 25.436 * (V**-0.4656)\n",
    "                else:\n",
    "                    EFi_NOx = 0.0008 * (V**2) - 0.0482 * V + 1.8424\n",
    "                EFi_PM10 = 1.2848 * (V**-0.4715)\n",
    "                EFi_PM2_5 = k * 1.2848 * (V**-0.4715)\n",
    "            elif 2005 <= car_birth <= 2007:\n",
    "                EFi_CO = 15.256 * (V**-0.7448)\n",
    "                EFi_HC = 2.0502 * (V**-0.6504)\n",
    "                EFi_NOx = 15.001 * (V**-0.4528)\n",
    "                EFi_PM10 = 0.2979 * (V**-0.4008)\n",
    "                EFi_PM2_5 = k * 1.0457 * (V**-0.4527)\n",
    "            elif 2008 <= car_birth <= 2010:\n",
    "                EFi_CO = 8.1771 * (V**-0.7725)\n",
    "                EFi_HC = 1.2991 * (V**-0.6538)\n",
    "                if V <= 64.7:\n",
    "                    EFi_NOx = 17.3032 * (V**-0.3660)\n",
    "                    EFi_PM10 = 0.0539 * (V**-0.5182)\n",
    "                    EFi_PM2_5 = k * 0.0539 * (V**-0.5182)\n",
    "                else:\n",
    "                    EFi_NOx = 0.3259 * (V**0.5773)\n",
    "                    EFi_PM10 = 2.0000*(10**-4) * V - 7.5600*(10**-3)\n",
    "                    EFi_PM2_5 = k * 2.0000*(10**-4) * V - 7.5600*(10**-3)\n",
    "            elif 2011 <= car_birth <= 2014:\n",
    "                EFi_CO = 4.5201 * (V**-0.7279)\n",
    "                EFi_HC = 1.6826 * (V**-0.8045)\n",
    "                if V <= 64.7:\n",
    "                    EFi_NOx = 17.2485 * (V**-0.4040)\n",
    "                    EFi_PM10 = 0.0469 * (V**-0.4674)\n",
    "                    EFi_PM2_5 = k * 0.0469 * (V**-0.4674)\n",
    "                else:\n",
    "                    EFi_NOx = 1.1797 * (V**0.2308)\n",
    "                    EFi_PM10 = 1.6800*(10**-4) * V - 5.1600*(10**-3)\n",
    "                    EFi_PM2_5 = k * 1.6800*(10**-4) * V - 5.1600*(10**-3)\n",
    "            elif 2015 <= car_birth:\n",
    "                EFi_CO = 7.4065 * (V**-0.5995)\n",
    "                EFi_HC = 2.4562 * (V**-1.3145)\n",
    "                EFi_NOx = 42.7393 * (V**-1.2949)\n",
    "                if V <= 64.7:\n",
    "                    EFi_PM10 = 0.0081 * (V**-0.5182)\n",
    "                    EFi_PM2_5 = k * 0.0081 * (V**-0.5182)\n",
    "                else:\n",
    "                    EFi_PM10 = 3.0000*(10**-5) * V - 0.0011\n",
    "                    EFi_PM2_5 = k * 3.0000*(10**-5) * V - 0.0011\n",
    "        elif (car_type == '승합') and (car_size == '대형'):\n",
    "            if car_birth <= 1995:\n",
    "                EFi_CO = 28.205 * (V**-0.5337)\n",
    "                EFi_HC = 6.1146 * (V**-0.4979)\n",
    "                EFi_NOx = 41.346 * (V**-0.3645)\n",
    "                EFi_PM10 = 5.2158 * (V**-0.5048)\n",
    "                EFi_PM2_5 = k * 5.2158 * (V**-0.5048)\n",
    "            elif 1996 <= car_birth <= 1997:\n",
    "                EFi_CO = 23.205 * (V**-0.5425)\n",
    "                EFi_HC = 6.5657 * (V**-0.5431)\n",
    "                EFi_NOx = 42.1379 * (V**-0.3786)\n",
    "                EFi_PM10 = 2.4911 * (V**-0.4149)\n",
    "                EFi_PM2_5 = k * 2.4911 * (V**-0.4149)\n",
    "            elif 1998 <= car_birth <= 2000:\n",
    "                EFi_CO = 23.205 * (V**-0.5425)\n",
    "                EFi_HC = 6.5657 * (V**-0.5431)\n",
    "                EFi_NOx = 42.1379 * (V**-0.3786)\n",
    "                EFi_PM10 = 1.4432 * (V**-0.3870)\n",
    "                EFi_PM2_5 = k * 1.4432 * (V**-0.3870)\n",
    "            elif car_birth == 2001:\n",
    "                EFi_CO = 21.348 * (V**-0.5806)\n",
    "                EFi_HC = 6.6390 * (V**-0.5760)\n",
    "                EFi_NOx = 36.7191 * (V**-0.3548)\n",
    "                EFi_PM10 = 0.9375 * (V**-0.3910)\n",
    "                EFi_PM2_5 = k * 0.9375 * (V**-0.3910)\n",
    "            elif 2002 <= car_birth <= 2004:\n",
    "                EFi_CO = 21.348 * (V**-0.5806)\n",
    "                EFi_HC = 6.6390 * (V**-0.5760)\n",
    "                EFi_NOx = 36.7191 * (V**-0.3548)\n",
    "                EFi_PM10 = 1.1507 * (V**-0.4804)\n",
    "                EFi_PM2_5 = k * 1.1507 * (V**-0.4804)\n",
    "            elif 2005 <= car_birth <= 2007:\n",
    "                EFi_CO = 9.6452 * (V**-0.5291)\n",
    "                EFi_HC = 3.2339 * (V**-0.7436)\n",
    "                EFi_NOx = 30.5870 * (V**-0.3548)\n",
    "                if V <= 80:\n",
    "                    EFi_PM10 = 0.4657 * (V**-0.5634)\n",
    "                    EFi_PM2_5 = k * 0.4657 * (V**-0.5634)\n",
    "                else:\n",
    "                    EFi_PM10 = 0.0014 * (V**0.7970)\n",
    "                    EFi_PM2_5 = k * 0.0014 * (V**0.7970)\n",
    "            elif 2008 <= car_birth <= 2010:\n",
    "                EFi_CO = 6.8493 * (V**-0.6506)\n",
    "                EFi_HC = 1.7177 * (V**-0.6781)\n",
    "                EFi_NOx = 40.7564 * (V**-0.4757)\n",
    "                EFi_PM10 = 0.2418 * (V**-0.4727)\n",
    "                EFi_PM2_5 = k * 0.2418 * (V**-0.4727)\n",
    "            elif 2011 <= car_birth <= 2014:\n",
    "                EFi_CO = 5.4607 * (V**-0.2990)\n",
    "                EFi_HC = 0.8863 * (V**-0.6933)\n",
    "                EFi_NOx = 40.3729 * (V**-0.5386)\n",
    "                EFi_PM10 = 0.2125 * (V**-0.4650)\n",
    "                EFi_PM2_5 = k * 0.2125 * (V**-0.4650)\n",
    "            elif 2015 <= car_birth:\n",
    "                EFi_CO = 11.4415 * (V**-0.8036)\n",
    "                EFi_HC = 0.6774 * (V**-0.8321)\n",
    "                EFi_NOx = 112.1229 * (V**-1.6393)\n",
    "                EFi_PM10 = 0.0363 * (V**-0.4727)\n",
    "                EFi_PM2_5 = k * 0.0363 * (V**-0.4727)\n",
    "        elif (car_type == '화물') and (car_size == '소형'):\n",
    "            if car_birth <= 1990:\n",
    "                EFi_CO = 4.5854 * (V**-0.3613)\n",
    "                EFi_HC = 0.4840 * (V**-0.2756)\n",
    "                EFi_NOx = 24.3491 * (V**-0.7277)\n",
    "                EFi_PM10 = 0.8117 * (V**-0.4071)\n",
    "                EFi_PM2_5 = k * 0.8117 * (V**-0.4071)\n",
    "            elif 1991 <= car_birth <= 1995:\n",
    "                EFi_CO = 3.4774 * (V**-0.3483)\n",
    "                EFi_HC = 0.4844 * (V**-0.3288)\n",
    "                EFi_NOx = 24.3491 * (V**-0.7277)\n",
    "                EFi_PM10 = 0.6188 * (V**-0.4540)\n",
    "                EFi_PM2_5 = k * 0.6188 * (V**-0.4540)\n",
    "            elif 1996 <= car_birth <= 1997:\n",
    "                EFi_CO = 3.3934 * (V**-0.3837)\n",
    "                EFi_HC = 0.4955 * (V**-0.3393)\n",
    "                EFi_NOx = 24.3491 * (V**-0.7277)\n",
    "                EFi_PM10 = 0.7037 * (V**-0.5357)\n",
    "                EFi_PM2_5 = k * 0.7037 * (V**-0.5357)\n",
    "            elif 1998 <= car_birth <= 1999:\n",
    "                EFi_CO = 4.0896 * (V**-0.6083)\n",
    "                EFi_HC = 0.6122 * (V**-0.5684)\n",
    "                EFi_NOx = 24.3491 * (V**-0.7277)\n",
    "                EFi_PM10 = 0.6157 * (V**-0.5357)\n",
    "                EFi_PM2_5 = k * 0.6157 * (V**-0.5357)\n",
    "            elif 2000 <= car_birth <= 2003:\n",
    "                EFi_CO = 4.0896 * (V**-0.6083)\n",
    "                EFi_HC = 0.6122 * (V**-0.5684)\n",
    "                EFi_NOx = 24.3491 * (V**-0.7277)\n",
    "                EFi_PM10 = 0.4838 * (V**-0.5357)\n",
    "                EFi_PM2_5 = k * 0.4838 * (V**-0.5357)\n",
    "            elif 2004 <= car_birth <= 2007:\n",
    "                EFi_CO = 3.2797 * (V**-0.8887)\n",
    "                EFi_HC = 0.1807 * (V**-0.6588)\n",
    "                EFi_NOx = 24.3491 * (V**-0.7277)\n",
    "                EFi_PM10 = 0.2067 * (V**-0.3596)\n",
    "                EFi_PM2_5 = k * 0.2067 * (V**-0.3596)\n",
    "            elif 2008 <= car_birth <= 2011:\n",
    "                if V <= 65.4:\n",
    "                    EFi_CO = 4.222 * (V**-1.4035)\n",
    "                else:\n",
    "                    EFi_CO = 0.01166 * (V**0.09222)\n",
    "                if V <= 97.3:\n",
    "                    EFi_HC = 0.829 * (V**-1.0961)\n",
    "                EFi_NOx = 24.3491 * (V**-0.7277)\n",
    "                EFi_PM10 = 0.3111 * (V**-0.5125)\n",
    "                EFi_PM2_5 = k * 0.3111 * (V**-0.5125)\n",
    "            elif 2012 <= car_birth <= 2016:\n",
    "                if V <= 65.4:\n",
    "                    EFi_CO = 4.222 * (V**-1.4035)\n",
    "                    EFi_NOx = 2.0217 * (V**-0.2645)\n",
    "                else:\n",
    "                    EFi_CO = 0.01166 * (V**0.09222)\n",
    "                    EFi_NOx = 0.0271 * (V**0.7596)\n",
    "                if V <= 97.3:\n",
    "                    EFi_HC = 0.829 * (V**-1.0961)\n",
    "                EFi_PM10 = 0.1119 * (V**-0.5125)\n",
    "                EFi_PM2_5 = k * 0.1119 * (V**-0.5125)\n",
    "        elif ( (car_type == '화물') and (car_size == '중형') ) | (car_type == '특수'):\n",
    "            if car_birth <= 1995:\n",
    "                EFi_CO = 16.769 * (V**-0.3772)\n",
    "                EFi_HC = 6.7755 * (V**-0.5003)\n",
    "                EFi_NOx = 24.915 * (V**-0.3942)\n",
    "                EFi_PM10 = 3.6772 * (V**-0.5514)\n",
    "                EFi_PM2_5 = k * 3.6772 * (V**-0.5514)\n",
    "            elif 1996 <= car_birth <= 2000:\n",
    "                EFi_CO = 21.057 * (V**-0.4958)\n",
    "                EFi_HC = 6.7532 * (V**-0.5711)\n",
    "                EFi_NOx = 25.022 * (V**-0.4240)\n",
    "                EFi_PM10 = 3.5285 * (V**-0.5962)\n",
    "                EFi_PM2_5 = k * 3.5285 * (V**-0.5962)\n",
    "            elif car_birth == 2001:\n",
    "                EFi_CO = 25.501 * (V**-0.6100)\n",
    "                EFi_HC = 6.8738 * (V**-0.5913)\n",
    "                if V <= 64.7:\n",
    "                    EFi_NOx = 17.3032 * (V**-0.3660)\n",
    "                else:\n",
    "                    EFi_NOx = 0.3259 * (V**0.5773)\n",
    "                EFi_PM10 = 1.4444 * (V**-0.4824)\n",
    "                EFi_PM2_5 = k * 1.4444 * (V**-0.4824)\n",
    "            elif 2002 <= car_birth <= 2004:\n",
    "                EFi_CO = 25.501 * (V**-0.6100)\n",
    "                EFi_HC = 6.8738 * (V**-0.5913)\n",
    "                if V <= 64.7:\n",
    "                    EFi_NOx = 17.3032 * (V**-0.3660)\n",
    "                else:\n",
    "                    EFi_NOx = 0.3259 * (V**0.5773)\n",
    "                EFi_PM10 = 1.0432 * (V**-0.4992)\n",
    "                EFi_PM2_5 = k * 1.0432 * (V**-0.4992)\n",
    "            elif 2005 <= car_birth <= 2007:\n",
    "                EFi_CO = 15.256 * (V**-0.7448)\n",
    "                EFi_HC = 2.0502 * (V**-0.6504)\n",
    "                if V <= 64.7:\n",
    "                    EFi_NOx = 17.3032 * (V**-0.3660)\n",
    "                else:\n",
    "                    EFi_NOx = 0.3259 * (V**0.5773)\n",
    "                EFi_PM10 = 0.2979 * (V**-0.4008)\n",
    "                EFi_PM2_5 = k * 0.2979 * (V**-0.4008)\n",
    "            elif 2008 <= car_birth <= 2010:\n",
    "                EFi_CO = 8.1771 * (V**-0.7725)\n",
    "                EFi_HC = 1.2991 * (V**-0.6538)\n",
    "                if V <= 64.7:\n",
    "                    EFi_NOx = 17.3032 * (V**-0.3660)\n",
    "                    EFi_PM10 = 0.0539 * (V**-0.5182)\n",
    "                    EFi_PM2_5 = k * 0.0539 * (V**-0.5182)\n",
    "                else:\n",
    "                    EFi_NOx = 0.3259 * (V**0.5773)\n",
    "                    EFi_PM10 = 0.0002 * V - 0.00756\n",
    "                    EFi_PM2_5 = k * 0.0002 * V - 0.00756\n",
    "            elif 2011 <= car_birth <= 2014:\n",
    "                EFi_CO = 4.5201 * (V**-0.7279)\n",
    "                EFi_HC = 1.6826 * (V**-0.8045)\n",
    "                if V <= 64.7:\n",
    "                    EFi_NOx = 17.2485 * (V**-0.4040)\n",
    "                    EFi_PM10 = 0.0469 * (V**-0.4674)\n",
    "                    EFi_PM2_5 = k * 0.0469 * (V**-0.4674)\n",
    "                else:\n",
    "                    EFi_NOx = 1.1797 * (V**0.2308)\n",
    "                    EFi_PM10 = 0.000168 * V - 0.00516\n",
    "                    EFi_PM2_5 = k * 0.000168 * V - 0.00516\n",
    "            elif 2015 <= car_birth:\n",
    "                EFi_CO = 7.4065 * (V**-0.5995)\n",
    "                EFi_HC = 2.4562 * (V**-1.3145)\n",
    "                EFi_NOx = 42.7393 * (V**-1.2949)\n",
    "                if V <= 64.7:\n",
    "                    EFi_PM10 = 0.0081 * (V**-0.5182)\n",
    "                    EFi_PM2_5 = k * 0.0081 * (V**-0.5182)\n",
    "                else:\n",
    "                    EFi_PM10 = 3.0000 * (10**-5) * V - 0.0011\n",
    "                    EFi_PM2_5 = k * 3.0000 * (10**-5) * V - 0.0011\n",
    "        elif (car_type == '화물') and (car_size == '대형'):\n",
    "            if car_birth <= 1995:\n",
    "                EFi_CO = 30.402 * (V**-0.4685)\n",
    "                EFi_HC = 15.75 * (V**-0.582)\n",
    "                EFi_NOx = 117.49 * (V**-0.365)\n",
    "                EFi_PM10 = 7.6212 * (V**-0.4183)\n",
    "                EFi_PM2_5 = k * 7.6212 * (V**-0.4183)\n",
    "            elif 1996 <= car_birth <= 1997:\n",
    "                EFi_CO = 18.101 * (V**-0.3454)\n",
    "                EFi_HC = 10.301 * (V**-0.5856)\n",
    "                EFi_NOx = 94.319 * (V**-0.4061)\n",
    "                EFi_PM10 = 6.0264 * (V**-0.4627)\n",
    "                EFi_PM2_5 = k * 6.0264 * (V**-0.4627)\n",
    "            elif 1998 <= car_birth <= 2000:\n",
    "                EFi_CO = 18.101 * (V**-0.3454)\n",
    "                EFi_HC = 10.301 * (V**-0.5856)\n",
    "                EFi_NOx = 94.319 * (V**-0.4061)\n",
    "                EFi_PM10 = 4.873 * (V**-0.4382)\n",
    "                EFi_PM2_5 = k * 4.873 * (V**-0.4382)\n",
    "            elif 2001 <= car_birth <= 2004:\n",
    "                EFi_CO = 28.399 * (V**-0.5999)\n",
    "                EFi_HC = 10.031 * (V**-0.5828)\n",
    "                EFi_NOx = 85.301 * (V**-0.4023)\n",
    "                EFi_PM10 = 3.7541 * (V**-0.4055)\n",
    "                EFi_PM2_5 = k * 3.7541 * (V**-0.4055)\n",
    "            elif 2005 <= car_birth <= 2007:\n",
    "                EFi_CO = 52.136 * (V**-0.8618)\n",
    "                EFi_HC = 3.7878 * (V**-0.5425)\n",
    "                EFi_NOx = 107.5 * (V**-0.5679)\n",
    "                EFi_PM10 = 2.6847 * (V**-0.6112)\n",
    "                EFi_PM2_5 = k * 2.6847 * (V**-0.6112)\n",
    "            elif 2008 <= car_birth <= 2010:\n",
    "                EFi_CO = 6.8493 * (V**-0.6506)\n",
    "                EFi_HC = 1.7177 * (V**-0.6781)\n",
    "                EFi_NOx = 40.7564 * (V**-0.4757)\n",
    "                EFi_PM10 = 0.2418 * (V**-0.4727)\n",
    "                EFi_PM2_5 = k * 0.2418 * (V**-0.4727)\n",
    "            elif 2011 <= car_birth <= 2014:\n",
    "                EFi_CO = 5.4607 * (V**-0.2990)\n",
    "                EFi_HC = 0.8863 * (V**-0.6933)\n",
    "                EFi_NOx = 40.3729 * (V**-0.5386)\n",
    "                EFi_PM10 = 0.2125 * (V**-0.4650)\n",
    "                EFi_PM2_5 = k * 0.2125 * (V**-0.4650)\n",
    "            elif 2015 <= car_birth:\n",
    "                EFi_CO = 4.3762 * (V**-0.4550)\n",
    "                EFi_HC = 0.3627 * (V**-0.7071)\n",
    "                EFi_NOx = 18.0405 * (V**-1.0986)\n",
    "                EFi_PM10 = 0.0363 * (V**-0.4727)\n",
    "                EFi_PM2_5 = k * 0.0363 * (V**-0.4727)\n",
    "    elif fuel == 'LPG(액화석유가스)':\n",
    "        if (car_type == '승용') and (car_size == '경형'):\n",
    "            if car_birth <= 1996:\n",
    "                if V <= 45:\n",
    "                    EFi_CO = 22.498 * (V**-0.6579)\n",
    "                else:\n",
    "                    EFi_CO = 0.0006 * (V**2) + 0.0004 * V + 0.8272\n",
    "                EFi_HC = 12.961 * (V**-0.8364)\n",
    "                EFi_NOx = 4.0131 * (V**-0.3236)\n",
    "                if V < 85:\n",
    "                    EFi_PM10 = 0.0002\n",
    "                    EFi_PM2_5 = k * 0.0002\n",
    "                else:\n",
    "                    EFi_PM10 = 0.0005\n",
    "                    EFi_PM2_5 = k * 0.0005\n",
    "            elif 1997 <= car_birth <= 1999:\n",
    "                if V <= 45:\n",
    "                    EFi_CO = 19.887 * (V**-0.8461)\n",
    "                else:\n",
    "                    EFi_CO = -0.0004 * (V**2) + 0.0911 * V - 2.2698\n",
    "                EFi_HC = 2.2714 * (V**-0.7830)\n",
    "                EFi_NOx = 1.8528 * (V**-0.3889)\n",
    "                if V < 85:\n",
    "                    EFi_PM10 = 0.0002\n",
    "                    EFi_PM2_5 = k * 0.0002\n",
    "                else:\n",
    "                    EFi_PM10 = 0.0005\n",
    "                    EFi_PM2_5 = k * 0.0005\n",
    "            elif 2000 <= car_birth <= 2002:\n",
    "                if V <= 45:\n",
    "                    EFi_CO = 19.887 * (V**-0.8461)\n",
    "                else:\n",
    "                    EFi_CO = -0.0004 * (V**2) + 0.0911 * V - 2.2698\n",
    "                EFi_HC = 2.2714 * (V**-0.7830)\n",
    "                EFi_NOx = 5.8289 * (V**-0.9198)\n",
    "                if V < 85:\n",
    "                    EFi_PM10 = 0.0002\n",
    "                    EFi_PM2_5 = k * 0.0002\n",
    "                else:\n",
    "                    EFi_PM10 = 0.0005\n",
    "                    EFi_PM2_5 = k * 0.0005\n",
    "            elif 2003 <= car_birth <= 2005:\n",
    "                if V <= 45:\n",
    "                    EFi_CO = 19.887 * (V**-0.8461)\n",
    "                else:\n",
    "                    EFi_CO = -0.0004 * (V**2) + 0.0911 * V - 2.2698\n",
    "                EFi_HC = 1.1073 * (V**-0.7830)\n",
    "                EFi_NOx = 5.8289 * (V**-0.9198)\n",
    "                if V < 85:\n",
    "                    EFi_PM10 = 0.0002\n",
    "                    EFi_PM2_5 = k * 0.0002\n",
    "                else:\n",
    "                    EFi_PM10 = 0.0005\n",
    "                    EFi_PM2_5 = k * 0.0005\n",
    "            elif 2006 <= car_birth <= 2007:\n",
    "                if V <= 45:\n",
    "                    EFi_CO = 8.9904 * (V**-0.8461)\n",
    "                else:\n",
    "                    EFi_CO = -0.0002 * (V**2) + 0.0457 * V - 1.1403\n",
    "                EFi_HC = 0.3549 * (V**-0.7830)\n",
    "                EFi_NOx = 0.7228 * (V**-0.9198)\n",
    "                if V < 85:\n",
    "                    EFi_PM10 = 0.0002\n",
    "                    EFi_PM2_5 = k * 0.0002\n",
    "                else:\n",
    "                    EFi_PM10 = 0.0005\n",
    "                    EFi_PM2_5 = k * 0.0005\n",
    "            elif car_birth == 2008:\n",
    "                if V <= 79.6:\n",
    "                    EFi_CO = 0.7693 * (V**-0.7666)\n",
    "                    EFi_HC = 0.1063 * (V**-1.0745)\n",
    "                else:\n",
    "                    EFi_CO = 5.0000 * (10**-16) * (V**7.2766)\n",
    "                    EFi_HC = 1.0000 * (10**-15) * (V**6.2696)\n",
    "                EFi_NOx = -4.0000 * (10**-6) * (V**2) + 6.0000 * (10**-4) * V + 5.5000 * (10**-3)\n",
    "                if V < 85:\n",
    "                    EFi_PM10 = 0.0002\n",
    "                    EFi_PM2_5 = k * 0.0002\n",
    "                else:\n",
    "                    EFi_PM10 = 0.0005\n",
    "                    EFi_PM2_5 = k * 0.0005\n",
    "            elif 2009 <= car_birth <= 2011:\n",
    "                if V <= 79.6:\n",
    "                    EFi_CO = 0.7059 * (V**-0.7666)\n",
    "                    EFi_HC = 0.0974 * (V**-1.0745)\n",
    "                else:\n",
    "                    EFi_CO = 4.5878 * (10**-16) * (V**7.2766)\n",
    "                    EFi_HC = 9.1667 * (10**-16) * (V**6.2696)\n",
    "                EFi_NOx = -3.7333 * (10**-6) * (V**2) + 5.6000 * (10**-4) * V + 5.1333 * (10**-3)\n",
    "                if V < 85:\n",
    "                    EFi_PM10 = 0.0002\n",
    "                    EFi_PM2_5 = k * 0.0002\n",
    "                else:\n",
    "                    EFi_PM10 = 0.0005\n",
    "                    EFi_PM2_5 = k * 0.0005\n",
    "            elif 2012 <= car_birth <= 2013:\n",
    "                if V <= 79.6:\n",
    "                    EFi_CO = 0.6830 * (V**-0.7666)\n",
    "                    EFi_HC = 0.0943 * (V**-1.0745)\n",
    "                else:\n",
    "                    EFi_CO = 4.4393 * (10**-16) * (V**7.2766)\n",
    "                    EFi_HC = 8.8667 * (10**-16) * (V**6.2696)\n",
    "                EFi_NOx = -3.6373 * (10**-6) * (V**2) + 5.4560 * (10**-4) * V + 5.0013 * (10**-3)\n",
    "                if V < 85:\n",
    "                    EFi_PM10 = 0.0002\n",
    "                    EFi_PM2_5 = k * 0.0002\n",
    "                else:\n",
    "                    EFi_PM10 = 0.0005\n",
    "                    EFi_PM2_5 = k * 0.0005\n",
    "            elif car_birth == 2014:\n",
    "                if V <= 79.6:\n",
    "                    EFi_CO = 0.6602 * (V**-0.7666)\n",
    "                    EFi_HC = 0.0911 * (V**-1.0745)\n",
    "                else:\n",
    "                    EFi_CO = 4.2909 * (10**-16) * (V**7.2766)\n",
    "                    EFi_HC = 8.5667 * (10**-16) * (V**6.2696)\n",
    "                EFi_NOx = -3.5413 * (10**-6) * (V**2) + 5.3120 * (10**-4) * V + 4.8693 * (10**-3)\n",
    "                if V < 85:\n",
    "                    EFi_PM10 = 0.0002\n",
    "                    EFi_PM2_5 = k * 0.0002\n",
    "                else:\n",
    "                    EFi_PM10 = 0.0005\n",
    "                    EFi_PM2_5 = k * 0.0005\n",
    "            elif 2015 <= car_birth:\n",
    "                if V <= 79.6:\n",
    "                    EFi_CO = 0.6374 * (V**-0.7666)\n",
    "                    EFi_HC = 0.0879 * (V**-1.0745)\n",
    "                else:\n",
    "                    EFi_CO = 4.1425 * (10**-16) * (V**7.2766)\n",
    "                    EFi_HC = 8.2667 * (10**-16) * (V**6.2696)\n",
    "                EFi_NOx = -3.4453 * (10**-6) * (V**2) + 5.1680 * (10**-4) * V + 4.7373 * (10**-3)\n",
    "                if V < 85:\n",
    "                    EFi_PM10 = 0.0002\n",
    "                    EFi_PM2_5 = k * 0.0002\n",
    "                else:\n",
    "                    EFi_PM10 = 0.0005\n",
    "                    EFi_PM2_5 = k * 0.0005\n",
    "        elif (car_type == '승용') and (car_size == '소형'):\n",
    "            if car_birth <= 1990:\n",
    "                EFi_CO = 72.338 * (V**-0.7587)\n",
    "                EFi_HC = 26.532 * (V**-1.0423)\n",
    "                EFi_NOx = 9.3011 * (V**-0.6781)\n",
    "                if V < 85:\n",
    "                    EFi_PM10 = 0.0002\n",
    "                    EFi_PM2_5 = k * 0.0002\n",
    "                else:\n",
    "                    EFi_PM10 = 0.0005\n",
    "                    EFi_PM2_5 = k * 0.0005\n",
    "            elif 1991 <= car_birth == 1996:\n",
    "                EFi_CO = 72.338 * (V**-0.7587)\n",
    "                EFi_HC = 101.79 * (V**-1.6823)\n",
    "                EFi_NOx = 11.287 * (V**-0.7634)\n",
    "                if V < 85:\n",
    "                    EFi_PM10 = 0.0002\n",
    "                    EFi_PM2_5 = k * 0.0002\n",
    "                else:\n",
    "                    EFi_PM10 = 0.0005\n",
    "                    EFi_PM2_5 = k * 0.0005\n",
    "            elif 1997 <= car_birth <= 1999:\n",
    "                EFi_CO = 44.956 * (V**-1.0085)\n",
    "                EFi_HC = 11.173 * (V**-1.3927)\n",
    "                EFi_NOx = 7.5371 * (V**-0.7864)\n",
    "                if V < 85:\n",
    "                    EFi_PM10 = 0.0002\n",
    "                    EFi_PM2_5 = k * 0.0002\n",
    "                else:\n",
    "                    EFi_PM10 = 0.0005\n",
    "                    EFi_PM2_5 = k * 0.0005\n",
    "            elif 2000 <= car_birth <= 2002:\n",
    "                EFi_CO = 44.956 * (V**-1.0085)\n",
    "                EFi_HC = 11.173 * (V**-1.3927)\n",
    "                EFi_NOx = 4.7108 * (V**-0.7864)\n",
    "                if V < 85:\n",
    "                    EFi_PM10 = 0.0002\n",
    "                    EFi_PM2_5 = k * 0.0002\n",
    "                else:\n",
    "                    EFi_PM10 = 0.0005\n",
    "                    EFi_PM2_5 = k * 0.0005\n",
    "            elif 2003 <= car_birth <= 2005:\n",
    "                EFi_CO = 44.956 * (V**-1.0085)\n",
    "                EFi_HC = 3.2821 * (V**-1.3927)\n",
    "                EFi_NOx = 4.7108 * (V**-0.7864)\n",
    "                if V < 85:\n",
    "                    EFi_PM10 = 0.0002\n",
    "                    EFi_PM2_5 = k * 0.0002\n",
    "                else:\n",
    "                    EFi_PM10 = 0.0005\n",
    "                    EFi_PM2_5 = k * 0.0005\n",
    "            elif 2006 <= car_birth <= 2007:\n",
    "                EFi_CO = 39.362 * (V**-1.0085)\n",
    "                EFi_HC = 2.8981 * (V**-1.3927)\n",
    "                EFi_NOx = 1.8419 * (V**-0.7864)\n",
    "                if V < 85:\n",
    "                    EFi_PM10 = 0.0002\n",
    "                    EFi_PM2_5 = k * 0.0002\n",
    "                else:\n",
    "                    EFi_PM10 = 0.0005\n",
    "                    EFi_PM2_5 = k * 0.0005\n",
    "            elif car_birth == 2008:\n",
    "                if V <= 79.6:\n",
    "                    EFi_CO = 0.7693 * (V**-0.7666)\n",
    "                    EFi_HC = 0.1063 * (V**-1.0745)\n",
    "                else:\n",
    "                    EFi_CO = 5.0000 * (10**-16) * (V**7.2766)\n",
    "                    EFi_HC = 1.0000 * (10**-15) * (V**6.2696)\n",
    "                EFi_NOx = -4.0000 * (10**-6) * (V**2) + 6.0000 * (10**-4) * V + 5.5000 * (10**-3)\n",
    "                if V < 85:\n",
    "                    EFi_PM10 = 0.0002\n",
    "                    EFi_PM2_5 = k * 0.0002\n",
    "                else:\n",
    "                    EFi_PM10 = 0.0005\n",
    "                    EFi_PM2_5 = k * 0.0005\n",
    "            elif 2009 <= car_birth <= 2011:\n",
    "                if V <= 79.6:\n",
    "                    EFi_CO = 0.7059 * (V**-0.7666)\n",
    "                    EFi_HC = 0.0974 * (V**-1.0745)\n",
    "                else:\n",
    "                    EFi_CO = 4.5878 * (10**-16) * (V**7.2766)\n",
    "                    EFi_HC = 9.1667 * (10**-16) * (V**6.2696)\n",
    "                EFi_NOx = -3.7333 * (10**-6) * (V**2) + 5.6000 * (10**-4) * V + 5.1333 * (10**-3)\n",
    "                if V < 85:\n",
    "                    EFi_PM10 = 0.0002\n",
    "                    EFi_PM2_5 = k * 0.0002\n",
    "                else:\n",
    "                    EFi_PM10 = 0.0005\n",
    "                    EFi_PM2_5 = k * 0.0005\n",
    "            elif 2012 <= car_birth <= 2013:\n",
    "                if V <= 79.6:\n",
    "                    EFi_CO = 0.6830 * (V**-0.7666)\n",
    "                    EFi_HC = 0.0943 * (V**-1.0745)\n",
    "                else:\n",
    "                    EFi_CO = 4.4393 * (10**-16) * (V**7.2766)\n",
    "                    EFi_HC = 8.8667 * (10**-16) * (V**6.2696)\n",
    "                EFi_NOx = -3.6373 * (10**-6) * (V**2) + 5.4560 * (10**-4) * V + 5.0013 * (10**-3)\n",
    "                if V < 85:\n",
    "                    EFi_PM10 = 0.0002\n",
    "                    EFi_PM2_5 = k * 0.0002\n",
    "                else:\n",
    "                    EFi_PM10 = 0.0005\n",
    "                    EFi_PM2_5 = k * 0.0005\n",
    "            elif car_birth == 2014:\n",
    "                if V <= 79.6:\n",
    "                    EFi_CO = 0.6602 * (V**-0.7666)\n",
    "                    EFi_HC = 0.0911 * (V**-1.0745)\n",
    "                else:\n",
    "                    EFi_CO = 4.2909 * (10**-16) * (V**7.2766)\n",
    "                    EFi_HC = 8.5667 * (10**-16) * (V**6.2696)\n",
    "                EFi_NOx = -3.5413 * (10**-6) * (V**2) + 5.3120 * (10**-4) * V + 4.8693 * (10**-3)\n",
    "                if V < 85:\n",
    "                    EFi_PM10 = 0.0002\n",
    "                    EFi_PM2_5 = k * 0.0002\n",
    "                else:\n",
    "                    EFi_PM10 = 0.0005\n",
    "                    EFi_PM2_5 = k * 0.0005\n",
    "            elif 2015 <= car_birth:\n",
    "                if V <= 79.6:\n",
    "                    EFi_CO = 0.6374 * (V**-0.7666)\n",
    "                    EFi_HC = 0.0879 * (V**-1.0745)\n",
    "                else:\n",
    "                    EFi_CO = 4.1425 * (10**-16) * (V**7.2766)\n",
    "                    EFi_HC = 8.2667 * (10**-16) * (V**6.2696)\n",
    "                EFi_NOx = -3.4453 * (10**-6) * (V**2) + 5.1680 * (10**-4) * V + 4.7373 * (10**-3)\n",
    "                if V < 85:\n",
    "                    EFi_PM10 = 0.0002\n",
    "                    EFi_PM2_5 = k * 0.0002\n",
    "                else:\n",
    "                    EFi_PM10 = 0.0005\n",
    "                    EFi_PM2_5 = k * 0.0005\n",
    "        elif ( (car_type == '승용') and ( (car_size == '중형') or (car_size == '대형') ) or ( (car_type == '특수') and (car_size == '중형') ) ): # 최 확인(2023.04.20) : 특수 중형 -> 승용 중형 조건으로 계산\n",
    "            if car_birth <= 1990:\n",
    "                EFi_CO = 72.338 * (V**-0.7587)\n",
    "                EFi_HC = 26.532 * (V**-1.0423)\n",
    "                EFi_NOx = 9.3011 * (V**-0.6781)\n",
    "                if V < 85:\n",
    "                    EFi_PM10 = 0.0002\n",
    "                    EFi_PM2_5 = k * 0.0002\n",
    "                else:\n",
    "                    EFi_PM10 = 0.0005\n",
    "                    EFi_PM2_5 = k * 0.0005\n",
    "            elif 1991 <= car_birth == 1996:\n",
    "                EFi_CO = 29.825 * (V**-0.6771)\n",
    "                EFi_HC = 26.520 * (V**-1.4041)\n",
    "                EFi_NOx = 11.287 * (V**-0.7634)\n",
    "                if V < 85:\n",
    "                    EFi_PM10 = 0.0002\n",
    "                    EFi_PM2_5 = k * 0.0002\n",
    "                else:\n",
    "                    EFi_PM10 = 0.0005\n",
    "                    EFi_PM2_5 = k * 0.0005\n",
    "            elif 1997 <= car_birth <= 1999:\n",
    "                EFi_CO = 29.825 * (V**-0.6771)\n",
    "                EFi_HC = 4.7595 * (V**-0.9512)\n",
    "                EFi_NOx = 12.562 * (V**-0.8606)\n",
    "                if V < 85:\n",
    "                    EFi_PM10 = 0.0002\n",
    "                    EFi_PM2_5 = k * 0.0002\n",
    "                else:\n",
    "                    EFi_PM10 = 0.0005\n",
    "                    EFi_PM2_5 = k * 0.0005\n",
    "            elif 2000 <= car_birth <= 2005:\n",
    "                EFi_CO = 17.829 * (V**-0.6778)\n",
    "                EFi_HC = 6.3668 * (V**-1.2849)\n",
    "                EFi_NOx = 8.8952 * (V**-0.8119)\n",
    "                if V < 85:\n",
    "                    EFi_PM10 = 0.0002\n",
    "                    EFi_PM2_5 = k * 0.0002\n",
    "                else:\n",
    "                    EFi_PM10 = 0.0005\n",
    "                    EFi_PM2_5 = k * 0.0005\n",
    "            elif 2006 <= car_birth <= 2007:\n",
    "                EFi_CO = 73.022 * (V**-1.2078)\n",
    "                EFi_HC = 4.4166 * (V**-1.5356)\n",
    "                EFi_NOx = 2.0280 * (V**-0.7978)\n",
    "                if V < 85:\n",
    "                    EFi_PM10 = 0.0002\n",
    "                    EFi_PM2_5 = k * 0.0002\n",
    "                else:\n",
    "                    EFi_PM10 = 0.0005\n",
    "                    EFi_PM2_5 = k * 0.0005\n",
    "            elif car_birth == 2008:\n",
    "                if V <= 79.6:\n",
    "                    EFi_CO = 0.7693 * (V**-0.7666)\n",
    "                    EFi_HC = 0.1063 * (V**-1.0745)\n",
    "                else:\n",
    "                    EFi_CO = 5.0000 * (10**-16) * (V**7.2766)\n",
    "                    EFi_HC = 1.0000 * (10**-15) * (V**6.2696)\n",
    "                EFi_NOx = -4.0000 * (10**-6) * (V**2) + 6.0000 * (10**-4) * V + 5.5000 * (10**-3)\n",
    "                if V < 85:\n",
    "                    EFi_PM10 = 0.0002\n",
    "                    EFi_PM2_5 = k * 0.0002\n",
    "                else:\n",
    "                    EFi_PM10 = 0.0005\n",
    "                    EFi_PM2_5 = k * 0.0005\n",
    "            elif 2009 <= car_birth <= 2011:\n",
    "                if V <= 79.6:\n",
    "                    EFi_CO = 0.7059 * (V**-0.7666)\n",
    "                    EFi_HC = 0.0974 * (V**-1.0745)\n",
    "                else:\n",
    "                    EFi_CO = 4.5878 * (10**-16) * (V**7.2766)\n",
    "                    EFi_HC = 9.1667 * (10**-16) * (V**6.2696)\n",
    "                EFi_NOx = -3.7333 * (10**-6) * (V**2) + 5.6000 * (10**-4) * V + 5.1333 * (10**-3)\n",
    "                if V < 85:\n",
    "                    EFi_PM10 = 0.0002\n",
    "                    EFi_PM2_5 = k * 0.0002\n",
    "                else:\n",
    "                    EFi_PM10 = 0.0005\n",
    "                    EFi_PM2_5 = k * 0.0005\n",
    "            elif 2012 <= car_birth <= 2013:\n",
    "                if V <= 79.6:\n",
    "                    EFi_CO = 0.6830 * (V**-0.7666)\n",
    "                    EFi_HC = 0.0943 * (V**-1.0745)\n",
    "                else:\n",
    "                    EFi_CO = 4.4393 * (10**-16) * (V**7.2766)\n",
    "                    EFi_HC = 8.8667 * (10**-16) * (V**6.2696)\n",
    "                EFi_NOx = -3.6373 * (10**-6) * (V**2) + 5.4560 * (10**-4) * V + 5.0013 * (10**-3)\n",
    "                if V < 85:\n",
    "                    EFi_PM10 = 0.0002\n",
    "                    EFi_PM2_5 = k * 0.0002\n",
    "                else:\n",
    "                    EFi_PM10 = 0.0005\n",
    "                    EFi_PM2_5 = k * 0.0005\n",
    "            elif car_birth == 2014:\n",
    "                if V <= 79.6:\n",
    "                    EFi_CO = 0.6602 * (V**-0.7666)\n",
    "                    EFi_HC = 0.0911 * (V**-1.0745)\n",
    "                else:\n",
    "                    EFi_CO = 4.2909 * (10**-16) * (V**7.2766)\n",
    "                    EFi_HC = 8.5667 * (10**-16) * (V**6.2696)\n",
    "                EFi_NOx = -3.5413 * (10**-6) * (V**2) + 5.3120 * (10**-4) * V + 4.8693 * (10**-3)\n",
    "                if V < 85:\n",
    "                    EFi_PM10 = 0.0002\n",
    "                    EFi_PM2_5 = k * 0.0002\n",
    "                else:\n",
    "                    EFi_PM10 = 0.0005\n",
    "                    EFi_PM2_5 = k * 0.0005\n",
    "            elif 2015 <= car_birth:\n",
    "                if V <= 79.6:\n",
    "                    EFi_CO = 0.6374 * (V**-0.7666)\n",
    "                    EFi_HC = 0.0879 * (V**-1.0745)\n",
    "                else:\n",
    "                    EFi_CO = 4.1425 * (10**-16) * (V**7.2766)\n",
    "                    EFi_HC = 8.2667 * (10**-16) * (V**6.2696)\n",
    "                EFi_NOx = -3.4453 * (10**-6) * (V**2) + 5.1680 * (10**-4) * V + 4.7373 * (10**-3)\n",
    "                if V < 85:\n",
    "                    EFi_PM10 = 0.0002\n",
    "                    EFi_PM2_5 = k * 0.0002\n",
    "                else:\n",
    "                    EFi_PM10 = 0.0005\n",
    "                    EFi_PM2_5 = k * 0.0005\n",
    "        elif ( (car_type == '승합') and (car_size == '경형') ) or ( (car_type == '화물') and (car_size == '경형') ):\n",
    "            if car_birth <= 1996:\n",
    "                if V <= 45:\n",
    "                    EFi_CO = 22.498 * (V**-0.6579)\n",
    "                else:\n",
    "                    EFi_CO = 0.0006 * (V**2) + 0.0004 * V + 0.8272\n",
    "                EFi_HC = 12.961 * (V**-0.8364)\n",
    "                EFi_NOx = 4.0131 * (V**-0.3236)\n",
    "                if V < 85:\n",
    "                    EFi_PM10 = 0.0002\n",
    "                    EFi_PM2_5 = k * 0.0002\n",
    "                else:\n",
    "                    EFi_PM10 = 0.0005\n",
    "                    EFi_PM2_5 = k * 0.0005\n",
    "            elif 1997 <= car_birth == 1999:\n",
    "                if V <= 45:\n",
    "                    EFi_CO = 19.887 * (V**-0.8461)\n",
    "                else:\n",
    "                    EFi_CO = -0.0004 * (V**2) + 0.0911 * V - 2.2698\n",
    "                EFi_HC = 2.2714 * (V**-0.7830)\n",
    "                EFi_NOx = 1.8528 * (V**-0.3889)\n",
    "                if V < 85:\n",
    "                    EFi_PM10 = 0.0002\n",
    "                    EFi_PM2_5 = k * 0.0002\n",
    "                else:\n",
    "                    EFi_PM10 = 0.0005\n",
    "                    EFi_PM2_5 = k * 0.0005\n",
    "            elif 2000 <= car_birth <= 2002:\n",
    "                if V <= 45:\n",
    "                    EFi_CO = 19.887 * (V**-0.8461)\n",
    "                else:\n",
    "                    EFi_CO = -0.0004 * (V**2) + 0.0911 * V - 2.2698\n",
    "                EFi_HC = 2.2714 * (V**-0.7830)\n",
    "                EFi_NOx = 5.8289 * (V**-0.9198)\n",
    "                if V < 85:\n",
    "                    EFi_PM10 = 0.0002\n",
    "                    EFi_PM2_5 = k * 0.0002\n",
    "                else:\n",
    "                    EFi_PM10 = 0.0005\n",
    "                    EFi_PM2_5 = k * 0.0005\n",
    "            elif 2003 <= car_birth <= 2005:\n",
    "                if V <= 45:\n",
    "                    EFi_CO = 19.887 * (V**-0.8461)\n",
    "                else:\n",
    "                    EFi_CO = -0.0004 * (V**2) + 0.0911 * V - 2.2698\n",
    "                EFi_HC = 1.1073 * (V**-0.7830)\n",
    "                EFi_NOx = 5.8289 * (V**-0.9198)\n",
    "                if V < 85:\n",
    "                    EFi_PM10 = 0.0002\n",
    "                    EFi_PM2_5 = k * 0.0002\n",
    "                else:\n",
    "                    EFi_PM10 = 0.0005\n",
    "                    EFi_PM2_5 = k * 0.0005\n",
    "            elif 2006 <= car_birth:\n",
    "                if V <= 45:\n",
    "                    EFi_CO = 8.9904 * (V**-0.8461)\n",
    "                else:\n",
    "                    EFi_CO = -0.0002 * (V**2) + 0.0457 * V - 1.1403\n",
    "                EFi_HC = 0.3549 * (V**-0.7830)\n",
    "                EFi_NOx = 0.7228 * (V**-0.9198)\n",
    "                if V < 85:\n",
    "                    EFi_PM10 = 0.0002\n",
    "                    EFi_PM2_5 = k * 0.0002\n",
    "                else:\n",
    "                    EFi_PM10 = 0.0005\n",
    "                    EFi_PM2_5 = k * 0.0005\n",
    "        elif (car_type == '승합') and (car_size == '소형'):\n",
    "            if car_birth <= 1990:\n",
    "                EFi_CO = 72.338 * (V**-0.7587)\n",
    "                EFi_HC = 26.532 * (V**-1.0423)\n",
    "                EFi_NOx = 9.3011 * (V**-0.6781)\n",
    "                if V < 85:\n",
    "                    EFi_PM10 = 0.0002\n",
    "                    EFi_PM2_5 = k * 0.0002\n",
    "                else:\n",
    "                    EFi_PM10 = 0.0005\n",
    "                    EFi_PM2_5 = k * 0.0005\n",
    "            elif 1991 <= car_birth == 1996:\n",
    "                EFi_CO = 29.825 * (V**-0.6771)\n",
    "                EFi_HC = 26.520 * (V**-1.4041)\n",
    "                EFi_NOx = 11.287 * (V**-0.7634)\n",
    "                if V < 85:\n",
    "                    EFi_PM10 = 0.0002\n",
    "                    EFi_PM2_5 = k * 0.0002\n",
    "                else:\n",
    "                    EFi_PM10 = 0.0005\n",
    "                    EFi_PM2_5 = k * 0.0005\n",
    "            elif 1997 <= car_birth <= 1999:\n",
    "                EFi_CO = 29.825 * (V**-0.6771)\n",
    "                EFi_HC = 4.7595 * (V**-0.9512)\n",
    "                EFi_NOx = 12.562 * (V**-0.8606)\n",
    "                if V < 85:\n",
    "                    EFi_PM10 = 0.0002\n",
    "                    EFi_PM2_5 = k * 0.0002\n",
    "                else:\n",
    "                    EFi_PM10 = 0.0005\n",
    "                    EFi_PM2_5 = k * 0.0005\n",
    "            elif 2000 <= car_birth <= 2005:\n",
    "                EFi_CO = 17.829 * (V**-0.6778)\n",
    "                EFi_HC = 6.3668 * (V**-1.2849)\n",
    "                EFi_NOx = 8.8952 * (V**-0.8119)\n",
    "                if V < 85:\n",
    "                    EFi_PM10 = 0.0002\n",
    "                    EFi_PM2_5 = k * 0.0002\n",
    "                else:\n",
    "                    EFi_PM10 = 0.0005\n",
    "                    EFi_PM2_5 = k * 0.0005\n",
    "            elif 2006 <= car_birth:\n",
    "                if V <= 65.4:\n",
    "                    EFi_CO = 6.1701 * (V**-1.0719)\n",
    "                    EFi_HC = 2.3782 * (V**-1.9979)\n",
    "                else:\n",
    "                    EFi_CO = 3.0000 * (10**-10) * (V**4.5809)\n",
    "                    EFi_HC = 5.0000 * (10**-10) * (V**3.4895)\n",
    "                if V <= 97.3:\n",
    "                    EFi_NOx = 0.4758 * (V**-1.0665)\n",
    "                if V < 85:\n",
    "                    EFi_PM10 = 0.0002\n",
    "                    EFi_PM2_5 = k * 0.0002\n",
    "                else:\n",
    "                    EFi_PM10 = 0.0005\n",
    "                    EFi_PM2_5 = k * 0.0005\n",
    "        # 최 확인(2023.04.20) : 화물 중형 -> 승합 중형 조건, 화물 대형 -> 승합 대형 조건으로 계산\n",
    "        elif ( (car_type == '승합') and ( (car_size == '중형') or (car_size == '대형') ) ) or ( (car_type == '화물') and ((car_size == '소형') or (car_size == '중형') or (car_size == '대형')) ):\n",
    "            if car_birth <= 1990:\n",
    "                EFi_CO = 72.338 * (V**-0.7587)\n",
    "                EFi_HC = 26.532 * (V**-1.0423)\n",
    "                EFi_NOx = 9.3011 * (V**-0.6781)\n",
    "                if V < 85:\n",
    "                    EFi_PM10 = 0.0002\n",
    "                    EFi_PM2_5 = k * 0.0002\n",
    "                else:\n",
    "                    EFi_PM10 = 0.0005\n",
    "                    EFi_PM2_5 = k * 0.0005\n",
    "            elif 1991 <= car_birth == 1996:\n",
    "                EFi_CO = 29.825 * (V**-0.6771)\n",
    "                EFi_HC = 26.520 * (V**-1.4041)\n",
    "                EFi_NOx = 11.287 * (V**-0.7634)\n",
    "                if V < 85:\n",
    "                    EFi_PM10 = 0.0002\n",
    "                    EFi_PM2_5 = k * 0.0002\n",
    "                else:\n",
    "                    EFi_PM10 = 0.0005\n",
    "                    EFi_PM2_5 = k * 0.0005\n",
    "            elif 1997 <= car_birth <= 1999:\n",
    "                EFi_CO = 29.825 * (V**-0.6771)\n",
    "                EFi_HC = 4.7595 * (V**-0.9512)\n",
    "                EFi_NOx = 12.562 * (V**-0.8606)\n",
    "                if V < 85:\n",
    "                    EFi_PM10 = 0.0002\n",
    "                    EFi_PM2_5 = k * 0.0002\n",
    "                else:\n",
    "                    EFi_PM10 = 0.0005\n",
    "                    EFi_PM2_5 = k * 0.0005\n",
    "            elif 2000 <= car_birth <= 2005:\n",
    "                EFi_CO = 17.829 * (V**-0.6778)\n",
    "                EFi_HC = 6.3668 * (V**-1.2849)\n",
    "                EFi_NOx = 8.8952 * (V**-0.8119)\n",
    "                if V < 85:\n",
    "                    EFi_PM10 = 0.0002\n",
    "                    EFi_PM2_5 = k * 0.0002\n",
    "                else:\n",
    "                    EFi_PM10 = 0.0005\n",
    "                    EFi_PM2_5 = k * 0.0005\n",
    "            elif 2006 <= car_birth:\n",
    "                if V <= 65.4:\n",
    "                    EFi_CO = 16.491 * (V**-1.4713)\n",
    "                    EFi_HC = 1.9218 * (V**-1.8418)\n",
    "                else:\n",
    "                    EFi_CO = 3.0000 * (10**-13) * (V**6.0619)\n",
    "                    EFi_HC = 3.0000 * (10**-9) * (V**3.0639)\n",
    "                if V <= 97.3:\n",
    "                    EFi_NOx = 0.1246 * (V**-0.441)\n",
    "                if V < 85:\n",
    "                    EFi_PM10 = 0.0002\n",
    "                    EFi_PM2_5 = k * 0.0002\n",
    "                else:\n",
    "                    EFi_PM10 = 0.0005\n",
    "                    EFi_PM2_5 = k * 0.0005\n",
    "    else:\n",
    "        # 값 고민 : 1\n",
    "        # EFi_CO, EFi_HC, EFi_NOx, EFi_PM10, EFi_PM2_5 = np.nan, np.nan, np.nan, np.nan, np.nan\n",
    "        EFi_CO, EFi_HC, EFi_NOx, EFi_PM10, EFi_PM2_5 = 1, 1, 1, 1, 1\n",
    "\n",
    "    # 배출계수(EFi) 리스트에 저장\n",
    "    EFi_CO_list.append(EFi_CO)\n",
    "    EFi_HC_list.append(EFi_HC)\n",
    "    EFi_NOx_list.append(EFi_NOx)\n",
    "    EFi_PM10_list.append(EFi_PM10)\n",
    "    EFi_PM2_5_list.append(EFi_PM2_5)"
   ]
  },
  {
   "cell_type": "code",
   "execution_count": 124,
   "metadata": {},
   "outputs": [
    {
     "data": {
      "text/plain": [
       "1497708"
      ]
     },
     "execution_count": 124,
     "metadata": {},
     "output_type": "execute_result"
    }
   ],
   "source": [
    "df2.shape[0]"
   ]
  },
  {
   "cell_type": "code",
   "execution_count": 125,
   "metadata": {},
   "outputs": [
    {
     "data": {
      "text/plain": [
       "(1497708, 1497708, 1497708, 1497708, 1497708)"
      ]
     },
     "execution_count": 125,
     "metadata": {},
     "output_type": "execute_result"
    }
   ],
   "source": [
    "len(EFi_CO_list), len(EFi_HC_list), len(EFi_NOx_list), len(EFi_PM10_list), len(EFi_PM2_5_list)"
   ]
  },
  {
   "cell_type": "code",
   "execution_count": 126,
   "metadata": {},
   "outputs": [],
   "source": [
    "df2['EFi_CO'] = EFi_CO_list\n",
    "df2['EFi_HC'] = EFi_HC_list\n",
    "df2['EFi_NOx'] = EFi_NOx_list\n",
    "df2['EFi_PM10'] = EFi_PM10_list\n",
    "df2['EFi_PM2_5'] = EFi_PM2_5_list"
   ]
  },
  {
   "cell_type": "code",
   "execution_count": 127,
   "metadata": {},
   "outputs": [],
   "source": [
    "check_EFi_col = ['EFi_CO', 'EFi_HC', 'EFi_NOx', 'EFi_PM10', 'EFi_PM2_5']"
   ]
  },
  {
   "attachments": {},
   "cell_type": "markdown",
   "metadata": {},
   "source": [
    "## 배출량 계산"
   ]
  },
  {
   "cell_type": "code",
   "execution_count": 128,
   "metadata": {},
   "outputs": [
    {
     "data": {
      "text/plain": [
       "['연료',\n",
       " '차종',\n",
       " '차종유형',\n",
       " '연식',\n",
       " '차령',\n",
       " 'DF_CO',\n",
       " 'DF_HC',\n",
       " 'DF_PM',\n",
       " 'DF_NOx',\n",
       " 'R_CO',\n",
       " 'R_HC',\n",
       " 'R_PM']"
      ]
     },
     "execution_count": 128,
     "metadata": {},
     "output_type": "execute_result"
    }
   ],
   "source": [
    "DF_col + check_DF_col + check_R_col"
   ]
  },
  {
   "cell_type": "code",
   "execution_count": 129,
   "metadata": {},
   "outputs": [
    {
     "data": {
      "text/html": [
       "<div>\n",
       "<style scoped>\n",
       "    .dataframe tbody tr th:only-of-type {\n",
       "        vertical-align: middle;\n",
       "    }\n",
       "\n",
       "    .dataframe tbody tr th {\n",
       "        vertical-align: top;\n",
       "    }\n",
       "\n",
       "    .dataframe thead th {\n",
       "        text-align: right;\n",
       "    }\n",
       "</style>\n",
       "<table border=\"1\" class=\"dataframe\">\n",
       "  <thead>\n",
       "    <tr style=\"text-align: right;\">\n",
       "      <th></th>\n",
       "      <th>연료</th>\n",
       "      <th>차종</th>\n",
       "      <th>차종유형</th>\n",
       "      <th>연식</th>\n",
       "      <th>차령</th>\n",
       "      <th>DF_CO</th>\n",
       "      <th>DF_HC</th>\n",
       "      <th>DF_PM</th>\n",
       "      <th>DF_NOx</th>\n",
       "      <th>R_CO</th>\n",
       "      <th>R_HC</th>\n",
       "      <th>R_PM</th>\n",
       "      <th>EFi_CO</th>\n",
       "      <th>EFi_HC</th>\n",
       "      <th>EFi_NOx</th>\n",
       "      <th>EFi_PM10</th>\n",
       "      <th>EFi_PM2_5</th>\n",
       "    </tr>\n",
       "  </thead>\n",
       "  <tbody>\n",
       "    <tr>\n",
       "      <th>0</th>\n",
       "      <td>경유</td>\n",
       "      <td>승용</td>\n",
       "      <td>대형</td>\n",
       "      <td>2006</td>\n",
       "      <td>17</td>\n",
       "      <td>1.50</td>\n",
       "      <td>1.50</td>\n",
       "      <td>1.50</td>\n",
       "      <td>1.20</td>\n",
       "      <td>0.00</td>\n",
       "      <td>0.00</td>\n",
       "      <td>0.00</td>\n",
       "      <td>0.04</td>\n",
       "      <td>0.01</td>\n",
       "      <td>1.33</td>\n",
       "      <td>0.01</td>\n",
       "      <td>0.01</td>\n",
       "    </tr>\n",
       "    <tr>\n",
       "      <th>1</th>\n",
       "      <td>경유</td>\n",
       "      <td>승용</td>\n",
       "      <td>대형</td>\n",
       "      <td>2006</td>\n",
       "      <td>17</td>\n",
       "      <td>1.50</td>\n",
       "      <td>1.50</td>\n",
       "      <td>1.50</td>\n",
       "      <td>1.20</td>\n",
       "      <td>0.00</td>\n",
       "      <td>0.00</td>\n",
       "      <td>0.00</td>\n",
       "      <td>0.04</td>\n",
       "      <td>0.01</td>\n",
       "      <td>1.33</td>\n",
       "      <td>0.01</td>\n",
       "      <td>0.01</td>\n",
       "    </tr>\n",
       "    <tr>\n",
       "      <th>2</th>\n",
       "      <td>경유</td>\n",
       "      <td>승용</td>\n",
       "      <td>대형</td>\n",
       "      <td>2006</td>\n",
       "      <td>17</td>\n",
       "      <td>1.50</td>\n",
       "      <td>1.50</td>\n",
       "      <td>1.50</td>\n",
       "      <td>1.20</td>\n",
       "      <td>0.00</td>\n",
       "      <td>0.00</td>\n",
       "      <td>0.00</td>\n",
       "      <td>0.04</td>\n",
       "      <td>0.01</td>\n",
       "      <td>1.33</td>\n",
       "      <td>0.01</td>\n",
       "      <td>0.01</td>\n",
       "    </tr>\n",
       "    <tr>\n",
       "      <th>3</th>\n",
       "      <td>경유</td>\n",
       "      <td>승용</td>\n",
       "      <td>대형</td>\n",
       "      <td>2006</td>\n",
       "      <td>17</td>\n",
       "      <td>1.50</td>\n",
       "      <td>1.50</td>\n",
       "      <td>1.50</td>\n",
       "      <td>1.20</td>\n",
       "      <td>0.00</td>\n",
       "      <td>0.00</td>\n",
       "      <td>0.00</td>\n",
       "      <td>0.04</td>\n",
       "      <td>0.01</td>\n",
       "      <td>1.33</td>\n",
       "      <td>0.01</td>\n",
       "      <td>0.01</td>\n",
       "    </tr>\n",
       "    <tr>\n",
       "      <th>4</th>\n",
       "      <td>경유</td>\n",
       "      <td>승용</td>\n",
       "      <td>대형</td>\n",
       "      <td>2006</td>\n",
       "      <td>17</td>\n",
       "      <td>1.50</td>\n",
       "      <td>1.50</td>\n",
       "      <td>1.50</td>\n",
       "      <td>1.20</td>\n",
       "      <td>0.00</td>\n",
       "      <td>0.00</td>\n",
       "      <td>0.00</td>\n",
       "      <td>0.04</td>\n",
       "      <td>0.01</td>\n",
       "      <td>1.33</td>\n",
       "      <td>0.01</td>\n",
       "      <td>0.01</td>\n",
       "    </tr>\n",
       "  </tbody>\n",
       "</table>\n",
       "</div>"
      ],
      "text/plain": [
       "   연료  차종 차종유형    연식  차령  DF_CO  DF_HC  DF_PM  DF_NOx  R_CO  R_HC  R_PM  \\\n",
       "0  경유  승용   대형  2006  17   1.50   1.50   1.50    1.20  0.00  0.00  0.00   \n",
       "1  경유  승용   대형  2006  17   1.50   1.50   1.50    1.20  0.00  0.00  0.00   \n",
       "2  경유  승용   대형  2006  17   1.50   1.50   1.50    1.20  0.00  0.00  0.00   \n",
       "3  경유  승용   대형  2006  17   1.50   1.50   1.50    1.20  0.00  0.00  0.00   \n",
       "4  경유  승용   대형  2006  17   1.50   1.50   1.50    1.20  0.00  0.00  0.00   \n",
       "\n",
       "   EFi_CO  EFi_HC  EFi_NOx  EFi_PM10  EFi_PM2_5  \n",
       "0    0.04    0.01     1.33      0.01       0.01  \n",
       "1    0.04    0.01     1.33      0.01       0.01  \n",
       "2    0.04    0.01     1.33      0.01       0.01  \n",
       "3    0.04    0.01     1.33      0.01       0.01  \n",
       "4    0.04    0.01     1.33      0.01       0.01  "
      ]
     },
     "execution_count": 129,
     "metadata": {},
     "output_type": "execute_result"
    }
   ],
   "source": [
    "df2[DF_col + check_DF_col + check_R_col + check_EFi_col].head()"
   ]
  },
  {
   "cell_type": "code",
   "execution_count": 130,
   "metadata": {},
   "outputs": [],
   "source": [
    "# E = VKT * (EFi / 1000) * DF * (1 - R / 100)\n",
    "df2['E_HOT_CO'] = df2['VKT'] * (df2['EFi_CO'] / 1000) * df2['DF_CO'] * (1 - df2['R_CO'] / 100)\n",
    "df2['E_HOT_HC'] = df2['VKT'] * (df2['EFi_HC'] / 1000) * df2['DF_HC'] * (1 - df2['R_HC'] / 100)\n",
    "df2['E_HOT_NOx'] = df2['VKT'] * (df2['EFi_NOx'] / 1000) * df2['DF_NOx'] * (1 - 0 / 100)\n",
    "df2['E_HOT_PM10'] = df2['VKT'] * (df2['EFi_PM10'] / 1000) * df2['DF_PM'] * (1 - df2['R_PM'] / 100)\n",
    "df2['E_HOT_PM2_5'] = df2['VKT'] * (df2['EFi_PM2_5'] / 1000) * df2['DF_PM'] * (1 - df2['R_PM'] / 100)"
   ]
  },
  {
   "cell_type": "code",
   "execution_count": 131,
   "metadata": {},
   "outputs": [],
   "source": [
    "check_E_HOT_col = ['E_HOT_CO', 'E_HOT_HC', 'E_HOT_NOx', 'E_HOT_PM10', 'E_HOT_PM2_5']"
   ]
  },
  {
   "cell_type": "code",
   "execution_count": 132,
   "metadata": {},
   "outputs": [
    {
     "data": {
      "text/html": [
       "<div>\n",
       "<style scoped>\n",
       "    .dataframe tbody tr th:only-of-type {\n",
       "        vertical-align: middle;\n",
       "    }\n",
       "\n",
       "    .dataframe tbody tr th {\n",
       "        vertical-align: top;\n",
       "    }\n",
       "\n",
       "    .dataframe thead th {\n",
       "        text-align: right;\n",
       "    }\n",
       "</style>\n",
       "<table border=\"1\" class=\"dataframe\">\n",
       "  <thead>\n",
       "    <tr style=\"text-align: right;\">\n",
       "      <th></th>\n",
       "      <th>연료</th>\n",
       "      <th>차종</th>\n",
       "      <th>차종유형</th>\n",
       "      <th>연식</th>\n",
       "      <th>차령</th>\n",
       "      <th>DF_CO</th>\n",
       "      <th>DF_HC</th>\n",
       "      <th>DF_PM</th>\n",
       "      <th>DF_NOx</th>\n",
       "      <th>R_CO</th>\n",
       "      <th>...</th>\n",
       "      <th>EFi_CO</th>\n",
       "      <th>EFi_HC</th>\n",
       "      <th>EFi_NOx</th>\n",
       "      <th>EFi_PM10</th>\n",
       "      <th>EFi_PM2_5</th>\n",
       "      <th>E_HOT_CO</th>\n",
       "      <th>E_HOT_HC</th>\n",
       "      <th>E_HOT_NOx</th>\n",
       "      <th>E_HOT_PM10</th>\n",
       "      <th>E_HOT_PM2_5</th>\n",
       "    </tr>\n",
       "  </thead>\n",
       "  <tbody>\n",
       "    <tr>\n",
       "      <th>0</th>\n",
       "      <td>경유</td>\n",
       "      <td>승용</td>\n",
       "      <td>대형</td>\n",
       "      <td>2006</td>\n",
       "      <td>17</td>\n",
       "      <td>1.50</td>\n",
       "      <td>1.50</td>\n",
       "      <td>1.50</td>\n",
       "      <td>1.20</td>\n",
       "      <td>0.00</td>\n",
       "      <td>...</td>\n",
       "      <td>0.04</td>\n",
       "      <td>0.01</td>\n",
       "      <td>1.33</td>\n",
       "      <td>0.01</td>\n",
       "      <td>0.01</td>\n",
       "      <td>0.73</td>\n",
       "      <td>0.20</td>\n",
       "      <td>20.80</td>\n",
       "      <td>0.18</td>\n",
       "      <td>0.17</td>\n",
       "    </tr>\n",
       "    <tr>\n",
       "      <th>1</th>\n",
       "      <td>경유</td>\n",
       "      <td>승용</td>\n",
       "      <td>대형</td>\n",
       "      <td>2006</td>\n",
       "      <td>17</td>\n",
       "      <td>1.50</td>\n",
       "      <td>1.50</td>\n",
       "      <td>1.50</td>\n",
       "      <td>1.20</td>\n",
       "      <td>0.00</td>\n",
       "      <td>...</td>\n",
       "      <td>0.04</td>\n",
       "      <td>0.01</td>\n",
       "      <td>1.33</td>\n",
       "      <td>0.01</td>\n",
       "      <td>0.01</td>\n",
       "      <td>0.74</td>\n",
       "      <td>0.20</td>\n",
       "      <td>21.16</td>\n",
       "      <td>0.18</td>\n",
       "      <td>0.17</td>\n",
       "    </tr>\n",
       "    <tr>\n",
       "      <th>2</th>\n",
       "      <td>경유</td>\n",
       "      <td>승용</td>\n",
       "      <td>대형</td>\n",
       "      <td>2006</td>\n",
       "      <td>17</td>\n",
       "      <td>1.50</td>\n",
       "      <td>1.50</td>\n",
       "      <td>1.50</td>\n",
       "      <td>1.20</td>\n",
       "      <td>0.00</td>\n",
       "      <td>...</td>\n",
       "      <td>0.04</td>\n",
       "      <td>0.01</td>\n",
       "      <td>1.33</td>\n",
       "      <td>0.01</td>\n",
       "      <td>0.01</td>\n",
       "      <td>0.76</td>\n",
       "      <td>0.20</td>\n",
       "      <td>21.62</td>\n",
       "      <td>0.19</td>\n",
       "      <td>0.17</td>\n",
       "    </tr>\n",
       "    <tr>\n",
       "      <th>3</th>\n",
       "      <td>경유</td>\n",
       "      <td>승용</td>\n",
       "      <td>대형</td>\n",
       "      <td>2006</td>\n",
       "      <td>17</td>\n",
       "      <td>1.50</td>\n",
       "      <td>1.50</td>\n",
       "      <td>1.50</td>\n",
       "      <td>1.20</td>\n",
       "      <td>0.00</td>\n",
       "      <td>...</td>\n",
       "      <td>0.04</td>\n",
       "      <td>0.01</td>\n",
       "      <td>1.33</td>\n",
       "      <td>0.01</td>\n",
       "      <td>0.01</td>\n",
       "      <td>0.76</td>\n",
       "      <td>0.20</td>\n",
       "      <td>21.62</td>\n",
       "      <td>0.19</td>\n",
       "      <td>0.17</td>\n",
       "    </tr>\n",
       "    <tr>\n",
       "      <th>4</th>\n",
       "      <td>경유</td>\n",
       "      <td>승용</td>\n",
       "      <td>대형</td>\n",
       "      <td>2006</td>\n",
       "      <td>17</td>\n",
       "      <td>1.50</td>\n",
       "      <td>1.50</td>\n",
       "      <td>1.50</td>\n",
       "      <td>1.20</td>\n",
       "      <td>0.00</td>\n",
       "      <td>...</td>\n",
       "      <td>0.04</td>\n",
       "      <td>0.01</td>\n",
       "      <td>1.33</td>\n",
       "      <td>0.01</td>\n",
       "      <td>0.01</td>\n",
       "      <td>0.74</td>\n",
       "      <td>0.20</td>\n",
       "      <td>21.10</td>\n",
       "      <td>0.18</td>\n",
       "      <td>0.17</td>\n",
       "    </tr>\n",
       "  </tbody>\n",
       "</table>\n",
       "<p>5 rows × 22 columns</p>\n",
       "</div>"
      ],
      "text/plain": [
       "   연료  차종 차종유형    연식  차령  DF_CO  DF_HC  DF_PM  DF_NOx  R_CO  ...  EFi_CO  \\\n",
       "0  경유  승용   대형  2006  17   1.50   1.50   1.50    1.20  0.00  ...    0.04   \n",
       "1  경유  승용   대형  2006  17   1.50   1.50   1.50    1.20  0.00  ...    0.04   \n",
       "2  경유  승용   대형  2006  17   1.50   1.50   1.50    1.20  0.00  ...    0.04   \n",
       "3  경유  승용   대형  2006  17   1.50   1.50   1.50    1.20  0.00  ...    0.04   \n",
       "4  경유  승용   대형  2006  17   1.50   1.50   1.50    1.20  0.00  ...    0.04   \n",
       "\n",
       "   EFi_HC  EFi_NOx  EFi_PM10  EFi_PM2_5  E_HOT_CO  E_HOT_HC  E_HOT_NOx  \\\n",
       "0    0.01     1.33      0.01       0.01      0.73      0.20      20.80   \n",
       "1    0.01     1.33      0.01       0.01      0.74      0.20      21.16   \n",
       "2    0.01     1.33      0.01       0.01      0.76      0.20      21.62   \n",
       "3    0.01     1.33      0.01       0.01      0.76      0.20      21.62   \n",
       "4    0.01     1.33      0.01       0.01      0.74      0.20      21.10   \n",
       "\n",
       "   E_HOT_PM10  E_HOT_PM2_5  \n",
       "0        0.18         0.17  \n",
       "1        0.18         0.17  \n",
       "2        0.19         0.17  \n",
       "3        0.19         0.17  \n",
       "4        0.18         0.17  \n",
       "\n",
       "[5 rows x 22 columns]"
      ]
     },
     "execution_count": 132,
     "metadata": {},
     "output_type": "execute_result"
    }
   ],
   "source": [
    "df2[DF_col + check_DF_col + check_R_col + check_EFi_col + check_E_HOT_col].head()"
   ]
  },
  {
   "cell_type": "code",
   "execution_count": 133,
   "metadata": {},
   "outputs": [
    {
     "data": {
      "text/plain": [
       "(1497708, 58)"
      ]
     },
     "execution_count": 133,
     "metadata": {},
     "output_type": "execute_result"
    }
   ],
   "source": [
    "df2.shape"
   ]
  },
  {
   "attachments": {},
   "cell_type": "markdown",
   "metadata": {},
   "source": [
    "# 자동차-엔진 미가열(Cold-start) 배출"
   ]
  },
  {
   "attachments": {},
   "cell_type": "markdown",
   "metadata": {},
   "source": [
    "## 배출량 식\n",
    "$$E_{COLD :i, j} = \\beta_{i, j} \\times N_j \\times M_j \\times e^{HOT}_j \\times (e^{COLD} / e^{HOT} \\vert_{i, j} - 1)$$\n",
    "\n",
    "- $E_{COLD :i, j}$ : 차종 $j$에서 배출되는 오염물질 $i$의 엔진미가열 배출량\n",
    "- $\\beta_{i, j}$ : 차종 $j$의 엔진미가열 상태의 주행거리 분율\n",
    "- $N_j$ : 차종 $j$의 수\n",
    "- $M_j$ : 차종 $j$의 주행거리\n",
    "- $e^{HOT}_j$ : 차종 $j$의 엔진가열 상태에서의 배출계수\n",
    "- $e^{COLD} / e^{HOT} \\vert_{i, j}$ : 차종 $j$의 엔진가열상태 대비 엔진미가열 상태에서의 배출 비율"
   ]
  },
  {
   "attachments": {},
   "cell_type": "markdown",
   "metadata": {},
   "source": [
    "## 베타($\\beta$)\n",
    "- 1회 평균주행거리(1 trip length)와 대기온도, 자동차 이용 패턴을 고려\n",
    "    - 1회 평균주행거리 정보는 모든 차종에 대하여 각각 적용하는 방안은 수집자료의 한계로 국내 연구결과를 바탕으로 수도권 지역 승용차의 1회 평균 주행거리 12.35km를 적용\n",
    "    - 이때 과대산정 가능성을 염두하여, 도시지역의 택시를 제외한 승용차(경형, 소형, 중형, 대형), 승합차(경형, 소형), RV(소형, 중형)에 적용\n",
    "\n",
    "    - 1회 주행거리 : 12.35 km (2002년 기준)\n",
    "    - 미가열 배출 적용 차종 : 승용차(경형, 소형, 중형, 대형) / 승합차(경형, 소형) / RV(소형, 중형)\n",
    "    - 미가열 배출 적용 지역 : 도시지역(고속도로 구간 제외)\n",
    "\n",
    "- 산정식\n",
    "\n",
    "-|Factor $\\beta$의 산정식\n",
    "-|-\n",
    "$Estimated$ $l_{trip}$|$0.647-0.025 \\times l_{trip} - (0.00974 - 0.000385 \\times l_{trip}) \\times T_a$\n",
    "$Measured$ $l_{trip}$|$0.698-0.051 \\times l_{trip} - (0.01051 - 0.000770 \\times l_{trip}) \\times T_a$\n",
    "\n",
    "- $T_a$ : 대기온도\n",
    "- $Estimated$ $l_{trip}$ : 유럽평균(1985) 약 11.8km / 유럽평균(1998) 약 12.4km(Andre et al., 1998)"
   ]
  },
  {
   "cell_type": "code",
   "execution_count": 134,
   "metadata": {},
   "outputs": [],
   "source": [
    "l_trip = 12.35 # 국립환경과학원(2007), 도로 이동오염원 대기오염 배출량 산정방법 개선 및 장래 배출량 예측방법 연구\n",
    "Ta = 12.4 # e-나라지표 (https://www.index.go.kr/unity/potal/main/EachDtlPageDetail.do?idx_cd=1400) 2002년 년 평균 기온"
   ]
  },
  {
   "cell_type": "code",
   "execution_count": 135,
   "metadata": {},
   "outputs": [],
   "source": [
    "df2['Beta(Estimated)'] = 0.647 - 0.025 * l_trip - (0.00974 - 0.000385 * l_trip) * Ta\n",
    "# df2['Beta(Measured)'] = 0.698 - 0.051 * l_trip - (0.01051 - 0.000770 * l_trip) * Ta"
   ]
  },
  {
   "cell_type": "code",
   "execution_count": 136,
   "metadata": {},
   "outputs": [
    {
     "data": {
      "text/plain": [
       "0   0.28\n",
       "1   0.28\n",
       "2   0.28\n",
       "3   0.28\n",
       "4   0.28\n",
       "Name: Beta(Estimated), dtype: float64"
      ]
     },
     "execution_count": 136,
     "metadata": {},
     "output_type": "execute_result"
    }
   ],
   "source": [
    "df2['Beta(Estimated)'].head()"
   ]
  },
  {
   "cell_type": "code",
   "execution_count": 137,
   "metadata": {},
   "outputs": [
    {
     "data": {
      "text/plain": [
       "0"
      ]
     },
     "execution_count": 137,
     "metadata": {},
     "output_type": "execute_result"
    }
   ],
   "source": [
    "df2['Beta(Estimated)'].isnull().sum()"
   ]
  },
  {
   "attachments": {},
   "cell_type": "markdown",
   "metadata": {},
   "source": [
    "## $e^{COLD} / e^{HOT}$"
   ]
  },
  {
   "cell_type": "code",
   "execution_count": 138,
   "metadata": {},
   "outputs": [
    {
     "data": {
      "text/plain": [
       "array(['경유', '휘발유', 'LPG(액화석유가스)'], dtype=object)"
      ]
     },
     "execution_count": 138,
     "metadata": {},
     "output_type": "execute_result"
    }
   ],
   "source": [
    "df2['연료'].unique()"
   ]
  },
  {
   "cell_type": "code",
   "execution_count": 139,
   "metadata": {},
   "outputs": [
    {
     "data": {
      "text/plain": [
       "count   1497708.00\n",
       "mean       2005.87\n",
       "std           6.83\n",
       "min        1901.00\n",
       "25%        2006.00\n",
       "50%        2009.00\n",
       "75%        2010.00\n",
       "max        2018.00\n",
       "Name: 연식, dtype: float64"
      ]
     },
     "execution_count": 139,
     "metadata": {},
     "output_type": "execute_result"
    }
   ],
   "source": [
    "df2['연식'].describe()"
   ]
  },
  {
   "cell_type": "code",
   "execution_count": 140,
   "metadata": {},
   "outputs": [
    {
     "data": {
      "text/plain": [
       "count    1330654.00\n",
       "mean    20072621.19\n",
       "std        52791.07\n",
       "min         1993.00\n",
       "25%     20070917.00\n",
       "50%     20090406.00\n",
       "75%     20100616.00\n",
       "max     20190923.00\n",
       "Name: 제작일자, dtype: float64"
      ]
     },
     "execution_count": 140,
     "metadata": {},
     "output_type": "execute_result"
    }
   ],
   "source": [
    "df2['제작일자'].describe()"
   ]
  },
  {
   "cell_type": "code",
   "execution_count": 141,
   "metadata": {},
   "outputs": [],
   "source": [
    "# 휘발유(자동 제어)\n",
    "df2.loc[(df2['연료'] == '휘발유') & (df2['연식'] < 1991) & ( (df2['차종'] == '승용') | ( (df2['차종'] == '승합') & ((df2['차종유형'] == '경형') | (df2['차종유형'] == '소형')) ) ), 'eCOLD/eHOT_CO'] = 3.7 - 0.09 * Ta\n",
    "df2.loc[(df2['연료'] == '휘발유') & (df2['연식'] >= 1991) & ( (df2['차종'] == '승용') | ( (df2['차종'] == '승합') & ((df2['차종유형'] == '경형') | (df2['차종유형'] == '소형')) ) ), 'eCOLD/eHOT_CO'] = 9.04 - 0.09 * Ta\n",
    "df2.loc[(df2['연료'] == '휘발유') & (df2['연식'] < 1991) & ( (df2['차종'] == '승용') | ( (df2['차종'] == '승합') & ((df2['차종유형'] == '경형') | (df2['차종유형'] == '소형')) ) ), 'eCOLD/eHOT_NOx'] = 1.14 - 0.006 * Ta\n",
    "df2.loc[(df2['연료'] == '휘발유') & (df2['연식'] >= 1991) & ( (df2['차종'] == '승용') | ( (df2['차종'] == '승합') & ((df2['차종유형'] == '경형') | (df2['차종유형'] == '소형')) ) ), 'eCOLD/eHOT_NOx'] = 3.66 - 0.006 * Ta\n",
    "df2.loc[(df2['연료'] == '휘발유') & (df2['연식'] < 1991) & ( (df2['차종'] == '승용') | ( (df2['차종'] == '승합') & ((df2['차종유형'] == '경형') | (df2['차종유형'] == '소형')) ) ), 'eCOLD/eHOT_HC'] = 2.8 - 0.06 * Ta\n",
    "df2.loc[(df2['연료'] == '휘발유') & (df2['연식'] >= 1991) & ( (df2['차종'] == '승용') | ( (df2['차종'] == '승합') & ((df2['차종유형'] == '경형') | (df2['차종유형'] == '소형')) ) ), 'eCOLD/eHOT_HC'] = 12.59 - 0.06 * Ta\n",
    "df2.loc[df2['연료'] == '휘발유', 'eCOLD/eHOT_PM'] = 1\n",
    "# 경유\n",
    "df2.loc[(df2['연료'] == '경유') & ( (df2['차종'] == '승용') | ( (df2['차종'] == '승합') & ((df2['차종유형'] == '경형') | (df2['차종유형'] == '소형')) ) ),'eCOLD/eHOT_CO'] = 1.9 - 0.03 * Ta\n",
    "df2.loc[(df2['연료'] == '경유') & ( (df2['차종'] == '승용') | ( (df2['차종'] == '승합') & ((df2['차종유형'] == '경형') | (df2['차종유형'] == '소형')) ) ),'eCOLD/eHOT_NOx'] = 1.3 - 0.013 * Ta\n",
    "df2.loc[(df2['연료'] == '경유') & ( (df2['차종'] == '승용') | ( (df2['차종'] == '승합') & ((df2['차종유형'] == '경형') | (df2['차종유형'] == '소형')) ) ),'eCOLD/eHOT_HC'] = 3.1 - 0.09 * Ta\n",
    "df2.loc[(df2['연료'] == '경유') & ( (df2['차종'] == '승용') | ( (df2['차종'] == '승합') & ((df2['차종유형'] == '경형') | (df2['차종유형'] == '소형')) ) ),'eCOLD/eHOT_PM'] = 3.1 - 0.1 * Ta\n",
    "# LPG(액화석유가스)\n",
    "df2.loc[(df2['연료'] == 'LPG(액화석유가스)') & ( (df2['차종'] == '승용') | ( (df2['차종'] == '승합') & ((df2['차종유형'] == '경형') | (df2['차종유형'] == '소형')) ) ),'eCOLD/eHOT_CO'] = 3.66 - 0.09 * Ta\n",
    "df2.loc[(df2['연료'] == 'LPG(액화석유가스)') & ( (df2['차종'] == '승용') | ( (df2['차종'] == '승합') & ((df2['차종유형'] == '경형') | (df2['차종유형'] == '소형')) ) ),'eCOLD/eHOT_NOx'] = 0.98 - 0.006 * Ta\n",
    "df2.loc[(df2['연료'] == 'LPG(액화석유가스)') & ( (df2['차종'] == '승용') | ( (df2['차종'] == '승합') & ((df2['차종유형'] == '경형') | (df2['차종유형'] == '소형')) ) ),'eCOLD/eHOT_HC'] = 2.24 - 0.06 * Ta\n",
    "df2.loc[(df2['연료'] == 'LPG(액화석유가스)') & ( (df2['차종'] == '승용') | ( (df2['차종'] == '승합') & ((df2['차종유형'] == '경형') | (df2['차종유형'] == '소형')) ) ),'eCOLD/eHOT_PM'] = 1"
   ]
  },
  {
   "cell_type": "code",
   "execution_count": 142,
   "metadata": {},
   "outputs": [
    {
     "data": {
      "text/plain": [
       "eCOLD/eHOT_CO     640364\n",
       "eCOLD/eHOT_NOx    640364\n",
       "eCOLD/eHOT_HC     640364\n",
       "eCOLD/eHOT_PM     634895\n",
       "dtype: int64"
      ]
     },
     "execution_count": 142,
     "metadata": {},
     "output_type": "execute_result"
    }
   ],
   "source": [
    "check_ecoldhot_col = ['eCOLD/eHOT_CO', 'eCOLD/eHOT_NOx', 'eCOLD/eHOT_HC', 'eCOLD/eHOT_PM']\n",
    "df2[check_ecoldhot_col].isnull().sum()"
   ]
  },
  {
   "cell_type": "code",
   "execution_count": 143,
   "metadata": {},
   "outputs": [
    {
     "data": {
      "text/plain": [
       "eCOLD/eHOT_CO     0\n",
       "eCOLD/eHOT_NOx    0\n",
       "eCOLD/eHOT_HC     0\n",
       "eCOLD/eHOT_PM     0\n",
       "dtype: int64"
      ]
     },
     "execution_count": 143,
     "metadata": {},
     "output_type": "execute_result"
    }
   ],
   "source": [
    "df2[check_ecoldhot_col] = df2[check_ecoldhot_col].fillna(1)\n",
    "df2[check_ecoldhot_col].isnull().sum()"
   ]
  },
  {
   "cell_type": "code",
   "execution_count": 144,
   "metadata": {},
   "outputs": [
    {
     "data": {
      "text/plain": [
       "(0,)"
      ]
     },
     "execution_count": 144,
     "metadata": {},
     "output_type": "execute_result"
    }
   ],
   "source": [
    "df2.loc[df2['eCOLD/eHOT_CO'] < 0, 'eCOLD/eHOT_CO'].shape"
   ]
  },
  {
   "cell_type": "code",
   "execution_count": 145,
   "metadata": {},
   "outputs": [
    {
     "data": {
      "text/plain": [
       "(0,)"
      ]
     },
     "execution_count": 145,
     "metadata": {},
     "output_type": "execute_result"
    }
   ],
   "source": [
    "df2.loc[df2['eCOLD/eHOT_HC'] < 0, 'eCOLD/eHOT_HC'].shape"
   ]
  },
  {
   "cell_type": "code",
   "execution_count": 146,
   "metadata": {},
   "outputs": [
    {
     "data": {
      "text/plain": [
       "(0,)"
      ]
     },
     "execution_count": 146,
     "metadata": {},
     "output_type": "execute_result"
    }
   ],
   "source": [
    "df2.loc[df2['eCOLD/eHOT_PM'] < 0, 'eCOLD/eHOT_PM'].shape"
   ]
  },
  {
   "attachments": {},
   "cell_type": "markdown",
   "metadata": {},
   "source": [
    "## 배출량 계산"
   ]
  },
  {
   "cell_type": "code",
   "execution_count": 147,
   "metadata": {},
   "outputs": [
    {
     "data": {
      "text/plain": [
       "Index(['차대번호', '차량번호', '제원관리번호', '차종', '용도', '최초등록일', '연식', '제작일자', '검사유효일',\n",
       "       '배출가스인증번호', '등급', '차명', '차종분류', '차종유형', '자동차형식', '제작사명', '연료', '엔진형식',\n",
       "       '총중량', '적재중량', '엔진출력', '배기량', '법정동코드', '시도명', '시군구명', '소유자구분', '말소여부',\n",
       "       '일치유무', '인증번호 수정 유무', '배인번호_수정', '등급_수정', 'DPF유무_수정', '배출가스', '등급2',\n",
       "       'DPF', '비고', 'Grade', '차령', '시군구명_수정', '1일평균주행거리', 'VKT', 'DF_CO',\n",
       "       'DF_HC', 'DF_PM', 'DF_NOx', 'R_CO', 'R_HC', 'R_PM', 'EFi_CO', 'EFi_HC',\n",
       "       'EFi_NOx', 'EFi_PM10', 'EFi_PM2_5', 'E_HOT_CO', 'E_HOT_HC', 'E_HOT_NOx',\n",
       "       'E_HOT_PM10', 'E_HOT_PM2_5', 'Beta(Estimated)', 'eCOLD/eHOT_CO',\n",
       "       'eCOLD/eHOT_NOx', 'eCOLD/eHOT_HC', 'eCOLD/eHOT_PM'],\n",
       "      dtype='object')"
      ]
     },
     "execution_count": 147,
     "metadata": {},
     "output_type": "execute_result"
    }
   ],
   "source": [
    "df2.columns"
   ]
  },
  {
   "attachments": {},
   "cell_type": "markdown",
   "metadata": {},
   "source": [
    "### 🔺 계산식 고민\n",
    "$$E_{COLD :i, j} = \\beta_{i, j} \\times N_j \\times M_j \\times e^{HOT}_j \\times (e^{COLD} / e^{HOT} \\vert_{i, j} - 1)$$\n",
    "- $M_j$ : 차종 $j$의 주행거리\n",
    "    - 1년 주행거리로 계산? \n",
    "        - VKT\n",
    "    - 1회 주행거리로 계산?\n",
    "        - l_trip"
   ]
  },
  {
   "cell_type": "code",
   "execution_count": 148,
   "metadata": {},
   "outputs": [],
   "source": [
    "#         E      =             B          *     M      *    e(HOT)     * ( e(COLD)/e(HOT)      - 1 )\n",
    "df2['E_COLD_CO'] = df2['Beta(Estimated)'] * df2['VKT'] * df2['EFi_CO'] * (df2['eCOLD/eHOT_CO'] - 1)\n",
    "df2['E_COLD_NOx'] = df2['Beta(Estimated)'] * df2['VKT'] * df2['EFi_NOx'] * (df2['eCOLD/eHOT_NOx'] - 1)\n",
    "df2['E_COLD_HC'] = df2['Beta(Estimated)'] * df2['VKT'] * df2['EFi_HC'] * (df2['eCOLD/eHOT_HC'] - 1)\n",
    "df2['E_COLD_PM10'] = df2['Beta(Estimated)'] * df2['VKT'] * df2['EFi_PM10'] * (df2['eCOLD/eHOT_PM'] - 1)\n",
    "df2['E_COLD_PM2_5'] = df2['Beta(Estimated)'] * df2['VKT'] * df2['EFi_PM2_5'] * (df2['eCOLD/eHOT_PM'] - 1)"
   ]
  },
  {
   "cell_type": "code",
   "execution_count": 149,
   "metadata": {},
   "outputs": [
    {
     "data": {
      "text/html": [
       "<div>\n",
       "<style scoped>\n",
       "    .dataframe tbody tr th:only-of-type {\n",
       "        vertical-align: middle;\n",
       "    }\n",
       "\n",
       "    .dataframe tbody tr th {\n",
       "        vertical-align: top;\n",
       "    }\n",
       "\n",
       "    .dataframe thead th {\n",
       "        text-align: right;\n",
       "    }\n",
       "</style>\n",
       "<table border=\"1\" class=\"dataframe\">\n",
       "  <thead>\n",
       "    <tr style=\"text-align: right;\">\n",
       "      <th></th>\n",
       "      <th>연료</th>\n",
       "      <th>eCOLD/eHOT_CO</th>\n",
       "      <th>eCOLD/eHOT_NOx</th>\n",
       "      <th>eCOLD/eHOT_HC</th>\n",
       "      <th>eCOLD/eHOT_PM</th>\n",
       "    </tr>\n",
       "  </thead>\n",
       "  <tbody>\n",
       "  </tbody>\n",
       "</table>\n",
       "</div>"
      ],
      "text/plain": [
       "Empty DataFrame\n",
       "Columns: [연료, eCOLD/eHOT_CO, eCOLD/eHOT_NOx, eCOLD/eHOT_HC, eCOLD/eHOT_PM]\n",
       "Index: []"
      ]
     },
     "execution_count": 149,
     "metadata": {},
     "output_type": "execute_result"
    }
   ],
   "source": [
    "df2.loc[df2['eCOLD/eHOT_CO'] - 1 < 0, ['연료', 'eCOLD/eHOT_CO', 'eCOLD/eHOT_NOx', 'eCOLD/eHOT_HC', 'eCOLD/eHOT_PM']].head()"
   ]
  },
  {
   "cell_type": "code",
   "execution_count": 150,
   "metadata": {},
   "outputs": [
    {
     "data": {
      "text/html": [
       "<div>\n",
       "<style scoped>\n",
       "    .dataframe tbody tr th:only-of-type {\n",
       "        vertical-align: middle;\n",
       "    }\n",
       "\n",
       "    .dataframe tbody tr th {\n",
       "        vertical-align: top;\n",
       "    }\n",
       "\n",
       "    .dataframe thead th {\n",
       "        text-align: right;\n",
       "    }\n",
       "</style>\n",
       "<table border=\"1\" class=\"dataframe\">\n",
       "  <thead>\n",
       "    <tr style=\"text-align: right;\">\n",
       "      <th></th>\n",
       "      <th>E_HOT_CO</th>\n",
       "      <th>E_HOT_HC</th>\n",
       "      <th>E_HOT_NOx</th>\n",
       "      <th>E_HOT_PM10</th>\n",
       "      <th>E_HOT_PM2_5</th>\n",
       "      <th>E_COLD_CO</th>\n",
       "      <th>E_COLD_NOx</th>\n",
       "      <th>E_COLD_HC</th>\n",
       "      <th>E_COLD_PM10</th>\n",
       "      <th>E_COLD_PM2_5</th>\n",
       "    </tr>\n",
       "  </thead>\n",
       "  <tbody>\n",
       "    <tr>\n",
       "      <th>0</th>\n",
       "      <td>0.73</td>\n",
       "      <td>0.20</td>\n",
       "      <td>20.80</td>\n",
       "      <td>0.18</td>\n",
       "      <td>0.17</td>\n",
       "      <td>70.69</td>\n",
       "      <td>665.21</td>\n",
       "      <td>35.72</td>\n",
       "      <td>28.48</td>\n",
       "      <td>26.20</td>\n",
       "    </tr>\n",
       "    <tr>\n",
       "      <th>1</th>\n",
       "      <td>0.74</td>\n",
       "      <td>0.20</td>\n",
       "      <td>21.16</td>\n",
       "      <td>0.18</td>\n",
       "      <td>0.17</td>\n",
       "      <td>71.88</td>\n",
       "      <td>676.42</td>\n",
       "      <td>36.32</td>\n",
       "      <td>28.96</td>\n",
       "      <td>26.65</td>\n",
       "    </tr>\n",
       "    <tr>\n",
       "      <th>2</th>\n",
       "      <td>0.76</td>\n",
       "      <td>0.20</td>\n",
       "      <td>21.62</td>\n",
       "      <td>0.19</td>\n",
       "      <td>0.17</td>\n",
       "      <td>73.47</td>\n",
       "      <td>691.37</td>\n",
       "      <td>37.12</td>\n",
       "      <td>29.60</td>\n",
       "      <td>27.23</td>\n",
       "    </tr>\n",
       "    <tr>\n",
       "      <th>3</th>\n",
       "      <td>0.76</td>\n",
       "      <td>0.20</td>\n",
       "      <td>21.62</td>\n",
       "      <td>0.19</td>\n",
       "      <td>0.17</td>\n",
       "      <td>73.47</td>\n",
       "      <td>691.37</td>\n",
       "      <td>37.12</td>\n",
       "      <td>29.60</td>\n",
       "      <td>27.23</td>\n",
       "    </tr>\n",
       "    <tr>\n",
       "      <th>4</th>\n",
       "      <td>0.74</td>\n",
       "      <td>0.20</td>\n",
       "      <td>21.10</td>\n",
       "      <td>0.18</td>\n",
       "      <td>0.17</td>\n",
       "      <td>71.69</td>\n",
       "      <td>674.55</td>\n",
       "      <td>36.22</td>\n",
       "      <td>28.88</td>\n",
       "      <td>26.57</td>\n",
       "    </tr>\n",
       "  </tbody>\n",
       "</table>\n",
       "</div>"
      ],
      "text/plain": [
       "   E_HOT_CO  E_HOT_HC  E_HOT_NOx  E_HOT_PM10  E_HOT_PM2_5  E_COLD_CO  \\\n",
       "0      0.73      0.20      20.80        0.18         0.17      70.69   \n",
       "1      0.74      0.20      21.16        0.18         0.17      71.88   \n",
       "2      0.76      0.20      21.62        0.19         0.17      73.47   \n",
       "3      0.76      0.20      21.62        0.19         0.17      73.47   \n",
       "4      0.74      0.20      21.10        0.18         0.17      71.69   \n",
       "\n",
       "   E_COLD_NOx  E_COLD_HC  E_COLD_PM10  E_COLD_PM2_5  \n",
       "0      665.21      35.72        28.48         26.20  \n",
       "1      676.42      36.32        28.96         26.65  \n",
       "2      691.37      37.12        29.60         27.23  \n",
       "3      691.37      37.12        29.60         27.23  \n",
       "4      674.55      36.22        28.88         26.57  "
      ]
     },
     "execution_count": 150,
     "metadata": {},
     "output_type": "execute_result"
    }
   ],
   "source": [
    "check_E_cold_col = ['E_COLD_CO', 'E_COLD_NOx', 'E_COLD_HC', 'E_COLD_PM10', 'E_COLD_PM2_5']\n",
    "df2[check_E_HOT_col + check_E_cold_col].head()"
   ]
  },
  {
   "cell_type": "code",
   "execution_count": 151,
   "metadata": {},
   "outputs": [
    {
     "data": {
      "text/html": [
       "<div>\n",
       "<style scoped>\n",
       "    .dataframe tbody tr th:only-of-type {\n",
       "        vertical-align: middle;\n",
       "    }\n",
       "\n",
       "    .dataframe tbody tr th {\n",
       "        vertical-align: top;\n",
       "    }\n",
       "\n",
       "    .dataframe thead th {\n",
       "        text-align: right;\n",
       "    }\n",
       "</style>\n",
       "<table border=\"1\" class=\"dataframe\">\n",
       "  <thead>\n",
       "    <tr style=\"text-align: right;\">\n",
       "      <th></th>\n",
       "      <th>E_HOT_CO</th>\n",
       "      <th>E_HOT_HC</th>\n",
       "      <th>E_HOT_NOx</th>\n",
       "      <th>E_HOT_PM10</th>\n",
       "      <th>E_HOT_PM2_5</th>\n",
       "      <th>E_COLD_CO</th>\n",
       "      <th>E_COLD_NOx</th>\n",
       "      <th>E_COLD_HC</th>\n",
       "      <th>E_COLD_PM10</th>\n",
       "      <th>E_COLD_PM2_5</th>\n",
       "    </tr>\n",
       "  </thead>\n",
       "  <tbody>\n",
       "    <tr>\n",
       "      <th>1497703</th>\n",
       "      <td>48.45</td>\n",
       "      <td>6.74</td>\n",
       "      <td>11.46</td>\n",
       "      <td>0.01</td>\n",
       "      <td>0.01</td>\n",
       "      <td>10608.08</td>\n",
       "      <td>103.89</td>\n",
       "      <td>984.00</td>\n",
       "      <td>0.00</td>\n",
       "      <td>0.00</td>\n",
       "    </tr>\n",
       "    <tr>\n",
       "      <th>1497704</th>\n",
       "      <td>47.05</td>\n",
       "      <td>6.55</td>\n",
       "      <td>11.13</td>\n",
       "      <td>0.01</td>\n",
       "      <td>0.01</td>\n",
       "      <td>10300.19</td>\n",
       "      <td>100.88</td>\n",
       "      <td>955.44</td>\n",
       "      <td>0.00</td>\n",
       "      <td>0.00</td>\n",
       "    </tr>\n",
       "    <tr>\n",
       "      <th>1497705</th>\n",
       "      <td>47.81</td>\n",
       "      <td>6.65</td>\n",
       "      <td>11.31</td>\n",
       "      <td>0.01</td>\n",
       "      <td>0.01</td>\n",
       "      <td>10468.13</td>\n",
       "      <td>102.52</td>\n",
       "      <td>971.02</td>\n",
       "      <td>0.00</td>\n",
       "      <td>0.00</td>\n",
       "    </tr>\n",
       "    <tr>\n",
       "      <th>1497706</th>\n",
       "      <td>46.66</td>\n",
       "      <td>6.49</td>\n",
       "      <td>11.04</td>\n",
       "      <td>0.01</td>\n",
       "      <td>0.01</td>\n",
       "      <td>10216.22</td>\n",
       "      <td>100.06</td>\n",
       "      <td>947.65</td>\n",
       "      <td>0.00</td>\n",
       "      <td>0.00</td>\n",
       "    </tr>\n",
       "    <tr>\n",
       "      <th>1497707</th>\n",
       "      <td>46.28</td>\n",
       "      <td>6.44</td>\n",
       "      <td>10.94</td>\n",
       "      <td>0.01</td>\n",
       "      <td>0.01</td>\n",
       "      <td>10132.25</td>\n",
       "      <td>99.23</td>\n",
       "      <td>939.86</td>\n",
       "      <td>0.00</td>\n",
       "      <td>0.00</td>\n",
       "    </tr>\n",
       "  </tbody>\n",
       "</table>\n",
       "</div>"
      ],
      "text/plain": [
       "         E_HOT_CO  E_HOT_HC  E_HOT_NOx  E_HOT_PM10  E_HOT_PM2_5  E_COLD_CO  \\\n",
       "1497703     48.45      6.74      11.46        0.01         0.01   10608.08   \n",
       "1497704     47.05      6.55      11.13        0.01         0.01   10300.19   \n",
       "1497705     47.81      6.65      11.31        0.01         0.01   10468.13   \n",
       "1497706     46.66      6.49      11.04        0.01         0.01   10216.22   \n",
       "1497707     46.28      6.44      10.94        0.01         0.01   10132.25   \n",
       "\n",
       "         E_COLD_NOx  E_COLD_HC  E_COLD_PM10  E_COLD_PM2_5  \n",
       "1497703      103.89     984.00         0.00          0.00  \n",
       "1497704      100.88     955.44         0.00          0.00  \n",
       "1497705      102.52     971.02         0.00          0.00  \n",
       "1497706      100.06     947.65         0.00          0.00  \n",
       "1497707       99.23     939.86         0.00          0.00  "
      ]
     },
     "execution_count": 151,
     "metadata": {},
     "output_type": "execute_result"
    }
   ],
   "source": [
    "df2[check_E_HOT_col + check_E_cold_col].tail()"
   ]
  },
  {
   "cell_type": "code",
   "execution_count": 152,
   "metadata": {},
   "outputs": [
    {
     "data": {
      "text/plain": [
       "E_COLD_CO       0\n",
       "E_COLD_NOx      0\n",
       "E_COLD_HC       0\n",
       "E_COLD_PM10     0\n",
       "E_COLD_PM2_5    0\n",
       "dtype: int64"
      ]
     },
     "execution_count": 152,
     "metadata": {},
     "output_type": "execute_result"
    }
   ],
   "source": [
    "df2[check_E_cold_col].isnull().sum()"
   ]
  },
  {
   "attachments": {},
   "cell_type": "markdown",
   "metadata": {},
   "source": [
    "# 자동차-휘발유 증발 배출"
   ]
  },
  {
   "attachments": {},
   "cell_type": "markdown",
   "metadata": {},
   "source": [
    "## 배출량 식\n",
    "- 3가지\n",
    "    - 주간증발손실(Diurnal loss)\n",
    "    - 고온증발손실(Hot and warm soak)\n",
    "    - 주행손실(Running loss)\n",
    "- 현재('19 배출량 기준) 휘발유 증발 배출원\n",
    "    - 주간증발손실, 주행손실 고려\n",
    "    - 우리나라 휘발유 차량 대부분이 방지설비로 카본 캐니스터를 장착하고 있으므로 $e^{S,HOT}$, $e^{S,WARM}$, 고온증발손실(hot and warm soak) 배출은 없는 것으로 가정\n",
    "\n",
    "---\n",
    "\n",
    "$$E_{EVA, VOC:j} = 365 \\times N_j \\times (e^d + S^c + S^{fi}) + R$$\n",
    "$S^c = (1-q)(p \\times x \\times e^{S, HOT} + w \\times x \\times e^{S,WARM})$\n",
    "\n",
    "$S^{fi} = q \\times e^{fi} \\times x$\n",
    "$$R = m_j(p \\times e^{R,HOT} + w \\times e^{R,WARM})$$\n",
    "\n",
    "- $E_{EVA, VOC:j}$ : 차종 j의 증발손실에 의한 VOC 배출량(g/yr)\n",
    "- $N_j$ : 차종 j의 휘발유 사용 차량 등록대수(대)\n",
    "- $e^d$ : 금속탱크를 가지고 있는 휘발유 차량의 일중 VOC 배출량(g/day-대)\n",
    "- $S^c$ : Carburetor 휘발유 차량의 일중 hot and warm soak 배출량(g/day-대)\n",
    "- $S^{fi}$ : Fuel injection 휘발유 차량의 일중 hot and warm soak 배출량(g/day-대)\n",
    "- $R$ : Running loss에 의한 휘발유 차량의 연중 배출량(g/yr)\n",
    "- $q$ : Fuel injection 휘발유 차량의 비율\n",
    "- $p$ : 가열 엔진 상태로 끝나는 trip의 비율\n",
    "- $x$ : 일평균 통행횟수 $= V_j / 365 \\times l_{trip}$\n",
    "- $w$ : 미가열 엔진 상태료 끝나는 trip의 비율\n",
    "- $e^{S,HOT}$ : Hot soak emission의 평균 배출계수\n",
    "- $e^{S,WARM}$ : Cold and warm soak emission의 평균 배출계수\n",
    "- $e^{fi}$ : Fuel injection 휘발유 차량의 평균 hot and warm soak 배출계수\n",
    "- $e^{R,HOT}$ : 휘발유 차량의 평균 hot running loss 배출계수\n",
    "- $e^{R,WARM}$ : 휘발유 차량의 평균 warm running loss 배출계수\n",
    "- $m_j$ : 차종 j의 연간 총 주행거리\n",
    "- $V_j$ : 차종 j의 1대당 평균 연간 주행거리"
   ]
  },
  {
   "attachments": {},
   "cell_type": "markdown",
   "metadata": {},
   "source": [
    "## 배출계수"
   ]
  },
  {
   "attachments": {},
   "cell_type": "markdown",
   "metadata": {},
   "source": [
    "### 🔺 수정 중"
   ]
  },
  {
   "attachments": {},
   "cell_type": "markdown",
   "metadata": {},
   "source": [
    "### $e^d$ Diurnal(g/day)\n",
    "- $e^d$ : 금속탱크를 가지고 있는 휘발유 차량의 일중 VOC 배출량(g/day-대)"
   ]
  },
  {
   "attachments": {},
   "cell_type": "markdown",
   "metadata": {},
   "source": [
    "#### 🔺 RVP(증기압)\n",
    "- 참고 COPERT 3(p.80) Table 6.10: Gasoline fuel specifications\n",
    "    - summer : 60\n",
    "    - winter : 70\n",
    "    - 평균 : 65\n",
    "- 수정 사항(2023.04.20, 최)\n",
    "    - 국내 과학기술원, 환경부 자료 찾아서 사용 추천"
   ]
  },
  {
   "cell_type": "code",
   "execution_count": 153,
   "metadata": {},
   "outputs": [],
   "source": [
    "RVP = 65"
   ]
  },
  {
   "attachments": {},
   "cell_type": "markdown",
   "metadata": {},
   "source": [
    "#### ❗ t_a(기온)\n",
    "- t_a, t_min, t_rise\n",
    "    - 참고 COPERT 3(p.72) Table 5.32: Summary of emission factors for estimating evaporative emissions of gasoline vehicles(all RVp in kPa, all temperatures in °C)\n",
    "        - t_a = (t_max + t_min) / 2\n",
    "        - t_rise = t_max - t_min\n",
    "    - 기상자료개방포털(2002년) 연평균 기온\n",
    "        - https://data.kma.go.kr/stcs/grnd/grndTaList.do?pgmNo=70\n",
    "        - 7.5°C(최저), 12.4°C(평균), 17.9°C(최고)"
   ]
  },
  {
   "cell_type": "code",
   "execution_count": 154,
   "metadata": {},
   "outputs": [],
   "source": [
    "t_min = 7.5 # 평균 최저 온도\n",
    "t_max = 17.9\n",
    "t_a = (t_min + t_max) / 2\n",
    "t_rise = 12.4 # 평균 상승 온도"
   ]
  },
  {
   "cell_type": "code",
   "execution_count": 155,
   "metadata": {},
   "outputs": [],
   "source": [
    "df2.loc[df2['연식'] < 1991, 'e_d'] = 9.1 * np.exp( 0.0158 * (RVP - 61.2) + 0.0574 * (t_min - 22.5) + 0.0614 * (t_rise - 11.7) )\n",
    "df2.loc[df2['연식'] >= 1991, 'e_d'] = 0.2 * (9.1 * np.exp( 0.0158 * (RVP - 61.2) + 0.0574 * (t_min - 22.5) + 0.0614 * (t_rise - 11.7) ))"
   ]
  },
  {
   "cell_type": "code",
   "execution_count": 156,
   "metadata": {},
   "outputs": [
    {
     "data": {
      "text/plain": [
       "0"
      ]
     },
     "execution_count": 156,
     "metadata": {},
     "output_type": "execute_result"
    }
   ],
   "source": [
    "df2['e_d'].isnull().sum()"
   ]
  },
  {
   "attachments": {},
   "cell_type": "markdown",
   "metadata": {},
   "source": [
    "### $e^{R,HOT}$ Hot running loss(g/km)\n",
    "- $e^{R,HOT}$ : 휘발유 차량의 평균 hot running loss 배출계수"
   ]
  },
  {
   "cell_type": "code",
   "execution_count": 157,
   "metadata": {},
   "outputs": [],
   "source": [
    "df2.loc[df2['연식'] < 1991, 'e_RHOT'] = 0.136 * np.exp( - 5.967 + 0.04259 * RVP + 0.1773 * t_a)\n",
    "df2.loc[df2['연식'] >= 1991, 'e_RHOT'] = 0.1 * (0.136 * np.exp( - 5.967 + 0.04259 * RVP + 0.1773 * t_a))"
   ]
  },
  {
   "cell_type": "code",
   "execution_count": 158,
   "metadata": {},
   "outputs": [
    {
     "data": {
      "text/plain": [
       "0"
      ]
     },
     "execution_count": 158,
     "metadata": {},
     "output_type": "execute_result"
    }
   ],
   "source": [
    "df2['e_RHOT'].isnull().sum()"
   ]
  },
  {
   "attachments": {},
   "cell_type": "markdown",
   "metadata": {},
   "source": [
    "### $e^{S,HOT}$ Hot soak(g/procedure)\n",
    "- $e^{S,HOT}$ : Hot soak emission의 평균 배출계수"
   ]
  },
  {
   "cell_type": "code",
   "execution_count": 159,
   "metadata": {},
   "outputs": [],
   "source": [
    "df2.loc[df2['연식'] < 1991, 'e_SHOT'] = 3.0042 * np.exp(0.02 * RVP)\n",
    "df2.loc[df2['연식'] >= 1991, 'e_SHOT'] = 0.3 * np.exp(-2.14 + 0.02302 * RVP + 0.09408 * t_a)"
   ]
  },
  {
   "attachments": {},
   "cell_type": "markdown",
   "metadata": {},
   "source": [
    "### $e^{S,WARM}$ Waram soak(g/procedure)\n",
    "- $e^{S,WARM}$ : Cold and warm soak emission의 평균 배출계수"
   ]
  },
  {
   "cell_type": "code",
   "execution_count": 160,
   "metadata": {},
   "outputs": [],
   "source": [
    "df2.loc[df2['연식'] < 1991, 'e_SWARM'] = np.exp(-1.644 + 0.01993 * RVP + 0.07521 * t_a)\n",
    "df2.loc[df2['연식'] >= 1991, 'e_SWARM'] = 0.2 * np.exp(-2.41 + 0.02302 * RVP + 0.09408 * t_a)"
   ]
  },
  {
   "attachments": {},
   "cell_type": "markdown",
   "metadata": {},
   "source": [
    "### $e^{fi}$ Warm and hot soak for Fuel injected vehicle(g/procedure)\n",
    "- $e^{fi}$ : Fuel injection 휘발유 차량의 평균 hot and warm soak 배출계수"
   ]
  },
  {
   "cell_type": "code",
   "execution_count": 161,
   "metadata": {},
   "outputs": [],
   "source": [
    "df2.loc[df2['연식'] < 1991, 'e_fi'] = 0.7\n",
    "df2.loc[df2['연식'] >= 1991, 'e_fi'] = 0"
   ]
  },
  {
   "attachments": {},
   "cell_type": "markdown",
   "metadata": {},
   "source": [
    "### $e^{R,WARM}$ Warm running loss(g/km)\n",
    "- $e^{R,HOT}$ : 휘발유 차량의 평균 hot running loss 배출계수"
   ]
  },
  {
   "cell_type": "code",
   "execution_count": 162,
   "metadata": {},
   "outputs": [],
   "source": [
    "df2.loc[df2['연식'] < 1991, 'e_RWARM'] = 0.1 * np.exp(-5.967 + 0.04259 * RVP + 0.1773 * t_a)\n",
    "df2.loc[df2['연식'] >= 1991, 'e_RWARM'] = 0.1 * (0.1 * np.exp(-5.967 + 0.04259 * RVP + 0.1773 * t_a))"
   ]
  },
  {
   "cell_type": "code",
   "execution_count": 163,
   "metadata": {},
   "outputs": [
    {
     "data": {
      "text/plain": [
       "0"
      ]
     },
     "execution_count": 163,
     "metadata": {},
     "output_type": "execute_result"
    }
   ],
   "source": [
    "df2['e_RWARM'].isnull().sum()"
   ]
  },
  {
   "attachments": {},
   "cell_type": "markdown",
   "metadata": {},
   "source": [
    "## $R$\n",
    "$R = m_j(p \\times e^{R,HOT} + w \\times e^{R,WARM})$\n",
    "- Running loss에 의한 휘발유 차량의 연중 배출량(g/yr)\n",
    "- $m_j$ : 차종 j의 연간 총 주행거리\n",
    "- $p$ : 가열 엔진 상태로 끝나는 trip의 비율\n",
    "- $e^{R,HOT}$ : 휘발유 차량의 평균 hot running loss 배출계수\n",
    "- $w$ : 미가열 엔진 상태료 끝나는 trip의 비율\n",
    "- $e^{R,WARM}$ : 휘발유 차량의 평균 warm running loss 배출계수"
   ]
  },
  {
   "attachments": {},
   "cell_type": "markdown",
   "metadata": {},
   "source": [
    "### ❓ 확인 중\n",
    "- 수정 사항(2023.04.20, 최)\n",
    "    - 찾는 중"
   ]
  },
  {
   "cell_type": "code",
   "execution_count": 164,
   "metadata": {},
   "outputs": [],
   "source": [
    "p = 0.5 # 가열 엔진 상태로 끝나는 trip의 비율\n",
    "w = 0.5 #미가열 엔진 상태로 끝나는 trip의 비율"
   ]
  },
  {
   "cell_type": "code",
   "execution_count": 165,
   "metadata": {},
   "outputs": [],
   "source": [
    "df2['R'] = df2['VKT'] * (p * df2['e_RHOT'] + w * df2['e_RWARM'])"
   ]
  },
  {
   "cell_type": "code",
   "execution_count": 166,
   "metadata": {},
   "outputs": [
    {
     "data": {
      "text/plain": [
       "0"
      ]
     },
     "execution_count": 166,
     "metadata": {},
     "output_type": "execute_result"
    }
   ],
   "source": [
    "df2['R'].isnull().sum()"
   ]
  },
  {
   "attachments": {},
   "cell_type": "markdown",
   "metadata": {},
   "source": [
    "## $S^{fi}$\n",
    "$S^{fi} = q \\times e^{fi} \\times x$\n",
    "- Fuel injection 휘발유 차량의 일중 hot and warm soak 배출량(g/day-대)\n",
    "- $q$ : Fuel injection 휘발유 차량의 비율\n",
    "- $e^{fi}$ : Fuel injection 휘발유 차량의 평균 hot and warm soak 배출계수\n",
    "- $x$ : 일평균 통행횟수 $= V_j / 365 \\times l_{trip}$\n",
    "- $V_j$ : 차종 j의 1대당 평균 연간 주행거리"
   ]
  },
  {
   "cell_type": "code",
   "execution_count": 167,
   "metadata": {},
   "outputs": [
    {
     "data": {
      "text/plain": [
       "0.04005520435225024"
      ]
     },
     "execution_count": 167,
     "metadata": {},
     "output_type": "execute_result"
    }
   ],
   "source": [
    "injection = df2[df2['연식'] < 1991].shape[0]\n",
    "not_injection = df2[df2['연식'] >= 1991].shape[0]\n",
    "# Fuel injection 휘발유 차량의 비율\n",
    "q = injection / (injection + not_injection)\n",
    "q"
   ]
  },
  {
   "cell_type": "code",
   "execution_count": 168,
   "metadata": {},
   "outputs": [],
   "source": [
    "# x = df2['VKT'] / (365 * l_trip)\n",
    "df2['S_fi'] = q * df2['e_fi'] * ( df2['VKT'] / (365 * l_trip) )"
   ]
  },
  {
   "attachments": {},
   "cell_type": "markdown",
   "metadata": {},
   "source": [
    "## $S^c$\n",
    "$S^c = (1-q)(p \\times x \\times e^{S, HOT} + w \\times x \\times e^{S,WARM})$\n",
    "- Carburetor 휘발유 차량의 일중 hot and warm soak 배출량(g/day-대)\n",
    "- $q$ : Fuel injection 휘발유 차량의 비율\n",
    "- $p$ : 가열 엔진 상태로 끝나는 trip의 비율\n",
    "- $x$ : 일평균 통행횟수 $= V_j / 365 \\times l_{trip}$\n",
    "- $e^{S,HOT}$ : Hot soak emission의 평균 배출계수\n",
    "- $w$ : 미가열 엔진 상태료 끝나는 trip의 비율\n",
    "- $x$ : 일평균 통행횟수 $= V_j / 365 \\times l_{trip}$\n",
    "- $V_j$ : 차종 j의 1대당 평균 연간 주행거리\n",
    "- $e^{S,WARM}$ : Cold and warm soak emission의 평균 배출계수"
   ]
  },
  {
   "cell_type": "code",
   "execution_count": 169,
   "metadata": {},
   "outputs": [],
   "source": [
    "# x = df2['VKT'] / (365 * l_trip)\n",
    "df2['S_c'] = (1-q) * (p * (df2['VKT'] / (365 * l_trip)) * df2['e_SHOT'] + w * (df2['VKT'] / (365 * l_trip)) * df2['e_SWARM'])"
   ]
  },
  {
   "attachments": {},
   "cell_type": "markdown",
   "metadata": {},
   "source": [
    "## $E_{EVA,VOC}$\n",
    "$E_{EVA, VOC:j} = 365 \\times N_j \\times (e^d + S^c + S^{fi}) + R$\n",
    "- $N_j$ : 차종 j의 휘발유 사용 차량 등록대수(대)\n",
    "- $e^d$ : 금속탱크를 가지고 있는 휘발유 차량의 일중 VOC 배출량(g/day-대)\n",
    "- $S^c$ : Carburetor 휘발유 차량의 일중 hot and warm soak 배출량(g/day-대)\n",
    "- $S^{fi}$ : Fuel injection 휘발유 차량의 일중 hot and warm soak 배출량(g/day-대)\n",
    "- $R$ : Running loss에 의한 휘발유 차량의 연중 배출량(g/yr)"
   ]
  },
  {
   "cell_type": "code",
   "execution_count": 170,
   "metadata": {},
   "outputs": [],
   "source": [
    "df2['E_EVA_VOC'] = 365 * df2['e_d'] + df2['S_c'] + df2['S_fi'] + df2['R']"
   ]
  },
  {
   "cell_type": "code",
   "execution_count": 171,
   "metadata": {},
   "outputs": [
    {
     "data": {
      "text/plain": [
       "0"
      ]
     },
     "execution_count": 171,
     "metadata": {},
     "output_type": "execute_result"
    }
   ],
   "source": [
    "df2['E_EVA_VOC'].isnull().sum()"
   ]
  },
  {
   "attachments": {},
   "cell_type": "markdown",
   "metadata": {},
   "source": [
    "# 배출량 합계\n",
    "$E_{total} = E_{HOT} + E_{COLD} + E_{EVAP}$"
   ]
  },
  {
   "cell_type": "code",
   "execution_count": 172,
   "metadata": {},
   "outputs": [
    {
     "data": {
      "text/plain": [
       "(14782, 78)"
      ]
     },
     "execution_count": 172,
     "metadata": {},
     "output_type": "execute_result"
    }
   ],
   "source": [
    "df2[df2['E_COLD_NOx'] < 0].shape"
   ]
  },
  {
   "cell_type": "code",
   "execution_count": 173,
   "metadata": {},
   "outputs": [],
   "source": [
    "# E_COLD_NOx 음수 -> 0으로 처리(2023.04.24 from 최이사님)\n",
    "df2.loc[df2['E_COLD_NOx'] < 0, 'E_COLD_NOx'] = 0"
   ]
  },
  {
   "cell_type": "code",
   "execution_count": 174,
   "metadata": {},
   "outputs": [
    {
     "data": {
      "text/plain": [
       "(['E_HOT_CO', 'E_HOT_HC', 'E_HOT_NOx', 'E_HOT_PM10', 'E_HOT_PM2_5'],\n",
       " ['E_COLD_CO', 'E_COLD_NOx', 'E_COLD_HC', 'E_COLD_PM10', 'E_COLD_PM2_5'])"
      ]
     },
     "execution_count": 174,
     "metadata": {},
     "output_type": "execute_result"
    }
   ],
   "source": [
    "check_E_HOT_col, check_E_cold_col"
   ]
  },
  {
   "cell_type": "code",
   "execution_count": 175,
   "metadata": {},
   "outputs": [
    {
     "data": {
      "text/plain": [
       "(0, 78)"
      ]
     },
     "execution_count": 175,
     "metadata": {},
     "output_type": "execute_result"
    }
   ],
   "source": [
    "df2.loc[(df2['연료'] == '휘발유') & (df2['E_COLD_PM10'] != 0)].shape"
   ]
  },
  {
   "cell_type": "code",
   "execution_count": 176,
   "metadata": {},
   "outputs": [
    {
     "data": {
      "text/plain": [
       "array(['경유', '휘발유', 'LPG(액화석유가스)'], dtype=object)"
      ]
     },
     "execution_count": 176,
     "metadata": {},
     "output_type": "execute_result"
    }
   ],
   "source": [
    "df2['연료'].unique()"
   ]
  },
  {
   "cell_type": "code",
   "execution_count": 177,
   "metadata": {},
   "outputs": [],
   "source": [
    "fuel = '휘발유'\n",
    "df2.loc[df2['연료'] == fuel, 'E_CO_total'] = df2.loc[df2['연료'] == fuel , 'E_HOT_CO'] + df2.loc[df2['연료'] == fuel , 'E_COLD_CO']\n",
    "df2.loc[df2['연료'] == fuel, 'E_HC_total'] = df2.loc[df2['연료'] == fuel , 'E_HOT_HC'] + df2.loc[df2['연료'] == fuel , 'E_COLD_HC'] + df2.loc[df2['연료'] == fuel , 'E_EVA_VOC']\n",
    "df2.loc[df2['연료'] == fuel, 'E_NOx_total'] = df2.loc[df2['연료'] == fuel , 'E_HOT_NOx'] + df2.loc[df2['연료'] == fuel , 'E_COLD_NOx']\n",
    "df2.loc[df2['연료'] == fuel, 'E_PM10_total'] = df2.loc[df2['연료'] == fuel , 'E_HOT_PM10'] + df2.loc[df2['연료'] == fuel , 'E_COLD_PM10']\n",
    "df2.loc[df2['연료'] == fuel, 'E_PM2_5_total'] = df2.loc[df2['연료'] == fuel , 'E_HOT_PM2_5'] + df2.loc[df2['연료'] == fuel , 'E_COLD_PM2_5']"
   ]
  },
  {
   "cell_type": "code",
   "execution_count": 178,
   "metadata": {},
   "outputs": [],
   "source": [
    "fuel = '경유'\n",
    "df2.loc[df2['연료'] == fuel, 'E_CO_total'] = df2.loc[df2['연료'] == fuel , 'E_HOT_CO'] + df2.loc[df2['연료'] == fuel , 'E_COLD_CO']\n",
    "df2.loc[df2['연료'] == fuel, 'E_HC_total'] = df2.loc[df2['연료'] == fuel , 'E_HOT_HC'] + df2.loc[df2['연료'] == fuel , 'E_COLD_HC']\n",
    "df2.loc[df2['연료'] == fuel, 'E_NOx_total'] = df2.loc[df2['연료'] == fuel , 'E_HOT_NOx'] + df2.loc[df2['연료'] == fuel , 'E_COLD_NOx']\n",
    "df2.loc[df2['연료'] == fuel, 'E_PM10_total'] = df2.loc[df2['연료'] == fuel , 'E_HOT_PM10'] + df2.loc[df2['연료'] == fuel , 'E_COLD_PM10']\n",
    "df2.loc[df2['연료'] == fuel, 'E_PM2_5_total'] = df2.loc[df2['연료'] == fuel , 'E_HOT_PM2_5'] + df2.loc[df2['연료'] == fuel , 'E_COLD_PM2_5']"
   ]
  },
  {
   "cell_type": "code",
   "execution_count": 179,
   "metadata": {},
   "outputs": [],
   "source": [
    "fuel = 'LPG(액화석유가스)'\n",
    "df2.loc[df2['연료'] == fuel, 'E_CO_total'] = df2.loc[df2['연료'] == fuel , 'E_HOT_CO'] + df2.loc[df2['연료'] == fuel , 'E_COLD_CO']\n",
    "df2.loc[df2['연료'] == fuel, 'E_HC_total'] = df2.loc[df2['연료'] == fuel , 'E_HOT_HC'] + df2.loc[df2['연료'] == fuel , 'E_COLD_HC']\n",
    "df2.loc[df2['연료'] == fuel, 'E_NOx_total'] = df2.loc[df2['연료'] == fuel , 'E_HOT_NOx'] + df2.loc[df2['연료'] == fuel , 'E_COLD_NOx']\n",
    "df2.loc[df2['연료'] == fuel, 'E_PM10_total'] = df2.loc[df2['연료'] == fuel , 'E_HOT_PM10'] + df2.loc[df2['연료'] == fuel , 'E_COLD_PM10']\n",
    "df2.loc[df2['연료'] == fuel, 'E_PM2_5_total'] = df2.loc[df2['연료'] == fuel , 'E_HOT_PM2_5'] + df2.loc[df2['연료'] == fuel , 'E_COLD_PM2_5']"
   ]
  },
  {
   "cell_type": "code",
   "execution_count": 180,
   "metadata": {},
   "outputs": [
    {
     "data": {
      "text/html": [
       "<div>\n",
       "<style scoped>\n",
       "    .dataframe tbody tr th:only-of-type {\n",
       "        vertical-align: middle;\n",
       "    }\n",
       "\n",
       "    .dataframe tbody tr th {\n",
       "        vertical-align: top;\n",
       "    }\n",
       "\n",
       "    .dataframe thead th {\n",
       "        text-align: right;\n",
       "    }\n",
       "</style>\n",
       "<table border=\"1\" class=\"dataframe\">\n",
       "  <thead>\n",
       "    <tr style=\"text-align: right;\">\n",
       "      <th></th>\n",
       "      <th>E_CO_total</th>\n",
       "      <th>E_HC_total</th>\n",
       "      <th>E_NOx_total</th>\n",
       "      <th>E_PM10_total</th>\n",
       "      <th>E_PM2_5_total</th>\n",
       "    </tr>\n",
       "  </thead>\n",
       "  <tbody>\n",
       "    <tr>\n",
       "      <th>0</th>\n",
       "      <td>71.42</td>\n",
       "      <td>35.91</td>\n",
       "      <td>686.01</td>\n",
       "      <td>28.66</td>\n",
       "      <td>26.37</td>\n",
       "    </tr>\n",
       "    <tr>\n",
       "      <th>1</th>\n",
       "      <td>72.62</td>\n",
       "      <td>36.52</td>\n",
       "      <td>697.57</td>\n",
       "      <td>29.15</td>\n",
       "      <td>26.81</td>\n",
       "    </tr>\n",
       "    <tr>\n",
       "      <th>2</th>\n",
       "      <td>74.23</td>\n",
       "      <td>37.33</td>\n",
       "      <td>712.99</td>\n",
       "      <td>29.79</td>\n",
       "      <td>27.41</td>\n",
       "    </tr>\n",
       "    <tr>\n",
       "      <th>3</th>\n",
       "      <td>74.23</td>\n",
       "      <td>37.33</td>\n",
       "      <td>712.99</td>\n",
       "      <td>29.79</td>\n",
       "      <td>27.41</td>\n",
       "    </tr>\n",
       "    <tr>\n",
       "      <th>4</th>\n",
       "      <td>72.42</td>\n",
       "      <td>36.42</td>\n",
       "      <td>695.65</td>\n",
       "      <td>29.07</td>\n",
       "      <td>26.74</td>\n",
       "    </tr>\n",
       "  </tbody>\n",
       "</table>\n",
       "</div>"
      ],
      "text/plain": [
       "   E_CO_total  E_HC_total  E_NOx_total  E_PM10_total  E_PM2_5_total\n",
       "0       71.42       35.91       686.01         28.66          26.37\n",
       "1       72.62       36.52       697.57         29.15          26.81\n",
       "2       74.23       37.33       712.99         29.79          27.41\n",
       "3       74.23       37.33       712.99         29.79          27.41\n",
       "4       72.42       36.42       695.65         29.07          26.74"
      ]
     },
     "execution_count": 180,
     "metadata": {},
     "output_type": "execute_result"
    }
   ],
   "source": [
    "check_E_col = ['E_CO_total', 'E_HC_total', 'E_NOx_total', 'E_PM10_total', 'E_PM2_5_total']\n",
    "df2[check_E_col].head()"
   ]
  },
  {
   "cell_type": "code",
   "execution_count": 181,
   "metadata": {},
   "outputs": [
    {
     "data": {
      "text/html": [
       "<div>\n",
       "<style scoped>\n",
       "    .dataframe tbody tr th:only-of-type {\n",
       "        vertical-align: middle;\n",
       "    }\n",
       "\n",
       "    .dataframe tbody tr th {\n",
       "        vertical-align: top;\n",
       "    }\n",
       "\n",
       "    .dataframe thead th {\n",
       "        text-align: right;\n",
       "    }\n",
       "</style>\n",
       "<table border=\"1\" class=\"dataframe\">\n",
       "  <thead>\n",
       "    <tr style=\"text-align: right;\">\n",
       "      <th></th>\n",
       "      <th>E_CO_total</th>\n",
       "      <th>E_HC_total</th>\n",
       "      <th>E_NOx_total</th>\n",
       "      <th>E_PM10_total</th>\n",
       "      <th>E_PM2_5_total</th>\n",
       "      <th>E_EVA_VOC</th>\n",
       "    </tr>\n",
       "  </thead>\n",
       "  <tbody>\n",
       "    <tr>\n",
       "      <th>1149289</th>\n",
       "      <td>14001.37</td>\n",
       "      <td>1277.35</td>\n",
       "      <td>2349.39</td>\n",
       "      <td>0.01</td>\n",
       "      <td>0.01</td>\n",
       "      <td>368.12</td>\n",
       "    </tr>\n",
       "    <tr>\n",
       "      <th>1149290</th>\n",
       "      <td>33430.82</td>\n",
       "      <td>4320.80</td>\n",
       "      <td>3891.35</td>\n",
       "      <td>0.01</td>\n",
       "      <td>0.01</td>\n",
       "      <td>382.07</td>\n",
       "    </tr>\n",
       "    <tr>\n",
       "      <th>1149291</th>\n",
       "      <td>31371.83</td>\n",
       "      <td>5360.43</td>\n",
       "      <td>3797.80</td>\n",
       "      <td>0.01</td>\n",
       "      <td>0.01</td>\n",
       "      <td>380.37</td>\n",
       "    </tr>\n",
       "    <tr>\n",
       "      <th>1149293</th>\n",
       "      <td>29251.97</td>\n",
       "      <td>3819.61</td>\n",
       "      <td>3404.93</td>\n",
       "      <td>0.01</td>\n",
       "      <td>0.01</td>\n",
       "      <td>373.23</td>\n",
       "    </tr>\n",
       "    <tr>\n",
       "      <th>1149294</th>\n",
       "      <td>28769.79</td>\n",
       "      <td>3761.78</td>\n",
       "      <td>3348.80</td>\n",
       "      <td>0.01</td>\n",
       "      <td>0.01</td>\n",
       "      <td>372.21</td>\n",
       "    </tr>\n",
       "  </tbody>\n",
       "</table>\n",
       "</div>"
      ],
      "text/plain": [
       "         E_CO_total  E_HC_total  E_NOx_total  E_PM10_total  E_PM2_5_total  \\\n",
       "1149289    14001.37     1277.35      2349.39          0.01           0.01   \n",
       "1149290    33430.82     4320.80      3891.35          0.01           0.01   \n",
       "1149291    31371.83     5360.43      3797.80          0.01           0.01   \n",
       "1149293    29251.97     3819.61      3404.93          0.01           0.01   \n",
       "1149294    28769.79     3761.78      3348.80          0.01           0.01   \n",
       "\n",
       "         E_EVA_VOC  \n",
       "1149289     368.12  \n",
       "1149290     382.07  \n",
       "1149291     380.37  \n",
       "1149293     373.23  \n",
       "1149294     372.21  "
      ]
     },
     "execution_count": 181,
     "metadata": {},
     "output_type": "execute_result"
    }
   ],
   "source": [
    "df2.loc[df2['연료'] == '휘발유', check_E_col + ['E_EVA_VOC']].head()"
   ]
  },
  {
   "cell_type": "code",
   "execution_count": 182,
   "metadata": {},
   "outputs": [
    {
     "data": {
      "text/html": [
       "<div>\n",
       "<style scoped>\n",
       "    .dataframe tbody tr th:only-of-type {\n",
       "        vertical-align: middle;\n",
       "    }\n",
       "\n",
       "    .dataframe tbody tr th {\n",
       "        vertical-align: top;\n",
       "    }\n",
       "\n",
       "    .dataframe thead th {\n",
       "        text-align: right;\n",
       "    }\n",
       "</style>\n",
       "<table border=\"1\" class=\"dataframe\">\n",
       "  <thead>\n",
       "    <tr style=\"text-align: right;\">\n",
       "      <th></th>\n",
       "      <th>E_CO_total</th>\n",
       "      <th>E_HC_total</th>\n",
       "      <th>E_NOx_total</th>\n",
       "      <th>E_PM10_total</th>\n",
       "      <th>E_PM2_5_total</th>\n",
       "    </tr>\n",
       "  </thead>\n",
       "  <tbody>\n",
       "    <tr>\n",
       "      <th>0</th>\n",
       "      <td>71.42</td>\n",
       "      <td>35.91</td>\n",
       "      <td>686.01</td>\n",
       "      <td>28.66</td>\n",
       "      <td>26.37</td>\n",
       "    </tr>\n",
       "    <tr>\n",
       "      <th>1</th>\n",
       "      <td>72.62</td>\n",
       "      <td>36.52</td>\n",
       "      <td>697.57</td>\n",
       "      <td>29.15</td>\n",
       "      <td>26.81</td>\n",
       "    </tr>\n",
       "    <tr>\n",
       "      <th>2</th>\n",
       "      <td>74.23</td>\n",
       "      <td>37.33</td>\n",
       "      <td>712.99</td>\n",
       "      <td>29.79</td>\n",
       "      <td>27.41</td>\n",
       "    </tr>\n",
       "    <tr>\n",
       "      <th>3</th>\n",
       "      <td>74.23</td>\n",
       "      <td>37.33</td>\n",
       "      <td>712.99</td>\n",
       "      <td>29.79</td>\n",
       "      <td>27.41</td>\n",
       "    </tr>\n",
       "    <tr>\n",
       "      <th>4</th>\n",
       "      <td>72.42</td>\n",
       "      <td>36.42</td>\n",
       "      <td>695.65</td>\n",
       "      <td>29.07</td>\n",
       "      <td>26.74</td>\n",
       "    </tr>\n",
       "  </tbody>\n",
       "</table>\n",
       "</div>"
      ],
      "text/plain": [
       "   E_CO_total  E_HC_total  E_NOx_total  E_PM10_total  E_PM2_5_total\n",
       "0       71.42       35.91       686.01         28.66          26.37\n",
       "1       72.62       36.52       697.57         29.15          26.81\n",
       "2       74.23       37.33       712.99         29.79          27.41\n",
       "3       74.23       37.33       712.99         29.79          27.41\n",
       "4       72.42       36.42       695.65         29.07          26.74"
      ]
     },
     "execution_count": 182,
     "metadata": {},
     "output_type": "execute_result"
    }
   ],
   "source": [
    "df2.loc[df2['연료'] == '경유', check_E_col].head()"
   ]
  },
  {
   "cell_type": "code",
   "execution_count": 183,
   "metadata": {},
   "outputs": [
    {
     "data": {
      "text/html": [
       "<div>\n",
       "<style scoped>\n",
       "    .dataframe tbody tr th:only-of-type {\n",
       "        vertical-align: middle;\n",
       "    }\n",
       "\n",
       "    .dataframe tbody tr th {\n",
       "        vertical-align: top;\n",
       "    }\n",
       "\n",
       "    .dataframe thead th {\n",
       "        text-align: right;\n",
       "    }\n",
       "</style>\n",
       "<table border=\"1\" class=\"dataframe\">\n",
       "  <thead>\n",
       "    <tr style=\"text-align: right;\">\n",
       "      <th></th>\n",
       "      <th>E_CO_total</th>\n",
       "      <th>E_HC_total</th>\n",
       "      <th>E_NOx_total</th>\n",
       "      <th>E_PM10_total</th>\n",
       "      <th>E_PM2_5_total</th>\n",
       "    </tr>\n",
       "  </thead>\n",
       "  <tbody>\n",
       "    <tr>\n",
       "      <th>1149292</th>\n",
       "      <td>49.61</td>\n",
       "      <td>1.57</td>\n",
       "      <td>14.49</td>\n",
       "      <td>0.01</td>\n",
       "      <td>0.01</td>\n",
       "    </tr>\n",
       "    <tr>\n",
       "      <th>1149359</th>\n",
       "      <td>11144.04</td>\n",
       "      <td>176.64</td>\n",
       "      <td>13.94</td>\n",
       "      <td>0.01</td>\n",
       "      <td>0.00</td>\n",
       "    </tr>\n",
       "    <tr>\n",
       "      <th>1149391</th>\n",
       "      <td>14524.82</td>\n",
       "      <td>251.83</td>\n",
       "      <td>13.72</td>\n",
       "      <td>0.01</td>\n",
       "      <td>0.01</td>\n",
       "    </tr>\n",
       "    <tr>\n",
       "      <th>1149399</th>\n",
       "      <td>9813.03</td>\n",
       "      <td>442.94</td>\n",
       "      <td>10.82</td>\n",
       "      <td>0.01</td>\n",
       "      <td>0.01</td>\n",
       "    </tr>\n",
       "    <tr>\n",
       "      <th>1149429</th>\n",
       "      <td>79.57</td>\n",
       "      <td>4.25</td>\n",
       "      <td>16.11</td>\n",
       "      <td>0.01</td>\n",
       "      <td>0.01</td>\n",
       "    </tr>\n",
       "  </tbody>\n",
       "</table>\n",
       "</div>"
      ],
      "text/plain": [
       "         E_CO_total  E_HC_total  E_NOx_total  E_PM10_total  E_PM2_5_total\n",
       "1149292       49.61        1.57        14.49          0.01           0.01\n",
       "1149359    11144.04      176.64        13.94          0.01           0.00\n",
       "1149391    14524.82      251.83        13.72          0.01           0.01\n",
       "1149399     9813.03      442.94        10.82          0.01           0.01\n",
       "1149429       79.57        4.25        16.11          0.01           0.01"
      ]
     },
     "execution_count": 183,
     "metadata": {},
     "output_type": "execute_result"
    }
   ],
   "source": [
    "df2.loc[df2['연료'] == 'LPG(액화석유가스)', check_E_col].head()"
   ]
  },
  {
   "cell_type": "code",
   "execution_count": 184,
   "metadata": {},
   "outputs": [
    {
     "data": {
      "text/html": [
       "<div>\n",
       "<style scoped>\n",
       "    .dataframe tbody tr th:only-of-type {\n",
       "        vertical-align: middle;\n",
       "    }\n",
       "\n",
       "    .dataframe tbody tr th {\n",
       "        vertical-align: top;\n",
       "    }\n",
       "\n",
       "    .dataframe thead th {\n",
       "        text-align: right;\n",
       "    }\n",
       "</style>\n",
       "<table border=\"1\" class=\"dataframe\">\n",
       "  <thead>\n",
       "    <tr style=\"text-align: right;\">\n",
       "      <th></th>\n",
       "      <th>연료</th>\n",
       "      <th>차종</th>\n",
       "      <th>차종유형</th>\n",
       "      <th>연식</th>\n",
       "      <th>차령</th>\n",
       "      <th>E_HOT_CO</th>\n",
       "      <th>E_HOT_HC</th>\n",
       "      <th>E_HOT_NOx</th>\n",
       "      <th>E_HOT_PM10</th>\n",
       "      <th>E_HOT_PM2_5</th>\n",
       "      <th>...</th>\n",
       "      <th>E_COLD_NOx</th>\n",
       "      <th>E_COLD_HC</th>\n",
       "      <th>E_COLD_PM10</th>\n",
       "      <th>E_COLD_PM2_5</th>\n",
       "      <th>E_EVA_VOC</th>\n",
       "      <th>E_CO_total</th>\n",
       "      <th>E_HC_total</th>\n",
       "      <th>E_NOx_total</th>\n",
       "      <th>E_PM10_total</th>\n",
       "      <th>E_PM2_5_total</th>\n",
       "    </tr>\n",
       "  </thead>\n",
       "  <tbody>\n",
       "    <tr>\n",
       "      <th>0</th>\n",
       "      <td>경유</td>\n",
       "      <td>승용</td>\n",
       "      <td>대형</td>\n",
       "      <td>2006</td>\n",
       "      <td>17</td>\n",
       "      <td>0.73</td>\n",
       "      <td>0.20</td>\n",
       "      <td>20.80</td>\n",
       "      <td>0.18</td>\n",
       "      <td>0.17</td>\n",
       "      <td>...</td>\n",
       "      <td>665.21</td>\n",
       "      <td>35.72</td>\n",
       "      <td>28.48</td>\n",
       "      <td>26.20</td>\n",
       "      <td>371.87</td>\n",
       "      <td>71.42</td>\n",
       "      <td>35.91</td>\n",
       "      <td>686.01</td>\n",
       "      <td>28.66</td>\n",
       "      <td>26.37</td>\n",
       "    </tr>\n",
       "    <tr>\n",
       "      <th>1</th>\n",
       "      <td>경유</td>\n",
       "      <td>승용</td>\n",
       "      <td>대형</td>\n",
       "      <td>2006</td>\n",
       "      <td>17</td>\n",
       "      <td>0.74</td>\n",
       "      <td>0.20</td>\n",
       "      <td>21.16</td>\n",
       "      <td>0.18</td>\n",
       "      <td>0.17</td>\n",
       "      <td>...</td>\n",
       "      <td>676.42</td>\n",
       "      <td>36.32</td>\n",
       "      <td>28.96</td>\n",
       "      <td>26.65</td>\n",
       "      <td>372.89</td>\n",
       "      <td>72.62</td>\n",
       "      <td>36.52</td>\n",
       "      <td>697.57</td>\n",
       "      <td>29.15</td>\n",
       "      <td>26.81</td>\n",
       "    </tr>\n",
       "    <tr>\n",
       "      <th>2</th>\n",
       "      <td>경유</td>\n",
       "      <td>승용</td>\n",
       "      <td>대형</td>\n",
       "      <td>2006</td>\n",
       "      <td>17</td>\n",
       "      <td>0.76</td>\n",
       "      <td>0.20</td>\n",
       "      <td>21.62</td>\n",
       "      <td>0.19</td>\n",
       "      <td>0.17</td>\n",
       "      <td>...</td>\n",
       "      <td>691.37</td>\n",
       "      <td>37.12</td>\n",
       "      <td>29.60</td>\n",
       "      <td>27.23</td>\n",
       "      <td>374.25</td>\n",
       "      <td>74.23</td>\n",
       "      <td>37.33</td>\n",
       "      <td>712.99</td>\n",
       "      <td>29.79</td>\n",
       "      <td>27.41</td>\n",
       "    </tr>\n",
       "    <tr>\n",
       "      <th>3</th>\n",
       "      <td>경유</td>\n",
       "      <td>승용</td>\n",
       "      <td>대형</td>\n",
       "      <td>2006</td>\n",
       "      <td>17</td>\n",
       "      <td>0.76</td>\n",
       "      <td>0.20</td>\n",
       "      <td>21.62</td>\n",
       "      <td>0.19</td>\n",
       "      <td>0.17</td>\n",
       "      <td>...</td>\n",
       "      <td>691.37</td>\n",
       "      <td>37.12</td>\n",
       "      <td>29.60</td>\n",
       "      <td>27.23</td>\n",
       "      <td>374.25</td>\n",
       "      <td>74.23</td>\n",
       "      <td>37.33</td>\n",
       "      <td>712.99</td>\n",
       "      <td>29.79</td>\n",
       "      <td>27.41</td>\n",
       "    </tr>\n",
       "    <tr>\n",
       "      <th>4</th>\n",
       "      <td>경유</td>\n",
       "      <td>승용</td>\n",
       "      <td>대형</td>\n",
       "      <td>2006</td>\n",
       "      <td>17</td>\n",
       "      <td>0.74</td>\n",
       "      <td>0.20</td>\n",
       "      <td>21.10</td>\n",
       "      <td>0.18</td>\n",
       "      <td>0.17</td>\n",
       "      <td>...</td>\n",
       "      <td>674.55</td>\n",
       "      <td>36.22</td>\n",
       "      <td>28.88</td>\n",
       "      <td>26.57</td>\n",
       "      <td>372.72</td>\n",
       "      <td>72.42</td>\n",
       "      <td>36.42</td>\n",
       "      <td>695.65</td>\n",
       "      <td>29.07</td>\n",
       "      <td>26.74</td>\n",
       "    </tr>\n",
       "  </tbody>\n",
       "</table>\n",
       "<p>5 rows × 21 columns</p>\n",
       "</div>"
      ],
      "text/plain": [
       "   연료  차종 차종유형    연식  차령  E_HOT_CO  E_HOT_HC  E_HOT_NOx  E_HOT_PM10  \\\n",
       "0  경유  승용   대형  2006  17      0.73      0.20      20.80        0.18   \n",
       "1  경유  승용   대형  2006  17      0.74      0.20      21.16        0.18   \n",
       "2  경유  승용   대형  2006  17      0.76      0.20      21.62        0.19   \n",
       "3  경유  승용   대형  2006  17      0.76      0.20      21.62        0.19   \n",
       "4  경유  승용   대형  2006  17      0.74      0.20      21.10        0.18   \n",
       "\n",
       "   E_HOT_PM2_5  ...  E_COLD_NOx  E_COLD_HC  E_COLD_PM10  E_COLD_PM2_5  \\\n",
       "0         0.17  ...      665.21      35.72        28.48         26.20   \n",
       "1         0.17  ...      676.42      36.32        28.96         26.65   \n",
       "2         0.17  ...      691.37      37.12        29.60         27.23   \n",
       "3         0.17  ...      691.37      37.12        29.60         27.23   \n",
       "4         0.17  ...      674.55      36.22        28.88         26.57   \n",
       "\n",
       "   E_EVA_VOC  E_CO_total  E_HC_total  E_NOx_total  E_PM10_total  E_PM2_5_total  \n",
       "0     371.87       71.42       35.91       686.01         28.66          26.37  \n",
       "1     372.89       72.62       36.52       697.57         29.15          26.81  \n",
       "2     374.25       74.23       37.33       712.99         29.79          27.41  \n",
       "3     374.25       74.23       37.33       712.99         29.79          27.41  \n",
       "4     372.72       72.42       36.42       695.65         29.07          26.74  \n",
       "\n",
       "[5 rows x 21 columns]"
      ]
     },
     "execution_count": 184,
     "metadata": {},
     "output_type": "execute_result"
    }
   ],
   "source": [
    "df2[DF_col + check_E_HOT_col + check_E_cold_col + ['E_EVA_VOC'] + check_E_col].head()"
   ]
  },
  {
   "cell_type": "code",
   "execution_count": 185,
   "metadata": {},
   "outputs": [
    {
     "data": {
      "text/html": [
       "<div>\n",
       "<style scoped>\n",
       "    .dataframe tbody tr th:only-of-type {\n",
       "        vertical-align: middle;\n",
       "    }\n",
       "\n",
       "    .dataframe tbody tr th {\n",
       "        vertical-align: top;\n",
       "    }\n",
       "\n",
       "    .dataframe thead th {\n",
       "        text-align: right;\n",
       "    }\n",
       "</style>\n",
       "<table border=\"1\" class=\"dataframe\">\n",
       "  <thead>\n",
       "    <tr style=\"text-align: right;\">\n",
       "      <th></th>\n",
       "      <th>연료</th>\n",
       "      <th>차종</th>\n",
       "      <th>차종유형</th>\n",
       "      <th>연식</th>\n",
       "      <th>차령</th>\n",
       "      <th>E_HOT_CO</th>\n",
       "      <th>E_HOT_HC</th>\n",
       "      <th>E_HOT_NOx</th>\n",
       "      <th>E_HOT_PM10</th>\n",
       "      <th>E_HOT_PM2_5</th>\n",
       "      <th>E_COLD_CO</th>\n",
       "      <th>E_COLD_NOx</th>\n",
       "      <th>E_COLD_HC</th>\n",
       "      <th>E_COLD_PM10</th>\n",
       "      <th>E_COLD_PM2_5</th>\n",
       "      <th>E_CO_total</th>\n",
       "      <th>E_HC_total</th>\n",
       "      <th>E_NOx_total</th>\n",
       "      <th>E_PM10_total</th>\n",
       "      <th>E_PM2_5_total</th>\n",
       "    </tr>\n",
       "  </thead>\n",
       "  <tbody>\n",
       "    <tr>\n",
       "      <th>0</th>\n",
       "      <td>경유</td>\n",
       "      <td>승용</td>\n",
       "      <td>대형</td>\n",
       "      <td>2006</td>\n",
       "      <td>17</td>\n",
       "      <td>0.73</td>\n",
       "      <td>0.20</td>\n",
       "      <td>20.80</td>\n",
       "      <td>0.18</td>\n",
       "      <td>0.17</td>\n",
       "      <td>70.69</td>\n",
       "      <td>665.21</td>\n",
       "      <td>35.72</td>\n",
       "      <td>28.48</td>\n",
       "      <td>26.20</td>\n",
       "      <td>71.42</td>\n",
       "      <td>35.91</td>\n",
       "      <td>686.01</td>\n",
       "      <td>28.66</td>\n",
       "      <td>26.37</td>\n",
       "    </tr>\n",
       "    <tr>\n",
       "      <th>1</th>\n",
       "      <td>경유</td>\n",
       "      <td>승용</td>\n",
       "      <td>대형</td>\n",
       "      <td>2006</td>\n",
       "      <td>17</td>\n",
       "      <td>0.74</td>\n",
       "      <td>0.20</td>\n",
       "      <td>21.16</td>\n",
       "      <td>0.18</td>\n",
       "      <td>0.17</td>\n",
       "      <td>71.88</td>\n",
       "      <td>676.42</td>\n",
       "      <td>36.32</td>\n",
       "      <td>28.96</td>\n",
       "      <td>26.65</td>\n",
       "      <td>72.62</td>\n",
       "      <td>36.52</td>\n",
       "      <td>697.57</td>\n",
       "      <td>29.15</td>\n",
       "      <td>26.81</td>\n",
       "    </tr>\n",
       "    <tr>\n",
       "      <th>2</th>\n",
       "      <td>경유</td>\n",
       "      <td>승용</td>\n",
       "      <td>대형</td>\n",
       "      <td>2006</td>\n",
       "      <td>17</td>\n",
       "      <td>0.76</td>\n",
       "      <td>0.20</td>\n",
       "      <td>21.62</td>\n",
       "      <td>0.19</td>\n",
       "      <td>0.17</td>\n",
       "      <td>73.47</td>\n",
       "      <td>691.37</td>\n",
       "      <td>37.12</td>\n",
       "      <td>29.60</td>\n",
       "      <td>27.23</td>\n",
       "      <td>74.23</td>\n",
       "      <td>37.33</td>\n",
       "      <td>712.99</td>\n",
       "      <td>29.79</td>\n",
       "      <td>27.41</td>\n",
       "    </tr>\n",
       "    <tr>\n",
       "      <th>3</th>\n",
       "      <td>경유</td>\n",
       "      <td>승용</td>\n",
       "      <td>대형</td>\n",
       "      <td>2006</td>\n",
       "      <td>17</td>\n",
       "      <td>0.76</td>\n",
       "      <td>0.20</td>\n",
       "      <td>21.62</td>\n",
       "      <td>0.19</td>\n",
       "      <td>0.17</td>\n",
       "      <td>73.47</td>\n",
       "      <td>691.37</td>\n",
       "      <td>37.12</td>\n",
       "      <td>29.60</td>\n",
       "      <td>27.23</td>\n",
       "      <td>74.23</td>\n",
       "      <td>37.33</td>\n",
       "      <td>712.99</td>\n",
       "      <td>29.79</td>\n",
       "      <td>27.41</td>\n",
       "    </tr>\n",
       "    <tr>\n",
       "      <th>4</th>\n",
       "      <td>경유</td>\n",
       "      <td>승용</td>\n",
       "      <td>대형</td>\n",
       "      <td>2006</td>\n",
       "      <td>17</td>\n",
       "      <td>0.74</td>\n",
       "      <td>0.20</td>\n",
       "      <td>21.10</td>\n",
       "      <td>0.18</td>\n",
       "      <td>0.17</td>\n",
       "      <td>71.69</td>\n",
       "      <td>674.55</td>\n",
       "      <td>36.22</td>\n",
       "      <td>28.88</td>\n",
       "      <td>26.57</td>\n",
       "      <td>72.42</td>\n",
       "      <td>36.42</td>\n",
       "      <td>695.65</td>\n",
       "      <td>29.07</td>\n",
       "      <td>26.74</td>\n",
       "    </tr>\n",
       "  </tbody>\n",
       "</table>\n",
       "</div>"
      ],
      "text/plain": [
       "   연료  차종 차종유형    연식  차령  E_HOT_CO  E_HOT_HC  E_HOT_NOx  E_HOT_PM10  \\\n",
       "0  경유  승용   대형  2006  17      0.73      0.20      20.80        0.18   \n",
       "1  경유  승용   대형  2006  17      0.74      0.20      21.16        0.18   \n",
       "2  경유  승용   대형  2006  17      0.76      0.20      21.62        0.19   \n",
       "3  경유  승용   대형  2006  17      0.76      0.20      21.62        0.19   \n",
       "4  경유  승용   대형  2006  17      0.74      0.20      21.10        0.18   \n",
       "\n",
       "   E_HOT_PM2_5  E_COLD_CO  E_COLD_NOx  E_COLD_HC  E_COLD_PM10  E_COLD_PM2_5  \\\n",
       "0         0.17      70.69      665.21      35.72        28.48         26.20   \n",
       "1         0.17      71.88      676.42      36.32        28.96         26.65   \n",
       "2         0.17      73.47      691.37      37.12        29.60         27.23   \n",
       "3         0.17      73.47      691.37      37.12        29.60         27.23   \n",
       "4         0.17      71.69      674.55      36.22        28.88         26.57   \n",
       "\n",
       "   E_CO_total  E_HC_total  E_NOx_total  E_PM10_total  E_PM2_5_total  \n",
       "0       71.42       35.91       686.01         28.66          26.37  \n",
       "1       72.62       36.52       697.57         29.15          26.81  \n",
       "2       74.23       37.33       712.99         29.79          27.41  \n",
       "3       74.23       37.33       712.99         29.79          27.41  \n",
       "4       72.42       36.42       695.65         29.07          26.74  "
      ]
     },
     "execution_count": 185,
     "metadata": {},
     "output_type": "execute_result"
    }
   ],
   "source": [
    "df2[DF_col + check_E_HOT_col + check_E_cold_col + check_E_col].head()"
   ]
  },
  {
   "cell_type": "code",
   "execution_count": 186,
   "metadata": {},
   "outputs": [
    {
     "data": {
      "text/html": [
       "<div>\n",
       "<style scoped>\n",
       "    .dataframe tbody tr th:only-of-type {\n",
       "        vertical-align: middle;\n",
       "    }\n",
       "\n",
       "    .dataframe tbody tr th {\n",
       "        vertical-align: top;\n",
       "    }\n",
       "\n",
       "    .dataframe thead th {\n",
       "        text-align: right;\n",
       "    }\n",
       "</style>\n",
       "<table border=\"1\" class=\"dataframe\">\n",
       "  <thead>\n",
       "    <tr style=\"text-align: right;\">\n",
       "      <th></th>\n",
       "      <th>연료</th>\n",
       "      <th>차종</th>\n",
       "      <th>차종유형</th>\n",
       "      <th>연식</th>\n",
       "      <th>차령</th>\n",
       "      <th>E_HOT_CO</th>\n",
       "      <th>E_HOT_HC</th>\n",
       "      <th>E_HOT_NOx</th>\n",
       "      <th>E_HOT_PM10</th>\n",
       "      <th>E_HOT_PM2_5</th>\n",
       "      <th>E_COLD_CO</th>\n",
       "      <th>E_COLD_NOx</th>\n",
       "      <th>E_COLD_HC</th>\n",
       "      <th>E_COLD_PM10</th>\n",
       "      <th>E_COLD_PM2_5</th>\n",
       "      <th>E_CO_total</th>\n",
       "      <th>E_HC_total</th>\n",
       "      <th>E_NOx_total</th>\n",
       "      <th>E_PM10_total</th>\n",
       "      <th>E_PM2_5_total</th>\n",
       "    </tr>\n",
       "  </thead>\n",
       "  <tbody>\n",
       "    <tr>\n",
       "      <th>1497703</th>\n",
       "      <td>휘발유</td>\n",
       "      <td>승용</td>\n",
       "      <td>중형</td>\n",
       "      <td>1989</td>\n",
       "      <td>34</td>\n",
       "      <td>48.45</td>\n",
       "      <td>6.74</td>\n",
       "      <td>11.46</td>\n",
       "      <td>0.01</td>\n",
       "      <td>0.01</td>\n",
       "      <td>10608.08</td>\n",
       "      <td>103.89</td>\n",
       "      <td>984.00</td>\n",
       "      <td>0.00</td>\n",
       "      <td>0.00</td>\n",
       "      <td>10656.53</td>\n",
       "      <td>3199.49</td>\n",
       "      <td>115.35</td>\n",
       "      <td>0.01</td>\n",
       "      <td>0.01</td>\n",
       "    </tr>\n",
       "    <tr>\n",
       "      <th>1497704</th>\n",
       "      <td>휘발유</td>\n",
       "      <td>승용</td>\n",
       "      <td>소형</td>\n",
       "      <td>1988</td>\n",
       "      <td>35</td>\n",
       "      <td>47.05</td>\n",
       "      <td>6.55</td>\n",
       "      <td>11.13</td>\n",
       "      <td>0.01</td>\n",
       "      <td>0.01</td>\n",
       "      <td>10300.19</td>\n",
       "      <td>100.88</td>\n",
       "      <td>955.44</td>\n",
       "      <td>0.00</td>\n",
       "      <td>0.00</td>\n",
       "      <td>10347.24</td>\n",
       "      <td>3151.80</td>\n",
       "      <td>112.00</td>\n",
       "      <td>0.01</td>\n",
       "      <td>0.01</td>\n",
       "    </tr>\n",
       "    <tr>\n",
       "      <th>1497705</th>\n",
       "      <td>휘발유</td>\n",
       "      <td>승용</td>\n",
       "      <td>중형</td>\n",
       "      <td>1989</td>\n",
       "      <td>34</td>\n",
       "      <td>47.81</td>\n",
       "      <td>6.65</td>\n",
       "      <td>11.31</td>\n",
       "      <td>0.01</td>\n",
       "      <td>0.01</td>\n",
       "      <td>10468.13</td>\n",
       "      <td>102.52</td>\n",
       "      <td>971.02</td>\n",
       "      <td>0.00</td>\n",
       "      <td>0.00</td>\n",
       "      <td>10515.94</td>\n",
       "      <td>3177.82</td>\n",
       "      <td>113.83</td>\n",
       "      <td>0.01</td>\n",
       "      <td>0.01</td>\n",
       "    </tr>\n",
       "    <tr>\n",
       "      <th>1497706</th>\n",
       "      <td>휘발유</td>\n",
       "      <td>승용</td>\n",
       "      <td>중형</td>\n",
       "      <td>1989</td>\n",
       "      <td>34</td>\n",
       "      <td>46.66</td>\n",
       "      <td>6.49</td>\n",
       "      <td>11.04</td>\n",
       "      <td>0.01</td>\n",
       "      <td>0.01</td>\n",
       "      <td>10216.22</td>\n",
       "      <td>100.06</td>\n",
       "      <td>947.65</td>\n",
       "      <td>0.00</td>\n",
       "      <td>0.00</td>\n",
       "      <td>10262.89</td>\n",
       "      <td>3138.80</td>\n",
       "      <td>111.09</td>\n",
       "      <td>0.01</td>\n",
       "      <td>0.01</td>\n",
       "    </tr>\n",
       "    <tr>\n",
       "      <th>1497707</th>\n",
       "      <td>휘발유</td>\n",
       "      <td>승용</td>\n",
       "      <td>중형</td>\n",
       "      <td>1989</td>\n",
       "      <td>34</td>\n",
       "      <td>46.28</td>\n",
       "      <td>6.44</td>\n",
       "      <td>10.94</td>\n",
       "      <td>0.01</td>\n",
       "      <td>0.01</td>\n",
       "      <td>10132.25</td>\n",
       "      <td>99.23</td>\n",
       "      <td>939.86</td>\n",
       "      <td>0.00</td>\n",
       "      <td>0.00</td>\n",
       "      <td>10178.53</td>\n",
       "      <td>3125.79</td>\n",
       "      <td>110.18</td>\n",
       "      <td>0.01</td>\n",
       "      <td>0.01</td>\n",
       "    </tr>\n",
       "  </tbody>\n",
       "</table>\n",
       "</div>"
      ],
      "text/plain": [
       "          연료  차종 차종유형    연식  차령  E_HOT_CO  E_HOT_HC  E_HOT_NOx  E_HOT_PM10  \\\n",
       "1497703  휘발유  승용   중형  1989  34     48.45      6.74      11.46        0.01   \n",
       "1497704  휘발유  승용   소형  1988  35     47.05      6.55      11.13        0.01   \n",
       "1497705  휘발유  승용   중형  1989  34     47.81      6.65      11.31        0.01   \n",
       "1497706  휘발유  승용   중형  1989  34     46.66      6.49      11.04        0.01   \n",
       "1497707  휘발유  승용   중형  1989  34     46.28      6.44      10.94        0.01   \n",
       "\n",
       "         E_HOT_PM2_5  E_COLD_CO  E_COLD_NOx  E_COLD_HC  E_COLD_PM10  \\\n",
       "1497703         0.01   10608.08      103.89     984.00         0.00   \n",
       "1497704         0.01   10300.19      100.88     955.44         0.00   \n",
       "1497705         0.01   10468.13      102.52     971.02         0.00   \n",
       "1497706         0.01   10216.22      100.06     947.65         0.00   \n",
       "1497707         0.01   10132.25       99.23     939.86         0.00   \n",
       "\n",
       "         E_COLD_PM2_5  E_CO_total  E_HC_total  E_NOx_total  E_PM10_total  \\\n",
       "1497703          0.00    10656.53     3199.49       115.35          0.01   \n",
       "1497704          0.00    10347.24     3151.80       112.00          0.01   \n",
       "1497705          0.00    10515.94     3177.82       113.83          0.01   \n",
       "1497706          0.00    10262.89     3138.80       111.09          0.01   \n",
       "1497707          0.00    10178.53     3125.79       110.18          0.01   \n",
       "\n",
       "         E_PM2_5_total  \n",
       "1497703           0.01  \n",
       "1497704           0.01  \n",
       "1497705           0.01  \n",
       "1497706           0.01  \n",
       "1497707           0.01  "
      ]
     },
     "execution_count": 186,
     "metadata": {},
     "output_type": "execute_result"
    }
   ],
   "source": [
    "df2[DF_col + check_E_HOT_col + check_E_cold_col + check_E_col].tail()"
   ]
  },
  {
   "cell_type": "code",
   "execution_count": 187,
   "metadata": {},
   "outputs": [
    {
     "data": {
      "text/html": [
       "<div>\n",
       "<style scoped>\n",
       "    .dataframe tbody tr th:only-of-type {\n",
       "        vertical-align: middle;\n",
       "    }\n",
       "\n",
       "    .dataframe tbody tr th {\n",
       "        vertical-align: top;\n",
       "    }\n",
       "\n",
       "    .dataframe thead th {\n",
       "        text-align: right;\n",
       "    }\n",
       "</style>\n",
       "<table border=\"1\" class=\"dataframe\">\n",
       "  <thead>\n",
       "    <tr style=\"text-align: right;\">\n",
       "      <th></th>\n",
       "      <th>연료</th>\n",
       "      <th>차종</th>\n",
       "      <th>차종유형</th>\n",
       "      <th>연식</th>\n",
       "      <th>차령</th>\n",
       "      <th>E_HOT_CO</th>\n",
       "      <th>E_HOT_HC</th>\n",
       "      <th>E_HOT_NOx</th>\n",
       "      <th>E_HOT_PM10</th>\n",
       "      <th>E_HOT_PM2_5</th>\n",
       "      <th>E_COLD_CO</th>\n",
       "      <th>E_COLD_NOx</th>\n",
       "      <th>E_COLD_HC</th>\n",
       "      <th>E_COLD_PM10</th>\n",
       "      <th>E_COLD_PM2_5</th>\n",
       "      <th>E_CO_total</th>\n",
       "      <th>E_HC_total</th>\n",
       "      <th>E_NOx_total</th>\n",
       "      <th>E_PM10_total</th>\n",
       "      <th>E_PM2_5_total</th>\n",
       "    </tr>\n",
       "  </thead>\n",
       "  <tbody>\n",
       "    <tr>\n",
       "      <th>0</th>\n",
       "      <td>경유</td>\n",
       "      <td>승용</td>\n",
       "      <td>대형</td>\n",
       "      <td>2006</td>\n",
       "      <td>17</td>\n",
       "      <td>0.73</td>\n",
       "      <td>0.20</td>\n",
       "      <td>20.80</td>\n",
       "      <td>0.18</td>\n",
       "      <td>0.17</td>\n",
       "      <td>70.69</td>\n",
       "      <td>665.21</td>\n",
       "      <td>35.72</td>\n",
       "      <td>28.48</td>\n",
       "      <td>26.20</td>\n",
       "      <td>71.42</td>\n",
       "      <td>35.91</td>\n",
       "      <td>686.01</td>\n",
       "      <td>28.66</td>\n",
       "      <td>26.37</td>\n",
       "    </tr>\n",
       "    <tr>\n",
       "      <th>1</th>\n",
       "      <td>경유</td>\n",
       "      <td>승용</td>\n",
       "      <td>대형</td>\n",
       "      <td>2006</td>\n",
       "      <td>17</td>\n",
       "      <td>0.74</td>\n",
       "      <td>0.20</td>\n",
       "      <td>21.16</td>\n",
       "      <td>0.18</td>\n",
       "      <td>0.17</td>\n",
       "      <td>71.88</td>\n",
       "      <td>676.42</td>\n",
       "      <td>36.32</td>\n",
       "      <td>28.96</td>\n",
       "      <td>26.65</td>\n",
       "      <td>72.62</td>\n",
       "      <td>36.52</td>\n",
       "      <td>697.57</td>\n",
       "      <td>29.15</td>\n",
       "      <td>26.81</td>\n",
       "    </tr>\n",
       "    <tr>\n",
       "      <th>2</th>\n",
       "      <td>경유</td>\n",
       "      <td>승용</td>\n",
       "      <td>대형</td>\n",
       "      <td>2006</td>\n",
       "      <td>17</td>\n",
       "      <td>0.76</td>\n",
       "      <td>0.20</td>\n",
       "      <td>21.62</td>\n",
       "      <td>0.19</td>\n",
       "      <td>0.17</td>\n",
       "      <td>73.47</td>\n",
       "      <td>691.37</td>\n",
       "      <td>37.12</td>\n",
       "      <td>29.60</td>\n",
       "      <td>27.23</td>\n",
       "      <td>74.23</td>\n",
       "      <td>37.33</td>\n",
       "      <td>712.99</td>\n",
       "      <td>29.79</td>\n",
       "      <td>27.41</td>\n",
       "    </tr>\n",
       "    <tr>\n",
       "      <th>3</th>\n",
       "      <td>경유</td>\n",
       "      <td>승용</td>\n",
       "      <td>대형</td>\n",
       "      <td>2006</td>\n",
       "      <td>17</td>\n",
       "      <td>0.76</td>\n",
       "      <td>0.20</td>\n",
       "      <td>21.62</td>\n",
       "      <td>0.19</td>\n",
       "      <td>0.17</td>\n",
       "      <td>73.47</td>\n",
       "      <td>691.37</td>\n",
       "      <td>37.12</td>\n",
       "      <td>29.60</td>\n",
       "      <td>27.23</td>\n",
       "      <td>74.23</td>\n",
       "      <td>37.33</td>\n",
       "      <td>712.99</td>\n",
       "      <td>29.79</td>\n",
       "      <td>27.41</td>\n",
       "    </tr>\n",
       "    <tr>\n",
       "      <th>4</th>\n",
       "      <td>경유</td>\n",
       "      <td>승용</td>\n",
       "      <td>대형</td>\n",
       "      <td>2006</td>\n",
       "      <td>17</td>\n",
       "      <td>0.74</td>\n",
       "      <td>0.20</td>\n",
       "      <td>21.10</td>\n",
       "      <td>0.18</td>\n",
       "      <td>0.17</td>\n",
       "      <td>71.69</td>\n",
       "      <td>674.55</td>\n",
       "      <td>36.22</td>\n",
       "      <td>28.88</td>\n",
       "      <td>26.57</td>\n",
       "      <td>72.42</td>\n",
       "      <td>36.42</td>\n",
       "      <td>695.65</td>\n",
       "      <td>29.07</td>\n",
       "      <td>26.74</td>\n",
       "    </tr>\n",
       "  </tbody>\n",
       "</table>\n",
       "</div>"
      ],
      "text/plain": [
       "   연료  차종 차종유형    연식  차령  E_HOT_CO  E_HOT_HC  E_HOT_NOx  E_HOT_PM10  \\\n",
       "0  경유  승용   대형  2006  17      0.73      0.20      20.80        0.18   \n",
       "1  경유  승용   대형  2006  17      0.74      0.20      21.16        0.18   \n",
       "2  경유  승용   대형  2006  17      0.76      0.20      21.62        0.19   \n",
       "3  경유  승용   대형  2006  17      0.76      0.20      21.62        0.19   \n",
       "4  경유  승용   대형  2006  17      0.74      0.20      21.10        0.18   \n",
       "\n",
       "   E_HOT_PM2_5  E_COLD_CO  E_COLD_NOx  E_COLD_HC  E_COLD_PM10  E_COLD_PM2_5  \\\n",
       "0         0.17      70.69      665.21      35.72        28.48         26.20   \n",
       "1         0.17      71.88      676.42      36.32        28.96         26.65   \n",
       "2         0.17      73.47      691.37      37.12        29.60         27.23   \n",
       "3         0.17      73.47      691.37      37.12        29.60         27.23   \n",
       "4         0.17      71.69      674.55      36.22        28.88         26.57   \n",
       "\n",
       "   E_CO_total  E_HC_total  E_NOx_total  E_PM10_total  E_PM2_5_total  \n",
       "0       71.42       35.91       686.01         28.66          26.37  \n",
       "1       72.62       36.52       697.57         29.15          26.81  \n",
       "2       74.23       37.33       712.99         29.79          27.41  \n",
       "3       74.23       37.33       712.99         29.79          27.41  \n",
       "4       72.42       36.42       695.65         29.07          26.74  "
      ]
     },
     "execution_count": 187,
     "metadata": {},
     "output_type": "execute_result"
    }
   ],
   "source": [
    "df2.loc[(df2['연료'] == '경유') & (df2['차종'] == '승용'), DF_col + check_E_HOT_col + check_E_cold_col + check_E_col].head()"
   ]
  },
  {
   "cell_type": "code",
   "execution_count": 188,
   "metadata": {},
   "outputs": [
    {
     "data": {
      "text/html": [
       "<div>\n",
       "<style scoped>\n",
       "    .dataframe tbody tr th:only-of-type {\n",
       "        vertical-align: middle;\n",
       "    }\n",
       "\n",
       "    .dataframe tbody tr th {\n",
       "        vertical-align: top;\n",
       "    }\n",
       "\n",
       "    .dataframe thead th {\n",
       "        text-align: right;\n",
       "    }\n",
       "</style>\n",
       "<table border=\"1\" class=\"dataframe\">\n",
       "  <thead>\n",
       "    <tr style=\"text-align: right;\">\n",
       "      <th></th>\n",
       "      <th>연료</th>\n",
       "      <th>차종</th>\n",
       "      <th>차종유형</th>\n",
       "      <th>연식</th>\n",
       "      <th>차령</th>\n",
       "      <th>E_HOT_CO</th>\n",
       "      <th>E_HOT_HC</th>\n",
       "      <th>E_HOT_NOx</th>\n",
       "      <th>E_HOT_PM10</th>\n",
       "      <th>E_HOT_PM2_5</th>\n",
       "      <th>E_COLD_CO</th>\n",
       "      <th>E_COLD_NOx</th>\n",
       "      <th>E_COLD_HC</th>\n",
       "      <th>E_COLD_PM10</th>\n",
       "      <th>E_COLD_PM2_5</th>\n",
       "      <th>E_CO_total</th>\n",
       "      <th>E_HC_total</th>\n",
       "      <th>E_NOx_total</th>\n",
       "      <th>E_PM10_total</th>\n",
       "      <th>E_PM2_5_total</th>\n",
       "    </tr>\n",
       "  </thead>\n",
       "  <tbody>\n",
       "    <tr>\n",
       "      <th>227627</th>\n",
       "      <td>경유</td>\n",
       "      <td>화물</td>\n",
       "      <td>대형</td>\n",
       "      <td>2009</td>\n",
       "      <td>14</td>\n",
       "      <td>0.07</td>\n",
       "      <td>0.33</td>\n",
       "      <td>142.00</td>\n",
       "      <td>0.17</td>\n",
       "      <td>0.16</td>\n",
       "      <td>0.00</td>\n",
       "      <td>0.00</td>\n",
       "      <td>0.00</td>\n",
       "      <td>0.00</td>\n",
       "      <td>0.00</td>\n",
       "      <td>0.07</td>\n",
       "      <td>0.33</td>\n",
       "      <td>142.00</td>\n",
       "      <td>0.17</td>\n",
       "      <td>0.16</td>\n",
       "    </tr>\n",
       "    <tr>\n",
       "      <th>227628</th>\n",
       "      <td>경유</td>\n",
       "      <td>화물</td>\n",
       "      <td>대형</td>\n",
       "      <td>2010</td>\n",
       "      <td>13</td>\n",
       "      <td>0.09</td>\n",
       "      <td>0.39</td>\n",
       "      <td>169.84</td>\n",
       "      <td>0.20</td>\n",
       "      <td>0.19</td>\n",
       "      <td>0.00</td>\n",
       "      <td>0.00</td>\n",
       "      <td>0.00</td>\n",
       "      <td>0.00</td>\n",
       "      <td>0.00</td>\n",
       "      <td>0.09</td>\n",
       "      <td>0.39</td>\n",
       "      <td>169.84</td>\n",
       "      <td>0.20</td>\n",
       "      <td>0.19</td>\n",
       "    </tr>\n",
       "    <tr>\n",
       "      <th>227629</th>\n",
       "      <td>경유</td>\n",
       "      <td>화물</td>\n",
       "      <td>대형</td>\n",
       "      <td>2009</td>\n",
       "      <td>14</td>\n",
       "      <td>0.08</td>\n",
       "      <td>0.34</td>\n",
       "      <td>146.47</td>\n",
       "      <td>0.18</td>\n",
       "      <td>0.16</td>\n",
       "      <td>0.00</td>\n",
       "      <td>0.00</td>\n",
       "      <td>0.00</td>\n",
       "      <td>0.00</td>\n",
       "      <td>0.00</td>\n",
       "      <td>0.08</td>\n",
       "      <td>0.34</td>\n",
       "      <td>146.47</td>\n",
       "      <td>0.18</td>\n",
       "      <td>0.16</td>\n",
       "    </tr>\n",
       "    <tr>\n",
       "      <th>227630</th>\n",
       "      <td>경유</td>\n",
       "      <td>화물</td>\n",
       "      <td>대형</td>\n",
       "      <td>2011</td>\n",
       "      <td>12</td>\n",
       "      <td>0.21</td>\n",
       "      <td>0.14</td>\n",
       "      <td>102.98</td>\n",
       "      <td>0.14</td>\n",
       "      <td>0.13</td>\n",
       "      <td>0.00</td>\n",
       "      <td>0.00</td>\n",
       "      <td>0.00</td>\n",
       "      <td>0.00</td>\n",
       "      <td>0.00</td>\n",
       "      <td>0.21</td>\n",
       "      <td>0.14</td>\n",
       "      <td>102.98</td>\n",
       "      <td>0.14</td>\n",
       "      <td>0.13</td>\n",
       "    </tr>\n",
       "    <tr>\n",
       "      <th>227631</th>\n",
       "      <td>경유</td>\n",
       "      <td>화물</td>\n",
       "      <td>대형</td>\n",
       "      <td>2009</td>\n",
       "      <td>14</td>\n",
       "      <td>0.06</td>\n",
       "      <td>0.25</td>\n",
       "      <td>108.08</td>\n",
       "      <td>0.13</td>\n",
       "      <td>0.12</td>\n",
       "      <td>0.00</td>\n",
       "      <td>0.00</td>\n",
       "      <td>0.00</td>\n",
       "      <td>0.00</td>\n",
       "      <td>0.00</td>\n",
       "      <td>0.06</td>\n",
       "      <td>0.25</td>\n",
       "      <td>108.08</td>\n",
       "      <td>0.13</td>\n",
       "      <td>0.12</td>\n",
       "    </tr>\n",
       "  </tbody>\n",
       "</table>\n",
       "</div>"
      ],
      "text/plain": [
       "        연료  차종 차종유형    연식  차령  E_HOT_CO  E_HOT_HC  E_HOT_NOx  E_HOT_PM10  \\\n",
       "227627  경유  화물   대형  2009  14      0.07      0.33     142.00        0.17   \n",
       "227628  경유  화물   대형  2010  13      0.09      0.39     169.84        0.20   \n",
       "227629  경유  화물   대형  2009  14      0.08      0.34     146.47        0.18   \n",
       "227630  경유  화물   대형  2011  12      0.21      0.14     102.98        0.14   \n",
       "227631  경유  화물   대형  2009  14      0.06      0.25     108.08        0.13   \n",
       "\n",
       "        E_HOT_PM2_5  E_COLD_CO  E_COLD_NOx  E_COLD_HC  E_COLD_PM10  \\\n",
       "227627         0.16       0.00        0.00       0.00         0.00   \n",
       "227628         0.19       0.00        0.00       0.00         0.00   \n",
       "227629         0.16       0.00        0.00       0.00         0.00   \n",
       "227630         0.13       0.00        0.00       0.00         0.00   \n",
       "227631         0.12       0.00        0.00       0.00         0.00   \n",
       "\n",
       "        E_COLD_PM2_5  E_CO_total  E_HC_total  E_NOx_total  E_PM10_total  \\\n",
       "227627          0.00        0.07        0.33       142.00          0.17   \n",
       "227628          0.00        0.09        0.39       169.84          0.20   \n",
       "227629          0.00        0.08        0.34       146.47          0.18   \n",
       "227630          0.00        0.21        0.14       102.98          0.14   \n",
       "227631          0.00        0.06        0.25       108.08          0.13   \n",
       "\n",
       "        E_PM2_5_total  \n",
       "227627           0.16  \n",
       "227628           0.19  \n",
       "227629           0.16  \n",
       "227630           0.13  \n",
       "227631           0.12  "
      ]
     },
     "execution_count": 188,
     "metadata": {},
     "output_type": "execute_result"
    }
   ],
   "source": [
    "df2.loc[(df2['연료'] == '경유') & (df2['차종'] == '화물'), DF_col + check_E_HOT_col + check_E_cold_col + check_E_col].head()"
   ]
  },
  {
   "cell_type": "code",
   "execution_count": 189,
   "metadata": {},
   "outputs": [
    {
     "data": {
      "text/html": [
       "<div>\n",
       "<style scoped>\n",
       "    .dataframe tbody tr th:only-of-type {\n",
       "        vertical-align: middle;\n",
       "    }\n",
       "\n",
       "    .dataframe tbody tr th {\n",
       "        vertical-align: top;\n",
       "    }\n",
       "\n",
       "    .dataframe thead th {\n",
       "        text-align: right;\n",
       "    }\n",
       "</style>\n",
       "<table border=\"1\" class=\"dataframe\">\n",
       "  <thead>\n",
       "    <tr style=\"text-align: right;\">\n",
       "      <th></th>\n",
       "      <th>연료</th>\n",
       "      <th>차종</th>\n",
       "      <th>차종유형</th>\n",
       "      <th>연식</th>\n",
       "      <th>차령</th>\n",
       "      <th>E_HOT_CO</th>\n",
       "      <th>E_HOT_HC</th>\n",
       "      <th>E_HOT_NOx</th>\n",
       "      <th>E_HOT_PM10</th>\n",
       "      <th>E_HOT_PM2_5</th>\n",
       "      <th>...</th>\n",
       "      <th>E_COLD_NOx</th>\n",
       "      <th>E_COLD_HC</th>\n",
       "      <th>E_COLD_PM10</th>\n",
       "      <th>E_COLD_PM2_5</th>\n",
       "      <th>E_EVA_VOC</th>\n",
       "      <th>E_CO_total</th>\n",
       "      <th>E_HC_total</th>\n",
       "      <th>E_NOx_total</th>\n",
       "      <th>E_PM10_total</th>\n",
       "      <th>E_PM2_5_total</th>\n",
       "    </tr>\n",
       "  </thead>\n",
       "  <tbody>\n",
       "    <tr>\n",
       "      <th>1149289</th>\n",
       "      <td>휘발유</td>\n",
       "      <td>승용</td>\n",
       "      <td>소형</td>\n",
       "      <td>2001</td>\n",
       "      <td>22</td>\n",
       "      <td>14.62</td>\n",
       "      <td>0.61</td>\n",
       "      <td>6.56</td>\n",
       "      <td>0.01</td>\n",
       "      <td>0.01</td>\n",
       "      <td>...</td>\n",
       "      <td>2342.83</td>\n",
       "      <td>908.62</td>\n",
       "      <td>0.00</td>\n",
       "      <td>0.00</td>\n",
       "      <td>368.12</td>\n",
       "      <td>14001.37</td>\n",
       "      <td>1277.35</td>\n",
       "      <td>2349.39</td>\n",
       "      <td>0.01</td>\n",
       "      <td>0.01</td>\n",
       "    </tr>\n",
       "    <tr>\n",
       "      <th>1149290</th>\n",
       "      <td>휘발유</td>\n",
       "      <td>승용</td>\n",
       "      <td>대형</td>\n",
       "      <td>1999</td>\n",
       "      <td>24</td>\n",
       "      <td>34.90</td>\n",
       "      <td>2.63</td>\n",
       "      <td>10.86</td>\n",
       "      <td>0.01</td>\n",
       "      <td>0.01</td>\n",
       "      <td>...</td>\n",
       "      <td>3880.49</td>\n",
       "      <td>3936.10</td>\n",
       "      <td>0.00</td>\n",
       "      <td>0.00</td>\n",
       "      <td>382.07</td>\n",
       "      <td>33430.82</td>\n",
       "      <td>4320.80</td>\n",
       "      <td>3891.35</td>\n",
       "      <td>0.01</td>\n",
       "      <td>0.01</td>\n",
       "    </tr>\n",
       "    <tr>\n",
       "      <th>1149291</th>\n",
       "      <td>휘발유</td>\n",
       "      <td>승용</td>\n",
       "      <td>소형</td>\n",
       "      <td>1991</td>\n",
       "      <td>32</td>\n",
       "      <td>32.75</td>\n",
       "      <td>3.32</td>\n",
       "      <td>10.60</td>\n",
       "      <td>0.01</td>\n",
       "      <td>0.01</td>\n",
       "      <td>...</td>\n",
       "      <td>3787.21</td>\n",
       "      <td>4976.74</td>\n",
       "      <td>0.00</td>\n",
       "      <td>0.00</td>\n",
       "      <td>380.37</td>\n",
       "      <td>31371.83</td>\n",
       "      <td>5360.43</td>\n",
       "      <td>3797.80</td>\n",
       "      <td>0.01</td>\n",
       "      <td>0.01</td>\n",
       "    </tr>\n",
       "    <tr>\n",
       "      <th>1149293</th>\n",
       "      <td>휘발유</td>\n",
       "      <td>승용</td>\n",
       "      <td>중형</td>\n",
       "      <td>1999</td>\n",
       "      <td>24</td>\n",
       "      <td>30.53</td>\n",
       "      <td>2.30</td>\n",
       "      <td>9.50</td>\n",
       "      <td>0.01</td>\n",
       "      <td>0.01</td>\n",
       "      <td>...</td>\n",
       "      <td>3395.43</td>\n",
       "      <td>3444.09</td>\n",
       "      <td>0.00</td>\n",
       "      <td>0.00</td>\n",
       "      <td>373.23</td>\n",
       "      <td>29251.97</td>\n",
       "      <td>3819.61</td>\n",
       "      <td>3404.93</td>\n",
       "      <td>0.01</td>\n",
       "      <td>0.01</td>\n",
       "    </tr>\n",
       "    <tr>\n",
       "      <th>1149294</th>\n",
       "      <td>휘발유</td>\n",
       "      <td>승용</td>\n",
       "      <td>중형</td>\n",
       "      <td>1995</td>\n",
       "      <td>28</td>\n",
       "      <td>30.03</td>\n",
       "      <td>2.26</td>\n",
       "      <td>9.34</td>\n",
       "      <td>0.01</td>\n",
       "      <td>0.01</td>\n",
       "      <td>...</td>\n",
       "      <td>3339.46</td>\n",
       "      <td>3387.31</td>\n",
       "      <td>0.00</td>\n",
       "      <td>0.00</td>\n",
       "      <td>372.21</td>\n",
       "      <td>28769.79</td>\n",
       "      <td>3761.78</td>\n",
       "      <td>3348.80</td>\n",
       "      <td>0.01</td>\n",
       "      <td>0.01</td>\n",
       "    </tr>\n",
       "  </tbody>\n",
       "</table>\n",
       "<p>5 rows × 21 columns</p>\n",
       "</div>"
      ],
      "text/plain": [
       "          연료  차종 차종유형    연식  차령  E_HOT_CO  E_HOT_HC  E_HOT_NOx  E_HOT_PM10  \\\n",
       "1149289  휘발유  승용   소형  2001  22     14.62      0.61       6.56        0.01   \n",
       "1149290  휘발유  승용   대형  1999  24     34.90      2.63      10.86        0.01   \n",
       "1149291  휘발유  승용   소형  1991  32     32.75      3.32      10.60        0.01   \n",
       "1149293  휘발유  승용   중형  1999  24     30.53      2.30       9.50        0.01   \n",
       "1149294  휘발유  승용   중형  1995  28     30.03      2.26       9.34        0.01   \n",
       "\n",
       "         E_HOT_PM2_5  ...  E_COLD_NOx  E_COLD_HC  E_COLD_PM10  E_COLD_PM2_5  \\\n",
       "1149289         0.01  ...     2342.83     908.62         0.00          0.00   \n",
       "1149290         0.01  ...     3880.49    3936.10         0.00          0.00   \n",
       "1149291         0.01  ...     3787.21    4976.74         0.00          0.00   \n",
       "1149293         0.01  ...     3395.43    3444.09         0.00          0.00   \n",
       "1149294         0.01  ...     3339.46    3387.31         0.00          0.00   \n",
       "\n",
       "         E_EVA_VOC  E_CO_total  E_HC_total  E_NOx_total  E_PM10_total  \\\n",
       "1149289     368.12    14001.37     1277.35      2349.39          0.01   \n",
       "1149290     382.07    33430.82     4320.80      3891.35          0.01   \n",
       "1149291     380.37    31371.83     5360.43      3797.80          0.01   \n",
       "1149293     373.23    29251.97     3819.61      3404.93          0.01   \n",
       "1149294     372.21    28769.79     3761.78      3348.80          0.01   \n",
       "\n",
       "         E_PM2_5_total  \n",
       "1149289           0.01  \n",
       "1149290           0.01  \n",
       "1149291           0.01  \n",
       "1149293           0.01  \n",
       "1149294           0.01  \n",
       "\n",
       "[5 rows x 21 columns]"
      ]
     },
     "execution_count": 189,
     "metadata": {},
     "output_type": "execute_result"
    }
   ],
   "source": [
    "df2.loc[(df2['연료'] == '휘발유') & (df2['차종'] == '승용'), DF_col + check_E_HOT_col + check_E_cold_col + ['E_EVA_VOC'] + check_E_col].head()"
   ]
  },
  {
   "cell_type": "code",
   "execution_count": 190,
   "metadata": {},
   "outputs": [
    {
     "data": {
      "text/html": [
       "<div>\n",
       "<style scoped>\n",
       "    .dataframe tbody tr th:only-of-type {\n",
       "        vertical-align: middle;\n",
       "    }\n",
       "\n",
       "    .dataframe tbody tr th {\n",
       "        vertical-align: top;\n",
       "    }\n",
       "\n",
       "    .dataframe thead th {\n",
       "        text-align: right;\n",
       "    }\n",
       "</style>\n",
       "<table border=\"1\" class=\"dataframe\">\n",
       "  <thead>\n",
       "    <tr style=\"text-align: right;\">\n",
       "      <th></th>\n",
       "      <th>연료</th>\n",
       "      <th>차종</th>\n",
       "      <th>차종유형</th>\n",
       "      <th>연식</th>\n",
       "      <th>차령</th>\n",
       "      <th>E_HOT_CO</th>\n",
       "      <th>E_HOT_HC</th>\n",
       "      <th>E_HOT_NOx</th>\n",
       "      <th>E_HOT_PM10</th>\n",
       "      <th>E_HOT_PM2_5</th>\n",
       "      <th>...</th>\n",
       "      <th>E_COLD_NOx</th>\n",
       "      <th>E_COLD_HC</th>\n",
       "      <th>E_COLD_PM10</th>\n",
       "      <th>E_COLD_PM2_5</th>\n",
       "      <th>E_EVA_VOC</th>\n",
       "      <th>E_CO_total</th>\n",
       "      <th>E_HC_total</th>\n",
       "      <th>E_NOx_total</th>\n",
       "      <th>E_PM10_total</th>\n",
       "      <th>E_PM2_5_total</th>\n",
       "    </tr>\n",
       "  </thead>\n",
       "  <tbody>\n",
       "    <tr>\n",
       "      <th>1149310</th>\n",
       "      <td>휘발유</td>\n",
       "      <td>화물</td>\n",
       "      <td>경형</td>\n",
       "      <td>1993</td>\n",
       "      <td>30</td>\n",
       "      <td>46.49</td>\n",
       "      <td>9.66</td>\n",
       "      <td>26.25</td>\n",
       "      <td>0.01</td>\n",
       "      <td>0.01</td>\n",
       "      <td>...</td>\n",
       "      <td>0.00</td>\n",
       "      <td>0.00</td>\n",
       "      <td>0.00</td>\n",
       "      <td>0.00</td>\n",
       "      <td>394.49</td>\n",
       "      <td>46.49</td>\n",
       "      <td>404.16</td>\n",
       "      <td>26.25</td>\n",
       "      <td>0.01</td>\n",
       "      <td>0.01</td>\n",
       "    </tr>\n",
       "    <tr>\n",
       "      <th>1149313</th>\n",
       "      <td>휘발유</td>\n",
       "      <td>화물</td>\n",
       "      <td>경형</td>\n",
       "      <td>1995</td>\n",
       "      <td>28</td>\n",
       "      <td>54.20</td>\n",
       "      <td>11.27</td>\n",
       "      <td>30.60</td>\n",
       "      <td>0.01</td>\n",
       "      <td>0.01</td>\n",
       "      <td>...</td>\n",
       "      <td>0.00</td>\n",
       "      <td>0.00</td>\n",
       "      <td>0.00</td>\n",
       "      <td>0.00</td>\n",
       "      <td>408.27</td>\n",
       "      <td>54.20</td>\n",
       "      <td>419.54</td>\n",
       "      <td>30.60</td>\n",
       "      <td>0.01</td>\n",
       "      <td>0.01</td>\n",
       "    </tr>\n",
       "    <tr>\n",
       "      <th>1149321</th>\n",
       "      <td>휘발유</td>\n",
       "      <td>화물</td>\n",
       "      <td>경형</td>\n",
       "      <td>1993</td>\n",
       "      <td>30</td>\n",
       "      <td>40.12</td>\n",
       "      <td>8.34</td>\n",
       "      <td>22.65</td>\n",
       "      <td>0.01</td>\n",
       "      <td>0.01</td>\n",
       "      <td>...</td>\n",
       "      <td>0.00</td>\n",
       "      <td>0.00</td>\n",
       "      <td>0.00</td>\n",
       "      <td>0.00</td>\n",
       "      <td>383.09</td>\n",
       "      <td>40.12</td>\n",
       "      <td>391.44</td>\n",
       "      <td>22.65</td>\n",
       "      <td>0.01</td>\n",
       "      <td>0.01</td>\n",
       "    </tr>\n",
       "    <tr>\n",
       "      <th>1149322</th>\n",
       "      <td>휘발유</td>\n",
       "      <td>화물</td>\n",
       "      <td>소형</td>\n",
       "      <td>1993</td>\n",
       "      <td>30</td>\n",
       "      <td>41.91</td>\n",
       "      <td>3.17</td>\n",
       "      <td>13.16</td>\n",
       "      <td>0.01</td>\n",
       "      <td>0.01</td>\n",
       "      <td>...</td>\n",
       "      <td>0.00</td>\n",
       "      <td>0.00</td>\n",
       "      <td>0.00</td>\n",
       "      <td>0.00</td>\n",
       "      <td>397.05</td>\n",
       "      <td>41.91</td>\n",
       "      <td>400.22</td>\n",
       "      <td>13.16</td>\n",
       "      <td>0.01</td>\n",
       "      <td>0.01</td>\n",
       "    </tr>\n",
       "    <tr>\n",
       "      <th>1149454</th>\n",
       "      <td>휘발유</td>\n",
       "      <td>화물</td>\n",
       "      <td>소형</td>\n",
       "      <td>1996</td>\n",
       "      <td>27</td>\n",
       "      <td>56.39</td>\n",
       "      <td>4.27</td>\n",
       "      <td>17.70</td>\n",
       "      <td>0.01</td>\n",
       "      <td>0.01</td>\n",
       "      <td>...</td>\n",
       "      <td>0.00</td>\n",
       "      <td>0.00</td>\n",
       "      <td>0.00</td>\n",
       "      <td>0.00</td>\n",
       "      <td>426.65</td>\n",
       "      <td>56.39</td>\n",
       "      <td>430.92</td>\n",
       "      <td>17.70</td>\n",
       "      <td>0.01</td>\n",
       "      <td>0.01</td>\n",
       "    </tr>\n",
       "  </tbody>\n",
       "</table>\n",
       "<p>5 rows × 21 columns</p>\n",
       "</div>"
      ],
      "text/plain": [
       "          연료  차종 차종유형    연식  차령  E_HOT_CO  E_HOT_HC  E_HOT_NOx  E_HOT_PM10  \\\n",
       "1149310  휘발유  화물   경형  1993  30     46.49      9.66      26.25        0.01   \n",
       "1149313  휘발유  화물   경형  1995  28     54.20     11.27      30.60        0.01   \n",
       "1149321  휘발유  화물   경형  1993  30     40.12      8.34      22.65        0.01   \n",
       "1149322  휘발유  화물   소형  1993  30     41.91      3.17      13.16        0.01   \n",
       "1149454  휘발유  화물   소형  1996  27     56.39      4.27      17.70        0.01   \n",
       "\n",
       "         E_HOT_PM2_5  ...  E_COLD_NOx  E_COLD_HC  E_COLD_PM10  E_COLD_PM2_5  \\\n",
       "1149310         0.01  ...        0.00       0.00         0.00          0.00   \n",
       "1149313         0.01  ...        0.00       0.00         0.00          0.00   \n",
       "1149321         0.01  ...        0.00       0.00         0.00          0.00   \n",
       "1149322         0.01  ...        0.00       0.00         0.00          0.00   \n",
       "1149454         0.01  ...        0.00       0.00         0.00          0.00   \n",
       "\n",
       "         E_EVA_VOC  E_CO_total  E_HC_total  E_NOx_total  E_PM10_total  \\\n",
       "1149310     394.49       46.49      404.16        26.25          0.01   \n",
       "1149313     408.27       54.20      419.54        30.60          0.01   \n",
       "1149321     383.09       40.12      391.44        22.65          0.01   \n",
       "1149322     397.05       41.91      400.22        13.16          0.01   \n",
       "1149454     426.65       56.39      430.92        17.70          0.01   \n",
       "\n",
       "         E_PM2_5_total  \n",
       "1149310           0.01  \n",
       "1149313           0.01  \n",
       "1149321           0.01  \n",
       "1149322           0.01  \n",
       "1149454           0.01  \n",
       "\n",
       "[5 rows x 21 columns]"
      ]
     },
     "execution_count": 190,
     "metadata": {},
     "output_type": "execute_result"
    }
   ],
   "source": [
    "df2.loc[(df2['연료'] == '휘발유') & (df2['차종'] == '화물'), DF_col + check_E_HOT_col + check_E_cold_col + ['E_EVA_VOC'] + check_E_col].head()"
   ]
  },
  {
   "attachments": {},
   "cell_type": "markdown",
   "metadata": {},
   "source": [
    "## issue\n",
    "- LPG : E_COLD_NOx 값 음수 -> 0으로 처리"
   ]
  },
  {
   "cell_type": "code",
   "execution_count": 191,
   "metadata": {},
   "outputs": [
    {
     "data": {
      "text/html": [
       "<div>\n",
       "<style scoped>\n",
       "    .dataframe tbody tr th:only-of-type {\n",
       "        vertical-align: middle;\n",
       "    }\n",
       "\n",
       "    .dataframe tbody tr th {\n",
       "        vertical-align: top;\n",
       "    }\n",
       "\n",
       "    .dataframe thead th {\n",
       "        text-align: right;\n",
       "    }\n",
       "</style>\n",
       "<table border=\"1\" class=\"dataframe\">\n",
       "  <thead>\n",
       "    <tr style=\"text-align: right;\">\n",
       "      <th></th>\n",
       "      <th>연료</th>\n",
       "      <th>차종</th>\n",
       "      <th>차종유형</th>\n",
       "      <th>연식</th>\n",
       "      <th>차령</th>\n",
       "      <th>E_HOT_CO</th>\n",
       "      <th>E_HOT_HC</th>\n",
       "      <th>E_HOT_NOx</th>\n",
       "      <th>E_HOT_PM10</th>\n",
       "      <th>E_HOT_PM2_5</th>\n",
       "      <th>E_COLD_CO</th>\n",
       "      <th>E_COLD_NOx</th>\n",
       "      <th>E_COLD_HC</th>\n",
       "      <th>E_COLD_PM10</th>\n",
       "      <th>E_COLD_PM2_5</th>\n",
       "      <th>E_CO_total</th>\n",
       "      <th>E_HC_total</th>\n",
       "      <th>E_NOx_total</th>\n",
       "      <th>E_PM10_total</th>\n",
       "      <th>E_PM2_5_total</th>\n",
       "    </tr>\n",
       "  </thead>\n",
       "  <tbody>\n",
       "    <tr>\n",
       "      <th>1149292</th>\n",
       "      <td>LPG(액화석유가스)</td>\n",
       "      <td>승합</td>\n",
       "      <td>중형</td>\n",
       "      <td>2000</td>\n",
       "      <td>23</td>\n",
       "      <td>49.61</td>\n",
       "      <td>1.57</td>\n",
       "      <td>14.49</td>\n",
       "      <td>0.01</td>\n",
       "      <td>0.01</td>\n",
       "      <td>0.00</td>\n",
       "      <td>0.00</td>\n",
       "      <td>0.00</td>\n",
       "      <td>0.00</td>\n",
       "      <td>0.00</td>\n",
       "      <td>49.61</td>\n",
       "      <td>1.57</td>\n",
       "      <td>14.49</td>\n",
       "      <td>0.01</td>\n",
       "      <td>0.01</td>\n",
       "    </tr>\n",
       "    <tr>\n",
       "      <th>1149359</th>\n",
       "      <td>LPG(액화석유가스)</td>\n",
       "      <td>승용</td>\n",
       "      <td>중형</td>\n",
       "      <td>1996</td>\n",
       "      <td>27</td>\n",
       "      <td>51.98</td>\n",
       "      <td>2.54</td>\n",
       "      <td>13.94</td>\n",
       "      <td>0.01</td>\n",
       "      <td>0.00</td>\n",
       "      <td>11092.07</td>\n",
       "      <td>0.00</td>\n",
       "      <td>174.10</td>\n",
       "      <td>0.00</td>\n",
       "      <td>0.00</td>\n",
       "      <td>11144.04</td>\n",
       "      <td>176.64</td>\n",
       "      <td>13.94</td>\n",
       "      <td>0.01</td>\n",
       "      <td>0.00</td>\n",
       "    </tr>\n",
       "    <tr>\n",
       "      <th>1149391</th>\n",
       "      <td>LPG(액화석유가스)</td>\n",
       "      <td>승용</td>\n",
       "      <td>중형</td>\n",
       "      <td>1998</td>\n",
       "      <td>25</td>\n",
       "      <td>67.74</td>\n",
       "      <td>3.62</td>\n",
       "      <td>13.72</td>\n",
       "      <td>0.01</td>\n",
       "      <td>0.01</td>\n",
       "      <td>14457.08</td>\n",
       "      <td>0.00</td>\n",
       "      <td>248.21</td>\n",
       "      <td>0.00</td>\n",
       "      <td>0.00</td>\n",
       "      <td>14524.82</td>\n",
       "      <td>251.83</td>\n",
       "      <td>13.72</td>\n",
       "      <td>0.01</td>\n",
       "      <td>0.01</td>\n",
       "    </tr>\n",
       "    <tr>\n",
       "      <th>1149399</th>\n",
       "      <td>LPG(액화석유가스)</td>\n",
       "      <td>승용</td>\n",
       "      <td>중형</td>\n",
       "      <td>1994</td>\n",
       "      <td>29</td>\n",
       "      <td>45.77</td>\n",
       "      <td>6.37</td>\n",
       "      <td>10.82</td>\n",
       "      <td>0.01</td>\n",
       "      <td>0.01</td>\n",
       "      <td>9767.26</td>\n",
       "      <td>0.00</td>\n",
       "      <td>436.57</td>\n",
       "      <td>0.00</td>\n",
       "      <td>0.00</td>\n",
       "      <td>9813.03</td>\n",
       "      <td>442.94</td>\n",
       "      <td>10.82</td>\n",
       "      <td>0.01</td>\n",
       "      <td>0.01</td>\n",
       "    </tr>\n",
       "    <tr>\n",
       "      <th>1149429</th>\n",
       "      <td>LPG(액화석유가스)</td>\n",
       "      <td>화물</td>\n",
       "      <td>소형</td>\n",
       "      <td>1998</td>\n",
       "      <td>25</td>\n",
       "      <td>79.57</td>\n",
       "      <td>4.25</td>\n",
       "      <td>16.11</td>\n",
       "      <td>0.01</td>\n",
       "      <td>0.01</td>\n",
       "      <td>0.00</td>\n",
       "      <td>0.00</td>\n",
       "      <td>0.00</td>\n",
       "      <td>0.00</td>\n",
       "      <td>0.00</td>\n",
       "      <td>79.57</td>\n",
       "      <td>4.25</td>\n",
       "      <td>16.11</td>\n",
       "      <td>0.01</td>\n",
       "      <td>0.01</td>\n",
       "    </tr>\n",
       "  </tbody>\n",
       "</table>\n",
       "</div>"
      ],
      "text/plain": [
       "                  연료  차종 차종유형    연식  차령  E_HOT_CO  E_HOT_HC  E_HOT_NOx  \\\n",
       "1149292  LPG(액화석유가스)  승합   중형  2000  23     49.61      1.57      14.49   \n",
       "1149359  LPG(액화석유가스)  승용   중형  1996  27     51.98      2.54      13.94   \n",
       "1149391  LPG(액화석유가스)  승용   중형  1998  25     67.74      3.62      13.72   \n",
       "1149399  LPG(액화석유가스)  승용   중형  1994  29     45.77      6.37      10.82   \n",
       "1149429  LPG(액화석유가스)  화물   소형  1998  25     79.57      4.25      16.11   \n",
       "\n",
       "         E_HOT_PM10  E_HOT_PM2_5  E_COLD_CO  E_COLD_NOx  E_COLD_HC  \\\n",
       "1149292        0.01         0.01       0.00        0.00       0.00   \n",
       "1149359        0.01         0.00   11092.07        0.00     174.10   \n",
       "1149391        0.01         0.01   14457.08        0.00     248.21   \n",
       "1149399        0.01         0.01    9767.26        0.00     436.57   \n",
       "1149429        0.01         0.01       0.00        0.00       0.00   \n",
       "\n",
       "         E_COLD_PM10  E_COLD_PM2_5  E_CO_total  E_HC_total  E_NOx_total  \\\n",
       "1149292         0.00          0.00       49.61        1.57        14.49   \n",
       "1149359         0.00          0.00    11144.04      176.64        13.94   \n",
       "1149391         0.00          0.00    14524.82      251.83        13.72   \n",
       "1149399         0.00          0.00     9813.03      442.94        10.82   \n",
       "1149429         0.00          0.00       79.57        4.25        16.11   \n",
       "\n",
       "         E_PM10_total  E_PM2_5_total  \n",
       "1149292          0.01           0.01  \n",
       "1149359          0.01           0.00  \n",
       "1149391          0.01           0.01  \n",
       "1149399          0.01           0.01  \n",
       "1149429          0.01           0.01  "
      ]
     },
     "execution_count": 191,
     "metadata": {},
     "output_type": "execute_result"
    }
   ],
   "source": [
    "df2.loc[df2['연료'] == 'LPG(액화석유가스)', DF_col + check_E_HOT_col + check_E_cold_col + check_E_col].head()"
   ]
  },
  {
   "cell_type": "code",
   "execution_count": 192,
   "metadata": {},
   "outputs": [
    {
     "data": {
      "text/html": [
       "<div>\n",
       "<style scoped>\n",
       "    .dataframe tbody tr th:only-of-type {\n",
       "        vertical-align: middle;\n",
       "    }\n",
       "\n",
       "    .dataframe tbody tr th {\n",
       "        vertical-align: top;\n",
       "    }\n",
       "\n",
       "    .dataframe thead th {\n",
       "        text-align: right;\n",
       "    }\n",
       "</style>\n",
       "<table border=\"1\" class=\"dataframe\">\n",
       "  <thead>\n",
       "    <tr style=\"text-align: right;\">\n",
       "      <th></th>\n",
       "      <th>연료</th>\n",
       "      <th>차종</th>\n",
       "      <th>차종유형</th>\n",
       "      <th>연식</th>\n",
       "      <th>차령</th>\n",
       "      <th>E_COLD_CO</th>\n",
       "      <th>E_COLD_NOx</th>\n",
       "      <th>E_COLD_HC</th>\n",
       "      <th>E_COLD_PM10</th>\n",
       "      <th>E_COLD_PM2_5</th>\n",
       "      <th>E_CO_total</th>\n",
       "      <th>E_HC_total</th>\n",
       "      <th>E_NOx_total</th>\n",
       "      <th>E_PM10_total</th>\n",
       "      <th>E_PM2_5_total</th>\n",
       "    </tr>\n",
       "  </thead>\n",
       "  <tbody>\n",
       "    <tr>\n",
       "      <th>1149292</th>\n",
       "      <td>LPG(액화석유가스)</td>\n",
       "      <td>승합</td>\n",
       "      <td>중형</td>\n",
       "      <td>2000</td>\n",
       "      <td>23</td>\n",
       "      <td>0.00</td>\n",
       "      <td>0.00</td>\n",
       "      <td>0.00</td>\n",
       "      <td>0.00</td>\n",
       "      <td>0.00</td>\n",
       "      <td>49.61</td>\n",
       "      <td>1.57</td>\n",
       "      <td>14.49</td>\n",
       "      <td>0.01</td>\n",
       "      <td>0.01</td>\n",
       "    </tr>\n",
       "    <tr>\n",
       "      <th>1149359</th>\n",
       "      <td>LPG(액화석유가스)</td>\n",
       "      <td>승용</td>\n",
       "      <td>중형</td>\n",
       "      <td>1996</td>\n",
       "      <td>27</td>\n",
       "      <td>11092.07</td>\n",
       "      <td>0.00</td>\n",
       "      <td>174.10</td>\n",
       "      <td>0.00</td>\n",
       "      <td>0.00</td>\n",
       "      <td>11144.04</td>\n",
       "      <td>176.64</td>\n",
       "      <td>13.94</td>\n",
       "      <td>0.01</td>\n",
       "      <td>0.00</td>\n",
       "    </tr>\n",
       "    <tr>\n",
       "      <th>1149391</th>\n",
       "      <td>LPG(액화석유가스)</td>\n",
       "      <td>승용</td>\n",
       "      <td>중형</td>\n",
       "      <td>1998</td>\n",
       "      <td>25</td>\n",
       "      <td>14457.08</td>\n",
       "      <td>0.00</td>\n",
       "      <td>248.21</td>\n",
       "      <td>0.00</td>\n",
       "      <td>0.00</td>\n",
       "      <td>14524.82</td>\n",
       "      <td>251.83</td>\n",
       "      <td>13.72</td>\n",
       "      <td>0.01</td>\n",
       "      <td>0.01</td>\n",
       "    </tr>\n",
       "    <tr>\n",
       "      <th>1149399</th>\n",
       "      <td>LPG(액화석유가스)</td>\n",
       "      <td>승용</td>\n",
       "      <td>중형</td>\n",
       "      <td>1994</td>\n",
       "      <td>29</td>\n",
       "      <td>9767.26</td>\n",
       "      <td>0.00</td>\n",
       "      <td>436.57</td>\n",
       "      <td>0.00</td>\n",
       "      <td>0.00</td>\n",
       "      <td>9813.03</td>\n",
       "      <td>442.94</td>\n",
       "      <td>10.82</td>\n",
       "      <td>0.01</td>\n",
       "      <td>0.01</td>\n",
       "    </tr>\n",
       "    <tr>\n",
       "      <th>1149429</th>\n",
       "      <td>LPG(액화석유가스)</td>\n",
       "      <td>화물</td>\n",
       "      <td>소형</td>\n",
       "      <td>1998</td>\n",
       "      <td>25</td>\n",
       "      <td>0.00</td>\n",
       "      <td>0.00</td>\n",
       "      <td>0.00</td>\n",
       "      <td>0.00</td>\n",
       "      <td>0.00</td>\n",
       "      <td>79.57</td>\n",
       "      <td>4.25</td>\n",
       "      <td>16.11</td>\n",
       "      <td>0.01</td>\n",
       "      <td>0.01</td>\n",
       "    </tr>\n",
       "  </tbody>\n",
       "</table>\n",
       "</div>"
      ],
      "text/plain": [
       "                  연료  차종 차종유형    연식  차령  E_COLD_CO  E_COLD_NOx  E_COLD_HC  \\\n",
       "1149292  LPG(액화석유가스)  승합   중형  2000  23       0.00        0.00       0.00   \n",
       "1149359  LPG(액화석유가스)  승용   중형  1996  27   11092.07        0.00     174.10   \n",
       "1149391  LPG(액화석유가스)  승용   중형  1998  25   14457.08        0.00     248.21   \n",
       "1149399  LPG(액화석유가스)  승용   중형  1994  29    9767.26        0.00     436.57   \n",
       "1149429  LPG(액화석유가스)  화물   소형  1998  25       0.00        0.00       0.00   \n",
       "\n",
       "         E_COLD_PM10  E_COLD_PM2_5  E_CO_total  E_HC_total  E_NOx_total  \\\n",
       "1149292         0.00          0.00       49.61        1.57        14.49   \n",
       "1149359         0.00          0.00    11144.04      176.64        13.94   \n",
       "1149391         0.00          0.00    14524.82      251.83        13.72   \n",
       "1149399         0.00          0.00     9813.03      442.94        10.82   \n",
       "1149429         0.00          0.00       79.57        4.25        16.11   \n",
       "\n",
       "         E_PM10_total  E_PM2_5_total  \n",
       "1149292          0.01           0.01  \n",
       "1149359          0.01           0.00  \n",
       "1149391          0.01           0.01  \n",
       "1149399          0.01           0.01  \n",
       "1149429          0.01           0.01  "
      ]
     },
     "execution_count": 192,
     "metadata": {},
     "output_type": "execute_result"
    }
   ],
   "source": [
    "df2.loc[df2['연료'] == 'LPG(액화석유가스)', DF_col + check_E_cold_col + check_E_col].head()"
   ]
  },
  {
   "cell_type": "code",
   "execution_count": 193,
   "metadata": {},
   "outputs": [
    {
     "data": {
      "text/plain": [
       "Index(['차대번호', '차량번호', '제원관리번호', '차종', '용도', '최초등록일', '연식', '제작일자', '검사유효일',\n",
       "       '배출가스인증번호', '등급', '차명', '차종분류', '차종유형', '자동차형식', '제작사명', '연료', '엔진형식',\n",
       "       '총중량', '적재중량', '엔진출력', '배기량', '법정동코드', '시도명', '시군구명', '소유자구분', '말소여부',\n",
       "       '일치유무', '인증번호 수정 유무', '배인번호_수정', '등급_수정', 'DPF유무_수정', '배출가스', '등급2',\n",
       "       'DPF', '비고', 'Grade', '차령', '시군구명_수정', '1일평균주행거리', 'VKT', 'DF_CO',\n",
       "       'DF_HC', 'DF_PM', 'DF_NOx', 'R_CO', 'R_HC', 'R_PM', 'EFi_CO', 'EFi_HC',\n",
       "       'EFi_NOx', 'EFi_PM10', 'EFi_PM2_5', 'E_HOT_CO', 'E_HOT_HC', 'E_HOT_NOx',\n",
       "       'E_HOT_PM10', 'E_HOT_PM2_5', 'Beta(Estimated)', 'eCOLD/eHOT_CO',\n",
       "       'eCOLD/eHOT_NOx', 'eCOLD/eHOT_HC', 'eCOLD/eHOT_PM', 'E_COLD_CO',\n",
       "       'E_COLD_NOx', 'E_COLD_HC', 'E_COLD_PM10', 'E_COLD_PM2_5', 'e_d',\n",
       "       'e_RHOT', 'e_SHOT', 'e_SWARM', 'e_fi', 'e_RWARM', 'R', 'S_fi', 'S_c',\n",
       "       'E_EVA_VOC', 'E_CO_total', 'E_HC_total', 'E_NOx_total', 'E_PM10_total',\n",
       "       'E_PM2_5_total'],\n",
       "      dtype='object')"
      ]
     },
     "execution_count": 193,
     "metadata": {},
     "output_type": "execute_result"
    }
   ],
   "source": [
    "df2.columns"
   ]
  },
  {
   "cell_type": "code",
   "execution_count": 194,
   "metadata": {},
   "outputs": [
    {
     "data": {
      "text/plain": [
       "dtype('float64')"
      ]
     },
     "execution_count": 194,
     "metadata": {},
     "output_type": "execute_result"
    }
   ],
   "source": [
    "df2['E_COLD_CO'].dtype"
   ]
  },
  {
   "cell_type": "code",
   "execution_count": 195,
   "metadata": {},
   "outputs": [
    {
     "data": {
      "text/plain": [
       "(0, 83)"
      ]
     },
     "execution_count": 195,
     "metadata": {},
     "output_type": "execute_result"
    }
   ],
   "source": [
    "df2.loc[df2['E_CO_total'] < 0].shape"
   ]
  },
  {
   "cell_type": "code",
   "execution_count": 196,
   "metadata": {},
   "outputs": [
    {
     "data": {
      "text/plain": [
       "(0, 83)"
      ]
     },
     "execution_count": 196,
     "metadata": {},
     "output_type": "execute_result"
    }
   ],
   "source": [
    "df2.loc[df2['E_HC_total'] < 0].shape"
   ]
  },
  {
   "cell_type": "code",
   "execution_count": 197,
   "metadata": {},
   "outputs": [
    {
     "data": {
      "text/plain": [
       "(0, 83)"
      ]
     },
     "execution_count": 197,
     "metadata": {},
     "output_type": "execute_result"
    }
   ],
   "source": [
    "df2.loc[df2['E_PM10_total'] < 0].shape"
   ]
  },
  {
   "cell_type": "code",
   "execution_count": 198,
   "metadata": {},
   "outputs": [
    {
     "data": {
      "text/plain": [
       "(0, 83)"
      ]
     },
     "execution_count": 198,
     "metadata": {},
     "output_type": "execute_result"
    }
   ],
   "source": [
    "df2.loc[df2['E_PM2_5_total'] < 0].shape"
   ]
  },
  {
   "cell_type": "code",
   "execution_count": 199,
   "metadata": {},
   "outputs": [
    {
     "data": {
      "text/plain": [
       "(0, 2)"
      ]
     },
     "execution_count": 199,
     "metadata": {},
     "output_type": "execute_result"
    }
   ],
   "source": [
    "df2.loc[df2['E_NOx_total'] < 0, ['E_NOx_total', 'E_COLD_NOx']].shape"
   ]
  },
  {
   "attachments": {},
   "cell_type": "markdown",
   "metadata": {},
   "source": [
    "## [출력] 배출량\n",
    "- 연료 : 휘발유, 경유, LPG(액화석유가스)\n",
    "- 물질 : CO, HC, NOx, PM10, PM2.5"
   ]
  },
  {
   "cell_type": "code",
   "execution_count": 200,
   "metadata": {},
   "outputs": [
    {
     "data": {
      "text/plain": [
       "Index(['차대번호', '차량번호', '제원관리번호', '차종', '용도', '최초등록일', '연식', '제작일자', '검사유효일',\n",
       "       '배출가스인증번호', '등급', '차명', '차종분류', '차종유형', '자동차형식', '제작사명', '연료', '엔진형식',\n",
       "       '총중량', '적재중량', '엔진출력', '배기량', '법정동코드', '시도명', '시군구명', '소유자구분', '말소여부',\n",
       "       '일치유무', '인증번호 수정 유무', '배인번호_수정', '등급_수정', 'DPF유무_수정', '배출가스', '등급2',\n",
       "       'DPF', '비고', 'Grade', '차령', '시군구명_수정', '1일평균주행거리', 'VKT', 'DF_CO',\n",
       "       'DF_HC', 'DF_PM', 'DF_NOx', 'R_CO', 'R_HC', 'R_PM', 'EFi_CO', 'EFi_HC',\n",
       "       'EFi_NOx', 'EFi_PM10', 'EFi_PM2_5', 'E_HOT_CO', 'E_HOT_HC', 'E_HOT_NOx',\n",
       "       'E_HOT_PM10', 'E_HOT_PM2_5', 'Beta(Estimated)', 'eCOLD/eHOT_CO',\n",
       "       'eCOLD/eHOT_NOx', 'eCOLD/eHOT_HC', 'eCOLD/eHOT_PM', 'E_COLD_CO',\n",
       "       'E_COLD_NOx', 'E_COLD_HC', 'E_COLD_PM10', 'E_COLD_PM2_5', 'e_d',\n",
       "       'e_RHOT', 'e_SHOT', 'e_SWARM', 'e_fi', 'e_RWARM', 'R', 'S_fi', 'S_c',\n",
       "       'E_EVA_VOC', 'E_CO_total', 'E_HC_total', 'E_NOx_total', 'E_PM10_total',\n",
       "       'E_PM2_5_total'],\n",
       "      dtype='object')"
      ]
     },
     "execution_count": 200,
     "metadata": {},
     "output_type": "execute_result"
    }
   ],
   "source": [
    "df2.columns"
   ]
  },
  {
   "cell_type": "code",
   "execution_count": 201,
   "metadata": {},
   "outputs": [
    {
     "data": {
      "text/plain": [
       "(1497708, 77)"
      ]
     },
     "execution_count": 201,
     "metadata": {},
     "output_type": "execute_result"
    }
   ],
   "source": [
    "df3 = df2[['차대번호', '차량번호', '제원관리번호', '차종', '용도', '최초등록일', '연식', '제작일자', '검사유효일', \n",
    "           '배출가스인증번호', '등급', '차명', '차종분류', '차종유형', '자동차형식', '제작사명', '연료', '엔진형식', \n",
    "           '총중량', '적재중량', '엔진출력', '배기량', '법정동코드', '시도명', '시군구명', '소유자구분', '말소여부', \n",
    "           '일치유무', '인증번호 수정 유무', '배인번호_수정', '등급_수정', 'DPF유무_수정', '배출가스', '등급2', \n",
    "           'DPF', '비고', 'Grade', \n",
    "           '차령', '1일평균주행거리', 'VKT', 'DF_CO', 'DF_HC', 'DF_PM', 'DF_NOx', 'R_CO', 'R_HC', 'R_PM', 'EFi_CO', 'EFi_HC', 'EFi_NOx', 'EFi_PM10', 'EFi_PM2_5', \n",
    "           'Beta(Estimated)', 'eCOLD/eHOT_CO', 'eCOLD/eHOT_NOx', 'eCOLD/eHOT_HC', 'eCOLD/eHOT_PM', \n",
    "           'e_d', 'e_RHOT', 'e_RWARM', 'R', \n",
    "           'E_HOT_CO', \n",
    "           'E_COLD_CO', \n",
    "           'E_CO_total', \n",
    "           'E_HOT_HC', \n",
    "           'E_COLD_HC', \n",
    "           'E_EVA_VOC', \n",
    "           'E_HC_total', \n",
    "           'E_HOT_NOx', \n",
    "           'E_COLD_NOx', \n",
    "           'E_NOx_total', \n",
    "           'E_HOT_PM10', \n",
    "           'E_COLD_PM10', \n",
    "           'E_PM10_total', \n",
    "           'E_HOT_PM2_5', \n",
    "           'E_COLD_PM2_5', \n",
    "           'E_PM2_5_total']]\n",
    "df3.shape"
   ]
  },
  {
   "attachments": {},
   "cell_type": "markdown",
   "metadata": {},
   "source": [
    "# dong_code 추가"
   ]
  },
  {
   "attachments": {},
   "cell_type": "markdown",
   "metadata": {},
   "source": [
    "## [병합] 4등급 + 3,5 등급"
   ]
  },
  {
   "cell_type": "code",
   "execution_count": 202,
   "metadata": {},
   "outputs": [
    {
     "data": {
      "text/plain": [
       "(1502232, 77)"
      ]
     },
     "execution_count": 202,
     "metadata": {},
     "output_type": "execute_result"
    }
   ],
   "source": [
    "total = pd.concat([df3, g3_g5], ignore_index=True)\n",
    "total.shape"
   ]
  },
  {
   "cell_type": "code",
   "execution_count": 203,
   "metadata": {},
   "outputs": [
    {
     "data": {
      "text/plain": [
       "Index(['차대번호', '차량번호', '제원관리번호', '차종', '용도', '최초등록일', '연식', '제작일자', '검사유효일',\n",
       "       '배출가스인증번호', '등급', '차명', '차종분류', '차종유형', '자동차형식', '제작사명', '연료', '엔진형식',\n",
       "       '총중량', '적재중량', '엔진출력', '배기량', '법정동코드', '시도명', '시군구명', '소유자구분', '말소여부',\n",
       "       '일치유무', '인증번호 수정 유무', '배인번호_수정', '등급_수정', 'DPF유무_수정', '배출가스', '등급2',\n",
       "       'DPF', '비고', 'Grade', '차령', '1일평균주행거리', 'VKT', 'DF_CO', 'DF_HC',\n",
       "       'DF_PM', 'DF_NOx', 'R_CO', 'R_HC', 'R_PM', 'EFi_CO', 'EFi_HC',\n",
       "       'EFi_NOx', 'EFi_PM10', 'EFi_PM2_5', 'Beta(Estimated)', 'eCOLD/eHOT_CO',\n",
       "       'eCOLD/eHOT_NOx', 'eCOLD/eHOT_HC', 'eCOLD/eHOT_PM', 'e_d', 'e_RHOT',\n",
       "       'e_RWARM', 'R', 'E_HOT_CO', 'E_COLD_CO', 'E_CO_total', 'E_HOT_HC',\n",
       "       'E_COLD_HC', 'E_EVA_VOC', 'E_HC_total', 'E_HOT_NOx', 'E_COLD_NOx',\n",
       "       'E_NOx_total', 'E_HOT_PM10', 'E_COLD_PM10', 'E_PM10_total',\n",
       "       'E_HOT_PM2_5', 'E_COLD_PM2_5', 'E_PM2_5_total'],\n",
       "      dtype='object')"
      ]
     },
     "execution_count": 203,
     "metadata": {},
     "output_type": "execute_result"
    }
   ],
   "source": [
    "total.columns"
   ]
  },
  {
   "attachments": {},
   "cell_type": "markdown",
   "metadata": {},
   "source": [
    "## 로드 법정동코드 표"
   ]
  },
  {
   "cell_type": "code",
   "execution_count": 204,
   "metadata": {},
   "outputs": [],
   "source": [
    "name = 'tb_mapdata_gu(2023.04.20)'\n",
    "file_name = f'{name}.xlsx'\n",
    "code = pd.read_excel(os.path.join(raw_fold, file_name))"
   ]
  },
  {
   "cell_type": "code",
   "execution_count": 205,
   "metadata": {},
   "outputs": [
    {
     "name": "stdout",
     "output_type": "stream",
     "text": [
      "<class 'pandas.core.frame.DataFrame'>\n",
      "RangeIndex: 278 entries, 0 to 277\n",
      "Data columns (total 7 columns):\n",
      " #   Column       Non-Null Count  Dtype  \n",
      "---  ------       --------------  -----  \n",
      " 0   dong_code    278 non-null    int64  \n",
      " 1   ctprvn_code  278 non-null    int64  \n",
      " 2   signgu_code  278 non-null    int64  \n",
      " 3   sdstrd_code  278 non-null    int64  \n",
      " 4   ctprvn_nm    278 non-null    object \n",
      " 5   signgu_nm    260 non-null    object \n",
      " 6   sdstrd_nm    0 non-null      float64\n",
      "dtypes: float64(1), int64(4), object(2)\n",
      "memory usage: 15.3+ KB\n"
     ]
    }
   ],
   "source": [
    "code.info()"
   ]
  },
  {
   "cell_type": "code",
   "execution_count": 206,
   "metadata": {},
   "outputs": [
    {
     "data": {
      "text/html": [
       "<div>\n",
       "<style scoped>\n",
       "    .dataframe tbody tr th:only-of-type {\n",
       "        vertical-align: middle;\n",
       "    }\n",
       "\n",
       "    .dataframe tbody tr th {\n",
       "        vertical-align: top;\n",
       "    }\n",
       "\n",
       "    .dataframe thead th {\n",
       "        text-align: right;\n",
       "    }\n",
       "</style>\n",
       "<table border=\"1\" class=\"dataframe\">\n",
       "  <thead>\n",
       "    <tr style=\"text-align: right;\">\n",
       "      <th></th>\n",
       "      <th>dong_code</th>\n",
       "      <th>ctprvn_code</th>\n",
       "      <th>signgu_code</th>\n",
       "      <th>sdstrd_code</th>\n",
       "      <th>시도명</th>\n",
       "      <th>시군구명</th>\n",
       "      <th>sdstrd_nm</th>\n",
       "    </tr>\n",
       "  </thead>\n",
       "  <tbody>\n",
       "    <tr>\n",
       "      <th>0</th>\n",
       "      <td>0</td>\n",
       "      <td>0</td>\n",
       "      <td>0</td>\n",
       "      <td>0</td>\n",
       "      <td>전국</td>\n",
       "      <td>NaN</td>\n",
       "      <td>NaN</td>\n",
       "    </tr>\n",
       "    <tr>\n",
       "      <th>1</th>\n",
       "      <td>1100000000</td>\n",
       "      <td>11</td>\n",
       "      <td>0</td>\n",
       "      <td>0</td>\n",
       "      <td>서울특별시</td>\n",
       "      <td>NaN</td>\n",
       "      <td>NaN</td>\n",
       "    </tr>\n",
       "    <tr>\n",
       "      <th>2</th>\n",
       "      <td>1111000000</td>\n",
       "      <td>11</td>\n",
       "      <td>110</td>\n",
       "      <td>0</td>\n",
       "      <td>서울특별시</td>\n",
       "      <td>종로구</td>\n",
       "      <td>NaN</td>\n",
       "    </tr>\n",
       "    <tr>\n",
       "      <th>3</th>\n",
       "      <td>1114000000</td>\n",
       "      <td>11</td>\n",
       "      <td>140</td>\n",
       "      <td>0</td>\n",
       "      <td>서울특별시</td>\n",
       "      <td>중구</td>\n",
       "      <td>NaN</td>\n",
       "    </tr>\n",
       "    <tr>\n",
       "      <th>4</th>\n",
       "      <td>1117000000</td>\n",
       "      <td>11</td>\n",
       "      <td>170</td>\n",
       "      <td>0</td>\n",
       "      <td>서울특별시</td>\n",
       "      <td>용산구</td>\n",
       "      <td>NaN</td>\n",
       "    </tr>\n",
       "  </tbody>\n",
       "</table>\n",
       "</div>"
      ],
      "text/plain": [
       "    dong_code  ctprvn_code  signgu_code  sdstrd_code    시도명 시군구명  sdstrd_nm\n",
       "0           0            0            0            0     전국  NaN        NaN\n",
       "1  1100000000           11            0            0  서울특별시  NaN        NaN\n",
       "2  1111000000           11          110            0  서울특별시  종로구        NaN\n",
       "3  1114000000           11          140            0  서울특별시   중구        NaN\n",
       "4  1117000000           11          170            0  서울특별시  용산구        NaN"
      ]
     },
     "execution_count": 206,
     "metadata": {},
     "output_type": "execute_result"
    }
   ],
   "source": [
    "code = code.rename(columns={'ctprvn_nm':'시도명', 'signgu_nm':'시군구명'})\n",
    "code.head()"
   ]
  },
  {
   "attachments": {},
   "cell_type": "markdown",
   "metadata": {},
   "source": [
    "## 시군구명 수정\n",
    "- 부천시 소사구 -> 부천시\n",
    "- 부천시 오정구 -> 부천시\n",
    "- 부천시 원미구 -> 부천시\n",
    "- 세종특별자치시 -> nan\n",
    "- 여주군 -> 여주시\n",
    "- 청원군 -> 청주시\n",
    "- 인천광역시 남구 -> 인천광역시 미추홀구"
   ]
  },
  {
   "cell_type": "code",
   "execution_count": 207,
   "metadata": {},
   "outputs": [
    {
     "data": {
      "text/plain": [
       "0"
      ]
     },
     "execution_count": 207,
     "metadata": {},
     "output_type": "execute_result"
    }
   ],
   "source": [
    "total['시군구명_수정'] = total['시군구명']\n",
    "total['시군구명_수정'].isnull().sum()"
   ]
  },
  {
   "cell_type": "code",
   "execution_count": 208,
   "metadata": {},
   "outputs": [
    {
     "data": {
      "text/plain": [
       "(6,)"
      ]
     },
     "execution_count": 208,
     "metadata": {},
     "output_type": "execute_result"
    }
   ],
   "source": [
    "total.loc[total['시군구명'] == '부천시 소사구', '시군구명'].shape"
   ]
  },
  {
   "cell_type": "code",
   "execution_count": 209,
   "metadata": {},
   "outputs": [
    {
     "data": {
      "text/plain": [
       "(19,)"
      ]
     },
     "execution_count": 209,
     "metadata": {},
     "output_type": "execute_result"
    }
   ],
   "source": [
    "total.loc[total['시군구명'] == '부천시 오정구', '시군구명'].shape"
   ]
  },
  {
   "cell_type": "code",
   "execution_count": 210,
   "metadata": {},
   "outputs": [
    {
     "data": {
      "text/plain": [
       "(20,)"
      ]
     },
     "execution_count": 210,
     "metadata": {},
     "output_type": "execute_result"
    }
   ],
   "source": [
    "total.loc[total['시군구명'] == '부천시 원미구', '시군구명'].shape"
   ]
  },
  {
   "cell_type": "code",
   "execution_count": 211,
   "metadata": {},
   "outputs": [],
   "source": [
    "total.loc[total['시군구명'] == '부천시 소사구', '시군구명_수정'] = '부천시'\n",
    "total.loc[total['시군구명'] == '부천시 오정구', '시군구명_수정'] = '부천시'\n",
    "total.loc[total['시군구명'] == '부천시 원미구', '시군구명_수정'] = '부천시'"
   ]
  },
  {
   "cell_type": "code",
   "execution_count": 212,
   "metadata": {},
   "outputs": [
    {
     "data": {
      "text/plain": [
       "(8122,)"
      ]
     },
     "execution_count": 212,
     "metadata": {},
     "output_type": "execute_result"
    }
   ],
   "source": [
    "total.loc[total['시군구명'] == '세종특별자치시', '시군구명'].shape"
   ]
  },
  {
   "cell_type": "code",
   "execution_count": 213,
   "metadata": {},
   "outputs": [],
   "source": [
    "total.loc[total['시군구명'] == '세종특별자치시', '시군구명_수정'] = np.nan"
   ]
  },
  {
   "cell_type": "code",
   "execution_count": 214,
   "metadata": {},
   "outputs": [
    {
     "data": {
      "text/plain": [
       "(1,)"
      ]
     },
     "execution_count": 214,
     "metadata": {},
     "output_type": "execute_result"
    }
   ],
   "source": [
    "total.loc[total['시군구명'] == '여주군', '시군구명'].shape"
   ]
  },
  {
   "cell_type": "code",
   "execution_count": 215,
   "metadata": {},
   "outputs": [],
   "source": [
    "total.loc[total['시군구명'] == '여주군', '시군구명_수정'] = '여주시'"
   ]
  },
  {
   "cell_type": "code",
   "execution_count": 216,
   "metadata": {},
   "outputs": [
    {
     "data": {
      "text/plain": [
       "(4,)"
      ]
     },
     "execution_count": 216,
     "metadata": {},
     "output_type": "execute_result"
    }
   ],
   "source": [
    "total.loc[total['시군구명'] == '청원군', '시군구명'].shape"
   ]
  },
  {
   "cell_type": "code",
   "execution_count": 217,
   "metadata": {},
   "outputs": [],
   "source": [
    "total.loc[total['시군구명'] == '청원군', '시군구명_수정'] = '청주시'"
   ]
  },
  {
   "cell_type": "code",
   "execution_count": 218,
   "metadata": {},
   "outputs": [
    {
     "data": {
      "text/plain": [
       "(9,)"
      ]
     },
     "execution_count": 218,
     "metadata": {},
     "output_type": "execute_result"
    }
   ],
   "source": [
    "total.loc[(total['시도명'] == '인천광역시') & (total['시군구명'] == '남구'), '시군구명'].shape"
   ]
  },
  {
   "cell_type": "code",
   "execution_count": 219,
   "metadata": {},
   "outputs": [],
   "source": [
    "total.loc[(total['시도명'] == '인천광역시') & (total['시군구명'] == '남구'), '시군구명_수정'] = '미추홀구'"
   ]
  },
  {
   "cell_type": "code",
   "execution_count": 220,
   "metadata": {},
   "outputs": [
    {
     "data": {
      "text/plain": [
       "set()"
      ]
     },
     "execution_count": 220,
     "metadata": {},
     "output_type": "execute_result"
    }
   ],
   "source": [
    "set(total['시군구명_수정'].unique()) - set(code['시군구명'].unique())"
   ]
  },
  {
   "cell_type": "code",
   "execution_count": 221,
   "metadata": {},
   "outputs": [
    {
     "data": {
      "text/plain": [
       "8122"
      ]
     },
     "execution_count": 221,
     "metadata": {},
     "output_type": "execute_result"
    }
   ],
   "source": [
    "total['시군구명_수정'].isnull().sum()"
   ]
  },
  {
   "attachments": {},
   "cell_type": "markdown",
   "metadata": {},
   "source": [
    "## 병합"
   ]
  },
  {
   "cell_type": "code",
   "execution_count": 222,
   "metadata": {},
   "outputs": [
    {
     "data": {
      "text/plain": [
       "Index(['차대번호', '차량번호', '제원관리번호', '차종', '용도', '최초등록일', '연식', '제작일자', '검사유효일',\n",
       "       '배출가스인증번호', '등급', '차명', '차종분류', '차종유형', '자동차형식', '제작사명', '연료', '엔진형식',\n",
       "       '총중량', '적재중량', '엔진출력', '배기량', '법정동코드', '시도명', '시군구명', '소유자구분', '말소여부',\n",
       "       '일치유무', '인증번호 수정 유무', '배인번호_수정', '등급_수정', 'DPF유무_수정', '배출가스', '등급2',\n",
       "       'DPF', '비고', 'Grade', '차령', '1일평균주행거리', 'VKT', 'DF_CO', 'DF_HC',\n",
       "       'DF_PM', 'DF_NOx', 'R_CO', 'R_HC', 'R_PM', 'EFi_CO', 'EFi_HC',\n",
       "       'EFi_NOx', 'EFi_PM10', 'EFi_PM2_5', 'Beta(Estimated)', 'eCOLD/eHOT_CO',\n",
       "       'eCOLD/eHOT_NOx', 'eCOLD/eHOT_HC', 'eCOLD/eHOT_PM', 'e_d', 'e_RHOT',\n",
       "       'e_RWARM', 'R', 'E_HOT_CO', 'E_COLD_CO', 'E_CO_total', 'E_HOT_HC',\n",
       "       'E_COLD_HC', 'E_EVA_VOC', 'E_HC_total', 'E_HOT_NOx', 'E_COLD_NOx',\n",
       "       'E_NOx_total', 'E_HOT_PM10', 'E_COLD_PM10', 'E_PM10_total',\n",
       "       'E_HOT_PM2_5', 'E_COLD_PM2_5', 'E_PM2_5_total', '시군구명_수정'],\n",
       "      dtype='object')"
      ]
     },
     "execution_count": 222,
     "metadata": {},
     "output_type": "execute_result"
    }
   ],
   "source": [
    "total.columns"
   ]
  },
  {
   "cell_type": "code",
   "execution_count": 223,
   "metadata": {},
   "outputs": [
    {
     "data": {
      "text/plain": [
       "Index(['dong_code', 'ctprvn_code', 'signgu_code', 'sdstrd_code', '시도명', '시군구명',\n",
       "       'sdstrd_nm'],\n",
       "      dtype='object')"
      ]
     },
     "execution_count": 223,
     "metadata": {},
     "output_type": "execute_result"
    }
   ],
   "source": [
    "code.columns"
   ]
  },
  {
   "cell_type": "code",
   "execution_count": 224,
   "metadata": {},
   "outputs": [
    {
     "data": {
      "text/plain": [
       "(1502232, 80)"
      ]
     },
     "execution_count": 224,
     "metadata": {},
     "output_type": "execute_result"
    }
   ],
   "source": [
    "total1 = total.merge(code[['시도명', '시군구명', 'dong_code']], left_on=['시도명', '시군구명_수정'], right_on=['시도명', '시군구명'], how='left')\n",
    "total1.shape"
   ]
  },
  {
   "cell_type": "code",
   "execution_count": 225,
   "metadata": {},
   "outputs": [
    {
     "data": {
      "text/plain": [
       "0"
      ]
     },
     "execution_count": 225,
     "metadata": {},
     "output_type": "execute_result"
    }
   ],
   "source": [
    "total1['dong_code'].isnull().sum()"
   ]
  },
  {
   "cell_type": "code",
   "execution_count": 226,
   "metadata": {},
   "outputs": [
    {
     "data": {
      "text/plain": [
       "Index(['차대번호', '차량번호', '제원관리번호', '차종', '용도', '최초등록일', '연식', '제작일자', '검사유효일',\n",
       "       '배출가스인증번호', '등급', '차명', '차종분류', '차종유형', '자동차형식', '제작사명', '연료', '엔진형식',\n",
       "       '총중량', '적재중량', '엔진출력', '배기량', '법정동코드', '시도명', '시군구명_x', '소유자구분', '말소여부',\n",
       "       '일치유무', '인증번호 수정 유무', '배인번호_수정', '등급_수정', 'DPF유무_수정', '배출가스', '등급2',\n",
       "       'DPF', '비고', 'Grade', '차령', '1일평균주행거리', 'VKT', 'DF_CO', 'DF_HC',\n",
       "       'DF_PM', 'DF_NOx', 'R_CO', 'R_HC', 'R_PM', 'EFi_CO', 'EFi_HC',\n",
       "       'EFi_NOx', 'EFi_PM10', 'EFi_PM2_5', 'Beta(Estimated)', 'eCOLD/eHOT_CO',\n",
       "       'eCOLD/eHOT_NOx', 'eCOLD/eHOT_HC', 'eCOLD/eHOT_PM', 'e_d', 'e_RHOT',\n",
       "       'e_RWARM', 'R', 'E_HOT_CO', 'E_COLD_CO', 'E_CO_total', 'E_HOT_HC',\n",
       "       'E_COLD_HC', 'E_EVA_VOC', 'E_HC_total', 'E_HOT_NOx', 'E_COLD_NOx',\n",
       "       'E_NOx_total', 'E_HOT_PM10', 'E_COLD_PM10', 'E_PM10_total',\n",
       "       'E_HOT_PM2_5', 'E_COLD_PM2_5', 'E_PM2_5_total', '시군구명_수정', '시군구명_y',\n",
       "       'dong_code'],\n",
       "      dtype='object')"
      ]
     },
     "execution_count": 226,
     "metadata": {},
     "output_type": "execute_result"
    }
   ],
   "source": [
    "total1.columns"
   ]
  },
  {
   "cell_type": "code",
   "execution_count": 227,
   "metadata": {},
   "outputs": [
    {
     "data": {
      "text/plain": [
       "Index(['차대번호', '차량번호', '제원관리번호', '차종', '용도', '최초등록일', '연식', '제작일자', '검사유효일',\n",
       "       '배출가스인증번호', '등급', '차명', '차종분류', '차종유형', '자동차형식', '제작사명', '연료', '엔진형식',\n",
       "       '총중량', '적재중량', '엔진출력', '배기량', '법정동코드', '시도명', '시군구명', '소유자구분', '말소여부',\n",
       "       '일치유무', '인증번호 수정 유무', '배인번호_수정', '등급_수정', 'DPF유무_수정', '배출가스', '등급2',\n",
       "       'DPF', '비고', 'Grade', '차령', '1일평균주행거리', 'VKT', 'DF_CO', 'DF_HC',\n",
       "       'DF_PM', 'DF_NOx', 'R_CO', 'R_HC', 'R_PM', 'EFi_CO', 'EFi_HC',\n",
       "       'EFi_NOx', 'EFi_PM10', 'EFi_PM2_5', 'Beta(Estimated)', 'eCOLD/eHOT_CO',\n",
       "       'eCOLD/eHOT_NOx', 'eCOLD/eHOT_HC', 'eCOLD/eHOT_PM', 'e_d', 'e_RHOT',\n",
       "       'e_RWARM', 'R', 'E_HOT_CO', 'E_COLD_CO', 'E_CO_total', 'E_HOT_HC',\n",
       "       'E_COLD_HC', 'E_EVA_VOC', 'E_HC_total', 'E_HOT_NOx', 'E_COLD_NOx',\n",
       "       'E_NOx_total', 'E_HOT_PM10', 'E_COLD_PM10', 'E_PM10_total',\n",
       "       'E_HOT_PM2_5', 'E_COLD_PM2_5', 'E_PM2_5_total', '시군구명_수정', 'dong_code'],\n",
       "      dtype='object')"
      ]
     },
     "execution_count": 227,
     "metadata": {},
     "output_type": "execute_result"
    }
   ],
   "source": [
    "total1 = total1.rename(columns={'시군구명_x':'시군구명'})\n",
    "total1 = total1.drop(['시군구명_y'], axis=1)\n",
    "total1.columns"
   ]
  },
  {
   "cell_type": "code",
   "execution_count": 228,
   "metadata": {},
   "outputs": [
    {
     "data": {
      "text/plain": [
       "(1502232, 44)"
      ]
     },
     "execution_count": 228,
     "metadata": {},
     "output_type": "execute_result"
    }
   ],
   "source": [
    "final = total1[['차대번호', '차량번호', '제원관리번호', '차종', '용도', '최초등록일', '연식', '제작일자', '검사유효일',\n",
    "                '배출가스인증번호', '등급', '차명', '차종분류', '차종유형', '자동차형식', '제작사명', '연료', '엔진형식',\n",
    "                '총중량', '적재중량', '엔진출력', '배기량', '법정동코드', '시도명', '시군구명', '소유자구분', '말소여부',\n",
    "                '일치유무', '인증번호 수정 유무', '배인번호_수정', '등급_수정', 'DPF유무_수정', '배출가스', '등급2',\n",
    "                'DPF', '비고', 'Grade', '시군구명_수정', 'dong_code', 'E_CO_total', 'E_HC_total', 'E_NOx_total', 'E_PM10_total', 'E_PM2_5_total']]\n",
    "final.shape"
   ]
  },
  {
   "attachments": {},
   "cell_type": "markdown",
   "metadata": {},
   "source": [
    "## 출력(4등급)"
   ]
  },
  {
   "cell_type": "code",
   "execution_count": 229,
   "metadata": {},
   "outputs": [
    {
     "data": {
      "text/plain": [
       "4.00    1497708\n",
       "3.00       4397\n",
       "5.00        127\n",
       "Name: 등급_수정, dtype: int64"
      ]
     },
     "execution_count": 229,
     "metadata": {},
     "output_type": "execute_result"
    }
   ],
   "source": [
    "final['등급_수정'].value_counts(dropna=False)"
   ]
  },
  {
   "cell_type": "code",
   "execution_count": 230,
   "metadata": {},
   "outputs": [
    {
     "data": {
      "text/plain": [
       "(1497708, 44)"
      ]
     },
     "execution_count": 230,
     "metadata": {},
     "output_type": "execute_result"
    }
   ],
   "source": [
    "df4 =  final[final['등급_수정'] == 4].reset_index(drop=True)\n",
    "df4.shape"
   ]
  },
  {
   "cell_type": "code",
   "execution_count": 231,
   "metadata": {},
   "outputs": [
    {
     "data": {
      "text/plain": [
       "'2023.04.24_PM.05.44.35'"
      ]
     },
     "execution_count": 231,
     "metadata": {},
     "output_type": "execute_result"
    }
   ],
   "source": [
    "today_date = datetime.today().strftime(\"%Y.%m.%d_%p.%I.%M.%S\")\n",
    "today_date"
   ]
  },
  {
   "attachments": {},
   "cell_type": "markdown",
   "metadata": {},
   "source": [
    "### csv"
   ]
  },
  {
   "cell_type": "code",
   "execution_count": 232,
   "metadata": {},
   "outputs": [],
   "source": [
    "# about 32.8s\n",
    "name = f'result(4등급)_CAPSS_배출량(Grade추가)(dong_code추가)({today_date})'\n",
    "file_name = f'{name}.csv'\n",
    "df4.to_csv(os.path.join(raw_fold, file_name), index=False)"
   ]
  },
  {
   "cell_type": "code",
   "execution_count": 233,
   "metadata": {},
   "outputs": [
    {
     "data": {
      "text/plain": [
       "'result(4등급)_CAPSS_배출량(Grade추가)(dong_code추가)(2023.04.24_PM.05.44.35)'"
      ]
     },
     "execution_count": 233,
     "metadata": {},
     "output_type": "execute_result"
    }
   ],
   "source": [
    "name"
   ]
  },
  {
   "attachments": {},
   "cell_type": "markdown",
   "metadata": {},
   "source": [
    "### excel"
   ]
  },
  {
   "cell_type": "code",
   "execution_count": 234,
   "metadata": {},
   "outputs": [
    {
     "data": {
      "text/plain": [
       "'01'"
      ]
     },
     "execution_count": 234,
     "metadata": {},
     "output_type": "execute_result"
    }
   ],
   "source": [
    "i = 1\n",
    "f'{i:0>2}'"
   ]
  },
  {
   "cell_type": "code",
   "execution_count": 235,
   "metadata": {},
   "outputs": [
    {
     "data": {
      "text/plain": [
       "4"
      ]
     },
     "execution_count": 235,
     "metadata": {},
     "output_type": "execute_result"
    }
   ],
   "source": [
    "per = 500000\n",
    "num = math.ceil(df4.shape[0] / per) + 1\n",
    "num"
   ]
  },
  {
   "cell_type": "code",
   "execution_count": 249,
   "metadata": {},
   "outputs": [],
   "source": [
    "# about 17m 7.1s\n",
    "name = f'result(4등급)_CAPSS_배출량(Grade추가)(dong_code추가)({today_date})'\n",
    "for i in range(1, num):\n",
    "    df4.iloc[per*(i-1):per*i].to_excel(os.path.join(raw_fold, f'{name}{i:0>2}.xlsx'), index=False)"
   ]
  },
  {
   "attachments": {},
   "cell_type": "markdown",
   "metadata": {},
   "source": [
    "## 출력(전체)"
   ]
  },
  {
   "cell_type": "code",
   "execution_count": 237,
   "metadata": {},
   "outputs": [
    {
     "data": {
      "text/plain": [
       "(1502232, 44)"
      ]
     },
     "execution_count": 237,
     "metadata": {},
     "output_type": "execute_result"
    }
   ],
   "source": [
    "final.shape"
   ]
  },
  {
   "cell_type": "markdown",
   "metadata": {},
   "source": [
    "### csv"
   ]
  },
  {
   "cell_type": "code",
   "execution_count": 238,
   "metadata": {},
   "outputs": [],
   "source": [
    "# about 1m 27.1s\n",
    "name = f'result(전체)_CAPSS_배출량(Grade추가)(dong_code추가)({today_date})'\n",
    "file_name = f'{name}.csv'\n",
    "final.to_csv(os.path.join(raw_fold, file_name), index=False)"
   ]
  },
  {
   "cell_type": "code",
   "execution_count": 239,
   "metadata": {},
   "outputs": [
    {
     "data": {
      "text/plain": [
       "'result(전체)_CAPSS_배출량(Grade추가)(dong_code추가)(2023.04.24_PM.05.44.35)'"
      ]
     },
     "execution_count": 239,
     "metadata": {},
     "output_type": "execute_result"
    }
   ],
   "source": [
    "name"
   ]
  },
  {
   "cell_type": "markdown",
   "metadata": {},
   "source": [
    "### excel"
   ]
  },
  {
   "cell_type": "code",
   "execution_count": 240,
   "metadata": {},
   "outputs": [
    {
     "data": {
      "text/plain": [
       "5"
      ]
     },
     "execution_count": 240,
     "metadata": {},
     "output_type": "execute_result"
    }
   ],
   "source": [
    "per = 500000\n",
    "num = math.ceil(final.shape[0] / per) + 1\n",
    "num"
   ]
  },
  {
   "cell_type": "code",
   "execution_count": 250,
   "metadata": {},
   "outputs": [],
   "source": [
    "# # about 30m 0.6s\n",
    "name = f'result(전체)_CAPSS_배출량(Grade추가)(dong_code추가)({today_date})'\n",
    "for i in range(1, num):\n",
    "    final.iloc[per*(i-1):per*i].to_excel(os.path.join(raw_fold, f'{name}{i:0>2}.xlsx'), index=False)"
   ]
  },
  {
   "attachments": {},
   "cell_type": "markdown",
   "metadata": {},
   "source": [
    "# 시도/시군구별 배출량 합계"
   ]
  },
  {
   "cell_type": "code",
   "execution_count": 242,
   "metadata": {},
   "outputs": [
    {
     "data": {
      "text/plain": [
       "Index(['차대번호', '차량번호', '제원관리번호', '차종', '용도', '최초등록일', '연식', '제작일자', '검사유효일',\n",
       "       '배출가스인증번호', '등급', '차명', '차종분류', '차종유형', '자동차형식', '제작사명', '연료', '엔진형식',\n",
       "       '총중량', '적재중량', '엔진출력', '배기량', '법정동코드', '시도명', '시군구명', '소유자구분', '말소여부',\n",
       "       '일치유무', '인증번호 수정 유무', '배인번호_수정', '등급_수정', 'DPF유무_수정', '배출가스', '등급2',\n",
       "       'DPF', '비고', 'Grade', '시군구명_수정', 'dong_code', 'E_CO_total',\n",
       "       'E_HC_total', 'E_NOx_total', 'E_PM10_total', 'E_PM2_5_total'],\n",
       "      dtype='object')"
      ]
     },
     "execution_count": 242,
     "metadata": {},
     "output_type": "execute_result"
    }
   ],
   "source": [
    "df4.columns"
   ]
  },
  {
   "cell_type": "code",
   "execution_count": 244,
   "metadata": {},
   "outputs": [
    {
     "data": {
      "text/html": [
       "<div>\n",
       "<style scoped>\n",
       "    .dataframe tbody tr th:only-of-type {\n",
       "        vertical-align: middle;\n",
       "    }\n",
       "\n",
       "    .dataframe tbody tr th {\n",
       "        vertical-align: top;\n",
       "    }\n",
       "\n",
       "    .dataframe thead th {\n",
       "        text-align: right;\n",
       "    }\n",
       "</style>\n",
       "<table border=\"1\" class=\"dataframe\">\n",
       "  <thead>\n",
       "    <tr style=\"text-align: right;\">\n",
       "      <th></th>\n",
       "      <th></th>\n",
       "      <th>E_CO_total</th>\n",
       "      <th>E_HC_total</th>\n",
       "      <th>E_NOx_total</th>\n",
       "      <th>E_PM10_total</th>\n",
       "      <th>E_PM2_5_total</th>\n",
       "    </tr>\n",
       "    <tr>\n",
       "      <th>연료</th>\n",
       "      <th>dong_code</th>\n",
       "      <th></th>\n",
       "      <th></th>\n",
       "      <th></th>\n",
       "      <th></th>\n",
       "      <th></th>\n",
       "    </tr>\n",
       "  </thead>\n",
       "  <tbody>\n",
       "    <tr>\n",
       "      <th rowspan=\"5\" valign=\"top\">LPG(액화석유가스)</th>\n",
       "      <th>1111000000</th>\n",
       "      <td>265388.41</td>\n",
       "      <td>8611.95</td>\n",
       "      <td>969.96</td>\n",
       "      <td>0.42</td>\n",
       "      <td>0.39</td>\n",
       "    </tr>\n",
       "    <tr>\n",
       "      <th>1114000000</th>\n",
       "      <td>363754.31</td>\n",
       "      <td>14436.73</td>\n",
       "      <td>1437.39</td>\n",
       "      <td>0.59</td>\n",
       "      <td>0.54</td>\n",
       "    </tr>\n",
       "    <tr>\n",
       "      <th>1117000000</th>\n",
       "      <td>353019.26</td>\n",
       "      <td>11903.67</td>\n",
       "      <td>1522.14</td>\n",
       "      <td>0.62</td>\n",
       "      <td>0.57</td>\n",
       "    </tr>\n",
       "    <tr>\n",
       "      <th>1120000000</th>\n",
       "      <td>471730.42</td>\n",
       "      <td>9750.80</td>\n",
       "      <td>1666.74</td>\n",
       "      <td>0.92</td>\n",
       "      <td>0.84</td>\n",
       "    </tr>\n",
       "    <tr>\n",
       "      <th>1121500000</th>\n",
       "      <td>821898.57</td>\n",
       "      <td>20558.00</td>\n",
       "      <td>1923.59</td>\n",
       "      <td>0.90</td>\n",
       "      <td>0.83</td>\n",
       "    </tr>\n",
       "    <tr>\n",
       "      <th>...</th>\n",
       "      <th>...</th>\n",
       "      <td>...</td>\n",
       "      <td>...</td>\n",
       "      <td>...</td>\n",
       "      <td>...</td>\n",
       "      <td>...</td>\n",
       "    </tr>\n",
       "    <tr>\n",
       "      <th rowspan=\"5\" valign=\"top\">휘발유</th>\n",
       "      <th>4887000000</th>\n",
       "      <td>5659824.64</td>\n",
       "      <td>996468.63</td>\n",
       "      <td>705979.40</td>\n",
       "      <td>1.82</td>\n",
       "      <td>1.68</td>\n",
       "    </tr>\n",
       "    <tr>\n",
       "      <th>4888000000</th>\n",
       "      <td>9462617.63</td>\n",
       "      <td>1710601.21</td>\n",
       "      <td>1212953.62</td>\n",
       "      <td>3.01</td>\n",
       "      <td>2.77</td>\n",
       "    </tr>\n",
       "    <tr>\n",
       "      <th>4889000000</th>\n",
       "      <td>6399008.05</td>\n",
       "      <td>1092054.19</td>\n",
       "      <td>770838.70</td>\n",
       "      <td>2.16</td>\n",
       "      <td>1.99</td>\n",
       "    </tr>\n",
       "    <tr>\n",
       "      <th>5011000000</th>\n",
       "      <td>75741581.70</td>\n",
       "      <td>12446572.94</td>\n",
       "      <td>8940125.62</td>\n",
       "      <td>24.66</td>\n",
       "      <td>22.69</td>\n",
       "    </tr>\n",
       "    <tr>\n",
       "      <th>5013000000</th>\n",
       "      <td>45726070.58</td>\n",
       "      <td>7872166.18</td>\n",
       "      <td>5468713.48</td>\n",
       "      <td>14.50</td>\n",
       "      <td>13.34</td>\n",
       "    </tr>\n",
       "  </tbody>\n",
       "</table>\n",
       "<p>751 rows × 5 columns</p>\n",
       "</div>"
      ],
      "text/plain": [
       "                        E_CO_total  E_HC_total  E_NOx_total  E_PM10_total  \\\n",
       "연료          dong_code                                                       \n",
       "LPG(액화석유가스) 1111000000   265388.41     8611.95       969.96          0.42   \n",
       "            1114000000   363754.31    14436.73      1437.39          0.59   \n",
       "            1117000000   353019.26    11903.67      1522.14          0.62   \n",
       "            1120000000   471730.42     9750.80      1666.74          0.92   \n",
       "            1121500000   821898.57    20558.00      1923.59          0.90   \n",
       "...                            ...         ...          ...           ...   \n",
       "휘발유         4887000000  5659824.64   996468.63    705979.40          1.82   \n",
       "            4888000000  9462617.63  1710601.21   1212953.62          3.01   \n",
       "            4889000000  6399008.05  1092054.19    770838.70          2.16   \n",
       "            5011000000 75741581.70 12446572.94   8940125.62         24.66   \n",
       "            5013000000 45726070.58  7872166.18   5468713.48         14.50   \n",
       "\n",
       "                        E_PM2_5_total  \n",
       "연료          dong_code                  \n",
       "LPG(액화석유가스) 1111000000           0.39  \n",
       "            1114000000           0.54  \n",
       "            1117000000           0.57  \n",
       "            1120000000           0.84  \n",
       "            1121500000           0.83  \n",
       "...                               ...  \n",
       "휘발유         4887000000           1.68  \n",
       "            4888000000           2.77  \n",
       "            4889000000           1.99  \n",
       "            5011000000          22.69  \n",
       "            5013000000          13.34  \n",
       "\n",
       "[751 rows x 5 columns]"
      ]
     },
     "execution_count": 244,
     "metadata": {},
     "output_type": "execute_result"
    }
   ],
   "source": [
    "groupby1 = df4.groupby(['연료', 'dong_code']).agg({'E_CO_total':'sum', 'E_HC_total':'sum', 'E_NOx_total':'sum', 'E_PM10_total':'sum', 'E_PM2_5_total':'sum'})\n",
    "groupby1"
   ]
  },
  {
   "attachments": {},
   "cell_type": "markdown",
   "metadata": {},
   "source": [
    "## 출력"
   ]
  },
  {
   "cell_type": "code",
   "execution_count": 246,
   "metadata": {},
   "outputs": [
    {
     "data": {
      "text/plain": [
       "'2023.04.24_PM.05.51.16'"
      ]
     },
     "execution_count": 246,
     "metadata": {},
     "output_type": "execute_result"
    }
   ],
   "source": [
    "today_date = datetime.today().strftime(\"%Y.%m.%d_%p.%I.%M.%S\")\n",
    "today_date"
   ]
  },
  {
   "cell_type": "code",
   "execution_count": 248,
   "metadata": {},
   "outputs": [],
   "source": [
    "groupby1.to_excel(os.path.join(analysis_fold, f'통계_4등급_result_시도_시군구별_CAPSS매연량합계({today_date}).xlsx'), sheet_name='시도_시군구')"
   ]
  },
  {
   "attachments": {},
   "cell_type": "markdown",
   "metadata": {},
   "source": [
    "# 코드 마지막"
   ]
  }
 ],
 "metadata": {
  "kernelspec": {
   "display_name": "base",
   "language": "python",
   "name": "python3"
  },
  "language_info": {
   "codemirror_mode": {
    "name": "ipython",
    "version": 3
   },
   "file_extension": ".py",
   "mimetype": "text/x-python",
   "name": "python",
   "nbconvert_exporter": "python",
   "pygments_lexer": "ipython3",
   "version": "3.9.13"
  },
  "orig_nbformat": 4,
  "vscode": {
   "interpreter": {
    "hash": "ad2bdc8ecc057115af97d19610ffacc2b4e99fae6737bb82f5d7fb13d2f2c186"
   }
  }
 },
 "nbformat": 4,
 "nbformat_minor": 2
}
