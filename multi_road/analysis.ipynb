{
 "cells": [
  {
   "cell_type": "markdown",
   "metadata": {},
   "source": [
    "# Library"
   ]
  },
  {
   "cell_type": "code",
   "execution_count": 18,
   "metadata": {},
   "outputs": [],
   "source": [
    "import pandas as pd\n",
    "import numpy as np\n",
    "import os\n",
    "import datetime as dt\n",
    "import time"
   ]
  },
  {
   "cell_type": "code",
   "execution_count": 19,
   "metadata": {},
   "outputs": [],
   "source": [
    "pd.options.display.float_format = '{:.2f}'.format\n",
    "# pd.reset_option('display.float_format')"
   ]
  },
  {
   "cell_type": "code",
   "execution_count": 20,
   "metadata": {},
   "outputs": [],
   "source": [
    "start_time = time.time()"
   ]
  },
  {
   "cell_type": "markdown",
   "metadata": {},
   "source": [
    "# Fold"
   ]
  },
  {
   "cell_type": "code",
   "execution_count": 188,
   "metadata": {},
   "outputs": [],
   "source": [
    "raw_fold = 'D:/data/multi_road/raw'\n",
    "an_fold = 'D:/data/multi_road/analysis'"
   ]
  },
  {
   "cell_type": "markdown",
   "metadata": {},
   "source": [
    "# Load"
   ]
  },
  {
   "cell_type": "markdown",
   "metadata": {},
   "source": [
    "## 원격측정정보"
   ]
  },
  {
   "cell_type": "code",
   "execution_count": 22,
   "metadata": {},
   "outputs": [
    {
     "data": {
      "text/plain": [
       "8"
      ]
     },
     "execution_count": 22,
     "metadata": {},
     "output_type": "execute_result"
    }
   ],
   "source": [
    "rsd_cdict = {\n",
    "    'vdfDateTime':'검사날짜',\n",
    "    'vdfTime':'검사시간',\n",
    "    'vdfRecordStatus':'기록상태',\n",
    "    'vdfValid':'유효',\n",
    "    'samSpeed':'속도',\n",
    "    'samAccel':'가속도',\n",
    "    # 'samFlag':'플래그',\n",
    "    'Smoke':'매연',\n",
    "    'V_PLATE':'자동차등록번호',\n",
    "}\n",
    "len(rsd_cdict)"
   ]
  },
  {
   "cell_type": "code",
   "execution_count": 23,
   "metadata": {},
   "outputs": [
    {
     "name": "stdout",
     "output_type": "stream",
     "text": [
      "<class 'pandas.core.frame.DataFrame'>\n",
      "RangeIndex: 31633 entries, 0 to 31632\n",
      "Data columns (total 8 columns):\n",
      " #   Column           Non-Null Count  Dtype  \n",
      "---  ------           --------------  -----  \n",
      " 0   vdfDateTime      31633 non-null  object \n",
      " 1   vdfTime          31633 non-null  object \n",
      " 2   vdfRecordStatus  31633 non-null  object \n",
      " 3   vdfValid         31633 non-null  object \n",
      " 4   samSpeed         31615 non-null  float64\n",
      " 5   samAccel         31615 non-null  float64\n",
      " 6   Smoke            31633 non-null  float64\n",
      " 7   V_PLATE          31498 non-null  object \n",
      "dtypes: float64(3), object(5)\n",
      "memory usage: 1.9+ MB\n"
     ]
    }
   ],
   "source": [
    "# # 18s\n",
    "# name = '매연RSD 도로측정데이터_20221004~20230330'\n",
    "# file_name = f'{name}.xlsx'\n",
    "# rsd = pd.read_excel(os.path.join(raw_fold, file_name))\n",
    "\n",
    "# 1s\n",
    "name = '매연RSD 도로측정데이터_20221004~20230330'\n",
    "file_name = f'{name}.csv'\n",
    "rsd = pd.read_csv(os.path.join(raw_fold, file_name), usecols=rsd_cdict.keys())\n",
    "rsd.info()"
   ]
  },
  {
   "cell_type": "code",
   "execution_count": 24,
   "metadata": {},
   "outputs": [
    {
     "data": {
      "text/plain": [
       "Index(['검사날짜', '검사시간', '기록상태', '유효', '속도', '가속도', '매연', '자동차등록번호'], dtype='object')"
      ]
     },
     "execution_count": 24,
     "metadata": {},
     "output_type": "execute_result"
    }
   ],
   "source": [
    "rsdr = rsd.rename(columns=rsd_cdict)\n",
    "rsdr.columns"
   ]
  },
  {
   "cell_type": "markdown",
   "metadata": {},
   "source": [
    "### [출력] csv"
   ]
  },
  {
   "cell_type": "code",
   "execution_count": 25,
   "metadata": {},
   "outputs": [],
   "source": [
    "# # 1s\n",
    "# rsd.to_csv(os.path.join(raw_fold, f'{name}.csv'), index=False)"
   ]
  },
  {
   "cell_type": "markdown",
   "metadata": {},
   "source": [
    "## 등록정보"
   ]
  },
  {
   "cell_type": "code",
   "execution_count": 224,
   "metadata": {},
   "outputs": [
    {
     "data": {
      "text/plain": [
       "10"
      ]
     },
     "execution_count": 224,
     "metadata": {},
     "output_type": "execute_result"
    }
   ],
   "source": [
    "car_cdict = {\n",
    "    'VIN':'차대번호', \n",
    "    # 'BSPL_STDG_CD':'법정동코드', \n",
    "    'EXHST_GAS_GRD_CD':'배출가스등급', \n",
    "    'EXHST_GAS_CERT_NO':'배출가스인증번호',\n",
    "    'VHCL_ERSR_YN':'차량말소YN',\n",
    "    'MANP_MNG_NO':'제원관리번호', \n",
    "    'YRIDNW':'차량연식', \n",
    "    'VHCTY_CD':'차종', \n",
    "    # 'PURPS_CD2':'용도', \n",
    "    'FRST_REG_YMD':'최초등록일자',\n",
    "    # 'VHCL_MNG_NO':'차량관리번호', \n",
    "    'VHRNO':'자동차등록번호',\n",
    "    # 'VHCL_OWNR_CL_CD':'소유자구분', \n",
    "    'VHCL_FBCTN_YMD':'차량제작일자'\n",
    "}\n",
    "len(car_cdict)"
   ]
  },
  {
   "cell_type": "code",
   "execution_count": 225,
   "metadata": {},
   "outputs": [
    {
     "name": "stderr",
     "output_type": "stream",
     "text": [
      "C:\\Users\\kbjung\\AppData\\Local\\Temp\\ipykernel_19580\\2069508936.py:4: DtypeWarning: Columns (8,18) have mixed types. Specify dtype option on import or set low_memory=False.\n",
      "  car = pd.read_csv(os.path.join(raw_fold, file_name), usecols=car_cdict.keys())\n"
     ]
    },
    {
     "name": "stdout",
     "output_type": "stream",
     "text": [
      "<class 'pandas.core.frame.DataFrame'>\n",
      "RangeIndex: 30625663 entries, 0 to 30625662\n",
      "Data columns (total 10 columns):\n",
      " #   Column             Dtype \n",
      "---  ------             ----- \n",
      " 0   EXHST_GAS_CERT_NO  object\n",
      " 1   EXHST_GAS_GRD_CD   object\n",
      " 2   FRST_REG_YMD       object\n",
      " 3   MANP_MNG_NO        object\n",
      " 4   VHCL_ERSR_YN       object\n",
      " 5   VHCL_FBCTN_YMD     object\n",
      " 6   YRIDNW             int64 \n",
      " 7   VHCTY_CD           object\n",
      " 8   VIN                object\n",
      " 9   VHRNO              object\n",
      "dtypes: int64(1), object(9)\n",
      "memory usage: 2.3+ GB\n"
     ]
    }
   ],
   "source": [
    "# 2m 30s\n",
    "name = 'STD_CEG_CAR_MIG(20230821)'\n",
    "file_name = f'{name}.csv'\n",
    "car = pd.read_csv(os.path.join(raw_fold, file_name), usecols=car_cdict.keys())\n",
    "car.info()"
   ]
  },
  {
   "cell_type": "code",
   "execution_count": 286,
   "metadata": {},
   "outputs": [
    {
     "data": {
      "text/plain": [
       "Index(['배출가스인증번호', '배출가스등급', '최초등록일자', '제원관리번호', '차량말소YN', '차량제작일자', '차량연식',\n",
       "       '차종', '차대번호', '자동차등록번호'],\n",
       "      dtype='object')"
      ]
     },
     "execution_count": 286,
     "metadata": {},
     "output_type": "execute_result"
    }
   ],
   "source": [
    "# 4s\n",
    "carr = car.rename(columns=car_cdict)\n",
    "carr.columns"
   ]
  },
  {
   "cell_type": "markdown",
   "metadata": {},
   "source": [
    "## 제원정보"
   ]
  },
  {
   "cell_type": "code",
   "execution_count": 29,
   "metadata": {},
   "outputs": [
    {
     "data": {
      "text/plain": [
       "11"
      ]
     },
     "execution_count": 29,
     "metadata": {},
     "output_type": "execute_result"
    }
   ],
   "source": [
    "src_cdict = {\n",
    "    'MANP_MNG_NO':'제원관리번호', \n",
    "    'FUEL_CD':'연료',\n",
    "    # 'VHCTY_CD':'차종', \n",
    "    'VHCTY_TY_CD2':'차종유형', \n",
    "    'MNFCTR_NM':'제작사명', \n",
    "    'VHCNM':'차명', \n",
    "    'VHCL_FRM':'자동차형식', \n",
    "    'EGIN_TY':'엔진형식', \n",
    "    'VHCTY_CL_CD':'차종분류',\n",
    "    'TOTL_WGHT':'총중량',\n",
    "    # 'CRYNG_WGHT':'적재중량',\n",
    "    'DSPLVL':'배기량', \n",
    "    'EGIN_OTPT':'엔진출력', \n",
    "}\n",
    "len(src_cdict)"
   ]
  },
  {
   "cell_type": "code",
   "execution_count": 30,
   "metadata": {},
   "outputs": [
    {
     "name": "stdout",
     "output_type": "stream",
     "text": [
      "<class 'pandas.core.frame.DataFrame'>\n",
      "RangeIndex: 566615 entries, 0 to 566614\n",
      "Data columns (total 11 columns):\n",
      " #   Column        Non-Null Count   Dtype  \n",
      "---  ------        --------------   -----  \n",
      " 0   VHCL_FRM      536460 non-null  object \n",
      " 1   DSPLVL        530949 non-null  float64\n",
      " 2   EGIN_OTPT     491335 non-null  float64\n",
      " 3   EGIN_TY       517013 non-null  object \n",
      " 4   FUEL_CD       545937 non-null  object \n",
      " 5   MNFCTR_NM     559794 non-null  object \n",
      " 6   MANP_MNG_NO   566615 non-null  object \n",
      " 7   TOTL_WGHT     563088 non-null  float64\n",
      " 8   VHCNM         566544 non-null  object \n",
      " 9   VHCTY_CL_CD   551140 non-null  object \n",
      " 10  VHCTY_TY_CD2  553038 non-null  object \n",
      "dtypes: float64(3), object(8)\n",
      "memory usage: 47.6+ MB\n"
     ]
    }
   ],
   "source": [
    "# 2s\n",
    "name = 'STD_CEG_CAR_SRC_MIG(20230821)'\n",
    "file_name = f'{name}.csv'\n",
    "src = pd.read_csv(os.path.join(raw_fold, file_name), usecols=src_cdict.keys())\n",
    "src.info()"
   ]
  },
  {
   "cell_type": "code",
   "execution_count": 31,
   "metadata": {},
   "outputs": [
    {
     "data": {
      "text/plain": [
       "Index(['자동차형식', '배기량', '엔진출력', '엔진형식', '연료', '제작사명', '제원관리번호', '총중량', '차명',\n",
       "       '차종분류', '차종유형'],\n",
       "      dtype='object')"
      ]
     },
     "execution_count": 31,
     "metadata": {},
     "output_type": "execute_result"
    }
   ],
   "source": [
    "srcr = src.rename(columns=src_cdict)\n",
    "srcr.columns"
   ]
  },
  {
   "cell_type": "markdown",
   "metadata": {},
   "source": [
    "## 정밀검사"
   ]
  },
  {
   "cell_type": "code",
   "execution_count": 32,
   "metadata": {},
   "outputs": [
    {
     "data": {
      "text/plain": [
       "8"
      ]
     },
     "execution_count": 32,
     "metadata": {},
     "output_type": "execute_result"
    }
   ],
   "source": [
    "eet_cdict = {\n",
    "    'VIN':'차대번호', \n",
    "    'PRCINSP_JGMT':'검사판정', \n",
    "    'PREC_NLOD_SMO_MSTVL1':'무부하매연측정치1', \n",
    "    'PREC_NLOD_SMO_JT_YN1':'무부하매연판정1', \n",
    "    'PREC_NLOD_SMO_PRMVL1':'무부하매연허용치1', \n",
    "    'PRCINSP_MSRMT_MTHD_CD':'검사방법', \n",
    "    'PRCINSP_KND_CD':'검사종류', \n",
    "    'PRCINSP_YMD':'검사일자',\n",
    "    # 'PRCINSP_DRVNG_DSTNC':'주행거리', \n",
    "}\n",
    "len(eet_cdict)"
   ]
  },
  {
   "cell_type": "code",
   "execution_count": 33,
   "metadata": {},
   "outputs": [
    {
     "name": "stdout",
     "output_type": "stream",
     "text": [
      "<class 'pandas.core.frame.DataFrame'>\n",
      "RangeIndex: 102191938 entries, 0 to 102191937\n",
      "Data columns (total 8 columns):\n",
      " #   Column                 Dtype  \n",
      "---  ------                 -----  \n",
      " 0   VIN                    object \n",
      " 1   PRCINSP_JGMT           object \n",
      " 2   PREC_NLOD_SMO_MSTVL1   float64\n",
      " 3   PREC_NLOD_SMO_JT_YN1   object \n",
      " 4   PREC_NLOD_SMO_PRMVL1   float64\n",
      " 5   PRCINSP_MSRMT_MTHD_CD  object \n",
      " 6   PRCINSP_KND_CD         object \n",
      " 7   PRCINSP_YMD            int64  \n",
      "dtypes: float64(2), int64(1), object(5)\n",
      "memory usage: 6.1+ GB\n"
     ]
    }
   ],
   "source": [
    "# 2m\n",
    "name = 'STD_TB_EET_HIS_ME(20230825)'\n",
    "file_name = f'{name}.csv'\n",
    "eet = pd.read_csv(os.path.join(raw_fold, file_name), usecols=eet_cdict.keys())\n",
    "eet.info()"
   ]
  },
  {
   "cell_type": "code",
   "execution_count": 34,
   "metadata": {},
   "outputs": [
    {
     "data": {
      "text/plain": [
       "Index(['차대번호', '검사판정', '무부하매연측정치1', '무부하매연판정1', '무부하매연허용치1', '검사방법', '검사종류',\n",
       "       '검사일자'],\n",
       "      dtype='object')"
      ]
     },
     "execution_count": 34,
     "metadata": {},
     "output_type": "execute_result"
    }
   ],
   "source": [
    "# 12s\n",
    "eetr = eet.rename(columns=eet_cdict)\n",
    "eetr.columns"
   ]
  },
  {
   "cell_type": "code",
   "execution_count": 189,
   "metadata": {},
   "outputs": [
    {
     "data": {
      "text/plain": [
       "count                        102191938\n",
       "mean     2015-06-12 01:53:53.696120576\n",
       "min                2002-05-20 00:00:00\n",
       "25%                2010-10-23 00:00:00\n",
       "50%                2015-12-23 00:00:00\n",
       "75%                2020-07-18 00:00:00\n",
       "max                2023-07-31 00:00:00\n",
       "Name: 검사일자, dtype: object"
      ]
     },
     "execution_count": 189,
     "metadata": {},
     "output_type": "execute_result"
    }
   ],
   "source": [
    "eetr['검사일자'].describe()"
   ]
  },
  {
   "cell_type": "markdown",
   "metadata": {},
   "source": [
    "# Preprocessing"
   ]
  },
  {
   "cell_type": "markdown",
   "metadata": {},
   "source": [
    "## 원격측정정보"
   ]
  },
  {
   "cell_type": "code",
   "execution_count": 35,
   "metadata": {},
   "outputs": [
    {
     "data": {
      "text/plain": [
       "Index(['검사날짜', '검사시간', '기록상태', '유효', '속도', '가속도', '매연', '자동차등록번호'], dtype='object')"
      ]
     },
     "execution_count": 35,
     "metadata": {},
     "output_type": "execute_result"
    }
   ],
   "source": [
    "rsdr.columns"
   ]
  },
  {
   "cell_type": "code",
   "execution_count": 36,
   "metadata": {},
   "outputs": [
    {
     "data": {
      "text/plain": [
       "0    60저3406\n",
       "1    41구0483\n",
       "2    80러0579\n",
       "3    94누0128\n",
       "4    60수4386\n",
       "Name: 자동차등록번호, dtype: object"
      ]
     },
     "execution_count": 36,
     "metadata": {},
     "output_type": "execute_result"
    }
   ],
   "source": [
    "rsdr['자동차등록번호'].head()"
   ]
  },
  {
   "cell_type": "code",
   "execution_count": 37,
   "metadata": {},
   "outputs": [
    {
     "data": {
      "text/plain": [
       "((31633, 8), 18131)"
      ]
     },
     "execution_count": 37,
     "metadata": {},
     "output_type": "execute_result"
    }
   ],
   "source": [
    "rsdr.shape, len(rsdr['자동차등록번호'].unique())"
   ]
  },
  {
   "cell_type": "code",
   "execution_count": 38,
   "metadata": {},
   "outputs": [
    {
     "data": {
      "text/plain": [
       "135"
      ]
     },
     "execution_count": 38,
     "metadata": {},
     "output_type": "execute_result"
    }
   ],
   "source": [
    "rsdr['자동차등록번호'].isnull().sum()"
   ]
  },
  {
   "cell_type": "code",
   "execution_count": 39,
   "metadata": {},
   "outputs": [
    {
     "data": {
      "text/plain": [
       "(9741, 8)"
      ]
     },
     "execution_count": 39,
     "metadata": {},
     "output_type": "execute_result"
    }
   ],
   "source": [
    "rsdr[rsdr['자동차등록번호'] == '********'].shape"
   ]
  },
  {
   "cell_type": "code",
   "execution_count": 40,
   "metadata": {},
   "outputs": [
    {
     "data": {
      "text/plain": [
       "기록상태\n",
       "N    31615\n",
       "C        9\n",
       "A        9\n",
       "Name: count, dtype: int64"
      ]
     },
     "execution_count": 40,
     "metadata": {},
     "output_type": "execute_result"
    }
   ],
   "source": [
    "# A(Audit(검증)), C(Calibration), N(일반측정상태)\n",
    "rsdr['기록상태'].value_counts(dropna=False)"
   ]
  },
  {
   "cell_type": "code",
   "execution_count": 41,
   "metadata": {},
   "outputs": [
    {
     "data": {
      "text/plain": [
       "유효\n",
       "V    31615\n",
       "x       18\n",
       "Name: count, dtype: int64"
      ]
     },
     "execution_count": 41,
     "metadata": {},
     "output_type": "execute_result"
    }
   ],
   "source": [
    "rsdr['유효'].value_counts(dropna=False)"
   ]
  },
  {
   "cell_type": "code",
   "execution_count": 42,
   "metadata": {},
   "outputs": [
    {
     "data": {
      "text/plain": [
       "유효\n",
       "V    31615\n",
       "Name: count, dtype: int64"
      ]
     },
     "execution_count": 42,
     "metadata": {},
     "output_type": "execute_result"
    }
   ],
   "source": [
    "rsdr.loc[rsdr['기록상태'] == 'N', '유효'].value_counts(dropna=False)"
   ]
  },
  {
   "cell_type": "code",
   "execution_count": 43,
   "metadata": {},
   "outputs": [
    {
     "data": {
      "text/plain": [
       "(21757, 8)"
      ]
     },
     "execution_count": 43,
     "metadata": {},
     "output_type": "execute_result"
    }
   ],
   "source": [
    "rsdr = rsdr[(rsdr['기록상태'] == 'N') & (rsdr['자동차등록번호'] != '********') & (rsdr['자동차등록번호'].isnull() == False)].reset_index(drop=True)\n",
    "rsdr.shape"
   ]
  },
  {
   "cell_type": "code",
   "execution_count": 44,
   "metadata": {},
   "outputs": [
    {
     "data": {
      "text/html": [
       "<div>\n",
       "<style scoped>\n",
       "    .dataframe tbody tr th:only-of-type {\n",
       "        vertical-align: middle;\n",
       "    }\n",
       "\n",
       "    .dataframe tbody tr th {\n",
       "        vertical-align: top;\n",
       "    }\n",
       "\n",
       "    .dataframe thead th {\n",
       "        text-align: right;\n",
       "    }\n",
       "</style>\n",
       "<table border=\"1\" class=\"dataframe\">\n",
       "  <thead>\n",
       "    <tr style=\"text-align: right;\">\n",
       "      <th></th>\n",
       "      <th>속도</th>\n",
       "      <th>가속도</th>\n",
       "      <th>매연</th>\n",
       "    </tr>\n",
       "  </thead>\n",
       "  <tbody>\n",
       "    <tr>\n",
       "      <th>count</th>\n",
       "      <td>21757.00</td>\n",
       "      <td>21757.00</td>\n",
       "      <td>21757.00</td>\n",
       "    </tr>\n",
       "    <tr>\n",
       "      <th>mean</th>\n",
       "      <td>49.15</td>\n",
       "      <td>0.02</td>\n",
       "      <td>1.39</td>\n",
       "    </tr>\n",
       "    <tr>\n",
       "      <th>std</th>\n",
       "      <td>43.31</td>\n",
       "      <td>10.70</td>\n",
       "      <td>2.92</td>\n",
       "    </tr>\n",
       "    <tr>\n",
       "      <th>min</th>\n",
       "      <td>0.00</td>\n",
       "      <td>-325.50</td>\n",
       "      <td>0.00</td>\n",
       "    </tr>\n",
       "    <tr>\n",
       "      <th>25%</th>\n",
       "      <td>43.30</td>\n",
       "      <td>0.00</td>\n",
       "      <td>0.30</td>\n",
       "    </tr>\n",
       "    <tr>\n",
       "      <th>50%</th>\n",
       "      <td>50.20</td>\n",
       "      <td>0.10</td>\n",
       "      <td>0.50</td>\n",
       "    </tr>\n",
       "    <tr>\n",
       "      <th>75%</th>\n",
       "      <td>56.30</td>\n",
       "      <td>0.40</td>\n",
       "      <td>0.90</td>\n",
       "    </tr>\n",
       "    <tr>\n",
       "      <th>max</th>\n",
       "      <td>2244.50</td>\n",
       "      <td>314.10</td>\n",
       "      <td>19.90</td>\n",
       "    </tr>\n",
       "  </tbody>\n",
       "</table>\n",
       "</div>"
      ],
      "text/plain": [
       "            속도      가속도       매연\n",
       "count 21757.00 21757.00 21757.00\n",
       "mean     49.15     0.02     1.39\n",
       "std      43.31    10.70     2.92\n",
       "min       0.00  -325.50     0.00\n",
       "25%      43.30     0.00     0.30\n",
       "50%      50.20     0.10     0.50\n",
       "75%      56.30     0.40     0.90\n",
       "max    2244.50   314.10    19.90"
      ]
     },
     "execution_count": 44,
     "metadata": {},
     "output_type": "execute_result"
    }
   ],
   "source": [
    "rsdr[['속도', '가속도', '매연']].describe()"
   ]
  },
  {
   "cell_type": "code",
   "execution_count": 45,
   "metadata": {},
   "outputs": [
    {
     "data": {
      "text/html": [
       "<div>\n",
       "<style scoped>\n",
       "    .dataframe tbody tr th:only-of-type {\n",
       "        vertical-align: middle;\n",
       "    }\n",
       "\n",
       "    .dataframe tbody tr th {\n",
       "        vertical-align: top;\n",
       "    }\n",
       "\n",
       "    .dataframe thead th {\n",
       "        text-align: right;\n",
       "    }\n",
       "</style>\n",
       "<table border=\"1\" class=\"dataframe\">\n",
       "  <thead>\n",
       "    <tr style=\"text-align: right;\">\n",
       "      <th></th>\n",
       "      <th>검사날짜</th>\n",
       "      <th>검사시간</th>\n",
       "    </tr>\n",
       "  </thead>\n",
       "  <tbody>\n",
       "    <tr>\n",
       "      <th>0</th>\n",
       "      <td>10-04-2022</td>\n",
       "      <td>10:31:20</td>\n",
       "    </tr>\n",
       "    <tr>\n",
       "      <th>1</th>\n",
       "      <td>10-04-2022</td>\n",
       "      <td>10:31:46</td>\n",
       "    </tr>\n",
       "    <tr>\n",
       "      <th>2</th>\n",
       "      <td>10-04-2022</td>\n",
       "      <td>10:31:58</td>\n",
       "    </tr>\n",
       "    <tr>\n",
       "      <th>3</th>\n",
       "      <td>10-04-2022</td>\n",
       "      <td>10:32:47</td>\n",
       "    </tr>\n",
       "    <tr>\n",
       "      <th>4</th>\n",
       "      <td>10-04-2022</td>\n",
       "      <td>10:34:03</td>\n",
       "    </tr>\n",
       "  </tbody>\n",
       "</table>\n",
       "</div>"
      ],
      "text/plain": [
       "         검사날짜      검사시간\n",
       "0  10-04-2022  10:31:20\n",
       "1  10-04-2022  10:31:46\n",
       "2  10-04-2022  10:31:58\n",
       "3  10-04-2022  10:32:47\n",
       "4  10-04-2022  10:34:03"
      ]
     },
     "execution_count": 45,
     "metadata": {},
     "output_type": "execute_result"
    }
   ],
   "source": [
    "rsdr[['검사날짜', '검사시간']].head()"
   ]
  },
  {
   "cell_type": "code",
   "execution_count": 46,
   "metadata": {},
   "outputs": [
    {
     "data": {
      "text/plain": [
       "검사날짜    0\n",
       "검사시간    0\n",
       "dtype: int64"
      ]
     },
     "execution_count": 46,
     "metadata": {},
     "output_type": "execute_result"
    }
   ],
   "source": [
    "rsdr[['검사날짜', '검사시간']].isnull().sum()"
   ]
  },
  {
   "cell_type": "code",
   "execution_count": 47,
   "metadata": {},
   "outputs": [
    {
     "data": {
      "text/plain": [
       "검사날짜    object\n",
       "검사시간    object\n",
       "dtype: object"
      ]
     },
     "execution_count": 47,
     "metadata": {},
     "output_type": "execute_result"
    }
   ],
   "source": [
    "rsdr[['검사날짜', '검사시간']].dtypes"
   ]
  },
  {
   "cell_type": "code",
   "execution_count": 48,
   "metadata": {},
   "outputs": [
    {
     "data": {
      "text/plain": [
       "0   2022-10-04 10:31:20\n",
       "1   2022-10-04 10:31:46\n",
       "2   2022-10-04 10:31:58\n",
       "3   2022-10-04 10:32:47\n",
       "4   2022-10-04 10:34:03\n",
       "Name: 검사날짜시간, dtype: datetime64[ns]"
      ]
     },
     "execution_count": 48,
     "metadata": {},
     "output_type": "execute_result"
    }
   ],
   "source": [
    "rsdr['검사날짜시간'] = rsdr['검사날짜'] + ' ' + rsdr['검사시간']\n",
    "rsdr['검사날짜시간']= pd.to_datetime(rsdr['검사날짜시간'])\n",
    "rsdr['검사날짜시간'].head()"
   ]
  },
  {
   "cell_type": "code",
   "execution_count": 49,
   "metadata": {},
   "outputs": [],
   "source": [
    "rsdr['검사날짜'] = pd.to_datetime(rsdr['검사날짜'])"
   ]
  },
  {
   "cell_type": "code",
   "execution_count": 50,
   "metadata": {},
   "outputs": [],
   "source": [
    "rsdr['검사날짜시간_년'] = rsdr['검사날짜시간'].dt.year\n",
    "rsdr['검사날짜시간_월'] = rsdr['검사날짜시간'].dt.month\n",
    "rsdr['검사날짜시간_일'] = rsdr['검사날짜시간'].dt.day\n",
    "rsdr['검사날짜시간_시'] = rsdr['검사날짜시간'].dt.hour\n",
    "rsdr['검사날짜시간_분'] = rsdr['검사날짜시간'].dt.minute\n",
    "rsdr['검사날짜시간_초'] = rsdr['검사날짜시간'].dt.second\n",
    "rsdr['검사날짜시간_요일'] = rsdr['검사날짜시간'].dt.weekday.map({0:'월', 1:'화', 2:'수', 3:'목', 4:'금', 5:'토', 6:'일'})"
   ]
  },
  {
   "cell_type": "code",
   "execution_count": 51,
   "metadata": {},
   "outputs": [
    {
     "data": {
      "text/html": [
       "<div>\n",
       "<style scoped>\n",
       "    .dataframe tbody tr th:only-of-type {\n",
       "        vertical-align: middle;\n",
       "    }\n",
       "\n",
       "    .dataframe tbody tr th {\n",
       "        vertical-align: top;\n",
       "    }\n",
       "\n",
       "    .dataframe thead th {\n",
       "        text-align: right;\n",
       "    }\n",
       "</style>\n",
       "<table border=\"1\" class=\"dataframe\">\n",
       "  <thead>\n",
       "    <tr style=\"text-align: right;\">\n",
       "      <th></th>\n",
       "      <th>검사날짜</th>\n",
       "      <th>검사시간</th>\n",
       "      <th>기록상태</th>\n",
       "      <th>유효</th>\n",
       "      <th>속도</th>\n",
       "      <th>가속도</th>\n",
       "      <th>매연</th>\n",
       "      <th>자동차등록번호</th>\n",
       "      <th>검사날짜시간</th>\n",
       "      <th>검사날짜시간_년</th>\n",
       "      <th>검사날짜시간_월</th>\n",
       "      <th>검사날짜시간_일</th>\n",
       "      <th>검사날짜시간_시</th>\n",
       "      <th>검사날짜시간_분</th>\n",
       "      <th>검사날짜시간_초</th>\n",
       "      <th>검사날짜시간_요일</th>\n",
       "    </tr>\n",
       "  </thead>\n",
       "  <tbody>\n",
       "    <tr>\n",
       "      <th>0</th>\n",
       "      <td>2022-10-04</td>\n",
       "      <td>10:31:20</td>\n",
       "      <td>N</td>\n",
       "      <td>V</td>\n",
       "      <td>71.60</td>\n",
       "      <td>0.00</td>\n",
       "      <td>0.60</td>\n",
       "      <td>60저3406</td>\n",
       "      <td>2022-10-04 10:31:20</td>\n",
       "      <td>2022</td>\n",
       "      <td>10</td>\n",
       "      <td>4</td>\n",
       "      <td>10</td>\n",
       "      <td>31</td>\n",
       "      <td>20</td>\n",
       "      <td>화</td>\n",
       "    </tr>\n",
       "    <tr>\n",
       "      <th>1</th>\n",
       "      <td>2022-10-04</td>\n",
       "      <td>10:31:46</td>\n",
       "      <td>N</td>\n",
       "      <td>V</td>\n",
       "      <td>60.70</td>\n",
       "      <td>0.00</td>\n",
       "      <td>0.80</td>\n",
       "      <td>41구0483</td>\n",
       "      <td>2022-10-04 10:31:46</td>\n",
       "      <td>2022</td>\n",
       "      <td>10</td>\n",
       "      <td>4</td>\n",
       "      <td>10</td>\n",
       "      <td>31</td>\n",
       "      <td>46</td>\n",
       "      <td>화</td>\n",
       "    </tr>\n",
       "    <tr>\n",
       "      <th>2</th>\n",
       "      <td>2022-10-04</td>\n",
       "      <td>10:31:58</td>\n",
       "      <td>N</td>\n",
       "      <td>V</td>\n",
       "      <td>50.60</td>\n",
       "      <td>0.40</td>\n",
       "      <td>0.70</td>\n",
       "      <td>80러0579</td>\n",
       "      <td>2022-10-04 10:31:58</td>\n",
       "      <td>2022</td>\n",
       "      <td>10</td>\n",
       "      <td>4</td>\n",
       "      <td>10</td>\n",
       "      <td>31</td>\n",
       "      <td>58</td>\n",
       "      <td>화</td>\n",
       "    </tr>\n",
       "    <tr>\n",
       "      <th>3</th>\n",
       "      <td>2022-10-04</td>\n",
       "      <td>10:32:47</td>\n",
       "      <td>N</td>\n",
       "      <td>V</td>\n",
       "      <td>53.30</td>\n",
       "      <td>1.40</td>\n",
       "      <td>0.90</td>\n",
       "      <td>94누0128</td>\n",
       "      <td>2022-10-04 10:32:47</td>\n",
       "      <td>2022</td>\n",
       "      <td>10</td>\n",
       "      <td>4</td>\n",
       "      <td>10</td>\n",
       "      <td>32</td>\n",
       "      <td>47</td>\n",
       "      <td>화</td>\n",
       "    </tr>\n",
       "    <tr>\n",
       "      <th>4</th>\n",
       "      <td>2022-10-04</td>\n",
       "      <td>10:34:03</td>\n",
       "      <td>N</td>\n",
       "      <td>V</td>\n",
       "      <td>36.10</td>\n",
       "      <td>0.50</td>\n",
       "      <td>0.70</td>\n",
       "      <td>60수4386</td>\n",
       "      <td>2022-10-04 10:34:03</td>\n",
       "      <td>2022</td>\n",
       "      <td>10</td>\n",
       "      <td>4</td>\n",
       "      <td>10</td>\n",
       "      <td>34</td>\n",
       "      <td>3</td>\n",
       "      <td>화</td>\n",
       "    </tr>\n",
       "  </tbody>\n",
       "</table>\n",
       "</div>"
      ],
      "text/plain": [
       "        검사날짜      검사시간 기록상태 유효    속도  가속도   매연  자동차등록번호              검사날짜시간   \n",
       "0 2022-10-04  10:31:20    N  V 71.60 0.00 0.60  60저3406 2022-10-04 10:31:20  \\\n",
       "1 2022-10-04  10:31:46    N  V 60.70 0.00 0.80  41구0483 2022-10-04 10:31:46   \n",
       "2 2022-10-04  10:31:58    N  V 50.60 0.40 0.70  80러0579 2022-10-04 10:31:58   \n",
       "3 2022-10-04  10:32:47    N  V 53.30 1.40 0.90  94누0128 2022-10-04 10:32:47   \n",
       "4 2022-10-04  10:34:03    N  V 36.10 0.50 0.70  60수4386 2022-10-04 10:34:03   \n",
       "\n",
       "   검사날짜시간_년  검사날짜시간_월  검사날짜시간_일  검사날짜시간_시  검사날짜시간_분  검사날짜시간_초 검사날짜시간_요일  \n",
       "0      2022        10         4        10        31        20         화  \n",
       "1      2022        10         4        10        31        46         화  \n",
       "2      2022        10         4        10        31        58         화  \n",
       "3      2022        10         4        10        32        47         화  \n",
       "4      2022        10         4        10        34         3         화  "
      ]
     },
     "execution_count": 51,
     "metadata": {},
     "output_type": "execute_result"
    }
   ],
   "source": [
    "rsdr.head()"
   ]
  },
  {
   "cell_type": "code",
   "execution_count": 52,
   "metadata": {},
   "outputs": [
    {
     "data": {
      "text/plain": [
       "array(['화', '수', '목', '금', '월'], dtype=object)"
      ]
     },
     "execution_count": 52,
     "metadata": {},
     "output_type": "execute_result"
    }
   ],
   "source": [
    "rsdr['검사날짜시간_요일'].unique()"
   ]
  },
  {
   "cell_type": "markdown",
   "metadata": {},
   "source": [
    "## 등록정보"
   ]
  },
  {
   "cell_type": "code",
   "execution_count": 287,
   "metadata": {},
   "outputs": [
    {
     "data": {
      "text/plain": [
       "차량말소YN\n",
       "N    25795579\n",
       "Y     4830084\n",
       "Name: count, dtype: int64"
      ]
     },
     "execution_count": 287,
     "metadata": {},
     "output_type": "execute_result"
    }
   ],
   "source": [
    "carr['차량말소YN'].value_counts(dropna=False)"
   ]
  },
  {
   "cell_type": "code",
   "execution_count": 288,
   "metadata": {},
   "outputs": [
    {
     "data": {
      "text/plain": [
       "(25795579, 10)"
      ]
     },
     "execution_count": 288,
     "metadata": {},
     "output_type": "execute_result"
    }
   ],
   "source": [
    "# 9s\n",
    "# 말소 제거\n",
    "carr = carr[carr['차량말소YN'] == 'N'].reset_index(drop=True)\n",
    "carr.shape"
   ]
  },
  {
   "cell_type": "code",
   "execution_count": 289,
   "metadata": {},
   "outputs": [
    {
     "data": {
      "text/plain": [
       "dtype('O')"
      ]
     },
     "execution_count": 289,
     "metadata": {},
     "output_type": "execute_result"
    }
   ],
   "source": [
    "carr['최초등록일자'].dtype"
   ]
  },
  {
   "cell_type": "code",
   "execution_count": 290,
   "metadata": {},
   "outputs": [],
   "source": [
    "# 6s\n",
    "# 최초등록일자 숫자형으로 변환\n",
    "carr['최초등록일자'] = pd.to_numeric(carr['최초등록일자'], errors='coerce')"
   ]
  },
  {
   "cell_type": "code",
   "execution_count": 291,
   "metadata": {},
   "outputs": [
    {
     "data": {
      "text/plain": [
       "(25795579, 10)"
      ]
     },
     "execution_count": 291,
     "metadata": {},
     "output_type": "execute_result"
    }
   ],
   "source": [
    "carr.shape"
   ]
  },
  {
   "cell_type": "code",
   "execution_count": 292,
   "metadata": {},
   "outputs": [
    {
     "data": {
      "text/plain": [
       "dtype('O')"
      ]
     },
     "execution_count": 292,
     "metadata": {},
     "output_type": "execute_result"
    }
   ],
   "source": [
    "carr['차량제작일자'].dtype"
   ]
  },
  {
   "cell_type": "code",
   "execution_count": 293,
   "metadata": {},
   "outputs": [
    {
     "data": {
      "text/plain": [
       "362730"
      ]
     },
     "execution_count": 293,
     "metadata": {},
     "output_type": "execute_result"
    }
   ],
   "source": [
    "carr['차량제작일자'].isnull().sum()"
   ]
  },
  {
   "cell_type": "code",
   "execution_count": 294,
   "metadata": {},
   "outputs": [
    {
     "data": {
      "text/plain": [
       "362731"
      ]
     },
     "execution_count": 294,
     "metadata": {},
     "output_type": "execute_result"
    }
   ],
   "source": [
    "# 3s\n",
    "carr['차량제작일자'] = pd.to_numeric(carr['차량제작일자'], errors='coerce')\n",
    "carr['차량제작일자'].isnull().sum()"
   ]
  },
  {
   "cell_type": "code",
   "execution_count": 295,
   "metadata": {},
   "outputs": [
    {
     "data": {
      "text/plain": [
       "(25795319, 10)"
      ]
     },
     "execution_count": 295,
     "metadata": {},
     "output_type": "execute_result"
    }
   ],
   "source": [
    "# 1m 12s\n",
    "# 중복 차대번호 제거(최신 최초등록일자 남기기)\n",
    "carr = carr.sort_values('최초등록일자', ascending=False).drop_duplicates('차대번호').reset_index(drop=True)\n",
    "carr.shape"
   ]
  },
  {
   "cell_type": "code",
   "execution_count": 296,
   "metadata": {},
   "outputs": [
    {
     "data": {
      "text/plain": [
       "array(['2', '1', nan, '3', '5', '4'], dtype=object)"
      ]
     },
     "execution_count": 296,
     "metadata": {},
     "output_type": "execute_result"
    }
   ],
   "source": [
    "# 11s\n",
    "# 배출가스등급 코드 변환\n",
    "grd_dict = {\n",
    "    'A0501':'1', \n",
    "    'A0502':'2', \n",
    "    'A0503':'3', \n",
    "    'A0504':'4', \n",
    "    'A0505':'5', \n",
    "    'A05T2':'2',\n",
    "    'A05T3':'3', \n",
    "    'A05T4':'4', \n",
    "    'A05T5':'5', \n",
    "    'A05X':'X', \n",
    "}\n",
    "carr['배출가스등급'] = carr['배출가스등급'].replace(grd_dict)\n",
    "carr['배출가스등급'].unique()"
   ]
  },
  {
   "cell_type": "code",
   "execution_count": 297,
   "metadata": {},
   "outputs": [
    {
     "data": {
      "text/plain": [
       "array(['승용', '화물', '특수', '승합'], dtype=object)"
      ]
     },
     "execution_count": 297,
     "metadata": {},
     "output_type": "execute_result"
    }
   ],
   "source": [
    "# 7s\n",
    "# 차종 코드 변환\n",
    "cd_dict = {\n",
    "    'A31M':'이륜', \n",
    "    'A31P':'승용', \n",
    "    'A31S':'특수', \n",
    "    'A31T':'화물', \n",
    "    'A31V':'승합'\n",
    "}\n",
    "carr['차종'] = carr['차종'].replace(cd_dict)\n",
    "carr['차종'].unique()"
   ]
  },
  {
   "cell_type": "code",
   "execution_count": 236,
   "metadata": {},
   "outputs": [],
   "source": [
    "# ## 용도 코드 변환\n",
    "# purps_dict = {\n",
    "#     'A08P':'개인용', \n",
    "#     'A08B':'영업용', \n",
    "#     'A08O':'관용',\n",
    "# }\n",
    "# carr['용도'] = carr['용도'].replace(purps_dict)\n",
    "# carr['용도'].unique()"
   ]
  },
  {
   "cell_type": "code",
   "execution_count": 237,
   "metadata": {},
   "outputs": [],
   "source": [
    "# ## 소유자구분 코드 변환\n",
    "# ownr_dict = {\n",
    "#     'A27B':'사업자', \n",
    "#     'A27F':'외국인', \n",
    "#     'A27L':'법인', \n",
    "#     'A27O':'기타', \n",
    "#     'A27R':'주민', \n",
    "# }\n",
    "# carr['소유자구분'] = carr['소유자구분'].replace(ownr_dict)\n",
    "# carr['소유자구분'].unique()"
   ]
  },
  {
   "cell_type": "markdown",
   "metadata": {},
   "source": [
    "## 제원정보"
   ]
  },
  {
   "cell_type": "code",
   "execution_count": 63,
   "metadata": {},
   "outputs": [
    {
     "data": {
      "text/plain": [
       "array(['휘발유', '경유', '기타연료', 'LPG(액화석유가스)', nan, '휘발유 하이브리드',\n",
       "       'CNG(압축천연가스)', '등유', '태양열', '경유 하이브리드', '전기', '알코올', 'LPG 하이브리드',\n",
       "       '수소', 'LNG(액화천연가스)', 'CNG 하이브리드'], dtype=object)"
      ]
     },
     "execution_count": 63,
     "metadata": {},
     "output_type": "execute_result"
    }
   ],
   "source": [
    "## 연료 코드 변환\n",
    "fuel_dict = {\n",
    "    'A90GS':'휘발유', \n",
    "    'A91DS':'경유',\n",
    "    'A92LP':'LPG(액화석유가스)', \n",
    "    'A90GH':'휘발유 하이브리드', \n",
    "    'A93EV':'전기', \n",
    "    'A91DH':'경유 하이브리드', \n",
    "    'A92CN':'CNG(압축천연가스)', \n",
    "    'A93HD':'수소', \n",
    "    'A92LH':'LPG 하이브리드', \n",
    "    'A94OT':'기타연료', \n",
    "    'A92CH':'CNG 하이브리드',\n",
    "    'A90AC':'알코올', \n",
    "    'A93SH':'태양열', \n",
    "    'A91KS':'등유', \n",
    "    'A92LN':'LNG(액화천연가스)', \n",
    "    'A90PH':'플러그인 하이브리드', \n",
    "}\n",
    "srcr['연료'] = srcr['연료'].replace(fuel_dict)\n",
    "srcr['연료'].unique()"
   ]
  },
  {
   "cell_type": "code",
   "execution_count": 64,
   "metadata": {},
   "outputs": [],
   "source": [
    "# # 7s\n",
    "# # 차종 코드 변환\n",
    "# cd_dict = {\n",
    "#     'A31M':'이륜', \n",
    "#     'A31P':'승용', \n",
    "#     'A31S':'특수', \n",
    "#     'A31T':'화물', \n",
    "#     'A31V':'승합'\n",
    "# }\n",
    "# srcr['차종'] = srcr['차종'].replace(cd_dict)\n",
    "# srcr['차종'].unique()"
   ]
  },
  {
   "cell_type": "code",
   "execution_count": 65,
   "metadata": {},
   "outputs": [
    {
     "data": {
      "text/plain": [
       "array(['대형', '중형', '소형', '경형', nan], dtype=object)"
      ]
     },
     "execution_count": 65,
     "metadata": {},
     "output_type": "execute_result"
    }
   ],
   "source": [
    "## 차종유형 코드 변환\n",
    "ty_dict = {\n",
    "    'A30C':'경형', \n",
    "    'A30L':'대형', \n",
    "    'A30M':'중형', \n",
    "    'A30S':'소형',\n",
    "}\n",
    "srcr['차종유형'] = srcr['차종유형'].replace(ty_dict)\n",
    "srcr['차종유형'].unique()"
   ]
  },
  {
   "cell_type": "markdown",
   "metadata": {},
   "source": [
    "## 정밀검사"
   ]
  },
  {
   "cell_type": "code",
   "execution_count": 66,
   "metadata": {},
   "outputs": [
    {
     "data": {
      "text/plain": [
       "(102191938, 8)"
      ]
     },
     "execution_count": 66,
     "metadata": {},
     "output_type": "execute_result"
    }
   ],
   "source": [
    "eetr.shape"
   ]
  },
  {
   "cell_type": "code",
   "execution_count": 67,
   "metadata": {},
   "outputs": [],
   "source": [
    "# # 최근 검사만 활용\n",
    "# # 4m 14.3s\n",
    "# eetm = eetr.sort_values('검사일자', ascending=False).drop_duplicates('차대번호').reset_index(drop=True)\n",
    "# eetm.shape"
   ]
  },
  {
   "cell_type": "code",
   "execution_count": 68,
   "metadata": {},
   "outputs": [
    {
     "data": {
      "text/plain": [
       "array(['종합검사', '2부재검사(종합)', '종합검사(경과)', '1부재검사(종합)', '배출재검사', '정밀검사(경과)',\n",
       "       '정밀검사', '관능재검사', '특정검사', '구조변경검사', '배출재검사(구변)', nan, '특정검사(경과)',\n",
       "       '특정재검사(관능)', '특정재검사(배출)', '종합(정밀) 2부재검사', '종합(정밀)', '종합(정밀) 1부재검사',\n",
       "       '종합(경과:정밀)', 'A21C01', '임시검사', '관능재검사(임시)', 'A21E03', 'A21R06',\n",
       "       'A21R05', 'A21R03', 'A21R04'], dtype=object)"
      ]
     },
     "execution_count": 68,
     "metadata": {},
     "output_type": "execute_result"
    }
   ],
   "source": [
    "## 검사종류 코드 변환\n",
    "# 27.5s\n",
    "knd_dict = {\n",
    "    'A21P01':'정밀검사', \n",
    "    'A1904':'정기검사', \n",
    "    'A21T06':'종합검사(경과)', \n",
    "    'A21T05':'종합검사', \n",
    "    'A21S01':'특정검사', \n",
    "    'A1902':'재검사(2부재검사)',\n",
    "    'A21R02':'2부재검사(종합)', \n",
    "    'A21P02':'정밀검사(경과)', \n",
    "    'A1903':'정기(경과)검사', \n",
    "    'A21S04':'특정재검사(배출)', \n",
    "    'A21E01':'배출재검사', \n",
    "    'A21R01':'1부재검사(종합)',\n",
    "    'A21C02':'구조변경검사', \n",
    "    'A21002':'관능재검사(임시)', \n",
    "    'A21S03':'특정재검사(관능)', \n",
    "    'A21S02':'특정검사(경과)', \n",
    "    'A1901':'재검사(1부재검사)', \n",
    "    'A21T02':'종합(정밀)',\n",
    "    'A21E02':'배출재검사(구변)', \n",
    "    'A21T01':'종합(경과:정밀)', \n",
    "    'A21T04':'종합(정밀) 2부재검사', \n",
    "    'A21001':'관능재검사', \n",
    "    'A21T03':'종합(정밀) 1부재검사', \n",
    "    'A21TMP':'임시검사', \n",
    "}\n",
    "eetr['검사종류'] = eetr['검사종류'].replace(knd_dict)\n",
    "eetr['검사종류'].unique()"
   ]
  },
  {
   "cell_type": "code",
   "execution_count": 69,
   "metadata": {},
   "outputs": [
    {
     "data": {
      "text/plain": [
       "array(['부하검사(ASM-Idling)', '부하검사(KD-147)', '무부하검사(급가속)', '부하검사(LUG DOWN)',\n",
       "       '무부하검사(TSI)', '무부하검사(정지가동)', '부하검사(ASM2525)', nan], dtype=object)"
      ]
     },
     "execution_count": 69,
     "metadata": {},
     "output_type": "execute_result"
    }
   ],
   "source": [
    "## 검사방법 코드 변환\n",
    "# 14.9s\n",
    "mth_dict = {\n",
    "    'A18A':'무부하검사(TSI)', \n",
    "    'A18B':'무부하검사(급가속)', \n",
    "    'A18C':'무부하검사(정지가동)',\n",
    "    'A2301':'무부하검사(급가속)', \n",
    "    'A2302':'무부하검사(정지가동)',\n",
    "    'A2303':'무부하검사(TSI)', \n",
    "    'A2304':'부하검사(LUG DOWN)', \n",
    "    'A2305':'부하검사(ASM-Idling)', \n",
    "    'A2306':'부하검사(KD-147)', \n",
    "    'A2307':'부하검사(ASM2525)', \n",
    "}\n",
    "eetr['검사방법'] = eetr['검사방법'].replace(mth_dict)\n",
    "eetr['검사방법'].unique()"
   ]
  },
  {
   "cell_type": "code",
   "execution_count": 70,
   "metadata": {},
   "outputs": [],
   "source": [
    "# 2.1s\n",
    "eetr['검사일자'] = pd.to_datetime(eetr['검사일자'], format=\"%Y%m%d\")"
   ]
  },
  {
   "cell_type": "code",
   "execution_count": 71,
   "metadata": {},
   "outputs": [
    {
     "data": {
      "text/plain": [
       "0   2023-04-22\n",
       "1   2023-04-22\n",
       "2   2023-04-22\n",
       "3   2023-04-22\n",
       "4   2023-04-22\n",
       "Name: 검사일자, dtype: datetime64[ns]"
      ]
     },
     "execution_count": 71,
     "metadata": {},
     "output_type": "execute_result"
    }
   ],
   "source": [
    "eetr['검사일자'].head()"
   ]
  },
  {
   "cell_type": "markdown",
   "metadata": {},
   "source": [
    "## 원격&등록"
   ]
  },
  {
   "cell_type": "code",
   "execution_count": 72,
   "metadata": {},
   "outputs": [
    {
     "data": {
      "text/plain": [
       "(21757, 16)"
      ]
     },
     "execution_count": 72,
     "metadata": {},
     "output_type": "execute_result"
    }
   ],
   "source": [
    "rsdr.shape"
   ]
  },
  {
   "cell_type": "code",
   "execution_count": 298,
   "metadata": {},
   "outputs": [
    {
     "data": {
      "text/plain": [
       "(21757, 25)"
      ]
     },
     "execution_count": 298,
     "metadata": {},
     "output_type": "execute_result"
    }
   ],
   "source": [
    "# 34s\n",
    "rc = rsdr.merge(carr, on='자동차등록번호', how='left')\n",
    "rc.shape"
   ]
  },
  {
   "cell_type": "code",
   "execution_count": 299,
   "metadata": {},
   "outputs": [
    {
     "data": {
      "text/plain": [
       "1132"
      ]
     },
     "execution_count": 299,
     "metadata": {},
     "output_type": "execute_result"
    }
   ],
   "source": [
    "rc['차대번호'].isnull().sum()"
   ]
  },
  {
   "cell_type": "code",
   "execution_count": 75,
   "metadata": {},
   "outputs": [],
   "source": [
    "# rc.loc[(rc['차대번호'].isnull() == True) & (rc['자동차등록번호'] == '********')].shape\n",
    "# (9741, 24)"
   ]
  },
  {
   "cell_type": "code",
   "execution_count": 76,
   "metadata": {},
   "outputs": [],
   "source": [
    "# 10990 - 9741\n",
    "# 1249"
   ]
  },
  {
   "cell_type": "markdown",
   "metadata": {},
   "source": [
    "## 원격&등록&제원"
   ]
  },
  {
   "cell_type": "code",
   "execution_count": 300,
   "metadata": {},
   "outputs": [
    {
     "data": {
      "text/plain": [
       "(21757, 35)"
      ]
     },
     "execution_count": 300,
     "metadata": {},
     "output_type": "execute_result"
    }
   ],
   "source": [
    "rcs = rc.merge(srcr, on='제원관리번호', how='left')\n",
    "rcs.shape"
   ]
  },
  {
   "cell_type": "markdown",
   "metadata": {},
   "source": [
    "### [출력] 원격&등록&제원"
   ]
  },
  {
   "cell_type": "code",
   "execution_count": 301,
   "metadata": {},
   "outputs": [
    {
     "data": {
      "text/plain": [
       "'20230829'"
      ]
     },
     "execution_count": 301,
     "metadata": {},
     "output_type": "execute_result"
    }
   ],
   "source": [
    "today_date = dt.datetime.today().strftime(\"%Y%m%d\")\n",
    "today_date"
   ]
  },
  {
   "cell_type": "code",
   "execution_count": 302,
   "metadata": {},
   "outputs": [],
   "source": [
    "# 1s\n",
    "file_name = f'원격_등록_제원({today_date}).csv'\n",
    "rcs.to_csv(os.path.join(raw_fold, file_name), index=False)"
   ]
  },
  {
   "cell_type": "markdown",
   "metadata": {},
   "source": [
    "## 원격&등록&제원&정밀"
   ]
  },
  {
   "cell_type": "code",
   "execution_count": 303,
   "metadata": {},
   "outputs": [
    {
     "data": {
      "text/plain": [
       "(48043, 42)"
      ]
     },
     "execution_count": 303,
     "metadata": {},
     "output_type": "execute_result"
    }
   ],
   "source": [
    "# 2m\n",
    "rcse = rcs.merge(eetr, on='차대번호', how='left')\n",
    "rcse.shape"
   ]
  },
  {
   "cell_type": "markdown",
   "metadata": {},
   "source": [
    "### [출력] 원격&등록&제원&정밀"
   ]
  },
  {
   "cell_type": "code",
   "execution_count": 304,
   "metadata": {},
   "outputs": [],
   "source": [
    "# 1s\n",
    "file_name = f'원격_등록_제원_정밀({today_date}).csv'\n",
    "rcse.to_csv(os.path.join(raw_fold, file_name), index=False)"
   ]
  },
  {
   "cell_type": "markdown",
   "metadata": {},
   "source": [
    "# Load csv"
   ]
  },
  {
   "cell_type": "markdown",
   "metadata": {},
   "source": [
    "## 원격&등록&제원"
   ]
  },
  {
   "cell_type": "code",
   "execution_count": 245,
   "metadata": {},
   "outputs": [],
   "source": [
    "# name = '원격_등록_제원(20230829)'\n",
    "# file_name = f'{name}.csv'\n",
    "# rcs = pd.read_csv(os.path.join(raw_fold, file_name))\n",
    "# rcs.info()"
   ]
  },
  {
   "cell_type": "markdown",
   "metadata": {},
   "source": [
    "## 원격&등록&제원&정밀"
   ]
  },
  {
   "cell_type": "code",
   "execution_count": 246,
   "metadata": {},
   "outputs": [],
   "source": [
    "# name = '원격_등록_제원_정밀(20230829)'\n",
    "# file_name = f'{name}.csv'\n",
    "# rcse = pd.read_csv(os.path.join(raw_fold, file_name))\n",
    "# rcse.info()"
   ]
  },
  {
   "cell_type": "markdown",
   "metadata": {},
   "source": [
    "# Analysis"
   ]
  },
  {
   "cell_type": "markdown",
   "metadata": {},
   "source": [
    "## 1\\. 일자별 측정건수\n",
    "- 시험날짜별 경유차 측정 건수, 비율"
   ]
  },
  {
   "cell_type": "code",
   "execution_count": 305,
   "metadata": {},
   "outputs": [
    {
     "data": {
      "text/plain": [
       "((21757, 35), 18129)"
      ]
     },
     "execution_count": 305,
     "metadata": {},
     "output_type": "execute_result"
    }
   ],
   "source": [
    "rcs.shape, len(rcs['자동차등록번호'].unique())"
   ]
  },
  {
   "cell_type": "code",
   "execution_count": 306,
   "metadata": {},
   "outputs": [
    {
     "data": {
      "text/plain": [
       "1144"
      ]
     },
     "execution_count": 306,
     "metadata": {},
     "output_type": "execute_result"
    }
   ],
   "source": [
    "rcs['연료'].isnull().sum()"
   ]
  },
  {
   "cell_type": "code",
   "execution_count": 307,
   "metadata": {},
   "outputs": [
    {
     "data": {
      "text/html": [
       "<div>\n",
       "<style scoped>\n",
       "    .dataframe tbody tr th:only-of-type {\n",
       "        vertical-align: middle;\n",
       "    }\n",
       "\n",
       "    .dataframe tbody tr th {\n",
       "        vertical-align: top;\n",
       "    }\n",
       "\n",
       "    .dataframe thead th {\n",
       "        text-align: right;\n",
       "    }\n",
       "</style>\n",
       "<table border=\"1\" class=\"dataframe\">\n",
       "  <thead>\n",
       "    <tr style=\"text-align: right;\">\n",
       "      <th></th>\n",
       "      <th>검사날짜</th>\n",
       "      <th>연료</th>\n",
       "      <th>자동차등록번호</th>\n",
       "    </tr>\n",
       "  </thead>\n",
       "  <tbody>\n",
       "    <tr>\n",
       "      <th>0</th>\n",
       "      <td>2022-10-04</td>\n",
       "      <td>CNG(압축천연가스)</td>\n",
       "      <td>2</td>\n",
       "    </tr>\n",
       "    <tr>\n",
       "      <th>1</th>\n",
       "      <td>2022-10-04</td>\n",
       "      <td>LPG(액화석유가스)</td>\n",
       "      <td>9</td>\n",
       "    </tr>\n",
       "    <tr>\n",
       "      <th>2</th>\n",
       "      <td>2022-10-04</td>\n",
       "      <td>경유</td>\n",
       "      <td>53</td>\n",
       "    </tr>\n",
       "    <tr>\n",
       "      <th>3</th>\n",
       "      <td>2022-10-04</td>\n",
       "      <td>전기</td>\n",
       "      <td>2</td>\n",
       "    </tr>\n",
       "    <tr>\n",
       "      <th>4</th>\n",
       "      <td>2022-10-04</td>\n",
       "      <td>휘발유</td>\n",
       "      <td>53</td>\n",
       "    </tr>\n",
       "    <tr>\n",
       "      <th>...</th>\n",
       "      <td>...</td>\n",
       "      <td>...</td>\n",
       "      <td>...</td>\n",
       "    </tr>\n",
       "    <tr>\n",
       "      <th>370</th>\n",
       "      <td>2023-03-30</td>\n",
       "      <td>경유 하이브리드</td>\n",
       "      <td>3</td>\n",
       "    </tr>\n",
       "    <tr>\n",
       "      <th>371</th>\n",
       "      <td>2023-03-30</td>\n",
       "      <td>전기</td>\n",
       "      <td>10</td>\n",
       "    </tr>\n",
       "    <tr>\n",
       "      <th>372</th>\n",
       "      <td>2023-03-30</td>\n",
       "      <td>휘발유</td>\n",
       "      <td>341</td>\n",
       "    </tr>\n",
       "    <tr>\n",
       "      <th>373</th>\n",
       "      <td>2023-03-30</td>\n",
       "      <td>휘발유 하이브리드</td>\n",
       "      <td>45</td>\n",
       "    </tr>\n",
       "    <tr>\n",
       "      <th>374</th>\n",
       "      <td>2023-03-30</td>\n",
       "      <td>NaN</td>\n",
       "      <td>24</td>\n",
       "    </tr>\n",
       "  </tbody>\n",
       "</table>\n",
       "<p>375 rows × 3 columns</p>\n",
       "</div>"
      ],
      "text/plain": [
       "          검사날짜           연료  자동차등록번호\n",
       "0   2022-10-04  CNG(압축천연가스)        2\n",
       "1   2022-10-04  LPG(액화석유가스)        9\n",
       "2   2022-10-04           경유       53\n",
       "3   2022-10-04           전기        2\n",
       "4   2022-10-04          휘발유       53\n",
       "..         ...          ...      ...\n",
       "370 2023-03-30     경유 하이브리드        3\n",
       "371 2023-03-30           전기       10\n",
       "372 2023-03-30          휘발유      341\n",
       "373 2023-03-30    휘발유 하이브리드       45\n",
       "374 2023-03-30          NaN       24\n",
       "\n",
       "[375 rows x 3 columns]"
      ]
     },
     "execution_count": 307,
     "metadata": {},
     "output_type": "execute_result"
    }
   ],
   "source": [
    "temp = rcs.groupby(['검사날짜', '연료'], dropna=False)['자동차등록번호'].count().reset_index()\n",
    "temp"
   ]
  },
  {
   "cell_type": "code",
   "execution_count": 308,
   "metadata": {},
   "outputs": [
    {
     "data": {
      "text/plain": [
       "21757"
      ]
     },
     "execution_count": 308,
     "metadata": {},
     "output_type": "execute_result"
    }
   ],
   "source": [
    "temp['자동차등록번호'].sum()"
   ]
  },
  {
   "cell_type": "code",
   "execution_count": 309,
   "metadata": {},
   "outputs": [
    {
     "data": {
      "text/html": [
       "<div>\n",
       "<style scoped>\n",
       "    .dataframe tbody tr th:only-of-type {\n",
       "        vertical-align: middle;\n",
       "    }\n",
       "\n",
       "    .dataframe tbody tr th {\n",
       "        vertical-align: top;\n",
       "    }\n",
       "\n",
       "    .dataframe thead th {\n",
       "        text-align: right;\n",
       "    }\n",
       "</style>\n",
       "<table border=\"1\" class=\"dataframe\">\n",
       "  <thead>\n",
       "    <tr style=\"text-align: right;\">\n",
       "      <th>연료</th>\n",
       "      <th>검사날짜</th>\n",
       "      <th>CNG(압축천연가스)</th>\n",
       "      <th>LPG 하이브리드</th>\n",
       "      <th>LPG(액화석유가스)</th>\n",
       "      <th>경유</th>\n",
       "      <th>경유 하이브리드</th>\n",
       "      <th>기타연료</th>\n",
       "      <th>수소</th>\n",
       "      <th>전기</th>\n",
       "      <th>휘발유</th>\n",
       "      <th>휘발유 하이브리드</th>\n",
       "      <th>NaN</th>\n",
       "      <th>합계</th>\n",
       "      <th>경유_비율</th>\n",
       "      <th>경유_하이브리드_비율</th>\n",
       "    </tr>\n",
       "  </thead>\n",
       "  <tbody>\n",
       "    <tr>\n",
       "      <th>0</th>\n",
       "      <td>2022-10-04</td>\n",
       "      <td>2.00</td>\n",
       "      <td>0.00</td>\n",
       "      <td>9.00</td>\n",
       "      <td>53.00</td>\n",
       "      <td>0.00</td>\n",
       "      <td>0.00</td>\n",
       "      <td>0.00</td>\n",
       "      <td>2.00</td>\n",
       "      <td>53.00</td>\n",
       "      <td>6.00</td>\n",
       "      <td>7.00</td>\n",
       "      <td>132.00</td>\n",
       "      <td>0.40</td>\n",
       "      <td>0.00</td>\n",
       "    </tr>\n",
       "    <tr>\n",
       "      <th>1</th>\n",
       "      <td>2022-10-05</td>\n",
       "      <td>3.00</td>\n",
       "      <td>1.00</td>\n",
       "      <td>7.00</td>\n",
       "      <td>47.00</td>\n",
       "      <td>0.00</td>\n",
       "      <td>1.00</td>\n",
       "      <td>0.00</td>\n",
       "      <td>2.00</td>\n",
       "      <td>29.00</td>\n",
       "      <td>1.00</td>\n",
       "      <td>3.00</td>\n",
       "      <td>94.00</td>\n",
       "      <td>0.50</td>\n",
       "      <td>0.00</td>\n",
       "    </tr>\n",
       "    <tr>\n",
       "      <th>2</th>\n",
       "      <td>2022-10-06</td>\n",
       "      <td>2.00</td>\n",
       "      <td>0.00</td>\n",
       "      <td>6.00</td>\n",
       "      <td>51.00</td>\n",
       "      <td>0.00</td>\n",
       "      <td>0.00</td>\n",
       "      <td>0.00</td>\n",
       "      <td>0.00</td>\n",
       "      <td>30.00</td>\n",
       "      <td>2.00</td>\n",
       "      <td>6.00</td>\n",
       "      <td>97.00</td>\n",
       "      <td>0.53</td>\n",
       "      <td>0.00</td>\n",
       "    </tr>\n",
       "    <tr>\n",
       "      <th>3</th>\n",
       "      <td>2022-10-07</td>\n",
       "      <td>2.00</td>\n",
       "      <td>0.00</td>\n",
       "      <td>10.00</td>\n",
       "      <td>47.00</td>\n",
       "      <td>1.00</td>\n",
       "      <td>0.00</td>\n",
       "      <td>0.00</td>\n",
       "      <td>2.00</td>\n",
       "      <td>37.00</td>\n",
       "      <td>5.00</td>\n",
       "      <td>9.00</td>\n",
       "      <td>113.00</td>\n",
       "      <td>0.42</td>\n",
       "      <td>0.01</td>\n",
       "    </tr>\n",
       "    <tr>\n",
       "      <th>4</th>\n",
       "      <td>2022-10-11</td>\n",
       "      <td>1.00</td>\n",
       "      <td>0.00</td>\n",
       "      <td>4.00</td>\n",
       "      <td>29.00</td>\n",
       "      <td>0.00</td>\n",
       "      <td>0.00</td>\n",
       "      <td>0.00</td>\n",
       "      <td>0.00</td>\n",
       "      <td>23.00</td>\n",
       "      <td>1.00</td>\n",
       "      <td>3.00</td>\n",
       "      <td>61.00</td>\n",
       "      <td>0.48</td>\n",
       "      <td>0.00</td>\n",
       "    </tr>\n",
       "    <tr>\n",
       "      <th>5</th>\n",
       "      <td>2022-10-12</td>\n",
       "      <td>1.00</td>\n",
       "      <td>0.00</td>\n",
       "      <td>4.00</td>\n",
       "      <td>39.00</td>\n",
       "      <td>0.00</td>\n",
       "      <td>0.00</td>\n",
       "      <td>0.00</td>\n",
       "      <td>2.00</td>\n",
       "      <td>22.00</td>\n",
       "      <td>6.00</td>\n",
       "      <td>4.00</td>\n",
       "      <td>78.00</td>\n",
       "      <td>0.50</td>\n",
       "      <td>0.00</td>\n",
       "    </tr>\n",
       "    <tr>\n",
       "      <th>6</th>\n",
       "      <td>2022-10-13</td>\n",
       "      <td>2.00</td>\n",
       "      <td>0.00</td>\n",
       "      <td>4.00</td>\n",
       "      <td>61.00</td>\n",
       "      <td>0.00</td>\n",
       "      <td>0.00</td>\n",
       "      <td>0.00</td>\n",
       "      <td>4.00</td>\n",
       "      <td>43.00</td>\n",
       "      <td>6.00</td>\n",
       "      <td>4.00</td>\n",
       "      <td>124.00</td>\n",
       "      <td>0.49</td>\n",
       "      <td>0.00</td>\n",
       "    </tr>\n",
       "    <tr>\n",
       "      <th>7</th>\n",
       "      <td>2022-10-14</td>\n",
       "      <td>1.00</td>\n",
       "      <td>0.00</td>\n",
       "      <td>11.00</td>\n",
       "      <td>74.00</td>\n",
       "      <td>1.00</td>\n",
       "      <td>0.00</td>\n",
       "      <td>1.00</td>\n",
       "      <td>2.00</td>\n",
       "      <td>52.00</td>\n",
       "      <td>8.00</td>\n",
       "      <td>0.00</td>\n",
       "      <td>150.00</td>\n",
       "      <td>0.49</td>\n",
       "      <td>0.01</td>\n",
       "    </tr>\n",
       "    <tr>\n",
       "      <th>8</th>\n",
       "      <td>2022-10-17</td>\n",
       "      <td>2.00</td>\n",
       "      <td>0.00</td>\n",
       "      <td>9.00</td>\n",
       "      <td>73.00</td>\n",
       "      <td>1.00</td>\n",
       "      <td>0.00</td>\n",
       "      <td>0.00</td>\n",
       "      <td>2.00</td>\n",
       "      <td>61.00</td>\n",
       "      <td>8.00</td>\n",
       "      <td>9.00</td>\n",
       "      <td>165.00</td>\n",
       "      <td>0.44</td>\n",
       "      <td>0.01</td>\n",
       "    </tr>\n",
       "    <tr>\n",
       "      <th>9</th>\n",
       "      <td>2022-10-18</td>\n",
       "      <td>2.00</td>\n",
       "      <td>0.00</td>\n",
       "      <td>12.00</td>\n",
       "      <td>62.00</td>\n",
       "      <td>0.00</td>\n",
       "      <td>0.00</td>\n",
       "      <td>0.00</td>\n",
       "      <td>4.00</td>\n",
       "      <td>35.00</td>\n",
       "      <td>8.00</td>\n",
       "      <td>9.00</td>\n",
       "      <td>132.00</td>\n",
       "      <td>0.47</td>\n",
       "      <td>0.00</td>\n",
       "    </tr>\n",
       "    <tr>\n",
       "      <th>10</th>\n",
       "      <td>2022-10-19</td>\n",
       "      <td>2.00</td>\n",
       "      <td>0.00</td>\n",
       "      <td>10.00</td>\n",
       "      <td>65.00</td>\n",
       "      <td>0.00</td>\n",
       "      <td>0.00</td>\n",
       "      <td>0.00</td>\n",
       "      <td>2.00</td>\n",
       "      <td>34.00</td>\n",
       "      <td>3.00</td>\n",
       "      <td>8.00</td>\n",
       "      <td>124.00</td>\n",
       "      <td>0.52</td>\n",
       "      <td>0.00</td>\n",
       "    </tr>\n",
       "    <tr>\n",
       "      <th>11</th>\n",
       "      <td>2022-10-20</td>\n",
       "      <td>2.00</td>\n",
       "      <td>0.00</td>\n",
       "      <td>8.00</td>\n",
       "      <td>54.00</td>\n",
       "      <td>1.00</td>\n",
       "      <td>1.00</td>\n",
       "      <td>0.00</td>\n",
       "      <td>0.00</td>\n",
       "      <td>43.00</td>\n",
       "      <td>4.00</td>\n",
       "      <td>8.00</td>\n",
       "      <td>121.00</td>\n",
       "      <td>0.45</td>\n",
       "      <td>0.01</td>\n",
       "    </tr>\n",
       "    <tr>\n",
       "      <th>12</th>\n",
       "      <td>2022-10-21</td>\n",
       "      <td>0.00</td>\n",
       "      <td>0.00</td>\n",
       "      <td>54.00</td>\n",
       "      <td>217.00</td>\n",
       "      <td>0.00</td>\n",
       "      <td>1.00</td>\n",
       "      <td>0.00</td>\n",
       "      <td>14.00</td>\n",
       "      <td>191.00</td>\n",
       "      <td>41.00</td>\n",
       "      <td>20.00</td>\n",
       "      <td>538.00</td>\n",
       "      <td>0.40</td>\n",
       "      <td>0.00</td>\n",
       "    </tr>\n",
       "    <tr>\n",
       "      <th>13</th>\n",
       "      <td>2022-10-24</td>\n",
       "      <td>0.00</td>\n",
       "      <td>0.00</td>\n",
       "      <td>65.00</td>\n",
       "      <td>260.00</td>\n",
       "      <td>5.00</td>\n",
       "      <td>0.00</td>\n",
       "      <td>2.00</td>\n",
       "      <td>14.00</td>\n",
       "      <td>240.00</td>\n",
       "      <td>39.00</td>\n",
       "      <td>14.00</td>\n",
       "      <td>639.00</td>\n",
       "      <td>0.41</td>\n",
       "      <td>0.01</td>\n",
       "    </tr>\n",
       "    <tr>\n",
       "      <th>14</th>\n",
       "      <td>2022-10-26</td>\n",
       "      <td>0.00</td>\n",
       "      <td>0.00</td>\n",
       "      <td>41.00</td>\n",
       "      <td>135.00</td>\n",
       "      <td>0.00</td>\n",
       "      <td>1.00</td>\n",
       "      <td>2.00</td>\n",
       "      <td>12.00</td>\n",
       "      <td>148.00</td>\n",
       "      <td>29.00</td>\n",
       "      <td>6.00</td>\n",
       "      <td>374.00</td>\n",
       "      <td>0.36</td>\n",
       "      <td>0.00</td>\n",
       "    </tr>\n",
       "    <tr>\n",
       "      <th>15</th>\n",
       "      <td>2022-10-27</td>\n",
       "      <td>0.00</td>\n",
       "      <td>0.00</td>\n",
       "      <td>46.00</td>\n",
       "      <td>207.00</td>\n",
       "      <td>0.00</td>\n",
       "      <td>0.00</td>\n",
       "      <td>0.00</td>\n",
       "      <td>16.00</td>\n",
       "      <td>201.00</td>\n",
       "      <td>29.00</td>\n",
       "      <td>31.00</td>\n",
       "      <td>530.00</td>\n",
       "      <td>0.39</td>\n",
       "      <td>0.00</td>\n",
       "    </tr>\n",
       "    <tr>\n",
       "      <th>16</th>\n",
       "      <td>2022-10-28</td>\n",
       "      <td>0.00</td>\n",
       "      <td>0.00</td>\n",
       "      <td>9.00</td>\n",
       "      <td>49.00</td>\n",
       "      <td>1.00</td>\n",
       "      <td>0.00</td>\n",
       "      <td>1.00</td>\n",
       "      <td>4.00</td>\n",
       "      <td>44.00</td>\n",
       "      <td>1.00</td>\n",
       "      <td>1.00</td>\n",
       "      <td>110.00</td>\n",
       "      <td>0.45</td>\n",
       "      <td>0.01</td>\n",
       "    </tr>\n",
       "    <tr>\n",
       "      <th>17</th>\n",
       "      <td>2022-10-31</td>\n",
       "      <td>2.00</td>\n",
       "      <td>0.00</td>\n",
       "      <td>9.00</td>\n",
       "      <td>57.00</td>\n",
       "      <td>0.00</td>\n",
       "      <td>0.00</td>\n",
       "      <td>2.00</td>\n",
       "      <td>3.00</td>\n",
       "      <td>41.00</td>\n",
       "      <td>7.00</td>\n",
       "      <td>5.00</td>\n",
       "      <td>126.00</td>\n",
       "      <td>0.45</td>\n",
       "      <td>0.00</td>\n",
       "    </tr>\n",
       "    <tr>\n",
       "      <th>18</th>\n",
       "      <td>2022-11-01</td>\n",
       "      <td>0.00</td>\n",
       "      <td>0.00</td>\n",
       "      <td>51.00</td>\n",
       "      <td>220.00</td>\n",
       "      <td>1.00</td>\n",
       "      <td>0.00</td>\n",
       "      <td>0.00</td>\n",
       "      <td>9.00</td>\n",
       "      <td>217.00</td>\n",
       "      <td>19.00</td>\n",
       "      <td>30.00</td>\n",
       "      <td>547.00</td>\n",
       "      <td>0.40</td>\n",
       "      <td>0.00</td>\n",
       "    </tr>\n",
       "    <tr>\n",
       "      <th>19</th>\n",
       "      <td>2022-11-02</td>\n",
       "      <td>0.00</td>\n",
       "      <td>0.00</td>\n",
       "      <td>76.00</td>\n",
       "      <td>262.00</td>\n",
       "      <td>2.00</td>\n",
       "      <td>0.00</td>\n",
       "      <td>1.00</td>\n",
       "      <td>8.00</td>\n",
       "      <td>257.00</td>\n",
       "      <td>35.00</td>\n",
       "      <td>40.00</td>\n",
       "      <td>681.00</td>\n",
       "      <td>0.38</td>\n",
       "      <td>0.00</td>\n",
       "    </tr>\n",
       "    <tr>\n",
       "      <th>20</th>\n",
       "      <td>2022-11-08</td>\n",
       "      <td>0.00</td>\n",
       "      <td>1.00</td>\n",
       "      <td>72.00</td>\n",
       "      <td>335.00</td>\n",
       "      <td>0.00</td>\n",
       "      <td>0.00</td>\n",
       "      <td>0.00</td>\n",
       "      <td>19.00</td>\n",
       "      <td>277.00</td>\n",
       "      <td>41.00</td>\n",
       "      <td>52.00</td>\n",
       "      <td>797.00</td>\n",
       "      <td>0.42</td>\n",
       "      <td>0.00</td>\n",
       "    </tr>\n",
       "    <tr>\n",
       "      <th>21</th>\n",
       "      <td>2022-11-09</td>\n",
       "      <td>0.00</td>\n",
       "      <td>0.00</td>\n",
       "      <td>74.00</td>\n",
       "      <td>313.00</td>\n",
       "      <td>1.00</td>\n",
       "      <td>0.00</td>\n",
       "      <td>1.00</td>\n",
       "      <td>16.00</td>\n",
       "      <td>266.00</td>\n",
       "      <td>52.00</td>\n",
       "      <td>51.00</td>\n",
       "      <td>774.00</td>\n",
       "      <td>0.40</td>\n",
       "      <td>0.00</td>\n",
       "    </tr>\n",
       "    <tr>\n",
       "      <th>22</th>\n",
       "      <td>2022-11-10</td>\n",
       "      <td>0.00</td>\n",
       "      <td>0.00</td>\n",
       "      <td>54.00</td>\n",
       "      <td>209.00</td>\n",
       "      <td>0.00</td>\n",
       "      <td>0.00</td>\n",
       "      <td>0.00</td>\n",
       "      <td>11.00</td>\n",
       "      <td>189.00</td>\n",
       "      <td>24.00</td>\n",
       "      <td>31.00</td>\n",
       "      <td>518.00</td>\n",
       "      <td>0.40</td>\n",
       "      <td>0.00</td>\n",
       "    </tr>\n",
       "    <tr>\n",
       "      <th>23</th>\n",
       "      <td>2022-11-14</td>\n",
       "      <td>0.00</td>\n",
       "      <td>0.00</td>\n",
       "      <td>35.00</td>\n",
       "      <td>125.00</td>\n",
       "      <td>2.00</td>\n",
       "      <td>0.00</td>\n",
       "      <td>0.00</td>\n",
       "      <td>10.00</td>\n",
       "      <td>135.00</td>\n",
       "      <td>20.00</td>\n",
       "      <td>20.00</td>\n",
       "      <td>347.00</td>\n",
       "      <td>0.36</td>\n",
       "      <td>0.01</td>\n",
       "    </tr>\n",
       "    <tr>\n",
       "      <th>24</th>\n",
       "      <td>2022-11-17</td>\n",
       "      <td>0.00</td>\n",
       "      <td>0.00</td>\n",
       "      <td>33.00</td>\n",
       "      <td>211.00</td>\n",
       "      <td>1.00</td>\n",
       "      <td>0.00</td>\n",
       "      <td>1.00</td>\n",
       "      <td>10.00</td>\n",
       "      <td>156.00</td>\n",
       "      <td>18.00</td>\n",
       "      <td>41.00</td>\n",
       "      <td>471.00</td>\n",
       "      <td>0.45</td>\n",
       "      <td>0.00</td>\n",
       "    </tr>\n",
       "    <tr>\n",
       "      <th>25</th>\n",
       "      <td>2022-11-21</td>\n",
       "      <td>0.00</td>\n",
       "      <td>2.00</td>\n",
       "      <td>46.00</td>\n",
       "      <td>186.00</td>\n",
       "      <td>0.00</td>\n",
       "      <td>0.00</td>\n",
       "      <td>1.00</td>\n",
       "      <td>13.00</td>\n",
       "      <td>151.00</td>\n",
       "      <td>21.00</td>\n",
       "      <td>42.00</td>\n",
       "      <td>462.00</td>\n",
       "      <td>0.40</td>\n",
       "      <td>0.00</td>\n",
       "    </tr>\n",
       "    <tr>\n",
       "      <th>26</th>\n",
       "      <td>2022-11-24</td>\n",
       "      <td>0.00</td>\n",
       "      <td>1.00</td>\n",
       "      <td>18.00</td>\n",
       "      <td>119.00</td>\n",
       "      <td>0.00</td>\n",
       "      <td>1.00</td>\n",
       "      <td>0.00</td>\n",
       "      <td>7.00</td>\n",
       "      <td>97.00</td>\n",
       "      <td>11.00</td>\n",
       "      <td>20.00</td>\n",
       "      <td>274.00</td>\n",
       "      <td>0.43</td>\n",
       "      <td>0.00</td>\n",
       "    </tr>\n",
       "    <tr>\n",
       "      <th>27</th>\n",
       "      <td>2022-11-30</td>\n",
       "      <td>0.00</td>\n",
       "      <td>0.00</td>\n",
       "      <td>39.00</td>\n",
       "      <td>190.00</td>\n",
       "      <td>0.00</td>\n",
       "      <td>0.00</td>\n",
       "      <td>2.00</td>\n",
       "      <td>9.00</td>\n",
       "      <td>175.00</td>\n",
       "      <td>27.00</td>\n",
       "      <td>29.00</td>\n",
       "      <td>471.00</td>\n",
       "      <td>0.40</td>\n",
       "      <td>0.00</td>\n",
       "    </tr>\n",
       "    <tr>\n",
       "      <th>28</th>\n",
       "      <td>2022-12-01</td>\n",
       "      <td>0.00</td>\n",
       "      <td>0.00</td>\n",
       "      <td>56.00</td>\n",
       "      <td>287.00</td>\n",
       "      <td>1.00</td>\n",
       "      <td>2.00</td>\n",
       "      <td>0.00</td>\n",
       "      <td>10.00</td>\n",
       "      <td>255.00</td>\n",
       "      <td>43.00</td>\n",
       "      <td>57.00</td>\n",
       "      <td>711.00</td>\n",
       "      <td>0.40</td>\n",
       "      <td>0.00</td>\n",
       "    </tr>\n",
       "    <tr>\n",
       "      <th>29</th>\n",
       "      <td>2022-12-07</td>\n",
       "      <td>0.00</td>\n",
       "      <td>0.00</td>\n",
       "      <td>62.00</td>\n",
       "      <td>283.00</td>\n",
       "      <td>2.00</td>\n",
       "      <td>0.00</td>\n",
       "      <td>0.00</td>\n",
       "      <td>12.00</td>\n",
       "      <td>292.00</td>\n",
       "      <td>39.00</td>\n",
       "      <td>59.00</td>\n",
       "      <td>749.00</td>\n",
       "      <td>0.38</td>\n",
       "      <td>0.00</td>\n",
       "    </tr>\n",
       "    <tr>\n",
       "      <th>30</th>\n",
       "      <td>2022-12-08</td>\n",
       "      <td>0.00</td>\n",
       "      <td>1.00</td>\n",
       "      <td>56.00</td>\n",
       "      <td>256.00</td>\n",
       "      <td>3.00</td>\n",
       "      <td>0.00</td>\n",
       "      <td>1.00</td>\n",
       "      <td>10.00</td>\n",
       "      <td>265.00</td>\n",
       "      <td>40.00</td>\n",
       "      <td>55.00</td>\n",
       "      <td>687.00</td>\n",
       "      <td>0.37</td>\n",
       "      <td>0.00</td>\n",
       "    </tr>\n",
       "    <tr>\n",
       "      <th>31</th>\n",
       "      <td>2023-01-02</td>\n",
       "      <td>0.00</td>\n",
       "      <td>0.00</td>\n",
       "      <td>51.00</td>\n",
       "      <td>232.00</td>\n",
       "      <td>3.00</td>\n",
       "      <td>0.00</td>\n",
       "      <td>0.00</td>\n",
       "      <td>14.00</td>\n",
       "      <td>233.00</td>\n",
       "      <td>26.00</td>\n",
       "      <td>40.00</td>\n",
       "      <td>599.00</td>\n",
       "      <td>0.39</td>\n",
       "      <td>0.01</td>\n",
       "    </tr>\n",
       "    <tr>\n",
       "      <th>32</th>\n",
       "      <td>2023-01-03</td>\n",
       "      <td>0.00</td>\n",
       "      <td>0.00</td>\n",
       "      <td>30.00</td>\n",
       "      <td>176.00</td>\n",
       "      <td>1.00</td>\n",
       "      <td>0.00</td>\n",
       "      <td>3.00</td>\n",
       "      <td>7.00</td>\n",
       "      <td>178.00</td>\n",
       "      <td>17.00</td>\n",
       "      <td>17.00</td>\n",
       "      <td>429.00</td>\n",
       "      <td>0.41</td>\n",
       "      <td>0.00</td>\n",
       "    </tr>\n",
       "    <tr>\n",
       "      <th>33</th>\n",
       "      <td>2023-01-06</td>\n",
       "      <td>0.00</td>\n",
       "      <td>1.00</td>\n",
       "      <td>11.00</td>\n",
       "      <td>36.00</td>\n",
       "      <td>0.00</td>\n",
       "      <td>0.00</td>\n",
       "      <td>0.00</td>\n",
       "      <td>0.00</td>\n",
       "      <td>40.00</td>\n",
       "      <td>6.00</td>\n",
       "      <td>9.00</td>\n",
       "      <td>103.00</td>\n",
       "      <td>0.35</td>\n",
       "      <td>0.00</td>\n",
       "    </tr>\n",
       "    <tr>\n",
       "      <th>34</th>\n",
       "      <td>2023-01-30</td>\n",
       "      <td>3.00</td>\n",
       "      <td>0.00</td>\n",
       "      <td>7.00</td>\n",
       "      <td>47.00</td>\n",
       "      <td>0.00</td>\n",
       "      <td>0.00</td>\n",
       "      <td>0.00</td>\n",
       "      <td>2.00</td>\n",
       "      <td>30.00</td>\n",
       "      <td>2.00</td>\n",
       "      <td>3.00</td>\n",
       "      <td>94.00</td>\n",
       "      <td>0.50</td>\n",
       "      <td>0.00</td>\n",
       "    </tr>\n",
       "    <tr>\n",
       "      <th>35</th>\n",
       "      <td>2023-01-31</td>\n",
       "      <td>2.00</td>\n",
       "      <td>0.00</td>\n",
       "      <td>6.00</td>\n",
       "      <td>53.00</td>\n",
       "      <td>0.00</td>\n",
       "      <td>3.00</td>\n",
       "      <td>0.00</td>\n",
       "      <td>1.00</td>\n",
       "      <td>34.00</td>\n",
       "      <td>7.00</td>\n",
       "      <td>21.00</td>\n",
       "      <td>127.00</td>\n",
       "      <td>0.42</td>\n",
       "      <td>0.00</td>\n",
       "    </tr>\n",
       "    <tr>\n",
       "      <th>36</th>\n",
       "      <td>2023-02-01</td>\n",
       "      <td>3.00</td>\n",
       "      <td>0.00</td>\n",
       "      <td>17.00</td>\n",
       "      <td>79.00</td>\n",
       "      <td>0.00</td>\n",
       "      <td>2.00</td>\n",
       "      <td>0.00</td>\n",
       "      <td>2.00</td>\n",
       "      <td>58.00</td>\n",
       "      <td>7.00</td>\n",
       "      <td>22.00</td>\n",
       "      <td>190.00</td>\n",
       "      <td>0.42</td>\n",
       "      <td>0.00</td>\n",
       "    </tr>\n",
       "    <tr>\n",
       "      <th>37</th>\n",
       "      <td>2023-02-06</td>\n",
       "      <td>0.00</td>\n",
       "      <td>1.00</td>\n",
       "      <td>44.00</td>\n",
       "      <td>153.00</td>\n",
       "      <td>0.00</td>\n",
       "      <td>1.00</td>\n",
       "      <td>0.00</td>\n",
       "      <td>7.00</td>\n",
       "      <td>132.00</td>\n",
       "      <td>17.00</td>\n",
       "      <td>20.00</td>\n",
       "      <td>375.00</td>\n",
       "      <td>0.41</td>\n",
       "      <td>0.00</td>\n",
       "    </tr>\n",
       "    <tr>\n",
       "      <th>38</th>\n",
       "      <td>2023-02-07</td>\n",
       "      <td>0.00</td>\n",
       "      <td>0.00</td>\n",
       "      <td>48.00</td>\n",
       "      <td>202.00</td>\n",
       "      <td>1.00</td>\n",
       "      <td>0.00</td>\n",
       "      <td>1.00</td>\n",
       "      <td>10.00</td>\n",
       "      <td>176.00</td>\n",
       "      <td>29.00</td>\n",
       "      <td>20.00</td>\n",
       "      <td>487.00</td>\n",
       "      <td>0.41</td>\n",
       "      <td>0.00</td>\n",
       "    </tr>\n",
       "    <tr>\n",
       "      <th>39</th>\n",
       "      <td>2023-02-21</td>\n",
       "      <td>0.00</td>\n",
       "      <td>0.00</td>\n",
       "      <td>68.00</td>\n",
       "      <td>323.00</td>\n",
       "      <td>3.00</td>\n",
       "      <td>1.00</td>\n",
       "      <td>0.00</td>\n",
       "      <td>16.00</td>\n",
       "      <td>243.00</td>\n",
       "      <td>35.00</td>\n",
       "      <td>36.00</td>\n",
       "      <td>725.00</td>\n",
       "      <td>0.45</td>\n",
       "      <td>0.00</td>\n",
       "    </tr>\n",
       "    <tr>\n",
       "      <th>40</th>\n",
       "      <td>2023-02-23</td>\n",
       "      <td>0.00</td>\n",
       "      <td>0.00</td>\n",
       "      <td>54.00</td>\n",
       "      <td>194.00</td>\n",
       "      <td>1.00</td>\n",
       "      <td>0.00</td>\n",
       "      <td>0.00</td>\n",
       "      <td>10.00</td>\n",
       "      <td>205.00</td>\n",
       "      <td>22.00</td>\n",
       "      <td>30.00</td>\n",
       "      <td>516.00</td>\n",
       "      <td>0.38</td>\n",
       "      <td>0.00</td>\n",
       "    </tr>\n",
       "    <tr>\n",
       "      <th>41</th>\n",
       "      <td>2023-03-06</td>\n",
       "      <td>0.00</td>\n",
       "      <td>1.00</td>\n",
       "      <td>78.00</td>\n",
       "      <td>272.00</td>\n",
       "      <td>1.00</td>\n",
       "      <td>1.00</td>\n",
       "      <td>1.00</td>\n",
       "      <td>17.00</td>\n",
       "      <td>206.00</td>\n",
       "      <td>30.00</td>\n",
       "      <td>19.00</td>\n",
       "      <td>626.00</td>\n",
       "      <td>0.43</td>\n",
       "      <td>0.00</td>\n",
       "    </tr>\n",
       "    <tr>\n",
       "      <th>42</th>\n",
       "      <td>2023-03-07</td>\n",
       "      <td>0.00</td>\n",
       "      <td>1.00</td>\n",
       "      <td>86.00</td>\n",
       "      <td>320.00</td>\n",
       "      <td>3.00</td>\n",
       "      <td>0.00</td>\n",
       "      <td>1.00</td>\n",
       "      <td>10.00</td>\n",
       "      <td>305.00</td>\n",
       "      <td>63.00</td>\n",
       "      <td>32.00</td>\n",
       "      <td>821.00</td>\n",
       "      <td>0.39</td>\n",
       "      <td>0.00</td>\n",
       "    </tr>\n",
       "    <tr>\n",
       "      <th>43</th>\n",
       "      <td>2023-03-13</td>\n",
       "      <td>0.00</td>\n",
       "      <td>0.00</td>\n",
       "      <td>60.00</td>\n",
       "      <td>300.00</td>\n",
       "      <td>1.00</td>\n",
       "      <td>0.00</td>\n",
       "      <td>1.00</td>\n",
       "      <td>24.00</td>\n",
       "      <td>203.00</td>\n",
       "      <td>28.00</td>\n",
       "      <td>26.00</td>\n",
       "      <td>643.00</td>\n",
       "      <td>0.47</td>\n",
       "      <td>0.00</td>\n",
       "    </tr>\n",
       "    <tr>\n",
       "      <th>44</th>\n",
       "      <td>2023-03-16</td>\n",
       "      <td>1.00</td>\n",
       "      <td>0.00</td>\n",
       "      <td>147.00</td>\n",
       "      <td>699.00</td>\n",
       "      <td>2.00</td>\n",
       "      <td>1.00</td>\n",
       "      <td>3.00</td>\n",
       "      <td>37.00</td>\n",
       "      <td>518.00</td>\n",
       "      <td>94.00</td>\n",
       "      <td>60.00</td>\n",
       "      <td>1562.00</td>\n",
       "      <td>0.45</td>\n",
       "      <td>0.00</td>\n",
       "    </tr>\n",
       "    <tr>\n",
       "      <th>45</th>\n",
       "      <td>2023-03-20</td>\n",
       "      <td>0.00</td>\n",
       "      <td>0.00</td>\n",
       "      <td>83.00</td>\n",
       "      <td>365.00</td>\n",
       "      <td>1.00</td>\n",
       "      <td>1.00</td>\n",
       "      <td>1.00</td>\n",
       "      <td>21.00</td>\n",
       "      <td>331.00</td>\n",
       "      <td>63.00</td>\n",
       "      <td>38.00</td>\n",
       "      <td>904.00</td>\n",
       "      <td>0.40</td>\n",
       "      <td>0.00</td>\n",
       "    </tr>\n",
       "    <tr>\n",
       "      <th>46</th>\n",
       "      <td>2023-03-21</td>\n",
       "      <td>0.00</td>\n",
       "      <td>1.00</td>\n",
       "      <td>65.00</td>\n",
       "      <td>299.00</td>\n",
       "      <td>2.00</td>\n",
       "      <td>0.00</td>\n",
       "      <td>1.00</td>\n",
       "      <td>16.00</td>\n",
       "      <td>263.00</td>\n",
       "      <td>46.00</td>\n",
       "      <td>24.00</td>\n",
       "      <td>717.00</td>\n",
       "      <td>0.42</td>\n",
       "      <td>0.00</td>\n",
       "    </tr>\n",
       "    <tr>\n",
       "      <th>47</th>\n",
       "      <td>2023-03-28</td>\n",
       "      <td>0.00</td>\n",
       "      <td>0.00</td>\n",
       "      <td>70.00</td>\n",
       "      <td>390.00</td>\n",
       "      <td>3.00</td>\n",
       "      <td>0.00</td>\n",
       "      <td>0.00</td>\n",
       "      <td>9.00</td>\n",
       "      <td>283.00</td>\n",
       "      <td>44.00</td>\n",
       "      <td>29.00</td>\n",
       "      <td>828.00</td>\n",
       "      <td>0.47</td>\n",
       "      <td>0.00</td>\n",
       "    </tr>\n",
       "    <tr>\n",
       "      <th>48</th>\n",
       "      <td>2023-03-30</td>\n",
       "      <td>0.00</td>\n",
       "      <td>0.00</td>\n",
       "      <td>70.00</td>\n",
       "      <td>321.00</td>\n",
       "      <td>3.00</td>\n",
       "      <td>0.00</td>\n",
       "      <td>0.00</td>\n",
       "      <td>10.00</td>\n",
       "      <td>341.00</td>\n",
       "      <td>45.00</td>\n",
       "      <td>24.00</td>\n",
       "      <td>814.00</td>\n",
       "      <td>0.39</td>\n",
       "      <td>0.00</td>\n",
       "    </tr>\n",
       "  </tbody>\n",
       "</table>\n",
       "</div>"
      ],
      "text/plain": [
       "연료       검사날짜  CNG(압축천연가스)  LPG 하이브리드  LPG(액화석유가스)     경유  경유 하이브리드  기타연료   \n",
       "0  2022-10-04         2.00       0.00         9.00  53.00      0.00  0.00  \\\n",
       "1  2022-10-05         3.00       1.00         7.00  47.00      0.00  1.00   \n",
       "2  2022-10-06         2.00       0.00         6.00  51.00      0.00  0.00   \n",
       "3  2022-10-07         2.00       0.00        10.00  47.00      1.00  0.00   \n",
       "4  2022-10-11         1.00       0.00         4.00  29.00      0.00  0.00   \n",
       "5  2022-10-12         1.00       0.00         4.00  39.00      0.00  0.00   \n",
       "6  2022-10-13         2.00       0.00         4.00  61.00      0.00  0.00   \n",
       "7  2022-10-14         1.00       0.00        11.00  74.00      1.00  0.00   \n",
       "8  2022-10-17         2.00       0.00         9.00  73.00      1.00  0.00   \n",
       "9  2022-10-18         2.00       0.00        12.00  62.00      0.00  0.00   \n",
       "10 2022-10-19         2.00       0.00        10.00  65.00      0.00  0.00   \n",
       "11 2022-10-20         2.00       0.00         8.00  54.00      1.00  1.00   \n",
       "12 2022-10-21         0.00       0.00        54.00 217.00      0.00  1.00   \n",
       "13 2022-10-24         0.00       0.00        65.00 260.00      5.00  0.00   \n",
       "14 2022-10-26         0.00       0.00        41.00 135.00      0.00  1.00   \n",
       "15 2022-10-27         0.00       0.00        46.00 207.00      0.00  0.00   \n",
       "16 2022-10-28         0.00       0.00         9.00  49.00      1.00  0.00   \n",
       "17 2022-10-31         2.00       0.00         9.00  57.00      0.00  0.00   \n",
       "18 2022-11-01         0.00       0.00        51.00 220.00      1.00  0.00   \n",
       "19 2022-11-02         0.00       0.00        76.00 262.00      2.00  0.00   \n",
       "20 2022-11-08         0.00       1.00        72.00 335.00      0.00  0.00   \n",
       "21 2022-11-09         0.00       0.00        74.00 313.00      1.00  0.00   \n",
       "22 2022-11-10         0.00       0.00        54.00 209.00      0.00  0.00   \n",
       "23 2022-11-14         0.00       0.00        35.00 125.00      2.00  0.00   \n",
       "24 2022-11-17         0.00       0.00        33.00 211.00      1.00  0.00   \n",
       "25 2022-11-21         0.00       2.00        46.00 186.00      0.00  0.00   \n",
       "26 2022-11-24         0.00       1.00        18.00 119.00      0.00  1.00   \n",
       "27 2022-11-30         0.00       0.00        39.00 190.00      0.00  0.00   \n",
       "28 2022-12-01         0.00       0.00        56.00 287.00      1.00  2.00   \n",
       "29 2022-12-07         0.00       0.00        62.00 283.00      2.00  0.00   \n",
       "30 2022-12-08         0.00       1.00        56.00 256.00      3.00  0.00   \n",
       "31 2023-01-02         0.00       0.00        51.00 232.00      3.00  0.00   \n",
       "32 2023-01-03         0.00       0.00        30.00 176.00      1.00  0.00   \n",
       "33 2023-01-06         0.00       1.00        11.00  36.00      0.00  0.00   \n",
       "34 2023-01-30         3.00       0.00         7.00  47.00      0.00  0.00   \n",
       "35 2023-01-31         2.00       0.00         6.00  53.00      0.00  3.00   \n",
       "36 2023-02-01         3.00       0.00        17.00  79.00      0.00  2.00   \n",
       "37 2023-02-06         0.00       1.00        44.00 153.00      0.00  1.00   \n",
       "38 2023-02-07         0.00       0.00        48.00 202.00      1.00  0.00   \n",
       "39 2023-02-21         0.00       0.00        68.00 323.00      3.00  1.00   \n",
       "40 2023-02-23         0.00       0.00        54.00 194.00      1.00  0.00   \n",
       "41 2023-03-06         0.00       1.00        78.00 272.00      1.00  1.00   \n",
       "42 2023-03-07         0.00       1.00        86.00 320.00      3.00  0.00   \n",
       "43 2023-03-13         0.00       0.00        60.00 300.00      1.00  0.00   \n",
       "44 2023-03-16         1.00       0.00       147.00 699.00      2.00  1.00   \n",
       "45 2023-03-20         0.00       0.00        83.00 365.00      1.00  1.00   \n",
       "46 2023-03-21         0.00       1.00        65.00 299.00      2.00  0.00   \n",
       "47 2023-03-28         0.00       0.00        70.00 390.00      3.00  0.00   \n",
       "48 2023-03-30         0.00       0.00        70.00 321.00      3.00  0.00   \n",
       "\n",
       "연료   수소    전기    휘발유  휘발유 하이브리드   NaN      합계  경유_비율  경유_하이브리드_비율  \n",
       "0  0.00  2.00  53.00       6.00  7.00  132.00   0.40         0.00  \n",
       "1  0.00  2.00  29.00       1.00  3.00   94.00   0.50         0.00  \n",
       "2  0.00  0.00  30.00       2.00  6.00   97.00   0.53         0.00  \n",
       "3  0.00  2.00  37.00       5.00  9.00  113.00   0.42         0.01  \n",
       "4  0.00  0.00  23.00       1.00  3.00   61.00   0.48         0.00  \n",
       "5  0.00  2.00  22.00       6.00  4.00   78.00   0.50         0.00  \n",
       "6  0.00  4.00  43.00       6.00  4.00  124.00   0.49         0.00  \n",
       "7  1.00  2.00  52.00       8.00  0.00  150.00   0.49         0.01  \n",
       "8  0.00  2.00  61.00       8.00  9.00  165.00   0.44         0.01  \n",
       "9  0.00  4.00  35.00       8.00  9.00  132.00   0.47         0.00  \n",
       "10 0.00  2.00  34.00       3.00  8.00  124.00   0.52         0.00  \n",
       "11 0.00  0.00  43.00       4.00  8.00  121.00   0.45         0.01  \n",
       "12 0.00 14.00 191.00      41.00 20.00  538.00   0.40         0.00  \n",
       "13 2.00 14.00 240.00      39.00 14.00  639.00   0.41         0.01  \n",
       "14 2.00 12.00 148.00      29.00  6.00  374.00   0.36         0.00  \n",
       "15 0.00 16.00 201.00      29.00 31.00  530.00   0.39         0.00  \n",
       "16 1.00  4.00  44.00       1.00  1.00  110.00   0.45         0.01  \n",
       "17 2.00  3.00  41.00       7.00  5.00  126.00   0.45         0.00  \n",
       "18 0.00  9.00 217.00      19.00 30.00  547.00   0.40         0.00  \n",
       "19 1.00  8.00 257.00      35.00 40.00  681.00   0.38         0.00  \n",
       "20 0.00 19.00 277.00      41.00 52.00  797.00   0.42         0.00  \n",
       "21 1.00 16.00 266.00      52.00 51.00  774.00   0.40         0.00  \n",
       "22 0.00 11.00 189.00      24.00 31.00  518.00   0.40         0.00  \n",
       "23 0.00 10.00 135.00      20.00 20.00  347.00   0.36         0.01  \n",
       "24 1.00 10.00 156.00      18.00 41.00  471.00   0.45         0.00  \n",
       "25 1.00 13.00 151.00      21.00 42.00  462.00   0.40         0.00  \n",
       "26 0.00  7.00  97.00      11.00 20.00  274.00   0.43         0.00  \n",
       "27 2.00  9.00 175.00      27.00 29.00  471.00   0.40         0.00  \n",
       "28 0.00 10.00 255.00      43.00 57.00  711.00   0.40         0.00  \n",
       "29 0.00 12.00 292.00      39.00 59.00  749.00   0.38         0.00  \n",
       "30 1.00 10.00 265.00      40.00 55.00  687.00   0.37         0.00  \n",
       "31 0.00 14.00 233.00      26.00 40.00  599.00   0.39         0.01  \n",
       "32 3.00  7.00 178.00      17.00 17.00  429.00   0.41         0.00  \n",
       "33 0.00  0.00  40.00       6.00  9.00  103.00   0.35         0.00  \n",
       "34 0.00  2.00  30.00       2.00  3.00   94.00   0.50         0.00  \n",
       "35 0.00  1.00  34.00       7.00 21.00  127.00   0.42         0.00  \n",
       "36 0.00  2.00  58.00       7.00 22.00  190.00   0.42         0.00  \n",
       "37 0.00  7.00 132.00      17.00 20.00  375.00   0.41         0.00  \n",
       "38 1.00 10.00 176.00      29.00 20.00  487.00   0.41         0.00  \n",
       "39 0.00 16.00 243.00      35.00 36.00  725.00   0.45         0.00  \n",
       "40 0.00 10.00 205.00      22.00 30.00  516.00   0.38         0.00  \n",
       "41 1.00 17.00 206.00      30.00 19.00  626.00   0.43         0.00  \n",
       "42 1.00 10.00 305.00      63.00 32.00  821.00   0.39         0.00  \n",
       "43 1.00 24.00 203.00      28.00 26.00  643.00   0.47         0.00  \n",
       "44 3.00 37.00 518.00      94.00 60.00 1562.00   0.45         0.00  \n",
       "45 1.00 21.00 331.00      63.00 38.00  904.00   0.40         0.00  \n",
       "46 1.00 16.00 263.00      46.00 24.00  717.00   0.42         0.00  \n",
       "47 0.00  9.00 283.00      44.00 29.00  828.00   0.47         0.00  \n",
       "48 0.00 10.00 341.00      45.00 24.00  814.00   0.39         0.00  "
      ]
     },
     "execution_count": 309,
     "metadata": {},
     "output_type": "execute_result"
    }
   ],
   "source": [
    "grp1 = rcs.groupby(['검사날짜', '연료'], dropna=False)['자동차등록번호'].count().unstack('연료').reset_index()\n",
    "grp1 = grp1.fillna(0)\n",
    "grp1['합계'] = grp1.iloc[:, 1:].sum(axis=1)\n",
    "grp1['경유_비율'] = grp1['경유'] / grp1['합계']\n",
    "grp1['경유_하이브리드_비율'] = grp1['경유 하이브리드'] / grp1['합계']\n",
    "grp1"
   ]
  },
  {
   "cell_type": "code",
   "execution_count": 310,
   "metadata": {},
   "outputs": [
    {
     "data": {
      "text/plain": [
       "21757.0"
      ]
     },
     "execution_count": 310,
     "metadata": {},
     "output_type": "execute_result"
    }
   ],
   "source": [
    "grp1['합계'].sum()"
   ]
  },
  {
   "cell_type": "code",
   "execution_count": 311,
   "metadata": {},
   "outputs": [],
   "source": [
    "# grp1 = rcs.groupby(['검사날짜', '연료'], dropna=False)['자동차등록번호'].count().reset_index()\n",
    "# grp1['합계'] = grp1.groupby(['검사날짜'], dropna=False)['자동차등록번호'].transform('sum')\n",
    "# grp1['비율'] = grp1['자동차등록번호'] / grp1['합계']\n",
    "# grp1 = grp1.rename(columns={'자동차등록번호':'원격측정건수'})\n",
    "# grp1"
   ]
  },
  {
   "cell_type": "code",
   "execution_count": 312,
   "metadata": {},
   "outputs": [],
   "source": [
    "# grp1['원격측정건수'].sum()"
   ]
  },
  {
   "cell_type": "markdown",
   "metadata": {},
   "source": [
    "## 2\\. 시간대별 측정건수\n",
    "- 시간대별 경유차 측정 건수, 비율"
   ]
  },
  {
   "cell_type": "code",
   "execution_count": 313,
   "metadata": {},
   "outputs": [
    {
     "data": {
      "text/html": [
       "<div>\n",
       "<style scoped>\n",
       "    .dataframe tbody tr th:only-of-type {\n",
       "        vertical-align: middle;\n",
       "    }\n",
       "\n",
       "    .dataframe tbody tr th {\n",
       "        vertical-align: top;\n",
       "    }\n",
       "\n",
       "    .dataframe thead th {\n",
       "        text-align: right;\n",
       "    }\n",
       "</style>\n",
       "<table border=\"1\" class=\"dataframe\">\n",
       "  <thead>\n",
       "    <tr style=\"text-align: right;\">\n",
       "      <th>연료</th>\n",
       "      <th>검사날짜시간_시</th>\n",
       "      <th>CNG(압축천연가스)</th>\n",
       "      <th>LPG 하이브리드</th>\n",
       "      <th>LPG(액화석유가스)</th>\n",
       "      <th>경유</th>\n",
       "      <th>경유 하이브리드</th>\n",
       "      <th>기타연료</th>\n",
       "      <th>수소</th>\n",
       "      <th>전기</th>\n",
       "      <th>휘발유</th>\n",
       "      <th>휘발유 하이브리드</th>\n",
       "      <th>NaN</th>\n",
       "      <th>합계</th>\n",
       "      <th>경유_비율</th>\n",
       "      <th>경유_하이브리드_비율</th>\n",
       "    </tr>\n",
       "  </thead>\n",
       "  <tbody>\n",
       "    <tr>\n",
       "      <th>0</th>\n",
       "      <td>8</td>\n",
       "      <td>1.00</td>\n",
       "      <td>0.00</td>\n",
       "      <td>0.00</td>\n",
       "      <td>9.00</td>\n",
       "      <td>0.00</td>\n",
       "      <td>0.00</td>\n",
       "      <td>0.00</td>\n",
       "      <td>1.00</td>\n",
       "      <td>4.00</td>\n",
       "      <td>0.00</td>\n",
       "      <td>0.00</td>\n",
       "      <td>15.00</td>\n",
       "      <td>0.60</td>\n",
       "      <td>0.00</td>\n",
       "    </tr>\n",
       "    <tr>\n",
       "      <th>1</th>\n",
       "      <td>9</td>\n",
       "      <td>10.00</td>\n",
       "      <td>3.00</td>\n",
       "      <td>587.00</td>\n",
       "      <td>2677.00</td>\n",
       "      <td>12.00</td>\n",
       "      <td>4.00</td>\n",
       "      <td>5.00</td>\n",
       "      <td>151.00</td>\n",
       "      <td>2248.00</td>\n",
       "      <td>314.00</td>\n",
       "      <td>360.00</td>\n",
       "      <td>6371.00</td>\n",
       "      <td>0.42</td>\n",
       "      <td>0.00</td>\n",
       "    </tr>\n",
       "    <tr>\n",
       "      <th>2</th>\n",
       "      <td>10</td>\n",
       "      <td>16.00</td>\n",
       "      <td>6.00</td>\n",
       "      <td>993.00</td>\n",
       "      <td>4483.00</td>\n",
       "      <td>23.00</td>\n",
       "      <td>11.00</td>\n",
       "      <td>15.00</td>\n",
       "      <td>210.00</td>\n",
       "      <td>3922.00</td>\n",
       "      <td>605.00</td>\n",
       "      <td>603.00</td>\n",
       "      <td>10887.00</td>\n",
       "      <td>0.41</td>\n",
       "      <td>0.00</td>\n",
       "    </tr>\n",
       "    <tr>\n",
       "      <th>3</th>\n",
       "      <td>11</td>\n",
       "      <td>6.00</td>\n",
       "      <td>2.00</td>\n",
       "      <td>220.00</td>\n",
       "      <td>959.00</td>\n",
       "      <td>6.00</td>\n",
       "      <td>1.00</td>\n",
       "      <td>5.00</td>\n",
       "      <td>49.00</td>\n",
       "      <td>872.00</td>\n",
       "      <td>131.00</td>\n",
       "      <td>112.00</td>\n",
       "      <td>2363.00</td>\n",
       "      <td>0.41</td>\n",
       "      <td>0.00</td>\n",
       "    </tr>\n",
       "    <tr>\n",
       "      <th>4</th>\n",
       "      <td>12</td>\n",
       "      <td>0.00</td>\n",
       "      <td>0.00</td>\n",
       "      <td>45.00</td>\n",
       "      <td>198.00</td>\n",
       "      <td>1.00</td>\n",
       "      <td>1.00</td>\n",
       "      <td>2.00</td>\n",
       "      <td>12.00</td>\n",
       "      <td>168.00</td>\n",
       "      <td>36.00</td>\n",
       "      <td>16.00</td>\n",
       "      <td>479.00</td>\n",
       "      <td>0.41</td>\n",
       "      <td>0.00</td>\n",
       "    </tr>\n",
       "    <tr>\n",
       "      <th>5</th>\n",
       "      <td>13</td>\n",
       "      <td>0.00</td>\n",
       "      <td>0.00</td>\n",
       "      <td>68.00</td>\n",
       "      <td>373.00</td>\n",
       "      <td>3.00</td>\n",
       "      <td>0.00</td>\n",
       "      <td>0.00</td>\n",
       "      <td>9.00</td>\n",
       "      <td>264.00</td>\n",
       "      <td>41.00</td>\n",
       "      <td>29.00</td>\n",
       "      <td>787.00</td>\n",
       "      <td>0.47</td>\n",
       "      <td>0.00</td>\n",
       "    </tr>\n",
       "    <tr>\n",
       "      <th>6</th>\n",
       "      <td>14</td>\n",
       "      <td>0.00</td>\n",
       "      <td>0.00</td>\n",
       "      <td>2.00</td>\n",
       "      <td>17.00</td>\n",
       "      <td>0.00</td>\n",
       "      <td>0.00</td>\n",
       "      <td>0.00</td>\n",
       "      <td>0.00</td>\n",
       "      <td>19.00</td>\n",
       "      <td>3.00</td>\n",
       "      <td>0.00</td>\n",
       "      <td>41.00</td>\n",
       "      <td>0.41</td>\n",
       "      <td>0.00</td>\n",
       "    </tr>\n",
       "    <tr>\n",
       "      <th>7</th>\n",
       "      <td>15</td>\n",
       "      <td>0.00</td>\n",
       "      <td>0.00</td>\n",
       "      <td>70.00</td>\n",
       "      <td>321.00</td>\n",
       "      <td>3.00</td>\n",
       "      <td>0.00</td>\n",
       "      <td>0.00</td>\n",
       "      <td>10.00</td>\n",
       "      <td>341.00</td>\n",
       "      <td>45.00</td>\n",
       "      <td>24.00</td>\n",
       "      <td>814.00</td>\n",
       "      <td>0.39</td>\n",
       "      <td>0.00</td>\n",
       "    </tr>\n",
       "  </tbody>\n",
       "</table>\n",
       "</div>"
      ],
      "text/plain": [
       "연료  검사날짜시간_시  CNG(압축천연가스)  LPG 하이브리드  LPG(액화석유가스)      경유  경유 하이브리드  기타연료   \n",
       "0          8         1.00       0.00         0.00    9.00      0.00  0.00  \\\n",
       "1          9        10.00       3.00       587.00 2677.00     12.00  4.00   \n",
       "2         10        16.00       6.00       993.00 4483.00     23.00 11.00   \n",
       "3         11         6.00       2.00       220.00  959.00      6.00  1.00   \n",
       "4         12         0.00       0.00        45.00  198.00      1.00  1.00   \n",
       "5         13         0.00       0.00        68.00  373.00      3.00  0.00   \n",
       "6         14         0.00       0.00         2.00   17.00      0.00  0.00   \n",
       "7         15         0.00       0.00        70.00  321.00      3.00  0.00   \n",
       "\n",
       "연료    수소     전기     휘발유  휘발유 하이브리드    NaN       합계  경유_비율  경유_하이브리드_비율  \n",
       "0   0.00   1.00    4.00       0.00   0.00    15.00   0.60         0.00  \n",
       "1   5.00 151.00 2248.00     314.00 360.00  6371.00   0.42         0.00  \n",
       "2  15.00 210.00 3922.00     605.00 603.00 10887.00   0.41         0.00  \n",
       "3   5.00  49.00  872.00     131.00 112.00  2363.00   0.41         0.00  \n",
       "4   2.00  12.00  168.00      36.00  16.00   479.00   0.41         0.00  \n",
       "5   0.00   9.00  264.00      41.00  29.00   787.00   0.47         0.00  \n",
       "6   0.00   0.00   19.00       3.00   0.00    41.00   0.41         0.00  \n",
       "7   0.00  10.00  341.00      45.00  24.00   814.00   0.39         0.00  "
      ]
     },
     "execution_count": 313,
     "metadata": {},
     "output_type": "execute_result"
    }
   ],
   "source": [
    "grp2 = rcs.groupby(['검사날짜시간_시', '연료'], dropna=False)['자동차등록번호'].count().unstack('연료').reset_index()\n",
    "grp2 = grp2.fillna(0)\n",
    "grp2['합계'] = grp2.iloc[:, 1:].sum(axis=1)\n",
    "grp2['경유_비율'] = grp2['경유'] / grp2['합계']\n",
    "grp2['경유_하이브리드_비율'] = grp2['경유 하이브리드'] / grp2['합계']\n",
    "grp2"
   ]
  },
  {
   "cell_type": "code",
   "execution_count": 314,
   "metadata": {},
   "outputs": [
    {
     "data": {
      "text/plain": [
       "21757.0"
      ]
     },
     "execution_count": 314,
     "metadata": {},
     "output_type": "execute_result"
    }
   ],
   "source": [
    "grp2['합계'].sum()"
   ]
  },
  {
   "cell_type": "code",
   "execution_count": 315,
   "metadata": {},
   "outputs": [],
   "source": [
    "# grp2 = rcs.groupby(['검사날짜시간_시', '연료'], dropna=False)['자동차등록번호'].count().reset_index()\n",
    "# grp2['합계'] = grp2.groupby(['검사날짜시간_시'], dropna=False)['자동차등록번호'].transform('sum')\n",
    "# grp2['비율'] = grp2['자동차등록번호'] / grp2['합계']\n",
    "# grp2 = grp2.rename(columns={'자동차등록번호':'원격측정건수'})\n",
    "# grp2"
   ]
  },
  {
   "cell_type": "code",
   "execution_count": 316,
   "metadata": {},
   "outputs": [],
   "source": [
    "# grp2['원격측정건수'].sum()"
   ]
  },
  {
   "cell_type": "markdown",
   "metadata": {},
   "source": [
    "## 3\\. 요일별 측정건수\n",
    "- 요일별 경유차 측정 건수, 비율"
   ]
  },
  {
   "cell_type": "code",
   "execution_count": 317,
   "metadata": {},
   "outputs": [
    {
     "data": {
      "text/html": [
       "<div>\n",
       "<style scoped>\n",
       "    .dataframe tbody tr th:only-of-type {\n",
       "        vertical-align: middle;\n",
       "    }\n",
       "\n",
       "    .dataframe tbody tr th {\n",
       "        vertical-align: top;\n",
       "    }\n",
       "\n",
       "    .dataframe thead th {\n",
       "        text-align: right;\n",
       "    }\n",
       "</style>\n",
       "<table border=\"1\" class=\"dataframe\">\n",
       "  <thead>\n",
       "    <tr style=\"text-align: right;\">\n",
       "      <th>연료</th>\n",
       "      <th>검사날짜시간_요일</th>\n",
       "      <th>CNG(압축천연가스)</th>\n",
       "      <th>LPG 하이브리드</th>\n",
       "      <th>LPG(액화석유가스)</th>\n",
       "      <th>경유</th>\n",
       "      <th>경유 하이브리드</th>\n",
       "      <th>기타연료</th>\n",
       "      <th>수소</th>\n",
       "      <th>전기</th>\n",
       "      <th>휘발유</th>\n",
       "      <th>휘발유 하이브리드</th>\n",
       "      <th>NaN</th>\n",
       "      <th>합계</th>\n",
       "      <th>경유_비율</th>\n",
       "      <th>경유_하이브리드_비율</th>\n",
       "    </tr>\n",
       "  </thead>\n",
       "  <tbody>\n",
       "    <tr>\n",
       "      <th>0</th>\n",
       "      <td>금</td>\n",
       "      <td>3</td>\n",
       "      <td>1</td>\n",
       "      <td>95</td>\n",
       "      <td>423</td>\n",
       "      <td>3</td>\n",
       "      <td>1</td>\n",
       "      <td>2</td>\n",
       "      <td>22</td>\n",
       "      <td>364</td>\n",
       "      <td>61</td>\n",
       "      <td>39</td>\n",
       "      <td>1014</td>\n",
       "      <td>0.42</td>\n",
       "      <td>0.00</td>\n",
       "    </tr>\n",
       "    <tr>\n",
       "      <th>1</th>\n",
       "      <td>목</td>\n",
       "      <td>7</td>\n",
       "      <td>2</td>\n",
       "      <td>552</td>\n",
       "      <td>2669</td>\n",
       "      <td>12</td>\n",
       "      <td>5</td>\n",
       "      <td>5</td>\n",
       "      <td>125</td>\n",
       "      <td>2343</td>\n",
       "      <td>338</td>\n",
       "      <td>367</td>\n",
       "      <td>6425</td>\n",
       "      <td>0.42</td>\n",
       "      <td>0.00</td>\n",
       "    </tr>\n",
       "    <tr>\n",
       "      <th>2</th>\n",
       "      <td>수</td>\n",
       "      <td>9</td>\n",
       "      <td>1</td>\n",
       "      <td>330</td>\n",
       "      <td>1413</td>\n",
       "      <td>5</td>\n",
       "      <td>4</td>\n",
       "      <td>6</td>\n",
       "      <td>65</td>\n",
       "      <td>1281</td>\n",
       "      <td>199</td>\n",
       "      <td>222</td>\n",
       "      <td>3535</td>\n",
       "      <td>0.40</td>\n",
       "      <td>0.00</td>\n",
       "    </tr>\n",
       "    <tr>\n",
       "      <th>3</th>\n",
       "      <td>월</td>\n",
       "      <td>7</td>\n",
       "      <td>4</td>\n",
       "      <td>487</td>\n",
       "      <td>2070</td>\n",
       "      <td>14</td>\n",
       "      <td>3</td>\n",
       "      <td>8</td>\n",
       "      <td>127</td>\n",
       "      <td>1763</td>\n",
       "      <td>261</td>\n",
       "      <td>236</td>\n",
       "      <td>4980</td>\n",
       "      <td>0.42</td>\n",
       "      <td>0.00</td>\n",
       "    </tr>\n",
       "    <tr>\n",
       "      <th>4</th>\n",
       "      <td>화</td>\n",
       "      <td>7</td>\n",
       "      <td>3</td>\n",
       "      <td>521</td>\n",
       "      <td>2462</td>\n",
       "      <td>14</td>\n",
       "      <td>4</td>\n",
       "      <td>6</td>\n",
       "      <td>103</td>\n",
       "      <td>2087</td>\n",
       "      <td>316</td>\n",
       "      <td>280</td>\n",
       "      <td>5803</td>\n",
       "      <td>0.42</td>\n",
       "      <td>0.00</td>\n",
       "    </tr>\n",
       "  </tbody>\n",
       "</table>\n",
       "</div>"
      ],
      "text/plain": [
       "연료 검사날짜시간_요일  CNG(압축천연가스)  LPG 하이브리드  LPG(액화석유가스)    경유  경유 하이브리드  기타연료  수소   \n",
       "0          금            3          1           95   423         3     1   2  \\\n",
       "1          목            7          2          552  2669        12     5   5   \n",
       "2          수            9          1          330  1413         5     4   6   \n",
       "3          월            7          4          487  2070        14     3   8   \n",
       "4          화            7          3          521  2462        14     4   6   \n",
       "\n",
       "연료   전기   휘발유  휘발유 하이브리드  NaN    합계  경유_비율  경유_하이브리드_비율  \n",
       "0    22   364         61   39  1014   0.42         0.00  \n",
       "1   125  2343        338  367  6425   0.42         0.00  \n",
       "2    65  1281        199  222  3535   0.40         0.00  \n",
       "3   127  1763        261  236  4980   0.42         0.00  \n",
       "4   103  2087        316  280  5803   0.42         0.00  "
      ]
     },
     "execution_count": 317,
     "metadata": {},
     "output_type": "execute_result"
    }
   ],
   "source": [
    "grp3 = rcs.groupby(['검사날짜시간_요일', '연료'], dropna=False)['자동차등록번호'].count().unstack('연료').reset_index()\n",
    "grp3 = grp3.fillna(0)\n",
    "grp3['합계'] = grp3.iloc[:, 1:].sum(axis=1)\n",
    "grp3['경유_비율'] = grp3['경유'] / grp3['합계']\n",
    "grp3['경유_하이브리드_비율'] = grp3['경유 하이브리드'] / grp3['합계']\n",
    "grp3"
   ]
  },
  {
   "cell_type": "code",
   "execution_count": 318,
   "metadata": {},
   "outputs": [
    {
     "data": {
      "text/plain": [
       "21757"
      ]
     },
     "execution_count": 318,
     "metadata": {},
     "output_type": "execute_result"
    }
   ],
   "source": [
    "grp3['합계'].sum()"
   ]
  },
  {
   "cell_type": "code",
   "execution_count": 319,
   "metadata": {},
   "outputs": [],
   "source": [
    "# grp3 = rcs.groupby(['검사날짜시간_요일', '연료'], dropna=False)['자동차등록번호'].count().reset_index()\n",
    "# grp3['합계'] = grp3.groupby(['검사날짜시간_요일'], dropna=False)['자동차등록번호'].transform('sum')\n",
    "# grp3['비율'] = grp3['자동차등록번호'] / grp3['합계']\n",
    "# grp3 = grp3.rename(columns={'자동차등록번호':'원격측정건수'})\n",
    "# grp3"
   ]
  },
  {
   "cell_type": "code",
   "execution_count": 320,
   "metadata": {},
   "outputs": [],
   "source": [
    "# grp3['원격측정건수'].sum()"
   ]
  },
  {
   "cell_type": "markdown",
   "metadata": {},
   "source": [
    "## [🔺] 4\\. 차선별 측정건수(데이터 부재)"
   ]
  },
  {
   "cell_type": "code",
   "execution_count": null,
   "metadata": {},
   "outputs": [],
   "source": []
  },
  {
   "cell_type": "markdown",
   "metadata": {},
   "source": [
    "## 5\\. 차종별 측정건수\n",
    "- 차종별 측정 건수, 비율"
   ]
  },
  {
   "cell_type": "code",
   "execution_count": 321,
   "metadata": {},
   "outputs": [
    {
     "data": {
      "text/html": [
       "<div>\n",
       "<style scoped>\n",
       "    .dataframe tbody tr th:only-of-type {\n",
       "        vertical-align: middle;\n",
       "    }\n",
       "\n",
       "    .dataframe tbody tr th {\n",
       "        vertical-align: top;\n",
       "    }\n",
       "\n",
       "    .dataframe thead th {\n",
       "        text-align: right;\n",
       "    }\n",
       "</style>\n",
       "<table border=\"1\" class=\"dataframe\">\n",
       "  <thead>\n",
       "    <tr style=\"text-align: right;\">\n",
       "      <th></th>\n",
       "      <th>차종</th>\n",
       "      <th>원격측정건수</th>\n",
       "      <th>비율</th>\n",
       "    </tr>\n",
       "  </thead>\n",
       "  <tbody>\n",
       "    <tr>\n",
       "      <th>0</th>\n",
       "      <td>승용</td>\n",
       "      <td>15641</td>\n",
       "      <td>0.72</td>\n",
       "    </tr>\n",
       "    <tr>\n",
       "      <th>1</th>\n",
       "      <td>승합</td>\n",
       "      <td>726</td>\n",
       "      <td>0.03</td>\n",
       "    </tr>\n",
       "    <tr>\n",
       "      <th>2</th>\n",
       "      <td>특수</td>\n",
       "      <td>60</td>\n",
       "      <td>0.00</td>\n",
       "    </tr>\n",
       "    <tr>\n",
       "      <th>3</th>\n",
       "      <td>화물</td>\n",
       "      <td>4198</td>\n",
       "      <td>0.19</td>\n",
       "    </tr>\n",
       "    <tr>\n",
       "      <th>4</th>\n",
       "      <td>NaN</td>\n",
       "      <td>1132</td>\n",
       "      <td>0.05</td>\n",
       "    </tr>\n",
       "  </tbody>\n",
       "</table>\n",
       "</div>"
      ],
      "text/plain": [
       "    차종  원격측정건수   비율\n",
       "0   승용   15641 0.72\n",
       "1   승합     726 0.03\n",
       "2   특수      60 0.00\n",
       "3   화물    4198 0.19\n",
       "4  NaN    1132 0.05"
      ]
     },
     "execution_count": 321,
     "metadata": {},
     "output_type": "execute_result"
    }
   ],
   "source": [
    "grp5 = rcs.groupby(['차종'], dropna=False)['자동차등록번호'].count().reset_index()\n",
    "grp5['비율'] = grp5['자동차등록번호'] / grp5['자동차등록번호'].sum()\n",
    "grp5 = grp5.rename(columns={'자동차등록번호':'원격측정건수'})\n",
    "grp5"
   ]
  },
  {
   "cell_type": "code",
   "execution_count": 322,
   "metadata": {},
   "outputs": [
    {
     "data": {
      "text/plain": [
       "21757"
      ]
     },
     "execution_count": 322,
     "metadata": {},
     "output_type": "execute_result"
    }
   ],
   "source": [
    "grp5['원격측정건수'].sum()"
   ]
  },
  {
   "cell_type": "markdown",
   "metadata": {},
   "source": [
    "## [❗] 경유차만 추출"
   ]
  },
  {
   "cell_type": "code",
   "execution_count": 323,
   "metadata": {},
   "outputs": [
    {
     "data": {
      "text/plain": [
       "(9037, 35)"
      ]
     },
     "execution_count": 323,
     "metadata": {},
     "output_type": "execute_result"
    }
   ],
   "source": [
    "die = rcs.loc[rcs['연료'] == '경유'].reset_index(drop=True)\n",
    "die.shape"
   ]
  },
  {
   "cell_type": "code",
   "execution_count": 324,
   "metadata": {},
   "outputs": [
    {
     "data": {
      "text/plain": [
       "(24124, 42)"
      ]
     },
     "execution_count": 324,
     "metadata": {},
     "output_type": "execute_result"
    }
   ],
   "source": [
    "diee = rcse.loc[rcse['연료'] == '경유'].reset_index(drop=True)\n",
    "diee.shape"
   ]
  },
  {
   "cell_type": "markdown",
   "metadata": {},
   "source": [
    "## 6\\. 매연측정 통계\n",
    "- 매연 값 전체의 통계(최대, 최소, 중간, 평균)"
   ]
  },
  {
   "cell_type": "code",
   "execution_count": 325,
   "metadata": {},
   "outputs": [
    {
     "data": {
      "text/plain": [
       "count   9037.00\n",
       "mean       1.68\n",
       "std        3.39\n",
       "min        0.00\n",
       "25%        0.40\n",
       "50%        0.60\n",
       "75%        1.00\n",
       "max       19.90\n",
       "Name: 매연, dtype: float64"
      ]
     },
     "execution_count": 325,
     "metadata": {},
     "output_type": "execute_result"
    }
   ],
   "source": [
    "# # 경유차만 통계\n",
    "grp6 = die['매연'].describe()\n",
    "grp6"
   ]
  },
  {
   "cell_type": "markdown",
   "metadata": {},
   "source": [
    "## [🔺] 7\\. 차선별 매연측정 통계(데이터 부재)\n",
    "- 차선별 매연 값 전체의 통계"
   ]
  },
  {
   "cell_type": "code",
   "execution_count": null,
   "metadata": {},
   "outputs": [],
   "source": []
  },
  {
   "cell_type": "markdown",
   "metadata": {},
   "source": [
    "## 8\\. 속도별 매연측정 통계\n",
    "- 속도별 매연 값 전체의 통계"
   ]
  },
  {
   "cell_type": "code",
   "execution_count": 326,
   "metadata": {},
   "outputs": [
    {
     "data": {
      "text/plain": [
       "(9037, 3)"
      ]
     },
     "execution_count": 326,
     "metadata": {},
     "output_type": "execute_result"
    }
   ],
   "source": [
    "sdf8 = die[['속도', '매연', '자동차등록번호']].reset_index(drop=True)\n",
    "sdf8.shape"
   ]
  },
  {
   "cell_type": "code",
   "execution_count": 327,
   "metadata": {},
   "outputs": [
    {
     "data": {
      "text/plain": [
       "count   9037.00\n",
       "mean      47.07\n",
       "std       35.33\n",
       "min        0.00\n",
       "25%       42.20\n",
       "50%       49.70\n",
       "75%       55.70\n",
       "max     1699.30\n",
       "Name: 속도, dtype: float64"
      ]
     },
     "execution_count": 327,
     "metadata": {},
     "output_type": "execute_result"
    }
   ],
   "source": [
    "sdf8['속도'].describe()"
   ]
  },
  {
   "cell_type": "code",
   "execution_count": 328,
   "metadata": {},
   "outputs": [],
   "source": [
    "# 10단위로 나눔\n",
    "# 100초과는 하나의 구간으로 설정\n",
    "per = 10\n",
    "for i in range(10):\n",
    "    sdf8.loc[(sdf8['속도'] >= i * per) & (sdf8['속도'] < (i + 1) * per), '속도구간'] = f'{i * per}이상 {(i + 1) * per}미만'\n",
    "sdf8.loc[sdf8['속도'] >= 100, '속도구간'] = '100이상'"
   ]
  },
  {
   "cell_type": "code",
   "execution_count": 329,
   "metadata": {},
   "outputs": [
    {
     "data": {
      "text/html": [
       "<div>\n",
       "<style scoped>\n",
       "    .dataframe tbody tr th:only-of-type {\n",
       "        vertical-align: middle;\n",
       "    }\n",
       "\n",
       "    .dataframe tbody tr th {\n",
       "        vertical-align: top;\n",
       "    }\n",
       "\n",
       "    .dataframe thead th {\n",
       "        text-align: right;\n",
       "    }\n",
       "</style>\n",
       "<table border=\"1\" class=\"dataframe\">\n",
       "  <thead>\n",
       "    <tr style=\"text-align: right;\">\n",
       "      <th></th>\n",
       "      <th>속도</th>\n",
       "      <th>매연</th>\n",
       "      <th>자동차등록번호</th>\n",
       "      <th>속도구간</th>\n",
       "    </tr>\n",
       "  </thead>\n",
       "  <tbody>\n",
       "    <tr>\n",
       "      <th>0</th>\n",
       "      <td>50.60</td>\n",
       "      <td>0.70</td>\n",
       "      <td>80러0579</td>\n",
       "      <td>50이상 60미만</td>\n",
       "    </tr>\n",
       "    <tr>\n",
       "      <th>1</th>\n",
       "      <td>53.30</td>\n",
       "      <td>0.90</td>\n",
       "      <td>94누0128</td>\n",
       "      <td>50이상 60미만</td>\n",
       "    </tr>\n",
       "    <tr>\n",
       "      <th>2</th>\n",
       "      <td>36.90</td>\n",
       "      <td>0.60</td>\n",
       "      <td>82마9521</td>\n",
       "      <td>30이상 40미만</td>\n",
       "    </tr>\n",
       "    <tr>\n",
       "      <th>3</th>\n",
       "      <td>53.50</td>\n",
       "      <td>0.60</td>\n",
       "      <td>20소2902</td>\n",
       "      <td>50이상 60미만</td>\n",
       "    </tr>\n",
       "    <tr>\n",
       "      <th>4</th>\n",
       "      <td>51.50</td>\n",
       "      <td>0.50</td>\n",
       "      <td>87수7400</td>\n",
       "      <td>50이상 60미만</td>\n",
       "    </tr>\n",
       "  </tbody>\n",
       "</table>\n",
       "</div>"
      ],
      "text/plain": [
       "     속도   매연  자동차등록번호       속도구간\n",
       "0 50.60 0.70  80러0579  50이상 60미만\n",
       "1 53.30 0.90  94누0128  50이상 60미만\n",
       "2 36.90 0.60  82마9521  30이상 40미만\n",
       "3 53.50 0.60  20소2902  50이상 60미만\n",
       "4 51.50 0.50  87수7400  50이상 60미만"
      ]
     },
     "execution_count": 329,
     "metadata": {},
     "output_type": "execute_result"
    }
   ],
   "source": [
    "sdf8.head()"
   ]
  },
  {
   "cell_type": "code",
   "execution_count": 330,
   "metadata": {},
   "outputs": [
    {
     "data": {
      "text/html": [
       "<div>\n",
       "<style scoped>\n",
       "    .dataframe tbody tr th:only-of-type {\n",
       "        vertical-align: middle;\n",
       "    }\n",
       "\n",
       "    .dataframe tbody tr th {\n",
       "        vertical-align: top;\n",
       "    }\n",
       "\n",
       "    .dataframe thead th {\n",
       "        text-align: right;\n",
       "    }\n",
       "</style>\n",
       "<table border=\"1\" class=\"dataframe\">\n",
       "  <thead>\n",
       "    <tr style=\"text-align: right;\">\n",
       "      <th></th>\n",
       "      <th>속도구간</th>\n",
       "      <th>매연_max</th>\n",
       "      <th>매연_min</th>\n",
       "      <th>매연_Q2</th>\n",
       "      <th>매연_mean</th>\n",
       "    </tr>\n",
       "  </thead>\n",
       "  <tbody>\n",
       "    <tr>\n",
       "      <th>0</th>\n",
       "      <td>0이상 10미만</td>\n",
       "      <td>19.90</td>\n",
       "      <td>0.00</td>\n",
       "      <td>0.50</td>\n",
       "      <td>1.09</td>\n",
       "    </tr>\n",
       "    <tr>\n",
       "      <th>1</th>\n",
       "      <td>100이상</td>\n",
       "      <td>3.60</td>\n",
       "      <td>0.00</td>\n",
       "      <td>0.60</td>\n",
       "      <td>0.89</td>\n",
       "    </tr>\n",
       "    <tr>\n",
       "      <th>2</th>\n",
       "      <td>10이상 20미만</td>\n",
       "      <td>19.10</td>\n",
       "      <td>0.00</td>\n",
       "      <td>0.65</td>\n",
       "      <td>1.73</td>\n",
       "    </tr>\n",
       "    <tr>\n",
       "      <th>3</th>\n",
       "      <td>20이상 30미만</td>\n",
       "      <td>19.30</td>\n",
       "      <td>0.00</td>\n",
       "      <td>0.60</td>\n",
       "      <td>2.14</td>\n",
       "    </tr>\n",
       "    <tr>\n",
       "      <th>4</th>\n",
       "      <td>30이상 40미만</td>\n",
       "      <td>19.80</td>\n",
       "      <td>0.00</td>\n",
       "      <td>0.60</td>\n",
       "      <td>2.09</td>\n",
       "    </tr>\n",
       "    <tr>\n",
       "      <th>5</th>\n",
       "      <td>40이상 50미만</td>\n",
       "      <td>19.90</td>\n",
       "      <td>0.00</td>\n",
       "      <td>0.60</td>\n",
       "      <td>1.83</td>\n",
       "    </tr>\n",
       "    <tr>\n",
       "      <th>6</th>\n",
       "      <td>50이상 60미만</td>\n",
       "      <td>19.90</td>\n",
       "      <td>0.00</td>\n",
       "      <td>0.60</td>\n",
       "      <td>1.61</td>\n",
       "    </tr>\n",
       "    <tr>\n",
       "      <th>7</th>\n",
       "      <td>60이상 70미만</td>\n",
       "      <td>19.90</td>\n",
       "      <td>0.00</td>\n",
       "      <td>0.60</td>\n",
       "      <td>1.48</td>\n",
       "    </tr>\n",
       "    <tr>\n",
       "      <th>8</th>\n",
       "      <td>70이상 80미만</td>\n",
       "      <td>19.80</td>\n",
       "      <td>0.10</td>\n",
       "      <td>0.85</td>\n",
       "      <td>1.98</td>\n",
       "    </tr>\n",
       "    <tr>\n",
       "      <th>9</th>\n",
       "      <td>80이상 90미만</td>\n",
       "      <td>10.30</td>\n",
       "      <td>0.30</td>\n",
       "      <td>0.75</td>\n",
       "      <td>1.78</td>\n",
       "    </tr>\n",
       "    <tr>\n",
       "      <th>10</th>\n",
       "      <td>90이상 100미만</td>\n",
       "      <td>0.80</td>\n",
       "      <td>0.80</td>\n",
       "      <td>0.80</td>\n",
       "      <td>0.80</td>\n",
       "    </tr>\n",
       "  </tbody>\n",
       "</table>\n",
       "</div>"
      ],
      "text/plain": [
       "          속도구간  매연_max  매연_min  매연_Q2  매연_mean\n",
       "0     0이상 10미만   19.90    0.00   0.50     1.09\n",
       "1        100이상    3.60    0.00   0.60     0.89\n",
       "2    10이상 20미만   19.10    0.00   0.65     1.73\n",
       "3    20이상 30미만   19.30    0.00   0.60     2.14\n",
       "4    30이상 40미만   19.80    0.00   0.60     2.09\n",
       "5    40이상 50미만   19.90    0.00   0.60     1.83\n",
       "6    50이상 60미만   19.90    0.00   0.60     1.61\n",
       "7    60이상 70미만   19.90    0.00   0.60     1.48\n",
       "8    70이상 80미만   19.80    0.10   0.85     1.98\n",
       "9    80이상 90미만   10.30    0.30   0.75     1.78\n",
       "10  90이상 100미만    0.80    0.80   0.80     0.80"
      ]
     },
     "execution_count": 330,
     "metadata": {},
     "output_type": "execute_result"
    }
   ],
   "source": [
    "grp8 = sdf8.groupby('속도구간').agg({'매연':['max', 'min', lambda x:x.describe()['50%'], 'mean']}).reset_index()\n",
    "grp8.columns = ['속도구간', '매연_max', '매연_min', '매연_Q2', '매연_mean']\n",
    "grp8"
   ]
  },
  {
   "cell_type": "markdown",
   "metadata": {},
   "source": [
    "## 9\\. 매연농도별 측정건수, 건수 비율\n",
    "- 1. 매연농도 구간별 측정건수 개수\n",
    "- 2. 전체 측정개수 중 해당구간 개수 비율"
   ]
  },
  {
   "cell_type": "code",
   "execution_count": 331,
   "metadata": {},
   "outputs": [
    {
     "data": {
      "text/plain": [
       "(9037, 2)"
      ]
     },
     "execution_count": 331,
     "metadata": {},
     "output_type": "execute_result"
    }
   ],
   "source": [
    "# 경유차만 추출\n",
    "sdf9 = die[['매연', '자동차등록번호']].reset_index(drop=True)\n",
    "sdf9.shape"
   ]
  },
  {
   "cell_type": "code",
   "execution_count": 332,
   "metadata": {},
   "outputs": [],
   "source": [
    "# 5단위로 분리\n",
    "per = 5\n",
    "for i in range(4):\n",
    "    sdf9.loc[(sdf9['매연'] >= i * per) & (sdf9['매연'] < (i + 1) * per), '매연구간'] = f'{i * per}이상 {(i + 1) * per}미만'"
   ]
  },
  {
   "cell_type": "code",
   "execution_count": 333,
   "metadata": {},
   "outputs": [
    {
     "data": {
      "text/html": [
       "<div>\n",
       "<style scoped>\n",
       "    .dataframe tbody tr th:only-of-type {\n",
       "        vertical-align: middle;\n",
       "    }\n",
       "\n",
       "    .dataframe tbody tr th {\n",
       "        vertical-align: top;\n",
       "    }\n",
       "\n",
       "    .dataframe thead th {\n",
       "        text-align: right;\n",
       "    }\n",
       "</style>\n",
       "<table border=\"1\" class=\"dataframe\">\n",
       "  <thead>\n",
       "    <tr style=\"text-align: right;\">\n",
       "      <th></th>\n",
       "      <th>매연</th>\n",
       "      <th>자동차등록번호</th>\n",
       "      <th>매연구간</th>\n",
       "    </tr>\n",
       "  </thead>\n",
       "  <tbody>\n",
       "    <tr>\n",
       "      <th>0</th>\n",
       "      <td>0.70</td>\n",
       "      <td>80러0579</td>\n",
       "      <td>0이상 5미만</td>\n",
       "    </tr>\n",
       "    <tr>\n",
       "      <th>1</th>\n",
       "      <td>0.90</td>\n",
       "      <td>94누0128</td>\n",
       "      <td>0이상 5미만</td>\n",
       "    </tr>\n",
       "    <tr>\n",
       "      <th>2</th>\n",
       "      <td>0.60</td>\n",
       "      <td>82마9521</td>\n",
       "      <td>0이상 5미만</td>\n",
       "    </tr>\n",
       "    <tr>\n",
       "      <th>3</th>\n",
       "      <td>0.60</td>\n",
       "      <td>20소2902</td>\n",
       "      <td>0이상 5미만</td>\n",
       "    </tr>\n",
       "    <tr>\n",
       "      <th>4</th>\n",
       "      <td>0.50</td>\n",
       "      <td>87수7400</td>\n",
       "      <td>0이상 5미만</td>\n",
       "    </tr>\n",
       "  </tbody>\n",
       "</table>\n",
       "</div>"
      ],
      "text/plain": [
       "    매연  자동차등록번호     매연구간\n",
       "0 0.70  80러0579  0이상 5미만\n",
       "1 0.90  94누0128  0이상 5미만\n",
       "2 0.60  82마9521  0이상 5미만\n",
       "3 0.60  20소2902  0이상 5미만\n",
       "4 0.50  87수7400  0이상 5미만"
      ]
     },
     "execution_count": 333,
     "metadata": {},
     "output_type": "execute_result"
    }
   ],
   "source": [
    "sdf9.head()"
   ]
  },
  {
   "cell_type": "code",
   "execution_count": 334,
   "metadata": {},
   "outputs": [
    {
     "data": {
      "text/html": [
       "<div>\n",
       "<style scoped>\n",
       "    .dataframe tbody tr th:only-of-type {\n",
       "        vertical-align: middle;\n",
       "    }\n",
       "\n",
       "    .dataframe tbody tr th {\n",
       "        vertical-align: top;\n",
       "    }\n",
       "\n",
       "    .dataframe thead th {\n",
       "        text-align: right;\n",
       "    }\n",
       "</style>\n",
       "<table border=\"1\" class=\"dataframe\">\n",
       "  <thead>\n",
       "    <tr style=\"text-align: right;\">\n",
       "      <th></th>\n",
       "      <th>매연구간</th>\n",
       "      <th>원격측정건수</th>\n",
       "      <th>비율</th>\n",
       "    </tr>\n",
       "  </thead>\n",
       "  <tbody>\n",
       "    <tr>\n",
       "      <th>0</th>\n",
       "      <td>0이상 5미만</td>\n",
       "      <td>8237</td>\n",
       "      <td>0.91</td>\n",
       "    </tr>\n",
       "    <tr>\n",
       "      <th>1</th>\n",
       "      <td>10이상 15미만</td>\n",
       "      <td>216</td>\n",
       "      <td>0.02</td>\n",
       "    </tr>\n",
       "    <tr>\n",
       "      <th>2</th>\n",
       "      <td>15이상 20미만</td>\n",
       "      <td>225</td>\n",
       "      <td>0.02</td>\n",
       "    </tr>\n",
       "    <tr>\n",
       "      <th>3</th>\n",
       "      <td>5이상 10미만</td>\n",
       "      <td>359</td>\n",
       "      <td>0.04</td>\n",
       "    </tr>\n",
       "  </tbody>\n",
       "</table>\n",
       "</div>"
      ],
      "text/plain": [
       "        매연구간  원격측정건수   비율\n",
       "0    0이상 5미만    8237 0.91\n",
       "1  10이상 15미만     216 0.02\n",
       "2  15이상 20미만     225 0.02\n",
       "3   5이상 10미만     359 0.04"
      ]
     },
     "execution_count": 334,
     "metadata": {},
     "output_type": "execute_result"
    }
   ],
   "source": [
    "grp9 = sdf9.groupby('매연구간')['자동차등록번호'].count().reset_index()\n",
    "grp9['비율'] = grp9['자동차등록번호'] / grp9['자동차등록번호'].sum()\n",
    "grp9 = grp9.rename(columns={'자동차등록번호':'원격측정건수'})\n",
    "grp9"
   ]
  },
  {
   "cell_type": "markdown",
   "metadata": {},
   "source": [
    "## ~~[❌]10\\. 차선별 매연측정 통계(7번과 동일)~~\n",
    "- ~~차선별 매연 값 통계~~ "
   ]
  },
  {
   "cell_type": "code",
   "execution_count": null,
   "metadata": {},
   "outputs": [],
   "source": []
  },
  {
   "cell_type": "markdown",
   "metadata": {},
   "source": [
    "## ~~[❌] 11\\. 속도별 매연측정 통계(8번과 동일)~~\n",
    "- ~~속도범위별 매연 값 평균~~"
   ]
  },
  {
   "cell_type": "code",
   "execution_count": null,
   "metadata": {},
   "outputs": [],
   "source": []
  },
  {
   "cell_type": "markdown",
   "metadata": {},
   "source": [
    "## 12\\. 매연농도 상위 10%의 정밀검사 결과\n",
    "- 매연 상위 10%의 정밀검사 결과(무부하측정치1) 확인\n",
    "    - 정밀검사 최신결과? YES\n",
    "- 검사결과의 적합/부적합 여부(비율)\n",
    "    - 정밀검사 최신결과? YES\n",
    "\n",
    "- 과정\n",
    "    - 1\\. 정밀 '검사일자' 최신, '자동차등록번호' 기준 중복 제거\n",
    "    - 2\\. '매연' 기준으로 내림차순\n",
    "    - 3\\. 전제의 10%만 추출\n",
    "    - 4\\. '검사판정' == 'Y', 'N' 비율 분석 "
   ]
  },
  {
   "cell_type": "code",
   "execution_count": 335,
   "metadata": {},
   "outputs": [
    {
     "data": {
      "text/plain": [
       "(24124, 42)"
      ]
     },
     "execution_count": 335,
     "metadata": {},
     "output_type": "execute_result"
    }
   ],
   "source": [
    "diee.shape"
   ]
  },
  {
   "cell_type": "code",
   "execution_count": 336,
   "metadata": {},
   "outputs": [
    {
     "data": {
      "text/plain": [
       "(7425, 42)"
      ]
     },
     "execution_count": 336,
     "metadata": {},
     "output_type": "execute_result"
    }
   ],
   "source": [
    "# 1\\. 정밀 '검사일자' 최신, '자동차등록번호' 기준 중복 제거\n",
    "sdf12 = diee.sort_values('검사일자', ascending=False).drop_duplicates('자동차등록번호').reset_index(drop=True)\n",
    "sdf12.shape"
   ]
  },
  {
   "cell_type": "code",
   "execution_count": 337,
   "metadata": {},
   "outputs": [
    {
     "data": {
      "text/plain": [
       "(7425, 42)"
      ]
     },
     "execution_count": 337,
     "metadata": {},
     "output_type": "execute_result"
    }
   ],
   "source": [
    "# 2\\. '매연' 기준으로 내림차순\n",
    "sdf12 = sdf12.sort_values('매연', ascending=False).reset_index(drop=True)\n",
    "sdf12.shape"
   ]
  },
  {
   "cell_type": "code",
   "execution_count": 338,
   "metadata": {},
   "outputs": [
    {
     "data": {
      "text/plain": [
       "742"
      ]
     },
     "execution_count": 338,
     "metadata": {},
     "output_type": "execute_result"
    }
   ],
   "source": [
    "rate = round(0.1 * sdf12.shape[0])\n",
    "rate"
   ]
  },
  {
   "cell_type": "code",
   "execution_count": 339,
   "metadata": {},
   "outputs": [
    {
     "data": {
      "text/plain": [
       "(742, 42)"
      ]
     },
     "execution_count": 339,
     "metadata": {},
     "output_type": "execute_result"
    }
   ],
   "source": [
    "# 3\\. 전제의 10%만 추출\n",
    "sdf12 = sdf12.iloc[:rate]\n",
    "sdf12.shape"
   ]
  },
  {
   "cell_type": "code",
   "execution_count": 340,
   "metadata": {},
   "outputs": [
    {
     "data": {
      "text/html": [
       "<div>\n",
       "<style scoped>\n",
       "    .dataframe tbody tr th:only-of-type {\n",
       "        vertical-align: middle;\n",
       "    }\n",
       "\n",
       "    .dataframe tbody tr th {\n",
       "        vertical-align: top;\n",
       "    }\n",
       "\n",
       "    .dataframe thead th {\n",
       "        text-align: right;\n",
       "    }\n",
       "</style>\n",
       "<table border=\"1\" class=\"dataframe\">\n",
       "  <thead>\n",
       "    <tr style=\"text-align: right;\">\n",
       "      <th></th>\n",
       "      <th>검사판정</th>\n",
       "      <th>비율</th>\n",
       "    </tr>\n",
       "  </thead>\n",
       "  <tbody>\n",
       "    <tr>\n",
       "      <th>0</th>\n",
       "      <td>Y</td>\n",
       "      <td>0.98</td>\n",
       "    </tr>\n",
       "    <tr>\n",
       "      <th>1</th>\n",
       "      <td>N</td>\n",
       "      <td>0.02</td>\n",
       "    </tr>\n",
       "  </tbody>\n",
       "</table>\n",
       "</div>"
      ],
      "text/plain": [
       "  검사판정   비율\n",
       "0    Y 0.98\n",
       "1    N 0.02"
      ]
     },
     "execution_count": 340,
     "metadata": {},
     "output_type": "execute_result"
    }
   ],
   "source": [
    "# 4\\. '검사판정' == 'Y', 'N' 비율 분석 \n",
    "grp12 = sdf12['검사판정'].value_counts(normalize=True).reset_index()\n",
    "grp12 = grp12.rename(columns={'proportion':'비율'})\n",
    "grp12"
   ]
  },
  {
   "cell_type": "markdown",
   "metadata": {},
   "source": [
    "## [❌] 13\\. 시험일 후 최초검사 부적합 - 원격 매연 값 \n",
    "- 1. 시험날짜 이후 최초 정밀검사 결과가 부적합인 차량 추출\n",
    "- 2. 원격 매연 값 확인하여 정밀검사의 판정이 적절한지 판정\n",
    "- 오류-적합율 : 매연RSD 에서 과다측정된 차량이 검사결과에서 부적합 판정을 받은 경우의 수치\n",
    "    - 과다측정 : 차종별 정기 검사 기준에서 벗어난 매연 값\n",
    "\n",
    "- 과정\n",
    "    - 1. 검사판정 == 'N'인 샘플 추출\n",
    "    - 2. 검사일자(정밀검사) - 검사날짜(원격측정) = 검사날짜차이\n",
    "    - 3. '검사날짜차이' > 0 인 샘플 추출\n",
    "    - 4. '검사날짜차이' 오름차순, '자동차등록번호' 기준 중복 제거\n",
    "    - 5. 제작일자, 차종별 정기 검사 매연 허용치 정보 추가\n",
    "    - 6. 매연 허용치 이상 차량만 추출 (해당되는 차량 없음)\n",
    "    - 7. 정밀검사 '검사판정' == N 인 비율"
   ]
  },
  {
   "cell_type": "code",
   "execution_count": 342,
   "metadata": {},
   "outputs": [
    {
     "data": {
      "text/plain": [
       "(1661, 42)"
      ]
     },
     "execution_count": 342,
     "metadata": {},
     "output_type": "execute_result"
    }
   ],
   "source": [
    "# 1. 검사판정 == 'N'인 샘플 추출\n",
    "sdf13 = diee[diee['검사판정'] == 'N'].reset_index(drop=True)\n",
    "sdf13.shape"
   ]
  },
  {
   "cell_type": "code",
   "execution_count": 343,
   "metadata": {},
   "outputs": [
    {
     "data": {
      "text/plain": [
       "검사날짜    datetime64[ns]\n",
       "검사일자    datetime64[ns]\n",
       "dtype: object"
      ]
     },
     "execution_count": 343,
     "metadata": {},
     "output_type": "execute_result"
    }
   ],
   "source": [
    "sdf13[['검사날짜', '검사일자']].dtypes"
   ]
  },
  {
   "cell_type": "code",
   "execution_count": 344,
   "metadata": {},
   "outputs": [
    {
     "data": {
      "text/html": [
       "<div>\n",
       "<style scoped>\n",
       "    .dataframe tbody tr th:only-of-type {\n",
       "        vertical-align: middle;\n",
       "    }\n",
       "\n",
       "    .dataframe tbody tr th {\n",
       "        vertical-align: top;\n",
       "    }\n",
       "\n",
       "    .dataframe thead th {\n",
       "        text-align: right;\n",
       "    }\n",
       "</style>\n",
       "<table border=\"1\" class=\"dataframe\">\n",
       "  <thead>\n",
       "    <tr style=\"text-align: right;\">\n",
       "      <th></th>\n",
       "      <th>검사날짜</th>\n",
       "      <th>검사시간</th>\n",
       "      <th>기록상태</th>\n",
       "      <th>유효</th>\n",
       "      <th>속도</th>\n",
       "      <th>가속도</th>\n",
       "      <th>매연</th>\n",
       "      <th>자동차등록번호</th>\n",
       "      <th>검사날짜시간</th>\n",
       "      <th>검사날짜시간_년</th>\n",
       "      <th>...</th>\n",
       "      <th>차명</th>\n",
       "      <th>차종분류</th>\n",
       "      <th>차종유형</th>\n",
       "      <th>검사판정</th>\n",
       "      <th>무부하매연측정치1</th>\n",
       "      <th>무부하매연판정1</th>\n",
       "      <th>무부하매연허용치1</th>\n",
       "      <th>검사방법</th>\n",
       "      <th>검사종류</th>\n",
       "      <th>검사일자</th>\n",
       "    </tr>\n",
       "  </thead>\n",
       "  <tbody>\n",
       "    <tr>\n",
       "      <th>0</th>\n",
       "      <td>2022-10-04</td>\n",
       "      <td>11:13:08</td>\n",
       "      <td>N</td>\n",
       "      <td>V</td>\n",
       "      <td>49.40</td>\n",
       "      <td>43.80</td>\n",
       "      <td>0.50</td>\n",
       "      <td>81루9582</td>\n",
       "      <td>2022-10-04 11:13:08</td>\n",
       "      <td>2022</td>\n",
       "      <td>...</td>\n",
       "      <td>포터Ⅱ(PORTERⅡ)</td>\n",
       "      <td>A2809</td>\n",
       "      <td>소형</td>\n",
       "      <td>N</td>\n",
       "      <td>NaN</td>\n",
       "      <td>NaN</td>\n",
       "      <td>NaN</td>\n",
       "      <td>부하검사(KD-147)</td>\n",
       "      <td>종합검사</td>\n",
       "      <td>2016-03-08</td>\n",
       "    </tr>\n",
       "    <tr>\n",
       "      <th>1</th>\n",
       "      <td>2022-10-04</td>\n",
       "      <td>11:13:08</td>\n",
       "      <td>N</td>\n",
       "      <td>V</td>\n",
       "      <td>49.40</td>\n",
       "      <td>43.80</td>\n",
       "      <td>0.50</td>\n",
       "      <td>81루9582</td>\n",
       "      <td>2022-10-04 11:13:08</td>\n",
       "      <td>2022</td>\n",
       "      <td>...</td>\n",
       "      <td>포터Ⅱ(PORTERⅡ)</td>\n",
       "      <td>A2809</td>\n",
       "      <td>소형</td>\n",
       "      <td>N</td>\n",
       "      <td>50.00</td>\n",
       "      <td>N</td>\n",
       "      <td>15.00</td>\n",
       "      <td>부하검사(KD-147)</td>\n",
       "      <td>종합검사</td>\n",
       "      <td>2017-03-15</td>\n",
       "    </tr>\n",
       "    <tr>\n",
       "      <th>2</th>\n",
       "      <td>2022-10-04</td>\n",
       "      <td>11:13:08</td>\n",
       "      <td>N</td>\n",
       "      <td>V</td>\n",
       "      <td>49.40</td>\n",
       "      <td>43.80</td>\n",
       "      <td>0.50</td>\n",
       "      <td>81루9582</td>\n",
       "      <td>2022-10-04 11:13:08</td>\n",
       "      <td>2022</td>\n",
       "      <td>...</td>\n",
       "      <td>포터Ⅱ(PORTERⅡ)</td>\n",
       "      <td>A2809</td>\n",
       "      <td>소형</td>\n",
       "      <td>N</td>\n",
       "      <td>NaN</td>\n",
       "      <td>NaN</td>\n",
       "      <td>NaN</td>\n",
       "      <td>부하검사(KD-147)</td>\n",
       "      <td>종합검사</td>\n",
       "      <td>2022-04-05</td>\n",
       "    </tr>\n",
       "    <tr>\n",
       "      <th>3</th>\n",
       "      <td>2022-10-04</td>\n",
       "      <td>11:13:08</td>\n",
       "      <td>N</td>\n",
       "      <td>V</td>\n",
       "      <td>49.40</td>\n",
       "      <td>43.80</td>\n",
       "      <td>0.50</td>\n",
       "      <td>81루9582</td>\n",
       "      <td>2022-10-04 11:13:08</td>\n",
       "      <td>2022</td>\n",
       "      <td>...</td>\n",
       "      <td>포터Ⅱ(PORTERⅡ)</td>\n",
       "      <td>A2809</td>\n",
       "      <td>소형</td>\n",
       "      <td>N</td>\n",
       "      <td>NaN</td>\n",
       "      <td>NaN</td>\n",
       "      <td>NaN</td>\n",
       "      <td>부하검사(KD-147)</td>\n",
       "      <td>종합검사</td>\n",
       "      <td>2020-03-20</td>\n",
       "    </tr>\n",
       "    <tr>\n",
       "      <th>4</th>\n",
       "      <td>2022-10-04</td>\n",
       "      <td>11:14:10</td>\n",
       "      <td>N</td>\n",
       "      <td>V</td>\n",
       "      <td>65.80</td>\n",
       "      <td>0.00</td>\n",
       "      <td>0.80</td>\n",
       "      <td>80주7009</td>\n",
       "      <td>2022-10-04 11:14:10</td>\n",
       "      <td>2022</td>\n",
       "      <td>...</td>\n",
       "      <td>액티언스포츠</td>\n",
       "      <td>A2810</td>\n",
       "      <td>소형</td>\n",
       "      <td>N</td>\n",
       "      <td>36.00</td>\n",
       "      <td>N</td>\n",
       "      <td>15.00</td>\n",
       "      <td>부하검사(KD-147)</td>\n",
       "      <td>종합검사</td>\n",
       "      <td>2015-07-27</td>\n",
       "    </tr>\n",
       "  </tbody>\n",
       "</table>\n",
       "<p>5 rows × 42 columns</p>\n",
       "</div>"
      ],
      "text/plain": [
       "        검사날짜      검사시간 기록상태 유효    속도   가속도   매연  자동차등록번호              검사날짜시간   \n",
       "0 2022-10-04  11:13:08    N  V 49.40 43.80 0.50  81루9582 2022-10-04 11:13:08  \\\n",
       "1 2022-10-04  11:13:08    N  V 49.40 43.80 0.50  81루9582 2022-10-04 11:13:08   \n",
       "2 2022-10-04  11:13:08    N  V 49.40 43.80 0.50  81루9582 2022-10-04 11:13:08   \n",
       "3 2022-10-04  11:13:08    N  V 49.40 43.80 0.50  81루9582 2022-10-04 11:13:08   \n",
       "4 2022-10-04  11:14:10    N  V 65.80  0.00 0.80  80주7009 2022-10-04 11:14:10   \n",
       "\n",
       "   검사날짜시간_년  ...            차명   차종분류  차종유형  검사판정  무부하매연측정치1 무부하매연판정1   \n",
       "0      2022  ...  포터Ⅱ(PORTERⅡ)  A2809    소형     N        NaN      NaN  \\\n",
       "1      2022  ...  포터Ⅱ(PORTERⅡ)  A2809    소형     N      50.00        N   \n",
       "2      2022  ...  포터Ⅱ(PORTERⅡ)  A2809    소형     N        NaN      NaN   \n",
       "3      2022  ...  포터Ⅱ(PORTERⅡ)  A2809    소형     N        NaN      NaN   \n",
       "4      2022  ...        액티언스포츠  A2810    소형     N      36.00        N   \n",
       "\n",
       "  무부하매연허용치1          검사방법  검사종류       검사일자  \n",
       "0       NaN  부하검사(KD-147)  종합검사 2016-03-08  \n",
       "1     15.00  부하검사(KD-147)  종합검사 2017-03-15  \n",
       "2       NaN  부하검사(KD-147)  종합검사 2022-04-05  \n",
       "3       NaN  부하검사(KD-147)  종합검사 2020-03-20  \n",
       "4     15.00  부하검사(KD-147)  종합검사 2015-07-27  \n",
       "\n",
       "[5 rows x 42 columns]"
      ]
     },
     "execution_count": 344,
     "metadata": {},
     "output_type": "execute_result"
    }
   ],
   "source": [
    "sdf13.head()"
   ]
  },
  {
   "cell_type": "code",
   "execution_count": 345,
   "metadata": {},
   "outputs": [],
   "source": [
    "sdf13['검사날짜'] = pd.to_datetime(sdf13['검사날짜'])\n",
    "sdf13['검사일자'] = pd.to_datetime(sdf13['검사일자'])"
   ]
  },
  {
   "cell_type": "code",
   "execution_count": 346,
   "metadata": {},
   "outputs": [
    {
     "data": {
      "text/plain": [
       "검사날짜    datetime64[ns]\n",
       "검사일자    datetime64[ns]\n",
       "dtype: object"
      ]
     },
     "execution_count": 346,
     "metadata": {},
     "output_type": "execute_result"
    }
   ],
   "source": [
    "sdf13[['검사날짜', '검사일자']].dtypes"
   ]
  },
  {
   "cell_type": "code",
   "execution_count": 347,
   "metadata": {},
   "outputs": [],
   "source": [
    "# 2. 검사일자(정밀검사) - 검사날짜(원격측정) = 검사날짜차이\n",
    "sdf13['검사날짜차이'] = sdf13['검사일자'] - sdf13['검사날짜']"
   ]
  },
  {
   "cell_type": "code",
   "execution_count": 348,
   "metadata": {},
   "outputs": [
    {
     "data": {
      "text/html": [
       "<div>\n",
       "<style scoped>\n",
       "    .dataframe tbody tr th:only-of-type {\n",
       "        vertical-align: middle;\n",
       "    }\n",
       "\n",
       "    .dataframe tbody tr th {\n",
       "        vertical-align: top;\n",
       "    }\n",
       "\n",
       "    .dataframe thead th {\n",
       "        text-align: right;\n",
       "    }\n",
       "</style>\n",
       "<table border=\"1\" class=\"dataframe\">\n",
       "  <thead>\n",
       "    <tr style=\"text-align: right;\">\n",
       "      <th></th>\n",
       "      <th>검사날짜</th>\n",
       "      <th>검사시간</th>\n",
       "      <th>기록상태</th>\n",
       "      <th>유효</th>\n",
       "      <th>속도</th>\n",
       "      <th>가속도</th>\n",
       "      <th>매연</th>\n",
       "      <th>자동차등록번호</th>\n",
       "      <th>검사날짜시간</th>\n",
       "      <th>검사날짜시간_년</th>\n",
       "      <th>...</th>\n",
       "      <th>차종분류</th>\n",
       "      <th>차종유형</th>\n",
       "      <th>검사판정</th>\n",
       "      <th>무부하매연측정치1</th>\n",
       "      <th>무부하매연판정1</th>\n",
       "      <th>무부하매연허용치1</th>\n",
       "      <th>검사방법</th>\n",
       "      <th>검사종류</th>\n",
       "      <th>검사일자</th>\n",
       "      <th>검사날짜차이</th>\n",
       "    </tr>\n",
       "  </thead>\n",
       "  <tbody>\n",
       "    <tr>\n",
       "      <th>0</th>\n",
       "      <td>2022-10-04</td>\n",
       "      <td>11:13:08</td>\n",
       "      <td>N</td>\n",
       "      <td>V</td>\n",
       "      <td>49.40</td>\n",
       "      <td>43.80</td>\n",
       "      <td>0.50</td>\n",
       "      <td>81루9582</td>\n",
       "      <td>2022-10-04 11:13:08</td>\n",
       "      <td>2022</td>\n",
       "      <td>...</td>\n",
       "      <td>A2809</td>\n",
       "      <td>소형</td>\n",
       "      <td>N</td>\n",
       "      <td>NaN</td>\n",
       "      <td>NaN</td>\n",
       "      <td>NaN</td>\n",
       "      <td>부하검사(KD-147)</td>\n",
       "      <td>종합검사</td>\n",
       "      <td>2016-03-08</td>\n",
       "      <td>-2401 days</td>\n",
       "    </tr>\n",
       "    <tr>\n",
       "      <th>1</th>\n",
       "      <td>2022-10-04</td>\n",
       "      <td>11:13:08</td>\n",
       "      <td>N</td>\n",
       "      <td>V</td>\n",
       "      <td>49.40</td>\n",
       "      <td>43.80</td>\n",
       "      <td>0.50</td>\n",
       "      <td>81루9582</td>\n",
       "      <td>2022-10-04 11:13:08</td>\n",
       "      <td>2022</td>\n",
       "      <td>...</td>\n",
       "      <td>A2809</td>\n",
       "      <td>소형</td>\n",
       "      <td>N</td>\n",
       "      <td>50.00</td>\n",
       "      <td>N</td>\n",
       "      <td>15.00</td>\n",
       "      <td>부하검사(KD-147)</td>\n",
       "      <td>종합검사</td>\n",
       "      <td>2017-03-15</td>\n",
       "      <td>-2029 days</td>\n",
       "    </tr>\n",
       "    <tr>\n",
       "      <th>2</th>\n",
       "      <td>2022-10-04</td>\n",
       "      <td>11:13:08</td>\n",
       "      <td>N</td>\n",
       "      <td>V</td>\n",
       "      <td>49.40</td>\n",
       "      <td>43.80</td>\n",
       "      <td>0.50</td>\n",
       "      <td>81루9582</td>\n",
       "      <td>2022-10-04 11:13:08</td>\n",
       "      <td>2022</td>\n",
       "      <td>...</td>\n",
       "      <td>A2809</td>\n",
       "      <td>소형</td>\n",
       "      <td>N</td>\n",
       "      <td>NaN</td>\n",
       "      <td>NaN</td>\n",
       "      <td>NaN</td>\n",
       "      <td>부하검사(KD-147)</td>\n",
       "      <td>종합검사</td>\n",
       "      <td>2022-04-05</td>\n",
       "      <td>-182 days</td>\n",
       "    </tr>\n",
       "    <tr>\n",
       "      <th>3</th>\n",
       "      <td>2022-10-04</td>\n",
       "      <td>11:13:08</td>\n",
       "      <td>N</td>\n",
       "      <td>V</td>\n",
       "      <td>49.40</td>\n",
       "      <td>43.80</td>\n",
       "      <td>0.50</td>\n",
       "      <td>81루9582</td>\n",
       "      <td>2022-10-04 11:13:08</td>\n",
       "      <td>2022</td>\n",
       "      <td>...</td>\n",
       "      <td>A2809</td>\n",
       "      <td>소형</td>\n",
       "      <td>N</td>\n",
       "      <td>NaN</td>\n",
       "      <td>NaN</td>\n",
       "      <td>NaN</td>\n",
       "      <td>부하검사(KD-147)</td>\n",
       "      <td>종합검사</td>\n",
       "      <td>2020-03-20</td>\n",
       "      <td>-928 days</td>\n",
       "    </tr>\n",
       "    <tr>\n",
       "      <th>4</th>\n",
       "      <td>2022-10-04</td>\n",
       "      <td>11:14:10</td>\n",
       "      <td>N</td>\n",
       "      <td>V</td>\n",
       "      <td>65.80</td>\n",
       "      <td>0.00</td>\n",
       "      <td>0.80</td>\n",
       "      <td>80주7009</td>\n",
       "      <td>2022-10-04 11:14:10</td>\n",
       "      <td>2022</td>\n",
       "      <td>...</td>\n",
       "      <td>A2810</td>\n",
       "      <td>소형</td>\n",
       "      <td>N</td>\n",
       "      <td>36.00</td>\n",
       "      <td>N</td>\n",
       "      <td>15.00</td>\n",
       "      <td>부하검사(KD-147)</td>\n",
       "      <td>종합검사</td>\n",
       "      <td>2015-07-27</td>\n",
       "      <td>-2626 days</td>\n",
       "    </tr>\n",
       "  </tbody>\n",
       "</table>\n",
       "<p>5 rows × 43 columns</p>\n",
       "</div>"
      ],
      "text/plain": [
       "        검사날짜      검사시간 기록상태 유효    속도   가속도   매연  자동차등록번호              검사날짜시간   \n",
       "0 2022-10-04  11:13:08    N  V 49.40 43.80 0.50  81루9582 2022-10-04 11:13:08  \\\n",
       "1 2022-10-04  11:13:08    N  V 49.40 43.80 0.50  81루9582 2022-10-04 11:13:08   \n",
       "2 2022-10-04  11:13:08    N  V 49.40 43.80 0.50  81루9582 2022-10-04 11:13:08   \n",
       "3 2022-10-04  11:13:08    N  V 49.40 43.80 0.50  81루9582 2022-10-04 11:13:08   \n",
       "4 2022-10-04  11:14:10    N  V 65.80  0.00 0.80  80주7009 2022-10-04 11:14:10   \n",
       "\n",
       "   검사날짜시간_년  ...   차종분류  차종유형  검사판정  무부하매연측정치1  무부하매연판정1 무부하매연허용치1   \n",
       "0      2022  ...  A2809    소형     N        NaN       NaN       NaN  \\\n",
       "1      2022  ...  A2809    소형     N      50.00         N     15.00   \n",
       "2      2022  ...  A2809    소형     N        NaN       NaN       NaN   \n",
       "3      2022  ...  A2809    소형     N        NaN       NaN       NaN   \n",
       "4      2022  ...  A2810    소형     N      36.00         N     15.00   \n",
       "\n",
       "           검사방법  검사종류       검사일자     검사날짜차이  \n",
       "0  부하검사(KD-147)  종합검사 2016-03-08 -2401 days  \n",
       "1  부하검사(KD-147)  종합검사 2017-03-15 -2029 days  \n",
       "2  부하검사(KD-147)  종합검사 2022-04-05  -182 days  \n",
       "3  부하검사(KD-147)  종합검사 2020-03-20  -928 days  \n",
       "4  부하검사(KD-147)  종합검사 2015-07-27 -2626 days  \n",
       "\n",
       "[5 rows x 43 columns]"
      ]
     },
     "execution_count": 348,
     "metadata": {},
     "output_type": "execute_result"
    }
   ],
   "source": [
    "sdf13.head()"
   ]
  },
  {
   "cell_type": "code",
   "execution_count": 349,
   "metadata": {},
   "outputs": [],
   "source": [
    "sdf13['검사날짜차이'] = sdf13['검사날짜차이'].astype('str')\n",
    "sdf13['검사날짜차이'] = sdf13['검사날짜차이'].str.split(' ').str[0]\n",
    "sdf13['검사날짜차이'] = pd.to_numeric(sdf13['검사날짜차이'], errors='coerce')"
   ]
  },
  {
   "cell_type": "code",
   "execution_count": 350,
   "metadata": {},
   "outputs": [
    {
     "data": {
      "text/plain": [
       "(174, 43)"
      ]
     },
     "execution_count": 350,
     "metadata": {},
     "output_type": "execute_result"
    }
   ],
   "source": [
    "# 3. '검사날짜차이' > 0 인 샘플 추출\n",
    "sdf13 = sdf13[sdf13['검사날짜차이'] > 0].reset_index(drop=True)\n",
    "sdf13.shape"
   ]
  },
  {
   "cell_type": "code",
   "execution_count": 351,
   "metadata": {},
   "outputs": [
    {
     "data": {
      "text/html": [
       "<div>\n",
       "<style scoped>\n",
       "    .dataframe tbody tr th:only-of-type {\n",
       "        vertical-align: middle;\n",
       "    }\n",
       "\n",
       "    .dataframe tbody tr th {\n",
       "        vertical-align: top;\n",
       "    }\n",
       "\n",
       "    .dataframe thead th {\n",
       "        text-align: right;\n",
       "    }\n",
       "</style>\n",
       "<table border=\"1\" class=\"dataframe\">\n",
       "  <thead>\n",
       "    <tr style=\"text-align: right;\">\n",
       "      <th></th>\n",
       "      <th>검사날짜</th>\n",
       "      <th>검사시간</th>\n",
       "      <th>기록상태</th>\n",
       "      <th>유효</th>\n",
       "      <th>속도</th>\n",
       "      <th>가속도</th>\n",
       "      <th>매연</th>\n",
       "      <th>자동차등록번호</th>\n",
       "      <th>검사날짜시간</th>\n",
       "      <th>검사날짜시간_년</th>\n",
       "      <th>...</th>\n",
       "      <th>차종분류</th>\n",
       "      <th>차종유형</th>\n",
       "      <th>검사판정</th>\n",
       "      <th>무부하매연측정치1</th>\n",
       "      <th>무부하매연판정1</th>\n",
       "      <th>무부하매연허용치1</th>\n",
       "      <th>검사방법</th>\n",
       "      <th>검사종류</th>\n",
       "      <th>검사일자</th>\n",
       "      <th>검사날짜차이</th>\n",
       "    </tr>\n",
       "  </thead>\n",
       "  <tbody>\n",
       "    <tr>\n",
       "      <th>0</th>\n",
       "      <td>2023-02-21</td>\n",
       "      <td>10:23:29</td>\n",
       "      <td>N</td>\n",
       "      <td>V</td>\n",
       "      <td>0.00</td>\n",
       "      <td>0.00</td>\n",
       "      <td>0.30</td>\n",
       "      <td>92우4399</td>\n",
       "      <td>2023-02-21 10:23:29</td>\n",
       "      <td>2023</td>\n",
       "      <td>...</td>\n",
       "      <td>A2814</td>\n",
       "      <td>대형</td>\n",
       "      <td>N</td>\n",
       "      <td>38.00</td>\n",
       "      <td>N</td>\n",
       "      <td>15.00</td>\n",
       "      <td>부하검사(LUG DOWN)</td>\n",
       "      <td>종합검사</td>\n",
       "      <td>2023-02-22</td>\n",
       "      <td>1</td>\n",
       "    </tr>\n",
       "    <tr>\n",
       "      <th>1</th>\n",
       "      <td>2022-11-24</td>\n",
       "      <td>10:06:05</td>\n",
       "      <td>N</td>\n",
       "      <td>V</td>\n",
       "      <td>61.30</td>\n",
       "      <td>0.00</td>\n",
       "      <td>0.80</td>\n",
       "      <td>67너0127</td>\n",
       "      <td>2022-11-24 10:06:05</td>\n",
       "      <td>2022</td>\n",
       "      <td>...</td>\n",
       "      <td>A2826</td>\n",
       "      <td>중형</td>\n",
       "      <td>N</td>\n",
       "      <td>NaN</td>\n",
       "      <td>NaN</td>\n",
       "      <td>NaN</td>\n",
       "      <td>부하검사(KD-147)</td>\n",
       "      <td>종합검사</td>\n",
       "      <td>2022-11-30</td>\n",
       "      <td>6</td>\n",
       "    </tr>\n",
       "    <tr>\n",
       "      <th>2</th>\n",
       "      <td>2022-10-21</td>\n",
       "      <td>09:48:37</td>\n",
       "      <td>N</td>\n",
       "      <td>V</td>\n",
       "      <td>0.00</td>\n",
       "      <td>0.00</td>\n",
       "      <td>0.30</td>\n",
       "      <td>91도1943</td>\n",
       "      <td>2022-10-21 09:48:37</td>\n",
       "      <td>2022</td>\n",
       "      <td>...</td>\n",
       "      <td>A2809</td>\n",
       "      <td>중형</td>\n",
       "      <td>N</td>\n",
       "      <td>28.00</td>\n",
       "      <td>Y</td>\n",
       "      <td>30.00</td>\n",
       "      <td>부하검사(LUG DOWN)</td>\n",
       "      <td>종합검사</td>\n",
       "      <td>2022-10-28</td>\n",
       "      <td>7</td>\n",
       "    </tr>\n",
       "    <tr>\n",
       "      <th>3</th>\n",
       "      <td>2022-10-19</td>\n",
       "      <td>11:23:57</td>\n",
       "      <td>N</td>\n",
       "      <td>V</td>\n",
       "      <td>45.00</td>\n",
       "      <td>-0.20</td>\n",
       "      <td>0.80</td>\n",
       "      <td>71부3230</td>\n",
       "      <td>2022-10-19 11:23:57</td>\n",
       "      <td>2022</td>\n",
       "      <td>...</td>\n",
       "      <td>A2826</td>\n",
       "      <td>중형</td>\n",
       "      <td>N</td>\n",
       "      <td>77.00</td>\n",
       "      <td>N</td>\n",
       "      <td>15.00</td>\n",
       "      <td>부하검사(KD-147)</td>\n",
       "      <td>종합검사</td>\n",
       "      <td>2022-10-26</td>\n",
       "      <td>7</td>\n",
       "    </tr>\n",
       "    <tr>\n",
       "      <th>4</th>\n",
       "      <td>2022-10-27</td>\n",
       "      <td>10:36:50</td>\n",
       "      <td>N</td>\n",
       "      <td>V</td>\n",
       "      <td>47.10</td>\n",
       "      <td>0.80</td>\n",
       "      <td>0.90</td>\n",
       "      <td>96다4987</td>\n",
       "      <td>2022-10-27 10:36:50</td>\n",
       "      <td>2022</td>\n",
       "      <td>...</td>\n",
       "      <td>A2810</td>\n",
       "      <td>소형</td>\n",
       "      <td>N</td>\n",
       "      <td>30.00</td>\n",
       "      <td>N</td>\n",
       "      <td>15.00</td>\n",
       "      <td>부하검사(KD-147)</td>\n",
       "      <td>종합검사</td>\n",
       "      <td>2022-11-05</td>\n",
       "      <td>9</td>\n",
       "    </tr>\n",
       "    <tr>\n",
       "      <th>...</th>\n",
       "      <td>...</td>\n",
       "      <td>...</td>\n",
       "      <td>...</td>\n",
       "      <td>...</td>\n",
       "      <td>...</td>\n",
       "      <td>...</td>\n",
       "      <td>...</td>\n",
       "      <td>...</td>\n",
       "      <td>...</td>\n",
       "      <td>...</td>\n",
       "      <td>...</td>\n",
       "      <td>...</td>\n",
       "      <td>...</td>\n",
       "      <td>...</td>\n",
       "      <td>...</td>\n",
       "      <td>...</td>\n",
       "      <td>...</td>\n",
       "      <td>...</td>\n",
       "      <td>...</td>\n",
       "      <td>...</td>\n",
       "      <td>...</td>\n",
       "    </tr>\n",
       "    <tr>\n",
       "      <th>121</th>\n",
       "      <td>2022-10-14</td>\n",
       "      <td>10:38:53</td>\n",
       "      <td>N</td>\n",
       "      <td>V</td>\n",
       "      <td>41.90</td>\n",
       "      <td>0.40</td>\n",
       "      <td>18.30</td>\n",
       "      <td>75보3502</td>\n",
       "      <td>2022-10-14 10:38:53</td>\n",
       "      <td>2022</td>\n",
       "      <td>...</td>\n",
       "      <td>A2826</td>\n",
       "      <td>중형</td>\n",
       "      <td>N</td>\n",
       "      <td>68.00</td>\n",
       "      <td>N</td>\n",
       "      <td>15.00</td>\n",
       "      <td>부하검사(KD-147)</td>\n",
       "      <td>종합검사</td>\n",
       "      <td>2023-06-30</td>\n",
       "      <td>259</td>\n",
       "    </tr>\n",
       "    <tr>\n",
       "      <th>122</th>\n",
       "      <td>2022-10-24</td>\n",
       "      <td>09:49:58</td>\n",
       "      <td>N</td>\n",
       "      <td>V</td>\n",
       "      <td>35.00</td>\n",
       "      <td>0.90</td>\n",
       "      <td>3.90</td>\n",
       "      <td>16수7292</td>\n",
       "      <td>2022-10-24 09:49:58</td>\n",
       "      <td>2022</td>\n",
       "      <td>...</td>\n",
       "      <td>A2819</td>\n",
       "      <td>중형</td>\n",
       "      <td>N</td>\n",
       "      <td>96.00</td>\n",
       "      <td>N</td>\n",
       "      <td>15.00</td>\n",
       "      <td>부하검사(KD-147)</td>\n",
       "      <td>종합검사</td>\n",
       "      <td>2023-07-18</td>\n",
       "      <td>267</td>\n",
       "    </tr>\n",
       "    <tr>\n",
       "      <th>123</th>\n",
       "      <td>2022-10-13</td>\n",
       "      <td>10:13:17</td>\n",
       "      <td>N</td>\n",
       "      <td>V</td>\n",
       "      <td>53.60</td>\n",
       "      <td>0.00</td>\n",
       "      <td>0.70</td>\n",
       "      <td>92도8604</td>\n",
       "      <td>2022-10-13 10:13:17</td>\n",
       "      <td>2022</td>\n",
       "      <td>...</td>\n",
       "      <td>A2809</td>\n",
       "      <td>소형</td>\n",
       "      <td>N</td>\n",
       "      <td>NaN</td>\n",
       "      <td>NaN</td>\n",
       "      <td>NaN</td>\n",
       "      <td>부하검사(KD-147)</td>\n",
       "      <td>종합검사</td>\n",
       "      <td>2023-07-07</td>\n",
       "      <td>267</td>\n",
       "    </tr>\n",
       "    <tr>\n",
       "      <th>124</th>\n",
       "      <td>2022-10-05</td>\n",
       "      <td>09:17:55</td>\n",
       "      <td>N</td>\n",
       "      <td>V</td>\n",
       "      <td>66.90</td>\n",
       "      <td>-20.90</td>\n",
       "      <td>1.10</td>\n",
       "      <td>75어1519</td>\n",
       "      <td>2022-10-05 09:17:55</td>\n",
       "      <td>2022</td>\n",
       "      <td>...</td>\n",
       "      <td>A2826</td>\n",
       "      <td>중형</td>\n",
       "      <td>N</td>\n",
       "      <td>55.00</td>\n",
       "      <td>N</td>\n",
       "      <td>25.00</td>\n",
       "      <td>부하검사(KD-147)</td>\n",
       "      <td>종합검사</td>\n",
       "      <td>2023-07-10</td>\n",
       "      <td>278</td>\n",
       "    </tr>\n",
       "    <tr>\n",
       "      <th>125</th>\n",
       "      <td>2022-10-24</td>\n",
       "      <td>10:01:02</td>\n",
       "      <td>N</td>\n",
       "      <td>V</td>\n",
       "      <td>47.10</td>\n",
       "      <td>-0.10</td>\n",
       "      <td>0.60</td>\n",
       "      <td>82가4238</td>\n",
       "      <td>2022-10-24 10:01:02</td>\n",
       "      <td>2022</td>\n",
       "      <td>...</td>\n",
       "      <td>A2814</td>\n",
       "      <td>소형</td>\n",
       "      <td>N</td>\n",
       "      <td>17.00</td>\n",
       "      <td>N</td>\n",
       "      <td>15.00</td>\n",
       "      <td>부하검사(KD-147)</td>\n",
       "      <td>종합검사</td>\n",
       "      <td>2023-07-31</td>\n",
       "      <td>280</td>\n",
       "    </tr>\n",
       "  </tbody>\n",
       "</table>\n",
       "<p>126 rows × 43 columns</p>\n",
       "</div>"
      ],
      "text/plain": [
       "          검사날짜      검사시간 기록상태 유효    속도    가속도    매연  자동차등록번호   \n",
       "0   2023-02-21  10:23:29    N  V  0.00   0.00  0.30  92우4399  \\\n",
       "1   2022-11-24  10:06:05    N  V 61.30   0.00  0.80  67너0127   \n",
       "2   2022-10-21  09:48:37    N  V  0.00   0.00  0.30  91도1943   \n",
       "3   2022-10-19  11:23:57    N  V 45.00  -0.20  0.80  71부3230   \n",
       "4   2022-10-27  10:36:50    N  V 47.10   0.80  0.90  96다4987   \n",
       "..         ...       ...  ... ..   ...    ...   ...      ...   \n",
       "121 2022-10-14  10:38:53    N  V 41.90   0.40 18.30  75보3502   \n",
       "122 2022-10-24  09:49:58    N  V 35.00   0.90  3.90  16수7292   \n",
       "123 2022-10-13  10:13:17    N  V 53.60   0.00  0.70  92도8604   \n",
       "124 2022-10-05  09:17:55    N  V 66.90 -20.90  1.10  75어1519   \n",
       "125 2022-10-24  10:01:02    N  V 47.10  -0.10  0.60  82가4238   \n",
       "\n",
       "                 검사날짜시간  검사날짜시간_년  ...   차종분류  차종유형  검사판정  무부하매연측정치1   \n",
       "0   2023-02-21 10:23:29      2023  ...  A2814    대형     N      38.00  \\\n",
       "1   2022-11-24 10:06:05      2022  ...  A2826    중형     N        NaN   \n",
       "2   2022-10-21 09:48:37      2022  ...  A2809    중형     N      28.00   \n",
       "3   2022-10-19 11:23:57      2022  ...  A2826    중형     N      77.00   \n",
       "4   2022-10-27 10:36:50      2022  ...  A2810    소형     N      30.00   \n",
       "..                  ...       ...  ...    ...   ...   ...        ...   \n",
       "121 2022-10-14 10:38:53      2022  ...  A2826    중형     N      68.00   \n",
       "122 2022-10-24 09:49:58      2022  ...  A2819    중형     N      96.00   \n",
       "123 2022-10-13 10:13:17      2022  ...  A2809    소형     N        NaN   \n",
       "124 2022-10-05 09:17:55      2022  ...  A2826    중형     N      55.00   \n",
       "125 2022-10-24 10:01:02      2022  ...  A2814    소형     N      17.00   \n",
       "\n",
       "     무부하매연판정1 무부하매연허용치1            검사방법  검사종류       검사일자 검사날짜차이  \n",
       "0           N     15.00  부하검사(LUG DOWN)  종합검사 2023-02-22      1  \n",
       "1         NaN       NaN    부하검사(KD-147)  종합검사 2022-11-30      6  \n",
       "2           Y     30.00  부하검사(LUG DOWN)  종합검사 2022-10-28      7  \n",
       "3           N     15.00    부하검사(KD-147)  종합검사 2022-10-26      7  \n",
       "4           N     15.00    부하검사(KD-147)  종합검사 2022-11-05      9  \n",
       "..        ...       ...             ...   ...        ...    ...  \n",
       "121         N     15.00    부하검사(KD-147)  종합검사 2023-06-30    259  \n",
       "122         N     15.00    부하검사(KD-147)  종합검사 2023-07-18    267  \n",
       "123       NaN       NaN    부하검사(KD-147)  종합검사 2023-07-07    267  \n",
       "124         N     25.00    부하검사(KD-147)  종합검사 2023-07-10    278  \n",
       "125         N     15.00    부하검사(KD-147)  종합검사 2023-07-31    280  \n",
       "\n",
       "[126 rows x 43 columns]"
      ]
     },
     "execution_count": 351,
     "metadata": {},
     "output_type": "execute_result"
    }
   ],
   "source": [
    "# 4. '검사날짜차이' 오름차순, '자동차등록번호' 기준 중복 제거\n",
    "sdf13 = sdf13.sort_values('검사날짜차이').drop_duplicates('자동차등록번호').reset_index(drop=True)\n",
    "sdf13"
   ]
  },
  {
   "cell_type": "code",
   "execution_count": 352,
   "metadata": {},
   "outputs": [
    {
     "data": {
      "text/plain": [
       "dtype('float64')"
      ]
     },
     "execution_count": 352,
     "metadata": {},
     "output_type": "execute_result"
    }
   ],
   "source": [
    "sdf13['차량제작일자'].dtype"
   ]
  },
  {
   "cell_type": "code",
   "execution_count": 353,
   "metadata": {},
   "outputs": [
    {
     "data": {
      "text/plain": [
       "array(['화물', '승용', '승합', '특수'], dtype=object)"
      ]
     },
     "execution_count": 353,
     "metadata": {},
     "output_type": "execute_result"
    }
   ],
   "source": [
    "sdf13['차종'].unique()"
   ]
  },
  {
   "cell_type": "code",
   "execution_count": 354,
   "metadata": {},
   "outputs": [
    {
     "data": {
      "text/plain": [
       "array(['대형', '중형', '소형'], dtype=object)"
      ]
     },
     "execution_count": 354,
     "metadata": {},
     "output_type": "execute_result"
    }
   ],
   "source": [
    "sdf13['차종유형'].unique()"
   ]
  },
  {
   "cell_type": "code",
   "execution_count": 356,
   "metadata": {},
   "outputs": [
    {
     "data": {
      "text/plain": [
       "dtype('float64')"
      ]
     },
     "execution_count": 356,
     "metadata": {},
     "output_type": "execute_result"
    }
   ],
   "source": [
    "sdf13['차량제작일자'].dtype"
   ]
  },
  {
   "cell_type": "code",
   "execution_count": 355,
   "metadata": {},
   "outputs": [
    {
     "data": {
      "text/plain": [
       "count        126.00\n",
       "mean    20129781.12\n",
       "std        36050.48\n",
       "min     20021114.00\n",
       "25%     20100875.50\n",
       "50%     20130618.00\n",
       "75%     20160414.75\n",
       "max     20191018.00\n",
       "Name: 차량제작일자, dtype: float64"
      ]
     },
     "execution_count": 355,
     "metadata": {},
     "output_type": "execute_result"
    }
   ],
   "source": [
    "sdf13['차량제작일자'].describe()"
   ]
  },
  {
   "cell_type": "code",
   "execution_count": 357,
   "metadata": {},
   "outputs": [
    {
     "data": {
      "text/plain": [
       "0"
      ]
     },
     "execution_count": 357,
     "metadata": {},
     "output_type": "execute_result"
    }
   ],
   "source": [
    "sdf13['차량제작일자'].isnull().sum()"
   ]
  },
  {
   "cell_type": "code",
   "execution_count": 363,
   "metadata": {},
   "outputs": [],
   "source": [
    "# 5. 차종별 정기 검사 매연 허용치 정보 추가\n",
    "gas_limit_list = []\n",
    "for fm, ty, mk in sdf13[['차종', '차종유형', '차량제작일자']].values:\n",
    "    if fm == '승용' or ty == '경형':\n",
    "        if mk <= 19951231:\n",
    "            limit = 60\n",
    "        elif 19960101 <= mk <= 20001231:\n",
    "            limit = 55\n",
    "        elif 20010101 <= mk <= 20031231:\n",
    "            limit = 45\n",
    "        elif 20040101 <= mk <= 20071231:\n",
    "            limit = 40\n",
    "        elif 20080101 <= mk <= 20160831:\n",
    "            limit = 20\n",
    "        else:\n",
    "            limit = 10\n",
    "\n",
    "    elif ty == '소형':\n",
    "        if mk <= 19951231:\n",
    "            limit = 60\n",
    "        elif 19960101 <= mk <= 20001231:\n",
    "            limit = 55\n",
    "        elif 20010101 <= mk <= 20031231:\n",
    "            limit = 45\n",
    "        elif 20040101 <= mk <= 20071231:\n",
    "            limit = 40\n",
    "        elif 20080101 <= mk <= 20160831:\n",
    "            limit = 20\n",
    "        else:\n",
    "            limit = 10\n",
    "    elif ty == '중형':\n",
    "        if mk <= 19921231:\n",
    "            limit = 60\n",
    "        elif 19930101 <= mk <= 19951231:\n",
    "            limit = 55\n",
    "        elif 19960101 <= mk <= 19971231:\n",
    "            limit = 45\n",
    "        elif 19980101 <= mk <= 20001231:\n",
    "            limit = 45\n",
    "        elif 20010101 <= mk <= 20040930:\n",
    "            limit = 45\n",
    "        elif 20041001 <= mk <= 20071231:\n",
    "            limit = 40\n",
    "        elif 20080101 <= mk <= 20160831:\n",
    "            limit = 20\n",
    "        else:\n",
    "            limit = 10\n",
    "    elif ty == '대형':\n",
    "        if mk <= 19921231:\n",
    "            limit = 60\n",
    "        elif 19930101 <= mk <= 19951231:\n",
    "            limit = 55\n",
    "        elif 19960101 <= mk <= 19971231:\n",
    "            limit = 45\n",
    "        elif 19980101 <= mk <= 20001231:\n",
    "            limit = 45\n",
    "        elif 20010101 <= mk <= 20040930:\n",
    "            limit = 45\n",
    "        elif 20041001 <= mk <= 20071231:\n",
    "            limit = 40\n",
    "        else:\n",
    "            limit = 20\n",
    "    gas_limit_list.append(limit)"
   ]
  },
  {
   "cell_type": "code",
   "execution_count": 364,
   "metadata": {},
   "outputs": [
    {
     "data": {
      "text/plain": [
       "((126, 43), 126)"
      ]
     },
     "execution_count": 364,
     "metadata": {},
     "output_type": "execute_result"
    }
   ],
   "source": [
    "sdf13.shape, len(gas_limit_list)"
   ]
  },
  {
   "cell_type": "code",
   "execution_count": 365,
   "metadata": {},
   "outputs": [],
   "source": [
    "sdf13['정기검사_매연배출허용기준'] = gas_limit_list"
   ]
  },
  {
   "cell_type": "code",
   "execution_count": 366,
   "metadata": {},
   "outputs": [
    {
     "data": {
      "text/plain": [
       "0"
      ]
     },
     "execution_count": 366,
     "metadata": {},
     "output_type": "execute_result"
    }
   ],
   "source": [
    "sdf13['정기검사_매연배출허용기준'].isnull().sum()"
   ]
  },
  {
   "cell_type": "code",
   "execution_count": 367,
   "metadata": {},
   "outputs": [
    {
     "data": {
      "text/plain": [
       "(0, 44)"
      ]
     },
     "execution_count": 367,
     "metadata": {},
     "output_type": "execute_result"
    }
   ],
   "source": [
    "# 6. 매연 허용치 이상 차량만 추출(해당되는 차량 없음)\n",
    "sdf13 = sdf13[sdf13['정기검사_매연배출허용기준'] < sdf13['매연']].reset_index(drop=True)\n",
    "sdf13.shape"
   ]
  },
  {
   "cell_type": "code",
   "execution_count": 368,
   "metadata": {},
   "outputs": [
    {
     "data": {
      "text/html": [
       "<div>\n",
       "<style scoped>\n",
       "    .dataframe tbody tr th:only-of-type {\n",
       "        vertical-align: middle;\n",
       "    }\n",
       "\n",
       "    .dataframe tbody tr th {\n",
       "        vertical-align: top;\n",
       "    }\n",
       "\n",
       "    .dataframe thead th {\n",
       "        text-align: right;\n",
       "    }\n",
       "</style>\n",
       "<table border=\"1\" class=\"dataframe\">\n",
       "  <thead>\n",
       "    <tr style=\"text-align: right;\">\n",
       "      <th></th>\n",
       "      <th>자동차등록번호</th>\n",
       "      <th>차종</th>\n",
       "      <th>차종유형</th>\n",
       "      <th>차량제작일자</th>\n",
       "      <th>매연</th>\n",
       "      <th>정기검사_매연배출허용기준</th>\n",
       "    </tr>\n",
       "  </thead>\n",
       "  <tbody>\n",
       "  </tbody>\n",
       "</table>\n",
       "</div>"
      ],
      "text/plain": [
       "Empty DataFrame\n",
       "Columns: [자동차등록번호, 차종, 차종유형, 차량제작일자, 매연, 정기검사_매연배출허용기준]\n",
       "Index: []"
      ]
     },
     "execution_count": 368,
     "metadata": {},
     "output_type": "execute_result"
    }
   ],
   "source": [
    "sdf13[['자동차등록번호', '차종', '차종유형', '차량제작일자', '매연', '정기검사_매연배출허용기준']].head()"
   ]
  },
  {
   "cell_type": "code",
   "execution_count": null,
   "metadata": {},
   "outputs": [],
   "source": [
    "# 7. 검사판정 == N인 비율\n",
    "sdf13 = sdf13[sdf13['검사판정'] == 'N'].reset_index(drop=True)\n",
    "sdf13.shape"
   ]
  },
  {
   "cell_type": "markdown",
   "metadata": {},
   "source": [
    "## [❌] 14\\. 시험일 후 최종검사 부적합 - 원격 매연 값\n",
    "- 1. 시험날짜 이후 최초 정밀검사 결과가 부적합인 차량 추출\n",
    "- 2. 원격 매연 값 확인하여 정밀검사의 판정이 적절한지 판정\n",
    "- 오류-부적합율 : 매연RSD 에서 과다측정된 차량이 검사결과에서 적합 판정을 받은 경우의 수치\n",
    "    - 과다측정 : 차종별 정기 검사 기준에서 벗어난 매연 값\n",
    "\n",
    "- 과정\n",
    "    - 1. 검사판정 == 'N'인 샘플 추출\n",
    "    - 2. 검사일자(정밀검사) - 검사날짜(원격측정) = 검사날짜차이\n",
    "    - 3. '검사날짜차이' > 0 인 샘플 추출\n",
    "    - 4. '검사날짜차이' 내림차순, '자동차등록번호' 기준 중복 제거\n",
    "    - 5. 차종별 정기 검사 매연 허용치 정보 추가\n",
    "    - 6. 매연 허용치 이상 차량만 추출(해당되는 차량 없음)\n",
    "    - 7. 정밀검사 '검사판정' == Y 인 비율"
   ]
  },
  {
   "cell_type": "code",
   "execution_count": 222,
   "metadata": {},
   "outputs": [
    {
     "data": {
      "text/plain": [
       "(1661, 41)"
      ]
     },
     "execution_count": 222,
     "metadata": {},
     "output_type": "execute_result"
    }
   ],
   "source": [
    "# 1. 검사판정 == 'N'인 샘플 추출\n",
    "sdf14 = diee[diee['검사판정'] == 'N'].reset_index(drop=True)\n",
    "sdf14.shape"
   ]
  },
  {
   "cell_type": "code",
   "execution_count": 145,
   "metadata": {},
   "outputs": [
    {
     "data": {
      "text/plain": [
       "검사날짜    object\n",
       "검사일자    object\n",
       "dtype: object"
      ]
     },
     "execution_count": 145,
     "metadata": {},
     "output_type": "execute_result"
    }
   ],
   "source": [
    "sdf14[['검사날짜', '검사일자']].dtypes"
   ]
  },
  {
   "cell_type": "code",
   "execution_count": 146,
   "metadata": {},
   "outputs": [
    {
     "data": {
      "text/html": [
       "<div>\n",
       "<style scoped>\n",
       "    .dataframe tbody tr th:only-of-type {\n",
       "        vertical-align: middle;\n",
       "    }\n",
       "\n",
       "    .dataframe tbody tr th {\n",
       "        vertical-align: top;\n",
       "    }\n",
       "\n",
       "    .dataframe thead th {\n",
       "        text-align: right;\n",
       "    }\n",
       "</style>\n",
       "<table border=\"1\" class=\"dataframe\">\n",
       "  <thead>\n",
       "    <tr style=\"text-align: right;\">\n",
       "      <th></th>\n",
       "      <th>검사날짜</th>\n",
       "      <th>매연</th>\n",
       "      <th>자동차등록번호</th>\n",
       "      <th>검사판정</th>\n",
       "      <th>무부하매연측정치1</th>\n",
       "      <th>검사일자</th>\n",
       "    </tr>\n",
       "  </thead>\n",
       "  <tbody>\n",
       "    <tr>\n",
       "      <th>0</th>\n",
       "      <td>2022-10-04</td>\n",
       "      <td>0.50</td>\n",
       "      <td>81루9582</td>\n",
       "      <td>N</td>\n",
       "      <td>NaN</td>\n",
       "      <td>2016-03-08</td>\n",
       "    </tr>\n",
       "    <tr>\n",
       "      <th>1</th>\n",
       "      <td>2022-10-04</td>\n",
       "      <td>0.50</td>\n",
       "      <td>81루9582</td>\n",
       "      <td>N</td>\n",
       "      <td>50.00</td>\n",
       "      <td>2017-03-15</td>\n",
       "    </tr>\n",
       "    <tr>\n",
       "      <th>2</th>\n",
       "      <td>2022-10-04</td>\n",
       "      <td>0.50</td>\n",
       "      <td>81루9582</td>\n",
       "      <td>N</td>\n",
       "      <td>NaN</td>\n",
       "      <td>2022-04-05</td>\n",
       "    </tr>\n",
       "    <tr>\n",
       "      <th>3</th>\n",
       "      <td>2022-10-04</td>\n",
       "      <td>0.50</td>\n",
       "      <td>81루9582</td>\n",
       "      <td>N</td>\n",
       "      <td>NaN</td>\n",
       "      <td>2020-03-20</td>\n",
       "    </tr>\n",
       "    <tr>\n",
       "      <th>4</th>\n",
       "      <td>2022-10-04</td>\n",
       "      <td>0.80</td>\n",
       "      <td>80주7009</td>\n",
       "      <td>N</td>\n",
       "      <td>36.00</td>\n",
       "      <td>2015-07-27</td>\n",
       "    </tr>\n",
       "  </tbody>\n",
       "</table>\n",
       "</div>"
      ],
      "text/plain": [
       "         검사날짜   매연  자동차등록번호 검사판정  무부하매연측정치1        검사일자\n",
       "0  2022-10-04 0.50  81루9582    N        NaN  2016-03-08\n",
       "1  2022-10-04 0.50  81루9582    N      50.00  2017-03-15\n",
       "2  2022-10-04 0.50  81루9582    N        NaN  2022-04-05\n",
       "3  2022-10-04 0.50  81루9582    N        NaN  2020-03-20\n",
       "4  2022-10-04 0.80  80주7009    N      36.00  2015-07-27"
      ]
     },
     "execution_count": 146,
     "metadata": {},
     "output_type": "execute_result"
    }
   ],
   "source": [
    "sdf14.head()"
   ]
  },
  {
   "cell_type": "code",
   "execution_count": 147,
   "metadata": {},
   "outputs": [],
   "source": [
    "sdf14['검사날짜'] = pd.to_datetime(sdf14['검사날짜'])\n",
    "sdf14['검사일자'] = pd.to_datetime(sdf14['검사일자'])"
   ]
  },
  {
   "cell_type": "code",
   "execution_count": 148,
   "metadata": {},
   "outputs": [
    {
     "data": {
      "text/plain": [
       "검사날짜    datetime64[ns]\n",
       "검사일자    datetime64[ns]\n",
       "dtype: object"
      ]
     },
     "execution_count": 148,
     "metadata": {},
     "output_type": "execute_result"
    }
   ],
   "source": [
    "sdf14[['검사날짜', '검사일자']].dtypes"
   ]
  },
  {
   "cell_type": "code",
   "execution_count": 149,
   "metadata": {},
   "outputs": [],
   "source": [
    "# 2. 검사일자(정밀검사) - 검사날짜(원격측정) = 검사날짜차이\n",
    "sdf14['검사날짜차이'] = sdf14['검사일자'] - sdf14['검사날짜']"
   ]
  },
  {
   "cell_type": "code",
   "execution_count": 150,
   "metadata": {},
   "outputs": [
    {
     "data": {
      "text/html": [
       "<div>\n",
       "<style scoped>\n",
       "    .dataframe tbody tr th:only-of-type {\n",
       "        vertical-align: middle;\n",
       "    }\n",
       "\n",
       "    .dataframe tbody tr th {\n",
       "        vertical-align: top;\n",
       "    }\n",
       "\n",
       "    .dataframe thead th {\n",
       "        text-align: right;\n",
       "    }\n",
       "</style>\n",
       "<table border=\"1\" class=\"dataframe\">\n",
       "  <thead>\n",
       "    <tr style=\"text-align: right;\">\n",
       "      <th></th>\n",
       "      <th>검사날짜</th>\n",
       "      <th>매연</th>\n",
       "      <th>자동차등록번호</th>\n",
       "      <th>검사판정</th>\n",
       "      <th>무부하매연측정치1</th>\n",
       "      <th>검사일자</th>\n",
       "      <th>검사날짜차이</th>\n",
       "    </tr>\n",
       "  </thead>\n",
       "  <tbody>\n",
       "    <tr>\n",
       "      <th>0</th>\n",
       "      <td>2022-10-04</td>\n",
       "      <td>0.50</td>\n",
       "      <td>81루9582</td>\n",
       "      <td>N</td>\n",
       "      <td>NaN</td>\n",
       "      <td>2016-03-08</td>\n",
       "      <td>-2401 days</td>\n",
       "    </tr>\n",
       "    <tr>\n",
       "      <th>1</th>\n",
       "      <td>2022-10-04</td>\n",
       "      <td>0.50</td>\n",
       "      <td>81루9582</td>\n",
       "      <td>N</td>\n",
       "      <td>50.00</td>\n",
       "      <td>2017-03-15</td>\n",
       "      <td>-2029 days</td>\n",
       "    </tr>\n",
       "    <tr>\n",
       "      <th>2</th>\n",
       "      <td>2022-10-04</td>\n",
       "      <td>0.50</td>\n",
       "      <td>81루9582</td>\n",
       "      <td>N</td>\n",
       "      <td>NaN</td>\n",
       "      <td>2022-04-05</td>\n",
       "      <td>-182 days</td>\n",
       "    </tr>\n",
       "    <tr>\n",
       "      <th>3</th>\n",
       "      <td>2022-10-04</td>\n",
       "      <td>0.50</td>\n",
       "      <td>81루9582</td>\n",
       "      <td>N</td>\n",
       "      <td>NaN</td>\n",
       "      <td>2020-03-20</td>\n",
       "      <td>-928 days</td>\n",
       "    </tr>\n",
       "    <tr>\n",
       "      <th>4</th>\n",
       "      <td>2022-10-04</td>\n",
       "      <td>0.80</td>\n",
       "      <td>80주7009</td>\n",
       "      <td>N</td>\n",
       "      <td>36.00</td>\n",
       "      <td>2015-07-27</td>\n",
       "      <td>-2626 days</td>\n",
       "    </tr>\n",
       "  </tbody>\n",
       "</table>\n",
       "</div>"
      ],
      "text/plain": [
       "        검사날짜   매연  자동차등록번호 검사판정  무부하매연측정치1       검사일자     검사날짜차이\n",
       "0 2022-10-04 0.50  81루9582    N        NaN 2016-03-08 -2401 days\n",
       "1 2022-10-04 0.50  81루9582    N      50.00 2017-03-15 -2029 days\n",
       "2 2022-10-04 0.50  81루9582    N        NaN 2022-04-05  -182 days\n",
       "3 2022-10-04 0.50  81루9582    N        NaN 2020-03-20  -928 days\n",
       "4 2022-10-04 0.80  80주7009    N      36.00 2015-07-27 -2626 days"
      ]
     },
     "execution_count": 150,
     "metadata": {},
     "output_type": "execute_result"
    }
   ],
   "source": [
    "sdf14.head()"
   ]
  },
  {
   "cell_type": "code",
   "execution_count": 151,
   "metadata": {},
   "outputs": [],
   "source": [
    "sdf14['검사날짜차이'] = sdf14['검사날짜차이'].astype('str')\n",
    "sdf14['검사날짜차이'] = sdf14['검사날짜차이'].str.split(' ').str[0]\n",
    "sdf14['검사날짜차이'] = pd.to_numeric(sdf14['검사날짜차이'], errors='coerce')"
   ]
  },
  {
   "cell_type": "code",
   "execution_count": 152,
   "metadata": {},
   "outputs": [
    {
     "data": {
      "text/plain": [
       "(174, 7)"
      ]
     },
     "execution_count": 152,
     "metadata": {},
     "output_type": "execute_result"
    }
   ],
   "source": [
    "# 3. '검사날짜차이' > 0 인 샘플 추출\n",
    "sdf14 = sdf14[sdf14['검사날짜차이'] > 0].reset_index(drop=True)\n",
    "sdf14.shape"
   ]
  },
  {
   "cell_type": "code",
   "execution_count": 153,
   "metadata": {},
   "outputs": [
    {
     "data": {
      "text/html": [
       "<div>\n",
       "<style scoped>\n",
       "    .dataframe tbody tr th:only-of-type {\n",
       "        vertical-align: middle;\n",
       "    }\n",
       "\n",
       "    .dataframe tbody tr th {\n",
       "        vertical-align: top;\n",
       "    }\n",
       "\n",
       "    .dataframe thead th {\n",
       "        text-align: right;\n",
       "    }\n",
       "</style>\n",
       "<table border=\"1\" class=\"dataframe\">\n",
       "  <thead>\n",
       "    <tr style=\"text-align: right;\">\n",
       "      <th></th>\n",
       "      <th>검사날짜</th>\n",
       "      <th>매연</th>\n",
       "      <th>자동차등록번호</th>\n",
       "      <th>검사판정</th>\n",
       "      <th>무부하매연측정치1</th>\n",
       "      <th>검사일자</th>\n",
       "      <th>검사날짜차이</th>\n",
       "    </tr>\n",
       "  </thead>\n",
       "  <tbody>\n",
       "    <tr>\n",
       "      <th>0</th>\n",
       "      <td>2022-10-05</td>\n",
       "      <td>5.70</td>\n",
       "      <td>경기76아1104</td>\n",
       "      <td>N</td>\n",
       "      <td>38.00</td>\n",
       "      <td>2023-07-19</td>\n",
       "      <td>287</td>\n",
       "    </tr>\n",
       "    <tr>\n",
       "      <th>1</th>\n",
       "      <td>2022-10-24</td>\n",
       "      <td>0.60</td>\n",
       "      <td>82가4238</td>\n",
       "      <td>N</td>\n",
       "      <td>17.00</td>\n",
       "      <td>2023-07-31</td>\n",
       "      <td>280</td>\n",
       "    </tr>\n",
       "    <tr>\n",
       "      <th>2</th>\n",
       "      <td>2022-10-05</td>\n",
       "      <td>6.60</td>\n",
       "      <td>경기76아1131</td>\n",
       "      <td>N</td>\n",
       "      <td>NaN</td>\n",
       "      <td>2023-07-12</td>\n",
       "      <td>280</td>\n",
       "    </tr>\n",
       "    <tr>\n",
       "      <th>3</th>\n",
       "      <td>2022-10-05</td>\n",
       "      <td>1.10</td>\n",
       "      <td>75어1519</td>\n",
       "      <td>N</td>\n",
       "      <td>55.00</td>\n",
       "      <td>2023-07-10</td>\n",
       "      <td>278</td>\n",
       "    </tr>\n",
       "    <tr>\n",
       "      <th>4</th>\n",
       "      <td>2022-11-02</td>\n",
       "      <td>0.40</td>\n",
       "      <td>40버5603</td>\n",
       "      <td>N</td>\n",
       "      <td>42.00</td>\n",
       "      <td>2023-07-28</td>\n",
       "      <td>268</td>\n",
       "    </tr>\n",
       "    <tr>\n",
       "      <th>...</th>\n",
       "      <td>...</td>\n",
       "      <td>...</td>\n",
       "      <td>...</td>\n",
       "      <td>...</td>\n",
       "      <td>...</td>\n",
       "      <td>...</td>\n",
       "      <td>...</td>\n",
       "    </tr>\n",
       "    <tr>\n",
       "      <th>121</th>\n",
       "      <td>2022-10-27</td>\n",
       "      <td>0.90</td>\n",
       "      <td>96다4987</td>\n",
       "      <td>N</td>\n",
       "      <td>30.00</td>\n",
       "      <td>2022-11-05</td>\n",
       "      <td>9</td>\n",
       "    </tr>\n",
       "    <tr>\n",
       "      <th>122</th>\n",
       "      <td>2022-10-21</td>\n",
       "      <td>0.30</td>\n",
       "      <td>91도1943</td>\n",
       "      <td>N</td>\n",
       "      <td>28.00</td>\n",
       "      <td>2022-10-28</td>\n",
       "      <td>7</td>\n",
       "    </tr>\n",
       "    <tr>\n",
       "      <th>123</th>\n",
       "      <td>2022-10-19</td>\n",
       "      <td>0.80</td>\n",
       "      <td>71부3230</td>\n",
       "      <td>N</td>\n",
       "      <td>77.00</td>\n",
       "      <td>2022-10-26</td>\n",
       "      <td>7</td>\n",
       "    </tr>\n",
       "    <tr>\n",
       "      <th>124</th>\n",
       "      <td>2022-11-24</td>\n",
       "      <td>0.80</td>\n",
       "      <td>67너0127</td>\n",
       "      <td>N</td>\n",
       "      <td>NaN</td>\n",
       "      <td>2022-11-30</td>\n",
       "      <td>6</td>\n",
       "    </tr>\n",
       "    <tr>\n",
       "      <th>125</th>\n",
       "      <td>2023-02-21</td>\n",
       "      <td>0.30</td>\n",
       "      <td>92우4399</td>\n",
       "      <td>N</td>\n",
       "      <td>38.00</td>\n",
       "      <td>2023-02-22</td>\n",
       "      <td>1</td>\n",
       "    </tr>\n",
       "  </tbody>\n",
       "</table>\n",
       "<p>126 rows × 7 columns</p>\n",
       "</div>"
      ],
      "text/plain": [
       "          검사날짜   매연    자동차등록번호 검사판정  무부하매연측정치1       검사일자  검사날짜차이\n",
       "0   2022-10-05 5.70  경기76아1104    N      38.00 2023-07-19     287\n",
       "1   2022-10-24 0.60    82가4238    N      17.00 2023-07-31     280\n",
       "2   2022-10-05 6.60  경기76아1131    N        NaN 2023-07-12     280\n",
       "3   2022-10-05 1.10    75어1519    N      55.00 2023-07-10     278\n",
       "4   2022-11-02 0.40    40버5603    N      42.00 2023-07-28     268\n",
       "..         ...  ...        ...  ...        ...        ...     ...\n",
       "121 2022-10-27 0.90    96다4987    N      30.00 2022-11-05       9\n",
       "122 2022-10-21 0.30    91도1943    N      28.00 2022-10-28       7\n",
       "123 2022-10-19 0.80    71부3230    N      77.00 2022-10-26       7\n",
       "124 2022-11-24 0.80    67너0127    N        NaN 2022-11-30       6\n",
       "125 2023-02-21 0.30    92우4399    N      38.00 2023-02-22       1\n",
       "\n",
       "[126 rows x 7 columns]"
      ]
     },
     "execution_count": 153,
     "metadata": {},
     "output_type": "execute_result"
    }
   ],
   "source": [
    "# 4. '검사날짜차이' 오름차순, '자동차등록번호' 기준 중복 제거\n",
    "sdf14 = sdf14.sort_values('검사날짜차이', ascending=False).drop_duplicates('자동차등록번호').reset_index(drop=True)\n",
    "sdf14"
   ]
  },
  {
   "cell_type": "code",
   "execution_count": null,
   "metadata": {},
   "outputs": [
    {
     "data": {
      "text/plain": [
       "dtype('float64')"
      ]
     },
     "metadata": {},
     "output_type": "display_data"
    }
   ],
   "source": [
    "sdf14['차량제작일자'].dtype"
   ]
  },
  {
   "cell_type": "code",
   "execution_count": null,
   "metadata": {},
   "outputs": [
    {
     "data": {
      "text/plain": [
       "array(['화물', '승용', '승합', '특수'], dtype=object)"
      ]
     },
     "metadata": {},
     "output_type": "display_data"
    }
   ],
   "source": [
    "sdf14['차종'].unique()"
   ]
  },
  {
   "cell_type": "code",
   "execution_count": null,
   "metadata": {},
   "outputs": [
    {
     "data": {
      "text/plain": [
       "array(['대형', '중형', '소형'], dtype=object)"
      ]
     },
     "metadata": {},
     "output_type": "display_data"
    }
   ],
   "source": [
    "sdf14['차종유형'].unique()"
   ]
  },
  {
   "cell_type": "code",
   "execution_count": null,
   "metadata": {},
   "outputs": [
    {
     "data": {
      "text/plain": [
       "dtype('float64')"
      ]
     },
     "metadata": {},
     "output_type": "display_data"
    }
   ],
   "source": [
    "sdf14['차량제작일자'].dtype"
   ]
  },
  {
   "cell_type": "code",
   "execution_count": null,
   "metadata": {},
   "outputs": [
    {
     "data": {
      "text/plain": [
       "count        126.00\n",
       "mean    20129781.12\n",
       "std        36050.48\n",
       "min     20021114.00\n",
       "25%     20100875.50\n",
       "50%     20130618.00\n",
       "75%     20160414.75\n",
       "max     20191018.00\n",
       "Name: 차량제작일자, dtype: float64"
      ]
     },
     "metadata": {},
     "output_type": "display_data"
    }
   ],
   "source": [
    "sdf14['차량제작일자'].describe()"
   ]
  },
  {
   "cell_type": "code",
   "execution_count": null,
   "metadata": {},
   "outputs": [
    {
     "data": {
      "text/plain": [
       "0"
      ]
     },
     "metadata": {},
     "output_type": "display_data"
    }
   ],
   "source": [
    "sdf14['차량제작일자'].isnull().sum()"
   ]
  },
  {
   "cell_type": "code",
   "execution_count": null,
   "metadata": {},
   "outputs": [],
   "source": [
    "# 5. 차종별 정기 검사 매연 허용치 정보 추가\n",
    "gas_limit_list = []\n",
    "for fm, ty, mk in sdf14[['차종', '차종유형', '차량제작일자']].values:\n",
    "    if fm == '승용' or ty == '경형':\n",
    "        if mk <= 19951231:\n",
    "            limit = 60\n",
    "        elif 19960101 <= mk <= 20001231:\n",
    "            limit = 55\n",
    "        elif 20010101 <= mk <= 20031231:\n",
    "            limit = 45\n",
    "        elif 20040101 <= mk <= 20071231:\n",
    "            limit = 40\n",
    "        elif 20080101 <= mk <= 20160831:\n",
    "            limit = 20\n",
    "        else:\n",
    "            limit = 10\n",
    "\n",
    "    elif ty == '소형':\n",
    "        if mk <= 19951231:\n",
    "            limit = 60\n",
    "        elif 19960101 <= mk <= 20001231:\n",
    "            limit = 55\n",
    "        elif 20010101 <= mk <= 20031231:\n",
    "            limit = 45\n",
    "        elif 20040101 <= mk <= 20071231:\n",
    "            limit = 40\n",
    "        elif 20080101 <= mk <= 20160831:\n",
    "            limit = 20\n",
    "        else:\n",
    "            limit = 10\n",
    "    elif ty == '중형':\n",
    "        if mk <= 19921231:\n",
    "            limit = 60\n",
    "        elif 19930101 <= mk <= 19951231:\n",
    "            limit = 55\n",
    "        elif 19960101 <= mk <= 19971231:\n",
    "            limit = 45\n",
    "        elif 19980101 <= mk <= 20001231:\n",
    "            limit = 45\n",
    "        elif 20010101 <= mk <= 20040930:\n",
    "            limit = 45\n",
    "        elif 20041001 <= mk <= 20071231:\n",
    "            limit = 40\n",
    "        elif 20080101 <= mk <= 20160831:\n",
    "            limit = 20\n",
    "        else:\n",
    "            limit = 10\n",
    "    elif ty == '대형':\n",
    "        if mk <= 19921231:\n",
    "            limit = 60\n",
    "        elif 19930101 <= mk <= 19951231:\n",
    "            limit = 55\n",
    "        elif 19960101 <= mk <= 19971231:\n",
    "            limit = 45\n",
    "        elif 19980101 <= mk <= 20001231:\n",
    "            limit = 45\n",
    "        elif 20010101 <= mk <= 20040930:\n",
    "            limit = 45\n",
    "        elif 20041001 <= mk <= 20071231:\n",
    "            limit = 40\n",
    "        else:\n",
    "            limit = 20\n",
    "    gas_limit_list.append(limit)"
   ]
  },
  {
   "cell_type": "code",
   "execution_count": null,
   "metadata": {},
   "outputs": [
    {
     "data": {
      "text/plain": [
       "((126, 43), 126)"
      ]
     },
     "metadata": {},
     "output_type": "display_data"
    }
   ],
   "source": [
    "sdf14.shape, len(gas_limit_list)"
   ]
  },
  {
   "cell_type": "code",
   "execution_count": null,
   "metadata": {},
   "outputs": [],
   "source": [
    "sdf14['정기검사_매연배출허용기준'] = gas_limit_list"
   ]
  },
  {
   "cell_type": "code",
   "execution_count": null,
   "metadata": {},
   "outputs": [
    {
     "data": {
      "text/plain": [
       "0"
      ]
     },
     "metadata": {},
     "output_type": "display_data"
    }
   ],
   "source": [
    "sdf14['정기검사_매연배출허용기준'].isnull().sum()"
   ]
  },
  {
   "cell_type": "code",
   "execution_count": null,
   "metadata": {},
   "outputs": [
    {
     "data": {
      "text/plain": [
       "(0, 44)"
      ]
     },
     "metadata": {},
     "output_type": "display_data"
    }
   ],
   "source": [
    "# 6. 매연 허용치 이상 차량만 추출(해당되는 차량 없음)\n",
    "sdf14 = sdf14[sdf14['정기검사_매연배출허용기준'] < sdf14['매연']].reset_index(drop=True)\n",
    "sdf14.shape"
   ]
  },
  {
   "cell_type": "code",
   "execution_count": null,
   "metadata": {},
   "outputs": [
    {
     "data": {
      "text/html": [
       "<div>\n",
       "<style scoped>\n",
       "    .dataframe tbody tr th:only-of-type {\n",
       "        vertical-align: middle;\n",
       "    }\n",
       "\n",
       "    .dataframe tbody tr th {\n",
       "        vertical-align: top;\n",
       "    }\n",
       "\n",
       "    .dataframe thead th {\n",
       "        text-align: right;\n",
       "    }\n",
       "</style>\n",
       "<table border=\"1\" class=\"dataframe\">\n",
       "  <thead>\n",
       "    <tr style=\"text-align: right;\">\n",
       "      <th></th>\n",
       "      <th>자동차등록번호</th>\n",
       "      <th>차종</th>\n",
       "      <th>차종유형</th>\n",
       "      <th>차량제작일자</th>\n",
       "      <th>매연</th>\n",
       "      <th>정기검사_매연배출허용기준</th>\n",
       "    </tr>\n",
       "  </thead>\n",
       "  <tbody>\n",
       "  </tbody>\n",
       "</table>\n",
       "</div>"
      ],
      "text/plain": [
       "Empty DataFrame\n",
       "Columns: [자동차등록번호, 차종, 차종유형, 차량제작일자, 매연, 정기검사_매연배출허용기준]\n",
       "Index: []"
      ]
     },
     "metadata": {},
     "output_type": "display_data"
    }
   ],
   "source": [
    "sdf14[['자동차등록번호', '차종', '차종유형', '차량제작일자', '매연', '정기검사_매연배출허용기준']].head()"
   ]
  },
  {
   "cell_type": "code",
   "execution_count": null,
   "metadata": {},
   "outputs": [],
   "source": [
    "# 7. 검사판정 == N인 비율\n",
    "sdf14 = sdf14[sdf14['검사판정'] == 'N'].reset_index(drop=True)\n",
    "sdf14.shape"
   ]
  },
  {
   "cell_type": "markdown",
   "metadata": {},
   "source": [
    "## 15\\. 차종별 매연 농도 분포\n",
    "- 차종별 매연값 평균"
   ]
  },
  {
   "cell_type": "code",
   "execution_count": 220,
   "metadata": {},
   "outputs": [
    {
     "data": {
      "text/html": [
       "<div>\n",
       "<style scoped>\n",
       "    .dataframe tbody tr th:only-of-type {\n",
       "        vertical-align: middle;\n",
       "    }\n",
       "\n",
       "    .dataframe tbody tr th {\n",
       "        vertical-align: top;\n",
       "    }\n",
       "\n",
       "    .dataframe thead th {\n",
       "        text-align: right;\n",
       "    }\n",
       "</style>\n",
       "<table border=\"1\" class=\"dataframe\">\n",
       "  <thead>\n",
       "    <tr style=\"text-align: right;\">\n",
       "      <th></th>\n",
       "      <th>차종</th>\n",
       "      <th>매연</th>\n",
       "    </tr>\n",
       "  </thead>\n",
       "  <tbody>\n",
       "    <tr>\n",
       "      <th>0</th>\n",
       "      <td>승용</td>\n",
       "      <td>1.93</td>\n",
       "    </tr>\n",
       "    <tr>\n",
       "      <th>1</th>\n",
       "      <td>승합</td>\n",
       "      <td>2.78</td>\n",
       "    </tr>\n",
       "    <tr>\n",
       "      <th>2</th>\n",
       "      <td>특수</td>\n",
       "      <td>1.12</td>\n",
       "    </tr>\n",
       "    <tr>\n",
       "      <th>3</th>\n",
       "      <td>화물</td>\n",
       "      <td>1.21</td>\n",
       "    </tr>\n",
       "  </tbody>\n",
       "</table>\n",
       "</div>"
      ],
      "text/plain": [
       "   차종   매연\n",
       "0  승용 1.93\n",
       "1  승합 2.78\n",
       "2  특수 1.12\n",
       "3  화물 1.21"
      ]
     },
     "execution_count": 220,
     "metadata": {},
     "output_type": "execute_result"
    }
   ],
   "source": [
    "grp15 = die.groupby(['차종'], dropna=False)['매연'].mean().reset_index()\n",
    "grp15"
   ]
  },
  {
   "cell_type": "markdown",
   "metadata": {},
   "source": [
    "## 16\\. 연식별 매연 농도 분포\n",
    "- 연식별 매연값 평균"
   ]
  },
  {
   "cell_type": "code",
   "execution_count": 369,
   "metadata": {},
   "outputs": [
    {
     "data": {
      "text/html": [
       "<div>\n",
       "<style scoped>\n",
       "    .dataframe tbody tr th:only-of-type {\n",
       "        vertical-align: middle;\n",
       "    }\n",
       "\n",
       "    .dataframe tbody tr th {\n",
       "        vertical-align: top;\n",
       "    }\n",
       "\n",
       "    .dataframe thead th {\n",
       "        text-align: right;\n",
       "    }\n",
       "</style>\n",
       "<table border=\"1\" class=\"dataframe\">\n",
       "  <thead>\n",
       "    <tr style=\"text-align: right;\">\n",
       "      <th></th>\n",
       "      <th>차량연식</th>\n",
       "      <th>매연</th>\n",
       "    </tr>\n",
       "  </thead>\n",
       "  <tbody>\n",
       "    <tr>\n",
       "      <th>0</th>\n",
       "      <td>1990.00</td>\n",
       "      <td>0.20</td>\n",
       "    </tr>\n",
       "    <tr>\n",
       "      <th>1</th>\n",
       "      <td>1993.00</td>\n",
       "      <td>4.00</td>\n",
       "    </tr>\n",
       "    <tr>\n",
       "      <th>2</th>\n",
       "      <td>1998.00</td>\n",
       "      <td>1.55</td>\n",
       "    </tr>\n",
       "    <tr>\n",
       "      <th>3</th>\n",
       "      <td>2001.00</td>\n",
       "      <td>0.90</td>\n",
       "    </tr>\n",
       "    <tr>\n",
       "      <th>4</th>\n",
       "      <td>2002.00</td>\n",
       "      <td>0.88</td>\n",
       "    </tr>\n",
       "    <tr>\n",
       "      <th>5</th>\n",
       "      <td>2003.00</td>\n",
       "      <td>3.35</td>\n",
       "    </tr>\n",
       "    <tr>\n",
       "      <th>6</th>\n",
       "      <td>2004.00</td>\n",
       "      <td>1.33</td>\n",
       "    </tr>\n",
       "    <tr>\n",
       "      <th>7</th>\n",
       "      <td>2005.00</td>\n",
       "      <td>3.14</td>\n",
       "    </tr>\n",
       "    <tr>\n",
       "      <th>8</th>\n",
       "      <td>2006.00</td>\n",
       "      <td>3.18</td>\n",
       "    </tr>\n",
       "    <tr>\n",
       "      <th>9</th>\n",
       "      <td>2007.00</td>\n",
       "      <td>2.36</td>\n",
       "    </tr>\n",
       "    <tr>\n",
       "      <th>10</th>\n",
       "      <td>2008.00</td>\n",
       "      <td>3.09</td>\n",
       "    </tr>\n",
       "    <tr>\n",
       "      <th>11</th>\n",
       "      <td>2009.00</td>\n",
       "      <td>2.90</td>\n",
       "    </tr>\n",
       "    <tr>\n",
       "      <th>12</th>\n",
       "      <td>2010.00</td>\n",
       "      <td>2.10</td>\n",
       "    </tr>\n",
       "    <tr>\n",
       "      <th>13</th>\n",
       "      <td>2011.00</td>\n",
       "      <td>2.44</td>\n",
       "    </tr>\n",
       "    <tr>\n",
       "      <th>14</th>\n",
       "      <td>2012.00</td>\n",
       "      <td>1.61</td>\n",
       "    </tr>\n",
       "    <tr>\n",
       "      <th>15</th>\n",
       "      <td>2013.00</td>\n",
       "      <td>1.73</td>\n",
       "    </tr>\n",
       "    <tr>\n",
       "      <th>16</th>\n",
       "      <td>2014.00</td>\n",
       "      <td>1.90</td>\n",
       "    </tr>\n",
       "    <tr>\n",
       "      <th>17</th>\n",
       "      <td>2015.00</td>\n",
       "      <td>1.83</td>\n",
       "    </tr>\n",
       "    <tr>\n",
       "      <th>18</th>\n",
       "      <td>2016.00</td>\n",
       "      <td>1.71</td>\n",
       "    </tr>\n",
       "    <tr>\n",
       "      <th>19</th>\n",
       "      <td>2017.00</td>\n",
       "      <td>1.69</td>\n",
       "    </tr>\n",
       "    <tr>\n",
       "      <th>20</th>\n",
       "      <td>2018.00</td>\n",
       "      <td>1.48</td>\n",
       "    </tr>\n",
       "    <tr>\n",
       "      <th>21</th>\n",
       "      <td>2019.00</td>\n",
       "      <td>1.50</td>\n",
       "    </tr>\n",
       "    <tr>\n",
       "      <th>22</th>\n",
       "      <td>2020.00</td>\n",
       "      <td>1.51</td>\n",
       "    </tr>\n",
       "    <tr>\n",
       "      <th>23</th>\n",
       "      <td>2021.00</td>\n",
       "      <td>1.76</td>\n",
       "    </tr>\n",
       "    <tr>\n",
       "      <th>24</th>\n",
       "      <td>2022.00</td>\n",
       "      <td>1.03</td>\n",
       "    </tr>\n",
       "    <tr>\n",
       "      <th>25</th>\n",
       "      <td>2023.00</td>\n",
       "      <td>1.31</td>\n",
       "    </tr>\n",
       "  </tbody>\n",
       "</table>\n",
       "</div>"
      ],
      "text/plain": [
       "      차량연식   매연\n",
       "0  1990.00 0.20\n",
       "1  1993.00 4.00\n",
       "2  1998.00 1.55\n",
       "3  2001.00 0.90\n",
       "4  2002.00 0.88\n",
       "5  2003.00 3.35\n",
       "6  2004.00 1.33\n",
       "7  2005.00 3.14\n",
       "8  2006.00 3.18\n",
       "9  2007.00 2.36\n",
       "10 2008.00 3.09\n",
       "11 2009.00 2.90\n",
       "12 2010.00 2.10\n",
       "13 2011.00 2.44\n",
       "14 2012.00 1.61\n",
       "15 2013.00 1.73\n",
       "16 2014.00 1.90\n",
       "17 2015.00 1.83\n",
       "18 2016.00 1.71\n",
       "19 2017.00 1.69\n",
       "20 2018.00 1.48\n",
       "21 2019.00 1.50\n",
       "22 2020.00 1.51\n",
       "23 2021.00 1.76\n",
       "24 2022.00 1.03\n",
       "25 2023.00 1.31"
      ]
     },
     "execution_count": 369,
     "metadata": {},
     "output_type": "execute_result"
    }
   ],
   "source": [
    "grp16 = die.groupby(['차량연식'], dropna=False)['매연'].mean().reset_index()\n",
    "grp16"
   ]
  },
  {
   "cell_type": "markdown",
   "metadata": {},
   "source": [
    "## 17\\. 배기량별 매연 농도 분포\n",
    "- 배기량별 매연값 평균"
   ]
  },
  {
   "cell_type": "code",
   "execution_count": 370,
   "metadata": {},
   "outputs": [
    {
     "data": {
      "text/html": [
       "<div>\n",
       "<style scoped>\n",
       "    .dataframe tbody tr th:only-of-type {\n",
       "        vertical-align: middle;\n",
       "    }\n",
       "\n",
       "    .dataframe tbody tr th {\n",
       "        vertical-align: top;\n",
       "    }\n",
       "\n",
       "    .dataframe thead th {\n",
       "        text-align: right;\n",
       "    }\n",
       "</style>\n",
       "<table border=\"1\" class=\"dataframe\">\n",
       "  <thead>\n",
       "    <tr style=\"text-align: right;\">\n",
       "      <th></th>\n",
       "      <th>배기량</th>\n",
       "      <th>매연</th>\n",
       "    </tr>\n",
       "  </thead>\n",
       "  <tbody>\n",
       "    <tr>\n",
       "      <th>0</th>\n",
       "      <td>1422.00</td>\n",
       "      <td>0.35</td>\n",
       "    </tr>\n",
       "    <tr>\n",
       "      <th>1</th>\n",
       "      <td>1461.00</td>\n",
       "      <td>0.94</td>\n",
       "    </tr>\n",
       "    <tr>\n",
       "      <th>2</th>\n",
       "      <td>1493.00</td>\n",
       "      <td>0.83</td>\n",
       "    </tr>\n",
       "    <tr>\n",
       "      <th>3</th>\n",
       "      <td>1496.00</td>\n",
       "      <td>0.62</td>\n",
       "    </tr>\n",
       "    <tr>\n",
       "      <th>4</th>\n",
       "      <td>1499.00</td>\n",
       "      <td>1.23</td>\n",
       "    </tr>\n",
       "    <tr>\n",
       "      <th>...</th>\n",
       "      <td>...</td>\n",
       "      <td>...</td>\n",
       "    </tr>\n",
       "    <tr>\n",
       "      <th>69</th>\n",
       "      <td>12344.00</td>\n",
       "      <td>0.63</td>\n",
       "    </tr>\n",
       "    <tr>\n",
       "      <th>70</th>\n",
       "      <td>12742.00</td>\n",
       "      <td>1.48</td>\n",
       "    </tr>\n",
       "    <tr>\n",
       "      <th>71</th>\n",
       "      <td>12882.00</td>\n",
       "      <td>0.00</td>\n",
       "    </tr>\n",
       "    <tr>\n",
       "      <th>72</th>\n",
       "      <td>12920.00</td>\n",
       "      <td>0.00</td>\n",
       "    </tr>\n",
       "    <tr>\n",
       "      <th>73</th>\n",
       "      <td>16031.00</td>\n",
       "      <td>2.10</td>\n",
       "    </tr>\n",
       "  </tbody>\n",
       "</table>\n",
       "<p>74 rows × 2 columns</p>\n",
       "</div>"
      ],
      "text/plain": [
       "        배기량   매연\n",
       "0   1422.00 0.35\n",
       "1   1461.00 0.94\n",
       "2   1493.00 0.83\n",
       "3   1496.00 0.62\n",
       "4   1499.00 1.23\n",
       "..      ...  ...\n",
       "69 12344.00 0.63\n",
       "70 12742.00 1.48\n",
       "71 12882.00 0.00\n",
       "72 12920.00 0.00\n",
       "73 16031.00 2.10\n",
       "\n",
       "[74 rows x 2 columns]"
      ]
     },
     "execution_count": 370,
     "metadata": {},
     "output_type": "execute_result"
    }
   ],
   "source": [
    "grp17 = die.groupby(['배기량'], dropna=False)['매연'].mean().reset_index()\n",
    "grp17"
   ]
  },
  {
   "cell_type": "markdown",
   "metadata": {},
   "source": [
    "## 18\\. 차량중량별 매연 농도 분포\n",
    "- 총중량별 매연값 평균\n",
    "- 5구간으로 구분"
   ]
  },
  {
   "cell_type": "code",
   "execution_count": 372,
   "metadata": {},
   "outputs": [
    {
     "data": {
      "text/plain": [
       "(7, 35)"
      ]
     },
     "execution_count": 372,
     "metadata": {},
     "output_type": "execute_result"
    }
   ],
   "source": [
    "die.loc[die['총중량'] > 30000].shape"
   ]
  },
  {
   "cell_type": "code",
   "execution_count": 374,
   "metadata": {},
   "outputs": [
    {
     "data": {
      "text/plain": [
       "(9037, 35)"
      ]
     },
     "execution_count": 374,
     "metadata": {},
     "output_type": "execute_result"
    }
   ],
   "source": [
    "die.loc[(die['총중량'] > 20000) | (die['총중량'] < 30000)].shape"
   ]
  },
  {
   "cell_type": "code",
   "execution_count": 375,
   "metadata": {},
   "outputs": [],
   "source": [
    "div = 8000\n",
    "for i in range(5):\n",
    "    die.loc[(die['총중량'] > i*div) & (die['총중량'] < (i+1)*div), '총중량구간'] = f'{i*div}이상 {(i+1)*div}미만'"
   ]
  },
  {
   "cell_type": "code",
   "execution_count": 376,
   "metadata": {},
   "outputs": [
    {
     "data": {
      "text/html": [
       "<div>\n",
       "<style scoped>\n",
       "    .dataframe tbody tr th:only-of-type {\n",
       "        vertical-align: middle;\n",
       "    }\n",
       "\n",
       "    .dataframe tbody tr th {\n",
       "        vertical-align: top;\n",
       "    }\n",
       "\n",
       "    .dataframe thead th {\n",
       "        text-align: right;\n",
       "    }\n",
       "</style>\n",
       "<table border=\"1\" class=\"dataframe\">\n",
       "  <thead>\n",
       "    <tr style=\"text-align: right;\">\n",
       "      <th></th>\n",
       "      <th>총중량구간</th>\n",
       "      <th>매연</th>\n",
       "    </tr>\n",
       "  </thead>\n",
       "  <tbody>\n",
       "    <tr>\n",
       "      <th>0</th>\n",
       "      <td>0이상 8000미만</td>\n",
       "      <td>1.68</td>\n",
       "    </tr>\n",
       "    <tr>\n",
       "      <th>1</th>\n",
       "      <td>16000이상 24000미만</td>\n",
       "      <td>2.16</td>\n",
       "    </tr>\n",
       "    <tr>\n",
       "      <th>2</th>\n",
       "      <td>24000이상 32000미만</td>\n",
       "      <td>0.40</td>\n",
       "    </tr>\n",
       "    <tr>\n",
       "      <th>3</th>\n",
       "      <td>32000이상 40000미만</td>\n",
       "      <td>1.64</td>\n",
       "    </tr>\n",
       "    <tr>\n",
       "      <th>4</th>\n",
       "      <td>8000이상 16000미만</td>\n",
       "      <td>1.72</td>\n",
       "    </tr>\n",
       "  </tbody>\n",
       "</table>\n",
       "</div>"
      ],
      "text/plain": [
       "             총중량구간   매연\n",
       "0       0이상 8000미만 1.68\n",
       "1  16000이상 24000미만 2.16\n",
       "2  24000이상 32000미만 0.40\n",
       "3  32000이상 40000미만 1.64\n",
       "4   8000이상 16000미만 1.72"
      ]
     },
     "execution_count": 376,
     "metadata": {},
     "output_type": "execute_result"
    }
   ],
   "source": [
    "grp18 = die.groupby(['총중량구간'], dropna=False)['매연'].mean().reset_index()\n",
    "grp18"
   ]
  },
  {
   "cell_type": "markdown",
   "metadata": {},
   "source": [
    "## 19\\. 종합검사 매연허용기준별 분포\n",
    "- 정밀검사(종합검사)의 무부하매연허용치1별 매연값 평균"
   ]
  },
  {
   "cell_type": "code",
   "execution_count": 377,
   "metadata": {},
   "outputs": [
    {
     "data": {
      "text/html": [
       "<div>\n",
       "<style scoped>\n",
       "    .dataframe tbody tr th:only-of-type {\n",
       "        vertical-align: middle;\n",
       "    }\n",
       "\n",
       "    .dataframe tbody tr th {\n",
       "        vertical-align: top;\n",
       "    }\n",
       "\n",
       "    .dataframe thead th {\n",
       "        text-align: right;\n",
       "    }\n",
       "</style>\n",
       "<table border=\"1\" class=\"dataframe\">\n",
       "  <thead>\n",
       "    <tr style=\"text-align: right;\">\n",
       "      <th></th>\n",
       "      <th>무부하매연허용치1</th>\n",
       "      <th>매연</th>\n",
       "    </tr>\n",
       "  </thead>\n",
       "  <tbody>\n",
       "    <tr>\n",
       "      <th>0</th>\n",
       "      <td>0.49</td>\n",
       "      <td>0.90</td>\n",
       "    </tr>\n",
       "    <tr>\n",
       "      <th>1</th>\n",
       "      <td>8.00</td>\n",
       "      <td>1.50</td>\n",
       "    </tr>\n",
       "    <tr>\n",
       "      <th>2</th>\n",
       "      <td>10.00</td>\n",
       "      <td>1.42</td>\n",
       "    </tr>\n",
       "    <tr>\n",
       "      <th>3</th>\n",
       "      <td>15.00</td>\n",
       "      <td>1.95</td>\n",
       "    </tr>\n",
       "    <tr>\n",
       "      <th>4</th>\n",
       "      <td>20.00</td>\n",
       "      <td>1.81</td>\n",
       "    </tr>\n",
       "    <tr>\n",
       "      <th>5</th>\n",
       "      <td>25.00</td>\n",
       "      <td>2.51</td>\n",
       "    </tr>\n",
       "    <tr>\n",
       "      <th>6</th>\n",
       "      <td>30.00</td>\n",
       "      <td>1.30</td>\n",
       "    </tr>\n",
       "    <tr>\n",
       "      <th>7</th>\n",
       "      <td>35.00</td>\n",
       "      <td>1.70</td>\n",
       "    </tr>\n",
       "    <tr>\n",
       "      <th>8</th>\n",
       "      <td>40.00</td>\n",
       "      <td>1.93</td>\n",
       "    </tr>\n",
       "    <tr>\n",
       "      <th>9</th>\n",
       "      <td>45.00</td>\n",
       "      <td>2.66</td>\n",
       "    </tr>\n",
       "    <tr>\n",
       "      <th>10</th>\n",
       "      <td>50.00</td>\n",
       "      <td>0.70</td>\n",
       "    </tr>\n",
       "    <tr>\n",
       "      <th>11</th>\n",
       "      <td>55.00</td>\n",
       "      <td>4.00</td>\n",
       "    </tr>\n",
       "    <tr>\n",
       "      <th>12</th>\n",
       "      <td>60.00</td>\n",
       "      <td>1.11</td>\n",
       "    </tr>\n",
       "    <tr>\n",
       "      <th>13</th>\n",
       "      <td>70.00</td>\n",
       "      <td>4.00</td>\n",
       "    </tr>\n",
       "    <tr>\n",
       "      <th>14</th>\n",
       "      <td>NaN</td>\n",
       "      <td>1.54</td>\n",
       "    </tr>\n",
       "  </tbody>\n",
       "</table>\n",
       "</div>"
      ],
      "text/plain": [
       "    무부하매연허용치1   매연\n",
       "0        0.49 0.90\n",
       "1        8.00 1.50\n",
       "2       10.00 1.42\n",
       "3       15.00 1.95\n",
       "4       20.00 1.81\n",
       "5       25.00 2.51\n",
       "6       30.00 1.30\n",
       "7       35.00 1.70\n",
       "8       40.00 1.93\n",
       "9       45.00 2.66\n",
       "10      50.00 0.70\n",
       "11      55.00 4.00\n",
       "12      60.00 1.11\n",
       "13      70.00 4.00\n",
       "14        NaN 1.54"
      ]
     },
     "execution_count": 377,
     "metadata": {},
     "output_type": "execute_result"
    }
   ],
   "source": [
    "grp19 = diee.groupby(['무부하매연허용치1'], dropna=False)['매연'].mean().reset_index()\n",
    "grp19"
   ]
  },
  {
   "cell_type": "markdown",
   "metadata": {},
   "source": [
    "## 20\\. 차종+연식별 매연농도 분포\n",
    "- 차종, 차량연식별 매연 값 평균"
   ]
  },
  {
   "cell_type": "code",
   "execution_count": 378,
   "metadata": {},
   "outputs": [
    {
     "data": {
      "text/html": [
       "<div>\n",
       "<style scoped>\n",
       "    .dataframe tbody tr th:only-of-type {\n",
       "        vertical-align: middle;\n",
       "    }\n",
       "\n",
       "    .dataframe tbody tr th {\n",
       "        vertical-align: top;\n",
       "    }\n",
       "\n",
       "    .dataframe thead th {\n",
       "        text-align: right;\n",
       "    }\n",
       "</style>\n",
       "<table border=\"1\" class=\"dataframe\">\n",
       "  <thead>\n",
       "    <tr style=\"text-align: right;\">\n",
       "      <th></th>\n",
       "      <th>차종</th>\n",
       "      <th>차량연식</th>\n",
       "      <th>매연</th>\n",
       "    </tr>\n",
       "  </thead>\n",
       "  <tbody>\n",
       "    <tr>\n",
       "      <th>0</th>\n",
       "      <td>승용</td>\n",
       "      <td>1998.00</td>\n",
       "      <td>1.70</td>\n",
       "    </tr>\n",
       "    <tr>\n",
       "      <th>1</th>\n",
       "      <td>승용</td>\n",
       "      <td>2001.00</td>\n",
       "      <td>0.90</td>\n",
       "    </tr>\n",
       "    <tr>\n",
       "      <th>2</th>\n",
       "      <td>승용</td>\n",
       "      <td>2002.00</td>\n",
       "      <td>1.47</td>\n",
       "    </tr>\n",
       "    <tr>\n",
       "      <th>3</th>\n",
       "      <td>승용</td>\n",
       "      <td>2003.00</td>\n",
       "      <td>4.55</td>\n",
       "    </tr>\n",
       "    <tr>\n",
       "      <th>4</th>\n",
       "      <td>승용</td>\n",
       "      <td>2004.00</td>\n",
       "      <td>1.74</td>\n",
       "    </tr>\n",
       "    <tr>\n",
       "      <th>...</th>\n",
       "      <td>...</td>\n",
       "      <td>...</td>\n",
       "      <td>...</td>\n",
       "    </tr>\n",
       "    <tr>\n",
       "      <th>76</th>\n",
       "      <td>화물</td>\n",
       "      <td>2019.00</td>\n",
       "      <td>1.20</td>\n",
       "    </tr>\n",
       "    <tr>\n",
       "      <th>77</th>\n",
       "      <td>화물</td>\n",
       "      <td>2020.00</td>\n",
       "      <td>0.79</td>\n",
       "    </tr>\n",
       "    <tr>\n",
       "      <th>78</th>\n",
       "      <td>화물</td>\n",
       "      <td>2021.00</td>\n",
       "      <td>1.03</td>\n",
       "    </tr>\n",
       "    <tr>\n",
       "      <th>79</th>\n",
       "      <td>화물</td>\n",
       "      <td>2022.00</td>\n",
       "      <td>0.72</td>\n",
       "    </tr>\n",
       "    <tr>\n",
       "      <th>80</th>\n",
       "      <td>화물</td>\n",
       "      <td>2023.00</td>\n",
       "      <td>1.06</td>\n",
       "    </tr>\n",
       "  </tbody>\n",
       "</table>\n",
       "<p>81 rows × 3 columns</p>\n",
       "</div>"
      ],
      "text/plain": [
       "    차종    차량연식   매연\n",
       "0   승용 1998.00 1.70\n",
       "1   승용 2001.00 0.90\n",
       "2   승용 2002.00 1.47\n",
       "3   승용 2003.00 4.55\n",
       "4   승용 2004.00 1.74\n",
       "..  ..     ...  ...\n",
       "76  화물 2019.00 1.20\n",
       "77  화물 2020.00 0.79\n",
       "78  화물 2021.00 1.03\n",
       "79  화물 2022.00 0.72\n",
       "80  화물 2023.00 1.06\n",
       "\n",
       "[81 rows x 3 columns]"
      ]
     },
     "execution_count": 378,
     "metadata": {},
     "output_type": "execute_result"
    }
   ],
   "source": [
    "grp20 = die.groupby(['차종', '차량연식'], dropna=False)['매연'].mean().reset_index()\n",
    "grp20"
   ]
  },
  {
   "cell_type": "markdown",
   "metadata": {},
   "source": [
    "## 21\\. 차종 + 연식 + 배기량별 매연농도 분포\n",
    "- 차종, 연식, 배기량별 매연 값 평균"
   ]
  },
  {
   "cell_type": "code",
   "execution_count": 379,
   "metadata": {},
   "outputs": [
    {
     "data": {
      "text/html": [
       "<div>\n",
       "<style scoped>\n",
       "    .dataframe tbody tr th:only-of-type {\n",
       "        vertical-align: middle;\n",
       "    }\n",
       "\n",
       "    .dataframe tbody tr th {\n",
       "        vertical-align: top;\n",
       "    }\n",
       "\n",
       "    .dataframe thead th {\n",
       "        text-align: right;\n",
       "    }\n",
       "</style>\n",
       "<table border=\"1\" class=\"dataframe\">\n",
       "  <thead>\n",
       "    <tr style=\"text-align: right;\">\n",
       "      <th></th>\n",
       "      <th>차종</th>\n",
       "      <th>차량연식</th>\n",
       "      <th>배기량</th>\n",
       "      <th>매연</th>\n",
       "    </tr>\n",
       "  </thead>\n",
       "  <tbody>\n",
       "    <tr>\n",
       "      <th>0</th>\n",
       "      <td>승용</td>\n",
       "      <td>1998.00</td>\n",
       "      <td>2874.00</td>\n",
       "      <td>1.70</td>\n",
       "    </tr>\n",
       "    <tr>\n",
       "      <th>1</th>\n",
       "      <td>승용</td>\n",
       "      <td>2001.00</td>\n",
       "      <td>2476.00</td>\n",
       "      <td>0.90</td>\n",
       "    </tr>\n",
       "    <tr>\n",
       "      <th>2</th>\n",
       "      <td>승용</td>\n",
       "      <td>2002.00</td>\n",
       "      <td>1991.00</td>\n",
       "      <td>2.90</td>\n",
       "    </tr>\n",
       "    <tr>\n",
       "      <th>3</th>\n",
       "      <td>승용</td>\n",
       "      <td>2002.00</td>\n",
       "      <td>2497.00</td>\n",
       "      <td>0.70</td>\n",
       "    </tr>\n",
       "    <tr>\n",
       "      <th>4</th>\n",
       "      <td>승용</td>\n",
       "      <td>2002.00</td>\n",
       "      <td>2874.00</td>\n",
       "      <td>0.80</td>\n",
       "    </tr>\n",
       "    <tr>\n",
       "      <th>...</th>\n",
       "      <td>...</td>\n",
       "      <td>...</td>\n",
       "      <td>...</td>\n",
       "      <td>...</td>\n",
       "    </tr>\n",
       "    <tr>\n",
       "      <th>502</th>\n",
       "      <td>화물</td>\n",
       "      <td>2023.00</td>\n",
       "      <td>2497.00</td>\n",
       "      <td>0.67</td>\n",
       "    </tr>\n",
       "    <tr>\n",
       "      <th>503</th>\n",
       "      <td>화물</td>\n",
       "      <td>2023.00</td>\n",
       "      <td>3933.00</td>\n",
       "      <td>0.52</td>\n",
       "    </tr>\n",
       "    <tr>\n",
       "      <th>504</th>\n",
       "      <td>화물</td>\n",
       "      <td>2023.00</td>\n",
       "      <td>4485.00</td>\n",
       "      <td>0.43</td>\n",
       "    </tr>\n",
       "    <tr>\n",
       "      <th>505</th>\n",
       "      <td>화물</td>\n",
       "      <td>2023.00</td>\n",
       "      <td>6728.00</td>\n",
       "      <td>16.30</td>\n",
       "    </tr>\n",
       "    <tr>\n",
       "      <th>506</th>\n",
       "      <td>화물</td>\n",
       "      <td>2023.00</td>\n",
       "      <td>6798.00</td>\n",
       "      <td>1.30</td>\n",
       "    </tr>\n",
       "  </tbody>\n",
       "</table>\n",
       "<p>507 rows × 4 columns</p>\n",
       "</div>"
      ],
      "text/plain": [
       "     차종    차량연식     배기량    매연\n",
       "0    승용 1998.00 2874.00  1.70\n",
       "1    승용 2001.00 2476.00  0.90\n",
       "2    승용 2002.00 1991.00  2.90\n",
       "3    승용 2002.00 2497.00  0.70\n",
       "4    승용 2002.00 2874.00  0.80\n",
       "..   ..     ...     ...   ...\n",
       "502  화물 2023.00 2497.00  0.67\n",
       "503  화물 2023.00 3933.00  0.52\n",
       "504  화물 2023.00 4485.00  0.43\n",
       "505  화물 2023.00 6728.00 16.30\n",
       "506  화물 2023.00 6798.00  1.30\n",
       "\n",
       "[507 rows x 4 columns]"
      ]
     },
     "execution_count": 379,
     "metadata": {},
     "output_type": "execute_result"
    }
   ],
   "source": [
    "grp21 = die.groupby(['차종', '차량연식', '배기량'], dropna=False)['매연'].mean().reset_index()\n",
    "grp21"
   ]
  },
  {
   "cell_type": "markdown",
   "metadata": {},
   "source": [
    "## 22\\. 엔진형식별 분포\n",
    "- 엔진형식별 매연 값 평균"
   ]
  },
  {
   "cell_type": "code",
   "execution_count": 380,
   "metadata": {},
   "outputs": [
    {
     "data": {
      "text/html": [
       "<div>\n",
       "<style scoped>\n",
       "    .dataframe tbody tr th:only-of-type {\n",
       "        vertical-align: middle;\n",
       "    }\n",
       "\n",
       "    .dataframe tbody tr th {\n",
       "        vertical-align: top;\n",
       "    }\n",
       "\n",
       "    .dataframe thead th {\n",
       "        text-align: right;\n",
       "    }\n",
       "</style>\n",
       "<table border=\"1\" class=\"dataframe\">\n",
       "  <thead>\n",
       "    <tr style=\"text-align: right;\">\n",
       "      <th></th>\n",
       "      <th>엔진형식</th>\n",
       "      <th>매연</th>\n",
       "    </tr>\n",
       "  </thead>\n",
       "  <tbody>\n",
       "    <tr>\n",
       "      <th>0</th>\n",
       "      <td>204DT</td>\n",
       "      <td>2.76</td>\n",
       "    </tr>\n",
       "    <tr>\n",
       "      <th>1</th>\n",
       "      <td>224DT</td>\n",
       "      <td>2.47</td>\n",
       "    </tr>\n",
       "    <tr>\n",
       "      <th>2</th>\n",
       "      <td>276DT</td>\n",
       "      <td>0.70</td>\n",
       "    </tr>\n",
       "    <tr>\n",
       "      <th>3</th>\n",
       "      <td>306D3</td>\n",
       "      <td>1.67</td>\n",
       "    </tr>\n",
       "    <tr>\n",
       "      <th>4</th>\n",
       "      <td>306DT</td>\n",
       "      <td>0.89</td>\n",
       "    </tr>\n",
       "    <tr>\n",
       "      <th>...</th>\n",
       "      <td>...</td>\n",
       "      <td>...</td>\n",
       "    </tr>\n",
       "    <tr>\n",
       "      <th>185</th>\n",
       "      <td>Y</td>\n",
       "      <td>5.30</td>\n",
       "    </tr>\n",
       "    <tr>\n",
       "      <th>186</th>\n",
       "      <td>YH01</td>\n",
       "      <td>1.23</td>\n",
       "    </tr>\n",
       "    <tr>\n",
       "      <th>187</th>\n",
       "      <td>Z20D1</td>\n",
       "      <td>1.00</td>\n",
       "    </tr>\n",
       "    <tr>\n",
       "      <th>188</th>\n",
       "      <td>Z20S</td>\n",
       "      <td>2.39</td>\n",
       "    </tr>\n",
       "    <tr>\n",
       "      <th>189</th>\n",
       "      <td>Z22D1</td>\n",
       "      <td>1.40</td>\n",
       "    </tr>\n",
       "  </tbody>\n",
       "</table>\n",
       "<p>190 rows × 2 columns</p>\n",
       "</div>"
      ],
      "text/plain": [
       "      엔진형식   매연\n",
       "0    204DT 2.76\n",
       "1    224DT 2.47\n",
       "2    276DT 0.70\n",
       "3    306D3 1.67\n",
       "4    306DT 0.89\n",
       "..     ...  ...\n",
       "185      Y 5.30\n",
       "186   YH01 1.23\n",
       "187  Z20D1 1.00\n",
       "188   Z20S 2.39\n",
       "189  Z22D1 1.40\n",
       "\n",
       "[190 rows x 2 columns]"
      ]
     },
     "execution_count": 380,
     "metadata": {},
     "output_type": "execute_result"
    }
   ],
   "source": [
    "grp22 = die.groupby(['엔진형식'], dropna=False)['매연'].mean().reset_index()\n",
    "grp22"
   ]
  },
  {
   "cell_type": "markdown",
   "metadata": {},
   "source": [
    "## 23\\. 차량제작사별 분포\n",
    "- 제작사명별 매연 값 평균"
   ]
  },
  {
   "cell_type": "code",
   "execution_count": 381,
   "metadata": {},
   "outputs": [
    {
     "data": {
      "text/html": [
       "<div>\n",
       "<style scoped>\n",
       "    .dataframe tbody tr th:only-of-type {\n",
       "        vertical-align: middle;\n",
       "    }\n",
       "\n",
       "    .dataframe tbody tr th {\n",
       "        vertical-align: top;\n",
       "    }\n",
       "\n",
       "    .dataframe thead th {\n",
       "        text-align: right;\n",
       "    }\n",
       "</style>\n",
       "<table border=\"1\" class=\"dataframe\">\n",
       "  <thead>\n",
       "    <tr style=\"text-align: right;\">\n",
       "      <th></th>\n",
       "      <th>제작사명</th>\n",
       "      <th>매연</th>\n",
       "    </tr>\n",
       "  </thead>\n",
       "  <tbody>\n",
       "    <tr>\n",
       "      <th>0</th>\n",
       "      <td>(유)동양특장차</td>\n",
       "      <td>0.40</td>\n",
       "    </tr>\n",
       "    <tr>\n",
       "      <th>1</th>\n",
       "      <td>(주) 골드밴</td>\n",
       "      <td>0.40</td>\n",
       "    </tr>\n",
       "    <tr>\n",
       "      <th>2</th>\n",
       "      <td>(주) 삼오특장자동차</td>\n",
       "      <td>0.50</td>\n",
       "    </tr>\n",
       "    <tr>\n",
       "      <th>3</th>\n",
       "      <td>(주) 에이엠특장</td>\n",
       "      <td>0.30</td>\n",
       "    </tr>\n",
       "    <tr>\n",
       "      <th>4</th>\n",
       "      <td>(주) 오텍</td>\n",
       "      <td>0.45</td>\n",
       "    </tr>\n",
       "    <tr>\n",
       "      <th>...</th>\n",
       "      <td>...</td>\n",
       "      <td>...</td>\n",
       "    </tr>\n",
       "    <tr>\n",
       "      <th>87</th>\n",
       "      <td>한국쓰리축공업(주)</td>\n",
       "      <td>0.60</td>\n",
       "    </tr>\n",
       "    <tr>\n",
       "      <th>88</th>\n",
       "      <td>한국특장기술(주)</td>\n",
       "      <td>0.67</td>\n",
       "    </tr>\n",
       "    <tr>\n",
       "      <th>89</th>\n",
       "      <td>한불모터스(주)</td>\n",
       "      <td>1.20</td>\n",
       "    </tr>\n",
       "    <tr>\n",
       "      <th>90</th>\n",
       "      <td>한신특장</td>\n",
       "      <td>0.40</td>\n",
       "    </tr>\n",
       "    <tr>\n",
       "      <th>91</th>\n",
       "      <td>현대자동차(주)</td>\n",
       "      <td>1.76</td>\n",
       "    </tr>\n",
       "  </tbody>\n",
       "</table>\n",
       "<p>92 rows × 2 columns</p>\n",
       "</div>"
      ],
      "text/plain": [
       "           제작사명   매연\n",
       "0      (유)동양특장차 0.40\n",
       "1       (주) 골드밴 0.40\n",
       "2   (주) 삼오특장자동차 0.50\n",
       "3     (주) 에이엠특장 0.30\n",
       "4        (주) 오텍 0.45\n",
       "..          ...  ...\n",
       "87   한국쓰리축공업(주) 0.60\n",
       "88    한국특장기술(주) 0.67\n",
       "89     한불모터스(주) 1.20\n",
       "90         한신특장 0.40\n",
       "91     현대자동차(주) 1.76\n",
       "\n",
       "[92 rows x 2 columns]"
      ]
     },
     "execution_count": 381,
     "metadata": {},
     "output_type": "execute_result"
    }
   ],
   "source": [
    "grp23 = die.groupby(['제작사명'], dropna=False)['매연'].mean().reset_index()\n",
    "grp23"
   ]
  },
  {
   "cell_type": "markdown",
   "metadata": {},
   "source": [
    "## 결과 출력"
   ]
  },
  {
   "cell_type": "code",
   "execution_count": null,
   "metadata": {},
   "outputs": [],
   "source": [
    "with pd.ExcelWriter(os.path.join(an_fold, '다차선_측정결과_분석({today_date}).xlsx')) as writer:\n",
    "    grp1.to_excel(sheetname='1_일자별_측정건수', index=False)\n",
    "    grp2.to_excel(sheetname='2_시간대별_측정건수', index=False)\n",
    "    grp3.to_excel(sheetname='3_요일별_측정건수', index=False)\n",
    "    # grp4.to_excel(sheetname='4_차선별_측정건수', index=False) # 데이터 부재\n",
    "    grp5.to_excel(sheetname='5_차종별_측정건수', index=False)\n",
    "    grp6.to_excel(sheetname='6_매연측정_통계', index=False)\n",
    "    # grp7.to_excel(sheetname='7_차선별_매연측정_통계', index=False) # 데이터 부재\n",
    "    grp8.to_excel(sheetname='8_속도별_매연측정_통계', index=False)\n",
    "    grp9.to_excel(sheetname='9_매연농도별_측정건수_비율', index=False)\n",
    "    # grp10.to_excel(sheetname='10_차선별_매연측정통계', index=False) # 7번과 동일\n",
    "    # grp11.to_excel(sheetname='11_속도별_매연측정_통계', index=False) # 8번과 동일\n",
    "    grp12.to_excel(sheetname='12_매연농도_상위10%의_정밀검사_결과', index=False) # 사용할 검사 미정\n",
    "    # grp13.to_excel(sheetname='13_시험일_후_최초검사_부적합', index=False) # 해당되는 차량 없음\n",
    "    # grp14.to_excel(sheetname='14_시험일_후_최종검사_부적합', index=False) # 해당되는 차량 없음\n",
    "    grp15.to_excel(sheetname='15_차종별_매연_농도_분포', index=False)\n",
    "    grp16.to_excel(sheetname='16_연식별-매연_농도_분포', index=False)\n",
    "    grp17.to_excel(sheetname='17_배기량별_매연_농도_분포', index=False)\n",
    "    grp18.to_excel(sheetname='18_차량중량별_매연_농도_분포', index=False)\n",
    "    grp19.to_excel(sheetname='19_종합검사_매연허용기준별_분포', index=False)\n",
    "    grp20.to_excel(sheetname='20_차종_연식별_매연_농도_분포', index=False)\n",
    "    grp21.to_excel(sheetname='21_차종_연식_배기량별_매연_농도_분포', index=False)\n",
    "    grp22.to_excel(sheetname='22_엔진형식별_분포', index=False)\n",
    "    grp23.to_excel(sheetname='23_차량제작사별_분포', index=False)"
   ]
  },
  {
   "cell_type": "code",
   "execution_count": null,
   "metadata": {},
   "outputs": [],
   "source": []
  },
  {
   "cell_type": "code",
   "execution_count": null,
   "metadata": {},
   "outputs": [],
   "source": []
  },
  {
   "cell_type": "code",
   "execution_count": 72,
   "metadata": {},
   "outputs": [
    {
     "name": "stdout",
     "output_type": "stream",
     "text": [
      "0:00:47\n"
     ]
    }
   ],
   "source": [
    "sec = time.time() - start_time\n",
    "print(str(dt.timedelta(seconds=sec)).split('.')[0])"
   ]
  },
  {
   "cell_type": "markdown",
   "metadata": {},
   "source": [
    "# End"
   ]
  }
 ],
 "metadata": {
  "kernelspec": {
   "display_name": "base",
   "language": "python",
   "name": "python3"
  },
  "language_info": {
   "codemirror_mode": {
    "name": "ipython",
    "version": 3
   },
   "file_extension": ".py",
   "mimetype": "text/x-python",
   "name": "python",
   "nbconvert_exporter": "python",
   "pygments_lexer": "ipython3",
   "version": "3.9.13"
  },
  "orig_nbformat": 4
 },
 "nbformat": 4,
 "nbformat_minor": 2
}
