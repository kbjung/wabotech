{
 "cells": [
  {
   "attachments": {},
   "cell_type": "markdown",
   "metadata": {},
   "source": [
    "# Library"
   ]
  },
  {
   "cell_type": "code",
   "execution_count": 3,
   "metadata": {},
   "outputs": [],
   "source": [
    "import pandas as pd\n",
    "import numpy as np\n",
    "from tqdm import tqdm\n",
    "import os\n",
    "from datetime import datetime"
   ]
  },
  {
   "attachments": {},
   "cell_type": "markdown",
   "metadata": {},
   "source": [
    "# fold path"
   ]
  },
  {
   "cell_type": "code",
   "execution_count": 1,
   "metadata": {},
   "outputs": [],
   "source": [
    "ods_fold = 'D:/data/big2/ODS'\n",
    "std_fold = 'D:/data/big2/STD'\n",
    "fold = 'D:/data/big2'\n",
    "an_fold = 'C:/Users/kbjung/Documents/GitHub/wabotech/low_gas_vehicle/analysis'"
   ]
  },
  {
   "cell_type": "markdown",
   "metadata": {},
   "source": [
    "# Load"
   ]
  },
  {
   "cell_type": "markdown",
   "metadata": {},
   "source": [
    "## 등록정보(2022.12.28)"
   ]
  },
  {
   "cell_type": "code",
   "execution_count": 5,
   "metadata": {},
   "outputs": [
    {
     "ename": "ParserError",
     "evalue": "Error tokenizing data. C error: out of memory",
     "output_type": "error",
     "traceback": [
      "\u001b[1;31m---------------------------------------------------------------------------\u001b[0m",
      "\u001b[1;31mParserError\u001b[0m                               Traceback (most recent call last)",
      "\u001b[1;32m~\\AppData\\Local\\Temp\\ipykernel_17540\\3605686121.py\u001b[0m in \u001b[0;36m<module>\u001b[1;34m\u001b[0m\n\u001b[0;32m      1\u001b[0m \u001b[1;31m# 11m 23s\u001b[0m\u001b[1;33m\u001b[0m\u001b[1;33m\u001b[0m\u001b[0m\n\u001b[0;32m      2\u001b[0m \u001b[1;31m# car = pd.read_csv(os.path.join(ods_fold, 'ODS_CEG_CAR_MIG.csv'), low_memory=False, usecols=['EMIS_CRTCNO', 'FST_REG_DE', 'VHCL_ERSR_YN', 'VIN', 'SRCMNNO', 'EMIS_GRD'])\u001b[0m\u001b[1;33m\u001b[0m\u001b[1;33m\u001b[0m\u001b[0m\n\u001b[1;32m----> 3\u001b[1;33m \u001b[0mcar\u001b[0m \u001b[1;33m=\u001b[0m \u001b[0mpd\u001b[0m\u001b[1;33m.\u001b[0m\u001b[0mread_csv\u001b[0m\u001b[1;33m(\u001b[0m\u001b[0mos\u001b[0m\u001b[1;33m.\u001b[0m\u001b[0mpath\u001b[0m\u001b[1;33m.\u001b[0m\u001b[0mjoin\u001b[0m\u001b[1;33m(\u001b[0m\u001b[0mstd_fold\u001b[0m\u001b[1;33m,\u001b[0m \u001b[1;34m'STD_CEG_CAR_MIG(20230821).csv'\u001b[0m\u001b[1;33m)\u001b[0m\u001b[1;33m,\u001b[0m \u001b[0mlow_memory\u001b[0m\u001b[1;33m=\u001b[0m\u001b[1;32mFalse\u001b[0m\u001b[1;33m,\u001b[0m \u001b[0musecols\u001b[0m\u001b[1;33m=\u001b[0m\u001b[1;33m[\u001b[0m\u001b[1;34m'EXHST_GAS_CERT_NO'\u001b[0m\u001b[1;33m,\u001b[0m \u001b[1;34m'FRST_REG_YMD'\u001b[0m\u001b[1;33m,\u001b[0m \u001b[1;34m'VHCL_ERSR_YN'\u001b[0m\u001b[1;33m,\u001b[0m \u001b[1;34m'VIN'\u001b[0m\u001b[1;33m,\u001b[0m \u001b[1;34m'MANP_MNG_NO'\u001b[0m\u001b[1;33m,\u001b[0m \u001b[1;34m'EXHST_GAS_GRD_CD'\u001b[0m\u001b[1;33m]\u001b[0m\u001b[1;33m)\u001b[0m\u001b[1;33m\u001b[0m\u001b[1;33m\u001b[0m\u001b[0m\n\u001b[0m\u001b[0;32m      4\u001b[0m \u001b[0mcar\u001b[0m\u001b[1;33m.\u001b[0m\u001b[0minfo\u001b[0m\u001b[1;33m(\u001b[0m\u001b[1;33m)\u001b[0m\u001b[1;33m\u001b[0m\u001b[1;33m\u001b[0m\u001b[0m\n",
      "\u001b[1;32m~\\AppData\\Roaming\\Python\\Python39\\site-packages\\pandas\\io\\parsers\\readers.py\u001b[0m in \u001b[0;36mread_csv\u001b[1;34m(filepath_or_buffer, sep, delimiter, header, names, index_col, usecols, dtype, engine, converters, true_values, false_values, skipinitialspace, skiprows, skipfooter, nrows, na_values, keep_default_na, na_filter, verbose, skip_blank_lines, parse_dates, infer_datetime_format, keep_date_col, date_parser, date_format, dayfirst, cache_dates, iterator, chunksize, compression, thousands, decimal, lineterminator, quotechar, quoting, doublequote, escapechar, comment, encoding, encoding_errors, dialect, on_bad_lines, delim_whitespace, low_memory, memory_map, float_precision, storage_options, dtype_backend)\u001b[0m\n\u001b[0;32m    910\u001b[0m     \u001b[0mkwds\u001b[0m\u001b[1;33m.\u001b[0m\u001b[0mupdate\u001b[0m\u001b[1;33m(\u001b[0m\u001b[0mkwds_defaults\u001b[0m\u001b[1;33m)\u001b[0m\u001b[1;33m\u001b[0m\u001b[1;33m\u001b[0m\u001b[0m\n\u001b[0;32m    911\u001b[0m \u001b[1;33m\u001b[0m\u001b[0m\n\u001b[1;32m--> 912\u001b[1;33m     \u001b[1;32mreturn\u001b[0m \u001b[0m_read\u001b[0m\u001b[1;33m(\u001b[0m\u001b[0mfilepath_or_buffer\u001b[0m\u001b[1;33m,\u001b[0m \u001b[0mkwds\u001b[0m\u001b[1;33m)\u001b[0m\u001b[1;33m\u001b[0m\u001b[1;33m\u001b[0m\u001b[0m\n\u001b[0m\u001b[0;32m    913\u001b[0m \u001b[1;33m\u001b[0m\u001b[0m\n\u001b[0;32m    914\u001b[0m \u001b[1;33m\u001b[0m\u001b[0m\n",
      "\u001b[1;32m~\\AppData\\Roaming\\Python\\Python39\\site-packages\\pandas\\io\\parsers\\readers.py\u001b[0m in \u001b[0;36m_read\u001b[1;34m(filepath_or_buffer, kwds)\u001b[0m\n\u001b[0;32m    581\u001b[0m \u001b[1;33m\u001b[0m\u001b[0m\n\u001b[0;32m    582\u001b[0m     \u001b[1;32mwith\u001b[0m \u001b[0mparser\u001b[0m\u001b[1;33m:\u001b[0m\u001b[1;33m\u001b[0m\u001b[1;33m\u001b[0m\u001b[0m\n\u001b[1;32m--> 583\u001b[1;33m         \u001b[1;32mreturn\u001b[0m \u001b[0mparser\u001b[0m\u001b[1;33m.\u001b[0m\u001b[0mread\u001b[0m\u001b[1;33m(\u001b[0m\u001b[0mnrows\u001b[0m\u001b[1;33m)\u001b[0m\u001b[1;33m\u001b[0m\u001b[1;33m\u001b[0m\u001b[0m\n\u001b[0m\u001b[0;32m    584\u001b[0m \u001b[1;33m\u001b[0m\u001b[0m\n\u001b[0;32m    585\u001b[0m \u001b[1;33m\u001b[0m\u001b[0m\n",
      "\u001b[1;32m~\\AppData\\Roaming\\Python\\Python39\\site-packages\\pandas\\io\\parsers\\readers.py\u001b[0m in \u001b[0;36mread\u001b[1;34m(self, nrows)\u001b[0m\n\u001b[0;32m   1702\u001b[0m                     \u001b[0mcolumns\u001b[0m\u001b[1;33m,\u001b[0m\u001b[1;33m\u001b[0m\u001b[1;33m\u001b[0m\u001b[0m\n\u001b[0;32m   1703\u001b[0m                     \u001b[0mcol_dict\u001b[0m\u001b[1;33m,\u001b[0m\u001b[1;33m\u001b[0m\u001b[1;33m\u001b[0m\u001b[0m\n\u001b[1;32m-> 1704\u001b[1;33m                 \u001b[1;33m)\u001b[0m \u001b[1;33m=\u001b[0m \u001b[0mself\u001b[0m\u001b[1;33m.\u001b[0m\u001b[0m_engine\u001b[0m\u001b[1;33m.\u001b[0m\u001b[0mread\u001b[0m\u001b[1;33m(\u001b[0m  \u001b[1;31m# type: ignore[attr-defined]\u001b[0m\u001b[1;33m\u001b[0m\u001b[1;33m\u001b[0m\u001b[0m\n\u001b[0m\u001b[0;32m   1705\u001b[0m                     \u001b[0mnrows\u001b[0m\u001b[1;33m\u001b[0m\u001b[1;33m\u001b[0m\u001b[0m\n\u001b[0;32m   1706\u001b[0m                 )\n",
      "\u001b[1;32m~\\AppData\\Roaming\\Python\\Python39\\site-packages\\pandas\\io\\parsers\\c_parser_wrapper.py\u001b[0m in \u001b[0;36mread\u001b[1;34m(self, nrows)\u001b[0m\n\u001b[0;32m    237\u001b[0m \u001b[1;33m\u001b[0m\u001b[0m\n\u001b[0;32m    238\u001b[0m             \u001b[1;32melse\u001b[0m\u001b[1;33m:\u001b[0m\u001b[1;33m\u001b[0m\u001b[1;33m\u001b[0m\u001b[0m\n\u001b[1;32m--> 239\u001b[1;33m                 \u001b[0mdata\u001b[0m \u001b[1;33m=\u001b[0m \u001b[0mself\u001b[0m\u001b[1;33m.\u001b[0m\u001b[0m_reader\u001b[0m\u001b[1;33m.\u001b[0m\u001b[0mread\u001b[0m\u001b[1;33m(\u001b[0m\u001b[0mnrows\u001b[0m\u001b[1;33m)\u001b[0m\u001b[1;33m\u001b[0m\u001b[1;33m\u001b[0m\u001b[0m\n\u001b[0m\u001b[0;32m    240\u001b[0m         \u001b[1;32mexcept\u001b[0m \u001b[0mStopIteration\u001b[0m\u001b[1;33m:\u001b[0m\u001b[1;33m\u001b[0m\u001b[1;33m\u001b[0m\u001b[0m\n\u001b[0;32m    241\u001b[0m             \u001b[1;32mif\u001b[0m \u001b[0mself\u001b[0m\u001b[1;33m.\u001b[0m\u001b[0m_first_chunk\u001b[0m\u001b[1;33m:\u001b[0m\u001b[1;33m\u001b[0m\u001b[1;33m\u001b[0m\u001b[0m\n",
      "\u001b[1;32m~\\AppData\\Roaming\\Python\\Python39\\site-packages\\pandas\\_libs\\parsers.pyx\u001b[0m in \u001b[0;36mpandas._libs.parsers.TextReader.read\u001b[1;34m()\u001b[0m\n",
      "\u001b[1;32m~\\AppData\\Roaming\\Python\\Python39\\site-packages\\pandas\\_libs\\parsers.pyx\u001b[0m in \u001b[0;36mpandas._libs.parsers.TextReader._read_rows\u001b[1;34m()\u001b[0m\n",
      "\u001b[1;32m~\\AppData\\Roaming\\Python\\Python39\\site-packages\\pandas\\_libs\\parsers.pyx\u001b[0m in \u001b[0;36mpandas._libs.parsers.TextReader._check_tokenize_status\u001b[1;34m()\u001b[0m\n",
      "\u001b[1;32m~\\AppData\\Roaming\\Python\\Python39\\site-packages\\pandas\\_libs\\parsers.pyx\u001b[0m in \u001b[0;36mpandas._libs.parsers.raise_parser_error\u001b[1;34m()\u001b[0m\n",
      "\u001b[1;31mParserError\u001b[0m: Error tokenizing data. C error: out of memory"
     ]
    }
   ],
   "source": [
    "# 11m 23s\n",
    "# car = pd.read_csv(os.path.join(ods_fold, 'ODS_CEG_CAR_MIG.csv'), low_memory=False, usecols=['EMIS_CRTCNO', 'FST_REG_DE', 'VHCL_ERSR_YN', 'VIN', 'SRCMNNO', 'EMIS_GRD'])\n",
    "car = pd.read_csv(os.path.join(std_fold, 'STD_CEG_CAR_MIG(20230821).csv'), low_memory=False, usecols=['EXHST_GAS_CERT_NO', 'FRST_REG_YMD', 'VHCL_ERSR_YN', 'VIN', 'MANP_MNG_NO', 'EXHST_GAS_GRD_CD', 'VHCTY_CD', 'PURPS_CD2', 'VHCL_OWNR_CL_CD'])\n",
    "car.info()"
   ]
  },
  {
   "cell_type": "code",
   "execution_count": null,
   "metadata": {},
   "outputs": [
    {
     "data": {
      "text/plain": [
       "32"
      ]
     },
     "execution_count": 27,
     "metadata": {},
     "output_type": "execute_result"
    }
   ],
   "source": [
    "# cdict = {\n",
    "#     'UPDT_DT':'수정일시',\n",
    "#     'OWNR_SE':'소유자구분',\n",
    "#     'VHRNO':'차량등록번호',\n",
    "#     'BSPL_LEDO_CD':'본거지법정동코드',\n",
    "#     'CRTN_DT':'생성일시',\n",
    "#     'PURPS':'용도',\n",
    "#     'EMIS_INSP_EFCT_DE':'배출가스검사유효일자',\n",
    "#     'EMIS_CRTCNO':'배출가스인증번호',\n",
    "#     'NOW_MBERNO':'현재회원번호',\n",
    "#     'ACQS_DE':'취득일자',\n",
    "#     'ACQS_AMT':'취득금액',\n",
    "#     'FST_MBERNO':'최초회원번호',\n",
    "#     'FST_REG_DE':'최초등록일자',\n",
    "#     'VHCTY':'차종',\n",
    "#     'VHRNO_NUM_INFO':'차량등록번호숫자정보',\n",
    "#     'VHMNO':'차량관리번호',\n",
    "#     'VHCL_MNFCT_DE':'차량제작일자',\n",
    "#     'VHCL_YRIDNW':'차량연식',\n",
    "#     'VHCL_ERSR_YN':'차량말소YN',\n",
    "#     'VIN':'차대번호',\n",
    "#     'SRCMNNO':'제원관리번호',\n",
    "#     'EMIS_GRD':'배출가스등급',\n",
    "#     'LEM_KND':'저공해조치종류',\n",
    "#     'LEM_STRCHG_YN':'저공해조치구조변경YN',\n",
    "#     'LEM_YN':'저공해조치YN(미사용)',\n",
    "#     'NOW_OWNR_NM':'미정',\n",
    "#     'BSPL_ADRS':'미정',\n",
    "#     'OWNR_ADRS':'미정',\n",
    "#     'BSPL_ZIP':'미정',\n",
    "#     'FST_OWNR_NM':'미정',\n",
    "#     'RMK':'미정',\n",
    "#     'USER_ID':'미정',\n",
    "# }\n",
    "cdict = {\n",
    "    'EXHST_GAS_CERT_NO':'배출가스인증번호',\n",
    "    'FRST_REG_YMD':'최초등록일자',\n",
    "    'VHCL_ERSR_YN':'차량말소YN',\n",
    "    'VIN':'차대번호',\n",
    "    'MANP_MNG_NO':'제원관리번호',\n",
    "    'EXHST_GAS_GRD_CD':'배출가스등급',\n",
    "    'VHCTY_CD':'차종', \n",
    "    'PURPS_CD2':'용도',\n",
    "    'VHCL_OWNR_CL_CD':'사용자구분', \n",
    "}\n",
    "len(cdict)"
   ]
  },
  {
   "cell_type": "code",
   "execution_count": null,
   "metadata": {},
   "outputs": [
    {
     "data": {
      "text/plain": [
       "Index(['차대번호', '최초등록일자', '제원관리번호', '배출가스인증번호', '배출가스등급', '차량말소YN'], dtype='object')"
      ]
     },
     "execution_count": 28,
     "metadata": {},
     "output_type": "execute_result"
    }
   ],
   "source": [
    "carr = car.rename(columns=cdict)\n",
    "carr.columns"
   ]
  },
  {
   "cell_type": "code",
   "execution_count": 29,
   "metadata": {},
   "outputs": [
    {
     "data": {
      "text/plain": [
       "(29534047, 6)"
      ]
     },
     "execution_count": 29,
     "metadata": {},
     "output_type": "execute_result"
    }
   ],
   "source": [
    "carr.shape"
   ]
  },
  {
   "cell_type": "code",
   "execution_count": 30,
   "metadata": {},
   "outputs": [
    {
     "data": {
      "text/plain": [
       "(29521505, 6)"
      ]
     },
     "execution_count": 30,
     "metadata": {},
     "output_type": "execute_result"
    }
   ],
   "source": [
    "# 중복 차대번호 제거\n",
    "carr = carr.sort_values('최초등록일자', ascending=False).drop_duplicates('차대번호').reset_index(drop=True)\n",
    "carr.shape"
   ]
  },
  {
   "cell_type": "code",
   "execution_count": 31,
   "metadata": {},
   "outputs": [
    {
     "data": {
      "text/plain": [
       "배출가스등급\n",
       "2      11798397\n",
       "3       9886814\n",
       "1       2869999\n",
       "5       2377881\n",
       "4       1897535\n",
       "X        303663\n",
       "T2       250264\n",
       "T3       136832\n",
       "T5           47\n",
       "T4           42\n",
       "NaN          31\n",
       "Name: count, dtype: int64"
      ]
     },
     "execution_count": 31,
     "metadata": {},
     "output_type": "execute_result"
    }
   ],
   "source": [
    "carr['배출가스등급'].value_counts(dropna=False)"
   ]
  },
  {
   "cell_type": "code",
   "execution_count": null,
   "metadata": {},
   "outputs": [],
   "source": [
    "## 배출가스등급 코드 변환\n",
    "grd_dict = {\n",
    "    'A0501':'1', \n",
    "    'A0502':'2', \n",
    "    'A0503':'3', \n",
    "    'A0504':'4', \n",
    "    'A0505':'5', \n",
    "    'A05T2':'2',\n",
    "    'A05T3':'3', \n",
    "    'A05T4':'4', \n",
    "    'A05T5':'5', \n",
    "    'A05X':'X', \n",
    "}\n",
    "carr['배출가스등급'] = carr['배출가스등급'].replace(grd_dict)\n",
    "carr['배출가스등급'].unique()"
   ]
  },
  {
   "cell_type": "code",
   "execution_count": 32,
   "metadata": {},
   "outputs": [
    {
     "data": {
      "text/plain": [
       "array(['X', '1', '2', '3', 'T2', 'T3', 'T4', '5', '4', 'T5', nan],\n",
       "      dtype=object)"
      ]
     },
     "execution_count": 32,
     "metadata": {},
     "output_type": "execute_result"
    }
   ],
   "source": [
    "carr['배출가스등급'].unique()"
   ]
  },
  {
   "cell_type": "code",
   "execution_count": null,
   "metadata": {},
   "outputs": [],
   "source": [
    "## 차종 코드 변환\n",
    "cd_dict = {\n",
    "    'A31M':'이륜', \n",
    "    'A31P':'승용', \n",
    "    'A31S':'특수', \n",
    "    'A31T':'화물', \n",
    "    'A31V':'승합'\n",
    "}\n",
    "carr['차종'] = carr['차종'].replace(cd_dict)"
   ]
  },
  {
   "cell_type": "code",
   "execution_count": null,
   "metadata": {},
   "outputs": [],
   "source": [
    "## 용도 코드 변환\n",
    "purps_dict = {\n",
    "    'A08P':'개인용', \n",
    "    'A08B':'영업용', \n",
    "    'A08O':'관용',\n",
    "}\n",
    "carr['용도'] = carr['용도'].replace(purps_dict)"
   ]
  },
  {
   "cell_type": "code",
   "execution_count": null,
   "metadata": {},
   "outputs": [],
   "source": [
    "## 소유자구분 코드 변환\n",
    "ownr_dict = {\n",
    "    'A27B':'사업자', \n",
    "    'A27F':'외국인', \n",
    "    'A27L':'법인', \n",
    "    'A27O':'기타', \n",
    "    'A27R':'주민', \n",
    "}\n",
    "carr['소유자구분'] = carr['소유자구분'].replace(ownr_dict)"
   ]
  },
  {
   "cell_type": "markdown",
   "metadata": {},
   "source": [
    "## 제원정보"
   ]
  },
  {
   "cell_type": "code",
   "execution_count": 8,
   "metadata": {},
   "outputs": [
    {
     "name": "stdout",
     "output_type": "stream",
     "text": [
      "<class 'pandas.core.frame.DataFrame'>\n",
      "RangeIndex: 566615 entries, 0 to 566614\n",
      "Data columns (total 6 columns):\n",
      " #   Column        Non-Null Count   Dtype \n",
      "---  ------        --------------   ----- \n",
      " 0   FUEL_CD       545937 non-null  object\n",
      " 1   MANP_MNG_NO   566615 non-null  object\n",
      " 2   VHCNM         566544 non-null  object\n",
      " 3   VHCTY_CD      566607 non-null  object\n",
      " 4   VHCTY_CL_CD   551140 non-null  object\n",
      " 5   VHCTY_TY_CD2  553038 non-null  object\n",
      "dtypes: object(6)\n",
      "memory usage: 25.9+ MB\n"
     ]
    }
   ],
   "source": [
    "# \n",
    "# src = pd.read_csv(os.path.join(ods_fold, 'ODS_CEG_CAR_SRC_MIG.csv'), low_memory=False, usecols=['SRCMNNO', 'FUEL', 'VHCNM', 'VHCTY', 'VHCTY_TY'])\n",
    "src = pd.read_csv(os.path.join(std_fold, 'STD_CEG_CAR_SRC_MIG(20230821).csv'), low_memory=False, usecols=['MANP_MNG_NO', 'FUEL_CD', 'VHCNM', 'VHCTY_CD', 'VHCTY_CL_CD', 'VHCTY_TY_CD2'])\n",
    "src.info()"
   ]
  },
  {
   "cell_type": "code",
   "execution_count": 9,
   "metadata": {},
   "outputs": [
    {
     "data": {
      "text/plain": [
       "Index(['연료', '제원관리번호', '차명', '차종', '차종분류', '차종유형'], dtype='object')"
      ]
     },
     "execution_count": 9,
     "metadata": {},
     "output_type": "execute_result"
    }
   ],
   "source": [
    "# cdict = {\n",
    "#     'UPDT_DT':'수정일시',\n",
    "#     'CNFRM_DE':'승인일자',\n",
    "#     'DELE_YN':'삭제YN', \n",
    "#     'CRTN_DT':'생성일시', \n",
    "#     'TOTL_WGHT':'총중량',\n",
    "#     'VHCTY_TY':'차종유형(소분류)', \n",
    "#     'VHCTY_CL':'차종분류',\n",
    "#     'VHCTY':'차종', \n",
    "#     'VHCNM':'차명',\n",
    "#     'VHCL_HG':'차량높이',\n",
    "#     'VHCL_WH':'차량너비',\n",
    "#     'VHCL_LT':'차량길이',\n",
    "#     'DRV_FRM':'구동형식',\n",
    "#     'MKR_NM':'제작사명',\n",
    "#     'SRCMNNO':'제원관리번호',\n",
    "#     'CRYNG_WGHT':'적재중량',\n",
    "#     'CAR_FRM':'자동차형식',\n",
    "#     'EMPV_WGHT':'공차중량',\n",
    "#     'PLOR_NM':'원산지명',\n",
    "#     'FUEL':'연료',\n",
    "#     'EGINTY':'엔진형식',\n",
    "#     'EGINPWR':'엔진출력',\n",
    "#     'TKCAR_NMPR':'승차인원',\n",
    "#     'DSPLVL':'배기량',\n",
    "#     'GEARBOX_KND':'변속기종류',\n",
    "#     'REPCAR_NM':'미정',\n",
    "#     'RMK':'미정',\n",
    "#     'USER_ID':'미정',\n",
    "# }\n",
    "cdict = {\n",
    "    'MANP_MNG_NO':'제원관리번호',\n",
    "    'FUEL_CD':'연료',\n",
    "    'VHCNM':'차명',\n",
    "    'VHCTY_CD':'차종', \n",
    "    'VHCTY_CL_CD':'차종분류',\n",
    "    'VHCTY_TY_CD2':'차종유형', \n",
    "}\n",
    "srcr = src.rename(columns=cdict)\n",
    "srcr.columns"
   ]
  },
  {
   "cell_type": "code",
   "execution_count": 10,
   "metadata": {},
   "outputs": [
    {
     "data": {
      "text/plain": [
       "(566615, 6)"
      ]
     },
     "execution_count": 10,
     "metadata": {},
     "output_type": "execute_result"
    }
   ],
   "source": [
    "srcr.shape"
   ]
  },
  {
   "cell_type": "code",
   "execution_count": 11,
   "metadata": {},
   "outputs": [
    {
     "data": {
      "text/plain": [
       "array(['A31P', 'A31T', 'A31V', 'A31S', nan], dtype=object)"
      ]
     },
     "execution_count": 11,
     "metadata": {},
     "output_type": "execute_result"
    }
   ],
   "source": [
    "srcr['차종'].unique()"
   ]
  },
  {
   "cell_type": "code",
   "execution_count": 12,
   "metadata": {},
   "outputs": [
    {
     "data": {
      "text/plain": [
       "차종\n",
       "A31P    245417\n",
       "A31T    232843\n",
       "A31V     64950\n",
       "A31S     23397\n",
       "NaN          8\n",
       "Name: count, dtype: int64"
      ]
     },
     "execution_count": 12,
     "metadata": {},
     "output_type": "execute_result"
    }
   ],
   "source": [
    "srcr['차종'].value_counts(dropna=False)"
   ]
  },
  {
   "cell_type": "code",
   "execution_count": 13,
   "metadata": {},
   "outputs": [],
   "source": [
    "## 차종 코드 변환\n",
    "cd_dict = {\n",
    "    'A31M':'이륜', \n",
    "    'A31P':'승용', \n",
    "    'A31S':'특수', \n",
    "    'A31T':'화물', \n",
    "    'A31V':'승합'\n",
    "}\n",
    "srcr['차종'] = srcr['차종'].replace(cd_dict)"
   ]
  },
  {
   "cell_type": "code",
   "execution_count": 14,
   "metadata": {},
   "outputs": [
    {
     "data": {
      "text/plain": [
       "차종\n",
       "승용     245417\n",
       "화물     232843\n",
       "승합      64950\n",
       "특수      23397\n",
       "NaN         8\n",
       "Name: count, dtype: int64"
      ]
     },
     "execution_count": 14,
     "metadata": {},
     "output_type": "execute_result"
    }
   ],
   "source": [
    "srcr['차종'].value_counts(dropna=False)"
   ]
  },
  {
   "cell_type": "code",
   "execution_count": 20,
   "metadata": {},
   "outputs": [
    {
     "data": {
      "text/plain": [
       "array(['A2826', 'A2814', 'A2825', 'A2819', 'A2821', 'A2824', 'A2811',\n",
       "       'A2820', 'A2810', 'A2809', 'A2816', 'A2815', 'A2823', 'A2822',\n",
       "       'A2813', 'A2812', nan], dtype=object)"
      ]
     },
     "execution_count": 20,
     "metadata": {},
     "output_type": "execute_result"
    }
   ],
   "source": [
    "srcr['차종분류'].unique()"
   ]
  },
  {
   "cell_type": "code",
   "execution_count": 23,
   "metadata": {},
   "outputs": [],
   "source": [
    "## 차종유형 코드 변환\n",
    "cl_dict = {\n",
    "    'A2801':'견인', \n",
    "    'A2802':'구난', \n",
    "    'A2803':'기타', \n",
    "    'A2804':'다목적',\n",
    "    'A2805':'덤프',\n",
    "    'A2806':'밴',\n",
    "    'A2807':'승용겸화물',\n",
    "    'A2808':'일반',\n",
    "    'A2809':'일반형-카고',\n",
    "    'A2810':'일반형-픽업',\n",
    "    'A2811':'특수',\n",
    "    'A2812':'특수용도형',\n",
    "    'A2813':'특수용도형-탱크로리',\n",
    "    'A2814':'특수용도형-특수용도형',\n",
    "    'A2815':'특수용도형-피견인',\n",
    "    'A2816':'특수작업형',\n",
    "    'A2818':'특수', \n",
    "    'A2819':'다목적', \n",
    "    'A2820':'덤프', \n",
    "    'A2821':'기타', \n",
    "    'A2822':'견인', \n",
    "    'A2823':'구난', \n",
    "    'A2824':'밴', \n",
    "    'A2825':'승용겸화물', \n",
    "    'A2826':'일반', \n",
    "\n",
    "}\n",
    "srcr['차종분류'] = srcr['차종분류'].replace(cl_dict)"
   ]
  },
  {
   "cell_type": "code",
   "execution_count": 24,
   "metadata": {},
   "outputs": [
    {
     "data": {
      "text/plain": [
       "array(['일반', '특수용도형-특수용도형', '승용겸화물', '다목적', '기타', '밴', '특수', '덤프',\n",
       "       '일반형-픽업', '일반형-카고', '특수작업형', '특수용도형-피견인', '구난', '견인', '특수용도형-탱크로리',\n",
       "       '특수용도형', nan], dtype=object)"
      ]
     },
     "execution_count": 24,
     "metadata": {},
     "output_type": "execute_result"
    }
   ],
   "source": [
    "srcr['차종분류'].unique()"
   ]
  },
  {
   "cell_type": "code",
   "execution_count": 25,
   "metadata": {},
   "outputs": [
    {
     "data": {
      "text/plain": [
       "array(['대형', '중형', '소형', '경형', nan], dtype=object)"
      ]
     },
     "execution_count": 25,
     "metadata": {},
     "output_type": "execute_result"
    }
   ],
   "source": [
    "srcr['차종유형'].unique()"
   ]
  },
  {
   "cell_type": "code",
   "execution_count": 16,
   "metadata": {},
   "outputs": [
    {
     "data": {
      "text/plain": [
       "차종유형\n",
       "A30L    356019\n",
       "A30M    132073\n",
       "A30S     55204\n",
       "NaN      13577\n",
       "A30C      9742\n",
       "Name: count, dtype: int64"
      ]
     },
     "execution_count": 16,
     "metadata": {},
     "output_type": "execute_result"
    }
   ],
   "source": [
    "srcr['차종유형'].value_counts(dropna=False)"
   ]
  },
  {
   "cell_type": "code",
   "execution_count": 17,
   "metadata": {},
   "outputs": [],
   "source": [
    "## 차종유형 코드 변환\n",
    "ty_dict = {\n",
    "    'A30C':'경형', \n",
    "    'A30L':'대형', \n",
    "    'A30M':'중형', \n",
    "    'A30S':'소형',\n",
    "}\n",
    "srcr['차종유형'] = srcr['차종유형'].replace(ty_dict)"
   ]
  },
  {
   "cell_type": "code",
   "execution_count": 18,
   "metadata": {},
   "outputs": [
    {
     "data": {
      "text/plain": [
       "차종유형\n",
       "대형     356019\n",
       "중형     132073\n",
       "소형      55204\n",
       "NaN     13577\n",
       "경형       9742\n",
       "Name: count, dtype: int64"
      ]
     },
     "execution_count": 18,
     "metadata": {},
     "output_type": "execute_result"
    }
   ],
   "source": [
    "srcr['차종유형'].value_counts(dropna=False)"
   ]
  },
  {
   "cell_type": "code",
   "execution_count": 19,
   "metadata": {},
   "outputs": [
    {
     "data": {
      "text/plain": [
       "array(['A90GS', 'A91DS', 'A94OT', 'A92LP', nan, 'A90GH', 'A92CN', 'A91KS',\n",
       "       'A93SH', 'A91DH', 'A93EV', 'A90AC', 'A92LH', 'A93HD', 'A92LN',\n",
       "       'A92CH'], dtype=object)"
      ]
     },
     "execution_count": 19,
     "metadata": {},
     "output_type": "execute_result"
    }
   ],
   "source": [
    "srcr['연료'].unique()"
   ]
  },
  {
   "cell_type": "code",
   "execution_count": 26,
   "metadata": {},
   "outputs": [
    {
     "data": {
      "text/plain": [
       "연료\n",
       "A91DS    284477\n",
       "A90GS    218330\n",
       "A94OT     23793\n",
       "NaN       20678\n",
       "A92CN      7380\n",
       "A92LP      4939\n",
       "A90GH      4149\n",
       "A93EV      2212\n",
       "A91DH       361\n",
       "A92CH       105\n",
       "A93HD        98\n",
       "A92LN        25\n",
       "A91KS        20\n",
       "A92LH        19\n",
       "A90AC        17\n",
       "A93SH        12\n",
       "Name: count, dtype: int64"
      ]
     },
     "execution_count": 26,
     "metadata": {},
     "output_type": "execute_result"
    }
   ],
   "source": [
    "srcr['연료'].value_counts(dropna=False)"
   ]
  },
  {
   "cell_type": "code",
   "execution_count": 27,
   "metadata": {},
   "outputs": [],
   "source": [
    "## 연료 코드 변환\n",
    "fuel_dict = {\n",
    "    'A90GS':'휘발유', \n",
    "    'A91DS':'경유',\n",
    "    'A92LP':'LPG(액화석유가스)', \n",
    "    'A90GH':'휘발유 하이브리드', \n",
    "    'A93EV':'전기', \n",
    "    'A91DH':'경유 하이브리드', \n",
    "    'A92CN':'CNG(압축천연가스)', \n",
    "    'A93HD':'수소', \n",
    "    'A92LH':'LPG 하이브리드', \n",
    "    'A94OT':'기타연료', \n",
    "    'A92CH':'CNG 하이브리드',\n",
    "    'A90AC':'알코올', \n",
    "    'A93SH':'태양열', \n",
    "    'A91KS':'등유', \n",
    "    'A92LN':'LNG(액화천연가스)', \n",
    "    'A90PH':'플러그인 하이브리드', \n",
    "}\n",
    "srcr['연료'] = srcr['연료'].replace(fuel_dict)"
   ]
  },
  {
   "cell_type": "code",
   "execution_count": 28,
   "metadata": {},
   "outputs": [
    {
     "data": {
      "text/plain": [
       "연료\n",
       "경유             284477\n",
       "휘발유            218330\n",
       "기타연료            23793\n",
       "NaN             20678\n",
       "CNG(압축천연가스)      7380\n",
       "LPG(액화석유가스)      4939\n",
       "휘발유 하이브리드        4149\n",
       "전기               2212\n",
       "경유 하이브리드          361\n",
       "CNG 하이브리드         105\n",
       "수소                 98\n",
       "LNG(액화천연가스)        25\n",
       "등유                 20\n",
       "LPG 하이브리드          19\n",
       "알코올                17\n",
       "태양열                12\n",
       "Name: count, dtype: int64"
      ]
     },
     "execution_count": 28,
     "metadata": {},
     "output_type": "execute_result"
    }
   ],
   "source": [
    "srcr['연료'].value_counts(dropna=False)"
   ]
  },
  {
   "cell_type": "markdown",
   "metadata": {},
   "source": [
    "## 등록&제원 병합"
   ]
  },
  {
   "cell_type": "code",
   "execution_count": 56,
   "metadata": {},
   "outputs": [
    {
     "data": {
      "text/plain": [
       "(29521505, 6)"
      ]
     },
     "execution_count": 56,
     "metadata": {},
     "output_type": "execute_result"
    }
   ],
   "source": [
    "carr.shape"
   ]
  },
  {
   "cell_type": "code",
   "execution_count": 86,
   "metadata": {},
   "outputs": [
    {
     "data": {
      "text/plain": [
       "(29521505, 10)"
      ]
     },
     "execution_count": 86,
     "metadata": {},
     "output_type": "execute_result"
    }
   ],
   "source": [
    "df = carr.merge(srcr, on='제원관리번호', how='left')\n",
    "df.shape"
   ]
  },
  {
   "cell_type": "markdown",
   "metadata": {},
   "source": [
    "### [출력] 등록&제원(중복차대제거)(2022.12.28 기준)\n",
    "- 중복 차대번호 제거"
   ]
  },
  {
   "cell_type": "code",
   "execution_count": 58,
   "metadata": {},
   "outputs": [],
   "source": [
    "# 1m 50s\n",
    "df.to_csv(os.path.join(ods_fold, '등록&제원(중복차대제거)(2022.12.28).csv'), index=False)"
   ]
  },
  {
   "cell_type": "markdown",
   "metadata": {},
   "source": [
    "## 말소제거"
   ]
  },
  {
   "cell_type": "code",
   "execution_count": 93,
   "metadata": {},
   "outputs": [
    {
     "data": {
      "text/plain": [
       "차량말소YN\n",
       "N    25692471\n",
       "Y     3829034\n",
       "Name: count, dtype: int64"
      ]
     },
     "execution_count": 93,
     "metadata": {},
     "output_type": "execute_result"
    }
   ],
   "source": [
    "df['차량말소YN'].value_counts(dropna=False)"
   ]
  },
  {
   "cell_type": "code",
   "execution_count": 110,
   "metadata": {},
   "outputs": [
    {
     "data": {
      "text/plain": [
       "(25692471, 10)"
      ]
     },
     "execution_count": 110,
     "metadata": {},
     "output_type": "execute_result"
    }
   ],
   "source": [
    "dfn = df[df['차량말소YN'] =='N'].reset_index(drop=True)\n",
    "dfn.shape"
   ]
  },
  {
   "cell_type": "markdown",
   "metadata": {},
   "source": [
    "## 등급별 연료별 차량 현황"
   ]
  },
  {
   "cell_type": "code",
   "execution_count": 111,
   "metadata": {},
   "outputs": [
    {
     "data": {
      "text/plain": [
       "array(['X', '1', '2', '3', 'T2', 'T3', 'T4', '5', '4', 'T5'], dtype=object)"
      ]
     },
     "execution_count": 111,
     "metadata": {},
     "output_type": "execute_result"
    }
   ],
   "source": [
    "dfn['배출가스등급'].unique()"
   ]
  },
  {
   "cell_type": "code",
   "execution_count": 112,
   "metadata": {},
   "outputs": [
    {
     "data": {
      "text/plain": [
       "배출가스등급\n",
       "2     10959798\n",
       "3      8622913\n",
       "1      2771362\n",
       "4      1511102\n",
       "5      1154668\n",
       "X       288790\n",
       "T2      247477\n",
       "T3      136296\n",
       "T4          37\n",
       "T5          28\n",
       "Name: count, dtype: int64"
      ]
     },
     "execution_count": 112,
     "metadata": {},
     "output_type": "execute_result"
    }
   ],
   "source": [
    "dfn['배출가스등급'].value_counts(dropna=False)"
   ]
  },
  {
   "cell_type": "code",
   "execution_count": 113,
   "metadata": {},
   "outputs": [
    {
     "data": {
      "text/plain": [
       "Index(['차대번호', '최초등록일자', '제원관리번호', '배출가스인증번호', '배출가스등급', '차량말소YN', '차명', '차종',\n",
       "       '차종유형(소분류)', '연료'],\n",
       "      dtype='object')"
      ]
     },
     "execution_count": 113,
     "metadata": {},
     "output_type": "execute_result"
    }
   ],
   "source": [
    "dfn.columns"
   ]
  },
  {
   "cell_type": "code",
   "execution_count": 114,
   "metadata": {},
   "outputs": [],
   "source": [
    "carname_fuel_dict = {\n",
    "    'HYUNDAI PRESTO':'휘발유',\n",
    "    'TOYOTA CAMRY하이브리드':'휘발유 하이브리드',\n",
    "    '구급차(도요다)':'경유',\n",
    "    '대우11톤카고':'경유',\n",
    "    '대우8톤카고':'경유',\n",
    "    '도요다웨곤엠브란스':'경유',\n",
    "    '도요다코로나':'휘발유',\n",
    "    '도요다크라운로얄싸롱':'휘발유',\n",
    "    '도요타 프리우스(하이브리드)':'휘발유 하이브리드',\n",
    "    '로얄살롱':'휘발유',\n",
    "    '로얄살롱2.0AT':'휘발유',\n",
    "    '르망':'휘발유',\n",
    "    '르망펜타-5':'휘발유',\n",
    "    '맥스디젤삼방':'경유',\n",
    "    '머큐리 세이블':'경유',\n",
    "    '벤즈 230E':'휘발유',\n",
    "    '벤즈230E':'휘발유',\n",
    "    '복사14':'휘발유',\n",
    "    '브리샤2':'휘발유',\n",
    "    '새한버스':'경유',\n",
    "    '스텔라':'휘발유',\n",
    "    '스텔라1.6CXL':'휘발유',\n",
    "    '스텔라오토매틱':'휘발유',\n",
    "    '아시아AM707중형버스':'경유',\n",
    "    '에어스트림탐지견수송트레일러':'무동력',\n",
    "    '엑셀':'휘발유',\n",
    "    '인타담프':'경유',\n",
    "    '일산 육륜':\"경유\",\n",
    "    '캐피탈':'휘발유',\n",
    "    '코티나마크IV':'휘발유',\n",
    "    '포니2':'휘발유',\n",
    "    '프레스토오토매틱':'휘발유',\n",
    "    '현대리어엔진버스':'경유',\n",
    "    '홍성캠핑트레일러':'무동력',\n",
    "    'BENZ S500':'휘발유',\n",
    "    'BMW':'휘발유',\n",
    "    'BMW 3-SERIES':'휘발유',\n",
    "    'BMW 318I':'휘발유',\n",
    "    'BMW 325CI':'휘발유',\n",
    "    'BMW 325I':'휘발유',\n",
    "    'BMW 325i':'휘발유',\n",
    "    'BMW 328I':'휘발유',\n",
    "    'BMW 525I':'휘발유',\n",
    "    'BMW 528I':'휘발유',\n",
    "    'BMW 530I':'휘발유',\n",
    "    'BMW 5SERIES':'휘발유',\n",
    "    'BMW 750Li':'휘발유',\n",
    "    'BMW X3':'휘발유',\n",
    "    'BMW X5':'휘발유',\n",
    "    'BMW Z3':'휘발유',\n",
    "    'BMW530I':'휘발유',\n",
    "    'BUICK CENTURY':'휘발유',\n",
    "    'BUICK LESABRE':'휘발유',\n",
    "    'BUICK TERRAZA':'휘발유',\n",
    "    'CADILLAC CTS':'휘발유',\n",
    "    'CHEVROLET IMPALA':'휘발유',\n",
    "    'CHEVROLET PRIZM':'휘발유',\n",
    "    'CHRYSLER':'휘발유',\n",
    "    'CHRYSLER 300 LTD':'휘발유',\n",
    "    'CHRYSLER 300C':'경유',\n",
    "    'CHRYSLER HEMI AWD':'휘발유',\n",
    "    'CHRYSLER PT CRUISER':'휘발유',\n",
    "    'CHRYSLER TOWN & COUNTRY(7)':'휘발유',\n",
    "    'CIELO':'휘발유',\n",
    "    'CORSICA':'휘발유',\n",
    "    'COUGAR':'휘발유',\n",
    "    'DODGE CALIBER':'휘발유',\n",
    "    'DODGE CARAVAN':'휘발유',\n",
    "    'DODGE CHARGER':'휘발유',\n",
    "    'DODGE DAKOTA':'휘발유',\n",
    "    'DODGE DURANGO':'휘발유',\n",
    "    'DODGE GRAND CARAVAN':'휘발유',\n",
    "    'DODGE NEON SXT':'휘발유',\n",
    "    'EF소나타':'휘발유',\n",
    "    'ESCORT':'휘발유',\n",
    "    'FIREBIRD':'휘발유',\n",
    "    'FORD ESCAPE':'휘발유',\n",
    "    'FORD EXPEDITION':'휘발유',\n",
    "    'FORD EXPEDITION(8)':'휘발유',\n",
    "    'FORD EXPLORER':'휘발유',\n",
    "    'FORD FOCUS':'휘발유',\n",
    "    'FORD FREESTYLE(7)':'휘발유',\n",
    "    'FORD FUSION':'휘발유',\n",
    "    'FORD MUSTANG':'휘발유',\n",
    "    'FORD RANGER XLT':'경유',\n",
    "    'FORD WINDSTAR':'휘발유',\n",
    "    'G.M.C':'휘발유',\n",
    "    'G20':'휘발유',\n",
    "    'GMC':'휘발유',\n",
    "    'GMC JIMMY':'휘발유',\n",
    "    'GMC SIERRA':'휘발유',\n",
    "    'HONDA ACCORD':'휘발유',\n",
    "    'HONDA CR-V':'휘발유',\n",
    "    'HONDA CR-V EX':'휘발유',\n",
    "    'HONDA PILOT':'휘발유',\n",
    "    'HYUNDAI SONATA':'휘발유',\n",
    "    'HYUNDAI/SONATA':'휘발유',\n",
    "    'INFINITI G37S':'휘발유',\n",
    "    'JAGUAR X-TYPE':'휘발유',\n",
    "    'JEEP GRAND CHEROKEE':'휘발유',\n",
    "    'JEEP LIBERTY':'휘발유',\n",
    "    'JEEP PATRIOT':\"경유\",\n",
    "    'KIA OPTIMA':'휘발유',\n",
    "    'KIA SEDONA':'휘발유',\n",
    "    'LEXUS ES330':'휘발유',\n",
    "    'LEXUS ES350':'휘발유',\n",
    "    'LEXUS LS430':'휘발유',\n",
    "    'LEXUS RS330':'휘발유',\n",
    "    'LEXUS RX330':'휘발유',\n",
    "    'LINCOLN MKX':'휘발유',\n",
    "    'MAZDA MAZDA6':'휘발유',\n",
    "    'MAZDA SENTA':'휘발유',\n",
    "    'MERCEDES BENZ':'휘발유',\n",
    "    'MERCEDES-BENZ':'휘발유',\n",
    "    'MERCEDES-BENZ CLS 550':'경유',\n",
    "    'MERCEDES-BENZ E-350':'휘발유',\n",
    "    'MERCEDES-BENZ E-CLASS':'휘발유',\n",
    "    'MERCEDES-BENZ R-CLASS 3500':'경유',\n",
    "    'MERCEDES-BENZ S 500':'휘발유',\n",
    "    'MERCEDES-BENZ S65':'경유',\n",
    "    'MERCURY MILAN':'휘발유',\n",
    "    'NEW 그랜저XG':'휘발유',\n",
    "    'NISSAN MURANO':'휘발유',\n",
    "    'NISSAN ROGUE 3.5':'휘발유',\n",
    "    'NISSAN XTERRA':'휘발유',\n",
    "    'OLDSMOBILE BRAVADA':'휘발유',\n",
    "    'OLDSMOBILESILHOUET':'휘발유',\n",
    "    'PLYMOUTH':'휘발유',\n",
    "    'PONTIAC SUNBIRD':'휘발유',\n",
    "    'PONTIAC VIBE':'휘발유',\n",
    "    'PONTIAC VIBE BASE':'휘발유',\n",
    "    'PORSCHE':'휘발유',\n",
    "    'ROYALE':'휘발유',\n",
    "    'ROYALSALON':'휘발유',\n",
    "    'RX7':'휘발유',\n",
    "    'SANTAFE':'휘발유',\n",
    "    'SEPHIA':'휘발유',\n",
    "    'SILHOUET':'휘발유',\n",
    "    'SPORTAGE':'휘발유',\n",
    "    'STAREX':'휘발유',\n",
    "    'SUNDANCE':'휘발유',\n",
    "    'TAURUS':'휘발유',\n",
    "    'TOYOTA 4-RUNNER':'경유',\n",
    "    'TOYOTA AVALON':'휘발유',\n",
    "    'TOYOTA COROLLA':'휘발유',\n",
    "    'TOYOTA ESTIIM':'휘발유',\n",
    "    'TOYOTA MATRIX':'휘발유',\n",
    "    'TOYOTA SIENNA':'휘발유',\n",
    "    'TOYOTA SR-5':'휘발유',\n",
    "    'VISION':'휘발유',\n",
    "    'VOLKSWAGEN JETTA':'휘발유',\n",
    "    'VOLVO 7G1':'휘발유',\n",
    "    'VOLVO 960':'휘발유',\n",
    "    'VOLVO S60':'휘발유',\n",
    "    'VOLVO S80':'휘발유',\n",
    "    'VOLVO T5':'휘발유',\n",
    "    'VOLVO XC60':'휘발유',\n",
    "    'VOLVO XC90':'휘발유',\n",
    "    '그랜저2.0':'휘발유',\n",
    "    '그랜저XG300L':'휘발유',\n",
    "    '기아마스타':'경유',\n",
    "    '뉴복사담프':'경유',\n",
    "    '뉴비틀2.0':'휘발유',\n",
    "    '닛산실비아2.0':'휘발유',\n",
    "    '닛산씨마그로리아':'휘발유',\n",
    "    '다임24KL에틸렌글리콜트레일러':'무동력',\n",
    "    '다찌람밴':'휘발유',\n",
    "    '대우11톤카고트럭':'경유',\n",
    "    '대흥저상트레일러':'무동력',\n",
    "    '도오다':'휘발유',\n",
    "    '도요다MR2':'휘발유',\n",
    "    '도요다세라':'휘발유',\n",
    "    '도요다슈프라':'휘발유',\n",
    "    '도요다크라운':'휘발유',\n",
    "    '라비타(LAVITA)':'휘발유',\n",
    "    '로얄살롱':'휘발유',\n",
    "    '르망':'휘발유',\n",
    "    '링컨MARK7':'경유',\n",
    "    '벤츠 C300':'휘발유',\n",
    "    '벤츠190E':'휘발유',\n",
    "    '벤츠C280':'휘발유',\n",
    "    '벤츠E230':'휘발유',\n",
    "    '벤츠S320':'휘발유',\n",
    "    '블루버드':'휘발유',\n",
    "    '사파리':'휘발유',\n",
    "    '새턴':'휘발유',\n",
    "    '새한2.5톤카고':'경유',\n",
    "    '셀리카-GT':'휘발유',\n",
    "    '소나타':'휘발유',\n",
    "    '소나타1800오토매틱':'휘발유',\n",
    "    '수프라':'휘발유',\n",
    "    '시보레':'휘발유',\n",
    "    '시보레카베리아':'휘발유',\n",
    "    '쏘나타':'휘발유',\n",
    "    '아큐라':'휘발유',\n",
    "    '에스페로':'휘발유',\n",
    "    '엑셀운전교습용차량':'휘발유',\n",
    "    '원흥식 트럭':'경유',\n",
    "    '제설차':'경유',\n",
    "    '지프':'경유',\n",
    "    '체로키':'휘발유',\n",
    "    '캠리':'휘발유',\n",
    "    '코르시카':'휘발유',\n",
    "    '코우거':'휘발유',\n",
    "    '코티나디럭스':'휘발유',\n",
    "    '크로마터보i.e':'휘발유',\n",
    "    '티코(TICO)':'휘발유',\n",
    "    '포니':'휘발유',\n",
    "    '포니2-L.P.G':'LPG(액화석유가스)',\n",
    "    '포니2-LPG':'LPG(액화석유가스)',\n",
    "    '포르쉐':'휘발유',\n",
    "    '프레스토오토메틱':'휘발유',\n",
    "    '프리무스':'휘발유 하이브리드',\n",
    "    '한원40A콤비콘테이너트레일러':'무동력',\n",
    "    '한원40피트구즈넥트레일러':'무동력',\n",
    "    '현대3톤트럭':'경유',\n",
    "    '현대포터':'경유',\n",
    "    '혼다 CR-V':'경유',\n",
    "}"
   ]
  },
  {
   "cell_type": "code",
   "execution_count": 115,
   "metadata": {},
   "outputs": [
    {
     "data": {
      "text/plain": [
       "216"
      ]
     },
     "execution_count": 115,
     "metadata": {},
     "output_type": "execute_result"
    }
   ],
   "source": [
    "len(carname_fuel_dict)"
   ]
  },
  {
   "cell_type": "code",
   "execution_count": 116,
   "metadata": {},
   "outputs": [
    {
     "data": {
      "text/plain": [
       "연료\n",
       "휘발유            12176278\n",
       "경유              9890757\n",
       "LPG(액화석유가스)     1904172\n",
       "휘발유 하이브리드       1095728\n",
       "전기               368686\n",
       "NaN              146763\n",
       "경유 하이브리드          35777\n",
       "CNG(압축천연가스)       30461\n",
       "수소                28227\n",
       "LPG 하이브리드         14352\n",
       "기타연료                933\n",
       "CNG 하이브리드           304\n",
       "LNG(액화천연가스)          27\n",
       "알코올                   3\n",
       "태양열                   2\n",
       "등유                    1\n",
       "Name: count, dtype: int64"
      ]
     },
     "execution_count": 116,
     "metadata": {},
     "output_type": "execute_result"
    }
   ],
   "source": [
    "dfn['연료'].value_counts(dropna=False)"
   ]
  },
  {
   "cell_type": "markdown",
   "metadata": {},
   "source": [
    "#### 차명, 연료 매칭"
   ]
  },
  {
   "cell_type": "code",
   "execution_count": 117,
   "metadata": {},
   "outputs": [],
   "source": [
    "# # about 5m \n",
    "# for k, v in tqdm(carname_fuel_dict.items()):\n",
    "#     dfn.loc[(dfn['차명'] == k) & ((dfn['연료'].isnull() == True) | (dfn['연료'].isnull() == '기타연료')), '연료'] = v"
   ]
  },
  {
   "cell_type": "code",
   "execution_count": 118,
   "metadata": {},
   "outputs": [
    {
     "data": {
      "text/plain": [
       "연료\n",
       "휘발유            12176278\n",
       "경유              9890757\n",
       "LPG(액화석유가스)     1904172\n",
       "휘발유 하이브리드       1095728\n",
       "전기               368686\n",
       "NaN              146763\n",
       "경유 하이브리드          35777\n",
       "CNG(압축천연가스)       30461\n",
       "수소                28227\n",
       "LPG 하이브리드         14352\n",
       "기타연료                933\n",
       "CNG 하이브리드           304\n",
       "LNG(액화천연가스)          27\n",
       "알코올                   3\n",
       "태양열                   2\n",
       "등유                    1\n",
       "Name: count, dtype: int64"
      ]
     },
     "execution_count": 118,
     "metadata": {},
     "output_type": "execute_result"
    }
   ],
   "source": [
    "dfn['연료'].value_counts(dropna=False)"
   ]
  },
  {
   "cell_type": "code",
   "execution_count": 119,
   "metadata": {},
   "outputs": [],
   "source": [
    "dfn.loc[(dfn['배출가스등급'] == '2') | (dfn['배출가스등급'] == 'T2'), '배출가스등급'] = '2'\n",
    "dfn.loc[(dfn['배출가스등급'] == '3') | (dfn['배출가스등급'] == 'T3'), '배출가스등급'] = '3'\n",
    "dfn.loc[(dfn['배출가스등급'] == '4') | (dfn['배출가스등급'] == 'T4'), '배출가스등급'] = '4'\n",
    "dfn.loc[(dfn['배출가스등급'] == '5') | (dfn['배출가스등급'] == 'T5'), '배출가스등급'] = '5'\n",
    "dfn.loc[(dfn['배출가스등급'] == 'X') | (dfn['배출가스등급'].isnull() == True), '배출가스등급'] = 'X'"
   ]
  },
  {
   "cell_type": "code",
   "execution_count": 120,
   "metadata": {},
   "outputs": [
    {
     "data": {
      "text/plain": [
       "array(['X', '1', '2', '3', '4', '5'], dtype=object)"
      ]
     },
     "execution_count": 120,
     "metadata": {},
     "output_type": "execute_result"
    }
   ],
   "source": [
    "dfn['배출가스등급'].unique()"
   ]
  },
  {
   "cell_type": "code",
   "execution_count": 121,
   "metadata": {},
   "outputs": [
    {
     "data": {
      "text/plain": [
       "배출가스등급\n",
       "2    11207275\n",
       "3     8759209\n",
       "1     2771362\n",
       "4     1511139\n",
       "5     1154696\n",
       "X      288790\n",
       "Name: count, dtype: int64"
      ]
     },
     "execution_count": 121,
     "metadata": {},
     "output_type": "execute_result"
    }
   ],
   "source": [
    "dfn['배출가스등급'].value_counts(dropna=False)"
   ]
  },
  {
   "cell_type": "code",
   "execution_count": 122,
   "metadata": {},
   "outputs": [
    {
     "data": {
      "text/html": [
       "<div>\n",
       "<style scoped>\n",
       "    .dataframe tbody tr th:only-of-type {\n",
       "        vertical-align: middle;\n",
       "    }\n",
       "\n",
       "    .dataframe tbody tr th {\n",
       "        vertical-align: top;\n",
       "    }\n",
       "\n",
       "    .dataframe thead th {\n",
       "        text-align: right;\n",
       "    }\n",
       "</style>\n",
       "<table border=\"1\" class=\"dataframe\">\n",
       "  <thead>\n",
       "    <tr style=\"text-align: right;\">\n",
       "      <th>배출가스등급</th>\n",
       "      <th>1</th>\n",
       "      <th>2</th>\n",
       "      <th>3</th>\n",
       "      <th>4</th>\n",
       "      <th>5</th>\n",
       "      <th>X</th>\n",
       "    </tr>\n",
       "    <tr>\n",
       "      <th>연료</th>\n",
       "      <th></th>\n",
       "      <th></th>\n",
       "      <th></th>\n",
       "      <th></th>\n",
       "      <th></th>\n",
       "      <th></th>\n",
       "    </tr>\n",
       "  </thead>\n",
       "  <tbody>\n",
       "    <tr>\n",
       "      <th>CNG 하이브리드</th>\n",
       "      <td>287.0</td>\n",
       "      <td>17.0</td>\n",
       "      <td>NaN</td>\n",
       "      <td>NaN</td>\n",
       "      <td>NaN</td>\n",
       "      <td>NaN</td>\n",
       "    </tr>\n",
       "    <tr>\n",
       "      <th>CNG(압축천연가스)</th>\n",
       "      <td>NaN</td>\n",
       "      <td>24307.0</td>\n",
       "      <td>5998.0</td>\n",
       "      <td>1.0</td>\n",
       "      <td>5.0</td>\n",
       "      <td>150.0</td>\n",
       "    </tr>\n",
       "    <tr>\n",
       "      <th>LNG(액화천연가스)</th>\n",
       "      <td>NaN</td>\n",
       "      <td>25.0</td>\n",
       "      <td>NaN</td>\n",
       "      <td>NaN</td>\n",
       "      <td>NaN</td>\n",
       "      <td>2.0</td>\n",
       "    </tr>\n",
       "    <tr>\n",
       "      <th>LPG 하이브리드</th>\n",
       "      <td>14349.0</td>\n",
       "      <td>1.0</td>\n",
       "      <td>NaN</td>\n",
       "      <td>NaN</td>\n",
       "      <td>NaN</td>\n",
       "      <td>2.0</td>\n",
       "    </tr>\n",
       "    <tr>\n",
       "      <th>LPG(액화석유가스)</th>\n",
       "      <td>461743.0</td>\n",
       "      <td>1171738.0</td>\n",
       "      <td>236584.0</td>\n",
       "      <td>26089.0</td>\n",
       "      <td>436.0</td>\n",
       "      <td>7582.0</td>\n",
       "    </tr>\n",
       "    <tr>\n",
       "      <th>경유</th>\n",
       "      <td>NaN</td>\n",
       "      <td>NaN</td>\n",
       "      <td>7583997.0</td>\n",
       "      <td>1152631.0</td>\n",
       "      <td>1124162.0</td>\n",
       "      <td>29967.0</td>\n",
       "    </tr>\n",
       "    <tr>\n",
       "      <th>경유 하이브리드</th>\n",
       "      <td>NaN</td>\n",
       "      <td>NaN</td>\n",
       "      <td>34190.0</td>\n",
       "      <td>NaN</td>\n",
       "      <td>NaN</td>\n",
       "      <td>1587.0</td>\n",
       "    </tr>\n",
       "    <tr>\n",
       "      <th>기타연료</th>\n",
       "      <td>NaN</td>\n",
       "      <td>NaN</td>\n",
       "      <td>3.0</td>\n",
       "      <td>39.0</td>\n",
       "      <td>25.0</td>\n",
       "      <td>866.0</td>\n",
       "    </tr>\n",
       "    <tr>\n",
       "      <th>등유</th>\n",
       "      <td>NaN</td>\n",
       "      <td>NaN</td>\n",
       "      <td>NaN</td>\n",
       "      <td>NaN</td>\n",
       "      <td>NaN</td>\n",
       "      <td>1.0</td>\n",
       "    </tr>\n",
       "    <tr>\n",
       "      <th>수소</th>\n",
       "      <td>28102.0</td>\n",
       "      <td>NaN</td>\n",
       "      <td>NaN</td>\n",
       "      <td>NaN</td>\n",
       "      <td>NaN</td>\n",
       "      <td>125.0</td>\n",
       "    </tr>\n",
       "    <tr>\n",
       "      <th>알코올</th>\n",
       "      <td>NaN</td>\n",
       "      <td>NaN</td>\n",
       "      <td>NaN</td>\n",
       "      <td>1.0</td>\n",
       "      <td>1.0</td>\n",
       "      <td>1.0</td>\n",
       "    </tr>\n",
       "    <tr>\n",
       "      <th>전기</th>\n",
       "      <td>366802.0</td>\n",
       "      <td>NaN</td>\n",
       "      <td>NaN</td>\n",
       "      <td>NaN</td>\n",
       "      <td>NaN</td>\n",
       "      <td>1884.0</td>\n",
       "    </tr>\n",
       "    <tr>\n",
       "      <th>태양열</th>\n",
       "      <td>NaN</td>\n",
       "      <td>NaN</td>\n",
       "      <td>NaN</td>\n",
       "      <td>NaN</td>\n",
       "      <td>NaN</td>\n",
       "      <td>2.0</td>\n",
       "    </tr>\n",
       "    <tr>\n",
       "      <th>휘발유</th>\n",
       "      <td>969074.0</td>\n",
       "      <td>9870792.0</td>\n",
       "      <td>898299.0</td>\n",
       "      <td>332307.0</td>\n",
       "      <td>30040.0</td>\n",
       "      <td>75766.0</td>\n",
       "    </tr>\n",
       "    <tr>\n",
       "      <th>휘발유 하이브리드</th>\n",
       "      <td>931005.0</td>\n",
       "      <td>140369.0</td>\n",
       "      <td>NaN</td>\n",
       "      <td>NaN</td>\n",
       "      <td>NaN</td>\n",
       "      <td>24354.0</td>\n",
       "    </tr>\n",
       "    <tr>\n",
       "      <th>NaN</th>\n",
       "      <td>NaN</td>\n",
       "      <td>26.0</td>\n",
       "      <td>138.0</td>\n",
       "      <td>71.0</td>\n",
       "      <td>27.0</td>\n",
       "      <td>146501.0</td>\n",
       "    </tr>\n",
       "  </tbody>\n",
       "</table>\n",
       "</div>"
      ],
      "text/plain": [
       "배출가스등급              1          2          3          4          5         X\n",
       "연료                                                                         \n",
       "CNG 하이브리드       287.0       17.0        NaN        NaN        NaN       NaN\n",
       "CNG(압축천연가스)       NaN    24307.0     5998.0        1.0        5.0     150.0\n",
       "LNG(액화천연가스)       NaN       25.0        NaN        NaN        NaN       2.0\n",
       "LPG 하이브리드     14349.0        1.0        NaN        NaN        NaN       2.0\n",
       "LPG(액화석유가스)  461743.0  1171738.0   236584.0    26089.0      436.0    7582.0\n",
       "경유                NaN        NaN  7583997.0  1152631.0  1124162.0   29967.0\n",
       "경유 하이브리드          NaN        NaN    34190.0        NaN        NaN    1587.0\n",
       "기타연료              NaN        NaN        3.0       39.0       25.0     866.0\n",
       "등유                NaN        NaN        NaN        NaN        NaN       1.0\n",
       "수소            28102.0        NaN        NaN        NaN        NaN     125.0\n",
       "알코올               NaN        NaN        NaN        1.0        1.0       1.0\n",
       "전기           366802.0        NaN        NaN        NaN        NaN    1884.0\n",
       "태양열               NaN        NaN        NaN        NaN        NaN       2.0\n",
       "휘발유          969074.0  9870792.0   898299.0   332307.0    30040.0   75766.0\n",
       "휘발유 하이브리드    931005.0   140369.0        NaN        NaN        NaN   24354.0\n",
       "NaN               NaN       26.0      138.0       71.0       27.0  146501.0"
      ]
     },
     "execution_count": 122,
     "metadata": {},
     "output_type": "execute_result"
    }
   ],
   "source": [
    "grp = dfn.groupby(['배출가스등급', '연료'], dropna=False)['차대번호'].count().unstack('배출가스등급')\n",
    "grp"
   ]
  },
  {
   "cell_type": "code",
   "execution_count": 123,
   "metadata": {},
   "outputs": [],
   "source": [
    "# \n",
    "grp.to_excel(os.path.join(an_fold, '통계_연료_등급별_차량현황(연료미수정).xlsx'))"
   ]
  },
  {
   "cell_type": "code",
   "execution_count": null,
   "metadata": {},
   "outputs": [],
   "source": []
  },
  {
   "cell_type": "markdown",
   "metadata": {},
   "source": [
    "# [로드] 등록&제원 정보 2022.12.28 기준 "
   ]
  },
  {
   "cell_type": "code",
   "execution_count": 7,
   "metadata": {},
   "outputs": [
    {
     "name": "stderr",
     "output_type": "stream",
     "text": [
      "100%|██████████| 5/5 [08:17<00:00, 99.58s/it] \n"
     ]
    }
   ],
   "source": [
    "# about 8m 22s\n",
    "df = pd.DataFrame()\n",
    "for i in tqdm(range(1, 6)):\n",
    "    file_name = f'[ODS][G{i}]등록정보&제원정보(말소제거)(2022.12.28).csv'\n",
    "    temp = pd.read_csv(os.path.join(ods_fold, file_name), encoding='cp949', low_memory=False)\n",
    "    temp = temp.sort_values(['최초등록일자', '배출가스검사유효일자'], ascending=[False, False]).drop_duplicates('차대번호').reset_index(drop=True)\n",
    "    df = pd.concat([df, temp], ignore_index=True)"
   ]
  },
  {
   "cell_type": "code",
   "execution_count": 8,
   "metadata": {},
   "outputs": [
    {
     "name": "stdout",
     "output_type": "stream",
     "text": [
      "<class 'pandas.core.frame.DataFrame'>\n",
      "RangeIndex: 25404385 entries, 0 to 25404384\n",
      "Data columns (total 49 columns):\n",
      " #   Column        Dtype  \n",
      "---  ------        -----  \n",
      " 0   차량관리번호        object \n",
      " 1   차량등록번호        object \n",
      " 2   본거지법정동코드      int64  \n",
      " 3   소유자구분         object \n",
      " 4   차종_등록정보       object \n",
      " 5   용도            object \n",
      " 6   현재회원번호        object \n",
      " 7   차대번호          object \n",
      " 8   최초등록일자        int64  \n",
      " 9   차량연식          int64  \n",
      " 10  차량제작일자        float64\n",
      " 11  배출가스검사유효일자    float64\n",
      " 12  제원관리번호        object \n",
      " 13  배출가스인증번호      object \n",
      " 14  배출가스등급        object \n",
      " 15  저공해조치YN(미사용)  object \n",
      " 16  저공해조치종류       float64\n",
      " 17  저공해조치구조변경YN   object \n",
      " 18  차량등록번호숫자정보    int64  \n",
      " 19  차량말소YN        object \n",
      " 20  최초회원번호        object \n",
      " 21  취득일자          object \n",
      " 22  취득금액          float64\n",
      " 23  생성일시_등록정보     object \n",
      " 24  수정일시_등록정보     object \n",
      " 25  차명            object \n",
      " 26  차종_제원정보       object \n",
      " 27  차종분류          object \n",
      " 28  차종유형(소분류)     object \n",
      " 29  자동차형식         object \n",
      " 30  제작사명          object \n",
      " 31  연료            object \n",
      " 32  엔진형식          object \n",
      " 33  공차중량          float64\n",
      " 34  총중량           float64\n",
      " 35  적재중량          float64\n",
      " 36  엔진출력          float64\n",
      " 37  배기량           float64\n",
      " 38  승차인원          float64\n",
      " 39  차량길이          float64\n",
      " 40  차량너비          float64\n",
      " 41  차량높이          float64\n",
      " 42  원산지명          object \n",
      " 43  삭제YN          object \n",
      " 44  승인일자          object \n",
      " 45  구동형식          float64\n",
      " 46  변속기종류         object \n",
      " 47  생성일시_제원정보     object \n",
      " 48  수정일시_제원정보     object \n",
      "dtypes: float64(14), int64(4), object(31)\n",
      "memory usage: 9.3+ GB\n"
     ]
    }
   ],
   "source": [
    "df.info()"
   ]
  },
  {
   "cell_type": "code",
   "execution_count": 9,
   "metadata": {},
   "outputs": [
    {
     "data": {
      "text/plain": [
       "(25404385, 49)"
      ]
     },
     "execution_count": 9,
     "metadata": {},
     "output_type": "execute_result"
    }
   ],
   "source": [
    "df.shape"
   ]
  },
  {
   "attachments": {},
   "cell_type": "markdown",
   "metadata": {},
   "source": [
    "# [로드] 본거지법정동코드"
   ]
  },
  {
   "cell_type": "code",
   "execution_count": 10,
   "metadata": {},
   "outputs": [
    {
     "name": "stdout",
     "output_type": "stream",
     "text": [
      "<class 'pandas.core.frame.DataFrame'>\n",
      "RangeIndex: 46340 entries, 0 to 46339\n",
      "Data columns (total 9 columns):\n",
      " #   Column    Non-Null Count  Dtype  \n",
      "---  ------    --------------  -----  \n",
      " 0   법정동코드     46340 non-null  int64  \n",
      " 1   시도        46340 non-null  object \n",
      " 2   시구군       46317 non-null  object \n",
      " 3   읍면동       45847 non-null  object \n",
      " 4   리         33682 non-null  object \n",
      " 5   지역3       0 non-null      float64\n",
      " 6   폐지여부      46340 non-null  object \n",
      " 7   대기관리권역    46340 non-null  object \n",
      " 8   대기관리권역YN  46334 non-null  object \n",
      "dtypes: float64(1), int64(1), object(7)\n",
      "memory usage: 3.2+ MB\n"
     ]
    }
   ],
   "source": [
    "file_name = '법정동코드_2022.10.14.xlsx'\n",
    "code = pd.read_excel(os.path.join(fold, file_name))\n",
    "code.info()"
   ]
  },
  {
   "attachments": {},
   "cell_type": "markdown",
   "metadata": {},
   "source": [
    "# [merge] 법정동코드 기준"
   ]
  },
  {
   "cell_type": "code",
   "execution_count": 11,
   "metadata": {},
   "outputs": [
    {
     "data": {
      "text/plain": [
       "0"
      ]
     },
     "execution_count": 11,
     "metadata": {},
     "output_type": "execute_result"
    }
   ],
   "source": [
    "# '본거지법정도코드'열 데이터 확인\n",
    "df['본거지법정동코드'].isnull().sum()"
   ]
  },
  {
   "cell_type": "code",
   "execution_count": 12,
   "metadata": {},
   "outputs": [
    {
     "data": {
      "text/plain": [
       "(25404385, 49)"
      ]
     },
     "execution_count": 12,
     "metadata": {},
     "output_type": "execute_result"
    }
   ],
   "source": [
    "df.shape"
   ]
  },
  {
   "cell_type": "code",
   "execution_count": 13,
   "metadata": {},
   "outputs": [
    {
     "data": {
      "text/plain": [
       "(25404385, 58)"
      ]
     },
     "execution_count": 13,
     "metadata": {},
     "output_type": "execute_result"
    }
   ],
   "source": [
    "# about 40s\n",
    "tot = df.merge(code, left_on='본거지법정동코드', right_on='법정동코드', how='left')\n",
    "tot.shape"
   ]
  },
  {
   "cell_type": "code",
   "execution_count": 14,
   "metadata": {},
   "outputs": [
    {
     "data": {
      "text/plain": [
       "25404384"
      ]
     },
     "execution_count": 14,
     "metadata": {},
     "output_type": "execute_result"
    }
   ],
   "source": [
    "len(tot['차대번호'].unique())"
   ]
  },
  {
   "cell_type": "code",
   "execution_count": 15,
   "metadata": {},
   "outputs": [
    {
     "data": {
      "text/plain": [
       "0"
      ]
     },
     "execution_count": 15,
     "metadata": {},
     "output_type": "execute_result"
    }
   ],
   "source": [
    "tot['차대번호'].isnull().sum()"
   ]
  },
  {
   "attachments": {},
   "cell_type": "markdown",
   "metadata": {},
   "source": [
    "# 전처리"
   ]
  },
  {
   "attachments": {},
   "cell_type": "markdown",
   "metadata": {},
   "source": [
    "## 말소제거\n",
    "- 차량말소YN"
   ]
  },
  {
   "cell_type": "code",
   "execution_count": 16,
   "metadata": {},
   "outputs": [
    {
     "data": {
      "text/plain": [
       "N    25404385\n",
       "Name: 차량말소YN, dtype: int64"
      ]
     },
     "execution_count": 16,
     "metadata": {},
     "output_type": "execute_result"
    }
   ],
   "source": [
    "tot['차량말소YN'].value_counts(dropna=False)"
   ]
  },
  {
   "cell_type": "code",
   "execution_count": 17,
   "metadata": {},
   "outputs": [
    {
     "data": {
      "text/plain": [
       "Index(['차량관리번호', '차량등록번호', '본거지법정동코드', '소유자구분', '차종_등록정보', '용도', '현재회원번호',\n",
       "       '차대번호', '최초등록일자', '차량연식', '차량제작일자', '배출가스검사유효일자', '제원관리번호', '배출가스인증번호',\n",
       "       '배출가스등급', '저공해조치YN(미사용)', '저공해조치종류', '저공해조치구조변경YN', '차량등록번호숫자정보',\n",
       "       '차량말소YN', '최초회원번호', '취득일자', '취득금액', '생성일시_등록정보', '수정일시_등록정보', '차명',\n",
       "       '차종_제원정보', '차종분류', '차종유형(소분류)', '자동차형식', '제작사명', '연료', '엔진형식', '공차중량',\n",
       "       '총중량', '적재중량', '엔진출력', '배기량', '승차인원', '차량길이', '차량너비', '차량높이', '원산지명',\n",
       "       '삭제YN', '승인일자', '구동형식', '변속기종류', '생성일시_제원정보', '수정일시_제원정보', '법정동코드',\n",
       "       '시도', '시구군', '읍면동', '리', '지역3', '폐지여부', '대기관리권역', '대기관리권역YN'],\n",
       "      dtype='object')"
      ]
     },
     "execution_count": 17,
     "metadata": {},
     "output_type": "execute_result"
    }
   ],
   "source": [
    "tot.columns"
   ]
  },
  {
   "cell_type": "code",
   "execution_count": 18,
   "metadata": {},
   "outputs": [
    {
     "data": {
      "text/plain": [
       "승용    20978861\n",
       "화물     3589389\n",
       "승합      718770\n",
       "특수      117351\n",
       "Name: 차종_등록정보, dtype: int64"
      ]
     },
     "execution_count": 18,
     "metadata": {},
     "output_type": "execute_result"
    }
   ],
   "source": [
    "tot['차종_등록정보'].value_counts()"
   ]
  },
  {
   "cell_type": "code",
   "execution_count": 19,
   "metadata": {},
   "outputs": [
    {
     "data": {
      "text/plain": [
       "승용    20952919\n",
       "화물     3597795\n",
       "승합      744096\n",
       "특수      109575\n",
       "Name: 차종_제원정보, dtype: int64"
      ]
     },
     "execution_count": 19,
     "metadata": {},
     "output_type": "execute_result"
    }
   ],
   "source": [
    "tot['차종_제원정보'].value_counts()"
   ]
  },
  {
   "cell_type": "code",
   "execution_count": 20,
   "metadata": {},
   "outputs": [
    {
     "data": {
      "text/plain": [
       "일반             14491814\n",
       "다목적             5670454\n",
       "일반형-카고          2321758\n",
       "기타              1411153\n",
       "특수용도형-특수용도형      487937\n",
       "일반형-픽업           366795\n",
       "밴                357182\n",
       "승용겸화물            102410\n",
       "덤프                53290\n",
       "특수작업형             41819\n",
       "견인                40565\n",
       "특수                21186\n",
       "특수용도형             15932\n",
       "구난                11255\n",
       "특수용도형-탱크로리        10832\n",
       "특수용도형-피견인             3\n",
       "Name: 차종분류, dtype: int64"
      ]
     },
     "execution_count": 20,
     "metadata": {},
     "output_type": "execute_result"
    }
   ],
   "source": [
    "tot['차종분류'].value_counts()"
   ]
  },
  {
   "cell_type": "code",
   "execution_count": 21,
   "metadata": {},
   "outputs": [
    {
     "data": {
      "text/plain": [
       "3.0     4529093\n",
       "1.0     1247383\n",
       "11.0     891913\n",
       "4.0      447899\n",
       "13.0     187605\n",
       "2.0      114561\n",
       "14.0      26427\n",
       "12.0       7860\n",
       "19.0       6161\n",
       "18.0       6103\n",
       "15.0       5265\n",
       "30.0        227\n",
       "31.0         50\n",
       "16.0         24\n",
       "17.0         10\n",
       "20.0          5\n",
       "Name: 구동형식, dtype: int64"
      ]
     },
     "execution_count": 21,
     "metadata": {},
     "output_type": "execute_result"
    }
   ],
   "source": [
    "tot['구동형식'].value_counts()"
   ]
  },
  {
   "cell_type": "code",
   "execution_count": 22,
   "metadata": {},
   "outputs": [
    {
     "data": {
      "text/plain": [
       "대한민국        22243095\n",
       "독일           1500532\n",
       "미국            558103\n",
       "일본            300730\n",
       "영국            161847\n",
       "              ...   \n",
       "칠레                 1\n",
       "인도네시아              1\n",
       "생피에르 미클롱           1\n",
       "파키스탄               1\n",
       "아이티                1\n",
       "Name: 원산지명, Length: 65, dtype: int64"
      ]
     },
     "execution_count": 22,
     "metadata": {},
     "output_type": "execute_result"
    }
   ],
   "source": [
    "tot['원산지명'].value_counts()"
   ]
  },
  {
   "attachments": {},
   "cell_type": "markdown",
   "metadata": {},
   "source": [
    "## 폐지여부 확인"
   ]
  },
  {
   "cell_type": "code",
   "execution_count": 23,
   "metadata": {},
   "outputs": [
    {
     "data": {
      "text/plain": [
       "존재     25322420\n",
       "폐지        81963\n",
       "NaN           2\n",
       "Name: 폐지여부, dtype: int64"
      ]
     },
     "execution_count": 23,
     "metadata": {},
     "output_type": "execute_result"
    }
   ],
   "source": [
    "tot['폐지여부'].value_counts(dropna=False)"
   ]
  },
  {
   "attachments": {},
   "cell_type": "markdown",
   "metadata": {},
   "source": [
    "## 법정동코드 확인"
   ]
  },
  {
   "cell_type": "code",
   "execution_count": 24,
   "metadata": {},
   "outputs": [
    {
     "data": {
      "text/plain": [
       "3"
      ]
     },
     "execution_count": 24,
     "metadata": {},
     "output_type": "execute_result"
    }
   ],
   "source": [
    "tot['대기관리권역YN'].isnull().sum()"
   ]
  },
  {
   "cell_type": "code",
   "execution_count": 25,
   "metadata": {},
   "outputs": [
    {
     "data": {
      "text/html": [
       "<div>\n",
       "<style scoped>\n",
       "    .dataframe tbody tr th:only-of-type {\n",
       "        vertical-align: middle;\n",
       "    }\n",
       "\n",
       "    .dataframe tbody tr th {\n",
       "        vertical-align: top;\n",
       "    }\n",
       "\n",
       "    .dataframe thead th {\n",
       "        text-align: right;\n",
       "    }\n",
       "</style>\n",
       "<table border=\"1\" class=\"dataframe\">\n",
       "  <thead>\n",
       "    <tr style=\"text-align: right;\">\n",
       "      <th></th>\n",
       "      <th>본거지법정동코드</th>\n",
       "      <th>시도</th>\n",
       "      <th>시구군</th>\n",
       "      <th>읍면동</th>\n",
       "      <th>리</th>\n",
       "      <th>지역3</th>\n",
       "      <th>차량말소YN</th>\n",
       "      <th>차량연식</th>\n",
       "      <th>배출가스등급</th>\n",
       "      <th>차대번호</th>\n",
       "      <th>폐지여부</th>\n",
       "      <th>대기관리권역</th>\n",
       "      <th>대기관리권역YN</th>\n",
       "    </tr>\n",
       "  </thead>\n",
       "  <tbody>\n",
       "    <tr>\n",
       "      <th>24137513</th>\n",
       "      <td>4163055000</td>\n",
       "      <td>NaN</td>\n",
       "      <td>NaN</td>\n",
       "      <td>NaN</td>\n",
       "      <td>NaN</td>\n",
       "      <td>NaN</td>\n",
       "      <td>N</td>\n",
       "      <td>1992</td>\n",
       "      <td>4</td>\n",
       "      <td>KMHVE21NPNU122861</td>\n",
       "      <td>NaN</td>\n",
       "      <td>NaN</td>\n",
       "      <td>NaN</td>\n",
       "    </tr>\n",
       "    <tr>\n",
       "      <th>24922881</th>\n",
       "      <td>4165052000</td>\n",
       "      <td>NaN</td>\n",
       "      <td>NaN</td>\n",
       "      <td>NaN</td>\n",
       "      <td>NaN</td>\n",
       "      <td>NaN</td>\n",
       "      <td>N</td>\n",
       "      <td>2002</td>\n",
       "      <td>5</td>\n",
       "      <td>KMFGA17AP2C167888</td>\n",
       "      <td>NaN</td>\n",
       "      <td>NaN</td>\n",
       "      <td>NaN</td>\n",
       "    </tr>\n",
       "    <tr>\n",
       "      <th>25398594</th>\n",
       "      <td>4100000000</td>\n",
       "      <td>경기</td>\n",
       "      <td>NaN</td>\n",
       "      <td>NaN</td>\n",
       "      <td>NaN</td>\n",
       "      <td>NaN</td>\n",
       "      <td>N</td>\n",
       "      <td>1974</td>\n",
       "      <td>5</td>\n",
       "      <td>10742255732</td>\n",
       "      <td>존재</td>\n",
       "      <td>수도권</td>\n",
       "      <td>NaN</td>\n",
       "    </tr>\n",
       "  </tbody>\n",
       "</table>\n",
       "</div>"
      ],
      "text/plain": [
       "            본거지법정동코드   시도  시구군  읍면동    리  지역3 차량말소YN  차량연식 배출가스등급  \\\n",
       "24137513  4163055000  NaN  NaN  NaN  NaN  NaN      N  1992      4   \n",
       "24922881  4165052000  NaN  NaN  NaN  NaN  NaN      N  2002      5   \n",
       "25398594  4100000000   경기  NaN  NaN  NaN  NaN      N  1974      5   \n",
       "\n",
       "                       차대번호 폐지여부 대기관리권역 대기관리권역YN  \n",
       "24137513  KMHVE21NPNU122861  NaN    NaN      NaN  \n",
       "24922881  KMFGA17AP2C167888  NaN    NaN      NaN  \n",
       "25398594        10742255732   존재    수도권      NaN  "
      ]
     },
     "execution_count": 25,
     "metadata": {},
     "output_type": "execute_result"
    }
   ],
   "source": [
    "tot.loc[tot['대기관리권역YN'].isnull() == True, ['본거지법정동코드', '시도', '시구군', '읍면동', '리', '지역3', '차량말소YN', '차량연식', '배출가스등급', '차대번호', '폐지여부', '대기관리권역', '대기관리권역YN']]"
   ]
  },
  {
   "cell_type": "code",
   "execution_count": 26,
   "metadata": {},
   "outputs": [],
   "source": [
    "tot.loc[tot['본거지법정동코드'] == 4163055000, ['시도', '시구군', '대기관리권역', '대기관리권역YN',]] = ['경기', '양주시', '수도권', 'Y']\n",
    "tot.loc[tot['본거지법정동코드'] == 4165052000, ['시도', '시구군', '대기관리권역', '대기관리권역YN',]] = ['경기', '포천시', '수도권', 'Y']\n",
    "tot.loc[tot['본거지법정동코드'] == 4100000000, '대기관리권역YN'] = 'Y'"
   ]
  },
  {
   "cell_type": "code",
   "execution_count": 27,
   "metadata": {},
   "outputs": [
    {
     "data": {
      "text/html": [
       "<div>\n",
       "<style scoped>\n",
       "    .dataframe tbody tr th:only-of-type {\n",
       "        vertical-align: middle;\n",
       "    }\n",
       "\n",
       "    .dataframe tbody tr th {\n",
       "        vertical-align: top;\n",
       "    }\n",
       "\n",
       "    .dataframe thead th {\n",
       "        text-align: right;\n",
       "    }\n",
       "</style>\n",
       "<table border=\"1\" class=\"dataframe\">\n",
       "  <thead>\n",
       "    <tr style=\"text-align: right;\">\n",
       "      <th></th>\n",
       "      <th>본거지법정동코드</th>\n",
       "      <th>시도</th>\n",
       "      <th>시구군</th>\n",
       "      <th>읍면동</th>\n",
       "      <th>리</th>\n",
       "      <th>지역3</th>\n",
       "      <th>차량말소YN</th>\n",
       "      <th>차량연식</th>\n",
       "      <th>배출가스등급</th>\n",
       "      <th>차대번호</th>\n",
       "      <th>폐지여부</th>\n",
       "      <th>대기관리권역</th>\n",
       "      <th>대기관리권역YN</th>\n",
       "    </tr>\n",
       "  </thead>\n",
       "  <tbody>\n",
       "  </tbody>\n",
       "</table>\n",
       "</div>"
      ],
      "text/plain": [
       "Empty DataFrame\n",
       "Columns: [본거지법정동코드, 시도, 시구군, 읍면동, 리, 지역3, 차량말소YN, 차량연식, 배출가스등급, 차대번호, 폐지여부, 대기관리권역, 대기관리권역YN]\n",
       "Index: []"
      ]
     },
     "execution_count": 27,
     "metadata": {},
     "output_type": "execute_result"
    }
   ],
   "source": [
    "tot.loc[tot['대기관리권역YN'].isnull() == True, ['본거지법정동코드', '시도', '시구군', '읍면동', '리', '지역3', '차량말소YN', '차량연식', '배출가스등급', '차대번호', '폐지여부', '대기관리권역', '대기관리권역YN']]"
   ]
  },
  {
   "cell_type": "code",
   "execution_count": 28,
   "metadata": {},
   "outputs": [
    {
     "data": {
      "text/plain": [
       "0"
      ]
     },
     "execution_count": 28,
     "metadata": {},
     "output_type": "execute_result"
    }
   ],
   "source": [
    "tot['대기관리권역YN'].isnull().sum()"
   ]
  },
  {
   "attachments": {},
   "cell_type": "markdown",
   "metadata": {},
   "source": [
    "## 연료 확인"
   ]
  },
  {
   "cell_type": "code",
   "execution_count": 29,
   "metadata": {},
   "outputs": [
    {
     "data": {
      "text/plain": [
       "264"
      ]
     },
     "execution_count": 29,
     "metadata": {},
     "output_type": "execute_result"
    }
   ],
   "source": [
    "tot['연료'].isnull().sum()"
   ]
  },
  {
   "cell_type": "code",
   "execution_count": 30,
   "metadata": {},
   "outputs": [
    {
     "data": {
      "text/plain": [
       "휘발유            12101061\n",
       "경유              9860935\n",
       "LPG(액화석유가스)     1896594\n",
       "휘발유 하이브리드       1071375\n",
       "전기               366804\n",
       "경유 하이브리드          34191\n",
       "CNG(압축천연가스)       30311\n",
       "수소                28102\n",
       "LPG 하이브리드         14350\n",
       "CNG 하이브리드           304\n",
       "NaN                 264\n",
       "기타연료                 67\n",
       "LNG(액화천연가스)          25\n",
       "알코올                   2\n",
       "Name: 연료, dtype: int64"
      ]
     },
     "execution_count": 30,
     "metadata": {},
     "output_type": "execute_result"
    }
   ],
   "source": [
    "tot['연료'].value_counts(dropna=False)"
   ]
  },
  {
   "cell_type": "markdown",
   "metadata": {},
   "source": [
    "### 기타연료의 차명으로 매칭"
   ]
  },
  {
   "cell_type": "code",
   "execution_count": 31,
   "metadata": {},
   "outputs": [
    {
     "data": {
      "text/plain": [
       "{'HYUNDAI PRESTO',\n",
       " 'TOYOTA CAMRY하이브리드',\n",
       " '구급차(도요다)',\n",
       " '대우11톤카고',\n",
       " '대우8톤카고',\n",
       " '도요다웨곤엠브란스',\n",
       " '도요다코로나',\n",
       " '도요다크라운로얄싸롱',\n",
       " '도요타 프리우스(하이브리드)',\n",
       " '로얄살롱',\n",
       " '로얄살롱2.0AT',\n",
       " '르망',\n",
       " '르망펜타-5',\n",
       " '맥스디젤삼방',\n",
       " '머큐리 세이블',\n",
       " '벤즈 230E',\n",
       " '벤즈230E',\n",
       " '복사14',\n",
       " '브리샤2',\n",
       " '새한버스',\n",
       " '스텔라',\n",
       " '스텔라1.6CXL',\n",
       " '스텔라오토매틱',\n",
       " '아시아AM707중형버스',\n",
       " '에어스트림탐지견수송트레일러',\n",
       " '엑셀',\n",
       " '인타담프',\n",
       " '일산 육륜',\n",
       " '캐피탈',\n",
       " '코티나마크IV',\n",
       " '포니2',\n",
       " '프레스토오토매틱',\n",
       " '현대리어엔진버스',\n",
       " '홍성캠핑트레일러'}"
      ]
     },
     "execution_count": 31,
     "metadata": {},
     "output_type": "execute_result"
    }
   ],
   "source": [
    "set(tot.loc[tot['연료'] == '기타연료', '차명'].unique())"
   ]
  },
  {
   "cell_type": "markdown",
   "metadata": {},
   "source": [
    "### 연료 결측값의 차명으로 매칭"
   ]
  },
  {
   "cell_type": "code",
   "execution_count": 32,
   "metadata": {},
   "outputs": [
    {
     "data": {
      "text/plain": [
       "{'BENZ S500',\n",
       " 'BMW',\n",
       " 'BMW 3-SERIES',\n",
       " 'BMW 318I',\n",
       " 'BMW 325CI',\n",
       " 'BMW 325I',\n",
       " 'BMW 325i',\n",
       " 'BMW 328I',\n",
       " 'BMW 525I',\n",
       " 'BMW 528I',\n",
       " 'BMW 530I',\n",
       " 'BMW 5SERIES',\n",
       " 'BMW 750Li',\n",
       " 'BMW X3',\n",
       " 'BMW X5',\n",
       " 'BMW Z3',\n",
       " 'BMW530I',\n",
       " 'BUICK CENTURY',\n",
       " 'BUICK LESABRE',\n",
       " 'BUICK TERRAZA',\n",
       " 'CADILLAC CTS',\n",
       " 'CHEVROLET IMPALA',\n",
       " 'CHEVROLET PRIZM',\n",
       " 'CHRYSLER',\n",
       " 'CHRYSLER 300 LTD',\n",
       " 'CHRYSLER 300C',\n",
       " 'CHRYSLER HEMI AWD',\n",
       " 'CHRYSLER PT CRUISER',\n",
       " 'CHRYSLER TOWN & COUNTRY(7)',\n",
       " 'CIELO',\n",
       " 'CORSICA',\n",
       " 'COUGAR',\n",
       " 'DODGE CALIBER',\n",
       " 'DODGE CARAVAN',\n",
       " 'DODGE CHARGER',\n",
       " 'DODGE DAKOTA',\n",
       " 'DODGE DURANGO',\n",
       " 'DODGE GRAND CARAVAN',\n",
       " 'DODGE NEON SXT',\n",
       " 'EF소나타',\n",
       " 'ESCORT',\n",
       " 'FIREBIRD',\n",
       " 'FORD ESCAPE',\n",
       " 'FORD EXPEDITION',\n",
       " 'FORD EXPEDITION(8)',\n",
       " 'FORD EXPLORER',\n",
       " 'FORD FOCUS',\n",
       " 'FORD FREESTYLE(7)',\n",
       " 'FORD FUSION',\n",
       " 'FORD MUSTANG',\n",
       " 'FORD RANGER XLT',\n",
       " 'FORD WINDSTAR',\n",
       " 'G.M.C',\n",
       " 'G20',\n",
       " 'GMC',\n",
       " 'GMC JIMMY',\n",
       " 'GMC SIERRA',\n",
       " 'HONDA ACCORD',\n",
       " 'HONDA CR-V',\n",
       " 'HONDA CR-V EX',\n",
       " 'HONDA PILOT',\n",
       " 'HYUNDAI SONATA',\n",
       " 'HYUNDAI/SONATA',\n",
       " 'INFINITI G37S',\n",
       " 'JAGUAR X-TYPE',\n",
       " 'JEEP GRAND CHEROKEE',\n",
       " 'JEEP LIBERTY',\n",
       " 'JEEP PATRIOT',\n",
       " 'KIA OPTIMA',\n",
       " 'KIA SEDONA',\n",
       " 'LEXUS ES330',\n",
       " 'LEXUS ES350',\n",
       " 'LEXUS LS430',\n",
       " 'LEXUS RS330',\n",
       " 'LEXUS RX330',\n",
       " 'LINCOLN MKX',\n",
       " 'MAZDA MAZDA6',\n",
       " 'MAZDA SENTA',\n",
       " 'MERCEDES BENZ',\n",
       " 'MERCEDES-BENZ',\n",
       " 'MERCEDES-BENZ CLS 550',\n",
       " 'MERCEDES-BENZ E-350',\n",
       " 'MERCEDES-BENZ E-CLASS',\n",
       " 'MERCEDES-BENZ R-CLASS 3500',\n",
       " 'MERCEDES-BENZ S 500',\n",
       " 'MERCEDES-BENZ S65',\n",
       " 'MERCURY MILAN',\n",
       " 'NEW 그랜저XG',\n",
       " 'NISSAN MURANO',\n",
       " 'NISSAN ROGUE 3.5',\n",
       " 'NISSAN XTERRA',\n",
       " 'OLDSMOBILE BRAVADA',\n",
       " 'OLDSMOBILESILHOUET',\n",
       " 'PLYMOUTH',\n",
       " 'PONTIAC SUNBIRD',\n",
       " 'PONTIAC VIBE',\n",
       " 'PONTIAC VIBE BASE',\n",
       " 'PORSCHE',\n",
       " 'ROYALE',\n",
       " 'ROYALSALON',\n",
       " 'RX7',\n",
       " 'SANTAFE',\n",
       " 'SEPHIA',\n",
       " 'SILHOUET',\n",
       " 'SPORTAGE',\n",
       " 'STAREX',\n",
       " 'SUNDANCE',\n",
       " 'TAURUS',\n",
       " 'TOYOTA 4-RUNNER',\n",
       " 'TOYOTA AVALON',\n",
       " 'TOYOTA COROLLA',\n",
       " 'TOYOTA ESTIIM',\n",
       " 'TOYOTA MATRIX',\n",
       " 'TOYOTA SIENNA',\n",
       " 'TOYOTA SR-5',\n",
       " 'VISION',\n",
       " 'VOLKSWAGEN JETTA',\n",
       " 'VOLVO 7G1',\n",
       " 'VOLVO 960',\n",
       " 'VOLVO S60',\n",
       " 'VOLVO S80',\n",
       " 'VOLVO T5',\n",
       " 'VOLVO XC60',\n",
       " 'VOLVO XC90',\n",
       " '그랜저2.0',\n",
       " '그랜저XG300L',\n",
       " '기아마스타',\n",
       " '뉴복사담프',\n",
       " '뉴비틀2.0',\n",
       " '닛산실비아2.0',\n",
       " '닛산씨마그로리아',\n",
       " '다임24KL에틸렌글리콜트레일러',\n",
       " '다찌람밴',\n",
       " '대우11톤카고트럭',\n",
       " '대흥저상트레일러',\n",
       " '도오다',\n",
       " '도요다MR2',\n",
       " '도요다세라',\n",
       " '도요다슈프라',\n",
       " '도요다크라운',\n",
       " '라비타(LAVITA)',\n",
       " '로얄살롱',\n",
       " '르망',\n",
       " '링컨MARK7',\n",
       " '벤츠 C300',\n",
       " '벤츠190E',\n",
       " '벤츠C280',\n",
       " '벤츠E230',\n",
       " '벤츠S320',\n",
       " '블루버드',\n",
       " '사파리',\n",
       " '새턴',\n",
       " '새한2.5톤카고',\n",
       " '셀리카-GT',\n",
       " '소나타',\n",
       " '소나타1800오토매틱',\n",
       " '수프라',\n",
       " '시보레',\n",
       " '시보레카베리아',\n",
       " '쏘나타',\n",
       " '아큐라',\n",
       " '에스페로',\n",
       " '엑셀운전교습용차량',\n",
       " '원흥식 트럭',\n",
       " '제설차',\n",
       " '지프',\n",
       " '체로키',\n",
       " '캠리',\n",
       " '코르시카',\n",
       " '코우거',\n",
       " '코티나디럭스',\n",
       " '크로마터보i.e',\n",
       " '티코(TICO)',\n",
       " '포니',\n",
       " '포니2-L.P.G',\n",
       " '포니2-LPG',\n",
       " '포르쉐',\n",
       " '프레스토오토메틱',\n",
       " '프리무스',\n",
       " '한원40A콤비콘테이너트레일러',\n",
       " '한원40피트구즈넥트레일러',\n",
       " '현대3톤트럭',\n",
       " '현대포터',\n",
       " '혼다 CR-V'}"
      ]
     },
     "execution_count": 32,
     "metadata": {},
     "output_type": "execute_result"
    }
   ],
   "source": [
    "set(tot.loc[tot['연료'].isnull() == True, '차명'].unique())"
   ]
  },
  {
   "cell_type": "code",
   "execution_count": 4,
   "metadata": {},
   "outputs": [],
   "source": [
    "carname_fuel_dict = {'HYUNDAI PRESTO':'휘발유',\n",
    "'TOYOTA CAMRY하이브리드':'휘발유 하이브리드',\n",
    "'구급차(도요다)':'경유',\n",
    "'대우11톤카고':'경유',\n",
    "'대우8톤카고':'경유',\n",
    "'도요다웨곤엠브란스':'경유',\n",
    "'도요다코로나':'휘발유',\n",
    "'도요다크라운로얄싸롱':'휘발유',\n",
    "'도요타 프리우스(하이브리드)':'휘발유 하이브리드',\n",
    "'로얄살롱':'휘발유',\n",
    "'로얄살롱2.0AT':'휘발유',\n",
    "'르망':'휘발유',\n",
    "'르망펜타-5':'휘발유',\n",
    "'맥스디젤삼방':'경유',\n",
    "'머큐리 세이블':'경유',\n",
    "'벤즈 230E':'휘발유',\n",
    "'벤즈230E':'휘발유',\n",
    "'복사14':'휘발유',\n",
    "'브리샤2':'휘발유',\n",
    "'새한버스':'경유',\n",
    "'스텔라':'휘발유',\n",
    "'스텔라1.6CXL':'휘발유',\n",
    "'스텔라오토매틱':'휘발유',\n",
    "'아시아AM707중형버스':'경유',\n",
    "'에어스트림탐지견수송트레일러':'무동력',\n",
    "'엑셀':'휘발유',\n",
    "'인타담프':'경유',\n",
    "'일산 육륜':\"경유\",\n",
    "'캐피탈':'휘발유',\n",
    "'코티나마크IV':'휘발유',\n",
    "'포니2':'휘발유',\n",
    "'프레스토오토매틱':'휘발유',\n",
    "'현대리어엔진버스':'경유',\n",
    "'홍성캠핑트레일러':'무동력',\n",
    "'BENZ S500':'휘발유',\n",
    "'BMW':'휘발유',\n",
    "'BMW 3-SERIES':'휘발유',\n",
    "'BMW 318I':'휘발유',\n",
    "'BMW 325CI':'휘발유',\n",
    "'BMW 325I':'휘발유',\n",
    "'BMW 325i':'휘발유',\n",
    "'BMW 328I':'휘발유',\n",
    "'BMW 525I':'휘발유',\n",
    "'BMW 528I':'휘발유',\n",
    "'BMW 530I':'휘발유',\n",
    "'BMW 5SERIES':'휘발유',\n",
    "'BMW 750Li':'휘발유',\n",
    "'BMW X3':'휘발유',\n",
    "'BMW X5':'휘발유',\n",
    "'BMW Z3':'휘발유',\n",
    "'BMW530I':'휘발유',\n",
    "'BUICK CENTURY':'휘발유',\n",
    "'BUICK LESABRE':'휘발유',\n",
    "'BUICK TERRAZA':'휘발유',\n",
    "'CADILLAC CTS':'휘발유',\n",
    "'CHEVROLET IMPALA':'휘발유',\n",
    "'CHEVROLET PRIZM':'휘발유',\n",
    "'CHRYSLER':'휘발유',\n",
    "'CHRYSLER 300 LTD':'휘발유',\n",
    "'CHRYSLER 300C':'경유',\n",
    "'CHRYSLER HEMI AWD':'휘발유',\n",
    "'CHRYSLER PT CRUISER':'휘발유',\n",
    "'CHRYSLER TOWN & COUNTRY(7)':'휘발유',\n",
    "'CIELO':'휘발유',\n",
    "'CORSICA':'휘발유',\n",
    "'COUGAR':'휘발유',\n",
    "'DODGE CALIBER':'휘발유',\n",
    "'DODGE CARAVAN':'휘발유',\n",
    "'DODGE CHARGER':'휘발유',\n",
    "'DODGE DAKOTA':'휘발유',\n",
    "'DODGE DURANGO':'휘발유',\n",
    "'DODGE GRAND CARAVAN':'휘발유',\n",
    "'DODGE NEON SXT':'휘발유',\n",
    "'EF소나타':'휘발유',\n",
    "'ESCORT':'휘발유',\n",
    "'FIREBIRD':'휘발유',\n",
    "'FORD ESCAPE':'휘발유',\n",
    "'FORD EXPEDITION':'휘발유',\n",
    "'FORD EXPEDITION(8)':'휘발유',\n",
    "'FORD EXPLORER':'휘발유',\n",
    "'FORD FOCUS':'휘발유',\n",
    "'FORD FREESTYLE(7)':'휘발유',\n",
    "'FORD FUSION':'휘발유',\n",
    "'FORD MUSTANG':'휘발유',\n",
    "'FORD RANGER XLT':'경유',\n",
    "'FORD WINDSTAR':'휘발유',\n",
    "'G.M.C':'휘발유',\n",
    "'G20':'휘발유',\n",
    "'GMC':'휘발유',\n",
    "'GMC JIMMY':'휘발유',\n",
    "'GMC SIERRA':'휘발유',\n",
    "'HONDA ACCORD':'휘발유',\n",
    "'HONDA CR-V':'휘발유',\n",
    "'HONDA CR-V EX':'휘발유',\n",
    "'HONDA PILOT':'휘발유',\n",
    "'HYUNDAI SONATA':'휘발유',\n",
    "'HYUNDAI/SONATA':'휘발유',\n",
    "'INFINITI G37S':'휘발유',\n",
    "'JAGUAR X-TYPE':'휘발유',\n",
    "'JEEP GRAND CHEROKEE':'휘발유',\n",
    "'JEEP LIBERTY':'휘발유',\n",
    "'JEEP PATRIOT':\"경유\",\n",
    "'KIA OPTIMA':'휘발유',\n",
    "'KIA SEDONA':'휘발유',\n",
    "'LEXUS ES330':'휘발유',\n",
    "'LEXUS ES350':'휘발유',\n",
    "'LEXUS LS430':'휘발유',\n",
    "'LEXUS RS330':'휘발유',\n",
    "'LEXUS RX330':'휘발유',\n",
    "'LINCOLN MKX':'휘발유',\n",
    "'MAZDA MAZDA6':'휘발유',\n",
    "'MAZDA SENTA':'휘발유',\n",
    "'MERCEDES BENZ':'휘발유',\n",
    "'MERCEDES-BENZ':'휘발유',\n",
    "'MERCEDES-BENZ CLS 550':'경유',\n",
    "'MERCEDES-BENZ E-350':'휘발유',\n",
    "'MERCEDES-BENZ E-CLASS':'휘발유',\n",
    "'MERCEDES-BENZ R-CLASS 3500':'경유',\n",
    "'MERCEDES-BENZ S 500':'휘발유',\n",
    "'MERCEDES-BENZ S65':'경유',\n",
    "'MERCURY MILAN':'휘발유',\n",
    "'NEW 그랜저XG':'휘발유',\n",
    "'NISSAN MURANO':'휘발유',\n",
    "'NISSAN ROGUE 3.5':'휘발유',\n",
    "'NISSAN XTERRA':'휘발유',\n",
    "'OLDSMOBILE BRAVADA':'휘발유',\n",
    "'OLDSMOBILESILHOUET':'휘발유',\n",
    "'PLYMOUTH':'휘발유',\n",
    "'PONTIAC SUNBIRD':'휘발유',\n",
    "'PONTIAC VIBE':'휘발유',\n",
    "'PONTIAC VIBE BASE':'휘발유',\n",
    "'PORSCHE':'휘발유',\n",
    "'ROYALE':'휘발유',\n",
    "'ROYALSALON':'휘발유',\n",
    "'RX7':'휘발유',\n",
    "'SANTAFE':'휘발유',\n",
    "'SEPHIA':'휘발유',\n",
    "'SILHOUET':'휘발유',\n",
    "'SPORTAGE':'휘발유',\n",
    "'STAREX':'휘발유',\n",
    "'SUNDANCE':'휘발유',\n",
    "'TAURUS':'휘발유',\n",
    "'TOYOTA 4-RUNNER':'경유',\n",
    "'TOYOTA AVALON':'휘발유',\n",
    "'TOYOTA COROLLA':'휘발유',\n",
    "'TOYOTA ESTIIM':'휘발유',\n",
    "'TOYOTA MATRIX':'휘발유',\n",
    "'TOYOTA SIENNA':'휘발유',\n",
    "'TOYOTA SR-5':'휘발유',\n",
    "'VISION':'휘발유',\n",
    "'VOLKSWAGEN JETTA':'휘발유',\n",
    "'VOLVO 7G1':'휘발유',\n",
    "'VOLVO 960':'휘발유',\n",
    "'VOLVO S60':'휘발유',\n",
    "'VOLVO S80':'휘발유',\n",
    "'VOLVO T5':'휘발유',\n",
    "'VOLVO XC60':'휘발유',\n",
    "'VOLVO XC90':'휘발유',\n",
    "'그랜저2.0':'휘발유',\n",
    "'그랜저XG300L':'휘발유',\n",
    "'기아마스타':'경유',\n",
    "'뉴복사담프':'경유',\n",
    "'뉴비틀2.0':'휘발유',\n",
    "'닛산실비아2.0':'휘발유',\n",
    "'닛산씨마그로리아':'휘발유',\n",
    "'다임24KL에틸렌글리콜트레일러':'무동력',\n",
    "'다찌람밴':'휘발유',\n",
    "'대우11톤카고트럭':'경유',\n",
    "'대흥저상트레일러':'무동력',\n",
    "'도오다':'휘발유',\n",
    "'도요다MR2':'휘발유',\n",
    "'도요다세라':'휘발유',\n",
    "'도요다슈프라':'휘발유',\n",
    "'도요다크라운':'휘발유',\n",
    "'라비타(LAVITA)':'휘발유',\n",
    "'로얄살롱':'휘발유',\n",
    "'르망':'휘발유',\n",
    "'링컨MARK7':'경유',\n",
    "'벤츠 C300':'휘발유',\n",
    "'벤츠190E':'휘발유',\n",
    "'벤츠C280':'휘발유',\n",
    "'벤츠E230':'휘발유',\n",
    "'벤츠S320':'휘발유',\n",
    "'블루버드':'휘발유',\n",
    "'사파리':'휘발유',\n",
    "'새턴':'휘발유',\n",
    "'새한2.5톤카고':'경유',\n",
    "'셀리카-GT':'휘발유',\n",
    "'소나타':'휘발유',\n",
    "'소나타1800오토매틱':'휘발유',\n",
    "'수프라':'휘발유',\n",
    "'시보레':'휘발유',\n",
    "'시보레카베리아':'휘발유',\n",
    "'쏘나타':'휘발유',\n",
    "'아큐라':'휘발유',\n",
    "'에스페로':'휘발유',\n",
    "'엑셀운전교습용차량':'휘발유',\n",
    "'원흥식 트럭':'경유',\n",
    "'제설차':'경유',\n",
    "'지프':'경유',\n",
    "'체로키':'휘발유',\n",
    "'캠리':'휘발유',\n",
    "'코르시카':'휘발유',\n",
    "'코우거':'휘발유',\n",
    "'코티나디럭스':'휘발유',\n",
    "'크로마터보i.e':'휘발유',\n",
    "'티코(TICO)':'휘발유',\n",
    "'포니':'휘발유',\n",
    "'포니2-L.P.G':'LPG(액화석유가스)',\n",
    "'포니2-LPG':'LPG(액화석유가스)',\n",
    "'포르쉐':'휘발유',\n",
    "'프레스토오토메틱':'휘발유',\n",
    "'프리무스':'휘발유 하이브리드',\n",
    "'한원40A콤비콘테이너트레일러':'무동력',\n",
    "'한원40피트구즈넥트레일러':'무동력',\n",
    "'현대3톤트럭':'경유',\n",
    "'현대포터':'경유',\n",
    "'혼다 CR-V':'경유',}"
   ]
  },
  {
   "cell_type": "code",
   "execution_count": 5,
   "metadata": {},
   "outputs": [
    {
     "data": {
      "text/plain": [
       "216"
      ]
     },
     "execution_count": 5,
     "metadata": {},
     "output_type": "execute_result"
    }
   ],
   "source": [
    "len(carname_fuel_dict)"
   ]
  },
  {
   "attachments": {},
   "cell_type": "markdown",
   "metadata": {},
   "source": [
    "#### [출력] 차명, 연료 매칭"
   ]
  },
  {
   "cell_type": "code",
   "execution_count": 6,
   "metadata": {},
   "outputs": [
    {
     "data": {
      "text/html": [
       "<div>\n",
       "<style scoped>\n",
       "    .dataframe tbody tr th:only-of-type {\n",
       "        vertical-align: middle;\n",
       "    }\n",
       "\n",
       "    .dataframe tbody tr th {\n",
       "        vertical-align: top;\n",
       "    }\n",
       "\n",
       "    .dataframe thead th {\n",
       "        text-align: right;\n",
       "    }\n",
       "</style>\n",
       "<table border=\"1\" class=\"dataframe\">\n",
       "  <thead>\n",
       "    <tr style=\"text-align: right;\">\n",
       "      <th></th>\n",
       "      <th>차명</th>\n",
       "      <th>연료</th>\n",
       "    </tr>\n",
       "  </thead>\n",
       "  <tbody>\n",
       "    <tr>\n",
       "      <th>34</th>\n",
       "      <td>BENZ S500</td>\n",
       "      <td>휘발유</td>\n",
       "    </tr>\n",
       "    <tr>\n",
       "      <th>35</th>\n",
       "      <td>BMW</td>\n",
       "      <td>휘발유</td>\n",
       "    </tr>\n",
       "    <tr>\n",
       "      <th>36</th>\n",
       "      <td>BMW 3-SERIES</td>\n",
       "      <td>휘발유</td>\n",
       "    </tr>\n",
       "    <tr>\n",
       "      <th>37</th>\n",
       "      <td>BMW 318I</td>\n",
       "      <td>휘발유</td>\n",
       "    </tr>\n",
       "    <tr>\n",
       "      <th>38</th>\n",
       "      <td>BMW 325CI</td>\n",
       "      <td>휘발유</td>\n",
       "    </tr>\n",
       "  </tbody>\n",
       "</table>\n",
       "</div>"
      ],
      "text/plain": [
       "              차명   연료\n",
       "34     BENZ S500  휘발유\n",
       "35           BMW  휘발유\n",
       "36  BMW 3-SERIES  휘발유\n",
       "37      BMW 318I  휘발유\n",
       "38     BMW 325CI  휘발유"
      ]
     },
     "execution_count": 6,
     "metadata": {},
     "output_type": "execute_result"
    }
   ],
   "source": [
    "carname_fuel_df = pd.DataFrame(carname_fuel_dict, index=['연료']).T.reset_index()\n",
    "carname_fuel_df = carname_fuel_df.rename(columns={'index':'차명'})\n",
    "carname_fuel_df = carname_fuel_df.sort_values('차명')\n",
    "carname_fuel_df.head()"
   ]
  },
  {
   "cell_type": "code",
   "execution_count": 8,
   "metadata": {},
   "outputs": [
    {
     "data": {
      "text/plain": [
       "'2023.03.03_AM.11.12.03'"
      ]
     },
     "execution_count": 8,
     "metadata": {},
     "output_type": "execute_result"
    }
   ],
   "source": [
    "today_date = datetime.today().strftime(\"%Y.%m.%d_%p.%H.%M.%S\")\n",
    "today_date"
   ]
  },
  {
   "cell_type": "code",
   "execution_count": 10,
   "metadata": {},
   "outputs": [],
   "source": [
    "carname_fuel_df.to_excel(f'D:/data/low_gas_vehicle/차명_연료_매칭_{today_date}.xlsx', index=False)"
   ]
  },
  {
   "cell_type": "code",
   "execution_count": 34,
   "metadata": {},
   "outputs": [
    {
     "name": "stderr",
     "output_type": "stream",
     "text": [
      "100%|██████████| 216/216 [05:00<00:00,  1.39s/it]\n"
     ]
    }
   ],
   "source": [
    "# about 5m \n",
    "for k, v in tqdm(carname_fuel_dict.items()):\n",
    "    # tot.loc[((tot['연료'].isnull() == True) | (tot['연료'] == '기타연료')) & (tot['차명'] == k), '연료'] = v\n",
    "    tot.loc[tot['차명'] == k, '연료'] = v"
   ]
  },
  {
   "cell_type": "code",
   "execution_count": 36,
   "metadata": {},
   "outputs": [
    {
     "data": {
      "text/plain": [
       "휘발유            12101949\n",
       "경유              9860384\n",
       "LPG(액화석유가스)     1896593\n",
       "휘발유 하이브리드       1071363\n",
       "전기               366804\n",
       "경유 하이브리드          34191\n",
       "CNG(압축천연가스)       30311\n",
       "수소                28102\n",
       "LPG 하이브리드         14350\n",
       "CNG 하이브리드           304\n",
       "LNG(액화천연가스)          25\n",
       "무동력                   7\n",
       "알코올                   2\n",
       "Name: 연료, dtype: int64"
      ]
     },
     "execution_count": 36,
     "metadata": {},
     "output_type": "execute_result"
    }
   ],
   "source": [
    "tot['연료'].value_counts(dropna=False)"
   ]
  },
  {
   "attachments": {},
   "cell_type": "markdown",
   "metadata": {},
   "source": [
    "### 최종 확인"
   ]
  },
  {
   "cell_type": "code",
   "execution_count": 37,
   "metadata": {},
   "outputs": [
    {
     "data": {
      "text/html": [
       "<div>\n",
       "<style scoped>\n",
       "    .dataframe tbody tr th:only-of-type {\n",
       "        vertical-align: middle;\n",
       "    }\n",
       "\n",
       "    .dataframe tbody tr th {\n",
       "        vertical-align: top;\n",
       "    }\n",
       "\n",
       "    .dataframe thead th {\n",
       "        text-align: right;\n",
       "    }\n",
       "</style>\n",
       "<table border=\"1\" class=\"dataframe\">\n",
       "  <thead>\n",
       "    <tr style=\"text-align: right;\">\n",
       "      <th></th>\n",
       "      <th>차명</th>\n",
       "      <th>연료</th>\n",
       "      <th>엔진형식</th>\n",
       "      <th>자동차형식</th>\n",
       "    </tr>\n",
       "  </thead>\n",
       "  <tbody>\n",
       "  </tbody>\n",
       "</table>\n",
       "</div>"
      ],
      "text/plain": [
       "Empty DataFrame\n",
       "Columns: [차명, 연료, 엔진형식, 자동차형식]\n",
       "Index: []"
      ]
     },
     "execution_count": 37,
     "metadata": {},
     "output_type": "execute_result"
    }
   ],
   "source": [
    "tot.loc[tot['연료'].isnull() == True, ['차명', '연료', '엔진형식', '자동차형식']]"
   ]
  },
  {
   "attachments": {},
   "cell_type": "markdown",
   "metadata": {},
   "source": [
    "## 임시등급 병합"
   ]
  },
  {
   "cell_type": "code",
   "execution_count": 38,
   "metadata": {},
   "outputs": [
    {
     "data": {
      "text/plain": [
       "2     10960196\n",
       "3      8623093\n",
       "1      2771380\n",
       "4      1511174\n",
       "5      1154695\n",
       "T2      247481\n",
       "T3      136300\n",
       "T4          37\n",
       "T5          29\n",
       "Name: 배출가스등급, dtype: int64"
      ]
     },
     "execution_count": 38,
     "metadata": {},
     "output_type": "execute_result"
    }
   ],
   "source": [
    "tot['배출가스등급'].value_counts(dropna=False)"
   ]
  },
  {
   "cell_type": "code",
   "execution_count": 39,
   "metadata": {},
   "outputs": [
    {
     "data": {
      "text/plain": [
       "(25404385, 58)"
      ]
     },
     "execution_count": 39,
     "metadata": {},
     "output_type": "execute_result"
    }
   ],
   "source": [
    "tot.shape"
   ]
  },
  {
   "cell_type": "code",
   "execution_count": 40,
   "metadata": {},
   "outputs": [
    {
     "name": "stderr",
     "output_type": "stream",
     "text": [
      "100%|██████████| 25404385/25404385 [00:27<00:00, 939557.63it/s] \n"
     ]
    },
    {
     "data": {
      "text/plain": [
       "25404385"
      ]
     },
     "execution_count": 40,
     "metadata": {},
     "output_type": "execute_result"
    }
   ],
   "source": [
    "grade_list = []\n",
    "for one in tqdm(tot['배출가스등급']):\n",
    "    if str(one) == '1':\n",
    "        grade_list.append('1')\n",
    "    elif str(one) == '2' or str(one) == 'T2':\n",
    "        grade_list.append('2')\n",
    "    elif str(one) == '3' or str(one) == 'T3':\n",
    "        grade_list.append('3')\n",
    "    elif str(one) == '4' or str(one) == 'T4':\n",
    "        grade_list.append('4')\n",
    "    elif str(one) == '5' or str(one) == 'T5':\n",
    "        grade_list.append('5')\n",
    "    elif str(one) == 'X':\n",
    "        grade_list.append('X')\n",
    "    else:\n",
    "        grade_list.append(np.nan)\n",
    "len(grade_list)"
   ]
  },
  {
   "cell_type": "code",
   "execution_count": 41,
   "metadata": {},
   "outputs": [
    {
     "data": {
      "text/plain": [
       "['1', '1', '1', '1', '1']"
      ]
     },
     "execution_count": 41,
     "metadata": {},
     "output_type": "execute_result"
    }
   ],
   "source": [
    "grade_list[:5]"
   ]
  },
  {
   "cell_type": "code",
   "execution_count": 42,
   "metadata": {},
   "outputs": [],
   "source": [
    "tot['등급'] = grade_list"
   ]
  },
  {
   "cell_type": "markdown",
   "metadata": {},
   "source": [
    "## 연료 결측값 샘플"
   ]
  },
  {
   "cell_type": "code",
   "execution_count": 43,
   "metadata": {},
   "outputs": [],
   "source": [
    "# about 28s\n",
    "total = tot.copy()"
   ]
  },
  {
   "cell_type": "code",
   "execution_count": 44,
   "metadata": {},
   "outputs": [
    {
     "data": {
      "text/plain": [
       "(0, 59)"
      ]
     },
     "execution_count": 44,
     "metadata": {},
     "output_type": "execute_result"
    }
   ],
   "source": [
    "total[total['연료'].isnull() == True].shape"
   ]
  },
  {
   "cell_type": "code",
   "execution_count": 45,
   "metadata": {},
   "outputs": [
    {
     "data": {
      "text/plain": [
       "Index(['차량관리번호', '차량등록번호', '본거지법정동코드', '소유자구분', '차종_등록정보', '용도', '현재회원번호',\n",
       "       '차대번호', '최초등록일자', '차량연식', '차량제작일자', '배출가스검사유효일자', '제원관리번호', '배출가스인증번호',\n",
       "       '배출가스등급', '저공해조치YN(미사용)', '저공해조치종류', '저공해조치구조변경YN', '차량등록번호숫자정보',\n",
       "       '차량말소YN', '최초회원번호', '취득일자', '취득금액', '생성일시_등록정보', '수정일시_등록정보', '차명',\n",
       "       '차종_제원정보', '차종분류', '차종유형(소분류)', '자동차형식', '제작사명', '연료', '엔진형식', '공차중량',\n",
       "       '총중량', '적재중량', '엔진출력', '배기량', '승차인원', '차량길이', '차량너비', '차량높이', '원산지명',\n",
       "       '삭제YN', '승인일자', '구동형식', '변속기종류', '생성일시_제원정보', '수정일시_제원정보', '법정동코드',\n",
       "       '시도', '시구군', '읍면동', '리', '지역3', '폐지여부', '대기관리권역', '대기관리권역YN', '등급'],\n",
       "      dtype='object')"
      ]
     },
     "execution_count": 45,
     "metadata": {},
     "output_type": "execute_result"
    }
   ],
   "source": [
    "total.columns"
   ]
  },
  {
   "attachments": {},
   "cell_type": "markdown",
   "metadata": {},
   "source": [
    "# [출력] 등록&제원정보(연료수정)(등급컬럼추가)"
   ]
  },
  {
   "cell_type": "code",
   "execution_count": 49,
   "metadata": {},
   "outputs": [],
   "source": [
    "# about 11m 23s\n",
    "total.to_csv(os.path.join(ods_fold, '[ODS]등록정보&제원정보(연료수정)(등급컬럼추가)(2022.12.28).csv'), index=False)"
   ]
  },
  {
   "cell_type": "code",
   "execution_count": 50,
   "metadata": {},
   "outputs": [
    {
     "data": {
      "text/plain": [
       "((1511211, 59), (1154724, 59))"
      ]
     },
     "execution_count": 50,
     "metadata": {},
     "output_type": "execute_result"
    }
   ],
   "source": [
    "# about 6s\n",
    "g4 = total[total['등급'] == '4'].reset_index(drop=True)\n",
    "g5 = total[total['등급'] == '5'].reset_index(drop=True)\n",
    "g4.shape, g5.shape"
   ]
  },
  {
   "cell_type": "code",
   "execution_count": 51,
   "metadata": {},
   "outputs": [],
   "source": [
    "# about 1m 9s\n",
    "g4.to_csv(os.path.join(ods_fold, '[ODS][G4]등록정보&제원정보(연료수정)(등급컬럼추가)(2022.12.28).csv'), index=False)\n",
    "g5.to_csv(os.path.join(ods_fold, '[ODS][G5]등록정보&제원정보(연료수정)(등급컬럼추가)(2022.12.28).csv'), index=False)"
   ]
  },
  {
   "attachments": {},
   "cell_type": "markdown",
   "metadata": {},
   "source": [
    "# [로드] 등록&제원정보(연료수정)(등급컬럼추가)"
   ]
  },
  {
   "cell_type": "code",
   "execution_count": 24,
   "metadata": {},
   "outputs": [],
   "source": [
    "# about 7m 42s\n",
    "total = pd.read_csv(os.path.join(ods_fold, '[ODS]등록정보&제원정보(연료수정)(등급컬럼추가)(2022.12.28).csv'), low_memory=False)"
   ]
  },
  {
   "cell_type": "code",
   "execution_count": 4,
   "metadata": {},
   "outputs": [],
   "source": [
    "g5 = pd.read_csv(os.path.join(ods_fold, '[ODS][G5]등록정보&제원정보(연료수정)(등급컬럼추가)(2022.12.28).csv'), low_memory=False)"
   ]
  },
  {
   "attachments": {},
   "cell_type": "markdown",
   "metadata": {},
   "source": [
    "# 분석"
   ]
  },
  {
   "attachments": {},
   "cell_type": "markdown",
   "metadata": {},
   "source": [
    "##  연료별 통계"
   ]
  },
  {
   "cell_type": "code",
   "execution_count": 52,
   "metadata": {},
   "outputs": [
    {
     "data": {
      "text/plain": [
       "Index(['차량관리번호', '차량등록번호', '본거지법정동코드', '소유자구분', '차종_등록정보', '용도', '현재회원번호',\n",
       "       '차대번호', '최초등록일자', '차량연식', '차량제작일자', '배출가스검사유효일자', '제원관리번호', '배출가스인증번호',\n",
       "       '배출가스등급', '저공해조치YN(미사용)', '저공해조치종류', '저공해조치구조변경YN', '차량등록번호숫자정보',\n",
       "       '차량말소YN', '최초회원번호', '취득일자', '취득금액', '생성일시_등록정보', '수정일시_등록정보', '차명',\n",
       "       '차종_제원정보', '차종분류', '차종유형(소분류)', '자동차형식', '제작사명', '연료', '엔진형식', '공차중량',\n",
       "       '총중량', '적재중량', '엔진출력', '배기량', '승차인원', '차량길이', '차량너비', '차량높이', '원산지명',\n",
       "       '삭제YN', '승인일자', '구동형식', '변속기종류', '생성일시_제원정보', '수정일시_제원정보', '법정동코드',\n",
       "       '시도', '시구군', '읍면동', '리', '지역3', '폐지여부', '대기관리권역', '대기관리권역YN', '등급'],\n",
       "      dtype='object')"
      ]
     },
     "execution_count": 52,
     "metadata": {},
     "output_type": "execute_result"
    }
   ],
   "source": [
    "total.columns"
   ]
  },
  {
   "cell_type": "code",
   "execution_count": 53,
   "metadata": {},
   "outputs": [
    {
     "data": {
      "text/plain": [
       "연료           등급\n",
       "CNG 하이브리드    1         287\n",
       "             2          17\n",
       "CNG(압축천연가스)  2       24307\n",
       "             3        5998\n",
       "             4           1\n",
       "             5           5\n",
       "LNG(액화천연가스)  2          25\n",
       "LPG 하이브리드    1       14349\n",
       "             2           1\n",
       "LPG(액화석유가스)  1      461745\n",
       "             2     1171739\n",
       "             3      236584\n",
       "             4       26087\n",
       "             5         438\n",
       "경유           2          86\n",
       "             3     7584030\n",
       "             4     1153141\n",
       "             5     1123127\n",
       "경유 하이브리드     3       34191\n",
       "무동력          3           1\n",
       "             4           1\n",
       "             5           5\n",
       "수소           1       28102\n",
       "알코올          4           1\n",
       "             5           1\n",
       "전기           1      366804\n",
       "휘발유          1      969107\n",
       "             2     9871132\n",
       "             3      898587\n",
       "             4      331976\n",
       "             5       31147\n",
       "휘발유 하이브리드    1      930986\n",
       "             2      140370\n",
       "             3           2\n",
       "             4           4\n",
       "             5           1\n",
       "Name: 차대번호, dtype: int64"
      ]
     },
     "execution_count": 53,
     "metadata": {},
     "output_type": "execute_result"
    }
   ],
   "source": [
    "total.groupby(['연료', '등급'], dropna=False)['차대번호'].count()"
   ]
  },
  {
   "cell_type": "code",
   "execution_count": 54,
   "metadata": {},
   "outputs": [
    {
     "data": {
      "text/plain": [
       "0"
      ]
     },
     "execution_count": 54,
     "metadata": {},
     "output_type": "execute_result"
    }
   ],
   "source": [
    "total['등급'].isnull().sum()"
   ]
  },
  {
   "cell_type": "code",
   "execution_count": 55,
   "metadata": {},
   "outputs": [
    {
     "data": {
      "text/html": [
       "<div>\n",
       "<style scoped>\n",
       "    .dataframe tbody tr th:only-of-type {\n",
       "        vertical-align: middle;\n",
       "    }\n",
       "\n",
       "    .dataframe tbody tr th {\n",
       "        vertical-align: top;\n",
       "    }\n",
       "\n",
       "    .dataframe thead th {\n",
       "        text-align: right;\n",
       "    }\n",
       "</style>\n",
       "<table border=\"1\" class=\"dataframe\">\n",
       "  <thead>\n",
       "    <tr style=\"text-align: right;\">\n",
       "      <th>등급</th>\n",
       "      <th>1</th>\n",
       "      <th>2</th>\n",
       "      <th>3</th>\n",
       "      <th>4</th>\n",
       "      <th>5</th>\n",
       "    </tr>\n",
       "    <tr>\n",
       "      <th>연료</th>\n",
       "      <th></th>\n",
       "      <th></th>\n",
       "      <th></th>\n",
       "      <th></th>\n",
       "      <th></th>\n",
       "    </tr>\n",
       "  </thead>\n",
       "  <tbody>\n",
       "    <tr>\n",
       "      <th>CNG 하이브리드</th>\n",
       "      <td>287.0</td>\n",
       "      <td>17.0</td>\n",
       "      <td>NaN</td>\n",
       "      <td>NaN</td>\n",
       "      <td>NaN</td>\n",
       "    </tr>\n",
       "    <tr>\n",
       "      <th>CNG(압축천연가스)</th>\n",
       "      <td>NaN</td>\n",
       "      <td>24307.0</td>\n",
       "      <td>5998.0</td>\n",
       "      <td>1.0</td>\n",
       "      <td>5.0</td>\n",
       "    </tr>\n",
       "    <tr>\n",
       "      <th>LNG(액화천연가스)</th>\n",
       "      <td>NaN</td>\n",
       "      <td>25.0</td>\n",
       "      <td>NaN</td>\n",
       "      <td>NaN</td>\n",
       "      <td>NaN</td>\n",
       "    </tr>\n",
       "    <tr>\n",
       "      <th>LPG 하이브리드</th>\n",
       "      <td>14349.0</td>\n",
       "      <td>1.0</td>\n",
       "      <td>NaN</td>\n",
       "      <td>NaN</td>\n",
       "      <td>NaN</td>\n",
       "    </tr>\n",
       "    <tr>\n",
       "      <th>LPG(액화석유가스)</th>\n",
       "      <td>461745.0</td>\n",
       "      <td>1171739.0</td>\n",
       "      <td>236584.0</td>\n",
       "      <td>26087.0</td>\n",
       "      <td>438.0</td>\n",
       "    </tr>\n",
       "    <tr>\n",
       "      <th>경유</th>\n",
       "      <td>NaN</td>\n",
       "      <td>86.0</td>\n",
       "      <td>7584030.0</td>\n",
       "      <td>1153141.0</td>\n",
       "      <td>1123127.0</td>\n",
       "    </tr>\n",
       "    <tr>\n",
       "      <th>경유 하이브리드</th>\n",
       "      <td>NaN</td>\n",
       "      <td>NaN</td>\n",
       "      <td>34191.0</td>\n",
       "      <td>NaN</td>\n",
       "      <td>NaN</td>\n",
       "    </tr>\n",
       "    <tr>\n",
       "      <th>무동력</th>\n",
       "      <td>NaN</td>\n",
       "      <td>NaN</td>\n",
       "      <td>1.0</td>\n",
       "      <td>1.0</td>\n",
       "      <td>5.0</td>\n",
       "    </tr>\n",
       "    <tr>\n",
       "      <th>수소</th>\n",
       "      <td>28102.0</td>\n",
       "      <td>NaN</td>\n",
       "      <td>NaN</td>\n",
       "      <td>NaN</td>\n",
       "      <td>NaN</td>\n",
       "    </tr>\n",
       "    <tr>\n",
       "      <th>알코올</th>\n",
       "      <td>NaN</td>\n",
       "      <td>NaN</td>\n",
       "      <td>NaN</td>\n",
       "      <td>1.0</td>\n",
       "      <td>1.0</td>\n",
       "    </tr>\n",
       "    <tr>\n",
       "      <th>전기</th>\n",
       "      <td>366804.0</td>\n",
       "      <td>NaN</td>\n",
       "      <td>NaN</td>\n",
       "      <td>NaN</td>\n",
       "      <td>NaN</td>\n",
       "    </tr>\n",
       "    <tr>\n",
       "      <th>휘발유</th>\n",
       "      <td>969107.0</td>\n",
       "      <td>9871132.0</td>\n",
       "      <td>898587.0</td>\n",
       "      <td>331976.0</td>\n",
       "      <td>31147.0</td>\n",
       "    </tr>\n",
       "    <tr>\n",
       "      <th>휘발유 하이브리드</th>\n",
       "      <td>930986.0</td>\n",
       "      <td>140370.0</td>\n",
       "      <td>2.0</td>\n",
       "      <td>4.0</td>\n",
       "      <td>1.0</td>\n",
       "    </tr>\n",
       "  </tbody>\n",
       "</table>\n",
       "</div>"
      ],
      "text/plain": [
       "등급                  1          2          3          4          5\n",
       "연료                                                               \n",
       "CNG 하이브리드       287.0       17.0        NaN        NaN        NaN\n",
       "CNG(압축천연가스)       NaN    24307.0     5998.0        1.0        5.0\n",
       "LNG(액화천연가스)       NaN       25.0        NaN        NaN        NaN\n",
       "LPG 하이브리드     14349.0        1.0        NaN        NaN        NaN\n",
       "LPG(액화석유가스)  461745.0  1171739.0   236584.0    26087.0      438.0\n",
       "경유                NaN       86.0  7584030.0  1153141.0  1123127.0\n",
       "경유 하이브리드          NaN        NaN    34191.0        NaN        NaN\n",
       "무동력               NaN        NaN        1.0        1.0        5.0\n",
       "수소            28102.0        NaN        NaN        NaN        NaN\n",
       "알코올               NaN        NaN        NaN        1.0        1.0\n",
       "전기           366804.0        NaN        NaN        NaN        NaN\n",
       "휘발유          969107.0  9871132.0   898587.0   331976.0    31147.0\n",
       "휘발유 하이브리드    930986.0   140370.0        2.0        4.0        1.0"
      ]
     },
     "execution_count": 55,
     "metadata": {},
     "output_type": "execute_result"
    }
   ],
   "source": [
    "total.groupby(['연료', '등급'], dropna=False)['차대번호'].count().unstack()"
   ]
  },
  {
   "attachments": {},
   "cell_type": "markdown",
   "metadata": {},
   "source": [
    "## 5등급 경유 대기관리권역별 통계"
   ]
  },
  {
   "cell_type": "code",
   "execution_count": 56,
   "metadata": {},
   "outputs": [
    {
     "data": {
      "text/plain": [
       "(1154724, 59)"
      ]
     },
     "execution_count": 56,
     "metadata": {},
     "output_type": "execute_result"
    }
   ],
   "source": [
    "g5 = total[total['등급'] == '5'].reset_index(drop=True)\n",
    "g5.shape"
   ]
  },
  {
   "attachments": {},
   "cell_type": "markdown",
   "metadata": {},
   "source": [
    "### 5등급 경유차만 추출"
   ]
  },
  {
   "cell_type": "code",
   "execution_count": 57,
   "metadata": {},
   "outputs": [
    {
     "data": {
      "text/plain": [
       "(1123127, 59)"
      ]
     },
     "execution_count": 57,
     "metadata": {},
     "output_type": "execute_result"
    }
   ],
   "source": [
    "g5_diesel = g5[g5['연료'] == '경유'].reset_index(drop=True)\n",
    "g5_diesel.shape"
   ]
  },
  {
   "cell_type": "code",
   "execution_count": 58,
   "metadata": {},
   "outputs": [
    {
     "data": {
      "text/plain": [
       "대기관리권역  시도\n",
       "그 외     강원     47853\n",
       "        제주     24535\n",
       "남부권     광주     25632\n",
       "        전남     76539\n",
       "동남권     경남    103660\n",
       "        경북    120976\n",
       "        대구     48974\n",
       "        부산     65635\n",
       "        울산     25873\n",
       "수도권     경기    222192\n",
       "        서울    116659\n",
       "        인천     53366\n",
       "중부권     대전     25732\n",
       "        세종      4267\n",
       "        전북     57496\n",
       "        충남     61883\n",
       "        충북     41855\n",
       "Name: 차대번호, dtype: int64"
      ]
     },
     "execution_count": 58,
     "metadata": {},
     "output_type": "execute_result"
    }
   ],
   "source": [
    "g5_diesel.groupby(['대기관리권역', '시도'], dropna=False)['차대번호'].count()"
   ]
  },
  {
   "cell_type": "code",
   "execution_count": 59,
   "metadata": {},
   "outputs": [
    {
     "data": {
      "text/plain": [
       "0"
      ]
     },
     "execution_count": 59,
     "metadata": {},
     "output_type": "execute_result"
    }
   ],
   "source": [
    "g5_diesel['시도'].isnull().sum()"
   ]
  },
  {
   "cell_type": "code",
   "execution_count": 60,
   "metadata": {},
   "outputs": [
    {
     "data": {
      "text/plain": [
       "수도권    392217\n",
       "동남권    365118\n",
       "중부권    191233\n",
       "남부권    102171\n",
       "그 외     72388\n",
       "Name: 대기관리권역, dtype: int64"
      ]
     },
     "execution_count": 60,
     "metadata": {},
     "output_type": "execute_result"
    }
   ],
   "source": [
    "g5_diesel['대기관리권역'].value_counts(dropna=False)"
   ]
  },
  {
   "cell_type": "code",
   "execution_count": 61,
   "metadata": {},
   "outputs": [
    {
     "data": {
      "text/plain": [
       "Y    843131\n",
       "N    279996\n",
       "Name: 대기관리권역YN, dtype: int64"
      ]
     },
     "execution_count": 61,
     "metadata": {},
     "output_type": "execute_result"
    }
   ],
   "source": [
    "g5_diesel['대기관리권역YN'].value_counts(dropna=False)"
   ]
  },
  {
   "cell_type": "code",
   "execution_count": 62,
   "metadata": {},
   "outputs": [
    {
     "data": {
      "text/plain": [
       "Index(['차량관리번호', '차량등록번호', '본거지법정동코드', '소유자구분', '차종_등록정보', '용도', '현재회원번호',\n",
       "       '차대번호', '최초등록일자', '차량연식', '차량제작일자', '배출가스검사유효일자', '제원관리번호', '배출가스인증번호',\n",
       "       '배출가스등급', '저공해조치YN(미사용)', '저공해조치종류', '저공해조치구조변경YN', '차량등록번호숫자정보',\n",
       "       '차량말소YN', '최초회원번호', '취득일자', '취득금액', '생성일시_등록정보', '수정일시_등록정보', '차명',\n",
       "       '차종_제원정보', '차종분류', '차종유형(소분류)', '자동차형식', '제작사명', '연료', '엔진형식', '공차중량',\n",
       "       '총중량', '적재중량', '엔진출력', '배기량', '승차인원', '차량길이', '차량너비', '차량높이', '원산지명',\n",
       "       '삭제YN', '승인일자', '구동형식', '변속기종류', '생성일시_제원정보', '수정일시_제원정보', '법정동코드',\n",
       "       '시도', '시구군', '읍면동', '리', '지역3', '폐지여부', '대기관리권역', '대기관리권역YN', '등급'],\n",
       "      dtype='object')"
      ]
     },
     "execution_count": 62,
     "metadata": {},
     "output_type": "execute_result"
    }
   ],
   "source": [
    "g5_diesel.columns"
   ]
  },
  {
   "cell_type": "code",
   "execution_count": 63,
   "metadata": {},
   "outputs": [
    {
     "data": {
      "text/plain": [
       "(843131, 59)"
      ]
     },
     "execution_count": 63,
     "metadata": {},
     "output_type": "execute_result"
    }
   ],
   "source": [
    "g5_y = g5_diesel[g5_diesel['대기관리권역YN'] == 'Y']\n",
    "g5_y.shape"
   ]
  },
  {
   "cell_type": "code",
   "execution_count": 64,
   "metadata": {},
   "outputs": [
    {
     "data": {
      "text/plain": [
       "(279996, 59)"
      ]
     },
     "execution_count": 64,
     "metadata": {},
     "output_type": "execute_result"
    }
   ],
   "source": [
    "g5_n = g5_diesel[g5_diesel['대기관리권역YN'] == 'N']\n",
    "g5_n.shape"
   ]
  },
  {
   "cell_type": "code",
   "execution_count": 65,
   "metadata": {},
   "outputs": [
    {
     "data": {
      "text/plain": [
       "대기관리권역  시도\n",
       "남부권     광주     25632\n",
       "        전남     32564\n",
       "동남권     경남     60713\n",
       "        경북     55035\n",
       "        대구     48974\n",
       "        부산     65635\n",
       "        울산     25873\n",
       "수도권     경기    213117\n",
       "        서울    116659\n",
       "        인천     52176\n",
       "중부권     대전     25732\n",
       "        세종      4267\n",
       "        전북     26159\n",
       "        충남     59082\n",
       "        충북     31513\n",
       "Name: 차대번호, dtype: int64"
      ]
     },
     "execution_count": 65,
     "metadata": {},
     "output_type": "execute_result"
    }
   ],
   "source": [
    "g5_y.groupby(['대기관리권역', '시도'], dropna=False)['차대번호'].count()"
   ]
  },
  {
   "cell_type": "code",
   "execution_count": 66,
   "metadata": {},
   "outputs": [
    {
     "data": {
      "text/plain": [
       "대기관리권역  시도\n",
       "그 외     강원    47853\n",
       "        제주    24535\n",
       "남부권     전남    43975\n",
       "동남권     경남    42947\n",
       "        경북    65941\n",
       "수도권     경기     9075\n",
       "        인천     1190\n",
       "중부권     전북    31337\n",
       "        충남     2801\n",
       "        충북    10342\n",
       "Name: 차대번호, dtype: int64"
      ]
     },
     "execution_count": 66,
     "metadata": {},
     "output_type": "execute_result"
    }
   ],
   "source": [
    "g5_n.groupby(['대기관리권역', '시도'], dropna=False)['차대번호'].count()"
   ]
  },
  {
   "attachments": {},
   "cell_type": "markdown",
   "metadata": {},
   "source": [
    "### [출력] 연료별 통계, 5등급 대기관리권역별 통계"
   ]
  },
  {
   "cell_type": "code",
   "execution_count": 67,
   "metadata": {},
   "outputs": [
    {
     "data": {
      "text/plain": [
       "'2023.02.PM_14_54_33'"
      ]
     },
     "execution_count": 67,
     "metadata": {},
     "output_type": "execute_result"
    }
   ],
   "source": [
    "today_date = datetime.today().strftime(\"%Y.%m.%p_%H_%M_%S\")\n",
    "today_date"
   ]
  },
  {
   "cell_type": "code",
   "execution_count": 68,
   "metadata": {},
   "outputs": [],
   "source": [
    "with pd.ExcelWriter(f'analysis/통계_연료별_5등급대기관리권역별{today_date}.xlsx') as writer:\n",
    "    total.groupby(['연료', '등급'], dropna=False)['차대번호'].count().unstack().to_excel(writer, sheet_name='연료별')\n",
    "    g5_y.groupby(['대기관리권역', '시도'], dropna=False)['차대번호'].count().to_excel(writer, sheet_name='대기관리권역별_y')\n",
    "    g5_n.groupby(['대기관리권역', '시도'], dropna=False)['차대번호'].count().to_excel(writer, sheet_name='대기관리권역별_n')"
   ]
  },
  {
   "attachments": {},
   "cell_type": "markdown",
   "metadata": {},
   "source": [
    "## 4, 5등급 검사 기록없는 차량 수"
   ]
  },
  {
   "attachments": {},
   "cell_type": "markdown",
   "metadata": {},
   "source": [
    "## [로드] 정기&정밀검사"
   ]
  },
  {
   "cell_type": "code",
   "execution_count": 244,
   "metadata": {},
   "outputs": [
    {
     "ename": "MemoryError",
     "evalue": "Unable to allocate 168. MiB for an array with shape (22044208,) and data type int64",
     "output_type": "error",
     "traceback": [
      "\u001b[1;31m---------------------------------------------------------------------------\u001b[0m",
      "\u001b[1;31mMemoryError\u001b[0m                               Traceback (most recent call last)",
      "\u001b[1;32m~\\AppData\\Local\\Temp\\ipykernel_17832\\1968625025.py\u001b[0m in \u001b[0;36m<module>\u001b[1;34m\u001b[0m\n\u001b[0;32m      1\u001b[0m \u001b[1;31m# about 4m 21s\u001b[0m\u001b[1;33m\u001b[0m\u001b[1;33m\u001b[0m\u001b[0m\n\u001b[0;32m      2\u001b[0m \u001b[0mfile_name\u001b[0m \u001b[1;33m=\u001b[0m \u001b[1;34m'[ODS]정기&정밀검사(최신검사만)(2022.12.28).csv'\u001b[0m\u001b[1;33m\u001b[0m\u001b[1;33m\u001b[0m\u001b[0m\n\u001b[1;32m----> 3\u001b[1;33m \u001b[0mtin\u001b[0m \u001b[1;33m=\u001b[0m \u001b[0mpd\u001b[0m\u001b[1;33m.\u001b[0m\u001b[0mread_csv\u001b[0m\u001b[1;33m(\u001b[0m\u001b[0mos\u001b[0m\u001b[1;33m.\u001b[0m\u001b[0mpath\u001b[0m\u001b[1;33m.\u001b[0m\u001b[0mjoin\u001b[0m\u001b[1;33m(\u001b[0m\u001b[0mods_fold\u001b[0m\u001b[1;33m,\u001b[0m \u001b[0mfile_name\u001b[0m\u001b[1;33m)\u001b[0m\u001b[1;33m,\u001b[0m \u001b[0mlow_memory\u001b[0m\u001b[1;33m=\u001b[0m\u001b[1;32mFalse\u001b[0m\u001b[1;33m)\u001b[0m\u001b[1;33m\u001b[0m\u001b[1;33m\u001b[0m\u001b[0m\n\u001b[0m\u001b[0;32m      4\u001b[0m \u001b[0mtin\u001b[0m\u001b[1;33m.\u001b[0m\u001b[0minfo\u001b[0m\u001b[1;33m(\u001b[0m\u001b[1;33m)\u001b[0m\u001b[1;33m\u001b[0m\u001b[1;33m\u001b[0m\u001b[0m\n",
      "\u001b[1;32m~\\AppData\\Roaming\\Python\\Python39\\site-packages\\pandas\\util\\_decorators.py\u001b[0m in \u001b[0;36mwrapper\u001b[1;34m(*args, **kwargs)\u001b[0m\n\u001b[0;32m    209\u001b[0m                 \u001b[1;32melse\u001b[0m\u001b[1;33m:\u001b[0m\u001b[1;33m\u001b[0m\u001b[1;33m\u001b[0m\u001b[0m\n\u001b[0;32m    210\u001b[0m                     \u001b[0mkwargs\u001b[0m\u001b[1;33m[\u001b[0m\u001b[0mnew_arg_name\u001b[0m\u001b[1;33m]\u001b[0m \u001b[1;33m=\u001b[0m \u001b[0mnew_arg_value\u001b[0m\u001b[1;33m\u001b[0m\u001b[1;33m\u001b[0m\u001b[0m\n\u001b[1;32m--> 211\u001b[1;33m             \u001b[1;32mreturn\u001b[0m \u001b[0mfunc\u001b[0m\u001b[1;33m(\u001b[0m\u001b[1;33m*\u001b[0m\u001b[0margs\u001b[0m\u001b[1;33m,\u001b[0m \u001b[1;33m**\u001b[0m\u001b[0mkwargs\u001b[0m\u001b[1;33m)\u001b[0m\u001b[1;33m\u001b[0m\u001b[1;33m\u001b[0m\u001b[0m\n\u001b[0m\u001b[0;32m    212\u001b[0m \u001b[1;33m\u001b[0m\u001b[0m\n\u001b[0;32m    213\u001b[0m         \u001b[1;32mreturn\u001b[0m \u001b[0mcast\u001b[0m\u001b[1;33m(\u001b[0m\u001b[0mF\u001b[0m\u001b[1;33m,\u001b[0m \u001b[0mwrapper\u001b[0m\u001b[1;33m)\u001b[0m\u001b[1;33m\u001b[0m\u001b[1;33m\u001b[0m\u001b[0m\n",
      "\u001b[1;32m~\\AppData\\Roaming\\Python\\Python39\\site-packages\\pandas\\util\\_decorators.py\u001b[0m in \u001b[0;36mwrapper\u001b[1;34m(*args, **kwargs)\u001b[0m\n\u001b[0;32m    329\u001b[0m                     \u001b[0mstacklevel\u001b[0m\u001b[1;33m=\u001b[0m\u001b[0mfind_stack_level\u001b[0m\u001b[1;33m(\u001b[0m\u001b[1;33m)\u001b[0m\u001b[1;33m,\u001b[0m\u001b[1;33m\u001b[0m\u001b[1;33m\u001b[0m\u001b[0m\n\u001b[0;32m    330\u001b[0m                 )\n\u001b[1;32m--> 331\u001b[1;33m             \u001b[1;32mreturn\u001b[0m \u001b[0mfunc\u001b[0m\u001b[1;33m(\u001b[0m\u001b[1;33m*\u001b[0m\u001b[0margs\u001b[0m\u001b[1;33m,\u001b[0m \u001b[1;33m**\u001b[0m\u001b[0mkwargs\u001b[0m\u001b[1;33m)\u001b[0m\u001b[1;33m\u001b[0m\u001b[1;33m\u001b[0m\u001b[0m\n\u001b[0m\u001b[0;32m    332\u001b[0m \u001b[1;33m\u001b[0m\u001b[0m\n\u001b[0;32m    333\u001b[0m         \u001b[1;31m# error: \"Callable[[VarArg(Any), KwArg(Any)], Any]\" has no\u001b[0m\u001b[1;33m\u001b[0m\u001b[1;33m\u001b[0m\u001b[0m\n",
      "\u001b[1;32m~\\AppData\\Roaming\\Python\\Python39\\site-packages\\pandas\\io\\parsers\\readers.py\u001b[0m in \u001b[0;36mread_csv\u001b[1;34m(filepath_or_buffer, sep, delimiter, header, names, index_col, usecols, squeeze, prefix, mangle_dupe_cols, dtype, engine, converters, true_values, false_values, skipinitialspace, skiprows, skipfooter, nrows, na_values, keep_default_na, na_filter, verbose, skip_blank_lines, parse_dates, infer_datetime_format, keep_date_col, date_parser, dayfirst, cache_dates, iterator, chunksize, compression, thousands, decimal, lineterminator, quotechar, quoting, doublequote, escapechar, comment, encoding, encoding_errors, dialect, error_bad_lines, warn_bad_lines, on_bad_lines, delim_whitespace, low_memory, memory_map, float_precision, storage_options)\u001b[0m\n\u001b[0;32m    948\u001b[0m     \u001b[0mkwds\u001b[0m\u001b[1;33m.\u001b[0m\u001b[0mupdate\u001b[0m\u001b[1;33m(\u001b[0m\u001b[0mkwds_defaults\u001b[0m\u001b[1;33m)\u001b[0m\u001b[1;33m\u001b[0m\u001b[1;33m\u001b[0m\u001b[0m\n\u001b[0;32m    949\u001b[0m \u001b[1;33m\u001b[0m\u001b[0m\n\u001b[1;32m--> 950\u001b[1;33m     \u001b[1;32mreturn\u001b[0m \u001b[0m_read\u001b[0m\u001b[1;33m(\u001b[0m\u001b[0mfilepath_or_buffer\u001b[0m\u001b[1;33m,\u001b[0m \u001b[0mkwds\u001b[0m\u001b[1;33m)\u001b[0m\u001b[1;33m\u001b[0m\u001b[1;33m\u001b[0m\u001b[0m\n\u001b[0m\u001b[0;32m    951\u001b[0m \u001b[1;33m\u001b[0m\u001b[0m\n\u001b[0;32m    952\u001b[0m \u001b[1;33m\u001b[0m\u001b[0m\n",
      "\u001b[1;32m~\\AppData\\Roaming\\Python\\Python39\\site-packages\\pandas\\io\\parsers\\readers.py\u001b[0m in \u001b[0;36m_read\u001b[1;34m(filepath_or_buffer, kwds)\u001b[0m\n\u001b[0;32m    609\u001b[0m \u001b[1;33m\u001b[0m\u001b[0m\n\u001b[0;32m    610\u001b[0m     \u001b[1;32mwith\u001b[0m \u001b[0mparser\u001b[0m\u001b[1;33m:\u001b[0m\u001b[1;33m\u001b[0m\u001b[1;33m\u001b[0m\u001b[0m\n\u001b[1;32m--> 611\u001b[1;33m         \u001b[1;32mreturn\u001b[0m \u001b[0mparser\u001b[0m\u001b[1;33m.\u001b[0m\u001b[0mread\u001b[0m\u001b[1;33m(\u001b[0m\u001b[0mnrows\u001b[0m\u001b[1;33m)\u001b[0m\u001b[1;33m\u001b[0m\u001b[1;33m\u001b[0m\u001b[0m\n\u001b[0m\u001b[0;32m    612\u001b[0m \u001b[1;33m\u001b[0m\u001b[0m\n\u001b[0;32m    613\u001b[0m \u001b[1;33m\u001b[0m\u001b[0m\n",
      "\u001b[1;32m~\\AppData\\Roaming\\Python\\Python39\\site-packages\\pandas\\io\\parsers\\readers.py\u001b[0m in \u001b[0;36mread\u001b[1;34m(self, nrows)\u001b[0m\n\u001b[0;32m   1776\u001b[0m                     \u001b[0mcolumns\u001b[0m\u001b[1;33m,\u001b[0m\u001b[1;33m\u001b[0m\u001b[1;33m\u001b[0m\u001b[0m\n\u001b[0;32m   1777\u001b[0m                     \u001b[0mcol_dict\u001b[0m\u001b[1;33m,\u001b[0m\u001b[1;33m\u001b[0m\u001b[1;33m\u001b[0m\u001b[0m\n\u001b[1;32m-> 1778\u001b[1;33m                 \u001b[1;33m)\u001b[0m \u001b[1;33m=\u001b[0m \u001b[0mself\u001b[0m\u001b[1;33m.\u001b[0m\u001b[0m_engine\u001b[0m\u001b[1;33m.\u001b[0m\u001b[0mread\u001b[0m\u001b[1;33m(\u001b[0m  \u001b[1;31m# type: ignore[attr-defined]\u001b[0m\u001b[1;33m\u001b[0m\u001b[1;33m\u001b[0m\u001b[0m\n\u001b[0m\u001b[0;32m   1779\u001b[0m                     \u001b[0mnrows\u001b[0m\u001b[1;33m\u001b[0m\u001b[1;33m\u001b[0m\u001b[0m\n\u001b[0;32m   1780\u001b[0m                 )\n",
      "\u001b[1;32m~\\AppData\\Roaming\\Python\\Python39\\site-packages\\pandas\\io\\parsers\\c_parser_wrapper.py\u001b[0m in \u001b[0;36mread\u001b[1;34m(self, nrows)\u001b[0m\n\u001b[0;32m    233\u001b[0m \u001b[1;33m\u001b[0m\u001b[0m\n\u001b[0;32m    234\u001b[0m             \u001b[1;32melse\u001b[0m\u001b[1;33m:\u001b[0m\u001b[1;33m\u001b[0m\u001b[1;33m\u001b[0m\u001b[0m\n\u001b[1;32m--> 235\u001b[1;33m                 \u001b[0mdata\u001b[0m \u001b[1;33m=\u001b[0m \u001b[0mself\u001b[0m\u001b[1;33m.\u001b[0m\u001b[0m_reader\u001b[0m\u001b[1;33m.\u001b[0m\u001b[0mread\u001b[0m\u001b[1;33m(\u001b[0m\u001b[0mnrows\u001b[0m\u001b[1;33m)\u001b[0m\u001b[1;33m\u001b[0m\u001b[1;33m\u001b[0m\u001b[0m\n\u001b[0m\u001b[0;32m    236\u001b[0m         \u001b[1;32mexcept\u001b[0m \u001b[0mStopIteration\u001b[0m\u001b[1;33m:\u001b[0m\u001b[1;33m\u001b[0m\u001b[1;33m\u001b[0m\u001b[0m\n\u001b[0;32m    237\u001b[0m             \u001b[1;32mif\u001b[0m \u001b[0mself\u001b[0m\u001b[1;33m.\u001b[0m\u001b[0m_first_chunk\u001b[0m\u001b[1;33m:\u001b[0m\u001b[1;33m\u001b[0m\u001b[1;33m\u001b[0m\u001b[0m\n",
      "\u001b[1;32m~\\AppData\\Roaming\\Python\\Python39\\site-packages\\pandas\\_libs\\parsers.pyx\u001b[0m in \u001b[0;36mpandas._libs.parsers.TextReader.read\u001b[1;34m()\u001b[0m\n",
      "\u001b[1;32m~\\AppData\\Roaming\\Python\\Python39\\site-packages\\pandas\\_libs\\parsers.pyx\u001b[0m in \u001b[0;36mpandas._libs.parsers.TextReader._read_rows\u001b[1;34m()\u001b[0m\n",
      "\u001b[1;32m~\\AppData\\Roaming\\Python\\Python39\\site-packages\\pandas\\_libs\\parsers.pyx\u001b[0m in \u001b[0;36mpandas._libs.parsers.TextReader._convert_column_data\u001b[1;34m()\u001b[0m\n",
      "\u001b[1;32m~\\AppData\\Roaming\\Python\\Python39\\site-packages\\pandas\\_libs\\parsers.pyx\u001b[0m in \u001b[0;36mpandas._libs.parsers.TextReader._convert_tokens\u001b[1;34m()\u001b[0m\n",
      "\u001b[1;32m~\\AppData\\Roaming\\Python\\Python39\\site-packages\\pandas\\_libs\\parsers.pyx\u001b[0m in \u001b[0;36mpandas._libs.parsers.TextReader._convert_with_dtype\u001b[1;34m()\u001b[0m\n",
      "\u001b[1;32m~\\AppData\\Roaming\\Python\\Python39\\site-packages\\pandas\\_libs\\parsers.pyx\u001b[0m in \u001b[0;36mpandas._libs.parsers._try_int64\u001b[1;34m()\u001b[0m\n",
      "\u001b[1;31mMemoryError\u001b[0m: Unable to allocate 168. MiB for an array with shape (22044208,) and data type int64"
     ]
    }
   ],
   "source": [
    "# about 4m 21s\n",
    "file_name = '[ODS]정기&정밀검사(최신검사만)(2022.12.28).csv'\n",
    "tin = pd.read_csv(os.path.join(ods_fold, file_name), low_memory=False)\n",
    "tin.info()"
   ]
  },
  {
   "cell_type": "code",
   "execution_count": null,
   "metadata": {},
   "outputs": [
    {
     "data": {
      "text/plain": [
       "Index(['사용연료', '주행거리', '차명', '차량번호', '차대번호', '차종', '차량연식', '엔진형식', '검사방법',\n",
       "       '검사일자', '검사종류', '검사판정시각', '검사판정', '산소값', '이산화탄소값', '무부하매연판정1',\n",
       "       '무부하매연판정2', '무부하매연판정3', '무부하매연판정4', '무부하매연판정5', '무부하매연판정6', '무부하매연허용치1',\n",
       "       '무부하매연허용치2', '무부하매연허용치3', '무부하매연허용치4', '무부하매연허용치5', '무부하매연허용치6',\n",
       "       '무부하매연측정치1', '무부하매연측정치2', '무부하매연측정치3', '무부하매연측정치4', '무부하매연측정치5',\n",
       "       '무부하매연측정치6', '차량용도', '최대출력허용치', '최대출력측정값', '검사접수번호', '검사소명', '재검사기간',\n",
       "       '정기정밀', '검사 검사소코드', '검사유효기간'],\n",
       "      dtype='object')"
      ]
     },
     "metadata": {},
     "output_type": "display_data"
    }
   ],
   "source": [
    "tin.columns"
   ]
  },
  {
   "cell_type": "markdown",
   "metadata": {},
   "source": [
    "## 최근 3년 검사 데이터 추출"
   ]
  },
  {
   "cell_type": "code",
   "execution_count": null,
   "metadata": {},
   "outputs": [
    {
     "data": {
      "text/plain": [
       "count   22044208.00\n",
       "mean    20213557.70\n",
       "std         8679.78\n",
       "min     20190102.00\n",
       "25%     20210427.00\n",
       "50%     20211222.00\n",
       "75%     20220614.00\n",
       "max     20230107.00\n",
       "Name: 검사일자, dtype: float64"
      ]
     },
     "metadata": {},
     "output_type": "display_data"
    }
   ],
   "source": [
    "tin['검사일자'].describe()"
   ]
  },
  {
   "cell_type": "code",
   "execution_count": null,
   "metadata": {},
   "outputs": [
    {
     "data": {
      "text/plain": [
       "(20547872, 42)"
      ]
     },
     "metadata": {},
     "output_type": "display_data"
    }
   ],
   "source": [
    "tin1 = tin[(tin['검사일자'] >= 20200101) & (tin['검사일자'] <= 20221231)]\n",
    "tin1.shape"
   ]
  },
  {
   "cell_type": "code",
   "execution_count": null,
   "metadata": {},
   "outputs": [
    {
     "data": {
      "text/plain": [
       "count   20547872.00\n",
       "mean    20214858.24\n",
       "std         6580.17\n",
       "min     20200102.00\n",
       "25%     20210611.00\n",
       "50%     20220113.00\n",
       "75%     20220620.00\n",
       "max     20221231.00\n",
       "Name: 검사일자, dtype: float64"
      ]
     },
     "metadata": {},
     "output_type": "display_data"
    }
   ],
   "source": [
    "tin1['검사일자'].describe()"
   ]
  },
  {
   "cell_type": "code",
   "execution_count": null,
   "metadata": {},
   "outputs": [],
   "source": [
    "g4 = total[total['등급'] == '4'].reset_index(drop=True)\n",
    "g4.shape"
   ]
  },
  {
   "cell_type": "code",
   "execution_count": null,
   "metadata": {},
   "outputs": [],
   "source": [
    "g5.shape"
   ]
  },
  {
   "cell_type": "code",
   "execution_count": null,
   "metadata": {},
   "outputs": [
    {
     "data": {
      "text/plain": [
       "경유             1152697\n",
       "휘발유             332313\n",
       "LPG(액화석유가스)      26089\n",
       "NaN                 71\n",
       "기타연료                39\n",
       "CNG(압축천연가스)          1\n",
       "알코올                  1\n",
       "Name: 연료, dtype: int64"
      ]
     },
     "metadata": {},
     "output_type": "display_data"
    }
   ],
   "source": [
    "g4['연료'].value_counts(dropna=False)"
   ]
  },
  {
   "cell_type": "code",
   "execution_count": null,
   "metadata": {},
   "outputs": [
    {
     "data": {
      "text/plain": [
       "경유             1124188\n",
       "휘발유              30040\n",
       "LPG(액화석유가스)        436\n",
       "NaN                 29\n",
       "기타연료                25\n",
       "CNG(압축천연가스)          5\n",
       "알코올                  1\n",
       "Name: 연료, dtype: int64"
      ]
     },
     "metadata": {},
     "output_type": "display_data"
    }
   ],
   "source": [
    "g5['연료'].value_counts(dropna=False)"
   ]
  },
  {
   "cell_type": "code",
   "execution_count": null,
   "metadata": {},
   "outputs": [
    {
     "data": {
      "text/plain": [
       "(1511251, 49)"
      ]
     },
     "metadata": {},
     "output_type": "display_data"
    }
   ],
   "source": [
    "g4.shape"
   ]
  },
  {
   "cell_type": "code",
   "execution_count": null,
   "metadata": {},
   "outputs": [
    {
     "data": {
      "text/plain": [
       "(1511211, 49)"
      ]
     },
     "metadata": {},
     "output_type": "display_data"
    }
   ],
   "source": [
    "g4 = g4.sort_values(['최초등록일자', '배출가스검사유효일자'], ascending=[False, False]).drop_duplicates('차대번호').reset_index(drop=True)\n",
    "g4.shape"
   ]
  },
  {
   "cell_type": "code",
   "execution_count": null,
   "metadata": {},
   "outputs": [
    {
     "data": {
      "text/plain": [
       "(1154762, 49)"
      ]
     },
     "metadata": {},
     "output_type": "display_data"
    }
   ],
   "source": [
    "g5.shape"
   ]
  },
  {
   "cell_type": "code",
   "execution_count": null,
   "metadata": {},
   "outputs": [
    {
     "data": {
      "text/plain": [
       "(1154724, 49)"
      ]
     },
     "metadata": {},
     "output_type": "display_data"
    }
   ],
   "source": [
    "g5 = g5.sort_values(['최초등록일자', '배출가스검사유효일자'], ascending=[False, False]).drop_duplicates('차대번호').reset_index(drop=True)\n",
    "g5.shape"
   ]
  },
  {
   "cell_type": "code",
   "execution_count": null,
   "metadata": {},
   "outputs": [
    {
     "data": {
      "text/plain": [
       "(1511211, 90)"
      ]
     },
     "metadata": {},
     "output_type": "display_data"
    }
   ],
   "source": [
    "# about 47s\n",
    "g4_tin = g4.merge(tin1, on='차대번호', how='left')\n",
    "g4_tin.shape"
   ]
  },
  {
   "cell_type": "code",
   "execution_count": null,
   "metadata": {},
   "outputs": [
    {
     "data": {
      "text/plain": [
       "(1154724, 90)"
      ]
     },
     "metadata": {},
     "output_type": "display_data"
    }
   ],
   "source": [
    "# about 43s\n",
    "g5_tin = g5.merge(tin1, on='차대번호', how='left')\n",
    "g5_tin.shape"
   ]
  },
  {
   "cell_type": "code",
   "execution_count": null,
   "metadata": {},
   "outputs": [
    {
     "data": {
      "text/plain": [
       "array([nan, '부하검사(KD-147)', '부하검사(LUG DOWN)', '무부하검사(급가속)',\n",
       "       '부하검사(ASM-Idling)', '무부하검사(TSI)', '무부하검사(정지가동)'], dtype=object)"
      ]
     },
     "metadata": {},
     "output_type": "display_data"
    }
   ],
   "source": [
    "g4_tin['검사방법'].unique()"
   ]
  },
  {
   "cell_type": "code",
   "execution_count": null,
   "metadata": {},
   "outputs": [
    {
     "data": {
      "text/plain": [
       "array([nan, '2부재검사(종합)', '종합검사(경과)', '종합검사', '정기검사', '정기(경과)검사',\n",
       "       '재검사(2부재검사)', '재검사(1부재검사)', '1부재검사(종합)'], dtype=object)"
      ]
     },
     "metadata": {},
     "output_type": "display_data"
    }
   ],
   "source": [
    "g4_tin['검사종류'].unique()"
   ]
  },
  {
   "cell_type": "code",
   "execution_count": null,
   "metadata": {},
   "outputs": [
    {
     "data": {
      "text/plain": [
       "array([nan, '부하검사(KD-147)', '무부하검사(급가속)', '부하검사(LUG DOWN)', '무부하검사(TSI)',\n",
       "       '부하검사(ASM-Idling)', '무부하검사(정지가동)'], dtype=object)"
      ]
     },
     "metadata": {},
     "output_type": "display_data"
    }
   ],
   "source": [
    "g5_tin['검사방법'].unique()"
   ]
  },
  {
   "cell_type": "code",
   "execution_count": null,
   "metadata": {},
   "outputs": [
    {
     "data": {
      "text/plain": [
       "array([nan, '종합검사', '2부재검사(종합)', '정기검사', '종합검사(경과)', '재검사(2부재검사)',\n",
       "       '재검사(1부재검사)', '1부재검사(종합)', '정기(경과)검사'], dtype=object)"
      ]
     },
     "metadata": {},
     "output_type": "display_data"
    }
   ],
   "source": [
    "g5_tin['검사종류'].unique()"
   ]
  },
  {
   "cell_type": "code",
   "execution_count": null,
   "metadata": {},
   "outputs": [],
   "source": [
    "view_cols = ['검사방법', '검사일자', '검사종류', '검사판정시각', '검사판정', \n",
    "'무부하매연판정1', '무부하매연측정치1',\n",
    "'무부하매연판정2', '무부하매연측정치2',\n",
    "'무부하매연판정3', '무부하매연측정치3',\n",
    "'무부하매연판정4', '무부하매연측정치4',\n",
    "'무부하매연판정5', '무부하매연측정치5',\n",
    "'무부하매연판정6', '무부하매연측정치6',]"
   ]
  },
  {
   "cell_type": "code",
   "execution_count": null,
   "metadata": {},
   "outputs": [
    {
     "data": {
      "text/html": [
       "<div>\n",
       "<style scoped>\n",
       "    .dataframe tbody tr th:only-of-type {\n",
       "        vertical-align: middle;\n",
       "    }\n",
       "\n",
       "    .dataframe tbody tr th {\n",
       "        vertical-align: top;\n",
       "    }\n",
       "\n",
       "    .dataframe thead th {\n",
       "        text-align: right;\n",
       "    }\n",
       "</style>\n",
       "<table border=\"1\" class=\"dataframe\">\n",
       "  <thead>\n",
       "    <tr style=\"text-align: right;\">\n",
       "      <th></th>\n",
       "      <th>index</th>\n",
       "      <th>0</th>\n",
       "    </tr>\n",
       "  </thead>\n",
       "  <tbody>\n",
       "    <tr>\n",
       "      <th>0</th>\n",
       "      <td>검사방법</td>\n",
       "      <td>0</td>\n",
       "    </tr>\n",
       "    <tr>\n",
       "      <th>1</th>\n",
       "      <td>검사일자</td>\n",
       "      <td>0</td>\n",
       "    </tr>\n",
       "    <tr>\n",
       "      <th>2</th>\n",
       "      <td>검사종류</td>\n",
       "      <td>0</td>\n",
       "    </tr>\n",
       "    <tr>\n",
       "      <th>3</th>\n",
       "      <td>검사판정시각</td>\n",
       "      <td>0</td>\n",
       "    </tr>\n",
       "    <tr>\n",
       "      <th>4</th>\n",
       "      <td>검사판정</td>\n",
       "      <td>0</td>\n",
       "    </tr>\n",
       "    <tr>\n",
       "      <th>5</th>\n",
       "      <td>무부하매연판정1</td>\n",
       "      <td>0</td>\n",
       "    </tr>\n",
       "    <tr>\n",
       "      <th>6</th>\n",
       "      <td>무부하매연측정치1</td>\n",
       "      <td>0</td>\n",
       "    </tr>\n",
       "    <tr>\n",
       "      <th>7</th>\n",
       "      <td>무부하매연판정2</td>\n",
       "      <td>0</td>\n",
       "    </tr>\n",
       "    <tr>\n",
       "      <th>8</th>\n",
       "      <td>무부하매연측정치2</td>\n",
       "      <td>0</td>\n",
       "    </tr>\n",
       "    <tr>\n",
       "      <th>9</th>\n",
       "      <td>무부하매연판정3</td>\n",
       "      <td>0</td>\n",
       "    </tr>\n",
       "    <tr>\n",
       "      <th>10</th>\n",
       "      <td>무부하매연측정치3</td>\n",
       "      <td>0</td>\n",
       "    </tr>\n",
       "    <tr>\n",
       "      <th>11</th>\n",
       "      <td>무부하매연판정4</td>\n",
       "      <td>0</td>\n",
       "    </tr>\n",
       "    <tr>\n",
       "      <th>12</th>\n",
       "      <td>무부하매연측정치4</td>\n",
       "      <td>0</td>\n",
       "    </tr>\n",
       "    <tr>\n",
       "      <th>13</th>\n",
       "      <td>무부하매연판정5</td>\n",
       "      <td>0</td>\n",
       "    </tr>\n",
       "    <tr>\n",
       "      <th>14</th>\n",
       "      <td>무부하매연측정치5</td>\n",
       "      <td>0</td>\n",
       "    </tr>\n",
       "    <tr>\n",
       "      <th>15</th>\n",
       "      <td>무부하매연판정6</td>\n",
       "      <td>0</td>\n",
       "    </tr>\n",
       "    <tr>\n",
       "      <th>16</th>\n",
       "      <td>무부하매연측정치6</td>\n",
       "      <td>0</td>\n",
       "    </tr>\n",
       "  </tbody>\n",
       "</table>\n",
       "</div>"
      ],
      "text/plain": [
       "        index  0\n",
       "0        검사방법  0\n",
       "1        검사일자  0\n",
       "2        검사종류  0\n",
       "3      검사판정시각  0\n",
       "4        검사판정  0\n",
       "5    무부하매연판정1  0\n",
       "6   무부하매연측정치1  0\n",
       "7    무부하매연판정2  0\n",
       "8   무부하매연측정치2  0\n",
       "9    무부하매연판정3  0\n",
       "10  무부하매연측정치3  0\n",
       "11   무부하매연판정4  0\n",
       "12  무부하매연측정치4  0\n",
       "13   무부하매연판정5  0\n",
       "14  무부하매연측정치5  0\n",
       "15   무부하매연판정6  0\n",
       "16  무부하매연측정치6  0"
      ]
     },
     "metadata": {},
     "output_type": "display_data"
    }
   ],
   "source": [
    "g4_tin[g4_tin['연료'] == '알코올'].reset_index(drop=True)[view_cols].isnull().sum().reset_index()"
   ]
  },
  {
   "cell_type": "code",
   "execution_count": null,
   "metadata": {},
   "outputs": [],
   "source": [
    "g4_miss = pd.DataFrame({'컬럼명':view_cols})\n",
    "for one in g4_tin['연료'].unique():\n",
    "    temp = g4_tin[g4_tin['연료'] == one].reset_index(drop=True)[view_cols].isnull().sum().reset_index()\n",
    "    temp.columns = ['컬럼명', f'4등급_{one}']\n",
    "    g4_miss = g4_miss.merge(temp, on='컬럼명', how='left')"
   ]
  },
  {
   "cell_type": "code",
   "execution_count": null,
   "metadata": {},
   "outputs": [
    {
     "data": {
      "text/html": [
       "<div>\n",
       "<style scoped>\n",
       "    .dataframe tbody tr th:only-of-type {\n",
       "        vertical-align: middle;\n",
       "    }\n",
       "\n",
       "    .dataframe tbody tr th {\n",
       "        vertical-align: top;\n",
       "    }\n",
       "\n",
       "    .dataframe thead th {\n",
       "        text-align: right;\n",
       "    }\n",
       "</style>\n",
       "<table border=\"1\" class=\"dataframe\">\n",
       "  <thead>\n",
       "    <tr style=\"text-align: right;\">\n",
       "      <th></th>\n",
       "      <th>컬럼명</th>\n",
       "      <th>4등급_경유</th>\n",
       "      <th>4등급_휘발유</th>\n",
       "      <th>4등급_nan</th>\n",
       "      <th>4등급_기타연료</th>\n",
       "      <th>4등급_LPG(액화석유가스)</th>\n",
       "      <th>4등급_CNG(압축천연가스)</th>\n",
       "      <th>4등급_알코올</th>\n",
       "    </tr>\n",
       "  </thead>\n",
       "  <tbody>\n",
       "    <tr>\n",
       "      <th>0</th>\n",
       "      <td>검사방법</td>\n",
       "      <td>44043</td>\n",
       "      <td>275254</td>\n",
       "      <td>0.00</td>\n",
       "      <td>37</td>\n",
       "      <td>21761</td>\n",
       "      <td>0</td>\n",
       "      <td>0</td>\n",
       "    </tr>\n",
       "    <tr>\n",
       "      <th>1</th>\n",
       "      <td>검사일자</td>\n",
       "      <td>44043</td>\n",
       "      <td>275254</td>\n",
       "      <td>0.00</td>\n",
       "      <td>37</td>\n",
       "      <td>21761</td>\n",
       "      <td>0</td>\n",
       "      <td>0</td>\n",
       "    </tr>\n",
       "    <tr>\n",
       "      <th>2</th>\n",
       "      <td>검사종류</td>\n",
       "      <td>44043</td>\n",
       "      <td>275254</td>\n",
       "      <td>0.00</td>\n",
       "      <td>37</td>\n",
       "      <td>21761</td>\n",
       "      <td>0</td>\n",
       "      <td>0</td>\n",
       "    </tr>\n",
       "    <tr>\n",
       "      <th>3</th>\n",
       "      <td>검사판정시각</td>\n",
       "      <td>52620</td>\n",
       "      <td>275825</td>\n",
       "      <td>0.00</td>\n",
       "      <td>37</td>\n",
       "      <td>21806</td>\n",
       "      <td>0</td>\n",
       "      <td>0</td>\n",
       "    </tr>\n",
       "    <tr>\n",
       "      <th>4</th>\n",
       "      <td>검사판정</td>\n",
       "      <td>44043</td>\n",
       "      <td>275254</td>\n",
       "      <td>0.00</td>\n",
       "      <td>37</td>\n",
       "      <td>21761</td>\n",
       "      <td>0</td>\n",
       "      <td>0</td>\n",
       "    </tr>\n",
       "    <tr>\n",
       "      <th>5</th>\n",
       "      <td>무부하매연판정1</td>\n",
       "      <td>52625</td>\n",
       "      <td>276357</td>\n",
       "      <td>0.00</td>\n",
       "      <td>38</td>\n",
       "      <td>21859</td>\n",
       "      <td>0</td>\n",
       "      <td>0</td>\n",
       "    </tr>\n",
       "    <tr>\n",
       "      <th>6</th>\n",
       "      <td>무부하매연측정치1</td>\n",
       "      <td>52620</td>\n",
       "      <td>276357</td>\n",
       "      <td>0.00</td>\n",
       "      <td>38</td>\n",
       "      <td>21859</td>\n",
       "      <td>0</td>\n",
       "      <td>0</td>\n",
       "    </tr>\n",
       "    <tr>\n",
       "      <th>7</th>\n",
       "      <td>무부하매연판정2</td>\n",
       "      <td>1108848</td>\n",
       "      <td>276368</td>\n",
       "      <td>0.00</td>\n",
       "      <td>38</td>\n",
       "      <td>21859</td>\n",
       "      <td>1</td>\n",
       "      <td>0</td>\n",
       "    </tr>\n",
       "    <tr>\n",
       "      <th>8</th>\n",
       "      <td>무부하매연측정치2</td>\n",
       "      <td>794724</td>\n",
       "      <td>276366</td>\n",
       "      <td>0.00</td>\n",
       "      <td>38</td>\n",
       "      <td>21859</td>\n",
       "      <td>1</td>\n",
       "      <td>0</td>\n",
       "    </tr>\n",
       "    <tr>\n",
       "      <th>9</th>\n",
       "      <td>무부하매연판정3</td>\n",
       "      <td>1109728</td>\n",
       "      <td>276368</td>\n",
       "      <td>0.00</td>\n",
       "      <td>38</td>\n",
       "      <td>21859</td>\n",
       "      <td>1</td>\n",
       "      <td>0</td>\n",
       "    </tr>\n",
       "    <tr>\n",
       "      <th>10</th>\n",
       "      <td>무부하매연측정치3</td>\n",
       "      <td>829069</td>\n",
       "      <td>276366</td>\n",
       "      <td>0.00</td>\n",
       "      <td>38</td>\n",
       "      <td>21859</td>\n",
       "      <td>1</td>\n",
       "      <td>0</td>\n",
       "    </tr>\n",
       "    <tr>\n",
       "      <th>11</th>\n",
       "      <td>무부하매연판정4</td>\n",
       "      <td>1109730</td>\n",
       "      <td>276843</td>\n",
       "      <td>0.00</td>\n",
       "      <td>38</td>\n",
       "      <td>22039</td>\n",
       "      <td>1</td>\n",
       "      <td>0</td>\n",
       "    </tr>\n",
       "    <tr>\n",
       "      <th>12</th>\n",
       "      <td>무부하매연측정치4</td>\n",
       "      <td>829071</td>\n",
       "      <td>276839</td>\n",
       "      <td>0.00</td>\n",
       "      <td>38</td>\n",
       "      <td>22039</td>\n",
       "      <td>1</td>\n",
       "      <td>0</td>\n",
       "    </tr>\n",
       "    <tr>\n",
       "      <th>13</th>\n",
       "      <td>무부하매연판정5</td>\n",
       "      <td>1109730</td>\n",
       "      <td>276843</td>\n",
       "      <td>0.00</td>\n",
       "      <td>38</td>\n",
       "      <td>22039</td>\n",
       "      <td>1</td>\n",
       "      <td>0</td>\n",
       "    </tr>\n",
       "    <tr>\n",
       "      <th>14</th>\n",
       "      <td>무부하매연측정치5</td>\n",
       "      <td>829071</td>\n",
       "      <td>276839</td>\n",
       "      <td>0.00</td>\n",
       "      <td>38</td>\n",
       "      <td>22039</td>\n",
       "      <td>1</td>\n",
       "      <td>0</td>\n",
       "    </tr>\n",
       "    <tr>\n",
       "      <th>15</th>\n",
       "      <td>무부하매연판정6</td>\n",
       "      <td>1152693</td>\n",
       "      <td>276843</td>\n",
       "      <td>0.00</td>\n",
       "      <td>38</td>\n",
       "      <td>22039</td>\n",
       "      <td>1</td>\n",
       "      <td>0</td>\n",
       "    </tr>\n",
       "    <tr>\n",
       "      <th>16</th>\n",
       "      <td>무부하매연측정치6</td>\n",
       "      <td>860555</td>\n",
       "      <td>276839</td>\n",
       "      <td>0.00</td>\n",
       "      <td>38</td>\n",
       "      <td>22039</td>\n",
       "      <td>1</td>\n",
       "      <td>0</td>\n",
       "    </tr>\n",
       "  </tbody>\n",
       "</table>\n",
       "</div>"
      ],
      "text/plain": [
       "          컬럼명   4등급_경유  4등급_휘발유  4등급_nan  4등급_기타연료  4등급_LPG(액화석유가스)  \\\n",
       "0        검사방법    44043   275254     0.00        37            21761   \n",
       "1        검사일자    44043   275254     0.00        37            21761   \n",
       "2        검사종류    44043   275254     0.00        37            21761   \n",
       "3      검사판정시각    52620   275825     0.00        37            21806   \n",
       "4        검사판정    44043   275254     0.00        37            21761   \n",
       "5    무부하매연판정1    52625   276357     0.00        38            21859   \n",
       "6   무부하매연측정치1    52620   276357     0.00        38            21859   \n",
       "7    무부하매연판정2  1108848   276368     0.00        38            21859   \n",
       "8   무부하매연측정치2   794724   276366     0.00        38            21859   \n",
       "9    무부하매연판정3  1109728   276368     0.00        38            21859   \n",
       "10  무부하매연측정치3   829069   276366     0.00        38            21859   \n",
       "11   무부하매연판정4  1109730   276843     0.00        38            22039   \n",
       "12  무부하매연측정치4   829071   276839     0.00        38            22039   \n",
       "13   무부하매연판정5  1109730   276843     0.00        38            22039   \n",
       "14  무부하매연측정치5   829071   276839     0.00        38            22039   \n",
       "15   무부하매연판정6  1152693   276843     0.00        38            22039   \n",
       "16  무부하매연측정치6   860555   276839     0.00        38            22039   \n",
       "\n",
       "    4등급_CNG(압축천연가스)  4등급_알코올  \n",
       "0                 0        0  \n",
       "1                 0        0  \n",
       "2                 0        0  \n",
       "3                 0        0  \n",
       "4                 0        0  \n",
       "5                 0        0  \n",
       "6                 0        0  \n",
       "7                 1        0  \n",
       "8                 1        0  \n",
       "9                 1        0  \n",
       "10                1        0  \n",
       "11                1        0  \n",
       "12                1        0  \n",
       "13                1        0  \n",
       "14                1        0  \n",
       "15                1        0  \n",
       "16                1        0  "
      ]
     },
     "metadata": {},
     "output_type": "display_data"
    }
   ],
   "source": [
    "g4_miss"
   ]
  },
  {
   "cell_type": "code",
   "execution_count": null,
   "metadata": {},
   "outputs": [],
   "source": [
    "g5_miss = pd.DataFrame({'컬럼명':view_cols})\n",
    "for one in g5_tin['연료'].unique():\n",
    "    temp = g5_tin[g5_tin['연료'] == one].reset_index(drop=True)[view_cols].isnull().sum().reset_index()\n",
    "    temp.columns = ['컬럼명', f'5등급_{one}']\n",
    "    g5_miss = g5_miss.merge(temp, on='컬럼명', how='left')"
   ]
  },
  {
   "cell_type": "code",
   "execution_count": null,
   "metadata": {},
   "outputs": [
    {
     "data": {
      "text/html": [
       "<div>\n",
       "<style scoped>\n",
       "    .dataframe tbody tr th:only-of-type {\n",
       "        vertical-align: middle;\n",
       "    }\n",
       "\n",
       "    .dataframe tbody tr th {\n",
       "        vertical-align: top;\n",
       "    }\n",
       "\n",
       "    .dataframe thead th {\n",
       "        text-align: right;\n",
       "    }\n",
       "</style>\n",
       "<table border=\"1\" class=\"dataframe\">\n",
       "  <thead>\n",
       "    <tr style=\"text-align: right;\">\n",
       "      <th></th>\n",
       "      <th>컬럼명</th>\n",
       "      <th>5등급_경유</th>\n",
       "      <th>5등급_휘발유</th>\n",
       "      <th>5등급_CNG(압축천연가스)</th>\n",
       "      <th>5등급_LPG(액화석유가스)</th>\n",
       "      <th>5등급_nan</th>\n",
       "      <th>5등급_기타연료</th>\n",
       "      <th>5등급_알코올</th>\n",
       "    </tr>\n",
       "  </thead>\n",
       "  <tbody>\n",
       "    <tr>\n",
       "      <th>0</th>\n",
       "      <td>검사방법</td>\n",
       "      <td>417776</td>\n",
       "      <td>29670</td>\n",
       "      <td>3</td>\n",
       "      <td>433</td>\n",
       "      <td>0.00</td>\n",
       "      <td>25</td>\n",
       "      <td>1</td>\n",
       "    </tr>\n",
       "    <tr>\n",
       "      <th>1</th>\n",
       "      <td>검사일자</td>\n",
       "      <td>417776</td>\n",
       "      <td>29670</td>\n",
       "      <td>3</td>\n",
       "      <td>433</td>\n",
       "      <td>0.00</td>\n",
       "      <td>25</td>\n",
       "      <td>1</td>\n",
       "    </tr>\n",
       "    <tr>\n",
       "      <th>2</th>\n",
       "      <td>검사종류</td>\n",
       "      <td>417776</td>\n",
       "      <td>29670</td>\n",
       "      <td>3</td>\n",
       "      <td>433</td>\n",
       "      <td>0.00</td>\n",
       "      <td>25</td>\n",
       "      <td>1</td>\n",
       "    </tr>\n",
       "    <tr>\n",
       "      <th>3</th>\n",
       "      <td>검사판정시각</td>\n",
       "      <td>423727</td>\n",
       "      <td>29674</td>\n",
       "      <td>3</td>\n",
       "      <td>433</td>\n",
       "      <td>0.00</td>\n",
       "      <td>25</td>\n",
       "      <td>1</td>\n",
       "    </tr>\n",
       "    <tr>\n",
       "      <th>4</th>\n",
       "      <td>검사판정</td>\n",
       "      <td>417776</td>\n",
       "      <td>29670</td>\n",
       "      <td>3</td>\n",
       "      <td>433</td>\n",
       "      <td>0.00</td>\n",
       "      <td>25</td>\n",
       "      <td>1</td>\n",
       "    </tr>\n",
       "    <tr>\n",
       "      <th>5</th>\n",
       "      <td>무부하매연판정1</td>\n",
       "      <td>423936</td>\n",
       "      <td>29681</td>\n",
       "      <td>3</td>\n",
       "      <td>433</td>\n",
       "      <td>0.00</td>\n",
       "      <td>25</td>\n",
       "      <td>1</td>\n",
       "    </tr>\n",
       "    <tr>\n",
       "      <th>6</th>\n",
       "      <td>무부하매연측정치1</td>\n",
       "      <td>423927</td>\n",
       "      <td>29681</td>\n",
       "      <td>3</td>\n",
       "      <td>433</td>\n",
       "      <td>0.00</td>\n",
       "      <td>25</td>\n",
       "      <td>1</td>\n",
       "    </tr>\n",
       "    <tr>\n",
       "      <th>7</th>\n",
       "      <td>무부하매연판정2</td>\n",
       "      <td>1017450</td>\n",
       "      <td>29683</td>\n",
       "      <td>3</td>\n",
       "      <td>433</td>\n",
       "      <td>0.00</td>\n",
       "      <td>25</td>\n",
       "      <td>1</td>\n",
       "    </tr>\n",
       "    <tr>\n",
       "      <th>8</th>\n",
       "      <td>무부하매연측정치2</td>\n",
       "      <td>890184</td>\n",
       "      <td>29683</td>\n",
       "      <td>3</td>\n",
       "      <td>433</td>\n",
       "      <td>0.00</td>\n",
       "      <td>25</td>\n",
       "      <td>1</td>\n",
       "    </tr>\n",
       "    <tr>\n",
       "      <th>9</th>\n",
       "      <td>무부하매연판정3</td>\n",
       "      <td>1017776</td>\n",
       "      <td>29683</td>\n",
       "      <td>3</td>\n",
       "      <td>433</td>\n",
       "      <td>0.00</td>\n",
       "      <td>25</td>\n",
       "      <td>1</td>\n",
       "    </tr>\n",
       "    <tr>\n",
       "      <th>10</th>\n",
       "      <td>무부하매연측정치3</td>\n",
       "      <td>909619</td>\n",
       "      <td>29683</td>\n",
       "      <td>3</td>\n",
       "      <td>433</td>\n",
       "      <td>0.00</td>\n",
       "      <td>25</td>\n",
       "      <td>1</td>\n",
       "    </tr>\n",
       "    <tr>\n",
       "      <th>11</th>\n",
       "      <td>무부하매연판정4</td>\n",
       "      <td>1018119</td>\n",
       "      <td>29692</td>\n",
       "      <td>3</td>\n",
       "      <td>435</td>\n",
       "      <td>0.00</td>\n",
       "      <td>25</td>\n",
       "      <td>1</td>\n",
       "    </tr>\n",
       "    <tr>\n",
       "      <th>12</th>\n",
       "      <td>무부하매연측정치4</td>\n",
       "      <td>909961</td>\n",
       "      <td>29687</td>\n",
       "      <td>3</td>\n",
       "      <td>435</td>\n",
       "      <td>0.00</td>\n",
       "      <td>25</td>\n",
       "      <td>1</td>\n",
       "    </tr>\n",
       "    <tr>\n",
       "      <th>13</th>\n",
       "      <td>무부하매연판정5</td>\n",
       "      <td>1018119</td>\n",
       "      <td>29692</td>\n",
       "      <td>3</td>\n",
       "      <td>435</td>\n",
       "      <td>0.00</td>\n",
       "      <td>25</td>\n",
       "      <td>1</td>\n",
       "    </tr>\n",
       "    <tr>\n",
       "      <th>14</th>\n",
       "      <td>무부하매연측정치5</td>\n",
       "      <td>909961</td>\n",
       "      <td>29687</td>\n",
       "      <td>3</td>\n",
       "      <td>435</td>\n",
       "      <td>0.00</td>\n",
       "      <td>25</td>\n",
       "      <td>1</td>\n",
       "    </tr>\n",
       "    <tr>\n",
       "      <th>15</th>\n",
       "      <td>무부하매연판정6</td>\n",
       "      <td>1115336</td>\n",
       "      <td>29692</td>\n",
       "      <td>5</td>\n",
       "      <td>435</td>\n",
       "      <td>0.00</td>\n",
       "      <td>25</td>\n",
       "      <td>1</td>\n",
       "    </tr>\n",
       "    <tr>\n",
       "      <th>16</th>\n",
       "      <td>무부하매연측정치6</td>\n",
       "      <td>982782</td>\n",
       "      <td>29687</td>\n",
       "      <td>4</td>\n",
       "      <td>435</td>\n",
       "      <td>0.00</td>\n",
       "      <td>25</td>\n",
       "      <td>1</td>\n",
       "    </tr>\n",
       "  </tbody>\n",
       "</table>\n",
       "</div>"
      ],
      "text/plain": [
       "          컬럼명   5등급_경유  5등급_휘발유  5등급_CNG(압축천연가스)  5등급_LPG(액화석유가스)  5등급_nan  \\\n",
       "0        검사방법   417776    29670                3              433     0.00   \n",
       "1        검사일자   417776    29670                3              433     0.00   \n",
       "2        검사종류   417776    29670                3              433     0.00   \n",
       "3      검사판정시각   423727    29674                3              433     0.00   \n",
       "4        검사판정   417776    29670                3              433     0.00   \n",
       "5    무부하매연판정1   423936    29681                3              433     0.00   \n",
       "6   무부하매연측정치1   423927    29681                3              433     0.00   \n",
       "7    무부하매연판정2  1017450    29683                3              433     0.00   \n",
       "8   무부하매연측정치2   890184    29683                3              433     0.00   \n",
       "9    무부하매연판정3  1017776    29683                3              433     0.00   \n",
       "10  무부하매연측정치3   909619    29683                3              433     0.00   \n",
       "11   무부하매연판정4  1018119    29692                3              435     0.00   \n",
       "12  무부하매연측정치4   909961    29687                3              435     0.00   \n",
       "13   무부하매연판정5  1018119    29692                3              435     0.00   \n",
       "14  무부하매연측정치5   909961    29687                3              435     0.00   \n",
       "15   무부하매연판정6  1115336    29692                5              435     0.00   \n",
       "16  무부하매연측정치6   982782    29687                4              435     0.00   \n",
       "\n",
       "    5등급_기타연료  5등급_알코올  \n",
       "0         25        1  \n",
       "1         25        1  \n",
       "2         25        1  \n",
       "3         25        1  \n",
       "4         25        1  \n",
       "5         25        1  \n",
       "6         25        1  \n",
       "7         25        1  \n",
       "8         25        1  \n",
       "9         25        1  \n",
       "10        25        1  \n",
       "11        25        1  \n",
       "12        25        1  \n",
       "13        25        1  \n",
       "14        25        1  \n",
       "15        25        1  \n",
       "16        25        1  "
      ]
     },
     "metadata": {},
     "output_type": "display_data"
    }
   ],
   "source": [
    "g5_miss"
   ]
  },
  {
   "cell_type": "code",
   "execution_count": null,
   "metadata": {},
   "outputs": [
    {
     "data": {
      "text/html": [
       "<div>\n",
       "<style scoped>\n",
       "    .dataframe tbody tr th:only-of-type {\n",
       "        vertical-align: middle;\n",
       "    }\n",
       "\n",
       "    .dataframe tbody tr th {\n",
       "        vertical-align: top;\n",
       "    }\n",
       "\n",
       "    .dataframe thead th {\n",
       "        text-align: right;\n",
       "    }\n",
       "</style>\n",
       "<table border=\"1\" class=\"dataframe\">\n",
       "  <thead>\n",
       "    <tr style=\"text-align: right;\">\n",
       "      <th></th>\n",
       "      <th>컬럼명</th>\n",
       "      <th>4등급_경유</th>\n",
       "      <th>4등급_휘발유</th>\n",
       "      <th>4등급_nan</th>\n",
       "      <th>4등급_기타연료</th>\n",
       "      <th>4등급_LPG(액화석유가스)</th>\n",
       "      <th>4등급_CNG(압축천연가스)</th>\n",
       "      <th>4등급_알코올</th>\n",
       "      <th>5등급_경유</th>\n",
       "      <th>5등급_휘발유</th>\n",
       "      <th>5등급_CNG(압축천연가스)</th>\n",
       "      <th>5등급_LPG(액화석유가스)</th>\n",
       "      <th>5등급_nan</th>\n",
       "      <th>5등급_기타연료</th>\n",
       "      <th>5등급_알코올</th>\n",
       "    </tr>\n",
       "  </thead>\n",
       "  <tbody>\n",
       "    <tr>\n",
       "      <th>0</th>\n",
       "      <td>검사방법</td>\n",
       "      <td>44043</td>\n",
       "      <td>275254</td>\n",
       "      <td>0.00</td>\n",
       "      <td>37</td>\n",
       "      <td>21761</td>\n",
       "      <td>0</td>\n",
       "      <td>0</td>\n",
       "      <td>417776</td>\n",
       "      <td>29670</td>\n",
       "      <td>3</td>\n",
       "      <td>433</td>\n",
       "      <td>0.00</td>\n",
       "      <td>25</td>\n",
       "      <td>1</td>\n",
       "    </tr>\n",
       "    <tr>\n",
       "      <th>1</th>\n",
       "      <td>검사일자</td>\n",
       "      <td>44043</td>\n",
       "      <td>275254</td>\n",
       "      <td>0.00</td>\n",
       "      <td>37</td>\n",
       "      <td>21761</td>\n",
       "      <td>0</td>\n",
       "      <td>0</td>\n",
       "      <td>417776</td>\n",
       "      <td>29670</td>\n",
       "      <td>3</td>\n",
       "      <td>433</td>\n",
       "      <td>0.00</td>\n",
       "      <td>25</td>\n",
       "      <td>1</td>\n",
       "    </tr>\n",
       "    <tr>\n",
       "      <th>2</th>\n",
       "      <td>검사종류</td>\n",
       "      <td>44043</td>\n",
       "      <td>275254</td>\n",
       "      <td>0.00</td>\n",
       "      <td>37</td>\n",
       "      <td>21761</td>\n",
       "      <td>0</td>\n",
       "      <td>0</td>\n",
       "      <td>417776</td>\n",
       "      <td>29670</td>\n",
       "      <td>3</td>\n",
       "      <td>433</td>\n",
       "      <td>0.00</td>\n",
       "      <td>25</td>\n",
       "      <td>1</td>\n",
       "    </tr>\n",
       "    <tr>\n",
       "      <th>3</th>\n",
       "      <td>검사판정시각</td>\n",
       "      <td>52620</td>\n",
       "      <td>275825</td>\n",
       "      <td>0.00</td>\n",
       "      <td>37</td>\n",
       "      <td>21806</td>\n",
       "      <td>0</td>\n",
       "      <td>0</td>\n",
       "      <td>423727</td>\n",
       "      <td>29674</td>\n",
       "      <td>3</td>\n",
       "      <td>433</td>\n",
       "      <td>0.00</td>\n",
       "      <td>25</td>\n",
       "      <td>1</td>\n",
       "    </tr>\n",
       "    <tr>\n",
       "      <th>4</th>\n",
       "      <td>검사판정</td>\n",
       "      <td>44043</td>\n",
       "      <td>275254</td>\n",
       "      <td>0.00</td>\n",
       "      <td>37</td>\n",
       "      <td>21761</td>\n",
       "      <td>0</td>\n",
       "      <td>0</td>\n",
       "      <td>417776</td>\n",
       "      <td>29670</td>\n",
       "      <td>3</td>\n",
       "      <td>433</td>\n",
       "      <td>0.00</td>\n",
       "      <td>25</td>\n",
       "      <td>1</td>\n",
       "    </tr>\n",
       "    <tr>\n",
       "      <th>5</th>\n",
       "      <td>무부하매연판정1</td>\n",
       "      <td>52625</td>\n",
       "      <td>276357</td>\n",
       "      <td>0.00</td>\n",
       "      <td>38</td>\n",
       "      <td>21859</td>\n",
       "      <td>0</td>\n",
       "      <td>0</td>\n",
       "      <td>423936</td>\n",
       "      <td>29681</td>\n",
       "      <td>3</td>\n",
       "      <td>433</td>\n",
       "      <td>0.00</td>\n",
       "      <td>25</td>\n",
       "      <td>1</td>\n",
       "    </tr>\n",
       "    <tr>\n",
       "      <th>6</th>\n",
       "      <td>무부하매연측정치1</td>\n",
       "      <td>52620</td>\n",
       "      <td>276357</td>\n",
       "      <td>0.00</td>\n",
       "      <td>38</td>\n",
       "      <td>21859</td>\n",
       "      <td>0</td>\n",
       "      <td>0</td>\n",
       "      <td>423927</td>\n",
       "      <td>29681</td>\n",
       "      <td>3</td>\n",
       "      <td>433</td>\n",
       "      <td>0.00</td>\n",
       "      <td>25</td>\n",
       "      <td>1</td>\n",
       "    </tr>\n",
       "    <tr>\n",
       "      <th>7</th>\n",
       "      <td>무부하매연판정2</td>\n",
       "      <td>1108848</td>\n",
       "      <td>276368</td>\n",
       "      <td>0.00</td>\n",
       "      <td>38</td>\n",
       "      <td>21859</td>\n",
       "      <td>1</td>\n",
       "      <td>0</td>\n",
       "      <td>1017450</td>\n",
       "      <td>29683</td>\n",
       "      <td>3</td>\n",
       "      <td>433</td>\n",
       "      <td>0.00</td>\n",
       "      <td>25</td>\n",
       "      <td>1</td>\n",
       "    </tr>\n",
       "    <tr>\n",
       "      <th>8</th>\n",
       "      <td>무부하매연측정치2</td>\n",
       "      <td>794724</td>\n",
       "      <td>276366</td>\n",
       "      <td>0.00</td>\n",
       "      <td>38</td>\n",
       "      <td>21859</td>\n",
       "      <td>1</td>\n",
       "      <td>0</td>\n",
       "      <td>890184</td>\n",
       "      <td>29683</td>\n",
       "      <td>3</td>\n",
       "      <td>433</td>\n",
       "      <td>0.00</td>\n",
       "      <td>25</td>\n",
       "      <td>1</td>\n",
       "    </tr>\n",
       "    <tr>\n",
       "      <th>9</th>\n",
       "      <td>무부하매연판정3</td>\n",
       "      <td>1109728</td>\n",
       "      <td>276368</td>\n",
       "      <td>0.00</td>\n",
       "      <td>38</td>\n",
       "      <td>21859</td>\n",
       "      <td>1</td>\n",
       "      <td>0</td>\n",
       "      <td>1017776</td>\n",
       "      <td>29683</td>\n",
       "      <td>3</td>\n",
       "      <td>433</td>\n",
       "      <td>0.00</td>\n",
       "      <td>25</td>\n",
       "      <td>1</td>\n",
       "    </tr>\n",
       "    <tr>\n",
       "      <th>10</th>\n",
       "      <td>무부하매연측정치3</td>\n",
       "      <td>829069</td>\n",
       "      <td>276366</td>\n",
       "      <td>0.00</td>\n",
       "      <td>38</td>\n",
       "      <td>21859</td>\n",
       "      <td>1</td>\n",
       "      <td>0</td>\n",
       "      <td>909619</td>\n",
       "      <td>29683</td>\n",
       "      <td>3</td>\n",
       "      <td>433</td>\n",
       "      <td>0.00</td>\n",
       "      <td>25</td>\n",
       "      <td>1</td>\n",
       "    </tr>\n",
       "    <tr>\n",
       "      <th>11</th>\n",
       "      <td>무부하매연판정4</td>\n",
       "      <td>1109730</td>\n",
       "      <td>276843</td>\n",
       "      <td>0.00</td>\n",
       "      <td>38</td>\n",
       "      <td>22039</td>\n",
       "      <td>1</td>\n",
       "      <td>0</td>\n",
       "      <td>1018119</td>\n",
       "      <td>29692</td>\n",
       "      <td>3</td>\n",
       "      <td>435</td>\n",
       "      <td>0.00</td>\n",
       "      <td>25</td>\n",
       "      <td>1</td>\n",
       "    </tr>\n",
       "    <tr>\n",
       "      <th>12</th>\n",
       "      <td>무부하매연측정치4</td>\n",
       "      <td>829071</td>\n",
       "      <td>276839</td>\n",
       "      <td>0.00</td>\n",
       "      <td>38</td>\n",
       "      <td>22039</td>\n",
       "      <td>1</td>\n",
       "      <td>0</td>\n",
       "      <td>909961</td>\n",
       "      <td>29687</td>\n",
       "      <td>3</td>\n",
       "      <td>435</td>\n",
       "      <td>0.00</td>\n",
       "      <td>25</td>\n",
       "      <td>1</td>\n",
       "    </tr>\n",
       "    <tr>\n",
       "      <th>13</th>\n",
       "      <td>무부하매연판정5</td>\n",
       "      <td>1109730</td>\n",
       "      <td>276843</td>\n",
       "      <td>0.00</td>\n",
       "      <td>38</td>\n",
       "      <td>22039</td>\n",
       "      <td>1</td>\n",
       "      <td>0</td>\n",
       "      <td>1018119</td>\n",
       "      <td>29692</td>\n",
       "      <td>3</td>\n",
       "      <td>435</td>\n",
       "      <td>0.00</td>\n",
       "      <td>25</td>\n",
       "      <td>1</td>\n",
       "    </tr>\n",
       "    <tr>\n",
       "      <th>14</th>\n",
       "      <td>무부하매연측정치5</td>\n",
       "      <td>829071</td>\n",
       "      <td>276839</td>\n",
       "      <td>0.00</td>\n",
       "      <td>38</td>\n",
       "      <td>22039</td>\n",
       "      <td>1</td>\n",
       "      <td>0</td>\n",
       "      <td>909961</td>\n",
       "      <td>29687</td>\n",
       "      <td>3</td>\n",
       "      <td>435</td>\n",
       "      <td>0.00</td>\n",
       "      <td>25</td>\n",
       "      <td>1</td>\n",
       "    </tr>\n",
       "    <tr>\n",
       "      <th>15</th>\n",
       "      <td>무부하매연판정6</td>\n",
       "      <td>1152693</td>\n",
       "      <td>276843</td>\n",
       "      <td>0.00</td>\n",
       "      <td>38</td>\n",
       "      <td>22039</td>\n",
       "      <td>1</td>\n",
       "      <td>0</td>\n",
       "      <td>1115336</td>\n",
       "      <td>29692</td>\n",
       "      <td>5</td>\n",
       "      <td>435</td>\n",
       "      <td>0.00</td>\n",
       "      <td>25</td>\n",
       "      <td>1</td>\n",
       "    </tr>\n",
       "    <tr>\n",
       "      <th>16</th>\n",
       "      <td>무부하매연측정치6</td>\n",
       "      <td>860555</td>\n",
       "      <td>276839</td>\n",
       "      <td>0.00</td>\n",
       "      <td>38</td>\n",
       "      <td>22039</td>\n",
       "      <td>1</td>\n",
       "      <td>0</td>\n",
       "      <td>982782</td>\n",
       "      <td>29687</td>\n",
       "      <td>4</td>\n",
       "      <td>435</td>\n",
       "      <td>0.00</td>\n",
       "      <td>25</td>\n",
       "      <td>1</td>\n",
       "    </tr>\n",
       "  </tbody>\n",
       "</table>\n",
       "</div>"
      ],
      "text/plain": [
       "          컬럼명   4등급_경유  4등급_휘발유  4등급_nan  4등급_기타연료  4등급_LPG(액화석유가스)  \\\n",
       "0        검사방법    44043   275254     0.00        37            21761   \n",
       "1        검사일자    44043   275254     0.00        37            21761   \n",
       "2        검사종류    44043   275254     0.00        37            21761   \n",
       "3      검사판정시각    52620   275825     0.00        37            21806   \n",
       "4        검사판정    44043   275254     0.00        37            21761   \n",
       "5    무부하매연판정1    52625   276357     0.00        38            21859   \n",
       "6   무부하매연측정치1    52620   276357     0.00        38            21859   \n",
       "7    무부하매연판정2  1108848   276368     0.00        38            21859   \n",
       "8   무부하매연측정치2   794724   276366     0.00        38            21859   \n",
       "9    무부하매연판정3  1109728   276368     0.00        38            21859   \n",
       "10  무부하매연측정치3   829069   276366     0.00        38            21859   \n",
       "11   무부하매연판정4  1109730   276843     0.00        38            22039   \n",
       "12  무부하매연측정치4   829071   276839     0.00        38            22039   \n",
       "13   무부하매연판정5  1109730   276843     0.00        38            22039   \n",
       "14  무부하매연측정치5   829071   276839     0.00        38            22039   \n",
       "15   무부하매연판정6  1152693   276843     0.00        38            22039   \n",
       "16  무부하매연측정치6   860555   276839     0.00        38            22039   \n",
       "\n",
       "    4등급_CNG(압축천연가스)  4등급_알코올   5등급_경유  5등급_휘발유  5등급_CNG(압축천연가스)  \\\n",
       "0                 0        0   417776    29670                3   \n",
       "1                 0        0   417776    29670                3   \n",
       "2                 0        0   417776    29670                3   \n",
       "3                 0        0   423727    29674                3   \n",
       "4                 0        0   417776    29670                3   \n",
       "5                 0        0   423936    29681                3   \n",
       "6                 0        0   423927    29681                3   \n",
       "7                 1        0  1017450    29683                3   \n",
       "8                 1        0   890184    29683                3   \n",
       "9                 1        0  1017776    29683                3   \n",
       "10                1        0   909619    29683                3   \n",
       "11                1        0  1018119    29692                3   \n",
       "12                1        0   909961    29687                3   \n",
       "13                1        0  1018119    29692                3   \n",
       "14                1        0   909961    29687                3   \n",
       "15                1        0  1115336    29692                5   \n",
       "16                1        0   982782    29687                4   \n",
       "\n",
       "    5등급_LPG(액화석유가스)  5등급_nan  5등급_기타연료  5등급_알코올  \n",
       "0               433     0.00        25        1  \n",
       "1               433     0.00        25        1  \n",
       "2               433     0.00        25        1  \n",
       "3               433     0.00        25        1  \n",
       "4               433     0.00        25        1  \n",
       "5               433     0.00        25        1  \n",
       "6               433     0.00        25        1  \n",
       "7               433     0.00        25        1  \n",
       "8               433     0.00        25        1  \n",
       "9               433     0.00        25        1  \n",
       "10              433     0.00        25        1  \n",
       "11              435     0.00        25        1  \n",
       "12              435     0.00        25        1  \n",
       "13              435     0.00        25        1  \n",
       "14              435     0.00        25        1  \n",
       "15              435     0.00        25        1  \n",
       "16              435     0.00        25        1  "
      ]
     },
     "metadata": {},
     "output_type": "display_data"
    }
   ],
   "source": [
    "g45_miss = g4_miss.merge(g5_miss, on='컬럼명', how='left')\n",
    "g45_miss"
   ]
  },
  {
   "cell_type": "code",
   "execution_count": null,
   "metadata": {},
   "outputs": [
    {
     "data": {
      "text/plain": [
       "'2023.02.22_PM.15.33.36'"
      ]
     },
     "metadata": {},
     "output_type": "display_data"
    }
   ],
   "source": [
    "today_date = datetime.today().strftime(\"%Y.%m.%d_%p.%H.%M.%S\")\n",
    "today_date"
   ]
  },
  {
   "cell_type": "code",
   "execution_count": null,
   "metadata": {},
   "outputs": [],
   "source": [
    "g45_miss.to_excel(f'analysis2/4_5등급_검사_결측치_{today_date}.xlsx', index=False)"
   ]
  },
  {
   "attachments": {},
   "cell_type": "markdown",
   "metadata": {},
   "source": [
    "# 코드 마지막"
   ]
  }
 ],
 "metadata": {
  "kernelspec": {
   "display_name": "base",
   "language": "python",
   "name": "python3"
  },
  "language_info": {
   "codemirror_mode": {
    "name": "ipython",
    "version": 3
   },
   "file_extension": ".py",
   "mimetype": "text/x-python",
   "name": "python",
   "nbconvert_exporter": "python",
   "pygments_lexer": "ipython3",
   "version": "3.9.13"
  },
  "orig_nbformat": 4,
  "vscode": {
   "interpreter": {
    "hash": "ad2bdc8ecc057115af97d19610ffacc2b4e99fae6737bb82f5d7fb13d2f2c186"
   }
  }
 },
 "nbformat": 4,
 "nbformat_minor": 2
}
