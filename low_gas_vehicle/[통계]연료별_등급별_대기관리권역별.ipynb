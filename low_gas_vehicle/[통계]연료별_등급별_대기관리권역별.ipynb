{
 "cells": [
  {
   "attachments": {},
   "cell_type": "markdown",
   "metadata": {},
   "source": [
    "# Library"
   ]
  },
  {
   "cell_type": "code",
   "execution_count": 1,
   "metadata": {},
   "outputs": [],
   "source": [
    "import pandas as pd\n",
    "import numpy as np\n",
    "from tqdm import tqdm\n",
    "import os\n",
    "from datetime import datetime"
   ]
  },
  {
   "attachments": {},
   "cell_type": "markdown",
   "metadata": {},
   "source": [
    "# fold path"
   ]
  },
  {
   "cell_type": "code",
   "execution_count": 2,
   "metadata": {},
   "outputs": [],
   "source": [
    "raw_fold = 'D:/data/low_gas_vehicle/raw'\n",
    "an_fold = 'D:/data/low_gas_vehicle/analysis'"
   ]
  },
  {
   "cell_type": "markdown",
   "metadata": {},
   "source": [
    "# Load"
   ]
  },
  {
   "cell_type": "markdown",
   "metadata": {},
   "source": [
    "## 등록정보"
   ]
  },
  {
   "cell_type": "code",
   "execution_count": 24,
   "metadata": {},
   "outputs": [
    {
     "name": "stdout",
     "output_type": "stream",
     "text": [
      "<class 'pandas.core.frame.DataFrame'>\n",
      "RangeIndex: 30625663 entries, 0 to 30625662\n",
      "Data columns (total 10 columns):\n",
      " #   Column             Dtype \n",
      "---  ------             ----- \n",
      " 0   BSPL_STDG_CD       int64 \n",
      " 1   EXHST_GAS_CERT_NO  object\n",
      " 2   EXHST_GAS_GRD_CD   object\n",
      " 3   FRST_REG_YMD       object\n",
      " 4   VHCL_OWNR_CL_CD    object\n",
      " 5   PURPS_CD2          object\n",
      " 6   MANP_MNG_NO        object\n",
      " 7   VHCL_ERSR_YN       object\n",
      " 8   VHCTY_CD           object\n",
      " 9   VIN                object\n",
      "dtypes: int64(1), object(9)\n",
      "memory usage: 2.3+ GB\n"
     ]
    }
   ],
   "source": [
    "# 2m 40s\n",
    "# car = pd.read_csv(os.path.join(ods_fold, 'ODS_CEG_CAR_MIG.csv'), low_memory=False, usecols=['EMIS_CRTCNO', 'FST_REG_DE', 'VHCL_ERSR_YN', 'VIN', 'SRCMNNO', 'EMIS_GRD'])\n",
    "# 2023.07.08 기준(확인 : 어니컴 유덕수 대리)\n",
    "car = pd.read_csv(os.path.join(raw_fold, 'STD_CEG_CAR_MIG(20230708).csv'), low_memory=False, usecols=['EXHST_GAS_CERT_NO', 'FRST_REG_YMD', 'VHCL_ERSR_YN', 'VIN', 'MANP_MNG_NO', 'EXHST_GAS_GRD_CD', 'VHCTY_CD', 'PURPS_CD2', 'VHCL_OWNR_CL_CD', 'BSPL_STDG_CD'])\n",
    "car.info()"
   ]
  },
  {
   "cell_type": "code",
   "execution_count": 122,
   "metadata": {},
   "outputs": [
    {
     "data": {
      "text/plain": [
       "10"
      ]
     },
     "execution_count": 122,
     "metadata": {},
     "output_type": "execute_result"
    }
   ],
   "source": [
    "cdict = {\n",
    "    'EXHST_GAS_CERT_NO':'배출가스인증번호',\n",
    "    'FRST_REG_YMD':'최초등록일자',\n",
    "    'VHCL_ERSR_YN':'차량말소YN',\n",
    "    'VIN':'차대번호',\n",
    "    'MANP_MNG_NO':'제원관리번호',\n",
    "    'EXHST_GAS_GRD_CD':'배출가스등급',\n",
    "    'VHCTY_CD':'차종', \n",
    "    'PURPS_CD2':'용도',\n",
    "    'VHCL_OWNR_CL_CD':'사용자구분', \n",
    "    'BSPL_STDG_CD':'본거지법정동코드',\n",
    "#     'OWNR_SE':'소유자구분',\n",
    "#     'UPDT_DT':'수정일시',\n",
    "#     'VHRNO':'차량등록번호',\n",
    "#     'CRTN_DT':'생성일시',\n",
    "#     'EMIS_INSP_EFCT_DE':'배출가스검사유효일자',\n",
    "#     'EMIS_CRTCNO':'배출가스인증번호',\n",
    "#     'NOW_MBERNO':'현재회원번호',\n",
    "#     'ACQS_DE':'취득일자',\n",
    "#     'ACQS_AMT':'취득금액',\n",
    "#     'FST_MBERNO':'최초회원번호',\n",
    "#     'VHRNO_NUM_INFO':'차량등록번호숫자정보',\n",
    "#     'VHMNO':'차량관리번호',\n",
    "#     'VHCL_MNFCT_DE':'차량제작일자',\n",
    "#     'VHCL_YRIDNW':'차량연식',\n",
    "#     'VHCL_ERSR_YN':'차량말소YN',\n",
    "#     'VIN':'차대번호',\n",
    "#     'LEM_KND':'저공해조치종류',\n",
    "#     'LEM_STRCHG_YN':'저공해조치구조변경YN',\n",
    "#     'LEM_YN':'저공해조치YN(미사용)',\n",
    "#     'NOW_OWNR_NM':'미정',\n",
    "#     'BSPL_ADRS':'미정',\n",
    "#     'OWNR_ADRS':'미정',\n",
    "#     'BSPL_ZIP':'미정',\n",
    "#     'FST_OWNR_NM':'미정',\n",
    "#     'RMK':'미정',\n",
    "#     'USER_ID':'미정',\n",
    "}\n",
    "len(cdict)"
   ]
  },
  {
   "cell_type": "code",
   "execution_count": 123,
   "metadata": {},
   "outputs": [
    {
     "data": {
      "text/plain": [
       "Index(['본거지법정동코드', '배출가스인증번호', '배출가스등급', '최초등록일자', '사용자구분', '용도', '제원관리번호',\n",
       "       '차량말소YN', '차종', '차대번호'],\n",
       "      dtype='object')"
      ]
     },
     "execution_count": 123,
     "metadata": {},
     "output_type": "execute_result"
    }
   ],
   "source": [
    "carr = car.rename(columns=cdict)\n",
    "carr.columns"
   ]
  },
  {
   "cell_type": "code",
   "execution_count": 124,
   "metadata": {},
   "outputs": [
    {
     "data": {
      "text/plain": [
       "Index(['법정동코드', '배출가스인증번호', '배출가스등급', '최초등록일자', '사용자구분', '용도', '제원관리번호',\n",
       "       '차량말소YN', '차종', '차대번호'],\n",
       "      dtype='object')"
      ]
     },
     "execution_count": 124,
     "metadata": {},
     "output_type": "execute_result"
    }
   ],
   "source": [
    "carr = carr.rename(columns={'본거지법정동코드':'법정동코드'})\n",
    "carr.columns"
   ]
  },
  {
   "cell_type": "markdown",
   "metadata": {},
   "source": [
    "## 제원정보"
   ]
  },
  {
   "cell_type": "code",
   "execution_count": 28,
   "metadata": {},
   "outputs": [
    {
     "name": "stdout",
     "output_type": "stream",
     "text": [
      "<class 'pandas.core.frame.DataFrame'>\n",
      "RangeIndex: 566615 entries, 0 to 566614\n",
      "Data columns (total 5 columns):\n",
      " #   Column        Non-Null Count   Dtype \n",
      "---  ------        --------------   ----- \n",
      " 0   FUEL_CD       545937 non-null  object\n",
      " 1   MANP_MNG_NO   566615 non-null  object\n",
      " 2   VHCNM         566544 non-null  object\n",
      " 3   VHCTY_CL_CD   551140 non-null  object\n",
      " 4   VHCTY_TY_CD2  553038 non-null  object\n",
      "dtypes: object(5)\n",
      "memory usage: 21.6+ MB\n"
     ]
    }
   ],
   "source": [
    "# 3s\n",
    "# src = pd.read_csv(os.path.join(ods_fold, 'ODS_CEG_CAR_SRC_MIG.csv'), low_memory=False, usecols=['SRCMNNO', 'FUEL', 'VHCNM', 'VHCTY', 'VHCTY_TY'])\n",
    "src = pd.read_csv(os.path.join(raw_fold, 'STD_CEG_CAR_SRC_MIG(20230708).csv'), low_memory=False, usecols=['MANP_MNG_NO', 'FUEL_CD', 'VHCNM', 'VHCTY_CL_CD', 'VHCTY_TY_CD2'])\n",
    "src.info()"
   ]
  },
  {
   "cell_type": "code",
   "execution_count": 29,
   "metadata": {},
   "outputs": [
    {
     "data": {
      "text/plain": [
       "Index(['연료', '제원관리번호', '차명', '차종분류', '차종유형'], dtype='object')"
      ]
     },
     "execution_count": 29,
     "metadata": {},
     "output_type": "execute_result"
    }
   ],
   "source": [
    "cdict = {\n",
    "    'MANP_MNG_NO':'제원관리번호',\n",
    "    'FUEL_CD':'연료',\n",
    "    'VHCNM':'차명',\n",
    "    # 'VHCTY_CD':'차종', \n",
    "    'VHCTY_CL_CD':'차종분류',\n",
    "    'VHCTY_TY_CD2':'차종유형', \n",
    "#     'UPDT_DT':'수정일시',\n",
    "#     'CNFRM_DE':'승인일자',\n",
    "#     'DELE_YN':'삭제YN', \n",
    "#     'CRTN_DT':'생성일시', \n",
    "#     'TOTL_WGHT':'총중량',\n",
    "#     'VHCTY_TY':'차종유형(소분류)', \n",
    "#     'VHCTY_CL':'차종분류',\n",
    "#     'VHCTY':'차종', \n",
    "#     'VHCNM':'차명',\n",
    "#     'VHCL_HG':'차량높이',\n",
    "#     'VHCL_WH':'차량너비',\n",
    "#     'VHCL_LT':'차량길이',\n",
    "#     'DRV_FRM':'구동형식',\n",
    "#     'MKR_NM':'제작사명',\n",
    "#     'SRCMNNO':'제원관리번호',\n",
    "#     'CRYNG_WGHT':'적재중량',\n",
    "#     'CAR_FRM':'자동차형식',\n",
    "#     'EMPV_WGHT':'공차중량',\n",
    "#     'PLOR_NM':'원산지명',\n",
    "#     'FUEL':'연료',\n",
    "#     'EGINTY':'엔진형식',\n",
    "#     'EGINPWR':'엔진출력',\n",
    "#     'TKCAR_NMPR':'승차인원',\n",
    "#     'DSPLVL':'배기량',\n",
    "#     'GEARBOX_KND':'변속기종류',\n",
    "#     'REPCAR_NM':'미정',\n",
    "#     'RMK':'미정',\n",
    "#     'USER_ID':'미정',\n",
    "}\n",
    "srcr = src.rename(columns=cdict)\n",
    "srcr.columns"
   ]
  },
  {
   "cell_type": "markdown",
   "metadata": {},
   "source": [
    "## 본거지법정동코드"
   ]
  },
  {
   "cell_type": "code",
   "execution_count": 30,
   "metadata": {},
   "outputs": [
    {
     "name": "stdout",
     "output_type": "stream",
     "text": [
      "<class 'pandas.core.frame.DataFrame'>\n",
      "RangeIndex: 47916 entries, 0 to 47915\n",
      "Data columns (total 4 columns):\n",
      " #   Column        Non-Null Count  Dtype \n",
      "---  ------        --------------  ----- \n",
      " 0   STDG_CD       47916 non-null  int64 \n",
      " 1   ABL_YN        47916 non-null  object\n",
      " 2   STDG_CTPV_NM  47916 non-null  object\n",
      " 3   STDG_SGG_NM   47892 non-null  object\n",
      "dtypes: int64(1), object(3)\n",
      "memory usage: 1.5+ MB\n"
     ]
    }
   ],
   "source": [
    "# 3s\n",
    "code = pd.read_csv(os.path.join(raw_fold, 'STD_BJCD_INFO(20230904).csv'), low_memory=False, usecols=['STDG_CD', 'STDG_CTPV_NM', 'STDG_SGG_NM', 'ABL_YN'])\n",
    "code.info()"
   ]
  },
  {
   "cell_type": "code",
   "execution_count": 31,
   "metadata": {},
   "outputs": [
    {
     "data": {
      "text/plain": [
       "Index(['법정동코드', '폐지여부', '시도', '시군구'], dtype='object')"
      ]
     },
     "execution_count": 31,
     "metadata": {},
     "output_type": "execute_result"
    }
   ],
   "source": [
    "cdict = {\n",
    "    'STDG_CD':'법정동코드', \n",
    "    'STDG_CTPV_NM':'시도', \n",
    "    'STDG_SGG_NM':'시군구', \n",
    "    # 'STDG_CTPV_CD':'시도코드', \n",
    "    # 'STDG_SGG_CD':'시군구코드', \n",
    "    'ABL_YN':'폐지여부', \n",
    "}\n",
    "coder = code.rename(columns=cdict)\n",
    "coder.columns"
   ]
  },
  {
   "cell_type": "code",
   "execution_count": 32,
   "metadata": {},
   "outputs": [
    {
     "data": {
      "text/plain": [
       "폐지여부\n",
       "폐지    27263\n",
       "존재    20653\n",
       "Name: count, dtype: int64"
      ]
     },
     "execution_count": 32,
     "metadata": {},
     "output_type": "execute_result"
    }
   ],
   "source": [
    "coder['폐지여부'].value_counts(dropna=False)"
   ]
  },
  {
   "cell_type": "code",
   "execution_count": 33,
   "metadata": {},
   "outputs": [
    {
     "data": {
      "text/plain": [
       "(20653, 4)"
      ]
     },
     "execution_count": 33,
     "metadata": {},
     "output_type": "execute_result"
    }
   ],
   "source": [
    "coder = coder[coder['폐지여부'] == '존재'].reset_index(drop=True)\n",
    "coder.shape"
   ]
  },
  {
   "cell_type": "markdown",
   "metadata": {},
   "source": [
    "## 본거지 법정동 코드(대기관리권역정보)"
   ]
  },
  {
   "cell_type": "code",
   "execution_count": 34,
   "metadata": {},
   "outputs": [
    {
     "name": "stdout",
     "output_type": "stream",
     "text": [
      "<class 'pandas.core.frame.DataFrame'>\n",
      "RangeIndex: 46342 entries, 0 to 46341\n",
      "Data columns (total 4 columns):\n",
      " #   Column    Non-Null Count  Dtype \n",
      "---  ------    --------------  ----- \n",
      " 0   시도        46342 non-null  object\n",
      " 1   시구군       46319 non-null  object\n",
      " 2   대기관리권역    46342 non-null  object\n",
      " 3   대기관리권역YN  46337 non-null  object\n",
      "dtypes: object(4)\n",
      "memory usage: 1.4+ MB\n"
     ]
    }
   ],
   "source": [
    "# 3s\n",
    "air = pd.read_excel(os.path.join(raw_fold, '법정동코드_2022.10.14(수정2023.05.04).xlsx'), usecols=['시도', '시구군', '대기관리권역', '대기관리권역YN'])\n",
    "air.info()"
   ]
  },
  {
   "cell_type": "code",
   "execution_count": 35,
   "metadata": {},
   "outputs": [
    {
     "data": {
      "text/plain": [
       "Index(['시도', '시군구', '대기관리권역', '대기관리권역YN'], dtype='object')"
      ]
     },
     "execution_count": 35,
     "metadata": {},
     "output_type": "execute_result"
    }
   ],
   "source": [
    "air = air.rename(columns={'시구군':'시군구'})\n",
    "air.columns"
   ]
  },
  {
   "cell_type": "code",
   "execution_count": 36,
   "metadata": {},
   "outputs": [
    {
     "data": {
      "text/plain": [
       "(2846, 4)"
      ]
     },
     "execution_count": 36,
     "metadata": {},
     "output_type": "execute_result"
    }
   ],
   "source": [
    "air[air['시도'] == '강원도'].shape"
   ]
  },
  {
   "cell_type": "code",
   "execution_count": 37,
   "metadata": {},
   "outputs": [],
   "source": [
    "air.loc[air['시도'] == '강원도', '시도'] = '강원특별자치도'"
   ]
  },
  {
   "cell_type": "code",
   "execution_count": 38,
   "metadata": {},
   "outputs": [
    {
     "data": {
      "text/plain": [
       "(0, 4)"
      ]
     },
     "execution_count": 38,
     "metadata": {},
     "output_type": "execute_result"
    }
   ],
   "source": [
    "air[air['시도'] == '강원도'].shape"
   ]
  },
  {
   "cell_type": "markdown",
   "metadata": {},
   "source": [
    "# Preprocessing"
   ]
  },
  {
   "cell_type": "markdown",
   "metadata": {},
   "source": [
    "## 등록정보"
   ]
  },
  {
   "cell_type": "code",
   "execution_count": 116,
   "metadata": {},
   "outputs": [
    {
     "data": {
      "text/plain": [
       "(30625663, 10)"
      ]
     },
     "execution_count": 116,
     "metadata": {},
     "output_type": "execute_result"
    }
   ],
   "source": [
    "carr.shape"
   ]
  },
  {
   "cell_type": "code",
   "execution_count": 125,
   "metadata": {},
   "outputs": [
    {
     "data": {
      "text/plain": [
       "(30610548, 10)"
      ]
     },
     "execution_count": 125,
     "metadata": {},
     "output_type": "execute_result"
    }
   ],
   "source": [
    "# 중복 차대번호 제거\n",
    "# 1m 48s\n",
    "carr = carr.sort_values('최초등록일자', ascending=False).drop_duplicates('차대번호').reset_index(drop=True)\n",
    "carr.shape"
   ]
  },
  {
   "cell_type": "code",
   "execution_count": 126,
   "metadata": {},
   "outputs": [
    {
     "data": {
      "text/plain": [
       "array([nan, 'A0503', 'A0502', 'A0501', 'A0505', 'A0504'], dtype=object)"
      ]
     },
     "execution_count": 126,
     "metadata": {},
     "output_type": "execute_result"
    }
   ],
   "source": [
    "carr['배출가스등급'].unique()"
   ]
  },
  {
   "cell_type": "code",
   "execution_count": 127,
   "metadata": {},
   "outputs": [
    {
     "data": {
      "text/plain": [
       "배출가스등급\n",
       "A0502    12142816\n",
       "A0503     9897390\n",
       "A0501     3293520\n",
       "A0505     2313549\n",
       "A0504     1905402\n",
       "NaN       1057871\n",
       "Name: count, dtype: int64"
      ]
     },
     "execution_count": 127,
     "metadata": {},
     "output_type": "execute_result"
    }
   ],
   "source": [
    "carr['배출가스등급'].value_counts(dropna=False)"
   ]
  },
  {
   "cell_type": "code",
   "execution_count": 128,
   "metadata": {},
   "outputs": [
    {
     "data": {
      "text/plain": [
       "array(['X', '3', '2', '1', '5', '4'], dtype=object)"
      ]
     },
     "execution_count": 128,
     "metadata": {},
     "output_type": "execute_result"
    }
   ],
   "source": [
    "## 배출가스등급 코드 변환\n",
    "grd_dict = {\n",
    "    'A0501':'1', \n",
    "    'A0502':'2', \n",
    "    'A0503':'3', \n",
    "    'A0504':'4', \n",
    "    'A0505':'5', \n",
    "    'A05T2':'2',\n",
    "    'A05T3':'3', \n",
    "    'A05T4':'4', \n",
    "    'A05T5':'5', \n",
    "    'A05X':'X', \n",
    "}\n",
    "carr['배출가스등급'] = carr['배출가스등급'].replace(grd_dict)\n",
    "carr['배출가스등급'] = carr['배출가스등급'].fillna('X')\n",
    "carr['배출가스등급'].unique()"
   ]
  },
  {
   "cell_type": "code",
   "execution_count": 129,
   "metadata": {},
   "outputs": [
    {
     "data": {
      "text/plain": [
       "배출가스등급\n",
       "2    12142816\n",
       "3     9897390\n",
       "1     3293520\n",
       "5     2313549\n",
       "4     1905402\n",
       "X     1057871\n",
       "Name: count, dtype: int64"
      ]
     },
     "execution_count": 129,
     "metadata": {},
     "output_type": "execute_result"
    }
   ],
   "source": [
    "carr['배출가스등급'].value_counts(dropna=False)"
   ]
  },
  {
   "cell_type": "code",
   "execution_count": 130,
   "metadata": {},
   "outputs": [
    {
     "data": {
      "text/plain": [
       "array(['승용', '화물', '특수', '승합'], dtype=object)"
      ]
     },
     "execution_count": 130,
     "metadata": {},
     "output_type": "execute_result"
    }
   ],
   "source": [
    "## 차종 코드 변환\n",
    "cd_dict = {\n",
    "    'A31M':'이륜', \n",
    "    'A31P':'승용', \n",
    "    'A31S':'특수', \n",
    "    'A31T':'화물', \n",
    "    'A31V':'승합'\n",
    "}\n",
    "carr['차종'] = carr['차종'].replace(cd_dict)\n",
    "carr['차종'].unique()"
   ]
  },
  {
   "cell_type": "code",
   "execution_count": 131,
   "metadata": {},
   "outputs": [
    {
     "data": {
      "text/plain": [
       "array(['개인용', '영업용', '관용'], dtype=object)"
      ]
     },
     "execution_count": 131,
     "metadata": {},
     "output_type": "execute_result"
    }
   ],
   "source": [
    "## 용도 코드 변환\n",
    "purps_dict = {\n",
    "    'A08P':'개인용', \n",
    "    'A08B':'영업용', \n",
    "    'A08O':'관용',\n",
    "}\n",
    "carr['용도'] = carr['용도'].replace(purps_dict)\n",
    "carr['용도'].unique()"
   ]
  },
  {
   "cell_type": "code",
   "execution_count": 132,
   "metadata": {},
   "outputs": [],
   "source": [
    "# ## 소유자구분 코드 변환\n",
    "# ownr_dict = {\n",
    "#     'A27B':'사업자', \n",
    "#     'A27F':'외국인', \n",
    "#     'A27L':'법인', \n",
    "#     'A27O':'기타', \n",
    "#     'A27R':'주민', \n",
    "# }\n",
    "# carr['소유자구분'] = carr['소유자구분'].replace(ownr_dict)\n",
    "# carr['소유자구분'].unique()"
   ]
  },
  {
   "cell_type": "code",
   "execution_count": 133,
   "metadata": {},
   "outputs": [
    {
     "data": {
      "text/plain": [
       "dtype('int64')"
      ]
     },
     "execution_count": 133,
     "metadata": {},
     "output_type": "execute_result"
    }
   ],
   "source": [
    "carr['법정동코드'].dtype"
   ]
  },
  {
   "cell_type": "markdown",
   "metadata": {},
   "source": [
    "## 제원정보"
   ]
  },
  {
   "cell_type": "code",
   "execution_count": 52,
   "metadata": {},
   "outputs": [
    {
     "data": {
      "text/plain": [
       "(566615, 5)"
      ]
     },
     "execution_count": 52,
     "metadata": {},
     "output_type": "execute_result"
    }
   ],
   "source": [
    "srcr.shape"
   ]
  },
  {
   "cell_type": "code",
   "execution_count": 53,
   "metadata": {},
   "outputs": [],
   "source": [
    "# srcr['차종'].unique()"
   ]
  },
  {
   "cell_type": "code",
   "execution_count": 54,
   "metadata": {},
   "outputs": [],
   "source": [
    "# srcr['차종'].value_counts(dropna=False)"
   ]
  },
  {
   "cell_type": "code",
   "execution_count": 55,
   "metadata": {},
   "outputs": [],
   "source": [
    "# ## 차종 코드 변환\n",
    "# cd_dict = {\n",
    "#     'A31M':'이륜', \n",
    "#     'A31P':'승용', \n",
    "#     'A31S':'특수', \n",
    "#     'A31T':'화물', \n",
    "#     'A31V':'승합'\n",
    "# }\n",
    "# srcr['차종'] = srcr['차종'].replace(cd_dict)\n",
    "# srcr['차종'].unique()"
   ]
  },
  {
   "cell_type": "code",
   "execution_count": 56,
   "metadata": {},
   "outputs": [],
   "source": [
    "# srcr['차종'].value_counts(dropna=False)"
   ]
  },
  {
   "cell_type": "code",
   "execution_count": 57,
   "metadata": {},
   "outputs": [
    {
     "data": {
      "text/plain": [
       "array(['A2826', 'A2814', 'A2825', 'A2819', 'A2821', 'A2824', 'A2811',\n",
       "       'A2820', 'A2810', 'A2809', 'A2816', 'A2815', 'A2823', 'A2822',\n",
       "       'A2813', 'A2812', nan], dtype=object)"
      ]
     },
     "execution_count": 57,
     "metadata": {},
     "output_type": "execute_result"
    }
   ],
   "source": [
    "srcr['차종분류'].unique()"
   ]
  },
  {
   "cell_type": "code",
   "execution_count": 58,
   "metadata": {},
   "outputs": [
    {
     "data": {
      "text/plain": [
       "array(['일반', '특수용도형-특수용도형', '승용겸화물', '다목적', '기타', '밴', '특수', '덤프',\n",
       "       '일반형-픽업', '일반형-카고', '특수작업형', '특수용도형-피견인', '구난', '견인', '특수용도형-탱크로리',\n",
       "       '특수용도형', nan], dtype=object)"
      ]
     },
     "execution_count": 58,
     "metadata": {},
     "output_type": "execute_result"
    }
   ],
   "source": [
    "## 차종분류 코드 변환\n",
    "cl_dict = {\n",
    "    'A2801':'견인', \n",
    "    'A2802':'구난', \n",
    "    'A2803':'기타', \n",
    "    'A2804':'다목적',\n",
    "    'A2805':'덤프',\n",
    "    'A2806':'밴',\n",
    "    'A2807':'승용겸화물',\n",
    "    'A2808':'일반',\n",
    "    'A2809':'일반형-카고',\n",
    "    'A2810':'일반형-픽업',\n",
    "    'A2811':'특수',\n",
    "    'A2812':'특수용도형',\n",
    "    'A2813':'특수용도형-탱크로리',\n",
    "    'A2814':'특수용도형-특수용도형',\n",
    "    'A2815':'특수용도형-피견인',\n",
    "    'A2816':'특수작업형',\n",
    "    'A2818':'특수', \n",
    "    'A2819':'다목적', \n",
    "    'A2820':'덤프', \n",
    "    'A2821':'기타', \n",
    "    'A2822':'견인', \n",
    "    'A2823':'구난', \n",
    "    'A2824':'밴', \n",
    "    'A2825':'승용겸화물', \n",
    "    'A2826':'일반', \n",
    "\n",
    "}\n",
    "srcr['차종분류'] = srcr['차종분류'].replace(cl_dict)\n",
    "srcr['차종분류'].unique()"
   ]
  },
  {
   "cell_type": "code",
   "execution_count": 59,
   "metadata": {},
   "outputs": [
    {
     "data": {
      "text/plain": [
       "array(['A30L', 'A30M', 'A30S', 'A30C', nan], dtype=object)"
      ]
     },
     "execution_count": 59,
     "metadata": {},
     "output_type": "execute_result"
    }
   ],
   "source": [
    "srcr['차종유형'].unique()"
   ]
  },
  {
   "cell_type": "code",
   "execution_count": 60,
   "metadata": {},
   "outputs": [
    {
     "data": {
      "text/plain": [
       "차종유형\n",
       "A30L    356019\n",
       "A30M    132073\n",
       "A30S     55204\n",
       "NaN      13577\n",
       "A30C      9742\n",
       "Name: count, dtype: int64"
      ]
     },
     "execution_count": 60,
     "metadata": {},
     "output_type": "execute_result"
    }
   ],
   "source": [
    "srcr['차종유형'].value_counts(dropna=False)"
   ]
  },
  {
   "cell_type": "code",
   "execution_count": 61,
   "metadata": {},
   "outputs": [
    {
     "data": {
      "text/plain": [
       "array(['대형', '중형', '소형', '경형', nan], dtype=object)"
      ]
     },
     "execution_count": 61,
     "metadata": {},
     "output_type": "execute_result"
    }
   ],
   "source": [
    "## 차종유형 코드 변환\n",
    "ty_dict = {\n",
    "    'A30C':'경형', \n",
    "    'A30L':'대형', \n",
    "    'A30M':'중형', \n",
    "    'A30S':'소형',\n",
    "}\n",
    "srcr['차종유형'] = srcr['차종유형'].replace(ty_dict)\n",
    "srcr['차종유형'].unique()"
   ]
  },
  {
   "cell_type": "code",
   "execution_count": 62,
   "metadata": {},
   "outputs": [
    {
     "data": {
      "text/plain": [
       "차종유형\n",
       "대형     356019\n",
       "중형     132073\n",
       "소형      55204\n",
       "NaN     13577\n",
       "경형       9742\n",
       "Name: count, dtype: int64"
      ]
     },
     "execution_count": 62,
     "metadata": {},
     "output_type": "execute_result"
    }
   ],
   "source": [
    "srcr['차종유형'].value_counts(dropna=False)"
   ]
  },
  {
   "cell_type": "code",
   "execution_count": 63,
   "metadata": {},
   "outputs": [
    {
     "data": {
      "text/plain": [
       "array(['A90GS', 'A91DS', 'A94OT', 'A92LP', nan, 'A90GH', 'A92CN', 'A91KS',\n",
       "       'A93SH', 'A91DH', 'A93EV', 'A90AC', 'A92LH', 'A93HD', 'A92LN',\n",
       "       'A92CH'], dtype=object)"
      ]
     },
     "execution_count": 63,
     "metadata": {},
     "output_type": "execute_result"
    }
   ],
   "source": [
    "srcr['연료'].unique()"
   ]
  },
  {
   "cell_type": "code",
   "execution_count": 64,
   "metadata": {},
   "outputs": [
    {
     "data": {
      "text/plain": [
       "연료\n",
       "A91DS    284477\n",
       "A90GS    218330\n",
       "A94OT     23793\n",
       "NaN       20678\n",
       "A92CN      7380\n",
       "A92LP      4939\n",
       "A90GH      4149\n",
       "A93EV      2212\n",
       "A91DH       361\n",
       "A92CH       105\n",
       "A93HD        98\n",
       "A92LN        25\n",
       "A91KS        20\n",
       "A92LH        19\n",
       "A90AC        17\n",
       "A93SH        12\n",
       "Name: count, dtype: int64"
      ]
     },
     "execution_count": 64,
     "metadata": {},
     "output_type": "execute_result"
    }
   ],
   "source": [
    "srcr['연료'].value_counts(dropna=False)"
   ]
  },
  {
   "cell_type": "code",
   "execution_count": 65,
   "metadata": {},
   "outputs": [
    {
     "data": {
      "text/plain": [
       "array(['휘발유', '경유', '기타연료', 'LPG(액화석유가스)', nan, '휘발유 하이브리드',\n",
       "       'CNG(압축천연가스)', '등유', '태양열', '경유 하이브리드', '전기', '알코올', 'LPG 하이브리드',\n",
       "       '수소', 'LNG(액화천연가스)', 'CNG 하이브리드'], dtype=object)"
      ]
     },
     "execution_count": 65,
     "metadata": {},
     "output_type": "execute_result"
    }
   ],
   "source": [
    "## 연료 코드 변환\n",
    "fuel_dict = {\n",
    "    'A90GS':'휘발유', \n",
    "    'A91DS':'경유',\n",
    "    'A92LP':'LPG(액화석유가스)', \n",
    "    'A90GH':'휘발유 하이브리드', \n",
    "    'A93EV':'전기', \n",
    "    'A91DH':'경유 하이브리드', \n",
    "    'A92CN':'CNG(압축천연가스)', \n",
    "    'A93HD':'수소', \n",
    "    'A92LH':'LPG 하이브리드', \n",
    "    'A94OT':'기타연료', \n",
    "    'A92CH':'CNG 하이브리드',\n",
    "    'A90AC':'알코올', \n",
    "    'A93SH':'태양열', \n",
    "    'A91KS':'등유', \n",
    "    'A92LN':'LNG(액화천연가스)', \n",
    "    'A90PH':'플러그인 하이브리드', \n",
    "}\n",
    "srcr['연료'] = srcr['연료'].replace(fuel_dict)\n",
    "srcr['연료'].unique()"
   ]
  },
  {
   "cell_type": "code",
   "execution_count": 66,
   "metadata": {},
   "outputs": [
    {
     "data": {
      "text/plain": [
       "연료\n",
       "경유             284477\n",
       "휘발유            218330\n",
       "기타연료            23793\n",
       "NaN             20678\n",
       "CNG(압축천연가스)      7380\n",
       "LPG(액화석유가스)      4939\n",
       "휘발유 하이브리드        4149\n",
       "전기               2212\n",
       "경유 하이브리드          361\n",
       "CNG 하이브리드         105\n",
       "수소                 98\n",
       "LNG(액화천연가스)        25\n",
       "등유                 20\n",
       "LPG 하이브리드          19\n",
       "알코올                17\n",
       "태양열                12\n",
       "Name: count, dtype: int64"
      ]
     },
     "execution_count": 66,
     "metadata": {},
     "output_type": "execute_result"
    }
   ],
   "source": [
    "srcr['연료'].value_counts(dropna=False)"
   ]
  },
  {
   "cell_type": "markdown",
   "metadata": {},
   "source": [
    "## 법정동 코드 대기관리권역 정보 추가"
   ]
  },
  {
   "cell_type": "code",
   "execution_count": 67,
   "metadata": {},
   "outputs": [
    {
     "data": {
      "text/plain": [
       "((46342, 4), (443, 4))"
      ]
     },
     "execution_count": 67,
     "metadata": {},
     "output_type": "execute_result"
    }
   ],
   "source": [
    "air.shape, air.drop_duplicates(['시도', '시군구']).shape"
   ]
  },
  {
   "cell_type": "code",
   "execution_count": 68,
   "metadata": {},
   "outputs": [
    {
     "data": {
      "text/plain": [
       "대기관리권역\n",
       "동남권    17032\n",
       "중부권    12327\n",
       "수도권     8225\n",
       "남부권     5339\n",
       "그 외     3419\n",
       "Name: count, dtype: int64"
      ]
     },
     "execution_count": 68,
     "metadata": {},
     "output_type": "execute_result"
    }
   ],
   "source": [
    "air['대기관리권역'].value_counts(dropna=False)"
   ]
  },
  {
   "cell_type": "code",
   "execution_count": 69,
   "metadata": {},
   "outputs": [
    {
     "data": {
      "text/html": [
       "<div>\n",
       "<style scoped>\n",
       "    .dataframe tbody tr th:only-of-type {\n",
       "        vertical-align: middle;\n",
       "    }\n",
       "\n",
       "    .dataframe tbody tr th {\n",
       "        vertical-align: top;\n",
       "    }\n",
       "\n",
       "    .dataframe thead th {\n",
       "        text-align: right;\n",
       "    }\n",
       "</style>\n",
       "<table border=\"1\" class=\"dataframe\">\n",
       "  <thead>\n",
       "    <tr style=\"text-align: right;\">\n",
       "      <th></th>\n",
       "      <th>시도</th>\n",
       "      <th>시군구</th>\n",
       "      <th>대기관리권역</th>\n",
       "      <th>대기관리권역YN</th>\n",
       "    </tr>\n",
       "  </thead>\n",
       "  <tbody>\n",
       "    <tr>\n",
       "      <th>18782</th>\n",
       "      <td>충청남도</td>\n",
       "      <td>논산시</td>\n",
       "      <td>중부권</td>\n",
       "      <td>Y</td>\n",
       "    </tr>\n",
       "    <tr>\n",
       "      <th>18783</th>\n",
       "      <td>충청남도</td>\n",
       "      <td>논산시</td>\n",
       "      <td>중부권</td>\n",
       "      <td>Y</td>\n",
       "    </tr>\n",
       "    <tr>\n",
       "      <th>18784</th>\n",
       "      <td>충청남도</td>\n",
       "      <td>논산시</td>\n",
       "      <td>중부권</td>\n",
       "      <td>Y</td>\n",
       "    </tr>\n",
       "    <tr>\n",
       "      <th>18726</th>\n",
       "      <td>충청남도</td>\n",
       "      <td>논산시</td>\n",
       "      <td>중부권</td>\n",
       "      <td>Y</td>\n",
       "    </tr>\n",
       "    <tr>\n",
       "      <th>23170</th>\n",
       "      <td>전라북도</td>\n",
       "      <td>정읍시</td>\n",
       "      <td>중부권</td>\n",
       "      <td>N</td>\n",
       "    </tr>\n",
       "  </tbody>\n",
       "</table>\n",
       "</div>"
      ],
      "text/plain": [
       "         시도  시군구 대기관리권역 대기관리권역YN\n",
       "18782  충청남도  논산시    중부권        Y\n",
       "18783  충청남도  논산시    중부권        Y\n",
       "18784  충청남도  논산시    중부권        Y\n",
       "18726  충청남도  논산시    중부권        Y\n",
       "23170  전라북도  정읍시    중부권        N"
      ]
     },
     "execution_count": 69,
     "metadata": {},
     "output_type": "execute_result"
    }
   ],
   "source": [
    "air.sort_values(['대기관리권역']).tail()"
   ]
  },
  {
   "cell_type": "code",
   "execution_count": 70,
   "metadata": {},
   "outputs": [
    {
     "data": {
      "text/plain": [
       "(443, 4)"
      ]
     },
     "execution_count": 70,
     "metadata": {},
     "output_type": "execute_result"
    }
   ],
   "source": [
    "air1 = air.sort_values(['대기관리권역']).drop_duplicates(['시도', '시군구']).reset_index(drop=True)\n",
    "air1.shape"
   ]
  },
  {
   "cell_type": "code",
   "execution_count": 71,
   "metadata": {},
   "outputs": [
    {
     "data": {
      "text/html": [
       "<div>\n",
       "<style scoped>\n",
       "    .dataframe tbody tr th:only-of-type {\n",
       "        vertical-align: middle;\n",
       "    }\n",
       "\n",
       "    .dataframe tbody tr th {\n",
       "        vertical-align: top;\n",
       "    }\n",
       "\n",
       "    .dataframe thead th {\n",
       "        text-align: right;\n",
       "    }\n",
       "</style>\n",
       "<table border=\"1\" class=\"dataframe\">\n",
       "  <thead>\n",
       "    <tr style=\"text-align: right;\">\n",
       "      <th></th>\n",
       "      <th>시도</th>\n",
       "      <th>시군구</th>\n",
       "      <th>대기관리권역</th>\n",
       "      <th>대기관리권역YN</th>\n",
       "    </tr>\n",
       "  </thead>\n",
       "  <tbody>\n",
       "    <tr>\n",
       "      <th>0</th>\n",
       "      <td>제주특별자치도</td>\n",
       "      <td>서귀포시</td>\n",
       "      <td>그 외</td>\n",
       "      <td>N</td>\n",
       "    </tr>\n",
       "    <tr>\n",
       "      <th>1</th>\n",
       "      <td>강원특별자치도</td>\n",
       "      <td>홍천군</td>\n",
       "      <td>그 외</td>\n",
       "      <td>N</td>\n",
       "    </tr>\n",
       "    <tr>\n",
       "      <th>2</th>\n",
       "      <td>강원특별자치도</td>\n",
       "      <td>춘천군</td>\n",
       "      <td>그 외</td>\n",
       "      <td>N</td>\n",
       "    </tr>\n",
       "    <tr>\n",
       "      <th>3</th>\n",
       "      <td>강원특별자치도</td>\n",
       "      <td>춘성군</td>\n",
       "      <td>그 외</td>\n",
       "      <td>N</td>\n",
       "    </tr>\n",
       "    <tr>\n",
       "      <th>4</th>\n",
       "      <td>강원특별자치도</td>\n",
       "      <td>횡성군</td>\n",
       "      <td>그 외</td>\n",
       "      <td>N</td>\n",
       "    </tr>\n",
       "  </tbody>\n",
       "</table>\n",
       "</div>"
      ],
      "text/plain": [
       "        시도   시군구 대기관리권역 대기관리권역YN\n",
       "0  제주특별자치도  서귀포시    그 외        N\n",
       "1  강원특별자치도   홍천군    그 외        N\n",
       "2  강원특별자치도   춘천군    그 외        N\n",
       "3  강원특별자치도   춘성군    그 외        N\n",
       "4  강원특별자치도   횡성군    그 외        N"
      ]
     },
     "execution_count": 71,
     "metadata": {},
     "output_type": "execute_result"
    }
   ],
   "source": [
    "air1.head()"
   ]
  },
  {
   "cell_type": "code",
   "execution_count": 72,
   "metadata": {},
   "outputs": [
    {
     "data": {
      "text/plain": [
       "array(['그 외', '남부권', '동남권', '수도권', '중부권'], dtype=object)"
      ]
     },
     "execution_count": 72,
     "metadata": {},
     "output_type": "execute_result"
    }
   ],
   "source": [
    "air1['대기관리권역'].unique()"
   ]
  },
  {
   "cell_type": "code",
   "execution_count": 73,
   "metadata": {},
   "outputs": [
    {
     "data": {
      "text/plain": [
       "Index(['법정동코드', '폐지여부', '시도', '시군구'], dtype='object')"
      ]
     },
     "execution_count": 73,
     "metadata": {},
     "output_type": "execute_result"
    }
   ],
   "source": [
    "coder.columns"
   ]
  },
  {
   "cell_type": "code",
   "execution_count": 74,
   "metadata": {},
   "outputs": [
    {
     "data": {
      "text/plain": [
       "(20653, 4)"
      ]
     },
     "execution_count": 74,
     "metadata": {},
     "output_type": "execute_result"
    }
   ],
   "source": [
    "coder.shape"
   ]
  },
  {
   "cell_type": "code",
   "execution_count": 75,
   "metadata": {},
   "outputs": [
    {
     "data": {
      "text/plain": [
       "array(['서울특별시', '부산광역시', '대구광역시', '인천광역시', '광주광역시', '대전광역시', '울산광역시',\n",
       "       '세종특별자치시', '경기도', '강원특별자치도', '충청북도', '충청남도', '전라북도', '전라남도',\n",
       "       '경상북도', '경상남도', '제주특별자치도'], dtype=object)"
      ]
     },
     "execution_count": 75,
     "metadata": {},
     "output_type": "execute_result"
    }
   ],
   "source": [
    "air['시도'].unique()"
   ]
  },
  {
   "cell_type": "code",
   "execution_count": 76,
   "metadata": {},
   "outputs": [
    {
     "data": {
      "text/plain": [
       "array(['경기도', '대전광역시', '울산광역시', '대구광역시', '세종특별자치시', '인천광역시', '광주광역시',\n",
       "       '충청북도', '충청남도', '서울특별시', '부산광역시', '전라북도', '전라남도', '경상북도', '경상남도',\n",
       "       '제주특별자치도', '강원특별자치도'], dtype=object)"
      ]
     },
     "execution_count": 76,
     "metadata": {},
     "output_type": "execute_result"
    }
   ],
   "source": [
    "coder['시도'].unique()"
   ]
  },
  {
   "cell_type": "code",
   "execution_count": 77,
   "metadata": {},
   "outputs": [
    {
     "data": {
      "text/plain": [
       "(20653, 6)"
      ]
     },
     "execution_count": 77,
     "metadata": {},
     "output_type": "execute_result"
    }
   ],
   "source": [
    "cd1 = coder.merge(air1, on=['시도', '시군구'], how='left')\n",
    "cd1.shape"
   ]
  },
  {
   "cell_type": "code",
   "execution_count": 78,
   "metadata": {},
   "outputs": [
    {
     "data": {
      "text/html": [
       "<div>\n",
       "<style scoped>\n",
       "    .dataframe tbody tr th:only-of-type {\n",
       "        vertical-align: middle;\n",
       "    }\n",
       "\n",
       "    .dataframe tbody tr th {\n",
       "        vertical-align: top;\n",
       "    }\n",
       "\n",
       "    .dataframe thead th {\n",
       "        text-align: right;\n",
       "    }\n",
       "</style>\n",
       "<table border=\"1\" class=\"dataframe\">\n",
       "  <thead>\n",
       "    <tr style=\"text-align: right;\">\n",
       "      <th></th>\n",
       "      <th>법정동코드</th>\n",
       "      <th>폐지여부</th>\n",
       "      <th>시도</th>\n",
       "      <th>시군구</th>\n",
       "      <th>대기관리권역</th>\n",
       "      <th>대기관리권역YN</th>\n",
       "    </tr>\n",
       "  </thead>\n",
       "  <tbody>\n",
       "    <tr>\n",
       "      <th>0</th>\n",
       "      <td>4119011200</td>\n",
       "      <td>존재</td>\n",
       "      <td>경기도</td>\n",
       "      <td>부천시</td>\n",
       "      <td>수도권</td>\n",
       "      <td>Y</td>\n",
       "    </tr>\n",
       "    <tr>\n",
       "      <th>1</th>\n",
       "      <td>4119011300</td>\n",
       "      <td>존재</td>\n",
       "      <td>경기도</td>\n",
       "      <td>부천시</td>\n",
       "      <td>수도권</td>\n",
       "      <td>Y</td>\n",
       "    </tr>\n",
       "    <tr>\n",
       "      <th>2</th>\n",
       "      <td>4119011400</td>\n",
       "      <td>존재</td>\n",
       "      <td>경기도</td>\n",
       "      <td>부천시</td>\n",
       "      <td>수도권</td>\n",
       "      <td>Y</td>\n",
       "    </tr>\n",
       "    <tr>\n",
       "      <th>3</th>\n",
       "      <td>4119011500</td>\n",
       "      <td>존재</td>\n",
       "      <td>경기도</td>\n",
       "      <td>부천시</td>\n",
       "      <td>수도권</td>\n",
       "      <td>Y</td>\n",
       "    </tr>\n",
       "    <tr>\n",
       "      <th>4</th>\n",
       "      <td>4119011600</td>\n",
       "      <td>존재</td>\n",
       "      <td>경기도</td>\n",
       "      <td>부천시</td>\n",
       "      <td>수도권</td>\n",
       "      <td>Y</td>\n",
       "    </tr>\n",
       "  </tbody>\n",
       "</table>\n",
       "</div>"
      ],
      "text/plain": [
       "        법정동코드 폐지여부   시도  시군구 대기관리권역 대기관리권역YN\n",
       "0  4119011200   존재  경기도  부천시    수도권        Y\n",
       "1  4119011300   존재  경기도  부천시    수도권        Y\n",
       "2  4119011400   존재  경기도  부천시    수도권        Y\n",
       "3  4119011500   존재  경기도  부천시    수도권        Y\n",
       "4  4119011600   존재  경기도  부천시    수도권        Y"
      ]
     },
     "execution_count": 78,
     "metadata": {},
     "output_type": "execute_result"
    }
   ],
   "source": [
    "cd1.head()"
   ]
  },
  {
   "cell_type": "code",
   "execution_count": 79,
   "metadata": {},
   "outputs": [
    {
     "data": {
      "text/plain": [
       "대기관리권역\n",
       "동남권    6520\n",
       "중부권    6135\n",
       "남부권    3205\n",
       "수도권    2992\n",
       "그 외    1688\n",
       "NaN     113\n",
       "Name: count, dtype: int64"
      ]
     },
     "execution_count": 79,
     "metadata": {},
     "output_type": "execute_result"
    }
   ],
   "source": [
    "cd1['대기관리권역'].value_counts(dropna=False)"
   ]
  },
  {
   "cell_type": "code",
   "execution_count": 80,
   "metadata": {},
   "outputs": [
    {
     "data": {
      "text/plain": [
       "array(['대구광역시', '부산광역시'], dtype=object)"
      ]
     },
     "execution_count": 80,
     "metadata": {},
     "output_type": "execute_result"
    }
   ],
   "source": [
    "cd1.loc[cd1['대기관리권역'].isnull(), '시도'].unique()"
   ]
  },
  {
   "cell_type": "code",
   "execution_count": 81,
   "metadata": {},
   "outputs": [
    {
     "data": {
      "text/plain": [
       "((46342, 4), (443, 4), (17, 4))"
      ]
     },
     "execution_count": 81,
     "metadata": {},
     "output_type": "execute_result"
    }
   ],
   "source": [
    "air.shape, air1.shape, air.drop_duplicates('시도').shape"
   ]
  },
  {
   "cell_type": "code",
   "execution_count": 82,
   "metadata": {},
   "outputs": [
    {
     "data": {
      "text/plain": [
       "(17, 4)"
      ]
     },
     "execution_count": 82,
     "metadata": {},
     "output_type": "execute_result"
    }
   ],
   "source": [
    "air2 = air.drop_duplicates('시도').reset_index(drop=True)\n",
    "air2.shape"
   ]
  },
  {
   "cell_type": "code",
   "execution_count": 83,
   "metadata": {},
   "outputs": [
    {
     "data": {
      "text/plain": [
       "array(['서울특별시', '부산광역시', '대구광역시', '인천광역시', '광주광역시', '대전광역시', '울산광역시',\n",
       "       '세종특별자치시', '경기도', '강원특별자치도', '충청북도', '충청남도', '전라북도', '전라남도',\n",
       "       '경상북도', '경상남도', '제주특별자치도'], dtype=object)"
      ]
     },
     "execution_count": 83,
     "metadata": {},
     "output_type": "execute_result"
    }
   ],
   "source": [
    "air2['시도'].unique()"
   ]
  },
  {
   "cell_type": "code",
   "execution_count": 84,
   "metadata": {},
   "outputs": [
    {
     "data": {
      "text/plain": [
       "(20653, 6)"
      ]
     },
     "execution_count": 84,
     "metadata": {},
     "output_type": "execute_result"
    }
   ],
   "source": [
    "cd1.shape"
   ]
  },
  {
   "cell_type": "code",
   "execution_count": 85,
   "metadata": {},
   "outputs": [
    {
     "data": {
      "text/plain": [
       "20653"
      ]
     },
     "execution_count": 85,
     "metadata": {},
     "output_type": "execute_result"
    }
   ],
   "source": [
    "cd1y = cd1[cd1['대기관리권역'].isnull() == False]\n",
    "cd1n = cd1[cd1['대기관리권역'].isnull() == True]\n",
    "cd1y.shape[0] + cd1n.shape[0]"
   ]
  },
  {
   "cell_type": "code",
   "execution_count": 86,
   "metadata": {},
   "outputs": [
    {
     "data": {
      "text/plain": [
       "(113, 6)"
      ]
     },
     "execution_count": 86,
     "metadata": {},
     "output_type": "execute_result"
    }
   ],
   "source": [
    "cd1n.shape"
   ]
  },
  {
   "cell_type": "code",
   "execution_count": 87,
   "metadata": {},
   "outputs": [
    {
     "data": {
      "text/plain": [
       "Index(['법정동코드', '폐지여부', '시도', '시군구', '대기관리권역', '대기관리권역YN'], dtype='object')"
      ]
     },
     "execution_count": 87,
     "metadata": {},
     "output_type": "execute_result"
    }
   ],
   "source": [
    "cd1n.columns"
   ]
  },
  {
   "cell_type": "code",
   "execution_count": 88,
   "metadata": {},
   "outputs": [
    {
     "data": {
      "text/html": [
       "<div>\n",
       "<style scoped>\n",
       "    .dataframe tbody tr th:only-of-type {\n",
       "        vertical-align: middle;\n",
       "    }\n",
       "\n",
       "    .dataframe tbody tr th {\n",
       "        vertical-align: top;\n",
       "    }\n",
       "\n",
       "    .dataframe thead th {\n",
       "        text-align: right;\n",
       "    }\n",
       "</style>\n",
       "<table border=\"1\" class=\"dataframe\">\n",
       "  <thead>\n",
       "    <tr style=\"text-align: right;\">\n",
       "      <th></th>\n",
       "      <th>시도</th>\n",
       "      <th>시군구</th>\n",
       "      <th>대기관리권역</th>\n",
       "      <th>대기관리권역YN</th>\n",
       "    </tr>\n",
       "  </thead>\n",
       "  <tbody>\n",
       "    <tr>\n",
       "      <th>0</th>\n",
       "      <td>서울특별시</td>\n",
       "      <td>NaN</td>\n",
       "      <td>수도권</td>\n",
       "      <td>Y</td>\n",
       "    </tr>\n",
       "    <tr>\n",
       "      <th>1</th>\n",
       "      <td>부산광역시</td>\n",
       "      <td>NaN</td>\n",
       "      <td>동남권</td>\n",
       "      <td>Y</td>\n",
       "    </tr>\n",
       "    <tr>\n",
       "      <th>2</th>\n",
       "      <td>대구광역시</td>\n",
       "      <td>NaN</td>\n",
       "      <td>동남권</td>\n",
       "      <td>Y</td>\n",
       "    </tr>\n",
       "    <tr>\n",
       "      <th>3</th>\n",
       "      <td>인천광역시</td>\n",
       "      <td>NaN</td>\n",
       "      <td>수도권</td>\n",
       "      <td>Y</td>\n",
       "    </tr>\n",
       "    <tr>\n",
       "      <th>4</th>\n",
       "      <td>광주광역시</td>\n",
       "      <td>NaN</td>\n",
       "      <td>남부권</td>\n",
       "      <td>Y</td>\n",
       "    </tr>\n",
       "  </tbody>\n",
       "</table>\n",
       "</div>"
      ],
      "text/plain": [
       "      시도  시군구 대기관리권역 대기관리권역YN\n",
       "0  서울특별시  NaN    수도권        Y\n",
       "1  부산광역시  NaN    동남권        Y\n",
       "2  대구광역시  NaN    동남권        Y\n",
       "3  인천광역시  NaN    수도권        Y\n",
       "4  광주광역시  NaN    남부권        Y"
      ]
     },
     "execution_count": 88,
     "metadata": {},
     "output_type": "execute_result"
    }
   ],
   "source": [
    "air2.head()"
   ]
  },
  {
   "cell_type": "code",
   "execution_count": 89,
   "metadata": {},
   "outputs": [
    {
     "data": {
      "text/plain": [
       "(113, 3)"
      ]
     },
     "execution_count": 89,
     "metadata": {},
     "output_type": "execute_result"
    }
   ],
   "source": [
    "cd1n = cd1n.drop(['시군구', '대기관리권역', '대기관리권역YN'], axis=1)\n",
    "cd1n.shape"
   ]
  },
  {
   "cell_type": "code",
   "execution_count": 90,
   "metadata": {},
   "outputs": [
    {
     "data": {
      "text/plain": [
       "(113, 6)"
      ]
     },
     "execution_count": 90,
     "metadata": {},
     "output_type": "execute_result"
    }
   ],
   "source": [
    "cd1nm = cd1n.merge(air2, on='시도', how='left')\n",
    "cd1nm.shape"
   ]
  },
  {
   "cell_type": "code",
   "execution_count": 91,
   "metadata": {},
   "outputs": [
    {
     "data": {
      "text/plain": [
       "대기관리권역\n",
       "동남권    113\n",
       "Name: count, dtype: int64"
      ]
     },
     "execution_count": 91,
     "metadata": {},
     "output_type": "execute_result"
    }
   ],
   "source": [
    "cd1nm['대기관리권역'].value_counts(dropna=False)"
   ]
  },
  {
   "cell_type": "code",
   "execution_count": 92,
   "metadata": {},
   "outputs": [
    {
     "data": {
      "text/plain": [
       "(20653, 6)"
      ]
     },
     "execution_count": 92,
     "metadata": {},
     "output_type": "execute_result"
    }
   ],
   "source": [
    "cd = pd.concat([cd1y, cd1nm], ignore_index=True)\n",
    "cd.shape"
   ]
  },
  {
   "cell_type": "code",
   "execution_count": 93,
   "metadata": {},
   "outputs": [
    {
     "data": {
      "text/plain": [
       "(20653, 6)"
      ]
     },
     "execution_count": 93,
     "metadata": {},
     "output_type": "execute_result"
    }
   ],
   "source": [
    "cd1.shape"
   ]
  },
  {
   "cell_type": "code",
   "execution_count": 94,
   "metadata": {},
   "outputs": [
    {
     "data": {
      "text/plain": [
       "대기관리권역\n",
       "동남권    6633\n",
       "중부권    6135\n",
       "남부권    3205\n",
       "수도권    2992\n",
       "그 외    1688\n",
       "Name: count, dtype: int64"
      ]
     },
     "execution_count": 94,
     "metadata": {},
     "output_type": "execute_result"
    }
   ],
   "source": [
    "cd['대기관리권역'].value_counts(dropna=False)"
   ]
  },
  {
   "cell_type": "markdown",
   "metadata": {},
   "source": [
    "### [출력] 법정동코드(2023.07.08기준)"
   ]
  },
  {
   "cell_type": "code",
   "execution_count": 95,
   "metadata": {},
   "outputs": [],
   "source": [
    "# # 0s\n",
    "# cd.to_csv(os.path.join(raw_fold, '법정동코드(2023.07.08).csv'), index=False)"
   ]
  },
  {
   "cell_type": "markdown",
   "metadata": {},
   "source": [
    "### [로드] 법정동코드(2023.07.08기준)"
   ]
  },
  {
   "cell_type": "code",
   "execution_count": 96,
   "metadata": {},
   "outputs": [],
   "source": [
    "# # 0s\n",
    "# cd = pd.read_csv(os.path.join(raw_fold, '법정동코드(2023.07.08).csv'))\n",
    "# cd.info()"
   ]
  },
  {
   "cell_type": "markdown",
   "metadata": {},
   "source": [
    "## 등록&제원 병합"
   ]
  },
  {
   "cell_type": "code",
   "execution_count": 134,
   "metadata": {},
   "outputs": [
    {
     "data": {
      "text/plain": [
       "(30610548, 10)"
      ]
     },
     "execution_count": 134,
     "metadata": {},
     "output_type": "execute_result"
    }
   ],
   "source": [
    "carr.shape"
   ]
  },
  {
   "cell_type": "code",
   "execution_count": 135,
   "metadata": {},
   "outputs": [
    {
     "data": {
      "text/plain": [
       "(30610548, 14)"
      ]
     },
     "execution_count": 135,
     "metadata": {},
     "output_type": "execute_result"
    }
   ],
   "source": [
    "# 8.6s\n",
    "cs = carr.merge(srcr, on='제원관리번호', how='left')\n",
    "cs.shape"
   ]
  },
  {
   "cell_type": "code",
   "execution_count": 136,
   "metadata": {},
   "outputs": [
    {
     "data": {
      "text/plain": [
       "Index(['법정동코드', '배출가스인증번호', '배출가스등급', '최초등록일자', '사용자구분', '용도', '제원관리번호',\n",
       "       '차량말소YN', '차종', '차대번호', '연료', '차명', '차종분류', '차종유형'],\n",
       "      dtype='object')"
      ]
     },
     "execution_count": 136,
     "metadata": {},
     "output_type": "execute_result"
    }
   ],
   "source": [
    "cs.columns"
   ]
  },
  {
   "cell_type": "markdown",
   "metadata": {},
   "source": [
    "### [출력] 등록&제원(중복차대제거)(2023.07.08 기준)\n",
    "<!-- ### [출력] 등록&제원(중복차대제거)(2022.12.28 기준) -->\n",
    "- 중복 차대번호 제거"
   ]
  },
  {
   "cell_type": "code",
   "execution_count": 137,
   "metadata": {},
   "outputs": [],
   "source": [
    "# 2m 20s\n",
    "cs.to_csv(os.path.join(raw_fold, '등록&제원(중복차대제거)(2023.07.08).csv'), index=False)"
   ]
  },
  {
   "cell_type": "markdown",
   "metadata": {},
   "source": [
    "# [로드] 등록&제원(중복차대제거)(2023.07.08 기준)\n",
    "<!-- # [로드] 등록&제원(중복차대제거)(2022.12.28 기준) -->"
   ]
  },
  {
   "cell_type": "code",
   "execution_count": 101,
   "metadata": {},
   "outputs": [],
   "source": [
    "# # 7m\n",
    "# # cs = pd.read_csv(os.path.join(raw_fold, '[ODS]등록정보&제원정보(말소제거)(2022.12.28).csv'), low_memory=False, encoding='cp949')\n",
    "\n",
    "# # 1m 30s\n",
    "# cs = pd.read_csv(os.path.join(raw_fold, '등록&제원(중복차대제거)(2023.07.08).csv'), low_memory=False)\n",
    "# cs.info()"
   ]
  },
  {
   "cell_type": "markdown",
   "metadata": {},
   "source": [
    "## 등록&제원&법정동코드"
   ]
  },
  {
   "cell_type": "code",
   "execution_count": 138,
   "metadata": {},
   "outputs": [
    {
     "data": {
      "text/plain": [
       "Index(['법정동코드', '배출가스인증번호', '배출가스등급', '최초등록일자', '사용자구분', '용도', '제원관리번호',\n",
       "       '차량말소YN', '차종', '차대번호', '연료', '차명', '차종분류', '차종유형'],\n",
       "      dtype='object')"
      ]
     },
     "execution_count": 138,
     "metadata": {},
     "output_type": "execute_result"
    }
   ],
   "source": [
    "cs.columns"
   ]
  },
  {
   "cell_type": "code",
   "execution_count": 139,
   "metadata": {},
   "outputs": [
    {
     "data": {
      "text/plain": [
       "dtype('int64')"
      ]
     },
     "execution_count": 139,
     "metadata": {},
     "output_type": "execute_result"
    }
   ],
   "source": [
    "cs['법정동코드'].dtype"
   ]
  },
  {
   "cell_type": "code",
   "execution_count": 140,
   "metadata": {},
   "outputs": [
    {
     "data": {
      "text/plain": [
       "dtype('int64')"
      ]
     },
     "execution_count": 140,
     "metadata": {},
     "output_type": "execute_result"
    }
   ],
   "source": [
    "cs['법정동코드'] = cs['법정동코드'].astype('str')\n",
    "cs['법정동코드'] = cs['법정동코드'].str[:5] + '00000'\n",
    "cs['법정동코드'] = pd.to_numeric(cs['법정동코드'], errors='coerce')\n",
    "cs['법정동코드'].dtype"
   ]
  },
  {
   "cell_type": "code",
   "execution_count": 141,
   "metadata": {},
   "outputs": [],
   "source": [
    "## 법정동코드 수정\n",
    "# 4119700000 경기도 부천시 소사구 폐지 -> 경기도 부천시 4119000000 \n",
    "# 4119900000 경기도 부천시 오정구 폐지 -> 경기도 부천시 4119000000\n",
    "# 2817000000 인천광역시 남구 존재 -> 인천광역시 미추홀구 2817700000\n",
    "# 4371000000 충청북도 청원군 폐지 -> 충청북도 청주시 4311000000\n",
    "# 4119500000 경기도 부천시 원미구 폐지 -> 경기도 부천시 4119000000\n",
    "# 4173000000 경기도 여주군 폐지 -> 경기도 여주시 4167000000\n",
    "\n",
    "cs.loc[cs['법정동코드'] == 4119700000, '법정동코드'] = 4119000000\n",
    "cs.loc[cs['법정동코드'] == 4119900000, '법정동코드'] = 4119000000\n",
    "cs.loc[cs['법정동코드'] == 2817000000, '법정동코드'] = 2817700000\n",
    "cs.loc[cs['법정동코드'] == 4371000000, '법정동코드'] = 4311000000\n",
    "cs.loc[cs['법정동코드'] == 4119500000, '법정동코드'] = 4119000000\n",
    "cs.loc[cs['법정동코드'] == 4173000000, '법정동코드'] = 4167000000"
   ]
  },
  {
   "cell_type": "code",
   "execution_count": 142,
   "metadata": {},
   "outputs": [
    {
     "data": {
      "text/plain": [
       "Index(['법정동코드', '폐지여부', '시도', '시군구', '대기관리권역', '대기관리권역YN'], dtype='object')"
      ]
     },
     "execution_count": 142,
     "metadata": {},
     "output_type": "execute_result"
    }
   ],
   "source": [
    "cd.columns"
   ]
  },
  {
   "cell_type": "code",
   "execution_count": 143,
   "metadata": {},
   "outputs": [
    {
     "data": {
      "text/plain": [
       "Index(['법정동코드', '배출가스인증번호', '배출가스등급', '최초등록일자', '사용자구분', '용도', '제원관리번호',\n",
       "       '차량말소YN', '차종', '차대번호', '연료', '차명', '차종분류', '차종유형'],\n",
       "      dtype='object')"
      ]
     },
     "execution_count": 143,
     "metadata": {},
     "output_type": "execute_result"
    }
   ],
   "source": [
    "cs.columns"
   ]
  },
  {
   "cell_type": "code",
   "execution_count": 145,
   "metadata": {},
   "outputs": [
    {
     "data": {
      "text/plain": [
       "(30610548, 14)"
      ]
     },
     "execution_count": 145,
     "metadata": {},
     "output_type": "execute_result"
    }
   ],
   "source": [
    "cs.shape"
   ]
  },
  {
   "cell_type": "code",
   "execution_count": 361,
   "metadata": {},
   "outputs": [
    {
     "data": {
      "text/plain": [
       "(30610548, 17)"
      ]
     },
     "execution_count": 361,
     "metadata": {},
     "output_type": "execute_result"
    }
   ],
   "source": [
    "# 7s\n",
    "df = cs.merge(cd[['법정동코드', '시도', '대기관리권역', '대기관리권역YN']], on='법정동코드', how='left')\n",
    "df.shape"
   ]
  },
  {
   "cell_type": "code",
   "execution_count": 362,
   "metadata": {},
   "outputs": [
    {
     "data": {
      "text/plain": [
       "Index(['법정동코드', '배출가스인증번호', '배출가스등급', '최초등록일자', '사용자구분', '용도', '제원관리번호',\n",
       "       '차량말소YN', '차종', '차대번호', '연료', '차명', '차종분류', '차종유형', '시도', '대기관리권역',\n",
       "       '대기관리권역YN'],\n",
       "      dtype='object')"
      ]
     },
     "execution_count": 362,
     "metadata": {},
     "output_type": "execute_result"
    }
   ],
   "source": [
    "df.columns"
   ]
  },
  {
   "cell_type": "code",
   "execution_count": 363,
   "metadata": {},
   "outputs": [
    {
     "data": {
      "text/plain": [
       "0"
      ]
     },
     "execution_count": 363,
     "metadata": {},
     "output_type": "execute_result"
    }
   ],
   "source": [
    "df['대기관리권역'].isnull().sum()"
   ]
  },
  {
   "cell_type": "code",
   "execution_count": 364,
   "metadata": {},
   "outputs": [
    {
     "data": {
      "text/plain": [
       "array([], dtype=int64)"
      ]
     },
     "execution_count": 364,
     "metadata": {},
     "output_type": "execute_result"
    }
   ],
   "source": [
    "df.loc[df['대기관리권역'].isnull(), '법정동코드'].unique()"
   ]
  },
  {
   "cell_type": "markdown",
   "metadata": {},
   "source": [
    "### [출력] 등록&제원&법정동코드"
   ]
  },
  {
   "cell_type": "code",
   "execution_count": 189,
   "metadata": {},
   "outputs": [],
   "source": [
    "# 3m 22s\n",
    "df.to_csv(os.path.join(raw_fold, '등록&제원&법정동(2023.07.08).csv'), index=False)"
   ]
  },
  {
   "cell_type": "markdown",
   "metadata": {},
   "source": [
    "## 연료 수정"
   ]
  },
  {
   "cell_type": "code",
   "execution_count": 365,
   "metadata": {},
   "outputs": [
    {
     "data": {
      "text/plain": [
       "array(['휘발유', '경유', '휘발유 하이브리드', '전기', 'LPG(액화석유가스)', '경유 하이브리드', '기타연료',\n",
       "       nan, '수소', 'CNG(압축천연가스)', 'LNG(액화천연가스)', 'LPG 하이브리드', '태양열', '알코올',\n",
       "       'CNG 하이브리드', '등유'], dtype=object)"
      ]
     },
     "execution_count": 365,
     "metadata": {},
     "output_type": "execute_result"
    }
   ],
   "source": [
    "df['연료'].unique()"
   ]
  },
  {
   "cell_type": "code",
   "execution_count": 366,
   "metadata": {},
   "outputs": [
    {
     "data": {
      "text/plain": [
       "array(['휘발유', '경유', '휘발유 하이브리드', '전기', 'LPG', '경유 하이브리드', '기타연료', nan,\n",
       "       '수소', 'CNG', 'LNG', 'LPG 하이브리드', '태양열', '알코올', 'CNG 하이브리드', '등유'],\n",
       "      dtype=object)"
      ]
     },
     "execution_count": 366,
     "metadata": {},
     "output_type": "execute_result"
    }
   ],
   "source": [
    "# 5s\n",
    "df['연료'] = df['연료'].replace({'LPG(액화석유가스)':'LPG', 'CNG(압축천연가스)':'CNG', 'LNG(액화천연가스)':'LNG'})\n",
    "df['연료'].unique()"
   ]
  },
  {
   "cell_type": "markdown",
   "metadata": {},
   "source": [
    "## 말소제거"
   ]
  },
  {
   "cell_type": "code",
   "execution_count": 367,
   "metadata": {},
   "outputs": [
    {
     "data": {
      "text/plain": [
       "차량말소YN\n",
       "N    25795280\n",
       "Y     4815268\n",
       "Name: count, dtype: int64"
      ]
     },
     "execution_count": 367,
     "metadata": {},
     "output_type": "execute_result"
    }
   ],
   "source": [
    "df['차량말소YN'].value_counts(dropna=False)"
   ]
  },
  {
   "cell_type": "code",
   "execution_count": 368,
   "metadata": {},
   "outputs": [
    {
     "data": {
      "text/plain": [
       "(30610548, 17)"
      ]
     },
     "execution_count": 368,
     "metadata": {},
     "output_type": "execute_result"
    }
   ],
   "source": [
    "df.shape"
   ]
  },
  {
   "cell_type": "code",
   "execution_count": 369,
   "metadata": {},
   "outputs": [
    {
     "data": {
      "text/plain": [
       "(25795280, 17)"
      ]
     },
     "execution_count": 369,
     "metadata": {},
     "output_type": "execute_result"
    }
   ],
   "source": [
    "# 18s\n",
    "dfn = df[df['차량말소YN'] =='N'].reset_index(drop=True)\n",
    "dfn.shape"
   ]
  },
  {
   "cell_type": "code",
   "execution_count": 370,
   "metadata": {},
   "outputs": [
    {
     "data": {
      "text/plain": [
       "25795280"
      ]
     },
     "execution_count": 370,
     "metadata": {},
     "output_type": "execute_result"
    }
   ],
   "source": [
    "# 26s\n",
    "len(dfn['차대번호'].unique())"
   ]
  },
  {
   "cell_type": "markdown",
   "metadata": {},
   "source": [
    "# Analysis"
   ]
  },
  {
   "cell_type": "markdown",
   "metadata": {},
   "source": [
    "## 1\\. 등급별 연료별 차량 현황"
   ]
  },
  {
   "cell_type": "code",
   "execution_count": 371,
   "metadata": {},
   "outputs": [
    {
     "data": {
      "text/plain": [
       "array(['X', '3', '2', '1', '5', '4'], dtype=object)"
      ]
     },
     "execution_count": 371,
     "metadata": {},
     "output_type": "execute_result"
    }
   ],
   "source": [
    "dfn['배출가스등급'].unique()"
   ]
  },
  {
   "cell_type": "code",
   "execution_count": 372,
   "metadata": {},
   "outputs": [
    {
     "data": {
      "text/plain": [
       "배출가스등급\n",
       "2    10967291\n",
       "3     8293916\n",
       "1     3142066\n",
       "4     1390279\n",
       "X     1027741\n",
       "5      973987\n",
       "Name: count, dtype: int64"
      ]
     },
     "execution_count": 372,
     "metadata": {},
     "output_type": "execute_result"
    }
   ],
   "source": [
    "dfn['배출가스등급'].value_counts(dropna=False)"
   ]
  },
  {
   "cell_type": "code",
   "execution_count": 373,
   "metadata": {},
   "outputs": [
    {
     "data": {
      "text/plain": [
       "Index(['법정동코드', '배출가스인증번호', '배출가스등급', '최초등록일자', '사용자구분', '용도', '제원관리번호',\n",
       "       '차량말소YN', '차종', '차대번호', '연료', '차명', '차종분류', '차종유형', '시도', '대기관리권역',\n",
       "       '대기관리권역YN'],\n",
       "      dtype='object')"
      ]
     },
     "execution_count": 373,
     "metadata": {},
     "output_type": "execute_result"
    }
   ],
   "source": [
    "dfn.columns"
   ]
  },
  {
   "cell_type": "code",
   "execution_count": 374,
   "metadata": {},
   "outputs": [],
   "source": [
    "carname_fuel_dict = {\n",
    "    'HYUNDAI PRESTO':'휘발유',\n",
    "    'TOYOTA CAMRY하이브리드':'휘발유 하이브리드',\n",
    "    '구급차(도요다)':'경유',\n",
    "    '대우11톤카고':'경유',\n",
    "    '대우8톤카고':'경유',\n",
    "    '도요다웨곤엠브란스':'경유',\n",
    "    '도요다코로나':'휘발유',\n",
    "    '도요다크라운로얄싸롱':'휘발유',\n",
    "    '도요타 프리우스(하이브리드)':'휘발유 하이브리드',\n",
    "    '로얄살롱':'휘발유',\n",
    "    '로얄살롱2.0AT':'휘발유',\n",
    "    '르망':'휘발유',\n",
    "    '르망펜타-5':'휘발유',\n",
    "    '맥스디젤삼방':'경유',\n",
    "    '머큐리 세이블':'경유',\n",
    "    '벤즈 230E':'휘발유',\n",
    "    '벤즈230E':'휘발유',\n",
    "    '복사14':'휘발유',\n",
    "    '브리샤2':'휘발유',\n",
    "    '새한버스':'경유',\n",
    "    '스텔라':'휘발유',\n",
    "    '스텔라1.6CXL':'휘발유',\n",
    "    '스텔라오토매틱':'휘발유',\n",
    "    '아시아AM707중형버스':'경유',\n",
    "    '에어스트림탐지견수송트레일러':'무동력',\n",
    "    '엑셀':'휘발유',\n",
    "    '인타담프':'경유',\n",
    "    '일산 육륜':\"경유\",\n",
    "    '캐피탈':'휘발유',\n",
    "    '코티나마크IV':'휘발유',\n",
    "    '포니2':'휘발유',\n",
    "    '프레스토오토매틱':'휘발유',\n",
    "    '현대리어엔진버스':'경유',\n",
    "    '홍성캠핑트레일러':'무동력',\n",
    "    'BENZ S500':'휘발유',\n",
    "    'BMW':'휘발유',\n",
    "    'BMW 3-SERIES':'휘발유',\n",
    "    'BMW 318I':'휘발유',\n",
    "    'BMW 325CI':'휘발유',\n",
    "    'BMW 325I':'휘발유',\n",
    "    'BMW 325i':'휘발유',\n",
    "    'BMW 328I':'휘발유',\n",
    "    'BMW 525I':'휘발유',\n",
    "    'BMW 528I':'휘발유',\n",
    "    'BMW 530I':'휘발유',\n",
    "    'BMW 5SERIES':'휘발유',\n",
    "    'BMW 750Li':'휘발유',\n",
    "    'BMW X3':'휘발유',\n",
    "    'BMW X5':'휘발유',\n",
    "    'BMW Z3':'휘발유',\n",
    "    'BMW530I':'휘발유',\n",
    "    'BUICK CENTURY':'휘발유',\n",
    "    'BUICK LESABRE':'휘발유',\n",
    "    'BUICK TERRAZA':'휘발유',\n",
    "    'CADILLAC CTS':'휘발유',\n",
    "    'CHEVROLET IMPALA':'휘발유',\n",
    "    'CHEVROLET PRIZM':'휘발유',\n",
    "    'CHRYSLER':'휘발유',\n",
    "    'CHRYSLER 300 LTD':'휘발유',\n",
    "    'CHRYSLER 300C':'경유',\n",
    "    'CHRYSLER HEMI AWD':'휘발유',\n",
    "    'CHRYSLER PT CRUISER':'휘발유',\n",
    "    'CHRYSLER TOWN & COUNTRY(7)':'휘발유',\n",
    "    'CIELO':'휘발유',\n",
    "    'CORSICA':'휘발유',\n",
    "    'COUGAR':'휘발유',\n",
    "    'DODGE CALIBER':'휘발유',\n",
    "    'DODGE CARAVAN':'휘발유',\n",
    "    'DODGE CHARGER':'휘발유',\n",
    "    'DODGE DAKOTA':'휘발유',\n",
    "    'DODGE DURANGO':'휘발유',\n",
    "    'DODGE GRAND CARAVAN':'휘발유',\n",
    "    'DODGE NEON SXT':'휘발유',\n",
    "    'EF소나타':'휘발유',\n",
    "    'ESCORT':'휘발유',\n",
    "    'FIREBIRD':'휘발유',\n",
    "    'FORD ESCAPE':'휘발유',\n",
    "    'FORD EXPEDITION':'휘발유',\n",
    "    'FORD EXPEDITION(8)':'휘발유',\n",
    "    'FORD EXPLORER':'휘발유',\n",
    "    'FORD FOCUS':'휘발유',\n",
    "    'FORD FREESTYLE(7)':'휘발유',\n",
    "    'FORD FUSION':'휘발유',\n",
    "    'FORD MUSTANG':'휘발유',\n",
    "    'FORD RANGER XLT':'경유',\n",
    "    'FORD WINDSTAR':'휘발유',\n",
    "    'G.M.C':'휘발유',\n",
    "    'G20':'휘발유',\n",
    "    'GMC':'휘발유',\n",
    "    'GMC JIMMY':'휘발유',\n",
    "    'GMC SIERRA':'휘발유',\n",
    "    'HONDA ACCORD':'휘발유',\n",
    "    'HONDA CR-V':'휘발유',\n",
    "    'HONDA CR-V EX':'휘발유',\n",
    "    'HONDA PILOT':'휘발유',\n",
    "    'HYUNDAI SONATA':'휘발유',\n",
    "    'HYUNDAI/SONATA':'휘발유',\n",
    "    'INFINITI G37S':'휘발유',\n",
    "    'JAGUAR X-TYPE':'휘발유',\n",
    "    'JEEP GRAND CHEROKEE':'휘발유',\n",
    "    'JEEP LIBERTY':'휘발유',\n",
    "    'JEEP PATRIOT':\"경유\",\n",
    "    'KIA OPTIMA':'휘발유',\n",
    "    'KIA SEDONA':'휘발유',\n",
    "    'LEXUS ES330':'휘발유',\n",
    "    'LEXUS ES350':'휘발유',\n",
    "    'LEXUS LS430':'휘발유',\n",
    "    'LEXUS RS330':'휘발유',\n",
    "    'LEXUS RX330':'휘발유',\n",
    "    'LINCOLN MKX':'휘발유',\n",
    "    'MAZDA MAZDA6':'휘발유',\n",
    "    'MAZDA SENTA':'휘발유',\n",
    "    'MERCEDES BENZ':'휘발유',\n",
    "    'MERCEDES-BENZ':'휘발유',\n",
    "    'MERCEDES-BENZ CLS 550':'경유',\n",
    "    'MERCEDES-BENZ E-350':'휘발유',\n",
    "    'MERCEDES-BENZ E-CLASS':'휘발유',\n",
    "    'MERCEDES-BENZ R-CLASS 3500':'경유',\n",
    "    'MERCEDES-BENZ S 500':'휘발유',\n",
    "    'MERCEDES-BENZ S65':'경유',\n",
    "    'MERCURY MILAN':'휘발유',\n",
    "    'NEW 그랜저XG':'휘발유',\n",
    "    'NISSAN MURANO':'휘발유',\n",
    "    'NISSAN ROGUE 3.5':'휘발유',\n",
    "    'NISSAN XTERRA':'휘발유',\n",
    "    'OLDSMOBILE BRAVADA':'휘발유',\n",
    "    'OLDSMOBILESILHOUET':'휘발유',\n",
    "    'PLYMOUTH':'휘발유',\n",
    "    'PONTIAC SUNBIRD':'휘발유',\n",
    "    'PONTIAC VIBE':'휘발유',\n",
    "    'PONTIAC VIBE BASE':'휘발유',\n",
    "    'PORSCHE':'휘발유',\n",
    "    'ROYALE':'휘발유',\n",
    "    'ROYALSALON':'휘발유',\n",
    "    'RX7':'휘발유',\n",
    "    'SANTAFE':'휘발유',\n",
    "    'SEPHIA':'휘발유',\n",
    "    'SILHOUET':'휘발유',\n",
    "    'SPORTAGE':'휘발유',\n",
    "    'STAREX':'휘발유',\n",
    "    'SUNDANCE':'휘발유',\n",
    "    'TAURUS':'휘발유',\n",
    "    'TOYOTA 4-RUNNER':'경유',\n",
    "    'TOYOTA AVALON':'휘발유',\n",
    "    'TOYOTA COROLLA':'휘발유',\n",
    "    'TOYOTA ESTIIM':'휘발유',\n",
    "    'TOYOTA MATRIX':'휘발유',\n",
    "    'TOYOTA SIENNA':'휘발유',\n",
    "    'TOYOTA SR-5':'휘발유',\n",
    "    'VISION':'휘발유',\n",
    "    'VOLKSWAGEN JETTA':'휘발유',\n",
    "    'VOLVO 7G1':'휘발유',\n",
    "    'VOLVO 960':'휘발유',\n",
    "    'VOLVO S60':'휘발유',\n",
    "    'VOLVO S80':'휘발유',\n",
    "    'VOLVO T5':'휘발유',\n",
    "    'VOLVO XC60':'휘발유',\n",
    "    'VOLVO XC90':'휘발유',\n",
    "    '그랜저2.0':'휘발유',\n",
    "    '그랜저XG300L':'휘발유',\n",
    "    '기아마스타':'경유',\n",
    "    '뉴복사담프':'경유',\n",
    "    '뉴비틀2.0':'휘발유',\n",
    "    '닛산실비아2.0':'휘발유',\n",
    "    '닛산씨마그로리아':'휘발유',\n",
    "    '다임24KL에틸렌글리콜트레일러':'무동력',\n",
    "    '다찌람밴':'휘발유',\n",
    "    '대우11톤카고트럭':'경유',\n",
    "    '대흥저상트레일러':'무동력',\n",
    "    '도오다':'휘발유',\n",
    "    '도요다MR2':'휘발유',\n",
    "    '도요다세라':'휘발유',\n",
    "    '도요다슈프라':'휘발유',\n",
    "    '도요다크라운':'휘발유',\n",
    "    '라비타(LAVITA)':'휘발유',\n",
    "    '로얄살롱':'휘발유',\n",
    "    '르망':'휘발유',\n",
    "    '링컨MARK7':'경유',\n",
    "    '벤츠 C300':'휘발유',\n",
    "    '벤츠190E':'휘발유',\n",
    "    '벤츠C280':'휘발유',\n",
    "    '벤츠E230':'휘발유',\n",
    "    '벤츠S320':'휘발유',\n",
    "    '블루버드':'휘발유',\n",
    "    '사파리':'휘발유',\n",
    "    '새턴':'휘발유',\n",
    "    '새한2.5톤카고':'경유',\n",
    "    '셀리카-GT':'휘발유',\n",
    "    '소나타':'휘발유',\n",
    "    '소나타1800오토매틱':'휘발유',\n",
    "    '수프라':'휘발유',\n",
    "    '시보레':'휘발유',\n",
    "    '시보레카베리아':'휘발유',\n",
    "    '쏘나타':'휘발유',\n",
    "    '아큐라':'휘발유',\n",
    "    '에스페로':'휘발유',\n",
    "    '엑셀운전교습용차량':'휘발유',\n",
    "    '원흥식 트럭':'경유',\n",
    "    '제설차':'경유',\n",
    "    '지프':'경유',\n",
    "    '체로키':'휘발유',\n",
    "    '캠리':'휘발유',\n",
    "    '코르시카':'휘발유',\n",
    "    '코우거':'휘발유',\n",
    "    '코티나디럭스':'휘발유',\n",
    "    '크로마터보i.e':'휘발유',\n",
    "    '티코(TICO)':'휘발유',\n",
    "    '포니':'휘발유',\n",
    "    '포니2-L.P.G':'LPG(액화석유가스)',\n",
    "    '포니2-LPG':'LPG(액화석유가스)',\n",
    "    '포르쉐':'휘발유',\n",
    "    '프레스토오토메틱':'휘발유',\n",
    "    '프리무스':'휘발유 하이브리드',\n",
    "    '한원40A콤비콘테이너트레일러':'무동력',\n",
    "    '한원40피트구즈넥트레일러':'무동력',\n",
    "    '현대3톤트럭':'경유',\n",
    "    '현대포터':'경유',\n",
    "    '혼다 CR-V':'경유',\n",
    "}"
   ]
  },
  {
   "cell_type": "code",
   "execution_count": 375,
   "metadata": {},
   "outputs": [
    {
     "data": {
      "text/plain": [
       "216"
      ]
     },
     "execution_count": 375,
     "metadata": {},
     "output_type": "execute_result"
    }
   ],
   "source": [
    "len(carname_fuel_dict)"
   ]
  },
  {
   "cell_type": "code",
   "execution_count": 376,
   "metadata": {},
   "outputs": [
    {
     "data": {
      "text/plain": [
       "연료\n",
       "휘발유          12272647\n",
       "경유            9627362\n",
       "LPG           1827225\n",
       "휘발유 하이브리드     1320061\n",
       "전기             478853\n",
       "NaN             75672\n",
       "기타연료            73912\n",
       "경유 하이브리드        44519\n",
       "수소              32909\n",
       "CNG             28731\n",
       "LPG 하이브리드       13064\n",
       "CNG 하이브리드         292\n",
       "LNG                26\n",
       "알코올                 3\n",
       "태양열                 2\n",
       "등유                  2\n",
       "Name: count, dtype: int64"
      ]
     },
     "execution_count": 376,
     "metadata": {},
     "output_type": "execute_result"
    }
   ],
   "source": [
    "dfn['연료'].value_counts(dropna=False)"
   ]
  },
  {
   "cell_type": "markdown",
   "metadata": {},
   "source": [
    "#### 차명, 연료 매칭"
   ]
  },
  {
   "cell_type": "code",
   "execution_count": 377,
   "metadata": {},
   "outputs": [],
   "source": [
    "# # about 5m \n",
    "# for k, v in tqdm(carname_fuel_dict.items()):\n",
    "#     dfn.loc[(dfn['차명'] == k) & ((dfn['연료'].isnull() == True) | (dfn['연료'].isnull() == '기타연료')), '연료'] = v"
   ]
  },
  {
   "cell_type": "code",
   "execution_count": 378,
   "metadata": {},
   "outputs": [
    {
     "data": {
      "text/plain": [
       "연료\n",
       "휘발유          12272647\n",
       "경유            9627362\n",
       "LPG           1827225\n",
       "휘발유 하이브리드     1320061\n",
       "전기             478853\n",
       "NaN             75672\n",
       "기타연료            73912\n",
       "경유 하이브리드        44519\n",
       "수소              32909\n",
       "CNG             28731\n",
       "LPG 하이브리드       13064\n",
       "CNG 하이브리드         292\n",
       "LNG                26\n",
       "알코올                 3\n",
       "태양열                 2\n",
       "등유                  2\n",
       "Name: count, dtype: int64"
      ]
     },
     "execution_count": 378,
     "metadata": {},
     "output_type": "execute_result"
    }
   ],
   "source": [
    "dfn['연료'].value_counts(dropna=False)"
   ]
  },
  {
   "cell_type": "code",
   "execution_count": 379,
   "metadata": {},
   "outputs": [],
   "source": [
    "# # 13s\n",
    "# dfn.loc[(dfn['배출가스등급'] == '2') | (dfn['배출가스등급'] == 'T2'), '배출가스등급'] = '2'\n",
    "# dfn.loc[(dfn['배출가스등급'] == '3') | (dfn['배출가스등급'] == 'T3'), '배출가스등급'] = '3'\n",
    "# dfn.loc[(dfn['배출가스등급'] == '4') | (dfn['배출가스등급'] == 'T4'), '배출가스등급'] = '4'\n",
    "# dfn.loc[(dfn['배출가스등급'] == '5') | (dfn['배출가스등급'] == 'T5'), '배출가스등급'] = '5'\n",
    "# dfn.loc[(dfn['배출가스등급'] == 'X') | (dfn['배출가스등급'].isnull() == True), '배출가스등급'] = 'X'"
   ]
  },
  {
   "cell_type": "code",
   "execution_count": 407,
   "metadata": {},
   "outputs": [
    {
     "data": {
      "text/plain": [
       "array(['X', '3', '2', '1', '5', '4'], dtype=object)"
      ]
     },
     "execution_count": 407,
     "metadata": {},
     "output_type": "execute_result"
    }
   ],
   "source": [
    "dfn['배출가스등급'].unique()"
   ]
  },
  {
   "cell_type": "code",
   "execution_count": 408,
   "metadata": {},
   "outputs": [
    {
     "data": {
      "text/plain": [
       "배출가스등급\n",
       "2    10967291\n",
       "3     8293916\n",
       "1     3142066\n",
       "4     1390279\n",
       "X     1027741\n",
       "5      973987\n",
       "Name: count, dtype: int64"
      ]
     },
     "execution_count": 408,
     "metadata": {},
     "output_type": "execute_result"
    }
   ],
   "source": [
    "dfn['배출가스등급'].value_counts(dropna=False)"
   ]
  },
  {
   "cell_type": "code",
   "execution_count": 409,
   "metadata": {},
   "outputs": [
    {
     "data": {
      "text/plain": [
       "array(['휘발유', '경유', '휘발유 하이브리드', '전기', 'LPG', '경유 하이브리드', '기타연료', nan,\n",
       "       '수소', 'CNG', 'LNG', 'LPG 하이브리드', '태양열', '알코올', 'CNG 하이브리드', '등유'],\n",
       "      dtype=object)"
      ]
     },
     "execution_count": 409,
     "metadata": {},
     "output_type": "execute_result"
    }
   ],
   "source": [
    "dfn['연료'].unique()"
   ]
  },
  {
   "cell_type": "code",
   "execution_count": 410,
   "metadata": {},
   "outputs": [
    {
     "data": {
      "text/plain": [
       "(25795280, 17)"
      ]
     },
     "execution_count": 410,
     "metadata": {},
     "output_type": "execute_result"
    }
   ],
   "source": [
    "dfn.shape"
   ]
  },
  {
   "cell_type": "code",
   "execution_count": 411,
   "metadata": {},
   "outputs": [
    {
     "data": {
      "text/plain": [
       "(24767342, 17)"
      ]
     },
     "execution_count": 411,
     "metadata": {},
     "output_type": "execute_result"
    }
   ],
   "source": [
    "# X등급 제외\n",
    "# 연료 : 등유, 태양열 제외, 빈값 제외\n",
    "dfg = dfn[(dfn['배출가스등급'] != 'X') & ((dfn['연료'] != '등유') & (dfn['연료'] != '태양열') & (dfn['연료'].isnull() == False))].reset_index(drop=True)\n",
    "dfg.shape"
   ]
  },
  {
   "cell_type": "code",
   "execution_count": 412,
   "metadata": {},
   "outputs": [
    {
     "data": {
      "text/html": [
       "<div>\n",
       "<style scoped>\n",
       "    .dataframe tbody tr th:only-of-type {\n",
       "        vertical-align: middle;\n",
       "    }\n",
       "\n",
       "    .dataframe tbody tr th {\n",
       "        vertical-align: top;\n",
       "    }\n",
       "\n",
       "    .dataframe thead th {\n",
       "        text-align: right;\n",
       "    }\n",
       "</style>\n",
       "<table border=\"1\" class=\"dataframe\">\n",
       "  <thead>\n",
       "    <tr style=\"text-align: right;\">\n",
       "      <th>배출가스등급</th>\n",
       "      <th>연료</th>\n",
       "      <th>1</th>\n",
       "      <th>2</th>\n",
       "      <th>3</th>\n",
       "      <th>4</th>\n",
       "      <th>5</th>\n",
       "    </tr>\n",
       "  </thead>\n",
       "  <tbody>\n",
       "    <tr>\n",
       "      <th>0</th>\n",
       "      <td>CNG</td>\n",
       "      <td>NaN</td>\n",
       "      <td>22511.0</td>\n",
       "      <td>4444.0</td>\n",
       "      <td>1.0</td>\n",
       "      <td>7.0</td>\n",
       "    </tr>\n",
       "    <tr>\n",
       "      <th>1</th>\n",
       "      <td>CNG 하이브리드</td>\n",
       "      <td>275.0</td>\n",
       "      <td>17.0</td>\n",
       "      <td>NaN</td>\n",
       "      <td>NaN</td>\n",
       "      <td>NaN</td>\n",
       "    </tr>\n",
       "    <tr>\n",
       "      <th>2</th>\n",
       "      <td>LNG</td>\n",
       "      <td>NaN</td>\n",
       "      <td>2.0</td>\n",
       "      <td>NaN</td>\n",
       "      <td>NaN</td>\n",
       "      <td>NaN</td>\n",
       "    </tr>\n",
       "    <tr>\n",
       "      <th>3</th>\n",
       "      <td>LPG</td>\n",
       "      <td>454141.0</td>\n",
       "      <td>1132058.0</td>\n",
       "      <td>194059.0</td>\n",
       "      <td>24355.0</td>\n",
       "      <td>430.0</td>\n",
       "    </tr>\n",
       "    <tr>\n",
       "      <th>4</th>\n",
       "      <td>LPG 하이브리드</td>\n",
       "      <td>13062.0</td>\n",
       "      <td>NaN</td>\n",
       "      <td>NaN</td>\n",
       "      <td>NaN</td>\n",
       "      <td>NaN</td>\n",
       "    </tr>\n",
       "    <tr>\n",
       "      <th>5</th>\n",
       "      <td>경유</td>\n",
       "      <td>NaN</td>\n",
       "      <td>NaN</td>\n",
       "      <td>7343084.0</td>\n",
       "      <td>1052801.0</td>\n",
       "      <td>943899.0</td>\n",
       "    </tr>\n",
       "    <tr>\n",
       "      <th>6</th>\n",
       "      <td>경유 하이브리드</td>\n",
       "      <td>NaN</td>\n",
       "      <td>NaN</td>\n",
       "      <td>18376.0</td>\n",
       "      <td>NaN</td>\n",
       "      <td>NaN</td>\n",
       "    </tr>\n",
       "    <tr>\n",
       "      <th>7</th>\n",
       "      <td>기타연료</td>\n",
       "      <td>NaN</td>\n",
       "      <td>NaN</td>\n",
       "      <td>5.0</td>\n",
       "      <td>34.0</td>\n",
       "      <td>20.0</td>\n",
       "    </tr>\n",
       "    <tr>\n",
       "      <th>8</th>\n",
       "      <td>수소</td>\n",
       "      <td>32909.0</td>\n",
       "      <td>NaN</td>\n",
       "      <td>NaN</td>\n",
       "      <td>NaN</td>\n",
       "      <td>NaN</td>\n",
       "    </tr>\n",
       "    <tr>\n",
       "      <th>9</th>\n",
       "      <td>알코올</td>\n",
       "      <td>NaN</td>\n",
       "      <td>NaN</td>\n",
       "      <td>NaN</td>\n",
       "      <td>1.0</td>\n",
       "      <td>1.0</td>\n",
       "    </tr>\n",
       "    <tr>\n",
       "      <th>10</th>\n",
       "      <td>전기</td>\n",
       "      <td>478797.0</td>\n",
       "      <td>NaN</td>\n",
       "      <td>NaN</td>\n",
       "      <td>NaN</td>\n",
       "      <td>NaN</td>\n",
       "    </tr>\n",
       "    <tr>\n",
       "      <th>11</th>\n",
       "      <td>휘발유</td>\n",
       "      <td>1082492.0</td>\n",
       "      <td>9726237.0</td>\n",
       "      <td>733843.0</td>\n",
       "      <td>313038.0</td>\n",
       "      <td>29610.0</td>\n",
       "    </tr>\n",
       "    <tr>\n",
       "      <th>12</th>\n",
       "      <td>휘발유 하이브리드</td>\n",
       "      <td>1080390.0</td>\n",
       "      <td>86443.0</td>\n",
       "      <td>NaN</td>\n",
       "      <td>NaN</td>\n",
       "      <td>NaN</td>\n",
       "    </tr>\n",
       "  </tbody>\n",
       "</table>\n",
       "</div>"
      ],
      "text/plain": [
       "배출가스등급         연료          1          2          3          4         5\n",
       "0             CNG        NaN    22511.0     4444.0        1.0       7.0\n",
       "1       CNG 하이브리드      275.0       17.0        NaN        NaN       NaN\n",
       "2             LNG        NaN        2.0        NaN        NaN       NaN\n",
       "3             LPG   454141.0  1132058.0   194059.0    24355.0     430.0\n",
       "4       LPG 하이브리드    13062.0        NaN        NaN        NaN       NaN\n",
       "5              경유        NaN        NaN  7343084.0  1052801.0  943899.0\n",
       "6        경유 하이브리드        NaN        NaN    18376.0        NaN       NaN\n",
       "7            기타연료        NaN        NaN        5.0       34.0      20.0\n",
       "8              수소    32909.0        NaN        NaN        NaN       NaN\n",
       "9             알코올        NaN        NaN        NaN        1.0       1.0\n",
       "10             전기   478797.0        NaN        NaN        NaN       NaN\n",
       "11            휘발유  1082492.0  9726237.0   733843.0   313038.0   29610.0\n",
       "12      휘발유 하이브리드  1080390.0    86443.0        NaN        NaN       NaN"
      ]
     },
     "execution_count": 412,
     "metadata": {},
     "output_type": "execute_result"
    }
   ],
   "source": [
    "# 21s\n",
    "grp1 = dfg.groupby(['배출가스등급', '연료'], dropna=False)['차대번호'].count().unstack('배출가스등급').reset_index()\n",
    "grp1"
   ]
  },
  {
   "cell_type": "code",
   "execution_count": 413,
   "metadata": {},
   "outputs": [
    {
     "data": {
      "text/plain": [
       "(13, 6)"
      ]
     },
     "execution_count": 413,
     "metadata": {},
     "output_type": "execute_result"
    }
   ],
   "source": [
    "grp1.shape"
   ]
  },
  {
   "cell_type": "code",
   "execution_count": 414,
   "metadata": {},
   "outputs": [
    {
     "data": {
      "text/html": [
       "<div>\n",
       "<style scoped>\n",
       "    .dataframe tbody tr th:only-of-type {\n",
       "        vertical-align: middle;\n",
       "    }\n",
       "\n",
       "    .dataframe tbody tr th {\n",
       "        vertical-align: top;\n",
       "    }\n",
       "\n",
       "    .dataframe thead th {\n",
       "        text-align: right;\n",
       "    }\n",
       "</style>\n",
       "<table border=\"1\" class=\"dataframe\">\n",
       "  <thead>\n",
       "    <tr style=\"text-align: right;\">\n",
       "      <th>배출가스등급</th>\n",
       "      <th>연료</th>\n",
       "      <th>1</th>\n",
       "      <th>2</th>\n",
       "      <th>3</th>\n",
       "      <th>4</th>\n",
       "      <th>5</th>\n",
       "      <th>합계</th>\n",
       "    </tr>\n",
       "  </thead>\n",
       "  <tbody>\n",
       "    <tr>\n",
       "      <th>0</th>\n",
       "      <td>CNG</td>\n",
       "      <td>NaN</td>\n",
       "      <td>22511.0</td>\n",
       "      <td>4444.0</td>\n",
       "      <td>1.0</td>\n",
       "      <td>7.0</td>\n",
       "      <td>26963.0</td>\n",
       "    </tr>\n",
       "    <tr>\n",
       "      <th>1</th>\n",
       "      <td>CNG 하이브리드</td>\n",
       "      <td>275.0</td>\n",
       "      <td>17.0</td>\n",
       "      <td>NaN</td>\n",
       "      <td>NaN</td>\n",
       "      <td>NaN</td>\n",
       "      <td>292.0</td>\n",
       "    </tr>\n",
       "    <tr>\n",
       "      <th>2</th>\n",
       "      <td>LNG</td>\n",
       "      <td>NaN</td>\n",
       "      <td>2.0</td>\n",
       "      <td>NaN</td>\n",
       "      <td>NaN</td>\n",
       "      <td>NaN</td>\n",
       "      <td>2.0</td>\n",
       "    </tr>\n",
       "    <tr>\n",
       "      <th>3</th>\n",
       "      <td>LPG</td>\n",
       "      <td>454141.0</td>\n",
       "      <td>1132058.0</td>\n",
       "      <td>194059.0</td>\n",
       "      <td>24355.0</td>\n",
       "      <td>430.0</td>\n",
       "      <td>1805043.0</td>\n",
       "    </tr>\n",
       "    <tr>\n",
       "      <th>4</th>\n",
       "      <td>LPG 하이브리드</td>\n",
       "      <td>13062.0</td>\n",
       "      <td>NaN</td>\n",
       "      <td>NaN</td>\n",
       "      <td>NaN</td>\n",
       "      <td>NaN</td>\n",
       "      <td>13062.0</td>\n",
       "    </tr>\n",
       "    <tr>\n",
       "      <th>5</th>\n",
       "      <td>경유</td>\n",
       "      <td>NaN</td>\n",
       "      <td>NaN</td>\n",
       "      <td>7343084.0</td>\n",
       "      <td>1052801.0</td>\n",
       "      <td>943899.0</td>\n",
       "      <td>9339784.0</td>\n",
       "    </tr>\n",
       "    <tr>\n",
       "      <th>6</th>\n",
       "      <td>경유 하이브리드</td>\n",
       "      <td>NaN</td>\n",
       "      <td>NaN</td>\n",
       "      <td>18376.0</td>\n",
       "      <td>NaN</td>\n",
       "      <td>NaN</td>\n",
       "      <td>18376.0</td>\n",
       "    </tr>\n",
       "    <tr>\n",
       "      <th>7</th>\n",
       "      <td>기타연료</td>\n",
       "      <td>NaN</td>\n",
       "      <td>NaN</td>\n",
       "      <td>5.0</td>\n",
       "      <td>34.0</td>\n",
       "      <td>20.0</td>\n",
       "      <td>59.0</td>\n",
       "    </tr>\n",
       "    <tr>\n",
       "      <th>8</th>\n",
       "      <td>수소</td>\n",
       "      <td>32909.0</td>\n",
       "      <td>NaN</td>\n",
       "      <td>NaN</td>\n",
       "      <td>NaN</td>\n",
       "      <td>NaN</td>\n",
       "      <td>32909.0</td>\n",
       "    </tr>\n",
       "    <tr>\n",
       "      <th>9</th>\n",
       "      <td>알코올</td>\n",
       "      <td>NaN</td>\n",
       "      <td>NaN</td>\n",
       "      <td>NaN</td>\n",
       "      <td>1.0</td>\n",
       "      <td>1.0</td>\n",
       "      <td>2.0</td>\n",
       "    </tr>\n",
       "    <tr>\n",
       "      <th>10</th>\n",
       "      <td>전기</td>\n",
       "      <td>478797.0</td>\n",
       "      <td>NaN</td>\n",
       "      <td>NaN</td>\n",
       "      <td>NaN</td>\n",
       "      <td>NaN</td>\n",
       "      <td>478797.0</td>\n",
       "    </tr>\n",
       "    <tr>\n",
       "      <th>11</th>\n",
       "      <td>휘발유</td>\n",
       "      <td>1082492.0</td>\n",
       "      <td>9726237.0</td>\n",
       "      <td>733843.0</td>\n",
       "      <td>313038.0</td>\n",
       "      <td>29610.0</td>\n",
       "      <td>11885220.0</td>\n",
       "    </tr>\n",
       "    <tr>\n",
       "      <th>12</th>\n",
       "      <td>휘발유 하이브리드</td>\n",
       "      <td>1080390.0</td>\n",
       "      <td>86443.0</td>\n",
       "      <td>NaN</td>\n",
       "      <td>NaN</td>\n",
       "      <td>NaN</td>\n",
       "      <td>1166833.0</td>\n",
       "    </tr>\n",
       "    <tr>\n",
       "      <th>13</th>\n",
       "      <td>합계</td>\n",
       "      <td>3142066.0</td>\n",
       "      <td>10967268.0</td>\n",
       "      <td>8293811.0</td>\n",
       "      <td>1390230.0</td>\n",
       "      <td>973967.0</td>\n",
       "      <td>24767342.0</td>\n",
       "    </tr>\n",
       "  </tbody>\n",
       "</table>\n",
       "</div>"
      ],
      "text/plain": [
       "배출가스등급         연료          1           2          3          4         5   \n",
       "0             CNG        NaN     22511.0     4444.0        1.0       7.0  \\\n",
       "1       CNG 하이브리드      275.0        17.0        NaN        NaN       NaN   \n",
       "2             LNG        NaN         2.0        NaN        NaN       NaN   \n",
       "3             LPG   454141.0   1132058.0   194059.0    24355.0     430.0   \n",
       "4       LPG 하이브리드    13062.0         NaN        NaN        NaN       NaN   \n",
       "5              경유        NaN         NaN  7343084.0  1052801.0  943899.0   \n",
       "6        경유 하이브리드        NaN         NaN    18376.0        NaN       NaN   \n",
       "7            기타연료        NaN         NaN        5.0       34.0      20.0   \n",
       "8              수소    32909.0         NaN        NaN        NaN       NaN   \n",
       "9             알코올        NaN         NaN        NaN        1.0       1.0   \n",
       "10             전기   478797.0         NaN        NaN        NaN       NaN   \n",
       "11            휘발유  1082492.0   9726237.0   733843.0   313038.0   29610.0   \n",
       "12      휘발유 하이브리드  1080390.0     86443.0        NaN        NaN       NaN   \n",
       "13             합계  3142066.0  10967268.0  8293811.0  1390230.0  973967.0   \n",
       "\n",
       "배출가스등급          합계  \n",
       "0          26963.0  \n",
       "1            292.0  \n",
       "2              2.0  \n",
       "3        1805043.0  \n",
       "4          13062.0  \n",
       "5        9339784.0  \n",
       "6          18376.0  \n",
       "7             59.0  \n",
       "8          32909.0  \n",
       "9              2.0  \n",
       "10        478797.0  \n",
       "11      11885220.0  \n",
       "12       1166833.0  \n",
       "13      24767342.0  "
      ]
     },
     "execution_count": 414,
     "metadata": {},
     "output_type": "execute_result"
    }
   ],
   "source": [
    "grp1['합계'] = grp1.iloc[:, 1:].sum(axis=1)\n",
    "grp1.loc[grp1.shape[0]] = ['합계'] + list(grp1.iloc[:, 1:].sum().values)\n",
    "grp1"
   ]
  },
  {
   "cell_type": "code",
   "execution_count": 415,
   "metadata": {},
   "outputs": [
    {
     "data": {
      "text/html": [
       "<div>\n",
       "<style scoped>\n",
       "    .dataframe tbody tr th:only-of-type {\n",
       "        vertical-align: middle;\n",
       "    }\n",
       "\n",
       "    .dataframe tbody tr th {\n",
       "        vertical-align: top;\n",
       "    }\n",
       "\n",
       "    .dataframe thead th {\n",
       "        text-align: right;\n",
       "    }\n",
       "</style>\n",
       "<table border=\"1\" class=\"dataframe\">\n",
       "  <thead>\n",
       "    <tr style=\"text-align: right;\">\n",
       "      <th></th>\n",
       "      <th>연료</th>\n",
       "    </tr>\n",
       "  </thead>\n",
       "  <tbody>\n",
       "    <tr>\n",
       "      <th>0</th>\n",
       "      <td>휘발유</td>\n",
       "    </tr>\n",
       "    <tr>\n",
       "      <th>1</th>\n",
       "      <td>휘발유 하이브리드</td>\n",
       "    </tr>\n",
       "    <tr>\n",
       "      <th>2</th>\n",
       "      <td>경유</td>\n",
       "    </tr>\n",
       "    <tr>\n",
       "      <th>3</th>\n",
       "      <td>경유 하이브리드</td>\n",
       "    </tr>\n",
       "    <tr>\n",
       "      <th>4</th>\n",
       "      <td>LPG</td>\n",
       "    </tr>\n",
       "    <tr>\n",
       "      <th>5</th>\n",
       "      <td>LPG 하이브리드</td>\n",
       "    </tr>\n",
       "    <tr>\n",
       "      <th>6</th>\n",
       "      <td>LNG</td>\n",
       "    </tr>\n",
       "    <tr>\n",
       "      <th>7</th>\n",
       "      <td>CNG</td>\n",
       "    </tr>\n",
       "    <tr>\n",
       "      <th>8</th>\n",
       "      <td>CNG 하이브리드</td>\n",
       "    </tr>\n",
       "    <tr>\n",
       "      <th>9</th>\n",
       "      <td>전기</td>\n",
       "    </tr>\n",
       "    <tr>\n",
       "      <th>10</th>\n",
       "      <td>수소</td>\n",
       "    </tr>\n",
       "    <tr>\n",
       "      <th>11</th>\n",
       "      <td>알코올</td>\n",
       "    </tr>\n",
       "    <tr>\n",
       "      <th>12</th>\n",
       "      <td>기타연료</td>\n",
       "    </tr>\n",
       "    <tr>\n",
       "      <th>13</th>\n",
       "      <td>합계</td>\n",
       "    </tr>\n",
       "  </tbody>\n",
       "</table>\n",
       "</div>"
      ],
      "text/plain": [
       "           연료\n",
       "0         휘발유\n",
       "1   휘발유 하이브리드\n",
       "2          경유\n",
       "3    경유 하이브리드\n",
       "4         LPG\n",
       "5   LPG 하이브리드\n",
       "6         LNG\n",
       "7         CNG\n",
       "8   CNG 하이브리드\n",
       "9          전기\n",
       "10         수소\n",
       "11        알코올\n",
       "12       기타연료\n",
       "13         합계"
      ]
     },
     "execution_count": 415,
     "metadata": {},
     "output_type": "execute_result"
    }
   ],
   "source": [
    "idf1 = pd.DataFrame({'연료':['휘발유', '휘발유 하이브리드', '경유', '경유 하이브리드', 'LPG', 'LPG 하이브리드', 'LNG', 'CNG', 'CNG 하이브리드', '전기', '수소', '알코올', '기타연료', '합계']})\n",
    "idf1"
   ]
  },
  {
   "cell_type": "code",
   "execution_count": 416,
   "metadata": {},
   "outputs": [
    {
     "data": {
      "text/html": [
       "<div>\n",
       "<style scoped>\n",
       "    .dataframe tbody tr th:only-of-type {\n",
       "        vertical-align: middle;\n",
       "    }\n",
       "\n",
       "    .dataframe tbody tr th {\n",
       "        vertical-align: top;\n",
       "    }\n",
       "\n",
       "    .dataframe thead th {\n",
       "        text-align: right;\n",
       "    }\n",
       "</style>\n",
       "<table border=\"1\" class=\"dataframe\">\n",
       "  <thead>\n",
       "    <tr style=\"text-align: right;\">\n",
       "      <th></th>\n",
       "      <th>연료</th>\n",
       "      <th>1</th>\n",
       "      <th>2</th>\n",
       "      <th>3</th>\n",
       "      <th>4</th>\n",
       "      <th>5</th>\n",
       "      <th>합계</th>\n",
       "    </tr>\n",
       "  </thead>\n",
       "  <tbody>\n",
       "    <tr>\n",
       "      <th>0</th>\n",
       "      <td>휘발유</td>\n",
       "      <td>1082492.0</td>\n",
       "      <td>9726237.0</td>\n",
       "      <td>733843.0</td>\n",
       "      <td>313038.0</td>\n",
       "      <td>29610.0</td>\n",
       "      <td>11885220.0</td>\n",
       "    </tr>\n",
       "    <tr>\n",
       "      <th>1</th>\n",
       "      <td>휘발유 하이브리드</td>\n",
       "      <td>1080390.0</td>\n",
       "      <td>86443.0</td>\n",
       "      <td>NaN</td>\n",
       "      <td>NaN</td>\n",
       "      <td>NaN</td>\n",
       "      <td>1166833.0</td>\n",
       "    </tr>\n",
       "    <tr>\n",
       "      <th>2</th>\n",
       "      <td>경유</td>\n",
       "      <td>NaN</td>\n",
       "      <td>NaN</td>\n",
       "      <td>7343084.0</td>\n",
       "      <td>1052801.0</td>\n",
       "      <td>943899.0</td>\n",
       "      <td>9339784.0</td>\n",
       "    </tr>\n",
       "    <tr>\n",
       "      <th>3</th>\n",
       "      <td>경유 하이브리드</td>\n",
       "      <td>NaN</td>\n",
       "      <td>NaN</td>\n",
       "      <td>18376.0</td>\n",
       "      <td>NaN</td>\n",
       "      <td>NaN</td>\n",
       "      <td>18376.0</td>\n",
       "    </tr>\n",
       "    <tr>\n",
       "      <th>4</th>\n",
       "      <td>LPG</td>\n",
       "      <td>454141.0</td>\n",
       "      <td>1132058.0</td>\n",
       "      <td>194059.0</td>\n",
       "      <td>24355.0</td>\n",
       "      <td>430.0</td>\n",
       "      <td>1805043.0</td>\n",
       "    </tr>\n",
       "    <tr>\n",
       "      <th>5</th>\n",
       "      <td>LPG 하이브리드</td>\n",
       "      <td>13062.0</td>\n",
       "      <td>NaN</td>\n",
       "      <td>NaN</td>\n",
       "      <td>NaN</td>\n",
       "      <td>NaN</td>\n",
       "      <td>13062.0</td>\n",
       "    </tr>\n",
       "    <tr>\n",
       "      <th>6</th>\n",
       "      <td>LNG</td>\n",
       "      <td>NaN</td>\n",
       "      <td>2.0</td>\n",
       "      <td>NaN</td>\n",
       "      <td>NaN</td>\n",
       "      <td>NaN</td>\n",
       "      <td>2.0</td>\n",
       "    </tr>\n",
       "    <tr>\n",
       "      <th>7</th>\n",
       "      <td>CNG</td>\n",
       "      <td>NaN</td>\n",
       "      <td>22511.0</td>\n",
       "      <td>4444.0</td>\n",
       "      <td>1.0</td>\n",
       "      <td>7.0</td>\n",
       "      <td>26963.0</td>\n",
       "    </tr>\n",
       "    <tr>\n",
       "      <th>8</th>\n",
       "      <td>CNG 하이브리드</td>\n",
       "      <td>275.0</td>\n",
       "      <td>17.0</td>\n",
       "      <td>NaN</td>\n",
       "      <td>NaN</td>\n",
       "      <td>NaN</td>\n",
       "      <td>292.0</td>\n",
       "    </tr>\n",
       "    <tr>\n",
       "      <th>9</th>\n",
       "      <td>전기</td>\n",
       "      <td>478797.0</td>\n",
       "      <td>NaN</td>\n",
       "      <td>NaN</td>\n",
       "      <td>NaN</td>\n",
       "      <td>NaN</td>\n",
       "      <td>478797.0</td>\n",
       "    </tr>\n",
       "    <tr>\n",
       "      <th>10</th>\n",
       "      <td>수소</td>\n",
       "      <td>32909.0</td>\n",
       "      <td>NaN</td>\n",
       "      <td>NaN</td>\n",
       "      <td>NaN</td>\n",
       "      <td>NaN</td>\n",
       "      <td>32909.0</td>\n",
       "    </tr>\n",
       "    <tr>\n",
       "      <th>11</th>\n",
       "      <td>알코올</td>\n",
       "      <td>NaN</td>\n",
       "      <td>NaN</td>\n",
       "      <td>NaN</td>\n",
       "      <td>1.0</td>\n",
       "      <td>1.0</td>\n",
       "      <td>2.0</td>\n",
       "    </tr>\n",
       "    <tr>\n",
       "      <th>12</th>\n",
       "      <td>기타연료</td>\n",
       "      <td>NaN</td>\n",
       "      <td>NaN</td>\n",
       "      <td>5.0</td>\n",
       "      <td>34.0</td>\n",
       "      <td>20.0</td>\n",
       "      <td>59.0</td>\n",
       "    </tr>\n",
       "    <tr>\n",
       "      <th>13</th>\n",
       "      <td>합계</td>\n",
       "      <td>3142066.0</td>\n",
       "      <td>10967268.0</td>\n",
       "      <td>8293811.0</td>\n",
       "      <td>1390230.0</td>\n",
       "      <td>973967.0</td>\n",
       "      <td>24767342.0</td>\n",
       "    </tr>\n",
       "  </tbody>\n",
       "</table>\n",
       "</div>"
      ],
      "text/plain": [
       "           연료          1           2          3          4         5   \n",
       "0         휘발유  1082492.0   9726237.0   733843.0   313038.0   29610.0  \\\n",
       "1   휘발유 하이브리드  1080390.0     86443.0        NaN        NaN       NaN   \n",
       "2          경유        NaN         NaN  7343084.0  1052801.0  943899.0   \n",
       "3    경유 하이브리드        NaN         NaN    18376.0        NaN       NaN   \n",
       "4         LPG   454141.0   1132058.0   194059.0    24355.0     430.0   \n",
       "5   LPG 하이브리드    13062.0         NaN        NaN        NaN       NaN   \n",
       "6         LNG        NaN         2.0        NaN        NaN       NaN   \n",
       "7         CNG        NaN     22511.0     4444.0        1.0       7.0   \n",
       "8   CNG 하이브리드      275.0        17.0        NaN        NaN       NaN   \n",
       "9          전기   478797.0         NaN        NaN        NaN       NaN   \n",
       "10         수소    32909.0         NaN        NaN        NaN       NaN   \n",
       "11        알코올        NaN         NaN        NaN        1.0       1.0   \n",
       "12       기타연료        NaN         NaN        5.0       34.0      20.0   \n",
       "13         합계  3142066.0  10967268.0  8293811.0  1390230.0  973967.0   \n",
       "\n",
       "            합계  \n",
       "0   11885220.0  \n",
       "1    1166833.0  \n",
       "2    9339784.0  \n",
       "3      18376.0  \n",
       "4    1805043.0  \n",
       "5      13062.0  \n",
       "6          2.0  \n",
       "7      26963.0  \n",
       "8        292.0  \n",
       "9     478797.0  \n",
       "10     32909.0  \n",
       "11         2.0  \n",
       "12        59.0  \n",
       "13  24767342.0  "
      ]
     },
     "execution_count": 416,
     "metadata": {},
     "output_type": "execute_result"
    }
   ],
   "source": [
    "base1 = idf1.merge(grp1, on='연료', how='left')\n",
    "base1"
   ]
  },
  {
   "cell_type": "markdown",
   "metadata": {},
   "source": [
    "## 2\\. 5등급 대기관리권역, 시도별 차량 현황"
   ]
  },
  {
   "cell_type": "code",
   "execution_count": 417,
   "metadata": {},
   "outputs": [
    {
     "data": {
      "text/plain": [
       "array(['3', '2', '1', '5', '4'], dtype=object)"
      ]
     },
     "execution_count": 417,
     "metadata": {},
     "output_type": "execute_result"
    }
   ],
   "source": [
    "dfg['배출가스등급'].unique()"
   ]
  },
  {
   "cell_type": "code",
   "execution_count": 418,
   "metadata": {},
   "outputs": [
    {
     "data": {
      "text/plain": [
       "(973967, 17)"
      ]
     },
     "execution_count": 418,
     "metadata": {},
     "output_type": "execute_result"
    }
   ],
   "source": [
    "g5 = dfg[dfg['배출가스등급'] == '5'].reset_index(drop=True)\n",
    "g5.shape"
   ]
  },
  {
   "cell_type": "code",
   "execution_count": 419,
   "metadata": {},
   "outputs": [
    {
     "data": {
      "text/html": [
       "<div>\n",
       "<style scoped>\n",
       "    .dataframe tbody tr th:only-of-type {\n",
       "        vertical-align: middle;\n",
       "    }\n",
       "\n",
       "    .dataframe tbody tr th {\n",
       "        vertical-align: top;\n",
       "    }\n",
       "\n",
       "    .dataframe thead tr th {\n",
       "        text-align: left;\n",
       "    }\n",
       "</style>\n",
       "<table border=\"1\" class=\"dataframe\">\n",
       "  <thead>\n",
       "    <tr>\n",
       "      <th></th>\n",
       "      <th>대기관리권역</th>\n",
       "      <th>시도</th>\n",
       "      <th colspan=\"2\" halign=\"left\">차대번호</th>\n",
       "    </tr>\n",
       "    <tr>\n",
       "      <th>대기관리권역YN</th>\n",
       "      <th></th>\n",
       "      <th></th>\n",
       "      <th>N</th>\n",
       "      <th>Y</th>\n",
       "    </tr>\n",
       "  </thead>\n",
       "  <tbody>\n",
       "    <tr>\n",
       "      <th>0</th>\n",
       "      <td>그 외</td>\n",
       "      <td>강원특별자치도</td>\n",
       "      <td>39205.0</td>\n",
       "      <td>NaN</td>\n",
       "    </tr>\n",
       "    <tr>\n",
       "      <th>1</th>\n",
       "      <td>그 외</td>\n",
       "      <td>제주특별자치도</td>\n",
       "      <td>20063.0</td>\n",
       "      <td>NaN</td>\n",
       "    </tr>\n",
       "    <tr>\n",
       "      <th>2</th>\n",
       "      <td>남부권</td>\n",
       "      <td>광주광역시</td>\n",
       "      <td>NaN</td>\n",
       "      <td>21861.0</td>\n",
       "    </tr>\n",
       "    <tr>\n",
       "      <th>3</th>\n",
       "      <td>남부권</td>\n",
       "      <td>전라남도</td>\n",
       "      <td>38207.0</td>\n",
       "      <td>27852.0</td>\n",
       "    </tr>\n",
       "    <tr>\n",
       "      <th>4</th>\n",
       "      <td>동남권</td>\n",
       "      <td>경상남도</td>\n",
       "      <td>36574.0</td>\n",
       "      <td>50992.0</td>\n",
       "    </tr>\n",
       "    <tr>\n",
       "      <th>5</th>\n",
       "      <td>동남권</td>\n",
       "      <td>경상북도</td>\n",
       "      <td>54588.0</td>\n",
       "      <td>46225.0</td>\n",
       "    </tr>\n",
       "    <tr>\n",
       "      <th>6</th>\n",
       "      <td>동남권</td>\n",
       "      <td>대구광역시</td>\n",
       "      <td>NaN</td>\n",
       "      <td>43420.0</td>\n",
       "    </tr>\n",
       "    <tr>\n",
       "      <th>7</th>\n",
       "      <td>동남권</td>\n",
       "      <td>부산광역시</td>\n",
       "      <td>NaN</td>\n",
       "      <td>54144.0</td>\n",
       "    </tr>\n",
       "    <tr>\n",
       "      <th>8</th>\n",
       "      <td>동남권</td>\n",
       "      <td>울산광역시</td>\n",
       "      <td>NaN</td>\n",
       "      <td>20632.0</td>\n",
       "    </tr>\n",
       "    <tr>\n",
       "      <th>9</th>\n",
       "      <td>수도권</td>\n",
       "      <td>경기도</td>\n",
       "      <td>7904.0</td>\n",
       "      <td>189399.0</td>\n",
       "    </tr>\n",
       "    <tr>\n",
       "      <th>10</th>\n",
       "      <td>수도권</td>\n",
       "      <td>서울특별시</td>\n",
       "      <td>NaN</td>\n",
       "      <td>111270.0</td>\n",
       "    </tr>\n",
       "    <tr>\n",
       "      <th>11</th>\n",
       "      <td>수도권</td>\n",
       "      <td>인천광역시</td>\n",
       "      <td>1251.0</td>\n",
       "      <td>45499.0</td>\n",
       "    </tr>\n",
       "    <tr>\n",
       "      <th>12</th>\n",
       "      <td>중부권</td>\n",
       "      <td>대전광역시</td>\n",
       "      <td>NaN</td>\n",
       "      <td>21468.0</td>\n",
       "    </tr>\n",
       "    <tr>\n",
       "      <th>13</th>\n",
       "      <td>중부권</td>\n",
       "      <td>세종특별자치시</td>\n",
       "      <td>NaN</td>\n",
       "      <td>3566.0</td>\n",
       "    </tr>\n",
       "    <tr>\n",
       "      <th>14</th>\n",
       "      <td>중부권</td>\n",
       "      <td>전라북도</td>\n",
       "      <td>27612.0</td>\n",
       "      <td>22871.0</td>\n",
       "    </tr>\n",
       "    <tr>\n",
       "      <th>15</th>\n",
       "      <td>중부권</td>\n",
       "      <td>충청남도</td>\n",
       "      <td>2471.0</td>\n",
       "      <td>50963.0</td>\n",
       "    </tr>\n",
       "    <tr>\n",
       "      <th>16</th>\n",
       "      <td>중부권</td>\n",
       "      <td>충청북도</td>\n",
       "      <td>8937.0</td>\n",
       "      <td>26993.0</td>\n",
       "    </tr>\n",
       "  </tbody>\n",
       "</table>\n",
       "</div>"
      ],
      "text/plain": [
       "         대기관리권역       시도     차대번호          \n",
       "대기관리권역YN                        N         Y\n",
       "0           그 외  강원특별자치도  39205.0       NaN\n",
       "1           그 외  제주특별자치도  20063.0       NaN\n",
       "2           남부권    광주광역시      NaN   21861.0\n",
       "3           남부권     전라남도  38207.0   27852.0\n",
       "4           동남권     경상남도  36574.0   50992.0\n",
       "5           동남권     경상북도  54588.0   46225.0\n",
       "6           동남권    대구광역시      NaN   43420.0\n",
       "7           동남권    부산광역시      NaN   54144.0\n",
       "8           동남권    울산광역시      NaN   20632.0\n",
       "9           수도권      경기도   7904.0  189399.0\n",
       "10          수도권    서울특별시      NaN  111270.0\n",
       "11          수도권    인천광역시   1251.0   45499.0\n",
       "12          중부권    대전광역시      NaN   21468.0\n",
       "13          중부권  세종특별자치시      NaN    3566.0\n",
       "14          중부권     전라북도  27612.0   22871.0\n",
       "15          중부권     충청남도   2471.0   50963.0\n",
       "16          중부권     충청북도   8937.0   26993.0"
      ]
     },
     "execution_count": 419,
     "metadata": {},
     "output_type": "execute_result"
    }
   ],
   "source": [
    "g5.groupby(['대기관리권역', '대기관리권역YN', '시도']).agg({'차대번호':'count'}).unstack('대기관리권역YN').reset_index()"
   ]
  },
  {
   "cell_type": "code",
   "execution_count": 420,
   "metadata": {},
   "outputs": [
    {
     "data": {
      "text/plain": [
       "      대기관리권역YN\n",
       "차대번호  N           236812.0\n",
       "      Y           737155.0\n",
       "dtype: float64"
      ]
     },
     "execution_count": 420,
     "metadata": {},
     "output_type": "execute_result"
    }
   ],
   "source": [
    "g5.groupby(['대기관리권역', '대기관리권역YN', '시도']).agg({'차대번호':'count'}).unstack('대기관리권역YN').reset_index().iloc[:, 2:].sum()"
   ]
  },
  {
   "cell_type": "code",
   "execution_count": 421,
   "metadata": {},
   "outputs": [
    {
     "data": {
      "text/html": [
       "<div>\n",
       "<style scoped>\n",
       "    .dataframe tbody tr th:only-of-type {\n",
       "        vertical-align: middle;\n",
       "    }\n",
       "\n",
       "    .dataframe tbody tr th {\n",
       "        vertical-align: top;\n",
       "    }\n",
       "\n",
       "    .dataframe thead th {\n",
       "        text-align: right;\n",
       "    }\n",
       "</style>\n",
       "<table border=\"1\" class=\"dataframe\">\n",
       "  <thead>\n",
       "    <tr style=\"text-align: right;\">\n",
       "      <th></th>\n",
       "      <th>대기관리권역</th>\n",
       "      <th>시도</th>\n",
       "      <th>대기관리권역_내</th>\n",
       "      <th>대기관리권역_외</th>\n",
       "    </tr>\n",
       "  </thead>\n",
       "  <tbody>\n",
       "    <tr>\n",
       "      <th>0</th>\n",
       "      <td>그 외</td>\n",
       "      <td>강원특별자치도</td>\n",
       "      <td>NaN</td>\n",
       "      <td>39205.0</td>\n",
       "    </tr>\n",
       "    <tr>\n",
       "      <th>1</th>\n",
       "      <td>그 외</td>\n",
       "      <td>제주특별자치도</td>\n",
       "      <td>NaN</td>\n",
       "      <td>20063.0</td>\n",
       "    </tr>\n",
       "    <tr>\n",
       "      <th>2</th>\n",
       "      <td>남부권</td>\n",
       "      <td>광주광역시</td>\n",
       "      <td>21861.0</td>\n",
       "      <td>NaN</td>\n",
       "    </tr>\n",
       "    <tr>\n",
       "      <th>3</th>\n",
       "      <td>남부권</td>\n",
       "      <td>전라남도</td>\n",
       "      <td>27852.0</td>\n",
       "      <td>38207.0</td>\n",
       "    </tr>\n",
       "    <tr>\n",
       "      <th>4</th>\n",
       "      <td>동남권</td>\n",
       "      <td>경상남도</td>\n",
       "      <td>50992.0</td>\n",
       "      <td>36574.0</td>\n",
       "    </tr>\n",
       "    <tr>\n",
       "      <th>5</th>\n",
       "      <td>동남권</td>\n",
       "      <td>경상북도</td>\n",
       "      <td>46225.0</td>\n",
       "      <td>54588.0</td>\n",
       "    </tr>\n",
       "    <tr>\n",
       "      <th>6</th>\n",
       "      <td>동남권</td>\n",
       "      <td>대구광역시</td>\n",
       "      <td>43420.0</td>\n",
       "      <td>NaN</td>\n",
       "    </tr>\n",
       "    <tr>\n",
       "      <th>7</th>\n",
       "      <td>동남권</td>\n",
       "      <td>부산광역시</td>\n",
       "      <td>54144.0</td>\n",
       "      <td>NaN</td>\n",
       "    </tr>\n",
       "    <tr>\n",
       "      <th>8</th>\n",
       "      <td>동남권</td>\n",
       "      <td>울산광역시</td>\n",
       "      <td>20632.0</td>\n",
       "      <td>NaN</td>\n",
       "    </tr>\n",
       "    <tr>\n",
       "      <th>9</th>\n",
       "      <td>수도권</td>\n",
       "      <td>경기도</td>\n",
       "      <td>189399.0</td>\n",
       "      <td>7904.0</td>\n",
       "    </tr>\n",
       "    <tr>\n",
       "      <th>10</th>\n",
       "      <td>수도권</td>\n",
       "      <td>서울특별시</td>\n",
       "      <td>111270.0</td>\n",
       "      <td>NaN</td>\n",
       "    </tr>\n",
       "    <tr>\n",
       "      <th>11</th>\n",
       "      <td>수도권</td>\n",
       "      <td>인천광역시</td>\n",
       "      <td>45499.0</td>\n",
       "      <td>1251.0</td>\n",
       "    </tr>\n",
       "    <tr>\n",
       "      <th>12</th>\n",
       "      <td>중부권</td>\n",
       "      <td>대전광역시</td>\n",
       "      <td>21468.0</td>\n",
       "      <td>NaN</td>\n",
       "    </tr>\n",
       "    <tr>\n",
       "      <th>13</th>\n",
       "      <td>중부권</td>\n",
       "      <td>세종특별자치시</td>\n",
       "      <td>3566.0</td>\n",
       "      <td>NaN</td>\n",
       "    </tr>\n",
       "    <tr>\n",
       "      <th>14</th>\n",
       "      <td>중부권</td>\n",
       "      <td>전라북도</td>\n",
       "      <td>22871.0</td>\n",
       "      <td>27612.0</td>\n",
       "    </tr>\n",
       "    <tr>\n",
       "      <th>15</th>\n",
       "      <td>중부권</td>\n",
       "      <td>충청남도</td>\n",
       "      <td>50963.0</td>\n",
       "      <td>2471.0</td>\n",
       "    </tr>\n",
       "    <tr>\n",
       "      <th>16</th>\n",
       "      <td>중부권</td>\n",
       "      <td>충청북도</td>\n",
       "      <td>26993.0</td>\n",
       "      <td>8937.0</td>\n",
       "    </tr>\n",
       "  </tbody>\n",
       "</table>\n",
       "</div>"
      ],
      "text/plain": [
       "   대기관리권역       시도  대기관리권역_내  대기관리권역_외\n",
       "0     그 외  강원특별자치도       NaN   39205.0\n",
       "1     그 외  제주특별자치도       NaN   20063.0\n",
       "2     남부권    광주광역시   21861.0       NaN\n",
       "3     남부권     전라남도   27852.0   38207.0\n",
       "4     동남권     경상남도   50992.0   36574.0\n",
       "5     동남권     경상북도   46225.0   54588.0\n",
       "6     동남권    대구광역시   43420.0       NaN\n",
       "7     동남권    부산광역시   54144.0       NaN\n",
       "8     동남권    울산광역시   20632.0       NaN\n",
       "9     수도권      경기도  189399.0    7904.0\n",
       "10    수도권    서울특별시  111270.0       NaN\n",
       "11    수도권    인천광역시   45499.0    1251.0\n",
       "12    중부권    대전광역시   21468.0       NaN\n",
       "13    중부권  세종특별자치시    3566.0       NaN\n",
       "14    중부권     전라북도   22871.0   27612.0\n",
       "15    중부권     충청남도   50963.0    2471.0\n",
       "16    중부권     충청북도   26993.0    8937.0"
      ]
     },
     "execution_count": 421,
     "metadata": {},
     "output_type": "execute_result"
    }
   ],
   "source": [
    "stat2 = g5.groupby(['대기관리권역', '대기관리권역YN', '시도']).agg({'차대번호':'count'}).unstack('대기관리권역YN').reset_index()\n",
    "stat2.columns = ['대기관리권역', '시도', '대기관리권역_외', '대기관리권역_내']\n",
    "stat2 = stat2[['대기관리권역', '시도', '대기관리권역_내', '대기관리권역_외']]\n",
    "stat2"
   ]
  },
  {
   "cell_type": "code",
   "execution_count": 422,
   "metadata": {},
   "outputs": [],
   "source": [
    "grp2 = pd.DataFrame()\n",
    "percentage = 1\n",
    "in_air_sum = 0\n",
    "out_air_sum = 0\n",
    "total = 0\n",
    "for div in stat2['대기관리권역'].unique():\n",
    "    temp = stat2[stat2['대기관리권역'] == div].reset_index(drop=True)\n",
    "    temp['전체'] = temp.iloc[:, 2:].sum(axis=1)\n",
    "\n",
    "    in_air_div_sum = temp['대기관리권역_내'].sum()\n",
    "    out_air_div_sum = temp['대기관리권역_외'].sum()\n",
    "    div_sum = temp['전체'].sum()\n",
    "    temp.loc[temp.shape[0]] = [div, '소계', in_air_div_sum, out_air_div_sum, div_sum]\n",
    "\n",
    "    in_air_sum += in_air_div_sum\n",
    "    out_air_sum += out_air_div_sum\n",
    "    total += div_sum\n",
    "    temp.iloc[:, 2:] = temp.iloc[:, 2:].fillna(0)\n",
    "    temp['대기관리권역_내_비율'] = temp['대기관리권역_내'] / temp['전체'] * percentage\n",
    "    temp['대기관리권역_외_비율'] = temp['대기관리권역_외'] / temp['전체'] * percentage\n",
    "    grp2 = pd.concat([grp2, temp], ignore_index=True)\n",
    "    \n",
    "grp2.loc[grp2.shape[0]] = ['합계', '합계', in_air_sum, out_air_sum, total, in_air_sum/total * percentage, out_air_sum/total * percentage]\n",
    "grp2['전체비율'] = grp2['전체'] / total * percentage\n",
    "grp2[['대기관리권역_내_비율', '대기관리권역_외_비율', '전체비율']] = grp2[['대기관리권역_내_비율', '대기관리권역_외_비율', '전체비율']].round(2)\n",
    "grp2 = grp2[['대기관리권역', '시도', '전체', '전체비율', '대기관리권역_내', '대기관리권역_내_비율', '대기관리권역_외', '대기관리권역_외_비율']]"
   ]
  },
  {
   "cell_type": "code",
   "execution_count": 423,
   "metadata": {},
   "outputs": [
    {
     "data": {
      "text/plain": [
       "(737155.0, 236812.0)"
      ]
     },
     "execution_count": 423,
     "metadata": {},
     "output_type": "execute_result"
    }
   ],
   "source": [
    "in_air_sum, out_air_sum"
   ]
  },
  {
   "cell_type": "code",
   "execution_count": 424,
   "metadata": {},
   "outputs": [
    {
     "data": {
      "text/html": [
       "<div>\n",
       "<style scoped>\n",
       "    .dataframe tbody tr th:only-of-type {\n",
       "        vertical-align: middle;\n",
       "    }\n",
       "\n",
       "    .dataframe tbody tr th {\n",
       "        vertical-align: top;\n",
       "    }\n",
       "\n",
       "    .dataframe thead th {\n",
       "        text-align: right;\n",
       "    }\n",
       "</style>\n",
       "<table border=\"1\" class=\"dataframe\">\n",
       "  <thead>\n",
       "    <tr style=\"text-align: right;\">\n",
       "      <th></th>\n",
       "      <th>대기관리권역</th>\n",
       "      <th>시도</th>\n",
       "      <th>전체</th>\n",
       "      <th>전체비율</th>\n",
       "      <th>대기관리권역_내</th>\n",
       "      <th>대기관리권역_내_비율</th>\n",
       "      <th>대기관리권역_외</th>\n",
       "      <th>대기관리권역_외_비율</th>\n",
       "    </tr>\n",
       "  </thead>\n",
       "  <tbody>\n",
       "    <tr>\n",
       "      <th>0</th>\n",
       "      <td>그 외</td>\n",
       "      <td>강원특별자치도</td>\n",
       "      <td>39205.0</td>\n",
       "      <td>0.04</td>\n",
       "      <td>0.0</td>\n",
       "      <td>0.00</td>\n",
       "      <td>39205.0</td>\n",
       "      <td>1.00</td>\n",
       "    </tr>\n",
       "    <tr>\n",
       "      <th>1</th>\n",
       "      <td>그 외</td>\n",
       "      <td>제주특별자치도</td>\n",
       "      <td>20063.0</td>\n",
       "      <td>0.02</td>\n",
       "      <td>0.0</td>\n",
       "      <td>0.00</td>\n",
       "      <td>20063.0</td>\n",
       "      <td>1.00</td>\n",
       "    </tr>\n",
       "    <tr>\n",
       "      <th>2</th>\n",
       "      <td>그 외</td>\n",
       "      <td>소계</td>\n",
       "      <td>59268.0</td>\n",
       "      <td>0.06</td>\n",
       "      <td>0.0</td>\n",
       "      <td>0.00</td>\n",
       "      <td>59268.0</td>\n",
       "      <td>1.00</td>\n",
       "    </tr>\n",
       "    <tr>\n",
       "      <th>3</th>\n",
       "      <td>남부권</td>\n",
       "      <td>광주광역시</td>\n",
       "      <td>21861.0</td>\n",
       "      <td>0.02</td>\n",
       "      <td>21861.0</td>\n",
       "      <td>1.00</td>\n",
       "      <td>0.0</td>\n",
       "      <td>0.00</td>\n",
       "    </tr>\n",
       "    <tr>\n",
       "      <th>4</th>\n",
       "      <td>남부권</td>\n",
       "      <td>전라남도</td>\n",
       "      <td>66059.0</td>\n",
       "      <td>0.07</td>\n",
       "      <td>27852.0</td>\n",
       "      <td>0.42</td>\n",
       "      <td>38207.0</td>\n",
       "      <td>0.58</td>\n",
       "    </tr>\n",
       "    <tr>\n",
       "      <th>5</th>\n",
       "      <td>남부권</td>\n",
       "      <td>소계</td>\n",
       "      <td>87920.0</td>\n",
       "      <td>0.09</td>\n",
       "      <td>49713.0</td>\n",
       "      <td>0.57</td>\n",
       "      <td>38207.0</td>\n",
       "      <td>0.43</td>\n",
       "    </tr>\n",
       "    <tr>\n",
       "      <th>6</th>\n",
       "      <td>동남권</td>\n",
       "      <td>경상남도</td>\n",
       "      <td>87566.0</td>\n",
       "      <td>0.09</td>\n",
       "      <td>50992.0</td>\n",
       "      <td>0.58</td>\n",
       "      <td>36574.0</td>\n",
       "      <td>0.42</td>\n",
       "    </tr>\n",
       "    <tr>\n",
       "      <th>7</th>\n",
       "      <td>동남권</td>\n",
       "      <td>경상북도</td>\n",
       "      <td>100813.0</td>\n",
       "      <td>0.10</td>\n",
       "      <td>46225.0</td>\n",
       "      <td>0.46</td>\n",
       "      <td>54588.0</td>\n",
       "      <td>0.54</td>\n",
       "    </tr>\n",
       "    <tr>\n",
       "      <th>8</th>\n",
       "      <td>동남권</td>\n",
       "      <td>대구광역시</td>\n",
       "      <td>43420.0</td>\n",
       "      <td>0.04</td>\n",
       "      <td>43420.0</td>\n",
       "      <td>1.00</td>\n",
       "      <td>0.0</td>\n",
       "      <td>0.00</td>\n",
       "    </tr>\n",
       "    <tr>\n",
       "      <th>9</th>\n",
       "      <td>동남권</td>\n",
       "      <td>부산광역시</td>\n",
       "      <td>54144.0</td>\n",
       "      <td>0.06</td>\n",
       "      <td>54144.0</td>\n",
       "      <td>1.00</td>\n",
       "      <td>0.0</td>\n",
       "      <td>0.00</td>\n",
       "    </tr>\n",
       "    <tr>\n",
       "      <th>10</th>\n",
       "      <td>동남권</td>\n",
       "      <td>울산광역시</td>\n",
       "      <td>20632.0</td>\n",
       "      <td>0.02</td>\n",
       "      <td>20632.0</td>\n",
       "      <td>1.00</td>\n",
       "      <td>0.0</td>\n",
       "      <td>0.00</td>\n",
       "    </tr>\n",
       "    <tr>\n",
       "      <th>11</th>\n",
       "      <td>동남권</td>\n",
       "      <td>소계</td>\n",
       "      <td>306575.0</td>\n",
       "      <td>0.31</td>\n",
       "      <td>215413.0</td>\n",
       "      <td>0.70</td>\n",
       "      <td>91162.0</td>\n",
       "      <td>0.30</td>\n",
       "    </tr>\n",
       "    <tr>\n",
       "      <th>12</th>\n",
       "      <td>수도권</td>\n",
       "      <td>경기도</td>\n",
       "      <td>197303.0</td>\n",
       "      <td>0.20</td>\n",
       "      <td>189399.0</td>\n",
       "      <td>0.96</td>\n",
       "      <td>7904.0</td>\n",
       "      <td>0.04</td>\n",
       "    </tr>\n",
       "    <tr>\n",
       "      <th>13</th>\n",
       "      <td>수도권</td>\n",
       "      <td>서울특별시</td>\n",
       "      <td>111270.0</td>\n",
       "      <td>0.11</td>\n",
       "      <td>111270.0</td>\n",
       "      <td>1.00</td>\n",
       "      <td>0.0</td>\n",
       "      <td>0.00</td>\n",
       "    </tr>\n",
       "    <tr>\n",
       "      <th>14</th>\n",
       "      <td>수도권</td>\n",
       "      <td>인천광역시</td>\n",
       "      <td>46750.0</td>\n",
       "      <td>0.05</td>\n",
       "      <td>45499.0</td>\n",
       "      <td>0.97</td>\n",
       "      <td>1251.0</td>\n",
       "      <td>0.03</td>\n",
       "    </tr>\n",
       "    <tr>\n",
       "      <th>15</th>\n",
       "      <td>수도권</td>\n",
       "      <td>소계</td>\n",
       "      <td>355323.0</td>\n",
       "      <td>0.36</td>\n",
       "      <td>346168.0</td>\n",
       "      <td>0.97</td>\n",
       "      <td>9155.0</td>\n",
       "      <td>0.03</td>\n",
       "    </tr>\n",
       "    <tr>\n",
       "      <th>16</th>\n",
       "      <td>중부권</td>\n",
       "      <td>대전광역시</td>\n",
       "      <td>21468.0</td>\n",
       "      <td>0.02</td>\n",
       "      <td>21468.0</td>\n",
       "      <td>1.00</td>\n",
       "      <td>0.0</td>\n",
       "      <td>0.00</td>\n",
       "    </tr>\n",
       "    <tr>\n",
       "      <th>17</th>\n",
       "      <td>중부권</td>\n",
       "      <td>세종특별자치시</td>\n",
       "      <td>3566.0</td>\n",
       "      <td>0.00</td>\n",
       "      <td>3566.0</td>\n",
       "      <td>1.00</td>\n",
       "      <td>0.0</td>\n",
       "      <td>0.00</td>\n",
       "    </tr>\n",
       "    <tr>\n",
       "      <th>18</th>\n",
       "      <td>중부권</td>\n",
       "      <td>전라북도</td>\n",
       "      <td>50483.0</td>\n",
       "      <td>0.05</td>\n",
       "      <td>22871.0</td>\n",
       "      <td>0.45</td>\n",
       "      <td>27612.0</td>\n",
       "      <td>0.55</td>\n",
       "    </tr>\n",
       "    <tr>\n",
       "      <th>19</th>\n",
       "      <td>중부권</td>\n",
       "      <td>충청남도</td>\n",
       "      <td>53434.0</td>\n",
       "      <td>0.05</td>\n",
       "      <td>50963.0</td>\n",
       "      <td>0.95</td>\n",
       "      <td>2471.0</td>\n",
       "      <td>0.05</td>\n",
       "    </tr>\n",
       "    <tr>\n",
       "      <th>20</th>\n",
       "      <td>중부권</td>\n",
       "      <td>충청북도</td>\n",
       "      <td>35930.0</td>\n",
       "      <td>0.04</td>\n",
       "      <td>26993.0</td>\n",
       "      <td>0.75</td>\n",
       "      <td>8937.0</td>\n",
       "      <td>0.25</td>\n",
       "    </tr>\n",
       "    <tr>\n",
       "      <th>21</th>\n",
       "      <td>중부권</td>\n",
       "      <td>소계</td>\n",
       "      <td>164881.0</td>\n",
       "      <td>0.17</td>\n",
       "      <td>125861.0</td>\n",
       "      <td>0.76</td>\n",
       "      <td>39020.0</td>\n",
       "      <td>0.24</td>\n",
       "    </tr>\n",
       "    <tr>\n",
       "      <th>22</th>\n",
       "      <td>합계</td>\n",
       "      <td>합계</td>\n",
       "      <td>973967.0</td>\n",
       "      <td>1.00</td>\n",
       "      <td>737155.0</td>\n",
       "      <td>0.76</td>\n",
       "      <td>236812.0</td>\n",
       "      <td>0.24</td>\n",
       "    </tr>\n",
       "  </tbody>\n",
       "</table>\n",
       "</div>"
      ],
      "text/plain": [
       "   대기관리권역       시도        전체  전체비율  대기관리권역_내  대기관리권역_내_비율  대기관리권역_외   \n",
       "0     그 외  강원특별자치도   39205.0  0.04       0.0         0.00   39205.0  \\\n",
       "1     그 외  제주특별자치도   20063.0  0.02       0.0         0.00   20063.0   \n",
       "2     그 외       소계   59268.0  0.06       0.0         0.00   59268.0   \n",
       "3     남부권    광주광역시   21861.0  0.02   21861.0         1.00       0.0   \n",
       "4     남부권     전라남도   66059.0  0.07   27852.0         0.42   38207.0   \n",
       "5     남부권       소계   87920.0  0.09   49713.0         0.57   38207.0   \n",
       "6     동남권     경상남도   87566.0  0.09   50992.0         0.58   36574.0   \n",
       "7     동남권     경상북도  100813.0  0.10   46225.0         0.46   54588.0   \n",
       "8     동남권    대구광역시   43420.0  0.04   43420.0         1.00       0.0   \n",
       "9     동남권    부산광역시   54144.0  0.06   54144.0         1.00       0.0   \n",
       "10    동남권    울산광역시   20632.0  0.02   20632.0         1.00       0.0   \n",
       "11    동남권       소계  306575.0  0.31  215413.0         0.70   91162.0   \n",
       "12    수도권      경기도  197303.0  0.20  189399.0         0.96    7904.0   \n",
       "13    수도권    서울특별시  111270.0  0.11  111270.0         1.00       0.0   \n",
       "14    수도권    인천광역시   46750.0  0.05   45499.0         0.97    1251.0   \n",
       "15    수도권       소계  355323.0  0.36  346168.0         0.97    9155.0   \n",
       "16    중부권    대전광역시   21468.0  0.02   21468.0         1.00       0.0   \n",
       "17    중부권  세종특별자치시    3566.0  0.00    3566.0         1.00       0.0   \n",
       "18    중부권     전라북도   50483.0  0.05   22871.0         0.45   27612.0   \n",
       "19    중부권     충청남도   53434.0  0.05   50963.0         0.95    2471.0   \n",
       "20    중부권     충청북도   35930.0  0.04   26993.0         0.75    8937.0   \n",
       "21    중부권       소계  164881.0  0.17  125861.0         0.76   39020.0   \n",
       "22     합계       합계  973967.0  1.00  737155.0         0.76  236812.0   \n",
       "\n",
       "    대기관리권역_외_비율  \n",
       "0          1.00  \n",
       "1          1.00  \n",
       "2          1.00  \n",
       "3          0.00  \n",
       "4          0.58  \n",
       "5          0.43  \n",
       "6          0.42  \n",
       "7          0.54  \n",
       "8          0.00  \n",
       "9          0.00  \n",
       "10         0.00  \n",
       "11         0.30  \n",
       "12         0.04  \n",
       "13         0.00  \n",
       "14         0.03  \n",
       "15         0.03  \n",
       "16         0.00  \n",
       "17         0.00  \n",
       "18         0.55  \n",
       "19         0.05  \n",
       "20         0.25  \n",
       "21         0.24  \n",
       "22         0.24  "
      ]
     },
     "execution_count": 424,
     "metadata": {},
     "output_type": "execute_result"
    }
   ],
   "source": [
    "grp2"
   ]
  },
  {
   "cell_type": "code",
   "execution_count": 425,
   "metadata": {},
   "outputs": [
    {
     "data": {
      "text/html": [
       "<div>\n",
       "<style scoped>\n",
       "    .dataframe tbody tr th:only-of-type {\n",
       "        vertical-align: middle;\n",
       "    }\n",
       "\n",
       "    .dataframe tbody tr th {\n",
       "        vertical-align: top;\n",
       "    }\n",
       "\n",
       "    .dataframe thead th {\n",
       "        text-align: right;\n",
       "    }\n",
       "</style>\n",
       "<table border=\"1\" class=\"dataframe\">\n",
       "  <thead>\n",
       "    <tr style=\"text-align: right;\">\n",
       "      <th></th>\n",
       "      <th>대기관리권역</th>\n",
       "      <th>시도</th>\n",
       "    </tr>\n",
       "  </thead>\n",
       "  <tbody>\n",
       "    <tr>\n",
       "      <th>0</th>\n",
       "      <td>수도권</td>\n",
       "      <td>서울특별시</td>\n",
       "    </tr>\n",
       "    <tr>\n",
       "      <th>1</th>\n",
       "      <td>수도권</td>\n",
       "      <td>인천광역시</td>\n",
       "    </tr>\n",
       "    <tr>\n",
       "      <th>2</th>\n",
       "      <td>수도권</td>\n",
       "      <td>경기도</td>\n",
       "    </tr>\n",
       "    <tr>\n",
       "      <th>3</th>\n",
       "      <td>수도권</td>\n",
       "      <td>소계</td>\n",
       "    </tr>\n",
       "    <tr>\n",
       "      <th>4</th>\n",
       "      <td>중부권</td>\n",
       "      <td>대전광역시</td>\n",
       "    </tr>\n",
       "    <tr>\n",
       "      <th>5</th>\n",
       "      <td>중부권</td>\n",
       "      <td>세종특별자치시</td>\n",
       "    </tr>\n",
       "    <tr>\n",
       "      <th>6</th>\n",
       "      <td>중부권</td>\n",
       "      <td>충청북도</td>\n",
       "    </tr>\n",
       "    <tr>\n",
       "      <th>7</th>\n",
       "      <td>중부권</td>\n",
       "      <td>충청남도</td>\n",
       "    </tr>\n",
       "    <tr>\n",
       "      <th>8</th>\n",
       "      <td>중부권</td>\n",
       "      <td>전라북도</td>\n",
       "    </tr>\n",
       "    <tr>\n",
       "      <th>9</th>\n",
       "      <td>중부권</td>\n",
       "      <td>소계</td>\n",
       "    </tr>\n",
       "    <tr>\n",
       "      <th>10</th>\n",
       "      <td>남부권</td>\n",
       "      <td>광주광역시</td>\n",
       "    </tr>\n",
       "    <tr>\n",
       "      <th>11</th>\n",
       "      <td>남부권</td>\n",
       "      <td>전라남도</td>\n",
       "    </tr>\n",
       "    <tr>\n",
       "      <th>12</th>\n",
       "      <td>남부권</td>\n",
       "      <td>소계</td>\n",
       "    </tr>\n",
       "    <tr>\n",
       "      <th>13</th>\n",
       "      <td>동남권</td>\n",
       "      <td>부산광역시</td>\n",
       "    </tr>\n",
       "    <tr>\n",
       "      <th>14</th>\n",
       "      <td>동남권</td>\n",
       "      <td>대구광역시</td>\n",
       "    </tr>\n",
       "    <tr>\n",
       "      <th>15</th>\n",
       "      <td>동남권</td>\n",
       "      <td>울산광역시</td>\n",
       "    </tr>\n",
       "    <tr>\n",
       "      <th>16</th>\n",
       "      <td>동남권</td>\n",
       "      <td>경상북도</td>\n",
       "    </tr>\n",
       "    <tr>\n",
       "      <th>17</th>\n",
       "      <td>동남권</td>\n",
       "      <td>경상남도</td>\n",
       "    </tr>\n",
       "    <tr>\n",
       "      <th>18</th>\n",
       "      <td>동남권</td>\n",
       "      <td>소계</td>\n",
       "    </tr>\n",
       "    <tr>\n",
       "      <th>19</th>\n",
       "      <td>그 외</td>\n",
       "      <td>강원특별자치도</td>\n",
       "    </tr>\n",
       "    <tr>\n",
       "      <th>20</th>\n",
       "      <td>그 외</td>\n",
       "      <td>제주특별자치도</td>\n",
       "    </tr>\n",
       "    <tr>\n",
       "      <th>21</th>\n",
       "      <td>그 외</td>\n",
       "      <td>소계</td>\n",
       "    </tr>\n",
       "    <tr>\n",
       "      <th>22</th>\n",
       "      <td>합계</td>\n",
       "      <td>합계</td>\n",
       "    </tr>\n",
       "  </tbody>\n",
       "</table>\n",
       "</div>"
      ],
      "text/plain": [
       "   대기관리권역       시도\n",
       "0     수도권    서울특별시\n",
       "1     수도권    인천광역시\n",
       "2     수도권      경기도\n",
       "3     수도권       소계\n",
       "4     중부권    대전광역시\n",
       "5     중부권  세종특별자치시\n",
       "6     중부권     충청북도\n",
       "7     중부권     충청남도\n",
       "8     중부권     전라북도\n",
       "9     중부권       소계\n",
       "10    남부권    광주광역시\n",
       "11    남부권     전라남도\n",
       "12    남부권       소계\n",
       "13    동남권    부산광역시\n",
       "14    동남권    대구광역시\n",
       "15    동남권    울산광역시\n",
       "16    동남권     경상북도\n",
       "17    동남권     경상남도\n",
       "18    동남권       소계\n",
       "19    그 외  강원특별자치도\n",
       "20    그 외  제주특별자치도\n",
       "21    그 외       소계\n",
       "22     합계       합계"
      ]
     },
     "execution_count": 425,
     "metadata": {},
     "output_type": "execute_result"
    }
   ],
   "source": [
    "idf2 = pd.DataFrame({\n",
    "    '대기관리권역':[\n",
    "        '수도권', '수도권', '수도권', '수도권', \n",
    "        '중부권', '중부권', '중부권', '중부권', '중부권', '중부권', \n",
    "        '남부권', '남부권', '남부권',\n",
    "        '동남권', '동남권', '동남권', '동남권', '동남권', '동남권',\n",
    "        '그 외', '그 외', '그 외',\n",
    "        '합계',\n",
    "        ],\n",
    "    '시도':[\n",
    "        '서울특별시', '인천광역시', '경기도', '소계', \n",
    "        '대전광역시', '세종특별자치시', '충청북도', '충청남도', '전라북도', '소계', \n",
    "        '광주광역시', '전라남도', '소계',\n",
    "        '부산광역시', '대구광역시', '울산광역시', '경상북도', '경상남도', '소계',\n",
    "        '강원특별자치도', '제주특별자치도', '소계',\n",
    "        '합계',\n",
    "        ]\n",
    "                     })\n",
    "idf2"
   ]
  },
  {
   "cell_type": "code",
   "execution_count": 426,
   "metadata": {},
   "outputs": [
    {
     "data": {
      "text/html": [
       "<div>\n",
       "<style scoped>\n",
       "    .dataframe tbody tr th:only-of-type {\n",
       "        vertical-align: middle;\n",
       "    }\n",
       "\n",
       "    .dataframe tbody tr th {\n",
       "        vertical-align: top;\n",
       "    }\n",
       "\n",
       "    .dataframe thead th {\n",
       "        text-align: right;\n",
       "    }\n",
       "</style>\n",
       "<table border=\"1\" class=\"dataframe\">\n",
       "  <thead>\n",
       "    <tr style=\"text-align: right;\">\n",
       "      <th></th>\n",
       "      <th>대기관리권역</th>\n",
       "      <th>시도</th>\n",
       "      <th>전체</th>\n",
       "      <th>전체비율</th>\n",
       "      <th>대기관리권역_내</th>\n",
       "      <th>대기관리권역_내_비율</th>\n",
       "      <th>대기관리권역_외</th>\n",
       "      <th>대기관리권역_외_비율</th>\n",
       "    </tr>\n",
       "  </thead>\n",
       "  <tbody>\n",
       "    <tr>\n",
       "      <th>0</th>\n",
       "      <td>수도권</td>\n",
       "      <td>서울특별시</td>\n",
       "      <td>111270.0</td>\n",
       "      <td>0.11</td>\n",
       "      <td>111270.0</td>\n",
       "      <td>1.00</td>\n",
       "      <td>0.0</td>\n",
       "      <td>0.00</td>\n",
       "    </tr>\n",
       "    <tr>\n",
       "      <th>1</th>\n",
       "      <td>수도권</td>\n",
       "      <td>인천광역시</td>\n",
       "      <td>46750.0</td>\n",
       "      <td>0.05</td>\n",
       "      <td>45499.0</td>\n",
       "      <td>0.97</td>\n",
       "      <td>1251.0</td>\n",
       "      <td>0.03</td>\n",
       "    </tr>\n",
       "    <tr>\n",
       "      <th>2</th>\n",
       "      <td>수도권</td>\n",
       "      <td>경기도</td>\n",
       "      <td>197303.0</td>\n",
       "      <td>0.20</td>\n",
       "      <td>189399.0</td>\n",
       "      <td>0.96</td>\n",
       "      <td>7904.0</td>\n",
       "      <td>0.04</td>\n",
       "    </tr>\n",
       "    <tr>\n",
       "      <th>3</th>\n",
       "      <td>수도권</td>\n",
       "      <td>소계</td>\n",
       "      <td>355323.0</td>\n",
       "      <td>0.36</td>\n",
       "      <td>346168.0</td>\n",
       "      <td>0.97</td>\n",
       "      <td>9155.0</td>\n",
       "      <td>0.03</td>\n",
       "    </tr>\n",
       "    <tr>\n",
       "      <th>4</th>\n",
       "      <td>중부권</td>\n",
       "      <td>대전광역시</td>\n",
       "      <td>21468.0</td>\n",
       "      <td>0.02</td>\n",
       "      <td>21468.0</td>\n",
       "      <td>1.00</td>\n",
       "      <td>0.0</td>\n",
       "      <td>0.00</td>\n",
       "    </tr>\n",
       "    <tr>\n",
       "      <th>5</th>\n",
       "      <td>중부권</td>\n",
       "      <td>세종특별자치시</td>\n",
       "      <td>3566.0</td>\n",
       "      <td>0.00</td>\n",
       "      <td>3566.0</td>\n",
       "      <td>1.00</td>\n",
       "      <td>0.0</td>\n",
       "      <td>0.00</td>\n",
       "    </tr>\n",
       "    <tr>\n",
       "      <th>6</th>\n",
       "      <td>중부권</td>\n",
       "      <td>충청북도</td>\n",
       "      <td>35930.0</td>\n",
       "      <td>0.04</td>\n",
       "      <td>26993.0</td>\n",
       "      <td>0.75</td>\n",
       "      <td>8937.0</td>\n",
       "      <td>0.25</td>\n",
       "    </tr>\n",
       "    <tr>\n",
       "      <th>7</th>\n",
       "      <td>중부권</td>\n",
       "      <td>충청남도</td>\n",
       "      <td>53434.0</td>\n",
       "      <td>0.05</td>\n",
       "      <td>50963.0</td>\n",
       "      <td>0.95</td>\n",
       "      <td>2471.0</td>\n",
       "      <td>0.05</td>\n",
       "    </tr>\n",
       "    <tr>\n",
       "      <th>8</th>\n",
       "      <td>중부권</td>\n",
       "      <td>전라북도</td>\n",
       "      <td>50483.0</td>\n",
       "      <td>0.05</td>\n",
       "      <td>22871.0</td>\n",
       "      <td>0.45</td>\n",
       "      <td>27612.0</td>\n",
       "      <td>0.55</td>\n",
       "    </tr>\n",
       "    <tr>\n",
       "      <th>9</th>\n",
       "      <td>중부권</td>\n",
       "      <td>소계</td>\n",
       "      <td>164881.0</td>\n",
       "      <td>0.17</td>\n",
       "      <td>125861.0</td>\n",
       "      <td>0.76</td>\n",
       "      <td>39020.0</td>\n",
       "      <td>0.24</td>\n",
       "    </tr>\n",
       "    <tr>\n",
       "      <th>10</th>\n",
       "      <td>남부권</td>\n",
       "      <td>광주광역시</td>\n",
       "      <td>21861.0</td>\n",
       "      <td>0.02</td>\n",
       "      <td>21861.0</td>\n",
       "      <td>1.00</td>\n",
       "      <td>0.0</td>\n",
       "      <td>0.00</td>\n",
       "    </tr>\n",
       "    <tr>\n",
       "      <th>11</th>\n",
       "      <td>남부권</td>\n",
       "      <td>전라남도</td>\n",
       "      <td>66059.0</td>\n",
       "      <td>0.07</td>\n",
       "      <td>27852.0</td>\n",
       "      <td>0.42</td>\n",
       "      <td>38207.0</td>\n",
       "      <td>0.58</td>\n",
       "    </tr>\n",
       "    <tr>\n",
       "      <th>12</th>\n",
       "      <td>남부권</td>\n",
       "      <td>소계</td>\n",
       "      <td>87920.0</td>\n",
       "      <td>0.09</td>\n",
       "      <td>49713.0</td>\n",
       "      <td>0.57</td>\n",
       "      <td>38207.0</td>\n",
       "      <td>0.43</td>\n",
       "    </tr>\n",
       "    <tr>\n",
       "      <th>13</th>\n",
       "      <td>동남권</td>\n",
       "      <td>부산광역시</td>\n",
       "      <td>54144.0</td>\n",
       "      <td>0.06</td>\n",
       "      <td>54144.0</td>\n",
       "      <td>1.00</td>\n",
       "      <td>0.0</td>\n",
       "      <td>0.00</td>\n",
       "    </tr>\n",
       "    <tr>\n",
       "      <th>14</th>\n",
       "      <td>동남권</td>\n",
       "      <td>대구광역시</td>\n",
       "      <td>43420.0</td>\n",
       "      <td>0.04</td>\n",
       "      <td>43420.0</td>\n",
       "      <td>1.00</td>\n",
       "      <td>0.0</td>\n",
       "      <td>0.00</td>\n",
       "    </tr>\n",
       "    <tr>\n",
       "      <th>15</th>\n",
       "      <td>동남권</td>\n",
       "      <td>울산광역시</td>\n",
       "      <td>20632.0</td>\n",
       "      <td>0.02</td>\n",
       "      <td>20632.0</td>\n",
       "      <td>1.00</td>\n",
       "      <td>0.0</td>\n",
       "      <td>0.00</td>\n",
       "    </tr>\n",
       "    <tr>\n",
       "      <th>16</th>\n",
       "      <td>동남권</td>\n",
       "      <td>경상북도</td>\n",
       "      <td>100813.0</td>\n",
       "      <td>0.10</td>\n",
       "      <td>46225.0</td>\n",
       "      <td>0.46</td>\n",
       "      <td>54588.0</td>\n",
       "      <td>0.54</td>\n",
       "    </tr>\n",
       "    <tr>\n",
       "      <th>17</th>\n",
       "      <td>동남권</td>\n",
       "      <td>경상남도</td>\n",
       "      <td>87566.0</td>\n",
       "      <td>0.09</td>\n",
       "      <td>50992.0</td>\n",
       "      <td>0.58</td>\n",
       "      <td>36574.0</td>\n",
       "      <td>0.42</td>\n",
       "    </tr>\n",
       "    <tr>\n",
       "      <th>18</th>\n",
       "      <td>동남권</td>\n",
       "      <td>소계</td>\n",
       "      <td>306575.0</td>\n",
       "      <td>0.31</td>\n",
       "      <td>215413.0</td>\n",
       "      <td>0.70</td>\n",
       "      <td>91162.0</td>\n",
       "      <td>0.30</td>\n",
       "    </tr>\n",
       "    <tr>\n",
       "      <th>19</th>\n",
       "      <td>그 외</td>\n",
       "      <td>강원특별자치도</td>\n",
       "      <td>39205.0</td>\n",
       "      <td>0.04</td>\n",
       "      <td>0.0</td>\n",
       "      <td>0.00</td>\n",
       "      <td>39205.0</td>\n",
       "      <td>1.00</td>\n",
       "    </tr>\n",
       "    <tr>\n",
       "      <th>20</th>\n",
       "      <td>그 외</td>\n",
       "      <td>제주특별자치도</td>\n",
       "      <td>20063.0</td>\n",
       "      <td>0.02</td>\n",
       "      <td>0.0</td>\n",
       "      <td>0.00</td>\n",
       "      <td>20063.0</td>\n",
       "      <td>1.00</td>\n",
       "    </tr>\n",
       "    <tr>\n",
       "      <th>21</th>\n",
       "      <td>그 외</td>\n",
       "      <td>소계</td>\n",
       "      <td>59268.0</td>\n",
       "      <td>0.06</td>\n",
       "      <td>0.0</td>\n",
       "      <td>0.00</td>\n",
       "      <td>59268.0</td>\n",
       "      <td>1.00</td>\n",
       "    </tr>\n",
       "    <tr>\n",
       "      <th>22</th>\n",
       "      <td>합계</td>\n",
       "      <td>합계</td>\n",
       "      <td>973967.0</td>\n",
       "      <td>1.00</td>\n",
       "      <td>737155.0</td>\n",
       "      <td>0.76</td>\n",
       "      <td>236812.0</td>\n",
       "      <td>0.24</td>\n",
       "    </tr>\n",
       "  </tbody>\n",
       "</table>\n",
       "</div>"
      ],
      "text/plain": [
       "   대기관리권역       시도        전체  전체비율  대기관리권역_내  대기관리권역_내_비율  대기관리권역_외   \n",
       "0     수도권    서울특별시  111270.0  0.11  111270.0         1.00       0.0  \\\n",
       "1     수도권    인천광역시   46750.0  0.05   45499.0         0.97    1251.0   \n",
       "2     수도권      경기도  197303.0  0.20  189399.0         0.96    7904.0   \n",
       "3     수도권       소계  355323.0  0.36  346168.0         0.97    9155.0   \n",
       "4     중부권    대전광역시   21468.0  0.02   21468.0         1.00       0.0   \n",
       "5     중부권  세종특별자치시    3566.0  0.00    3566.0         1.00       0.0   \n",
       "6     중부권     충청북도   35930.0  0.04   26993.0         0.75    8937.0   \n",
       "7     중부권     충청남도   53434.0  0.05   50963.0         0.95    2471.0   \n",
       "8     중부권     전라북도   50483.0  0.05   22871.0         0.45   27612.0   \n",
       "9     중부권       소계  164881.0  0.17  125861.0         0.76   39020.0   \n",
       "10    남부권    광주광역시   21861.0  0.02   21861.0         1.00       0.0   \n",
       "11    남부권     전라남도   66059.0  0.07   27852.0         0.42   38207.0   \n",
       "12    남부권       소계   87920.0  0.09   49713.0         0.57   38207.0   \n",
       "13    동남권    부산광역시   54144.0  0.06   54144.0         1.00       0.0   \n",
       "14    동남권    대구광역시   43420.0  0.04   43420.0         1.00       0.0   \n",
       "15    동남권    울산광역시   20632.0  0.02   20632.0         1.00       0.0   \n",
       "16    동남권     경상북도  100813.0  0.10   46225.0         0.46   54588.0   \n",
       "17    동남권     경상남도   87566.0  0.09   50992.0         0.58   36574.0   \n",
       "18    동남권       소계  306575.0  0.31  215413.0         0.70   91162.0   \n",
       "19    그 외  강원특별자치도   39205.0  0.04       0.0         0.00   39205.0   \n",
       "20    그 외  제주특별자치도   20063.0  0.02       0.0         0.00   20063.0   \n",
       "21    그 외       소계   59268.0  0.06       0.0         0.00   59268.0   \n",
       "22     합계       합계  973967.0  1.00  737155.0         0.76  236812.0   \n",
       "\n",
       "    대기관리권역_외_비율  \n",
       "0          0.00  \n",
       "1          0.03  \n",
       "2          0.04  \n",
       "3          0.03  \n",
       "4          0.00  \n",
       "5          0.00  \n",
       "6          0.25  \n",
       "7          0.05  \n",
       "8          0.55  \n",
       "9          0.24  \n",
       "10         0.00  \n",
       "11         0.58  \n",
       "12         0.43  \n",
       "13         0.00  \n",
       "14         0.00  \n",
       "15         0.00  \n",
       "16         0.54  \n",
       "17         0.42  \n",
       "18         0.30  \n",
       "19         1.00  \n",
       "20         1.00  \n",
       "21         1.00  \n",
       "22         0.24  "
      ]
     },
     "execution_count": 426,
     "metadata": {},
     "output_type": "execute_result"
    }
   ],
   "source": [
    "base2 = idf2.merge(grp2, on=['대기관리권역', '시도'], how='left')\n",
    "base2"
   ]
  },
  {
   "cell_type": "markdown",
   "metadata": {},
   "source": [
    "## 3\\. 전체 차량 대기관리권역, 시도별, 차량 현황"
   ]
  },
  {
   "cell_type": "code",
   "execution_count": 427,
   "metadata": {},
   "outputs": [
    {
     "data": {
      "text/plain": [
       "(24767342, 17)"
      ]
     },
     "execution_count": 427,
     "metadata": {},
     "output_type": "execute_result"
    }
   ],
   "source": [
    "dfg.shape"
   ]
  },
  {
   "cell_type": "code",
   "execution_count": 428,
   "metadata": {},
   "outputs": [
    {
     "data": {
      "text/plain": [
       "      대기관리권역YN\n",
       "차대번호  N            3814717.0\n",
       "      Y           20952625.0\n",
       "dtype: float64"
      ]
     },
     "execution_count": 428,
     "metadata": {},
     "output_type": "execute_result"
    }
   ],
   "source": [
    "dfg.groupby(['대기관리권역', '대기관리권역YN', '시도']).agg({'차대번호':'count'}).unstack('대기관리권역YN').reset_index().iloc[:, 2:].sum()"
   ]
  },
  {
   "cell_type": "code",
   "execution_count": 429,
   "metadata": {},
   "outputs": [
    {
     "data": {
      "text/html": [
       "<div>\n",
       "<style scoped>\n",
       "    .dataframe tbody tr th:only-of-type {\n",
       "        vertical-align: middle;\n",
       "    }\n",
       "\n",
       "    .dataframe tbody tr th {\n",
       "        vertical-align: top;\n",
       "    }\n",
       "\n",
       "    .dataframe thead th {\n",
       "        text-align: right;\n",
       "    }\n",
       "</style>\n",
       "<table border=\"1\" class=\"dataframe\">\n",
       "  <thead>\n",
       "    <tr style=\"text-align: right;\">\n",
       "      <th></th>\n",
       "      <th>대기관리권역</th>\n",
       "      <th>시도</th>\n",
       "      <th>대기관리권역_내</th>\n",
       "      <th>대기관리권역_외</th>\n",
       "    </tr>\n",
       "  </thead>\n",
       "  <tbody>\n",
       "    <tr>\n",
       "      <th>0</th>\n",
       "      <td>그 외</td>\n",
       "      <td>강원특별자치도</td>\n",
       "      <td>NaN</td>\n",
       "      <td>833127.0</td>\n",
       "    </tr>\n",
       "    <tr>\n",
       "      <th>1</th>\n",
       "      <td>그 외</td>\n",
       "      <td>제주특별자치도</td>\n",
       "      <td>NaN</td>\n",
       "      <td>660359.0</td>\n",
       "    </tr>\n",
       "    <tr>\n",
       "      <th>2</th>\n",
       "      <td>남부권</td>\n",
       "      <td>광주광역시</td>\n",
       "      <td>696673.0</td>\n",
       "      <td>NaN</td>\n",
       "    </tr>\n",
       "    <tr>\n",
       "      <th>3</th>\n",
       "      <td>남부권</td>\n",
       "      <td>전라남도</td>\n",
       "      <td>586804.0</td>\n",
       "      <td>596181.0</td>\n",
       "    </tr>\n",
       "    <tr>\n",
       "      <th>4</th>\n",
       "      <td>동남권</td>\n",
       "      <td>경상남도</td>\n",
       "      <td>1322320.0</td>\n",
       "      <td>529094.0</td>\n",
       "    </tr>\n",
       "    <tr>\n",
       "      <th>5</th>\n",
       "      <td>동남권</td>\n",
       "      <td>경상북도</td>\n",
       "      <td>921329.0</td>\n",
       "      <td>561708.0</td>\n",
       "    </tr>\n",
       "    <tr>\n",
       "      <th>6</th>\n",
       "      <td>동남권</td>\n",
       "      <td>대구광역시</td>\n",
       "      <td>1206483.0</td>\n",
       "      <td>NaN</td>\n",
       "    </tr>\n",
       "    <tr>\n",
       "      <th>7</th>\n",
       "      <td>동남권</td>\n",
       "      <td>부산광역시</td>\n",
       "      <td>1429492.0</td>\n",
       "      <td>NaN</td>\n",
       "    </tr>\n",
       "    <tr>\n",
       "      <th>8</th>\n",
       "      <td>동남권</td>\n",
       "      <td>울산광역시</td>\n",
       "      <td>573980.0</td>\n",
       "      <td>NaN</td>\n",
       "    </tr>\n",
       "    <tr>\n",
       "      <th>9</th>\n",
       "      <td>수도권</td>\n",
       "      <td>경기도</td>\n",
       "      <td>6105741.0</td>\n",
       "      <td>126477.0</td>\n",
       "    </tr>\n",
       "    <tr>\n",
       "      <th>10</th>\n",
       "      <td>수도권</td>\n",
       "      <td>서울특별시</td>\n",
       "      <td>3076727.0</td>\n",
       "      <td>NaN</td>\n",
       "    </tr>\n",
       "    <tr>\n",
       "      <th>11</th>\n",
       "      <td>수도권</td>\n",
       "      <td>인천광역시</td>\n",
       "      <td>1593783.0</td>\n",
       "      <td>13315.0</td>\n",
       "    </tr>\n",
       "    <tr>\n",
       "      <th>12</th>\n",
       "      <td>중부권</td>\n",
       "      <td>대전광역시</td>\n",
       "      <td>693839.0</td>\n",
       "      <td>NaN</td>\n",
       "    </tr>\n",
       "    <tr>\n",
       "      <th>13</th>\n",
       "      <td>중부권</td>\n",
       "      <td>세종특별자치시</td>\n",
       "      <td>190487.0</td>\n",
       "      <td>NaN</td>\n",
       "    </tr>\n",
       "    <tr>\n",
       "      <th>14</th>\n",
       "      <td>중부권</td>\n",
       "      <td>전라북도</td>\n",
       "      <td>615404.0</td>\n",
       "      <td>343611.0</td>\n",
       "    </tr>\n",
       "    <tr>\n",
       "      <th>15</th>\n",
       "      <td>중부권</td>\n",
       "      <td>충청남도</td>\n",
       "      <td>1159398.0</td>\n",
       "      <td>31369.0</td>\n",
       "    </tr>\n",
       "    <tr>\n",
       "      <th>16</th>\n",
       "      <td>중부권</td>\n",
       "      <td>충청북도</td>\n",
       "      <td>780165.0</td>\n",
       "      <td>119476.0</td>\n",
       "    </tr>\n",
       "  </tbody>\n",
       "</table>\n",
       "</div>"
      ],
      "text/plain": [
       "   대기관리권역       시도   대기관리권역_내  대기관리권역_외\n",
       "0     그 외  강원특별자치도        NaN  833127.0\n",
       "1     그 외  제주특별자치도        NaN  660359.0\n",
       "2     남부권    광주광역시   696673.0       NaN\n",
       "3     남부권     전라남도   586804.0  596181.0\n",
       "4     동남권     경상남도  1322320.0  529094.0\n",
       "5     동남권     경상북도   921329.0  561708.0\n",
       "6     동남권    대구광역시  1206483.0       NaN\n",
       "7     동남권    부산광역시  1429492.0       NaN\n",
       "8     동남권    울산광역시   573980.0       NaN\n",
       "9     수도권      경기도  6105741.0  126477.0\n",
       "10    수도권    서울특별시  3076727.0       NaN\n",
       "11    수도권    인천광역시  1593783.0   13315.0\n",
       "12    중부권    대전광역시   693839.0       NaN\n",
       "13    중부권  세종특별자치시   190487.0       NaN\n",
       "14    중부권     전라북도   615404.0  343611.0\n",
       "15    중부권     충청남도  1159398.0   31369.0\n",
       "16    중부권     충청북도   780165.0  119476.0"
      ]
     },
     "execution_count": 429,
     "metadata": {},
     "output_type": "execute_result"
    }
   ],
   "source": [
    "stat3 = dfg.groupby(['대기관리권역', '대기관리권역YN', '시도']).agg({'차대번호':'count'}).unstack('대기관리권역YN').reset_index()\n",
    "stat3.columns = ['대기관리권역', '시도', '대기관리권역_외', '대기관리권역_내']\n",
    "stat3 = stat3[['대기관리권역', '시도', '대기관리권역_내', '대기관리권역_외']]\n",
    "stat3"
   ]
  },
  {
   "cell_type": "code",
   "execution_count": 430,
   "metadata": {},
   "outputs": [],
   "source": [
    "grp3 = pd.DataFrame()\n",
    "percentage = 1\n",
    "in_air_sum = 0\n",
    "out_air_sum = 0\n",
    "total = 0\n",
    "for div in stat3['대기관리권역'].unique():\n",
    "    temp = stat3[stat3['대기관리권역'] == div].reset_index(drop=True)\n",
    "    temp['전체'] = temp.iloc[:, 2:].sum(axis=1)\n",
    "\n",
    "    in_air_div_sum = temp['대기관리권역_내'].sum()\n",
    "    out_air_div_sum = temp['대기관리권역_외'].sum()\n",
    "    div_sum = temp['전체'].sum()\n",
    "    temp.loc[temp.shape[0]] = [div, '소계', in_air_div_sum, out_air_div_sum, div_sum]\n",
    "\n",
    "    in_air_sum += in_air_div_sum\n",
    "    out_air_sum += out_air_div_sum\n",
    "    total += div_sum\n",
    "    temp.iloc[:, 2:] = temp.iloc[:, 2:].fillna(0)\n",
    "    temp['대기관리권역_내_비율'] = temp['대기관리권역_내'] / temp['전체'] * percentage\n",
    "    temp['대기관리권역_외_비율'] = temp['대기관리권역_외'] / temp['전체'] * percentage\n",
    "    grp3 = pd.concat([grp3, temp], ignore_index=True)\n",
    "    \n",
    "grp3.loc[grp3.shape[0]] = ['합계', '합계', in_air_sum, out_air_sum, total, in_air_sum/total * percentage, out_air_sum/total * percentage]\n",
    "grp3['전체비율'] = grp3['전체'] / total * percentage\n",
    "grp3[['대기관리권역_내_비율', '대기관리권역_외_비율', '전체비율']] = grp3[['대기관리권역_내_비율', '대기관리권역_외_비율', '전체비율']].round(2)\n",
    "grp3 = grp3[['대기관리권역', '시도', '전체', '전체비율', '대기관리권역_내', '대기관리권역_내_비율', '대기관리권역_외', '대기관리권역_외_비율']]"
   ]
  },
  {
   "cell_type": "code",
   "execution_count": 431,
   "metadata": {},
   "outputs": [
    {
     "data": {
      "text/plain": [
       "(20952625.0, 3814717.0)"
      ]
     },
     "execution_count": 431,
     "metadata": {},
     "output_type": "execute_result"
    }
   ],
   "source": [
    "in_air_sum, out_air_sum"
   ]
  },
  {
   "cell_type": "code",
   "execution_count": 432,
   "metadata": {},
   "outputs": [
    {
     "data": {
      "text/html": [
       "<div>\n",
       "<style scoped>\n",
       "    .dataframe tbody tr th:only-of-type {\n",
       "        vertical-align: middle;\n",
       "    }\n",
       "\n",
       "    .dataframe tbody tr th {\n",
       "        vertical-align: top;\n",
       "    }\n",
       "\n",
       "    .dataframe thead th {\n",
       "        text-align: right;\n",
       "    }\n",
       "</style>\n",
       "<table border=\"1\" class=\"dataframe\">\n",
       "  <thead>\n",
       "    <tr style=\"text-align: right;\">\n",
       "      <th></th>\n",
       "      <th>대기관리권역</th>\n",
       "      <th>시도</th>\n",
       "      <th>전체</th>\n",
       "      <th>전체비율</th>\n",
       "      <th>대기관리권역_내</th>\n",
       "      <th>대기관리권역_내_비율</th>\n",
       "      <th>대기관리권역_외</th>\n",
       "      <th>대기관리권역_외_비율</th>\n",
       "    </tr>\n",
       "  </thead>\n",
       "  <tbody>\n",
       "    <tr>\n",
       "      <th>0</th>\n",
       "      <td>그 외</td>\n",
       "      <td>강원특별자치도</td>\n",
       "      <td>833127.0</td>\n",
       "      <td>0.03</td>\n",
       "      <td>0.0</td>\n",
       "      <td>0.00</td>\n",
       "      <td>833127.0</td>\n",
       "      <td>1.00</td>\n",
       "    </tr>\n",
       "    <tr>\n",
       "      <th>1</th>\n",
       "      <td>그 외</td>\n",
       "      <td>제주특별자치도</td>\n",
       "      <td>660359.0</td>\n",
       "      <td>0.03</td>\n",
       "      <td>0.0</td>\n",
       "      <td>0.00</td>\n",
       "      <td>660359.0</td>\n",
       "      <td>1.00</td>\n",
       "    </tr>\n",
       "    <tr>\n",
       "      <th>2</th>\n",
       "      <td>그 외</td>\n",
       "      <td>소계</td>\n",
       "      <td>1493486.0</td>\n",
       "      <td>0.06</td>\n",
       "      <td>0.0</td>\n",
       "      <td>0.00</td>\n",
       "      <td>1493486.0</td>\n",
       "      <td>1.00</td>\n",
       "    </tr>\n",
       "    <tr>\n",
       "      <th>3</th>\n",
       "      <td>남부권</td>\n",
       "      <td>광주광역시</td>\n",
       "      <td>696673.0</td>\n",
       "      <td>0.03</td>\n",
       "      <td>696673.0</td>\n",
       "      <td>1.00</td>\n",
       "      <td>0.0</td>\n",
       "      <td>0.00</td>\n",
       "    </tr>\n",
       "    <tr>\n",
       "      <th>4</th>\n",
       "      <td>남부권</td>\n",
       "      <td>전라남도</td>\n",
       "      <td>1182985.0</td>\n",
       "      <td>0.05</td>\n",
       "      <td>586804.0</td>\n",
       "      <td>0.50</td>\n",
       "      <td>596181.0</td>\n",
       "      <td>0.50</td>\n",
       "    </tr>\n",
       "    <tr>\n",
       "      <th>5</th>\n",
       "      <td>남부권</td>\n",
       "      <td>소계</td>\n",
       "      <td>1879658.0</td>\n",
       "      <td>0.08</td>\n",
       "      <td>1283477.0</td>\n",
       "      <td>0.68</td>\n",
       "      <td>596181.0</td>\n",
       "      <td>0.32</td>\n",
       "    </tr>\n",
       "    <tr>\n",
       "      <th>6</th>\n",
       "      <td>동남권</td>\n",
       "      <td>경상남도</td>\n",
       "      <td>1851414.0</td>\n",
       "      <td>0.07</td>\n",
       "      <td>1322320.0</td>\n",
       "      <td>0.71</td>\n",
       "      <td>529094.0</td>\n",
       "      <td>0.29</td>\n",
       "    </tr>\n",
       "    <tr>\n",
       "      <th>7</th>\n",
       "      <td>동남권</td>\n",
       "      <td>경상북도</td>\n",
       "      <td>1483037.0</td>\n",
       "      <td>0.06</td>\n",
       "      <td>921329.0</td>\n",
       "      <td>0.62</td>\n",
       "      <td>561708.0</td>\n",
       "      <td>0.38</td>\n",
       "    </tr>\n",
       "    <tr>\n",
       "      <th>8</th>\n",
       "      <td>동남권</td>\n",
       "      <td>대구광역시</td>\n",
       "      <td>1206483.0</td>\n",
       "      <td>0.05</td>\n",
       "      <td>1206483.0</td>\n",
       "      <td>1.00</td>\n",
       "      <td>0.0</td>\n",
       "      <td>0.00</td>\n",
       "    </tr>\n",
       "    <tr>\n",
       "      <th>9</th>\n",
       "      <td>동남권</td>\n",
       "      <td>부산광역시</td>\n",
       "      <td>1429492.0</td>\n",
       "      <td>0.06</td>\n",
       "      <td>1429492.0</td>\n",
       "      <td>1.00</td>\n",
       "      <td>0.0</td>\n",
       "      <td>0.00</td>\n",
       "    </tr>\n",
       "    <tr>\n",
       "      <th>10</th>\n",
       "      <td>동남권</td>\n",
       "      <td>울산광역시</td>\n",
       "      <td>573980.0</td>\n",
       "      <td>0.02</td>\n",
       "      <td>573980.0</td>\n",
       "      <td>1.00</td>\n",
       "      <td>0.0</td>\n",
       "      <td>0.00</td>\n",
       "    </tr>\n",
       "    <tr>\n",
       "      <th>11</th>\n",
       "      <td>동남권</td>\n",
       "      <td>소계</td>\n",
       "      <td>6544406.0</td>\n",
       "      <td>0.26</td>\n",
       "      <td>5453604.0</td>\n",
       "      <td>0.83</td>\n",
       "      <td>1090802.0</td>\n",
       "      <td>0.17</td>\n",
       "    </tr>\n",
       "    <tr>\n",
       "      <th>12</th>\n",
       "      <td>수도권</td>\n",
       "      <td>경기도</td>\n",
       "      <td>6232218.0</td>\n",
       "      <td>0.25</td>\n",
       "      <td>6105741.0</td>\n",
       "      <td>0.98</td>\n",
       "      <td>126477.0</td>\n",
       "      <td>0.02</td>\n",
       "    </tr>\n",
       "    <tr>\n",
       "      <th>13</th>\n",
       "      <td>수도권</td>\n",
       "      <td>서울특별시</td>\n",
       "      <td>3076727.0</td>\n",
       "      <td>0.12</td>\n",
       "      <td>3076727.0</td>\n",
       "      <td>1.00</td>\n",
       "      <td>0.0</td>\n",
       "      <td>0.00</td>\n",
       "    </tr>\n",
       "    <tr>\n",
       "      <th>14</th>\n",
       "      <td>수도권</td>\n",
       "      <td>인천광역시</td>\n",
       "      <td>1607098.0</td>\n",
       "      <td>0.06</td>\n",
       "      <td>1593783.0</td>\n",
       "      <td>0.99</td>\n",
       "      <td>13315.0</td>\n",
       "      <td>0.01</td>\n",
       "    </tr>\n",
       "    <tr>\n",
       "      <th>15</th>\n",
       "      <td>수도권</td>\n",
       "      <td>소계</td>\n",
       "      <td>10916043.0</td>\n",
       "      <td>0.44</td>\n",
       "      <td>10776251.0</td>\n",
       "      <td>0.99</td>\n",
       "      <td>139792.0</td>\n",
       "      <td>0.01</td>\n",
       "    </tr>\n",
       "    <tr>\n",
       "      <th>16</th>\n",
       "      <td>중부권</td>\n",
       "      <td>대전광역시</td>\n",
       "      <td>693839.0</td>\n",
       "      <td>0.03</td>\n",
       "      <td>693839.0</td>\n",
       "      <td>1.00</td>\n",
       "      <td>0.0</td>\n",
       "      <td>0.00</td>\n",
       "    </tr>\n",
       "    <tr>\n",
       "      <th>17</th>\n",
       "      <td>중부권</td>\n",
       "      <td>세종특별자치시</td>\n",
       "      <td>190487.0</td>\n",
       "      <td>0.01</td>\n",
       "      <td>190487.0</td>\n",
       "      <td>1.00</td>\n",
       "      <td>0.0</td>\n",
       "      <td>0.00</td>\n",
       "    </tr>\n",
       "    <tr>\n",
       "      <th>18</th>\n",
       "      <td>중부권</td>\n",
       "      <td>전라북도</td>\n",
       "      <td>959015.0</td>\n",
       "      <td>0.04</td>\n",
       "      <td>615404.0</td>\n",
       "      <td>0.64</td>\n",
       "      <td>343611.0</td>\n",
       "      <td>0.36</td>\n",
       "    </tr>\n",
       "    <tr>\n",
       "      <th>19</th>\n",
       "      <td>중부권</td>\n",
       "      <td>충청남도</td>\n",
       "      <td>1190767.0</td>\n",
       "      <td>0.05</td>\n",
       "      <td>1159398.0</td>\n",
       "      <td>0.97</td>\n",
       "      <td>31369.0</td>\n",
       "      <td>0.03</td>\n",
       "    </tr>\n",
       "    <tr>\n",
       "      <th>20</th>\n",
       "      <td>중부권</td>\n",
       "      <td>충청북도</td>\n",
       "      <td>899641.0</td>\n",
       "      <td>0.04</td>\n",
       "      <td>780165.0</td>\n",
       "      <td>0.87</td>\n",
       "      <td>119476.0</td>\n",
       "      <td>0.13</td>\n",
       "    </tr>\n",
       "    <tr>\n",
       "      <th>21</th>\n",
       "      <td>중부권</td>\n",
       "      <td>소계</td>\n",
       "      <td>3933749.0</td>\n",
       "      <td>0.16</td>\n",
       "      <td>3439293.0</td>\n",
       "      <td>0.87</td>\n",
       "      <td>494456.0</td>\n",
       "      <td>0.13</td>\n",
       "    </tr>\n",
       "    <tr>\n",
       "      <th>22</th>\n",
       "      <td>합계</td>\n",
       "      <td>합계</td>\n",
       "      <td>24767342.0</td>\n",
       "      <td>1.00</td>\n",
       "      <td>20952625.0</td>\n",
       "      <td>0.85</td>\n",
       "      <td>3814717.0</td>\n",
       "      <td>0.15</td>\n",
       "    </tr>\n",
       "  </tbody>\n",
       "</table>\n",
       "</div>"
      ],
      "text/plain": [
       "   대기관리권역       시도          전체  전체비율    대기관리권역_내  대기관리권역_내_비율   대기관리권역_외   \n",
       "0     그 외  강원특별자치도    833127.0  0.03         0.0         0.00   833127.0  \\\n",
       "1     그 외  제주특별자치도    660359.0  0.03         0.0         0.00   660359.0   \n",
       "2     그 외       소계   1493486.0  0.06         0.0         0.00  1493486.0   \n",
       "3     남부권    광주광역시    696673.0  0.03    696673.0         1.00        0.0   \n",
       "4     남부권     전라남도   1182985.0  0.05    586804.0         0.50   596181.0   \n",
       "5     남부권       소계   1879658.0  0.08   1283477.0         0.68   596181.0   \n",
       "6     동남권     경상남도   1851414.0  0.07   1322320.0         0.71   529094.0   \n",
       "7     동남권     경상북도   1483037.0  0.06    921329.0         0.62   561708.0   \n",
       "8     동남권    대구광역시   1206483.0  0.05   1206483.0         1.00        0.0   \n",
       "9     동남권    부산광역시   1429492.0  0.06   1429492.0         1.00        0.0   \n",
       "10    동남권    울산광역시    573980.0  0.02    573980.0         1.00        0.0   \n",
       "11    동남권       소계   6544406.0  0.26   5453604.0         0.83  1090802.0   \n",
       "12    수도권      경기도   6232218.0  0.25   6105741.0         0.98   126477.0   \n",
       "13    수도권    서울특별시   3076727.0  0.12   3076727.0         1.00        0.0   \n",
       "14    수도권    인천광역시   1607098.0  0.06   1593783.0         0.99    13315.0   \n",
       "15    수도권       소계  10916043.0  0.44  10776251.0         0.99   139792.0   \n",
       "16    중부권    대전광역시    693839.0  0.03    693839.0         1.00        0.0   \n",
       "17    중부권  세종특별자치시    190487.0  0.01    190487.0         1.00        0.0   \n",
       "18    중부권     전라북도    959015.0  0.04    615404.0         0.64   343611.0   \n",
       "19    중부권     충청남도   1190767.0  0.05   1159398.0         0.97    31369.0   \n",
       "20    중부권     충청북도    899641.0  0.04    780165.0         0.87   119476.0   \n",
       "21    중부권       소계   3933749.0  0.16   3439293.0         0.87   494456.0   \n",
       "22     합계       합계  24767342.0  1.00  20952625.0         0.85  3814717.0   \n",
       "\n",
       "    대기관리권역_외_비율  \n",
       "0          1.00  \n",
       "1          1.00  \n",
       "2          1.00  \n",
       "3          0.00  \n",
       "4          0.50  \n",
       "5          0.32  \n",
       "6          0.29  \n",
       "7          0.38  \n",
       "8          0.00  \n",
       "9          0.00  \n",
       "10         0.00  \n",
       "11         0.17  \n",
       "12         0.02  \n",
       "13         0.00  \n",
       "14         0.01  \n",
       "15         0.01  \n",
       "16         0.00  \n",
       "17         0.00  \n",
       "18         0.36  \n",
       "19         0.03  \n",
       "20         0.13  \n",
       "21         0.13  \n",
       "22         0.15  "
      ]
     },
     "execution_count": 432,
     "metadata": {},
     "output_type": "execute_result"
    }
   ],
   "source": [
    "grp3"
   ]
  },
  {
   "cell_type": "code",
   "execution_count": 433,
   "metadata": {},
   "outputs": [
    {
     "data": {
      "text/html": [
       "<div>\n",
       "<style scoped>\n",
       "    .dataframe tbody tr th:only-of-type {\n",
       "        vertical-align: middle;\n",
       "    }\n",
       "\n",
       "    .dataframe tbody tr th {\n",
       "        vertical-align: top;\n",
       "    }\n",
       "\n",
       "    .dataframe thead th {\n",
       "        text-align: right;\n",
       "    }\n",
       "</style>\n",
       "<table border=\"1\" class=\"dataframe\">\n",
       "  <thead>\n",
       "    <tr style=\"text-align: right;\">\n",
       "      <th></th>\n",
       "      <th>대기관리권역</th>\n",
       "      <th>시도</th>\n",
       "      <th>전체</th>\n",
       "      <th>전체비율</th>\n",
       "      <th>대기관리권역_내</th>\n",
       "      <th>대기관리권역_내_비율</th>\n",
       "      <th>대기관리권역_외</th>\n",
       "      <th>대기관리권역_외_비율</th>\n",
       "    </tr>\n",
       "  </thead>\n",
       "  <tbody>\n",
       "    <tr>\n",
       "      <th>0</th>\n",
       "      <td>수도권</td>\n",
       "      <td>서울특별시</td>\n",
       "      <td>3076727.0</td>\n",
       "      <td>0.12</td>\n",
       "      <td>3076727.0</td>\n",
       "      <td>1.00</td>\n",
       "      <td>0.0</td>\n",
       "      <td>0.00</td>\n",
       "    </tr>\n",
       "    <tr>\n",
       "      <th>1</th>\n",
       "      <td>수도권</td>\n",
       "      <td>인천광역시</td>\n",
       "      <td>1607098.0</td>\n",
       "      <td>0.06</td>\n",
       "      <td>1593783.0</td>\n",
       "      <td>0.99</td>\n",
       "      <td>13315.0</td>\n",
       "      <td>0.01</td>\n",
       "    </tr>\n",
       "    <tr>\n",
       "      <th>2</th>\n",
       "      <td>수도권</td>\n",
       "      <td>경기도</td>\n",
       "      <td>6232218.0</td>\n",
       "      <td>0.25</td>\n",
       "      <td>6105741.0</td>\n",
       "      <td>0.98</td>\n",
       "      <td>126477.0</td>\n",
       "      <td>0.02</td>\n",
       "    </tr>\n",
       "    <tr>\n",
       "      <th>3</th>\n",
       "      <td>수도권</td>\n",
       "      <td>소계</td>\n",
       "      <td>10916043.0</td>\n",
       "      <td>0.44</td>\n",
       "      <td>10776251.0</td>\n",
       "      <td>0.99</td>\n",
       "      <td>139792.0</td>\n",
       "      <td>0.01</td>\n",
       "    </tr>\n",
       "    <tr>\n",
       "      <th>4</th>\n",
       "      <td>중부권</td>\n",
       "      <td>대전광역시</td>\n",
       "      <td>693839.0</td>\n",
       "      <td>0.03</td>\n",
       "      <td>693839.0</td>\n",
       "      <td>1.00</td>\n",
       "      <td>0.0</td>\n",
       "      <td>0.00</td>\n",
       "    </tr>\n",
       "    <tr>\n",
       "      <th>5</th>\n",
       "      <td>중부권</td>\n",
       "      <td>세종특별자치시</td>\n",
       "      <td>190487.0</td>\n",
       "      <td>0.01</td>\n",
       "      <td>190487.0</td>\n",
       "      <td>1.00</td>\n",
       "      <td>0.0</td>\n",
       "      <td>0.00</td>\n",
       "    </tr>\n",
       "    <tr>\n",
       "      <th>6</th>\n",
       "      <td>중부권</td>\n",
       "      <td>충청북도</td>\n",
       "      <td>899641.0</td>\n",
       "      <td>0.04</td>\n",
       "      <td>780165.0</td>\n",
       "      <td>0.87</td>\n",
       "      <td>119476.0</td>\n",
       "      <td>0.13</td>\n",
       "    </tr>\n",
       "    <tr>\n",
       "      <th>7</th>\n",
       "      <td>중부권</td>\n",
       "      <td>충청남도</td>\n",
       "      <td>1190767.0</td>\n",
       "      <td>0.05</td>\n",
       "      <td>1159398.0</td>\n",
       "      <td>0.97</td>\n",
       "      <td>31369.0</td>\n",
       "      <td>0.03</td>\n",
       "    </tr>\n",
       "    <tr>\n",
       "      <th>8</th>\n",
       "      <td>중부권</td>\n",
       "      <td>전라북도</td>\n",
       "      <td>959015.0</td>\n",
       "      <td>0.04</td>\n",
       "      <td>615404.0</td>\n",
       "      <td>0.64</td>\n",
       "      <td>343611.0</td>\n",
       "      <td>0.36</td>\n",
       "    </tr>\n",
       "    <tr>\n",
       "      <th>9</th>\n",
       "      <td>중부권</td>\n",
       "      <td>소계</td>\n",
       "      <td>3933749.0</td>\n",
       "      <td>0.16</td>\n",
       "      <td>3439293.0</td>\n",
       "      <td>0.87</td>\n",
       "      <td>494456.0</td>\n",
       "      <td>0.13</td>\n",
       "    </tr>\n",
       "    <tr>\n",
       "      <th>10</th>\n",
       "      <td>남부권</td>\n",
       "      <td>광주광역시</td>\n",
       "      <td>696673.0</td>\n",
       "      <td>0.03</td>\n",
       "      <td>696673.0</td>\n",
       "      <td>1.00</td>\n",
       "      <td>0.0</td>\n",
       "      <td>0.00</td>\n",
       "    </tr>\n",
       "    <tr>\n",
       "      <th>11</th>\n",
       "      <td>남부권</td>\n",
       "      <td>전라남도</td>\n",
       "      <td>1182985.0</td>\n",
       "      <td>0.05</td>\n",
       "      <td>586804.0</td>\n",
       "      <td>0.50</td>\n",
       "      <td>596181.0</td>\n",
       "      <td>0.50</td>\n",
       "    </tr>\n",
       "    <tr>\n",
       "      <th>12</th>\n",
       "      <td>남부권</td>\n",
       "      <td>소계</td>\n",
       "      <td>1879658.0</td>\n",
       "      <td>0.08</td>\n",
       "      <td>1283477.0</td>\n",
       "      <td>0.68</td>\n",
       "      <td>596181.0</td>\n",
       "      <td>0.32</td>\n",
       "    </tr>\n",
       "    <tr>\n",
       "      <th>13</th>\n",
       "      <td>동남권</td>\n",
       "      <td>부산광역시</td>\n",
       "      <td>1429492.0</td>\n",
       "      <td>0.06</td>\n",
       "      <td>1429492.0</td>\n",
       "      <td>1.00</td>\n",
       "      <td>0.0</td>\n",
       "      <td>0.00</td>\n",
       "    </tr>\n",
       "    <tr>\n",
       "      <th>14</th>\n",
       "      <td>동남권</td>\n",
       "      <td>대구광역시</td>\n",
       "      <td>1206483.0</td>\n",
       "      <td>0.05</td>\n",
       "      <td>1206483.0</td>\n",
       "      <td>1.00</td>\n",
       "      <td>0.0</td>\n",
       "      <td>0.00</td>\n",
       "    </tr>\n",
       "    <tr>\n",
       "      <th>15</th>\n",
       "      <td>동남권</td>\n",
       "      <td>울산광역시</td>\n",
       "      <td>573980.0</td>\n",
       "      <td>0.02</td>\n",
       "      <td>573980.0</td>\n",
       "      <td>1.00</td>\n",
       "      <td>0.0</td>\n",
       "      <td>0.00</td>\n",
       "    </tr>\n",
       "    <tr>\n",
       "      <th>16</th>\n",
       "      <td>동남권</td>\n",
       "      <td>경상북도</td>\n",
       "      <td>1483037.0</td>\n",
       "      <td>0.06</td>\n",
       "      <td>921329.0</td>\n",
       "      <td>0.62</td>\n",
       "      <td>561708.0</td>\n",
       "      <td>0.38</td>\n",
       "    </tr>\n",
       "    <tr>\n",
       "      <th>17</th>\n",
       "      <td>동남권</td>\n",
       "      <td>경상남도</td>\n",
       "      <td>1851414.0</td>\n",
       "      <td>0.07</td>\n",
       "      <td>1322320.0</td>\n",
       "      <td>0.71</td>\n",
       "      <td>529094.0</td>\n",
       "      <td>0.29</td>\n",
       "    </tr>\n",
       "    <tr>\n",
       "      <th>18</th>\n",
       "      <td>동남권</td>\n",
       "      <td>소계</td>\n",
       "      <td>6544406.0</td>\n",
       "      <td>0.26</td>\n",
       "      <td>5453604.0</td>\n",
       "      <td>0.83</td>\n",
       "      <td>1090802.0</td>\n",
       "      <td>0.17</td>\n",
       "    </tr>\n",
       "    <tr>\n",
       "      <th>19</th>\n",
       "      <td>그 외</td>\n",
       "      <td>강원특별자치도</td>\n",
       "      <td>833127.0</td>\n",
       "      <td>0.03</td>\n",
       "      <td>0.0</td>\n",
       "      <td>0.00</td>\n",
       "      <td>833127.0</td>\n",
       "      <td>1.00</td>\n",
       "    </tr>\n",
       "    <tr>\n",
       "      <th>20</th>\n",
       "      <td>그 외</td>\n",
       "      <td>제주특별자치도</td>\n",
       "      <td>660359.0</td>\n",
       "      <td>0.03</td>\n",
       "      <td>0.0</td>\n",
       "      <td>0.00</td>\n",
       "      <td>660359.0</td>\n",
       "      <td>1.00</td>\n",
       "    </tr>\n",
       "    <tr>\n",
       "      <th>21</th>\n",
       "      <td>그 외</td>\n",
       "      <td>소계</td>\n",
       "      <td>1493486.0</td>\n",
       "      <td>0.06</td>\n",
       "      <td>0.0</td>\n",
       "      <td>0.00</td>\n",
       "      <td>1493486.0</td>\n",
       "      <td>1.00</td>\n",
       "    </tr>\n",
       "    <tr>\n",
       "      <th>22</th>\n",
       "      <td>합계</td>\n",
       "      <td>합계</td>\n",
       "      <td>24767342.0</td>\n",
       "      <td>1.00</td>\n",
       "      <td>20952625.0</td>\n",
       "      <td>0.85</td>\n",
       "      <td>3814717.0</td>\n",
       "      <td>0.15</td>\n",
       "    </tr>\n",
       "  </tbody>\n",
       "</table>\n",
       "</div>"
      ],
      "text/plain": [
       "   대기관리권역       시도          전체  전체비율    대기관리권역_내  대기관리권역_내_비율   대기관리권역_외   \n",
       "0     수도권    서울특별시   3076727.0  0.12   3076727.0         1.00        0.0  \\\n",
       "1     수도권    인천광역시   1607098.0  0.06   1593783.0         0.99    13315.0   \n",
       "2     수도권      경기도   6232218.0  0.25   6105741.0         0.98   126477.0   \n",
       "3     수도권       소계  10916043.0  0.44  10776251.0         0.99   139792.0   \n",
       "4     중부권    대전광역시    693839.0  0.03    693839.0         1.00        0.0   \n",
       "5     중부권  세종특별자치시    190487.0  0.01    190487.0         1.00        0.0   \n",
       "6     중부권     충청북도    899641.0  0.04    780165.0         0.87   119476.0   \n",
       "7     중부권     충청남도   1190767.0  0.05   1159398.0         0.97    31369.0   \n",
       "8     중부권     전라북도    959015.0  0.04    615404.0         0.64   343611.0   \n",
       "9     중부권       소계   3933749.0  0.16   3439293.0         0.87   494456.0   \n",
       "10    남부권    광주광역시    696673.0  0.03    696673.0         1.00        0.0   \n",
       "11    남부권     전라남도   1182985.0  0.05    586804.0         0.50   596181.0   \n",
       "12    남부권       소계   1879658.0  0.08   1283477.0         0.68   596181.0   \n",
       "13    동남권    부산광역시   1429492.0  0.06   1429492.0         1.00        0.0   \n",
       "14    동남권    대구광역시   1206483.0  0.05   1206483.0         1.00        0.0   \n",
       "15    동남권    울산광역시    573980.0  0.02    573980.0         1.00        0.0   \n",
       "16    동남권     경상북도   1483037.0  0.06    921329.0         0.62   561708.0   \n",
       "17    동남권     경상남도   1851414.0  0.07   1322320.0         0.71   529094.0   \n",
       "18    동남권       소계   6544406.0  0.26   5453604.0         0.83  1090802.0   \n",
       "19    그 외  강원특별자치도    833127.0  0.03         0.0         0.00   833127.0   \n",
       "20    그 외  제주특별자치도    660359.0  0.03         0.0         0.00   660359.0   \n",
       "21    그 외       소계   1493486.0  0.06         0.0         0.00  1493486.0   \n",
       "22     합계       합계  24767342.0  1.00  20952625.0         0.85  3814717.0   \n",
       "\n",
       "    대기관리권역_외_비율  \n",
       "0          0.00  \n",
       "1          0.01  \n",
       "2          0.02  \n",
       "3          0.01  \n",
       "4          0.00  \n",
       "5          0.00  \n",
       "6          0.13  \n",
       "7          0.03  \n",
       "8          0.36  \n",
       "9          0.13  \n",
       "10         0.00  \n",
       "11         0.50  \n",
       "12         0.32  \n",
       "13         0.00  \n",
       "14         0.00  \n",
       "15         0.00  \n",
       "16         0.38  \n",
       "17         0.29  \n",
       "18         0.17  \n",
       "19         1.00  \n",
       "20         1.00  \n",
       "21         1.00  \n",
       "22         0.15  "
      ]
     },
     "execution_count": 433,
     "metadata": {},
     "output_type": "execute_result"
    }
   ],
   "source": [
    "base3 = idf2.merge(grp3, on=['대기관리권역', '시도'], how='left')\n",
    "base3"
   ]
  },
  {
   "cell_type": "markdown",
   "metadata": {},
   "source": [
    "## 4\\. 무공해차 대기관리권역, 시도별 현황"
   ]
  },
  {
   "cell_type": "code",
   "execution_count": 434,
   "metadata": {},
   "outputs": [
    {
     "data": {
      "text/plain": [
       "array(['경유', '휘발유', '휘발유 하이브리드', '전기', 'LPG', '수소', '경유 하이브리드', 'CNG',\n",
       "       '기타연료', 'LPG 하이브리드', 'CNG 하이브리드', 'LNG', '알코올'], dtype=object)"
      ]
     },
     "execution_count": 434,
     "metadata": {},
     "output_type": "execute_result"
    }
   ],
   "source": [
    "dfg['연료'].unique()"
   ]
  },
  {
   "cell_type": "code",
   "execution_count": 435,
   "metadata": {},
   "outputs": [
    {
     "data": {
      "text/plain": [
       "(24767342, 17)"
      ]
     },
     "execution_count": 435,
     "metadata": {},
     "output_type": "execute_result"
    }
   ],
   "source": [
    "dfg.shape"
   ]
  },
  {
   "cell_type": "code",
   "execution_count": 436,
   "metadata": {},
   "outputs": [
    {
     "data": {
      "text/plain": [
       "(511706, 17)"
      ]
     },
     "execution_count": 436,
     "metadata": {},
     "output_type": "execute_result"
    }
   ],
   "source": [
    "zev = dfg[(dfg['연료'] == '전기') | (dfg['연료'] == '수소')].reset_index(drop=True)\n",
    "zev.shape"
   ]
  },
  {
   "cell_type": "code",
   "execution_count": 437,
   "metadata": {},
   "outputs": [
    {
     "data": {
      "text/plain": [
       "      대기관리권역YN\n",
       "차대번호  N            98280.0\n",
       "      Y           413426.0\n",
       "dtype: float64"
      ]
     },
     "execution_count": 437,
     "metadata": {},
     "output_type": "execute_result"
    }
   ],
   "source": [
    "zev.groupby(['대기관리권역', '대기관리권역YN', '시도']).agg({'차대번호':'count'}).unstack('대기관리권역YN').reset_index().iloc[:, 2:].sum()"
   ]
  },
  {
   "cell_type": "code",
   "execution_count": 438,
   "metadata": {},
   "outputs": [
    {
     "data": {
      "text/html": [
       "<div>\n",
       "<style scoped>\n",
       "    .dataframe tbody tr th:only-of-type {\n",
       "        vertical-align: middle;\n",
       "    }\n",
       "\n",
       "    .dataframe tbody tr th {\n",
       "        vertical-align: top;\n",
       "    }\n",
       "\n",
       "    .dataframe thead th {\n",
       "        text-align: right;\n",
       "    }\n",
       "</style>\n",
       "<table border=\"1\" class=\"dataframe\">\n",
       "  <thead>\n",
       "    <tr style=\"text-align: right;\">\n",
       "      <th></th>\n",
       "      <th>대기관리권역</th>\n",
       "      <th>시도</th>\n",
       "      <th>대기관리권역_내</th>\n",
       "      <th>대기관리권역_외</th>\n",
       "    </tr>\n",
       "  </thead>\n",
       "  <tbody>\n",
       "    <tr>\n",
       "      <th>0</th>\n",
       "      <td>그 외</td>\n",
       "      <td>강원특별자치도</td>\n",
       "      <td>NaN</td>\n",
       "      <td>19116.0</td>\n",
       "    </tr>\n",
       "    <tr>\n",
       "      <th>1</th>\n",
       "      <td>그 외</td>\n",
       "      <td>제주특별자치도</td>\n",
       "      <td>NaN</td>\n",
       "      <td>36929.0</td>\n",
       "    </tr>\n",
       "    <tr>\n",
       "      <th>2</th>\n",
       "      <td>남부권</td>\n",
       "      <td>광주광역시</td>\n",
       "      <td>12071.0</td>\n",
       "      <td>NaN</td>\n",
       "    </tr>\n",
       "    <tr>\n",
       "      <th>3</th>\n",
       "      <td>남부권</td>\n",
       "      <td>전라남도</td>\n",
       "      <td>11680.0</td>\n",
       "      <td>10635.0</td>\n",
       "    </tr>\n",
       "    <tr>\n",
       "      <th>4</th>\n",
       "      <td>동남권</td>\n",
       "      <td>경상남도</td>\n",
       "      <td>25175.0</td>\n",
       "      <td>8379.0</td>\n",
       "    </tr>\n",
       "    <tr>\n",
       "      <th>5</th>\n",
       "      <td>동남권</td>\n",
       "      <td>경상북도</td>\n",
       "      <td>14453.0</td>\n",
       "      <td>10256.0</td>\n",
       "    </tr>\n",
       "    <tr>\n",
       "      <th>6</th>\n",
       "      <td>동남권</td>\n",
       "      <td>대구광역시</td>\n",
       "      <td>28501.0</td>\n",
       "      <td>NaN</td>\n",
       "    </tr>\n",
       "    <tr>\n",
       "      <th>7</th>\n",
       "      <td>동남권</td>\n",
       "      <td>부산광역시</td>\n",
       "      <td>31045.0</td>\n",
       "      <td>NaN</td>\n",
       "    </tr>\n",
       "    <tr>\n",
       "      <th>8</th>\n",
       "      <td>동남권</td>\n",
       "      <td>울산광역시</td>\n",
       "      <td>9574.0</td>\n",
       "      <td>NaN</td>\n",
       "    </tr>\n",
       "    <tr>\n",
       "      <th>9</th>\n",
       "      <td>수도권</td>\n",
       "      <td>경기도</td>\n",
       "      <td>102424.0</td>\n",
       "      <td>2479.0</td>\n",
       "    </tr>\n",
       "    <tr>\n",
       "      <th>10</th>\n",
       "      <td>수도권</td>\n",
       "      <td>서울특별시</td>\n",
       "      <td>69657.0</td>\n",
       "      <td>NaN</td>\n",
       "    </tr>\n",
       "    <tr>\n",
       "      <th>11</th>\n",
       "      <td>수도권</td>\n",
       "      <td>인천광역시</td>\n",
       "      <td>34926.0</td>\n",
       "      <td>161.0</td>\n",
       "    </tr>\n",
       "    <tr>\n",
       "      <th>12</th>\n",
       "      <td>중부권</td>\n",
       "      <td>대전광역시</td>\n",
       "      <td>17638.0</td>\n",
       "      <td>NaN</td>\n",
       "    </tr>\n",
       "    <tr>\n",
       "      <th>13</th>\n",
       "      <td>중부권</td>\n",
       "      <td>세종특별자치시</td>\n",
       "      <td>4161.0</td>\n",
       "      <td>NaN</td>\n",
       "    </tr>\n",
       "    <tr>\n",
       "      <th>14</th>\n",
       "      <td>중부권</td>\n",
       "      <td>전라북도</td>\n",
       "      <td>12357.0</td>\n",
       "      <td>7117.0</td>\n",
       "    </tr>\n",
       "    <tr>\n",
       "      <th>15</th>\n",
       "      <td>중부권</td>\n",
       "      <td>충청남도</td>\n",
       "      <td>22280.0</td>\n",
       "      <td>590.0</td>\n",
       "    </tr>\n",
       "    <tr>\n",
       "      <th>16</th>\n",
       "      <td>중부권</td>\n",
       "      <td>충청북도</td>\n",
       "      <td>17484.0</td>\n",
       "      <td>2618.0</td>\n",
       "    </tr>\n",
       "  </tbody>\n",
       "</table>\n",
       "</div>"
      ],
      "text/plain": [
       "   대기관리권역       시도  대기관리권역_내  대기관리권역_외\n",
       "0     그 외  강원특별자치도       NaN   19116.0\n",
       "1     그 외  제주특별자치도       NaN   36929.0\n",
       "2     남부권    광주광역시   12071.0       NaN\n",
       "3     남부권     전라남도   11680.0   10635.0\n",
       "4     동남권     경상남도   25175.0    8379.0\n",
       "5     동남권     경상북도   14453.0   10256.0\n",
       "6     동남권    대구광역시   28501.0       NaN\n",
       "7     동남권    부산광역시   31045.0       NaN\n",
       "8     동남권    울산광역시    9574.0       NaN\n",
       "9     수도권      경기도  102424.0    2479.0\n",
       "10    수도권    서울특별시   69657.0       NaN\n",
       "11    수도권    인천광역시   34926.0     161.0\n",
       "12    중부권    대전광역시   17638.0       NaN\n",
       "13    중부권  세종특별자치시    4161.0       NaN\n",
       "14    중부권     전라북도   12357.0    7117.0\n",
       "15    중부권     충청남도   22280.0     590.0\n",
       "16    중부권     충청북도   17484.0    2618.0"
      ]
     },
     "execution_count": 438,
     "metadata": {},
     "output_type": "execute_result"
    }
   ],
   "source": [
    "stat4 = zev.groupby(['대기관리권역', '대기관리권역YN', '시도']).agg({'차대번호':'count'}).unstack('대기관리권역YN').reset_index()\n",
    "stat4.columns = ['대기관리권역', '시도', '대기관리권역_외', '대기관리권역_내']\n",
    "stat4 = stat4[['대기관리권역', '시도', '대기관리권역_내', '대기관리권역_외']]\n",
    "stat4"
   ]
  },
  {
   "cell_type": "code",
   "execution_count": 439,
   "metadata": {},
   "outputs": [],
   "source": [
    "grp4 = pd.DataFrame()\n",
    "percentage = 1\n",
    "in_air_sum = 0\n",
    "out_air_sum = 0\n",
    "total = 0\n",
    "for div in stat4['대기관리권역'].unique():\n",
    "    temp = stat4[stat4['대기관리권역'] == div].reset_index(drop=True)\n",
    "    temp['전체'] = temp.iloc[:, 2:].sum(axis=1)\n",
    "\n",
    "    in_air_div_sum = temp['대기관리권역_내'].sum()\n",
    "    out_air_div_sum = temp['대기관리권역_외'].sum()\n",
    "    div_sum = temp['전체'].sum()\n",
    "    temp.loc[temp.shape[0]] = [div, '소계', in_air_div_sum, out_air_div_sum, div_sum]\n",
    "\n",
    "    in_air_sum += in_air_div_sum\n",
    "    out_air_sum += out_air_div_sum\n",
    "    total += div_sum\n",
    "    temp.iloc[:, 2:] = temp.iloc[:, 2:].fillna(0)\n",
    "    temp['대기관리권역_내_비율'] = temp['대기관리권역_내'] / temp['전체'] * percentage\n",
    "    temp['대기관리권역_외_비율'] = temp['대기관리권역_외'] / temp['전체'] * percentage\n",
    "    grp4 = pd.concat([grp4, temp], ignore_index=True)\n",
    "    \n",
    "grp4.loc[grp4.shape[0]] = ['합계', '합계', in_air_sum, out_air_sum, total, in_air_sum/total * percentage, out_air_sum/total * percentage]\n",
    "grp4['전체비율'] = grp4['전체'] / total * percentage\n",
    "grp4[['대기관리권역_내_비율', '대기관리권역_외_비율', '전체비율']] = grp4[['대기관리권역_내_비율', '대기관리권역_외_비율', '전체비율']].round(2)\n",
    "grp4 = grp4[['대기관리권역', '시도', '전체', '전체비율', '대기관리권역_내', '대기관리권역_내_비율', '대기관리권역_외', '대기관리권역_외_비율']]"
   ]
  },
  {
   "cell_type": "code",
   "execution_count": 440,
   "metadata": {},
   "outputs": [
    {
     "data": {
      "text/plain": [
       "(413426.0, 98280.0)"
      ]
     },
     "execution_count": 440,
     "metadata": {},
     "output_type": "execute_result"
    }
   ],
   "source": [
    "in_air_sum, out_air_sum"
   ]
  },
  {
   "cell_type": "code",
   "execution_count": 441,
   "metadata": {},
   "outputs": [
    {
     "data": {
      "text/html": [
       "<div>\n",
       "<style scoped>\n",
       "    .dataframe tbody tr th:only-of-type {\n",
       "        vertical-align: middle;\n",
       "    }\n",
       "\n",
       "    .dataframe tbody tr th {\n",
       "        vertical-align: top;\n",
       "    }\n",
       "\n",
       "    .dataframe thead th {\n",
       "        text-align: right;\n",
       "    }\n",
       "</style>\n",
       "<table border=\"1\" class=\"dataframe\">\n",
       "  <thead>\n",
       "    <tr style=\"text-align: right;\">\n",
       "      <th></th>\n",
       "      <th>대기관리권역</th>\n",
       "      <th>시도</th>\n",
       "      <th>전체</th>\n",
       "      <th>전체비율</th>\n",
       "      <th>대기관리권역_내</th>\n",
       "      <th>대기관리권역_내_비율</th>\n",
       "      <th>대기관리권역_외</th>\n",
       "      <th>대기관리권역_외_비율</th>\n",
       "    </tr>\n",
       "  </thead>\n",
       "  <tbody>\n",
       "    <tr>\n",
       "      <th>0</th>\n",
       "      <td>그 외</td>\n",
       "      <td>강원특별자치도</td>\n",
       "      <td>19116.0</td>\n",
       "      <td>0.04</td>\n",
       "      <td>0.0</td>\n",
       "      <td>0.00</td>\n",
       "      <td>19116.0</td>\n",
       "      <td>1.00</td>\n",
       "    </tr>\n",
       "    <tr>\n",
       "      <th>1</th>\n",
       "      <td>그 외</td>\n",
       "      <td>제주특별자치도</td>\n",
       "      <td>36929.0</td>\n",
       "      <td>0.07</td>\n",
       "      <td>0.0</td>\n",
       "      <td>0.00</td>\n",
       "      <td>36929.0</td>\n",
       "      <td>1.00</td>\n",
       "    </tr>\n",
       "    <tr>\n",
       "      <th>2</th>\n",
       "      <td>그 외</td>\n",
       "      <td>소계</td>\n",
       "      <td>56045.0</td>\n",
       "      <td>0.11</td>\n",
       "      <td>0.0</td>\n",
       "      <td>0.00</td>\n",
       "      <td>56045.0</td>\n",
       "      <td>1.00</td>\n",
       "    </tr>\n",
       "    <tr>\n",
       "      <th>3</th>\n",
       "      <td>남부권</td>\n",
       "      <td>광주광역시</td>\n",
       "      <td>12071.0</td>\n",
       "      <td>0.02</td>\n",
       "      <td>12071.0</td>\n",
       "      <td>1.00</td>\n",
       "      <td>0.0</td>\n",
       "      <td>0.00</td>\n",
       "    </tr>\n",
       "    <tr>\n",
       "      <th>4</th>\n",
       "      <td>남부권</td>\n",
       "      <td>전라남도</td>\n",
       "      <td>22315.0</td>\n",
       "      <td>0.04</td>\n",
       "      <td>11680.0</td>\n",
       "      <td>0.52</td>\n",
       "      <td>10635.0</td>\n",
       "      <td>0.48</td>\n",
       "    </tr>\n",
       "    <tr>\n",
       "      <th>5</th>\n",
       "      <td>남부권</td>\n",
       "      <td>소계</td>\n",
       "      <td>34386.0</td>\n",
       "      <td>0.07</td>\n",
       "      <td>23751.0</td>\n",
       "      <td>0.69</td>\n",
       "      <td>10635.0</td>\n",
       "      <td>0.31</td>\n",
       "    </tr>\n",
       "    <tr>\n",
       "      <th>6</th>\n",
       "      <td>동남권</td>\n",
       "      <td>경상남도</td>\n",
       "      <td>33554.0</td>\n",
       "      <td>0.07</td>\n",
       "      <td>25175.0</td>\n",
       "      <td>0.75</td>\n",
       "      <td>8379.0</td>\n",
       "      <td>0.25</td>\n",
       "    </tr>\n",
       "    <tr>\n",
       "      <th>7</th>\n",
       "      <td>동남권</td>\n",
       "      <td>경상북도</td>\n",
       "      <td>24709.0</td>\n",
       "      <td>0.05</td>\n",
       "      <td>14453.0</td>\n",
       "      <td>0.58</td>\n",
       "      <td>10256.0</td>\n",
       "      <td>0.42</td>\n",
       "    </tr>\n",
       "    <tr>\n",
       "      <th>8</th>\n",
       "      <td>동남권</td>\n",
       "      <td>대구광역시</td>\n",
       "      <td>28501.0</td>\n",
       "      <td>0.06</td>\n",
       "      <td>28501.0</td>\n",
       "      <td>1.00</td>\n",
       "      <td>0.0</td>\n",
       "      <td>0.00</td>\n",
       "    </tr>\n",
       "    <tr>\n",
       "      <th>9</th>\n",
       "      <td>동남권</td>\n",
       "      <td>부산광역시</td>\n",
       "      <td>31045.0</td>\n",
       "      <td>0.06</td>\n",
       "      <td>31045.0</td>\n",
       "      <td>1.00</td>\n",
       "      <td>0.0</td>\n",
       "      <td>0.00</td>\n",
       "    </tr>\n",
       "    <tr>\n",
       "      <th>10</th>\n",
       "      <td>동남권</td>\n",
       "      <td>울산광역시</td>\n",
       "      <td>9574.0</td>\n",
       "      <td>0.02</td>\n",
       "      <td>9574.0</td>\n",
       "      <td>1.00</td>\n",
       "      <td>0.0</td>\n",
       "      <td>0.00</td>\n",
       "    </tr>\n",
       "    <tr>\n",
       "      <th>11</th>\n",
       "      <td>동남권</td>\n",
       "      <td>소계</td>\n",
       "      <td>127383.0</td>\n",
       "      <td>0.25</td>\n",
       "      <td>108748.0</td>\n",
       "      <td>0.85</td>\n",
       "      <td>18635.0</td>\n",
       "      <td>0.15</td>\n",
       "    </tr>\n",
       "    <tr>\n",
       "      <th>12</th>\n",
       "      <td>수도권</td>\n",
       "      <td>경기도</td>\n",
       "      <td>104903.0</td>\n",
       "      <td>0.21</td>\n",
       "      <td>102424.0</td>\n",
       "      <td>0.98</td>\n",
       "      <td>2479.0</td>\n",
       "      <td>0.02</td>\n",
       "    </tr>\n",
       "    <tr>\n",
       "      <th>13</th>\n",
       "      <td>수도권</td>\n",
       "      <td>서울특별시</td>\n",
       "      <td>69657.0</td>\n",
       "      <td>0.14</td>\n",
       "      <td>69657.0</td>\n",
       "      <td>1.00</td>\n",
       "      <td>0.0</td>\n",
       "      <td>0.00</td>\n",
       "    </tr>\n",
       "    <tr>\n",
       "      <th>14</th>\n",
       "      <td>수도권</td>\n",
       "      <td>인천광역시</td>\n",
       "      <td>35087.0</td>\n",
       "      <td>0.07</td>\n",
       "      <td>34926.0</td>\n",
       "      <td>1.00</td>\n",
       "      <td>161.0</td>\n",
       "      <td>0.00</td>\n",
       "    </tr>\n",
       "    <tr>\n",
       "      <th>15</th>\n",
       "      <td>수도권</td>\n",
       "      <td>소계</td>\n",
       "      <td>209647.0</td>\n",
       "      <td>0.41</td>\n",
       "      <td>207007.0</td>\n",
       "      <td>0.99</td>\n",
       "      <td>2640.0</td>\n",
       "      <td>0.01</td>\n",
       "    </tr>\n",
       "    <tr>\n",
       "      <th>16</th>\n",
       "      <td>중부권</td>\n",
       "      <td>대전광역시</td>\n",
       "      <td>17638.0</td>\n",
       "      <td>0.03</td>\n",
       "      <td>17638.0</td>\n",
       "      <td>1.00</td>\n",
       "      <td>0.0</td>\n",
       "      <td>0.00</td>\n",
       "    </tr>\n",
       "    <tr>\n",
       "      <th>17</th>\n",
       "      <td>중부권</td>\n",
       "      <td>세종특별자치시</td>\n",
       "      <td>4161.0</td>\n",
       "      <td>0.01</td>\n",
       "      <td>4161.0</td>\n",
       "      <td>1.00</td>\n",
       "      <td>0.0</td>\n",
       "      <td>0.00</td>\n",
       "    </tr>\n",
       "    <tr>\n",
       "      <th>18</th>\n",
       "      <td>중부권</td>\n",
       "      <td>전라북도</td>\n",
       "      <td>19474.0</td>\n",
       "      <td>0.04</td>\n",
       "      <td>12357.0</td>\n",
       "      <td>0.63</td>\n",
       "      <td>7117.0</td>\n",
       "      <td>0.37</td>\n",
       "    </tr>\n",
       "    <tr>\n",
       "      <th>19</th>\n",
       "      <td>중부권</td>\n",
       "      <td>충청남도</td>\n",
       "      <td>22870.0</td>\n",
       "      <td>0.04</td>\n",
       "      <td>22280.0</td>\n",
       "      <td>0.97</td>\n",
       "      <td>590.0</td>\n",
       "      <td>0.03</td>\n",
       "    </tr>\n",
       "    <tr>\n",
       "      <th>20</th>\n",
       "      <td>중부권</td>\n",
       "      <td>충청북도</td>\n",
       "      <td>20102.0</td>\n",
       "      <td>0.04</td>\n",
       "      <td>17484.0</td>\n",
       "      <td>0.87</td>\n",
       "      <td>2618.0</td>\n",
       "      <td>0.13</td>\n",
       "    </tr>\n",
       "    <tr>\n",
       "      <th>21</th>\n",
       "      <td>중부권</td>\n",
       "      <td>소계</td>\n",
       "      <td>84245.0</td>\n",
       "      <td>0.16</td>\n",
       "      <td>73920.0</td>\n",
       "      <td>0.88</td>\n",
       "      <td>10325.0</td>\n",
       "      <td>0.12</td>\n",
       "    </tr>\n",
       "    <tr>\n",
       "      <th>22</th>\n",
       "      <td>합계</td>\n",
       "      <td>합계</td>\n",
       "      <td>511706.0</td>\n",
       "      <td>1.00</td>\n",
       "      <td>413426.0</td>\n",
       "      <td>0.81</td>\n",
       "      <td>98280.0</td>\n",
       "      <td>0.19</td>\n",
       "    </tr>\n",
       "  </tbody>\n",
       "</table>\n",
       "</div>"
      ],
      "text/plain": [
       "   대기관리권역       시도        전체  전체비율  대기관리권역_내  대기관리권역_내_비율  대기관리권역_외   \n",
       "0     그 외  강원특별자치도   19116.0  0.04       0.0         0.00   19116.0  \\\n",
       "1     그 외  제주특별자치도   36929.0  0.07       0.0         0.00   36929.0   \n",
       "2     그 외       소계   56045.0  0.11       0.0         0.00   56045.0   \n",
       "3     남부권    광주광역시   12071.0  0.02   12071.0         1.00       0.0   \n",
       "4     남부권     전라남도   22315.0  0.04   11680.0         0.52   10635.0   \n",
       "5     남부권       소계   34386.0  0.07   23751.0         0.69   10635.0   \n",
       "6     동남권     경상남도   33554.0  0.07   25175.0         0.75    8379.0   \n",
       "7     동남권     경상북도   24709.0  0.05   14453.0         0.58   10256.0   \n",
       "8     동남권    대구광역시   28501.0  0.06   28501.0         1.00       0.0   \n",
       "9     동남권    부산광역시   31045.0  0.06   31045.0         1.00       0.0   \n",
       "10    동남권    울산광역시    9574.0  0.02    9574.0         1.00       0.0   \n",
       "11    동남권       소계  127383.0  0.25  108748.0         0.85   18635.0   \n",
       "12    수도권      경기도  104903.0  0.21  102424.0         0.98    2479.0   \n",
       "13    수도권    서울특별시   69657.0  0.14   69657.0         1.00       0.0   \n",
       "14    수도권    인천광역시   35087.0  0.07   34926.0         1.00     161.0   \n",
       "15    수도권       소계  209647.0  0.41  207007.0         0.99    2640.0   \n",
       "16    중부권    대전광역시   17638.0  0.03   17638.0         1.00       0.0   \n",
       "17    중부권  세종특별자치시    4161.0  0.01    4161.0         1.00       0.0   \n",
       "18    중부권     전라북도   19474.0  0.04   12357.0         0.63    7117.0   \n",
       "19    중부권     충청남도   22870.0  0.04   22280.0         0.97     590.0   \n",
       "20    중부권     충청북도   20102.0  0.04   17484.0         0.87    2618.0   \n",
       "21    중부권       소계   84245.0  0.16   73920.0         0.88   10325.0   \n",
       "22     합계       합계  511706.0  1.00  413426.0         0.81   98280.0   \n",
       "\n",
       "    대기관리권역_외_비율  \n",
       "0          1.00  \n",
       "1          1.00  \n",
       "2          1.00  \n",
       "3          0.00  \n",
       "4          0.48  \n",
       "5          0.31  \n",
       "6          0.25  \n",
       "7          0.42  \n",
       "8          0.00  \n",
       "9          0.00  \n",
       "10         0.00  \n",
       "11         0.15  \n",
       "12         0.02  \n",
       "13         0.00  \n",
       "14         0.00  \n",
       "15         0.01  \n",
       "16         0.00  \n",
       "17         0.00  \n",
       "18         0.37  \n",
       "19         0.03  \n",
       "20         0.13  \n",
       "21         0.12  \n",
       "22         0.19  "
      ]
     },
     "execution_count": 441,
     "metadata": {},
     "output_type": "execute_result"
    }
   ],
   "source": [
    "grp4"
   ]
  },
  {
   "cell_type": "code",
   "execution_count": 442,
   "metadata": {},
   "outputs": [
    {
     "data": {
      "text/html": [
       "<div>\n",
       "<style scoped>\n",
       "    .dataframe tbody tr th:only-of-type {\n",
       "        vertical-align: middle;\n",
       "    }\n",
       "\n",
       "    .dataframe tbody tr th {\n",
       "        vertical-align: top;\n",
       "    }\n",
       "\n",
       "    .dataframe thead th {\n",
       "        text-align: right;\n",
       "    }\n",
       "</style>\n",
       "<table border=\"1\" class=\"dataframe\">\n",
       "  <thead>\n",
       "    <tr style=\"text-align: right;\">\n",
       "      <th></th>\n",
       "      <th>대기관리권역</th>\n",
       "      <th>시도</th>\n",
       "      <th>전체</th>\n",
       "      <th>전체비율</th>\n",
       "      <th>대기관리권역_내</th>\n",
       "      <th>대기관리권역_내_비율</th>\n",
       "      <th>대기관리권역_외</th>\n",
       "      <th>대기관리권역_외_비율</th>\n",
       "    </tr>\n",
       "  </thead>\n",
       "  <tbody>\n",
       "    <tr>\n",
       "      <th>0</th>\n",
       "      <td>수도권</td>\n",
       "      <td>서울특별시</td>\n",
       "      <td>69657.0</td>\n",
       "      <td>0.14</td>\n",
       "      <td>69657.0</td>\n",
       "      <td>1.00</td>\n",
       "      <td>0.0</td>\n",
       "      <td>0.00</td>\n",
       "    </tr>\n",
       "    <tr>\n",
       "      <th>1</th>\n",
       "      <td>수도권</td>\n",
       "      <td>인천광역시</td>\n",
       "      <td>35087.0</td>\n",
       "      <td>0.07</td>\n",
       "      <td>34926.0</td>\n",
       "      <td>1.00</td>\n",
       "      <td>161.0</td>\n",
       "      <td>0.00</td>\n",
       "    </tr>\n",
       "    <tr>\n",
       "      <th>2</th>\n",
       "      <td>수도권</td>\n",
       "      <td>경기도</td>\n",
       "      <td>104903.0</td>\n",
       "      <td>0.21</td>\n",
       "      <td>102424.0</td>\n",
       "      <td>0.98</td>\n",
       "      <td>2479.0</td>\n",
       "      <td>0.02</td>\n",
       "    </tr>\n",
       "    <tr>\n",
       "      <th>3</th>\n",
       "      <td>수도권</td>\n",
       "      <td>소계</td>\n",
       "      <td>209647.0</td>\n",
       "      <td>0.41</td>\n",
       "      <td>207007.0</td>\n",
       "      <td>0.99</td>\n",
       "      <td>2640.0</td>\n",
       "      <td>0.01</td>\n",
       "    </tr>\n",
       "    <tr>\n",
       "      <th>4</th>\n",
       "      <td>중부권</td>\n",
       "      <td>대전광역시</td>\n",
       "      <td>17638.0</td>\n",
       "      <td>0.03</td>\n",
       "      <td>17638.0</td>\n",
       "      <td>1.00</td>\n",
       "      <td>0.0</td>\n",
       "      <td>0.00</td>\n",
       "    </tr>\n",
       "    <tr>\n",
       "      <th>5</th>\n",
       "      <td>중부권</td>\n",
       "      <td>세종특별자치시</td>\n",
       "      <td>4161.0</td>\n",
       "      <td>0.01</td>\n",
       "      <td>4161.0</td>\n",
       "      <td>1.00</td>\n",
       "      <td>0.0</td>\n",
       "      <td>0.00</td>\n",
       "    </tr>\n",
       "    <tr>\n",
       "      <th>6</th>\n",
       "      <td>중부권</td>\n",
       "      <td>충청북도</td>\n",
       "      <td>20102.0</td>\n",
       "      <td>0.04</td>\n",
       "      <td>17484.0</td>\n",
       "      <td>0.87</td>\n",
       "      <td>2618.0</td>\n",
       "      <td>0.13</td>\n",
       "    </tr>\n",
       "    <tr>\n",
       "      <th>7</th>\n",
       "      <td>중부권</td>\n",
       "      <td>충청남도</td>\n",
       "      <td>22870.0</td>\n",
       "      <td>0.04</td>\n",
       "      <td>22280.0</td>\n",
       "      <td>0.97</td>\n",
       "      <td>590.0</td>\n",
       "      <td>0.03</td>\n",
       "    </tr>\n",
       "    <tr>\n",
       "      <th>8</th>\n",
       "      <td>중부권</td>\n",
       "      <td>전라북도</td>\n",
       "      <td>19474.0</td>\n",
       "      <td>0.04</td>\n",
       "      <td>12357.0</td>\n",
       "      <td>0.63</td>\n",
       "      <td>7117.0</td>\n",
       "      <td>0.37</td>\n",
       "    </tr>\n",
       "    <tr>\n",
       "      <th>9</th>\n",
       "      <td>중부권</td>\n",
       "      <td>소계</td>\n",
       "      <td>84245.0</td>\n",
       "      <td>0.16</td>\n",
       "      <td>73920.0</td>\n",
       "      <td>0.88</td>\n",
       "      <td>10325.0</td>\n",
       "      <td>0.12</td>\n",
       "    </tr>\n",
       "    <tr>\n",
       "      <th>10</th>\n",
       "      <td>남부권</td>\n",
       "      <td>광주광역시</td>\n",
       "      <td>12071.0</td>\n",
       "      <td>0.02</td>\n",
       "      <td>12071.0</td>\n",
       "      <td>1.00</td>\n",
       "      <td>0.0</td>\n",
       "      <td>0.00</td>\n",
       "    </tr>\n",
       "    <tr>\n",
       "      <th>11</th>\n",
       "      <td>남부권</td>\n",
       "      <td>전라남도</td>\n",
       "      <td>22315.0</td>\n",
       "      <td>0.04</td>\n",
       "      <td>11680.0</td>\n",
       "      <td>0.52</td>\n",
       "      <td>10635.0</td>\n",
       "      <td>0.48</td>\n",
       "    </tr>\n",
       "    <tr>\n",
       "      <th>12</th>\n",
       "      <td>남부권</td>\n",
       "      <td>소계</td>\n",
       "      <td>34386.0</td>\n",
       "      <td>0.07</td>\n",
       "      <td>23751.0</td>\n",
       "      <td>0.69</td>\n",
       "      <td>10635.0</td>\n",
       "      <td>0.31</td>\n",
       "    </tr>\n",
       "    <tr>\n",
       "      <th>13</th>\n",
       "      <td>동남권</td>\n",
       "      <td>부산광역시</td>\n",
       "      <td>31045.0</td>\n",
       "      <td>0.06</td>\n",
       "      <td>31045.0</td>\n",
       "      <td>1.00</td>\n",
       "      <td>0.0</td>\n",
       "      <td>0.00</td>\n",
       "    </tr>\n",
       "    <tr>\n",
       "      <th>14</th>\n",
       "      <td>동남권</td>\n",
       "      <td>대구광역시</td>\n",
       "      <td>28501.0</td>\n",
       "      <td>0.06</td>\n",
       "      <td>28501.0</td>\n",
       "      <td>1.00</td>\n",
       "      <td>0.0</td>\n",
       "      <td>0.00</td>\n",
       "    </tr>\n",
       "    <tr>\n",
       "      <th>15</th>\n",
       "      <td>동남권</td>\n",
       "      <td>울산광역시</td>\n",
       "      <td>9574.0</td>\n",
       "      <td>0.02</td>\n",
       "      <td>9574.0</td>\n",
       "      <td>1.00</td>\n",
       "      <td>0.0</td>\n",
       "      <td>0.00</td>\n",
       "    </tr>\n",
       "    <tr>\n",
       "      <th>16</th>\n",
       "      <td>동남권</td>\n",
       "      <td>경상북도</td>\n",
       "      <td>24709.0</td>\n",
       "      <td>0.05</td>\n",
       "      <td>14453.0</td>\n",
       "      <td>0.58</td>\n",
       "      <td>10256.0</td>\n",
       "      <td>0.42</td>\n",
       "    </tr>\n",
       "    <tr>\n",
       "      <th>17</th>\n",
       "      <td>동남권</td>\n",
       "      <td>경상남도</td>\n",
       "      <td>33554.0</td>\n",
       "      <td>0.07</td>\n",
       "      <td>25175.0</td>\n",
       "      <td>0.75</td>\n",
       "      <td>8379.0</td>\n",
       "      <td>0.25</td>\n",
       "    </tr>\n",
       "    <tr>\n",
       "      <th>18</th>\n",
       "      <td>동남권</td>\n",
       "      <td>소계</td>\n",
       "      <td>127383.0</td>\n",
       "      <td>0.25</td>\n",
       "      <td>108748.0</td>\n",
       "      <td>0.85</td>\n",
       "      <td>18635.0</td>\n",
       "      <td>0.15</td>\n",
       "    </tr>\n",
       "    <tr>\n",
       "      <th>19</th>\n",
       "      <td>그 외</td>\n",
       "      <td>강원특별자치도</td>\n",
       "      <td>19116.0</td>\n",
       "      <td>0.04</td>\n",
       "      <td>0.0</td>\n",
       "      <td>0.00</td>\n",
       "      <td>19116.0</td>\n",
       "      <td>1.00</td>\n",
       "    </tr>\n",
       "    <tr>\n",
       "      <th>20</th>\n",
       "      <td>그 외</td>\n",
       "      <td>제주특별자치도</td>\n",
       "      <td>36929.0</td>\n",
       "      <td>0.07</td>\n",
       "      <td>0.0</td>\n",
       "      <td>0.00</td>\n",
       "      <td>36929.0</td>\n",
       "      <td>1.00</td>\n",
       "    </tr>\n",
       "    <tr>\n",
       "      <th>21</th>\n",
       "      <td>그 외</td>\n",
       "      <td>소계</td>\n",
       "      <td>56045.0</td>\n",
       "      <td>0.11</td>\n",
       "      <td>0.0</td>\n",
       "      <td>0.00</td>\n",
       "      <td>56045.0</td>\n",
       "      <td>1.00</td>\n",
       "    </tr>\n",
       "    <tr>\n",
       "      <th>22</th>\n",
       "      <td>합계</td>\n",
       "      <td>합계</td>\n",
       "      <td>511706.0</td>\n",
       "      <td>1.00</td>\n",
       "      <td>413426.0</td>\n",
       "      <td>0.81</td>\n",
       "      <td>98280.0</td>\n",
       "      <td>0.19</td>\n",
       "    </tr>\n",
       "  </tbody>\n",
       "</table>\n",
       "</div>"
      ],
      "text/plain": [
       "   대기관리권역       시도        전체  전체비율  대기관리권역_내  대기관리권역_내_비율  대기관리권역_외   \n",
       "0     수도권    서울특별시   69657.0  0.14   69657.0         1.00       0.0  \\\n",
       "1     수도권    인천광역시   35087.0  0.07   34926.0         1.00     161.0   \n",
       "2     수도권      경기도  104903.0  0.21  102424.0         0.98    2479.0   \n",
       "3     수도권       소계  209647.0  0.41  207007.0         0.99    2640.0   \n",
       "4     중부권    대전광역시   17638.0  0.03   17638.0         1.00       0.0   \n",
       "5     중부권  세종특별자치시    4161.0  0.01    4161.0         1.00       0.0   \n",
       "6     중부권     충청북도   20102.0  0.04   17484.0         0.87    2618.0   \n",
       "7     중부권     충청남도   22870.0  0.04   22280.0         0.97     590.0   \n",
       "8     중부권     전라북도   19474.0  0.04   12357.0         0.63    7117.0   \n",
       "9     중부권       소계   84245.0  0.16   73920.0         0.88   10325.0   \n",
       "10    남부권    광주광역시   12071.0  0.02   12071.0         1.00       0.0   \n",
       "11    남부권     전라남도   22315.0  0.04   11680.0         0.52   10635.0   \n",
       "12    남부권       소계   34386.0  0.07   23751.0         0.69   10635.0   \n",
       "13    동남권    부산광역시   31045.0  0.06   31045.0         1.00       0.0   \n",
       "14    동남권    대구광역시   28501.0  0.06   28501.0         1.00       0.0   \n",
       "15    동남권    울산광역시    9574.0  0.02    9574.0         1.00       0.0   \n",
       "16    동남권     경상북도   24709.0  0.05   14453.0         0.58   10256.0   \n",
       "17    동남권     경상남도   33554.0  0.07   25175.0         0.75    8379.0   \n",
       "18    동남권       소계  127383.0  0.25  108748.0         0.85   18635.0   \n",
       "19    그 외  강원특별자치도   19116.0  0.04       0.0         0.00   19116.0   \n",
       "20    그 외  제주특별자치도   36929.0  0.07       0.0         0.00   36929.0   \n",
       "21    그 외       소계   56045.0  0.11       0.0         0.00   56045.0   \n",
       "22     합계       합계  511706.0  1.00  413426.0         0.81   98280.0   \n",
       "\n",
       "    대기관리권역_외_비율  \n",
       "0          0.00  \n",
       "1          0.00  \n",
       "2          0.02  \n",
       "3          0.01  \n",
       "4          0.00  \n",
       "5          0.00  \n",
       "6          0.13  \n",
       "7          0.03  \n",
       "8          0.37  \n",
       "9          0.12  \n",
       "10         0.00  \n",
       "11         0.48  \n",
       "12         0.31  \n",
       "13         0.00  \n",
       "14         0.00  \n",
       "15         0.00  \n",
       "16         0.42  \n",
       "17         0.25  \n",
       "18         0.15  \n",
       "19         1.00  \n",
       "20         1.00  \n",
       "21         1.00  \n",
       "22         0.19  "
      ]
     },
     "execution_count": 442,
     "metadata": {},
     "output_type": "execute_result"
    }
   ],
   "source": [
    "base4 = idf2.merge(grp4, on=['대기관리권역', '시도'], how='left')\n",
    "base4"
   ]
  },
  {
   "cell_type": "markdown",
   "metadata": {},
   "source": [
    "### [출력] 통계\n",
    "- 전체 차량 등급, 연료별 차량 현황\n",
    "- 5등급 대기관리권역, 시도별 차량 현황\n",
    "- 전체 차량 대기관리권역, 시도별 차량 현황\n",
    "- 무공해차(전기, 수소) 대기관리권역, 시도별 차량 현황"
   ]
  },
  {
   "cell_type": "code",
   "execution_count": 443,
   "metadata": {},
   "outputs": [
    {
     "data": {
      "text/plain": [
       "'20230904_PM_024801'"
      ]
     },
     "execution_count": 443,
     "metadata": {},
     "output_type": "execute_result"
    }
   ],
   "source": [
    "today_date = datetime.today().strftime(\"%Y%m%d_%p_%I%M%S\")\n",
    "today_date"
   ]
  },
  {
   "cell_type": "code",
   "execution_count": 444,
   "metadata": {},
   "outputs": [],
   "source": [
    "# 0.3s\n",
    "with pd.ExcelWriter(os.path.join(an_fold, f'통계_챠량현황({today_date}).xlsx')) as writer:\n",
    "    base1.to_excel(writer, sheet_name='전체_등급_연료별', index=False)\n",
    "    base2.to_excel(writer, sheet_name='5등급_대기관리권역별', index=False)\n",
    "    base3.to_excel(writer, sheet_name='전체_대기관리권역별', index=False)\n",
    "    base4.to_excel(writer, sheet_name='무공해_대기관리권역별', index=False)"
   ]
  },
  {
   "cell_type": "code",
   "execution_count": null,
   "metadata": {},
   "outputs": [],
   "source": []
  },
  {
   "cell_type": "code",
   "execution_count": null,
   "metadata": {},
   "outputs": [],
   "source": []
  },
  {
   "cell_type": "code",
   "execution_count": null,
   "metadata": {},
   "outputs": [],
   "source": []
  },
  {
   "cell_type": "code",
   "execution_count": null,
   "metadata": {},
   "outputs": [],
   "source": []
  },
  {
   "cell_type": "code",
   "execution_count": null,
   "metadata": {},
   "outputs": [],
   "source": []
  },
  {
   "cell_type": "code",
   "execution_count": null,
   "metadata": {},
   "outputs": [],
   "source": []
  },
  {
   "cell_type": "markdown",
   "metadata": {},
   "source": [
    "# [로드] 등록&제원 정보 2022.12.28 기준 "
   ]
  },
  {
   "cell_type": "code",
   "execution_count": 4,
   "metadata": {},
   "outputs": [
    {
     "name": "stderr",
     "output_type": "stream",
     "text": [
      "  0%|          | 0/5 [00:00<?, ?it/s]"
     ]
    },
    {
     "name": "stderr",
     "output_type": "stream",
     "text": [
      "100%|██████████| 5/5 [08:36<00:00, 103.25s/it]\n"
     ]
    }
   ],
   "source": [
    "# about 8m 22s\n",
    "df = pd.DataFrame()\n",
    "for i in tqdm(range(1, 6)):\n",
    "    file_name = f'[ODS][G{i}]등록정보&제원정보(말소제거)(2022.12.28).csv'\n",
    "    temp = pd.read_csv(os.path.join(ods_fold, file_name), encoding='cp949', low_memory=False)\n",
    "    temp = temp.sort_values(['최초등록일자', '배출가스검사유효일자'], ascending=[False, False]).drop_duplicates('차대번호').reset_index(drop=True)\n",
    "    df = pd.concat([df, temp], ignore_index=True)"
   ]
  },
  {
   "cell_type": "code",
   "execution_count": 5,
   "metadata": {},
   "outputs": [
    {
     "name": "stdout",
     "output_type": "stream",
     "text": [
      "<class 'pandas.core.frame.DataFrame'>\n",
      "RangeIndex: 25404385 entries, 0 to 25404384\n",
      "Data columns (total 49 columns):\n",
      " #   Column        Dtype  \n",
      "---  ------        -----  \n",
      " 0   차량관리번호        object \n",
      " 1   차량등록번호        object \n",
      " 2   본거지법정동코드      int64  \n",
      " 3   소유자구분         object \n",
      " 4   차종_등록정보       object \n",
      " 5   용도            object \n",
      " 6   현재회원번호        object \n",
      " 7   차대번호          object \n",
      " 8   최초등록일자        int64  \n",
      " 9   차량연식          int64  \n",
      " 10  차량제작일자        float64\n",
      " 11  배출가스검사유효일자    float64\n",
      " 12  제원관리번호        object \n",
      " 13  배출가스인증번호      object \n",
      " 14  배출가스등급        object \n",
      " 15  저공해조치YN(미사용)  object \n",
      " 16  저공해조치종류       float64\n",
      " 17  저공해조치구조변경YN   object \n",
      " 18  차량등록번호숫자정보    int64  \n",
      " 19  차량말소YN        object \n",
      " 20  최초회원번호        object \n",
      " 21  취득일자          object \n",
      " 22  취득금액          float64\n",
      " 23  생성일시_등록정보     object \n",
      " 24  수정일시_등록정보     object \n",
      " 25  차명            object \n",
      " 26  차종_제원정보       object \n",
      " 27  차종분류          object \n",
      " 28  차종유형(소분류)     object \n",
      " 29  자동차형식         object \n",
      " 30  제작사명          object \n",
      " 31  연료            object \n",
      " 32  엔진형식          object \n",
      " 33  공차중량          float64\n",
      " 34  총중량           float64\n",
      " 35  적재중량          float64\n",
      " 36  엔진출력          float64\n",
      " 37  배기량           float64\n",
      " 38  승차인원          float64\n",
      " 39  차량길이          float64\n",
      " 40  차량너비          float64\n",
      " 41  차량높이          float64\n",
      " 42  원산지명          object \n",
      " 43  삭제YN          object \n",
      " 44  승인일자          object \n",
      " 45  구동형식          float64\n",
      " 46  변속기종류         object \n",
      " 47  생성일시_제원정보     object \n",
      " 48  수정일시_제원정보     object \n",
      "dtypes: float64(14), int64(4), object(31)\n",
      "memory usage: 9.3+ GB\n"
     ]
    }
   ],
   "source": [
    "df.info()"
   ]
  },
  {
   "cell_type": "code",
   "execution_count": 6,
   "metadata": {},
   "outputs": [
    {
     "data": {
      "text/plain": [
       "(25404385, 49)"
      ]
     },
     "execution_count": 6,
     "metadata": {},
     "output_type": "execute_result"
    }
   ],
   "source": [
    "df.shape"
   ]
  },
  {
   "cell_type": "code",
   "execution_count": 7,
   "metadata": {},
   "outputs": [
    {
     "data": {
      "text/plain": [
       "25404384"
      ]
     },
     "execution_count": 7,
     "metadata": {},
     "output_type": "execute_result"
    }
   ],
   "source": [
    "len(df['차대번호'].unique())"
   ]
  },
  {
   "cell_type": "code",
   "execution_count": 10,
   "metadata": {},
   "outputs": [
    {
     "name": "stdout",
     "output_type": "stream",
     "text": [
      "<class 'pandas.core.frame.DataFrame'>\n",
      "RangeIndex: 46340 entries, 0 to 46339\n",
      "Data columns (total 9 columns):\n",
      " #   Column    Non-Null Count  Dtype  \n",
      "---  ------    --------------  -----  \n",
      " 0   법정동코드     46340 non-null  int64  \n",
      " 1   시도        46340 non-null  object \n",
      " 2   시구군       46317 non-null  object \n",
      " 3   읍면동       45847 non-null  object \n",
      " 4   리         33682 non-null  object \n",
      " 5   지역3       0 non-null      float64\n",
      " 6   폐지여부      46340 non-null  object \n",
      " 7   대기관리권역    46340 non-null  object \n",
      " 8   대기관리권역YN  46334 non-null  object \n",
      "dtypes: float64(1), int64(1), object(7)\n",
      "memory usage: 3.2+ MB\n"
     ]
    }
   ],
   "source": [
    "file_name = '법정동코드_2022.10.14.xlsx'\n",
    "code = pd.read_excel(os.path.join(fold, file_name))\n",
    "code.info()"
   ]
  },
  {
   "attachments": {},
   "cell_type": "markdown",
   "metadata": {},
   "source": [
    "# 코드 마지막"
   ]
  }
 ],
 "metadata": {
  "kernelspec": {
   "display_name": "base",
   "language": "python",
   "name": "python3"
  },
  "language_info": {
   "codemirror_mode": {
    "name": "ipython",
    "version": 3
   },
   "file_extension": ".py",
   "mimetype": "text/x-python",
   "name": "python",
   "nbconvert_exporter": "python",
   "pygments_lexer": "ipython3",
   "version": "3.9.13"
  },
  "orig_nbformat": 4,
  "vscode": {
   "interpreter": {
    "hash": "ad2bdc8ecc057115af97d19610ffacc2b4e99fae6737bb82f5d7fb13d2f2c186"
   }
  }
 },
 "nbformat": 4,
 "nbformat_minor": 2
}
