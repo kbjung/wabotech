{
 "cells": [
  {
   "cell_type": "markdown",
   "metadata": {},
   "source": [
    "# Library"
   ]
  },
  {
   "cell_type": "code",
   "execution_count": 1,
   "metadata": {},
   "outputs": [],
   "source": [
    "import pandas as pd\n",
    "import os\n",
    "import numpy as np\n",
    "from datetime import datetime\n",
    "import pyexasol"
   ]
  },
  {
   "cell_type": "code",
   "execution_count": 2,
   "metadata": {},
   "outputs": [],
   "source": [
    "pd.options.display.float_format = '{:.2f}'.format\n",
    "# pd.reset_option('display.float_format')"
   ]
  },
  {
   "cell_type": "code",
   "execution_count": 3,
   "metadata": {},
   "outputs": [],
   "source": [
    "# 경고문 없애는 코드\n",
    "# UserWarning: Workbook contains no default style, apply openpyxl's default warn(\"Workbook contains no default style, apply openpyxl's default\")\n",
    "import warnings\n",
    "warnings.simplefilter(\"ignore\")"
   ]
  },
  {
   "cell_type": "markdown",
   "metadata": {},
   "source": [
    "# Fold"
   ]
  },
  {
   "cell_type": "code",
   "execution_count": 4,
   "metadata": {},
   "outputs": [
    {
     "data": {
      "text/plain": [
       "{'pub_fold': 'D:/data/processing/big3/raw/public',\n",
       " 'raw_fold': 'D:/data/processing/big3/raw',\n",
       " 'raw2_fold': 'D:/data/processing/big3/raw/BD2',\n",
       " 'raw4_fold': 'D:/data/processing/big3/raw/BD4',\n",
       " 'raw5_fold': 'D:/data/processing/big3/raw/BD5',\n",
       " 'an_fold': 'D:/data/processing/big3/analysis',\n",
       " 'an2_fold:': 'D:/data/processing/big3/analysis/BD2',\n",
       " 'an4_fold:': 'D:/data/processing/big3/analysis/BD4',\n",
       " 'an5_fold:': 'D:/data/processing/big3/analysis/BD5',\n",
       " 'df_fold': 'D:/data/processing/big3/df',\n",
       " 'df2_fold': 'D:/data/processing/big3/df/BD2',\n",
       " 'df4_fold': 'D:/data/processing/big3/df/BD4',\n",
       " 'df5_fold': 'D:/data/processing/big3/df/BD5'}"
      ]
     },
     "execution_count": 4,
     "metadata": {},
     "output_type": "execute_result"
    }
   ],
   "source": [
    "pub_fold = 'D:/data/processing/big3/raw/public'\n",
    "raw_fold = 'D:/data/processing/big3/raw'\n",
    "raw2_fold = 'D:/data/processing/big3/raw/BD2'\n",
    "raw4_fold = 'D:/data/processing/big3/raw/BD4'\n",
    "raw5_fold = 'D:/data/processing/big3/raw/BD5'\n",
    "an_fold = 'D:/data/processing/big3/analysis'\n",
    "an2_fold = 'D:/data/processing/big3/analysis/BD2'\n",
    "an4_fold = 'D:/data/processing/big3/analysis/BD4'\n",
    "an5_fold = 'D:/data/processing/big3/analysis/BD5'\n",
    "df_fold = 'D:/data/processing/big3/df'\n",
    "df2_fold = 'D:/data/processing/big3/df/BD2'\n",
    "df4_fold = 'D:/data/processing/big3/df/BD4'\n",
    "df5_fold = 'D:/data/processing/big3/df/BD5'\n",
    "folds = {\n",
    "    'pub_fold':pub_fold, \n",
    "    'raw_fold':raw_fold, \n",
    "    'raw2_fold':raw2_fold, \n",
    "    'raw4_fold':raw4_fold, \n",
    "    'raw5_fold':raw5_fold, \n",
    "    'an_fold':an_fold, \n",
    "    'an2_fold:':an2_fold, \n",
    "    'an4_fold:':an4_fold, \n",
    "    'an5_fold:':an5_fold, \n",
    "    'df_fold':df_fold, \n",
    "    'df2_fold':df2_fold, \n",
    "    'df4_fold':df4_fold, \n",
    "    'df5_fold':df5_fold, \n",
    "    }\n",
    "folds"
   ]
  },
  {
   "cell_type": "markdown",
   "metadata": {},
   "source": [
    "# server"
   ]
  },
  {
   "cell_type": "code",
   "execution_count": 5,
   "metadata": {},
   "outputs": [],
   "source": [
    "# exasol db\n",
    "wd = pyexasol.connect(dsn='dev.openankus.org:8563', user='sys', password='djslzja', compression=True, schema='VSYSD')\n",
    "wz = pyexasol.connect(dsn='dev.openankus.org:8563', user='sys', password='djslzja', compression=True, schema='VSYSZ')\n",
    "we = pyexasol.connect(dsn='dev.openankus.org:8563', user='sys', password='djslzja', compression=True, schema='VSYSE')"
   ]
  },
  {
   "cell_type": "markdown",
   "metadata": {},
   "source": [
    "# 로드"
   ]
  },
  {
   "cell_type": "markdown",
   "metadata": {},
   "source": [
    "## [로드]등록정보"
   ]
  },
  {
   "cell_type": "code",
   "execution_count": 57,
   "metadata": {},
   "outputs": [
    {
     "name": "stdout",
     "output_type": "stream",
     "text": [
      "(31131025, 15)\n",
      "data load : STD_CEG_CAR_MIG\n"
     ]
    }
   ],
   "source": [
    "# 5m 31.4s\n",
    "car = wd.export_to_pandas(\"SELECT VIN, BSPL_STDG_CD, EXHST_GAS_GRD_CD, EXHST_GAS_CERT_NO, VHCL_ERSR_YN, MANP_MNG_NO, YRIDNW, VHCTY_CD, PURPS_CD2, FRST_REG_YMD, VHCL_FBCTN_YMD, VHCL_MNG_NO, VHRNO, EXTGAS_INSP_VLD_YMD, VHCL_OWNR_CL_CD FROM STD_CEG_CAR_MIG;\")\n",
    "car_ch_col = {\n",
    "    'VIN':'차대번호', \n",
    "    'BSPL_STDG_CD':'법정동코드', \n",
    "    'EXHST_GAS_GRD_CD':'배출가스등급', \n",
    "    'EXHST_GAS_CERT_NO':'배출가스인증번호',\n",
    "    'VHCL_ERSR_YN':'차량말소여부',\n",
    "    'MANP_MNG_NO':'제원관리번호', \n",
    "    'YRIDNW':'차량연식', \n",
    "    'VHCTY_CD':'차종', \n",
    "    'PURPS_CD2':'용도', \n",
    "    'FRST_REG_YMD':'최초등록일자',\n",
    "    'VHCL_FBCTN_YMD':'제작일자', \n",
    "    'VHCL_MNG_NO':'차량관리번호', \n",
    "    'VHRNO':'자동차등록번호',\n",
    "    'EXTGAS_INSP_VLD_YMD':'검사유효일',\n",
    "    'VHCL_OWNR_CL_CD':'소유자구분',  \n",
    "}\n",
    "\n",
    "print(car.shape)\n",
    "print('data load : STD_CEG_CAR_MIG')"
   ]
  },
  {
   "cell_type": "code",
   "execution_count": 58,
   "metadata": {},
   "outputs": [
    {
     "data": {
      "text/plain": [
       "Index(['차대번호', '법정동코드', '배출가스등급', '배출가스인증번호', '차량말소여부', '제원관리번호', '차량연식', '차종',\n",
       "       '용도', '최초등록일자', '제작일자', '차량관리번호', '자동차등록번호', '검사유효일', '소유자구분'],\n",
       "      dtype='object')"
      ]
     },
     "execution_count": 58,
     "metadata": {},
     "output_type": "execute_result"
    }
   ],
   "source": [
    "carr = car.rename(columns=car_ch_col)\n",
    "carr.columns"
   ]
  },
  {
   "cell_type": "code",
   "execution_count": 59,
   "metadata": {},
   "outputs": [
    {
     "name": "stdout",
     "output_type": "stream",
     "text": [
      "['A0503' 'A0502' 'A0505' 'A0501' 'A0504' nan]\n",
      "['3' '2' '5' '1' '4' '등급_결측값 or X']\n",
      "['A31P' 'A31T' 'A31V' 'A31S']\n",
      "['승용' '화물' '승합' '특수']\n",
      "['A08P' 'A08B' 'A08O']\n",
      "['개인용' '영업용' '관용']\n"
     ]
    }
   ],
   "source": [
    "print(carr['배출가스등급'].unique())\n",
    "## 배출가스등급 코드 변환\n",
    "grd_dict = {\n",
    "    'A0501':'1', \n",
    "    'A0502':'2', \n",
    "    'A0503':'3', \n",
    "    'A0504':'4', \n",
    "    'A0505':'5', \n",
    "    'A05T2':'2',\n",
    "    'A05T3':'3', \n",
    "    'A05T4':'4', \n",
    "    'A05T5':'5', \n",
    "    'A05X':'X', \n",
    "}\n",
    "carr['배출가스등급'] = carr['배출가스등급'].replace(grd_dict)\n",
    "carr['배출가스등급'] = carr['배출가스등급'].fillna('등급_결측값 or X')\n",
    "print(carr['배출가스등급'].unique())\n",
    "\n",
    "print(carr['차종'].unique())\n",
    "# 4.0s\n",
    "## 차종 코드 변환\n",
    "cd_dict = {\n",
    "    'A31M':'이륜', \n",
    "    'A31P':'승용', \n",
    "    'A31S':'특수', \n",
    "    'A31T':'화물', \n",
    "    'A31V':'승합'\n",
    "}\n",
    "carr['차종'] = carr['차종'].replace(cd_dict)\n",
    "print(carr['차종'].unique())\n",
    "\n",
    "print(carr['용도'].unique())\n",
    "## 용도 코드 변환\n",
    "purps_dict = {\n",
    "    'A08P':'개인용', \n",
    "    'A08B':'영업용', \n",
    "    'A08O':'관용',\n",
    "}\n",
    "carr['용도'] = carr['용도'].replace(purps_dict)\n",
    "print(carr['용도'].unique())"
   ]
  },
  {
   "cell_type": "markdown",
   "metadata": {},
   "source": [
    "## [로드]제원정보"
   ]
  },
  {
   "cell_type": "code",
   "execution_count": 60,
   "metadata": {},
   "outputs": [
    {
     "name": "stdout",
     "output_type": "stream",
     "text": [
      "(574467, 12)\n",
      "data load : STD_CEG_CAR_SRC_MIG\n"
     ]
    }
   ],
   "source": [
    "# 4.2s\n",
    "src = wd.export_to_pandas(\"SELECT MANP_MNG_NO, FUEL_CD, VHCTY_TY_CD2, MNFCTR_NM, VHCNM, VHCL_FRM, EGIN_TY, VHCTY_CL_CD, TOTL_WGHT, CRYNG_WGHT, DSPLVL, EGIN_OTPT FROM STD_CEG_CAR_SRC_MIG;\")\n",
    "src_ch_col = {\n",
    "    'MANP_MNG_NO':'제원관리번호', \n",
    "    'FUEL_CD':'연료',\n",
    "    'VHCTY_TY_CD2':'차종유형', \n",
    "    'MNFCTR_NM':'제작사명', \n",
    "    'VHCNM':'차명', \n",
    "    'VHCL_FRM':'자동차형식', \n",
    "    'EGIN_TY':'엔진형식', \n",
    "    'VHCTY_CL_CD':'차종분류',\n",
    "    'TOTL_WGHT':'총중량',\n",
    "    'CRYNG_WGHT':'적재중량',\n",
    "    'DSPLVL':'배기량', \n",
    "    'EGIN_OTPT':'엔진출력',\n",
    "}\n",
    "srcr = src.rename(columns=src_ch_col)\n",
    "\n",
    "print(srcr.shape)\n",
    "print('data load : STD_CEG_CAR_SRC_MIG')"
   ]
  },
  {
   "cell_type": "code",
   "execution_count": 66,
   "metadata": {},
   "outputs": [
    {
     "name": "stdout",
     "output_type": "stream",
     "text": [
      "['휘발유' '기타연료' '등유' '전기' '경유' nan 'LPG(액화석유가스)' '휘발유 하이브리드' 'CNG(압축천연가스)'\n",
      " '알코올' '태양열' '경유 하이브리드' 'LPG 하이브리드' '수소' 'LNG(액화천연가스)' 'CNG 하이브리드']\n",
      "['휘발유' '기타연료' '등유' '전기' '경유' '연료_결측값' 'LPG(액화석유가스)' '휘발유 하이브리드'\n",
      " 'CNG(압축천연가스)' '알코올' '태양열' '경유 하이브리드' 'LPG 하이브리드' '수소' 'LNG(액화천연가스)'\n",
      " 'CNG 하이브리드']\n",
      "['대형' '중형' '소형' '경형' nan]\n",
      "['대형' '중형' '소형' '경형' '차종유형_결측값']\n"
     ]
    }
   ],
   "source": [
    "print(srcr['연료'].unique())\n",
    "# 7.9s\n",
    "## 연료 코드 변환\n",
    "fuel_dict = {\n",
    "    'A90GS':'휘발유', \n",
    "    'A91DS':'경유',\n",
    "    'A92LP':'LPG(액화석유가스)', \n",
    "    'A90GH':'휘발유 하이브리드', \n",
    "    'A93EV':'전기', \n",
    "    'A91DH':'경유 하이브리드', \n",
    "    'A92CN':'CNG(압축천연가스)', \n",
    "    'A93HD':'수소', \n",
    "    'A92LH':'LPG 하이브리드', \n",
    "    'A94OT':'기타연료', \n",
    "    'A92CH':'CNG 하이브리드',\n",
    "    'A90AC':'알코올', \n",
    "    'A93SH':'태양열', \n",
    "    'A91KS':'등유', \n",
    "    'A92LN':'LNG(액화천연가스)', \n",
    "    'A90PH':'플러그인 하이브리드', \n",
    "}\n",
    "srcr['연료'] = srcr['연료'].replace(fuel_dict)\n",
    "srcr['연료'] = srcr['연료'].fillna('연료_결측값')\n",
    "print(srcr['연료'].unique())\n",
    "\n",
    "print(srcr['차종유형'].unique())\n",
    "## 차종유형 코드 변환\n",
    "ty_dict = {\n",
    "    'A30C':'경형', \n",
    "    'A30L':'대형', \n",
    "    'A30M':'중형', \n",
    "    'A30S':'소형',\n",
    "}\n",
    "srcr['차종유형'] = srcr['차종유형'].replace(ty_dict)\n",
    "srcr['차종유형'] = srcr['차종유형'].fillna('차종유형_결측값')\n",
    "print(srcr['차종유형'].unique())"
   ]
  },
  {
   "cell_type": "markdown",
   "metadata": {},
   "source": [
    "## 법정동코드"
   ]
  },
  {
   "cell_type": "code",
   "execution_count": 62,
   "metadata": {},
   "outputs": [
    {
     "name": "stdout",
     "output_type": "stream",
     "text": [
      "Index(['법정동코드', '시도', '시군구', '시도코드', '시군구코드'], dtype='object')\n",
      "(47916, 5)\n",
      "data load : STD_BJCD_INFO\n"
     ]
    }
   ],
   "source": [
    "# 1.3s\n",
    "code = wd.export_to_pandas(\"SELECT STDG_CD, STDG_CTPV_NM, STDG_SGG_NM, STDG_CTPV_CD, STDG_SGG_CD FROM STD_BJCD_INFO;\")\n",
    "code_ch_col = {\n",
    "    'STDG_CD':'법정동코드', \n",
    "    'STDG_CTPV_NM':'시도', \n",
    "    'STDG_SGG_NM':'시군구', \n",
    "    'STDG_CTPV_CD':'시도코드',\n",
    "    'STDG_SGG_CD':'시군구코드', \n",
    "}\n",
    "coder = code.rename(columns=code_ch_col)\n",
    "\n",
    "print(coder.columns)\n",
    "print(coder.shape)\n",
    "print('data load : STD_BJCD_INFO')"
   ]
  },
  {
   "cell_type": "markdown",
   "metadata": {},
   "source": [
    "## [로드]LST"
   ]
  },
  {
   "cell_type": "markdown",
   "metadata": {},
   "source": [
    "### from DB"
   ]
  },
  {
   "cell_type": "code",
   "execution_count": 63,
   "metadata": {},
   "outputs": [
    {
     "name": "stdout",
     "output_type": "stream",
     "text": [
      "20231130\n",
      "Index(['원천데이터생성일자', '차량관리번호', '자동차등록번호', '법정동코드', '시도명', '시군구명', '소유자구분', '차종',\n",
      "       '용도', '차대번호', '최초등록일자', '연식', '제작일자', '검사유효일', '배출가스인증번호', '배출가스등급',\n",
      "       '저공해조치종류코드', '구조변경여부', '차량말소여부', '제원관리번호', '차명', '차종분류', '차종유형',\n",
      "       '자동차형식', '제작사명', '연료', '연료_G_명', '엔진형식', '총중량', '적재중량', '엔진출력', '배기량',\n",
      "       '승차정원', '전장', '전폭', '전고', '제작국명', '보훈여부'],\n",
      "      dtype='object')\n",
      "(31367557, 38)\n",
      "data load : STD_CEG_GRD_LST\n"
     ]
    }
   ],
   "source": [
    "# 7m 4.8s\n",
    "# cs_raw = wz.export_to_pandas(\"SELECT * FROM VSYSZ.STD_CEG_GRD_LST WHERE CLS_YMD = (SELECT MAX(CLS_YMD) FROM VSYSZ.STD_CEG_GRD_LST);\") # 최신 12월 31일자\n",
    "cs_raw = wz.export_to_pandas(\"SELECT * FROM VSYSZ.STD_CEG_GRD_LST WHERE CLS_YMD = '20231130';\") # 11월 30일자\n",
    "cs_raw_dict = {\n",
    "    'CLS_YMD':'원천데이터생성일자',\n",
    "\n",
    "    'VIN':'차대번호', \n",
    "    'MANP_MNG_NO':'제원관리번호', \n",
    "    'VHCL_ERSR_YN':'차량말소여부',\n",
    "    'FRST_REG_YMD':'최초등록일자',\n",
    "    'YRIDNW':'연식', \n",
    "    'VHCTY_CD':'차종', \n",
    "    'PURPS_CD2':'용도', \n",
    "    'BSPL_STDG_CD':'법정동코드', \n",
    "    'EXHST_GAS_GRD_CD':'배출가스등급', \n",
    "    'FUEL_CD':'연료',\n",
    "    'MNFCTR_NM':'제작사명', \n",
    "    'VHCTY_TY_CD2':'차종유형', \n",
    "    'VHCNM':'차명', \n",
    "    'VHCL_FRM':'자동차형식', \n",
    "    'EGIN_TY':'엔진형식', \n",
    "    'TOTL_WGHT':'총중량',\n",
    "    'DSPLVL':'배기량', \n",
    "    'EGIN_OTPT':'엔진출력',\n",
    "\n",
    "    'EXHST_GAS_CERT_NO':'배출가스인증번호',\n",
    "    'VHCL_FBCTN_YMD':'제작일자', \n",
    "    'VHCL_MNG_NO':'차량관리번호', \n",
    "    'VHRNO':'자동차등록번호',\n",
    "    'EXTGAS_INSP_VLD_YMD':'검사유효일',\n",
    "    'VHCL_OWNR_CL_CD':'소유자구분',\n",
    "\n",
    "    'VHCTY_CL_CD':'차종분류',\n",
    "    'CRYNG_WGHT':'적재중량',\n",
    "\n",
    "    'STDG_CTPV_NM':'시도명',\n",
    "    'STDG_SGG_NM':'시군구명',\n",
    "    'LEM_KND_CD':'저공해조치종류코드',\n",
    "    'STRCT_CHG_YN':'구조변경여부',\n",
    "    'FUEL_G_NM':'연료_G_명',\n",
    "    'TKCAR_PSCP':'승차정원',\n",
    "    'OVRLH':'전장',\n",
    "    'OVRWD':'전폭',\n",
    "    'OVRHG':'전고',\n",
    "    'FBCTN_NTN_NM':'제작국명',\n",
    "    'BOHUM_YN':'보훈여부',\n",
    "}\n",
    "\n",
    "cs = cs_raw.rename(columns=cs_raw_dict)\n",
    "\n",
    "print(cs['원천데이터생성일자'].unique()[0])\n",
    "print(cs.columns)\n",
    "print(cs.shape)\n",
    "print('data load : STD_CEG_GRD_LST')"
   ]
  },
  {
   "cell_type": "code",
   "execution_count": 64,
   "metadata": {},
   "outputs": [
    {
     "data": {
      "text/plain": [
       "array(['A0505', 'A0504', 'A0503', 'A0502', 'X', 'A0501'], dtype=object)"
      ]
     },
     "execution_count": 64,
     "metadata": {},
     "output_type": "execute_result"
    }
   ],
   "source": [
    "cs['배출가스등급'].unique()"
   ]
  },
  {
   "cell_type": "code",
   "execution_count": 142,
   "metadata": {},
   "outputs": [
    {
     "data": {
      "text/plain": [
       "(31367557, 38)"
      ]
     },
     "execution_count": 142,
     "metadata": {},
     "output_type": "execute_result"
    }
   ],
   "source": [
    "cs.drop_duplicates().shape"
   ]
  },
  {
   "cell_type": "markdown",
   "metadata": {},
   "source": [
    "#### [출력] STD_CEG_GRD_LST"
   ]
  },
  {
   "cell_type": "code",
   "execution_count": 71,
   "metadata": {},
   "outputs": [
    {
     "data": {
      "text/plain": [
       "'20240105_PM_120814'"
      ]
     },
     "execution_count": 71,
     "metadata": {},
     "output_type": "execute_result"
    }
   ],
   "source": [
    "today_date_dtl= datetime.today().strftime('%Y%m%d_%p_%I%M%S')\n",
    "today_date_dtl"
   ]
  },
  {
   "cell_type": "code",
   "execution_count": 72,
   "metadata": {},
   "outputs": [],
   "source": [
    "# # 3m 16.5s\n",
    "# data_date = cs['원천데이터생성일자'].unique()[0]\n",
    "# cs.to_csv(os.path.join(pub_fold, f'STD_CEG_GRD_LST_{data_date}_{today_date_dtl}.csv'), index=False, sep='|')"
   ]
  },
  {
   "cell_type": "markdown",
   "metadata": {},
   "source": [
    "### from csv"
   ]
  },
  {
   "cell_type": "code",
   "execution_count": 73,
   "metadata": {},
   "outputs": [],
   "source": [
    "# # 3m 15.1s\n",
    "# cs_raw_dict = {\n",
    "#     'CLS_YMD':'원천데이터생성일자',\n",
    "    \n",
    "#     'VIN':'차대번호', \n",
    "#     'MANP_MNG_NO':'제원관리번호', \n",
    "#     'VHCL_ERSR_YN':'차량말소여부',\n",
    "#     'FRST_REG_YMD':'최초등록일자',\n",
    "#     'YRIDNW':'연식', \n",
    "#     'VHCTY_CD':'차종', \n",
    "#     'PURPS_CD2':'용도', \n",
    "#     'BSPL_STDG_CD':'법정동코드', \n",
    "#     'EXHST_GAS_GRD_CD':'배출가스등급', \n",
    "#     'FUEL_CD':'연료',\n",
    "#     'MNFCTR_NM':'제작사명', \n",
    "#     'VHCTY_TY_CD2':'차종유형', \n",
    "#     'VHCNM':'차명', \n",
    "#     'VHCL_FRM':'자동차형식', \n",
    "#     'EGIN_TY':'엔진형식', \n",
    "#     'TOTL_WGHT':'총중량',\n",
    "#     'DSPLVL':'배기량', \n",
    "#     'EGIN_OTPT':'엔진출력',\n",
    "\n",
    "#     'EXHST_GAS_CERT_NO':'배출가스인증번호',\n",
    "#     'VHCL_FBCTN_YMD':'제작일자', \n",
    "#     'VHCL_MNG_NO':'차량관리번호', \n",
    "#     'VHRNO':'자동차등록번호',\n",
    "#     'EXTGAS_INSP_VLD_YMD':'검사유효일',\n",
    "#     'VHCL_OWNR_CL_CD':'소유자구분',\n",
    "\n",
    "#     'VHCTY_CL_CD':'차종분류',\n",
    "#     'CRYNG_WGHT':'적재중량',\n",
    "\n",
    "#     'STDG_CTPV_NM':'시도명',\n",
    "#     'STDG_SGG_NM':'시군구명',\n",
    "#     'LEM_KND_CD':'저공해조치종류코드',\n",
    "#     'STRCT_CHG_YN':'구조변경여부',\n",
    "#     'FUEL_G_NM':'연료_G_명',\n",
    "#     'TKCAR_PSCP':'승차정원',\n",
    "#     'OVRLH':'전장',\n",
    "#     'OVRWD':'전폭',\n",
    "#     'OVRHG':'전고',\n",
    "#     'FBCTN_NTN_NM':'제작국명',\n",
    "#     'BOHUM_YN':'보훈여부',\n",
    "# }\n",
    "\n",
    "# name = 'STD_CEG_GRD_LST_20231231_20240105_AM_095035'\n",
    "# file_name = f'{name}.csv'\n",
    "# cs_raw = pd.read_csv(os.path.join(pub_fold, file_name), low_memory=False, usecols=cs_raw_dict.keys())\n",
    "# cs = cs_raw.rename(columns=cs_raw_dict)\n",
    "# print(cs.columns)\n",
    "# print(cs.shape)\n",
    "# print('data load : STD_CEG_GRD_LST')"
   ]
  },
  {
   "cell_type": "code",
   "execution_count": 67,
   "metadata": {},
   "outputs": [
    {
     "name": "stdout",
     "output_type": "stream",
     "text": [
      "['5' '4' '3' '2' '등급_결측값 or X' '1']\n",
      "['5' '4' '3' '2' '등급_결측값 or X' '1']\n",
      "\n",
      "['화물' '승용' '승합' '특수']\n",
      "['화물' '승용' '승합' '특수']\n",
      "\n",
      "['개인용' '영업용' '관용']\n",
      "\n",
      "['주민' '사업자' '법인' '외국인' '기타']\n",
      "['주민' '사업자' '법인' '외국인' '기타']\n",
      "\n",
      "['경유' '휘발유' 'LPG(액화석유가스)' nan '휘발유 하이브리드' '기타연료' 'CNG(압축천연가스)' '전기'\n",
      " 'LPG 하이브리드' '경유 하이브리드' '알코올' '등유' '수소' '태양열' 'LNG(액화천연가스)' 'CNG 하이브리드']\n",
      "['경유' '휘발유' 'LPG(액화석유가스)' '연료_결측값' '휘발유 하이브리드' '기타연료' 'CNG(압축천연가스)' '전기'\n",
      " 'LPG 하이브리드' '경유 하이브리드' '알코올' '등유' '수소' '태양열' 'LNG(액화천연가스)' 'CNG 하이브리드']\n",
      "\n",
      "['소형' '중형' '대형' '경형' nan]\n",
      "['소형' '중형' '대형' '경형' '차종유형_결측값']\n"
     ]
    }
   ],
   "source": [
    "# 31.8s\n",
    "# 코드 변환\n",
    "## 배출가스등급 코드 변환\n",
    "print(cs['배출가스등급'].unique())\n",
    "grd_dict = {\n",
    "    'A0501':'1', \n",
    "    'A0502':'2', \n",
    "    'A0503':'3', \n",
    "    'A0504':'4', \n",
    "    'A0505':'5', \n",
    "    'A05T2':'2',\n",
    "    'A05T3':'3', \n",
    "    'A05T4':'4', \n",
    "    'A05T5':'5', \n",
    "    'A05X':'X', \n",
    "    'X':'등급_결측값 or X'\n",
    "}\n",
    "cs['배출가스등급'] = cs['배출가스등급'].replace(grd_dict)\n",
    "print(cs['배출가스등급'].unique())\n",
    "print()\n",
    "\n",
    "## 차종 코드 변환\n",
    "print(cs['차종'].unique())\n",
    "cd_dict = {\n",
    "    'A31M':'이륜', \n",
    "    'A31P':'승용', \n",
    "    'A31S':'특수', \n",
    "    'A31T':'화물', \n",
    "    'A31V':'승합'\n",
    "}\n",
    "cs['차종'] = cs['차종'].replace(cd_dict)\n",
    "print(cs['차종'].unique())\n",
    "print()\n",
    "\n",
    "## 용도 코드 변환\n",
    "print(cs['용도'].unique())\n",
    "purps_dict = {\n",
    "    'A08P':'개인용', \n",
    "    'A08B':'영업용', \n",
    "    'A08O':'관용',\n",
    "}\n",
    "cs['용도'] = cs['용도'].replace(purps_dict)\n",
    "cs['용도'].unique()\n",
    "print()\n",
    "\n",
    "## 소유자구분 코드 변환\n",
    "print(cs['소유자구분'].unique())\n",
    "ownr_dict = {\n",
    "    # 'A27B':'사업자', \n",
    "    # 'A27F':'외국인', \n",
    "    # 'A27L':'법인', \n",
    "    # 'A27O':'기타', \n",
    "    # 'A27R':'주민', \n",
    "\n",
    "    'A08P':'개인용', \n",
    "    'A08B':'영업용', \n",
    "    'A08O':'관용', \n",
    "}\n",
    "cs['소유자구분'] = cs['소유자구분'].replace(ownr_dict)\n",
    "print(cs['소유자구분'].unique())\n",
    "print()\n",
    "\n",
    "## 연료 코드 변환\n",
    "print(cs['연료'].unique())\n",
    "fuel_dict = {\n",
    "    'A90GS':'휘발유', \n",
    "    'A91DS':'경유',\n",
    "    'A92LP':'LPG(액화석유가스)', \n",
    "    'A90GH':'휘발유 하이브리드', \n",
    "    'A93EV':'전기', \n",
    "    'A91DH':'경유 하이브리드', \n",
    "    'A92CN':'CNG(압축천연가스)', \n",
    "    'A93HD':'수소', \n",
    "    'A92LH':'LPG 하이브리드', \n",
    "    'A94OT':'기타연료', \n",
    "    'A92CH':'CNG 하이브리드',\n",
    "    'A90AC':'알코올', \n",
    "    'A93SH':'태양열', \n",
    "    'A91KS':'등유', \n",
    "    'A92LN':'LNG(액화천연가스)', \n",
    "    'A90PH':'플러그인 하이브리드', \n",
    "}\n",
    "cs['연료'] = cs['연료'].replace(fuel_dict)\n",
    "cs['연료'] = cs['연료'].fillna('연료_결측값')\n",
    "print(cs['연료'].unique())\n",
    "print()\n",
    "\n",
    "## 차종유형 코드 변환\n",
    "print(cs['차종유형'].unique())\n",
    "ty_dict = {\n",
    "    'A30C':'경형', \n",
    "    'A30L':'대형', \n",
    "    'A30M':'중형', \n",
    "    'A30S':'소형',\n",
    "}\n",
    "cs['차종유형'] = cs['차종유형'].replace(ty_dict)\n",
    "cs['차종유형'] = cs['차종유형'].fillna('차종유형_결측값')\n",
    "print(cs['차종유형'].unique())"
   ]
  },
  {
   "cell_type": "markdown",
   "metadata": {},
   "source": [
    "# 전처리"
   ]
  },
  {
   "cell_type": "markdown",
   "metadata": {},
   "source": [
    "## 등록&제원"
   ]
  },
  {
   "cell_type": "code",
   "execution_count": 68,
   "metadata": {},
   "outputs": [
    {
     "data": {
      "text/plain": [
       "(31131025, 26)"
      ]
     },
     "execution_count": 68,
     "metadata": {},
     "output_type": "execute_result"
    }
   ],
   "source": [
    "cs_before = carr.merge(srcr, on='제원관리번호', how='left')\n",
    "cs_before.shape"
   ]
  },
  {
   "cell_type": "code",
   "execution_count": 151,
   "metadata": {},
   "outputs": [
    {
     "data": {
      "text/plain": [
       "array(['경유', '휘발유', 'LPG(액화석유가스)', '휘발유 하이브리드', '기타연료', '전기', '연료_결측값',\n",
       "       'CNG(압축천연가스)', 'LPG 하이브리드', 'CNG 하이브리드', '수소', '경유 하이브리드', '등유',\n",
       "       '태양열', 'LNG(액화천연가스)', nan, '알코올'], dtype=object)"
      ]
     },
     "execution_count": 151,
     "metadata": {},
     "output_type": "execute_result"
    }
   ],
   "source": [
    "cs_before['연료'].unique()"
   ]
  },
  {
   "cell_type": "code",
   "execution_count": 152,
   "metadata": {},
   "outputs": [],
   "source": [
    "cs_before['연료'] = cs_before['연료'].fillna('연료_결측값')"
   ]
  },
  {
   "cell_type": "code",
   "execution_count": 153,
   "metadata": {},
   "outputs": [
    {
     "data": {
      "text/plain": [
       "array(['경유', '휘발유', 'LPG(액화석유가스)', '휘발유 하이브리드', '기타연료', '전기', '연료_결측값',\n",
       "       'CNG(압축천연가스)', 'LPG 하이브리드', 'CNG 하이브리드', '수소', '경유 하이브리드', '등유',\n",
       "       '태양열', 'LNG(액화천연가스)', '알코올'], dtype=object)"
      ]
     },
     "execution_count": 153,
     "metadata": {},
     "output_type": "execute_result"
    }
   ],
   "source": [
    "cs_before['연료'].unique()"
   ]
  },
  {
   "cell_type": "markdown",
   "metadata": {},
   "source": [
    "## 등록&제원&법정동"
   ]
  },
  {
   "cell_type": "code",
   "execution_count": 202,
   "metadata": {},
   "outputs": [
    {
     "data": {
      "text/plain": [
       "0"
      ]
     },
     "execution_count": 202,
     "metadata": {},
     "output_type": "execute_result"
    }
   ],
   "source": [
    "cs_before['법정동코드'].isnull().sum()"
   ]
  },
  {
   "cell_type": "code",
   "execution_count": 203,
   "metadata": {},
   "outputs": [
    {
     "data": {
      "text/plain": [
       "0    2714012300\n",
       "1    2823710800\n",
       "2    4111312700\n",
       "3    3014011000\n",
       "4    4713012500\n",
       "Name: 법정동코드_수정, dtype: object"
      ]
     },
     "execution_count": 203,
     "metadata": {},
     "output_type": "execute_result"
    }
   ],
   "source": [
    "cs_before['법정동코드_수정'] = cs_before['법정동코드'].astype('str')\n",
    "cs_before['법정동코드_수정'].head()"
   ]
  },
  {
   "cell_type": "code",
   "execution_count": 206,
   "metadata": {},
   "outputs": [
    {
     "data": {
      "text/html": [
       "<div>\n",
       "<style scoped>\n",
       "    .dataframe tbody tr th:only-of-type {\n",
       "        vertical-align: middle;\n",
       "    }\n",
       "\n",
       "    .dataframe tbody tr th {\n",
       "        vertical-align: top;\n",
       "    }\n",
       "\n",
       "    .dataframe thead th {\n",
       "        text-align: right;\n",
       "    }\n",
       "</style>\n",
       "<table border=\"1\" class=\"dataframe\">\n",
       "  <thead>\n",
       "    <tr style=\"text-align: right;\">\n",
       "      <th></th>\n",
       "      <th>법정동코드</th>\n",
       "      <th>법정동코드_수정</th>\n",
       "    </tr>\n",
       "  </thead>\n",
       "  <tbody>\n",
       "    <tr>\n",
       "      <th>0</th>\n",
       "      <td>2714012300</td>\n",
       "      <td>2714000000</td>\n",
       "    </tr>\n",
       "    <tr>\n",
       "      <th>1</th>\n",
       "      <td>2823710800</td>\n",
       "      <td>2823700000</td>\n",
       "    </tr>\n",
       "    <tr>\n",
       "      <th>2</th>\n",
       "      <td>4111312700</td>\n",
       "      <td>4111300000</td>\n",
       "    </tr>\n",
       "    <tr>\n",
       "      <th>3</th>\n",
       "      <td>3014011000</td>\n",
       "      <td>3014000000</td>\n",
       "    </tr>\n",
       "    <tr>\n",
       "      <th>4</th>\n",
       "      <td>4713012500</td>\n",
       "      <td>4713000000</td>\n",
       "    </tr>\n",
       "  </tbody>\n",
       "</table>\n",
       "</div>"
      ],
      "text/plain": [
       "        법정동코드    법정동코드_수정\n",
       "0  2714012300  2714000000\n",
       "1  2823710800  2823700000\n",
       "2  4111312700  4111300000\n",
       "3  3014011000  3014000000\n",
       "4  4713012500  4713000000"
      ]
     },
     "execution_count": 206,
     "metadata": {},
     "output_type": "execute_result"
    }
   ],
   "source": [
    "cs_before['법정동코드_수정'] = cs_before['법정동코드_수정'].str[:5] + '00000'\n",
    "cs_before['법정동코드_수정'] = pd.to_numeric(cs_before['법정동코드_수정'], errors='coerce')\n",
    "cs_before[['법정동코드', '법정동코드_수정']].head()"
   ]
  },
  {
   "cell_type": "code",
   "execution_count": 207,
   "metadata": {},
   "outputs": [
    {
     "data": {
      "text/plain": [
       "(31131025, 31)"
      ]
     },
     "execution_count": 207,
     "metadata": {},
     "output_type": "execute_result"
    }
   ],
   "source": [
    "csc_before = cs_before.merge(coder, on='법정동코드', how='left')\n",
    "csc_before.shape"
   ]
  },
  {
   "cell_type": "code",
   "execution_count": 208,
   "metadata": {},
   "outputs": [
    {
     "data": {
      "text/plain": [
       "Index(['차대번호', '법정동코드', '배출가스등급', '배출가스인증번호', '차량말소여부', '제원관리번호', '차량연식', '차종',\n",
       "       '용도', '최초등록일자', '제작일자', '차량관리번호', '자동차등록번호', '검사유효일', '소유자구분', '연료',\n",
       "       '차종유형', '제작사명', '차명', '자동차형식', '엔진형식', '차종분류', '총중량', '적재중량', '배기량',\n",
       "       '엔진출력', '법정동코드_수정', '시도', '시군구', '시도코드', '시군구코드'],\n",
       "      dtype='object')"
      ]
     },
     "execution_count": 208,
     "metadata": {},
     "output_type": "execute_result"
    }
   ],
   "source": [
    "csc_before.columns"
   ]
  },
  {
   "cell_type": "code",
   "execution_count": 209,
   "metadata": {},
   "outputs": [
    {
     "data": {
      "text/plain": [
       "시도     23\n",
       "시군구    49\n",
       "dtype: int64"
      ]
     },
     "execution_count": 209,
     "metadata": {},
     "output_type": "execute_result"
    }
   ],
   "source": [
    "csc_before[['시도', '시군구']].isnull().sum()"
   ]
  },
  {
   "cell_type": "code",
   "execution_count": 210,
   "metadata": {},
   "outputs": [
    {
     "data": {
      "text/plain": [
       "255191      5180031025\n",
       "6001670     5180031033\n",
       "7154406     5180031025\n",
       "7856130     4165052000\n",
       "8692073     5180031028\n",
       "12526574    5180031028\n",
       "12635552    5172035023\n",
       "13737539    5175037022\n",
       "13840652    5172035030\n",
       "14915888    5180031023\n",
       "15418353    5180031027\n",
       "16291706    5180031031\n",
       "16758757    5180031031\n",
       "18306064    5180031023\n",
       "18315819    5180031023\n",
       "18400019    5180031023\n",
       "18680038    5180031031\n",
       "23474359    5172035031\n",
       "30252963    4163055000\n",
       "30721007    5172035024\n",
       "30936586    5172035024\n",
       "31086014    5180031023\n",
       "31125867    5180031031\n",
       "Name: 법정동코드, dtype: int64"
      ]
     },
     "execution_count": 210,
     "metadata": {},
     "output_type": "execute_result"
    }
   ],
   "source": [
    "csc_before.loc[csc_before['시도'].isnull(), '법정동코드']"
   ]
  },
  {
   "cell_type": "code",
   "execution_count": 211,
   "metadata": {},
   "outputs": [
    {
     "data": {
      "text/plain": [
       "True"
      ]
     },
     "execution_count": 211,
     "metadata": {},
     "output_type": "execute_result"
    }
   ],
   "source": [
    "csc_before_codey = csc_before[csc_before['시도'].notnull()]\n",
    "csc_before_coden = csc_before[csc_before['시도'].isnull()]\n",
    "csc_before_codey.shape[0] + csc_before_coden.shape[0] == csc_before.shape[0]"
   ]
  },
  {
   "cell_type": "code",
   "execution_count": 212,
   "metadata": {},
   "outputs": [
    {
     "data": {
      "text/plain": [
       "(23, 31)"
      ]
     },
     "execution_count": 212,
     "metadata": {},
     "output_type": "execute_result"
    }
   ],
   "source": [
    "csc_before_coden.shape"
   ]
  },
  {
   "cell_type": "code",
   "execution_count": 213,
   "metadata": {},
   "outputs": [
    {
     "data": {
      "text/plain": [
       "(23, 26)"
      ]
     },
     "execution_count": 213,
     "metadata": {},
     "output_type": "execute_result"
    }
   ],
   "source": [
    "csc_before_coden = csc_before_coden.drop(['법정동코드', '시도', '시군구', '시도코드', '시군구코드'], axis=1)\n",
    "csc_before_coden.shape"
   ]
  },
  {
   "cell_type": "code",
   "execution_count": 214,
   "metadata": {},
   "outputs": [
    {
     "data": {
      "text/plain": [
       "(23, 31)"
      ]
     },
     "execution_count": 214,
     "metadata": {},
     "output_type": "execute_result"
    }
   ],
   "source": [
    "csc_before_codenm = csc_before_coden.merge(coder, left_on='법정동코드_수정', right_on='법정동코드', how='left')\n",
    "csc_before_codenm.shape"
   ]
  },
  {
   "cell_type": "code",
   "execution_count": 215,
   "metadata": {},
   "outputs": [
    {
     "data": {
      "text/plain": [
       "Index(['차대번호', '배출가스등급', '배출가스인증번호', '차량말소여부', '제원관리번호', '차량연식', '차종', '용도',\n",
       "       '최초등록일자', '제작일자', '차량관리번호', '자동차등록번호', '검사유효일', '소유자구분', '연료', '차종유형',\n",
       "       '제작사명', '차명', '자동차형식', '엔진형식', '차종분류', '총중량', '적재중량', '배기량', '엔진출력',\n",
       "       '법정동코드_수정', '법정동코드', '시도', '시군구', '시도코드', '시군구코드'],\n",
       "      dtype='object')"
      ]
     },
     "execution_count": 215,
     "metadata": {},
     "output_type": "execute_result"
    }
   ],
   "source": [
    "csc_before_codenm.columns"
   ]
  },
  {
   "cell_type": "code",
   "execution_count": 216,
   "metadata": {},
   "outputs": [
    {
     "data": {
      "text/plain": [
       "시도     0\n",
       "시군구    0\n",
       "dtype: int64"
      ]
     },
     "execution_count": 216,
     "metadata": {},
     "output_type": "execute_result"
    }
   ],
   "source": [
    "csc_before_codenm[['시도', '시군구']].isnull().sum()"
   ]
  },
  {
   "cell_type": "code",
   "execution_count": 217,
   "metadata": {},
   "outputs": [
    {
     "data": {
      "text/plain": [
       "(31131025, 31)"
      ]
     },
     "execution_count": 217,
     "metadata": {},
     "output_type": "execute_result"
    }
   ],
   "source": [
    "csc_before = pd.concat([csc_before_codey, csc_before_codenm], ignore_index=True)\n",
    "csc_before.shape # 31131025"
   ]
  },
  {
   "cell_type": "code",
   "execution_count": 218,
   "metadata": {},
   "outputs": [
    {
     "data": {
      "text/plain": [
       "시도      0\n",
       "시군구    26\n",
       "dtype: int64"
      ]
     },
     "execution_count": 218,
     "metadata": {},
     "output_type": "execute_result"
    }
   ],
   "source": [
    "csc_before[['시도', '시군구']].isnull().sum()"
   ]
  },
  {
   "cell_type": "code",
   "execution_count": 219,
   "metadata": {},
   "outputs": [
    {
     "data": {
      "text/html": [
       "<div>\n",
       "<style scoped>\n",
       "    .dataframe tbody tr th:only-of-type {\n",
       "        vertical-align: middle;\n",
       "    }\n",
       "\n",
       "    .dataframe tbody tr th {\n",
       "        vertical-align: top;\n",
       "    }\n",
       "\n",
       "    .dataframe thead th {\n",
       "        text-align: right;\n",
       "    }\n",
       "</style>\n",
       "<table border=\"1\" class=\"dataframe\">\n",
       "  <thead>\n",
       "    <tr style=\"text-align: right;\">\n",
       "      <th></th>\n",
       "      <th>시도</th>\n",
       "      <th>시군구</th>\n",
       "    </tr>\n",
       "  </thead>\n",
       "  <tbody>\n",
       "    <tr>\n",
       "      <th>747535</th>\n",
       "      <td>세종특별자치시</td>\n",
       "      <td>NaN</td>\n",
       "    </tr>\n",
       "    <tr>\n",
       "      <th>770310</th>\n",
       "      <td>세종특별자치시</td>\n",
       "      <td>NaN</td>\n",
       "    </tr>\n",
       "    <tr>\n",
       "      <th>1641011</th>\n",
       "      <td>경기도</td>\n",
       "      <td>NaN</td>\n",
       "    </tr>\n",
       "    <tr>\n",
       "      <th>1800621</th>\n",
       "      <td>세종특별자치시</td>\n",
       "      <td>NaN</td>\n",
       "    </tr>\n",
       "    <tr>\n",
       "      <th>5992843</th>\n",
       "      <td>세종특별자치시</td>\n",
       "      <td>NaN</td>\n",
       "    </tr>\n",
       "    <tr>\n",
       "      <th>6854442</th>\n",
       "      <td>세종특별자치시</td>\n",
       "      <td>NaN</td>\n",
       "    </tr>\n",
       "    <tr>\n",
       "      <th>6886850</th>\n",
       "      <td>세종특별자치시</td>\n",
       "      <td>NaN</td>\n",
       "    </tr>\n",
       "    <tr>\n",
       "      <th>8007877</th>\n",
       "      <td>세종특별자치시</td>\n",
       "      <td>NaN</td>\n",
       "    </tr>\n",
       "    <tr>\n",
       "      <th>8385452</th>\n",
       "      <td>세종특별자치시</td>\n",
       "      <td>NaN</td>\n",
       "    </tr>\n",
       "    <tr>\n",
       "      <th>8961169</th>\n",
       "      <td>세종특별자치시</td>\n",
       "      <td>NaN</td>\n",
       "    </tr>\n",
       "    <tr>\n",
       "      <th>10034974</th>\n",
       "      <td>세종특별자치시</td>\n",
       "      <td>NaN</td>\n",
       "    </tr>\n",
       "    <tr>\n",
       "      <th>10070997</th>\n",
       "      <td>세종특별자치시</td>\n",
       "      <td>NaN</td>\n",
       "    </tr>\n",
       "    <tr>\n",
       "      <th>12315009</th>\n",
       "      <td>세종특별자치시</td>\n",
       "      <td>NaN</td>\n",
       "    </tr>\n",
       "    <tr>\n",
       "      <th>12519298</th>\n",
       "      <td>세종특별자치시</td>\n",
       "      <td>NaN</td>\n",
       "    </tr>\n",
       "    <tr>\n",
       "      <th>13288308</th>\n",
       "      <td>세종특별자치시</td>\n",
       "      <td>NaN</td>\n",
       "    </tr>\n",
       "    <tr>\n",
       "      <th>13643933</th>\n",
       "      <td>세종특별자치시</td>\n",
       "      <td>NaN</td>\n",
       "    </tr>\n",
       "    <tr>\n",
       "      <th>13897739</th>\n",
       "      <td>세종특별자치시</td>\n",
       "      <td>NaN</td>\n",
       "    </tr>\n",
       "    <tr>\n",
       "      <th>14638530</th>\n",
       "      <td>세종특별자치시</td>\n",
       "      <td>NaN</td>\n",
       "    </tr>\n",
       "    <tr>\n",
       "      <th>14784620</th>\n",
       "      <td>세종특별자치시</td>\n",
       "      <td>NaN</td>\n",
       "    </tr>\n",
       "    <tr>\n",
       "      <th>15143369</th>\n",
       "      <td>세종특별자치시</td>\n",
       "      <td>NaN</td>\n",
       "    </tr>\n",
       "    <tr>\n",
       "      <th>17592019</th>\n",
       "      <td>세종특별자치시</td>\n",
       "      <td>NaN</td>\n",
       "    </tr>\n",
       "    <tr>\n",
       "      <th>18638473</th>\n",
       "      <td>세종특별자치시</td>\n",
       "      <td>NaN</td>\n",
       "    </tr>\n",
       "    <tr>\n",
       "      <th>20845000</th>\n",
       "      <td>세종특별자치시</td>\n",
       "      <td>NaN</td>\n",
       "    </tr>\n",
       "    <tr>\n",
       "      <th>29885423</th>\n",
       "      <td>세종특별자치시</td>\n",
       "      <td>NaN</td>\n",
       "    </tr>\n",
       "    <tr>\n",
       "      <th>30136030</th>\n",
       "      <td>세종특별자치시</td>\n",
       "      <td>NaN</td>\n",
       "    </tr>\n",
       "    <tr>\n",
       "      <th>30755678</th>\n",
       "      <td>세종특별자치시</td>\n",
       "      <td>NaN</td>\n",
       "    </tr>\n",
       "  </tbody>\n",
       "</table>\n",
       "</div>"
      ],
      "text/plain": [
       "               시도  시군구\n",
       "747535    세종특별자치시  NaN\n",
       "770310    세종특별자치시  NaN\n",
       "1641011       경기도  NaN\n",
       "1800621   세종특별자치시  NaN\n",
       "5992843   세종특별자치시  NaN\n",
       "6854442   세종특별자치시  NaN\n",
       "6886850   세종특별자치시  NaN\n",
       "8007877   세종특별자치시  NaN\n",
       "8385452   세종특별자치시  NaN\n",
       "8961169   세종특별자치시  NaN\n",
       "10034974  세종특별자치시  NaN\n",
       "10070997  세종특별자치시  NaN\n",
       "12315009  세종특별자치시  NaN\n",
       "12519298  세종특별자치시  NaN\n",
       "13288308  세종특별자치시  NaN\n",
       "13643933  세종특별자치시  NaN\n",
       "13897739  세종특별자치시  NaN\n",
       "14638530  세종특별자치시  NaN\n",
       "14784620  세종특별자치시  NaN\n",
       "15143369  세종특별자치시  NaN\n",
       "17592019  세종특별자치시  NaN\n",
       "18638473  세종특별자치시  NaN\n",
       "20845000  세종특별자치시  NaN\n",
       "29885423  세종특별자치시  NaN\n",
       "30136030  세종특별자치시  NaN\n",
       "30755678  세종특별자치시  NaN"
      ]
     },
     "execution_count": 219,
     "metadata": {},
     "output_type": "execute_result"
    }
   ],
   "source": [
    "csc_before.loc[csc_before['시군구'].isnull(), ['시도', '시군구']]"
   ]
  },
  {
   "cell_type": "markdown",
   "metadata": {},
   "source": [
    "### [출력] 등록&제원"
   ]
  },
  {
   "cell_type": "code",
   "execution_count": 220,
   "metadata": {},
   "outputs": [
    {
     "data": {
      "text/plain": [
       "'20240111_PM_014250'"
      ]
     },
     "execution_count": 220,
     "metadata": {},
     "output_type": "execute_result"
    }
   ],
   "source": [
    "today_date_dtl = datetime.today().strftime('%Y%m%d_%p_%I%M%S')\n",
    "today_date_dtl"
   ]
  },
  {
   "cell_type": "code",
   "execution_count": 221,
   "metadata": {},
   "outputs": [],
   "source": [
    "# 2m 55.7s\n",
    "csc_before.to_csv(os.path.join(pub_fold, f'등록_제원_법정동_전처리완료_{today_date_dtl}.csv'), index=False)"
   ]
  },
  {
   "cell_type": "markdown",
   "metadata": {},
   "source": [
    "### [로드] 등록&제원 전처리 완료 "
   ]
  },
  {
   "cell_type": "code",
   "execution_count": null,
   "metadata": {},
   "outputs": [
    {
     "data": {
      "text/plain": [
       "(31131025, 31)"
      ]
     },
     "execution_count": 6,
     "metadata": {},
     "output_type": "execute_result"
    }
   ],
   "source": [
    "# 2m 55.7s\n",
    "csc_before = pd.read_csv(os.path.join(pub_fold, '등록_제원_법정동_전처리완료_20240105_PM_123234.csv'))\n",
    "csc_before.shape"
   ]
  },
  {
   "cell_type": "code",
   "execution_count": 87,
   "metadata": {},
   "outputs": [
    {
     "data": {
      "text/plain": [
       "차량말소여부\n",
       "N    25895547\n",
       "Y     5235478\n",
       "Name: count, dtype: int64"
      ]
     },
     "execution_count": 87,
     "metadata": {},
     "output_type": "execute_result"
    }
   ],
   "source": [
    "csc_before['차량말소여부'].value_counts(dropna=False)"
   ]
  },
  {
   "cell_type": "code",
   "execution_count": 88,
   "metadata": {},
   "outputs": [
    {
     "data": {
      "text/plain": [
       "17"
      ]
     },
     "execution_count": 88,
     "metadata": {},
     "output_type": "execute_result"
    }
   ],
   "source": [
    "len(csc_before['시도'].unique())"
   ]
  },
  {
   "cell_type": "markdown",
   "metadata": {},
   "source": [
    "## LST"
   ]
  },
  {
   "cell_type": "markdown",
   "metadata": {},
   "source": [
    "### 시도명 수정\n",
    "- 강원도 -> 강원특별자치도\n",
    "- 제주도 -> 제주특별자치도"
   ]
  },
  {
   "cell_type": "code",
   "execution_count": 89,
   "metadata": {},
   "outputs": [
    {
     "name": "stdout",
     "output_type": "stream",
     "text": [
      "['전라남도' '대구광역시' '대전광역시' '강원도' '경상북도' '충청남도' '경상남도' '서울특별시' '부산광역시' '광주광역시'\n",
      " '경기도' '울산광역시' '제주특별자치도' '인천광역시' '충청북도' '전라북도' '세종특별자치시' '강원특별자치도']\n"
     ]
    }
   ],
   "source": [
    "print(cs['시도명'].unique())"
   ]
  },
  {
   "cell_type": "code",
   "execution_count": 90,
   "metadata": {},
   "outputs": [
    {
     "name": "stdout",
     "output_type": "stream",
     "text": [
      "['전라남도' '대구광역시' '대전광역시' '강원특별자치도' '경상북도' '충청남도' '경상남도' '서울특별시' '부산광역시'\n",
      " '광주광역시' '경기도' '울산광역시' '제주특별자치도' '인천광역시' '충청북도' '전라북도' '세종특별자치시']\n"
     ]
    }
   ],
   "source": [
    "cs.loc[cs['시도명'] == '강원도', '시도명'] = '강원특별자치도'\n",
    "cs.loc[cs['시도명'] == '제주도', '시도명'] = '제주특별자치도'\n",
    "print(cs['시도명'].unique())"
   ]
  },
  {
   "cell_type": "code",
   "execution_count": 91,
   "metadata": {},
   "outputs": [
    {
     "data": {
      "text/plain": [
       "17"
      ]
     },
     "execution_count": 91,
     "metadata": {},
     "output_type": "execute_result"
    }
   ],
   "source": [
    "len(cs['시도명'].unique())"
   ]
  },
  {
   "cell_type": "markdown",
   "metadata": {},
   "source": [
    "### [출력] LST"
   ]
  },
  {
   "cell_type": "code",
   "execution_count": 92,
   "metadata": {},
   "outputs": [
    {
     "data": {
      "text/plain": [
       "'20240110_PM_040426'"
      ]
     },
     "execution_count": 92,
     "metadata": {},
     "output_type": "execute_result"
    }
   ],
   "source": [
    "today_date_dtl = datetime.today().strftime('%Y%m%d_%p_%I%M%S')\n",
    "today_date_dtl"
   ]
  },
  {
   "cell_type": "code",
   "execution_count": 93,
   "metadata": {},
   "outputs": [],
   "source": [
    "# 2m 55.3s\n",
    "cs.to_csv(os.path.join(pub_fold, f'CEG_GRD_LST_전처리완료_{today_date_dtl}.csv'), index=False)"
   ]
  },
  {
   "cell_type": "markdown",
   "metadata": {},
   "source": [
    "### [로드] LST 전처리 완료"
   ]
  },
  {
   "cell_type": "code",
   "execution_count": 9,
   "metadata": {},
   "outputs": [
    {
     "data": {
      "text/plain": [
       "(31367557, 38)"
      ]
     },
     "execution_count": 9,
     "metadata": {},
     "output_type": "execute_result"
    }
   ],
   "source": [
    "# 2m 55.3s\n",
    "cs = pd.read_csv(os.path.join(pub_fold, 'CEG_GRD_LST_전처리완료_20240105_PM_123234.csv'))\n",
    "cs.shape"
   ]
  },
  {
   "cell_type": "code",
   "execution_count": 94,
   "metadata": {},
   "outputs": [
    {
     "data": {
      "text/plain": [
       "차량말소여부\n",
       "N    25918267\n",
       "Y     5449290\n",
       "Name: count, dtype: int64"
      ]
     },
     "execution_count": 94,
     "metadata": {},
     "output_type": "execute_result"
    }
   ],
   "source": [
    "cs['차량말소여부'].value_counts(dropna=False)"
   ]
  },
  {
   "cell_type": "markdown",
   "metadata": {},
   "source": [
    "# 분석"
   ]
  },
  {
   "cell_type": "code",
   "execution_count": 222,
   "metadata": {},
   "outputs": [
    {
     "data": {
      "text/plain": [
       "차량말소여부\n",
       "N    25895547\n",
       "Y     5235478\n",
       "Name: count, dtype: int64"
      ]
     },
     "execution_count": 222,
     "metadata": {},
     "output_type": "execute_result"
    }
   ],
   "source": [
    "csc_before['차량말소여부'].value_counts(dropna=False)"
   ]
  },
  {
   "cell_type": "code",
   "execution_count": 223,
   "metadata": {},
   "outputs": [
    {
     "data": {
      "text/plain": [
       "차량말소여부\n",
       "N    25918267\n",
       "Y     5449290\n",
       "Name: count, dtype: int64"
      ]
     },
     "execution_count": 223,
     "metadata": {},
     "output_type": "execute_result"
    }
   ],
   "source": [
    "cs['차량말소여부'].value_counts(dropna=False)"
   ]
  },
  {
   "cell_type": "code",
   "execution_count": 224,
   "metadata": {},
   "outputs": [
    {
     "data": {
      "text/plain": [
       "((31131025, 31), (31367557, 38))"
      ]
     },
     "execution_count": 224,
     "metadata": {},
     "output_type": "execute_result"
    }
   ],
   "source": [
    "csc_before.shape, cs.shape"
   ]
  },
  {
   "cell_type": "markdown",
   "metadata": {},
   "source": [
    "## 차량 현황\n",
    "- 말소여부, 등급, 지역, 연료별 현황"
   ]
  },
  {
   "cell_type": "code",
   "execution_count": 225,
   "metadata": {},
   "outputs": [
    {
     "data": {
      "text/plain": [
       "배출가스등급\n",
       "2              12253589\n",
       "3               9925044\n",
       "1               3432331\n",
       "5               2314350\n",
       "4               1906910\n",
       "등급_결측값 or X     1298801\n",
       "Name: count, dtype: int64"
      ]
     },
     "execution_count": 225,
     "metadata": {},
     "output_type": "execute_result"
    }
   ],
   "source": [
    "csc_before['배출가스등급'].value_counts(dropna=False)"
   ]
  },
  {
   "cell_type": "markdown",
   "metadata": {},
   "source": [
    "### 등록&제원"
   ]
  },
  {
   "cell_type": "code",
   "execution_count": 226,
   "metadata": {},
   "outputs": [],
   "source": [
    "# grp1_before = csc_before.groupby(['차량말소여부', '시도'], dropna=False)['차대번호'].count().reset_index()\n",
    "# grp1_before.loc[grp1_before.shape[0]] = ['합계'] + grp1_before.iloc[:,1:].sum().to_list()\n",
    "# grp1_before['합계'] = grp1_before.iloc[:, 1:].sum(axis=1)\n",
    "# grp1_before # 31131025"
   ]
  },
  {
   "cell_type": "code",
   "execution_count": 227,
   "metadata": {},
   "outputs": [
    {
     "data": {
      "text/html": [
       "<div>\n",
       "<style scoped>\n",
       "    .dataframe tbody tr th:only-of-type {\n",
       "        vertical-align: middle;\n",
       "    }\n",
       "\n",
       "    .dataframe tbody tr th {\n",
       "        vertical-align: top;\n",
       "    }\n",
       "\n",
       "    .dataframe thead th {\n",
       "        text-align: right;\n",
       "    }\n",
       "</style>\n",
       "<table border=\"1\" class=\"dataframe\">\n",
       "  <thead>\n",
       "    <tr style=\"text-align: right;\">\n",
       "      <th></th>\n",
       "      <th>차량말소여부</th>\n",
       "      <th>시도</th>\n",
       "      <th>차량대수</th>\n",
       "    </tr>\n",
       "  </thead>\n",
       "  <tbody>\n",
       "    <tr>\n",
       "      <th>0</th>\n",
       "      <td>N</td>\n",
       "      <td>강원특별자치도</td>\n",
       "      <td>865371.00</td>\n",
       "    </tr>\n",
       "    <tr>\n",
       "      <th>1</th>\n",
       "      <td>N</td>\n",
       "      <td>경기도</td>\n",
       "      <td>6505925.00</td>\n",
       "    </tr>\n",
       "    <tr>\n",
       "      <th>2</th>\n",
       "      <td>N</td>\n",
       "      <td>경상남도</td>\n",
       "      <td>1938726.00</td>\n",
       "    </tr>\n",
       "    <tr>\n",
       "      <th>3</th>\n",
       "      <td>N</td>\n",
       "      <td>경상북도</td>\n",
       "      <td>1531987.00</td>\n",
       "    </tr>\n",
       "    <tr>\n",
       "      <th>4</th>\n",
       "      <td>N</td>\n",
       "      <td>광주광역시</td>\n",
       "      <td>721902.00</td>\n",
       "    </tr>\n",
       "    <tr>\n",
       "      <th>5</th>\n",
       "      <td>N</td>\n",
       "      <td>대구광역시</td>\n",
       "      <td>1256186.00</td>\n",
       "    </tr>\n",
       "    <tr>\n",
       "      <th>6</th>\n",
       "      <td>N</td>\n",
       "      <td>대전광역시</td>\n",
       "      <td>720579.00</td>\n",
       "    </tr>\n",
       "    <tr>\n",
       "      <th>7</th>\n",
       "      <td>N</td>\n",
       "      <td>부산광역시</td>\n",
       "      <td>1524100.00</td>\n",
       "    </tr>\n",
       "    <tr>\n",
       "      <th>8</th>\n",
       "      <td>N</td>\n",
       "      <td>서울특별시</td>\n",
       "      <td>3190988.00</td>\n",
       "    </tr>\n",
       "    <tr>\n",
       "      <th>9</th>\n",
       "      <td>N</td>\n",
       "      <td>세종특별자치시</td>\n",
       "      <td>197786.00</td>\n",
       "    </tr>\n",
       "    <tr>\n",
       "      <th>10</th>\n",
       "      <td>N</td>\n",
       "      <td>울산광역시</td>\n",
       "      <td>598554.00</td>\n",
       "    </tr>\n",
       "    <tr>\n",
       "      <th>11</th>\n",
       "      <td>N</td>\n",
       "      <td>인천광역시</td>\n",
       "      <td>1727278.00</td>\n",
       "    </tr>\n",
       "    <tr>\n",
       "      <th>12</th>\n",
       "      <td>N</td>\n",
       "      <td>전라남도</td>\n",
       "      <td>1246241.00</td>\n",
       "    </tr>\n",
       "    <tr>\n",
       "      <th>13</th>\n",
       "      <td>N</td>\n",
       "      <td>전라북도</td>\n",
       "      <td>991020.00</td>\n",
       "    </tr>\n",
       "    <tr>\n",
       "      <th>14</th>\n",
       "      <td>N</td>\n",
       "      <td>제주특별자치도</td>\n",
       "      <td>702169.00</td>\n",
       "    </tr>\n",
       "    <tr>\n",
       "      <th>15</th>\n",
       "      <td>N</td>\n",
       "      <td>충청남도</td>\n",
       "      <td>1242387.00</td>\n",
       "    </tr>\n",
       "    <tr>\n",
       "      <th>16</th>\n",
       "      <td>N</td>\n",
       "      <td>충청북도</td>\n",
       "      <td>934348.00</td>\n",
       "    </tr>\n",
       "    <tr>\n",
       "      <th>17</th>\n",
       "      <td>Y</td>\n",
       "      <td>강원특별자치도</td>\n",
       "      <td>20819.00</td>\n",
       "    </tr>\n",
       "    <tr>\n",
       "      <th>18</th>\n",
       "      <td>Y</td>\n",
       "      <td>경기도</td>\n",
       "      <td>1498802.00</td>\n",
       "    </tr>\n",
       "    <tr>\n",
       "      <th>19</th>\n",
       "      <td>Y</td>\n",
       "      <td>경상남도</td>\n",
       "      <td>391443.00</td>\n",
       "    </tr>\n",
       "    <tr>\n",
       "      <th>20</th>\n",
       "      <td>Y</td>\n",
       "      <td>경상북도</td>\n",
       "      <td>361320.00</td>\n",
       "    </tr>\n",
       "    <tr>\n",
       "      <th>21</th>\n",
       "      <td>Y</td>\n",
       "      <td>광주광역시</td>\n",
       "      <td>150139.00</td>\n",
       "    </tr>\n",
       "    <tr>\n",
       "      <th>22</th>\n",
       "      <td>Y</td>\n",
       "      <td>대구광역시</td>\n",
       "      <td>261323.00</td>\n",
       "    </tr>\n",
       "    <tr>\n",
       "      <th>23</th>\n",
       "      <td>Y</td>\n",
       "      <td>대전광역시</td>\n",
       "      <td>157404.00</td>\n",
       "    </tr>\n",
       "    <tr>\n",
       "      <th>24</th>\n",
       "      <td>Y</td>\n",
       "      <td>부산광역시</td>\n",
       "      <td>260312.00</td>\n",
       "    </tr>\n",
       "    <tr>\n",
       "      <th>25</th>\n",
       "      <td>Y</td>\n",
       "      <td>서울특별시</td>\n",
       "      <td>567439.00</td>\n",
       "    </tr>\n",
       "    <tr>\n",
       "      <th>26</th>\n",
       "      <td>Y</td>\n",
       "      <td>세종특별자치시</td>\n",
       "      <td>38228.00</td>\n",
       "    </tr>\n",
       "    <tr>\n",
       "      <th>27</th>\n",
       "      <td>Y</td>\n",
       "      <td>울산광역시</td>\n",
       "      <td>107286.00</td>\n",
       "    </tr>\n",
       "    <tr>\n",
       "      <th>28</th>\n",
       "      <td>Y</td>\n",
       "      <td>인천광역시</td>\n",
       "      <td>332810.00</td>\n",
       "    </tr>\n",
       "    <tr>\n",
       "      <th>29</th>\n",
       "      <td>Y</td>\n",
       "      <td>전라남도</td>\n",
       "      <td>264304.00</td>\n",
       "    </tr>\n",
       "    <tr>\n",
       "      <th>30</th>\n",
       "      <td>Y</td>\n",
       "      <td>전라북도</td>\n",
       "      <td>235932.00</td>\n",
       "    </tr>\n",
       "    <tr>\n",
       "      <th>31</th>\n",
       "      <td>Y</td>\n",
       "      <td>제주특별자치도</td>\n",
       "      <td>90021.00</td>\n",
       "    </tr>\n",
       "    <tr>\n",
       "      <th>32</th>\n",
       "      <td>Y</td>\n",
       "      <td>충청남도</td>\n",
       "      <td>288377.00</td>\n",
       "    </tr>\n",
       "    <tr>\n",
       "      <th>33</th>\n",
       "      <td>Y</td>\n",
       "      <td>충청북도</td>\n",
       "      <td>209519.00</td>\n",
       "    </tr>\n",
       "    <tr>\n",
       "      <th>34</th>\n",
       "      <td>합계</td>\n",
       "      <td>NaN</td>\n",
       "      <td>31131025.00</td>\n",
       "    </tr>\n",
       "  </tbody>\n",
       "</table>\n",
       "</div>"
      ],
      "text/plain": [
       "   차량말소여부       시도        차량대수\n",
       "0       N  강원특별자치도   865371.00\n",
       "1       N      경기도  6505925.00\n",
       "2       N     경상남도  1938726.00\n",
       "3       N     경상북도  1531987.00\n",
       "4       N    광주광역시   721902.00\n",
       "5       N    대구광역시  1256186.00\n",
       "6       N    대전광역시   720579.00\n",
       "7       N    부산광역시  1524100.00\n",
       "8       N    서울특별시  3190988.00\n",
       "9       N  세종특별자치시   197786.00\n",
       "10      N    울산광역시   598554.00\n",
       "11      N    인천광역시  1727278.00\n",
       "12      N     전라남도  1246241.00\n",
       "13      N     전라북도   991020.00\n",
       "14      N  제주특별자치도   702169.00\n",
       "15      N     충청남도  1242387.00\n",
       "16      N     충청북도   934348.00\n",
       "17      Y  강원특별자치도    20819.00\n",
       "18      Y      경기도  1498802.00\n",
       "19      Y     경상남도   391443.00\n",
       "20      Y     경상북도   361320.00\n",
       "21      Y    광주광역시   150139.00\n",
       "22      Y    대구광역시   261323.00\n",
       "23      Y    대전광역시   157404.00\n",
       "24      Y    부산광역시   260312.00\n",
       "25      Y    서울특별시   567439.00\n",
       "26      Y  세종특별자치시    38228.00\n",
       "27      Y    울산광역시   107286.00\n",
       "28      Y    인천광역시   332810.00\n",
       "29      Y     전라남도   264304.00\n",
       "30      Y     전라북도   235932.00\n",
       "31      Y  제주특별자치도    90021.00\n",
       "32      Y     충청남도   288377.00\n",
       "33      Y     충청북도   209519.00\n",
       "34     합계      NaN 31131025.00"
      ]
     },
     "execution_count": 227,
     "metadata": {},
     "output_type": "execute_result"
    }
   ],
   "source": [
    "grp1_before = csc_before.groupby(['차량말소여부', '시도'], dropna=False)['차대번호'].count().reset_index()\n",
    "grp1_before.loc[grp1_before.shape[0], ['차량말소여부', '차대번호']] = ['합계', grp1_before['차대번호'].sum()]\n",
    "grp1_before = grp1_before.rename(columns={'차대번호':'차량대수'})\n",
    "grp1_before # 31131025"
   ]
  },
  {
   "cell_type": "code",
   "execution_count": 228,
   "metadata": {},
   "outputs": [],
   "source": [
    "# grp2_before = csc_before.groupby(['차량말소여부', '배출가스등급'], dropna=False)['차대번호'].count().reset_index()\n",
    "# grp2_before.columns = ['차량말소여부', '1', '2', '3', '4', '5', '등급_결측값']\n",
    "# grp2_before.loc[grp2_before.shape[0]] = ['합계'] + grp2_before.iloc[:,1:].sum().to_list()\n",
    "# grp2_before['합계'] = grp2_before.iloc[:, 1:].sum(axis=1)\n",
    "# grp2_before # 31131025"
   ]
  },
  {
   "cell_type": "code",
   "execution_count": 229,
   "metadata": {},
   "outputs": [
    {
     "data": {
      "text/html": [
       "<div>\n",
       "<style scoped>\n",
       "    .dataframe tbody tr th:only-of-type {\n",
       "        vertical-align: middle;\n",
       "    }\n",
       "\n",
       "    .dataframe tbody tr th {\n",
       "        vertical-align: top;\n",
       "    }\n",
       "\n",
       "    .dataframe thead th {\n",
       "        text-align: right;\n",
       "    }\n",
       "</style>\n",
       "<table border=\"1\" class=\"dataframe\">\n",
       "  <thead>\n",
       "    <tr style=\"text-align: right;\">\n",
       "      <th></th>\n",
       "      <th>차량말소여부</th>\n",
       "      <th>배출가스등급</th>\n",
       "      <th>차량대수</th>\n",
       "    </tr>\n",
       "  </thead>\n",
       "  <tbody>\n",
       "    <tr>\n",
       "      <th>0</th>\n",
       "      <td>N</td>\n",
       "      <td>1</td>\n",
       "      <td>3260843.00</td>\n",
       "    </tr>\n",
       "    <tr>\n",
       "      <th>1</th>\n",
       "      <td>N</td>\n",
       "      <td>2</td>\n",
       "      <td>10929631.00</td>\n",
       "    </tr>\n",
       "    <tr>\n",
       "      <th>2</th>\n",
       "      <td>N</td>\n",
       "      <td>3</td>\n",
       "      <td>8185490.00</td>\n",
       "    </tr>\n",
       "    <tr>\n",
       "      <th>3</th>\n",
       "      <td>N</td>\n",
       "      <td>4</td>\n",
       "      <td>1335156.00</td>\n",
       "    </tr>\n",
       "    <tr>\n",
       "      <th>4</th>\n",
       "      <td>N</td>\n",
       "      <td>5</td>\n",
       "      <td>923641.00</td>\n",
       "    </tr>\n",
       "    <tr>\n",
       "      <th>5</th>\n",
       "      <td>N</td>\n",
       "      <td>등급_결측값 or X</td>\n",
       "      <td>1260786.00</td>\n",
       "    </tr>\n",
       "    <tr>\n",
       "      <th>6</th>\n",
       "      <td>Y</td>\n",
       "      <td>1</td>\n",
       "      <td>171488.00</td>\n",
       "    </tr>\n",
       "    <tr>\n",
       "      <th>7</th>\n",
       "      <td>Y</td>\n",
       "      <td>2</td>\n",
       "      <td>1323958.00</td>\n",
       "    </tr>\n",
       "    <tr>\n",
       "      <th>8</th>\n",
       "      <td>Y</td>\n",
       "      <td>3</td>\n",
       "      <td>1739554.00</td>\n",
       "    </tr>\n",
       "    <tr>\n",
       "      <th>9</th>\n",
       "      <td>Y</td>\n",
       "      <td>4</td>\n",
       "      <td>571754.00</td>\n",
       "    </tr>\n",
       "    <tr>\n",
       "      <th>10</th>\n",
       "      <td>Y</td>\n",
       "      <td>5</td>\n",
       "      <td>1390709.00</td>\n",
       "    </tr>\n",
       "    <tr>\n",
       "      <th>11</th>\n",
       "      <td>Y</td>\n",
       "      <td>등급_결측값 or X</td>\n",
       "      <td>38015.00</td>\n",
       "    </tr>\n",
       "    <tr>\n",
       "      <th>12</th>\n",
       "      <td>합계</td>\n",
       "      <td>NaN</td>\n",
       "      <td>31131025.00</td>\n",
       "    </tr>\n",
       "  </tbody>\n",
       "</table>\n",
       "</div>"
      ],
      "text/plain": [
       "   차량말소여부       배출가스등급        차량대수\n",
       "0       N            1  3260843.00\n",
       "1       N            2 10929631.00\n",
       "2       N            3  8185490.00\n",
       "3       N            4  1335156.00\n",
       "4       N            5   923641.00\n",
       "5       N  등급_결측값 or X  1260786.00\n",
       "6       Y            1   171488.00\n",
       "7       Y            2  1323958.00\n",
       "8       Y            3  1739554.00\n",
       "9       Y            4   571754.00\n",
       "10      Y            5  1390709.00\n",
       "11      Y  등급_결측값 or X    38015.00\n",
       "12     합계          NaN 31131025.00"
      ]
     },
     "execution_count": 229,
     "metadata": {},
     "output_type": "execute_result"
    }
   ],
   "source": [
    "grp2_before = csc_before.groupby(['차량말소여부', '배출가스등급'], dropna=False)['차대번호'].count().reset_index()\n",
    "grp2_before.loc[grp2_before.shape[0], ['차량말소여부', '차대번호']] = ['합계', grp2_before['차대번호'].sum()]\n",
    "grp2_before = grp2_before.rename(columns={'차대번호':'차량대수'})\n",
    "grp2_before # 31131025"
   ]
  },
  {
   "cell_type": "code",
   "execution_count": 230,
   "metadata": {},
   "outputs": [],
   "source": [
    "# grp2_before.columns"
   ]
  },
  {
   "cell_type": "code",
   "execution_count": 231,
   "metadata": {},
   "outputs": [],
   "source": [
    "# grp3_before = csc_before.groupby(['차량말소여부', '시도', '배출가스등급'], dropna=False)['차대번호'].count().unstack('배출가스등급').reset_index()\n",
    "# grp3_before.columns = ['차량말소여부', '시도', '1', '2', '3', '4', '5', '등급_결측값']\n",
    "# grp3_before.loc[grp3_before.shape[0], ['차량말소여부', '1', '2', '3', '4', '5', '등급_결측값']] = ['합계', grp3_before['1'].sum(), grp3_before['2'].sum(), grp3_before['3'].sum(), grp3_before['4'].sum(), grp3_before['5'].sum(), grp3_before['등급_결측값'].sum()]\n",
    "# grp3_before['합계'] = grp3_before.iloc[:, 2:].sum(axis=1)\n",
    "# grp3_before # 31131025"
   ]
  },
  {
   "cell_type": "code",
   "execution_count": 232,
   "metadata": {},
   "outputs": [
    {
     "data": {
      "text/html": [
       "<div>\n",
       "<style scoped>\n",
       "    .dataframe tbody tr th:only-of-type {\n",
       "        vertical-align: middle;\n",
       "    }\n",
       "\n",
       "    .dataframe tbody tr th {\n",
       "        vertical-align: top;\n",
       "    }\n",
       "\n",
       "    .dataframe thead th {\n",
       "        text-align: right;\n",
       "    }\n",
       "</style>\n",
       "<table border=\"1\" class=\"dataframe\">\n",
       "  <thead>\n",
       "    <tr style=\"text-align: right;\">\n",
       "      <th></th>\n",
       "      <th>차량말소여부</th>\n",
       "      <th>시도</th>\n",
       "      <th>배출가스등급</th>\n",
       "      <th>차량대수</th>\n",
       "    </tr>\n",
       "  </thead>\n",
       "  <tbody>\n",
       "    <tr>\n",
       "      <th>0</th>\n",
       "      <td>N</td>\n",
       "      <td>강원특별자치도</td>\n",
       "      <td>1</td>\n",
       "      <td>93671.00</td>\n",
       "    </tr>\n",
       "    <tr>\n",
       "      <th>1</th>\n",
       "      <td>N</td>\n",
       "      <td>강원특별자치도</td>\n",
       "      <td>2</td>\n",
       "      <td>353126.00</td>\n",
       "    </tr>\n",
       "    <tr>\n",
       "      <th>2</th>\n",
       "      <td>N</td>\n",
       "      <td>강원특별자치도</td>\n",
       "      <td>3</td>\n",
       "      <td>295897.00</td>\n",
       "    </tr>\n",
       "    <tr>\n",
       "      <th>3</th>\n",
       "      <td>N</td>\n",
       "      <td>강원특별자치도</td>\n",
       "      <td>4</td>\n",
       "      <td>48886.00</td>\n",
       "    </tr>\n",
       "    <tr>\n",
       "      <th>4</th>\n",
       "      <td>N</td>\n",
       "      <td>강원특별자치도</td>\n",
       "      <td>5</td>\n",
       "      <td>36684.00</td>\n",
       "    </tr>\n",
       "    <tr>\n",
       "      <th>...</th>\n",
       "      <td>...</td>\n",
       "      <td>...</td>\n",
       "      <td>...</td>\n",
       "      <td>...</td>\n",
       "    </tr>\n",
       "    <tr>\n",
       "      <th>200</th>\n",
       "      <td>Y</td>\n",
       "      <td>충청북도</td>\n",
       "      <td>3</td>\n",
       "      <td>60451.00</td>\n",
       "    </tr>\n",
       "    <tr>\n",
       "      <th>201</th>\n",
       "      <td>Y</td>\n",
       "      <td>충청북도</td>\n",
       "      <td>4</td>\n",
       "      <td>23292.00</td>\n",
       "    </tr>\n",
       "    <tr>\n",
       "      <th>202</th>\n",
       "      <td>Y</td>\n",
       "      <td>충청북도</td>\n",
       "      <td>5</td>\n",
       "      <td>72013.00</td>\n",
       "    </tr>\n",
       "    <tr>\n",
       "      <th>203</th>\n",
       "      <td>Y</td>\n",
       "      <td>충청북도</td>\n",
       "      <td>등급_결측값 or X</td>\n",
       "      <td>960.00</td>\n",
       "    </tr>\n",
       "    <tr>\n",
       "      <th>204</th>\n",
       "      <td>합계</td>\n",
       "      <td>NaN</td>\n",
       "      <td>NaN</td>\n",
       "      <td>31131025.00</td>\n",
       "    </tr>\n",
       "  </tbody>\n",
       "</table>\n",
       "<p>205 rows × 4 columns</p>\n",
       "</div>"
      ],
      "text/plain": [
       "    차량말소여부       시도       배출가스등급        차량대수\n",
       "0        N  강원특별자치도            1    93671.00\n",
       "1        N  강원특별자치도            2   353126.00\n",
       "2        N  강원특별자치도            3   295897.00\n",
       "3        N  강원특별자치도            4    48886.00\n",
       "4        N  강원특별자치도            5    36684.00\n",
       "..     ...      ...          ...         ...\n",
       "200      Y     충청북도            3    60451.00\n",
       "201      Y     충청북도            4    23292.00\n",
       "202      Y     충청북도            5    72013.00\n",
       "203      Y     충청북도  등급_결측값 or X      960.00\n",
       "204     합계      NaN          NaN 31131025.00\n",
       "\n",
       "[205 rows x 4 columns]"
      ]
     },
     "execution_count": 232,
     "metadata": {},
     "output_type": "execute_result"
    }
   ],
   "source": [
    "grp3_before = csc_before.groupby(['차량말소여부', '시도', '배출가스등급'], dropna=False)['차대번호'].count().reset_index()\n",
    "grp3_before.loc[grp3_before.shape[0], ['차량말소여부', '차대번호']] = ['합계', grp3_before['차대번호'].sum()]\n",
    "grp3_before = grp3_before.rename(columns={'차대번호':'차량대수'})\n",
    "grp3_before # 31131025"
   ]
  },
  {
   "cell_type": "code",
   "execution_count": 233,
   "metadata": {},
   "outputs": [],
   "source": [
    "# grp4_before = csc_before.groupby(['차량말소여부', '연료', '배출가스등급'], dropna=False)['차대번호'].count().unstack('배출가스등급').reset_index()\n",
    "# grp4_before.columns = ['차량말소여부', '연료', '1', '2', '3', '4', '5', '등급_결측값']\n",
    "# grp4_before.loc[grp4_before.shape[0], ['차량말소여부', '1', '2', '3', '4', '5', '등급_결측값']] = ['합계', grp4_before['1'].sum(), grp4_before['2'].sum(), grp4_before['3'].sum(), grp4_before['4'].sum(), grp4_before['5'].sum(), grp4_before['등급_결측값'].sum()]\n",
    "# grp4_before['합계'] = grp4_before.iloc[:, 2:].sum(axis=1)\n",
    "# grp4_before # 31131025"
   ]
  },
  {
   "cell_type": "code",
   "execution_count": 263,
   "metadata": {},
   "outputs": [
    {
     "data": {
      "text/plain": [
       "array(['경유', '휘발유', 'LPG(액화석유가스)', '휘발유 하이브리드', '기타연료', '전기', '연료_결측값',\n",
       "       'CNG(압축천연가스)', 'LPG 하이브리드', 'CNG 하이브리드', '수소', '경유 하이브리드', '등유',\n",
       "       '태양열', 'LNG(액화천연가스)', '알코올'], dtype=object)"
      ]
     },
     "execution_count": 263,
     "metadata": {},
     "output_type": "execute_result"
    }
   ],
   "source": [
    "csc_before['연료'].unique()"
   ]
  },
  {
   "cell_type": "code",
   "execution_count": 234,
   "metadata": {},
   "outputs": [
    {
     "data": {
      "text/html": [
       "<div>\n",
       "<style scoped>\n",
       "    .dataframe tbody tr th:only-of-type {\n",
       "        vertical-align: middle;\n",
       "    }\n",
       "\n",
       "    .dataframe tbody tr th {\n",
       "        vertical-align: top;\n",
       "    }\n",
       "\n",
       "    .dataframe thead th {\n",
       "        text-align: right;\n",
       "    }\n",
       "</style>\n",
       "<table border=\"1\" class=\"dataframe\">\n",
       "  <thead>\n",
       "    <tr style=\"text-align: right;\">\n",
       "      <th></th>\n",
       "      <th>차량말소여부</th>\n",
       "      <th>연료</th>\n",
       "      <th>배출가스등급</th>\n",
       "      <th>차량대수</th>\n",
       "    </tr>\n",
       "  </thead>\n",
       "  <tbody>\n",
       "    <tr>\n",
       "      <th>0</th>\n",
       "      <td>N</td>\n",
       "      <td>CNG 하이브리드</td>\n",
       "      <td>1</td>\n",
       "      <td>269.00</td>\n",
       "    </tr>\n",
       "    <tr>\n",
       "      <th>1</th>\n",
       "      <td>N</td>\n",
       "      <td>CNG 하이브리드</td>\n",
       "      <td>2</td>\n",
       "      <td>17.00</td>\n",
       "    </tr>\n",
       "    <tr>\n",
       "      <th>2</th>\n",
       "      <td>N</td>\n",
       "      <td>CNG(압축천연가스)</td>\n",
       "      <td>2</td>\n",
       "      <td>22139.00</td>\n",
       "    </tr>\n",
       "    <tr>\n",
       "      <th>3</th>\n",
       "      <td>N</td>\n",
       "      <td>CNG(압축천연가스)</td>\n",
       "      <td>3</td>\n",
       "      <td>3905.00</td>\n",
       "    </tr>\n",
       "    <tr>\n",
       "      <th>4</th>\n",
       "      <td>N</td>\n",
       "      <td>CNG(압축천연가스)</td>\n",
       "      <td>4</td>\n",
       "      <td>1.00</td>\n",
       "    </tr>\n",
       "    <tr>\n",
       "      <th>...</th>\n",
       "      <td>...</td>\n",
       "      <td>...</td>\n",
       "      <td>...</td>\n",
       "      <td>...</td>\n",
       "    </tr>\n",
       "    <tr>\n",
       "      <th>90</th>\n",
       "      <td>Y</td>\n",
       "      <td>휘발유</td>\n",
       "      <td>등급_결측값 or X</td>\n",
       "      <td>16962.00</td>\n",
       "    </tr>\n",
       "    <tr>\n",
       "      <th>91</th>\n",
       "      <td>Y</td>\n",
       "      <td>휘발유 하이브리드</td>\n",
       "      <td>1</td>\n",
       "      <td>33400.00</td>\n",
       "    </tr>\n",
       "    <tr>\n",
       "      <th>92</th>\n",
       "      <td>Y</td>\n",
       "      <td>휘발유 하이브리드</td>\n",
       "      <td>2</td>\n",
       "      <td>743.00</td>\n",
       "    </tr>\n",
       "    <tr>\n",
       "      <th>93</th>\n",
       "      <td>Y</td>\n",
       "      <td>휘발유 하이브리드</td>\n",
       "      <td>등급_결측값 or X</td>\n",
       "      <td>1954.00</td>\n",
       "    </tr>\n",
       "    <tr>\n",
       "      <th>94</th>\n",
       "      <td>합계</td>\n",
       "      <td>NaN</td>\n",
       "      <td>NaN</td>\n",
       "      <td>31131025.00</td>\n",
       "    </tr>\n",
       "  </tbody>\n",
       "</table>\n",
       "<p>95 rows × 4 columns</p>\n",
       "</div>"
      ],
      "text/plain": [
       "   차량말소여부           연료       배출가스등급        차량대수\n",
       "0       N    CNG 하이브리드            1      269.00\n",
       "1       N    CNG 하이브리드            2       17.00\n",
       "2       N  CNG(압축천연가스)            2    22139.00\n",
       "3       N  CNG(압축천연가스)            3     3905.00\n",
       "4       N  CNG(압축천연가스)            4        1.00\n",
       "..    ...          ...          ...         ...\n",
       "90      Y          휘발유  등급_결측값 or X    16962.00\n",
       "91      Y    휘발유 하이브리드            1    33400.00\n",
       "92      Y    휘발유 하이브리드            2      743.00\n",
       "93      Y    휘발유 하이브리드  등급_결측값 or X     1954.00\n",
       "94     합계          NaN          NaN 31131025.00\n",
       "\n",
       "[95 rows x 4 columns]"
      ]
     },
     "execution_count": 234,
     "metadata": {},
     "output_type": "execute_result"
    }
   ],
   "source": [
    "grp4_before = csc_before.groupby(['차량말소여부', '연료', '배출가스등급'], dropna=False)['차대번호'].count().reset_index()\n",
    "grp4_before.loc[grp4_before.shape[0], ['차량말소여부', '차대번호']] = ['합계', grp4_before['차대번호'].sum()]\n",
    "grp4_before = grp4_before.rename(columns={'차대번호':'차량대수'})\n",
    "grp4_before # 31131025"
   ]
  },
  {
   "cell_type": "code",
   "execution_count": 235,
   "metadata": {},
   "outputs": [
    {
     "data": {
      "text/plain": [
       "(array(['N', 'Y', '합계'], dtype=object),\n",
       " array(['CNG 하이브리드', 'CNG(압축천연가스)', 'LNG(액화천연가스)', 'LPG 하이브리드',\n",
       "        'LPG(액화석유가스)', '경유', '경유 하이브리드', '기타연료', '등유', '수소', '알코올',\n",
       "        '연료_결측값', '전기', '태양열', '휘발유', '휘발유 하이브리드', nan], dtype=object),\n",
       " array(['1', '2', '3', '4', '5', '등급_결측값 or X', nan], dtype=object))"
      ]
     },
     "execution_count": 235,
     "metadata": {},
     "output_type": "execute_result"
    }
   ],
   "source": [
    "grp4_before['차량말소여부'].unique(), grp4_before['연료'].unique(), grp4_before['배출가스등급'].unique()"
   ]
  },
  {
   "cell_type": "markdown",
   "metadata": {},
   "source": [
    "#### 출력-통계 등록&제원"
   ]
  },
  {
   "cell_type": "code",
   "execution_count": 182,
   "metadata": {},
   "outputs": [
    {
     "data": {
      "text/plain": [
       "'20240110_PM_050427'"
      ]
     },
     "execution_count": 182,
     "metadata": {},
     "output_type": "execute_result"
    }
   ],
   "source": [
    "today_date_dtl = datetime.today().strftime('%Y%m%d_%p_%I%M%S')\n",
    "today_date_dtl"
   ]
  },
  {
   "cell_type": "code",
   "execution_count": 183,
   "metadata": {},
   "outputs": [],
   "source": [
    "with pd.ExcelWriter(os.path.join(df_fold, f'기존등록제원_통계_{today_date_dtl}.xlsx')) as writer:\n",
    "    grp1_before.to_excel(writer, sheet_name='말소_시도별', index=False)\n",
    "    grp2_before.to_excel(writer, sheet_name='말소_등급별', index=False)\n",
    "    grp3_before.to_excel(writer, sheet_name='말소_시도_등급별', index=False)\n",
    "    grp4_before.to_excel(writer, sheet_name='말소_연료_등급별', index=False)"
   ]
  },
  {
   "cell_type": "markdown",
   "metadata": {},
   "source": [
    "### LST"
   ]
  },
  {
   "cell_type": "code",
   "execution_count": 236,
   "metadata": {},
   "outputs": [
    {
     "data": {
      "text/plain": [
       "(31367557, 38)"
      ]
     },
     "execution_count": 236,
     "metadata": {},
     "output_type": "execute_result"
    }
   ],
   "source": [
    "cs.shape"
   ]
  },
  {
   "cell_type": "code",
   "execution_count": 237,
   "metadata": {},
   "outputs": [],
   "source": [
    "# grp1 = cs.groupby(['차량말소여부', '시도명'], dropna=False)['차대번호'].count().unstack('시도명').reset_index()\n",
    "# grp1.loc[grp1.shape[0]] = ['합계'] + grp1.iloc[:,1:].sum().to_list()\n",
    "# grp1['합계'] = grp1.iloc[:, 1:].sum(axis=1)\n",
    "# grp1 # 31367557"
   ]
  },
  {
   "cell_type": "code",
   "execution_count": 238,
   "metadata": {},
   "outputs": [
    {
     "data": {
      "text/html": [
       "<div>\n",
       "<style scoped>\n",
       "    .dataframe tbody tr th:only-of-type {\n",
       "        vertical-align: middle;\n",
       "    }\n",
       "\n",
       "    .dataframe tbody tr th {\n",
       "        vertical-align: top;\n",
       "    }\n",
       "\n",
       "    .dataframe thead th {\n",
       "        text-align: right;\n",
       "    }\n",
       "</style>\n",
       "<table border=\"1\" class=\"dataframe\">\n",
       "  <thead>\n",
       "    <tr style=\"text-align: right;\">\n",
       "      <th></th>\n",
       "      <th>차량말소여부</th>\n",
       "      <th>시도명</th>\n",
       "      <th>차량대수</th>\n",
       "    </tr>\n",
       "  </thead>\n",
       "  <tbody>\n",
       "    <tr>\n",
       "      <th>0</th>\n",
       "      <td>N</td>\n",
       "      <td>강원특별자치도</td>\n",
       "      <td>865992.00</td>\n",
       "    </tr>\n",
       "    <tr>\n",
       "      <th>1</th>\n",
       "      <td>N</td>\n",
       "      <td>경기도</td>\n",
       "      <td>6515691.00</td>\n",
       "    </tr>\n",
       "    <tr>\n",
       "      <th>2</th>\n",
       "      <td>N</td>\n",
       "      <td>경상남도</td>\n",
       "      <td>1941447.00</td>\n",
       "    </tr>\n",
       "    <tr>\n",
       "      <th>3</th>\n",
       "      <td>N</td>\n",
       "      <td>경상북도</td>\n",
       "      <td>1532871.00</td>\n",
       "    </tr>\n",
       "    <tr>\n",
       "      <th>4</th>\n",
       "      <td>N</td>\n",
       "      <td>광주광역시</td>\n",
       "      <td>722685.00</td>\n",
       "    </tr>\n",
       "    <tr>\n",
       "      <th>5</th>\n",
       "      <td>N</td>\n",
       "      <td>대구광역시</td>\n",
       "      <td>1256901.00</td>\n",
       "    </tr>\n",
       "    <tr>\n",
       "      <th>6</th>\n",
       "      <td>N</td>\n",
       "      <td>대전광역시</td>\n",
       "      <td>721575.00</td>\n",
       "    </tr>\n",
       "    <tr>\n",
       "      <th>7</th>\n",
       "      <td>N</td>\n",
       "      <td>부산광역시</td>\n",
       "      <td>1525701.00</td>\n",
       "    </tr>\n",
       "    <tr>\n",
       "      <th>8</th>\n",
       "      <td>N</td>\n",
       "      <td>서울특별시</td>\n",
       "      <td>3191576.00</td>\n",
       "    </tr>\n",
       "    <tr>\n",
       "      <th>9</th>\n",
       "      <td>N</td>\n",
       "      <td>세종특별자치시</td>\n",
       "      <td>197870.00</td>\n",
       "    </tr>\n",
       "    <tr>\n",
       "      <th>10</th>\n",
       "      <td>N</td>\n",
       "      <td>울산광역시</td>\n",
       "      <td>598936.00</td>\n",
       "    </tr>\n",
       "    <tr>\n",
       "      <th>11</th>\n",
       "      <td>N</td>\n",
       "      <td>인천광역시</td>\n",
       "      <td>1726651.00</td>\n",
       "    </tr>\n",
       "    <tr>\n",
       "      <th>12</th>\n",
       "      <td>N</td>\n",
       "      <td>전라남도</td>\n",
       "      <td>1247142.00</td>\n",
       "    </tr>\n",
       "    <tr>\n",
       "      <th>13</th>\n",
       "      <td>N</td>\n",
       "      <td>전라북도</td>\n",
       "      <td>991762.00</td>\n",
       "    </tr>\n",
       "    <tr>\n",
       "      <th>14</th>\n",
       "      <td>N</td>\n",
       "      <td>제주특별자치도</td>\n",
       "      <td>702619.00</td>\n",
       "    </tr>\n",
       "    <tr>\n",
       "      <th>15</th>\n",
       "      <td>N</td>\n",
       "      <td>충청남도</td>\n",
       "      <td>1243436.00</td>\n",
       "    </tr>\n",
       "    <tr>\n",
       "      <th>16</th>\n",
       "      <td>N</td>\n",
       "      <td>충청북도</td>\n",
       "      <td>935412.00</td>\n",
       "    </tr>\n",
       "    <tr>\n",
       "      <th>17</th>\n",
       "      <td>Y</td>\n",
       "      <td>강원특별자치도</td>\n",
       "      <td>199834.00</td>\n",
       "    </tr>\n",
       "    <tr>\n",
       "      <th>18</th>\n",
       "      <td>Y</td>\n",
       "      <td>경기도</td>\n",
       "      <td>1509659.00</td>\n",
       "    </tr>\n",
       "    <tr>\n",
       "      <th>19</th>\n",
       "      <td>Y</td>\n",
       "      <td>경상남도</td>\n",
       "      <td>393882.00</td>\n",
       "    </tr>\n",
       "    <tr>\n",
       "      <th>20</th>\n",
       "      <td>Y</td>\n",
       "      <td>경상북도</td>\n",
       "      <td>363617.00</td>\n",
       "    </tr>\n",
       "    <tr>\n",
       "      <th>21</th>\n",
       "      <td>Y</td>\n",
       "      <td>광주광역시</td>\n",
       "      <td>151047.00</td>\n",
       "    </tr>\n",
       "    <tr>\n",
       "      <th>22</th>\n",
       "      <td>Y</td>\n",
       "      <td>대구광역시</td>\n",
       "      <td>262859.00</td>\n",
       "    </tr>\n",
       "    <tr>\n",
       "      <th>23</th>\n",
       "      <td>Y</td>\n",
       "      <td>대전광역시</td>\n",
       "      <td>158342.00</td>\n",
       "    </tr>\n",
       "    <tr>\n",
       "      <th>24</th>\n",
       "      <td>Y</td>\n",
       "      <td>부산광역시</td>\n",
       "      <td>261996.00</td>\n",
       "    </tr>\n",
       "    <tr>\n",
       "      <th>25</th>\n",
       "      <td>Y</td>\n",
       "      <td>서울특별시</td>\n",
       "      <td>571182.00</td>\n",
       "    </tr>\n",
       "    <tr>\n",
       "      <th>26</th>\n",
       "      <td>Y</td>\n",
       "      <td>세종특별자치시</td>\n",
       "      <td>38665.00</td>\n",
       "    </tr>\n",
       "    <tr>\n",
       "      <th>27</th>\n",
       "      <td>Y</td>\n",
       "      <td>울산광역시</td>\n",
       "      <td>108047.00</td>\n",
       "    </tr>\n",
       "    <tr>\n",
       "      <th>28</th>\n",
       "      <td>Y</td>\n",
       "      <td>인천광역시</td>\n",
       "      <td>335052.00</td>\n",
       "    </tr>\n",
       "    <tr>\n",
       "      <th>29</th>\n",
       "      <td>Y</td>\n",
       "      <td>전라남도</td>\n",
       "      <td>266001.00</td>\n",
       "    </tr>\n",
       "    <tr>\n",
       "      <th>30</th>\n",
       "      <td>Y</td>\n",
       "      <td>전라북도</td>\n",
       "      <td>237423.00</td>\n",
       "    </tr>\n",
       "    <tr>\n",
       "      <th>31</th>\n",
       "      <td>Y</td>\n",
       "      <td>제주특별자치도</td>\n",
       "      <td>90658.00</td>\n",
       "    </tr>\n",
       "    <tr>\n",
       "      <th>32</th>\n",
       "      <td>Y</td>\n",
       "      <td>충청남도</td>\n",
       "      <td>290228.00</td>\n",
       "    </tr>\n",
       "    <tr>\n",
       "      <th>33</th>\n",
       "      <td>Y</td>\n",
       "      <td>충청북도</td>\n",
       "      <td>210798.00</td>\n",
       "    </tr>\n",
       "    <tr>\n",
       "      <th>34</th>\n",
       "      <td>합계</td>\n",
       "      <td>NaN</td>\n",
       "      <td>31367557.00</td>\n",
       "    </tr>\n",
       "  </tbody>\n",
       "</table>\n",
       "</div>"
      ],
      "text/plain": [
       "   차량말소여부      시도명        차량대수\n",
       "0       N  강원특별자치도   865992.00\n",
       "1       N      경기도  6515691.00\n",
       "2       N     경상남도  1941447.00\n",
       "3       N     경상북도  1532871.00\n",
       "4       N    광주광역시   722685.00\n",
       "5       N    대구광역시  1256901.00\n",
       "6       N    대전광역시   721575.00\n",
       "7       N    부산광역시  1525701.00\n",
       "8       N    서울특별시  3191576.00\n",
       "9       N  세종특별자치시   197870.00\n",
       "10      N    울산광역시   598936.00\n",
       "11      N    인천광역시  1726651.00\n",
       "12      N     전라남도  1247142.00\n",
       "13      N     전라북도   991762.00\n",
       "14      N  제주특별자치도   702619.00\n",
       "15      N     충청남도  1243436.00\n",
       "16      N     충청북도   935412.00\n",
       "17      Y  강원특별자치도   199834.00\n",
       "18      Y      경기도  1509659.00\n",
       "19      Y     경상남도   393882.00\n",
       "20      Y     경상북도   363617.00\n",
       "21      Y    광주광역시   151047.00\n",
       "22      Y    대구광역시   262859.00\n",
       "23      Y    대전광역시   158342.00\n",
       "24      Y    부산광역시   261996.00\n",
       "25      Y    서울특별시   571182.00\n",
       "26      Y  세종특별자치시    38665.00\n",
       "27      Y    울산광역시   108047.00\n",
       "28      Y    인천광역시   335052.00\n",
       "29      Y     전라남도   266001.00\n",
       "30      Y     전라북도   237423.00\n",
       "31      Y  제주특별자치도    90658.00\n",
       "32      Y     충청남도   290228.00\n",
       "33      Y     충청북도   210798.00\n",
       "34     합계      NaN 31367557.00"
      ]
     },
     "execution_count": 238,
     "metadata": {},
     "output_type": "execute_result"
    }
   ],
   "source": [
    "grp1 = cs.groupby(['차량말소여부', '시도명'], dropna=False)['차대번호'].count().reset_index()\n",
    "grp1.loc[grp1.shape[0], ['차량말소여부', '차대번호']] = ['합계', grp1['차대번호'].sum()]\n",
    "grp1 = grp1.rename(columns={'차대번호':'차량대수'})\n",
    "grp1 # 31367557"
   ]
  },
  {
   "cell_type": "code",
   "execution_count": 239,
   "metadata": {},
   "outputs": [],
   "source": [
    "# grp2 = cs.groupby(['차량말소여부', '배출가스등급'], dropna=False)['차대번호'].count().unstack('배출가스등급').reset_index()\n",
    "# grp2.columns = ['차량말소여부', '1', '2', '3', '4', '5', '등급_결측값']\n",
    "# grp2.loc[grp2.shape[0]] = ['합계'] + grp2.iloc[:,1:].sum().to_list()\n",
    "# grp2['합계'] = grp2.iloc[:, 1:].sum(axis=1)\n",
    "# grp2 # 31367557"
   ]
  },
  {
   "cell_type": "code",
   "execution_count": 240,
   "metadata": {},
   "outputs": [
    {
     "data": {
      "text/html": [
       "<div>\n",
       "<style scoped>\n",
       "    .dataframe tbody tr th:only-of-type {\n",
       "        vertical-align: middle;\n",
       "    }\n",
       "\n",
       "    .dataframe tbody tr th {\n",
       "        vertical-align: top;\n",
       "    }\n",
       "\n",
       "    .dataframe thead th {\n",
       "        text-align: right;\n",
       "    }\n",
       "</style>\n",
       "<table border=\"1\" class=\"dataframe\">\n",
       "  <thead>\n",
       "    <tr style=\"text-align: right;\">\n",
       "      <th></th>\n",
       "      <th>차량말소여부</th>\n",
       "      <th>배출가스등급</th>\n",
       "      <th>차량대수</th>\n",
       "    </tr>\n",
       "  </thead>\n",
       "  <tbody>\n",
       "    <tr>\n",
       "      <th>0</th>\n",
       "      <td>N</td>\n",
       "      <td>1</td>\n",
       "      <td>3277672.00</td>\n",
       "    </tr>\n",
       "    <tr>\n",
       "      <th>1</th>\n",
       "      <td>N</td>\n",
       "      <td>2</td>\n",
       "      <td>11661936.00</td>\n",
       "    </tr>\n",
       "    <tr>\n",
       "      <th>2</th>\n",
       "      <td>N</td>\n",
       "      <td>3</td>\n",
       "      <td>8550341.00</td>\n",
       "    </tr>\n",
       "    <tr>\n",
       "      <th>3</th>\n",
       "      <td>N</td>\n",
       "      <td>4</td>\n",
       "      <td>1328747.00</td>\n",
       "    </tr>\n",
       "    <tr>\n",
       "      <th>4</th>\n",
       "      <td>N</td>\n",
       "      <td>5</td>\n",
       "      <td>918555.00</td>\n",
       "    </tr>\n",
       "    <tr>\n",
       "      <th>5</th>\n",
       "      <td>N</td>\n",
       "      <td>등급_결측값 or X</td>\n",
       "      <td>181016.00</td>\n",
       "    </tr>\n",
       "    <tr>\n",
       "      <th>6</th>\n",
       "      <td>Y</td>\n",
       "      <td>1</td>\n",
       "      <td>176580.00</td>\n",
       "    </tr>\n",
       "    <tr>\n",
       "      <th>7</th>\n",
       "      <td>Y</td>\n",
       "      <td>2</td>\n",
       "      <td>1378219.00</td>\n",
       "    </tr>\n",
       "    <tr>\n",
       "      <th>8</th>\n",
       "      <td>Y</td>\n",
       "      <td>3</td>\n",
       "      <td>1802885.00</td>\n",
       "    </tr>\n",
       "    <tr>\n",
       "      <th>9</th>\n",
       "      <td>Y</td>\n",
       "      <td>4</td>\n",
       "      <td>595265.00</td>\n",
       "    </tr>\n",
       "    <tr>\n",
       "      <th>10</th>\n",
       "      <td>Y</td>\n",
       "      <td>5</td>\n",
       "      <td>1459801.00</td>\n",
       "    </tr>\n",
       "    <tr>\n",
       "      <th>11</th>\n",
       "      <td>Y</td>\n",
       "      <td>등급_결측값 or X</td>\n",
       "      <td>36540.00</td>\n",
       "    </tr>\n",
       "    <tr>\n",
       "      <th>12</th>\n",
       "      <td>합계</td>\n",
       "      <td>NaN</td>\n",
       "      <td>31367557.00</td>\n",
       "    </tr>\n",
       "  </tbody>\n",
       "</table>\n",
       "</div>"
      ],
      "text/plain": [
       "   차량말소여부       배출가스등급        차량대수\n",
       "0       N            1  3277672.00\n",
       "1       N            2 11661936.00\n",
       "2       N            3  8550341.00\n",
       "3       N            4  1328747.00\n",
       "4       N            5   918555.00\n",
       "5       N  등급_결측값 or X   181016.00\n",
       "6       Y            1   176580.00\n",
       "7       Y            2  1378219.00\n",
       "8       Y            3  1802885.00\n",
       "9       Y            4   595265.00\n",
       "10      Y            5  1459801.00\n",
       "11      Y  등급_결측값 or X    36540.00\n",
       "12     합계          NaN 31367557.00"
      ]
     },
     "execution_count": 240,
     "metadata": {},
     "output_type": "execute_result"
    }
   ],
   "source": [
    "grp2 = cs.groupby(['차량말소여부', '배출가스등급'], dropna=False)['차대번호'].count().reset_index()\n",
    "grp2.loc[grp2.shape[0], ['차량말소여부', '차대번호']] = ['합계', grp2['차대번호'].sum()]\n",
    "grp2 = grp2.rename(columns={'차대번호':'차량대수'})\n",
    "grp2 # 31367557"
   ]
  },
  {
   "cell_type": "code",
   "execution_count": 241,
   "metadata": {},
   "outputs": [],
   "source": [
    "# grp3 = cs.groupby(['차량말소여부', '시도명', '배출가스등급'], dropna=False)['차대번호'].count().unstack('배출가스등급').reset_index()\n",
    "# grp3.columns = ['차량말소여부', '시도명', '1', '2', '3', '4', '5', '등급_결측값']\n",
    "# grp3.loc[grp3.shape[0], ['차량말소여부', '1', '2', '3', '4', '5', '등급_결측값']] = ['합계', grp3['1'].sum(), grp3['2'].sum(), grp3['3'].sum(), grp3['4'].sum(), grp3['5'].sum(), grp3['등급_결측값'].sum()]\n",
    "# grp3['합계'] = grp3.iloc[:, 2:].sum(axis=1)\n",
    "# grp3 # 31367557"
   ]
  },
  {
   "cell_type": "code",
   "execution_count": 242,
   "metadata": {},
   "outputs": [
    {
     "data": {
      "text/html": [
       "<div>\n",
       "<style scoped>\n",
       "    .dataframe tbody tr th:only-of-type {\n",
       "        vertical-align: middle;\n",
       "    }\n",
       "\n",
       "    .dataframe tbody tr th {\n",
       "        vertical-align: top;\n",
       "    }\n",
       "\n",
       "    .dataframe thead th {\n",
       "        text-align: right;\n",
       "    }\n",
       "</style>\n",
       "<table border=\"1\" class=\"dataframe\">\n",
       "  <thead>\n",
       "    <tr style=\"text-align: right;\">\n",
       "      <th></th>\n",
       "      <th>차량말소여부</th>\n",
       "      <th>시도명</th>\n",
       "      <th>배출가스등급</th>\n",
       "      <th>차량대수</th>\n",
       "    </tr>\n",
       "  </thead>\n",
       "  <tbody>\n",
       "    <tr>\n",
       "      <th>0</th>\n",
       "      <td>N</td>\n",
       "      <td>강원특별자치도</td>\n",
       "      <td>1</td>\n",
       "      <td>94265.00</td>\n",
       "    </tr>\n",
       "    <tr>\n",
       "      <th>1</th>\n",
       "      <td>N</td>\n",
       "      <td>강원특별자치도</td>\n",
       "      <td>2</td>\n",
       "      <td>371046.00</td>\n",
       "    </tr>\n",
       "    <tr>\n",
       "      <th>2</th>\n",
       "      <td>N</td>\n",
       "      <td>강원특별자치도</td>\n",
       "      <td>3</td>\n",
       "      <td>310482.00</td>\n",
       "    </tr>\n",
       "    <tr>\n",
       "      <th>3</th>\n",
       "      <td>N</td>\n",
       "      <td>강원특별자치도</td>\n",
       "      <td>4</td>\n",
       "      <td>48699.00</td>\n",
       "    </tr>\n",
       "    <tr>\n",
       "      <th>4</th>\n",
       "      <td>N</td>\n",
       "      <td>강원특별자치도</td>\n",
       "      <td>5</td>\n",
       "      <td>36427.00</td>\n",
       "    </tr>\n",
       "    <tr>\n",
       "      <th>...</th>\n",
       "      <td>...</td>\n",
       "      <td>...</td>\n",
       "      <td>...</td>\n",
       "      <td>...</td>\n",
       "    </tr>\n",
       "    <tr>\n",
       "      <th>200</th>\n",
       "      <td>Y</td>\n",
       "      <td>충청북도</td>\n",
       "      <td>3</td>\n",
       "      <td>60911.00</td>\n",
       "    </tr>\n",
       "    <tr>\n",
       "      <th>201</th>\n",
       "      <td>Y</td>\n",
       "      <td>충청북도</td>\n",
       "      <td>4</td>\n",
       "      <td>23525.00</td>\n",
       "    </tr>\n",
       "    <tr>\n",
       "      <th>202</th>\n",
       "      <td>Y</td>\n",
       "      <td>충청북도</td>\n",
       "      <td>5</td>\n",
       "      <td>72207.00</td>\n",
       "    </tr>\n",
       "    <tr>\n",
       "      <th>203</th>\n",
       "      <td>Y</td>\n",
       "      <td>충청북도</td>\n",
       "      <td>등급_결측값 or X</td>\n",
       "      <td>672.00</td>\n",
       "    </tr>\n",
       "    <tr>\n",
       "      <th>204</th>\n",
       "      <td>합계</td>\n",
       "      <td>NaN</td>\n",
       "      <td>NaN</td>\n",
       "      <td>31367557.00</td>\n",
       "    </tr>\n",
       "  </tbody>\n",
       "</table>\n",
       "<p>205 rows × 4 columns</p>\n",
       "</div>"
      ],
      "text/plain": [
       "    차량말소여부      시도명       배출가스등급        차량대수\n",
       "0        N  강원특별자치도            1    94265.00\n",
       "1        N  강원특별자치도            2   371046.00\n",
       "2        N  강원특별자치도            3   310482.00\n",
       "3        N  강원특별자치도            4    48699.00\n",
       "4        N  강원특별자치도            5    36427.00\n",
       "..     ...      ...          ...         ...\n",
       "200      Y     충청북도            3    60911.00\n",
       "201      Y     충청북도            4    23525.00\n",
       "202      Y     충청북도            5    72207.00\n",
       "203      Y     충청북도  등급_결측값 or X      672.00\n",
       "204     합계      NaN          NaN 31367557.00\n",
       "\n",
       "[205 rows x 4 columns]"
      ]
     },
     "execution_count": 242,
     "metadata": {},
     "output_type": "execute_result"
    }
   ],
   "source": [
    "grp3 = cs.groupby(['차량말소여부', '시도명', '배출가스등급'], dropna=False)['차대번호'].count().reset_index()\n",
    "grp3.loc[grp3.shape[0], ['차량말소여부', '차대번호']] = ['합계', grp3['차대번호'].sum()]\n",
    "grp3 = grp3.rename(columns={'차대번호':'차량대수'})\n",
    "grp3 # 31367557"
   ]
  },
  {
   "cell_type": "code",
   "execution_count": 243,
   "metadata": {},
   "outputs": [],
   "source": [
    "# grp4 = cs.groupby(['차량말소여부', '연료', '배출가스등급'], dropna=False)['차대번호'].count().unstack('배출가스등급').reset_index()\n",
    "# grp4.columns = ['차량말소여부', '연료', '1', '2', '3', '4', '5', '등급_결측값']\n",
    "# grp4.loc[grp4.shape[0], ['차량말소여부', '1', '2', '3', '4', '5', '등급_결측값']] = ['합계', grp4['1'].sum(), grp4['2'].sum(), grp4['3'].sum(), grp4['4'].sum(), grp4['5'].sum(), grp4['등급_결측값'].sum()]\n",
    "# grp4['합계'] = grp4.iloc[:, 2:].sum(axis=1)\n",
    "# grp4 # 31367557"
   ]
  },
  {
   "cell_type": "code",
   "execution_count": 244,
   "metadata": {},
   "outputs": [
    {
     "data": {
      "text/html": [
       "<div>\n",
       "<style scoped>\n",
       "    .dataframe tbody tr th:only-of-type {\n",
       "        vertical-align: middle;\n",
       "    }\n",
       "\n",
       "    .dataframe tbody tr th {\n",
       "        vertical-align: top;\n",
       "    }\n",
       "\n",
       "    .dataframe thead th {\n",
       "        text-align: right;\n",
       "    }\n",
       "</style>\n",
       "<table border=\"1\" class=\"dataframe\">\n",
       "  <thead>\n",
       "    <tr style=\"text-align: right;\">\n",
       "      <th></th>\n",
       "      <th>차량말소여부</th>\n",
       "      <th>연료</th>\n",
       "      <th>배출가스등급</th>\n",
       "      <th>차량대수</th>\n",
       "    </tr>\n",
       "  </thead>\n",
       "  <tbody>\n",
       "    <tr>\n",
       "      <th>0</th>\n",
       "      <td>N</td>\n",
       "      <td>CNG 하이브리드</td>\n",
       "      <td>1</td>\n",
       "      <td>269.00</td>\n",
       "    </tr>\n",
       "    <tr>\n",
       "      <th>1</th>\n",
       "      <td>N</td>\n",
       "      <td>CNG 하이브리드</td>\n",
       "      <td>2</td>\n",
       "      <td>17.00</td>\n",
       "    </tr>\n",
       "    <tr>\n",
       "      <th>2</th>\n",
       "      <td>N</td>\n",
       "      <td>CNG(압축천연가스)</td>\n",
       "      <td>2</td>\n",
       "      <td>24246.00</td>\n",
       "    </tr>\n",
       "    <tr>\n",
       "      <th>3</th>\n",
       "      <td>N</td>\n",
       "      <td>CNG(압축천연가스)</td>\n",
       "      <td>3</td>\n",
       "      <td>3837.00</td>\n",
       "    </tr>\n",
       "    <tr>\n",
       "      <th>4</th>\n",
       "      <td>N</td>\n",
       "      <td>CNG(압축천연가스)</td>\n",
       "      <td>4</td>\n",
       "      <td>1.00</td>\n",
       "    </tr>\n",
       "    <tr>\n",
       "      <th>...</th>\n",
       "      <td>...</td>\n",
       "      <td>...</td>\n",
       "      <td>...</td>\n",
       "      <td>...</td>\n",
       "    </tr>\n",
       "    <tr>\n",
       "      <th>79</th>\n",
       "      <td>Y</td>\n",
       "      <td>휘발유</td>\n",
       "      <td>등급_결측값 or X</td>\n",
       "      <td>19977.00</td>\n",
       "    </tr>\n",
       "    <tr>\n",
       "      <th>80</th>\n",
       "      <td>Y</td>\n",
       "      <td>휘발유 하이브리드</td>\n",
       "      <td>1</td>\n",
       "      <td>34173.00</td>\n",
       "    </tr>\n",
       "    <tr>\n",
       "      <th>81</th>\n",
       "      <td>Y</td>\n",
       "      <td>휘발유 하이브리드</td>\n",
       "      <td>2</td>\n",
       "      <td>2396.00</td>\n",
       "    </tr>\n",
       "    <tr>\n",
       "      <th>82</th>\n",
       "      <td>Y</td>\n",
       "      <td>휘발유 하이브리드</td>\n",
       "      <td>등급_결측값 or X</td>\n",
       "      <td>442.00</td>\n",
       "    </tr>\n",
       "    <tr>\n",
       "      <th>83</th>\n",
       "      <td>합계</td>\n",
       "      <td>NaN</td>\n",
       "      <td>NaN</td>\n",
       "      <td>31367557.00</td>\n",
       "    </tr>\n",
       "  </tbody>\n",
       "</table>\n",
       "<p>84 rows × 4 columns</p>\n",
       "</div>"
      ],
      "text/plain": [
       "   차량말소여부           연료       배출가스등급        차량대수\n",
       "0       N    CNG 하이브리드            1      269.00\n",
       "1       N    CNG 하이브리드            2       17.00\n",
       "2       N  CNG(압축천연가스)            2    24246.00\n",
       "3       N  CNG(압축천연가스)            3     3837.00\n",
       "4       N  CNG(압축천연가스)            4        1.00\n",
       "..    ...          ...          ...         ...\n",
       "79      Y          휘발유  등급_결측값 or X    19977.00\n",
       "80      Y    휘발유 하이브리드            1    34173.00\n",
       "81      Y    휘발유 하이브리드            2     2396.00\n",
       "82      Y    휘발유 하이브리드  등급_결측값 or X      442.00\n",
       "83     합계          NaN          NaN 31367557.00\n",
       "\n",
       "[84 rows x 4 columns]"
      ]
     },
     "execution_count": 244,
     "metadata": {},
     "output_type": "execute_result"
    }
   ],
   "source": [
    "grp4 = cs.groupby(['차량말소여부', '연료', '배출가스등급'], dropna=False)['차대번호'].count().reset_index()\n",
    "grp4.loc[grp4.shape[0], ['차량말소여부', '차대번호']] = ['합계', grp4['차대번호'].sum()]\n",
    "grp4 = grp4.rename(columns={'차대번호':'차량대수'})\n",
    "grp4 # 31367557"
   ]
  },
  {
   "cell_type": "code",
   "execution_count": 245,
   "metadata": {},
   "outputs": [
    {
     "data": {
      "text/plain": [
       "(array(['N', 'Y', '합계'], dtype=object),\n",
       " array(['CNG 하이브리드', 'CNG(압축천연가스)', 'LNG(액화천연가스)', 'LPG 하이브리드',\n",
       "        'LPG(액화석유가스)', '경유', '경유 하이브리드', '기타연료', '등유', '수소', '알코올',\n",
       "        '연료_결측값', '전기', '태양열', '휘발유', '휘발유 하이브리드', nan], dtype=object),\n",
       " array(['1', '2', '3', '4', '5', '등급_결측값 or X', nan], dtype=object))"
      ]
     },
     "execution_count": 245,
     "metadata": {},
     "output_type": "execute_result"
    }
   ],
   "source": [
    "grp4['차량말소여부'].unique(), grp4['연료'].unique(), grp4['배출가스등급'].unique()"
   ]
  },
  {
   "cell_type": "code",
   "execution_count": 246,
   "metadata": {},
   "outputs": [
    {
     "data": {
      "text/plain": [
       "(array(['N', 'Y', '합계'], dtype=object),\n",
       " array(['CNG 하이브리드', 'CNG(압축천연가스)', 'LNG(액화천연가스)', 'LPG 하이브리드',\n",
       "        'LPG(액화석유가스)', '경유', '경유 하이브리드', '기타연료', '등유', '수소', '알코올',\n",
       "        '연료_결측값', '전기', '태양열', '휘발유', '휘발유 하이브리드', nan], dtype=object),\n",
       " array(['1', '2', '3', '4', '5', '등급_결측값 or X', nan], dtype=object))"
      ]
     },
     "execution_count": 246,
     "metadata": {},
     "output_type": "execute_result"
    }
   ],
   "source": [
    "grp4_before['차량말소여부'].unique(), grp4_before['연료'].unique(), grp4_before['배출가스등급'].unique()"
   ]
  },
  {
   "cell_type": "markdown",
   "metadata": {},
   "source": [
    "#### 출력-통계 LST"
   ]
  },
  {
   "cell_type": "code",
   "execution_count": 119,
   "metadata": {},
   "outputs": [
    {
     "data": {
      "text/plain": [
       "'20240110_PM_041029'"
      ]
     },
     "execution_count": 119,
     "metadata": {},
     "output_type": "execute_result"
    }
   ],
   "source": [
    "today_date_dtl = datetime.today().strftime('%Y%m%d_%p_%I%M%S')\n",
    "today_date_dtl"
   ]
  },
  {
   "cell_type": "code",
   "execution_count": 120,
   "metadata": {},
   "outputs": [],
   "source": [
    "with pd.ExcelWriter(os.path.join(df_fold, f'RH제공파일_통계_{today_date_dtl}.xlsx')) as writer:\n",
    "    grp1.to_excel(writer, sheet_name='말소_시도별', index=False)\n",
    "    grp2.to_excel(writer, sheet_name='말소_등급별', index=False)\n",
    "    grp3.to_excel(writer, sheet_name='말소_시도_등급별', index=False)\n",
    "    grp4.to_excel(writer, sheet_name='말소_연료_등급별', index=False)"
   ]
  },
  {
   "cell_type": "markdown",
   "metadata": {},
   "source": [
    "### 등록&제원과 LST 통계 비교"
   ]
  },
  {
   "cell_type": "markdown",
   "metadata": {},
   "source": [
    "#### 1\\. 말소, 시도별 차량대수"
   ]
  },
  {
   "cell_type": "code",
   "execution_count": 247,
   "metadata": {},
   "outputs": [],
   "source": [
    "grp1 = grp1.rename(columns={'시도명':'시도'})"
   ]
  },
  {
   "cell_type": "code",
   "execution_count": 248,
   "metadata": {},
   "outputs": [
    {
     "data": {
      "text/plain": [
       "(array(['강원특별자치도', '경기도', '경상남도', '경상북도', '광주광역시', '대구광역시', '대전광역시',\n",
       "        '부산광역시', '서울특별시', '세종특별자치시', '울산광역시', '인천광역시', '전라남도', '전라북도',\n",
       "        '제주특별자치도', '충청남도', '충청북도', nan], dtype=object),\n",
       " array(['강원특별자치도', '경기도', '경상남도', '경상북도', '광주광역시', '대구광역시', '대전광역시',\n",
       "        '부산광역시', '서울특별시', '세종특별자치시', '울산광역시', '인천광역시', '전라남도', '전라북도',\n",
       "        '제주특별자치도', '충청남도', '충청북도', nan], dtype=object))"
      ]
     },
     "execution_count": 248,
     "metadata": {},
     "output_type": "execute_result"
    }
   ],
   "source": [
    "grp1_before['시도'].unique(), grp1['시도'].unique()"
   ]
  },
  {
   "cell_type": "code",
   "execution_count": 249,
   "metadata": {},
   "outputs": [
    {
     "data": {
      "text/plain": [
       "(18, 18)"
      ]
     },
     "execution_count": 249,
     "metadata": {},
     "output_type": "execute_result"
    }
   ],
   "source": [
    "len(grp1_before['시도'].unique()), len(grp1['시도'].unique())"
   ]
  },
  {
   "cell_type": "code",
   "execution_count": 250,
   "metadata": {},
   "outputs": [
    {
     "data": {
      "text/plain": [
       "18"
      ]
     },
     "execution_count": 250,
     "metadata": {},
     "output_type": "execute_result"
    }
   ],
   "source": [
    "len(set(grp1_before['시도'].unique()) & set(grp1['시도'].unique()))"
   ]
  },
  {
   "cell_type": "code",
   "execution_count": 251,
   "metadata": {},
   "outputs": [
    {
     "data": {
      "text/plain": [
       "(Index(['차량말소여부', '시도', '차량대수'], dtype='object'),\n",
       " Index(['차량말소여부', '시도', '차량대수'], dtype='object'))"
      ]
     },
     "execution_count": 251,
     "metadata": {},
     "output_type": "execute_result"
    }
   ],
   "source": [
    "grp1_before.columns, grp1.columns"
   ]
  },
  {
   "cell_type": "code",
   "execution_count": 252,
   "metadata": {},
   "outputs": [
    {
     "data": {
      "text/html": [
       "<div>\n",
       "<style scoped>\n",
       "    .dataframe tbody tr th:only-of-type {\n",
       "        vertical-align: middle;\n",
       "    }\n",
       "\n",
       "    .dataframe tbody tr th {\n",
       "        vertical-align: top;\n",
       "    }\n",
       "\n",
       "    .dataframe thead th {\n",
       "        text-align: right;\n",
       "    }\n",
       "</style>\n",
       "<table border=\"1\" class=\"dataframe\">\n",
       "  <thead>\n",
       "    <tr style=\"text-align: right;\">\n",
       "      <th></th>\n",
       "      <th>차량말소여부</th>\n",
       "      <th>시도</th>\n",
       "      <th>기존(A)</th>\n",
       "      <th>RH(B)</th>\n",
       "      <th>차이(A-B)</th>\n",
       "    </tr>\n",
       "  </thead>\n",
       "  <tbody>\n",
       "    <tr>\n",
       "      <th>0</th>\n",
       "      <td>N</td>\n",
       "      <td>강원특별자치도</td>\n",
       "      <td>865371.00</td>\n",
       "      <td>865992.00</td>\n",
       "      <td>-621.00</td>\n",
       "    </tr>\n",
       "    <tr>\n",
       "      <th>1</th>\n",
       "      <td>N</td>\n",
       "      <td>경기도</td>\n",
       "      <td>6505925.00</td>\n",
       "      <td>6515691.00</td>\n",
       "      <td>-9766.00</td>\n",
       "    </tr>\n",
       "    <tr>\n",
       "      <th>2</th>\n",
       "      <td>N</td>\n",
       "      <td>경상남도</td>\n",
       "      <td>1938726.00</td>\n",
       "      <td>1941447.00</td>\n",
       "      <td>-2721.00</td>\n",
       "    </tr>\n",
       "    <tr>\n",
       "      <th>3</th>\n",
       "      <td>N</td>\n",
       "      <td>경상북도</td>\n",
       "      <td>1531987.00</td>\n",
       "      <td>1532871.00</td>\n",
       "      <td>-884.00</td>\n",
       "    </tr>\n",
       "    <tr>\n",
       "      <th>4</th>\n",
       "      <td>N</td>\n",
       "      <td>광주광역시</td>\n",
       "      <td>721902.00</td>\n",
       "      <td>722685.00</td>\n",
       "      <td>-783.00</td>\n",
       "    </tr>\n",
       "    <tr>\n",
       "      <th>5</th>\n",
       "      <td>N</td>\n",
       "      <td>대구광역시</td>\n",
       "      <td>1256186.00</td>\n",
       "      <td>1256901.00</td>\n",
       "      <td>-715.00</td>\n",
       "    </tr>\n",
       "    <tr>\n",
       "      <th>6</th>\n",
       "      <td>N</td>\n",
       "      <td>대전광역시</td>\n",
       "      <td>720579.00</td>\n",
       "      <td>721575.00</td>\n",
       "      <td>-996.00</td>\n",
       "    </tr>\n",
       "    <tr>\n",
       "      <th>7</th>\n",
       "      <td>N</td>\n",
       "      <td>부산광역시</td>\n",
       "      <td>1524100.00</td>\n",
       "      <td>1525701.00</td>\n",
       "      <td>-1601.00</td>\n",
       "    </tr>\n",
       "    <tr>\n",
       "      <th>8</th>\n",
       "      <td>N</td>\n",
       "      <td>서울특별시</td>\n",
       "      <td>3190988.00</td>\n",
       "      <td>3191576.00</td>\n",
       "      <td>-588.00</td>\n",
       "    </tr>\n",
       "    <tr>\n",
       "      <th>9</th>\n",
       "      <td>N</td>\n",
       "      <td>세종특별자치시</td>\n",
       "      <td>197786.00</td>\n",
       "      <td>197870.00</td>\n",
       "      <td>-84.00</td>\n",
       "    </tr>\n",
       "    <tr>\n",
       "      <th>10</th>\n",
       "      <td>N</td>\n",
       "      <td>울산광역시</td>\n",
       "      <td>598554.00</td>\n",
       "      <td>598936.00</td>\n",
       "      <td>-382.00</td>\n",
       "    </tr>\n",
       "    <tr>\n",
       "      <th>11</th>\n",
       "      <td>N</td>\n",
       "      <td>인천광역시</td>\n",
       "      <td>1727278.00</td>\n",
       "      <td>1726651.00</td>\n",
       "      <td>627.00</td>\n",
       "    </tr>\n",
       "    <tr>\n",
       "      <th>12</th>\n",
       "      <td>N</td>\n",
       "      <td>전라남도</td>\n",
       "      <td>1246241.00</td>\n",
       "      <td>1247142.00</td>\n",
       "      <td>-901.00</td>\n",
       "    </tr>\n",
       "    <tr>\n",
       "      <th>13</th>\n",
       "      <td>N</td>\n",
       "      <td>전라북도</td>\n",
       "      <td>991020.00</td>\n",
       "      <td>991762.00</td>\n",
       "      <td>-742.00</td>\n",
       "    </tr>\n",
       "    <tr>\n",
       "      <th>14</th>\n",
       "      <td>N</td>\n",
       "      <td>제주특별자치도</td>\n",
       "      <td>702169.00</td>\n",
       "      <td>702619.00</td>\n",
       "      <td>-450.00</td>\n",
       "    </tr>\n",
       "    <tr>\n",
       "      <th>15</th>\n",
       "      <td>N</td>\n",
       "      <td>충청남도</td>\n",
       "      <td>1242387.00</td>\n",
       "      <td>1243436.00</td>\n",
       "      <td>-1049.00</td>\n",
       "    </tr>\n",
       "    <tr>\n",
       "      <th>16</th>\n",
       "      <td>N</td>\n",
       "      <td>충청북도</td>\n",
       "      <td>934348.00</td>\n",
       "      <td>935412.00</td>\n",
       "      <td>-1064.00</td>\n",
       "    </tr>\n",
       "    <tr>\n",
       "      <th>17</th>\n",
       "      <td>Y</td>\n",
       "      <td>강원특별자치도</td>\n",
       "      <td>20819.00</td>\n",
       "      <td>199834.00</td>\n",
       "      <td>-179015.00</td>\n",
       "    </tr>\n",
       "    <tr>\n",
       "      <th>18</th>\n",
       "      <td>Y</td>\n",
       "      <td>경기도</td>\n",
       "      <td>1498802.00</td>\n",
       "      <td>1509659.00</td>\n",
       "      <td>-10857.00</td>\n",
       "    </tr>\n",
       "    <tr>\n",
       "      <th>19</th>\n",
       "      <td>Y</td>\n",
       "      <td>경상남도</td>\n",
       "      <td>391443.00</td>\n",
       "      <td>393882.00</td>\n",
       "      <td>-2439.00</td>\n",
       "    </tr>\n",
       "    <tr>\n",
       "      <th>20</th>\n",
       "      <td>Y</td>\n",
       "      <td>경상북도</td>\n",
       "      <td>361320.00</td>\n",
       "      <td>363617.00</td>\n",
       "      <td>-2297.00</td>\n",
       "    </tr>\n",
       "    <tr>\n",
       "      <th>21</th>\n",
       "      <td>Y</td>\n",
       "      <td>광주광역시</td>\n",
       "      <td>150139.00</td>\n",
       "      <td>151047.00</td>\n",
       "      <td>-908.00</td>\n",
       "    </tr>\n",
       "    <tr>\n",
       "      <th>22</th>\n",
       "      <td>Y</td>\n",
       "      <td>대구광역시</td>\n",
       "      <td>261323.00</td>\n",
       "      <td>262859.00</td>\n",
       "      <td>-1536.00</td>\n",
       "    </tr>\n",
       "    <tr>\n",
       "      <th>23</th>\n",
       "      <td>Y</td>\n",
       "      <td>대전광역시</td>\n",
       "      <td>157404.00</td>\n",
       "      <td>158342.00</td>\n",
       "      <td>-938.00</td>\n",
       "    </tr>\n",
       "    <tr>\n",
       "      <th>24</th>\n",
       "      <td>Y</td>\n",
       "      <td>부산광역시</td>\n",
       "      <td>260312.00</td>\n",
       "      <td>261996.00</td>\n",
       "      <td>-1684.00</td>\n",
       "    </tr>\n",
       "    <tr>\n",
       "      <th>25</th>\n",
       "      <td>Y</td>\n",
       "      <td>서울특별시</td>\n",
       "      <td>567439.00</td>\n",
       "      <td>571182.00</td>\n",
       "      <td>-3743.00</td>\n",
       "    </tr>\n",
       "    <tr>\n",
       "      <th>26</th>\n",
       "      <td>Y</td>\n",
       "      <td>세종특별자치시</td>\n",
       "      <td>38228.00</td>\n",
       "      <td>38665.00</td>\n",
       "      <td>-437.00</td>\n",
       "    </tr>\n",
       "    <tr>\n",
       "      <th>27</th>\n",
       "      <td>Y</td>\n",
       "      <td>울산광역시</td>\n",
       "      <td>107286.00</td>\n",
       "      <td>108047.00</td>\n",
       "      <td>-761.00</td>\n",
       "    </tr>\n",
       "    <tr>\n",
       "      <th>28</th>\n",
       "      <td>Y</td>\n",
       "      <td>인천광역시</td>\n",
       "      <td>332810.00</td>\n",
       "      <td>335052.00</td>\n",
       "      <td>-2242.00</td>\n",
       "    </tr>\n",
       "    <tr>\n",
       "      <th>29</th>\n",
       "      <td>Y</td>\n",
       "      <td>전라남도</td>\n",
       "      <td>264304.00</td>\n",
       "      <td>266001.00</td>\n",
       "      <td>-1697.00</td>\n",
       "    </tr>\n",
       "    <tr>\n",
       "      <th>30</th>\n",
       "      <td>Y</td>\n",
       "      <td>전라북도</td>\n",
       "      <td>235932.00</td>\n",
       "      <td>237423.00</td>\n",
       "      <td>-1491.00</td>\n",
       "    </tr>\n",
       "    <tr>\n",
       "      <th>31</th>\n",
       "      <td>Y</td>\n",
       "      <td>제주특별자치도</td>\n",
       "      <td>90021.00</td>\n",
       "      <td>90658.00</td>\n",
       "      <td>-637.00</td>\n",
       "    </tr>\n",
       "    <tr>\n",
       "      <th>32</th>\n",
       "      <td>Y</td>\n",
       "      <td>충청남도</td>\n",
       "      <td>288377.00</td>\n",
       "      <td>290228.00</td>\n",
       "      <td>-1851.00</td>\n",
       "    </tr>\n",
       "    <tr>\n",
       "      <th>33</th>\n",
       "      <td>Y</td>\n",
       "      <td>충청북도</td>\n",
       "      <td>209519.00</td>\n",
       "      <td>210798.00</td>\n",
       "      <td>-1279.00</td>\n",
       "    </tr>\n",
       "    <tr>\n",
       "      <th>34</th>\n",
       "      <td>합계</td>\n",
       "      <td>NaN</td>\n",
       "      <td>31131025.00</td>\n",
       "      <td>31367557.00</td>\n",
       "      <td>-236532.00</td>\n",
       "    </tr>\n",
       "  </tbody>\n",
       "</table>\n",
       "</div>"
      ],
      "text/plain": [
       "   차량말소여부       시도       기존(A)       RH(B)    차이(A-B)\n",
       "0       N  강원특별자치도   865371.00   865992.00    -621.00\n",
       "1       N      경기도  6505925.00  6515691.00   -9766.00\n",
       "2       N     경상남도  1938726.00  1941447.00   -2721.00\n",
       "3       N     경상북도  1531987.00  1532871.00    -884.00\n",
       "4       N    광주광역시   721902.00   722685.00    -783.00\n",
       "5       N    대구광역시  1256186.00  1256901.00    -715.00\n",
       "6       N    대전광역시   720579.00   721575.00    -996.00\n",
       "7       N    부산광역시  1524100.00  1525701.00   -1601.00\n",
       "8       N    서울특별시  3190988.00  3191576.00    -588.00\n",
       "9       N  세종특별자치시   197786.00   197870.00     -84.00\n",
       "10      N    울산광역시   598554.00   598936.00    -382.00\n",
       "11      N    인천광역시  1727278.00  1726651.00     627.00\n",
       "12      N     전라남도  1246241.00  1247142.00    -901.00\n",
       "13      N     전라북도   991020.00   991762.00    -742.00\n",
       "14      N  제주특별자치도   702169.00   702619.00    -450.00\n",
       "15      N     충청남도  1242387.00  1243436.00   -1049.00\n",
       "16      N     충청북도   934348.00   935412.00   -1064.00\n",
       "17      Y  강원특별자치도    20819.00   199834.00 -179015.00\n",
       "18      Y      경기도  1498802.00  1509659.00  -10857.00\n",
       "19      Y     경상남도   391443.00   393882.00   -2439.00\n",
       "20      Y     경상북도   361320.00   363617.00   -2297.00\n",
       "21      Y    광주광역시   150139.00   151047.00    -908.00\n",
       "22      Y    대구광역시   261323.00   262859.00   -1536.00\n",
       "23      Y    대전광역시   157404.00   158342.00    -938.00\n",
       "24      Y    부산광역시   260312.00   261996.00   -1684.00\n",
       "25      Y    서울특별시   567439.00   571182.00   -3743.00\n",
       "26      Y  세종특별자치시    38228.00    38665.00    -437.00\n",
       "27      Y    울산광역시   107286.00   108047.00    -761.00\n",
       "28      Y    인천광역시   332810.00   335052.00   -2242.00\n",
       "29      Y     전라남도   264304.00   266001.00   -1697.00\n",
       "30      Y     전라북도   235932.00   237423.00   -1491.00\n",
       "31      Y  제주특별자치도    90021.00    90658.00    -637.00\n",
       "32      Y     충청남도   288377.00   290228.00   -1851.00\n",
       "33      Y     충청북도   209519.00   210798.00   -1279.00\n",
       "34     합계      NaN 31131025.00 31367557.00 -236532.00"
      ]
     },
     "execution_count": 252,
     "metadata": {},
     "output_type": "execute_result"
    }
   ],
   "source": [
    "tgrp1 = grp1_before.merge(grp1, on=['차량말소여부', '시도'], how='outer')\n",
    "tgrp1['차이(A-B)'] = tgrp1['차량대수_x'] - tgrp1['차량대수_y']\n",
    "tgrp1 = tgrp1.rename(columns={'차량대수_x':'기존(A)', '차량대수_y':'RH(B)'})\n",
    "tgrp1"
   ]
  },
  {
   "cell_type": "markdown",
   "metadata": {},
   "source": [
    "#### 2\\. 말소여부, 등급별 차량대수"
   ]
  },
  {
   "cell_type": "code",
   "execution_count": 253,
   "metadata": {},
   "outputs": [
    {
     "data": {
      "text/plain": [
       "(Index(['차량말소여부', '배출가스등급', '차량대수'], dtype='object'),\n",
       " Index(['차량말소여부', '배출가스등급', '차량대수'], dtype='object'))"
      ]
     },
     "execution_count": 253,
     "metadata": {},
     "output_type": "execute_result"
    }
   ],
   "source": [
    "grp2_before.columns, grp2.columns"
   ]
  },
  {
   "cell_type": "code",
   "execution_count": 254,
   "metadata": {},
   "outputs": [
    {
     "data": {
      "text/plain": [
       "(array(['1', '2', '3', '4', '5', '등급_결측값 or X', nan], dtype=object),\n",
       " array(['1', '2', '3', '4', '5', '등급_결측값 or X', nan], dtype=object))"
      ]
     },
     "execution_count": 254,
     "metadata": {},
     "output_type": "execute_result"
    }
   ],
   "source": [
    "grp2_before['배출가스등급'].unique(), grp2['배출가스등급'].unique()"
   ]
  },
  {
   "cell_type": "code",
   "execution_count": 255,
   "metadata": {},
   "outputs": [
    {
     "data": {
      "text/html": [
       "<div>\n",
       "<style scoped>\n",
       "    .dataframe tbody tr th:only-of-type {\n",
       "        vertical-align: middle;\n",
       "    }\n",
       "\n",
       "    .dataframe tbody tr th {\n",
       "        vertical-align: top;\n",
       "    }\n",
       "\n",
       "    .dataframe thead th {\n",
       "        text-align: right;\n",
       "    }\n",
       "</style>\n",
       "<table border=\"1\" class=\"dataframe\">\n",
       "  <thead>\n",
       "    <tr style=\"text-align: right;\">\n",
       "      <th></th>\n",
       "      <th>차량말소여부</th>\n",
       "      <th>배출가스등급</th>\n",
       "      <th>기존(A)</th>\n",
       "      <th>RH(B)</th>\n",
       "      <th>차이(A-B)</th>\n",
       "    </tr>\n",
       "  </thead>\n",
       "  <tbody>\n",
       "    <tr>\n",
       "      <th>0</th>\n",
       "      <td>N</td>\n",
       "      <td>1</td>\n",
       "      <td>3260843.00</td>\n",
       "      <td>3277672.00</td>\n",
       "      <td>-16829.00</td>\n",
       "    </tr>\n",
       "    <tr>\n",
       "      <th>1</th>\n",
       "      <td>N</td>\n",
       "      <td>2</td>\n",
       "      <td>10929631.00</td>\n",
       "      <td>11661936.00</td>\n",
       "      <td>-732305.00</td>\n",
       "    </tr>\n",
       "    <tr>\n",
       "      <th>2</th>\n",
       "      <td>N</td>\n",
       "      <td>3</td>\n",
       "      <td>8185490.00</td>\n",
       "      <td>8550341.00</td>\n",
       "      <td>-364851.00</td>\n",
       "    </tr>\n",
       "    <tr>\n",
       "      <th>3</th>\n",
       "      <td>N</td>\n",
       "      <td>4</td>\n",
       "      <td>1335156.00</td>\n",
       "      <td>1328747.00</td>\n",
       "      <td>6409.00</td>\n",
       "    </tr>\n",
       "    <tr>\n",
       "      <th>4</th>\n",
       "      <td>N</td>\n",
       "      <td>5</td>\n",
       "      <td>923641.00</td>\n",
       "      <td>918555.00</td>\n",
       "      <td>5086.00</td>\n",
       "    </tr>\n",
       "    <tr>\n",
       "      <th>5</th>\n",
       "      <td>N</td>\n",
       "      <td>등급_결측값 or X</td>\n",
       "      <td>1260786.00</td>\n",
       "      <td>181016.00</td>\n",
       "      <td>1079770.00</td>\n",
       "    </tr>\n",
       "    <tr>\n",
       "      <th>6</th>\n",
       "      <td>Y</td>\n",
       "      <td>1</td>\n",
       "      <td>171488.00</td>\n",
       "      <td>176580.00</td>\n",
       "      <td>-5092.00</td>\n",
       "    </tr>\n",
       "    <tr>\n",
       "      <th>7</th>\n",
       "      <td>Y</td>\n",
       "      <td>2</td>\n",
       "      <td>1323958.00</td>\n",
       "      <td>1378219.00</td>\n",
       "      <td>-54261.00</td>\n",
       "    </tr>\n",
       "    <tr>\n",
       "      <th>8</th>\n",
       "      <td>Y</td>\n",
       "      <td>3</td>\n",
       "      <td>1739554.00</td>\n",
       "      <td>1802885.00</td>\n",
       "      <td>-63331.00</td>\n",
       "    </tr>\n",
       "    <tr>\n",
       "      <th>9</th>\n",
       "      <td>Y</td>\n",
       "      <td>4</td>\n",
       "      <td>571754.00</td>\n",
       "      <td>595265.00</td>\n",
       "      <td>-23511.00</td>\n",
       "    </tr>\n",
       "    <tr>\n",
       "      <th>10</th>\n",
       "      <td>Y</td>\n",
       "      <td>5</td>\n",
       "      <td>1390709.00</td>\n",
       "      <td>1459801.00</td>\n",
       "      <td>-69092.00</td>\n",
       "    </tr>\n",
       "    <tr>\n",
       "      <th>11</th>\n",
       "      <td>Y</td>\n",
       "      <td>등급_결측값 or X</td>\n",
       "      <td>38015.00</td>\n",
       "      <td>36540.00</td>\n",
       "      <td>1475.00</td>\n",
       "    </tr>\n",
       "    <tr>\n",
       "      <th>12</th>\n",
       "      <td>합계</td>\n",
       "      <td>NaN</td>\n",
       "      <td>31131025.00</td>\n",
       "      <td>31367557.00</td>\n",
       "      <td>-236532.00</td>\n",
       "    </tr>\n",
       "  </tbody>\n",
       "</table>\n",
       "</div>"
      ],
      "text/plain": [
       "   차량말소여부       배출가스등급       기존(A)       RH(B)    차이(A-B)\n",
       "0       N            1  3260843.00  3277672.00  -16829.00\n",
       "1       N            2 10929631.00 11661936.00 -732305.00\n",
       "2       N            3  8185490.00  8550341.00 -364851.00\n",
       "3       N            4  1335156.00  1328747.00    6409.00\n",
       "4       N            5   923641.00   918555.00    5086.00\n",
       "5       N  등급_결측값 or X  1260786.00   181016.00 1079770.00\n",
       "6       Y            1   171488.00   176580.00   -5092.00\n",
       "7       Y            2  1323958.00  1378219.00  -54261.00\n",
       "8       Y            3  1739554.00  1802885.00  -63331.00\n",
       "9       Y            4   571754.00   595265.00  -23511.00\n",
       "10      Y            5  1390709.00  1459801.00  -69092.00\n",
       "11      Y  등급_결측값 or X    38015.00    36540.00    1475.00\n",
       "12     합계          NaN 31131025.00 31367557.00 -236532.00"
      ]
     },
     "execution_count": 255,
     "metadata": {},
     "output_type": "execute_result"
    }
   ],
   "source": [
    "tgrp2 = grp2_before.merge(grp2, on=['차량말소여부', '배출가스등급'], how='outer')\n",
    "tgrp2['차이(A-B)'] = tgrp2['차량대수_x'] - tgrp2['차량대수_y']\n",
    "tgrp2 = tgrp2.rename(columns={'차량대수_x':'기존(A)', '차량대수_y':'RH(B)'})\n",
    "tgrp2"
   ]
  },
  {
   "cell_type": "markdown",
   "metadata": {},
   "source": [
    "#### 3\\. 말소여부, 시도, 등급별 차량대수"
   ]
  },
  {
   "cell_type": "code",
   "execution_count": 256,
   "metadata": {},
   "outputs": [
    {
     "data": {
      "text/plain": [
       "(Index(['차량말소여부', '시도', '배출가스등급', '차량대수'], dtype='object'),\n",
       " Index(['차량말소여부', '시도명', '배출가스등급', '차량대수'], dtype='object'))"
      ]
     },
     "execution_count": 256,
     "metadata": {},
     "output_type": "execute_result"
    }
   ],
   "source": [
    "grp3_before.columns, grp3.columns"
   ]
  },
  {
   "cell_type": "code",
   "execution_count": 257,
   "metadata": {},
   "outputs": [],
   "source": [
    "grp3 = grp3.rename(columns={'시도명':'시도'})"
   ]
  },
  {
   "cell_type": "code",
   "execution_count": 258,
   "metadata": {},
   "outputs": [
    {
     "data": {
      "text/html": [
       "<div>\n",
       "<style scoped>\n",
       "    .dataframe tbody tr th:only-of-type {\n",
       "        vertical-align: middle;\n",
       "    }\n",
       "\n",
       "    .dataframe tbody tr th {\n",
       "        vertical-align: top;\n",
       "    }\n",
       "\n",
       "    .dataframe thead th {\n",
       "        text-align: right;\n",
       "    }\n",
       "</style>\n",
       "<table border=\"1\" class=\"dataframe\">\n",
       "  <thead>\n",
       "    <tr style=\"text-align: right;\">\n",
       "      <th></th>\n",
       "      <th>차량말소여부</th>\n",
       "      <th>시도</th>\n",
       "      <th>배출가스등급</th>\n",
       "      <th>기존(A)</th>\n",
       "      <th>RH(B)</th>\n",
       "      <th>차이(A-B)</th>\n",
       "    </tr>\n",
       "  </thead>\n",
       "  <tbody>\n",
       "    <tr>\n",
       "      <th>0</th>\n",
       "      <td>N</td>\n",
       "      <td>강원특별자치도</td>\n",
       "      <td>1</td>\n",
       "      <td>93671.00</td>\n",
       "      <td>94265.00</td>\n",
       "      <td>-594.00</td>\n",
       "    </tr>\n",
       "    <tr>\n",
       "      <th>1</th>\n",
       "      <td>N</td>\n",
       "      <td>강원특별자치도</td>\n",
       "      <td>2</td>\n",
       "      <td>353126.00</td>\n",
       "      <td>371046.00</td>\n",
       "      <td>-17920.00</td>\n",
       "    </tr>\n",
       "    <tr>\n",
       "      <th>2</th>\n",
       "      <td>N</td>\n",
       "      <td>강원특별자치도</td>\n",
       "      <td>3</td>\n",
       "      <td>295897.00</td>\n",
       "      <td>310482.00</td>\n",
       "      <td>-14585.00</td>\n",
       "    </tr>\n",
       "    <tr>\n",
       "      <th>3</th>\n",
       "      <td>N</td>\n",
       "      <td>강원특별자치도</td>\n",
       "      <td>4</td>\n",
       "      <td>48886.00</td>\n",
       "      <td>48699.00</td>\n",
       "      <td>187.00</td>\n",
       "    </tr>\n",
       "    <tr>\n",
       "      <th>4</th>\n",
       "      <td>N</td>\n",
       "      <td>강원특별자치도</td>\n",
       "      <td>5</td>\n",
       "      <td>36684.00</td>\n",
       "      <td>36427.00</td>\n",
       "      <td>257.00</td>\n",
       "    </tr>\n",
       "    <tr>\n",
       "      <th>...</th>\n",
       "      <td>...</td>\n",
       "      <td>...</td>\n",
       "      <td>...</td>\n",
       "      <td>...</td>\n",
       "      <td>...</td>\n",
       "      <td>...</td>\n",
       "    </tr>\n",
       "    <tr>\n",
       "      <th>200</th>\n",
       "      <td>Y</td>\n",
       "      <td>충청북도</td>\n",
       "      <td>3</td>\n",
       "      <td>60451.00</td>\n",
       "      <td>60911.00</td>\n",
       "      <td>-460.00</td>\n",
       "    </tr>\n",
       "    <tr>\n",
       "      <th>201</th>\n",
       "      <td>Y</td>\n",
       "      <td>충청북도</td>\n",
       "      <td>4</td>\n",
       "      <td>23292.00</td>\n",
       "      <td>23525.00</td>\n",
       "      <td>-233.00</td>\n",
       "    </tr>\n",
       "    <tr>\n",
       "      <th>202</th>\n",
       "      <td>Y</td>\n",
       "      <td>충청북도</td>\n",
       "      <td>5</td>\n",
       "      <td>72013.00</td>\n",
       "      <td>72207.00</td>\n",
       "      <td>-194.00</td>\n",
       "    </tr>\n",
       "    <tr>\n",
       "      <th>203</th>\n",
       "      <td>Y</td>\n",
       "      <td>충청북도</td>\n",
       "      <td>등급_결측값 or X</td>\n",
       "      <td>960.00</td>\n",
       "      <td>672.00</td>\n",
       "      <td>288.00</td>\n",
       "    </tr>\n",
       "    <tr>\n",
       "      <th>204</th>\n",
       "      <td>합계</td>\n",
       "      <td>NaN</td>\n",
       "      <td>NaN</td>\n",
       "      <td>31131025.00</td>\n",
       "      <td>31367557.00</td>\n",
       "      <td>-236532.00</td>\n",
       "    </tr>\n",
       "  </tbody>\n",
       "</table>\n",
       "<p>205 rows × 6 columns</p>\n",
       "</div>"
      ],
      "text/plain": [
       "    차량말소여부       시도       배출가스등급       기존(A)       RH(B)    차이(A-B)\n",
       "0        N  강원특별자치도            1    93671.00    94265.00    -594.00\n",
       "1        N  강원특별자치도            2   353126.00   371046.00  -17920.00\n",
       "2        N  강원특별자치도            3   295897.00   310482.00  -14585.00\n",
       "3        N  강원특별자치도            4    48886.00    48699.00     187.00\n",
       "4        N  강원특별자치도            5    36684.00    36427.00     257.00\n",
       "..     ...      ...          ...         ...         ...        ...\n",
       "200      Y     충청북도            3    60451.00    60911.00    -460.00\n",
       "201      Y     충청북도            4    23292.00    23525.00    -233.00\n",
       "202      Y     충청북도            5    72013.00    72207.00    -194.00\n",
       "203      Y     충청북도  등급_결측값 or X      960.00      672.00     288.00\n",
       "204     합계      NaN          NaN 31131025.00 31367557.00 -236532.00\n",
       "\n",
       "[205 rows x 6 columns]"
      ]
     },
     "execution_count": 258,
     "metadata": {},
     "output_type": "execute_result"
    }
   ],
   "source": [
    "tgrp3 = grp3_before.merge(grp3, on=['차량말소여부', '시도', '배출가스등급'], how='outer')\n",
    "tgrp3['차이(A-B)'] = tgrp3['차량대수_x'] - tgrp3['차량대수_y']\n",
    "tgrp3 = tgrp3.rename(columns={'차량대수_x':'기존(A)', '차량대수_y':'RH(B)'})\n",
    "tgrp3"
   ]
  },
  {
   "cell_type": "markdown",
   "metadata": {},
   "source": [
    "#### 4\\. 말소여부, 연료, 등급별 차량대수"
   ]
  },
  {
   "cell_type": "code",
   "execution_count": 259,
   "metadata": {},
   "outputs": [
    {
     "data": {
      "text/plain": [
       "(Index(['차량말소여부', '연료', '배출가스등급', '차량대수'], dtype='object'),\n",
       " Index(['차량말소여부', '연료', '배출가스등급', '차량대수'], dtype='object'))"
      ]
     },
     "execution_count": 259,
     "metadata": {},
     "output_type": "execute_result"
    }
   ],
   "source": [
    "grp4_before.columns, grp4.columns"
   ]
  },
  {
   "cell_type": "code",
   "execution_count": 260,
   "metadata": {},
   "outputs": [
    {
     "data": {
      "text/plain": [
       "((95, 4), (84, 4))"
      ]
     },
     "execution_count": 260,
     "metadata": {},
     "output_type": "execute_result"
    }
   ],
   "source": [
    "grp4_before.shape, grp4.shape"
   ]
  },
  {
   "cell_type": "code",
   "execution_count": 261,
   "metadata": {},
   "outputs": [
    {
     "data": {
      "text/plain": [
       "(array(['CNG 하이브리드', 'CNG(압축천연가스)', 'LNG(액화천연가스)', 'LPG 하이브리드',\n",
       "        'LPG(액화석유가스)', '경유', '경유 하이브리드', '기타연료', '등유', '수소', '알코올',\n",
       "        '연료_결측값', '전기', '태양열', '휘발유', '휘발유 하이브리드', nan], dtype=object),\n",
       " array(['CNG 하이브리드', 'CNG(압축천연가스)', 'LNG(액화천연가스)', 'LPG 하이브리드',\n",
       "        'LPG(액화석유가스)', '경유', '경유 하이브리드', '기타연료', '등유', '수소', '알코올',\n",
       "        '연료_결측값', '전기', '태양열', '휘발유', '휘발유 하이브리드', nan], dtype=object))"
      ]
     },
     "execution_count": 261,
     "metadata": {},
     "output_type": "execute_result"
    }
   ],
   "source": [
    "grp4_before['연료'].unique(), grp4['연료'].unique()"
   ]
  },
  {
   "cell_type": "code",
   "execution_count": 262,
   "metadata": {},
   "outputs": [
    {
     "data": {
      "text/html": [
       "<div>\n",
       "<style scoped>\n",
       "    .dataframe tbody tr th:only-of-type {\n",
       "        vertical-align: middle;\n",
       "    }\n",
       "\n",
       "    .dataframe tbody tr th {\n",
       "        vertical-align: top;\n",
       "    }\n",
       "\n",
       "    .dataframe thead th {\n",
       "        text-align: right;\n",
       "    }\n",
       "</style>\n",
       "<table border=\"1\" class=\"dataframe\">\n",
       "  <thead>\n",
       "    <tr style=\"text-align: right;\">\n",
       "      <th></th>\n",
       "      <th>차량말소여부</th>\n",
       "      <th>연료</th>\n",
       "      <th>배출가스등급</th>\n",
       "      <th>기존(A)</th>\n",
       "      <th>RH(B)</th>\n",
       "      <th>차이(A-B)</th>\n",
       "    </tr>\n",
       "  </thead>\n",
       "  <tbody>\n",
       "    <tr>\n",
       "      <th>0</th>\n",
       "      <td>N</td>\n",
       "      <td>CNG 하이브리드</td>\n",
       "      <td>1</td>\n",
       "      <td>269.00</td>\n",
       "      <td>269.00</td>\n",
       "      <td>0.00</td>\n",
       "    </tr>\n",
       "    <tr>\n",
       "      <th>1</th>\n",
       "      <td>N</td>\n",
       "      <td>CNG 하이브리드</td>\n",
       "      <td>2</td>\n",
       "      <td>17.00</td>\n",
       "      <td>17.00</td>\n",
       "      <td>0.00</td>\n",
       "    </tr>\n",
       "    <tr>\n",
       "      <th>2</th>\n",
       "      <td>N</td>\n",
       "      <td>CNG(압축천연가스)</td>\n",
       "      <td>2</td>\n",
       "      <td>22139.00</td>\n",
       "      <td>24246.00</td>\n",
       "      <td>-2107.00</td>\n",
       "    </tr>\n",
       "    <tr>\n",
       "      <th>3</th>\n",
       "      <td>N</td>\n",
       "      <td>CNG(압축천연가스)</td>\n",
       "      <td>3</td>\n",
       "      <td>3905.00</td>\n",
       "      <td>3837.00</td>\n",
       "      <td>68.00</td>\n",
       "    </tr>\n",
       "    <tr>\n",
       "      <th>4</th>\n",
       "      <td>N</td>\n",
       "      <td>CNG(압축천연가스)</td>\n",
       "      <td>4</td>\n",
       "      <td>1.00</td>\n",
       "      <td>1.00</td>\n",
       "      <td>0.00</td>\n",
       "    </tr>\n",
       "    <tr>\n",
       "      <th>...</th>\n",
       "      <td>...</td>\n",
       "      <td>...</td>\n",
       "      <td>...</td>\n",
       "      <td>...</td>\n",
       "      <td>...</td>\n",
       "      <td>...</td>\n",
       "    </tr>\n",
       "    <tr>\n",
       "      <th>92</th>\n",
       "      <td>Y</td>\n",
       "      <td>휘발유 하이브리드</td>\n",
       "      <td>2</td>\n",
       "      <td>743.00</td>\n",
       "      <td>2396.00</td>\n",
       "      <td>-1653.00</td>\n",
       "    </tr>\n",
       "    <tr>\n",
       "      <th>93</th>\n",
       "      <td>Y</td>\n",
       "      <td>휘발유 하이브리드</td>\n",
       "      <td>등급_결측값 or X</td>\n",
       "      <td>1954.00</td>\n",
       "      <td>442.00</td>\n",
       "      <td>1512.00</td>\n",
       "    </tr>\n",
       "    <tr>\n",
       "      <th>94</th>\n",
       "      <td>합계</td>\n",
       "      <td>NaN</td>\n",
       "      <td>NaN</td>\n",
       "      <td>31131025.00</td>\n",
       "      <td>31367557.00</td>\n",
       "      <td>-236532.00</td>\n",
       "    </tr>\n",
       "    <tr>\n",
       "      <th>95</th>\n",
       "      <td>N</td>\n",
       "      <td>LPG 하이브리드</td>\n",
       "      <td>2</td>\n",
       "      <td>NaN</td>\n",
       "      <td>1.00</td>\n",
       "      <td>NaN</td>\n",
       "    </tr>\n",
       "    <tr>\n",
       "      <th>96</th>\n",
       "      <td>Y</td>\n",
       "      <td>수소</td>\n",
       "      <td>등급_결측값 or X</td>\n",
       "      <td>NaN</td>\n",
       "      <td>1.00</td>\n",
       "      <td>NaN</td>\n",
       "    </tr>\n",
       "  </tbody>\n",
       "</table>\n",
       "<p>97 rows × 6 columns</p>\n",
       "</div>"
      ],
      "text/plain": [
       "   차량말소여부           연료       배출가스등급       기존(A)       RH(B)    차이(A-B)\n",
       "0       N    CNG 하이브리드            1      269.00      269.00       0.00\n",
       "1       N    CNG 하이브리드            2       17.00       17.00       0.00\n",
       "2       N  CNG(압축천연가스)            2    22139.00    24246.00   -2107.00\n",
       "3       N  CNG(압축천연가스)            3     3905.00     3837.00      68.00\n",
       "4       N  CNG(압축천연가스)            4        1.00        1.00       0.00\n",
       "..    ...          ...          ...         ...         ...        ...\n",
       "92      Y    휘발유 하이브리드            2      743.00     2396.00   -1653.00\n",
       "93      Y    휘발유 하이브리드  등급_결측값 or X     1954.00      442.00    1512.00\n",
       "94     합계          NaN          NaN 31131025.00 31367557.00 -236532.00\n",
       "95      N    LPG 하이브리드            2         NaN        1.00        NaN\n",
       "96      Y           수소  등급_결측값 or X         NaN        1.00        NaN\n",
       "\n",
       "[97 rows x 6 columns]"
      ]
     },
     "execution_count": 262,
     "metadata": {},
     "output_type": "execute_result"
    }
   ],
   "source": [
    "tgrp4 = grp4_before.merge(grp4, on=['차량말소여부', '연료', '배출가스등급'], how='outer')\n",
    "tgrp4['차이(A-B)'] = tgrp4['차량대수_x'] - tgrp4['차량대수_y']\n",
    "tgrp4 = tgrp4.rename(columns={'차량대수_x':'기존(A)', '차량대수_y':'RH(B)'})\n",
    "tgrp4"
   ]
  },
  {
   "cell_type": "code",
   "execution_count": 264,
   "metadata": {},
   "outputs": [
    {
     "data": {
      "text/html": [
       "<div>\n",
       "<style scoped>\n",
       "    .dataframe tbody tr th:only-of-type {\n",
       "        vertical-align: middle;\n",
       "    }\n",
       "\n",
       "    .dataframe tbody tr th {\n",
       "        vertical-align: top;\n",
       "    }\n",
       "\n",
       "    .dataframe thead th {\n",
       "        text-align: right;\n",
       "    }\n",
       "</style>\n",
       "<table border=\"1\" class=\"dataframe\">\n",
       "  <thead>\n",
       "    <tr style=\"text-align: right;\">\n",
       "      <th></th>\n",
       "      <th>차량말소여부</th>\n",
       "      <th>연료</th>\n",
       "      <th>배출가스등급</th>\n",
       "      <th>기존(A)</th>\n",
       "      <th>RH(B)</th>\n",
       "      <th>차이(A-B)</th>\n",
       "    </tr>\n",
       "  </thead>\n",
       "  <tbody>\n",
       "    <tr>\n",
       "      <th>32</th>\n",
       "      <td>N</td>\n",
       "      <td>연료_결측값</td>\n",
       "      <td>2</td>\n",
       "      <td>21.00</td>\n",
       "      <td>NaN</td>\n",
       "      <td>NaN</td>\n",
       "    </tr>\n",
       "    <tr>\n",
       "      <th>33</th>\n",
       "      <td>N</td>\n",
       "      <td>연료_결측값</td>\n",
       "      <td>3</td>\n",
       "      <td>96.00</td>\n",
       "      <td>NaN</td>\n",
       "      <td>NaN</td>\n",
       "    </tr>\n",
       "    <tr>\n",
       "      <th>34</th>\n",
       "      <td>N</td>\n",
       "      <td>연료_결측값</td>\n",
       "      <td>4</td>\n",
       "      <td>48.00</td>\n",
       "      <td>NaN</td>\n",
       "      <td>NaN</td>\n",
       "    </tr>\n",
       "    <tr>\n",
       "      <th>35</th>\n",
       "      <td>N</td>\n",
       "      <td>연료_결측값</td>\n",
       "      <td>5</td>\n",
       "      <td>21.00</td>\n",
       "      <td>NaN</td>\n",
       "      <td>NaN</td>\n",
       "    </tr>\n",
       "    <tr>\n",
       "      <th>36</th>\n",
       "      <td>N</td>\n",
       "      <td>연료_결측값</td>\n",
       "      <td>등급_결측값 or X</td>\n",
       "      <td>76627.00</td>\n",
       "      <td>150423.00</td>\n",
       "      <td>-73796.00</td>\n",
       "    </tr>\n",
       "    <tr>\n",
       "      <th>74</th>\n",
       "      <td>Y</td>\n",
       "      <td>연료_결측값</td>\n",
       "      <td>1</td>\n",
       "      <td>1.00</td>\n",
       "      <td>NaN</td>\n",
       "      <td>NaN</td>\n",
       "    </tr>\n",
       "    <tr>\n",
       "      <th>75</th>\n",
       "      <td>Y</td>\n",
       "      <td>연료_결측값</td>\n",
       "      <td>2</td>\n",
       "      <td>21.00</td>\n",
       "      <td>NaN</td>\n",
       "      <td>NaN</td>\n",
       "    </tr>\n",
       "    <tr>\n",
       "      <th>76</th>\n",
       "      <td>Y</td>\n",
       "      <td>연료_결측값</td>\n",
       "      <td>3</td>\n",
       "      <td>138.00</td>\n",
       "      <td>NaN</td>\n",
       "      <td>NaN</td>\n",
       "    </tr>\n",
       "    <tr>\n",
       "      <th>77</th>\n",
       "      <td>Y</td>\n",
       "      <td>연료_결측값</td>\n",
       "      <td>4</td>\n",
       "      <td>12.00</td>\n",
       "      <td>NaN</td>\n",
       "      <td>NaN</td>\n",
       "    </tr>\n",
       "    <tr>\n",
       "      <th>78</th>\n",
       "      <td>Y</td>\n",
       "      <td>연료_결측값</td>\n",
       "      <td>5</td>\n",
       "      <td>2.00</td>\n",
       "      <td>NaN</td>\n",
       "      <td>NaN</td>\n",
       "    </tr>\n",
       "    <tr>\n",
       "      <th>79</th>\n",
       "      <td>Y</td>\n",
       "      <td>연료_결측값</td>\n",
       "      <td>등급_결측값 or X</td>\n",
       "      <td>6154.00</td>\n",
       "      <td>11181.00</td>\n",
       "      <td>-5027.00</td>\n",
       "    </tr>\n",
       "  </tbody>\n",
       "</table>\n",
       "</div>"
      ],
      "text/plain": [
       "   차량말소여부      연료       배출가스등급    기존(A)     RH(B)   차이(A-B)\n",
       "32      N  연료_결측값            2    21.00       NaN       NaN\n",
       "33      N  연료_결측값            3    96.00       NaN       NaN\n",
       "34      N  연료_결측값            4    48.00       NaN       NaN\n",
       "35      N  연료_결측값            5    21.00       NaN       NaN\n",
       "36      N  연료_결측값  등급_결측값 or X 76627.00 150423.00 -73796.00\n",
       "74      Y  연료_결측값            1     1.00       NaN       NaN\n",
       "75      Y  연료_결측값            2    21.00       NaN       NaN\n",
       "76      Y  연료_결측값            3   138.00       NaN       NaN\n",
       "77      Y  연료_결측값            4    12.00       NaN       NaN\n",
       "78      Y  연료_결측값            5     2.00       NaN       NaN\n",
       "79      Y  연료_결측값  등급_결측값 or X  6154.00  11181.00  -5027.00"
      ]
     },
     "execution_count": 264,
     "metadata": {},
     "output_type": "execute_result"
    }
   ],
   "source": [
    "tgrp4[tgrp4['연료'] == '연료_결측값']"
   ]
  },
  {
   "cell_type": "markdown",
   "metadata": {},
   "source": [
    "#### 출력-통계 기존_LST"
   ]
  },
  {
   "cell_type": "code",
   "execution_count": 265,
   "metadata": {},
   "outputs": [
    {
     "data": {
      "text/html": [
       "<div>\n",
       "<style scoped>\n",
       "    .dataframe tbody tr th:only-of-type {\n",
       "        vertical-align: middle;\n",
       "    }\n",
       "\n",
       "    .dataframe tbody tr th {\n",
       "        vertical-align: top;\n",
       "    }\n",
       "\n",
       "    .dataframe thead th {\n",
       "        text-align: right;\n",
       "    }\n",
       "</style>\n",
       "<table border=\"1\" class=\"dataframe\">\n",
       "  <thead>\n",
       "    <tr style=\"text-align: right;\">\n",
       "      <th></th>\n",
       "      <th>차량말소여부</th>\n",
       "      <th>연료</th>\n",
       "      <th>배출가스등급</th>\n",
       "      <th>기존(A)</th>\n",
       "      <th>RH(B)</th>\n",
       "      <th>차이(A-B)</th>\n",
       "    </tr>\n",
       "  </thead>\n",
       "  <tbody>\n",
       "    <tr>\n",
       "      <th>94</th>\n",
       "      <td>합계</td>\n",
       "      <td>NaN</td>\n",
       "      <td>NaN</td>\n",
       "      <td>31131025.00</td>\n",
       "      <td>31367557.00</td>\n",
       "      <td>-236532.00</td>\n",
       "    </tr>\n",
       "  </tbody>\n",
       "</table>\n",
       "</div>"
      ],
      "text/plain": [
       "   차량말소여부   연료 배출가스등급       기존(A)       RH(B)    차이(A-B)\n",
       "94     합계  NaN    NaN 31131025.00 31367557.00 -236532.00"
      ]
     },
     "execution_count": 265,
     "metadata": {},
     "output_type": "execute_result"
    }
   ],
   "source": [
    "tgrp4[tgrp4['연료'].isnull()]"
   ]
  },
  {
   "cell_type": "code",
   "execution_count": 266,
   "metadata": {},
   "outputs": [
    {
     "data": {
      "text/plain": [
       "'20240115_PM_124654'"
      ]
     },
     "execution_count": 266,
     "metadata": {},
     "output_type": "execute_result"
    }
   ],
   "source": [
    "today_date_dtl = datetime.today().strftime('%Y%m%d_%p_%I%M%S')\n",
    "today_date_dtl"
   ]
  },
  {
   "cell_type": "code",
   "execution_count": 267,
   "metadata": {},
   "outputs": [],
   "source": [
    "with pd.ExcelWriter(os.path.join(df_fold, f'기존_RH_비교통계_{today_date_dtl}.xlsx')) as writer:\n",
    "    tgrp1.to_excel(writer, sheet_name='말소_시도별', index=False)\n",
    "    tgrp2.to_excel(writer, sheet_name='말소_등급별', index=False)\n",
    "    tgrp3.to_excel(writer, sheet_name='말소_시도_등급별', index=False)\n",
    "    tgrp4.to_excel(writer, sheet_name='말소_연료_등급별', index=False)"
   ]
  },
  {
   "cell_type": "markdown",
   "metadata": {},
   "source": [
    "# code end"
   ]
  }
 ],
 "metadata": {
  "interpreter": {
   "hash": "569b4317022eb29baeafb3d0f1f739310808ea28ce83ca127a35db1c01070585"
  },
  "kernelspec": {
   "display_name": "Python 3.9.12 ('base')",
   "language": "python",
   "name": "python3"
  },
  "language_info": {
   "codemirror_mode": {
    "name": "ipython",
    "version": 3
   },
   "file_extension": ".py",
   "mimetype": "text/x-python",
   "name": "python",
   "nbconvert_exporter": "python",
   "pygments_lexer": "ipython3",
   "version": "3.11.5"
  },
  "orig_nbformat": 4
 },
 "nbformat": 4,
 "nbformat_minor": 2
}
