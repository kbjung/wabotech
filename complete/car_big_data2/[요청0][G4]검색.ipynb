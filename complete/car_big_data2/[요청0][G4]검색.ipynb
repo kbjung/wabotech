{
 "cells": [
  {
   "attachments": {},
   "cell_type": "markdown",
   "metadata": {},
   "source": [
    "# Library"
   ]
  },
  {
   "cell_type": "code",
   "execution_count": 1,
   "metadata": {},
   "outputs": [],
   "source": [
    "import pandas as pd\n",
    "import os\n",
    "from datetime import datetime\n",
    "import numpy as np\n",
    "from tqdm import tqdm\n",
    "from glob import glob"
   ]
  },
  {
   "attachments": {},
   "cell_type": "markdown",
   "metadata": {},
   "source": [
    "# fold path"
   ]
  },
  {
   "cell_type": "code",
   "execution_count": 52,
   "metadata": {},
   "outputs": [],
   "source": [
    "# # backup\n",
    "# fold = 'D:/data/big2/BD1_4등급_데이터_점검1/emis'\n",
    "# norm_fold = 'D:/data/big2/BD1_4등급_데이터_점검1/emis/norm'\n",
    "# total_fold = 'D:/data/big2/BD1_4등급_데이터_점검1/emis/norm/total'\n",
    "# error_fold = 'D:/data/big2/BD1_4등급_데이터_점검1/emis/error'\n",
    "# total_error_fold = 'D:/data/big2/BD1_4등급_데이터_점검1/emis/error/total'\n",
    "# weird_fold = 'D:/data/big2/BD1_4등급_데이터_점검1/emis/weird'\n",
    "# nan_fold = 'D:/data/big2/BD1_4등급_데이터_점검1/emis/nan'\n",
    "# nad_fold = 'D:/data/big2/BD1_4등급_데이터_점검1/emis/nan/nad'"
   ]
  },
  {
   "cell_type": "code",
   "execution_count": 54,
   "metadata": {},
   "outputs": [],
   "source": [
    "# update2\n",
    "fold = 'D:/data/big2/BD1_4등급_데이터_점검1'\n",
    "ods_fold = 'D:/data/big2/ODS'\n",
    "submit_fold = 'D:/data/big2/BD1_4등급_데이터_점검1/result_emis_update2/submit'"
   ]
  },
  {
   "attachments": {},
   "cell_type": "markdown",
   "metadata": {},
   "source": [
    "# File Load\n",
    "- 정상 배인번호 파일\n",
    "- 확인할 파일"
   ]
  },
  {
   "attachments": {},
   "cell_type": "markdown",
   "metadata": {},
   "source": [
    "## 정상 배인번호 파일"
   ]
  },
  {
   "cell_type": "code",
   "execution_count": 5,
   "metadata": {},
   "outputs": [],
   "source": [
    "df = pd.read_csv(os.path.join(submit_fold, '제출_4등급_차량_리스트_양식_result_처리_2023.03.17_PM_05.03.23.csv'),encoding='cp949', low_memory=False)"
   ]
  },
  {
   "cell_type": "code",
   "execution_count": 6,
   "metadata": {},
   "outputs": [
    {
     "name": "stdout",
     "output_type": "stream",
     "text": [
      "<class 'pandas.core.frame.DataFrame'>\n",
      "RangeIndex: 1153813 entries, 0 to 1153812\n",
      "Data columns (total 32 columns):\n",
      " #   Column    Non-Null Count    Dtype  \n",
      "---  ------    --------------    -----  \n",
      " 0   차대번호      1153813 non-null  object \n",
      " 1   차량번호      1153813 non-null  object \n",
      " 2   제원관리번호    1153813 non-null  object \n",
      " 3   차종_원본     1153813 non-null  object \n",
      " 4   용도        1153813 non-null  object \n",
      " 5   최초등록일     1153813 non-null  int64  \n",
      " 6   연식        1153813 non-null  int64  \n",
      " 7   제작일자      1153809 non-null  float64\n",
      " 8   검사유효일     1153810 non-null  float64\n",
      " 9   배출가스인증번호  1146663 non-null  object \n",
      " 10  등급        1153813 non-null  int64  \n",
      " 11  차명        1153813 non-null  object \n",
      " 12  차종분류      1153813 non-null  object \n",
      " 13  차종유형      1153813 non-null  object \n",
      " 14  자동차형식     1153812 non-null  object \n",
      " 15  제작사명      1153795 non-null  object \n",
      " 16  연료        1153813 non-null  object \n",
      " 17  엔진형식      1153813 non-null  object \n",
      " 18  총중량       1153813 non-null  float64\n",
      " 19  적재중량      1153589 non-null  float64\n",
      " 20  엔진출력      1153811 non-null  float64\n",
      " 21  배기량       1153813 non-null  float64\n",
      " 22  법정동코드     1153813 non-null  int64  \n",
      " 23  시도명       1153813 non-null  object \n",
      " 24  시군구명      1153813 non-null  object \n",
      " 25  소유자구분     1153813 non-null  object \n",
      " 26  말소여부      1153813 non-null  object \n",
      " 27  일치유무      1153813 non-null  object \n",
      " 28  배인번호_수정   1153183 non-null  object \n",
      " 29  등급_수정     1153813 non-null  object \n",
      " 30  DPF유무     1153813 non-null  object \n",
      " 31  DPF유무_수정  1140321 non-null  object \n",
      "dtypes: float64(6), int64(4), object(22)\n",
      "memory usage: 281.7+ MB\n"
     ]
    }
   ],
   "source": [
    "df.info()"
   ]
  },
  {
   "cell_type": "code",
   "execution_count": 42,
   "metadata": {},
   "outputs": [],
   "source": [
    "df['제원관리번호'] = df['제원관리번호'].astype('str')"
   ]
  },
  {
   "attachments": {},
   "cell_type": "markdown",
   "metadata": {},
   "source": [
    "## 확인할 파일"
   ]
  },
  {
   "cell_type": "code",
   "execution_count": 7,
   "metadata": {},
   "outputs": [
    {
     "name": "stdout",
     "output_type": "stream",
     "text": [
      "<class 'pandas.core.frame.DataFrame'>\n",
      "RangeIndex: 6665 entries, 0 to 6664\n",
      "Data columns (total 31 columns):\n",
      " #   Column    Non-Null Count  Dtype  \n",
      "---  ------    --------------  -----  \n",
      " 0   차대번호      6665 non-null   object \n",
      " 1   차량번호      6665 non-null   object \n",
      " 2   제원관리번호    6665 non-null   object \n",
      " 3   차종_원본     6665 non-null   object \n",
      " 4   용도        6665 non-null   object \n",
      " 5   최초등록일     6665 non-null   int64  \n",
      " 6   연식        6665 non-null   int64  \n",
      " 7   제작일자      6662 non-null   float64\n",
      " 8   검사유효일     6664 non-null   float64\n",
      " 9   배출가스인증번호  6041 non-null   object \n",
      " 10  등급        6665 non-null   int64  \n",
      " 11  차명        6665 non-null   object \n",
      " 12  차종분류      6665 non-null   object \n",
      " 13  차종유형      6665 non-null   object \n",
      " 14  자동차형식     6664 non-null   object \n",
      " 15  제작사명      6647 non-null   object \n",
      " 16  연료        6665 non-null   object \n",
      " 17  엔진형식      6665 non-null   object \n",
      " 18  총중량       6665 non-null   int64  \n",
      " 19  적재중량      6645 non-null   float64\n",
      " 20  엔진출력      6664 non-null   float64\n",
      " 21  배기량       6665 non-null   int64  \n",
      " 22  법정동코드     6665 non-null   int64  \n",
      " 23  시도명       6665 non-null   object \n",
      " 24  시군구명      6665 non-null   object \n",
      " 25  소유자구분     6665 non-null   object \n",
      " 26  말소여부      6665 non-null   object \n",
      " 27  일치유무      6665 non-null   object \n",
      " 28  배인번호_수정   0 non-null      float64\n",
      " 29  등급_수정     6665 non-null   int64  \n",
      " 30  DPF유무_수정  2248 non-null   object \n",
      "dtypes: float64(5), int64(7), object(19)\n",
      "memory usage: 1.6+ MB\n"
     ]
    }
   ],
   "source": [
    "ch = pd.read_excel(os.path.join(fold, '통합_문서2.xlsx'))\n",
    "ch.info()"
   ]
  },
  {
   "cell_type": "code",
   "execution_count": 36,
   "metadata": {},
   "outputs": [
    {
     "data": {
      "text/plain": [
       "630"
      ]
     },
     "execution_count": 36,
     "metadata": {},
     "output_type": "execute_result"
    }
   ],
   "source": [
    "df['배인번호_수정'].isnull().sum()"
   ]
  },
  {
   "attachments": {},
   "cell_type": "markdown",
   "metadata": {},
   "source": [
    "## 정기&정밀"
   ]
  },
  {
   "cell_type": "code",
   "execution_count": 71,
   "metadata": {},
   "outputs": [],
   "source": [
    "# about \n",
    "tin = pd.read_csv(os.path.join(ods_fold, '[ODS]정기&정밀검사(2022.12.28).csv'), low_memory=False)"
   ]
  },
  {
   "attachments": {},
   "cell_type": "markdown",
   "metadata": {},
   "source": [
    "# 확인"
   ]
  },
  {
   "cell_type": "code",
   "execution_count": 46,
   "metadata": {},
   "outputs": [
    {
     "data": {
      "text/plain": [
       "(6665, 31)"
      ]
     },
     "execution_count": 46,
     "metadata": {},
     "output_type": "execute_result"
    }
   ],
   "source": [
    "ch.shape"
   ]
  },
  {
   "cell_type": "code",
   "execution_count": 49,
   "metadata": {},
   "outputs": [
    {
     "data": {
      "text/plain": [
       "(6665, 32)"
      ]
     },
     "execution_count": 49,
     "metadata": {},
     "output_type": "execute_result"
    }
   ],
   "source": [
    "total = ch.merge(df[['차대번호', '배인번호_수정']], on='차대번호', how='left')\n",
    "total.shape"
   ]
  },
  {
   "cell_type": "code",
   "execution_count": 51,
   "metadata": {},
   "outputs": [],
   "source": [
    "total.to_csv(os.path.join(fold, '6665대_기존_배인번호_수정_추가.csv'), index=False, encoding='cp949')"
   ]
  },
  {
   "attachments": {},
   "cell_type": "markdown",
   "metadata": {},
   "source": [
    "## 정기&정밀 검사 정보 병합"
   ]
  },
  {
   "cell_type": "code",
   "execution_count": 72,
   "metadata": {},
   "outputs": [
    {
     "data": {
      "text/plain": [
       "(1153813, 32)"
      ]
     },
     "execution_count": 72,
     "metadata": {},
     "output_type": "execute_result"
    }
   ],
   "source": [
    "df.shape"
   ]
  },
  {
   "cell_type": "code",
   "execution_count": 73,
   "metadata": {},
   "outputs": [
    {
     "data": {
      "text/plain": [
       "(4328167, 73)"
      ]
     },
     "execution_count": 73,
     "metadata": {},
     "output_type": "execute_result"
    }
   ],
   "source": [
    "df2 = df.merge(tin, on='차대번호', how='left')\n",
    "df2.shape"
   ]
  },
  {
   "cell_type": "code",
   "execution_count": 74,
   "metadata": {},
   "outputs": [
    {
     "data": {
      "text/plain": [
       "(329279, 73)"
      ]
     },
     "execution_count": 74,
     "metadata": {},
     "output_type": "execute_result"
    }
   ],
   "source": [
    "df2.loc[df2['차명_x'] == '싼타페(SANTAFE)'].shape"
   ]
  },
  {
   "cell_type": "code",
   "execution_count": 75,
   "metadata": {},
   "outputs": [
    {
     "data": {
      "text/plain": [
       "Index(['차대번호', '차량번호_x', '제원관리번호', '차종_원본', '용도', '최초등록일', '연식', '제작일자',\n",
       "       '검사유효일', '배출가스인증번호', '등급', '차명_x', '차종분류', '차종유형', '자동차형식', '제작사명',\n",
       "       '연료', '엔진형식_x', '총중량', '적재중량', '엔진출력', '배기량', '법정동코드', '시도명', '시군구명',\n",
       "       '소유자구분', '말소여부', '일치유무', '배인번호_수정', '등급_수정', 'DPF유무', 'DPF유무_수정',\n",
       "       '사용연료', '주행거리', '차명_y', '차량번호_y', '차종', '차량연식', '엔진형식_y', '검사방법',\n",
       "       '검사일자', '검사종류', '검사판정시각', '검사판정', '산소값', '이산화탄소값', '무부하매연판정1',\n",
       "       '무부하매연판정2', '무부하매연판정3', '무부하매연판정4', '무부하매연판정5', '무부하매연판정6', '무부하매연허용치1',\n",
       "       '무부하매연허용치2', '무부하매연허용치3', '무부하매연허용치4', '무부하매연허용치5', '무부하매연허용치6',\n",
       "       '무부하매연측정치1', '무부하매연측정치2', '무부하매연측정치3', '무부하매연측정치4', '무부하매연측정치5',\n",
       "       '무부하매연측정치6', '차량용도', '최대출력허용치', '최대출력측정값', '검사접수번호', '검사소명', '재검사기간',\n",
       "       '정기정밀', '검사 검사소코드', '검사유효기간'],\n",
       "      dtype='object')"
      ]
     },
     "execution_count": 75,
     "metadata": {},
     "output_type": "execute_result"
    }
   ],
   "source": [
    "df2.columns"
   ]
  },
  {
   "cell_type": "code",
   "execution_count": 77,
   "metadata": {},
   "outputs": [
    {
     "data": {
      "text/html": [
       "<div>\n",
       "<style scoped>\n",
       "    .dataframe tbody tr th:only-of-type {\n",
       "        vertical-align: middle;\n",
       "    }\n",
       "\n",
       "    .dataframe tbody tr th {\n",
       "        vertical-align: top;\n",
       "    }\n",
       "\n",
       "    .dataframe thead th {\n",
       "        text-align: right;\n",
       "    }\n",
       "</style>\n",
       "<table border=\"1\" class=\"dataframe\">\n",
       "  <thead>\n",
       "    <tr style=\"text-align: right;\">\n",
       "      <th></th>\n",
       "      <th>차대번호</th>\n",
       "      <th>차량번호_x</th>\n",
       "      <th>차명_x</th>\n",
       "      <th>주행거리</th>\n",
       "      <th>검사일자</th>\n",
       "    </tr>\n",
       "  </thead>\n",
       "  <tbody>\n",
       "    <tr>\n",
       "      <th>177479</th>\n",
       "      <td>KMHSG81WP9U429362</td>\n",
       "      <td>53더7932</td>\n",
       "      <td>싼타페(SANTAFE)</td>\n",
       "      <td>190647.0</td>\n",
       "      <td>20200325.0</td>\n",
       "    </tr>\n",
       "    <tr>\n",
       "      <th>177480</th>\n",
       "      <td>KMHSG81WP9U429362</td>\n",
       "      <td>53더7932</td>\n",
       "      <td>싼타페(SANTAFE)</td>\n",
       "      <td>190870.0</td>\n",
       "      <td>20200331.0</td>\n",
       "    </tr>\n",
       "    <tr>\n",
       "      <th>177481</th>\n",
       "      <td>KMHSG81WP9U429362</td>\n",
       "      <td>53더7932</td>\n",
       "      <td>싼타페(SANTAFE)</td>\n",
       "      <td>238045.0</td>\n",
       "      <td>20220308.0</td>\n",
       "    </tr>\n",
       "    <tr>\n",
       "      <th>177482</th>\n",
       "      <td>KMHSG81WP9U429362</td>\n",
       "      <td>53더7932</td>\n",
       "      <td>싼타페(SANTAFE)</td>\n",
       "      <td>238045.0</td>\n",
       "      <td>20220308.0</td>\n",
       "    </tr>\n",
       "    <tr>\n",
       "      <th>177483</th>\n",
       "      <td>KMHSH81VP8U391737</td>\n",
       "      <td>27다1774</td>\n",
       "      <td>싼타페(SANTAFE)</td>\n",
       "      <td>139332.0</td>\n",
       "      <td>20200108.0</td>\n",
       "    </tr>\n",
       "  </tbody>\n",
       "</table>\n",
       "</div>"
      ],
      "text/plain": [
       "                     차대번호   차량번호_x          차명_x      주행거리        검사일자\n",
       "177479  KMHSG81WP9U429362  53더7932  싼타페(SANTAFE)  190647.0  20200325.0\n",
       "177480  KMHSG81WP9U429362  53더7932  싼타페(SANTAFE)  190870.0  20200331.0\n",
       "177481  KMHSG81WP9U429362  53더7932  싼타페(SANTAFE)  238045.0  20220308.0\n",
       "177482  KMHSG81WP9U429362  53더7932  싼타페(SANTAFE)  238045.0  20220308.0\n",
       "177483  KMHSH81VP8U391737  27다1774  싼타페(SANTAFE)  139332.0  20200108.0"
      ]
     },
     "execution_count": 77,
     "metadata": {},
     "output_type": "execute_result"
    }
   ],
   "source": [
    "df2.loc[df2['차명_x'] == '싼타페(SANTAFE)', ['차대번호', '차량번호_x', '차명_x', '주행거리', '검사일자']].head()"
   ]
  },
  {
   "cell_type": "code",
   "execution_count": 78,
   "metadata": {},
   "outputs": [
    {
     "data": {
      "text/html": [
       "<div>\n",
       "<style scoped>\n",
       "    .dataframe tbody tr th:only-of-type {\n",
       "        vertical-align: middle;\n",
       "    }\n",
       "\n",
       "    .dataframe tbody tr th {\n",
       "        vertical-align: top;\n",
       "    }\n",
       "\n",
       "    .dataframe thead th {\n",
       "        text-align: right;\n",
       "    }\n",
       "</style>\n",
       "<table border=\"1\" class=\"dataframe\">\n",
       "  <thead>\n",
       "    <tr style=\"text-align: right;\">\n",
       "      <th></th>\n",
       "      <th>차대번호</th>\n",
       "      <th>차량번호_x</th>\n",
       "      <th>차명_x</th>\n",
       "      <th>주행거리</th>\n",
       "      <th>검사일자</th>\n",
       "    </tr>\n",
       "  </thead>\n",
       "  <tbody>\n",
       "    <tr>\n",
       "      <th>177491</th>\n",
       "      <td>KMHSH81WP6U104685</td>\n",
       "      <td>13무6383</td>\n",
       "      <td>싼타페(SANTAFE)</td>\n",
       "      <td>95821.0</td>\n",
       "      <td>20201030.0</td>\n",
       "    </tr>\n",
       "    <tr>\n",
       "      <th>177492</th>\n",
       "      <td>KMHSH81WP6U104685</td>\n",
       "      <td>13무6383</td>\n",
       "      <td>싼타페(SANTAFE)</td>\n",
       "      <td>110314.0</td>\n",
       "      <td>20221126.0</td>\n",
       "    </tr>\n",
       "  </tbody>\n",
       "</table>\n",
       "</div>"
      ],
      "text/plain": [
       "                     차대번호   차량번호_x          차명_x      주행거리        검사일자\n",
       "177491  KMHSH81WP6U104685  13무6383  싼타페(SANTAFE)   95821.0  20201030.0\n",
       "177492  KMHSH81WP6U104685  13무6383  싼타페(SANTAFE)  110314.0  20221126.0"
      ]
     },
     "execution_count": 78,
     "metadata": {},
     "output_type": "execute_result"
    }
   ],
   "source": [
    "df2.loc[(df2['차명_x'] == '싼타페(SANTAFE)') & (df2['차량번호_x'] == '13무6383'), ['차대번호', '차량번호_x', '차명_x', '주행거리', '검사일자']]"
   ]
  },
  {
   "cell_type": "code",
   "execution_count": null,
   "metadata": {},
   "outputs": [],
   "source": []
  }
 ],
 "metadata": {
  "kernelspec": {
   "display_name": "base",
   "language": "python",
   "name": "python3"
  },
  "language_info": {
   "codemirror_mode": {
    "name": "ipython",
    "version": 3
   },
   "file_extension": ".py",
   "mimetype": "text/x-python",
   "name": "python",
   "nbconvert_exporter": "python",
   "pygments_lexer": "ipython3",
   "version": "3.9.13"
  },
  "orig_nbformat": 4,
  "vscode": {
   "interpreter": {
    "hash": "ad2bdc8ecc057115af97d19610ffacc2b4e99fae6737bb82f5d7fb13d2f2c186"
   }
  }
 },
 "nbformat": 4,
 "nbformat_minor": 2
}
