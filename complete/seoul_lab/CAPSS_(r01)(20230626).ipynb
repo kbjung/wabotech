{
 "cells": [
  {
   "attachments": {},
   "cell_type": "markdown",
   "metadata": {},
   "source": [
    "# Library"
   ]
  },
  {
   "cell_type": "code",
   "execution_count": 1,
   "metadata": {},
   "outputs": [],
   "source": [
    "import pandas as pd\n",
    "import numpy as np\n",
    "import os\n",
    "from tqdm import tqdm\n",
    "from datetime import datetime\n",
    "import math\n",
    "from numpy import log as ln"
   ]
  },
  {
   "cell_type": "code",
   "execution_count": 2,
   "metadata": {},
   "outputs": [],
   "source": [
    "# 소수점 옵션\n",
    "pd.options.display.float_format = '{:.2f}'.format\n",
    "# pd.reset_option('display.float_format')"
   ]
  },
  {
   "attachments": {},
   "cell_type": "markdown",
   "metadata": {},
   "source": [
    "# fold path"
   ]
  },
  {
   "cell_type": "code",
   "execution_count": 3,
   "metadata": {},
   "outputs": [],
   "source": [
    "drive = 'D'"
   ]
  },
  {
   "cell_type": "code",
   "execution_count": 4,
   "metadata": {},
   "outputs": [],
   "source": [
    "ods_fold = f'{drive}:/data/big2/ODS'\n",
    "big2_fold = f'{drive}:/data/big2'\n",
    "pre_fold = f'{drive}:/data/seoul_lab/pre'\n",
    "an_fold = f'{drive}:/data/seoul_lab/analysis'\n",
    "raw1_fold = f'{drive}:/data/big2/BD1/raw'\n",
    "df1_fold = f'{drive}:/data/big2/BD1/df'\n",
    "an1_fold = f'{drive}:/data/big2/BD1/an'"
   ]
  },
  {
   "attachments": {},
   "cell_type": "markdown",
   "metadata": {},
   "source": [
    "# Load\n",
    "- 등록&제원\n",
    "- 저감장치 부착이력\n",
    "- 법정동코드\n",
    "- KOSIS"
   ]
  },
  {
   "attachments": {},
   "cell_type": "markdown",
   "metadata": {},
   "source": [
    "## 등록&제원"
   ]
  },
  {
   "cell_type": "code",
   "execution_count": 5,
   "metadata": {},
   "outputs": [
    {
     "data": {
      "text/plain": [
       "\"\\n'차량관리번호', '차량등록번호', '본거지법정동코드', '소유자구분', '차종_등록정보', '용도', '현재회원번호', '차대번호', '최초등록일자', '차량연식', '차량제작일자', '배출가스검사유효일자', '제원관리번호', \\n'배출가스인증번호', '배출가스등급', '저공해조치YN(미사용)', '저공해조치종류', '저공해조치구조변경YN', '차량등록번호숫자정보', '차량말소YN', '최초회원번호', '취득일자', '취득금액', '생성일시_등록정보', '수정일시_등록정보', \\n'차명', '차종_제원정보', '차종분류', '차종유형(소분류)', '자동차형식', '제작사명', '연료', '엔진형식', '공차중량', '총중량', '적재중량', '엔진출력', '배기량', '승차인원', '차량길이', '차량너비', '차량높이', '원산지명', \\n'삭제YN', '승인일자', '구동형식', '변속기종류', '생성일시_제원정보', '수정일시_제원정보'\\n\""
      ]
     },
     "execution_count": 5,
     "metadata": {},
     "output_type": "execute_result"
    }
   ],
   "source": [
    "# 전체 컬럼명\n",
    "'''\n",
    "'차량관리번호', '차량등록번호', '본거지법정동코드', '소유자구분', '차종_등록정보', '용도', '현재회원번호', '차대번호', '최초등록일자', '차량연식', '차량제작일자', '배출가스검사유효일자', '제원관리번호', \n",
    "'배출가스인증번호', '배출가스등급', '저공해조치YN(미사용)', '저공해조치종류', '저공해조치구조변경YN', '차량등록번호숫자정보', '차량말소YN', '최초회원번호', '취득일자', '취득금액', '생성일시_등록정보', '수정일시_등록정보', \n",
    "'차명', '차종_제원정보', '차종분류', '차종유형(소분류)', '자동차형식', '제작사명', '연료', '엔진형식', '공차중량', '총중량', '적재중량', '엔진출력', '배기량', '승차인원', '차량길이', '차량너비', '차량높이', '원산지명', \n",
    "'삭제YN', '승인일자', '구동형식', '변속기종류', '생성일시_제원정보', '수정일시_제원정보'\n",
    "'''"
   ]
  },
  {
   "cell_type": "code",
   "execution_count": 6,
   "metadata": {},
   "outputs": [],
   "source": [
    "# about 4m 30.7s\n",
    "name = '[ODS]등록정보&제원정보(2022.12.28)'\n",
    "file_name = f'{name}.csv'\n",
    "smig = pd.read_csv(os.path.join(ods_fold, file_name), low_memory=False, encoding='cp949', usecols=['차대번호', '본거지법정동코드', '차종_등록정보', '차량연식', '배출가스인증번호', '배출가스등급', '차량말소YN', '차종유형(소분류)', '연료', '배기량', '최초등록일자', '총중량'])\n",
    "smig.info()"
   ]
  },
  {
   "cell_type": "code",
   "execution_count": null,
   "metadata": {},
   "outputs": [
    {
     "data": {
      "text/plain": [
       "Index(['본거지법정동코드', '차종_등록정보', '차대번호', '최초등록일자', '차량연식', '배출가스인증번호', '배출가스등급',\n",
       "       '차량말소YN', '차종유형(소분류)', '연료', '총중량', '배기량'],\n",
       "      dtype='object')"
      ]
     },
     "execution_count": 10,
     "metadata": {},
     "output_type": "execute_result"
    }
   ],
   "source": [
    "smig.columns"
   ]
  },
  {
   "cell_type": "code",
   "execution_count": null,
   "metadata": {},
   "outputs": [
    {
     "data": {
      "text/plain": [
       "array(['소형', '경형', '중형', '대형', nan], dtype=object)"
      ]
     },
     "execution_count": 11,
     "metadata": {},
     "output_type": "execute_result"
    }
   ],
   "source": [
    "smig['차종유형(소분류)'].unique()"
   ]
  },
  {
   "cell_type": "code",
   "execution_count": null,
   "metadata": {},
   "outputs": [
    {
     "data": {
      "text/plain": [
       "Index(['법정동코드', '차종', '차대번호', '최초등록일자', '차량연식', '배출가스인증번호', '배출가스등급', '차량말소YN',\n",
       "       '차종유형', '연료', '총중량', '배기량'],\n",
       "      dtype='object')"
      ]
     },
     "execution_count": 12,
     "metadata": {},
     "output_type": "execute_result"
    }
   ],
   "source": [
    "smig1 = smig.rename(columns={'본거지법정동코드':'법정동코드', '차종_등록정보':'차종', '차종유형(소분류)':'차종유형'})\n",
    "smig1.columns"
   ]
  },
  {
   "cell_type": "code",
   "execution_count": null,
   "metadata": {},
   "outputs": [
    {
     "data": {
      "text/plain": [
       "차량말소YN\n",
       "N    25693532\n",
       "Y     3840515\n",
       "Name: count, dtype: int64"
      ]
     },
     "execution_count": 13,
     "metadata": {},
     "output_type": "execute_result"
    }
   ],
   "source": [
    "smig1['차량말소YN'].value_counts(dropna=False)"
   ]
  },
  {
   "attachments": {},
   "cell_type": "markdown",
   "metadata": {},
   "source": [
    "### 말소제거"
   ]
  },
  {
   "cell_type": "code",
   "execution_count": null,
   "metadata": {},
   "outputs": [
    {
     "data": {
      "text/plain": [
       "(25693532, 12)"
      ]
     },
     "execution_count": 14,
     "metadata": {},
     "output_type": "execute_result"
    }
   ],
   "source": [
    "smig2 = smig1[smig1['차량말소YN'] == 'N'].reset_index(drop=True)\n",
    "smig2.shape"
   ]
  },
  {
   "attachments": {},
   "cell_type": "markdown",
   "metadata": {},
   "source": [
    "## 저감장치 부착이력(중복차대제거)"
   ]
  },
  {
   "cell_type": "code",
   "execution_count": null,
   "metadata": {},
   "outputs": [
    {
     "name": "stdout",
     "output_type": "stream",
     "text": [
      "<class 'pandas.core.frame.DataFrame'>\n",
      "RangeIndex: 809255 entries, 0 to 809254\n",
      "Data columns (total 2 columns):\n",
      " #   Column  Non-Null Count   Dtype \n",
      "---  ------  --------------   ----- \n",
      " 0   차대번호    809255 non-null  object\n",
      " 1   저감장치구분  809255 non-null  object\n",
      "dtypes: object(2)\n",
      "memory usage: 12.3+ MB\n"
     ]
    }
   ],
   "source": [
    "# about 28.3s\n",
    "# columns = 저감장치종류, TDMS부착여부, 구조변경일자, 부착업체명, 부착일자, 탈거승인일, 차량번호, 차대번호, 저감장치반납여부, 저감장치구분, 삼원촉매장치반납여부\n",
    "name = '[ODS]저감장치부착이력(중복차대제거)(2022.12.28)'\n",
    "file_name = f'{name}.csv'\n",
    "att = pd.read_csv(os.path.join(ods_fold, file_name), low_memory=False, encoding='cp949', usecols=['차대번호', '저감장치구분'])\n",
    "att.info()"
   ]
  },
  {
   "cell_type": "code",
   "execution_count": null,
   "metadata": {},
   "outputs": [
    {
     "data": {
      "text/plain": [
       "array(['엔진교체', '3종', '1종', '2종', '엔진개조', '1종+SCR', '삼원촉매'], dtype=object)"
      ]
     },
     "execution_count": 13,
     "metadata": {},
     "output_type": "execute_result"
    }
   ],
   "source": [
    "att['저감장치구분'].unique()"
   ]
  },
  {
   "cell_type": "code",
   "execution_count": null,
   "metadata": {},
   "outputs": [],
   "source": [
    "att.loc[(att['저감장치구분'] == '1종') | (att['저감장치구분'] == '1종+SCR'), '저감장치부착유무'] = '유'"
   ]
  },
  {
   "cell_type": "code",
   "execution_count": null,
   "metadata": {},
   "outputs": [
    {
     "data": {
      "text/plain": [
       "저감장치부착유무\n",
       "NaN    512654\n",
       "유      296601\n",
       "Name: count, dtype: int64"
      ]
     },
     "execution_count": 15,
     "metadata": {},
     "output_type": "execute_result"
    }
   ],
   "source": [
    "att['저감장치부착유무'].value_counts(dropna=False)"
   ]
  },
  {
   "attachments": {},
   "cell_type": "markdown",
   "metadata": {},
   "source": [
    "## 법정동코드"
   ]
  },
  {
   "cell_type": "code",
   "execution_count": null,
   "metadata": {},
   "outputs": [
    {
     "name": "stdout",
     "output_type": "stream",
     "text": [
      "<class 'pandas.core.frame.DataFrame'>\n",
      "RangeIndex: 46342 entries, 0 to 46341\n",
      "Data columns (total 3 columns):\n",
      " #   Column  Non-Null Count  Dtype \n",
      "---  ------  --------------  ----- \n",
      " 0   법정동코드   46342 non-null  int64 \n",
      " 1   시도      46342 non-null  object\n",
      " 2   시구군     46319 non-null  object\n",
      "dtypes: int64(1), object(2)\n",
      "memory usage: 1.1+ MB\n"
     ]
    }
   ],
   "source": [
    "# about 5.6s\n",
    "# columns = '법정동코드', '시도', '시구군', '읍면동', '리', '지역3', '폐지여부', '대기관리권역', '대기관리권역YN' \n",
    "name = '법정동코드_2022.10.14(수정2023.05.04)'\n",
    "file_name = f'{name}.xlsx'\n",
    "code = pd.read_excel(os.path.join(big2_fold, file_name), usecols=['법정동코드', '시도', '시구군'])\n",
    "code.info()"
   ]
  },
  {
   "attachments": {},
   "cell_type": "markdown",
   "metadata": {},
   "source": [
    "## KOSIS(2021)"
   ]
  },
  {
   "cell_type": "code",
   "execution_count": null,
   "metadata": {},
   "outputs": [
    {
     "name": "stdout",
     "output_type": "stream",
     "text": [
      "<class 'pandas.core.frame.DataFrame'>\n",
      "RangeIndex: 1230 entries, 0 to 1229\n",
      "Data columns (total 4 columns):\n",
      " #   Column  Non-Null Count  Dtype  \n",
      "---  ------  --------------  -----  \n",
      " 0   시도명     1230 non-null   object \n",
      " 1   시군구명    1230 non-null   object \n",
      " 2   차종      1230 non-null   object \n",
      " 3   전체      1230 non-null   float64\n",
      "dtypes: float64(1), object(3)\n",
      "memory usage: 38.6+ KB\n"
     ]
    }
   ],
   "source": [
    "# about 0.2s\n",
    "name = '용도별_차종별_시군구별_자동차1일평균주행거리(2021)'\n",
    "file_name = f'{name}.xlsx'\n",
    "kos = pd.read_excel(os.path.join(ods_fold, file_name))\n",
    "kos.info()"
   ]
  },
  {
   "attachments": {},
   "cell_type": "markdown",
   "metadata": {},
   "source": [
    "# 전처리"
   ]
  },
  {
   "attachments": {},
   "cell_type": "markdown",
   "metadata": {},
   "source": [
    "## 등급 수정"
   ]
  },
  {
   "cell_type": "code",
   "execution_count": null,
   "metadata": {},
   "outputs": [
    {
     "data": {
      "text/plain": [
       "배출가스등급\n",
       "2     10960244\n",
       "3      8623130\n",
       "1      2771395\n",
       "4      1511214\n",
       "5      1154733\n",
       "X       288966\n",
       "T2      247483\n",
       "T3      136301\n",
       "T4          37\n",
       "T5          29\n",
       "Name: count, dtype: int64"
      ]
     },
     "execution_count": 15,
     "metadata": {},
     "output_type": "execute_result"
    }
   ],
   "source": [
    "smig2['배출가스등급'].value_counts(dropna=False)"
   ]
  },
  {
   "cell_type": "code",
   "execution_count": null,
   "metadata": {},
   "outputs": [
    {
     "data": {
      "text/plain": [
       "array(['5', 'X', 'T5', '4', '3', 'T4', 'T3', '2', '1', 'T2'], dtype=object)"
      ]
     },
     "execution_count": 16,
     "metadata": {},
     "output_type": "execute_result"
    }
   ],
   "source": [
    "smig2['배출가스등급'].unique()"
   ]
  },
  {
   "cell_type": "code",
   "execution_count": null,
   "metadata": {},
   "outputs": [],
   "source": [
    "smig2.loc[smig2['배출가스등급'] == '1', '등급'] = '1'\n",
    "smig2.loc[(smig2['배출가스등급'] == '2') | (smig2['배출가스등급'] == 'T2'), '등급'] = '2'\n",
    "smig2.loc[(smig2['배출가스등급'] == '3') | (smig2['배출가스등급'] == 'T3'), '등급'] = '3'\n",
    "smig2.loc[(smig2['배출가스등급'] == '4') | (smig2['배출가스등급'] == 'T4'), '등급'] = '4'\n",
    "smig2.loc[(smig2['배출가스등급'] == '5') | (smig2['배출가스등급'] == 'T5'), '등급'] = '5'\n",
    "smig2.loc[smig2['배출가스등급'] == 'X', '등급'] = 'X'"
   ]
  },
  {
   "cell_type": "code",
   "execution_count": 18,
   "metadata": {},
   "outputs": [
    {
     "data": {
      "text/plain": [
       "등급\n",
       "2    11207727\n",
       "3     8759431\n",
       "1     2771395\n",
       "4     1511251\n",
       "5     1154762\n",
       "X      288966\n",
       "Name: count, dtype: int64"
      ]
     },
     "execution_count": 18,
     "metadata": {},
     "output_type": "execute_result"
    }
   ],
   "source": [
    "smig2['등급'].value_counts(dropna=False)"
   ]
  },
  {
   "attachments": {},
   "cell_type": "markdown",
   "metadata": {},
   "source": [
    "## 연료 수정"
   ]
  },
  {
   "cell_type": "code",
   "execution_count": 19,
   "metadata": {},
   "outputs": [
    {
     "data": {
      "text/plain": [
       "연료\n",
       "휘발유            12177033\n",
       "경유              9890990\n",
       "LPG(액화석유가스)     1904188\n",
       "휘발유 하이브리드       1095741\n",
       "전기               368693\n",
       "NaN              146798\n",
       "경유 하이브리드          35779\n",
       "CNG(압축천연가스)       30461\n",
       "수소                28227\n",
       "LPG 하이브리드         14352\n",
       "기타연료                933\n",
       "CNG 하이브리드           304\n",
       "LNG(액화천연가스)          27\n",
       "알코올                   3\n",
       "태양열                   2\n",
       "등유                    1\n",
       "Name: count, dtype: int64"
      ]
     },
     "execution_count": 19,
     "metadata": {},
     "output_type": "execute_result"
    }
   ],
   "source": [
    "smig2['연료'].value_counts(dropna=False)"
   ]
  },
  {
   "cell_type": "code",
   "execution_count": 20,
   "metadata": {},
   "outputs": [
    {
     "data": {
      "text/plain": [
       "array(['휘발유', '경유', nan, '기타연료', '등유', '알코올', 'LPG(액화석유가스)',\n",
       "       'CNG(압축천연가스)', '휘발유 하이브리드', 'LPG 하이브리드', '전기', 'LNG(액화천연가스)',\n",
       "       '경유 하이브리드', 'CNG 하이브리드', '수소', '태양열'], dtype=object)"
      ]
     },
     "execution_count": 20,
     "metadata": {},
     "output_type": "execute_result"
    }
   ],
   "source": [
    "smig2['연료'].unique()"
   ]
  },
  {
   "cell_type": "code",
   "execution_count": 21,
   "metadata": {},
   "outputs": [],
   "source": [
    "# about 22.9s\n",
    "smig2.loc[(smig2['연료'] == '휘발유') | (smig2['연료'] == '휘발유 하이브리드'), 'fuel'] = '휘발유'\n",
    "smig2.loc[(smig2['연료'] == '경유') | (smig2['연료'] == '경유 하이브리드'), 'fuel'] = '경유'\n",
    "smig2.loc[(smig2['연료'] == 'LPG(액화석유가스)') | (smig2['연료'] == 'LPG 하이브리드'), 'fuel'] = 'LPG'\n",
    "smig2.loc[(smig2['연료'] == 'CNG(압축천연가스)') | (smig2['연료'] == 'CNG 하이브리드'), 'fuel'] = 'CNG'\n",
    "smig2.loc[(smig2['연료'] == 'LNG(액화천연가스)') | (smig2['연료'] == 'LNG 하이브리드'), 'fuel'] = 'LNG'\n",
    "smig2.loc[smig2['연료'] == '전기', 'fuel'] = '전기'\n",
    "smig2.loc[smig2['연료'] == '수소', 'fuel'] = '수소'\n",
    "smig2.loc[smig2['연료'] == '태양열', 'fuel'] = '태양열'\n",
    "smig2.loc[smig2['연료'] == '알코올', 'fuel'] = '알코올'\n",
    "smig2.loc[smig2['연료'] == '등유', 'fuel'] = '등유'\n",
    "smig2.loc[smig2['연료'] == '기타연료', 'fuel'] = '기타연료'\n",
    "smig2.loc[smig2['연료'].isnull() == True, 'fuel'] = np.nan"
   ]
  },
  {
   "cell_type": "code",
   "execution_count": 22,
   "metadata": {},
   "outputs": [
    {
     "data": {
      "text/plain": [
       "fuel\n",
       "휘발유     13272774\n",
       "경유       9926769\n",
       "LPG      1918540\n",
       "전기        368693\n",
       "NaN       146798\n",
       "CNG        30765\n",
       "수소         28227\n",
       "기타연료         933\n",
       "LNG           27\n",
       "알코올            3\n",
       "태양열            2\n",
       "등유             1\n",
       "Name: count, dtype: int64"
      ]
     },
     "execution_count": 22,
     "metadata": {},
     "output_type": "execute_result"
    }
   ],
   "source": [
    "smig2['fuel'].value_counts(dropna=False)"
   ]
  },
  {
   "cell_type": "code",
   "execution_count": 23,
   "metadata": {},
   "outputs": [
    {
     "data": {
      "text/plain": [
       "(25693532, 14)"
      ]
     },
     "execution_count": 23,
     "metadata": {},
     "output_type": "execute_result"
    }
   ],
   "source": [
    "smig2.shape"
   ]
  },
  {
   "cell_type": "code",
   "execution_count": 24,
   "metadata": {},
   "outputs": [
    {
     "data": {
      "text/plain": [
       "25693532"
      ]
     },
     "execution_count": 24,
     "metadata": {},
     "output_type": "execute_result"
    }
   ],
   "source": [
    "smig2['fuel'].value_counts(dropna=False).sum()"
   ]
  },
  {
   "attachments": {},
   "cell_type": "markdown",
   "metadata": {},
   "source": [
    "## 중복 차대번호 제거\n",
    "- 최초등록일자 최신인 데이터 남기기"
   ]
  },
  {
   "cell_type": "code",
   "execution_count": 25,
   "metadata": {},
   "outputs": [
    {
     "data": {
      "text/plain": [
       "(25693532, 25692512)"
      ]
     },
     "execution_count": 25,
     "metadata": {},
     "output_type": "execute_result"
    }
   ],
   "source": [
    "# 1,020대 감소\n",
    "smig2.shape[0], len(smig2['차대번호'].unique())"
   ]
  },
  {
   "cell_type": "code",
   "execution_count": 26,
   "metadata": {},
   "outputs": [
    {
     "data": {
      "text/plain": [
       "count   25693532.00\n",
       "mean    20141515.50\n",
       "std        61276.12\n",
       "min     19501231.00\n",
       "25%     20110228.00\n",
       "50%     20150817.00\n",
       "75%     20190408.00\n",
       "max     20221227.00\n",
       "Name: 최초등록일자, dtype: float64"
      ]
     },
     "execution_count": 26,
     "metadata": {},
     "output_type": "execute_result"
    }
   ],
   "source": [
    "smig2['최초등록일자'].describe()"
   ]
  },
  {
   "cell_type": "code",
   "execution_count": 27,
   "metadata": {},
   "outputs": [
    {
     "data": {
      "text/plain": [
       "25693531    20221227\n",
       "25672286    20221227\n",
       "25672262    20221227\n",
       "25672261    20221227\n",
       "25672260    20221227\n",
       "Name: 최초등록일자, dtype: int64"
      ]
     },
     "execution_count": 27,
     "metadata": {},
     "output_type": "execute_result"
    }
   ],
   "source": [
    "smig2.sort_values('최초등록일자', ascending=False)['최초등록일자'].head()"
   ]
  },
  {
   "cell_type": "code",
   "execution_count": 28,
   "metadata": {},
   "outputs": [
    {
     "data": {
      "text/plain": [
       "(25692512, 14)"
      ]
     },
     "execution_count": 28,
     "metadata": {},
     "output_type": "execute_result"
    }
   ],
   "source": [
    "# 36.4s\n",
    "smig3 = smig2.sort_values('최초등록일자', ascending=False).drop_duplicates('차대번호').reset_index(drop=True)\n",
    "smig3.shape"
   ]
  },
  {
   "attachments": {},
   "cell_type": "markdown",
   "metadata": {},
   "source": [
    "## 차령 정보 계산 및 데이터 추가"
   ]
  },
  {
   "cell_type": "code",
   "execution_count": 32,
   "metadata": {},
   "outputs": [
    {
     "data": {
      "text/plain": [
       "2023"
      ]
     },
     "execution_count": 32,
     "metadata": {},
     "output_type": "execute_result"
    }
   ],
   "source": [
    "current_yr = int(datetime.today().strftime(\"%Y\"))\n",
    "current_yr"
   ]
  },
  {
   "cell_type": "code",
   "execution_count": 33,
   "metadata": {},
   "outputs": [
    {
     "data": {
      "text/plain": [
       "Index(['법정동코드', '차종', '차대번호', '최초등록일자', '차량연식', '배출가스인증번호', '배출가스등급', '차량말소YN',\n",
       "       '차종유형', '연료', '총중량', '배기량', '등급', 'fuel'],\n",
       "      dtype='object')"
      ]
     },
     "execution_count": 33,
     "metadata": {},
     "output_type": "execute_result"
    }
   ],
   "source": [
    "smig3.columns"
   ]
  },
  {
   "cell_type": "code",
   "execution_count": 34,
   "metadata": {},
   "outputs": [
    {
     "data": {
      "text/plain": [
       "count   25692512.00\n",
       "mean           8.55\n",
       "std            6.21\n",
       "min            0.00\n",
       "25%            4.00\n",
       "50%            7.00\n",
       "75%           12.00\n",
       "max          123.00\n",
       "Name: 차령, dtype: float64"
      ]
     },
     "execution_count": 34,
     "metadata": {},
     "output_type": "execute_result"
    }
   ],
   "source": [
    "smig3['차령'] = current_yr - smig3['차량연식']\n",
    "smig3['차령'].describe()"
   ]
  },
  {
   "cell_type": "code",
   "execution_count": 35,
   "metadata": {},
   "outputs": [
    {
     "data": {
      "text/plain": [
       "0"
      ]
     },
     "execution_count": 35,
     "metadata": {},
     "output_type": "execute_result"
    }
   ],
   "source": [
    "smig3['차령'].isnull().sum()"
   ]
  },
  {
   "cell_type": "code",
   "execution_count": 36,
   "metadata": {},
   "outputs": [
    {
     "data": {
      "text/plain": [
       "Index(['법정동코드', '차종', '차대번호', '최초등록일자', '차량연식', '배출가스인증번호', '배출가스등급', '차량말소YN',\n",
       "       '차종유형', '연료', '총중량', '배기량', '등급', 'fuel', '차령'],\n",
       "      dtype='object')"
      ]
     },
     "execution_count": 36,
     "metadata": {},
     "output_type": "execute_result"
    }
   ],
   "source": [
    "smig3.columns"
   ]
  },
  {
   "attachments": {},
   "cell_type": "markdown",
   "metadata": {},
   "source": [
    "## 법정동코드로 지역정보 부착\n",
    "- 시군구명 앞지역명만 추출"
   ]
  },
  {
   "cell_type": "code",
   "execution_count": 37,
   "metadata": {},
   "outputs": [
    {
     "data": {
      "text/plain": [
       "(25692512, 15)"
      ]
     },
     "execution_count": 37,
     "metadata": {},
     "output_type": "execute_result"
    }
   ],
   "source": [
    "smig3.shape"
   ]
  },
  {
   "cell_type": "code",
   "execution_count": 38,
   "metadata": {},
   "outputs": [
    {
     "data": {
      "text/plain": [
       "(25692512, 17)"
      ]
     },
     "execution_count": 38,
     "metadata": {},
     "output_type": "execute_result"
    }
   ],
   "source": [
    "smig4 = smig3.merge(code, on='법정동코드', how='left')\n",
    "smig4.shape"
   ]
  },
  {
   "cell_type": "code",
   "execution_count": 39,
   "metadata": {},
   "outputs": [
    {
     "data": {
      "text/plain": [
       "0     고양시 일산서구\n",
       "9      창원시 의창구\n",
       "15     전주시 완산구\n",
       "18     용인시 기흥구\n",
       "30     청주시 상당구\n",
       "Name: 시구군, dtype: object"
      ]
     },
     "execution_count": 39,
     "metadata": {},
     "output_type": "execute_result"
    }
   ],
   "source": [
    "# 25.9s\n",
    "smig4.loc[smig4['시구군'].str.split(' ').str.len() != 1, '시구군'].head()"
   ]
  },
  {
   "cell_type": "code",
   "execution_count": 40,
   "metadata": {},
   "outputs": [
    {
     "data": {
      "text/plain": [
       "Series([], Name: 시구군, dtype: object)"
      ]
     },
     "execution_count": 40,
     "metadata": {},
     "output_type": "execute_result"
    }
   ],
   "source": [
    "smig4.loc[smig4['시구군'].str.contains('부산') == True, '시구군'].head()"
   ]
  },
  {
   "cell_type": "code",
   "execution_count": 41,
   "metadata": {},
   "outputs": [
    {
     "data": {
      "text/plain": [
       "24226351    NaN\n",
       "25154486    NaN\n",
       "25315223    NaN\n",
       "25341440    NaN\n",
       "25345354    NaN\n",
       "Name: 시구군, dtype: object"
      ]
     },
     "execution_count": 41,
     "metadata": {},
     "output_type": "execute_result"
    }
   ],
   "source": [
    "# 58.3s\n",
    "smig4['시구군'] = smig4['시구군'].str.split(' ').str[0]\n",
    "smig4.loc[smig4['시구군'].str.split(' ').str.len() != 1, '시구군'].head()"
   ]
  },
  {
   "cell_type": "code",
   "execution_count": 42,
   "metadata": {},
   "outputs": [
    {
     "data": {
      "text/plain": [
       "0    고양시\n",
       "1    연수구\n",
       "2     진구\n",
       "3    제주시\n",
       "4    제주시\n",
       "Name: 시구군, dtype: object"
      ]
     },
     "execution_count": 42,
     "metadata": {},
     "output_type": "execute_result"
    }
   ],
   "source": [
    "smig4['시구군'].head()"
   ]
  },
  {
   "attachments": {},
   "cell_type": "markdown",
   "metadata": {},
   "source": [
    "## 1일평균주행거리 정보 추가\n",
    "- 매칭 컬럼(등록&제원|kosis)\n",
    "- 1\\. 시도, 시구군, 차종 | 시도명, 시군구명, 차종\n",
    "- 2\\. 시도, 차종 | 시도명, 차종\n",
    "- 3\\. 시도, 시구군, 차종(nan) | 시도명, 시군구명, 차종(합계)\n",
    "    - 차종:nan인 데이터는 kosis의 차종:합계의 일일평균주행거리로 매칭"
   ]
  },
  {
   "cell_type": "code",
   "execution_count": 43,
   "metadata": {},
   "outputs": [
    {
     "data": {
      "text/plain": [
       "Index(['법정동코드', '차종', '차대번호', '최초등록일자', '차량연식', '배출가스인증번호', '배출가스등급', '차량말소YN',\n",
       "       '차종유형', '연료', '총중량', '배기량', '등급', 'fuel', '차령', '시도', '시구군'],\n",
       "      dtype='object')"
      ]
     },
     "execution_count": 43,
     "metadata": {},
     "output_type": "execute_result"
    }
   ],
   "source": [
    "smig4.columns"
   ]
  },
  {
   "cell_type": "code",
   "execution_count": 44,
   "metadata": {},
   "outputs": [
    {
     "data": {
      "text/plain": [
       "Index(['시도명', '시군구명', '차종', '전체'], dtype='object')"
      ]
     },
     "execution_count": 44,
     "metadata": {},
     "output_type": "execute_result"
    }
   ],
   "source": [
    "kos.columns"
   ]
  },
  {
   "cell_type": "code",
   "execution_count": 45,
   "metadata": {},
   "outputs": [
    {
     "data": {
      "text/plain": [
       "(25692512, 17)"
      ]
     },
     "execution_count": 45,
     "metadata": {},
     "output_type": "execute_result"
    }
   ],
   "source": [
    "smig4.shape"
   ]
  },
  {
   "cell_type": "code",
   "execution_count": 46,
   "metadata": {},
   "outputs": [
    {
     "data": {
      "text/plain": [
       "(25692512, 20)"
      ]
     },
     "execution_count": 46,
     "metadata": {},
     "output_type": "execute_result"
    }
   ],
   "source": [
    "# about 9.1s\n",
    "# 시도, 시구군, 차종으로 매칭\n",
    "smig5 = smig4.merge(kos, left_on=['시도', '시구군', '차종'], right_on=['시도명', '시군구명', '차종'], how='left')\n",
    "smig5.shape"
   ]
  },
  {
   "cell_type": "code",
   "execution_count": 47,
   "metadata": {},
   "outputs": [
    {
     "data": {
      "text/plain": [
       "341950"
      ]
     },
     "execution_count": 47,
     "metadata": {},
     "output_type": "execute_result"
    }
   ],
   "source": [
    "smig5['전체'].isnull().sum()"
   ]
  },
  {
   "cell_type": "code",
   "execution_count": 48,
   "metadata": {},
   "outputs": [
    {
     "data": {
      "text/plain": [
       "((25350562, 20), (341950, 20))"
      ]
     },
     "execution_count": 48,
     "metadata": {},
     "output_type": "execute_result"
    }
   ],
   "source": [
    "# 4.8s\n",
    "smig5y = smig5.loc[smig5['전체'].isnull() == False]\n",
    "smig5n = smig5.loc[smig5['전체'].isnull() == True]\n",
    "smig5y.shape, smig5n.shape"
   ]
  },
  {
   "cell_type": "code",
   "execution_count": 49,
   "metadata": {},
   "outputs": [
    {
     "data": {
      "text/plain": [
       "Index(['법정동코드', '차종', '차대번호', '최초등록일자', '차량연식', '배출가스인증번호', '배출가스등급', '차량말소YN',\n",
       "       '차종유형', '연료', '총중량', '배기량', '등급', 'fuel', '차령', '시도', '시구군', '시도명',\n",
       "       '시군구명', '전체'],\n",
       "      dtype='object')"
      ]
     },
     "execution_count": 49,
     "metadata": {},
     "output_type": "execute_result"
    }
   ],
   "source": [
    "smig5n.columns"
   ]
  },
  {
   "cell_type": "code",
   "execution_count": 50,
   "metadata": {},
   "outputs": [
    {
     "data": {
      "text/plain": [
       "Index(['법정동코드', '차종', '차대번호', '최초등록일자', '차량연식', '배출가스인증번호', '배출가스등급', '차량말소YN',\n",
       "       '차종유형', '연료', '총중량', '배기량', '등급', 'fuel', '차령', '시도', '시구군'],\n",
       "      dtype='object')"
      ]
     },
     "execution_count": 50,
     "metadata": {},
     "output_type": "execute_result"
    }
   ],
   "source": [
    "smig5n = smig5n.drop(['시도명', '시군구명', '전체'], axis=1)\n",
    "smig5n.columns"
   ]
  },
  {
   "cell_type": "code",
   "execution_count": 51,
   "metadata": {},
   "outputs": [
    {
     "data": {
      "text/plain": [
       "(341950, 17)"
      ]
     },
     "execution_count": 51,
     "metadata": {},
     "output_type": "execute_result"
    }
   ],
   "source": [
    "smig5n.shape"
   ]
  },
  {
   "cell_type": "code",
   "execution_count": 52,
   "metadata": {},
   "outputs": [
    {
     "data": {
      "text/plain": [
       "(1230, 4)"
      ]
     },
     "execution_count": 52,
     "metadata": {},
     "output_type": "execute_result"
    }
   ],
   "source": [
    "kos.shape"
   ]
  },
  {
   "cell_type": "code",
   "execution_count": 53,
   "metadata": {},
   "outputs": [
    {
     "data": {
      "text/plain": [
       "(85, 4)"
      ]
     },
     "execution_count": 53,
     "metadata": {},
     "output_type": "execute_result"
    }
   ],
   "source": [
    "kos.loc[kos['시군구명'] == '소계'].shape"
   ]
  },
  {
   "cell_type": "code",
   "execution_count": 54,
   "metadata": {},
   "outputs": [
    {
     "data": {
      "text/plain": [
       "(341950, 20)"
      ]
     },
     "execution_count": 54,
     "metadata": {},
     "output_type": "execute_result"
    }
   ],
   "source": [
    "# 시도, 차종으로만 매칭\n",
    "smig5nm = smig5n.merge(kos.loc[kos['시군구명'] == '소계'].reset_index(drop=True), left_on=['시도', '차종'], right_on=['시도명', '차종'], how='left')\n",
    "smig5nm.shape"
   ]
  },
  {
   "cell_type": "code",
   "execution_count": 55,
   "metadata": {},
   "outputs": [
    {
     "data": {
      "text/plain": [
       "Index(['법정동코드', '차종', '차대번호', '최초등록일자', '차량연식', '배출가스인증번호', '배출가스등급', '차량말소YN',\n",
       "       '차종유형', '연료', '총중량', '배기량', '등급', 'fuel', '차령', '시도', '시구군', '시도명',\n",
       "       '시군구명', '전체'],\n",
       "      dtype='object')"
      ]
     },
     "execution_count": 55,
     "metadata": {},
     "output_type": "execute_result"
    }
   ],
   "source": [
    "smig5nm.columns"
   ]
  },
  {
   "cell_type": "code",
   "execution_count": 56,
   "metadata": {},
   "outputs": [
    {
     "data": {
      "text/plain": [
       "14"
      ]
     },
     "execution_count": 56,
     "metadata": {},
     "output_type": "execute_result"
    }
   ],
   "source": [
    "smig5nm['전체'].isnull().sum()"
   ]
  },
  {
   "cell_type": "code",
   "execution_count": 57,
   "metadata": {},
   "outputs": [
    {
     "data": {
      "text/html": [
       "<div>\n",
       "<style scoped>\n",
       "    .dataframe tbody tr th:only-of-type {\n",
       "        vertical-align: middle;\n",
       "    }\n",
       "\n",
       "    .dataframe tbody tr th {\n",
       "        vertical-align: top;\n",
       "    }\n",
       "\n",
       "    .dataframe thead th {\n",
       "        text-align: right;\n",
       "    }\n",
       "</style>\n",
       "<table border=\"1\" class=\"dataframe\">\n",
       "  <thead>\n",
       "    <tr style=\"text-align: right;\">\n",
       "      <th></th>\n",
       "      <th>시도</th>\n",
       "      <th>시구군</th>\n",
       "      <th>차종</th>\n",
       "    </tr>\n",
       "  </thead>\n",
       "  <tbody>\n",
       "    <tr>\n",
       "      <th>341013</th>\n",
       "      <td>대구광역시</td>\n",
       "      <td>달서구</td>\n",
       "      <td>NaN</td>\n",
       "    </tr>\n",
       "    <tr>\n",
       "      <th>341057</th>\n",
       "      <td>대구광역시</td>\n",
       "      <td>남구</td>\n",
       "      <td>NaN</td>\n",
       "    </tr>\n",
       "    <tr>\n",
       "      <th>341078</th>\n",
       "      <td>서울특별시</td>\n",
       "      <td>구로구</td>\n",
       "      <td>NaN</td>\n",
       "    </tr>\n",
       "    <tr>\n",
       "      <th>341326</th>\n",
       "      <td>대구광역시</td>\n",
       "      <td>서구</td>\n",
       "      <td>NaN</td>\n",
       "    </tr>\n",
       "    <tr>\n",
       "      <th>341353</th>\n",
       "      <td>경상북도</td>\n",
       "      <td>경주시</td>\n",
       "      <td>NaN</td>\n",
       "    </tr>\n",
       "    <tr>\n",
       "      <th>341367</th>\n",
       "      <td>경상남도</td>\n",
       "      <td>창원시</td>\n",
       "      <td>NaN</td>\n",
       "    </tr>\n",
       "    <tr>\n",
       "      <th>341451</th>\n",
       "      <td>대구광역시</td>\n",
       "      <td>달성군</td>\n",
       "      <td>NaN</td>\n",
       "    </tr>\n",
       "    <tr>\n",
       "      <th>341452</th>\n",
       "      <td>전라남도</td>\n",
       "      <td>순천시</td>\n",
       "      <td>NaN</td>\n",
       "    </tr>\n",
       "    <tr>\n",
       "      <th>341489</th>\n",
       "      <td>경상남도</td>\n",
       "      <td>진주시</td>\n",
       "      <td>NaN</td>\n",
       "    </tr>\n",
       "    <tr>\n",
       "      <th>341569</th>\n",
       "      <td>울산광역시</td>\n",
       "      <td>북구</td>\n",
       "      <td>NaN</td>\n",
       "    </tr>\n",
       "    <tr>\n",
       "      <th>341614</th>\n",
       "      <td>경상남도</td>\n",
       "      <td>의령군</td>\n",
       "      <td>NaN</td>\n",
       "    </tr>\n",
       "    <tr>\n",
       "      <th>341744</th>\n",
       "      <td>경상남도</td>\n",
       "      <td>함안군</td>\n",
       "      <td>NaN</td>\n",
       "    </tr>\n",
       "    <tr>\n",
       "      <th>341905</th>\n",
       "      <td>경상남도</td>\n",
       "      <td>함안군</td>\n",
       "      <td>NaN</td>\n",
       "    </tr>\n",
       "    <tr>\n",
       "      <th>341910</th>\n",
       "      <td>서울특별시</td>\n",
       "      <td>서초구</td>\n",
       "      <td>NaN</td>\n",
       "    </tr>\n",
       "  </tbody>\n",
       "</table>\n",
       "</div>"
      ],
      "text/plain": [
       "           시도  시구군   차종\n",
       "341013  대구광역시  달서구  NaN\n",
       "341057  대구광역시   남구  NaN\n",
       "341078  서울특별시  구로구  NaN\n",
       "341326  대구광역시   서구  NaN\n",
       "341353   경상북도  경주시  NaN\n",
       "341367   경상남도  창원시  NaN\n",
       "341451  대구광역시  달성군  NaN\n",
       "341452   전라남도  순천시  NaN\n",
       "341489   경상남도  진주시  NaN\n",
       "341569  울산광역시   북구  NaN\n",
       "341614   경상남도  의령군  NaN\n",
       "341744   경상남도  함안군  NaN\n",
       "341905   경상남도  함안군  NaN\n",
       "341910  서울특별시  서초구  NaN"
      ]
     },
     "execution_count": 57,
     "metadata": {},
     "output_type": "execute_result"
    }
   ],
   "source": [
    "smig5nm.loc[smig5nm['전체'].isnull() == True, ['시도', '시구군', '차종']]"
   ]
  },
  {
   "cell_type": "code",
   "execution_count": 58,
   "metadata": {},
   "outputs": [],
   "source": [
    "# 차종이 빈값인 데이터는 kosis의 차종이 합계인 데이터로 매칭\n",
    "for a, b, c in smig5nm.loc[smig5nm['전체'].isnull() == True, ['시도', '시구군', '차종']].values:\n",
    "    smig5nm.loc[(smig5nm['전체'].isnull() == True) & (smig5nm['시도'] == a) & ((smig5nm['시구군'] == b) & ((smig5nm['차종'].isnull() == True))), '전체'] = kos.loc[(kos['시도명'] == a) & (kos['시군구명'] == b) & (kos['차종'] == '합계'), '전체'].iloc[0]"
   ]
  },
  {
   "cell_type": "code",
   "execution_count": 59,
   "metadata": {},
   "outputs": [
    {
     "data": {
      "text/plain": [
       "35.7"
      ]
     },
     "execution_count": 59,
     "metadata": {},
     "output_type": "execute_result"
    }
   ],
   "source": [
    "kos.loc[(kos['시도명'] == a) & (kos['시군구명'] == b) & (kos['차종'] == '합계'), '전체'].iloc[0]"
   ]
  },
  {
   "cell_type": "code",
   "execution_count": 60,
   "metadata": {},
   "outputs": [
    {
     "data": {
      "text/plain": [
       "0"
      ]
     },
     "execution_count": 60,
     "metadata": {},
     "output_type": "execute_result"
    }
   ],
   "source": [
    "smig5nm['전체'].isnull().sum()"
   ]
  },
  {
   "cell_type": "code",
   "execution_count": 61,
   "metadata": {},
   "outputs": [
    {
     "data": {
      "text/plain": [
       "(25692512, 20)"
      ]
     },
     "execution_count": 61,
     "metadata": {},
     "output_type": "execute_result"
    }
   ],
   "source": [
    "# 6.4s\n",
    "smig5 = pd.concat([smig5y, smig5nm], ignore_index=True)\n",
    "smig5.shape"
   ]
  },
  {
   "cell_type": "code",
   "execution_count": 62,
   "metadata": {},
   "outputs": [
    {
     "data": {
      "text/plain": [
       "Index(['법정동코드', '차종', '차대번호', '최초등록일자', '차량연식', '배출가스인증번호', '배출가스등급', '차량말소YN',\n",
       "       '차종유형', '연료', '총중량', '배기량', '등급', 'fuel', '차령', '시도', '시구군', '시도명',\n",
       "       '시군구명', '전체'],\n",
       "      dtype='object')"
      ]
     },
     "execution_count": 62,
     "metadata": {},
     "output_type": "execute_result"
    }
   ],
   "source": [
    "smig5.columns"
   ]
  },
  {
   "cell_type": "code",
   "execution_count": 63,
   "metadata": {},
   "outputs": [
    {
     "data": {
      "text/plain": [
       "Index(['법정동코드', '차종', '차대번호', '최초등록일자', '차량연식', '배출가스인증번호', '배출가스등급', '차량말소YN',\n",
       "       '차종유형', '연료', '총중량', '배기량', '등급', 'fuel', '차령', '시도', '시구군',\n",
       "       '일일평균주행거리'],\n",
       "      dtype='object')"
      ]
     },
     "execution_count": 63,
     "metadata": {},
     "output_type": "execute_result"
    }
   ],
   "source": [
    "# 12.1s\n",
    "smig5 = smig5.rename(columns={'전체':'일일평균주행거리'})\n",
    "smig5 = smig5.drop(['시도명', '시군구명'], axis=1)\n",
    "smig5.columns"
   ]
  },
  {
   "cell_type": "code",
   "execution_count": 64,
   "metadata": {},
   "outputs": [
    {
     "data": {
      "text/plain": [
       "0"
      ]
     },
     "execution_count": 64,
     "metadata": {},
     "output_type": "execute_result"
    }
   ],
   "source": [
    "smig5['일일평균주행거리'].isnull().sum()"
   ]
  },
  {
   "attachments": {},
   "cell_type": "markdown",
   "metadata": {},
   "source": [
    "## 저감장치 정보 추가"
   ]
  },
  {
   "cell_type": "code",
   "execution_count": 65,
   "metadata": {},
   "outputs": [
    {
     "data": {
      "text/plain": [
       "Index(['차대번호', '저감장치구분', '저감장치부착유무'], dtype='object')"
      ]
     },
     "execution_count": 65,
     "metadata": {},
     "output_type": "execute_result"
    }
   ],
   "source": [
    "att.columns"
   ]
  },
  {
   "cell_type": "code",
   "execution_count": 66,
   "metadata": {},
   "outputs": [
    {
     "data": {
      "text/plain": [
       "Index(['법정동코드', '차종', '차대번호', '최초등록일자', '차량연식', '배출가스인증번호', '배출가스등급', '차량말소YN',\n",
       "       '차종유형', '연료', '총중량', '배기량', '등급', 'fuel', '차령', '시도', '시구군',\n",
       "       '일일평균주행거리'],\n",
       "      dtype='object')"
      ]
     },
     "execution_count": 66,
     "metadata": {},
     "output_type": "execute_result"
    }
   ],
   "source": [
    "smig5.columns"
   ]
  },
  {
   "cell_type": "code",
   "execution_count": 67,
   "metadata": {},
   "outputs": [
    {
     "data": {
      "text/plain": [
       "(25692512, 18)"
      ]
     },
     "execution_count": 67,
     "metadata": {},
     "output_type": "execute_result"
    }
   ],
   "source": [
    "smig5.shape"
   ]
  },
  {
   "cell_type": "code",
   "execution_count": 68,
   "metadata": {},
   "outputs": [
    {
     "data": {
      "text/plain": [
       "(25692512, 19)"
      ]
     },
     "execution_count": 68,
     "metadata": {},
     "output_type": "execute_result"
    }
   ],
   "source": [
    "# 40.9s\n",
    "smig6 = smig5.merge(att[['차대번호', '저감장치부착유무']], on='차대번호', how='left')\n",
    "smig6.shape"
   ]
  },
  {
   "cell_type": "code",
   "execution_count": 69,
   "metadata": {},
   "outputs": [
    {
     "data": {
      "text/plain": [
       "저감장치부착유무\n",
       "NaN    25549321\n",
       "유        143191\n",
       "Name: count, dtype: int64"
      ]
     },
     "execution_count": 69,
     "metadata": {},
     "output_type": "execute_result"
    }
   ],
   "source": [
    "smig6['저감장치부착유무'].value_counts(dropna=False)"
   ]
  },
  {
   "attachments": {},
   "cell_type": "markdown",
   "metadata": {},
   "source": [
    "## [출력] 전처리 완료"
   ]
  },
  {
   "cell_type": "code",
   "execution_count": 70,
   "metadata": {},
   "outputs": [],
   "source": [
    "# 2m 47.1s\n",
    "smig6.to_csv(os.path.join(pre_fold, '전처리완료_일일평균주행거리포함.csv'), index=False)"
   ]
  },
  {
   "attachments": {},
   "cell_type": "markdown",
   "metadata": {},
   "source": [
    "# [로드] 전처리"
   ]
  },
  {
   "cell_type": "code",
   "execution_count": 5,
   "metadata": {},
   "outputs": [
    {
     "name": "stdout",
     "output_type": "stream",
     "text": [
      "<class 'pandas.core.frame.DataFrame'>\n",
      "RangeIndex: 25692512 entries, 0 to 25692511\n",
      "Data columns (total 19 columns):\n",
      " #   Column    Dtype  \n",
      "---  ------    -----  \n",
      " 0   법정동코드     int64  \n",
      " 1   차종        object \n",
      " 2   차대번호      object \n",
      " 3   최초등록일자    int64  \n",
      " 4   차량연식      int64  \n",
      " 5   배출가스인증번호  object \n",
      " 6   배출가스등급    object \n",
      " 7   차량말소YN    object \n",
      " 8   차종유형      object \n",
      " 9   연료        object \n",
      " 10  총중량       float64\n",
      " 11  배기량       float64\n",
      " 12  등급        object \n",
      " 13  fuel      object \n",
      " 14  차령        int64  \n",
      " 15  시도        object \n",
      " 16  시구군       object \n",
      " 17  일일평균주행거리  float64\n",
      " 18  저감장치부착유무  object \n",
      "dtypes: float64(3), int64(4), object(12)\n",
      "memory usage: 3.6+ GB\n"
     ]
    }
   ],
   "source": [
    "# 1m 11.4s\n",
    "name = '전처리완료_일일평균주행거리포함'\n",
    "file_name = f'{name}.csv'\n",
    "smig6 = pd.read_csv(os.path.join(pre_fold, file_name), low_memory=False)\n",
    "smig6.info()"
   ]
  },
  {
   "attachments": {},
   "cell_type": "markdown",
   "metadata": {},
   "source": [
    "## 연료로 분류"
   ]
  },
  {
   "cell_type": "code",
   "execution_count": 6,
   "metadata": {},
   "outputs": [
    {
     "data": {
      "text/plain": [
       "(25117098, 19)"
      ]
     },
     "execution_count": 6,
     "metadata": {},
     "output_type": "execute_result"
    }
   ],
   "source": [
    "# 10.2s\n",
    "# 휘발유, 경유, LPG\n",
    "dgl = smig6.loc[(smig6['fuel'] == '휘발유') | (smig6['fuel'] == '경유') | (smig6['fuel'] == 'LPG')].reset_index(drop=True)\n",
    "dgl.shape"
   ]
  },
  {
   "cell_type": "code",
   "execution_count": 7,
   "metadata": {},
   "outputs": [
    {
     "data": {
      "text/plain": [
       "(575414, 19)"
      ]
     },
     "execution_count": 7,
     "metadata": {},
     "output_type": "execute_result"
    }
   ],
   "source": [
    "# 4.6s\n",
    "# 나머지 : 전기, 수소, 태양열, CNG, LNG, 등유, 알코올, 기타연료, nan\n",
    "etc = smig6[(smig6['fuel'] != '휘발유') & (smig6['fuel'] != '경유') & (smig6['fuel'] != 'LPG')].reset_index(drop=True)\n",
    "etc.shape"
   ]
  },
  {
   "cell_type": "code",
   "execution_count": 8,
   "metadata": {},
   "outputs": [
    {
     "data": {
      "text/plain": [
       "25692512"
      ]
     },
     "execution_count": 8,
     "metadata": {},
     "output_type": "execute_result"
    }
   ],
   "source": [
    "dgl.shape[0] + etc.shape[0]"
   ]
  },
  {
   "attachments": {},
   "cell_type": "markdown",
   "metadata": {},
   "source": [
    "# 배출량 계산"
   ]
  },
  {
   "attachments": {},
   "cell_type": "markdown",
   "metadata": {},
   "source": [
    "## 자동차-엔진 가열(Hot-start) 배출"
   ]
  },
  {
   "attachments": {},
   "cell_type": "markdown",
   "metadata": {},
   "source": [
    "### 배출량 식\n",
    "$$E_{i, j} = VKT \\times {EF_i \\over {1000}} \\times DF \\times (1 - {R \\over {100}})$$\n",
    "\n",
    "$E_{i, j}$ : 자동차 $j$의 도로주행시 발생한 오염물질 $i$의 배출량($kg/yr$)\n",
    "\n",
    "$VKT$ : 주행거리($km/yr$)\n",
    "\n",
    "$EF_i$ : 차종별, 연료별, 연식별, 차속별 배출계수($g/km$)\n",
    "\n",
    "$DF$ : 열화계수\n",
    "\n",
    "$R$ : 저감장치 부착 효율(%)"
   ]
  },
  {
   "attachments": {},
   "cell_type": "markdown",
   "metadata": {},
   "source": [
    "### 주행거리(VKT)\n",
    "- [현재 설정] \"용도별_차종별_시군구별_자동차주행거리\" 자료(KOSIS)(2021)의 1일 평균주행거리 * 365 = 주행거리(km/yr)"
   ]
  },
  {
   "cell_type": "code",
   "execution_count": 9,
   "metadata": {},
   "outputs": [],
   "source": [
    "# 2.6s\n",
    "df2 = dgl.copy()"
   ]
  },
  {
   "cell_type": "code",
   "execution_count": 10,
   "metadata": {},
   "outputs": [],
   "source": [
    "df2['VKT'] = df2['일일평균주행거리'] * 365"
   ]
  },
  {
   "cell_type": "code",
   "execution_count": 11,
   "metadata": {},
   "outputs": [
    {
     "data": {
      "text/plain": [
       "0"
      ]
     },
     "execution_count": 11,
     "metadata": {},
     "output_type": "execute_result"
    }
   ],
   "source": [
    "df2['VKT'].isnull().sum()"
   ]
  },
  {
   "attachments": {},
   "cell_type": "markdown",
   "metadata": {},
   "source": [
    "### DF(열화계수)\n",
    "- 필요한 정보 : 연료, 차종, 차종유형, 연식, 차령\n",
    "- 조건 수정(2023.04.20, 최)\n",
    "    - 특수 소형 = 승용 소형\n",
    "    - 승합 대형 = 화물 대형"
   ]
  },
  {
   "cell_type": "code",
   "execution_count": 12,
   "metadata": {},
   "outputs": [
    {
     "data": {
      "text/plain": [
       "array(['휘발유', 'LPG', '경유'], dtype=object)"
      ]
     },
     "execution_count": 12,
     "metadata": {},
     "output_type": "execute_result"
    }
   ],
   "source": [
    "df2['fuel'].unique()"
   ]
  },
  {
   "cell_type": "code",
   "execution_count": 13,
   "metadata": {},
   "outputs": [],
   "source": [
    "DF_col = ['fuel', '차종', '차종유형', '차량연식', '차령']"
   ]
  },
  {
   "cell_type": "code",
   "execution_count": 14,
   "metadata": {},
   "outputs": [
    {
     "data": {
      "text/html": [
       "<div>\n",
       "<style scoped>\n",
       "    .dataframe tbody tr th:only-of-type {\n",
       "        vertical-align: middle;\n",
       "    }\n",
       "\n",
       "    .dataframe tbody tr th {\n",
       "        vertical-align: top;\n",
       "    }\n",
       "\n",
       "    .dataframe thead th {\n",
       "        text-align: right;\n",
       "    }\n",
       "</style>\n",
       "<table border=\"1\" class=\"dataframe\">\n",
       "  <thead>\n",
       "    <tr style=\"text-align: right;\">\n",
       "      <th></th>\n",
       "      <th>fuel</th>\n",
       "      <th>차종</th>\n",
       "      <th>차종유형</th>\n",
       "      <th>차량연식</th>\n",
       "      <th>차령</th>\n",
       "    </tr>\n",
       "  </thead>\n",
       "  <tbody>\n",
       "    <tr>\n",
       "      <th>0</th>\n",
       "      <td>휘발유</td>\n",
       "      <td>승용</td>\n",
       "      <td>중형</td>\n",
       "      <td>2023</td>\n",
       "      <td>0</td>\n",
       "    </tr>\n",
       "    <tr>\n",
       "      <th>1</th>\n",
       "      <td>휘발유</td>\n",
       "      <td>승용</td>\n",
       "      <td>중형</td>\n",
       "      <td>2023</td>\n",
       "      <td>0</td>\n",
       "    </tr>\n",
       "    <tr>\n",
       "      <th>2</th>\n",
       "      <td>휘발유</td>\n",
       "      <td>승용</td>\n",
       "      <td>대형</td>\n",
       "      <td>2023</td>\n",
       "      <td>0</td>\n",
       "    </tr>\n",
       "    <tr>\n",
       "      <th>3</th>\n",
       "      <td>휘발유</td>\n",
       "      <td>승용</td>\n",
       "      <td>대형</td>\n",
       "      <td>2023</td>\n",
       "      <td>0</td>\n",
       "    </tr>\n",
       "    <tr>\n",
       "      <th>4</th>\n",
       "      <td>휘발유</td>\n",
       "      <td>승용</td>\n",
       "      <td>대형</td>\n",
       "      <td>2023</td>\n",
       "      <td>0</td>\n",
       "    </tr>\n",
       "  </tbody>\n",
       "</table>\n",
       "</div>"
      ],
      "text/plain": [
       "  fuel  차종 차종유형  차량연식  차령\n",
       "0  휘발유  승용   중형  2023   0\n",
       "1  휘발유  승용   중형  2023   0\n",
       "2  휘발유  승용   대형  2023   0\n",
       "3  휘발유  승용   대형  2023   0\n",
       "4  휘발유  승용   대형  2023   0"
      ]
     },
     "execution_count": 14,
     "metadata": {},
     "output_type": "execute_result"
    }
   ],
   "source": [
    "df2[DF_col].head()"
   ]
  },
  {
   "cell_type": "code",
   "execution_count": 15,
   "metadata": {},
   "outputs": [
    {
     "data": {
      "text/plain": [
       "array(['휘발유', '승용', '중형', 2023, 0], dtype=object)"
      ]
     },
     "execution_count": 15,
     "metadata": {},
     "output_type": "execute_result"
    }
   ],
   "source": [
    "df2[DF_col].values[0]"
   ]
  },
  {
   "attachments": {},
   "cell_type": "markdown",
   "metadata": {},
   "source": [
    "#### ❗ DF(열화계수) 코드\n",
    "- 연료, 차종, 차종유형 설정에 해당되지 않는 차량의 열화계수 값 설정\n",
    "    - 현재 설정값 : np.nan\n",
    "    - 고려 설정값 : 1"
   ]
  },
  {
   "cell_type": "code",
   "execution_count": 16,
   "metadata": {},
   "outputs": [
    {
     "name": "stderr",
     "output_type": "stream",
     "text": [
      "100%|██████████| 25117098/25117098 [01:07<00:00, 370605.24it/s]\n"
     ]
    }
   ],
   "source": [
    "# about 1m 14.5s\n",
    "DF_CO_list = []\n",
    "DF_HC_list = []\n",
    "DF_PM_list = []\n",
    "DF_NOx_list = []\n",
    "# '연료', '차종', '차종유형', '연식', '차령'\n",
    "for fuel, car_type, car_size, car_birth, car_age in tqdm(df2[DF_col].values):    \n",
    "    if fuel == '경유':\n",
    "        if (car_type == '승용') or ( (car_type == '특수') and (car_size == '소형') ): # 최이사님 확인(2023.04.20) : \"특수 소형\" -> \"승용 소형\" 조건으로 계산\n",
    "            warranty = 5\n",
    "            if car_age <= warranty:\n",
    "                DF_CO = 1\n",
    "                DF_HC = 1\n",
    "                DF_PM = 1\n",
    "                DF_NOx = 1\n",
    "            else:\n",
    "                DF_CO = 1 + (car_age - warranty)*0.05\n",
    "                DF_HC = 1 + (car_age - warranty)*0.05\n",
    "                DF_PM = 1 + (car_age - warranty)*0.05\n",
    "                DF_NOx = 1 + (car_age - warranty)*0.02\n",
    "                if DF_CO > 1.5:\n",
    "                    DF_CO = 1.5\n",
    "                if DF_HC > 1.5:\n",
    "                    DF_HC = 1.5\n",
    "                if DF_PM > 1.5:\n",
    "                    DF_PM = 1.5\n",
    "                if DF_NOx > 1.2:\n",
    "                    DF_NOx = 1.2\n",
    "        elif car_type == '승합':\n",
    "            if car_size == '소형' or car_size == '중형':\n",
    "                warranty = 5\n",
    "                if car_age <= warranty:\n",
    "                    DF_CO = 1\n",
    "                    DF_HC = 1\n",
    "                    DF_PM = 1\n",
    "                    DF_NOx = 1\n",
    "                else:\n",
    "                    DF_CO = 1 + (car_age - warranty)*0.05\n",
    "                    DF_HC = 1 + (car_age - warranty)*0.05\n",
    "                    DF_PM = 1 + (car_age - warranty)*0.05\n",
    "                    DF_NOx = 1 + (car_age - warranty)*0.02\n",
    "                    if DF_CO > 1.5:\n",
    "                        DF_CO = 1.5\n",
    "                    if DF_HC > 1.5:\n",
    "                        DF_HC = 1.5\n",
    "                    if DF_PM > 1.5:\n",
    "                        DF_PM = 1.5\n",
    "                    if DF_NOx > 1.2:\n",
    "                        DF_NOx = 1.2\n",
    "            elif car_size == '대형':\n",
    "                warranty = 3\n",
    "                if car_age <= warranty:\n",
    "                    DF_CO = 1\n",
    "                    DF_HC = 1\n",
    "                    DF_PM = 1\n",
    "                    DF_NOx = 1\n",
    "                else:\n",
    "                    DF_CO = 1 + (car_age - warranty)*0.05\n",
    "                    DF_HC = 1 + (car_age - warranty)*0.05\n",
    "                    DF_PM = 1 + (car_age - warranty)*0.05\n",
    "                    DF_NOx = 1 + (car_age - warranty)*0.02\n",
    "                    if DF_CO > 1.5:\n",
    "                        DF_CO = 1.5\n",
    "                    if DF_HC > 1.5:\n",
    "                        DF_HC = 1.5\n",
    "                    if DF_PM > 1.5:\n",
    "                        DF_PM = 1.5\n",
    "                    if DF_NOx > 1.2:\n",
    "                        DF_NOx = 1.2\n",
    "        elif car_type == '화물':\n",
    "            # car_size : 경, 소, 중, 대\n",
    "            warranty = 5\n",
    "            if car_age <= warranty:\n",
    "                DF_CO = 1\n",
    "                DF_HC = 1\n",
    "                DF_PM = 1\n",
    "                DF_NOx = 1\n",
    "            else:\n",
    "                DF_CO = 1 + (car_age - warranty)*0.05\n",
    "                DF_HC = 1 + (car_age - warranty)*0.05\n",
    "                DF_PM = 1 + (car_age - warranty)*0.05\n",
    "                DF_NOx = 1 + (car_age - warranty)*0.02\n",
    "                if DF_CO > 1.5:\n",
    "                    DF_CO = 1.5\n",
    "                if DF_HC > 1.5:\n",
    "                    DF_HC = 1.5\n",
    "                if DF_PM > 1.5:\n",
    "                    DF_PM = 1.5\n",
    "                if DF_NOx > 1.2:\n",
    "                    DF_NOx = 1.2\n",
    "        elif car_type == '특수':\n",
    "            # car_size : 중, 대\n",
    "            warranty = 5\n",
    "            if car_age <= warranty:\n",
    "                DF_CO = 1\n",
    "                DF_HC = 1\n",
    "                DF_PM = 1\n",
    "                DF_NOx = 1\n",
    "            else:\n",
    "                DF_CO = 1 + (car_age - warranty)*0.05\n",
    "                DF_HC = 1 + (car_age - warranty)*0.05\n",
    "                DF_PM = 1 + (car_age - warranty)*0.05\n",
    "                DF_NOx = 1 + (car_age - warranty)*0.02\n",
    "                if DF_CO > 1.5:\n",
    "                    DF_CO = 1.5\n",
    "                if DF_HC > 1.5:\n",
    "                    DF_HC = 1.5\n",
    "                if DF_PM > 1.5:\n",
    "                    DF_PM = 1.5\n",
    "                if DF_NOx > 1.2:\n",
    "                    DF_NOx = 1.2\n",
    "    elif (fuel == '휘발유') or (fuel == 'LPG'):\n",
    "        if car_type == '승용':\n",
    "            # 경, 소, 중, 대\n",
    "            if car_birth <= 2000:\n",
    "                warranty = 5\n",
    "                if car_age <= warranty:\n",
    "                    DF_CO = 1\n",
    "                    DF_HC = 1\n",
    "                    DF_PM = 1\n",
    "                    DF_NOx = 1\n",
    "                else:\n",
    "                    DF_CO = 1 + (car_age - warranty)*0.1\n",
    "                    DF_HC = 1 + (car_age - warranty)*0.1\n",
    "                    DF_PM = 1 + (car_age - warranty)*0.1\n",
    "                    DF_NOx = 1 + (car_age - warranty)*0.1\n",
    "                    if DF_CO > 2.0:\n",
    "                        DF_CO = 2.0\n",
    "                    if DF_HC > 2.0:\n",
    "                        DF_HC = 2.0\n",
    "                    if DF_PM > 2.0:\n",
    "                        DF_PM = 2.0\n",
    "                    if DF_NOx > 2.0:\n",
    "                        DF_NOx = 2.0\n",
    "            elif car_birth >= 2001:\n",
    "                warranty = 10\n",
    "                if car_age <= warranty:\n",
    "                    DF_CO = 1\n",
    "                    DF_HC = 1\n",
    "                    DF_PM = 1\n",
    "                    DF_NOx = 1\n",
    "                else:\n",
    "                    DF_CO = 1 + (car_age - warranty)*0.1\n",
    "                    DF_HC = 1 + (car_age - warranty)*0.1\n",
    "                    DF_PM = 1 + (car_age - warranty)*0.1\n",
    "                    DF_NOx = 1 + (car_age - warranty)*0.1\n",
    "                    if DF_CO > 2.0:\n",
    "                        DF_CO = 2.0\n",
    "                    if DF_HC > 2.0:\n",
    "                        DF_HC = 2.0\n",
    "                    if DF_PM > 2.0:\n",
    "                        DF_PM = 2.0\n",
    "                    if DF_NOx > 2.0:\n",
    "                        DF_NOx = 2.0\n",
    "        elif car_type == '승합':\n",
    "            if car_size == '경형':\n",
    "                warranty = 5\n",
    "                if car_age <= warranty:\n",
    "                    DF_CO = 1\n",
    "                    DF_HC = 1\n",
    "                    DF_PM = 1\n",
    "                    DF_NOx = 1\n",
    "                else:\n",
    "                    DF_CO = 1 + (car_age - warranty)*0.1\n",
    "                    DF_HC = 1 + (car_age - warranty)*0.1\n",
    "                    DF_PM = 1 + (car_age - warranty)*0.1\n",
    "                    DF_NOx = 1 + (car_age - warranty)*0.1\n",
    "                    if DF_CO > 2.0:\n",
    "                        DF_CO = 2.0\n",
    "                    if DF_HC > 2.0:\n",
    "                        DF_HC = 2.0\n",
    "                    if DF_PM > 2.0:\n",
    "                        DF_PM = 2.0\n",
    "                    if DF_NOx > 2.0:\n",
    "                        DF_NOx = 2.0\n",
    "            elif (car_size == '소형') or (car_size == '중형'):\n",
    "                if car_birth <= 2005:\n",
    "                    warranty = 5\n",
    "                    if car_age <= warranty:\n",
    "                        DF_CO = 1\n",
    "                        DF_HC = 1\n",
    "                        DF_PM = 1\n",
    "                        DF_NOx = 1\n",
    "                    else:\n",
    "                        DF_CO = 1 + (car_age - warranty)*0.1\n",
    "                        DF_HC = 1 + (car_age - warranty)*0.1\n",
    "                        DF_PM = 1 + (car_age - warranty)*0.1\n",
    "                        DF_NOx = 1 + (car_age - warranty)*0.1\n",
    "                        if DF_CO > 2.0:\n",
    "                            DF_CO = 2.0\n",
    "                        if DF_HC > 2.0:\n",
    "                            DF_HC = 2.0\n",
    "                        if DF_PM > 2.0:\n",
    "                            DF_PM = 2.0\n",
    "                        if DF_NOx > 2.0:\n",
    "                            DF_NOx = 2.0\n",
    "                elif car_birth >= 2006:\n",
    "                    warranty = 10\n",
    "                    if car_age <= warranty:\n",
    "                        DF_CO = 1\n",
    "                        DF_HC = 1\n",
    "                        DF_PM = 1\n",
    "                        DF_NOx = 1\n",
    "                    else:\n",
    "                        DF_CO = 1 + (car_age - warranty)*0.1\n",
    "                        DF_HC = 1 + (car_age - warranty)*0.1\n",
    "                        DF_PM = 1 + (car_age - warranty)*0.1\n",
    "                        DF_NOx = 1 + (car_age - warranty)*0.1\n",
    "                        if DF_CO > 2.0:\n",
    "                            DF_CO = 2.0\n",
    "                        if DF_HC > 2.0:\n",
    "                            DF_HC = 2.0\n",
    "                        if DF_PM > 2.0:\n",
    "                            DF_PM = 2.0\n",
    "                        if DF_NOx > 2.0:\n",
    "                            DF_NOx = 2.0\n",
    "        elif (car_type == '화물') or ( (car_type == '승합') and (car_size == '대형')): # 최이사님 확인(2023.04.20) : 습합 대형 -> 화물 대형 조건으로 계산\n",
    "            # 경, 소, 중, 대\n",
    "            warranty = 5\n",
    "            if car_age <= warranty:\n",
    "                DF_CO = 1\n",
    "                DF_HC = 1\n",
    "                DF_PM = 1\n",
    "                DF_NOx = 1\n",
    "            else:\n",
    "                DF_CO = 1 + (car_age - warranty)*0.1\n",
    "                DF_HC = 1 + (car_age - warranty)*0.1\n",
    "                DF_PM = 1 + (car_age - warranty)*0.1\n",
    "                DF_NOx = 1 + (car_age - warranty)*0.1\n",
    "                if DF_CO > 2.0:\n",
    "                    DF_CO = 2.0\n",
    "                if DF_HC > 2.0:\n",
    "                    DF_HC = 2.0\n",
    "                if DF_PM > 2.0:\n",
    "                    DF_PM = 2.0\n",
    "                if DF_NOx > 2.0:\n",
    "                    DF_NOx = 2.0\n",
    "        elif car_type == '특수':\n",
    "            # 중, 대\n",
    "            warranty = 5\n",
    "            if car_age <= warranty:\n",
    "                DF_CO = 1\n",
    "                DF_HC = 1\n",
    "                DF_PM = 1\n",
    "                DF_NOx = 1\n",
    "            else:\n",
    "                DF_CO = 1 + (car_age - warranty)*0.1\n",
    "                DF_HC = 1 + (car_age - warranty)*0.1\n",
    "                DF_PM = 1 + (car_age - warranty)*0.1\n",
    "                DF_NOx = 1 + (car_age - warranty)*0.1\n",
    "                if DF_CO > 2.0:\n",
    "                    DF_CO = 2.0\n",
    "                if DF_HC > 2.0:\n",
    "                    DF_HC = 2.0\n",
    "                if DF_PM > 2.0:\n",
    "                    DF_PM = 2.0\n",
    "                if DF_NOx > 2.0:\n",
    "                    DF_NOx = 2.0\n",
    "    else:\n",
    "        # 설정 고민\n",
    "            # 고려 : 1\n",
    "        # DF_CO, DF_HC, DF_PM, DF_NOx = np.nan, np.nan, np.nan, np.nan\n",
    "        DF_CO, DF_HC, DF_PM, DF_NOx = 1, 1, 1, 1\n",
    "\n",
    "    # 열화계수(DF) 리스트에 저장\n",
    "    DF_CO_list.append(DF_CO)\n",
    "    DF_HC_list.append(DF_HC)\n",
    "    DF_PM_list.append(DF_PM)\n",
    "    DF_NOx_list.append(DF_NOx)"
   ]
  },
  {
   "cell_type": "code",
   "execution_count": 17,
   "metadata": {},
   "outputs": [
    {
     "data": {
      "text/plain": [
       "25117098"
      ]
     },
     "execution_count": 17,
     "metadata": {},
     "output_type": "execute_result"
    }
   ],
   "source": [
    "df2.shape[0]"
   ]
  },
  {
   "cell_type": "code",
   "execution_count": 18,
   "metadata": {},
   "outputs": [
    {
     "data": {
      "text/plain": [
       "(25117098, 25117098, 25117098, 25117098)"
      ]
     },
     "execution_count": 18,
     "metadata": {},
     "output_type": "execute_result"
    }
   ],
   "source": [
    "len(DF_CO_list), len(DF_HC_list), len(DF_PM_list), len(DF_NOx_list)"
   ]
  },
  {
   "cell_type": "code",
   "execution_count": 19,
   "metadata": {},
   "outputs": [],
   "source": [
    "df2['DF_CO'] = DF_CO_list\n",
    "df2['DF_HC'] = DF_HC_list\n",
    "df2['DF_PM'] = DF_PM_list\n",
    "df2['DF_NOx'] = DF_NOx_list"
   ]
  },
  {
   "cell_type": "code",
   "execution_count": 20,
   "metadata": {},
   "outputs": [
    {
     "data": {
      "text/html": [
       "<div>\n",
       "<style scoped>\n",
       "    .dataframe tbody tr th:only-of-type {\n",
       "        vertical-align: middle;\n",
       "    }\n",
       "\n",
       "    .dataframe tbody tr th {\n",
       "        vertical-align: top;\n",
       "    }\n",
       "\n",
       "    .dataframe thead th {\n",
       "        text-align: right;\n",
       "    }\n",
       "</style>\n",
       "<table border=\"1\" class=\"dataframe\">\n",
       "  <thead>\n",
       "    <tr style=\"text-align: right;\">\n",
       "      <th></th>\n",
       "      <th>fuel</th>\n",
       "      <th>차종</th>\n",
       "      <th>차종유형</th>\n",
       "      <th>차량연식</th>\n",
       "      <th>차령</th>\n",
       "      <th>DF_CO</th>\n",
       "      <th>DF_HC</th>\n",
       "      <th>DF_PM</th>\n",
       "      <th>DF_NOx</th>\n",
       "    </tr>\n",
       "  </thead>\n",
       "  <tbody>\n",
       "    <tr>\n",
       "      <th>0</th>\n",
       "      <td>휘발유</td>\n",
       "      <td>승용</td>\n",
       "      <td>중형</td>\n",
       "      <td>2023</td>\n",
       "      <td>0</td>\n",
       "      <td>1.00</td>\n",
       "      <td>1.00</td>\n",
       "      <td>1.00</td>\n",
       "      <td>1.00</td>\n",
       "    </tr>\n",
       "    <tr>\n",
       "      <th>1</th>\n",
       "      <td>휘발유</td>\n",
       "      <td>승용</td>\n",
       "      <td>중형</td>\n",
       "      <td>2023</td>\n",
       "      <td>0</td>\n",
       "      <td>1.00</td>\n",
       "      <td>1.00</td>\n",
       "      <td>1.00</td>\n",
       "      <td>1.00</td>\n",
       "    </tr>\n",
       "    <tr>\n",
       "      <th>2</th>\n",
       "      <td>휘발유</td>\n",
       "      <td>승용</td>\n",
       "      <td>대형</td>\n",
       "      <td>2023</td>\n",
       "      <td>0</td>\n",
       "      <td>1.00</td>\n",
       "      <td>1.00</td>\n",
       "      <td>1.00</td>\n",
       "      <td>1.00</td>\n",
       "    </tr>\n",
       "    <tr>\n",
       "      <th>3</th>\n",
       "      <td>휘발유</td>\n",
       "      <td>승용</td>\n",
       "      <td>대형</td>\n",
       "      <td>2023</td>\n",
       "      <td>0</td>\n",
       "      <td>1.00</td>\n",
       "      <td>1.00</td>\n",
       "      <td>1.00</td>\n",
       "      <td>1.00</td>\n",
       "    </tr>\n",
       "    <tr>\n",
       "      <th>4</th>\n",
       "      <td>휘발유</td>\n",
       "      <td>승용</td>\n",
       "      <td>대형</td>\n",
       "      <td>2023</td>\n",
       "      <td>0</td>\n",
       "      <td>1.00</td>\n",
       "      <td>1.00</td>\n",
       "      <td>1.00</td>\n",
       "      <td>1.00</td>\n",
       "    </tr>\n",
       "  </tbody>\n",
       "</table>\n",
       "</div>"
      ],
      "text/plain": [
       "  fuel  차종 차종유형  차량연식  차령  DF_CO  DF_HC  DF_PM  DF_NOx\n",
       "0  휘발유  승용   중형  2023   0   1.00   1.00   1.00    1.00\n",
       "1  휘발유  승용   중형  2023   0   1.00   1.00   1.00    1.00\n",
       "2  휘발유  승용   대형  2023   0   1.00   1.00   1.00    1.00\n",
       "3  휘발유  승용   대형  2023   0   1.00   1.00   1.00    1.00\n",
       "4  휘발유  승용   대형  2023   0   1.00   1.00   1.00    1.00"
      ]
     },
     "execution_count": 20,
     "metadata": {},
     "output_type": "execute_result"
    }
   ],
   "source": [
    "check_DF_col = ['DF_CO', 'DF_HC', 'DF_PM', 'DF_NOx']\n",
    "df2.loc[df2['차령'] < 10, DF_col + check_DF_col].head()"
   ]
  },
  {
   "attachments": {},
   "cell_type": "markdown",
   "metadata": {},
   "source": [
    "### 저감장치 부착 효율(R) 계산\n",
    "- 저감장치부착유무 : 유 -> DPF로 가정하고 진행\n",
    "- 휘발성 유기 화합물(Volatile Organic Compounds:VOC) : 생활주변에서 흔히 사용하는 탄화수소류가 거의 해당됨.\n",
    "- 저감장치별 물질 제거 효율(%)\n",
    "\n",
    "    장치종류|CO|VOC|PM\n",
    "    :-:|:-:|:-:|:-:\n",
    "    DPF|99.5|90|83.6\n",
    "    pDPF|94.6|89.3|56\n",
    "    DOC|85.4|72|35"
   ]
  },
  {
   "cell_type": "code",
   "execution_count": 21,
   "metadata": {},
   "outputs": [],
   "source": [
    "df2.loc[df2['저감장치부착유무'] == '유', ['R_CO', 'R_HC', 'R_PM']] = 99.5, 90, 83.6"
   ]
  },
  {
   "cell_type": "code",
   "execution_count": 22,
   "metadata": {},
   "outputs": [
    {
     "data": {
      "text/plain": [
       "25117098"
      ]
     },
     "execution_count": 22,
     "metadata": {},
     "output_type": "execute_result"
    }
   ],
   "source": [
    "df2.shape[0]"
   ]
  },
  {
   "cell_type": "code",
   "execution_count": 23,
   "metadata": {},
   "outputs": [],
   "source": [
    "check_R_col = ['R_CO', 'R_HC', 'R_PM']"
   ]
  },
  {
   "cell_type": "code",
   "execution_count": 24,
   "metadata": {},
   "outputs": [
    {
     "data": {
      "text/plain": [
       "R_CO    143184\n",
       "R_HC    143184\n",
       "R_PM    143184\n",
       "dtype: int64"
      ]
     },
     "execution_count": 24,
     "metadata": {},
     "output_type": "execute_result"
    }
   ],
   "source": [
    "df2[check_R_col].notnull().sum()"
   ]
  },
  {
   "cell_type": "code",
   "execution_count": 25,
   "metadata": {},
   "outputs": [
    {
     "data": {
      "text/html": [
       "<div>\n",
       "<style scoped>\n",
       "    .dataframe tbody tr th:only-of-type {\n",
       "        vertical-align: middle;\n",
       "    }\n",
       "\n",
       "    .dataframe tbody tr th {\n",
       "        vertical-align: top;\n",
       "    }\n",
       "\n",
       "    .dataframe thead th {\n",
       "        text-align: right;\n",
       "    }\n",
       "</style>\n",
       "<table border=\"1\" class=\"dataframe\">\n",
       "  <thead>\n",
       "    <tr style=\"text-align: right;\">\n",
       "      <th></th>\n",
       "      <th>fuel</th>\n",
       "      <th>차종</th>\n",
       "      <th>차종유형</th>\n",
       "      <th>차량연식</th>\n",
       "      <th>차령</th>\n",
       "      <th>DF_CO</th>\n",
       "      <th>DF_HC</th>\n",
       "      <th>DF_PM</th>\n",
       "      <th>DF_NOx</th>\n",
       "      <th>R_CO</th>\n",
       "      <th>R_HC</th>\n",
       "      <th>R_PM</th>\n",
       "    </tr>\n",
       "  </thead>\n",
       "  <tbody>\n",
       "    <tr>\n",
       "      <th>27396</th>\n",
       "      <td>경유</td>\n",
       "      <td>승용</td>\n",
       "      <td>중형</td>\n",
       "      <td>2005</td>\n",
       "      <td>18</td>\n",
       "      <td>1.50</td>\n",
       "      <td>1.50</td>\n",
       "      <td>1.50</td>\n",
       "      <td>1.20</td>\n",
       "      <td>99.50</td>\n",
       "      <td>90.00</td>\n",
       "      <td>83.60</td>\n",
       "    </tr>\n",
       "    <tr>\n",
       "      <th>33079</th>\n",
       "      <td>경유</td>\n",
       "      <td>승용</td>\n",
       "      <td>중형</td>\n",
       "      <td>2005</td>\n",
       "      <td>18</td>\n",
       "      <td>1.50</td>\n",
       "      <td>1.50</td>\n",
       "      <td>1.50</td>\n",
       "      <td>1.20</td>\n",
       "      <td>99.50</td>\n",
       "      <td>90.00</td>\n",
       "      <td>83.60</td>\n",
       "    </tr>\n",
       "    <tr>\n",
       "      <th>82122</th>\n",
       "      <td>경유</td>\n",
       "      <td>승용</td>\n",
       "      <td>대형</td>\n",
       "      <td>2003</td>\n",
       "      <td>20</td>\n",
       "      <td>1.50</td>\n",
       "      <td>1.50</td>\n",
       "      <td>1.50</td>\n",
       "      <td>1.20</td>\n",
       "      <td>99.50</td>\n",
       "      <td>90.00</td>\n",
       "      <td>83.60</td>\n",
       "    </tr>\n",
       "    <tr>\n",
       "      <th>99157</th>\n",
       "      <td>경유</td>\n",
       "      <td>승합</td>\n",
       "      <td>중형</td>\n",
       "      <td>2007</td>\n",
       "      <td>16</td>\n",
       "      <td>1.50</td>\n",
       "      <td>1.50</td>\n",
       "      <td>1.50</td>\n",
       "      <td>1.20</td>\n",
       "      <td>99.50</td>\n",
       "      <td>90.00</td>\n",
       "      <td>83.60</td>\n",
       "    </tr>\n",
       "    <tr>\n",
       "      <th>132058</th>\n",
       "      <td>휘발유</td>\n",
       "      <td>승용</td>\n",
       "      <td>중형</td>\n",
       "      <td>2006</td>\n",
       "      <td>17</td>\n",
       "      <td>1.70</td>\n",
       "      <td>1.70</td>\n",
       "      <td>1.70</td>\n",
       "      <td>1.70</td>\n",
       "      <td>99.50</td>\n",
       "      <td>90.00</td>\n",
       "      <td>83.60</td>\n",
       "    </tr>\n",
       "  </tbody>\n",
       "</table>\n",
       "</div>"
      ],
      "text/plain": [
       "       fuel  차종 차종유형  차량연식  차령  DF_CO  DF_HC  DF_PM  DF_NOx  R_CO  R_HC  R_PM\n",
       "27396    경유  승용   중형  2005  18   1.50   1.50   1.50    1.20 99.50 90.00 83.60\n",
       "33079    경유  승용   중형  2005  18   1.50   1.50   1.50    1.20 99.50 90.00 83.60\n",
       "82122    경유  승용   대형  2003  20   1.50   1.50   1.50    1.20 99.50 90.00 83.60\n",
       "99157    경유  승합   중형  2007  16   1.50   1.50   1.50    1.20 99.50 90.00 83.60\n",
       "132058  휘발유  승용   중형  2006  17   1.70   1.70   1.70    1.70 99.50 90.00 83.60"
      ]
     },
     "execution_count": 25,
     "metadata": {},
     "output_type": "execute_result"
    }
   ],
   "source": [
    "df2.loc[df2['저감장치부착유무'] == '유', DF_col + check_DF_col + check_R_col].head()"
   ]
  },
  {
   "cell_type": "code",
   "execution_count": 26,
   "metadata": {},
   "outputs": [],
   "source": [
    "df2[check_R_col] = df2[check_R_col].fillna(0)"
   ]
  },
  {
   "cell_type": "code",
   "execution_count": 27,
   "metadata": {},
   "outputs": [
    {
     "data": {
      "text/plain": [
       "R_CO    0\n",
       "R_HC    0\n",
       "R_PM    0\n",
       "dtype: int64"
      ]
     },
     "execution_count": 27,
     "metadata": {},
     "output_type": "execute_result"
    }
   ],
   "source": [
    "df2[check_R_col].isnull().sum()"
   ]
  },
  {
   "attachments": {},
   "cell_type": "markdown",
   "metadata": {},
   "source": [
    "### ❗ 배출계수(EFi)\n",
    "- 연료, 차종, 차종유형 설정에 해당되지 않는 차량의 배출계수 값 설정\n",
    "    - 현재 설정값 : np.nan\n",
    "    - 고려 설정값 : 1\n",
    "- 조건 수정(2023.04.20, 최)\n",
    "    - 특수 중형 = 승합 중형\n",
    "    - 화물 중형 = 승합 중형\n",
    "    - 화물 대형 = 승합 대형\n",
    "    - 특수 중형 = 승용 중형"
   ]
  },
  {
   "cell_type": "code",
   "execution_count": 28,
   "metadata": {},
   "outputs": [],
   "source": [
    "EFi_col = ['차종', '차종유형', 'fuel', '차량연식']\n",
    "# 참고 : KOSIS 차량속도(2017) 일반국도 평균 (https://kosis.kr/statHtml/statHtml.do?orgId=210&tblId=DT_21002_J008)\n",
    "V = 54.1\n",
    "# 국가 대기오염물질 배출량 산정방법 편람(V)(2022) 부록 참고(for PM-2.5)\n",
    "k = 0.92"
   ]
  },
  {
   "cell_type": "code",
   "execution_count": 29,
   "metadata": {},
   "outputs": [
    {
     "data": {
      "text/plain": [
       "array(['승용', '중형', '휘발유', 2023], dtype=object)"
      ]
     },
     "execution_count": 29,
     "metadata": {},
     "output_type": "execute_result"
    }
   ],
   "source": [
    "df2[EFi_col].values[0]"
   ]
  },
  {
   "cell_type": "code",
   "execution_count": 30,
   "metadata": {},
   "outputs": [
    {
     "data": {
      "text/plain": [
       "array(['중형', '대형', '경형', '소형', nan], dtype=object)"
      ]
     },
     "execution_count": 30,
     "metadata": {},
     "output_type": "execute_result"
    }
   ],
   "source": [
    "df2['차종유형'].unique()"
   ]
  },
  {
   "cell_type": "code",
   "execution_count": 31,
   "metadata": {},
   "outputs": [
    {
     "name": "stderr",
     "output_type": "stream",
     "text": [
      "100%|██████████| 25117098/25117098 [05:39<00:00, 73944.99it/s]\n"
     ]
    }
   ],
   "source": [
    "# about 5m 40s\n",
    "EFi_CO_list = []\n",
    "EFi_HC_list = []\n",
    "EFi_NOx_list = []\n",
    "EFi_PM10_list = []\n",
    "EFi_PM2_5_list = []\n",
    "EFi_NH3_list = []\n",
    "\n",
    "# 차종, 차종유형, 연료, 연식\n",
    "for car_type, car_size, fuel, car_birth in tqdm(df2[EFi_col].values):\n",
    "    EFi_COm = 0\n",
    "    EFi_HCm = 0\n",
    "    EFi_NOxm = 0\n",
    "    EFi_PM10m = 0\n",
    "    EFi_PM2_5m = 0\n",
    "    EFi_NH3m = 0\n",
    "    for V in [30, 75, 100]:\n",
    "        if fuel == '휘발유':\n",
    "            if (car_type == '승용') and (car_size == '경형'):\n",
    "                if car_birth <= 1996:\n",
    "                    if V <= 65:\n",
    "                        EFi_CO = 59.783 * (V**-1.0007)\n",
    "                    else:\n",
    "                        EFi_CO = 0.0874 * V - 3.5618\n",
    "                    EFi_HC = 7.6244 * (V**-0.8364)\n",
    "                    EFi_NOx = 2.6754 * (V**-0.3236)\n",
    "                    if V < 85:\n",
    "                        EFi_PM10 = 0.00030\n",
    "                        EFi_PM2_5 = k * 0.00030\n",
    "                    else:\n",
    "                        EFi_PM10 = 0.00075\n",
    "                        EFi_PM2_5 = k * 0.00075\n",
    "                    if V <= 65:\n",
    "                        EFi_NH3 = 0.1\n",
    "                    else:\n",
    "                        EFi_NH3 = 0.07\n",
    "                elif 1997 <= car_birth <= 1999:\n",
    "                    if V <= 65:\n",
    "                        EFi_CO = 59.783 * (V**-1.0007)\n",
    "                    else:\n",
    "                        EFi_CO = 0.0874 * V - 3.5618\n",
    "                    EFi_HC = 8.6275 * (V**-1.0722)\n",
    "                    EFi_NOx = 3.2294 * (V**-0.5763)\n",
    "                    if V < 85:\n",
    "                        EFi_PM10 = 0.00030\n",
    "                        EFi_PM2_5 = k * 0.00030\n",
    "                    else:\n",
    "                        EFi_PM10 = 0.00075\n",
    "                        EFi_PM2_5 = k * 0.00075\n",
    "                    if V <= 65:\n",
    "                        EFi_NH3 = 0.1\n",
    "                    else:\n",
    "                        EFi_NH3 = 0.07\n",
    "                elif 2000 <= car_birth <= 2002:\n",
    "                    if V <= 65:\n",
    "                        EFi_CO = 60.556 * (V**-1.2501)\n",
    "                    else:\n",
    "                        EFi_CO = -0.0006 * V + 0.5753\n",
    "                    EFi_HC = 5.1835 * (V**-1.1889)\n",
    "                    EFi_NOx = 1.7525 * (V**-0.6481)\n",
    "                    if V < 85:\n",
    "                        EFi_PM10 = 0.00030\n",
    "                        EFi_PM2_5 = k * 0.00030\n",
    "                    else:\n",
    "                        EFi_PM10 = 0.00075\n",
    "                        EFi_PM2_5 = k * 0.00075\n",
    "                    if V <= 60:\n",
    "                        EFi_NH3 = 0.169\n",
    "                    elif 60 < V <= 90:\n",
    "                        EFi_NH3 = 0.149\n",
    "                    elif V > 90:\n",
    "                        EFi_NH3 = 0.084\n",
    "                elif 2003 <= car_birth <= 2005:\n",
    "                    if V <= 65:\n",
    "                        EFi_CO = 60.556 * (V**-1.2501)\n",
    "                    else:\n",
    "                        EFi_CO = -0.0006 * V + 0.5753\n",
    "                    EFi_HC = 0.7446 * (V**-0.9392)\n",
    "                    EFi_NOx = 0.3403 * (V**-0.5455)\n",
    "                    if V < 85:\n",
    "                        EFi_PM10 = 0.00030\n",
    "                        EFi_PM2_5 = k * 0.00030\n",
    "                    else:\n",
    "                        EFi_PM10 = 0.00075\n",
    "                        EFi_PM2_5 = k * 0.00075\n",
    "                    if V <= 60:\n",
    "                        EFi_NH3 = 0.002\n",
    "                    elif 60 < V <= 90:\n",
    "                        EFi_NH3 = 0.03\n",
    "                    elif V > 90:\n",
    "                        EFi_NH3 = 0.065\n",
    "                elif 2006 <= car_birth <= 2008:\n",
    "                    if V <= 45:\n",
    "                        EFi_CO = 4.9952 * (V**-0.8461)\n",
    "                    else:\n",
    "                        EFi_CO = -0.0001 * V**2 + 0.0229 * V - 0.5701\n",
    "                    EFi_HC = 0.2958 * (V**-0.7830)\n",
    "                    EFi_NOx = 0.4819 * (V**-0.9198)\n",
    "                    if V < 85:\n",
    "                        EFi_PM10 = 0.00030\n",
    "                        EFi_PM2_5 = k * 0.00030\n",
    "                    else:\n",
    "                        EFi_PM10 = 0.00075\n",
    "                        EFi_PM2_5 = k * 0.00075\n",
    "                    if V <= 60:\n",
    "                        EFi_NH3 = 0.002\n",
    "                    elif 60 < V <= 90:\n",
    "                        EFi_NH3 = 0.03\n",
    "                    elif V > 90:\n",
    "                        EFi_NH3 = 0.065\n",
    "                elif 2009 <= car_birth <= 2011:\n",
    "                    if V <= 45:\n",
    "                        EFi_CO = 4.5956 * (V**-0.8461)\n",
    "                    else:\n",
    "                        EFi_CO = -9.2000*(10**-5) * (V**2) + 2.1068*(10**-2) * V - 5.2449*(10**-1)\n",
    "                    EFi_HC = 0.2662 * (V**-0.7830)\n",
    "                    EFi_NOx = 0.4476 * (V**-0.9198)\n",
    "                    if V < 85:\n",
    "                        EFi_PM10 = 0.00030\n",
    "                        EFi_PM2_5 = k * 0.00030\n",
    "                    else:\n",
    "                        EFi_PM10 = 0.00075\n",
    "                        EFi_PM2_5 = k * 0.00075\n",
    "                    if V <= 60:\n",
    "                        EFi_NH3 = 0.004\n",
    "                    elif 60 < V <= 90:\n",
    "                        EFi_NH3 = 0.008\n",
    "                    elif V > 90:\n",
    "                        EFi_NH3 = 0.022\n",
    "                elif 2012 <= car_birth <= 2013:\n",
    "                    if V <= 45:\n",
    "                        EFi_CO = 4.4517 * (V**-0.8461)\n",
    "                    else:\n",
    "                        EFi_CO = -8.9120*(10**-5) * (V**2) + 2.0408*(10**-2)*V - 5.0807*(10**-1)\n",
    "                    EFi_HC = 0.2556 * (V**-0.7830)\n",
    "                    EFi_NOx = 0.4353 * (V**-0.9198)\n",
    "                    if V < 85:\n",
    "                        EFi_PM10 = 0.00030\n",
    "                        EFi_PM2_5 = k * 0.00030\n",
    "                    else:\n",
    "                        EFi_PM10 = 0.00075\n",
    "                        EFi_PM2_5 = k * 0.00075\n",
    "                    if V <= 60:\n",
    "                        EFi_NH3 = 0.004\n",
    "                    elif 60 < V <= 90:\n",
    "                        EFi_NH3 = 0.008\n",
    "                    elif V > 90:\n",
    "                        EFi_NH3 = 0.022\n",
    "                elif car_birth == 2014:\n",
    "                    if V <= 45:\n",
    "                        EFi_CO = 4.3079 * (V**-0.8461)\n",
    "                    else:\n",
    "                        EFi_CO = -8.6240*(10**-5) * (V**2) + 1.9749*(10**-2)*V - 4.9165*(10**-1)\n",
    "                    EFi_HC = 0.2449 * (V**-0.7830)\n",
    "                    EFi_NOx = 0.4230 * (V**-0.9198)\n",
    "                    if V < 85:\n",
    "                        EFi_PM10 = 0.00030\n",
    "                        EFi_PM2_5 = k * 0.00030\n",
    "                    else:\n",
    "                        EFi_PM10 = 0.00075\n",
    "                        EFi_PM2_5 = k * 0.00075\n",
    "                    if V <= 60:\n",
    "                        EFi_NH3 = 0.004\n",
    "                    elif 60 < V <= 90:\n",
    "                        EFi_NH3 = 0.008\n",
    "                    elif V > 90:\n",
    "                        EFi_NH3 = 0.022\n",
    "                elif 2015 <= car_birth:\n",
    "                    if V <= 45:\n",
    "                        EFi_CO = 4.164 * (V**-0.8461)\n",
    "                    else:\n",
    "                        EFi_CO = -8.3360*(10**-5) * (V**2) + 1.9089*(10**-2)*V - 4.7524*(10**-1)\n",
    "                    EFi_HC = 0.2343 * (V**-0.7830)\n",
    "                    EFi_NOx = 0.4106 * (V**-0.9198)\n",
    "                    if V < 85:\n",
    "                        EFi_PM10 = 0.00030\n",
    "                        EFi_PM2_5 = k * 0.00030\n",
    "                    else:\n",
    "                        EFi_PM10 = 0.00075\n",
    "                        EFi_PM2_5 = k * 0.00075\n",
    "                    if V <= 60:\n",
    "                        EFi_NH3 = 0.004\n",
    "                    elif 60 < V <= 90:\n",
    "                        EFi_NH3 = 0.008\n",
    "                    elif V > 90:\n",
    "                        EFi_NH3 = 0.022\n",
    "            elif (car_type == '승용') and (car_size == '소형'):\n",
    "                if car_birth <= 1986:\n",
    "                    EFi_CO = 247.00 * (V**-0.6651)\n",
    "                    EFi_HC = 15.953 * (V**-0.5059)\n",
    "                    EFi_NOx = 3.1140 * (V**-0.2278)\n",
    "                    if V < 85:\n",
    "                        EFi_PM10 = 0.00030\n",
    "                        EFi_PM2_5 = k * 0.00030\n",
    "                    else:\n",
    "                        EFi_PM10 = 0.00075\n",
    "                        EFi_PM2_5 = k * 0.00075\n",
    "                    if V <= 65:\n",
    "                        EFi_NH3 = 0.1\n",
    "                    else:\n",
    "                        EFi_NH3 = 0.07\n",
    "                elif 1987 <= car_birth <= 1990:\n",
    "                    EFi_CO = 36.169 * (V**-0.7587)\n",
    "                    EFi_HC = 15.607 * (V**-1.0423)\n",
    "                    EFi_NOx = 6.2007 * (V**-0.6781)\n",
    "                    if V < 85:\n",
    "                        EFi_PM10 = 0.00030\n",
    "                        EFi_PM2_5 = k * 0.00030\n",
    "                    else:\n",
    "                        EFi_PM10 = 0.00075\n",
    "                        EFi_PM2_5 = k * 0.00075\n",
    "                    if V <= 65:\n",
    "                        EFi_NH3 = 0.1\n",
    "                    else:\n",
    "                        EFi_NH3 = 0.07\n",
    "                elif 1991 <= car_birth <= 1999:\n",
    "                    EFi_CO = 111.67 * (V**-1.1566)\n",
    "                    EFi_HC = 32.017 * (V**-1.4171)\n",
    "                    EFi_NOx = 7.5244 * (V**-0.7634)\n",
    "                    if V < 85:\n",
    "                        EFi_PM10 = 0.00030\n",
    "                        EFi_PM2_5 = k * 0.00030\n",
    "                    else:\n",
    "                        EFi_PM10 = 0.00075\n",
    "                        EFi_PM2_5 = k * 0.00075\n",
    "                    if V <= 65:\n",
    "                        EFi_NH3 = 0.1\n",
    "                    else:\n",
    "                        EFi_NH3 = 0.07\n",
    "                elif 2000 <= car_birth <= 2002:\n",
    "                    EFi_CO = 22.356 * (V**-0.9068)\n",
    "                    EFi_HC = 0.8428 * (V**-0.8829)\n",
    "                    EFi_NOx = 1.2613 * (V**-0.3873)\n",
    "                    if V < 85:\n",
    "                        EFi_PM10 = 0.00030\n",
    "                        EFi_PM2_5 = k * 0.00030\n",
    "                    else:\n",
    "                        EFi_PM10 = 0.00075\n",
    "                        EFi_PM2_5 = k * 0.00075\n",
    "                    if V <= 60:\n",
    "                        EFi_NH3 = 0.169\n",
    "                    elif 60 < V <= 90:\n",
    "                        EFi_NH3 = 0.149\n",
    "                    elif V > 90:\n",
    "                        EFi_NH3 = 0.084\n",
    "                elif 2003 <= car_birth <= 2005:\n",
    "                    EFi_CO = 1.4898 * (V**-0.3837)\n",
    "                    EFi_HC = 0.1738 * (V**-0.7268)\n",
    "                    EFi_NOx = 0.1563 * (V**-0.2671)\n",
    "                    if V < 85:\n",
    "                        EFi_PM10 = 0.00030\n",
    "                        EFi_PM2_5 = k * 0.00030\n",
    "                    else:\n",
    "                        EFi_PM10 = 0.00075\n",
    "                        EFi_PM2_5 = k * 0.00075\n",
    "                    if V <= 60:\n",
    "                        EFi_NH3 = 0.002\n",
    "                    elif 60 < V <= 90:\n",
    "                        EFi_NH3 = 0.03\n",
    "                    elif V > 90:\n",
    "                        EFi_NH3 = 0.065\n",
    "                elif 2006 <= car_birth <= 2008:\n",
    "                    EFi_CO = 1.0000*(10**-4)*(V**2) - 7.1000*(10**-3)*V + 2.2450*(10**-1)\n",
    "                    if V <= 65.4:\n",
    "                        EFi_HC = 0.0633 * (V**-1.0484)\n",
    "                    else:\n",
    "                        EFi_HC = 1.3200*(10**-6)*(V**2) - 1.8800*(10**-4)*V + 7.7000*(10**-3)\n",
    "                    EFi_NOx = -3.5000*(10**-6)*(V**2) + 3.3000*(10**-4)*V + 1.1200*(10**-2)\n",
    "                    if V < 85:\n",
    "                        EFi_PM10 = 0.00030\n",
    "                        EFi_PM2_5 = k * 0.00030\n",
    "                    else:\n",
    "                        EFi_PM10 = 0.00075\n",
    "                        EFi_PM2_5 = k * 0.00075\n",
    "                    if V <= 60:\n",
    "                        EFi_NH3 = 0.002\n",
    "                    elif 60 < V <= 90:\n",
    "                        EFi_NH3 = 0.03\n",
    "                    elif V > 90:\n",
    "                        EFi_NH3 = 0.065\n",
    "                elif 2009 <= car_birth <= 2011:\n",
    "                    EFi_CO = 9.2000*(10**-5)*(V**2) - 6.5320*(10**-3)*V + 2.0654*(10**-1)\n",
    "                    if V <= 65.4:\n",
    "                        EFi_HC = 0.0570 * (V**-1.0484)\n",
    "                    else:\n",
    "                        EFi_HC = 1.1880*(10**-6)*(V**2) - 1.6920*(10**-4)*V + 6.9300*(10**-3)\n",
    "                    EFi_NOx = -3.2511*(10**-6)*(V**2) + 3.0653*(10**-4)*V + 1.0404*(10**-2)\n",
    "                    if V < 85:\n",
    "                        EFi_PM10 = 0.00030\n",
    "                        EFi_PM2_5 = k * 0.00030\n",
    "                    else:\n",
    "                        EFi_PM10 = 0.00075\n",
    "                        EFi_PM2_5 = k * 0.00075\n",
    "                    if V <= 60:\n",
    "                        EFi_NH3 = 0.004\n",
    "                    elif 60 < V <= 90:\n",
    "                        EFi_NH3 = 0.008\n",
    "                    elif V > 90:\n",
    "                        EFi_NH3 = 0.022\n",
    "                elif 2012 <= car_birth <= 2013:\n",
    "                    EFi_CO = 8.9120*(10**-5)*(V**2) - 6.3275*(10**-3)*V + 2.0007*(10**-1)\n",
    "                    if V <= 65.4:\n",
    "                        EFi_HC = 0.0547 * (V**-1.0484)\n",
    "                    else:\n",
    "                        EFi_HC = 1.1405*(10**-6)*(V**2) - 1.6243*(10**-4)*V + 6.6528*(10**-3)\n",
    "                    EFi_NOx = -3.1615*(10**-6)*(V**2) + 2.9809*(10**-4)*V + 1.0117*(10**-2)\n",
    "                    if V < 85:\n",
    "                        EFi_PM10 = 0.00030\n",
    "                        EFi_PM2_5 = k * 0.00030\n",
    "                    else:\n",
    "                        EFi_PM10 = 0.00075\n",
    "                        EFi_PM2_5 = k * 0.00075\n",
    "                    if V <= 60:\n",
    "                        EFi_NH3 = 0.004\n",
    "                    elif 60 < V <= 90:\n",
    "                        EFi_NH3 = 0.008\n",
    "                    elif V > 90:\n",
    "                        EFi_NH3 = 0.022\n",
    "                elif car_birth == 2014:\n",
    "                    EFi_CO = 8.6240*(10**-5)*(V**2) - 6.1230*(10**-3)*V + 1.9361*(10**-1)\n",
    "                    if V <= 65.4:\n",
    "                        EFi_HC = 0.0524 * (V**-1.0484)\n",
    "                    else:\n",
    "                        EFi_HC = 1.0930*(10**-6)*(V**2) - 1.5566*(10**-4)*V + 6.3756*(10**-3)\n",
    "                    EFi_NOx = -3.0719*(10**-6)*(V**2) + 2.8964*(10**-4)*V + 9.8301*(10**-3)\n",
    "                    if V < 85:\n",
    "                        EFi_PM10 = 0.00030\n",
    "                        EFi_PM2_5 = k * 0.00030\n",
    "                    else:\n",
    "                        EFi_PM10 = 0.00075\n",
    "                        EFi_PM2_5 = k * 0.00075\n",
    "                    if V <= 60:\n",
    "                        EFi_NH3 = 0.004\n",
    "                    elif 60 < V <= 90:\n",
    "                        EFi_NH3 = 0.008\n",
    "                    elif V > 90:\n",
    "                        EFi_NH3 = 0.022\n",
    "                elif 2015 <= car_birth:\n",
    "                    EFi_CO = 8.3360*(10**-5)*(V**2) - 5.9186*(10**-3)*V + 1.8714*(10**-1)\n",
    "                    if V <= 65.4:\n",
    "                        EFi_HC = 0.0501 * (V**-1.0484)\n",
    "                    else:\n",
    "                        EFi_HC = 1.0500*(10**-6)*(V**2) - 1.4890*(10**-4)*V + 6.09840*(10**-3)\n",
    "                    EFi_NOx = -2.9823*(10**-6)*(V**2) + 2.8119*(10**-4)*V + 9.5434*(10**-3)\n",
    "                    if V < 85:\n",
    "                        EFi_PM10 = 0.00030\n",
    "                        EFi_PM2_5 = k * 0.00030\n",
    "                    else:\n",
    "                        EFi_PM10 = 0.00075\n",
    "                        EFi_PM2_5 = k * 0.00075\n",
    "                    if V <= 60:\n",
    "                        EFi_NH3 = 0.004\n",
    "                    elif 60 < V <= 90:\n",
    "                        EFi_NH3 = 0.008\n",
    "                    elif V > 90:\n",
    "                        EFi_NH3 = 0.022\n",
    "            elif ( (car_type == '승용') and (car_size == '중형') ) or ( (car_type == '특수') and (car_size == '중형') ): # 최 확인(2023.04.20) : 특수 중형 -> 승용 중형 조건으로 계산\n",
    "                if car_birth <= 1986:\n",
    "                    EFi_CO = 247.00 * (V**-0.6651)\n",
    "                    EFi_HC = 15.953 * (V**-0.5059)\n",
    "                    EFi_NOx = 3.1140 * (V**-0.2278)\n",
    "                    if V < 85:\n",
    "                        EFi_PM10 = 0.00030\n",
    "                        EFi_PM2_5 = k * 0.00030\n",
    "                    else:\n",
    "                        EFi_PM10 = 0.00075\n",
    "                        EFi_PM2_5 = k * 0.00075\n",
    "                    if V <= 65:\n",
    "                        EFi_NH3 = 0.1\n",
    "                    else:\n",
    "                        EFi_NH3 = 0.07\n",
    "                elif 1987 <= car_birth <= 1990:\n",
    "                    EFi_CO = 36.169 * (V**-0.7587)\n",
    "                    EFi_HC = 15.607 * (V**-1.0423)\n",
    "                    EFi_NOx = 6.2007 * (V**-0.6781)\n",
    "                    if V < 85:\n",
    "                        EFi_PM10 = 0.00030\n",
    "                        EFi_PM2_5 = k * 0.00030\n",
    "                    else:\n",
    "                        EFi_PM10 = 0.00075\n",
    "                        EFi_PM2_5 = k * 0.00075\n",
    "                    if V <= 65:\n",
    "                        EFi_NH3 = 0.1\n",
    "                    else:\n",
    "                        EFi_NH3 = 0.07\n",
    "                elif 1991 <= car_birth <= 1999:\n",
    "                    EFi_CO = 51.555 * (V**-0.9531)\n",
    "                    EFi_HC = 31.816 * (V**-1.4804)\n",
    "                    EFi_NOx = 7.5244 * (V**-0.7634)\n",
    "                    if V < 85:\n",
    "                        EFi_PM10 = 0.00030\n",
    "                        EFi_PM2_5 = k * 0.00030\n",
    "                    else:\n",
    "                        EFi_PM10 = 0.00075\n",
    "                        EFi_PM2_5 = k * 0.00075\n",
    "                    if V <= 65:\n",
    "                        EFi_NH3 = 0.1\n",
    "                    else:\n",
    "                        EFi_NH3 = 0.07\n",
    "                elif 2000 <= car_birth <= 2002:\n",
    "                    EFi_CO = 29.921 * (V**-0.8868)\n",
    "                    EFi_HC = 7.9374 * (V**-1.3041)\n",
    "                    EFi_NOx = 1.8525 * (V**-0.4192)\n",
    "                    if V < 85:\n",
    "                        EFi_PM10 = 0.00030\n",
    "                        EFi_PM2_5 = k * 0.00030\n",
    "                    else:\n",
    "                        EFi_PM10 = 0.00075\n",
    "                        EFi_PM2_5 = k * 0.00075\n",
    "                    if V <= 60:\n",
    "                        EFi_NH3 = 0.169\n",
    "                    elif 60 < V <= 90:\n",
    "                        EFi_NH3 = 0.149\n",
    "                    elif V > 90:\n",
    "                        EFi_NH3 = 0.084\n",
    "                elif 2003 <= car_birth <= 2005:\n",
    "                    EFi_CO = 2.4938 * (V**-0.6106)\n",
    "                    EFi_HC = 0.4262 * (V**-1.0122)\n",
    "                    EFi_NOx = 0.1818 * (V**-0.4316)\n",
    "                    if V < 85:\n",
    "                        EFi_PM10 = 0.00030\n",
    "                        EFi_PM2_5 = k * 0.00030\n",
    "                    else:\n",
    "                        EFi_PM10 = 0.00075\n",
    "                        EFi_PM2_5 = k * 0.00075\n",
    "                    if V <= 60:\n",
    "                        EFi_NH3 = 0.002\n",
    "                    elif 60 < V <= 90:\n",
    "                        EFi_NH3 = 0.03\n",
    "                    elif V > 90:\n",
    "                        EFi_NH3 = 0.065\n",
    "                elif 2006 <= car_birth <= 2008:\n",
    "                    EFi_CO = 2.2900*(10**-5)*(V**2) - 1.6300*(10**-3)*V + 5.8300*(10**-2)\n",
    "                    if V <= 65.4:\n",
    "                        EFi_HC = 0.0633 * (V**-1.0484)\n",
    "                    else:\n",
    "                        EFi_HC = 1.3200*(10**-6)*(V**2) - 1.8800*(10**-4)*V + 7.7000*(10**-3)\n",
    "                    EFi_NOx = -3.5000*(10**-6)*(V**2) + 3.3000*(10**-4)*V + 1.1200*(10**-2)\n",
    "                    if V < 85:\n",
    "                        EFi_PM10 = 0.00030\n",
    "                        EFi_PM2_5 = k * 0.00030\n",
    "                    else:\n",
    "                        EFi_PM10 = 0.00075\n",
    "                        EFi_PM2_5 = k * 0.00075\n",
    "                    if V <= 60:\n",
    "                        EFi_NH3 = 0.002\n",
    "                    elif 60 < V <= 90:\n",
    "                        EFi_NH3 = 0.03\n",
    "                    elif V > 90:\n",
    "                        EFi_NH3 = 0.065\n",
    "                elif 2009 <= car_birth <= 2011:\n",
    "                    EFi_CO = 2.1068*(10**-5)*(V**2) - 1.4996*(10**-3)*V + 5.3636*(10**-2)\n",
    "                    if V <= 65.4:\n",
    "                        EFi_HC = 0.0570 * (V**-1.0484)\n",
    "                    else:\n",
    "                        EFi_HC = 1.1880*(10**-6)*(V**2) - 1.6920*(10**-4)*V + 6.9300*(10**-3)\n",
    "                    EFi_NOx = -3.2511*(10**-6)*(V**2) + 3.0653*(10**-4)*V + 1.0404*(10**-2)\n",
    "                    if V < 85:\n",
    "                        EFi_PM10 = 0.00030\n",
    "                        EFi_PM2_5 = k * 0.00030\n",
    "                    else:\n",
    "                        EFi_PM10 = 0.00075\n",
    "                        EFi_PM2_5 = k * 0.00075\n",
    "                    if V <= 60:\n",
    "                        EFi_NH3 = 0.004\n",
    "                    elif 60 < V <= 90:\n",
    "                        EFi_NH3 = 0.008\n",
    "                    elif V > 90:\n",
    "                        EFi_NH3 = 0.022\n",
    "                elif 2012 <= car_birth <= 2013:\n",
    "                    EFi_CO = 2.0408*(10**-5)*(V**2) - 1.4527*(10**-3)*V + 5.1957*(10**-2)\n",
    "                    if V <= 65.4:\n",
    "                        EFi_HC = 0.0547 * (V**-1.0484)\n",
    "                    else:\n",
    "                        EFi_HC = 1.1405*(10**-6)*(V**2) - 1.6243*(10**-4)*V + 6.6528*(10**-3)\n",
    "                    EFi_NOx = -3.1615*(10**-6)*(V**2) + 2.9809*(10**-4)*V + 1.0117*(10**-2)\n",
    "                    if V < 85:\n",
    "                        EFi_PM10 = 0.00030\n",
    "                        EFi_PM2_5 = k * 0.00030\n",
    "                    else:\n",
    "                        EFi_PM10 = 0.00075\n",
    "                        EFi_PM2_5 = k * 0.00075\n",
    "                    if V <= 60:\n",
    "                        EFi_NH3 = 0.004\n",
    "                    elif 60 < V <= 90:\n",
    "                        EFi_NH3 = 0.008\n",
    "                    elif V > 90:\n",
    "                        EFi_NH3 = 0.022\n",
    "                elif car_birth == 2014:\n",
    "                    EFi_CO = 1.9749*(10**-5)*(V**2) - 1.4057*(10**-3)*V + 5.0278*(10**-2)\n",
    "                    if V <= 65.4:\n",
    "                        EFi_HC = 0.0524 * (V**-1.0484)\n",
    "                    else:\n",
    "                        EFi_HC = 1.0930*(10**-6)*(V**2) - 1.5566*(10**-4)*V + 6.3756*(10**-3)\n",
    "                    EFi_NOx = -3.0719*(10**-6)*(V**2) + 2.8964*(10**-4)*V + 9.8301*(10**-3)\n",
    "                    if V < 85:\n",
    "                        EFi_PM10 = 0.00030\n",
    "                        EFi_PM2_5 = k * 0.00030\n",
    "                    else:\n",
    "                        EFi_PM10 = 0.00075\n",
    "                        EFi_PM2_5 = k * 0.00075\n",
    "                    if V <= 60:\n",
    "                        EFi_NH3 = 0.004\n",
    "                    elif 60 < V <= 90:\n",
    "                        EFi_NH3 = 0.008\n",
    "                    elif V > 90:\n",
    "                        EFi_NH3 = 0.022\n",
    "                elif 2015 <= car_birth:\n",
    "                    EFi_CO = 1.9089*(10**-5)*(V**2) - 1.3588*(10**-3)*V + 4.8599*(10**-2)\n",
    "                    if V <= 65.4:\n",
    "                        EFi_HC = 0.0501 * (V**-1.0484)\n",
    "                    else:\n",
    "                        EFi_HC = 1.0500*(10**-6)*(V**2) - 1.4890*(10**-4)*V + 6.0984*(10**-3)\n",
    "                    EFi_NOx = -2.9823*(10**-6)*(V**2) + 2.8119*(10**-4)*V + 9.5434*(10**-3)\n",
    "                    if V < 85:\n",
    "                        EFi_PM10 = 0.00030\n",
    "                        EFi_PM2_5 = k * 0.00030\n",
    "                    else:\n",
    "                        EFi_PM10 = 0.00075\n",
    "                        EFi_PM2_5 = k * 0.00075\n",
    "                    if V <= 60:\n",
    "                        EFi_NH3 = 0.004\n",
    "                    elif 60 < V <= 90:\n",
    "                        EFi_NH3 = 0.008\n",
    "                    elif V > 90:\n",
    "                        EFi_NH3 = 0.022\n",
    "            elif (car_type == '승용') and (car_size == '대형'):\n",
    "                if car_birth <= 1986:\n",
    "                    EFi_CO = 247.00 * (V**-0.6651)\n",
    "                    EFi_HC = 15.953 * (V**-0.5059)\n",
    "                    EFi_NOx = 3.1140 * (V**-0.2278)\n",
    "                    if V < 85:\n",
    "                        EFi_PM10 = 0.00030\n",
    "                        EFi_PM2_5 = k * 0.00030\n",
    "                    else:\n",
    "                        EFi_PM10 = 0.00075\n",
    "                        EFi_PM2_5 = k * 0.00075\n",
    "                    if V <= 65:\n",
    "                        EFi_NH3 = 0.1\n",
    "                    else:\n",
    "                        EFi_NH3 = 0.07\n",
    "                elif 1987 <= car_birth <= 1990:\n",
    "                    EFi_CO = 36.169 * (V**-0.7587)\n",
    "                    EFi_HC = 15.607 * (V**-1.0423)\n",
    "                    EFi_NOx = 6.2007 * (V**-0.6781)\n",
    "                    if V < 85:\n",
    "                        EFi_PM10 = 0.00030\n",
    "                        EFi_PM2_5 = k * 0.00030\n",
    "                    else:\n",
    "                        EFi_PM10 = 0.00075\n",
    "                        EFi_PM2_5 = k * 0.00075\n",
    "                    if V <= 65:\n",
    "                        EFi_NH3 = 0.1\n",
    "                    else:\n",
    "                        EFi_NH3 = 0.07\n",
    "                elif 1991 <= car_birth <= 1999:\n",
    "                    EFi_CO = 51.555 * (V**-0.9531)\n",
    "                    EFi_HC = 31.816 * (V**-1.4804)\n",
    "                    EFi_NOx = 7.5244 * (V**-0.7634)\n",
    "                    if V < 85:\n",
    "                        EFi_PM10 = 0.00030\n",
    "                        EFi_PM2_5 = k * 0.00030\n",
    "                    else:\n",
    "                        EFi_PM10 = 0.00075\n",
    "                        EFi_PM2_5 = k * 0.00075\n",
    "                    if V <= 65:\n",
    "                        EFi_NH3 = 0.1\n",
    "                    else:\n",
    "                        EFi_NH3 = 0.07\n",
    "                elif 2000 <= car_birth <= 2002:\n",
    "                    EFi_CO = 29.921 * (V**-0.8868)\n",
    "                    EFi_HC = 7.9374 * (V**-1.3041)\n",
    "                    EFi_NOx = 1.8525 * (V**-0.4192)\n",
    "                    if V < 85:\n",
    "                        EFi_PM10 = 0.00030\n",
    "                        EFi_PM2_5 = k * 0.00030\n",
    "                    else:\n",
    "                        EFi_PM10 = 0.00075\n",
    "                        EFi_PM2_5 = k * 0.00075\n",
    "                    if V <= 60:\n",
    "                        EFi_NH3 = 0.169\n",
    "                    elif 60 < V <= 90:\n",
    "                        EFi_NH3 = 0.149\n",
    "                    elif V > 90:\n",
    "                        EFi_NH3 = 0.084\n",
    "                elif 2003 <= car_birth <= 2005:\n",
    "                    EFi_CO = 2.4938 * (V**-0.6106)\n",
    "                    EFi_HC = 0.4262 * (V**-1.0122)\n",
    "                    EFi_NOx = 0.1818 * (V**-0.4316)\n",
    "                    if V < 85:\n",
    "                        EFi_PM10 = 0.00030\n",
    "                        EFi_PM2_5 = k * 0.00030\n",
    "                    else:\n",
    "                        EFi_PM10 = 0.00075\n",
    "                        EFi_PM2_5 = k * 0.00075\n",
    "                    if V <= 60:\n",
    "                        EFi_NH3 = 0.002\n",
    "                    elif 60 < V <= 90:\n",
    "                        EFi_NH3 = 0.03\n",
    "                    elif V > 90:\n",
    "                        EFi_NH3 = 0.065\n",
    "                elif 2006 <= car_birth <= 2008:\n",
    "                    if V <= 65.4:\n",
    "                        EFi_CO = 1.4082 * (V**-0.7728)\n",
    "                    else:\n",
    "                        EFi_CO = 8.0000*(10**-5)*(V**2) - 1.2700*(10**-2)*V + 5.7510*(10**-1)\n",
    "                    if V <= 65.4:\n",
    "                        EFi_HC = 0.0633 * (V**-1.0484)\n",
    "                    else:\n",
    "                        EFi_HC = 1.3200*(10**-6)*(V**2) - 1.8800*(10**-4)*V + 7.7000*(10**-3)\n",
    "                    EFi_NOx = -3.5000*(10**-6)*(V**2) + 3.3000*(10**-4)*V + 1.1200*(10**-2)\n",
    "                    if V < 85:\n",
    "                        EFi_PM10 = 0.00030\n",
    "                        EFi_PM2_5 = k * 0.00030\n",
    "                    else:\n",
    "                        EFi_PM10 = 0.00075\n",
    "                        EFi_PM2_5 = k * 0.00075\n",
    "                    if V <= 60:\n",
    "                        EFi_NH3 = 0.002\n",
    "                    elif 60 < V <= 90:\n",
    "                        EFi_NH3 = 0.03\n",
    "                    elif V > 90:\n",
    "                        EFi_NH3 = 0.065\n",
    "                elif 2009 <= car_birth <= 2011:\n",
    "                    if V <= 65.4:\n",
    "                        EFi_CO = 1.2955 * (V**-0.7728)\n",
    "                    else:\n",
    "                        EFi_CO = 7.3600*(10**-5)*(V**2) - 1.1684*(10**-2)*V + 5.2909*(10**-1)\n",
    "                    if V <= 65.4:\n",
    "                        EFi_HC = 0.0570 * (V**-1.0484)\n",
    "                    else:\n",
    "                        EFi_HC = 1.1880*(10**-6)*(V**2) - 1.6920*(10**-4)*V + 6.9300*(10**-3)\n",
    "                    EFi_NOx = -3.2511*(10**-6)*(V**2) + 3.0653*(10**-4)*V + 1.0404*(10**-2)\n",
    "                    if V < 85:\n",
    "                        EFi_PM10 = 0.00030\n",
    "                        EFi_PM2_5 = k * 0.00030\n",
    "                    else:\n",
    "                        EFi_PM10 = 0.00075\n",
    "                        EFi_PM2_5 = k * 0.00075\n",
    "                    if V <= 60:\n",
    "                        EFi_NH3 = 0.004\n",
    "                    elif 60 < V <= 90:\n",
    "                        EFi_NH3 = 0.008\n",
    "                    elif V > 90:\n",
    "                        EFi_NH3 = 0.022\n",
    "                elif 2012 <= car_birth <= 2013:\n",
    "                    if V <= 65.4:\n",
    "                        EFi_CO = 1.2550 * (V**-0.7728)\n",
    "                    else:\n",
    "                        EFi_CO = 7.1296*(10**-5)*(V**2) - 1.1318*(10**-2)*V + 5.1253*(10**-1)\n",
    "                    if V <= 65.4:\n",
    "                        EFi_HC = 0.0547 * (V**-1.0484)\n",
    "                    else:\n",
    "                        EFi_HC = 1.1405*(10**-6)*(V**2) - 1.6243*(10**-4)*V + 6.6528*(10**-3)\n",
    "                    EFi_NOx = -3.1615*(10**-6)*(V**2) + 2.9809*(10**-4)*V + 1.0117*(10**-2)\n",
    "                    if V < 85:\n",
    "                        EFi_PM10 = 0.00030\n",
    "                        EFi_PM2_5 = k * 0.00030\n",
    "                    else:\n",
    "                        EFi_PM10 = 0.00075\n",
    "                        EFi_PM2_5 = k * 0.00075\n",
    "                    if V <= 60:\n",
    "                        EFi_NH3 = 0.004\n",
    "                    elif 60 < V <= 90:\n",
    "                        EFi_NH3 = 0.008\n",
    "                    elif V > 90:\n",
    "                        EFi_NH3 = 0.022\n",
    "                elif car_birth == 2014:\n",
    "                    if V <= 65.4:\n",
    "                        EFi_CO = 1.2144 * (V**-0.7728)\n",
    "                    else:\n",
    "                        EFi_CO = 6.8992*(10**-5)*(V**2) - 1.0952*(10**-2)*V + 4.9597*(10**-1)\n",
    "                    if V <= 65.4:\n",
    "                        EFi_HC = 0.0524 * (V**-1.0484)\n",
    "                    else:\n",
    "                        EFi_HC = 1.0930*(10**-6)*(V**2) - 1.5566*(10**-4)*V + 6.3756*(10**-3)\n",
    "                    EFi_NOx = -3.0719*(10**-6)*(V**2) + 2.8964*(10**-4)*V + 9.8301*(10**-3)\n",
    "                    if V < 85:\n",
    "                        EFi_PM10 = 0.00030\n",
    "                        EFi_PM2_5 = k * 0.00030\n",
    "                    else:\n",
    "                        EFi_PM10 = 0.00075\n",
    "                        EFi_PM2_5 = k * 0.00075\n",
    "                    if V <= 60:\n",
    "                        EFi_NH3 = 0.004\n",
    "                    elif 60 < V <= 90:\n",
    "                        EFi_NH3 = 0.008\n",
    "                    elif V > 90:\n",
    "                        EFi_NH3 = 0.022\n",
    "                elif 2015 <= car_birth:\n",
    "                    if V <= 65.4:\n",
    "                        EFi_CO = 1.1739 * (V**-0.7728)\n",
    "                    else:\n",
    "                        EFi_CO = 6.6688*(10**-5)*(V**2) - 1.0587*(10**-2)*V + 4.7940*(10**-1)\n",
    "                    if V <= 65.4:\n",
    "                        EFi_HC = 0.0501 * (V**-1.0484)\n",
    "                    else:\n",
    "                        EFi_HC = 1.0500*(10**-6)*(V**2) - 1.4890*(10**-4)*V + 6.0984*(10**-3)\n",
    "                    EFi_NOx = -2.9823*(10**-6)*(V**2) + 2.8119*(10**-4)*V + 9.5434*(10**-3)\n",
    "                    if V < 85:\n",
    "                        EFi_PM10 = 0.00030\n",
    "                        EFi_PM2_5 = k * 0.00030\n",
    "                    else:\n",
    "                        EFi_PM10 = 0.00075\n",
    "                        EFi_PM2_5 = k * 0.00075\n",
    "                    if V <= 60:\n",
    "                        EFi_NH3 = 0.004\n",
    "                    elif 60 < V <= 90:\n",
    "                        EFi_NH3 = 0.008\n",
    "                    elif V > 90:\n",
    "                        EFi_NH3 = 0.022\n",
    "            elif ( (car_type == '승합') and (car_size == '경형') ) or ( (car_type == '화물') and (car_size == '경형') ):\n",
    "                if car_birth <= 1996:\n",
    "                    if V <= 45:\n",
    "                        EFi_CO = 11.249 * (V**-0.6579)\n",
    "                    else:\n",
    "                        EFi_CO = 0.0003 * (V**2) + 0.0002 * V + 0.4136\n",
    "                    EFi_HC = 7.6244 * (V**-0.8364)\n",
    "                    EFi_NOx = 2.6754 * (V**-0.3236)\n",
    "                    if V < 85:\n",
    "                        EFi_PM10 = 0.00030\n",
    "                        EFi_PM2_5 = k * 0.00030\n",
    "                    else:\n",
    "                        EFi_PM10 = 0.00075\n",
    "                        EFi_PM2_5 = k * 0.00075\n",
    "                    if V <= 65:\n",
    "                        EFi_NH3 = 0.1\n",
    "                    else:\n",
    "                        EFi_NH3 = 0.07\n",
    "                elif 1997 <= car_birth <= 1999:\n",
    "                    if V <= 45:\n",
    "                        EFi_CO = 16.965 * (V**-0.8461)\n",
    "                    else:\n",
    "                        EFi_CO = -0.0003 * (V**2) + 0.0777 * V - 1.9363\n",
    "                    EFi_HC = 3.0285 * (V**-0.7830)\n",
    "                    EFi_NOx = 1.9923 * (V**-0.3889)\n",
    "                    if V < 85:\n",
    "                        EFi_PM10 = 0.00030\n",
    "                        EFi_PM2_5 = k * 0.00030\n",
    "                    else:\n",
    "                        EFi_PM10 = 0.00075\n",
    "                        EFi_PM2_5 = k * 0.00075\n",
    "                    if V <= 65:\n",
    "                        EFi_NH3 = 0.1\n",
    "                    else:\n",
    "                        EFi_NH3 = 0.07\n",
    "                elif 2000 <= car_birth <= 2002:\n",
    "                    if V <= 45:\n",
    "                        EFi_CO = 9.9433 * (V**-0.8461)\n",
    "                    else:\n",
    "                        EFi_CO = -0.0002 * (V**2) + 0.0455 * V - 1.1349\n",
    "                    EFi_HC = 1.8928 * (V**-0.7830)\n",
    "                    EFi_NOx = 1.2352 * (V**-0.3889)\n",
    "                    if V < 85:\n",
    "                        EFi_PM10 = 0.00030\n",
    "                        EFi_PM2_5 = k * 0.00030\n",
    "                    else:\n",
    "                        EFi_PM10 = 0.00075\n",
    "                        EFi_PM2_5 = k * 0.00075\n",
    "                    if V <= 60:\n",
    "                        EFi_NH3 = 0.169\n",
    "                    elif 60 < V <= 90:\n",
    "                        EFi_NH3 = 0.149\n",
    "                    elif V >= 90:\n",
    "                        EFi_NH3 = 0.084\n",
    "                elif 2003 <= car_birth <= 2005:\n",
    "                    if V <= 45:\n",
    "                        EFi_CO = 9.9433 * (V**-0.8461)\n",
    "                    else:\n",
    "                        EFi_CO = -0.0002 * (V**2) + 0.0455 * V - 1.1349\n",
    "                    EFi_HC = 0.9227 * (V**-0.7830)\n",
    "                    EFi_NOx = 3.8859 * (V**-0.9198)\n",
    "                    if V < 85:\n",
    "                        EFi_PM10 = 0.00030\n",
    "                        EFi_PM2_5 = k * 0.00030\n",
    "                    else:\n",
    "                        EFi_PM10 = 0.00075\n",
    "                        EFi_PM2_5 = k * 0.00075\n",
    "                    if V <= 60:\n",
    "                        EFi_NH3 = 0.002\n",
    "                    elif 60 < V <= 90:\n",
    "                        EFi_NH3 = 0.03\n",
    "                    elif V >= 90:\n",
    "                        EFi_NH3 = 0.065\n",
    "                elif 2006 <= car_birth <= 2008:\n",
    "                    if V <= 45:\n",
    "                        EFi_CO = 4.4952 * (V**-0.8461)\n",
    "                    else:\n",
    "                        EFi_CO = -0.0001 * (V**2) + 0.0229 * V - 0.5701\n",
    "                    EFi_HC = 0.2958 * (V**-0.7830)\n",
    "                    EFi_NOx = 0.4819 * (V**-0.9198)\n",
    "                    if V < 85:\n",
    "                        EFi_PM10 = 0.00030\n",
    "                        EFi_PM2_5 = k * 0.00030\n",
    "                    else:\n",
    "                        EFi_PM10 = 0.00075\n",
    "                        EFi_PM2_5 = k * 0.00075\n",
    "                    if V <= 60:\n",
    "                        EFi_NH3 = 0.002\n",
    "                    elif 60 < V <= 90:\n",
    "                        EFi_NH3 = 0.03\n",
    "                    elif V >= 90:\n",
    "                        EFi_NH3 = 0.065\n",
    "                elif 2009 <= car_birth:\n",
    "                    if V <= 45:\n",
    "                        EFi_CO = 4.4952 * (V**-0.8461)\n",
    "                    else:\n",
    "                        EFi_CO = -0.0001 * (V**2) + 0.0229 * V - 0.5701\n",
    "                    EFi_HC = 0.2958 * (V**-0.7830)\n",
    "                    EFi_NOx = 0.4819 * (V**-0.9198)\n",
    "                    if V < 85:\n",
    "                        EFi_PM10 = 0.00030\n",
    "                        EFi_PM2_5 = k * 0.00030\n",
    "                    else:\n",
    "                        EFi_PM10 = 0.00075\n",
    "                        EFi_PM2_5 = k * 0.00075\n",
    "                    if V <= 60:\n",
    "                        EFi_NH3 = 0.004\n",
    "                    elif 60 < V <= 90:\n",
    "                        EFi_NH3 = 0.008\n",
    "                    elif V >= 90:\n",
    "                        EFi_NH3 = 0.022\n",
    "            elif (car_type == '승합') and (car_size == '소형'):\n",
    "                if car_birth <= 1990:\n",
    "                    EFi_CO = 36.169 * (V**-0.7587)\n",
    "                    EFi_HC = 15.607 * (V**-1.0423)\n",
    "                    EFi_NOx = 6.2007 * (V**-0.6781)\n",
    "                    if V < 85:\n",
    "                        EFi_PM10 = 0.00030\n",
    "                        EFi_PM2_5 = k * 0.00030\n",
    "                    else:\n",
    "                        EFi_PM10 = 0.00075\n",
    "                        EFi_PM2_5 = k * 0.00075\n",
    "                    EFi_NH3 = 0.002\n",
    "                elif 1991 <= car_birth <= 1996:\n",
    "                    EFi_CO = 39.402 * (V**-0.8879)\n",
    "                    EFi_HC = 23.400 * (V**-1.4041)\n",
    "                    EFi_NOx = 7.5244 * (V**-0.7634)\n",
    "                    if V < 85:\n",
    "                        EFi_PM10 = 0.00030\n",
    "                        EFi_PM2_5 = k * 0.00030\n",
    "                    else:\n",
    "                        EFi_PM10 = 0.00075\n",
    "                        EFi_PM2_5 = k * 0.00075\n",
    "                    EFi_NH3 = 0.002\n",
    "                elif 1997 <= car_birth <= 1999:\n",
    "                    EFi_CO = 77.088 * (V**-1.2078)\n",
    "                    EFi_HC = 18.731 * (V**-1.5356)\n",
    "                    EFi_NOx = 4.4260 * (V**-0.7978)\n",
    "                    if V < 85:\n",
    "                        EFi_PM10 = 0.00030\n",
    "                        EFi_PM2_5 = k * 0.00030\n",
    "                    else:\n",
    "                        EFi_PM10 = 0.00075\n",
    "                        EFi_PM2_5 = k * 0.00075\n",
    "                    EFi_NH3 = 0.002\n",
    "                elif car_birth == 2000:\n",
    "                    EFi_CO = 41.669 * (V**-1.2078)\n",
    "                    EFi_HC = 14.190 * (V**-1.5356)\n",
    "                    EFi_NOx = 3.4578 * (V**-0.7978)\n",
    "                    if V < 85:\n",
    "                        EFi_PM10 = 0.00030\n",
    "                        EFi_PM2_5 = k * 0.00030\n",
    "                    else:\n",
    "                        EFi_PM10 = 0.00075\n",
    "                        EFi_PM2_5 = k * 0.00075\n",
    "                    if V <= 60:\n",
    "                        EFi_NH3 = 0.169\n",
    "                    elif 60 < V <= 90:\n",
    "                        EFi_NH3 = 0.149\n",
    "                    elif V >= 90:\n",
    "                        EFi_NH3 = 0.084\n",
    "                elif 2001 <= car_birth <= 2002:\n",
    "                    EFi_CO = 41.669 * (V**-1.2078)\n",
    "                    EFi_HC = 11.920 * (V**-1.5356)\n",
    "                    EFi_NOx = 3.0649 * (V**-0.7978)\n",
    "                    if V < 85:\n",
    "                        EFi_PM10 = 0.00030\n",
    "                        EFi_PM2_5 = k * 0.00030\n",
    "                    else:\n",
    "                        EFi_PM10 = 0.00075\n",
    "                        EFi_PM2_5 = k * 0.00075\n",
    "                    if V <= 60:\n",
    "                        EFi_NH3 = 0.169\n",
    "                    elif 60 < V <= 90:\n",
    "                        EFi_NH3 = 0.149\n",
    "                    elif V >= 90:\n",
    "                        EFi_NH3 = 0.084\n",
    "                elif 2003 <= car_birth <= 2005:\n",
    "                    EFi_CO = 37.573 * (V**-1.2078)\n",
    "                    EFi_HC = 3.1786 * (V**-1.5356)\n",
    "                    EFi_NOx = 1.4931 * (V**-0.7978)\n",
    "                    if V < 85:\n",
    "                        EFi_PM10 = 0.00030\n",
    "                        EFi_PM2_5 = k * 0.00030\n",
    "                    else:\n",
    "                        EFi_PM10 = 0.00075\n",
    "                        EFi_PM2_5 = k * 0.00075\n",
    "                    if V <= 60:\n",
    "                        EFi_NH3 = 0.002\n",
    "                    elif 60 < V <= 90:\n",
    "                        EFi_NH3 = 0.03\n",
    "                    elif V >= 90:\n",
    "                        EFi_NH3 = 0.065\n",
    "                elif 2006 <= car_birth <= 2008:\n",
    "                    EFi_CO = 32.899 * (V**-1.2078)\n",
    "                    EFi_HC = 2.7387 * (V**-1.5356)\n",
    "                    EFi_NOx = 1.1808 * (V**-0.7978)\n",
    "                    if V < 85:\n",
    "                        EFi_PM10 = 0.00030\n",
    "                        EFi_PM2_5 = k * 0.00030\n",
    "                    else:\n",
    "                        EFi_PM10 = 0.00075\n",
    "                        EFi_PM2_5 = k * 0.00075\n",
    "                    if V <= 60:\n",
    "                        EFi_NH3 = 0.002\n",
    "                    elif 60 < V <= 90:\n",
    "                        EFi_NH3 = 0.03\n",
    "                    elif V >= 90:\n",
    "                        EFi_NH3 = 0.065\n",
    "                elif 2009 <= car_birth:\n",
    "                    EFi_CO = 32.899 * (V**-1.2078)\n",
    "                    EFi_HC = 2.7387 * (V**-1.5356)\n",
    "                    EFi_NOx = 1.1808 * (V**-0.7978)\n",
    "                    if V < 85:\n",
    "                        EFi_PM10 = 0.00030\n",
    "                        EFi_PM2_5 = k * 0.00030\n",
    "                    else:\n",
    "                        EFi_PM10 = 0.00075\n",
    "                        EFi_PM2_5 = k * 0.00075\n",
    "                    if V <= 60:\n",
    "                        EFi_NH3 = 0.004\n",
    "                    elif 60 < V <= 90:\n",
    "                        EFi_NH3 = 0.08\n",
    "                    elif V >= 90:\n",
    "                        EFi_NH3 = 0.022\n",
    "            elif ( (car_type == '승합') and (car_size == '중형') or (car_size == '대형') ) or ( (car_type == '화물') and (car_size == '소형') ):\n",
    "                if car_birth <= 1990:\n",
    "                    EFi_CO = 36.169 * (V**-0.7587)\n",
    "                    EFi_HC = 15.607 * (V**-1.0423)\n",
    "                    EFi_NOx = 6.2007 * (V**-0.6781)\n",
    "                    if V < 85:\n",
    "                        EFi_PM10 = 0.00030\n",
    "                        EFi_PM2_5 = k * 0.00030\n",
    "                    else:\n",
    "                        EFi_PM10 = 0.00075\n",
    "                        EFi_PM2_5 = k * 0.00075\n",
    "                    EFi_NH3 = 0.002\n",
    "                elif 1991 <= car_birth <= 1996:\n",
    "                    EFi_CO = 39.402 * (V**-0.8879)\n",
    "                    EFi_HC = 23.400 * (V**-1.4041)\n",
    "                    EFi_NOx = 7.5244 * (V**-0.7634)\n",
    "                    if V < 85:\n",
    "                        EFi_PM10 = 0.00030\n",
    "                        EFi_PM2_5 = k * 0.00030\n",
    "                    else:\n",
    "                        EFi_PM10 = 0.00075\n",
    "                        EFi_PM2_5 = k * 0.00075\n",
    "                    EFi_NH3 = 0.002\n",
    "                elif 1997 <= car_birth <= 1999:\n",
    "                    EFi_CO = 77.088 * (V**-1.2078)\n",
    "                    EFi_HC = 18.731 * (V**-1.5356)\n",
    "                    EFi_NOx = 4.4260 * (V**-0.7978)\n",
    "                    if V < 85:\n",
    "                        EFi_PM10 = 0.00030\n",
    "                        EFi_PM2_5 = k * 0.00030\n",
    "                    else:\n",
    "                        EFi_PM10 = 0.00075\n",
    "                        EFi_PM2_5 = k * 0.00075\n",
    "                    EFi_NH3 = 0.002\n",
    "                elif 2000 <= car_birth <= 2002:\n",
    "                    EFi_CO = 41.669 * (V**-1.2078)\n",
    "                    EFi_HC = 14.190 * (V**-1.5356)\n",
    "                    EFi_NOx = 3.4578 * (V**-0.7978)\n",
    "                    if V < 85:\n",
    "                        EFi_PM10 = 0.00030\n",
    "                        EFi_PM2_5 = k * 0.00030\n",
    "                    else:\n",
    "                        EFi_PM10 = 0.00075\n",
    "                        EFi_PM2_5 = k * 0.00075\n",
    "                    if V <= 60:\n",
    "                        EFi_NH3 = 0.169\n",
    "                    elif 60 < V <= 90:\n",
    "                        EFi_NH3 = 0.149\n",
    "                    elif V >= 90:\n",
    "                        EFi_NH3 = 0.084\n",
    "                elif 2003 <= car_birth <= 2005:\n",
    "                    EFi_CO = 36.578 * (V**-1.2078)\n",
    "                    EFi_HC = 3.0337 * (V**-1.5356)\n",
    "                    EFi_NOx = 2.0104 * (V**-0.7978)\n",
    "                    if V < 85:\n",
    "                        EFi_PM10 = 0.00030\n",
    "                        EFi_PM2_5 = k * 0.00030\n",
    "                    else:\n",
    "                        EFi_PM10 = 0.00075\n",
    "                        EFi_PM2_5 = k * 0.00075\n",
    "                    if V <= 60:\n",
    "                        EFi_NH3 = 0.002\n",
    "                    elif 60 < V <= 90:\n",
    "                        EFi_NH3 = 0.03\n",
    "                    elif V >= 90:\n",
    "                        EFi_NH3 = 0.065\n",
    "                elif 2006 <= car_birth <= 2008:\n",
    "                    EFi_CO = 14.202 * (V**-1.2078)\n",
    "                    EFi_HC = 1.2233 * (V**-1.5356)\n",
    "                    EFi_NOx = 0.2493 * (V**-0.7978)\n",
    "                    if V < 85:\n",
    "                        EFi_PM10 = 0.00030\n",
    "                        EFi_PM2_5 = k * 0.00030\n",
    "                    else:\n",
    "                        EFi_PM10 = 0.00075\n",
    "                        EFi_PM2_5 = k * 0.00075\n",
    "                    if V <= 60:\n",
    "                        EFi_NH3 = 0.002\n",
    "                    elif 60 < V <= 90:\n",
    "                        EFi_NH3 = 0.03\n",
    "                    elif V >= 90:\n",
    "                        EFi_NH3 = 0.065\n",
    "                elif 2009 <= car_birth:\n",
    "                    EFi_CO = 14.202 * (V**-1.2078)\n",
    "                    EFi_HC = 1.2233 * (V**-1.5356)\n",
    "                    EFi_NOx = 0.2493 * (V**-0.7978)\n",
    "                    if V < 85:\n",
    "                        EFi_PM10 = 0.00030\n",
    "                        EFi_PM2_5 = k * 0.00030\n",
    "                    else:\n",
    "                        EFi_PM10 = 0.00075\n",
    "                        EFi_PM2_5 = k * 0.00075\n",
    "                    if V <= 60:\n",
    "                        EFi_NH3 = 0.004\n",
    "                    elif 60 < V <= 90:\n",
    "                        EFi_NH3 = 0.008\n",
    "                    elif V >= 90:\n",
    "                        EFi_NH3 = 0.022\n",
    "            elif (car_type == '화물') and (car_size == '중형'):\n",
    "                if 1993 <= car_birth <= 1998:\n",
    "                    if V <= 65:\n",
    "                        EFi_CO = 70\n",
    "                        EFi_HC = 7\n",
    "                        EFi_NOx = 4.5\n",
    "                    else:\n",
    "                        EFi_CO = 55\n",
    "                        EFi_HC = 3.5\n",
    "                        EFi_NOx = 7.5\n",
    "                    if V < 85:\n",
    "                        EFi_PM10 = 0.00030\n",
    "                        EFi_PM2_5 = k * 0.00030\n",
    "                    else:\n",
    "                        EFi_PM10 = 0.00075\n",
    "                        EFi_PM2_5 = k * 0.00075\n",
    "                    EFi_NH3 = 0.002\n",
    "                elif car_birth == 1999:\n",
    "                    if V <= 65:\n",
    "                        EFi_CO = 70\n",
    "                        EFi_HC = 7\n",
    "                        EFi_NOx = 4.5\n",
    "                    else:\n",
    "                        EFi_CO = 55\n",
    "                        EFi_HC = 3.5\n",
    "                        EFi_NOx = 7.5\n",
    "                    if V < 85:\n",
    "                        EFi_PM10 = 0.00030\n",
    "                        EFi_PM2_5 = k * 0.00030\n",
    "                    else:\n",
    "                        EFi_PM10 = 0.00075\n",
    "                        EFi_PM2_5 = k * 0.00075\n",
    "                    EFi_NH3 = 0.002\n",
    "                elif 2000 <= car_birth <= 2002:\n",
    "                    if V <= 60:\n",
    "                        EFi_NH3 = 0.169\n",
    "                    elif 60 < V <= 90:\n",
    "                        EFi_NH3 = 0.149\n",
    "                    elif V > 90:\n",
    "                        EFi_NH3 = 0.084\n",
    "                elif 2003 <= car_birth <= 2008:\n",
    "                    if V <= 60:\n",
    "                        EFi_NH3 = 0.002\n",
    "                    elif 60 < V <= 90:\n",
    "                        EFi_NH3 = 0.03\n",
    "                    elif V > 90:\n",
    "                        EFi_NH3 = 0.065\n",
    "                elif 2009 <= car_birth:\n",
    "                    if V <= 60:\n",
    "                        EFi_NH3 = 0.004\n",
    "                    elif 60 < V <= 90:\n",
    "                        EFi_NH3 = 0.008\n",
    "                    elif V > 90:\n",
    "                        EFi_NH3 = 0.022\n",
    "            elif (car_type == '화물') and (car_size == '대형'):\n",
    "                if 1993 <= car_birth:\n",
    "                    if V <= 65:\n",
    "                        EFi_CO = 70\n",
    "                        EFi_HC = 7\n",
    "                        EFi_NOx = 4.5\n",
    "                    else:\n",
    "                        EFi_CO = 55\n",
    "                        EFi_HC = 3.5\n",
    "                        EFi_NOx = 7.5\n",
    "                    if V < 85:\n",
    "                        EFi_PM10 = 0.00030\n",
    "                        EFi_PM2_5 = k * 0.00030\n",
    "                    else:\n",
    "                        EFi_PM10 = 0.00075\n",
    "                        EFi_PM2_5 = k * 0.00075\n",
    "                else:\n",
    "                    EFi_CO = 1\n",
    "                    EFi_HC = 1\n",
    "                    EFi_NOx = 1\n",
    "                    EFi_PM10 = 1\n",
    "                    EFi_PM2_5 = 1\n",
    "                EFi_NH3 = 0.002\n",
    "        elif fuel == '경유':\n",
    "            if (car_type == '승용') and (car_size == '경형'):\n",
    "                if car_birth <= 2005:\n",
    "                    EFi_CO = 0.7392 * (V**-0.7524)\n",
    "                    EFi_HC = 0.0989 * (V**-0.6848)\n",
    "                    EFi_NOx = 24.3491 * (V**-0.7277)\n",
    "                    EFi_PM10 = 0.0839 * (V**-0.3420)\n",
    "                    EFi_PM2_5 = k * 0.0839 * (V**-0.3420)\n",
    "                    EFi_NH3 = 0.001\n",
    "                elif 2006 <= car_birth <= 2010:\n",
    "                    EFi_CO = 0.5775 * (V**-0.7524)\n",
    "                    EFi_HC = 0.0825 * (V**-0.6848)\n",
    "                    EFi_NOx = 24.3491 * (V**-0.7277)\n",
    "                    EFi_PM10 = 0.0420 * (V**-0.3420)\n",
    "                    EFi_PM2_5 = k * 0.0420 * (V**-0.3420)\n",
    "                    EFi_NH3 = 0.001\n",
    "                elif 2011 <= car_birth <= 2015:\n",
    "                    EFi_CO = 0.5141 * (V**-0.6792)\n",
    "                    EFi_HC = 0.3713 * (V**-0.7513)\n",
    "                    EFi_NOx = 0.0003 * (V**2) - 0.0324 * V + 1.4773\n",
    "                    if V <= 65.4:\n",
    "                        EFi_PM10 = 0.0225 * (V**-0.7264)\n",
    "                        EFi_PM2_5 = k * 0.0225 * (V**-0.7264)\n",
    "                    else:\n",
    "                        EFi_PM10 = 0.0009 * (V**-0.0416)\n",
    "                        EFi_PM2_5 = k * 0.0009 * (V**0.0416) # EFi_PM2_5 = k * 0.0009 * (V**0.0416)\n",
    "                    EFi_NH3 = 0.0019\n",
    "                elif 2016 <= car_birth:\n",
    "                    EFi_CO = 0.4574 * (V**-0.5215)\n",
    "                    EFi_HC = 0.1300 * (V**-0.7265)\n",
    "                    EFi_NOx = 2.7702 * (V**-0.3869)\n",
    "                    if V <= 65.4:\n",
    "                        EFi_PM10 = 0.0225 * (V**-0.7264)\n",
    "                        EFi_PM2_5 = k * 0.0225 * (V**-0.7264)\n",
    "                    else:\n",
    "                        EFi_PM10 = 0.0009 * (V**-0.0416)\n",
    "                        EFi_PM2_5 = k * 0.0009 * (V**0.0416) # EFi_PM2_5 = k * 0.0009 * (V**0.0416) \n",
    "                    EFi_NH3 = 0.0019\n",
    "            elif (car_type == '승용') and (car_size == '소형'):\n",
    "                if car_birth <= 2004:\n",
    "                    EFi_CO = 5.9672 * (V**-0.9534)\n",
    "                    EFi_HC = 0.6523 * (V**-1.0167)\n",
    "                    EFi_NOx = 24.3491 * (V**-0.7277)\n",
    "                    if V <= 65:\n",
    "                        EFi_PM10 = 0.3861 * (V**-0.5093)\n",
    "                        EFi_PM2_5 = k * 0.3861 * (V**-0.5093)\n",
    "                    else:\n",
    "                        EFi_PM10 = -0.00001 * (V**2) + 0.0026 * V - 0.0618\n",
    "                        EFi_PM2_5 = k * -0.00001 * (V**2) + 0.0026 * V - 0.0618\n",
    "                    EFi_NH3 = 0.001\n",
    "                elif car_birth == 2005:\n",
    "                    EFi_CO = 0.7392 * (V**-0.7524)\n",
    "                    EFi_HC = 0.0989 * (V**-0.6848)\n",
    "                    EFi_NOx = 24.3491 * (V**-0.7277)\n",
    "                    EFi_PM10 = 0.0839 * (V**-0.3420)\n",
    "                    EFi_PM2_5 = k * 0.0839 * (V**-0.3420)\n",
    "                    EFi_NH3 = 0.001\n",
    "                elif 2006 <= car_birth <= 2010:\n",
    "                    EFi_CO = 0.5775 * (V**-0.7524)\n",
    "                    EFi_HC = 0.0825 * (V**-0.6848)\n",
    "                    EFi_NOx = 24.3491 * (V**-0.7277)\n",
    "                    EFi_PM10 = 0.0420 * (V**-0.3420)\n",
    "                    EFi_PM2_5 = k * 0.0420 * (V**-0.3420)\n",
    "                    EFi_NH3 = 0.001\n",
    "                elif 2011 <= car_birth <= 2015:\n",
    "                    EFi_CO = 0.5141 * (V**-0.6792)\n",
    "                    EFi_HC = 0.3713 * (V**-0.7513)\n",
    "                    EFi_NOx = 0.0003 * (V**2) - 0.0324 * V + 1.4773\n",
    "                    if V <= 65.4:\n",
    "                        EFi_PM10 = 0.0225 * (V**-0.7264)\n",
    "                        EFi_PM2_5 = k * 0.0225 * (V**-0.7264)\n",
    "                    else:\n",
    "                        EFi_PM10 = 0.0009 * (V**0.0416)        #     EFi_PM10 = 0.0009 * (V**0.0416) \n",
    "                        EFi_PM2_5 = k * 0.0009 * (V**0.0416)   #  EFi_PM2_5 = k * 0.0009 * (V**0.0416)\n",
    "                    EFi_NH3 = 0.0019\n",
    "                elif 2016 <= car_birth:\n",
    "                    EFi_CO = 0.4574 * (V**-0.5215)\n",
    "                    EFi_HC = 0.1300 * (V**-0.7265)\n",
    "                    EFi_NOx = 2.7702 * (V**-0.3869)\n",
    "                    if V <= 65.4:\n",
    "                        EFi_PM10 = 0.0225 * (V**-0.7264)\n",
    "                        EFi_PM2_5 = k * 0.0225 * (V**-0.7264)\n",
    "                    else:\n",
    "                        EFi_PM10 = 0.0009 * (V**0.0416)           #     EFi_PM10 = 0.0009 * (V**0.0416)\n",
    "                        EFi_PM2_5 = k * 0.0009 * (V**0.0416)      #     EFi_PM2_5 = k * 0.0009 * (V**0.0416)\n",
    "                    EFi_NH3 = 0.0019\n",
    "            elif (car_type == '승용') and (car_size == '중형'):\n",
    "                if car_birth <= 2004:\n",
    "                    EFi_CO = 5.9672 * (V**-0.9534)\n",
    "                    EFi_HC = 0.6523 * (V**-1.0167)\n",
    "                    EFi_NOx = 24.3491 * (V**-0.7277)\n",
    "                    if V <= 65:\n",
    "                        EFi_PM10 = 0.3861 * (V**-0.5093)\n",
    "                        EFi_PM2_5 = k * 0.3861 * (V**-0.5093)\n",
    "                    else:\n",
    "                        EFi_PM10 = -0.00001 * (V**2) + 0.0026 * V - 0.0618\n",
    "                        EFi_PM2_5 = k * -0.00001 * (V**2) + 0.0026 * V - 0.0618\n",
    "                    EFi_NH3 = 0.001\n",
    "                elif car_birth == 2005:\n",
    "                    EFi_CO = 0.6930 * (V**-0.7524)\n",
    "                    EFi_HC = 0.1865 * (V**-0.6848)\n",
    "                    EFi_NOx = 24.3491 * (V**-0.7277)\n",
    "                    EFi_PM10 = 0.0723 * (V**-0.3420)\n",
    "                    EFi_PM2_5 = k * 0.0723 * (V**-0.3420)\n",
    "                    EFi_NH3 = 0.001\n",
    "                elif 2006 <= car_birth <= 2010:\n",
    "                    EFi_CO = 0.5414 * (V**-0.7524)\n",
    "                    EFi_HC = 0.0927 * (V**-0.6848)\n",
    "                    EFi_NOx = 24.3491 * (V**-0.7277)\n",
    "                    EFi_PM10 = 0.0396 * (V**-0.3420)\n",
    "                    EFi_PM2_5 = k * 0.0396 * (V**-0.3420)\n",
    "                    EFi_NH3 = 0.001\n",
    "                elif 2011 <= car_birth <= 2015:\n",
    "                    EFi_CO = 0.5141 * (V**-0.6792)\n",
    "                    EFi_HC = 0.3713 * (V**-0.7513)\n",
    "                    EFi_NOx = 0.0003 * (V**2) - 0.0324 * V + 1.4773\n",
    "                    if V <= 65.4:\n",
    "                        EFi_PM10 = 0.0225 * (V**-0.7264)\n",
    "                        EFi_PM2_5 = k * 0.0225 * (V**-0.7264)\n",
    "                    else:\n",
    "                        EFi_PM10 = 0.0009 * (V**0.0416)            #     EFi_PM10 = 0.0009 * (V**0.0416)\n",
    "                        EFi_PM2_5 = k * 0.0009 * (V**0.0416)      #     EFi_PM2_5 = k * 0.0009 * (V**0.0416)\n",
    "                    EFi_NH3 = 0.0019\n",
    "                elif 2016 <= car_birth:\n",
    "                    EFi_CO = 0.4574 * (V**-0.5215)\n",
    "                    EFi_HC = 0.1300 * (V**-0.7265)\n",
    "                    EFi_NOx = 2.7702 * (V**-0.3869)\n",
    "                    if V <= 65.4:\n",
    "                        EFi_PM10 = 0.0225 * (V**-0.7264)\n",
    "                        EFi_PM2_5 = k * 0.0225 * (V**-0.7264)\n",
    "                    else:\n",
    "                        EFi_PM10 = 0.0009 * (V**0.0416)              #     EFi_PM10 = 0.0009 * (V**0.0416)\n",
    "                        EFi_PM2_5 = k * 0.0009 * (V**0.0416)         #     EFi_PM2_5 = k * 0.0009 * (V**0.0416)\n",
    "                    EFi_NH3 = 0.0019\n",
    "            elif (car_type == '승용') and (car_size == '대형'):\n",
    "                if car_birth <= 2004:\n",
    "                    EFi_CO = 5.9672 * (V**-0.9534)\n",
    "                    EFi_HC = 0.6523 * (V**-1.0167)\n",
    "                    EFi_NOx = 24.3491 * (V**-0.7277)\n",
    "                    if V <= 65:\n",
    "                        EFi_PM10 = 0.3861 * (V**-0.5093)\n",
    "                        EFi_PM2_5 = k * 0.3861 * (V**-0.5093)\n",
    "                    else:\n",
    "                        EFi_PM10 = -0.00001 * (V**2) + 0.0026 * V - 0.0618\n",
    "                        EFi_PM2_5 = k * -0.00001 * (V**2) + 0.0026 * V - 0.0618\n",
    "                    EFi_NH3 = 0.001\n",
    "                elif car_birth == 2005:\n",
    "                    EFi_CO = 0.9609 * (V**-0.7524)\n",
    "                    EFi_HC = 0.1865 * (V**-0.6848)\n",
    "                    EFi_NOx = 24.3491 * (V**-0.7277)\n",
    "                    EFi_PM10 = 0.0723 * (V**-0.3420)\n",
    "                    EFi_PM2_5 = k * 0.0723 * (V**-0.3420)\n",
    "                    EFi_NH3 = 0.001\n",
    "                elif 2006 <= car_birth <= 2010:\n",
    "                    EFi_CO = 0.7507 * (V**-0.7524)\n",
    "                    EFi_HC = 0.1554 * (V**-0.6848)\n",
    "                    EFi_NOx = 24.3491 * (V**-0.7277)\n",
    "                    EFi_PM10 = 0.0361 * (V**-0.3420)\n",
    "                    EFi_PM2_5 = k * 0.0361 * (V**-0.3420)\n",
    "                    EFi_NH3 = 0.001\n",
    "                elif 2011 <= car_birth <= 2015:\n",
    "                    EFi_CO = 0.5141 * (V**-0.6792)\n",
    "                    EFi_HC = 0.3713 * (V**-0.7513)\n",
    "                    EFi_NOx = 0.0003 * (V**2) - 0.0324 * V + 1.4773\n",
    "                    if V <= 65.4:\n",
    "                        EFi_PM10 = 0.0225 * (V**-0.7264)\n",
    "                        EFi_PM2_5 = k * 0.0225 * (V**-0.7264)\n",
    "                    else:\n",
    "                        EFi_PM10 = 0.0009 * (V**0.0416)              #     EFi_PM10 = 0.0009 * (V**0.0416)\n",
    "                        EFi_PM2_5 = k * 0.0009 * (V**0.0416)         #     EFi_PM2_5 = k * 0.0009 * (V**0.0416)\n",
    "                    EFi_NH3 = 0.0019\n",
    "                elif 2016 <= car_birth:\n",
    "                    EFi_CO = 0.4574 * (V**-0.5215)\n",
    "                    EFi_HC = 0.1300 * (V**-0.7265)\n",
    "                    EFi_NOx = 2.7702 * (V**-0.3869)\n",
    "                    if V <= 65.4:\n",
    "                        EFi_PM10 = 0.0225 * (V**-0.7264)\n",
    "                        EFi_PM2_5 = k * 0.0225 * (V**-0.7264)\n",
    "                    else:\n",
    "                        EFi_PM10 = 0.0009 * (V**0.0416)              # EFi_PM10 = 0.0009 * (V**0.0416)\n",
    "                        EFi_PM2_5 = k * 0.0009 * (V**0.0416)         # EFi_PM2_5 = k * 0.0009 * (V**0.0416)\n",
    "                    EFi_NH3 = 0.0019\n",
    "            elif (car_type == '승합') and (car_size == '소형'):\n",
    "                if car_birth <= 1990:\n",
    "                    if V <= 65.4:\n",
    "                        EFi_CO = 3.4539 * (V**-0.4266)\n",
    "                    else:\n",
    "                        EFi_CO = 0.0051 * V + 0.2212\n",
    "                    EFi_HC = 0.9835 * (V**-0.5096)\n",
    "                    EFi_NOx = 24.3491 * (V**-0.7277)\n",
    "                    EFi_PM10 = 1.1412 * (V**-0.4324)\n",
    "                    EFi_PM2_5 = k * 1.1412 * (V**-0.4324)\n",
    "                elif 1991 <= car_birth <= 1995:\n",
    "                    if V <= 65.4:\n",
    "                        EFi_CO = 3.4539 * (V**-0.4266)\n",
    "                    else:\n",
    "                        EFi_CO = 0.0051 * V + 0.2212\n",
    "                    EFi_HC = 1.6313 * (V**-0.7298)\n",
    "                    EFi_NOx = 24.3491 * (V**-0.7277)\n",
    "                    EFi_PM10 = 0.5999 * (V**-0.3294)\n",
    "                    EFi_PM2_5 = k * 0.5999 * (V**-0.3294)\n",
    "                elif 1996 <= car_birth <= 1997:\n",
    "                    if V <= 65.4:\n",
    "                        EFi_CO = 3.4539 * (V**-0.4266)\n",
    "                    else:\n",
    "                        EFi_CO = 0.0051 * V + 0.2212\n",
    "                    EFi_HC = 1.1293 * (V**-0.6588)\n",
    "                    EFi_NOx = 24.3491 * (V**-0.7277)\n",
    "                    EFi_PM10 = 0.6408 * (V**-0.3596)\n",
    "                    EFi_PM2_5 = k * 0.6408 * (V**-0.3596)\n",
    "                elif 1998 <= car_birth <= 1999:\n",
    "                    EFi_CO = 3.7564 * (V**-0.5175)\n",
    "                    EFi_HC = 1.1293 * (V**-0.6588)\n",
    "                    EFi_NOx = 24.3491 * (V**-0.7277)\n",
    "                    EFi_PM10 = 0.5168 * (V**-0.3596)\n",
    "                    EFi_PM2_5 = k * 0.5168 * (V**-0.3596)\n",
    "                elif 2000 <= car_birth <= 2003:\n",
    "                    EFi_CO = 3.7564 * (V**-0.5175)\n",
    "                    EFi_HC = 1.1293 * (V**-0.6588)\n",
    "                    EFi_NOx = 24.3491 * (V**-0.7277)\n",
    "                    EFi_PM10 = 0.2894 * (V**-0.3596)\n",
    "                    EFi_PM2_5 = k * 0.2894 * (V**-0.3596)\n",
    "                elif 2004 <= car_birth <= 2007:\n",
    "                    EFi_CO = 3.2797 * (V**-0.8887)\n",
    "                    EFi_HC = 0.1807 * (V**-0.6588)\n",
    "                    EFi_NOx = 24.3491 * (V**-0.7277)\n",
    "                    EFi_PM10 = 0.2067 * (V**-0.3596)\n",
    "                    EFi_PM2_5 = k * 0.2067 * (V**-0.3596)\n",
    "                elif 2008 <= car_birth <= 2011:\n",
    "                    if V <= 65.4:\n",
    "                        EFi_CO = 4.222 * (V**-1.4035)\n",
    "                    else:\n",
    "                        EFi_CO = 0.011666 * (V**0.09222)\n",
    "                    if V <= 97.3:\n",
    "                        EFi_HC = 0.829 * (V**-1.0961)\n",
    "                    EFi_NOx = 24.3491 * (V**-0.7277)\n",
    "                    EFi_PM10 = 0.3111 * (V**-0.5125)\n",
    "                    EFi_PM2_5 = k * 0.3111 * (V**-0.5125)\n",
    "                elif 2012 <= car_birth:\n",
    "                    if V <= 65.4:\n",
    "                        EFi_CO = 4.222 * (V**-1.4035)\n",
    "                    else:\n",
    "                        EFi_CO = 0.011666 * (V**0.09222)\n",
    "                    if V <= 97.3:\n",
    "                        EFi_HC = 0.829 * (V**-1.0961)\n",
    "                    if V <= 65.4:\n",
    "                        EFi_NOx = 2.0217 * (V**-0.2645)\n",
    "                    else:\n",
    "                        EFi_NOx = 0.0271 * (V**0.7596)\n",
    "                    EFi_PM10 = 0.1119 * (V**-0.5125)\n",
    "                    EFi_PM2_5 = k * 0.1119 * (V**-0.5125)\n",
    "                EFi_NH3 = 0.001\n",
    "            elif (car_type == '승합') and (car_size == '중형'):\n",
    "                if car_birth <= 1995:\n",
    "                    EFi_CO = 32.550 * (V**-0.4944)\n",
    "                    EFi_HC = 15.753 * (V**-0.5912)\n",
    "                    if V < 80:\n",
    "                        EFi_NOx = 40.692 * (V**-0.5590)\n",
    "                    else:\n",
    "                        EFi_NOx = -0.0023 * (V**2) + 0.5381 * V - 23.590\n",
    "                    EFi_PM10 = 5.4886 * (V**-0.5911)\n",
    "                    EFi_PM2_5 = k * 5.4886 * (V**-0.5911)\n",
    "                elif 1996 <= car_birth <= 1997:\n",
    "                    EFi_CO = 16.410 * (V**-0.3790)\n",
    "                    EFi_HC = 4.2324 * (V**-0.3926)\n",
    "                    if V < 80:\n",
    "                        EFi_NOx = 22.804 * (V**-0.4660)\n",
    "                    else:\n",
    "                        EFi_NOx = -0.0021 * (V**2) + 0.4430 * V - 18.730\n",
    "                    EFi_PM10 = 1.6593 * (V**-0.3935)\n",
    "                    EFi_PM2_5 = k * 1.6593 * (V**-0.3935)\n",
    "                elif 1998 <= car_birth <= 2000:\n",
    "                    EFi_CO = 16.410 * (V**-0.3790)\n",
    "                    EFi_HC = 4.2324 * (V**-0.3926)\n",
    "                    if V < 80:\n",
    "                        EFi_NOx = 25.708 * (V**-0.4772)\n",
    "                    else:\n",
    "                        EFi_NOx = 0.0019 * (V**2) - 0.2628 * V + 12.145\n",
    "                    EFi_PM10 = 1.6593 * (V**-0.3935)\n",
    "                    EFi_PM2_5 = k * 1.6593 * (V**-0.3935)\n",
    "                elif 2001 <= car_birth <= 2004:\n",
    "                    EFi_CO = 16.378 * (V**-0.5340)\n",
    "                    EFi_HC = 5.8477 * (V**-0.5466)\n",
    "                    if V < 80:\n",
    "                        EFi_NOx = 25.436 * (V**-0.4656)\n",
    "                    else:\n",
    "                        EFi_NOx = 0.0008 * (V**2) - 0.0482 * V + 1.8424\n",
    "                    EFi_PM10 = 1.2848 * (V**-0.4715)\n",
    "                    EFi_PM2_5 = k * 1.2848 * (V**-0.4715)\n",
    "                elif 2005 <= car_birth <= 2007:\n",
    "                    EFi_CO = 15.256 * (V**-0.7448)\n",
    "                    EFi_HC = 2.0502 * (V**-0.6504)\n",
    "                    EFi_NOx = 15.001 * (V**-0.4528)\n",
    "                    EFi_PM10 = 0.2979 * (V**-0.4008)\n",
    "                    EFi_PM2_5 = k * 1.0457 * (V**-0.4527)\n",
    "                elif 2008 <= car_birth <= 2010:\n",
    "                    EFi_CO = 8.1771 * (V**-0.7725)\n",
    "                    EFi_HC = 1.2991 * (V**-0.6538)\n",
    "                    if V <= 64.7:\n",
    "                        EFi_NOx = 17.3032 * (V**-0.3660)\n",
    "                        EFi_PM10 = 0.0539 * (V**-0.5182)\n",
    "                        EFi_PM2_5 = k * 0.0539 * (V**-0.5182)\n",
    "                    else:\n",
    "                        EFi_NOx = 0.3259 * (V**0.5773)\n",
    "                        EFi_PM10 = 2.0000*(10**-4) * V - 7.5600*(10**-3)\n",
    "                        EFi_PM2_5 = k * 2.0000*(10**-4) * V - 7.5600*(10**-3)\n",
    "                elif 2011 <= car_birth <= 2014:\n",
    "                    EFi_CO = 4.5201 * (V**-0.7279)\n",
    "                    EFi_HC = 1.6826 * (V**-0.8045)\n",
    "                    if V <= 64.7:\n",
    "                        EFi_NOx = 17.2485 * (V**-0.4040)\n",
    "                        EFi_PM10 = 0.0469 * (V**-0.4674)\n",
    "                        EFi_PM2_5 = k * 0.0469 * (V**-0.4674)\n",
    "                    else:\n",
    "                        EFi_NOx = 1.1797 * (V**0.2308)\n",
    "                        EFi_PM10 = 1.6800*(10**-4) * V - 5.1600*(10**-3)\n",
    "                        EFi_PM2_5 = k * 1.6800*(10**-4) * V - 5.1600*(10**-3)\n",
    "                elif 2015 <= car_birth:\n",
    "                    EFi_CO = 7.4065 * (V**-0.5995)\n",
    "                    EFi_HC = 2.4562 * (V**-1.3145)\n",
    "                    EFi_NOx = 42.7393 * (V**-1.2949)\n",
    "                    if V <= 64.7:\n",
    "                        EFi_PM10 = 0.0081 * (V**-0.5182)\n",
    "                        EFi_PM2_5 = k * 0.0081 * (V**-0.5182)\n",
    "                    else:\n",
    "                        EFi_PM10 = 3.0000*(10**-5) * V - 0.0011\n",
    "                        EFi_PM2_5 = k * 3.0000*(10**-5) * V - 0.0011\n",
    "                EFi_NH3 = 0.001\n",
    "            elif (car_type == '승합') and (car_size == '대형'):\n",
    "                if car_birth <= 1995:\n",
    "                    EFi_CO = 28.205 * (V**-0.5337)\n",
    "                    EFi_HC = 6.1146 * (V**-0.4979)\n",
    "                    EFi_NOx = 41.346 * (V**-0.3645)\n",
    "                    EFi_PM10 = 5.2158 * (V**-0.5048)\n",
    "                    EFi_PM2_5 = k * 5.2158 * (V**-0.5048)\n",
    "                    EFi_NH3 = 0.003\n",
    "                elif 1996 <= car_birth <= 1997:\n",
    "                    EFi_CO = 23.205 * (V**-0.5425)\n",
    "                    EFi_HC = 6.5657 * (V**-0.5431)\n",
    "                    EFi_NOx = 42.1379 * (V**-0.3786)\n",
    "                    EFi_PM10 = 2.4911 * (V**-0.4149)\n",
    "                    EFi_PM2_5 = k * 2.4911 * (V**-0.4149)\n",
    "                    EFi_NH3 = 0.003\n",
    "                elif 1998 <= car_birth <= 2000:\n",
    "                    EFi_CO = 23.205 * (V**-0.5425)\n",
    "                    EFi_HC = 6.5657 * (V**-0.5431)\n",
    "                    EFi_NOx = 42.1379 * (V**-0.3786)\n",
    "                    EFi_PM10 = 1.4432 * (V**-0.3870)\n",
    "                    EFi_PM2_5 = k * 1.4432 * (V**-0.3870)\n",
    "                    EFi_NH3 = 0.003\n",
    "                elif car_birth == 2001:\n",
    "                    EFi_CO = 21.348 * (V**-0.5806)\n",
    "                    EFi_HC = 6.6390 * (V**-0.5760)\n",
    "                    EFi_NOx = 36.7191 * (V**-0.3548)\n",
    "                    EFi_PM10 = 0.9375 * (V**-0.3910)\n",
    "                    EFi_PM2_5 = k * 0.9375 * (V**-0.3910)\n",
    "                    EFi_NH3 = 0.003\n",
    "                elif 2002 <= car_birth <= 2004:\n",
    "                    EFi_CO = 21.348 * (V**-0.5806)\n",
    "                    EFi_HC = 6.6390 * (V**-0.5760)\n",
    "                    EFi_NOx = 36.7191 * (V**-0.3548)\n",
    "                    EFi_PM10 = 1.1507 * (V**-0.4804)\n",
    "                    EFi_PM2_5 = k * 1.1507 * (V**-0.4804)\n",
    "                    EFi_NH3 = 0.003\n",
    "                elif 2005 <= car_birth <= 2007:\n",
    "                    EFi_CO = 9.6452 * (V**-0.5291)\n",
    "                    EFi_HC = 3.2339 * (V**-0.7436)\n",
    "                    EFi_NOx = 30.5870 * (V**-0.3548)\n",
    "                    if V <= 80:\n",
    "                        EFi_PM10 = 0.4657 * (V**-0.5634)\n",
    "                        EFi_PM2_5 = k * 0.4657 * (V**-0.5634)\n",
    "                    else:\n",
    "                        EFi_PM10 = 0.0014 * (V**0.7970)\n",
    "                        EFi_PM2_5 = k * 0.0014 * (V**0.7970)\n",
    "                    EFi_NH3 = 0.003\n",
    "                elif 2008 <= car_birth <= 2010:\n",
    "                    EFi_CO = 6.8493 * (V**-0.6506)\n",
    "                    EFi_HC = 1.7177 * (V**-0.6781)\n",
    "                    EFi_NOx = 40.7564 * (V**-0.4757)\n",
    "                    EFi_PM10 = 0.2418 * (V**-0.4727)\n",
    "                    EFi_PM2_5 = k * 0.2418 * (V**-0.4727)\n",
    "                    EFi_NH3 = 0.003\n",
    "                elif 2011 <= car_birth <= 2014:\n",
    "                    EFi_CO = 5.4607 * (V**-0.2990)\n",
    "                    EFi_HC = 0.8863 * (V**-0.6933)\n",
    "                    EFi_NOx = 40.3729 * (V**-0.5386)\n",
    "                    EFi_PM10 = 0.2125 * (V**-0.4650)\n",
    "                    EFi_PM2_5 = k * 0.2125 * (V**-0.4650)\n",
    "                    EFi_NH3 = 0.003\n",
    "                elif 2015 <= car_birth:\n",
    "                    EFi_CO = 11.4415 * (V**-0.8036)\n",
    "                    EFi_HC = 0.6774 * (V**-0.8321)\n",
    "                    EFi_NOx = 112.1229 * (V**-1.6393)\n",
    "                    EFi_PM10 = 0.0363 * (V**-0.4727)\n",
    "                    EFi_PM2_5 = k * 0.0363 * (V**-0.4727)\n",
    "                    EFi_NH3 = 0.007\n",
    "            elif (car_type == '화물') and (car_size == '소형'):\n",
    "                if car_birth <= 1990:\n",
    "                    EFi_CO = 4.5854 * (V**-0.3613)\n",
    "                    EFi_HC = 0.4840 * (V**-0.2756)\n",
    "                    EFi_NOx = 24.3491 * (V**-0.7277)\n",
    "                    EFi_PM10 = 0.8117 * (V**-0.4071)\n",
    "                    EFi_PM2_5 = k * 0.8117 * (V**-0.4071)\n",
    "                elif 1991 <= car_birth <= 1995:\n",
    "                    EFi_CO = 3.4774 * (V**-0.3483)\n",
    "                    EFi_HC = 0.4844 * (V**-0.3288)\n",
    "                    EFi_NOx = 24.3491 * (V**-0.7277)\n",
    "                    EFi_PM10 = 0.6188 * (V**-0.4540)\n",
    "                    EFi_PM2_5 = k * 0.6188 * (V**-0.4540)\n",
    "                elif 1996 <= car_birth <= 1997:\n",
    "                    EFi_CO = 3.3934 * (V**-0.3837)\n",
    "                    EFi_HC = 0.4955 * (V**-0.3393)\n",
    "                    EFi_NOx = 24.3491 * (V**-0.7277)\n",
    "                    EFi_PM10 = 0.7037 * (V**-0.5357)\n",
    "                    EFi_PM2_5 = k * 0.7037 * (V**-0.5357)\n",
    "                elif 1998 <= car_birth <= 1999:\n",
    "                    EFi_CO = 4.0896 * (V**-0.6083)\n",
    "                    EFi_HC = 0.6122 * (V**-0.5684)\n",
    "                    EFi_NOx = 24.3491 * (V**-0.7277)\n",
    "                    EFi_PM10 = 0.6157 * (V**-0.5357)\n",
    "                    EFi_PM2_5 = k * 0.6157 * (V**-0.5357)\n",
    "                elif 2000 <= car_birth <= 2003:\n",
    "                    EFi_CO = 4.0896 * (V**-0.6083)\n",
    "                    EFi_HC = 0.6122 * (V**-0.5684)\n",
    "                    EFi_NOx = 24.3491 * (V**-0.7277)\n",
    "                    EFi_PM10 = 0.4838 * (V**-0.5357)\n",
    "                    EFi_PM2_5 = k * 0.4838 * (V**-0.5357)\n",
    "                elif 2004 <= car_birth <= 2007:\n",
    "                    EFi_CO = 3.2797 * (V**-0.8887)\n",
    "                    EFi_HC = 0.1807 * (V**-0.6588)\n",
    "                    EFi_NOx = 24.3491 * (V**-0.7277)\n",
    "                    EFi_PM10 = 0.2067 * (V**-0.3596)\n",
    "                    EFi_PM2_5 = k * 0.2067 * (V**-0.3596)\n",
    "                elif 2008 <= car_birth <= 2011:\n",
    "                    if V <= 65.4:\n",
    "                        EFi_CO = 4.222 * (V**-1.4035)\n",
    "                    else:\n",
    "                        EFi_CO = 0.01166 * (V**0.09222)\n",
    "                    if V <= 97.3:\n",
    "                        EFi_HC = 0.829 * (V**-1.0961)\n",
    "                    EFi_NOx = 24.3491 * (V**-0.7277)\n",
    "                    EFi_PM10 = 0.3111 * (V**-0.5125)\n",
    "                    EFi_PM2_5 = k * 0.3111 * (V**-0.5125)\n",
    "                elif 2012 <= car_birth <= 2016:\n",
    "                    if V <= 65.4:\n",
    "                        EFi_CO = 4.222 * (V**-1.4035)\n",
    "                        EFi_NOx = 2.0217 * (V**-0.2645)\n",
    "                    else:\n",
    "                        EFi_CO = 0.01166 * (V**0.09222)\n",
    "                        EFi_NOx = 0.0271 * (V**0.7596)\n",
    "                    if V <= 97.3:\n",
    "                        EFi_HC = 0.829 * (V**-1.0961)\n",
    "                    EFi_PM10 = 0.1119 * (V**-0.5125)\n",
    "                    EFi_PM2_5 = k * 0.1119 * (V**-0.5125)\n",
    "                EFi_NH3 = 0.001\n",
    "            elif (car_type == '화물') and (car_size == '중형'):\n",
    "                if car_birth <= 1995:\n",
    "                    EFi_CO = 16.769 * (V**-0.3772)\n",
    "                    EFi_HC = 6.7755 * (V**-0.5003)\n",
    "                    EFi_NOx = 24.915 * (V**-0.3942)\n",
    "                    EFi_PM10 = 3.6772 * (V**-0.5514)\n",
    "                    EFi_PM2_5 = k * 3.6772 * (V**-0.5514)\n",
    "                elif 1996 <= car_birth <= 2000:\n",
    "                    EFi_CO = 21.057 * (V**-0.4958)\n",
    "                    EFi_HC = 6.7532 * (V**-0.5711)\n",
    "                    EFi_NOx = 25.022 * (V**-0.4240)\n",
    "                    EFi_PM10 = 3.5285 * (V**-0.5962)\n",
    "                    EFi_PM2_5 = k * 3.5285 * (V**-0.5962)\n",
    "                elif car_birth == 2001:\n",
    "                    EFi_CO = 23.501 * (V**-0.6100)        # EFi_CO = 23.501 * (V**-0.6100)       \n",
    "                    EFi_HC = 6.8738 * (V**-0.5913)\n",
    "                    if V <= 64.7:\n",
    "                        EFi_NOx = 17.3032 * (V**-0.3660)\n",
    "                    else:\n",
    "                        EFi_NOx = 0.3259 * (V**0.5773)\n",
    "                    EFi_PM10 = 1.4444 * (V**-0.4824)\n",
    "                    EFi_PM2_5 = k * 1.4444 * (V**-0.4824)\n",
    "                elif 2002 <= car_birth <= 2004:\n",
    "                    EFi_CO = 23.501 * (V**-0.6100)        # EFi_CO = 23.501 * (V**-0.6100)   \n",
    "                    EFi_HC = 6.8738 * (V**-0.5913)\n",
    "                    if V <= 64.7:\n",
    "                        EFi_NOx = 17.3032 * (V**-0.3660)\n",
    "                    else:\n",
    "                        EFi_NOx = 0.3259 * (V**0.5773)\n",
    "                    EFi_PM10 = 1.0432 * (V**-0.4992)\n",
    "                    EFi_PM2_5 = k * 1.0432 * (V**-0.4992)\n",
    "                elif 2005 <= car_birth <= 2007:\n",
    "                    EFi_CO = 15.256 * (V**-0.7448)\n",
    "                    EFi_HC = 2.0502 * (V**-0.6504)\n",
    "                    if V <= 64.7:\n",
    "                        EFi_NOx = 17.3032 * (V**-0.3660)\n",
    "                    else:\n",
    "                        EFi_NOx = 0.3259 * (V**0.5773)\n",
    "                    EFi_PM10 = 0.2979 * (V**-0.4008)\n",
    "                    EFi_PM2_5 = k * 0.2979 * (V**-0.4008)\n",
    "                elif 2008 <= car_birth <= 2010:\n",
    "                    EFi_CO = 8.1771 * (V**-0.7725)\n",
    "                    EFi_HC = 1.2991 * (V**-0.6538)\n",
    "                    if V <= 64.7:\n",
    "                        EFi_NOx = 17.3032 * (V**-0.3660)\n",
    "                        EFi_PM10 = 0.0539 * (V**-0.5182)\n",
    "                        EFi_PM2_5 = k * 0.0539 * (V**-0.5182)\n",
    "                    else:\n",
    "                        EFi_NOx = 0.3259 * (V**0.5773)\n",
    "                        EFi_PM10 = 0.0002 * V - 0.00756\n",
    "                        EFi_PM2_5 = k * 0.0002 * V - 0.00756\n",
    "                elif 2011 <= car_birth <= 2014:\n",
    "                    EFi_CO = 4.5201 * (V**-0.7279)\n",
    "                    EFi_HC = 1.6826 * (V**-0.8045)\n",
    "                    if V <= 64.7:\n",
    "                        EFi_NOx = 17.2485 * (V**-0.4040)\n",
    "                        EFi_PM10 = 0.0469 * (V**-0.4674)\n",
    "                        EFi_PM2_5 = k * 0.0469 * (V**-0.4674)\n",
    "                    else:\n",
    "                        EFi_NOx = 1.1797 * (V**0.2308)\n",
    "                        EFi_PM10 = 0.000168 * V - 0.00516\n",
    "                        EFi_PM2_5 = k * 0.000168 * V - 0.00516\n",
    "                elif 2015 <= car_birth:\n",
    "                    EFi_CO = 7.4065 * (V**-0.5995)\n",
    "                    EFi_HC = 2.4562 * (V**-1.3145)\n",
    "                    EFi_NOx = 42.7393 * (V**-1.2949)\n",
    "                    if V <= 64.7:\n",
    "                        EFi_PM10 = 0.0081 * (V**-0.5182)\n",
    "                        EFi_PM2_5 = k * 0.0081 * (V**-0.5182)\n",
    "                    else:\n",
    "                        EFi_PM10 = 3.0000 * (10**-5) * V - 0.0011\n",
    "                        EFi_PM2_5 = k * 3.0000 * (10**-5) * V - 0.0011\n",
    "                EFi_NH3 = 0.001\n",
    "            elif car_type == '특수':\n",
    "                if car_birth <= 1995:\n",
    "                    EFi_CO = 16.769 * (V**-0.3772)\n",
    "                    EFi_HC = 6.7755 * (V**-0.5003)\n",
    "                    EFi_NOx = 24.915 * (V**-0.3942)\n",
    "                    EFi_PM10 = 3.6772 * (V**-0.5514)\n",
    "                    EFi_PM2_5 = k * 3.6772 * (V**-0.5514)\n",
    "                    EFi_NH3 = 0.003\n",
    "                elif 1996 <= car_birth <= 2000:\n",
    "                    EFi_CO = 21.057 * (V**-0.4958)\n",
    "                    EFi_HC = 6.7532 * (V**-0.5711)\n",
    "                    EFi_NOx = 25.022 * (V**-0.4240)\n",
    "                    EFi_PM10 = 3.5285 * (V**-0.5962)\n",
    "                    EFi_PM2_5 = k * 3.5285 * (V**-0.5962)\n",
    "                    EFi_NH3 = 0.003\n",
    "                elif car_birth == 2001:\n",
    "                    EFi_CO = 25.501 * (V**-0.6100)\n",
    "                    EFi_HC = 6.8738 * (V**-0.5913)\n",
    "                    if V <= 64.7:\n",
    "                        EFi_NOx = 17.3032 * (V**-0.3660)\n",
    "                    else:\n",
    "                        EFi_NOx = 0.3259 * (V**0.5773)\n",
    "                    EFi_PM10 = 1.4444 * (V**-0.4824)\n",
    "                    EFi_PM2_5 = k * 1.4444 * (V**-0.4824)\n",
    "                    EFi_NH3 = 0.003\n",
    "                elif 2002 <= car_birth <= 2004:\n",
    "                    EFi_CO = 23.501 * (V**-0.6100)             # EFi_CO = 23.501 * (V**-0.6100)\n",
    "                    EFi_HC = 6.8738 * (V**-0.5913)\n",
    "                    if V <= 64.7:\n",
    "                        EFi_NOx = 17.3032 * (V**-0.3660)\n",
    "                    else:\n",
    "                        EFi_NOx = 0.3259 * (V**0.5773)\n",
    "                    EFi_PM10 = 1.0432 * (V**-0.4992)\n",
    "                    EFi_PM2_5 = k * 1.0432 * (V**-0.4992)\n",
    "                    EFi_NH3 = 0.003\n",
    "                elif 2005 <= car_birth <= 2007:\n",
    "                    EFi_CO = 15.256 * (V**-0.7448)\n",
    "                    EFi_HC = 2.0502 * (V**-0.6504)\n",
    "                    if V <= 64.7:\n",
    "                        EFi_NOx = 17.3032 * (V**-0.3660)\n",
    "                    else:\n",
    "                        EFi_NOx = 0.3259 * (V**0.5773)\n",
    "                    EFi_PM10 = 0.2979 * (V**-0.4008)\n",
    "                    EFi_PM2_5 = k * 0.2979 * (V**-0.4008)\n",
    "                    EFi_NH3 = 0.003\n",
    "                elif 2008 <= car_birth <= 2009:\n",
    "                    EFi_CO = 8.1771 * (V**-0.7725)\n",
    "                    EFi_HC = 1.2991 * (V**-0.6538)\n",
    "                    if V <= 64.7:\n",
    "                        EFi_NOx = 17.3032 * (V**-0.3660)\n",
    "                        EFi_PM10 = 0.0539 * (V**-0.5182)\n",
    "                        EFi_PM2_5 = k * 0.0539 * (V**-0.5182)\n",
    "                    else:\n",
    "                        EFi_NOx = 0.3259 * (V**0.5773)\n",
    "                        EFi_PM10 = 0.0002 * V - 0.00756\n",
    "                        EFi_PM2_5 = k * 0.0002 * V - 0.00756\n",
    "                    EFi_NH3 = 0.003\n",
    "                elif car_birth == 2010:\n",
    "                    EFi_CO = 8.1771 * (V**-0.7725)\n",
    "                    EFi_HC = 1.2991 * (V**-0.6538)\n",
    "                    if V <= 64.7:\n",
    "                        EFi_NOx = 17.3032 * (V**-0.3660)\n",
    "                        EFi_PM10 = 0.0539 * (V**-0.5182)\n",
    "                        EFi_PM2_5 = k * 0.0539 * (V**-0.5182)\n",
    "                    else:\n",
    "                        EFi_NOx = 0.3259 * (V**0.5773)\n",
    "                        EFi_PM10 = 0.0002 * V - 0.00756\n",
    "                        EFi_PM2_5 = k * 0.0002 * V - 0.00756\n",
    "                    EFi_NH3 = 0.011\n",
    "                elif 2011 <= car_birth <= 2014:\n",
    "                    EFi_CO = 4.5201 * (V**-0.7279)\n",
    "                    EFi_HC = 1.6826 * (V**-0.8045)\n",
    "                    if V <= 64.7:\n",
    "                        EFi_NOx = 17.2485 * (V**-0.4040)\n",
    "                        EFi_PM10 = 0.0469 * (V**-0.4674)\n",
    "                        EFi_PM2_5 = k * 0.0469 * (V**-0.4674)\n",
    "                    else:\n",
    "                        EFi_NOx = 1.1797 * (V**0.2308)\n",
    "                        EFi_PM10 = 0.000168 * V - 0.00516\n",
    "                        EFi_PM2_5 = k * 0.000168 * V - 0.00516\n",
    "                    EFi_NH3 = 0.011\n",
    "                elif 2015 <= car_birth:\n",
    "                    EFi_CO = 7.4065 * (V**-0.5995)\n",
    "                    EFi_HC = 2.4562 * (V**-1.3145)\n",
    "                    EFi_NOx = 42.7393 * (V**-1.2949)\n",
    "                    if V <= 64.7:\n",
    "                        EFi_PM10 = 0.0081 * (V**-0.5182)\n",
    "                        EFi_PM2_5 = k * 0.0081 * (V**-0.5182)\n",
    "                    else:\n",
    "                        EFi_PM10 = 3.0000 * (10**-5) * V - 0.0011\n",
    "                        EFi_PM2_5 = k * 3.0000 * (10**-5) * V - 0.0011\n",
    "                    EFi_NH3 = 0.007\n",
    "            elif (car_type == '화물') and (car_size == '대형'):\n",
    "                if car_birth <= 1995:\n",
    "                    EFi_CO = 30.402 * (V**-0.4685)\n",
    "                    EFi_HC = 15.75 * (V**-0.582)\n",
    "                    EFi_NOx = 117.49 * (V**-0.365)\n",
    "                    EFi_PM10 = 7.6212 * (V**-0.4183)\n",
    "                    EFi_PM2_5 = k * 7.6212 * (V**-0.4183)\n",
    "                    EFi_NH3 = 0.003\n",
    "                elif 1996 <= car_birth <= 1997:\n",
    "                    EFi_CO = 18.101 * (V**-0.3454)\n",
    "                    EFi_HC = 10.301 * (V**-0.5856)\n",
    "                    EFi_NOx = 94.319 * (V**-0.4061)\n",
    "                    EFi_PM10 = 6.0264 * (V**-0.4627)\n",
    "                    EFi_PM2_5 = k * 6.0264 * (V**-0.4627)\n",
    "                    EFi_NH3 = 0.003\n",
    "                elif 1998 <= car_birth <= 2000:\n",
    "                    EFi_CO = 18.101 * (V**-0.3454)\n",
    "                    EFi_HC = 10.301 * (V**-0.5856)\n",
    "                    EFi_NOx = 94.319 * (V**-0.4061)\n",
    "                    EFi_PM10 = 4.873 * (V**-0.4382)\n",
    "                    EFi_PM2_5 = k * 4.873 * (V**-0.4382)\n",
    "                    EFi_NH3 = 0.003\n",
    "                elif 2001 <= car_birth <= 2004:\n",
    "                    EFi_CO = 28.399 * (V**-0.5999)\n",
    "                    EFi_HC = 10.031 * (V**-0.5828)\n",
    "                    EFi_NOx = 85.301 * (V**-0.4023)\n",
    "                    EFi_PM10 = 3.7541 * (V**-0.4055)\n",
    "                    EFi_PM2_5 = k * 3.7541 * (V**-0.4055)\n",
    "                    EFi_NH3 = 0.003\n",
    "                elif 2005 <= car_birth <= 2007:\n",
    "                    EFi_CO = 52.136 * (V**-0.8618)\n",
    "                    EFi_HC = 3.7878 * (V**-0.5425)\n",
    "                    EFi_NOx = 107.5 * (V**-0.5679)\n",
    "                    EFi_PM10 = 2.6847 * (V**-0.6112)\n",
    "                    EFi_PM2_5 = k * 2.6847 * (V**-0.6112)\n",
    "                    EFi_NH3 = 0.003\n",
    "                elif 2008 <= car_birth <= 2009:\n",
    "                    EFi_CO = 6.8493 * (V**-0.6506)\n",
    "                    EFi_HC = 1.7177 * (V**-0.6781)\n",
    "                    EFi_NOx = 40.7564 * (V**-0.4757)\n",
    "                    EFi_PM10 = 0.2418 * (V**-0.4727)\n",
    "                    EFi_PM2_5 = k * 0.2418 * (V**-0.4727)\n",
    "                    EFi_NH3 = 0.003\n",
    "                elif 2009 <= car_birth <= 2010:\n",
    "                    EFi_CO = 6.8493 * (V**-0.6506)\n",
    "                    EFi_HC = 1.7177 * (V**-0.6781)\n",
    "                    EFi_NOx = 40.7564 * (V**-0.4757)\n",
    "                    EFi_PM10 = 0.2418 * (V**-0.4727)\n",
    "                    EFi_PM2_5 = k * 0.2418 * (V**-0.4727)\n",
    "                    EFi_NH3 = 0.011\n",
    "                elif 2011 <= car_birth <= 2014:\n",
    "                    EFi_CO = 5.4607 * (V**-0.2990)\n",
    "                    EFi_HC = 0.8863 * (V**-0.6933)\n",
    "                    EFi_NOx = 40.3729 * (V**-0.5386)\n",
    "                    EFi_PM10 = 0.2125 * (V**-0.4650)\n",
    "                    EFi_PM2_5 = k * 0.2125 * (V**-0.4650)\n",
    "                    EFi_NH3 = 0.011\n",
    "                elif 2015 <= car_birth:\n",
    "                    EFi_CO = 4.3762 * (V**-0.4550)\n",
    "                    EFi_HC = 0.3627 * (V**-0.7071)\n",
    "                    EFi_NOx = 18.0405 * (V**-1.0986)\n",
    "                    EFi_PM10 = 0.0363 * (V**-0.4727)\n",
    "                    EFi_PM2_5 = k * 0.0363 * (V**-0.4727)\n",
    "                    EFi_NH3 = 0.007\n",
    "        elif fuel == 'LPG':\n",
    "            if (car_type == '승용') and (car_size == '경형'):\n",
    "                if car_birth <= 1996:\n",
    "                    if V <= 45:\n",
    "                        EFi_CO = 22.498 * (V**-0.6579)\n",
    "                    else:\n",
    "                        EFi_CO = 0.0006 * (V**2) + 0.0004 * V + 0.8272\n",
    "                    EFi_HC = 12.961 * (V**-0.8364)\n",
    "                    EFi_NOx = 4.0131 * (V**-0.3236)\n",
    "                    if V < 85:\n",
    "                        EFi_PM10 = 0.0002\n",
    "                        EFi_PM2_5 = k * 0.0002\n",
    "                    else:\n",
    "                        EFi_PM10 = 0.0005\n",
    "                        EFi_PM2_5 = k * 0.0005\n",
    "                elif 1997 <= car_birth <= 1999:\n",
    "                    if V <= 45:\n",
    "                        EFi_CO = 19.887 * (V**-0.8461)\n",
    "                    else:\n",
    "                        EFi_CO = -0.0004 * (V**2) + 0.0911 * V - 2.2698\n",
    "                    EFi_HC = 2.2714 * (V**-0.7830)\n",
    "                    EFi_NOx = 1.8528 * (V**-0.3889)\n",
    "                    if V < 85:\n",
    "                        EFi_PM10 = 0.0002\n",
    "                        EFi_PM2_5 = k * 0.0002\n",
    "                    else:\n",
    "                        EFi_PM10 = 0.0005\n",
    "                        EFi_PM2_5 = k * 0.0005\n",
    "                elif 2000 <= car_birth <= 2002:\n",
    "                    if V <= 45:\n",
    "                        EFi_CO = 19.887 * (V**-0.8461)\n",
    "                    else:\n",
    "                        EFi_CO = -0.0004 * (V**2) + 0.0911 * V - 2.2698\n",
    "                    EFi_HC = 2.2714 * (V**-0.7830)\n",
    "                    EFi_NOx = 5.8289 * (V**-0.9198)\n",
    "                    if V < 85:\n",
    "                        EFi_PM10 = 0.0002\n",
    "                        EFi_PM2_5 = k * 0.0002\n",
    "                    else:\n",
    "                        EFi_PM10 = 0.0005\n",
    "                        EFi_PM2_5 = k * 0.0005\n",
    "                elif 2003 <= car_birth <= 2005:\n",
    "                    if V <= 45:\n",
    "                        EFi_CO = 19.887 * (V**-0.8461)\n",
    "                    else:\n",
    "                        EFi_CO = -0.0004 * (V**2) + 0.0911 * V - 2.2698\n",
    "                    EFi_HC = 1.1073 * (V**-0.7830)\n",
    "                    EFi_NOx = 5.8289 * (V**-0.9198)\n",
    "                    if V < 85:\n",
    "                        EFi_PM10 = 0.0002\n",
    "                        EFi_PM2_5 = k * 0.0002\n",
    "                    else:\n",
    "                        EFi_PM10 = 0.0005\n",
    "                        EFi_PM2_5 = k * 0.0005\n",
    "                elif 2006 <= car_birth <= 2007:\n",
    "                    if V <= 45:\n",
    "                        EFi_CO = 8.9904 * (V**-0.8461)\n",
    "                    else:\n",
    "                        EFi_CO = -0.0002 * (V**2) + 0.0457 * V - 1.1403\n",
    "                    EFi_HC = 0.3549 * (V**-0.7830)\n",
    "                    EFi_NOx = 0.7228 * (V**-0.9198)\n",
    "                    if V < 85:\n",
    "                        EFi_PM10 = 0.0002\n",
    "                        EFi_PM2_5 = k * 0.0002\n",
    "                    else:\n",
    "                        EFi_PM10 = 0.0005\n",
    "                        EFi_PM2_5 = k * 0.0005\n",
    "                elif car_birth == 2008:\n",
    "                    if V <= 79.6:\n",
    "                        EFi_CO = 0.7693 * (V**-0.7666)\n",
    "                        EFi_HC = 0.1063 * (V**-1.0745)\n",
    "                    else:\n",
    "                        EFi_CO = 5.0000 * (10**-16) * (V**7.2766)\n",
    "                        EFi_HC = 1.0000 * (10**-15) * (V**6.2696)\n",
    "                    EFi_NOx = -4.0000 * (10**-6) * (V**2) + 6.0000 * (10**-4) * V + 5.5000 * (10**-3)\n",
    "                    if V < 85:\n",
    "                        EFi_PM10 = 0.0002\n",
    "                        EFi_PM2_5 = k * 0.0002\n",
    "                    else:\n",
    "                        EFi_PM10 = 0.0005\n",
    "                        EFi_PM2_5 = k * 0.0005\n",
    "                elif 2009 <= car_birth <= 2011:\n",
    "                    if V <= 79.6:\n",
    "                        EFi_CO = 0.7059 * (V**-0.7666)\n",
    "                        EFi_HC = 0.0974 * (V**-1.0745)\n",
    "                    else:\n",
    "                        EFi_CO = 4.5878 * (10**-16) * (V**7.2766)\n",
    "                        EFi_HC = 9.1667 * (10**-16) * (V**6.2696)\n",
    "                    EFi_NOx = -3.7333 * (10**-6) * (V**2) + 5.6000 * (10**-4) * V + 5.1333 * (10**-3)\n",
    "                    if V < 85:\n",
    "                        EFi_PM10 = 0.0002\n",
    "                        EFi_PM2_5 = k * 0.0002\n",
    "                    else:\n",
    "                        EFi_PM10 = 0.0005\n",
    "                        EFi_PM2_5 = k * 0.0005\n",
    "                elif 2012 <= car_birth <= 2013:\n",
    "                    if V <= 79.6:\n",
    "                        EFi_CO = 0.6830 * (V**-0.7666)\n",
    "                        EFi_HC = 0.0943 * (V**-1.0745)\n",
    "                    else:\n",
    "                        EFi_CO = 4.4393 * (10**-16) * (V**7.2766)\n",
    "                        EFi_HC = 8.8667 * (10**-16) * (V**6.2696)\n",
    "                    EFi_NOx = -3.6373 * (10**-6) * (V**2) + 5.4560 * (10**-4) * V + 5.0013 * (10**-3)\n",
    "                    if V < 85:\n",
    "                        EFi_PM10 = 0.0002\n",
    "                        EFi_PM2_5 = k * 0.0002\n",
    "                    else:\n",
    "                        EFi_PM10 = 0.0005\n",
    "                        EFi_PM2_5 = k * 0.0005\n",
    "                elif car_birth == 2014:\n",
    "                    if V <= 79.6:\n",
    "                        EFi_CO = 0.6602 * (V**-0.7666)\n",
    "                        EFi_HC = 0.0911 * (V**-1.0745)\n",
    "                    else:\n",
    "                        EFi_CO = 4.2909 * (10**-16) * (V**7.2766)\n",
    "                        EFi_HC = 8.5667 * (10**-16) * (V**6.2696)\n",
    "                    EFi_NOx = -3.5413 * (10**-6) * (V**2) + 5.3120 * (10**-4) * V + 4.8693 * (10**-3)\n",
    "                    if V < 85:\n",
    "                        EFi_PM10 = 0.0002\n",
    "                        EFi_PM2_5 = k * 0.0002\n",
    "                    else:\n",
    "                        EFi_PM10 = 0.0005\n",
    "                        EFi_PM2_5 = k * 0.0005\n",
    "                elif 2015 <= car_birth:\n",
    "                    if V <= 79.6:\n",
    "                        EFi_CO = 0.6374 * (V**-0.7666)\n",
    "                        EFi_HC = 0.0879 * (V**-1.0745)\n",
    "                    else:\n",
    "                        EFi_CO = 4.1425 * (10**-16) * (V**7.2766)\n",
    "                        EFi_HC = 8.2667 * (10**-16) * (V**6.2696)\n",
    "                    EFi_NOx = -3.4453 * (10**-6) * (V**2) + 5.1680 * (10**-4) * V + 4.7373 * (10**-3)\n",
    "                    if V < 85:\n",
    "                        EFi_PM10 = 0.0002\n",
    "                        EFi_PM2_5 = k * 0.0002\n",
    "                    else:\n",
    "                        EFi_PM10 = 0.0005\n",
    "                        EFi_PM2_5 = k * 0.0005\n",
    "            elif (car_type == '승용') and (car_size == '소형'):\n",
    "                if car_birth <= 1990:\n",
    "                    EFi_CO = 72.338 * (V**-0.7587)\n",
    "                    EFi_HC = 26.532 * (V**-1.0423)\n",
    "                    EFi_NOx = 9.3011 * (V**-0.6781)\n",
    "                    if V < 85:\n",
    "                        EFi_PM10 = 0.0002\n",
    "                        EFi_PM2_5 = k * 0.0002\n",
    "                    else:\n",
    "                        EFi_PM10 = 0.0005\n",
    "                        EFi_PM2_5 = k * 0.0005\n",
    "                elif 1991 <= car_birth == 1996:\n",
    "                    EFi_CO = 72.338 * (V**-0.7587)\n",
    "                    EFi_HC = 101.79 * (V**-1.6823)\n",
    "                    EFi_NOx = 11.287 * (V**-0.7634)\n",
    "                    if V < 85:\n",
    "                        EFi_PM10 = 0.0002\n",
    "                        EFi_PM2_5 = k * 0.0002\n",
    "                    else:\n",
    "                        EFi_PM10 = 0.0005\n",
    "                        EFi_PM2_5 = k * 0.0005\n",
    "                elif 1997 <= car_birth <= 1999:\n",
    "                    EFi_CO = 44.956 * (V**-1.0085)\n",
    "                    EFi_HC = 11.173 * (V**-1.3927)\n",
    "                    EFi_NOx = 7.5371 * (V**-0.7864)\n",
    "                    if V < 85:\n",
    "                        EFi_PM10 = 0.0002\n",
    "                        EFi_PM2_5 = k * 0.0002\n",
    "                    else:\n",
    "                        EFi_PM10 = 0.0005\n",
    "                        EFi_PM2_5 = k * 0.0005\n",
    "                elif 2000 <= car_birth <= 2002:\n",
    "                    EFi_CO = 44.956 * (V**-1.0085)\n",
    "                    EFi_HC = 11.173 * (V**-1.3927)\n",
    "                    EFi_NOx = 4.7108 * (V**-0.7864)\n",
    "                    if V < 85:\n",
    "                        EFi_PM10 = 0.0002\n",
    "                        EFi_PM2_5 = k * 0.0002\n",
    "                    else:\n",
    "                        EFi_PM10 = 0.0005\n",
    "                        EFi_PM2_5 = k * 0.0005\n",
    "                elif 2003 <= car_birth <= 2005:\n",
    "                    EFi_CO = 44.956 * (V**-1.0085)\n",
    "                    EFi_HC = 3.2821 * (V**-1.3927)\n",
    "                    EFi_NOx = 4.7108 * (V**-0.7864)\n",
    "                    if V < 85:\n",
    "                        EFi_PM10 = 0.0002\n",
    "                        EFi_PM2_5 = k * 0.0002\n",
    "                    else:\n",
    "                        EFi_PM10 = 0.0005\n",
    "                        EFi_PM2_5 = k * 0.0005\n",
    "                elif 2006 <= car_birth <= 2007:\n",
    "                    EFi_CO = 39.362 * (V**-1.0085)\n",
    "                    EFi_HC = 2.8981 * (V**-1.3927)\n",
    "                    EFi_NOx = 1.8419 * (V**-0.7864)\n",
    "                    if V < 85:\n",
    "                        EFi_PM10 = 0.0002\n",
    "                        EFi_PM2_5 = k * 0.0002\n",
    "                    else:\n",
    "                        EFi_PM10 = 0.0005\n",
    "                        EFi_PM2_5 = k * 0.0005\n",
    "                elif car_birth == 2008:\n",
    "                    if V <= 79.6:\n",
    "                        EFi_CO = 0.7693 * (V**-0.7666)\n",
    "                        EFi_HC = 0.1063 * (V**-1.0745)\n",
    "                    else:\n",
    "                        EFi_CO = 5.0000 * (10**-16) * (V**7.2766)\n",
    "                        EFi_HC = 1.0000 * (10**-15) * (V**6.2696)\n",
    "                    EFi_NOx = -4.0000 * (10**-6) * (V**2) + 6.0000 * (10**-4) * V + 5.5000 * (10**-3)\n",
    "                    if V < 85:\n",
    "                        EFi_PM10 = 0.0002\n",
    "                        EFi_PM2_5 = k * 0.0002\n",
    "                    else:\n",
    "                        EFi_PM10 = 0.0005\n",
    "                        EFi_PM2_5 = k * 0.0005\n",
    "                elif 2009 <= car_birth <= 2011:\n",
    "                    if V <= 79.6:\n",
    "                        EFi_CO = 0.7059 * (V**-0.7666)\n",
    "                        EFi_HC = 0.0974 * (V**-1.0745)\n",
    "                    else:\n",
    "                        EFi_CO = 4.5878 * (10**-16) * (V**7.2766)\n",
    "                        EFi_HC = 9.1667 * (10**-16) * (V**6.2696)\n",
    "                    EFi_NOx = -3.7333 * (10**-6) * (V**2) + 5.6000 * (10**-4) * V + 5.1333 * (10**-3)\n",
    "                    if V < 85:\n",
    "                        EFi_PM10 = 0.0002\n",
    "                        EFi_PM2_5 = k * 0.0002\n",
    "                    else:\n",
    "                        EFi_PM10 = 0.0005\n",
    "                        EFi_PM2_5 = k * 0.0005\n",
    "                elif 2012 <= car_birth <= 2013:\n",
    "                    if V <= 79.6:\n",
    "                        EFi_CO = 0.6830 * (V**-0.7666)\n",
    "                        EFi_HC = 0.0943 * (V**-1.0745)\n",
    "                    else:\n",
    "                        EFi_CO = 4.4393 * (10**-16) * (V**7.2766)\n",
    "                        EFi_HC = 8.8667 * (10**-16) * (V**6.2696)\n",
    "                    EFi_NOx = -3.6373 * (10**-6) * (V**2) + 5.4560 * (10**-4) * V + 5.0013 * (10**-3)\n",
    "                    if V < 85:\n",
    "                        EFi_PM10 = 0.0002\n",
    "                        EFi_PM2_5 = k * 0.0002\n",
    "                    else:\n",
    "                        EFi_PM10 = 0.0005\n",
    "                        EFi_PM2_5 = k * 0.0005\n",
    "                elif car_birth == 2014:\n",
    "                    if V <= 79.6:\n",
    "                        EFi_CO = 0.6602 * (V**-0.7666)\n",
    "                        EFi_HC = 0.0911 * (V**-1.0745)\n",
    "                    else:\n",
    "                        EFi_CO = 4.2909 * (10**-16) * (V**7.2766)\n",
    "                        EFi_HC = 8.5667 * (10**-16) * (V**6.2696)\n",
    "                    EFi_NOx = -3.5413 * (10**-6) * (V**2) + 5.3120 * (10**-4) * V + 4.8693 * (10**-3)\n",
    "                    if V < 85:\n",
    "                        EFi_PM10 = 0.0002\n",
    "                        EFi_PM2_5 = k * 0.0002\n",
    "                    else:\n",
    "                        EFi_PM10 = 0.0005\n",
    "                        EFi_PM2_5 = k * 0.0005\n",
    "                elif 2015 <= car_birth:\n",
    "                    if V <= 79.6:\n",
    "                        EFi_CO = 0.6374 * (V**-0.7666)\n",
    "                        EFi_HC = 0.0879 * (V**-1.0745)\n",
    "                    else:\n",
    "                        EFi_CO = 4.1425 * (10**-16) * (V**7.2766)\n",
    "                        EFi_HC = 8.2667 * (10**-16) * (V**6.2696)\n",
    "                    EFi_NOx = -3.4453 * (10**-6) * (V**2) + 5.1680 * (10**-4) * V + 4.7373 * (10**-3)\n",
    "                    if V < 85:\n",
    "                        EFi_PM10 = 0.0002\n",
    "                        EFi_PM2_5 = k * 0.0002\n",
    "                    else:\n",
    "                        EFi_PM10 = 0.0005\n",
    "                        EFi_PM2_5 = k * 0.0005\n",
    "                if V <= 60:\n",
    "                    EFi_NH3 = 0.0095\n",
    "                elif 60 < V <= 90:\n",
    "                    EFi_NH3 = 0.0082\n",
    "                elif V > 90:\n",
    "                    EFi_NH3 = 0.022\n",
    "            elif ( (car_type == '승용') and ( (car_size == '중형') or (car_size == '대형') ) or ( (car_type == '특수') and (car_size == '중형') ) ): # 최 확인(2023.04.20) : 특수 중형 -> 승용 중형 조건으로 계산\n",
    "                if car_birth <= 1990:\n",
    "                    EFi_CO = 72.338 * (V**-0.7587)\n",
    "                    EFi_HC = 26.532 * (V**-1.0423)\n",
    "                    EFi_NOx = 9.3011 * (V**-0.6781)\n",
    "                    if V < 85:\n",
    "                        EFi_PM10 = 0.0002\n",
    "                        EFi_PM2_5 = k * 0.0002\n",
    "                    else:\n",
    "                        EFi_PM10 = 0.0005\n",
    "                        EFi_PM2_5 = k * 0.0005\n",
    "                elif 1991 <= car_birth == 1996:\n",
    "                    EFi_CO = 29.825 * (V**-0.6771)\n",
    "                    EFi_HC = 26.520 * (V**-1.4041)\n",
    "                    EFi_NOx = 11.287 * (V**-0.7634)\n",
    "                    if V < 85:\n",
    "                        EFi_PM10 = 0.0002\n",
    "                        EFi_PM2_5 = k * 0.0002\n",
    "                    else:\n",
    "                        EFi_PM10 = 0.0005\n",
    "                        EFi_PM2_5 = k * 0.0005\n",
    "                elif 1997 <= car_birth <= 1999:\n",
    "                    EFi_CO = 29.825 * (V**-0.6771)\n",
    "                    EFi_HC = 4.7595 * (V**-0.9512)\n",
    "                    EFi_NOx = 12.562 * (V**-0.8606)\n",
    "                    if V < 85:\n",
    "                        EFi_PM10 = 0.0002\n",
    "                        EFi_PM2_5 = k * 0.0002\n",
    "                    else:\n",
    "                        EFi_PM10 = 0.0005\n",
    "                        EFi_PM2_5 = k * 0.0005\n",
    "                elif 2000 <= car_birth <= 2005:\n",
    "                    EFi_CO = 17.829 * (V**-0.6778)\n",
    "                    EFi_HC = 6.3668 * (V**-1.2849)\n",
    "                    EFi_NOx = 8.8952 * (V**-0.8119)\n",
    "                    if V < 85:\n",
    "                        EFi_PM10 = 0.0002\n",
    "                        EFi_PM2_5 = k * 0.0002\n",
    "                    else:\n",
    "                        EFi_PM10 = 0.0005\n",
    "                        EFi_PM2_5 = k * 0.0005\n",
    "                elif 2006 <= car_birth <= 2007:\n",
    "                    EFi_CO = 73.022 * (V**-1.2078)\n",
    "                    EFi_HC = 4.4166 * (V**-1.5356)\n",
    "                    EFi_NOx = 2.0280 * (V**-0.7978)\n",
    "                    if V < 85:\n",
    "                        EFi_PM10 = 0.0002\n",
    "                        EFi_PM2_5 = k * 0.0002\n",
    "                    else:\n",
    "                        EFi_PM10 = 0.0005\n",
    "                        EFi_PM2_5 = k * 0.0005\n",
    "                elif car_birth == 2008:\n",
    "                    if V <= 79.6:\n",
    "                        EFi_CO = 0.7693 * (V**-0.7666)\n",
    "                        EFi_HC = 0.1063 * (V**-1.0745)\n",
    "                    else:\n",
    "                        EFi_CO = 5.0000 * (10**-16) * (V**7.2766)\n",
    "                        EFi_HC = 1.0000 * (10**-15) * (V**6.2696)\n",
    "                    EFi_NOx = -4.0000 * (10**-6) * (V**2) + 6.0000 * (10**-4) * V + 5.5000 * (10**-3)\n",
    "                    if V < 85:\n",
    "                        EFi_PM10 = 0.0002\n",
    "                        EFi_PM2_5 = k * 0.0002\n",
    "                    else:\n",
    "                        EFi_PM10 = 0.0005\n",
    "                        EFi_PM2_5 = k * 0.0005\n",
    "                elif 2009 <= car_birth <= 2011:\n",
    "                    if V <= 79.6:\n",
    "                        EFi_CO = 0.7059 * (V**-0.7666)\n",
    "                        EFi_HC = 0.0974 * (V**-1.0745)\n",
    "                    else:\n",
    "                        EFi_CO = 4.5878 * (10**-16) * (V**7.2766)\n",
    "                        EFi_HC = 9.1667 * (10**-16) * (V**6.2696)\n",
    "                    EFi_NOx = -3.7333 * (10**-6) * (V**2) + 5.6000 * (10**-4) * V + 5.1333 * (10**-3)\n",
    "                    if V < 85:\n",
    "                        EFi_PM10 = 0.0002\n",
    "                        EFi_PM2_5 = k * 0.0002\n",
    "                    else:\n",
    "                        EFi_PM10 = 0.0005\n",
    "                        EFi_PM2_5 = k * 0.0005\n",
    "                elif 2012 <= car_birth <= 2013:\n",
    "                    if V <= 79.6:\n",
    "                        EFi_CO = 0.6830 * (V**-0.7666)\n",
    "                        EFi_HC = 0.0943 * (V**-1.0745)\n",
    "                    else:\n",
    "                        EFi_CO = 4.4393 * (10**-16) * (V**7.2766)\n",
    "                        EFi_HC = 8.8667 * (10**-16) * (V**6.2696)\n",
    "                    EFi_NOx = -3.6373 * (10**-6) * (V**2) + 5.4560 * (10**-4) * V + 5.0013 * (10**-3)\n",
    "                    if V < 85:\n",
    "                        EFi_PM10 = 0.0002\n",
    "                        EFi_PM2_5 = k * 0.0002\n",
    "                    else:\n",
    "                        EFi_PM10 = 0.0005\n",
    "                        EFi_PM2_5 = k * 0.0005\n",
    "                elif car_birth == 2014:\n",
    "                    if V <= 79.6:\n",
    "                        EFi_CO = 0.6602 * (V**-0.7666)\n",
    "                        EFi_HC = 0.0911 * (V**-1.0745)\n",
    "                    else:\n",
    "                        EFi_CO = 4.2909 * (10**-16) * (V**7.2766)\n",
    "                        EFi_HC = 8.5667 * (10**-16) * (V**6.2696)\n",
    "                    EFi_NOx = -3.5413 * (10**-6) * (V**2) + 5.3120 * (10**-4) * V + 4.8693 * (10**-3)\n",
    "                    if V < 85:\n",
    "                        EFi_PM10 = 0.0002\n",
    "                        EFi_PM2_5 = k * 0.0002\n",
    "                    else:\n",
    "                        EFi_PM10 = 0.0005\n",
    "                        EFi_PM2_5 = k * 0.0005\n",
    "                elif 2015 <= car_birth:\n",
    "                    if V <= 79.6:\n",
    "                        EFi_CO = 0.6374 * (V**-0.7666)\n",
    "                        EFi_HC = 0.0879 * (V**-1.0745)\n",
    "                    else:\n",
    "                        EFi_CO = 4.1425 * (10**-16) * (V**7.2766)\n",
    "                        EFi_HC = 8.2667 * (10**-16) * (V**6.2696)\n",
    "                    EFi_NOx = -3.4453 * (10**-6) * (V**2) + 5.1680 * (10**-4) * V + 4.7373 * (10**-3)\n",
    "                    if V < 85:\n",
    "                        EFi_PM10 = 0.0002\n",
    "                        EFi_PM2_5 = k * 0.0002\n",
    "                    else:\n",
    "                        EFi_PM10 = 0.0005\n",
    "                        EFi_PM2_5 = k * 0.0005\n",
    "                if V <= 60:\n",
    "                    EFi_NH3 = 0.0095\n",
    "                elif 60 < V <= 90:\n",
    "                    EFi_NH3 = 0.0082\n",
    "                elif V > 90:\n",
    "                    EFi_NH3 = 0.022\n",
    "            elif ( (car_type == '승합') and (car_size == '경형') ) or ( (car_type == '화물') and (car_size == '경형') ):\n",
    "                if car_birth <= 1996:\n",
    "                    if V <= 45:\n",
    "                        EFi_CO = 22.498 * (V**-0.6579)\n",
    "                    else:\n",
    "                        EFi_CO = 0.0006 * (V**2) + 0.0004 * V + 0.8272\n",
    "                    EFi_HC = 12.961 * (V**-0.8364)\n",
    "                    EFi_NOx = 4.0131 * (V**-0.3236)\n",
    "                    if V < 85:\n",
    "                        EFi_PM10 = 0.0002\n",
    "                        EFi_PM2_5 = k * 0.0002\n",
    "                    else:\n",
    "                        EFi_PM10 = 0.0005\n",
    "                        EFi_PM2_5 = k * 0.0005\n",
    "                elif 1997 <= car_birth == 1999:\n",
    "                    if V <= 45:\n",
    "                        EFi_CO = 19.887 * (V**-0.8461)\n",
    "                    else:\n",
    "                        EFi_CO = -0.0004 * (V**2) + 0.0911 * V - 2.2698\n",
    "                    EFi_HC = 2.2714 * (V**-0.7830)\n",
    "                    EFi_NOx = 1.8528 * (V**-0.3889)\n",
    "                    if V < 85:\n",
    "                        EFi_PM10 = 0.0002\n",
    "                        EFi_PM2_5 = k * 0.0002\n",
    "                    else:\n",
    "                        EFi_PM10 = 0.0005\n",
    "                        EFi_PM2_5 = k * 0.0005\n",
    "                elif 2000 <= car_birth <= 2002:\n",
    "                    if V <= 45:\n",
    "                        EFi_CO = 19.887 * (V**-0.8461)\n",
    "                    else:\n",
    "                        EFi_CO = -0.0004 * (V**2) + 0.0911 * V - 2.2698\n",
    "                    EFi_HC = 2.2714 * (V**-0.7830)\n",
    "                    EFi_NOx = 5.8289 * (V**-0.9198)\n",
    "                    if V < 85:\n",
    "                        EFi_PM10 = 0.0002\n",
    "                        EFi_PM2_5 = k * 0.0002\n",
    "                    else:\n",
    "                        EFi_PM10 = 0.0005\n",
    "                        EFi_PM2_5 = k * 0.0005\n",
    "                elif 2003 <= car_birth <= 2005:\n",
    "                    if V <= 45:\n",
    "                        EFi_CO = 19.887 * (V**-0.8461)\n",
    "                    else:\n",
    "                        EFi_CO = -0.0004 * (V**2) + 0.0911 * V - 2.2698\n",
    "                    EFi_HC = 1.1073 * (V**-0.7830)\n",
    "                    EFi_NOx = 5.8289 * (V**-0.9198)\n",
    "                    if V < 85:\n",
    "                        EFi_PM10 = 0.0002\n",
    "                        EFi_PM2_5 = k * 0.0002\n",
    "                    else:\n",
    "                        EFi_PM10 = 0.0005\n",
    "                        EFi_PM2_5 = k * 0.0005\n",
    "                elif 2006 <= car_birth:\n",
    "                    if V <= 45:\n",
    "                        EFi_CO = 8.9904 * (V**-0.8461)\n",
    "                    else:\n",
    "                        EFi_CO = -0.0002 * (V**2) + 0.0457 * V - 1.1403\n",
    "                    EFi_HC = 0.3549 * (V**-0.7830)\n",
    "                    EFi_NOx = 0.7228 * (V**-0.9198)\n",
    "                    if V < 85:\n",
    "                        EFi_PM10 = 0.0002\n",
    "                        EFi_PM2_5 = k * 0.0002\n",
    "                    else:\n",
    "                        EFi_PM10 = 0.0005\n",
    "                        EFi_PM2_5 = k * 0.0005\n",
    "                if V <= 60:\n",
    "                    EFi_NH3 = 0.0095\n",
    "                elif 60 < V <= 90:\n",
    "                    EFi_NH3 = 0.0082\n",
    "                elif V > 90:\n",
    "                    EFi_NH3 = 0.022\n",
    "            elif (car_type == '승합') and (car_size == '소형'):\n",
    "                if car_birth <= 1990:\n",
    "                    EFi_CO = 72.338 * (V**-0.7587)\n",
    "                    EFi_HC = 26.532 * (V**-1.0423)\n",
    "                    EFi_NOx = 9.3011 * (V**-0.6781)\n",
    "                    if V < 85:\n",
    "                        EFi_PM10 = 0.0002\n",
    "                        EFi_PM2_5 = k * 0.0002\n",
    "                    else:\n",
    "                        EFi_PM10 = 0.0005\n",
    "                        EFi_PM2_5 = k * 0.0005\n",
    "                elif 1991 <= car_birth == 1996:\n",
    "                    EFi_CO = 29.825 * (V**-0.6771)\n",
    "                    EFi_HC = 26.520 * (V**-1.4041)\n",
    "                    EFi_NOx = 11.287 * (V**-0.7634)\n",
    "                    if V < 85:\n",
    "                        EFi_PM10 = 0.0002\n",
    "                        EFi_PM2_5 = k * 0.0002\n",
    "                    else:\n",
    "                        EFi_PM10 = 0.0005\n",
    "                        EFi_PM2_5 = k * 0.0005\n",
    "                elif 1997 <= car_birth <= 1999:\n",
    "                    EFi_CO = 29.825 * (V**-0.6771)\n",
    "                    EFi_HC = 4.7595 * (V**-0.9512)\n",
    "                    EFi_NOx = 12.562 * (V**-0.8606)\n",
    "                    if V < 85:\n",
    "                        EFi_PM10 = 0.0002\n",
    "                        EFi_PM2_5 = k * 0.0002\n",
    "                    else:\n",
    "                        EFi_PM10 = 0.0005\n",
    "                        EFi_PM2_5 = k * 0.0005\n",
    "                elif 2000 <= car_birth <= 2005:\n",
    "                    EFi_CO = 17.829 * (V**-0.6778)\n",
    "                    EFi_HC = 6.3668 * (V**-1.2849)\n",
    "                    EFi_NOx = 8.8952 * (V**-0.8119)\n",
    "                    if V < 85:\n",
    "                        EFi_PM10 = 0.0002\n",
    "                        EFi_PM2_5 = k * 0.0002\n",
    "                    else:\n",
    "                        EFi_PM10 = 0.0005\n",
    "                        EFi_PM2_5 = k * 0.0005\n",
    "                elif 2006 <= car_birth:\n",
    "                    if V <= 65.4:\n",
    "                        EFi_CO = 6.1701 * (V**-1.0719)\n",
    "                        EFi_HC = 2.3782 * (V**-1.9979)\n",
    "                    else:\n",
    "                        EFi_CO = 3.0000 * (10**-10) * (V**4.5809)\n",
    "                        EFi_HC = 5.0000 * (10**-10) * (V**3.4895)\n",
    "                    if V <= 97.3:\n",
    "                        EFi_NOx = 0.4758 * (V**-1.0665)\n",
    "                    if V < 85:\n",
    "                        EFi_PM10 = 0.0002\n",
    "                        EFi_PM2_5 = k * 0.0002\n",
    "                    else:\n",
    "                        EFi_PM10 = 0.0005\n",
    "                        EFi_PM2_5 = k * 0.0005\n",
    "                if V <= 60:\n",
    "                    EFi_NH3 = 0.0095\n",
    "                elif 60 < V <= 90:\n",
    "                    EFi_NH3 = 0.0082\n",
    "                elif V > 90:\n",
    "                    EFi_NH3 = 0.022\n",
    "            # 최 확인(2023.04.20) : 화물 중형 -> 승합 중형 조건, 화물 대형 -> 승합 대형 조건으로 계산\n",
    "            elif ( (car_type == '승합') and ( (car_size == '중형') or (car_size == '대형') ) ) or ( (car_type == '화물') and ((car_size == '소형') or (car_size == '중형') or (car_size == '대형')) ):\n",
    "                if car_birth <= 1990:\n",
    "                    EFi_CO = 72.338 * (V**-0.7587)\n",
    "                    EFi_HC = 26.532 * (V**-1.0423)\n",
    "                    EFi_NOx = 9.3011 * (V**-0.6781)\n",
    "                    if V < 85:\n",
    "                        EFi_PM10 = 0.0002\n",
    "                        EFi_PM2_5 = k * 0.0002\n",
    "                    else:\n",
    "                        EFi_PM10 = 0.0005\n",
    "                        EFi_PM2_5 = k * 0.0005\n",
    "                elif 1991 <= car_birth == 1996:\n",
    "                    EFi_CO = 29.825 * (V**-0.6771)\n",
    "                    EFi_HC = 26.520 * (V**-1.4041)\n",
    "                    EFi_NOx = 11.287 * (V**-0.7634)\n",
    "                    if V < 85:\n",
    "                        EFi_PM10 = 0.0002\n",
    "                        EFi_PM2_5 = k * 0.0002\n",
    "                    else:\n",
    "                        EFi_PM10 = 0.0005\n",
    "                        EFi_PM2_5 = k * 0.0005\n",
    "                elif 1997 <= car_birth <= 1999:\n",
    "                    EFi_CO = 29.825 * (V**-0.6771)\n",
    "                    EFi_HC = 4.7595 * (V**-0.9512)\n",
    "                    EFi_NOx = 12.562 * (V**-0.8606)\n",
    "                    if V < 85:\n",
    "                        EFi_PM10 = 0.0002\n",
    "                        EFi_PM2_5 = k * 0.0002\n",
    "                    else:\n",
    "                        EFi_PM10 = 0.0005\n",
    "                        EFi_PM2_5 = k * 0.0005\n",
    "                elif 2000 <= car_birth <= 2005:\n",
    "                    EFi_CO = 17.829 * (V**-0.6778)\n",
    "                    EFi_HC = 6.3668 * (V**-1.2849)\n",
    "                    EFi_NOx = 8.8952 * (V**-0.8119)\n",
    "                    if V < 85:\n",
    "                        EFi_PM10 = 0.0002\n",
    "                        EFi_PM2_5 = k * 0.0002\n",
    "                    else:\n",
    "                        EFi_PM10 = 0.0005\n",
    "                        EFi_PM2_5 = k * 0.0005\n",
    "                elif 2006 <= car_birth:\n",
    "                    if V <= 65.4:\n",
    "                        EFi_CO = 16.491 * (V**-1.4713)\n",
    "                        EFi_HC = 1.9218 * (V**-1.8418)\n",
    "                    else:\n",
    "                        EFi_CO = 3.0000 * (10**-13) * (V**6.0619)\n",
    "                        EFi_HC = 3.0000 * (10**-9) * (V**3.0639)\n",
    "                    if V <= 97.3:\n",
    "                        EFi_NOx = 0.1246 * (V**-0.441)\n",
    "                    if V < 85:\n",
    "                        EFi_PM10 = 0.0002\n",
    "                        EFi_PM2_5 = k * 0.0002\n",
    "                    else:\n",
    "                        EFi_PM10 = 0.0005\n",
    "                        EFi_PM2_5 = k * 0.0005\n",
    "                if V <= 60:\n",
    "                    EFi_NH3 = 0.0095\n",
    "                elif 60 < V <= 90:\n",
    "                    EFi_NH3 = 0.0082\n",
    "                elif V > 90:\n",
    "                    EFi_NH3 = 0.022\n",
    "        # else:\n",
    "        #     # 값 고민 : 1\n",
    "        #     # EFi_CO, EFi_HC, EFi_NOx, EFi_PM10, EFi_PM2_5 = np.nan, np.nan, np.nan, np.nan, np.nan\n",
    "        #     EFi_CO, EFi_HC, EFi_NOx, EFi_PM10, EFi_PM2_5 = 1, 1, 1, 1, 1\n",
    "\n",
    "        if V < 60:\n",
    "            EFi_COm += EFi_CO*0.34\n",
    "            EFi_HCm += EFi_HC*0.34\n",
    "            EFi_NOxm += EFi_NOx*0.34\n",
    "            EFi_PM10m += EFi_PM10*0.34\n",
    "            EFi_PM2_5m += EFi_PM2_5*0.34\n",
    "            EFi_NH3m += EFi_NH3*0.34\n",
    "        elif 60 <= V < 90:\n",
    "            EFi_COm += EFi_CO*0.33\n",
    "            EFi_HCm += EFi_HC*0.33\n",
    "            EFi_NOxm += EFi_NOx*0.33\n",
    "            EFi_PM10m += EFi_PM10*0.33\n",
    "            EFi_PM2_5m += EFi_PM2_5*0.33\n",
    "            EFi_NH3m += EFi_NH3*0.33\n",
    "        elif V > 90:\n",
    "            EFi_COm += EFi_CO*0.33\n",
    "            EFi_HCm += EFi_HC*0.33\n",
    "            EFi_NOxm += EFi_NOx*0.33\n",
    "            EFi_PM10m += EFi_PM10*0.33\n",
    "            EFi_PM2_5m += EFi_PM2_5*0.33\n",
    "            EFi_NH3m += EFi_NH3*0.33\n",
    "\n",
    "    # 배출계수(EFi) 리스트에 저장\n",
    "    EFi_CO_list.append(EFi_COm)\n",
    "    EFi_HC_list.append(EFi_HCm)\n",
    "    EFi_NOx_list.append(EFi_NOxm)\n",
    "    EFi_PM10_list.append(EFi_PM10m)\n",
    "    EFi_PM2_5_list.append(EFi_PM2_5m)\n",
    "    EFi_NH3_list.append(EFi_NH3m)"
   ]
  },
  {
   "cell_type": "code",
   "execution_count": 32,
   "metadata": {},
   "outputs": [
    {
     "data": {
      "text/plain": [
       "25117098"
      ]
     },
     "execution_count": 32,
     "metadata": {},
     "output_type": "execute_result"
    }
   ],
   "source": [
    "df2.shape[0]"
   ]
  },
  {
   "cell_type": "code",
   "execution_count": 33,
   "metadata": {},
   "outputs": [
    {
     "data": {
      "text/plain": [
       "(25117098, 25117098, 25117098, 25117098, 25117098, 25117098)"
      ]
     },
     "execution_count": 33,
     "metadata": {},
     "output_type": "execute_result"
    }
   ],
   "source": [
    "len(EFi_CO_list), len(EFi_HC_list), len(EFi_NOx_list), len(EFi_PM10_list), len(EFi_PM2_5_list), len(EFi_NH3_list)"
   ]
  },
  {
   "cell_type": "code",
   "execution_count": 34,
   "metadata": {},
   "outputs": [],
   "source": [
    "# 28.1s\n",
    "df2['EFi_CO'] = EFi_CO_list\n",
    "df2['EFi_HC'] = EFi_HC_list\n",
    "df2['EFi_NOx'] = EFi_NOx_list\n",
    "df2['EFi_PM10'] = EFi_PM10_list\n",
    "df2['EFi_PM2_5'] = EFi_PM2_5_list\n",
    "df2['EFi_NH3'] = EFi_NH3_list"
   ]
  },
  {
   "cell_type": "code",
   "execution_count": 35,
   "metadata": {},
   "outputs": [],
   "source": [
    "check_EFi_col = ['EFi_CO', 'EFi_HC', 'EFi_NOx', 'EFi_PM10', 'EFi_PM2_5']"
   ]
  },
  {
   "attachments": {},
   "cell_type": "markdown",
   "metadata": {},
   "source": [
    "### 배출량 계산"
   ]
  },
  {
   "cell_type": "code",
   "execution_count": 36,
   "metadata": {},
   "outputs": [
    {
     "data": {
      "text/plain": [
       "['fuel',\n",
       " '차종',\n",
       " '차종유형',\n",
       " '차량연식',\n",
       " '차령',\n",
       " 'DF_CO',\n",
       " 'DF_HC',\n",
       " 'DF_PM',\n",
       " 'DF_NOx',\n",
       " 'R_CO',\n",
       " 'R_HC',\n",
       " 'R_PM']"
      ]
     },
     "execution_count": 36,
     "metadata": {},
     "output_type": "execute_result"
    }
   ],
   "source": [
    "DF_col + check_DF_col + check_R_col"
   ]
  },
  {
   "cell_type": "code",
   "execution_count": 37,
   "metadata": {},
   "outputs": [
    {
     "data": {
      "text/html": [
       "<div>\n",
       "<style scoped>\n",
       "    .dataframe tbody tr th:only-of-type {\n",
       "        vertical-align: middle;\n",
       "    }\n",
       "\n",
       "    .dataframe tbody tr th {\n",
       "        vertical-align: top;\n",
       "    }\n",
       "\n",
       "    .dataframe thead th {\n",
       "        text-align: right;\n",
       "    }\n",
       "</style>\n",
       "<table border=\"1\" class=\"dataframe\">\n",
       "  <thead>\n",
       "    <tr style=\"text-align: right;\">\n",
       "      <th></th>\n",
       "      <th>fuel</th>\n",
       "      <th>차종</th>\n",
       "      <th>차종유형</th>\n",
       "      <th>차량연식</th>\n",
       "      <th>차령</th>\n",
       "      <th>DF_CO</th>\n",
       "      <th>DF_HC</th>\n",
       "      <th>DF_PM</th>\n",
       "      <th>DF_NOx</th>\n",
       "      <th>R_CO</th>\n",
       "      <th>R_HC</th>\n",
       "      <th>R_PM</th>\n",
       "      <th>EFi_CO</th>\n",
       "      <th>EFi_HC</th>\n",
       "      <th>EFi_NOx</th>\n",
       "      <th>EFi_PM10</th>\n",
       "      <th>EFi_PM2_5</th>\n",
       "    </tr>\n",
       "  </thead>\n",
       "  <tbody>\n",
       "    <tr>\n",
       "      <th>0</th>\n",
       "      <td>휘발유</td>\n",
       "      <td>승용</td>\n",
       "      <td>중형</td>\n",
       "      <td>2023</td>\n",
       "      <td>0</td>\n",
       "      <td>1.00</td>\n",
       "      <td>1.00</td>\n",
       "      <td>1.00</td>\n",
       "      <td>1.00</td>\n",
       "      <td>0.00</td>\n",
       "      <td>0.00</td>\n",
       "      <td>0.00</td>\n",
       "      <td>0.06</td>\n",
       "      <td>0.00</td>\n",
       "      <td>0.01</td>\n",
       "      <td>0.00</td>\n",
       "      <td>0.00</td>\n",
       "    </tr>\n",
       "    <tr>\n",
       "      <th>1</th>\n",
       "      <td>휘발유</td>\n",
       "      <td>승용</td>\n",
       "      <td>중형</td>\n",
       "      <td>2023</td>\n",
       "      <td>0</td>\n",
       "      <td>1.00</td>\n",
       "      <td>1.00</td>\n",
       "      <td>1.00</td>\n",
       "      <td>1.00</td>\n",
       "      <td>0.00</td>\n",
       "      <td>0.00</td>\n",
       "      <td>0.00</td>\n",
       "      <td>0.06</td>\n",
       "      <td>0.00</td>\n",
       "      <td>0.01</td>\n",
       "      <td>0.00</td>\n",
       "      <td>0.00</td>\n",
       "    </tr>\n",
       "    <tr>\n",
       "      <th>2</th>\n",
       "      <td>휘발유</td>\n",
       "      <td>승용</td>\n",
       "      <td>대형</td>\n",
       "      <td>2023</td>\n",
       "      <td>0</td>\n",
       "      <td>1.00</td>\n",
       "      <td>1.00</td>\n",
       "      <td>1.00</td>\n",
       "      <td>1.00</td>\n",
       "      <td>0.00</td>\n",
       "      <td>0.00</td>\n",
       "      <td>0.00</td>\n",
       "      <td>0.08</td>\n",
       "      <td>0.00</td>\n",
       "      <td>0.01</td>\n",
       "      <td>0.00</td>\n",
       "      <td>0.00</td>\n",
       "    </tr>\n",
       "    <tr>\n",
       "      <th>3</th>\n",
       "      <td>휘발유</td>\n",
       "      <td>승용</td>\n",
       "      <td>대형</td>\n",
       "      <td>2023</td>\n",
       "      <td>0</td>\n",
       "      <td>1.00</td>\n",
       "      <td>1.00</td>\n",
       "      <td>1.00</td>\n",
       "      <td>1.00</td>\n",
       "      <td>0.00</td>\n",
       "      <td>0.00</td>\n",
       "      <td>0.00</td>\n",
       "      <td>0.08</td>\n",
       "      <td>0.00</td>\n",
       "      <td>0.01</td>\n",
       "      <td>0.00</td>\n",
       "      <td>0.00</td>\n",
       "    </tr>\n",
       "    <tr>\n",
       "      <th>4</th>\n",
       "      <td>휘발유</td>\n",
       "      <td>승용</td>\n",
       "      <td>대형</td>\n",
       "      <td>2023</td>\n",
       "      <td>0</td>\n",
       "      <td>1.00</td>\n",
       "      <td>1.00</td>\n",
       "      <td>1.00</td>\n",
       "      <td>1.00</td>\n",
       "      <td>0.00</td>\n",
       "      <td>0.00</td>\n",
       "      <td>0.00</td>\n",
       "      <td>0.08</td>\n",
       "      <td>0.00</td>\n",
       "      <td>0.01</td>\n",
       "      <td>0.00</td>\n",
       "      <td>0.00</td>\n",
       "    </tr>\n",
       "  </tbody>\n",
       "</table>\n",
       "</div>"
      ],
      "text/plain": [
       "  fuel  차종 차종유형  차량연식  차령  DF_CO  DF_HC  DF_PM  DF_NOx  R_CO  R_HC  R_PM   \n",
       "0  휘발유  승용   중형  2023   0   1.00   1.00   1.00    1.00  0.00  0.00  0.00  \\\n",
       "1  휘발유  승용   중형  2023   0   1.00   1.00   1.00    1.00  0.00  0.00  0.00   \n",
       "2  휘발유  승용   대형  2023   0   1.00   1.00   1.00    1.00  0.00  0.00  0.00   \n",
       "3  휘발유  승용   대형  2023   0   1.00   1.00   1.00    1.00  0.00  0.00  0.00   \n",
       "4  휘발유  승용   대형  2023   0   1.00   1.00   1.00    1.00  0.00  0.00  0.00   \n",
       "\n",
       "   EFi_CO  EFi_HC  EFi_NOx  EFi_PM10  EFi_PM2_5  \n",
       "0    0.06    0.00     0.01      0.00       0.00  \n",
       "1    0.06    0.00     0.01      0.00       0.00  \n",
       "2    0.08    0.00     0.01      0.00       0.00  \n",
       "3    0.08    0.00     0.01      0.00       0.00  \n",
       "4    0.08    0.00     0.01      0.00       0.00  "
      ]
     },
     "execution_count": 37,
     "metadata": {},
     "output_type": "execute_result"
    }
   ],
   "source": [
    "df2[DF_col + check_DF_col + check_R_col + check_EFi_col].head()"
   ]
  },
  {
   "cell_type": "code",
   "execution_count": 38,
   "metadata": {},
   "outputs": [],
   "source": [
    "# E = VKT * (EFi / 1000) * DF * (1 - R / 100)\n",
    "df2['E_HOT_CO'] = df2['VKT'] * (df2['EFi_CO'] / 1000) * df2['DF_CO'] * (1 - df2['R_CO'] / 100)\n",
    "df2['E_HOT_HC'] = df2['VKT'] * (df2['EFi_HC'] / 1000) * df2['DF_HC'] * (1 - df2['R_HC'] / 100)\n",
    "df2['E_HOT_NOx'] = df2['VKT'] * (df2['EFi_NOx'] / 1000) * df2['DF_NOx'] * (1 - 0 / 100)\n",
    "df2['E_HOT_PM10'] = df2['VKT'] * (df2['EFi_PM10'] / 1000) * df2['DF_PM'] * (1 - df2['R_PM'] / 100)\n",
    "df2['E_HOT_PM2_5'] = df2['VKT'] * (df2['EFi_PM2_5'] / 1000) * df2['DF_PM'] * (1 - df2['R_PM'] / 100)"
   ]
  },
  {
   "cell_type": "code",
   "execution_count": 39,
   "metadata": {},
   "outputs": [],
   "source": [
    "check_E_HOT_col = ['E_HOT_CO', 'E_HOT_HC', 'E_HOT_NOx', 'E_HOT_PM10', 'E_HOT_PM2_5']"
   ]
  },
  {
   "cell_type": "code",
   "execution_count": 40,
   "metadata": {},
   "outputs": [
    {
     "data": {
      "text/html": [
       "<div>\n",
       "<style scoped>\n",
       "    .dataframe tbody tr th:only-of-type {\n",
       "        vertical-align: middle;\n",
       "    }\n",
       "\n",
       "    .dataframe tbody tr th {\n",
       "        vertical-align: top;\n",
       "    }\n",
       "\n",
       "    .dataframe thead th {\n",
       "        text-align: right;\n",
       "    }\n",
       "</style>\n",
       "<table border=\"1\" class=\"dataframe\">\n",
       "  <thead>\n",
       "    <tr style=\"text-align: right;\">\n",
       "      <th></th>\n",
       "      <th>fuel</th>\n",
       "      <th>차종</th>\n",
       "      <th>차종유형</th>\n",
       "      <th>차량연식</th>\n",
       "      <th>차령</th>\n",
       "      <th>DF_CO</th>\n",
       "      <th>DF_HC</th>\n",
       "      <th>DF_PM</th>\n",
       "      <th>DF_NOx</th>\n",
       "      <th>R_CO</th>\n",
       "      <th>...</th>\n",
       "      <th>EFi_CO</th>\n",
       "      <th>EFi_HC</th>\n",
       "      <th>EFi_NOx</th>\n",
       "      <th>EFi_PM10</th>\n",
       "      <th>EFi_PM2_5</th>\n",
       "      <th>E_HOT_CO</th>\n",
       "      <th>E_HOT_HC</th>\n",
       "      <th>E_HOT_NOx</th>\n",
       "      <th>E_HOT_PM10</th>\n",
       "      <th>E_HOT_PM2_5</th>\n",
       "    </tr>\n",
       "  </thead>\n",
       "  <tbody>\n",
       "    <tr>\n",
       "      <th>0</th>\n",
       "      <td>휘발유</td>\n",
       "      <td>승용</td>\n",
       "      <td>중형</td>\n",
       "      <td>2023</td>\n",
       "      <td>0</td>\n",
       "      <td>1.00</td>\n",
       "      <td>1.00</td>\n",
       "      <td>1.00</td>\n",
       "      <td>1.00</td>\n",
       "      <td>0.00</td>\n",
       "      <td>...</td>\n",
       "      <td>0.06</td>\n",
       "      <td>0.00</td>\n",
       "      <td>0.01</td>\n",
       "      <td>0.00</td>\n",
       "      <td>0.00</td>\n",
       "      <td>0.78</td>\n",
       "      <td>0.02</td>\n",
       "      <td>0.16</td>\n",
       "      <td>0.01</td>\n",
       "      <td>0.01</td>\n",
       "    </tr>\n",
       "    <tr>\n",
       "      <th>1</th>\n",
       "      <td>휘발유</td>\n",
       "      <td>승용</td>\n",
       "      <td>중형</td>\n",
       "      <td>2023</td>\n",
       "      <td>0</td>\n",
       "      <td>1.00</td>\n",
       "      <td>1.00</td>\n",
       "      <td>1.00</td>\n",
       "      <td>1.00</td>\n",
       "      <td>0.00</td>\n",
       "      <td>...</td>\n",
       "      <td>0.06</td>\n",
       "      <td>0.00</td>\n",
       "      <td>0.01</td>\n",
       "      <td>0.00</td>\n",
       "      <td>0.00</td>\n",
       "      <td>0.80</td>\n",
       "      <td>0.02</td>\n",
       "      <td>0.16</td>\n",
       "      <td>0.01</td>\n",
       "      <td>0.01</td>\n",
       "    </tr>\n",
       "    <tr>\n",
       "      <th>2</th>\n",
       "      <td>휘발유</td>\n",
       "      <td>승용</td>\n",
       "      <td>대형</td>\n",
       "      <td>2023</td>\n",
       "      <td>0</td>\n",
       "      <td>1.00</td>\n",
       "      <td>1.00</td>\n",
       "      <td>1.00</td>\n",
       "      <td>1.00</td>\n",
       "      <td>0.00</td>\n",
       "      <td>...</td>\n",
       "      <td>0.08</td>\n",
       "      <td>0.00</td>\n",
       "      <td>0.01</td>\n",
       "      <td>0.00</td>\n",
       "      <td>0.00</td>\n",
       "      <td>1.32</td>\n",
       "      <td>0.02</td>\n",
       "      <td>0.21</td>\n",
       "      <td>0.01</td>\n",
       "      <td>0.01</td>\n",
       "    </tr>\n",
       "    <tr>\n",
       "      <th>3</th>\n",
       "      <td>휘발유</td>\n",
       "      <td>승용</td>\n",
       "      <td>대형</td>\n",
       "      <td>2023</td>\n",
       "      <td>0</td>\n",
       "      <td>1.00</td>\n",
       "      <td>1.00</td>\n",
       "      <td>1.00</td>\n",
       "      <td>1.00</td>\n",
       "      <td>0.00</td>\n",
       "      <td>...</td>\n",
       "      <td>0.08</td>\n",
       "      <td>0.00</td>\n",
       "      <td>0.01</td>\n",
       "      <td>0.00</td>\n",
       "      <td>0.00</td>\n",
       "      <td>1.32</td>\n",
       "      <td>0.02</td>\n",
       "      <td>0.21</td>\n",
       "      <td>0.01</td>\n",
       "      <td>0.01</td>\n",
       "    </tr>\n",
       "    <tr>\n",
       "      <th>4</th>\n",
       "      <td>휘발유</td>\n",
       "      <td>승용</td>\n",
       "      <td>대형</td>\n",
       "      <td>2023</td>\n",
       "      <td>0</td>\n",
       "      <td>1.00</td>\n",
       "      <td>1.00</td>\n",
       "      <td>1.00</td>\n",
       "      <td>1.00</td>\n",
       "      <td>0.00</td>\n",
       "      <td>...</td>\n",
       "      <td>0.08</td>\n",
       "      <td>0.00</td>\n",
       "      <td>0.01</td>\n",
       "      <td>0.00</td>\n",
       "      <td>0.00</td>\n",
       "      <td>1.29</td>\n",
       "      <td>0.02</td>\n",
       "      <td>0.21</td>\n",
       "      <td>0.01</td>\n",
       "      <td>0.01</td>\n",
       "    </tr>\n",
       "  </tbody>\n",
       "</table>\n",
       "<p>5 rows × 22 columns</p>\n",
       "</div>"
      ],
      "text/plain": [
       "  fuel  차종 차종유형  차량연식  차령  DF_CO  DF_HC  DF_PM  DF_NOx  R_CO  ...  EFi_CO   \n",
       "0  휘발유  승용   중형  2023   0   1.00   1.00   1.00    1.00  0.00  ...    0.06  \\\n",
       "1  휘발유  승용   중형  2023   0   1.00   1.00   1.00    1.00  0.00  ...    0.06   \n",
       "2  휘발유  승용   대형  2023   0   1.00   1.00   1.00    1.00  0.00  ...    0.08   \n",
       "3  휘발유  승용   대형  2023   0   1.00   1.00   1.00    1.00  0.00  ...    0.08   \n",
       "4  휘발유  승용   대형  2023   0   1.00   1.00   1.00    1.00  0.00  ...    0.08   \n",
       "\n",
       "   EFi_HC  EFi_NOx  EFi_PM10  EFi_PM2_5  E_HOT_CO  E_HOT_HC  E_HOT_NOx   \n",
       "0    0.00     0.01      0.00       0.00      0.78      0.02       0.16  \\\n",
       "1    0.00     0.01      0.00       0.00      0.80      0.02       0.16   \n",
       "2    0.00     0.01      0.00       0.00      1.32      0.02       0.21   \n",
       "3    0.00     0.01      0.00       0.00      1.32      0.02       0.21   \n",
       "4    0.00     0.01      0.00       0.00      1.29      0.02       0.21   \n",
       "\n",
       "   E_HOT_PM10  E_HOT_PM2_5  \n",
       "0        0.01         0.01  \n",
       "1        0.01         0.01  \n",
       "2        0.01         0.01  \n",
       "3        0.01         0.01  \n",
       "4        0.01         0.01  \n",
       "\n",
       "[5 rows x 22 columns]"
      ]
     },
     "execution_count": 40,
     "metadata": {},
     "output_type": "execute_result"
    }
   ],
   "source": [
    "df2[DF_col + check_DF_col + check_R_col + check_EFi_col + check_E_HOT_col].head()"
   ]
  },
  {
   "cell_type": "code",
   "execution_count": 41,
   "metadata": {},
   "outputs": [
    {
     "data": {
      "text/plain": [
       "(25117098, 38)"
      ]
     },
     "execution_count": 41,
     "metadata": {},
     "output_type": "execute_result"
    }
   ],
   "source": [
    "df2.shape"
   ]
  },
  {
   "attachments": {},
   "cell_type": "markdown",
   "metadata": {},
   "source": [
    "## 자동차-엔진 미가열(Cold-start) 배출"
   ]
  },
  {
   "attachments": {},
   "cell_type": "markdown",
   "metadata": {},
   "source": [
    "### 배출량 식\n",
    "$$E_{COLD :i, j} = \\beta_{i, j} \\times N_j \\times M_j \\times e^{HOT}_j \\times (e^{COLD} / e^{HOT} \\vert_{i, j} - 1)$$\n",
    "\n",
    "- $E_{COLD :i, j}$ : 차종 $j$에서 배출되는 오염물질 $i$의 엔진미가열 배출량\n",
    "- $\\beta_{i, j}$ : 차종 $j$의 엔진미가열 상태의 주행거리 분율\n",
    "- $N_j$ : 차종 $j$의 수\n",
    "- $M_j$ : 차종 $j$의 주행거리\n",
    "- $e^{HOT}_j$ : 차종 $j$의 엔진가열 상태에서의 배출계수\n",
    "- $e^{COLD} / e^{HOT} \\vert_{i, j}$ : 차종 $j$의 엔진가열상태 대비 엔진미가열 상태에서의 배출 비율"
   ]
  },
  {
   "attachments": {},
   "cell_type": "markdown",
   "metadata": {},
   "source": [
    "### 베타($\\beta$)\n",
    "- 1회 평균주행거리(1 trip length)와 대기온도, 자동차 이용 패턴을 고려\n",
    "    - 1회 평균주행거리 정보는 모든 차종에 대하여 각각 적용하는 방안은 수집자료의 한계로 국내 연구결과를 바탕으로 수도권 지역 승용차의 1회 평균 주행거리 12.35km를 적용\n",
    "    - 이때 과대산정 가능성을 염두하여, 도시지역의 택시를 제외한 승용차(경형, 소형, 중형, 대형), 승합차(경형, 소형), RV(소형, 중형)에 적용\n",
    "\n",
    "    - 1회 주행거리 : 12.35 km (2002년 기준)\n",
    "    - 미가열 배출 적용 차종 : 승용차(경형, 소형, 중형, 대형) / 승합차(경형, 소형) / RV(소형, 중형)\n",
    "    - 미가열 배출 적용 지역 : 도시지역(고속도로 구간 제외)\n",
    "\n",
    "- 산정식\n",
    "\n",
    "-|Factor $\\beta$의 산정식\n",
    "-|-\n",
    "$Estimated$ $l_{trip}$|$0.647-0.025 \\times l_{trip} - (0.00974 - 0.000385 \\times l_{trip}) \\times T_a$\n",
    "$Measured$ $l_{trip}$|$0.698-0.051 \\times l_{trip} - (0.01051 - 0.000770 \\times l_{trip}) \\times T_a$\n",
    "\n",
    "- $T_a$ : 대기온도\n",
    "- $Estimated$ $l_{trip}$ : 유럽평균(1985) 약 11.8km / 유럽평균(1998) 약 12.4km(Andre et al., 1998)"
   ]
  },
  {
   "cell_type": "code",
   "execution_count": 42,
   "metadata": {},
   "outputs": [],
   "source": [
    "l_trip = 12.35 # 국립환경과학원(2007), 도로 이동오염원 대기오염 배출량 산정방법 개선 및 장래 배출량 예측방법 연구\n",
    "Ta = 12.4 # e-나라지표 (https://www.index.go.kr/unity/potal/main/EachDtlPageDetail.do?idx_cd=1400) 2002년 년 평균 기온"
   ]
  },
  {
   "cell_type": "code",
   "execution_count": 43,
   "metadata": {},
   "outputs": [],
   "source": [
    "df2['Beta(Estimated)'] = 0.647 - 0.025 * l_trip - (0.00974 - 0.000385 * l_trip) * Ta\n",
    "# df2['Beta(Measured)'] = 0.698 - 0.051 * l_trip - (0.01051 - 0.000770 * l_trip) * Ta"
   ]
  },
  {
   "cell_type": "code",
   "execution_count": 44,
   "metadata": {},
   "outputs": [
    {
     "data": {
      "text/plain": [
       "0   0.28\n",
       "1   0.28\n",
       "2   0.28\n",
       "3   0.28\n",
       "4   0.28\n",
       "Name: Beta(Estimated), dtype: float64"
      ]
     },
     "execution_count": 44,
     "metadata": {},
     "output_type": "execute_result"
    }
   ],
   "source": [
    "df2['Beta(Estimated)'].head()"
   ]
  },
  {
   "cell_type": "code",
   "execution_count": 45,
   "metadata": {},
   "outputs": [
    {
     "data": {
      "text/plain": [
       "0"
      ]
     },
     "execution_count": 45,
     "metadata": {},
     "output_type": "execute_result"
    }
   ],
   "source": [
    "df2['Beta(Estimated)'].isnull().sum()"
   ]
  },
  {
   "attachments": {},
   "cell_type": "markdown",
   "metadata": {},
   "source": [
    "### $e^{COLD} / e^{HOT}$"
   ]
  },
  {
   "cell_type": "code",
   "execution_count": 46,
   "metadata": {},
   "outputs": [
    {
     "data": {
      "text/plain": [
       "array(['휘발유', 'LPG', '경유'], dtype=object)"
      ]
     },
     "execution_count": 46,
     "metadata": {},
     "output_type": "execute_result"
    }
   ],
   "source": [
    "df2['fuel'].unique()"
   ]
  },
  {
   "cell_type": "code",
   "execution_count": 47,
   "metadata": {},
   "outputs": [
    {
     "data": {
      "text/plain": [
       "count   25117098.00\n",
       "mean        2014.36\n",
       "std            6.19\n",
       "min         1900.00\n",
       "25%         2011.00\n",
       "50%         2015.00\n",
       "75%         2019.00\n",
       "max         2023.00\n",
       "Name: 차량연식, dtype: float64"
      ]
     },
     "execution_count": 47,
     "metadata": {},
     "output_type": "execute_result"
    }
   ],
   "source": [
    "df2['차량연식'].describe()"
   ]
  },
  {
   "cell_type": "code",
   "execution_count": 48,
   "metadata": {},
   "outputs": [],
   "source": [
    "# 1m 31.7s\n",
    "# 휘발유(자동 제어)\n",
    "df2.loc[(df2['fuel'] == '휘발유') & (df2['차량연식'] < 1991) & ( (df2['차종'] == '승용') | ( (df2['차종'] == '승합') & ((df2['차종유형'] == '경형') | (df2['차종유형'] == '소형')) ) ), 'eCOLD/eHOT_CO'] = 3.7 - 0.09 * Ta\n",
    "df2.loc[(df2['fuel'] == '휘발유') & (df2['차량연식'] >= 1991) & ( (df2['차종'] == '승용') | ( (df2['차종'] == '승합') & ((df2['차종유형'] == '경형') | (df2['차종유형'] == '소형')) ) ), 'eCOLD/eHOT_CO'] = 9.04 - 0.09 * Ta\n",
    "df2.loc[(df2['fuel'] == '휘발유') & (df2['차량연식'] < 1991) & ( (df2['차종'] == '승용') | ( (df2['차종'] == '승합') & ((df2['차종유형'] == '경형') | (df2['차종유형'] == '소형')) ) ), 'eCOLD/eHOT_NOx'] = 1.14 - 0.006 * Ta\n",
    "df2.loc[(df2['fuel'] == '휘발유') & (df2['차량연식'] >= 1991) & ( (df2['차종'] == '승용') | ( (df2['차종'] == '승합') & ((df2['차종유형'] == '경형') | (df2['차종유형'] == '소형')) ) ), 'eCOLD/eHOT_NOx'] = 3.66 - 0.006 * Ta\n",
    "df2.loc[(df2['fuel'] == '휘발유') & (df2['차량연식'] < 1991) & ( (df2['차종'] == '승용') | ( (df2['차종'] == '승합') & ((df2['차종유형'] == '경형') | (df2['차종유형'] == '소형')) ) ), 'eCOLD/eHOT_HC'] = 2.8 - 0.06 * Ta\n",
    "df2.loc[(df2['fuel'] == '휘발유') & (df2['차량연식'] >= 1991) & ( (df2['차종'] == '승용') | ( (df2['차종'] == '승합') & ((df2['차종유형'] == '경형') | (df2['차종유형'] == '소형')) ) ), 'eCOLD/eHOT_HC'] = 12.59 - 0.06 * Ta\n",
    "df2.loc[df2['fuel'] == '휘발유', 'eCOLD/eHOT_PM'] = 1\n",
    "# 경유\n",
    "df2.loc[(df2['fuel'] == '경유') & ( (df2['차종'] == '승용') | ( (df2['차종'] == '승합') & ((df2['차종유형'] == '경형') | (df2['차종유형'] == '소형')) ) ),'eCOLD/eHOT_CO'] = 1.9 - 0.03 * Ta\n",
    "df2.loc[(df2['fuel'] == '경유') & ( (df2['차종'] == '승용') | ( (df2['차종'] == '승합') & ((df2['차종유형'] == '경형') | (df2['차종유형'] == '소형')) ) ),'eCOLD/eHOT_NOx'] = 1.3 - 0.013 * Ta\n",
    "df2.loc[(df2['fuel'] == '경유') & ( (df2['차종'] == '승용') | ( (df2['차종'] == '승합') & ((df2['차종유형'] == '경형') | (df2['차종유형'] == '소형')) ) ),'eCOLD/eHOT_HC'] = 3.1 - 0.09 * Ta\n",
    "df2.loc[(df2['fuel'] == '경유') & ( (df2['차종'] == '승용') | ( (df2['차종'] == '승합') & ((df2['차종유형'] == '경형') | (df2['차종유형'] == '소형')) ) ),'eCOLD/eHOT_PM'] = 3.1 - 0.1 * Ta\n",
    "# LPG\n",
    "df2.loc[(df2['fuel'] == 'LPG') & ( (df2['차종'] == '승용') | ( (df2['차종'] == '승합') & ((df2['차종유형'] == '경형') | (df2['차종유형'] == '소형')) ) ),'eCOLD/eHOT_CO'] = 3.66 - 0.09 * Ta\n",
    "df2.loc[(df2['fuel'] == 'LPG') & ( (df2['차종'] == '승용') | ( (df2['차종'] == '승합') & ((df2['차종유형'] == '경형') | (df2['차종유형'] == '소형')) ) ),'eCOLD/eHOT_NOx'] = 0.98 - 0.006 * Ta\n",
    "df2.loc[(df2['fuel'] == 'LPG') & ( (df2['차종'] == '승용') | ( (df2['차종'] == '승합') & ((df2['차종유형'] == '경형') | (df2['차종유형'] == '소형')) ) ),'eCOLD/eHOT_HC'] = 2.24 - 0.06 * Ta\n",
    "df2.loc[(df2['fuel'] == 'LPG') & ( (df2['차종'] == '승용') | ( (df2['차종'] == '승합') & ((df2['차종유형'] == '경형') | (df2['차종유형'] == '소형')) ) ),'eCOLD/eHOT_PM'] = 1"
   ]
  },
  {
   "cell_type": "code",
   "execution_count": 49,
   "metadata": {},
   "outputs": [
    {
     "data": {
      "text/plain": [
       "eCOLD/eHOT_CO     4282101\n",
       "eCOLD/eHOT_NOx    4282101\n",
       "eCOLD/eHOT_HC     4282101\n",
       "eCOLD/eHOT_PM     4248868\n",
       "dtype: int64"
      ]
     },
     "execution_count": 49,
     "metadata": {},
     "output_type": "execute_result"
    }
   ],
   "source": [
    "check_ecoldhot_col = ['eCOLD/eHOT_CO', 'eCOLD/eHOT_NOx', 'eCOLD/eHOT_HC', 'eCOLD/eHOT_PM']\n",
    "df2[check_ecoldhot_col].isnull().sum()"
   ]
  },
  {
   "cell_type": "code",
   "execution_count": 50,
   "metadata": {},
   "outputs": [
    {
     "data": {
      "text/plain": [
       "eCOLD/eHOT_CO     0\n",
       "eCOLD/eHOT_NOx    0\n",
       "eCOLD/eHOT_HC     0\n",
       "eCOLD/eHOT_PM     0\n",
       "dtype: int64"
      ]
     },
     "execution_count": 50,
     "metadata": {},
     "output_type": "execute_result"
    }
   ],
   "source": [
    "df2[check_ecoldhot_col] = df2[check_ecoldhot_col].fillna(1)\n",
    "df2[check_ecoldhot_col].isnull().sum()"
   ]
  },
  {
   "cell_type": "code",
   "execution_count": 51,
   "metadata": {},
   "outputs": [
    {
     "data": {
      "text/plain": [
       "(0,)"
      ]
     },
     "execution_count": 51,
     "metadata": {},
     "output_type": "execute_result"
    }
   ],
   "source": [
    "df2.loc[df2['eCOLD/eHOT_CO'] < 0, 'eCOLD/eHOT_CO'].shape"
   ]
  },
  {
   "cell_type": "code",
   "execution_count": 52,
   "metadata": {},
   "outputs": [
    {
     "data": {
      "text/plain": [
       "(0,)"
      ]
     },
     "execution_count": 52,
     "metadata": {},
     "output_type": "execute_result"
    }
   ],
   "source": [
    "df2.loc[df2['eCOLD/eHOT_NOx'] < 0, 'eCOLD/eHOT_NOx'].shape"
   ]
  },
  {
   "cell_type": "code",
   "execution_count": 53,
   "metadata": {},
   "outputs": [
    {
     "data": {
      "text/plain": [
       "(0,)"
      ]
     },
     "execution_count": 53,
     "metadata": {},
     "output_type": "execute_result"
    }
   ],
   "source": [
    "df2.loc[df2['eCOLD/eHOT_HC'] < 0, 'eCOLD/eHOT_HC'].shape"
   ]
  },
  {
   "cell_type": "code",
   "execution_count": 54,
   "metadata": {},
   "outputs": [
    {
     "data": {
      "text/plain": [
       "(0,)"
      ]
     },
     "execution_count": 54,
     "metadata": {},
     "output_type": "execute_result"
    }
   ],
   "source": [
    "df2.loc[df2['eCOLD/eHOT_PM'] < 0, 'eCOLD/eHOT_PM'].shape"
   ]
  },
  {
   "attachments": {},
   "cell_type": "markdown",
   "metadata": {},
   "source": [
    "### 배출량 계산"
   ]
  },
  {
   "cell_type": "code",
   "execution_count": 55,
   "metadata": {},
   "outputs": [
    {
     "data": {
      "text/plain": [
       "Index(['법정동코드', '차종', '차대번호', '최초등록일자', '차량연식', '배출가스인증번호', '배출가스등급', '차량말소YN',\n",
       "       '차종유형', '연료', '총중량', '배기량', '등급', 'fuel', '차령', '시도', '시구군', '일일평균주행거리',\n",
       "       '저감장치부착유무', 'VKT', 'DF_CO', 'DF_HC', 'DF_PM', 'DF_NOx', 'R_CO', 'R_HC',\n",
       "       'R_PM', 'EFi_CO', 'EFi_HC', 'EFi_NOx', 'EFi_PM10', 'EFi_PM2_5',\n",
       "       'EFi_NH3', 'E_HOT_CO', 'E_HOT_HC', 'E_HOT_NOx', 'E_HOT_PM10',\n",
       "       'E_HOT_PM2_5', 'Beta(Estimated)', 'eCOLD/eHOT_CO', 'eCOLD/eHOT_NOx',\n",
       "       'eCOLD/eHOT_HC', 'eCOLD/eHOT_PM'],\n",
       "      dtype='object')"
      ]
     },
     "execution_count": 55,
     "metadata": {},
     "output_type": "execute_result"
    }
   ],
   "source": [
    "df2.columns"
   ]
  },
  {
   "attachments": {},
   "cell_type": "markdown",
   "metadata": {},
   "source": [
    "#### 🔺 계산식 고민\n",
    "$$E_{COLD :i, j} = \\beta_{i, j} \\times N_j \\times M_j \\times e^{HOT}_j \\times (e^{COLD} / e^{HOT} \\vert_{i, j} - 1)$$\n",
    "- $M_j$ : 차종 $j$의 주행거리\n",
    "    - 1년 주행거리로 계산? \n",
    "        - VKT\n",
    "    - 1회 주행거리로 계산?\n",
    "        - l_trip"
   ]
  },
  {
   "cell_type": "code",
   "execution_count": 56,
   "metadata": {},
   "outputs": [],
   "source": [
    "#         E      =             B          *     M      *    e(HOT)     * ( e(COLD)/e(HOT)      - 1 )\n",
    "df2['E_COLD_CO'] = df2['Beta(Estimated)'] * df2['VKT'] * df2['EFi_CO'] * (df2['eCOLD/eHOT_CO'] - 1)\n",
    "df2['E_COLD_NOx'] = df2['Beta(Estimated)'] * df2['VKT'] * df2['EFi_NOx'] * (df2['eCOLD/eHOT_NOx'] - 1)\n",
    "df2['E_COLD_HC'] = df2['Beta(Estimated)'] * df2['VKT'] * df2['EFi_HC'] * (df2['eCOLD/eHOT_HC'] - 1)\n",
    "df2['E_COLD_PM10'] = df2['Beta(Estimated)'] * df2['VKT'] * df2['EFi_PM10'] * (df2['eCOLD/eHOT_PM'] - 1)\n",
    "df2['E_COLD_PM2_5'] = df2['Beta(Estimated)'] * df2['VKT'] * df2['EFi_PM2_5'] * (df2['eCOLD/eHOT_PM'] - 1)"
   ]
  },
  {
   "cell_type": "code",
   "execution_count": 57,
   "metadata": {},
   "outputs": [
    {
     "data": {
      "text/plain": [
       "(1758697, 6)"
      ]
     },
     "execution_count": 57,
     "metadata": {},
     "output_type": "execute_result"
    }
   ],
   "source": [
    "df2.loc[df2['E_COLD_NOx'] < 0, ['fuel', 'Beta(Estimated)', 'VKT', 'EFi_NOx', 'eCOLD/eHOT_NOx', 'E_COLD_NOx']].shape"
   ]
  },
  {
   "cell_type": "code",
   "execution_count": 58,
   "metadata": {},
   "outputs": [
    {
     "data": {
      "text/html": [
       "<div>\n",
       "<style scoped>\n",
       "    .dataframe tbody tr th:only-of-type {\n",
       "        vertical-align: middle;\n",
       "    }\n",
       "\n",
       "    .dataframe tbody tr th {\n",
       "        vertical-align: top;\n",
       "    }\n",
       "\n",
       "    .dataframe thead th {\n",
       "        text-align: right;\n",
       "    }\n",
       "</style>\n",
       "<table border=\"1\" class=\"dataframe\">\n",
       "  <thead>\n",
       "    <tr style=\"text-align: right;\">\n",
       "      <th></th>\n",
       "      <th>fuel</th>\n",
       "      <th>Beta(Estimated)</th>\n",
       "      <th>VKT</th>\n",
       "      <th>EFi_NOx</th>\n",
       "      <th>eCOLD/eHOT_NOx</th>\n",
       "      <th>E_COLD_NOx</th>\n",
       "    </tr>\n",
       "  </thead>\n",
       "  <tbody>\n",
       "    <tr>\n",
       "      <th>5</th>\n",
       "      <td>LPG</td>\n",
       "      <td>0.28</td>\n",
       "      <td>12811.50</td>\n",
       "      <td>0.02</td>\n",
       "      <td>0.91</td>\n",
       "      <td>-7.03</td>\n",
       "    </tr>\n",
       "    <tr>\n",
       "      <th>6</th>\n",
       "      <td>LPG</td>\n",
       "      <td>0.28</td>\n",
       "      <td>13578.00</td>\n",
       "      <td>0.02</td>\n",
       "      <td>0.91</td>\n",
       "      <td>-7.45</td>\n",
       "    </tr>\n",
       "    <tr>\n",
       "      <th>7</th>\n",
       "      <td>LPG</td>\n",
       "      <td>0.28</td>\n",
       "      <td>12775.00</td>\n",
       "      <td>0.02</td>\n",
       "      <td>0.91</td>\n",
       "      <td>-7.01</td>\n",
       "    </tr>\n",
       "    <tr>\n",
       "      <th>8</th>\n",
       "      <td>LPG</td>\n",
       "      <td>0.28</td>\n",
       "      <td>13906.50</td>\n",
       "      <td>0.02</td>\n",
       "      <td>0.91</td>\n",
       "      <td>-7.63</td>\n",
       "    </tr>\n",
       "    <tr>\n",
       "      <th>9</th>\n",
       "      <td>LPG</td>\n",
       "      <td>0.28</td>\n",
       "      <td>14855.50</td>\n",
       "      <td>0.02</td>\n",
       "      <td>0.91</td>\n",
       "      <td>-8.15</td>\n",
       "    </tr>\n",
       "  </tbody>\n",
       "</table>\n",
       "</div>"
      ],
      "text/plain": [
       "  fuel  Beta(Estimated)      VKT  EFi_NOx  eCOLD/eHOT_NOx  E_COLD_NOx\n",
       "5  LPG             0.28 12811.50     0.02            0.91       -7.03\n",
       "6  LPG             0.28 13578.00     0.02            0.91       -7.45\n",
       "7  LPG             0.28 12775.00     0.02            0.91       -7.01\n",
       "8  LPG             0.28 13906.50     0.02            0.91       -7.63\n",
       "9  LPG             0.28 14855.50     0.02            0.91       -8.15"
      ]
     },
     "execution_count": 58,
     "metadata": {},
     "output_type": "execute_result"
    }
   ],
   "source": [
    "df2.loc[df2['E_COLD_NOx'] < 0, ['fuel', 'Beta(Estimated)', 'VKT', 'EFi_NOx', 'eCOLD/eHOT_NOx', 'E_COLD_NOx']].head()"
   ]
  },
  {
   "cell_type": "code",
   "execution_count": 59,
   "metadata": {},
   "outputs": [
    {
     "data": {
      "text/html": [
       "<div>\n",
       "<style scoped>\n",
       "    .dataframe tbody tr th:only-of-type {\n",
       "        vertical-align: middle;\n",
       "    }\n",
       "\n",
       "    .dataframe tbody tr th {\n",
       "        vertical-align: top;\n",
       "    }\n",
       "\n",
       "    .dataframe thead th {\n",
       "        text-align: right;\n",
       "    }\n",
       "</style>\n",
       "<table border=\"1\" class=\"dataframe\">\n",
       "  <thead>\n",
       "    <tr style=\"text-align: right;\">\n",
       "      <th></th>\n",
       "      <th>E_HOT_CO</th>\n",
       "      <th>E_HOT_HC</th>\n",
       "      <th>E_HOT_NOx</th>\n",
       "      <th>E_HOT_PM10</th>\n",
       "      <th>E_HOT_PM2_5</th>\n",
       "      <th>E_COLD_CO</th>\n",
       "      <th>E_COLD_NOx</th>\n",
       "      <th>E_COLD_HC</th>\n",
       "      <th>E_COLD_PM10</th>\n",
       "      <th>E_COLD_PM2_5</th>\n",
       "    </tr>\n",
       "  </thead>\n",
       "  <tbody>\n",
       "    <tr>\n",
       "      <th>0</th>\n",
       "      <td>0.78</td>\n",
       "      <td>0.02</td>\n",
       "      <td>0.16</td>\n",
       "      <td>0.01</td>\n",
       "      <td>0.01</td>\n",
       "      <td>1492.93</td>\n",
       "      <td>113.83</td>\n",
       "      <td>51.06</td>\n",
       "      <td>0.00</td>\n",
       "      <td>0.00</td>\n",
       "    </tr>\n",
       "    <tr>\n",
       "      <th>1</th>\n",
       "      <td>0.80</td>\n",
       "      <td>0.02</td>\n",
       "      <td>0.16</td>\n",
       "      <td>0.01</td>\n",
       "      <td>0.01</td>\n",
       "      <td>1526.76</td>\n",
       "      <td>116.41</td>\n",
       "      <td>52.21</td>\n",
       "      <td>0.00</td>\n",
       "      <td>0.00</td>\n",
       "    </tr>\n",
       "    <tr>\n",
       "      <th>2</th>\n",
       "      <td>1.32</td>\n",
       "      <td>0.02</td>\n",
       "      <td>0.21</td>\n",
       "      <td>0.01</td>\n",
       "      <td>0.01</td>\n",
       "      <td>2518.00</td>\n",
       "      <td>149.62</td>\n",
       "      <td>67.11</td>\n",
       "      <td>0.00</td>\n",
       "      <td>0.00</td>\n",
       "    </tr>\n",
       "    <tr>\n",
       "      <th>3</th>\n",
       "      <td>1.32</td>\n",
       "      <td>0.02</td>\n",
       "      <td>0.21</td>\n",
       "      <td>0.01</td>\n",
       "      <td>0.01</td>\n",
       "      <td>2518.00</td>\n",
       "      <td>149.62</td>\n",
       "      <td>67.11</td>\n",
       "      <td>0.00</td>\n",
       "      <td>0.00</td>\n",
       "    </tr>\n",
       "    <tr>\n",
       "      <th>4</th>\n",
       "      <td>1.29</td>\n",
       "      <td>0.02</td>\n",
       "      <td>0.21</td>\n",
       "      <td>0.01</td>\n",
       "      <td>0.01</td>\n",
       "      <td>2474.58</td>\n",
       "      <td>147.04</td>\n",
       "      <td>65.95</td>\n",
       "      <td>0.00</td>\n",
       "      <td>0.00</td>\n",
       "    </tr>\n",
       "  </tbody>\n",
       "</table>\n",
       "</div>"
      ],
      "text/plain": [
       "   E_HOT_CO  E_HOT_HC  E_HOT_NOx  E_HOT_PM10  E_HOT_PM2_5  E_COLD_CO   \n",
       "0      0.78      0.02       0.16        0.01         0.01    1492.93  \\\n",
       "1      0.80      0.02       0.16        0.01         0.01    1526.76   \n",
       "2      1.32      0.02       0.21        0.01         0.01    2518.00   \n",
       "3      1.32      0.02       0.21        0.01         0.01    2518.00   \n",
       "4      1.29      0.02       0.21        0.01         0.01    2474.58   \n",
       "\n",
       "   E_COLD_NOx  E_COLD_HC  E_COLD_PM10  E_COLD_PM2_5  \n",
       "0      113.83      51.06         0.00          0.00  \n",
       "1      116.41      52.21         0.00          0.00  \n",
       "2      149.62      67.11         0.00          0.00  \n",
       "3      149.62      67.11         0.00          0.00  \n",
       "4      147.04      65.95         0.00          0.00  "
      ]
     },
     "execution_count": 59,
     "metadata": {},
     "output_type": "execute_result"
    }
   ],
   "source": [
    "check_E_cold_col = ['E_COLD_CO', 'E_COLD_NOx', 'E_COLD_HC', 'E_COLD_PM10', 'E_COLD_PM2_5']\n",
    "df2[check_E_HOT_col + check_E_cold_col].head()"
   ]
  },
  {
   "cell_type": "code",
   "execution_count": 60,
   "metadata": {},
   "outputs": [
    {
     "data": {
      "text/html": [
       "<div>\n",
       "<style scoped>\n",
       "    .dataframe tbody tr th:only-of-type {\n",
       "        vertical-align: middle;\n",
       "    }\n",
       "\n",
       "    .dataframe tbody tr th {\n",
       "        vertical-align: top;\n",
       "    }\n",
       "\n",
       "    .dataframe thead th {\n",
       "        text-align: right;\n",
       "    }\n",
       "</style>\n",
       "<table border=\"1\" class=\"dataframe\">\n",
       "  <thead>\n",
       "    <tr style=\"text-align: right;\">\n",
       "      <th></th>\n",
       "      <th>E_HOT_CO</th>\n",
       "      <th>E_HOT_HC</th>\n",
       "      <th>E_HOT_NOx</th>\n",
       "      <th>E_HOT_PM10</th>\n",
       "      <th>E_HOT_PM2_5</th>\n",
       "      <th>E_COLD_CO</th>\n",
       "      <th>E_COLD_NOx</th>\n",
       "      <th>E_COLD_HC</th>\n",
       "      <th>E_COLD_PM10</th>\n",
       "      <th>E_COLD_PM2_5</th>\n",
       "    </tr>\n",
       "  </thead>\n",
       "  <tbody>\n",
       "    <tr>\n",
       "      <th>25117093</th>\n",
       "      <td>111.87</td>\n",
       "      <td>36.94</td>\n",
       "      <td>114.11</td>\n",
       "      <td>12.88</td>\n",
       "      <td>11.85</td>\n",
       "      <td>0.00</td>\n",
       "      <td>0.00</td>\n",
       "      <td>0.00</td>\n",
       "      <td>0.00</td>\n",
       "      <td>0.00</td>\n",
       "    </tr>\n",
       "    <tr>\n",
       "      <th>25117094</th>\n",
       "      <td>234.20</td>\n",
       "      <td>57.98</td>\n",
       "      <td>260.10</td>\n",
       "      <td>25.71</td>\n",
       "      <td>23.65</td>\n",
       "      <td>0.00</td>\n",
       "      <td>0.00</td>\n",
       "      <td>0.00</td>\n",
       "      <td>0.00</td>\n",
       "      <td>0.00</td>\n",
       "    </tr>\n",
       "    <tr>\n",
       "      <th>25117095</th>\n",
       "      <td>125.34</td>\n",
       "      <td>41.45</td>\n",
       "      <td>585.35</td>\n",
       "      <td>38.36</td>\n",
       "      <td>35.30</td>\n",
       "      <td>0.00</td>\n",
       "      <td>0.00</td>\n",
       "      <td>0.00</td>\n",
       "      <td>0.00</td>\n",
       "      <td>0.00</td>\n",
       "    </tr>\n",
       "    <tr>\n",
       "      <th>25117096</th>\n",
       "      <td>98.86</td>\n",
       "      <td>24.48</td>\n",
       "      <td>109.80</td>\n",
       "      <td>10.85</td>\n",
       "      <td>9.98</td>\n",
       "      <td>0.00</td>\n",
       "      <td>0.00</td>\n",
       "      <td>0.00</td>\n",
       "      <td>0.00</td>\n",
       "      <td>0.00</td>\n",
       "    </tr>\n",
       "    <tr>\n",
       "      <th>25117097</th>\n",
       "      <td>133.88</td>\n",
       "      <td>44.28</td>\n",
       "      <td>625.23</td>\n",
       "      <td>40.98</td>\n",
       "      <td>37.70</td>\n",
       "      <td>0.00</td>\n",
       "      <td>0.00</td>\n",
       "      <td>0.00</td>\n",
       "      <td>0.00</td>\n",
       "      <td>0.00</td>\n",
       "    </tr>\n",
       "  </tbody>\n",
       "</table>\n",
       "</div>"
      ],
      "text/plain": [
       "          E_HOT_CO  E_HOT_HC  E_HOT_NOx  E_HOT_PM10  E_HOT_PM2_5  E_COLD_CO   \n",
       "25117093    111.87     36.94     114.11       12.88        11.85       0.00  \\\n",
       "25117094    234.20     57.98     260.10       25.71        23.65       0.00   \n",
       "25117095    125.34     41.45     585.35       38.36        35.30       0.00   \n",
       "25117096     98.86     24.48     109.80       10.85         9.98       0.00   \n",
       "25117097    133.88     44.28     625.23       40.98        37.70       0.00   \n",
       "\n",
       "          E_COLD_NOx  E_COLD_HC  E_COLD_PM10  E_COLD_PM2_5  \n",
       "25117093        0.00       0.00         0.00          0.00  \n",
       "25117094        0.00       0.00         0.00          0.00  \n",
       "25117095        0.00       0.00         0.00          0.00  \n",
       "25117096        0.00       0.00         0.00          0.00  \n",
       "25117097        0.00       0.00         0.00          0.00  "
      ]
     },
     "execution_count": 60,
     "metadata": {},
     "output_type": "execute_result"
    }
   ],
   "source": [
    "df2[check_E_HOT_col + check_E_cold_col].tail()"
   ]
  },
  {
   "cell_type": "code",
   "execution_count": 61,
   "metadata": {},
   "outputs": [
    {
     "data": {
      "text/plain": [
       "E_COLD_CO       0\n",
       "E_COLD_NOx      0\n",
       "E_COLD_HC       0\n",
       "E_COLD_PM10     0\n",
       "E_COLD_PM2_5    0\n",
       "dtype: int64"
      ]
     },
     "execution_count": 61,
     "metadata": {},
     "output_type": "execute_result"
    }
   ],
   "source": [
    "df2[check_E_cold_col].isnull().sum()"
   ]
  },
  {
   "attachments": {},
   "cell_type": "markdown",
   "metadata": {},
   "source": [
    "## 자동차-휘발유 증발 배출"
   ]
  },
  {
   "attachments": {},
   "cell_type": "markdown",
   "metadata": {},
   "source": [
    "### 배출량 식\n",
    "- 3가지\n",
    "    - 주간증발손실(Diurnal loss)\n",
    "    - 고온증발손실(Hot and warm soak)\n",
    "    - 주행손실(Running loss)\n",
    "- 현재('19 배출량 기준) 휘발유 증발 배출원\n",
    "    - 주간증발손실, 주행손실 고려\n",
    "    - 우리나라 휘발유 차량 대부분이 방지설비로 카본 캐니스터를 장착하고 있으므로 $e^{S,HOT}$, $e^{S,WARM}$, 고온증발손실(hot and warm soak) 배출은 없는 것으로 가정\n",
    "\n",
    "---\n",
    "\n",
    "$$E_{EVA, VOC:j} = 365 \\times N_j \\times (e^d + S^c + S^{fi}) + R$$\n",
    "$S^c = (1-q)(p \\times x \\times e^{S, HOT} + w \\times x \\times e^{S,WARM})$\n",
    "\n",
    "$S^{fi} = q \\times e^{fi} \\times x$\n",
    "$$R = m_j(p \\times e^{R,HOT} + w \\times e^{R,WARM})$$\n",
    "\n",
    "- $E_{EVA, VOC:j}$ : 차종 j의 증발손실에 의한 VOC 배출량(g/yr)\n",
    "- $N_j$ : 차종 j의 휘발유 사용 차량 등록대수(대)\n",
    "- $e^d$ : 금속탱크를 가지고 있는 휘발유 차량의 일중 VOC 배출량(g/day-대)\n",
    "- $S^c$ : Carburetor 휘발유 차량의 일중 hot and warm soak 배출량(g/day-대)\n",
    "- $S^{fi}$ : Fuel injection 휘발유 차량의 일중 hot and warm soak 배출량(g/day-대)\n",
    "- $R$ : Running loss에 의한 휘발유 차량의 연중 배출량(g/yr)\n",
    "- $q$ : Fuel injection 휘발유 차량의 비율\n",
    "- $p$ : 가열 엔진 상태로 끝나는 trip의 비율\n",
    "- $x$ : 일평균 통행횟수 $= V_j / 365 \\times l_{trip}$\n",
    "- $w$ : 미가열 엔진 상태료 끝나는 trip의 비율\n",
    "- $e^{S,HOT}$ : Hot soak emission의 평균 배출계수\n",
    "- $e^{S,WARM}$ : Cold and warm soak emission의 평균 배출계수\n",
    "- $e^{fi}$ : Fuel injection 휘발유 차량의 평균 hot and warm soak 배출계수\n",
    "- $e^{R,HOT}$ : 휘발유 차량의 평균 hot running loss 배출계수\n",
    "- $e^{R,WARM}$ : 휘발유 차량의 평균 warm running loss 배출계수\n",
    "- $m_j$ : 차종 j의 연간 총 주행거리\n",
    "- $V_j$ : 차종 j의 1대당 평균 연간 주행거리"
   ]
  },
  {
   "attachments": {},
   "cell_type": "markdown",
   "metadata": {},
   "source": [
    "### 배출계수"
   ]
  },
  {
   "attachments": {},
   "cell_type": "markdown",
   "metadata": {},
   "source": [
    "#### 🔺 수정 중"
   ]
  },
  {
   "attachments": {},
   "cell_type": "markdown",
   "metadata": {},
   "source": [
    "#### $e^d$ Diurnal(g/day)\n",
    "- $e^d$ : 금속탱크를 가지고 있는 휘발유 차량의 일중 VOC 배출량(g/day-대)"
   ]
  },
  {
   "attachments": {},
   "cell_type": "markdown",
   "metadata": {},
   "source": [
    "##### 🔺 RVP(증기압)\n",
    "- 참고 COPERT 3(p.80) Table 6.10: Gasoline fuel specifications\n",
    "    - summer : 60\n",
    "    - winter : 70\n",
    "    - 평균 : 65\n",
    "- 수정 사항(2023.04.20, 최)\n",
    "    - 국내 과학기술원, 환경부 자료 찾아서 사용 추천"
   ]
  },
  {
   "cell_type": "code",
   "execution_count": 62,
   "metadata": {},
   "outputs": [],
   "source": [
    "RVP = 65"
   ]
  },
  {
   "attachments": {},
   "cell_type": "markdown",
   "metadata": {},
   "source": [
    "##### ❗ t_a(기온)\n",
    "- t_a, t_min, t_rise\n",
    "    - 참고 COPERT 3(p.72) Table 5.32: Summary of emission factors for estimating evaporative emissions of gasoline vehicles(all RVp in kPa, all temperatures in °C)\n",
    "        - t_a = (t_max + t_min) / 2\n",
    "        - t_rise = t_max - t_min\n",
    "    - 기상자료개방포털(2002년) 연평균 기온\n",
    "        - https://data.kma.go.kr/stcs/grnd/grndTaList.do?pgmNo=70\n",
    "        - 7.5°C(최저), 12.4°C(평균), 17.9°C(최고)\n",
    "    - 기상자료개방포털(2022년) 연평균 기온\n",
    "        - https://data.kma.go.kr/stcs/grnd/grndTaList.do?pgmNo=70\n",
    "        - 8°C(최저), 12.9°C(평균), 18.6°C(최고)"
   ]
  },
  {
   "cell_type": "code",
   "execution_count": 63,
   "metadata": {},
   "outputs": [],
   "source": [
    "t_min = 8 # 평균 최저 온도\n",
    "t_max = 18.6\n",
    "t_a = (t_min + t_max) / 2\n",
    "t_rise = 10.6 # 평균 상승 온도"
   ]
  },
  {
   "cell_type": "code",
   "execution_count": 64,
   "metadata": {},
   "outputs": [],
   "source": [
    "df2.loc[df2['차량연식'] < 1991, 'e_d'] = 9.1 * np.exp( 0.0158 * (RVP - 61.2) + 0.0574 * (t_min - 22.5) + 0.0614 * (t_rise - 11.7) )\n",
    "df2.loc[df2['차량연식'] >= 1991, 'e_d'] = 0.2 * (9.1 * np.exp( 0.0158 * (RVP - 61.2) + 0.0574 * (t_min - 22.5) + 0.0614 * (t_rise - 11.7) ))"
   ]
  },
  {
   "cell_type": "code",
   "execution_count": 65,
   "metadata": {},
   "outputs": [
    {
     "data": {
      "text/plain": [
       "0"
      ]
     },
     "execution_count": 65,
     "metadata": {},
     "output_type": "execute_result"
    }
   ],
   "source": [
    "df2['e_d'].isnull().sum()"
   ]
  },
  {
   "attachments": {},
   "cell_type": "markdown",
   "metadata": {},
   "source": [
    "#### $e^{R,HOT}$ Hot running loss(g/km)\n",
    "- $e^{R,HOT}$ : 휘발유 차량의 평균 hot running loss 배출계수"
   ]
  },
  {
   "cell_type": "code",
   "execution_count": 66,
   "metadata": {},
   "outputs": [],
   "source": [
    "df2.loc[df2['차량연식'] < 1991, 'e_RHOT'] = 0.136 * np.exp( - 5.967 + 0.04259 * RVP + 0.1773 * t_a)\n",
    "df2.loc[df2['차량연식'] >= 1991, 'e_RHOT'] = 0.1 * (0.136 * np.exp( - 5.967 + 0.04259 * RVP + 0.1773 * t_a))"
   ]
  },
  {
   "cell_type": "code",
   "execution_count": 67,
   "metadata": {},
   "outputs": [
    {
     "data": {
      "text/plain": [
       "0"
      ]
     },
     "execution_count": 67,
     "metadata": {},
     "output_type": "execute_result"
    }
   ],
   "source": [
    "df2['e_RHOT'].isnull().sum()"
   ]
  },
  {
   "attachments": {},
   "cell_type": "markdown",
   "metadata": {},
   "source": [
    "#### $e^{S,HOT}$ Hot soak(g/procedure)\n",
    "- $e^{S,HOT}$ : Hot soak emission의 평균 배출계수"
   ]
  },
  {
   "cell_type": "code",
   "execution_count": 68,
   "metadata": {},
   "outputs": [],
   "source": [
    "df2.loc[df2['차량연식'] < 1991, 'e_SHOT'] = 3.0042 * np.exp(0.02 * RVP)\n",
    "df2.loc[df2['차량연식'] >= 1991, 'e_SHOT'] = 0.3 * np.exp(-2.14 + 0.02302 * RVP + 0.09408 * t_a)"
   ]
  },
  {
   "attachments": {},
   "cell_type": "markdown",
   "metadata": {},
   "source": [
    "#### $e^{S,WARM}$ Waram soak(g/procedure)\n",
    "- $e^{S,WARM}$ : Cold and warm soak emission의 평균 배출계수"
   ]
  },
  {
   "cell_type": "code",
   "execution_count": 69,
   "metadata": {},
   "outputs": [],
   "source": [
    "df2.loc[df2['차량연식'] < 1991, 'e_SWARM'] = np.exp(-1.644 + 0.01993 * RVP + 0.07521 * t_a)\n",
    "df2.loc[df2['차량연식'] >= 1991, 'e_SWARM'] = 0.2 * np.exp(-2.41 + 0.02302 * RVP + 0.09408 * t_a)"
   ]
  },
  {
   "attachments": {},
   "cell_type": "markdown",
   "metadata": {},
   "source": [
    "#### $e^{fi}$ Warm and hot soak for Fuel injected vehicle(g/procedure)\n",
    "- $e^{fi}$ : Fuel injection 휘발유 차량의 평균 hot and warm soak 배출계수"
   ]
  },
  {
   "cell_type": "code",
   "execution_count": 70,
   "metadata": {},
   "outputs": [],
   "source": [
    "df2.loc[df2['차량연식'] < 1991, 'e_fi'] = 0.7\n",
    "df2.loc[df2['차량연식'] >= 1991, 'e_fi'] = 0"
   ]
  },
  {
   "attachments": {},
   "cell_type": "markdown",
   "metadata": {},
   "source": [
    "#### $e^{R,WARM}$ Warm running loss(g/km)\n",
    "- $e^{R,HOT}$ : 휘발유 차량의 평균 hot running loss 배출계수"
   ]
  },
  {
   "cell_type": "code",
   "execution_count": 71,
   "metadata": {},
   "outputs": [],
   "source": [
    "df2.loc[df2['차량연식'] < 1991, 'e_RWARM'] = 0.1 * np.exp(-5.967 + 0.04259 * RVP + 0.1773 * t_a)\n",
    "df2.loc[df2['차량연식'] >= 1991, 'e_RWARM'] = 0.1 * (0.1 * np.exp(-5.967 + 0.04259 * RVP + 0.1773 * t_a))"
   ]
  },
  {
   "cell_type": "code",
   "execution_count": 72,
   "metadata": {},
   "outputs": [
    {
     "data": {
      "text/plain": [
       "0"
      ]
     },
     "execution_count": 72,
     "metadata": {},
     "output_type": "execute_result"
    }
   ],
   "source": [
    "df2['e_RWARM'].isnull().sum()"
   ]
  },
  {
   "attachments": {},
   "cell_type": "markdown",
   "metadata": {},
   "source": [
    "### $R$\n",
    "$R = m_j(p \\times e^{R,HOT} + w \\times e^{R,WARM})$\n",
    "- Running loss에 의한 휘발유 차량의 연중 배출량(g/yr)\n",
    "- $m_j$ : 차종 j의 연간 총 주행거리\n",
    "- $p$ : 가열 엔진 상태로 끝나는 trip의 비율\n",
    "- $e^{R,HOT}$ : 휘발유 차량의 평균 hot running loss 배출계수\n",
    "- $w$ : 미가열 엔진 상태로 끝나는 trip의 비율\n",
    "- $e^{R,WARM}$ : 휘발유 차량의 평균 warm running loss 배출계수"
   ]
  },
  {
   "attachments": {},
   "cell_type": "markdown",
   "metadata": {},
   "source": [
    "#### ❓ 확인 중\n",
    "- 수정 사항(2023.04.20, 최)\n",
    "    - 찾는 중"
   ]
  },
  {
   "cell_type": "code",
   "execution_count": 73,
   "metadata": {},
   "outputs": [],
   "source": [
    "p = 0.5 # 가열 엔진 상태로 끝나는 trip의 비율\n",
    "w = 0.5 # 미가열 엔진 상태로 끝나는 trip의 비율"
   ]
  },
  {
   "cell_type": "code",
   "execution_count": 74,
   "metadata": {},
   "outputs": [],
   "source": [
    "df2['R'] = df2['VKT'] * (p * df2['e_RHOT'] + w * df2['e_RWARM'])"
   ]
  },
  {
   "cell_type": "code",
   "execution_count": 75,
   "metadata": {},
   "outputs": [
    {
     "data": {
      "text/plain": [
       "0"
      ]
     },
     "execution_count": 75,
     "metadata": {},
     "output_type": "execute_result"
    }
   ],
   "source": [
    "df2['R'].isnull().sum()"
   ]
  },
  {
   "attachments": {},
   "cell_type": "markdown",
   "metadata": {},
   "source": [
    "### $S^{fi}$\n",
    "$S^{fi} = q \\times e^{fi} \\times x$\n",
    "- Fuel injection 휘발유 차량의 일중 hot and warm soak 배출량(g/day-대)\n",
    "- $q$ : Fuel injection 휘발유 차량의 비율\n",
    "- $e^{fi}$ : Fuel injection 휘발유 차량의 평균 hot and warm soak 배출계수\n",
    "- $x$ : 일평균 통행횟수 $= V_j / 365 \\times l_{trip}$\n",
    "- $V_j$ : 차종 j의 1대당 평균 연간 주행거리"
   ]
  },
  {
   "cell_type": "code",
   "execution_count": 76,
   "metadata": {},
   "outputs": [
    {
     "data": {
      "text/plain": [
       "0.9931614094087922"
      ]
     },
     "execution_count": 76,
     "metadata": {},
     "output_type": "execute_result"
    }
   ],
   "source": [
    "# 8.9s\n",
    "not_injection = df2[(df2['fuel'] == '휘발유') & (df2['차량연식'] < 1991)].shape[0]\n",
    "injection = df2[(df2['fuel'] == '휘발유') & (df2['차량연식'] >= 1991)].shape[0]\n",
    "# Fuel injection 휘발유 차량의 비율\n",
    "q = injection / (injection + not_injection)\n",
    "q"
   ]
  },
  {
   "cell_type": "code",
   "execution_count": 77,
   "metadata": {},
   "outputs": [],
   "source": [
    "# x = df2['VKT'] / (365 * l_trip)\n",
    "df2['S_fi'] = q * df2['e_fi'] * ( df2['VKT'] / (365 * l_trip) )"
   ]
  },
  {
   "attachments": {},
   "cell_type": "markdown",
   "metadata": {},
   "source": [
    "### $S^c$\n",
    "$S^c = (1-q)(p \\times x \\times e^{S, HOT} + w \\times x \\times e^{S,WARM})$\n",
    "- Carburetor 휘발유 차량의 일중 hot and warm soak 배출량(g/day-대)\n",
    "- $q$ : Fuel injection 휘발유 차량의 비율\n",
    "- $p$ : 가열 엔진 상태로 끝나는 trip의 비율\n",
    "- $x$ : 일평균 통행횟수 $= V_j / 365 \\times l_{trip}$\n",
    "- $e^{S,HOT}$ : Hot soak emission의 평균 배출계수\n",
    "- $w$ : 미가열 엔진 상태료 끝나는 trip의 비율\n",
    "- $x$ : 일평균 통행횟수 $= V_j / 365 \\times l_{trip}$\n",
    "- $V_j$ : 차종 j의 1대당 평균 연간 주행거리\n",
    "- $e^{S,WARM}$ : Cold and warm soak emission의 평균 배출계수"
   ]
  },
  {
   "cell_type": "code",
   "execution_count": 78,
   "metadata": {},
   "outputs": [],
   "source": [
    "# x = df2['VKT'] / (365 * l_trip)\n",
    "df2['S_c'] = (1-q) * (p * (df2['VKT'] / (365 * l_trip)) * df2['e_SHOT'] + w * (df2['VKT'] / (365 * l_trip)) * df2['e_SWARM'])"
   ]
  },
  {
   "attachments": {},
   "cell_type": "markdown",
   "metadata": {},
   "source": [
    "### $E_{EVA,VOC}$\n",
    "$E_{EVA, VOC:j} = 365 \\times N_j \\times (e^d + S^c + S^{fi}) + R$\n",
    "- $N_j$ : 차종 j의 휘발유 사용 차량 등록대수(대)\n",
    "- $e^d$ : 금속탱크를 가지고 있는 휘발유 차량의 일중 VOC 배출량(g/day-대)\n",
    "- $S^c$ : Carburetor 휘발유 차량의 일중 hot and warm soak 배출량(g/day-대)\n",
    "- $S^{fi}$ : Fuel injection 휘발유 차량의 일중 hot and warm soak 배출량(g/day-대)\n",
    "- $R$ : Running loss에 의한 휘발유 차량의 연중 배출량(g/yr)"
   ]
  },
  {
   "cell_type": "code",
   "execution_count": 79,
   "metadata": {},
   "outputs": [],
   "source": [
    "df2['E_EVA_VOC'] = 365 * df2['e_d'] + df2['S_c'] + df2['S_fi'] + df2['R']"
   ]
  },
  {
   "cell_type": "code",
   "execution_count": 80,
   "metadata": {},
   "outputs": [
    {
     "data": {
      "text/plain": [
       "0"
      ]
     },
     "execution_count": 80,
     "metadata": {},
     "output_type": "execute_result"
    }
   ],
   "source": [
    "df2['E_EVA_VOC'].isnull().sum()"
   ]
  },
  {
   "attachments": {},
   "cell_type": "markdown",
   "metadata": {},
   "source": [
    "## 배출량 합계\n",
    "$E_{total}(kg) = E_{HOT}(kg) + E_{COLD}(g) + E_{EVAP}(g)$"
   ]
  },
  {
   "cell_type": "code",
   "execution_count": 81,
   "metadata": {},
   "outputs": [
    {
     "data": {
      "text/plain": [
       "(1758697, 58)"
      ]
     },
     "execution_count": 81,
     "metadata": {},
     "output_type": "execute_result"
    }
   ],
   "source": [
    "df2[df2['E_COLD_NOx'] < 0].shape"
   ]
  },
  {
   "cell_type": "code",
   "execution_count": 82,
   "metadata": {},
   "outputs": [],
   "source": [
    "# E_COLD_NOx 음수 -> 0으로 처리(2023.04.24 from 최이사님)\n",
    "df2.loc[df2['E_COLD_NOx'] < 0, 'E_COLD_NOx'] = 0"
   ]
  },
  {
   "cell_type": "code",
   "execution_count": 83,
   "metadata": {},
   "outputs": [
    {
     "data": {
      "text/plain": [
       "(0, 58)"
      ]
     },
     "execution_count": 83,
     "metadata": {},
     "output_type": "execute_result"
    }
   ],
   "source": [
    "df2[df2['E_COLD_NOx'] < 0].shape"
   ]
  },
  {
   "cell_type": "code",
   "execution_count": 84,
   "metadata": {},
   "outputs": [
    {
     "data": {
      "text/plain": [
       "(['E_HOT_CO', 'E_HOT_HC', 'E_HOT_NOx', 'E_HOT_PM10', 'E_HOT_PM2_5'],\n",
       " ['E_COLD_CO', 'E_COLD_NOx', 'E_COLD_HC', 'E_COLD_PM10', 'E_COLD_PM2_5'])"
      ]
     },
     "execution_count": 84,
     "metadata": {},
     "output_type": "execute_result"
    }
   ],
   "source": [
    "check_E_HOT_col, check_E_cold_col"
   ]
  },
  {
   "cell_type": "code",
   "execution_count": 85,
   "metadata": {},
   "outputs": [
    {
     "data": {
      "text/plain": [
       "(0, 58)"
      ]
     },
     "execution_count": 85,
     "metadata": {},
     "output_type": "execute_result"
    }
   ],
   "source": [
    "df2.loc[(df2['fuel'] == '휘발유') & (df2['E_COLD_PM10'] != 0)].shape"
   ]
  },
  {
   "cell_type": "code",
   "execution_count": 86,
   "metadata": {},
   "outputs": [
    {
     "data": {
      "text/plain": [
       "array(['휘발유', 'LPG', '경유'], dtype=object)"
      ]
     },
     "execution_count": 86,
     "metadata": {},
     "output_type": "execute_result"
    }
   ],
   "source": [
    "df2['fuel'].unique()"
   ]
  },
  {
   "cell_type": "code",
   "execution_count": 87,
   "metadata": {},
   "outputs": [],
   "source": [
    "# 26.5s\n",
    "fuel = '휘발유'\n",
    "df2.loc[df2['fuel'] == fuel, 'E_CO_total'] = df2.loc[df2['fuel'] == fuel , 'E_HOT_CO'] + df2.loc[df2['fuel'] == fuel , 'E_COLD_CO']/1000\n",
    "df2.loc[df2['fuel'] == fuel, 'E_HC_total'] = df2.loc[df2['fuel'] == fuel , 'E_HOT_HC'] + df2.loc[df2['fuel'] == fuel , 'E_COLD_HC']/1000 + df2.loc[df2['fuel'] == fuel , 'E_EVA_VOC']/1000\n",
    "df2.loc[df2['fuel'] == fuel, 'E_NOx_total'] = df2.loc[df2['fuel'] == fuel , 'E_HOT_NOx'] + df2.loc[df2['fuel'] == fuel , 'E_COLD_NOx']/1000\n",
    "df2.loc[df2['fuel'] == fuel, 'E_PM10_total'] = df2.loc[df2['fuel'] == fuel , 'E_HOT_PM10'] + df2.loc[df2['fuel'] == fuel , 'E_COLD_PM10']/1000\n",
    "df2.loc[df2['fuel'] == fuel, 'E_PM2_5_total'] = df2.loc[df2['fuel'] == fuel , 'E_HOT_PM2_5'] + df2.loc[df2['fuel'] == fuel , 'E_COLD_PM2_5']/1000"
   ]
  },
  {
   "cell_type": "code",
   "execution_count": 88,
   "metadata": {},
   "outputs": [],
   "source": [
    "# 22.7s\n",
    "fuel = '경유'\n",
    "df2.loc[df2['fuel'] == fuel, 'E_CO_total'] = df2.loc[df2['fuel'] == fuel , 'E_HOT_CO'] + df2.loc[df2['fuel'] == fuel , 'E_COLD_CO']/1000\n",
    "df2.loc[df2['fuel'] == fuel, 'E_HC_total'] = df2.loc[df2['fuel'] == fuel , 'E_HOT_HC'] + df2.loc[df2['fuel'] == fuel , 'E_COLD_HC']/1000\n",
    "df2.loc[df2['fuel'] == fuel, 'E_NOx_total'] = df2.loc[df2['fuel'] == fuel , 'E_HOT_NOx'] + df2.loc[df2['fuel'] == fuel , 'E_COLD_NOx']/1000\n",
    "df2.loc[df2['fuel'] == fuel, 'E_PM10_total'] = df2.loc[df2['fuel'] == fuel , 'E_HOT_PM10'] + df2.loc[df2['fuel'] == fuel , 'E_COLD_PM10']/1000\n",
    "df2.loc[df2['fuel'] == fuel, 'E_PM2_5_total'] = df2.loc[df2['fuel'] == fuel , 'E_HOT_PM2_5'] + df2.loc[df2['fuel'] == fuel , 'E_COLD_PM2_5']/1000"
   ]
  },
  {
   "cell_type": "code",
   "execution_count": 89,
   "metadata": {},
   "outputs": [],
   "source": [
    "# 20.0s\n",
    "fuel = 'LPG'\n",
    "df2.loc[df2['fuel'] == fuel, 'E_CO_total'] = df2.loc[df2['fuel'] == fuel , 'E_HOT_CO'] + df2.loc[df2['fuel'] == fuel , 'E_COLD_CO']/1000\n",
    "df2.loc[df2['fuel'] == fuel, 'E_HC_total'] = df2.loc[df2['fuel'] == fuel , 'E_HOT_HC'] + df2.loc[df2['fuel'] == fuel , 'E_COLD_HC']/1000\n",
    "df2.loc[df2['fuel'] == fuel, 'E_NOx_total'] = df2.loc[df2['fuel'] == fuel , 'E_HOT_NOx'] + df2.loc[df2['fuel'] == fuel , 'E_COLD_NOx']/1000\n",
    "df2.loc[df2['fuel'] == fuel, 'E_PM10_total'] = df2.loc[df2['fuel'] == fuel , 'E_HOT_PM10'] + df2.loc[df2['fuel'] == fuel , 'E_COLD_PM10']/1000\n",
    "df2.loc[df2['fuel'] == fuel, 'E_PM2_5_total'] = df2.loc[df2['fuel'] == fuel , 'E_HOT_PM2_5'] + df2.loc[df2['fuel'] == fuel , 'E_COLD_PM2_5']/1000"
   ]
  },
  {
   "cell_type": "code",
   "execution_count": 90,
   "metadata": {},
   "outputs": [
    {
     "data": {
      "text/html": [
       "<div>\n",
       "<style scoped>\n",
       "    .dataframe tbody tr th:only-of-type {\n",
       "        vertical-align: middle;\n",
       "    }\n",
       "\n",
       "    .dataframe tbody tr th {\n",
       "        vertical-align: top;\n",
       "    }\n",
       "\n",
       "    .dataframe thead th {\n",
       "        text-align: right;\n",
       "    }\n",
       "</style>\n",
       "<table border=\"1\" class=\"dataframe\">\n",
       "  <thead>\n",
       "    <tr style=\"text-align: right;\">\n",
       "      <th></th>\n",
       "      <th>E_CO_total</th>\n",
       "      <th>E_HC_total</th>\n",
       "      <th>E_NOx_total</th>\n",
       "      <th>E_PM10_total</th>\n",
       "      <th>E_PM2_5_total</th>\n",
       "    </tr>\n",
       "  </thead>\n",
       "  <tbody>\n",
       "    <tr>\n",
       "      <th>0</th>\n",
       "      <td>2.27</td>\n",
       "      <td>0.42</td>\n",
       "      <td>0.27</td>\n",
       "      <td>0.01</td>\n",
       "      <td>0.01</td>\n",
       "    </tr>\n",
       "    <tr>\n",
       "      <th>1</th>\n",
       "      <td>2.32</td>\n",
       "      <td>0.42</td>\n",
       "      <td>0.28</td>\n",
       "      <td>0.01</td>\n",
       "      <td>0.01</td>\n",
       "    </tr>\n",
       "    <tr>\n",
       "      <th>2</th>\n",
       "      <td>3.83</td>\n",
       "      <td>0.46</td>\n",
       "      <td>0.36</td>\n",
       "      <td>0.01</td>\n",
       "      <td>0.01</td>\n",
       "    </tr>\n",
       "    <tr>\n",
       "      <th>3</th>\n",
       "      <td>3.83</td>\n",
       "      <td>0.46</td>\n",
       "      <td>0.36</td>\n",
       "      <td>0.01</td>\n",
       "      <td>0.01</td>\n",
       "    </tr>\n",
       "    <tr>\n",
       "      <th>4</th>\n",
       "      <td>3.77</td>\n",
       "      <td>0.46</td>\n",
       "      <td>0.35</td>\n",
       "      <td>0.01</td>\n",
       "      <td>0.01</td>\n",
       "    </tr>\n",
       "  </tbody>\n",
       "</table>\n",
       "</div>"
      ],
      "text/plain": [
       "   E_CO_total  E_HC_total  E_NOx_total  E_PM10_total  E_PM2_5_total\n",
       "0        2.27        0.42         0.27          0.01           0.01\n",
       "1        2.32        0.42         0.28          0.01           0.01\n",
       "2        3.83        0.46         0.36          0.01           0.01\n",
       "3        3.83        0.46         0.36          0.01           0.01\n",
       "4        3.77        0.46         0.35          0.01           0.01"
      ]
     },
     "execution_count": 90,
     "metadata": {},
     "output_type": "execute_result"
    }
   ],
   "source": [
    "check_E_col = ['E_CO_total', 'E_HC_total', 'E_NOx_total', 'E_PM10_total', 'E_PM2_5_total']\n",
    "df2[check_E_col].head()"
   ]
  },
  {
   "cell_type": "code",
   "execution_count": 91,
   "metadata": {},
   "outputs": [
    {
     "data": {
      "text/html": [
       "<div>\n",
       "<style scoped>\n",
       "    .dataframe tbody tr th:only-of-type {\n",
       "        vertical-align: middle;\n",
       "    }\n",
       "\n",
       "    .dataframe tbody tr th {\n",
       "        vertical-align: top;\n",
       "    }\n",
       "\n",
       "    .dataframe thead th {\n",
       "        text-align: right;\n",
       "    }\n",
       "</style>\n",
       "<table border=\"1\" class=\"dataframe\">\n",
       "  <thead>\n",
       "    <tr style=\"text-align: right;\">\n",
       "      <th></th>\n",
       "      <th>E_CO_total</th>\n",
       "      <th>E_HC_total</th>\n",
       "      <th>E_NOx_total</th>\n",
       "      <th>E_PM10_total</th>\n",
       "      <th>E_PM2_5_total</th>\n",
       "      <th>E_EVA_VOC</th>\n",
       "    </tr>\n",
       "  </thead>\n",
       "  <tbody>\n",
       "    <tr>\n",
       "      <th>0</th>\n",
       "      <td>2.27</td>\n",
       "      <td>0.42</td>\n",
       "      <td>0.27</td>\n",
       "      <td>0.01</td>\n",
       "      <td>0.01</td>\n",
       "      <td>352.45</td>\n",
       "    </tr>\n",
       "    <tr>\n",
       "      <th>1</th>\n",
       "      <td>2.32</td>\n",
       "      <td>0.42</td>\n",
       "      <td>0.28</td>\n",
       "      <td>0.01</td>\n",
       "      <td>0.01</td>\n",
       "      <td>353.94</td>\n",
       "    </tr>\n",
       "    <tr>\n",
       "      <th>2</th>\n",
       "      <td>3.83</td>\n",
       "      <td>0.46</td>\n",
       "      <td>0.36</td>\n",
       "      <td>0.01</td>\n",
       "      <td>0.01</td>\n",
       "      <td>373.08</td>\n",
       "    </tr>\n",
       "    <tr>\n",
       "      <th>3</th>\n",
       "      <td>3.83</td>\n",
       "      <td>0.46</td>\n",
       "      <td>0.36</td>\n",
       "      <td>0.01</td>\n",
       "      <td>0.01</td>\n",
       "      <td>373.08</td>\n",
       "    </tr>\n",
       "    <tr>\n",
       "      <th>4</th>\n",
       "      <td>3.77</td>\n",
       "      <td>0.46</td>\n",
       "      <td>0.35</td>\n",
       "      <td>0.01</td>\n",
       "      <td>0.01</td>\n",
       "      <td>371.59</td>\n",
       "    </tr>\n",
       "  </tbody>\n",
       "</table>\n",
       "</div>"
      ],
      "text/plain": [
       "   E_CO_total  E_HC_total  E_NOx_total  E_PM10_total  E_PM2_5_total  E_EVA_VOC\n",
       "0        2.27        0.42         0.27          0.01           0.01     352.45\n",
       "1        2.32        0.42         0.28          0.01           0.01     353.94\n",
       "2        3.83        0.46         0.36          0.01           0.01     373.08\n",
       "3        3.83        0.46         0.36          0.01           0.01     373.08\n",
       "4        3.77        0.46         0.35          0.01           0.01     371.59"
      ]
     },
     "execution_count": 91,
     "metadata": {},
     "output_type": "execute_result"
    }
   ],
   "source": [
    "df2.loc[df2['fuel'] == '휘발유', check_E_col + ['E_EVA_VOC']].head()"
   ]
  },
  {
   "cell_type": "code",
   "execution_count": 92,
   "metadata": {},
   "outputs": [
    {
     "data": {
      "text/html": [
       "<div>\n",
       "<style scoped>\n",
       "    .dataframe tbody tr th:only-of-type {\n",
       "        vertical-align: middle;\n",
       "    }\n",
       "\n",
       "    .dataframe tbody tr th {\n",
       "        vertical-align: top;\n",
       "    }\n",
       "\n",
       "    .dataframe thead th {\n",
       "        text-align: right;\n",
       "    }\n",
       "</style>\n",
       "<table border=\"1\" class=\"dataframe\">\n",
       "  <thead>\n",
       "    <tr style=\"text-align: right;\">\n",
       "      <th></th>\n",
       "      <th>E_CO_total</th>\n",
       "      <th>E_HC_total</th>\n",
       "      <th>E_NOx_total</th>\n",
       "      <th>E_PM10_total</th>\n",
       "      <th>E_PM2_5_total</th>\n",
       "    </tr>\n",
       "  </thead>\n",
       "  <tbody>\n",
       "    <tr>\n",
       "      <th>19</th>\n",
       "      <td>0.85</td>\n",
       "      <td>0.12</td>\n",
       "      <td>7.98</td>\n",
       "      <td>0.02</td>\n",
       "      <td>0.02</td>\n",
       "    </tr>\n",
       "    <tr>\n",
       "      <th>26</th>\n",
       "      <td>13.38</td>\n",
       "      <td>0.41</td>\n",
       "      <td>4.53</td>\n",
       "      <td>0.10</td>\n",
       "      <td>0.10</td>\n",
       "    </tr>\n",
       "    <tr>\n",
       "      <th>27</th>\n",
       "      <td>13.53</td>\n",
       "      <td>0.42</td>\n",
       "      <td>4.58</td>\n",
       "      <td>0.10</td>\n",
       "      <td>0.10</td>\n",
       "    </tr>\n",
       "    <tr>\n",
       "      <th>28</th>\n",
       "      <td>13.05</td>\n",
       "      <td>0.40</td>\n",
       "      <td>4.42</td>\n",
       "      <td>0.10</td>\n",
       "      <td>0.09</td>\n",
       "    </tr>\n",
       "    <tr>\n",
       "      <th>29</th>\n",
       "      <td>13.12</td>\n",
       "      <td>0.40</td>\n",
       "      <td>4.44</td>\n",
       "      <td>0.10</td>\n",
       "      <td>0.09</td>\n",
       "    </tr>\n",
       "  </tbody>\n",
       "</table>\n",
       "</div>"
      ],
      "text/plain": [
       "    E_CO_total  E_HC_total  E_NOx_total  E_PM10_total  E_PM2_5_total\n",
       "19        0.85        0.12         7.98          0.02           0.02\n",
       "26       13.38        0.41         4.53          0.10           0.10\n",
       "27       13.53        0.42         4.58          0.10           0.10\n",
       "28       13.05        0.40         4.42          0.10           0.09\n",
       "29       13.12        0.40         4.44          0.10           0.09"
      ]
     },
     "execution_count": 92,
     "metadata": {},
     "output_type": "execute_result"
    }
   ],
   "source": [
    "df2.loc[df2['fuel'] == '경유', check_E_col].head()"
   ]
  },
  {
   "cell_type": "code",
   "execution_count": 93,
   "metadata": {},
   "outputs": [
    {
     "data": {
      "text/html": [
       "<div>\n",
       "<style scoped>\n",
       "    .dataframe tbody tr th:only-of-type {\n",
       "        vertical-align: middle;\n",
       "    }\n",
       "\n",
       "    .dataframe tbody tr th {\n",
       "        vertical-align: top;\n",
       "    }\n",
       "\n",
       "    .dataframe thead th {\n",
       "        text-align: right;\n",
       "    }\n",
       "</style>\n",
       "<table border=\"1\" class=\"dataframe\">\n",
       "  <thead>\n",
       "    <tr style=\"text-align: right;\">\n",
       "      <th></th>\n",
       "      <th>E_CO_total</th>\n",
       "      <th>E_HC_total</th>\n",
       "      <th>E_NOx_total</th>\n",
       "      <th>E_PM10_total</th>\n",
       "      <th>E_PM2_5_total</th>\n",
       "    </tr>\n",
       "  </thead>\n",
       "  <tbody>\n",
       "    <tr>\n",
       "      <th>5</th>\n",
       "      <td>1.33</td>\n",
       "      <td>0.03</td>\n",
       "      <td>0.27</td>\n",
       "      <td>0.00</td>\n",
       "      <td>0.00</td>\n",
       "    </tr>\n",
       "    <tr>\n",
       "      <th>6</th>\n",
       "      <td>1.41</td>\n",
       "      <td>0.03</td>\n",
       "      <td>0.29</td>\n",
       "      <td>0.00</td>\n",
       "      <td>0.00</td>\n",
       "    </tr>\n",
       "    <tr>\n",
       "      <th>7</th>\n",
       "      <td>1.32</td>\n",
       "      <td>0.03</td>\n",
       "      <td>0.27</td>\n",
       "      <td>0.00</td>\n",
       "      <td>0.00</td>\n",
       "    </tr>\n",
       "    <tr>\n",
       "      <th>8</th>\n",
       "      <td>1.44</td>\n",
       "      <td>0.03</td>\n",
       "      <td>0.29</td>\n",
       "      <td>0.00</td>\n",
       "      <td>0.00</td>\n",
       "    </tr>\n",
       "    <tr>\n",
       "      <th>9</th>\n",
       "      <td>1.54</td>\n",
       "      <td>0.03</td>\n",
       "      <td>0.31</td>\n",
       "      <td>0.00</td>\n",
       "      <td>0.00</td>\n",
       "    </tr>\n",
       "  </tbody>\n",
       "</table>\n",
       "</div>"
      ],
      "text/plain": [
       "   E_CO_total  E_HC_total  E_NOx_total  E_PM10_total  E_PM2_5_total\n",
       "5        1.33        0.03         0.27          0.00           0.00\n",
       "6        1.41        0.03         0.29          0.00           0.00\n",
       "7        1.32        0.03         0.27          0.00           0.00\n",
       "8        1.44        0.03         0.29          0.00           0.00\n",
       "9        1.54        0.03         0.31          0.00           0.00"
      ]
     },
     "execution_count": 93,
     "metadata": {},
     "output_type": "execute_result"
    }
   ],
   "source": [
    "df2.loc[df2['fuel'] == 'LPG', check_E_col].head()"
   ]
  },
  {
   "cell_type": "code",
   "execution_count": 94,
   "metadata": {},
   "outputs": [
    {
     "data": {
      "text/html": [
       "<div>\n",
       "<style scoped>\n",
       "    .dataframe tbody tr th:only-of-type {\n",
       "        vertical-align: middle;\n",
       "    }\n",
       "\n",
       "    .dataframe tbody tr th {\n",
       "        vertical-align: top;\n",
       "    }\n",
       "\n",
       "    .dataframe thead th {\n",
       "        text-align: right;\n",
       "    }\n",
       "</style>\n",
       "<table border=\"1\" class=\"dataframe\">\n",
       "  <thead>\n",
       "    <tr style=\"text-align: right;\">\n",
       "      <th></th>\n",
       "      <th>fuel</th>\n",
       "      <th>차종</th>\n",
       "      <th>차종유형</th>\n",
       "      <th>차량연식</th>\n",
       "      <th>차령</th>\n",
       "      <th>E_CO_total</th>\n",
       "      <th>E_HC_total</th>\n",
       "      <th>E_NOx_total</th>\n",
       "      <th>E_PM10_total</th>\n",
       "      <th>E_PM2_5_total</th>\n",
       "    </tr>\n",
       "  </thead>\n",
       "  <tbody>\n",
       "    <tr>\n",
       "      <th>19</th>\n",
       "      <td>경유</td>\n",
       "      <td>승용</td>\n",
       "      <td>대형</td>\n",
       "      <td>2023</td>\n",
       "      <td>0</td>\n",
       "      <td>0.85</td>\n",
       "      <td>0.12</td>\n",
       "      <td>7.98</td>\n",
       "      <td>0.02</td>\n",
       "      <td>0.02</td>\n",
       "    </tr>\n",
       "    <tr>\n",
       "      <th>42</th>\n",
       "      <td>경유</td>\n",
       "      <td>승용</td>\n",
       "      <td>중형</td>\n",
       "      <td>2023</td>\n",
       "      <td>0</td>\n",
       "      <td>0.84</td>\n",
       "      <td>0.12</td>\n",
       "      <td>7.85</td>\n",
       "      <td>0.02</td>\n",
       "      <td>0.02</td>\n",
       "    </tr>\n",
       "    <tr>\n",
       "      <th>43</th>\n",
       "      <td>경유</td>\n",
       "      <td>승용</td>\n",
       "      <td>중형</td>\n",
       "      <td>2023</td>\n",
       "      <td>0</td>\n",
       "      <td>1.15</td>\n",
       "      <td>0.16</td>\n",
       "      <td>10.81</td>\n",
       "      <td>0.03</td>\n",
       "      <td>0.02</td>\n",
       "    </tr>\n",
       "    <tr>\n",
       "      <th>44</th>\n",
       "      <td>경유</td>\n",
       "      <td>승용</td>\n",
       "      <td>중형</td>\n",
       "      <td>2023</td>\n",
       "      <td>0</td>\n",
       "      <td>1.15</td>\n",
       "      <td>0.16</td>\n",
       "      <td>10.81</td>\n",
       "      <td>0.03</td>\n",
       "      <td>0.02</td>\n",
       "    </tr>\n",
       "    <tr>\n",
       "      <th>49</th>\n",
       "      <td>경유</td>\n",
       "      <td>승용</td>\n",
       "      <td>대형</td>\n",
       "      <td>2023</td>\n",
       "      <td>0</td>\n",
       "      <td>0.87</td>\n",
       "      <td>0.12</td>\n",
       "      <td>8.16</td>\n",
       "      <td>0.02</td>\n",
       "      <td>0.02</td>\n",
       "    </tr>\n",
       "  </tbody>\n",
       "</table>\n",
       "</div>"
      ],
      "text/plain": [
       "   fuel  차종 차종유형  차량연식  차령  E_CO_total  E_HC_total  E_NOx_total  E_PM10_total   \n",
       "19   경유  승용   대형  2023   0        0.85        0.12         7.98          0.02  \\\n",
       "42   경유  승용   중형  2023   0        0.84        0.12         7.85          0.02   \n",
       "43   경유  승용   중형  2023   0        1.15        0.16        10.81          0.03   \n",
       "44   경유  승용   중형  2023   0        1.15        0.16        10.81          0.03   \n",
       "49   경유  승용   대형  2023   0        0.87        0.12         8.16          0.02   \n",
       "\n",
       "    E_PM2_5_total  \n",
       "19           0.02  \n",
       "42           0.02  \n",
       "43           0.02  \n",
       "44           0.02  \n",
       "49           0.02  "
      ]
     },
     "execution_count": 94,
     "metadata": {},
     "output_type": "execute_result"
    }
   ],
   "source": [
    "df2.loc[(df2['fuel'] == '경유') & (df2['차종'] == '승용'), DF_col + check_E_col].head()"
   ]
  },
  {
   "cell_type": "code",
   "execution_count": 95,
   "metadata": {},
   "outputs": [
    {
     "data": {
      "text/html": [
       "<div>\n",
       "<style scoped>\n",
       "    .dataframe tbody tr th:only-of-type {\n",
       "        vertical-align: middle;\n",
       "    }\n",
       "\n",
       "    .dataframe tbody tr th {\n",
       "        vertical-align: top;\n",
       "    }\n",
       "\n",
       "    .dataframe thead th {\n",
       "        text-align: right;\n",
       "    }\n",
       "</style>\n",
       "<table border=\"1\" class=\"dataframe\">\n",
       "  <thead>\n",
       "    <tr style=\"text-align: right;\">\n",
       "      <th></th>\n",
       "      <th>fuel</th>\n",
       "      <th>차종</th>\n",
       "      <th>차종유형</th>\n",
       "      <th>차량연식</th>\n",
       "      <th>차령</th>\n",
       "      <th>E_CO_total</th>\n",
       "      <th>E_HC_total</th>\n",
       "      <th>E_NOx_total</th>\n",
       "      <th>E_PM10_total</th>\n",
       "      <th>E_PM2_5_total</th>\n",
       "    </tr>\n",
       "  </thead>\n",
       "  <tbody>\n",
       "    <tr>\n",
       "      <th>26</th>\n",
       "      <td>경유</td>\n",
       "      <td>화물</td>\n",
       "      <td>대형</td>\n",
       "      <td>2023</td>\n",
       "      <td>0</td>\n",
       "      <td>13.38</td>\n",
       "      <td>0.41</td>\n",
       "      <td>4.53</td>\n",
       "      <td>0.10</td>\n",
       "      <td>0.10</td>\n",
       "    </tr>\n",
       "    <tr>\n",
       "      <th>27</th>\n",
       "      <td>경유</td>\n",
       "      <td>화물</td>\n",
       "      <td>대형</td>\n",
       "      <td>2023</td>\n",
       "      <td>0</td>\n",
       "      <td>13.53</td>\n",
       "      <td>0.42</td>\n",
       "      <td>4.58</td>\n",
       "      <td>0.10</td>\n",
       "      <td>0.10</td>\n",
       "    </tr>\n",
       "    <tr>\n",
       "      <th>28</th>\n",
       "      <td>경유</td>\n",
       "      <td>화물</td>\n",
       "      <td>대형</td>\n",
       "      <td>2023</td>\n",
       "      <td>0</td>\n",
       "      <td>13.05</td>\n",
       "      <td>0.40</td>\n",
       "      <td>4.42</td>\n",
       "      <td>0.10</td>\n",
       "      <td>0.09</td>\n",
       "    </tr>\n",
       "    <tr>\n",
       "      <th>29</th>\n",
       "      <td>경유</td>\n",
       "      <td>화물</td>\n",
       "      <td>대형</td>\n",
       "      <td>2023</td>\n",
       "      <td>0</td>\n",
       "      <td>13.12</td>\n",
       "      <td>0.40</td>\n",
       "      <td>4.44</td>\n",
       "      <td>0.10</td>\n",
       "      <td>0.09</td>\n",
       "    </tr>\n",
       "    <tr>\n",
       "      <th>60</th>\n",
       "      <td>경유</td>\n",
       "      <td>화물</td>\n",
       "      <td>소형</td>\n",
       "      <td>2022</td>\n",
       "      <td>1</td>\n",
       "      <td>1.32</td>\n",
       "      <td>0.02</td>\n",
       "      <td>0.10</td>\n",
       "      <td>0.01</td>\n",
       "      <td>0.01</td>\n",
       "    </tr>\n",
       "  </tbody>\n",
       "</table>\n",
       "</div>"
      ],
      "text/plain": [
       "   fuel  차종 차종유형  차량연식  차령  E_CO_total  E_HC_total  E_NOx_total  E_PM10_total   \n",
       "26   경유  화물   대형  2023   0       13.38        0.41         4.53          0.10  \\\n",
       "27   경유  화물   대형  2023   0       13.53        0.42         4.58          0.10   \n",
       "28   경유  화물   대형  2023   0       13.05        0.40         4.42          0.10   \n",
       "29   경유  화물   대형  2023   0       13.12        0.40         4.44          0.10   \n",
       "60   경유  화물   소형  2022   1        1.32        0.02         0.10          0.01   \n",
       "\n",
       "    E_PM2_5_total  \n",
       "26           0.10  \n",
       "27           0.10  \n",
       "28           0.09  \n",
       "29           0.09  \n",
       "60           0.01  "
      ]
     },
     "execution_count": 95,
     "metadata": {},
     "output_type": "execute_result"
    }
   ],
   "source": [
    "df2.loc[(df2['fuel'] == '경유') & (df2['차종'] == '화물'), DF_col + check_E_col].head()"
   ]
  },
  {
   "cell_type": "code",
   "execution_count": 96,
   "metadata": {},
   "outputs": [
    {
     "data": {
      "text/html": [
       "<div>\n",
       "<style scoped>\n",
       "    .dataframe tbody tr th:only-of-type {\n",
       "        vertical-align: middle;\n",
       "    }\n",
       "\n",
       "    .dataframe tbody tr th {\n",
       "        vertical-align: top;\n",
       "    }\n",
       "\n",
       "    .dataframe thead th {\n",
       "        text-align: right;\n",
       "    }\n",
       "</style>\n",
       "<table border=\"1\" class=\"dataframe\">\n",
       "  <thead>\n",
       "    <tr style=\"text-align: right;\">\n",
       "      <th></th>\n",
       "      <th>fuel</th>\n",
       "      <th>차종</th>\n",
       "      <th>차종유형</th>\n",
       "      <th>차량연식</th>\n",
       "      <th>차령</th>\n",
       "      <th>E_CO_total</th>\n",
       "      <th>E_HC_total</th>\n",
       "      <th>E_NOx_total</th>\n",
       "      <th>E_PM10_total</th>\n",
       "      <th>E_PM2_5_total</th>\n",
       "    </tr>\n",
       "  </thead>\n",
       "  <tbody>\n",
       "    <tr>\n",
       "      <th>0</th>\n",
       "      <td>휘발유</td>\n",
       "      <td>승용</td>\n",
       "      <td>중형</td>\n",
       "      <td>2023</td>\n",
       "      <td>0</td>\n",
       "      <td>2.27</td>\n",
       "      <td>0.42</td>\n",
       "      <td>0.27</td>\n",
       "      <td>0.01</td>\n",
       "      <td>0.01</td>\n",
       "    </tr>\n",
       "    <tr>\n",
       "      <th>1</th>\n",
       "      <td>휘발유</td>\n",
       "      <td>승용</td>\n",
       "      <td>중형</td>\n",
       "      <td>2023</td>\n",
       "      <td>0</td>\n",
       "      <td>2.32</td>\n",
       "      <td>0.42</td>\n",
       "      <td>0.28</td>\n",
       "      <td>0.01</td>\n",
       "      <td>0.01</td>\n",
       "    </tr>\n",
       "    <tr>\n",
       "      <th>2</th>\n",
       "      <td>휘발유</td>\n",
       "      <td>승용</td>\n",
       "      <td>대형</td>\n",
       "      <td>2023</td>\n",
       "      <td>0</td>\n",
       "      <td>3.83</td>\n",
       "      <td>0.46</td>\n",
       "      <td>0.36</td>\n",
       "      <td>0.01</td>\n",
       "      <td>0.01</td>\n",
       "    </tr>\n",
       "    <tr>\n",
       "      <th>3</th>\n",
       "      <td>휘발유</td>\n",
       "      <td>승용</td>\n",
       "      <td>대형</td>\n",
       "      <td>2023</td>\n",
       "      <td>0</td>\n",
       "      <td>3.83</td>\n",
       "      <td>0.46</td>\n",
       "      <td>0.36</td>\n",
       "      <td>0.01</td>\n",
       "      <td>0.01</td>\n",
       "    </tr>\n",
       "    <tr>\n",
       "      <th>4</th>\n",
       "      <td>휘발유</td>\n",
       "      <td>승용</td>\n",
       "      <td>대형</td>\n",
       "      <td>2023</td>\n",
       "      <td>0</td>\n",
       "      <td>3.77</td>\n",
       "      <td>0.46</td>\n",
       "      <td>0.35</td>\n",
       "      <td>0.01</td>\n",
       "      <td>0.01</td>\n",
       "    </tr>\n",
       "  </tbody>\n",
       "</table>\n",
       "</div>"
      ],
      "text/plain": [
       "  fuel  차종 차종유형  차량연식  차령  E_CO_total  E_HC_total  E_NOx_total  E_PM10_total   \n",
       "0  휘발유  승용   중형  2023   0        2.27        0.42         0.27          0.01  \\\n",
       "1  휘발유  승용   중형  2023   0        2.32        0.42         0.28          0.01   \n",
       "2  휘발유  승용   대형  2023   0        3.83        0.46         0.36          0.01   \n",
       "3  휘발유  승용   대형  2023   0        3.83        0.46         0.36          0.01   \n",
       "4  휘발유  승용   대형  2023   0        3.77        0.46         0.35          0.01   \n",
       "\n",
       "   E_PM2_5_total  \n",
       "0           0.01  \n",
       "1           0.01  \n",
       "2           0.01  \n",
       "3           0.01  \n",
       "4           0.01  "
      ]
     },
     "execution_count": 96,
     "metadata": {},
     "output_type": "execute_result"
    }
   ],
   "source": [
    "df2.loc[(df2['fuel'] == '휘발유') & (df2['차종'] == '승용'), DF_col + check_E_col].head()"
   ]
  },
  {
   "cell_type": "code",
   "execution_count": 97,
   "metadata": {},
   "outputs": [
    {
     "data": {
      "text/html": [
       "<div>\n",
       "<style scoped>\n",
       "    .dataframe tbody tr th:only-of-type {\n",
       "        vertical-align: middle;\n",
       "    }\n",
       "\n",
       "    .dataframe tbody tr th {\n",
       "        vertical-align: top;\n",
       "    }\n",
       "\n",
       "    .dataframe thead th {\n",
       "        text-align: right;\n",
       "    }\n",
       "</style>\n",
       "<table border=\"1\" class=\"dataframe\">\n",
       "  <thead>\n",
       "    <tr style=\"text-align: right;\">\n",
       "      <th></th>\n",
       "      <th>fuel</th>\n",
       "      <th>차종</th>\n",
       "      <th>차종유형</th>\n",
       "      <th>차량연식</th>\n",
       "      <th>차령</th>\n",
       "      <th>E_CO_total</th>\n",
       "      <th>E_HC_total</th>\n",
       "      <th>E_NOx_total</th>\n",
       "      <th>E_PM10_total</th>\n",
       "      <th>E_PM2_5_total</th>\n",
       "    </tr>\n",
       "  </thead>\n",
       "  <tbody>\n",
       "    <tr>\n",
       "      <th>2829</th>\n",
       "      <td>휘발유</td>\n",
       "      <td>화물</td>\n",
       "      <td>소형</td>\n",
       "      <td>2023</td>\n",
       "      <td>0</td>\n",
       "      <td>2.16</td>\n",
       "      <td>0.43</td>\n",
       "      <td>0.18</td>\n",
       "      <td>0.01</td>\n",
       "      <td>0.01</td>\n",
       "    </tr>\n",
       "    <tr>\n",
       "      <th>2830</th>\n",
       "      <td>휘발유</td>\n",
       "      <td>화물</td>\n",
       "      <td>소형</td>\n",
       "      <td>2023</td>\n",
       "      <td>0</td>\n",
       "      <td>2.16</td>\n",
       "      <td>0.43</td>\n",
       "      <td>0.18</td>\n",
       "      <td>0.01</td>\n",
       "      <td>0.01</td>\n",
       "    </tr>\n",
       "    <tr>\n",
       "      <th>2831</th>\n",
       "      <td>휘발유</td>\n",
       "      <td>화물</td>\n",
       "      <td>소형</td>\n",
       "      <td>2023</td>\n",
       "      <td>0</td>\n",
       "      <td>2.16</td>\n",
       "      <td>0.43</td>\n",
       "      <td>0.18</td>\n",
       "      <td>0.01</td>\n",
       "      <td>0.01</td>\n",
       "    </tr>\n",
       "    <tr>\n",
       "      <th>2832</th>\n",
       "      <td>휘발유</td>\n",
       "      <td>화물</td>\n",
       "      <td>소형</td>\n",
       "      <td>2023</td>\n",
       "      <td>0</td>\n",
       "      <td>2.16</td>\n",
       "      <td>0.43</td>\n",
       "      <td>0.18</td>\n",
       "      <td>0.01</td>\n",
       "      <td>0.01</td>\n",
       "    </tr>\n",
       "    <tr>\n",
       "      <th>3124</th>\n",
       "      <td>휘발유</td>\n",
       "      <td>화물</td>\n",
       "      <td>소형</td>\n",
       "      <td>2022</td>\n",
       "      <td>1</td>\n",
       "      <td>2.61</td>\n",
       "      <td>0.46</td>\n",
       "      <td>0.22</td>\n",
       "      <td>0.01</td>\n",
       "      <td>0.01</td>\n",
       "    </tr>\n",
       "  </tbody>\n",
       "</table>\n",
       "</div>"
      ],
      "text/plain": [
       "     fuel  차종 차종유형  차량연식  차령  E_CO_total  E_HC_total  E_NOx_total   \n",
       "2829  휘발유  화물   소형  2023   0        2.16        0.43         0.18  \\\n",
       "2830  휘발유  화물   소형  2023   0        2.16        0.43         0.18   \n",
       "2831  휘발유  화물   소형  2023   0        2.16        0.43         0.18   \n",
       "2832  휘발유  화물   소형  2023   0        2.16        0.43         0.18   \n",
       "3124  휘발유  화물   소형  2022   1        2.61        0.46         0.22   \n",
       "\n",
       "      E_PM10_total  E_PM2_5_total  \n",
       "2829          0.01           0.01  \n",
       "2830          0.01           0.01  \n",
       "2831          0.01           0.01  \n",
       "2832          0.01           0.01  \n",
       "3124          0.01           0.01  "
      ]
     },
     "execution_count": 97,
     "metadata": {},
     "output_type": "execute_result"
    }
   ],
   "source": [
    "df2.loc[(df2['fuel'] == '휘발유') & (df2['차종'] == '화물'), DF_col + check_E_col].head()"
   ]
  },
  {
   "attachments": {},
   "cell_type": "markdown",
   "metadata": {},
   "source": [
    "### issue\n",
    "- LPG : E_COLD_NOx 값 음수 -> 0으로 처리"
   ]
  },
  {
   "cell_type": "code",
   "execution_count": 98,
   "metadata": {},
   "outputs": [
    {
     "data": {
      "text/html": [
       "<div>\n",
       "<style scoped>\n",
       "    .dataframe tbody tr th:only-of-type {\n",
       "        vertical-align: middle;\n",
       "    }\n",
       "\n",
       "    .dataframe tbody tr th {\n",
       "        vertical-align: top;\n",
       "    }\n",
       "\n",
       "    .dataframe thead th {\n",
       "        text-align: right;\n",
       "    }\n",
       "</style>\n",
       "<table border=\"1\" class=\"dataframe\">\n",
       "  <thead>\n",
       "    <tr style=\"text-align: right;\">\n",
       "      <th></th>\n",
       "      <th>fuel</th>\n",
       "      <th>차종</th>\n",
       "      <th>차종유형</th>\n",
       "      <th>차량연식</th>\n",
       "      <th>차령</th>\n",
       "      <th>E_HOT_CO</th>\n",
       "      <th>E_HOT_HC</th>\n",
       "      <th>E_HOT_NOx</th>\n",
       "      <th>E_HOT_PM10</th>\n",
       "      <th>E_HOT_PM2_5</th>\n",
       "      <th>E_COLD_CO</th>\n",
       "      <th>E_COLD_NOx</th>\n",
       "      <th>E_COLD_HC</th>\n",
       "      <th>E_COLD_PM10</th>\n",
       "      <th>E_COLD_PM2_5</th>\n",
       "      <th>E_CO_total</th>\n",
       "      <th>E_HC_total</th>\n",
       "      <th>E_NOx_total</th>\n",
       "      <th>E_PM10_total</th>\n",
       "      <th>E_PM2_5_total</th>\n",
       "    </tr>\n",
       "  </thead>\n",
       "  <tbody>\n",
       "    <tr>\n",
       "      <th>5</th>\n",
       "      <td>LPG</td>\n",
       "      <td>승용</td>\n",
       "      <td>중형</td>\n",
       "      <td>2023</td>\n",
       "      <td>0</td>\n",
       "      <td>0.93</td>\n",
       "      <td>0.03</td>\n",
       "      <td>0.27</td>\n",
       "      <td>0.00</td>\n",
       "      <td>0.00</td>\n",
       "      <td>396.57</td>\n",
       "      <td>0.00</td>\n",
       "      <td>3.51</td>\n",
       "      <td>0.00</td>\n",
       "      <td>0.00</td>\n",
       "      <td>1.33</td>\n",
       "      <td>0.03</td>\n",
       "      <td>0.27</td>\n",
       "      <td>0.00</td>\n",
       "      <td>0.00</td>\n",
       "    </tr>\n",
       "    <tr>\n",
       "      <th>6</th>\n",
       "      <td>LPG</td>\n",
       "      <td>승용</td>\n",
       "      <td>중형</td>\n",
       "      <td>2023</td>\n",
       "      <td>0</td>\n",
       "      <td>0.98</td>\n",
       "      <td>0.03</td>\n",
       "      <td>0.29</td>\n",
       "      <td>0.00</td>\n",
       "      <td>0.00</td>\n",
       "      <td>420.29</td>\n",
       "      <td>0.00</td>\n",
       "      <td>3.72</td>\n",
       "      <td>0.00</td>\n",
       "      <td>0.00</td>\n",
       "      <td>1.41</td>\n",
       "      <td>0.03</td>\n",
       "      <td>0.29</td>\n",
       "      <td>0.00</td>\n",
       "      <td>0.00</td>\n",
       "    </tr>\n",
       "    <tr>\n",
       "      <th>7</th>\n",
       "      <td>LPG</td>\n",
       "      <td>승용</td>\n",
       "      <td>중형</td>\n",
       "      <td>2023</td>\n",
       "      <td>0</td>\n",
       "      <td>0.93</td>\n",
       "      <td>0.03</td>\n",
       "      <td>0.27</td>\n",
       "      <td>0.00</td>\n",
       "      <td>0.00</td>\n",
       "      <td>395.44</td>\n",
       "      <td>0.00</td>\n",
       "      <td>3.50</td>\n",
       "      <td>0.00</td>\n",
       "      <td>0.00</td>\n",
       "      <td>1.32</td>\n",
       "      <td>0.03</td>\n",
       "      <td>0.27</td>\n",
       "      <td>0.00</td>\n",
       "      <td>0.00</td>\n",
       "    </tr>\n",
       "    <tr>\n",
       "      <th>8</th>\n",
       "      <td>LPG</td>\n",
       "      <td>승용</td>\n",
       "      <td>중형</td>\n",
       "      <td>2023</td>\n",
       "      <td>0</td>\n",
       "      <td>1.01</td>\n",
       "      <td>0.03</td>\n",
       "      <td>0.29</td>\n",
       "      <td>0.00</td>\n",
       "      <td>0.00</td>\n",
       "      <td>430.46</td>\n",
       "      <td>0.00</td>\n",
       "      <td>3.81</td>\n",
       "      <td>0.00</td>\n",
       "      <td>0.00</td>\n",
       "      <td>1.44</td>\n",
       "      <td>0.03</td>\n",
       "      <td>0.29</td>\n",
       "      <td>0.00</td>\n",
       "      <td>0.00</td>\n",
       "    </tr>\n",
       "    <tr>\n",
       "      <th>9</th>\n",
       "      <td>LPG</td>\n",
       "      <td>승용</td>\n",
       "      <td>중형</td>\n",
       "      <td>2023</td>\n",
       "      <td>0</td>\n",
       "      <td>1.08</td>\n",
       "      <td>0.03</td>\n",
       "      <td>0.31</td>\n",
       "      <td>0.00</td>\n",
       "      <td>0.00</td>\n",
       "      <td>459.84</td>\n",
       "      <td>0.00</td>\n",
       "      <td>4.07</td>\n",
       "      <td>0.00</td>\n",
       "      <td>0.00</td>\n",
       "      <td>1.54</td>\n",
       "      <td>0.03</td>\n",
       "      <td>0.31</td>\n",
       "      <td>0.00</td>\n",
       "      <td>0.00</td>\n",
       "    </tr>\n",
       "  </tbody>\n",
       "</table>\n",
       "</div>"
      ],
      "text/plain": [
       "  fuel  차종 차종유형  차량연식  차령  E_HOT_CO  E_HOT_HC  E_HOT_NOx  E_HOT_PM10   \n",
       "5  LPG  승용   중형  2023   0      0.93      0.03       0.27        0.00  \\\n",
       "6  LPG  승용   중형  2023   0      0.98      0.03       0.29        0.00   \n",
       "7  LPG  승용   중형  2023   0      0.93      0.03       0.27        0.00   \n",
       "8  LPG  승용   중형  2023   0      1.01      0.03       0.29        0.00   \n",
       "9  LPG  승용   중형  2023   0      1.08      0.03       0.31        0.00   \n",
       "\n",
       "   E_HOT_PM2_5  E_COLD_CO  E_COLD_NOx  E_COLD_HC  E_COLD_PM10  E_COLD_PM2_5   \n",
       "5         0.00     396.57        0.00       3.51         0.00          0.00  \\\n",
       "6         0.00     420.29        0.00       3.72         0.00          0.00   \n",
       "7         0.00     395.44        0.00       3.50         0.00          0.00   \n",
       "8         0.00     430.46        0.00       3.81         0.00          0.00   \n",
       "9         0.00     459.84        0.00       4.07         0.00          0.00   \n",
       "\n",
       "   E_CO_total  E_HC_total  E_NOx_total  E_PM10_total  E_PM2_5_total  \n",
       "5        1.33        0.03         0.27          0.00           0.00  \n",
       "6        1.41        0.03         0.29          0.00           0.00  \n",
       "7        1.32        0.03         0.27          0.00           0.00  \n",
       "8        1.44        0.03         0.29          0.00           0.00  \n",
       "9        1.54        0.03         0.31          0.00           0.00  "
      ]
     },
     "execution_count": 98,
     "metadata": {},
     "output_type": "execute_result"
    }
   ],
   "source": [
    "df2.loc[df2['fuel'] == 'LPG', DF_col + check_E_HOT_col + check_E_cold_col + check_E_col].head()"
   ]
  },
  {
   "cell_type": "code",
   "execution_count": 99,
   "metadata": {},
   "outputs": [
    {
     "data": {
      "text/html": [
       "<div>\n",
       "<style scoped>\n",
       "    .dataframe tbody tr th:only-of-type {\n",
       "        vertical-align: middle;\n",
       "    }\n",
       "\n",
       "    .dataframe tbody tr th {\n",
       "        vertical-align: top;\n",
       "    }\n",
       "\n",
       "    .dataframe thead th {\n",
       "        text-align: right;\n",
       "    }\n",
       "</style>\n",
       "<table border=\"1\" class=\"dataframe\">\n",
       "  <thead>\n",
       "    <tr style=\"text-align: right;\">\n",
       "      <th></th>\n",
       "      <th>fuel</th>\n",
       "      <th>차종</th>\n",
       "      <th>차종유형</th>\n",
       "      <th>차량연식</th>\n",
       "      <th>차령</th>\n",
       "      <th>E_COLD_CO</th>\n",
       "      <th>E_COLD_NOx</th>\n",
       "      <th>E_COLD_HC</th>\n",
       "      <th>E_COLD_PM10</th>\n",
       "      <th>E_COLD_PM2_5</th>\n",
       "      <th>E_CO_total</th>\n",
       "      <th>E_HC_total</th>\n",
       "      <th>E_NOx_total</th>\n",
       "      <th>E_PM10_total</th>\n",
       "      <th>E_PM2_5_total</th>\n",
       "    </tr>\n",
       "  </thead>\n",
       "  <tbody>\n",
       "    <tr>\n",
       "      <th>5</th>\n",
       "      <td>LPG</td>\n",
       "      <td>승용</td>\n",
       "      <td>중형</td>\n",
       "      <td>2023</td>\n",
       "      <td>0</td>\n",
       "      <td>396.57</td>\n",
       "      <td>0.00</td>\n",
       "      <td>3.51</td>\n",
       "      <td>0.00</td>\n",
       "      <td>0.00</td>\n",
       "      <td>1.33</td>\n",
       "      <td>0.03</td>\n",
       "      <td>0.27</td>\n",
       "      <td>0.00</td>\n",
       "      <td>0.00</td>\n",
       "    </tr>\n",
       "    <tr>\n",
       "      <th>6</th>\n",
       "      <td>LPG</td>\n",
       "      <td>승용</td>\n",
       "      <td>중형</td>\n",
       "      <td>2023</td>\n",
       "      <td>0</td>\n",
       "      <td>420.29</td>\n",
       "      <td>0.00</td>\n",
       "      <td>3.72</td>\n",
       "      <td>0.00</td>\n",
       "      <td>0.00</td>\n",
       "      <td>1.41</td>\n",
       "      <td>0.03</td>\n",
       "      <td>0.29</td>\n",
       "      <td>0.00</td>\n",
       "      <td>0.00</td>\n",
       "    </tr>\n",
       "    <tr>\n",
       "      <th>7</th>\n",
       "      <td>LPG</td>\n",
       "      <td>승용</td>\n",
       "      <td>중형</td>\n",
       "      <td>2023</td>\n",
       "      <td>0</td>\n",
       "      <td>395.44</td>\n",
       "      <td>0.00</td>\n",
       "      <td>3.50</td>\n",
       "      <td>0.00</td>\n",
       "      <td>0.00</td>\n",
       "      <td>1.32</td>\n",
       "      <td>0.03</td>\n",
       "      <td>0.27</td>\n",
       "      <td>0.00</td>\n",
       "      <td>0.00</td>\n",
       "    </tr>\n",
       "    <tr>\n",
       "      <th>8</th>\n",
       "      <td>LPG</td>\n",
       "      <td>승용</td>\n",
       "      <td>중형</td>\n",
       "      <td>2023</td>\n",
       "      <td>0</td>\n",
       "      <td>430.46</td>\n",
       "      <td>0.00</td>\n",
       "      <td>3.81</td>\n",
       "      <td>0.00</td>\n",
       "      <td>0.00</td>\n",
       "      <td>1.44</td>\n",
       "      <td>0.03</td>\n",
       "      <td>0.29</td>\n",
       "      <td>0.00</td>\n",
       "      <td>0.00</td>\n",
       "    </tr>\n",
       "    <tr>\n",
       "      <th>9</th>\n",
       "      <td>LPG</td>\n",
       "      <td>승용</td>\n",
       "      <td>중형</td>\n",
       "      <td>2023</td>\n",
       "      <td>0</td>\n",
       "      <td>459.84</td>\n",
       "      <td>0.00</td>\n",
       "      <td>4.07</td>\n",
       "      <td>0.00</td>\n",
       "      <td>0.00</td>\n",
       "      <td>1.54</td>\n",
       "      <td>0.03</td>\n",
       "      <td>0.31</td>\n",
       "      <td>0.00</td>\n",
       "      <td>0.00</td>\n",
       "    </tr>\n",
       "  </tbody>\n",
       "</table>\n",
       "</div>"
      ],
      "text/plain": [
       "  fuel  차종 차종유형  차량연식  차령  E_COLD_CO  E_COLD_NOx  E_COLD_HC  E_COLD_PM10   \n",
       "5  LPG  승용   중형  2023   0     396.57        0.00       3.51         0.00  \\\n",
       "6  LPG  승용   중형  2023   0     420.29        0.00       3.72         0.00   \n",
       "7  LPG  승용   중형  2023   0     395.44        0.00       3.50         0.00   \n",
       "8  LPG  승용   중형  2023   0     430.46        0.00       3.81         0.00   \n",
       "9  LPG  승용   중형  2023   0     459.84        0.00       4.07         0.00   \n",
       "\n",
       "   E_COLD_PM2_5  E_CO_total  E_HC_total  E_NOx_total  E_PM10_total   \n",
       "5          0.00        1.33        0.03         0.27          0.00  \\\n",
       "6          0.00        1.41        0.03         0.29          0.00   \n",
       "7          0.00        1.32        0.03         0.27          0.00   \n",
       "8          0.00        1.44        0.03         0.29          0.00   \n",
       "9          0.00        1.54        0.03         0.31          0.00   \n",
       "\n",
       "   E_PM2_5_total  \n",
       "5           0.00  \n",
       "6           0.00  \n",
       "7           0.00  \n",
       "8           0.00  \n",
       "9           0.00  "
      ]
     },
     "execution_count": 99,
     "metadata": {},
     "output_type": "execute_result"
    }
   ],
   "source": [
    "df2.loc[df2['fuel'] == 'LPG', DF_col + check_E_cold_col + check_E_col].head()"
   ]
  },
  {
   "cell_type": "code",
   "execution_count": 100,
   "metadata": {},
   "outputs": [
    {
     "data": {
      "text/plain": [
       "Index(['법정동코드', '차종', '차대번호', '최초등록일자', '차량연식', '배출가스인증번호', '배출가스등급', '차량말소YN',\n",
       "       '차종유형', '연료', '총중량', '배기량', '등급', 'fuel', '차령', '시도', '시구군', '일일평균주행거리',\n",
       "       '저감장치부착유무', 'VKT', 'DF_CO', 'DF_HC', 'DF_PM', 'DF_NOx', 'R_CO', 'R_HC',\n",
       "       'R_PM', 'EFi_CO', 'EFi_HC', 'EFi_NOx', 'EFi_PM10', 'EFi_PM2_5',\n",
       "       'EFi_NH3', 'E_HOT_CO', 'E_HOT_HC', 'E_HOT_NOx', 'E_HOT_PM10',\n",
       "       'E_HOT_PM2_5', 'Beta(Estimated)', 'eCOLD/eHOT_CO', 'eCOLD/eHOT_NOx',\n",
       "       'eCOLD/eHOT_HC', 'eCOLD/eHOT_PM', 'E_COLD_CO', 'E_COLD_NOx',\n",
       "       'E_COLD_HC', 'E_COLD_PM10', 'E_COLD_PM2_5', 'e_d', 'e_RHOT', 'e_SHOT',\n",
       "       'e_SWARM', 'e_fi', 'e_RWARM', 'R', 'S_fi', 'S_c', 'E_EVA_VOC',\n",
       "       'E_CO_total', 'E_HC_total', 'E_NOx_total', 'E_PM10_total',\n",
       "       'E_PM2_5_total'],\n",
       "      dtype='object')"
      ]
     },
     "execution_count": 100,
     "metadata": {},
     "output_type": "execute_result"
    }
   ],
   "source": [
    "df2.columns"
   ]
  },
  {
   "cell_type": "code",
   "execution_count": 101,
   "metadata": {},
   "outputs": [
    {
     "data": {
      "text/plain": [
       "dtype('float64')"
      ]
     },
     "execution_count": 101,
     "metadata": {},
     "output_type": "execute_result"
    }
   ],
   "source": [
    "df2['E_COLD_CO'].dtype"
   ]
  },
  {
   "cell_type": "code",
   "execution_count": 102,
   "metadata": {},
   "outputs": [
    {
     "data": {
      "text/plain": [
       "(0, 63)"
      ]
     },
     "execution_count": 102,
     "metadata": {},
     "output_type": "execute_result"
    }
   ],
   "source": [
    "df2.loc[df2['E_CO_total'] < 0].shape"
   ]
  },
  {
   "cell_type": "code",
   "execution_count": 103,
   "metadata": {},
   "outputs": [
    {
     "data": {
      "text/plain": [
       "(0, 63)"
      ]
     },
     "execution_count": 103,
     "metadata": {},
     "output_type": "execute_result"
    }
   ],
   "source": [
    "df2.loc[df2['E_HC_total'] < 0].shape"
   ]
  },
  {
   "cell_type": "code",
   "execution_count": 104,
   "metadata": {},
   "outputs": [
    {
     "data": {
      "text/plain": [
       "(0, 63)"
      ]
     },
     "execution_count": 104,
     "metadata": {},
     "output_type": "execute_result"
    }
   ],
   "source": [
    "df2.loc[df2['E_PM10_total'] < 0].shape"
   ]
  },
  {
   "cell_type": "code",
   "execution_count": 105,
   "metadata": {},
   "outputs": [
    {
     "data": {
      "text/plain": [
       "(0, 63)"
      ]
     },
     "execution_count": 105,
     "metadata": {},
     "output_type": "execute_result"
    }
   ],
   "source": [
    "df2.loc[df2['E_PM2_5_total'] < 0].shape"
   ]
  },
  {
   "cell_type": "code",
   "execution_count": 106,
   "metadata": {},
   "outputs": [
    {
     "data": {
      "text/plain": [
       "(0, 2)"
      ]
     },
     "execution_count": 106,
     "metadata": {},
     "output_type": "execute_result"
    }
   ],
   "source": [
    "df2.loc[df2['E_NOx_total'] < 0, ['E_NOx_total', 'E_COLD_NOx']].shape"
   ]
  },
  {
   "attachments": {},
   "cell_type": "markdown",
   "metadata": {},
   "source": [
    "## 황산화물 배출량"
   ]
  },
  {
   "cell_type": "code",
   "execution_count": 107,
   "metadata": {},
   "outputs": [
    {
     "data": {
      "text/plain": [
       "100"
      ]
     },
     "execution_count": 107,
     "metadata": {},
     "output_type": "execute_result"
    }
   ],
   "source": [
    "V"
   ]
  },
  {
   "cell_type": "code",
   "execution_count": 108,
   "metadata": {},
   "outputs": [
    {
     "data": {
      "text/plain": [
       "array(['승용', '화물', '특수', '승합', nan], dtype=object)"
      ]
     },
     "execution_count": 108,
     "metadata": {},
     "output_type": "execute_result"
    }
   ],
   "source": [
    "df2['차종'].unique()"
   ]
  },
  {
   "cell_type": "code",
   "execution_count": 109,
   "metadata": {},
   "outputs": [
    {
     "data": {
      "text/plain": [
       "array(['중형', '대형', '경형', '소형', nan], dtype=object)"
      ]
     },
     "execution_count": 109,
     "metadata": {},
     "output_type": "execute_result"
    }
   ],
   "source": [
    "df2['차종유형'].unique()"
   ]
  },
  {
   "cell_type": "code",
   "execution_count": 110,
   "metadata": {},
   "outputs": [
    {
     "name": "stderr",
     "output_type": "stream",
     "text": [
      "100%|██████████| 25117098/25117098 [01:55<00:00, 218169.91it/s]\n"
     ]
    }
   ],
   "source": [
    "# 46.2s\n",
    "fcc_list = []\n",
    "for fone, cd, ty in tqdm(df2[['fuel', '차종', '차종유형']].values):\n",
    "    fccm = 0\n",
    "    for V in [30, 75, 100]:\n",
    "        if fone == '휘발유':\n",
    "            if cd == '승용':\n",
    "                fcc = 0.01090 * (V**2) - 1.5100*V + 93.672 # E01\n",
    "            elif cd == '승합':\n",
    "                if ty =='경형':\n",
    "                    fcc = 0.01090 * (V**2) - 1.5100*V + 93.672 # E01\n",
    "                elif ty == '소형' or ty == '중형' or ty == '대형':\n",
    "                    fcc = 0.01870 * (V**2) - 2.6974*V + 156.77 # E04\n",
    "            elif cd == '화물':\n",
    "                if ty == '경형':   \n",
    "                    fcc = 0.01090 * (V**2) - 1.5100*V + 93.672 # E01\n",
    "                elif ty == '소형' or ty == '중형' or ty == '대형':\n",
    "                    fcc = 0.01870 * (V**2) - 2.6974*V + 156.77 # E04\n",
    "            elif cd == '특수':\n",
    "                if ty == '소형' or ty == '중형' or ty == '대형':\n",
    "                    fcc = 0.01870 * (V**2) - 2.6974*V + 156.77 # E04\n",
    "        elif fone == '경유':\n",
    "            if cd == '승용':\n",
    "                fcc = 0.00790 * (V**2) - 1.3123*V + 83.660 # E12\n",
    "            elif cd == '승합':\n",
    "                if ty == '경형' or ty == '소형':\n",
    "                    fcc = 0.00790 * (V**2) - 1.3123*V + 83.660 # E12\n",
    "                elif ty == '중형':\n",
    "                    if V <= 60:\n",
    "                        fcc = 1425.2 * (V**(-0.7593)) # E17\n",
    "                    else:\n",
    "                        fcc = 0.0082 * (V**2) - 0.0430*V + 60.12 # E17\n",
    "                elif ty == '대형':\n",
    "                    if V <= 60:\n",
    "                        fcc = 1919.0 * (V**(-0.5396)) # E16\n",
    "                    else:\n",
    "                        fcc = 0.0447 * (V**2) - 7.072*V + 478 # E16\n",
    "            elif cd == '화물':\n",
    "                if ty == '경형' or ty == '소형':\n",
    "                    fcc = 0.00790 * (V**2) - 1.3123*V + 83.660 # E12\n",
    "                elif ty == '중형':\n",
    "                    if V <= 60:\n",
    "                        fcc = 1068.4 * (V**(-0.4905)) # E18\n",
    "                    else:\n",
    "                        fcc = 0.0126 * (V**2) - 0.6589*V + 141.2 # E18\n",
    "                elif ty == '대형':\n",
    "                    if V <= 60:\n",
    "                        fcc = 1595.1 * (V**(-0.4744)) # E19\n",
    "                    else:\n",
    "                        fcc = 0.0382 * (V**2) - 5.1630*V + 399.3 # E19\n",
    "\n",
    "            elif cd == '특수':\n",
    "                if ty == '소형':\n",
    "                    if V <= 60:\n",
    "                        fcc = 1068.4 * (V**(-0.4905)) # E18\n",
    "                    else:\n",
    "                        fcc = 0.0126 * (V**2) - 0.6589*V + 141.2 # E18\n",
    "                if ty == '중형' or ty == '대형':\n",
    "                    if V <= 60:\n",
    "                        fcc = 1595.1 * (V**(-0.4744)) # E19\n",
    "                    else:\n",
    "                        fcc = 0.0382 * (V**2) - 5.1630*V + 399.3 # E19\n",
    "        elif fone == 'LPG':\n",
    "            if cd == '승용':\n",
    "                fcc = 45 # E09\n",
    "            elif cd == '승합':\n",
    "                fcc = 45 # E09\n",
    "            elif cd == '화물':\n",
    "                if ty == '경형' or ty == '소형' or ty == '중형':\n",
    "                    fcc = 45 # E09\n",
    "            elif cd == '특수':\n",
    "                if ty == '소형' or ty == '중형'or ty == '대형':\n",
    "                    fcc = 45 # E09\n",
    "        if V < 60:\n",
    "            fccm += fcc * 0.34\n",
    "        elif 60 <= V < 90:\n",
    "            fccm += fcc * 0.33\n",
    "        elif V > 90:\n",
    "            fccm += fcc * 0.33\n",
    "    fcc_list.append(fccm)"
   ]
  },
  {
   "cell_type": "code",
   "execution_count": 111,
   "metadata": {},
   "outputs": [
    {
     "data": {
      "text/plain": [
       "(25117098, 63)"
      ]
     },
     "execution_count": 111,
     "metadata": {},
     "output_type": "execute_result"
    }
   ],
   "source": [
    "df2.shape"
   ]
  },
  {
   "cell_type": "code",
   "execution_count": 112,
   "metadata": {},
   "outputs": [
    {
     "data": {
      "text/plain": [
       "25117098"
      ]
     },
     "execution_count": 112,
     "metadata": {},
     "output_type": "execute_result"
    }
   ],
   "source": [
    "len(fcc_list)"
   ]
  },
  {
   "cell_type": "code",
   "execution_count": 113,
   "metadata": {},
   "outputs": [
    {
     "name": "stderr",
     "output_type": "stream",
     "text": [
      "  2%|▏         | 468124/25117098 [00:00<00:15, 1582193.27it/s]"
     ]
    },
    {
     "name": "stderr",
     "output_type": "stream",
     "text": [
      "100%|██████████| 25117098/25117098 [00:13<00:00, 1816060.36it/s]\n"
     ]
    }
   ],
   "source": [
    "# 5.0s\n",
    "# 단위 : %\n",
    "sf_list = []\n",
    "for fone in tqdm(df2['fuel']):\n",
    "    if fone == '경유':\n",
    "        sf = 0.017\n",
    "    elif fone == '휘발유':\n",
    "        sf = 0.001\n",
    "    elif fone == 'LPG':\n",
    "        sf = 0.015\n",
    "    sf_list.append(sf)"
   ]
  },
  {
   "cell_type": "code",
   "execution_count": 114,
   "metadata": {},
   "outputs": [
    {
     "data": {
      "text/plain": [
       "((25117098, 63), 25117098)"
      ]
     },
     "execution_count": 114,
     "metadata": {},
     "output_type": "execute_result"
    }
   ],
   "source": [
    "df2.shape, len(sf_list)"
   ]
  },
  {
   "cell_type": "code",
   "execution_count": 115,
   "metadata": {},
   "outputs": [],
   "source": [
    "# 3.5s\n",
    "df2['fcc'] = fcc_list\n",
    "df2['sf'] = sf_list"
   ]
  },
  {
   "cell_type": "code",
   "execution_count": 116,
   "metadata": {},
   "outputs": [],
   "source": [
    "df2['E_SOx_total'] = df2['VKT'] * df2['fcc'] * df2['sf'] * 2 / (1000*100)"
   ]
  },
  {
   "attachments": {},
   "cell_type": "markdown",
   "metadata": {},
   "source": [
    "## NH3"
   ]
  },
  {
   "cell_type": "code",
   "execution_count": 117,
   "metadata": {},
   "outputs": [
    {
     "data": {
      "text/plain": [
       "Index(['법정동코드', '차종', '차대번호', '최초등록일자', '차량연식', '배출가스인증번호', '배출가스등급', '차량말소YN',\n",
       "       '차종유형', '연료', '총중량', '배기량', '등급', 'fuel', '차령', '시도', '시구군', '일일평균주행거리',\n",
       "       '저감장치부착유무', 'VKT', 'DF_CO', 'DF_HC', 'DF_PM', 'DF_NOx', 'R_CO', 'R_HC',\n",
       "       'R_PM', 'EFi_CO', 'EFi_HC', 'EFi_NOx', 'EFi_PM10', 'EFi_PM2_5',\n",
       "       'EFi_NH3', 'E_HOT_CO', 'E_HOT_HC', 'E_HOT_NOx', 'E_HOT_PM10',\n",
       "       'E_HOT_PM2_5', 'Beta(Estimated)', 'eCOLD/eHOT_CO', 'eCOLD/eHOT_NOx',\n",
       "       'eCOLD/eHOT_HC', 'eCOLD/eHOT_PM', 'E_COLD_CO', 'E_COLD_NOx',\n",
       "       'E_COLD_HC', 'E_COLD_PM10', 'E_COLD_PM2_5', 'e_d', 'e_RHOT', 'e_SHOT',\n",
       "       'e_SWARM', 'e_fi', 'e_RWARM', 'R', 'S_fi', 'S_c', 'E_EVA_VOC',\n",
       "       'E_CO_total', 'E_HC_total', 'E_NOx_total', 'E_PM10_total',\n",
       "       'E_PM2_5_total', 'fcc', 'sf', 'E_SOx_total'],\n",
       "      dtype='object')"
      ]
     },
     "execution_count": 117,
     "metadata": {},
     "output_type": "execute_result"
    }
   ],
   "source": [
    "df2.columns"
   ]
  },
  {
   "cell_type": "code",
   "execution_count": 118,
   "metadata": {},
   "outputs": [
    {
     "data": {
      "text/plain": [
       "count   25117098.00\n",
       "mean       14437.04\n",
       "std         3300.01\n",
       "min         2847.00\n",
       "25%        13030.50\n",
       "50%        13505.00\n",
       "75%        14271.50\n",
       "max        98185.00\n",
       "Name: VKT, dtype: float64"
      ]
     },
     "execution_count": 118,
     "metadata": {},
     "output_type": "execute_result"
    }
   ],
   "source": [
    "df2['VKT'].describe()"
   ]
  },
  {
   "cell_type": "code",
   "execution_count": 119,
   "metadata": {},
   "outputs": [
    {
     "data": {
      "text/plain": [
       "0"
      ]
     },
     "execution_count": 119,
     "metadata": {},
     "output_type": "execute_result"
    }
   ],
   "source": [
    "df2['EFi_NH3'].isnull().sum()"
   ]
  },
  {
   "cell_type": "code",
   "execution_count": 120,
   "metadata": {},
   "outputs": [
    {
     "data": {
      "text/plain": [
       "count   25117098.00\n",
       "mean           0.01\n",
       "std            0.01\n",
       "min            0.00\n",
       "25%            0.00\n",
       "50%            0.01\n",
       "75%            0.01\n",
       "max            0.13\n",
       "Name: EFi_NH3, dtype: float64"
      ]
     },
     "execution_count": 120,
     "metadata": {},
     "output_type": "execute_result"
    }
   ],
   "source": [
    "df2['EFi_NH3'].describe()"
   ]
  },
  {
   "cell_type": "code",
   "execution_count": 121,
   "metadata": {},
   "outputs": [],
   "source": [
    "df2['E_NH3_total'] = df2['VKT'] * df2['EFi_NH3'] / 1000"
   ]
  },
  {
   "cell_type": "code",
   "execution_count": 122,
   "metadata": {},
   "outputs": [
    {
     "data": {
      "text/plain": [
       "count   25117098.00\n",
       "mean           0.14\n",
       "std            0.20\n",
       "min            0.01\n",
       "25%            0.03\n",
       "50%            0.15\n",
       "75%            0.16\n",
       "max            5.29\n",
       "Name: E_NH3_total, dtype: float64"
      ]
     },
     "execution_count": 122,
     "metadata": {},
     "output_type": "execute_result"
    }
   ],
   "source": [
    "df2['E_NH3_total'].describe()"
   ]
  },
  {
   "attachments": {},
   "cell_type": "markdown",
   "metadata": {},
   "source": [
    "## CO2"
   ]
  },
  {
   "cell_type": "code",
   "execution_count": 123,
   "metadata": {},
   "outputs": [
    {
     "data": {
      "text/plain": [
       "Index(['법정동코드', '차종', '차대번호', '최초등록일자', '차량연식', '배출가스인증번호', '배출가스등급', '차량말소YN',\n",
       "       '차종유형', '연료', '총중량', '배기량', '등급', 'fuel', '차령', '시도', '시구군', '일일평균주행거리',\n",
       "       '저감장치부착유무', 'VKT', 'DF_CO', 'DF_HC', 'DF_PM', 'DF_NOx', 'R_CO', 'R_HC',\n",
       "       'R_PM', 'EFi_CO', 'EFi_HC', 'EFi_NOx', 'EFi_PM10', 'EFi_PM2_5',\n",
       "       'EFi_NH3', 'E_HOT_CO', 'E_HOT_HC', 'E_HOT_NOx', 'E_HOT_PM10',\n",
       "       'E_HOT_PM2_5', 'Beta(Estimated)', 'eCOLD/eHOT_CO', 'eCOLD/eHOT_NOx',\n",
       "       'eCOLD/eHOT_HC', 'eCOLD/eHOT_PM', 'E_COLD_CO', 'E_COLD_NOx',\n",
       "       'E_COLD_HC', 'E_COLD_PM10', 'E_COLD_PM2_5', 'e_d', 'e_RHOT', 'e_SHOT',\n",
       "       'e_SWARM', 'e_fi', 'e_RWARM', 'R', 'S_fi', 'S_c', 'E_EVA_VOC',\n",
       "       'E_CO_total', 'E_HC_total', 'E_NOx_total', 'E_PM10_total',\n",
       "       'E_PM2_5_total', 'fcc', 'sf', 'E_SOx_total', 'E_NH3_total'],\n",
       "      dtype='object')"
      ]
     },
     "execution_count": 123,
     "metadata": {},
     "output_type": "execute_result"
    }
   ],
   "source": [
    "df2.columns"
   ]
  },
  {
   "cell_type": "code",
   "execution_count": 124,
   "metadata": {},
   "outputs": [
    {
     "data": {
      "text/plain": [
       "차량연식      int64\n",
       "배기량     float64\n",
       "총중량     float64\n",
       "dtype: object"
      ]
     },
     "execution_count": 124,
     "metadata": {},
     "output_type": "execute_result"
    }
   ],
   "source": [
    "df2[['차량연식', '배기량', '총중량']].dtypes"
   ]
  },
  {
   "cell_type": "code",
   "execution_count": 125,
   "metadata": {},
   "outputs": [
    {
     "data": {
      "text/plain": [
       "array(['중형', '대형', '경형', '소형', nan], dtype=object)"
      ]
     },
     "execution_count": 125,
     "metadata": {},
     "output_type": "execute_result"
    }
   ],
   "source": [
    "df2['차종유형'].unique()"
   ]
  },
  {
   "attachments": {},
   "cell_type": "markdown",
   "metadata": {},
   "source": [
    "### 계산식"
   ]
  },
  {
   "cell_type": "code",
   "execution_count": 126,
   "metadata": {},
   "outputs": [
    {
     "name": "stderr",
     "output_type": "stream",
     "text": [
      "100%|██████████| 25117098/25117098 [02:09<00:00, 194474.09it/s]\n"
     ]
    }
   ],
   "source": [
    "fc_list = []\n",
    "for ty, yr, fuel, cc, twg in tqdm(df2[['차종유형', '차량연식', 'fuel', '배기량', '총중량']].values):\n",
    "    fcm = 0\n",
    "    for V in [30, 75, 100]:\n",
    "        if fuel == '휘발유' and ty != '경형' and ty !='대형':\n",
    "            if yr <= 1971:\n",
    "                if cc < 1400:\n",
    "                    if 10 <= V < 60:\n",
    "                        fc = 521 * V**(-0.554)\n",
    "                    elif 60 <= V < 80:\n",
    "                        fc = 55\n",
    "                    elif 80 <= V <130:\n",
    "                        fc = 0.386*V + 24143\n",
    "                    else:\n",
    "                        fc = 0\n",
    "                elif 1400 <= cc < 2000:\n",
    "                    if 10 <= V < 60:\n",
    "                        fc = 681 * V**(-0.583)\n",
    "                    elif 60 <= V < 80:\n",
    "                        fc = 67\n",
    "                    elif 80 <= V <130:\n",
    "                        fc = 0.471*V + 29286\n",
    "                    else:\n",
    "                        fc = 0\n",
    "                elif cc >= 2000:\n",
    "                    if 10 <= V < 60:\n",
    "                        fc = 979 * V**(-0.628)\n",
    "                    elif 60 <= V < 80:\n",
    "                        fc = 80\n",
    "                    elif 80 <= V <130:\n",
    "                        fc = 0.414*V + 46867\n",
    "                    else:\n",
    "                        fc = 0\n",
    "                else:\n",
    "                    fc = 0\n",
    "            elif 1972 <= yr <= 1977:\n",
    "                if cc < 1400:\n",
    "                    if 10 <= V < 60:\n",
    "                        fc = 595 * V**(-0.63)\n",
    "                    elif 60 <= V < 130:\n",
    "                        fc = 95 - 1.324*V + 0.0086*V**2\n",
    "                    else:\n",
    "                        fc = 0\n",
    "                elif 1400 <= cc < 2000:\n",
    "                    if 10 <= V < 60:\n",
    "                        fc = 864 * V**(-0.69)\n",
    "                    elif 60 <= V < 130:\n",
    "                        fc = 59 - 0.407*V + 0.0042*V**2\n",
    "                    else:\n",
    "                        fc = 0\n",
    "                elif cc >= 2000:\n",
    "                    if 10 <= V < 60:\n",
    "                        fc = 1236 * V**(-0.764)\n",
    "                    elif 60 <= V < 130:\n",
    "                        fc = 65 - 0.407*V + 0.0042*V**2\n",
    "                    else:\n",
    "                        fc = 0\n",
    "                else:\n",
    "                    fc = 0\n",
    "            elif 1978 <= yr <= 1985:\n",
    "                if cc < 1400:\n",
    "                    if 10 <= V < 50:\n",
    "                        fc = 544 * V**(-0.63)\n",
    "                    elif 50 <= V < 130:\n",
    "                        fc = 85 - 1.108*V + 0.0077*V**2\n",
    "                    else:\n",
    "                        fc = 0\n",
    "                elif 1400 <= cc < 2000:\n",
    "                    if 10 <= V < 50:\n",
    "                        fc = 879 * V**(-0.72)\n",
    "                    elif 50 <= V < 130:\n",
    "                        fc = 71 - 0.7032*V + 0.0059*V**2\n",
    "                    else:\n",
    "                        fc = 0\n",
    "                elif cc >= 2000:\n",
    "                    if 10 <= V < 50:\n",
    "                        fc = 1224 * V**(-0.756)\n",
    "                    elif 50 <= V < 130:\n",
    "                        fc = 111 - 1.333*V + 0.0093*V**2\n",
    "                    else:\n",
    "                        fc = 0\n",
    "                else:\n",
    "                    fc = 0\n",
    "            elif 1986 <= yr <= 1992:\n",
    "                if cc < 1400:\n",
    "                    if 10 <= V < 17.9:\n",
    "                        fc = 296.7 - 80.21*ln(V)\n",
    "                    elif 17.9 <= V < 130:\n",
    "                        fc = 81.1 - 1.014*V + 0.0068*V**2\n",
    "                    else:\n",
    "                        fc = 0\n",
    "                elif 1400 <= cc < 2000:\n",
    "                    if 10 <= V < 22.3:\n",
    "                        fc = 606.1 * V**(-0.667)\n",
    "                    elif 22.3 <= V < 130:\n",
    "                        fc = 102.5 - 1.364*V + 0.0086*V**2\n",
    "                    else:\n",
    "                        fc = 0\n",
    "                elif cc >= 2000:\n",
    "                    if 10 <= V < 59.5:\n",
    "                        fc = 819.9 * V**(-0.663)\n",
    "                    elif 59.5 <= V < 130:\n",
    "                        fc = 41.7 - 0.122*V + 0.0016*V**2\n",
    "                    else:\n",
    "                        fc = 0\n",
    "                else:\n",
    "                    fc = 0\n",
    "            elif yr > 1993:\n",
    "                if cc < 1400:\n",
    "                    if 10 <= V < 130:\n",
    "                        fc = 85.55 - 1.383*V + 0.0117*V**2\n",
    "                elif 1400 <= V <2000:\n",
    "                    if 10 <= V < 130:\n",
    "                        fc = 109.6 - 1.98*V + 0.0168*V**2\n",
    "                    else:\n",
    "                        fc = 0\n",
    "                else:\n",
    "                    fc = 0\n",
    "            else:\n",
    "                fc = 0\n",
    "        elif fuel == '휘발유' and ty == '경형':\n",
    "            if twg < 3500:\n",
    "                if 10 <= V < 110:\n",
    "                    fc = 0.0167*V**2 - 2.649*V + 161.51\n",
    "                else:\n",
    "                    fc = 0\n",
    "            else:\n",
    "                fc = 0\n",
    "        elif fuel == '휘발유' and ty == '대형':\n",
    "            if twg > 3500:\n",
    "                if V <= 60:\n",
    "                    fc = 225\n",
    "                elif 60 < V <= 90:\n",
    "                    fc = 150\n",
    "                elif V > 90:\n",
    "                    fc = 165\n",
    "                else:\n",
    "                    fc = 0\n",
    "            else:\n",
    "                fc = 0\n",
    "        elif fuel == '경유' and ty != '경형' and ty != '대형':\n",
    "            if yr <= 1991:\n",
    "                if twg < 2500:\n",
    "                    if 10 <= V < 130:\n",
    "                        fc = 91.106 - 1.308*V + 0.00871*V**2\n",
    "            else:\n",
    "                if twg < 2500:\n",
    "                    if 10 <= V < 130:\n",
    "                        fc = 118.489 - 2.084*V + 0.014*V**2\n",
    "                    else:\n",
    "                        fc = 0\n",
    "                else:\n",
    "                    fc = 0\n",
    "        elif fuel == '경유' and ty == '경형':\n",
    "            if twg < 3500:\n",
    "                if 10 <= V < 110:\n",
    "                    fc = 0.02113*V**2 - 2.65*V + 148.91\n",
    "                else:\n",
    "                    fc = 0\n",
    "            else:\n",
    "                fc = 0\n",
    "        elif fuel == '경유' and ty == '대형':\n",
    "            if twg > 3500:\n",
    "                if twg < 7500:\n",
    "                    if 0 <= V < 47:\n",
    "                        fc = 1425.2*V**(-0.7593)\n",
    "                    elif 47 <= V < 100:\n",
    "                        fc = 0.0082*V**2 - 0.0430*V + 60.12\n",
    "                    else:\n",
    "                        fc = 0\n",
    "                elif 7500 <= twg < 16000:\n",
    "                    if 0 <= V < 59:\n",
    "                        fc = 1068.4*V**(-0.4905)\n",
    "                    elif 59 <= V < 100:\n",
    "                        fc = 0.0126*V**2 - 0.6589*V + 141.18\n",
    "                    else:\n",
    "                        fc = 0\n",
    "                elif 16000 <= twg < 32000:\n",
    "                    if 0 <= V < 59:\n",
    "                        fc = 1595.1*V**(-0.4744)\n",
    "                    elif 59 <= V < 100:\n",
    "                        fc = 0.0382*V**2 - 5.1630*V + 399.3\n",
    "                    else:\n",
    "                        fc = 0\n",
    "                elif twg > 32000:\n",
    "                    if 0 <= V < 58:\n",
    "                        fc = 1855.7*V**(-0.4367)\n",
    "                    elif 58 <= V < 100:\n",
    "                        fc = 0.0765*V**2 - 11.414*V + 720.9\n",
    "                    else:\n",
    "                        fc = 0\n",
    "                else:\n",
    "                    fc = 0\n",
    "        elif fuel == 'LPG':\n",
    "            if yr <= 1991:\n",
    "                if twg < 2500:\n",
    "                    if 10 <= V < 130:\n",
    "                        fc = 0.00720*V**2 - 0.9250*V + 74.625\n",
    "                    else:\n",
    "                        fc = 0\n",
    "                else:\n",
    "                    fc = 0\n",
    "            else:\n",
    "                if twg < 2500:\n",
    "                    if V <= 60:\n",
    "                        fc = 59\n",
    "                    elif 60 < V <= 90:\n",
    "                        fc = 45\n",
    "                    elif V > 90:\n",
    "                        fc = 54\n",
    "                    else:\n",
    "                        fc = 0\n",
    "                else:\n",
    "                    fc = 0\n",
    "        else:\n",
    "            fc = 0\n",
    "\n",
    "        if V < 60:\n",
    "            fc = fc*0.34\n",
    "        elif 60 <= V <= 90:\n",
    "            fc = fc*0.33\n",
    "        elif V > 90:\n",
    "            fc = fc*0.33\n",
    "        fcm += fc\n",
    "    fc_list.append(fcm)"
   ]
  },
  {
   "cell_type": "code",
   "execution_count": 127,
   "metadata": {},
   "outputs": [
    {
     "data": {
      "text/plain": [
       "((25117098, 67), 25117098)"
      ]
     },
     "execution_count": 127,
     "metadata": {},
     "output_type": "execute_result"
    }
   ],
   "source": [
    "df2.shape, len(fc_list)"
   ]
  },
  {
   "cell_type": "code",
   "execution_count": 128,
   "metadata": {},
   "outputs": [],
   "source": [
    "df2['FC'] = fc_list"
   ]
  },
  {
   "cell_type": "code",
   "execution_count": 129,
   "metadata": {},
   "outputs": [
    {
     "name": "stderr",
     "output_type": "stream",
     "text": [
      "  0%|          | 0/25117098 [00:00<?, ?it/s]"
     ]
    },
    {
     "name": "stderr",
     "output_type": "stream",
     "text": [
      "100%|██████████| 25117098/25117098 [00:13<00:00, 1830181.82it/s]\n"
     ]
    }
   ],
   "source": [
    "r_HC_list = []\n",
    "for fuel in tqdm(df2['fuel']):\n",
    "    if fuel == '휘발유':\n",
    "        r_HC = 1.8\n",
    "    elif fuel == '경유':\n",
    "        r_HC = 2.0\n",
    "    else:\n",
    "        r_HC = 1.3 # chatGPT 최이사님(2023.06.22.목)\n",
    "    r_HC_list.append(r_HC)"
   ]
  },
  {
   "cell_type": "code",
   "execution_count": 130,
   "metadata": {},
   "outputs": [
    {
     "data": {
      "text/plain": [
       "((25117098, 68), 25117098)"
      ]
     },
     "execution_count": 130,
     "metadata": {},
     "output_type": "execute_result"
    }
   ],
   "source": [
    "df2.shape, len(r_HC_list)"
   ]
  },
  {
   "cell_type": "code",
   "execution_count": 131,
   "metadata": {},
   "outputs": [],
   "source": [
    "df2['r_HC'] = r_HC_list"
   ]
  },
  {
   "cell_type": "code",
   "execution_count": 132,
   "metadata": {},
   "outputs": [
    {
     "data": {
      "text/plain": [
       "Index(['법정동코드', '차종', '차대번호', '최초등록일자', '차량연식', '배출가스인증번호', '배출가스등급', '차량말소YN',\n",
       "       '차종유형', '연료', '총중량', '배기량', '등급', 'fuel', '차령', '시도', '시구군', '일일평균주행거리',\n",
       "       '저감장치부착유무', 'VKT', 'DF_CO', 'DF_HC', 'DF_PM', 'DF_NOx', 'R_CO', 'R_HC',\n",
       "       'R_PM', 'EFi_CO', 'EFi_HC', 'EFi_NOx', 'EFi_PM10', 'EFi_PM2_5',\n",
       "       'EFi_NH3', 'E_HOT_CO', 'E_HOT_HC', 'E_HOT_NOx', 'E_HOT_PM10',\n",
       "       'E_HOT_PM2_5', 'Beta(Estimated)', 'eCOLD/eHOT_CO', 'eCOLD/eHOT_NOx',\n",
       "       'eCOLD/eHOT_HC', 'eCOLD/eHOT_PM', 'E_COLD_CO', 'E_COLD_NOx',\n",
       "       'E_COLD_HC', 'E_COLD_PM10', 'E_COLD_PM2_5', 'e_d', 'e_RHOT', 'e_SHOT',\n",
       "       'e_SWARM', 'e_fi', 'e_RWARM', 'R', 'S_fi', 'S_c', 'E_EVA_VOC',\n",
       "       'E_CO_total', 'E_HC_total', 'E_NOx_total', 'E_PM10_total',\n",
       "       'E_PM2_5_total', 'fcc', 'sf', 'E_SOx_total', 'E_NH3_total', 'FC',\n",
       "       'r_HC'],\n",
       "      dtype='object')"
      ]
     },
     "execution_count": 132,
     "metadata": {},
     "output_type": "execute_result"
    }
   ],
   "source": [
    "df2.columns"
   ]
  },
  {
   "cell_type": "code",
   "execution_count": 133,
   "metadata": {},
   "outputs": [],
   "source": [
    "df2['E_CO2_total'] = (44011 * ( df2['FC'] / (12011 + 1008 * df2['r_HC'])) - df2['E_CO_total'] / 28011 - df2['E_HC_total'] / 1385 - (df2['E_PM10_total'] + df2['E_PM2_5_total']) / 12011) / 1000"
   ]
  },
  {
   "cell_type": "code",
   "execution_count": 134,
   "metadata": {},
   "outputs": [
    {
     "data": {
      "text/plain": [
       "count   25117098.00\n",
       "mean           0.07\n",
       "std            0.12\n",
       "min           -0.00\n",
       "25%           -0.00\n",
       "50%           -0.00\n",
       "75%            0.17\n",
       "max           49.49\n",
       "Name: E_CO2_total, dtype: float64"
      ]
     },
     "execution_count": 134,
     "metadata": {},
     "output_type": "execute_result"
    }
   ],
   "source": [
    "df2['E_CO2_total'].describe()"
   ]
  },
  {
   "cell_type": "code",
   "execution_count": 135,
   "metadata": {},
   "outputs": [
    {
     "data": {
      "text/plain": [
       "(15785180, 70)"
      ]
     },
     "execution_count": 135,
     "metadata": {},
     "output_type": "execute_result"
    }
   ],
   "source": [
    "df2[df2['E_CO2_total'] < 0].shape"
   ]
  },
  {
   "attachments": {},
   "cell_type": "markdown",
   "metadata": {},
   "source": [
    "### 음수 0으로 처리"
   ]
  },
  {
   "cell_type": "code",
   "execution_count": 136,
   "metadata": {},
   "outputs": [],
   "source": [
    "df2.loc[df2['E_CO2_total'] < 0, 'E_CO2_total'] = 0"
   ]
  },
  {
   "attachments": {},
   "cell_type": "markdown",
   "metadata": {},
   "source": [
    "# 통계"
   ]
  },
  {
   "attachments": {},
   "cell_type": "markdown",
   "metadata": {},
   "source": [
    "## 배출량 통계1\n",
    "- 조건\n",
    "    - 승용(경형, 소형, 중형)\n",
    "    - 화물(소형, 중형)"
   ]
  },
  {
   "cell_type": "code",
   "execution_count": 137,
   "metadata": {},
   "outputs": [
    {
     "data": {
      "text/plain": [
       "(17575496, 70)"
      ]
     },
     "execution_count": 137,
     "metadata": {},
     "output_type": "execute_result"
    }
   ],
   "source": [
    "ad = df2.loc[(df2['차종'] == '승용') & ((df2['차종유형'] == '경형') | (df2['차종유형'] == '소형') | (df2['차종유형'] == '중형')) | (df2['차종'] == '화물') & ((df2['차종유형'] == '소형') | (df2['차종유형'] == '중형'))].reset_index(drop=True)\n",
    "ad.shape"
   ]
  },
  {
   "cell_type": "code",
   "execution_count": 138,
   "metadata": {},
   "outputs": [
    {
     "data": {
      "text/plain": [
       "True"
      ]
     },
     "execution_count": 138,
     "metadata": {},
     "output_type": "execute_result"
    }
   ],
   "source": [
    "adgl = ad[(ad['fuel'] == '휘발유') | (ad['fuel'] == 'LPG')]\n",
    "add = ad[ad['fuel'] == '경유']\n",
    "ad.shape[0] == adgl.shape[0] + add.shape[0]"
   ]
  },
  {
   "cell_type": "code",
   "execution_count": 139,
   "metadata": {},
   "outputs": [
    {
     "data": {
      "text/html": [
       "<div>\n",
       "<style scoped>\n",
       "    .dataframe tbody tr th:only-of-type {\n",
       "        vertical-align: middle;\n",
       "    }\n",
       "\n",
       "    .dataframe tbody tr th {\n",
       "        vertical-align: top;\n",
       "    }\n",
       "\n",
       "    .dataframe thead th {\n",
       "        text-align: right;\n",
       "    }\n",
       "</style>\n",
       "<table border=\"1\" class=\"dataframe\">\n",
       "  <thead>\n",
       "    <tr style=\"text-align: right;\">\n",
       "      <th></th>\n",
       "      <th>E_CO_total</th>\n",
       "      <th>E_HC_total</th>\n",
       "      <th>E_NOx_total</th>\n",
       "      <th>E_PM10_total</th>\n",
       "      <th>E_PM2_5_total</th>\n",
       "      <th>E_SOx_total</th>\n",
       "      <th>E_NH3_total</th>\n",
       "      <th>E_CO2_total</th>\n",
       "      <th>차대번호</th>\n",
       "    </tr>\n",
       "    <tr>\n",
       "      <th>등급</th>\n",
       "      <th></th>\n",
       "      <th></th>\n",
       "      <th></th>\n",
       "      <th></th>\n",
       "      <th></th>\n",
       "      <th></th>\n",
       "      <th></th>\n",
       "      <th></th>\n",
       "      <th></th>\n",
       "    </tr>\n",
       "  </thead>\n",
       "  <tbody>\n",
       "    <tr>\n",
       "      <th>1</th>\n",
       "      <td>3353576.42</td>\n",
       "      <td>447121.24</td>\n",
       "      <td>426403.61</td>\n",
       "      <td>8046.61</td>\n",
       "      <td>7402.88</td>\n",
       "      <td>101637.14</td>\n",
       "      <td>239431.70</td>\n",
       "      <td>98085.05</td>\n",
       "      <td>1464897</td>\n",
       "    </tr>\n",
       "    <tr>\n",
       "      <th>2</th>\n",
       "      <td>51199298.96</td>\n",
       "      <td>4228282.19</td>\n",
       "      <td>2532228.13</td>\n",
       "      <td>52806.59</td>\n",
       "      <td>48589.23</td>\n",
       "      <td>240610.39</td>\n",
       "      <td>1392899.40</td>\n",
       "      <td>616949.22</td>\n",
       "      <td>8142605</td>\n",
       "    </tr>\n",
       "    <tr>\n",
       "      <th>3</th>\n",
       "      <td>14934817.89</td>\n",
       "      <td>855383.69</td>\n",
       "      <td>2532611.54</td>\n",
       "      <td>8003.05</td>\n",
       "      <td>7420.24</td>\n",
       "      <td>44057.77</td>\n",
       "      <td>402573.41</td>\n",
       "      <td>57510.59</td>\n",
       "      <td>743317</td>\n",
       "    </tr>\n",
       "    <tr>\n",
       "      <th>4</th>\n",
       "      <td>20152676.11</td>\n",
       "      <td>2439355.71</td>\n",
       "      <td>4081780.43</td>\n",
       "      <td>13131.28</td>\n",
       "      <td>12154.53</td>\n",
       "      <td>6806.26</td>\n",
       "      <td>327520.43</td>\n",
       "      <td>26310.80</td>\n",
       "      <td>305946</td>\n",
       "    </tr>\n",
       "    <tr>\n",
       "      <th>5</th>\n",
       "      <td>12092105.69</td>\n",
       "      <td>1446128.74</td>\n",
       "      <td>789084.26</td>\n",
       "      <td>451.40</td>\n",
       "      <td>415.29</td>\n",
       "      <td>488.23</td>\n",
       "      <td>28614.71</td>\n",
       "      <td>6471.45</td>\n",
       "      <td>29276</td>\n",
       "    </tr>\n",
       "    <tr>\n",
       "      <th>X</th>\n",
       "      <td>383980.30</td>\n",
       "      <td>40906.78</td>\n",
       "      <td>30203.12</td>\n",
       "      <td>480.09</td>\n",
       "      <td>441.68</td>\n",
       "      <td>2228.90</td>\n",
       "      <td>13206.68</td>\n",
       "      <td>4379.23</td>\n",
       "      <td>75078</td>\n",
       "    </tr>\n",
       "  </tbody>\n",
       "</table>\n",
       "</div>"
      ],
      "text/plain": [
       "    E_CO_total  E_HC_total  E_NOx_total  E_PM10_total  E_PM2_5_total   \n",
       "등급                                                                     \n",
       "1   3353576.42   447121.24    426403.61       8046.61        7402.88  \\\n",
       "2  51199298.96  4228282.19   2532228.13      52806.59       48589.23   \n",
       "3  14934817.89   855383.69   2532611.54       8003.05        7420.24   \n",
       "4  20152676.11  2439355.71   4081780.43      13131.28       12154.53   \n",
       "5  12092105.69  1446128.74    789084.26        451.40         415.29   \n",
       "X    383980.30    40906.78     30203.12        480.09         441.68   \n",
       "\n",
       "    E_SOx_total  E_NH3_total  E_CO2_total     차대번호  \n",
       "등급                                                  \n",
       "1     101637.14    239431.70     98085.05  1464897  \n",
       "2     240610.39   1392899.40    616949.22  8142605  \n",
       "3      44057.77    402573.41     57510.59   743317  \n",
       "4       6806.26    327520.43     26310.80   305946  \n",
       "5        488.23     28614.71      6471.45    29276  \n",
       "X       2228.90     13206.68      4379.23    75078  "
      ]
     },
     "execution_count": 139,
     "metadata": {},
     "output_type": "execute_result"
    }
   ],
   "source": [
    "grp1 = adgl.groupby(['등급'], dropna=False).agg({'E_CO_total':'sum', 'E_HC_total':'sum', 'E_NOx_total':'sum', 'E_PM10_total':'sum', 'E_PM2_5_total':'sum', 'E_SOx_total':'sum', 'E_NH3_total':'sum', 'E_CO2_total':'sum', '차대번호':'count'})\n",
    "grp1"
   ]
  },
  {
   "cell_type": "code",
   "execution_count": 140,
   "metadata": {},
   "outputs": [
    {
     "data": {
      "text/html": [
       "<div>\n",
       "<style scoped>\n",
       "    .dataframe tbody tr th:only-of-type {\n",
       "        vertical-align: middle;\n",
       "    }\n",
       "\n",
       "    .dataframe tbody tr th {\n",
       "        vertical-align: top;\n",
       "    }\n",
       "\n",
       "    .dataframe thead th {\n",
       "        text-align: right;\n",
       "    }\n",
       "</style>\n",
       "<table border=\"1\" class=\"dataframe\">\n",
       "  <thead>\n",
       "    <tr style=\"text-align: right;\">\n",
       "      <th></th>\n",
       "      <th>E_CO_total</th>\n",
       "      <th>E_HC_total</th>\n",
       "      <th>E_NOx_total</th>\n",
       "      <th>E_PM10_total</th>\n",
       "      <th>E_PM2_5_total</th>\n",
       "      <th>E_SOx_total</th>\n",
       "      <th>E_NH3_total</th>\n",
       "      <th>E_CO2_total</th>\n",
       "      <th>차대번호</th>\n",
       "      <th>CO</th>\n",
       "      <th>NOx</th>\n",
       "      <th>SOx</th>\n",
       "      <th>PM10</th>\n",
       "      <th>PM2.5</th>\n",
       "      <th>HC</th>\n",
       "      <th>NH3</th>\n",
       "      <th>CO2</th>\n",
       "    </tr>\n",
       "    <tr>\n",
       "      <th>등급</th>\n",
       "      <th></th>\n",
       "      <th></th>\n",
       "      <th></th>\n",
       "      <th></th>\n",
       "      <th></th>\n",
       "      <th></th>\n",
       "      <th></th>\n",
       "      <th></th>\n",
       "      <th></th>\n",
       "      <th></th>\n",
       "      <th></th>\n",
       "      <th></th>\n",
       "      <th></th>\n",
       "      <th></th>\n",
       "      <th></th>\n",
       "      <th></th>\n",
       "      <th></th>\n",
       "    </tr>\n",
       "  </thead>\n",
       "  <tbody>\n",
       "    <tr>\n",
       "      <th>1</th>\n",
       "      <td>3353576.42</td>\n",
       "      <td>447121.24</td>\n",
       "      <td>426403.61</td>\n",
       "      <td>8046.61</td>\n",
       "      <td>7402.88</td>\n",
       "      <td>101637.14</td>\n",
       "      <td>239431.70</td>\n",
       "      <td>98085.05</td>\n",
       "      <td>1464897</td>\n",
       "      <td>2.29</td>\n",
       "      <td>0.29</td>\n",
       "      <td>0.07</td>\n",
       "      <td>0.01</td>\n",
       "      <td>0.01</td>\n",
       "      <td>0.31</td>\n",
       "      <td>0.16</td>\n",
       "      <td>0.07</td>\n",
       "    </tr>\n",
       "    <tr>\n",
       "      <th>2</th>\n",
       "      <td>51199298.96</td>\n",
       "      <td>4228282.19</td>\n",
       "      <td>2532228.13</td>\n",
       "      <td>52806.59</td>\n",
       "      <td>48589.23</td>\n",
       "      <td>240610.39</td>\n",
       "      <td>1392899.40</td>\n",
       "      <td>616949.22</td>\n",
       "      <td>8142605</td>\n",
       "      <td>6.29</td>\n",
       "      <td>0.31</td>\n",
       "      <td>0.03</td>\n",
       "      <td>0.01</td>\n",
       "      <td>0.01</td>\n",
       "      <td>0.52</td>\n",
       "      <td>0.17</td>\n",
       "      <td>0.08</td>\n",
       "    </tr>\n",
       "    <tr>\n",
       "      <th>3</th>\n",
       "      <td>14934817.89</td>\n",
       "      <td>855383.69</td>\n",
       "      <td>2532611.54</td>\n",
       "      <td>8003.05</td>\n",
       "      <td>7420.24</td>\n",
       "      <td>44057.77</td>\n",
       "      <td>402573.41</td>\n",
       "      <td>57510.59</td>\n",
       "      <td>743317</td>\n",
       "      <td>20.09</td>\n",
       "      <td>3.41</td>\n",
       "      <td>0.06</td>\n",
       "      <td>0.01</td>\n",
       "      <td>0.01</td>\n",
       "      <td>1.15</td>\n",
       "      <td>0.54</td>\n",
       "      <td>0.08</td>\n",
       "    </tr>\n",
       "    <tr>\n",
       "      <th>4</th>\n",
       "      <td>20152676.11</td>\n",
       "      <td>2439355.71</td>\n",
       "      <td>4081780.43</td>\n",
       "      <td>13131.28</td>\n",
       "      <td>12154.53</td>\n",
       "      <td>6806.26</td>\n",
       "      <td>327520.43</td>\n",
       "      <td>26310.80</td>\n",
       "      <td>305946</td>\n",
       "      <td>65.87</td>\n",
       "      <td>13.34</td>\n",
       "      <td>0.02</td>\n",
       "      <td>0.04</td>\n",
       "      <td>0.04</td>\n",
       "      <td>7.97</td>\n",
       "      <td>1.07</td>\n",
       "      <td>0.09</td>\n",
       "    </tr>\n",
       "    <tr>\n",
       "      <th>5</th>\n",
       "      <td>12092105.69</td>\n",
       "      <td>1446128.74</td>\n",
       "      <td>789084.26</td>\n",
       "      <td>451.40</td>\n",
       "      <td>415.29</td>\n",
       "      <td>488.23</td>\n",
       "      <td>28614.71</td>\n",
       "      <td>6471.45</td>\n",
       "      <td>29276</td>\n",
       "      <td>413.04</td>\n",
       "      <td>26.95</td>\n",
       "      <td>0.02</td>\n",
       "      <td>0.02</td>\n",
       "      <td>0.01</td>\n",
       "      <td>49.40</td>\n",
       "      <td>0.98</td>\n",
       "      <td>0.22</td>\n",
       "    </tr>\n",
       "    <tr>\n",
       "      <th>X</th>\n",
       "      <td>383980.30</td>\n",
       "      <td>40906.78</td>\n",
       "      <td>30203.12</td>\n",
       "      <td>480.09</td>\n",
       "      <td>441.68</td>\n",
       "      <td>2228.90</td>\n",
       "      <td>13206.68</td>\n",
       "      <td>4379.23</td>\n",
       "      <td>75078</td>\n",
       "      <td>5.11</td>\n",
       "      <td>0.40</td>\n",
       "      <td>0.03</td>\n",
       "      <td>0.01</td>\n",
       "      <td>0.01</td>\n",
       "      <td>0.54</td>\n",
       "      <td>0.18</td>\n",
       "      <td>0.06</td>\n",
       "    </tr>\n",
       "  </tbody>\n",
       "</table>\n",
       "</div>"
      ],
      "text/plain": [
       "    E_CO_total  E_HC_total  E_NOx_total  E_PM10_total  E_PM2_5_total   \n",
       "등급                                                                     \n",
       "1   3353576.42   447121.24    426403.61       8046.61        7402.88  \\\n",
       "2  51199298.96  4228282.19   2532228.13      52806.59       48589.23   \n",
       "3  14934817.89   855383.69   2532611.54       8003.05        7420.24   \n",
       "4  20152676.11  2439355.71   4081780.43      13131.28       12154.53   \n",
       "5  12092105.69  1446128.74    789084.26        451.40         415.29   \n",
       "X    383980.30    40906.78     30203.12        480.09         441.68   \n",
       "\n",
       "    E_SOx_total  E_NH3_total  E_CO2_total     차대번호     CO   NOx  SOx  PM10   \n",
       "등급                                                                           \n",
       "1     101637.14    239431.70     98085.05  1464897   2.29  0.29 0.07  0.01  \\\n",
       "2     240610.39   1392899.40    616949.22  8142605   6.29  0.31 0.03  0.01   \n",
       "3      44057.77    402573.41     57510.59   743317  20.09  3.41 0.06  0.01   \n",
       "4       6806.26    327520.43     26310.80   305946  65.87 13.34 0.02  0.04   \n",
       "5        488.23     28614.71      6471.45    29276 413.04 26.95 0.02  0.02   \n",
       "X       2228.90     13206.68      4379.23    75078   5.11  0.40 0.03  0.01   \n",
       "\n",
       "    PM2.5    HC  NH3  CO2  \n",
       "등급                         \n",
       "1    0.01  0.31 0.16 0.07  \n",
       "2    0.01  0.52 0.17 0.08  \n",
       "3    0.01  1.15 0.54 0.08  \n",
       "4    0.04  7.97 1.07 0.09  \n",
       "5    0.01 49.40 0.98 0.22  \n",
       "X    0.01  0.54 0.18 0.06  "
      ]
     },
     "execution_count": 140,
     "metadata": {},
     "output_type": "execute_result"
    }
   ],
   "source": [
    "grp1['CO'] = grp1['E_CO_total'] / grp1['차대번호']\n",
    "grp1['NOx'] = grp1['E_NOx_total'] / grp1['차대번호']\n",
    "grp1['SOx'] = grp1['E_SOx_total'] / grp1['차대번호']\n",
    "grp1['PM10'] = grp1['E_PM10_total'] / grp1['차대번호']\n",
    "grp1['PM2.5'] = grp1['E_PM2_5_total'] / grp1['차대번호']\n",
    "grp1['HC'] = grp1['E_HC_total'] / grp1['차대번호']\n",
    "grp1['NH3'] = grp1['E_NH3_total'] / grp1['차대번호']\n",
    "grp1['CO2'] = grp1['E_CO2_total'] / grp1['차대번호']\n",
    "grp1"
   ]
  },
  {
   "cell_type": "code",
   "execution_count": 141,
   "metadata": {},
   "outputs": [
    {
     "data": {
      "text/html": [
       "<div>\n",
       "<style scoped>\n",
       "    .dataframe tbody tr th:only-of-type {\n",
       "        vertical-align: middle;\n",
       "    }\n",
       "\n",
       "    .dataframe tbody tr th {\n",
       "        vertical-align: top;\n",
       "    }\n",
       "\n",
       "    .dataframe thead th {\n",
       "        text-align: right;\n",
       "    }\n",
       "</style>\n",
       "<table border=\"1\" class=\"dataframe\">\n",
       "  <thead>\n",
       "    <tr style=\"text-align: right;\">\n",
       "      <th>차종</th>\n",
       "      <th>승용</th>\n",
       "      <th>화물</th>\n",
       "    </tr>\n",
       "    <tr>\n",
       "      <th>등급</th>\n",
       "      <th></th>\n",
       "      <th></th>\n",
       "    </tr>\n",
       "  </thead>\n",
       "  <tbody>\n",
       "    <tr>\n",
       "      <th>1</th>\n",
       "      <td>1464897.00</td>\n",
       "      <td>NaN</td>\n",
       "    </tr>\n",
       "    <tr>\n",
       "      <th>2</th>\n",
       "      <td>8077885.00</td>\n",
       "      <td>64720.00</td>\n",
       "    </tr>\n",
       "    <tr>\n",
       "      <th>3</th>\n",
       "      <td>742042.00</td>\n",
       "      <td>1275.00</td>\n",
       "    </tr>\n",
       "    <tr>\n",
       "      <th>4</th>\n",
       "      <td>300546.00</td>\n",
       "      <td>5400.00</td>\n",
       "    </tr>\n",
       "    <tr>\n",
       "      <th>5</th>\n",
       "      <td>27378.00</td>\n",
       "      <td>1898.00</td>\n",
       "    </tr>\n",
       "    <tr>\n",
       "      <th>X</th>\n",
       "      <td>74468.00</td>\n",
       "      <td>610.00</td>\n",
       "    </tr>\n",
       "  </tbody>\n",
       "</table>\n",
       "</div>"
      ],
      "text/plain": [
       "차종         승용       화물\n",
       "등급                    \n",
       "1  1464897.00      NaN\n",
       "2  8077885.00 64720.00\n",
       "3   742042.00  1275.00\n",
       "4   300546.00  5400.00\n",
       "5    27378.00  1898.00\n",
       "X    74468.00   610.00"
      ]
     },
     "execution_count": 141,
     "metadata": {},
     "output_type": "execute_result"
    }
   ],
   "source": [
    "grp1_1 = adgl.groupby(['등급', '차종'], dropna=False)['차대번호'].count().unstack('차종')\n",
    "grp1_1"
   ]
  },
  {
   "cell_type": "code",
   "execution_count": 142,
   "metadata": {},
   "outputs": [
    {
     "data": {
      "text/html": [
       "<div>\n",
       "<style scoped>\n",
       "    .dataframe tbody tr th:only-of-type {\n",
       "        vertical-align: middle;\n",
       "    }\n",
       "\n",
       "    .dataframe tbody tr th {\n",
       "        vertical-align: top;\n",
       "    }\n",
       "\n",
       "    .dataframe thead th {\n",
       "        text-align: right;\n",
       "    }\n",
       "</style>\n",
       "<table border=\"1\" class=\"dataframe\">\n",
       "  <thead>\n",
       "    <tr style=\"text-align: right;\">\n",
       "      <th></th>\n",
       "      <th></th>\n",
       "      <th>E_CO_total</th>\n",
       "      <th>E_HC_total</th>\n",
       "      <th>E_NOx_total</th>\n",
       "      <th>E_PM10_total</th>\n",
       "      <th>E_PM2_5_total</th>\n",
       "      <th>E_SOx_total</th>\n",
       "      <th>E_NH3_total</th>\n",
       "      <th>E_CO2_total</th>\n",
       "      <th>차대번호</th>\n",
       "    </tr>\n",
       "    <tr>\n",
       "      <th>등급</th>\n",
       "      <th>저감장치부착유무</th>\n",
       "      <th></th>\n",
       "      <th></th>\n",
       "      <th></th>\n",
       "      <th></th>\n",
       "      <th></th>\n",
       "      <th></th>\n",
       "      <th></th>\n",
       "      <th></th>\n",
       "      <th></th>\n",
       "    </tr>\n",
       "  </thead>\n",
       "  <tbody>\n",
       "    <tr>\n",
       "      <th>3</th>\n",
       "      <th>NaN</th>\n",
       "      <td>8173773.29</td>\n",
       "      <td>1132422.26</td>\n",
       "      <td>54511823.43</td>\n",
       "      <td>333196.28</td>\n",
       "      <td>305981.30</td>\n",
       "      <td>1194307.60</td>\n",
       "      <td>118239.56</td>\n",
       "      <td>535449.77</td>\n",
       "      <td>5213000</td>\n",
       "    </tr>\n",
       "    <tr>\n",
       "      <th rowspan=\"2\" valign=\"top\">4</th>\n",
       "      <th>유</th>\n",
       "      <td>0.58</td>\n",
       "      <td>2.29</td>\n",
       "      <td>994.60</td>\n",
       "      <td>1.47</td>\n",
       "      <td>1.34</td>\n",
       "      <td>10.90</td>\n",
       "      <td>0.28</td>\n",
       "      <td>0.50</td>\n",
       "      <td>15</td>\n",
       "    </tr>\n",
       "    <tr>\n",
       "      <th>NaN</th>\n",
       "      <td>824810.53</td>\n",
       "      <td>272087.92</td>\n",
       "      <td>22430903.77</td>\n",
       "      <td>468057.61</td>\n",
       "      <td>430230.49</td>\n",
       "      <td>207573.09</td>\n",
       "      <td>13566.04</td>\n",
       "      <td>58273.81</td>\n",
       "      <td>835890</td>\n",
       "    </tr>\n",
       "    <tr>\n",
       "      <th rowspan=\"2\" valign=\"top\">5</th>\n",
       "      <th>유</th>\n",
       "      <td>11039.96</td>\n",
       "      <td>40753.91</td>\n",
       "      <td>4523895.79</td>\n",
       "      <td>28589.85</td>\n",
       "      <td>26801.73</td>\n",
       "      <td>49669.36</td>\n",
       "      <td>1241.34</td>\n",
       "      <td>3178.40</td>\n",
       "      <td>72050</td>\n",
       "    </tr>\n",
       "    <tr>\n",
       "      <th>NaN</th>\n",
       "      <td>14765897.82</td>\n",
       "      <td>3354099.77</td>\n",
       "      <td>31174567.70</td>\n",
       "      <td>1766112.04</td>\n",
       "      <td>1639439.84</td>\n",
       "      <td>315377.72</td>\n",
       "      <td>11202.53</td>\n",
       "      <td>30720.50</td>\n",
       "      <td>673947</td>\n",
       "    </tr>\n",
       "    <tr>\n",
       "      <th rowspan=\"2\" valign=\"top\">X</th>\n",
       "      <th>유</th>\n",
       "      <td>11.51</td>\n",
       "      <td>6.22</td>\n",
       "      <td>1881.68</td>\n",
       "      <td>20.47</td>\n",
       "      <td>20.39</td>\n",
       "      <td>14.94</td>\n",
       "      <td>1.12</td>\n",
       "      <td>13.06</td>\n",
       "      <td>82</td>\n",
       "    </tr>\n",
       "    <tr>\n",
       "      <th>NaN</th>\n",
       "      <td>74118.31</td>\n",
       "      <td>5972.95</td>\n",
       "      <td>122838.98</td>\n",
       "      <td>2691.80</td>\n",
       "      <td>2508.18</td>\n",
       "      <td>4937.90</td>\n",
       "      <td>404.14</td>\n",
       "      <td>1182.42</td>\n",
       "      <td>19393</td>\n",
       "    </tr>\n",
       "  </tbody>\n",
       "</table>\n",
       "</div>"
      ],
      "text/plain": [
       "             E_CO_total  E_HC_total  E_NOx_total  E_PM10_total  E_PM2_5_total   \n",
       "등급 저감장치부착유무                                                                     \n",
       "3  NaN       8173773.29  1132422.26  54511823.43     333196.28      305981.30  \\\n",
       "4  유               0.58        2.29       994.60          1.47           1.34   \n",
       "   NaN        824810.53   272087.92  22430903.77     468057.61      430230.49   \n",
       "5  유           11039.96    40753.91   4523895.79      28589.85       26801.73   \n",
       "   NaN      14765897.82  3354099.77  31174567.70    1766112.04     1639439.84   \n",
       "X  유              11.51        6.22      1881.68         20.47          20.39   \n",
       "   NaN         74118.31     5972.95    122838.98       2691.80        2508.18   \n",
       "\n",
       "             E_SOx_total  E_NH3_total  E_CO2_total     차대번호  \n",
       "등급 저감장치부착유무                                                  \n",
       "3  NaN        1194307.60    118239.56    535449.77  5213000  \n",
       "4  유               10.90         0.28         0.50       15  \n",
       "   NaN         207573.09     13566.04     58273.81   835890  \n",
       "5  유            49669.36      1241.34      3178.40    72050  \n",
       "   NaN         315377.72     11202.53     30720.50   673947  \n",
       "X  유               14.94         1.12        13.06       82  \n",
       "   NaN           4937.90       404.14      1182.42    19393  "
      ]
     },
     "execution_count": 142,
     "metadata": {},
     "output_type": "execute_result"
    }
   ],
   "source": [
    "grp2 = add.groupby(['등급', '저감장치부착유무'], dropna=False).agg({'E_CO_total':'sum', 'E_HC_total':'sum', 'E_NOx_total':'sum', 'E_PM10_total':'sum', 'E_PM2_5_total':'sum', 'E_SOx_total':'sum', 'E_NH3_total':'sum', 'E_CO2_total':'sum', '차대번호':'count'})\n",
    "grp2"
   ]
  },
  {
   "cell_type": "code",
   "execution_count": 143,
   "metadata": {},
   "outputs": [
    {
     "data": {
      "text/html": [
       "<div>\n",
       "<style scoped>\n",
       "    .dataframe tbody tr th:only-of-type {\n",
       "        vertical-align: middle;\n",
       "    }\n",
       "\n",
       "    .dataframe tbody tr th {\n",
       "        vertical-align: top;\n",
       "    }\n",
       "\n",
       "    .dataframe thead th {\n",
       "        text-align: right;\n",
       "    }\n",
       "</style>\n",
       "<table border=\"1\" class=\"dataframe\">\n",
       "  <thead>\n",
       "    <tr style=\"text-align: right;\">\n",
       "      <th></th>\n",
       "      <th></th>\n",
       "      <th>E_CO_total</th>\n",
       "      <th>E_HC_total</th>\n",
       "      <th>E_NOx_total</th>\n",
       "      <th>E_PM10_total</th>\n",
       "      <th>E_PM2_5_total</th>\n",
       "      <th>E_SOx_total</th>\n",
       "      <th>E_NH3_total</th>\n",
       "      <th>E_CO2_total</th>\n",
       "      <th>차대번호</th>\n",
       "      <th>CO</th>\n",
       "      <th>NOx</th>\n",
       "      <th>SOx</th>\n",
       "      <th>PM10</th>\n",
       "      <th>PM2.5</th>\n",
       "      <th>HC</th>\n",
       "      <th>NH3</th>\n",
       "      <th>CO2</th>\n",
       "    </tr>\n",
       "    <tr>\n",
       "      <th>등급</th>\n",
       "      <th>저감장치부착유무</th>\n",
       "      <th></th>\n",
       "      <th></th>\n",
       "      <th></th>\n",
       "      <th></th>\n",
       "      <th></th>\n",
       "      <th></th>\n",
       "      <th></th>\n",
       "      <th></th>\n",
       "      <th></th>\n",
       "      <th></th>\n",
       "      <th></th>\n",
       "      <th></th>\n",
       "      <th></th>\n",
       "      <th></th>\n",
       "      <th></th>\n",
       "      <th></th>\n",
       "      <th></th>\n",
       "    </tr>\n",
       "  </thead>\n",
       "  <tbody>\n",
       "    <tr>\n",
       "      <th>3</th>\n",
       "      <th>NaN</th>\n",
       "      <td>8173773.29</td>\n",
       "      <td>1132422.26</td>\n",
       "      <td>54511823.43</td>\n",
       "      <td>333196.28</td>\n",
       "      <td>305981.30</td>\n",
       "      <td>1194307.60</td>\n",
       "      <td>118239.56</td>\n",
       "      <td>535449.77</td>\n",
       "      <td>5213000</td>\n",
       "      <td>1.57</td>\n",
       "      <td>10.46</td>\n",
       "      <td>0.23</td>\n",
       "      <td>0.06</td>\n",
       "      <td>0.06</td>\n",
       "      <td>0.22</td>\n",
       "      <td>0.02</td>\n",
       "      <td>0.10</td>\n",
       "    </tr>\n",
       "    <tr>\n",
       "      <th rowspan=\"2\" valign=\"top\">4</th>\n",
       "      <th>유</th>\n",
       "      <td>0.58</td>\n",
       "      <td>2.29</td>\n",
       "      <td>994.60</td>\n",
       "      <td>1.47</td>\n",
       "      <td>1.34</td>\n",
       "      <td>10.90</td>\n",
       "      <td>0.28</td>\n",
       "      <td>0.50</td>\n",
       "      <td>15</td>\n",
       "      <td>0.04</td>\n",
       "      <td>66.31</td>\n",
       "      <td>0.73</td>\n",
       "      <td>0.10</td>\n",
       "      <td>0.09</td>\n",
       "      <td>0.15</td>\n",
       "      <td>0.02</td>\n",
       "      <td>0.03</td>\n",
       "    </tr>\n",
       "    <tr>\n",
       "      <th>NaN</th>\n",
       "      <td>824810.53</td>\n",
       "      <td>272087.92</td>\n",
       "      <td>22430903.77</td>\n",
       "      <td>468057.61</td>\n",
       "      <td>430230.49</td>\n",
       "      <td>207573.09</td>\n",
       "      <td>13566.04</td>\n",
       "      <td>58273.81</td>\n",
       "      <td>835890</td>\n",
       "      <td>0.99</td>\n",
       "      <td>26.83</td>\n",
       "      <td>0.25</td>\n",
       "      <td>0.56</td>\n",
       "      <td>0.51</td>\n",
       "      <td>0.33</td>\n",
       "      <td>0.02</td>\n",
       "      <td>0.07</td>\n",
       "    </tr>\n",
       "    <tr>\n",
       "      <th rowspan=\"2\" valign=\"top\">5</th>\n",
       "      <th>유</th>\n",
       "      <td>11039.96</td>\n",
       "      <td>40753.91</td>\n",
       "      <td>4523895.79</td>\n",
       "      <td>28589.85</td>\n",
       "      <td>26801.73</td>\n",
       "      <td>49669.36</td>\n",
       "      <td>1241.34</td>\n",
       "      <td>3178.40</td>\n",
       "      <td>72050</td>\n",
       "      <td>0.15</td>\n",
       "      <td>62.79</td>\n",
       "      <td>0.69</td>\n",
       "      <td>0.40</td>\n",
       "      <td>0.37</td>\n",
       "      <td>0.57</td>\n",
       "      <td>0.02</td>\n",
       "      <td>0.04</td>\n",
       "    </tr>\n",
       "    <tr>\n",
       "      <th>NaN</th>\n",
       "      <td>14765897.82</td>\n",
       "      <td>3354099.77</td>\n",
       "      <td>31174567.70</td>\n",
       "      <td>1766112.04</td>\n",
       "      <td>1639439.84</td>\n",
       "      <td>315377.72</td>\n",
       "      <td>11202.53</td>\n",
       "      <td>30720.50</td>\n",
       "      <td>673947</td>\n",
       "      <td>21.91</td>\n",
       "      <td>46.26</td>\n",
       "      <td>0.47</td>\n",
       "      <td>2.62</td>\n",
       "      <td>2.43</td>\n",
       "      <td>4.98</td>\n",
       "      <td>0.02</td>\n",
       "      <td>0.05</td>\n",
       "    </tr>\n",
       "    <tr>\n",
       "      <th rowspan=\"2\" valign=\"top\">X</th>\n",
       "      <th>유</th>\n",
       "      <td>11.51</td>\n",
       "      <td>6.22</td>\n",
       "      <td>1881.68</td>\n",
       "      <td>20.47</td>\n",
       "      <td>20.39</td>\n",
       "      <td>14.94</td>\n",
       "      <td>1.12</td>\n",
       "      <td>13.06</td>\n",
       "      <td>82</td>\n",
       "      <td>0.14</td>\n",
       "      <td>22.95</td>\n",
       "      <td>0.18</td>\n",
       "      <td>0.25</td>\n",
       "      <td>0.25</td>\n",
       "      <td>0.08</td>\n",
       "      <td>0.01</td>\n",
       "      <td>0.16</td>\n",
       "    </tr>\n",
       "    <tr>\n",
       "      <th>NaN</th>\n",
       "      <td>74118.31</td>\n",
       "      <td>5972.95</td>\n",
       "      <td>122838.98</td>\n",
       "      <td>2691.80</td>\n",
       "      <td>2508.18</td>\n",
       "      <td>4937.90</td>\n",
       "      <td>404.14</td>\n",
       "      <td>1182.42</td>\n",
       "      <td>19393</td>\n",
       "      <td>3.82</td>\n",
       "      <td>6.33</td>\n",
       "      <td>0.25</td>\n",
       "      <td>0.14</td>\n",
       "      <td>0.13</td>\n",
       "      <td>0.31</td>\n",
       "      <td>0.02</td>\n",
       "      <td>0.06</td>\n",
       "    </tr>\n",
       "  </tbody>\n",
       "</table>\n",
       "</div>"
      ],
      "text/plain": [
       "             E_CO_total  E_HC_total  E_NOx_total  E_PM10_total  E_PM2_5_total   \n",
       "등급 저감장치부착유무                                                                     \n",
       "3  NaN       8173773.29  1132422.26  54511823.43     333196.28      305981.30  \\\n",
       "4  유               0.58        2.29       994.60          1.47           1.34   \n",
       "   NaN        824810.53   272087.92  22430903.77     468057.61      430230.49   \n",
       "5  유           11039.96    40753.91   4523895.79      28589.85       26801.73   \n",
       "   NaN      14765897.82  3354099.77  31174567.70    1766112.04     1639439.84   \n",
       "X  유              11.51        6.22      1881.68         20.47          20.39   \n",
       "   NaN         74118.31     5972.95    122838.98       2691.80        2508.18   \n",
       "\n",
       "             E_SOx_total  E_NH3_total  E_CO2_total     차대번호    CO   NOx  SOx   \n",
       "등급 저감장치부착유무                                                                    \n",
       "3  NaN        1194307.60    118239.56    535449.77  5213000  1.57 10.46 0.23  \\\n",
       "4  유               10.90         0.28         0.50       15  0.04 66.31 0.73   \n",
       "   NaN         207573.09     13566.04     58273.81   835890  0.99 26.83 0.25   \n",
       "5  유            49669.36      1241.34      3178.40    72050  0.15 62.79 0.69   \n",
       "   NaN         315377.72     11202.53     30720.50   673947 21.91 46.26 0.47   \n",
       "X  유               14.94         1.12        13.06       82  0.14 22.95 0.18   \n",
       "   NaN           4937.90       404.14      1182.42    19393  3.82  6.33 0.25   \n",
       "\n",
       "             PM10  PM2.5   HC  NH3  CO2  \n",
       "등급 저감장치부착유무                              \n",
       "3  NaN       0.06   0.06 0.22 0.02 0.10  \n",
       "4  유         0.10   0.09 0.15 0.02 0.03  \n",
       "   NaN       0.56   0.51 0.33 0.02 0.07  \n",
       "5  유         0.40   0.37 0.57 0.02 0.04  \n",
       "   NaN       2.62   2.43 4.98 0.02 0.05  \n",
       "X  유         0.25   0.25 0.08 0.01 0.16  \n",
       "   NaN       0.14   0.13 0.31 0.02 0.06  "
      ]
     },
     "execution_count": 143,
     "metadata": {},
     "output_type": "execute_result"
    }
   ],
   "source": [
    "grp2['CO'] = grp2['E_CO_total'] / grp2['차대번호']\n",
    "grp2['NOx'] = grp2['E_NOx_total'] / grp2['차대번호']\n",
    "grp2['SOx'] = grp2['E_SOx_total'] / grp2['차대번호']\n",
    "grp2['PM10'] = grp2['E_PM10_total'] / grp2['차대번호']\n",
    "grp2['PM2.5'] = grp2['E_PM2_5_total'] / grp2['차대번호']\n",
    "grp2['HC'] = grp2['E_HC_total'] / grp2['차대번호']\n",
    "grp2['NH3'] = grp2['E_NH3_total'] / grp2['차대번호']\n",
    "grp2['CO2'] = grp2['E_CO2_total'] / grp2['차대번호']\n",
    "grp2"
   ]
  },
  {
   "cell_type": "code",
   "execution_count": 144,
   "metadata": {},
   "outputs": [
    {
     "data": {
      "text/html": [
       "<div>\n",
       "<style scoped>\n",
       "    .dataframe tbody tr th:only-of-type {\n",
       "        vertical-align: middle;\n",
       "    }\n",
       "\n",
       "    .dataframe tbody tr th {\n",
       "        vertical-align: top;\n",
       "    }\n",
       "\n",
       "    .dataframe thead th {\n",
       "        text-align: right;\n",
       "    }\n",
       "</style>\n",
       "<table border=\"1\" class=\"dataframe\">\n",
       "  <thead>\n",
       "    <tr style=\"text-align: right;\">\n",
       "      <th></th>\n",
       "      <th>차종</th>\n",
       "      <th>승용</th>\n",
       "      <th>화물</th>\n",
       "    </tr>\n",
       "    <tr>\n",
       "      <th>등급</th>\n",
       "      <th>저감장치부착유무</th>\n",
       "      <th></th>\n",
       "      <th></th>\n",
       "    </tr>\n",
       "  </thead>\n",
       "  <tbody>\n",
       "    <tr>\n",
       "      <th>3</th>\n",
       "      <th>NaN</th>\n",
       "      <td>3222270</td>\n",
       "      <td>1990730</td>\n",
       "    </tr>\n",
       "    <tr>\n",
       "      <th rowspan=\"2\" valign=\"top\">4</th>\n",
       "      <th>유</th>\n",
       "      <td>3</td>\n",
       "      <td>12</td>\n",
       "    </tr>\n",
       "    <tr>\n",
       "      <th>NaN</th>\n",
       "      <td>352168</td>\n",
       "      <td>483722</td>\n",
       "    </tr>\n",
       "    <tr>\n",
       "      <th rowspan=\"2\" valign=\"top\">5</th>\n",
       "      <th>유</th>\n",
       "      <td>21827</td>\n",
       "      <td>50223</td>\n",
       "    </tr>\n",
       "    <tr>\n",
       "      <th>NaN</th>\n",
       "      <td>131619</td>\n",
       "      <td>542328</td>\n",
       "    </tr>\n",
       "    <tr>\n",
       "      <th rowspan=\"2\" valign=\"top\">X</th>\n",
       "      <th>유</th>\n",
       "      <td>81</td>\n",
       "      <td>1</td>\n",
       "    </tr>\n",
       "    <tr>\n",
       "      <th>NaN</th>\n",
       "      <td>7277</td>\n",
       "      <td>12116</td>\n",
       "    </tr>\n",
       "  </tbody>\n",
       "</table>\n",
       "</div>"
      ],
      "text/plain": [
       "차종                승용       화물\n",
       "등급 저감장치부착유무                  \n",
       "3  NaN       3222270  1990730\n",
       "4  유               3       12\n",
       "   NaN        352168   483722\n",
       "5  유           21827    50223\n",
       "   NaN        131619   542328\n",
       "X  유              81        1\n",
       "   NaN          7277    12116"
      ]
     },
     "execution_count": 144,
     "metadata": {},
     "output_type": "execute_result"
    }
   ],
   "source": [
    "grp2_1 = add.groupby(['등급', '저감장치부착유무', '차종'], dropna=False)['차대번호'].count().unstack('차종')\n",
    "grp2_1"
   ]
  },
  {
   "cell_type": "code",
   "execution_count": 145,
   "metadata": {},
   "outputs": [
    {
     "data": {
      "text/plain": [
       "'2023.06.22_PM.05.07.40'"
      ]
     },
     "execution_count": 145,
     "metadata": {},
     "output_type": "execute_result"
    }
   ],
   "source": [
    "today_date = datetime.today().strftime(\"%Y.%m.%d_%p.%I.%M.%S\")\n",
    "today_date"
   ]
  },
  {
   "cell_type": "code",
   "execution_count": 146,
   "metadata": {},
   "outputs": [],
   "source": [
    "with pd.ExcelWriter(os.path.join(an_fold, '통계_연료_등급별_배출가스배출량.xlsx')) as writer:\n",
    "    grp1.to_excel(writer, sheet_name='휘발유_가스')\n",
    "    grp1_1.to_excel(writer, sheet_name='휘발유_가스_차종')\n",
    "    grp2.to_excel(writer, sheet_name='경유')\n",
    "    grp2_1.to_excel(writer, sheet_name='경유_차종')"
   ]
  },
  {
   "attachments": {},
   "cell_type": "markdown",
   "metadata": {},
   "source": [
    "## 배출량 통계2\n",
    "- 조건\n",
    "    - 승용(대형)\n",
    "    - 화물(대형)"
   ]
  },
  {
   "cell_type": "code",
   "execution_count": 147,
   "metadata": {},
   "outputs": [
    {
     "data": {
      "text/plain": [
       "등급\n",
       "3    1744356\n",
       "5     175072\n",
       "4     151014\n",
       "X       8308\n",
       "Name: count, dtype: int64"
      ]
     },
     "execution_count": 147,
     "metadata": {},
     "output_type": "execute_result"
    }
   ],
   "source": [
    "df2.loc[(df2['fuel'] == '경유') & (df2['차종'] == '승용') & (df2['차종유형'] == '대형'), '등급'].value_counts(dropna=False)"
   ]
  },
  {
   "cell_type": "code",
   "execution_count": 148,
   "metadata": {},
   "outputs": [
    {
     "data": {
      "text/plain": [
       "등급\n",
       "3    189680\n",
       "5     86825\n",
       "4     21367\n",
       "X      1080\n",
       "Name: count, dtype: int64"
      ]
     },
     "execution_count": 148,
     "metadata": {},
     "output_type": "execute_result"
    }
   ],
   "source": [
    "df2.loc[(df2['fuel'] == '경유') & (df2['차종'] == '화물') & (df2['차종유형'] == '대형'), '등급'].value_counts(dropna=False)"
   ]
  },
  {
   "cell_type": "code",
   "execution_count": 149,
   "metadata": {},
   "outputs": [
    {
     "data": {
      "text/plain": [
       "(6662922, 70)"
      ]
     },
     "execution_count": 149,
     "metadata": {},
     "output_type": "execute_result"
    }
   ],
   "source": [
    "ad2 = df2.loc[((df2['차종'] == '승용') & (df2['차종유형'] == '대형')) | ((df2['차종'] == '화물') & (df2['차종유형'] == '대형'))].reset_index(drop=True)\n",
    "ad2.shape"
   ]
  },
  {
   "cell_type": "code",
   "execution_count": 150,
   "metadata": {},
   "outputs": [
    {
     "data": {
      "text/plain": [
       "True"
      ]
     },
     "execution_count": 150,
     "metadata": {},
     "output_type": "execute_result"
    }
   ],
   "source": [
    "ad2gl = ad2[(ad2['fuel'] == '휘발유') | (ad2['fuel'] == 'LPG')]\n",
    "ad2d = ad2[ad2['fuel'] == '경유']\n",
    "ad2.shape[0] == ad2gl.shape[0] + ad2d.shape[0]"
   ]
  },
  {
   "cell_type": "code",
   "execution_count": 151,
   "metadata": {},
   "outputs": [
    {
     "data": {
      "text/html": [
       "<div>\n",
       "<style scoped>\n",
       "    .dataframe tbody tr th:only-of-type {\n",
       "        vertical-align: middle;\n",
       "    }\n",
       "\n",
       "    .dataframe tbody tr th {\n",
       "        vertical-align: top;\n",
       "    }\n",
       "\n",
       "    .dataframe thead th {\n",
       "        text-align: right;\n",
       "    }\n",
       "</style>\n",
       "<table border=\"1\" class=\"dataframe\">\n",
       "  <thead>\n",
       "    <tr style=\"text-align: right;\">\n",
       "      <th></th>\n",
       "      <th>E_CO_total</th>\n",
       "      <th>E_HC_total</th>\n",
       "      <th>E_NOx_total</th>\n",
       "      <th>E_PM10_total</th>\n",
       "      <th>E_PM2_5_total</th>\n",
       "      <th>E_SOx_total</th>\n",
       "      <th>E_NH3_total</th>\n",
       "      <th>E_CO2_total</th>\n",
       "      <th>차대번호</th>\n",
       "    </tr>\n",
       "    <tr>\n",
       "      <th>등급</th>\n",
       "      <th></th>\n",
       "      <th></th>\n",
       "      <th></th>\n",
       "      <th></th>\n",
       "      <th></th>\n",
       "      <th></th>\n",
       "      <th></th>\n",
       "      <th></th>\n",
       "      <th></th>\n",
       "    </tr>\n",
       "  </thead>\n",
       "  <tbody>\n",
       "    <tr>\n",
       "      <th>1</th>\n",
       "      <td>2852082.90</td>\n",
       "      <td>391322.16</td>\n",
       "      <td>267681.55</td>\n",
       "      <td>5656.45</td>\n",
       "      <td>5203.93</td>\n",
       "      <td>12602.31</td>\n",
       "      <td>140918.11</td>\n",
       "      <td>0.00</td>\n",
       "      <td>911275</td>\n",
       "    </tr>\n",
       "    <tr>\n",
       "      <th>2</th>\n",
       "      <td>9106732.34</td>\n",
       "      <td>1137239.58</td>\n",
       "      <td>922390.43</td>\n",
       "      <td>18592.55</td>\n",
       "      <td>17105.15</td>\n",
       "      <td>94412.40</td>\n",
       "      <td>487978.87</td>\n",
       "      <td>55063.42</td>\n",
       "      <td>2919269</td>\n",
       "    </tr>\n",
       "    <tr>\n",
       "      <th>3</th>\n",
       "      <td>4934266.84</td>\n",
       "      <td>385723.42</td>\n",
       "      <td>883335.95</td>\n",
       "      <td>3890.42</td>\n",
       "      <td>3579.19</td>\n",
       "      <td>10084.80</td>\n",
       "      <td>208550.92</td>\n",
       "      <td>5023.77</td>\n",
       "      <td>384985</td>\n",
       "    </tr>\n",
       "    <tr>\n",
       "      <th>4</th>\n",
       "      <td>2173049.49</td>\n",
       "      <td>267507.69</td>\n",
       "      <td>449770.65</td>\n",
       "      <td>432.97</td>\n",
       "      <td>399.00</td>\n",
       "      <td>634.85</td>\n",
       "      <td>38020.38</td>\n",
       "      <td>107.09</td>\n",
       "      <td>36270</td>\n",
       "    </tr>\n",
       "    <tr>\n",
       "      <th>5</th>\n",
       "      <td>369398.44</td>\n",
       "      <td>44937.37</td>\n",
       "      <td>25771.51</td>\n",
       "      <td>13.25</td>\n",
       "      <td>12.19</td>\n",
       "      <td>15.46</td>\n",
       "      <td>1169.03</td>\n",
       "      <td>9.36</td>\n",
       "      <td>1108</td>\n",
       "    </tr>\n",
       "    <tr>\n",
       "      <th>X</th>\n",
       "      <td>194977.88</td>\n",
       "      <td>24388.37</td>\n",
       "      <td>17420.81</td>\n",
       "      <td>205.32</td>\n",
       "      <td>188.90</td>\n",
       "      <td>556.70</td>\n",
       "      <td>5742.64</td>\n",
       "      <td>84.92</td>\n",
       "      <td>32313</td>\n",
       "    </tr>\n",
       "  </tbody>\n",
       "</table>\n",
       "</div>"
      ],
      "text/plain": [
       "    E_CO_total  E_HC_total  E_NOx_total  E_PM10_total  E_PM2_5_total   \n",
       "등급                                                                     \n",
       "1   2852082.90   391322.16    267681.55       5656.45        5203.93  \\\n",
       "2   9106732.34  1137239.58    922390.43      18592.55       17105.15   \n",
       "3   4934266.84   385723.42    883335.95       3890.42        3579.19   \n",
       "4   2173049.49   267507.69    449770.65        432.97         399.00   \n",
       "5    369398.44    44937.37     25771.51         13.25          12.19   \n",
       "X    194977.88    24388.37     17420.81        205.32         188.90   \n",
       "\n",
       "    E_SOx_total  E_NH3_total  E_CO2_total     차대번호  \n",
       "등급                                                  \n",
       "1      12602.31    140918.11         0.00   911275  \n",
       "2      94412.40    487978.87     55063.42  2919269  \n",
       "3      10084.80    208550.92      5023.77   384985  \n",
       "4        634.85     38020.38       107.09    36270  \n",
       "5         15.46      1169.03         9.36     1108  \n",
       "X        556.70      5742.64        84.92    32313  "
      ]
     },
     "execution_count": 151,
     "metadata": {},
     "output_type": "execute_result"
    }
   ],
   "source": [
    "grp21 = ad2gl.groupby(['등급'], dropna=False).agg({'E_CO_total':'sum', 'E_HC_total':'sum', 'E_NOx_total':'sum', 'E_PM10_total':'sum', 'E_PM2_5_total':'sum', 'E_SOx_total':'sum', 'E_NH3_total':'sum', 'E_CO2_total':'sum', '차대번호':'count'})\n",
    "grp21"
   ]
  },
  {
   "cell_type": "code",
   "execution_count": 152,
   "metadata": {},
   "outputs": [
    {
     "data": {
      "text/html": [
       "<div>\n",
       "<style scoped>\n",
       "    .dataframe tbody tr th:only-of-type {\n",
       "        vertical-align: middle;\n",
       "    }\n",
       "\n",
       "    .dataframe tbody tr th {\n",
       "        vertical-align: top;\n",
       "    }\n",
       "\n",
       "    .dataframe thead th {\n",
       "        text-align: right;\n",
       "    }\n",
       "</style>\n",
       "<table border=\"1\" class=\"dataframe\">\n",
       "  <thead>\n",
       "    <tr style=\"text-align: right;\">\n",
       "      <th></th>\n",
       "      <th>E_CO_total</th>\n",
       "      <th>E_HC_total</th>\n",
       "      <th>E_NOx_total</th>\n",
       "      <th>E_PM10_total</th>\n",
       "      <th>E_PM2_5_total</th>\n",
       "      <th>E_SOx_total</th>\n",
       "      <th>E_NH3_total</th>\n",
       "      <th>E_CO2_total</th>\n",
       "      <th>차대번호</th>\n",
       "      <th>CO</th>\n",
       "      <th>NOx</th>\n",
       "      <th>SOx</th>\n",
       "      <th>PM10</th>\n",
       "      <th>PM2.5</th>\n",
       "      <th>HC</th>\n",
       "      <th>NH3</th>\n",
       "      <th>CO2</th>\n",
       "    </tr>\n",
       "    <tr>\n",
       "      <th>등급</th>\n",
       "      <th></th>\n",
       "      <th></th>\n",
       "      <th></th>\n",
       "      <th></th>\n",
       "      <th></th>\n",
       "      <th></th>\n",
       "      <th></th>\n",
       "      <th></th>\n",
       "      <th></th>\n",
       "      <th></th>\n",
       "      <th></th>\n",
       "      <th></th>\n",
       "      <th></th>\n",
       "      <th></th>\n",
       "      <th></th>\n",
       "      <th></th>\n",
       "      <th></th>\n",
       "    </tr>\n",
       "  </thead>\n",
       "  <tbody>\n",
       "    <tr>\n",
       "      <th>1</th>\n",
       "      <td>2852082.90</td>\n",
       "      <td>391322.16</td>\n",
       "      <td>267681.55</td>\n",
       "      <td>5656.45</td>\n",
       "      <td>5203.93</td>\n",
       "      <td>12602.31</td>\n",
       "      <td>140918.11</td>\n",
       "      <td>0.00</td>\n",
       "      <td>911275</td>\n",
       "      <td>3.13</td>\n",
       "      <td>0.29</td>\n",
       "      <td>0.01</td>\n",
       "      <td>0.01</td>\n",
       "      <td>0.01</td>\n",
       "      <td>0.43</td>\n",
       "      <td>0.15</td>\n",
       "      <td>0.00</td>\n",
       "    </tr>\n",
       "    <tr>\n",
       "      <th>2</th>\n",
       "      <td>9106732.34</td>\n",
       "      <td>1137239.58</td>\n",
       "      <td>922390.43</td>\n",
       "      <td>18592.55</td>\n",
       "      <td>17105.15</td>\n",
       "      <td>94412.40</td>\n",
       "      <td>487978.87</td>\n",
       "      <td>55063.42</td>\n",
       "      <td>2919269</td>\n",
       "      <td>3.12</td>\n",
       "      <td>0.32</td>\n",
       "      <td>0.03</td>\n",
       "      <td>0.01</td>\n",
       "      <td>0.01</td>\n",
       "      <td>0.39</td>\n",
       "      <td>0.17</td>\n",
       "      <td>0.02</td>\n",
       "    </tr>\n",
       "    <tr>\n",
       "      <th>3</th>\n",
       "      <td>4934266.84</td>\n",
       "      <td>385723.42</td>\n",
       "      <td>883335.95</td>\n",
       "      <td>3890.42</td>\n",
       "      <td>3579.19</td>\n",
       "      <td>10084.80</td>\n",
       "      <td>208550.92</td>\n",
       "      <td>5023.77</td>\n",
       "      <td>384985</td>\n",
       "      <td>12.82</td>\n",
       "      <td>2.29</td>\n",
       "      <td>0.03</td>\n",
       "      <td>0.01</td>\n",
       "      <td>0.01</td>\n",
       "      <td>1.00</td>\n",
       "      <td>0.54</td>\n",
       "      <td>0.01</td>\n",
       "    </tr>\n",
       "    <tr>\n",
       "      <th>4</th>\n",
       "      <td>2173049.49</td>\n",
       "      <td>267507.69</td>\n",
       "      <td>449770.65</td>\n",
       "      <td>432.97</td>\n",
       "      <td>399.00</td>\n",
       "      <td>634.85</td>\n",
       "      <td>38020.38</td>\n",
       "      <td>107.09</td>\n",
       "      <td>36270</td>\n",
       "      <td>59.91</td>\n",
       "      <td>12.40</td>\n",
       "      <td>0.02</td>\n",
       "      <td>0.01</td>\n",
       "      <td>0.01</td>\n",
       "      <td>7.38</td>\n",
       "      <td>1.05</td>\n",
       "      <td>0.00</td>\n",
       "    </tr>\n",
       "    <tr>\n",
       "      <th>5</th>\n",
       "      <td>369398.44</td>\n",
       "      <td>44937.37</td>\n",
       "      <td>25771.51</td>\n",
       "      <td>13.25</td>\n",
       "      <td>12.19</td>\n",
       "      <td>15.46</td>\n",
       "      <td>1169.03</td>\n",
       "      <td>9.36</td>\n",
       "      <td>1108</td>\n",
       "      <td>333.39</td>\n",
       "      <td>23.26</td>\n",
       "      <td>0.01</td>\n",
       "      <td>0.01</td>\n",
       "      <td>0.01</td>\n",
       "      <td>40.56</td>\n",
       "      <td>1.06</td>\n",
       "      <td>0.01</td>\n",
       "    </tr>\n",
       "    <tr>\n",
       "      <th>X</th>\n",
       "      <td>194977.88</td>\n",
       "      <td>24388.37</td>\n",
       "      <td>17420.81</td>\n",
       "      <td>205.32</td>\n",
       "      <td>188.90</td>\n",
       "      <td>556.70</td>\n",
       "      <td>5742.64</td>\n",
       "      <td>84.92</td>\n",
       "      <td>32313</td>\n",
       "      <td>6.03</td>\n",
       "      <td>0.54</td>\n",
       "      <td>0.02</td>\n",
       "      <td>0.01</td>\n",
       "      <td>0.01</td>\n",
       "      <td>0.75</td>\n",
       "      <td>0.18</td>\n",
       "      <td>0.00</td>\n",
       "    </tr>\n",
       "  </tbody>\n",
       "</table>\n",
       "</div>"
      ],
      "text/plain": [
       "    E_CO_total  E_HC_total  E_NOx_total  E_PM10_total  E_PM2_5_total   \n",
       "등급                                                                     \n",
       "1   2852082.90   391322.16    267681.55       5656.45        5203.93  \\\n",
       "2   9106732.34  1137239.58    922390.43      18592.55       17105.15   \n",
       "3   4934266.84   385723.42    883335.95       3890.42        3579.19   \n",
       "4   2173049.49   267507.69    449770.65        432.97         399.00   \n",
       "5    369398.44    44937.37     25771.51         13.25          12.19   \n",
       "X    194977.88    24388.37     17420.81        205.32         188.90   \n",
       "\n",
       "    E_SOx_total  E_NH3_total  E_CO2_total     차대번호     CO   NOx  SOx  PM10   \n",
       "등급                                                                           \n",
       "1      12602.31    140918.11         0.00   911275   3.13  0.29 0.01  0.01  \\\n",
       "2      94412.40    487978.87     55063.42  2919269   3.12  0.32 0.03  0.01   \n",
       "3      10084.80    208550.92      5023.77   384985  12.82  2.29 0.03  0.01   \n",
       "4        634.85     38020.38       107.09    36270  59.91 12.40 0.02  0.01   \n",
       "5         15.46      1169.03         9.36     1108 333.39 23.26 0.01  0.01   \n",
       "X        556.70      5742.64        84.92    32313   6.03  0.54 0.02  0.01   \n",
       "\n",
       "    PM2.5    HC  NH3  CO2  \n",
       "등급                         \n",
       "1    0.01  0.43 0.15 0.00  \n",
       "2    0.01  0.39 0.17 0.02  \n",
       "3    0.01  1.00 0.54 0.01  \n",
       "4    0.01  7.38 1.05 0.00  \n",
       "5    0.01 40.56 1.06 0.01  \n",
       "X    0.01  0.75 0.18 0.00  "
      ]
     },
     "execution_count": 152,
     "metadata": {},
     "output_type": "execute_result"
    }
   ],
   "source": [
    "grp21['CO'] = grp21['E_CO_total'] / grp21['차대번호']\n",
    "grp21['NOx'] = grp21['E_NOx_total'] / grp21['차대번호']\n",
    "grp21['SOx'] = grp21['E_SOx_total'] / grp21['차대번호']\n",
    "grp21['PM10'] = grp21['E_PM10_total'] / grp21['차대번호']\n",
    "grp21['PM2.5'] = grp21['E_PM2_5_total'] / grp21['차대번호']\n",
    "grp21['HC'] = grp21['E_HC_total'] / grp21['차대번호']\n",
    "grp21['NH3'] = grp21['E_NH3_total'] / grp21['차대번호']\n",
    "grp21['CO2'] = grp21['E_CO2_total'] / grp21['차대번호']\n",
    "grp21"
   ]
  },
  {
   "cell_type": "code",
   "execution_count": 153,
   "metadata": {},
   "outputs": [
    {
     "data": {
      "text/html": [
       "<div>\n",
       "<style scoped>\n",
       "    .dataframe tbody tr th:only-of-type {\n",
       "        vertical-align: middle;\n",
       "    }\n",
       "\n",
       "    .dataframe tbody tr th {\n",
       "        vertical-align: top;\n",
       "    }\n",
       "\n",
       "    .dataframe thead th {\n",
       "        text-align: right;\n",
       "    }\n",
       "</style>\n",
       "<table border=\"1\" class=\"dataframe\">\n",
       "  <thead>\n",
       "    <tr style=\"text-align: right;\">\n",
       "      <th>차종</th>\n",
       "      <th>승용</th>\n",
       "      <th>화물</th>\n",
       "    </tr>\n",
       "    <tr>\n",
       "      <th>등급</th>\n",
       "      <th></th>\n",
       "      <th></th>\n",
       "    </tr>\n",
       "  </thead>\n",
       "  <tbody>\n",
       "    <tr>\n",
       "      <th>1</th>\n",
       "      <td>911275.00</td>\n",
       "      <td>NaN</td>\n",
       "    </tr>\n",
       "    <tr>\n",
       "      <th>2</th>\n",
       "      <td>2919259.00</td>\n",
       "      <td>10.00</td>\n",
       "    </tr>\n",
       "    <tr>\n",
       "      <th>3</th>\n",
       "      <td>384981.00</td>\n",
       "      <td>4.00</td>\n",
       "    </tr>\n",
       "    <tr>\n",
       "      <th>4</th>\n",
       "      <td>36265.00</td>\n",
       "      <td>5.00</td>\n",
       "    </tr>\n",
       "    <tr>\n",
       "      <th>5</th>\n",
       "      <td>1093.00</td>\n",
       "      <td>15.00</td>\n",
       "    </tr>\n",
       "    <tr>\n",
       "      <th>X</th>\n",
       "      <td>32289.00</td>\n",
       "      <td>24.00</td>\n",
       "    </tr>\n",
       "  </tbody>\n",
       "</table>\n",
       "</div>"
      ],
      "text/plain": [
       "차종         승용    화물\n",
       "등급                 \n",
       "1   911275.00   NaN\n",
       "2  2919259.00 10.00\n",
       "3   384981.00  4.00\n",
       "4    36265.00  5.00\n",
       "5     1093.00 15.00\n",
       "X    32289.00 24.00"
      ]
     },
     "execution_count": 153,
     "metadata": {},
     "output_type": "execute_result"
    }
   ],
   "source": [
    "grp21_1 = ad2gl.groupby(['등급', '차종'], dropna=False)['차대번호'].count().unstack('차종')\n",
    "grp21_1"
   ]
  },
  {
   "cell_type": "code",
   "execution_count": 154,
   "metadata": {},
   "outputs": [
    {
     "data": {
      "text/html": [
       "<div>\n",
       "<style scoped>\n",
       "    .dataframe tbody tr th:only-of-type {\n",
       "        vertical-align: middle;\n",
       "    }\n",
       "\n",
       "    .dataframe tbody tr th {\n",
       "        vertical-align: top;\n",
       "    }\n",
       "\n",
       "    .dataframe thead th {\n",
       "        text-align: right;\n",
       "    }\n",
       "</style>\n",
       "<table border=\"1\" class=\"dataframe\">\n",
       "  <thead>\n",
       "    <tr style=\"text-align: right;\">\n",
       "      <th></th>\n",
       "      <th></th>\n",
       "      <th>E_CO_total</th>\n",
       "      <th>E_HC_total</th>\n",
       "      <th>E_NOx_total</th>\n",
       "      <th>E_PM10_total</th>\n",
       "      <th>E_PM2_5_total</th>\n",
       "      <th>E_SOx_total</th>\n",
       "      <th>E_NH3_total</th>\n",
       "      <th>E_CO2_total</th>\n",
       "      <th>차대번호</th>\n",
       "    </tr>\n",
       "    <tr>\n",
       "      <th>등급</th>\n",
       "      <th>저감장치부착유무</th>\n",
       "      <th></th>\n",
       "      <th></th>\n",
       "      <th></th>\n",
       "      <th></th>\n",
       "      <th></th>\n",
       "      <th></th>\n",
       "      <th></th>\n",
       "      <th></th>\n",
       "      <th></th>\n",
       "    </tr>\n",
       "  </thead>\n",
       "  <tbody>\n",
       "    <tr>\n",
       "      <th>3</th>\n",
       "      <th>NaN</th>\n",
       "      <td>5491097.22</td>\n",
       "      <td>478204.70</td>\n",
       "      <td>24653074.26</td>\n",
       "      <td>110449.67</td>\n",
       "      <td>101613.92</td>\n",
       "      <td>635855.24</td>\n",
       "      <td>74261.71</td>\n",
       "      <td>106457.37</td>\n",
       "      <td>1934036</td>\n",
       "    </tr>\n",
       "    <tr>\n",
       "      <th rowspan=\"2\" valign=\"top\">4</th>\n",
       "      <th>유</th>\n",
       "      <td>1.04</td>\n",
       "      <td>2.90</td>\n",
       "      <td>949.28</td>\n",
       "      <td>2.14</td>\n",
       "      <td>1.97</td>\n",
       "      <td>9.99</td>\n",
       "      <td>0.38</td>\n",
       "      <td>2.30</td>\n",
       "      <td>12</td>\n",
       "    </tr>\n",
       "    <tr>\n",
       "      <th>NaN</th>\n",
       "      <td>508190.38</td>\n",
       "      <td>100432.37</td>\n",
       "      <td>5793278.03</td>\n",
       "      <td>47406.52</td>\n",
       "      <td>43614.62</td>\n",
       "      <td>62812.89</td>\n",
       "      <td>4707.02</td>\n",
       "      <td>12590.75</td>\n",
       "      <td>172369</td>\n",
       "    </tr>\n",
       "    <tr>\n",
       "      <th rowspan=\"2\" valign=\"top\">5</th>\n",
       "      <th>유</th>\n",
       "      <td>15858.04</td>\n",
       "      <td>63750.58</td>\n",
       "      <td>10160466.26</td>\n",
       "      <td>87249.40</td>\n",
       "      <td>81107.82</td>\n",
       "      <td>51858.35</td>\n",
       "      <td>1922.07</td>\n",
       "      <td>12911.87</td>\n",
       "      <td>57050</td>\n",
       "    </tr>\n",
       "    <tr>\n",
       "      <th>NaN</th>\n",
       "      <td>4942502.79</td>\n",
       "      <td>1396594.28</td>\n",
       "      <td>24351985.06</td>\n",
       "      <td>1262250.56</td>\n",
       "      <td>1176417.39</td>\n",
       "      <td>122264.64</td>\n",
       "      <td>5138.34</td>\n",
       "      <td>29163.17</td>\n",
       "      <td>204847</td>\n",
       "    </tr>\n",
       "    <tr>\n",
       "      <th rowspan=\"2\" valign=\"top\">X</th>\n",
       "      <th>유</th>\n",
       "      <td>11.40</td>\n",
       "      <td>9.66</td>\n",
       "      <td>2278.08</td>\n",
       "      <td>23.41</td>\n",
       "      <td>22.98</td>\n",
       "      <td>15.02</td>\n",
       "      <td>1.01</td>\n",
       "      <td>1.45</td>\n",
       "      <td>69</td>\n",
       "    </tr>\n",
       "    <tr>\n",
       "      <th>NaN</th>\n",
       "      <td>35484.36</td>\n",
       "      <td>5997.33</td>\n",
       "      <td>150093.66</td>\n",
       "      <td>4565.20</td>\n",
       "      <td>4253.70</td>\n",
       "      <td>3302.86</td>\n",
       "      <td>338.34</td>\n",
       "      <td>552.87</td>\n",
       "      <td>9319</td>\n",
       "    </tr>\n",
       "  </tbody>\n",
       "</table>\n",
       "</div>"
      ],
      "text/plain": [
       "             E_CO_total  E_HC_total  E_NOx_total  E_PM10_total  E_PM2_5_total   \n",
       "등급 저감장치부착유무                                                                     \n",
       "3  NaN       5491097.22   478204.70  24653074.26     110449.67      101613.92  \\\n",
       "4  유               1.04        2.90       949.28          2.14           1.97   \n",
       "   NaN        508190.38   100432.37   5793278.03      47406.52       43614.62   \n",
       "5  유           15858.04    63750.58  10160466.26      87249.40       81107.82   \n",
       "   NaN       4942502.79  1396594.28  24351985.06    1262250.56     1176417.39   \n",
       "X  유              11.40        9.66      2278.08         23.41          22.98   \n",
       "   NaN         35484.36     5997.33    150093.66       4565.20        4253.70   \n",
       "\n",
       "             E_SOx_total  E_NH3_total  E_CO2_total     차대번호  \n",
       "등급 저감장치부착유무                                                  \n",
       "3  NaN         635855.24     74261.71    106457.37  1934036  \n",
       "4  유                9.99         0.38         2.30       12  \n",
       "   NaN          62812.89      4707.02     12590.75   172369  \n",
       "5  유            51858.35      1922.07     12911.87    57050  \n",
       "   NaN         122264.64      5138.34     29163.17   204847  \n",
       "X  유               15.02         1.01         1.45       69  \n",
       "   NaN           3302.86       338.34       552.87     9319  "
      ]
     },
     "execution_count": 154,
     "metadata": {},
     "output_type": "execute_result"
    }
   ],
   "source": [
    "grp22 = ad2d.groupby(['등급', '저감장치부착유무'], dropna=False).agg({'E_CO_total':'sum', 'E_HC_total':'sum', 'E_NOx_total':'sum', 'E_PM10_total':'sum', 'E_PM2_5_total':'sum', 'E_SOx_total':'sum', 'E_NH3_total':'sum', 'E_CO2_total':'sum', '차대번호':'count'})\n",
    "grp22"
   ]
  },
  {
   "cell_type": "code",
   "execution_count": 155,
   "metadata": {},
   "outputs": [
    {
     "data": {
      "text/html": [
       "<div>\n",
       "<style scoped>\n",
       "    .dataframe tbody tr th:only-of-type {\n",
       "        vertical-align: middle;\n",
       "    }\n",
       "\n",
       "    .dataframe tbody tr th {\n",
       "        vertical-align: top;\n",
       "    }\n",
       "\n",
       "    .dataframe thead th {\n",
       "        text-align: right;\n",
       "    }\n",
       "</style>\n",
       "<table border=\"1\" class=\"dataframe\">\n",
       "  <thead>\n",
       "    <tr style=\"text-align: right;\">\n",
       "      <th></th>\n",
       "      <th></th>\n",
       "      <th>E_CO_total</th>\n",
       "      <th>E_HC_total</th>\n",
       "      <th>E_NOx_total</th>\n",
       "      <th>E_PM10_total</th>\n",
       "      <th>E_PM2_5_total</th>\n",
       "      <th>E_SOx_total</th>\n",
       "      <th>E_NH3_total</th>\n",
       "      <th>E_CO2_total</th>\n",
       "      <th>차대번호</th>\n",
       "      <th>CO</th>\n",
       "      <th>NOx</th>\n",
       "      <th>SOx</th>\n",
       "      <th>PM10</th>\n",
       "      <th>PM2.5</th>\n",
       "      <th>HC</th>\n",
       "      <th>NH3</th>\n",
       "      <th>CO2</th>\n",
       "    </tr>\n",
       "    <tr>\n",
       "      <th>등급</th>\n",
       "      <th>저감장치부착유무</th>\n",
       "      <th></th>\n",
       "      <th></th>\n",
       "      <th></th>\n",
       "      <th></th>\n",
       "      <th></th>\n",
       "      <th></th>\n",
       "      <th></th>\n",
       "      <th></th>\n",
       "      <th></th>\n",
       "      <th></th>\n",
       "      <th></th>\n",
       "      <th></th>\n",
       "      <th></th>\n",
       "      <th></th>\n",
       "      <th></th>\n",
       "      <th></th>\n",
       "      <th></th>\n",
       "    </tr>\n",
       "  </thead>\n",
       "  <tbody>\n",
       "    <tr>\n",
       "      <th>3</th>\n",
       "      <th>NaN</th>\n",
       "      <td>5491097.22</td>\n",
       "      <td>478204.70</td>\n",
       "      <td>24653074.26</td>\n",
       "      <td>110449.67</td>\n",
       "      <td>101613.92</td>\n",
       "      <td>635855.24</td>\n",
       "      <td>74261.71</td>\n",
       "      <td>106457.37</td>\n",
       "      <td>1934036</td>\n",
       "      <td>2.84</td>\n",
       "      <td>12.75</td>\n",
       "      <td>0.33</td>\n",
       "      <td>0.06</td>\n",
       "      <td>0.05</td>\n",
       "      <td>0.25</td>\n",
       "      <td>0.04</td>\n",
       "      <td>0.06</td>\n",
       "    </tr>\n",
       "    <tr>\n",
       "      <th rowspan=\"2\" valign=\"top\">4</th>\n",
       "      <th>유</th>\n",
       "      <td>1.04</td>\n",
       "      <td>2.90</td>\n",
       "      <td>949.28</td>\n",
       "      <td>2.14</td>\n",
       "      <td>1.97</td>\n",
       "      <td>9.99</td>\n",
       "      <td>0.38</td>\n",
       "      <td>2.30</td>\n",
       "      <td>12</td>\n",
       "      <td>0.09</td>\n",
       "      <td>79.11</td>\n",
       "      <td>0.83</td>\n",
       "      <td>0.18</td>\n",
       "      <td>0.16</td>\n",
       "      <td>0.24</td>\n",
       "      <td>0.03</td>\n",
       "      <td>0.19</td>\n",
       "    </tr>\n",
       "    <tr>\n",
       "      <th>NaN</th>\n",
       "      <td>508190.38</td>\n",
       "      <td>100432.37</td>\n",
       "      <td>5793278.03</td>\n",
       "      <td>47406.52</td>\n",
       "      <td>43614.62</td>\n",
       "      <td>62812.89</td>\n",
       "      <td>4707.02</td>\n",
       "      <td>12590.75</td>\n",
       "      <td>172369</td>\n",
       "      <td>2.95</td>\n",
       "      <td>33.61</td>\n",
       "      <td>0.36</td>\n",
       "      <td>0.28</td>\n",
       "      <td>0.25</td>\n",
       "      <td>0.58</td>\n",
       "      <td>0.03</td>\n",
       "      <td>0.07</td>\n",
       "    </tr>\n",
       "    <tr>\n",
       "      <th rowspan=\"2\" valign=\"top\">5</th>\n",
       "      <th>유</th>\n",
       "      <td>15858.04</td>\n",
       "      <td>63750.58</td>\n",
       "      <td>10160466.26</td>\n",
       "      <td>87249.40</td>\n",
       "      <td>81107.82</td>\n",
       "      <td>51858.35</td>\n",
       "      <td>1922.07</td>\n",
       "      <td>12911.87</td>\n",
       "      <td>57050</td>\n",
       "      <td>0.28</td>\n",
       "      <td>178.10</td>\n",
       "      <td>0.91</td>\n",
       "      <td>1.53</td>\n",
       "      <td>1.42</td>\n",
       "      <td>1.12</td>\n",
       "      <td>0.03</td>\n",
       "      <td>0.23</td>\n",
       "    </tr>\n",
       "    <tr>\n",
       "      <th>NaN</th>\n",
       "      <td>4942502.79</td>\n",
       "      <td>1396594.28</td>\n",
       "      <td>24351985.06</td>\n",
       "      <td>1262250.56</td>\n",
       "      <td>1176417.39</td>\n",
       "      <td>122264.64</td>\n",
       "      <td>5138.34</td>\n",
       "      <td>29163.17</td>\n",
       "      <td>204847</td>\n",
       "      <td>24.13</td>\n",
       "      <td>118.88</td>\n",
       "      <td>0.60</td>\n",
       "      <td>6.16</td>\n",
       "      <td>5.74</td>\n",
       "      <td>6.82</td>\n",
       "      <td>0.03</td>\n",
       "      <td>0.14</td>\n",
       "    </tr>\n",
       "    <tr>\n",
       "      <th rowspan=\"2\" valign=\"top\">X</th>\n",
       "      <th>유</th>\n",
       "      <td>11.40</td>\n",
       "      <td>9.66</td>\n",
       "      <td>2278.08</td>\n",
       "      <td>23.41</td>\n",
       "      <td>22.98</td>\n",
       "      <td>15.02</td>\n",
       "      <td>1.01</td>\n",
       "      <td>1.45</td>\n",
       "      <td>69</td>\n",
       "      <td>0.17</td>\n",
       "      <td>33.02</td>\n",
       "      <td>0.22</td>\n",
       "      <td>0.34</td>\n",
       "      <td>0.33</td>\n",
       "      <td>0.14</td>\n",
       "      <td>0.01</td>\n",
       "      <td>0.02</td>\n",
       "    </tr>\n",
       "    <tr>\n",
       "      <th>NaN</th>\n",
       "      <td>35484.36</td>\n",
       "      <td>5997.33</td>\n",
       "      <td>150093.66</td>\n",
       "      <td>4565.20</td>\n",
       "      <td>4253.70</td>\n",
       "      <td>3302.86</td>\n",
       "      <td>338.34</td>\n",
       "      <td>552.87</td>\n",
       "      <td>9319</td>\n",
       "      <td>3.81</td>\n",
       "      <td>16.11</td>\n",
       "      <td>0.35</td>\n",
       "      <td>0.49</td>\n",
       "      <td>0.46</td>\n",
       "      <td>0.64</td>\n",
       "      <td>0.04</td>\n",
       "      <td>0.06</td>\n",
       "    </tr>\n",
       "  </tbody>\n",
       "</table>\n",
       "</div>"
      ],
      "text/plain": [
       "             E_CO_total  E_HC_total  E_NOx_total  E_PM10_total  E_PM2_5_total   \n",
       "등급 저감장치부착유무                                                                     \n",
       "3  NaN       5491097.22   478204.70  24653074.26     110449.67      101613.92  \\\n",
       "4  유               1.04        2.90       949.28          2.14           1.97   \n",
       "   NaN        508190.38   100432.37   5793278.03      47406.52       43614.62   \n",
       "5  유           15858.04    63750.58  10160466.26      87249.40       81107.82   \n",
       "   NaN       4942502.79  1396594.28  24351985.06    1262250.56     1176417.39   \n",
       "X  유              11.40        9.66      2278.08         23.41          22.98   \n",
       "   NaN         35484.36     5997.33    150093.66       4565.20        4253.70   \n",
       "\n",
       "             E_SOx_total  E_NH3_total  E_CO2_total     차대번호    CO    NOx  SOx   \n",
       "등급 저감장치부착유무                                                                     \n",
       "3  NaN         635855.24     74261.71    106457.37  1934036  2.84  12.75 0.33  \\\n",
       "4  유                9.99         0.38         2.30       12  0.09  79.11 0.83   \n",
       "   NaN          62812.89      4707.02     12590.75   172369  2.95  33.61 0.36   \n",
       "5  유            51858.35      1922.07     12911.87    57050  0.28 178.10 0.91   \n",
       "   NaN         122264.64      5138.34     29163.17   204847 24.13 118.88 0.60   \n",
       "X  유               15.02         1.01         1.45       69  0.17  33.02 0.22   \n",
       "   NaN           3302.86       338.34       552.87     9319  3.81  16.11 0.35   \n",
       "\n",
       "             PM10  PM2.5   HC  NH3  CO2  \n",
       "등급 저감장치부착유무                              \n",
       "3  NaN       0.06   0.05 0.25 0.04 0.06  \n",
       "4  유         0.18   0.16 0.24 0.03 0.19  \n",
       "   NaN       0.28   0.25 0.58 0.03 0.07  \n",
       "5  유         1.53   1.42 1.12 0.03 0.23  \n",
       "   NaN       6.16   5.74 6.82 0.03 0.14  \n",
       "X  유         0.34   0.33 0.14 0.01 0.02  \n",
       "   NaN       0.49   0.46 0.64 0.04 0.06  "
      ]
     },
     "execution_count": 155,
     "metadata": {},
     "output_type": "execute_result"
    }
   ],
   "source": [
    "grp22['CO'] = grp22['E_CO_total'] / grp22['차대번호']\n",
    "grp22['NOx'] = grp22['E_NOx_total'] / grp22['차대번호']\n",
    "grp22['SOx'] = grp22['E_SOx_total'] / grp22['차대번호']\n",
    "grp22['PM10'] = grp22['E_PM10_total'] / grp22['차대번호']\n",
    "grp22['PM2.5'] = grp22['E_PM2_5_total'] / grp22['차대번호']\n",
    "grp22['HC'] = grp22['E_HC_total'] / grp22['차대번호']\n",
    "grp22['NH3'] = grp22['E_NH3_total'] / grp22['차대번호']\n",
    "grp22['CO2'] = grp22['E_CO2_total'] / grp22['차대번호']\n",
    "grp22"
   ]
  },
  {
   "cell_type": "code",
   "execution_count": 156,
   "metadata": {},
   "outputs": [
    {
     "data": {
      "text/html": [
       "<div>\n",
       "<style scoped>\n",
       "    .dataframe tbody tr th:only-of-type {\n",
       "        vertical-align: middle;\n",
       "    }\n",
       "\n",
       "    .dataframe tbody tr th {\n",
       "        vertical-align: top;\n",
       "    }\n",
       "\n",
       "    .dataframe thead th {\n",
       "        text-align: right;\n",
       "    }\n",
       "</style>\n",
       "<table border=\"1\" class=\"dataframe\">\n",
       "  <thead>\n",
       "    <tr style=\"text-align: right;\">\n",
       "      <th></th>\n",
       "      <th>차종</th>\n",
       "      <th>승용</th>\n",
       "      <th>화물</th>\n",
       "    </tr>\n",
       "    <tr>\n",
       "      <th>등급</th>\n",
       "      <th>저감장치부착유무</th>\n",
       "      <th></th>\n",
       "      <th></th>\n",
       "    </tr>\n",
       "  </thead>\n",
       "  <tbody>\n",
       "    <tr>\n",
       "      <th>3</th>\n",
       "      <th>NaN</th>\n",
       "      <td>1744356</td>\n",
       "      <td>189680</td>\n",
       "    </tr>\n",
       "    <tr>\n",
       "      <th rowspan=\"2\" valign=\"top\">4</th>\n",
       "      <th>유</th>\n",
       "      <td>7</td>\n",
       "      <td>5</td>\n",
       "    </tr>\n",
       "    <tr>\n",
       "      <th>NaN</th>\n",
       "      <td>151007</td>\n",
       "      <td>21362</td>\n",
       "    </tr>\n",
       "    <tr>\n",
       "      <th rowspan=\"2\" valign=\"top\">5</th>\n",
       "      <th>유</th>\n",
       "      <td>30192</td>\n",
       "      <td>26858</td>\n",
       "    </tr>\n",
       "    <tr>\n",
       "      <th>NaN</th>\n",
       "      <td>144880</td>\n",
       "      <td>59967</td>\n",
       "    </tr>\n",
       "    <tr>\n",
       "      <th rowspan=\"2\" valign=\"top\">X</th>\n",
       "      <th>유</th>\n",
       "      <td>66</td>\n",
       "      <td>3</td>\n",
       "    </tr>\n",
       "    <tr>\n",
       "      <th>NaN</th>\n",
       "      <td>8242</td>\n",
       "      <td>1077</td>\n",
       "    </tr>\n",
       "  </tbody>\n",
       "</table>\n",
       "</div>"
      ],
      "text/plain": [
       "차종                승용      화물\n",
       "등급 저감장치부착유무                 \n",
       "3  NaN       1744356  189680\n",
       "4  유               7       5\n",
       "   NaN        151007   21362\n",
       "5  유           30192   26858\n",
       "   NaN        144880   59967\n",
       "X  유              66       3\n",
       "   NaN          8242    1077"
      ]
     },
     "execution_count": 156,
     "metadata": {},
     "output_type": "execute_result"
    }
   ],
   "source": [
    "grp22_1 = ad2d.groupby(['등급', '저감장치부착유무', '차종'], dropna=False)['차대번호'].count().unstack('차종')\n",
    "grp22_1"
   ]
  },
  {
   "cell_type": "code",
   "execution_count": 157,
   "metadata": {},
   "outputs": [
    {
     "data": {
      "text/plain": [
       "'2023.06.22_PM.05.08.09'"
      ]
     },
     "execution_count": 157,
     "metadata": {},
     "output_type": "execute_result"
    }
   ],
   "source": [
    "today_date = datetime.today().strftime(\"%Y.%m.%d_%p.%I.%M.%S\")\n",
    "today_date"
   ]
  },
  {
   "cell_type": "code",
   "execution_count": 158,
   "metadata": {},
   "outputs": [],
   "source": [
    "with pd.ExcelWriter(os.path.join(an_fold, '통계_연료_등급별_배출가스배출량_대형.xlsx')) as writer:\n",
    "    grp21.to_excel(writer, sheet_name='휘발유_가스')\n",
    "    grp21_1.to_excel(writer, sheet_name='휘발유_가스_차종')\n",
    "    grp22.to_excel(writer, sheet_name='경유')\n",
    "    grp22_1.to_excel(writer, sheet_name='경유_차종')"
   ]
  },
  {
   "cell_type": "code",
   "execution_count": 159,
   "metadata": {},
   "outputs": [
    {
     "data": {
      "text/plain": [
       "array(['휘발유', 'LPG', '경유'], dtype=object)"
      ]
     },
     "execution_count": 159,
     "metadata": {},
     "output_type": "execute_result"
    }
   ],
   "source": [
    "df2['fuel'].unique()"
   ]
  },
  {
   "cell_type": "code",
   "execution_count": 160,
   "metadata": {},
   "outputs": [
    {
     "data": {
      "text/html": [
       "<div>\n",
       "<style scoped>\n",
       "    .dataframe tbody tr th:only-of-type {\n",
       "        vertical-align: middle;\n",
       "    }\n",
       "\n",
       "    .dataframe tbody tr th {\n",
       "        vertical-align: top;\n",
       "    }\n",
       "\n",
       "    .dataframe thead th {\n",
       "        text-align: right;\n",
       "    }\n",
       "</style>\n",
       "<table border=\"1\" class=\"dataframe\">\n",
       "  <thead>\n",
       "    <tr style=\"text-align: right;\">\n",
       "      <th></th>\n",
       "      <th>E_CO_total</th>\n",
       "      <th>E_HC_total</th>\n",
       "      <th>E_NOx_total</th>\n",
       "      <th>E_PM10_total</th>\n",
       "      <th>E_PM2_5_total</th>\n",
       "      <th>E_SOx_total</th>\n",
       "      <th>E_NH3_total</th>\n",
       "      <th>E_CO2_total</th>\n",
       "    </tr>\n",
       "    <tr>\n",
       "      <th>fuel</th>\n",
       "      <th></th>\n",
       "      <th></th>\n",
       "      <th></th>\n",
       "      <th></th>\n",
       "      <th></th>\n",
       "      <th></th>\n",
       "      <th></th>\n",
       "      <th></th>\n",
       "    </tr>\n",
       "  </thead>\n",
       "  <tbody>\n",
       "    <tr>\n",
       "      <th>LPG</th>\n",
       "      <td>13748960.00</td>\n",
       "      <td>467489.48</td>\n",
       "      <td>2524445.82</td>\n",
       "      <td>25962.55</td>\n",
       "      <td>24025.41</td>\n",
       "      <td>365081.14</td>\n",
       "      <td>357617.87</td>\n",
       "      <td>319615.30</td>\n",
       "    </tr>\n",
       "    <tr>\n",
       "      <th>경유</th>\n",
       "      <td>48675800.02</td>\n",
       "      <td>9155303.96</td>\n",
       "      <td>219163906.22</td>\n",
       "      <td>4914395.81</td>\n",
       "      <td>4617284.21</td>\n",
       "      <td>3504250.75</td>\n",
       "      <td>279230.97</td>\n",
       "      <td>847346.80</td>\n",
       "    </tr>\n",
       "    <tr>\n",
       "      <th>휘발유</th>\n",
       "      <td>113151860.31</td>\n",
       "      <td>11530128.55</td>\n",
       "      <td>11212453.50</td>\n",
       "      <td>93715.34</td>\n",
       "      <td>86282.70</td>\n",
       "      <td>182402.15</td>\n",
       "      <td>2968822.27</td>\n",
       "      <td>569573.74</td>\n",
       "    </tr>\n",
       "  </tbody>\n",
       "</table>\n",
       "</div>"
      ],
      "text/plain": [
       "       E_CO_total  E_HC_total  E_NOx_total  E_PM10_total  E_PM2_5_total   \n",
       "fuel                                                                      \n",
       "LPG   13748960.00   467489.48   2524445.82      25962.55       24025.41  \\\n",
       "경유    48675800.02  9155303.96 219163906.22    4914395.81     4617284.21   \n",
       "휘발유  113151860.31 11530128.55  11212453.50      93715.34       86282.70   \n",
       "\n",
       "      E_SOx_total  E_NH3_total  E_CO2_total  \n",
       "fuel                                         \n",
       "LPG     365081.14    357617.87    319615.30  \n",
       "경유     3504250.75    279230.97    847346.80  \n",
       "휘발유     182402.15   2968822.27    569573.74  "
      ]
     },
     "execution_count": 160,
     "metadata": {},
     "output_type": "execute_result"
    }
   ],
   "source": [
    "grp3 = df2.groupby('fuel').agg({'E_CO_total':'sum', 'E_HC_total':'sum', 'E_NOx_total':'sum', 'E_PM10_total':'sum', 'E_PM2_5_total':'sum', 'E_SOx_total':'sum', 'E_NH3_total':'sum', 'E_CO2_total':'sum'})\n",
    "grp3"
   ]
  },
  {
   "cell_type": "code",
   "execution_count": 161,
   "metadata": {},
   "outputs": [],
   "source": [
    "grp3.to_excel(os.path.join(an_fold, '통계_CAPSS_배출량.xlsx'))"
   ]
  },
  {
   "attachments": {},
   "cell_type": "markdown",
   "metadata": {},
   "source": [
    "# [출력] 경유, 휘발유, LPG 차량 배출량"
   ]
  },
  {
   "cell_type": "code",
   "execution_count": 431,
   "metadata": {},
   "outputs": [
    {
     "data": {
      "text/plain": [
       "Index(['법정동코드', '차종', '차대번호', '차량연식', '배출가스인증번호', '배출가스등급', '차량말소YN', '차종유형',\n",
       "       '연료', '등급', 'fuel', '차령', '시도', '시구군', '일일평균주행거리', '저감장치부착유무', 'VKT',\n",
       "       'DF_CO', 'DF_HC', 'DF_PM', 'DF_NOx', 'R_CO', 'R_HC', 'R_PM', 'EFi_CO',\n",
       "       'EFi_HC', 'EFi_NOx', 'EFi_PM10', 'EFi_PM2_5', 'E_HOT_CO', 'E_HOT_HC',\n",
       "       'E_HOT_NOx', 'E_HOT_PM10', 'E_HOT_PM2_5', 'Beta(Estimated)',\n",
       "       'eCOLD/eHOT_CO', 'eCOLD/eHOT_NOx', 'eCOLD/eHOT_HC', 'eCOLD/eHOT_PM',\n",
       "       'E_COLD_CO', 'E_COLD_NOx', 'E_COLD_HC', 'E_COLD_PM10', 'E_COLD_PM2_5',\n",
       "       'e_d', 'e_RHOT', 'e_SHOT', 'e_SWARM', 'e_fi', 'e_RWARM', 'R', 'S_fi',\n",
       "       'S_c', 'E_EVA_VOC', 'E_CO_total', 'E_HC_total', 'E_NOx_total',\n",
       "       'E_PM10_total', 'E_PM2_5_total', 'fcc', 'sf', 'E_SOx_total'],\n",
       "      dtype='object')"
      ]
     },
     "execution_count": 431,
     "metadata": {},
     "output_type": "execute_result"
    }
   ],
   "source": [
    "df2.columns"
   ]
  },
  {
   "cell_type": "code",
   "execution_count": 432,
   "metadata": {},
   "outputs": [
    {
     "data": {
      "text/plain": [
       "(25117108, 18)"
      ]
     },
     "execution_count": 432,
     "metadata": {},
     "output_type": "execute_result"
    }
   ],
   "source": [
    "# 컬럼명 정리\n",
    "ep = df2[[\n",
    "    '법정동코드', \n",
    "    '시도', \n",
    "    '시구군', \n",
    "    '차대번호', \n",
    "    '차량연식', \n",
    "    '배출가스인증번호', \n",
    "    '등급', \n",
    "    'fuel', \n",
    "    '차종', \n",
    "    '차종유형', \n",
    "    '일일평균주행거리', \n",
    "    '저감장치부착유무', \n",
    "    'E_CO_total', \n",
    "    'E_HC_total', \n",
    "    'E_NOx_total',\n",
    "    'E_PM10_total', \n",
    "    'E_PM2_5_total', \n",
    "    'E_SOx_total',\n",
    "    ]]\n",
    "ep.shape"
   ]
  },
  {
   "cell_type": "code",
   "execution_count": 434,
   "metadata": {},
   "outputs": [
    {
     "data": {
      "text/plain": [
       "Index(['법정동코드', '시도', '시구군', '차대번호', '차량연식', '배출가스인증번호', '등급', 'fuel', '차종',\n",
       "       '차종유형', '일일평균주행거리', '저감장치부착유무', 'E_CO_total', 'E_HC_total',\n",
       "       'E_NOx_total', 'E_PM10_total', 'E_PM2_5_total', 'E_SOx_total'],\n",
       "      dtype='object')"
      ]
     },
     "execution_count": 434,
     "metadata": {},
     "output_type": "execute_result"
    }
   ],
   "source": [
    "ep.columns"
   ]
  },
  {
   "cell_type": "code",
   "execution_count": 435,
   "metadata": {},
   "outputs": [
    {
     "ename": "MemoryError",
     "evalue": "Unable to allocate 383. MiB for an array with shape (2, 25117108) and data type object",
     "output_type": "error",
     "traceback": [
      "\u001b[1;31m---------------------------------------------------------------------------\u001b[0m",
      "\u001b[1;31mMemoryError\u001b[0m                               Traceback (most recent call last)",
      "\u001b[1;32m~\\AppData\\Local\\Temp\\ipykernel_7936\\1570345214.py\u001b[0m in \u001b[0;36m<module>\u001b[1;34m\u001b[0m\n\u001b[1;32m----> 1\u001b[1;33m \u001b[0mep\u001b[0m \u001b[1;33m=\u001b[0m \u001b[0mep\u001b[0m\u001b[1;33m.\u001b[0m\u001b[0mrename\u001b[0m\u001b[1;33m(\u001b[0m\u001b[0mcolumns\u001b[0m\u001b[1;33m=\u001b[0m\u001b[1;33m{\u001b[0m\u001b[1;34m'등급'\u001b[0m\u001b[1;33m:\u001b[0m\u001b[1;34m'배출가스등급'\u001b[0m\u001b[1;33m,\u001b[0m \u001b[1;34m'fuel'\u001b[0m\u001b[1;33m:\u001b[0m\u001b[1;34m'연료'\u001b[0m\u001b[1;33m}\u001b[0m\u001b[1;33m)\u001b[0m\u001b[1;33m\u001b[0m\u001b[1;33m\u001b[0m\u001b[0m\n\u001b[0m",
      "\u001b[1;32m~\\AppData\\Roaming\\Python\\Python39\\site-packages\\pandas\\core\\frame.py\u001b[0m in \u001b[0;36mrename\u001b[1;34m(self, mapper, index, columns, axis, copy, inplace, level, errors)\u001b[0m\n\u001b[0;32m   5440\u001b[0m         \u001b[1;36m4\u001b[0m  \u001b[1;36m3\u001b[0m  \u001b[1;36m6\u001b[0m\u001b[1;33m\u001b[0m\u001b[1;33m\u001b[0m\u001b[0m\n\u001b[0;32m   5441\u001b[0m         \"\"\"\n\u001b[1;32m-> 5442\u001b[1;33m         return super()._rename(\n\u001b[0m\u001b[0;32m   5443\u001b[0m             \u001b[0mmapper\u001b[0m\u001b[1;33m=\u001b[0m\u001b[0mmapper\u001b[0m\u001b[1;33m,\u001b[0m\u001b[1;33m\u001b[0m\u001b[1;33m\u001b[0m\u001b[0m\n\u001b[0;32m   5444\u001b[0m             \u001b[0mindex\u001b[0m\u001b[1;33m=\u001b[0m\u001b[0mindex\u001b[0m\u001b[1;33m,\u001b[0m\u001b[1;33m\u001b[0m\u001b[1;33m\u001b[0m\u001b[0m\n",
      "\u001b[1;32m~\\AppData\\Roaming\\Python\\Python39\\site-packages\\pandas\\core\\generic.py\u001b[0m in \u001b[0;36m_rename\u001b[1;34m(self, mapper, index, columns, axis, copy, inplace, level, errors)\u001b[0m\n\u001b[0;32m   1005\u001b[0m \u001b[1;33m\u001b[0m\u001b[0m\n\u001b[0;32m   1006\u001b[0m         \u001b[0mself\u001b[0m\u001b[1;33m.\u001b[0m\u001b[0m_check_inplace_and_allows_duplicate_labels\u001b[0m\u001b[1;33m(\u001b[0m\u001b[0minplace\u001b[0m\u001b[1;33m)\u001b[0m\u001b[1;33m\u001b[0m\u001b[1;33m\u001b[0m\u001b[0m\n\u001b[1;32m-> 1007\u001b[1;33m         \u001b[0mresult\u001b[0m \u001b[1;33m=\u001b[0m \u001b[0mself\u001b[0m \u001b[1;32mif\u001b[0m \u001b[0minplace\u001b[0m \u001b[1;32melse\u001b[0m \u001b[0mself\u001b[0m\u001b[1;33m.\u001b[0m\u001b[0mcopy\u001b[0m\u001b[1;33m(\u001b[0m\u001b[0mdeep\u001b[0m\u001b[1;33m=\u001b[0m\u001b[0mcopy\u001b[0m \u001b[1;32mand\u001b[0m \u001b[1;32mnot\u001b[0m \u001b[0musing_copy_on_write\u001b[0m\u001b[1;33m(\u001b[0m\u001b[1;33m)\u001b[0m\u001b[1;33m)\u001b[0m\u001b[1;33m\u001b[0m\u001b[1;33m\u001b[0m\u001b[0m\n\u001b[0m\u001b[0;32m   1008\u001b[0m \u001b[1;33m\u001b[0m\u001b[0m\n\u001b[0;32m   1009\u001b[0m         \u001b[1;32mfor\u001b[0m \u001b[0maxis_no\u001b[0m\u001b[1;33m,\u001b[0m \u001b[0mreplacements\u001b[0m \u001b[1;32min\u001b[0m \u001b[0menumerate\u001b[0m\u001b[1;33m(\u001b[0m\u001b[1;33m(\u001b[0m\u001b[0mindex\u001b[0m\u001b[1;33m,\u001b[0m \u001b[0mcolumns\u001b[0m\u001b[1;33m)\u001b[0m\u001b[1;33m)\u001b[0m\u001b[1;33m:\u001b[0m\u001b[1;33m\u001b[0m\u001b[1;33m\u001b[0m\u001b[0m\n",
      "\u001b[1;32m~\\AppData\\Roaming\\Python\\Python39\\site-packages\\pandas\\core\\generic.py\u001b[0m in \u001b[0;36mcopy\u001b[1;34m(self, deep)\u001b[0m\n\u001b[0;32m   6450\u001b[0m         \u001b[0mdtype\u001b[0m\u001b[1;33m:\u001b[0m \u001b[0mobject\u001b[0m\u001b[1;33m\u001b[0m\u001b[1;33m\u001b[0m\u001b[0m\n\u001b[0;32m   6451\u001b[0m         \"\"\"\n\u001b[1;32m-> 6452\u001b[1;33m         \u001b[0mdata\u001b[0m \u001b[1;33m=\u001b[0m \u001b[0mself\u001b[0m\u001b[1;33m.\u001b[0m\u001b[0m_mgr\u001b[0m\u001b[1;33m.\u001b[0m\u001b[0mcopy\u001b[0m\u001b[1;33m(\u001b[0m\u001b[0mdeep\u001b[0m\u001b[1;33m=\u001b[0m\u001b[0mdeep\u001b[0m\u001b[1;33m)\u001b[0m\u001b[1;33m\u001b[0m\u001b[1;33m\u001b[0m\u001b[0m\n\u001b[0m\u001b[0;32m   6453\u001b[0m         \u001b[0mself\u001b[0m\u001b[1;33m.\u001b[0m\u001b[0m_clear_item_cache\u001b[0m\u001b[1;33m(\u001b[0m\u001b[1;33m)\u001b[0m\u001b[1;33m\u001b[0m\u001b[1;33m\u001b[0m\u001b[0m\n\u001b[0;32m   6454\u001b[0m         \u001b[1;32mreturn\u001b[0m \u001b[0mself\u001b[0m\u001b[1;33m.\u001b[0m\u001b[0m_constructor\u001b[0m\u001b[1;33m(\u001b[0m\u001b[0mdata\u001b[0m\u001b[1;33m)\u001b[0m\u001b[1;33m.\u001b[0m\u001b[0m__finalize__\u001b[0m\u001b[1;33m(\u001b[0m\u001b[0mself\u001b[0m\u001b[1;33m,\u001b[0m \u001b[0mmethod\u001b[0m\u001b[1;33m=\u001b[0m\u001b[1;34m\"copy\"\u001b[0m\u001b[1;33m)\u001b[0m\u001b[1;33m\u001b[0m\u001b[1;33m\u001b[0m\u001b[0m\n",
      "\u001b[1;32m~\\AppData\\Roaming\\Python\\Python39\\site-packages\\pandas\\core\\internals\\managers.py\u001b[0m in \u001b[0;36mcopy\u001b[1;34m(self, deep)\u001b[0m\n\u001b[0;32m    651\u001b[0m             \u001b[0mnew_axes\u001b[0m \u001b[1;33m=\u001b[0m \u001b[0mlist\u001b[0m\u001b[1;33m(\u001b[0m\u001b[0mself\u001b[0m\u001b[1;33m.\u001b[0m\u001b[0maxes\u001b[0m\u001b[1;33m)\u001b[0m\u001b[1;33m\u001b[0m\u001b[1;33m\u001b[0m\u001b[0m\n\u001b[0;32m    652\u001b[0m \u001b[1;33m\u001b[0m\u001b[0m\n\u001b[1;32m--> 653\u001b[1;33m         \u001b[0mres\u001b[0m \u001b[1;33m=\u001b[0m \u001b[0mself\u001b[0m\u001b[1;33m.\u001b[0m\u001b[0mapply\u001b[0m\u001b[1;33m(\u001b[0m\u001b[1;34m\"copy\"\u001b[0m\u001b[1;33m,\u001b[0m \u001b[0mdeep\u001b[0m\u001b[1;33m=\u001b[0m\u001b[0mdeep\u001b[0m\u001b[1;33m)\u001b[0m\u001b[1;33m\u001b[0m\u001b[1;33m\u001b[0m\u001b[0m\n\u001b[0m\u001b[0;32m    654\u001b[0m         \u001b[0mres\u001b[0m\u001b[1;33m.\u001b[0m\u001b[0maxes\u001b[0m \u001b[1;33m=\u001b[0m \u001b[0mnew_axes\u001b[0m\u001b[1;33m\u001b[0m\u001b[1;33m\u001b[0m\u001b[0m\n\u001b[0;32m    655\u001b[0m \u001b[1;33m\u001b[0m\u001b[0m\n",
      "\u001b[1;32m~\\AppData\\Roaming\\Python\\Python39\\site-packages\\pandas\\core\\internals\\managers.py\u001b[0m in \u001b[0;36mapply\u001b[1;34m(self, f, align_keys, **kwargs)\u001b[0m\n\u001b[0;32m    350\u001b[0m                 \u001b[0mapplied\u001b[0m \u001b[1;33m=\u001b[0m \u001b[0mb\u001b[0m\u001b[1;33m.\u001b[0m\u001b[0mapply\u001b[0m\u001b[1;33m(\u001b[0m\u001b[0mf\u001b[0m\u001b[1;33m,\u001b[0m \u001b[1;33m**\u001b[0m\u001b[0mkwargs\u001b[0m\u001b[1;33m)\u001b[0m\u001b[1;33m\u001b[0m\u001b[1;33m\u001b[0m\u001b[0m\n\u001b[0;32m    351\u001b[0m             \u001b[1;32melse\u001b[0m\u001b[1;33m:\u001b[0m\u001b[1;33m\u001b[0m\u001b[1;33m\u001b[0m\u001b[0m\n\u001b[1;32m--> 352\u001b[1;33m                 \u001b[0mapplied\u001b[0m \u001b[1;33m=\u001b[0m \u001b[0mgetattr\u001b[0m\u001b[1;33m(\u001b[0m\u001b[0mb\u001b[0m\u001b[1;33m,\u001b[0m \u001b[0mf\u001b[0m\u001b[1;33m)\u001b[0m\u001b[1;33m(\u001b[0m\u001b[1;33m**\u001b[0m\u001b[0mkwargs\u001b[0m\u001b[1;33m)\u001b[0m\u001b[1;33m\u001b[0m\u001b[1;33m\u001b[0m\u001b[0m\n\u001b[0m\u001b[0;32m    353\u001b[0m             \u001b[0mresult_blocks\u001b[0m \u001b[1;33m=\u001b[0m \u001b[0mextend_blocks\u001b[0m\u001b[1;33m(\u001b[0m\u001b[0mapplied\u001b[0m\u001b[1;33m,\u001b[0m \u001b[0mresult_blocks\u001b[0m\u001b[1;33m)\u001b[0m\u001b[1;33m\u001b[0m\u001b[1;33m\u001b[0m\u001b[0m\n\u001b[0;32m    354\u001b[0m \u001b[1;33m\u001b[0m\u001b[0m\n",
      "\u001b[1;32m~\\AppData\\Roaming\\Python\\Python39\\site-packages\\pandas\\core\\internals\\blocks.py\u001b[0m in \u001b[0;36mcopy\u001b[1;34m(self, deep)\u001b[0m\n\u001b[0;32m    538\u001b[0m         \u001b[0mrefs\u001b[0m\u001b[1;33m:\u001b[0m \u001b[0mBlockValuesRefs\u001b[0m \u001b[1;33m|\u001b[0m \u001b[1;32mNone\u001b[0m\u001b[1;33m\u001b[0m\u001b[1;33m\u001b[0m\u001b[0m\n\u001b[0;32m    539\u001b[0m         \u001b[1;32mif\u001b[0m \u001b[0mdeep\u001b[0m\u001b[1;33m:\u001b[0m\u001b[1;33m\u001b[0m\u001b[1;33m\u001b[0m\u001b[0m\n\u001b[1;32m--> 540\u001b[1;33m             \u001b[0mvalues\u001b[0m \u001b[1;33m=\u001b[0m \u001b[0mvalues\u001b[0m\u001b[1;33m.\u001b[0m\u001b[0mcopy\u001b[0m\u001b[1;33m(\u001b[0m\u001b[1;33m)\u001b[0m\u001b[1;33m\u001b[0m\u001b[1;33m\u001b[0m\u001b[0m\n\u001b[0m\u001b[0;32m    541\u001b[0m             \u001b[0mrefs\u001b[0m \u001b[1;33m=\u001b[0m \u001b[1;32mNone\u001b[0m\u001b[1;33m\u001b[0m\u001b[1;33m\u001b[0m\u001b[0m\n\u001b[0;32m    542\u001b[0m         \u001b[1;32melse\u001b[0m\u001b[1;33m:\u001b[0m\u001b[1;33m\u001b[0m\u001b[1;33m\u001b[0m\u001b[0m\n",
      "\u001b[1;31mMemoryError\u001b[0m: Unable to allocate 383. MiB for an array with shape (2, 25117108) and data type object"
     ]
    }
   ],
   "source": [
    "ep = ep.rename(columns={'등급':'배출가스등급', 'fuel':'연료'})"
   ]
  },
  {
   "cell_type": "code",
   "execution_count": null,
   "metadata": {},
   "outputs": [],
   "source": [
    "# # about\n",
    "# df2.to_csv(os.path.join(df_fold, '경유_휘발유_LPG차량_배출량.csv'), index=False)"
   ]
  },
  {
   "attachments": {},
   "cell_type": "markdown",
   "metadata": {},
   "source": [
    "# 4등급 차량 차종별 일일평균주행거리 확인\n",
    "- 이상 주행거리 제외"
   ]
  },
  {
   "attachments": {},
   "cell_type": "markdown",
   "metadata": {},
   "source": [
    "## [로드] 일일평균주행거리"
   ]
  },
  {
   "cell_type": "code",
   "execution_count": 30,
   "metadata": {},
   "outputs": [
    {
     "name": "stdout",
     "output_type": "stream",
     "text": [
      "<class 'pandas.core.frame.DataFrame'>\n",
      "RangeIndex: 2009566 entries, 0 to 2009565\n",
      "Data columns (total 8 columns):\n",
      " #   Column    Dtype  \n",
      "---  ------    -----  \n",
      " 0   차대번호      object \n",
      " 1   최초등록일자수정  object \n",
      " 2   최근검사일자수정  object \n",
      " 3   최근주행거리    int64  \n",
      " 4   등록일기준검사일  int64  \n",
      " 5   현재일자      object \n",
      " 6   일일평균주행거리  float64\n",
      " 7   최근검사경과일   int64  \n",
      "dtypes: float64(1), int64(3), object(4)\n",
      "memory usage: 122.7+ MB\n"
     ]
    }
   ],
   "source": [
    "# about \n",
    "name = '일일평균주행거리_최초등록일자_최근검사일자_기준'\n",
    "file_name = f'{name}.csv'\n",
    "run = pd.read_csv(os.path.join(raw1_fold, file_name), low_memory=False)\n",
    "run.info()"
   ]
  },
  {
   "cell_type": "code",
   "execution_count": 32,
   "metadata": {},
   "outputs": [
    {
     "data": {
      "text/plain": [
       "((2009566, 8), 2009566)"
      ]
     },
     "execution_count": 32,
     "metadata": {},
     "output_type": "execute_result"
    }
   ],
   "source": [
    "run.shape, len(run['차대번호'].unique())"
   ]
  },
  {
   "cell_type": "code",
   "execution_count": 31,
   "metadata": {},
   "outputs": [
    {
     "data": {
      "text/plain": [
       "Index(['법정동코드', '차종', '차대번호', '최초등록일자', '차량연식', '배출가스인증번호', '배출가스등급', '차량말소YN',\n",
       "       '차종유형', '연료', '총중량', '배기량', '등급', 'fuel'],\n",
       "      dtype='object')"
      ]
     },
     "execution_count": 31,
     "metadata": {},
     "output_type": "execute_result"
    }
   ],
   "source": [
    "smig3.columns"
   ]
  },
  {
   "cell_type": "code",
   "execution_count": 34,
   "metadata": {},
   "outputs": [
    {
     "data": {
      "text/plain": [
       "(25692512, 14)"
      ]
     },
     "execution_count": 34,
     "metadata": {},
     "output_type": "execute_result"
    }
   ],
   "source": [
    "smig3.shape"
   ]
  },
  {
   "cell_type": "code",
   "execution_count": 33,
   "metadata": {},
   "outputs": [
    {
     "data": {
      "text/plain": [
       "(25692512, 15)"
      ]
     },
     "execution_count": 33,
     "metadata": {},
     "output_type": "execute_result"
    }
   ],
   "source": [
    "df = smig3.merge(run[['차대번호', '일일평균주행거리']], on='차대번호', how='left')\n",
    "df.shape"
   ]
  },
  {
   "cell_type": "code",
   "execution_count": 36,
   "metadata": {},
   "outputs": [
    {
     "data": {
      "text/plain": [
       "(2009532, 15)"
      ]
     },
     "execution_count": 36,
     "metadata": {},
     "output_type": "execute_result"
    }
   ],
   "source": [
    "dfs1 = df[df['일일평균주행거리'] < 1000].reset_index(drop=True)\n",
    "dfs1.shape"
   ]
  },
  {
   "cell_type": "code",
   "execution_count": 38,
   "metadata": {},
   "outputs": [
    {
     "data": {
      "text/html": [
       "<div>\n",
       "<style scoped>\n",
       "    .dataframe tbody tr th:only-of-type {\n",
       "        vertical-align: middle;\n",
       "    }\n",
       "\n",
       "    .dataframe tbody tr th {\n",
       "        vertical-align: top;\n",
       "    }\n",
       "\n",
       "    .dataframe thead th {\n",
       "        text-align: right;\n",
       "    }\n",
       "</style>\n",
       "<table border=\"1\" class=\"dataframe\">\n",
       "  <thead>\n",
       "    <tr style=\"text-align: right;\">\n",
       "      <th></th>\n",
       "      <th>차종</th>\n",
       "      <th>일일평균주행거리</th>\n",
       "    </tr>\n",
       "  </thead>\n",
       "  <tbody>\n",
       "    <tr>\n",
       "      <th>0</th>\n",
       "      <td>승용</td>\n",
       "      <td>37.11</td>\n",
       "    </tr>\n",
       "    <tr>\n",
       "      <th>1</th>\n",
       "      <td>승합</td>\n",
       "      <td>43.40</td>\n",
       "    </tr>\n",
       "    <tr>\n",
       "      <th>2</th>\n",
       "      <td>특수</td>\n",
       "      <td>102.08</td>\n",
       "    </tr>\n",
       "    <tr>\n",
       "      <th>3</th>\n",
       "      <td>화물</td>\n",
       "      <td>43.81</td>\n",
       "    </tr>\n",
       "  </tbody>\n",
       "</table>\n",
       "</div>"
      ],
      "text/plain": [
       "   차종  일일평균주행거리\n",
       "0  승용     37.11\n",
       "1  승합     43.40\n",
       "2  특수    102.08\n",
       "3  화물     43.81"
      ]
     },
     "execution_count": 38,
     "metadata": {},
     "output_type": "execute_result"
    }
   ],
   "source": [
    "dfs1.groupby('차종').agg({'일일평균주행거리':'mean'}).reset_index()"
   ]
  },
  {
   "cell_type": "code",
   "execution_count": 40,
   "metadata": {},
   "outputs": [],
   "source": [
    "dfs1.groupby('차종').agg({'일일평균주행거리':'mean'}).reset_index().to_excel(os.path.join(an1_fold, '통계_차종별_일일평균주행거리.xlsx'), index=False)"
   ]
  },
  {
   "cell_type": "code",
   "execution_count": 44,
   "metadata": {},
   "outputs": [
    {
     "data": {
      "text/plain": [
       "array(['X', '1', '2', '3', '4', '5'], dtype=object)"
      ]
     },
     "execution_count": 44,
     "metadata": {},
     "output_type": "execute_result"
    }
   ],
   "source": [
    "df['등급'].unique()"
   ]
  },
  {
   "cell_type": "code",
   "execution_count": 45,
   "metadata": {},
   "outputs": [
    {
     "data": {
      "text/plain": [
       "(1192850, 15)"
      ]
     },
     "execution_count": 45,
     "metadata": {},
     "output_type": "execute_result"
    }
   ],
   "source": [
    "dfs2 = df[(df['일일평균주행거리'] < 1000) & (df['등급'] == '4')].reset_index(drop=True)\n",
    "dfs2.shape"
   ]
  },
  {
   "cell_type": "code",
   "execution_count": 46,
   "metadata": {},
   "outputs": [
    {
     "data": {
      "text/html": [
       "<div>\n",
       "<style scoped>\n",
       "    .dataframe tbody tr th:only-of-type {\n",
       "        vertical-align: middle;\n",
       "    }\n",
       "\n",
       "    .dataframe tbody tr th {\n",
       "        vertical-align: top;\n",
       "    }\n",
       "\n",
       "    .dataframe thead th {\n",
       "        text-align: right;\n",
       "    }\n",
       "</style>\n",
       "<table border=\"1\" class=\"dataframe\">\n",
       "  <thead>\n",
       "    <tr style=\"text-align: right;\">\n",
       "      <th></th>\n",
       "      <th>차종</th>\n",
       "      <th>일일평균주행거리</th>\n",
       "    </tr>\n",
       "  </thead>\n",
       "  <tbody>\n",
       "    <tr>\n",
       "      <th>0</th>\n",
       "      <td>승용</td>\n",
       "      <td>38.29</td>\n",
       "    </tr>\n",
       "    <tr>\n",
       "      <th>1</th>\n",
       "      <td>승합</td>\n",
       "      <td>45.29</td>\n",
       "    </tr>\n",
       "    <tr>\n",
       "      <th>2</th>\n",
       "      <td>특수</td>\n",
       "      <td>156.36</td>\n",
       "    </tr>\n",
       "    <tr>\n",
       "      <th>3</th>\n",
       "      <td>화물</td>\n",
       "      <td>48.21</td>\n",
       "    </tr>\n",
       "  </tbody>\n",
       "</table>\n",
       "</div>"
      ],
      "text/plain": [
       "   차종  일일평균주행거리\n",
       "0  승용     38.29\n",
       "1  승합     45.29\n",
       "2  특수    156.36\n",
       "3  화물     48.21"
      ]
     },
     "execution_count": 46,
     "metadata": {},
     "output_type": "execute_result"
    }
   ],
   "source": [
    "dfs2.groupby('차종').agg({'일일평균주행거리':'mean'}).reset_index()"
   ]
  },
  {
   "cell_type": "code",
   "execution_count": 47,
   "metadata": {},
   "outputs": [],
   "source": [
    "dfs2.groupby('차종').agg({'일일평균주행거리':'mean'}).reset_index().to_excel(os.path.join(an1_fold, '통계_4등급_차종별_일일평균주행거리.xlsx'), index=False)"
   ]
  },
  {
   "attachments": {},
   "cell_type": "markdown",
   "metadata": {},
   "source": [
    "# 코드 마지막"
   ]
  }
 ],
 "metadata": {
  "kernelspec": {
   "display_name": "base",
   "language": "python",
   "name": "python3"
  },
  "language_info": {
   "codemirror_mode": {
    "name": "ipython",
    "version": 3
   },
   "file_extension": ".py",
   "mimetype": "text/x-python",
   "name": "python",
   "nbconvert_exporter": "python",
   "pygments_lexer": "ipython3",
   "version": "3.9.13"
  },
  "orig_nbformat": 4,
  "vscode": {
   "interpreter": {
    "hash": "ad2bdc8ecc057115af97d19610ffacc2b4e99fae6737bb82f5d7fb13d2f2c186"
   }
  }
 },
 "nbformat": 4,
 "nbformat_minor": 2
}
