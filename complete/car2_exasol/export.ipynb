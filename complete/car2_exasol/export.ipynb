{
 "cells": [
  {
   "cell_type": "markdown",
   "id": "5c092f22-4f5e-43cf-a6b6-419de79303d9",
   "metadata": {},
   "source": [
    "# Library"
   ]
  },
  {
   "cell_type": "code",
   "execution_count": 2,
   "id": "5785fbb2-bb58-4dfc-92fb-93f37fe1f2ba",
   "metadata": {
    "tags": []
   },
   "outputs": [],
   "source": [
    "import pandas as pd\n",
    "import pyexasol\n",
    "from tqdm import tqdm\n",
    "import os\n",
    "from datetime import datetime"
   ]
  },
  {
   "cell_type": "markdown",
   "metadata": {},
   "source": [
    "# Fold"
   ]
  },
  {
   "cell_type": "code",
   "execution_count": 3,
   "metadata": {},
   "outputs": [],
   "source": [
    "backup_fold = 'D:/data/complete/big2/sys/20231116 백업'"
   ]
  },
  {
   "cell_type": "markdown",
   "id": "0a24ab93-9416-4fad-9858-1f081abdb9b3",
   "metadata": {
    "tags": []
   },
   "source": [
    "# insider db"
   ]
  },
  {
   "cell_type": "code",
   "execution_count": 4,
   "id": "e07dcf0d-0bea-4b22-b2c7-1616fbba2902",
   "metadata": {
    "tags": []
   },
   "outputs": [],
   "source": [
    "# wd = pyexasol.connect(dsn='172.29.135.35/F99FAB2444F86051A9A467F6313FAAB48AF7C4760663430958E3B89A9DC53361:8563', user='sys', password='exasol', compression=True, schema='VSYSD')\n",
    "# we = pyexasol.connect(dsn='172.29.135.35/F99FAB2444F86051A9A467F6313FAAB48AF7C4760663430958E3B89A9DC53361:8563', user='sys', password='exasol', compression=True, schema='VSYSE')\n",
    "# # wt = pyexasol.connect(dsn='172.29.135.35/F99FAB2444F86051A9A467F6313FAAB48AF7C4760663430958E3B89A9DC53361:8563', user='sys', password='exasol', compression=True, schema='TEST')"
   ]
  },
  {
   "cell_type": "markdown",
   "metadata": {},
   "source": [
    "# exsaol db"
   ]
  },
  {
   "cell_type": "code",
   "execution_count": 5,
   "metadata": {},
   "outputs": [],
   "source": [
    "# exasol db\n",
    "wd = pyexasol.connect(dsn='dev.openankus.org:8563', user='sys', password='djslzja', compression=True, schema='VSYSD')\n",
    "we = pyexasol.connect(dsn='dev.openankus.org:8563', user='sys', password='djslzja', compression=True, schema='VSYSE')\n",
    "# wbt = pyexasol.connect(dsn='dev.openankus.org:8563', user='sys', password='djslzja', compression=True, schema='wbt')"
   ]
  },
  {
   "cell_type": "code",
   "execution_count": 6,
   "id": "8d954573-8ecb-4e79-9d0b-1f028db9ce59",
   "metadata": {
    "tags": []
   },
   "outputs": [],
   "source": [
    "# table_list = ['STD_BD_CAR_CURSTT', 'STD_BD_CAR_CURSTT_MOD', 'STD_BD_CAR_CURSTT_MOD2', 'STD_BD_CAR_CURSTT_MOD2_4RD_INS', 'STD_BD_CAR_CURSTT_MOD_4RD_INS', 'STD_BD_CAR_PRET', 'STD_BD_CAR_REG_MKCNT', 'STD_BD_DAT_FUEL_CAR_DEC', \n",
    "#               'STD_BD_DAT_GRD4_CAR_CURSTT', 'STD_BD_DAT_GRD4_CERT_NO_RVW', 'STD_BD_DAT_GRD4_DTL_INFO', 'STD_BD_DAT_GRD4_EXHST_MASS_CURSTT', 'STD_BD_DAT_GRD4_EXHST_MSS_CURSTT', 'STD_BD_DAT_GRD4_MEVLU', 'STD_BD_DAT_GRD4_MLSFC', \n",
    "#               'STD_BD_DAT_GRD4_SI', 'STD_BD_DAT_GRD5_REDUC_BIZ', 'STD_BD_DAT_GRD_CURSTT', 'STD_BD_DAT_LEM_SELCT', 'STD_BD_DAT_RUN_LMT_CURSTT', 'STD_BD_DAT_SELCT_PNT_CURSTT', 'STD_BD_ECO_CAR_PRET', 'STD_BD_ERSR_RSLT', \n",
    "#               'STD_BD_FUEL_GRD_VHCL_CURSTT_PRET', 'STD_BD_GRD4_CAR_CURSTT', 'STD_BD_GRD4_CAR_CURSTT_TOT', 'STD_BD_GRD4_DS_CRRLTN_CFFCNT', 'STD_BD_GRD4_ELPDSRC_CURSTT', 'STD_BD_GRD4_EXHST_GAS_MSS', 'STD_BD_GRD4_EXHST_GAS_MSS_TOT', \n",
    "#               'STD_BD_GRD4_LEM_PRIO_ORD_SELCT_CURSTT', 'STD_BD_GRD4_MLSFC_RSLT', 'STD_BD_GRD4_RESULT', 'STD_BD_GRD4_RGN_CURSTT', 'STD_BD_GRD4_RGN_CURSTT_MOD', 'STD_BD_GRD4_SI', 'STD_BD_GRD5_DS_CRRLTN_CFFCNT', 'STD_BD_GRD5_ELPDSRC', \n",
    "#               'STD_BD_GRD5_ELPDSRC_CURSTT', 'STD_BD_GRD5_LEM_N', 'STD_BD_GRD5_LEM_N_MOD', 'STD_BD_GRD5_LEM_PRIO_ORD_SELCT_CURSTT', 'STD_BD_GRD5_LMT_NOCS', 'STD_BD_HYBRD_CAR_PRET', 'STD_BD_KOSIS', 'STD_BD_ORDITM_DSCL_CURSTT', \n",
    "#               'STD_BD_SEASON_CRDN_NOCS_CURSTT', 'STD_BD_SEASON_DSCL_RGN_CURSTT', 'STD_BD_SEASON_DY_AVRG_CRDN_NOCS', 'STD_BD_TB_MAPDATA']\n",
    "# len(table_list)"
   ]
  },
  {
   "cell_type": "code",
   "execution_count": 7,
   "id": "7241ca57-71cd-4b14-bd61-2c41b5ccf278",
   "metadata": {
    "tags": []
   },
   "outputs": [],
   "source": [
    "table_list = [\n",
    "    # 과제 1-1\n",
    "    'STD_BD_GRD4_CAR_CURSTT', \n",
    "    'STD_BD_GRD4_CAR_CURSTT_TOT', \n",
    "    'STD_BD_GRD4_SI', \n",
    "    'STD_BD_DAT_GRD4_CERT_NO_RVW', \n",
    "    'STD_BD_DAT_GRD4_SI', \n",
    "    # 'STD_BD_GRD4_CAR_CURSTT_MOD', \n",
    "\n",
    "    # 과제 1-2\n",
    "    'STD_BD_GRD4_ELPDSRC_CURSTT', \n",
    "    'STD_BD_GRD4_NOW_ELPDSRC_CURSTT', \n",
    "    'STD_BD_GRD4_MLSFC_RSLT', \n",
    "    'STD_BD_DAT_GRD4_MLSFC', \n",
    "    'STD_BD_DAT_GRD4_DTL_INFO', \n",
    "    'STD_BD_GRD4_RGN_CURSTT', \n",
    "    'STD_BD_GRD4_RGN_CURSTT_MOD', \n",
    "    'STD_BD_DAT_GRD4_CAR_CURSTT', \n",
    "    \n",
    "    # 과제 1-3\n",
    "    'STD_BD_GRD4_EXHST_GAS_MSS_TOT', \n",
    "    'STD_BD_GRD4_EXHST_GAS_MSS', \n",
    "    'STD_BD_DAT_GRD4_EXHST_MSS_CURSTT', \n",
    "    'STD_BD_DAT_GRD4_MEVLU',\n",
    "    \n",
    "     # 과제 3-1\n",
    "    'STD_BD_CAR_CURSTT_MOD', \n",
    "    'STD_BD_CAR_CURSTT_MOD2', \n",
    "    'STD_BD_CAR_CURSTT', \n",
    "    'STD_BD_CAR_REG_MKCNT', \n",
    "    'STD_BD_CAR_PRET', \n",
    "    'STD_BD_HYBRD_CAR_PRET', \n",
    "    'STD_BD_FUEL_GRD_VHCL_CURSTT_PRET', \n",
    "    'STD_BD_ECO_CAR_PRET',\n",
    "    'STD_BD_ERSR_RSLT', \n",
    "    'STD_BD_DAT_GRD_CURSTT', \n",
    "    'STD_BD_DAT_FUEL_CAR_DEC', \n",
    "\n",
    "    # 과제 3-2     \n",
    "    'STD_BD_GRD5_ELPDSRC_CURSTT', \n",
    "    'STD_BD_GRD5_LEM_N_MOD', \n",
    "    'STD_BD_SEASON_CRDN_NOCS_CURSTT', \n",
    "    'STD_BD_SEASON_DSCL_VHCL_CURSTT', \n",
    "    'STD_BD_RUN_LMT_CURSTT', \n",
    "    'STD_BD_SEASON_DY_AVRG_CRDN_NOCS', \n",
    "    'STD_BD_ORDITM_DSCL_CURSTT', \n",
    "    'STD_BD_SEASON_DSCL_RGN_CURSTT', \n",
    "    'STD_BD_DAT_GRD5_REDUC_BIZ', \n",
    "    'STD_BD_DAT_RUN_LMT_CURSTT', \n",
    "    \n",
    "    # 과제 3-3\n",
    "    'STD_BD_GRD4_DS_CRRLTN_CFFCNT', \n",
    "    'STD_BD_GRD4_LEM_PRIO_ORD_SELCT_CURSTT', \n",
    "    'STD_BD_GRD5_DS_CRRLTN_CFFCNT', \n",
    "    'STD_BD_GRD5_LEM_PRIO_ORD_SELCT_CURSTT', \n",
    "    'STD_BD_DAT_LEM_SELCT', \n",
    "    'STD_BD_DAT_SELCT_PNT_CURSTT', \n",
    "\n",
    "    # 4등급 보험가입\n",
    "    'STD_BD_CAR_CURSTT_MOD_4RD_INS', \n",
    "    'STD_BD_CAR_CURSTT_MOD2_4RD_INS',\n",
    "]\n"
   ]
  },
  {
   "cell_type": "code",
   "execution_count": 8,
   "id": "6befe293-c7cb-4b1e-9c0f-7d5075dd7900",
   "metadata": {
    "tags": []
   },
   "outputs": [
    {
     "data": {
      "text/plain": [
       "46"
      ]
     },
     "execution_count": 8,
     "metadata": {},
     "output_type": "execute_result"
    }
   ],
   "source": [
    "len(set(table_list))"
   ]
  },
  {
   "cell_type": "markdown",
   "id": "2f661ba7-9597-4275-a486-24e2c48491fe",
   "metadata": {},
   "source": [
    "# file export"
   ]
  },
  {
   "cell_type": "code",
   "execution_count": 9,
   "metadata": {},
   "outputs": [
    {
     "data": {
      "text/plain": [
       "'20231116'"
      ]
     },
     "execution_count": 9,
     "metadata": {},
     "output_type": "execute_result"
    }
   ],
   "source": [
    "today_date = datetime.today().strftime('%Y%m%d')\n",
    "today_date"
   ]
  },
  {
   "cell_type": "code",
   "execution_count": 10,
   "id": "d412f5cd-308d-431e-a1a9-b77e46f1f75f",
   "metadata": {
    "tags": []
   },
   "outputs": [
    {
     "name": "stderr",
     "output_type": "stream",
     "text": [
      "  0%|          | 0/46 [00:00<?, ?it/s]"
     ]
    },
    {
     "name": "stdout",
     "output_type": "stream",
     "text": [
      "STD_BD_GRD4_CAR_CURSTT 출력 시작\n"
     ]
    },
    {
     "name": "stderr",
     "output_type": "stream",
     "text": [
      "c:\\Users\\kbjung\\anaconda3\\Lib\\site-packages\\pyexasol\\callback.py:42: DtypeWarning: Columns (4,17) have mixed types. Specify dtype option on import or set low_memory=False.\n",
      "  return pandas.read_csv(pipe, skip_blank_lines=False, **kwargs)\n",
      "  2%|▏         | 1/46 [00:28<21:12, 28.28s/it]"
     ]
    },
    {
     "name": "stdout",
     "output_type": "stream",
     "text": [
      "STD_BD_GRD4_CAR_CURSTT_20231116.csv 출력완료\n",
      "STD_BD_GRD4_CAR_CURSTT_TOT 출력 시작\n"
     ]
    },
    {
     "name": "stderr",
     "output_type": "stream",
     "text": [
      "  4%|▍         | 2/46 [00:29<09:07, 12.44s/it]"
     ]
    },
    {
     "name": "stdout",
     "output_type": "stream",
     "text": [
      "STD_BD_GRD4_CAR_CURSTT_TOT_20231116.csv 출력완료\n",
      "STD_BD_GRD4_SI 출력 시작\n"
     ]
    },
    {
     "name": "stderr",
     "output_type": "stream",
     "text": [
      "  7%|▋         | 3/46 [00:43<09:15, 12.91s/it]"
     ]
    },
    {
     "name": "stdout",
     "output_type": "stream",
     "text": [
      "STD_BD_GRD4_SI_20231116.csv 출력완료\n",
      "STD_BD_DAT_GRD4_CERT_NO_RVW 출력 시작\n"
     ]
    },
    {
     "name": "stderr",
     "output_type": "stream",
     "text": [
      "  9%|▊         | 4/46 [00:44<05:48,  8.29s/it]"
     ]
    },
    {
     "name": "stdout",
     "output_type": "stream",
     "text": [
      "STD_BD_DAT_GRD4_CERT_NO_RVW_20231116.csv 출력완료\n",
      "STD_BD_DAT_GRD4_SI 출력 시작\n"
     ]
    },
    {
     "name": "stderr",
     "output_type": "stream",
     "text": [
      " 11%|█         | 5/46 [00:45<03:54,  5.72s/it]"
     ]
    },
    {
     "name": "stdout",
     "output_type": "stream",
     "text": [
      "STD_BD_DAT_GRD4_SI_20231116.csv 출력완료\n",
      "STD_BD_GRD4_ELPDSRC_CURSTT 출력 시작\n"
     ]
    },
    {
     "name": "stderr",
     "output_type": "stream",
     "text": [
      " 13%|█▎        | 6/46 [00:59<05:46,  8.67s/it]"
     ]
    },
    {
     "name": "stdout",
     "output_type": "stream",
     "text": [
      "STD_BD_GRD4_ELPDSRC_CURSTT_20231116.csv 출력완료\n",
      "STD_BD_GRD4_NOW_ELPDSRC_CURSTT 출력 시작\n"
     ]
    },
    {
     "name": "stderr",
     "output_type": "stream",
     "text": [
      " 15%|█▌        | 7/46 [01:09<05:55,  9.13s/it]"
     ]
    },
    {
     "name": "stdout",
     "output_type": "stream",
     "text": [
      "STD_BD_GRD4_NOW_ELPDSRC_CURSTT_20231116.csv 출력완료\n",
      "STD_BD_GRD4_MLSFC_RSLT 출력 시작\n"
     ]
    },
    {
     "name": "stderr",
     "output_type": "stream",
     "text": [
      "c:\\Users\\kbjung\\anaconda3\\Lib\\site-packages\\pyexasol\\callback.py:42: DtypeWarning: Columns (12) have mixed types. Specify dtype option on import or set low_memory=False.\n",
      "  return pandas.read_csv(pipe, skip_blank_lines=False, **kwargs)\n",
      " 17%|█▋        | 8/46 [01:26<07:19, 11.56s/it]"
     ]
    },
    {
     "name": "stdout",
     "output_type": "stream",
     "text": [
      "STD_BD_GRD4_MLSFC_RSLT_20231116.csv 출력완료\n",
      "STD_BD_DAT_GRD4_MLSFC 출력 시작\n"
     ]
    },
    {
     "name": "stderr",
     "output_type": "stream",
     "text": [
      " 20%|█▉        | 9/46 [01:28<05:09,  8.36s/it]"
     ]
    },
    {
     "name": "stdout",
     "output_type": "stream",
     "text": [
      "STD_BD_DAT_GRD4_MLSFC_20231116.csv 출력완료\n",
      "STD_BD_DAT_GRD4_DTL_INFO 출력 시작\n"
     ]
    },
    {
     "name": "stderr",
     "output_type": "stream",
     "text": [
      "c:\\Users\\kbjung\\anaconda3\\Lib\\site-packages\\pyexasol\\callback.py:42: DtypeWarning: Columns (11,12,14,15) have mixed types. Specify dtype option on import or set low_memory=False.\n",
      "  return pandas.read_csv(pipe, skip_blank_lines=False, **kwargs)\n",
      " 22%|██▏       | 10/46 [01:53<08:13, 13.70s/it]"
     ]
    },
    {
     "name": "stdout",
     "output_type": "stream",
     "text": [
      "STD_BD_DAT_GRD4_DTL_INFO_20231116.csv 출력완료\n",
      "STD_BD_GRD4_RGN_CURSTT 출력 시작\n"
     ]
    },
    {
     "name": "stderr",
     "output_type": "stream",
     "text": [
      " 24%|██▍       | 11/46 [01:55<05:47,  9.92s/it]"
     ]
    },
    {
     "name": "stdout",
     "output_type": "stream",
     "text": [
      "STD_BD_GRD4_RGN_CURSTT_20231116.csv 출력완료\n",
      "STD_BD_GRD4_RGN_CURSTT_MOD 출력 시작\n"
     ]
    },
    {
     "name": "stderr",
     "output_type": "stream",
     "text": [
      " 26%|██▌       | 12/46 [01:56<04:07,  7.27s/it]"
     ]
    },
    {
     "name": "stdout",
     "output_type": "stream",
     "text": [
      "STD_BD_GRD4_RGN_CURSTT_MOD_20231116.csv 출력완료\n",
      "STD_BD_DAT_GRD4_CAR_CURSTT 출력 시작\n"
     ]
    },
    {
     "name": "stderr",
     "output_type": "stream",
     "text": [
      " 28%|██▊       | 13/46 [01:59<03:23,  6.17s/it]"
     ]
    },
    {
     "name": "stdout",
     "output_type": "stream",
     "text": [
      "STD_BD_DAT_GRD4_CAR_CURSTT_20231116.csv 출력완료\n",
      "STD_BD_GRD4_EXHST_GAS_MSS_TOT 출력 시작\n"
     ]
    },
    {
     "name": "stderr",
     "output_type": "stream",
     "text": [
      " 30%|███       | 14/46 [02:01<02:29,  4.66s/it]"
     ]
    },
    {
     "name": "stdout",
     "output_type": "stream",
     "text": [
      "STD_BD_GRD4_EXHST_GAS_MSS_TOT_20231116.csv 출력완료\n",
      "STD_BD_GRD4_EXHST_GAS_MSS 출력 시작\n"
     ]
    },
    {
     "name": "stderr",
     "output_type": "stream",
     "text": [
      "c:\\Users\\kbjung\\anaconda3\\Lib\\site-packages\\pyexasol\\callback.py:42: DtypeWarning: Columns (5,30) have mixed types. Specify dtype option on import or set low_memory=False.\n",
      "  return pandas.read_csv(pipe, skip_blank_lines=False, **kwargs)\n",
      " 33%|███▎      | 15/46 [03:00<10:52, 21.06s/it]"
     ]
    },
    {
     "name": "stdout",
     "output_type": "stream",
     "text": [
      "STD_BD_GRD4_EXHST_GAS_MSS_20231116.csv 출력완료\n",
      "STD_BD_DAT_GRD4_EXHST_MSS_CURSTT 출력 시작\n"
     ]
    },
    {
     "name": "stderr",
     "output_type": "stream",
     "text": [
      " 35%|███▍      | 16/46 [03:01<07:35, 15.20s/it]"
     ]
    },
    {
     "name": "stdout",
     "output_type": "stream",
     "text": [
      "STD_BD_DAT_GRD4_EXHST_MSS_CURSTT_20231116.csv 출력완료\n",
      "STD_BD_DAT_GRD4_MEVLU 출력 시작\n"
     ]
    },
    {
     "name": "stderr",
     "output_type": "stream",
     "text": [
      " 37%|███▋      | 17/46 [03:03<05:19, 11.03s/it]"
     ]
    },
    {
     "name": "stdout",
     "output_type": "stream",
     "text": [
      "STD_BD_DAT_GRD4_MEVLU_20231116.csv 출력완료\n",
      "STD_BD_CAR_CURSTT_MOD 출력 시작\n"
     ]
    },
    {
     "name": "stderr",
     "output_type": "stream",
     "text": [
      " 39%|███▉      | 18/46 [03:04<03:46,  8.08s/it]"
     ]
    },
    {
     "name": "stdout",
     "output_type": "stream",
     "text": [
      "STD_BD_CAR_CURSTT_MOD_20231116.csv 출력완료\n",
      "STD_BD_CAR_CURSTT_MOD2 출력 시작\n"
     ]
    },
    {
     "name": "stderr",
     "output_type": "stream",
     "text": [
      " 41%|████▏     | 19/46 [03:05<02:42,  6.03s/it]"
     ]
    },
    {
     "name": "stdout",
     "output_type": "stream",
     "text": [
      "STD_BD_CAR_CURSTT_MOD2_20231116.csv 출력완료\n",
      "STD_BD_CAR_CURSTT 출력 시작\n"
     ]
    },
    {
     "name": "stderr",
     "output_type": "stream",
     "text": [
      "c:\\Users\\kbjung\\anaconda3\\Lib\\site-packages\\pyexasol\\callback.py:42: DtypeWarning: Columns (8) have mixed types. Specify dtype option on import or set low_memory=False.\n",
      "  return pandas.read_csv(pipe, skip_blank_lines=False, **kwargs)\n",
      " 43%|████▎     | 20/46 [07:37<37:14, 85.95s/it]"
     ]
    },
    {
     "name": "stdout",
     "output_type": "stream",
     "text": [
      "STD_BD_CAR_CURSTT_20231116.csv 출력완료\n",
      "STD_BD_CAR_REG_MKCNT 출력 시작\n"
     ]
    },
    {
     "name": "stderr",
     "output_type": "stream",
     "text": [
      " 46%|████▌     | 21/46 [07:39<25:19, 60.76s/it]"
     ]
    },
    {
     "name": "stdout",
     "output_type": "stream",
     "text": [
      "STD_BD_CAR_REG_MKCNT_20231116.csv 출력완료\n",
      "STD_BD_CAR_PRET 출력 시작\n"
     ]
    },
    {
     "name": "stderr",
     "output_type": "stream",
     "text": [
      " 48%|████▊     | 22/46 [07:41<17:09, 42.90s/it]"
     ]
    },
    {
     "name": "stdout",
     "output_type": "stream",
     "text": [
      "STD_BD_CAR_PRET_20231116.csv 출력완료\n",
      "STD_BD_HYBRD_CAR_PRET 출력 시작\n"
     ]
    },
    {
     "name": "stderr",
     "output_type": "stream",
     "text": [
      " 50%|█████     | 23/46 [07:42<11:38, 30.37s/it]"
     ]
    },
    {
     "name": "stdout",
     "output_type": "stream",
     "text": [
      "STD_BD_HYBRD_CAR_PRET_20231116.csv 출력완료\n",
      "STD_BD_FUEL_GRD_VHCL_CURSTT_PRET 출력 시작\n"
     ]
    },
    {
     "name": "stderr",
     "output_type": "stream",
     "text": [
      " 52%|█████▏    | 24/46 [07:43<07:56, 21.64s/it]"
     ]
    },
    {
     "name": "stdout",
     "output_type": "stream",
     "text": [
      "STD_BD_FUEL_GRD_VHCL_CURSTT_PRET_20231116.csv 출력완료\n",
      "STD_BD_ECO_CAR_PRET 출력 시작\n"
     ]
    },
    {
     "name": "stderr",
     "output_type": "stream",
     "text": [
      " 54%|█████▍    | 25/46 [07:44<05:25, 15.50s/it]"
     ]
    },
    {
     "name": "stdout",
     "output_type": "stream",
     "text": [
      "STD_BD_ECO_CAR_PRET_20231116.csv 출력완료\n",
      "STD_BD_ERSR_RSLT 출력 시작\n"
     ]
    },
    {
     "name": "stderr",
     "output_type": "stream",
     "text": [
      " 57%|█████▋    | 26/46 [08:23<07:31, 22.59s/it]"
     ]
    },
    {
     "name": "stdout",
     "output_type": "stream",
     "text": [
      "STD_BD_ERSR_RSLT_20231116.csv 출력완료\n",
      "STD_BD_DAT_GRD_CURSTT 출력 시작\n"
     ]
    },
    {
     "name": "stderr",
     "output_type": "stream",
     "text": [
      " 59%|█████▊    | 27/46 [08:27<05:19, 16.82s/it]"
     ]
    },
    {
     "name": "stdout",
     "output_type": "stream",
     "text": [
      "STD_BD_DAT_GRD_CURSTT_20231116.csv 출력완료\n",
      "STD_BD_DAT_FUEL_CAR_DEC 출력 시작\n"
     ]
    },
    {
     "name": "stderr",
     "output_type": "stream",
     "text": [
      " 61%|██████    | 28/46 [08:28<03:38, 12.14s/it]"
     ]
    },
    {
     "name": "stdout",
     "output_type": "stream",
     "text": [
      "STD_BD_DAT_FUEL_CAR_DEC_20231116.csv 출력완료\n",
      "STD_BD_GRD5_ELPDSRC_CURSTT 출력 시작\n"
     ]
    },
    {
     "name": "stderr",
     "output_type": "stream",
     "text": [
      " 63%|██████▎   | 29/46 [08:29<02:30,  8.85s/it]"
     ]
    },
    {
     "name": "stdout",
     "output_type": "stream",
     "text": [
      "STD_BD_GRD5_ELPDSRC_CURSTT_20231116.csv 출력완료\n",
      "STD_BD_GRD5_LEM_N_MOD 출력 시작\n"
     ]
    },
    {
     "name": "stderr",
     "output_type": "stream",
     "text": [
      " 65%|██████▌   | 30/46 [08:30<01:44,  6.55s/it]"
     ]
    },
    {
     "name": "stdout",
     "output_type": "stream",
     "text": [
      "STD_BD_GRD5_LEM_N_MOD_20231116.csv 출력완료\n",
      "STD_BD_SEASON_CRDN_NOCS_CURSTT 출력 시작\n"
     ]
    },
    {
     "name": "stderr",
     "output_type": "stream",
     "text": [
      " 67%|██████▋   | 31/46 [08:39<01:50,  7.37s/it]"
     ]
    },
    {
     "name": "stdout",
     "output_type": "stream",
     "text": [
      "STD_BD_SEASON_CRDN_NOCS_CURSTT_20231116.csv 출력완료\n",
      "STD_BD_SEASON_DSCL_VHCL_CURSTT 출력 시작\n"
     ]
    },
    {
     "name": "stderr",
     "output_type": "stream",
     "text": [
      " 70%|██████▉   | 32/46 [08:41<01:17,  5.51s/it]"
     ]
    },
    {
     "name": "stdout",
     "output_type": "stream",
     "text": [
      "STD_BD_SEASON_DSCL_VHCL_CURSTT_20231116.csv 출력완료\n",
      "STD_BD_RUN_LMT_CURSTT 출력 시작\n"
     ]
    },
    {
     "name": "stderr",
     "output_type": "stream",
     "text": [
      " 72%|███████▏  | 33/46 [08:47<01:16,  5.90s/it]"
     ]
    },
    {
     "name": "stdout",
     "output_type": "stream",
     "text": [
      "STD_BD_RUN_LMT_CURSTT_20231116.csv 출력완료\n",
      "STD_BD_SEASON_DY_AVRG_CRDN_NOCS 출력 시작\n"
     ]
    },
    {
     "name": "stderr",
     "output_type": "stream",
     "text": [
      " 74%|███████▍  | 34/46 [08:49<00:53,  4.48s/it]"
     ]
    },
    {
     "name": "stdout",
     "output_type": "stream",
     "text": [
      "STD_BD_SEASON_DY_AVRG_CRDN_NOCS_20231116.csv 출력완료\n",
      "STD_BD_ORDITM_DSCL_CURSTT 출력 시작\n"
     ]
    },
    {
     "name": "stderr",
     "output_type": "stream",
     "text": [
      " 76%|███████▌  | 35/46 [08:50<00:40,  3.70s/it]"
     ]
    },
    {
     "name": "stdout",
     "output_type": "stream",
     "text": [
      "STD_BD_ORDITM_DSCL_CURSTT_20231116.csv 출력완료\n",
      "STD_BD_SEASON_DSCL_RGN_CURSTT 출력 시작\n"
     ]
    },
    {
     "name": "stderr",
     "output_type": "stream",
     "text": [
      " 78%|███████▊  | 36/46 [08:58<00:47,  4.78s/it]"
     ]
    },
    {
     "name": "stdout",
     "output_type": "stream",
     "text": [
      "STD_BD_SEASON_DSCL_RGN_CURSTT_20231116.csv 출력완료\n",
      "STD_BD_DAT_GRD5_REDUC_BIZ 출력 시작\n"
     ]
    },
    {
     "name": "stderr",
     "output_type": "stream",
     "text": [
      " 80%|████████  | 37/46 [08:59<00:33,  3.73s/it]"
     ]
    },
    {
     "name": "stdout",
     "output_type": "stream",
     "text": [
      "STD_BD_DAT_GRD5_REDUC_BIZ_20231116.csv 출력완료\n",
      "STD_BD_DAT_RUN_LMT_CURSTT 출력 시작\n"
     ]
    },
    {
     "name": "stderr",
     "output_type": "stream",
     "text": [
      " 83%|████████▎ | 38/46 [09:00<00:23,  2.96s/it]"
     ]
    },
    {
     "name": "stdout",
     "output_type": "stream",
     "text": [
      "STD_BD_DAT_RUN_LMT_CURSTT_20231116.csv 출력완료\n",
      "STD_BD_GRD4_DS_CRRLTN_CFFCNT 출력 시작\n"
     ]
    },
    {
     "name": "stderr",
     "output_type": "stream",
     "text": [
      " 85%|████████▍ | 39/46 [09:01<00:16,  2.40s/it]"
     ]
    },
    {
     "name": "stdout",
     "output_type": "stream",
     "text": [
      "STD_BD_GRD4_DS_CRRLTN_CFFCNT_20231116.csv 출력완료\n",
      "STD_BD_GRD4_LEM_PRIO_ORD_SELCT_CURSTT 출력 시작\n"
     ]
    },
    {
     "name": "stderr",
     "output_type": "stream",
     "text": [
      " 87%|████████▋ | 40/46 [09:20<00:43,  7.29s/it]"
     ]
    },
    {
     "name": "stdout",
     "output_type": "stream",
     "text": [
      "STD_BD_GRD4_LEM_PRIO_ORD_SELCT_CURSTT_20231116.csv 출력완료\n",
      "STD_BD_GRD5_DS_CRRLTN_CFFCNT 출력 시작\n"
     ]
    },
    {
     "name": "stderr",
     "output_type": "stream",
     "text": [
      " 89%|████████▉ | 41/46 [09:21<00:27,  5.46s/it]"
     ]
    },
    {
     "name": "stdout",
     "output_type": "stream",
     "text": [
      "STD_BD_GRD5_DS_CRRLTN_CFFCNT_20231116.csv 출력완료\n",
      "STD_BD_GRD5_LEM_PRIO_ORD_SELCT_CURSTT 출력 시작\n"
     ]
    },
    {
     "name": "stderr",
     "output_type": "stream",
     "text": [
      " 91%|█████████▏| 42/46 [09:38<00:34,  8.74s/it]"
     ]
    },
    {
     "name": "stdout",
     "output_type": "stream",
     "text": [
      "STD_BD_GRD5_LEM_PRIO_ORD_SELCT_CURSTT_20231116.csv 출력완료\n",
      "STD_BD_DAT_LEM_SELCT 출력 시작\n"
     ]
    },
    {
     "name": "stderr",
     "output_type": "stream",
     "text": [
      " 93%|█████████▎| 43/46 [09:39<00:19,  6.49s/it]"
     ]
    },
    {
     "name": "stdout",
     "output_type": "stream",
     "text": [
      "STD_BD_DAT_LEM_SELCT_20231116.csv 출력완료\n",
      "STD_BD_DAT_SELCT_PNT_CURSTT 출력 시작\n"
     ]
    },
    {
     "name": "stderr",
     "output_type": "stream",
     "text": [
      " 96%|█████████▌| 44/46 [09:40<00:09,  4.90s/it]"
     ]
    },
    {
     "name": "stdout",
     "output_type": "stream",
     "text": [
      "STD_BD_DAT_SELCT_PNT_CURSTT_20231116.csv 출력완료\n",
      "STD_BD_CAR_CURSTT_MOD_4RD_INS 출력 시작\n"
     ]
    },
    {
     "name": "stderr",
     "output_type": "stream",
     "text": [
      " 98%|█████████▊| 45/46 [09:41<00:03,  3.81s/it]"
     ]
    },
    {
     "name": "stdout",
     "output_type": "stream",
     "text": [
      "STD_BD_CAR_CURSTT_MOD_4RD_INS_20231116.csv 출력완료\n",
      "STD_BD_CAR_CURSTT_MOD2_4RD_INS 출력 시작\n"
     ]
    },
    {
     "name": "stderr",
     "output_type": "stream",
     "text": [
      "100%|██████████| 46/46 [09:43<00:00, 12.68s/it]"
     ]
    },
    {
     "name": "stdout",
     "output_type": "stream",
     "text": [
      "STD_BD_CAR_CURSTT_MOD2_4RD_INS_20231116.csv 출력완료\n",
      "전체 완료\n"
     ]
    },
    {
     "name": "stderr",
     "output_type": "stream",
     "text": [
      "\n"
     ]
    }
   ],
   "source": [
    "# 9m 43.1s\n",
    "for table_name in tqdm(table_list):\n",
    "    print(f'{table_name} 출력 시작')\n",
    "    try:\n",
    "        df = we.export_to_pandas(f\"SELECT * FROM {table_name};\")\n",
    "        file_name = f'{table_name}_{today_date}.csv'\n",
    "        df.to_csv(os.path.join(backup_fold, file_name), index=False)\n",
    "        print(f'{file_name} 출력완료')\n",
    "        print()\n",
    "    except:\n",
    "        print(f'{file_name} 출력실패')\n",
    "        print()\n",
    "print('전체 완료')\n",
    "print()"
   ]
  },
  {
   "cell_type": "markdown",
   "id": "b59fc47a-7468-4ec8-99c5-a129fc0c5c5f",
   "metadata": {},
   "source": [
    "# Code End"
   ]
  }
 ],
 "metadata": {
  "kernelspec": {
   "display_name": "Python 3 (ipykernel)",
   "language": "python",
   "name": "python3"
  },
  "language_info": {
   "codemirror_mode": {
    "name": "ipython",
    "version": 3
   },
   "file_extension": ".py",
   "mimetype": "text/x-python",
   "name": "python",
   "nbconvert_exporter": "python",
   "pygments_lexer": "ipython3",
   "version": "3.11.4"
  }
 },
 "nbformat": 4,
 "nbformat_minor": 5
}
