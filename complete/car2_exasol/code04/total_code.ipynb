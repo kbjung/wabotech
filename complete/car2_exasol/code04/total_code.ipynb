{
 "cells": [
  {
   "cell_type": "markdown",
   "id": "4476da08-9555-440f-a704-66427c71ec6c",
   "metadata": {},
   "source": [
    "# Library"
   ]
  },
  {
   "cell_type": "code",
   "execution_count": 1720,
   "id": "ff96dcba-32ef-4f05-bf34-f90c6c822d53",
   "metadata": {
    "tags": []
   },
   "outputs": [],
   "source": [
    "import pandas as pd\n",
    "import numpy as np\n",
    "from datetime import datetime\n",
    "import pyexasol\n",
    "# import psycopg2\n",
    "import scipy.interpolate as intp\n",
    "import time\n",
    "import datetime as dt\n",
    "# 날짜 코드\n",
    "## 기준연월 설정\n",
    "## 연도 설정\n",
    "## 날짜 설정"
   ]
  },
  {
   "cell_type": "code",
   "execution_count": 1721,
   "id": "21db2903-9c9e-4bfe-9dda-eb86224f1b79",
   "metadata": {
    "tags": []
   },
   "outputs": [],
   "source": [
    "start_time = time.time()"
   ]
  },
  {
   "cell_type": "markdown",
   "id": "64115dc5-7d73-4e4f-9b3b-0270dd2ef8d2",
   "metadata": {},
   "source": [
    "# server"
   ]
  },
  {
   "cell_type": "code",
   "execution_count": 1722,
   "id": "ccd43835-07b7-4be1-a60e-3331f3f01873",
   "metadata": {
    "tags": []
   },
   "outputs": [],
   "source": [
    "# insider db\n",
    "wd = pyexasol.connect(dsn='172.29.135.35/F99FAB2444F86051A9A467F6313FAAB48AF7C4760663430958E3B89A9DC53361:8563', user='sys', password='exasol', compression=True, schema='VSYSD')\n",
    "we = pyexasol.connect(dsn='172.29.135.35/F99FAB2444F86051A9A467F6313FAAB48AF7C4760663430958E3B89A9DC53361:8563', user='sys', password='exasol', compression=True, schema='VSYSE')\n",
    "# ws = pyexasol.connect(dsn='172.29.135.35/F99FAB2444F86051A9A467F6313FAAB48AF7C4760663430958E3B89A9DC53361:8563', user='sys', password='exasol', compression=True, schema='SYS')"
   ]
  },
  {
   "cell_type": "code",
   "execution_count": 1723,
   "id": "ae29963d-10b5-43bd-95d3-053492521efa",
   "metadata": {
    "tags": []
   },
   "outputs": [],
   "source": [
    "# # exasol db\n",
    "# wd = pyexasol.connect(dsn='dev.openankus.org:8563', user='sys', password='djslzja', compression=True, schema='VSYSD')\n",
    "# we = pyexasol.connect(dsn='dev.openankus.org:8563', user='sys', password='djslzja', compression=True, schema='VSYSE')\n",
    "# wbt = pyexasol.connect(dsn='dev.openankus.org:8563', user='sys', password='djslzja', compression=True, schema='wbt')"
   ]
  },
  {
   "cell_type": "markdown",
   "id": "68455a89-fe8b-4395-ad59-be0aabcb3c6f",
   "metadata": {},
   "source": [
    "# Load ###################################################################################################################"
   ]
  },
  {
   "cell_type": "markdown",
   "id": "2605880f-56bc-4fae-9f35-0449c2e9d7f6",
   "metadata": {},
   "source": [
    "## 등록정보(STD_CEG_CAR_MIG) 4등급만"
   ]
  },
  {
   "cell_type": "code",
   "execution_count": 1724,
   "id": "28678169-6eef-488d-8e4c-9716c2eae6a4",
   "metadata": {
    "tags": []
   },
   "outputs": [
    {
     "name": "stdout",
     "output_type": "stream",
     "text": [
      "data load : STD_CEG_CAR_MIG\n"
     ]
    }
   ],
   "source": [
    "# 8.6s\n",
    "car = wd.export_to_pandas(\"SELECT VIN, BSPL_STDG_CD, EXHST_GAS_GRD_CD, EXHST_GAS_CERT_NO, VHCL_ERSR_YN, MANP_MNG_NO, YRIDNW, VHCTY_CD, PURPS_CD2, FRST_REG_YMD, VHCL_FBCTN_YMD, VHCL_MNG_NO, VHRNO, EXTGAS_INSP_VLD_YMD, VHCL_OWNR_CL_CD FROM STD_CEG_CAR_MIG WHERE EXHST_GAS_GRD_CD = 'A0504' OR EXHST_GAS_GRD_CD = 'A05T4';\")\n",
    "car_ch_col = {\n",
    "    'VIN':'차대번호', \n",
    "    'BSPL_STDG_CD':'법정동코드', \n",
    "    'EXHST_GAS_GRD_CD':'배출가스등급', \n",
    "    'EXHST_GAS_CERT_NO':'배출가스인증번호',\n",
    "    'VHCL_ERSR_YN':'차량말소YN',\n",
    "    'MANP_MNG_NO':'제원관리번호', \n",
    "    'YRIDNW':'차량연식', \n",
    "    'VHCTY_CD':'차종', \n",
    "    'PURPS_CD2':'용도', \n",
    "    'FRST_REG_YMD':'최초등록일자',\n",
    "    'VHCL_FBCTN_YMD':'제작일자', \n",
    "    'VHCL_MNG_NO':'차량관리번호', \n",
    "    'VHRNO':'자동차등록번호',\n",
    "    'EXTGAS_INSP_VLD_YMD':'검사유효일',\n",
    "    'VHCL_OWNR_CL_CD':'소유자구분',  \n",
    "}\n",
    "carr = car.rename(columns=car_ch_col)\n",
    "\n",
    "print('data load : STD_CEG_CAR_MIG')"
   ]
  },
  {
   "cell_type": "markdown",
   "id": "5fa9ec91-0308-458e-81d8-e570b8679206",
   "metadata": {},
   "source": [
    "## 제원정보(STD_CEG_CAR_SRC_MIG)"
   ]
  },
  {
   "cell_type": "code",
   "execution_count": 1725,
   "id": "59744cfc-ea25-4873-838f-d1d7066ba8d5",
   "metadata": {
    "tags": []
   },
   "outputs": [
    {
     "name": "stdout",
     "output_type": "stream",
     "text": [
      "data load : STD_CEG_CAR_SRC_MIG\n"
     ]
    }
   ],
   "source": [
    "# 3.8s\n",
    "src = wd.export_to_pandas(\"SELECT MANP_MNG_NO, FUEL_CD, VHCTY_TY_CD2, MNFCTR_NM, VHCNM, VHCL_FRM, EGIN_TY, VHCTY_CL_CD, TOTL_WGHT, CRYNG_WGHT, DSPLVL, EGIN_OTPT FROM STD_CEG_CAR_SRC_MIG;\")\n",
    "src_ch_col = {\n",
    "    'MANP_MNG_NO':'제원관리번호', \n",
    "    'FUEL_CD':'연료',\n",
    "    'VHCTY_TY_CD2':'차종유형', \n",
    "    'MNFCTR_NM':'제작사명', \n",
    "    'VHCNM':'차명', \n",
    "    'VHCL_FRM':'자동차형식', \n",
    "    'EGIN_TY':'엔진형식', \n",
    "    'VHCTY_CL_CD':'차종분류',\n",
    "    'TOTL_WGHT':'총중량',\n",
    "    'CRYNG_WGHT':'적재중량',\n",
    "    'DSPLVL':'배기량', \n",
    "    'EGIN_OTPT':'엔진출력',\n",
    "}\n",
    "srcr = src.rename(columns=src_ch_col)\n",
    "\n",
    "print('data load : STD_CEG_CAR_SRC_MIG')"
   ]
  },
  {
   "cell_type": "markdown",
   "id": "70330095-9c7d-4344-a8d5-75c49740efab",
   "metadata": {},
   "source": [
    "## 정기검사(STD_TB_JGT_HIS)"
   ]
  },
  {
   "cell_type": "code",
   "execution_count": 1726,
   "id": "5146550d-abc1-41df-8baf-420a2d9a4d80",
   "metadata": {
    "tags": []
   },
   "outputs": [
    {
     "name": "stdout",
     "output_type": "stream",
     "text": [
      "data load : STD_CEG_CAR_SRC_MIG\n"
     ]
    }
   ],
   "source": [
    "# 3m 34.9s\n",
    "# jgt = wb.export_to_pandas(\"SELECT VIN, FDRM_INSP_INSP_MTHD_CD, FDRM_INSP_KND_CD, FDRM_INSP_JGMT, FDRM_NLOD_SMO_MSTVL1, FDRM_NLOD_SMO_MSTVL2, FDRM_NLOD_SMO_MSTVL3, FDRM_NLOD_SMO_JT_YN1, FDRM_INSP_YMD, FDRM_DRVNG_DSTNC, FDRM_NLOD_SMO_PRMVL1 FROM STD_TB_JGT_HIS WHERE ROWNUM <= 10000;\") # 테스트용\n",
    "jgt = wd.export_to_pandas(\"SELECT VIN, FDRM_INSP_INSP_MTHD_CD, FDRM_INSP_KND_CD, FDRM_INSP_JGMT, FDRM_NLOD_SMO_MSTVL1, FDRM_NLOD_SMO_MSTVL2, FDRM_NLOD_SMO_MSTVL3, FDRM_NLOD_SMO_JT_YN1, FDRM_INSP_YMD, FDRM_DRVNG_DSTNC, FDRM_NLOD_SMO_PRMVL1 FROM STD_TB_JGT_HIS;\")\n",
    "jgt_ch_col = {\n",
    "    'VIN':'차대번호', \n",
    "    'FDRM_INSP_INSP_MTHD_CD':'검사방법', \n",
    "    'FDRM_INSP_KND_CD':'검사종류', \n",
    "    'FDRM_INSP_JGMT':'검사판정', \n",
    "    'FDRM_NLOD_SMO_MSTVL1':'무부하매연측정치1', \n",
    "    'FDRM_NLOD_SMO_MSTVL2':'무부하매연측정치2', \n",
    "    'FDRM_NLOD_SMO_MSTVL3':'무부하매연측정치3', \n",
    "    'FDRM_NLOD_SMO_JT_YN1':'무부하매연판정1', \n",
    "    'FDRM_INSP_YMD':'검사일자',\n",
    "    'FDRM_DRVNG_DSTNC':'주행거리',\n",
    "    'FDRM_NLOD_SMO_PRMVL1':'무부하매연허용치1', \n",
    "}\n",
    "jgtr = jgt.rename(columns=jgt_ch_col)\n",
    "\n",
    "print('data load : STD_CEG_CAR_SRC_MIG')"
   ]
  },
  {
   "cell_type": "markdown",
   "id": "c340459c-7e3d-47d4-9dfb-c783ca0fa537",
   "metadata": {},
   "source": [
    "## 정밀검사(STD_TB_EET_HIS_ME)"
   ]
  },
  {
   "cell_type": "code",
   "execution_count": 1727,
   "id": "57d5f226-bd93-4866-b3c9-946866ce00bf",
   "metadata": {
    "tags": []
   },
   "outputs": [
    {
     "name": "stdout",
     "output_type": "stream",
     "text": [
      "data load : STD_TB_EET_HIS_ME\n"
     ]
    }
   ],
   "source": [
    "# 6m 36.1s\n",
    "eet = wd.export_to_pandas(\"SELECT VIN, PRCINSP_MSRMT_MTHD_CD, PRCINSP_KND_CD, PRCINSP_JGMT, PREC_NLOD_SMO_MSTVL1, PREC_NLOD_SMO_MSTVL2, PREC_NLOD_SMO_MSTVL3, PREC_NLOD_SMO_JT_YN1, PRCINSP_YMD, PRCINSP_DRVNG_DSTNC, PREC_NLOD_SMO_PRMVL1 FROM STD_TB_EET_HIS_ME;\")\n",
    "eet_ch_col = {\n",
    "    'VIN':'차대번호', \n",
    "    'PRCINSP_MSRMT_MTHD_CD':'검사방법', \n",
    "    'PRCINSP_KND_CD':'검사종류', \n",
    "    'PRCINSP_JGMT':'검사판정', \n",
    "    'PREC_NLOD_SMO_MSTVL1':'무부하매연측정치1', \n",
    "    'PREC_NLOD_SMO_MSTVL2':'무부하매연측정치2', \n",
    "    'PREC_NLOD_SMO_MSTVL3':'무부하매연측정치3', \n",
    "    'PREC_NLOD_SMO_JT_YN1':'무부하매연판정1', \n",
    "    'PRCINSP_YMD':'검사일자',\n",
    "    'PRCINSP_DRVNG_DSTNC':'주행거리', \n",
    "    'PREC_NLOD_SMO_PRMVL1':'무부하매연허용치1', \n",
    "}\n",
    "eetr = eet.rename(columns=eet_ch_col)\n",
    "\n",
    "print('data load : STD_TB_EET_HIS_ME')"
   ]
  },
  {
   "cell_type": "markdown",
   "id": "0259ed2c-703f-42d2-962b-3df1ccf5ea14",
   "metadata": {},
   "source": [
    "## 법정동코드(STD_BJCD_INFO)"
   ]
  },
  {
   "cell_type": "code",
   "execution_count": 1728,
   "id": "966e70ad-21d8-4509-b1b2-20d7c6d3eae1",
   "metadata": {
    "tags": []
   },
   "outputs": [
    {
     "name": "stdout",
     "output_type": "stream",
     "text": [
      "data load : STD_BJCD_INFO\n"
     ]
    }
   ],
   "source": [
    "# 1.3s\n",
    "code = wd.export_to_pandas(\"SELECT STDG_CD, STDG_CTPV_NM, STDG_SGG_NM, STDG_CTPV_CD, STDG_SGG_CD FROM STD_BJCD_INFO;\")\n",
    "code_ch_col = {\n",
    "    'STDG_CD':'법정동코드', \n",
    "    'STDG_CTPV_NM':'시도', \n",
    "    'STDG_SGG_NM':'시군구', \n",
    "    'STDG_CTPV_CD':'시도코드',\n",
    "    'STDG_SGG_CD':'시군구코드', # 오타 수정 요청 : SSG -> SGG(2023.07.13 어니컴 VSYSD에서 발견)\n",
    "}\n",
    "coder = code.rename(columns=code_ch_col)\n",
    "\n",
    "print('data load : STD_BJCD_INFO')"
   ]
  },
  {
   "cell_type": "markdown",
   "id": "71c0c19a-557e-4612-b2bf-c6492239eb1e",
   "metadata": {},
   "source": [
    "## 노후차 조기폐차 관리정보(수도권)(STD_DLM_TB_ERP_EARLY_ERASE_AEA)"
   ]
  },
  {
   "cell_type": "code",
   "execution_count": 1729,
   "id": "bddf9206-1920-4d93-b3a6-43fd297ddffa",
   "metadata": {
    "tags": []
   },
   "outputs": [
    {
     "name": "stdout",
     "output_type": "stream",
     "text": [
      "data load : STD_DLM_TB_ERP_EARLY_ERASE_AEA\n"
     ]
    }
   ],
   "source": [
    "# 2.4s\n",
    "aea = wd.export_to_pandas(\"SELECT VIN, ELPDSRC_STTS_CD, ELPDSRC_LST_APRV_YN, ERSR_YMD FROM STD_DLM_TB_ERP_EARLY_ERASE_AEA;\")\n",
    "aea_ch_col = {\n",
    "    'VIN':'차대번호', \n",
    "    'ELPDSRC_STTS_CD':'조기폐차상태코드', \n",
    "    'ELPDSRC_LST_APRV_YN':'조기폐차최종승인YN', \n",
    "    'ERSR_YMD':'말소일자', \n",
    "}\n",
    "aear = aea.rename(columns=aea_ch_col)\n",
    "\n",
    "print('data load : STD_DLM_TB_ERP_EARLY_ERASE_AEA')"
   ]
  },
  {
   "cell_type": "markdown",
   "id": "6e650d1c-b445-4291-8c33-28344e5d3d4f",
   "metadata": {},
   "source": [
    "## 노후차 조기폐차 관리정보(수도권외)(STD_DLM_TB_ERP_EARLY_ERASE_LGV)"
   ]
  },
  {
   "cell_type": "code",
   "execution_count": 1730,
   "id": "ce02bd67-6ae6-4b96-91ce-71ef2998595f",
   "metadata": {
    "tags": []
   },
   "outputs": [
    {
     "name": "stdout",
     "output_type": "stream",
     "text": [
      "data load : STD_DLM_TB_ERP_EARLY_ERASE_LGV\n"
     ]
    }
   ],
   "source": [
    "# 1.8s\n",
    "lgv = wd.export_to_pandas(\"SELECT VIN, ELPDSRC_STTS_CD, ELPDSRC_LST_APRV_YN, ERSR_YMD FROM STD_DLM_TB_ERP_EARLY_ERASE_LGV;\")\n",
    "lgv_ch_col = {\n",
    "    'VIN':'차대번호', \n",
    "    'ELPDSRC_STTS_CD':'조기폐차상태코드', \n",
    "    'ELPDSRC_LST_APRV_YN':'조기폐차최종승인YN', \n",
    "    'ERSR_YMD':'말소일자',  \n",
    "}\n",
    "lgvr = lgv.rename(columns=lgv_ch_col)\n",
    "\n",
    "print('data load : STD_DLM_TB_ERP_EARLY_ERASE_LGV')"
   ]
  },
  {
   "cell_type": "markdown",
   "id": "0c2cd4f4-cc92-4fb9-9230-b9f6b24358c5",
   "metadata": {},
   "source": [
    "## 저감장치 부착이력(STD_DLM_TB_ERP_ATT_HIS)"
   ]
  },
  {
   "cell_type": "code",
   "execution_count": 1731,
   "id": "40bb7de4-e116-460f-91a2-02ac4ddd7c8a",
   "metadata": {
    "tags": []
   },
   "outputs": [
    {
     "name": "stdout",
     "output_type": "stream",
     "text": [
      "data load : STD_DLM_TB_ERP_ATT_HIS\n"
     ]
    }
   ],
   "source": [
    "# 3.0s\n",
    "att = wd.export_to_pandas(\"SELECT VIN, RDCDVC_SE_CD, RDCDVC_KND_CD FROM STD_DLM_TB_ERP_ATT_HIS;\")\n",
    "att_ch_col = {\n",
    "    'VIN':'차대번호', \n",
    "    'RDCDVC_SE_CD':'저감장치구분',\n",
    "    'RDCDVC_KND_CD':'저감장치종류',\n",
    "}\n",
    "attr = att.rename(columns=att_ch_col)\n",
    "\n",
    "print('data load : STD_DLM_TB_ERP_ATT_HIS')"
   ]
  },
  {
   "cell_type": "markdown",
   "id": "ec922588-f0ac-430e-9fb0-f707b555e24f",
   "metadata": {},
   "source": [
    "## 등록이력(CEG_CAR_HISTORY_MIG)"
   ]
  },
  {
   "cell_type": "code",
   "execution_count": 1732,
   "id": "65bed490-8e3e-4e3d-951c-db8ad0a82deb",
   "metadata": {
    "tags": []
   },
   "outputs": [
    {
     "name": "stdout",
     "output_type": "stream",
     "text": [
      "data load : CEG_CAR_HISTORY_MIG\n"
     ]
    }
   ],
   "source": [
    "# 1.8s\n",
    "# edb_id = 'vsysd'\n",
    "# edb_database = 'edb'\n",
    "# edb_port = 5444\n",
    "# edb_url = '172.29.135.50'\n",
    "# edb_pwd = 'vsyswynn'\n",
    "# conn = psycopg2.connect(dbname=edb_database, user=edb_id, password=edb_pwd, host=edb_url, port=edb_port)\n",
    "# cur = conn.cursor()\n",
    "# sql = 'select VHCL_ERSR_YN, CHNG_DE, VHMNO from vsysd.ceg_car_history_mig'\n",
    "# cur.execute(sql)\n",
    "# his = pd.DataFrame(cur.fetchall())\n",
    "# his.columns = [desc[0].upper() for desc in cur.description]\n",
    "# his_ch_col = {\n",
    "#     'VHCL_ERSR_YN':'차량말소YN', \n",
    "#     'CHNG_DE':'변경일자',\n",
    "#     'VHMNO':'차량관리번호'\n",
    "# }\n",
    "# hisr = his.rename(columns=his_ch_col)\n",
    "\n",
    "his = wd.export_to_pandas(\"SELECT VHCL_ERSR_YN, CHNG_DE, VHMNO FROM CEG_CAR_HISTORY_MIG;\")\n",
    "his_ch_col = {\n",
    "    'VHCL_ERSR_YN':'차량말소YN', \n",
    "    'CHNG_DE':'변경일자',\n",
    "    'VHMNO':'차량관리번호'\n",
    "}\n",
    "hisr = his.rename(columns=his_ch_col)\n",
    "\n",
    "print('data load : CEG_CAR_HISTORY_MIG')"
   ]
  },
  {
   "cell_type": "markdown",
   "id": "fe7f2f1f-0aac-4727-aebf-9e7f5f018484",
   "metadata": {},
   "source": [
    "## 비상시 및 계절제 단속발령(N_IS_ISSUE_DISCLOSURE)"
   ]
  },
  {
   "cell_type": "code",
   "execution_count": 1733,
   "id": "2e5d932f-4c8f-4ca2-9028-4cda3039b920",
   "metadata": {
    "tags": []
   },
   "outputs": [
    {
     "name": "stdout",
     "output_type": "stream",
     "text": [
      "data load : STD_N_IS_ISSUE_DISCLOSURE\n"
     ]
    }
   ],
   "source": [
    "# 1.8s\n",
    "# sql = \"select REGLT_NO, GNFD_NO, VIN, REG_SIDO_CD, REG_SIGNGU_CD, REGLT_AREA_CD from vsysd.n_is_issue_disclosure\"\n",
    "# cur.execute(sql)\n",
    "# isdis = pd.DataFrame(cur.fetchall())\n",
    "\n",
    "# isdis.columns = [desc[0].upper() for desc in cur.description]\n",
    "# isdis_ch_col = {\n",
    "#     'REGLT_NO':'적발번호', \n",
    "#     'GNFD_NO':'발령번호', \n",
    "#     'REG_SIDO_CD':'등록시도코드', \n",
    "#     'REG_SIGNGU_CD':'등록시군구코드', \n",
    "#     'VIN':'차대번호',\n",
    "#     'REGLT_AREA_CD':'적발지역코드', \n",
    "# }\n",
    "# isdisr = isdis.rename(columns=isdis_ch_col)\n",
    "\n",
    "isdis = wd.export_to_pandas(\"SELECT REGLT_NO, GNFD_NO, VIN, REG_SIDO_CD, REG_SIGNGU_CD, REGLT_AREA_CD FROM N_IS_ISSUE_DISCLOSURE;\")\n",
    "isdis_ch_col = {\n",
    "    'REGLT_NO':'적발번호', \n",
    "    'GNFD_NO':'발령번호', \n",
    "    'REG_SIDO_CD':'등록시도코드', \n",
    "    'REG_SIGNGU_CD':'등록시군구코드', \n",
    "    'VIN':'차대번호',\n",
    "    'REGLT_AREA_CD':'적발지역코드', \n",
    "}\n",
    "isdisr = isdis.rename(columns=isdis_ch_col)\n",
    "\n",
    "print('data load : STD_N_IS_ISSUE_DISCLOSURE')"
   ]
  },
  {
   "cell_type": "markdown",
   "id": "0c78cfe4-09fb-4507-9178-73e86a18f929",
   "metadata": {},
   "source": [
    "## 운행제한 발령정보(N_IS_ISSUE)"
   ]
  },
  {
   "cell_type": "code",
   "execution_count": 1734,
   "id": "1beec1ff-860d-4ec7-befb-f65dde93529e",
   "metadata": {
    "tags": []
   },
   "outputs": [
    {
     "name": "stdout",
     "output_type": "stream",
     "text": [
      "data load : STD_N_IS_ISSUE\n"
     ]
    }
   ],
   "source": [
    "# sql = \"select GNFD_NO, TY_STDR_ID, DNSTY_STDR_ID from vsysd.n_is_issue\"\n",
    "# cur.execute(sql)\n",
    "# isis = pd.DataFrame(cur.fetchall())\n",
    "\n",
    "# isis.columns = [desc[0].upper() for desc in cur.description]\n",
    "# isis_ch_col = {\n",
    "#     'GNFD_NO':'발령번호', \n",
    "#     'DNSTY_STDR_ID':'농도기준아이디', \n",
    "#     'TY_STDR_ID':'유형기준아이디', \n",
    "# }\n",
    "# isisr = isis.rename(columns=isis_ch_col)\n",
    "\n",
    "isis = wd.export_to_pandas(\"SELECT GNFD_NO, TY_STDR_ID, DNSTY_STDR_ID FROM N_IS_ISSUE;\")\n",
    "isis_ch_col = {\n",
    "    'GNFD_NO':'발령번호', \n",
    "    'DNSTY_STDR_ID':'농도기준아이디', \n",
    "    'TY_STDR_ID':'유형기준아이디', \n",
    "}\n",
    "isisr = isis.rename(columns=isis_ch_col)\n",
    "\n",
    "print('data load : STD_N_IS_ISSUE')"
   ]
  },
  {
   "cell_type": "markdown",
   "id": "c7e24017-f1e2-4ae6-ad81-16f89f2b6693",
   "metadata": {},
   "source": [
    "## N_IS_PENALTY"
   ]
  },
  {
   "cell_type": "code",
   "execution_count": 1735,
   "id": "586b32ad-694e-4b7c-9ad4-11b5012279a2",
   "metadata": {
    "tags": []
   },
   "outputs": [
    {
     "name": "stdout",
     "output_type": "stream",
     "text": [
      "data load : N_IS_PENALTY\n"
     ]
    }
   ],
   "source": [
    "# sql = \"select REGLT_NO, REGLT_DE from vsysd.n_is_penalty\"\n",
    "# cur.execute(sql)\n",
    "# ispe = pd.DataFrame(cur.fetchall())\n",
    "# ispe.columns = [desc[0].upper() for desc in cur.description]\n",
    "# ispe_ch_col = {\n",
    "#     'REGLT_NO':'적발번호', \n",
    "#     'REGLT_DE':'단속일', \n",
    "# }\n",
    "# isper = ispe.rename(columns=ispe_ch_col)\n",
    "\n",
    "ispe = wd.export_to_pandas(\"SELECT REGLT_NO, REGLT_DE FROM N_IS_PENALTY;\")\n",
    "ispe_ch_col = {\n",
    "    'REGLT_NO':'적발번호', \n",
    "    'REGLT_DE':'단속일', \n",
    "}\n",
    "isper = ispe.rename(columns=ispe_ch_col)\n",
    "\n",
    "print('data load : N_IS_PENALTY')"
   ]
  },
  {
   "cell_type": "markdown",
   "id": "97dc176f-0040-4e00-935d-84af2b95abc4",
   "metadata": {},
   "source": [
    "## 운행제한 단속정보(N_US_DISCLOSURE)"
   ]
  },
  {
   "cell_type": "code",
   "execution_count": 1736,
   "id": "dfb350f0-ccfc-4e00-9f43-44acb7154176",
   "metadata": {
    "tags": []
   },
   "outputs": [
    {
     "name": "stdout",
     "output_type": "stream",
     "text": [
      "data load : N_US_DISCLOSURE\n"
     ]
    }
   ],
   "source": [
    "# sql = 'select \"NO\", VIN, DISCL_TY, REGLT_AREA_CD, REG_SIDO_CD, REG_SIGNGU_CD from vsysd.n_us_disclosure'\n",
    "# cur.execute(sql)\n",
    "# usdis = pd.DataFrame(cur.fetchall())\n",
    "# usdis.columns = [desc[0].upper() for desc in cur.description]\n",
    "# usdis_ch_dict = {\n",
    "#     'NO':'번호', \n",
    "#     'VIN':'차대번호', \n",
    "#     'REG_SIDO_CD':'등록시도코드', \n",
    "#     'REG_SIGNGU_CD':'등록시군구코드', \n",
    "#     'DISCL_TY':'적발유형', \n",
    "#     'REGLT_AREA_CD':'단속지역코드', \n",
    "# }\n",
    "# usdisr = usdis.rename(columns=usdis_ch_dict)\n",
    "\n",
    "usdis = wd.export_to_pandas('SELECT \"NO\", VIN, DISCL_TY, REGLT_AREA_CD, REG_SIDO_CD, REG_SIGNGU_CD FROM N_US_DISCLOSURE;')\n",
    "usdis_ch_dict = {\n",
    "    'NO':'번호', \n",
    "    'VIN':'차대번호', \n",
    "    'REG_SIDO_CD':'등록시도코드', \n",
    "    'REG_SIGNGU_CD':'등록시군구코드', \n",
    "    'DISCL_TY':'적발유형', \n",
    "    'REGLT_AREA_CD':'단속지역코드', \n",
    "}\n",
    "usdisr = usdis.rename(columns=usdis_ch_dict)\n",
    "\n",
    "print('data load : N_US_DISCLOSURE')"
   ]
  },
  {
   "cell_type": "markdown",
   "id": "339a3433-2f29-413f-a8c7-926309224c22",
   "metadata": {},
   "source": [
    "## N_US_PENALTY"
   ]
  },
  {
   "cell_type": "code",
   "execution_count": 1737,
   "id": "61a50080-a859-4e8f-ab41-0753a5917595",
   "metadata": {
    "tags": []
   },
   "outputs": [
    {
     "name": "stdout",
     "output_type": "stream",
     "text": [
      "data load : STD_N_US_PENALTY\n"
     ]
    }
   ],
   "source": [
    "# sql = 'select \"NO\", REGLT_CNT, REGLT_YM FROM from vsysd.n_us_penalty'\n",
    "# cur.execute(sql)\n",
    "# uspe = pd.DataFrame(cur.fetchall())\n",
    "# uspe.columns = [desc[0].upper() for desc in cur.description]\n",
    "# uspe_ch_dict = {\n",
    "#     'NO':'번호', \n",
    "#     'REGLT_CNT':'적발건수', \n",
    "#     'REGLT_YM':'적발년월'\n",
    "# }\n",
    "# usper = uspe.rename(columns=uspe_ch_dict)\n",
    "# cur.close()\n",
    "# conn.close()\n",
    "\n",
    "uspe = wd.export_to_pandas('SELECT \"NO\", REGLT_CNT, REGLT_YM FROM N_US_PENALTY;')\n",
    "uspe_ch_dict = {\n",
    "    'NO':'번호', \n",
    "    'REGLT_CNT':'적발건수', \n",
    "    'REGLT_YM':'적발년월'\n",
    "}\n",
    "usper = uspe.rename(columns=uspe_ch_dict)\n",
    "\n",
    "print('data load : STD_N_US_PENALTY')"
   ]
  },
  {
   "cell_type": "markdown",
   "id": "1ba31c0e-b6de-40aa-92ad-5c04917d719e",
   "metadata": {},
   "source": [
    "## RH에서 제공한 법정동코드"
   ]
  },
  {
   "cell_type": "code",
   "execution_count": 1738,
   "id": "4340646c-3ae3-4bc5-b7d8-e82e1d927d1e",
   "metadata": {
    "tags": []
   },
   "outputs": [
    {
     "name": "stdout",
     "output_type": "stream",
     "text": [
      "data load : STD_BD_TB_MAPDATA\n"
     ]
    }
   ],
   "source": [
    "rh = we.export_to_pandas(\"SELECT DONG_CODE, CTPRVN_NM, SIGNGU_NM FROM STD_BD_TB_MAPDATA;\")\n",
    "rh = rh.rename(columns={\n",
    "    'DONG_CODE':'법정동코드_rh', \n",
    "    'CTPRVN_NM':'시도', \n",
    "    'SIGNGU_NM':'시군구'\n",
    "    })\n",
    "\n",
    "print('data load : STD_BD_TB_MAPDATA')"
   ]
  },
  {
   "cell_type": "markdown",
   "id": "79597617-168d-4722-ac38-a2a5e80f792b",
   "metadata": {},
   "source": [
    "## 4등급 result(for DPF유무)"
   ]
  },
  {
   "cell_type": "code",
   "execution_count": 1739,
   "id": "ff46db6b-a7de-4b82-a905-9a1386d656ae",
   "metadata": {
    "tags": []
   },
   "outputs": [
    {
     "name": "stdout",
     "output_type": "stream",
     "text": [
      "data load : STD_BD_GRD4_RESULT\n"
     ]
    }
   ],
   "source": [
    "# 20s\n",
    "rs = we.export_to_pandas(\"SELECT 차대번호, DPF유무_수정 FROM STD_BD_GRD4_RESULT;\")\n",
    "\n",
    "print('data load : STD_BD_GRD4_RESULT')"
   ]
  },
  {
   "cell_type": "markdown",
   "id": "fdfd69d6-ad61-4a12-84ee-fd3aac13b690",
   "metadata": {},
   "source": [
    "## STD_BD_KOSIS"
   ]
  },
  {
   "cell_type": "code",
   "execution_count": 1740,
   "id": "f6a9e7b1-9cdd-4725-bc5d-036298424b6a",
   "metadata": {
    "tags": []
   },
   "outputs": [
    {
     "name": "stdout",
     "output_type": "stream",
     "text": [
      "data load : STD_BD_KOSIS\n"
     ]
    }
   ],
   "source": [
    "kosis = we.export_to_pandas(\"SELECT CTPV, SGG, VHCTY_CD, DY_AVRG_DRVNG_DSTNC FROM STD_BD_KOSIS;\")\n",
    "kosis_ch_col = {\n",
    "    'CTPV':'시도', \n",
    "    'SGG':'시군구', \n",
    "    'VHCTY_CD':'차종', \n",
    "    'DY_AVRG_DRVNG_DSTNC':'일일평균주행거리', \n",
    "}\n",
    "kosisr = kosis.rename(columns=kosis_ch_col)\n",
    "\n",
    "print('data load : STD_BD_KOSIS')"
   ]
  },
  {
   "cell_type": "markdown",
   "id": "cc05ca10-716d-4a4a-b156-08e6ad0faf2b",
   "metadata": {},
   "source": [
    "## 운행제한 건수 데이터"
   ]
  },
  {
   "cell_type": "code",
   "execution_count": 1741,
   "id": "ef843c38-9cc3-45a8-958d-60e272b6f81d",
   "metadata": {
    "tags": []
   },
   "outputs": [],
   "source": [
    "# # 3.0s\n",
    "# lmt = we.export_to_pandas(\"SELECT * FROM STD_BD_GRD5_LMT_NOCS;\")\n",
    "# lmt['운행제한건수'] = lmt[['계절제_1차', '계절제_2차', '계절제_3차', '계절제_4차', '비상시', '상시']].sum(axis=1)\n",
    "\n",
    "# print('data load : STD_BD_GRD5_LMT_NOCS')"
   ]
  },
  {
   "cell_type": "markdown",
   "id": "8ddf91da-b97e-4f5e-bcde-dbf29822ffd6",
   "metadata": {},
   "source": [
    "# 전처리 #############################################################################################"
   ]
  },
  {
   "cell_type": "markdown",
   "id": "dab9285a-f8ea-4db2-afe8-6bfeb1d20e49",
   "metadata": {},
   "source": [
    "## 등록정보"
   ]
  },
  {
   "cell_type": "code",
   "execution_count": 1742,
   "id": "e3ba94df-e925-4361-b14c-48268c0eda95",
   "metadata": {
    "tags": []
   },
   "outputs": [],
   "source": [
    "## 중복 차대번호 제거\n",
    "carr = carr.sort_values('최초등록일자', ascending=False).drop_duplicates('차대번호').reset_index(drop=True)"
   ]
  },
  {
   "cell_type": "code",
   "execution_count": 1743,
   "id": "386ac76c-57ca-4f1c-b1be-b28c4687b634",
   "metadata": {
    "tags": []
   },
   "outputs": [
    {
     "data": {
      "text/plain": [
       "array(['4'], dtype=object)"
      ]
     },
     "execution_count": 1743,
     "metadata": {},
     "output_type": "execute_result"
    }
   ],
   "source": [
    "## 배출가스등급 코드 변환\n",
    "grd_dict = {\n",
    "    'A0501':'1', \n",
    "    'A0502':'2', \n",
    "    'A0503':'3', \n",
    "    'A0504':'4', \n",
    "    'A0505':'5', \n",
    "    'A05T2':'2',\n",
    "    'A05T3':'3', \n",
    "    'A05T4':'4', \n",
    "    'A05T5':'5', \n",
    "    'A05X':'X', \n",
    "}\n",
    "carr['배출가스등급'] = carr['배출가스등급'].replace(grd_dict)\n",
    "carr['배출가스등급'].unique()"
   ]
  },
  {
   "cell_type": "code",
   "execution_count": 1744,
   "id": "4d2ed278-3f41-4cbe-bb04-1642d7f12897",
   "metadata": {
    "tags": []
   },
   "outputs": [],
   "source": [
    "## 차종 코드 변환\n",
    "cd_dict = {\n",
    "    'A31M':'이륜', \n",
    "    'A31P':'승용', \n",
    "    'A31S':'특수', \n",
    "    'A31T':'화물', \n",
    "    'A31V':'승합'\n",
    "}\n",
    "carr['차종'] = carr['차종'].replace(cd_dict)"
   ]
  },
  {
   "cell_type": "code",
   "execution_count": 1745,
   "id": "13aefc44-e6d8-45ae-b4b0-e4d4d6d6c304",
   "metadata": {
    "tags": []
   },
   "outputs": [],
   "source": [
    "## 용도 코드 변환\n",
    "purps_dict = {\n",
    "    'A08P':'개인용', \n",
    "    'A08B':'영업용', \n",
    "    'A08O':'관용',\n",
    "}\n",
    "carr['용도'] = carr['용도'].replace(purps_dict)"
   ]
  },
  {
   "cell_type": "code",
   "execution_count": 1746,
   "id": "49946b62-568a-4d04-97d6-806d8daad1f1",
   "metadata": {
    "tags": []
   },
   "outputs": [],
   "source": [
    "## 소유자구분 코드 변환\n",
    "ownr_dict = {\n",
    "    'A27B':'사업자', \n",
    "    'A27F':'외국인', \n",
    "    'A27L':'법인', \n",
    "    'A27O':'기타', \n",
    "    'A27R':'주민', \n",
    "}\n",
    "carr['소유자구분'] = carr['소유자구분'].replace(ownr_dict)"
   ]
  },
  {
   "cell_type": "code",
   "execution_count": 1747,
   "id": "163b9498-380b-4ce3-9dc5-f9b7b401a86e",
   "metadata": {
    "tags": []
   },
   "outputs": [],
   "source": [
    "## 등록정보 말소 제거\n",
    "carm = carr[carr['차량말소YN'] == 'N'].reset_index(drop=True)"
   ]
  },
  {
   "cell_type": "markdown",
   "id": "5f12f844-0459-40ac-9d5b-ad61f09dd332",
   "metadata": {},
   "source": [
    "## 제원정보"
   ]
  },
  {
   "cell_type": "code",
   "execution_count": 1748,
   "id": "5f7bed6d-a9d0-4996-9f96-67b55e639b64",
   "metadata": {
    "tags": []
   },
   "outputs": [],
   "source": [
    "## 연료 코드 변환\n",
    "fuel_dict = {\n",
    "    'A90GS':'휘발유', \n",
    "    'A91DS':'경유',\n",
    "    'A92LP':'LPG(액화석유가스)', \n",
    "    'A90GH':'휘발유 하이브리드', \n",
    "    'A93EV':'전기', \n",
    "    'A91DH':'경유 하이브리드', \n",
    "    'A92CN':'CNG(압축천연가스)', \n",
    "    'A93HD':'수소', \n",
    "    'A92LH':'LPG 하이브리드', \n",
    "    'A94OT':'기타연료', \n",
    "    'A92CH':'CNG 하이브리드',\n",
    "    'A90AC':'알코올', \n",
    "    'A93SH':'태양열', \n",
    "    'A91KS':'등유', \n",
    "    'A92LN':'LNG(액화천연가스)', \n",
    "    'A90PH':'플러그인 하이브리드', \n",
    "}\n",
    "srcr['연료'] = srcr['연료'].replace(fuel_dict)\n",
    "\n",
    "## 차종유형 코드 변환\n",
    "ty_dict = {\n",
    "    'A30C':'경형', \n",
    "    'A30L':'대형', \n",
    "    'A30M':'중형', \n",
    "    'A30S':'소형',\n",
    "}\n",
    "srcr['차종유형'] = srcr['차종유형'].replace(ty_dict)"
   ]
  },
  {
   "cell_type": "markdown",
   "id": "69b1651a-3f4a-428c-90d0-b3050a6f2fae",
   "metadata": {},
   "source": [
    "## 등록&제원 병합"
   ]
  },
  {
   "cell_type": "code",
   "execution_count": 1749,
   "id": "0d5d83e5-e3bb-4247-86b2-af5acd9fe721",
   "metadata": {
    "tags": []
   },
   "outputs": [],
   "source": [
    "# 0.7s\n",
    "cs = carm.merge(srcr, on='제원관리번호', how='left')"
   ]
  },
  {
   "cell_type": "markdown",
   "id": "628d56df-346c-46a7-b116-98c262954bc8",
   "metadata": {},
   "source": [
    "## 정기&정밀 병합"
   ]
  },
  {
   "cell_type": "code",
   "execution_count": 1750,
   "id": "0c061184-efc8-4006-9b94-fc0ac363ab5b",
   "metadata": {
    "tags": []
   },
   "outputs": [],
   "source": [
    "# 3m 1.9s\n",
    "ins = pd.concat([jgtr, eetr], ignore_index=True)\n",
    "\n",
    "### 최근 검사만 활용\n",
    "# 4m 14.3s\n",
    "insm = ins.sort_values('검사일자', ascending=False).drop_duplicates('차대번호').reset_index(drop=True)\n",
    "\n",
    "## 검사종류 코드 변환\n",
    "# 27.5s\n",
    "knd_dict = {\n",
    "    'A21P01':'정밀검사', \n",
    "    'A1904':'정기검사', \n",
    "    'A21T06':'종합검사(경과)', \n",
    "    'A21T05':'종합검사', \n",
    "    'A21S01':'특정검사', \n",
    "    'A1902':'재검사(2부재검사)',\n",
    "    'A21R02':'2부재검사(종합)', \n",
    "    'A21P02':'정밀검사(경과)', \n",
    "    'A1903':'정기(경과)검사', \n",
    "    'A21S04':'특정재검사(배출)', \n",
    "    'A21E01':'배출재검사', \n",
    "    'A21R01':'1부재검사(종합)',\n",
    "    'A21C02':'구조변경검사', \n",
    "    'A21002':'관능재검사(임시)', \n",
    "    'A21S03':'특정재검사(관능)', \n",
    "    'A21S02':'특정검사(경과)', \n",
    "    'A1901':'재검사(1부재검사)', \n",
    "    'A21T02':'종합(정밀)',\n",
    "    'A21E02':'배출재검사(구변)', \n",
    "    'A21T01':'종합(경과:정밀)', \n",
    "    'A21T04':'종합(정밀) 2부재검사', \n",
    "    'A21001':'관능재검사', \n",
    "    'A21T03':'종합(정밀) 1부재검사', \n",
    "    'A21TMP':'임시검사', \n",
    "}\n",
    "insm['검사종류'] = insm['검사종류'].replace(knd_dict)\n",
    "\n",
    "## 검사방법 코드 변환\n",
    "# 14.9s\n",
    "mth_dict = {\n",
    "    'A18A':'무부하검사(TSI)', \n",
    "    'A18B':'무부하검사(급가속)', \n",
    "    'A18C':'무부하검사(정지가동)',\n",
    "    'A2301':'무부하검사(급가속)', \n",
    "    'A2302':'무부하검사(정지가동)',\n",
    "    'A2303':'무부하검사(TSI)', \n",
    "    'A2304':'부하검사(LUG DOWN)', \n",
    "    'A2305':'부하검사(ASM-Idling)', \n",
    "    'A2306':'부하검사(KD-147)', \n",
    "    'A2307':'부하검사(ASM2525)', \n",
    "}\n",
    "insm['검사방법'] = insm['검사방법'].replace(mth_dict)"
   ]
  },
  {
   "cell_type": "markdown",
   "id": "1ece41e4-8de2-4ba4-85b6-7ec62f3c4cf7",
   "metadata": {},
   "source": [
    "## 저감장치구분 코드 변환"
   ]
  },
  {
   "cell_type": "code",
   "execution_count": 1751,
   "id": "e9dd8e58-5f54-4375-ad5e-57fae1419de4",
   "metadata": {
    "tags": []
   },
   "outputs": [
    {
     "data": {
      "text/plain": [
       "Index(['차대번호', '저감장치구분', '저감장치종류', 'DPF_YN'], dtype='object')"
      ]
     },
     "execution_count": 1751,
     "metadata": {},
     "output_type": "execute_result"
    }
   ],
   "source": [
    "rdcdvc_dict = {\n",
    "    'A1001':'1종', \n",
    "    'A1002':'2종', \n",
    "    'A1003':'3종', \n",
    "    'A1004':'1종+SCR', \n",
    "    'A1005':'엔진개조', \n",
    "    'A1006':'엔진교체',\n",
    "    'A1007':'삼원촉매',\n",
    "}\n",
    "attr['저감장치구분'] = attr['저감장치구분'].replace(rdcdvc_dict)\n",
    "\n",
    "## 저감장치 부착 유무\n",
    "attr.loc[(attr['저감장치구분'] == '1종') | (attr['저감장치구분'] == '1종+SCR'), 'DPF_YN'] = '유'\n",
    "\n",
    "# 중복 차대번호 제거\n",
    "attr = attr.sort_values('DPF_YN').drop_duplicates('차대번호').reset_index(drop=True)\n",
    "attr.columns"
   ]
  },
  {
   "cell_type": "markdown",
   "id": "83323ee0-8e01-4541-9738-5237c616ee0f",
   "metadata": {},
   "source": [
    "## 조기폐차(수도권, 수도권 외)"
   ]
  },
  {
   "cell_type": "code",
   "execution_count": 1752,
   "id": "08a3cde4-dc6b-46f6-9681-c653384476fe",
   "metadata": {
    "tags": []
   },
   "outputs": [
    {
     "data": {
      "text/plain": [
       "array(['A32B', 'A32Y', 'A32A', 'A32M', 'A32D', 'A32X', 'A32C', 'A32N',\n",
       "       'A32G', 'A32I', 'A32P'], dtype=object)"
      ]
     },
     "execution_count": 1752,
     "metadata": {},
     "output_type": "execute_result"
    }
   ],
   "source": [
    "aear['조기폐차상태코드'].unique()"
   ]
  },
  {
   "cell_type": "code",
   "execution_count": 1753,
   "id": "8bd84ae2-f541-4ef6-979f-17d2d2640c0c",
   "metadata": {
    "tags": []
   },
   "outputs": [
    {
     "data": {
      "text/plain": [
       "array(['B', 'Y', 'A', 'M', 'D', 'X', 'C', 'N', 'G', 'I', 'P'],\n",
       "      dtype=object)"
      ]
     },
     "execution_count": 1753,
     "metadata": {},
     "output_type": "execute_result"
    }
   ],
   "source": [
    "# erase_dict = {\n",
    "#     'A32E':'조기폐차상태코드(추가보조금신청대상)',\n",
    "#     'A32G':'조기폐차상태코드(보조금청구)',\n",
    "#     'A32I':'조기폐차상태코드(신청등록)',\n",
    "#     'A32K':'조기폐차상태코드(추가보조금청구승인)',\n",
    "#     'A32M':'조기폐차상태코드(보조금산정)',\n",
    "#     'A32N':'조기폐차상태코드(보조금청구반려(제외))',\n",
    "#     'A32P':'조기폐차상태코드(보조금대상)',\n",
    "#     'A32T':'조기폐차상태코드(추가보조금청구)',\n",
    "#     'A32X':'조기폐차상태코드(신청취소(제외))',\n",
    "#     'A32Y':'조기폐차상태코드(보조금청구승인)',\n",
    "#     'A32C':'조기폐차상태코드(성능확인검사등록)',\n",
    "#     'A32D':'조기폐차상태코드(기간초과)',\n",
    "#     'A32A':'조기폐차상태코드(성능확인검사신청)',\n",
    "#     'A32B':'조기폐차상태코드(보조금미대상)',\n",
    "# }\n",
    "erase_dict = {\n",
    "    'A32E':'E',\n",
    "    'A32G':'G',\n",
    "    'A32I':'I',\n",
    "    'A32K':'K',\n",
    "    'A32M':'M',\n",
    "    'A32N':'N',\n",
    "    'A32P':'P',\n",
    "    'A32T':'T',\n",
    "    'A32X':'X',\n",
    "    'A32Y':'Y',\n",
    "    'A32C':'C',\n",
    "    'A32D':'D',\n",
    "    'A32A':'A',\n",
    "    'A32B':'B',\n",
    "}\n",
    "aear['조기폐차상태코드'] = aear['조기폐차상태코드'].replace(erase_dict)\n",
    "aear['조기폐차상태코드'].unique()"
   ]
  },
  {
   "cell_type": "code",
   "execution_count": 1754,
   "id": "e1fb2e26-5c1a-4281-aa81-a005ee352674",
   "metadata": {
    "tags": []
   },
   "outputs": [
    {
     "data": {
      "text/plain": [
       "array(['A32Y', 'A32M', 'A32C', 'A32X', 'A32P', 'A32I', 'A32B', 'A32G',\n",
       "       'A32D', 'A32N'], dtype=object)"
      ]
     },
     "execution_count": 1754,
     "metadata": {},
     "output_type": "execute_result"
    }
   ],
   "source": [
    "lgvr['조기폐차상태코드'].unique()"
   ]
  },
  {
   "cell_type": "code",
   "execution_count": 1755,
   "id": "c99320ac-7946-4ba5-9d4d-22c7b4a5b393",
   "metadata": {
    "tags": []
   },
   "outputs": [
    {
     "data": {
      "text/plain": [
       "array(['Y', 'M', 'C', 'X', 'P', 'I', 'B', 'G', 'D', 'N'], dtype=object)"
      ]
     },
     "execution_count": 1755,
     "metadata": {},
     "output_type": "execute_result"
    }
   ],
   "source": [
    "lgvr['조기폐차상태코드'] = lgvr['조기폐차상태코드'].replace(erase_dict)\n",
    "lgvr['조기폐차상태코드'].unique()"
   ]
  },
  {
   "cell_type": "markdown",
   "id": "32fff89b-e91e-4d9e-8b2f-0dfaddd049ba",
   "metadata": {},
   "source": [
    "### 조기폐차 신청 정보 추가"
   ]
  },
  {
   "cell_type": "code",
   "execution_count": 1756,
   "id": "ea6bef5f-8c5c-46d3-b1ca-ffb569f66ee7",
   "metadata": {
    "tags": []
   },
   "outputs": [],
   "source": [
    "aear['조기폐차신청여부'] = 'Y'\n",
    "lgvr['조기폐차신청여부'] = 'Y'"
   ]
  },
  {
   "cell_type": "markdown",
   "id": "e6f560d4-fcc9-4e8b-94a6-a6e9d9366cd5",
   "metadata": {},
   "source": [
    "### 조기폐차 병합"
   ]
  },
  {
   "cell_type": "code",
   "execution_count": 1757,
   "id": "4620cba7-78ad-4d94-a455-bb056040cb7d",
   "metadata": {
    "tags": []
   },
   "outputs": [
    {
     "data": {
      "text/plain": [
       "(1246229, 5)"
      ]
     },
     "execution_count": 1757,
     "metadata": {},
     "output_type": "execute_result"
    }
   ],
   "source": [
    "elp = pd.concat([aear, lgvr], ignore_index=True)\n",
    "elp.shape"
   ]
  },
  {
   "cell_type": "code",
   "execution_count": 1758,
   "id": "a6ed432a-236c-499e-bfc4-d473cc77455c",
   "metadata": {
    "tags": []
   },
   "outputs": [
    {
     "data": {
      "text/plain": [
       "((1246229, 5), 1166503)"
      ]
     },
     "execution_count": 1758,
     "metadata": {},
     "output_type": "execute_result"
    }
   ],
   "source": [
    "elp.shape, len(elp['차대번호'].unique())"
   ]
  },
  {
   "cell_type": "code",
   "execution_count": 1759,
   "id": "d417524d-2afb-49f2-8a71-cc5b14d9c6ac",
   "metadata": {
    "tags": []
   },
   "outputs": [
    {
     "data": {
      "text/plain": [
       "(1166503, 5)"
      ]
     },
     "execution_count": 1759,
     "metadata": {},
     "output_type": "execute_result"
    }
   ],
   "source": [
    "elpm = elp.sort_values('조기폐차최종승인YN', ascending=False).drop_duplicates('차대번호').reset_index(drop=True)\n",
    "elpm.shape"
   ]
  },
  {
   "cell_type": "code",
   "execution_count": 1760,
   "id": "1ad133ad-c66a-4e0e-8658-e287a5b293b4",
   "metadata": {
    "tags": []
   },
   "outputs": [
    {
     "data": {
      "text/plain": [
       "(929968, 5)"
      ]
     },
     "execution_count": 1760,
     "metadata": {},
     "output_type": "execute_result"
    }
   ],
   "source": [
    "elpm = elpm[elpm['조기폐차최종승인YN'] == 'Y'].reset_index(drop=True)\n",
    "elpm.shape"
   ]
  },
  {
   "cell_type": "markdown",
   "id": "4f989beb-c938-42ff-8ada-01ee883f5572",
   "metadata": {},
   "source": [
    "### 최신 조기폐차 현황(# !!! 수정(2023.10.27))"
   ]
  },
  {
   "cell_type": "code",
   "execution_count": 1761,
   "id": "76d7e110-bba6-47aa-a535-21271644b47d",
   "metadata": {
    "tags": []
   },
   "outputs": [
    {
     "data": {
      "text/plain": [
       "'20231103'"
      ]
     },
     "execution_count": 1761,
     "metadata": {},
     "output_type": "execute_result"
    }
   ],
   "source": [
    "today_date = datetime.today().strftime(\"%Y%m%d\")\n",
    "today_date"
   ]
  },
  {
   "cell_type": "code",
   "execution_count": 1762,
   "id": "0188b80c-c9fb-408e-9411-594dddeb576e",
   "metadata": {
    "tags": []
   },
   "outputs": [
    {
     "data": {
      "text/html": [
       "<div>\n",
       "<style scoped>\n",
       "    .dataframe tbody tr th:only-of-type {\n",
       "        vertical-align: middle;\n",
       "    }\n",
       "\n",
       "    .dataframe tbody tr th {\n",
       "        vertical-align: top;\n",
       "    }\n",
       "\n",
       "    .dataframe thead th {\n",
       "        text-align: right;\n",
       "    }\n",
       "</style>\n",
       "<table border=\"1\" class=\"dataframe\">\n",
       "  <thead>\n",
       "    <tr style=\"text-align: right;\">\n",
       "      <th></th>\n",
       "      <th>말소일자</th>\n",
       "      <th>조기폐차상태코드</th>\n",
       "    </tr>\n",
       "  </thead>\n",
       "  <tbody>\n",
       "    <tr>\n",
       "      <th>425008</th>\n",
       "      <td>46881006.00</td>\n",
       "      <td>Y</td>\n",
       "    </tr>\n",
       "    <tr>\n",
       "      <th>518101</th>\n",
       "      <td>44440923.00</td>\n",
       "      <td>Y</td>\n",
       "    </tr>\n",
       "    <tr>\n",
       "      <th>421471</th>\n",
       "      <td>35190417.00</td>\n",
       "      <td>Y</td>\n",
       "    </tr>\n",
       "    <tr>\n",
       "      <th>736332</th>\n",
       "      <td>30220322.00</td>\n",
       "      <td>Y</td>\n",
       "    </tr>\n",
       "    <tr>\n",
       "      <th>798087</th>\n",
       "      <td>25230811.00</td>\n",
       "      <td>Y</td>\n",
       "    </tr>\n",
       "  </tbody>\n",
       "</table>\n",
       "</div>"
      ],
      "text/plain": [
       "              말소일자 조기폐차상태코드\n",
       "425008 46881006.00        Y\n",
       "518101 44440923.00        Y\n",
       "421471 35190417.00        Y\n",
       "736332 30220322.00        Y\n",
       "798087 25230811.00        Y"
      ]
     },
     "execution_count": 1762,
     "metadata": {},
     "output_type": "execute_result"
    }
   ],
   "source": [
    "elp.loc[:, ['말소일자', '조기폐차상태코드']].sort_values('말소일자', ascending=False).head()"
   ]
  },
  {
   "cell_type": "code",
   "execution_count": 1763,
   "id": "df6e805c-210f-4aac-afa4-553097ff41dd",
   "metadata": {
    "tags": []
   },
   "outputs": [
    {
     "data": {
      "text/plain": [
       "(49, 2)"
      ]
     },
     "execution_count": 1763,
     "metadata": {},
     "output_type": "execute_result"
    }
   ],
   "source": [
    "elp.loc[elp['말소일자'] >= int(today_date), ['말소일자', '조기폐차상태코드']].sort_values('말소일자', ascending=False).shape"
   ]
  },
  {
   "cell_type": "code",
   "execution_count": 1764,
   "id": "49e7e8fd-80ad-49ce-b982-a10eba412ac4",
   "metadata": {
    "tags": []
   },
   "outputs": [
    {
     "data": {
      "text/html": [
       "<div>\n",
       "<style scoped>\n",
       "    .dataframe tbody tr th:only-of-type {\n",
       "        vertical-align: middle;\n",
       "    }\n",
       "\n",
       "    .dataframe tbody tr th {\n",
       "        vertical-align: top;\n",
       "    }\n",
       "\n",
       "    .dataframe thead th {\n",
       "        text-align: right;\n",
       "    }\n",
       "</style>\n",
       "<table border=\"1\" class=\"dataframe\">\n",
       "  <thead>\n",
       "    <tr style=\"text-align: right;\">\n",
       "      <th></th>\n",
       "      <th>말소일자</th>\n",
       "      <th>조기폐차상태코드</th>\n",
       "    </tr>\n",
       "  </thead>\n",
       "  <tbody>\n",
       "    <tr>\n",
       "      <th>1142492</th>\n",
       "      <td>20231223.00</td>\n",
       "      <td>Y</td>\n",
       "    </tr>\n",
       "    <tr>\n",
       "      <th>1230472</th>\n",
       "      <td>20231220.00</td>\n",
       "      <td>Y</td>\n",
       "    </tr>\n",
       "    <tr>\n",
       "      <th>1091154</th>\n",
       "      <td>20231214.00</td>\n",
       "      <td>Y</td>\n",
       "    </tr>\n",
       "    <tr>\n",
       "      <th>1106707</th>\n",
       "      <td>20231212.00</td>\n",
       "      <td>Y</td>\n",
       "    </tr>\n",
       "    <tr>\n",
       "      <th>1113165</th>\n",
       "      <td>20231123.00</td>\n",
       "      <td>Y</td>\n",
       "    </tr>\n",
       "  </tbody>\n",
       "</table>\n",
       "</div>"
      ],
      "text/plain": [
       "               말소일자 조기폐차상태코드\n",
       "1142492 20231223.00        Y\n",
       "1230472 20231220.00        Y\n",
       "1091154 20231214.00        Y\n",
       "1106707 20231212.00        Y\n",
       "1113165 20231123.00        Y"
      ]
     },
     "execution_count": 1764,
     "metadata": {},
     "output_type": "execute_result"
    }
   ],
   "source": [
    "elp.loc[elp['말소일자'] >= int(today_date), ['말소일자', '조기폐차상태코드']].sort_values('말소일자', ascending=False).tail()"
   ]
  },
  {
   "cell_type": "code",
   "execution_count": 1765,
   "id": "1df1c848-3c2a-420e-8512-7e8f4321bf65",
   "metadata": {
    "tags": []
   },
   "outputs": [
    {
     "data": {
      "text/plain": [
       "DatetimeIndex(['2023-10-31'], dtype='datetime64[ns]', freq='M')"
      ]
     },
     "execution_count": 1765,
     "metadata": {},
     "output_type": "execute_result"
    }
   ],
   "source": [
    "date_list = pd.date_range(end=today_date, periods=1, freq='M')\n",
    "date_list"
   ]
  },
  {
   "cell_type": "code",
   "execution_count": 1766,
   "id": "cdf4a659-286f-4635-821c-6c1214701610",
   "metadata": {
    "tags": []
   },
   "outputs": [
    {
     "data": {
      "text/plain": [
       "20231031"
      ]
     },
     "execution_count": 1766,
     "metadata": {},
     "output_type": "execute_result"
    }
   ],
   "source": [
    "before_amonth = int(str(date_list[0]).split(' ')[0].replace('-', ''))\n",
    "before_amonth"
   ]
  },
  {
   "cell_type": "code",
   "execution_count": 1767,
   "id": "11ddd124-e053-427f-b5c2-cd67def073ea",
   "metadata": {
    "tags": []
   },
   "outputs": [
    {
     "data": {
      "text/html": [
       "<div>\n",
       "<style scoped>\n",
       "    .dataframe tbody tr th:only-of-type {\n",
       "        vertical-align: middle;\n",
       "    }\n",
       "\n",
       "    .dataframe tbody tr th {\n",
       "        vertical-align: top;\n",
       "    }\n",
       "\n",
       "    .dataframe thead th {\n",
       "        text-align: right;\n",
       "    }\n",
       "</style>\n",
       "<table border=\"1\" class=\"dataframe\">\n",
       "  <thead>\n",
       "    <tr style=\"text-align: right;\">\n",
       "      <th></th>\n",
       "      <th>말소일자</th>\n",
       "      <th>조기폐차상태코드</th>\n",
       "    </tr>\n",
       "  </thead>\n",
       "  <tbody>\n",
       "    <tr>\n",
       "      <th>1243069</th>\n",
       "      <td>20231031.00</td>\n",
       "      <td>G</td>\n",
       "    </tr>\n",
       "    <tr>\n",
       "      <th>1232137</th>\n",
       "      <td>20231031.00</td>\n",
       "      <td>Y</td>\n",
       "    </tr>\n",
       "    <tr>\n",
       "      <th>1237423</th>\n",
       "      <td>20231031.00</td>\n",
       "      <td>G</td>\n",
       "    </tr>\n",
       "    <tr>\n",
       "      <th>1215030</th>\n",
       "      <td>20231031.00</td>\n",
       "      <td>G</td>\n",
       "    </tr>\n",
       "    <tr>\n",
       "      <th>1215061</th>\n",
       "      <td>20231031.00</td>\n",
       "      <td>G</td>\n",
       "    </tr>\n",
       "  </tbody>\n",
       "</table>\n",
       "</div>"
      ],
      "text/plain": [
       "               말소일자 조기폐차상태코드\n",
       "1243069 20231031.00        G\n",
       "1232137 20231031.00        Y\n",
       "1237423 20231031.00        G\n",
       "1215030 20231031.00        G\n",
       "1215061 20231031.00        G"
      ]
     },
     "execution_count": 1767,
     "metadata": {},
     "output_type": "execute_result"
    }
   ],
   "source": [
    "elp.loc[elp['말소일자'] <= int(before_amonth), ['말소일자', '조기폐차상태코드']].sort_values('말소일자', ascending=False).head()"
   ]
  },
  {
   "cell_type": "code",
   "execution_count": 1768,
   "id": "fe0b5f08-074d-4185-ac60-eebe227532dd",
   "metadata": {
    "tags": []
   },
   "outputs": [
    {
     "data": {
      "text/plain": [
       "(946788, 5)"
      ]
     },
     "execution_count": 1768,
     "metadata": {},
     "output_type": "execute_result"
    }
   ],
   "source": [
    "# 조기폐차 최신 말소일자기준 추출(수동)\n",
    "elp_rct = elp[elp['말소일자'] <= int(before_amonth)].sort_values('말소일자', ascending=False).drop_duplicates('차대번호').reset_index(drop=True)\n",
    "elp_rct.shape"
   ]
  },
  {
   "cell_type": "code",
   "execution_count": 1769,
   "id": "136f40d7-01af-4f8a-96f5-a6d609b86574",
   "metadata": {
    "tags": []
   },
   "outputs": [],
   "source": [
    "# # 조기폐차 최신 말소일자기준 추출\n",
    "# elp_rct = elp[elp['말소일자'] < int(today_date)].sort_values('말소일자', ascending=False).drop_duplicates('차대번호').reset_index(drop=True)\n",
    "# elp_rct.shape"
   ]
  },
  {
   "cell_type": "code",
   "execution_count": 1770,
   "id": "f069513a-fd01-49dd-a22f-c899682f3b1d",
   "metadata": {
    "tags": []
   },
   "outputs": [
    {
     "data": {
      "text/plain": [
       "조기폐차상태코드\n",
       "Y    928372\n",
       "G     17950\n",
       "D       225\n",
       "M       124\n",
       "N        58\n",
       "X        47\n",
       "C        11\n",
       "B         1\n",
       "Name: count, dtype: int64"
      ]
     },
     "execution_count": 1770,
     "metadata": {},
     "output_type": "execute_result"
    }
   ],
   "source": [
    "elp_rct['조기폐차상태코드'].value_counts(dropna=False)"
   ]
  },
  {
   "cell_type": "code",
   "execution_count": 1771,
   "id": "7062728a-7e45-45bc-9c3a-21a5d8ea8229",
   "metadata": {
    "tags": []
   },
   "outputs": [
    {
     "data": {
      "text/plain": [
       "count     946788.00\n",
       "mean    20188194.73\n",
       "std        38730.21\n",
       "min          101.00\n",
       "25%     20170419.00\n",
       "50%     20190927.00\n",
       "75%     20210902.00\n",
       "max     20231031.00\n",
       "Name: 말소일자, dtype: float64"
      ]
     },
     "execution_count": 1771,
     "metadata": {},
     "output_type": "execute_result"
    }
   ],
   "source": [
    "elp_rct['말소일자'].describe()"
   ]
  },
  {
   "cell_type": "markdown",
   "id": "195f6196-1bcc-4983-8fdf-d7662fdecb1d",
   "metadata": {},
   "source": [
    "## kosis 시도명 수정"
   ]
  },
  {
   "cell_type": "code",
   "execution_count": 1772,
   "id": "e05fbb75-beae-41ec-a8c1-436e00eedf69",
   "metadata": {
    "tags": []
   },
   "outputs": [],
   "source": [
    "kosisr.loc[kosisr['시도'] == '강원도', '시도'] = '강원특별자치도'"
   ]
  },
  {
   "cell_type": "markdown",
   "id": "d919cbac-5f34-4145-a9ac-0bf24f75090e",
   "metadata": {},
   "source": [
    "## 등록(말소유지)&제원"
   ]
  },
  {
   "cell_type": "code",
   "execution_count": 1773,
   "id": "5ba36dd2-c83c-4c01-ab2a-0e3c753948f3",
   "metadata": {
    "tags": []
   },
   "outputs": [
    {
     "data": {
      "text/plain": [
       "(1906846, 15)"
      ]
     },
     "execution_count": 1773,
     "metadata": {},
     "output_type": "execute_result"
    }
   ],
   "source": [
    "carr.shape"
   ]
  },
  {
   "cell_type": "code",
   "execution_count": 1774,
   "id": "3caae087-3635-478e-bfdc-ac45184aabe8",
   "metadata": {
    "tags": []
   },
   "outputs": [
    {
     "data": {
      "text/plain": [
       "(1906846, 26)"
      ]
     },
     "execution_count": 1774,
     "metadata": {},
     "output_type": "execute_result"
    }
   ],
   "source": [
    "cse = carr.merge(srcr, on='제원관리번호', how='left')\n",
    "cse.shape"
   ]
  },
  {
   "cell_type": "markdown",
   "id": "eef290fc-1f8f-43b2-889d-bacc368260bc",
   "metadata": {},
   "source": [
    "## 등록(말소유지)&제원&법정동"
   ]
  },
  {
   "cell_type": "code",
   "execution_count": 1775,
   "id": "7442f86c-0527-4bba-92ea-5890b320b2fa",
   "metadata": {
    "tags": []
   },
   "outputs": [],
   "source": [
    "cse['법정동코드'] = cse['법정동코드'].astype('str')\n",
    "cse['법정동코드'] = cse['법정동코드'].str[:5] + '00000'\n",
    "cse['법정동코드'] = pd.to_numeric(cse['법정동코드'], errors='coerce')"
   ]
  },
  {
   "cell_type": "code",
   "execution_count": 1776,
   "id": "0047ac8f-8cad-4b31-9e6e-665d3619d02e",
   "metadata": {
    "tags": []
   },
   "outputs": [
    {
     "data": {
      "text/plain": [
       "(1906846, 30)"
      ]
     },
     "execution_count": 1776,
     "metadata": {},
     "output_type": "execute_result"
    }
   ],
   "source": [
    "csec = cse.merge(coder, on='법정동코드', how='left')\n",
    "csec.shape"
   ]
  },
  {
   "cell_type": "code",
   "execution_count": 1777,
   "id": "c0dba3e9-005c-40ae-b67c-564757ab6290",
   "metadata": {
    "tags": []
   },
   "outputs": [
    {
     "data": {
      "text/plain": [
       "0"
      ]
     },
     "execution_count": 1777,
     "metadata": {},
     "output_type": "execute_result"
    }
   ],
   "source": [
    "csec['시도'].isnull().sum()"
   ]
  },
  {
   "cell_type": "markdown",
   "id": "35a02a0e-4dbf-4bf4-8712-63d0897cd134",
   "metadata": {},
   "source": [
    "## 등록(유지)&제원&법정동&조기폐차"
   ]
  },
  {
   "cell_type": "code",
   "execution_count": 1778,
   "id": "785cceed-0fc7-4d75-86df-30f88c8ce921",
   "metadata": {
    "tags": []
   },
   "outputs": [
    {
     "data": {
      "text/plain": [
       "(1906846, 30)"
      ]
     },
     "execution_count": 1778,
     "metadata": {},
     "output_type": "execute_result"
    }
   ],
   "source": [
    "csec.shape"
   ]
  },
  {
   "cell_type": "code",
   "execution_count": 1779,
   "id": "00fca99d-c0df-4c52-b065-8540b4522a37",
   "metadata": {
    "tags": []
   },
   "outputs": [
    {
     "data": {
      "text/plain": [
       "(1906846, 34)"
      ]
     },
     "execution_count": 1779,
     "metadata": {},
     "output_type": "execute_result"
    }
   ],
   "source": [
    "csece = csec.merge(elpm, on='차대번호', how='left')\n",
    "csece.shape"
   ]
  },
  {
   "cell_type": "markdown",
   "id": "f9d81993-4f34-4b44-8cbb-d6459b38d7ff",
   "metadata": {},
   "source": [
    "### !!! 수정(2023.10.27)"
   ]
  },
  {
   "cell_type": "code",
   "execution_count": 1780,
   "id": "65ac225b-32a6-4bbc-943e-517752a99e25",
   "metadata": {
    "tags": []
   },
   "outputs": [
    {
     "data": {
      "text/plain": [
       "(1906846, 34)"
      ]
     },
     "execution_count": 1780,
     "metadata": {},
     "output_type": "execute_result"
    }
   ],
   "source": [
    "csece_rct = csec.merge(elp_rct, on='차대번호', how='left') # !!! 수정(2023.10.27)\n",
    "csece_rct.shape"
   ]
  },
  {
   "cell_type": "markdown",
   "id": "bec8b98a-6e3a-4a8a-bb94-855ca8143154",
   "metadata": {},
   "source": [
    "## 등록(유지)&제원&법정동&조기폐차&저감"
   ]
  },
  {
   "cell_type": "code",
   "execution_count": 1781,
   "id": "f01d157e-d176-4089-a48e-4d20018178a4",
   "metadata": {
    "tags": []
   },
   "outputs": [
    {
     "data": {
      "text/plain": [
       "(1906846, 37)"
      ]
     },
     "execution_count": 1781,
     "metadata": {},
     "output_type": "execute_result"
    }
   ],
   "source": [
    "dfe = csece.merge(attr, on='차대번호', how='left')\n",
    "dfe.shape"
   ]
  },
  {
   "cell_type": "markdown",
   "id": "b5127891-8c73-4a3d-bb48-0be1c16082cf",
   "metadata": {},
   "source": [
    "## 등록&제원&정기&정밀 병합"
   ]
  },
  {
   "cell_type": "code",
   "execution_count": 1782,
   "id": "df320ad1-7d05-44ff-8f3b-449f2aa59525",
   "metadata": {
    "tags": []
   },
   "outputs": [],
   "source": [
    "# 2m 0.5s\n",
    "csi = cs.merge(insm, on='차대번호', how='left')"
   ]
  },
  {
   "cell_type": "markdown",
   "id": "821e39ed-7d24-406a-955c-ad3f544cab41",
   "metadata": {},
   "source": [
    "## 등록&제원&정기&정밀&법정동코드 병합"
   ]
  },
  {
   "cell_type": "code",
   "execution_count": 1783,
   "id": "149c7529-7d14-4c0c-9606-05567af8028f",
   "metadata": {},
   "outputs": [
    {
     "data": {
      "text/plain": [
       "0"
      ]
     },
     "execution_count": 1783,
     "metadata": {},
     "output_type": "execute_result"
    }
   ],
   "source": [
    "csi['법정동코드'].isnull().sum()"
   ]
  },
  {
   "cell_type": "code",
   "execution_count": 1784,
   "id": "df9d0c91-7b46-4fa8-acd9-d95384067f12",
   "metadata": {},
   "outputs": [],
   "source": [
    "csi['법정동코드'] = csi['법정동코드'].astype('str')\n",
    "csi['법정동코드'] = csi['법정동코드'].str[:5] + '00000'\n",
    "csi['법정동코드'] = pd.to_numeric(csi['법정동코드'])"
   ]
  },
  {
   "cell_type": "code",
   "execution_count": 1785,
   "id": "fd7ab36f-9470-4b9f-bce5-3b9d196fbac7",
   "metadata": {},
   "outputs": [
    {
     "data": {
      "text/plain": [
       "0"
      ]
     },
     "execution_count": 1785,
     "metadata": {},
     "output_type": "execute_result"
    }
   ],
   "source": [
    "csi['법정동코드'].isnull().sum()"
   ]
  },
  {
   "cell_type": "code",
   "execution_count": 1786,
   "id": "4cdd0745-2920-455e-aa12-c908efe943ff",
   "metadata": {
    "tags": []
   },
   "outputs": [],
   "source": [
    "df = csi.merge(coder, on='법정동코드', how='left')"
   ]
  },
  {
   "cell_type": "code",
   "execution_count": 1787,
   "id": "1b22de0b-0110-4c5a-9af7-7ae591ce1f06",
   "metadata": {},
   "outputs": [
    {
     "data": {
      "text/plain": [
       "0"
      ]
     },
     "execution_count": 1787,
     "metadata": {},
     "output_type": "execute_result"
    }
   ],
   "source": [
    "df['시도'].isnull().sum()"
   ]
  },
  {
   "cell_type": "markdown",
   "id": "1b4e0e9b-794e-4a19-aba9-13ec6c88f4d7",
   "metadata": {},
   "source": [
    "## 주소 수정"
   ]
  },
  {
   "cell_type": "code",
   "execution_count": 1788,
   "id": "e3084c9c-0248-4c58-88f5-7a2dd4684276",
   "metadata": {
    "tags": []
   },
   "outputs": [],
   "source": [
    "df['법정동코드_mod'] = df['법정동코드'].copy()"
   ]
  },
  {
   "cell_type": "markdown",
   "id": "e2241c01-739d-49cd-aa88-5348b58e2558",
   "metadata": {},
   "source": [
    "## 4등급 result 파일 참고하여 DPF유무 수정"
   ]
  },
  {
   "cell_type": "code",
   "execution_count": 1789,
   "id": "e8127de4-bf54-4d38-9de7-22412ca9293b",
   "metadata": {
    "tags": []
   },
   "outputs": [],
   "source": [
    "rdf = df.copy()\n",
    "rs = rs.drop_duplicates('차대번호').reset_index(drop=True)\n",
    "rdf1 = rdf.merge(rs, on='차대번호', how='left')\n",
    "df = rdf1.copy()"
   ]
  },
  {
   "cell_type": "code",
   "execution_count": 1790,
   "id": "e08de9d1-ef82-4d7c-9037-af92772769b4",
   "metadata": {},
   "outputs": [
    {
     "data": {
      "text/plain": [
       "(1345122, 42)"
      ]
     },
     "execution_count": 1790,
     "metadata": {},
     "output_type": "execute_result"
    }
   ],
   "source": [
    "df.shape"
   ]
  },
  {
   "cell_type": "markdown",
   "id": "e0473974-d55a-4469-8ab6-baaa6ed1f8cd",
   "metadata": {},
   "source": [
    "## 연료 컬럼 추가"
   ]
  },
  {
   "cell_type": "code",
   "execution_count": 1791,
   "id": "b618920e-1509-43be-82c1-57ee2c3552a0",
   "metadata": {
    "tags": []
   },
   "outputs": [],
   "source": [
    "df.loc[df['연료'] == '경유', 'fuel'] = '경유'\n",
    "df.loc[(df['연료'] == '휘발유') | (df['연료'] == 'LPG(액화석유가스)'), 'fuel'] = '휘발유_가스'"
   ]
  },
  {
   "cell_type": "markdown",
   "id": "aeb2a391-3215-4e07-a871-076db8d13a0e",
   "metadata": {},
   "source": [
    "# 분석"
   ]
  },
  {
   "cell_type": "markdown",
   "id": "fc274ea3-68a5-4b83-b33d-44fd93ba17e2",
   "metadata": {},
   "source": [
    "## 1-1 start"
   ]
  },
  {
   "cell_type": "markdown",
   "id": "7fe6f7b5-6ef3-4a0e-848f-82ff12908278",
   "metadata": {},
   "source": [
    "## EG 분류"
   ]
  },
  {
   "cell_type": "code",
   "execution_count": 1792,
   "id": "3eebbd55-d000-41bf-8d4f-b0d80447ce16",
   "metadata": {
    "tags": []
   },
   "outputs": [],
   "source": [
    "grade_list = []\n",
    "for f, y, cy, e in df[['fuel', '제작일자', '차량연식', 'DPF유무_수정']].values:\n",
    "    if (f == '휘발유_가스') and ( (19980101 <= y <= 20001231) or (1998 <= cy <= 2000) ):\n",
    "        grade_list.append('A')\n",
    "    elif (f == '휘발유_가스') and ( (y <= 19971231) or (cy <= 1997) ):\n",
    "        grade_list.append('B')\n",
    "    elif (f == '경유') and ( (y >= 20080101) or (cy >= 2008) ) and (e == '유'):\n",
    "        grade_list.append('A')\n",
    "    elif (f == '경유') and ( (y <= 20071231) or (cy <= 2007) )and (e == '유'):\n",
    "        grade_list.append('B')\n",
    "    elif (f == '경유') and ( (y >= 20080101) or (cy >= 2008) ) and (e == '무'):\n",
    "        grade_list.append('C')\n",
    "    elif (f == '경유') and ( (y <= 20071231) or (cy <= 2007) ) and (e == '무'):\n",
    "        grade_list.append('D')\n",
    "    else:\n",
    "        grade_list.append('X')\n",
    "df['Grade'] = grade_list"
   ]
  },
  {
   "cell_type": "code",
   "execution_count": 1793,
   "id": "bc824ea2-078b-44b5-8eaa-7e2672e57a98",
   "metadata": {
    "tags": []
   },
   "outputs": [],
   "source": [
    "# STD_BD_GRD4_CAR_CURSTT\n",
    "## 4등급차만 추출\n",
    "# 2.8s\n",
    "df1 = df[df['배출가스등급'] == '4'].reset_index(drop=True)"
   ]
  },
  {
   "cell_type": "code",
   "execution_count": 1794,
   "id": "ca337534-2b9e-4f71-9cb2-af7b118d4d15",
   "metadata": {},
   "outputs": [
    {
     "data": {
      "text/plain": [
       "연료\n",
       "경유             1013073\n",
       "휘발유             308111\n",
       "LPG(액화석유가스)      23853\n",
       "NaN                 49\n",
       "기타연료                34\n",
       "CNG(압축천연가스)          1\n",
       "알코올                  1\n",
       "Name: count, dtype: int64"
      ]
     },
     "execution_count": 1794,
     "metadata": {},
     "output_type": "execute_result"
    }
   ],
   "source": [
    "df1['연료'].value_counts(dropna=False)"
   ]
  },
  {
   "cell_type": "code",
   "execution_count": 1795,
   "id": "7fcca338-a6d3-486d-932a-d4719148e4bf",
   "metadata": {
    "tags": []
   },
   "outputs": [
    {
     "data": {
      "text/plain": [
       "(1345122, 44)"
      ]
     },
     "execution_count": 1795,
     "metadata": {},
     "output_type": "execute_result"
    }
   ],
   "source": [
    "df1.shape"
   ]
  },
  {
   "cell_type": "code",
   "execution_count": 1796,
   "id": "2c9484da-7702-4d68-8916-9feb46f88f2d",
   "metadata": {
    "tags": []
   },
   "outputs": [
    {
     "data": {
      "text/plain": [
       "0    2914000000\n",
       "1    4683000000\n",
       "2    4161000000\n",
       "3    4683000000\n",
       "4    2914000000\n",
       "Name: 법정동코드_mod, dtype: object"
      ]
     },
     "execution_count": 1796,
     "metadata": {},
     "output_type": "execute_result"
    }
   ],
   "source": [
    "### 테이블생성일자 컬럼 추가\n",
    "today_date = datetime.today().strftime(\"%Y%m%d\")\n",
    "# df1['기준연월'] = '2022.12'\n",
    "df1['기준연월'] = today_date[:4] + '.' + today_date[4:6]\n",
    "df1['테이블생성일자'] = today_date\n",
    "# RH제공 법정동코드 타입 문자열로 수정\n",
    "df1['법정동코드_mod'] = df1['법정동코드_mod'].astype('str')\n",
    "df1['법정동코드_mod'].head()"
   ]
  },
  {
   "cell_type": "code",
   "execution_count": 1797,
   "id": "7f2d9864-2f92-41fe-9625-13f5c4ea270e",
   "metadata": {},
   "outputs": [
    {
     "data": {
      "text/plain": [
       "array(['대구광역시'], dtype=object)"
      ]
     },
     "execution_count": 1797,
     "metadata": {},
     "output_type": "execute_result"
    }
   ],
   "source": [
    "df1.loc[df1['시군구'] == '군위군', '시도'].unique()"
   ]
  },
  {
   "cell_type": "code",
   "execution_count": 1798,
   "id": "49f6e68d-e194-4c8f-aaaf-20867c3013e7",
   "metadata": {
    "tags": []
   },
   "outputs": [
    {
     "data": {
      "text/plain": [
       "시도        0\n",
       "시군구    7156\n",
       "dtype: int64"
      ]
     },
     "execution_count": 1798,
     "metadata": {},
     "output_type": "execute_result"
    }
   ],
   "source": [
    "df1[['시도', '시군구']].isnull().sum()"
   ]
  },
  {
   "cell_type": "code",
   "execution_count": 1799,
   "id": "6627cb5e-6852-4168-82e5-a12b2d04ca02",
   "metadata": {
    "tags": []
   },
   "outputs": [],
   "source": [
    "STD_BD_GRD4_CAR_CURSTT = df1[[\n",
    "    '테이블생성일자', \n",
    "    '기준연월',\n",
    "    '차대번호', \n",
    "    '제원관리번호', \n",
    "    '차종', \n",
    "    '용도',\n",
    "    '차량연식', \n",
    "    '차종유형', \n",
    "    '연료', \n",
    "    '법정동코드', \n",
    "    '시도',\n",
    "    '시군구',\n",
    "    '차명', \n",
    "    '제작사명', \n",
    "    '배출가스인증번호', \n",
    "    '배출가스등급', \n",
    "    'DPF유무_수정',\n",
    "    '검사방법', \n",
    "    '검사종류', \n",
    "    '검사판정', \n",
    "    '무부하매연측정치1', \n",
    "    '무부하매연판정1', \n",
    "    '무부하매연측정치2', \n",
    "    '무부하매연측정치3', \n",
    "    '법정동코드_mod', \n",
    "    'Grade', \n",
    "    ]]\n",
    "ch_col_dict = {\n",
    "                '테이블생성일자':'LOAD_DT',\n",
    "                '기준연월':'CRTR_YM', \n",
    "                '차대번호':'VIN', \n",
    "                '제원관리번호':'MANG_MNG_NO', \n",
    "                '차종':'VHCTY_CD', \n",
    "                '용도':'PURPS_CD2', \n",
    "                '차량연식':'YRIDNW', \n",
    "                '차종유형':'VHCTY_TY', \n",
    "                '연료':'FUEL_CD', \n",
    "                '법정동코드':'STDG_CD', \n",
    "                '시도':'CTPV_NM', \n",
    "                '시군구':'SGG_NM', \n",
    "                '차명':'VHCNM', \n",
    "                '제작사명':'MNFCTR_NM', \n",
    "                '배출가스인증번호':'EXHST_GAS_CERT_NO_MOD', \n",
    "                '배출가스등급':'EXHST_GAS_GRD_CD_MOD',\n",
    "                'DPF유무_수정':'DPF_MNTNG_YN', \n",
    "                '검사방법':'INSP_MTHD', \n",
    "                '검사종류':'INSP_KND', \n",
    "                '검사판정':'INSP_JGMT', \n",
    "                '무부하매연측정치1':'NOLOD_SMO_MEVLU1', \n",
    "                '무부하매연판정1':'NOLOD_SMO_JGMT_YN1', \n",
    "                '무부하매연측정치2':'NOLOD_SMO_MEVLU2', \n",
    "                '무부하매연측정치3':'NOLOD_SMO_MEVLU3', \n",
    "                '법정동코드_mod':'STDG_CD_MOD',\n",
    "                'Grade':'GRD4_MLSFC',\n",
    "\n",
    "                '제작일자':'FBCTN_YMD', \n",
    "                '차종분류':'VHCTY_CL_CD',\n",
    "                }\n",
    "STD_BD_GRD4_CAR_CURSTT = STD_BD_GRD4_CAR_CURSTT.rename(columns=ch_col_dict)"
   ]
  },
  {
   "cell_type": "code",
   "execution_count": 1800,
   "id": "2df3d756-5abf-423d-bbea-136a703acc17",
   "metadata": {},
   "outputs": [
    {
     "data": {
      "text/plain": [
       "Index(['LOAD_DT', 'CRTR_YM', 'VIN', 'MANG_MNG_NO', 'VHCTY_CD', 'PURPS_CD2',\n",
       "       'YRIDNW', 'VHCTY_TY', 'FUEL_CD', 'STDG_CD', 'CTPV_NM', 'SGG_NM',\n",
       "       'VHCNM', 'MNFCTR_NM', 'EXHST_GAS_CERT_NO_MOD', 'EXHST_GAS_GRD_CD_MOD',\n",
       "       'DPF_MNTNG_YN', 'INSP_MTHD', 'INSP_KND', 'INSP_JGMT',\n",
       "       'NOLOD_SMO_MEVLU1', 'NOLOD_SMO_JGMT_YN1', 'NOLOD_SMO_MEVLU2',\n",
       "       'NOLOD_SMO_MEVLU3', 'STDG_CD_MOD', 'GRD4_MLSFC'],\n",
       "      dtype='object')"
      ]
     },
     "execution_count": 1800,
     "metadata": {},
     "output_type": "execute_result"
    }
   ],
   "source": [
    "STD_BD_GRD4_CAR_CURSTT.columns"
   ]
  },
  {
   "cell_type": "code",
   "execution_count": 1801,
   "id": "d7c1e38f-1325-487c-bcf6-349ff72e451f",
   "metadata": {
    "tags": []
   },
   "outputs": [
    {
     "data": {
      "text/plain": [
       "(1345122, 26)"
      ]
     },
     "execution_count": 1801,
     "metadata": {},
     "output_type": "execute_result"
    }
   ],
   "source": [
    "STD_BD_GRD4_CAR_CURSTT.shape"
   ]
  },
  {
   "cell_type": "markdown",
   "id": "10386740-f2bc-41e5-8722-053884a8e96d",
   "metadata": {},
   "source": [
    "### [출력] STD_BD_GRD4_CAR_CURSTT"
   ]
  },
  {
   "cell_type": "code",
   "execution_count": 1802,
   "id": "8fe86779-0f34-4a8f-889f-913f4c3e9c3c",
   "metadata": {
    "tags": []
   },
   "outputs": [],
   "source": [
    "# expdf = STD_BD_GRD4_CAR_CURSTT\n",
    "# table_nm = 'STD_BD_GRD4_CAR_CURSTT'.upper()\n",
    "\n",
    "# # 테이블 생성\n",
    "# sql = 'create or replace table ' + table_nm + '( \\n'\n",
    "\n",
    "# for idx,column in enumerate(expdf.columns):\n",
    "#     # if 'float' in expdf[column].dtype.name:\n",
    "#     #     sql += column + ' float'\n",
    "#     # elif 'int' in expdf[column].dtype.name:\n",
    "#     #     sql += column + ' number'\n",
    "#     # else:\n",
    "#     sql += column + ' varchar(255)'\n",
    "\n",
    "#     if len(expdf.columns) - 1 != idx:\n",
    "#         sql += ','\n",
    "#     sql += '\\n'\n",
    "# sql += ')'    \n",
    "# we.execute(sql)\n",
    "# # 데이터 추가\n",
    "# # 9s\n",
    "# we.import_from_pandas(expdf, table_nm)\n",
    "\n",
    "# print(f'data export : {table_nm}')"
   ]
  },
  {
   "cell_type": "code",
   "execution_count": 1803,
   "id": "2c45d63c-d216-4954-b5ce-af7b7751df9a",
   "metadata": {},
   "outputs": [
    {
     "data": {
      "text/plain": [
       "(1013073, 46)"
      ]
     },
     "execution_count": 1803,
     "metadata": {},
     "output_type": "execute_result"
    }
   ],
   "source": [
    "## 경유차만 추출\n",
    "df2 = df1[df1['연료'] == '경유'].reset_index(drop=True)\n",
    "df2.shape"
   ]
  },
  {
   "cell_type": "code",
   "execution_count": 1804,
   "id": "56ed87e6-786d-4ec6-9baf-2c0c49b526db",
   "metadata": {},
   "outputs": [],
   "source": [
    "## 차대번호 10자리 연식\n",
    "df2['vin10'] = df2['차대번호'].str[9]\n",
    "vin10_dict = {'J':1988, 'K':1989, 'L':1990, 'M':1991, 'N':1992, 'P':1993, 'R':1994, 'S':1995, 'T':1996, 'V':1997, 'W':1998, 'X':1999, 'Y':2000, '1':2001, '2':2002, '3':2003, '4':2004, '5':2005, '6':2006, '7':2007, '8':2008, '9':2009, 'A':2010, 'B':2011, 'C':2012, 'D':2013, 'E':2014, 'F':2015, 'G':2016, 'H':2017}\n",
    "df2['vin10_year'] = df2['vin10'].map(vin10_dict, na_action='ignore')"
   ]
  },
  {
   "cell_type": "code",
   "execution_count": 1805,
   "id": "383cd56e-77c8-4603-91db-31f1a59c8699",
   "metadata": {},
   "outputs": [],
   "source": [
    "## 배인번호_수정 문자 타입으로 변경\n",
    "df2['배출가스인증번호'] = df2['배출가스인증번호'].astype('str')"
   ]
  },
  {
   "cell_type": "code",
   "execution_count": 1806,
   "id": "847880e9-e4a1-4921-8557-5cc725d0ef87",
   "metadata": {},
   "outputs": [
    {
     "data": {
      "text/plain": [
       "((1013063, 48), (10, 48))"
      ]
     },
     "execution_count": 1806,
     "metadata": {},
     "output_type": "execute_result"
    }
   ],
   "source": [
    "## 차대번호 17자리 샘플\n",
    "df2y = df2.loc[df2['차대번호'].str.len() == 17].reset_index(drop=True)\n",
    "df2n = df2.loc[df2['차대번호'].str.len() != 17].reset_index(drop=True)\n",
    "df2y.shape, df2n.shape"
   ]
  },
  {
   "cell_type": "code",
   "execution_count": 1807,
   "id": "50cf3a25-5f63-464a-a7a0-f542d843d15e",
   "metadata": {},
   "outputs": [
    {
     "data": {
      "text/plain": [
       "((1012983, 48), (80, 48))"
      ]
     },
     "execution_count": 1807,
     "metadata": {},
     "output_type": "execute_result"
    }
   ],
   "source": [
    "## 차대번호 연식과 연식 동일한 샘플\n",
    "df3y = df2y.loc[df2y['vin10_year'] == df2y['차량연식']].reset_index(drop=True)\n",
    "df3n = df2y.loc[df2y['vin10_year'] != df2y['차량연식']].reset_index(drop=True)\n",
    "df3y.shape, df3n.shape"
   ]
  },
  {
   "cell_type": "code",
   "execution_count": 1808,
   "id": "2c35296e-d2a8-47f0-857d-26b23126714f",
   "metadata": {
    "tags": []
   },
   "outputs": [
    {
     "data": {
      "text/html": [
       "<div>\n",
       "<style scoped>\n",
       "    .dataframe tbody tr th:only-of-type {\n",
       "        vertical-align: middle;\n",
       "    }\n",
       "\n",
       "    .dataframe tbody tr th {\n",
       "        vertical-align: top;\n",
       "    }\n",
       "\n",
       "    .dataframe thead th {\n",
       "        text-align: right;\n",
       "    }\n",
       "</style>\n",
       "<table border=\"1\" class=\"dataframe\">\n",
       "  <thead>\n",
       "    <tr style=\"text-align: right;\">\n",
       "      <th></th>\n",
       "      <th>배출가스인증번호</th>\n",
       "      <th>제작사명</th>\n",
       "      <th>차명</th>\n",
       "      <th>검사방법</th>\n",
       "      <th>제원관리번호</th>\n",
       "      <th>차량대수</th>\n",
       "    </tr>\n",
       "  </thead>\n",
       "  <tbody>\n",
       "    <tr>\n",
       "      <th>0</th>\n",
       "      <td>4MY-AD-20</td>\n",
       "      <td>아우디폭스바겐코리아(주)</td>\n",
       "      <td>아우디 A6 3.0 TDI Quattro</td>\n",
       "      <td>무부하검사(급가속)</td>\n",
       "      <td>02420000100031305</td>\n",
       "      <td>18</td>\n",
       "    </tr>\n",
       "    <tr>\n",
       "      <th>1</th>\n",
       "      <td>4MY-DC-33</td>\n",
       "      <td>타타대우상용차(주)</td>\n",
       "      <td>대우11.5톤장축카고트럭(DPF)</td>\n",
       "      <td>무부하검사(급가속)</td>\n",
       "      <td>A0310006701423306</td>\n",
       "      <td>1</td>\n",
       "    </tr>\n",
       "    <tr>\n",
       "      <th>2</th>\n",
       "      <td>4MY-DC-33</td>\n",
       "      <td>타타대우상용차(주)</td>\n",
       "      <td>대우11.5톤장축카고트럭(DPF)</td>\n",
       "      <td>부하검사(LUG DOWN)</td>\n",
       "      <td>A0310006701423306</td>\n",
       "      <td>4</td>\n",
       "    </tr>\n",
       "    <tr>\n",
       "      <th>3</th>\n",
       "      <td>4MY-KM-06</td>\n",
       "      <td>기아자동차(주)</td>\n",
       "      <td>봉고Ⅲ 1톤</td>\n",
       "      <td>부하검사(KD-147)</td>\n",
       "      <td>A0110003111493107</td>\n",
       "      <td>1</td>\n",
       "    </tr>\n",
       "    <tr>\n",
       "      <th>4</th>\n",
       "      <td>4MY-KM-06</td>\n",
       "      <td>기아자동차(주)</td>\n",
       "      <td>봉고Ⅲ 냉동차</td>\n",
       "      <td>무부하검사(급가속)</td>\n",
       "      <td>A0110003111783107</td>\n",
       "      <td>1</td>\n",
       "    </tr>\n",
       "    <tr>\n",
       "      <th>...</th>\n",
       "      <td>...</td>\n",
       "      <td>...</td>\n",
       "      <td>...</td>\n",
       "      <td>...</td>\n",
       "      <td>...</td>\n",
       "      <td>...</td>\n",
       "    </tr>\n",
       "    <tr>\n",
       "      <th>9617</th>\n",
       "      <td>nan</td>\n",
       "      <td>현대자동차(주)</td>\n",
       "      <td>리베로(LIBERO)</td>\n",
       "      <td>부하검사(KD-147)</td>\n",
       "      <td>A0810003402623205</td>\n",
       "      <td>1</td>\n",
       "    </tr>\n",
       "    <tr>\n",
       "      <th>9618</th>\n",
       "      <td>nan</td>\n",
       "      <td>현대자동차(주)</td>\n",
       "      <td>스타렉스(STAREX)</td>\n",
       "      <td>부하검사(KD-147)</td>\n",
       "      <td>A0810003702912205</td>\n",
       "      <td>1</td>\n",
       "    </tr>\n",
       "    <tr>\n",
       "      <th>9619</th>\n",
       "      <td>nan</td>\n",
       "      <td>현대자동차(주)</td>\n",
       "      <td>포터Ⅱ(PORTERⅡ)</td>\n",
       "      <td>무부하검사(급가속)</td>\n",
       "      <td>A0810006209153110</td>\n",
       "      <td>1</td>\n",
       "    </tr>\n",
       "    <tr>\n",
       "      <th>9620</th>\n",
       "      <td>nan</td>\n",
       "      <td>현대자동차(주)</td>\n",
       "      <td>포터Ⅱ(PORTERⅡ)</td>\n",
       "      <td>부하검사(KD-147)</td>\n",
       "      <td>A0810006205343107</td>\n",
       "      <td>1</td>\n",
       "    </tr>\n",
       "    <tr>\n",
       "      <th>9621</th>\n",
       "      <td>nan</td>\n",
       "      <td>현대자동차(주)</td>\n",
       "      <td>현대15톤덤프트럭</td>\n",
       "      <td>부하검사(LUG DOWN)</td>\n",
       "      <td>A0810007602393307</td>\n",
       "      <td>1</td>\n",
       "    </tr>\n",
       "  </tbody>\n",
       "</table>\n",
       "<p>9622 rows × 6 columns</p>\n",
       "</div>"
      ],
      "text/plain": [
       "       배출가스인증번호           제작사명                      차명            검사방법   \n",
       "0     4MY-AD-20  아우디폭스바겐코리아(주)  아우디 A6 3.0 TDI Quattro      무부하검사(급가속)  \\\n",
       "1     4MY-DC-33     타타대우상용차(주)      대우11.5톤장축카고트럭(DPF)      무부하검사(급가속)   \n",
       "2     4MY-DC-33     타타대우상용차(주)      대우11.5톤장축카고트럭(DPF)  부하검사(LUG DOWN)   \n",
       "3     4MY-KM-06       기아자동차(주)                  봉고Ⅲ 1톤    부하검사(KD-147)   \n",
       "4     4MY-KM-06       기아자동차(주)                 봉고Ⅲ 냉동차      무부하검사(급가속)   \n",
       "...         ...            ...                     ...             ...   \n",
       "9617        nan       현대자동차(주)             리베로(LIBERO)    부하검사(KD-147)   \n",
       "9618        nan       현대자동차(주)            스타렉스(STAREX)    부하검사(KD-147)   \n",
       "9619        nan       현대자동차(주)            포터Ⅱ(PORTERⅡ)      무부하검사(급가속)   \n",
       "9620        nan       현대자동차(주)            포터Ⅱ(PORTERⅡ)    부하검사(KD-147)   \n",
       "9621        nan       현대자동차(주)               현대15톤덤프트럭  부하검사(LUG DOWN)   \n",
       "\n",
       "                 제원관리번호  차량대수  \n",
       "0     02420000100031305    18  \n",
       "1     A0310006701423306     1  \n",
       "2     A0310006701423306     4  \n",
       "3     A0110003111493107     1  \n",
       "4     A0110003111783107     1  \n",
       "...                 ...   ...  \n",
       "9617  A0810003402623205     1  \n",
       "9618  A0810003702912205     1  \n",
       "9619  A0810006209153110     1  \n",
       "9620  A0810006205343107     1  \n",
       "9621  A0810007602393307     1  \n",
       "\n",
       "[9622 rows x 6 columns]"
      ]
     },
     "execution_count": 1808,
     "metadata": {},
     "output_type": "execute_result"
    }
   ],
   "source": [
    "grp4 = df3y[df3y['검사판정'] == 'Y'].groupby(['배출가스인증번호', '제작사명', '차명', '검사방법', '제원관리번호']).agg({'차대번호':'count'}).reset_index()\n",
    "grp4 = grp4.rename(columns={'차대번호':'차량대수'})\n",
    "grp4"
   ]
  },
  {
   "cell_type": "code",
   "execution_count": 1809,
   "id": "64190ea4-1b4a-44ca-a138-a9d55ad103b3",
   "metadata": {
    "tags": []
   },
   "outputs": [
    {
     "data": {
      "text/plain": [
       "(9140, 6)"
      ]
     },
     "execution_count": 1809,
     "metadata": {},
     "output_type": "execute_result"
    }
   ],
   "source": [
    "grp4 = grp4[grp4['배출가스인증번호'] != 'nan'].reset_index(drop=True)\n",
    "grp4.shape"
   ]
  },
  {
   "cell_type": "code",
   "execution_count": 1810,
   "id": "5b4261b1-4b87-4189-8aeb-6bc00bb37d09",
   "metadata": {
    "tags": []
   },
   "outputs": [
    {
     "data": {
      "text/plain": [
       "count    9140.00\n",
       "mean      103.40\n",
       "std       608.70\n",
       "min         1.00\n",
       "25%         1.00\n",
       "50%         4.00\n",
       "75%        24.00\n",
       "max     25651.00\n",
       "Name: 차량대수, dtype: float64"
      ]
     },
     "execution_count": 1810,
     "metadata": {},
     "output_type": "execute_result"
    }
   ],
   "source": [
    "grp4['차량대수'].describe()"
   ]
  },
  {
   "cell_type": "code",
   "execution_count": 1811,
   "id": "bca5f26d-9cb4-40d7-9ced-d2aeae2ed221",
   "metadata": {
    "tags": []
   },
   "outputs": [
    {
     "data": {
      "text/plain": [
       "(1119, 6)"
      ]
     },
     "execution_count": 1811,
     "metadata": {},
     "output_type": "execute_result"
    }
   ],
   "source": [
    "# 100대 초과 샘플만 활용\n",
    "df4 = grp4[grp4['차량대수'] > 100].reset_index(drop=True)\n",
    "df4.shape"
   ]
  },
  {
   "cell_type": "code",
   "execution_count": 1812,
   "id": "e18693da-80b9-44bc-920c-01cd3a1b13dc",
   "metadata": {
    "tags": []
   },
   "outputs": [
    {
     "data": {
      "text/plain": [
       "(855175, 48)"
      ]
     },
     "execution_count": 1812,
     "metadata": {},
     "output_type": "execute_result"
    }
   ],
   "source": [
    "# 7m 43s\n",
    "df5 = pd.DataFrame()\n",
    "for one, two, three, four, five in df4[['배출가스인증번호', '제원관리번호', '제작사명', '차명', '검사방법']].values:\n",
    "    temp = df3y[(df3y['검사판정'] == 'Y') & (df3y['배출가스인증번호'] == one) & (df3y['제원관리번호'] == two) & (df3y['제작사명'] == three) & (df3y['차명'] == four) & (df3y['검사방법'] == five)].reset_index(drop=True)\n",
    "    df5 = pd.concat([df5, temp], ignore_index=True)\n",
    "df5.shape"
   ]
  },
  {
   "cell_type": "code",
   "execution_count": 1813,
   "id": "7cdb0548-6d64-4b5a-8304-8f1d1238abe9",
   "metadata": {
    "tags": []
   },
   "outputs": [
    {
     "data": {
      "text/html": [
       "<div>\n",
       "<style scoped>\n",
       "    .dataframe tbody tr th:only-of-type {\n",
       "        vertical-align: middle;\n",
       "    }\n",
       "\n",
       "    .dataframe tbody tr th {\n",
       "        vertical-align: top;\n",
       "    }\n",
       "\n",
       "    .dataframe thead th {\n",
       "        text-align: right;\n",
       "    }\n",
       "</style>\n",
       "<table border=\"1\" class=\"dataframe\">\n",
       "  <thead>\n",
       "    <tr style=\"text-align: right;\">\n",
       "      <th></th>\n",
       "      <th>배출가스인증번호</th>\n",
       "      <th>제작사명</th>\n",
       "      <th>차명</th>\n",
       "      <th>검사방법</th>\n",
       "      <th>제원관리번호</th>\n",
       "      <th>q1</th>\n",
       "      <th>q2</th>\n",
       "      <th>q3</th>\n",
       "      <th>차량대수</th>\n",
       "    </tr>\n",
       "  </thead>\n",
       "  <tbody>\n",
       "    <tr>\n",
       "      <th>0</th>\n",
       "      <td>5MY-AD-13-06</td>\n",
       "      <td>아우디폭스바겐코리아(주)</td>\n",
       "      <td>Phaeton 3.0 TDI</td>\n",
       "      <td>무부하검사(급가속)</td>\n",
       "      <td>02420004800011305</td>\n",
       "      <td>0.00</td>\n",
       "      <td>0.00</td>\n",
       "      <td>0.00</td>\n",
       "      <td>119</td>\n",
       "    </tr>\n",
       "    <tr>\n",
       "      <th>1</th>\n",
       "      <td>5MY-AD-13-06</td>\n",
       "      <td>아우디폭스바겐코리아(주)</td>\n",
       "      <td>Phaeton 3.0 TDI</td>\n",
       "      <td>무부하검사(급가속)</td>\n",
       "      <td>02420004800021306</td>\n",
       "      <td>0.00</td>\n",
       "      <td>0.00</td>\n",
       "      <td>0.00</td>\n",
       "      <td>111</td>\n",
       "    </tr>\n",
       "    <tr>\n",
       "      <th>2</th>\n",
       "      <td>5MY-AD-14-08</td>\n",
       "      <td>아우디폭스바겐코리아(주)</td>\n",
       "      <td>Passat 2.0 TDI</td>\n",
       "      <td>부하검사(KD-147)</td>\n",
       "      <td>02420006800031206</td>\n",
       "      <td>0.00</td>\n",
       "      <td>0.00</td>\n",
       "      <td>1.00</td>\n",
       "      <td>191</td>\n",
       "    </tr>\n",
       "    <tr>\n",
       "      <th>3</th>\n",
       "      <td>5MY-AD-14-08</td>\n",
       "      <td>아우디폭스바겐코리아(주)</td>\n",
       "      <td>Passat 2.0 TDI</td>\n",
       "      <td>부하검사(KD-147)</td>\n",
       "      <td>02420006800111207</td>\n",
       "      <td>0.00</td>\n",
       "      <td>0.00</td>\n",
       "      <td>0.25</td>\n",
       "      <td>232</td>\n",
       "    </tr>\n",
       "    <tr>\n",
       "      <th>4</th>\n",
       "      <td>5MY-AD-14-18</td>\n",
       "      <td>아우디폭스바겐코리아(주)</td>\n",
       "      <td>Golf 2.0 TDI</td>\n",
       "      <td>부하검사(KD-147)</td>\n",
       "      <td>02420004900031207</td>\n",
       "      <td>0.00</td>\n",
       "      <td>0.00</td>\n",
       "      <td>1.00</td>\n",
       "      <td>284</td>\n",
       "    </tr>\n",
       "    <tr>\n",
       "      <th>...</th>\n",
       "      <td>...</td>\n",
       "      <td>...</td>\n",
       "      <td>...</td>\n",
       "      <td>...</td>\n",
       "      <td>...</td>\n",
       "      <td>...</td>\n",
       "      <td>...</td>\n",
       "      <td>...</td>\n",
       "      <td>...</td>\n",
       "    </tr>\n",
       "    <tr>\n",
       "      <th>1114</th>\n",
       "      <td>9MY-KM-14-41</td>\n",
       "      <td>기아자동차(주)</td>\n",
       "      <td>카니발</td>\n",
       "      <td>부하검사(KD-147)</td>\n",
       "      <td>A0110003800871309</td>\n",
       "      <td>1.00</td>\n",
       "      <td>4.00</td>\n",
       "      <td>8.00</td>\n",
       "      <td>882</td>\n",
       "    </tr>\n",
       "    <tr>\n",
       "      <th>1115</th>\n",
       "      <td>9MY-KM-14-41</td>\n",
       "      <td>기아자동차(주)</td>\n",
       "      <td>카니발</td>\n",
       "      <td>부하검사(KD-147)</td>\n",
       "      <td>A0110003800901310</td>\n",
       "      <td>0.00</td>\n",
       "      <td>4.00</td>\n",
       "      <td>8.00</td>\n",
       "      <td>926</td>\n",
       "    </tr>\n",
       "    <tr>\n",
       "      <th>1116</th>\n",
       "      <td>9MY-KM-14-41</td>\n",
       "      <td>기아자동차(주)</td>\n",
       "      <td>카니발</td>\n",
       "      <td>부하검사(KD-147)</td>\n",
       "      <td>A0110003800911310</td>\n",
       "      <td>0.00</td>\n",
       "      <td>4.00</td>\n",
       "      <td>8.00</td>\n",
       "      <td>1099</td>\n",
       "    </tr>\n",
       "    <tr>\n",
       "      <th>1117</th>\n",
       "      <td>9MY-PA-13-1</td>\n",
       "      <td>(주)볼보자동차코리아</td>\n",
       "      <td>볼보 XC60D5</td>\n",
       "      <td>무부하검사(급가속)</td>\n",
       "      <td>00920003200021309</td>\n",
       "      <td>0.00</td>\n",
       "      <td>0.00</td>\n",
       "      <td>0.00</td>\n",
       "      <td>134</td>\n",
       "    </tr>\n",
       "    <tr>\n",
       "      <th>1118</th>\n",
       "      <td>AMY-JL-13-9</td>\n",
       "      <td>(주)재규어랜드로버코리아</td>\n",
       "      <td>프리랜더 TD4</td>\n",
       "      <td>무부하검사(급가속)</td>\n",
       "      <td>04220000900021309</td>\n",
       "      <td>0.00</td>\n",
       "      <td>0.00</td>\n",
       "      <td>0.00</td>\n",
       "      <td>295</td>\n",
       "    </tr>\n",
       "  </tbody>\n",
       "</table>\n",
       "<p>1119 rows × 9 columns</p>\n",
       "</div>"
      ],
      "text/plain": [
       "          배출가스인증번호           제작사명               차명          검사방법   \n",
       "0     5MY-AD-13-06  아우디폭스바겐코리아(주)  Phaeton 3.0 TDI    무부하검사(급가속)  \\\n",
       "1     5MY-AD-13-06  아우디폭스바겐코리아(주)  Phaeton 3.0 TDI    무부하검사(급가속)   \n",
       "2     5MY-AD-14-08  아우디폭스바겐코리아(주)   Passat 2.0 TDI  부하검사(KD-147)   \n",
       "3     5MY-AD-14-08  아우디폭스바겐코리아(주)   Passat 2.0 TDI  부하검사(KD-147)   \n",
       "4     5MY-AD-14-18  아우디폭스바겐코리아(주)     Golf 2.0 TDI  부하검사(KD-147)   \n",
       "...            ...            ...              ...           ...   \n",
       "1114  9MY-KM-14-41       기아자동차(주)              카니발  부하검사(KD-147)   \n",
       "1115  9MY-KM-14-41       기아자동차(주)              카니발  부하검사(KD-147)   \n",
       "1116  9MY-KM-14-41       기아자동차(주)              카니발  부하검사(KD-147)   \n",
       "1117   9MY-PA-13-1    (주)볼보자동차코리아        볼보 XC60D5    무부하검사(급가속)   \n",
       "1118   AMY-JL-13-9  (주)재규어랜드로버코리아         프리랜더 TD4    무부하검사(급가속)   \n",
       "\n",
       "                 제원관리번호   q1   q2   q3  차량대수  \n",
       "0     02420004800011305 0.00 0.00 0.00   119  \n",
       "1     02420004800021306 0.00 0.00 0.00   111  \n",
       "2     02420006800031206 0.00 0.00 1.00   191  \n",
       "3     02420006800111207 0.00 0.00 0.25   232  \n",
       "4     02420004900031207 0.00 0.00 1.00   284  \n",
       "...                 ...  ...  ...  ...   ...  \n",
       "1114  A0110003800871309 1.00 4.00 8.00   882  \n",
       "1115  A0110003800901310 0.00 4.00 8.00   926  \n",
       "1116  A0110003800911310 0.00 4.00 8.00  1099  \n",
       "1117  00920003200021309 0.00 0.00 0.00   134  \n",
       "1118  04220000900021309 0.00 0.00 0.00   295  \n",
       "\n",
       "[1119 rows x 9 columns]"
      ]
     },
     "execution_count": 1813,
     "metadata": {},
     "output_type": "execute_result"
    }
   ],
   "source": [
    "grp6 = df5.groupby(['배출가스인증번호', '제작사명', '차명', '검사방법', '제원관리번호']).agg({'무부하매연측정치1':[lambda x:x.describe()['25%'], lambda x:x.describe()['50%'], lambda x:x.describe()['75%']], '차대번호':'count'}).reset_index()\n",
    "grp6.columns = ['배출가스인증번호', '제작사명', '차명', '검사방법', '제원관리번호', 'q1', 'q2', 'q3', '차량대수']\n",
    "grp6"
   ]
  },
  {
   "cell_type": "code",
   "execution_count": 1814,
   "id": "5ed1ad8b-555f-46c4-81a9-1db5547ca5e4",
   "metadata": {
    "tags": []
   },
   "outputs": [
    {
     "data": {
      "text/plain": [
       "'20231103'"
      ]
     },
     "execution_count": 1814,
     "metadata": {},
     "output_type": "execute_result"
    }
   ],
   "source": [
    "today_date = datetime.today().strftime(\"%Y%m%d\")\n",
    "today_date"
   ]
  },
  {
   "cell_type": "code",
   "execution_count": 1815,
   "id": "35877c75-dac5-4eb7-995c-8cf0043cc64e",
   "metadata": {
    "tags": []
   },
   "outputs": [],
   "source": [
    "grp6['테이블생성일자'] = today_date"
   ]
  },
  {
   "cell_type": "code",
   "execution_count": 1816,
   "id": "50044f87-05c6-4221-9f5e-d70a41553a94",
   "metadata": {
    "tags": []
   },
   "outputs": [
    {
     "data": {
      "text/plain": [
       "(1119, 10)"
      ]
     },
     "execution_count": 1816,
     "metadata": {},
     "output_type": "execute_result"
    }
   ],
   "source": [
    "STD_BD_GRD4_CAR_CURSTT_TOT = grp6[[\n",
    "    '테이블생성일자',\n",
    "    '차명',\n",
    "    '제작사명', \n",
    "    '제원관리번호', \n",
    "    '배출가스인증번호', \n",
    "    '검사방법', \n",
    "    'q1', \n",
    "    'q2', \n",
    "    'q3',\n",
    "    '차량대수',\n",
    "    ]]\n",
    "STD_BD_GRD4_CAR_CURSTT_TOT.shape"
   ]
  },
  {
   "cell_type": "code",
   "execution_count": 1817,
   "id": "9199e330-4bba-47b9-8ee5-1f1c7479fcbd",
   "metadata": {
    "tags": []
   },
   "outputs": [
    {
     "data": {
      "text/plain": [
       "Index(['LOAD_DT', 'VHCNM', 'MNFCTR_NM', 'MANG_MNG_NO', 'EXHST_GAS_CERT_NO_MOD',\n",
       "       'INSP_MTHD', 'LOWR_QRT', 'MID_QRT', 'UP_QRT', 'VHCL_MKCNT'],\n",
       "      dtype='object')"
      ]
     },
     "execution_count": 1817,
     "metadata": {},
     "output_type": "execute_result"
    }
   ],
   "source": [
    "chc_dict = {\n",
    "    '테이블생성일자':'LOAD_DT', \n",
    "    '차명':'VHCNM',\n",
    "    '제작사명':'MNFCTR_NM', \n",
    "    '제원관리번호':'MANG_MNG_NO', \n",
    "    '배출가스인증번호':'EXHST_GAS_CERT_NO_MOD', \n",
    "    '검사방법':'INSP_MTHD', \n",
    "    'q1':'LOWR_QRT',\n",
    "    'q2':'MID_QRT',\n",
    "    'q3':'UP_QRT',\n",
    "    '차량대수':'VHCL_MKCNT',\n",
    "    '차대번호':'VIN', \n",
    "}\n",
    "STD_BD_GRD4_CAR_CURSTT_TOT = STD_BD_GRD4_CAR_CURSTT_TOT.rename(columns=chc_dict)\n",
    "STD_BD_GRD4_CAR_CURSTT_TOT.columns"
   ]
  },
  {
   "cell_type": "markdown",
   "id": "6e701230-c465-485c-af83-7594df37db35",
   "metadata": {},
   "source": [
    "### [출력] 제번별 4분위 값(STD_BD_GRD4_CAR_CURSTT_TOT)"
   ]
  },
  {
   "cell_type": "code",
   "execution_count": 1818,
   "id": "5152a6f2-b715-4a67-8af4-375212ad5069",
   "metadata": {
    "tags": []
   },
   "outputs": [],
   "source": [
    "# expdf = STD_BD_GRD4_CAR_CURSTT_TOT\n",
    "# table_nm = 'STD_BD_GRD4_CAR_CURSTT_TOT'.upper()\n",
    "\n",
    "# # 테이블 생성\n",
    "# sql = 'create or replace table ' + table_nm + '( \\n'\n",
    "\n",
    "# for idx,column in enumerate(expdf.columns):\n",
    "#     # if 'float' in expdf[column].dtype.name:\n",
    "#     #     sql += column + ' float'\n",
    "#     # elif 'int' in expdf[column].dtype.name:\n",
    "#     #     sql += column + ' number'\n",
    "#     # else:\n",
    "#     sql += column + ' varchar(255)'\n",
    "\n",
    "#     if len(expdf.columns) - 1 != idx:\n",
    "#         sql += ','\n",
    "#     sql += '\\n'\n",
    "# sql += ')'    \n",
    "# we.execute(sql)\n",
    "\n",
    "# # 데이터 추가\n",
    "# # 1s\n",
    "# we.import_from_pandas(expdf, table_nm)\n",
    "\n",
    "# print(f'data export : {table_nm}')"
   ]
  },
  {
   "cell_type": "code",
   "execution_count": 1819,
   "id": "1da1ce0c-609c-4355-ad68-5524d95e7a70",
   "metadata": {
    "tags": []
   },
   "outputs": [
    {
     "data": {
      "text/plain": [
       "(855175, 17)"
      ]
     },
     "execution_count": 1819,
     "metadata": {},
     "output_type": "execute_result"
    }
   ],
   "source": [
    "sidf = df5[[\n",
    "    '차대번호', \n",
    "    '제원관리번호', \n",
    "    '차종', \n",
    "    '차량연식', \n",
    "    '차명', \n",
    "    '차종유형', \n",
    "    '제작사명', \n",
    "    '연료', \n",
    "    '법정동코드', \n",
    "    '배출가스인증번호', \n",
    "    '검사방법', \n",
    "    '검사종류', \n",
    "    '검사판정', \n",
    "    '주행거리', \n",
    "    '무부하매연판정1', \n",
    "    '무부하매연허용치1', \n",
    "    '무부하매연측정치1'\n",
    "]]\n",
    "sidf.shape"
   ]
  },
  {
   "cell_type": "code",
   "execution_count": 1820,
   "id": "cb861e49-0076-4ff2-b874-94f76dd67abf",
   "metadata": {
    "tags": []
   },
   "outputs": [
    {
     "data": {
      "text/plain": [
       "2023"
      ]
     },
     "execution_count": 1820,
     "metadata": {},
     "output_type": "execute_result"
    }
   ],
   "source": [
    "current_yr = int(datetime.today().strftime(\"%Y\"))\n",
    "current_yr"
   ]
  },
  {
   "cell_type": "code",
   "execution_count": 1821,
   "id": "cd92f92f-7547-4a82-9840-d1c3935a1e09",
   "metadata": {
    "tags": []
   },
   "outputs": [
    {
     "name": "stderr",
     "output_type": "stream",
     "text": [
      "/tmp/ipykernel_2016934/4139794486.py:1: SettingWithCopyWarning: \n",
      "A value is trying to be set on a copy of a slice from a DataFrame.\n",
      "Try using .loc[row_indexer,col_indexer] = value instead\n",
      "\n",
      "See the caveats in the documentation: https://pandas.pydata.org/pandas-docs/stable/user_guide/indexing.html#returning-a-view-versus-a-copy\n",
      "  sidf['차령'] = current_yr - sidf['차량연식']\n",
      "/tmp/ipykernel_2016934/4139794486.py:2: SettingWithCopyWarning: \n",
      "A value is trying to be set on a copy of a slice from a DataFrame.\n",
      "Try using .loc[row_indexer,col_indexer] = value instead\n",
      "\n",
      "See the caveats in the documentation: https://pandas.pydata.org/pandas-docs/stable/user_guide/indexing.html#returning-a-view-versus-a-copy\n",
      "  sidf['SI'] = sidf['무부하매연측정치1'] / sidf['무부하매연허용치1']\n"
     ]
    }
   ],
   "source": [
    "sidf['차령'] = current_yr - sidf['차량연식']\n",
    "sidf['SI'] = sidf['무부하매연측정치1'] / sidf['무부하매연허용치1']"
   ]
  },
  {
   "cell_type": "code",
   "execution_count": 1822,
   "id": "4cfff915-4212-4e37-b02c-ebcd2f4e0a1d",
   "metadata": {
    "tags": []
   },
   "outputs": [
    {
     "data": {
      "text/plain": [
       "'20231103'"
      ]
     },
     "execution_count": 1822,
     "metadata": {},
     "output_type": "execute_result"
    }
   ],
   "source": [
    "today_date = datetime.today().strftime(\"%Y%m%d\")\n",
    "today_date"
   ]
  },
  {
   "cell_type": "code",
   "execution_count": 1823,
   "id": "b6f02396-95e0-4e1c-bd2a-5812801701bc",
   "metadata": {
    "tags": []
   },
   "outputs": [
    {
     "name": "stderr",
     "output_type": "stream",
     "text": [
      "/tmp/ipykernel_2016934/3010636050.py:1: SettingWithCopyWarning: \n",
      "A value is trying to be set on a copy of a slice from a DataFrame.\n",
      "Try using .loc[row_indexer,col_indexer] = value instead\n",
      "\n",
      "See the caveats in the documentation: https://pandas.pydata.org/pandas-docs/stable/user_guide/indexing.html#returning-a-view-versus-a-copy\n",
      "  sidf['테이블생성일자'] = today_date\n"
     ]
    }
   ],
   "source": [
    "sidf['테이블생성일자'] = today_date"
   ]
  },
  {
   "cell_type": "code",
   "execution_count": 1824,
   "id": "6425b751-1ece-41c8-871e-8d9e235e78fd",
   "metadata": {
    "tags": []
   },
   "outputs": [],
   "source": [
    "sidf1 = sidf[[\n",
    "    '테이블생성일자',\n",
    "    '차대번호', \n",
    "    '제원관리번호', \n",
    "    '차명', \n",
    "    '제작사명', \n",
    "    '배출가스인증번호', \n",
    "    '검사방법',\n",
    "    '주행거리', \n",
    "    '차령',\n",
    "    'SI', \n",
    "    ]]"
   ]
  },
  {
   "cell_type": "code",
   "execution_count": 1825,
   "id": "05f84419-95e0-4c8b-be99-40bcd10ca629",
   "metadata": {
    "tags": []
   },
   "outputs": [
    {
     "data": {
      "text/plain": [
       "Index(['LOAD_DT', 'VIN', 'MANG_MNG_NO', 'VHCNM', 'MNFCTR_NM',\n",
       "       'EXHST_GAS_CERT_NO_MOD', 'INSP_MTHD', 'DRVNG_DSTNC', 'VHCAG', 'SI'],\n",
       "      dtype='object')"
      ]
     },
     "execution_count": 1825,
     "metadata": {},
     "output_type": "execute_result"
    }
   ],
   "source": [
    "chc_dict = {\n",
    "    '테이블생성일자':'LOAD_DT',\n",
    "    '차대번호':'VIN', \n",
    "    '제원관리번호':'MANG_MNG_NO', \n",
    "    '차종':'VHCTY_CD', \n",
    "    '연식':'YRIDNW', \n",
    "    '차명':'VHCNM',\n",
    "    '제작사명':'MNFCTR_NM', \n",
    "    '차종유형':'VHCTY_TY', \n",
    "    '연료':'FUEL_CD',\n",
    "    '법정동코드':'STDG_CD', \n",
    "    '배출가스인증번호':'EXHST_GAS_CERT_NO_MOD', \n",
    "    '검사방법':'INSP_MTHD', \n",
    "    '검사종류':'INSP_KND', \n",
    "    '검사판정':'INSP_JGMT', \n",
    "    '주행거리':'DRVNG_DSTNC',\n",
    "    '무부하매연판정1':'NOLOD_SMO_JGMT_YN1',\n",
    "    '무부하매연허용치1':'NOLOD_SMO_PRMT_VAL1',\n",
    "    '무부하매연측정치1':'NOLOD_SMO_MEVLU1', \n",
    "    '차령':'VHCAG',\n",
    "    }\n",
    "STD_BD_GRD4_SI = sidf1.rename(columns=chc_dict)\n",
    "STD_BD_GRD4_SI.columns"
   ]
  },
  {
   "cell_type": "markdown",
   "id": "1af8b572-1fee-4804-8e9a-774fc4ca4337",
   "metadata": {},
   "source": [
    "### [출력] SI 지수 정보(STD_BD_GRD4_SI)"
   ]
  },
  {
   "cell_type": "code",
   "execution_count": 1826,
   "id": "a5f75937-0313-43bd-9104-bae69157645a",
   "metadata": {
    "tags": []
   },
   "outputs": [],
   "source": [
    "# expdf = STD_BD_GRD4_SI\n",
    "# table_nm = 'STD_BD_GRD4_SI'.upper()\n",
    "\n",
    "# # 테이블 생성\n",
    "# sql = 'create or replace table ' + table_nm + '( \\n'\n",
    "\n",
    "# for idx,column in enumerate(expdf.columns):\n",
    "#     # if 'float' in expdf[column].dtype.name:\n",
    "#     #     sql += column + ' float'\n",
    "#     # elif 'int' in expdf[column].dtype.name:\n",
    "#     #     sql += column + ' number'\n",
    "#     # else:\n",
    "#     sql += column + ' varchar(255)'\n",
    "\n",
    "#     if len(expdf.columns) - 1 != idx:\n",
    "#         sql += ','\n",
    "#     sql += '\\n'\n",
    "# sql += ')'    \n",
    "# we.execute(sql)\n",
    "# # 데이터 추가\n",
    "# # 6s\n",
    "# we.import_from_pandas(expdf, table_nm)\n",
    "\n",
    "# print(f'data export : {table_nm}')"
   ]
  },
  {
   "cell_type": "code",
   "execution_count": 1827,
   "id": "dafb4c64-c21b-42a3-b21b-e97fd2d88907",
   "metadata": {
    "tags": []
   },
   "outputs": [],
   "source": [
    "# 5번 데이터 셋에서 DAT용 (검토구분 계산) 테이블 생성\n",
    "# grp6 : df5.groupby(['배출가스인증번호', '제작사명', '차명', '검사방법', '제원관리번호'])\n",
    "grp7 = grp6.copy()"
   ]
  },
  {
   "cell_type": "code",
   "execution_count": 1828,
   "id": "8bd4e2bd-2312-47c4-a68a-8f160f7a62d7",
   "metadata": {
    "tags": []
   },
   "outputs": [
    {
     "data": {
      "text/html": [
       "<div>\n",
       "<style scoped>\n",
       "    .dataframe tbody tr th:only-of-type {\n",
       "        vertical-align: middle;\n",
       "    }\n",
       "\n",
       "    .dataframe tbody tr th {\n",
       "        vertical-align: top;\n",
       "    }\n",
       "\n",
       "    .dataframe thead th {\n",
       "        text-align: right;\n",
       "    }\n",
       "</style>\n",
       "<table border=\"1\" class=\"dataframe\">\n",
       "  <thead>\n",
       "    <tr style=\"text-align: right;\">\n",
       "      <th></th>\n",
       "      <th>배출가스인증번호</th>\n",
       "      <th>제작사명</th>\n",
       "      <th>차명</th>\n",
       "      <th>검사방법</th>\n",
       "      <th>제원관리번호</th>\n",
       "      <th>q1</th>\n",
       "      <th>q2</th>\n",
       "      <th>q3</th>\n",
       "      <th>차량대수</th>\n",
       "      <th>테이블생성일자</th>\n",
       "      <th>q2_mean</th>\n",
       "    </tr>\n",
       "  </thead>\n",
       "  <tbody>\n",
       "    <tr>\n",
       "      <th>0</th>\n",
       "      <td>5MY-AD-13-06</td>\n",
       "      <td>아우디폭스바겐코리아(주)</td>\n",
       "      <td>Phaeton 3.0 TDI</td>\n",
       "      <td>무부하검사(급가속)</td>\n",
       "      <td>02420004800011305</td>\n",
       "      <td>0.00</td>\n",
       "      <td>0.00</td>\n",
       "      <td>0.00</td>\n",
       "      <td>119</td>\n",
       "      <td>20231103</td>\n",
       "      <td>0.00</td>\n",
       "    </tr>\n",
       "    <tr>\n",
       "      <th>1</th>\n",
       "      <td>5MY-AD-13-06</td>\n",
       "      <td>아우디폭스바겐코리아(주)</td>\n",
       "      <td>Phaeton 3.0 TDI</td>\n",
       "      <td>무부하검사(급가속)</td>\n",
       "      <td>02420004800021306</td>\n",
       "      <td>0.00</td>\n",
       "      <td>0.00</td>\n",
       "      <td>0.00</td>\n",
       "      <td>111</td>\n",
       "      <td>20231103</td>\n",
       "      <td>0.00</td>\n",
       "    </tr>\n",
       "    <tr>\n",
       "      <th>2</th>\n",
       "      <td>5MY-AD-14-08</td>\n",
       "      <td>아우디폭스바겐코리아(주)</td>\n",
       "      <td>Passat 2.0 TDI</td>\n",
       "      <td>부하검사(KD-147)</td>\n",
       "      <td>02420006800031206</td>\n",
       "      <td>0.00</td>\n",
       "      <td>0.00</td>\n",
       "      <td>1.00</td>\n",
       "      <td>191</td>\n",
       "      <td>20231103</td>\n",
       "      <td>0.00</td>\n",
       "    </tr>\n",
       "    <tr>\n",
       "      <th>3</th>\n",
       "      <td>5MY-AD-14-08</td>\n",
       "      <td>아우디폭스바겐코리아(주)</td>\n",
       "      <td>Passat 2.0 TDI</td>\n",
       "      <td>부하검사(KD-147)</td>\n",
       "      <td>02420006800111207</td>\n",
       "      <td>0.00</td>\n",
       "      <td>0.00</td>\n",
       "      <td>0.25</td>\n",
       "      <td>232</td>\n",
       "      <td>20231103</td>\n",
       "      <td>0.00</td>\n",
       "    </tr>\n",
       "    <tr>\n",
       "      <th>4</th>\n",
       "      <td>5MY-AD-14-18</td>\n",
       "      <td>아우디폭스바겐코리아(주)</td>\n",
       "      <td>Golf 2.0 TDI</td>\n",
       "      <td>부하검사(KD-147)</td>\n",
       "      <td>02420004900031207</td>\n",
       "      <td>0.00</td>\n",
       "      <td>0.00</td>\n",
       "      <td>1.00</td>\n",
       "      <td>284</td>\n",
       "      <td>20231103</td>\n",
       "      <td>0.00</td>\n",
       "    </tr>\n",
       "    <tr>\n",
       "      <th>...</th>\n",
       "      <td>...</td>\n",
       "      <td>...</td>\n",
       "      <td>...</td>\n",
       "      <td>...</td>\n",
       "      <td>...</td>\n",
       "      <td>...</td>\n",
       "      <td>...</td>\n",
       "      <td>...</td>\n",
       "      <td>...</td>\n",
       "      <td>...</td>\n",
       "      <td>...</td>\n",
       "    </tr>\n",
       "    <tr>\n",
       "      <th>1114</th>\n",
       "      <td>9MY-KM-14-41</td>\n",
       "      <td>기아자동차(주)</td>\n",
       "      <td>카니발</td>\n",
       "      <td>부하검사(KD-147)</td>\n",
       "      <td>A0110003800871309</td>\n",
       "      <td>1.00</td>\n",
       "      <td>4.00</td>\n",
       "      <td>8.00</td>\n",
       "      <td>882</td>\n",
       "      <td>20231103</td>\n",
       "      <td>4.29</td>\n",
       "    </tr>\n",
       "    <tr>\n",
       "      <th>1115</th>\n",
       "      <td>9MY-KM-14-41</td>\n",
       "      <td>기아자동차(주)</td>\n",
       "      <td>카니발</td>\n",
       "      <td>부하검사(KD-147)</td>\n",
       "      <td>A0110003800901310</td>\n",
       "      <td>0.00</td>\n",
       "      <td>4.00</td>\n",
       "      <td>8.00</td>\n",
       "      <td>926</td>\n",
       "      <td>20231103</td>\n",
       "      <td>4.29</td>\n",
       "    </tr>\n",
       "    <tr>\n",
       "      <th>1116</th>\n",
       "      <td>9MY-KM-14-41</td>\n",
       "      <td>기아자동차(주)</td>\n",
       "      <td>카니발</td>\n",
       "      <td>부하검사(KD-147)</td>\n",
       "      <td>A0110003800911310</td>\n",
       "      <td>0.00</td>\n",
       "      <td>4.00</td>\n",
       "      <td>8.00</td>\n",
       "      <td>1099</td>\n",
       "      <td>20231103</td>\n",
       "      <td>4.29</td>\n",
       "    </tr>\n",
       "    <tr>\n",
       "      <th>1117</th>\n",
       "      <td>9MY-PA-13-1</td>\n",
       "      <td>(주)볼보자동차코리아</td>\n",
       "      <td>볼보 XC60D5</td>\n",
       "      <td>무부하검사(급가속)</td>\n",
       "      <td>00920003200021309</td>\n",
       "      <td>0.00</td>\n",
       "      <td>0.00</td>\n",
       "      <td>0.00</td>\n",
       "      <td>134</td>\n",
       "      <td>20231103</td>\n",
       "      <td>0.00</td>\n",
       "    </tr>\n",
       "    <tr>\n",
       "      <th>1118</th>\n",
       "      <td>AMY-JL-13-9</td>\n",
       "      <td>(주)재규어랜드로버코리아</td>\n",
       "      <td>프리랜더 TD4</td>\n",
       "      <td>무부하검사(급가속)</td>\n",
       "      <td>04220000900021309</td>\n",
       "      <td>0.00</td>\n",
       "      <td>0.00</td>\n",
       "      <td>0.00</td>\n",
       "      <td>295</td>\n",
       "      <td>20231103</td>\n",
       "      <td>0.00</td>\n",
       "    </tr>\n",
       "  </tbody>\n",
       "</table>\n",
       "<p>1119 rows × 11 columns</p>\n",
       "</div>"
      ],
      "text/plain": [
       "          배출가스인증번호           제작사명               차명          검사방법   \n",
       "0     5MY-AD-13-06  아우디폭스바겐코리아(주)  Phaeton 3.0 TDI    무부하검사(급가속)  \\\n",
       "1     5MY-AD-13-06  아우디폭스바겐코리아(주)  Phaeton 3.0 TDI    무부하검사(급가속)   \n",
       "2     5MY-AD-14-08  아우디폭스바겐코리아(주)   Passat 2.0 TDI  부하검사(KD-147)   \n",
       "3     5MY-AD-14-08  아우디폭스바겐코리아(주)   Passat 2.0 TDI  부하검사(KD-147)   \n",
       "4     5MY-AD-14-18  아우디폭스바겐코리아(주)     Golf 2.0 TDI  부하검사(KD-147)   \n",
       "...            ...            ...              ...           ...   \n",
       "1114  9MY-KM-14-41       기아자동차(주)              카니발  부하검사(KD-147)   \n",
       "1115  9MY-KM-14-41       기아자동차(주)              카니발  부하검사(KD-147)   \n",
       "1116  9MY-KM-14-41       기아자동차(주)              카니발  부하검사(KD-147)   \n",
       "1117   9MY-PA-13-1    (주)볼보자동차코리아        볼보 XC60D5    무부하검사(급가속)   \n",
       "1118   AMY-JL-13-9  (주)재규어랜드로버코리아         프리랜더 TD4    무부하검사(급가속)   \n",
       "\n",
       "                 제원관리번호   q1   q2   q3  차량대수   테이블생성일자  q2_mean  \n",
       "0     02420004800011305 0.00 0.00 0.00   119  20231103     0.00  \n",
       "1     02420004800021306 0.00 0.00 0.00   111  20231103     0.00  \n",
       "2     02420006800031206 0.00 0.00 1.00   191  20231103     0.00  \n",
       "3     02420006800111207 0.00 0.00 0.25   232  20231103     0.00  \n",
       "4     02420004900031207 0.00 0.00 1.00   284  20231103     0.00  \n",
       "...                 ...  ...  ...  ...   ...       ...      ...  \n",
       "1114  A0110003800871309 1.00 4.00 8.00   882  20231103     4.29  \n",
       "1115  A0110003800901310 0.00 4.00 8.00   926  20231103     4.29  \n",
       "1116  A0110003800911310 0.00 4.00 8.00  1099  20231103     4.29  \n",
       "1117  00920003200021309 0.00 0.00 0.00   134  20231103     0.00  \n",
       "1118  04220000900021309 0.00 0.00 0.00   295  20231103     0.00  \n",
       "\n",
       "[1119 rows x 11 columns]"
      ]
     },
     "execution_count": 1828,
     "metadata": {},
     "output_type": "execute_result"
    }
   ],
   "source": [
    "grp7['q2_mean'] = grp7.groupby(['배출가스인증번호', '제작사명', '차명', '검사방법'])['q2'].transform('mean')\n",
    "grp7"
   ]
  },
  {
   "cell_type": "code",
   "execution_count": 1829,
   "id": "1c712511-c445-4430-9b1c-79728b027593",
   "metadata": {
    "tags": []
   },
   "outputs": [],
   "source": [
    "grp7.loc[(grp7['q2'] > grp7['q2_mean']*5) | (grp7['q2'] < grp7['q2_mean']/5), '검토구분'] = '주의'\n",
    "grp7['검토구분'] = grp7['검토구분'].fillna('양호')"
   ]
  },
  {
   "cell_type": "code",
   "execution_count": 1830,
   "id": "87647fb7-102f-4915-bcc5-5500870b4b53",
   "metadata": {
    "tags": []
   },
   "outputs": [
    {
     "data": {
      "text/plain": [
       "검토구분\n",
       "양호    1103\n",
       "주의      16\n",
       "Name: count, dtype: int64"
      ]
     },
     "execution_count": 1830,
     "metadata": {},
     "output_type": "execute_result"
    }
   ],
   "source": [
    "grp7['검토구분'].value_counts(dropna=False)"
   ]
  },
  {
   "cell_type": "code",
   "execution_count": 1831,
   "id": "0694610e-0ca6-4e35-a2b8-e6e804f16ca2",
   "metadata": {
    "tags": []
   },
   "outputs": [
    {
     "data": {
      "text/plain": [
       "67"
      ]
     },
     "execution_count": 1831,
     "metadata": {},
     "output_type": "execute_result"
    }
   ],
   "source": [
    "len(grp7.loc[grp7['검토구분'] == '양호', '배출가스인증번호'].unique())"
   ]
  },
  {
   "cell_type": "code",
   "execution_count": 1832,
   "id": "3ab0257d-eb83-4833-ac0c-d1c706976e9a",
   "metadata": {
    "tags": []
   },
   "outputs": [
    {
     "data": {
      "text/plain": [
       "6"
      ]
     },
     "execution_count": 1832,
     "metadata": {},
     "output_type": "execute_result"
    }
   ],
   "source": [
    "len(grp7.loc[grp7['검토구분'] == '주의', '배출가스인증번호'].unique())"
   ]
  },
  {
   "cell_type": "code",
   "execution_count": 1833,
   "id": "8037e946-c3c2-4267-b213-436bc954982d",
   "metadata": {
    "tags": []
   },
   "outputs": [
    {
     "data": {
      "text/plain": [
       "array(['5MY-HD-24-59', '6MY-HD-14-63', '6MY-HD-24-100', '6MY-KM-14-61',\n",
       "       '6MY-MK-14-13', '7MY-HD-13-58'], dtype=object)"
      ]
     },
     "execution_count": 1833,
     "metadata": {},
     "output_type": "execute_result"
    }
   ],
   "source": [
    "grp7.loc[grp7['검토구분'] == '주의', '배출가스인증번호'].unique()"
   ]
  },
  {
   "cell_type": "code",
   "execution_count": 1834,
   "id": "d89cde24-a1b1-4705-a157-c63053b40e22",
   "metadata": {
    "tags": []
   },
   "outputs": [
    {
     "data": {
      "text/html": [
       "<div>\n",
       "<style scoped>\n",
       "    .dataframe tbody tr th:only-of-type {\n",
       "        vertical-align: middle;\n",
       "    }\n",
       "\n",
       "    .dataframe tbody tr th {\n",
       "        vertical-align: top;\n",
       "    }\n",
       "\n",
       "    .dataframe thead th {\n",
       "        text-align: right;\n",
       "    }\n",
       "</style>\n",
       "<table border=\"1\" class=\"dataframe\">\n",
       "  <thead>\n",
       "    <tr style=\"text-align: right;\">\n",
       "      <th></th>\n",
       "      <th>배출가스인증번호</th>\n",
       "      <th>제작사명</th>\n",
       "      <th>차명</th>\n",
       "      <th>검사방법</th>\n",
       "      <th>제원관리번호</th>\n",
       "      <th>q1</th>\n",
       "      <th>q2</th>\n",
       "      <th>q3</th>\n",
       "      <th>차량대수</th>\n",
       "      <th>테이블생성일자</th>\n",
       "      <th>q2_mean</th>\n",
       "      <th>검토구분</th>\n",
       "    </tr>\n",
       "  </thead>\n",
       "  <tbody>\n",
       "    <tr>\n",
       "      <th>1062</th>\n",
       "      <td>9MY-KM-14-22</td>\n",
       "      <td>기아자동차(주)</td>\n",
       "      <td>쏘렌토</td>\n",
       "      <td>무부하검사(급가속)</td>\n",
       "      <td>A0110004400101209</td>\n",
       "      <td>1.00</td>\n",
       "      <td>5.00</td>\n",
       "      <td>10.00</td>\n",
       "      <td>391</td>\n",
       "      <td>20231103</td>\n",
       "      <td>4.83</td>\n",
       "      <td>양호</td>\n",
       "    </tr>\n",
       "    <tr>\n",
       "      <th>1063</th>\n",
       "      <td>9MY-KM-14-22</td>\n",
       "      <td>기아자동차(주)</td>\n",
       "      <td>쏘렌토</td>\n",
       "      <td>무부하검사(급가속)</td>\n",
       "      <td>A0110004400111209</td>\n",
       "      <td>1.00</td>\n",
       "      <td>5.00</td>\n",
       "      <td>10.00</td>\n",
       "      <td>2331</td>\n",
       "      <td>20231103</td>\n",
       "      <td>4.83</td>\n",
       "      <td>양호</td>\n",
       "    </tr>\n",
       "    <tr>\n",
       "      <th>1064</th>\n",
       "      <td>9MY-KM-14-22</td>\n",
       "      <td>기아자동차(주)</td>\n",
       "      <td>쏘렌토</td>\n",
       "      <td>무부하검사(급가속)</td>\n",
       "      <td>A0110004400121209</td>\n",
       "      <td>1.00</td>\n",
       "      <td>5.00</td>\n",
       "      <td>10.00</td>\n",
       "      <td>255</td>\n",
       "      <td>20231103</td>\n",
       "      <td>4.83</td>\n",
       "      <td>양호</td>\n",
       "    </tr>\n",
       "    <tr>\n",
       "      <th>1065</th>\n",
       "      <td>9MY-KM-14-22</td>\n",
       "      <td>기아자동차(주)</td>\n",
       "      <td>쏘렌토</td>\n",
       "      <td>무부하검사(급가속)</td>\n",
       "      <td>A0110004400231210</td>\n",
       "      <td>0.00</td>\n",
       "      <td>4.00</td>\n",
       "      <td>8.00</td>\n",
       "      <td>144</td>\n",
       "      <td>20231103</td>\n",
       "      <td>4.83</td>\n",
       "      <td>양호</td>\n",
       "    </tr>\n",
       "    <tr>\n",
       "      <th>1066</th>\n",
       "      <td>9MY-KM-14-22</td>\n",
       "      <td>기아자동차(주)</td>\n",
       "      <td>쏘렌토</td>\n",
       "      <td>무부하검사(급가속)</td>\n",
       "      <td>A0110004400241210</td>\n",
       "      <td>1.00</td>\n",
       "      <td>5.00</td>\n",
       "      <td>9.00</td>\n",
       "      <td>898</td>\n",
       "      <td>20231103</td>\n",
       "      <td>4.83</td>\n",
       "      <td>양호</td>\n",
       "    </tr>\n",
       "    <tr>\n",
       "      <th>1067</th>\n",
       "      <td>9MY-KM-14-22</td>\n",
       "      <td>기아자동차(주)</td>\n",
       "      <td>쏘렌토</td>\n",
       "      <td>무부하검사(급가속)</td>\n",
       "      <td>A0110004400251210</td>\n",
       "      <td>1.00</td>\n",
       "      <td>5.00</td>\n",
       "      <td>9.00</td>\n",
       "      <td>113</td>\n",
       "      <td>20231103</td>\n",
       "      <td>4.83</td>\n",
       "      <td>양호</td>\n",
       "    </tr>\n",
       "    <tr>\n",
       "      <th>1068</th>\n",
       "      <td>9MY-KM-14-22</td>\n",
       "      <td>기아자동차(주)</td>\n",
       "      <td>쏘렌토</td>\n",
       "      <td>부하검사(KD-147)</td>\n",
       "      <td>A0110004400101209</td>\n",
       "      <td>2.00</td>\n",
       "      <td>6.00</td>\n",
       "      <td>10.00</td>\n",
       "      <td>2639</td>\n",
       "      <td>20231103</td>\n",
       "      <td>6.00</td>\n",
       "      <td>양호</td>\n",
       "    </tr>\n",
       "    <tr>\n",
       "      <th>1069</th>\n",
       "      <td>9MY-KM-14-22</td>\n",
       "      <td>기아자동차(주)</td>\n",
       "      <td>쏘렌토</td>\n",
       "      <td>부하검사(KD-147)</td>\n",
       "      <td>A0110004400111209</td>\n",
       "      <td>2.00</td>\n",
       "      <td>6.00</td>\n",
       "      <td>10.00</td>\n",
       "      <td>17577</td>\n",
       "      <td>20231103</td>\n",
       "      <td>6.00</td>\n",
       "      <td>양호</td>\n",
       "    </tr>\n",
       "    <tr>\n",
       "      <th>1070</th>\n",
       "      <td>9MY-KM-14-22</td>\n",
       "      <td>기아자동차(주)</td>\n",
       "      <td>쏘렌토</td>\n",
       "      <td>부하검사(KD-147)</td>\n",
       "      <td>A0110004400121209</td>\n",
       "      <td>2.00</td>\n",
       "      <td>6.00</td>\n",
       "      <td>10.00</td>\n",
       "      <td>1760</td>\n",
       "      <td>20231103</td>\n",
       "      <td>6.00</td>\n",
       "      <td>양호</td>\n",
       "    </tr>\n",
       "    <tr>\n",
       "      <th>1071</th>\n",
       "      <td>9MY-KM-14-22</td>\n",
       "      <td>기아자동차(주)</td>\n",
       "      <td>쏘렌토</td>\n",
       "      <td>부하검사(KD-147)</td>\n",
       "      <td>A0110004400231210</td>\n",
       "      <td>2.00</td>\n",
       "      <td>6.00</td>\n",
       "      <td>9.00</td>\n",
       "      <td>929</td>\n",
       "      <td>20231103</td>\n",
       "      <td>6.00</td>\n",
       "      <td>양호</td>\n",
       "    </tr>\n",
       "    <tr>\n",
       "      <th>1072</th>\n",
       "      <td>9MY-KM-14-22</td>\n",
       "      <td>기아자동차(주)</td>\n",
       "      <td>쏘렌토</td>\n",
       "      <td>부하검사(KD-147)</td>\n",
       "      <td>A0110004400241210</td>\n",
       "      <td>2.00</td>\n",
       "      <td>6.00</td>\n",
       "      <td>9.00</td>\n",
       "      <td>6924</td>\n",
       "      <td>20231103</td>\n",
       "      <td>6.00</td>\n",
       "      <td>양호</td>\n",
       "    </tr>\n",
       "    <tr>\n",
       "      <th>1073</th>\n",
       "      <td>9MY-KM-14-22</td>\n",
       "      <td>기아자동차(주)</td>\n",
       "      <td>쏘렌토</td>\n",
       "      <td>부하검사(KD-147)</td>\n",
       "      <td>A0110004400251210</td>\n",
       "      <td>2.00</td>\n",
       "      <td>6.00</td>\n",
       "      <td>10.00</td>\n",
       "      <td>731</td>\n",
       "      <td>20231103</td>\n",
       "      <td>6.00</td>\n",
       "      <td>양호</td>\n",
       "    </tr>\n",
       "  </tbody>\n",
       "</table>\n",
       "</div>"
      ],
      "text/plain": [
       "          배출가스인증번호      제작사명   차명          검사방법             제원관리번호   q1   q2   \n",
       "1062  9MY-KM-14-22  기아자동차(주)  쏘렌토    무부하검사(급가속)  A0110004400101209 1.00 5.00  \\\n",
       "1063  9MY-KM-14-22  기아자동차(주)  쏘렌토    무부하검사(급가속)  A0110004400111209 1.00 5.00   \n",
       "1064  9MY-KM-14-22  기아자동차(주)  쏘렌토    무부하검사(급가속)  A0110004400121209 1.00 5.00   \n",
       "1065  9MY-KM-14-22  기아자동차(주)  쏘렌토    무부하검사(급가속)  A0110004400231210 0.00 4.00   \n",
       "1066  9MY-KM-14-22  기아자동차(주)  쏘렌토    무부하검사(급가속)  A0110004400241210 1.00 5.00   \n",
       "1067  9MY-KM-14-22  기아자동차(주)  쏘렌토    무부하검사(급가속)  A0110004400251210 1.00 5.00   \n",
       "1068  9MY-KM-14-22  기아자동차(주)  쏘렌토  부하검사(KD-147)  A0110004400101209 2.00 6.00   \n",
       "1069  9MY-KM-14-22  기아자동차(주)  쏘렌토  부하검사(KD-147)  A0110004400111209 2.00 6.00   \n",
       "1070  9MY-KM-14-22  기아자동차(주)  쏘렌토  부하검사(KD-147)  A0110004400121209 2.00 6.00   \n",
       "1071  9MY-KM-14-22  기아자동차(주)  쏘렌토  부하검사(KD-147)  A0110004400231210 2.00 6.00   \n",
       "1072  9MY-KM-14-22  기아자동차(주)  쏘렌토  부하검사(KD-147)  A0110004400241210 2.00 6.00   \n",
       "1073  9MY-KM-14-22  기아자동차(주)  쏘렌토  부하검사(KD-147)  A0110004400251210 2.00 6.00   \n",
       "\n",
       "        q3   차량대수   테이블생성일자  q2_mean 검토구분  \n",
       "1062 10.00    391  20231103     4.83   양호  \n",
       "1063 10.00   2331  20231103     4.83   양호  \n",
       "1064 10.00    255  20231103     4.83   양호  \n",
       "1065  8.00    144  20231103     4.83   양호  \n",
       "1066  9.00    898  20231103     4.83   양호  \n",
       "1067  9.00    113  20231103     4.83   양호  \n",
       "1068 10.00   2639  20231103     6.00   양호  \n",
       "1069 10.00  17577  20231103     6.00   양호  \n",
       "1070 10.00   1760  20231103     6.00   양호  \n",
       "1071  9.00    929  20231103     6.00   양호  \n",
       "1072  9.00   6924  20231103     6.00   양호  \n",
       "1073 10.00    731  20231103     6.00   양호  "
      ]
     },
     "execution_count": 1834,
     "metadata": {},
     "output_type": "execute_result"
    }
   ],
   "source": [
    "grp7[grp7['배출가스인증번호'] == '9MY-KM-14-22']"
   ]
  },
  {
   "cell_type": "code",
   "execution_count": 1835,
   "id": "c0b6c685-cc24-409a-869c-0cead671e62c",
   "metadata": {
    "tags": []
   },
   "outputs": [],
   "source": [
    "# grp7.to_excel('샘플_4등급경유차_배출가스인증번호_검토(2023.10.27).xlsx', index=False)"
   ]
  },
  {
   "cell_type": "code",
   "execution_count": 1836,
   "id": "2d84a152-f6ec-4548-b92b-21cd252ed237",
   "metadata": {
    "tags": []
   },
   "outputs": [],
   "source": [
    "STD_BD_DAT_GRD4_CERT_NO_RVW = grp7[[\n",
    "    '배출가스인증번호',\n",
    "    '검사방법',\n",
    "    '검토구분',\n",
    "    '제작사명',\n",
    "    '차명',\n",
    "    '제원관리번호',\n",
    "    'q1',\n",
    "    'q2',\n",
    "    'q3',\n",
    "    '테이블생성일자',\n",
    "]]"
   ]
  },
  {
   "cell_type": "code",
   "execution_count": 1837,
   "id": "d0d4bab5-6a8c-4fdd-870b-f311138ae91a",
   "metadata": {
    "tags": []
   },
   "outputs": [
    {
     "data": {
      "text/plain": [
       "Index(['EXHST_GAS_CERT_NO', 'INSP_MTHD', 'RVW_SE', 'RPRS_MNFCTR_NM',\n",
       "       'RPRS_VHCNM', 'MANG_MNG_NO', 'LOWR_QRT', 'MID_QRT', 'UP_QRT',\n",
       "       'LOAD_DT'],\n",
       "      dtype='object')"
      ]
     },
     "execution_count": 1837,
     "metadata": {},
     "output_type": "execute_result"
    }
   ],
   "source": [
    "cdict = {\n",
    "    '배출가스인증번호':'EXHST_GAS_CERT_NO',\n",
    "    '검사방법':'INSP_MTHD',\n",
    "    '검토구분':'RVW_SE',\n",
    "    '제작사명':'RPRS_MNFCTR_NM',\n",
    "    '차명':'RPRS_VHCNM', \n",
    "    '제원관리번호':'MANG_MNG_NO',\n",
    "    'q1':'LOWR_QRT',\n",
    "    'q2':'MID_QRT',\n",
    "    'q3':'UP_QRT',\n",
    "    '테이블생성일자':'LOAD_DT',\n",
    "}\n",
    "STD_BD_DAT_GRD4_CERT_NO_RVW = STD_BD_DAT_GRD4_CERT_NO_RVW.rename(columns=cdict)\n",
    "STD_BD_DAT_GRD4_CERT_NO_RVW.columns"
   ]
  },
  {
   "cell_type": "markdown",
   "id": "7ba6eb96-ebcc-4b3b-a130-0379ce4bd6f2",
   "metadata": {},
   "source": [
    "### [출력] STD_BD_DAT_GRD4_CERT_NO_RVW"
   ]
  },
  {
   "cell_type": "code",
   "execution_count": 1838,
   "id": "cf0e3178-94e6-40e2-93bd-c520608aa7b3",
   "metadata": {
    "tags": []
   },
   "outputs": [],
   "source": [
    "# expdf = STD_BD_DAT_GRD4_CERT_NO_RVW\n",
    "# table_nm = 'STD_BD_DAT_GRD4_CERT_NO_RVW'.upper()\n",
    "\n",
    "# # 테이블 생성\n",
    "# sql = 'create or replace table ' + table_nm + '( \\n'\n",
    "\n",
    "# for idx,column in enumerate(expdf.columns):\n",
    "#     # if 'float' in expdf[column].dtype.name:\n",
    "#     #     sql += column + ' float'\n",
    "#     # elif 'int' in expdf[column].dtype.name:\n",
    "#     #     sql += column + ' number'\n",
    "#     # else:\n",
    "#     sql += column + ' varchar(255)'\n",
    "\n",
    "#     if len(expdf.columns) - 1 != idx:\n",
    "#         sql += ','\n",
    "#     sql += '\\n'\n",
    "# sql += ')'    \n",
    "# we.execute(sql)\n",
    "\n",
    "# # 데이터 추가\n",
    "# # 1s\n",
    "# we.import_from_pandas(expdf, table_nm)\n",
    "\n",
    "# print(f'data export : {table_nm}')"
   ]
  },
  {
   "cell_type": "code",
   "execution_count": 1839,
   "id": "8a8dd59a-ab7f-4c38-9d17-74973670ea58",
   "metadata": {
    "tags": []
   },
   "outputs": [
    {
     "data": {
      "text/plain": [
       "(855175, 20)"
      ]
     },
     "execution_count": 1839,
     "metadata": {},
     "output_type": "execute_result"
    }
   ],
   "source": [
    "sidf.shape"
   ]
  },
  {
   "cell_type": "code",
   "execution_count": 1840,
   "id": "dabec9af-f8d3-4add-92ba-89fa6e7ccc2f",
   "metadata": {
    "tags": []
   },
   "outputs": [
    {
     "data": {
      "text/html": [
       "<div>\n",
       "<style scoped>\n",
       "    .dataframe tbody tr th:only-of-type {\n",
       "        vertical-align: middle;\n",
       "    }\n",
       "\n",
       "    .dataframe tbody tr th {\n",
       "        vertical-align: top;\n",
       "    }\n",
       "\n",
       "    .dataframe thead th {\n",
       "        text-align: right;\n",
       "    }\n",
       "</style>\n",
       "<table border=\"1\" class=\"dataframe\">\n",
       "  <thead>\n",
       "    <tr style=\"text-align: right;\">\n",
       "      <th></th>\n",
       "      <th>배출가스인증번호</th>\n",
       "      <th>제작사명</th>\n",
       "      <th>차명</th>\n",
       "      <th>검사방법</th>\n",
       "      <th>제원관리번호</th>\n",
       "      <th>차종</th>\n",
       "      <th>연료</th>\n",
       "      <th>최초연식</th>\n",
       "      <th>열화도</th>\n",
       "    </tr>\n",
       "  </thead>\n",
       "  <tbody>\n",
       "    <tr>\n",
       "      <th>0</th>\n",
       "      <td>5MY-AD-13-06</td>\n",
       "      <td>아우디폭스바겐코리아(주)</td>\n",
       "      <td>Phaeton 3.0 TDI</td>\n",
       "      <td>무부하검사(급가속)</td>\n",
       "      <td>02420004800011305</td>\n",
       "      <td>승용</td>\n",
       "      <td>경유</td>\n",
       "      <td>2006</td>\n",
       "      <td>0.03</td>\n",
       "    </tr>\n",
       "    <tr>\n",
       "      <th>1</th>\n",
       "      <td>5MY-AD-13-06</td>\n",
       "      <td>아우디폭스바겐코리아(주)</td>\n",
       "      <td>Phaeton 3.0 TDI</td>\n",
       "      <td>무부하검사(급가속)</td>\n",
       "      <td>02420004800021306</td>\n",
       "      <td>승용</td>\n",
       "      <td>경유</td>\n",
       "      <td>2007</td>\n",
       "      <td>0.03</td>\n",
       "    </tr>\n",
       "    <tr>\n",
       "      <th>2</th>\n",
       "      <td>5MY-AD-14-08</td>\n",
       "      <td>아우디폭스바겐코리아(주)</td>\n",
       "      <td>Passat 2.0 TDI</td>\n",
       "      <td>부하검사(KD-147)</td>\n",
       "      <td>02420006800031206</td>\n",
       "      <td>승용</td>\n",
       "      <td>경유</td>\n",
       "      <td>2007</td>\n",
       "      <td>0.04</td>\n",
       "    </tr>\n",
       "    <tr>\n",
       "      <th>3</th>\n",
       "      <td>5MY-AD-14-08</td>\n",
       "      <td>아우디폭스바겐코리아(주)</td>\n",
       "      <td>Passat 2.0 TDI</td>\n",
       "      <td>부하검사(KD-147)</td>\n",
       "      <td>02420006800111207</td>\n",
       "      <td>승용</td>\n",
       "      <td>경유</td>\n",
       "      <td>2008</td>\n",
       "      <td>0.04</td>\n",
       "    </tr>\n",
       "    <tr>\n",
       "      <th>4</th>\n",
       "      <td>5MY-AD-14-18</td>\n",
       "      <td>아우디폭스바겐코리아(주)</td>\n",
       "      <td>Golf 2.0 TDI</td>\n",
       "      <td>부하검사(KD-147)</td>\n",
       "      <td>02420004900031207</td>\n",
       "      <td>승용</td>\n",
       "      <td>경유</td>\n",
       "      <td>2008</td>\n",
       "      <td>0.09</td>\n",
       "    </tr>\n",
       "    <tr>\n",
       "      <th>...</th>\n",
       "      <td>...</td>\n",
       "      <td>...</td>\n",
       "      <td>...</td>\n",
       "      <td>...</td>\n",
       "      <td>...</td>\n",
       "      <td>...</td>\n",
       "      <td>...</td>\n",
       "      <td>...</td>\n",
       "      <td>...</td>\n",
       "    </tr>\n",
       "    <tr>\n",
       "      <th>1114</th>\n",
       "      <td>9MY-KM-14-41</td>\n",
       "      <td>기아자동차(주)</td>\n",
       "      <td>카니발</td>\n",
       "      <td>부하검사(KD-147)</td>\n",
       "      <td>A0110003800871309</td>\n",
       "      <td>승용</td>\n",
       "      <td>경유</td>\n",
       "      <td>2010</td>\n",
       "      <td>0.32</td>\n",
       "    </tr>\n",
       "    <tr>\n",
       "      <th>1115</th>\n",
       "      <td>9MY-KM-14-41</td>\n",
       "      <td>기아자동차(주)</td>\n",
       "      <td>카니발</td>\n",
       "      <td>부하검사(KD-147)</td>\n",
       "      <td>A0110003800901310</td>\n",
       "      <td>승용</td>\n",
       "      <td>경유</td>\n",
       "      <td>2011</td>\n",
       "      <td>0.33</td>\n",
       "    </tr>\n",
       "    <tr>\n",
       "      <th>1116</th>\n",
       "      <td>9MY-KM-14-41</td>\n",
       "      <td>기아자동차(주)</td>\n",
       "      <td>카니발</td>\n",
       "      <td>부하검사(KD-147)</td>\n",
       "      <td>A0110003800911310</td>\n",
       "      <td>승용</td>\n",
       "      <td>경유</td>\n",
       "      <td>2011</td>\n",
       "      <td>0.32</td>\n",
       "    </tr>\n",
       "    <tr>\n",
       "      <th>1117</th>\n",
       "      <td>9MY-PA-13-1</td>\n",
       "      <td>(주)볼보자동차코리아</td>\n",
       "      <td>볼보 XC60D5</td>\n",
       "      <td>무부하검사(급가속)</td>\n",
       "      <td>00920003200021309</td>\n",
       "      <td>승용</td>\n",
       "      <td>경유</td>\n",
       "      <td>2010</td>\n",
       "      <td>0.03</td>\n",
       "    </tr>\n",
       "    <tr>\n",
       "      <th>1118</th>\n",
       "      <td>AMY-JL-13-9</td>\n",
       "      <td>(주)재규어랜드로버코리아</td>\n",
       "      <td>프리랜더 TD4</td>\n",
       "      <td>무부하검사(급가속)</td>\n",
       "      <td>04220000900021309</td>\n",
       "      <td>승용</td>\n",
       "      <td>경유</td>\n",
       "      <td>2010</td>\n",
       "      <td>0.01</td>\n",
       "    </tr>\n",
       "  </tbody>\n",
       "</table>\n",
       "<p>1119 rows × 9 columns</p>\n",
       "</div>"
      ],
      "text/plain": [
       "          배출가스인증번호           제작사명               차명          검사방법   \n",
       "0     5MY-AD-13-06  아우디폭스바겐코리아(주)  Phaeton 3.0 TDI    무부하검사(급가속)  \\\n",
       "1     5MY-AD-13-06  아우디폭스바겐코리아(주)  Phaeton 3.0 TDI    무부하검사(급가속)   \n",
       "2     5MY-AD-14-08  아우디폭스바겐코리아(주)   Passat 2.0 TDI  부하검사(KD-147)   \n",
       "3     5MY-AD-14-08  아우디폭스바겐코리아(주)   Passat 2.0 TDI  부하검사(KD-147)   \n",
       "4     5MY-AD-14-18  아우디폭스바겐코리아(주)     Golf 2.0 TDI  부하검사(KD-147)   \n",
       "...            ...            ...              ...           ...   \n",
       "1114  9MY-KM-14-41       기아자동차(주)              카니발  부하검사(KD-147)   \n",
       "1115  9MY-KM-14-41       기아자동차(주)              카니발  부하검사(KD-147)   \n",
       "1116  9MY-KM-14-41       기아자동차(주)              카니발  부하검사(KD-147)   \n",
       "1117   9MY-PA-13-1    (주)볼보자동차코리아        볼보 XC60D5    무부하검사(급가속)   \n",
       "1118   AMY-JL-13-9  (주)재규어랜드로버코리아         프리랜더 TD4    무부하검사(급가속)   \n",
       "\n",
       "                 제원관리번호  차종  연료  최초연식  열화도  \n",
       "0     02420004800011305  승용  경유  2006 0.03  \n",
       "1     02420004800021306  승용  경유  2007 0.03  \n",
       "2     02420006800031206  승용  경유  2007 0.04  \n",
       "3     02420006800111207  승용  경유  2008 0.04  \n",
       "4     02420004900031207  승용  경유  2008 0.09  \n",
       "...                 ...  ..  ..   ...  ...  \n",
       "1114  A0110003800871309  승용  경유  2010 0.32  \n",
       "1115  A0110003800901310  승용  경유  2011 0.33  \n",
       "1116  A0110003800911310  승용  경유  2011 0.32  \n",
       "1117  00920003200021309  승용  경유  2010 0.03  \n",
       "1118  04220000900021309  승용  경유  2010 0.01  \n",
       "\n",
       "[1119 rows x 9 columns]"
      ]
     },
     "execution_count": 1840,
     "metadata": {},
     "output_type": "execute_result"
    }
   ],
   "source": [
    "# 수정 시작(2023.11.03)\n",
    "grp_sidf = sidf.groupby(['배출가스인증번호', '제작사명', '차명', '검사방법', '제원관리번호']).agg({'차종':lambda x:x.value_counts().index[0], '연료':lambda x:x.value_counts().index[0], '차량연식':lambda x:x.nsmallest(1), 'SI':'mean'}).reset_index()\n",
    "grp_sidf = grp_sidf.rename(columns={'차량연식':'최초연식', 'SI':'열화도'})\n",
    "grp_sidf\n",
    "# 수정 끝(2023.11.03)"
   ]
  },
  {
   "cell_type": "code",
   "execution_count": 1841,
   "id": "be194bfd-d642-4d4a-9e38-5f52b33fd749",
   "metadata": {
    "tags": []
   },
   "outputs": [
    {
     "data": {
      "text/plain": [
       "(1119, 10)"
      ]
     },
     "execution_count": 1841,
     "metadata": {},
     "output_type": "execute_result"
    }
   ],
   "source": [
    "df71 = grp_sidf.merge(grp7[['배출가스인증번호', '제원관리번호', '제작사명', '차명', '검사방법', '검토구분']], on=['배출가스인증번호', '제원관리번호', '제작사명', '차명', '검사방법'],how='left')\n",
    "df71.shape"
   ]
  },
  {
   "cell_type": "code",
   "execution_count": 1842,
   "id": "6872f073-0f70-4f82-b479-7d69f0aafd3d",
   "metadata": {
    "tags": []
   },
   "outputs": [],
   "source": [
    "df71['테이블생성일자'] = today_date"
   ]
  },
  {
   "cell_type": "code",
   "execution_count": 1843,
   "id": "02678216-ebc1-47db-b9a5-dc11a8d32cfc",
   "metadata": {
    "tags": []
   },
   "outputs": [],
   "source": [
    "STD_BD_DAT_GRD4_SI = df71[[\n",
    "    '배출가스인증번호', \n",
    "    '검사방법', \n",
    "    '검토구분', \n",
    "    '제작사명', \n",
    "    '차명', \n",
    "    '차종', \n",
    "    '연료', \n",
    "    '최초연식', \n",
    "    '열화도', \n",
    "    '테이블생성일자', \n",
    "]]"
   ]
  },
  {
   "cell_type": "code",
   "execution_count": 1844,
   "id": "2bf3042c-8080-4134-90f9-79c3500a4be8",
   "metadata": {
    "tags": []
   },
   "outputs": [
    {
     "data": {
      "text/plain": [
       "Index(['EXHST_GAS_CERT_NO', 'INSP_MTHD', 'RVW_SE', 'RPRS_MNFCTR_NM',\n",
       "       'RPRS_VHCNM', 'RPRS_VHCTY_CD', 'RPRS_FUEL', 'FRST_YRIDNW', 'SI',\n",
       "       'LOAD_DT'],\n",
       "      dtype='object')"
      ]
     },
     "execution_count": 1844,
     "metadata": {},
     "output_type": "execute_result"
    }
   ],
   "source": [
    "cdict = {\n",
    "    '배출가스인증번호':'EXHST_GAS_CERT_NO', \n",
    "    '검사방법':'INSP_MTHD', \n",
    "    '검토구분':'RVW_SE', \n",
    "    '제작사명':'RPRS_MNFCTR_NM', \n",
    "    '차명':'RPRS_VHCNM', \n",
    "    '차종':'RPRS_VHCTY_CD', \n",
    "    '연료':'RPRS_FUEL', \n",
    "    '최초연식':'FRST_YRIDNW', \n",
    "    '열화도':'SI', \n",
    "    '테이블생성일자':'LOAD_DT', \n",
    "}\n",
    "STD_BD_DAT_GRD4_SI = STD_BD_DAT_GRD4_SI.rename(columns=cdict)\n",
    "STD_BD_DAT_GRD4_SI.columns"
   ]
  },
  {
   "cell_type": "code",
   "execution_count": 1845,
   "id": "eacd7fd2-379e-4487-b4b8-31f2bd3533f8",
   "metadata": {},
   "outputs": [
    {
     "data": {
      "text/plain": [
       "Index(['EXHST_GAS_CERT_NO', 'INSP_MTHD', 'RVW_SE', 'RPRS_MNFCTR_NM',\n",
       "       'RPRS_VHCNM', 'RPRS_VHCTY_CD', 'RPRS_FUEL', 'FRST_YRIDNW', 'SI',\n",
       "       'LOAD_DT'],\n",
       "      dtype='object')"
      ]
     },
     "execution_count": 1845,
     "metadata": {},
     "output_type": "execute_result"
    }
   ],
   "source": [
    "STD_BD_DAT_GRD4_SI.columns"
   ]
  },
  {
   "cell_type": "markdown",
   "id": "5d6f98c4-7d7f-4d09-ba80-2d36a7896f09",
   "metadata": {},
   "source": [
    "### [출력] STD_BD_DAT_GRD4_SI"
   ]
  },
  {
   "cell_type": "code",
   "execution_count": 1846,
   "id": "a3462684-05ae-4d87-a155-1f86203a00a0",
   "metadata": {},
   "outputs": [],
   "source": [
    "# expdf = STD_BD_DAT_GRD4_SI\n",
    "# table_nm = 'STD_BD_DAT_GRD4_SI'.upper()\n",
    "\n",
    "# # 테이블 생성\n",
    "# sql = 'create or replace table ' + table_nm + '( \\n'\n",
    "\n",
    "# for idx,column in enumerate(expdf.columns):\n",
    "#     # if 'float' in expdf[column].dtype.name:\n",
    "#     #     sql += column + ' float'\n",
    "#     # elif 'int' in expdf[column].dtype.name:\n",
    "#     #     sql += column + ' number'\n",
    "#     # else:\n",
    "#     sql += column + ' varchar(255)'\n",
    "\n",
    "#     if len(expdf.columns) - 1 != idx:\n",
    "#         sql += ','\n",
    "#     sql += '\\n'\n",
    "# sql += ')'    \n",
    "# we.execute(sql)\n",
    "\n",
    "# # 데이터 추가\n",
    "# # 1s\n",
    "# we.import_from_pandas(expdf, table_nm)\n",
    "\n",
    "# print(f'data export : {table_nm}')"
   ]
  },
  {
   "cell_type": "code",
   "execution_count": 1847,
   "id": "98cfe500-b817-4f4c-bc1d-332fd07c3cba",
   "metadata": {
    "tags": []
   },
   "outputs": [
    {
     "data": {
      "text/plain": [
       "(855175, 48)"
      ]
     },
     "execution_count": 1847,
     "metadata": {},
     "output_type": "execute_result"
    }
   ],
   "source": [
    "df5.shape"
   ]
  },
  {
   "cell_type": "code",
   "execution_count": 1848,
   "id": "24e05f5c-6cba-4fb4-95ed-cedf8bc3900c",
   "metadata": {
    "tags": []
   },
   "outputs": [],
   "source": [
    "STD_BD_GRD4_CAR_CURSTT_MOD = df5[[\n",
    "    '테이블생성일자', \n",
    "    '차대번호', \n",
    "    '배출가스인증번호', \n",
    "    '제원관리번호', \n",
    "    '제작사명', \n",
    "    '차명', \n",
    "    '검사방법', \n",
    "    '무부하매연측정치1', \n",
    "]]"
   ]
  },
  {
   "cell_type": "code",
   "execution_count": 1849,
   "id": "36c3e6d8-a176-497d-bee7-0f67bfd61958",
   "metadata": {
    "tags": []
   },
   "outputs": [
    {
     "data": {
      "text/plain": [
       "Index(['LOAD_DT', 'VIN', 'EXHST_GAS_CERT_NO_MOD', 'MANG_MNG_NO', 'MNFCTR_NM',\n",
       "       'VHCNM', 'INSP_MTHD', 'NOLOD_SMO_MEVLU1'],\n",
       "      dtype='object')"
      ]
     },
     "execution_count": 1849,
     "metadata": {},
     "output_type": "execute_result"
    }
   ],
   "source": [
    "cdict = {\n",
    "        '테이블생성일자':'LOAD_DT',\n",
    "        '차대번호':'VIN', \n",
    "        '배출가스인증번호':'EXHST_GAS_CERT_NO_MOD', \n",
    "        '제원관리번호':'MANG_MNG_NO', \n",
    "        '제작사명':'MNFCTR_NM', \n",
    "        '차명':'VHCNM', \n",
    "        '검사방법':'INSP_MTHD', \n",
    "        '무부하매연측정치1':'NOLOD_SMO_MEVLU1', \n",
    "}\n",
    "STD_BD_GRD4_CAR_CURSTT_MOD = STD_BD_GRD4_CAR_CURSTT_MOD.rename(columns=ch_col_dict)\n",
    "STD_BD_GRD4_CAR_CURSTT_MOD.columns"
   ]
  },
  {
   "cell_type": "markdown",
   "id": "dda6c601-cd10-4d54-a303-02a397e09108",
   "metadata": {},
   "source": [
    "### [출력] STD_BD_GRD4_CAR_CURSTT_MOD"
   ]
  },
  {
   "cell_type": "code",
   "execution_count": 1850,
   "id": "5d710624-d12b-40bf-992e-7f7d09e79aaa",
   "metadata": {},
   "outputs": [],
   "source": [
    "# expdf = STD_BD_GRD4_CAR_CURSTT_MOD\n",
    "# table_nm = 'STD_BD_GRD4_CAR_CURSTT_MOD'.upper()\n",
    "\n",
    "# # 테이블 생성\n",
    "# sql = 'create or replace table ' + table_nm + '( \\n'\n",
    "\n",
    "# for idx,column in enumerate(expdf.columns):\n",
    "#     # if 'float' in expdf[column].dtype.name:\n",
    "#     #     sql += column + ' float'\n",
    "#     # elif 'int' in expdf[column].dtype.name:\n",
    "#     #     sql += column + ' number'\n",
    "#     # else:\n",
    "#     sql += column + ' varchar(255)'\n",
    "\n",
    "#     if len(expdf.columns) - 1 != idx:\n",
    "#         sql += ','\n",
    "#     sql += '\\n'\n",
    "# sql += ')'    \n",
    "# we.execute(sql)\n",
    "\n",
    "# # 데이터 추가\n",
    "# # 1s\n",
    "# we.import_from_pandas(expdf, table_nm)\n",
    "\n",
    "# print(f'data export : {table_nm}')"
   ]
  },
  {
   "cell_type": "markdown",
   "id": "7da37132-023e-4a3e-8341-92ae2529d9b8",
   "metadata": {},
   "source": [
    "## 1-1 code end ##################################################################"
   ]
  },
  {
   "cell_type": "markdown",
   "id": "68e4734f-77e0-40ba-a813-c68956c549d7",
   "metadata": {},
   "source": [
    "## 1-2 start"
   ]
  },
  {
   "cell_type": "code",
   "execution_count": 1851,
   "id": "040b3ab9-8c76-4ea1-9289-4301c3b604f0",
   "metadata": {
    "tags": []
   },
   "outputs": [
    {
     "data": {
      "text/plain": [
       "(1906846, 15)"
      ]
     },
     "execution_count": 1851,
     "metadata": {},
     "output_type": "execute_result"
    }
   ],
   "source": [
    "carr.shape"
   ]
  },
  {
   "cell_type": "code",
   "execution_count": 1852,
   "id": "8c2110bb-495d-4de3-882b-8b8a4192daea",
   "metadata": {},
   "outputs": [
    {
     "data": {
      "text/plain": [
       "(1906846, 26)"
      ]
     },
     "execution_count": 1852,
     "metadata": {},
     "output_type": "execute_result"
    }
   ],
   "source": [
    "# 전체 4등급 등록&제원 병합\n",
    "cse = carr.merge(srcr, on='제원관리번호', how='left')\n",
    "cse.shape"
   ]
  },
  {
   "cell_type": "code",
   "execution_count": 1853,
   "id": "2dc3bcb5-7daa-4af2-b8c8-96db38a255c8",
   "metadata": {},
   "outputs": [],
   "source": [
    "cse['법정동코드'] = cse['법정동코드'].astype('str')\n",
    "cse['법정동코드'] = cse['법정동코드'].str[:5] + '00000'\n",
    "cse['법정동코드'] = pd.to_numeric(cse['법정동코드'])"
   ]
  },
  {
   "cell_type": "code",
   "execution_count": 1854,
   "id": "d33b93fe-6283-416e-b984-60f47077e17d",
   "metadata": {},
   "outputs": [
    {
     "data": {
      "text/plain": [
       "(1906846, 30)"
      ]
     },
     "execution_count": 1854,
     "metadata": {},
     "output_type": "execute_result"
    }
   ],
   "source": [
    "# 시도, 시군구 추가\n",
    "csec = cse.merge(coder, on='법정동코드', how='left')\n",
    "csec.shape"
   ]
  },
  {
   "cell_type": "code",
   "execution_count": 1855,
   "id": "e566eb55-33c3-4504-8416-7ccbc19ad31d",
   "metadata": {
    "tags": []
   },
   "outputs": [
    {
     "data": {
      "text/plain": [
       "0"
      ]
     },
     "execution_count": 1855,
     "metadata": {},
     "output_type": "execute_result"
    }
   ],
   "source": [
    "csec['시도'].isnull().sum()"
   ]
  },
  {
   "cell_type": "code",
   "execution_count": 1856,
   "id": "3938920c-53f1-457f-b31d-69556d789a54",
   "metadata": {},
   "outputs": [],
   "source": [
    "# ### 매칭 안되는 지역 처리\n",
    "# # 주소 수정\n",
    "# csec.loc[csec['법정동코드'] == 5172035031, ['시도', '시군구']] = ['강원특별자치도', '홍천군'] # 강원특별자치도 홍천군\n",
    "# csec.loc[csec['법정동코드'] == 5180031023, ['시도', '시군구']] = ['강원특별자치도', '양구군'] # \n",
    "# csec.loc[csec['법정동코드'] == 5180031031, ['시도', '시군구']] = ['강원특별자치도', '양구군'] # \n",
    "# csec.loc[csec['법정동코드'] == 5172035030, ['시도', '시군구']] = ['강원특별자치도', '홍천군'] # \n",
    "# csec.loc[csec['법정동코드'] == 5180031028, ['시도', '시군구']] = ['강원특별자치도', '양구군'] # \n",
    "\n",
    "# csec.loc[csec['법정동코드'] == 5172035021, ['시도', '시군구']] = ['강원특별자치도', '홍천군'] # \n",
    "# csec.loc[csec['법정동코드'] == 5180031025, ['시도', '시군구']] = ['강원특별자치도', '양구군'] # \n",
    "# csec.loc[csec['법정동코드'] == 4165052000, ['시도', '시군구']] = ['경기도', '포천시'] # 경기도 포천시 선단동\n",
    "# csec.loc[csec['법정동코드'] == 5172035023, ['시도', '시군구']] = ['강원특별자치도', '홍천군'] # \n",
    "# csec.loc[csec['법정동코드'] == 5180031027, ['시도', '시군구']] = ['강원특별자치도', '양구군'] # \n",
    "\n",
    "# csec.loc[csec['법정동코드'] == 5172035024, ['시도', '시군구']] = ['강원특별자치도', '홍천군'] # \n",
    "# csec.loc[csec['법정동코드'] == 5175037022, ['시도', '시군구']] = ['강원특별자치도', '영월군'] # \n",
    "# csec.loc[csec['법정동코드'] == 4163055000, ['시도', '시군구']] = ['경기도', '양주시'] # 경기도 양주시 회천3동\n",
    "# csec.loc[csec['법정동코드'] == 5180031033, ['시도', '시군구']] = ['강원특별자치도', '양구군'] # 경기도 양주시 회천3동"
   ]
  },
  {
   "cell_type": "code",
   "execution_count": 1857,
   "id": "441c7a67-9f4b-4d93-b41c-a1de44d714f3",
   "metadata": {},
   "outputs": [
    {
     "data": {
      "text/plain": [
       "(1906846, 34)"
      ]
     },
     "execution_count": 1857,
     "metadata": {},
     "output_type": "execute_result"
    }
   ],
   "source": [
    "# 조기폐차 추가\n",
    "dfe = csec.merge(elpm, on='차대번호', how='left')\n",
    "dfe.shape"
   ]
  },
  {
   "cell_type": "code",
   "execution_count": 1858,
   "id": "31da9409-c4c8-45de-95da-72ba7be8667d",
   "metadata": {},
   "outputs": [
    {
     "data": {
      "text/plain": [
       "(1411519, 34)"
      ]
     },
     "execution_count": 1858,
     "metadata": {},
     "output_type": "execute_result"
    }
   ],
   "source": [
    "df1 = dfe[dfe['연료'] == '경유'].reset_index(drop=True)\n",
    "df1.shape"
   ]
  },
  {
   "cell_type": "code",
   "execution_count": 1859,
   "id": "3a2f38cb-7f27-4c9d-b757-a60fcd21a66e",
   "metadata": {},
   "outputs": [],
   "source": [
    "# !!! 수정 시작(2023.10.12)"
   ]
  },
  {
   "cell_type": "code",
   "execution_count": 1860,
   "id": "34d419d6-7b2a-4be0-9a2a-e276295e57e3",
   "metadata": {},
   "outputs": [
    {
     "data": {
      "text/plain": [
       "1411519"
      ]
     },
     "execution_count": 1860,
     "metadata": {},
     "output_type": "execute_result"
    }
   ],
   "source": [
    "# 조기폐차 해당 차량 추출\n",
    "idx = df1.loc[df1['조기폐차최종승인YN'] == 'Y'].index\n",
    "df1_ey = df1.loc[idx]\n",
    "df1_en = df1.loc[list(set(df1.index) - set(idx))]\n",
    "df1_ey.shape[0] + df1_en.shape[0]"
   ]
  },
  {
   "cell_type": "code",
   "execution_count": 1861,
   "id": "c1f374d6-794d-4434-9571-186b0b27e4fb",
   "metadata": {},
   "outputs": [
    {
     "data": {
      "text/html": [
       "<div>\n",
       "<style scoped>\n",
       "    .dataframe tbody tr th:only-of-type {\n",
       "        vertical-align: middle;\n",
       "    }\n",
       "\n",
       "    .dataframe tbody tr th {\n",
       "        vertical-align: top;\n",
       "    }\n",
       "\n",
       "    .dataframe thead th {\n",
       "        text-align: right;\n",
       "    }\n",
       "</style>\n",
       "<table border=\"1\" class=\"dataframe\">\n",
       "  <thead>\n",
       "    <tr style=\"text-align: right;\">\n",
       "      <th></th>\n",
       "      <th>말소일자</th>\n",
       "      <th>기준연월</th>\n",
       "    </tr>\n",
       "  </thead>\n",
       "  <tbody>\n",
       "    <tr>\n",
       "      <th>6</th>\n",
       "      <td>20230418.0</td>\n",
       "      <td>2023.04</td>\n",
       "    </tr>\n",
       "    <tr>\n",
       "      <th>7</th>\n",
       "      <td>20230726.0</td>\n",
       "      <td>2023.07</td>\n",
       "    </tr>\n",
       "    <tr>\n",
       "      <th>8</th>\n",
       "      <td>20230726.0</td>\n",
       "      <td>2023.07</td>\n",
       "    </tr>\n",
       "    <tr>\n",
       "      <th>9</th>\n",
       "      <td>20230726.0</td>\n",
       "      <td>2023.07</td>\n",
       "    </tr>\n",
       "    <tr>\n",
       "      <th>12</th>\n",
       "      <td>20230921.0</td>\n",
       "      <td>2023.09</td>\n",
       "    </tr>\n",
       "  </tbody>\n",
       "</table>\n",
       "</div>"
      ],
      "text/plain": [
       "          말소일자     기준연월\n",
       "6   20230418.0  2023.04\n",
       "7   20230726.0  2023.07\n",
       "8   20230726.0  2023.07\n",
       "9   20230726.0  2023.07\n",
       "12  20230921.0  2023.09"
      ]
     },
     "execution_count": 1861,
     "metadata": {},
     "output_type": "execute_result"
    }
   ],
   "source": [
    "# 기준연월 추가\n",
    "df1_ey['말소일자'] = df1_ey['말소일자'].astype('str')\n",
    "df1_ey['기준연월'] = df1_ey['말소일자'].str[:4] + '.' + df1_ey['말소일자'].str[4:6]\n",
    "df1_ey[['말소일자', '기준연월']].head()"
   ]
  },
  {
   "cell_type": "code",
   "execution_count": 1862,
   "id": "e0095400-c292-4162-860e-8e59f712f3a3",
   "metadata": {},
   "outputs": [
    {
     "data": {
      "text/plain": [
       "(1411519, 35)"
      ]
     },
     "execution_count": 1862,
     "metadata": {},
     "output_type": "execute_result"
    }
   ],
   "source": [
    "# 다시 병합\n",
    "df1 = pd.concat([df1_ey, df1_en], ignore_index=True)\n",
    "df1.shape"
   ]
  },
  {
   "cell_type": "code",
   "execution_count": 1863,
   "id": "b6c37299-91a8-4ca8-bac5-dfc56752550a",
   "metadata": {
    "tags": []
   },
   "outputs": [
    {
     "data": {
      "text/plain": [
       "array(['Y', 'D', 'X', 'M', nan], dtype=object)"
      ]
     },
     "execution_count": 1863,
     "metadata": {},
     "output_type": "execute_result"
    }
   ],
   "source": [
    "df1['조기폐차상태코드'].unique()"
   ]
  },
  {
   "cell_type": "code",
   "execution_count": 1864,
   "id": "07fdeb0b-a9ff-4667-b760-7c3988642022",
   "metadata": {},
   "outputs": [],
   "source": [
    "# !!! 수정 끝(2023.10.12)"
   ]
  },
  {
   "cell_type": "code",
   "execution_count": 1865,
   "id": "370b7657-ad02-47ad-a21c-5389f307502f",
   "metadata": {
    "tags": []
   },
   "outputs": [],
   "source": [
    "# !!! 수정 시작(2023.10.24)"
   ]
  },
  {
   "cell_type": "code",
   "execution_count": 1866,
   "id": "d8aca689-298e-416d-9a7c-2e86f895d019",
   "metadata": {
    "tags": []
   },
   "outputs": [
    {
     "data": {
      "text/plain": [
       "50783    20201210.0\n",
       "Name: 말소일자, dtype: object"
      ]
     },
     "execution_count": 1866,
     "metadata": {},
     "output_type": "execute_result"
    }
   ],
   "source": [
    "df1.loc[df1['말소일자'] < '20230201', '말소일자']"
   ]
  },
  {
   "cell_type": "code",
   "execution_count": 1867,
   "id": "7b1e6cc4-bb0e-438b-84e1-c7cc9c50b20e",
   "metadata": {
    "tags": []
   },
   "outputs": [
    {
     "data": {
      "text/plain": [
       "4294     20320601.0\n",
       "4316     20260530.0\n",
       "15056    20240410.0\n",
       "15470    20320801.0\n",
       "23373    20320526.0\n",
       "24126    20320418.0\n",
       "31442    20320406.0\n",
       "34501    20320419.0\n",
       "37460    20320511.0\n",
       "44249    20320413.0\n",
       "47758    20320526.0\n",
       "48786    20320526.0\n",
       "Name: 말소일자, dtype: object"
      ]
     },
     "execution_count": 1867,
     "metadata": {},
     "output_type": "execute_result"
    }
   ],
   "source": [
    "df1.loc[df1['말소일자'] > today_date, '말소일자']"
   ]
  },
  {
   "cell_type": "code",
   "execution_count": 1868,
   "id": "47228127-39d0-486c-906c-b05471164ba3",
   "metadata": {
    "tags": []
   },
   "outputs": [
    {
     "data": {
      "text/plain": [
       "(1411506, 35)"
      ]
     },
     "execution_count": 1868,
     "metadata": {},
     "output_type": "execute_result"
    }
   ],
   "source": [
    "# 조기폐차 이상치 말소일자 제거\n",
    "df1 = df1[(df1['말소일자'] >= '20230201') & (df1['말소일자'] <= today_date) | (df1['말소일자'].isnull())].reset_index(drop=True)\n",
    "df1.shape"
   ]
  },
  {
   "cell_type": "code",
   "execution_count": 1869,
   "id": "40b4e176-3856-4b02-93df-d63c624f91f3",
   "metadata": {
    "tags": []
   },
   "outputs": [],
   "source": [
    "# !!! 수정 끝(2023.10.24)"
   ]
  },
  {
   "cell_type": "code",
   "execution_count": 1870,
   "id": "2896b253-5e9c-4618-a22e-946b86cf751d",
   "metadata": {},
   "outputs": [
    {
     "name": "stderr",
     "output_type": "stream",
     "text": [
      "/tmp/ipykernel_2016934/689271085.py:15: SettingWithCopyWarning: \n",
      "A value is trying to be set on a copy of a slice from a DataFrame.\n",
      "Try using .loc[row_indexer,col_indexer] = value instead\n",
      "\n",
      "See the caveats in the documentation: https://pandas.pydata.org/pandas-docs/stable/user_guide/indexing.html#returning-a-view-versus-a-copy\n",
      "  STD_BD_GRD4_ELPDSRC_CURSTT['테이블생성일자'] = today_date\n"
     ]
    }
   ],
   "source": [
    "STD_BD_GRD4_ELPDSRC_CURSTT = df1[[\n",
    "    '기준연월',\n",
    "    '차대번호', \n",
    "    '법정동코드', \n",
    "    '차종', \n",
    "    '용도', \n",
    "    '연료', \n",
    "    '차종유형', \n",
    "    '시도',\n",
    "    '시군구', \n",
    "    '조기폐차상태코드', \n",
    "    '조기폐차최종승인YN',\n",
    "]]\n",
    "today_date = datetime.today().strftime(\"%Y%m%d\")\n",
    "STD_BD_GRD4_ELPDSRC_CURSTT['테이블생성일자'] = today_date\n",
    "STD_BD_GRD4_ELPDSRC_CURSTT = STD_BD_GRD4_ELPDSRC_CURSTT[[\n",
    "    '기준연월',\n",
    "    '차대번호', \n",
    "    '법정동코드', \n",
    "    '차종', \n",
    "    '용도', \n",
    "    '연료', \n",
    "    '차종유형', \n",
    "    '시도', \n",
    "    '시군구', \n",
    "    '조기폐차상태코드', \n",
    "    '조기폐차최종승인YN', \n",
    "    '테이블생성일자', \n",
    "]]\n",
    "chc_dict = {\n",
    "    '기준연월':'CRTR_YM', \n",
    "    '차대번호':'VIN', \n",
    "    '법정동코드':'STDG_CD', \n",
    "    '차종':'VHCTY_CD', \n",
    "    '용도':'PURPS_CD2', \n",
    "    '연료':'FUEL_CD', \n",
    "    '차종유형':'VHCTY_TY', \n",
    "    '시도':'CTPV', \n",
    "    '시군구':'SGG', \n",
    "    '조기폐차상태코드':'ELPDSRC_STTS_CD',\n",
    "    '조기폐차최종승인YN':'ELPDSRC_LAST_APRV_YN', # !!! 수정\n",
    "    '테이블생성일자':'LOAD_DT', \n",
    "}\n",
    "STD_BD_GRD4_ELPDSRC_CURSTT = STD_BD_GRD4_ELPDSRC_CURSTT.rename(columns=chc_dict)"
   ]
  },
  {
   "cell_type": "code",
   "execution_count": 1871,
   "id": "02db1754-afc2-4430-86c4-453de13a0007",
   "metadata": {},
   "outputs": [
    {
     "data": {
      "text/plain": [
       "Index(['CRTR_YM', 'VIN', 'STDG_CD', 'VHCTY_CD', 'PURPS_CD2', 'FUEL_CD',\n",
       "       'VHCTY_TY', 'CTPV', 'SGG', 'ELPDSRC_STTS_CD', 'ELPDSRC_LAST_APRV_YN',\n",
       "       'LOAD_DT'],\n",
       "      dtype='object')"
      ]
     },
     "execution_count": 1871,
     "metadata": {},
     "output_type": "execute_result"
    }
   ],
   "source": [
    "STD_BD_GRD4_ELPDSRC_CURSTT.columns"
   ]
  },
  {
   "cell_type": "code",
   "execution_count": 1872,
   "id": "58de1e6f-f6ab-4d39-b558-fbf7adf4fb48",
   "metadata": {
    "tags": []
   },
   "outputs": [
    {
     "data": {
      "text/plain": [
       "array(['Y', 'D', 'X', 'M', nan], dtype=object)"
      ]
     },
     "execution_count": 1872,
     "metadata": {},
     "output_type": "execute_result"
    }
   ],
   "source": [
    "STD_BD_GRD4_ELPDSRC_CURSTT.ELPDSRC_STTS_CD.unique()"
   ]
  },
  {
   "cell_type": "code",
   "execution_count": 1873,
   "id": "5048708d-9221-48ae-a92f-e72735f33b76",
   "metadata": {
    "tags": []
   },
   "outputs": [
    {
     "data": {
      "text/html": [
       "<div>\n",
       "<style scoped>\n",
       "    .dataframe tbody tr th:only-of-type {\n",
       "        vertical-align: middle;\n",
       "    }\n",
       "\n",
       "    .dataframe tbody tr th {\n",
       "        vertical-align: top;\n",
       "    }\n",
       "\n",
       "    .dataframe thead th {\n",
       "        text-align: right;\n",
       "    }\n",
       "</style>\n",
       "<table border=\"1\" class=\"dataframe\">\n",
       "  <thead>\n",
       "    <tr style=\"text-align: right;\">\n",
       "      <th></th>\n",
       "      <th>CRTR_YM</th>\n",
       "      <th>VIN</th>\n",
       "      <th>STDG_CD</th>\n",
       "      <th>VHCTY_CD</th>\n",
       "      <th>PURPS_CD2</th>\n",
       "      <th>FUEL_CD</th>\n",
       "      <th>VHCTY_TY</th>\n",
       "      <th>CTPV</th>\n",
       "      <th>SGG</th>\n",
       "      <th>ELPDSRC_STTS_CD</th>\n",
       "      <th>ELPDSRC_LAST_APRV_YN</th>\n",
       "      <th>LOAD_DT</th>\n",
       "    </tr>\n",
       "  </thead>\n",
       "  <tbody>\n",
       "    <tr>\n",
       "      <th>0</th>\n",
       "      <td>2023.04</td>\n",
       "      <td>KMHSJ81XBAU555611</td>\n",
       "      <td>2826000000</td>\n",
       "      <td>승용</td>\n",
       "      <td>개인용</td>\n",
       "      <td>경유</td>\n",
       "      <td>대형</td>\n",
       "      <td>인천광역시</td>\n",
       "      <td>서구</td>\n",
       "      <td>Y</td>\n",
       "      <td>Y</td>\n",
       "      <td>20231103</td>\n",
       "    </tr>\n",
       "    <tr>\n",
       "      <th>1</th>\n",
       "      <td>2023.07</td>\n",
       "      <td>KMFZSY7JAAU673260</td>\n",
       "      <td>4374000000</td>\n",
       "      <td>화물</td>\n",
       "      <td>개인용</td>\n",
       "      <td>경유</td>\n",
       "      <td>소형</td>\n",
       "      <td>충청북도</td>\n",
       "      <td>영동군</td>\n",
       "      <td>Y</td>\n",
       "      <td>Y</td>\n",
       "      <td>20231103</td>\n",
       "    </tr>\n",
       "    <tr>\n",
       "      <th>2</th>\n",
       "      <td>2023.07</td>\n",
       "      <td>KMFZSY7JACU767880</td>\n",
       "      <td>4374000000</td>\n",
       "      <td>화물</td>\n",
       "      <td>개인용</td>\n",
       "      <td>경유</td>\n",
       "      <td>소형</td>\n",
       "      <td>충청북도</td>\n",
       "      <td>영동군</td>\n",
       "      <td>Y</td>\n",
       "      <td>Y</td>\n",
       "      <td>20231103</td>\n",
       "    </tr>\n",
       "    <tr>\n",
       "      <th>3</th>\n",
       "      <td>2023.07</td>\n",
       "      <td>KMFZCY7JAAU633300</td>\n",
       "      <td>4374000000</td>\n",
       "      <td>화물</td>\n",
       "      <td>개인용</td>\n",
       "      <td>경유</td>\n",
       "      <td>소형</td>\n",
       "      <td>충청북도</td>\n",
       "      <td>영동군</td>\n",
       "      <td>Y</td>\n",
       "      <td>Y</td>\n",
       "      <td>20231103</td>\n",
       "    </tr>\n",
       "    <tr>\n",
       "      <th>4</th>\n",
       "      <td>2023.09</td>\n",
       "      <td>KNHMB76439S287945</td>\n",
       "      <td>1126000000</td>\n",
       "      <td>승합</td>\n",
       "      <td>개인용</td>\n",
       "      <td>경유</td>\n",
       "      <td>중형</td>\n",
       "      <td>서울특별시</td>\n",
       "      <td>중랑구</td>\n",
       "      <td>Y</td>\n",
       "      <td>Y</td>\n",
       "      <td>20231103</td>\n",
       "    </tr>\n",
       "  </tbody>\n",
       "</table>\n",
       "</div>"
      ],
      "text/plain": [
       "   CRTR_YM                VIN     STDG_CD VHCTY_CD PURPS_CD2 FUEL_CD VHCTY_TY   \n",
       "0  2023.04  KMHSJ81XBAU555611  2826000000       승용       개인용      경유       대형  \\\n",
       "1  2023.07  KMFZSY7JAAU673260  4374000000       화물       개인용      경유       소형   \n",
       "2  2023.07  KMFZSY7JACU767880  4374000000       화물       개인용      경유       소형   \n",
       "3  2023.07  KMFZCY7JAAU633300  4374000000       화물       개인용      경유       소형   \n",
       "4  2023.09  KNHMB76439S287945  1126000000       승합       개인용      경유       중형   \n",
       "\n",
       "    CTPV  SGG ELPDSRC_STTS_CD ELPDSRC_LAST_APRV_YN   LOAD_DT  \n",
       "0  인천광역시   서구               Y                    Y  20231103  \n",
       "1   충청북도  영동군               Y                    Y  20231103  \n",
       "2   충청북도  영동군               Y                    Y  20231103  \n",
       "3   충청북도  영동군               Y                    Y  20231103  \n",
       "4  서울특별시  중랑구               Y                    Y  20231103  "
      ]
     },
     "execution_count": 1873,
     "metadata": {},
     "output_type": "execute_result"
    }
   ],
   "source": [
    "STD_BD_GRD4_ELPDSRC_CURSTT.head()"
   ]
  },
  {
   "cell_type": "markdown",
   "id": "f892271b-b062-4e65-9885-890bb995e9f8",
   "metadata": {
    "tags": []
   },
   "source": [
    "### [출력] STD_BD_GRD4_ELPDSRC_CURSTT"
   ]
  },
  {
   "cell_type": "code",
   "execution_count": 1874,
   "id": "4797b70a-4cc3-4ee1-9690-830424f066d6",
   "metadata": {
    "tags": []
   },
   "outputs": [],
   "source": [
    "# expdf = STD_BD_GRD4_ELPDSRC_CURSTT\n",
    "# table_nm = 'STD_BD_GRD4_ELPDSRC_CURSTT'.upper()\n",
    "\n",
    "# # 테이블 생성\n",
    "# sql = 'create or replace table ' + table_nm + '( \\n'\n",
    "\n",
    "# for idx,column in enumerate(expdf.columns):\n",
    "#     # if 'float' in expdf[column].dtype.name:\n",
    "#     #     sql += column + ' float'\n",
    "#     # elif 'int' in expdf[column].dtype.name:\n",
    "#     #     sql += column + ' number'\n",
    "#     # else:\n",
    "#     sql += column + ' varchar(255)'\n",
    "\n",
    "#     if len(expdf.columns) - 1 != idx:\n",
    "#         sql += ','\n",
    "#     sql += '\\n'\n",
    "# sql += ')'    \n",
    "# we.execute(sql)\n",
    "\n",
    "# # 데이터 추가\n",
    "# # 5s\n",
    "# we.import_from_pandas(expdf, table_nm)\n",
    "\n",
    "# print(f'data export : {table_nm}')"
   ]
  },
  {
   "cell_type": "markdown",
   "id": "33beebc6-dd0a-48f9-8a79-110d0a54370a",
   "metadata": {},
   "source": [
    "#### 수정 시작(2023.10.27)"
   ]
  },
  {
   "cell_type": "code",
   "execution_count": 1875,
   "id": "8c11fc30-67b4-4362-be09-c04f85b68c07",
   "metadata": {
    "tags": []
   },
   "outputs": [
    {
     "data": {
      "text/plain": [
       "조기폐차상태코드\n",
       "NaN    1849426\n",
       "Y        51603\n",
       "G         5732\n",
       "D           78\n",
       "M            2\n",
       "X            2\n",
       "C            2\n",
       "N            1\n",
       "Name: count, dtype: int64"
      ]
     },
     "execution_count": 1875,
     "metadata": {},
     "output_type": "execute_result"
    }
   ],
   "source": [
    "csece_rct['조기폐차상태코드'].value_counts(dropna=False)"
   ]
  },
  {
   "cell_type": "code",
   "execution_count": 1876,
   "id": "040d1b51-f4dc-4ba5-8460-62e43980a20e",
   "metadata": {
    "tags": []
   },
   "outputs": [
    {
     "data": {
      "text/plain": [
       "연료\n",
       "경유             1411519\n",
       "휘발유             457086\n",
       "LPG(액화석유가스)      38133\n",
       "NaN                 60\n",
       "기타연료                37\n",
       "CNG(압축천연가스)         10\n",
       "알코올                  1\n",
       "Name: count, dtype: int64"
      ]
     },
     "execution_count": 1876,
     "metadata": {},
     "output_type": "execute_result"
    }
   ],
   "source": [
    "csece_rct['연료'].value_counts(dropna=False)"
   ]
  },
  {
   "cell_type": "code",
   "execution_count": 1877,
   "id": "03262896-5eb8-4090-ab69-62748b554ff4",
   "metadata": {
    "tags": []
   },
   "outputs": [
    {
     "data": {
      "text/plain": [
       "(1411519, 34)"
      ]
     },
     "execution_count": 1877,
     "metadata": {},
     "output_type": "execute_result"
    }
   ],
   "source": [
    "csece_rct_dgl = csece_rct[csece_rct['연료'] == '경유'].reset_index(drop=True)\n",
    "csece_rct_dgl.shape"
   ]
  },
  {
   "cell_type": "code",
   "execution_count": 1878,
   "id": "b0ced1ae-bc14-4a5f-a065-e3ab5fd4780c",
   "metadata": {
    "tags": []
   },
   "outputs": [
    {
     "data": {
      "text/plain": [
       "조기폐차상태코드\n",
       "NaN    1354099\n",
       "Y        51603\n",
       "G         5732\n",
       "D           78\n",
       "M            2\n",
       "X            2\n",
       "C            2\n",
       "N            1\n",
       "Name: count, dtype: int64"
      ]
     },
     "execution_count": 1878,
     "metadata": {},
     "output_type": "execute_result"
    }
   ],
   "source": [
    "csece_rct_dgl['조기폐차상태코드'].value_counts(dropna=False)"
   ]
  },
  {
   "cell_type": "code",
   "execution_count": 1879,
   "id": "5e8b2bd3-e4f6-4f17-8cc4-e022ae5feff8",
   "metadata": {
    "tags": []
   },
   "outputs": [
    {
     "data": {
      "text/plain": [
       "Index(['차대번호', '법정동코드', '배출가스등급', '배출가스인증번호', '차량말소YN', '제원관리번호', '차량연식', '차종',\n",
       "       '용도', '최초등록일자', '제작일자', '차량관리번호', '자동차등록번호', '검사유효일', '소유자구분', '연료',\n",
       "       '차종유형', '제작사명', '차명', '자동차형식', '엔진형식', '차종분류', '총중량', '적재중량', '배기량',\n",
       "       '엔진출력', '시도', '시군구', '시도코드', '시군구코드', '조기폐차상태코드', '조기폐차최종승인YN', '말소일자',\n",
       "       '조기폐차신청여부'],\n",
       "      dtype='object')"
      ]
     },
     "execution_count": 1879,
     "metadata": {},
     "output_type": "execute_result"
    }
   ],
   "source": [
    "csece_rct_dgl.columns"
   ]
  },
  {
   "cell_type": "code",
   "execution_count": 1880,
   "id": "7a029e2e-cc78-46a4-9608-f3213b9ab076",
   "metadata": {
    "tags": []
   },
   "outputs": [],
   "source": [
    "STD_BD_GRD4_NOW_ELPDSRC_CURSTT = csece_rct_dgl[[\n",
    "    '차대번호', \n",
    "    '법정동코드', \n",
    "    # '차종', \n",
    "    # '용도', \n",
    "    '연료', \n",
    "    # '차종유형', \n",
    "    '시도', \n",
    "    '시군구', \n",
    "    '조기폐차상태코드', \n",
    "    '조기폐차최종승인YN', \n",
    "]]"
   ]
  },
  {
   "cell_type": "code",
   "execution_count": 1881,
   "id": "1a852857-84cd-4bb9-89f1-bcb4158ebce9",
   "metadata": {
    "tags": []
   },
   "outputs": [
    {
     "name": "stderr",
     "output_type": "stream",
     "text": [
      "/tmp/ipykernel_2016934/3872026400.py:1: SettingWithCopyWarning: \n",
      "A value is trying to be set on a copy of a slice from a DataFrame.\n",
      "Try using .loc[row_indexer,col_indexer] = value instead\n",
      "\n",
      "See the caveats in the documentation: https://pandas.pydata.org/pandas-docs/stable/user_guide/indexing.html#returning-a-view-versus-a-copy\n",
      "  STD_BD_GRD4_NOW_ELPDSRC_CURSTT['테이블생성일자'] = today_date\n"
     ]
    }
   ],
   "source": [
    "STD_BD_GRD4_NOW_ELPDSRC_CURSTT['테이블생성일자'] = today_date"
   ]
  },
  {
   "cell_type": "code",
   "execution_count": 1882,
   "id": "365e6d51-e5ca-41fe-a2a6-9ed97c04a096",
   "metadata": {
    "tags": []
   },
   "outputs": [],
   "source": [
    "STD_BD_GRD4_NOW_ELPDSRC_CURSTT = STD_BD_GRD4_NOW_ELPDSRC_CURSTT[[\n",
    "    '차대번호', \n",
    "    '법정동코드', \n",
    "    # '차종', \n",
    "    # '용도', \n",
    "    '연료', \n",
    "    # '차종유형', \n",
    "    '시도', \n",
    "    '시군구', \n",
    "    '조기폐차상태코드', \n",
    "    '조기폐차최종승인YN',\n",
    "    '테이블생성일자', \n",
    "]]"
   ]
  },
  {
   "cell_type": "code",
   "execution_count": 1883,
   "id": "90a9f39d-3375-4a7a-9412-b949176180ad",
   "metadata": {
    "tags": []
   },
   "outputs": [],
   "source": [
    "chc_dict = {\n",
    "    # '기준연월':'CRTR_YM', \n",
    "    '차대번호':'VIN', \n",
    "    '법정동코드':'STDG_CD', \n",
    "    # '차종':'VHCTY_CD', \n",
    "    # '용도':'PURPS_CD2', \n",
    "    '연료':'FUEL_CD', \n",
    "    # '차종유형':'VHCTY_TY', \n",
    "    '시도':'CTPV', \n",
    "    '시군구':'SGG', \n",
    "    '조기폐차상태코드':'ELPDSRC_STTS_CD',\n",
    "    '조기폐차최종승인YN':'ELPDSRC_LAST_APRV_YN', \n",
    "    '테이블생성일자':'LOAD_DT', \n",
    "}"
   ]
  },
  {
   "cell_type": "code",
   "execution_count": 1884,
   "id": "95dce1ed-0743-4234-ab6c-cf20df0a4bf6",
   "metadata": {
    "tags": []
   },
   "outputs": [
    {
     "data": {
      "text/plain": [
       "Index(['VIN', 'STDG_CD', 'FUEL_CD', 'CTPV', 'SGG', 'ELPDSRC_STTS_CD',\n",
       "       'ELPDSRC_LAST_APRV_YN', 'LOAD_DT'],\n",
       "      dtype='object')"
      ]
     },
     "execution_count": 1884,
     "metadata": {},
     "output_type": "execute_result"
    }
   ],
   "source": [
    "STD_BD_GRD4_NOW_ELPDSRC_CURSTT = STD_BD_GRD4_NOW_ELPDSRC_CURSTT.rename(columns=chc_dict)\n",
    "STD_BD_GRD4_NOW_ELPDSRC_CURSTT.columns"
   ]
  },
  {
   "cell_type": "code",
   "execution_count": 1885,
   "id": "c3e1df05-af40-4053-87ad-629aaf058ef8",
   "metadata": {
    "tags": []
   },
   "outputs": [
    {
     "data": {
      "text/html": [
       "<div>\n",
       "<style scoped>\n",
       "    .dataframe tbody tr th:only-of-type {\n",
       "        vertical-align: middle;\n",
       "    }\n",
       "\n",
       "    .dataframe tbody tr th {\n",
       "        vertical-align: top;\n",
       "    }\n",
       "\n",
       "    .dataframe thead th {\n",
       "        text-align: right;\n",
       "    }\n",
       "</style>\n",
       "<table border=\"1\" class=\"dataframe\">\n",
       "  <thead>\n",
       "    <tr style=\"text-align: right;\">\n",
       "      <th></th>\n",
       "      <th>VIN</th>\n",
       "      <th>STDG_CD</th>\n",
       "      <th>FUEL_CD</th>\n",
       "      <th>CTPV</th>\n",
       "      <th>SGG</th>\n",
       "      <th>ELPDSRC_STTS_CD</th>\n",
       "      <th>ELPDSRC_LAST_APRV_YN</th>\n",
       "      <th>LOAD_DT</th>\n",
       "    </tr>\n",
       "  </thead>\n",
       "  <tbody>\n",
       "    <tr>\n",
       "      <th>0</th>\n",
       "      <td>KNCSJX74AAK466522</td>\n",
       "      <td>2914000000</td>\n",
       "      <td>경유</td>\n",
       "      <td>광주광역시</td>\n",
       "      <td>서구</td>\n",
       "      <td>NaN</td>\n",
       "      <td>NaN</td>\n",
       "      <td>20231103</td>\n",
       "    </tr>\n",
       "    <tr>\n",
       "      <th>1</th>\n",
       "      <td>KNCSJX74AAK466529</td>\n",
       "      <td>4683000000</td>\n",
       "      <td>경유</td>\n",
       "      <td>전라남도</td>\n",
       "      <td>영암군</td>\n",
       "      <td>NaN</td>\n",
       "      <td>NaN</td>\n",
       "      <td>20231103</td>\n",
       "    </tr>\n",
       "    <tr>\n",
       "      <th>2</th>\n",
       "      <td>KNCSJX74AAK466524</td>\n",
       "      <td>4161000000</td>\n",
       "      <td>경유</td>\n",
       "      <td>경기도</td>\n",
       "      <td>광주시</td>\n",
       "      <td>NaN</td>\n",
       "      <td>NaN</td>\n",
       "      <td>20231103</td>\n",
       "    </tr>\n",
       "    <tr>\n",
       "      <th>3</th>\n",
       "      <td>KNCSJX74AAK466519</td>\n",
       "      <td>4683000000</td>\n",
       "      <td>경유</td>\n",
       "      <td>전라남도</td>\n",
       "      <td>영암군</td>\n",
       "      <td>NaN</td>\n",
       "      <td>NaN</td>\n",
       "      <td>20231103</td>\n",
       "    </tr>\n",
       "    <tr>\n",
       "      <th>4</th>\n",
       "      <td>KNCSJX74AAAK46652</td>\n",
       "      <td>2914000000</td>\n",
       "      <td>경유</td>\n",
       "      <td>광주광역시</td>\n",
       "      <td>서구</td>\n",
       "      <td>NaN</td>\n",
       "      <td>NaN</td>\n",
       "      <td>20231103</td>\n",
       "    </tr>\n",
       "  </tbody>\n",
       "</table>\n",
       "</div>"
      ],
      "text/plain": [
       "                 VIN     STDG_CD FUEL_CD   CTPV  SGG ELPDSRC_STTS_CD   \n",
       "0  KNCSJX74AAK466522  2914000000      경유  광주광역시   서구             NaN  \\\n",
       "1  KNCSJX74AAK466529  4683000000      경유   전라남도  영암군             NaN   \n",
       "2  KNCSJX74AAK466524  4161000000      경유    경기도  광주시             NaN   \n",
       "3  KNCSJX74AAK466519  4683000000      경유   전라남도  영암군             NaN   \n",
       "4  KNCSJX74AAAK46652  2914000000      경유  광주광역시   서구             NaN   \n",
       "\n",
       "  ELPDSRC_LAST_APRV_YN   LOAD_DT  \n",
       "0                  NaN  20231103  \n",
       "1                  NaN  20231103  \n",
       "2                  NaN  20231103  \n",
       "3                  NaN  20231103  \n",
       "4                  NaN  20231103  "
      ]
     },
     "execution_count": 1885,
     "metadata": {},
     "output_type": "execute_result"
    }
   ],
   "source": [
    "STD_BD_GRD4_NOW_ELPDSRC_CURSTT.head()"
   ]
  },
  {
   "cell_type": "code",
   "execution_count": 1886,
   "id": "63d2393c-e1c4-41e2-9068-49d9271d6d4f",
   "metadata": {
    "tags": []
   },
   "outputs": [
    {
     "data": {
      "text/plain": [
       "ELPDSRC_STTS_CD\n",
       "NaN    1354099\n",
       "Y        51603\n",
       "G         5732\n",
       "D           78\n",
       "M            2\n",
       "X            2\n",
       "C            2\n",
       "N            1\n",
       "Name: count, dtype: int64"
      ]
     },
     "execution_count": 1886,
     "metadata": {},
     "output_type": "execute_result"
    }
   ],
   "source": [
    "# erase_dict = {\n",
    "#     'A32E':'조기폐차상태코드(추가보조금신청대상)',\n",
    "#     'A32G':'조기폐차상태코드(보조금청구)',\n",
    "#     'A32I':'조기폐차상태코드(신청등록)',\n",
    "#     'A32K':'조기폐차상태코드(추가보조금청구승인)',\n",
    "#     'A32M':'조기폐차상태코드(보조금산정)',\n",
    "#     'A32N':'조기폐차상태코드(보조금청구반려(제외))',\n",
    "#     'A32P':'조기폐차상태코드(보조금대상)',\n",
    "#     'A32T':'조기폐차상태코드(추가보조금청구)',\n",
    "#     'A32X':'조기폐차상태코드(신청취소(제외))',\n",
    "#     'A32Y':'조기폐차상태코드(보조금청구승인)',\n",
    "#     'A32C':'조기폐차상태코드(성능확인검사등록)',\n",
    "#     'A32D':'조기폐차상태코드(기간초과)',\n",
    "#     'A32A':'조기폐차상태코드(성능확인검사신청)',\n",
    "#     'A32B':'조기폐차상태코드(보조금미대상)',\n",
    "# }\n",
    "STD_BD_GRD4_NOW_ELPDSRC_CURSTT.ELPDSRC_STTS_CD.value_counts(dropna=False)"
   ]
  },
  {
   "cell_type": "markdown",
   "id": "4d35ceb3-2c7f-4efc-895b-8dd8fa3356ec",
   "metadata": {
    "tags": []
   },
   "source": [
    "### [출력] STD_BD_GRD4_NOW_ELPDSRC_CURSTT"
   ]
  },
  {
   "cell_type": "code",
   "execution_count": 1887,
   "id": "31ec2088-47f4-45a1-9378-76ad6ca15963",
   "metadata": {
    "tags": []
   },
   "outputs": [],
   "source": [
    "# expdf = STD_BD_GRD4_NOW_ELPDSRC_CURSTT\n",
    "# table_nm = 'STD_BD_GRD4_NOW_ELPDSRC_CURSTT'.upper()\n",
    "\n",
    "# # 테이블 생성\n",
    "# sql = 'create or replace table ' + table_nm + '( \\n'\n",
    "\n",
    "# for idx,column in enumerate(expdf.columns):\n",
    "#     # if 'float' in expdf[column].dtype.name:\n",
    "#     #     sql += column + ' float'\n",
    "#     # elif 'int' in expdf[column].dtype.name:\n",
    "#     #     sql += column + ' number'\n",
    "#     # else:\n",
    "#     sql += column + ' varchar(255)'\n",
    "\n",
    "#     if len(expdf.columns) - 1 != idx:\n",
    "#         sql += ','\n",
    "#     sql += '\\n'\n",
    "# sql += ')'    \n",
    "# we.execute(sql)\n",
    "\n",
    "# # 데이터 추가\n",
    "# # 5s\n",
    "# we.import_from_pandas(expdf, table_nm)\n",
    "\n",
    "# print(f'data export : {table_nm}')"
   ]
  },
  {
   "cell_type": "code",
   "execution_count": 1888,
   "id": "06f7c46c-3e58-44d1-94b9-a9bbb4b13456",
   "metadata": {
    "tags": []
   },
   "outputs": [],
   "source": [
    "# STD_BD_GRD4_NOW_ELPDSRC_CURSTT.to_csv(f'STD_BD_GRD4_NOW_ELPDSRC_CURSTT({today_date}).csv', index=False)"
   ]
  },
  {
   "cell_type": "markdown",
   "id": "92fcf0ce-2c78-4c39-87a8-4e5c7f101552",
   "metadata": {},
   "source": [
    "#### !!! 수정 끝(2023.10.27)"
   ]
  },
  {
   "cell_type": "code",
   "execution_count": 1889,
   "id": "49750ea6-b5cc-4b4f-aa4f-9cf722fb402d",
   "metadata": {
    "tags": []
   },
   "outputs": [
    {
     "data": {
      "text/plain": [
       "(1345122, 26)"
      ]
     },
     "execution_count": 1889,
     "metadata": {},
     "output_type": "execute_result"
    }
   ],
   "source": [
    "cs.shape"
   ]
  },
  {
   "cell_type": "code",
   "execution_count": 1890,
   "id": "1c03f13e-3f32-4bf4-8acd-513d6ff5c1ed",
   "metadata": {},
   "outputs": [
    {
     "data": {
      "text/plain": [
       "(1345122, 27)"
      ]
     },
     "execution_count": 1890,
     "metadata": {},
     "output_type": "execute_result"
    }
   ],
   "source": [
    "## 등록&제원&저감이력 병합\n",
    "# 1.7s\n",
    "csa = cs.merge(attr[['차대번호', 'DPF_YN']], on='차대번호', how='left')\n",
    "csa.shape"
   ]
  },
  {
   "cell_type": "code",
   "execution_count": 1891,
   "id": "ac415fad-cd1c-4c1c-899a-4ad8f23adef1",
   "metadata": {
    "tags": []
   },
   "outputs": [],
   "source": [
    "csa['법정동코드'] = csa['법정동코드'].astype('str')\n",
    "csa['법정동코드'] = csa['법정동코드'].str[:5] + '00000'\n",
    "csa['법정동코드'] = pd.to_numeric(csa['법정동코드'])"
   ]
  },
  {
   "cell_type": "code",
   "execution_count": 1892,
   "id": "e6abb177-fd63-4fbe-9051-90f93b53e7b3",
   "metadata": {},
   "outputs": [
    {
     "data": {
      "text/plain": [
       "(1345122, 31)"
      ]
     },
     "execution_count": 1892,
     "metadata": {},
     "output_type": "execute_result"
    }
   ],
   "source": [
    "## 지역정보 병합\n",
    "df = csa.merge(coder, on='법정동코드', how='left')\n",
    "df.shape"
   ]
  },
  {
   "cell_type": "code",
   "execution_count": 1893,
   "id": "421db981-f5d5-453c-ae36-d960d7fb54b4",
   "metadata": {},
   "outputs": [
    {
     "data": {
      "text/plain": [
       "0"
      ]
     },
     "execution_count": 1893,
     "metadata": {},
     "output_type": "execute_result"
    }
   ],
   "source": [
    "df['시도'].isnull().sum()"
   ]
  },
  {
   "cell_type": "code",
   "execution_count": 1894,
   "id": "d633f7ed-5a5a-45c7-8672-de30bcde065e",
   "metadata": {},
   "outputs": [],
   "source": [
    "# ### 매칭 안되는 지역 처리\n",
    "# # 경기도 양주시\n",
    "# df.loc[df['법정동코드'] == 4163055000, ['시도', '시군구']] = ['경기도', '양주시']"
   ]
  },
  {
   "cell_type": "code",
   "execution_count": 1895,
   "id": "8cfae326-8e71-4ef5-9cf5-38b3dcf6a263",
   "metadata": {},
   "outputs": [],
   "source": [
    "# df.loc[df['시도'].isnull(), '법정동코드'].unique()"
   ]
  },
  {
   "cell_type": "code",
   "execution_count": 1896,
   "id": "109beefc-64b7-4552-adb2-f24beb2d7398",
   "metadata": {},
   "outputs": [],
   "source": [
    "df['법정동코드_mod'] = df['법정동코드'].copy()"
   ]
  },
  {
   "cell_type": "code",
   "execution_count": 1897,
   "id": "b81d3870-a939-4f1c-a7ef-5bde43978a7d",
   "metadata": {},
   "outputs": [],
   "source": [
    "# ### rh 법정동코드 참고하여 법정동코드 수정\n",
    "# rdf = df.copy()\n",
    "# rdf['법정동코드'] = rdf['법정동코드'].astype('str')\n",
    "# rdf['법정동코드_mod'] = rdf['법정동코드'].str[:5] + '00000'\n",
    "# rdf['법정동코드_mod'] = pd.to_numeric(rdf['법정동코드_mod'])\n",
    "# # 2817000000 인천광역시 남구 -> 인천광역시 미추홀구 2817700000\n",
    "# # 4119500000 경기도 부천시 원미구 -> 경기도 부천시 4119000000\n",
    "# # 4119700000 경기도 부천시 소사구 -> 경기도 부천시 4119000000\n",
    "# # 4119900000 경기도 부천시 오정구 -> 경기도 부천시 4119000000\n",
    "# # 4173000000 경기도 여주군 -> 경기도 여주시 4167000000\n",
    "# # 4371000000 충청북도 청원군 -> 충청북도 충주시 4311000000\n",
    "# rdf.loc[rdf['법정동코드_mod'] == 2817000000, '법정동코드_mod'] = 2817700000\n",
    "# rdf.loc[rdf['법정동코드_mod'] == 4119500000, '법정동코드_mod'] = 4119000000\n",
    "# rdf.loc[rdf['법정동코드_mod'] == 4119700000, '법정동코드_mod'] = 4119000000\n",
    "# rdf.loc[rdf['법정동코드_mod'] == 4119900000, '법정동코드_mod'] = 4119000000\n",
    "# rdf.loc[rdf['법정동코드_mod'] == 4173000000, '법정동코드_mod'] = 4167000000\n",
    "# rdf.loc[rdf['법정동코드_mod'] == 4371000000, '법정동코드_mod'] = 4311000000\n",
    "# df = rdf.copy()"
   ]
  },
  {
   "cell_type": "code",
   "execution_count": 1898,
   "id": "24a530eb-69de-442c-a76b-53ac8f2a202d",
   "metadata": {},
   "outputs": [
    {
     "data": {
      "text/plain": [
       "(1345122, 32)"
      ]
     },
     "execution_count": 1898,
     "metadata": {},
     "output_type": "execute_result"
    }
   ],
   "source": [
    "## 4등급 result 파일 참고하여 DPF유무 수정\n",
    "rdf = df.copy()\n",
    "rs = rs.drop_duplicates('차대번호').reset_index(drop=True)\n",
    "rdf1 = rdf.merge(rs, on='차대번호', how='left')\n",
    "rdf1.loc[(rdf1['DPF_YN'] == '유') | (rdf1['DPF유무_수정'] == '유'), 'DPF_YN'] = '유'\n",
    "rdf1.loc[(rdf1['DPF유무_수정'] == '무'), 'DPF_YN'] = '무'\n",
    "rdf1.loc[(rdf1['DPF유무_수정'] == '확인불가'), 'DPF_YN'] = '확인불가'\n",
    "df = rdf1.drop('DPF유무_수정', axis=1)\n",
    "df.shape"
   ]
  },
  {
   "cell_type": "code",
   "execution_count": 1899,
   "id": "8f37fa25-c79b-4a92-b3c4-196f4401deea",
   "metadata": {},
   "outputs": [
    {
     "data": {
      "text/plain": [
       "(1345122, 33)"
      ]
     },
     "execution_count": 1899,
     "metadata": {},
     "output_type": "execute_result"
    }
   ],
   "source": [
    "## 연료 컬럼 추가\n",
    "df1 = df.copy()\n",
    "df1.loc[df1['연료'] == '경유', 'fuel'] = '경유'\n",
    "df1.loc[(df1['연료'] == '휘발유') | (df1['연료'] == 'LPG(액화석유가스)'), 'fuel'] = '휘발유_가스'\n",
    "df1.shape"
   ]
  },
  {
   "cell_type": "code",
   "execution_count": 1900,
   "id": "3b214a26-7b5f-42fa-9a5c-1880cf63c82f",
   "metadata": {},
   "outputs": [],
   "source": [
    "# 분석\n",
    "## EG 분류\n",
    "grade_list = []\n",
    "for f, y, cy, e in df1[['fuel', '제작일자', '차량연식', 'DPF_YN']].values:\n",
    "    if (f == '휘발유_가스') and ( (19980101 <= y <= 20001231) or (1998 <= cy <= 2000) ):\n",
    "        grade_list.append('A')\n",
    "    elif (f == '휘발유_가스') and ( (y <= 19971231) or (cy <= 1997) ):\n",
    "        grade_list.append('B')\n",
    "    elif (f == '경유') and ( (y >= 20080101) or (cy >= 2008) ) and (e == '유'):\n",
    "        grade_list.append('A')\n",
    "    elif (f == '경유') and ( (y <= 20071231) or (cy <= 2007) )and (e == '유'):\n",
    "        grade_list.append('B')\n",
    "    elif (f == '경유') and ( (y >= 20080101) or (cy >= 2008) ) and (e == '무'):\n",
    "        grade_list.append('C')\n",
    "    elif (f == '경유') and ( (y <= 20071231) or (cy <= 2007) ) and (e == '무'):\n",
    "        grade_list.append('D')\n",
    "    else:\n",
    "        grade_list.append('X')\n",
    "df1['Grade'] = grade_list"
   ]
  },
  {
   "cell_type": "code",
   "execution_count": 1901,
   "id": "6ab9bb42-8352-4bcb-82b5-25273fe149b8",
   "metadata": {
    "tags": []
   },
   "outputs": [
    {
     "data": {
      "text/plain": [
       "Grade\n",
       "A    186670\n",
       "B    357210\n",
       "C    747364\n",
       "D     30209\n",
       "X     23669\n",
       "Name: 차대번호, dtype: int64"
      ]
     },
     "execution_count": 1901,
     "metadata": {},
     "output_type": "execute_result"
    }
   ],
   "source": [
    "df1.groupby('Grade', dropna=False)['차대번호'].count()"
   ]
  },
  {
   "cell_type": "code",
   "execution_count": 1902,
   "id": "b9c6cac6-8e39-45e6-b152-78437f44ce59",
   "metadata": {},
   "outputs": [],
   "source": [
    "STD_BD_GRD4_MLSFC_RSLT = df1[[\n",
    "    '차대번호', \n",
    "    '제원관리번호',\n",
    "    '차종', \n",
    "    '용도', \n",
    "    '차량연식', \n",
    "    '차종유형', \n",
    "    '연료', \n",
    "    '법정동코드', \n",
    "    '시도', \n",
    "    '시군구', \n",
    "    'DPF_YN',\n",
    "    'Grade',\n",
    "    '법정동코드_mod',\n",
    "    ]]"
   ]
  },
  {
   "cell_type": "code",
   "execution_count": 1903,
   "id": "9c7cb0d5-2e28-4f2b-82ec-7ea9065c4656",
   "metadata": {},
   "outputs": [
    {
     "name": "stderr",
     "output_type": "stream",
     "text": [
      "/tmp/ipykernel_2016934/4082969194.py:2: SettingWithCopyWarning: \n",
      "A value is trying to be set on a copy of a slice from a DataFrame.\n",
      "Try using .loc[row_indexer,col_indexer] = value instead\n",
      "\n",
      "See the caveats in the documentation: https://pandas.pydata.org/pandas-docs/stable/user_guide/indexing.html#returning-a-view-versus-a-copy\n",
      "  STD_BD_GRD4_MLSFC_RSLT['테이블생성일자'] = today_date\n"
     ]
    }
   ],
   "source": [
    "today_date = datetime.today().strftime(\"%Y%m%d\")\n",
    "STD_BD_GRD4_MLSFC_RSLT['테이블생성일자'] = today_date\n",
    "STD_BD_GRD4_MLSFC_RSLT = STD_BD_GRD4_MLSFC_RSLT[[\n",
    "    '테이블생성일자', \n",
    "    '차대번호', \n",
    "    '제원관리번호', \n",
    "    '차종', \n",
    "    '용도', \n",
    "    '차량연식', \n",
    "    '차종유형', \n",
    "    '연료', \n",
    "    '법정동코드', \n",
    "    '시도',\n",
    "    '시군구', \n",
    "    'DPF_YN', \n",
    "    'Grade', \n",
    "    '법정동코드_mod',\n",
    "    ]]"
   ]
  },
  {
   "cell_type": "code",
   "execution_count": 1904,
   "id": "b4fdd1b7-ccfe-41e0-809e-fdd1291f542d",
   "metadata": {},
   "outputs": [],
   "source": [
    "# RH법정동코드 문자형으로 변환\n",
    "STD_BD_GRD4_MLSFC_RSLT['법정동코드_mod'] = STD_BD_GRD4_MLSFC_RSLT['법정동코드_mod'].astype('str')"
   ]
  },
  {
   "cell_type": "code",
   "execution_count": 1905,
   "id": "c225c5a0-05c3-47c4-8627-3ed5c996e6b7",
   "metadata": {},
   "outputs": [
    {
     "data": {
      "text/plain": [
       "Index(['LOAD_DT', 'VIN', 'MANG_MNG_NO', 'VHCTY_CD', 'PURPS_CD2', 'YRIDNW',\n",
       "       'VHCTY_TY', 'FUEL_CD', 'STDG_CD', 'CTPV_NM', 'SGG_NM', 'DPF_MNTNG_YN',\n",
       "       'GRD4_MLSFC', 'STDG_CD_MOD'],\n",
       "      dtype='object')"
      ]
     },
     "execution_count": 1905,
     "metadata": {},
     "output_type": "execute_result"
    }
   ],
   "source": [
    "ch_col_dict = {\n",
    "                '테이블생성일자':'LOAD_DT',\n",
    "                '차대번호':'VIN', \n",
    "                '제원관리번호':'MANG_MNG_NO',\n",
    "                '차종':'VHCTY_CD', \n",
    "                '용도':'PURPS_CD2',\n",
    "                '차량연식':'YRIDNW', \n",
    "                '차종유형':'VHCTY_TY', \n",
    "                '연료':'FUEL_CD', \n",
    "                '법정동코드':'STDG_CD', \n",
    "                '시도':'CTPV_NM',\n",
    "                '시군구':'SGG_NM',\n",
    "                'DPF_YN':'DPF_MNTNG_YN',\n",
    "                'Grade':'GRD4_MLSFC', \n",
    "                '법정동코드_mod':'STDG_CD_MOD'\n",
    "                }\n",
    "STD_BD_GRD4_MLSFC_RSLT = STD_BD_GRD4_MLSFC_RSLT.rename(columns=ch_col_dict)\n",
    "\n",
    "STD_BD_GRD4_MLSFC_RSLT.columns"
   ]
  },
  {
   "cell_type": "code",
   "execution_count": null,
   "id": "4f8e93eb-e3f6-4bb1-997f-a9a8c35370f9",
   "metadata": {},
   "outputs": [],
   "source": []
  },
  {
   "cell_type": "code",
   "execution_count": null,
   "id": "97f5418c-19da-44b1-b77c-c869a1614002",
   "metadata": {},
   "outputs": [],
   "source": []
  },
  {
   "cell_type": "code",
   "execution_count": 1906,
   "id": "cf83c411-1908-4b2e-b166-c847d4398711",
   "metadata": {
    "tags": []
   },
   "outputs": [],
   "source": [
    "pd.options.display.float_format = '{:.2f}'.format"
   ]
  },
  {
   "cell_type": "code",
   "execution_count": 1907,
   "id": "038e86bf-d891-4808-8daf-2d04a0ba6563",
   "metadata": {
    "tags": []
   },
   "outputs": [
    {
     "data": {
      "text/plain": [
       "count   1013073.00\n",
       "mean       2009.50\n",
       "std           1.51\n",
       "min        1989.00\n",
       "25%        2008.00\n",
       "50%        2010.00\n",
       "75%        2011.00\n",
       "max        2020.00\n",
       "Name: YRIDNW, dtype: float64"
      ]
     },
     "execution_count": 1907,
     "metadata": {},
     "output_type": "execute_result"
    }
   ],
   "source": [
    "STD_BD_GRD4_MLSFC_RSLT.loc[STD_BD_GRD4_MLSFC_RSLT['FUEL_CD'] == '경유', 'YRIDNW'].describe()"
   ]
  },
  {
   "cell_type": "code",
   "execution_count": 1908,
   "id": "9eb861cb-da6b-43f2-80b2-47b39daf08ff",
   "metadata": {
    "tags": []
   },
   "outputs": [
    {
     "data": {
      "text/plain": [
       "(554, 14)"
      ]
     },
     "execution_count": 1908,
     "metadata": {},
     "output_type": "execute_result"
    }
   ],
   "source": [
    "STD_BD_GRD4_MLSFC_RSLT.loc[(STD_BD_GRD4_MLSFC_RSLT['FUEL_CD'] == '경유') & (STD_BD_GRD4_MLSFC_RSLT['YRIDNW'] < 2006)].shape"
   ]
  },
  {
   "cell_type": "code",
   "execution_count": 1909,
   "id": "e749fb0b-568a-4f2d-8533-b6df4f743d2a",
   "metadata": {
    "tags": []
   },
   "outputs": [
    {
     "data": {
      "text/plain": [
       "(546021, 14)"
      ]
     },
     "execution_count": 1909,
     "metadata": {},
     "output_type": "execute_result"
    }
   ],
   "source": [
    "STD_BD_GRD4_MLSFC_RSLT.loc[(STD_BD_GRD4_MLSFC_RSLT['FUEL_CD'] == '경유') & (STD_BD_GRD4_MLSFC_RSLT['YRIDNW'] > 2009)].shape"
   ]
  },
  {
   "cell_type": "code",
   "execution_count": 1910,
   "id": "080d08a7-588e-4d20-925d-22b416360581",
   "metadata": {
    "tags": []
   },
   "outputs": [
    {
     "data": {
      "text/plain": [
       "(546575, 14)"
      ]
     },
     "execution_count": 1910,
     "metadata": {},
     "output_type": "execute_result"
    }
   ],
   "source": [
    "STD_BD_GRD4_MLSFC_RSLT.loc[(STD_BD_GRD4_MLSFC_RSLT['FUEL_CD'] == '경유') & ((STD_BD_GRD4_MLSFC_RSLT['YRIDNW'] < 2006) | (STD_BD_GRD4_MLSFC_RSLT['YRIDNW'] > 2009))].shape"
   ]
  },
  {
   "cell_type": "code",
   "execution_count": 1911,
   "id": "9321dddc-2f8f-434e-8f5a-5b44a9b43bf9",
   "metadata": {
    "tags": []
   },
   "outputs": [
    {
     "data": {
      "text/plain": [
       "count   308111.00\n",
       "mean      1993.69\n",
       "std          3.42\n",
       "min       1901.00\n",
       "25%       1991.00\n",
       "50%       1994.00\n",
       "75%       1996.00\n",
       "max       2016.00\n",
       "Name: YRIDNW, dtype: float64"
      ]
     },
     "execution_count": 1911,
     "metadata": {},
     "output_type": "execute_result"
    }
   ],
   "source": [
    "STD_BD_GRD4_MLSFC_RSLT.loc[STD_BD_GRD4_MLSFC_RSLT['FUEL_CD'] == '휘발유', 'YRIDNW'].describe()"
   ]
  },
  {
   "cell_type": "code",
   "execution_count": 1912,
   "id": "0cfe61f5-23cc-4680-a055-1325f67f0320",
   "metadata": {
    "tags": []
   },
   "outputs": [
    {
     "data": {
      "text/plain": [
       "(16900, 14)"
      ]
     },
     "execution_count": 1912,
     "metadata": {},
     "output_type": "execute_result"
    }
   ],
   "source": [
    "STD_BD_GRD4_MLSFC_RSLT.loc[(STD_BD_GRD4_MLSFC_RSLT['FUEL_CD'] == '휘발유') & ((STD_BD_GRD4_MLSFC_RSLT['YRIDNW'] < 1986) | (STD_BD_GRD4_MLSFC_RSLT['YRIDNW'] > 1999))].shape"
   ]
  },
  {
   "cell_type": "code",
   "execution_count": null,
   "id": "1168be50-1624-4724-a61c-318ed302a0b6",
   "metadata": {},
   "outputs": [],
   "source": []
  },
  {
   "cell_type": "code",
   "execution_count": null,
   "id": "631ed1a6-34a6-4950-8ad4-49d1f71765f6",
   "metadata": {},
   "outputs": [],
   "source": []
  },
  {
   "cell_type": "markdown",
   "id": "b9b2fe0f-74fa-44ca-925f-a7e0e44a2382",
   "metadata": {},
   "source": [
    "### [출력] STD_BD_GRD4_MLSFC_RSLT"
   ]
  },
  {
   "cell_type": "code",
   "execution_count": 1913,
   "id": "57aec63f-1517-4ea4-895f-321f9b43e577",
   "metadata": {},
   "outputs": [],
   "source": [
    "# expdf = STD_BD_GRD4_MLSFC_RSLT\n",
    "# table_nm = 'STD_BD_GRD4_MLSFC_RSLT'.upper()\n",
    "\n",
    "# # 테이블 생성\n",
    "# sql = 'create or replace table ' + table_nm + '( \\n'\n",
    "\n",
    "# for idx,column in enumerate(expdf.columns):\n",
    "#     # if 'float' in expdf[column].dtype.name:\n",
    "#     #     sql += column + ' float'\n",
    "#     # elif 'int' in expdf[column].dtype.name:\n",
    "#     #     sql += column + ' number'\n",
    "#     # else:\n",
    "#     sql += column + ' varchar(255)'\n",
    "\n",
    "#     if len(expdf.columns) - 1 != idx:\n",
    "#         sql += ','\n",
    "#     sql += '\\n'\n",
    "# sql += ')'    \n",
    "# we.execute(sql)\n",
    "\n",
    "# # 데이터 추가\n",
    "# # 7s\n",
    "# we.import_from_pandas(expdf, table_nm)\n",
    "\n",
    "# print(f'data export : {table_nm}')"
   ]
  },
  {
   "cell_type": "code",
   "execution_count": 1914,
   "id": "243052ee-f804-4c09-9dfb-0ecf4c59c816",
   "metadata": {},
   "outputs": [],
   "source": [
    "## 4등급 등급세분류\n",
    "dat_mlsfc = df1.copy()\n",
    "dat_mlsfc['시군구_수정'] = dat_mlsfc['시군구'].str.split(' ').str[0]\n",
    "dat_mlsfc.loc[dat_mlsfc['연료'].isnull(), '연료'] = '해당없음' # !!! 수정(2023.11.13)\n",
    "grp1 = dat_mlsfc.groupby(['연료', '시도', '시군구_수정', '차종', '차종유형', '용도', 'Grade'], dropna=False)['차대번호'].count().unstack('Grade').reset_index() # !!! 수정(2023.11.13)\n",
    "\n",
    "# 연도 설정\n",
    "# grp1['연도'] = '2022'\n",
    "today_date = datetime.today().strftime(\"%Y%m%d\")\n",
    "grp1['연도'] = today_date[:4]\n",
    "grp1['테이블생성일자'] = today_date"
   ]
  },
  {
   "cell_type": "code",
   "execution_count": 1915,
   "id": "d0f8a9b0-fc0c-447a-ad33-0a3fe0704cdb",
   "metadata": {},
   "outputs": [],
   "source": [
    "STD_BD_DAT_GRD4_MLSFC = grp1[[\n",
    "    '연도', \n",
    "    '연료', \n",
    "    '시도', \n",
    "    '시군구_수정', \n",
    "    '차종', \n",
    "    '차종유형', \n",
    "    '용도', \n",
    "    'A', \n",
    "    'B', \n",
    "    'C', \n",
    "    'D', \n",
    "    'X',\n",
    "    '테이블생성일자',\n",
    "]]\n",
    "cdict = {\n",
    "    '연도':'YR', \n",
    "    '연료':'FUEL_CD', \n",
    "    '시도':'CTPV', \n",
    "    '시군구_수정':'SGG', \n",
    "    '차종':'VHCTY_CD', \n",
    "    '차종유형':'VHCTY_TY', \n",
    "    '용도':'PURPS_CD2', \n",
    "    'A':'A_MKCNT', \n",
    "    'B':'B_MKCNT', \n",
    "    'C':'C_MKCNT', \n",
    "    'D':'D_MKCNT', \n",
    "    'X':'X_MKCNT', \n",
    "    '테이블생성일자':'LOAD_DT', \n",
    "}\n",
    "STD_BD_DAT_GRD4_MLSFC = grp1.rename(columns=cdict)"
   ]
  },
  {
   "cell_type": "markdown",
   "id": "d5f9b5ac-628f-4823-b105-360080f1a04b",
   "metadata": {},
   "source": [
    "### [출력] STD_BD_DAT_GRD4_MLSFC"
   ]
  },
  {
   "cell_type": "code",
   "execution_count": 1916,
   "id": "714a7ebf-8e12-4139-b4bc-b86175ef2bcf",
   "metadata": {},
   "outputs": [],
   "source": [
    "# expdf = STD_BD_DAT_GRD4_MLSFC\n",
    "# table_nm = 'STD_BD_DAT_GRD4_MLSFC'.upper()\n",
    "\n",
    "# # 테이블 생성\n",
    "# sql = 'create or replace table ' + table_nm + '( \\n'\n",
    "\n",
    "# for idx,column in enumerate(expdf.columns):\n",
    "#     # if 'float' in expdf[column].dtype.name:\n",
    "#     #     sql += column + ' float'\n",
    "#     # elif 'int' in expdf[column].dtype.name:\n",
    "#     #     sql += column + ' number'\n",
    "#     # else:\n",
    "#     sql += column + ' varchar(255)'\n",
    "\n",
    "#     if len(expdf.columns) - 1 != idx:\n",
    "#         sql += ','\n",
    "#     sql += '\\n'\n",
    "# sql += ')'    \n",
    "# we.execute(sql)\n",
    "\n",
    "# # 데이터 추가\n",
    "# # 7s\n",
    "# we.import_from_pandas(expdf, table_nm)\n",
    "\n",
    "# print(f'data export : {table_nm}')"
   ]
  },
  {
   "cell_type": "code",
   "execution_count": 1917,
   "id": "ca56d729-6b5a-42e3-b3a0-a5babbf96319",
   "metadata": {},
   "outputs": [],
   "source": [
    "## 4등급차량 상세정보\n",
    "cst = carr.merge(srcr, on='제원관리번호', how='left')\n",
    "csat = cst.merge(attr, on='차대번호', how='left')"
   ]
  },
  {
   "cell_type": "code",
   "execution_count": 1918,
   "id": "22b0c5d6-90ab-4114-af69-159c432b1657",
   "metadata": {},
   "outputs": [],
   "source": [
    "csat['법정동코드'] = csat['법정동코드'].astype('str')\n",
    "csat['법정동코드'] = csat['법정동코드'].str[:5] + '00000'\n",
    "csat['법정동코드'] = pd.to_numeric(csat['법정동코드'])"
   ]
  },
  {
   "cell_type": "code",
   "execution_count": 1919,
   "id": "2addfad1-7191-4944-a151-283c5cb80da8",
   "metadata": {},
   "outputs": [],
   "source": [
    "csact = csat.merge(coder, on='법정동코드', how='left')"
   ]
  },
  {
   "cell_type": "code",
   "execution_count": 1920,
   "id": "4b7e5a4f-5558-4422-b877-f1a5509f3335",
   "metadata": {
    "tags": []
   },
   "outputs": [
    {
     "data": {
      "text/plain": [
       "(1906846, 33)"
      ]
     },
     "execution_count": 1920,
     "metadata": {},
     "output_type": "execute_result"
    }
   ],
   "source": [
    "csact.shape"
   ]
  },
  {
   "cell_type": "code",
   "execution_count": 1921,
   "id": "d25ba8f8-ddf5-49e9-a361-3ed361d570d5",
   "metadata": {},
   "outputs": [
    {
     "data": {
      "text/plain": [
       "0"
      ]
     },
     "execution_count": 1921,
     "metadata": {},
     "output_type": "execute_result"
    }
   ],
   "source": [
    "csact['시도'].isnull().sum()"
   ]
  },
  {
   "cell_type": "code",
   "execution_count": 1922,
   "id": "bdb017a3-9c66-450e-9cdf-a191386cd00f",
   "metadata": {},
   "outputs": [],
   "source": [
    "# # 경기도 양주시\n",
    "# csact.loc[csact['법정동코드'] == 4163055000, ['시도', '시군구']] = ['경기도', '양주시']"
   ]
  },
  {
   "cell_type": "code",
   "execution_count": 1923,
   "id": "dfdeb54f-f849-426f-a2af-7e45cf116e74",
   "metadata": {},
   "outputs": [
    {
     "data": {
      "text/plain": [
       "(1906846, 37)"
      ]
     },
     "execution_count": 1923,
     "metadata": {},
     "output_type": "execute_result"
    }
   ],
   "source": [
    "### 조기폐차 정보추가\n",
    "dft = csact.merge(elpm, on='차대번호', how='left')\n",
    "dft.shape"
   ]
  },
  {
   "cell_type": "code",
   "execution_count": 1924,
   "id": "12fbc906-0518-4aa5-b2db-7b4273ab9a24",
   "metadata": {},
   "outputs": [],
   "source": [
    "### 4등급 result 파일 참고하여 DPF유무 수정\n",
    "rdf = dft.copy()\n",
    "rs = rs.drop_duplicates('차대번호').reset_index(drop=True)\n",
    "rdf1 = rdf.merge(rs, on='차대번호', how='left')\n",
    "rdf1.loc[(rdf1['DPF_YN'] == '유') | (rdf1['DPF유무_수정'] == '유'), 'DPF_YN'] = '유'\n",
    "rdf1.loc[(rdf1['DPF유무_수정'] == '무'), 'DPF_YN'] = '무'\n",
    "rdf1.loc[(rdf1['DPF유무_수정'] == '확인불가'), 'DPF_YN'] = '확인불가'\n",
    "dft = rdf1.drop('DPF유무_수정', axis=1)"
   ]
  },
  {
   "cell_type": "code",
   "execution_count": 1925,
   "id": "81655f84-9beb-4414-b38f-de6ab3f5f831",
   "metadata": {
    "tags": []
   },
   "outputs": [],
   "source": [
    "# 4등급 연월, 시도, 시군구별 차량대수\n",
    "## 등록 & 제원 정보 병합(말소 유지)\n",
    "csersr = carr.merge(srcr, on='제원관리번호', how='left')"
   ]
  },
  {
   "cell_type": "code",
   "execution_count": 1926,
   "id": "d8f90c3c-8dcc-455e-9814-c6cf1ba7ec86",
   "metadata": {
    "tags": []
   },
   "outputs": [],
   "source": [
    "## 1\\. 차량관리번호 기준 병합\n",
    "# 58.3s\n",
    "ersr = csersr.merge(hisr, on='차량관리번호', how='left')"
   ]
  },
  {
   "cell_type": "code",
   "execution_count": 1927,
   "id": "f94df62f-0421-4c6a-8389-dcd0f80b2c3f",
   "metadata": {
    "tags": []
   },
   "outputs": [],
   "source": [
    "## 2\\. 차량말소YN 만 추출\n",
    "errm = ersr[(ersr['차량말소YN_x'] == 'Y') & (ersr['차량말소YN_y'] == 'Y')].reset_index(drop=True)"
   ]
  },
  {
   "cell_type": "code",
   "execution_count": 1928,
   "id": "d601468a-0672-4501-8f33-cccf6de61f74",
   "metadata": {
    "tags": []
   },
   "outputs": [],
   "source": [
    "## 3\\. 변경일자 최신으로 차대번호 중복 제거\n",
    "errm = errm.sort_values('변경일자', ascending=False).drop_duplicates('차대번호').reset_index(drop=True)"
   ]
  },
  {
   "cell_type": "code",
   "execution_count": 1929,
   "id": "fe519a5a-b6fc-47fd-b23d-981df02f69c5",
   "metadata": {
    "tags": []
   },
   "outputs": [],
   "source": [
    "## 4\\. 변경일자 2019.01.01 이상만 추출\n",
    "errm = errm[errm['변경일자'] >= 20190101].reset_index(drop=True)"
   ]
  },
  {
   "cell_type": "code",
   "execution_count": 1930,
   "id": "e965ef6f-e7dc-48dd-ae8d-fed589709ef1",
   "metadata": {
    "tags": []
   },
   "outputs": [],
   "source": [
    "## 5\\. 법정동 코드 정보 병합\n",
    "errm['법정동코드'] = errm['법정동코드'].astype('str')\n",
    "errm['법정동코드'] = errm['법정동코드'].str[:5] + '00000'\n",
    "errm['법정동코드'] = pd.to_numeric(errm['법정동코드'])\n",
    "errc = errm.merge(coder, on='법정동코드', how='left')"
   ]
  },
  {
   "cell_type": "code",
   "execution_count": 1931,
   "id": "37bb8b9c-75bc-47ee-bfce-5bf7c2e605d9",
   "metadata": {},
   "outputs": [
    {
     "data": {
      "text/plain": [
       "0"
      ]
     },
     "execution_count": 1931,
     "metadata": {},
     "output_type": "execute_result"
    }
   ],
   "source": [
    "errc['시도'].isnull().sum()"
   ]
  },
  {
   "cell_type": "code",
   "execution_count": 1932,
   "id": "08fd515a-9a46-48cf-88ba-bfd9b00b2c89",
   "metadata": {},
   "outputs": [
    {
     "data": {
      "text/plain": [
       "((1906846, 38), (1906846, 39))"
      ]
     },
     "execution_count": 1932,
     "metadata": {},
     "output_type": "execute_result"
    }
   ],
   "source": [
    "dfte = dft.merge(errc[['차대번호', '변경일자']], on='차대번호', how='left')\n",
    "dftem = dfte.merge(df1[['차대번호', 'Grade']], on='차대번호', how='left')\n",
    "dfte.shape, dftem.shape"
   ]
  },
  {
   "cell_type": "code",
   "execution_count": 1933,
   "id": "dec4f2ac-0528-4af0-bda7-f80bb9ea0d7b",
   "metadata": {
    "tags": []
   },
   "outputs": [
    {
     "data": {
      "text/plain": [
       "Index(['차대번호', '법정동코드', '배출가스등급', '배출가스인증번호', '차량말소YN', '제원관리번호', '차량연식', '차종',\n",
       "       '용도', '최초등록일자', '제작일자', '차량관리번호', '자동차등록번호', '검사유효일', '소유자구분', '연료',\n",
       "       '차종유형', '제작사명', '차명', '자동차형식', '엔진형식', '차종분류', '총중량', '적재중량', '배기량',\n",
       "       '엔진출력', '저감장치구분', '저감장치종류', 'DPF_YN', '시도', '시군구', '시도코드', '시군구코드',\n",
       "       '조기폐차상태코드', '조기폐차최종승인YN', '말소일자', '조기폐차신청여부', '변경일자', 'Grade'],\n",
       "      dtype='object')"
      ]
     },
     "execution_count": 1933,
     "metadata": {},
     "output_type": "execute_result"
    }
   ],
   "source": [
    "dftem.columns"
   ]
  },
  {
   "cell_type": "code",
   "execution_count": null,
   "id": "9c2e07ec",
   "metadata": {},
   "outputs": [],
   "source": [
    "dftem.groupby('Grade', dropna=False)['차대번호'].count()"
   ]
  },
  {
   "cell_type": "code",
   "execution_count": null,
   "metadata": {},
   "outputs": [],
   "source": [
    "dftem.loc[dftem['차량말소YN'] == 'Y', 'Grade'].unique()"
   ]
  },
  {
   "cell_type": "code",
   "execution_count": 1934,
   "id": "c4402f56-b913-49ef-a774-5d9dc365a94e",
   "metadata": {},
   "outputs": [],
   "source": [
    "today_date = datetime.today().strftime(\"%Y%m%d\")\n",
    "dftem['테이블생성일자'] = today_date\n",
    "STD_BD_DAT_GRD4_DTL_INFO = dftem[[\n",
    "    '자동차등록번호',\n",
    "    '차대번호',\n",
    "    'Grade',\n",
    "    '차종',\n",
    "    '차종유형',\n",
    "    '용도',\n",
    "    '연료',\n",
    "    '시도',\n",
    "    '시군구',\n",
    "    '차량연식',\n",
    "    'DPF_YN',\n",
    "    '저감장치종류',\n",
    "    '최초등록일자',\n",
    "    '조기폐차신청여부',\n",
    "    '조기폐차상태코드',\n",
    "    '변경일자',\n",
    "    '차량말소YN', \n",
    "    '테이블생성일자', \n",
    "    # '법정동코드',\n",
    "    # '배출가스등급',\n",
    "    # '배출가스인증번호',\n",
    "    # '제원관리번호',\n",
    "    # '제작일자',\n",
    "    # '차량관리번호',\n",
    "    # '제작사명',\n",
    "    # '차명',\n",
    "    # '자동차형식',\n",
    "    # '엔진형식',\n",
    "    # '저감장치구분',\n",
    "    # '조기폐차최종승인YN',\n",
    "]]"
   ]
  },
  {
   "cell_type": "code",
   "execution_count": 1935,
   "id": "9dfb443d-408b-4d47-98cf-75adef9766da",
   "metadata": {
    "tags": []
   },
   "outputs": [
    {
     "data": {
      "text/plain": [
       "Index(['VHRNO', 'VIN', 'GRD4_MLSFC', 'VHCTY_CD', 'VHCTY_TY', 'PURPS_CD2',\n",
       "       'FUEL_CD', 'CTPV', 'SGG', 'YRIDNW', 'DPF_MNTNG_YN', 'RDCDVC_KND',\n",
       "       'FRST_REG_YMD', 'ELPDSRC_APLY_YN', 'ELPDSRC_STTS_CD', 'CHNG_DE',\n",
       "       'VHCL_ERSR_YN', 'LOAD_DT'],\n",
       "      dtype='object')"
      ]
     },
     "execution_count": 1935,
     "metadata": {},
     "output_type": "execute_result"
    }
   ],
   "source": [
    "cdict = {\n",
    "    '자동차등록번호':'VHRNO',\n",
    "    '차대번호':'VIN',\n",
    "    'Grade':'GRD4_MLSFC',\n",
    "    '차종':'VHCTY_CD',\n",
    "    '차종유형':'VHCTY_TY',\n",
    "    '용도':'PURPS_CD2',\n",
    "    '연료':'FUEL_CD',\n",
    "    '시도':'CTPV',\n",
    "    '시군구':'SGG',\n",
    "    '차량연식':'YRIDNW',\n",
    "    'DPF_YN':'DPF_MNTNG_YN',\n",
    "    '저감장치종류':'RDCDVC_KND',\n",
    "    '최초등록일자':'FRST_REG_YMD',\n",
    "    '조기폐차신청여부':'ELPDSRC_APLY_YN',\n",
    "    '조기폐차상태코드':'ELPDSRC_STTS_CD',\n",
    "    '변경일자':'CHNG_DE',\n",
    "    '차량말소YN':'VHCL_ERSR_YN',\n",
    "    '테이블생성일자':'LOAD_DT', \n",
    "}\n",
    "STD_BD_DAT_GRD4_DTL_INFO = STD_BD_DAT_GRD4_DTL_INFO.rename(columns=cdict)\n",
    "\n",
    "STD_BD_DAT_GRD4_DTL_INFO.columns"
   ]
  },
  {
   "cell_type": "markdown",
   "id": "d5e257ee-00f9-495e-ad07-b779e16068d8",
   "metadata": {},
   "source": [
    "### [출력] STD_BD_DAT_GRD4_DTL_INFO"
   ]
  },
  {
   "cell_type": "code",
   "execution_count": 1936,
   "id": "a50d2873-5d02-452a-b48e-d2a69acd4d70",
   "metadata": {},
   "outputs": [],
   "source": [
    "# expdf = STD_BD_DAT_GRD4_DTL_INFO\n",
    "# table_nm = 'STD_BD_DAT_GRD4_DTL_INFO'.upper()\n",
    "\n",
    "# # 테이블 생성\n",
    "# sql = 'create or replace table ' + table_nm + '( \\n'\n",
    "\n",
    "# for idx,column in enumerate(expdf.columns):\n",
    "#     # if 'float' in expdf[column].dtype.name:\n",
    "#     #     sql += column + ' float'\n",
    "#     # elif 'int' in expdf[column].dtype.name:\n",
    "#     #     sql += column + ' number'\n",
    "#     # else:\n",
    "#     sql += column + ' varchar(255)'\n",
    "\n",
    "#     if len(expdf.columns) - 1 != idx:\n",
    "#         sql += ','\n",
    "#     sql += '\\n'\n",
    "# sql += ')'    \n",
    "# we.execute(sql)\n",
    "\n",
    "# # 데이터 추가\n",
    "# # 7s\n",
    "# we.import_from_pandas(expdf, table_nm)\n",
    "\n",
    "# print(f'data export : {table_nm}')"
   ]
  },
  {
   "cell_type": "code",
   "execution_count": 1937,
   "id": "8560344c-a56b-4077-9dfc-5cc9db4c22c2",
   "metadata": {
    "tags": []
   },
   "outputs": [
    {
     "data": {
      "text/plain": [
       "(1345122, 32)"
      ]
     },
     "execution_count": 1937,
     "metadata": {},
     "output_type": "execute_result"
    }
   ],
   "source": [
    "df.shape"
   ]
  },
  {
   "cell_type": "code",
   "execution_count": 1938,
   "id": "482a4862-e366-40c7-a285-bccf496114ff",
   "metadata": {},
   "outputs": [],
   "source": [
    "## 시도, 연도별 차량 대수\n",
    "dfm = df.copy()\n",
    "dfm['최초등록일자'] = dfm['최초등록일자'].astype('str')\n",
    "dfm['최초등록일자_년'] = dfm['최초등록일자'].str[:4]\n",
    "dfm['최초등록일자_월'] = dfm['최초등록일자'].str[4:6]\n",
    "dfm['최초등록일자_일'] = dfm['최초등록일자'].str[6:8]\n",
    "dfm['최초등록일자'] = dfm['최초등록일자_년'] + dfm['최초등록일자_월'] + dfm['최초등록일자_일']\n",
    "dfm['최초등록일자'] = pd.to_numeric(dfm['최초등록일자'], errors='coerce')\n",
    "\n",
    "### 시군구명 앞쪽 지역명만 남기기(dfm)\n",
    "dfm['시군구_수정'] = dfm['시군구'].str.split(' ').str[0]"
   ]
  },
  {
   "cell_type": "code",
   "execution_count": 1939,
   "id": "2503431d-8199-4a02-aabd-14b1f1bc7560",
   "metadata": {
    "tags": []
   },
   "outputs": [
    {
     "data": {
      "text/plain": [
       "시도             0\n",
       "시군구_수정      7156\n",
       "연료            49\n",
       "최초등록일자         2\n",
       "최초등록일자_년       0\n",
       "최초등록일자_월       0\n",
       "dtype: int64"
      ]
     },
     "execution_count": 1939,
     "metadata": {},
     "output_type": "execute_result"
    }
   ],
   "source": [
    "dfm[['시도', '시군구_수정', '연료', '최초등록일자', '최초등록일자_년', '최초등록일자_월']].isnull().sum()"
   ]
  },
  {
   "cell_type": "code",
   "execution_count": 1940,
   "id": "2c9f809f-ebac-408b-a6a2-3a4b21bf903f",
   "metadata": {
    "tags": []
   },
   "outputs": [
    {
     "data": {
      "text/plain": [
       "array(['광주광역시', '전라남도', '경기도', '충청북도', '전라북도', '대구광역시', '부산광역시', '대전광역시',\n",
       "       '충청남도', '강원특별자치도', '경상남도', '경상북도', '인천광역시', '서울특별시', '울산광역시',\n",
       "       '제주특별자치도', '세종특별자치시'], dtype=object)"
      ]
     },
     "execution_count": 1940,
     "metadata": {},
     "output_type": "execute_result"
    }
   ],
   "source": [
    "dfm['시도'].unique()"
   ]
  },
  {
   "cell_type": "code",
   "execution_count": 1941,
   "id": "0af38501-d946-48d8-9438-be54f132542d",
   "metadata": {
    "tags": []
   },
   "outputs": [
    {
     "data": {
      "text/plain": [
       "(7156, 36)"
      ]
     },
     "execution_count": 1941,
     "metadata": {},
     "output_type": "execute_result"
    }
   ],
   "source": [
    "dfm[dfm['시도'] == '세종특별자치시'].shape"
   ]
  },
  {
   "cell_type": "code",
   "execution_count": null,
   "id": "1d1d9f31-54bc-4db3-a37f-954b44312604",
   "metadata": {},
   "outputs": [],
   "source": []
  },
  {
   "cell_type": "code",
   "execution_count": 1942,
   "id": "505baa1e-3edd-4bb6-ad7d-7cfb22bd8015",
   "metadata": {
    "tags": []
   },
   "outputs": [
    {
     "data": {
      "text/html": [
       "<div>\n",
       "<style scoped>\n",
       "    .dataframe tbody tr th:only-of-type {\n",
       "        vertical-align: middle;\n",
       "    }\n",
       "\n",
       "    .dataframe tbody tr th {\n",
       "        vertical-align: top;\n",
       "    }\n",
       "\n",
       "    .dataframe thead th {\n",
       "        text-align: right;\n",
       "    }\n",
       "</style>\n",
       "<table border=\"1\" class=\"dataframe\">\n",
       "  <thead>\n",
       "    <tr style=\"text-align: right;\">\n",
       "      <th></th>\n",
       "      <th>최초등록일자</th>\n",
       "      <th>최초등록일자_년</th>\n",
       "      <th>최초등록일자_월</th>\n",
       "    </tr>\n",
       "  </thead>\n",
       "  <tbody>\n",
       "    <tr>\n",
       "      <th>0</th>\n",
       "      <td>20230926.00</td>\n",
       "      <td>2023</td>\n",
       "      <td>09</td>\n",
       "    </tr>\n",
       "    <tr>\n",
       "      <th>1</th>\n",
       "      <td>20230926.00</td>\n",
       "      <td>2023</td>\n",
       "      <td>09</td>\n",
       "    </tr>\n",
       "    <tr>\n",
       "      <th>2</th>\n",
       "      <td>20230926.00</td>\n",
       "      <td>2023</td>\n",
       "      <td>09</td>\n",
       "    </tr>\n",
       "    <tr>\n",
       "      <th>3</th>\n",
       "      <td>20230926.00</td>\n",
       "      <td>2023</td>\n",
       "      <td>09</td>\n",
       "    </tr>\n",
       "    <tr>\n",
       "      <th>4</th>\n",
       "      <td>20230926.00</td>\n",
       "      <td>2023</td>\n",
       "      <td>09</td>\n",
       "    </tr>\n",
       "  </tbody>\n",
       "</table>\n",
       "</div>"
      ],
      "text/plain": [
       "       최초등록일자 최초등록일자_년 최초등록일자_월\n",
       "0 20230926.00     2023       09\n",
       "1 20230926.00     2023       09\n",
       "2 20230926.00     2023       09\n",
       "3 20230926.00     2023       09\n",
       "4 20230926.00     2023       09"
      ]
     },
     "execution_count": 1942,
     "metadata": {},
     "output_type": "execute_result"
    }
   ],
   "source": [
    "dfm.loc[(dfm['최초등록일자_년'] == '2023') & (dfm['최초등록일자_월'] == '09'), ['최초등록일자', '최초등록일자_년', '최초등록일자_월']]"
   ]
  },
  {
   "cell_type": "code",
   "execution_count": 1943,
   "id": "5f5d7287-9213-4178-b66a-826c7d6a1187",
   "metadata": {
    "tags": []
   },
   "outputs": [
    {
     "data": {
      "text/html": [
       "<div>\n",
       "<style scoped>\n",
       "    .dataframe tbody tr th:only-of-type {\n",
       "        vertical-align: middle;\n",
       "    }\n",
       "\n",
       "    .dataframe tbody tr th {\n",
       "        vertical-align: top;\n",
       "    }\n",
       "\n",
       "    .dataframe thead th {\n",
       "        text-align: right;\n",
       "    }\n",
       "</style>\n",
       "<table border=\"1\" class=\"dataframe\">\n",
       "  <thead>\n",
       "    <tr style=\"text-align: right;\">\n",
       "      <th></th>\n",
       "      <th>최초등록일자</th>\n",
       "      <th>최초등록일자_년</th>\n",
       "      <th>최초등록일자_월</th>\n",
       "    </tr>\n",
       "  </thead>\n",
       "  <tbody>\n",
       "  </tbody>\n",
       "</table>\n",
       "</div>"
      ],
      "text/plain": [
       "Empty DataFrame\n",
       "Columns: [최초등록일자, 최초등록일자_년, 최초등록일자_월]\n",
       "Index: []"
      ]
     },
     "execution_count": 1943,
     "metadata": {},
     "output_type": "execute_result"
    }
   ],
   "source": [
    "dfm.loc[(dfm['최초등록일자_년'] == '2023') & (dfm['최초등록일자_월'] == '10'), ['최초등록일자', '최초등록일자_년', '최초등록일자_월']]"
   ]
  },
  {
   "cell_type": "code",
   "execution_count": 1944,
   "id": "2c2b4f1e-4d52-4352-a339-285793033f16",
   "metadata": {},
   "outputs": [],
   "source": [
    "### 연료 지역별 차량대수\n",
    "num_car_by_local1 = dfm.groupby(['연료', '시도', '시군구_수정'], dropna=False)['차대번호'].count().reset_index()\n",
    "num_car_by_local1 = num_car_by_local1.rename(columns={'차대번호':'차량대수'})"
   ]
  },
  {
   "cell_type": "code",
   "execution_count": 1945,
   "id": "5cb4cb69-582b-46c7-87c5-82b62d23c8fc",
   "metadata": {},
   "outputs": [
    {
     "data": {
      "text/plain": [
       "('2023', '11')"
      ]
     },
     "execution_count": 1945,
     "metadata": {},
     "output_type": "execute_result"
    }
   ],
   "source": [
    "# max_date = str(dfm['최초등록일자'].max())\n",
    "# max_year = max_date[:4]\n",
    "# max_month = max_date[4:6]\n",
    "\n",
    "# date = '20220601'\n",
    "# max_year = '2022'\n",
    "# max_month = '06'\n",
    "today_date = datetime.today().strftime(\"%Y%m%d\")\n",
    "date = today_date\n",
    "max_year = today_date[:4]\n",
    "max_month = today_date[4:6]\n",
    "max_year, max_month"
   ]
  },
  {
   "cell_type": "code",
   "execution_count": 1946,
   "id": "451e9989-a541-42af-8094-f1232e128036",
   "metadata": {},
   "outputs": [],
   "source": [
    "num_car_by_local1[['연도', '월']] = [max_year, max_month]"
   ]
  },
  {
   "cell_type": "code",
   "execution_count": 1947,
   "id": "2f061ae6-8043-4f09-9c18-c116164fb423",
   "metadata": {
    "tags": []
   },
   "outputs": [],
   "source": [
    "# !!! 수정(2023.10.24)"
   ]
  },
  {
   "cell_type": "code",
   "execution_count": 1948,
   "id": "a983ed52-0f58-4ac4-9e11-42b18c38dff1",
   "metadata": {},
   "outputs": [],
   "source": [
    "### 연료 지역별 등록차량대수\n",
    "num_car_by_local2 = dfm.groupby(['연료', '시도', '시군구_수정', '최초등록일자_년', '최초등록일자_월'], dropna=False)['차대번호'].count().reset_index()\n",
    "num_car_by_local2 = num_car_by_local2.rename(columns={'차대번호':'등록차량대수', '최초등록일자_년':'연도', '최초등록일자_월':'월'})"
   ]
  },
  {
   "cell_type": "code",
   "execution_count": 1949,
   "id": "a0caa7ef-72f2-4409-9415-e340d5cb582c",
   "metadata": {
    "tags": []
   },
   "outputs": [
    {
     "data": {
      "text/plain": [
       "(557761, 32)"
      ]
     },
     "execution_count": 1949,
     "metadata": {},
     "output_type": "execute_result"
    }
   ],
   "source": [
    "errc.shape"
   ]
  },
  {
   "cell_type": "code",
   "execution_count": 1950,
   "id": "f217a9e7-e4b5-484b-b07e-993146df4697",
   "metadata": {
    "tags": []
   },
   "outputs": [
    {
     "data": {
      "text/plain": [
       "시도         0\n",
       "시군구     3492\n",
       "연료        11\n",
       "변경일자       0\n",
       "dtype: int64"
      ]
     },
     "execution_count": 1950,
     "metadata": {},
     "output_type": "execute_result"
    }
   ],
   "source": [
    "errc[['시도', '시군구', '연료', '변경일자']].isnull().sum()"
   ]
  },
  {
   "cell_type": "code",
   "execution_count": 1951,
   "id": "7c3f0960-5969-4f08-b95d-d179f172629e",
   "metadata": {},
   "outputs": [],
   "source": [
    "### 연료 지역별 말소 대수\n",
    "errc['변경일자'] = errc['변경일자'].astype('str')\n",
    "errc['변경일자_년'] = errc['변경일자'].str[:4]\n",
    "errc['변경일자_월'] = errc['변경일자'].str[4:6]\n",
    "errc['변경일자_일'] = errc['변경일자'].str[6:8]"
   ]
  },
  {
   "cell_type": "code",
   "execution_count": 1952,
   "id": "42e0dff2-2718-42a8-95ce-d3369a76332b",
   "metadata": {},
   "outputs": [],
   "source": [
    "### 시군구명 앞쪽 지역명만 남기기(errc)\n",
    "errc['시군구_수정'] = errc['시군구'].str.split(' ').str[0]"
   ]
  },
  {
   "cell_type": "code",
   "execution_count": 1953,
   "id": "93108d32-134c-4e8d-a880-d56f35e62fc6",
   "metadata": {
    "tags": []
   },
   "outputs": [
    {
     "data": {
      "text/html": [
       "<div>\n",
       "<style scoped>\n",
       "    .dataframe tbody tr th:only-of-type {\n",
       "        vertical-align: middle;\n",
       "    }\n",
       "\n",
       "    .dataframe tbody tr th {\n",
       "        vertical-align: top;\n",
       "    }\n",
       "\n",
       "    .dataframe thead th {\n",
       "        text-align: right;\n",
       "    }\n",
       "</style>\n",
       "<table border=\"1\" class=\"dataframe\">\n",
       "  <thead>\n",
       "    <tr style=\"text-align: right;\">\n",
       "      <th></th>\n",
       "      <th>변경일자</th>\n",
       "      <th>변경일자_년</th>\n",
       "      <th>변경일자_월</th>\n",
       "    </tr>\n",
       "  </thead>\n",
       "  <tbody>\n",
       "    <tr>\n",
       "      <th>10986</th>\n",
       "      <td>20230927.0</td>\n",
       "      <td>2023</td>\n",
       "      <td>09</td>\n",
       "    </tr>\n",
       "    <tr>\n",
       "      <th>10987</th>\n",
       "      <td>20230927.0</td>\n",
       "      <td>2023</td>\n",
       "      <td>09</td>\n",
       "    </tr>\n",
       "    <tr>\n",
       "      <th>10988</th>\n",
       "      <td>20230927.0</td>\n",
       "      <td>2023</td>\n",
       "      <td>09</td>\n",
       "    </tr>\n",
       "    <tr>\n",
       "      <th>10989</th>\n",
       "      <td>20230927.0</td>\n",
       "      <td>2023</td>\n",
       "      <td>09</td>\n",
       "    </tr>\n",
       "    <tr>\n",
       "      <th>10990</th>\n",
       "      <td>20230927.0</td>\n",
       "      <td>2023</td>\n",
       "      <td>09</td>\n",
       "    </tr>\n",
       "    <tr>\n",
       "      <th>...</th>\n",
       "      <td>...</td>\n",
       "      <td>...</td>\n",
       "      <td>...</td>\n",
       "    </tr>\n",
       "    <tr>\n",
       "      <th>25964</th>\n",
       "      <td>20230901.0</td>\n",
       "      <td>2023</td>\n",
       "      <td>09</td>\n",
       "    </tr>\n",
       "    <tr>\n",
       "      <th>25965</th>\n",
       "      <td>20230901.0</td>\n",
       "      <td>2023</td>\n",
       "      <td>09</td>\n",
       "    </tr>\n",
       "    <tr>\n",
       "      <th>25966</th>\n",
       "      <td>20230901.0</td>\n",
       "      <td>2023</td>\n",
       "      <td>09</td>\n",
       "    </tr>\n",
       "    <tr>\n",
       "      <th>25967</th>\n",
       "      <td>20230901.0</td>\n",
       "      <td>2023</td>\n",
       "      <td>09</td>\n",
       "    </tr>\n",
       "    <tr>\n",
       "      <th>25968</th>\n",
       "      <td>20230901.0</td>\n",
       "      <td>2023</td>\n",
       "      <td>09</td>\n",
       "    </tr>\n",
       "  </tbody>\n",
       "</table>\n",
       "<p>14983 rows × 3 columns</p>\n",
       "</div>"
      ],
      "text/plain": [
       "             변경일자 변경일자_년 변경일자_월\n",
       "10986  20230927.0   2023     09\n",
       "10987  20230927.0   2023     09\n",
       "10988  20230927.0   2023     09\n",
       "10989  20230927.0   2023     09\n",
       "10990  20230927.0   2023     09\n",
       "...           ...    ...    ...\n",
       "25964  20230901.0   2023     09\n",
       "25965  20230901.0   2023     09\n",
       "25966  20230901.0   2023     09\n",
       "25967  20230901.0   2023     09\n",
       "25968  20230901.0   2023     09\n",
       "\n",
       "[14983 rows x 3 columns]"
      ]
     },
     "execution_count": 1953,
     "metadata": {},
     "output_type": "execute_result"
    }
   ],
   "source": [
    "errc.loc[(errc['변경일자_년'] == '2023') & (errc['변경일자_월'] == '09'), ['변경일자', '변경일자_년', '변경일자_월']]"
   ]
  },
  {
   "cell_type": "code",
   "execution_count": 1954,
   "id": "75c9d905-6a9a-4b5f-90fb-39b576a74004",
   "metadata": {
    "tags": []
   },
   "outputs": [
    {
     "data": {
      "text/html": [
       "<div>\n",
       "<style scoped>\n",
       "    .dataframe tbody tr th:only-of-type {\n",
       "        vertical-align: middle;\n",
       "    }\n",
       "\n",
       "    .dataframe tbody tr th {\n",
       "        vertical-align: top;\n",
       "    }\n",
       "\n",
       "    .dataframe thead th {\n",
       "        text-align: right;\n",
       "    }\n",
       "</style>\n",
       "<table border=\"1\" class=\"dataframe\">\n",
       "  <thead>\n",
       "    <tr style=\"text-align: right;\">\n",
       "      <th></th>\n",
       "      <th>변경일자</th>\n",
       "      <th>변경일자_년</th>\n",
       "      <th>변경일자_월</th>\n",
       "    </tr>\n",
       "  </thead>\n",
       "  <tbody>\n",
       "    <tr>\n",
       "      <th>0</th>\n",
       "      <td>20231023.0</td>\n",
       "      <td>2023</td>\n",
       "      <td>10</td>\n",
       "    </tr>\n",
       "    <tr>\n",
       "      <th>1</th>\n",
       "      <td>20231023.0</td>\n",
       "      <td>2023</td>\n",
       "      <td>10</td>\n",
       "    </tr>\n",
       "    <tr>\n",
       "      <th>2</th>\n",
       "      <td>20231023.0</td>\n",
       "      <td>2023</td>\n",
       "      <td>10</td>\n",
       "    </tr>\n",
       "    <tr>\n",
       "      <th>3</th>\n",
       "      <td>20231023.0</td>\n",
       "      <td>2023</td>\n",
       "      <td>10</td>\n",
       "    </tr>\n",
       "    <tr>\n",
       "      <th>4</th>\n",
       "      <td>20231023.0</td>\n",
       "      <td>2023</td>\n",
       "      <td>10</td>\n",
       "    </tr>\n",
       "    <tr>\n",
       "      <th>...</th>\n",
       "      <td>...</td>\n",
       "      <td>...</td>\n",
       "      <td>...</td>\n",
       "    </tr>\n",
       "    <tr>\n",
       "      <th>10981</th>\n",
       "      <td>20231004.0</td>\n",
       "      <td>2023</td>\n",
       "      <td>10</td>\n",
       "    </tr>\n",
       "    <tr>\n",
       "      <th>10982</th>\n",
       "      <td>20231004.0</td>\n",
       "      <td>2023</td>\n",
       "      <td>10</td>\n",
       "    </tr>\n",
       "    <tr>\n",
       "      <th>10983</th>\n",
       "      <td>20231004.0</td>\n",
       "      <td>2023</td>\n",
       "      <td>10</td>\n",
       "    </tr>\n",
       "    <tr>\n",
       "      <th>10984</th>\n",
       "      <td>20231004.0</td>\n",
       "      <td>2023</td>\n",
       "      <td>10</td>\n",
       "    </tr>\n",
       "    <tr>\n",
       "      <th>10985</th>\n",
       "      <td>20231004.0</td>\n",
       "      <td>2023</td>\n",
       "      <td>10</td>\n",
       "    </tr>\n",
       "  </tbody>\n",
       "</table>\n",
       "<p>10986 rows × 3 columns</p>\n",
       "</div>"
      ],
      "text/plain": [
       "             변경일자 변경일자_년 변경일자_월\n",
       "0      20231023.0   2023     10\n",
       "1      20231023.0   2023     10\n",
       "2      20231023.0   2023     10\n",
       "3      20231023.0   2023     10\n",
       "4      20231023.0   2023     10\n",
       "...           ...    ...    ...\n",
       "10981  20231004.0   2023     10\n",
       "10982  20231004.0   2023     10\n",
       "10983  20231004.0   2023     10\n",
       "10984  20231004.0   2023     10\n",
       "10985  20231004.0   2023     10\n",
       "\n",
       "[10986 rows x 3 columns]"
      ]
     },
     "execution_count": 1954,
     "metadata": {},
     "output_type": "execute_result"
    }
   ],
   "source": [
    "errc.loc[(errc['변경일자_년'] == '2023') & (errc['변경일자_월'] == '10'), ['변경일자', '변경일자_년', '변경일자_월']]"
   ]
  },
  {
   "cell_type": "code",
   "execution_count": 1955,
   "id": "837f5c13-36f2-4f7c-b6ac-d866111ffb9b",
   "metadata": {
    "tags": []
   },
   "outputs": [],
   "source": [
    "# !!! 수정(2023.10.24)"
   ]
  },
  {
   "cell_type": "code",
   "execution_count": 1956,
   "id": "099f82c2-2f76-4feb-903e-59b0fe34ee8b",
   "metadata": {},
   "outputs": [
    {
     "data": {
      "text/html": [
       "<div>\n",
       "<style scoped>\n",
       "    .dataframe tbody tr th:only-of-type {\n",
       "        vertical-align: middle;\n",
       "    }\n",
       "\n",
       "    .dataframe tbody tr th {\n",
       "        vertical-align: top;\n",
       "    }\n",
       "\n",
       "    .dataframe thead th {\n",
       "        text-align: right;\n",
       "    }\n",
       "</style>\n",
       "<table border=\"1\" class=\"dataframe\">\n",
       "  <thead>\n",
       "    <tr style=\"text-align: right;\">\n",
       "      <th></th>\n",
       "      <th>연도</th>\n",
       "      <th>월</th>\n",
       "      <th>연료</th>\n",
       "      <th>시도</th>\n",
       "      <th>시군구_수정</th>\n",
       "      <th>말소차량대수</th>\n",
       "    </tr>\n",
       "  </thead>\n",
       "  <tbody>\n",
       "    <tr>\n",
       "      <th>2450</th>\n",
       "      <td>2023</td>\n",
       "      <td>06</td>\n",
       "      <td>LPG(액화석유가스)</td>\n",
       "      <td>강원특별자치도</td>\n",
       "      <td>강릉시</td>\n",
       "      <td>1</td>\n",
       "    </tr>\n",
       "    <tr>\n",
       "      <th>2544</th>\n",
       "      <td>2023</td>\n",
       "      <td>06</td>\n",
       "      <td>경유</td>\n",
       "      <td>강원특별자치도</td>\n",
       "      <td>강릉시</td>\n",
       "      <td>72</td>\n",
       "    </tr>\n",
       "    <tr>\n",
       "      <th>2773</th>\n",
       "      <td>2023</td>\n",
       "      <td>06</td>\n",
       "      <td>휘발유</td>\n",
       "      <td>강원특별자치도</td>\n",
       "      <td>강릉시</td>\n",
       "      <td>4</td>\n",
       "    </tr>\n",
       "    <tr>\n",
       "      <th>3060</th>\n",
       "      <td>2023</td>\n",
       "      <td>07</td>\n",
       "      <td>경유</td>\n",
       "      <td>강원특별자치도</td>\n",
       "      <td>강릉시</td>\n",
       "      <td>99</td>\n",
       "    </tr>\n",
       "    <tr>\n",
       "      <th>3289</th>\n",
       "      <td>2023</td>\n",
       "      <td>07</td>\n",
       "      <td>휘발유</td>\n",
       "      <td>강원특별자치도</td>\n",
       "      <td>강릉시</td>\n",
       "      <td>8</td>\n",
       "    </tr>\n",
       "    <tr>\n",
       "      <th>...</th>\n",
       "      <td>...</td>\n",
       "      <td>...</td>\n",
       "      <td>...</td>\n",
       "      <td>...</td>\n",
       "      <td>...</td>\n",
       "      <td>...</td>\n",
       "    </tr>\n",
       "    <tr>\n",
       "      <th>4312</th>\n",
       "      <td>2023</td>\n",
       "      <td>09</td>\n",
       "      <td>경유</td>\n",
       "      <td>충청북도</td>\n",
       "      <td>충주시</td>\n",
       "      <td>42</td>\n",
       "    </tr>\n",
       "    <tr>\n",
       "      <th>4507</th>\n",
       "      <td>2023</td>\n",
       "      <td>09</td>\n",
       "      <td>휘발유</td>\n",
       "      <td>충청북도</td>\n",
       "      <td>충주시</td>\n",
       "      <td>7</td>\n",
       "    </tr>\n",
       "    <tr>\n",
       "      <th>4573</th>\n",
       "      <td>2023</td>\n",
       "      <td>10</td>\n",
       "      <td>LPG(액화석유가스)</td>\n",
       "      <td>충청북도</td>\n",
       "      <td>충주시</td>\n",
       "      <td>1</td>\n",
       "    </tr>\n",
       "    <tr>\n",
       "      <th>4802</th>\n",
       "      <td>2023</td>\n",
       "      <td>10</td>\n",
       "      <td>경유</td>\n",
       "      <td>충청북도</td>\n",
       "      <td>충주시</td>\n",
       "      <td>88</td>\n",
       "    </tr>\n",
       "    <tr>\n",
       "      <th>4997</th>\n",
       "      <td>2023</td>\n",
       "      <td>10</td>\n",
       "      <td>휘발유</td>\n",
       "      <td>충청북도</td>\n",
       "      <td>충주시</td>\n",
       "      <td>3</td>\n",
       "    </tr>\n",
       "  </tbody>\n",
       "</table>\n",
       "<p>4998 rows × 6 columns</p>\n",
       "</div>"
      ],
      "text/plain": [
       "        연도   월           연료       시도 시군구_수정  말소차량대수\n",
       "2450  2023  06  LPG(액화석유가스)  강원특별자치도    강릉시       1\n",
       "2544  2023  06           경유  강원특별자치도    강릉시      72\n",
       "2773  2023  06          휘발유  강원특별자치도    강릉시       4\n",
       "3060  2023  07           경유  강원특별자치도    강릉시      99\n",
       "3289  2023  07          휘발유  강원특별자치도    강릉시       8\n",
       "...    ...  ..          ...      ...    ...     ...\n",
       "4312  2023  09           경유     충청북도    충주시      42\n",
       "4507  2023  09          휘발유     충청북도    충주시       7\n",
       "4573  2023  10  LPG(액화석유가스)     충청북도    충주시       1\n",
       "4802  2023  10           경유     충청북도    충주시      88\n",
       "4997  2023  10          휘발유     충청북도    충주시       3\n",
       "\n",
       "[4998 rows x 6 columns]"
      ]
     },
     "execution_count": 1956,
     "metadata": {},
     "output_type": "execute_result"
    }
   ],
   "source": [
    "### 시군구명 앞쪽 지역명만 남기기(errc)\n",
    "errc['시군구_수정'] = errc['시군구'].str.split(' ').str[0]\n",
    "grp_erase = errc.loc[errc['변경일자_년'] == max_year].groupby(['변경일자_년', '변경일자_월', '연료', '시도', '시군구_수정'], dropna=False)['차대번호'].count().reset_index()\n",
    "grp_erase = grp_erase.rename(columns={'차대번호':'말소차량대수', '변경일자_년':'연도', '변경일자_월':'월'})\n",
    "grp_erase = grp_erase.sort_values(['시도', '시군구_수정'])\n",
    "grp_erase"
   ]
  },
  {
   "cell_type": "code",
   "execution_count": 1957,
   "id": "bd6d3da2-0efa-41e5-8265-44cc04c85ce2",
   "metadata": {
    "tags": []
   },
   "outputs": [
    {
     "data": {
      "text/plain": [
       "3492"
      ]
     },
     "execution_count": 1957,
     "metadata": {},
     "output_type": "execute_result"
    }
   ],
   "source": [
    "errc['시군구_수정'].isnull().sum()"
   ]
  },
  {
   "cell_type": "code",
   "execution_count": 1958,
   "id": "f2d8d78f-99fb-4d10-a311-f941ff3f8e19",
   "metadata": {
    "tags": []
   },
   "outputs": [
    {
     "data": {
      "text/plain": [
       "array(['세종특별자치시'], dtype=object)"
      ]
     },
     "execution_count": 1958,
     "metadata": {},
     "output_type": "execute_result"
    }
   ],
   "source": [
    "errc.loc[errc['시군구_수정'].isnull(), '시도'].unique()"
   ]
  },
  {
   "cell_type": "code",
   "execution_count": 1959,
   "id": "9a8a85bf-e0d8-4207-878d-9a42645441cf",
   "metadata": {
    "tags": []
   },
   "outputs": [
    {
     "data": {
      "text/html": [
       "<div>\n",
       "<style scoped>\n",
       "    .dataframe tbody tr th:only-of-type {\n",
       "        vertical-align: middle;\n",
       "    }\n",
       "\n",
       "    .dataframe tbody tr th {\n",
       "        vertical-align: top;\n",
       "    }\n",
       "\n",
       "    .dataframe thead th {\n",
       "        text-align: right;\n",
       "    }\n",
       "</style>\n",
       "<table border=\"1\" class=\"dataframe\">\n",
       "  <thead>\n",
       "    <tr style=\"text-align: right;\">\n",
       "      <th></th>\n",
       "      <th>연도</th>\n",
       "      <th>월</th>\n",
       "      <th>연료</th>\n",
       "      <th>시도</th>\n",
       "      <th>시군구_수정</th>\n",
       "      <th>말소차량대수</th>\n",
       "    </tr>\n",
       "  </thead>\n",
       "  <tbody>\n",
       "    <tr>\n",
       "      <th>66</th>\n",
       "      <td>2023</td>\n",
       "      <td>01</td>\n",
       "      <td>LPG(액화석유가스)</td>\n",
       "      <td>세종특별자치시</td>\n",
       "      <td>NaN</td>\n",
       "      <td>2</td>\n",
       "    </tr>\n",
       "    <tr>\n",
       "      <th>223</th>\n",
       "      <td>2023</td>\n",
       "      <td>01</td>\n",
       "      <td>경유</td>\n",
       "      <td>세종특별자치시</td>\n",
       "      <td>NaN</td>\n",
       "      <td>76</td>\n",
       "    </tr>\n",
       "    <tr>\n",
       "      <th>430</th>\n",
       "      <td>2023</td>\n",
       "      <td>01</td>\n",
       "      <td>휘발유</td>\n",
       "      <td>세종특별자치시</td>\n",
       "      <td>NaN</td>\n",
       "      <td>23</td>\n",
       "    </tr>\n",
       "    <tr>\n",
       "      <th>551</th>\n",
       "      <td>2023</td>\n",
       "      <td>02</td>\n",
       "      <td>LPG(액화석유가스)</td>\n",
       "      <td>세종특별자치시</td>\n",
       "      <td>NaN</td>\n",
       "      <td>1</td>\n",
       "    </tr>\n",
       "    <tr>\n",
       "      <th>702</th>\n",
       "      <td>2023</td>\n",
       "      <td>02</td>\n",
       "      <td>경유</td>\n",
       "      <td>세종특별자치시</td>\n",
       "      <td>NaN</td>\n",
       "      <td>79</td>\n",
       "    </tr>\n",
       "  </tbody>\n",
       "</table>\n",
       "</div>"
      ],
      "text/plain": [
       "       연도   월           연료       시도 시군구_수정  말소차량대수\n",
       "66   2023  01  LPG(액화석유가스)  세종특별자치시    NaN       2\n",
       "223  2023  01           경유  세종특별자치시    NaN      76\n",
       "430  2023  01          휘발유  세종특별자치시    NaN      23\n",
       "551  2023  02  LPG(액화석유가스)  세종특별자치시    NaN       1\n",
       "702  2023  02           경유  세종특별자치시    NaN      79"
      ]
     },
     "execution_count": 1959,
     "metadata": {},
     "output_type": "execute_result"
    }
   ],
   "source": [
    "grp_erase.loc[grp_erase['시군구_수정'].isnull()].head()"
   ]
  },
  {
   "cell_type": "code",
   "execution_count": 1960,
   "id": "313ca8ea-7a34-4595-9e50-d5e80f5f0695",
   "metadata": {},
   "outputs": [
    {
     "data": {
      "text/plain": [
       "([2022, 2023, 2023, 2023, 2023, 2023, 2023, 2023, 2023, 2023, 2023, 2023],\n",
       " [12, 1, 2, 3, 4, 5, 6, 7, 8, 9, 10, 11])"
      ]
     },
     "execution_count": 1960,
     "metadata": {},
     "output_type": "execute_result"
    }
   ],
   "source": [
    "periods = 12 # !!! 수정(2023.08.23)\n",
    "y_plist = list(pd.date_range(end=date, periods=periods, freq=\"MS\").year) # !!! 수정(2023.08.23)\n",
    "mth_plist = list(pd.date_range(end=date, periods=periods, freq=\"MS\").month) # !!! 수정(2023.08.23)\n",
    "y_plist, mth_plist"
   ]
  },
  {
   "cell_type": "code",
   "execution_count": 1961,
   "id": "02dab6cf-8ea0-42ba-bab8-b1a7d6202f69",
   "metadata": {},
   "outputs": [],
   "source": [
    "yr_list, mth_list, fuel_list, ctpv_list, sgg_list = [], [], [], [], []\n",
    "sl = num_car_by_local1.drop_duplicates(['시도', '시군구_수정']).reset_index(drop=True)\n",
    "for ctpv, sgg in sl[['시도', '시군구_수정']].values:\n",
    "    for fuel in sl['연료'].unique():\n",
    "        for yr, mth in zip(y_plist, mth_plist):\n",
    "            mthm = f'{mth:0>2}'\n",
    "            yr_list.append(str(yr))\n",
    "            mth_list.append(mthm)\n",
    "            fuel_list.append(fuel)\n",
    "            ctpv_list.append(ctpv)\n",
    "            sgg_list.append(sgg)\n",
    "base = pd.DataFrame({'연도':yr_list, '월':mth_list, '연료':fuel_list, '시도':ctpv_list, '시군구_수정':sgg_list})"
   ]
  },
  {
   "cell_type": "code",
   "execution_count": 1962,
   "id": "840d1a12-8277-4417-af16-395f10fcf1cf",
   "metadata": {},
   "outputs": [],
   "source": [
    "base1 = base.merge(num_car_by_local1, on=['연도', '월', '연료', '시도', '시군구_수정'], how='left')\n",
    "base2 = base1.merge(num_car_by_local2, on=['연도', '월', '연료', '시도', '시군구_수정'], how='left')\n",
    "base3 = base2.merge(grp_erase, on=['연도', '월', '연료', '시도', '시군구_수정'], how='left')\n",
    "base3[['차량대수', '등록차량대수', '말소차량대수']] = base3[['차량대수', '등록차량대수', '말소차량대수']].fillna(0)"
   ]
  },
  {
   "cell_type": "code",
   "execution_count": 1963,
   "id": "aa31ca9a-0329-4c93-9c35-dea0ad0f24d1",
   "metadata": {},
   "outputs": [],
   "source": [
    "n = len(base3['월'].unique())\n",
    "for i in range(base3.shape[0] // n):\n",
    "    for j in range(2, n+1):\n",
    "        base3.loc[(i+1)*n - j, '차량대수'] = base3.loc[(i+1)*n - (j-1), '차량대수'] + base3.loc[(i+1)*n - (j-1), '말소차량대수'] - base3.loc[(i+1)*n - (j-1), '등록차량대수']"
   ]
  },
  {
   "cell_type": "code",
   "execution_count": 1964,
   "id": "57a1dedb-6836-4742-a871-9a7ccbfaaf08",
   "metadata": {
    "tags": []
   },
   "outputs": [
    {
     "data": {
      "text/html": [
       "<div>\n",
       "<style scoped>\n",
       "    .dataframe tbody tr th:only-of-type {\n",
       "        vertical-align: middle;\n",
       "    }\n",
       "\n",
       "    .dataframe tbody tr th {\n",
       "        vertical-align: top;\n",
       "    }\n",
       "\n",
       "    .dataframe thead th {\n",
       "        text-align: right;\n",
       "    }\n",
       "</style>\n",
       "<table border=\"1\" class=\"dataframe\">\n",
       "  <thead>\n",
       "    <tr style=\"text-align: right;\">\n",
       "      <th></th>\n",
       "      <th>연도</th>\n",
       "      <th>월</th>\n",
       "      <th>연료</th>\n",
       "      <th>시도</th>\n",
       "      <th>시군구_수정</th>\n",
       "      <th>차량대수</th>\n",
       "      <th>등록차량대수</th>\n",
       "      <th>말소차량대수</th>\n",
       "    </tr>\n",
       "  </thead>\n",
       "  <tbody>\n",
       "    <tr>\n",
       "      <th>0</th>\n",
       "      <td>2022</td>\n",
       "      <td>12</td>\n",
       "      <td>CNG(압축천연가스)</td>\n",
       "      <td>전라남도</td>\n",
       "      <td>해남군</td>\n",
       "      <td>1.00</td>\n",
       "      <td>0.00</td>\n",
       "      <td>0.00</td>\n",
       "    </tr>\n",
       "    <tr>\n",
       "      <th>1</th>\n",
       "      <td>2023</td>\n",
       "      <td>01</td>\n",
       "      <td>CNG(압축천연가스)</td>\n",
       "      <td>전라남도</td>\n",
       "      <td>해남군</td>\n",
       "      <td>1.00</td>\n",
       "      <td>0.00</td>\n",
       "      <td>0.00</td>\n",
       "    </tr>\n",
       "    <tr>\n",
       "      <th>2</th>\n",
       "      <td>2023</td>\n",
       "      <td>02</td>\n",
       "      <td>CNG(압축천연가스)</td>\n",
       "      <td>전라남도</td>\n",
       "      <td>해남군</td>\n",
       "      <td>1.00</td>\n",
       "      <td>0.00</td>\n",
       "      <td>0.00</td>\n",
       "    </tr>\n",
       "    <tr>\n",
       "      <th>3</th>\n",
       "      <td>2023</td>\n",
       "      <td>03</td>\n",
       "      <td>CNG(압축천연가스)</td>\n",
       "      <td>전라남도</td>\n",
       "      <td>해남군</td>\n",
       "      <td>1.00</td>\n",
       "      <td>0.00</td>\n",
       "      <td>0.00</td>\n",
       "    </tr>\n",
       "    <tr>\n",
       "      <th>4</th>\n",
       "      <td>2023</td>\n",
       "      <td>04</td>\n",
       "      <td>CNG(압축천연가스)</td>\n",
       "      <td>전라남도</td>\n",
       "      <td>해남군</td>\n",
       "      <td>1.00</td>\n",
       "      <td>0.00</td>\n",
       "      <td>0.00</td>\n",
       "    </tr>\n",
       "    <tr>\n",
       "      <th>...</th>\n",
       "      <td>...</td>\n",
       "      <td>...</td>\n",
       "      <td>...</td>\n",
       "      <td>...</td>\n",
       "      <td>...</td>\n",
       "      <td>...</td>\n",
       "      <td>...</td>\n",
       "      <td>...</td>\n",
       "    </tr>\n",
       "    <tr>\n",
       "      <th>11131</th>\n",
       "      <td>2023</td>\n",
       "      <td>07</td>\n",
       "      <td>휘발유</td>\n",
       "      <td>인천광역시</td>\n",
       "      <td>남구</td>\n",
       "      <td>9.00</td>\n",
       "      <td>0.00</td>\n",
       "      <td>0.00</td>\n",
       "    </tr>\n",
       "    <tr>\n",
       "      <th>11132</th>\n",
       "      <td>2023</td>\n",
       "      <td>08</td>\n",
       "      <td>휘발유</td>\n",
       "      <td>인천광역시</td>\n",
       "      <td>남구</td>\n",
       "      <td>9.00</td>\n",
       "      <td>0.00</td>\n",
       "      <td>0.00</td>\n",
       "    </tr>\n",
       "    <tr>\n",
       "      <th>11133</th>\n",
       "      <td>2023</td>\n",
       "      <td>09</td>\n",
       "      <td>휘발유</td>\n",
       "      <td>인천광역시</td>\n",
       "      <td>남구</td>\n",
       "      <td>9.00</td>\n",
       "      <td>0.00</td>\n",
       "      <td>0.00</td>\n",
       "    </tr>\n",
       "    <tr>\n",
       "      <th>11134</th>\n",
       "      <td>2023</td>\n",
       "      <td>10</td>\n",
       "      <td>휘발유</td>\n",
       "      <td>인천광역시</td>\n",
       "      <td>남구</td>\n",
       "      <td>9.00</td>\n",
       "      <td>0.00</td>\n",
       "      <td>0.00</td>\n",
       "    </tr>\n",
       "    <tr>\n",
       "      <th>11135</th>\n",
       "      <td>2023</td>\n",
       "      <td>11</td>\n",
       "      <td>휘발유</td>\n",
       "      <td>인천광역시</td>\n",
       "      <td>남구</td>\n",
       "      <td>9.00</td>\n",
       "      <td>0.00</td>\n",
       "      <td>0.00</td>\n",
       "    </tr>\n",
       "  </tbody>\n",
       "</table>\n",
       "<p>11136 rows × 8 columns</p>\n",
       "</div>"
      ],
      "text/plain": [
       "         연도   월           연료     시도 시군구_수정  차량대수  등록차량대수  말소차량대수\n",
       "0      2022  12  CNG(압축천연가스)   전라남도    해남군  1.00    0.00    0.00\n",
       "1      2023  01  CNG(압축천연가스)   전라남도    해남군  1.00    0.00    0.00\n",
       "2      2023  02  CNG(압축천연가스)   전라남도    해남군  1.00    0.00    0.00\n",
       "3      2023  03  CNG(압축천연가스)   전라남도    해남군  1.00    0.00    0.00\n",
       "4      2023  04  CNG(압축천연가스)   전라남도    해남군  1.00    0.00    0.00\n",
       "...     ...  ..          ...    ...    ...   ...     ...     ...\n",
       "11131  2023  07          휘발유  인천광역시     남구  9.00    0.00    0.00\n",
       "11132  2023  08          휘발유  인천광역시     남구  9.00    0.00    0.00\n",
       "11133  2023  09          휘발유  인천광역시     남구  9.00    0.00    0.00\n",
       "11134  2023  10          휘발유  인천광역시     남구  9.00    0.00    0.00\n",
       "11135  2023  11          휘발유  인천광역시     남구  9.00    0.00    0.00\n",
       "\n",
       "[11136 rows x 8 columns]"
      ]
     },
     "execution_count": 1964,
     "metadata": {},
     "output_type": "execute_result"
    }
   ],
   "source": [
    "base3"
   ]
  },
  {
   "cell_type": "code",
   "execution_count": 1965,
   "id": "39ea3ecc-6b39-46dd-ab76-7b68032c08ff",
   "metadata": {
    "tags": []
   },
   "outputs": [
    {
     "data": {
      "text/plain": [
       "(0, 8)"
      ]
     },
     "execution_count": 1965,
     "metadata": {},
     "output_type": "execute_result"
    }
   ],
   "source": [
    "base3[base3['차량대수'] < 0].shape"
   ]
  },
  {
   "cell_type": "code",
   "execution_count": 1966,
   "id": "afc90756-5205-4141-b0fe-f7311d5a1343",
   "metadata": {
    "tags": []
   },
   "outputs": [
    {
     "data": {
      "text/plain": [
       "'20231103'"
      ]
     },
     "execution_count": 1966,
     "metadata": {},
     "output_type": "execute_result"
    }
   ],
   "source": [
    "today_date"
   ]
  },
  {
   "cell_type": "code",
   "execution_count": 1967,
   "id": "57463a67-3e3d-4d8f-8c8b-926effbe2957",
   "metadata": {
    "tags": []
   },
   "outputs": [
    {
     "data": {
      "text/plain": [
       "(10208, 8)"
      ]
     },
     "execution_count": 1967,
     "metadata": {},
     "output_type": "execute_result"
    }
   ],
   "source": [
    "base3[(base3['연도'] != today_date[:4]) | (base3['월'] != today_date[4:6])].shape"
   ]
  },
  {
   "cell_type": "markdown",
   "id": "af254d9f-32db-4e1b-a9b1-1aa1bd2aa635",
   "metadata": {},
   "source": [
    "#### !!! 수정(2023.10.27)"
   ]
  },
  {
   "cell_type": "code",
   "execution_count": 1968,
   "id": "965f2310-f078-47df-91a8-6c0cfe634d32",
   "metadata": {
    "tags": []
   },
   "outputs": [
    {
     "data": {
      "text/html": [
       "<div>\n",
       "<style scoped>\n",
       "    .dataframe tbody tr th:only-of-type {\n",
       "        vertical-align: middle;\n",
       "    }\n",
       "\n",
       "    .dataframe tbody tr th {\n",
       "        vertical-align: top;\n",
       "    }\n",
       "\n",
       "    .dataframe thead th {\n",
       "        text-align: right;\n",
       "    }\n",
       "</style>\n",
       "<table border=\"1\" class=\"dataframe\">\n",
       "  <thead>\n",
       "    <tr style=\"text-align: right;\">\n",
       "      <th></th>\n",
       "      <th>연도</th>\n",
       "      <th>월</th>\n",
       "      <th>연료</th>\n",
       "      <th>시도</th>\n",
       "      <th>시군구_수정</th>\n",
       "      <th>차량대수</th>\n",
       "      <th>등록차량대수</th>\n",
       "      <th>말소차량대수</th>\n",
       "    </tr>\n",
       "  </thead>\n",
       "  <tbody>\n",
       "    <tr>\n",
       "      <th>0</th>\n",
       "      <td>2022</td>\n",
       "      <td>12</td>\n",
       "      <td>CNG(압축천연가스)</td>\n",
       "      <td>전라남도</td>\n",
       "      <td>해남군</td>\n",
       "      <td>1.00</td>\n",
       "      <td>0.00</td>\n",
       "      <td>0.00</td>\n",
       "    </tr>\n",
       "    <tr>\n",
       "      <th>1</th>\n",
       "      <td>2023</td>\n",
       "      <td>01</td>\n",
       "      <td>CNG(압축천연가스)</td>\n",
       "      <td>전라남도</td>\n",
       "      <td>해남군</td>\n",
       "      <td>1.00</td>\n",
       "      <td>0.00</td>\n",
       "      <td>0.00</td>\n",
       "    </tr>\n",
       "    <tr>\n",
       "      <th>2</th>\n",
       "      <td>2023</td>\n",
       "      <td>02</td>\n",
       "      <td>CNG(압축천연가스)</td>\n",
       "      <td>전라남도</td>\n",
       "      <td>해남군</td>\n",
       "      <td>1.00</td>\n",
       "      <td>0.00</td>\n",
       "      <td>0.00</td>\n",
       "    </tr>\n",
       "    <tr>\n",
       "      <th>3</th>\n",
       "      <td>2023</td>\n",
       "      <td>03</td>\n",
       "      <td>CNG(압축천연가스)</td>\n",
       "      <td>전라남도</td>\n",
       "      <td>해남군</td>\n",
       "      <td>1.00</td>\n",
       "      <td>0.00</td>\n",
       "      <td>0.00</td>\n",
       "    </tr>\n",
       "    <tr>\n",
       "      <th>4</th>\n",
       "      <td>2023</td>\n",
       "      <td>04</td>\n",
       "      <td>CNG(압축천연가스)</td>\n",
       "      <td>전라남도</td>\n",
       "      <td>해남군</td>\n",
       "      <td>1.00</td>\n",
       "      <td>0.00</td>\n",
       "      <td>0.00</td>\n",
       "    </tr>\n",
       "    <tr>\n",
       "      <th>...</th>\n",
       "      <td>...</td>\n",
       "      <td>...</td>\n",
       "      <td>...</td>\n",
       "      <td>...</td>\n",
       "      <td>...</td>\n",
       "      <td>...</td>\n",
       "      <td>...</td>\n",
       "      <td>...</td>\n",
       "    </tr>\n",
       "    <tr>\n",
       "      <th>10203</th>\n",
       "      <td>2023</td>\n",
       "      <td>06</td>\n",
       "      <td>휘발유</td>\n",
       "      <td>인천광역시</td>\n",
       "      <td>남구</td>\n",
       "      <td>9.00</td>\n",
       "      <td>0.00</td>\n",
       "      <td>0.00</td>\n",
       "    </tr>\n",
       "    <tr>\n",
       "      <th>10204</th>\n",
       "      <td>2023</td>\n",
       "      <td>07</td>\n",
       "      <td>휘발유</td>\n",
       "      <td>인천광역시</td>\n",
       "      <td>남구</td>\n",
       "      <td>9.00</td>\n",
       "      <td>0.00</td>\n",
       "      <td>0.00</td>\n",
       "    </tr>\n",
       "    <tr>\n",
       "      <th>10205</th>\n",
       "      <td>2023</td>\n",
       "      <td>08</td>\n",
       "      <td>휘발유</td>\n",
       "      <td>인천광역시</td>\n",
       "      <td>남구</td>\n",
       "      <td>9.00</td>\n",
       "      <td>0.00</td>\n",
       "      <td>0.00</td>\n",
       "    </tr>\n",
       "    <tr>\n",
       "      <th>10206</th>\n",
       "      <td>2023</td>\n",
       "      <td>09</td>\n",
       "      <td>휘발유</td>\n",
       "      <td>인천광역시</td>\n",
       "      <td>남구</td>\n",
       "      <td>9.00</td>\n",
       "      <td>0.00</td>\n",
       "      <td>0.00</td>\n",
       "    </tr>\n",
       "    <tr>\n",
       "      <th>10207</th>\n",
       "      <td>2023</td>\n",
       "      <td>10</td>\n",
       "      <td>휘발유</td>\n",
       "      <td>인천광역시</td>\n",
       "      <td>남구</td>\n",
       "      <td>9.00</td>\n",
       "      <td>0.00</td>\n",
       "      <td>0.00</td>\n",
       "    </tr>\n",
       "  </tbody>\n",
       "</table>\n",
       "<p>10208 rows × 8 columns</p>\n",
       "</div>"
      ],
      "text/plain": [
       "         연도   월           연료     시도 시군구_수정  차량대수  등록차량대수  말소차량대수\n",
       "0      2022  12  CNG(압축천연가스)   전라남도    해남군  1.00    0.00    0.00\n",
       "1      2023  01  CNG(압축천연가스)   전라남도    해남군  1.00    0.00    0.00\n",
       "2      2023  02  CNG(압축천연가스)   전라남도    해남군  1.00    0.00    0.00\n",
       "3      2023  03  CNG(압축천연가스)   전라남도    해남군  1.00    0.00    0.00\n",
       "4      2023  04  CNG(압축천연가스)   전라남도    해남군  1.00    0.00    0.00\n",
       "...     ...  ..          ...    ...    ...   ...     ...     ...\n",
       "10203  2023  06          휘발유  인천광역시     남구  9.00    0.00    0.00\n",
       "10204  2023  07          휘발유  인천광역시     남구  9.00    0.00    0.00\n",
       "10205  2023  08          휘발유  인천광역시     남구  9.00    0.00    0.00\n",
       "10206  2023  09          휘발유  인천광역시     남구  9.00    0.00    0.00\n",
       "10207  2023  10          휘발유  인천광역시     남구  9.00    0.00    0.00\n",
       "\n",
       "[10208 rows x 8 columns]"
      ]
     },
     "execution_count": 1968,
     "metadata": {},
     "output_type": "execute_result"
    }
   ],
   "source": [
    "# 수동\n",
    "base3 = base3[(base3['연도'] != today_date[:4]) | (base3['월'] != today_date[4:6])].reset_index(drop=True)\n",
    "base3"
   ]
  },
  {
   "cell_type": "code",
   "execution_count": 1969,
   "id": "eecb5216-119e-4981-a580-57b6c2de83f3",
   "metadata": {
    "tags": []
   },
   "outputs": [
    {
     "data": {
      "text/plain": [
       "연도    월 \n",
       "2022  12   1494395.00\n",
       "2023  01   1485938.00\n",
       "      02   1475685.00\n",
       "      03   1455366.00\n",
       "      04   1435062.00\n",
       "      05   1416001.00\n",
       "      06   1400369.00\n",
       "      07   1386277.00\n",
       "      08   1371002.00\n",
       "      09   1356024.00\n",
       "      10   1345038.00\n",
       "Name: 차량대수, dtype: float64"
      ]
     },
     "execution_count": 1969,
     "metadata": {},
     "output_type": "execute_result"
    }
   ],
   "source": [
    "base3.groupby(['연도', '월'], dropna=False)['차량대수'].sum()"
   ]
  },
  {
   "cell_type": "code",
   "execution_count": 1970,
   "id": "7e735526-4629-42bb-9595-d9d1f7dab97f",
   "metadata": {},
   "outputs": [
    {
     "data": {
      "text/plain": [
       "Index(['LOAD_DT', 'CRTR_YM', 'YR', 'MM', 'FUEL_CD', 'CTPV', 'SGG',\n",
       "       'VHCL_MKCNT'],\n",
       "      dtype='object')"
      ]
     },
     "execution_count": 1970,
     "metadata": {},
     "output_type": "execute_result"
    }
   ],
   "source": [
    "today_date = datetime.today().strftime(\"%Y%m%d\")\n",
    "base3['테이블생성일자'] = today_date\n",
    "base3['기준연월'] = base3['연도'] + '.' + base3['월']\n",
    "base4 = base3[[\n",
    "    '테이블생성일자', \n",
    "    '기준연월',\n",
    "    '연도',\n",
    "    '월', \n",
    "    '연료', \n",
    "    '시도', \n",
    "    '시군구_수정', \n",
    "    '차량대수',\n",
    "]]\n",
    "chc_col = {\n",
    "    '테이블생성일자':'LOAD_DT', \n",
    "    '기준연월':'CRTR_YM',\n",
    "    '연도':'YR', \n",
    "    '월':'MM', \n",
    "    '연료':'FUEL_CD', \n",
    "    '시도':'CTPV', \n",
    "    '시군구_수정':'SGG', \n",
    "    '차량대수':'VHCL_MKCNT', \n",
    "}\n",
    "STD_BD_GRD4_RGN_CURSTT = base4.rename(columns=chc_col)\n",
    "\n",
    "STD_BD_GRD4_RGN_CURSTT.columns"
   ]
  },
  {
   "cell_type": "markdown",
   "id": "7690a14b-979a-496f-b78b-d0aa530b283e",
   "metadata": {},
   "source": [
    "### [출력] STD_BD_GRD4_RGN_CURSTT"
   ]
  },
  {
   "cell_type": "code",
   "execution_count": 1971,
   "id": "18173a6e-ba7a-4fec-ad99-73043dc16a30",
   "metadata": {},
   "outputs": [],
   "source": [
    "# expdf = STD_BD_GRD4_RGN_CURSTT\n",
    "# table_nm = 'STD_BD_GRD4_RGN_CURSTT'.upper()\n",
    "\n",
    "# # 테이블 생성\n",
    "# sql = 'create or replace table ' + table_nm + '( \\n'\n",
    "\n",
    "# for idx,column in enumerate(expdf.columns):\n",
    "#     # if 'float' in expdf[column].dtype.name:\n",
    "#     #     sql += column + ' float'\n",
    "#     # elif 'int' in expdf[column].dtype.name:\n",
    "#     #     sql += column + ' number'\n",
    "#     # else:\n",
    "#     sql += column + ' varchar(255)'\n",
    "\n",
    "#     if len(expdf.columns) - 1 != idx:\n",
    "#         sql += ','\n",
    "#     sql += '\\n'\n",
    "# sql += ')'    \n",
    "# we.execute(sql)\n",
    "\n",
    "# # 데이터 추가\n",
    "# # 5s\n",
    "# we.import_from_pandas(expdf, table_nm)\n",
    "\n",
    "# print(f'data export : {table_nm}')"
   ]
  },
  {
   "cell_type": "code",
   "execution_count": 1972,
   "id": "26b50622-2981-40af-abde-e419ce99149e",
   "metadata": {
    "tags": []
   },
   "outputs": [],
   "source": [
    "# # 0s\n",
    "# STD_BD_GRD4_RGN_CURSTT.to_csv('STD_BD_GRD4_RGN_CURSTT.csv', index=False)"
   ]
  },
  {
   "cell_type": "code",
   "execution_count": 1973,
   "id": "783abe3a-9bc0-4eb2-b992-0b28635b84cd",
   "metadata": {},
   "outputs": [],
   "source": [
    "## 4등급 연도, 시도, 차종별 차량 대수\n",
    "### 현재 차량 대수\n",
    "num_car_by_local1 = dfm.groupby(['시도', '차종'], dropna=False)['차대번호'].count().reset_index()\n",
    "num_car_by_local1 = num_car_by_local1.rename(columns={'차대번호':'차량대수'})\n",
    "num_car_by_local1['연도'] = max_year"
   ]
  },
  {
   "cell_type": "code",
   "execution_count": 1974,
   "id": "6d70de88-39fa-47e3-b074-d8cb361717aa",
   "metadata": {},
   "outputs": [],
   "source": [
    "# !!! 수정(2023.10.24)\n",
    "### 등록 차량 대수\n",
    "num_car_by_local2 = dfm.groupby(['시도', '차종', '최초등록일자_년'], dropna=False)['차대번호'].count().reset_index()\n",
    "num_car_by_local2 = num_car_by_local2.rename(columns={'차대번호':'등록차량대수', '최초등록일자_년':'연도'})"
   ]
  },
  {
   "cell_type": "code",
   "execution_count": 1975,
   "id": "d5d1492f-c34f-4d8f-9949-0b77a56f15a2",
   "metadata": {},
   "outputs": [],
   "source": [
    "# !!! 수정(2023.10.24)\n",
    "### 말소 차량 대수\n",
    "grp_erase = errc.groupby(['변경일자_년', '시도', '차종'], dropna=False)['차대번호'].count().reset_index()\n",
    "grp_erase = grp_erase.rename(columns={'차대번호':'말소차량대수', '변경일자_년':'연도'})\n",
    "grp_erase = grp_erase.sort_values(['시도'])"
   ]
  },
  {
   "cell_type": "code",
   "execution_count": 1976,
   "id": "45a5f7dc-2acf-497c-b897-2ddf9704e9fd",
   "metadata": {},
   "outputs": [
    {
     "data": {
      "text/plain": [
       "[2020, 2021, 2022, 2023]"
      ]
     },
     "execution_count": 1976,
     "metadata": {},
     "output_type": "execute_result"
    }
   ],
   "source": [
    "y_plist = list(pd.date_range(end=date, periods=4, freq=\"YS\").year)\n",
    "\n",
    "y_plist"
   ]
  },
  {
   "cell_type": "code",
   "execution_count": 1977,
   "id": "691ae71f-e27a-4080-9261-e9f94d256d0b",
   "metadata": {},
   "outputs": [],
   "source": [
    "yr_list = []\n",
    "fuel_list = []\n",
    "ctpv_list = []\n",
    "cd_list = []\n",
    "for ctpv in num_car_by_local1['시도'].unique():\n",
    "    for cd in ['승용', '승합', '화물', '특수']:\n",
    "        for yrm in y_plist:\n",
    "            yr_list.append(str(yrm))\n",
    "            fuel_list.append(fuel)\n",
    "            ctpv_list.append(ctpv)\n",
    "            cd_list.append(cd)\n",
    "base = pd.DataFrame({'연도':yr_list, '시도':ctpv_list, '차종':cd_list})"
   ]
  },
  {
   "cell_type": "code",
   "execution_count": 1978,
   "id": "c29a19ab-0ad7-4e3c-b7de-f0373acb5ed5",
   "metadata": {},
   "outputs": [],
   "source": [
    "base1 = base.merge(num_car_by_local1, on=['연도', '시도', '차종'], how='left')\n",
    "base2 = base1.merge(num_car_by_local2, on=['연도', '시도', '차종'], how='left')\n",
    "base3 = base2.merge(grp_erase, on=['연도', '시도', '차종'], how='left')\n",
    "base3[['차량대수', '등록차량대수', '말소차량대수']] = base3[['차량대수', '등록차량대수', '말소차량대수']].fillna(0)"
   ]
  },
  {
   "cell_type": "code",
   "execution_count": 1979,
   "id": "5af0274d-3289-4b48-9188-617f9aaf0830",
   "metadata": {},
   "outputs": [],
   "source": [
    "n = len(base3['연도'].unique())\n",
    "for i in range(base3.shape[0] // n):\n",
    "    for j in range(2, n+1):\n",
    "        base3.loc[(i+1)*n - j, '차량대수'] = base3.loc[(i+1)*n - (j-1), '차량대수'] + base3.loc[(i+1)*n - (j-1), '말소차량대수'] - base3.loc[(i+1)*n - (j-1), '등록차량대수']"
   ]
  },
  {
   "cell_type": "code",
   "execution_count": 1980,
   "id": "af507711-6dbc-4678-88bd-c1fbd262f1e4",
   "metadata": {},
   "outputs": [],
   "source": [
    "today_date = datetime.today().strftime(\"%Y%m%d\")\n",
    "base3['테이블생성일자'] = today_date\n",
    "base4 = base3[[\n",
    "    '테이블생성일자', \n",
    "    '연도', \n",
    "    '시도', \n",
    "    '차종', \n",
    "    '차량대수', \n",
    "]]\n",
    "chc_col = {\n",
    "    '테이블생성일자':'LOAD_DT',\n",
    "    '연도':'CRTR_Y', \n",
    "    '시도':'CTPV', \n",
    "    '차종':'VHCTY_CD', \n",
    "    '차량대수':'VHCL_MKCNT', \n",
    "}\n",
    "STD_BD_GRD4_RGN_CURSTT_MOD = base4.rename(columns=chc_col)"
   ]
  },
  {
   "cell_type": "code",
   "execution_count": 1981,
   "id": "c2387561-f593-440e-bb30-c94f4d862cfb",
   "metadata": {
    "tags": []
   },
   "outputs": [
    {
     "data": {
      "text/plain": [
       "연도\n",
       "2020   1718609.00\n",
       "2021   1602306.00\n",
       "2022   1494545.00\n",
       "2023   1345122.00\n",
       "Name: 차량대수, dtype: float64"
      ]
     },
     "execution_count": 1981,
     "metadata": {},
     "output_type": "execute_result"
    }
   ],
   "source": [
    "base4.groupby('연도')['차량대수'].sum()"
   ]
  },
  {
   "cell_type": "markdown",
   "id": "8e8cfee0-78c1-499c-89fd-9b4e1504a359",
   "metadata": {},
   "source": [
    "### [출력] STD_BD_GRD4_RGN_CURSTT_MOD"
   ]
  },
  {
   "cell_type": "code",
   "execution_count": 1982,
   "id": "9e13a452-b87f-491a-b5cd-2a6109dc6eb3",
   "metadata": {},
   "outputs": [],
   "source": [
    "# expdf = STD_BD_GRD4_RGN_CURSTT_MOD\n",
    "# table_nm = 'STD_BD_GRD4_RGN_CURSTT_MOD'.upper()\n",
    "\n",
    "# # 테이블 생성\n",
    "# sql = 'create or replace table ' + table_nm + '( \\n'\n",
    "\n",
    "# for idx,column in enumerate(expdf.columns):\n",
    "#     # if 'float' in expdf[column].dtype.name:\n",
    "#     #     sql += column + ' float'\n",
    "#     # elif 'int' in expdf[column].dtype.name:\n",
    "#     #     sql += column + ' number'\n",
    "#     # else:\n",
    "#     sql += column + ' varchar(255)'\n",
    "\n",
    "#     if len(expdf.columns) - 1 != idx:\n",
    "#         sql += ','\n",
    "#     sql += '\\n'\n",
    "# sql += ')'    \n",
    "# we.execute(sql)\n",
    "\n",
    "# # 데이터 추가\n",
    "# # 5s\n",
    "# we.import_from_pandas(expdf, table_nm)\n",
    "\n",
    "# print(f'data export : {table_nm}')"
   ]
  },
  {
   "cell_type": "code",
   "execution_count": 1983,
   "id": "fee5891a-d0c5-4f20-be75-fc0e97262bd9",
   "metadata": {},
   "outputs": [],
   "source": [
    "## 4등급 차량현황(그룹)\n",
    "# - 연도, 월, 시도, 시군구, 연료, 차종, 차종유형, 용도\n",
    "### 현재 차량 대수\n",
    "# num_car_by_local1 = dfm.groupby(['시도', '시군구_수정', '연료', '차종', '차종유형', '용도'], dropna=False, as_index=False).agg({'차대번호':'count', 'DPF_YN':'count', '조기폐차최종승인YN':'count'})\n",
    "# num_car_by_local1 = num_car_by_local1.rename(columns={'차대번호':'차량대수', 'DPF_YN':'저감장치부착대수', '조기폐차최종승인YN':'조기폐차대수'})\n",
    "# num_car_by_local1['저감장치미부착대수'] = num_car_by_local1['차량대수'] - num_car_by_local1['저감장치부착대수']\n",
    "\n",
    "# max_date = str(dfm['최초등록일자'].max())\n",
    "# max_year = max_date[:4]\n",
    "# max_month = max_date[4:6]\n",
    "# num_car_by_local1[['연도', '월']] = [max_year, max_month]\n",
    "\n",
    "# if len(num_car_by_local1['월'].unique()) != 1:\n",
    "#     # 오름차순 정렬\n",
    "#     num_car_by_local1 = num_car_by_local1.sort_values(['시도', '시군구_수정', '연료', '차종', '차종유형', '용도', '연도', '월']).reset_index(drop=True)\n",
    "#     num_car_by_local1['차량대수_전월'] = num_car_by_local1['차량대수'].shift(1)\n",
    "#     num_car_by_local1['감소율'] = (num_car_by_local1['차량대수_전월'] - num_car_by_local1['차량대수']) / num_car_by_local1['차량대수_전월']\n",
    "#     for n in range(num_car_by_local1.shape[0] // len(num_car_by_local1['월'].unique())):\n",
    "#         num_car_by_local1.loc[n*3, '감소율'] = np.nan\n",
    "# else:\n",
    "#     num_car_by_local1['감소율'] = np.nan\n",
    "\n",
    "# today_date = datetime.today().strftime(\"%Y%m%d\")\n",
    "# num_car_by_local1['테이블생성일자'] = today_date"
   ]
  },
  {
   "cell_type": "code",
   "execution_count": 1984,
   "id": "4b075a1f-cda4-4f7c-8241-f5fbb71bee64",
   "metadata": {},
   "outputs": [],
   "source": [
    "cse = carr.merge(srcr, on='제원관리번호', how='left')\n",
    "ce = cse.merge(elpm, on='차대번호', how='left')\n",
    "cea = ce.merge(attr, on='차대번호', how='left')"
   ]
  },
  {
   "cell_type": "code",
   "execution_count": 1985,
   "id": "9b082cdf-03c4-44dd-829c-85031952e888",
   "metadata": {},
   "outputs": [],
   "source": [
    "cea['법정동코드'] = cea['법정동코드'].astype('str')\n",
    "cea['법정동코드'] = cea['법정동코드'].str[:5] + '00000'\n",
    "cea['법정동코드'] = pd.to_numeric(cea['법정동코드'])"
   ]
  },
  {
   "cell_type": "code",
   "execution_count": 1986,
   "id": "7d10eb4d-e54e-430f-92e7-b7780f75fd95",
   "metadata": {},
   "outputs": [],
   "source": [
    "dfe = cea.merge(coder, on='법정동코드', how='left')"
   ]
  },
  {
   "cell_type": "code",
   "execution_count": 1987,
   "id": "49550005-3f45-46f9-9cc0-d32daa6c25ec",
   "metadata": {},
   "outputs": [
    {
     "data": {
      "text/plain": [
       "0"
      ]
     },
     "execution_count": 1987,
     "metadata": {},
     "output_type": "execute_result"
    }
   ],
   "source": [
    "dfe['시도'].isnull().sum()"
   ]
  },
  {
   "cell_type": "code",
   "execution_count": 1988,
   "id": "afd54842-d7ec-4d71-92ae-105d58afeef2",
   "metadata": {},
   "outputs": [],
   "source": [
    "# dfe.loc[dfe['법정동코드'] == 4163055000, ['시도', '시군구']] = ['경기도', '양주시']"
   ]
  },
  {
   "cell_type": "code",
   "execution_count": 1989,
   "id": "b7f0d98d-0c66-4523-8ef0-4713115717da",
   "metadata": {},
   "outputs": [],
   "source": [
    "dfe['시군구_수정'] = dfe['시군구'].str.split(' ').str[0]"
   ]
  },
  {
   "cell_type": "code",
   "execution_count": 1990,
   "id": "5d135b93-2bc4-4fc5-863f-8fcec6016854",
   "metadata": {},
   "outputs": [
    {
     "data": {
      "text/plain": [
       "Index(['차대번호', '법정동코드', '배출가스등급', '배출가스인증번호', '차량말소YN_x', '제원관리번호', '차량연식',\n",
       "       '차종', '용도', '최초등록일자', '제작일자', '차량관리번호', '자동차등록번호', '검사유효일', '소유자구분',\n",
       "       '연료', '차종유형', '제작사명', '차명', '자동차형식', '엔진형식', '차종분류', '총중량', '적재중량',\n",
       "       '배기량', '엔진출력', '차량말소YN_y', '변경일자', '시도', '시군구', '시도코드', '시군구코드',\n",
       "       '변경일자_년', '변경일자_월', '변경일자_일', '시군구_수정', '조기폐차상태코드', '조기폐차최종승인YN',\n",
       "       '말소일자', '조기폐차신청여부', '저감장치구분', '저감장치종류', 'DPF_YN'],\n",
       "      dtype='object')"
      ]
     },
     "execution_count": 1990,
     "metadata": {},
     "output_type": "execute_result"
    }
   ],
   "source": [
    "ere = errc.merge(elpm, on='차대번호', how='left')\n",
    "erea = ere.merge(attr, on='차대번호', how='left')\n",
    "erea.columns"
   ]
  },
  {
   "cell_type": "code",
   "execution_count": 1991,
   "id": "76fc3f8c-fab8-48ff-a9c4-ef19d408ae27",
   "metadata": {},
   "outputs": [],
   "source": [
    "rdf = dfe.copy()\n",
    "rs = rs.drop_duplicates('차대번호').reset_index(drop=True)"
   ]
  },
  {
   "cell_type": "code",
   "execution_count": 1992,
   "id": "fad93227-08d4-4a5b-8238-5032aa5b01b8",
   "metadata": {},
   "outputs": [],
   "source": [
    "rdf1 = rdf.merge(rs, on='차대번호', how='left')\n",
    "rdf1.loc[(rdf1['DPF_YN'] == '유') | (rdf1['DPF유무_수정'] == '유'), 'DPF_YN'] = '유'\n",
    "rdf1.loc[(rdf1['DPF유무_수정'] == '무'), 'DPF_YN'] = '무'\n",
    "rdf1.loc[(rdf1['DPF유무_수정'] == '확인불가'), 'DPF_YN'] = '확인불가'\n",
    "dfe = rdf1.drop('DPF유무_수정', axis=1)"
   ]
  },
  {
   "cell_type": "code",
   "execution_count": 1993,
   "id": "16ffc605-dc7d-428e-a4d3-c6829fab833a",
   "metadata": {},
   "outputs": [],
   "source": [
    "dfe['연도'] = max_year\n",
    "dfe['월'] = max_month"
   ]
  },
  {
   "cell_type": "code",
   "execution_count": 1994,
   "id": "266659cf-2268-4c45-8898-a7cbd2253e7b",
   "metadata": {},
   "outputs": [],
   "source": [
    "dfe['최초등록일자'] = dfe['최초등록일자'].astype('str')\n",
    "dfe['최초등록일자_년'] = dfe['최초등록일자'].str[:4]\n",
    "dfe['최초등록일자_월'] = dfe['최초등록일자'].str[4:6]\n",
    "dfe['최초등록일자_일'] = dfe['최초등록일자'].str[6:8]"
   ]
  },
  {
   "cell_type": "code",
   "execution_count": 1995,
   "id": "46faa4d4-de90-42c0-b685-51a61b61c38f",
   "metadata": {},
   "outputs": [],
   "source": [
    "dfe.loc[dfe['DPF_YN'] == '유', '저감장치부착유무'] = 'Y'\n",
    "erea.loc[erea['DPF_YN'] == '유', '저감장치부착유무'] = 'Y'"
   ]
  },
  {
   "cell_type": "code",
   "execution_count": 1996,
   "id": "9e34b392-f465-49ea-a9b4-51f41c633b19",
   "metadata": {},
   "outputs": [],
   "source": [
    "dfe['말소일자'] = dfe['말소일자'].astype('str')\n",
    "dfe['말소일자_년'] = dfe['말소일자'].str[:4]\n",
    "dfe['말소일자_월'] = dfe['말소일자'].str[4:6]\n",
    "dfe['말소일자_일'] = dfe['말소일자'].str[6:8]"
   ]
  },
  {
   "cell_type": "code",
   "execution_count": 1997,
   "id": "3592503b-f63a-449a-ad7b-763c9e653a66",
   "metadata": {},
   "outputs": [],
   "source": [
    "erea['말소일자'] = erea['말소일자'].astype('str')\n",
    "erea['말소일자_년'] = erea['말소일자'].str[:4]\n",
    "erea['말소일자_월'] = erea['말소일자'].str[4:6]\n",
    "erea['말소일자_일'] = erea['말소일자'].str[6:8]"
   ]
  },
  {
   "cell_type": "code",
   "execution_count": 1998,
   "id": "2cf71e9d-65eb-4f0b-b9d4-383b4c56adef",
   "metadata": {},
   "outputs": [],
   "source": [
    "# !!! 수정(2023.10.24)\n",
    "# 현재 연도 차량 대수\n",
    "grp1 = dfe[dfe['차량말소YN'] == 'N'].groupby(['연도', '월', '시도', '시군구_수정', '연료', '차종', '차종유형', '용도'], dropna=False).agg({'차대번호':'count', '저감장치부착유무':'count'}).reset_index()\n",
    "grp1 = grp1.rename(columns={'차대번호':'차량대수', '저감장치부착유무':'저감대수'})"
   ]
  },
  {
   "cell_type": "code",
   "execution_count": 1999,
   "id": "c0fb0fbd-eb5c-4462-ba97-25de647cba99",
   "metadata": {},
   "outputs": [],
   "source": [
    "# !!! 수정(2023.10.24)\n",
    "# 연도별 등록대수\n",
    "grp2 = dfe[dfe['차량말소YN'] == 'N'].groupby(['최초등록일자_년', '최초등록일자_월', '시도', '시군구_수정', '연료', '차종', '차종유형', '용도'], dropna=False).agg({'차대번호':'count', '저감장치부착유무':'count'}).reset_index()\n",
    "grp2 = grp2.rename(columns={'차대번호':'등록대수', '저감장치부착유무':'등록저감대수', '최초등록일자_년':'연도', '최초등록일자_월':'월'})"
   ]
  },
  {
   "cell_type": "code",
   "execution_count": 2000,
   "id": "54346b88-ea57-4d2d-ac98-25419187369f",
   "metadata": {},
   "outputs": [],
   "source": [
    "# !!! 수정(2023.10.24)\n",
    "# 연도별 말소대수\n",
    "grp3 = erea.groupby(['변경일자_년', '변경일자_월', '시도', '시군구_수정', '연료', '차종', '차종유형', '용도'], dropna=False).agg({'차대번호':'count', '저감장치부착유무':'count'}).reset_index()\n",
    "grp3 = grp3.rename(columns={'차대번호':'말소대수', '저감장치부착유무':'말소저감대수', '변경일자_년':'연도', '변경일자_월':'월'})"
   ]
  },
  {
   "cell_type": "code",
   "execution_count": 2001,
   "id": "95a420cb-8c19-4a46-9b6d-8149e07c2c6f",
   "metadata": {},
   "outputs": [],
   "source": [
    "# !!! 수정(2023.10.24)\n",
    "# 연도별 조기폐차 대수\n",
    "grp4 = dfe.groupby(['말소일자_년', '말소일자_월', '시도', '시군구_수정', '연료', '차종', '차종유형', '용도'], dropna=False).agg({'조기폐차최종승인YN':'count'}).reset_index()\n",
    "grp4 = grp4.rename(columns={'말소일자_년':'연도', '말소일자_월':'월', '조기폐차최종승인YN':'조기폐차'})"
   ]
  },
  {
   "cell_type": "code",
   "execution_count": 2002,
   "id": "b9ef641c-0fbd-4fac-8435-2323d75ced74",
   "metadata": {},
   "outputs": [
    {
     "data": {
      "text/plain": [
       "([2023, 2023, 2023, 2023], [8, 9, 10, 11])"
      ]
     },
     "execution_count": 2002,
     "metadata": {},
     "output_type": "execute_result"
    }
   ],
   "source": [
    "div = 4\n",
    "y_plist = list(pd.date_range(end=date, periods=div, freq=\"MS\").year)\n",
    "mth_plist = list(pd.date_range(end=date, periods=div, freq=\"MS\").month)\n",
    "\n",
    "y_plist, mth_plist"
   ]
  },
  {
   "cell_type": "code",
   "execution_count": 2003,
   "id": "6279a516-e646-40bd-907f-cbcb8e4707ba",
   "metadata": {},
   "outputs": [],
   "source": [
    "# 18s\n",
    "# 4개월 차량 통계 기본 데이터셋\n",
    "ctpv_list, sgg_list, fuel_list, vhcty_list, ty_list, purps_list, yr_list, month_list = [], [], [], [], [], [], [], []\n",
    "ctpv_sgg = grp1.drop_duplicates(['시도', '시군구_수정']).reset_index(drop=True)\n",
    "for ctpv, sgg in ctpv_sgg[['시도', '시군구_수정']].values:\n",
    "    for fuel in grp1['연료'].unique():\n",
    "        for vhcty in grp1['차종'].unique():\n",
    "            for ty in grp1['차종유형'].unique():\n",
    "                for purps in grp1['용도'].unique():\n",
    "                    for yr, month in zip(y_plist, mth_plist):\n",
    "                        ctpv_list.append(ctpv)\n",
    "                        sgg_list.append(sgg)\n",
    "                        fuel_list.append(fuel)\n",
    "                        vhcty_list.append(vhcty)\n",
    "                        ty_list.append(ty)\n",
    "                        purps_list.append(purps)\n",
    "                        yr_list.append(str(yr))\n",
    "                        month_list.append(f'{month:0>2}')\n",
    "base = pd.DataFrame({'연도':yr_list, '월':month_list, '시도':ctpv_list, '시군구_수정':sgg_list, '연료':fuel_list, '차종':vhcty_list, '차종유형':ty_list, '용도':purps_list})"
   ]
  },
  {
   "cell_type": "code",
   "execution_count": 2004,
   "id": "97904817-606a-4a6b-89c9-c93d976e3500",
   "metadata": {},
   "outputs": [],
   "source": [
    "base1 = base.merge(grp1, on=['연도', '월', '시도', '시군구_수정', '연료', '차종', '차종유형', '용도'], how='left')\n",
    "base2 = base1.merge(grp2, on=['연도', '월', '시도', '시군구_수정', '연료', '차종', '차종유형', '용도'], how='left')\n",
    "base3 = base2.merge(grp3, on=['연도', '월', '시도', '시군구_수정', '연료', '차종', '차종유형', '용도'], how='left')\n",
    "base4 = base3.merge(grp4, on=['연도', '월', '시도', '시군구_수정', '연료', '차종', '차종유형', '용도'], how='left')"
   ]
  },
  {
   "cell_type": "code",
   "execution_count": 2005,
   "id": "50faa280-0d63-4449-9470-6d3758891a8d",
   "metadata": {},
   "outputs": [],
   "source": [
    "# !!! 수정 시작(2023.11.09)\n",
    "\n",
    "base4[['차량대수', '조기폐차', '저감대수', '등록대수', '등록저감대수', '말소대수', '말소저감대수']] = base4[['차량대수', '조기폐차', '저감대수', '등록대수', '등록저감대수', '말소대수', '말소저감대수']].fillna(0)\n",
    "# base4[['차량대수_1', '등록대수_1', '말소대수_1', '저감대수_1', '등록저감대수_1', '말소저감대수_1']] = base4[['차량대수', '등록대수', '말소대수', '저감대수', '등록저감대수', '말소저감대수']].shift(-1)\n",
    "# base4.loc[[x for x in range(3, base4.shape[0], 4)], ['차량대수_1', '저감대수_1']]  = base4.loc[[x for x in range(3, base4.shape[0], 4)], ['차량대수', '저감대수']].values\n",
    "# base4.loc[[x for x in range(3, base4.shape[0], 4)], ['등록대수_1', '말소대수_1', '등록저감대수_1', '말소저감대수_1']] = 0\n",
    "# base4['차량대수'] = base4['차량대수_1'] - base4['등록대수_1'] + base4['말소대수_1']"
   ]
  },
  {
   "cell_type": "code",
   "execution_count": null,
   "id": "c0776858",
   "metadata": {},
   "outputs": [],
   "source": [
    "# 1h 16m 23.3s\n",
    "n = len(base4['월'].unique())\n",
    "for i in range(base4.shape[0] // n):\n",
    "    for j in range(2, n+1):\n",
    "        base4.loc[(i+1)*n - j, '차량대수'] = base4.loc[(i+1)*n - (j-1), '차량대수'] + base4.loc[(i+1)*n - (j-1), '말소대수'] - base4.loc[(i+1)*n - (j-1), '등록대수']\n",
    "        base4.loc[(i+1)*n - j, '저감대수'] = base4.loc[(i+1)*n - (j-1), '저감대수'] + base4.loc[(i+1)*n - (j-1), '말소저감대수'] - base4.loc[(i+1)*n - (j-1), '등록저감대수']\n",
    "\n",
    "# !!! 수정 끝(2023.11.09)"
   ]
  },
  {
   "cell_type": "code",
   "execution_count": 2006,
   "id": "daa5fc51-59dc-4d09-b73a-44396ec266c5",
   "metadata": {},
   "outputs": [
    {
     "name": "stderr",
     "output_type": "stream",
     "text": [
      "/tmp/ipykernel_2016934/1265148745.py:2: SettingWithCopyWarning: \n",
      "A value is trying to be set on a copy of a slice from a DataFrame.\n",
      "Try using .loc[row_indexer,col_indexer] = value instead\n",
      "\n",
      "See the caveats in the documentation: https://pandas.pydata.org/pandas-docs/stable/user_guide/indexing.html#returning-a-view-versus-a-copy\n",
      "  base5['감소대수'] = base5['차량대수'].shift() - base5['차량대수']\n",
      "/tmp/ipykernel_2016934/1265148745.py:3: SettingWithCopyWarning: \n",
      "A value is trying to be set on a copy of a slice from a DataFrame.\n",
      "Try using .loc[row_indexer,col_indexer] = value instead\n",
      "\n",
      "See the caveats in the documentation: https://pandas.pydata.org/pandas-docs/stable/user_guide/indexing.html#returning-a-view-versus-a-copy\n",
      "  base5['감소율'] = base5['감소대수'] / base5['차량대수'].shift()\n",
      "/tmp/ipykernel_2016934/1265148745.py:5: SettingWithCopyWarning: \n",
      "A value is trying to be set on a copy of a slice from a DataFrame.\n",
      "Try using .loc[row_indexer,col_indexer] = value instead\n",
      "\n",
      "See the caveats in the documentation: https://pandas.pydata.org/pandas-docs/stable/user_guide/indexing.html#returning-a-view-versus-a-copy\n",
      "  base5['감소율'] = base5['감소율'].fillna(0)\n",
      "/tmp/ipykernel_2016934/1265148745.py:6: SettingWithCopyWarning: \n",
      "A value is trying to be set on a copy of a slice from a DataFrame.\n",
      "Try using .loc[row_indexer,col_indexer] = value instead\n",
      "\n",
      "See the caveats in the documentation: https://pandas.pydata.org/pandas-docs/stable/user_guide/indexing.html#returning-a-view-versus-a-copy\n",
      "  base5['저감장치미부착대수'] = base5['차량대수'] - base5['저감대수']\n"
     ]
    }
   ],
   "source": [
    "base5 = base4[['연도', '월', '시도', '시군구_수정', '연료', '차종', '차종유형', '용도', '차량대수', '조기폐차', '저감대수']]\n",
    "base5['감소대수'] = base5['차량대수'].shift() - base5['차량대수']\n",
    "base5['감소율'] = base5['감소대수'] / base5['차량대수'].shift()\n",
    "base5.loc[(base5['감소율'] == -np.inf) | (base5['감소율'] == np.inf), '감소율'] = 0\n",
    "base5['감소율'] = base5['감소율'].fillna(0)\n",
    "base5['저감장치미부착대수'] = base5['차량대수'] - base5['저감대수']"
   ]
  },
  {
   "cell_type": "code",
   "execution_count": 2007,
   "id": "0644ea64-3cbf-4c2f-ad86-37acef539257",
   "metadata": {},
   "outputs": [],
   "source": [
    "base5.loc[base5['차량대수'] < 0, '차량대수'] = 0\n",
    "base5.loc[base5['저감장치미부착대수'] < 0, '저감장치미부착대수'] = 0\n",
    "base5.loc[[x for x in range(0, base5.shape[0], 4)], '감소율'] = 0\n",
    "base5 = base5.rename(columns={'조기폐차':'조기폐차대수', '저감대수':'저감장치부착대수'})"
   ]
  },
  {
   "cell_type": "code",
   "execution_count": 2008,
   "id": "91364ce8-252f-4ffe-9455-e5b88aebad00",
   "metadata": {},
   "outputs": [],
   "source": [
    "# # 현재 월 -1 까지만 추출(수동)\n",
    "# base5 = base5[(base5['연도'] != today_date[:4]) | (base5['월'] != today_date[4:6])].reset_index(drop=True) # !!! 수정(2023.11.03)"
   ]
  },
  {
   "cell_type": "code",
   "execution_count": 2009,
   "id": "7d932b83-9d99-49e1-844b-abaa6e799381",
   "metadata": {},
   "outputs": [],
   "source": [
    "today_date = datetime.today().strftime(\"%Y%m%d\")\n",
    "base5['테이블생성일자'] = today_date"
   ]
  },
  {
   "cell_type": "code",
   "execution_count": 2010,
   "id": "f8954575-c103-437c-8081-36b87fed24b8",
   "metadata": {
    "tags": []
   },
   "outputs": [
    {
     "data": {
      "text/plain": [
       "연도    월 \n",
       "2023  08     14978.00\n",
       "      09     10986.00\n",
       "      10   1345122.00\n",
       "Name: 차량대수, dtype: float64"
      ]
     },
     "execution_count": 2010,
     "metadata": {},
     "output_type": "execute_result"
    }
   ],
   "source": [
    "base5.groupby(['연도', '월'])['차량대수'].sum()"
   ]
  },
  {
   "cell_type": "code",
   "execution_count": 2011,
   "id": "c1134a98-35e1-49ee-9714-01a791ac3bb2",
   "metadata": {},
   "outputs": [
    {
     "data": {
      "text/plain": [
       "Index(['YR', 'MM', 'CTPV', 'SGG', 'FUEL_CD', 'VHCTY_CD', 'VHCTY_TY',\n",
       "       'PURPS_CD2', 'VHCL_MKCNT', 'DEC_RT', 'RDCDVC_EXTRNS_MKCNT',\n",
       "       'RDCDVC_UNAT_MKCNT', 'ELPDSRC_MKCNT', 'LOAD_DT'],\n",
       "      dtype='object')"
      ]
     },
     "execution_count": 2011,
     "metadata": {},
     "output_type": "execute_result"
    }
   ],
   "source": [
    "STD_BD_DAT_GRD4_CAR_CURSTT = base5[[\n",
    "    '연도',\n",
    "    '월',\n",
    "    '시도',\n",
    "    '시군구_수정',\n",
    "    '연료',\n",
    "    '차종',\n",
    "    '차종유형', \n",
    "    '용도',\n",
    "    '차량대수',\n",
    "    '감소율',\n",
    "    '저감장치부착대수',\n",
    "    '저감장치미부착대수',\n",
    "    '조기폐차대수',\n",
    "    '테이블생성일자',\n",
    "]]\n",
    "chc_col = {\n",
    "    '연도':'YR',\n",
    "    '월':'MM',\n",
    "    '시도':'CTPV',\n",
    "    '시군구_수정':'SGG',\n",
    "    '연료':'FUEL_CD',\n",
    "    '차종':'VHCTY_CD',\n",
    "    '차종유형':'VHCTY_TY', \n",
    "    '용도':'PURPS_CD2',\n",
    "    '차량대수':'VHCL_MKCNT',\n",
    "    '감소율':'DEC_RT',\n",
    "    '저감장치부착대수':'RDCDVC_EXTRNS_MKCNT',\n",
    "    '저감장치미부착대수':'RDCDVC_UNAT_MKCNT',\n",
    "    '조기폐차대수':'ELPDSRC_MKCNT',\n",
    "    '테이블생성일자':'LOAD_DT', \n",
    "}\n",
    "STD_BD_DAT_GRD4_CAR_CURSTT = STD_BD_DAT_GRD4_CAR_CURSTT.rename(columns=chc_col)\n",
    "\n",
    "STD_BD_DAT_GRD4_CAR_CURSTT.columns"
   ]
  },
  {
   "cell_type": "markdown",
   "id": "f405bc78-d353-4064-a7da-a4d65efdf1e2",
   "metadata": {},
   "source": [
    "### [출력] STD_BD_DAT_GRD4_CAR_CURSTT"
   ]
  },
  {
   "cell_type": "code",
   "execution_count": 2012,
   "id": "e97c103b-bb1e-4da5-bc8d-c1bf45683fd5",
   "metadata": {},
   "outputs": [],
   "source": [
    "# expdf = STD_BD_DAT_GRD4_CAR_CURSTT\n",
    "# table_nm = 'STD_BD_DAT_GRD4_CAR_CURSTT'.upper()\n",
    "\n",
    "# # 테이블 생성\n",
    "# sql = 'create or replace table ' + table_nm + '( \\n'\n",
    "\n",
    "# for idx,column in enumerate(expdf.columns):\n",
    "#     # if 'float' in expdf[column].dtype.name:\n",
    "#     #     sql += column + ' float'\n",
    "#     # elif 'int' in expdf[column].dtype.name:\n",
    "#     #     sql += column + ' number'\n",
    "#     # else:\n",
    "#     sql += column + ' varchar(255)'\n",
    "\n",
    "#     if len(expdf.columns) - 1 != idx:\n",
    "#         sql += ','\n",
    "#     sql += '\\n'\n",
    "# sql += ')'    \n",
    "# we.execute(sql)\n",
    "\n",
    "# # 데이터 추가\n",
    "# # 5s\n",
    "# we.import_from_pandas(expdf, table_nm)\n",
    "\n",
    "# print(f'data export : {table_nm}')"
   ]
  },
  {
   "cell_type": "markdown",
   "id": "ef216aca-b2d1-4e03-b98f-55f24a2988fa",
   "metadata": {},
   "source": [
    "## 1-2 code end ##################################################################"
   ]
  },
  {
   "cell_type": "markdown",
   "id": "e62336b2-b73c-4d0f-9d8a-f21ae8608227",
   "metadata": {
    "tags": []
   },
   "source": [
    "## 1-3 start"
   ]
  },
  {
   "cell_type": "code",
   "execution_count": 2013,
   "id": "8a3b0391-5c13-4f57-8287-3b098ccd14e5",
   "metadata": {},
   "outputs": [
    {
     "data": {
      "text/plain": [
       "(1345122, 40)"
      ]
     },
     "execution_count": 2013,
     "metadata": {},
     "output_type": "execute_result"
    }
   ],
   "source": [
    "## 지역정보 병합\n",
    "df = csi.merge(coder, on='법정동코드', how='left')\n",
    "df.shape"
   ]
  },
  {
   "cell_type": "code",
   "execution_count": 2014,
   "id": "81b9ee8b-fad9-4d42-b06f-eed2af4cb1fe",
   "metadata": {},
   "outputs": [
    {
     "data": {
      "text/plain": [
       "0"
      ]
     },
     "execution_count": 2014,
     "metadata": {},
     "output_type": "execute_result"
    }
   ],
   "source": [
    "df['시도'].isnull().sum()"
   ]
  },
  {
   "cell_type": "code",
   "execution_count": 2015,
   "id": "4903f080-7685-48a9-a05a-b66b2d03fa0d",
   "metadata": {},
   "outputs": [],
   "source": [
    "# df.loc[df['법정동코드'] == 4163055000, ['시도', '시군구']] = ['경기도', '양주시']"
   ]
  },
  {
   "cell_type": "code",
   "execution_count": 2016,
   "id": "2d2892c1-6f60-4e1d-a1ab-dd1e751f89f2",
   "metadata": {},
   "outputs": [],
   "source": [
    "# ### rh 법정동코드 참고하여 법정동코드 수정\n",
    "# rdf = df.copy()\n",
    "# rdf['법정동코드'] = rdf['법정동코드'].astype('str')\n",
    "# rdf['법정동코드_mod'] = rdf['법정동코드'].str[:5] + '00000'\n",
    "# rdf['법정동코드_mod'] = pd.to_numeric(rdf['법정동코드_mod'])\n",
    "# # 2817000000 인천광역시 남구 -> 인천광역시 미추홀구 2817700000\n",
    "# # 4119500000 경기도 부천시 원미구 -> 경기도 부천시 4119000000\n",
    "# # 4119700000 경기도 부천시 소사구 -> 경기도 부천시 4119000000\n",
    "# # 4119900000 경기도 부천시 오정구 -> 경기도 부천시 4119000000\n",
    "# # 4173000000 경기도 여주군 -> 경기도 여주시 4167000000\n",
    "# # 4371000000 충청북도 청원군 -> 충청북도 충주시 4311000000\n",
    "# rdf.loc[rdf['법정동코드_mod'] == 2817000000, '법정동코드_mod'] = 2817700000\n",
    "# rdf.loc[rdf['법정동코드_mod'] == 4119500000, '법정동코드_mod'] = 4119000000\n",
    "# rdf.loc[rdf['법정동코드_mod'] == 4119700000, '법정동코드_mod'] = 4119000000\n",
    "# rdf.loc[rdf['법정동코드_mod'] == 4119900000, '법정동코드_mod'] = 4119000000\n",
    "# rdf.loc[rdf['법정동코드_mod'] == 4173000000, '법정동코드_mod'] = 4167000000\n",
    "# rdf.loc[rdf['법정동코드_mod'] == 4371000000, '법정동코드_mod'] = 4311000000\n",
    "# df = rdf.copy()"
   ]
  },
  {
   "cell_type": "code",
   "execution_count": 2017,
   "id": "bd7da00d-64db-43e3-8d8b-5fb266832978",
   "metadata": {},
   "outputs": [],
   "source": [
    "df['법정동코드_mod'] = df['법정동코드'].copy()"
   ]
  },
  {
   "cell_type": "code",
   "execution_count": 2018,
   "id": "e63e44ce-5f62-454d-b14e-53d35e779b86",
   "metadata": {
    "tags": []
   },
   "outputs": [],
   "source": [
    "# rdf = df.copy()\n",
    "# rdf['법정동코드'] = rdf['법정동코드'].astype('str')\n",
    "# rdf.loc[rdf['시도'].isnull() == True, '법정동코드'] = rdf.loc[rdf['시도'].isnull() == True, '법정동코드'].str[:5] + '00000'\n",
    "# rdf['법정동코드'] = pd.to_numeric(rdf['법정동코드'])\n",
    "\n",
    "# rdfy = rdf[rdf['시도'].isnull() == False]\n",
    "# rdfn = rdf[rdf['시도'].isnull() == True]\n",
    "\n",
    "# rdfn = rdfn.drop(['시도', '시군구'], axis=1)\n",
    "# rdfnm = rdfn.merge(coder, on='법정동코드', how='left')\n",
    "\n",
    "# df = pd.concat([rdfy, rdfnm], ignore_index=False)"
   ]
  },
  {
   "cell_type": "code",
   "execution_count": 2019,
   "id": "2793e5dd-fa34-4566-85de-2b1c190b138e",
   "metadata": {},
   "outputs": [
    {
     "name": "stderr",
     "output_type": "stream",
     "text": [
      "/tmp/ipykernel_2016934/2352650961.py:6: UserWarning: Could not infer format, so each element will be parsed individually, falling back to `dateutil`. To ensure parsing is consistent and as-expected, please specify a format.\n",
      "  df['검사일자'] = pd.to_datetime(df['검사일자'], errors='coerce')\n"
     ]
    }
   ],
   "source": [
    "## 일일평균주행거리 계산\n",
    "df['검사일자'] = df['검사일자'].fillna(0)\n",
    "df['검사일자'] = df['검사일자'].astype('str')\n",
    "df['검사일자'] = df['검사일자'].str.split('.').str[0]\n",
    "df['최초등록일자'] = pd.to_datetime(df['최초등록일자'], errors='coerce')\n",
    "df['검사일자'] = pd.to_datetime(df['검사일자'], errors='coerce')\n",
    "df['기간차이'] = df['검사일자'] - df['최초등록일자']"
   ]
  },
  {
   "cell_type": "code",
   "execution_count": 2020,
   "id": "2e299fc4-d559-4f3a-829f-4d43e41d74f2",
   "metadata": {},
   "outputs": [],
   "source": [
    "# 23.2s\n",
    "df['기간차이'] = df['기간차이'].astype('str')\n",
    "df['기간차이'] = df['기간차이'].str.split(' ').str[0]\n",
    "df['기간차이'] = pd.to_numeric(df['기간차이'], errors='coerce')\n",
    "df['일일평균주행거리'] = df['주행거리'] / (df['기간차이'])"
   ]
  },
  {
   "cell_type": "code",
   "execution_count": 2021,
   "id": "81b0882f-8528-47c9-b05e-6855cf51f83e",
   "metadata": {},
   "outputs": [],
   "source": [
    "### 빈 값 kosis로 대체\n",
    "df1y = df[df['일일평균주행거리'].isnull() == False]\n",
    "df1n = df[df['일일평균주행거리'].isnull() == True]"
   ]
  },
  {
   "cell_type": "code",
   "execution_count": 2022,
   "id": "82359b24-0f49-4073-92a5-65ec9dd5e869",
   "metadata": {},
   "outputs": [],
   "source": [
    "df1n = df1n.drop('일일평균주행거리', axis=1)\n",
    "df1nm = df1n.merge(kosisr, on=['시도', '시군구', '차종'], how='left')"
   ]
  },
  {
   "cell_type": "code",
   "execution_count": 2023,
   "id": "cda411ca-3007-409f-8ccf-9940b93fc826",
   "metadata": {},
   "outputs": [],
   "source": [
    "df2y = df1nm[df1nm['일일평균주행거리'].isnull() == False]\n",
    "df2n = df1nm[df1nm['일일평균주행거리'].isnull() == True]\n",
    "df2n = df2n.drop('일일평균주행거리', axis=1)\n",
    "df2nm = df2n.merge(kosisr.drop_duplicates(['시도', '차종'])[['시도', '차종', '일일평균주행거리']], on=['시도', '차종'], how='left')"
   ]
  },
  {
   "cell_type": "code",
   "execution_count": 2024,
   "id": "560306a5-53a7-493e-a811-a95f6a8bf359",
   "metadata": {},
   "outputs": [],
   "source": [
    "df3y = df2nm[df2nm['일일평균주행거리'].isnull() == False]\n",
    "df3n = df2nm[df2nm['일일평균주행거리'].isnull() == True]"
   ]
  },
  {
   "cell_type": "code",
   "execution_count": 2025,
   "id": "fd755edf-e057-46d1-86b2-0a84385b5231",
   "metadata": {},
   "outputs": [],
   "source": [
    "for ctpv, sgg, cd in df3n.loc[df3n['일일평균주행거리'].isnull() == True, ['시도', '시군구', '차종']].values:\n",
    "    try:\n",
    "        df3n.loc[(df3n['일일평균주행거리'].isnull() == True) & (df3n['시도'] == ctpv) & (df3n['시군구'] == sgg), '일일평균주행거리'] = kosisr.loc[(kosisr['시도'] == ctpv) & (kosisr['시군구'] == '소계') & (kosisr['차종'] == '합계'), '일일평균주행거리'].values[0]\n",
    "    except:\n",
    "        df3n.loc[(df3n['일일평균주행거리'].isnull() == True) & (df3n['시도'].isnull() == True) & (df3n['시군구'].isnull() == True), '일일평균주행거리'] = kosisr.loc[(kosisr['시도'] == '서울특별시') & (kosisr['시군구'] == '소계') & (kosisr['차종'] == '합계'), '일일평균주행거리'].values[0]"
   ]
  },
  {
   "cell_type": "code",
   "execution_count": 2026,
   "id": "b10cd45a-4830-43b5-86e9-5c16166780fd",
   "metadata": {},
   "outputs": [
    {
     "data": {
      "text/plain": [
       "(1345122, 43)"
      ]
     },
     "execution_count": 2026,
     "metadata": {},
     "output_type": "execute_result"
    }
   ],
   "source": [
    "df2nm = pd.concat([df3y, df3n], ignore_index=True)\n",
    "df1nm = pd.concat([df2y, df2nm], ignore_index=True)\n",
    "df = pd.concat([df1y, df1nm], ignore_index=True)\n",
    "df.shape"
   ]
  },
  {
   "cell_type": "code",
   "execution_count": 2027,
   "id": "89390d3e-2531-48f2-b1ff-c843717af1a4",
   "metadata": {},
   "outputs": [
    {
     "data": {
      "text/plain": [
       "(1345122, 44)"
      ]
     },
     "execution_count": 2027,
     "metadata": {},
     "output_type": "execute_result"
    }
   ],
   "source": [
    "### 저감장치 부착 유무 정보 병합\n",
    "df1 = df.merge(attr[['차대번호', 'DPF_YN']], on='차대번호', how='left')\n",
    "df1.shape"
   ]
  },
  {
   "cell_type": "code",
   "execution_count": 2028,
   "id": "abe835c8-8993-414e-b1fa-bb60406239c2",
   "metadata": {},
   "outputs": [],
   "source": [
    "## 4등급 result 파일 참고하여 DPF유무 수정\n",
    "rdf = df1.copy()\n",
    "rs = rs.drop_duplicates('차대번호').reset_index(drop=True)\n",
    "rdf1 = rdf.merge(rs, on='차대번호', how='left')\n",
    "rdf1.loc[(rdf1['DPF_YN'] == '유') | (rdf1['DPF유무_수정'] == '유'), 'DPF_YN'] = '유'\n",
    "rdf1.loc[(rdf1['DPF유무_수정'] == '무'), 'DPF_YN'] = '무'\n",
    "rdf1.loc[(rdf1['DPF유무_수정'] == '확인불가'), 'DPF_YN'] = '확인불가'\n",
    "df1 = rdf1.drop('DPF유무_수정', axis=1)"
   ]
  },
  {
   "cell_type": "code",
   "execution_count": 2029,
   "id": "535feb86-d0d6-4d4b-81f4-f471b8d9c529",
   "metadata": {
    "tags": []
   },
   "outputs": [
    {
     "data": {
      "text/plain": [
       "(1345122, 44)"
      ]
     },
     "execution_count": 2029,
     "metadata": {},
     "output_type": "execute_result"
    }
   ],
   "source": [
    "df1.shape"
   ]
  },
  {
   "cell_type": "code",
   "execution_count": 2030,
   "id": "dc52155d-5b72-4c44-9545-5a545a58d053",
   "metadata": {},
   "outputs": [],
   "source": [
    "## 4등급 차량(휘발유, 경유, LPG) 추출\n",
    "etc = df1[(df1['연료'] == '알코올') | (df1['연료'] == 'CNG(압축천연가스)') | (df1['연료'] == '기타연료')].reset_index(drop=True)\n",
    "dgl = df1[(df1['연료'] == '휘발유') | (df1['연료'] == '경유') | (df1['연료'] == 'LPG(액화석유가스)')].reset_index(drop=True)"
   ]
  },
  {
   "cell_type": "code",
   "execution_count": 2031,
   "id": "7f753216-1cca-45fe-a5ab-74fa90e423c4",
   "metadata": {
    "tags": []
   },
   "outputs": [
    {
     "data": {
      "text/plain": [
       "(1345037, 44)"
      ]
     },
     "execution_count": 2031,
     "metadata": {},
     "output_type": "execute_result"
    }
   ],
   "source": [
    "dgl.shape"
   ]
  },
  {
   "cell_type": "code",
   "execution_count": 2032,
   "id": "996af43f-affe-41c3-83f9-13777a71a457",
   "metadata": {},
   "outputs": [],
   "source": [
    "### 차령 정보 계산 및 데이터 추가\n",
    "current_yr = int(datetime.today().strftime(\"%Y\"))\n",
    "dgl['차령'] = current_yr - dgl['차량연식']"
   ]
  },
  {
   "cell_type": "code",
   "execution_count": 2033,
   "id": "d626c4f4-aa92-4670-b1c4-94ec033afd80",
   "metadata": {},
   "outputs": [],
   "source": [
    "## 시군구명 앞쪽만 사용\n",
    "# - 시군구명 앞지역명만 추출\n",
    "dgl['시군구_수정'] = dgl['시군구'].str.split(' ').str[0]"
   ]
  },
  {
   "cell_type": "code",
   "execution_count": 2034,
   "id": "308f1a0d-fadc-4b18-9ef3-12b287516f99",
   "metadata": {},
   "outputs": [],
   "source": [
    "# 자동차-엔진 가열(Hot-start) 배출\n",
    "## 배출량 식\n",
    "# $$E_{i, j} = VKT \\times {EF_i \\over {1000}} \\times DF \\times (1 - {R \\over {100}})$$\n",
    "# $E_{i, j}$ : 자동차 $j$의 도로주행시 발생한 오염물질 $i$의 배출량($kg/yr$)\n",
    "# $VKT$ : 주행거리($km/yr$)\n",
    "# $EF_i$ : 차종별, 연료별, 연식별, 차속별 배출계수($g/km$)\n",
    "# $DF$ : 열화계수\n",
    "# $R$ : 저감장치 부착 효율(%)\n",
    "df2 = dgl.copy()"
   ]
  },
  {
   "cell_type": "code",
   "execution_count": 2035,
   "id": "4be7e73a-7d83-4c42-a887-e9a76b4dd1e4",
   "metadata": {},
   "outputs": [],
   "source": [
    "## 주행거리(VKT)\n",
    "# - [현재 설정] \"용도별_차종별_시군구별_자동차주행거리\" 자료(KOSIS)(2021)의 1일 평균주행거리 * 365 = 주행거리(km/yr)\n",
    "df2['VKT'] = df2['일일평균주행거리'] * 365"
   ]
  },
  {
   "cell_type": "code",
   "execution_count": 2036,
   "id": "8efa8980-d371-462c-b665-c0f33afdf558",
   "metadata": {},
   "outputs": [],
   "source": [
    "## DF(열화계수)\n",
    "# - 필요한 정보 : 연료, 차종, 차종유형, 연식, 차령\n",
    "# - 조건 수정(2023.04.20, 최)\n",
    "#     - 특수 소형 = 승용 소형\n",
    "#     - 승합 대형 = 화물 대형\n",
    "\n",
    "DF_col = ['연료', '차종', '차종유형', '차량연식', '차령']"
   ]
  },
  {
   "cell_type": "code",
   "execution_count": 2037,
   "id": "d50d2eb2-ce71-4e42-ba21-8c4df4b9eba2",
   "metadata": {},
   "outputs": [],
   "source": [
    "### ❗ DF(열화계수) 코드\n",
    "# - 연료, 차종, 차종유형 설정에 해당되지 않는 차량의 열화계수 값 설정\n",
    "#     - 현재 설정값 : np.nan\n",
    "#     - 고려 설정값 : 1\n",
    "\n",
    "# about 5.0s\n",
    "DF_CO_list = []\n",
    "DF_HC_list = []\n",
    "DF_PM_list = []\n",
    "DF_NOx_list = []\n",
    "# '연료', '차종', '차종유형', '차량연식', '차령'\n",
    "for fuel, car_type, car_size, car_birth, car_age in df2[DF_col].values:    \n",
    "    if fuel == '경유':\n",
    "        if (car_type == '승용') or ( (car_type == '특수') and (car_size == '소형') ): # 최 확인(2023.04.20) : \"특수 소형\" -> \"승용 소형\" 조건으로 계산\n",
    "            warranty = 5\n",
    "            if car_age <= warranty:\n",
    "                DF_CO = 1\n",
    "                DF_HC = 1\n",
    "                DF_PM = 1\n",
    "                DF_NOx = 1\n",
    "            else:\n",
    "                DF_CO = 1 + (car_age - warranty)*0.05\n",
    "                DF_HC = 1 + (car_age - warranty)*0.05\n",
    "                DF_PM = 1 + (car_age - warranty)*0.05\n",
    "                DF_NOx = 1 + (car_age - warranty)*0.02\n",
    "                if DF_CO > 1.5:\n",
    "                    DF_CO = 1.5\n",
    "                if DF_HC > 1.5:\n",
    "                    DF_HC = 1.5\n",
    "                if DF_PM > 1.5:\n",
    "                    DF_PM = 1.5\n",
    "                if DF_NOx > 1.2:\n",
    "                    DF_NOx = 1.2\n",
    "        elif car_type == '승합':\n",
    "            if car_size == '소형' or car_size == '중형':\n",
    "                warranty = 5\n",
    "                if car_age <= warranty:\n",
    "                    DF_CO = 1\n",
    "                    DF_HC = 1\n",
    "                    DF_PM = 1\n",
    "                    DF_NOx = 1\n",
    "                else:\n",
    "                    DF_CO = 1 + (car_age - warranty)*0.05\n",
    "                    DF_HC = 1 + (car_age - warranty)*0.05\n",
    "                    DF_PM = 1 + (car_age - warranty)*0.05\n",
    "                    DF_NOx = 1 + (car_age - warranty)*0.02\n",
    "                    if DF_CO > 1.5:\n",
    "                        DF_CO = 1.5\n",
    "                    if DF_HC > 1.5:\n",
    "                        DF_HC = 1.5\n",
    "                    if DF_PM > 1.5:\n",
    "                        DF_PM = 1.5\n",
    "                    if DF_NOx > 1.2:\n",
    "                        DF_NOx = 1.2\n",
    "            elif car_size == '대형':\n",
    "                warranty = 3\n",
    "                if car_age <= warranty:\n",
    "                    DF_CO = 1\n",
    "                    DF_HC = 1\n",
    "                    DF_PM = 1\n",
    "                    DF_NOx = 1\n",
    "                else:\n",
    "                    DF_CO = 1 + (car_age - warranty)*0.05\n",
    "                    DF_HC = 1 + (car_age - warranty)*0.05\n",
    "                    DF_PM = 1 + (car_age - warranty)*0.05\n",
    "                    DF_NOx = 1 + (car_age - warranty)*0.02\n",
    "                    if DF_CO > 1.5:\n",
    "                        DF_CO = 1.5\n",
    "                    if DF_HC > 1.5:\n",
    "                        DF_HC = 1.5\n",
    "                    if DF_PM > 1.5:\n",
    "                        DF_PM = 1.5\n",
    "                    if DF_NOx > 1.2:\n",
    "                        DF_NOx = 1.2\n",
    "        elif car_type == '화물':\n",
    "            # car_size : 경, 소, 중, 대\n",
    "            warranty = 5\n",
    "            if car_age <= warranty:\n",
    "                DF_CO = 1\n",
    "                DF_HC = 1\n",
    "                DF_PM = 1\n",
    "                DF_NOx = 1\n",
    "            else:\n",
    "                DF_CO = 1 + (car_age - warranty)*0.05\n",
    "                DF_HC = 1 + (car_age - warranty)*0.05\n",
    "                DF_PM = 1 + (car_age - warranty)*0.05\n",
    "                DF_NOx = 1 + (car_age - warranty)*0.02\n",
    "                if DF_CO > 1.5:\n",
    "                    DF_CO = 1.5\n",
    "                if DF_HC > 1.5:\n",
    "                    DF_HC = 1.5\n",
    "                if DF_PM > 1.5:\n",
    "                    DF_PM = 1.5\n",
    "                if DF_NOx > 1.2:\n",
    "                    DF_NOx = 1.2\n",
    "        elif car_type == '특수':\n",
    "            # car_size : 중, 대\n",
    "            warranty = 5\n",
    "            if car_age <= warranty:\n",
    "                DF_CO = 1\n",
    "                DF_HC = 1\n",
    "                DF_PM = 1\n",
    "                DF_NOx = 1\n",
    "            else:\n",
    "                DF_CO = 1 + (car_age - warranty)*0.05\n",
    "                DF_HC = 1 + (car_age - warranty)*0.05\n",
    "                DF_PM = 1 + (car_age - warranty)*0.05\n",
    "                DF_NOx = 1 + (car_age - warranty)*0.02\n",
    "                if DF_CO > 1.5:\n",
    "                    DF_CO = 1.5\n",
    "                if DF_HC > 1.5:\n",
    "                    DF_HC = 1.5\n",
    "                if DF_PM > 1.5:\n",
    "                    DF_PM = 1.5\n",
    "                if DF_NOx > 1.2:\n",
    "                    DF_NOx = 1.2\n",
    "    elif (fuel == '휘발유') or (fuel == 'LPG(액화석유가스)'):\n",
    "        if car_type == '승용':\n",
    "            # 경, 소, 중, 대\n",
    "            if car_birth <= 2000:\n",
    "                warranty = 5\n",
    "                if car_age <= warranty:\n",
    "                    DF_CO = 1\n",
    "                    DF_HC = 1\n",
    "                    DF_PM = 1\n",
    "                    DF_NOx = 1\n",
    "                else:\n",
    "                    DF_CO = 1 + (car_age - warranty)*0.1\n",
    "                    DF_HC = 1 + (car_age - warranty)*0.1\n",
    "                    DF_PM = 1 + (car_age - warranty)*0.1\n",
    "                    DF_NOx = 1 + (car_age - warranty)*0.1\n",
    "                    if DF_CO > 2.0:\n",
    "                        DF_CO = 2.0\n",
    "                    if DF_HC > 2.0:\n",
    "                        DF_HC = 2.0\n",
    "                    if DF_PM > 2.0:\n",
    "                        DF_PM = 2.0\n",
    "                    if DF_NOx > 2.0:\n",
    "                        DF_NOx = 2.0\n",
    "            elif car_birth >= 2001:\n",
    "                warranty = 10\n",
    "                if car_age <= warranty:\n",
    "                    DF_CO = 1\n",
    "                    DF_HC = 1\n",
    "                    DF_PM = 1\n",
    "                    DF_NOx = 1\n",
    "                else:\n",
    "                    DF_CO = 1 + (car_age - warranty)*0.1\n",
    "                    DF_HC = 1 + (car_age - warranty)*0.1\n",
    "                    DF_PM = 1 + (car_age - warranty)*0.1\n",
    "                    DF_NOx = 1 + (car_age - warranty)*0.1\n",
    "                    if DF_CO > 2.0:\n",
    "                        DF_CO = 2.0\n",
    "                    if DF_HC > 2.0:\n",
    "                        DF_HC = 2.0\n",
    "                    if DF_PM > 2.0:\n",
    "                        DF_PM = 2.0\n",
    "                    if DF_NOx > 2.0:\n",
    "                        DF_NOx = 2.0\n",
    "        elif car_type == '승합':\n",
    "            if car_size == '경형':\n",
    "                warranty = 5\n",
    "                if car_age <= warranty:\n",
    "                    DF_CO = 1\n",
    "                    DF_HC = 1\n",
    "                    DF_PM = 1\n",
    "                    DF_NOx = 1\n",
    "                else:\n",
    "                    DF_CO = 1 + (car_age - warranty)*0.1\n",
    "                    DF_HC = 1 + (car_age - warranty)*0.1\n",
    "                    DF_PM = 1 + (car_age - warranty)*0.1\n",
    "                    DF_NOx = 1 + (car_age - warranty)*0.1\n",
    "                    if DF_CO > 2.0:\n",
    "                        DF_CO = 2.0\n",
    "                    if DF_HC > 2.0:\n",
    "                        DF_HC = 2.0\n",
    "                    if DF_PM > 2.0:\n",
    "                        DF_PM = 2.0\n",
    "                    if DF_NOx > 2.0:\n",
    "                        DF_NOx = 2.0\n",
    "            elif (car_size == '소형') or (car_size == '중형'):\n",
    "                if car_birth <= 2005:\n",
    "                    warranty = 5\n",
    "                    if car_age <= warranty:\n",
    "                        DF_CO = 1\n",
    "                        DF_HC = 1\n",
    "                        DF_PM = 1\n",
    "                        DF_NOx = 1\n",
    "                    else:\n",
    "                        DF_CO = 1 + (car_age - warranty)*0.1\n",
    "                        DF_HC = 1 + (car_age - warranty)*0.1\n",
    "                        DF_PM = 1 + (car_age - warranty)*0.1\n",
    "                        DF_NOx = 1 + (car_age - warranty)*0.1\n",
    "                        if DF_CO > 2.0:\n",
    "                            DF_CO = 2.0\n",
    "                        if DF_HC > 2.0:\n",
    "                            DF_HC = 2.0\n",
    "                        if DF_PM > 2.0:\n",
    "                            DF_PM = 2.0\n",
    "                        if DF_NOx > 2.0:\n",
    "                            DF_NOx = 2.0\n",
    "                elif car_birth >= 2006:\n",
    "                    warranty = 10\n",
    "                    if car_age <= warranty:\n",
    "                        DF_CO = 1\n",
    "                        DF_HC = 1\n",
    "                        DF_PM = 1\n",
    "                        DF_NOx = 1\n",
    "                    else:\n",
    "                        DF_CO = 1 + (car_age - warranty)*0.1\n",
    "                        DF_HC = 1 + (car_age - warranty)*0.1\n",
    "                        DF_PM = 1 + (car_age - warranty)*0.1\n",
    "                        DF_NOx = 1 + (car_age - warranty)*0.1\n",
    "                        if DF_CO > 2.0:\n",
    "                            DF_CO = 2.0\n",
    "                        if DF_HC > 2.0:\n",
    "                            DF_HC = 2.0\n",
    "                        if DF_PM > 2.0:\n",
    "                            DF_PM = 2.0\n",
    "                        if DF_NOx > 2.0:\n",
    "                            DF_NOx = 2.0\n",
    "        elif (car_type == '화물') or ( (car_type == '승합') and (car_size == '대형')): # 최 확인(2023.04.20) : 습합 대형 -> 화물 대형 조건으로 계산\n",
    "            # 경, 소, 중, 대\n",
    "            warranty = 5\n",
    "            if car_age <= warranty:\n",
    "                DF_CO = 1\n",
    "                DF_HC = 1\n",
    "                DF_PM = 1\n",
    "                DF_NOx = 1\n",
    "            else:\n",
    "                DF_CO = 1 + (car_age - warranty)*0.1\n",
    "                DF_HC = 1 + (car_age - warranty)*0.1\n",
    "                DF_PM = 1 + (car_age - warranty)*0.1\n",
    "                DF_NOx = 1 + (car_age - warranty)*0.1\n",
    "                if DF_CO > 2.0:\n",
    "                    DF_CO = 2.0\n",
    "                if DF_HC > 2.0:\n",
    "                    DF_HC = 2.0\n",
    "                if DF_PM > 2.0:\n",
    "                    DF_PM = 2.0\n",
    "                if DF_NOx > 2.0:\n",
    "                    DF_NOx = 2.0\n",
    "        elif car_type == '특수':\n",
    "            # 중, 대\n",
    "            warranty = 5\n",
    "            if car_age <= warranty:\n",
    "                DF_CO = 1\n",
    "                DF_HC = 1\n",
    "                DF_PM = 1\n",
    "                DF_NOx = 1\n",
    "            else:\n",
    "                DF_CO = 1 + (car_age - warranty)*0.1\n",
    "                DF_HC = 1 + (car_age - warranty)*0.1\n",
    "                DF_PM = 1 + (car_age - warranty)*0.1\n",
    "                DF_NOx = 1 + (car_age - warranty)*0.1\n",
    "                if DF_CO > 2.0:\n",
    "                    DF_CO = 2.0\n",
    "                if DF_HC > 2.0:\n",
    "                    DF_HC = 2.0\n",
    "                if DF_PM > 2.0:\n",
    "                    DF_PM = 2.0\n",
    "                if DF_NOx > 2.0:\n",
    "                    DF_NOx = 2.0\n",
    "    else:\n",
    "        # 설정 고민\n",
    "            # 고려 : 1\n",
    "        # DF_CO, DF_HC, DF_PM, DF_NOx = np.nan, np.nan, np.nan, np.nan\n",
    "        DF_CO, DF_HC, DF_PM, DF_NOx = 1, 1, 1, 1\n",
    "\n",
    "    # 열화계수(DF) 리스트에 저장\n",
    "    DF_CO_list.append(DF_CO)\n",
    "    DF_HC_list.append(DF_HC)\n",
    "    DF_PM_list.append(DF_PM)\n",
    "    DF_NOx_list.append(DF_NOx)\n",
    "\n",
    "df2['DF_CO'] = DF_CO_list\n",
    "df2['DF_HC'] = DF_HC_list\n",
    "df2['DF_PM'] = DF_PM_list\n",
    "df2['DF_NOx'] = DF_NOx_list\n",
    "check_DF_col = ['DF_CO', 'DF_HC', 'DF_PM', 'DF_NOx']"
   ]
  },
  {
   "cell_type": "code",
   "execution_count": 2038,
   "id": "cc18f79b-93ad-4cbc-b590-3e091c14a566",
   "metadata": {},
   "outputs": [],
   "source": [
    "## 저감장치 부착 효율(R) 계산\n",
    "# - DPF유무_수정 : 유 -> DPF로 가정하고 진행\n",
    "# - 휘발성 유기 화합물(Volatile Organic Compounds:VOC) : 생활주변에서 흔히 사용하는 탄화수소류가 거의 해당됨.\n",
    "# - 저감장치별 물질 제거 효율(%)\n",
    "\n",
    "#     장치종류|CO|VOC|PM\n",
    "#     :-:|:-:|:-:|:-:\n",
    "#     DPF|99.5|90|83.6\n",
    "#     pDPF|94.6|89.3|56\n",
    "#     DOC|85.4|72|35\n",
    "\n",
    "df2.loc[df2['DPF_YN'] == '유', ['R_CO', 'R_HC', 'R_PM']] = 99.5, 90, 83.6\n",
    "check_R_col = ['R_CO', 'R_HC', 'R_PM']\n",
    "df2[check_R_col] = df2[check_R_col].fillna(0)"
   ]
  },
  {
   "cell_type": "code",
   "execution_count": 2039,
   "id": "65b8fea3-b636-4b40-bccb-8c4140030766",
   "metadata": {},
   "outputs": [],
   "source": [
    "## ❗ 배출계수(EFi)\n",
    "# - 연료, 차종, 차종유형 설정에 해당되지 않는 차량의 배출계수 값 설정\n",
    "#     - 현재 설정값 : np.nan\n",
    "#     - 고려 설정값 : 1\n",
    "# - 조건 수정(2023.04.20, 최)\n",
    "#     - 특수 중형 = 승합 중형\n",
    "#     - 화물 중형 = 승합 중형\n",
    "#     - 화물 대형 = 승합 대형\n",
    "#     - 특수 중형 = 승용 중형\n",
    "\n",
    "EFi_col = ['차종', '차종유형', '연료', '차량연식']"
   ]
  },
  {
   "cell_type": "code",
   "execution_count": 2040,
   "id": "a87993b0-fccb-4fb6-8527-7e6e6b544314",
   "metadata": {},
   "outputs": [],
   "source": [
    "# 참고 : KOSIS 차량속도(2017) 일반국도 평균 (https://kosis.kr/statHtml/statHtml.do?orgId=210&tblId=DT_21002_J008)\n",
    "V = 54.1\n",
    "# 국가 대기오염물질 배출량 산정방법 편람(V)(2022) 부록 참고(for PM-2.5)\n",
    "k = 0.92"
   ]
  },
  {
   "cell_type": "code",
   "execution_count": 2041,
   "id": "a5b630bc-7e39-4c59-b87c-64c070d16757",
   "metadata": {},
   "outputs": [],
   "source": [
    "# about 20.1s\n",
    "EFi_CO_list = []\n",
    "EFi_HC_list = []\n",
    "EFi_NOx_list = []\n",
    "EFi_PM10_list = []\n",
    "EFi_PM2_5_list = []\n",
    "EFi_NH3_list = []\n",
    "\n",
    "# 차종, 차종유형, 연료, 연식\n",
    "for car_type, car_size, fuel, car_birth in df2[EFi_col].values:\n",
    "    EFi_COm = 0\n",
    "    EFi_HCm = 0\n",
    "    EFi_NOxm = 0\n",
    "    EFi_PM10m = 0\n",
    "    EFi_PM2_5m = 0\n",
    "    EFi_NH3m = 0\n",
    "    for V in [35, 70, 100]:\n",
    "        if fuel == '휘발유':\n",
    "            if (car_type == '승용') and (car_size == '경형'):\n",
    "                if car_birth <= 1996:\n",
    "                    if V <= 65:\n",
    "                        EFi_CO = 59.783 * (V**-1.0007)\n",
    "                    else:\n",
    "                        EFi_CO = 0.0874 * V - 3.5618\n",
    "                    EFi_HC = 7.6244 * (V**-0.8364)\n",
    "                    EFi_NOx = 2.6754 * (V**-0.3236)\n",
    "                    if V < 85:\n",
    "                        EFi_PM10 = 0.00030\n",
    "                        EFi_PM2_5 = k * 0.00030\n",
    "                    else:\n",
    "                        EFi_PM10 = 0.00075\n",
    "                        EFi_PM2_5 = k * 0.00075\n",
    "                    if V <= 65:\n",
    "                        EFi_NH3 = 0.1\n",
    "                    else:\n",
    "                        EFi_NH3 = 0.07\n",
    "                elif 1997 <= car_birth <= 1999:\n",
    "                    if V <= 65:\n",
    "                        EFi_CO = 59.783 * (V**-1.0007)\n",
    "                    else:\n",
    "                        EFi_CO = 0.0874 * V - 3.5618\n",
    "                    EFi_HC = 8.6275 * (V**-1.0722)\n",
    "                    EFi_NOx = 3.2294 * (V**-0.5763)\n",
    "                    if V < 85:\n",
    "                        EFi_PM10 = 0.00030\n",
    "                        EFi_PM2_5 = k * 0.00030\n",
    "                    else:\n",
    "                        EFi_PM10 = 0.00075\n",
    "                        EFi_PM2_5 = k * 0.00075\n",
    "                    if V <= 65:\n",
    "                        EFi_NH3 = 0.1\n",
    "                    else:\n",
    "                        EFi_NH3 = 0.07\n",
    "                elif 2000 <= car_birth <= 2002:\n",
    "                    if V <= 65:\n",
    "                        EFi_CO = 60.556 * (V**-1.2501)\n",
    "                    else:\n",
    "                        EFi_CO = -0.0006 * V + 0.5753\n",
    "                    EFi_HC = 5.1835 * (V**-1.1889)\n",
    "                    EFi_NOx = 1.7525 * (V**-0.6481)\n",
    "                    if V < 85:\n",
    "                        EFi_PM10 = 0.00030\n",
    "                        EFi_PM2_5 = k * 0.00030\n",
    "                    else:\n",
    "                        EFi_PM10 = 0.00075\n",
    "                        EFi_PM2_5 = k * 0.00075\n",
    "                    if V <= 60:\n",
    "                        EFi_NH3 = 0.169\n",
    "                    elif 60 < V <= 90:\n",
    "                        EFi_NH3 = 0.149\n",
    "                    elif V > 90:\n",
    "                        EFi_NH3 = 0.084\n",
    "                elif 2003 <= car_birth <= 2005:\n",
    "                    if V <= 65:\n",
    "                        EFi_CO = 60.556 * (V**-1.2501)\n",
    "                    else:\n",
    "                        EFi_CO = -0.0006 * V + 0.5753\n",
    "                    EFi_HC = 0.7446 * (V**-0.9392)\n",
    "                    EFi_NOx = 0.3403 * (V**-0.5455)\n",
    "                    if V < 85:\n",
    "                        EFi_PM10 = 0.00030\n",
    "                        EFi_PM2_5 = k * 0.00030\n",
    "                    else:\n",
    "                        EFi_PM10 = 0.00075\n",
    "                        EFi_PM2_5 = k * 0.00075\n",
    "                    if V <= 60:\n",
    "                        EFi_NH3 = 0.002\n",
    "                    elif 60 < V <= 90:\n",
    "                        EFi_NH3 = 0.03\n",
    "                    elif V > 90:\n",
    "                        EFi_NH3 = 0.065\n",
    "                elif 2006 <= car_birth <= 2008:\n",
    "                    if V <= 45:\n",
    "                        EFi_CO = 4.9952 * (V**-0.8461)\n",
    "                    else:\n",
    "                        EFi_CO = -0.0001 * V**2 + 0.0229 * V - 0.5701\n",
    "                    EFi_HC = 0.2958 * (V**-0.7830)\n",
    "                    EFi_NOx = 0.4819 * (V**-0.9198)\n",
    "                    if V < 85:\n",
    "                        EFi_PM10 = 0.00030\n",
    "                        EFi_PM2_5 = k * 0.00030\n",
    "                    else:\n",
    "                        EFi_PM10 = 0.00075\n",
    "                        EFi_PM2_5 = k * 0.00075\n",
    "                    if V <= 60:\n",
    "                        EFi_NH3 = 0.002\n",
    "                    elif 60 < V <= 90:\n",
    "                        EFi_NH3 = 0.03\n",
    "                    elif V > 90:\n",
    "                        EFi_NH3 = 0.065\n",
    "                elif 2009 <= car_birth <= 2011:\n",
    "                    if V <= 45:\n",
    "                        EFi_CO = 4.5956 * (V**-0.8461)\n",
    "                    else:\n",
    "                        EFi_CO = -9.2000*(10**-5) * (V**2) + 2.1068*(10**-2) * V - 5.2449*(10**-1)\n",
    "                    EFi_HC = 0.2662 * (V**-0.7830)\n",
    "                    EFi_NOx = 0.4476 * (V**-0.9198)\n",
    "                    if V < 85:\n",
    "                        EFi_PM10 = 0.00030\n",
    "                        EFi_PM2_5 = k * 0.00030\n",
    "                    else:\n",
    "                        EFi_PM10 = 0.00075\n",
    "                        EFi_PM2_5 = k * 0.00075\n",
    "                    if V <= 60:\n",
    "                        EFi_NH3 = 0.004\n",
    "                    elif 60 < V <= 90:\n",
    "                        EFi_NH3 = 0.008\n",
    "                    elif V > 90:\n",
    "                        EFi_NH3 = 0.022\n",
    "                elif 2012 <= car_birth <= 2013:\n",
    "                    if V <= 45:\n",
    "                        EFi_CO = 4.4517 * (V**-0.8461)\n",
    "                    else:\n",
    "                        EFi_CO = -8.9120*(10**-5) * (V**2) + 2.0408*(10**-2)*V - 5.0807*(10**-1)\n",
    "                    EFi_HC = 0.2556 * (V**-0.7830)\n",
    "                    EFi_NOx = 0.4353 * (V**-0.9198)\n",
    "                    if V < 85:\n",
    "                        EFi_PM10 = 0.00030\n",
    "                        EFi_PM2_5 = k * 0.00030\n",
    "                    else:\n",
    "                        EFi_PM10 = 0.00075\n",
    "                        EFi_PM2_5 = k * 0.00075\n",
    "                    if V <= 60:\n",
    "                        EFi_NH3 = 0.004\n",
    "                    elif 60 < V <= 90:\n",
    "                        EFi_NH3 = 0.008\n",
    "                    elif V > 90:\n",
    "                        EFi_NH3 = 0.022\n",
    "                elif car_birth == 2014:\n",
    "                    if V <= 45:\n",
    "                        EFi_CO = 4.3079 * (V**-0.8461)\n",
    "                    else:\n",
    "                        EFi_CO = -8.6240*(10**-5) * (V**2) + 1.9749*(10**-2)*V - 4.9165*(10**-1)\n",
    "                    EFi_HC = 0.2449 * (V**-0.7830)\n",
    "                    EFi_NOx = 0.4230 * (V**-0.9198)\n",
    "                    if V < 85:\n",
    "                        EFi_PM10 = 0.00030\n",
    "                        EFi_PM2_5 = k * 0.00030\n",
    "                    else:\n",
    "                        EFi_PM10 = 0.00075\n",
    "                        EFi_PM2_5 = k * 0.00075\n",
    "                    if V <= 60:\n",
    "                        EFi_NH3 = 0.004\n",
    "                    elif 60 < V <= 90:\n",
    "                        EFi_NH3 = 0.008\n",
    "                    elif V > 90:\n",
    "                        EFi_NH3 = 0.022\n",
    "                elif 2015 <= car_birth:\n",
    "                    if V <= 45:\n",
    "                        EFi_CO = 4.164 * (V**-0.8461)\n",
    "                    else:\n",
    "                        EFi_CO = -8.3360*(10**-5) * (V**2) + 1.9089*(10**-2)*V - 4.7524*(10**-1)\n",
    "                    EFi_HC = 0.2343 * (V**-0.7830)\n",
    "                    EFi_NOx = 0.4106 * (V**-0.9198)\n",
    "                    if V < 85:\n",
    "                        EFi_PM10 = 0.00030\n",
    "                        EFi_PM2_5 = k * 0.00030\n",
    "                    else:\n",
    "                        EFi_PM10 = 0.00075\n",
    "                        EFi_PM2_5 = k * 0.00075\n",
    "                    if V <= 60:\n",
    "                        EFi_NH3 = 0.004\n",
    "                    elif 60 < V <= 90:\n",
    "                        EFi_NH3 = 0.008\n",
    "                    elif V > 90:\n",
    "                        EFi_NH3 = 0.022\n",
    "            elif (car_type == '승용') and (car_size == '소형'):\n",
    "                if car_birth <= 1986:\n",
    "                    EFi_CO = 247.00 * (V**-0.6651)\n",
    "                    EFi_HC = 15.953 * (V**-0.5059)\n",
    "                    EFi_NOx = 3.1140 * (V**-0.2278)\n",
    "                    if V < 85:\n",
    "                        EFi_PM10 = 0.00030\n",
    "                        EFi_PM2_5 = k * 0.00030\n",
    "                    else:\n",
    "                        EFi_PM10 = 0.00075\n",
    "                        EFi_PM2_5 = k * 0.00075\n",
    "                    if V <= 65:\n",
    "                        EFi_NH3 = 0.1\n",
    "                    else:\n",
    "                        EFi_NH3 = 0.07\n",
    "                elif 1987 <= car_birth <= 1990:\n",
    "                    EFi_CO = 36.169 * (V**-0.7587)\n",
    "                    EFi_HC = 15.607 * (V**-1.0423)\n",
    "                    EFi_NOx = 6.2007 * (V**-0.6781)\n",
    "                    if V < 85:\n",
    "                        EFi_PM10 = 0.00030\n",
    "                        EFi_PM2_5 = k * 0.00030\n",
    "                    else:\n",
    "                        EFi_PM10 = 0.00075\n",
    "                        EFi_PM2_5 = k * 0.00075\n",
    "                    if V <= 65:\n",
    "                        EFi_NH3 = 0.1\n",
    "                    else:\n",
    "                        EFi_NH3 = 0.07\n",
    "                elif 1991 <= car_birth <= 1999:\n",
    "                    EFi_CO = 111.67 * (V**-1.1566)\n",
    "                    EFi_HC = 32.017 * (V**-1.4171)\n",
    "                    EFi_NOx = 7.5244 * (V**-0.7634)\n",
    "                    if V < 85:\n",
    "                        EFi_PM10 = 0.00030\n",
    "                        EFi_PM2_5 = k * 0.00030\n",
    "                    else:\n",
    "                        EFi_PM10 = 0.00075\n",
    "                        EFi_PM2_5 = k * 0.00075\n",
    "                    if V <= 65:\n",
    "                        EFi_NH3 = 0.1\n",
    "                    else:\n",
    "                        EFi_NH3 = 0.07\n",
    "                elif 2000 <= car_birth <= 2002:\n",
    "                    EFi_CO = 22.356 * (V**-0.9068)\n",
    "                    EFi_HC = 0.8428 * (V**-0.8829)\n",
    "                    EFi_NOx = 1.2613 * (V**-0.3873)\n",
    "                    if V < 85:\n",
    "                        EFi_PM10 = 0.00030\n",
    "                        EFi_PM2_5 = k * 0.00030\n",
    "                    else:\n",
    "                        EFi_PM10 = 0.00075\n",
    "                        EFi_PM2_5 = k * 0.00075\n",
    "                    if V <= 60:\n",
    "                        EFi_NH3 = 0.169\n",
    "                    elif 60 < V <= 90:\n",
    "                        EFi_NH3 = 0.149\n",
    "                    elif V > 90:\n",
    "                        EFi_NH3 = 0.084\n",
    "                elif 2003 <= car_birth <= 2005:\n",
    "                    EFi_CO = 1.4898 * (V**-0.3837)\n",
    "                    EFi_HC = 0.1738 * (V**-0.7268)\n",
    "                    EFi_NOx = 0.1563 * (V**-0.2671)\n",
    "                    if V < 85:\n",
    "                        EFi_PM10 = 0.00030\n",
    "                        EFi_PM2_5 = k * 0.00030\n",
    "                    else:\n",
    "                        EFi_PM10 = 0.00075\n",
    "                        EFi_PM2_5 = k * 0.00075\n",
    "                    if V <= 60:\n",
    "                        EFi_NH3 = 0.002\n",
    "                    elif 60 < V <= 90:\n",
    "                        EFi_NH3 = 0.03\n",
    "                    elif V > 90:\n",
    "                        EFi_NH3 = 0.065\n",
    "                elif 2006 <= car_birth <= 2008:\n",
    "                    EFi_CO = 1.0000*(10**-4)*(V**2) - 7.1000*(10**-3)*V + 2.2450*(10**-1)\n",
    "                    if V <= 65.4:\n",
    "                        EFi_HC = 0.0633 * (V**-1.0484)\n",
    "                    else:\n",
    "                        EFi_HC = 1.3200*(10**-6)*(V**2) - 1.8800*(10**-4)*V + 7.7000*(10**-3)\n",
    "                    EFi_NOx = -3.5000*(10**-6)*(V**2) + 3.3000*(10**-4)*V + 1.1200*(10**-2)\n",
    "                    if V < 85:\n",
    "                        EFi_PM10 = 0.00030\n",
    "                        EFi_PM2_5 = k * 0.00030\n",
    "                    else:\n",
    "                        EFi_PM10 = 0.00075\n",
    "                        EFi_PM2_5 = k * 0.00075\n",
    "                    if V <= 60:\n",
    "                        EFi_NH3 = 0.002\n",
    "                    elif 60 < V <= 90:\n",
    "                        EFi_NH3 = 0.03\n",
    "                    elif V > 90:\n",
    "                        EFi_NH3 = 0.065\n",
    "                elif 2009 <= car_birth <= 2011:\n",
    "                    EFi_CO = 9.2000*(10**-5)*(V**2) - 6.5320*(10**-3)*V + 2.0654*(10**-1)\n",
    "                    if V <= 65.4:\n",
    "                        EFi_HC = 0.0570 * (V**-1.0484)\n",
    "                    else:\n",
    "                        EFi_HC = 1.1880*(10**-6)*(V**2) - 1.6920*(10**-4)*V + 6.9300*(10**-3)\n",
    "                    EFi_NOx = -3.2511*(10**-6)*(V**2) + 3.0653*(10**-4)*V + 1.0404*(10**-2)\n",
    "                    if V < 85:\n",
    "                        EFi_PM10 = 0.00030\n",
    "                        EFi_PM2_5 = k * 0.00030\n",
    "                    else:\n",
    "                        EFi_PM10 = 0.00075\n",
    "                        EFi_PM2_5 = k * 0.00075\n",
    "                    if V <= 60:\n",
    "                        EFi_NH3 = 0.004\n",
    "                    elif 60 < V <= 90:\n",
    "                        EFi_NH3 = 0.008\n",
    "                    elif V > 90:\n",
    "                        EFi_NH3 = 0.022\n",
    "                elif 2012 <= car_birth <= 2013:\n",
    "                    EFi_CO = 8.9120*(10**-5)*(V**2) - 6.3275*(10**-3)*V + 2.0007*(10**-1)\n",
    "                    if V <= 65.4:\n",
    "                        EFi_HC = 0.0547 * (V**-1.0484)\n",
    "                    else:\n",
    "                        EFi_HC = 1.1405*(10**-6)*(V**2) - 1.6243*(10**-4)*V + 6.6528*(10**-3)\n",
    "                    EFi_NOx = -3.1615*(10**-6)*(V**2) + 2.9809*(10**-4)*V + 1.0117*(10**-2)\n",
    "                    if V < 85:\n",
    "                        EFi_PM10 = 0.00030\n",
    "                        EFi_PM2_5 = k * 0.00030\n",
    "                    else:\n",
    "                        EFi_PM10 = 0.00075\n",
    "                        EFi_PM2_5 = k * 0.00075\n",
    "                    if V <= 60:\n",
    "                        EFi_NH3 = 0.004\n",
    "                    elif 60 < V <= 90:\n",
    "                        EFi_NH3 = 0.008\n",
    "                    elif V > 90:\n",
    "                        EFi_NH3 = 0.022\n",
    "                elif car_birth == 2014:\n",
    "                    EFi_CO = 8.6240*(10**-5)*(V**2) - 6.1230*(10**-3)*V + 1.9361*(10**-1)\n",
    "                    if V <= 65.4:\n",
    "                        EFi_HC = 0.0524 * (V**-1.0484)\n",
    "                    else:\n",
    "                        EFi_HC = 1.0930*(10**-6)*(V**2) - 1.5566*(10**-4)*V + 6.3756*(10**-3)\n",
    "                    EFi_NOx = -3.0719*(10**-6)*(V**2) + 2.8964*(10**-4)*V + 9.8301*(10**-3)\n",
    "                    if V < 85:\n",
    "                        EFi_PM10 = 0.00030\n",
    "                        EFi_PM2_5 = k * 0.00030\n",
    "                    else:\n",
    "                        EFi_PM10 = 0.00075\n",
    "                        EFi_PM2_5 = k * 0.00075\n",
    "                    if V <= 60:\n",
    "                        EFi_NH3 = 0.004\n",
    "                    elif 60 < V <= 90:\n",
    "                        EFi_NH3 = 0.008\n",
    "                    elif V > 90:\n",
    "                        EFi_NH3 = 0.022\n",
    "                elif 2015 <= car_birth:\n",
    "                    EFi_CO = 8.3360*(10**-5)*(V**2) - 5.9186*(10**-3)*V + 1.8714*(10**-1)\n",
    "                    if V <= 65.4:\n",
    "                        EFi_HC = 0.0501 * (V**-1.0484)\n",
    "                    else:\n",
    "                        EFi_HC = 1.0500*(10**-6)*(V**2) - 1.4890*(10**-4)*V + 6.09840*(10**-3)\n",
    "                    EFi_NOx = -2.9823*(10**-6)*(V**2) + 2.8119*(10**-4)*V + 9.5434*(10**-3)\n",
    "                    if V < 85:\n",
    "                        EFi_PM10 = 0.00030\n",
    "                        EFi_PM2_5 = k * 0.00030\n",
    "                    else:\n",
    "                        EFi_PM10 = 0.00075\n",
    "                        EFi_PM2_5 = k * 0.00075\n",
    "                    if V <= 60:\n",
    "                        EFi_NH3 = 0.004\n",
    "                    elif 60 < V <= 90:\n",
    "                        EFi_NH3 = 0.008\n",
    "                    elif V > 90:\n",
    "                        EFi_NH3 = 0.022\n",
    "            elif ( (car_type == '승용') and (car_size == '중형') ) or ( (car_type == '특수') and (car_size == '중형') ): # 최이사님 확인(2023.04.20) : 특수 중형 -> 승용 중형 조건으로 계산\n",
    "                if car_birth <= 1986:\n",
    "                    EFi_CO = 247.00 * (V**-0.6651)\n",
    "                    EFi_HC = 15.953 * (V**-0.5059)\n",
    "                    EFi_NOx = 3.1140 * (V**-0.2278)\n",
    "                    if V < 85:\n",
    "                        EFi_PM10 = 0.00030\n",
    "                        EFi_PM2_5 = k * 0.00030\n",
    "                    else:\n",
    "                        EFi_PM10 = 0.00075\n",
    "                        EFi_PM2_5 = k * 0.00075\n",
    "                    if V <= 65:\n",
    "                        EFi_NH3 = 0.1\n",
    "                    else:\n",
    "                        EFi_NH3 = 0.07\n",
    "                elif 1987 <= car_birth <= 1990:\n",
    "                    EFi_CO = 36.169 * (V**-0.7587)\n",
    "                    EFi_HC = 15.607 * (V**-1.0423)\n",
    "                    EFi_NOx = 6.2007 * (V**-0.6781)\n",
    "                    if V < 85:\n",
    "                        EFi_PM10 = 0.00030\n",
    "                        EFi_PM2_5 = k * 0.00030\n",
    "                    else:\n",
    "                        EFi_PM10 = 0.00075\n",
    "                        EFi_PM2_5 = k * 0.00075\n",
    "                    if V <= 65:\n",
    "                        EFi_NH3 = 0.1\n",
    "                    else:\n",
    "                        EFi_NH3 = 0.07\n",
    "                elif 1991 <= car_birth <= 1999:\n",
    "                    EFi_CO = 51.555 * (V**-0.9531)\n",
    "                    EFi_HC = 31.816 * (V**-1.4804)\n",
    "                    EFi_NOx = 7.5244 * (V**-0.7634)\n",
    "                    if V < 85:\n",
    "                        EFi_PM10 = 0.00030\n",
    "                        EFi_PM2_5 = k * 0.00030\n",
    "                    else:\n",
    "                        EFi_PM10 = 0.00075\n",
    "                        EFi_PM2_5 = k * 0.00075\n",
    "                    if V <= 65:\n",
    "                        EFi_NH3 = 0.1\n",
    "                    else:\n",
    "                        EFi_NH3 = 0.07\n",
    "                elif 2000 <= car_birth <= 2002:\n",
    "                    EFi_CO = 29.921 * (V**-0.8868)\n",
    "                    EFi_HC = 7.9374 * (V**-1.3041)\n",
    "                    EFi_NOx = 1.8525 * (V**-0.4192)\n",
    "                    if V < 85:\n",
    "                        EFi_PM10 = 0.00030\n",
    "                        EFi_PM2_5 = k * 0.00030\n",
    "                    else:\n",
    "                        EFi_PM10 = 0.00075\n",
    "                        EFi_PM2_5 = k * 0.00075\n",
    "                    if V <= 60:\n",
    "                        EFi_NH3 = 0.169\n",
    "                    elif 60 < V <= 90:\n",
    "                        EFi_NH3 = 0.149\n",
    "                    elif V > 90:\n",
    "                        EFi_NH3 = 0.084\n",
    "                elif 2003 <= car_birth <= 2005:\n",
    "                    EFi_CO = 2.4938 * (V**-0.6106)\n",
    "                    EFi_HC = 0.4262 * (V**-1.0122)\n",
    "                    EFi_NOx = 0.1818 * (V**-0.4316)\n",
    "                    if V < 85:\n",
    "                        EFi_PM10 = 0.00030\n",
    "                        EFi_PM2_5 = k * 0.00030\n",
    "                    else:\n",
    "                        EFi_PM10 = 0.00075\n",
    "                        EFi_PM2_5 = k * 0.00075\n",
    "                    if V <= 60:\n",
    "                        EFi_NH3 = 0.002\n",
    "                    elif 60 < V <= 90:\n",
    "                        EFi_NH3 = 0.03\n",
    "                    elif V > 90:\n",
    "                        EFi_NH3 = 0.065\n",
    "                elif 2006 <= car_birth <= 2008:\n",
    "                    EFi_CO = 2.2900*(10**-5)*(V**2) - 1.6300*(10**-3)*V + 5.8300*(10**-2)\n",
    "                    if V <= 65.4:\n",
    "                        EFi_HC = 0.0633 * (V**-1.0484)\n",
    "                    else:\n",
    "                        EFi_HC = 1.3200*(10**-6)*(V**2) - 1.8800*(10**-4)*V + 7.7000*(10**-3)\n",
    "                    EFi_NOx = -3.5000*(10**-6)*(V**2) + 3.3000*(10**-4)*V + 1.1200*(10**-2)\n",
    "                    if V < 85:\n",
    "                        EFi_PM10 = 0.00030\n",
    "                        EFi_PM2_5 = k * 0.00030\n",
    "                    else:\n",
    "                        EFi_PM10 = 0.00075\n",
    "                        EFi_PM2_5 = k * 0.00075\n",
    "                    if V <= 60:\n",
    "                        EFi_NH3 = 0.002\n",
    "                    elif 60 < V <= 90:\n",
    "                        EFi_NH3 = 0.03\n",
    "                    elif V > 90:\n",
    "                        EFi_NH3 = 0.065\n",
    "                elif 2009 <= car_birth <= 2011:\n",
    "                    EFi_CO = 2.1068*(10**-5)*(V**2) - 1.4996*(10**-3)*V + 5.3636*(10**-2)\n",
    "                    if V <= 65.4:\n",
    "                        EFi_HC = 0.0570 * (V**-1.0484)\n",
    "                    else:\n",
    "                        EFi_HC = 1.1880*(10**-6)*(V**2) - 1.6920*(10**-4)*V + 6.9300*(10**-3)\n",
    "                    EFi_NOx = -3.2511*(10**-6)*(V**2) + 3.0653*(10**-4)*V + 1.0404*(10**-2)\n",
    "                    if V < 85:\n",
    "                        EFi_PM10 = 0.00030\n",
    "                        EFi_PM2_5 = k * 0.00030\n",
    "                    else:\n",
    "                        EFi_PM10 = 0.00075\n",
    "                        EFi_PM2_5 = k * 0.00075\n",
    "                    if V <= 60:\n",
    "                        EFi_NH3 = 0.004\n",
    "                    elif 60 < V <= 90:\n",
    "                        EFi_NH3 = 0.008\n",
    "                    elif V > 90:\n",
    "                        EFi_NH3 = 0.022\n",
    "                elif 2012 <= car_birth <= 2013:\n",
    "                    EFi_CO = 2.0408*(10**-5)*(V**2) - 1.4527*(10**-3)*V + 5.1957*(10**-2)\n",
    "                    if V <= 65.4:\n",
    "                        EFi_HC = 0.0547 * (V**-1.0484)\n",
    "                    else:\n",
    "                        EFi_HC = 1.1405*(10**-6)*(V**2) - 1.6243*(10**-4)*V + 6.6528*(10**-3)\n",
    "                    EFi_NOx = -3.1615*(10**-6)*(V**2) + 2.9809*(10**-4)*V + 1.0117*(10**-2)\n",
    "                    if V < 85:\n",
    "                        EFi_PM10 = 0.00030\n",
    "                        EFi_PM2_5 = k * 0.00030\n",
    "                    else:\n",
    "                        EFi_PM10 = 0.00075\n",
    "                        EFi_PM2_5 = k * 0.00075\n",
    "                    if V <= 60:\n",
    "                        EFi_NH3 = 0.004\n",
    "                    elif 60 < V <= 90:\n",
    "                        EFi_NH3 = 0.008\n",
    "                    elif V > 90:\n",
    "                        EFi_NH3 = 0.022\n",
    "                elif car_birth == 2014:\n",
    "                    EFi_CO = 1.9749*(10**-5)*(V**2) - 1.4057*(10**-3)*V + 5.0278*(10**-2)\n",
    "                    if V <= 65.4:\n",
    "                        EFi_HC = 0.0524 * (V**-1.0484)\n",
    "                    else:\n",
    "                        EFi_HC = 1.0930*(10**-6)*(V**2) - 1.5566*(10**-4)*V + 6.3756*(10**-3)\n",
    "                    EFi_NOx = -3.0719*(10**-6)*(V**2) + 2.8964*(10**-4)*V + 9.8301*(10**-3)\n",
    "                    if V < 85:\n",
    "                        EFi_PM10 = 0.00030\n",
    "                        EFi_PM2_5 = k * 0.00030\n",
    "                    else:\n",
    "                        EFi_PM10 = 0.00075\n",
    "                        EFi_PM2_5 = k * 0.00075\n",
    "                    if V <= 60:\n",
    "                        EFi_NH3 = 0.004\n",
    "                    elif 60 < V <= 90:\n",
    "                        EFi_NH3 = 0.008\n",
    "                    elif V > 90:\n",
    "                        EFi_NH3 = 0.022\n",
    "                elif 2015 <= car_birth:\n",
    "                    EFi_CO = 1.9089*(10**-5)*(V**2) - 1.3588*(10**-3)*V + 4.8599*(10**-2)\n",
    "                    if V <= 65.4:\n",
    "                        EFi_HC = 0.0501 * (V**-1.0484)\n",
    "                    else:\n",
    "                        EFi_HC = 1.0500*(10**-6)*(V**2) - 1.4890*(10**-4)*V + 6.0984*(10**-3)\n",
    "                    EFi_NOx = -2.9823*(10**-6)*(V**2) + 2.8119*(10**-4)*V + 9.5434*(10**-3)\n",
    "                    if V < 85:\n",
    "                        EFi_PM10 = 0.00030\n",
    "                        EFi_PM2_5 = k * 0.00030\n",
    "                    else:\n",
    "                        EFi_PM10 = 0.00075\n",
    "                        EFi_PM2_5 = k * 0.00075\n",
    "                    if V <= 60:\n",
    "                        EFi_NH3 = 0.004\n",
    "                    elif 60 < V <= 90:\n",
    "                        EFi_NH3 = 0.008\n",
    "                    elif V > 90:\n",
    "                        EFi_NH3 = 0.022\n",
    "            elif (car_type == '승용') and (car_size == '대형'):\n",
    "                if car_birth <= 1986:\n",
    "                    EFi_CO = 247.00 * (V**-0.6651)\n",
    "                    EFi_HC = 15.953 * (V**-0.5059)\n",
    "                    EFi_NOx = 3.1140 * (V**-0.2278)\n",
    "                    if V < 85:\n",
    "                        EFi_PM10 = 0.00030\n",
    "                        EFi_PM2_5 = k * 0.00030\n",
    "                    else:\n",
    "                        EFi_PM10 = 0.00075\n",
    "                        EFi_PM2_5 = k * 0.00075\n",
    "                    if V <= 65:\n",
    "                        EFi_NH3 = 0.1\n",
    "                    else:\n",
    "                        EFi_NH3 = 0.07\n",
    "                elif 1987 <= car_birth <= 1990:\n",
    "                    EFi_CO = 36.169 * (V**-0.7587)\n",
    "                    EFi_HC = 15.607 * (V**-1.0423)\n",
    "                    EFi_NOx = 6.2007 * (V**-0.6781)\n",
    "                    if V < 85:\n",
    "                        EFi_PM10 = 0.00030\n",
    "                        EFi_PM2_5 = k * 0.00030\n",
    "                    else:\n",
    "                        EFi_PM10 = 0.00075\n",
    "                        EFi_PM2_5 = k * 0.00075\n",
    "                    if V <= 65:\n",
    "                        EFi_NH3 = 0.1\n",
    "                    else:\n",
    "                        EFi_NH3 = 0.07\n",
    "                elif 1991 <= car_birth <= 1999:\n",
    "                    EFi_CO = 51.555 * (V**-0.9531)\n",
    "                    EFi_HC = 31.816 * (V**-1.4804)\n",
    "                    EFi_NOx = 7.5244 * (V**-0.7634)\n",
    "                    if V < 85:\n",
    "                        EFi_PM10 = 0.00030\n",
    "                        EFi_PM2_5 = k * 0.00030\n",
    "                    else:\n",
    "                        EFi_PM10 = 0.00075\n",
    "                        EFi_PM2_5 = k * 0.00075\n",
    "                    if V <= 65:\n",
    "                        EFi_NH3 = 0.1\n",
    "                    else:\n",
    "                        EFi_NH3 = 0.07\n",
    "                elif 2000 <= car_birth <= 2002:\n",
    "                    EFi_CO = 29.921 * (V**-0.8868)\n",
    "                    EFi_HC = 7.9374 * (V**-1.3041)\n",
    "                    EFi_NOx = 1.8525 * (V**-0.4192)\n",
    "                    if V < 85:\n",
    "                        EFi_PM10 = 0.00030\n",
    "                        EFi_PM2_5 = k * 0.00030\n",
    "                    else:\n",
    "                        EFi_PM10 = 0.00075\n",
    "                        EFi_PM2_5 = k * 0.00075\n",
    "                    if V <= 60:\n",
    "                        EFi_NH3 = 0.169\n",
    "                    elif 60 < V <= 90:\n",
    "                        EFi_NH3 = 0.149\n",
    "                    elif V > 90:\n",
    "                        EFi_NH3 = 0.084\n",
    "                elif 2003 <= car_birth <= 2005:\n",
    "                    EFi_CO = 2.4938 * (V**-0.6106)\n",
    "                    EFi_HC = 0.4262 * (V**-1.0122)\n",
    "                    EFi_NOx = 0.1818 * (V**-0.4316)\n",
    "                    if V < 85:\n",
    "                        EFi_PM10 = 0.00030\n",
    "                        EFi_PM2_5 = k * 0.00030\n",
    "                    else:\n",
    "                        EFi_PM10 = 0.00075\n",
    "                        EFi_PM2_5 = k * 0.00075\n",
    "                    if V <= 60:\n",
    "                        EFi_NH3 = 0.002\n",
    "                    elif 60 < V <= 90:\n",
    "                        EFi_NH3 = 0.03\n",
    "                    elif V > 90:\n",
    "                        EFi_NH3 = 0.065\n",
    "                elif 2006 <= car_birth <= 2008:\n",
    "                    if V <= 65.4:\n",
    "                        EFi_CO = 1.4082 * (V**-0.7728)\n",
    "                    else:\n",
    "                        EFi_CO = 8.0000*(10**-5)*(V**2) - 1.2700*(10**-2)*V + 5.7510*(10**-1)\n",
    "                    if V <= 65.4:\n",
    "                        EFi_HC = 0.0633 * (V**-1.0484)\n",
    "                    else:\n",
    "                        EFi_HC = 1.3200*(10**-6)*(V**2) - 1.8800*(10**-4)*V + 7.7000*(10**-3)\n",
    "                    EFi_NOx = -3.5000*(10**-6)*(V**2) + 3.3000*(10**-4)*V + 1.1200*(10**-2)\n",
    "                    if V < 85:\n",
    "                        EFi_PM10 = 0.00030\n",
    "                        EFi_PM2_5 = k * 0.00030\n",
    "                    else:\n",
    "                        EFi_PM10 = 0.00075\n",
    "                        EFi_PM2_5 = k * 0.00075\n",
    "                    if V <= 60:\n",
    "                        EFi_NH3 = 0.002\n",
    "                    elif 60 < V <= 90:\n",
    "                        EFi_NH3 = 0.03\n",
    "                    elif V > 90:\n",
    "                        EFi_NH3 = 0.065\n",
    "                elif 2009 <= car_birth <= 2011:\n",
    "                    if V <= 65.4:\n",
    "                        EFi_CO = 1.2955 * (V**-0.7728)\n",
    "                    else:\n",
    "                        EFi_CO = 7.3600*(10**-5)*(V**2) - 1.1684*(10**-2)*V + 5.2909*(10**-1)\n",
    "                    if V <= 65.4:\n",
    "                        EFi_HC = 0.0570 * (V**-1.0484)\n",
    "                    else:\n",
    "                        EFi_HC = 1.1880*(10**-6)*(V**2) - 1.6920*(10**-4)*V + 6.9300*(10**-3)\n",
    "                    EFi_NOx = -3.2511*(10**-6)*(V**2) + 3.0653*(10**-4)*V + 1.0404*(10**-2)\n",
    "                    if V < 85:\n",
    "                        EFi_PM10 = 0.00030\n",
    "                        EFi_PM2_5 = k * 0.00030\n",
    "                    else:\n",
    "                        EFi_PM10 = 0.00075\n",
    "                        EFi_PM2_5 = k * 0.00075\n",
    "                    if V <= 60:\n",
    "                        EFi_NH3 = 0.004\n",
    "                    elif 60 < V <= 90:\n",
    "                        EFi_NH3 = 0.008\n",
    "                    elif V > 90:\n",
    "                        EFi_NH3 = 0.022\n",
    "                elif 2012 <= car_birth <= 2013:\n",
    "                    if V <= 65.4:\n",
    "                        EFi_CO = 1.2550 * (V**-0.7728)\n",
    "                    else:\n",
    "                        EFi_CO = 7.1296*(10**-5)*(V**2) - 1.1318*(10**-2)*V + 5.1253*(10**-1)\n",
    "                    if V <= 65.4:\n",
    "                        EFi_HC = 0.0547 * (V**-1.0484)\n",
    "                    else:\n",
    "                        EFi_HC = 1.1405*(10**-6)*(V**2) - 1.6243*(10**-4)*V + 6.6528*(10**-3)\n",
    "                    EFi_NOx = -3.1615*(10**-6)*(V**2) + 2.9809*(10**-4)*V + 1.0117*(10**-2)\n",
    "                    if V < 85:\n",
    "                        EFi_PM10 = 0.00030\n",
    "                        EFi_PM2_5 = k * 0.00030\n",
    "                    else:\n",
    "                        EFi_PM10 = 0.00075\n",
    "                        EFi_PM2_5 = k * 0.00075\n",
    "                    if V <= 60:\n",
    "                        EFi_NH3 = 0.004\n",
    "                    elif 60 < V <= 90:\n",
    "                        EFi_NH3 = 0.008\n",
    "                    elif V > 90:\n",
    "                        EFi_NH3 = 0.022\n",
    "                elif car_birth == 2014:\n",
    "                    if V <= 65.4:\n",
    "                        EFi_CO = 1.2144 * (V**-0.7728)\n",
    "                    else:\n",
    "                        EFi_CO = 6.8992*(10**-5)*(V**2) - 1.0952*(10**-2)*V + 4.9597*(10**-1)\n",
    "                    if V <= 65.4:\n",
    "                        EFi_HC = 0.0524 * (V**-1.0484)\n",
    "                    else:\n",
    "                        EFi_HC = 1.0930*(10**-6)*(V**2) - 1.5566*(10**-4)*V + 6.3756*(10**-3)\n",
    "                    EFi_NOx = -3.0719*(10**-6)*(V**2) + 2.8964*(10**-4)*V + 9.8301*(10**-3)\n",
    "                    if V < 85:\n",
    "                        EFi_PM10 = 0.00030\n",
    "                        EFi_PM2_5 = k * 0.00030\n",
    "                    else:\n",
    "                        EFi_PM10 = 0.00075\n",
    "                        EFi_PM2_5 = k * 0.00075\n",
    "                    if V <= 60:\n",
    "                        EFi_NH3 = 0.004\n",
    "                    elif 60 < V <= 90:\n",
    "                        EFi_NH3 = 0.008\n",
    "                    elif V > 90:\n",
    "                        EFi_NH3 = 0.022\n",
    "                elif 2015 <= car_birth:\n",
    "                    if V <= 65.4:\n",
    "                        EFi_CO = 1.1739 * (V**-0.7728)\n",
    "                    else:\n",
    "                        EFi_CO = 6.6688*(10**-5)*(V**2) - 1.0587*(10**-2)*V + 4.7940*(10**-1)\n",
    "                    if V <= 65.4:\n",
    "                        EFi_HC = 0.0501 * (V**-1.0484)\n",
    "                    else:\n",
    "                        EFi_HC = 1.0500*(10**-6)*(V**2) - 1.4890*(10**-4)*V + 6.0984*(10**-3)\n",
    "                    EFi_NOx = -2.9823*(10**-6)*(V**2) + 2.8119*(10**-4)*V + 9.5434*(10**-3)\n",
    "                    if V < 85:\n",
    "                        EFi_PM10 = 0.00030\n",
    "                        EFi_PM2_5 = k * 0.00030\n",
    "                    else:\n",
    "                        EFi_PM10 = 0.00075\n",
    "                        EFi_PM2_5 = k * 0.00075\n",
    "                    if V <= 60:\n",
    "                        EFi_NH3 = 0.004\n",
    "                    elif 60 < V <= 90:\n",
    "                        EFi_NH3 = 0.008\n",
    "                    elif V > 90:\n",
    "                        EFi_NH3 = 0.022\n",
    "            elif ( (car_type == '승합') and (car_size == '경형') ) or ( (car_type == '화물') and (car_size == '경형') ):\n",
    "                if car_birth <= 1996:\n",
    "                    if V <= 45:\n",
    "                        EFi_CO = 11.249 * (V**-0.6579)\n",
    "                    else:\n",
    "                        EFi_CO = 0.0003 * (V**2) + 0.0002 * V + 0.4136\n",
    "                    EFi_HC = 7.6244 * (V**-0.8364)\n",
    "                    EFi_NOx = 2.6754 * (V**-0.3236)\n",
    "                    if V < 85:\n",
    "                        EFi_PM10 = 0.00030\n",
    "                        EFi_PM2_5 = k * 0.00030\n",
    "                    else:\n",
    "                        EFi_PM10 = 0.00075\n",
    "                        EFi_PM2_5 = k * 0.00075\n",
    "                    if V <= 65:\n",
    "                        EFi_NH3 = 0.1\n",
    "                    else:\n",
    "                        EFi_NH3 = 0.07\n",
    "                elif 1997 <= car_birth <= 1999:\n",
    "                    if V <= 45:\n",
    "                        EFi_CO = 16.965 * (V**-0.8461)\n",
    "                    else:\n",
    "                        EFi_CO = -0.0003 * (V**2) + 0.0777 * V - 1.9363\n",
    "                    EFi_HC = 3.0285 * (V**-0.7830)\n",
    "                    EFi_NOx = 1.9923 * (V**-0.3889)\n",
    "                    if V < 85:\n",
    "                        EFi_PM10 = 0.00030\n",
    "                        EFi_PM2_5 = k * 0.00030\n",
    "                    else:\n",
    "                        EFi_PM10 = 0.00075\n",
    "                        EFi_PM2_5 = k * 0.00075\n",
    "                    if V <= 65:\n",
    "                        EFi_NH3 = 0.1\n",
    "                    else:\n",
    "                        EFi_NH3 = 0.07\n",
    "                elif 2000 <= car_birth <= 2002:\n",
    "                    if V <= 45:\n",
    "                        EFi_CO = 9.9433 * (V**-0.8461)\n",
    "                    else:\n",
    "                        EFi_CO = -0.0002 * (V**2) + 0.0455 * V - 1.1349\n",
    "                    EFi_HC = 1.8928 * (V**-0.7830)\n",
    "                    EFi_NOx = 1.2352 * (V**-0.3889)\n",
    "                    if V < 85:\n",
    "                        EFi_PM10 = 0.00030\n",
    "                        EFi_PM2_5 = k * 0.00030\n",
    "                    else:\n",
    "                        EFi_PM10 = 0.00075\n",
    "                        EFi_PM2_5 = k * 0.00075\n",
    "                    if V <= 60:\n",
    "                        EFi_NH3 = 0.169\n",
    "                    elif 60 < V <= 90:\n",
    "                        EFi_NH3 = 0.149\n",
    "                    elif V >= 90:\n",
    "                        EFi_NH3 = 0.084\n",
    "                elif 2003 <= car_birth <= 2005:\n",
    "                    if V <= 45:\n",
    "                        EFi_CO = 9.9433 * (V**-0.8461)\n",
    "                    else:\n",
    "                        EFi_CO = -0.0002 * (V**2) + 0.0455 * V - 1.1349\n",
    "                    EFi_HC = 0.9227 * (V**-0.7830)\n",
    "                    EFi_NOx = 3.8859 * (V**-0.9198)\n",
    "                    if V < 85:\n",
    "                        EFi_PM10 = 0.00030\n",
    "                        EFi_PM2_5 = k * 0.00030\n",
    "                    else:\n",
    "                        EFi_PM10 = 0.00075\n",
    "                        EFi_PM2_5 = k * 0.00075\n",
    "                    if V <= 60:\n",
    "                        EFi_NH3 = 0.002\n",
    "                    elif 60 < V <= 90:\n",
    "                        EFi_NH3 = 0.03\n",
    "                    elif V >= 90:\n",
    "                        EFi_NH3 = 0.065\n",
    "                elif 2006 <= car_birth <= 2008:\n",
    "                    if V <= 45:\n",
    "                        EFi_CO = 4.4952 * (V**-0.8461)\n",
    "                    else:\n",
    "                        EFi_CO = -0.0001 * (V**2) + 0.0229 * V - 0.5701\n",
    "                    EFi_HC = 0.2958 * (V**-0.7830)\n",
    "                    EFi_NOx = 0.4819 * (V**-0.9198)\n",
    "                    if V < 85:\n",
    "                        EFi_PM10 = 0.00030\n",
    "                        EFi_PM2_5 = k * 0.00030\n",
    "                    else:\n",
    "                        EFi_PM10 = 0.00075\n",
    "                        EFi_PM2_5 = k * 0.00075\n",
    "                    if V <= 60:\n",
    "                        EFi_NH3 = 0.002\n",
    "                    elif 60 < V <= 90:\n",
    "                        EFi_NH3 = 0.03\n",
    "                    elif V >= 90:\n",
    "                        EFi_NH3 = 0.065\n",
    "                elif 2009 <= car_birth:\n",
    "                    if V <= 45:\n",
    "                        EFi_CO = 4.4952 * (V**-0.8461)\n",
    "                    else:\n",
    "                        EFi_CO = -0.0001 * (V**2) + 0.0229 * V - 0.5701\n",
    "                    EFi_HC = 0.2958 * (V**-0.7830)\n",
    "                    EFi_NOx = 0.4819 * (V**-0.9198)\n",
    "                    if V < 85:\n",
    "                        EFi_PM10 = 0.00030\n",
    "                        EFi_PM2_5 = k * 0.00030\n",
    "                    else:\n",
    "                        EFi_PM10 = 0.00075\n",
    "                        EFi_PM2_5 = k * 0.00075\n",
    "                    if V <= 60:\n",
    "                        EFi_NH3 = 0.004\n",
    "                    elif 60 < V <= 90:\n",
    "                        EFi_NH3 = 0.008\n",
    "                    elif V >= 90:\n",
    "                        EFi_NH3 = 0.022\n",
    "            elif (car_type == '승합') and (car_size == '소형'):\n",
    "                if car_birth <= 1990:\n",
    "                    EFi_CO = 36.169 * (V**-0.7587)\n",
    "                    EFi_HC = 15.607 * (V**-1.0423)\n",
    "                    EFi_NOx = 6.2007 * (V**-0.6781)\n",
    "                    if V < 85:\n",
    "                        EFi_PM10 = 0.00030\n",
    "                        EFi_PM2_5 = k * 0.00030\n",
    "                    else:\n",
    "                        EFi_PM10 = 0.00075\n",
    "                        EFi_PM2_5 = k * 0.00075\n",
    "                    EFi_NH3 = 0.002\n",
    "                elif 1991 <= car_birth <= 1996:\n",
    "                    EFi_CO = 39.402 * (V**-0.8879)\n",
    "                    EFi_HC = 23.400 * (V**-1.4041)\n",
    "                    EFi_NOx = 7.5244 * (V**-0.7634)\n",
    "                    if V < 85:\n",
    "                        EFi_PM10 = 0.00030\n",
    "                        EFi_PM2_5 = k * 0.00030\n",
    "                    else:\n",
    "                        EFi_PM10 = 0.00075\n",
    "                        EFi_PM2_5 = k * 0.00075\n",
    "                    EFi_NH3 = 0.002\n",
    "                elif 1997 <= car_birth <= 1999:\n",
    "                    EFi_CO = 77.088 * (V**-1.2078)\n",
    "                    EFi_HC = 18.731 * (V**-1.5356)\n",
    "                    EFi_NOx = 4.4260 * (V**-0.7978)\n",
    "                    if V < 85:\n",
    "                        EFi_PM10 = 0.00030\n",
    "                        EFi_PM2_5 = k * 0.00030\n",
    "                    else:\n",
    "                        EFi_PM10 = 0.00075\n",
    "                        EFi_PM2_5 = k * 0.00075\n",
    "                    EFi_NH3 = 0.002\n",
    "                elif car_birth == 2000:\n",
    "                    EFi_CO = 41.669 * (V**-1.2078)\n",
    "                    EFi_HC = 14.190 * (V**-1.5356)\n",
    "                    EFi_NOx = 3.4578 * (V**-0.7978)\n",
    "                    if V < 85:\n",
    "                        EFi_PM10 = 0.00030\n",
    "                        EFi_PM2_5 = k * 0.00030\n",
    "                    else:\n",
    "                        EFi_PM10 = 0.00075\n",
    "                        EFi_PM2_5 = k * 0.00075\n",
    "                    if V <= 60:\n",
    "                        EFi_NH3 = 0.169\n",
    "                    elif 60 < V <= 90:\n",
    "                        EFi_NH3 = 0.149\n",
    "                    elif V >= 90:\n",
    "                        EFi_NH3 = 0.084\n",
    "                elif 2001 <= car_birth <= 2002:\n",
    "                    EFi_CO = 41.669 * (V**-1.2078)\n",
    "                    EFi_HC = 11.920 * (V**-1.5356)\n",
    "                    EFi_NOx = 3.0649 * (V**-0.7978)\n",
    "                    if V < 85:\n",
    "                        EFi_PM10 = 0.00030\n",
    "                        EFi_PM2_5 = k * 0.00030\n",
    "                    else:\n",
    "                        EFi_PM10 = 0.00075\n",
    "                        EFi_PM2_5 = k * 0.00075\n",
    "                    if V <= 60:\n",
    "                        EFi_NH3 = 0.169\n",
    "                    elif 60 < V <= 90:\n",
    "                        EFi_NH3 = 0.149\n",
    "                    elif V >= 90:\n",
    "                        EFi_NH3 = 0.084\n",
    "                elif 2003 <= car_birth <= 2005:\n",
    "                    EFi_CO = 37.573 * (V**-1.2078)\n",
    "                    EFi_HC = 3.1786 * (V**-1.5356)\n",
    "                    EFi_NOx = 1.4931 * (V**-0.7978)\n",
    "                    if V < 85:\n",
    "                        EFi_PM10 = 0.00030\n",
    "                        EFi_PM2_5 = k * 0.00030\n",
    "                    else:\n",
    "                        EFi_PM10 = 0.00075\n",
    "                        EFi_PM2_5 = k * 0.00075\n",
    "                    if V <= 60:\n",
    "                        EFi_NH3 = 0.002\n",
    "                    elif 60 < V <= 90:\n",
    "                        EFi_NH3 = 0.03\n",
    "                    elif V >= 90:\n",
    "                        EFi_NH3 = 0.065\n",
    "                elif 2006 <= car_birth <= 2008:\n",
    "                    EFi_CO = 32.899 * (V**-1.2078)\n",
    "                    EFi_HC = 2.7387 * (V**-1.5356)\n",
    "                    EFi_NOx = 1.1808 * (V**-0.7978)\n",
    "                    if V < 85:\n",
    "                        EFi_PM10 = 0.00030\n",
    "                        EFi_PM2_5 = k * 0.00030\n",
    "                    else:\n",
    "                        EFi_PM10 = 0.00075\n",
    "                        EFi_PM2_5 = k * 0.00075\n",
    "                    if V <= 60:\n",
    "                        EFi_NH3 = 0.002\n",
    "                    elif 60 < V <= 90:\n",
    "                        EFi_NH3 = 0.03\n",
    "                    elif V >= 90:\n",
    "                        EFi_NH3 = 0.065\n",
    "                elif 2009 <= car_birth:\n",
    "                    EFi_CO = 32.899 * (V**-1.2078)\n",
    "                    EFi_HC = 2.7387 * (V**-1.5356)\n",
    "                    EFi_NOx = 1.1808 * (V**-0.7978)\n",
    "                    if V < 85:\n",
    "                        EFi_PM10 = 0.00030\n",
    "                        EFi_PM2_5 = k * 0.00030\n",
    "                    else:\n",
    "                        EFi_PM10 = 0.00075\n",
    "                        EFi_PM2_5 = k * 0.00075\n",
    "                    if V <= 60:\n",
    "                        EFi_NH3 = 0.004\n",
    "                    elif 60 < V <= 90:\n",
    "                        EFi_NH3 = 0.08\n",
    "                    elif V >= 90:\n",
    "                        EFi_NH3 = 0.022\n",
    "            elif ( (car_type == '승합') and (car_size == '중형') or (car_size == '대형') ) or ( (car_type == '화물') and (car_size == '소형') ):\n",
    "                if car_birth <= 1990:\n",
    "                    EFi_CO = 36.169 * (V**-0.7587)\n",
    "                    EFi_HC = 15.607 * (V**-1.0423)\n",
    "                    EFi_NOx = 6.2007 * (V**-0.6781)\n",
    "                    if V < 85:\n",
    "                        EFi_PM10 = 0.00030\n",
    "                        EFi_PM2_5 = k * 0.00030\n",
    "                    else:\n",
    "                        EFi_PM10 = 0.00075\n",
    "                        EFi_PM2_5 = k * 0.00075\n",
    "                    EFi_NH3 = 0.002\n",
    "                elif 1991 <= car_birth <= 1996:\n",
    "                    EFi_CO = 39.402 * (V**-0.8879)\n",
    "                    EFi_HC = 23.400 * (V**-1.4041)\n",
    "                    EFi_NOx = 7.5244 * (V**-0.7634)\n",
    "                    if V < 85:\n",
    "                        EFi_PM10 = 0.00030\n",
    "                        EFi_PM2_5 = k * 0.00030\n",
    "                    else:\n",
    "                        EFi_PM10 = 0.00075\n",
    "                        EFi_PM2_5 = k * 0.00075\n",
    "                    EFi_NH3 = 0.002\n",
    "                elif 1997 <= car_birth <= 1999:\n",
    "                    EFi_CO = 77.088 * (V**-1.2078)\n",
    "                    EFi_HC = 18.731 * (V**-1.5356)\n",
    "                    EFi_NOx = 4.4260 * (V**-0.7978)\n",
    "                    if V < 85:\n",
    "                        EFi_PM10 = 0.00030\n",
    "                        EFi_PM2_5 = k * 0.00030\n",
    "                    else:\n",
    "                        EFi_PM10 = 0.00075\n",
    "                        EFi_PM2_5 = k * 0.00075\n",
    "                    EFi_NH3 = 0.002\n",
    "                elif 2000 <= car_birth <= 2002:\n",
    "                    EFi_CO = 41.669 * (V**-1.2078)\n",
    "                    EFi_HC = 14.190 * (V**-1.5356)\n",
    "                    EFi_NOx = 3.4578 * (V**-0.7978)\n",
    "                    if V < 85:\n",
    "                        EFi_PM10 = 0.00030\n",
    "                        EFi_PM2_5 = k * 0.00030\n",
    "                    else:\n",
    "                        EFi_PM10 = 0.00075\n",
    "                        EFi_PM2_5 = k * 0.00075\n",
    "                    if V <= 60:\n",
    "                        EFi_NH3 = 0.169\n",
    "                    elif 60 < V <= 90:\n",
    "                        EFi_NH3 = 0.149\n",
    "                    elif V >= 90:\n",
    "                        EFi_NH3 = 0.084\n",
    "                elif 2003 <= car_birth <= 2005:\n",
    "                    EFi_CO = 36.578 * (V**-1.2078)\n",
    "                    EFi_HC = 3.0337 * (V**-1.5356)\n",
    "                    EFi_NOx = 2.0104 * (V**-0.7978)\n",
    "                    if V < 85:\n",
    "                        EFi_PM10 = 0.00030\n",
    "                        EFi_PM2_5 = k * 0.00030\n",
    "                    else:\n",
    "                        EFi_PM10 = 0.00075\n",
    "                        EFi_PM2_5 = k * 0.00075\n",
    "                    if V <= 60:\n",
    "                        EFi_NH3 = 0.002\n",
    "                    elif 60 < V <= 90:\n",
    "                        EFi_NH3 = 0.03\n",
    "                    elif V >= 90:\n",
    "                        EFi_NH3 = 0.065\n",
    "                elif 2006 <= car_birth <= 2008:\n",
    "                    EFi_CO = 14.202 * (V**-1.2078)\n",
    "                    EFi_HC = 1.2233 * (V**-1.5356)\n",
    "                    EFi_NOx = 0.2493 * (V**-0.7978)\n",
    "                    if V < 85:\n",
    "                        EFi_PM10 = 0.00030\n",
    "                        EFi_PM2_5 = k * 0.00030\n",
    "                    else:\n",
    "                        EFi_PM10 = 0.00075\n",
    "                        EFi_PM2_5 = k * 0.00075\n",
    "                    if V <= 60:\n",
    "                        EFi_NH3 = 0.002\n",
    "                    elif 60 < V <= 90:\n",
    "                        EFi_NH3 = 0.03\n",
    "                    elif V >= 90:\n",
    "                        EFi_NH3 = 0.065\n",
    "                elif 2009 <= car_birth:\n",
    "                    EFi_CO = 14.202 * (V**-1.2078)\n",
    "                    EFi_HC = 1.2233 * (V**-1.5356)\n",
    "                    EFi_NOx = 0.2493 * (V**-0.7978)\n",
    "                    if V < 85:\n",
    "                        EFi_PM10 = 0.00030\n",
    "                        EFi_PM2_5 = k * 0.00030\n",
    "                    else:\n",
    "                        EFi_PM10 = 0.00075\n",
    "                        EFi_PM2_5 = k * 0.00075\n",
    "                    if V <= 60:\n",
    "                        EFi_NH3 = 0.004\n",
    "                    elif 60 < V <= 90:\n",
    "                        EFi_NH3 = 0.008\n",
    "                    elif V >= 90:\n",
    "                        EFi_NH3 = 0.022\n",
    "            elif (car_type == '화물') and (car_size == '중형'):\n",
    "                if 1993 <= car_birth <= 1998:\n",
    "                    if V <= 65:\n",
    "                        EFi_CO = 70\n",
    "                        EFi_HC = 7\n",
    "                        EFi_NOx = 4.5\n",
    "                    else:\n",
    "                        EFi_CO = 55\n",
    "                        EFi_HC = 3.5\n",
    "                        EFi_NOx = 7.5\n",
    "                    if V < 85:\n",
    "                        EFi_PM10 = 0.00030\n",
    "                        EFi_PM2_5 = k * 0.00030\n",
    "                    else:\n",
    "                        EFi_PM10 = 0.00075\n",
    "                        EFi_PM2_5 = k * 0.00075\n",
    "                    EFi_NH3 = 0.002\n",
    "                elif car_birth == 1999:\n",
    "                    if V <= 65:\n",
    "                        EFi_CO = 70\n",
    "                        EFi_HC = 7\n",
    "                        EFi_NOx = 4.5\n",
    "                    else:\n",
    "                        EFi_CO = 55\n",
    "                        EFi_HC = 3.5\n",
    "                        EFi_NOx = 7.5\n",
    "                    if V < 85:\n",
    "                        EFi_PM10 = 0.00030\n",
    "                        EFi_PM2_5 = k * 0.00030\n",
    "                    else:\n",
    "                        EFi_PM10 = 0.00075\n",
    "                        EFi_PM2_5 = k * 0.00075\n",
    "                    EFi_NH3 = 0.002\n",
    "                elif 2000 <= car_birth <= 2002: # CO, HC, NOx 배출계수 누락(⭕)\n",
    "                    if V <= 65:\n",
    "                        EFi_CO = 70\n",
    "                        EFi_HC = 7\n",
    "                        EFi_NOx = 4.5\n",
    "                    else:\n",
    "                        EFi_CO = 55\n",
    "                        EFi_HC = 3.5\n",
    "                        EFi_NOx = 7.5\n",
    "                    if V < 85:\n",
    "                        EFi_PM10 = 0.00030\n",
    "                        EFi_PM2_5 = k * 0.00030\n",
    "                    else:\n",
    "                        EFi_PM10 = 0.00075\n",
    "                        EFi_PM2_5 = k * 0.00075\n",
    "                    if V <= 60:\n",
    "                        EFi_NH3 = 0.169\n",
    "                    elif 60 < V <= 90:\n",
    "                        EFi_NH3 = 0.149\n",
    "                    elif V > 90:\n",
    "                        EFi_NH3 = 0.084\n",
    "                elif 2003 <= car_birth <= 2008: # CO, HC, NOx 배출계수 누락(⭕)\n",
    "                    if V <= 65:\n",
    "                        EFi_CO = 70\n",
    "                        EFi_HC = 7\n",
    "                        EFi_NOx = 4.5\n",
    "                    else:\n",
    "                        EFi_CO = 55\n",
    "                        EFi_HC = 3.5\n",
    "                        EFi_NOx = 7.5\n",
    "                    if V < 85:\n",
    "                        EFi_PM10 = 0.00030\n",
    "                        EFi_PM2_5 = k * 0.00030\n",
    "                    else:\n",
    "                        EFi_PM10 = 0.00075\n",
    "                        EFi_PM2_5 = k * 0.00075\n",
    "                    if V <= 60:\n",
    "                        EFi_NH3 = 0.002\n",
    "                    elif 60 < V <= 90:\n",
    "                        EFi_NH3 = 0.03\n",
    "                    elif V > 90:\n",
    "                        EFi_NH3 = 0.065\n",
    "                elif 2009 <= car_birth:\n",
    "                    if V <= 60:\n",
    "                        EFi_NH3 = 0.004\n",
    "                    elif 60 < V <= 90:\n",
    "                        EFi_NH3 = 0.008\n",
    "                    elif V > 90:\n",
    "                        EFi_NH3 = 0.022\n",
    "            elif (car_type == '화물') and (car_size == '대형'):\n",
    "                if 1993 <= car_birth:\n",
    "                    if V <= 65:\n",
    "                        EFi_CO = 70\n",
    "                        EFi_HC = 7\n",
    "                        EFi_NOx = 4.5\n",
    "                    else:\n",
    "                        EFi_CO = 55\n",
    "                        EFi_HC = 3.5\n",
    "                        EFi_NOx = 7.5\n",
    "                    if V < 85:\n",
    "                        EFi_PM10 = 0.00030\n",
    "                        EFi_PM2_5 = k * 0.00030\n",
    "                    else:\n",
    "                        EFi_PM10 = 0.00075\n",
    "                        EFi_PM2_5 = k * 0.00075\n",
    "                else:\n",
    "                    EFi_CO = 1\n",
    "                    EFi_HC = 1\n",
    "                    EFi_NOx = 1\n",
    "                    EFi_PM10 = 1\n",
    "                    EFi_PM2_5 = 1\n",
    "                EFi_NH3 = 0.002\n",
    "        elif fuel == '경유':\n",
    "            if (car_type == '승용') and (car_size == '경형'):\n",
    "                if car_birth <= 2005:\n",
    "                    EFi_CO = 0.7392 * (V**-0.7524)\n",
    "                    EFi_HC = 0.0989 * (V**-0.6848)\n",
    "                    EFi_NOx = 24.3491 * (V**-0.7277)\n",
    "                    EFi_PM10 = 0.0839 * (V**-0.3420)\n",
    "                    EFi_PM2_5 = k * 0.0839 * (V**-0.3420)\n",
    "                    EFi_NH3 = 0.001\n",
    "                elif 2006 <= car_birth <= 2010:\n",
    "                    EFi_CO = 0.5775 * (V**-0.7524)\n",
    "                    EFi_HC = 0.0825 * (V**-0.6848)\n",
    "                    EFi_NOx = 24.3491 * (V**-0.7277)\n",
    "                    EFi_PM10 = 0.0420 * (V**-0.3420)\n",
    "                    EFi_PM2_5 = k * 0.0420 * (V**-0.3420)\n",
    "                    EFi_NH3 = 0.001\n",
    "                elif 2011 <= car_birth <= 2015:\n",
    "                    EFi_CO = 0.5141 * (V**-0.6792)\n",
    "                    EFi_HC = 0.3713 * (V**-0.7513)\n",
    "                    EFi_NOx = 0.0003 * (V**2) - 0.0324 * V + 1.4773\n",
    "                    if V <= 65.4:\n",
    "                        EFi_PM10 = 0.0225 * (V**-0.7264)\n",
    "                        EFi_PM2_5 = k * 0.0225 * (V**-0.7264)\n",
    "                    else:\n",
    "                        EFi_PM10 = 0.0009 * (V**0.0416)      # EFi_PM10 = 0.0009 * (V**0.0416) (⭕)\n",
    "                        EFi_PM2_5 = k * 0.0009 * (V**0.0416) # EFi_PM2_5 = k * 0.0009 * (V**0.0416) (⭕)\n",
    "                    EFi_NH3 = 0.0019\n",
    "                elif 2016 <= car_birth:\n",
    "                    EFi_CO = 0.4574 * (V**-0.5215)\n",
    "                    EFi_HC = 0.1300 * (V**-0.7265)\n",
    "                    EFi_NOx = 2.7702 * (V**-0.3869)\n",
    "                    if V <= 65.4:\n",
    "                        EFi_PM10 = 0.0225 * (V**-0.7264)\n",
    "                        EFi_PM2_5 = k * 0.0225 * (V**-0.7264)\n",
    "                    else:\n",
    "                        EFi_PM10 = 0.0009 * (V**0.0416)     # EFi_PM10 = 0.0009 * (V**0.0416) (⭕)\n",
    "                        EFi_PM2_5 = k * 0.0009 * (V**0.0416) # EFi_PM2_5 = k * 0.0009 * (V**0.0416) (⭕)\n",
    "                    EFi_NH3 = 0.0019\n",
    "            elif (car_type == '승용') and (car_size == '소형'):\n",
    "                if car_birth <= 2004:\n",
    "                    EFi_CO = 5.9672 * (V**-0.9534)\n",
    "                    EFi_HC = 0.6523 * (V**-1.0167)\n",
    "                    EFi_NOx = 24.3491 * (V**-0.7277)\n",
    "                    if V <= 65:\n",
    "                        EFi_PM10 = 0.3861 * (V**-0.5093)\n",
    "                        EFi_PM2_5 = k * 0.3861 * (V**-0.5093)\n",
    "                    else:\n",
    "                        EFi_PM10 = -0.00001 * (V**2) + 0.0026 * V - 0.0618\n",
    "                        EFi_PM2_5 = k * -0.00001 * (V**2) + 0.0026 * V - 0.0618\n",
    "                    EFi_NH3 = 0.001\n",
    "                elif car_birth == 2005:\n",
    "                    EFi_CO = 0.7392 * (V**-0.7524)\n",
    "                    EFi_HC = 0.0989 * (V**-0.6848)\n",
    "                    EFi_NOx = 24.3491 * (V**-0.7277)\n",
    "                    EFi_PM10 = 0.0839 * (V**-0.3420)\n",
    "                    EFi_PM2_5 = k * 0.0839 * (V**-0.3420)\n",
    "                    EFi_NH3 = 0.001\n",
    "                elif 2006 <= car_birth <= 2010:\n",
    "                    EFi_CO = 0.5775 * (V**-0.7524)\n",
    "                    EFi_HC = 0.0825 * (V**-0.6848)\n",
    "                    EFi_NOx = 24.3491 * (V**-0.7277)\n",
    "                    EFi_PM10 = 0.0420 * (V**-0.3420)\n",
    "                    EFi_PM2_5 = k * 0.0420 * (V**-0.3420)\n",
    "                    EFi_NH3 = 0.001\n",
    "                elif 2011 <= car_birth <= 2015:\n",
    "                    EFi_CO = 0.5141 * (V**-0.6792)\n",
    "                    EFi_HC = 0.3713 * (V**-0.7513)\n",
    "                    EFi_NOx = 0.0003 * (V**2) - 0.0324 * V + 1.4773\n",
    "                    if V <= 65.4:\n",
    "                        EFi_PM10 = 0.0225 * (V**-0.7264)\n",
    "                        EFi_PM2_5 = k * 0.0225 * (V**-0.7264)\n",
    "                    else:\n",
    "                        EFi_PM10 = 0.0009 * (V**0.0416)        # EFi_PM10 = 0.0009 * (V**0.0416) (⭕)\n",
    "                        EFi_PM2_5 = k * 0.0009 * (V**0.0416)   # EFi_PM2_5 = k * 0.0009 * (V**0.0416) (⭕)\n",
    "                    EFi_NH3 = 0.0019\n",
    "                elif 2016 <= car_birth:\n",
    "                    EFi_CO = 0.4574 * (V**-0.5215)\n",
    "                    EFi_HC = 0.1300 * (V**-0.7265)\n",
    "                    EFi_NOx = 2.7702 * (V**-0.3869)\n",
    "                    if V <= 65.4:\n",
    "                        EFi_PM10 = 0.0225 * (V**-0.7264)\n",
    "                        EFi_PM2_5 = k * 0.0225 * (V**-0.7264)\n",
    "                    else:\n",
    "                        EFi_PM10 = 0.0009 * (V**0.0416)           # EFi_PM10 = 0.0009 * (V**0.0416) (⭕)\n",
    "                        EFi_PM2_5 = k * 0.0009 * (V**0.0416)      # EFi_PM2_5 = k * 0.0009 * (V**0.0416) (⭕)\n",
    "                    EFi_NH3 = 0.0019\n",
    "            elif (car_type == '승용') and (car_size == '중형'):\n",
    "                if car_birth <= 2004:\n",
    "                    EFi_CO = 5.9672 * (V**-0.9534)\n",
    "                    EFi_HC = 0.6523 * (V**-1.0167)\n",
    "                    EFi_NOx = 24.3491 * (V**-0.7277)\n",
    "                    if V <= 65:\n",
    "                        EFi_PM10 = 0.3861 * (V**-0.5093)\n",
    "                        EFi_PM2_5 = k * 0.3861 * (V**-0.5093)\n",
    "                    else:\n",
    "                        EFi_PM10 = -0.00001 * (V**2) + 0.0026 * V - 0.0618\n",
    "                        EFi_PM2_5 = k * -0.00001 * (V**2) + 0.0026 * V - 0.0618\n",
    "                    EFi_NH3 = 0.001\n",
    "                elif car_birth == 2005:\n",
    "                    EFi_CO = 0.6930 * (V**-0.7524)\n",
    "                    EFi_HC = 0.1865 * (V**-0.6848)\n",
    "                    EFi_NOx = 24.3491 * (V**-0.7277)\n",
    "                    EFi_PM10 = 0.0723 * (V**-0.3420)\n",
    "                    EFi_PM2_5 = k * 0.0723 * (V**-0.3420)\n",
    "                    EFi_NH3 = 0.001\n",
    "                elif 2006 <= car_birth <= 2010:\n",
    "                    EFi_CO = 0.5414 * (V**-0.7524)\n",
    "                    EFi_HC = 0.0927 * (V**-0.6848)\n",
    "                    EFi_NOx = 24.3491 * (V**-0.7277)\n",
    "                    EFi_PM10 = 0.0396 * (V**-0.3420)\n",
    "                    EFi_PM2_5 = k * 0.0396 * (V**-0.3420)\n",
    "                    EFi_NH3 = 0.001\n",
    "                elif 2011 <= car_birth <= 2015:\n",
    "                    EFi_CO = 0.5141 * (V**-0.6792)\n",
    "                    EFi_HC = 0.3713 * (V**-0.7513)\n",
    "                    EFi_NOx = 0.0003 * (V**2) - 0.0324 * V + 1.4773\n",
    "                    if V <= 65.4:\n",
    "                        EFi_PM10 = 0.0225 * (V**-0.7264)\n",
    "                        EFi_PM2_5 = k * 0.0225 * (V**-0.7264)\n",
    "                    else:\n",
    "                        EFi_PM10 = 0.0009 * (V**0.0416)            # EFi_PM10 = 0.0009 * (V**0.0416) (⭕)\n",
    "                        EFi_PM2_5 = k * 0.0009 * (V**0.0416)      # EFi_PM2_5 = k * 0.0009 * (V**0.0416) (⭕)\n",
    "                    EFi_NH3 = 0.0019\n",
    "                elif 2016 <= car_birth:\n",
    "                    EFi_CO = 0.4574 * (V**-0.5215)\n",
    "                    EFi_HC = 0.1300 * (V**-0.7265)\n",
    "                    EFi_NOx = 2.7702 * (V**-0.3869)\n",
    "                    if V <= 65.4:\n",
    "                        EFi_PM10 = 0.0225 * (V**-0.7264)\n",
    "                        EFi_PM2_5 = k * 0.0225 * (V**-0.7264)\n",
    "                    else:\n",
    "                        EFi_PM10 = 0.0009 * (V**0.0416)              # EFi_PM10 = 0.0009 * (V**0.0416) (⭕)\n",
    "                        EFi_PM2_5 = k * 0.0009 * (V**0.0416)         # EFi_PM2_5 = k * 0.0009 * (V**0.0416) (⭕)\n",
    "                    EFi_NH3 = 0.0019\n",
    "            elif (car_type == '승용') and (car_size == '대형'):\n",
    "                if car_birth <= 2004:\n",
    "                    EFi_CO = 5.9672 * (V**-0.9534)\n",
    "                    EFi_HC = 0.6523 * (V**-1.0167)\n",
    "                    EFi_NOx = 24.3491 * (V**-0.7277)\n",
    "                    if V <= 65:\n",
    "                        EFi_PM10 = 0.3861 * (V**-0.5093)\n",
    "                        EFi_PM2_5 = k * 0.3861 * (V**-0.5093)\n",
    "                    else:\n",
    "                        EFi_PM10 = -0.00001 * (V**2) + 0.0026 * V - 0.0618\n",
    "                        EFi_PM2_5 = k * -0.00001 * (V**2) + 0.0026 * V - 0.0618\n",
    "                    EFi_NH3 = 0.001\n",
    "                elif car_birth == 2005:\n",
    "                    EFi_CO = 0.9609 * (V**-0.7524)\n",
    "                    EFi_HC = 0.1865 * (V**-0.6848)\n",
    "                    EFi_NOx = 24.3491 * (V**-0.7277)\n",
    "                    EFi_PM10 = 0.0723 * (V**-0.3420)\n",
    "                    EFi_PM2_5 = k * 0.0723 * (V**-0.3420)\n",
    "                    EFi_NH3 = 0.001\n",
    "                elif 2006 <= car_birth <= 2010:\n",
    "                    EFi_CO = 0.7507 * (V**-0.7524)\n",
    "                    EFi_HC = 0.1554 * (V**-0.6848)\n",
    "                    EFi_NOx = 24.3491 * (V**-0.7277)\n",
    "                    EFi_PM10 = 0.0361 * (V**-0.3420)\n",
    "                    EFi_PM2_5 = k * 0.0361 * (V**-0.3420)\n",
    "                    EFi_NH3 = 0.001\n",
    "                elif 2011 <= car_birth <= 2015:\n",
    "                    EFi_CO = 0.5141 * (V**-0.6792)\n",
    "                    EFi_HC = 0.3713 * (V**-0.7513)\n",
    "                    EFi_NOx = 0.0003 * (V**2) - 0.0324 * V + 1.4773\n",
    "                    if V <= 65.4:\n",
    "                        EFi_PM10 = 0.0225 * (V**-0.7264)\n",
    "                        EFi_PM2_5 = k * 0.0225 * (V**-0.7264)\n",
    "                    else:\n",
    "                        EFi_PM10 = 0.0009 * (V**0.0416)              # EFi_PM10 = 0.0009 * (V**0.0416) (⭕)\n",
    "                        EFi_PM2_5 = k * 0.0009 * (V**0.0416)         # EFi_PM2_5 = k * 0.0009 * (V**0.0416) (⭕)\n",
    "                    EFi_NH3 = 0.0019\n",
    "                elif 2016 <= car_birth:\n",
    "                    EFi_CO = 0.4574 * (V**-0.5215)\n",
    "                    EFi_HC = 0.1300 * (V**-0.7265)\n",
    "                    EFi_NOx = 2.7702 * (V**-0.3869)\n",
    "                    if V <= 65.4:\n",
    "                        EFi_PM10 = 0.0225 * (V**-0.7264)\n",
    "                        EFi_PM2_5 = k * 0.0225 * (V**-0.7264)\n",
    "                    else:\n",
    "                        EFi_PM10 = 0.0009 * (V**0.0416)              # EFi_PM10 = 0.0009 * (V**0.0416) (⭕)\n",
    "                        EFi_PM2_5 = k * 0.0009 * (V**0.0416)         # EFi_PM2_5 = k * 0.0009 * (V**0.0416) (⭕)\n",
    "                    EFi_NH3 = 0.0019\n",
    "            elif (car_type == '승합') and (car_size == '소형'):\n",
    "                if car_birth <= 1990:\n",
    "                    if V <= 65.4:\n",
    "                        EFi_CO = 3.4539 * (V**-0.4266)\n",
    "                    else:\n",
    "                        EFi_CO = 0.0051 * V + 0.2212\n",
    "                    EFi_HC = 0.9835 * (V**-0.5096)\n",
    "                    EFi_NOx = 24.3491 * (V**-0.7277)\n",
    "                    EFi_PM10 = 1.1412 * (V**-0.4324)\n",
    "                    EFi_PM2_5 = k * 1.1412 * (V**-0.4324)\n",
    "                elif 1991 <= car_birth <= 1995:\n",
    "                    if V <= 65.4:\n",
    "                        EFi_CO = 3.4539 * (V**-0.4266)\n",
    "                    else:\n",
    "                        EFi_CO = 0.0051 * V + 0.2212\n",
    "                    EFi_HC = 1.6313 * (V**-0.7298)\n",
    "                    EFi_NOx = 24.3491 * (V**-0.7277)\n",
    "                    EFi_PM10 = 0.5999 * (V**-0.3294)\n",
    "                    EFi_PM2_5 = k * 0.5999 * (V**-0.3294)\n",
    "                elif 1996 <= car_birth <= 1997:\n",
    "                    if V <= 65.4:\n",
    "                        EFi_CO = 3.4539 * (V**-0.4266)\n",
    "                    else:\n",
    "                        EFi_CO = 0.0051 * V + 0.2212\n",
    "                    EFi_HC = 1.1293 * (V**-0.6588)\n",
    "                    EFi_NOx = 24.3491 * (V**-0.7277)\n",
    "                    EFi_PM10 = 0.6408 * (V**-0.3596)\n",
    "                    EFi_PM2_5 = k * 0.6408 * (V**-0.3596)\n",
    "                elif 1998 <= car_birth <= 1999:\n",
    "                    EFi_CO = 3.7564 * (V**-0.5175)\n",
    "                    EFi_HC = 1.1293 * (V**-0.6588)\n",
    "                    EFi_NOx = 24.3491 * (V**-0.7277)\n",
    "                    EFi_PM10 = 0.5168 * (V**-0.3596)\n",
    "                    EFi_PM2_5 = k * 0.5168 * (V**-0.3596)\n",
    "                elif 2000 <= car_birth <= 2003:\n",
    "                    EFi_CO = 3.7564 * (V**-0.5175)\n",
    "                    EFi_HC = 1.1293 * (V**-0.6588)\n",
    "                    EFi_NOx = 24.3491 * (V**-0.7277)\n",
    "                    EFi_PM10 = 0.2894 * (V**-0.3596)\n",
    "                    EFi_PM2_5 = k * 0.2894 * (V**-0.3596)\n",
    "                elif 2004 <= car_birth <= 2007:\n",
    "                    EFi_CO = 3.2797 * (V**-0.8887)\n",
    "                    EFi_HC = 0.1807 * (V**-0.6588)\n",
    "                    EFi_NOx = 24.3491 * (V**-0.7277)\n",
    "                    EFi_PM10 = 0.2067 * (V**-0.3596)\n",
    "                    EFi_PM2_5 = k * 0.2067 * (V**-0.3596)\n",
    "                elif 2008 <= car_birth <= 2011:\n",
    "                    if V <= 65.4:\n",
    "                        EFi_CO = 4.222 * (V**-1.4035)\n",
    "                    else:\n",
    "                        EFi_CO = 0.01166 * (V**0.09222)         # EFi_CO = 0.01166 * (V**0.09222) (⭕)\n",
    "                    if V <= 97.3:                               # 97.3 초과에 대한 내용 없음.(편람 p.371)\n",
    "                        EFi_HC = 0.829 * (V**-1.0961)\n",
    "                    EFi_NOx = 24.3491 * (V**-0.7277)\n",
    "                    EFi_PM10 = 0.3111 * (V**-0.5125)\n",
    "                    EFi_PM2_5 = k * 0.3111 * (V**-0.5125)\n",
    "                elif 2012 <= car_birth:\n",
    "                    if V <= 65.4:\n",
    "                        EFi_CO = 4.222 * (V**-1.4035)\n",
    "                    else:\n",
    "                        EFi_CO = 0.01166 * (V**0.09222)         # EFi_CO = 0.01166 * (V**0.09222) (⭕)\n",
    "                    if V <= 97.3:                               # 97.3 초과에 대한 내용 없음.(편람 p.371)\n",
    "                        EFi_HC = 0.829 * (V**-1.0961)\n",
    "                    if V <= 65.4:\n",
    "                        EFi_NOx = 2.0217 * (V**-0.2645)\n",
    "                    else:\n",
    "                        EFi_NOx = 0.0271 * (V**0.7596)\n",
    "                    EFi_PM10 = 0.1119 * (V**-0.5125)\n",
    "                    EFi_PM2_5 = k * 0.1119 * (V**-0.5125)\n",
    "                EFi_NH3 = 0.001\n",
    "            elif (car_type == '승합') and (car_size == '중형'):\n",
    "                if car_birth <= 1995:\n",
    "                    EFi_CO = 32.550 * (V**-0.4944)\n",
    "                    EFi_HC = 15.753 * (V**-0.5912)\n",
    "                    if V < 80:\n",
    "                        EFi_NOx = 40.692 * (V**-0.5590)\n",
    "                    else:\n",
    "                        EFi_NOx = -0.0023 * (V**2) + 0.5381 * V - 23.590\n",
    "                    EFi_PM10 = 5.4886 * (V**-0.5911)\n",
    "                    EFi_PM2_5 = k * 5.4886 * (V**-0.5911)\n",
    "                elif 1996 <= car_birth <= 1997:\n",
    "                    EFi_CO = 16.410 * (V**-0.3790)\n",
    "                    EFi_HC = 4.2324 * (V**-0.3926)\n",
    "                    if V < 80:\n",
    "                        EFi_NOx = 22.804 * (V**-0.4660)\n",
    "                    else:\n",
    "                        EFi_NOx = -0.0021 * (V**2) + 0.4430 * V - 18.730\n",
    "                    EFi_PM10 = 1.6593 * (V**-0.3935)\n",
    "                    EFi_PM2_5 = k * 1.6593 * (V**-0.3935)\n",
    "                elif 1998 <= car_birth <= 2000:\n",
    "                    EFi_CO = 16.410 * (V**-0.3790)\n",
    "                    EFi_HC = 4.2324 * (V**-0.3926)\n",
    "                    if V < 80:\n",
    "                        EFi_NOx = 25.708 * (V**-0.4772)\n",
    "                    else:\n",
    "                        EFi_NOx = 0.0019 * (V**2) - 0.2628 * V + 12.145\n",
    "                    EFi_PM10 = 1.6593 * (V**-0.3935)\n",
    "                    EFi_PM2_5 = k * 1.6593 * (V**-0.3935)\n",
    "                elif 2001 <= car_birth <= 2004:\n",
    "                    EFi_CO = 16.378 * (V**-0.5340)\n",
    "                    EFi_HC = 5.8477 * (V**-0.5466)\n",
    "                    if V < 80:\n",
    "                        EFi_NOx = 25.436 * (V**-0.4656)\n",
    "                    else:\n",
    "                        EFi_NOx = 0.0008 * (V**2) - 0.0482 * V + 1.8424\n",
    "                    EFi_PM10 = 1.2848 * (V**-0.4715)\n",
    "                    EFi_PM2_5 = k * 1.2848 * (V**-0.4715)\n",
    "                elif 2005 <= car_birth <= 2007:\n",
    "                    EFi_CO = 15.256 * (V**-0.7448)\n",
    "                    EFi_HC = 2.0502 * (V**-0.6504)\n",
    "                    EFi_NOx = 15.001 * (V**-0.4528)\n",
    "                    EFi_PM10 = 0.2979 * (V**-0.4008)\n",
    "                    EFi_PM2_5 = k * 1.0457 * (V**-0.4527)\n",
    "                elif 2008 <= car_birth <= 2010:\n",
    "                    EFi_CO = 8.1771 * (V**-0.7725)\n",
    "                    EFi_HC = 1.2991 * (V**-0.6538)\n",
    "                    if V <= 64.7:\n",
    "                        EFi_NOx = 17.3032 * (V**-0.3660)\n",
    "                        EFi_PM10 = 0.0539 * (V**-0.5182)\n",
    "                        EFi_PM2_5 = k * 0.0539 * (V**-0.5182)\n",
    "                    else:\n",
    "                        EFi_NOx = 0.3259 * (V**0.5773)\n",
    "                        EFi_PM10 = 2.0000*(10**-4) * V - 7.5600*(10**-3)\n",
    "                        EFi_PM2_5 = k * 2.0000*(10**-4) * V - 7.5600*(10**-3)\n",
    "                elif 2011 <= car_birth <= 2014:\n",
    "                    EFi_CO = 4.5201 * (V**-0.7279)\n",
    "                    EFi_HC = 1.6826 * (V**-0.8045)\n",
    "                    if V <= 64.7:\n",
    "                        EFi_NOx = 17.2485 * (V**-0.4040)\n",
    "                        EFi_PM10 = 0.0469 * (V**-0.4674)\n",
    "                        EFi_PM2_5 = k * 0.0469 * (V**-0.4674)\n",
    "                    else:\n",
    "                        EFi_NOx = 1.1797 * (V**0.2308)\n",
    "                        EFi_PM10 = 1.6800*(10**-4) * V - 5.1600*(10**-3)\n",
    "                        EFi_PM2_5 = k * 1.6800*(10**-4) * V - 5.1600*(10**-3)\n",
    "                elif 2015 <= car_birth:\n",
    "                    EFi_CO = 7.4065 * (V**-0.5995)\n",
    "                    EFi_HC = 2.4562 * (V**-1.3145)\n",
    "                    EFi_NOx = 42.7393 * (V**-1.2949)\n",
    "                    if V <= 64.7:\n",
    "                        EFi_PM10 = 0.0081 * (V**-0.5182)\n",
    "                        EFi_PM2_5 = k * 0.0081 * (V**-0.5182)\n",
    "                    else:\n",
    "                        EFi_PM10 = 3.0000*(10**-5) * V - 0.0011\n",
    "                        EFi_PM2_5 = k * 3.0000*(10**-5) * V - 0.0011\n",
    "                EFi_NH3 = 0.001\n",
    "            elif (car_type == '승합') and (car_size == '대형'):\n",
    "                if car_birth <= 1995:\n",
    "                    EFi_CO = 28.205 * (V**-0.5337)\n",
    "                    EFi_HC = 6.1146 * (V**-0.4979)\n",
    "                    EFi_NOx = 41.346 * (V**-0.3645)\n",
    "                    EFi_PM10 = 5.2158 * (V**-0.5048)\n",
    "                    EFi_PM2_5 = k * 5.2158 * (V**-0.5048)\n",
    "                    EFi_NH3 = 0.003\n",
    "                elif 1996 <= car_birth <= 1997:\n",
    "                    EFi_CO = 23.205 * (V**-0.5425)\n",
    "                    EFi_HC = 6.5657 * (V**-0.5431)\n",
    "                    EFi_NOx = 42.1379 * (V**-0.3786)\n",
    "                    EFi_PM10 = 2.4911 * (V**-0.4149)\n",
    "                    EFi_PM2_5 = k * 2.4911 * (V**-0.4149)\n",
    "                    EFi_NH3 = 0.003\n",
    "                elif 1998 <= car_birth <= 2000:\n",
    "                    EFi_CO = 23.205 * (V**-0.5425)\n",
    "                    EFi_HC = 6.5657 * (V**-0.5431)\n",
    "                    EFi_NOx = 42.1379 * (V**-0.3786)\n",
    "                    EFi_PM10 = 1.4432 * (V**-0.3870)\n",
    "                    EFi_PM2_5 = k * 1.4432 * (V**-0.3870)\n",
    "                    EFi_NH3 = 0.003\n",
    "                elif car_birth == 2001:\n",
    "                    EFi_CO = 21.348 * (V**-0.5806)\n",
    "                    EFi_HC = 6.6390 * (V**-0.5760)\n",
    "                    EFi_NOx = 36.7191 * (V**-0.3548)\n",
    "                    EFi_PM10 = 0.9375 * (V**-0.3910)\n",
    "                    EFi_PM2_5 = k * 0.9375 * (V**-0.3910)\n",
    "                    EFi_NH3 = 0.003\n",
    "                elif 2002 <= car_birth <= 2004:\n",
    "                    EFi_CO = 21.348 * (V**-0.5806)\n",
    "                    EFi_HC = 6.6390 * (V**-0.5760)\n",
    "                    EFi_NOx = 36.7191 * (V**-0.3548)\n",
    "                    EFi_PM10 = 1.1507 * (V**-0.4804)\n",
    "                    EFi_PM2_5 = k * 1.1507 * (V**-0.4804)\n",
    "                    EFi_NH3 = 0.003\n",
    "                elif 2005 <= car_birth <= 2007:\n",
    "                    EFi_CO = 9.6452 * (V**-0.5291)\n",
    "                    EFi_HC = 3.2339 * (V**-0.7436)\n",
    "                    EFi_NOx = 30.5870 * (V**-0.3548)\n",
    "                    if V <= 80:\n",
    "                        EFi_PM10 = 0.4657 * (V**-0.5634)\n",
    "                        EFi_PM2_5 = k * 0.4657 * (V**-0.5634)\n",
    "                    else:\n",
    "                        EFi_PM10 = 0.0014 * (V**0.7970)\n",
    "                        EFi_PM2_5 = k * 0.0014 * (V**0.7970)\n",
    "                    EFi_NH3 = 0.003\n",
    "                elif 2008 <= car_birth <= 2010:\n",
    "                    EFi_CO = 6.8493 * (V**-0.6506)\n",
    "                    EFi_HC = 1.7177 * (V**-0.6781)\n",
    "                    EFi_NOx = 40.7564 * (V**-0.4757)\n",
    "                    EFi_PM10 = 0.2418 * (V**-0.4727)\n",
    "                    EFi_PM2_5 = k * 0.2418 * (V**-0.4727)\n",
    "                    EFi_NH3 = 0.003\n",
    "                elif 2011 <= car_birth <= 2014:\n",
    "                    EFi_CO = 5.4607 * (V**-0.2990)\n",
    "                    EFi_HC = 0.8863 * (V**-0.6933)\n",
    "                    EFi_NOx = 40.3729 * (V**-0.5386)\n",
    "                    EFi_PM10 = 0.2125 * (V**-0.4650)\n",
    "                    EFi_PM2_5 = k * 0.2125 * (V**-0.4650)\n",
    "                    EFi_NH3 = 0.003\n",
    "                elif 2015 <= car_birth:\n",
    "                    EFi_CO = 11.4415 * (V**-0.8036)\n",
    "                    EFi_HC = 0.6774 * (V**-0.8321)\n",
    "                    EFi_NOx = 112.1229 * (V**-1.6393)\n",
    "                    EFi_PM10 = 0.0363 * (V**-0.4727)\n",
    "                    EFi_PM2_5 = k * 0.0363 * (V**-0.4727)\n",
    "                    EFi_NH3 = 0.007\n",
    "            elif (car_type == '화물') and (car_size == '소형'):\n",
    "                if car_birth <= 1990:\n",
    "                    EFi_CO = 4.5854 * (V**-0.3613)\n",
    "                    EFi_HC = 0.4840 * (V**-0.2756)\n",
    "                    EFi_NOx = 24.3491 * (V**-0.7277)\n",
    "                    EFi_PM10 = 0.8117 * (V**-0.4071)\n",
    "                    EFi_PM2_5 = k * 0.8117 * (V**-0.4071)\n",
    "                elif 1991 <= car_birth <= 1995:\n",
    "                    EFi_CO = 3.4774 * (V**-0.3483)\n",
    "                    EFi_HC = 0.4844 * (V**-0.3288)\n",
    "                    EFi_NOx = 24.3491 * (V**-0.7277)\n",
    "                    EFi_PM10 = 0.6188 * (V**-0.4540)\n",
    "                    EFi_PM2_5 = k * 0.6188 * (V**-0.4540)\n",
    "                elif 1996 <= car_birth <= 1997:\n",
    "                    EFi_CO = 3.3934 * (V**-0.3837)\n",
    "                    EFi_HC = 0.4955 * (V**-0.3393)\n",
    "                    EFi_NOx = 24.3491 * (V**-0.7277)\n",
    "                    EFi_PM10 = 0.7037 * (V**-0.5357)\n",
    "                    EFi_PM2_5 = k * 0.7037 * (V**-0.5357)\n",
    "                elif 1998 <= car_birth <= 1999:\n",
    "                    EFi_CO = 4.0896 * (V**-0.6083)\n",
    "                    EFi_HC = 0.6122 * (V**-0.5684)\n",
    "                    EFi_NOx = 24.3491 * (V**-0.7277)\n",
    "                    EFi_PM10 = 0.6157 * (V**-0.5357)\n",
    "                    EFi_PM2_5 = k * 0.6157 * (V**-0.5357)\n",
    "                elif 2000 <= car_birth <= 2003:\n",
    "                    EFi_CO = 4.0896 * (V**-0.6083)\n",
    "                    EFi_HC = 0.6122 * (V**-0.5684)\n",
    "                    EFi_NOx = 24.3491 * (V**-0.7277)\n",
    "                    EFi_PM10 = 0.4838 * (V**-0.5357)\n",
    "                    EFi_PM2_5 = k * 0.4838 * (V**-0.5357)\n",
    "                elif 2004 <= car_birth <= 2007:\n",
    "                    EFi_CO = 3.2797 * (V**-0.8887)\n",
    "                    EFi_HC = 0.1807 * (V**-0.6588)\n",
    "                    EFi_NOx = 24.3491 * (V**-0.7277)\n",
    "                    EFi_PM10 = 0.2067 * (V**-0.3596)\n",
    "                    EFi_PM2_5 = k * 0.2067 * (V**-0.3596)\n",
    "                elif 2008 <= car_birth <= 2011:\n",
    "                    if V <= 65.4:\n",
    "                        EFi_CO = 4.222 * (V**-1.4035)\n",
    "                    else:\n",
    "                        EFi_CO = 0.01166 * (V**0.09222)\n",
    "                    if V <= 97.3:                               # 97.3 초과에 대한 내용 없음.(편람 p.374)\n",
    "                        EFi_HC = 0.829 * (V**-1.0961)\n",
    "                    EFi_NOx = 24.3491 * (V**-0.7277)\n",
    "                    EFi_PM10 = 0.3111 * (V**-0.5125)\n",
    "                    EFi_PM2_5 = k * 0.3111 * (V**-0.5125)\n",
    "                elif 2012 <= car_birth <= 2016:\n",
    "                    if V <= 65.4:\n",
    "                        EFi_CO = 4.222 * (V**-1.4035)\n",
    "                        EFi_NOx = 2.0217 * (V**-0.2645)\n",
    "                    else:\n",
    "                        EFi_CO = 0.01166 * (V**0.09222)\n",
    "                        EFi_NOx = 0.0271 * (V**0.7596)\n",
    "                    if V <= 97.3:                               # 97.3 초과에 대한 내용 없음.(편람 p.374)\n",
    "                        EFi_HC = 0.829 * (V**-1.0961)\n",
    "                    EFi_PM10 = 0.1119 * (V**-0.5125)\n",
    "                    EFi_PM2_5 = k * 0.1119 * (V**-0.5125)\n",
    "                EFi_NH3 = 0.001\n",
    "            elif (car_type == '화물') and (car_size == '중형'):\n",
    "                if car_birth <= 1995:\n",
    "                    EFi_CO = 16.769 * (V**-0.3772)\n",
    "                    EFi_HC = 6.7755 * (V**-0.5003)\n",
    "                    EFi_NOx = 24.915 * (V**-0.3942)\n",
    "                    EFi_PM10 = 3.6772 * (V**-0.5514)\n",
    "                    EFi_PM2_5 = k * 3.6772 * (V**-0.5514)\n",
    "                elif 1996 <= car_birth <= 2000:\n",
    "                    EFi_CO = 21.057 * (V**-0.4958)\n",
    "                    EFi_HC = 6.7532 * (V**-0.5711)\n",
    "                    EFi_NOx = 25.022 * (V**-0.4240)\n",
    "                    EFi_PM10 = 3.5285 * (V**-0.5962)\n",
    "                    EFi_PM2_5 = k * 3.5285 * (V**-0.5962)\n",
    "                elif car_birth == 2001:\n",
    "                    EFi_CO = 23.501 * (V**-0.6100)        # EFi_CO = 23.501 * (V**-0.6100) (⭕)     \n",
    "                    EFi_HC = 6.8738 * (V**-0.5913)\n",
    "                    if V <= 64.7:\n",
    "                        EFi_NOx = 17.3032 * (V**-0.3660)\n",
    "                    else:\n",
    "                        EFi_NOx = 0.3259 * (V**0.5773)\n",
    "                    EFi_PM10 = 1.4444 * (V**-0.4824)\n",
    "                    EFi_PM2_5 = k * 1.4444 * (V**-0.4824)\n",
    "                elif 2002 <= car_birth <= 2004:\n",
    "                    EFi_CO = 23.501 * (V**-0.6100)        # EFi_CO = 23.501 * (V**-0.6100) (⭕)\n",
    "                    EFi_HC = 6.8738 * (V**-0.5913)\n",
    "                    if V <= 64.7:\n",
    "                        EFi_NOx = 17.3032 * (V**-0.3660)\n",
    "                    else:\n",
    "                        EFi_NOx = 0.3259 * (V**0.5773)\n",
    "                    EFi_PM10 = 1.0432 * (V**-0.4992)\n",
    "                    EFi_PM2_5 = k * 1.0432 * (V**-0.4992)\n",
    "                elif 2005 <= car_birth <= 2007:\n",
    "                    EFi_CO = 15.256 * (V**-0.7448)\n",
    "                    EFi_HC = 2.0502 * (V**-0.6504)\n",
    "                    if V <= 64.7:\n",
    "                        EFi_NOx = 17.3032 * (V**-0.3660)\n",
    "                    else:\n",
    "                        EFi_NOx = 0.3259 * (V**0.5773)\n",
    "                    EFi_PM10 = 0.2979 * (V**-0.4008)\n",
    "                    EFi_PM2_5 = k * 0.2979 * (V**-0.4008)\n",
    "                elif 2008 <= car_birth <= 2010:\n",
    "                    EFi_CO = 8.1771 * (V**-0.7725)\n",
    "                    EFi_HC = 1.2991 * (V**-0.6538)\n",
    "                    if V <= 64.7:\n",
    "                        EFi_NOx = 17.3032 * (V**-0.3660)\n",
    "                        EFi_PM10 = 0.0539 * (V**-0.5182)\n",
    "                        EFi_PM2_5 = k * 0.0539 * (V**-0.5182)\n",
    "                    else:\n",
    "                        EFi_NOx = 0.3259 * (V**0.5773)\n",
    "                        EFi_PM10 = 0.0002 * V - 0.00756\n",
    "                        EFi_PM2_5 = k * 0.0002 * V - 0.00756\n",
    "                elif 2011 <= car_birth <= 2014:\n",
    "                    EFi_CO = 4.5201 * (V**-0.7279)\n",
    "                    EFi_HC = 1.6826 * (V**-0.8045)\n",
    "                    if V <= 64.7:\n",
    "                        EFi_NOx = 17.2485 * (V**-0.4040)\n",
    "                        EFi_PM10 = 0.0469 * (V**-0.4674)\n",
    "                        EFi_PM2_5 = k * 0.0469 * (V**-0.4674)\n",
    "                    else:\n",
    "                        EFi_NOx = 1.1797 * (V**0.2308)\n",
    "                        EFi_PM10 = 0.000168 * V - 0.00516\n",
    "                        EFi_PM2_5 = k * 0.000168 * V - 0.00516\n",
    "                elif 2015 <= car_birth:\n",
    "                    EFi_CO = 7.4065 * (V**-0.5995)\n",
    "                    EFi_HC = 2.4562 * (V**-1.3145)\n",
    "                    EFi_NOx = 42.7393 * (V**-1.2949)\n",
    "                    if V <= 64.7:\n",
    "                        EFi_PM10 = 0.0081 * (V**-0.5182)\n",
    "                        EFi_PM2_5 = k * 0.0081 * (V**-0.5182)\n",
    "                    else:\n",
    "                        EFi_PM10 = 3.0000 * (10**-5) * V - 0.0011\n",
    "                        EFi_PM2_5 = k * 3.0000 * (10**-5) * V - 0.0011\n",
    "                EFi_NH3 = 0.001\n",
    "            elif car_type == '특수':\n",
    "                if car_birth <= 1995:\n",
    "                    EFi_CO = 16.769 * (V**-0.3772)\n",
    "                    EFi_HC = 6.7755 * (V**-0.5003)\n",
    "                    EFi_NOx = 24.915 * (V**-0.3942)\n",
    "                    EFi_PM10 = 3.6772 * (V**-0.5514)\n",
    "                    EFi_PM2_5 = k * 3.6772 * (V**-0.5514)\n",
    "                    EFi_NH3 = 0.003\n",
    "                elif 1996 <= car_birth <= 2000:\n",
    "                    EFi_CO = 21.057 * (V**-0.4958)\n",
    "                    EFi_HC = 6.7532 * (V**-0.5711)\n",
    "                    EFi_NOx = 25.022 * (V**-0.4240)\n",
    "                    EFi_PM10 = 3.5285 * (V**-0.5962)\n",
    "                    EFi_PM2_5 = k * 3.5285 * (V**-0.5962)\n",
    "                    EFi_NH3 = 0.003\n",
    "                elif car_birth == 2001:\n",
    "                    EFi_CO = 23.501 * (V**-0.6100)             # EFi_CO = 23.501 * (V**-0.6100) (⭕)\n",
    "                    EFi_HC = 6.8738 * (V**-0.5913)\n",
    "                    if V <= 64.7:\n",
    "                        EFi_NOx = 17.3032 * (V**-0.3660)\n",
    "                    else:\n",
    "                        EFi_NOx = 0.3259 * (V**0.5773)\n",
    "                    EFi_PM10 = 1.4444 * (V**-0.4824)\n",
    "                    EFi_PM2_5 = k * 1.4444 * (V**-0.4824)\n",
    "                    EFi_NH3 = 0.003\n",
    "                elif 2002 <= car_birth <= 2004:\n",
    "                    EFi_CO = 23.501 * (V**-0.6100)             # EFi_CO = 23.501 * (V**-0.6100) (⭕)\n",
    "                    EFi_HC = 6.8738 * (V**-0.5913)\n",
    "                    if V <= 64.7:\n",
    "                        EFi_NOx = 17.3032 * (V**-0.3660)\n",
    "                    else:\n",
    "                        EFi_NOx = 0.3259 * (V**0.5773)\n",
    "                    EFi_PM10 = 1.0432 * (V**-0.4992)\n",
    "                    EFi_PM2_5 = k * 1.0432 * (V**-0.4992)\n",
    "                    EFi_NH3 = 0.003\n",
    "                elif 2005 <= car_birth <= 2007:\n",
    "                    EFi_CO = 15.256 * (V**-0.7448)\n",
    "                    EFi_HC = 2.0502 * (V**-0.6504)\n",
    "                    if V <= 64.7:\n",
    "                        EFi_NOx = 17.3032 * (V**-0.3660)\n",
    "                    else:\n",
    "                        EFi_NOx = 0.3259 * (V**0.5773)\n",
    "                    EFi_PM10 = 0.2979 * (V**-0.4008)\n",
    "                    EFi_PM2_5 = k * 0.2979 * (V**-0.4008)\n",
    "                    EFi_NH3 = 0.003\n",
    "                elif 2008 <= car_birth <= 2009:\n",
    "                    EFi_CO = 8.1771 * (V**-0.7725)\n",
    "                    EFi_HC = 1.2991 * (V**-0.6538)\n",
    "                    if V <= 64.7:\n",
    "                        EFi_NOx = 17.3032 * (V**-0.3660)\n",
    "                        EFi_PM10 = 0.0539 * (V**-0.5182)\n",
    "                        EFi_PM2_5 = k * 0.0539 * (V**-0.5182)\n",
    "                    else:\n",
    "                        EFi_NOx = 0.3259 * (V**0.5773)\n",
    "                        EFi_PM10 = 0.0002 * V - 0.00756\n",
    "                        EFi_PM2_5 = k * 0.0002 * V - 0.00756\n",
    "                    EFi_NH3 = 0.003\n",
    "                elif car_birth == 2010:\n",
    "                    EFi_CO = 8.1771 * (V**-0.7725)\n",
    "                    EFi_HC = 1.2991 * (V**-0.6538)\n",
    "                    if V <= 64.7:\n",
    "                        EFi_NOx = 17.3032 * (V**-0.3660)\n",
    "                        EFi_PM10 = 0.0539 * (V**-0.5182)\n",
    "                        EFi_PM2_5 = k * 0.0539 * (V**-0.5182)\n",
    "                    else:\n",
    "                        EFi_NOx = 0.3259 * (V**0.5773)\n",
    "                        EFi_PM10 = 0.0002 * V - 0.00756\n",
    "                        EFi_PM2_5 = k * 0.0002 * V - 0.00756\n",
    "                    EFi_NH3 = 0.011\n",
    "                elif 2011 <= car_birth <= 2014:\n",
    "                    EFi_CO = 4.5201 * (V**-0.7279)\n",
    "                    EFi_HC = 1.6826 * (V**-0.8045)\n",
    "                    if V <= 64.7:\n",
    "                        EFi_NOx = 17.2485 * (V**-0.4040)\n",
    "                        EFi_PM10 = 0.0469 * (V**-0.4674)\n",
    "                        EFi_PM2_5 = k * 0.0469 * (V**-0.4674)\n",
    "                    else:\n",
    "                        EFi_NOx = 1.1797 * (V**0.2308)\n",
    "                        EFi_PM10 = 0.000168 * V - 0.00516\n",
    "                        EFi_PM2_5 = k * 0.000168 * V - 0.00516\n",
    "                    EFi_NH3 = 0.011\n",
    "                elif 2015 <= car_birth:\n",
    "                    EFi_CO = 7.4065 * (V**-0.5995)\n",
    "                    EFi_HC = 2.4562 * (V**-1.3145)\n",
    "                    EFi_NOx = 42.7393 * (V**-1.2949)\n",
    "                    if V <= 64.7:\n",
    "                        EFi_PM10 = 0.0081 * (V**-0.5182)\n",
    "                        EFi_PM2_5 = k * 0.0081 * (V**-0.5182)\n",
    "                    else:\n",
    "                        EFi_PM10 = 3.0000 * (10**-5) * V - 0.0011\n",
    "                        EFi_PM2_5 = k * 3.0000 * (10**-5) * V - 0.0011\n",
    "                    EFi_NH3 = 0.007\n",
    "            elif (car_type == '화물') and (car_size == '대형'):\n",
    "                if car_birth <= 1995:\n",
    "                    EFi_CO = 30.402 * (V**-0.4685)\n",
    "                    EFi_HC = 15.75 * (V**-0.582)\n",
    "                    EFi_NOx = 117.49 * (V**-0.365)\n",
    "                    EFi_PM10 = 7.6212 * (V**-0.4183)\n",
    "                    EFi_PM2_5 = k * 7.6212 * (V**-0.4183)\n",
    "                    EFi_NH3 = 0.003\n",
    "                elif 1996 <= car_birth <= 1997:\n",
    "                    EFi_CO = 18.101 * (V**-0.3454)\n",
    "                    EFi_HC = 10.301 * (V**-0.5856)\n",
    "                    EFi_NOx = 94.319 * (V**-0.4061)\n",
    "                    EFi_PM10 = 6.0264 * (V**-0.4627)\n",
    "                    EFi_PM2_5 = k * 6.0264 * (V**-0.4627)\n",
    "                    EFi_NH3 = 0.003\n",
    "                elif 1998 <= car_birth <= 2000:\n",
    "                    EFi_CO = 18.101 * (V**-0.3454)\n",
    "                    EFi_HC = 10.301 * (V**-0.5856)\n",
    "                    EFi_NOx = 94.319 * (V**-0.4061)\n",
    "                    EFi_PM10 = 4.873 * (V**-0.4382)\n",
    "                    EFi_PM2_5 = k * 4.873 * (V**-0.4382)\n",
    "                    EFi_NH3 = 0.003\n",
    "                elif 2001 <= car_birth <= 2004:\n",
    "                    EFi_CO = 28.399 * (V**-0.5999)\n",
    "                    EFi_HC = 10.031 * (V**-0.5828)\n",
    "                    EFi_NOx = 85.301 * (V**-0.4023)\n",
    "                    EFi_PM10 = 3.7541 * (V**-0.4055)\n",
    "                    EFi_PM2_5 = k * 3.7541 * (V**-0.4055)\n",
    "                    EFi_NH3 = 0.003\n",
    "                elif 2005 <= car_birth <= 2007:\n",
    "                    EFi_CO = 52.136 * (V**-0.8618)\n",
    "                    EFi_HC = 3.7878 * (V**-0.5425)\n",
    "                    EFi_NOx = 107.5 * (V**-0.5679)\n",
    "                    EFi_PM10 = 2.6847 * (V**-0.6112)\n",
    "                    EFi_PM2_5 = k * 2.6847 * (V**-0.6112)\n",
    "                    EFi_NH3 = 0.003\n",
    "                elif car_birth == 2008:                    # 2008 <= car_birth <= 2009 -> 2008 == car_birth: 변경 (⭕)\n",
    "                    EFi_CO = 6.8493 * (V**-0.6506)\n",
    "                    EFi_HC = 1.7177 * (V**-0.6781)\n",
    "                    EFi_NOx = 40.7564 * (V**-0.4757)\n",
    "                    EFi_PM10 = 0.2418 * (V**-0.4727)\n",
    "                    EFi_PM2_5 = k * 0.2418 * (V**-0.4727)\n",
    "                    EFi_NH3 = 0.003\n",
    "                elif 2009 <= car_birth <= 2010:\n",
    "                    EFi_CO = 6.8493 * (V**-0.6506)\n",
    "                    EFi_HC = 1.7177 * (V**-0.6781)\n",
    "                    EFi_NOx = 40.7564 * (V**-0.4757)\n",
    "                    EFi_PM10 = 0.2418 * (V**-0.4727)\n",
    "                    EFi_PM2_5 = k * 0.2418 * (V**-0.4727)\n",
    "                    EFi_NH3 = 0.011\n",
    "                elif 2011 <= car_birth <= 2014:\n",
    "                    EFi_CO = 5.4607 * (V**-0.2990)\n",
    "                    EFi_HC = 0.8863 * (V**-0.6933)\n",
    "                    EFi_NOx = 40.3729 * (V**-0.5386)\n",
    "                    EFi_PM10 = 0.2125 * (V**-0.4650)\n",
    "                    EFi_PM2_5 = k * 0.2125 * (V**-0.4650)\n",
    "                    EFi_NH3 = 0.011\n",
    "                elif 2015 <= car_birth:\n",
    "                    EFi_CO = 4.3762 * (V**-0.4550)\n",
    "                    EFi_HC = 0.3627 * (V**-0.7071)\n",
    "                    EFi_NOx = 18.0405 * (V**-1.0986)\n",
    "                    EFi_PM10 = 0.0363 * (V**-0.4727)\n",
    "                    EFi_PM2_5 = k * 0.0363 * (V**-0.4727)\n",
    "                    EFi_NH3 = 0.007\n",
    "        elif fuel == 'LPG':\n",
    "            if (car_type == '승용') and (car_size == '경형'):\n",
    "                if car_birth <= 1996:\n",
    "                    if V <= 45:\n",
    "                        EFi_CO = 22.498 * (V**-0.6579)\n",
    "                    else:\n",
    "                        EFi_CO = 0.0006 * (V**2) + 0.0004 * V + 0.8272\n",
    "                    EFi_HC = 12.961 * (V**-0.8364)\n",
    "                    EFi_NOx = 4.0131 * (V**-0.3236)\n",
    "                    if V < 85:\n",
    "                        EFi_PM10 = 0.0002\n",
    "                        EFi_PM2_5 = k * 0.0002\n",
    "                    else:\n",
    "                        EFi_PM10 = 0.0005\n",
    "                        EFi_PM2_5 = k * 0.0005\n",
    "                elif 1997 <= car_birth <= 1999:\n",
    "                    if V <= 45:\n",
    "                        EFi_CO = 19.887 * (V**-0.8461)\n",
    "                    else:\n",
    "                        EFi_CO = -0.0004 * (V**2) + 0.0911 * V - 2.2698\n",
    "                    EFi_HC = 2.2714 * (V**-0.7830)\n",
    "                    EFi_NOx = 1.8528 * (V**-0.3889)\n",
    "                    if V < 85:\n",
    "                        EFi_PM10 = 0.0002\n",
    "                        EFi_PM2_5 = k * 0.0002\n",
    "                    else:\n",
    "                        EFi_PM10 = 0.0005\n",
    "                        EFi_PM2_5 = k * 0.0005\n",
    "                elif 2000 <= car_birth <= 2002:\n",
    "                    if V <= 45:\n",
    "                        EFi_CO = 19.887 * (V**-0.8461)\n",
    "                    else:\n",
    "                        EFi_CO = -0.0004 * (V**2) + 0.0911 * V - 2.2698\n",
    "                    EFi_HC = 2.2714 * (V**-0.7830)\n",
    "                    EFi_NOx = 5.8289 * (V**-0.9198)\n",
    "                    if V < 85:\n",
    "                        EFi_PM10 = 0.0002\n",
    "                        EFi_PM2_5 = k * 0.0002\n",
    "                    else:\n",
    "                        EFi_PM10 = 0.0005\n",
    "                        EFi_PM2_5 = k * 0.0005\n",
    "                elif 2003 <= car_birth <= 2005:\n",
    "                    if V <= 45:\n",
    "                        EFi_CO = 19.887 * (V**-0.8461)\n",
    "                    else:\n",
    "                        EFi_CO = -0.0004 * (V**2) + 0.0911 * V - 2.2698\n",
    "                    EFi_HC = 1.1073 * (V**-0.7830)\n",
    "                    EFi_NOx = 5.8289 * (V**-0.9198)\n",
    "                    if V < 85:\n",
    "                        EFi_PM10 = 0.0002\n",
    "                        EFi_PM2_5 = k * 0.0002\n",
    "                    else:\n",
    "                        EFi_PM10 = 0.0005\n",
    "                        EFi_PM2_5 = k * 0.0005\n",
    "                elif 2006 <= car_birth <= 2007:\n",
    "                    if V <= 45:\n",
    "                        EFi_CO = 8.9904 * (V**-0.8461)\n",
    "                    else:\n",
    "                        EFi_CO = -0.0002 * (V**2) + 0.0457 * V - 1.1403\n",
    "                    EFi_HC = 0.3549 * (V**-0.7830)\n",
    "                    EFi_NOx = 0.7228 * (V**-0.9198)\n",
    "                    if V < 85:\n",
    "                        EFi_PM10 = 0.0002\n",
    "                        EFi_PM2_5 = k * 0.0002\n",
    "                    else:\n",
    "                        EFi_PM10 = 0.0005\n",
    "                        EFi_PM2_5 = k * 0.0005\n",
    "                elif car_birth == 2008:\n",
    "                    if V <= 79.6:\n",
    "                        EFi_CO = 0.7693 * (V**-0.7666)\n",
    "                        EFi_HC = 0.1063 * (V**-1.0745)\n",
    "                    else:\n",
    "                        EFi_CO = 5.0000 * (10**-16) * (V**7.2766)\n",
    "                        EFi_HC = 1.0000 * (10**-15) * (V**6.2696)\n",
    "                    EFi_NOx = -4.0000 * (10**-6) * (V**2) + 6.0000 * (10**-4) * V + 5.5000 * (10**-3)\n",
    "                    if V < 85:\n",
    "                        EFi_PM10 = 0.0002\n",
    "                        EFi_PM2_5 = k * 0.0002\n",
    "                    else:\n",
    "                        EFi_PM10 = 0.0005\n",
    "                        EFi_PM2_5 = k * 0.0005\n",
    "                elif 2009 <= car_birth <= 2011:\n",
    "                    if V <= 79.6:\n",
    "                        EFi_CO = 0.7059 * (V**-0.7666)\n",
    "                        EFi_HC = 0.0974 * (V**-1.0745)\n",
    "                    else:\n",
    "                        EFi_CO = 4.5878 * (10**-16) * (V**7.2766)\n",
    "                        EFi_HC = 9.1667 * (10**-16) * (V**6.2696)\n",
    "                    EFi_NOx = -3.7333 * (10**-6) * (V**2) + 5.6000 * (10**-4) * V + 5.1333 * (10**-3)\n",
    "                    if V < 85:\n",
    "                        EFi_PM10 = 0.0002\n",
    "                        EFi_PM2_5 = k * 0.0002\n",
    "                    else:\n",
    "                        EFi_PM10 = 0.0005\n",
    "                        EFi_PM2_5 = k * 0.0005\n",
    "                elif 2012 <= car_birth <= 2013:\n",
    "                    if V <= 79.6:\n",
    "                        EFi_CO = 0.6830 * (V**-0.7666)\n",
    "                        EFi_HC = 0.0943 * (V**-1.0745)\n",
    "                    else:\n",
    "                        EFi_CO = 4.4393 * (10**-16) * (V**7.2766)\n",
    "                        EFi_HC = 8.8667 * (10**-16) * (V**6.2696)\n",
    "                    EFi_NOx = -3.6373 * (10**-6) * (V**2) + 5.4560 * (10**-4) * V + 5.0013 * (10**-3)\n",
    "                    if V < 85:\n",
    "                        EFi_PM10 = 0.0002\n",
    "                        EFi_PM2_5 = k * 0.0002\n",
    "                    else:\n",
    "                        EFi_PM10 = 0.0005\n",
    "                        EFi_PM2_5 = k * 0.0005\n",
    "                elif car_birth == 2014:\n",
    "                    if V <= 79.6:\n",
    "                        EFi_CO = 0.6602 * (V**-0.7666)\n",
    "                        EFi_HC = 0.0911 * (V**-1.0745)\n",
    "                    else:\n",
    "                        EFi_CO = 4.2909 * (10**-16) * (V**7.2766)\n",
    "                        EFi_HC = 8.5667 * (10**-16) * (V**6.2696)\n",
    "                    EFi_NOx = -3.5413 * (10**-6) * (V**2) + 5.3120 * (10**-4) * V + 4.8693 * (10**-3)\n",
    "                    if V < 85:\n",
    "                        EFi_PM10 = 0.0002\n",
    "                        EFi_PM2_5 = k * 0.0002\n",
    "                    else:\n",
    "                        EFi_PM10 = 0.0005\n",
    "                        EFi_PM2_5 = k * 0.0005\n",
    "                elif 2015 <= car_birth:\n",
    "                    if V <= 79.6:\n",
    "                        EFi_CO = 0.6374 * (V**-0.7666)\n",
    "                        EFi_HC = 0.0879 * (V**-1.0745)\n",
    "                    else:\n",
    "                        EFi_CO = 4.1425 * (10**-16) * (V**7.2766)\n",
    "                        EFi_HC = 8.2667 * (10**-16) * (V**6.2696)\n",
    "                    EFi_NOx = -3.4453 * (10**-6) * (V**2) + 5.1680 * (10**-4) * V + 4.7373 * (10**-3)\n",
    "                    if V < 85:\n",
    "                        EFi_PM10 = 0.0002\n",
    "                        EFi_PM2_5 = k * 0.0002\n",
    "                    else:\n",
    "                        EFi_PM10 = 0.0005\n",
    "                        EFi_PM2_5 = k * 0.0005\n",
    "            elif (car_type == '승용') and (car_size == '소형'):\n",
    "                if car_birth <= 1990:\n",
    "                    EFi_CO = 72.338 * (V**-0.7587)\n",
    "                    EFi_HC = 26.532 * (V**-1.0423)\n",
    "                    EFi_NOx = 9.3011 * (V**-0.6781)\n",
    "                    if V < 85:\n",
    "                        EFi_PM10 = 0.0002\n",
    "                        EFi_PM2_5 = k * 0.0002\n",
    "                    else:\n",
    "                        EFi_PM10 = 0.0005\n",
    "                        EFi_PM2_5 = k * 0.0005\n",
    "                elif 1991 <= car_birth == 1996:\n",
    "                    EFi_CO = 72.338 * (V**-0.7587)\n",
    "                    EFi_HC = 101.79 * (V**-1.6823)\n",
    "                    EFi_NOx = 11.287 * (V**-0.7634)\n",
    "                    if V < 85:\n",
    "                        EFi_PM10 = 0.0002\n",
    "                        EFi_PM2_5 = k * 0.0002\n",
    "                    else:\n",
    "                        EFi_PM10 = 0.0005\n",
    "                        EFi_PM2_5 = k * 0.0005\n",
    "                elif 1997 <= car_birth <= 1999:\n",
    "                    EFi_CO = 44.956 * (V**-1.0085)\n",
    "                    EFi_HC = 11.173 * (V**-1.3927)\n",
    "                    EFi_NOx = 7.5371 * (V**-0.7864)\n",
    "                    if V < 85:\n",
    "                        EFi_PM10 = 0.0002\n",
    "                        EFi_PM2_5 = k * 0.0002\n",
    "                    else:\n",
    "                        EFi_PM10 = 0.0005\n",
    "                        EFi_PM2_5 = k * 0.0005\n",
    "                elif 2000 <= car_birth <= 2002:\n",
    "                    EFi_CO = 44.956 * (V**-1.0085)\n",
    "                    EFi_HC = 11.173 * (V**-1.3927)\n",
    "                    EFi_NOx = 4.7108 * (V**-0.7864)\n",
    "                    if V < 85:\n",
    "                        EFi_PM10 = 0.0002\n",
    "                        EFi_PM2_5 = k * 0.0002\n",
    "                    else:\n",
    "                        EFi_PM10 = 0.0005\n",
    "                        EFi_PM2_5 = k * 0.0005\n",
    "                elif 2003 <= car_birth <= 2005:\n",
    "                    EFi_CO = 44.956 * (V**-1.0085)\n",
    "                    EFi_HC = 3.2821 * (V**-1.3927)\n",
    "                    EFi_NOx = 4.7108 * (V**-0.7864)\n",
    "                    if V < 85:\n",
    "                        EFi_PM10 = 0.0002\n",
    "                        EFi_PM2_5 = k * 0.0002\n",
    "                    else:\n",
    "                        EFi_PM10 = 0.0005\n",
    "                        EFi_PM2_5 = k * 0.0005\n",
    "                elif 2006 <= car_birth <= 2007:\n",
    "                    EFi_CO = 39.362 * (V**-1.0085)\n",
    "                    EFi_HC = 2.8981 * (V**-1.3927)\n",
    "                    EFi_NOx = 1.8419 * (V**-0.7864)\n",
    "                    if V < 85:\n",
    "                        EFi_PM10 = 0.0002\n",
    "                        EFi_PM2_5 = k * 0.0002\n",
    "                    else:\n",
    "                        EFi_PM10 = 0.0005\n",
    "                        EFi_PM2_5 = k * 0.0005\n",
    "                elif car_birth == 2008:\n",
    "                    if V <= 79.6:\n",
    "                        EFi_CO = 0.7693 * (V**-0.7666)\n",
    "                        EFi_HC = 0.1063 * (V**-1.0745)\n",
    "                    else:\n",
    "                        EFi_CO = 5.0000 * (10**-16) * (V**7.2766)\n",
    "                        EFi_HC = 1.0000 * (10**-15) * (V**6.2696)\n",
    "                    EFi_NOx = -4.0000 * (10**-6) * (V**2) + 6.0000 * (10**-4) * V + 5.5000 * (10**-3)\n",
    "                    if V < 85:\n",
    "                        EFi_PM10 = 0.0002\n",
    "                        EFi_PM2_5 = k * 0.0002\n",
    "                    else:\n",
    "                        EFi_PM10 = 0.0005\n",
    "                        EFi_PM2_5 = k * 0.0005\n",
    "                elif 2009 <= car_birth <= 2011:\n",
    "                    if V <= 79.6:\n",
    "                        EFi_CO = 0.7059 * (V**-0.7666)\n",
    "                        EFi_HC = 0.0974 * (V**-1.0745)\n",
    "                    else:\n",
    "                        EFi_CO = 4.5878 * (10**-16) * (V**7.2766)\n",
    "                        EFi_HC = 9.1667 * (10**-16) * (V**6.2696)\n",
    "                    EFi_NOx = -3.7333 * (10**-6) * (V**2) + 5.6000 * (10**-4) * V + 5.1333 * (10**-3)\n",
    "                    if V < 85:\n",
    "                        EFi_PM10 = 0.0002\n",
    "                        EFi_PM2_5 = k * 0.0002\n",
    "                    else:\n",
    "                        EFi_PM10 = 0.0005\n",
    "                        EFi_PM2_5 = k * 0.0005\n",
    "                elif 2012 <= car_birth <= 2013:\n",
    "                    if V <= 79.6:\n",
    "                        EFi_CO = 0.6830 * (V**-0.7666)\n",
    "                        EFi_HC = 0.0943 * (V**-1.0745)\n",
    "                    else:\n",
    "                        EFi_CO = 4.4393 * (10**-16) * (V**7.2766)\n",
    "                        EFi_HC = 8.8667 * (10**-16) * (V**6.2696)\n",
    "                    EFi_NOx = -3.6373 * (10**-6) * (V**2) + 5.4560 * (10**-4) * V + 5.0013 * (10**-3)\n",
    "                    if V < 85:\n",
    "                        EFi_PM10 = 0.0002\n",
    "                        EFi_PM2_5 = k * 0.0002\n",
    "                    else:\n",
    "                        EFi_PM10 = 0.0005\n",
    "                        EFi_PM2_5 = k * 0.0005\n",
    "                elif car_birth == 2014:\n",
    "                    if V <= 79.6:\n",
    "                        EFi_CO = 0.6602 * (V**-0.7666)\n",
    "                        EFi_HC = 0.0911 * (V**-1.0745)\n",
    "                    else:\n",
    "                        EFi_CO = 4.2909 * (10**-16) * (V**7.2766)\n",
    "                        EFi_HC = 8.5667 * (10**-16) * (V**6.2696)\n",
    "                    EFi_NOx = -3.5413 * (10**-6) * (V**2) + 5.3120 * (10**-4) * V + 4.8693 * (10**-3)\n",
    "                    if V < 85:\n",
    "                        EFi_PM10 = 0.0002\n",
    "                        EFi_PM2_5 = k * 0.0002\n",
    "                    else:\n",
    "                        EFi_PM10 = 0.0005\n",
    "                        EFi_PM2_5 = k * 0.0005\n",
    "                elif 2015 <= car_birth:\n",
    "                    if V <= 79.6:\n",
    "                        EFi_CO = 0.6374 * (V**-0.7666)\n",
    "                        EFi_HC = 0.0879 * (V**-1.0745)\n",
    "                    else:\n",
    "                        EFi_CO = 4.1425 * (10**-16) * (V**7.2766)\n",
    "                        EFi_HC = 8.2667 * (10**-16) * (V**6.2696)\n",
    "                    EFi_NOx = -3.4453 * (10**-6) * (V**2) + 5.1680 * (10**-4) * V + 4.7373 * (10**-3)\n",
    "                    if V < 85:\n",
    "                        EFi_PM10 = 0.0002\n",
    "                        EFi_PM2_5 = k * 0.0002\n",
    "                    else:\n",
    "                        EFi_PM10 = 0.0005\n",
    "                        EFi_PM2_5 = k * 0.0005\n",
    "                if V <= 60:\n",
    "                    EFi_NH3 = 0.0095\n",
    "                elif 60 < V <= 90:\n",
    "                    EFi_NH3 = 0.0082\n",
    "                else:\n",
    "                    EFi_NH3 = 0.022\n",
    "            elif ( (car_type == '승용') and ( (car_size == '중형') or (car_size == '대형') ) or ( (car_type == '특수') and (car_size == '중형') ) ): # 최이사님 확인(2023.04.20) : 특수 중형 -> 승용 중형 조건으로 계산\n",
    "                if car_birth <= 1990:\n",
    "                    EFi_CO = 72.338 * (V**-0.7587)\n",
    "                    EFi_HC = 26.532 * (V**-1.0423)\n",
    "                    EFi_NOx = 9.3011 * (V**-0.6781)\n",
    "                    if V < 85:\n",
    "                        EFi_PM10 = 0.0002\n",
    "                        EFi_PM2_5 = k * 0.0002\n",
    "                    else:\n",
    "                        EFi_PM10 = 0.0005\n",
    "                        EFi_PM2_5 = k * 0.0005\n",
    "                elif 1991 <= car_birth == 1996:\n",
    "                    EFi_CO = 29.825 * (V**-0.6771)\n",
    "                    EFi_HC = 26.520 * (V**-1.4041)\n",
    "                    EFi_NOx = 11.287 * (V**-0.7634)\n",
    "                    if V < 85:\n",
    "                        EFi_PM10 = 0.0002\n",
    "                        EFi_PM2_5 = k * 0.0002\n",
    "                    else:\n",
    "                        EFi_PM10 = 0.0005\n",
    "                        EFi_PM2_5 = k * 0.0005\n",
    "                elif 1997 <= car_birth <= 1999:\n",
    "                    EFi_CO = 29.825 * (V**-0.6771)\n",
    "                    EFi_HC = 4.7595 * (V**-0.9512)\n",
    "                    EFi_NOx = 12.562 * (V**-0.8606)\n",
    "                    if V < 85:\n",
    "                        EFi_PM10 = 0.0002\n",
    "                        EFi_PM2_5 = k * 0.0002\n",
    "                    else:\n",
    "                        EFi_PM10 = 0.0005\n",
    "                        EFi_PM2_5 = k * 0.0005\n",
    "                elif 2000 <= car_birth <= 2005:\n",
    "                    EFi_CO = 17.829 * (V**-0.6778)\n",
    "                    EFi_HC = 6.3668 * (V**-1.2849)\n",
    "                    EFi_NOx = 8.8952 * (V**-0.8119)\n",
    "                    if V < 85:\n",
    "                        EFi_PM10 = 0.0002\n",
    "                        EFi_PM2_5 = k * 0.0002\n",
    "                    else:\n",
    "                        EFi_PM10 = 0.0005\n",
    "                        EFi_PM2_5 = k * 0.0005\n",
    "                elif 2006 <= car_birth <= 2007:\n",
    "                    EFi_CO = 73.022 * (V**-1.2078)\n",
    "                    EFi_HC = 4.4166 * (V**-1.5356)\n",
    "                    EFi_NOx = 2.0280 * (V**-0.7978)\n",
    "                    if V < 85:\n",
    "                        EFi_PM10 = 0.0002\n",
    "                        EFi_PM2_5 = k * 0.0002\n",
    "                    else:\n",
    "                        EFi_PM10 = 0.0005\n",
    "                        EFi_PM2_5 = k * 0.0005\n",
    "                elif car_birth == 2008:\n",
    "                    if V <= 79.6:\n",
    "                        EFi_CO = 0.7693 * (V**-0.7666)\n",
    "                        EFi_HC = 0.1063 * (V**-1.0745)\n",
    "                    else:\n",
    "                        EFi_CO = 5.0000 * (10**-16) * (V**7.2766)\n",
    "                        EFi_HC = 1.0000 * (10**-15) * (V**6.2696)\n",
    "                    EFi_NOx = -4.0000 * (10**-6) * (V**2) + 6.0000 * (10**-4) * V + 5.5000 * (10**-3)\n",
    "                    if V < 85:\n",
    "                        EFi_PM10 = 0.0002\n",
    "                        EFi_PM2_5 = k * 0.0002\n",
    "                    else:\n",
    "                        EFi_PM10 = 0.0005\n",
    "                        EFi_PM2_5 = k * 0.0005\n",
    "                elif 2009 <= car_birth <= 2011:\n",
    "                    if V <= 79.6:\n",
    "                        EFi_CO = 0.7059 * (V**-0.7666)\n",
    "                        EFi_HC = 0.0974 * (V**-1.0745)\n",
    "                    else:\n",
    "                        EFi_CO = 4.5878 * (10**-16) * (V**7.2766)\n",
    "                        EFi_HC = 9.1667 * (10**-16) * (V**6.2696)\n",
    "                    EFi_NOx = -3.7333 * (10**-6) * (V**2) + 5.6000 * (10**-4) * V + 5.1333 * (10**-3)\n",
    "                    if V < 85:\n",
    "                        EFi_PM10 = 0.0002\n",
    "                        EFi_PM2_5 = k * 0.0002\n",
    "                    else:\n",
    "                        EFi_PM10 = 0.0005\n",
    "                        EFi_PM2_5 = k * 0.0005\n",
    "                elif 2012 <= car_birth <= 2013:\n",
    "                    if V <= 79.6:\n",
    "                        EFi_CO = 0.6830 * (V**-0.7666)\n",
    "                        EFi_HC = 0.0943 * (V**-1.0745)\n",
    "                    else:\n",
    "                        EFi_CO = 4.4393 * (10**-16) * (V**7.2766)\n",
    "                        EFi_HC = 8.8667 * (10**-16) * (V**6.2696)\n",
    "                    EFi_NOx = -3.6373 * (10**-6) * (V**2) + 5.4560 * (10**-4) * V + 5.0013 * (10**-3)\n",
    "                    if V < 85:\n",
    "                        EFi_PM10 = 0.0002\n",
    "                        EFi_PM2_5 = k * 0.0002\n",
    "                    else:\n",
    "                        EFi_PM10 = 0.0005\n",
    "                        EFi_PM2_5 = k * 0.0005\n",
    "                elif car_birth == 2014:\n",
    "                    if V <= 79.6:\n",
    "                        EFi_CO = 0.6602 * (V**-0.7666)\n",
    "                        EFi_HC = 0.0911 * (V**-1.0745)\n",
    "                    else:\n",
    "                        EFi_CO = 4.2909 * (10**-16) * (V**7.2766)\n",
    "                        EFi_HC = 8.5667 * (10**-16) * (V**6.2696)\n",
    "                    EFi_NOx = -3.5413 * (10**-6) * (V**2) + 5.3120 * (10**-4) * V + 4.8693 * (10**-3)\n",
    "                    if V < 85:\n",
    "                        EFi_PM10 = 0.0002\n",
    "                        EFi_PM2_5 = k * 0.0002\n",
    "                    else:\n",
    "                        EFi_PM10 = 0.0005\n",
    "                        EFi_PM2_5 = k * 0.0005\n",
    "                elif 2015 <= car_birth:\n",
    "                    if V <= 79.6:\n",
    "                        EFi_CO = 0.6374 * (V**-0.7666)\n",
    "                        EFi_HC = 0.0879 * (V**-1.0745)\n",
    "                    else:\n",
    "                        EFi_CO = 4.1425 * (10**-16) * (V**7.2766)\n",
    "                        EFi_HC = 8.2667 * (10**-16) * (V**6.2696)\n",
    "                    EFi_NOx = -3.4453 * (10**-6) * (V**2) + 5.1680 * (10**-4) * V + 4.7373 * (10**-3)\n",
    "                    if V < 85:\n",
    "                        EFi_PM10 = 0.0002\n",
    "                        EFi_PM2_5 = k * 0.0002\n",
    "                    else:\n",
    "                        EFi_PM10 = 0.0005\n",
    "                        EFi_PM2_5 = k * 0.0005\n",
    "                if V <= 60:\n",
    "                    EFi_NH3 = 0.0095\n",
    "                elif 60 < V <= 90:\n",
    "                    EFi_NH3 = 0.0082\n",
    "                else:\n",
    "                    EFi_NH3 = 0.022\n",
    "            elif ( (car_type == '승합') and (car_size == '경형') ) or ( (car_type == '화물') and (car_size == '경형') ):\n",
    "                if car_birth <= 1996:\n",
    "                    if V <= 45:\n",
    "                        EFi_CO = 22.498 * (V**-0.6579)\n",
    "                    else:\n",
    "                        EFi_CO = 0.0006 * (V**2) + 0.0004 * V + 0.8272\n",
    "                    EFi_HC = 12.961 * (V**-0.8364)\n",
    "                    EFi_NOx = 4.0131 * (V**-0.3236)\n",
    "                    if V < 85:\n",
    "                        EFi_PM10 = 0.0002\n",
    "                        EFi_PM2_5 = k * 0.0002\n",
    "                    else:\n",
    "                        EFi_PM10 = 0.0005\n",
    "                        EFi_PM2_5 = k * 0.0005\n",
    "                elif 1997 <= car_birth == 1999:\n",
    "                    if V <= 45:\n",
    "                        EFi_CO = 19.887 * (V**-0.8461)\n",
    "                    else:\n",
    "                        EFi_CO = -0.0004 * (V**2) + 0.0911 * V - 2.2698\n",
    "                    EFi_HC = 2.2714 * (V**-0.7830)\n",
    "                    EFi_NOx = 1.8528 * (V**-0.3889)\n",
    "                    if V < 85:\n",
    "                        EFi_PM10 = 0.0002\n",
    "                        EFi_PM2_5 = k * 0.0002\n",
    "                    else:\n",
    "                        EFi_PM10 = 0.0005\n",
    "                        EFi_PM2_5 = k * 0.0005\n",
    "                elif 2000 <= car_birth <= 2002:\n",
    "                    if V <= 45:\n",
    "                        EFi_CO = 19.887 * (V**-0.8461)\n",
    "                    else:\n",
    "                        EFi_CO = -0.0004 * (V**2) + 0.0911 * V - 2.2698\n",
    "                    EFi_HC = 2.2714 * (V**-0.7830)\n",
    "                    EFi_NOx = 5.8289 * (V**-0.9198)\n",
    "                    if V < 85:\n",
    "                        EFi_PM10 = 0.0002\n",
    "                        EFi_PM2_5 = k * 0.0002\n",
    "                    else:\n",
    "                        EFi_PM10 = 0.0005\n",
    "                        EFi_PM2_5 = k * 0.0005\n",
    "                elif 2003 <= car_birth <= 2005:\n",
    "                    if V <= 45:\n",
    "                        EFi_CO = 19.887 * (V**-0.8461)\n",
    "                    else:\n",
    "                        EFi_CO = -0.0004 * (V**2) + 0.0911 * V - 2.2698\n",
    "                    EFi_HC = 1.1073 * (V**-0.7830)\n",
    "                    EFi_NOx = 5.8289 * (V**-0.9198)\n",
    "                    if V < 85:\n",
    "                        EFi_PM10 = 0.0002\n",
    "                        EFi_PM2_5 = k * 0.0002\n",
    "                    else:\n",
    "                        EFi_PM10 = 0.0005\n",
    "                        EFi_PM2_5 = k * 0.0005\n",
    "                elif 2006 <= car_birth:\n",
    "                    if V <= 45:\n",
    "                        EFi_CO = 8.9904 * (V**-0.8461)\n",
    "                    else:\n",
    "                        EFi_CO = -0.0002 * (V**2) + 0.0457 * V - 1.1403\n",
    "                    EFi_HC = 0.3549 * (V**-0.7830)\n",
    "                    EFi_NOx = 0.7228 * (V**-0.9198)\n",
    "                    if V < 85:\n",
    "                        EFi_PM10 = 0.0002\n",
    "                        EFi_PM2_5 = k * 0.0002\n",
    "                    else:\n",
    "                        EFi_PM10 = 0.0005\n",
    "                        EFi_PM2_5 = k * 0.0005\n",
    "                if V <= 60:\n",
    "                    EFi_NH3 = 0.0095\n",
    "                elif 60 < V <= 90:\n",
    "                    EFi_NH3 = 0.0082\n",
    "                else:\n",
    "                    EFi_NH3 = 0.022\n",
    "            elif (car_type == '승합') and (car_size == '소형'):\n",
    "                if car_birth <= 1990:\n",
    "                    EFi_CO = 72.338 * (V**-0.7587)\n",
    "                    EFi_HC = 26.532 * (V**-1.0423)\n",
    "                    EFi_NOx = 9.3011 * (V**-0.6781)\n",
    "                    if V < 85:\n",
    "                        EFi_PM10 = 0.0002\n",
    "                        EFi_PM2_5 = k * 0.0002\n",
    "                    else:\n",
    "                        EFi_PM10 = 0.0005\n",
    "                        EFi_PM2_5 = k * 0.0005\n",
    "                elif 1991 <= car_birth == 1996:\n",
    "                    EFi_CO = 29.825 * (V**-0.6771)\n",
    "                    EFi_HC = 26.520 * (V**-1.4041)\n",
    "                    EFi_NOx = 11.287 * (V**-0.7634)\n",
    "                    if V < 85:\n",
    "                        EFi_PM10 = 0.0002\n",
    "                        EFi_PM2_5 = k * 0.0002\n",
    "                    else:\n",
    "                        EFi_PM10 = 0.0005\n",
    "                        EFi_PM2_5 = k * 0.0005\n",
    "                elif 1997 <= car_birth <= 1999:\n",
    "                    EFi_CO = 29.825 * (V**-0.6771)\n",
    "                    EFi_HC = 4.7595 * (V**-0.9512)\n",
    "                    EFi_NOx = 12.562 * (V**-0.8606)\n",
    "                    if V < 85:\n",
    "                        EFi_PM10 = 0.0002\n",
    "                        EFi_PM2_5 = k * 0.0002\n",
    "                    else:\n",
    "                        EFi_PM10 = 0.0005\n",
    "                        EFi_PM2_5 = k * 0.0005\n",
    "                elif 2000 <= car_birth <= 2005:\n",
    "                    EFi_CO = 17.829 * (V**-0.6778)\n",
    "                    EFi_HC = 6.3668 * (V**-1.2849)\n",
    "                    EFi_NOx = 8.8952 * (V**-0.8119)\n",
    "                    if V < 85:\n",
    "                        EFi_PM10 = 0.0002\n",
    "                        EFi_PM2_5 = k * 0.0002\n",
    "                    else:\n",
    "                        EFi_PM10 = 0.0005\n",
    "                        EFi_PM2_5 = k * 0.0005\n",
    "                elif 2006 <= car_birth:\n",
    "                    if V <= 65.4:\n",
    "                        EFi_CO = 6.1701 * (V**-1.0719)\n",
    "                        EFi_HC = 2.3782 * (V**-1.9979)\n",
    "                    else:\n",
    "                        EFi_CO = 3.0000 * (10**-10) * (V**4.5809)\n",
    "                        EFi_HC = 5.0000 * (10**-10) * (V**3.4895)\n",
    "                    if V <= 97.3:\n",
    "                        EFi_NOx = 0.4758 * (V**-1.0665)\n",
    "                    if V < 85:\n",
    "                        EFi_PM10 = 0.0002\n",
    "                        EFi_PM2_5 = k * 0.0002\n",
    "                    else:\n",
    "                        EFi_PM10 = 0.0005\n",
    "                        EFi_PM2_5 = k * 0.0005\n",
    "                if V <= 60:\n",
    "                    EFi_NH3 = 0.0095\n",
    "                elif 60 < V <= 90:\n",
    "                    EFi_NH3 = 0.0082\n",
    "                else:\n",
    "                    EFi_NH3 = 0.022\n",
    "            # 최이사님 확인(2023.04.20) : 화물 중형 -> 승합 중형 조건, 화물 대형 -> 승합 대형 조건으로 계산\n",
    "            elif ( (car_type == '승합') and ( (car_size == '중형') or (car_size == '대형') ) ) or ( (car_type == '화물') and ((car_size == '소형') or (car_size == '중형') or (car_size == '대형')) ):\n",
    "                if car_birth <= 1990:\n",
    "                    EFi_CO = 72.338 * (V**-0.7587)\n",
    "                    EFi_HC = 26.532 * (V**-1.0423)\n",
    "                    EFi_NOx = 9.3011 * (V**-0.6781)\n",
    "                    if V < 85:\n",
    "                        EFi_PM10 = 0.0002\n",
    "                        EFi_PM2_5 = k * 0.0002\n",
    "                    else:\n",
    "                        EFi_PM10 = 0.0005\n",
    "                        EFi_PM2_5 = k * 0.0005\n",
    "                elif 1991 <= car_birth == 1996:\n",
    "                    EFi_CO = 29.825 * (V**-0.6771)\n",
    "                    EFi_HC = 26.520 * (V**-1.4041)\n",
    "                    EFi_NOx = 11.287 * (V**-0.7634)\n",
    "                    if V < 85:\n",
    "                        EFi_PM10 = 0.0002\n",
    "                        EFi_PM2_5 = k * 0.0002\n",
    "                    else:\n",
    "                        EFi_PM10 = 0.0005\n",
    "                        EFi_PM2_5 = k * 0.0005\n",
    "                elif 1997 <= car_birth <= 1999:\n",
    "                    EFi_CO = 29.825 * (V**-0.6771)\n",
    "                    EFi_HC = 4.7595 * (V**-0.9512)\n",
    "                    EFi_NOx = 12.562 * (V**-0.8606)\n",
    "                    if V < 85:\n",
    "                        EFi_PM10 = 0.0002\n",
    "                        EFi_PM2_5 = k * 0.0002\n",
    "                    else:\n",
    "                        EFi_PM10 = 0.0005\n",
    "                        EFi_PM2_5 = k * 0.0005\n",
    "                elif 2000 <= car_birth <= 2005:\n",
    "                    EFi_CO = 17.829 * (V**-0.6778)\n",
    "                    EFi_HC = 6.3668 * (V**-1.2849)\n",
    "                    EFi_NOx = 8.8952 * (V**-0.8119)\n",
    "                    if V < 85:\n",
    "                        EFi_PM10 = 0.0002\n",
    "                        EFi_PM2_5 = k * 0.0002\n",
    "                    else:\n",
    "                        EFi_PM10 = 0.0005\n",
    "                        EFi_PM2_5 = k * 0.0005\n",
    "                elif 2006 <= car_birth:\n",
    "                    if V <= 65.4:\n",
    "                        EFi_CO = 16.491 * (V**-1.4713)\n",
    "                        EFi_HC = 1.9218 * (V**-1.8418)\n",
    "                    else:\n",
    "                        EFi_CO = 3.0000 * (10**-13) * (V**6.0619)\n",
    "                        EFi_HC = 3.0000 * (10**-9) * (V**3.0639)\n",
    "                    if V <= 97.3:\n",
    "                        EFi_NOx = 0.1246 * (V**-0.441)\n",
    "                    if V < 85:\n",
    "                        EFi_PM10 = 0.0002\n",
    "                        EFi_PM2_5 = k * 0.0002\n",
    "                    else:\n",
    "                        EFi_PM10 = 0.0005\n",
    "                        EFi_PM2_5 = k * 0.0005\n",
    "                if V <= 60:\n",
    "                    EFi_NH3 = 0.0095\n",
    "                elif 60 < V <= 90:\n",
    "                    EFi_NH3 = 0.0082\n",
    "                else:\n",
    "                    EFi_NH3 = 0.022\n",
    "        # else:\n",
    "        #     # 값 고민 : 1\n",
    "        #     # EFi_CO, EFi_HC, EFi_NOx, EFi_PM10, EFi_PM2_5 = np.nan, np.nan, np.nan, np.nan, np.nan\n",
    "        #     EFi_CO, EFi_HC, EFi_NOx, EFi_PM10, EFi_PM2_5 = 1, 1, 1, 1, 1\n",
    "\n",
    "        if V < 60:\n",
    "            EFi_COm += EFi_CO*0.34\n",
    "            EFi_HCm += EFi_HC*0.34\n",
    "            EFi_NOxm += EFi_NOx*0.34\n",
    "            EFi_PM10m += EFi_PM10*0.34\n",
    "            EFi_PM2_5m += EFi_PM2_5*0.34\n",
    "            EFi_NH3m += EFi_NH3*0.34\n",
    "        elif 60 <= V < 90:\n",
    "            EFi_COm += EFi_CO*0.33\n",
    "            EFi_HCm += EFi_HC*0.33\n",
    "            EFi_NOxm += EFi_NOx*0.33\n",
    "            EFi_PM10m += EFi_PM10*0.33\n",
    "            EFi_PM2_5m += EFi_PM2_5*0.33\n",
    "            EFi_NH3m += EFi_NH3*0.33\n",
    "        elif V > 90:\n",
    "            EFi_COm += EFi_CO*0.33\n",
    "            EFi_HCm += EFi_HC*0.33\n",
    "            EFi_NOxm += EFi_NOx*0.33\n",
    "            EFi_PM10m += EFi_PM10*0.33\n",
    "            EFi_PM2_5m += EFi_PM2_5*0.33\n",
    "            EFi_NH3m += EFi_NH3*0.33\n",
    "\n",
    "    # 배출계수(EFi) 리스트에 저장\n",
    "    EFi_CO_list.append(EFi_COm)\n",
    "    EFi_HC_list.append(EFi_HCm)\n",
    "    EFi_NOx_list.append(EFi_NOxm)\n",
    "    EFi_PM10_list.append(EFi_PM10m)\n",
    "    EFi_PM2_5_list.append(EFi_PM2_5m)\n",
    "    EFi_NH3_list.append(EFi_NH3m)"
   ]
  },
  {
   "cell_type": "code",
   "execution_count": 2042,
   "id": "c07ade7e-1e83-456d-9a0e-cd24877f0fc2",
   "metadata": {},
   "outputs": [],
   "source": [
    "df2['EFi_CO'] = EFi_CO_list\n",
    "df2['EFi_HC'] = EFi_HC_list\n",
    "df2['EFi_NOx'] = EFi_NOx_list\n",
    "df2['EFi_PM10'] = EFi_PM10_list\n",
    "df2['EFi_PM2_5'] = EFi_PM2_5_list\n",
    "check_EFi_col = ['EFi_CO', 'EFi_HC', 'EFi_NOx', 'EFi_PM10', 'EFi_PM2_5']"
   ]
  },
  {
   "cell_type": "code",
   "execution_count": 2043,
   "id": "28842f2f-2521-4560-ae3a-a02975313c9e",
   "metadata": {},
   "outputs": [],
   "source": [
    "## 배출량 계산\n",
    "# E = VKT * (EFi / 1000) * DF * (1 - R / 100)\n",
    "df2['E_HOT_CO'] = df2['VKT'] * (df2['EFi_CO'] / 1000) * df2['DF_CO'] * (1 - df2['R_CO'] / 100)\n",
    "df2['E_HOT_HC'] = df2['VKT'] * (df2['EFi_HC'] / 1000) * df2['DF_HC'] * (1 - df2['R_HC'] / 100)\n",
    "df2['E_HOT_NOx'] = df2['VKT'] * (df2['EFi_NOx'] / 1000) * df2['DF_NOx'] * (1 - 0 / 100)\n",
    "df2['E_HOT_PM10'] = df2['VKT'] * (df2['EFi_PM10'] / 1000) * df2['DF_PM'] * (1 - df2['R_PM'] / 100)\n",
    "df2['E_HOT_PM2_5'] = df2['VKT'] * (df2['EFi_PM2_5'] / 1000) * df2['DF_PM'] * (1 - df2['R_PM'] / 100)\n",
    "check_E_HOT_col = ['E_HOT_CO', 'E_HOT_HC', 'E_HOT_NOx', 'E_HOT_PM10', 'E_HOT_PM2_5']"
   ]
  },
  {
   "cell_type": "code",
   "execution_count": 2044,
   "id": "a9ca65bc-8df5-4890-856c-7590e526c436",
   "metadata": {},
   "outputs": [],
   "source": [
    "# 자동차-엔진 미가열(Cold-start) 배출\n",
    "## 배출량 식\n",
    "# $$E_{COLD :i, j} = \\beta_{i, j} \\times N_j \\times M_j \\times e^{HOT}_j \\times (e^{COLD} / e^{HOT} \\vert_{i, j} - 1)$$\n",
    "\n",
    "# - $E_{COLD :i, j}$ : 차종 $j$에서 배출되는 오염물질 $i$의 엔진미가열 배출량\n",
    "# - $\\beta_{i, j}$ : 차종 $j$의 엔진미가열 상태의 주행거리 분율\n",
    "# - $N_j$ : 차종 $j$의 수\n",
    "# - $M_j$ : 차종 $j$의 주행거리\n",
    "# - $e^{HOT}_j$ : 차종 $j$의 엔진가열 상태에서의 배출계수\n",
    "# - $e^{COLD} / e^{HOT} \\vert_{i, j}$ : 차종 $j$의 엔진가열상태 대비 엔진미가열 상태에서의 배출 비율\n",
    "\n",
    "## 베타($\\beta$)\n",
    "# - 1회 평균주행거리(1 trip length)와 대기온도, 자동차 이용 패턴을 고려\n",
    "#     - 1회 평균주행거리 정보는 모든 차종에 대하여 각각 적용하는 방안은 수집자료의 한계로 국내 연구결과를 바탕으로 수도권 지역 승용차의 1회 평균 주행거리 12.35km를 적용\n",
    "#     - 이때 과대산정 가능성을 염두하여, 도시지역의 택시를 제외한 승용차(경형, 소형, 중형, 대형), 승합차(경형, 소형), RV(소형, 중형)에 적용\n",
    "\n",
    "#     - 1회 주행거리 : 12.35 km (2002년 기준)\n",
    "#     - 미가열 배출 적용 차종 : 승용차(경형, 소형, 중형, 대형) / 승합차(경형, 소형) / RV(소형, 중형)\n",
    "#     - 미가열 배출 적용 지역 : 도시지역(고속도로 구간 제외)\n",
    "\n",
    "# - 산정식\n",
    "\n",
    "# -|Factor $\\beta$의 산정식\n",
    "# -|-\n",
    "# $Estimated$ $l_{trip}$|$0.647-0.025 \\times l_{trip} - (0.00974 - 0.000385 \\times l_{trip}) \\times T_a$\n",
    "# $Measured$ $l_{trip}$|$0.698-0.051 \\times l_{trip} - (0.01051 - 0.000770 \\times l_{trip}) \\times T_a$\n",
    "\n",
    "# - $T_a$ : 대기온도\n",
    "# - $Estimated$ $l_{trip}$ : 유럽평균(1985) 약 11.8km / 유럽평균(1998) 약 12.4km(Andre et al., 1998)\n",
    "l_trip = 12.35 # 국립환경과학원(2007), 도로 이동오염원 대기오염 배출량 산정방법 개선 및 장래 배출량 예측방법 연구\n",
    "Ta = 12.4 # e-나라지표 (https://www.index.go.kr/unity/potal/main/EachDtlPageDetail.do?idx_cd=1400) 2002년 년 평균 기온\n",
    "df2['Beta(Estimated)'] = 0.647 - 0.025 * l_trip - (0.00974 - 0.000385 * l_trip) * Ta\n",
    "# df2['Beta(Measured)'] = 0.698 - 0.051 * l_trip - (0.01051 - 0.000770 * l_trip) * Ta"
   ]
  },
  {
   "cell_type": "code",
   "execution_count": 2045,
   "id": "0216a954-7ade-49e9-b1d1-e769603590fe",
   "metadata": {},
   "outputs": [],
   "source": [
    "## $e^{COLD} / e^{HOT}$\n",
    "# 휘발유(자동 제어)\n",
    "df2.loc[(df2['연료'] == '휘발유') & (df2['차량연식'] < 1991) & ( (df2['차종'] == '승용') | ( (df2['차종'] == '승합') & ((df2['차종유형'] == '경형') | (df2['차종유형'] == '소형')) ) ), 'eCOLD/eHOT_CO'] = 3.7 - 0.09 * Ta\n",
    "df2.loc[(df2['연료'] == '휘발유') & (df2['차량연식'] >= 1991) & ( (df2['차종'] == '승용') | ( (df2['차종'] == '승합') & ((df2['차종유형'] == '경형') | (df2['차종유형'] == '소형')) ) ), 'eCOLD/eHOT_CO'] = 9.04 - 0.09 * Ta\n",
    "df2.loc[(df2['연료'] == '휘발유') & (df2['차량연식'] < 1991) & ( (df2['차종'] == '승용') | ( (df2['차종'] == '승합') & ((df2['차종유형'] == '경형') | (df2['차종유형'] == '소형')) ) ), 'eCOLD/eHOT_NOx'] = 1.14 - 0.006 * Ta\n",
    "df2.loc[(df2['연료'] == '휘발유') & (df2['차량연식'] >= 1991) & ( (df2['차종'] == '승용') | ( (df2['차종'] == '승합') & ((df2['차종유형'] == '경형') | (df2['차종유형'] == '소형')) ) ), 'eCOLD/eHOT_NOx'] = 3.66 - 0.006 * Ta\n",
    "df2.loc[(df2['연료'] == '휘발유') & (df2['차량연식'] < 1991) & ( (df2['차종'] == '승용') | ( (df2['차종'] == '승합') & ((df2['차종유형'] == '경형') | (df2['차종유형'] == '소형')) ) ), 'eCOLD/eHOT_HC'] = 2.8 - 0.06 * Ta\n",
    "df2.loc[(df2['연료'] == '휘발유') & (df2['차량연식'] >= 1991) & ( (df2['차종'] == '승용') | ( (df2['차종'] == '승합') & ((df2['차종유형'] == '경형') | (df2['차종유형'] == '소형')) ) ), 'eCOLD/eHOT_HC'] = 12.59 - 0.06 * Ta\n",
    "df2.loc[df2['연료'] == '휘발유', 'eCOLD/eHOT_PM'] = 1"
   ]
  },
  {
   "cell_type": "code",
   "execution_count": 2046,
   "id": "73ceb53b-8448-4235-bd70-f1dc15554eda",
   "metadata": {},
   "outputs": [],
   "source": [
    "# 경유\n",
    "df2.loc[(df2['연료'] == '경유') & ( (df2['차종'] == '승용') | ( (df2['차종'] == '승합') & ((df2['차종유형'] == '경형') | (df2['차종유형'] == '소형')) ) ),'eCOLD/eHOT_CO'] = 1.9 - 0.03 * Ta\n",
    "df2.loc[(df2['연료'] == '경유') & ( (df2['차종'] == '승용') | ( (df2['차종'] == '승합') & ((df2['차종유형'] == '경형') | (df2['차종유형'] == '소형')) ) ),'eCOLD/eHOT_NOx'] = 1.3 - 0.013 * Ta\n",
    "df2.loc[(df2['연료'] == '경유') & ( (df2['차종'] == '승용') | ( (df2['차종'] == '승합') & ((df2['차종유형'] == '경형') | (df2['차종유형'] == '소형')) ) ),'eCOLD/eHOT_HC'] = 3.1 - 0.09 * Ta\n",
    "df2.loc[(df2['연료'] == '경유') & ( (df2['차종'] == '승용') | ( (df2['차종'] == '승합') & ((df2['차종유형'] == '경형') | (df2['차종유형'] == '소형')) ) ),'eCOLD/eHOT_PM'] = 3.1 - 0.1 * Ta"
   ]
  },
  {
   "cell_type": "code",
   "execution_count": 2047,
   "id": "f2ef97ac-d001-413f-933e-19443d50029d",
   "metadata": {},
   "outputs": [],
   "source": [
    "# LPG(액화석유가스)\n",
    "df2.loc[(df2['연료'] == 'LPG(액화석유가스)') & ( (df2['차종'] == '승용') | ( (df2['차종'] == '승합') & ((df2['차종유형'] == '경형') | (df2['차종유형'] == '소형')) ) ),'eCOLD/eHOT_CO'] = 3.66 - 0.09 * Ta\n",
    "df2.loc[(df2['연료'] == 'LPG(액화석유가스)') & ( (df2['차종'] == '승용') | ( (df2['차종'] == '승합') & ((df2['차종유형'] == '경형') | (df2['차종유형'] == '소형')) ) ),'eCOLD/eHOT_NOx'] = 0.98 - 0.006 * Ta\n",
    "df2.loc[(df2['연료'] == 'LPG(액화석유가스)') & ( (df2['차종'] == '승용') | ( (df2['차종'] == '승합') & ((df2['차종유형'] == '경형') | (df2['차종유형'] == '소형')) ) ),'eCOLD/eHOT_HC'] = 2.24 - 0.06 * Ta\n",
    "df2.loc[(df2['연료'] == 'LPG(액화석유가스)') & ( (df2['차종'] == '승용') | ( (df2['차종'] == '승합') & ((df2['차종유형'] == '경형') | (df2['차종유형'] == '소형')) ) ),'eCOLD/eHOT_PM'] = 1\n",
    "check_ecoldhot_col = ['eCOLD/eHOT_CO', 'eCOLD/eHOT_NOx', 'eCOLD/eHOT_HC', 'eCOLD/eHOT_PM']\n",
    "df2[check_ecoldhot_col] = df2[check_ecoldhot_col].fillna(1)"
   ]
  },
  {
   "cell_type": "code",
   "execution_count": 2048,
   "id": "816c3d1c-3cdb-4047-a6a5-a1c2d1436163",
   "metadata": {},
   "outputs": [],
   "source": [
    "## 배출량 계산\n",
    "### 🔺 계산식 고민\n",
    "# $$E_{COLD :i, j} = \\beta_{i, j} \\times N_j \\times M_j \\times e^{HOT}_j \\times (e^{COLD} / e^{HOT} \\vert_{i, j} - 1)$$\n",
    "# - $M_j$ : 차종 $j$의 주행거리\n",
    "#     - 1년 주행거리로 계산? \n",
    "#         - VKT\n",
    "#     - 1회 주행거리로 계산?\n",
    "#         - l_trip\n",
    "\n",
    "#         E      =             B          *     M      *    e(HOT)     * ( e(COLD)/e(HOT)      - 1 )\n",
    "df2['E_COLD_CO'] = df2['Beta(Estimated)'] * df2['VKT'] * df2['EFi_CO'] * (df2['eCOLD/eHOT_CO'] - 1)\n",
    "df2['E_COLD_NOx'] = df2['Beta(Estimated)'] * df2['VKT'] * df2['EFi_NOx'] * (df2['eCOLD/eHOT_NOx'] - 1)\n",
    "df2['E_COLD_HC'] = df2['Beta(Estimated)'] * df2['VKT'] * df2['EFi_HC'] * (df2['eCOLD/eHOT_HC'] - 1)\n",
    "df2['E_COLD_PM10'] = df2['Beta(Estimated)'] * df2['VKT'] * df2['EFi_PM10'] * (df2['eCOLD/eHOT_PM'] - 1)\n",
    "df2['E_COLD_PM2_5'] = df2['Beta(Estimated)'] * df2['VKT'] * df2['EFi_PM2_5'] * (df2['eCOLD/eHOT_PM'] - 1)\n",
    "check_E_cold_col = ['E_COLD_CO', 'E_COLD_NOx', 'E_COLD_HC', 'E_COLD_PM10', 'E_COLD_PM2_5']"
   ]
  },
  {
   "cell_type": "code",
   "execution_count": 2049,
   "id": "49d643ab-aac9-43b4-9c0e-3780945b78a3",
   "metadata": {},
   "outputs": [],
   "source": [
    "# 자동차-휘발유 증발 배출\n",
    "## 배출량 식\n",
    "# - 3가지\n",
    "#     - 주간증발손실(Diurnal loss)\n",
    "#     - 고온증발손실(Hot and warm soak)\n",
    "#     - 주행손실(Running loss)\n",
    "# - 현재('19 배출량 기준) 휘발유 증발 배출원\n",
    "#     - 주간증발손실, 주행손실 고려\n",
    "#     - 우리나라 휘발유 차량 대부분이 방지설비로 카본 캐니스터를 장착하고 있으므로 $e^{S,HOT}$, $e^{S,WARM}$, 고온증발손실(hot and warm soak) 배출은 없는 것으로 가정\n",
    "\n",
    "# $$E_{EVA, VOC:j} = 365 \\times N_j \\times (e^d + S^c + S^{fi}) + R$$\n",
    "# $S^c = (1-q)(p \\times x \\times e^{S, HOT} + w \\times x \\times e^{S,WARM})$\n",
    "\n",
    "# $S^{fi} = q \\times e^{fi} \\times x$\n",
    "# $$R = m_j(p \\times e^{R,HOT} + w \\times e^{R,WARM})$$\n",
    "\n",
    "# - $E_{EVA, VOC:j}$ : 차종 j의 증발손실에 의한 VOC 배출량(g/yr)\n",
    "# - $N_j$ : 차종 j의 휘발유 사용 차량 등록대수(대)\n",
    "# - $e^d$ : 금속탱크를 가지고 있는 휘발유 차량의 일중 VOC 배출량(g/day-대)\n",
    "# - $S^c$ : Carburetor 휘발유 차량의 일중 hot and warm soak 배출량(g/day-대)\n",
    "# - $S^{fi}$ : Fuel injection 휘발유 차량의 일중 hot and warm soak 배출량(g/day-대)\n",
    "# - $R$ : Running loss에 의한 휘발유 차량의 연중 배출량(g/yr)\n",
    "# - $q$ : Fuel injection 휘발유 차량의 비율\n",
    "# - $p$ : 가열 엔진 상태로 끝나는 trip의 비율\n",
    "# - $x$ : 일평균 통행횟수 $= V_j / 365 \\times l_{trip}$\n",
    "# - $w$ : 미가열 엔진 상태료 끝나는 trip의 비율\n",
    "# - $e^{S,HOT}$ : Hot soak emission의 평균 배출계수\n",
    "# - $e^{S,WARM}$ : Cold and warm soak emission의 평균 배출계수\n",
    "# - $e^{fi}$ : Fuel injection 휘발유 차량의 평균 hot and warm soak 배출계수\n",
    "# - $e^{R,HOT}$ : 휘발유 차량의 평균 hot running loss 배출계수\n",
    "# - $e^{R,WARM}$ : 휘발유 차량의 평균 warm running loss 배출계수\n",
    "# - $m_j$ : 차종 j의 연간 총 주행거리\n",
    "# - $V_j$ : 차종 j의 1대당 평균 연간 주행거리"
   ]
  },
  {
   "cell_type": "code",
   "execution_count": 2050,
   "id": "be4317fb-07ab-41a5-9687-6a5e970a7c34",
   "metadata": {},
   "outputs": [],
   "source": [
    "## 배출계수\n",
    "### 🔺 수정 중\n",
    "### $e^d$ Diurnal(g/day)\n",
    "# - $e^d$ : 금속탱크를 가지고 있는 휘발유 차량의 일중 VOC 배출량(g/day-대)\n",
    "#### 🔺 RVP(증기압)\n",
    "# - 참고 COPERT 3(p.80) Table 6.10: Gasoline fuel specifications\n",
    "#     - summer : 60\n",
    "#     - winter : 70\n",
    "#     - 평균 : 65\n",
    "# - 수정 사항(2023.04.20, 최)\n",
    "#     - 국내 과학기술원, 환경부 자료 찾아서 사용 추천\n",
    "RVP = 65\n",
    "#### ❗ t_a(기온)\n",
    "# - t_a, t_min, t_rise\n",
    "#     - 참고 COPERT 3(p.72) Table 5.32: Summary of emission factors for estimating evaporative emissions of gasoline vehicles(all RVp in kPa, all temperatures in °C)\n",
    "#         - t_a = (t_max + t_min) / 2\n",
    "#         - t_rise = t_max - t_min\n",
    "#     - 기상자료개방포털(2002년) 연평균 기온\n",
    "#         - https://data.kma.go.kr/stcs/grnd/grndTaList.do?pgmNo=70\n",
    "#         - 7.5°C(최저), 12.4°C(평균), 17.9°C(최고)\n",
    "t_min = 7.5 # 평균 최저 온도\n",
    "t_max = 17.9\n",
    "t_a = (t_min + t_max) / 2\n",
    "t_rise = 12.4 # 평균 상승 온도\n",
    "\n",
    "df2.loc[df2['차량연식'] < 1991, 'e_d'] = 9.1 * np.exp( 0.0158 * (RVP - 61.2) + 0.0574 * (t_min - 22.5) + 0.0614 * (t_rise - 11.7) )\n",
    "df2.loc[df2['차량연식'] >= 1991, 'e_d'] = 0.2 * (9.1 * np.exp( 0.0158 * (RVP - 61.2) + 0.0574 * (t_min - 22.5) + 0.0614 * (t_rise - 11.7) ))"
   ]
  },
  {
   "cell_type": "code",
   "execution_count": 2051,
   "id": "ec4c2536-b6a4-41d8-b00d-21814351718b",
   "metadata": {},
   "outputs": [],
   "source": [
    "### $e^{R,HOT}$ Hot running loss(g/km)\n",
    "# - $e^{R,HOT}$ : 휘발유 차량의 평균 hot running loss 배출계수\n",
    "df2.loc[df2['차량연식'] < 1991, 'e_RHOT'] = 0.136 * np.exp( - 5.967 + 0.04259 * RVP + 0.1773 * t_a)\n",
    "df2.loc[df2['차량연식'] >= 1991, 'e_RHOT'] = 0.1 * (0.136 * np.exp( - 5.967 + 0.04259 * RVP + 0.1773 * t_a))"
   ]
  },
  {
   "cell_type": "code",
   "execution_count": 2052,
   "id": "ed83a984-a441-4050-8fa8-44042516f832",
   "metadata": {},
   "outputs": [],
   "source": [
    "### $e^{S,HOT}$ Hot soak(g/procedure)\n",
    "# - $e^{S,HOT}$ : Hot soak emission의 평균 배출계수\n",
    "df2.loc[df2['차량연식'] < 1991, 'e_SHOT'] = 3.0042 * np.exp(0.02 * RVP)\n",
    "df2.loc[df2['차량연식'] >= 1991, 'e_SHOT'] = 0.3 * np.exp(-2.14 + 0.02302 * RVP + 0.09408 * t_a)"
   ]
  },
  {
   "cell_type": "code",
   "execution_count": 2053,
   "id": "c344da0e-68a4-4fed-88e5-0aead7b78d70",
   "metadata": {},
   "outputs": [],
   "source": [
    "### $e^{S,WARM}$ Waram soak(g/procedure)\n",
    "# - $e^{S,WARM}$ : Cold and warm soak emission의 평균 배출계수\n",
    "df2.loc[df2['차량연식'] < 1991, 'e_SWARM'] = np.exp(-1.644 + 0.01993 * RVP + 0.07521 * t_a)\n",
    "df2.loc[df2['차량연식'] >= 1991, 'e_SWARM'] = 0.2 * np.exp(-2.41 + 0.02302 * RVP + 0.09408 * t_a)"
   ]
  },
  {
   "cell_type": "code",
   "execution_count": 2054,
   "id": "fead90ab-d64d-49d1-b32e-f45d241a4843",
   "metadata": {},
   "outputs": [],
   "source": [
    "### $e^{fi}$ Warm and hot soak for Fuel injected vehicle(g/procedure)\n",
    "# - $e^{fi}$ : Fuel injection 휘발유 차량의 평균 hot and warm soak 배출계수\n",
    "df2.loc[df2['차량연식'] < 1991, 'e_fi'] = 0.7\n",
    "df2.loc[df2['차량연식'] >= 1991, 'e_fi'] = 0"
   ]
  },
  {
   "cell_type": "code",
   "execution_count": 2055,
   "id": "7d292cb2-3be6-49b5-a3f9-b5349ce1c7fb",
   "metadata": {},
   "outputs": [],
   "source": [
    "### $e^{R,WARM}$ Warm running loss(g/km)\n",
    "# - $e^{R,HOT}$ : 휘발유 차량의 평균 hot running loss 배출계수\n",
    "df2.loc[df2['차량연식'] < 1991, 'e_RWARM'] = 0.1 * np.exp(-5.967 + 0.04259 * RVP + 0.1773 * t_a)\n",
    "df2.loc[df2['차량연식'] >= 1991, 'e_RWARM'] = 0.1 * (0.1 * np.exp(-5.967 + 0.04259 * RVP + 0.1773 * t_a))"
   ]
  },
  {
   "cell_type": "code",
   "execution_count": 2056,
   "id": "b948cab9-f432-4658-bb09-43f60ea90dd0",
   "metadata": {},
   "outputs": [],
   "source": [
    "## $R$\n",
    "# $R = m_j(p \\times e^{R,HOT} + w \\times e^{R,WARM})$\n",
    "# - Running loss에 의한 휘발유 차량의 연중 배출량(g/yr)\n",
    "# - $m_j$ : 차종 j의 연간 총 주행거리\n",
    "# - $p$ : 가열 엔진 상태로 끝나는 trip의 비율\n",
    "# - $e^{R,HOT}$ : 휘발유 차량의 평균 hot running loss 배출계수\n",
    "# - $w$ : 미가열 엔진 상태로 끝나는 trip의 비율\n",
    "# - $e^{R,WARM}$ : 휘발유 차량의 평균 warm running loss 배출계수\n",
    "### ❓ 확인 중\n",
    "# - 수정 사항(2023.04.20, 최)\n",
    "    # - 찾는 중\n",
    "    # - p:w = 0.2:0.8(2023.06.29, 최)\n",
    "p = 0.2 # 가열 엔진 상태로 끝나는 trip의 비율\n",
    "w = 0.8 # 미가열 엔진 상태로 끝나는 trip의 비율\n",
    "df2['R'] = df2['VKT'] * (p * df2['e_RHOT'] + w * df2['e_RWARM'])"
   ]
  },
  {
   "cell_type": "code",
   "execution_count": 2057,
   "id": "13ec128a-2010-4fe3-b93c-ec911eea6ee7",
   "metadata": {},
   "outputs": [],
   "source": [
    "## $S^{fi}$\n",
    "# $S^{fi} = q \\times e^{fi} \\times x$\n",
    "# - Fuel injection 휘발유 차량의 일중 hot and warm soak 배출량(g/day-대)\n",
    "# - $q$ : Fuel injection 휘발유 차량의 비율\n",
    "# - $e^{fi}$ : Fuel injection 휘발유 차량의 평균 hot and warm soak 배출계수\n",
    "# - $x$ : 일평균 통행횟수 $= V_j / 365 \\times l_{trip}$\n",
    "# - $V_j$ : 차종 j의 1대당 평균 연간 주행거리\n",
    "not_injection = df2[(df2['연료'] == '휘발유') & (df2['차량연식'] < 1991)].shape[0]\n",
    "injection = df2[(df2['연료'] == '휘발유') & (df2['차량연식'] >= 1991)].shape[0]\n",
    "\n",
    "# Fuel injection 휘발유 차량의 비율\n",
    "q = injection / (injection + not_injection)"
   ]
  },
  {
   "cell_type": "code",
   "execution_count": 2058,
   "id": "0e0a1682-1205-47c7-a7ea-4fd26f274d87",
   "metadata": {},
   "outputs": [],
   "source": [
    "# x = df2['VKT'] / (365 * l_trip)\n",
    "df2['S_fi'] = q * df2['e_fi'] * ( df2['VKT'] / (365 * l_trip) )"
   ]
  },
  {
   "cell_type": "code",
   "execution_count": 2059,
   "id": "1dbef5b2-8086-4b24-9300-39d542a25282",
   "metadata": {},
   "outputs": [],
   "source": [
    "## $S^c$\n",
    "# $S^c = (1-q)(p \\times x \\times e^{S, HOT} + w \\times x \\times e^{S,WARM})$\n",
    "# - Carburetor 휘발유 차량의 일중 hot and warm soak 배출량(g/day-대)\n",
    "# - $q$ : Fuel injection 휘발유 차량의 비율\n",
    "# - $p$ : 가열 엔진 상태로 끝나는 trip의 비율\n",
    "# - $x$ : 일평균 통행횟수 $= V_j / 365 \\times l_{trip}$\n",
    "# - $e^{S,HOT}$ : Hot soak emission의 평균 배출계수\n",
    "# - $w$ : 미가열 엔진 상태료 끝나는 trip의 비율\n",
    "# - $x$ : 일평균 통행횟수 $= V_j / 365 \\times l_{trip}$\n",
    "# - $V_j$ : 차종 j의 1대당 평균 연간 주행거리\n",
    "# - $e^{S,WARM}$ : Cold and warm soak emission의 평균 배출계수\n",
    "# x = df2['VKT'] / (365 * l_trip)\n",
    "df2['S_c'] = (1-q) * (p * (df2['VKT'] / (365 * l_trip)) * df2['e_SHOT'] + w * (df2['VKT'] / (365 * l_trip)) * df2['e_SWARM'])"
   ]
  },
  {
   "cell_type": "code",
   "execution_count": 2060,
   "id": "0633431e-1c8c-4e10-9ae6-a615fc9fab3f",
   "metadata": {},
   "outputs": [],
   "source": [
    "## $E_{EVA,VOC}$\n",
    "# $E_{EVA, VOC:j} = 365 \\times N_j \\times (e^d + S^c + S^{fi}) + R$\n",
    "# - $N_j$ : 차종 j의 휘발유 사용 차량 등록대수(대)\n",
    "# - $e^d$ : 금속탱크를 가지고 있는 휘발유 차량의 일중 VOC 배출량(g/day-대)\n",
    "# - $S^c$ : Carburetor 휘발유 차량의 일중 hot and warm soak 배출량(g/day-대)\n",
    "# - $S^{fi}$ : Fuel injection 휘발유 차량의 일중 hot and warm soak 배출량(g/day-대)\n",
    "# - $R$ : Running loss에 의한 휘발유 차량의 연중 배출량(g/yr)\n",
    "df2['E_EVA_VOC'] = 365 * (df2['e_d'] + df2['S_c'] + df2['S_fi']) + df2['R']"
   ]
  },
  {
   "cell_type": "code",
   "execution_count": 2061,
   "id": "14c1ac51-84fa-4f36-b9f4-a5cd6ffe3b92",
   "metadata": {},
   "outputs": [],
   "source": [
    "# 배출량 합계\n",
    "# $E_{total}(kg) = E_{HOT}(kg) + E_{COLD}(g) + E_{EVAP}(g)$\n",
    "# E_COLD_NOx 음수 -> 0으로 처리(2023.04.24 from 최이사님)\n",
    "df2.loc[df2['E_COLD_NOx'] < 0, 'E_COLD_NOx'] = 0"
   ]
  },
  {
   "cell_type": "code",
   "execution_count": 2062,
   "id": "1b87e043-4367-4ea8-b49b-cb9d68e2a8f6",
   "metadata": {},
   "outputs": [],
   "source": [
    "# 단위 변환(g -> kg)\n",
    "df2['E_COLD_CO'] = df2['E_COLD_CO'] / 1000\n",
    "df2['E_COLD_HC'] = df2['E_COLD_HC'] / 1000\n",
    "df2['E_COLD_NOx'] = df2['E_COLD_NOx'] / 1000\n",
    "df2['E_COLD_PM10'] = df2['E_COLD_PM10'] / 1000\n",
    "df2['E_COLD_PM2_5'] = df2['E_COLD_PM2_5'] / 1000\n",
    "df2['E_EVA_VOC'] = df2['E_EVA_VOC'] / 1000"
   ]
  },
  {
   "cell_type": "code",
   "execution_count": 2063,
   "id": "b273f664-13d5-40d1-979c-ada0148e138a",
   "metadata": {},
   "outputs": [],
   "source": [
    "fuel = '휘발유'\n",
    "df2.loc[df2['연료'] == fuel, 'E_CO_total'] = df2.loc[df2['연료'] == fuel , 'E_HOT_CO'] + df2.loc[df2['연료'] == fuel , 'E_COLD_CO']\n",
    "df2.loc[df2['연료'] == fuel, 'E_HC_total'] = df2.loc[df2['연료'] == fuel , 'E_HOT_HC'] + df2.loc[df2['연료'] == fuel , 'E_COLD_HC'] + df2.loc[df2['연료'] == fuel , 'E_EVA_VOC']\n",
    "df2.loc[df2['연료'] == fuel, 'E_NOx_total'] = df2.loc[df2['연료'] == fuel , 'E_HOT_NOx'] + df2.loc[df2['연료'] == fuel , 'E_COLD_NOx']\n",
    "df2.loc[df2['연료'] == fuel, 'E_PM10_total'] = df2.loc[df2['연료'] == fuel , 'E_HOT_PM10'] + df2.loc[df2['연료'] == fuel , 'E_COLD_PM10']\n",
    "df2.loc[df2['연료'] == fuel, 'E_PM2_5_total'] = df2.loc[df2['연료'] == fuel , 'E_HOT_PM2_5'] + df2.loc[df2['연료'] == fuel , 'E_COLD_PM2_5']"
   ]
  },
  {
   "cell_type": "code",
   "execution_count": 2064,
   "id": "5ad56e52-4895-4663-8e92-ae7bb9181575",
   "metadata": {},
   "outputs": [],
   "source": [
    "fuel = '경유'\n",
    "df2.loc[df2['연료'] == fuel, 'E_CO_total'] = df2.loc[df2['연료'] == fuel , 'E_HOT_CO'] + df2.loc[df2['연료'] == fuel , 'E_COLD_CO']\n",
    "df2.loc[df2['연료'] == fuel, 'E_HC_total'] = df2.loc[df2['연료'] == fuel , 'E_HOT_HC'] + df2.loc[df2['연료'] == fuel , 'E_COLD_HC']\n",
    "df2.loc[df2['연료'] == fuel, 'E_NOx_total'] = df2.loc[df2['연료'] == fuel , 'E_HOT_NOx'] + df2.loc[df2['연료'] == fuel , 'E_COLD_NOx']\n",
    "df2.loc[df2['연료'] == fuel, 'E_PM10_total'] = df2.loc[df2['연료'] == fuel , 'E_HOT_PM10'] + df2.loc[df2['연료'] == fuel , 'E_COLD_PM10']\n",
    "df2.loc[df2['연료'] == fuel, 'E_PM2_5_total'] = df2.loc[df2['연료'] == fuel , 'E_HOT_PM2_5'] + df2.loc[df2['연료'] == fuel , 'E_COLD_PM2_5']"
   ]
  },
  {
   "cell_type": "code",
   "execution_count": 2065,
   "id": "ef5bc908-4425-42d2-ba02-3c02c144c2d3",
   "metadata": {},
   "outputs": [],
   "source": [
    "fuel = 'LPG(액화석유가스)'\n",
    "df2.loc[df2['연료'] == fuel, 'E_CO_total'] = df2.loc[df2['연료'] == fuel , 'E_HOT_CO'] + df2.loc[df2['연료'] == fuel , 'E_COLD_CO']\n",
    "df2.loc[df2['연료'] == fuel, 'E_HC_total'] = df2.loc[df2['연료'] == fuel , 'E_HOT_HC'] + df2.loc[df2['연료'] == fuel , 'E_COLD_HC']\n",
    "df2.loc[df2['연료'] == fuel, 'E_NOx_total'] = df2.loc[df2['연료'] == fuel , 'E_HOT_NOx'] + df2.loc[df2['연료'] == fuel , 'E_COLD_NOx']\n",
    "df2.loc[df2['연료'] == fuel, 'E_PM10_total'] = df2.loc[df2['연료'] == fuel , 'E_HOT_PM10'] + df2.loc[df2['연료'] == fuel , 'E_COLD_PM10']\n",
    "df2.loc[df2['연료'] == fuel, 'E_PM2_5_total'] = df2.loc[df2['연료'] == fuel , 'E_HOT_PM2_5'] + df2.loc[df2['연료'] == fuel , 'E_COLD_PM2_5']\n",
    "check_E_col = ['E_CO_total', 'E_HC_total', 'E_NOx_total', 'E_PM10_total', 'E_PM2_5_total']"
   ]
  },
  {
   "cell_type": "code",
   "execution_count": 2066,
   "id": "0cdb0082-152c-4b7f-b0a4-5e72bba41999",
   "metadata": {},
   "outputs": [],
   "source": [
    "## 배출량\n",
    "# - 연료 : 휘발유, 경유, LPG(액화석유가스)\n",
    "# - 물질 : CO, HC, NOx, PM10, PM2.5\n",
    "\n",
    "## 시도/시군구별 배출량 합계\n",
    "grp1 = df2.groupby(['시도', '시군구_수정'], as_index=False).agg({'E_CO_total':'sum', 'E_HC_total':'sum', 'E_NOx_total':'sum', 'E_PM10_total':'sum', 'E_PM2_5_total':'sum'})"
   ]
  },
  {
   "cell_type": "code",
   "execution_count": 2067,
   "id": "5c1c98bd-5968-4286-81e3-443019b008ae",
   "metadata": {},
   "outputs": [],
   "source": [
    "# 연도 설정\n",
    "today_date = datetime.today().strftime(\"%Y%m%d\")\n",
    "grp1['연도'] = today_date[:4]\n",
    "# grp1['연도'] = '2022' # 하드코딩\n",
    "grp1 = grp1[['연도', '시도', '시군구_수정', 'E_CO_total', 'E_HC_total', 'E_NOx_total', 'E_PM10_total', 'E_PM2_5_total']]\n",
    "grp1['테이블생성일자'] = today_date"
   ]
  },
  {
   "cell_type": "code",
   "execution_count": 2068,
   "id": "27383bcb-504f-42f8-ab8f-3a905107844d",
   "metadata": {},
   "outputs": [],
   "source": [
    "# 기준연월 추가\n",
    "# grp1['기준연월'] = '2022.12'\n",
    "grp1['기준연월'] = today_date[:4] + '.' + today_date[4:6]\n",
    "chc_dict = {\n",
    "    '테이블생성일자':'LOAD_DT', \n",
    "    '기준연월':'CRTR_YM', \n",
    "    '연도':'YR', \n",
    "    '시도':'CTPV', \n",
    "    '시군구_수정':'SGG', \n",
    "    'E_CO_total':'CO_EXHST_MSS', \n",
    "    'E_HC_total':'HC_EXHST_MSS', \n",
    "    'E_NOx_total':'NOx_EXHST_MSS',\n",
    "    'E_PM10_total':'PM10_EXHST_MSS', \n",
    "    'E_PM2_5_total':'PM2_5_EXHST_MSS', \n",
    "}\n",
    "STD_BD_GRD4_EXHST_GAS_MSS_TOT = grp1.rename(columns=chc_dict)"
   ]
  },
  {
   "cell_type": "code",
   "execution_count": 2069,
   "id": "3102cb45-5075-4052-9436-b83f464b4c10",
   "metadata": {
    "tags": []
   },
   "outputs": [
    {
     "data": {
      "text/html": [
       "<div>\n",
       "<style scoped>\n",
       "    .dataframe tbody tr th:only-of-type {\n",
       "        vertical-align: middle;\n",
       "    }\n",
       "\n",
       "    .dataframe tbody tr th {\n",
       "        vertical-align: top;\n",
       "    }\n",
       "\n",
       "    .dataframe thead th {\n",
       "        text-align: right;\n",
       "    }\n",
       "</style>\n",
       "<table border=\"1\" class=\"dataframe\">\n",
       "  <thead>\n",
       "    <tr style=\"text-align: right;\">\n",
       "      <th></th>\n",
       "      <th>YR</th>\n",
       "      <th>CTPV</th>\n",
       "      <th>SGG</th>\n",
       "      <th>CO_EXHST_MSS</th>\n",
       "      <th>HC_EXHST_MSS</th>\n",
       "      <th>NOx_EXHST_MSS</th>\n",
       "      <th>PM10_EXHST_MSS</th>\n",
       "      <th>PM2_5_EXHST_MSS</th>\n",
       "      <th>LOAD_DT</th>\n",
       "      <th>CRTR_YM</th>\n",
       "    </tr>\n",
       "  </thead>\n",
       "  <tbody>\n",
       "    <tr>\n",
       "      <th>0</th>\n",
       "      <td>2023</td>\n",
       "      <td>강원특별자치도</td>\n",
       "      <td>강릉시</td>\n",
       "      <td>60325.36</td>\n",
       "      <td>8179.54</td>\n",
       "      <td>54407.77</td>\n",
       "      <td>496.82</td>\n",
       "      <td>455.90</td>\n",
       "      <td>20231103</td>\n",
       "      <td>2023.11</td>\n",
       "    </tr>\n",
       "    <tr>\n",
       "      <th>1</th>\n",
       "      <td>2023</td>\n",
       "      <td>강원특별자치도</td>\n",
       "      <td>고성군</td>\n",
       "      <td>15001.07</td>\n",
       "      <td>1888.14</td>\n",
       "      <td>10877.60</td>\n",
       "      <td>107.09</td>\n",
       "      <td>98.30</td>\n",
       "      <td>20231103</td>\n",
       "      <td>2023.11</td>\n",
       "    </tr>\n",
       "    <tr>\n",
       "      <th>2</th>\n",
       "      <td>2023</td>\n",
       "      <td>강원특별자치도</td>\n",
       "      <td>동해시</td>\n",
       "      <td>32777.23</td>\n",
       "      <td>3801.12</td>\n",
       "      <td>24411.65</td>\n",
       "      <td>203.31</td>\n",
       "      <td>186.48</td>\n",
       "      <td>20231103</td>\n",
       "      <td>2023.11</td>\n",
       "    </tr>\n",
       "    <tr>\n",
       "      <th>3</th>\n",
       "      <td>2023</td>\n",
       "      <td>강원특별자치도</td>\n",
       "      <td>삼척시</td>\n",
       "      <td>19030.87</td>\n",
       "      <td>2420.49</td>\n",
       "      <td>18768.68</td>\n",
       "      <td>199.28</td>\n",
       "      <td>183.48</td>\n",
       "      <td>20231103</td>\n",
       "      <td>2023.11</td>\n",
       "    </tr>\n",
       "    <tr>\n",
       "      <th>4</th>\n",
       "      <td>2023</td>\n",
       "      <td>강원특별자치도</td>\n",
       "      <td>속초시</td>\n",
       "      <td>28428.84</td>\n",
       "      <td>3654.78</td>\n",
       "      <td>18443.59</td>\n",
       "      <td>146.97</td>\n",
       "      <td>134.78</td>\n",
       "      <td>20231103</td>\n",
       "      <td>2023.11</td>\n",
       "    </tr>\n",
       "  </tbody>\n",
       "</table>\n",
       "</div>"
      ],
      "text/plain": [
       "     YR     CTPV  SGG  CO_EXHST_MSS  HC_EXHST_MSS  NOx_EXHST_MSS   \n",
       "0  2023  강원특별자치도  강릉시      60325.36       8179.54       54407.77  \\\n",
       "1  2023  강원특별자치도  고성군      15001.07       1888.14       10877.60   \n",
       "2  2023  강원특별자치도  동해시      32777.23       3801.12       24411.65   \n",
       "3  2023  강원특별자치도  삼척시      19030.87       2420.49       18768.68   \n",
       "4  2023  강원특별자치도  속초시      28428.84       3654.78       18443.59   \n",
       "\n",
       "   PM10_EXHST_MSS  PM2_5_EXHST_MSS   LOAD_DT  CRTR_YM  \n",
       "0          496.82           455.90  20231103  2023.11  \n",
       "1          107.09            98.30  20231103  2023.11  \n",
       "2          203.31           186.48  20231103  2023.11  \n",
       "3          199.28           183.48  20231103  2023.11  \n",
       "4          146.97           134.78  20231103  2023.11  "
      ]
     },
     "execution_count": 2069,
     "metadata": {},
     "output_type": "execute_result"
    }
   ],
   "source": [
    "STD_BD_GRD4_EXHST_GAS_MSS_TOT.head()"
   ]
  },
  {
   "cell_type": "code",
   "execution_count": 2070,
   "id": "fa83b8ae-feaf-48e0-9d93-aef4375fed18",
   "metadata": {},
   "outputs": [
    {
     "data": {
      "text/plain": [
       "Index(['YR', 'CTPV', 'SGG', 'CO_EXHST_MSS', 'HC_EXHST_MSS', 'NOx_EXHST_MSS',\n",
       "       'PM10_EXHST_MSS', 'PM2_5_EXHST_MSS', 'LOAD_DT', 'CRTR_YM'],\n",
       "      dtype='object')"
      ]
     },
     "execution_count": 2070,
     "metadata": {},
     "output_type": "execute_result"
    }
   ],
   "source": [
    "STD_BD_GRD4_EXHST_GAS_MSS_TOT.columns"
   ]
  },
  {
   "cell_type": "markdown",
   "id": "5231b5b6-d30e-47d2-ac26-0b2cf75514bf",
   "metadata": {},
   "source": [
    "### [출력] STD_BD_GRD4_EXHST_GAS_MSS_TOT"
   ]
  },
  {
   "cell_type": "code",
   "execution_count": 2071,
   "id": "4ad2c81a-07e5-4e0e-b988-061e3cef8119",
   "metadata": {},
   "outputs": [],
   "source": [
    "# expdf = STD_BD_GRD4_EXHST_GAS_MSS_TOT\n",
    "# table_nm = 'STD_BD_GRD4_EXHST_GAS_MSS_TOT'.upper()\n",
    "\n",
    "# # 테이블 생성\n",
    "# sql = 'create or replace table ' + table_nm + '( \\n'\n",
    "\n",
    "# for idx,column in enumerate(expdf.columns):\n",
    "#     # if 'float' in expdf[column].dtype.name:\n",
    "#     #     sql += column + ' float'\n",
    "#     # elif 'int' in expdf[column].dtype.name:\n",
    "#     #     sql += column + ' number'\n",
    "#     # else:\n",
    "#     sql += column + ' varchar(255)'\n",
    "\n",
    "#     if len(expdf.columns) - 1 != idx:\n",
    "#         sql += ','\n",
    "#     sql += '\\n'\n",
    "# sql += ')'    \n",
    "# we.execute(sql)\n",
    "\n",
    "# # 데이터 추가\n",
    "# # 7s\n",
    "# we.import_from_pandas(expdf, table_nm)\n",
    "\n",
    "# print(f'data export : {table_nm}')"
   ]
  },
  {
   "cell_type": "code",
   "execution_count": 2072,
   "id": "f0f2f7b0-396f-44ec-aa43-64a87702fb83",
   "metadata": {
    "tags": []
   },
   "outputs": [
    {
     "data": {
      "text/plain": [
       "(1345037, 89)"
      ]
     },
     "execution_count": 2072,
     "metadata": {},
     "output_type": "execute_result"
    }
   ],
   "source": [
    "df2.shape"
   ]
  },
  {
   "cell_type": "code",
   "execution_count": 2073,
   "id": "e347c959-474f-4757-b6c2-87168399dd5f",
   "metadata": {},
   "outputs": [
    {
     "name": "stderr",
     "output_type": "stream",
     "text": [
      "/tmp/ipykernel_2016934/1900596670.py:42: SettingWithCopyWarning: \n",
      "A value is trying to be set on a copy of a slice from a DataFrame.\n",
      "Try using .loc[row_indexer,col_indexer] = value instead\n",
      "\n",
      "See the caveats in the documentation: https://pandas.pydata.org/pandas-docs/stable/user_guide/indexing.html#returning-a-view-versus-a-copy\n",
      "  STD_BD_GRD4_EXHST_GAS_MSS['기준연월'] = today_date[:4] + '.' + today_date[4:6]\n"
     ]
    }
   ],
   "source": [
    "## 출력(4등급)\n",
    "STD_BD_GRD4_EXHST_GAS_MSS = df2[[\n",
    "    '차대번호',\n",
    "    '자동차등록번호',\n",
    "    '제원관리번호',\n",
    "    '차종', \n",
    "    '용도', \n",
    "    '최초등록일자',\n",
    "    '차량연식',\n",
    "    '제작일자',\n",
    "    '검사유효일',\n",
    "    '차명',\n",
    "    '차종분류',\n",
    "    '차종유형', \n",
    "    '자동차형식', \n",
    "    '제작사명',\n",
    "    '연료', \n",
    "    '엔진형식',\n",
    "    '총중량', \n",
    "    '적재중량', \n",
    "    '엔진출력', \n",
    "    '배기량', \n",
    "    '시도', \n",
    "    '시군구',\n",
    "    '소유자구분',\n",
    "    '차량말소YN',\n",
    "    '배출가스인증번호',\n",
    "    '배출가스등급',\n",
    "    'DPF_YN',\n",
    "    '법정동코드', \n",
    "    'E_CO_total', \n",
    "    'E_HC_total', \n",
    "    'E_NOx_total', \n",
    "    'E_PM10_total',\n",
    "    'E_PM2_5_total', \n",
    "    '법정동코드_mod',\n",
    "    ]]\n",
    "\n",
    "# 날짜 설정\n",
    "# STD_BD_GRD4_EXHST_GAS_MSS['기준연월'] = '2022.12'\n",
    "today_date = datetime.today().strftime(\"%Y%m%d\")\n",
    "STD_BD_GRD4_EXHST_GAS_MSS['기준연월'] = today_date[:4] + '.' + today_date[4:6]"
   ]
  },
  {
   "cell_type": "code",
   "execution_count": 2074,
   "id": "49430acb-d1a2-40b7-9f6e-dd8adeb98e44",
   "metadata": {},
   "outputs": [
    {
     "name": "stderr",
     "output_type": "stream",
     "text": [
      "/tmp/ipykernel_2016934/2920674868.py:1: SettingWithCopyWarning: \n",
      "A value is trying to be set on a copy of a slice from a DataFrame.\n",
      "Try using .loc[row_indexer,col_indexer] = value instead\n",
      "\n",
      "See the caveats in the documentation: https://pandas.pydata.org/pandas-docs/stable/user_guide/indexing.html#returning-a-view-versus-a-copy\n",
      "  STD_BD_GRD4_EXHST_GAS_MSS['테이블생성일자'] = today_date\n",
      "/tmp/ipykernel_2016934/2920674868.py:3: SettingWithCopyWarning: \n",
      "A value is trying to be set on a copy of a slice from a DataFrame.\n",
      "Try using .loc[row_indexer,col_indexer] = value instead\n",
      "\n",
      "See the caveats in the documentation: https://pandas.pydata.org/pandas-docs/stable/user_guide/indexing.html#returning-a-view-versus-a-copy\n",
      "  STD_BD_GRD4_EXHST_GAS_MSS['법정동코드_mod'] = STD_BD_GRD4_EXHST_GAS_MSS['법정동코드_mod'].astype('str')\n"
     ]
    }
   ],
   "source": [
    "STD_BD_GRD4_EXHST_GAS_MSS['테이블생성일자'] = today_date\n",
    "# RH법정동코드 문자열타입으로 변경\n",
    "STD_BD_GRD4_EXHST_GAS_MSS['법정동코드_mod'] = STD_BD_GRD4_EXHST_GAS_MSS['법정동코드_mod'].astype('str')\n",
    "# 기준연월 추가 고민\n",
    "STD_BD_GRD4_EXHST_GAS_MSS = STD_BD_GRD4_EXHST_GAS_MSS[[\n",
    "    '테이블생성일자', \n",
    "    '기준연월', \n",
    "    '차대번호',\n",
    "    '자동차등록번호',\n",
    "    '제원관리번호',\n",
    "    '차종', \n",
    "    '용도', \n",
    "    '최초등록일자',\n",
    "    '차량연식',\n",
    "    '제작일자',\n",
    "    '검사유효일',\n",
    "    '차명',\n",
    "    '차종분류',\n",
    "    '차종유형', \n",
    "    '자동차형식', \n",
    "    '제작사명',\n",
    "    '연료', \n",
    "    '엔진형식',\n",
    "    '총중량', \n",
    "    '적재중량', \n",
    "    '엔진출력', \n",
    "    '배기량', \n",
    "    '법정동코드', \n",
    "    '시도', \n",
    "    '시군구',\n",
    "    '소유자구분',\n",
    "    '차량말소YN',\n",
    "    '배출가스인증번호',\n",
    "    '배출가스등급',\n",
    "    'DPF_YN',\n",
    "    'E_CO_total', \n",
    "    'E_HC_total', \n",
    "    'E_NOx_total', \n",
    "    'E_PM10_total',\n",
    "    'E_PM2_5_total', \n",
    "    '법정동코드_mod',\n",
    "    ]]\n",
    "ch_col_dict = {\n",
    "                '테이블생성일자':'LOAD_DT', \n",
    "                '기준연월':'CRTR_YM',\n",
    "                '차대번호':'VIN', \n",
    "                '자동차등록번호':'VHRNO', \n",
    "                '제원관리번호':'MANG_MNG_NO', \n",
    "                '차종':'VHCTY_CD', \n",
    "                '용도':'PURPS_CD2', \n",
    "                '최초등록일자':'FRST_REG_YMD', \n",
    "                '차량연식':'YRIDNW', \n",
    "                '제작일자':'FBCTN_YMD', \n",
    "                '검사유효일':'EXHST_GAS_INSP_VLD_YMD',\n",
    "                '차명':'VHCNM', \n",
    "                '차종분류':'VHCTY_CL_CD', \n",
    "                '차종유형':'VHCTY_TY', \n",
    "                '자동차형식':'CAR_FRM', \n",
    "                '제작사명':'MNFCTR_NM', \n",
    "                '연료':'FUEL_CD', \n",
    "                '엔진형식':'EGIN_TY',\n",
    "                '총중량':'TOTL_WGHT', \n",
    "                '적재중량':'CRYNG_WGHT', \n",
    "                '엔진출력':'EGIN_OTPT',\n",
    "                '배기량':'DSPLVL', \n",
    "                '법정동코드':'STDG_CD', \n",
    "                '시도':'CTPV_NM', \n",
    "                '시군구':'SGG_NM', \n",
    "                '소유자구분':'OWNR_SE', \n",
    "                '차량말소YN':'ERSR_YN',\n",
    "                '배출가스인증번호':'EXHST_GAS_CERT_NO', \n",
    "                '배출가스등급':'EXHST_GAS_GRD_CD', \n",
    "                'DPF유무_수정':'DPF_MNTNG_YN', \n",
    "                'Grade':'GRD4_MLSFC',\n",
    "                'E_CO_total':'CO_EXHST_MSS',\n",
    "                'E_HC_total':'HC_EXHST_MSS',\n",
    "                'E_NOx_total':'NOx_EXHST_MSS', \n",
    "                'E_PM10_total':'PM10_EXHST_MSS',\n",
    "                'E_PM2_5_total':'PM2_5_EXHST_MSS',\n",
    "                '법정동코드_mod':'STDG_CD_MOD',\n",
    "                }\n",
    "                \n",
    "STD_BD_GRD4_EXHST_GAS_MSS = STD_BD_GRD4_EXHST_GAS_MSS.rename(columns=ch_col_dict)"
   ]
  },
  {
   "cell_type": "code",
   "execution_count": 2075,
   "id": "701304f9-9a6c-48b0-ab8e-4b1f40a7de1c",
   "metadata": {},
   "outputs": [
    {
     "data": {
      "text/plain": [
       "Index(['LOAD_DT', 'CRTR_YM', 'VIN', 'VHRNO', 'MANG_MNG_NO', 'VHCTY_CD',\n",
       "       'PURPS_CD2', 'FRST_REG_YMD', 'YRIDNW', 'FBCTN_YMD',\n",
       "       'EXHST_GAS_INSP_VLD_YMD', 'VHCNM', 'VHCTY_CL_CD', 'VHCTY_TY', 'CAR_FRM',\n",
       "       'MNFCTR_NM', 'FUEL_CD', 'EGIN_TY', 'TOTL_WGHT', 'CRYNG_WGHT',\n",
       "       'EGIN_OTPT', 'DSPLVL', 'STDG_CD', 'CTPV_NM', 'SGG_NM', 'OWNR_SE',\n",
       "       'ERSR_YN', 'EXHST_GAS_CERT_NO', 'EXHST_GAS_GRD_CD', 'DPF_YN',\n",
       "       'CO_EXHST_MSS', 'HC_EXHST_MSS', 'NOx_EXHST_MSS', 'PM10_EXHST_MSS',\n",
       "       'PM2_5_EXHST_MSS', 'STDG_CD_MOD'],\n",
       "      dtype='object')"
      ]
     },
     "execution_count": 2075,
     "metadata": {},
     "output_type": "execute_result"
    }
   ],
   "source": [
    "STD_BD_GRD4_EXHST_GAS_MSS.columns"
   ]
  },
  {
   "cell_type": "markdown",
   "id": "0ea45cf5-5ed1-4b08-a906-17ed8ceb3dae",
   "metadata": {},
   "source": [
    "### [출력] STD_BD_GRD4_EXHST_GAS_MSS"
   ]
  },
  {
   "cell_type": "code",
   "execution_count": 2076,
   "id": "84f725aa-07b6-4bff-b94f-fafd23b3b132",
   "metadata": {},
   "outputs": [],
   "source": [
    "# expdf = STD_BD_GRD4_EXHST_GAS_MSS\n",
    "# table_nm = 'STD_BD_GRD4_EXHST_GAS_MSS'.upper()\n",
    "\n",
    "# # 테이블 생성\n",
    "# sql = 'create or replace table ' + table_nm + '( \\n'\n",
    "\n",
    "# for idx,column in enumerate(expdf.columns):\n",
    "#     # if 'float' in expdf[column].dtype.name:\n",
    "#     #     sql += column + ' float'\n",
    "#     # elif 'int' in expdf[column].dtype.name:\n",
    "#     #     sql += column + ' number'\n",
    "#     # else:\n",
    "#     sql += column + ' varchar(255)'\n",
    "\n",
    "#     if len(expdf.columns) - 1 != idx:\n",
    "#         sql += ','\n",
    "#     sql += '\\n'\n",
    "# sql += ')'    \n",
    "# we.execute(sql)\n",
    "\n",
    "# # 데이터 추가\n",
    "# # 13s\n",
    "# we.import_from_pandas(expdf, table_nm)\n",
    "\n",
    "# print(f'data export : {table_nm}')"
   ]
  },
  {
   "cell_type": "code",
   "execution_count": 2077,
   "id": "193e497a-017f-4076-8f0a-2f6af2877e57",
   "metadata": {},
   "outputs": [],
   "source": [
    "## 배출량 현황\n",
    "grp2 = df2.groupby(['시도', '시군구_수정', '연료', '차종', '차종유형', '용도']).agg({'E_CO_total':'sum', 'E_HC_total':'sum', 'E_NOx_total':'sum', 'E_PM10_total':'sum', 'E_PM2_5_total':'sum'}).reset_index()\n",
    "grp2 = grp2.rename(columns={'E_CO_total':'E_CO_total_sum', 'E_HC_total':'E_HC_total_sum', 'E_NOx_total':'E_NOx_total_sum', 'E_PM10_total':'E_PM10_total_sum', 'E_PM2_5_total':'E_PM2_5_total_sum'})"
   ]
  },
  {
   "cell_type": "code",
   "execution_count": 2078,
   "id": "77020623-1521-4da0-b8b9-7fd557c061a5",
   "metadata": {},
   "outputs": [],
   "source": [
    "# 연도 설정\n",
    "# grp2['연도'] = '2022'\n",
    "today_date = datetime.today().strftime(\"%Y%m%d\")\n",
    "grp2['연도'] = today_date[:4]\n",
    "grp2['테이블생성일자'] = today_date"
   ]
  },
  {
   "cell_type": "code",
   "execution_count": 2079,
   "id": "1b4bad27-8087-41b5-927c-a8eaad845156",
   "metadata": {},
   "outputs": [],
   "source": [
    "STD_BD_DAT_GRD4_EXHST_MSS_CURSTT = grp2[[\n",
    "    '연도',\n",
    "    '시도',\n",
    "    '시군구_수정',\n",
    "    '연료',\n",
    "    '차종',\n",
    "    '차종유형',\n",
    "    '용도',\n",
    "    'E_CO_total_sum',\n",
    "    'E_HC_total_sum',\n",
    "    'E_NOx_total_sum',\n",
    "    'E_PM10_total_sum',\n",
    "    'E_PM2_5_total_sum',\n",
    "    '테이블생성일자',\n",
    "]]\n",
    "cdict = {\n",
    "    '연도':'YR',\n",
    "    '시도':'CTPV',\n",
    "    '시군구_수정':'SGG',\n",
    "    '연료':'FUEL_CD',\n",
    "    '차종':'VHCTY_CD',\n",
    "    '차종유형':'VHCTY_TY',\n",
    "    '용도':'PURPS_CD2',\n",
    "    'E_CO_total_sum':'CO_EXHST_MSS_SM',\n",
    "    'E_HC_total_sum':'HC_EXHST_MSS_SM',\n",
    "    'E_NOx_total_sum':'NOx_EXHST_MSS_SM',\n",
    "    'E_PM10_total_sum':'PM10_EXHST_MSS_SM',\n",
    "    'E_PM2_5_total_sum':'PM2_5_EXHST_MSS_SM',\n",
    "    '테이블생성일자':'LOAD_DT',\n",
    "}\n",
    "STD_BD_DAT_GRD4_EXHST_MSS_CURSTT = STD_BD_DAT_GRD4_EXHST_MSS_CURSTT.rename(columns=cdict)"
   ]
  },
  {
   "cell_type": "code",
   "execution_count": 2080,
   "id": "50682f6e-b923-4fac-8b16-2d2feb272fd9",
   "metadata": {},
   "outputs": [
    {
     "data": {
      "text/plain": [
       "Index(['YR', 'CTPV', 'SGG', 'FUEL_CD', 'VHCTY_CD', 'VHCTY_TY', 'PURPS_CD2',\n",
       "       'CO_EXHST_MSS_SM', 'HC_EXHST_MSS_SM', 'NOx_EXHST_MSS_SM',\n",
       "       'PM10_EXHST_MSS_SM', 'PM2_5_EXHST_MSS_SM', 'LOAD_DT'],\n",
       "      dtype='object')"
      ]
     },
     "execution_count": 2080,
     "metadata": {},
     "output_type": "execute_result"
    }
   ],
   "source": [
    "STD_BD_DAT_GRD4_EXHST_MSS_CURSTT.columns"
   ]
  },
  {
   "cell_type": "markdown",
   "id": "2dee64a3-9256-4d1f-8ba1-11d4ef508720",
   "metadata": {},
   "source": [
    "### [출력] STD_BD_DAT_GRD4_EXHST_MSS_CURSTT"
   ]
  },
  {
   "cell_type": "code",
   "execution_count": 2081,
   "id": "4fb166fa-20cc-4403-ba7e-f1db91346468",
   "metadata": {},
   "outputs": [],
   "source": [
    "# expdf = STD_BD_DAT_GRD4_EXHST_MSS_CURSTT\n",
    "# table_nm = 'STD_BD_DAT_GRD4_EXHST_MSS_CURSTT'.upper()\n",
    "\n",
    "# # 테이블 생성\n",
    "# sql = 'create or replace table ' + table_nm + '( \\n'\n",
    "\n",
    "# for idx,column in enumerate(expdf.columns):\n",
    "#     # if 'float' in expdf[column].dtype.name:\n",
    "#     #     sql += column + ' float'\n",
    "#     # elif 'int' in expdf[column].dtype.name:\n",
    "#     #     sql += column + ' number'\n",
    "#     # else:\n",
    "#     sql += column + ' varchar(255)'\n",
    "\n",
    "#     if len(expdf.columns) - 1 != idx:\n",
    "#         sql += ','\n",
    "#     sql += '\\n'\n",
    "# sql += ')'    \n",
    "# we.execute(sql)\n",
    "\n",
    "# # 데이터 추가\n",
    "# # 30.7s\n",
    "# we.import_from_pandas(expdf, table_nm)\n",
    "\n",
    "# print(f'data export : {table_nm}')"
   ]
  },
  {
   "cell_type": "code",
   "execution_count": 2082,
   "id": "3018f4bf-10fe-419c-a5fb-37a4924e74cc",
   "metadata": {
    "tags": []
   },
   "outputs": [
    {
     "data": {
      "text/plain": [
       "Index(['차대번호', '법정동코드', '배출가스등급', '배출가스인증번호', '차량말소YN', '제원관리번호', '차량연식', '차종',\n",
       "       '용도', '최초등록일자', '제작일자', '차량관리번호', '자동차등록번호', '검사유효일', '소유자구분', '연료',\n",
       "       '차종유형', '제작사명', '차명', '자동차형식', '엔진형식', '차종분류', '총중량', '적재중량', '배기량',\n",
       "       '엔진출력', '검사방법', '검사종류', '검사판정', '무부하매연측정치1', '무부하매연측정치2', '무부하매연측정치3',\n",
       "       '무부하매연판정1', '검사일자', '주행거리', '무부하매연허용치1', '시도', '시군구', '시도코드', '시군구코드',\n",
       "       '법정동코드_mod', '기간차이', '일일평균주행거리', 'DPF_YN', '차령', '시군구_수정', 'VKT',\n",
       "       'DF_CO', 'DF_HC', 'DF_PM', 'DF_NOx', 'R_CO', 'R_HC', 'R_PM', 'EFi_CO',\n",
       "       'EFi_HC', 'EFi_NOx', 'EFi_PM10', 'EFi_PM2_5', 'E_HOT_CO', 'E_HOT_HC',\n",
       "       'E_HOT_NOx', 'E_HOT_PM10', 'E_HOT_PM2_5', 'Beta(Estimated)',\n",
       "       'eCOLD/eHOT_CO', 'eCOLD/eHOT_NOx', 'eCOLD/eHOT_HC', 'eCOLD/eHOT_PM',\n",
       "       'E_COLD_CO', 'E_COLD_NOx', 'E_COLD_HC', 'E_COLD_PM10', 'E_COLD_PM2_5',\n",
       "       'e_d', 'e_RHOT', 'e_SHOT', 'e_SWARM', 'e_fi', 'e_RWARM', 'R', 'S_fi',\n",
       "       'S_c', 'E_EVA_VOC', 'E_CO_total', 'E_HC_total', 'E_NOx_total',\n",
       "       'E_PM10_total', 'E_PM2_5_total'],\n",
       "      dtype='object')"
      ]
     },
     "execution_count": 2082,
     "metadata": {},
     "output_type": "execute_result"
    }
   ],
   "source": [
    "df2.columns"
   ]
  },
  {
   "cell_type": "code",
   "execution_count": null,
   "id": "84794f8b-e237-44a0-bca0-534cbb3e0707",
   "metadata": {},
   "outputs": [],
   "source": [
    "# !!! 수정 시작(2023.11.03)"
   ]
  },
  {
   "cell_type": "code",
   "execution_count": 2091,
   "id": "3e710e51-83af-4c84-b7e3-bda46db53909",
   "metadata": {
    "tags": []
   },
   "outputs": [
    {
     "data": {
      "text/plain": [
       "Index(['차대번호', '법정동코드', '배출가스등급', '배출가스인증번호', '차량말소YN', '제원관리번호', '차량연식', '차종',\n",
       "       '용도', '최초등록일자', '제작일자', '차량관리번호', '자동차등록번호', '검사유효일', '소유자구분', '연료',\n",
       "       '차종유형', '제작사명', '차명', '자동차형식', '엔진형식', '차종분류', '총중량', '적재중량', '배기량',\n",
       "       '엔진출력', '검사방법', '검사종류', '검사판정', '무부하매연측정치1', '무부하매연측정치2', '무부하매연측정치3',\n",
       "       '무부하매연판정1', '검사일자', '주행거리', '무부하매연허용치1', '시도', '시군구', '시도코드', '시군구코드',\n",
       "       '법정동코드_mod', '기간차이', '일일평균주행거리', 'DPF_YN', '차령', '시군구_수정'],\n",
       "      dtype='object')"
      ]
     },
     "execution_count": 2091,
     "metadata": {},
     "output_type": "execute_result"
    }
   ],
   "source": [
    "dgl.columns"
   ]
  },
  {
   "cell_type": "code",
   "execution_count": 2092,
   "id": "9b351a6a-3e9b-48ac-a96e-204dbeb24de7",
   "metadata": {
    "tags": []
   },
   "outputs": [
    {
     "data": {
      "text/plain": [
       "연료\n",
       "경유             1013073\n",
       "휘발유             308111\n",
       "LPG(액화석유가스)      23853\n",
       "Name: count, dtype: int64"
      ]
     },
     "execution_count": 2092,
     "metadata": {},
     "output_type": "execute_result"
    }
   ],
   "source": [
    "dgl['연료'].value_counts(dropna=False)"
   ]
  },
  {
   "cell_type": "code",
   "execution_count": 2093,
   "id": "b8c7c978-3fa8-4c42-8fad-8967af1752a5",
   "metadata": {
    "tags": []
   },
   "outputs": [
    {
     "data": {
      "text/plain": [
       "((1013073, 46), (331964, 46))"
      ]
     },
     "execution_count": 2093,
     "metadata": {},
     "output_type": "execute_result"
    }
   ],
   "source": [
    "diesel = dgl[dgl['연료'] == '경유'].reset_index(drop=True)\n",
    "gas_lpg = dgl[(dgl['연료'] == '휘발유') | (dgl['연료'] == 'LPG(액화석유가스)')].reset_index(drop=True)\n",
    "diesel.shape, gas_lpg.shape"
   ]
  },
  {
   "cell_type": "code",
   "execution_count": 2094,
   "id": "34bfaccb-076d-4e3b-9e71-097a39cfffcc",
   "metadata": {
    "tags": []
   },
   "outputs": [
    {
     "data": {
      "text/html": [
       "<div>\n",
       "<style scoped>\n",
       "    .dataframe tbody tr th:only-of-type {\n",
       "        vertical-align: middle;\n",
       "    }\n",
       "\n",
       "    .dataframe tbody tr th {\n",
       "        vertical-align: top;\n",
       "    }\n",
       "\n",
       "    .dataframe thead th {\n",
       "        text-align: right;\n",
       "    }\n",
       "</style>\n",
       "<table border=\"1\" class=\"dataframe\">\n",
       "  <thead>\n",
       "    <tr style=\"text-align: right;\">\n",
       "      <th></th>\n",
       "      <th>시도</th>\n",
       "      <th>시군구_수정</th>\n",
       "      <th>연료</th>\n",
       "      <th>차종</th>\n",
       "      <th>차종유형</th>\n",
       "      <th>용도</th>\n",
       "      <th>검사방법</th>\n",
       "      <th>매연(평균)</th>\n",
       "    </tr>\n",
       "  </thead>\n",
       "  <tbody>\n",
       "    <tr>\n",
       "      <th>0</th>\n",
       "      <td>강원특별자치도</td>\n",
       "      <td>강릉시</td>\n",
       "      <td>경유</td>\n",
       "      <td>승용</td>\n",
       "      <td>대형</td>\n",
       "      <td>개인용</td>\n",
       "      <td>무부하검사(급가속)</td>\n",
       "      <td>9.86</td>\n",
       "    </tr>\n",
       "    <tr>\n",
       "      <th>1</th>\n",
       "      <td>강원특별자치도</td>\n",
       "      <td>강릉시</td>\n",
       "      <td>경유</td>\n",
       "      <td>승용</td>\n",
       "      <td>대형</td>\n",
       "      <td>개인용</td>\n",
       "      <td>부하검사(KD-147)</td>\n",
       "      <td>6.96</td>\n",
       "    </tr>\n",
       "    <tr>\n",
       "      <th>2</th>\n",
       "      <td>강원특별자치도</td>\n",
       "      <td>강릉시</td>\n",
       "      <td>경유</td>\n",
       "      <td>승용</td>\n",
       "      <td>대형</td>\n",
       "      <td>관용</td>\n",
       "      <td>무부하검사(급가속)</td>\n",
       "      <td>8.33</td>\n",
       "    </tr>\n",
       "    <tr>\n",
       "      <th>3</th>\n",
       "      <td>강원특별자치도</td>\n",
       "      <td>강릉시</td>\n",
       "      <td>경유</td>\n",
       "      <td>승용</td>\n",
       "      <td>소형</td>\n",
       "      <td>개인용</td>\n",
       "      <td>무부하검사(급가속)</td>\n",
       "      <td>14.92</td>\n",
       "    </tr>\n",
       "    <tr>\n",
       "      <th>4</th>\n",
       "      <td>강원특별자치도</td>\n",
       "      <td>강릉시</td>\n",
       "      <td>경유</td>\n",
       "      <td>승용</td>\n",
       "      <td>소형</td>\n",
       "      <td>개인용</td>\n",
       "      <td>부하검사(KD-147)</td>\n",
       "      <td>7.00</td>\n",
       "    </tr>\n",
       "    <tr>\n",
       "      <th>...</th>\n",
       "      <td>...</td>\n",
       "      <td>...</td>\n",
       "      <td>...</td>\n",
       "      <td>...</td>\n",
       "      <td>...</td>\n",
       "      <td>...</td>\n",
       "      <td>...</td>\n",
       "      <td>...</td>\n",
       "    </tr>\n",
       "    <tr>\n",
       "      <th>7027</th>\n",
       "      <td>충청북도</td>\n",
       "      <td>충주시</td>\n",
       "      <td>경유</td>\n",
       "      <td>화물</td>\n",
       "      <td>중형</td>\n",
       "      <td>개인용</td>\n",
       "      <td>부하검사(KD-147)</td>\n",
       "      <td>8.68</td>\n",
       "    </tr>\n",
       "    <tr>\n",
       "      <th>7028</th>\n",
       "      <td>충청북도</td>\n",
       "      <td>충주시</td>\n",
       "      <td>경유</td>\n",
       "      <td>화물</td>\n",
       "      <td>중형</td>\n",
       "      <td>개인용</td>\n",
       "      <td>부하검사(LUG DOWN)</td>\n",
       "      <td>8.51</td>\n",
       "    </tr>\n",
       "    <tr>\n",
       "      <th>7029</th>\n",
       "      <td>충청북도</td>\n",
       "      <td>충주시</td>\n",
       "      <td>경유</td>\n",
       "      <td>화물</td>\n",
       "      <td>중형</td>\n",
       "      <td>관용</td>\n",
       "      <td>부하검사(LUG DOWN)</td>\n",
       "      <td>6.00</td>\n",
       "    </tr>\n",
       "    <tr>\n",
       "      <th>7030</th>\n",
       "      <td>충청북도</td>\n",
       "      <td>충주시</td>\n",
       "      <td>경유</td>\n",
       "      <td>화물</td>\n",
       "      <td>중형</td>\n",
       "      <td>영업용</td>\n",
       "      <td>부하검사(KD-147)</td>\n",
       "      <td>10.50</td>\n",
       "    </tr>\n",
       "    <tr>\n",
       "      <th>7031</th>\n",
       "      <td>충청북도</td>\n",
       "      <td>충주시</td>\n",
       "      <td>경유</td>\n",
       "      <td>화물</td>\n",
       "      <td>중형</td>\n",
       "      <td>영업용</td>\n",
       "      <td>부하검사(LUG DOWN)</td>\n",
       "      <td>7.06</td>\n",
       "    </tr>\n",
       "  </tbody>\n",
       "</table>\n",
       "<p>7032 rows × 8 columns</p>\n",
       "</div>"
      ],
      "text/plain": [
       "           시도 시군구_수정  연료  차종 차종유형   용도            검사방법  매연(평균)\n",
       "0     강원특별자치도    강릉시  경유  승용   대형  개인용      무부하검사(급가속)    9.86\n",
       "1     강원특별자치도    강릉시  경유  승용   대형  개인용    부하검사(KD-147)    6.96\n",
       "2     강원특별자치도    강릉시  경유  승용   대형   관용      무부하검사(급가속)    8.33\n",
       "3     강원특별자치도    강릉시  경유  승용   소형  개인용      무부하검사(급가속)   14.92\n",
       "4     강원특별자치도    강릉시  경유  승용   소형  개인용    부하검사(KD-147)    7.00\n",
       "...       ...    ...  ..  ..  ...  ...             ...     ...\n",
       "7027     충청북도    충주시  경유  화물   중형  개인용    부하검사(KD-147)    8.68\n",
       "7028     충청북도    충주시  경유  화물   중형  개인용  부하검사(LUG DOWN)    8.51\n",
       "7029     충청북도    충주시  경유  화물   중형   관용  부하검사(LUG DOWN)    6.00\n",
       "7030     충청북도    충주시  경유  화물   중형  영업용    부하검사(KD-147)   10.50\n",
       "7031     충청북도    충주시  경유  화물   중형  영업용  부하검사(LUG DOWN)    7.06\n",
       "\n",
       "[7032 rows x 8 columns]"
      ]
     },
     "execution_count": 2094,
     "metadata": {},
     "output_type": "execute_result"
    }
   ],
   "source": [
    "grp_diesel = diesel.groupby(['시도', '시군구_수정', '연료', '차종', '차종유형', '용도', '검사방법']).agg({'무부하매연측정치1':'mean'}).reset_index()\n",
    "grp_diesel = grp_diesel.rename(columns={'무부하매연측정치1':'매연(평균)'})\n",
    "grp_diesel"
   ]
  },
  {
   "cell_type": "code",
   "execution_count": 2095,
   "id": "938b6c8e-9e34-4a9c-9101-7cc59045c31e",
   "metadata": {
    "tags": []
   },
   "outputs": [
    {
     "data": {
      "text/html": [
       "<div>\n",
       "<style scoped>\n",
       "    .dataframe tbody tr th:only-of-type {\n",
       "        vertical-align: middle;\n",
       "    }\n",
       "\n",
       "    .dataframe tbody tr th {\n",
       "        vertical-align: top;\n",
       "    }\n",
       "\n",
       "    .dataframe thead th {\n",
       "        text-align: right;\n",
       "    }\n",
       "</style>\n",
       "<table border=\"1\" class=\"dataframe\">\n",
       "  <thead>\n",
       "    <tr style=\"text-align: right;\">\n",
       "      <th></th>\n",
       "      <th>시도</th>\n",
       "      <th>시군구_수정</th>\n",
       "      <th>연료</th>\n",
       "      <th>차종</th>\n",
       "      <th>차종유형</th>\n",
       "      <th>용도</th>\n",
       "      <th>검사방법</th>\n",
       "      <th>CO(평균)</th>\n",
       "      <th>HC(평균)</th>\n",
       "      <th>NOx(평균)</th>\n",
       "    </tr>\n",
       "  </thead>\n",
       "  <tbody>\n",
       "    <tr>\n",
       "      <th>0</th>\n",
       "      <td>강원특별자치도</td>\n",
       "      <td>강릉시</td>\n",
       "      <td>LPG(액화석유가스)</td>\n",
       "      <td>승용</td>\n",
       "      <td>중형</td>\n",
       "      <td>개인용</td>\n",
       "      <td>무부하검사(TSI)</td>\n",
       "      <td>0.40</td>\n",
       "      <td>209.00</td>\n",
       "      <td>1.04</td>\n",
       "    </tr>\n",
       "    <tr>\n",
       "      <th>1</th>\n",
       "      <td>강원특별자치도</td>\n",
       "      <td>강릉시</td>\n",
       "      <td>LPG(액화석유가스)</td>\n",
       "      <td>승합</td>\n",
       "      <td>중형</td>\n",
       "      <td>개인용</td>\n",
       "      <td>무부하검사(정지가동)</td>\n",
       "      <td>0.02</td>\n",
       "      <td>54.00</td>\n",
       "      <td>1.09</td>\n",
       "    </tr>\n",
       "    <tr>\n",
       "      <th>2</th>\n",
       "      <td>강원특별자치도</td>\n",
       "      <td>강릉시</td>\n",
       "      <td>LPG(액화석유가스)</td>\n",
       "      <td>승합</td>\n",
       "      <td>중형</td>\n",
       "      <td>개인용</td>\n",
       "      <td>부하검사(ASM2525)</td>\n",
       "      <td>0.00</td>\n",
       "      <td>42.00</td>\n",
       "      <td>97.00</td>\n",
       "    </tr>\n",
       "    <tr>\n",
       "      <th>3</th>\n",
       "      <td>강원특별자치도</td>\n",
       "      <td>강릉시</td>\n",
       "      <td>LPG(액화석유가스)</td>\n",
       "      <td>화물</td>\n",
       "      <td>경형</td>\n",
       "      <td>개인용</td>\n",
       "      <td>무부하검사(정지가동)</td>\n",
       "      <td>0.00</td>\n",
       "      <td>1510.00</td>\n",
       "      <td>1.86</td>\n",
       "    </tr>\n",
       "    <tr>\n",
       "      <th>4</th>\n",
       "      <td>강원특별자치도</td>\n",
       "      <td>강릉시</td>\n",
       "      <td>LPG(액화석유가스)</td>\n",
       "      <td>화물</td>\n",
       "      <td>소형</td>\n",
       "      <td>개인용</td>\n",
       "      <td>부하검사(ASM2525)</td>\n",
       "      <td>0.20</td>\n",
       "      <td>152.25</td>\n",
       "      <td>608.50</td>\n",
       "    </tr>\n",
       "    <tr>\n",
       "      <th>...</th>\n",
       "      <td>...</td>\n",
       "      <td>...</td>\n",
       "      <td>...</td>\n",
       "      <td>...</td>\n",
       "      <td>...</td>\n",
       "      <td>...</td>\n",
       "      <td>...</td>\n",
       "      <td>...</td>\n",
       "      <td>...</td>\n",
       "      <td>...</td>\n",
       "    </tr>\n",
       "    <tr>\n",
       "      <th>5445</th>\n",
       "      <td>충청북도</td>\n",
       "      <td>충주시</td>\n",
       "      <td>휘발유</td>\n",
       "      <td>승용</td>\n",
       "      <td>중형</td>\n",
       "      <td>개인용</td>\n",
       "      <td>부하검사(ASM-Idling)</td>\n",
       "      <td>0.25</td>\n",
       "      <td>34.81</td>\n",
       "      <td>414.96</td>\n",
       "    </tr>\n",
       "    <tr>\n",
       "      <th>5446</th>\n",
       "      <td>충청북도</td>\n",
       "      <td>충주시</td>\n",
       "      <td>휘발유</td>\n",
       "      <td>승용</td>\n",
       "      <td>중형</td>\n",
       "      <td>개인용</td>\n",
       "      <td>부하검사(ASM2525)</td>\n",
       "      <td>0.24</td>\n",
       "      <td>51.53</td>\n",
       "      <td>647.86</td>\n",
       "    </tr>\n",
       "    <tr>\n",
       "      <th>5447</th>\n",
       "      <td>충청북도</td>\n",
       "      <td>충주시</td>\n",
       "      <td>휘발유</td>\n",
       "      <td>승합</td>\n",
       "      <td>중형</td>\n",
       "      <td>개인용</td>\n",
       "      <td>부하검사(ASM2525)</td>\n",
       "      <td>0.00</td>\n",
       "      <td>34.00</td>\n",
       "      <td>404.00</td>\n",
       "    </tr>\n",
       "    <tr>\n",
       "      <th>5448</th>\n",
       "      <td>충청북도</td>\n",
       "      <td>충주시</td>\n",
       "      <td>휘발유</td>\n",
       "      <td>화물</td>\n",
       "      <td>소형</td>\n",
       "      <td>개인용</td>\n",
       "      <td>부하검사(ASM-Idling)</td>\n",
       "      <td>1.77</td>\n",
       "      <td>111.00</td>\n",
       "      <td>526.00</td>\n",
       "    </tr>\n",
       "    <tr>\n",
       "      <th>5449</th>\n",
       "      <td>충청북도</td>\n",
       "      <td>충주시</td>\n",
       "      <td>휘발유</td>\n",
       "      <td>화물</td>\n",
       "      <td>소형</td>\n",
       "      <td>개인용</td>\n",
       "      <td>부하검사(ASM2525)</td>\n",
       "      <td>2.40</td>\n",
       "      <td>156.00</td>\n",
       "      <td>26.00</td>\n",
       "    </tr>\n",
       "  </tbody>\n",
       "</table>\n",
       "<p>5450 rows × 10 columns</p>\n",
       "</div>"
      ],
      "text/plain": [
       "           시도 시군구_수정           연료  차종 차종유형   용도              검사방법  CO(평균)   \n",
       "0     강원특별자치도    강릉시  LPG(액화석유가스)  승용   중형  개인용        무부하검사(TSI)    0.40  \\\n",
       "1     강원특별자치도    강릉시  LPG(액화석유가스)  승합   중형  개인용       무부하검사(정지가동)    0.02   \n",
       "2     강원특별자치도    강릉시  LPG(액화석유가스)  승합   중형  개인용     부하검사(ASM2525)    0.00   \n",
       "3     강원특별자치도    강릉시  LPG(액화석유가스)  화물   경형  개인용       무부하검사(정지가동)    0.00   \n",
       "4     강원특별자치도    강릉시  LPG(액화석유가스)  화물   소형  개인용     부하검사(ASM2525)    0.20   \n",
       "...       ...    ...          ...  ..  ...  ...               ...     ...   \n",
       "5445     충청북도    충주시          휘발유  승용   중형  개인용  부하검사(ASM-Idling)    0.25   \n",
       "5446     충청북도    충주시          휘발유  승용   중형  개인용     부하검사(ASM2525)    0.24   \n",
       "5447     충청북도    충주시          휘발유  승합   중형  개인용     부하검사(ASM2525)    0.00   \n",
       "5448     충청북도    충주시          휘발유  화물   소형  개인용  부하검사(ASM-Idling)    1.77   \n",
       "5449     충청북도    충주시          휘발유  화물   소형  개인용     부하검사(ASM2525)    2.40   \n",
       "\n",
       "      HC(평균)  NOx(평균)  \n",
       "0     209.00     1.04  \n",
       "1      54.00     1.09  \n",
       "2      42.00    97.00  \n",
       "3    1510.00     1.86  \n",
       "4     152.25   608.50  \n",
       "...      ...      ...  \n",
       "5445   34.81   414.96  \n",
       "5446   51.53   647.86  \n",
       "5447   34.00   404.00  \n",
       "5448  111.00   526.00  \n",
       "5449  156.00    26.00  \n",
       "\n",
       "[5450 rows x 10 columns]"
      ]
     },
     "execution_count": 2095,
     "metadata": {},
     "output_type": "execute_result"
    }
   ],
   "source": [
    "grp_gas_lpg = gas_lpg.groupby(['시도', '시군구_수정', '연료', '차종', '차종유형', '용도', '검사방법']).agg({'무부하매연측정치1':'mean', '무부하매연측정치2':'mean', '무부하매연측정치3':'mean'}).reset_index()\n",
    "grp_gas_lpg = grp_gas_lpg.rename(columns={'무부하매연측정치1':'CO(평균)', '무부하매연측정치2':'HC(평균)', '무부하매연측정치3':'NOx(평균)'})\n",
    "grp_gas_lpg"
   ]
  },
  {
   "cell_type": "code",
   "execution_count": 2096,
   "id": "f443b31a-d559-476b-97b9-6e67ee0540ca",
   "metadata": {
    "tags": []
   },
   "outputs": [
    {
     "data": {
      "text/html": [
       "<div>\n",
       "<style scoped>\n",
       "    .dataframe tbody tr th:only-of-type {\n",
       "        vertical-align: middle;\n",
       "    }\n",
       "\n",
       "    .dataframe tbody tr th {\n",
       "        vertical-align: top;\n",
       "    }\n",
       "\n",
       "    .dataframe thead th {\n",
       "        text-align: right;\n",
       "    }\n",
       "</style>\n",
       "<table border=\"1\" class=\"dataframe\">\n",
       "  <thead>\n",
       "    <tr style=\"text-align: right;\">\n",
       "      <th></th>\n",
       "      <th>시도</th>\n",
       "      <th>시군구_수정</th>\n",
       "      <th>연료</th>\n",
       "      <th>차종</th>\n",
       "      <th>차종유형</th>\n",
       "      <th>용도</th>\n",
       "      <th>검사방법</th>\n",
       "      <th>매연(평균)</th>\n",
       "      <th>CO(평균)</th>\n",
       "      <th>HC(평균)</th>\n",
       "      <th>NOx(평균)</th>\n",
       "    </tr>\n",
       "  </thead>\n",
       "  <tbody>\n",
       "    <tr>\n",
       "      <th>0</th>\n",
       "      <td>강원특별자치도</td>\n",
       "      <td>강릉시</td>\n",
       "      <td>경유</td>\n",
       "      <td>승용</td>\n",
       "      <td>대형</td>\n",
       "      <td>개인용</td>\n",
       "      <td>무부하검사(급가속)</td>\n",
       "      <td>9.86</td>\n",
       "      <td>NaN</td>\n",
       "      <td>NaN</td>\n",
       "      <td>NaN</td>\n",
       "    </tr>\n",
       "    <tr>\n",
       "      <th>1</th>\n",
       "      <td>강원특별자치도</td>\n",
       "      <td>강릉시</td>\n",
       "      <td>경유</td>\n",
       "      <td>승용</td>\n",
       "      <td>대형</td>\n",
       "      <td>개인용</td>\n",
       "      <td>부하검사(KD-147)</td>\n",
       "      <td>6.96</td>\n",
       "      <td>NaN</td>\n",
       "      <td>NaN</td>\n",
       "      <td>NaN</td>\n",
       "    </tr>\n",
       "    <tr>\n",
       "      <th>2</th>\n",
       "      <td>강원특별자치도</td>\n",
       "      <td>강릉시</td>\n",
       "      <td>경유</td>\n",
       "      <td>승용</td>\n",
       "      <td>대형</td>\n",
       "      <td>관용</td>\n",
       "      <td>무부하검사(급가속)</td>\n",
       "      <td>8.33</td>\n",
       "      <td>NaN</td>\n",
       "      <td>NaN</td>\n",
       "      <td>NaN</td>\n",
       "    </tr>\n",
       "    <tr>\n",
       "      <th>3</th>\n",
       "      <td>강원특별자치도</td>\n",
       "      <td>강릉시</td>\n",
       "      <td>경유</td>\n",
       "      <td>승용</td>\n",
       "      <td>소형</td>\n",
       "      <td>개인용</td>\n",
       "      <td>무부하검사(급가속)</td>\n",
       "      <td>14.92</td>\n",
       "      <td>NaN</td>\n",
       "      <td>NaN</td>\n",
       "      <td>NaN</td>\n",
       "    </tr>\n",
       "    <tr>\n",
       "      <th>4</th>\n",
       "      <td>강원특별자치도</td>\n",
       "      <td>강릉시</td>\n",
       "      <td>경유</td>\n",
       "      <td>승용</td>\n",
       "      <td>소형</td>\n",
       "      <td>개인용</td>\n",
       "      <td>부하검사(KD-147)</td>\n",
       "      <td>7.00</td>\n",
       "      <td>NaN</td>\n",
       "      <td>NaN</td>\n",
       "      <td>NaN</td>\n",
       "    </tr>\n",
       "    <tr>\n",
       "      <th>...</th>\n",
       "      <td>...</td>\n",
       "      <td>...</td>\n",
       "      <td>...</td>\n",
       "      <td>...</td>\n",
       "      <td>...</td>\n",
       "      <td>...</td>\n",
       "      <td>...</td>\n",
       "      <td>...</td>\n",
       "      <td>...</td>\n",
       "      <td>...</td>\n",
       "      <td>...</td>\n",
       "    </tr>\n",
       "    <tr>\n",
       "      <th>5445</th>\n",
       "      <td>충청북도</td>\n",
       "      <td>충주시</td>\n",
       "      <td>휘발유</td>\n",
       "      <td>승용</td>\n",
       "      <td>중형</td>\n",
       "      <td>개인용</td>\n",
       "      <td>부하검사(ASM-Idling)</td>\n",
       "      <td>NaN</td>\n",
       "      <td>0.25</td>\n",
       "      <td>34.81</td>\n",
       "      <td>414.96</td>\n",
       "    </tr>\n",
       "    <tr>\n",
       "      <th>5446</th>\n",
       "      <td>충청북도</td>\n",
       "      <td>충주시</td>\n",
       "      <td>휘발유</td>\n",
       "      <td>승용</td>\n",
       "      <td>중형</td>\n",
       "      <td>개인용</td>\n",
       "      <td>부하검사(ASM2525)</td>\n",
       "      <td>NaN</td>\n",
       "      <td>0.24</td>\n",
       "      <td>51.53</td>\n",
       "      <td>647.86</td>\n",
       "    </tr>\n",
       "    <tr>\n",
       "      <th>5447</th>\n",
       "      <td>충청북도</td>\n",
       "      <td>충주시</td>\n",
       "      <td>휘발유</td>\n",
       "      <td>승합</td>\n",
       "      <td>중형</td>\n",
       "      <td>개인용</td>\n",
       "      <td>부하검사(ASM2525)</td>\n",
       "      <td>NaN</td>\n",
       "      <td>0.00</td>\n",
       "      <td>34.00</td>\n",
       "      <td>404.00</td>\n",
       "    </tr>\n",
       "    <tr>\n",
       "      <th>5448</th>\n",
       "      <td>충청북도</td>\n",
       "      <td>충주시</td>\n",
       "      <td>휘발유</td>\n",
       "      <td>화물</td>\n",
       "      <td>소형</td>\n",
       "      <td>개인용</td>\n",
       "      <td>부하검사(ASM-Idling)</td>\n",
       "      <td>NaN</td>\n",
       "      <td>1.77</td>\n",
       "      <td>111.00</td>\n",
       "      <td>526.00</td>\n",
       "    </tr>\n",
       "    <tr>\n",
       "      <th>5449</th>\n",
       "      <td>충청북도</td>\n",
       "      <td>충주시</td>\n",
       "      <td>휘발유</td>\n",
       "      <td>화물</td>\n",
       "      <td>소형</td>\n",
       "      <td>개인용</td>\n",
       "      <td>부하검사(ASM2525)</td>\n",
       "      <td>NaN</td>\n",
       "      <td>2.40</td>\n",
       "      <td>156.00</td>\n",
       "      <td>26.00</td>\n",
       "    </tr>\n",
       "  </tbody>\n",
       "</table>\n",
       "<p>12482 rows × 11 columns</p>\n",
       "</div>"
      ],
      "text/plain": [
       "           시도 시군구_수정   연료  차종 차종유형   용도              검사방법  매연(평균)  CO(평균)   \n",
       "0     강원특별자치도    강릉시   경유  승용   대형  개인용        무부하검사(급가속)    9.86     NaN  \\\n",
       "1     강원특별자치도    강릉시   경유  승용   대형  개인용      부하검사(KD-147)    6.96     NaN   \n",
       "2     강원특별자치도    강릉시   경유  승용   대형   관용        무부하검사(급가속)    8.33     NaN   \n",
       "3     강원특별자치도    강릉시   경유  승용   소형  개인용        무부하검사(급가속)   14.92     NaN   \n",
       "4     강원특별자치도    강릉시   경유  승용   소형  개인용      부하검사(KD-147)    7.00     NaN   \n",
       "...       ...    ...  ...  ..  ...  ...               ...     ...     ...   \n",
       "5445     충청북도    충주시  휘발유  승용   중형  개인용  부하검사(ASM-Idling)     NaN    0.25   \n",
       "5446     충청북도    충주시  휘발유  승용   중형  개인용     부하검사(ASM2525)     NaN    0.24   \n",
       "5447     충청북도    충주시  휘발유  승합   중형  개인용     부하검사(ASM2525)     NaN    0.00   \n",
       "5448     충청북도    충주시  휘발유  화물   소형  개인용  부하검사(ASM-Idling)     NaN    1.77   \n",
       "5449     충청북도    충주시  휘발유  화물   소형  개인용     부하검사(ASM2525)     NaN    2.40   \n",
       "\n",
       "      HC(평균)  NOx(평균)  \n",
       "0        NaN      NaN  \n",
       "1        NaN      NaN  \n",
       "2        NaN      NaN  \n",
       "3        NaN      NaN  \n",
       "4        NaN      NaN  \n",
       "...      ...      ...  \n",
       "5445   34.81   414.96  \n",
       "5446   51.53   647.86  \n",
       "5447   34.00   404.00  \n",
       "5448  111.00   526.00  \n",
       "5449  156.00    26.00  \n",
       "\n",
       "[12482 rows x 11 columns]"
      ]
     },
     "execution_count": 2096,
     "metadata": {},
     "output_type": "execute_result"
    }
   ],
   "source": [
    "grp3 = pd.concat([grp_diesel, grp_gas_lpg], ignore_index=False)\n",
    "grp3"
   ]
  },
  {
   "cell_type": "code",
   "execution_count": 2097,
   "id": "cb8f70db-9e0e-4319-86ed-1cca61bc0a15",
   "metadata": {
    "tags": []
   },
   "outputs": [],
   "source": [
    "# grp3 = df2.groupby(['시도', '시군구_수정', '연료', '차종', '차종유형', '용도']).agg({'E_CO_total':'mean', 'E_HC_total':'mean', 'E_NOx_total':'mean', 'E_PM10_total':'mean', 'E_PM2_5_total':'mean'}).reset_index()\n",
    "# grp3 = grp3.rename(columns={'E_CO_total':'E_CO_total_mean', 'E_HC_total':'E_HC_total_mean', 'E_NOx_total':'E_NOx_total_mean', 'E_PM10_total':'E_PM10_total_mean', 'E_PM2_5_total':'E_PM2_5_total_mean'})\n",
    "# grp3"
   ]
  },
  {
   "cell_type": "code",
   "execution_count": 2098,
   "id": "e56b4032-2490-40b8-997c-aa329c97d1e4",
   "metadata": {
    "tags": []
   },
   "outputs": [
    {
     "data": {
      "text/plain": [
       "'20231103'"
      ]
     },
     "execution_count": 2098,
     "metadata": {},
     "output_type": "execute_result"
    }
   ],
   "source": [
    "today_date = datetime.today().strftime(\"%Y%m%d\")\n",
    "today_date"
   ]
  },
  {
   "cell_type": "code",
   "execution_count": 2099,
   "id": "03d0080b-787d-4c77-8a2c-be355fda5656",
   "metadata": {
    "tags": []
   },
   "outputs": [],
   "source": [
    "# 연도 설정\n",
    "grp3['연도'] = today_date[:4]\n",
    "# grp3['연도'] = '2022'\n",
    "grp3['테이블생성일자'] = today_date"
   ]
  },
  {
   "cell_type": "code",
   "execution_count": 2100,
   "id": "50ab3fb1-b2f2-4657-81f9-07b954683db4",
   "metadata": {
    "tags": []
   },
   "outputs": [
    {
     "data": {
      "text/plain": [
       "['시도',\n",
       " '시군구_수정',\n",
       " '연료',\n",
       " '차종',\n",
       " '차종유형',\n",
       " '용도',\n",
       " '검사방법',\n",
       " '매연(평균)',\n",
       " 'CO(평균)',\n",
       " 'HC(평균)',\n",
       " 'NOx(평균)',\n",
       " '연도',\n",
       " '테이블생성일자']"
      ]
     },
     "execution_count": 2100,
     "metadata": {},
     "output_type": "execute_result"
    }
   ],
   "source": [
    "list(grp3.columns)"
   ]
  },
  {
   "cell_type": "code",
   "execution_count": 2101,
   "id": "801cf580-cb77-4ebb-90f2-39342e5bb809",
   "metadata": {
    "tags": []
   },
   "outputs": [],
   "source": [
    "STD_BD_DAT_GRD4_MEVLU = grp3[[\n",
    "    '연도',\n",
    "    '시도',\n",
    "    '시군구_수정',\n",
    "    '연료',\n",
    "    '차종',\n",
    "    '차종유형',\n",
    "    '용도',\n",
    "    '검사방법',\n",
    "    '매연(평균)',\n",
    "    'CO(평균)',\n",
    "    'HC(평균)',\n",
    "    'NOx(평균)',\n",
    "    '테이블생성일자', \n",
    "]]"
   ]
  },
  {
   "cell_type": "code",
   "execution_count": 2102,
   "id": "a0599cbe-4362-4caf-a87a-7be53e19d33a",
   "metadata": {
    "tags": []
   },
   "outputs": [
    {
     "data": {
      "text/html": [
       "<div>\n",
       "<style scoped>\n",
       "    .dataframe tbody tr th:only-of-type {\n",
       "        vertical-align: middle;\n",
       "    }\n",
       "\n",
       "    .dataframe tbody tr th {\n",
       "        vertical-align: top;\n",
       "    }\n",
       "\n",
       "    .dataframe thead th {\n",
       "        text-align: right;\n",
       "    }\n",
       "</style>\n",
       "<table border=\"1\" class=\"dataframe\">\n",
       "  <thead>\n",
       "    <tr style=\"text-align: right;\">\n",
       "      <th></th>\n",
       "      <th>연도</th>\n",
       "      <th>시도</th>\n",
       "      <th>시군구_수정</th>\n",
       "      <th>연료</th>\n",
       "      <th>차종</th>\n",
       "      <th>차종유형</th>\n",
       "      <th>용도</th>\n",
       "      <th>검사방법</th>\n",
       "      <th>매연(평균)</th>\n",
       "      <th>CO(평균)</th>\n",
       "      <th>HC(평균)</th>\n",
       "      <th>NOx(평균)</th>\n",
       "      <th>테이블생성일자</th>\n",
       "    </tr>\n",
       "  </thead>\n",
       "  <tbody>\n",
       "    <tr>\n",
       "      <th>0</th>\n",
       "      <td>2023</td>\n",
       "      <td>강원특별자치도</td>\n",
       "      <td>강릉시</td>\n",
       "      <td>경유</td>\n",
       "      <td>승용</td>\n",
       "      <td>대형</td>\n",
       "      <td>개인용</td>\n",
       "      <td>무부하검사(급가속)</td>\n",
       "      <td>9.86</td>\n",
       "      <td>NaN</td>\n",
       "      <td>NaN</td>\n",
       "      <td>NaN</td>\n",
       "      <td>20231103</td>\n",
       "    </tr>\n",
       "    <tr>\n",
       "      <th>1</th>\n",
       "      <td>2023</td>\n",
       "      <td>강원특별자치도</td>\n",
       "      <td>강릉시</td>\n",
       "      <td>경유</td>\n",
       "      <td>승용</td>\n",
       "      <td>대형</td>\n",
       "      <td>개인용</td>\n",
       "      <td>부하검사(KD-147)</td>\n",
       "      <td>6.96</td>\n",
       "      <td>NaN</td>\n",
       "      <td>NaN</td>\n",
       "      <td>NaN</td>\n",
       "      <td>20231103</td>\n",
       "    </tr>\n",
       "    <tr>\n",
       "      <th>2</th>\n",
       "      <td>2023</td>\n",
       "      <td>강원특별자치도</td>\n",
       "      <td>강릉시</td>\n",
       "      <td>경유</td>\n",
       "      <td>승용</td>\n",
       "      <td>대형</td>\n",
       "      <td>관용</td>\n",
       "      <td>무부하검사(급가속)</td>\n",
       "      <td>8.33</td>\n",
       "      <td>NaN</td>\n",
       "      <td>NaN</td>\n",
       "      <td>NaN</td>\n",
       "      <td>20231103</td>\n",
       "    </tr>\n",
       "    <tr>\n",
       "      <th>3</th>\n",
       "      <td>2023</td>\n",
       "      <td>강원특별자치도</td>\n",
       "      <td>강릉시</td>\n",
       "      <td>경유</td>\n",
       "      <td>승용</td>\n",
       "      <td>소형</td>\n",
       "      <td>개인용</td>\n",
       "      <td>무부하검사(급가속)</td>\n",
       "      <td>14.92</td>\n",
       "      <td>NaN</td>\n",
       "      <td>NaN</td>\n",
       "      <td>NaN</td>\n",
       "      <td>20231103</td>\n",
       "    </tr>\n",
       "    <tr>\n",
       "      <th>4</th>\n",
       "      <td>2023</td>\n",
       "      <td>강원특별자치도</td>\n",
       "      <td>강릉시</td>\n",
       "      <td>경유</td>\n",
       "      <td>승용</td>\n",
       "      <td>소형</td>\n",
       "      <td>개인용</td>\n",
       "      <td>부하검사(KD-147)</td>\n",
       "      <td>7.00</td>\n",
       "      <td>NaN</td>\n",
       "      <td>NaN</td>\n",
       "      <td>NaN</td>\n",
       "      <td>20231103</td>\n",
       "    </tr>\n",
       "    <tr>\n",
       "      <th>...</th>\n",
       "      <td>...</td>\n",
       "      <td>...</td>\n",
       "      <td>...</td>\n",
       "      <td>...</td>\n",
       "      <td>...</td>\n",
       "      <td>...</td>\n",
       "      <td>...</td>\n",
       "      <td>...</td>\n",
       "      <td>...</td>\n",
       "      <td>...</td>\n",
       "      <td>...</td>\n",
       "      <td>...</td>\n",
       "      <td>...</td>\n",
       "    </tr>\n",
       "    <tr>\n",
       "      <th>5445</th>\n",
       "      <td>2023</td>\n",
       "      <td>충청북도</td>\n",
       "      <td>충주시</td>\n",
       "      <td>휘발유</td>\n",
       "      <td>승용</td>\n",
       "      <td>중형</td>\n",
       "      <td>개인용</td>\n",
       "      <td>부하검사(ASM-Idling)</td>\n",
       "      <td>NaN</td>\n",
       "      <td>0.25</td>\n",
       "      <td>34.81</td>\n",
       "      <td>414.96</td>\n",
       "      <td>20231103</td>\n",
       "    </tr>\n",
       "    <tr>\n",
       "      <th>5446</th>\n",
       "      <td>2023</td>\n",
       "      <td>충청북도</td>\n",
       "      <td>충주시</td>\n",
       "      <td>휘발유</td>\n",
       "      <td>승용</td>\n",
       "      <td>중형</td>\n",
       "      <td>개인용</td>\n",
       "      <td>부하검사(ASM2525)</td>\n",
       "      <td>NaN</td>\n",
       "      <td>0.24</td>\n",
       "      <td>51.53</td>\n",
       "      <td>647.86</td>\n",
       "      <td>20231103</td>\n",
       "    </tr>\n",
       "    <tr>\n",
       "      <th>5447</th>\n",
       "      <td>2023</td>\n",
       "      <td>충청북도</td>\n",
       "      <td>충주시</td>\n",
       "      <td>휘발유</td>\n",
       "      <td>승합</td>\n",
       "      <td>중형</td>\n",
       "      <td>개인용</td>\n",
       "      <td>부하검사(ASM2525)</td>\n",
       "      <td>NaN</td>\n",
       "      <td>0.00</td>\n",
       "      <td>34.00</td>\n",
       "      <td>404.00</td>\n",
       "      <td>20231103</td>\n",
       "    </tr>\n",
       "    <tr>\n",
       "      <th>5448</th>\n",
       "      <td>2023</td>\n",
       "      <td>충청북도</td>\n",
       "      <td>충주시</td>\n",
       "      <td>휘발유</td>\n",
       "      <td>화물</td>\n",
       "      <td>소형</td>\n",
       "      <td>개인용</td>\n",
       "      <td>부하검사(ASM-Idling)</td>\n",
       "      <td>NaN</td>\n",
       "      <td>1.77</td>\n",
       "      <td>111.00</td>\n",
       "      <td>526.00</td>\n",
       "      <td>20231103</td>\n",
       "    </tr>\n",
       "    <tr>\n",
       "      <th>5449</th>\n",
       "      <td>2023</td>\n",
       "      <td>충청북도</td>\n",
       "      <td>충주시</td>\n",
       "      <td>휘발유</td>\n",
       "      <td>화물</td>\n",
       "      <td>소형</td>\n",
       "      <td>개인용</td>\n",
       "      <td>부하검사(ASM2525)</td>\n",
       "      <td>NaN</td>\n",
       "      <td>2.40</td>\n",
       "      <td>156.00</td>\n",
       "      <td>26.00</td>\n",
       "      <td>20231103</td>\n",
       "    </tr>\n",
       "  </tbody>\n",
       "</table>\n",
       "<p>12482 rows × 13 columns</p>\n",
       "</div>"
      ],
      "text/plain": [
       "        연도       시도 시군구_수정   연료  차종 차종유형   용도              검사방법  매연(평균)   \n",
       "0     2023  강원특별자치도    강릉시   경유  승용   대형  개인용        무부하검사(급가속)    9.86  \\\n",
       "1     2023  강원특별자치도    강릉시   경유  승용   대형  개인용      부하검사(KD-147)    6.96   \n",
       "2     2023  강원특별자치도    강릉시   경유  승용   대형   관용        무부하검사(급가속)    8.33   \n",
       "3     2023  강원특별자치도    강릉시   경유  승용   소형  개인용        무부하검사(급가속)   14.92   \n",
       "4     2023  강원특별자치도    강릉시   경유  승용   소형  개인용      부하검사(KD-147)    7.00   \n",
       "...    ...      ...    ...  ...  ..  ...  ...               ...     ...   \n",
       "5445  2023     충청북도    충주시  휘발유  승용   중형  개인용  부하검사(ASM-Idling)     NaN   \n",
       "5446  2023     충청북도    충주시  휘발유  승용   중형  개인용     부하검사(ASM2525)     NaN   \n",
       "5447  2023     충청북도    충주시  휘발유  승합   중형  개인용     부하검사(ASM2525)     NaN   \n",
       "5448  2023     충청북도    충주시  휘발유  화물   소형  개인용  부하검사(ASM-Idling)     NaN   \n",
       "5449  2023     충청북도    충주시  휘발유  화물   소형  개인용     부하검사(ASM2525)     NaN   \n",
       "\n",
       "      CO(평균)  HC(평균)  NOx(평균)   테이블생성일자  \n",
       "0        NaN     NaN      NaN  20231103  \n",
       "1        NaN     NaN      NaN  20231103  \n",
       "2        NaN     NaN      NaN  20231103  \n",
       "3        NaN     NaN      NaN  20231103  \n",
       "4        NaN     NaN      NaN  20231103  \n",
       "...      ...     ...      ...       ...  \n",
       "5445    0.25   34.81   414.96  20231103  \n",
       "5446    0.24   51.53   647.86  20231103  \n",
       "5447    0.00   34.00   404.00  20231103  \n",
       "5448    1.77  111.00   526.00  20231103  \n",
       "5449    2.40  156.00    26.00  20231103  \n",
       "\n",
       "[12482 rows x 13 columns]"
      ]
     },
     "execution_count": 2102,
     "metadata": {},
     "output_type": "execute_result"
    }
   ],
   "source": [
    "STD_BD_DAT_GRD4_MEVLU"
   ]
  },
  {
   "cell_type": "code",
   "execution_count": 2103,
   "id": "3050936d-aac2-40b4-84f2-8d354edca52a",
   "metadata": {
    "tags": []
   },
   "outputs": [
    {
     "data": {
      "text/plain": [
       "Index(['YR', 'CTPV', 'SGG', 'FUEL_CD', 'VHCTY_CD', 'VHCTY_TY', 'PURPS_CD2',\n",
       "       'INSP_MTHD', 'SMO_MEVLU_AVRG', 'CO_MEVLU_AVRG', 'HC_MEVLU_AVRG',\n",
       "       'NOx_MEVLU_AVRG', 'LOAD_DT'],\n",
       "      dtype='object')"
      ]
     },
     "execution_count": 2103,
     "metadata": {},
     "output_type": "execute_result"
    }
   ],
   "source": [
    "cdict = {\n",
    "    '연도':'YR',\n",
    "    '시도':'CTPV',\n",
    "    '시군구_수정':'SGG',\n",
    "    '연료':'FUEL_CD',\n",
    "    '차종':'VHCTY_CD',\n",
    "    '차종유형':'VHCTY_TY',\n",
    "    '용도':'PURPS_CD2',\n",
    "    '검사방법':'INSP_MTHD',\n",
    "    '매연(평균)':'SMO_MEVLU_AVRG',\n",
    "    'CO(평균)':'CO_MEVLU_AVRG',\n",
    "    'HC(평균)':'HC_MEVLU_AVRG',\n",
    "    'NOx(평균)':'NOx_MEVLU_AVRG',\n",
    "    '테이블생성일자':'LOAD_DT',\n",
    "}\n",
    "STD_BD_DAT_GRD4_MEVLU = STD_BD_DAT_GRD4_MEVLU.rename(columns=cdict)\n",
    "STD_BD_DAT_GRD4_MEVLU.columns"
   ]
  },
  {
   "cell_type": "code",
   "execution_count": 2088,
   "id": "88c1277f-6126-4fec-9881-cc95f090c279",
   "metadata": {
    "tags": []
   },
   "outputs": [],
   "source": [
    "# !!! 수정 끝(2023.11.03)"
   ]
  },
  {
   "cell_type": "markdown",
   "id": "2eead325-8674-42fb-8d41-aba5538c569d",
   "metadata": {},
   "source": [
    "### [출력] STD_BD_DAT_GRD4_MEVLU"
   ]
  },
  {
   "cell_type": "code",
   "execution_count": 2104,
   "id": "8169f3c5-b55b-425d-bef7-e3c0fc272e4e",
   "metadata": {},
   "outputs": [
    {
     "name": "stdout",
     "output_type": "stream",
     "text": [
      "data export : STD_BD_DAT_GRD4_MEVLU\n"
     ]
    }
   ],
   "source": [
    "# expdf = STD_BD_DAT_GRD4_MEVLU\n",
    "# table_nm = 'STD_BD_DAT_GRD4_MEVLU'.upper()\n",
    "\n",
    "# # 테이블 생성\n",
    "# sql = 'create or replace table ' + table_nm + '( \\n'\n",
    "\n",
    "# for idx,column in enumerate(expdf.columns):\n",
    "#     # if 'float' in expdf[column].dtype.name:\n",
    "#     #     sql += column + ' float'\n",
    "#     # elif 'int' in expdf[column].dtype.name:\n",
    "#     #     sql += column + ' number'\n",
    "#     # else:\n",
    "#     sql += column + ' varchar(255)'\n",
    "\n",
    "#     if len(expdf.columns) - 1 != idx:\n",
    "#         sql += ','\n",
    "#     sql += '\\n'\n",
    "# sql += ')'    \n",
    "# we.execute(sql)\n",
    "\n",
    "# # 데이터 추가\n",
    "# # 30.7s\n",
    "# we.import_from_pandas(expdf, table_nm)\n",
    "\n",
    "# print(f'data export : {table_nm}')"
   ]
  },
  {
   "cell_type": "markdown",
   "id": "a1050385-f6ce-4e6d-b9aa-5cd69b8565e4",
   "metadata": {},
   "source": [
    "## 1-3 code end ##################################################################"
   ]
  },
  {
   "cell_type": "markdown",
   "id": "7fdcab26-932e-413e-ad5c-9faee47f2564",
   "metadata": {},
   "source": [
    "## 3-1 start"
   ]
  },
  {
   "cell_type": "code",
   "execution_count": 2105,
   "id": "d301f8dd-9328-4f3f-8080-0e4142f1a868",
   "metadata": {},
   "outputs": [
    {
     "name": "stderr",
     "output_type": "stream",
     "text": [
      "/home/svradm/miniconda3/lib/python3.8/site-packages/pyexasol/callback.py:42: DtypeWarning: Columns (9) have mixed types. Specify dtype option on import or set low_memory=False.\n",
      "  return pandas.read_csv(pipe, skip_blank_lines=False, **kwargs)\n"
     ]
    }
   ],
   "source": [
    "## 전체 등록정보(STD_CEG_CAR_MIG)\n",
    "# exasol db\n",
    "# 4m 21s\n",
    "car = wd.export_to_pandas(\"SELECT VIN, BSPL_STDG_CD, EXHST_GAS_GRD_CD, EXHST_GAS_CERT_NO, VHCL_ERSR_YN, MANP_MNG_NO, YRIDNW, VHCTY_CD, PURPS_CD2, FRST_REG_YMD, VHCL_MNG_NO FROM STD_CEG_CAR_MIG;\")\n",
    "car_ch_col = {\n",
    "    'VIN':'차대번호', \n",
    "    'BSPL_STDG_CD':'법정동코드', \n",
    "    'EXHST_GAS_GRD_CD':'배출가스등급', \n",
    "    'EXHST_GAS_CERT_NO':'배출가스인증번호',\n",
    "    'VHCL_ERSR_YN':'차량말소YN',\n",
    "    'MANP_MNG_NO':'제원관리번호', \n",
    "    'YRIDNW':'차량연식', \n",
    "    'VHCTY_CD':'차종', \n",
    "    'PURPS_CD2':'용도', \n",
    "    'FRST_REG_YMD':'최초등록일자',\n",
    "    'VHCL_MNG_NO':'차량관리번호'\n",
    "}\n",
    "carr = car.rename(columns=car_ch_col)"
   ]
  },
  {
   "cell_type": "code",
   "execution_count": 2106,
   "id": "35346485-dad5-41df-937c-c4747635378b",
   "metadata": {},
   "outputs": [],
   "source": [
    "## 중복 차대번호 제거\n",
    "carr['최초등록일자'] = pd.to_numeric(carr['최초등록일자'], errors='coerce')\n",
    "carr = carr.sort_values('최초등록일자', ascending=False).drop_duplicates('차대번호').reset_index(drop=True)"
   ]
  },
  {
   "cell_type": "code",
   "execution_count": 2107,
   "id": "f250a76a-41d5-4c3b-84c8-6f2b75eb8c01",
   "metadata": {},
   "outputs": [],
   "source": [
    "## 배출가스등급 코드 변환\n",
    "grd_dict = {\n",
    "    'A0501':'1', \n",
    "    'A0502':'2', \n",
    "    'A0503':'3', \n",
    "    'A0504':'4', \n",
    "    'A0505':'5', \n",
    "    'A05T2':'2',\n",
    "    'A05T3':'3', \n",
    "    'A05T4':'4', \n",
    "    'A05T5':'5', \n",
    "    'A05X':'X', \n",
    "}\n",
    "carr['배출가스등급'] = carr['배출가스등급'].replace(grd_dict)\n",
    "\n",
    "## 차종 코드 변환\n",
    "cd_dict = {\n",
    "    'A31M':'이륜', \n",
    "    'A31P':'승용', \n",
    "    'A31S':'특수', \n",
    "    'A31T':'화물', \n",
    "    'A31V':'승합'\n",
    "}\n",
    "carr['차종'] = carr['차종'].replace(cd_dict)\n",
    "\n",
    "## 용도 코드 변환\n",
    "purps_dict = {\n",
    "    'A08P':'개인용', \n",
    "    'A08B':'영업용', \n",
    "    'A08O':'관용',\n",
    "}\n",
    "carr['용도'] = carr['용도'].replace(purps_dict)\n",
    "\n",
    "## 등록정보 말소 제거\n",
    "carm = carr[carr['차량말소YN'] == 'N'].reset_index(drop=True)"
   ]
  },
  {
   "cell_type": "code",
   "execution_count": 2108,
   "id": "2ab90c47-6e40-4dba-a256-31080a157da2",
   "metadata": {},
   "outputs": [
    {
     "data": {
      "text/plain": [
       "(25865997, 22)"
      ]
     },
     "execution_count": 2108,
     "metadata": {},
     "output_type": "execute_result"
    }
   ],
   "source": [
    "## 등록&제원 병합\n",
    "# 19.4s\n",
    "cs = carm.merge(srcr, on='제원관리번호', how='left')\n",
    "cs.shape"
   ]
  },
  {
   "cell_type": "code",
   "execution_count": 2109,
   "id": "fb1f577a-df97-43a4-a161-d3693682c065",
   "metadata": {},
   "outputs": [],
   "source": [
    "cs['법정동코드'] = cs['법정동코드'].astype('str')\n",
    "cs['법정동코드'] = cs['법정동코드'].str[:5] + '00000'\n",
    "cs['법정동코드'] = pd.to_numeric(cs['법정동코드'])"
   ]
  },
  {
   "cell_type": "code",
   "execution_count": 2110,
   "id": "25654061-8e72-4355-8d52-471a0e49ca0e",
   "metadata": {},
   "outputs": [],
   "source": [
    "## 등록&제원&법정동코드 병합(df)\n",
    "df = cs.merge(coder, on='법정동코드', how='left')"
   ]
  },
  {
   "cell_type": "code",
   "execution_count": 2111,
   "id": "3a820df0-8176-4900-bcaa-7c81d4fbee8a",
   "metadata": {},
   "outputs": [
    {
     "data": {
      "text/plain": [
       "0"
      ]
     },
     "execution_count": 2111,
     "metadata": {},
     "output_type": "execute_result"
    }
   ],
   "source": [
    "df['시도'].isnull().sum()"
   ]
  },
  {
   "cell_type": "code",
   "execution_count": 2112,
   "id": "1167a32f-0269-44fd-8302-adae9c6c80b3",
   "metadata": {},
   "outputs": [],
   "source": [
    "# ### 매칭 안되는 지역 처리\n",
    "# # 주소 수정\n",
    "# df.loc[df['법정동코드'] == 5172035031, ['시도', '시군구']] = ['강원특별자치도', '홍천군'] # 강원특별자치도 홍천군\n",
    "# df.loc[df['법정동코드'] == 5180031023, ['시도', '시군구']] = ['강원특별자치도', '양구군'] # \n",
    "# df.loc[df['법정동코드'] == 5180031031, ['시도', '시군구']] = ['강원특별자치도', '양구군'] # \n",
    "# df.loc[df['법정동코드'] == 5172035030, ['시도', '시군구']] = ['강원특별자치도', '홍천군'] # \n",
    "# df.loc[df['법정동코드'] == 5180031028, ['시도', '시군구']] = ['강원특별자치도', '양구군'] # \n",
    "\n",
    "# df.loc[df['법정동코드'] == 5172035021, ['시도', '시군구']] = ['강원특별자치도', '홍천군'] # \n",
    "# df.loc[df['법정동코드'] == 5180031025, ['시도', '시군구']] = ['강원특별자치도', '양구군'] # \n",
    "# df.loc[df['법정동코드'] == 4165052000, ['시도', '시군구']] = ['경기도', '포천시'] # 경기도 포천시 선단동\n",
    "# df.loc[df['법정동코드'] == 5172035023, ['시도', '시군구']] = ['강원특별자치도', '홍천군'] # \n",
    "# df.loc[df['법정동코드'] == 5180031027, ['시도', '시군구']] = ['강원특별자치도', '양구군'] # \n",
    "\n",
    "# df.loc[df['법정동코드'] == 5172035024, ['시도', '시군구']] = ['강원특별자치도', '홍천군'] # \n",
    "# df.loc[df['법정동코드'] == 5175037022, ['시도', '시군구']] = ['강원특별자치도', '영월군'] # \n",
    "# df.loc[df['법정동코드'] == 4163055000, ['시도', '시군구']] = ['경기도', '양주시'] # 경기도 양주시 회천3동\n",
    "# df.loc[df['법정동코드'] == 5180031033, ['시도', '시군구']] = ['강원특별자치도', '양구군'] # 경기도 양주시 회천3동"
   ]
  },
  {
   "cell_type": "code",
   "execution_count": 2113,
   "id": "a9153b39-f86c-4af6-8f6b-e4f243048ba3",
   "metadata": {
    "tags": []
   },
   "outputs": [],
   "source": [
    "# rdf = df.copy()\n",
    "# rdf['법정동코드'] = rdf['법정동코드'].astype('str')\n",
    "# rdf.loc[rdf['시도'].isnull() == True, '법정동코드'] = rdf.loc[rdf['시도'].isnull() == True, '법정동코드'].str[:5] + '00000'\n",
    "# rdf['법정동코드'] = pd.to_numeric(rdf['법정동코드'])\n",
    "\n",
    "# rdfy = rdf[rdf['시도'].isnull() == False]\n",
    "# rdfn = rdf[rdf['시도'].isnull() == True]\n",
    "\n",
    "# rdfn = rdfn.drop(['시도', '시군구'], axis=1)\n",
    "# rdfnm = rdfn.merge(coder, on='법정동코드', how='left')\n",
    "\n",
    "# df = pd.concat([rdfy, rdfnm], ignore_index=False)"
   ]
  },
  {
   "cell_type": "code",
   "execution_count": 2114,
   "id": "a86e3be9-93a6-4ebe-82b0-66cbeb2d8640",
   "metadata": {},
   "outputs": [],
   "source": [
    "## 등록(말소 유지) & 제원 병합\n",
    "# 10.3s\n",
    "cse = carr.merge(srcr, on='제원관리번호', how='left')"
   ]
  },
  {
   "cell_type": "code",
   "execution_count": 2115,
   "id": "11355dc9-65d4-4d2d-8191-d4db5fb49ab4",
   "metadata": {},
   "outputs": [],
   "source": [
    "## 등록&제원&이력 병합\n",
    "# 2m 6.0s\n",
    "ersr = cse.merge(hisr, on='차량관리번호', how='left')"
   ]
  },
  {
   "cell_type": "code",
   "execution_count": 2116,
   "id": "3ca9c28a-06a8-48c4-b450-1bcdbde7223c",
   "metadata": {},
   "outputs": [],
   "source": [
    "# 1. 등록 차량말소와 등록이력 차량 말소 둘 모두 해당되는 데이터 추출\n",
    "ersr = ersr.loc[(ersr['차량말소YN_x'] == 'Y') & (ersr['차량말소YN_y'] == 'Y')].reset_index(drop=True)"
   ]
  },
  {
   "cell_type": "code",
   "execution_count": 2117,
   "id": "a8b3b0cc-09b0-469d-ae79-8efb27feeb0b",
   "metadata": {},
   "outputs": [],
   "source": [
    "# 2. 변경일자 기준 최신 데이터만 남기고 차대번호 중복 제거\n",
    "ersr = ersr.sort_values('변경일자', ascending=False).drop_duplicates('차대번호').reset_index(drop=True)"
   ]
  },
  {
   "cell_type": "code",
   "execution_count": 2118,
   "id": "c74fa3fd-2de8-432f-89be-a66da379f2f3",
   "metadata": {},
   "outputs": [],
   "source": [
    "# 3. 변경일자 2019.01.01 이후만 추출\n",
    "ersr = ersr[ersr['변경일자'] >= 20190101].reset_index(drop=True)"
   ]
  },
  {
   "cell_type": "code",
   "execution_count": 2119,
   "id": "ced5d0a7-516b-4d8b-9b8f-36205d2241d2",
   "metadata": {},
   "outputs": [],
   "source": [
    "ersr['법정동코드'] = ersr['법정동코드'].astype('str')\n",
    "ersr['법정동코드'] = ersr['법정동코드'].str[:5] + '00000'\n",
    "ersr['법정동코드'] = pd.to_numeric(ersr['법정동코드'])"
   ]
  },
  {
   "cell_type": "code",
   "execution_count": 2120,
   "id": "efb1c828-6f13-4907-95a8-304bfcb582ed",
   "metadata": {},
   "outputs": [],
   "source": [
    "## 등록&제원&이력&법정동코드 병합(errc)\n",
    "# 매칭 후 '시도' 빈값 없음\n",
    "errc = ersr.merge(coder, on='법정동코드', how='left')"
   ]
  },
  {
   "cell_type": "code",
   "execution_count": 2121,
   "id": "48293d99-68ad-456a-9153-9ea2b41df066",
   "metadata": {},
   "outputs": [
    {
     "data": {
      "text/plain": [
       "0"
      ]
     },
     "execution_count": 2121,
     "metadata": {},
     "output_type": "execute_result"
    }
   ],
   "source": [
    "errc['시도'].isnull().sum()"
   ]
  },
  {
   "cell_type": "code",
   "execution_count": 2122,
   "id": "9e26fd39-f28d-4a2d-95e1-e74805af85f5",
   "metadata": {},
   "outputs": [],
   "source": [
    "# 분석\n",
    "## 연료 하이브리드 수정\n",
    "# about 23.6s\n",
    "df.loc[(df['연료'] == '휘발유') | (df['연료'] == '휘발유 하이브리드'), 'fuel'] = '휘발유'\n",
    "df.loc[(df['연료'] == '경유') | (df['연료'] == '경유 하이브리드'), 'fuel'] = '경유'\n",
    "df.loc[(df['연료'] == 'LPG(액화석유가스)') | (df['연료'] == 'LPG 하이브리드'), 'fuel'] = 'LPG'\n",
    "df.loc[(df['연료'] == 'CNG(압축천연가스)') | (df['연료'] == 'CNG 하이브리드'), 'fuel'] = 'CNG'\n",
    "df.loc[(df['연료'] == 'LNG(액화천연가스)') | (df['연료'] == 'LNG 하이브리드'), 'fuel'] = 'LNG'\n",
    "df.loc[df['연료'] == '전기', 'fuel'] = '전기'\n",
    "df.loc[df['연료'] == '수소', 'fuel'] = '수소'\n",
    "df.loc[df['연료'] == '태양열', 'fuel'] = '태양열'\n",
    "df.loc[df['연료'] == '알코올', 'fuel'] = '알코올'\n",
    "df.loc[df['연료'] == '등유', 'fuel'] = '등유'\n",
    "df.loc[df['연료'] == '기타연료', 'fuel'] = '기타연료'\n",
    "df.loc[df['연료'].isnull() == True, 'fuel'] = np.nan"
   ]
  },
  {
   "cell_type": "code",
   "execution_count": 2123,
   "id": "ccb43775-4191-4d0e-8213-ba850bcc5dee",
   "metadata": {},
   "outputs": [],
   "source": [
    "# about 23.6s\n",
    "df.loc[(df['연료'] == '휘발유') | (df['연료'] == '휘발유 하이브리드'), 'fuel2'] = '휘발유'\n",
    "df.loc[(df['연료'] == '경유') | (df['연료'] == '경유 하이브리드'), 'fuel2'] = '경유'\n",
    "df.loc[(df['연료'] == 'LPG(액화석유가스)') | (df['연료'] == 'LPG 하이브리드'), 'fuel2'] = 'LPG(액화석유가스)'\n",
    "df.loc[(df['연료'] == 'CNG(압축천연가스)') | (df['연료'] == 'CNG 하이브리드'), 'fuel2'] = '기타'\n",
    "df.loc[(df['연료'] == 'LNG(액화천연가스)') | (df['연료'] == 'LNG 하이브리드'), 'fuel2'] = '기타'\n",
    "df.loc[(df['연료'] == '전기') | (df['연료'] == '수소'), 'fuel2'] = '전기수소'\n",
    "df.loc[df['연료'] == '태양열', 'fuel2'] = '기타'\n",
    "df.loc[df['연료'] == '알코올', 'fuel2'] = '기타'\n",
    "df.loc[df['연료'] == '등유', 'fuel2'] = '기타'\n",
    "df.loc[df['연료'] == '기타연료', 'fuel2'] = '기타'\n",
    "df.loc[df['연료'].isnull() == True, 'fuel2'] = '기타'"
   ]
  },
  {
   "cell_type": "code",
   "execution_count": 2124,
   "id": "55a90519-c059-42c4-8573-22a31f56c790",
   "metadata": {},
   "outputs": [],
   "source": [
    "# about 3.3s\n",
    "errc.loc[(errc['연료'] == '휘발유') | (errc['연료'] == '휘발유 하이브리드'), 'fuel'] = '휘발유'\n",
    "errc.loc[(errc['연료'] == '경유') | (errc['연료'] == '경유 하이브리드'), 'fuel'] = '경유'\n",
    "errc.loc[(errc['연료'] == 'LPG(액화석유가스)') | (errc['연료'] == 'LPG 하이브리드'), 'fuel'] = 'LPG'\n",
    "errc.loc[(errc['연료'] == 'CNG(압축천연가스)') | (errc['연료'] == 'CNG 하이브리드'), 'fuel'] = 'CNG'\n",
    "errc.loc[(errc['연료'] == 'LNG(액화천연가스)') | (errc['연료'] == 'LNG 하이브리드'), 'fuel'] = 'LNG'\n",
    "errc.loc[errc['연료'] == '전기', 'fuel'] = '전기'\n",
    "errc.loc[errc['연료'] == '수소', 'fuel'] = '수소'\n",
    "errc.loc[errc['연료'] == '태양열', 'fuel'] = '태양열'\n",
    "errc.loc[errc['연료'] == '알코올', 'fuel'] = '알코올'\n",
    "errc.loc[errc['연료'] == '등유', 'fuel'] = '등유'\n",
    "errc.loc[errc['연료'] == '기타연료', 'fuel'] = '기타연료'\n",
    "errc.loc[errc['연료'].isnull() == True, 'fuel'] = np.nan"
   ]
  },
  {
   "cell_type": "code",
   "execution_count": 2125,
   "id": "23669e78-e047-45f3-8e02-865a329f7e1f",
   "metadata": {},
   "outputs": [],
   "source": [
    "# about 23.6s\n",
    "errc.loc[(errc['연료'] == '휘발유') | (errc['연료'] == '휘발유 하이브리드'), 'fuel2'] = '휘발유'\n",
    "errc.loc[(errc['연료'] == '경유') | (errc['연료'] == '경유 하이브리드'), 'fuel2'] = '경유'\n",
    "errc.loc[(errc['연료'] == 'LPG(액화석유가스)') | (errc['연료'] == 'LPG 하이브리드'), 'fuel2'] = 'LPG(액화석유가스)'\n",
    "errc.loc[(errc['연료'] == 'CNG(압축천연가스)') | (errc['연료'] == 'CNG 하이브리드'), 'fuel2'] = '기타'\n",
    "errc.loc[(errc['연료'] == 'LNG(액화천연가스)') | (errc['연료'] == 'LNG 하이브리드'), 'fuel2'] = '기타'\n",
    "errc.loc[(errc['연료'] == '전기') | (errc['연료'] == '수소'), 'fuel2'] = '전기수소'\n",
    "errc.loc[errc['연료'] == '태양열', 'fuel2'] = '기타'\n",
    "errc.loc[errc['연료'] == '알코올', 'fuel2'] = '기타'\n",
    "errc.loc[errc['연료'] == '등유', 'fuel2'] = '기타'\n",
    "errc.loc[errc['연료'] == '기타연료', 'fuel2'] = '기타'\n",
    "errc.loc[errc['연료'].isnull() == True, 'fuel2'] = '기타'"
   ]
  },
  {
   "cell_type": "code",
   "execution_count": 2126,
   "id": "1a5b92cd-d7a9-49f0-8b19-55401286c970",
   "metadata": {},
   "outputs": [],
   "source": [
    "# 6s\n",
    "# 수도권 : 서울특별시, 인천광역시, 경기도\n",
    "# 비수도권 : 수도권 외\n",
    "df.loc[(df['시도'] == '서울특별시') | (df['시도'] == '인천광역시') | (df['시도'] == '경기도'), '지역'] = '수도권'\n",
    "df['지역'] = df['지역'].fillna('비수도권')"
   ]
  },
  {
   "cell_type": "code",
   "execution_count": 2127,
   "id": "28f3cc8a-7a05-4098-9840-b695fcbd1614",
   "metadata": {},
   "outputs": [],
   "source": [
    "dfm = df.copy()\n",
    "dfm['최초등록일자'] = dfm['최초등록일자'].astype('str')\n",
    "dfm['최초등록일자_년'] = dfm['최초등록일자'].str[:4]\n",
    "dfm['최초등록일자_월'] = dfm['최초등록일자'].str[4:6]\n",
    "dfm['최초등록일자_일'] = dfm['최초등록일자'].str[6:8]"
   ]
  },
  {
   "cell_type": "code",
   "execution_count": 2128,
   "id": "628ec0f8-95ee-4424-acae-4561ea433c88",
   "metadata": {},
   "outputs": [],
   "source": [
    "# 시군구명 앞쪽 지역명만 남기기(dfm)\n",
    "dfm['시군구_수정'] = dfm['시군구'].str.split(' ').str[0]"
   ]
  },
  {
   "cell_type": "code",
   "execution_count": 2129,
   "id": "f8a6df3c-bed6-462e-a255-4d25e542d90b",
   "metadata": {},
   "outputs": [],
   "source": [
    "# 수도권 : 서울특별시, 인천광역시, 경기도\n",
    "# 비수도권 : 수도권 외\n",
    "errc.loc[(errc['시도'] == '서울특별시') | (errc['시도'] == '인천광역시') | (errc['시도'] == '경기도'), '지역'] = '수도권'\n",
    "errc['지역'] = errc['지역'].fillna('비수도권')\n",
    "errc['변경일자'] = errc['변경일자'].astype('str')\n",
    "errc['변경일자_년'] = errc['변경일자'].str[:4]\n",
    "errc['변경일자_월'] = errc['변경일자'].str[4:6]\n",
    "errc['변경일자_일'] = errc['변경일자'].str[6:8]\n",
    "errc['변경일자'] = errc['변경일자_년'] + errc['변경일자_월'] + errc['변경일자_일']"
   ]
  },
  {
   "cell_type": "code",
   "execution_count": 2130,
   "id": "61ba4426-c0d4-4489-88ea-40ed72452aba",
   "metadata": {},
   "outputs": [],
   "source": [
    "# 시군구명 앞쪽 지역명만 남기기(errc)\n",
    "errc['시군구_수정'] = errc['시군구'].str.split(' ').str[0]"
   ]
  },
  {
   "cell_type": "code",
   "execution_count": 2131,
   "id": "cbef1fbf-d2a8-42dc-8b2b-4113706e3e08",
   "metadata": {},
   "outputs": [],
   "source": [
    "# 2m 41.5s \n",
    "# 경유, 휘발유, LPG, 전기, 수소만 추출\n",
    "dfm2 = dfm.loc[(dfm['fuel'] == '경유') | (dfm['fuel'] == '휘발유') | (dfm['fuel'] == 'LPG') | (dfm['fuel'] == '전기') | (dfm['fuel'] == '수소')].reset_index(drop=True)\n",
    "errc2 = errc.loc[(errc['fuel'] == '경유') | (errc['fuel'] == '휘발유') | (errc['fuel'] == 'LPG') | (errc['fuel'] == '전기') | (errc['fuel'] == '수소')].reset_index(drop=True)"
   ]
  },
  {
   "cell_type": "code",
   "execution_count": 2132,
   "id": "8c049560-264c-4013-a9c8-750a017c01ff",
   "metadata": {},
   "outputs": [
    {
     "data": {
      "text/plain": [
       "2023"
      ]
     },
     "execution_count": 2132,
     "metadata": {},
     "output_type": "execute_result"
    }
   ],
   "source": [
    "## 등급, 지역별 차량현황\n",
    "# 연도 설정\n",
    "today_date = datetime.today().strftime(\"%Y%m%d\")\n",
    "# year = 2022\n",
    "year = int(today_date[:4])\n",
    "year"
   ]
  },
  {
   "cell_type": "code",
   "execution_count": 2133,
   "id": "723abf5c-7c91-4a81-8aeb-d7f60473f9e8",
   "metadata": {},
   "outputs": [],
   "source": [
    "# 2022년 차량 대수\n",
    "grp1 = dfm.groupby(['지역', '시도', '배출가스등급'], as_index=False)['차대번호'].count()\n",
    "grp1 = grp1.rename(columns={'차대번호':'차량대수'})\n",
    "grp1['연도'] = f'{year}'\n",
    "grp1 = grp1[['연도', '지역', '시도', '배출가스등급', '차량대수']]"
   ]
  },
  {
   "cell_type": "code",
   "execution_count": 2134,
   "id": "0ed7ace0-e030-48b9-ba59-b0ae104c772c",
   "metadata": {},
   "outputs": [],
   "source": [
    "# 차량 통계 기본 데이터셋\n",
    "yr_list = []\n",
    "rgn_list = []\n",
    "ctpv_list = []\n",
    "grd_list = []\n",
    "for ctpv in grp1['시도'].unique():\n",
    "    if ('서울특별시' in ctpv) or ('인천광역시' in ctpv) or ('경기도' in ctpv):\n",
    "        rgn = '수도권'\n",
    "    else:\n",
    "        rgn = '비수도권'\n",
    "    for grd in ['1', '2', '3', '4', '5', 'X']:\n",
    "        for yr in range(2019, year + 1):\n",
    "            yr_list.append(str(yr))\n",
    "            rgn_list.append(rgn)\n",
    "            ctpv_list.append(ctpv)\n",
    "            grd_list.append(grd)\n",
    "base = pd.DataFrame({'연도':yr_list, '지역':rgn_list, '시도':ctpv_list, '배출가스등급':grd_list})"
   ]
  },
  {
   "cell_type": "code",
   "execution_count": 2135,
   "id": "85fae314-e93b-4ca9-842e-91d3202d2244",
   "metadata": {},
   "outputs": [],
   "source": [
    "# 연도별 등록대수\n",
    "grp2 = dfm.groupby(['최초등록일자_년', '지역', '시도', '배출가스등급'], as_index=False)['차대번호'].count()\n",
    "grp2 = grp2.rename(columns={'최초등록일자_년':'연도', '차대번호':'등록대수'})"
   ]
  },
  {
   "cell_type": "code",
   "execution_count": 2136,
   "id": "1cdb63c6-07b4-4a52-8437-765bc06a8cb2",
   "metadata": {},
   "outputs": [],
   "source": [
    "# 연도별 말소대수\n",
    "grp3 = errc.groupby(['변경일자_년', '지역', '시도', '배출가스등급'], as_index=False)['차대번호'].count()\n",
    "grp3 = grp3.rename(columns={'변경일자_년':'연도', '차대번호':'말소대수'})\n",
    "base1 = base.merge(grp1, on=['연도', '지역', '시도', '배출가스등급'], how='left')\n",
    "base2 = base1.merge(grp2, on=['연도', '지역', '시도', '배출가스등급'], how='left')\n",
    "base3 = base2.merge(grp3, on=['연도', '지역', '시도', '배출가스등급'], how='left')\n",
    "base3[['차량대수', '등록대수', '말소대수']] = base3[['차량대수', '등록대수', '말소대수']].fillna(0)"
   ]
  },
  {
   "cell_type": "code",
   "execution_count": 2137,
   "id": "32453157-01e5-49e7-995d-522be4ba0c64",
   "metadata": {},
   "outputs": [],
   "source": [
    "n = len(base3['연도'].unique())\n",
    "for i in range(base3.shape[0] // n):\n",
    "    for j in range(2, n+1):\n",
    "        base3.loc[(i+1)*n - j, '차량대수'] = base3.loc[(i+1)*n - (j-1), '차량대수'] + base3.loc[(i+1)*n - (j-1), '말소대수'] - base3.loc[(i+1)*n - (j-1), '등록대수']"
   ]
  },
  {
   "cell_type": "code",
   "execution_count": 2138,
   "id": "93634304-bd4c-4c8d-bc68-ffc211b1efb6",
   "metadata": {},
   "outputs": [
    {
     "name": "stderr",
     "output_type": "stream",
     "text": [
      "/tmp/ipykernel_2016934/1105122844.py:2: SettingWithCopyWarning: \n",
      "A value is trying to be set on a copy of a slice from a DataFrame.\n",
      "Try using .loc[row_indexer,col_indexer] = value instead\n",
      "\n",
      "See the caveats in the documentation: https://pandas.pydata.org/pandas-docs/stable/user_guide/indexing.html#returning-a-view-versus-a-copy\n",
      "  df1['기준연월'] = df1['연도'] + '12'\n"
     ]
    }
   ],
   "source": [
    "df1 = base3[['연도', '지역', '시도', '배출가스등급', '차량대수']]\n",
    "df1['기준연월'] = df1['연도'] + '12'"
   ]
  },
  {
   "cell_type": "code",
   "execution_count": 2139,
   "id": "9926f1a7-9881-4bb7-804c-ba05f87d995f",
   "metadata": {},
   "outputs": [
    {
     "name": "stderr",
     "output_type": "stream",
     "text": [
      "/tmp/ipykernel_2016934/4229269556.py:1: SettingWithCopyWarning: \n",
      "A value is trying to be set on a copy of a slice from a DataFrame.\n",
      "Try using .loc[row_indexer,col_indexer] = value instead\n",
      "\n",
      "See the caveats in the documentation: https://pandas.pydata.org/pandas-docs/stable/user_guide/indexing.html#returning-a-view-versus-a-copy\n",
      "  df1['배출가스등급'] = df1['배출가스등급'].map({'1':'1', '2':'2', '3':'3', '4':'4', '5':'5', 'X':'미분류'})\n"
     ]
    }
   ],
   "source": [
    "df1['배출가스등급'] = df1['배출가스등급'].map({'1':'1', '2':'2', '3':'3', '4':'4', '5':'5', 'X':'미분류'})"
   ]
  },
  {
   "cell_type": "code",
   "execution_count": 2140,
   "id": "e17307fa-5358-4b9f-9855-340166041d28",
   "metadata": {},
   "outputs": [],
   "source": [
    "today_date = datetime.today().strftime(\"%Y%m%d\")\n",
    "df1['테이블생성일자'] = today_date"
   ]
  },
  {
   "cell_type": "code",
   "execution_count": 2141,
   "id": "5ef6212e-d5ac-4e68-99ec-3d7c7e42ef9f",
   "metadata": {},
   "outputs": [],
   "source": [
    "cdict = {\n",
    "    '테이블생성일자':'LOAD_DT', \n",
    "    '기준연월':'CRTR_YM', \n",
    "    '연도':'YR', \n",
    "    '지역':'RGN', \n",
    "    '시도':'CTPV_NM', \n",
    "    '배출가스등급':'EXHST_GAS_GRD_CD', \n",
    "    '차량대수':'VHCL_MKCNT',\n",
    "}\n",
    "STD_BD_CAR_CURSTT_MOD = df1.rename(columns=cdict)"
   ]
  },
  {
   "cell_type": "code",
   "execution_count": 2142,
   "id": "c038812f-d027-426e-b0a6-cc0e1bd4efb4",
   "metadata": {},
   "outputs": [
    {
     "data": {
      "text/plain": [
       "Index(['YR', 'RGN', 'CTPV_NM', 'EXHST_GAS_GRD_CD', 'VHCL_MKCNT', 'CRTR_YM',\n",
       "       'LOAD_DT'],\n",
       "      dtype='object')"
      ]
     },
     "execution_count": 2142,
     "metadata": {},
     "output_type": "execute_result"
    }
   ],
   "source": [
    "STD_BD_CAR_CURSTT_MOD.columns"
   ]
  },
  {
   "cell_type": "markdown",
   "id": "d0419042-6346-4062-9806-c9d0e54e76e5",
   "metadata": {},
   "source": [
    "### [출력] STD_BD_CAR_CURSTT_MOD"
   ]
  },
  {
   "cell_type": "code",
   "execution_count": 2143,
   "id": "01437851-a052-420c-b6cb-91d717fed2bd",
   "metadata": {},
   "outputs": [],
   "source": [
    "# expdf = STD_BD_CAR_CURSTT_MOD\n",
    "# table_nm = 'STD_BD_CAR_CURSTT_MOD'.upper()\n",
    "\n",
    "# # 테이블 생성\n",
    "# sql = 'create or replace table ' + table_nm + '( \\n'\n",
    "\n",
    "# for idx,column in enumerate(expdf.columns):\n",
    "#     sql += column + ' varchar(255)'\n",
    "\n",
    "#     if len(expdf.columns) - 1 != idx:\n",
    "#         sql += ','\n",
    "#     sql += '\\n'\n",
    "# sql += ')'    \n",
    "# we.execute(sql)\n",
    "\n",
    "# # 데이터 추가\n",
    "# # 5s\n",
    "# we.import_from_pandas(expdf, table_nm)\n",
    "\n",
    "# print(f'data export : {table_nm}')"
   ]
  },
  {
   "cell_type": "code",
   "execution_count": 2144,
   "id": "7ee8fbb3-cea5-4d85-b49c-7c424759f953",
   "metadata": {},
   "outputs": [],
   "source": [
    "## 등급, 연료별 차량현황\n",
    "# 2022년 차량 대수\n",
    "grp1 = dfm.groupby(['fuel2', '배출가스등급'], as_index=False)['차대번호'].count()\n",
    "grp1 = grp1.rename(columns={'차대번호':'차량대수'})\n",
    "grp1['연도'] = f'{year}'\n",
    "grp1 = grp1[['연도', 'fuel2', '배출가스등급', '차량대수']]"
   ]
  },
  {
   "cell_type": "code",
   "execution_count": 2145,
   "id": "114ba9ed-2a64-478b-95f6-25aa28b218d6",
   "metadata": {},
   "outputs": [],
   "source": [
    "# 차량 통계 기본 데이터셋\n",
    "yr_list = []\n",
    "fuel_list = []\n",
    "grd_list = []\n",
    "for fuel in grp1['fuel2'].unique():\n",
    "    for grd in ['1', '2', '3', '4', '5', 'X']:\n",
    "        for yr in range(2019, year + 1):\n",
    "            yr_list.append(str(yr))\n",
    "            fuel_list.append(fuel)\n",
    "            grd_list.append(grd)\n",
    "base = pd.DataFrame({'연도':yr_list, 'fuel2':fuel_list, '배출가스등급':grd_list})"
   ]
  },
  {
   "cell_type": "code",
   "execution_count": 2146,
   "id": "92128402-b8c7-4602-b7f4-bf963c83790e",
   "metadata": {},
   "outputs": [],
   "source": [
    "# 연도별 등록대수\n",
    "grp2 = dfm.groupby(['최초등록일자_년', 'fuel2', '배출가스등급'], as_index=False)['차대번호'].count()\n",
    "grp2 = grp2.rename(columns={'최초등록일자_년':'연도', '차대번호':'등록대수'})"
   ]
  },
  {
   "cell_type": "code",
   "execution_count": 2147,
   "id": "7a5ab98c-3d4d-4658-861d-4b956103e310",
   "metadata": {},
   "outputs": [],
   "source": [
    "# 연도별 말소대수\n",
    "grp3 = errc.groupby(['변경일자_년', 'fuel2', '배출가스등급'], as_index=False)['차대번호'].count()\n",
    "grp3 = grp3.rename(columns={'변경일자_년':'연도', '차대번호':'말소대수'})\n",
    "base1 = base.merge(grp1, on=['연도', 'fuel2', '배출가스등급'], how='left')\n",
    "base2 = base1.merge(grp2, on=['연도', 'fuel2', '배출가스등급'], how='left')\n",
    "base3 = base2.merge(grp3, on=['연도', 'fuel2', '배출가스등급'], how='left')\n",
    "base3[['차량대수', '등록대수', '말소대수']] = base3[['차량대수', '등록대수', '말소대수']].fillna(0)"
   ]
  },
  {
   "cell_type": "code",
   "execution_count": 2148,
   "id": "cd3a430e-e844-4f18-893b-1c7cde5a194e",
   "metadata": {},
   "outputs": [],
   "source": [
    "n = len(base3['연도'].unique())\n",
    "for i in range(base3.shape[0] // n):\n",
    "    for j in range(2, n+1):\n",
    "        base3.loc[(i+1)*n - j, '차량대수'] = base3.loc[(i+1)*n - (j-1), '차량대수'] + base3.loc[(i+1)*n - (j-1), '말소대수'] - base3.loc[(i+1)*n - (j-1), '등록대수']"
   ]
  },
  {
   "cell_type": "code",
   "execution_count": 2149,
   "id": "4620eec1-f5d7-4027-a7b3-a2e8a700481b",
   "metadata": {},
   "outputs": [],
   "source": [
    "df2 = base3[['연도', 'fuel2', '배출가스등급', '차량대수']]\n",
    "df2 = df2.rename(columns={'fuel2':'연료'})"
   ]
  },
  {
   "cell_type": "code",
   "execution_count": 2150,
   "id": "b38a911c-f49f-4d55-933b-afa43452aa89",
   "metadata": {},
   "outputs": [],
   "source": [
    "df2['배출가스등급'] = df2['배출가스등급'].map({'1':'1', '2':'2', '3':'3', '4':'4', '5':'5', 'X':'미분류'})"
   ]
  },
  {
   "cell_type": "code",
   "execution_count": 2151,
   "id": "fb1b1de5-b42a-4657-b156-6fd707b67b8e",
   "metadata": {},
   "outputs": [
    {
     "data": {
      "text/plain": [
       "array(['1', '2', '3', '4', '5', '미분류'], dtype=object)"
      ]
     },
     "execution_count": 2151,
     "metadata": {},
     "output_type": "execute_result"
    }
   ],
   "source": [
    "df2['배출가스등급'].unique()"
   ]
  },
  {
   "cell_type": "code",
   "execution_count": 2152,
   "id": "f1c9b3c6-4f49-4865-a54f-d34cf136a660",
   "metadata": {},
   "outputs": [],
   "source": [
    "df2['기준연월'] = df2['연도'] + '12'\n",
    "today_date = datetime.today().strftime(\"%Y%m%d\")\n",
    "df2['테이블생성일자'] = today_date"
   ]
  },
  {
   "cell_type": "code",
   "execution_count": 2153,
   "id": "3e3453b2-d149-44c4-b0ae-3827d2c3b7a8",
   "metadata": {},
   "outputs": [],
   "source": [
    "cdict = {\n",
    "    '테이블생성일자':'LOAD_DT', \n",
    "    '기준연월':'CRTR_YM', \n",
    "    '연도':'YR', \n",
    "    '연료':'FUEL_CD', \n",
    "    '배출가스등급':'EXHST_GAS_GRD_CD', \n",
    "    '차량대수':'VHCL_MKCNT',\n",
    "}\n",
    "STD_BD_CAR_CURSTT_MOD2 = df2.rename(columns=cdict)"
   ]
  },
  {
   "cell_type": "code",
   "execution_count": 2154,
   "id": "438b069a-3553-4052-bed6-fb5a1fae3bb1",
   "metadata": {},
   "outputs": [
    {
     "data": {
      "text/plain": [
       "Index(['YR', 'FUEL_CD', 'EXHST_GAS_GRD_CD', 'VHCL_MKCNT', 'CRTR_YM',\n",
       "       'LOAD_DT'],\n",
       "      dtype='object')"
      ]
     },
     "execution_count": 2154,
     "metadata": {},
     "output_type": "execute_result"
    }
   ],
   "source": [
    "STD_BD_CAR_CURSTT_MOD2.columns"
   ]
  },
  {
   "cell_type": "markdown",
   "id": "94f6140c-6d06-40db-8a9b-aa72e7b347a2",
   "metadata": {},
   "source": [
    "### [출력] STD_BD_CAR_CURSTT_MOD2"
   ]
  },
  {
   "cell_type": "code",
   "execution_count": 2155,
   "id": "4e9fb722-5e73-4c6f-a484-001f34bd4eb6",
   "metadata": {},
   "outputs": [],
   "source": [
    "# expdf = STD_BD_CAR_CURSTT_MOD2\n",
    "# table_nm = 'STD_BD_CAR_CURSTT_MOD2'.upper()\n",
    "\n",
    "# # 테이블 생성\n",
    "# sql = 'create or replace table ' + table_nm + '( \\n'\n",
    "\n",
    "# for idx,column in enumerate(expdf.columns):\n",
    "#     sql += column + ' varchar(255)'\n",
    "\n",
    "#     if len(expdf.columns) - 1 != idx:\n",
    "#         sql += ','\n",
    "#     sql += '\\n'\n",
    "# sql += ')'    \n",
    "# we.execute(sql)\n",
    "\n",
    "# # 데이터 추가\n",
    "# # 5s\n",
    "# we.import_from_pandas(expdf, table_nm)\n",
    "\n",
    "# print(f'data export : {table_nm}')"
   ]
  },
  {
   "cell_type": "code",
   "execution_count": 2156,
   "id": "d06df770-7ef2-4f58-8732-e26df9e8e131",
   "metadata": {},
   "outputs": [],
   "source": [
    "## 전체 차량 현황(등급, 차종, 지역별 차량현황)\n",
    "today_date = datetime.today().strftime(\"%Y%m%d\")\n",
    "dfm2['테이블생성일자'] = today_date\n",
    "df3 = dfm2[[\n",
    "    '테이블생성일자', \n",
    "    '법정동코드', \n",
    "    '차종',\n",
    "    '용도', \n",
    "    '차대번호', \n",
    "    '제원관리번호', \n",
    "    '배출가스인증번호', \n",
    "    '배출가스등급', \n",
    "    '차량말소YN', \n",
    "    'fuel', \n",
    "    '시도', \n",
    "    '시군구_수정'\n",
    "]]"
   ]
  },
  {
   "cell_type": "code",
   "execution_count": 2157,
   "id": "179fd6aa-1075-4802-a858-5154320bfe4d",
   "metadata": {
    "tags": []
   },
   "outputs": [
    {
     "data": {
      "text/plain": [
       "array([nan, '2', '1', '3', '4', '5'], dtype=object)"
      ]
     },
     "execution_count": 2157,
     "metadata": {},
     "output_type": "execute_result"
    }
   ],
   "source": [
    "df3['배출가스등급'].unique()"
   ]
  },
  {
   "cell_type": "code",
   "execution_count": 2158,
   "id": "be4450bd-6028-43e7-8374-025c837246a4",
   "metadata": {
    "tags": []
   },
   "outputs": [
    {
     "name": "stderr",
     "output_type": "stream",
     "text": [
      "/tmp/ipykernel_2016934/3944720476.py:1: SettingWithCopyWarning: \n",
      "A value is trying to be set on a copy of a slice from a DataFrame.\n",
      "Try using .loc[row_indexer,col_indexer] = value instead\n",
      "\n",
      "See the caveats in the documentation: https://pandas.pydata.org/pandas-docs/stable/user_guide/indexing.html#returning-a-view-versus-a-copy\n",
      "  df3['배출가스등급'] = df3['배출가스등급'].fillna('X')\n"
     ]
    }
   ],
   "source": [
    "df3['배출가스등급'] = df3['배출가스등급'].fillna('X')"
   ]
  },
  {
   "cell_type": "code",
   "execution_count": 2159,
   "id": "1a8f4470-545e-4911-866d-70c0cd691102",
   "metadata": {
    "tags": []
   },
   "outputs": [
    {
     "data": {
      "text/plain": [
       "array(['X', '2', '1', '3', '4', '5'], dtype=object)"
      ]
     },
     "execution_count": 2159,
     "metadata": {},
     "output_type": "execute_result"
    }
   ],
   "source": [
    "df3['배출가스등급'].unique()"
   ]
  },
  {
   "cell_type": "code",
   "execution_count": 2160,
   "id": "5488fa6a-6857-489e-897f-e7bcf66151e1",
   "metadata": {
    "tags": []
   },
   "outputs": [
    {
     "data": {
      "text/plain": [
       "배출가스등급\n",
       "2    10917903\n",
       "3     8202006\n",
       "1     3236350\n",
       "4     1345036\n",
       "X     1051938\n",
       "5      933634\n",
       "Name: count, dtype: int64"
      ]
     },
     "execution_count": 2160,
     "metadata": {},
     "output_type": "execute_result"
    }
   ],
   "source": [
    "df3['배출가스등급'].value_counts(dropna=False)"
   ]
  },
  {
   "cell_type": "code",
   "execution_count": 2161,
   "id": "af577b84-6152-4688-8c6c-d4e38222d28a",
   "metadata": {},
   "outputs": [],
   "source": [
    "cdict = {\n",
    "    '테이블생성일자':'LOAD_DT',\n",
    "    '법정동코드':'BSPL_STDG_CD', \n",
    "    '차종':'VHCTY_CD',\n",
    "    '용도':'PURPS_CD2', \n",
    "    '차대번호':'VIN', \n",
    "    '제원관리번호':'MANG_MNG_NO', \n",
    "    '배출가스인증번호':'EXHST_GAS_CERT_NO', \n",
    "    '배출가스등급':'EXHST_GAS_GRD_CD', \n",
    "    '차량말소YN':'VHCL_ERSR_YN', \n",
    "    'fuel':'FUEL_CD', \n",
    "    '시도':'CTPV', \n",
    "    '시군구_수정':'SGG', \n",
    "}\n",
    "STD_BD_CAR_CURSTT = df3.rename(columns=cdict)"
   ]
  },
  {
   "cell_type": "code",
   "execution_count": 2162,
   "id": "5003d599-989d-4a48-9b8e-18e8bd7f687f",
   "metadata": {},
   "outputs": [
    {
     "data": {
      "text/plain": [
       "Index(['LOAD_DT', 'BSPL_STDG_CD', 'VHCTY_CD', 'PURPS_CD2', 'VIN',\n",
       "       'MANG_MNG_NO', 'EXHST_GAS_CERT_NO', 'EXHST_GAS_GRD_CD', 'VHCL_ERSR_YN',\n",
       "       'FUEL_CD', 'CTPV', 'SGG'],\n",
       "      dtype='object')"
      ]
     },
     "execution_count": 2162,
     "metadata": {},
     "output_type": "execute_result"
    }
   ],
   "source": [
    "STD_BD_CAR_CURSTT.columns"
   ]
  },
  {
   "cell_type": "markdown",
   "id": "ff3f9274-04b7-4c2c-889f-8396319b0612",
   "metadata": {},
   "source": [
    "### [출력] STD_BD_CAR_CURSTT"
   ]
  },
  {
   "cell_type": "code",
   "execution_count": 2163,
   "id": "d0684794-2426-4b22-93f4-cc6bf33b1205",
   "metadata": {},
   "outputs": [],
   "source": [
    "# expdf = STD_BD_CAR_CURSTT\n",
    "# table_nm = 'STD_BD_CAR_CURSTT'.upper()\n",
    "\n",
    "# # 테이블 생성\n",
    "# sql = 'create or replace table ' + table_nm + '( \\n'\n",
    "\n",
    "# for idx,column in enumerate(expdf.columns):\n",
    "#     # if 'float' in expdf[column].dtype.name:\n",
    "#     #     sql += column + ' float'\n",
    "#     # elif 'int' in expdf[column].dtype.name:\n",
    "#     #     sql += column + ' number'\n",
    "#     # else:\n",
    "#     sql += column + ' varchar(255)'\n",
    "\n",
    "#     if len(expdf.columns) - 1 != idx:\n",
    "#         sql += ','\n",
    "#     sql += '\\n'\n",
    "# sql += ')'    \n",
    "# we.execute(sql)\n",
    "\n",
    "# # 데이터 추가\n",
    "# # 3m 51.1s\n",
    "# we.import_from_pandas(expdf, table_nm)\n",
    "\n",
    "# print(f'data export : {table_nm}')"
   ]
  },
  {
   "cell_type": "code",
   "execution_count": 2164,
   "id": "2e9ebd7f-f818-4cfb-8ae9-55970e4080d7",
   "metadata": {},
   "outputs": [],
   "source": [
    "## 지역, 연료, 연도별 차량 현황 분석\n",
    "# 2022년 차량 대수\n",
    "grp1 = dfm2.groupby(['fuel', '시도'], as_index=False)['차대번호'].count()\n",
    "grp1 = grp1.rename(columns={'차대번호':'차량대수'})\n",
    "grp1['연도'] = f'{year}'\n",
    "grp1 = grp1[['연도', 'fuel', '시도', '차량대수']]"
   ]
  },
  {
   "cell_type": "code",
   "execution_count": 2165,
   "id": "b4154aa4-44e9-423c-adf8-baf034d49286",
   "metadata": {},
   "outputs": [],
   "source": [
    "# 차량 통계 기본 데이터셋\n",
    "yr_list = []\n",
    "fuel_list = []\n",
    "ctpv_list = []\n",
    "for fuel in grp1['fuel'].unique():\n",
    "    for ctpv in grp1['시도'].unique():\n",
    "        for yr in range(2019, year + 1):\n",
    "            yr_list.append(str(yr))\n",
    "            fuel_list.append(fuel)\n",
    "            ctpv_list.append(ctpv)\n",
    "base = pd.DataFrame({'연도':yr_list, 'fuel':fuel_list, '시도':ctpv_list})"
   ]
  },
  {
   "cell_type": "code",
   "execution_count": 2166,
   "id": "13d3a889-67b1-4412-9517-98e5a966b70c",
   "metadata": {
    "tags": []
   },
   "outputs": [
    {
     "data": {
      "text/html": [
       "<div>\n",
       "<style scoped>\n",
       "    .dataframe tbody tr th:only-of-type {\n",
       "        vertical-align: middle;\n",
       "    }\n",
       "\n",
       "    .dataframe tbody tr th {\n",
       "        vertical-align: top;\n",
       "    }\n",
       "\n",
       "    .dataframe thead th {\n",
       "        text-align: right;\n",
       "    }\n",
       "</style>\n",
       "<table border=\"1\" class=\"dataframe\">\n",
       "  <thead>\n",
       "    <tr style=\"text-align: right;\">\n",
       "      <th></th>\n",
       "      <th>연도</th>\n",
       "      <th>fuel</th>\n",
       "      <th>시도</th>\n",
       "    </tr>\n",
       "  </thead>\n",
       "  <tbody>\n",
       "    <tr>\n",
       "      <th>0</th>\n",
       "      <td>2019</td>\n",
       "      <td>LPG</td>\n",
       "      <td>강원특별자치도</td>\n",
       "    </tr>\n",
       "    <tr>\n",
       "      <th>1</th>\n",
       "      <td>2020</td>\n",
       "      <td>LPG</td>\n",
       "      <td>강원특별자치도</td>\n",
       "    </tr>\n",
       "    <tr>\n",
       "      <th>2</th>\n",
       "      <td>2021</td>\n",
       "      <td>LPG</td>\n",
       "      <td>강원특별자치도</td>\n",
       "    </tr>\n",
       "    <tr>\n",
       "      <th>3</th>\n",
       "      <td>2022</td>\n",
       "      <td>LPG</td>\n",
       "      <td>강원특별자치도</td>\n",
       "    </tr>\n",
       "    <tr>\n",
       "      <th>4</th>\n",
       "      <td>2023</td>\n",
       "      <td>LPG</td>\n",
       "      <td>강원특별자치도</td>\n",
       "    </tr>\n",
       "    <tr>\n",
       "      <th>...</th>\n",
       "      <td>...</td>\n",
       "      <td>...</td>\n",
       "      <td>...</td>\n",
       "    </tr>\n",
       "    <tr>\n",
       "      <th>420</th>\n",
       "      <td>2019</td>\n",
       "      <td>휘발유</td>\n",
       "      <td>충청북도</td>\n",
       "    </tr>\n",
       "    <tr>\n",
       "      <th>421</th>\n",
       "      <td>2020</td>\n",
       "      <td>휘발유</td>\n",
       "      <td>충청북도</td>\n",
       "    </tr>\n",
       "    <tr>\n",
       "      <th>422</th>\n",
       "      <td>2021</td>\n",
       "      <td>휘발유</td>\n",
       "      <td>충청북도</td>\n",
       "    </tr>\n",
       "    <tr>\n",
       "      <th>423</th>\n",
       "      <td>2022</td>\n",
       "      <td>휘발유</td>\n",
       "      <td>충청북도</td>\n",
       "    </tr>\n",
       "    <tr>\n",
       "      <th>424</th>\n",
       "      <td>2023</td>\n",
       "      <td>휘발유</td>\n",
       "      <td>충청북도</td>\n",
       "    </tr>\n",
       "  </tbody>\n",
       "</table>\n",
       "<p>425 rows × 3 columns</p>\n",
       "</div>"
      ],
      "text/plain": [
       "       연도 fuel       시도\n",
       "0    2019  LPG  강원특별자치도\n",
       "1    2020  LPG  강원특별자치도\n",
       "2    2021  LPG  강원특별자치도\n",
       "3    2022  LPG  강원특별자치도\n",
       "4    2023  LPG  강원특별자치도\n",
       "..    ...  ...      ...\n",
       "420  2019  휘발유     충청북도\n",
       "421  2020  휘발유     충청북도\n",
       "422  2021  휘발유     충청북도\n",
       "423  2022  휘발유     충청북도\n",
       "424  2023  휘발유     충청북도\n",
       "\n",
       "[425 rows x 3 columns]"
      ]
     },
     "execution_count": 2166,
     "metadata": {},
     "output_type": "execute_result"
    }
   ],
   "source": [
    "base"
   ]
  },
  {
   "cell_type": "code",
   "execution_count": 2167,
   "id": "52c674fc-64f5-45b1-a6e1-fd0b8b7c1b26",
   "metadata": {},
   "outputs": [],
   "source": [
    "# 연도별 등록대수\n",
    "grp2 = dfm2.groupby(['최초등록일자_년', 'fuel', '시도'], as_index=False)['차대번호'].count()\n",
    "grp2 = grp2.rename(columns={'최초등록일자_년':'연도', '차대번호':'등록대수'})"
   ]
  },
  {
   "cell_type": "code",
   "execution_count": 2168,
   "id": "c103a41e-b9f2-4481-b808-dacaf8842b07",
   "metadata": {},
   "outputs": [],
   "source": [
    "# 연도별 말소대수\n",
    "grp3 = errc2.groupby(['변경일자_년', 'fuel', '시도'], as_index=False)['차대번호'].count()\n",
    "grp3 = grp3.rename(columns={'변경일자_년':'연도', '차대번호':'말소대수'})\n",
    "base1 = base.merge(grp1, on=['연도', 'fuel', '시도'], how='left')\n",
    "base2 = base1.merge(grp2, on=['연도', 'fuel', '시도'], how='left')\n",
    "base3 = base2.merge(grp3, on=['연도', 'fuel', '시도'], how='left')\n",
    "base3[['차량대수', '등록대수', '말소대수']].isnull().sum()\n",
    "base3[['차량대수', '등록대수', '말소대수']] = base3[['차량대수', '등록대수', '말소대수']].fillna(0)"
   ]
  },
  {
   "cell_type": "code",
   "execution_count": 2169,
   "id": "0eaf38f7-8529-45d8-bb1e-865605132a62",
   "metadata": {},
   "outputs": [],
   "source": [
    "n = len(base3['연도'].unique())\n",
    "for i in range(base3.shape[0] // n):\n",
    "    for j in range(2, n+1):\n",
    "        base3.loc[(i+1)*n - j, '차량대수'] = base3.loc[(i+1)*n - (j-1), '차량대수'] + base3.loc[(i+1)*n - (j-1), '말소대수'] - base3.loc[(i+1)*n - (j-1), '등록대수']"
   ]
  },
  {
   "cell_type": "code",
   "execution_count": 2170,
   "id": "8cfa654a-95b1-418b-92b0-b966439ab016",
   "metadata": {
    "tags": []
   },
   "outputs": [
    {
     "data": {
      "text/html": [
       "<div>\n",
       "<style scoped>\n",
       "    .dataframe tbody tr th:only-of-type {\n",
       "        vertical-align: middle;\n",
       "    }\n",
       "\n",
       "    .dataframe tbody tr th {\n",
       "        vertical-align: top;\n",
       "    }\n",
       "\n",
       "    .dataframe thead th {\n",
       "        text-align: right;\n",
       "    }\n",
       "</style>\n",
       "<table border=\"1\" class=\"dataframe\">\n",
       "  <thead>\n",
       "    <tr style=\"text-align: right;\">\n",
       "      <th></th>\n",
       "      <th>연도</th>\n",
       "      <th>fuel</th>\n",
       "      <th>시도</th>\n",
       "      <th>차량대수</th>\n",
       "      <th>등록대수</th>\n",
       "      <th>말소대수</th>\n",
       "    </tr>\n",
       "  </thead>\n",
       "  <tbody>\n",
       "    <tr>\n",
       "      <th>0</th>\n",
       "      <td>2019</td>\n",
       "      <td>LPG</td>\n",
       "      <td>강원특별자치도</td>\n",
       "      <td>46808.00</td>\n",
       "      <td>3426</td>\n",
       "      <td>1.00</td>\n",
       "    </tr>\n",
       "    <tr>\n",
       "      <th>1</th>\n",
       "      <td>2020</td>\n",
       "      <td>LPG</td>\n",
       "      <td>강원특별자치도</td>\n",
       "      <td>50244.00</td>\n",
       "      <td>3436</td>\n",
       "      <td>0.00</td>\n",
       "    </tr>\n",
       "    <tr>\n",
       "      <th>2</th>\n",
       "      <td>2021</td>\n",
       "      <td>LPG</td>\n",
       "      <td>강원특별자치도</td>\n",
       "      <td>53201.00</td>\n",
       "      <td>2957</td>\n",
       "      <td>0.00</td>\n",
       "    </tr>\n",
       "    <tr>\n",
       "      <th>3</th>\n",
       "      <td>2022</td>\n",
       "      <td>LPG</td>\n",
       "      <td>강원특별자치도</td>\n",
       "      <td>55703.00</td>\n",
       "      <td>2502</td>\n",
       "      <td>0.00</td>\n",
       "    </tr>\n",
       "    <tr>\n",
       "      <th>4</th>\n",
       "      <td>2023</td>\n",
       "      <td>LPG</td>\n",
       "      <td>강원특별자치도</td>\n",
       "      <td>55577.00</td>\n",
       "      <td>1605</td>\n",
       "      <td>1731.00</td>\n",
       "    </tr>\n",
       "    <tr>\n",
       "      <th>...</th>\n",
       "      <td>...</td>\n",
       "      <td>...</td>\n",
       "      <td>...</td>\n",
       "      <td>...</td>\n",
       "      <td>...</td>\n",
       "      <td>...</td>\n",
       "    </tr>\n",
       "    <tr>\n",
       "      <th>420</th>\n",
       "      <td>2019</td>\n",
       "      <td>휘발유</td>\n",
       "      <td>충청북도</td>\n",
       "      <td>402699.00</td>\n",
       "      <td>30835</td>\n",
       "      <td>9914.00</td>\n",
       "    </tr>\n",
       "    <tr>\n",
       "      <th>421</th>\n",
       "      <td>2020</td>\n",
       "      <td>휘발유</td>\n",
       "      <td>충청북도</td>\n",
       "      <td>421265.00</td>\n",
       "      <td>36599</td>\n",
       "      <td>18033.00</td>\n",
       "    </tr>\n",
       "    <tr>\n",
       "      <th>422</th>\n",
       "      <td>2021</td>\n",
       "      <td>휘발유</td>\n",
       "      <td>충청북도</td>\n",
       "      <td>434560.00</td>\n",
       "      <td>31450</td>\n",
       "      <td>18155.00</td>\n",
       "    </tr>\n",
       "    <tr>\n",
       "      <th>423</th>\n",
       "      <td>2022</td>\n",
       "      <td>휘발유</td>\n",
       "      <td>충청북도</td>\n",
       "      <td>446960.00</td>\n",
       "      <td>29702</td>\n",
       "      <td>17302.00</td>\n",
       "    </tr>\n",
       "    <tr>\n",
       "      <th>424</th>\n",
       "      <td>2023</td>\n",
       "      <td>휘발유</td>\n",
       "      <td>충청북도</td>\n",
       "      <td>460380.00</td>\n",
       "      <td>29951</td>\n",
       "      <td>16531.00</td>\n",
       "    </tr>\n",
       "  </tbody>\n",
       "</table>\n",
       "<p>425 rows × 6 columns</p>\n",
       "</div>"
      ],
      "text/plain": [
       "       연도 fuel       시도      차량대수   등록대수     말소대수\n",
       "0    2019  LPG  강원특별자치도  46808.00   3426     1.00\n",
       "1    2020  LPG  강원특별자치도  50244.00   3436     0.00\n",
       "2    2021  LPG  강원특별자치도  53201.00   2957     0.00\n",
       "3    2022  LPG  강원특별자치도  55703.00   2502     0.00\n",
       "4    2023  LPG  강원특별자치도  55577.00   1605  1731.00\n",
       "..    ...  ...      ...       ...    ...      ...\n",
       "420  2019  휘발유     충청북도 402699.00  30835  9914.00\n",
       "421  2020  휘발유     충청북도 421265.00  36599 18033.00\n",
       "422  2021  휘발유     충청북도 434560.00  31450 18155.00\n",
       "423  2022  휘발유     충청북도 446960.00  29702 17302.00\n",
       "424  2023  휘발유     충청북도 460380.00  29951 16531.00\n",
       "\n",
       "[425 rows x 6 columns]"
      ]
     },
     "execution_count": 2170,
     "metadata": {},
     "output_type": "execute_result"
    }
   ],
   "source": [
    "base3"
   ]
  },
  {
   "cell_type": "code",
   "execution_count": 2171,
   "id": "55a4d14a-b31c-4391-a1e9-0cc9b9db1bcc",
   "metadata": {
    "tags": []
   },
   "outputs": [
    {
     "data": {
      "text/html": [
       "<div>\n",
       "<style scoped>\n",
       "    .dataframe tbody tr th:only-of-type {\n",
       "        vertical-align: middle;\n",
       "    }\n",
       "\n",
       "    .dataframe tbody tr th {\n",
       "        vertical-align: top;\n",
       "    }\n",
       "\n",
       "    .dataframe thead th {\n",
       "        text-align: right;\n",
       "    }\n",
       "</style>\n",
       "<table border=\"1\" class=\"dataframe\">\n",
       "  <thead>\n",
       "    <tr style=\"text-align: right;\">\n",
       "      <th></th>\n",
       "      <th>연도</th>\n",
       "      <th>시도</th>\n",
       "      <th>fuel</th>\n",
       "      <th>차량대수</th>\n",
       "    </tr>\n",
       "  </thead>\n",
       "  <tbody>\n",
       "    <tr>\n",
       "      <th>0</th>\n",
       "      <td>2019</td>\n",
       "      <td>강원특별자치도</td>\n",
       "      <td>LPG</td>\n",
       "      <td>46808.00</td>\n",
       "    </tr>\n",
       "    <tr>\n",
       "      <th>1</th>\n",
       "      <td>2019</td>\n",
       "      <td>강원특별자치도</td>\n",
       "      <td>경유</td>\n",
       "      <td>316329.00</td>\n",
       "    </tr>\n",
       "    <tr>\n",
       "      <th>2</th>\n",
       "      <td>2019</td>\n",
       "      <td>강원특별자치도</td>\n",
       "      <td>수소</td>\n",
       "      <td>110.00</td>\n",
       "    </tr>\n",
       "    <tr>\n",
       "      <th>3</th>\n",
       "      <td>2019</td>\n",
       "      <td>강원특별자치도</td>\n",
       "      <td>전기</td>\n",
       "      <td>2369.00</td>\n",
       "    </tr>\n",
       "    <tr>\n",
       "      <th>4</th>\n",
       "      <td>2019</td>\n",
       "      <td>강원특별자치도</td>\n",
       "      <td>휘발유</td>\n",
       "      <td>308804.00</td>\n",
       "    </tr>\n",
       "    <tr>\n",
       "      <th>...</th>\n",
       "      <td>...</td>\n",
       "      <td>...</td>\n",
       "      <td>...</td>\n",
       "      <td>...</td>\n",
       "    </tr>\n",
       "    <tr>\n",
       "      <th>420</th>\n",
       "      <td>2023</td>\n",
       "      <td>충청북도</td>\n",
       "      <td>LPG</td>\n",
       "      <td>68807.00</td>\n",
       "    </tr>\n",
       "    <tr>\n",
       "      <th>421</th>\n",
       "      <td>2023</td>\n",
       "      <td>충청북도</td>\n",
       "      <td>경유</td>\n",
       "      <td>375262.00</td>\n",
       "    </tr>\n",
       "    <tr>\n",
       "      <th>422</th>\n",
       "      <td>2023</td>\n",
       "      <td>충청북도</td>\n",
       "      <td>수소</td>\n",
       "      <td>2068.00</td>\n",
       "    </tr>\n",
       "    <tr>\n",
       "      <th>423</th>\n",
       "      <td>2023</td>\n",
       "      <td>충청북도</td>\n",
       "      <td>전기</td>\n",
       "      <td>19398.00</td>\n",
       "    </tr>\n",
       "    <tr>\n",
       "      <th>424</th>\n",
       "      <td>2023</td>\n",
       "      <td>충청북도</td>\n",
       "      <td>휘발유</td>\n",
       "      <td>460380.00</td>\n",
       "    </tr>\n",
       "  </tbody>\n",
       "</table>\n",
       "<p>425 rows × 4 columns</p>\n",
       "</div>"
      ],
      "text/plain": [
       "       연도       시도 fuel      차량대수\n",
       "0    2019  강원특별자치도  LPG  46808.00\n",
       "1    2019  강원특별자치도   경유 316329.00\n",
       "2    2019  강원특별자치도   수소    110.00\n",
       "3    2019  강원특별자치도   전기   2369.00\n",
       "4    2019  강원특별자치도  휘발유 308804.00\n",
       "..    ...      ...  ...       ...\n",
       "420  2023     충청북도  LPG  68807.00\n",
       "421  2023     충청북도   경유 375262.00\n",
       "422  2023     충청북도   수소   2068.00\n",
       "423  2023     충청북도   전기  19398.00\n",
       "424  2023     충청북도  휘발유 460380.00\n",
       "\n",
       "[425 rows x 4 columns]"
      ]
     },
     "execution_count": 2171,
     "metadata": {},
     "output_type": "execute_result"
    }
   ],
   "source": [
    "base3.groupby(['연도', '시도', 'fuel'], as_index=False)['차량대수'].sum()"
   ]
  },
  {
   "cell_type": "code",
   "execution_count": 2172,
   "id": "acf6422f-2edc-48a6-9c7b-5790094eafa4",
   "metadata": {},
   "outputs": [],
   "source": [
    "gp = base3.groupby(['연도', '시도', 'fuel'], as_index=False)['차량대수'].sum()\n",
    "gp['연료비율'] = round((gp['차량대수'] / gp.groupby(['연도', '시도'])['차량대수'].transform('sum')), 2)"
   ]
  },
  {
   "cell_type": "code",
   "execution_count": 2173,
   "id": "a73f2ba8-2673-4a79-a509-52e629b8badd",
   "metadata": {
    "tags": []
   },
   "outputs": [
    {
     "data": {
      "text/html": [
       "<div>\n",
       "<style scoped>\n",
       "    .dataframe tbody tr th:only-of-type {\n",
       "        vertical-align: middle;\n",
       "    }\n",
       "\n",
       "    .dataframe tbody tr th {\n",
       "        vertical-align: top;\n",
       "    }\n",
       "\n",
       "    .dataframe thead th {\n",
       "        text-align: right;\n",
       "    }\n",
       "</style>\n",
       "<table border=\"1\" class=\"dataframe\">\n",
       "  <thead>\n",
       "    <tr style=\"text-align: right;\">\n",
       "      <th></th>\n",
       "      <th>연도</th>\n",
       "      <th>시도</th>\n",
       "      <th>fuel</th>\n",
       "      <th>차량대수</th>\n",
       "      <th>연료비율</th>\n",
       "    </tr>\n",
       "  </thead>\n",
       "  <tbody>\n",
       "    <tr>\n",
       "      <th>0</th>\n",
       "      <td>2019</td>\n",
       "      <td>강원특별자치도</td>\n",
       "      <td>LPG</td>\n",
       "      <td>46808.00</td>\n",
       "      <td>0.07</td>\n",
       "    </tr>\n",
       "    <tr>\n",
       "      <th>1</th>\n",
       "      <td>2019</td>\n",
       "      <td>강원특별자치도</td>\n",
       "      <td>경유</td>\n",
       "      <td>316329.00</td>\n",
       "      <td>0.47</td>\n",
       "    </tr>\n",
       "    <tr>\n",
       "      <th>2</th>\n",
       "      <td>2019</td>\n",
       "      <td>강원특별자치도</td>\n",
       "      <td>수소</td>\n",
       "      <td>110.00</td>\n",
       "      <td>0.00</td>\n",
       "    </tr>\n",
       "    <tr>\n",
       "      <th>3</th>\n",
       "      <td>2019</td>\n",
       "      <td>강원특별자치도</td>\n",
       "      <td>전기</td>\n",
       "      <td>2369.00</td>\n",
       "      <td>0.00</td>\n",
       "    </tr>\n",
       "    <tr>\n",
       "      <th>4</th>\n",
       "      <td>2019</td>\n",
       "      <td>강원특별자치도</td>\n",
       "      <td>휘발유</td>\n",
       "      <td>308804.00</td>\n",
       "      <td>0.46</td>\n",
       "    </tr>\n",
       "    <tr>\n",
       "      <th>...</th>\n",
       "      <td>...</td>\n",
       "      <td>...</td>\n",
       "      <td>...</td>\n",
       "      <td>...</td>\n",
       "      <td>...</td>\n",
       "    </tr>\n",
       "    <tr>\n",
       "      <th>420</th>\n",
       "      <td>2023</td>\n",
       "      <td>충청북도</td>\n",
       "      <td>LPG</td>\n",
       "      <td>68807.00</td>\n",
       "      <td>0.07</td>\n",
       "    </tr>\n",
       "    <tr>\n",
       "      <th>421</th>\n",
       "      <td>2023</td>\n",
       "      <td>충청북도</td>\n",
       "      <td>경유</td>\n",
       "      <td>375262.00</td>\n",
       "      <td>0.41</td>\n",
       "    </tr>\n",
       "    <tr>\n",
       "      <th>422</th>\n",
       "      <td>2023</td>\n",
       "      <td>충청북도</td>\n",
       "      <td>수소</td>\n",
       "      <td>2068.00</td>\n",
       "      <td>0.00</td>\n",
       "    </tr>\n",
       "    <tr>\n",
       "      <th>423</th>\n",
       "      <td>2023</td>\n",
       "      <td>충청북도</td>\n",
       "      <td>전기</td>\n",
       "      <td>19398.00</td>\n",
       "      <td>0.02</td>\n",
       "    </tr>\n",
       "    <tr>\n",
       "      <th>424</th>\n",
       "      <td>2023</td>\n",
       "      <td>충청북도</td>\n",
       "      <td>휘발유</td>\n",
       "      <td>460380.00</td>\n",
       "      <td>0.50</td>\n",
       "    </tr>\n",
       "  </tbody>\n",
       "</table>\n",
       "<p>425 rows × 5 columns</p>\n",
       "</div>"
      ],
      "text/plain": [
       "       연도       시도 fuel      차량대수  연료비율\n",
       "0    2019  강원특별자치도  LPG  46808.00  0.07\n",
       "1    2019  강원특별자치도   경유 316329.00  0.47\n",
       "2    2019  강원특별자치도   수소    110.00  0.00\n",
       "3    2019  강원특별자치도   전기   2369.00  0.00\n",
       "4    2019  강원특별자치도  휘발유 308804.00  0.46\n",
       "..    ...      ...  ...       ...   ...\n",
       "420  2023     충청북도  LPG  68807.00  0.07\n",
       "421  2023     충청북도   경유 375262.00  0.41\n",
       "422  2023     충청북도   수소   2068.00  0.00\n",
       "423  2023     충청북도   전기  19398.00  0.02\n",
       "424  2023     충청북도  휘발유 460380.00  0.50\n",
       "\n",
       "[425 rows x 5 columns]"
      ]
     },
     "execution_count": 2173,
     "metadata": {},
     "output_type": "execute_result"
    }
   ],
   "source": [
    "gp"
   ]
  },
  {
   "cell_type": "code",
   "execution_count": 2174,
   "id": "ea08bf74-65bf-4d76-8f1b-226fde42bda8",
   "metadata": {},
   "outputs": [],
   "source": [
    "today_date = datetime.today().strftime(\"%Y%m%d\")\n",
    "gp['테이블생성일자'] = today_date\n",
    "gp1 = gp[['테이블생성일자', '연도', 'fuel', '시도', '차량대수', '연료비율']]\n",
    "cdict = {\n",
    "    '테이블생성일자':'LOAD_DT', \n",
    "    '연도':'YR', \n",
    "    'fuel':'FUEL_CD', \n",
    "    '시도':'CTPV', \n",
    "    '차량대수':'VHCL_MKCNT', \n",
    "    '연료비율':'FUEL_RT'\n",
    "}\n",
    "STD_BD_CAR_REG_MKCNT = gp1.rename(columns=cdict)"
   ]
  },
  {
   "cell_type": "code",
   "execution_count": 2175,
   "id": "dedbb22e-4fbe-425e-992a-b9c5d0a8c0b8",
   "metadata": {},
   "outputs": [
    {
     "data": {
      "text/plain": [
       "Index(['LOAD_DT', 'YR', 'FUEL_CD', 'CTPV', 'VHCL_MKCNT', 'FUEL_RT'], dtype='object')"
      ]
     },
     "execution_count": 2175,
     "metadata": {},
     "output_type": "execute_result"
    }
   ],
   "source": [
    "STD_BD_CAR_REG_MKCNT.columns"
   ]
  },
  {
   "cell_type": "code",
   "execution_count": 2176,
   "id": "7a6acfbb-7c49-4570-8ce5-11be76c47af2",
   "metadata": {
    "tags": []
   },
   "outputs": [
    {
     "data": {
      "text/plain": [
       "array(['2019', '2020', '2021', '2022', '2023'], dtype=object)"
      ]
     },
     "execution_count": 2176,
     "metadata": {},
     "output_type": "execute_result"
    }
   ],
   "source": [
    "STD_BD_CAR_REG_MKCNT.YR.unique()"
   ]
  },
  {
   "cell_type": "markdown",
   "id": "0face6ca-9836-4c75-a628-96f8591bc086",
   "metadata": {},
   "source": [
    "### [출력] STD_BD_CAR_REG_MKCNT"
   ]
  },
  {
   "cell_type": "code",
   "execution_count": 2177,
   "id": "29c4762e-2e84-4432-924c-1553380ddced",
   "metadata": {},
   "outputs": [],
   "source": [
    "# expdf = STD_BD_CAR_REG_MKCNT\n",
    "# table_nm = 'STD_BD_CAR_REG_MKCNT'.upper()\n",
    "\n",
    "# # 테이블 생성\n",
    "# sql = 'create or replace table ' + table_nm + '( \\n'\n",
    "\n",
    "# for idx,column in enumerate(expdf.columns):\n",
    "#     sql += column + ' varchar(255)'\n",
    "\n",
    "#     if len(expdf.columns) - 1 != idx:\n",
    "#         sql += ','\n",
    "#     sql += '\\n'\n",
    "# sql += ')'    \n",
    "# we.execute(sql)\n",
    "\n",
    "# print(f'data export : {table_nm}')\n",
    "\n",
    "# # 데이터 추가\n",
    "# # 7s\n",
    "# we.import_from_pandas(expdf, table_nm)\n",
    "\n",
    "# print(f'data export : {table_nm}')"
   ]
  },
  {
   "cell_type": "code",
   "execution_count": 2178,
   "id": "be097510-312b-47ed-9e3b-ebbbcfca5b24",
   "metadata": {},
   "outputs": [],
   "source": [
    "## 내연차 연료, 연도별 차량 현황 예측\n",
    "# - 경유, 휘발유, LPG\n",
    "dfm2dgl = dfm2.loc[(dfm2['연료'] == '경유') | (dfm2['연료'] == '휘발유') | (dfm2['연료'] == 'LPG(액화석유가스)')].reset_index(drop=True)\n",
    "errc2dgl = errc2.loc[(errc2['연료'] == '경유') | (errc2['연료'] == '휘발유') | (errc2['연료'] == 'LPG(액화석유가스)')].reset_index(drop=True)"
   ]
  },
  {
   "cell_type": "code",
   "execution_count": 2179,
   "id": "483ac9ae-a0b5-4ebb-8e99-8b07b518a1c6",
   "metadata": {},
   "outputs": [],
   "source": [
    "# 2022년 차량 대수\n",
    "grp1 = dfm2dgl.groupby('연료', as_index=False)['차대번호'].count()\n",
    "grp1 = grp1.rename(columns={'차대번호':'차량대수'})\n",
    "grp1['연도'] = f'{year}'\n",
    "grp1 = grp1[['연도', '연료', '차량대수']]"
   ]
  },
  {
   "cell_type": "code",
   "execution_count": 2180,
   "id": "fc36dca9-9139-410d-92bb-b3512c0806f6",
   "metadata": {},
   "outputs": [],
   "source": [
    "# 차량 통계 기본 데이터셋\n",
    "yr_list = []\n",
    "fuel_list = []\n",
    "for fuel in grp1['연료'].unique():\n",
    "    for yr in range(2019, year + 1):\n",
    "        yr_list.append(str(yr))\n",
    "        fuel_list.append(fuel)\n",
    "base = pd.DataFrame({'연도':yr_list, '연료':fuel_list})"
   ]
  },
  {
   "cell_type": "code",
   "execution_count": 2181,
   "id": "adf2d3f1-853d-45e9-9e76-a8b23ed367d6",
   "metadata": {},
   "outputs": [],
   "source": [
    "# 연도별 등록대수\n",
    "grp2 = dfm2dgl.groupby(['최초등록일자_년', '연료'], as_index=False)['차대번호'].count()\n",
    "grp2 = grp2.rename(columns={'최초등록일자_년':'연도', '차대번호':'등록대수'})"
   ]
  },
  {
   "cell_type": "code",
   "execution_count": 2182,
   "id": "9d33289e-9ba0-47a3-a8a1-7171682f8e70",
   "metadata": {},
   "outputs": [],
   "source": [
    "# 연도별 말소대수\n",
    "grp3 = errc2dgl.groupby(['변경일자_년', '연료'], as_index=False)['차대번호'].count()\n",
    "grp3 = grp3.rename(columns={'변경일자_년':'연도', '차대번호':'말소대수'})\n",
    "base1 = base.merge(grp1, on=['연도', '연료'], how='left')\n",
    "base2 = base1.merge(grp2, on=['연도', '연료'], how='left')\n",
    "base3 = base2.merge(grp3, on=['연도', '연료'], how='left')\n",
    "base3[['차량대수', '등록대수', '말소대수']] = base3[['차량대수', '등록대수', '말소대수']].fillna(0)"
   ]
  },
  {
   "cell_type": "code",
   "execution_count": 2183,
   "id": "958847b8-aeef-474c-90d5-2b02ddb5a639",
   "metadata": {},
   "outputs": [],
   "source": [
    "n = len(base3['연도'].unique())\n",
    "for i in range(base3.shape[0] // n):\n",
    "    for j in range(2, n+1):\n",
    "        base3.loc[(i+1)*n - j, '차량대수'] = base3.loc[(i+1)*n - (j-1), '차량대수'] + base3.loc[(i+1)*n - (j-1), '말소대수'] - base3.loc[(i+1)*n - (j-1), '등록대수']"
   ]
  },
  {
   "cell_type": "code",
   "execution_count": 2184,
   "id": "db7d9622-3491-45b3-bea5-90de61cbb2f1",
   "metadata": {},
   "outputs": [],
   "source": [
    "die = base3.loc[base3['연료'] == '경유', ['연도', '연료', '차량대수']].reset_index(drop=True)\n",
    "gas = base3.loc[base3['연료'] == '휘발유', ['연도', '연료', '차량대수']].reset_index(drop=True)\n",
    "lpg = base3.loc[base3['연료'] == 'LPG(액화석유가스)', ['연도', '연료', '차량대수']].reset_index(drop=True)"
   ]
  },
  {
   "cell_type": "code",
   "execution_count": 2185,
   "id": "171a96c5-7184-4b6f-b3b7-1f3a25fa1972",
   "metadata": {},
   "outputs": [],
   "source": [
    "die['연도'] = die['연도'].astype('int')\n",
    "gas['연도'] = gas['연도'].astype('int')\n",
    "lpg['연도'] = lpg['연도'].astype('int')"
   ]
  },
  {
   "cell_type": "code",
   "execution_count": 2186,
   "id": "8952fd5a-0a95-4095-9466-50b1017b17a3",
   "metadata": {},
   "outputs": [],
   "source": [
    "# 선형 예측\n",
    "fit1 = np.polyfit(die['연도'], die['차량대수'], 1)\n",
    "fit2 = np.polyfit(gas['연도'], gas['차량대수'], 1)\n",
    "fit3 = np.polyfit(lpg['연도'], lpg['차량대수'], 1)\n",
    "a1, b1 = fit1\n",
    "a2, b2 = fit2\n",
    "a3, b3 = fit3"
   ]
  },
  {
   "cell_type": "code",
   "execution_count": 2187,
   "id": "9c0d8182-ad4d-434d-8968-fc11bdb86802",
   "metadata": {},
   "outputs": [],
   "source": [
    "# BSpline 예측\n",
    "spl1 = intp.BSpline(die['연도'], die['차량대수'], 1, extrapolate=True)\n",
    "spl2 = intp.BSpline(gas['연도'], gas['차량대수'], 1, extrapolate=True)\n",
    "spl3 = intp.BSpline(lpg['연도'], lpg['차량대수'], 1, extrapolate=True)\n",
    "spl1pred = spl1(range(year + 1, 2036))\n",
    "spl2pred = spl2(range(year + 1, 2036))\n",
    "spl3pred = spl3(range(year + 1, 2036))"
   ]
  },
  {
   "cell_type": "code",
   "execution_count": 2188,
   "id": "1394310e-6818-46c9-949e-d264806b8948",
   "metadata": {},
   "outputs": [],
   "source": [
    "# akima 예측\n",
    "aki1 = intp.Akima1DInterpolator(die['연도'], die['차량대수'])\n",
    "aki2 = intp.Akima1DInterpolator(gas['연도'], gas['차량대수'])\n",
    "aki3 = intp.Akima1DInterpolator(lpg['연도'], lpg['차량대수'])\n",
    "aki1pred = aki1([x for x in range(year + 1, 2036)], extrapolate=True)\n",
    "aki2pred = aki2([x for x in range(year + 1, 2036)], extrapolate=True)\n",
    "aki3pred = aki3([x for x in range(year + 1, 2036)], extrapolate=True)"
   ]
  },
  {
   "cell_type": "code",
   "execution_count": 2189,
   "id": "873050bc-c3ad-4156-ae22-321b7d6f95fa",
   "metadata": {},
   "outputs": [],
   "source": [
    "yr_list = []\n",
    "fuel_list = []\n",
    "pred_list = []\n",
    "fuel = '경유'\n",
    "for yr in range(year + 1, 2036):\n",
    "    pred = a1 * yr + b1\n",
    "    yr_list.append(yr)\n",
    "    fuel_list.append(fuel)\n",
    "    pred_list.append(pred)\n",
    "die_pred = pd.DataFrame({'연도':yr_list, '연료':fuel_list, '경유_예측':pred_list})\n",
    "die_pred['경유_예측_BSpline'] = spl1pred\n",
    "die_pred['경유_예측_Akima'] = aki1pred"
   ]
  },
  {
   "cell_type": "code",
   "execution_count": 2190,
   "id": "918bd9ff-7a33-4e21-9b1b-00a169f2742d",
   "metadata": {},
   "outputs": [],
   "source": [
    "yr_list = []\n",
    "fuel_list = []\n",
    "pred_list = []\n",
    "fuel = '휘발유'\n",
    "for yr in range(year + 1, 2036):\n",
    "    pred = a2 * yr + b2\n",
    "    yr_list.append(yr)\n",
    "    fuel_list.append(fuel)\n",
    "    pred_list.append(pred)\n",
    "gas_pred = pd.DataFrame({'연도':yr_list, '연료':fuel_list, '휘발유_예측':pred_list})\n",
    "gas_pred['휘발유_예측_BSpline'] = spl2pred\n",
    "gas_pred['휘발유_예측_Akima'] = aki2pred"
   ]
  },
  {
   "cell_type": "code",
   "execution_count": 2191,
   "id": "bd3ebb27-6533-4c1b-9b3a-ba1e56ba2cb6",
   "metadata": {},
   "outputs": [],
   "source": [
    "yr_list = []\n",
    "fuel_list = []\n",
    "pred_list = []\n",
    "fuel = 'LPG'\n",
    "for yr in range(year + 1, 2036):\n",
    "    pred = a3 * yr + b3\n",
    "    yr_list.append(yr)\n",
    "    fuel_list.append(fuel)\n",
    "    pred_list.append(pred)\n",
    "lpg_pred = pd.DataFrame({'연도':yr_list, '연료':fuel_list, 'LPG_예측':pred_list})\n",
    "lpg_pred['LPG_예측_BSpline'] = spl3pred\n",
    "lpg_pred['LPG_예측_Akima'] = aki3pred"
   ]
  },
  {
   "cell_type": "code",
   "execution_count": 2192,
   "id": "8826d1c2-ba68-4bfb-be7d-0fcbb9cbeb75",
   "metadata": {},
   "outputs": [],
   "source": [
    "die_t = pd.concat([die, die_pred], ignore_index=True)\n",
    "gas_t = pd.concat([gas, gas_pred], ignore_index=True)\n",
    "lpg_t = pd.concat([lpg, lpg_pred], ignore_index=True)\n",
    "die_t = die_t.rename(columns={'차량대수':'경유_대수'})\n",
    "gas_t = gas_t.rename(columns={'차량대수':'휘발유_대수'})\n",
    "lpg_t = lpg_t.rename(columns={'차량대수':'LPG_대수'})"
   ]
  },
  {
   "cell_type": "code",
   "execution_count": 2193,
   "id": "19321871-aff9-4257-952b-01922ee8480b",
   "metadata": {},
   "outputs": [],
   "source": [
    "df5 = pd.concat([die_t[['연도', '경유_대수', '경유_예측', '경유_예측_BSpline', '경유_예측_Akima']], gas_t[['휘발유_대수', '휘발유_예측', '휘발유_예측_BSpline', '휘발유_예측_Akima']], lpg_t[['LPG_대수', 'LPG_예측', 'LPG_예측_BSpline', 'LPG_예측_Akima']]], axis=1)"
   ]
  },
  {
   "cell_type": "code",
   "execution_count": 2194,
   "id": "400554c7-92b1-4c4d-b166-7b8ce310f75c",
   "metadata": {},
   "outputs": [],
   "source": [
    "# 음수 0으로 처리\n",
    "df5.loc[df5['경유_예측'] < 0, '경유_예측'] = 0\n",
    "df5.loc[df5['경유_예측_BSpline'] < 0, '경유_예측_BSpline'] = 0\n",
    "df5.loc[df5['경유_예측_Akima'] < 0, '경유_예측_Akima'] = 0\n",
    "df5.loc[df5['휘발유_예측'] < 0, '휘발유_예측'] = 0\n",
    "df5.loc[df5['휘발유_예측_BSpline'] < 0, '휘발유_예측_BSpline'] = 0\n",
    "df5.loc[df5['휘발유_예측_Akima'] < 0, '휘발유_예측_Akima'] = 0\n",
    "df5.loc[df5['LPG_예측'] < 0, 'LPG_예측'] = 0\n",
    "df5.loc[df5['LPG_예측_BSpline'] < 0, 'LPG_예측_BSpline'] = 0\n",
    "df5.loc[df5['LPG_예측_Akima'] < 0, 'LPG_예측_Akima'] = 0"
   ]
  },
  {
   "cell_type": "code",
   "execution_count": 2195,
   "id": "69ac3ff4-a5da-491f-a902-f5c5a512073c",
   "metadata": {},
   "outputs": [],
   "source": [
    "# 첫째자리까지 반올림\n",
    "df5[['경유_대수', '휘발유_대수', 'LPG_대수', '경유_예측', '경유_예측_BSpline','경유_예측_Akima', '휘발유_예측', '휘발유_예측_BSpline', '휘발유_예측_Akima', 'LPG_예측', 'LPG_예측_BSpline', 'LPG_예측_Akima']] = df5[['경유_대수', '휘발유_대수', 'LPG_대수', '경유_예측', '경유_예측_BSpline','경유_예측_Akima', '휘발유_예측', '휘발유_예측_BSpline', '휘발유_예측_Akima', 'LPG_예측', 'LPG_예측_BSpline', 'LPG_예측_Akima']].round(0)"
   ]
  },
  {
   "cell_type": "code",
   "execution_count": 2196,
   "id": "2056abef-12d9-4188-b964-82617d8ec61b",
   "metadata": {},
   "outputs": [],
   "source": [
    "today_date = datetime.today().strftime(\"%Y%m%d\")\n",
    "df5['테이블생성일자'] = today_date\n",
    "df5 = df5[[\n",
    "   '테이블생성일자',\n",
    "   '연도',\n",
    "   '경유_대수',\n",
    "   '휘발유_대수',\n",
    "   'LPG_대수',\n",
    "   '경유_예측',\n",
    "   '경유_예측_BSpline',\n",
    "   '경유_예측_Akima',\n",
    "   '휘발유_예측',\n",
    "   '휘발유_예측_BSpline',\n",
    "   '휘발유_예측_Akima',\n",
    "   'LPG_예측',\n",
    "   'LPG_예측_BSpline',\n",
    "   'LPG_예측_Akima',\n",
    "    ]]\n",
    "cdict = {\n",
    "    '테이블생성일자':'LOAD_DT', \n",
    "    '연도':'YR', \n",
    "    '경유_대수':'DSL', \n",
    "    '휘발유_대수':'GSL', \n",
    "    'LPG_대수':'LPG', \n",
    "    '경유_예측':'DSL_PRET', \n",
    "    '경유_예측_BSpline':'DSL_PRET_BSPLN', \n",
    "    '경유_예측_Akima':'DSL_PRET_AKM', \n",
    "    '휘발유_예측':'GSL_PRET', \n",
    "    '휘발유_예측_BSpline':'GSL_PRET_BSPLN', \n",
    "    '휘발유_예측_Akima':'GSL_PRET_AKM', \n",
    "    'LPG_예측':'LPG_PRET',\n",
    "    'LPG_예측_BSpline':'LPG_PRET_BSPLN',\n",
    "    'LPG_예측_Akima':'LPG_PRET_AKM',\n",
    "}\n",
    "STD_BD_CAR_PRET = df5.rename(columns=cdict)"
   ]
  },
  {
   "cell_type": "code",
   "execution_count": 2197,
   "id": "971a1762-54e6-41b7-a9b8-1dc90ad73f3e",
   "metadata": {},
   "outputs": [
    {
     "data": {
      "text/plain": [
       "Index(['LOAD_DT', 'YR', 'DSL', 'GSL', 'LPG', 'DSL_PRET', 'DSL_PRET_BSPLN',\n",
       "       'DSL_PRET_AKM', 'GSL_PRET', 'GSL_PRET_BSPLN', 'GSL_PRET_AKM',\n",
       "       'LPG_PRET', 'LPG_PRET_BSPLN', 'LPG_PRET_AKM'],\n",
       "      dtype='object')"
      ]
     },
     "execution_count": 2197,
     "metadata": {},
     "output_type": "execute_result"
    }
   ],
   "source": [
    "STD_BD_CAR_PRET.columns"
   ]
  },
  {
   "cell_type": "markdown",
   "id": "46187df9-7c26-472c-aed7-722556a41524",
   "metadata": {},
   "source": [
    "### [출력] STD_BD_CAR_PRET"
   ]
  },
  {
   "cell_type": "code",
   "execution_count": 2198,
   "id": "5d9fc716-624d-40e6-8f38-18371b825a0f",
   "metadata": {},
   "outputs": [],
   "source": [
    "# expdf = STD_BD_CAR_PRET\n",
    "# table_nm = 'STD_BD_CAR_PRET'.upper()\n",
    "\n",
    "# # 테이블 생성\n",
    "# sql = 'create or replace table ' + table_nm + '( \\n'\n",
    "\n",
    "# for idx,column in enumerate(expdf.columns):\n",
    "#     sql += column + ' varchar(255)'\n",
    "\n",
    "#     if len(expdf.columns) - 1 != idx:\n",
    "#         sql += ','\n",
    "#     sql += '\\n'\n",
    "# sql += ')'    \n",
    "# we.execute(sql)\n",
    "\n",
    "# # 데이터 추가\n",
    "# # 7s\n",
    "# we.import_from_pandas(expdf, table_nm)\n",
    "\n",
    "# print(f'data export : {table_nm}')"
   ]
  },
  {
   "cell_type": "code",
   "execution_count": 2199,
   "id": "d4fbda71-3d68-4d23-ba17-fcfc67c7b087",
   "metadata": {},
   "outputs": [],
   "source": [
    "## 하이브리드 연료, 연도별 차량 현황 예측\n",
    "# - 경유 하이브리드, 휘발유 하이브리드, LPG 하이브리드\n",
    "dfm2h = dfm2.loc[(dfm2['연료'] == '경유 하이브리드') | (dfm2['연료'] == '휘발유 하이브리드') | (dfm2['연료'] == 'LPG 하이브리드')].reset_index(drop=True)\n",
    "errc2h = errc2.loc[(errc2['연료'] == '경유 하이브리드') | (errc2['연료'] == '휘발유 하이브리드') | (errc2['연료'] == 'LPG 하이브리드')].reset_index(drop=True)"
   ]
  },
  {
   "cell_type": "code",
   "execution_count": 2200,
   "id": "a7039670-129d-4bdc-85be-7c2265f6b6ee",
   "metadata": {},
   "outputs": [],
   "source": [
    "# 2022년 차량 대수\n",
    "grp1 = dfm2h.groupby('연료', as_index=False)['차대번호'].count()\n",
    "grp1 = grp1.rename(columns={'차대번호':'차량대수'})\n",
    "grp1['연도'] = f'{year}'\n",
    "grp1 = grp1[['연도', '연료', '차량대수']]"
   ]
  },
  {
   "cell_type": "code",
   "execution_count": 2201,
   "id": "017b778c-8685-4f64-8990-bf0afb6f87ee",
   "metadata": {},
   "outputs": [],
   "source": [
    "# 차량 통계 기본 데이터셋\n",
    "yr_list = []\n",
    "fuel_list = []\n",
    "for fuel in grp1['연료'].unique():\n",
    "    for yr in range(2019, year + 1):\n",
    "        yr_list.append(str(yr))\n",
    "        fuel_list.append(fuel)\n",
    "base = pd.DataFrame({'연도':yr_list, '연료':fuel_list})"
   ]
  },
  {
   "cell_type": "code",
   "execution_count": 2202,
   "id": "6fcdc0a9-7d0b-4976-b5c5-b2187aff3e3a",
   "metadata": {},
   "outputs": [],
   "source": [
    "# 연도별 등록대수\n",
    "grp2 = dfm2h.groupby(['최초등록일자_년', '연료'], as_index=False)['차대번호'].count()\n",
    "grp2 = grp2.rename(columns={'최초등록일자_년':'연도', '차대번호':'등록대수'})"
   ]
  },
  {
   "cell_type": "code",
   "execution_count": 2203,
   "id": "99e7572f-d723-420b-9dce-e01f2c1140bd",
   "metadata": {},
   "outputs": [],
   "source": [
    "# 연도별 말소대수\n",
    "grp3 = errc2h.groupby(['변경일자_년', '연료'], as_index=False)['차대번호'].count()\n",
    "grp3 = grp3.rename(columns={'변경일자_년':'연도', '차대번호':'말소대수'})\n",
    "base1 = base.merge(grp1, on=['연도', '연료'], how='left')\n",
    "base2 = base1.merge(grp2, on=['연도', '연료'], how='left')\n",
    "base3 = base2.merge(grp3, on=['연도', '연료'], how='left')\n",
    "base3[['차량대수', '등록대수', '말소대수']] = base3[['차량대수', '등록대수', '말소대수']].fillna(0)"
   ]
  },
  {
   "cell_type": "code",
   "execution_count": 2204,
   "id": "433a8828-0458-479f-adb4-66284dd8ca85",
   "metadata": {},
   "outputs": [],
   "source": [
    "n = len(base3['연도'].unique())\n",
    "for i in range(base3.shape[0] // n):\n",
    "    for j in range(2, n+1):\n",
    "        base3.loc[(i+1)*n - j, '차량대수'] = base3.loc[(i+1)*n - (j-1), '차량대수'] + base3.loc[(i+1)*n - (j-1), '말소대수'] - base3.loc[(i+1)*n - (j-1), '등록대수']"
   ]
  },
  {
   "cell_type": "code",
   "execution_count": 2205,
   "id": "1b9d2bb2-86a6-4889-b153-4e706186411c",
   "metadata": {},
   "outputs": [],
   "source": [
    "die = base3.loc[base3['연료'] == '경유 하이브리드', ['연도', '연료', '차량대수']].reset_index(drop=True)\n",
    "gas = base3.loc[base3['연료'] == '휘발유 하이브리드', ['연도', '연료', '차량대수']].reset_index(drop=True)\n",
    "lpg = base3.loc[base3['연료'] == 'LPG 하이브리드', ['연도', '연료', '차량대수']].reset_index(drop=True)\n",
    "die['연도'] = die['연도'].astype('int')\n",
    "gas['연도'] = gas['연도'].astype('int')\n",
    "lpg['연도'] = lpg['연도'].astype('int')"
   ]
  },
  {
   "cell_type": "code",
   "execution_count": 2206,
   "id": "a8aa8bbd-807b-49a8-b189-56aa6c1d59fb",
   "metadata": {},
   "outputs": [],
   "source": [
    "# 선형예측\n",
    "fit1 = np.polyfit(die['연도'], die['차량대수'], 1)\n",
    "fit2 = np.polyfit(gas['연도'], gas['차량대수'], 1)\n",
    "fit3 = np.polyfit(lpg['연도'], lpg['차량대수'], 1)\n",
    "a1, b1 = fit1\n",
    "a2, b2 = fit2\n",
    "a3, b3 = fit3"
   ]
  },
  {
   "cell_type": "code",
   "execution_count": 2207,
   "id": "d3394111-f64b-47b9-8631-d02adac795d2",
   "metadata": {},
   "outputs": [],
   "source": [
    "# BSpline 예측\n",
    "spl1 = intp.BSpline(die['연도'], die['차량대수'], 1, extrapolate=True)\n",
    "spl2 = intp.BSpline(gas['연도'], gas['차량대수'], 1, extrapolate=True)\n",
    "spl3 = intp.BSpline(lpg['연도'], lpg['차량대수'], 1, extrapolate=True)\n",
    "spl1pred = spl1(range(year + 1, 2036))\n",
    "spl2pred = spl2(range(year + 1, 2036))\n",
    "spl3pred = spl3(range(year + 1, 2036))"
   ]
  },
  {
   "cell_type": "code",
   "execution_count": 2208,
   "id": "49cfaa98-3f82-4c43-943a-c7193dcc80af",
   "metadata": {},
   "outputs": [],
   "source": [
    "# akima 예측\n",
    "aki1 = intp.Akima1DInterpolator(die['연도'], die['차량대수'])\n",
    "aki2 = intp.Akima1DInterpolator(gas['연도'], gas['차량대수'])\n",
    "aki3 = intp.Akima1DInterpolator(lpg['연도'], lpg['차량대수'])\n",
    "aki1pred = aki1([x for x in range(year + 1, 2036)], extrapolate=True)\n",
    "aki2pred = aki2([x for x in range(year + 1, 2036)], extrapolate=True)\n",
    "aki3pred = aki3([x for x in range(year + 1, 2036)], extrapolate=True)"
   ]
  },
  {
   "cell_type": "code",
   "execution_count": 2209,
   "id": "cba1945f-af2b-47b9-bfa6-24ed04391986",
   "metadata": {},
   "outputs": [],
   "source": [
    "yr_list = []\n",
    "fuel_list = []\n",
    "pred_list = []\n",
    "fuel = '경유_하이브리드'\n",
    "for yr in range(year + 1, 2036):\n",
    "    pred = a1 * yr + b1\n",
    "    yr_list.append(yr)\n",
    "    fuel_list.append(fuel)\n",
    "    pred_list.append(pred)\n",
    "die_pred = pd.DataFrame({'연도':yr_list, '연료':fuel_list, f'{fuel}_예측':pred_list})\n",
    "die_pred[f'{fuel}_예측_BSpline'] = spl1pred\n",
    "die_pred[f'{fuel}_예측_Akima'] = aki1pred"
   ]
  },
  {
   "cell_type": "code",
   "execution_count": 2210,
   "id": "7650c364-7453-483b-927b-43adab668779",
   "metadata": {},
   "outputs": [
    {
     "data": {
      "text/plain": [
       "Index(['연도', '연료', '경유_하이브리드_예측', '경유_하이브리드_예측_BSpline', '경유_하이브리드_예측_Akima'], dtype='object')"
      ]
     },
     "execution_count": 2210,
     "metadata": {},
     "output_type": "execute_result"
    }
   ],
   "source": [
    "die_pred.columns"
   ]
  },
  {
   "cell_type": "code",
   "execution_count": 2211,
   "id": "76dbed21-4c08-4f98-ac8f-fdd80a4c226a",
   "metadata": {},
   "outputs": [],
   "source": [
    "yr_list = []\n",
    "fuel_list = []\n",
    "pred_list = []\n",
    "fuel = '휘발유_하이브리드'\n",
    "for yr in range(year + 1, 2036):\n",
    "    pred = a2 * yr + b2\n",
    "    yr_list.append(yr)\n",
    "    fuel_list.append(fuel)\n",
    "    pred_list.append(pred)\n",
    "gas_pred = pd.DataFrame({'연도':yr_list, '연료':fuel_list, f'{fuel}_예측':pred_list})\n",
    "gas_pred[f'{fuel}_예측_BSpline'] = spl2pred\n",
    "gas_pred[f'{fuel}_예측_Akima'] = aki2pred"
   ]
  },
  {
   "cell_type": "code",
   "execution_count": 2212,
   "id": "b3a4e1a6-2ce3-435f-8a9e-01c1da7bfee2",
   "metadata": {},
   "outputs": [
    {
     "data": {
      "text/plain": [
       "Index(['연도', '연료', '휘발유_하이브리드_예측', '휘발유_하이브리드_예측_BSpline',\n",
       "       '휘발유_하이브리드_예측_Akima'],\n",
       "      dtype='object')"
      ]
     },
     "execution_count": 2212,
     "metadata": {},
     "output_type": "execute_result"
    }
   ],
   "source": [
    "gas_pred.columns"
   ]
  },
  {
   "cell_type": "code",
   "execution_count": 2213,
   "id": "62e41b34-0674-4541-8975-aca39a3ff235",
   "metadata": {},
   "outputs": [],
   "source": [
    "yr_list = []\n",
    "fuel_list = []\n",
    "pred_list = []\n",
    "fuel = 'LPG_하이브리드'\n",
    "for yr in range(year + 1, 2036):\n",
    "    pred = a3 * yr + b3\n",
    "    yr_list.append(yr)\n",
    "    fuel_list.append(fuel)\n",
    "    pred_list.append(pred)\n",
    "lpg_pred = pd.DataFrame({'연도':yr_list, '연료':fuel_list, f'{fuel}_예측':pred_list})\n",
    "lpg_pred[f'{fuel}_예측_BSpline'] = spl3pred\n",
    "lpg_pred[f'{fuel}_예측_Akima'] = aki3pred"
   ]
  },
  {
   "cell_type": "code",
   "execution_count": 2214,
   "id": "93097e61-bc47-470f-93db-228a43dcc97c",
   "metadata": {},
   "outputs": [
    {
     "data": {
      "text/plain": [
       "Index(['연도', '연료', 'LPG_하이브리드_예측', 'LPG_하이브리드_예측_BSpline',\n",
       "       'LPG_하이브리드_예측_Akima'],\n",
       "      dtype='object')"
      ]
     },
     "execution_count": 2214,
     "metadata": {},
     "output_type": "execute_result"
    }
   ],
   "source": [
    "lpg_pred.columns"
   ]
  },
  {
   "cell_type": "code",
   "execution_count": 2215,
   "id": "4d3ccc91-6d83-431d-9af9-84544a37d8e6",
   "metadata": {},
   "outputs": [],
   "source": [
    "die_t = pd.concat([die, die_pred], ignore_index=True)\n",
    "gas_t = pd.concat([gas, gas_pred], ignore_index=True)\n",
    "lpg_t = pd.concat([lpg, lpg_pred], ignore_index=True)\n",
    "die_t = die_t.rename(columns={'차량대수':'경유_하이브리드_대수'})\n",
    "gas_t = gas_t.rename(columns={'차량대수':'휘발유_하이브리드_대수'})\n",
    "lpg_t = lpg_t.rename(columns={'차량대수':'LPG_하이브리드_대수'})"
   ]
  },
  {
   "cell_type": "code",
   "execution_count": 2216,
   "id": "a7ccfc1b-d352-45e1-ae68-411a61ce6869",
   "metadata": {},
   "outputs": [
    {
     "data": {
      "text/plain": [
       "Index(['연도', '연료', '경유_하이브리드_대수', '경유_하이브리드_예측', '경유_하이브리드_예측_BSpline',\n",
       "       '경유_하이브리드_예측_Akima'],\n",
       "      dtype='object')"
      ]
     },
     "execution_count": 2216,
     "metadata": {},
     "output_type": "execute_result"
    }
   ],
   "source": [
    "die_t.columns"
   ]
  },
  {
   "cell_type": "code",
   "execution_count": 2217,
   "id": "0b500a86-4035-4bdf-8221-5ac86c67daba",
   "metadata": {},
   "outputs": [],
   "source": [
    "die_t = die_t.drop('연료', axis=1)\n",
    "gas_t = gas_t.drop(['연도', '연료'], axis=1)\n",
    "lpg_t = lpg_t.drop(['연도', '연료'], axis=1)"
   ]
  },
  {
   "cell_type": "code",
   "execution_count": 2218,
   "id": "d55154e5-a764-4269-88f6-df60d790fbd1",
   "metadata": {},
   "outputs": [],
   "source": [
    "df5 = pd.concat([die_t, gas_t, lpg_t], axis=1)"
   ]
  },
  {
   "cell_type": "code",
   "execution_count": 2219,
   "id": "574efec7-142f-41c0-98bd-782e0deef876",
   "metadata": {
    "tags": []
   },
   "outputs": [
    {
     "data": {
      "text/plain": [
       "Index(['연도', '경유_하이브리드_대수', '경유_하이브리드_예측', '경유_하이브리드_예측_BSpline',\n",
       "       '경유_하이브리드_예측_Akima', '휘발유_하이브리드_대수', '휘발유_하이브리드_예측',\n",
       "       '휘발유_하이브리드_예측_BSpline', '휘발유_하이브리드_예측_Akima', 'LPG_하이브리드_대수',\n",
       "       'LPG_하이브리드_예측', 'LPG_하이브리드_예측_BSpline', 'LPG_하이브리드_예측_Akima'],\n",
       "      dtype='object')"
      ]
     },
     "execution_count": 2219,
     "metadata": {},
     "output_type": "execute_result"
    }
   ],
   "source": [
    "df5.columns"
   ]
  },
  {
   "cell_type": "code",
   "execution_count": 2220,
   "id": "fe2b9182-e2ca-439f-82c0-e580818e1383",
   "metadata": {},
   "outputs": [
    {
     "data": {
      "text/html": [
       "<div>\n",
       "<style scoped>\n",
       "    .dataframe tbody tr th:only-of-type {\n",
       "        vertical-align: middle;\n",
       "    }\n",
       "\n",
       "    .dataframe tbody tr th {\n",
       "        vertical-align: top;\n",
       "    }\n",
       "\n",
       "    .dataframe thead th {\n",
       "        text-align: right;\n",
       "    }\n",
       "</style>\n",
       "<table border=\"1\" class=\"dataframe\">\n",
       "  <thead>\n",
       "    <tr style=\"text-align: right;\">\n",
       "      <th></th>\n",
       "      <th>연도</th>\n",
       "      <th>경유_하이브리드_대수</th>\n",
       "      <th>경유_하이브리드_예측</th>\n",
       "      <th>경유_하이브리드_예측_BSpline</th>\n",
       "      <th>경유_하이브리드_예측_Akima</th>\n",
       "      <th>휘발유_하이브리드_대수</th>\n",
       "      <th>휘발유_하이브리드_예측</th>\n",
       "      <th>휘발유_하이브리드_예측_BSpline</th>\n",
       "      <th>휘발유_하이브리드_예측_Akima</th>\n",
       "      <th>LPG_하이브리드_대수</th>\n",
       "      <th>LPG_하이브리드_예측</th>\n",
       "      <th>LPG_하이브리드_예측_BSpline</th>\n",
       "      <th>LPG_하이브리드_예측_Akima</th>\n",
       "    </tr>\n",
       "  </thead>\n",
       "  <tbody>\n",
       "    <tr>\n",
       "      <th>0</th>\n",
       "      <td>2019</td>\n",
       "      <td>3300.00</td>\n",
       "      <td>NaN</td>\n",
       "      <td>NaN</td>\n",
       "      <td>NaN</td>\n",
       "      <td>495260.00</td>\n",
       "      <td>NaN</td>\n",
       "      <td>NaN</td>\n",
       "      <td>NaN</td>\n",
       "      <td>16669.00</td>\n",
       "      <td>NaN</td>\n",
       "      <td>NaN</td>\n",
       "      <td>NaN</td>\n",
       "    </tr>\n",
       "    <tr>\n",
       "      <th>1</th>\n",
       "      <td>2020</td>\n",
       "      <td>10298.00</td>\n",
       "      <td>NaN</td>\n",
       "      <td>NaN</td>\n",
       "      <td>NaN</td>\n",
       "      <td>654531.00</td>\n",
       "      <td>NaN</td>\n",
       "      <td>NaN</td>\n",
       "      <td>NaN</td>\n",
       "      <td>15979.00</td>\n",
       "      <td>NaN</td>\n",
       "      <td>NaN</td>\n",
       "      <td>NaN</td>\n",
       "    </tr>\n",
       "    <tr>\n",
       "      <th>2</th>\n",
       "      <td>2021</td>\n",
       "      <td>23622.00</td>\n",
       "      <td>NaN</td>\n",
       "      <td>NaN</td>\n",
       "      <td>NaN</td>\n",
       "      <td>873654.00</td>\n",
       "      <td>NaN</td>\n",
       "      <td>NaN</td>\n",
       "      <td>NaN</td>\n",
       "      <td>14967.00</td>\n",
       "      <td>NaN</td>\n",
       "      <td>NaN</td>\n",
       "      <td>NaN</td>\n",
       "    </tr>\n",
       "    <tr>\n",
       "      <th>3</th>\n",
       "      <td>2022</td>\n",
       "      <td>38345.00</td>\n",
       "      <td>NaN</td>\n",
       "      <td>NaN</td>\n",
       "      <td>NaN</td>\n",
       "      <td>1120259.00</td>\n",
       "      <td>NaN</td>\n",
       "      <td>NaN</td>\n",
       "      <td>NaN</td>\n",
       "      <td>13873.00</td>\n",
       "      <td>NaN</td>\n",
       "      <td>NaN</td>\n",
       "      <td>NaN</td>\n",
       "    </tr>\n",
       "    <tr>\n",
       "      <th>4</th>\n",
       "      <td>2023</td>\n",
       "      <td>47315.00</td>\n",
       "      <td>NaN</td>\n",
       "      <td>NaN</td>\n",
       "      <td>NaN</td>\n",
       "      <td>1403065.00</td>\n",
       "      <td>NaN</td>\n",
       "      <td>NaN</td>\n",
       "      <td>NaN</td>\n",
       "      <td>12640.00</td>\n",
       "      <td>NaN</td>\n",
       "      <td>NaN</td>\n",
       "      <td>NaN</td>\n",
       "    </tr>\n",
       "  </tbody>\n",
       "</table>\n",
       "</div>"
      ],
      "text/plain": [
       "     연도  경유_하이브리드_대수  경유_하이브리드_예측  경유_하이브리드_예측_BSpline  경유_하이브리드_예측_Akima   \n",
       "0  2019      3300.00          NaN                  NaN                NaN  \\\n",
       "1  2020     10298.00          NaN                  NaN                NaN   \n",
       "2  2021     23622.00          NaN                  NaN                NaN   \n",
       "3  2022     38345.00          NaN                  NaN                NaN   \n",
       "4  2023     47315.00          NaN                  NaN                NaN   \n",
       "\n",
       "   휘발유_하이브리드_대수  휘발유_하이브리드_예측  휘발유_하이브리드_예측_BSpline  휘발유_하이브리드_예측_Akima   \n",
       "0     495260.00           NaN                   NaN                 NaN  \\\n",
       "1     654531.00           NaN                   NaN                 NaN   \n",
       "2     873654.00           NaN                   NaN                 NaN   \n",
       "3    1120259.00           NaN                   NaN                 NaN   \n",
       "4    1403065.00           NaN                   NaN                 NaN   \n",
       "\n",
       "   LPG_하이브리드_대수  LPG_하이브리드_예측  LPG_하이브리드_예측_BSpline  LPG_하이브리드_예측_Akima  \n",
       "0      16669.00           NaN                   NaN                 NaN  \n",
       "1      15979.00           NaN                   NaN                 NaN  \n",
       "2      14967.00           NaN                   NaN                 NaN  \n",
       "3      13873.00           NaN                   NaN                 NaN  \n",
       "4      12640.00           NaN                   NaN                 NaN  "
      ]
     },
     "execution_count": 2220,
     "metadata": {},
     "output_type": "execute_result"
    }
   ],
   "source": [
    "df5.head()"
   ]
  },
  {
   "cell_type": "code",
   "execution_count": 2221,
   "id": "da48a97e-62c4-4976-8be0-f1c65cfd487f",
   "metadata": {},
   "outputs": [
    {
     "data": {
      "text/html": [
       "<div>\n",
       "<style scoped>\n",
       "    .dataframe tbody tr th:only-of-type {\n",
       "        vertical-align: middle;\n",
       "    }\n",
       "\n",
       "    .dataframe tbody tr th {\n",
       "        vertical-align: top;\n",
       "    }\n",
       "\n",
       "    .dataframe thead th {\n",
       "        text-align: right;\n",
       "    }\n",
       "</style>\n",
       "<table border=\"1\" class=\"dataframe\">\n",
       "  <thead>\n",
       "    <tr style=\"text-align: right;\">\n",
       "      <th></th>\n",
       "      <th>경유_하이브리드_대수</th>\n",
       "      <th>경유_하이브리드_예측</th>\n",
       "      <th>경유_하이브리드_예측_BSpline</th>\n",
       "      <th>경유_하이브리드_예측_Akima</th>\n",
       "      <th>휘발유_하이브리드_대수</th>\n",
       "      <th>휘발유_하이브리드_예측</th>\n",
       "      <th>휘발유_하이브리드_예측_BSpline</th>\n",
       "      <th>휘발유_하이브리드_예측_Akima</th>\n",
       "      <th>LPG_하이브리드_대수</th>\n",
       "      <th>LPG_하이브리드_예측</th>\n",
       "      <th>LPG_하이브리드_예측_BSpline</th>\n",
       "      <th>LPG_하이브리드_예측_Akima</th>\n",
       "    </tr>\n",
       "  </thead>\n",
       "  <tbody>\n",
       "    <tr>\n",
       "      <th>0</th>\n",
       "      <td>3300.00</td>\n",
       "      <td>NaN</td>\n",
       "      <td>NaN</td>\n",
       "      <td>NaN</td>\n",
       "      <td>495260.00</td>\n",
       "      <td>NaN</td>\n",
       "      <td>NaN</td>\n",
       "      <td>NaN</td>\n",
       "      <td>16669.00</td>\n",
       "      <td>NaN</td>\n",
       "      <td>NaN</td>\n",
       "      <td>NaN</td>\n",
       "    </tr>\n",
       "    <tr>\n",
       "      <th>1</th>\n",
       "      <td>10298.00</td>\n",
       "      <td>NaN</td>\n",
       "      <td>NaN</td>\n",
       "      <td>NaN</td>\n",
       "      <td>654531.00</td>\n",
       "      <td>NaN</td>\n",
       "      <td>NaN</td>\n",
       "      <td>NaN</td>\n",
       "      <td>15979.00</td>\n",
       "      <td>NaN</td>\n",
       "      <td>NaN</td>\n",
       "      <td>NaN</td>\n",
       "    </tr>\n",
       "    <tr>\n",
       "      <th>2</th>\n",
       "      <td>23622.00</td>\n",
       "      <td>NaN</td>\n",
       "      <td>NaN</td>\n",
       "      <td>NaN</td>\n",
       "      <td>873654.00</td>\n",
       "      <td>NaN</td>\n",
       "      <td>NaN</td>\n",
       "      <td>NaN</td>\n",
       "      <td>14967.00</td>\n",
       "      <td>NaN</td>\n",
       "      <td>NaN</td>\n",
       "      <td>NaN</td>\n",
       "    </tr>\n",
       "    <tr>\n",
       "      <th>3</th>\n",
       "      <td>38345.00</td>\n",
       "      <td>NaN</td>\n",
       "      <td>NaN</td>\n",
       "      <td>NaN</td>\n",
       "      <td>1120259.00</td>\n",
       "      <td>NaN</td>\n",
       "      <td>NaN</td>\n",
       "      <td>NaN</td>\n",
       "      <td>13873.00</td>\n",
       "      <td>NaN</td>\n",
       "      <td>NaN</td>\n",
       "      <td>NaN</td>\n",
       "    </tr>\n",
       "    <tr>\n",
       "      <th>4</th>\n",
       "      <td>47315.00</td>\n",
       "      <td>NaN</td>\n",
       "      <td>NaN</td>\n",
       "      <td>NaN</td>\n",
       "      <td>1403065.00</td>\n",
       "      <td>NaN</td>\n",
       "      <td>NaN</td>\n",
       "      <td>NaN</td>\n",
       "      <td>12640.00</td>\n",
       "      <td>NaN</td>\n",
       "      <td>NaN</td>\n",
       "      <td>NaN</td>\n",
       "    </tr>\n",
       "  </tbody>\n",
       "</table>\n",
       "</div>"
      ],
      "text/plain": [
       "   경유_하이브리드_대수  경유_하이브리드_예측  경유_하이브리드_예측_BSpline  경유_하이브리드_예측_Akima   \n",
       "0      3300.00          NaN                  NaN                NaN  \\\n",
       "1     10298.00          NaN                  NaN                NaN   \n",
       "2     23622.00          NaN                  NaN                NaN   \n",
       "3     38345.00          NaN                  NaN                NaN   \n",
       "4     47315.00          NaN                  NaN                NaN   \n",
       "\n",
       "   휘발유_하이브리드_대수  휘발유_하이브리드_예측  휘발유_하이브리드_예측_BSpline  휘발유_하이브리드_예측_Akima   \n",
       "0     495260.00           NaN                   NaN                 NaN  \\\n",
       "1     654531.00           NaN                   NaN                 NaN   \n",
       "2     873654.00           NaN                   NaN                 NaN   \n",
       "3    1120259.00           NaN                   NaN                 NaN   \n",
       "4    1403065.00           NaN                   NaN                 NaN   \n",
       "\n",
       "   LPG_하이브리드_대수  LPG_하이브리드_예측  LPG_하이브리드_예측_BSpline  LPG_하이브리드_예측_Akima  \n",
       "0      16669.00           NaN                   NaN                 NaN  \n",
       "1      15979.00           NaN                   NaN                 NaN  \n",
       "2      14967.00           NaN                   NaN                 NaN  \n",
       "3      13873.00           NaN                   NaN                 NaN  \n",
       "4      12640.00           NaN                   NaN                 NaN  "
      ]
     },
     "execution_count": 2221,
     "metadata": {},
     "output_type": "execute_result"
    }
   ],
   "source": [
    "df5.iloc[:, 1:].head()"
   ]
  },
  {
   "cell_type": "code",
   "execution_count": 2222,
   "id": "a9cf0e41-9794-4b80-ad19-2a1ff31ef623",
   "metadata": {
    "tags": []
   },
   "outputs": [
    {
     "data": {
      "text/html": [
       "<div>\n",
       "<style scoped>\n",
       "    .dataframe tbody tr th:only-of-type {\n",
       "        vertical-align: middle;\n",
       "    }\n",
       "\n",
       "    .dataframe tbody tr th {\n",
       "        vertical-align: top;\n",
       "    }\n",
       "\n",
       "    .dataframe thead th {\n",
       "        text-align: right;\n",
       "    }\n",
       "</style>\n",
       "<table border=\"1\" class=\"dataframe\">\n",
       "  <thead>\n",
       "    <tr style=\"text-align: right;\">\n",
       "      <th></th>\n",
       "      <th>경유_하이브리드_대수</th>\n",
       "      <th>경유_하이브리드_예측</th>\n",
       "      <th>경유_하이브리드_예측_BSpline</th>\n",
       "      <th>경유_하이브리드_예측_Akima</th>\n",
       "      <th>휘발유_하이브리드_대수</th>\n",
       "      <th>휘발유_하이브리드_예측</th>\n",
       "      <th>휘발유_하이브리드_예측_BSpline</th>\n",
       "      <th>휘발유_하이브리드_예측_Akima</th>\n",
       "      <th>LPG_하이브리드_대수</th>\n",
       "      <th>LPG_하이브리드_예측</th>\n",
       "      <th>LPG_하이브리드_예측_BSpline</th>\n",
       "      <th>LPG_하이브리드_예측_Akima</th>\n",
       "    </tr>\n",
       "  </thead>\n",
       "  <tbody>\n",
       "    <tr>\n",
       "      <th>12</th>\n",
       "      <td>NaN</td>\n",
       "      <td>140653.00</td>\n",
       "      <td>143538.00</td>\n",
       "      <td>920633.93</td>\n",
       "      <td>NaN</td>\n",
       "      <td>3190691.80</td>\n",
       "      <td>2845761.00</td>\n",
       "      <td>3541314.40</td>\n",
       "      <td>NaN</td>\n",
       "      <td>4661.60</td>\n",
       "      <td>5859.00</td>\n",
       "      <td>8097.00</td>\n",
       "    </tr>\n",
       "    <tr>\n",
       "      <th>13</th>\n",
       "      <td>NaN</td>\n",
       "      <td>152260.70</td>\n",
       "      <td>156862.00</td>\n",
       "      <td>1287597.86</td>\n",
       "      <td>NaN</td>\n",
       "      <td>3418825.60</td>\n",
       "      <td>3064884.00</td>\n",
       "      <td>3570034.10</td>\n",
       "      <td>NaN</td>\n",
       "      <td>3645.20</td>\n",
       "      <td>4847.00</td>\n",
       "      <td>9807.52</td>\n",
       "    </tr>\n",
       "    <tr>\n",
       "      <th>14</th>\n",
       "      <td>NaN</td>\n",
       "      <td>163868.40</td>\n",
       "      <td>170186.00</td>\n",
       "      <td>1746873.64</td>\n",
       "      <td>NaN</td>\n",
       "      <td>3646959.40</td>\n",
       "      <td>3284007.00</td>\n",
       "      <td>3496176.43</td>\n",
       "      <td>NaN</td>\n",
       "      <td>2628.80</td>\n",
       "      <td>3835.00</td>\n",
       "      <td>12382.87</td>\n",
       "    </tr>\n",
       "    <tr>\n",
       "      <th>15</th>\n",
       "      <td>NaN</td>\n",
       "      <td>175476.10</td>\n",
       "      <td>183510.00</td>\n",
       "      <td>2308968.21</td>\n",
       "      <td>NaN</td>\n",
       "      <td>3875093.20</td>\n",
       "      <td>3503130.00</td>\n",
       "      <td>3304872.29</td>\n",
       "      <td>NaN</td>\n",
       "      <td>1612.40</td>\n",
       "      <td>2823.00</td>\n",
       "      <td>15930.59</td>\n",
       "    </tr>\n",
       "    <tr>\n",
       "      <th>16</th>\n",
       "      <td>NaN</td>\n",
       "      <td>187083.80</td>\n",
       "      <td>196834.00</td>\n",
       "      <td>2984388.51</td>\n",
       "      <td>NaN</td>\n",
       "      <td>4103227.00</td>\n",
       "      <td>3722253.00</td>\n",
       "      <td>2981252.56</td>\n",
       "      <td>NaN</td>\n",
       "      <td>596.00</td>\n",
       "      <td>1811.00</td>\n",
       "      <td>20558.24</td>\n",
       "    </tr>\n",
       "  </tbody>\n",
       "</table>\n",
       "</div>"
      ],
      "text/plain": [
       "    경유_하이브리드_대수  경유_하이브리드_예측  경유_하이브리드_예측_BSpline  경유_하이브리드_예측_Akima   \n",
       "12          NaN    140653.00            143538.00          920633.93  \\\n",
       "13          NaN    152260.70            156862.00         1287597.86   \n",
       "14          NaN    163868.40            170186.00         1746873.64   \n",
       "15          NaN    175476.10            183510.00         2308968.21   \n",
       "16          NaN    187083.80            196834.00         2984388.51   \n",
       "\n",
       "    휘발유_하이브리드_대수  휘발유_하이브리드_예측  휘발유_하이브리드_예측_BSpline  휘발유_하이브리드_예측_Akima   \n",
       "12           NaN    3190691.80            2845761.00          3541314.40  \\\n",
       "13           NaN    3418825.60            3064884.00          3570034.10   \n",
       "14           NaN    3646959.40            3284007.00          3496176.43   \n",
       "15           NaN    3875093.20            3503130.00          3304872.29   \n",
       "16           NaN    4103227.00            3722253.00          2981252.56   \n",
       "\n",
       "    LPG_하이브리드_대수  LPG_하이브리드_예측  LPG_하이브리드_예측_BSpline  LPG_하이브리드_예측_Akima  \n",
       "12           NaN       4661.60               5859.00             8097.00  \n",
       "13           NaN       3645.20               4847.00             9807.52  \n",
       "14           NaN       2628.80               3835.00            12382.87  \n",
       "15           NaN       1612.40               2823.00            15930.59  \n",
       "16           NaN        596.00               1811.00            20558.24  "
      ]
     },
     "execution_count": 2222,
     "metadata": {},
     "output_type": "execute_result"
    }
   ],
   "source": [
    "df5.iloc[:, 1:].tail()"
   ]
  },
  {
   "cell_type": "code",
   "execution_count": 2223,
   "id": "ef6ae5c4-4638-4c7b-8a47-cc0b63d46407",
   "metadata": {
    "tags": []
   },
   "outputs": [
    {
     "data": {
      "text/html": [
       "<div>\n",
       "<style scoped>\n",
       "    .dataframe tbody tr th:only-of-type {\n",
       "        vertical-align: middle;\n",
       "    }\n",
       "\n",
       "    .dataframe tbody tr th {\n",
       "        vertical-align: top;\n",
       "    }\n",
       "\n",
       "    .dataframe thead th {\n",
       "        text-align: right;\n",
       "    }\n",
       "</style>\n",
       "<table border=\"1\" class=\"dataframe\">\n",
       "  <thead>\n",
       "    <tr style=\"text-align: right;\">\n",
       "      <th></th>\n",
       "      <th>경유_하이브리드_대수</th>\n",
       "      <th>경유_하이브리드_예측</th>\n",
       "      <th>경유_하이브리드_예측_BSpline</th>\n",
       "      <th>경유_하이브리드_예측_Akima</th>\n",
       "      <th>휘발유_하이브리드_대수</th>\n",
       "      <th>휘발유_하이브리드_예측</th>\n",
       "      <th>휘발유_하이브리드_예측_BSpline</th>\n",
       "      <th>휘발유_하이브리드_예측_Akima</th>\n",
       "      <th>LPG_하이브리드_대수</th>\n",
       "      <th>LPG_하이브리드_예측</th>\n",
       "      <th>LPG_하이브리드_예측_BSpline</th>\n",
       "      <th>LPG_하이브리드_예측_Akima</th>\n",
       "    </tr>\n",
       "  </thead>\n",
       "  <tbody>\n",
       "    <tr>\n",
       "      <th>12</th>\n",
       "      <td>NaN</td>\n",
       "      <td>140653.00</td>\n",
       "      <td>143538.00</td>\n",
       "      <td>920633.93</td>\n",
       "      <td>NaN</td>\n",
       "      <td>3190691.80</td>\n",
       "      <td>2845761.00</td>\n",
       "      <td>3541314.40</td>\n",
       "      <td>NaN</td>\n",
       "      <td>4661.60</td>\n",
       "      <td>5859.00</td>\n",
       "      <td>8097.00</td>\n",
       "    </tr>\n",
       "    <tr>\n",
       "      <th>13</th>\n",
       "      <td>NaN</td>\n",
       "      <td>152260.70</td>\n",
       "      <td>156862.00</td>\n",
       "      <td>1287597.86</td>\n",
       "      <td>NaN</td>\n",
       "      <td>3418825.60</td>\n",
       "      <td>3064884.00</td>\n",
       "      <td>3570034.10</td>\n",
       "      <td>NaN</td>\n",
       "      <td>3645.20</td>\n",
       "      <td>4847.00</td>\n",
       "      <td>9807.52</td>\n",
       "    </tr>\n",
       "    <tr>\n",
       "      <th>14</th>\n",
       "      <td>NaN</td>\n",
       "      <td>163868.40</td>\n",
       "      <td>170186.00</td>\n",
       "      <td>1746873.64</td>\n",
       "      <td>NaN</td>\n",
       "      <td>3646959.40</td>\n",
       "      <td>3284007.00</td>\n",
       "      <td>3496176.43</td>\n",
       "      <td>NaN</td>\n",
       "      <td>2628.80</td>\n",
       "      <td>3835.00</td>\n",
       "      <td>12382.87</td>\n",
       "    </tr>\n",
       "    <tr>\n",
       "      <th>15</th>\n",
       "      <td>NaN</td>\n",
       "      <td>175476.10</td>\n",
       "      <td>183510.00</td>\n",
       "      <td>2308968.21</td>\n",
       "      <td>NaN</td>\n",
       "      <td>3875093.20</td>\n",
       "      <td>3503130.00</td>\n",
       "      <td>3304872.29</td>\n",
       "      <td>NaN</td>\n",
       "      <td>1612.40</td>\n",
       "      <td>2823.00</td>\n",
       "      <td>15930.59</td>\n",
       "    </tr>\n",
       "    <tr>\n",
       "      <th>16</th>\n",
       "      <td>NaN</td>\n",
       "      <td>187083.80</td>\n",
       "      <td>196834.00</td>\n",
       "      <td>2984388.51</td>\n",
       "      <td>NaN</td>\n",
       "      <td>4103227.00</td>\n",
       "      <td>3722253.00</td>\n",
       "      <td>2981252.56</td>\n",
       "      <td>NaN</td>\n",
       "      <td>596.00</td>\n",
       "      <td>1811.00</td>\n",
       "      <td>20558.24</td>\n",
       "    </tr>\n",
       "  </tbody>\n",
       "</table>\n",
       "</div>"
      ],
      "text/plain": [
       "    경유_하이브리드_대수  경유_하이브리드_예측  경유_하이브리드_예측_BSpline  경유_하이브리드_예측_Akima   \n",
       "12          NaN    140653.00            143538.00          920633.93  \\\n",
       "13          NaN    152260.70            156862.00         1287597.86   \n",
       "14          NaN    163868.40            170186.00         1746873.64   \n",
       "15          NaN    175476.10            183510.00         2308968.21   \n",
       "16          NaN    187083.80            196834.00         2984388.51   \n",
       "\n",
       "    휘발유_하이브리드_대수  휘발유_하이브리드_예측  휘발유_하이브리드_예측_BSpline  휘발유_하이브리드_예측_Akima   \n",
       "12           NaN    3190691.80            2845761.00          3541314.40  \\\n",
       "13           NaN    3418825.60            3064884.00          3570034.10   \n",
       "14           NaN    3646959.40            3284007.00          3496176.43   \n",
       "15           NaN    3875093.20            3503130.00          3304872.29   \n",
       "16           NaN    4103227.00            3722253.00          2981252.56   \n",
       "\n",
       "    LPG_하이브리드_대수  LPG_하이브리드_예측  LPG_하이브리드_예측_BSpline  LPG_하이브리드_예측_Akima  \n",
       "12           NaN       4661.60               5859.00             8097.00  \n",
       "13           NaN       3645.20               4847.00             9807.52  \n",
       "14           NaN       2628.80               3835.00            12382.87  \n",
       "15           NaN       1612.40               2823.00            15930.59  \n",
       "16           NaN        596.00               1811.00            20558.24  "
      ]
     },
     "execution_count": 2223,
     "metadata": {},
     "output_type": "execute_result"
    }
   ],
   "source": [
    "df5.iloc[:, 1:].tail()"
   ]
  },
  {
   "cell_type": "code",
   "execution_count": 2224,
   "id": "63058504-3106-4f63-8cbe-8b2e02d1fb88",
   "metadata": {
    "tags": []
   },
   "outputs": [
    {
     "name": "stdout",
     "output_type": "stream",
     "text": [
      "(0,)\n",
      "(0,)\n",
      "(0,)\n",
      "(0,)\n",
      "(0,)\n",
      "(0,)\n",
      "(0,)\n",
      "(0,)\n",
      "(0,)\n",
      "(0,)\n",
      "(0,)\n",
      "(0,)\n"
     ]
    }
   ],
   "source": [
    "# 음수 확인\n",
    "print(df5.loc[df5['경유_하이브리드_대수'] < 0, '경유_하이브리드_대수'].shape)\n",
    "print(df5.loc[df5['경유_하이브리드_예측'] < 0, '경유_하이브리드_예측'].shape)\n",
    "print(df5.loc[df5['경유_하이브리드_예측_BSpline'] < 0, '경유_하이브리드_예측_BSpline'].shape)\n",
    "print(df5.loc[df5['경유_하이브리드_예측_Akima'] < 0, '경유_하이브리드_예측_Akima'].shape)\n",
    "print(df5.loc[df5['휘발유_하이브리드_대수'] < 0, '휘발유_하이브리드_대수'].shape)\n",
    "print(df5.loc[df5['휘발유_하이브리드_예측'] < 0, '휘발유_하이브리드_예측'].shape)\n",
    "print(df5.loc[df5['휘발유_하이브리드_예측_BSpline'] < 0, '휘발유_하이브리드_예측_BSpline'].shape)\n",
    "print(df5.loc[df5['휘발유_하이브리드_예측_Akima'] < 0, '휘발유_하이브리드_예측_Akima'].shape)\n",
    "print(df5.loc[df5['LPG_하이브리드_대수'] < 0, 'LPG_하이브리드_대수'].shape)\n",
    "print(df5.loc[df5['LPG_하이브리드_예측'] < 0, 'LPG_하이브리드_예측'].shape)\n",
    "print(df5.loc[df5['LPG_하이브리드_예측_BSpline'] < 0, 'LPG_하이브리드_예측_BSpline'].shape)\n",
    "print(df5.loc[df5['LPG_하이브리드_예측_Akima'] < 0, 'LPG_하이브리드_예측_Akima'].shape)"
   ]
  },
  {
   "cell_type": "code",
   "execution_count": 2225,
   "id": "3fb3a5c8-a5e7-4a6f-9837-2155a75bc6ae",
   "metadata": {
    "tags": []
   },
   "outputs": [],
   "source": [
    "# 음수 0으로 처리\n",
    "df5.loc[df5['경유_하이브리드_대수'] < 0, '경유_하이브리드_대수'] = 0\n",
    "df5.loc[df5['경유_하이브리드_예측'] < 0, '경유_하이브리드_예측'] = 0\n",
    "df5.loc[df5['경유_하이브리드_예측_BSpline'] < 0, '경유_하이브리드_예측_BSpline'] = 0\n",
    "df5.loc[df5['경유_하이브리드_예측_Akima'] < 0, '경유_하이브리드_예측_Akima'] = 0\n",
    "df5.loc[df5['휘발유_하이브리드_대수'] < 0, '휘발유_하이브리드_대수'] = 0\n",
    "df5.loc[df5['휘발유_하이브리드_예측'] < 0, '휘발유_하이브리드_예측'] = 0\n",
    "df5.loc[df5['휘발유_하이브리드_예측_BSpline'] < 0, '휘발유_하이브리드_예측_BSpline'] = 0\n",
    "df5.loc[df5['휘발유_하이브리드_예측_Akima'] < 0, '휘발유_하이브리드_예측_Akima'] = 0\n",
    "df5.loc[df5['LPG_하이브리드_대수'] < 0, 'LPG_하이브리드_대수'] = 0\n",
    "df5.loc[df5['LPG_하이브리드_예측'] < 0, 'LPG_하이브리드_예측'] = 0\n",
    "df5.loc[df5['LPG_하이브리드_예측_BSpline'] < 0, 'LPG_하이브리드_예측_BSpline'] = 0\n",
    "df5.loc[df5['LPG_하이브리드_예측_Akima'] < 0, 'LPG_하이브리드_예측_Akima'] = 0"
   ]
  },
  {
   "cell_type": "code",
   "execution_count": 2226,
   "id": "d19e9452-599a-4282-82ef-6c90475b73b0",
   "metadata": {
    "tags": []
   },
   "outputs": [
    {
     "name": "stdout",
     "output_type": "stream",
     "text": [
      "(0,)\n",
      "(0,)\n",
      "(0,)\n",
      "(0,)\n",
      "(0,)\n",
      "(0,)\n",
      "(0,)\n",
      "(0,)\n",
      "(0,)\n",
      "(0,)\n",
      "(0,)\n",
      "(0,)\n"
     ]
    }
   ],
   "source": [
    "# 음수 확인\n",
    "print(df5.loc[df5['경유_하이브리드_대수'] < 0, '경유_하이브리드_대수'].shape)\n",
    "print(df5.loc[df5['경유_하이브리드_예측'] < 0, '경유_하이브리드_예측'].shape)\n",
    "print(df5.loc[df5['경유_하이브리드_예측_BSpline'] < 0, '경유_하이브리드_예측_BSpline'].shape)\n",
    "print(df5.loc[df5['경유_하이브리드_예측_Akima'] < 0, '경유_하이브리드_예측_Akima'].shape)\n",
    "print(df5.loc[df5['휘발유_하이브리드_대수'] < 0, '휘발유_하이브리드_대수'].shape)\n",
    "print(df5.loc[df5['휘발유_하이브리드_예측'] < 0, '휘발유_하이브리드_예측'].shape)\n",
    "print(df5.loc[df5['휘발유_하이브리드_예측_BSpline'] < 0, '휘발유_하이브리드_예측_BSpline'].shape)\n",
    "print(df5.loc[df5['휘발유_하이브리드_예측_Akima'] < 0, '휘발유_하이브리드_예측_Akima'].shape)\n",
    "print(df5.loc[df5['LPG_하이브리드_대수'] < 0, 'LPG_하이브리드_대수'].shape)\n",
    "print(df5.loc[df5['LPG_하이브리드_예측'] < 0, 'LPG_하이브리드_예측'].shape)\n",
    "print(df5.loc[df5['LPG_하이브리드_예측_BSpline'] < 0, 'LPG_하이브리드_예측_BSpline'].shape)\n",
    "print(df5.loc[df5['LPG_하이브리드_예측_Akima'] < 0, 'LPG_하이브리드_예측_Akima'].shape)"
   ]
  },
  {
   "cell_type": "code",
   "execution_count": 2227,
   "id": "b5a298db-1f45-476e-bc52-7f6b6d48169c",
   "metadata": {},
   "outputs": [],
   "source": [
    "# 첫째자리까지 반올림\n",
    "df5.iloc[:, 1:] = df5.iloc[:, 1:].round(0)"
   ]
  },
  {
   "cell_type": "code",
   "execution_count": 2228,
   "id": "28dae6e5-b158-48c3-ba95-462ba9fd8a17",
   "metadata": {},
   "outputs": [
    {
     "data": {
      "text/html": [
       "<div>\n",
       "<style scoped>\n",
       "    .dataframe tbody tr th:only-of-type {\n",
       "        vertical-align: middle;\n",
       "    }\n",
       "\n",
       "    .dataframe tbody tr th {\n",
       "        vertical-align: top;\n",
       "    }\n",
       "\n",
       "    .dataframe thead th {\n",
       "        text-align: right;\n",
       "    }\n",
       "</style>\n",
       "<table border=\"1\" class=\"dataframe\">\n",
       "  <thead>\n",
       "    <tr style=\"text-align: right;\">\n",
       "      <th></th>\n",
       "      <th>연도</th>\n",
       "      <th>경유_하이브리드_대수</th>\n",
       "      <th>경유_하이브리드_예측</th>\n",
       "      <th>경유_하이브리드_예측_BSpline</th>\n",
       "      <th>경유_하이브리드_예측_Akima</th>\n",
       "      <th>휘발유_하이브리드_대수</th>\n",
       "      <th>휘발유_하이브리드_예측</th>\n",
       "      <th>휘발유_하이브리드_예측_BSpline</th>\n",
       "      <th>휘발유_하이브리드_예측_Akima</th>\n",
       "      <th>LPG_하이브리드_대수</th>\n",
       "      <th>LPG_하이브리드_예측</th>\n",
       "      <th>LPG_하이브리드_예측_BSpline</th>\n",
       "      <th>LPG_하이브리드_예측_Akima</th>\n",
       "    </tr>\n",
       "  </thead>\n",
       "  <tbody>\n",
       "    <tr>\n",
       "      <th>0</th>\n",
       "      <td>2019</td>\n",
       "      <td>3300.00</td>\n",
       "      <td>NaN</td>\n",
       "      <td>NaN</td>\n",
       "      <td>NaN</td>\n",
       "      <td>495260.00</td>\n",
       "      <td>NaN</td>\n",
       "      <td>NaN</td>\n",
       "      <td>NaN</td>\n",
       "      <td>16669.00</td>\n",
       "      <td>NaN</td>\n",
       "      <td>NaN</td>\n",
       "      <td>NaN</td>\n",
       "    </tr>\n",
       "    <tr>\n",
       "      <th>1</th>\n",
       "      <td>2020</td>\n",
       "      <td>10298.00</td>\n",
       "      <td>NaN</td>\n",
       "      <td>NaN</td>\n",
       "      <td>NaN</td>\n",
       "      <td>654531.00</td>\n",
       "      <td>NaN</td>\n",
       "      <td>NaN</td>\n",
       "      <td>NaN</td>\n",
       "      <td>15979.00</td>\n",
       "      <td>NaN</td>\n",
       "      <td>NaN</td>\n",
       "      <td>NaN</td>\n",
       "    </tr>\n",
       "    <tr>\n",
       "      <th>2</th>\n",
       "      <td>2021</td>\n",
       "      <td>23622.00</td>\n",
       "      <td>NaN</td>\n",
       "      <td>NaN</td>\n",
       "      <td>NaN</td>\n",
       "      <td>873654.00</td>\n",
       "      <td>NaN</td>\n",
       "      <td>NaN</td>\n",
       "      <td>NaN</td>\n",
       "      <td>14967.00</td>\n",
       "      <td>NaN</td>\n",
       "      <td>NaN</td>\n",
       "      <td>NaN</td>\n",
       "    </tr>\n",
       "    <tr>\n",
       "      <th>3</th>\n",
       "      <td>2022</td>\n",
       "      <td>38345.00</td>\n",
       "      <td>NaN</td>\n",
       "      <td>NaN</td>\n",
       "      <td>NaN</td>\n",
       "      <td>1120259.00</td>\n",
       "      <td>NaN</td>\n",
       "      <td>NaN</td>\n",
       "      <td>NaN</td>\n",
       "      <td>13873.00</td>\n",
       "      <td>NaN</td>\n",
       "      <td>NaN</td>\n",
       "      <td>NaN</td>\n",
       "    </tr>\n",
       "    <tr>\n",
       "      <th>4</th>\n",
       "      <td>2023</td>\n",
       "      <td>47315.00</td>\n",
       "      <td>NaN</td>\n",
       "      <td>NaN</td>\n",
       "      <td>NaN</td>\n",
       "      <td>1403065.00</td>\n",
       "      <td>NaN</td>\n",
       "      <td>NaN</td>\n",
       "      <td>NaN</td>\n",
       "      <td>12640.00</td>\n",
       "      <td>NaN</td>\n",
       "      <td>NaN</td>\n",
       "      <td>NaN</td>\n",
       "    </tr>\n",
       "  </tbody>\n",
       "</table>\n",
       "</div>"
      ],
      "text/plain": [
       "     연도  경유_하이브리드_대수  경유_하이브리드_예측  경유_하이브리드_예측_BSpline  경유_하이브리드_예측_Akima   \n",
       "0  2019      3300.00          NaN                  NaN                NaN  \\\n",
       "1  2020     10298.00          NaN                  NaN                NaN   \n",
       "2  2021     23622.00          NaN                  NaN                NaN   \n",
       "3  2022     38345.00          NaN                  NaN                NaN   \n",
       "4  2023     47315.00          NaN                  NaN                NaN   \n",
       "\n",
       "   휘발유_하이브리드_대수  휘발유_하이브리드_예측  휘발유_하이브리드_예측_BSpline  휘발유_하이브리드_예측_Akima   \n",
       "0     495260.00           NaN                   NaN                 NaN  \\\n",
       "1     654531.00           NaN                   NaN                 NaN   \n",
       "2     873654.00           NaN                   NaN                 NaN   \n",
       "3    1120259.00           NaN                   NaN                 NaN   \n",
       "4    1403065.00           NaN                   NaN                 NaN   \n",
       "\n",
       "   LPG_하이브리드_대수  LPG_하이브리드_예측  LPG_하이브리드_예측_BSpline  LPG_하이브리드_예측_Akima  \n",
       "0      16669.00           NaN                   NaN                 NaN  \n",
       "1      15979.00           NaN                   NaN                 NaN  \n",
       "2      14967.00           NaN                   NaN                 NaN  \n",
       "3      13873.00           NaN                   NaN                 NaN  \n",
       "4      12640.00           NaN                   NaN                 NaN  "
      ]
     },
     "execution_count": 2228,
     "metadata": {},
     "output_type": "execute_result"
    }
   ],
   "source": [
    "df5.head()"
   ]
  },
  {
   "cell_type": "code",
   "execution_count": 2229,
   "id": "a339da0a-d76a-447a-a394-9024df025305",
   "metadata": {},
   "outputs": [],
   "source": [
    "today_date = datetime.today().strftime(\"%Y%m%d\")\n",
    "df5['테이블생성일자'] = today_date\n",
    "\n",
    "df5 = df5[[\n",
    "    '테이블생성일자', \n",
    "    '연도', \n",
    "    '휘발유_하이브리드_대수', \n",
    "    '휘발유_하이브리드_예측',\n",
    "    '휘발유_하이브리드_예측_BSpline',\n",
    "    '휘발유_하이브리드_예측_Akima',\n",
    "    '경유_하이브리드_대수', \n",
    "    '경유_하이브리드_예측',\n",
    "    '경유_하이브리드_예측_BSpline',\n",
    "    '경유_하이브리드_예측_Akima',\n",
    "    'LPG_하이브리드_대수', \n",
    "    'LPG_하이브리드_예측',\n",
    "    'LPG_하이브리드_예측_BSpline', \n",
    "    'LPG_하이브리드_예측_Akima', \n",
    "    ]]\n",
    "cdict = {\n",
    "    '테이블생성일자':'LOAD_DT', \n",
    "    '연도':'YR', \n",
    "    '휘발유_하이브리드_대수':'GSLH', \n",
    "    '휘발유_하이브리드_예측':'GSLH_PRET', \n",
    "    '휘발유_하이브리드_예측_BSpline':'GSLH_PRET_BSPLN', \n",
    "    '휘발유_하이브리드_예측_Akima':'GSLH_PRET_AKM', \n",
    "    '경유_하이브리드_대수':'DSLH', \n",
    "    '경유_하이브리드_예측':'DSLH_PRET', \n",
    "    '경유_하이브리드_예측_BSpline':'DSLH_PRET_BSPLN', \n",
    "    '경유_하이브리드_예측_Akima':'DSLH_PRET_AKM', \n",
    "    'LPG_하이브리드_대수':'LPGH', \n",
    "    'LPG_하이브리드_예측':'LPGH_PRET',\n",
    "    'LPG_하이브리드_예측_BSpline':'LPGH_PRET_BSPLN',\n",
    "    'LPG_하이브리드_예측_Akima':'LPGH_PRET_AKM',\n",
    "}\n",
    "STD_BD_HYBRD_CAR_PRET = df5.rename(columns=cdict)"
   ]
  },
  {
   "cell_type": "code",
   "execution_count": 2230,
   "id": "6e99b064-edc3-4647-8e54-ed8b75ea996f",
   "metadata": {},
   "outputs": [
    {
     "data": {
      "text/plain": [
       "Index(['LOAD_DT', 'YR', 'GSLH', 'GSLH_PRET', 'GSLH_PRET_BSPLN',\n",
       "       'GSLH_PRET_AKM', 'DSLH', 'DSLH_PRET', 'DSLH_PRET_BSPLN',\n",
       "       'DSLH_PRET_AKM', 'LPGH', 'LPGH_PRET', 'LPGH_PRET_BSPLN',\n",
       "       'LPGH_PRET_AKM'],\n",
       "      dtype='object')"
      ]
     },
     "execution_count": 2230,
     "metadata": {},
     "output_type": "execute_result"
    }
   ],
   "source": [
    "STD_BD_HYBRD_CAR_PRET.columns"
   ]
  },
  {
   "cell_type": "markdown",
   "id": "67746391-9436-4b8e-8b63-86d19c8374cf",
   "metadata": {},
   "source": [
    "### [출력] STD_BD_HYBRD_CAR_PRET"
   ]
  },
  {
   "cell_type": "code",
   "execution_count": 2231,
   "id": "4dfea55f-bb52-495d-acba-a6aac0cb9c14",
   "metadata": {},
   "outputs": [],
   "source": [
    "# expdf = STD_BD_HYBRD_CAR_PRET\n",
    "# table_nm = 'STD_BD_HYBRD_CAR_PRET'.upper()\n",
    "\n",
    "# # 테이블 생성\n",
    "# sql = 'create or replace table ' + table_nm + '( \\n'\n",
    "\n",
    "# for idx,column in enumerate(expdf.columns):\n",
    "#     # if 'float' in expdf[column].dtype.name:\n",
    "#     #     sql += column + ' float'\n",
    "#     # elif 'int' in expdf[column].dtype.name:\n",
    "#     #     sql += column + ' number'\n",
    "#     # else:\n",
    "#     sql += column + ' varchar(255)'\n",
    "\n",
    "#     if len(expdf.columns) - 1 != idx:\n",
    "#         sql += ','\n",
    "#     sql += '\\n'\n",
    "# sql += ')'    \n",
    "# we.execute(sql)\n",
    "\n",
    "# # 데이터 추가\n",
    "# # 7s\n",
    "# we.import_from_pandas(expdf, table_nm)\n",
    "\n",
    "# print(f'data export : {table_nm}')"
   ]
  },
  {
   "cell_type": "code",
   "execution_count": 2232,
   "id": "002c7f59-873c-4eb3-86a2-c6735050867c",
   "metadata": {},
   "outputs": [],
   "source": [
    "## 내연차 연료, 등급, 연도별 차량 현황 예측\n",
    "# - 경유, 휘발유, LPG\n",
    "# 2022년 차량 대수\n",
    "grp1 = dfm2dgl.groupby(['시도', 'fuel', '배출가스등급'], as_index=False)['차대번호'].count()\n",
    "grp1 = grp1.rename(columns={'차대번호':'차량대수'})\n",
    "grp1['연도'] = f'{year}'\n",
    "grp1 = grp1[['연도', '시도', 'fuel', '배출가스등급', '차량대수']]"
   ]
  },
  {
   "cell_type": "code",
   "execution_count": 2233,
   "id": "92221480-7024-4f0b-a786-11d2ae2940af",
   "metadata": {},
   "outputs": [],
   "source": [
    "# 차량 통계 기본 데이터셋\n",
    "yr_list = []\n",
    "ctpv_list = []\n",
    "fuel_list = []\n",
    "grd_list = []\n",
    "for ctpv in grp1['시도'].unique():\n",
    "    for fuel in grp1['fuel'].unique():\n",
    "        for grd in grp1['배출가스등급'].unique():\n",
    "            for yr in range(2019, year + 1):\n",
    "                yr_list.append(str(yr))\n",
    "                ctpv_list.append(ctpv)\n",
    "                fuel_list.append(fuel)\n",
    "                grd_list.append(grd)\n",
    "base = pd.DataFrame({'연도':yr_list, '시도':ctpv_list, 'fuel':fuel_list, '배출가스등급':grd_list})"
   ]
  },
  {
   "cell_type": "code",
   "execution_count": 2234,
   "id": "9845e53e-fe5f-406f-9783-35dd8bfd1263",
   "metadata": {},
   "outputs": [],
   "source": [
    "# 연도별 등록대수\n",
    "grp2 = dfm2dgl.groupby(['최초등록일자_년', '시도', 'fuel', '배출가스등급'], as_index=False)['차대번호'].count()\n",
    "grp2 = grp2.rename(columns={'최초등록일자_년':'연도', '차대번호':'등록대수'})"
   ]
  },
  {
   "cell_type": "code",
   "execution_count": 2235,
   "id": "16f8f22d-5a58-4474-89dc-fdd6dd6aa63b",
   "metadata": {},
   "outputs": [],
   "source": [
    "# 연도별 말소대수\n",
    "grp3 = errc2dgl.groupby(['변경일자_년', '시도', 'fuel', '배출가스등급'], as_index=False)['차대번호'].count()\n",
    "grp3 = grp3.rename(columns={'변경일자_년':'연도', '차대번호':'말소대수'})\n",
    "base1 = base.merge(grp1, on=['연도', '시도', 'fuel', '배출가스등급'], how='left')\n",
    "base2 = base1.merge(grp2, on=['연도', '시도', 'fuel', '배출가스등급'], how='left')\n",
    "base3 = base2.merge(grp3, on=['연도', '시도', 'fuel', '배출가스등급'], how='left')\n",
    "base3[['차량대수', '등록대수', '말소대수']] = base3[['차량대수', '등록대수', '말소대수']].fillna(0)"
   ]
  },
  {
   "cell_type": "code",
   "execution_count": 2236,
   "id": "a789a6c5-0103-4d5b-8ec4-3d5f0e43cf50",
   "metadata": {},
   "outputs": [],
   "source": [
    "n = len(base3['연도'].unique())\n",
    "for i in range(base3.shape[0] // n):\n",
    "    for j in range(2, n+1):\n",
    "        base3.loc[(i+1)*n - j, '차량대수'] = base3.loc[(i+1)*n - (j-1), '차량대수'] + base3.loc[(i+1)*n - (j-1), '말소대수'] - base3.loc[(i+1)*n - (j-1), '등록대수']"
   ]
  },
  {
   "cell_type": "code",
   "execution_count": 2237,
   "id": "25d9a650-a618-4c34-8bed-9295223fd38f",
   "metadata": {
    "tags": []
   },
   "outputs": [],
   "source": [
    "base3['연도'] = base3['연도'].astype('int') # !!! 수정"
   ]
  },
  {
   "cell_type": "code",
   "execution_count": 2238,
   "id": "29070090-d57e-4e19-ab61-e807a33f5804",
   "metadata": {
    "tags": []
   },
   "outputs": [],
   "source": [
    "total = pd.DataFrame()\n",
    "for ctpv in base3['시도'].unique():\n",
    "    for fuel in base3['fuel'].unique():\n",
    "        for grd in base3['배출가스등급'].unique():\n",
    "            temp = base3.loc[(base3['시도'] == ctpv) & (base3['fuel'] == fuel) & (base3['배출가스등급'] == grd)].reset_index(drop=True)\n",
    "            a, b = np.polyfit(temp['연도'], temp['차량대수'], 1)\n",
    "            yr_list, ctpv_list, fuel_list, grd_list, pred_list = [], [], [], [], []\n",
    "            for yr in range(year + 1, 2036):\n",
    "                pred = a * yr + b\n",
    "                yr_list.append(yr)\n",
    "                ctpv_list.append(ctpv)\n",
    "                fuel_list.append(fuel)\n",
    "                grd_list.append(grd)\n",
    "                pred_list.append(pred)\n",
    "            temp_pred = pd.DataFrame({'연도':yr_list, '시도':ctpv_list, 'fuel':fuel_list, '배출가스등급':grd_list, '차량예측':pred_list})\n",
    "            ttemp = pd.concat([temp, temp_pred], ignore_index=True)\n",
    "            total = pd.concat([total, ttemp], ignore_index=True)"
   ]
  },
  {
   "cell_type": "code",
   "execution_count": 2239,
   "id": "2470a86d-ddaf-459a-a3de-3bc2ddd55faf",
   "metadata": {
    "tags": []
   },
   "outputs": [
    {
     "data": {
      "text/plain": [
       "(4335, 8)"
      ]
     },
     "execution_count": 2239,
     "metadata": {},
     "output_type": "execute_result"
    }
   ],
   "source": [
    "total.shape"
   ]
  },
  {
   "cell_type": "code",
   "execution_count": 2240,
   "id": "d7a99239-3c43-4554-b4b5-565d3854b9a8",
   "metadata": {
    "tags": []
   },
   "outputs": [
    {
     "data": {
      "text/html": [
       "<div>\n",
       "<style scoped>\n",
       "    .dataframe tbody tr th:only-of-type {\n",
       "        vertical-align: middle;\n",
       "    }\n",
       "\n",
       "    .dataframe tbody tr th {\n",
       "        vertical-align: top;\n",
       "    }\n",
       "\n",
       "    .dataframe thead th {\n",
       "        text-align: right;\n",
       "    }\n",
       "</style>\n",
       "<table border=\"1\" class=\"dataframe\">\n",
       "  <thead>\n",
       "    <tr style=\"text-align: right;\">\n",
       "      <th></th>\n",
       "      <th>연도</th>\n",
       "      <th>시도</th>\n",
       "      <th>fuel</th>\n",
       "      <th>배출가스등급</th>\n",
       "      <th>차량대수</th>\n",
       "      <th>등록대수</th>\n",
       "      <th>말소대수</th>\n",
       "      <th>차량예측</th>\n",
       "    </tr>\n",
       "  </thead>\n",
       "  <tbody>\n",
       "    <tr>\n",
       "      <th>0</th>\n",
       "      <td>2019</td>\n",
       "      <td>강원특별자치도</td>\n",
       "      <td>LPG</td>\n",
       "      <td>1</td>\n",
       "      <td>10315.00</td>\n",
       "      <td>1545.00</td>\n",
       "      <td>0.00</td>\n",
       "      <td>NaN</td>\n",
       "    </tr>\n",
       "    <tr>\n",
       "      <th>1</th>\n",
       "      <td>2020</td>\n",
       "      <td>강원특별자치도</td>\n",
       "      <td>LPG</td>\n",
       "      <td>1</td>\n",
       "      <td>11449.00</td>\n",
       "      <td>1134.00</td>\n",
       "      <td>0.00</td>\n",
       "      <td>NaN</td>\n",
       "    </tr>\n",
       "    <tr>\n",
       "      <th>2</th>\n",
       "      <td>2021</td>\n",
       "      <td>강원특별자치도</td>\n",
       "      <td>LPG</td>\n",
       "      <td>1</td>\n",
       "      <td>12331.00</td>\n",
       "      <td>882.00</td>\n",
       "      <td>0.00</td>\n",
       "      <td>NaN</td>\n",
       "    </tr>\n",
       "    <tr>\n",
       "      <th>3</th>\n",
       "      <td>2022</td>\n",
       "      <td>강원특별자치도</td>\n",
       "      <td>LPG</td>\n",
       "      <td>1</td>\n",
       "      <td>13127.00</td>\n",
       "      <td>796.00</td>\n",
       "      <td>0.00</td>\n",
       "      <td>NaN</td>\n",
       "    </tr>\n",
       "    <tr>\n",
       "      <th>4</th>\n",
       "      <td>2023</td>\n",
       "      <td>강원특별자치도</td>\n",
       "      <td>LPG</td>\n",
       "      <td>1</td>\n",
       "      <td>13267.00</td>\n",
       "      <td>351.00</td>\n",
       "      <td>211.00</td>\n",
       "      <td>NaN</td>\n",
       "    </tr>\n",
       "  </tbody>\n",
       "</table>\n",
       "</div>"
      ],
      "text/plain": [
       "     연도       시도 fuel 배출가스등급     차량대수    등록대수   말소대수  차량예측\n",
       "0  2019  강원특별자치도  LPG      1 10315.00 1545.00   0.00   NaN\n",
       "1  2020  강원특별자치도  LPG      1 11449.00 1134.00   0.00   NaN\n",
       "2  2021  강원특별자치도  LPG      1 12331.00  882.00   0.00   NaN\n",
       "3  2022  강원특별자치도  LPG      1 13127.00  796.00   0.00   NaN\n",
       "4  2023  강원특별자치도  LPG      1 13267.00  351.00 211.00   NaN"
      ]
     },
     "execution_count": 2240,
     "metadata": {},
     "output_type": "execute_result"
    }
   ],
   "source": [
    "total.head()"
   ]
  },
  {
   "cell_type": "code",
   "execution_count": 2241,
   "id": "d9024431-25af-44db-9b97-8fad7f3086bc",
   "metadata": {
    "tags": []
   },
   "outputs": [
    {
     "data": {
      "text/html": [
       "<div>\n",
       "<style scoped>\n",
       "    .dataframe tbody tr th:only-of-type {\n",
       "        vertical-align: middle;\n",
       "    }\n",
       "\n",
       "    .dataframe tbody tr th {\n",
       "        vertical-align: top;\n",
       "    }\n",
       "\n",
       "    .dataframe thead th {\n",
       "        text-align: right;\n",
       "    }\n",
       "</style>\n",
       "<table border=\"1\" class=\"dataframe\">\n",
       "  <thead>\n",
       "    <tr style=\"text-align: right;\">\n",
       "      <th></th>\n",
       "      <th>연도</th>\n",
       "      <th>시도</th>\n",
       "      <th>fuel</th>\n",
       "      <th>배출가스등급</th>\n",
       "      <th>차량대수</th>\n",
       "      <th>등록대수</th>\n",
       "      <th>말소대수</th>\n",
       "      <th>차량예측</th>\n",
       "    </tr>\n",
       "  </thead>\n",
       "  <tbody>\n",
       "    <tr>\n",
       "      <th>17</th>\n",
       "      <td>2019</td>\n",
       "      <td>강원특별자치도</td>\n",
       "      <td>LPG</td>\n",
       "      <td>2</td>\n",
       "      <td>30076.00</td>\n",
       "      <td>1881.00</td>\n",
       "      <td>1.00</td>\n",
       "      <td>NaN</td>\n",
       "    </tr>\n",
       "    <tr>\n",
       "      <th>18</th>\n",
       "      <td>2020</td>\n",
       "      <td>강원특별자치도</td>\n",
       "      <td>LPG</td>\n",
       "      <td>2</td>\n",
       "      <td>32370.00</td>\n",
       "      <td>2294.00</td>\n",
       "      <td>0.00</td>\n",
       "      <td>NaN</td>\n",
       "    </tr>\n",
       "    <tr>\n",
       "      <th>19</th>\n",
       "      <td>2021</td>\n",
       "      <td>강원특별자치도</td>\n",
       "      <td>LPG</td>\n",
       "      <td>2</td>\n",
       "      <td>34415.00</td>\n",
       "      <td>2045.00</td>\n",
       "      <td>0.00</td>\n",
       "      <td>NaN</td>\n",
       "    </tr>\n",
       "    <tr>\n",
       "      <th>20</th>\n",
       "      <td>2022</td>\n",
       "      <td>강원특별자치도</td>\n",
       "      <td>LPG</td>\n",
       "      <td>2</td>\n",
       "      <td>35975.00</td>\n",
       "      <td>1560.00</td>\n",
       "      <td>0.00</td>\n",
       "      <td>NaN</td>\n",
       "    </tr>\n",
       "    <tr>\n",
       "      <th>21</th>\n",
       "      <td>2023</td>\n",
       "      <td>강원특별자치도</td>\n",
       "      <td>LPG</td>\n",
       "      <td>2</td>\n",
       "      <td>35652.00</td>\n",
       "      <td>624.00</td>\n",
       "      <td>947.00</td>\n",
       "      <td>NaN</td>\n",
       "    </tr>\n",
       "    <tr>\n",
       "      <th>22</th>\n",
       "      <td>2024</td>\n",
       "      <td>강원특별자치도</td>\n",
       "      <td>LPG</td>\n",
       "      <td>2</td>\n",
       "      <td>NaN</td>\n",
       "      <td>NaN</td>\n",
       "      <td>NaN</td>\n",
       "      <td>38124.70</td>\n",
       "    </tr>\n",
       "    <tr>\n",
       "      <th>23</th>\n",
       "      <td>2025</td>\n",
       "      <td>강원특별자치도</td>\n",
       "      <td>LPG</td>\n",
       "      <td>2</td>\n",
       "      <td>NaN</td>\n",
       "      <td>NaN</td>\n",
       "      <td>NaN</td>\n",
       "      <td>39600.40</td>\n",
       "    </tr>\n",
       "    <tr>\n",
       "      <th>24</th>\n",
       "      <td>2026</td>\n",
       "      <td>강원특별자치도</td>\n",
       "      <td>LPG</td>\n",
       "      <td>2</td>\n",
       "      <td>NaN</td>\n",
       "      <td>NaN</td>\n",
       "      <td>NaN</td>\n",
       "      <td>41076.10</td>\n",
       "    </tr>\n",
       "    <tr>\n",
       "      <th>25</th>\n",
       "      <td>2027</td>\n",
       "      <td>강원특별자치도</td>\n",
       "      <td>LPG</td>\n",
       "      <td>2</td>\n",
       "      <td>NaN</td>\n",
       "      <td>NaN</td>\n",
       "      <td>NaN</td>\n",
       "      <td>42551.80</td>\n",
       "    </tr>\n",
       "    <tr>\n",
       "      <th>26</th>\n",
       "      <td>2028</td>\n",
       "      <td>강원특별자치도</td>\n",
       "      <td>LPG</td>\n",
       "      <td>2</td>\n",
       "      <td>NaN</td>\n",
       "      <td>NaN</td>\n",
       "      <td>NaN</td>\n",
       "      <td>44027.50</td>\n",
       "    </tr>\n",
       "    <tr>\n",
       "      <th>27</th>\n",
       "      <td>2029</td>\n",
       "      <td>강원특별자치도</td>\n",
       "      <td>LPG</td>\n",
       "      <td>2</td>\n",
       "      <td>NaN</td>\n",
       "      <td>NaN</td>\n",
       "      <td>NaN</td>\n",
       "      <td>45503.20</td>\n",
       "    </tr>\n",
       "    <tr>\n",
       "      <th>28</th>\n",
       "      <td>2030</td>\n",
       "      <td>강원특별자치도</td>\n",
       "      <td>LPG</td>\n",
       "      <td>2</td>\n",
       "      <td>NaN</td>\n",
       "      <td>NaN</td>\n",
       "      <td>NaN</td>\n",
       "      <td>46978.90</td>\n",
       "    </tr>\n",
       "    <tr>\n",
       "      <th>29</th>\n",
       "      <td>2031</td>\n",
       "      <td>강원특별자치도</td>\n",
       "      <td>LPG</td>\n",
       "      <td>2</td>\n",
       "      <td>NaN</td>\n",
       "      <td>NaN</td>\n",
       "      <td>NaN</td>\n",
       "      <td>48454.60</td>\n",
       "    </tr>\n",
       "    <tr>\n",
       "      <th>30</th>\n",
       "      <td>2032</td>\n",
       "      <td>강원특별자치도</td>\n",
       "      <td>LPG</td>\n",
       "      <td>2</td>\n",
       "      <td>NaN</td>\n",
       "      <td>NaN</td>\n",
       "      <td>NaN</td>\n",
       "      <td>49930.30</td>\n",
       "    </tr>\n",
       "    <tr>\n",
       "      <th>31</th>\n",
       "      <td>2033</td>\n",
       "      <td>강원특별자치도</td>\n",
       "      <td>LPG</td>\n",
       "      <td>2</td>\n",
       "      <td>NaN</td>\n",
       "      <td>NaN</td>\n",
       "      <td>NaN</td>\n",
       "      <td>51406.00</td>\n",
       "    </tr>\n",
       "    <tr>\n",
       "      <th>32</th>\n",
       "      <td>2034</td>\n",
       "      <td>강원특별자치도</td>\n",
       "      <td>LPG</td>\n",
       "      <td>2</td>\n",
       "      <td>NaN</td>\n",
       "      <td>NaN</td>\n",
       "      <td>NaN</td>\n",
       "      <td>52881.70</td>\n",
       "    </tr>\n",
       "    <tr>\n",
       "      <th>33</th>\n",
       "      <td>2035</td>\n",
       "      <td>강원특별자치도</td>\n",
       "      <td>LPG</td>\n",
       "      <td>2</td>\n",
       "      <td>NaN</td>\n",
       "      <td>NaN</td>\n",
       "      <td>NaN</td>\n",
       "      <td>54357.40</td>\n",
       "    </tr>\n",
       "  </tbody>\n",
       "</table>\n",
       "</div>"
      ],
      "text/plain": [
       "      연도       시도 fuel 배출가스등급     차량대수    등록대수   말소대수     차량예측\n",
       "17  2019  강원특별자치도  LPG      2 30076.00 1881.00   1.00      NaN\n",
       "18  2020  강원특별자치도  LPG      2 32370.00 2294.00   0.00      NaN\n",
       "19  2021  강원특별자치도  LPG      2 34415.00 2045.00   0.00      NaN\n",
       "20  2022  강원특별자치도  LPG      2 35975.00 1560.00   0.00      NaN\n",
       "21  2023  강원특별자치도  LPG      2 35652.00  624.00 947.00      NaN\n",
       "22  2024  강원특별자치도  LPG      2      NaN     NaN    NaN 38124.70\n",
       "23  2025  강원특별자치도  LPG      2      NaN     NaN    NaN 39600.40\n",
       "24  2026  강원특별자치도  LPG      2      NaN     NaN    NaN 41076.10\n",
       "25  2027  강원특별자치도  LPG      2      NaN     NaN    NaN 42551.80\n",
       "26  2028  강원특별자치도  LPG      2      NaN     NaN    NaN 44027.50\n",
       "27  2029  강원특별자치도  LPG      2      NaN     NaN    NaN 45503.20\n",
       "28  2030  강원특별자치도  LPG      2      NaN     NaN    NaN 46978.90\n",
       "29  2031  강원특별자치도  LPG      2      NaN     NaN    NaN 48454.60\n",
       "30  2032  강원특별자치도  LPG      2      NaN     NaN    NaN 49930.30\n",
       "31  2033  강원특별자치도  LPG      2      NaN     NaN    NaN 51406.00\n",
       "32  2034  강원특별자치도  LPG      2      NaN     NaN    NaN 52881.70\n",
       "33  2035  강원특별자치도  LPG      2      NaN     NaN    NaN 54357.40"
      ]
     },
     "execution_count": 2241,
     "metadata": {},
     "output_type": "execute_result"
    }
   ],
   "source": [
    "total.loc[(total['시도'] == '강원특별자치도') & (total['fuel'] == 'LPG') & (total['배출가스등급'] == '2')]"
   ]
  },
  {
   "cell_type": "code",
   "execution_count": 2242,
   "id": "98375880-0170-4a08-a112-6caa8ea3411e",
   "metadata": {},
   "outputs": [],
   "source": [
    "# die = base3.loc[base3['fuel'] == '경유', ['연도', 'fuel', '배출가스등급', '차량대수']].reset_index(drop=True)\n",
    "# gas = base3.loc[base3['fuel'] == '휘발유', ['연도', 'fuel', '배출가스등급', '차량대수']].reset_index(drop=True)\n",
    "# lpg = base3.loc[base3['fuel'] == 'LPG', ['연도', 'fuel', '배출가스등급', '차량대수']].reset_index(drop=True)"
   ]
  },
  {
   "cell_type": "code",
   "execution_count": 2243,
   "id": "29fa45b4-570a-4f97-bdba-e4112d8b8762",
   "metadata": {},
   "outputs": [],
   "source": [
    "# die['연도'] = die['연도'].astype('int')\n",
    "# gas['연도'] = gas['연도'].astype('int')\n",
    "# lpg['연도'] = lpg['연도'].astype('int')"
   ]
  },
  {
   "cell_type": "code",
   "execution_count": 2244,
   "id": "a10510d5-b0bf-45c6-9dac-cb8aeb52f7fa",
   "metadata": {},
   "outputs": [],
   "source": [
    "# die1 = die.loc[die['배출가스등급'] == '1'].reset_index(drop=True)\n",
    "# die2 = die.loc[die['배출가스등급'] == '2'].reset_index(drop=True)\n",
    "# die3 = die.loc[die['배출가스등급'] == '3'].reset_index(drop=True)\n",
    "# die4 = die.loc[die['배출가스등급'] == '4'].reset_index(drop=True)\n",
    "# die5 = die.loc[die['배출가스등급'] == '5'].reset_index(drop=True)\n",
    "# gas1 = gas.loc[gas['배출가스등급'] == '1'].reset_index(drop=True)\n",
    "# gas2 = gas.loc[gas['배출가스등급'] == '2'].reset_index(drop=True)\n",
    "# gas3 = gas.loc[gas['배출가스등급'] == '3'].reset_index(drop=True)\n",
    "# gas4 = gas.loc[gas['배출가스등급'] == '4'].reset_index(drop=True)\n",
    "# gas5 = gas.loc[gas['배출가스등급'] == '5'].reset_index(drop=True)\n",
    "# lpg1 = lpg.loc[lpg['배출가스등급'] == '1'].reset_index(drop=True)\n",
    "# lpg2 = lpg.loc[lpg['배출가스등급'] == '2'].reset_index(drop=True)\n",
    "# lpg3 = lpg.loc[lpg['배출가스등급'] == '3'].reset_index(drop=True)\n",
    "# lpg4 = lpg.loc[lpg['배출가스등급'] == '4'].reset_index(drop=True)\n",
    "# lpg5 = lpg.loc[lpg['배출가스등급'] == '5'].reset_index(drop=True)"
   ]
  },
  {
   "cell_type": "code",
   "execution_count": 2245,
   "id": "f03910cc-ba5c-4a7d-ab8f-87060262bdde",
   "metadata": {},
   "outputs": [],
   "source": [
    "# fit_d1 = np.polyfit(die1['연도'], die1['차량대수'], 1)\n",
    "# fit_d2 = np.polyfit(die2['연도'], die2['차량대수'], 1)\n",
    "# fit_d3 = np.polyfit(die3['연도'], die3['차량대수'], 1)\n",
    "# fit_d4 = np.polyfit(die4['연도'], die4['차량대수'], 1)\n",
    "# fit_d5 = np.polyfit(die5['연도'], die5['차량대수'], 1)\n",
    "# fit_g1 = np.polyfit(gas1['연도'], gas1['차량대수'], 1)\n",
    "# fit_g2 = np.polyfit(gas2['연도'], gas2['차량대수'], 1)\n",
    "# fit_g3 = np.polyfit(gas3['연도'], gas3['차량대수'], 1)\n",
    "# fit_g4 = np.polyfit(gas4['연도'], gas4['차량대수'], 1)\n",
    "# fit_g5 = np.polyfit(gas5['연도'], gas5['차량대수'], 1)\n",
    "# fit_l1 = np.polyfit(lpg1['연도'], lpg1['차량대수'], 1)\n",
    "# fit_l2 = np.polyfit(lpg2['연도'], lpg2['차량대수'], 1)\n",
    "# fit_l3 = np.polyfit(lpg3['연도'], lpg3['차량대수'], 1)\n",
    "# fit_l4 = np.polyfit(lpg4['연도'], lpg4['차량대수'], 1)\n",
    "# fit_l5 = np.polyfit(lpg5['연도'], lpg5['차량대수'], 1)"
   ]
  },
  {
   "cell_type": "code",
   "execution_count": 2246,
   "id": "f0991b52-4873-4dd5-a314-8d2eb183dce0",
   "metadata": {},
   "outputs": [],
   "source": [
    "# ad1, bd1 = fit_d1\n",
    "# ad2, bd2 = fit_d2\n",
    "# ad3, bd3 = fit_d3\n",
    "# ad4, bd4 = fit_d4\n",
    "# ad5, bd5 = fit_d5\n",
    "# ag1, bg1 = fit_g1\n",
    "# ag2, bg2 = fit_g2\n",
    "# ag3, bg3 = fit_g3\n",
    "# ag4, bg4 = fit_g4\n",
    "# ag5, bg5 = fit_g5\n",
    "# al1, bl1 = fit_l1\n",
    "# al2, bl2 = fit_l2\n",
    "# al3, bl3 = fit_l3\n",
    "# al4, bl4 = fit_l4\n",
    "# al5, bl5 = fit_l5"
   ]
  },
  {
   "cell_type": "code",
   "execution_count": 2247,
   "id": "136e2fc5-164e-4f56-978a-90dd7582d55e",
   "metadata": {},
   "outputs": [],
   "source": [
    "# # 경유 1등급 예측\n",
    "# yr_list = []\n",
    "# fuel_list = []\n",
    "# grd_list = []\n",
    "# pred_list = []\n",
    "# fuel = '경유'\n",
    "# grd = '1'\n",
    "# for yr in range(year + 1, 2036):\n",
    "#     pred = ad1 * yr + bd1\n",
    "#     yr_list.append(yr)\n",
    "#     fuel_list.append(fuel)\n",
    "#     grd_list.append(grd)\n",
    "#     pred_list.append(pred)\n",
    "# die1_pred = pd.DataFrame({'연도':yr_list, 'fuel':fuel_list, '배출가스등급':grd_list,'경유_예측':pred_list})\n",
    "# # 경유 2등급 예측\n",
    "# yr_list = []\n",
    "# fuel_list = []\n",
    "# grd_list = []\n",
    "# pred_list = []\n",
    "# fuel = '경유'\n",
    "# grd = '2'\n",
    "# for yr in range(year + 1, 2036):\n",
    "#     pred = ad2 * yr + bd2\n",
    "#     yr_list.append(yr)\n",
    "#     fuel_list.append(fuel)\n",
    "#     grd_list.append(grd)\n",
    "#     pred_list.append(pred)\n",
    "# die2_pred = pd.DataFrame({'연도':yr_list, 'fuel':fuel_list, '배출가스등급':grd_list,'경유_예측':pred_list})\n",
    "# # 경유 3등급 예측\n",
    "# yr_list = []\n",
    "# fuel_list = []\n",
    "# grd_list = []\n",
    "# pred_list = []\n",
    "# fuel = '경유'\n",
    "# grd = '3'\n",
    "# for yr in range(year + 1, 2036):\n",
    "#     pred = ad3 * yr + bd3\n",
    "#     yr_list.append(yr)\n",
    "#     fuel_list.append(fuel)\n",
    "#     grd_list.append(grd)\n",
    "#     pred_list.append(pred)\n",
    "# die3_pred = pd.DataFrame({'연도':yr_list, 'fuel':fuel_list, '배출가스등급':grd_list,'경유_예측':pred_list})\n",
    "# # 경유 4등급 예측\n",
    "# yr_list = []\n",
    "# fuel_list = []\n",
    "# grd_list = []\n",
    "# pred_list = []\n",
    "# fuel = '경유'\n",
    "# grd = '4'\n",
    "# for yr in range(year + 1, 2036):\n",
    "#     pred = ad4 * yr + bd4\n",
    "#     yr_list.append(yr)\n",
    "#     fuel_list.append(fuel)\n",
    "#     grd_list.append(grd)\n",
    "#     pred_list.append(pred)\n",
    "# die4_pred = pd.DataFrame({'연도':yr_list, 'fuel':fuel_list, '배출가스등급':grd_list,'경유_예측':pred_list})\n",
    "# # 경유 5등급 예측\n",
    "# yr_list = []\n",
    "# fuel_list = []\n",
    "# grd_list = []\n",
    "# pred_list = []\n",
    "# fuel = '경유'\n",
    "# grd = '5'\n",
    "# for yr in range(year + 1, 2036):\n",
    "#     pred = ad5 * yr + bd5\n",
    "#     yr_list.append(yr)\n",
    "#     fuel_list.append(fuel)\n",
    "#     grd_list.append(grd)\n",
    "#     pred_list.append(pred)\n",
    "# die5_pred = pd.DataFrame({'연도':yr_list, 'fuel':fuel_list, '배출가스등급':grd_list,'경유_예측':pred_list})"
   ]
  },
  {
   "cell_type": "code",
   "execution_count": 2248,
   "id": "57e934cb-a661-4dd8-a40d-fe995f222e66",
   "metadata": {},
   "outputs": [],
   "source": [
    "# # 휘발유 1등급 예측\n",
    "# yr_list = []\n",
    "# fuel_list = []\n",
    "# grd_list = []\n",
    "# pred_list = []\n",
    "# fuel = '휘발유'\n",
    "# grd = '1'\n",
    "# for yr in range(year + 1, 2036):\n",
    "#     pred = ag1 * yr + bg1\n",
    "#     yr_list.append(yr)\n",
    "#     fuel_list.append(fuel)\n",
    "#     grd_list.append(grd)\n",
    "#     pred_list.append(pred)\n",
    "# gas1_pred = pd.DataFrame({'연도':yr_list, 'fuel':fuel_list, '배출가스등급':grd_list,'휘발유_예측':pred_list})\n",
    "# # 휘발유 2등급 예측\n",
    "# yr_list = []\n",
    "# fuel_list = []\n",
    "# grd_list = []\n",
    "# pred_list = []\n",
    "# fuel = '휘발유'\n",
    "# grd = '2'\n",
    "# for yr in range(year + 1, 2036):\n",
    "#     pred = ag2 * yr + bg2\n",
    "#     yr_list.append(yr)\n",
    "#     fuel_list.append(fuel)\n",
    "#     grd_list.append(grd)\n",
    "#     pred_list.append(pred)\n",
    "# gas2_pred = pd.DataFrame({'연도':yr_list, 'fuel':fuel_list, '배출가스등급':grd_list,'휘발유_예측':pred_list})\n",
    "# # 휘발유 3등급 예측\n",
    "# yr_list = []\n",
    "# fuel_list = []\n",
    "# grd_list = []\n",
    "# pred_list = []\n",
    "# fuel = '휘발유'\n",
    "# grd = '3'\n",
    "# for yr in range(year + 1, 2036):\n",
    "#     pred = ag3 * yr + bg3\n",
    "#     yr_list.append(yr)\n",
    "#     fuel_list.append(fuel)\n",
    "#     grd_list.append(grd)\n",
    "#     pred_list.append(pred)\n",
    "# gas3_pred = pd.DataFrame({'연도':yr_list, 'fuel':fuel_list, '배출가스등급':grd_list,'휘발유_예측':pred_list})\n",
    "# # 휘발유 4등급 예측\n",
    "# yr_list = []\n",
    "# fuel_list = []\n",
    "# grd_list = []\n",
    "# pred_list = []\n",
    "# fuel = '휘발유'\n",
    "# grd = '4'\n",
    "# for yr in range(year + 1, 2036):\n",
    "#     pred = ag4 * yr + bg4\n",
    "#     yr_list.append(yr)\n",
    "#     fuel_list.append(fuel)\n",
    "#     grd_list.append(grd)\n",
    "#     pred_list.append(pred)\n",
    "# gas4_pred = pd.DataFrame({'연도':yr_list, 'fuel':fuel_list, '배출가스등급':grd_list,'휘발유_예측':pred_list})\n",
    "# # 휘발유 5등급 예측\n",
    "# yr_list = []\n",
    "# fuel_list = []\n",
    "# grd_list = []\n",
    "# pred_list = []\n",
    "# fuel = '휘발유'\n",
    "# grd = '5'\n",
    "# for yr in range(year + 1, 2036):\n",
    "#     pred = ag5 * yr + bg5\n",
    "#     yr_list.append(yr)\n",
    "#     fuel_list.append(fuel)\n",
    "#     grd_list.append(grd)\n",
    "#     pred_list.append(pred)\n",
    "# gas5_pred = pd.DataFrame({'연도':yr_list, 'fuel':fuel_list, '배출가스등급':grd_list,'휘발유_예측':pred_list})"
   ]
  },
  {
   "cell_type": "code",
   "execution_count": 2249,
   "id": "1bbe428e-43c6-4719-b33d-2a5e6c25965b",
   "metadata": {},
   "outputs": [],
   "source": [
    "# # LPG 1등급 예측\n",
    "# yr_list = []\n",
    "# fuel_list = []\n",
    "# grd_list = []\n",
    "# pred_list = []\n",
    "# fuel = 'LPG'\n",
    "# grd = '1'\n",
    "# for yr in range(year + 1, 2036):\n",
    "#     pred = al1 * yr + bl1\n",
    "#     yr_list.append(yr)\n",
    "#     fuel_list.append(fuel)\n",
    "#     grd_list.append(grd)\n",
    "#     pred_list.append(pred)\n",
    "# lpg1_pred = pd.DataFrame({'연도':yr_list, 'fuel':fuel_list, '배출가스등급':grd_list,'LPG_예측':pred_list})\n",
    "# # LPG 2등급 예측\n",
    "# yr_list = []\n",
    "# fuel_list = []\n",
    "# grd_list = []\n",
    "# pred_list = []\n",
    "# fuel = 'LPG'\n",
    "# grd = '2'\n",
    "# for yr in range(year + 1, 2036):\n",
    "#     pred = al2 * yr + bl2\n",
    "#     yr_list.append(yr)\n",
    "#     fuel_list.append(fuel)\n",
    "#     grd_list.append(grd)\n",
    "#     pred_list.append(pred)\n",
    "# lpg2_pred = pd.DataFrame({'연도':yr_list, 'fuel':fuel_list, '배출가스등급':grd_list,'LPG_예측':pred_list})\n",
    "# # LPG 3등급 예측\n",
    "# yr_list = []\n",
    "# fuel_list = []\n",
    "# grd_list = []\n",
    "# pred_list = []\n",
    "# fuel = 'LPG'\n",
    "# grd = '3'\n",
    "# for yr in range(year + 1, 2036):\n",
    "#     pred = al3 * yr + bl3\n",
    "#     yr_list.append(yr)\n",
    "#     fuel_list.append(fuel)\n",
    "#     grd_list.append(grd)\n",
    "#     pred_list.append(pred)\n",
    "# lpg3_pred = pd.DataFrame({'연도':yr_list, 'fuel':fuel_list, '배출가스등급':grd_list,'LPG_예측':pred_list})\n",
    "# # LPG 4등급 예측\n",
    "# yr_list = []\n",
    "# fuel_list = []\n",
    "# grd_list = []\n",
    "# pred_list = []\n",
    "# fuel = 'LPG'\n",
    "# grd = '4'\n",
    "# for yr in range(year + 1, 2036):\n",
    "#     pred = al4 * yr + bl4\n",
    "#     yr_list.append(yr)\n",
    "#     fuel_list.append(fuel)\n",
    "#     grd_list.append(grd)\n",
    "#     pred_list.append(pred)\n",
    "# lpg4_pred = pd.DataFrame({'연도':yr_list, 'fuel':fuel_list, '배출가스등급':grd_list,'LPG_예측':pred_list})\n",
    "# # LPG 5등급 예측\n",
    "# yr_list = []\n",
    "# fuel_list = []\n",
    "# grd_list = []\n",
    "# pred_list = []\n",
    "# fuel = 'LPG'\n",
    "# grd = '5'\n",
    "# for yr in range(year + 1, 2036):\n",
    "#     pred = al5 * yr + bl5\n",
    "#     yr_list.append(yr)\n",
    "#     fuel_list.append(fuel)\n",
    "#     grd_list.append(grd)\n",
    "#     pred_list.append(pred)\n",
    "# lpg5_pred = pd.DataFrame({'연도':yr_list, 'fuel':fuel_list, '배출가스등급':grd_list,'LPG_예측':pred_list})"
   ]
  },
  {
   "cell_type": "code",
   "execution_count": 2250,
   "id": "a8fc37f7-c7f2-4422-82df-da89ffa0a36d",
   "metadata": {},
   "outputs": [],
   "source": [
    "# die_t = pd.concat([die1, die1_pred, die2, die2_pred, die3, die3_pred, die4, die4_pred, die5, die5_pred], ignore_index=True)\n",
    "# gas_t = pd.concat([gas1, gas1_pred, gas2, gas2_pred, gas3, gas3_pred, gas4, gas4_pred, gas5, gas5_pred], ignore_index=True)\n",
    "# lpg_t = pd.concat([lpg1, lpg1_pred, lpg2, lpg2_pred, lpg3, lpg3_pred, lpg4, lpg4_pred, lpg5, lpg5_pred], ignore_index=True)\n",
    "# die_t = die_t.rename(columns={'경유_예측':'차량예측'})\n",
    "# gas_t = gas_t.rename(columns={'휘발유_예측':'차량예측'})\n",
    "# lpg_t = lpg_t.rename(columns={'LPG_예측':'차량예측'})"
   ]
  },
  {
   "cell_type": "code",
   "execution_count": 2251,
   "id": "f1455352-3495-49db-9e5b-6813586d4107",
   "metadata": {},
   "outputs": [],
   "source": [
    "# df6 = pd.concat([die_t, gas_t, lpg_t], ignore_index=True)"
   ]
  },
  {
   "cell_type": "code",
   "execution_count": 2252,
   "id": "adbaaa09-6e20-4dd2-98a8-7c59eb384e45",
   "metadata": {
    "tags": []
   },
   "outputs": [],
   "source": [
    "# df6.shape"
   ]
  },
  {
   "cell_type": "code",
   "execution_count": 2253,
   "id": "7a27a682-fdb1-45c7-8974-5e4f5204cff1",
   "metadata": {},
   "outputs": [],
   "source": [
    "# # 음수 차량 대수 수정\n",
    "# df6.loc[df6['차량예측'] < 0, '차량예측'] = 0"
   ]
  },
  {
   "cell_type": "code",
   "execution_count": 2254,
   "id": "2c01a436-b2a8-4afb-9226-855f19a4a81a",
   "metadata": {},
   "outputs": [],
   "source": [
    "# # 첫째자리까지 반올림\n",
    "# df6[['차량대수', '차량예측']] = df6[['차량대수', '차량예측']].round(0)"
   ]
  },
  {
   "cell_type": "code",
   "execution_count": 2255,
   "id": "34b58551-3320-475f-8bca-e63cf212f96b",
   "metadata": {
    "tags": []
   },
   "outputs": [],
   "source": [
    "# 음수 차량 대수 수정\n",
    "total.loc[total['차량예측'] < 0, '차량예측'] = 0"
   ]
  },
  {
   "cell_type": "code",
   "execution_count": 2256,
   "id": "560e3245-63ed-44fe-8a05-b51b886b001f",
   "metadata": {
    "tags": []
   },
   "outputs": [
    {
     "data": {
      "text/plain": [
       "(0, 8)"
      ]
     },
     "execution_count": 2256,
     "metadata": {},
     "output_type": "execute_result"
    }
   ],
   "source": [
    "total.loc[total['차량예측'] < 0].shape"
   ]
  },
  {
   "cell_type": "code",
   "execution_count": 2257,
   "id": "56eeec70-5f50-48c5-9001-421293be7a82",
   "metadata": {
    "tags": []
   },
   "outputs": [],
   "source": [
    "# 첫째자리까지 반올림\n",
    "total[['차량대수', '차량예측']] = total[['차량대수', '차량예측']].round(0)"
   ]
  },
  {
   "cell_type": "code",
   "execution_count": 2258,
   "id": "9dd4bdd1-7890-4a3e-accc-e76fcbb9def5",
   "metadata": {
    "tags": []
   },
   "outputs": [
    {
     "data": {
      "text/html": [
       "<div>\n",
       "<style scoped>\n",
       "    .dataframe tbody tr th:only-of-type {\n",
       "        vertical-align: middle;\n",
       "    }\n",
       "\n",
       "    .dataframe tbody tr th {\n",
       "        vertical-align: top;\n",
       "    }\n",
       "\n",
       "    .dataframe thead th {\n",
       "        text-align: right;\n",
       "    }\n",
       "</style>\n",
       "<table border=\"1\" class=\"dataframe\">\n",
       "  <thead>\n",
       "    <tr style=\"text-align: right;\">\n",
       "      <th></th>\n",
       "      <th>연도</th>\n",
       "      <th>시도</th>\n",
       "      <th>fuel</th>\n",
       "      <th>배출가스등급</th>\n",
       "      <th>차량대수</th>\n",
       "      <th>등록대수</th>\n",
       "      <th>말소대수</th>\n",
       "      <th>차량예측</th>\n",
       "    </tr>\n",
       "  </thead>\n",
       "  <tbody>\n",
       "    <tr>\n",
       "      <th>4080</th>\n",
       "      <td>2019</td>\n",
       "      <td>충청북도</td>\n",
       "      <td>LPG</td>\n",
       "      <td>1</td>\n",
       "      <td>15004.00</td>\n",
       "      <td>2035.00</td>\n",
       "      <td>143.00</td>\n",
       "      <td>NaN</td>\n",
       "    </tr>\n",
       "    <tr>\n",
       "      <th>4081</th>\n",
       "      <td>2020</td>\n",
       "      <td>충청북도</td>\n",
       "      <td>LPG</td>\n",
       "      <td>1</td>\n",
       "      <td>15948.00</td>\n",
       "      <td>1325.00</td>\n",
       "      <td>381.00</td>\n",
       "      <td>NaN</td>\n",
       "    </tr>\n",
       "    <tr>\n",
       "      <th>4082</th>\n",
       "      <td>2021</td>\n",
       "      <td>충청북도</td>\n",
       "      <td>LPG</td>\n",
       "      <td>1</td>\n",
       "      <td>16401.00</td>\n",
       "      <td>1063.00</td>\n",
       "      <td>610.00</td>\n",
       "      <td>NaN</td>\n",
       "    </tr>\n",
       "    <tr>\n",
       "      <th>4083</th>\n",
       "      <td>2022</td>\n",
       "      <td>충청북도</td>\n",
       "      <td>LPG</td>\n",
       "      <td>1</td>\n",
       "      <td>16498.00</td>\n",
       "      <td>777.00</td>\n",
       "      <td>680.00</td>\n",
       "      <td>NaN</td>\n",
       "    </tr>\n",
       "    <tr>\n",
       "      <th>4084</th>\n",
       "      <td>2023</td>\n",
       "      <td>충청북도</td>\n",
       "      <td>LPG</td>\n",
       "      <td>1</td>\n",
       "      <td>16085.00</td>\n",
       "      <td>283.00</td>\n",
       "      <td>696.00</td>\n",
       "      <td>NaN</td>\n",
       "    </tr>\n",
       "    <tr>\n",
       "      <th>4085</th>\n",
       "      <td>2024</td>\n",
       "      <td>충청북도</td>\n",
       "      <td>LPG</td>\n",
       "      <td>1</td>\n",
       "      <td>NaN</td>\n",
       "      <td>NaN</td>\n",
       "      <td>NaN</td>\n",
       "      <td>16801.00</td>\n",
       "    </tr>\n",
       "    <tr>\n",
       "      <th>4086</th>\n",
       "      <td>2025</td>\n",
       "      <td>충청북도</td>\n",
       "      <td>LPG</td>\n",
       "      <td>1</td>\n",
       "      <td>NaN</td>\n",
       "      <td>NaN</td>\n",
       "      <td>NaN</td>\n",
       "      <td>17072.00</td>\n",
       "    </tr>\n",
       "    <tr>\n",
       "      <th>4087</th>\n",
       "      <td>2026</td>\n",
       "      <td>충청북도</td>\n",
       "      <td>LPG</td>\n",
       "      <td>1</td>\n",
       "      <td>NaN</td>\n",
       "      <td>NaN</td>\n",
       "      <td>NaN</td>\n",
       "      <td>17343.00</td>\n",
       "    </tr>\n",
       "    <tr>\n",
       "      <th>4088</th>\n",
       "      <td>2027</td>\n",
       "      <td>충청북도</td>\n",
       "      <td>LPG</td>\n",
       "      <td>1</td>\n",
       "      <td>NaN</td>\n",
       "      <td>NaN</td>\n",
       "      <td>NaN</td>\n",
       "      <td>17614.00</td>\n",
       "    </tr>\n",
       "    <tr>\n",
       "      <th>4089</th>\n",
       "      <td>2028</td>\n",
       "      <td>충청북도</td>\n",
       "      <td>LPG</td>\n",
       "      <td>1</td>\n",
       "      <td>NaN</td>\n",
       "      <td>NaN</td>\n",
       "      <td>NaN</td>\n",
       "      <td>17886.00</td>\n",
       "    </tr>\n",
       "    <tr>\n",
       "      <th>4090</th>\n",
       "      <td>2029</td>\n",
       "      <td>충청북도</td>\n",
       "      <td>LPG</td>\n",
       "      <td>1</td>\n",
       "      <td>NaN</td>\n",
       "      <td>NaN</td>\n",
       "      <td>NaN</td>\n",
       "      <td>18157.00</td>\n",
       "    </tr>\n",
       "    <tr>\n",
       "      <th>4091</th>\n",
       "      <td>2030</td>\n",
       "      <td>충청북도</td>\n",
       "      <td>LPG</td>\n",
       "      <td>1</td>\n",
       "      <td>NaN</td>\n",
       "      <td>NaN</td>\n",
       "      <td>NaN</td>\n",
       "      <td>18428.00</td>\n",
       "    </tr>\n",
       "    <tr>\n",
       "      <th>4092</th>\n",
       "      <td>2031</td>\n",
       "      <td>충청북도</td>\n",
       "      <td>LPG</td>\n",
       "      <td>1</td>\n",
       "      <td>NaN</td>\n",
       "      <td>NaN</td>\n",
       "      <td>NaN</td>\n",
       "      <td>18699.00</td>\n",
       "    </tr>\n",
       "    <tr>\n",
       "      <th>4093</th>\n",
       "      <td>2032</td>\n",
       "      <td>충청북도</td>\n",
       "      <td>LPG</td>\n",
       "      <td>1</td>\n",
       "      <td>NaN</td>\n",
       "      <td>NaN</td>\n",
       "      <td>NaN</td>\n",
       "      <td>18970.00</td>\n",
       "    </tr>\n",
       "    <tr>\n",
       "      <th>4094</th>\n",
       "      <td>2033</td>\n",
       "      <td>충청북도</td>\n",
       "      <td>LPG</td>\n",
       "      <td>1</td>\n",
       "      <td>NaN</td>\n",
       "      <td>NaN</td>\n",
       "      <td>NaN</td>\n",
       "      <td>19242.00</td>\n",
       "    </tr>\n",
       "    <tr>\n",
       "      <th>4095</th>\n",
       "      <td>2034</td>\n",
       "      <td>충청북도</td>\n",
       "      <td>LPG</td>\n",
       "      <td>1</td>\n",
       "      <td>NaN</td>\n",
       "      <td>NaN</td>\n",
       "      <td>NaN</td>\n",
       "      <td>19513.00</td>\n",
       "    </tr>\n",
       "    <tr>\n",
       "      <th>4096</th>\n",
       "      <td>2035</td>\n",
       "      <td>충청북도</td>\n",
       "      <td>LPG</td>\n",
       "      <td>1</td>\n",
       "      <td>NaN</td>\n",
       "      <td>NaN</td>\n",
       "      <td>NaN</td>\n",
       "      <td>19784.00</td>\n",
       "    </tr>\n",
       "    <tr>\n",
       "      <th>4165</th>\n",
       "      <td>2019</td>\n",
       "      <td>충청북도</td>\n",
       "      <td>경유</td>\n",
       "      <td>1</td>\n",
       "      <td>0.00</td>\n",
       "      <td>0.00</td>\n",
       "      <td>0.00</td>\n",
       "      <td>NaN</td>\n",
       "    </tr>\n",
       "    <tr>\n",
       "      <th>4166</th>\n",
       "      <td>2020</td>\n",
       "      <td>충청북도</td>\n",
       "      <td>경유</td>\n",
       "      <td>1</td>\n",
       "      <td>0.00</td>\n",
       "      <td>0.00</td>\n",
       "      <td>0.00</td>\n",
       "      <td>NaN</td>\n",
       "    </tr>\n",
       "    <tr>\n",
       "      <th>4167</th>\n",
       "      <td>2021</td>\n",
       "      <td>충청북도</td>\n",
       "      <td>경유</td>\n",
       "      <td>1</td>\n",
       "      <td>0.00</td>\n",
       "      <td>0.00</td>\n",
       "      <td>0.00</td>\n",
       "      <td>NaN</td>\n",
       "    </tr>\n",
       "    <tr>\n",
       "      <th>4168</th>\n",
       "      <td>2022</td>\n",
       "      <td>충청북도</td>\n",
       "      <td>경유</td>\n",
       "      <td>1</td>\n",
       "      <td>0.00</td>\n",
       "      <td>0.00</td>\n",
       "      <td>0.00</td>\n",
       "      <td>NaN</td>\n",
       "    </tr>\n",
       "    <tr>\n",
       "      <th>4169</th>\n",
       "      <td>2023</td>\n",
       "      <td>충청북도</td>\n",
       "      <td>경유</td>\n",
       "      <td>1</td>\n",
       "      <td>0.00</td>\n",
       "      <td>0.00</td>\n",
       "      <td>0.00</td>\n",
       "      <td>NaN</td>\n",
       "    </tr>\n",
       "    <tr>\n",
       "      <th>4170</th>\n",
       "      <td>2024</td>\n",
       "      <td>충청북도</td>\n",
       "      <td>경유</td>\n",
       "      <td>1</td>\n",
       "      <td>NaN</td>\n",
       "      <td>NaN</td>\n",
       "      <td>NaN</td>\n",
       "      <td>0.00</td>\n",
       "    </tr>\n",
       "    <tr>\n",
       "      <th>4171</th>\n",
       "      <td>2025</td>\n",
       "      <td>충청북도</td>\n",
       "      <td>경유</td>\n",
       "      <td>1</td>\n",
       "      <td>NaN</td>\n",
       "      <td>NaN</td>\n",
       "      <td>NaN</td>\n",
       "      <td>0.00</td>\n",
       "    </tr>\n",
       "    <tr>\n",
       "      <th>4172</th>\n",
       "      <td>2026</td>\n",
       "      <td>충청북도</td>\n",
       "      <td>경유</td>\n",
       "      <td>1</td>\n",
       "      <td>NaN</td>\n",
       "      <td>NaN</td>\n",
       "      <td>NaN</td>\n",
       "      <td>0.00</td>\n",
       "    </tr>\n",
       "    <tr>\n",
       "      <th>4173</th>\n",
       "      <td>2027</td>\n",
       "      <td>충청북도</td>\n",
       "      <td>경유</td>\n",
       "      <td>1</td>\n",
       "      <td>NaN</td>\n",
       "      <td>NaN</td>\n",
       "      <td>NaN</td>\n",
       "      <td>0.00</td>\n",
       "    </tr>\n",
       "    <tr>\n",
       "      <th>4174</th>\n",
       "      <td>2028</td>\n",
       "      <td>충청북도</td>\n",
       "      <td>경유</td>\n",
       "      <td>1</td>\n",
       "      <td>NaN</td>\n",
       "      <td>NaN</td>\n",
       "      <td>NaN</td>\n",
       "      <td>0.00</td>\n",
       "    </tr>\n",
       "    <tr>\n",
       "      <th>4175</th>\n",
       "      <td>2029</td>\n",
       "      <td>충청북도</td>\n",
       "      <td>경유</td>\n",
       "      <td>1</td>\n",
       "      <td>NaN</td>\n",
       "      <td>NaN</td>\n",
       "      <td>NaN</td>\n",
       "      <td>0.00</td>\n",
       "    </tr>\n",
       "    <tr>\n",
       "      <th>4176</th>\n",
       "      <td>2030</td>\n",
       "      <td>충청북도</td>\n",
       "      <td>경유</td>\n",
       "      <td>1</td>\n",
       "      <td>NaN</td>\n",
       "      <td>NaN</td>\n",
       "      <td>NaN</td>\n",
       "      <td>0.00</td>\n",
       "    </tr>\n",
       "    <tr>\n",
       "      <th>4177</th>\n",
       "      <td>2031</td>\n",
       "      <td>충청북도</td>\n",
       "      <td>경유</td>\n",
       "      <td>1</td>\n",
       "      <td>NaN</td>\n",
       "      <td>NaN</td>\n",
       "      <td>NaN</td>\n",
       "      <td>0.00</td>\n",
       "    </tr>\n",
       "    <tr>\n",
       "      <th>4178</th>\n",
       "      <td>2032</td>\n",
       "      <td>충청북도</td>\n",
       "      <td>경유</td>\n",
       "      <td>1</td>\n",
       "      <td>NaN</td>\n",
       "      <td>NaN</td>\n",
       "      <td>NaN</td>\n",
       "      <td>0.00</td>\n",
       "    </tr>\n",
       "    <tr>\n",
       "      <th>4179</th>\n",
       "      <td>2033</td>\n",
       "      <td>충청북도</td>\n",
       "      <td>경유</td>\n",
       "      <td>1</td>\n",
       "      <td>NaN</td>\n",
       "      <td>NaN</td>\n",
       "      <td>NaN</td>\n",
       "      <td>0.00</td>\n",
       "    </tr>\n",
       "    <tr>\n",
       "      <th>4180</th>\n",
       "      <td>2034</td>\n",
       "      <td>충청북도</td>\n",
       "      <td>경유</td>\n",
       "      <td>1</td>\n",
       "      <td>NaN</td>\n",
       "      <td>NaN</td>\n",
       "      <td>NaN</td>\n",
       "      <td>0.00</td>\n",
       "    </tr>\n",
       "    <tr>\n",
       "      <th>4181</th>\n",
       "      <td>2035</td>\n",
       "      <td>충청북도</td>\n",
       "      <td>경유</td>\n",
       "      <td>1</td>\n",
       "      <td>NaN</td>\n",
       "      <td>NaN</td>\n",
       "      <td>NaN</td>\n",
       "      <td>0.00</td>\n",
       "    </tr>\n",
       "    <tr>\n",
       "      <th>4250</th>\n",
       "      <td>2019</td>\n",
       "      <td>충청북도</td>\n",
       "      <td>휘발유</td>\n",
       "      <td>1</td>\n",
       "      <td>17134.00</td>\n",
       "      <td>3568.00</td>\n",
       "      <td>33.00</td>\n",
       "      <td>NaN</td>\n",
       "    </tr>\n",
       "    <tr>\n",
       "      <th>4251</th>\n",
       "      <td>2020</td>\n",
       "      <td>충청북도</td>\n",
       "      <td>휘발유</td>\n",
       "      <td>1</td>\n",
       "      <td>23088.00</td>\n",
       "      <td>6034.00</td>\n",
       "      <td>80.00</td>\n",
       "      <td>NaN</td>\n",
       "    </tr>\n",
       "    <tr>\n",
       "      <th>4252</th>\n",
       "      <td>2021</td>\n",
       "      <td>충청북도</td>\n",
       "      <td>휘발유</td>\n",
       "      <td>1</td>\n",
       "      <td>27311.00</td>\n",
       "      <td>4366.00</td>\n",
       "      <td>143.00</td>\n",
       "      <td>NaN</td>\n",
       "    </tr>\n",
       "    <tr>\n",
       "      <th>4253</th>\n",
       "      <td>2022</td>\n",
       "      <td>충청북도</td>\n",
       "      <td>휘발유</td>\n",
       "      <td>1</td>\n",
       "      <td>30879.00</td>\n",
       "      <td>3733.00</td>\n",
       "      <td>165.00</td>\n",
       "      <td>NaN</td>\n",
       "    </tr>\n",
       "    <tr>\n",
       "      <th>4254</th>\n",
       "      <td>2023</td>\n",
       "      <td>충청북도</td>\n",
       "      <td>휘발유</td>\n",
       "      <td>1</td>\n",
       "      <td>34390.00</td>\n",
       "      <td>3727.00</td>\n",
       "      <td>216.00</td>\n",
       "      <td>NaN</td>\n",
       "    </tr>\n",
       "    <tr>\n",
       "      <th>4255</th>\n",
       "      <td>2024</td>\n",
       "      <td>충청북도</td>\n",
       "      <td>휘발유</td>\n",
       "      <td>1</td>\n",
       "      <td>NaN</td>\n",
       "      <td>NaN</td>\n",
       "      <td>NaN</td>\n",
       "      <td>39251.00</td>\n",
       "    </tr>\n",
       "    <tr>\n",
       "      <th>4256</th>\n",
       "      <td>2025</td>\n",
       "      <td>충청북도</td>\n",
       "      <td>휘발유</td>\n",
       "      <td>1</td>\n",
       "      <td>NaN</td>\n",
       "      <td>NaN</td>\n",
       "      <td>NaN</td>\n",
       "      <td>43482.00</td>\n",
       "    </tr>\n",
       "    <tr>\n",
       "      <th>4257</th>\n",
       "      <td>2026</td>\n",
       "      <td>충청북도</td>\n",
       "      <td>휘발유</td>\n",
       "      <td>1</td>\n",
       "      <td>NaN</td>\n",
       "      <td>NaN</td>\n",
       "      <td>NaN</td>\n",
       "      <td>47712.00</td>\n",
       "    </tr>\n",
       "    <tr>\n",
       "      <th>4258</th>\n",
       "      <td>2027</td>\n",
       "      <td>충청북도</td>\n",
       "      <td>휘발유</td>\n",
       "      <td>1</td>\n",
       "      <td>NaN</td>\n",
       "      <td>NaN</td>\n",
       "      <td>NaN</td>\n",
       "      <td>51942.00</td>\n",
       "    </tr>\n",
       "    <tr>\n",
       "      <th>4259</th>\n",
       "      <td>2028</td>\n",
       "      <td>충청북도</td>\n",
       "      <td>휘발유</td>\n",
       "      <td>1</td>\n",
       "      <td>NaN</td>\n",
       "      <td>NaN</td>\n",
       "      <td>NaN</td>\n",
       "      <td>56172.00</td>\n",
       "    </tr>\n",
       "    <tr>\n",
       "      <th>4260</th>\n",
       "      <td>2029</td>\n",
       "      <td>충청북도</td>\n",
       "      <td>휘발유</td>\n",
       "      <td>1</td>\n",
       "      <td>NaN</td>\n",
       "      <td>NaN</td>\n",
       "      <td>NaN</td>\n",
       "      <td>60403.00</td>\n",
       "    </tr>\n",
       "    <tr>\n",
       "      <th>4261</th>\n",
       "      <td>2030</td>\n",
       "      <td>충청북도</td>\n",
       "      <td>휘발유</td>\n",
       "      <td>1</td>\n",
       "      <td>NaN</td>\n",
       "      <td>NaN</td>\n",
       "      <td>NaN</td>\n",
       "      <td>64633.00</td>\n",
       "    </tr>\n",
       "    <tr>\n",
       "      <th>4262</th>\n",
       "      <td>2031</td>\n",
       "      <td>충청북도</td>\n",
       "      <td>휘발유</td>\n",
       "      <td>1</td>\n",
       "      <td>NaN</td>\n",
       "      <td>NaN</td>\n",
       "      <td>NaN</td>\n",
       "      <td>68863.00</td>\n",
       "    </tr>\n",
       "    <tr>\n",
       "      <th>4263</th>\n",
       "      <td>2032</td>\n",
       "      <td>충청북도</td>\n",
       "      <td>휘발유</td>\n",
       "      <td>1</td>\n",
       "      <td>NaN</td>\n",
       "      <td>NaN</td>\n",
       "      <td>NaN</td>\n",
       "      <td>73094.00</td>\n",
       "    </tr>\n",
       "    <tr>\n",
       "      <th>4264</th>\n",
       "      <td>2033</td>\n",
       "      <td>충청북도</td>\n",
       "      <td>휘발유</td>\n",
       "      <td>1</td>\n",
       "      <td>NaN</td>\n",
       "      <td>NaN</td>\n",
       "      <td>NaN</td>\n",
       "      <td>77324.00</td>\n",
       "    </tr>\n",
       "    <tr>\n",
       "      <th>4265</th>\n",
       "      <td>2034</td>\n",
       "      <td>충청북도</td>\n",
       "      <td>휘발유</td>\n",
       "      <td>1</td>\n",
       "      <td>NaN</td>\n",
       "      <td>NaN</td>\n",
       "      <td>NaN</td>\n",
       "      <td>81554.00</td>\n",
       "    </tr>\n",
       "    <tr>\n",
       "      <th>4266</th>\n",
       "      <td>2035</td>\n",
       "      <td>충청북도</td>\n",
       "      <td>휘발유</td>\n",
       "      <td>1</td>\n",
       "      <td>NaN</td>\n",
       "      <td>NaN</td>\n",
       "      <td>NaN</td>\n",
       "      <td>85785.00</td>\n",
       "    </tr>\n",
       "  </tbody>\n",
       "</table>\n",
       "</div>"
      ],
      "text/plain": [
       "        연도    시도 fuel 배출가스등급     차량대수    등록대수   말소대수     차량예측\n",
       "4080  2019  충청북도  LPG      1 15004.00 2035.00 143.00      NaN\n",
       "4081  2020  충청북도  LPG      1 15948.00 1325.00 381.00      NaN\n",
       "4082  2021  충청북도  LPG      1 16401.00 1063.00 610.00      NaN\n",
       "4083  2022  충청북도  LPG      1 16498.00  777.00 680.00      NaN\n",
       "4084  2023  충청북도  LPG      1 16085.00  283.00 696.00      NaN\n",
       "4085  2024  충청북도  LPG      1      NaN     NaN    NaN 16801.00\n",
       "4086  2025  충청북도  LPG      1      NaN     NaN    NaN 17072.00\n",
       "4087  2026  충청북도  LPG      1      NaN     NaN    NaN 17343.00\n",
       "4088  2027  충청북도  LPG      1      NaN     NaN    NaN 17614.00\n",
       "4089  2028  충청북도  LPG      1      NaN     NaN    NaN 17886.00\n",
       "4090  2029  충청북도  LPG      1      NaN     NaN    NaN 18157.00\n",
       "4091  2030  충청북도  LPG      1      NaN     NaN    NaN 18428.00\n",
       "4092  2031  충청북도  LPG      1      NaN     NaN    NaN 18699.00\n",
       "4093  2032  충청북도  LPG      1      NaN     NaN    NaN 18970.00\n",
       "4094  2033  충청북도  LPG      1      NaN     NaN    NaN 19242.00\n",
       "4095  2034  충청북도  LPG      1      NaN     NaN    NaN 19513.00\n",
       "4096  2035  충청북도  LPG      1      NaN     NaN    NaN 19784.00\n",
       "4165  2019  충청북도   경유      1     0.00    0.00   0.00      NaN\n",
       "4166  2020  충청북도   경유      1     0.00    0.00   0.00      NaN\n",
       "4167  2021  충청북도   경유      1     0.00    0.00   0.00      NaN\n",
       "4168  2022  충청북도   경유      1     0.00    0.00   0.00      NaN\n",
       "4169  2023  충청북도   경유      1     0.00    0.00   0.00      NaN\n",
       "4170  2024  충청북도   경유      1      NaN     NaN    NaN     0.00\n",
       "4171  2025  충청북도   경유      1      NaN     NaN    NaN     0.00\n",
       "4172  2026  충청북도   경유      1      NaN     NaN    NaN     0.00\n",
       "4173  2027  충청북도   경유      1      NaN     NaN    NaN     0.00\n",
       "4174  2028  충청북도   경유      1      NaN     NaN    NaN     0.00\n",
       "4175  2029  충청북도   경유      1      NaN     NaN    NaN     0.00\n",
       "4176  2030  충청북도   경유      1      NaN     NaN    NaN     0.00\n",
       "4177  2031  충청북도   경유      1      NaN     NaN    NaN     0.00\n",
       "4178  2032  충청북도   경유      1      NaN     NaN    NaN     0.00\n",
       "4179  2033  충청북도   경유      1      NaN     NaN    NaN     0.00\n",
       "4180  2034  충청북도   경유      1      NaN     NaN    NaN     0.00\n",
       "4181  2035  충청북도   경유      1      NaN     NaN    NaN     0.00\n",
       "4250  2019  충청북도  휘발유      1 17134.00 3568.00  33.00      NaN\n",
       "4251  2020  충청북도  휘발유      1 23088.00 6034.00  80.00      NaN\n",
       "4252  2021  충청북도  휘발유      1 27311.00 4366.00 143.00      NaN\n",
       "4253  2022  충청북도  휘발유      1 30879.00 3733.00 165.00      NaN\n",
       "4254  2023  충청북도  휘발유      1 34390.00 3727.00 216.00      NaN\n",
       "4255  2024  충청북도  휘발유      1      NaN     NaN    NaN 39251.00\n",
       "4256  2025  충청북도  휘발유      1      NaN     NaN    NaN 43482.00\n",
       "4257  2026  충청북도  휘발유      1      NaN     NaN    NaN 47712.00\n",
       "4258  2027  충청북도  휘발유      1      NaN     NaN    NaN 51942.00\n",
       "4259  2028  충청북도  휘발유      1      NaN     NaN    NaN 56172.00\n",
       "4260  2029  충청북도  휘발유      1      NaN     NaN    NaN 60403.00\n",
       "4261  2030  충청북도  휘발유      1      NaN     NaN    NaN 64633.00\n",
       "4262  2031  충청북도  휘발유      1      NaN     NaN    NaN 68863.00\n",
       "4263  2032  충청북도  휘발유      1      NaN     NaN    NaN 73094.00\n",
       "4264  2033  충청북도  휘발유      1      NaN     NaN    NaN 77324.00\n",
       "4265  2034  충청북도  휘발유      1      NaN     NaN    NaN 81554.00\n",
       "4266  2035  충청북도  휘발유      1      NaN     NaN    NaN 85785.00"
      ]
     },
     "execution_count": 2258,
     "metadata": {},
     "output_type": "execute_result"
    }
   ],
   "source": [
    "total.loc[(total['시도'] == '충청북도') & (total['배출가스등급'] == '1')]"
   ]
  },
  {
   "cell_type": "code",
   "execution_count": 2259,
   "id": "37493e36-c6fa-4dd8-bb91-2dc8e7daa2d7",
   "metadata": {
    "tags": []
   },
   "outputs": [],
   "source": [
    "# 데이터 확인\n",
    "for ctpv in total['시도'].unique():\n",
    "    for grd in total['배출가스등급'].unique():\n",
    "        if total.loc[(total['시도'] == ctpv) & (total['배출가스등급'] == grd)].shape[0] != 51:\n",
    "            print(ctpv, grd)"
   ]
  },
  {
   "cell_type": "code",
   "execution_count": 2260,
   "id": "5856f065-9923-459a-8c36-f17e4a298349",
   "metadata": {
    "tags": []
   },
   "outputs": [
    {
     "data": {
      "text/plain": [
       "(4335, 8)"
      ]
     },
     "execution_count": 2260,
     "metadata": {},
     "output_type": "execute_result"
    }
   ],
   "source": [
    "total.shape"
   ]
  },
  {
   "cell_type": "code",
   "execution_count": 2261,
   "id": "e214b125-114d-4f80-b66c-e2cec0a39e1c",
   "metadata": {
    "tags": []
   },
   "outputs": [
    {
     "data": {
      "text/plain": [
       "(17, 5)"
      ]
     },
     "execution_count": 2261,
     "metadata": {},
     "output_type": "execute_result"
    }
   ],
   "source": [
    "len(total['시도'].unique()), len(total['배출가스등급'].unique())"
   ]
  },
  {
   "cell_type": "code",
   "execution_count": 2262,
   "id": "1c29f179-e649-450b-b836-4dfd71030d48",
   "metadata": {
    "tags": []
   },
   "outputs": [
    {
     "data": {
      "text/plain": [
       "17.0"
      ]
     },
     "execution_count": 2262,
     "metadata": {},
     "output_type": "execute_result"
    }
   ],
   "source": [
    "4335 / 51 / 5 # 17개 시도"
   ]
  },
  {
   "cell_type": "code",
   "execution_count": 2263,
   "id": "3c93aaf6-d577-4ea8-b878-82f90702b5a6",
   "metadata": {
    "tags": []
   },
   "outputs": [],
   "source": [
    "df6 = total[['연도', '시도', 'fuel', '배출가스등급', '차량대수', '차량예측']]"
   ]
  },
  {
   "cell_type": "code",
   "execution_count": 2264,
   "id": "645638c7-70b7-491b-bf22-e531d58608e2",
   "metadata": {},
   "outputs": [
    {
     "name": "stderr",
     "output_type": "stream",
     "text": [
      "/tmp/ipykernel_2016934/455187394.py:2: SettingWithCopyWarning: \n",
      "A value is trying to be set on a copy of a slice from a DataFrame.\n",
      "Try using .loc[row_indexer,col_indexer] = value instead\n",
      "\n",
      "See the caveats in the documentation: https://pandas.pydata.org/pandas-docs/stable/user_guide/indexing.html#returning-a-view-versus-a-copy\n",
      "  df6['테이블생성일자'] = today_date\n"
     ]
    }
   ],
   "source": [
    "today_date = datetime.today().strftime(\"%Y%m%d\")\n",
    "df6['테이블생성일자'] = today_date\n",
    "cdict = {\n",
    "    '테이블생성일자':'LOAD_DT', \n",
    "    '연도':'YR', \n",
    "    '시도':'CTPV',\n",
    "    'fuel':'FUEL_CD', \n",
    "    '배출가스등급':'EXHST_GAS_GRD_CD', \n",
    "    '차량대수':'VHCL_MKCNT', \n",
    "    '차량예측':'VHCL_PRET', \n",
    "}\n",
    "STD_BD_FUEL_GRD_VHCL_CURSTT_PRET = df6.rename(columns=cdict)"
   ]
  },
  {
   "cell_type": "code",
   "execution_count": 2265,
   "id": "681d5fa2-bc16-41a1-8310-a2c2a3c82f38",
   "metadata": {
    "tags": []
   },
   "outputs": [
    {
     "data": {
      "text/plain": [
       "Index(['YR', 'CTPV', 'FUEL_CD', 'EXHST_GAS_GRD_CD', 'VHCL_MKCNT', 'VHCL_PRET',\n",
       "       'LOAD_DT'],\n",
       "      dtype='object')"
      ]
     },
     "execution_count": 2265,
     "metadata": {},
     "output_type": "execute_result"
    }
   ],
   "source": [
    "STD_BD_FUEL_GRD_VHCL_CURSTT_PRET.columns"
   ]
  },
  {
   "cell_type": "markdown",
   "id": "eb274f42-aaf2-41b6-95d6-f1de8e1d66e7",
   "metadata": {},
   "source": [
    "### [출력] STD_BD_FUEL_GRD_VHCL_CURSTT_PRET"
   ]
  },
  {
   "cell_type": "code",
   "execution_count": 2266,
   "id": "91b20c0a-dbb7-4430-b98a-9761a6aa4d37",
   "metadata": {},
   "outputs": [],
   "source": [
    "# expdf = STD_BD_FUEL_GRD_VHCL_CURSTT_PRET\n",
    "# table_nm = 'STD_BD_FUEL_GRD_VHCL_CURSTT_PRET'.upper()\n",
    "\n",
    "# # 테이블 생성\n",
    "# sql = 'create or replace table ' + table_nm + '( \\n'\n",
    "\n",
    "# for idx,column in enumerate(expdf.columns):\n",
    "#     sql += column + ' varchar(255)'\n",
    "\n",
    "#     if len(expdf.columns) - 1 != idx:\n",
    "#         sql += ','\n",
    "#     sql += '\\n'\n",
    "# sql += ')'    \n",
    "# we.execute(sql)\n",
    "\n",
    "# # 데이터 추가\n",
    "# # 7s\n",
    "# we.import_from_pandas(expdf, table_nm)\n",
    "\n",
    "# print(f'data export : {table_nm}')"
   ]
  },
  {
   "cell_type": "code",
   "execution_count": 2267,
   "id": "71e8a8ea-0111-4e19-b64d-08d59497e06d",
   "metadata": {},
   "outputs": [],
   "source": [
    "## 무공해차 연료, 연도별 차량 현황 예측\n",
    "# - 전기, 수소\n",
    "dfm2bh = dfm2.loc[(dfm2['fuel'] == '전기') | (dfm2['fuel'] == '수소')].reset_index(drop=True)\n",
    "errc2bh = errc2.loc[(errc2['fuel'] == '전기') | (errc2['fuel'] == '수소')].reset_index(drop=True)"
   ]
  },
  {
   "cell_type": "code",
   "execution_count": 2268,
   "id": "216393e9-5cc9-4c01-b2d3-fb77774d84a8",
   "metadata": {},
   "outputs": [],
   "source": [
    "# 2022년 차량 대수\n",
    "grp1 = dfm2bh.groupby('fuel', as_index=False)['차대번호'].count()\n",
    "grp1 = grp1.rename(columns={'차대번호':'차량대수'})\n",
    "grp1['연도'] = f'{year}'\n",
    "grp1 = grp1[['연도', 'fuel', '차량대수']]"
   ]
  },
  {
   "cell_type": "code",
   "execution_count": 2269,
   "id": "7b2fb24d-56c5-4063-9de9-acdaf4dd2fa1",
   "metadata": {},
   "outputs": [],
   "source": [
    "# 차량 통계 기본 데이터셋\n",
    "yr_list = []\n",
    "fuel_list = []\n",
    "for fuel in grp1['fuel'].unique():\n",
    "    for yr in range(2019, year + 1):\n",
    "        yr_list.append(str(yr))\n",
    "        fuel_list.append(fuel)\n",
    "base = pd.DataFrame({'연도':yr_list, 'fuel':fuel_list})"
   ]
  },
  {
   "cell_type": "code",
   "execution_count": 2270,
   "id": "8cb48e92-cca6-4052-abd8-63cc2c2896ad",
   "metadata": {},
   "outputs": [],
   "source": [
    "# 연도별 등록대수\n",
    "grp2 = dfm2bh.groupby(['최초등록일자_년', 'fuel'], as_index=False)['차대번호'].count()\n",
    "grp2 = grp2.rename(columns={'최초등록일자_년':'연도', '차대번호':'등록대수'})"
   ]
  },
  {
   "cell_type": "code",
   "execution_count": 2271,
   "id": "e0f1fba1-43d6-4a68-a2c1-077c41d6b868",
   "metadata": {},
   "outputs": [],
   "source": [
    "# 연도별 말소대수\n",
    "grp3 = errc2bh.groupby(['변경일자_년', 'fuel'], as_index=False)['차대번호'].count()\n",
    "grp3 = grp3.rename(columns={'변경일자_년':'연도', '차대번호':'말소대수'})\n",
    "base1 = base.merge(grp1, on=['연도', 'fuel'], how='left')\n",
    "base2 = base1.merge(grp2, on=['연도', 'fuel'], how='left')\n",
    "base3 = base2.merge(grp3, on=['연도', 'fuel'], how='left')\n",
    "base3[['차량대수', '등록대수', '말소대수']] = base3[['차량대수', '등록대수', '말소대수']].fillna(0)"
   ]
  },
  {
   "cell_type": "code",
   "execution_count": 2272,
   "id": "fd79e07f-ecf0-467e-9813-ae22c4069f94",
   "metadata": {},
   "outputs": [],
   "source": [
    "n = len(base3['연도'].unique())\n",
    "for i in range(base3.shape[0] // n):\n",
    "    for j in range(2, n+1):\n",
    "        base3.loc[(i+1)*n - j, '차량대수'] = base3.loc[(i+1)*n - (j-1), '차량대수'] + base3.loc[(i+1)*n - (j-1), '말소대수'] - base3.loc[(i+1)*n - (j-1), '등록대수']"
   ]
  },
  {
   "cell_type": "code",
   "execution_count": 2273,
   "id": "5c048dd4-353d-493b-94c5-8afb7fd8fa21",
   "metadata": {},
   "outputs": [],
   "source": [
    "bt = base3.loc[base3['fuel'] == '전기', ['연도', 'fuel', '차량대수']].reset_index(drop=True)\n",
    "hy = base3.loc[base3['fuel'] == '수소', ['연도', 'fuel', '차량대수']].reset_index(drop=True)\n",
    "bt['연도'] = bt['연도'].astype('int')\n",
    "hy['연도'] = hy['연도'].astype('int')"
   ]
  },
  {
   "cell_type": "code",
   "execution_count": 2274,
   "id": "59b31117-f39c-489f-a41d-40f08a904b7f",
   "metadata": {},
   "outputs": [],
   "source": [
    "# 선형예측\n",
    "fit1 = np.polyfit(bt['연도'], bt['차량대수'], 1)\n",
    "fit2 = np.polyfit(hy['연도'], hy['차량대수'], 1)\n",
    "a1, b1 = fit1\n",
    "a2, b2 = fit2"
   ]
  },
  {
   "cell_type": "code",
   "execution_count": 2275,
   "id": "ba225954-0228-45bf-ab26-29124476a0ac",
   "metadata": {},
   "outputs": [],
   "source": [
    "# BSpline 예측\n",
    "spl1 = intp.BSpline(bt['연도'], bt['차량대수'], 1, extrapolate=True)\n",
    "spl2 = intp.BSpline(hy['연도'], hy['차량대수'], 1, extrapolate=True)\n",
    "spl1pred = spl1(range(year + 1, 2036))\n",
    "spl2pred = spl2(range(year + 1, 2036))"
   ]
  },
  {
   "cell_type": "code",
   "execution_count": 2276,
   "id": "ab09d6a3-8cb2-499a-9d5b-81c2e20b417d",
   "metadata": {},
   "outputs": [],
   "source": [
    "# akima 예측\n",
    "aki1 = intp.Akima1DInterpolator(bt['연도'], bt['차량대수'])\n",
    "aki2 = intp.Akima1DInterpolator(hy['연도'], hy['차량대수'])\n",
    "aki1pred = aki1([x for x in range(year + 1, 2036)], extrapolate=True)\n",
    "aki2pred = aki2([x for x in range(year + 1, 2036)], extrapolate=True)"
   ]
  },
  {
   "cell_type": "code",
   "execution_count": 2277,
   "id": "9290501d-5d08-4c50-a0ec-bb806d0694f4",
   "metadata": {
    "tags": []
   },
   "outputs": [],
   "source": [
    "yr_list = []\n",
    "fuel_list = []\n",
    "pred_list = []\n",
    "fuel = '전기'\n",
    "for yr in range(year + 1, 2036):\n",
    "    pred = a1 * yr + b1\n",
    "    yr_list.append(yr)\n",
    "    fuel_list.append(fuel)\n",
    "    pred_list.append(pred)\n",
    "bt_pred = pd.DataFrame({'연도':yr_list, '연료':fuel_list, f'{fuel}_예측':pred_list})\n",
    "bt_pred[f'{fuel}_예측_BSpline'] = spl1pred\n",
    "bt_pred[f'{fuel}_예측_Akima'] = aki1pred"
   ]
  },
  {
   "cell_type": "code",
   "execution_count": 2278,
   "id": "26c9b46a-4913-4e3f-85e9-89e970181e68",
   "metadata": {},
   "outputs": [
    {
     "data": {
      "text/plain": [
       "Index(['연도', '연료', '전기_예측', '전기_예측_BSpline', '전기_예측_Akima'], dtype='object')"
      ]
     },
     "execution_count": 2278,
     "metadata": {},
     "output_type": "execute_result"
    }
   ],
   "source": [
    "bt_pred.columns"
   ]
  },
  {
   "cell_type": "code",
   "execution_count": 2279,
   "id": "685bcea3-354b-4e04-bb1a-7d08eaa05868",
   "metadata": {},
   "outputs": [],
   "source": [
    "yr_list = []\n",
    "fuel_list = []\n",
    "pred_list = []\n",
    "fuel = '수소'\n",
    "for yr in range(year + 1, 2036):\n",
    "    pred = a2 * yr + b2\n",
    "    yr_list.append(yr)\n",
    "    fuel_list.append(fuel)\n",
    "    pred_list.append(pred)\n",
    "hy_pred = pd.DataFrame({'연도':yr_list, '연료':fuel_list, f'{fuel}_예측':pred_list})\n",
    "hy_pred[f'{fuel}_예측_BSpline'] = spl2pred\n",
    "hy_pred[f'{fuel}_예측_Akima'] = aki2pred"
   ]
  },
  {
   "cell_type": "code",
   "execution_count": 2280,
   "id": "2d4db5e7-84b3-4aa2-b927-a890f12284ad",
   "metadata": {},
   "outputs": [
    {
     "data": {
      "text/plain": [
       "Index(['연도', '연료', '수소_예측', '수소_예측_BSpline', '수소_예측_Akima'], dtype='object')"
      ]
     },
     "execution_count": 2280,
     "metadata": {},
     "output_type": "execute_result"
    }
   ],
   "source": [
    "hy_pred.columns"
   ]
  },
  {
   "cell_type": "code",
   "execution_count": 2281,
   "id": "d93aeb0f-a211-4bab-8fe9-b3381741b487",
   "metadata": {},
   "outputs": [],
   "source": [
    "bt_t = pd.concat([bt, bt_pred], ignore_index=True)\n",
    "hy_t = pd.concat([hy, hy_pred], ignore_index=True)\n",
    "bt_t = bt_t.rename(columns={'차량대수':'전기_대수'})\n",
    "hy_t = hy_t.rename(columns={'차량대수':'수소_대수'})"
   ]
  },
  {
   "cell_type": "code",
   "execution_count": 2282,
   "id": "69cf2c45-7c10-4d2b-86c8-609bb934a128",
   "metadata": {},
   "outputs": [],
   "source": [
    "bt_t = bt_t.drop('연료', axis=1)\n",
    "hy_t = hy_t.drop(['연료', '연도'], axis=1)"
   ]
  },
  {
   "cell_type": "code",
   "execution_count": 2283,
   "id": "54e09d6d-0b44-4d98-bbe9-86d24ac49c19",
   "metadata": {},
   "outputs": [],
   "source": [
    "df7 = pd.concat([bt_t, hy_t], axis=1)"
   ]
  },
  {
   "cell_type": "code",
   "execution_count": 2284,
   "id": "70d10610-17e3-4a0d-af4c-f6a0849f7790",
   "metadata": {},
   "outputs": [
    {
     "data": {
      "text/plain": [
       "Index(['연도', 'fuel', '전기_대수', '전기_예측', '전기_예측_BSpline', '전기_예측_Akima', 'fuel',\n",
       "       '수소_대수', '수소_예측', '수소_예측_BSpline', '수소_예측_Akima'],\n",
       "      dtype='object')"
      ]
     },
     "execution_count": 2284,
     "metadata": {},
     "output_type": "execute_result"
    }
   ],
   "source": [
    "df7.columns"
   ]
  },
  {
   "cell_type": "code",
   "execution_count": 2285,
   "id": "932d4f02-db9c-4a58-8dcd-9269715c0d6e",
   "metadata": {},
   "outputs": [
    {
     "data": {
      "text/html": [
       "<div>\n",
       "<style scoped>\n",
       "    .dataframe tbody tr th:only-of-type {\n",
       "        vertical-align: middle;\n",
       "    }\n",
       "\n",
       "    .dataframe tbody tr th {\n",
       "        vertical-align: top;\n",
       "    }\n",
       "\n",
       "    .dataframe thead th {\n",
       "        text-align: right;\n",
       "    }\n",
       "</style>\n",
       "<table border=\"1\" class=\"dataframe\">\n",
       "  <thead>\n",
       "    <tr style=\"text-align: right;\">\n",
       "      <th></th>\n",
       "      <th>연도</th>\n",
       "      <th>fuel</th>\n",
       "      <th>전기_대수</th>\n",
       "      <th>전기_예측</th>\n",
       "      <th>전기_예측_BSpline</th>\n",
       "      <th>전기_예측_Akima</th>\n",
       "      <th>fuel</th>\n",
       "      <th>수소_대수</th>\n",
       "      <th>수소_예측</th>\n",
       "      <th>수소_예측_BSpline</th>\n",
       "      <th>수소_예측_Akima</th>\n",
       "    </tr>\n",
       "  </thead>\n",
       "  <tbody>\n",
       "    <tr>\n",
       "      <th>0</th>\n",
       "      <td>2019</td>\n",
       "      <td>전기</td>\n",
       "      <td>93931.00</td>\n",
       "      <td>NaN</td>\n",
       "      <td>NaN</td>\n",
       "      <td>NaN</td>\n",
       "      <td>수소</td>\n",
       "      <td>5209.00</td>\n",
       "      <td>NaN</td>\n",
       "      <td>NaN</td>\n",
       "      <td>NaN</td>\n",
       "    </tr>\n",
       "    <tr>\n",
       "      <th>1</th>\n",
       "      <td>2020</td>\n",
       "      <td>전기</td>\n",
       "      <td>136545.00</td>\n",
       "      <td>NaN</td>\n",
       "      <td>NaN</td>\n",
       "      <td>NaN</td>\n",
       "      <td>수소</td>\n",
       "      <td>10977.00</td>\n",
       "      <td>NaN</td>\n",
       "      <td>NaN</td>\n",
       "      <td>NaN</td>\n",
       "    </tr>\n",
       "    <tr>\n",
       "      <th>2</th>\n",
       "      <td>2021</td>\n",
       "      <td>전기</td>\n",
       "      <td>231702.00</td>\n",
       "      <td>NaN</td>\n",
       "      <td>NaN</td>\n",
       "      <td>NaN</td>\n",
       "      <td>수소</td>\n",
       "      <td>19439.00</td>\n",
       "      <td>NaN</td>\n",
       "      <td>NaN</td>\n",
       "      <td>NaN</td>\n",
       "    </tr>\n",
       "    <tr>\n",
       "      <th>3</th>\n",
       "      <td>2022</td>\n",
       "      <td>전기</td>\n",
       "      <td>389638.00</td>\n",
       "      <td>NaN</td>\n",
       "      <td>NaN</td>\n",
       "      <td>NaN</td>\n",
       "      <td>수소</td>\n",
       "      <td>29641.00</td>\n",
       "      <td>NaN</td>\n",
       "      <td>NaN</td>\n",
       "      <td>NaN</td>\n",
       "    </tr>\n",
       "    <tr>\n",
       "      <th>4</th>\n",
       "      <td>2023</td>\n",
       "      <td>전기</td>\n",
       "      <td>514648.00</td>\n",
       "      <td>NaN</td>\n",
       "      <td>NaN</td>\n",
       "      <td>NaN</td>\n",
       "      <td>수소</td>\n",
       "      <td>33797.00</td>\n",
       "      <td>NaN</td>\n",
       "      <td>NaN</td>\n",
       "      <td>NaN</td>\n",
       "    </tr>\n",
       "  </tbody>\n",
       "</table>\n",
       "</div>"
      ],
      "text/plain": [
       "     연도 fuel     전기_대수  전기_예측  전기_예측_BSpline  전기_예측_Akima fuel    수소_대수   \n",
       "0  2019   전기  93931.00    NaN            NaN          NaN   수소  5209.00  \\\n",
       "1  2020   전기 136545.00    NaN            NaN          NaN   수소 10977.00   \n",
       "2  2021   전기 231702.00    NaN            NaN          NaN   수소 19439.00   \n",
       "3  2022   전기 389638.00    NaN            NaN          NaN   수소 29641.00   \n",
       "4  2023   전기 514648.00    NaN            NaN          NaN   수소 33797.00   \n",
       "\n",
       "   수소_예측  수소_예측_BSpline  수소_예측_Akima  \n",
       "0    NaN            NaN          NaN  \n",
       "1    NaN            NaN          NaN  \n",
       "2    NaN            NaN          NaN  \n",
       "3    NaN            NaN          NaN  \n",
       "4    NaN            NaN          NaN  "
      ]
     },
     "execution_count": 2285,
     "metadata": {},
     "output_type": "execute_result"
    }
   ],
   "source": [
    "df7.head()"
   ]
  },
  {
   "cell_type": "code",
   "execution_count": 2286,
   "id": "743cc069-4eae-487f-8a9c-011b4dec959f",
   "metadata": {
    "tags": []
   },
   "outputs": [
    {
     "data": {
      "text/html": [
       "<div>\n",
       "<style scoped>\n",
       "    .dataframe tbody tr th:only-of-type {\n",
       "        vertical-align: middle;\n",
       "    }\n",
       "\n",
       "    .dataframe tbody tr th {\n",
       "        vertical-align: top;\n",
       "    }\n",
       "\n",
       "    .dataframe thead th {\n",
       "        text-align: right;\n",
       "    }\n",
       "</style>\n",
       "<table border=\"1\" class=\"dataframe\">\n",
       "  <thead>\n",
       "    <tr style=\"text-align: right;\">\n",
       "      <th></th>\n",
       "      <th>연도</th>\n",
       "      <th>fuel</th>\n",
       "      <th>전기_대수</th>\n",
       "      <th>전기_예측</th>\n",
       "      <th>전기_예측_BSpline</th>\n",
       "      <th>전기_예측_Akima</th>\n",
       "      <th>fuel</th>\n",
       "      <th>수소_대수</th>\n",
       "      <th>수소_예측</th>\n",
       "      <th>수소_예측_BSpline</th>\n",
       "      <th>수소_예측_Akima</th>\n",
       "    </tr>\n",
       "  </thead>\n",
       "  <tbody>\n",
       "    <tr>\n",
       "      <th>12</th>\n",
       "      <td>2031</td>\n",
       "      <td>NaN</td>\n",
       "      <td>NaN</td>\n",
       "      <td>1367819.80</td>\n",
       "      <td>1088115.00</td>\n",
       "      <td>-2628517.04</td>\n",
       "      <td>NaN</td>\n",
       "      <td>NaN</td>\n",
       "      <td>95652.60</td>\n",
       "      <td>95597.00</td>\n",
       "      <td>812375.63</td>\n",
       "    </tr>\n",
       "    <tr>\n",
       "      <th>13</th>\n",
       "      <td>2032</td>\n",
       "      <td>NaN</td>\n",
       "      <td>NaN</td>\n",
       "      <td>1477272.50</td>\n",
       "      <td>1183272.00</td>\n",
       "      <td>-4001491.59</td>\n",
       "      <td>NaN</td>\n",
       "      <td>NaN</td>\n",
       "      <td>103236.60</td>\n",
       "      <td>104059.00</td>\n",
       "      <td>1153330.95</td>\n",
       "    </tr>\n",
       "    <tr>\n",
       "      <th>14</th>\n",
       "      <td>2033</td>\n",
       "      <td>NaN</td>\n",
       "      <td>NaN</td>\n",
       "      <td>1586725.20</td>\n",
       "      <td>1278429.00</td>\n",
       "      <td>-5694966.63</td>\n",
       "      <td>NaN</td>\n",
       "      <td>NaN</td>\n",
       "      <td>110820.60</td>\n",
       "      <td>112521.00</td>\n",
       "      <td>1581863.96</td>\n",
       "    </tr>\n",
       "    <tr>\n",
       "      <th>15</th>\n",
       "      <td>2034</td>\n",
       "      <td>NaN</td>\n",
       "      <td>NaN</td>\n",
       "      <td>1696177.90</td>\n",
       "      <td>1373586.00</td>\n",
       "      <td>-7739753.71</td>\n",
       "      <td>NaN</td>\n",
       "      <td>NaN</td>\n",
       "      <td>118404.60</td>\n",
       "      <td>120983.00</td>\n",
       "      <td>2108005.79</td>\n",
       "    </tr>\n",
       "    <tr>\n",
       "      <th>16</th>\n",
       "      <td>2035</td>\n",
       "      <td>NaN</td>\n",
       "      <td>NaN</td>\n",
       "      <td>1805630.60</td>\n",
       "      <td>1468743.00</td>\n",
       "      <td>-10166664.39</td>\n",
       "      <td>NaN</td>\n",
       "      <td>NaN</td>\n",
       "      <td>125988.60</td>\n",
       "      <td>129445.00</td>\n",
       "      <td>2741787.54</td>\n",
       "    </tr>\n",
       "  </tbody>\n",
       "</table>\n",
       "</div>"
      ],
      "text/plain": [
       "      연도 fuel  전기_대수      전기_예측  전기_예측_BSpline  전기_예측_Akima fuel  수소_대수   \n",
       "12  2031  NaN    NaN 1367819.80     1088115.00  -2628517.04  NaN    NaN  \\\n",
       "13  2032  NaN    NaN 1477272.50     1183272.00  -4001491.59  NaN    NaN   \n",
       "14  2033  NaN    NaN 1586725.20     1278429.00  -5694966.63  NaN    NaN   \n",
       "15  2034  NaN    NaN 1696177.90     1373586.00  -7739753.71  NaN    NaN   \n",
       "16  2035  NaN    NaN 1805630.60     1468743.00 -10166664.39  NaN    NaN   \n",
       "\n",
       "       수소_예측  수소_예측_BSpline  수소_예측_Akima  \n",
       "12  95652.60       95597.00    812375.63  \n",
       "13 103236.60      104059.00   1153330.95  \n",
       "14 110820.60      112521.00   1581863.96  \n",
       "15 118404.60      120983.00   2108005.79  \n",
       "16 125988.60      129445.00   2741787.54  "
      ]
     },
     "execution_count": 2286,
     "metadata": {},
     "output_type": "execute_result"
    }
   ],
   "source": [
    "df7.tail()"
   ]
  },
  {
   "cell_type": "code",
   "execution_count": 2287,
   "id": "f87c0eae-6595-4abf-94db-9cf3640e7072",
   "metadata": {
    "tags": []
   },
   "outputs": [
    {
     "name": "stdout",
     "output_type": "stream",
     "text": [
      "(0,)\n",
      "(0,)\n",
      "(0,)\n",
      "(8,)\n",
      "(0,)\n",
      "(0,)\n",
      "(0,)\n",
      "(0,)\n"
     ]
    }
   ],
   "source": [
    "# 음수 확인\n",
    "print(df7.loc[df7['전기_대수'] < 0, '전기_대수'].shape)\n",
    "print(df7.loc[df7['전기_예측'] < 0, '전기_예측'].shape)\n",
    "print(df7.loc[df7['전기_예측_BSpline'] < 0, '전기_예측_BSpline'].shape)\n",
    "print(df7.loc[df7['전기_예측_Akima'] < 0, '전기_예측_Akima'].shape)\n",
    "print(df7.loc[df7['수소_대수'] < 0, '수소_대수'].shape)\n",
    "print(df7.loc[df7['수소_예측'] < 0, '수소_예측'].shape)\n",
    "print(df7.loc[df7['수소_예측_BSpline'] < 0, '수소_예측_BSpline'].shape)\n",
    "print(df7.loc[df7['수소_예측_Akima'] < 0, '수소_예측_Akima'].shape)"
   ]
  },
  {
   "cell_type": "code",
   "execution_count": 2288,
   "id": "77be0be2-194e-4f31-939d-aca56523989f",
   "metadata": {
    "tags": []
   },
   "outputs": [],
   "source": [
    "# 음수 0으로 처리\n",
    "df7.loc[df7['전기_대수'] < 0, '전기_대수'] = 0\n",
    "df7.loc[df7['전기_예측'] < 0, '전기_예측'] = 0\n",
    "df7.loc[df7['전기_예측_BSpline'] < 0, '전기_예측_BSpline'] = 0\n",
    "df7.loc[df7['전기_예측_Akima'] < 0, '전기_예측_Akima'] = 0\n",
    "df7.loc[df7['수소_대수'] < 0, '수소_대수'] = 0\n",
    "df7.loc[df7['수소_예측'] < 0, '수소_예측'] = 0\n",
    "df7.loc[df7['수소_예측_BSpline'] < 0, '수소_예측_BSpline'] = 0\n",
    "df7.loc[df7['수소_예측_Akima'] < 0, '수소_예측_Akima'] = 0"
   ]
  },
  {
   "cell_type": "code",
   "execution_count": 2289,
   "id": "18e9f41c-b012-4367-a4c4-48d7dcf49e11",
   "metadata": {
    "tags": []
   },
   "outputs": [
    {
     "name": "stdout",
     "output_type": "stream",
     "text": [
      "(0,)\n",
      "(0,)\n",
      "(0,)\n",
      "(0,)\n",
      "(0,)\n",
      "(0,)\n",
      "(0,)\n",
      "(0,)\n"
     ]
    }
   ],
   "source": [
    "# 음수 확인\n",
    "print(df7.loc[df7['전기_대수'] < 0, '전기_대수'].shape)\n",
    "print(df7.loc[df7['전기_예측'] < 0, '전기_예측'].shape)\n",
    "print(df7.loc[df7['전기_예측_BSpline'] < 0, '전기_예측_BSpline'].shape)\n",
    "print(df7.loc[df7['전기_예측_Akima'] < 0, '전기_예측_Akima'].shape)\n",
    "print(df7.loc[df7['수소_대수'] < 0, '수소_대수'].shape)\n",
    "print(df7.loc[df7['수소_예측'] < 0, '수소_예측'].shape)\n",
    "print(df7.loc[df7['수소_예측_BSpline'] < 0, '수소_예측_BSpline'].shape)\n",
    "print(df7.loc[df7['수소_예측_Akima'] < 0, '수소_예측_Akima'].shape)"
   ]
  },
  {
   "cell_type": "code",
   "execution_count": 2290,
   "id": "da444741-15a5-499f-9c76-bbcb3451544d",
   "metadata": {},
   "outputs": [],
   "source": [
    "# 첫째자리까지 반올림\n",
    "df7.iloc[:, 1:] = df7.iloc[:, 1:].round(0)"
   ]
  },
  {
   "cell_type": "code",
   "execution_count": 2291,
   "id": "b288d358-bd5c-4f26-93cb-f4dc99b114d7",
   "metadata": {},
   "outputs": [
    {
     "data": {
      "text/html": [
       "<div>\n",
       "<style scoped>\n",
       "    .dataframe tbody tr th:only-of-type {\n",
       "        vertical-align: middle;\n",
       "    }\n",
       "\n",
       "    .dataframe tbody tr th {\n",
       "        vertical-align: top;\n",
       "    }\n",
       "\n",
       "    .dataframe thead th {\n",
       "        text-align: right;\n",
       "    }\n",
       "</style>\n",
       "<table border=\"1\" class=\"dataframe\">\n",
       "  <thead>\n",
       "    <tr style=\"text-align: right;\">\n",
       "      <th></th>\n",
       "      <th>연도</th>\n",
       "      <th>fuel</th>\n",
       "      <th>전기_대수</th>\n",
       "      <th>전기_예측</th>\n",
       "      <th>전기_예측_BSpline</th>\n",
       "      <th>전기_예측_Akima</th>\n",
       "      <th>fuel</th>\n",
       "      <th>수소_대수</th>\n",
       "      <th>수소_예측</th>\n",
       "      <th>수소_예측_BSpline</th>\n",
       "      <th>수소_예측_Akima</th>\n",
       "    </tr>\n",
       "  </thead>\n",
       "  <tbody>\n",
       "    <tr>\n",
       "      <th>0</th>\n",
       "      <td>2019</td>\n",
       "      <td>전기</td>\n",
       "      <td>93931.00</td>\n",
       "      <td>NaN</td>\n",
       "      <td>NaN</td>\n",
       "      <td>NaN</td>\n",
       "      <td>수소</td>\n",
       "      <td>5209.00</td>\n",
       "      <td>NaN</td>\n",
       "      <td>NaN</td>\n",
       "      <td>NaN</td>\n",
       "    </tr>\n",
       "    <tr>\n",
       "      <th>1</th>\n",
       "      <td>2020</td>\n",
       "      <td>전기</td>\n",
       "      <td>136545.00</td>\n",
       "      <td>NaN</td>\n",
       "      <td>NaN</td>\n",
       "      <td>NaN</td>\n",
       "      <td>수소</td>\n",
       "      <td>10977.00</td>\n",
       "      <td>NaN</td>\n",
       "      <td>NaN</td>\n",
       "      <td>NaN</td>\n",
       "    </tr>\n",
       "    <tr>\n",
       "      <th>2</th>\n",
       "      <td>2021</td>\n",
       "      <td>전기</td>\n",
       "      <td>231702.00</td>\n",
       "      <td>NaN</td>\n",
       "      <td>NaN</td>\n",
       "      <td>NaN</td>\n",
       "      <td>수소</td>\n",
       "      <td>19439.00</td>\n",
       "      <td>NaN</td>\n",
       "      <td>NaN</td>\n",
       "      <td>NaN</td>\n",
       "    </tr>\n",
       "    <tr>\n",
       "      <th>3</th>\n",
       "      <td>2022</td>\n",
       "      <td>전기</td>\n",
       "      <td>389638.00</td>\n",
       "      <td>NaN</td>\n",
       "      <td>NaN</td>\n",
       "      <td>NaN</td>\n",
       "      <td>수소</td>\n",
       "      <td>29641.00</td>\n",
       "      <td>NaN</td>\n",
       "      <td>NaN</td>\n",
       "      <td>NaN</td>\n",
       "    </tr>\n",
       "    <tr>\n",
       "      <th>4</th>\n",
       "      <td>2023</td>\n",
       "      <td>전기</td>\n",
       "      <td>514648.00</td>\n",
       "      <td>NaN</td>\n",
       "      <td>NaN</td>\n",
       "      <td>NaN</td>\n",
       "      <td>수소</td>\n",
       "      <td>33797.00</td>\n",
       "      <td>NaN</td>\n",
       "      <td>NaN</td>\n",
       "      <td>NaN</td>\n",
       "    </tr>\n",
       "  </tbody>\n",
       "</table>\n",
       "</div>"
      ],
      "text/plain": [
       "     연도 fuel     전기_대수  전기_예측  전기_예측_BSpline  전기_예측_Akima fuel    수소_대수   \n",
       "0  2019   전기  93931.00    NaN            NaN          NaN   수소  5209.00  \\\n",
       "1  2020   전기 136545.00    NaN            NaN          NaN   수소 10977.00   \n",
       "2  2021   전기 231702.00    NaN            NaN          NaN   수소 19439.00   \n",
       "3  2022   전기 389638.00    NaN            NaN          NaN   수소 29641.00   \n",
       "4  2023   전기 514648.00    NaN            NaN          NaN   수소 33797.00   \n",
       "\n",
       "   수소_예측  수소_예측_BSpline  수소_예측_Akima  \n",
       "0    NaN            NaN          NaN  \n",
       "1    NaN            NaN          NaN  \n",
       "2    NaN            NaN          NaN  \n",
       "3    NaN            NaN          NaN  \n",
       "4    NaN            NaN          NaN  "
      ]
     },
     "execution_count": 2291,
     "metadata": {},
     "output_type": "execute_result"
    }
   ],
   "source": [
    "df7.head()"
   ]
  },
  {
   "cell_type": "code",
   "execution_count": 2292,
   "id": "b42ebdd8-fcea-495f-9b40-5f8625a538a0",
   "metadata": {
    "tags": []
   },
   "outputs": [],
   "source": [
    "# 현재 연도 차량 대수로 예측 대수 채우기\n",
    "df7.loc[df7['연도'] == year, '전기_예측'] = df7.loc[df7['연도'] == year, '전기_대수']\n",
    "df7.loc[df7['연도'] == year, '전기_예측_BSpline'] = df7.loc[df7['연도'] == year, '전기_대수']\n",
    "df7.loc[df7['연도'] == year, '전기_예측_Akima'] = df7.loc[df7['연도'] == year, '전기_대수']\n",
    "df7.loc[df7['연도'] == year, '수소_예측'] = df7.loc[df7['연도'] == year, '수소_대수']\n",
    "df7.loc[df7['연도'] == year, '수소_예측_BSpline'] = df7.loc[df7['연도'] == year, '수소_대수']\n",
    "df7.loc[df7['연도'] == year, '수소_예측_Akima'] = df7.loc[df7['연도'] == year, '수소_대수']"
   ]
  },
  {
   "cell_type": "code",
   "execution_count": 2293,
   "id": "1ba6c0d4-6145-47d7-ac9d-f330c65fd8c4",
   "metadata": {
    "tags": []
   },
   "outputs": [
    {
     "data": {
      "text/html": [
       "<div>\n",
       "<style scoped>\n",
       "    .dataframe tbody tr th:only-of-type {\n",
       "        vertical-align: middle;\n",
       "    }\n",
       "\n",
       "    .dataframe tbody tr th {\n",
       "        vertical-align: top;\n",
       "    }\n",
       "\n",
       "    .dataframe thead th {\n",
       "        text-align: right;\n",
       "    }\n",
       "</style>\n",
       "<table border=\"1\" class=\"dataframe\">\n",
       "  <thead>\n",
       "    <tr style=\"text-align: right;\">\n",
       "      <th></th>\n",
       "      <th>연도</th>\n",
       "      <th>fuel</th>\n",
       "      <th>전기_대수</th>\n",
       "      <th>전기_예측</th>\n",
       "      <th>전기_예측_BSpline</th>\n",
       "      <th>전기_예측_Akima</th>\n",
       "      <th>fuel</th>\n",
       "      <th>수소_대수</th>\n",
       "      <th>수소_예측</th>\n",
       "      <th>수소_예측_BSpline</th>\n",
       "      <th>수소_예측_Akima</th>\n",
       "    </tr>\n",
       "  </thead>\n",
       "  <tbody>\n",
       "    <tr>\n",
       "      <th>0</th>\n",
       "      <td>2019</td>\n",
       "      <td>전기</td>\n",
       "      <td>93931.00</td>\n",
       "      <td>NaN</td>\n",
       "      <td>NaN</td>\n",
       "      <td>NaN</td>\n",
       "      <td>수소</td>\n",
       "      <td>5209.00</td>\n",
       "      <td>NaN</td>\n",
       "      <td>NaN</td>\n",
       "      <td>NaN</td>\n",
       "    </tr>\n",
       "    <tr>\n",
       "      <th>1</th>\n",
       "      <td>2020</td>\n",
       "      <td>전기</td>\n",
       "      <td>136545.00</td>\n",
       "      <td>NaN</td>\n",
       "      <td>NaN</td>\n",
       "      <td>NaN</td>\n",
       "      <td>수소</td>\n",
       "      <td>10977.00</td>\n",
       "      <td>NaN</td>\n",
       "      <td>NaN</td>\n",
       "      <td>NaN</td>\n",
       "    </tr>\n",
       "    <tr>\n",
       "      <th>2</th>\n",
       "      <td>2021</td>\n",
       "      <td>전기</td>\n",
       "      <td>231702.00</td>\n",
       "      <td>NaN</td>\n",
       "      <td>NaN</td>\n",
       "      <td>NaN</td>\n",
       "      <td>수소</td>\n",
       "      <td>19439.00</td>\n",
       "      <td>NaN</td>\n",
       "      <td>NaN</td>\n",
       "      <td>NaN</td>\n",
       "    </tr>\n",
       "    <tr>\n",
       "      <th>3</th>\n",
       "      <td>2022</td>\n",
       "      <td>전기</td>\n",
       "      <td>389638.00</td>\n",
       "      <td>NaN</td>\n",
       "      <td>NaN</td>\n",
       "      <td>NaN</td>\n",
       "      <td>수소</td>\n",
       "      <td>29641.00</td>\n",
       "      <td>NaN</td>\n",
       "      <td>NaN</td>\n",
       "      <td>NaN</td>\n",
       "    </tr>\n",
       "    <tr>\n",
       "      <th>4</th>\n",
       "      <td>2023</td>\n",
       "      <td>전기</td>\n",
       "      <td>514648.00</td>\n",
       "      <td>514648.00</td>\n",
       "      <td>514648.00</td>\n",
       "      <td>514648.00</td>\n",
       "      <td>수소</td>\n",
       "      <td>33797.00</td>\n",
       "      <td>33797.00</td>\n",
       "      <td>33797.00</td>\n",
       "      <td>33797.00</td>\n",
       "    </tr>\n",
       "  </tbody>\n",
       "</table>\n",
       "</div>"
      ],
      "text/plain": [
       "     연도 fuel     전기_대수     전기_예측  전기_예측_BSpline  전기_예측_Akima fuel    수소_대수   \n",
       "0  2019   전기  93931.00       NaN            NaN          NaN   수소  5209.00  \\\n",
       "1  2020   전기 136545.00       NaN            NaN          NaN   수소 10977.00   \n",
       "2  2021   전기 231702.00       NaN            NaN          NaN   수소 19439.00   \n",
       "3  2022   전기 389638.00       NaN            NaN          NaN   수소 29641.00   \n",
       "4  2023   전기 514648.00 514648.00      514648.00    514648.00   수소 33797.00   \n",
       "\n",
       "     수소_예측  수소_예측_BSpline  수소_예측_Akima  \n",
       "0      NaN            NaN          NaN  \n",
       "1      NaN            NaN          NaN  \n",
       "2      NaN            NaN          NaN  \n",
       "3      NaN            NaN          NaN  \n",
       "4 33797.00       33797.00     33797.00  "
      ]
     },
     "execution_count": 2293,
     "metadata": {},
     "output_type": "execute_result"
    }
   ],
   "source": [
    "df7.head()"
   ]
  },
  {
   "cell_type": "code",
   "execution_count": 2294,
   "id": "8a5877eb-32d7-4dc0-84fb-9bbf2d1834db",
   "metadata": {
    "tags": []
   },
   "outputs": [
    {
     "data": {
      "text/html": [
       "<div>\n",
       "<style scoped>\n",
       "    .dataframe tbody tr th:only-of-type {\n",
       "        vertical-align: middle;\n",
       "    }\n",
       "\n",
       "    .dataframe tbody tr th {\n",
       "        vertical-align: top;\n",
       "    }\n",
       "\n",
       "    .dataframe thead th {\n",
       "        text-align: right;\n",
       "    }\n",
       "</style>\n",
       "<table border=\"1\" class=\"dataframe\">\n",
       "  <thead>\n",
       "    <tr style=\"text-align: right;\">\n",
       "      <th></th>\n",
       "      <th>연도</th>\n",
       "      <th>fuel</th>\n",
       "      <th>전기_대수</th>\n",
       "      <th>전기_예측</th>\n",
       "      <th>전기_예측_BSpline</th>\n",
       "      <th>전기_예측_Akima</th>\n",
       "      <th>fuel</th>\n",
       "      <th>수소_대수</th>\n",
       "      <th>수소_예측</th>\n",
       "      <th>수소_예측_BSpline</th>\n",
       "      <th>수소_예측_Akima</th>\n",
       "    </tr>\n",
       "  </thead>\n",
       "  <tbody>\n",
       "    <tr>\n",
       "      <th>0</th>\n",
       "      <td>2019</td>\n",
       "      <td>전기</td>\n",
       "      <td>93931.00</td>\n",
       "      <td>NaN</td>\n",
       "      <td>NaN</td>\n",
       "      <td>NaN</td>\n",
       "      <td>수소</td>\n",
       "      <td>5209.00</td>\n",
       "      <td>NaN</td>\n",
       "      <td>NaN</td>\n",
       "      <td>NaN</td>\n",
       "    </tr>\n",
       "    <tr>\n",
       "      <th>1</th>\n",
       "      <td>2020</td>\n",
       "      <td>전기</td>\n",
       "      <td>136545.00</td>\n",
       "      <td>NaN</td>\n",
       "      <td>NaN</td>\n",
       "      <td>NaN</td>\n",
       "      <td>수소</td>\n",
       "      <td>10977.00</td>\n",
       "      <td>NaN</td>\n",
       "      <td>NaN</td>\n",
       "      <td>NaN</td>\n",
       "    </tr>\n",
       "    <tr>\n",
       "      <th>2</th>\n",
       "      <td>2021</td>\n",
       "      <td>전기</td>\n",
       "      <td>231702.00</td>\n",
       "      <td>NaN</td>\n",
       "      <td>NaN</td>\n",
       "      <td>NaN</td>\n",
       "      <td>수소</td>\n",
       "      <td>19439.00</td>\n",
       "      <td>NaN</td>\n",
       "      <td>NaN</td>\n",
       "      <td>NaN</td>\n",
       "    </tr>\n",
       "    <tr>\n",
       "      <th>3</th>\n",
       "      <td>2022</td>\n",
       "      <td>전기</td>\n",
       "      <td>389638.00</td>\n",
       "      <td>NaN</td>\n",
       "      <td>NaN</td>\n",
       "      <td>NaN</td>\n",
       "      <td>수소</td>\n",
       "      <td>29641.00</td>\n",
       "      <td>NaN</td>\n",
       "      <td>NaN</td>\n",
       "      <td>NaN</td>\n",
       "    </tr>\n",
       "    <tr>\n",
       "      <th>4</th>\n",
       "      <td>2023</td>\n",
       "      <td>전기</td>\n",
       "      <td>514648.00</td>\n",
       "      <td>514648.00</td>\n",
       "      <td>514648.00</td>\n",
       "      <td>514648.00</td>\n",
       "      <td>수소</td>\n",
       "      <td>33797.00</td>\n",
       "      <td>33797.00</td>\n",
       "      <td>33797.00</td>\n",
       "      <td>33797.00</td>\n",
       "    </tr>\n",
       "    <tr>\n",
       "      <th>5</th>\n",
       "      <td>2024</td>\n",
       "      <td>NaN</td>\n",
       "      <td>NaN</td>\n",
       "      <td>601651.00</td>\n",
       "      <td>422016.00</td>\n",
       "      <td>596461.00</td>\n",
       "      <td>NaN</td>\n",
       "      <td>NaN</td>\n",
       "      <td>42565.00</td>\n",
       "      <td>36363.00</td>\n",
       "      <td>35251.00</td>\n",
       "    </tr>\n",
       "    <tr>\n",
       "      <th>6</th>\n",
       "      <td>2025</td>\n",
       "      <td>NaN</td>\n",
       "      <td>NaN</td>\n",
       "      <td>711104.00</td>\n",
       "      <td>517173.00</td>\n",
       "      <td>604267.00</td>\n",
       "      <td>NaN</td>\n",
       "      <td>NaN</td>\n",
       "      <td>50149.00</td>\n",
       "      <td>44825.00</td>\n",
       "      <td>44033.00</td>\n",
       "    </tr>\n",
       "    <tr>\n",
       "      <th>7</th>\n",
       "      <td>2026</td>\n",
       "      <td>NaN</td>\n",
       "      <td>NaN</td>\n",
       "      <td>820556.00</td>\n",
       "      <td>612330.00</td>\n",
       "      <td>507253.00</td>\n",
       "      <td>NaN</td>\n",
       "      <td>NaN</td>\n",
       "      <td>57733.00</td>\n",
       "      <td>53287.00</td>\n",
       "      <td>70176.00</td>\n",
       "    </tr>\n",
       "    <tr>\n",
       "      <th>8</th>\n",
       "      <td>2027</td>\n",
       "      <td>NaN</td>\n",
       "      <td>NaN</td>\n",
       "      <td>930009.00</td>\n",
       "      <td>707487.00</td>\n",
       "      <td>274607.00</td>\n",
       "      <td>NaN</td>\n",
       "      <td>NaN</td>\n",
       "      <td>65317.00</td>\n",
       "      <td>61749.00</td>\n",
       "      <td>123709.00</td>\n",
       "    </tr>\n",
       "    <tr>\n",
       "      <th>9</th>\n",
       "      <td>2028</td>\n",
       "      <td>NaN</td>\n",
       "      <td>NaN</td>\n",
       "      <td>1039462.00</td>\n",
       "      <td>802644.00</td>\n",
       "      <td>0.00</td>\n",
       "      <td>NaN</td>\n",
       "      <td>NaN</td>\n",
       "      <td>72901.00</td>\n",
       "      <td>70211.00</td>\n",
       "      <td>214665.00</td>\n",
       "    </tr>\n",
       "  </tbody>\n",
       "</table>\n",
       "</div>"
      ],
      "text/plain": [
       "     연도 fuel     전기_대수      전기_예측  전기_예측_BSpline  전기_예측_Akima fuel    수소_대수   \n",
       "0  2019   전기  93931.00        NaN            NaN          NaN   수소  5209.00  \\\n",
       "1  2020   전기 136545.00        NaN            NaN          NaN   수소 10977.00   \n",
       "2  2021   전기 231702.00        NaN            NaN          NaN   수소 19439.00   \n",
       "3  2022   전기 389638.00        NaN            NaN          NaN   수소 29641.00   \n",
       "4  2023   전기 514648.00  514648.00      514648.00    514648.00   수소 33797.00   \n",
       "5  2024  NaN       NaN  601651.00      422016.00    596461.00  NaN      NaN   \n",
       "6  2025  NaN       NaN  711104.00      517173.00    604267.00  NaN      NaN   \n",
       "7  2026  NaN       NaN  820556.00      612330.00    507253.00  NaN      NaN   \n",
       "8  2027  NaN       NaN  930009.00      707487.00    274607.00  NaN      NaN   \n",
       "9  2028  NaN       NaN 1039462.00      802644.00         0.00  NaN      NaN   \n",
       "\n",
       "     수소_예측  수소_예측_BSpline  수소_예측_Akima  \n",
       "0      NaN            NaN          NaN  \n",
       "1      NaN            NaN          NaN  \n",
       "2      NaN            NaN          NaN  \n",
       "3      NaN            NaN          NaN  \n",
       "4 33797.00       33797.00     33797.00  \n",
       "5 42565.00       36363.00     35251.00  \n",
       "6 50149.00       44825.00     44033.00  \n",
       "7 57733.00       53287.00     70176.00  \n",
       "8 65317.00       61749.00    123709.00  \n",
       "9 72901.00       70211.00    214665.00  "
      ]
     },
     "execution_count": 2294,
     "metadata": {},
     "output_type": "execute_result"
    }
   ],
   "source": [
    "df7.head(10)"
   ]
  },
  {
   "cell_type": "code",
   "execution_count": 2295,
   "id": "28290f9d-b606-4208-af95-9c01906001e9",
   "metadata": {},
   "outputs": [],
   "source": [
    "today_date = datetime.today().strftime(\"%Y%m%d\")\n",
    "df7['테이블생성일자'] = today_date\n",
    "df7 = df7[[\n",
    "    '테이블생성일자', \n",
    "    '연도', \n",
    "    '전기_대수', \n",
    "    '전기_예측',\n",
    "    '전기_예측_BSpline',\n",
    "    '전기_예측_Akima',\n",
    "    '수소_대수', \n",
    "    '수소_예측',\n",
    "    '수소_예측_BSpline',\n",
    "    '수소_예측_Akima',\n",
    "    ]]\n",
    "cdict = {\n",
    "    '테이블생성일자':'LOAD_DT', \n",
    "    '연도':'YR', \n",
    "    '전기_대수':'BTYCR', \n",
    "    '전기_예측':'BTYCR_PRET',\n",
    "    '전기_예측_BSpline':'BTYCR_PRET_BSPLN',\n",
    "    '전기_예측_Akima':'BTYCR_PRET_AKM',\n",
    "    '수소_대수':'HY', \n",
    "    '수소_예측':'HY_PRET',\n",
    "    '수소_예측_BSpline':'HY_PRET_BSPLN',\n",
    "    '수소_예측_Akima':'HY_PRET_AKM',    \n",
    "}\n",
    "STD_BD_ECO_CAR_PRET = df7.rename(columns=cdict)"
   ]
  },
  {
   "cell_type": "code",
   "execution_count": 2296,
   "id": "675a2073-7d36-464b-9e4a-4d49edd86384",
   "metadata": {},
   "outputs": [
    {
     "data": {
      "text/plain": [
       "Index(['LOAD_DT', 'YR', 'BTYCR', 'BTYCR_PRET', 'BTYCR_PRET_BSPLN',\n",
       "       'BTYCR_PRET_AKM', 'HY', 'HY_PRET', 'HY_PRET_BSPLN', 'HY_PRET_AKM'],\n",
       "      dtype='object')"
      ]
     },
     "execution_count": 2296,
     "metadata": {},
     "output_type": "execute_result"
    }
   ],
   "source": [
    "STD_BD_ECO_CAR_PRET.columns"
   ]
  },
  {
   "cell_type": "markdown",
   "id": "41d9b34d-f5e6-4710-9c45-10b90e87cccf",
   "metadata": {},
   "source": [
    "### [출력] STD_BD_ECO_CAR_PRET"
   ]
  },
  {
   "cell_type": "code",
   "execution_count": 2297,
   "id": "50e976bc-7b0c-4159-a085-30fab852e7cb",
   "metadata": {},
   "outputs": [],
   "source": [
    "# expdf = STD_BD_ECO_CAR_PRET\n",
    "# table_nm = 'STD_BD_ECO_CAR_PRET'.upper()\n",
    "\n",
    "# # 테이블 생성\n",
    "# sql = 'create or replace table ' + table_nm + '( \\n'\n",
    "\n",
    "# for idx,column in enumerate(expdf.columns):\n",
    "#     # if 'float' in expdf[column].dtype.name:\n",
    "#     #     sql += column + ' float'\n",
    "#     # elif 'int' in expdf[column].dtype.name:\n",
    "#     #     sql += column + ' number'\n",
    "#     # else:\n",
    "#     sql += column + ' varchar(255)'\n",
    "\n",
    "#     if len(expdf.columns) - 1 != idx:\n",
    "#         sql += ','\n",
    "#     sql += '\\n'\n",
    "# sql += ')'    \n",
    "# we.execute(sql)\n",
    "\n",
    "# # 데이터 추가\n",
    "# # 7s\n",
    "# we.import_from_pandas(expdf, table_nm)\n",
    "\n",
    "# print(f'data export : {table_nm}')"
   ]
  },
  {
   "cell_type": "code",
   "execution_count": 2298,
   "id": "27b8b790-9238-4957-a016-d2b741e8db86",
   "metadata": {},
   "outputs": [],
   "source": [
    "## 지역, 등급별 말소 차량 현황\n",
    "errc2['배출가스등급'] = errc2['배출가스등급'].map({'1':'1.0', '2':'2.0', '3':'3.0', '4':'4.0', '5':'5.0', 'X':'X'})"
   ]
  },
  {
   "cell_type": "code",
   "execution_count": 2299,
   "id": "41a7bdbb-a012-4a27-91dd-23ac9c5faffa",
   "metadata": {},
   "outputs": [],
   "source": [
    "today_date = datetime.today().strftime(\"%Y%m%d\")\n",
    "errc2['테이블생성일자'] = today_date\n",
    "df8 = errc2[[\n",
    "    '테이블생성일자', \n",
    "    '법정동코드',\n",
    "    '시도',\n",
    "    '시군구', \n",
    "    '차대번호', \n",
    "    '변경일자', \n",
    "    '배출가스등급', \n",
    "    '연료'\n",
    "    ]]\n",
    "chc_col = {\n",
    "    '테이블생성일자':'LOAD_DT', \n",
    "    '법정동코드':'BSPL_STDG_CD',\n",
    "    '시도':'CTPV',\n",
    "    '시군구':'SGG', \n",
    "    '차대번호':'VIN', \n",
    "    '변경일자':'CHG_YMD', \n",
    "    '배출가스등급':'EXHST_GAS_GRD_CD', \n",
    "    '연료':'FUEL_CD', \n",
    "}\n",
    "STD_BD_ERSR_RSLT = df8.rename(columns=chc_col)"
   ]
  },
  {
   "cell_type": "code",
   "execution_count": 2300,
   "id": "96efeaba-d005-43ca-82ba-d74a77966c81",
   "metadata": {},
   "outputs": [
    {
     "data": {
      "text/plain": [
       "Index(['LOAD_DT', 'BSPL_STDG_CD', 'CTPV', 'SGG', 'VIN', 'CHG_YMD',\n",
       "       'EXHST_GAS_GRD_CD', 'FUEL_CD'],\n",
       "      dtype='object')"
      ]
     },
     "execution_count": 2300,
     "metadata": {},
     "output_type": "execute_result"
    }
   ],
   "source": [
    "STD_BD_ERSR_RSLT.columns"
   ]
  },
  {
   "cell_type": "code",
   "execution_count": 2301,
   "id": "f47ed5be-5d72-4b8d-9461-80e30988c949",
   "metadata": {
    "tags": []
   },
   "outputs": [
    {
     "data": {
      "text/html": [
       "<div>\n",
       "<style scoped>\n",
       "    .dataframe tbody tr th:only-of-type {\n",
       "        vertical-align: middle;\n",
       "    }\n",
       "\n",
       "    .dataframe tbody tr th {\n",
       "        vertical-align: top;\n",
       "    }\n",
       "\n",
       "    .dataframe thead th {\n",
       "        text-align: right;\n",
       "    }\n",
       "</style>\n",
       "<table border=\"1\" class=\"dataframe\">\n",
       "  <thead>\n",
       "    <tr style=\"text-align: right;\">\n",
       "      <th></th>\n",
       "      <th>LOAD_DT</th>\n",
       "      <th>BSPL_STDG_CD</th>\n",
       "      <th>CTPV</th>\n",
       "      <th>SGG</th>\n",
       "      <th>VIN</th>\n",
       "      <th>CHG_YMD</th>\n",
       "      <th>EXHST_GAS_GRD_CD</th>\n",
       "      <th>FUEL_CD</th>\n",
       "    </tr>\n",
       "  </thead>\n",
       "  <tbody>\n",
       "    <tr>\n",
       "      <th>5087828</th>\n",
       "      <td>20231103</td>\n",
       "      <td>3011000000</td>\n",
       "      <td>대전광역시</td>\n",
       "      <td>동구</td>\n",
       "      <td>KMHEN41BP4A131068</td>\n",
       "      <td>20190121</td>\n",
       "      <td>3.0</td>\n",
       "      <td>휘발유</td>\n",
       "    </tr>\n",
       "    <tr>\n",
       "      <th>5087829</th>\n",
       "      <td>20231103</td>\n",
       "      <td>2920000000</td>\n",
       "      <td>광주광역시</td>\n",
       "      <td>광산구</td>\n",
       "      <td>KMJWWH7BPYU243657</td>\n",
       "      <td>20190116</td>\n",
       "      <td>NaN</td>\n",
       "      <td>경유</td>\n",
       "    </tr>\n",
       "    <tr>\n",
       "      <th>5087830</th>\n",
       "      <td>20231103</td>\n",
       "      <td>2917000000</td>\n",
       "      <td>광주광역시</td>\n",
       "      <td>북구</td>\n",
       "      <td>KN3HAP53A1K738305</td>\n",
       "      <td>20190116</td>\n",
       "      <td>NaN</td>\n",
       "      <td>경유</td>\n",
       "    </tr>\n",
       "    <tr>\n",
       "      <th>5087831</th>\n",
       "      <td>20231103</td>\n",
       "      <td>4682000000</td>\n",
       "      <td>전라남도</td>\n",
       "      <td>해남군</td>\n",
       "      <td>KNFWF0A429K351723</td>\n",
       "      <td>20190114</td>\n",
       "      <td>NaN</td>\n",
       "      <td>경유</td>\n",
       "    </tr>\n",
       "    <tr>\n",
       "      <th>5087832</th>\n",
       "      <td>20231103</td>\n",
       "      <td>2914000000</td>\n",
       "      <td>광주광역시</td>\n",
       "      <td>서구</td>\n",
       "      <td>KMHGT41CP3U045985</td>\n",
       "      <td>20190108</td>\n",
       "      <td>3.0</td>\n",
       "      <td>휘발유</td>\n",
       "    </tr>\n",
       "  </tbody>\n",
       "</table>\n",
       "</div>"
      ],
      "text/plain": [
       "          LOAD_DT  BSPL_STDG_CD   CTPV  SGG                VIN   CHG_YMD   \n",
       "5087828  20231103    3011000000  대전광역시   동구  KMHEN41BP4A131068  20190121  \\\n",
       "5087829  20231103    2920000000  광주광역시  광산구  KMJWWH7BPYU243657  20190116   \n",
       "5087830  20231103    2917000000  광주광역시   북구  KN3HAP53A1K738305  20190116   \n",
       "5087831  20231103    4682000000   전라남도  해남군  KNFWF0A429K351723  20190114   \n",
       "5087832  20231103    2914000000  광주광역시   서구  KMHGT41CP3U045985  20190108   \n",
       "\n",
       "        EXHST_GAS_GRD_CD FUEL_CD  \n",
       "5087828              3.0     휘발유  \n",
       "5087829              NaN      경유  \n",
       "5087830              NaN      경유  \n",
       "5087831              NaN      경유  \n",
       "5087832              3.0     휘발유  "
      ]
     },
     "execution_count": 2301,
     "metadata": {},
     "output_type": "execute_result"
    }
   ],
   "source": [
    "STD_BD_ERSR_RSLT.tail()"
   ]
  },
  {
   "cell_type": "markdown",
   "id": "2c8636d3-6085-4358-a60d-9bfacffd80d9",
   "metadata": {},
   "source": [
    "### [출력] STD_BD_ERSR_RSLT"
   ]
  },
  {
   "cell_type": "code",
   "execution_count": 2302,
   "id": "5c8aa60f-a7d5-4eaf-944c-17f8da463ac4",
   "metadata": {},
   "outputs": [],
   "source": [
    "# expdf = STD_BD_ERSR_RSLT\n",
    "# table_nm = 'STD_BD_ERSR_RSLT'.upper()\n",
    "\n",
    "# # 테이블 생성\n",
    "# sql = 'create or replace table ' + table_nm + '( \\n'\n",
    "\n",
    "# for idx,column in enumerate(expdf.columns):\n",
    "#     # if 'float' in expdf[column].dtype.name:\n",
    "#     #     sql += column + ' float'\n",
    "#     # elif 'int' in expdf[column].dtype.name:\n",
    "#     #     sql += column + ' number'\n",
    "#     # else:\n",
    "#     sql += column + ' varchar(255)'\n",
    "\n",
    "#     if len(expdf.columns) - 1 != idx:\n",
    "#         sql += ','\n",
    "#     sql += '\\n'\n",
    "# sql += ')'    \n",
    "# we.execute(sql)\n",
    "\n",
    "# # 데이터 추가\n",
    "# # 7s\n",
    "# we.import_from_pandas(expdf, table_nm)\n",
    "\n",
    "# print(f'data export : {table_nm}')"
   ]
  },
  {
   "cell_type": "code",
   "execution_count": 2303,
   "id": "3f06a11d-0eed-4186-8039-4a0cfa4e50b2",
   "metadata": {},
   "outputs": [],
   "source": [
    "## 등급별현황 테이블\n",
    "# - 시도, 연도, 월, 등급, 연료, 차종, 차량유형, 용도별 / 차량대수, 말소차량대수, 차량 비율\n",
    "df9 = dfm.copy()"
   ]
  },
  {
   "cell_type": "code",
   "execution_count": 2304,
   "id": "1f2ce268-152d-4d2b-9b19-e1bae1eb9768",
   "metadata": {},
   "outputs": [],
   "source": [
    "# 데이터 연도 설정\n",
    "# year = 2022\n",
    "# month = 12\n",
    "today_date = datetime.today().strftime(\"%Y%m%d\")\n",
    "year = int(today_date[:4])\n",
    "month = int(today_date[4:6])"
   ]
  },
  {
   "cell_type": "code",
   "execution_count": 2305,
   "id": "7b991ce6-857c-4f9f-8245-ad11eadc307b",
   "metadata": {},
   "outputs": [],
   "source": [
    "# 차량 대수\n",
    "grp1 = df9.groupby(['시도', '배출가스등급', '연료', '차종', '차종유형', '용도'], dropna=False)['차대번호'].count().reset_index() # !!! 수정(2023.11.09)\n",
    "grp1 = grp1.rename(columns={'차대번호':'차량대수'})\n",
    "grp1['연도'] = f'{year}'\n",
    "grp1['월'] = f'{month}'\n",
    "grp1"
   ]
  },
  {
   "cell_type": "code",
   "execution_count": 2306,
   "id": "b0a8542a-7e46-44d4-b3bd-f7b9236f439e",
   "metadata": {},
   "outputs": [],
   "source": [
    "# 날짜 설정\n",
    "# date_date = '20221231'\n",
    "date_date = datetime.today().strftime(\"%Y%m%d\")\n",
    "# 37.5s"
   ]
  },
  {
   "cell_type": "code",
   "execution_count": 2307,
   "id": "8e965cb4-87aa-4527-a6f8-2609a0065d60",
   "metadata": {},
   "outputs": [
    {
     "data": {
      "text/plain": [
       "([2023, 2023, 2023, 2023], [8, 9, 10, 11])"
      ]
     },
     "execution_count": 2307,
     "metadata": {},
     "output_type": "execute_result"
    }
   ],
   "source": [
    "div = 4 # !!! 수정(2023.11.09)\n",
    "y_plist = list(pd.date_range(end=date_date, periods=div, freq=\"MS\").year) # !!! 수정(2023.11.09)\n",
    "mth_plist = list(pd.date_range(end=date_date, periods=div, freq=\"MS\").month) # !!! 수정(2023.11.09)\n",
    "\n",
    "y_plist, mth_plist"
   ]
  },
  {
   "cell_type": "code",
   "execution_count": 2308,
   "id": "fac4cc15-6b0b-4f6b-a9d7-84a8788a50a0",
   "metadata": {},
   "outputs": [],
   "source": [
    "# 37.5s\n",
    "# 차량 통계 기본 데이터셋\n",
    "ctpv_list, yr_list, month_list, grd_list, fuel_list, vhcty_list, ty_list, purps_list = [], [], [], [], [], [], [], []\n",
    "for ctpv in grp1['시도'].unique():\n",
    "    for yr, month in zip(y_plist, mth_plist):\n",
    "        for grd in grp1['배출가스등급'].unique():\n",
    "            for fuel in grp1['연료'].unique():\n",
    "                for vhcty in grp1['차종'].unique():\n",
    "                    for ty in grp1['차종유형'].unique():\n",
    "                        for purps in grp1['용도'].unique():\n",
    "                            ctpv_list.append(ctpv)\n",
    "                            yr_list.append(str(yr))\n",
    "                            month_list.append(f'{month:0>2}')\n",
    "                            grd_list.append(grd)\n",
    "                            fuel_list.append(fuel)\n",
    "                            vhcty_list.append(vhcty)\n",
    "                            ty_list.append(ty)\n",
    "                            purps_list.append(purps)\n",
    "base = pd.DataFrame({\n",
    "    '시도':ctpv_list, \n",
    "    '연도':yr_list, \n",
    "    '월':month_list, \n",
    "    '배출가스등급':grd_list, \n",
    "    '연료':fuel_list, \n",
    "    '차종':vhcty_list, \n",
    "    '차종유형':ty_list, \n",
    "    '용도':purps_list, \n",
    "    })\n",
    "base"
   ]
  },
  {
   "cell_type": "code",
   "execution_count": 2309,
   "id": "52e2421a-8289-430a-ac34-d0b1543afb31",
   "metadata": {},
   "outputs": [],
   "source": [
    "# 13.6s\n",
    "# 연도별 등록대수\n",
    "grp2 = df9.groupby(['시도', '최초등록일자_년', '최초등록일자_월', '배출가스등급', '연료', '차종', '차종유형', '용도'], dropna=False)['차대번호'].count().reset_index() # !!! 수정(2023.11.09)\n",
    "grp2 = grp2.rename(columns={'최초등록일자_년':'연도', '최초등록일자_월':'월', '차대번호':'등록대수'})\n",
    "grp2"
   ]
  },
  {
   "cell_type": "code",
   "execution_count": 2310,
   "id": "55d95f03-be9e-4bbf-bba0-068209584fd9",
   "metadata": {},
   "outputs": [],
   "source": [
    "#2.5s\n",
    "# 연도별 말소대수\n",
    "grp3 = errc.groupby(['시도', '변경일자_년', '변경일자_월', '배출가스등급', '연료', '차종', '차종유형', '용도'], dropna=False)['차대번호'].count().reset_index() # !!! 수정(2023.11.09)\n",
    "grp3 = grp3.rename(columns={'변경일자_년':'연도', '변경일자_월':'월', '차대번호':'말소대수'})\n",
    "grp3"
   ]
  },
  {
   "cell_type": "code",
   "execution_count": 2311,
   "id": "164ec4a8-163a-4c08-ade8-691df46e6a0b",
   "metadata": {},
   "outputs": [],
   "source": [
    "base1 = base.merge(grp1, on=['시도', '연도', '월', '배출가스등급', '연료', '차종', '차종유형', '용도'], how='left')\n",
    "base2 = base1.merge(grp2, on=['시도', '연도', '월', '배출가스등급', '연료', '차종', '차종유형', '용도'], how='left')\n",
    "base3 = base2.merge(grp3, on=['시도', '연도', '월', '배출가스등급', '연료', '차종', '차종유형', '용도'], how='left')\n",
    "base3[['차량대수', '등록대수', '말소대수']] = base3[['차량대수', '등록대수', '말소대수']].fillna(0)\n",
    "base3 = base3.sort_values(['시도', '배출가스등급', '연료', '차종', '차종유형', '용도', '연도', '월']).reset_index(drop=True)"
   ]
  },
  {
   "cell_type": "code",
   "execution_count": 2312,
   "id": "d125d3a2-3725-4beb-886d-83d30ce5d2c4",
   "metadata": {},
   "outputs": [],
   "source": [
    "# 1m 28.6s\n",
    "n = len(base3['월'].unique())\n",
    "for i in range(base3.shape[0] // n):\n",
    "    for j in range(2, n+1):\n",
    "        base3.loc[(i+1)*n - j, '차량대수'] = base3.loc[(i+1)*n - (j-1), '차량대수'] + base3.loc[(i+1)*n - (j-1), '말소대수'] - base3.loc[(i+1)*n - (j-1), '등록대수']"
   ]
  },
  {
   "cell_type": "code",
   "execution_count": null,
   "id": "2bbf8f09",
   "metadata": {},
   "outputs": [],
   "source": [
    "base3.loc[[x for x in range(0, base3.shape[0], div)], '차량대수'] = 0 # !!! 수정(2023.11.09)"
   ]
  },
  {
   "cell_type": "code",
   "execution_count": 2313,
   "id": "18345554-90ee-4db2-998b-4d02f7dbe693",
   "metadata": {},
   "outputs": [],
   "source": [
    "anl1 = base3[['시도', '연도', '월', '배출가스등급', '연료', '차종', '차종유형', '용도', '차량대수', '말소대수']]\n",
    "anl1['연도_월별_차량대수'] = anl1.groupby(['연도', '월'])['차량대수'].transform('sum') # !!! 수정(2023.11.09)\n",
    "anl1['연도_월_연료별_차량대수'] = anl1.groupby(['연도', '월', '연료'])['차량대수'].transform('sum') # !!! 수정(2023.11.09)\n",
    "anl1['연도_연료차량비율'] = anl1['연도_월_연료별_차량대수'] / anl1['연도_월별_차량대수'] # !!! 수정(2023.11.09)\n",
    "anl1['연도_연료차량비율'] = anl1['연도_연료차량비율'].round(2) # !!! 수정(2023.11.09)\n",
    "anl1['연도_연료차량비율'] = anl1['연도_연료차량비율'].fillna(0) # !!! 수정(2023.11.09)\n",
    "anl1['연도_연료차량비율'] = anl1['연도_연료차량비율'].round(2) # !!! 수정(2023.11.10)\n",
    "anl1['테이블생성일자'] = today_date"
   ]
  },
  {
   "cell_type": "code",
   "execution_count": 2314,
   "id": "4db6de67-57b1-4f69-9a73-e2fd8d898287",
   "metadata": {},
   "outputs": [],
   "source": [
    "STD_BD_DAT_GRD_CURSTT = anl1[[\n",
    "    '시도',\n",
    "    '연도',\n",
    "    '월',\n",
    "    '배출가스등급',\n",
    "    '연료',\n",
    "    '차종',\n",
    "    '차종유형',\n",
    "    '용도',\n",
    "    '차량대수',\n",
    "    '말소대수',\n",
    "    '연도_연료차량비율',\n",
    "    '테이블생성일자'\n",
    "    ]]\n",
    "cdict = {\n",
    "    '시도':'CTPV', \n",
    "    '연도':'YR', \n",
    "    '월':'MM', \n",
    "    '배출가스등급':'EXHST_GAS_GRD_CD', \n",
    "    '연료':'FUEL_CD', \n",
    "    '차종':'VHCTY_CD', \n",
    "    '차종유형':'VHCTY_TY', \n",
    "    '용도':'PURPS_CD2', \n",
    "    '차량대수':'VHCL_MKCNT', \n",
    "    '말소대수':'ERSR_MKCNT', \n",
    "    '연도_연료차량비율':'YR_FUEL_VHCL_RT', \n",
    "    '테이블생성일자':'LOAD_DT', \n",
    "}\n",
    "STD_BD_DAT_GRD_CURSTT = STD_BD_DAT_GRD_CURSTT.rename(columns=cdict)"
   ]
  },
  {
   "cell_type": "code",
   "execution_count": 2315,
   "id": "91892be1-ff6b-49cf-85af-14309b5def72",
   "metadata": {},
   "outputs": [
    {
     "data": {
      "text/plain": [
       "Index(['CTPV', 'YR', 'MM', 'EXHST_GAS_GRD_CD', 'FUEL_CD', 'VHCTY_CD',\n",
       "       'VHCTY_TY', 'PURPS_CD2', 'VHCL_MKCNT', 'ERSR_MKCNT', 'YR_FUEL_VHCL_RT',\n",
       "       'LOAD_DT'],\n",
       "      dtype='object')"
      ]
     },
     "execution_count": 2315,
     "metadata": {},
     "output_type": "execute_result"
    }
   ],
   "source": [
    "STD_BD_DAT_GRD_CURSTT.columns"
   ]
  },
  {
   "cell_type": "markdown",
   "id": "0055ecc1-5ecd-4628-a560-0f15c71afbc1",
   "metadata": {},
   "source": [
    "### [출력] STD_BD_DAT_GRD_CURSTT"
   ]
  },
  {
   "cell_type": "code",
   "execution_count": 2316,
   "id": "08281568-28ed-4b84-9c75-cd9bd28d139c",
   "metadata": {},
   "outputs": [],
   "source": [
    "# expdf = STD_BD_DAT_GRD_CURSTT\n",
    "# table_nm = 'STD_BD_DAT_GRD_CURSTT'.upper()\n",
    "\n",
    "# # 테이블 생성\n",
    "# try:\n",
    "#     sql = 'create table ' + table_nm + '( \\n'\n",
    "\n",
    "#     for idx,column in enumerate(expdf.columns):\n",
    "#         # if 'float' in expdf[column].dtype.name:\n",
    "#         #     sql += column + ' float'\n",
    "#         # elif 'int' in expdf[column].dtype.name:\n",
    "#         #     sql += column + ' number'\n",
    "#         # else:\n",
    "#         sql += column + ' varchar(255)'\n",
    "\n",
    "#         if len(expdf.columns) - 1 != idx:\n",
    "#             sql += ','\n",
    "#         sql += '\\n'\n",
    "#     sql += ')'    \n",
    "#     we.execute(sql)\n",
    "#     # 데이터 추가\n",
    "#     we.import_from_pandas(expdf, table_nm)\n",
    "# except:\n",
    "#     # 데이터 추가\n",
    "#     we.import_from_pandas(expdf, table_nm)\n",
    "\n",
    "# print(f'data export : {table_nm}')"
   ]
  },
  {
   "cell_type": "code",
   "execution_count": 2317,
   "id": "34c359ae-c574-448b-8c60-7e0366fb1142",
   "metadata": {},
   "outputs": [],
   "source": [
    "## 내연기관차 감소추이\n",
    "grp1 = dfm2dgl.groupby(['배출가스등급', '연료'])['차대번호'].count().reset_index()\n",
    "grp1 = grp1.rename(columns={'차대번호':'차량대수'})"
   ]
  },
  {
   "cell_type": "code",
   "execution_count": 2318,
   "id": "1d26890e-b0b2-423d-ae67-87719e357ed8",
   "metadata": {},
   "outputs": [],
   "source": [
    "# year = '2022'\n",
    "# month = '12'\n",
    "today_date = datetime.today().strftime(\"%Y%m%d\")\n",
    "year = today_date[:4]\n",
    "month = today_date[4:6]\n",
    "grp1[['연도', '월']] = [year, month]"
   ]
  },
  {
   "cell_type": "code",
   "execution_count": 2319,
   "id": "cc6bea8a-999f-472a-bbdc-e89f8f0b7ea6",
   "metadata": {},
   "outputs": [],
   "source": [
    "yr_list, month_list, grd_list, fuel_list = [], [], [], []\n",
    "for grd in ['1', '2', '3', '4', '5', 'X']:\n",
    "    for fuel in grp1['연료'].unique():\n",
    "        for yr in range(2019, int(year) + 1):\n",
    "            for month in range(1, 13):\n",
    "                yr_list.append(str(yr))\n",
    "                month_list.append(f'{month:0>2}')\n",
    "                grd_list.append(grd)\n",
    "                fuel_list.append(fuel)\n",
    "base = pd.DataFrame({'연도':yr_list, '월':month_list, '배출가스등급':grd_list, '연료':fuel_list})"
   ]
  },
  {
   "cell_type": "code",
   "execution_count": 2320,
   "id": "b4183cd1-58ca-41cc-97e8-94a697bbe87d",
   "metadata": {},
   "outputs": [],
   "source": [
    "grp2 = dfm2dgl.groupby(['최초등록일자_년', '최초등록일자_월', '배출가스등급', '연료'])['차대번호'].count().reset_index()\n",
    "grp2 = grp2.rename(columns={'최초등록일자_년':'연도', '최초등록일자_월':'월', '차대번호':'등록대수'})\n",
    "grp3 = errc2dgl.groupby(['변경일자_년', '변경일자_월', '배출가스등급', '연료'])['차대번호'].count().reset_index()\n",
    "grp3 = grp3.rename(columns={'변경일자_년':'연도', '변경일자_월':'월', '차대번호':'말소대수'})"
   ]
  },
  {
   "cell_type": "code",
   "execution_count": 2321,
   "id": "b66fb19d-1412-4dab-9fc0-13539c793e21",
   "metadata": {},
   "outputs": [],
   "source": [
    "base1 = base.merge(grp1, on=['연도', '월', '배출가스등급', '연료'], how='left')\n",
    "base2 = base1.merge(grp2, on=['연도', '월', '배출가스등급', '연료'], how='left')\n",
    "base3 = base2.merge(grp3, on=['연도', '월', '배출가스등급', '연료'], how='left')\n",
    "base3 = base3.sort_values(['배출가스등급', '연료', '연도', '월']).reset_index(drop=True)\n",
    "base3[['차량대수', '등록대수', '말소대수']] = base3[['차량대수', '등록대수', '말소대수']].fillna(0)"
   ]
  },
  {
   "cell_type": "code",
   "execution_count": 2322,
   "id": "fd1896a5-48ec-4014-ba9b-fcdf5c254c9e",
   "metadata": {},
   "outputs": [],
   "source": [
    "n = len(base3['연도'].unique()) * len(base3['월'].unique())\n",
    "for i in range(base3.shape[0] // n):\n",
    "    for j in range(2, n+1):\n",
    "        base3.loc[(i+1)*n - j, '차량대수'] = base3.loc[(i+1)*n - (j-1), '차량대수'] + base3.loc[(i+1)*n - (j-1), '말소대수'] - base3.loc[(i+1)*n - (j-1), '등록대수']"
   ]
  },
  {
   "cell_type": "code",
   "execution_count": 2323,
   "id": "ef3d345a-c651-47db-aa68-9bf197ef203f",
   "metadata": {},
   "outputs": [],
   "source": [
    "pred_grd_list, pred_fuel_list, pred_yr_list, pred_month_list = [], [], [], []\n",
    "for grd in ['1', '2', '3', '4', '5', 'X']:\n",
    "    for fuel in grp1['연료'].unique():\n",
    "        for yr in range(int(year) + 1, 2036):\n",
    "            for month in range(1, 13):\n",
    "                pred_grd_list.append(grd)\n",
    "                pred_fuel_list.append(fuel)\n",
    "                pred_yr_list.append(str(yr))\n",
    "                pred_month_list.append(f'{month:0>2}')\n",
    "pred_df = pd.DataFrame({'연도':pred_yr_list, '연료':pred_fuel_list, '월':pred_month_list, '배출가스등급':pred_grd_list})\n",
    "total_base = pd.concat([base3, pred_df], ignore_index=True)\n",
    "total_base = total_base.sort_values(['배출가스등급', '연료', '연도', '월']).reset_index(drop=True)"
   ]
  },
  {
   "cell_type": "code",
   "execution_count": 2324,
   "id": "dbf02f3b-fb41-420e-b355-cf3ac21e2687",
   "metadata": {},
   "outputs": [],
   "source": [
    "total_pred_df = pd.DataFrame()\n",
    "for fuel in total_base['연료'].unique():\n",
    "    for grd in total_base['배출가스등급'].unique():\n",
    "        temp = total_base.loc[(total_base['연료'] == fuel) & (total_base['배출가스등급'] == grd)].reset_index(drop=True).reset_index()\n",
    "        present = temp[temp['연도'] <= year]\n",
    "        future = temp.loc[temp['연도'] > year, ['index', '연도', '월', '배출가스등급', '연료']]\n",
    "        if fuel == 'LPG(액화석유가스)':\n",
    "            fuel_mod = 'LPG'\n",
    "        else:\n",
    "            fuel_mod = fuel\n",
    "        present = present.rename(columns={'차량대수':f\"{fuel_mod}_대수\"})\n",
    "        # 선형예측\n",
    "        a, b = np.polyfit(present['index'], present[f\"{fuel_mod}_대수\"], 1)\n",
    "        future[f'{fuel_mod}_예측'] = a * future['index'] + b\n",
    "        # BSpline 예측\n",
    "        spl = intp.BSpline(present['index'], present[f\"{fuel_mod}_대수\"], 1, extrapolate=True)\n",
    "        future[f'{fuel_mod}_예측_BSpline'] = spl(future['index'])\n",
    "        # Akima 예측\n",
    "        aki = intp.Akima1DInterpolator(present['index'], present[f\"{fuel_mod}_대수\"])\n",
    "        future[f'{fuel_mod}_예측_Akima'] = aki(future['index'], extrapolate=True)\n",
    "        temp2 = pd.concat([present, future], ignore_index=True)\n",
    "        total_pred_df = pd.concat([total_pred_df, temp2], ignore_index=True)       "
   ]
  },
  {
   "cell_type": "code",
   "execution_count": 2325,
   "id": "9b2812ad-2902-4caf-87e2-51fd1489ac82",
   "metadata": {},
   "outputs": [
    {
     "data": {
      "text/html": [
       "<div>\n",
       "<style scoped>\n",
       "    .dataframe tbody tr th:only-of-type {\n",
       "        vertical-align: middle;\n",
       "    }\n",
       "\n",
       "    .dataframe tbody tr th {\n",
       "        vertical-align: top;\n",
       "    }\n",
       "\n",
       "    .dataframe thead th {\n",
       "        text-align: right;\n",
       "    }\n",
       "</style>\n",
       "<table border=\"1\" class=\"dataframe\">\n",
       "  <thead>\n",
       "    <tr style=\"text-align: right;\">\n",
       "      <th></th>\n",
       "      <th>index</th>\n",
       "      <th>연도</th>\n",
       "      <th>월</th>\n",
       "      <th>배출가스등급</th>\n",
       "      <th>연료</th>\n",
       "      <th>LPG_대수</th>\n",
       "      <th>등록대수</th>\n",
       "      <th>말소대수</th>\n",
       "      <th>LPG_예측</th>\n",
       "      <th>LPG_예측_BSpline</th>\n",
       "      <th>LPG_예측_Akima</th>\n",
       "      <th>경유_대수</th>\n",
       "      <th>경유_예측</th>\n",
       "      <th>경유_예측_BSpline</th>\n",
       "      <th>경유_예측_Akima</th>\n",
       "      <th>휘발유_대수</th>\n",
       "      <th>휘발유_예측</th>\n",
       "      <th>휘발유_예측_BSpline</th>\n",
       "      <th>휘발유_예측_Akima</th>\n",
       "    </tr>\n",
       "  </thead>\n",
       "  <tbody>\n",
       "    <tr>\n",
       "      <th>0</th>\n",
       "      <td>0</td>\n",
       "      <td>2019</td>\n",
       "      <td>01</td>\n",
       "      <td>1</td>\n",
       "      <td>LPG(액화석유가스)</td>\n",
       "      <td>-85474.00</td>\n",
       "      <td>4226.00</td>\n",
       "      <td>0.00</td>\n",
       "      <td>NaN</td>\n",
       "      <td>NaN</td>\n",
       "      <td>NaN</td>\n",
       "      <td>NaN</td>\n",
       "      <td>NaN</td>\n",
       "      <td>NaN</td>\n",
       "      <td>NaN</td>\n",
       "      <td>NaN</td>\n",
       "      <td>NaN</td>\n",
       "      <td>NaN</td>\n",
       "      <td>NaN</td>\n",
       "    </tr>\n",
       "    <tr>\n",
       "      <th>1</th>\n",
       "      <td>1</td>\n",
       "      <td>2019</td>\n",
       "      <td>02</td>\n",
       "      <td>1</td>\n",
       "      <td>LPG(액화석유가스)</td>\n",
       "      <td>-82026.00</td>\n",
       "      <td>3448.00</td>\n",
       "      <td>0.00</td>\n",
       "      <td>NaN</td>\n",
       "      <td>NaN</td>\n",
       "      <td>NaN</td>\n",
       "      <td>NaN</td>\n",
       "      <td>NaN</td>\n",
       "      <td>NaN</td>\n",
       "      <td>NaN</td>\n",
       "      <td>NaN</td>\n",
       "      <td>NaN</td>\n",
       "      <td>NaN</td>\n",
       "      <td>NaN</td>\n",
       "    </tr>\n",
       "    <tr>\n",
       "      <th>2</th>\n",
       "      <td>2</td>\n",
       "      <td>2019</td>\n",
       "      <td>03</td>\n",
       "      <td>1</td>\n",
       "      <td>LPG(액화석유가스)</td>\n",
       "      <td>-77168.00</td>\n",
       "      <td>4858.00</td>\n",
       "      <td>0.00</td>\n",
       "      <td>NaN</td>\n",
       "      <td>NaN</td>\n",
       "      <td>NaN</td>\n",
       "      <td>NaN</td>\n",
       "      <td>NaN</td>\n",
       "      <td>NaN</td>\n",
       "      <td>NaN</td>\n",
       "      <td>NaN</td>\n",
       "      <td>NaN</td>\n",
       "      <td>NaN</td>\n",
       "      <td>NaN</td>\n",
       "    </tr>\n",
       "    <tr>\n",
       "      <th>3</th>\n",
       "      <td>3</td>\n",
       "      <td>2019</td>\n",
       "      <td>04</td>\n",
       "      <td>1</td>\n",
       "      <td>LPG(액화석유가스)</td>\n",
       "      <td>-71626.00</td>\n",
       "      <td>5542.00</td>\n",
       "      <td>0.00</td>\n",
       "      <td>NaN</td>\n",
       "      <td>NaN</td>\n",
       "      <td>NaN</td>\n",
       "      <td>NaN</td>\n",
       "      <td>NaN</td>\n",
       "      <td>NaN</td>\n",
       "      <td>NaN</td>\n",
       "      <td>NaN</td>\n",
       "      <td>NaN</td>\n",
       "      <td>NaN</td>\n",
       "      <td>NaN</td>\n",
       "    </tr>\n",
       "    <tr>\n",
       "      <th>4</th>\n",
       "      <td>4</td>\n",
       "      <td>2019</td>\n",
       "      <td>05</td>\n",
       "      <td>1</td>\n",
       "      <td>LPG(액화석유가스)</td>\n",
       "      <td>-64671.00</td>\n",
       "      <td>6955.00</td>\n",
       "      <td>0.00</td>\n",
       "      <td>NaN</td>\n",
       "      <td>NaN</td>\n",
       "      <td>NaN</td>\n",
       "      <td>NaN</td>\n",
       "      <td>NaN</td>\n",
       "      <td>NaN</td>\n",
       "      <td>NaN</td>\n",
       "      <td>NaN</td>\n",
       "      <td>NaN</td>\n",
       "      <td>NaN</td>\n",
       "      <td>NaN</td>\n",
       "    </tr>\n",
       "  </tbody>\n",
       "</table>\n",
       "</div>"
      ],
      "text/plain": [
       "   index    연도   월 배출가스등급           연료    LPG_대수    등록대수  말소대수  LPG_예측   \n",
       "0      0  2019  01      1  LPG(액화석유가스) -85474.00 4226.00  0.00     NaN  \\\n",
       "1      1  2019  02      1  LPG(액화석유가스) -82026.00 3448.00  0.00     NaN   \n",
       "2      2  2019  03      1  LPG(액화석유가스) -77168.00 4858.00  0.00     NaN   \n",
       "3      3  2019  04      1  LPG(액화석유가스) -71626.00 5542.00  0.00     NaN   \n",
       "4      4  2019  05      1  LPG(액화석유가스) -64671.00 6955.00  0.00     NaN   \n",
       "\n",
       "   LPG_예측_BSpline  LPG_예측_Akima  경유_대수  경유_예측  경유_예측_BSpline  경유_예측_Akima   \n",
       "0             NaN           NaN    NaN    NaN            NaN          NaN  \\\n",
       "1             NaN           NaN    NaN    NaN            NaN          NaN   \n",
       "2             NaN           NaN    NaN    NaN            NaN          NaN   \n",
       "3             NaN           NaN    NaN    NaN            NaN          NaN   \n",
       "4             NaN           NaN    NaN    NaN            NaN          NaN   \n",
       "\n",
       "   휘발유_대수  휘발유_예측  휘발유_예측_BSpline  휘발유_예측_Akima  \n",
       "0     NaN     NaN             NaN           NaN  \n",
       "1     NaN     NaN             NaN           NaN  \n",
       "2     NaN     NaN             NaN           NaN  \n",
       "3     NaN     NaN             NaN           NaN  \n",
       "4     NaN     NaN             NaN           NaN  "
      ]
     },
     "execution_count": 2325,
     "metadata": {},
     "output_type": "execute_result"
    }
   ],
   "source": [
    "total_pred_df.head()"
   ]
  },
  {
   "cell_type": "code",
   "execution_count": 2326,
   "id": "ad94754a-cf73-47ef-809a-d0a160db3211",
   "metadata": {},
   "outputs": [
    {
     "data": {
      "text/html": [
       "<div>\n",
       "<style scoped>\n",
       "    .dataframe tbody tr th:only-of-type {\n",
       "        vertical-align: middle;\n",
       "    }\n",
       "\n",
       "    .dataframe tbody tr th {\n",
       "        vertical-align: top;\n",
       "    }\n",
       "\n",
       "    .dataframe thead th {\n",
       "        text-align: right;\n",
       "    }\n",
       "</style>\n",
       "<table border=\"1\" class=\"dataframe\">\n",
       "  <thead>\n",
       "    <tr style=\"text-align: right;\">\n",
       "      <th></th>\n",
       "      <th>index</th>\n",
       "      <th>연도</th>\n",
       "      <th>월</th>\n",
       "      <th>배출가스등급</th>\n",
       "      <th>연료</th>\n",
       "      <th>LPG_대수</th>\n",
       "      <th>등록대수</th>\n",
       "      <th>말소대수</th>\n",
       "      <th>LPG_예측</th>\n",
       "      <th>LPG_예측_BSpline</th>\n",
       "      <th>LPG_예측_Akima</th>\n",
       "      <th>경유_대수</th>\n",
       "      <th>경유_예측</th>\n",
       "      <th>경유_예측_BSpline</th>\n",
       "      <th>경유_예측_Akima</th>\n",
       "      <th>휘발유_대수</th>\n",
       "      <th>휘발유_예측</th>\n",
       "      <th>휘발유_예측_BSpline</th>\n",
       "      <th>휘발유_예측_Akima</th>\n",
       "    </tr>\n",
       "  </thead>\n",
       "  <tbody>\n",
       "    <tr>\n",
       "      <th>3667</th>\n",
       "      <td>199</td>\n",
       "      <td>2035</td>\n",
       "      <td>08</td>\n",
       "      <td>X</td>\n",
       "      <td>휘발유</td>\n",
       "      <td>NaN</td>\n",
       "      <td>NaN</td>\n",
       "      <td>NaN</td>\n",
       "      <td>NaN</td>\n",
       "      <td>NaN</td>\n",
       "      <td>NaN</td>\n",
       "      <td>NaN</td>\n",
       "      <td>NaN</td>\n",
       "      <td>NaN</td>\n",
       "      <td>NaN</td>\n",
       "      <td>NaN</td>\n",
       "      <td>0.00</td>\n",
       "      <td>0.00</td>\n",
       "      <td>0.00</td>\n",
       "    </tr>\n",
       "    <tr>\n",
       "      <th>3668</th>\n",
       "      <td>200</td>\n",
       "      <td>2035</td>\n",
       "      <td>09</td>\n",
       "      <td>X</td>\n",
       "      <td>휘발유</td>\n",
       "      <td>NaN</td>\n",
       "      <td>NaN</td>\n",
       "      <td>NaN</td>\n",
       "      <td>NaN</td>\n",
       "      <td>NaN</td>\n",
       "      <td>NaN</td>\n",
       "      <td>NaN</td>\n",
       "      <td>NaN</td>\n",
       "      <td>NaN</td>\n",
       "      <td>NaN</td>\n",
       "      <td>NaN</td>\n",
       "      <td>0.00</td>\n",
       "      <td>0.00</td>\n",
       "      <td>0.00</td>\n",
       "    </tr>\n",
       "    <tr>\n",
       "      <th>3669</th>\n",
       "      <td>201</td>\n",
       "      <td>2035</td>\n",
       "      <td>10</td>\n",
       "      <td>X</td>\n",
       "      <td>휘발유</td>\n",
       "      <td>NaN</td>\n",
       "      <td>NaN</td>\n",
       "      <td>NaN</td>\n",
       "      <td>NaN</td>\n",
       "      <td>NaN</td>\n",
       "      <td>NaN</td>\n",
       "      <td>NaN</td>\n",
       "      <td>NaN</td>\n",
       "      <td>NaN</td>\n",
       "      <td>NaN</td>\n",
       "      <td>NaN</td>\n",
       "      <td>0.00</td>\n",
       "      <td>0.00</td>\n",
       "      <td>0.00</td>\n",
       "    </tr>\n",
       "    <tr>\n",
       "      <th>3670</th>\n",
       "      <td>202</td>\n",
       "      <td>2035</td>\n",
       "      <td>11</td>\n",
       "      <td>X</td>\n",
       "      <td>휘발유</td>\n",
       "      <td>NaN</td>\n",
       "      <td>NaN</td>\n",
       "      <td>NaN</td>\n",
       "      <td>NaN</td>\n",
       "      <td>NaN</td>\n",
       "      <td>NaN</td>\n",
       "      <td>NaN</td>\n",
       "      <td>NaN</td>\n",
       "      <td>NaN</td>\n",
       "      <td>NaN</td>\n",
       "      <td>NaN</td>\n",
       "      <td>0.00</td>\n",
       "      <td>0.00</td>\n",
       "      <td>0.00</td>\n",
       "    </tr>\n",
       "    <tr>\n",
       "      <th>3671</th>\n",
       "      <td>203</td>\n",
       "      <td>2035</td>\n",
       "      <td>12</td>\n",
       "      <td>X</td>\n",
       "      <td>휘발유</td>\n",
       "      <td>NaN</td>\n",
       "      <td>NaN</td>\n",
       "      <td>NaN</td>\n",
       "      <td>NaN</td>\n",
       "      <td>NaN</td>\n",
       "      <td>NaN</td>\n",
       "      <td>NaN</td>\n",
       "      <td>NaN</td>\n",
       "      <td>NaN</td>\n",
       "      <td>NaN</td>\n",
       "      <td>NaN</td>\n",
       "      <td>0.00</td>\n",
       "      <td>0.00</td>\n",
       "      <td>0.00</td>\n",
       "    </tr>\n",
       "  </tbody>\n",
       "</table>\n",
       "</div>"
      ],
      "text/plain": [
       "      index    연도   월 배출가스등급   연료  LPG_대수  등록대수  말소대수  LPG_예측  LPG_예측_BSpline   \n",
       "3667    199  2035  08      X  휘발유     NaN   NaN   NaN     NaN             NaN  \\\n",
       "3668    200  2035  09      X  휘발유     NaN   NaN   NaN     NaN             NaN   \n",
       "3669    201  2035  10      X  휘발유     NaN   NaN   NaN     NaN             NaN   \n",
       "3670    202  2035  11      X  휘발유     NaN   NaN   NaN     NaN             NaN   \n",
       "3671    203  2035  12      X  휘발유     NaN   NaN   NaN     NaN             NaN   \n",
       "\n",
       "      LPG_예측_Akima  경유_대수  경유_예측  경유_예측_BSpline  경유_예측_Akima  휘발유_대수  휘발유_예측   \n",
       "3667           NaN    NaN    NaN            NaN          NaN     NaN    0.00  \\\n",
       "3668           NaN    NaN    NaN            NaN          NaN     NaN    0.00   \n",
       "3669           NaN    NaN    NaN            NaN          NaN     NaN    0.00   \n",
       "3670           NaN    NaN    NaN            NaN          NaN     NaN    0.00   \n",
       "3671           NaN    NaN    NaN            NaN          NaN     NaN    0.00   \n",
       "\n",
       "      휘발유_예측_BSpline  휘발유_예측_Akima  \n",
       "3667            0.00          0.00  \n",
       "3668            0.00          0.00  \n",
       "3669            0.00          0.00  \n",
       "3670            0.00          0.00  \n",
       "3671            0.00          0.00  "
      ]
     },
     "execution_count": 2326,
     "metadata": {},
     "output_type": "execute_result"
    }
   ],
   "source": [
    "total_pred_df.tail()"
   ]
  },
  {
   "cell_type": "code",
   "execution_count": 2327,
   "id": "171e09f8-95f4-4beb-82c0-fd14ec021361",
   "metadata": {},
   "outputs": [],
   "source": [
    "df5 = total_pred_df[[\n",
    "    '연도',\n",
    "    '월',\n",
    "    '배출가스등급',\n",
    "    '연료',\n",
    "    'LPG_대수',\n",
    "    'LPG_예측',\n",
    "    'LPG_예측_BSpline',\n",
    "    'LPG_예측_Akima',\n",
    "    '경유_대수',\n",
    "    '경유_예측',\n",
    "    '경유_예측_BSpline',\n",
    "    '경유_예측_Akima',\n",
    "    '휘발유_대수',\n",
    "    '휘발유_예측',\n",
    "    '휘발유_예측_BSpline',\n",
    "    '휘발유_예측_Akima'\n",
    "]]"
   ]
  },
  {
   "cell_type": "code",
   "execution_count": 2328,
   "id": "3cde7866-6145-4778-91de-d6bbc8b20258",
   "metadata": {},
   "outputs": [],
   "source": [
    "# 음수 0으로 처리\n",
    "df5.loc[df5['경유_예측'] < 0, '경유_예측'] = 0\n",
    "df5.loc[df5['경유_예측_BSpline'] < 0, '경유_예측_BSpline'] = 0\n",
    "df5.loc[df5['경유_예측_Akima'] < 0, '경유_예측_Akima'] = 0\n",
    "df5.loc[df5['휘발유_예측'] < 0, '휘발유_예측'] = 0\n",
    "df5.loc[df5['휘발유_예측_BSpline'] < 0, '휘발유_예측_BSpline'] = 0\n",
    "df5.loc[df5['휘발유_예측_Akima'] < 0, '휘발유_예측_Akima'] = 0\n",
    "df5.loc[df5['LPG_예측'] < 0, 'LPG_예측'] = 0\n",
    "df5.loc[df5['LPG_예측_BSpline'] < 0, 'LPG_예측_BSpline'] = 0\n",
    "df5.loc[df5['LPG_예측_Akima'] < 0, 'LPG_예측_Akima'] = 0"
   ]
  },
  {
   "cell_type": "code",
   "execution_count": 2329,
   "id": "76ecbfe4-c975-4d31-8150-af01b0483ed1",
   "metadata": {},
   "outputs": [
    {
     "name": "stderr",
     "output_type": "stream",
     "text": [
      "/tmp/ipykernel_2016934/668474862.py:2: SettingWithCopyWarning: \n",
      "A value is trying to be set on a copy of a slice from a DataFrame.\n",
      "Try using .loc[row_indexer,col_indexer] = value instead\n",
      "\n",
      "See the caveats in the documentation: https://pandas.pydata.org/pandas-docs/stable/user_guide/indexing.html#returning-a-view-versus-a-copy\n",
      "  df5[['경유_대수', '휘발유_대수', 'LPG_대수', '경유_예측', '경유_예측_BSpline','경유_예측_Akima', '휘발유_예측', '휘발유_예측_BSpline', '휘발유_예측_Akima', 'LPG_예측', 'LPG_예측_BSpline', 'LPG_예측_Akima']] = df5[['경유_대수', '휘발유_대수', 'LPG_대수', '경유_예측', '경유_예측_BSpline','경유_예측_Akima', '휘발유_예측', '휘발유_예측_BSpline', '휘발유_예측_Akima', 'LPG_예측', 'LPG_예측_BSpline', 'LPG_예측_Akima']].round(0)\n"
     ]
    }
   ],
   "source": [
    "# 첫째자리에서 반올림\n",
    "df5[['경유_대수', '휘발유_대수', 'LPG_대수', '경유_예측', '경유_예측_BSpline','경유_예측_Akima', '휘발유_예측', '휘발유_예측_BSpline', '휘발유_예측_Akima', 'LPG_예측', 'LPG_예측_BSpline', 'LPG_예측_Akima']] = df5[['경유_대수', '휘발유_대수', 'LPG_대수', '경유_예측', '경유_예측_BSpline','경유_예측_Akima', '휘발유_예측', '휘발유_예측_BSpline', '휘발유_예측_Akima', 'LPG_예측', 'LPG_예측_BSpline', 'LPG_예측_Akima']].round(0)"
   ]
  },
  {
   "cell_type": "code",
   "execution_count": 2330,
   "id": "5749a07b-60ce-49aa-8bd2-a94fc3ad3a98",
   "metadata": {},
   "outputs": [
    {
     "name": "stderr",
     "output_type": "stream",
     "text": [
      "/tmp/ipykernel_2016934/38928608.py:3: SettingWithCopyWarning: \n",
      "A value is trying to be set on a copy of a slice from a DataFrame.\n",
      "Try using .loc[row_indexer,col_indexer] = value instead\n",
      "\n",
      "See the caveats in the documentation: https://pandas.pydata.org/pandas-docs/stable/user_guide/indexing.html#returning-a-view-versus-a-copy\n",
      "  df6.loc[df6['월'] == '03' , '분기'] = '1'\n"
     ]
    }
   ],
   "source": [
    "# 분기 정보 추가\n",
    "df6 = df5.loc[(df5['월'] == '03') | (df5['월'] == '06') | (df5['월'] == '09') | (df5['월'] == '12')]\n",
    "df6.loc[df6['월'] == '03' , '분기'] = '1'\n",
    "df6.loc[df6['월'] == '06' , '분기'] = '2'\n",
    "df6.loc[df6['월'] == '09' , '분기'] = '3'\n",
    "df6.loc[df6['월'] == '12' , '분기'] = '4'"
   ]
  },
  {
   "cell_type": "code",
   "execution_count": 2331,
   "id": "4a5f5d53-2c75-4889-ae3b-236e85246a03",
   "metadata": {},
   "outputs": [],
   "source": [
    "df6 = df6[[\n",
    "    '연도',\n",
    "    '분기', \n",
    "    '배출가스등급',\n",
    "    '연료',\n",
    "    'LPG_대수',\n",
    "    'LPG_예측',\n",
    "    'LPG_예측_BSpline',\n",
    "    'LPG_예측_Akima',\n",
    "    '경유_대수',\n",
    "    '경유_예측',\n",
    "    '경유_예측_BSpline',\n",
    "    '경유_예측_Akima',\n",
    "    '휘발유_대수',\n",
    "    '휘발유_예측',\n",
    "    '휘발유_예측_BSpline',\n",
    "    '휘발유_예측_Akima',\n",
    "]]\n",
    "\n",
    "today_date = datetime.today().strftime(\"%Y%m%d\")\n",
    "df6['테이블생성일자'] = today_date\n",
    "cdict = {\n",
    "    '연도':'YR',\n",
    "    '분기':'QRT',\n",
    "    '배출가스등급':'EXHST_GAS_GRD_CD',\n",
    "    '연료':'FUEL_CD',\n",
    "    'LPG_대수':'LPG_MKCNT',\n",
    "    'LPG_예측':'LPG_PRET',\n",
    "    'LPG_예측_BSpline':'LPG_PRET_BSPLN',\n",
    "    'LPG_예측_Akima':'LPG_PRET_AKM',\n",
    "    '경유_대수':'DSL_MKCNT',\n",
    "    '경유_예측':'DSL_PRET',\n",
    "    '경유_예측_BSpline':'DSL_PRET_BSPLN',\n",
    "    '경유_예측_Akima':'DSL_PRET_AKM',\n",
    "    '휘발유_대수':'GSL_MKCNT',\n",
    "    '휘발유_예측':'GSL_PRET',\n",
    "    '휘발유_예측_BSpline':'GSL_PRET_BSPLN',\n",
    "    '휘발유_예측_Akima':'GSL_PRET_AKM',\n",
    "    '테이블생성일자':'LOAD_DT', \n",
    "}\n",
    "STD_BD_DAT_FUEL_CAR_DEC = df6.rename(columns=cdict)"
   ]
  },
  {
   "cell_type": "code",
   "execution_count": 2332,
   "id": "23aa6496-2899-447d-8849-ffb935d3cd33",
   "metadata": {},
   "outputs": [
    {
     "data": {
      "text/plain": [
       "Index(['YR', 'QRT', 'EXHST_GAS_GRD_CD', 'FUEL_CD', 'LPG_MKCNT', 'LPG_PRET',\n",
       "       'LPG_PRET_BSPLN', 'LPG_PRET_AKM', 'DSL_MKCNT', 'DSL_PRET',\n",
       "       'DSL_PRET_BSPLN', 'DSL_PRET_AKM', 'GSL_MKCNT', 'GSL_PRET',\n",
       "       'GSL_PRET_BSPLN', 'GSL_PRET_AKM', 'LOAD_DT'],\n",
       "      dtype='object')"
      ]
     },
     "execution_count": 2332,
     "metadata": {},
     "output_type": "execute_result"
    }
   ],
   "source": [
    "STD_BD_DAT_FUEL_CAR_DEC.columns"
   ]
  },
  {
   "cell_type": "markdown",
   "id": "a15c9545-8fc6-4189-b29d-b2d067eb0bac",
   "metadata": {},
   "source": [
    "### [출력] STD_BD_DAT_FUEL_CAR_DEC"
   ]
  },
  {
   "cell_type": "code",
   "execution_count": 2333,
   "id": "106ec911-a547-4a24-ad0e-2a7a5c6ca96b",
   "metadata": {},
   "outputs": [],
   "source": [
    "# expdf = STD_BD_DAT_FUEL_CAR_DEC\n",
    "# table_nm = 'STD_BD_DAT_FUEL_CAR_DEC'.upper()\n",
    "\n",
    "# # 테이블 생성\n",
    "# try:\n",
    "#     sql = 'create or replace table ' + table_nm + '( \\n'\n",
    "\n",
    "#     for idx,column in enumerate(expdf.columns):\n",
    "#         # if 'float' in expdf[column].dtype.name:\n",
    "#         #     sql += column + ' float'\n",
    "#         # elif 'int' in expdf[column].dtype.name:\n",
    "#         #     sql += column + ' number'\n",
    "#         # else:\n",
    "#         sql += column + ' varchar(255)'\n",
    "\n",
    "#         if len(expdf.columns) - 1 != idx:\n",
    "#             sql += ','\n",
    "#         sql += '\\n'\n",
    "#     sql += ')'    \n",
    "#     we.execute(sql)\n",
    "#     we.import_from_pandas(expdf, table_nm)\n",
    "# except:\n",
    "#     # 데이터 추가\n",
    "#     # 7s\n",
    "#     we.import_from_pandas(expdf, table_nm)\n",
    "    \n",
    "# print(f'data export : {table_nm}')"
   ]
  },
  {
   "cell_type": "markdown",
   "id": "7000608b-cdd0-4e32-991a-b692c901ebb4",
   "metadata": {},
   "source": [
    "## 3-1 code end ##################################################################"
   ]
  },
  {
   "cell_type": "markdown",
   "id": "ffb686eb-12bc-4b7c-830e-936de54f5c68",
   "metadata": {},
   "source": [
    "## 3-2 start"
   ]
  },
  {
   "cell_type": "code",
   "execution_count": 2334,
   "id": "d29380ce-804f-4895-9c15-64c74b76af5a",
   "metadata": {},
   "outputs": [
    {
     "name": "stderr",
     "output_type": "stream",
     "text": [
      "/home/svradm/miniconda3/lib/python3.8/site-packages/pyexasol/callback.py:42: DtypeWarning: Columns (7,8) have mixed types. Specify dtype option on import or set low_memory=False.\n",
      "  return pandas.read_csv(pipe, skip_blank_lines=False, **kwargs)\n"
     ]
    },
    {
     "name": "stdout",
     "output_type": "stream",
     "text": [
      "<class 'pandas.core.frame.DataFrame'>\n",
      "RangeIndex: 2314349 entries, 0 to 2314348\n",
      "Data columns (total 10 columns):\n",
      " #   Column          Dtype \n",
      "---  ------          ----- \n",
      " 0   VIN             object\n",
      " 1   BSPL_STDG_CD    int64 \n",
      " 2   VHCL_ERSR_YN    object\n",
      " 3   MANP_MNG_NO     object\n",
      " 4   YRIDNW          int64 \n",
      " 5   VHCTY_CD        object\n",
      " 6   PURPS_CD2       object\n",
      " 7   FRST_REG_YMD    object\n",
      " 8   VHCL_FBCTN_YMD  object\n",
      " 9   VHCL_MNG_NO     object\n",
      "dtypes: int64(2), object(8)\n",
      "memory usage: 176.6+ MB\n"
     ]
    }
   ],
   "source": [
    "## 등록정보(STD_CEG_CAR_MIG) 5등급만\n",
    "# 8.6s\n",
    "car = wd.export_to_pandas(\"SELECT VIN, BSPL_STDG_CD, VHCL_ERSR_YN, MANP_MNG_NO, YRIDNW, VHCTY_CD, PURPS_CD2, FRST_REG_YMD, VHCL_FBCTN_YMD, VHCL_MNG_NO FROM STD_CEG_CAR_MIG WHERE EXHST_GAS_GRD_CD = 'A0505' OR EXHST_GAS_GRD_CD = 'A05T5';\")\n",
    "car.info()\n",
    "car_ch_col = {\n",
    "    'VIN':'차대번호', \n",
    "    'BSPL_STDG_CD':'법정동코드', \n",
    "    'VHCL_ERSR_YN':'차량말소YN',\n",
    "    'MANP_MNG_NO':'제원관리번호',\n",
    "    'YRIDNW':'차량연식', \n",
    "    'VHCTY_CD':'차종', \n",
    "    'PURPS_CD2':'용도', \n",
    "    'FRST_REG_YMD':'최초등록일자',\n",
    "    'VHCL_FBCTN_YMD':'제작일자',\n",
    "    'VHCL_MNG_NO':'차량관리번호'\n",
    "}\n",
    "carr = car.rename(columns=car_ch_col)\n",
    "\n",
    "## 중복 차대번호 제거\n",
    "carr['최초등록일자'] = pd.to_numeric(carr['최초등록일자'], errors='coerce')\n",
    "carr = carr.sort_values('최초등록일자', ascending=False).drop_duplicates('차대번호').reset_index(drop=True)\n",
    "\n",
    "## 차종 코드 변환\n",
    "cd_dict = {\n",
    "    'A31M':'이륜', \n",
    "    'A31P':'승용', \n",
    "    'A31S':'특수', \n",
    "    'A31T':'화물', \n",
    "    'A31V':'승합'\n",
    "}\n",
    "carr['차종'] = carr['차종'].replace(cd_dict)\n",
    "\n",
    "## 용도 코드 변환\n",
    "purps_dict = {\n",
    "    'A08P':'개인용', \n",
    "    'A08B':'영업용', \n",
    "    'A08O':'관용',\n",
    "}\n",
    "carr['용도'] = carr['용도'].replace(purps_dict)\n",
    "\n",
    "## 등록정보 말소 제거\n",
    "carm = carr[carr['차량말소YN'] == 'N'].reset_index(drop=True)"
   ]
  },
  {
   "cell_type": "code",
   "execution_count": 2335,
   "id": "76a87399-5272-4180-8abd-9ec35a55e111",
   "metadata": {},
   "outputs": [],
   "source": [
    "## 등록&제원 병합\n",
    "# 19.4s\n",
    "cs = carm.merge(srcr, on='제원관리번호', how='left')"
   ]
  },
  {
   "cell_type": "code",
   "execution_count": 2336,
   "id": "d80144f3-bdce-4e42-bd11-f33e45130f09",
   "metadata": {},
   "outputs": [],
   "source": [
    "## 등록&제원&저감이력 병합\n",
    "# 1.7s\n",
    "csa = cs.merge(attr[['차대번호', 'DPF_YN']], on='차대번호', how='left')"
   ]
  },
  {
   "cell_type": "code",
   "execution_count": 2337,
   "id": "e716218c-fa39-4593-b58f-0c2dfa3011d6",
   "metadata": {},
   "outputs": [],
   "source": [
    "csa['법정동코드'] = csa['법정동코드'].astype('str')\n",
    "csa['법정동코드'] = csa['법정동코드'].str[:5] + '00000'\n",
    "csa['법정동코드'] = pd.to_numeric(csa['법정동코드'])"
   ]
  },
  {
   "cell_type": "code",
   "execution_count": 2338,
   "id": "c83aa50b-65f1-42cf-84f8-59d266069116",
   "metadata": {},
   "outputs": [],
   "source": [
    "## 지역정보 병합\n",
    "csac = csa.merge(coder, on='법정동코드', how='left')"
   ]
  },
  {
   "cell_type": "code",
   "execution_count": 2339,
   "id": "f6136582-2fc3-45d2-b336-1cb4e326c6a0",
   "metadata": {},
   "outputs": [
    {
     "data": {
      "text/plain": [
       "0"
      ]
     },
     "execution_count": 2339,
     "metadata": {},
     "output_type": "execute_result"
    }
   ],
   "source": [
    "csac['시도'].isnull().sum()"
   ]
  },
  {
   "cell_type": "code",
   "execution_count": 2340,
   "id": "ec5179d1-275d-4337-b79d-3ba9ff98caf2",
   "metadata": {},
   "outputs": [],
   "source": [
    "# ### 매칭 안되는 지역 처리\n",
    "# # 주소 수정\n",
    "# csac.loc[csac['법정동코드'] == 5172035031, ['시도', '시군구']] = ['강원특별자치도', '홍천군'] # 강원특별자치도 홍천군\n",
    "# csac.loc[csac['법정동코드'] == 5180031023, ['시도', '시군구']] = ['강원특별자치도', '양구군'] # \n",
    "# csac.loc[csac['법정동코드'] == 5180031031, ['시도', '시군구']] = ['강원특별자치도', '양구군'] # \n",
    "# csac.loc[csac['법정동코드'] == 5172035030, ['시도', '시군구']] = ['강원특별자치도', '홍천군'] # \n",
    "# csac.loc[csac['법정동코드'] == 5180031028, ['시도', '시군구']] = ['강원특별자치도', '양구군'] # \n",
    "\n",
    "# csac.loc[csac['법정동코드'] == 5172035021, ['시도', '시군구']] = ['강원특별자치도', '홍천군'] # \n",
    "# csac.loc[csac['법정동코드'] == 5180031025, ['시도', '시군구']] = ['강원특별자치도', '양구군'] # \n",
    "# csac.loc[csac['법정동코드'] == 4165052000, ['시도', '시군구']] = ['경기도', '포천시'] # 경기도 포천시 선단동\n",
    "# csac.loc[csac['법정동코드'] == 5172035023, ['시도', '시군구']] = ['강원특별자치도', '홍천군'] # \n",
    "# csac.loc[csac['법정동코드'] == 5180031027, ['시도', '시군구']] = ['강원특별자치도', '양구군'] # \n",
    "\n",
    "# csac.loc[csac['법정동코드'] == 5172035024, ['시도', '시군구']] = ['강원특별자치도', '홍천군'] # \n",
    "# csac.loc[csac['법정동코드'] == 5175037022, ['시도', '시군구']] = ['강원특별자치도', '영월군'] # \n",
    "# csac.loc[csac['법정동코드'] == 4163055000, ['시도', '시군구']] = ['경기도', '양주시'] # 경기도 양주시 회천3동\n",
    "# csac.loc[csac['법정동코드'] == 5180031033, ['시도', '시군구']] = ['강원특별자치도', '양구군'] # 경기도 양주시 회천3동"
   ]
  },
  {
   "cell_type": "code",
   "execution_count": 2341,
   "id": "13c7d011-fd70-40fd-899b-d053006a1fc4",
   "metadata": {},
   "outputs": [],
   "source": [
    "## 조기폐차 정보들 병합\n",
    "elp = pd.concat([aear, lgvr], ignore_index=True)\n",
    "elpm = elp.sort_values('조기폐차최종승인YN', ascending=False).drop_duplicates('차대번호').reset_index(drop=True)\n",
    "elpm = elpm[elpm['조기폐차최종승인YN'] == 'Y'].reset_index(drop=True)"
   ]
  },
  {
   "cell_type": "code",
   "execution_count": 2342,
   "id": "2f5dbed7-4d20-4486-a1d4-e904a47a5e84",
   "metadata": {},
   "outputs": [],
   "source": [
    "## 조기폐차 정보 추가\n",
    "df = csac.merge(elpm, on='차대번호', how='left')"
   ]
  },
  {
   "cell_type": "code",
   "execution_count": 2343,
   "id": "e6110226-6d0d-4324-b06b-02b0ee98cebd",
   "metadata": {},
   "outputs": [],
   "source": [
    "## 비상시 및 계절제 병합\n",
    "# 41.3s\n",
    "isdp= isdisr.merge(isper, on='적발번호', how='left')"
   ]
  },
  {
   "cell_type": "code",
   "execution_count": 2344,
   "id": "d7846a59-366b-4047-ac7c-f289e9fa3105",
   "metadata": {},
   "outputs": [],
   "source": [
    "# 9.5s\n",
    "isdpi = isdp.merge(isisr, on='발령번호', how='left')"
   ]
  },
  {
   "cell_type": "code",
   "execution_count": 2345,
   "id": "bcec754e-b4c4-4a68-806b-6a9a1654f021",
   "metadata": {},
   "outputs": [],
   "source": [
    "### 지역정보 추가\n",
    "coder_dup = coder.sort_values('법정동코드', ascending=True).drop_duplicates(['시도코드', '시군구코드']).reset_index(drop=True)"
   ]
  },
  {
   "cell_type": "code",
   "execution_count": 2346,
   "id": "474eb668-6e3d-43be-8182-59dbefffa8d6",
   "metadata": {
    "tags": []
   },
   "outputs": [
    {
     "data": {
      "text/html": [
       "<div>\n",
       "<style scoped>\n",
       "    .dataframe tbody tr th:only-of-type {\n",
       "        vertical-align: middle;\n",
       "    }\n",
       "\n",
       "    .dataframe tbody tr th {\n",
       "        vertical-align: top;\n",
       "    }\n",
       "\n",
       "    .dataframe thead th {\n",
       "        text-align: right;\n",
       "    }\n",
       "</style>\n",
       "<table border=\"1\" class=\"dataframe\">\n",
       "  <thead>\n",
       "    <tr style=\"text-align: right;\">\n",
       "      <th></th>\n",
       "      <th>법정동코드</th>\n",
       "      <th>시도</th>\n",
       "      <th>시군구</th>\n",
       "      <th>시도코드</th>\n",
       "      <th>시군구코드</th>\n",
       "    </tr>\n",
       "  </thead>\n",
       "  <tbody>\n",
       "    <tr>\n",
       "      <th>0</th>\n",
       "      <td>1100000000</td>\n",
       "      <td>서울특별시</td>\n",
       "      <td>NaN</td>\n",
       "      <td>11</td>\n",
       "      <td>0</td>\n",
       "    </tr>\n",
       "    <tr>\n",
       "      <th>1</th>\n",
       "      <td>1111000000</td>\n",
       "      <td>서울특별시</td>\n",
       "      <td>종로구</td>\n",
       "      <td>11</td>\n",
       "      <td>110</td>\n",
       "    </tr>\n",
       "    <tr>\n",
       "      <th>2</th>\n",
       "      <td>1114000000</td>\n",
       "      <td>서울특별시</td>\n",
       "      <td>중구</td>\n",
       "      <td>11</td>\n",
       "      <td>140</td>\n",
       "    </tr>\n",
       "    <tr>\n",
       "      <th>3</th>\n",
       "      <td>1117000000</td>\n",
       "      <td>서울특별시</td>\n",
       "      <td>용산구</td>\n",
       "      <td>11</td>\n",
       "      <td>170</td>\n",
       "    </tr>\n",
       "    <tr>\n",
       "      <th>4</th>\n",
       "      <td>1120000000</td>\n",
       "      <td>서울특별시</td>\n",
       "      <td>성동구</td>\n",
       "      <td>11</td>\n",
       "      <td>200</td>\n",
       "    </tr>\n",
       "  </tbody>\n",
       "</table>\n",
       "</div>"
      ],
      "text/plain": [
       "        법정동코드     시도  시군구  시도코드  시군구코드\n",
       "0  1100000000  서울특별시  NaN    11      0\n",
       "1  1111000000  서울특별시  종로구    11    110\n",
       "2  1114000000  서울특별시   중구    11    140\n",
       "3  1117000000  서울특별시  용산구    11    170\n",
       "4  1120000000  서울특별시  성동구    11    200"
      ]
     },
     "execution_count": 2346,
     "metadata": {},
     "output_type": "execute_result"
    }
   ],
   "source": [
    "coder_dup.head()"
   ]
  },
  {
   "cell_type": "code",
   "execution_count": 2347,
   "id": "5d9bec78-5f2e-4f5c-9e09-fdef19bbc92d",
   "metadata": {
    "tags": []
   },
   "outputs": [
    {
     "data": {
      "text/html": [
       "<div>\n",
       "<style scoped>\n",
       "    .dataframe tbody tr th:only-of-type {\n",
       "        vertical-align: middle;\n",
       "    }\n",
       "\n",
       "    .dataframe tbody tr th {\n",
       "        vertical-align: top;\n",
       "    }\n",
       "\n",
       "    .dataframe thead th {\n",
       "        text-align: right;\n",
       "    }\n",
       "</style>\n",
       "<table border=\"1\" class=\"dataframe\">\n",
       "  <thead>\n",
       "    <tr style=\"text-align: right;\">\n",
       "      <th></th>\n",
       "      <th>법정동코드</th>\n",
       "      <th>시도</th>\n",
       "      <th>시군구</th>\n",
       "      <th>시도코드</th>\n",
       "      <th>시군구코드</th>\n",
       "    </tr>\n",
       "  </thead>\n",
       "  <tbody>\n",
       "    <tr>\n",
       "      <th>462</th>\n",
       "      <td>5100000000</td>\n",
       "      <td>강원특별자치도</td>\n",
       "      <td>NaN</td>\n",
       "      <td>51</td>\n",
       "      <td>0</td>\n",
       "    </tr>\n",
       "    <tr>\n",
       "      <th>463</th>\n",
       "      <td>5111000000</td>\n",
       "      <td>강원특별자치도</td>\n",
       "      <td>춘천시</td>\n",
       "      <td>51</td>\n",
       "      <td>110</td>\n",
       "    </tr>\n",
       "    <tr>\n",
       "      <th>464</th>\n",
       "      <td>5113000000</td>\n",
       "      <td>강원특별자치도</td>\n",
       "      <td>원주시</td>\n",
       "      <td>51</td>\n",
       "      <td>130</td>\n",
       "    </tr>\n",
       "    <tr>\n",
       "      <th>465</th>\n",
       "      <td>5115000000</td>\n",
       "      <td>강원특별자치도</td>\n",
       "      <td>강릉시</td>\n",
       "      <td>51</td>\n",
       "      <td>150</td>\n",
       "    </tr>\n",
       "    <tr>\n",
       "      <th>466</th>\n",
       "      <td>5117000000</td>\n",
       "      <td>강원특별자치도</td>\n",
       "      <td>동해시</td>\n",
       "      <td>51</td>\n",
       "      <td>170</td>\n",
       "    </tr>\n",
       "  </tbody>\n",
       "</table>\n",
       "</div>"
      ],
      "text/plain": [
       "          법정동코드       시도  시군구  시도코드  시군구코드\n",
       "462  5100000000  강원특별자치도  NaN    51      0\n",
       "463  5111000000  강원특별자치도  춘천시    51    110\n",
       "464  5113000000  강원특별자치도  원주시    51    130\n",
       "465  5115000000  강원특별자치도  강릉시    51    150\n",
       "466  5117000000  강원특별자치도  동해시    51    170"
      ]
     },
     "execution_count": 2347,
     "metadata": {},
     "output_type": "execute_result"
    }
   ],
   "source": [
    "coder_dup[coder_dup['시도'] == '강원특별자치도'].head()"
   ]
  },
  {
   "cell_type": "code",
   "execution_count": 2348,
   "id": "b04414d7-5e74-4ec4-b4ba-89b2901490ec",
   "metadata": {
    "tags": []
   },
   "outputs": [
    {
     "data": {
      "text/html": [
       "<div>\n",
       "<style scoped>\n",
       "    .dataframe tbody tr th:only-of-type {\n",
       "        vertical-align: middle;\n",
       "    }\n",
       "\n",
       "    .dataframe tbody tr th {\n",
       "        vertical-align: top;\n",
       "    }\n",
       "\n",
       "    .dataframe thead th {\n",
       "        text-align: right;\n",
       "    }\n",
       "</style>\n",
       "<table border=\"1\" class=\"dataframe\">\n",
       "  <thead>\n",
       "    <tr style=\"text-align: right;\">\n",
       "      <th></th>\n",
       "      <th>법정동코드</th>\n",
       "      <th>시도</th>\n",
       "      <th>시군구</th>\n",
       "      <th>시도코드</th>\n",
       "      <th>시군구코드</th>\n",
       "    </tr>\n",
       "  </thead>\n",
       "  <tbody>\n",
       "    <tr>\n",
       "      <th>123</th>\n",
       "      <td>3611000000</td>\n",
       "      <td>세종특별자치시</td>\n",
       "      <td>NaN</td>\n",
       "      <td>36</td>\n",
       "      <td>110</td>\n",
       "    </tr>\n",
       "  </tbody>\n",
       "</table>\n",
       "</div>"
      ],
      "text/plain": [
       "          법정동코드       시도  시군구  시도코드  시군구코드\n",
       "123  3611000000  세종특별자치시  NaN    36    110"
      ]
     },
     "execution_count": 2348,
     "metadata": {},
     "output_type": "execute_result"
    }
   ],
   "source": [
    "coder_dup[coder_dup['시도코드'] == 36]"
   ]
  },
  {
   "cell_type": "code",
   "execution_count": 2349,
   "id": "e8494ef6-f0ce-45c6-8198-e4c6431e8429",
   "metadata": {},
   "outputs": [
    {
     "data": {
      "text/plain": [
       "Index(['적발번호', '발령번호', '차대번호', '등록시도코드', '등록시군구코드', '적발지역코드', '단속일', '유형기준아이디',\n",
       "       '농도기준아이디'],\n",
       "      dtype='object')"
      ]
     },
     "execution_count": 2349,
     "metadata": {},
     "output_type": "execute_result"
    }
   ],
   "source": [
    "isdpi.columns"
   ]
  },
  {
   "cell_type": "code",
   "execution_count": 2350,
   "id": "dba884da-25fa-403f-9022-3b06712830f9",
   "metadata": {
    "tags": []
   },
   "outputs": [
    {
     "data": {
      "text/plain": [
       "(1174556, 9)"
      ]
     },
     "execution_count": 2350,
     "metadata": {},
     "output_type": "execute_result"
    }
   ],
   "source": [
    "isdpi.loc[isdpi['등록시도코드'] == 42].shape"
   ]
  },
  {
   "cell_type": "code",
   "execution_count": 2351,
   "id": "6d2219fd-0084-486b-af07-b575ed77ea9d",
   "metadata": {
    "tags": []
   },
   "outputs": [],
   "source": [
    "isdpi.loc[isdpi['등록시도코드'] == 42, '등록시도코드'] = 51 # !!! 수정"
   ]
  },
  {
   "cell_type": "code",
   "execution_count": 2352,
   "id": "fa394905-0a2d-46a5-9ecd-b9c73d3cc8ec",
   "metadata": {
    "tags": []
   },
   "outputs": [
    {
     "data": {
      "text/plain": [
       "(0, 9)"
      ]
     },
     "execution_count": 2352,
     "metadata": {},
     "output_type": "execute_result"
    }
   ],
   "source": [
    "isdpi.loc[isdpi['등록시도코드'] == 42].shape"
   ]
  },
  {
   "cell_type": "code",
   "execution_count": 2353,
   "id": "0e90f05f-6044-4559-8695-fe89f6ff3cb0",
   "metadata": {
    "tags": []
   },
   "outputs": [
    {
     "data": {
      "text/plain": [
       "(683915, 9)"
      ]
     },
     "execution_count": 2353,
     "metadata": {},
     "output_type": "execute_result"
    }
   ],
   "source": [
    "isdpi.loc[isdpi['등록시도코드'] == 36].shape"
   ]
  },
  {
   "cell_type": "code",
   "execution_count": 2354,
   "id": "29fbb1f9-570e-44a9-acda-b073f5e337c6",
   "metadata": {
    "tags": []
   },
   "outputs": [
    {
     "data": {
      "text/plain": [
       "array([110])"
      ]
     },
     "execution_count": 2354,
     "metadata": {},
     "output_type": "execute_result"
    }
   ],
   "source": [
    "isdpi.loc[isdpi['등록시도코드'] == 36, '등록시군구코드'].unique()"
   ]
  },
  {
   "cell_type": "code",
   "execution_count": 2355,
   "id": "50bbc37a-25b3-47b0-99f0-7fcda81004fd",
   "metadata": {},
   "outputs": [],
   "source": [
    "# 28.4s\n",
    "is_total1 = isdpi.merge(coder_dup[['시도코드', '시군구코드', '시도', '시군구']], left_on=['등록시도코드', '등록시군구코드'], right_on=['시도코드', '시군구코드'], how='left')\n",
    "is_total1 = is_total1.drop(['시도코드', '시군구코드'], axis=1)\n",
    "is_total1 = is_total1.rename(columns={'시도':'등록시도', '시군구':'등록시군구'})"
   ]
  },
  {
   "cell_type": "code",
   "execution_count": 2356,
   "id": "4b8ecba8-9424-4ef8-b901-c31f1d582195",
   "metadata": {
    "tags": []
   },
   "outputs": [
    {
     "data": {
      "text/plain": [
       "0"
      ]
     },
     "execution_count": 2356,
     "metadata": {},
     "output_type": "execute_result"
    }
   ],
   "source": [
    "is_total1['등록시도'].isnull().sum()"
   ]
  },
  {
   "cell_type": "code",
   "execution_count": 2357,
   "id": "b38b9076-3000-408e-81ae-058ddd3cfde8",
   "metadata": {
    "tags": []
   },
   "outputs": [
    {
     "data": {
      "text/plain": [
       "0    41430\n",
       "1    41430\n",
       "2    41150\n",
       "3    41150\n",
       "4    41150\n",
       "Name: 적발지역코드, dtype: int64"
      ]
     },
     "execution_count": 2357,
     "metadata": {},
     "output_type": "execute_result"
    }
   ],
   "source": [
    "is_total1['적발지역코드'].head()"
   ]
  },
  {
   "cell_type": "code",
   "execution_count": 2358,
   "id": "c83029d0-d0ec-4dee-8bcd-62c20f209529",
   "metadata": {},
   "outputs": [],
   "source": [
    "# 1m 19.2s\n",
    "is_total1['적발지역코드'] = is_total1['적발지역코드'].astype('str')\n",
    "is_total1['적발시도코드'] = is_total1['적발지역코드'].str[:2]\n",
    "is_total1['적발시군구코드'] = is_total1['적발지역코드'].str[2:5]\n",
    "is_total1[['적발시도코드', '적발시군구코드']] = is_total1[['적발시도코드', '적발시군구코드']].astype('int')"
   ]
  },
  {
   "cell_type": "code",
   "execution_count": 2359,
   "id": "381a319a-1bcc-44a0-9f59-73240dd3f5ef",
   "metadata": {
    "tags": []
   },
   "outputs": [
    {
     "data": {
      "text/plain": [
       "(737211, 13)"
      ]
     },
     "execution_count": 2359,
     "metadata": {},
     "output_type": "execute_result"
    }
   ],
   "source": [
    "is_total1.loc[is_total1['적발시도코드'] == 42].shape"
   ]
  },
  {
   "cell_type": "code",
   "execution_count": 2360,
   "id": "68f754d4-9955-4d6c-8500-1523d3a0bdcb",
   "metadata": {
    "tags": []
   },
   "outputs": [],
   "source": [
    "is_total1.loc[is_total1['적발시도코드'] == 42, '적발시도코드'] = 51 # !!! 수정"
   ]
  },
  {
   "cell_type": "code",
   "execution_count": 2361,
   "id": "d2c45b3f-25fd-44c0-a571-8293045f6319",
   "metadata": {
    "tags": []
   },
   "outputs": [
    {
     "data": {
      "text/plain": [
       "(0, 13)"
      ]
     },
     "execution_count": 2361,
     "metadata": {},
     "output_type": "execute_result"
    }
   ],
   "source": [
    "is_total1.loc[is_total1['적발시도코드'] == 42].shape"
   ]
  },
  {
   "cell_type": "code",
   "execution_count": 2362,
   "id": "cb190206-29b5-4328-8928-7e365b3d9b0a",
   "metadata": {
    "tags": []
   },
   "outputs": [
    {
     "data": {
      "text/plain": [
       "(1405017, 13)"
      ]
     },
     "execution_count": 2362,
     "metadata": {},
     "output_type": "execute_result"
    }
   ],
   "source": [
    "is_total1.loc[is_total1['적발시도코드'] == 36].shape"
   ]
  },
  {
   "cell_type": "code",
   "execution_count": 2363,
   "id": "79bd6930-82c3-43dd-badb-e17153e70451",
   "metadata": {
    "tags": []
   },
   "outputs": [],
   "source": [
    "is_total1.loc[is_total1['적발시도코드'] == 36, '적발시군구코드'] = 110 # !!! 수정"
   ]
  },
  {
   "cell_type": "code",
   "execution_count": 2364,
   "id": "e9a9251f-f146-4ded-b2a3-a213ee79eb07",
   "metadata": {},
   "outputs": [],
   "source": [
    "# 16.5s\n",
    "is_total = is_total1.merge(coder_dup[['시도코드', '시군구코드', '시도', '시군구']], left_on=['적발시도코드', '적발시군구코드'], right_on=['시도코드', '시군구코드'], how='left')"
   ]
  },
  {
   "cell_type": "code",
   "execution_count": 2365,
   "id": "4f13eea3-975b-46b9-97f1-e42ce8ae9b29",
   "metadata": {
    "tags": []
   },
   "outputs": [
    {
     "data": {
      "text/plain": [
       "0"
      ]
     },
     "execution_count": 2365,
     "metadata": {},
     "output_type": "execute_result"
    }
   ],
   "source": [
    "is_total['시도'].isnull().sum()"
   ]
  },
  {
   "cell_type": "code",
   "execution_count": 2366,
   "id": "71530437-8788-4a06-9412-e9035578ded1",
   "metadata": {},
   "outputs": [],
   "source": [
    "# 1m 12.8s\n",
    "is_total = is_total.drop(['적발시도코드', '적발시군구코드', '시도코드', '시군구코드'], axis=1)\n",
    "is_total = is_total.rename(columns={'시도':'적발시도', '시군구':'적발시군구'})"
   ]
  },
  {
   "cell_type": "code",
   "execution_count": 2367,
   "id": "7fec647b-bc02-4e2d-8a77-e615735669d4",
   "metadata": {
    "tags": []
   },
   "outputs": [
    {
     "data": {
      "text/plain": [
       "0"
      ]
     },
     "execution_count": 2367,
     "metadata": {},
     "output_type": "execute_result"
    }
   ],
   "source": [
    "is_total['적발시도'].isnull().sum()"
   ]
  },
  {
   "cell_type": "code",
   "execution_count": 2368,
   "id": "fbe94afd-ec88-4ecd-8ccb-084d5de69601",
   "metadata": {
    "tags": []
   },
   "outputs": [
    {
     "data": {
      "text/plain": [
       "array(['경기도', '서울특별시', '인천광역시', '제주특별자치도', '전라북도', '부산광역시', '대구광역시',\n",
       "       '광주광역시', '울산광역시', '세종특별자치시', '충청남도', '충청북도', '강원특별자치도', '대전광역시',\n",
       "       '전라남도', '경상북도', '경상남도'], dtype=object)"
      ]
     },
     "execution_count": 2368,
     "metadata": {},
     "output_type": "execute_result"
    }
   ],
   "source": [
    "is_total['적발시도'].unique()"
   ]
  },
  {
   "cell_type": "code",
   "execution_count": 2369,
   "id": "b35d263b-f3a8-4fa2-9af1-2f36e3332bf0",
   "metadata": {
    "tags": []
   },
   "outputs": [],
   "source": [
    "# !!! 수정(2023.09.01)\n",
    "# 30s\n",
    "is_total.loc[(is_total['적발시도'] == '서울특별시') | (is_total['적발시도'] == '경기도') | (is_total['적발시도'] == '인천광역시'), '적발지역'] = '수도권'\n",
    "is_total.loc[is_total['적발지역'].isnull(), '적발지역'] = '수도권외'"
   ]
  },
  {
   "cell_type": "code",
   "execution_count": 2370,
   "id": "c2363fe0-438a-4f91-ac91-c04397d1bfea",
   "metadata": {
    "tags": []
   },
   "outputs": [
    {
     "data": {
      "text/plain": [
       "array(['수도권', '수도권외'], dtype=object)"
      ]
     },
     "execution_count": 2370,
     "metadata": {},
     "output_type": "execute_result"
    }
   ],
   "source": [
    "# 6s\n",
    "is_total['적발지역'].unique()"
   ]
  },
  {
   "cell_type": "code",
   "execution_count": 2371,
   "id": "495e6ead-64c2-4c12-acfa-9f06b29d3241",
   "metadata": {},
   "outputs": [],
   "source": [
    "## 상시 병합\n",
    "# 1s\n",
    "usdp = usdisr.merge(usper, on='번호', how='left')"
   ]
  },
  {
   "cell_type": "code",
   "execution_count": 2372,
   "id": "8e836f29-3bbc-49a7-8b72-d14862cfba11",
   "metadata": {
    "tags": []
   },
   "outputs": [
    {
     "data": {
      "text/plain": [
       "Index(['번호', '차대번호', '적발유형', '단속지역코드', '등록시도코드', '등록시군구코드', '적발건수', '적발년월'], dtype='object')"
      ]
     },
     "execution_count": 2372,
     "metadata": {},
     "output_type": "execute_result"
    }
   ],
   "source": [
    "usdp.columns"
   ]
  },
  {
   "cell_type": "code",
   "execution_count": 2373,
   "id": "5b864662-6163-4b4c-b506-2b20344598ee",
   "metadata": {
    "tags": []
   },
   "outputs": [
    {
     "data": {
      "text/plain": [
       "(32448, 8)"
      ]
     },
     "execution_count": 2373,
     "metadata": {},
     "output_type": "execute_result"
    }
   ],
   "source": [
    "usdp.loc[usdp['등록시도코드'] == 42].shape"
   ]
  },
  {
   "cell_type": "code",
   "execution_count": 2374,
   "id": "99a942cb-bcb7-40c5-b030-41b90f4f4eff",
   "metadata": {
    "tags": []
   },
   "outputs": [],
   "source": [
    "usdp.loc[usdp['등록시도코드'] == 42, '등록시도코드'] = 51 # !!! 수정"
   ]
  },
  {
   "cell_type": "code",
   "execution_count": 2375,
   "id": "ec17734a-fe0d-487b-948d-77dbd1309f6a",
   "metadata": {
    "tags": []
   },
   "outputs": [
    {
     "data": {
      "text/plain": [
       "(2919, 8)"
      ]
     },
     "execution_count": 2375,
     "metadata": {},
     "output_type": "execute_result"
    }
   ],
   "source": [
    "usdp.loc[usdp['등록시도코드'] == 36].shape"
   ]
  },
  {
   "cell_type": "code",
   "execution_count": 2376,
   "id": "e98fd764-db42-4081-8c20-1037ba9f1c6d",
   "metadata": {
    "tags": []
   },
   "outputs": [],
   "source": [
    "usdp.loc[usdp['등록시도코드'] == 36, '등록시군구코드'] = 110 # !!! 수정"
   ]
  },
  {
   "cell_type": "code",
   "execution_count": 2377,
   "id": "20eba28e-1f93-42c7-8684-7401663fea8b",
   "metadata": {},
   "outputs": [
    {
     "data": {
      "text/html": [
       "<div>\n",
       "<style scoped>\n",
       "    .dataframe tbody tr th:only-of-type {\n",
       "        vertical-align: middle;\n",
       "    }\n",
       "\n",
       "    .dataframe tbody tr th {\n",
       "        vertical-align: top;\n",
       "    }\n",
       "\n",
       "    .dataframe thead th {\n",
       "        text-align: right;\n",
       "    }\n",
       "</style>\n",
       "<table border=\"1\" class=\"dataframe\">\n",
       "  <thead>\n",
       "    <tr style=\"text-align: right;\">\n",
       "      <th></th>\n",
       "      <th>번호</th>\n",
       "      <th>차대번호</th>\n",
       "      <th>적발유형</th>\n",
       "      <th>단속지역코드</th>\n",
       "      <th>등록시도코드</th>\n",
       "      <th>등록시군구코드</th>\n",
       "      <th>적발건수</th>\n",
       "      <th>적발년월</th>\n",
       "      <th>법정동코드</th>\n",
       "      <th>등록시도</th>\n",
       "      <th>등록시군구</th>\n",
       "    </tr>\n",
       "  </thead>\n",
       "  <tbody>\n",
       "    <tr>\n",
       "      <th>0</th>\n",
       "      <td>8389408</td>\n",
       "      <td>KMFZCD7JP5U081362</td>\n",
       "      <td>S</td>\n",
       "      <td>11000</td>\n",
       "      <td>11</td>\n",
       "      <td>140</td>\n",
       "      <td>NaN</td>\n",
       "      <td>NaN</td>\n",
       "      <td>1114000000</td>\n",
       "      <td>서울특별시</td>\n",
       "      <td>중구</td>\n",
       "    </tr>\n",
       "    <tr>\n",
       "      <th>1</th>\n",
       "      <td>8389410</td>\n",
       "      <td>KN3HNP6D15K094646</td>\n",
       "      <td>S</td>\n",
       "      <td>11000</td>\n",
       "      <td>11</td>\n",
       "      <td>140</td>\n",
       "      <td>NaN</td>\n",
       "      <td>NaN</td>\n",
       "      <td>1114000000</td>\n",
       "      <td>서울특별시</td>\n",
       "      <td>중구</td>\n",
       "    </tr>\n",
       "    <tr>\n",
       "      <th>2</th>\n",
       "      <td>8389713</td>\n",
       "      <td>KNAMA75432S302063</td>\n",
       "      <td>S</td>\n",
       "      <td>11000</td>\n",
       "      <td>11</td>\n",
       "      <td>140</td>\n",
       "      <td>1.00</td>\n",
       "      <td>201908.00</td>\n",
       "      <td>1114000000</td>\n",
       "      <td>서울특별시</td>\n",
       "      <td>중구</td>\n",
       "    </tr>\n",
       "    <tr>\n",
       "      <th>3</th>\n",
       "      <td>8389714</td>\n",
       "      <td>KMFLA19RPYC015091</td>\n",
       "      <td>S</td>\n",
       "      <td>11000</td>\n",
       "      <td>11</td>\n",
       "      <td>140</td>\n",
       "      <td>1.00</td>\n",
       "      <td>201908.00</td>\n",
       "      <td>1114000000</td>\n",
       "      <td>서울특별시</td>\n",
       "      <td>중구</td>\n",
       "    </tr>\n",
       "    <tr>\n",
       "      <th>4</th>\n",
       "      <td>8389716</td>\n",
       "      <td>KMHWP81JP5U664886</td>\n",
       "      <td>S</td>\n",
       "      <td>11000</td>\n",
       "      <td>11</td>\n",
       "      <td>140</td>\n",
       "      <td>NaN</td>\n",
       "      <td>NaN</td>\n",
       "      <td>1114000000</td>\n",
       "      <td>서울특별시</td>\n",
       "      <td>중구</td>\n",
       "    </tr>\n",
       "  </tbody>\n",
       "</table>\n",
       "</div>"
      ],
      "text/plain": [
       "        번호               차대번호 적발유형  단속지역코드  등록시도코드  등록시군구코드  적발건수      적발년월   \n",
       "0  8389408  KMFZCD7JP5U081362    S   11000      11      140   NaN       NaN  \\\n",
       "1  8389410  KN3HNP6D15K094646    S   11000      11      140   NaN       NaN   \n",
       "2  8389713  KNAMA75432S302063    S   11000      11      140  1.00 201908.00   \n",
       "3  8389714  KMFLA19RPYC015091    S   11000      11      140  1.00 201908.00   \n",
       "4  8389716  KMHWP81JP5U664886    S   11000      11      140   NaN       NaN   \n",
       "\n",
       "        법정동코드   등록시도 등록시군구  \n",
       "0  1114000000  서울특별시    중구  \n",
       "1  1114000000  서울특별시    중구  \n",
       "2  1114000000  서울특별시    중구  \n",
       "3  1114000000  서울특별시    중구  \n",
       "4  1114000000  서울특별시    중구  "
      ]
     },
     "execution_count": 2377,
     "metadata": {},
     "output_type": "execute_result"
    }
   ],
   "source": [
    "### 지역정보 추가\n",
    "# !!! 수정(2023.09.01)\n",
    "us_total1 = usdp.merge(coder_dup, left_on=['등록시도코드', '등록시군구코드'], right_on=['시도코드', '시군구코드'], how='left')\n",
    "us_total1 = us_total1.drop(['시도코드', '시군구코드'], axis=1)\n",
    "us_total1 = us_total1.rename(columns={'시도':'등록시도', '시군구':'등록시군구'}) # !!! 수정(2023.09.01)\n",
    "us_total1.head()"
   ]
  },
  {
   "cell_type": "code",
   "execution_count": 2378,
   "id": "c4320346-ab74-4bb2-844a-481f753079c3",
   "metadata": {},
   "outputs": [
    {
     "data": {
      "text/plain": [
       "0"
      ]
     },
     "execution_count": 2378,
     "metadata": {},
     "output_type": "execute_result"
    }
   ],
   "source": [
    "us_total1['등록시도'].isnull().sum()"
   ]
  },
  {
   "cell_type": "code",
   "execution_count": 2379,
   "id": "864a0006-ff2a-48a9-89bb-79ed9ce8b03e",
   "metadata": {},
   "outputs": [],
   "source": [
    "# !!! 수정(2023.09.01)\n",
    "# 4s\n",
    "us_total1['단속지역코드'] = us_total1['단속지역코드'].astype('str')\n",
    "us_total1['단속시도코드'] = us_total1['단속지역코드'].str[:2]\n",
    "us_total1['단속시군구코드'] = us_total1['단속지역코드'].str[2:5]\n",
    "us_total1[['단속시도코드', '단속시군구코드']] = us_total1[['단속시도코드', '단속시군구코드']].astype('int')"
   ]
  },
  {
   "cell_type": "code",
   "execution_count": 2380,
   "id": "d0e30a76-3882-4193-bcc7-beed6e5f3b59",
   "metadata": {},
   "outputs": [
    {
     "data": {
      "text/plain": [
       "((0, 13), (0, 13))"
      ]
     },
     "execution_count": 2380,
     "metadata": {},
     "output_type": "execute_result"
    }
   ],
   "source": [
    "us_total1[us_total1['단속시도코드'] == 42].shape, us_total1[us_total1['단속시도코드'] == 51].shape"
   ]
  },
  {
   "cell_type": "code",
   "execution_count": 2381,
   "id": "dc40caa9-c842-4814-b3d1-64bd4a02ab6f",
   "metadata": {},
   "outputs": [
    {
     "data": {
      "text/plain": [
       "((0, 13), (0, 13))"
      ]
     },
     "execution_count": 2381,
     "metadata": {},
     "output_type": "execute_result"
    }
   ],
   "source": [
    "us_total1[us_total1['단속시도코드'] == 36].shape, us_total1.loc[(us_total1['단속시도코드'] == 36) & (us_total1['단속시군구코드'] == 110)].shape"
   ]
  },
  {
   "cell_type": "code",
   "execution_count": 2382,
   "id": "4e65dacf-5aa3-4836-9ed6-91c5f48f8e14",
   "metadata": {},
   "outputs": [],
   "source": [
    "# us_total1.loc[us_total1['단속시도코드'] == 42, '단속시도코드'] = 51\n",
    "# us_total1.loc[us_total1['단속시도코드'] == 36, '단속시군구코드'] = 110"
   ]
  },
  {
   "cell_type": "code",
   "execution_count": 2383,
   "id": "0b0088ca-5c0e-40b1-bea5-75de26861d18",
   "metadata": {},
   "outputs": [
    {
     "data": {
      "text/plain": [
       "시도코드     int64\n",
       "시군구코드    int64\n",
       "dtype: object"
      ]
     },
     "execution_count": 2383,
     "metadata": {},
     "output_type": "execute_result"
    }
   ],
   "source": [
    "coder_dup[['시도코드', '시군구코드']].dtypes"
   ]
  },
  {
   "cell_type": "code",
   "execution_count": 2384,
   "id": "ed285a5c-f6bc-4a1f-9fa5-36829df60384",
   "metadata": {},
   "outputs": [],
   "source": [
    "# !!! 수정(2023.09.01)\n",
    "# 2s\n",
    "us_total = us_total1.merge(coder_dup[['시도코드', '시군구코드', '시도', '시군구']], left_on=['단속시도코드', '단속시군구코드'], right_on=['시도코드', '시군구코드'], how='left')\n",
    "us_total = us_total.drop(['시도코드', '시군구코드'], axis=1)\n",
    "us_total = us_total.rename(columns={'시도':'단속시도', '시군구':'단속시군구'})"
   ]
  },
  {
   "cell_type": "code",
   "execution_count": 2385,
   "id": "9ed6186b-a81a-4b4b-9b2a-497d4ab106df",
   "metadata": {},
   "outputs": [
    {
     "data": {
      "text/plain": [
       "0"
      ]
     },
     "execution_count": 2385,
     "metadata": {},
     "output_type": "execute_result"
    }
   ],
   "source": [
    "us_total['단속시도'].isnull().sum()"
   ]
  },
  {
   "cell_type": "code",
   "execution_count": 2386,
   "id": "069f1c27-de4b-4968-8c39-3d66b57d4222",
   "metadata": {},
   "outputs": [
    {
     "data": {
      "text/html": [
       "<div>\n",
       "<style scoped>\n",
       "    .dataframe tbody tr th:only-of-type {\n",
       "        vertical-align: middle;\n",
       "    }\n",
       "\n",
       "    .dataframe tbody tr th {\n",
       "        vertical-align: top;\n",
       "    }\n",
       "\n",
       "    .dataframe thead th {\n",
       "        text-align: right;\n",
       "    }\n",
       "</style>\n",
       "<table border=\"1\" class=\"dataframe\">\n",
       "  <thead>\n",
       "    <tr style=\"text-align: right;\">\n",
       "      <th></th>\n",
       "      <th>번호</th>\n",
       "      <th>차대번호</th>\n",
       "      <th>적발유형</th>\n",
       "      <th>단속지역코드</th>\n",
       "      <th>등록시도코드</th>\n",
       "      <th>등록시군구코드</th>\n",
       "      <th>적발건수</th>\n",
       "      <th>적발년월</th>\n",
       "      <th>법정동코드</th>\n",
       "      <th>등록시도</th>\n",
       "      <th>등록시군구</th>\n",
       "      <th>단속시도코드</th>\n",
       "      <th>단속시군구코드</th>\n",
       "      <th>단속시도</th>\n",
       "      <th>단속시군구</th>\n",
       "    </tr>\n",
       "  </thead>\n",
       "  <tbody>\n",
       "    <tr>\n",
       "      <th>0</th>\n",
       "      <td>8389408</td>\n",
       "      <td>KMFZCD7JP5U081362</td>\n",
       "      <td>S</td>\n",
       "      <td>11000</td>\n",
       "      <td>11</td>\n",
       "      <td>140</td>\n",
       "      <td>NaN</td>\n",
       "      <td>NaN</td>\n",
       "      <td>1114000000</td>\n",
       "      <td>서울특별시</td>\n",
       "      <td>중구</td>\n",
       "      <td>11</td>\n",
       "      <td>0</td>\n",
       "      <td>서울특별시</td>\n",
       "      <td>NaN</td>\n",
       "    </tr>\n",
       "    <tr>\n",
       "      <th>1</th>\n",
       "      <td>8389410</td>\n",
       "      <td>KN3HNP6D15K094646</td>\n",
       "      <td>S</td>\n",
       "      <td>11000</td>\n",
       "      <td>11</td>\n",
       "      <td>140</td>\n",
       "      <td>NaN</td>\n",
       "      <td>NaN</td>\n",
       "      <td>1114000000</td>\n",
       "      <td>서울특별시</td>\n",
       "      <td>중구</td>\n",
       "      <td>11</td>\n",
       "      <td>0</td>\n",
       "      <td>서울특별시</td>\n",
       "      <td>NaN</td>\n",
       "    </tr>\n",
       "    <tr>\n",
       "      <th>2</th>\n",
       "      <td>8389713</td>\n",
       "      <td>KNAMA75432S302063</td>\n",
       "      <td>S</td>\n",
       "      <td>11000</td>\n",
       "      <td>11</td>\n",
       "      <td>140</td>\n",
       "      <td>1.00</td>\n",
       "      <td>201908.00</td>\n",
       "      <td>1114000000</td>\n",
       "      <td>서울특별시</td>\n",
       "      <td>중구</td>\n",
       "      <td>11</td>\n",
       "      <td>0</td>\n",
       "      <td>서울특별시</td>\n",
       "      <td>NaN</td>\n",
       "    </tr>\n",
       "    <tr>\n",
       "      <th>3</th>\n",
       "      <td>8389714</td>\n",
       "      <td>KMFLA19RPYC015091</td>\n",
       "      <td>S</td>\n",
       "      <td>11000</td>\n",
       "      <td>11</td>\n",
       "      <td>140</td>\n",
       "      <td>1.00</td>\n",
       "      <td>201908.00</td>\n",
       "      <td>1114000000</td>\n",
       "      <td>서울특별시</td>\n",
       "      <td>중구</td>\n",
       "      <td>11</td>\n",
       "      <td>0</td>\n",
       "      <td>서울특별시</td>\n",
       "      <td>NaN</td>\n",
       "    </tr>\n",
       "    <tr>\n",
       "      <th>4</th>\n",
       "      <td>8389716</td>\n",
       "      <td>KMHWP81JP5U664886</td>\n",
       "      <td>S</td>\n",
       "      <td>11000</td>\n",
       "      <td>11</td>\n",
       "      <td>140</td>\n",
       "      <td>NaN</td>\n",
       "      <td>NaN</td>\n",
       "      <td>1114000000</td>\n",
       "      <td>서울특별시</td>\n",
       "      <td>중구</td>\n",
       "      <td>11</td>\n",
       "      <td>0</td>\n",
       "      <td>서울특별시</td>\n",
       "      <td>NaN</td>\n",
       "    </tr>\n",
       "  </tbody>\n",
       "</table>\n",
       "</div>"
      ],
      "text/plain": [
       "        번호               차대번호 적발유형 단속지역코드  등록시도코드  등록시군구코드  적발건수      적발년월   \n",
       "0  8389408  KMFZCD7JP5U081362    S  11000      11      140   NaN       NaN  \\\n",
       "1  8389410  KN3HNP6D15K094646    S  11000      11      140   NaN       NaN   \n",
       "2  8389713  KNAMA75432S302063    S  11000      11      140  1.00 201908.00   \n",
       "3  8389714  KMFLA19RPYC015091    S  11000      11      140  1.00 201908.00   \n",
       "4  8389716  KMHWP81JP5U664886    S  11000      11      140   NaN       NaN   \n",
       "\n",
       "        법정동코드   등록시도 등록시군구  단속시도코드  단속시군구코드   단속시도 단속시군구  \n",
       "0  1114000000  서울특별시    중구      11        0  서울특별시   NaN  \n",
       "1  1114000000  서울특별시    중구      11        0  서울특별시   NaN  \n",
       "2  1114000000  서울특별시    중구      11        0  서울특별시   NaN  \n",
       "3  1114000000  서울특별시    중구      11        0  서울특별시   NaN  \n",
       "4  1114000000  서울특별시    중구      11        0  서울특별시   NaN  "
      ]
     },
     "execution_count": 2386,
     "metadata": {},
     "output_type": "execute_result"
    }
   ],
   "source": [
    "us_total.head()"
   ]
  },
  {
   "cell_type": "code",
   "execution_count": 2387,
   "id": "df070dc2-811d-4817-b833-45dca2385899",
   "metadata": {},
   "outputs": [
    {
     "data": {
      "text/plain": [
       "0"
      ]
     },
     "execution_count": 2387,
     "metadata": {},
     "output_type": "execute_result"
    }
   ],
   "source": [
    "us_total['단속시도'].isnull().sum()"
   ]
  },
  {
   "cell_type": "code",
   "execution_count": 2388,
   "id": "eb413df2-95fc-46de-b363-caacae6098f6",
   "metadata": {},
   "outputs": [
    {
     "data": {
      "text/plain": [
       "array(['서울특별시', '경기도', '인천광역시'], dtype=object)"
      ]
     },
     "execution_count": 2388,
     "metadata": {},
     "output_type": "execute_result"
    }
   ],
   "source": [
    "us_total['단속시도'].unique()"
   ]
  },
  {
   "cell_type": "code",
   "execution_count": 2389,
   "id": "7f406c8f-5de1-45b8-bb31-567b5ab5fbe7",
   "metadata": {},
   "outputs": [],
   "source": [
    "# !!! 수정(2023.09.01)\n",
    "# 1s\n",
    "us_total.loc[(us_total['단속시도'] == '서울특별시') | (us_total['단속시도'] == '경기도') | (us_total['단속시도'] == '인천광역시'), '단속지역'] = '수도권'\n",
    "# us_total.loc[us_total['단속지역'].isnull(), '단속지역'] = '수도권외'"
   ]
  },
  {
   "cell_type": "code",
   "execution_count": 2390,
   "id": "b20084dc-48d2-428c-8168-2dab95cd642b",
   "metadata": {},
   "outputs": [
    {
     "data": {
      "text/plain": [
       "array(['수도권'], dtype=object)"
      ]
     },
     "execution_count": 2390,
     "metadata": {},
     "output_type": "execute_result"
    }
   ],
   "source": [
    "# 6s\n",
    "us_total['단속지역'].unique()"
   ]
  },
  {
   "cell_type": "code",
   "execution_count": 2391,
   "id": "1f98f64c-b87f-4303-87dd-6583b235a73c",
   "metadata": {
    "tags": []
   },
   "outputs": [
    {
     "data": {
      "text/plain": [
       "단속지역\n",
       "수도권    3178626\n",
       "Name: count, dtype: int64"
      ]
     },
     "execution_count": 2391,
     "metadata": {},
     "output_type": "execute_result"
    }
   ],
   "source": [
    "us_total['단속지역'].value_counts(dropna=False)"
   ]
  },
  {
   "cell_type": "code",
   "execution_count": 2392,
   "id": "db1797b0-0c61-48bf-a92a-9c3100460dc5",
   "metadata": {
    "tags": []
   },
   "outputs": [
    {
     "data": {
      "text/plain": [
       "Index(['번호', '차대번호', '적발유형', '단속지역코드', '등록시도코드', '등록시군구코드', '적발건수', '적발년월',\n",
       "       '법정동코드', '등록시도', '등록시군구', '단속시도코드', '단속시군구코드', '단속시도', '단속시군구', '단속지역'],\n",
       "      dtype='object')"
      ]
     },
     "execution_count": 2392,
     "metadata": {},
     "output_type": "execute_result"
    }
   ],
   "source": [
    "us_total.columns"
   ]
  },
  {
   "cell_type": "code",
   "execution_count": 2393,
   "id": "41170a7f-5eb6-417d-a203-5fbcc4db0810",
   "metadata": {
    "tags": []
   },
   "outputs": [
    {
     "data": {
      "text/plain": [
       "((117981152, 14), (3178626, 16))"
      ]
     },
     "execution_count": 2393,
     "metadata": {},
     "output_type": "execute_result"
    }
   ],
   "source": [
    "is_total.shape, us_total.shape"
   ]
  },
  {
   "cell_type": "code",
   "execution_count": 2394,
   "id": "c19df57b-3cb4-499b-bb60-8d1dd76404cd",
   "metadata": {},
   "outputs": [],
   "source": [
    "## 등록(말소 유지) & 제원 병합\n",
    "# 10.3s\n",
    "cse = carr.merge(srcr, on='제원관리번호', how='left')"
   ]
  },
  {
   "cell_type": "code",
   "execution_count": 2395,
   "id": "acd0593e-20a1-4d7d-8ea6-d8c8c12787e9",
   "metadata": {},
   "outputs": [],
   "source": [
    "## 등록&제원&이력 병합\n",
    "# 2m 6.0s\n",
    "ersr = cse.merge(hisr, on='차량관리번호', how='left')"
   ]
  },
  {
   "cell_type": "code",
   "execution_count": 2396,
   "id": "5229e914-ef07-4ff1-9f02-a9cdff45e2b6",
   "metadata": {},
   "outputs": [],
   "source": [
    "# 1. 등록 차량말소와 등록이력 차량 말소 둘 모두 해당되는 데이터 추출\n",
    "ersr = ersr.loc[(ersr['차량말소YN_x'] == 'Y') & (ersr['차량말소YN_y'] == 'Y')].reset_index(drop=True)"
   ]
  },
  {
   "cell_type": "code",
   "execution_count": 2397,
   "id": "3696fdd4-c08d-4bc2-9d51-a840ee905a58",
   "metadata": {},
   "outputs": [],
   "source": [
    "# 2. 변경일자 기준 최신 데이터만 남기고 차대번호 중복 제거\n",
    "ersr = ersr.sort_values('변경일자', ascending=False).drop_duplicates('차대번호').reset_index(drop=True)"
   ]
  },
  {
   "cell_type": "code",
   "execution_count": 2398,
   "id": "6029794f-e5a0-4ed7-a637-5c173ad41f83",
   "metadata": {},
   "outputs": [],
   "source": [
    "# 3. 변경일자 2019.01.01 이후만 추출\n",
    "ersr = ersr[ersr['변경일자'] >= 20190101].reset_index(drop=True)"
   ]
  },
  {
   "cell_type": "code",
   "execution_count": 2399,
   "id": "67dc15ad-3111-46c6-a57a-cbf4caa14963",
   "metadata": {},
   "outputs": [],
   "source": [
    "ersr['법정동코드'] = ersr['법정동코드'].astype('str')\n",
    "ersr['법정동코드'] = ersr['법정동코드'].str[:5] + '00000'\n",
    "ersr['법정동코드'] = pd.to_numeric(ersr['법정동코드'])"
   ]
  },
  {
   "cell_type": "code",
   "execution_count": 2400,
   "id": "cfb7ff18-4ca5-42e2-9cdc-a8e0eacb05a4",
   "metadata": {},
   "outputs": [],
   "source": [
    "## 등록&제원&이력&법정동코드 병합(errc)\n",
    "# 매칭 후 '시도' 빈값 없음\n",
    "errc = ersr.merge(coder, on='법정동코드', how='left')"
   ]
  },
  {
   "cell_type": "code",
   "execution_count": 2401,
   "id": "a7ff7f67-8565-4772-83df-5696fe253e7e",
   "metadata": {},
   "outputs": [
    {
     "data": {
      "text/plain": [
       "0"
      ]
     },
     "execution_count": 2401,
     "metadata": {},
     "output_type": "execute_result"
    }
   ],
   "source": [
    "errc['시도'].isnull().sum()"
   ]
  },
  {
   "cell_type": "markdown",
   "id": "c0b04230-4f7d-4e0a-892f-6a3878b088c3",
   "metadata": {},
   "source": [
    "## Load"
   ]
  },
  {
   "cell_type": "markdown",
   "id": "00fc5ba0-5a0a-4517-a69d-b6ceec3ca014",
   "metadata": {},
   "source": [
    "### 5등급 지역별 조기폐차(STD_BD_GRD5_ELPDSRC_CURSTT)(한글파일 내용 입력)"
   ]
  },
  {
   "cell_type": "code",
   "execution_count": 2402,
   "id": "d27c38a9-5e92-443c-9416-fe271637d073",
   "metadata": {},
   "outputs": [],
   "source": [
    "# 0s\n",
    "df1 = we.export_to_pandas(\"SELECT * FROM STD_BD_GRD5_ELPDSRC;\")"
   ]
  },
  {
   "cell_type": "code",
   "execution_count": 2403,
   "id": "07b8ad3d-4d11-4ac4-b021-dbb552bc9e66",
   "metadata": {},
   "outputs": [
    {
     "name": "stdout",
     "output_type": "stream",
     "text": [
      "<class 'pandas.core.frame.DataFrame'>\n",
      "RangeIndex: 73 entries, 0 to 72\n",
      "Data columns (total 6 columns):\n",
      " #   Column      Non-Null Count  Dtype  \n",
      "---  ------      --------------  -----  \n",
      " 0   RGN         68 non-null     object \n",
      " 1   YR          68 non-null     float64\n",
      " 2   VHCL_MKCNT  68 non-null     object \n",
      " 3   VHCL_REDE   68 non-null     object \n",
      " 4   ELPDSRC     68 non-null     object \n",
      " 5   NTRL_DCLN   68 non-null     object \n",
      "dtypes: float64(1), object(5)\n",
      "memory usage: 3.5+ KB\n"
     ]
    }
   ],
   "source": [
    "df1.info()"
   ]
  },
  {
   "cell_type": "code",
   "execution_count": 2404,
   "id": "01eefc0c-f1d4-45df-a542-8a385650ea0d",
   "metadata": {
    "tags": []
   },
   "outputs": [
    {
     "data": {
      "text/html": [
       "<div>\n",
       "<style scoped>\n",
       "    .dataframe tbody tr th:only-of-type {\n",
       "        vertical-align: middle;\n",
       "    }\n",
       "\n",
       "    .dataframe tbody tr th {\n",
       "        vertical-align: top;\n",
       "    }\n",
       "\n",
       "    .dataframe thead th {\n",
       "        text-align: right;\n",
       "    }\n",
       "</style>\n",
       "<table border=\"1\" class=\"dataframe\">\n",
       "  <thead>\n",
       "    <tr style=\"text-align: right;\">\n",
       "      <th></th>\n",
       "      <th>RGN</th>\n",
       "      <th>YR</th>\n",
       "      <th>VHCL_MKCNT</th>\n",
       "      <th>VHCL_REDE</th>\n",
       "      <th>ELPDSRC</th>\n",
       "      <th>NTRL_DCLN</th>\n",
       "    </tr>\n",
       "  </thead>\n",
       "  <tbody>\n",
       "    <tr>\n",
       "      <th>68</th>\n",
       "      <td>NaN</td>\n",
       "      <td>NaN</td>\n",
       "      <td>NaN</td>\n",
       "      <td>NaN</td>\n",
       "      <td>NaN</td>\n",
       "      <td>NaN</td>\n",
       "    </tr>\n",
       "    <tr>\n",
       "      <th>69</th>\n",
       "      <td>NaN</td>\n",
       "      <td>NaN</td>\n",
       "      <td>NaN</td>\n",
       "      <td>NaN</td>\n",
       "      <td>NaN</td>\n",
       "      <td>NaN</td>\n",
       "    </tr>\n",
       "    <tr>\n",
       "      <th>70</th>\n",
       "      <td>NaN</td>\n",
       "      <td>NaN</td>\n",
       "      <td>NaN</td>\n",
       "      <td>NaN</td>\n",
       "      <td>NaN</td>\n",
       "      <td>NaN</td>\n",
       "    </tr>\n",
       "    <tr>\n",
       "      <th>71</th>\n",
       "      <td>NaN</td>\n",
       "      <td>NaN</td>\n",
       "      <td>NaN</td>\n",
       "      <td>NaN</td>\n",
       "      <td>NaN</td>\n",
       "      <td>NaN</td>\n",
       "    </tr>\n",
       "    <tr>\n",
       "      <th>72</th>\n",
       "      <td>NaN</td>\n",
       "      <td>NaN</td>\n",
       "      <td>NaN</td>\n",
       "      <td>NaN</td>\n",
       "      <td>NaN</td>\n",
       "      <td>NaN</td>\n",
       "    </tr>\n",
       "  </tbody>\n",
       "</table>\n",
       "</div>"
      ],
      "text/plain": [
       "    RGN  YR VHCL_MKCNT VHCL_REDE ELPDSRC NTRL_DCLN\n",
       "68  NaN NaN        NaN       NaN     NaN       NaN\n",
       "69  NaN NaN        NaN       NaN     NaN       NaN\n",
       "70  NaN NaN        NaN       NaN     NaN       NaN\n",
       "71  NaN NaN        NaN       NaN     NaN       NaN\n",
       "72  NaN NaN        NaN       NaN     NaN       NaN"
      ]
     },
     "execution_count": 2404,
     "metadata": {},
     "output_type": "execute_result"
    }
   ],
   "source": [
    "df1[df1['RGN'].isnull() == True]"
   ]
  },
  {
   "cell_type": "code",
   "execution_count": 2405,
   "id": "0daeec5f-e191-4e79-8707-bffc87d15d9b",
   "metadata": {
    "tags": []
   },
   "outputs": [
    {
     "data": {
      "text/plain": [
       "RGN           5\n",
       "YR            5\n",
       "VHCL_MKCNT    5\n",
       "VHCL_REDE     5\n",
       "ELPDSRC       5\n",
       "NTRL_DCLN     5\n",
       "dtype: int64"
      ]
     },
     "execution_count": 2405,
     "metadata": {},
     "output_type": "execute_result"
    }
   ],
   "source": [
    "df1.isnull().sum()"
   ]
  },
  {
   "cell_type": "code",
   "execution_count": 2406,
   "id": "661419c2-ef55-4831-9593-f3c2d955bd4d",
   "metadata": {
    "tags": []
   },
   "outputs": [],
   "source": [
    "df1 = df1.dropna()"
   ]
  },
  {
   "cell_type": "code",
   "execution_count": 2407,
   "id": "051649a4-b5c5-4d26-b7ae-277c18882c2b",
   "metadata": {
    "tags": []
   },
   "outputs": [
    {
     "data": {
      "text/plain": [
       "(68, 6)"
      ]
     },
     "execution_count": 2407,
     "metadata": {},
     "output_type": "execute_result"
    }
   ],
   "source": [
    "df1.shape"
   ]
  },
  {
   "cell_type": "code",
   "execution_count": 2408,
   "id": "f609b1fa-b2ad-490a-b75b-52071a7bc071",
   "metadata": {
    "tags": []
   },
   "outputs": [
    {
     "data": {
      "text/html": [
       "<div>\n",
       "<style scoped>\n",
       "    .dataframe tbody tr th:only-of-type {\n",
       "        vertical-align: middle;\n",
       "    }\n",
       "\n",
       "    .dataframe tbody tr th {\n",
       "        vertical-align: top;\n",
       "    }\n",
       "\n",
       "    .dataframe thead th {\n",
       "        text-align: right;\n",
       "    }\n",
       "</style>\n",
       "<table border=\"1\" class=\"dataframe\">\n",
       "  <thead>\n",
       "    <tr style=\"text-align: right;\">\n",
       "      <th></th>\n",
       "      <th>RGN</th>\n",
       "      <th>YR</th>\n",
       "      <th>VHCL_MKCNT</th>\n",
       "      <th>VHCL_REDE</th>\n",
       "      <th>ELPDSRC</th>\n",
       "      <th>NTRL_DCLN</th>\n",
       "    </tr>\n",
       "  </thead>\n",
       "  <tbody>\n",
       "    <tr>\n",
       "      <th>63</th>\n",
       "      <td>경남</td>\n",
       "      <td>2022.00</td>\n",
       "      <td>98,885</td>\n",
       "      <td>24,199</td>\n",
       "      <td>14,765</td>\n",
       "      <td>9,434</td>\n",
       "    </tr>\n",
       "    <tr>\n",
       "      <th>64</th>\n",
       "      <td>제주</td>\n",
       "      <td>2019.00</td>\n",
       "      <td>44,978</td>\n",
       "      <td>9,340</td>\n",
       "      <td>5,424</td>\n",
       "      <td>3,915</td>\n",
       "    </tr>\n",
       "    <tr>\n",
       "      <th>65</th>\n",
       "      <td>제주</td>\n",
       "      <td>2020.00</td>\n",
       "      <td>37,016</td>\n",
       "      <td>7,962</td>\n",
       "      <td>4,562</td>\n",
       "      <td>3,400</td>\n",
       "    </tr>\n",
       "    <tr>\n",
       "      <th>66</th>\n",
       "      <td>제주</td>\n",
       "      <td>2021.00</td>\n",
       "      <td>29,057</td>\n",
       "      <td>7,959</td>\n",
       "      <td>4,501</td>\n",
       "      <td>3,458</td>\n",
       "    </tr>\n",
       "    <tr>\n",
       "      <th>67</th>\n",
       "      <td>제주</td>\n",
       "      <td>2022.00</td>\n",
       "      <td>23,163</td>\n",
       "      <td>5,894</td>\n",
       "      <td>3,238</td>\n",
       "      <td>2,656</td>\n",
       "    </tr>\n",
       "  </tbody>\n",
       "</table>\n",
       "</div>"
      ],
      "text/plain": [
       "   RGN      YR VHCL_MKCNT VHCL_REDE   ELPDSRC NTRL_DCLN\n",
       "63  경남 2022.00    98,885    24,199    14,765     9,434 \n",
       "64  제주 2019.00    44,978     9,340     5,424     3,915 \n",
       "65  제주 2020.00    37,016     7,962     4,562     3,400 \n",
       "66  제주 2021.00    29,057     7,959     4,501     3,458 \n",
       "67  제주 2022.00    23,163     5,894     3,238     2,656 "
      ]
     },
     "execution_count": 2408,
     "metadata": {},
     "output_type": "execute_result"
    }
   ],
   "source": [
    "df1.tail()"
   ]
  },
  {
   "cell_type": "markdown",
   "id": "40ee4eec-d165-4030-a791-041040378b75",
   "metadata": {},
   "source": [
    "### 5등급 저공해 미조치(STD_BD_GRD5_LEM_N_MOD)(한글파일 내용 입력)"
   ]
  },
  {
   "cell_type": "code",
   "execution_count": 2409,
   "id": "94033fa4-d3c9-4d6c-aeb7-70a776d47dad",
   "metadata": {},
   "outputs": [],
   "source": [
    "# 0s\n",
    "no_dpf = we.export_to_pandas(\"SELECT * FROM STD_BD_GRD5_LEM_N;\")"
   ]
  },
  {
   "cell_type": "code",
   "execution_count": 2410,
   "id": "9178aaba-f985-4750-8282-0534e2c12296",
   "metadata": {},
   "outputs": [
    {
     "name": "stdout",
     "output_type": "stream",
     "text": [
      "<class 'pandas.core.frame.DataFrame'>\n",
      "RangeIndex: 12 entries, 0 to 11\n",
      "Data columns (total 3 columns):\n",
      " #   Column  Non-Null Count  Dtype \n",
      "---  ------  --------------  ----- \n",
      " 0   지역      12 non-null     object\n",
      " 1   구분      12 non-null     object\n",
      " 2   차량대수    12 non-null     object\n",
      "dtypes: object(3)\n",
      "memory usage: 416.0+ bytes\n"
     ]
    }
   ],
   "source": [
    "no_dpf.info()"
   ]
  },
  {
   "cell_type": "code",
   "execution_count": 2411,
   "id": "1c9ab239-579c-45bb-ab17-6d2308346821",
   "metadata": {},
   "outputs": [],
   "source": [
    "# 분석\n",
    "## 5등급 지역별 조기폐차 현황\n",
    "# dfm = df.copy()\n",
    "# dfm['최초등록일자'] = dfm['최초등록일자'].astype('str')\n",
    "# dfm['최초등록일자_년'] = dfm['최초등록일자'].str[:4]\n",
    "# dfm['최초등록일자_월'] = dfm['최초등록일자'].str[4:6]\n",
    "# dfm['최초등록일자_일'] = dfm['최초등록일자'].str[6:8]\n",
    "# errc['변경일자'] = errc['변경일자'].astype('str')\n",
    "# errc['변경일자_년'] = errc['변경일자'].str[:4]\n",
    "# errc['변경일자_월'] = errc['변경일자'].str[4:6]\n",
    "# errc['변경일자_일'] = errc['변경일자'].str[6:8]"
   ]
  },
  {
   "cell_type": "code",
   "execution_count": 2412,
   "id": "6d79bfbd-c27f-4797-a897-cef26140d972",
   "metadata": {},
   "outputs": [],
   "source": [
    "# ## 시도, 연도별 차량 현황 분석\n",
    "# # 2022년 차량 대수\n",
    "# grp1 = dfm.groupby(['시도'], as_index=False)['차대번호'].count()\n",
    "# grp1 = grp1.rename(columns={'차대번호':'차량대수'})\n",
    "# grp1['연도'] = f'{year}'\n",
    "# grp1 = grp1[['연도', '시도', '차량대수']]"
   ]
  },
  {
   "cell_type": "code",
   "execution_count": 2413,
   "id": "7e29ae5f-7f93-4880-a960-832513a380f9",
   "metadata": {},
   "outputs": [],
   "source": [
    "# # 차량 통계 기본 데이터셋\n",
    "# yr_list = []\n",
    "# ctpv_list = []\n",
    "# for ctpv in grp1['시도'].unique():\n",
    "#     for yr in range(2019, year + 1):\n",
    "#         yr_list.append(str(yr))\n",
    "#         ctpv_list.append(ctpv)\n",
    "# base = pd.DataFrame({'연도':yr_list, '시도':ctpv_list})"
   ]
  },
  {
   "cell_type": "code",
   "execution_count": 2414,
   "id": "df94186f-025c-4fa0-b7d8-a1f2eadeb8fc",
   "metadata": {},
   "outputs": [],
   "source": [
    "# # 연도별 등록대수\n",
    "# grp2 = dfm.groupby(['최초등록일자_년', '시도'], as_index=False)['차대번호'].count()\n",
    "# grp2 = grp2.rename(columns={'최초등록일자_년':'연도', '차대번호':'등록대수'})"
   ]
  },
  {
   "cell_type": "code",
   "execution_count": 2415,
   "id": "c6e9b1ba-62b1-4e15-a21b-5c2f54f16f2b",
   "metadata": {},
   "outputs": [],
   "source": [
    "# # 연도별 말소대수\n",
    "# grp3 = errc.groupby(['변경일자_년', '시도'], as_index=False)['차대번호'].count()\n",
    "# grp3 = grp3.rename(columns={'변경일자_년':'연도', '차대번호':'말소대수'})\n",
    "# base1 = base.merge(grp1, on=['연도', '시도'], how='left')\n",
    "# base2 = base1.merge(grp2, on=['연도', '시도'], how='left')\n",
    "# base3 = base2.merge(grp3, on=['연도', '시도'], how='left')\n",
    "# base3[['차량대수', '등록대수', '말소대수']] = base3[['차량대수', '등록대수', '말소대수']].fillna(0)"
   ]
  },
  {
   "cell_type": "code",
   "execution_count": 2416,
   "id": "5c7e0cc4-8eb5-48b8-af88-87f32710ff71",
   "metadata": {},
   "outputs": [],
   "source": [
    "# n = len(base3['연도'].unique())\n",
    "# for i in range(base3.shape[0] // n):\n",
    "#     for j in range(2, n+1):\n",
    "#         base3.loc[(i+1)*n - j, '차량대수'] = base3.loc[(i+1)*n - (j-1), '차량대수'] + base3.loc[(i+1)*n - (j-1), '말소대수'] - base3.loc[(i+1)*n - (j-1), '등록대수']"
   ]
  },
  {
   "cell_type": "code",
   "execution_count": 2417,
   "id": "e8e5f3a8-c21c-43d5-b1ee-e8edbe52605f",
   "metadata": {},
   "outputs": [],
   "source": [
    "# dfm['말소일자'] = dfm['말소일자'].astype('str')\n",
    "# dfm['말소일자_년'] = dfm['말소일자'].str[:4]\n",
    "# dfm['말소일자_월'] = dfm['말소일자'].str[4:6]\n",
    "# dfm['말소일자_일'] = dfm['말소일자'].str[6:8]\n",
    "# grp4 = dfm.loc[dfm['조기폐차최종승인YN'] == 'Y'].groupby(['말소일자_년'], as_index=False)['차대번호'].count()\n",
    "# grp4 = grp4.rename(columns={'말소일자_년':'연도', '차대번호':'조기폐차대수'})\n",
    "# base4 = base3.merge(grp4, on='연도', how='left')\n",
    "# base4['조기폐차대수'] = base4['조기폐차대수'].fillna(0)\n",
    "# base4 = base4.drop(['등록대수', '말소대수'], axis=1)"
   ]
  },
  {
   "cell_type": "code",
   "execution_count": 2418,
   "id": "93877d3a-6be2-49ef-a10d-715e7f7fe63b",
   "metadata": {},
   "outputs": [],
   "source": [
    "# n = len(base4['연도'].unique())\n",
    "# for i in range(base4.shape[0] // n):\n",
    "#     for j in range(n-1):\n",
    "#         base4.loc[i*4 + j+1, '감소대수'] = base4.loc[i*4 + j, '차량대수'] - base4.loc[i*4 + j+1, '차량대수']\n",
    "# base4['자연감소대수'] = base4['감소대수'] - base4['조기폐차대수']"
   ]
  },
  {
   "cell_type": "code",
   "execution_count": 2419,
   "id": "a5b7fc47-d3f2-4260-a18c-84479786a40e",
   "metadata": {},
   "outputs": [],
   "source": [
    "today_date = datetime.today().strftime(\"%Y%m%d\")\n",
    "df1['LOAD_DT'] = today_date\n",
    "STD_BD_GRD5_ELPDSRC_CURSTT = df1.copy()"
   ]
  },
  {
   "cell_type": "code",
   "execution_count": 2420,
   "id": "d94f6816-1b74-441c-9678-c635ddc8caad",
   "metadata": {},
   "outputs": [
    {
     "data": {
      "text/plain": [
       "Index(['RGN', 'YR', 'VHCL_MKCNT', 'VHCL_REDE', 'ELPDSRC', 'NTRL_DCLN',\n",
       "       'LOAD_DT'],\n",
       "      dtype='object')"
      ]
     },
     "execution_count": 2420,
     "metadata": {},
     "output_type": "execute_result"
    }
   ],
   "source": [
    "STD_BD_GRD5_ELPDSRC_CURSTT.columns"
   ]
  },
  {
   "cell_type": "code",
   "execution_count": 2421,
   "id": "2048877b-e471-41de-975e-7d064580923e",
   "metadata": {
    "tags": []
   },
   "outputs": [
    {
     "data": {
      "text/plain": [
       "(68, 7)"
      ]
     },
     "execution_count": 2421,
     "metadata": {},
     "output_type": "execute_result"
    }
   ],
   "source": [
    "STD_BD_GRD5_ELPDSRC_CURSTT.shape"
   ]
  },
  {
   "cell_type": "code",
   "execution_count": 2422,
   "id": "568326b1-ef7f-4e5d-8670-c3a957715d32",
   "metadata": {
    "tags": []
   },
   "outputs": [
    {
     "data": {
      "text/html": [
       "<div>\n",
       "<style scoped>\n",
       "    .dataframe tbody tr th:only-of-type {\n",
       "        vertical-align: middle;\n",
       "    }\n",
       "\n",
       "    .dataframe tbody tr th {\n",
       "        vertical-align: top;\n",
       "    }\n",
       "\n",
       "    .dataframe thead th {\n",
       "        text-align: right;\n",
       "    }\n",
       "</style>\n",
       "<table border=\"1\" class=\"dataframe\">\n",
       "  <thead>\n",
       "    <tr style=\"text-align: right;\">\n",
       "      <th></th>\n",
       "      <th>RGN</th>\n",
       "      <th>YR</th>\n",
       "      <th>VHCL_MKCNT</th>\n",
       "      <th>VHCL_REDE</th>\n",
       "      <th>ELPDSRC</th>\n",
       "      <th>NTRL_DCLN</th>\n",
       "      <th>LOAD_DT</th>\n",
       "    </tr>\n",
       "  </thead>\n",
       "  <tbody>\n",
       "    <tr>\n",
       "      <th>0</th>\n",
       "      <td>서울</td>\n",
       "      <td>2019.00</td>\n",
       "      <td>199,898</td>\n",
       "      <td>46,950</td>\n",
       "      <td>31,792</td>\n",
       "      <td>15,158</td>\n",
       "      <td>20231103</td>\n",
       "    </tr>\n",
       "    <tr>\n",
       "      <th>1</th>\n",
       "      <td>서울</td>\n",
       "      <td>2020.00</td>\n",
       "      <td>161,864</td>\n",
       "      <td>38,034</td>\n",
       "      <td>23,045</td>\n",
       "      <td>14,989</td>\n",
       "      <td>20231103</td>\n",
       "    </tr>\n",
       "    <tr>\n",
       "      <th>2</th>\n",
       "      <td>서울</td>\n",
       "      <td>2021.00</td>\n",
       "      <td>138,381</td>\n",
       "      <td>23,483</td>\n",
       "      <td>8,148</td>\n",
       "      <td>15,335</td>\n",
       "      <td>20231103</td>\n",
       "    </tr>\n",
       "    <tr>\n",
       "      <th>3</th>\n",
       "      <td>서울</td>\n",
       "      <td>2022.00</td>\n",
       "      <td>120,996</td>\n",
       "      <td>17,385</td>\n",
       "      <td>2,476</td>\n",
       "      <td>14,909</td>\n",
       "      <td>20231103</td>\n",
       "    </tr>\n",
       "    <tr>\n",
       "      <th>4</th>\n",
       "      <td>인천</td>\n",
       "      <td>2019.00</td>\n",
       "      <td>90,619</td>\n",
       "      <td>20,597</td>\n",
       "      <td>16,422</td>\n",
       "      <td>4,175</td>\n",
       "      <td>20231103</td>\n",
       "    </tr>\n",
       "  </tbody>\n",
       "</table>\n",
       "</div>"
      ],
      "text/plain": [
       "  RGN      YR VHCL_MKCNT VHCL_REDE   ELPDSRC NTRL_DCLN   LOAD_DT\n",
       "0  서울 2019.00   199,898    46,950    31,792    15,158   20231103\n",
       "1  서울 2020.00   161,864    38,034    23,045    14,989   20231103\n",
       "2  서울 2021.00   138,381    23,483     8,148    15,335   20231103\n",
       "3  서울 2022.00   120,996    17,385     2,476    14,909   20231103\n",
       "4  인천 2019.00    90,619    20,597    16,422     4,175   20231103"
      ]
     },
     "execution_count": 2422,
     "metadata": {},
     "output_type": "execute_result"
    }
   ],
   "source": [
    "STD_BD_GRD5_ELPDSRC_CURSTT.head()"
   ]
  },
  {
   "cell_type": "code",
   "execution_count": 2423,
   "id": "9c3e5f1d-33ef-44c6-8558-58acb372a9dc",
   "metadata": {
    "tags": []
   },
   "outputs": [],
   "source": [
    "STD_BD_GRD5_ELPDSRC_CURSTT['VHCL_MKCNT'] = STD_BD_GRD5_ELPDSRC_CURSTT['VHCL_MKCNT'].str.replace(',', '')\n",
    "STD_BD_GRD5_ELPDSRC_CURSTT['VHCL_REDE'] = STD_BD_GRD5_ELPDSRC_CURSTT['VHCL_REDE'].str.replace(',', '')\n",
    "STD_BD_GRD5_ELPDSRC_CURSTT['ELPDSRC'] = STD_BD_GRD5_ELPDSRC_CURSTT['ELPDSRC'].str.replace(',', '')\n",
    "STD_BD_GRD5_ELPDSRC_CURSTT['NTRL_DCLN'] = STD_BD_GRD5_ELPDSRC_CURSTT['NTRL_DCLN'].str.replace(',', '')\n",
    "STD_BD_GRD5_ELPDSRC_CURSTT['VHCL_MKCNT'] = pd.to_numeric(STD_BD_GRD5_ELPDSRC_CURSTT['VHCL_MKCNT'], errors='coerce')\n",
    "STD_BD_GRD5_ELPDSRC_CURSTT['VHCL_REDE'] = pd.to_numeric(STD_BD_GRD5_ELPDSRC_CURSTT['VHCL_REDE'], errors='coerce')\n",
    "STD_BD_GRD5_ELPDSRC_CURSTT['ELPDSRC'] = pd.to_numeric(STD_BD_GRD5_ELPDSRC_CURSTT['ELPDSRC'], errors='coerce')\n",
    "STD_BD_GRD5_ELPDSRC_CURSTT['NTRL_DCLN'] = pd.to_numeric(STD_BD_GRD5_ELPDSRC_CURSTT['NTRL_DCLN'], errors='coerce')"
   ]
  },
  {
   "cell_type": "code",
   "execution_count": 2424,
   "id": "5881fa56-b0bc-4b44-ab1a-af8cbfd67e36",
   "metadata": {
    "tags": []
   },
   "outputs": [
    {
     "data": {
      "text/html": [
       "<div>\n",
       "<style scoped>\n",
       "    .dataframe tbody tr th:only-of-type {\n",
       "        vertical-align: middle;\n",
       "    }\n",
       "\n",
       "    .dataframe tbody tr th {\n",
       "        vertical-align: top;\n",
       "    }\n",
       "\n",
       "    .dataframe thead th {\n",
       "        text-align: right;\n",
       "    }\n",
       "</style>\n",
       "<table border=\"1\" class=\"dataframe\">\n",
       "  <thead>\n",
       "    <tr style=\"text-align: right;\">\n",
       "      <th></th>\n",
       "      <th>RGN</th>\n",
       "      <th>YR</th>\n",
       "      <th>VHCL_MKCNT</th>\n",
       "      <th>VHCL_REDE</th>\n",
       "      <th>ELPDSRC</th>\n",
       "      <th>NTRL_DCLN</th>\n",
       "      <th>LOAD_DT</th>\n",
       "    </tr>\n",
       "  </thead>\n",
       "  <tbody>\n",
       "    <tr>\n",
       "      <th>0</th>\n",
       "      <td>서울</td>\n",
       "      <td>2019.00</td>\n",
       "      <td>199898</td>\n",
       "      <td>46950</td>\n",
       "      <td>31792</td>\n",
       "      <td>15158</td>\n",
       "      <td>20231103</td>\n",
       "    </tr>\n",
       "    <tr>\n",
       "      <th>1</th>\n",
       "      <td>서울</td>\n",
       "      <td>2020.00</td>\n",
       "      <td>161864</td>\n",
       "      <td>38034</td>\n",
       "      <td>23045</td>\n",
       "      <td>14989</td>\n",
       "      <td>20231103</td>\n",
       "    </tr>\n",
       "    <tr>\n",
       "      <th>2</th>\n",
       "      <td>서울</td>\n",
       "      <td>2021.00</td>\n",
       "      <td>138381</td>\n",
       "      <td>23483</td>\n",
       "      <td>8148</td>\n",
       "      <td>15335</td>\n",
       "      <td>20231103</td>\n",
       "    </tr>\n",
       "    <tr>\n",
       "      <th>3</th>\n",
       "      <td>서울</td>\n",
       "      <td>2022.00</td>\n",
       "      <td>120996</td>\n",
       "      <td>17385</td>\n",
       "      <td>2476</td>\n",
       "      <td>14909</td>\n",
       "      <td>20231103</td>\n",
       "    </tr>\n",
       "    <tr>\n",
       "      <th>4</th>\n",
       "      <td>인천</td>\n",
       "      <td>2019.00</td>\n",
       "      <td>90619</td>\n",
       "      <td>20597</td>\n",
       "      <td>16422</td>\n",
       "      <td>4175</td>\n",
       "      <td>20231103</td>\n",
       "    </tr>\n",
       "  </tbody>\n",
       "</table>\n",
       "</div>"
      ],
      "text/plain": [
       "  RGN      YR  VHCL_MKCNT  VHCL_REDE  ELPDSRC  NTRL_DCLN   LOAD_DT\n",
       "0  서울 2019.00      199898      46950    31792      15158  20231103\n",
       "1  서울 2020.00      161864      38034    23045      14989  20231103\n",
       "2  서울 2021.00      138381      23483     8148      15335  20231103\n",
       "3  서울 2022.00      120996      17385     2476      14909  20231103\n",
       "4  인천 2019.00       90619      20597    16422       4175  20231103"
      ]
     },
     "execution_count": 2424,
     "metadata": {},
     "output_type": "execute_result"
    }
   ],
   "source": [
    "STD_BD_GRD5_ELPDSRC_CURSTT.head()"
   ]
  },
  {
   "cell_type": "code",
   "execution_count": 2425,
   "id": "09a485ab-0fd8-4d98-96b3-429b5e7a1762",
   "metadata": {
    "tags": []
   },
   "outputs": [
    {
     "name": "stdout",
     "output_type": "stream",
     "text": [
      "<class 'pandas.core.frame.DataFrame'>\n",
      "Index: 68 entries, 0 to 67\n",
      "Data columns (total 7 columns):\n",
      " #   Column      Non-Null Count  Dtype  \n",
      "---  ------      --------------  -----  \n",
      " 0   RGN         68 non-null     object \n",
      " 1   YR          68 non-null     float64\n",
      " 2   VHCL_MKCNT  68 non-null     int64  \n",
      " 3   VHCL_REDE   68 non-null     int64  \n",
      " 4   ELPDSRC     68 non-null     int64  \n",
      " 5   NTRL_DCLN   68 non-null     int64  \n",
      " 6   LOAD_DT     68 non-null     object \n",
      "dtypes: float64(1), int64(4), object(2)\n",
      "memory usage: 4.2+ KB\n"
     ]
    }
   ],
   "source": [
    "STD_BD_GRD5_ELPDSRC_CURSTT.info()"
   ]
  },
  {
   "cell_type": "markdown",
   "id": "0e4c9105-8e91-4fc1-95f2-abd8eea6eb2d",
   "metadata": {},
   "source": [
    "### [출력] [D] STD_BD_GRD5_ELPDSRC_CURSTT"
   ]
  },
  {
   "cell_type": "code",
   "execution_count": 2426,
   "id": "c36df10f-b0f6-4ec3-b256-4f6162db9870",
   "metadata": {},
   "outputs": [],
   "source": [
    "# expdf = STD_BD_GRD5_ELPDSRC_CURSTT\n",
    "# table_nm = 'STD_BD_GRD5_ELPDSRC_CURSTT'.upper()\n",
    "\n",
    "# # 테이블 생성\n",
    "# sql = 'create or replace table ' + table_nm + '( \\n'\n",
    "\n",
    "# for idx,column in enumerate(expdf.columns):\n",
    "#     if 'float' in expdf[column].dtype.name:\n",
    "#         sql += column + ' float'\n",
    "#     elif 'int' in expdf[column].dtype.name:\n",
    "#         sql += column + ' number'\n",
    "#     else:\n",
    "#         sql += column + ' varchar(255)'\n",
    "\n",
    "#     if len(expdf.columns) - 1 != idx:\n",
    "#         sql += ','\n",
    "#     sql += '\\n'\n",
    "# sql += ')'    \n",
    "# we.execute(sql)\n",
    "\n",
    "# # 데이터 추가\n",
    "# # 5s\n",
    "# we.import_from_pandas(expdf, table_nm)\n",
    "\n",
    "# print(f'data export : {table_nm}')"
   ]
  },
  {
   "cell_type": "code",
   "execution_count": 2427,
   "id": "6ec606ba-00bf-4d29-867c-53d3b7789aa7",
   "metadata": {},
   "outputs": [],
   "source": [
    "## 5등급 지역별 저공해미조치 차량현황\n",
    "today_date = datetime.today().strftime(\"%Y%m%d\")\n",
    "no_dpf['테이블생성일자'] = today_date\n",
    "cdict = {\n",
    "    '테이블생성일자':'LOAD_DT',\n",
    "    '지역':'RGN',\n",
    "    '구분':'SEASON',\n",
    "    '차량대수':'VHCL_MKCNT', \n",
    "}\n",
    "STD_BD_GRD5_LEM_N_MOD = no_dpf.rename(columns=cdict)"
   ]
  },
  {
   "cell_type": "code",
   "execution_count": 2428,
   "id": "e73d48e1-6c91-4d53-b3b5-27a6cd0d180b",
   "metadata": {},
   "outputs": [
    {
     "data": {
      "text/plain": [
       "Index(['RGN', 'SEASON', 'VHCL_MKCNT', 'LOAD_DT'], dtype='object')"
      ]
     },
     "execution_count": 2428,
     "metadata": {},
     "output_type": "execute_result"
    }
   ],
   "source": [
    "STD_BD_GRD5_LEM_N_MOD.columns"
   ]
  },
  {
   "cell_type": "code",
   "execution_count": 2429,
   "id": "580c07eb-61e5-4a4e-8124-60977d18aba3",
   "metadata": {
    "tags": []
   },
   "outputs": [
    {
     "data": {
      "text/html": [
       "<div>\n",
       "<style scoped>\n",
       "    .dataframe tbody tr th:only-of-type {\n",
       "        vertical-align: middle;\n",
       "    }\n",
       "\n",
       "    .dataframe tbody tr th {\n",
       "        vertical-align: top;\n",
       "    }\n",
       "\n",
       "    .dataframe thead th {\n",
       "        text-align: right;\n",
       "    }\n",
       "</style>\n",
       "<table border=\"1\" class=\"dataframe\">\n",
       "  <thead>\n",
       "    <tr style=\"text-align: right;\">\n",
       "      <th></th>\n",
       "      <th>RGN</th>\n",
       "      <th>SEASON</th>\n",
       "      <th>VHCL_MKCNT</th>\n",
       "      <th>LOAD_DT</th>\n",
       "    </tr>\n",
       "  </thead>\n",
       "  <tbody>\n",
       "    <tr>\n",
       "      <th>0</th>\n",
       "      <td>수도권</td>\n",
       "      <td>2차계절제_시작</td>\n",
       "      <td>539,748</td>\n",
       "      <td>20231103</td>\n",
       "    </tr>\n",
       "    <tr>\n",
       "      <th>1</th>\n",
       "      <td>수도권</td>\n",
       "      <td>2차계절제_종료</td>\n",
       "      <td>515,615</td>\n",
       "      <td>20231103</td>\n",
       "    </tr>\n",
       "    <tr>\n",
       "      <th>2</th>\n",
       "      <td>수도권</td>\n",
       "      <td>3차계절제_시작</td>\n",
       "      <td>459,110</td>\n",
       "      <td>20231103</td>\n",
       "    </tr>\n",
       "    <tr>\n",
       "      <th>3</th>\n",
       "      <td>수도권</td>\n",
       "      <td>3차계절제_종료</td>\n",
       "      <td>436,921</td>\n",
       "      <td>20231103</td>\n",
       "    </tr>\n",
       "    <tr>\n",
       "      <th>4</th>\n",
       "      <td>수도권</td>\n",
       "      <td>4차계절제_시작</td>\n",
       "      <td>394,533</td>\n",
       "      <td>20231103</td>\n",
       "    </tr>\n",
       "  </tbody>\n",
       "</table>\n",
       "</div>"
      ],
      "text/plain": [
       "   RGN      SEASON VHCL_MKCNT   LOAD_DT\n",
       "0  수도권   2차계절제_시작    539,748   20231103\n",
       "1  수도권   2차계절제_종료    515,615   20231103\n",
       "2  수도권   3차계절제_시작    459,110   20231103\n",
       "3  수도권   3차계절제_종료    436,921   20231103\n",
       "4  수도권   4차계절제_시작    394,533   20231103"
      ]
     },
     "execution_count": 2429,
     "metadata": {},
     "output_type": "execute_result"
    }
   ],
   "source": [
    "STD_BD_GRD5_LEM_N_MOD.head()"
   ]
  },
  {
   "cell_type": "code",
   "execution_count": 2430,
   "id": "672b37d5-aaa2-405c-84fe-b757b460f610",
   "metadata": {
    "tags": []
   },
   "outputs": [],
   "source": [
    "STD_BD_GRD5_LEM_N_MOD['VHCL_MKCNT'] = STD_BD_GRD5_LEM_N_MOD['VHCL_MKCNT'].str.replace(',', '')\n",
    "STD_BD_GRD5_LEM_N_MOD['VHCL_MKCNT'] = pd.to_numeric(STD_BD_GRD5_LEM_N_MOD['VHCL_MKCNT'], errors='coerce')"
   ]
  },
  {
   "cell_type": "code",
   "execution_count": 2431,
   "id": "d36b270c-78b2-44d1-b4f9-2d5b64fa6a44",
   "metadata": {
    "tags": []
   },
   "outputs": [
    {
     "data": {
      "text/html": [
       "<div>\n",
       "<style scoped>\n",
       "    .dataframe tbody tr th:only-of-type {\n",
       "        vertical-align: middle;\n",
       "    }\n",
       "\n",
       "    .dataframe tbody tr th {\n",
       "        vertical-align: top;\n",
       "    }\n",
       "\n",
       "    .dataframe thead th {\n",
       "        text-align: right;\n",
       "    }\n",
       "</style>\n",
       "<table border=\"1\" class=\"dataframe\">\n",
       "  <thead>\n",
       "    <tr style=\"text-align: right;\">\n",
       "      <th></th>\n",
       "      <th>RGN</th>\n",
       "      <th>SEASON</th>\n",
       "      <th>VHCL_MKCNT</th>\n",
       "      <th>LOAD_DT</th>\n",
       "    </tr>\n",
       "  </thead>\n",
       "  <tbody>\n",
       "    <tr>\n",
       "      <th>0</th>\n",
       "      <td>수도권</td>\n",
       "      <td>2차계절제_시작</td>\n",
       "      <td>539748</td>\n",
       "      <td>20231103</td>\n",
       "    </tr>\n",
       "    <tr>\n",
       "      <th>1</th>\n",
       "      <td>수도권</td>\n",
       "      <td>2차계절제_종료</td>\n",
       "      <td>515615</td>\n",
       "      <td>20231103</td>\n",
       "    </tr>\n",
       "    <tr>\n",
       "      <th>2</th>\n",
       "      <td>수도권</td>\n",
       "      <td>3차계절제_시작</td>\n",
       "      <td>459110</td>\n",
       "      <td>20231103</td>\n",
       "    </tr>\n",
       "    <tr>\n",
       "      <th>3</th>\n",
       "      <td>수도권</td>\n",
       "      <td>3차계절제_종료</td>\n",
       "      <td>436921</td>\n",
       "      <td>20231103</td>\n",
       "    </tr>\n",
       "    <tr>\n",
       "      <th>4</th>\n",
       "      <td>수도권</td>\n",
       "      <td>4차계절제_시작</td>\n",
       "      <td>394533</td>\n",
       "      <td>20231103</td>\n",
       "    </tr>\n",
       "  </tbody>\n",
       "</table>\n",
       "</div>"
      ],
      "text/plain": [
       "   RGN      SEASON  VHCL_MKCNT   LOAD_DT\n",
       "0  수도권   2차계절제_시작       539748  20231103\n",
       "1  수도권   2차계절제_종료       515615  20231103\n",
       "2  수도권   3차계절제_시작       459110  20231103\n",
       "3  수도권   3차계절제_종료       436921  20231103\n",
       "4  수도권   4차계절제_시작       394533  20231103"
      ]
     },
     "execution_count": 2431,
     "metadata": {},
     "output_type": "execute_result"
    }
   ],
   "source": [
    "STD_BD_GRD5_LEM_N_MOD.head()"
   ]
  },
  {
   "cell_type": "code",
   "execution_count": 2432,
   "id": "914e0ba1-1f68-459d-a97a-21a2f3d25d1a",
   "metadata": {
    "tags": []
   },
   "outputs": [
    {
     "name": "stdout",
     "output_type": "stream",
     "text": [
      "<class 'pandas.core.frame.DataFrame'>\n",
      "RangeIndex: 12 entries, 0 to 11\n",
      "Data columns (total 4 columns):\n",
      " #   Column      Non-Null Count  Dtype \n",
      "---  ------      --------------  ----- \n",
      " 0   RGN         12 non-null     object\n",
      " 1   SEASON      12 non-null     object\n",
      " 2   VHCL_MKCNT  12 non-null     int64 \n",
      " 3   LOAD_DT     12 non-null     object\n",
      "dtypes: int64(1), object(3)\n",
      "memory usage: 512.0+ bytes\n"
     ]
    }
   ],
   "source": [
    "STD_BD_GRD5_LEM_N_MOD.info()"
   ]
  },
  {
   "cell_type": "markdown",
   "id": "07b3b442-095e-4391-b3ea-82072d45066c",
   "metadata": {},
   "source": [
    "### [출력] [D] STD_BD_GRD5_LEM_N_MOD"
   ]
  },
  {
   "cell_type": "code",
   "execution_count": 2433,
   "id": "c7810339-c648-41fa-a83e-ac1211abbca3",
   "metadata": {},
   "outputs": [],
   "source": [
    "# expdf = STD_BD_GRD5_LEM_N_MOD\n",
    "# table_nm = 'STD_BD_GRD5_LEM_N_MOD'.upper()\n",
    "\n",
    "# # 테이블 생성\n",
    "# sql = 'create or replace table ' + table_nm + '( \\n'\n",
    "\n",
    "# for idx,column in enumerate(expdf.columns):\n",
    "#     if 'float' in expdf[column].dtype.name:\n",
    "#         sql += column + ' float'\n",
    "#     elif 'int' in expdf[column].dtype.name:\n",
    "#         sql += column + ' number'\n",
    "#     else:\n",
    "#         sql += column + ' varchar(255)'\n",
    "\n",
    "#     if len(expdf.columns) - 1 != idx:\n",
    "#         sql += ','\n",
    "#     sql += '\\n'\n",
    "# sql += ')'    \n",
    "# we.execute(sql)\n",
    "\n",
    "# # 데이터 추가\n",
    "# # 5s\n",
    "# we.import_from_pandas(expdf, table_nm)\n",
    "\n",
    "# print(f'data export : {table_nm}')"
   ]
  },
  {
   "cell_type": "code",
   "execution_count": 2434,
   "id": "ee43bf60-b6e8-452d-9bd4-b6d1c5fbd32d",
   "metadata": {},
   "outputs": [],
   "source": [
    "## 차대번호별 운행제한 적발 현황\n",
    "# DNSTY_STDR_ID(농도기준아이디) : 실발령(C011), 모의발령(C012)\n",
    "# TY_STDR_ID(유형기준아이디) : 비상시(T001), 계절제(T002)\n",
    "is_season = is_total.loc[(is_total['농도기준아이디'] == 'C011') & (is_total['유형기준아이디'] == 'T002')].reset_index(drop=True)"
   ]
  },
  {
   "cell_type": "code",
   "execution_count": 2435,
   "id": "9d7dea92-cc8a-432f-9f8e-d43570cd83cd",
   "metadata": {
    "tags": []
   },
   "outputs": [
    {
     "name": "stderr",
     "output_type": "stream",
     "text": [
      "/home/svradm/miniconda3/lib/python3.8/site-packages/IPython/core/displayhook.py:281: UserWarning: Output cache limit (currently 1000 entries) hit.\n",
      "Flushing oldest 200 entries.\n",
      "  warn('Output cache limit (currently {sz} entries) hit.\\n'\n"
     ]
    },
    {
     "data": {
      "text/html": [
       "<div>\n",
       "<style scoped>\n",
       "    .dataframe tbody tr th:only-of-type {\n",
       "        vertical-align: middle;\n",
       "    }\n",
       "\n",
       "    .dataframe tbody tr th {\n",
       "        vertical-align: top;\n",
       "    }\n",
       "\n",
       "    .dataframe thead th {\n",
       "        text-align: right;\n",
       "    }\n",
       "</style>\n",
       "<table border=\"1\" class=\"dataframe\">\n",
       "  <thead>\n",
       "    <tr style=\"text-align: right;\">\n",
       "      <th></th>\n",
       "      <th>적발번호</th>\n",
       "      <th>발령번호</th>\n",
       "      <th>차대번호</th>\n",
       "      <th>등록시도코드</th>\n",
       "      <th>등록시군구코드</th>\n",
       "      <th>적발지역코드</th>\n",
       "      <th>단속일</th>\n",
       "      <th>유형기준아이디</th>\n",
       "      <th>농도기준아이디</th>\n",
       "      <th>등록시도</th>\n",
       "      <th>등록시군구</th>\n",
       "      <th>적발시도</th>\n",
       "      <th>적발시군구</th>\n",
       "      <th>적발지역</th>\n",
       "    </tr>\n",
       "  </thead>\n",
       "  <tbody>\n",
       "    <tr>\n",
       "      <th>0</th>\n",
       "      <td>3776087</td>\n",
       "      <td>429</td>\n",
       "      <td>KMFGA17PP6C029381</td>\n",
       "      <td>41</td>\n",
       "      <td>460</td>\n",
       "      <td>11000</td>\n",
       "      <td>NaN</td>\n",
       "      <td>T002</td>\n",
       "      <td>C011</td>\n",
       "      <td>경기도</td>\n",
       "      <td>용인시</td>\n",
       "      <td>서울특별시</td>\n",
       "      <td>NaN</td>\n",
       "      <td>수도권</td>\n",
       "    </tr>\n",
       "    <tr>\n",
       "      <th>1</th>\n",
       "      <td>3776081</td>\n",
       "      <td>429</td>\n",
       "      <td>KMFZSN7HP7U226746</td>\n",
       "      <td>28</td>\n",
       "      <td>260</td>\n",
       "      <td>11000</td>\n",
       "      <td>NaN</td>\n",
       "      <td>T002</td>\n",
       "      <td>C011</td>\n",
       "      <td>인천광역시</td>\n",
       "      <td>서구</td>\n",
       "      <td>서울특별시</td>\n",
       "      <td>NaN</td>\n",
       "      <td>수도권</td>\n",
       "    </tr>\n",
       "    <tr>\n",
       "      <th>2</th>\n",
       "      <td>3776077</td>\n",
       "      <td>429</td>\n",
       "      <td>KMHNN81WP1U011623</td>\n",
       "      <td>11</td>\n",
       "      <td>290</td>\n",
       "      <td>11000</td>\n",
       "      <td>NaN</td>\n",
       "      <td>T002</td>\n",
       "      <td>C011</td>\n",
       "      <td>서울특별시</td>\n",
       "      <td>성북구</td>\n",
       "      <td>서울특별시</td>\n",
       "      <td>NaN</td>\n",
       "      <td>수도권</td>\n",
       "    </tr>\n",
       "    <tr>\n",
       "      <th>3</th>\n",
       "      <td>3776102</td>\n",
       "      <td>429</td>\n",
       "      <td>KMJWWH7HP5U680797</td>\n",
       "      <td>41</td>\n",
       "      <td>170</td>\n",
       "      <td>11000</td>\n",
       "      <td>NaN</td>\n",
       "      <td>T002</td>\n",
       "      <td>C011</td>\n",
       "      <td>경기도</td>\n",
       "      <td>안양시</td>\n",
       "      <td>서울특별시</td>\n",
       "      <td>NaN</td>\n",
       "      <td>수도권</td>\n",
       "    </tr>\n",
       "    <tr>\n",
       "      <th>4</th>\n",
       "      <td>3776129</td>\n",
       "      <td>429</td>\n",
       "      <td>KPDKFDNF16P036260</td>\n",
       "      <td>28</td>\n",
       "      <td>237</td>\n",
       "      <td>11000</td>\n",
       "      <td>NaN</td>\n",
       "      <td>T002</td>\n",
       "      <td>C011</td>\n",
       "      <td>인천광역시</td>\n",
       "      <td>부평구</td>\n",
       "      <td>서울특별시</td>\n",
       "      <td>NaN</td>\n",
       "      <td>수도권</td>\n",
       "    </tr>\n",
       "  </tbody>\n",
       "</table>\n",
       "</div>"
      ],
      "text/plain": [
       "      적발번호  발령번호               차대번호  등록시도코드  등록시군구코드 적발지역코드  단속일 유형기준아이디   \n",
       "0  3776087   429  KMFGA17PP6C029381      41      460  11000  NaN    T002  \\\n",
       "1  3776081   429  KMFZSN7HP7U226746      28      260  11000  NaN    T002   \n",
       "2  3776077   429  KMHNN81WP1U011623      11      290  11000  NaN    T002   \n",
       "3  3776102   429  KMJWWH7HP5U680797      41      170  11000  NaN    T002   \n",
       "4  3776129   429  KPDKFDNF16P036260      28      237  11000  NaN    T002   \n",
       "\n",
       "  농도기준아이디   등록시도 등록시군구   적발시도 적발시군구 적발지역  \n",
       "0    C011    경기도   용인시  서울특별시   NaN  수도권  \n",
       "1    C011  인천광역시    서구  서울특별시   NaN  수도권  \n",
       "2    C011  서울특별시   성북구  서울특별시   NaN  수도권  \n",
       "3    C011    경기도   안양시  서울특별시   NaN  수도권  \n",
       "4    C011  인천광역시   부평구  서울특별시   NaN  수도권  "
      ]
     },
     "execution_count": 2435,
     "metadata": {},
     "output_type": "execute_result"
    }
   ],
   "source": [
    "is_season.head()"
   ]
  },
  {
   "cell_type": "code",
   "execution_count": 2436,
   "id": "c30ce1c3-8674-4677-9644-979091fbadd9",
   "metadata": {
    "tags": []
   },
   "outputs": [
    {
     "data": {
      "text/plain": [
       "((16382044,), 452851)"
      ]
     },
     "execution_count": 2436,
     "metadata": {},
     "output_type": "execute_result"
    }
   ],
   "source": [
    "is_season['차대번호'].shape, len(is_season['차대번호'].unique())"
   ]
  },
  {
   "cell_type": "code",
   "execution_count": 2437,
   "id": "bc178648-1bbf-4989-8e5d-5668a4be35e7",
   "metadata": {},
   "outputs": [],
   "source": [
    "today_date = datetime.today().strftime(\"%Y%m%d\")\n",
    "for yr in range(2019, int(today_date[:4])):\n",
    "    start_date = f'{yr}1130'\n",
    "    end_date = f'{yr+1}0401'\n",
    "    is_season.loc[(is_season['단속일'] > int(start_date)) & (is_season['단속일'] < int(end_date)), f'계절제_{yr-2018}차여부'] = 'Y'"
   ]
  },
  {
   "cell_type": "code",
   "execution_count": 2438,
   "id": "80d8efb7-11df-458b-9167-f6aa3ef52862",
   "metadata": {},
   "outputs": [],
   "source": [
    "agg_dict = {x:'count' for x in is_season.columns if '계절제' in x}\n",
    "limit_season_rename_dict = {x:x.replace('여부','') for x in agg_dict.keys()}"
   ]
  },
  {
   "cell_type": "code",
   "execution_count": 2439,
   "id": "53c2d48c-19d9-46cf-b65f-7818edd9c2fc",
   "metadata": {},
   "outputs": [],
   "source": [
    "limit_season = is_season.groupby(['차대번호'], as_index=False).agg(agg_dict)\n",
    "limit_season = limit_season.rename(columns=limit_season_rename_dict)"
   ]
  },
  {
   "cell_type": "code",
   "execution_count": 2440,
   "id": "54a5ebf0-90c2-4f5a-af3f-328e55d8a492",
   "metadata": {
    "tags": []
   },
   "outputs": [
    {
     "data": {
      "text/plain": [
       "((452851, 5), 452851)"
      ]
     },
     "execution_count": 2440,
     "metadata": {},
     "output_type": "execute_result"
    }
   ],
   "source": [
    "limit_season.shape, len(limit_season['차대번호'].unique())"
   ]
  },
  {
   "cell_type": "code",
   "execution_count": 2441,
   "id": "c9f1eb63-280d-436f-949f-9ef2d282ba2d",
   "metadata": {},
   "outputs": [],
   "source": [
    "# 11.0s\n",
    "# DNSTY_STDR_ID(농도기준아이디) : 실발령(C011), 모의발령(C012)\n",
    "# TY_STDR_ID(유형기준아이디) : 비상시(T001), 계절제(T002)\n",
    "is_high = is_total.loc[(is_total['농도기준아이디'] == 'C011') & (is_total['유형기준아이디'] == 'T001')].reset_index(drop=True)\n",
    "limit_high = is_high.groupby(['차대번호'], as_index=False).agg({'단속일':'count'})\n",
    "limit_high = limit_high.rename(columns={'단속일':'비상시'})"
   ]
  },
  {
   "cell_type": "code",
   "execution_count": 2442,
   "id": "8c4ea5e3-b77b-4920-8b11-b2eac2f616f6",
   "metadata": {},
   "outputs": [],
   "source": [
    "limit_alw = us_total.groupby('차대번호', as_index=False).agg({'적발건수':'sum'})\n",
    "limit_alw = limit_alw.rename(columns={'적발건수':'상시'})\n",
    "limit_sh = limit_season.merge(limit_high, on='차대번호', how='left')\n",
    "limit = limit_sh.merge(limit_alw, on='차대번호', how='left')"
   ]
  },
  {
   "cell_type": "code",
   "execution_count": 2443,
   "id": "c9e3d851-8b8d-466e-801c-089e34ff015f",
   "metadata": {
    "tags": []
   },
   "outputs": [
    {
     "data": {
      "text/plain": [
       "(452851, 7)"
      ]
     },
     "execution_count": 2443,
     "metadata": {},
     "output_type": "execute_result"
    }
   ],
   "source": [
    "limit.shape"
   ]
  },
  {
   "cell_type": "code",
   "execution_count": 2444,
   "id": "62591bd8-7a29-424d-8bbc-30aa679d82e6",
   "metadata": {},
   "outputs": [],
   "source": [
    "limit.iloc[:, 1:] = limit.iloc[:, 1:].fillna(0)\n",
    "limit['비상시'] = limit['비상시'].astype('int')\n",
    "limit['상시'] = limit['상시'].astype('int')"
   ]
  },
  {
   "cell_type": "code",
   "execution_count": 2445,
   "id": "d4335e25-245d-48e9-a3e3-83fdcd1af2d8",
   "metadata": {
    "tags": []
   },
   "outputs": [
    {
     "data": {
      "text/plain": [
       "((933682, 30), 933682)"
      ]
     },
     "execution_count": 2445,
     "metadata": {},
     "output_type": "execute_result"
    }
   ],
   "source": [
    "df.shape, len(df['차대번호'].unique())"
   ]
  },
  {
   "cell_type": "code",
   "execution_count": 2446,
   "id": "455b31a9-2dde-495c-8144-2df2eaa165a8",
   "metadata": {},
   "outputs": [],
   "source": [
    "lmt1 = df.merge(limit, on='차대번호', how='left')\n",
    "lmt1.loc[(lmt1['시도'] == '서울특별시') | (lmt1['시도'] == '경기도') | (lmt1['시도'] == '인천광역시'), '지역'] = '수도권'\n",
    "lmt1['지역'] = lmt1['지역'].fillna('수도권외')\n",
    "lmt1['DPF_YN'] = lmt1['DPF_YN'].fillna('무')"
   ]
  },
  {
   "cell_type": "code",
   "execution_count": 2447,
   "id": "d7f50fd8-b8d8-4cba-bd5b-a7d41d47431a",
   "metadata": {
    "tags": []
   },
   "outputs": [
    {
     "data": {
      "text/plain": [
       "(933682, 37)"
      ]
     },
     "execution_count": 2447,
     "metadata": {},
     "output_type": "execute_result"
    }
   ],
   "source": [
    "lmt1.shape"
   ]
  },
  {
   "cell_type": "code",
   "execution_count": 2448,
   "id": "41d20c63-0409-4bed-b965-f5ebd275375f",
   "metadata": {},
   "outputs": [],
   "source": [
    "season_start_date = datetime(2020, 12, 1)\n",
    "season_end_date = datetime(2021, 3, 31)\n",
    "days = (season_end_date - season_start_date).days\n",
    "for one in [x for x in limit_season_rename_dict.values()]:\n",
    "    lmt1[one + '_일평균'] = lmt1[one] / days"
   ]
  },
  {
   "cell_type": "code",
   "execution_count": 2449,
   "id": "cdb0649f-8f0c-4fe1-a049-d2ed73dc074b",
   "metadata": {},
   "outputs": [],
   "source": [
    "today_date = datetime.today().strftime(\"%Y%m%d\")\n",
    "lmt1['테이블생성일자'] = today_date\n",
    "season_col = ['테이블생성일자', '차대번호'] + ['지역', '시도', 'DPF_YN', '차종', '차종유형'] + [x for x in limit_season_rename_dict.values()]\n",
    "lmt1[[x for x in limit_season_rename_dict.values()] + [x + '_일평균' for x in limit_season_rename_dict.values()]] = lmt1[[x for x in limit_season_rename_dict.values()] + [x + '_일평균' for x in limit_season_rename_dict.values()]].fillna(0)\n",
    "season = lmt1[season_col]\n",
    "cdict = {\n",
    "    '테이블생성일자':'LOAD_DT', \n",
    "    '차대번호':'VIN', \n",
    "    '지역':'RGN', \n",
    "    '시도':'CTPV', \n",
    "    'DPF_YN':'DPF_EXTRNS_YN', \n",
    "    '차종':'VHCTY_CD', \n",
    "    '차종유형':'VHCTY_TY', \n",
    "}\n",
    "for one in limit_season_rename_dict.values():\n",
    "    cdict[one] = one.replace('계절제', 'SEASON').replace('차', 'ODR_CRDN_NOCS')\n",
    "STD_BD_SEASON_CRDN_NOCS_CURSTT = season.rename(columns=cdict)"
   ]
  },
  {
   "cell_type": "code",
   "execution_count": 2450,
   "id": "36b7ecb1-1e03-4296-be0d-0975f01b4000",
   "metadata": {},
   "outputs": [
    {
     "data": {
      "text/plain": [
       "Index(['LOAD_DT', 'VIN', 'RGN', 'CTPV', 'DPF_EXTRNS_YN', 'VHCTY_CD',\n",
       "       'VHCTY_TY', 'SEASON_1ODR_CRDN_NOCS', 'SEASON_2ODR_CRDN_NOCS',\n",
       "       'SEASON_3ODR_CRDN_NOCS', 'SEASON_4ODR_CRDN_NOCS'],\n",
       "      dtype='object')"
      ]
     },
     "execution_count": 2450,
     "metadata": {},
     "output_type": "execute_result"
    }
   ],
   "source": [
    "STD_BD_SEASON_CRDN_NOCS_CURSTT.columns"
   ]
  },
  {
   "cell_type": "code",
   "execution_count": 2451,
   "id": "eeb24ed4-7efc-45ed-8a62-80268233d21e",
   "metadata": {
    "tags": []
   },
   "outputs": [
    {
     "data": {
      "text/plain": [
       "0"
      ]
     },
     "execution_count": 2451,
     "metadata": {},
     "output_type": "execute_result"
    }
   ],
   "source": [
    "STD_BD_SEASON_CRDN_NOCS_CURSTT['CTPV'].isnull().sum()"
   ]
  },
  {
   "cell_type": "markdown",
   "id": "74a574d8-568f-436b-809d-bb8b899e9c6e",
   "metadata": {},
   "source": [
    "### [출력] STD_BD_SEASON_CRDN_NOCS_CURSTT"
   ]
  },
  {
   "cell_type": "code",
   "execution_count": 2452,
   "id": "7eafcad0-f3db-4718-a1cd-090e53885228",
   "metadata": {},
   "outputs": [],
   "source": [
    "# expdf = STD_BD_SEASON_CRDN_NOCS_CURSTT\n",
    "# table_nm = 'STD_BD_SEASON_CRDN_NOCS_CURSTT'.upper()\n",
    "\n",
    "# # 테이블 생성\n",
    "# sql = 'create or replace table ' + table_nm + '( \\n'\n",
    "\n",
    "# for idx,column in enumerate(expdf.columns):\n",
    "#     sql += column + ' varchar(255)'\n",
    "\n",
    "#     if len(expdf.columns) - 1 != idx:\n",
    "#         sql += ','\n",
    "#     sql += '\\n'\n",
    "# sql += ')'    \n",
    "# we.execute(sql)\n",
    "\n",
    "# # 데이터 추가\n",
    "# # 5s\n",
    "# we.import_from_pandas(expdf, table_nm)\n",
    "\n",
    "# print(f'data export : {table_nm}')"
   ]
  },
  {
   "cell_type": "code",
   "execution_count": null,
   "id": "501a196b-a7d8-486c-8290-b8a811b38fae",
   "metadata": {},
   "outputs": [],
   "source": []
  },
  {
   "cell_type": "code",
   "execution_count": 2453,
   "id": "f7cde65f-3eac-4142-95c8-ca12f9c49252",
   "metadata": {},
   "outputs": [],
   "source": [
    "### !!! 수정 시작(2023.09.06)\n",
    "#### 계절관리제 적발 차량 현황(건)"
   ]
  },
  {
   "cell_type": "code",
   "execution_count": 2454,
   "id": "59f179f5-0f98-4249-930e-f0630101b39e",
   "metadata": {},
   "outputs": [
    {
     "data": {
      "text/html": [
       "<div>\n",
       "<style scoped>\n",
       "    .dataframe tbody tr th:only-of-type {\n",
       "        vertical-align: middle;\n",
       "    }\n",
       "\n",
       "    .dataframe tbody tr th {\n",
       "        vertical-align: top;\n",
       "    }\n",
       "\n",
       "    .dataframe thead th {\n",
       "        text-align: right;\n",
       "    }\n",
       "</style>\n",
       "<table border=\"1\" class=\"dataframe\">\n",
       "  <thead>\n",
       "    <tr style=\"text-align: right;\">\n",
       "      <th></th>\n",
       "      <th>적발번호</th>\n",
       "      <th>발령번호</th>\n",
       "      <th>차대번호</th>\n",
       "      <th>등록시도코드</th>\n",
       "      <th>등록시군구코드</th>\n",
       "      <th>적발지역코드</th>\n",
       "      <th>단속일</th>\n",
       "      <th>유형기준아이디</th>\n",
       "      <th>농도기준아이디</th>\n",
       "      <th>등록시도</th>\n",
       "      <th>등록시군구</th>\n",
       "      <th>적발시도</th>\n",
       "      <th>적발시군구</th>\n",
       "      <th>적발지역</th>\n",
       "      <th>계절제_1차여부</th>\n",
       "      <th>계절제_2차여부</th>\n",
       "      <th>계절제_3차여부</th>\n",
       "      <th>계절제_4차여부</th>\n",
       "    </tr>\n",
       "  </thead>\n",
       "  <tbody>\n",
       "    <tr>\n",
       "      <th>0</th>\n",
       "      <td>3776087</td>\n",
       "      <td>429</td>\n",
       "      <td>KMFGA17PP6C029381</td>\n",
       "      <td>41</td>\n",
       "      <td>460</td>\n",
       "      <td>11000</td>\n",
       "      <td>NaN</td>\n",
       "      <td>T002</td>\n",
       "      <td>C011</td>\n",
       "      <td>경기도</td>\n",
       "      <td>용인시</td>\n",
       "      <td>서울특별시</td>\n",
       "      <td>NaN</td>\n",
       "      <td>수도권</td>\n",
       "      <td>NaN</td>\n",
       "      <td>NaN</td>\n",
       "      <td>NaN</td>\n",
       "      <td>NaN</td>\n",
       "    </tr>\n",
       "    <tr>\n",
       "      <th>1</th>\n",
       "      <td>3776081</td>\n",
       "      <td>429</td>\n",
       "      <td>KMFZSN7HP7U226746</td>\n",
       "      <td>28</td>\n",
       "      <td>260</td>\n",
       "      <td>11000</td>\n",
       "      <td>NaN</td>\n",
       "      <td>T002</td>\n",
       "      <td>C011</td>\n",
       "      <td>인천광역시</td>\n",
       "      <td>서구</td>\n",
       "      <td>서울특별시</td>\n",
       "      <td>NaN</td>\n",
       "      <td>수도권</td>\n",
       "      <td>NaN</td>\n",
       "      <td>NaN</td>\n",
       "      <td>NaN</td>\n",
       "      <td>NaN</td>\n",
       "    </tr>\n",
       "    <tr>\n",
       "      <th>2</th>\n",
       "      <td>3776077</td>\n",
       "      <td>429</td>\n",
       "      <td>KMHNN81WP1U011623</td>\n",
       "      <td>11</td>\n",
       "      <td>290</td>\n",
       "      <td>11000</td>\n",
       "      <td>NaN</td>\n",
       "      <td>T002</td>\n",
       "      <td>C011</td>\n",
       "      <td>서울특별시</td>\n",
       "      <td>성북구</td>\n",
       "      <td>서울특별시</td>\n",
       "      <td>NaN</td>\n",
       "      <td>수도권</td>\n",
       "      <td>NaN</td>\n",
       "      <td>NaN</td>\n",
       "      <td>NaN</td>\n",
       "      <td>NaN</td>\n",
       "    </tr>\n",
       "    <tr>\n",
       "      <th>3</th>\n",
       "      <td>3776102</td>\n",
       "      <td>429</td>\n",
       "      <td>KMJWWH7HP5U680797</td>\n",
       "      <td>41</td>\n",
       "      <td>170</td>\n",
       "      <td>11000</td>\n",
       "      <td>NaN</td>\n",
       "      <td>T002</td>\n",
       "      <td>C011</td>\n",
       "      <td>경기도</td>\n",
       "      <td>안양시</td>\n",
       "      <td>서울특별시</td>\n",
       "      <td>NaN</td>\n",
       "      <td>수도권</td>\n",
       "      <td>NaN</td>\n",
       "      <td>NaN</td>\n",
       "      <td>NaN</td>\n",
       "      <td>NaN</td>\n",
       "    </tr>\n",
       "    <tr>\n",
       "      <th>4</th>\n",
       "      <td>3776129</td>\n",
       "      <td>429</td>\n",
       "      <td>KPDKFDNF16P036260</td>\n",
       "      <td>28</td>\n",
       "      <td>237</td>\n",
       "      <td>11000</td>\n",
       "      <td>NaN</td>\n",
       "      <td>T002</td>\n",
       "      <td>C011</td>\n",
       "      <td>인천광역시</td>\n",
       "      <td>부평구</td>\n",
       "      <td>서울특별시</td>\n",
       "      <td>NaN</td>\n",
       "      <td>수도권</td>\n",
       "      <td>NaN</td>\n",
       "      <td>NaN</td>\n",
       "      <td>NaN</td>\n",
       "      <td>NaN</td>\n",
       "    </tr>\n",
       "  </tbody>\n",
       "</table>\n",
       "</div>"
      ],
      "text/plain": [
       "      적발번호  발령번호               차대번호  등록시도코드  등록시군구코드 적발지역코드  단속일 유형기준아이디   \n",
       "0  3776087   429  KMFGA17PP6C029381      41      460  11000  NaN    T002  \\\n",
       "1  3776081   429  KMFZSN7HP7U226746      28      260  11000  NaN    T002   \n",
       "2  3776077   429  KMHNN81WP1U011623      11      290  11000  NaN    T002   \n",
       "3  3776102   429  KMJWWH7HP5U680797      41      170  11000  NaN    T002   \n",
       "4  3776129   429  KPDKFDNF16P036260      28      237  11000  NaN    T002   \n",
       "\n",
       "  농도기준아이디   등록시도 등록시군구   적발시도 적발시군구 적발지역 계절제_1차여부 계절제_2차여부 계절제_3차여부 계절제_4차여부  \n",
       "0    C011    경기도   용인시  서울특별시   NaN  수도권      NaN      NaN      NaN      NaN  \n",
       "1    C011  인천광역시    서구  서울특별시   NaN  수도권      NaN      NaN      NaN      NaN  \n",
       "2    C011  서울특별시   성북구  서울특별시   NaN  수도권      NaN      NaN      NaN      NaN  \n",
       "3    C011    경기도   안양시  서울특별시   NaN  수도권      NaN      NaN      NaN      NaN  \n",
       "4    C011  인천광역시   부평구  서울특별시   NaN  수도권      NaN      NaN      NaN      NaN  "
      ]
     },
     "execution_count": 2454,
     "metadata": {},
     "output_type": "execute_result"
    }
   ],
   "source": [
    "is_season.head()"
   ]
  },
  {
   "cell_type": "code",
   "execution_count": 2455,
   "id": "7ab19a14-8bdc-42c7-80d5-5c4969194880",
   "metadata": {},
   "outputs": [
    {
     "data": {
      "text/plain": [
       "dict_keys(['계절제_1차여부', '계절제_2차여부', '계절제_3차여부', '계절제_4차여부'])"
      ]
     },
     "execution_count": 2455,
     "metadata": {},
     "output_type": "execute_result"
    }
   ],
   "source": [
    "agg_dict.keys()"
   ]
  },
  {
   "cell_type": "code",
   "execution_count": 2456,
   "id": "5014b846-3aab-4385-8f9f-912a4b96686e",
   "metadata": {},
   "outputs": [
    {
     "data": {
      "text/html": [
       "<div>\n",
       "<style scoped>\n",
       "    .dataframe tbody tr th:only-of-type {\n",
       "        vertical-align: middle;\n",
       "    }\n",
       "\n",
       "    .dataframe tbody tr th {\n",
       "        vertical-align: top;\n",
       "    }\n",
       "\n",
       "    .dataframe thead th {\n",
       "        text-align: right;\n",
       "    }\n",
       "</style>\n",
       "<table border=\"1\" class=\"dataframe\">\n",
       "  <thead>\n",
       "    <tr style=\"text-align: right;\">\n",
       "      <th></th>\n",
       "      <th>적발번호</th>\n",
       "      <th>발령번호</th>\n",
       "      <th>차대번호</th>\n",
       "      <th>등록시도코드</th>\n",
       "      <th>등록시군구코드</th>\n",
       "      <th>적발지역코드</th>\n",
       "      <th>단속일</th>\n",
       "      <th>유형기준아이디</th>\n",
       "      <th>농도기준아이디</th>\n",
       "      <th>등록시도</th>\n",
       "      <th>등록시군구</th>\n",
       "      <th>적발시도</th>\n",
       "      <th>적발시군구</th>\n",
       "      <th>적발지역</th>\n",
       "      <th>계절제_1차여부</th>\n",
       "      <th>계절제_2차여부</th>\n",
       "      <th>계절제_3차여부</th>\n",
       "      <th>계절제_4차여부</th>\n",
       "    </tr>\n",
       "  </thead>\n",
       "  <tbody>\n",
       "    <tr>\n",
       "      <th>21</th>\n",
       "      <td>3776297</td>\n",
       "      <td>429</td>\n",
       "      <td>KMFZCD7JP8U336452</td>\n",
       "      <td>11</td>\n",
       "      <td>215</td>\n",
       "      <td>41450</td>\n",
       "      <td>20201201.00</td>\n",
       "      <td>T002</td>\n",
       "      <td>C011</td>\n",
       "      <td>서울특별시</td>\n",
       "      <td>광진구</td>\n",
       "      <td>경기도</td>\n",
       "      <td>하남시</td>\n",
       "      <td>수도권</td>\n",
       "      <td>NaN</td>\n",
       "      <td>Y</td>\n",
       "      <td>NaN</td>\n",
       "      <td>NaN</td>\n",
       "    </tr>\n",
       "    <tr>\n",
       "      <th>52</th>\n",
       "      <td>3776848</td>\n",
       "      <td>429</td>\n",
       "      <td>KMFZCS7JP8U367111</td>\n",
       "      <td>41</td>\n",
       "      <td>280</td>\n",
       "      <td>41280</td>\n",
       "      <td>20201201.00</td>\n",
       "      <td>T002</td>\n",
       "      <td>C011</td>\n",
       "      <td>경기도</td>\n",
       "      <td>고양시</td>\n",
       "      <td>경기도</td>\n",
       "      <td>고양시</td>\n",
       "      <td>수도권</td>\n",
       "      <td>NaN</td>\n",
       "      <td>Y</td>\n",
       "      <td>NaN</td>\n",
       "      <td>NaN</td>\n",
       "    </tr>\n",
       "    <tr>\n",
       "      <th>53</th>\n",
       "      <td>3776793</td>\n",
       "      <td>429</td>\n",
       "      <td>KMFZCD7JP5U085713</td>\n",
       "      <td>41</td>\n",
       "      <td>610</td>\n",
       "      <td>41130</td>\n",
       "      <td>20201201.00</td>\n",
       "      <td>T002</td>\n",
       "      <td>C011</td>\n",
       "      <td>경기도</td>\n",
       "      <td>광주시</td>\n",
       "      <td>경기도</td>\n",
       "      <td>성남시</td>\n",
       "      <td>수도권</td>\n",
       "      <td>NaN</td>\n",
       "      <td>Y</td>\n",
       "      <td>NaN</td>\n",
       "      <td>NaN</td>\n",
       "    </tr>\n",
       "    <tr>\n",
       "      <th>59</th>\n",
       "      <td>3777178</td>\n",
       "      <td>429</td>\n",
       "      <td>KMFZCD7JP7U241553</td>\n",
       "      <td>41</td>\n",
       "      <td>220</td>\n",
       "      <td>11000</td>\n",
       "      <td>20201201.00</td>\n",
       "      <td>T002</td>\n",
       "      <td>C011</td>\n",
       "      <td>경기도</td>\n",
       "      <td>평택시</td>\n",
       "      <td>서울특별시</td>\n",
       "      <td>NaN</td>\n",
       "      <td>수도권</td>\n",
       "      <td>NaN</td>\n",
       "      <td>Y</td>\n",
       "      <td>NaN</td>\n",
       "      <td>NaN</td>\n",
       "    </tr>\n",
       "    <tr>\n",
       "      <th>102</th>\n",
       "      <td>3777768</td>\n",
       "      <td>429</td>\n",
       "      <td>KMFZCS7JP8U370499</td>\n",
       "      <td>28</td>\n",
       "      <td>200</td>\n",
       "      <td>28000</td>\n",
       "      <td>20201201.00</td>\n",
       "      <td>T002</td>\n",
       "      <td>C011</td>\n",
       "      <td>인천광역시</td>\n",
       "      <td>남동구</td>\n",
       "      <td>인천광역시</td>\n",
       "      <td>NaN</td>\n",
       "      <td>수도권</td>\n",
       "      <td>NaN</td>\n",
       "      <td>Y</td>\n",
       "      <td>NaN</td>\n",
       "      <td>NaN</td>\n",
       "    </tr>\n",
       "  </tbody>\n",
       "</table>\n",
       "</div>"
      ],
      "text/plain": [
       "        적발번호  발령번호               차대번호  등록시도코드  등록시군구코드 적발지역코드         단속일   \n",
       "21   3776297   429  KMFZCD7JP8U336452      11      215  41450 20201201.00  \\\n",
       "52   3776848   429  KMFZCS7JP8U367111      41      280  41280 20201201.00   \n",
       "53   3776793   429  KMFZCD7JP5U085713      41      610  41130 20201201.00   \n",
       "59   3777178   429  KMFZCD7JP7U241553      41      220  11000 20201201.00   \n",
       "102  3777768   429  KMFZCS7JP8U370499      28      200  28000 20201201.00   \n",
       "\n",
       "    유형기준아이디 농도기준아이디   등록시도 등록시군구   적발시도 적발시군구 적발지역 계절제_1차여부 계절제_2차여부 계절제_3차여부   \n",
       "21     T002    C011  서울특별시   광진구    경기도   하남시  수도권      NaN        Y      NaN  \\\n",
       "52     T002    C011    경기도   고양시    경기도   고양시  수도권      NaN        Y      NaN   \n",
       "53     T002    C011    경기도   광주시    경기도   성남시  수도권      NaN        Y      NaN   \n",
       "59     T002    C011    경기도   평택시  서울특별시   NaN  수도권      NaN        Y      NaN   \n",
       "102    T002    C011  인천광역시   남동구  인천광역시   NaN  수도권      NaN        Y      NaN   \n",
       "\n",
       "    계절제_4차여부  \n",
       "21       NaN  \n",
       "52       NaN  \n",
       "53       NaN  \n",
       "59       NaN  \n",
       "102      NaN  "
      ]
     },
     "execution_count": 2456,
     "metadata": {},
     "output_type": "execute_result"
    }
   ],
   "source": [
    "lmt2 = is_season.sort_values(list(agg_dict.keys()))\n",
    "lmt2.head()"
   ]
  },
  {
   "cell_type": "code",
   "execution_count": 2457,
   "id": "f7e8a6d1-496e-40e5-85ea-fb3b89468e9b",
   "metadata": {},
   "outputs": [
    {
     "data": {
      "text/plain": [
       "(16382044, 18)"
      ]
     },
     "execution_count": 2457,
     "metadata": {},
     "output_type": "execute_result"
    }
   ],
   "source": [
    "lmt2.shape"
   ]
  },
  {
   "cell_type": "code",
   "execution_count": 2458,
   "id": "44380623-17f9-45da-8dc9-77a530ceb8ed",
   "metadata": {},
   "outputs": [
    {
     "data": {
      "text/plain": [
       "{'계절제_1차여부': 'count',\n",
       " '계절제_2차여부': 'count',\n",
       " '계절제_3차여부': 'count',\n",
       " '계절제_4차여부': 'count'}"
      ]
     },
     "execution_count": 2458,
     "metadata": {},
     "output_type": "execute_result"
    }
   ],
   "source": [
    "agg_dict"
   ]
  },
  {
   "cell_type": "code",
   "execution_count": 2459,
   "id": "bed2eeab-07bf-46ca-bf82-ceef0f509c5a",
   "metadata": {},
   "outputs": [
    {
     "data": {
      "text/plain": [
       "적발지역\n",
       "수도권     15429850\n",
       "수도권외      952194\n",
       "Name: count, dtype: int64"
      ]
     },
     "execution_count": 2459,
     "metadata": {},
     "output_type": "execute_result"
    }
   ],
   "source": [
    "lmt2['적발지역'].value_counts(dropna=False)"
   ]
  },
  {
   "cell_type": "code",
   "execution_count": 2460,
   "id": "908e73e0-3217-4eec-a4f6-cd88da7655c0",
   "metadata": {},
   "outputs": [
    {
     "data": {
      "text/plain": [
       "{'계절제_1차여부': '계절제_1차',\n",
       " '계절제_2차여부': '계절제_2차',\n",
       " '계절제_3차여부': '계절제_3차',\n",
       " '계절제_4차여부': '계절제_4차'}"
      ]
     },
     "execution_count": 2460,
     "metadata": {},
     "output_type": "execute_result"
    }
   ],
   "source": [
    "limit_season_rename_dict"
   ]
  },
  {
   "cell_type": "code",
   "execution_count": 2461,
   "id": "06c5b7b1-4ed8-45b6-acd4-af02bc25ee01",
   "metadata": {},
   "outputs": [
    {
     "data": {
      "text/html": [
       "<div>\n",
       "<style scoped>\n",
       "    .dataframe tbody tr th:only-of-type {\n",
       "        vertical-align: middle;\n",
       "    }\n",
       "\n",
       "    .dataframe tbody tr th {\n",
       "        vertical-align: top;\n",
       "    }\n",
       "\n",
       "    .dataframe thead th {\n",
       "        text-align: right;\n",
       "    }\n",
       "</style>\n",
       "<table border=\"1\" class=\"dataframe\">\n",
       "  <thead>\n",
       "    <tr style=\"text-align: right;\">\n",
       "      <th></th>\n",
       "      <th>적발지역</th>\n",
       "      <th>계절제_1차</th>\n",
       "      <th>계절제_2차</th>\n",
       "      <th>계절제_3차</th>\n",
       "      <th>계절제_4차</th>\n",
       "    </tr>\n",
       "  </thead>\n",
       "  <tbody>\n",
       "    <tr>\n",
       "      <th>0</th>\n",
       "      <td>수도권</td>\n",
       "      <td>0</td>\n",
       "      <td>191013</td>\n",
       "      <td>112739</td>\n",
       "      <td>37844</td>\n",
       "    </tr>\n",
       "    <tr>\n",
       "      <th>1</th>\n",
       "      <td>수도권외</td>\n",
       "      <td>0</td>\n",
       "      <td>0</td>\n",
       "      <td>0</td>\n",
       "      <td>45942</td>\n",
       "    </tr>\n",
       "  </tbody>\n",
       "</table>\n",
       "</div>"
      ],
      "text/plain": [
       "   적발지역  계절제_1차  계절제_2차  계절제_3차  계절제_4차\n",
       "0   수도권       0  191013  112739   37844\n",
       "1  수도권외       0       0       0   45942"
      ]
     },
     "execution_count": 2461,
     "metadata": {},
     "output_type": "execute_result"
    }
   ],
   "source": [
    "grp2 = lmt2.groupby(['적발지역']).agg(agg_dict).reset_index()\n",
    "grp2 = grp2.rename(columns=limit_season_rename_dict)\n",
    "grp2"
   ]
  },
  {
   "cell_type": "code",
   "execution_count": 2462,
   "id": "5031c8ab-506e-4524-ae67-a4a05708187b",
   "metadata": {},
   "outputs": [
    {
     "data": {
      "text/plain": [
       "120"
      ]
     },
     "execution_count": 2462,
     "metadata": {},
     "output_type": "execute_result"
    }
   ],
   "source": [
    "season_start_date = datetime(2020, 12, 1)\n",
    "season_end_date = datetime(2021, 3, 31)\n",
    "days = (season_end_date - season_start_date).days\n",
    "days"
   ]
  },
  {
   "cell_type": "code",
   "execution_count": 2463,
   "id": "aa5f2e77-c678-4a33-bca1-3cae53d51256",
   "metadata": {},
   "outputs": [
    {
     "data": {
      "text/plain": [
       "4"
      ]
     },
     "execution_count": 2463,
     "metadata": {},
     "output_type": "execute_result"
    }
   ],
   "source": [
    "len(limit_season_rename_dict)"
   ]
  },
  {
   "cell_type": "code",
   "execution_count": 2464,
   "id": "0a6aec81-120e-4dab-bc4b-c75815247f00",
   "metadata": {},
   "outputs": [
    {
     "name": "stdout",
     "output_type": "stream",
     "text": [
      "121\n",
      "120\n",
      "120\n",
      "120\n"
     ]
    }
   ],
   "source": [
    "for i, one in zip([x for x in range(len(limit_season_rename_dict))], [x for x in limit_season_rename_dict.values()]):\n",
    "    season_start_date = datetime(2019 + i, 12, 1)\n",
    "    season_end_date = datetime(2020 + i, 3, 31)\n",
    "    days = (season_end_date - season_start_date).days\n",
    "    grp2[one + '_일평균'] = grp2[one] / days\n",
    "    print(days)"
   ]
  },
  {
   "cell_type": "code",
   "execution_count": 2465,
   "id": "4316bbf1-bd1b-4621-b203-391a17648e98",
   "metadata": {},
   "outputs": [
    {
     "data": {
      "text/html": [
       "<div>\n",
       "<style scoped>\n",
       "    .dataframe tbody tr th:only-of-type {\n",
       "        vertical-align: middle;\n",
       "    }\n",
       "\n",
       "    .dataframe tbody tr th {\n",
       "        vertical-align: top;\n",
       "    }\n",
       "\n",
       "    .dataframe thead th {\n",
       "        text-align: right;\n",
       "    }\n",
       "</style>\n",
       "<table border=\"1\" class=\"dataframe\">\n",
       "  <thead>\n",
       "    <tr style=\"text-align: right;\">\n",
       "      <th></th>\n",
       "      <th>적발지역</th>\n",
       "      <th>계절제_1차</th>\n",
       "      <th>계절제_2차</th>\n",
       "      <th>계절제_3차</th>\n",
       "      <th>계절제_4차</th>\n",
       "      <th>계절제_1차_일평균</th>\n",
       "      <th>계절제_2차_일평균</th>\n",
       "      <th>계절제_3차_일평균</th>\n",
       "      <th>계절제_4차_일평균</th>\n",
       "    </tr>\n",
       "  </thead>\n",
       "  <tbody>\n",
       "    <tr>\n",
       "      <th>0</th>\n",
       "      <td>수도권</td>\n",
       "      <td>0</td>\n",
       "      <td>191013</td>\n",
       "      <td>112739</td>\n",
       "      <td>37844</td>\n",
       "      <td>0.00</td>\n",
       "      <td>1591.78</td>\n",
       "      <td>939.49</td>\n",
       "      <td>315.37</td>\n",
       "    </tr>\n",
       "    <tr>\n",
       "      <th>1</th>\n",
       "      <td>수도권외</td>\n",
       "      <td>0</td>\n",
       "      <td>0</td>\n",
       "      <td>0</td>\n",
       "      <td>45942</td>\n",
       "      <td>0.00</td>\n",
       "      <td>0.00</td>\n",
       "      <td>0.00</td>\n",
       "      <td>382.85</td>\n",
       "    </tr>\n",
       "  </tbody>\n",
       "</table>\n",
       "</div>"
      ],
      "text/plain": [
       "   적발지역  계절제_1차  계절제_2차  계절제_3차  계절제_4차  계절제_1차_일평균  계절제_2차_일평균  계절제_3차_일평균   \n",
       "0   수도권       0  191013  112739   37844        0.00     1591.78      939.49  \\\n",
       "1  수도권외       0       0       0   45942        0.00        0.00        0.00   \n",
       "\n",
       "   계절제_4차_일평균  \n",
       "0      315.37  \n",
       "1      382.85  "
      ]
     },
     "execution_count": 2465,
     "metadata": {},
     "output_type": "execute_result"
    }
   ],
   "source": [
    "grp2"
   ]
  },
  {
   "cell_type": "code",
   "execution_count": 2466,
   "id": "2c3da82a-371c-4949-810a-719ebf37833a",
   "metadata": {},
   "outputs": [
    {
     "data": {
      "text/plain": [
       "'20231103'"
      ]
     },
     "execution_count": 2466,
     "metadata": {},
     "output_type": "execute_result"
    }
   ],
   "source": [
    "today_date = datetime.today().strftime(\"%Y%m%d\")\n",
    "today_date"
   ]
  },
  {
   "cell_type": "code",
   "execution_count": 2467,
   "id": "493769b4-b8fe-4e19-b22f-11f0c7667ea2",
   "metadata": {},
   "outputs": [],
   "source": [
    "grp2['테이블생성일자'] = today_date"
   ]
  },
  {
   "cell_type": "code",
   "execution_count": 2468,
   "id": "a5a15bef-4531-4e3d-ad44-6f362022de43",
   "metadata": {},
   "outputs": [
    {
     "data": {
      "text/plain": [
       "{'테이블생성일자': 'LOAD_DT',\n",
       " '적발지역': 'DSCL_RGN',\n",
       " '계절제_1차': 'SEASON_1ODR_CRDN_NOCS',\n",
       " '계절제_2차': 'SEASON_2ODR_CRDN_NOCS',\n",
       " '계절제_3차': 'SEASON_3ODR_CRDN_NOCS',\n",
       " '계절제_4차': 'SEASON_4ODR_CRDN_NOCS',\n",
       " '계절제_1차_일평균': 'SEASON_1ODR_DY_AVRG_CRDN_NOCS',\n",
       " '계절제_2차_일평균': 'SEASON_2ODR_DY_AVRG_CRDN_NOCS',\n",
       " '계절제_3차_일평균': 'SEASON_3ODR_DY_AVRG_CRDN_NOCS',\n",
       " '계절제_4차_일평균': 'SEASON_4ODR_DY_AVRG_CRDN_NOCS'}"
      ]
     },
     "execution_count": 2468,
     "metadata": {},
     "output_type": "execute_result"
    }
   ],
   "source": [
    "cdict = {\n",
    "    '테이블생성일자':'LOAD_DT', \n",
    "    '적발지역':'DSCL_RGN', \n",
    "}\n",
    "for one in limit_season_rename_dict.values():\n",
    "    cdict[one] = one.replace('계절제', 'SEASON').replace('차', 'ODR_CRDN_NOCS')\n",
    "for one in limit_season_rename_dict.values():\n",
    "    cdict[one+ '_일평균'] = (one+ '_일평균').replace('계절제', 'SEASON').replace('차', 'ODR').replace('일평균', 'DY_AVRG_CRDN_NOCS')\n",
    "cdict"
   ]
  },
  {
   "cell_type": "code",
   "execution_count": 2469,
   "id": "17e6bd50-7d23-4c69-8980-e265034351a3",
   "metadata": {},
   "outputs": [
    {
     "data": {
      "text/plain": [
       "Index(['DSCL_RGN', 'SEASON_1ODR_CRDN_NOCS', 'SEASON_2ODR_CRDN_NOCS',\n",
       "       'SEASON_3ODR_CRDN_NOCS', 'SEASON_4ODR_CRDN_NOCS',\n",
       "       'SEASON_1ODR_DY_AVRG_CRDN_NOCS', 'SEASON_2ODR_DY_AVRG_CRDN_NOCS',\n",
       "       'SEASON_3ODR_DY_AVRG_CRDN_NOCS', 'SEASON_4ODR_DY_AVRG_CRDN_NOCS',\n",
       "       'LOAD_DT'],\n",
       "      dtype='object')"
      ]
     },
     "execution_count": 2469,
     "metadata": {},
     "output_type": "execute_result"
    }
   ],
   "source": [
    "STD_BD_SEASON_DSCL_VHCL_CURSTT = grp2.rename(columns=cdict)\n",
    "STD_BD_SEASON_DSCL_VHCL_CURSTT.columns"
   ]
  },
  {
   "cell_type": "code",
   "execution_count": 2470,
   "id": "7dd021fb-b11f-4371-a5e0-b11b9410a382",
   "metadata": {},
   "outputs": [
    {
     "data": {
      "text/plain": [
       "['DSCL_RGN',\n",
       " 'SEASON_1ODR_CRDN_NOCS',\n",
       " 'SEASON_2ODR_CRDN_NOCS',\n",
       " 'SEASON_3ODR_CRDN_NOCS',\n",
       " 'SEASON_4ODR_CRDN_NOCS',\n",
       " 'SEASON_1ODR_DY_AVRG_CRDN_NOCS',\n",
       " 'SEASON_2ODR_DY_AVRG_CRDN_NOCS',\n",
       " 'SEASON_3ODR_DY_AVRG_CRDN_NOCS',\n",
       " 'SEASON_4ODR_DY_AVRG_CRDN_NOCS',\n",
       " 'LOAD_DT']"
      ]
     },
     "execution_count": 2470,
     "metadata": {},
     "output_type": "execute_result"
    }
   ],
   "source": [
    "list(STD_BD_SEASON_DSCL_VHCL_CURSTT.columns)"
   ]
  },
  {
   "cell_type": "code",
   "execution_count": 2471,
   "id": "993bc9da-3ef7-4535-a196-576563eeb1c9",
   "metadata": {},
   "outputs": [
    {
     "data": {
      "text/plain": [
       "(2, 10)"
      ]
     },
     "execution_count": 2471,
     "metadata": {},
     "output_type": "execute_result"
    }
   ],
   "source": [
    "STD_BD_SEASON_DSCL_VHCL_CURSTT.shape"
   ]
  },
  {
   "cell_type": "code",
   "execution_count": 2472,
   "id": "f3ecb765-1110-45a2-b453-388af440c628",
   "metadata": {},
   "outputs": [
    {
     "data": {
      "text/html": [
       "<div>\n",
       "<style scoped>\n",
       "    .dataframe tbody tr th:only-of-type {\n",
       "        vertical-align: middle;\n",
       "    }\n",
       "\n",
       "    .dataframe tbody tr th {\n",
       "        vertical-align: top;\n",
       "    }\n",
       "\n",
       "    .dataframe thead th {\n",
       "        text-align: right;\n",
       "    }\n",
       "</style>\n",
       "<table border=\"1\" class=\"dataframe\">\n",
       "  <thead>\n",
       "    <tr style=\"text-align: right;\">\n",
       "      <th></th>\n",
       "      <th>DSCL_RGN</th>\n",
       "      <th>SEASON_1ODR_CRDN_NOCS</th>\n",
       "      <th>SEASON_2ODR_CRDN_NOCS</th>\n",
       "      <th>SEASON_3ODR_CRDN_NOCS</th>\n",
       "      <th>SEASON_4ODR_CRDN_NOCS</th>\n",
       "      <th>SEASON_1ODR_DY_AVRG_CRDN_NOCS</th>\n",
       "      <th>SEASON_2ODR_DY_AVRG_CRDN_NOCS</th>\n",
       "      <th>SEASON_3ODR_DY_AVRG_CRDN_NOCS</th>\n",
       "      <th>SEASON_4ODR_DY_AVRG_CRDN_NOCS</th>\n",
       "      <th>LOAD_DT</th>\n",
       "    </tr>\n",
       "  </thead>\n",
       "  <tbody>\n",
       "    <tr>\n",
       "      <th>0</th>\n",
       "      <td>수도권</td>\n",
       "      <td>0</td>\n",
       "      <td>191013</td>\n",
       "      <td>112739</td>\n",
       "      <td>37844</td>\n",
       "      <td>0.00</td>\n",
       "      <td>1591.78</td>\n",
       "      <td>939.49</td>\n",
       "      <td>315.37</td>\n",
       "      <td>20231103</td>\n",
       "    </tr>\n",
       "    <tr>\n",
       "      <th>1</th>\n",
       "      <td>수도권외</td>\n",
       "      <td>0</td>\n",
       "      <td>0</td>\n",
       "      <td>0</td>\n",
       "      <td>45942</td>\n",
       "      <td>0.00</td>\n",
       "      <td>0.00</td>\n",
       "      <td>0.00</td>\n",
       "      <td>382.85</td>\n",
       "      <td>20231103</td>\n",
       "    </tr>\n",
       "  </tbody>\n",
       "</table>\n",
       "</div>"
      ],
      "text/plain": [
       "  DSCL_RGN  SEASON_1ODR_CRDN_NOCS  SEASON_2ODR_CRDN_NOCS   \n",
       "0      수도권                      0                 191013  \\\n",
       "1     수도권외                      0                      0   \n",
       "\n",
       "   SEASON_3ODR_CRDN_NOCS  SEASON_4ODR_CRDN_NOCS   \n",
       "0                 112739                  37844  \\\n",
       "1                      0                  45942   \n",
       "\n",
       "   SEASON_1ODR_DY_AVRG_CRDN_NOCS  SEASON_2ODR_DY_AVRG_CRDN_NOCS   \n",
       "0                           0.00                        1591.78  \\\n",
       "1                           0.00                           0.00   \n",
       "\n",
       "   SEASON_3ODR_DY_AVRG_CRDN_NOCS  SEASON_4ODR_DY_AVRG_CRDN_NOCS   LOAD_DT  \n",
       "0                         939.49                         315.37  20231103  \n",
       "1                           0.00                         382.85  20231103  "
      ]
     },
     "execution_count": 2472,
     "metadata": {},
     "output_type": "execute_result"
    }
   ],
   "source": [
    "STD_BD_SEASON_DSCL_VHCL_CURSTT.head()"
   ]
  },
  {
   "cell_type": "markdown",
   "id": "bd6443f7-c90e-40aa-b301-141c2a7e580d",
   "metadata": {},
   "source": [
    "### [출력] STD_BD_SEASON_DSCL_VHCL_CURSTT"
   ]
  },
  {
   "cell_type": "code",
   "execution_count": 2473,
   "id": "7a7552d9-9d56-4371-85f3-3ff9be989f14",
   "metadata": {},
   "outputs": [],
   "source": [
    "# expdf = STD_BD_SEASON_DSCL_VHCL_CURSTT\n",
    "# table_nm = 'STD_BD_SEASON_DSCL_VHCL_CURSTT'.upper()\n",
    "\n",
    "# # 테이블 생성\n",
    "# sql = 'create or replace table ' + table_nm + '( \\n'\n",
    "\n",
    "# for idx,column in enumerate(expdf.columns):\n",
    "#     # if 'float' in expdf[column].dtype.name:\n",
    "#     #     sql += column + ' float'\n",
    "#     # elif 'int' in expdf[column].dtype.name:\n",
    "#     #     sql += column + ' number'\n",
    "#     # else:\n",
    "#     sql += column + ' varchar(255)'\n",
    "\n",
    "#     if len(expdf.columns) - 1 != idx:\n",
    "#         sql += ','\n",
    "#     sql += '\\n'\n",
    "# sql += ')'    \n",
    "# we.execute(sql)\n",
    "\n",
    "# # 데이터 추가\n",
    "# # 5s\n",
    "# we.import_from_pandas(expdf, table_nm)"
   ]
  },
  {
   "cell_type": "code",
   "execution_count": 2474,
   "id": "e298b351-a800-4a64-87a7-3276016200bb",
   "metadata": {},
   "outputs": [
    {
     "data": {
      "text/plain": [
       "'20231103'"
      ]
     },
     "execution_count": 2474,
     "metadata": {},
     "output_type": "execute_result"
    }
   ],
   "source": [
    "today_date = datetime.today().strftime(\"%Y%m%d\")\n",
    "today_date"
   ]
  },
  {
   "cell_type": "code",
   "execution_count": 2475,
   "id": "76669247-5006-4ab8-928a-7b9e866534da",
   "metadata": {},
   "outputs": [],
   "source": [
    "# # 0s\n",
    "# STD_BD_SEASON_DSCL_VHCL_CURSTT.to_csv(os.path.join(df3_fold, f'STD_BD_SEASON_DSCL_VHCL_CURSTT({today_date}).csv'), index=False)"
   ]
  },
  {
   "cell_type": "markdown",
   "id": "5c632af9-1144-4de6-9c0e-f8c2be3911cb",
   "metadata": {},
   "source": [
    "#### 운행제한 현황\n",
    "- 운행제한 현황(KPI)\n",
    "- 등록지별 계절관리제 적발차량 현황(대)\n",
    "- 등록지별 저공해 미조치 차량 현황(대)\n",
    "- 등록지역별 현황(대)"
   ]
  },
  {
   "cell_type": "code",
   "execution_count": 2476,
   "id": "660d2141-ebb7-4b8f-b949-7df98b69d921",
   "metadata": {},
   "outputs": [
    {
     "data": {
      "text/html": [
       "<div>\n",
       "<style scoped>\n",
       "    .dataframe tbody tr th:only-of-type {\n",
       "        vertical-align: middle;\n",
       "    }\n",
       "\n",
       "    .dataframe tbody tr th {\n",
       "        vertical-align: top;\n",
       "    }\n",
       "\n",
       "    .dataframe thead th {\n",
       "        text-align: right;\n",
       "    }\n",
       "</style>\n",
       "<table border=\"1\" class=\"dataframe\">\n",
       "  <thead>\n",
       "    <tr style=\"text-align: right;\">\n",
       "      <th></th>\n",
       "      <th>적발번호</th>\n",
       "      <th>발령번호</th>\n",
       "      <th>차대번호</th>\n",
       "      <th>등록시도코드</th>\n",
       "      <th>등록시군구코드</th>\n",
       "      <th>적발지역코드</th>\n",
       "      <th>단속일</th>\n",
       "      <th>유형기준아이디</th>\n",
       "      <th>농도기준아이디</th>\n",
       "      <th>등록시도</th>\n",
       "      <th>등록시군구</th>\n",
       "      <th>적발시도</th>\n",
       "      <th>적발시군구</th>\n",
       "      <th>적발지역</th>\n",
       "      <th>계절제_1차여부</th>\n",
       "      <th>계절제_2차여부</th>\n",
       "      <th>계절제_3차여부</th>\n",
       "      <th>계절제_4차여부</th>\n",
       "    </tr>\n",
       "  </thead>\n",
       "  <tbody>\n",
       "    <tr>\n",
       "      <th>0</th>\n",
       "      <td>3776087</td>\n",
       "      <td>429</td>\n",
       "      <td>KMFGA17PP6C029381</td>\n",
       "      <td>41</td>\n",
       "      <td>460</td>\n",
       "      <td>11000</td>\n",
       "      <td>NaN</td>\n",
       "      <td>T002</td>\n",
       "      <td>C011</td>\n",
       "      <td>경기도</td>\n",
       "      <td>용인시</td>\n",
       "      <td>서울특별시</td>\n",
       "      <td>NaN</td>\n",
       "      <td>수도권</td>\n",
       "      <td>NaN</td>\n",
       "      <td>NaN</td>\n",
       "      <td>NaN</td>\n",
       "      <td>NaN</td>\n",
       "    </tr>\n",
       "    <tr>\n",
       "      <th>1</th>\n",
       "      <td>3776081</td>\n",
       "      <td>429</td>\n",
       "      <td>KMFZSN7HP7U226746</td>\n",
       "      <td>28</td>\n",
       "      <td>260</td>\n",
       "      <td>11000</td>\n",
       "      <td>NaN</td>\n",
       "      <td>T002</td>\n",
       "      <td>C011</td>\n",
       "      <td>인천광역시</td>\n",
       "      <td>서구</td>\n",
       "      <td>서울특별시</td>\n",
       "      <td>NaN</td>\n",
       "      <td>수도권</td>\n",
       "      <td>NaN</td>\n",
       "      <td>NaN</td>\n",
       "      <td>NaN</td>\n",
       "      <td>NaN</td>\n",
       "    </tr>\n",
       "    <tr>\n",
       "      <th>2</th>\n",
       "      <td>3776077</td>\n",
       "      <td>429</td>\n",
       "      <td>KMHNN81WP1U011623</td>\n",
       "      <td>11</td>\n",
       "      <td>290</td>\n",
       "      <td>11000</td>\n",
       "      <td>NaN</td>\n",
       "      <td>T002</td>\n",
       "      <td>C011</td>\n",
       "      <td>서울특별시</td>\n",
       "      <td>성북구</td>\n",
       "      <td>서울특별시</td>\n",
       "      <td>NaN</td>\n",
       "      <td>수도권</td>\n",
       "      <td>NaN</td>\n",
       "      <td>NaN</td>\n",
       "      <td>NaN</td>\n",
       "      <td>NaN</td>\n",
       "    </tr>\n",
       "    <tr>\n",
       "      <th>3</th>\n",
       "      <td>3776102</td>\n",
       "      <td>429</td>\n",
       "      <td>KMJWWH7HP5U680797</td>\n",
       "      <td>41</td>\n",
       "      <td>170</td>\n",
       "      <td>11000</td>\n",
       "      <td>NaN</td>\n",
       "      <td>T002</td>\n",
       "      <td>C011</td>\n",
       "      <td>경기도</td>\n",
       "      <td>안양시</td>\n",
       "      <td>서울특별시</td>\n",
       "      <td>NaN</td>\n",
       "      <td>수도권</td>\n",
       "      <td>NaN</td>\n",
       "      <td>NaN</td>\n",
       "      <td>NaN</td>\n",
       "      <td>NaN</td>\n",
       "    </tr>\n",
       "    <tr>\n",
       "      <th>4</th>\n",
       "      <td>3776129</td>\n",
       "      <td>429</td>\n",
       "      <td>KPDKFDNF16P036260</td>\n",
       "      <td>28</td>\n",
       "      <td>237</td>\n",
       "      <td>11000</td>\n",
       "      <td>NaN</td>\n",
       "      <td>T002</td>\n",
       "      <td>C011</td>\n",
       "      <td>인천광역시</td>\n",
       "      <td>부평구</td>\n",
       "      <td>서울특별시</td>\n",
       "      <td>NaN</td>\n",
       "      <td>수도권</td>\n",
       "      <td>NaN</td>\n",
       "      <td>NaN</td>\n",
       "      <td>NaN</td>\n",
       "      <td>NaN</td>\n",
       "    </tr>\n",
       "  </tbody>\n",
       "</table>\n",
       "</div>"
      ],
      "text/plain": [
       "      적발번호  발령번호               차대번호  등록시도코드  등록시군구코드 적발지역코드  단속일 유형기준아이디   \n",
       "0  3776087   429  KMFGA17PP6C029381      41      460  11000  NaN    T002  \\\n",
       "1  3776081   429  KMFZSN7HP7U226746      28      260  11000  NaN    T002   \n",
       "2  3776077   429  KMHNN81WP1U011623      11      290  11000  NaN    T002   \n",
       "3  3776102   429  KMJWWH7HP5U680797      41      170  11000  NaN    T002   \n",
       "4  3776129   429  KPDKFDNF16P036260      28      237  11000  NaN    T002   \n",
       "\n",
       "  농도기준아이디   등록시도 등록시군구   적발시도 적발시군구 적발지역 계절제_1차여부 계절제_2차여부 계절제_3차여부 계절제_4차여부  \n",
       "0    C011    경기도   용인시  서울특별시   NaN  수도권      NaN      NaN      NaN      NaN  \n",
       "1    C011  인천광역시    서구  서울특별시   NaN  수도권      NaN      NaN      NaN      NaN  \n",
       "2    C011  서울특별시   성북구  서울특별시   NaN  수도권      NaN      NaN      NaN      NaN  \n",
       "3    C011    경기도   안양시  서울특별시   NaN  수도권      NaN      NaN      NaN      NaN  \n",
       "4    C011  인천광역시   부평구  서울특별시   NaN  수도권      NaN      NaN      NaN      NaN  "
      ]
     },
     "execution_count": 2476,
     "metadata": {},
     "output_type": "execute_result"
    }
   ],
   "source": [
    "is_season.head()"
   ]
  },
  {
   "cell_type": "code",
   "execution_count": 2477,
   "id": "b91eff01-14f8-4183-af4c-c4b3ceb69357",
   "metadata": {},
   "outputs": [
    {
     "data": {
      "text/plain": [
       "{'계절제_1차여부': 'count',\n",
       " '계절제_2차여부': 'count',\n",
       " '계절제_3차여부': 'count',\n",
       " '계절제_4차여부': 'count'}"
      ]
     },
     "execution_count": 2477,
     "metadata": {},
     "output_type": "execute_result"
    }
   ],
   "source": [
    "agg_dict"
   ]
  },
  {
   "cell_type": "code",
   "execution_count": 2478,
   "id": "7a9220fe-a5ee-44a7-a3e2-7df35124cb0d",
   "metadata": {},
   "outputs": [
    {
     "data": {
      "text/html": [
       "<div>\n",
       "<style scoped>\n",
       "    .dataframe tbody tr th:only-of-type {\n",
       "        vertical-align: middle;\n",
       "    }\n",
       "\n",
       "    .dataframe tbody tr th {\n",
       "        vertical-align: top;\n",
       "    }\n",
       "\n",
       "    .dataframe thead th {\n",
       "        text-align: right;\n",
       "    }\n",
       "</style>\n",
       "<table border=\"1\" class=\"dataframe\">\n",
       "  <thead>\n",
       "    <tr style=\"text-align: right;\">\n",
       "      <th></th>\n",
       "      <th>적발번호</th>\n",
       "      <th>발령번호</th>\n",
       "      <th>차대번호</th>\n",
       "      <th>등록시도코드</th>\n",
       "      <th>등록시군구코드</th>\n",
       "      <th>적발지역코드</th>\n",
       "      <th>단속일</th>\n",
       "      <th>유형기준아이디</th>\n",
       "      <th>농도기준아이디</th>\n",
       "      <th>등록시도</th>\n",
       "      <th>등록시군구</th>\n",
       "      <th>적발시도</th>\n",
       "      <th>적발시군구</th>\n",
       "      <th>적발지역</th>\n",
       "      <th>계절제_1차여부</th>\n",
       "      <th>계절제_2차여부</th>\n",
       "      <th>계절제_3차여부</th>\n",
       "      <th>계절제_4차여부</th>\n",
       "    </tr>\n",
       "  </thead>\n",
       "  <tbody>\n",
       "    <tr>\n",
       "      <th>21</th>\n",
       "      <td>3776297</td>\n",
       "      <td>429</td>\n",
       "      <td>KMFZCD7JP8U336452</td>\n",
       "      <td>11</td>\n",
       "      <td>215</td>\n",
       "      <td>41450</td>\n",
       "      <td>20201201.00</td>\n",
       "      <td>T002</td>\n",
       "      <td>C011</td>\n",
       "      <td>서울특별시</td>\n",
       "      <td>광진구</td>\n",
       "      <td>경기도</td>\n",
       "      <td>하남시</td>\n",
       "      <td>수도권</td>\n",
       "      <td>NaN</td>\n",
       "      <td>Y</td>\n",
       "      <td>NaN</td>\n",
       "      <td>NaN</td>\n",
       "    </tr>\n",
       "    <tr>\n",
       "      <th>52</th>\n",
       "      <td>3776848</td>\n",
       "      <td>429</td>\n",
       "      <td>KMFZCS7JP8U367111</td>\n",
       "      <td>41</td>\n",
       "      <td>280</td>\n",
       "      <td>41280</td>\n",
       "      <td>20201201.00</td>\n",
       "      <td>T002</td>\n",
       "      <td>C011</td>\n",
       "      <td>경기도</td>\n",
       "      <td>고양시</td>\n",
       "      <td>경기도</td>\n",
       "      <td>고양시</td>\n",
       "      <td>수도권</td>\n",
       "      <td>NaN</td>\n",
       "      <td>Y</td>\n",
       "      <td>NaN</td>\n",
       "      <td>NaN</td>\n",
       "    </tr>\n",
       "    <tr>\n",
       "      <th>53</th>\n",
       "      <td>3776793</td>\n",
       "      <td>429</td>\n",
       "      <td>KMFZCD7JP5U085713</td>\n",
       "      <td>41</td>\n",
       "      <td>610</td>\n",
       "      <td>41130</td>\n",
       "      <td>20201201.00</td>\n",
       "      <td>T002</td>\n",
       "      <td>C011</td>\n",
       "      <td>경기도</td>\n",
       "      <td>광주시</td>\n",
       "      <td>경기도</td>\n",
       "      <td>성남시</td>\n",
       "      <td>수도권</td>\n",
       "      <td>NaN</td>\n",
       "      <td>Y</td>\n",
       "      <td>NaN</td>\n",
       "      <td>NaN</td>\n",
       "    </tr>\n",
       "    <tr>\n",
       "      <th>59</th>\n",
       "      <td>3777178</td>\n",
       "      <td>429</td>\n",
       "      <td>KMFZCD7JP7U241553</td>\n",
       "      <td>41</td>\n",
       "      <td>220</td>\n",
       "      <td>11000</td>\n",
       "      <td>20201201.00</td>\n",
       "      <td>T002</td>\n",
       "      <td>C011</td>\n",
       "      <td>경기도</td>\n",
       "      <td>평택시</td>\n",
       "      <td>서울특별시</td>\n",
       "      <td>NaN</td>\n",
       "      <td>수도권</td>\n",
       "      <td>NaN</td>\n",
       "      <td>Y</td>\n",
       "      <td>NaN</td>\n",
       "      <td>NaN</td>\n",
       "    </tr>\n",
       "    <tr>\n",
       "      <th>102</th>\n",
       "      <td>3777768</td>\n",
       "      <td>429</td>\n",
       "      <td>KMFZCS7JP8U370499</td>\n",
       "      <td>28</td>\n",
       "      <td>200</td>\n",
       "      <td>28000</td>\n",
       "      <td>20201201.00</td>\n",
       "      <td>T002</td>\n",
       "      <td>C011</td>\n",
       "      <td>인천광역시</td>\n",
       "      <td>남동구</td>\n",
       "      <td>인천광역시</td>\n",
       "      <td>NaN</td>\n",
       "      <td>수도권</td>\n",
       "      <td>NaN</td>\n",
       "      <td>Y</td>\n",
       "      <td>NaN</td>\n",
       "      <td>NaN</td>\n",
       "    </tr>\n",
       "  </tbody>\n",
       "</table>\n",
       "</div>"
      ],
      "text/plain": [
       "        적발번호  발령번호               차대번호  등록시도코드  등록시군구코드 적발지역코드         단속일   \n",
       "21   3776297   429  KMFZCD7JP8U336452      11      215  41450 20201201.00  \\\n",
       "52   3776848   429  KMFZCS7JP8U367111      41      280  41280 20201201.00   \n",
       "53   3776793   429  KMFZCD7JP5U085713      41      610  41130 20201201.00   \n",
       "59   3777178   429  KMFZCD7JP7U241553      41      220  11000 20201201.00   \n",
       "102  3777768   429  KMFZCS7JP8U370499      28      200  28000 20201201.00   \n",
       "\n",
       "    유형기준아이디 농도기준아이디   등록시도 등록시군구   적발시도 적발시군구 적발지역 계절제_1차여부 계절제_2차여부 계절제_3차여부   \n",
       "21     T002    C011  서울특별시   광진구    경기도   하남시  수도권      NaN        Y      NaN  \\\n",
       "52     T002    C011    경기도   고양시    경기도   고양시  수도권      NaN        Y      NaN   \n",
       "53     T002    C011    경기도   광주시    경기도   성남시  수도권      NaN        Y      NaN   \n",
       "59     T002    C011    경기도   평택시  서울특별시   NaN  수도권      NaN        Y      NaN   \n",
       "102    T002    C011  인천광역시   남동구  인천광역시   NaN  수도권      NaN        Y      NaN   \n",
       "\n",
       "    계절제_4차여부  \n",
       "21       NaN  \n",
       "52       NaN  \n",
       "53       NaN  \n",
       "59       NaN  \n",
       "102      NaN  "
      ]
     },
     "execution_count": 2478,
     "metadata": {},
     "output_type": "execute_result"
    }
   ],
   "source": [
    "is_season.sort_values((list(agg_dict.keys()))).head()"
   ]
  },
  {
   "cell_type": "code",
   "execution_count": 2479,
   "id": "4e81fce3-36e3-41cc-bf21-0ea620bd1ce1",
   "metadata": {},
   "outputs": [
    {
     "data": {
      "text/plain": [
       "(16382044, 18)"
      ]
     },
     "execution_count": 2479,
     "metadata": {},
     "output_type": "execute_result"
    }
   ],
   "source": [
    "is_season.shape"
   ]
  },
  {
   "cell_type": "code",
   "execution_count": 2480,
   "id": "4d7c31a0-ff8e-4f59-993c-e91bde4aba06",
   "metadata": {},
   "outputs": [
    {
     "data": {
      "text/plain": [
       "(452851, 7)"
      ]
     },
     "execution_count": 2480,
     "metadata": {},
     "output_type": "execute_result"
    }
   ],
   "source": [
    "limit.shape"
   ]
  },
  {
   "cell_type": "code",
   "execution_count": 2481,
   "id": "e2655f87-08dc-4d2e-8e62-c1ad532cd156",
   "metadata": {},
   "outputs": [
    {
     "data": {
      "text/plain": [
       "(781143, 18)"
      ]
     },
     "execution_count": 2481,
     "metadata": {},
     "output_type": "execute_result"
    }
   ],
   "source": [
    "# 18.3s\n",
    "is_season3 = is_season.sort_values((list(agg_dict.keys()))).drop_duplicates(['등록시도', '적발시도', '차대번호']).reset_index(drop=True)\n",
    "is_season3.shape"
   ]
  },
  {
   "cell_type": "code",
   "execution_count": 2482,
   "id": "9ad892da-74a8-4d39-9668-a023437eb6f4",
   "metadata": {},
   "outputs": [
    {
     "data": {
      "text/plain": [
       "(781143, 21)"
      ]
     },
     "execution_count": 2482,
     "metadata": {},
     "output_type": "execute_result"
    }
   ],
   "source": [
    "lmt31 = is_season3.merge(df[['차대번호', '차종', '차종유형', 'DPF_YN']], on='차대번호', how='left')\n",
    "lmt31.shape"
   ]
  },
  {
   "cell_type": "code",
   "execution_count": 2483,
   "id": "4e343322-36a5-4172-80a7-687aa7a5ee73",
   "metadata": {},
   "outputs": [
    {
     "data": {
      "text/plain": [
       "(781143, 27)"
      ]
     },
     "execution_count": 2483,
     "metadata": {},
     "output_type": "execute_result"
    }
   ],
   "source": [
    "lmt3 = lmt31.merge(limit, on='차대번호', how='left')\n",
    "lmt3.shape"
   ]
  },
  {
   "cell_type": "code",
   "execution_count": 2484,
   "id": "604f988f-b16d-46c8-9599-1f2480e87f4f",
   "metadata": {},
   "outputs": [
    {
     "data": {
      "text/html": [
       "<div>\n",
       "<style scoped>\n",
       "    .dataframe tbody tr th:only-of-type {\n",
       "        vertical-align: middle;\n",
       "    }\n",
       "\n",
       "    .dataframe tbody tr th {\n",
       "        vertical-align: top;\n",
       "    }\n",
       "\n",
       "    .dataframe thead th {\n",
       "        text-align: right;\n",
       "    }\n",
       "</style>\n",
       "<table border=\"1\" class=\"dataframe\">\n",
       "  <thead>\n",
       "    <tr style=\"text-align: right;\">\n",
       "      <th></th>\n",
       "      <th>적발번호</th>\n",
       "      <th>발령번호</th>\n",
       "      <th>차대번호</th>\n",
       "      <th>등록시도코드</th>\n",
       "      <th>등록시군구코드</th>\n",
       "      <th>적발지역코드</th>\n",
       "      <th>단속일</th>\n",
       "      <th>유형기준아이디</th>\n",
       "      <th>농도기준아이디</th>\n",
       "      <th>등록시도</th>\n",
       "      <th>...</th>\n",
       "      <th>계절제_4차여부</th>\n",
       "      <th>차종</th>\n",
       "      <th>차종유형</th>\n",
       "      <th>DPF_YN</th>\n",
       "      <th>계절제_1차</th>\n",
       "      <th>계절제_2차</th>\n",
       "      <th>계절제_3차</th>\n",
       "      <th>계절제_4차</th>\n",
       "      <th>비상시</th>\n",
       "      <th>상시</th>\n",
       "    </tr>\n",
       "  </thead>\n",
       "  <tbody>\n",
       "    <tr>\n",
       "      <th>0</th>\n",
       "      <td>3776297</td>\n",
       "      <td>429</td>\n",
       "      <td>KMFZCD7JP8U336452</td>\n",
       "      <td>11</td>\n",
       "      <td>215</td>\n",
       "      <td>41450</td>\n",
       "      <td>20201201.00</td>\n",
       "      <td>T002</td>\n",
       "      <td>C011</td>\n",
       "      <td>서울특별시</td>\n",
       "      <td>...</td>\n",
       "      <td>NaN</td>\n",
       "      <td>화물</td>\n",
       "      <td>소형</td>\n",
       "      <td>NaN</td>\n",
       "      <td>0</td>\n",
       "      <td>4</td>\n",
       "      <td>17</td>\n",
       "      <td>28</td>\n",
       "      <td>3</td>\n",
       "      <td>332</td>\n",
       "    </tr>\n",
       "    <tr>\n",
       "      <th>1</th>\n",
       "      <td>3776848</td>\n",
       "      <td>429</td>\n",
       "      <td>KMFZCS7JP8U367111</td>\n",
       "      <td>41</td>\n",
       "      <td>280</td>\n",
       "      <td>41280</td>\n",
       "      <td>20201201.00</td>\n",
       "      <td>T002</td>\n",
       "      <td>C011</td>\n",
       "      <td>경기도</td>\n",
       "      <td>...</td>\n",
       "      <td>NaN</td>\n",
       "      <td>NaN</td>\n",
       "      <td>NaN</td>\n",
       "      <td>NaN</td>\n",
       "      <td>0</td>\n",
       "      <td>6</td>\n",
       "      <td>0</td>\n",
       "      <td>0</td>\n",
       "      <td>0</td>\n",
       "      <td>0</td>\n",
       "    </tr>\n",
       "    <tr>\n",
       "      <th>2</th>\n",
       "      <td>3776793</td>\n",
       "      <td>429</td>\n",
       "      <td>KMFZCD7JP5U085713</td>\n",
       "      <td>41</td>\n",
       "      <td>610</td>\n",
       "      <td>41130</td>\n",
       "      <td>20201201.00</td>\n",
       "      <td>T002</td>\n",
       "      <td>C011</td>\n",
       "      <td>경기도</td>\n",
       "      <td>...</td>\n",
       "      <td>NaN</td>\n",
       "      <td>NaN</td>\n",
       "      <td>NaN</td>\n",
       "      <td>NaN</td>\n",
       "      <td>0</td>\n",
       "      <td>5</td>\n",
       "      <td>0</td>\n",
       "      <td>0</td>\n",
       "      <td>1</td>\n",
       "      <td>0</td>\n",
       "    </tr>\n",
       "    <tr>\n",
       "      <th>3</th>\n",
       "      <td>3777178</td>\n",
       "      <td>429</td>\n",
       "      <td>KMFZCD7JP7U241553</td>\n",
       "      <td>41</td>\n",
       "      <td>220</td>\n",
       "      <td>11000</td>\n",
       "      <td>20201201.00</td>\n",
       "      <td>T002</td>\n",
       "      <td>C011</td>\n",
       "      <td>경기도</td>\n",
       "      <td>...</td>\n",
       "      <td>NaN</td>\n",
       "      <td>NaN</td>\n",
       "      <td>NaN</td>\n",
       "      <td>NaN</td>\n",
       "      <td>0</td>\n",
       "      <td>31</td>\n",
       "      <td>0</td>\n",
       "      <td>0</td>\n",
       "      <td>0</td>\n",
       "      <td>0</td>\n",
       "    </tr>\n",
       "    <tr>\n",
       "      <th>4</th>\n",
       "      <td>3777768</td>\n",
       "      <td>429</td>\n",
       "      <td>KMFZCS7JP8U370499</td>\n",
       "      <td>28</td>\n",
       "      <td>200</td>\n",
       "      <td>28000</td>\n",
       "      <td>20201201.00</td>\n",
       "      <td>T002</td>\n",
       "      <td>C011</td>\n",
       "      <td>인천광역시</td>\n",
       "      <td>...</td>\n",
       "      <td>NaN</td>\n",
       "      <td>화물</td>\n",
       "      <td>소형</td>\n",
       "      <td>유</td>\n",
       "      <td>0</td>\n",
       "      <td>1</td>\n",
       "      <td>0</td>\n",
       "      <td>0</td>\n",
       "      <td>2</td>\n",
       "      <td>99</td>\n",
       "    </tr>\n",
       "  </tbody>\n",
       "</table>\n",
       "<p>5 rows × 27 columns</p>\n",
       "</div>"
      ],
      "text/plain": [
       "      적발번호  발령번호               차대번호  등록시도코드  등록시군구코드 적발지역코드         단속일   \n",
       "0  3776297   429  KMFZCD7JP8U336452      11      215  41450 20201201.00  \\\n",
       "1  3776848   429  KMFZCS7JP8U367111      41      280  41280 20201201.00   \n",
       "2  3776793   429  KMFZCD7JP5U085713      41      610  41130 20201201.00   \n",
       "3  3777178   429  KMFZCD7JP7U241553      41      220  11000 20201201.00   \n",
       "4  3777768   429  KMFZCS7JP8U370499      28      200  28000 20201201.00   \n",
       "\n",
       "  유형기준아이디 농도기준아이디   등록시도  ... 계절제_4차여부   차종 차종유형 DPF_YN 계절제_1차 계절제_2차 계절제_3차   \n",
       "0    T002    C011  서울특별시  ...      NaN   화물   소형    NaN      0      4     17  \\\n",
       "1    T002    C011    경기도  ...      NaN  NaN  NaN    NaN      0      6      0   \n",
       "2    T002    C011    경기도  ...      NaN  NaN  NaN    NaN      0      5      0   \n",
       "3    T002    C011    경기도  ...      NaN  NaN  NaN    NaN      0     31      0   \n",
       "4    T002    C011  인천광역시  ...      NaN   화물   소형      유      0      1      0   \n",
       "\n",
       "  계절제_4차 비상시   상시  \n",
       "0     28   3  332  \n",
       "1      0   0    0  \n",
       "2      0   1    0  \n",
       "3      0   0    0  \n",
       "4      0   2   99  \n",
       "\n",
       "[5 rows x 27 columns]"
      ]
     },
     "execution_count": 2484,
     "metadata": {},
     "output_type": "execute_result"
    }
   ],
   "source": [
    "lmt3.head()"
   ]
  },
  {
   "cell_type": "code",
   "execution_count": 2485,
   "id": "fcdb2024-f48c-4c3d-a644-913671e84d90",
   "metadata": {},
   "outputs": [],
   "source": [
    "lmt3['테이블생성일자'] = today_date"
   ]
  },
  {
   "cell_type": "code",
   "execution_count": 2486,
   "id": "e6c53bb4-7c77-41b3-be05-b630c6455373",
   "metadata": {},
   "outputs": [
    {
     "data": {
      "text/plain": [
       "['적발번호',\n",
       " '발령번호',\n",
       " '차대번호',\n",
       " '등록시도코드',\n",
       " '등록시군구코드',\n",
       " '적발지역코드',\n",
       " '단속일',\n",
       " '유형기준아이디',\n",
       " '농도기준아이디',\n",
       " '등록시도',\n",
       " '등록시군구',\n",
       " '적발시도',\n",
       " '적발시군구',\n",
       " '적발지역',\n",
       " '계절제_1차여부',\n",
       " '계절제_2차여부',\n",
       " '계절제_3차여부',\n",
       " '계절제_4차여부',\n",
       " '차종',\n",
       " '차종유형',\n",
       " 'DPF_YN',\n",
       " '계절제_1차',\n",
       " '계절제_2차',\n",
       " '계절제_3차',\n",
       " '계절제_4차',\n",
       " '비상시',\n",
       " '상시',\n",
       " '테이블생성일자']"
      ]
     },
     "execution_count": 2486,
     "metadata": {},
     "output_type": "execute_result"
    }
   ],
   "source": [
    "list(lmt3.columns)"
   ]
  },
  {
   "cell_type": "code",
   "execution_count": 2487,
   "id": "aa5711b5-0a7b-4039-83bd-637a8c4fa085",
   "metadata": {},
   "outputs": [
    {
     "data": {
      "text/plain": [
       "(781143, 13)"
      ]
     },
     "execution_count": 2487,
     "metadata": {},
     "output_type": "execute_result"
    }
   ],
   "source": [
    "lmt3m = lmt3[[\n",
    "    '테이블생성일자',\n",
    "    '차대번호',\n",
    "    '차종',\n",
    "    '차종유형',\n",
    "    'DPF_YN',\n",
    "    '등록시도',\n",
    "    '적발시도',\n",
    "    '계절제_1차',\n",
    "    '계절제_2차',\n",
    "    '계절제_3차',\n",
    "    '계절제_4차',\n",
    "    '비상시', \n",
    "    '상시', \n",
    "]]\n",
    "lmt3m.shape"
   ]
  },
  {
   "cell_type": "code",
   "execution_count": 2488,
   "id": "eb3d26c2-df5b-4eb8-bcf0-93d828cd8734",
   "metadata": {},
   "outputs": [
    {
     "data": {
      "text/html": [
       "<div>\n",
       "<style scoped>\n",
       "    .dataframe tbody tr th:only-of-type {\n",
       "        vertical-align: middle;\n",
       "    }\n",
       "\n",
       "    .dataframe tbody tr th {\n",
       "        vertical-align: top;\n",
       "    }\n",
       "\n",
       "    .dataframe thead th {\n",
       "        text-align: right;\n",
       "    }\n",
       "</style>\n",
       "<table border=\"1\" class=\"dataframe\">\n",
       "  <thead>\n",
       "    <tr style=\"text-align: right;\">\n",
       "      <th></th>\n",
       "      <th>테이블생성일자</th>\n",
       "      <th>차대번호</th>\n",
       "      <th>차종</th>\n",
       "      <th>차종유형</th>\n",
       "      <th>DPF_YN</th>\n",
       "      <th>등록시도</th>\n",
       "      <th>적발시도</th>\n",
       "      <th>계절제_1차</th>\n",
       "      <th>계절제_2차</th>\n",
       "      <th>계절제_3차</th>\n",
       "      <th>계절제_4차</th>\n",
       "      <th>비상시</th>\n",
       "      <th>상시</th>\n",
       "    </tr>\n",
       "  </thead>\n",
       "  <tbody>\n",
       "    <tr>\n",
       "      <th>0</th>\n",
       "      <td>20231103</td>\n",
       "      <td>KMFZCD7JP8U336452</td>\n",
       "      <td>화물</td>\n",
       "      <td>소형</td>\n",
       "      <td>NaN</td>\n",
       "      <td>서울특별시</td>\n",
       "      <td>경기도</td>\n",
       "      <td>0</td>\n",
       "      <td>4</td>\n",
       "      <td>17</td>\n",
       "      <td>28</td>\n",
       "      <td>3</td>\n",
       "      <td>332</td>\n",
       "    </tr>\n",
       "    <tr>\n",
       "      <th>1</th>\n",
       "      <td>20231103</td>\n",
       "      <td>KMFZCS7JP8U367111</td>\n",
       "      <td>NaN</td>\n",
       "      <td>NaN</td>\n",
       "      <td>NaN</td>\n",
       "      <td>경기도</td>\n",
       "      <td>경기도</td>\n",
       "      <td>0</td>\n",
       "      <td>6</td>\n",
       "      <td>0</td>\n",
       "      <td>0</td>\n",
       "      <td>0</td>\n",
       "      <td>0</td>\n",
       "    </tr>\n",
       "    <tr>\n",
       "      <th>2</th>\n",
       "      <td>20231103</td>\n",
       "      <td>KMFZCD7JP5U085713</td>\n",
       "      <td>NaN</td>\n",
       "      <td>NaN</td>\n",
       "      <td>NaN</td>\n",
       "      <td>경기도</td>\n",
       "      <td>경기도</td>\n",
       "      <td>0</td>\n",
       "      <td>5</td>\n",
       "      <td>0</td>\n",
       "      <td>0</td>\n",
       "      <td>1</td>\n",
       "      <td>0</td>\n",
       "    </tr>\n",
       "    <tr>\n",
       "      <th>3</th>\n",
       "      <td>20231103</td>\n",
       "      <td>KMFZCD7JP7U241553</td>\n",
       "      <td>NaN</td>\n",
       "      <td>NaN</td>\n",
       "      <td>NaN</td>\n",
       "      <td>경기도</td>\n",
       "      <td>서울특별시</td>\n",
       "      <td>0</td>\n",
       "      <td>31</td>\n",
       "      <td>0</td>\n",
       "      <td>0</td>\n",
       "      <td>0</td>\n",
       "      <td>0</td>\n",
       "    </tr>\n",
       "    <tr>\n",
       "      <th>4</th>\n",
       "      <td>20231103</td>\n",
       "      <td>KMFZCS7JP8U370499</td>\n",
       "      <td>화물</td>\n",
       "      <td>소형</td>\n",
       "      <td>유</td>\n",
       "      <td>인천광역시</td>\n",
       "      <td>인천광역시</td>\n",
       "      <td>0</td>\n",
       "      <td>1</td>\n",
       "      <td>0</td>\n",
       "      <td>0</td>\n",
       "      <td>2</td>\n",
       "      <td>99</td>\n",
       "    </tr>\n",
       "  </tbody>\n",
       "</table>\n",
       "</div>"
      ],
      "text/plain": [
       "    테이블생성일자               차대번호   차종 차종유형 DPF_YN   등록시도   적발시도  계절제_1차  계절제_2차   \n",
       "0  20231103  KMFZCD7JP8U336452   화물   소형    NaN  서울특별시    경기도       0       4  \\\n",
       "1  20231103  KMFZCS7JP8U367111  NaN  NaN    NaN    경기도    경기도       0       6   \n",
       "2  20231103  KMFZCD7JP5U085713  NaN  NaN    NaN    경기도    경기도       0       5   \n",
       "3  20231103  KMFZCD7JP7U241553  NaN  NaN    NaN    경기도  서울특별시       0      31   \n",
       "4  20231103  KMFZCS7JP8U370499   화물   소형      유  인천광역시  인천광역시       0       1   \n",
       "\n",
       "   계절제_3차  계절제_4차  비상시   상시  \n",
       "0      17      28    3  332  \n",
       "1       0       0    0    0  \n",
       "2       0       0    1    0  \n",
       "3       0       0    0    0  \n",
       "4       0       0    2   99  "
      ]
     },
     "execution_count": 2488,
     "metadata": {},
     "output_type": "execute_result"
    }
   ],
   "source": [
    "lmt3m.head()"
   ]
  },
  {
   "cell_type": "code",
   "execution_count": 2489,
   "id": "60b12513-c356-4ad2-9017-9adb517522b2",
   "metadata": {},
   "outputs": [
    {
     "data": {
      "text/plain": [
       "{'계절제_1차여부': '계절제_1차',\n",
       " '계절제_2차여부': '계절제_2차',\n",
       " '계절제_3차여부': '계절제_3차',\n",
       " '계절제_4차여부': '계절제_4차'}"
      ]
     },
     "execution_count": 2489,
     "metadata": {},
     "output_type": "execute_result"
    }
   ],
   "source": [
    "limit_season_rename_dict"
   ]
  },
  {
   "cell_type": "code",
   "execution_count": 2490,
   "id": "db88afba-a9aa-4693-869a-8db404a70c67",
   "metadata": {},
   "outputs": [
    {
     "data": {
      "text/plain": [
       "{'테이블생성일자': 'LOAD_DT',\n",
       " '차대번호': 'VIN',\n",
       " '차종': 'VHCTY_CD',\n",
       " '차종유형': 'VHCTY_TY',\n",
       " 'DPF_YN': 'DPF_EXTRNS_YN',\n",
       " '등록시도': 'REG_CTPV',\n",
       " '적발시도': 'DSCL_CTPV',\n",
       " '비상시': 'EMGN_CRDN_NOCS',\n",
       " '상시': 'ORDITM_CRDN_NOCS',\n",
       " '계절제_1차': 'SEASON_1ODR_CRDN_NOCS',\n",
       " '계절제_2차': 'SEASON_2ODR_CRDN_NOCS',\n",
       " '계절제_3차': 'SEASON_3ODR_CRDN_NOCS',\n",
       " '계절제_4차': 'SEASON_4ODR_CRDN_NOCS'}"
      ]
     },
     "execution_count": 2490,
     "metadata": {},
     "output_type": "execute_result"
    }
   ],
   "source": [
    "cdict = {\n",
    "    '테이블생성일자':'LOAD_DT', \n",
    "    '차대번호':'VIN',\n",
    "    '차종':'VHCTY_CD', \n",
    "    '차종유형':'VHCTY_TY', \n",
    "    'DPF_YN':'DPF_EXTRNS_YN', \n",
    "    '등록시도':'REG_CTPV', \n",
    "    '적발시도':'DSCL_CTPV', \n",
    "    '비상시':'EMGN_CRDN_NOCS', \n",
    "    '상시':'ORDITM_CRDN_NOCS', \n",
    "}\n",
    "for one in limit_season_rename_dict.values():\n",
    "    cdict[one] = one.replace('계절제', 'SEASON').replace('차', 'ODR_CRDN_NOCS')\n",
    "cdict"
   ]
  },
  {
   "cell_type": "code",
   "execution_count": 2491,
   "id": "cbcc30f0-3e0c-4aa5-bbae-2fa04b895cdc",
   "metadata": {},
   "outputs": [
    {
     "data": {
      "text/plain": [
       "Index(['LOAD_DT', 'VIN', 'VHCTY_CD', 'VHCTY_TY', 'DPF_EXTRNS_YN', 'REG_CTPV',\n",
       "       'DSCL_CTPV', 'SEASON_1ODR_CRDN_NOCS', 'SEASON_2ODR_CRDN_NOCS',\n",
       "       'SEASON_3ODR_CRDN_NOCS', 'SEASON_4ODR_CRDN_NOCS', 'EMGN_CRDN_NOCS',\n",
       "       'ORDITM_CRDN_NOCS'],\n",
       "      dtype='object')"
      ]
     },
     "execution_count": 2491,
     "metadata": {},
     "output_type": "execute_result"
    }
   ],
   "source": [
    "STD_BD_RUN_LMT_CURSTT = lmt3m.rename(columns=cdict)\n",
    "STD_BD_RUN_LMT_CURSTT.columns"
   ]
  },
  {
   "cell_type": "code",
   "execution_count": 2492,
   "id": "174541b1-e001-41cc-8760-0b5c8f6ad560",
   "metadata": {},
   "outputs": [
    {
     "data": {
      "text/plain": [
       "['LOAD_DT',\n",
       " 'VIN',\n",
       " 'VHCTY_CD',\n",
       " 'VHCTY_TY',\n",
       " 'DPF_EXTRNS_YN',\n",
       " 'REG_CTPV',\n",
       " 'DSCL_CTPV',\n",
       " 'SEASON_1ODR_CRDN_NOCS',\n",
       " 'SEASON_2ODR_CRDN_NOCS',\n",
       " 'SEASON_3ODR_CRDN_NOCS',\n",
       " 'SEASON_4ODR_CRDN_NOCS',\n",
       " 'EMGN_CRDN_NOCS',\n",
       " 'ORDITM_CRDN_NOCS']"
      ]
     },
     "execution_count": 2492,
     "metadata": {},
     "output_type": "execute_result"
    }
   ],
   "source": [
    "list(STD_BD_RUN_LMT_CURSTT.columns)"
   ]
  },
  {
   "cell_type": "code",
   "execution_count": 2493,
   "id": "69cfc12a-bd0d-418a-a02d-779e2b6f3c04",
   "metadata": {},
   "outputs": [
    {
     "data": {
      "text/plain": [
       "(781143, 13)"
      ]
     },
     "execution_count": 2493,
     "metadata": {},
     "output_type": "execute_result"
    }
   ],
   "source": [
    "STD_BD_RUN_LMT_CURSTT.shape"
   ]
  },
  {
   "cell_type": "code",
   "execution_count": 2494,
   "id": "d5cffd79-240e-487b-9c02-9e26fb89628e",
   "metadata": {},
   "outputs": [
    {
     "data": {
      "text/html": [
       "<div>\n",
       "<style scoped>\n",
       "    .dataframe tbody tr th:only-of-type {\n",
       "        vertical-align: middle;\n",
       "    }\n",
       "\n",
       "    .dataframe tbody tr th {\n",
       "        vertical-align: top;\n",
       "    }\n",
       "\n",
       "    .dataframe thead th {\n",
       "        text-align: right;\n",
       "    }\n",
       "</style>\n",
       "<table border=\"1\" class=\"dataframe\">\n",
       "  <thead>\n",
       "    <tr style=\"text-align: right;\">\n",
       "      <th></th>\n",
       "      <th>LOAD_DT</th>\n",
       "      <th>VIN</th>\n",
       "      <th>VHCTY_CD</th>\n",
       "      <th>VHCTY_TY</th>\n",
       "      <th>DPF_EXTRNS_YN</th>\n",
       "      <th>REG_CTPV</th>\n",
       "      <th>DSCL_CTPV</th>\n",
       "      <th>SEASON_1ODR_CRDN_NOCS</th>\n",
       "      <th>SEASON_2ODR_CRDN_NOCS</th>\n",
       "      <th>SEASON_3ODR_CRDN_NOCS</th>\n",
       "      <th>SEASON_4ODR_CRDN_NOCS</th>\n",
       "      <th>EMGN_CRDN_NOCS</th>\n",
       "      <th>ORDITM_CRDN_NOCS</th>\n",
       "    </tr>\n",
       "  </thead>\n",
       "  <tbody>\n",
       "    <tr>\n",
       "      <th>0</th>\n",
       "      <td>20231103</td>\n",
       "      <td>KMFZCD7JP8U336452</td>\n",
       "      <td>화물</td>\n",
       "      <td>소형</td>\n",
       "      <td>NaN</td>\n",
       "      <td>서울특별시</td>\n",
       "      <td>경기도</td>\n",
       "      <td>0</td>\n",
       "      <td>4</td>\n",
       "      <td>17</td>\n",
       "      <td>28</td>\n",
       "      <td>3</td>\n",
       "      <td>332</td>\n",
       "    </tr>\n",
       "    <tr>\n",
       "      <th>1</th>\n",
       "      <td>20231103</td>\n",
       "      <td>KMFZCS7JP8U367111</td>\n",
       "      <td>NaN</td>\n",
       "      <td>NaN</td>\n",
       "      <td>NaN</td>\n",
       "      <td>경기도</td>\n",
       "      <td>경기도</td>\n",
       "      <td>0</td>\n",
       "      <td>6</td>\n",
       "      <td>0</td>\n",
       "      <td>0</td>\n",
       "      <td>0</td>\n",
       "      <td>0</td>\n",
       "    </tr>\n",
       "    <tr>\n",
       "      <th>2</th>\n",
       "      <td>20231103</td>\n",
       "      <td>KMFZCD7JP5U085713</td>\n",
       "      <td>NaN</td>\n",
       "      <td>NaN</td>\n",
       "      <td>NaN</td>\n",
       "      <td>경기도</td>\n",
       "      <td>경기도</td>\n",
       "      <td>0</td>\n",
       "      <td>5</td>\n",
       "      <td>0</td>\n",
       "      <td>0</td>\n",
       "      <td>1</td>\n",
       "      <td>0</td>\n",
       "    </tr>\n",
       "    <tr>\n",
       "      <th>3</th>\n",
       "      <td>20231103</td>\n",
       "      <td>KMFZCD7JP7U241553</td>\n",
       "      <td>NaN</td>\n",
       "      <td>NaN</td>\n",
       "      <td>NaN</td>\n",
       "      <td>경기도</td>\n",
       "      <td>서울특별시</td>\n",
       "      <td>0</td>\n",
       "      <td>31</td>\n",
       "      <td>0</td>\n",
       "      <td>0</td>\n",
       "      <td>0</td>\n",
       "      <td>0</td>\n",
       "    </tr>\n",
       "    <tr>\n",
       "      <th>4</th>\n",
       "      <td>20231103</td>\n",
       "      <td>KMFZCS7JP8U370499</td>\n",
       "      <td>화물</td>\n",
       "      <td>소형</td>\n",
       "      <td>유</td>\n",
       "      <td>인천광역시</td>\n",
       "      <td>인천광역시</td>\n",
       "      <td>0</td>\n",
       "      <td>1</td>\n",
       "      <td>0</td>\n",
       "      <td>0</td>\n",
       "      <td>2</td>\n",
       "      <td>99</td>\n",
       "    </tr>\n",
       "  </tbody>\n",
       "</table>\n",
       "</div>"
      ],
      "text/plain": [
       "    LOAD_DT                VIN VHCTY_CD VHCTY_TY DPF_EXTRNS_YN REG_CTPV   \n",
       "0  20231103  KMFZCD7JP8U336452       화물       소형           NaN    서울특별시  \\\n",
       "1  20231103  KMFZCS7JP8U367111      NaN      NaN           NaN      경기도   \n",
       "2  20231103  KMFZCD7JP5U085713      NaN      NaN           NaN      경기도   \n",
       "3  20231103  KMFZCD7JP7U241553      NaN      NaN           NaN      경기도   \n",
       "4  20231103  KMFZCS7JP8U370499       화물       소형             유    인천광역시   \n",
       "\n",
       "  DSCL_CTPV  SEASON_1ODR_CRDN_NOCS  SEASON_2ODR_CRDN_NOCS   \n",
       "0       경기도                      0                      4  \\\n",
       "1       경기도                      0                      6   \n",
       "2       경기도                      0                      5   \n",
       "3     서울특별시                      0                     31   \n",
       "4     인천광역시                      0                      1   \n",
       "\n",
       "   SEASON_3ODR_CRDN_NOCS  SEASON_4ODR_CRDN_NOCS  EMGN_CRDN_NOCS   \n",
       "0                     17                     28               3  \\\n",
       "1                      0                      0               0   \n",
       "2                      0                      0               1   \n",
       "3                      0                      0               0   \n",
       "4                      0                      0               2   \n",
       "\n",
       "   ORDITM_CRDN_NOCS  \n",
       "0               332  \n",
       "1                 0  \n",
       "2                 0  \n",
       "3                 0  \n",
       "4                99  "
      ]
     },
     "execution_count": 2494,
     "metadata": {},
     "output_type": "execute_result"
    }
   ],
   "source": [
    "STD_BD_RUN_LMT_CURSTT.head()"
   ]
  },
  {
   "cell_type": "markdown",
   "id": "43948156-f5dc-4fdc-881a-c9b20ad28941",
   "metadata": {},
   "source": [
    "### [출력] STD_BD_RUN_LMT_CURSTT"
   ]
  },
  {
   "cell_type": "code",
   "execution_count": 2495,
   "id": "6042cac5-0863-492b-8187-b95b1e2bb70c",
   "metadata": {},
   "outputs": [],
   "source": [
    "# expdf = STD_BD_RUN_LMT_CURSTT\n",
    "# table_nm = 'STD_BD_RUN_LMT_CURSTT'.upper()\n",
    "\n",
    "# # 테이블 생성\n",
    "# sql = 'create or replace table ' + table_nm + '( \\n'\n",
    "\n",
    "# for idx,column in enumerate(expdf.columns):\n",
    "#     # if 'float' in expdf[column].dtype.name:\n",
    "#     #     sql += column + ' float'\n",
    "#     # elif 'int' in expdf[column].dtype.name:\n",
    "#     #     sql += column + ' number'\n",
    "#     # else:\n",
    "#     sql += column + ' varchar(255)'\n",
    "\n",
    "#     if len(expdf.columns) - 1 != idx:\n",
    "#         sql += ','\n",
    "#     sql += '\\n'\n",
    "# sql += ')'    \n",
    "# we.execute(sql)\n",
    "\n",
    "# # 데이터 추가\n",
    "# # 5s\n",
    "# we.import_from_pandas(expdf, table_nm)"
   ]
  },
  {
   "cell_type": "code",
   "execution_count": 2496,
   "id": "d2f1a639-1884-4dc2-b1c7-67adfba520cc",
   "metadata": {
    "tags": []
   },
   "outputs": [
    {
     "data": {
      "text/plain": [
       "'20231103'"
      ]
     },
     "execution_count": 2496,
     "metadata": {},
     "output_type": "execute_result"
    }
   ],
   "source": [
    "today_date = datetime.today().strftime(\"%Y%m%d\")\n",
    "today_date"
   ]
  },
  {
   "cell_type": "code",
   "execution_count": 2497,
   "id": "c58eee84-e5d3-4762-b11c-db3ff2307eb0",
   "metadata": {
    "tags": []
   },
   "outputs": [],
   "source": [
    "# # 2.9s\n",
    "# STD_BD_RUN_LMT_CURSTT.to_csv(os.path.join(df3_fold, f'STD_BD_RUN_LMT_CURSTT({today_date}).csv'), index=False)"
   ]
  },
  {
   "cell_type": "code",
   "execution_count": 2498,
   "id": "868a6409-da72-4813-8bb6-6f35a653265d",
   "metadata": {
    "tags": []
   },
   "outputs": [],
   "source": [
    "### !!! 수정 끝(2023.09.06)"
   ]
  },
  {
   "cell_type": "code",
   "execution_count": null,
   "id": "8d301c98-1146-47f0-b575-ddfe7fd3d2d7",
   "metadata": {},
   "outputs": [],
   "source": []
  },
  {
   "cell_type": "code",
   "execution_count": 2499,
   "id": "09022ab2-540a-496f-8410-5af991223345",
   "metadata": {},
   "outputs": [],
   "source": [
    "## 계절제별 적발건수\n",
    "season_tot = lmt1[[x + '_일평균' for x in limit_season_rename_dict.values()]].sum().reset_index()\n",
    "season_tot = season_tot.rename(columns={'index':'계절제차수', 0:'일평균적발건수'})\n",
    "season_tot['계절제차수'] = season_tot['계절제차수'].str.replace('계절제_', '').str.replace('_일평균', '')\n",
    "today_date = datetime.today().strftime(\"%Y%m%d\")\n",
    "season_tot['테이블생성일자'] = today_date\n",
    "cdict = {\n",
    "    '계절제차수':'SEASON_ORD', \n",
    "    '일평균적발건수':'DY_AVRG_CRDN_NOCS', \n",
    "    '테이블생성일자':'LOAD_DT', \n",
    "    }\n",
    "STD_BD_SEASON_DY_AVRG_CRDN_NOCS = season_tot.rename(columns=cdict)"
   ]
  },
  {
   "cell_type": "code",
   "execution_count": 2500,
   "id": "7b99d7b8-5f11-4e30-8a20-61a1bbbb603f",
   "metadata": {},
   "outputs": [
    {
     "data": {
      "text/plain": [
       "Index(['SEASON_ORD', 'DY_AVRG_CRDN_NOCS', 'LOAD_DT'], dtype='object')"
      ]
     },
     "execution_count": 2500,
     "metadata": {},
     "output_type": "execute_result"
    }
   ],
   "source": [
    "STD_BD_SEASON_DY_AVRG_CRDN_NOCS.columns"
   ]
  },
  {
   "cell_type": "code",
   "execution_count": 2501,
   "id": "3cce28e1-ced2-4023-a508-48d30b7e96ea",
   "metadata": {
    "tags": []
   },
   "outputs": [
    {
     "name": "stdout",
     "output_type": "stream",
     "text": [
      "<class 'pandas.core.frame.DataFrame'>\n",
      "RangeIndex: 4 entries, 0 to 3\n",
      "Data columns (total 3 columns):\n",
      " #   Column             Non-Null Count  Dtype  \n",
      "---  ------             --------------  -----  \n",
      " 0   SEASON_ORD         4 non-null      object \n",
      " 1   DY_AVRG_CRDN_NOCS  4 non-null      float64\n",
      " 2   LOAD_DT            4 non-null      object \n",
      "dtypes: float64(1), object(2)\n",
      "memory usage: 224.0+ bytes\n"
     ]
    }
   ],
   "source": [
    "STD_BD_SEASON_DY_AVRG_CRDN_NOCS.info()"
   ]
  },
  {
   "cell_type": "markdown",
   "id": "14cdf3ad-eddd-4427-85f4-8c64f7ad0ce6",
   "metadata": {},
   "source": [
    "### [출력] STD_BD_SEASON_DY_AVRG_CRDN_NOCS"
   ]
  },
  {
   "cell_type": "code",
   "execution_count": 2502,
   "id": "94f8b14f-55ac-404e-a424-4d0990519632",
   "metadata": {},
   "outputs": [],
   "source": [
    "# expdf = STD_BD_SEASON_DY_AVRG_CRDN_NOCS\n",
    "# table_nm = 'STD_BD_SEASON_DY_AVRG_CRDN_NOCS'.upper()\n",
    "\n",
    "# # 테이블 생성\n",
    "# sql = 'create or replace table ' + table_nm + '( \\n'\n",
    "\n",
    "# for idx,column in enumerate(expdf.columns):\n",
    "#     if 'float' in expdf[column].dtype.name:\n",
    "#         sql += column + ' float'\n",
    "#     elif 'int' in expdf[column].dtype.name:\n",
    "#         sql += column + ' number'\n",
    "#     else:\n",
    "#         sql += column + ' varchar(255)'\n",
    "\n",
    "#     if len(expdf.columns) - 1 != idx:\n",
    "#         sql += ','\n",
    "#     sql += '\\n'\n",
    "# sql += ')'    \n",
    "# we.execute(sql)\n",
    "\n",
    "# # 데이터 추가\n",
    "# # 5s\n",
    "# we.import_from_pandas(expdf, table_nm)\n",
    "\n",
    "# print(f'data export : {table_nm}')"
   ]
  },
  {
   "cell_type": "code",
   "execution_count": 2504,
   "id": "73a51d75-bd04-41ae-bbf9-77710f9899cb",
   "metadata": {},
   "outputs": [],
   "source": [
    "## 지역별 상시운행제한 단속 현황\n",
    "us_total2 = us_total.merge(limit_alw, on='차대번호', how='left')"
   ]
  },
  {
   "cell_type": "code",
   "execution_count": 2503,
   "id": "134593a5-439e-450a-bd8d-19c58e153710",
   "metadata": {
    "tags": []
   },
   "outputs": [
    {
     "data": {
      "text/plain": [
       "Index(['번호', '차대번호', '적발유형', '단속지역코드', '등록시도코드', '등록시군구코드', '적발년월', '법정동코드',\n",
       "       '등록시도', '등록시군구', '단속시도코드', '단속시군구코드', '단속시도', '단속시군구', '단속지역', '적발건수',\n",
       "       '적발년도'],\n",
       "      dtype='object')"
      ]
     },
     "execution_count": 2503,
     "metadata": {},
     "output_type": "execute_result"
    }
   ],
   "source": [
    "us_total2.columns"
   ]
  },
  {
   "cell_type": "code",
   "execution_count": 2514,
   "id": "283efc96-6ab2-4f15-a2d6-59ca881691f9",
   "metadata": {
    "tags": []
   },
   "outputs": [
    {
     "data": {
      "text/plain": [
       "array(['서울특별시', '인천광역시', '경기도', '부산광역시', '충청남도', '충청북도', '경상북도',\n",
       "       '제주특별자치도', '광주광역시', '경상남도', '전라남도', '강원특별자치도', '대전광역시', '세종특별자치시',\n",
       "       '대구광역시', '전라북도', '울산광역시'], dtype=object)"
      ]
     },
     "execution_count": 2514,
     "metadata": {},
     "output_type": "execute_result"
    }
   ],
   "source": [
    "us_total2['등록시도'].unique()"
   ]
  },
  {
   "cell_type": "code",
   "execution_count": 2518,
   "id": "364c9925-5e09-4465-a490-cba28f9cb32e",
   "metadata": {
    "tags": []
   },
   "outputs": [],
   "source": [
    "us_total2.loc[(us_total2['등록시도'] == '서울특별시') | (us_total2['등록시도'] == '경기도') | (us_total2['등록시도'] == '인천광역시'), '등록지역'] = '수도권'\n",
    "us_total2['등록지역'] = us_total2['등록지역'].fillna('수도권외')"
   ]
  },
  {
   "cell_type": "code",
   "execution_count": 2519,
   "id": "13785295-2f08-4268-85fb-99492a64bac2",
   "metadata": {
    "tags": []
   },
   "outputs": [
    {
     "data": {
      "text/plain": [
       "array(['수도권', '수도권외'], dtype=object)"
      ]
     },
     "execution_count": 2519,
     "metadata": {},
     "output_type": "execute_result"
    }
   ],
   "source": [
    "us_total2['등록지역'].unique()"
   ]
  },
  {
   "cell_type": "code",
   "execution_count": 2521,
   "id": "e7d5e57e-0c86-444f-b46b-4169030dd480",
   "metadata": {
    "tags": []
   },
   "outputs": [
    {
     "data": {
      "text/plain": [
       "0"
      ]
     },
     "execution_count": 2521,
     "metadata": {},
     "output_type": "execute_result"
    }
   ],
   "source": [
    "us_total2['적발년월'].isnull().sum()"
   ]
  },
  {
   "cell_type": "code",
   "execution_count": 2522,
   "id": "f3690f4e-aa68-494b-bcb5-81348a0a26ed",
   "metadata": {
    "tags": []
   },
   "outputs": [],
   "source": [
    "us_total2['적발년월'] = us_total2['적발년월'].astype('str')\n",
    "us_total2['적발년월_년'] = us_total2['적발년월'].str[:4]"
   ]
  },
  {
   "cell_type": "code",
   "execution_count": 2523,
   "id": "2fc4c132-844c-45aa-9b7e-1eb25591b6f4",
   "metadata": {
    "tags": []
   },
   "outputs": [
    {
     "data": {
      "text/plain": [
       "0"
      ]
     },
     "execution_count": 2523,
     "metadata": {},
     "output_type": "execute_result"
    }
   ],
   "source": [
    "us_total2['적발년월_년'].isnull().sum()"
   ]
  },
  {
   "cell_type": "code",
   "execution_count": 2526,
   "id": "348c37b0-876b-4ad3-8524-329d8c5d2a83",
   "metadata": {
    "tags": []
   },
   "outputs": [
    {
     "data": {
      "text/plain": [
       "(86834, 19)"
      ]
     },
     "execution_count": 2526,
     "metadata": {},
     "output_type": "execute_result"
    }
   ],
   "source": [
    "us_total2 = us_total2.sort_values('적발년월_년', ascending=True).drop_duplicates('차대번호').reset_index(drop=True)\n",
    "us_total2.shape"
   ]
  },
  {
   "cell_type": "code",
   "execution_count": 2527,
   "id": "8f2c16b7-8e97-42b9-8692-aa8e8a0114ea",
   "metadata": {},
   "outputs": [],
   "source": [
    "# !!! 수정 시작(2023.11.03)\n",
    "## 지역별 상시운행제한 단속 현황\n",
    "us_total2 = us_total.merge(limit_alw, on='차대번호', how='left')\n",
    "us_total2.loc[(us_total2['등록시도'] == '서울특별시') | (us_total2['등록시도'] == '경기도') | (us_total2['등록시도'] == '인천광역시'), '등록지역'] = '수도권'\n",
    "us_total2['등록지역'] = us_total2['등록지역'].fillna('수도권외')\n",
    "us_total2['적발년월'] = us_total2['적발년월'].astype('str')\n",
    "us_total2['적발년월_년'] = us_total2['적발년월'].str[:4]\n",
    "us_total2 = us_total2.sort_values('적발년월_년', ascending=True).drop_duplicates('차대번호').reset_index(drop=True)\n",
    "us_total2 = us_total2.drop(['적발건수'], axis=1)\n",
    "us_total2 = us_total2.rename(columns={'적발년월_년':'적발년도', '상시':'적발건수'})\n",
    "# !!! 수정 끝(2023.11.03)"
   ]
  },
  {
   "cell_type": "code",
   "execution_count": 2528,
   "id": "82db8a4c-e1f0-4475-9cd8-18e83d25db3a",
   "metadata": {
    "tags": []
   },
   "outputs": [
    {
     "data": {
      "text/plain": [
       "dtype('float64')"
      ]
     },
     "execution_count": 2528,
     "metadata": {},
     "output_type": "execute_result"
    }
   ],
   "source": [
    "us_total2['적발건수'].dtype"
   ]
  },
  {
   "cell_type": "code",
   "execution_count": 2529,
   "id": "4c6c5353-ae0b-456f-9053-7d11fff2cbf5",
   "metadata": {
    "tags": []
   },
   "outputs": [
    {
     "data": {
      "text/plain": [
       "Index(['번호', '차대번호', '적발유형', '단속지역코드', '등록시도코드', '등록시군구코드', '적발년월', '법정동코드',\n",
       "       '등록시도', '등록시군구', '단속시도코드', '단속시군구코드', '단속시도', '단속시군구', '단속지역', '적발건수',\n",
       "       '등록지역', '적발년도'],\n",
       "      dtype='object')"
      ]
     },
     "execution_count": 2529,
     "metadata": {},
     "output_type": "execute_result"
    }
   ],
   "source": [
    "us_total2.columns"
   ]
  },
  {
   "cell_type": "code",
   "execution_count": 2530,
   "id": "2464dac9-8542-4002-990f-c43490113270",
   "metadata": {
    "tags": []
   },
   "outputs": [
    {
     "data": {
      "text/plain": [
       "array(['수도권', '수도권외'], dtype=object)"
      ]
     },
     "execution_count": 2530,
     "metadata": {},
     "output_type": "execute_result"
    }
   ],
   "source": [
    "us_total2['등록지역'].unique()"
   ]
  },
  {
   "cell_type": "code",
   "execution_count": 2531,
   "id": "b458693b-08e0-429f-bde2-77212292c5a2",
   "metadata": {
    "tags": []
   },
   "outputs": [
    {
     "data": {
      "text/plain": [
       "array(['서울특별시', '부산광역시', '대구광역시', '경기도', '충청북도', '경상북도', '울산광역시', '충청남도',\n",
       "       '대전광역시', '광주광역시', '세종특별자치시', '경상남도', '강원특별자치도', '인천광역시', '전라북도',\n",
       "       '전라남도', '제주특별자치도'], dtype=object)"
      ]
     },
     "execution_count": 2531,
     "metadata": {},
     "output_type": "execute_result"
    }
   ],
   "source": [
    "us_total2['등록시도'].unique()"
   ]
  },
  {
   "cell_type": "code",
   "execution_count": 2532,
   "id": "5ee30847-6ffa-4c6d-a9f2-41b96842175d",
   "metadata": {},
   "outputs": [],
   "source": [
    "orditm = us_total2.loc[(us_total2['적발건수'] > 0) & (us_total2['적발년도'].isnull() == False), [\n",
    "    '차대번호',\n",
    "    '적발년도',\n",
    "    '적발건수',\n",
    "    '등록지역', # !!! 수정(2023.11.03)\n",
    "    '등록시도', # !!! 수정(2023.11.03)\n",
    "]]\n",
    "\n",
    "today_date = datetime.today().strftime(\"%Y%m%d\")\n",
    "orditm['테이블생성일자'] = today_date\n",
    "cdict = {\n",
    "    '테이블생성일자':'LOAD_DT', \n",
    "    '차대번호':'VIN', \n",
    "    '적발년도':'DSCL_YR', \n",
    "    '적발건수':'DSCL_NOCS', \n",
    "    '등록지역':'RGN',\n",
    "    '등록시도':'CTPV', \n",
    "}\n",
    "STD_BD_ORDITM_DSCL_CURSTT = orditm.rename(columns=cdict)"
   ]
  },
  {
   "cell_type": "code",
   "execution_count": 2533,
   "id": "43c5ba8d-a4f1-43df-b1f3-bd3ef83f56a2",
   "metadata": {},
   "outputs": [
    {
     "data": {
      "text/plain": [
       "Index(['VIN', 'DSCL_YR', 'DSCL_NOCS', 'RGN', 'CTPV', 'LOAD_DT'], dtype='object')"
      ]
     },
     "execution_count": 2533,
     "metadata": {},
     "output_type": "execute_result"
    }
   ],
   "source": [
    "STD_BD_ORDITM_DSCL_CURSTT.columns"
   ]
  },
  {
   "cell_type": "code",
   "execution_count": 2534,
   "id": "228968fe-046f-42ec-827e-84ea6cceb583",
   "metadata": {
    "tags": []
   },
   "outputs": [
    {
     "data": {
      "text/plain": [
       "array(['서울특별시', '부산광역시', '대구광역시', '경기도', '충청북도', '경상북도', '울산광역시', '충청남도',\n",
       "       '대전광역시', '광주광역시', '세종특별자치시', '경상남도', '강원특별자치도', '인천광역시', '전라북도',\n",
       "       '전라남도', '제주특별자치도'], dtype=object)"
      ]
     },
     "execution_count": 2534,
     "metadata": {},
     "output_type": "execute_result"
    }
   ],
   "source": [
    "STD_BD_ORDITM_DSCL_CURSTT['CTPV'].unique()"
   ]
  },
  {
   "cell_type": "markdown",
   "id": "6d26c819-2947-4fc8-ae3a-d01a60bc77f4",
   "metadata": {},
   "source": [
    "### [출력] STD_BD_ORDITM_DSCL_CURSTT"
   ]
  },
  {
   "cell_type": "code",
   "execution_count": 2535,
   "id": "b481e9b5-246a-4303-bcdd-83f28cd1e19e",
   "metadata": {},
   "outputs": [
    {
     "name": "stdout",
     "output_type": "stream",
     "text": [
      "data export : STD_BD_ORDITM_DSCL_CURSTT\n"
     ]
    }
   ],
   "source": [
    "# expdf = STD_BD_ORDITM_DSCL_CURSTT\n",
    "# table_nm = 'STD_BD_ORDITM_DSCL_CURSTT'.upper()\n",
    "\n",
    "# # 테이블 생성\n",
    "# sql = 'create or replace table ' + table_nm + '( \\n'\n",
    "\n",
    "# for idx,column in enumerate(expdf.columns):\n",
    "#     # if 'float' in expdf[column].dtype.name:\n",
    "#     #     sql += column + ' float'\n",
    "#     # elif 'int' in expdf[column].dtype.name:\n",
    "#     #     sql += column + ' number'\n",
    "#     # else:\n",
    "#     sql += column + ' varchar(255)'\n",
    "\n",
    "#     if len(expdf.columns) - 1 != idx:\n",
    "#         sql += ','\n",
    "#     sql += '\\n'\n",
    "# sql += ')'    \n",
    "# we.execute(sql)\n",
    "\n",
    "# # 데이터 추가\n",
    "# # 5s\n",
    "# we.import_from_pandas(expdf, table_nm)\n",
    "\n",
    "# print(f'data export : {table_nm}')"
   ]
  },
  {
   "cell_type": "code",
   "execution_count": null,
   "id": "5ed60930-69a8-4342-b712-f8d21048fa05",
   "metadata": {},
   "outputs": [],
   "source": [
    "## 적발지역별 계절제 단속 현황 출력\n",
    "is_season2 = is_season.sort_values(['적발시도', '적발시군구']).drop_duplicates(['차대번호', '적발시도']).reset_index(drop=True) # !!! 수정(2023.08.10)"
   ]
  },
  {
   "cell_type": "code",
   "execution_count": null,
   "id": "04142723-ed74-46b4-96a9-b6fb03391768",
   "metadata": {},
   "outputs": [],
   "source": [
    "is_lmt = is_season2.merge(limit_season, on='차대번호', how='left')\n",
    "is_lmt.loc[(is_lmt['적발시도'] == '서울특별시') | (is_lmt['적발시도'] == '경기도') | (is_lmt['적발시도'] == '인천광역시'), '적발지역'] = '수도권'\n",
    "is_lmt['적발지역'] = is_lmt['적발지역'].fillna('수도권외')"
   ]
  },
  {
   "cell_type": "code",
   "execution_count": null,
   "id": "6a4259af-915f-49ad-892a-41bebd54d810",
   "metadata": {
    "tags": []
   },
   "outputs": [],
   "source": [
    "is_lmt['등록시도'].unique()"
   ]
  },
  {
   "cell_type": "code",
   "execution_count": null,
   "id": "08b1565d-d916-4736-84d3-197d134f432c",
   "metadata": {
    "tags": []
   },
   "outputs": [],
   "source": [
    "is_lmt['적발시도코드'] = is_lmt['적발지역코드'].str[:2] # !!! 수정\n",
    "is_lmt['적발시도코드'].head()"
   ]
  },
  {
   "cell_type": "code",
   "execution_count": null,
   "id": "ac497477-cd15-476b-81d3-afec2fbf6a7b",
   "metadata": {},
   "outputs": [],
   "source": [
    "is_lmt2 = is_lmt[[\n",
    "    '적발지역',\n",
    "    '적발시도',\n",
    "    '적발시도코드',  # !!! 수정\n",
    "    '등록시도',  # !!! 수정\n",
    "    '차대번호', \n",
    "    '계절제_1차', \n",
    "    '계절제_2차', \n",
    "    '계절제_3차', \n",
    "    '계절제_4차', \n",
    "]]"
   ]
  },
  {
   "cell_type": "code",
   "execution_count": null,
   "id": "9f43fd7a-b1ce-47c1-9d95-cfa67207dc44",
   "metadata": {},
   "outputs": [],
   "source": [
    "dfm = df.sort_values('최초등록일자', ascending=False).drop_duplicates('차대번호').reset_index(drop=True)"
   ]
  },
  {
   "cell_type": "code",
   "execution_count": null,
   "id": "d1d245e5-615d-48f4-8b9c-7668ec9a92a6",
   "metadata": {},
   "outputs": [],
   "source": [
    "slimit = is_lmt2.merge(dfm[['차대번호', '차종', '차종유형']], on='차대번호', how='left')  # !!! 수정\n",
    "today_date = datetime.today().strftime(\"%Y%m%d\")"
   ]
  },
  {
   "cell_type": "code",
   "execution_count": null,
   "id": "d9d175f5-7b6a-4595-b0be-b6f7cdfa8b49",
   "metadata": {},
   "outputs": [],
   "source": [
    "# 시도명 2글자로 수정\n",
    "slimit['적발시도'] = slimit['적발시도'].map({'경기도':'경기', '대구광역시':'대구', '부산광역시':'부산', '서울특별시':'서울', '인천광역시':'인천'})"
   ]
  },
  {
   "cell_type": "code",
   "execution_count": null,
   "id": "dc3a1f31-dee0-43fa-81ea-b58a7986d20d",
   "metadata": {},
   "outputs": [],
   "source": [
    "# 건수 0 -> nan\n",
    "slimit.loc[slimit['계절제_1차'] == 0, '계절제_1차'] = np.nan\n",
    "slimit.loc[slimit['계절제_2차'] == 0, '계절제_2차'] = np.nan\n",
    "slimit.loc[slimit['계절제_3차'] == 0, '계절제_3차'] = np.nan\n",
    "slimit.loc[slimit['계절제_4차'] == 0, '계절제_4차'] = np.nan"
   ]
  },
  {
   "cell_type": "code",
   "execution_count": null,
   "id": "46fd7331-5035-478c-af44-3658f47b632f",
   "metadata": {},
   "outputs": [],
   "source": [
    "slimit['테이블생성일자'] = today_date\n",
    "cdict = {\n",
    "    '테이블생성일자':'LOAD_DT', \n",
    "    '적발지역':'DSCL_RGN', \n",
    "    '적발시도':'DSCL_CTPV', \n",
    "    '적발시도코드':'DSCL_CTPV_CD', # !!! 수정\n",
    "    '등록시도':'REG_CTPV', # !!! 수정\n",
    "    '차대번호':'VIN', \n",
    "    '계절제_1차':'SEASON_1ODR_CRDN_NOCS', \n",
    "    '계절제_2차':'SEASON_2ODR_CRDN_NOCS', \n",
    "    '계절제_3차':'SEASON_3ODR_CRDN_NOCS', \n",
    "    '계절제_4차':'SEASON_4ODR_CRDN_NOCS', \n",
    "    '차종':'VHCTY_CD',\n",
    "    '차종유형':'VHCTY_TY', \n",
    "}\n",
    "STD_BD_SEASON_DSCL_RGN_CURSTT = slimit.rename(columns=cdict)"
   ]
  },
  {
   "cell_type": "code",
   "execution_count": null,
   "id": "74203a62-cac4-4192-98b5-3c5bf55dfe25",
   "metadata": {},
   "outputs": [],
   "source": [
    "STD_BD_SEASON_DSCL_RGN_CURSTT.columns"
   ]
  },
  {
   "cell_type": "code",
   "execution_count": null,
   "id": "fc07ea87-62dd-4a80-875b-aca5c194fb6d",
   "metadata": {
    "tags": []
   },
   "outputs": [],
   "source": [
    "STD_BD_SEASON_DSCL_RGN_CURSTT[['DSCL_RGN', 'DSCL_CTPV', 'DSCL_CTPV_CD']].isnull().sum()"
   ]
  },
  {
   "cell_type": "markdown",
   "id": "a3ee3738-c071-445b-9ce0-9d1d345b3110",
   "metadata": {},
   "source": [
    "### [출력] STD_BD_SEASON_DSCL_RGN_CURSTT"
   ]
  },
  {
   "cell_type": "code",
   "execution_count": null,
   "id": "1472d41c-6b0e-49ea-9281-d0369a302d5a",
   "metadata": {},
   "outputs": [],
   "source": [
    "# expdf = STD_BD_SEASON_DSCL_RGN_CURSTT\n",
    "# table_nm = 'STD_BD_SEASON_DSCL_RGN_CURSTT'.upper()\n",
    "\n",
    "# # 테이블 생성\n",
    "# sql = 'create or replace table ' + table_nm + '( \\n'\n",
    "\n",
    "# for idx,column in enumerate(expdf.columns):\n",
    "#     # if 'float' in expdf[column].dtype.name:\n",
    "#     #     sql += column + ' float'\n",
    "#     # elif 'int' in expdf[column].dtype.name:\n",
    "#     #     sql += column + ' number'\n",
    "#     # else:\n",
    "#     sql += column + ' varchar(255)'\n",
    "\n",
    "#     if len(expdf.columns) - 1 != idx:\n",
    "#         sql += ','\n",
    "#     sql += '\\n'\n",
    "# sql += ')'    \n",
    "# we.execute(sql)\n",
    "\n",
    "# # 데이터 추가\n",
    "# # 5s\n",
    "# we.import_from_pandas(expdf, table_nm)\n",
    "\n",
    "# print(f'data export : {table_nm}')"
   ]
  },
  {
   "cell_type": "code",
   "execution_count": null,
   "id": "4844e61b-9ef6-406c-b7de-923e8d75b3e0",
   "metadata": {},
   "outputs": [],
   "source": [
    "## 5등급 저감사업\n",
    "ce = carr.merge(elpm, on='차대번호', how='left')\n",
    "dfe = ce.merge(attr, on='차대번호', how='left')"
   ]
  },
  {
   "cell_type": "code",
   "execution_count": null,
   "id": "21aaca93-4ede-4686-95d0-304e5f927e15",
   "metadata": {},
   "outputs": [],
   "source": [
    "dfe['최초등록일자'] = dfe['최초등록일자'].astype('str')\n",
    "dfe['최초등록일자_년'] = dfe['최초등록일자'].str[:4]\n",
    "dfe['최초등록일자_월'] = dfe['최초등록일자'].str[4:6]\n",
    "dfe['최초등록일자_일'] = dfe['최초등록일자'].str[6:8]\n",
    "dfe['말소일자_년'] = dfe['말소일자'].astype('str').str[:4]\n",
    "dfe['말소일자_월'] = dfe['말소일자'].astype('str').str[4:6]\n",
    "dfe['말소일자_일'] = dfe['말소일자'].astype('str').str[6:8]"
   ]
  },
  {
   "cell_type": "code",
   "execution_count": null,
   "id": "ca470ee2-f316-4c3a-b358-786770956d0e",
   "metadata": {},
   "outputs": [],
   "source": [
    "errc['변경일자'] = errc['변경일자'].astype('str')\n",
    "errc['변경일자_년'] = errc['변경일자'].str[:4]\n",
    "errc['변경일자_월'] = errc['변경일자'].str[4:6]\n",
    "errc['변경일자_일'] = errc['변경일자'].str[6:8]"
   ]
  },
  {
   "cell_type": "code",
   "execution_count": null,
   "id": "7d6cf494-9cfa-45fc-bd3f-f8352f17f952",
   "metadata": {},
   "outputs": [],
   "source": [
    "ere = errc.merge(elpm, on='차대번호', how='left')\n",
    "erea = ere.merge(attr, on='차대번호', how='left')"
   ]
  },
  {
   "cell_type": "code",
   "execution_count": null,
   "id": "1fcd8dc6-dd20-4069-9f45-e3d353e95b82",
   "metadata": {},
   "outputs": [],
   "source": [
    "# 연도 설정\n",
    "# year = '2022'\n",
    "year = today_date[:4]\n",
    "\n",
    "dfe['연도'] = year"
   ]
  },
  {
   "cell_type": "code",
   "execution_count": null,
   "id": "6fbce710-c4d4-4ce7-ad5b-f9bf370f6a6e",
   "metadata": {},
   "outputs": [],
   "source": [
    "def knd1(x):\n",
    "    if '1종' in x.unique():\n",
    "        return x.value_counts()['1종']\n",
    "    else:\n",
    "        return 0\n",
    "def knd2(x):\n",
    "    if '1종+SCR' in x.unique():\n",
    "        return x.value_counts()['1종+SCR']\n",
    "    else:\n",
    "        return 0"
   ]
  },
  {
   "cell_type": "code",
   "execution_count": null,
   "id": "ca35c023-1b9d-4b90-9f4d-89159cfa8ca2",
   "metadata": {},
   "outputs": [],
   "source": [
    "# 올해 차량 대수\n",
    "grp1 = dfe[dfe['차량말소YN'] == 'N'].groupby(['연도']).agg({'차대번호':'count', '저감장치구분':[knd1, knd2]}).reset_index()\n",
    "grp1.columns = ['연도', '차량대수', '저감장치(1종)', '저감장치(1종+SCR)']"
   ]
  },
  {
   "cell_type": "code",
   "execution_count": null,
   "id": "68d150e6-4b26-48e6-ac58-d3a07731529a",
   "metadata": {},
   "outputs": [],
   "source": [
    "# 연도별 등록대수\n",
    "grp2 = dfe[dfe['차량말소YN'] == 'N'].groupby(['최초등록일자_년']).agg({'차대번호':'count', '저감장치구분':[knd1, knd2]}).reset_index()\n",
    "grp2.columns = ['연도', '등록대수', '등록저감장치(1종)', '등록저감장치(1종+SCR)']"
   ]
  },
  {
   "cell_type": "code",
   "execution_count": null,
   "id": "e699bb60-1ef1-4cac-8aa4-579e36061aae",
   "metadata": {},
   "outputs": [],
   "source": [
    "# 연도별 말소대수\n",
    "grp3 = erea.groupby('변경일자_년').agg({'차대번호':'count', '저감장치구분':[knd1, knd2]}).reset_index()\n",
    "grp3.columns = ['연도', '말소대수', '말소저감장치(1종)', '말소저감장치(1종+SCR)']"
   ]
  },
  {
   "cell_type": "code",
   "execution_count": null,
   "id": "3b428f4f-4606-4997-8d93-ad30481d962b",
   "metadata": {},
   "outputs": [],
   "source": [
    "# 연도별 조기폐차 대수\n",
    "grp4 = dfe.groupby('말소일자_년').agg({'조기폐차최종승인YN':'count'}).reset_index()\n",
    "grp4 = grp4.rename(columns={'말소일자_년':'연도', '조기폐차최종승인YN':'조기폐차'})"
   ]
  },
  {
   "cell_type": "code",
   "execution_count": null,
   "id": "213ded19-933a-49fe-8918-439cbfbe349d",
   "metadata": {},
   "outputs": [],
   "source": [
    "# 차량 통계 기본 데이터셋\n",
    "yr_list = []\n",
    "for yr in range(2019, int(year) + 1):\n",
    "    yr_list.append(str(yr))\n",
    "base = pd.DataFrame({'연도':yr_list})"
   ]
  },
  {
   "cell_type": "code",
   "execution_count": null,
   "id": "5e702806-f22d-40f3-95df-3ab35b083495",
   "metadata": {},
   "outputs": [],
   "source": [
    "base1 = base.merge(grp1, on='연도', how='left')\n",
    "base2 = base1.merge(grp2, on='연도', how='left')\n",
    "base3 = base2.merge(grp3, on='연도', how='left')\n",
    "base4 = base3.merge(grp4, on='연도', how='left')"
   ]
  },
  {
   "cell_type": "code",
   "execution_count": null,
   "id": "6816f083-96a2-4d59-b6e6-1883444e70bb",
   "metadata": {},
   "outputs": [],
   "source": [
    "base4[['차량대수', '조기폐차', '저감장치(1종)', '저감장치(1종+SCR)', '등록대수', '등록저감장치(1종)', '등록저감장치(1종+SCR)', '말소대수', '말소저감장치(1종)', '말소저감장치(1종+SCR)']] = base4[['차량대수', '조기폐차', '저감장치(1종)', '저감장치(1종+SCR)', '등록대수', '등록저감장치(1종)', '등록저감장치(1종+SCR)', '말소대수', '말소저감장치(1종)', '말소저감장치(1종+SCR)']].fillna(0)"
   ]
  },
  {
   "cell_type": "code",
   "execution_count": null,
   "id": "5852caeb-38ad-4b60-9d36-2b2508436938",
   "metadata": {},
   "outputs": [],
   "source": [
    "n = len(base4['연도'].unique())\n",
    "for i in range(base4.shape[0] // n):\n",
    "    for j in range(2, n+1):\n",
    "        base4.loc[(i+1)*n - j, '차량대수'] = base4.loc[(i+1)*n - (j-1), '차량대수'] + base4.loc[(i+1)*n - (j-1), '말소대수'] - base4.loc[(i+1)*n - (j-1), '등록대수']\n",
    "        base4.loc[(i+1)*n - j, '저감장치(1종)'] = base4.loc[(i+1)*n - (j-1), '저감장치(1종)'] + base4.loc[(i+1)*n - (j-1), '말소저감장치(1종)'] - base4.loc[(i+1)*n - (j-1), '등록저감장치(1종)']\n",
    "        base4.loc[(i+1)*n - j, '저감장치(1종+SCR)'] = base4.loc[(i+1)*n - (j-1), '저감장치(1종+SCR)'] + base4.loc[(i+1)*n - (j-1), '말소저감장치(1종+SCR)'] - base4.loc[(i+1)*n - (j-1), '등록저감장치(1종+SCR)']"
   ]
  },
  {
   "cell_type": "code",
   "execution_count": null,
   "id": "f9b10f6c-db95-43e2-9b7c-45f3d21becc2",
   "metadata": {},
   "outputs": [],
   "source": [
    "base5 = base4[['연도', '차량대수', '조기폐차', '저감장치(1종)', '저감장치(1종+SCR)']]\n",
    "base5['감소대수'] = base5['차량대수'].shift() - base5['차량대수']\n",
    "base5['자연감소'] = base5['감소대수'] - base5['조기폐차']\n",
    "base5['미장착'] = base5['차량대수'] - base5['저감장치(1종)'] - base5['저감장치(1종+SCR)']"
   ]
  },
  {
   "cell_type": "code",
   "execution_count": null,
   "id": "fc246b18-a73d-41ca-a75b-f48ff0bfab0f",
   "metadata": {},
   "outputs": [],
   "source": [
    "base5['테이블생성일자'] = today_date\n",
    "base5 = base5[[\n",
    "    '연도',\n",
    "    '차량대수',\n",
    "    '자연감소',\n",
    "    '조기폐차',\n",
    "    '저감장치(1종)',\n",
    "    '저감장치(1종+SCR)',\n",
    "    '미장착',\n",
    "    '테이블생성일자'\n",
    "    ]]\n",
    "cdict = {\n",
    "    '연도':'YR', \n",
    "    '차량대수':'VHCL_MKCNT', \n",
    "    '자연감소':'NTRL_DCLN', \n",
    "    '조기폐차':'ELPDSRC', \n",
    "    '저감장치(1종)':'RDCDVC_1KND', \n",
    "    '저감장치(1종+SCR)':'RDCDVC_1KND_SCR', \n",
    "    '미장착':'UNMNTNG', \n",
    "    '테이블생성일자':'LOAD_DT', \n",
    "}\n",
    "STD_BD_DAT_GRD5_REDUC_BIZ = base5.rename(columns=cdict)"
   ]
  },
  {
   "cell_type": "code",
   "execution_count": null,
   "id": "5f13f79b-4091-4d6a-bd22-58f477fc737e",
   "metadata": {},
   "outputs": [],
   "source": [
    "STD_BD_DAT_GRD5_REDUC_BIZ.columns"
   ]
  },
  {
   "cell_type": "markdown",
   "id": "b1fd7f17-c1fd-4391-b28f-39334a60b0fd",
   "metadata": {},
   "source": [
    "### [출력] STD_BD_DAT_GRD5_REDUC_BIZ"
   ]
  },
  {
   "cell_type": "code",
   "execution_count": null,
   "id": "f026fe67-7817-4a8c-a15f-6c47bde9d74b",
   "metadata": {},
   "outputs": [],
   "source": [
    "# expdf = STD_BD_DAT_GRD5_REDUC_BIZ\n",
    "# table_nm = 'STD_BD_DAT_GRD5_REDUC_BIZ'.upper()\n",
    "\n",
    "# # 테이블 생성\n",
    "# try:\n",
    "#     sql = 'create table ' + table_nm + '( \\n'\n",
    "\n",
    "#     for idx,column in enumerate(expdf.columns):\n",
    "#         # if 'float' in expdf[column].dtype.name:\n",
    "#         #     sql += column + ' float'\n",
    "#         # elif 'int' in expdf[column].dtype.name:\n",
    "#         #     sql += column + ' number'\n",
    "#         # else:\n",
    "#         sql += column + ' varchar(255)'\n",
    "\n",
    "#         if len(expdf.columns) - 1 != idx:\n",
    "#             sql += ','\n",
    "#         sql += '\\n'\n",
    "#     sql += ')'    \n",
    "#     we.execute(sql)\n",
    "#     we.import_from_pandas(expdf, table_nm)\n",
    "# except:\n",
    "#     # 데이터 추가\n",
    "#     # 5s\n",
    "#     we.import_from_pandas(expdf, table_nm)\n",
    "\n",
    "# print(f'data export : {table_nm}')"
   ]
  },
  {
   "cell_type": "code",
   "execution_count": null,
   "id": "f0a6feaa-45b6-41c7-87f5-9046bea05732",
   "metadata": {},
   "outputs": [],
   "source": [
    "## 운행제한현황\n",
    "run_lmt1 = lmt1.copy()\n",
    "run_lmt1.loc[run_lmt1['DPF_YN'] == '무', '저감장치미장착'] = '미장착'"
   ]
  },
  {
   "cell_type": "code",
   "execution_count": null,
   "id": "009ca2df-e224-423d-aa4a-c6042f18c5f6",
   "metadata": {},
   "outputs": [],
   "source": [
    "total_grp_lmt = pd.DataFrame()\n",
    "for one in limit_season_rename_dict.values():\n",
    "    temp1 = run_lmt1.loc[run_lmt1[one] > 0, ['차대번호', '지역', '시도', '차종', '차종유형', '저감장치미장착'] + [one]]\n",
    "    temp2 = run_lmt1.loc[run_lmt1[one] > 1, ['차대번호', '지역', '시도', '차종', '차종유형'] + [one]]\n",
    "    if temp1.shape[0] > 0 and temp2.shape[0] > 0:\n",
    "        grp1 = temp1.groupby(['지역', '시도', '차종', '차종유형']).agg({'차대번호':'count', '저감장치미장착':'count'}).reset_index()\n",
    "        grp1 = grp1.rename(columns={'차대번호':'적발차량대수', '저감장치미장착':'저공해미조치'})\n",
    "        grp2 = temp2.groupby(['지역', '시도', '차종', '차종유형'])['차대번호'].count().reset_index()\n",
    "        grp2 = grp2.rename(columns={'차대번호':'중복적발대수'})\n",
    "        grp = grp1.merge(grp2, on=['지역', '시도', '차종', '차종유형'], how='left')\n",
    "        grp['계절관리제'] = one\n",
    "        total_grp_lmt = pd.concat([total_grp_lmt, grp], ignore_index=True)\n",
    "    else:\n",
    "        pass"
   ]
  },
  {
   "cell_type": "code",
   "execution_count": null,
   "id": "abb3efc2-8cb0-476d-9cec-4c3eb1e03db4",
   "metadata": {},
   "outputs": [],
   "source": [
    "today_date = datetime.today().strftime(\"%Y%m%d\")\n",
    "total_grp_lmt['테이블생성일자'] = today_date\n",
    "total_grp_lmt = total_grp_lmt[[\n",
    "    '계절관리제', \n",
    "    '지역', \n",
    "    '시도', \n",
    "    '차종', \n",
    "    '차종유형', \n",
    "    '적발차량대수', \n",
    "    '저공해미조치', \n",
    "    '중복적발대수', \n",
    "    '테이블생성일자', \n",
    "]]\n",
    "cdict = {\n",
    "    '계절관리제':'SEASON', \n",
    "    '지역':'RGN', \n",
    "    '시도':'CTPV', \n",
    "    '차종':'VHCTY_CD', \n",
    "    '차종유형':'VHCTY_TY', \n",
    "    '적발차량대수':'DSCL_VHCL_MKCNT', \n",
    "    '저공해미조치':'UNLEM', \n",
    "    '중복적발대수':'DUP_DSCL_MKCNT', \n",
    "    '테이블생성일자':'LOAD_DT', \n",
    "}\n",
    "STD_BD_DAT_RUN_LMT_CURSTT = total_grp_lmt.rename(columns=cdict)"
   ]
  },
  {
   "cell_type": "code",
   "execution_count": null,
   "id": "d88cd7a2-1218-4efa-823e-bdd61fce4bcd",
   "metadata": {},
   "outputs": [],
   "source": [
    "STD_BD_DAT_RUN_LMT_CURSTT.columns"
   ]
  },
  {
   "cell_type": "markdown",
   "id": "219ff528-3716-46ca-add2-7bd895c43436",
   "metadata": {},
   "source": [
    "### [출력] STD_BD_DAT_RUN_LMT_CURSTT"
   ]
  },
  {
   "cell_type": "code",
   "execution_count": null,
   "id": "272ae42a-023d-420c-92c6-0edadde056de",
   "metadata": {},
   "outputs": [],
   "source": [
    "# expdf = STD_BD_DAT_RUN_LMT_CURSTT\n",
    "# table_nm = 'STD_BD_DAT_RUN_LMT_CURSTT'.upper()\n",
    "\n",
    "# # 테이블 생성\n",
    "# try:\n",
    "#     sql = 'create table ' + table_nm + '( \\n'\n",
    "\n",
    "#     for idx,column in enumerate(expdf.columns):\n",
    "#         # if 'float' in expdf[column].dtype.name:\n",
    "#         #     sql += column + ' float'\n",
    "#         # elif 'int' in expdf[column].dtype.name:\n",
    "#         #     sql += column + ' number'\n",
    "#         # else:\n",
    "#         sql += column + ' varchar(255)'\n",
    "\n",
    "#         if len(expdf.columns) - 1 != idx:\n",
    "#             sql += ','\n",
    "#         sql += '\\n'\n",
    "#     sql += ')'    \n",
    "#     we.execute(sql)\n",
    "#     we.import_from_pandas(expdf, table_nm)\n",
    "# except:\n",
    "#     # 데이터 추가\n",
    "#     # 5s\n",
    "#     we.import_from_pandas(expdf, table_nm)\n",
    "\n",
    "# print(f'data export : {table_nm}')"
   ]
  },
  {
   "cell_type": "markdown",
   "id": "dcc27c3d-beec-4575-833f-c99a67caaa1f",
   "metadata": {},
   "source": [
    "## 3-2 code end ##################################################################"
   ]
  },
  {
   "cell_type": "markdown",
   "id": "1d2a4390-fd68-4a04-b10f-e97413f81d66",
   "metadata": {},
   "source": [
    "## 3-3 start"
   ]
  },
  {
   "cell_type": "code",
   "execution_count": null,
   "id": "43c56197-4f11-4d81-9b95-d13ff520aa2c",
   "metadata": {},
   "outputs": [],
   "source": [
    "## 등록정보(STD_CEG_CAR_MIG) 4, 5등급만\n",
    "# 20.2s\n",
    "car = wd.export_to_pandas(\"SELECT VIN, BSPL_STDG_CD, VHCL_ERSR_YN, MANP_MNG_NO, EXHST_GAS_GRD_CD, YRIDNW, VHCTY_CD, PURPS_CD2, FRST_REG_YMD, VHCL_FBCTN_YMD, VHRNO FROM STD_CEG_CAR_MIG WHERE EXHST_GAS_GRD_CD = 'A0504' OR EXHST_GAS_GRD_CD = 'A05T4' OR EXHST_GAS_GRD_CD = 'A0505' OR EXHST_GAS_GRD_CD = 'A05T5';\")\n",
    "car_ch_col = {\n",
    "    'VIN':'차대번호', \n",
    "    'BSPL_STDG_CD':'법정동코드', \n",
    "    'VHCL_ERSR_YN':'차량말소YN',\n",
    "    'MANP_MNG_NO':'제원관리번호', \n",
    "    'EXHST_GAS_GRD_CD':'배출가스등급', \n",
    "    'YRIDNW':'차량연식', \n",
    "    'VHCTY_CD':'차종', \n",
    "    'PURPS_CD2':'용도', \n",
    "    'FRST_REG_YMD':'최초등록일자',\n",
    "    'VHCL_FBCTN_YMD':'제작일자',\n",
    "    'VHRNO':'차량번호',\n",
    "}\n",
    "carr = car.rename(columns=car_ch_col)\n",
    "\n",
    "## 중복 차대번호 제거\n",
    "carr['최초등록일자'] = pd.to_numeric(carr['최초등록일자'], errors='coerce')\n",
    "carr = carr.sort_values('최초등록일자', ascending=False).drop_duplicates('차대번호').reset_index(drop=True)\n",
    "\n",
    "## 배출가스등급 코드 변환\n",
    "grd_dict = {\n",
    "    'A0501':'1', \n",
    "    'A0502':'2', \n",
    "    'A0503':'3', \n",
    "    'A0504':'4', \n",
    "    'A0505':'5', \n",
    "    'A05T2':'2',\n",
    "    'A05T3':'3', \n",
    "    'A05T4':'4', \n",
    "    'A05T5':'5', \n",
    "    'A05X':'X', \n",
    "}\n",
    "carr['배출가스등급'] = carr['배출가스등급'].replace(grd_dict)\n",
    "\n",
    "## 차종 코드 변환\n",
    "cd_dict = {\n",
    "    'A31M':'이륜', \n",
    "    'A31P':'승용', \n",
    "    'A31S':'특수', \n",
    "    'A31T':'화물', \n",
    "    'A31V':'승합'\n",
    "}\n",
    "carr['차종'] = carr['차종'].replace(cd_dict)\n",
    "\n",
    "## 용도 코드 변환\n",
    "purps_dict = {\n",
    "    'A08P':'개인용', \n",
    "    'A08B':'영업용', \n",
    "    'A08O':'관용',\n",
    "}\n",
    "carr['용도'] = carr['용도'].replace(purps_dict)\n",
    "\n",
    "## 등록정보 말소 제거\n",
    "carm = carr[carr['차량말소YN'] == 'N'].reset_index(drop=True)"
   ]
  },
  {
   "cell_type": "code",
   "execution_count": null,
   "id": "358485fc-4688-414f-b623-d02b7c5c2734",
   "metadata": {},
   "outputs": [],
   "source": [
    "## 등록&제원 병합\n",
    "# 0.7s\n",
    "cs = carm.merge(srcr, on='제원관리번호', how='left')"
   ]
  },
  {
   "cell_type": "code",
   "execution_count": null,
   "id": "5a6489c7-d233-4a7b-9e6b-597806e4a539",
   "metadata": {},
   "outputs": [],
   "source": [
    "## 등록&제원&정기&정밀 병합\n",
    "# 2m 0.5s\n",
    "csi = cs.merge(insm, on='차대번호', how='left')"
   ]
  },
  {
   "cell_type": "code",
   "execution_count": null,
   "id": "1ae7e7a2-0df9-412a-8ff6-f39bd3fb462f",
   "metadata": {},
   "outputs": [],
   "source": [
    "csi['법정동코드'] = csi['법정동코드'].astype('str')\n",
    "csi['법정동코드'] = csi['법정동코드'].str[:5] + '00000'\n",
    "csi['법정동코드'] = pd.to_numeric(csi['법정동코드'])"
   ]
  },
  {
   "cell_type": "code",
   "execution_count": null,
   "id": "3eb94c34-5f52-45eb-b914-09ab2b63013c",
   "metadata": {},
   "outputs": [],
   "source": [
    "## 등록&제원&정기&정밀&법정동 병합\n",
    "csic = csi.merge(coder, on='법정동코드', how='left')"
   ]
  },
  {
   "cell_type": "code",
   "execution_count": null,
   "id": "1699d279-7707-45b5-bed5-2d249e9d0777",
   "metadata": {},
   "outputs": [],
   "source": [
    "csic['시도'].isnull().sum()"
   ]
  },
  {
   "cell_type": "code",
   "execution_count": null,
   "id": "09e6c90d-eb6a-409e-a332-27f5a740a96d",
   "metadata": {},
   "outputs": [],
   "source": [
    "# # 주소 수정\n",
    "# csic.loc[csic['법정동코드'] == 5172035031, ['시도', '시군구']] = ['강원특별자치도', '홍천군'] # 강원특별자치도 홍천군\n",
    "# csic.loc[csic['법정동코드'] == 5180031023, ['시도', '시군구']] = ['강원특별자치도', '양구군'] # \n",
    "# csic.loc[csic['법정동코드'] == 5180031031, ['시도', '시군구']] = ['강원특별자치도', '양구군'] # \n",
    "# csic.loc[csic['법정동코드'] == 5172035030, ['시도', '시군구']] = ['강원특별자치도', '홍천군'] # \n",
    "# csic.loc[csic['법정동코드'] == 5180031028, ['시도', '시군구']] = ['강원특별자치도', '양구군'] # \n",
    "\n",
    "# csic.loc[csic['법정동코드'] == 5172035021, ['시도', '시군구']] = ['강원특별자치도', '홍천군'] # \n",
    "# csic.loc[csic['법정동코드'] == 5180031025, ['시도', '시군구']] = ['강원특별자치도', '양구군'] # \n",
    "# csic.loc[csic['법정동코드'] == 4165052000, ['시도', '시군구']] = ['경기도', '포천시'] # 경기도 포천시 선단동\n",
    "# csic.loc[csic['법정동코드'] == 5172035023, ['시도', '시군구']] = ['강원특별자치도', '홍천군'] # \n",
    "# csic.loc[csic['법정동코드'] == 5180031027, ['시도', '시군구']] = ['강원특별자치도', '양구군'] # \n",
    "\n",
    "# csic.loc[csic['법정동코드'] == 5172035024, ['시도', '시군구']] = ['강원특별자치도', '홍천군'] # \n",
    "# csic.loc[csic['법정동코드'] == 5175037022, ['시도', '시군구']] = ['강원특별자치도', '영월군'] # \n",
    "# csic.loc[csic['법정동코드'] == 4163055000, ['시도', '시군구']] = ['경기도', '양주시'] # 경기도 양주시 회천3동\n",
    "# csic.loc[csic['법정동코드'] == 5180031033, ['시도', '시군구']] = ['강원특별자치도', '양구군'] # 경기도 양주시 회천3동"
   ]
  },
  {
   "cell_type": "code",
   "execution_count": null,
   "id": "66f18cc9-83fe-4f1d-a57b-b08fc60ef536",
   "metadata": {},
   "outputs": [],
   "source": [
    "## 등록&제원&정기&정밀&법정동&저감 병합\n",
    "attr = attr.drop_duplicates('차대번호').reset_index(drop=True)\n",
    "csica = csic.merge(attr, on='차대번호', how='left')"
   ]
  },
  {
   "cell_type": "code",
   "execution_count": null,
   "id": "c8fbdbe4-1680-4cac-89ac-98b8159e7148",
   "metadata": {},
   "outputs": [],
   "source": [
    "## 운행제한 건수\n",
    "limit['운행제한건수'] = limit[['계절제_1차', '계절제_2차', '계절제_3차', '계절제_4차', '비상시', '상시']].sum(axis=1)"
   ]
  },
  {
   "cell_type": "code",
   "execution_count": null,
   "id": "80bab17e-68c6-4656-b74d-1f9d195b208c",
   "metadata": {},
   "outputs": [],
   "source": [
    "## 등록&제원&정기&정밀&법정동&저감&운행제한건수 병합\n",
    "df = csica.merge(limit[['차대번호', '운행제한건수']], on='차대번호', how='left')"
   ]
  },
  {
   "cell_type": "code",
   "execution_count": null,
   "id": "f7f5f0b1-625e-4463-93f5-9311706707ad",
   "metadata": {},
   "outputs": [],
   "source": [
    "## 저감장치 부착 여부 result로 수정\n",
    "## 4등급 result 파일 참고하여 DPF유무 수정\n",
    "rdf = df.copy()\n",
    "rs = rs.drop_duplicates('차대번호').reset_index(drop=True)\n",
    "rdf1 = rdf.merge(rs, on='차대번호', how='left')\n",
    "rdf1.loc[(rdf1['DPF_YN'] == '유') | (rdf1['DPF유무_수정'] == '유'), 'DPF_YN'] = '유'\n",
    "rdf1.loc[(rdf1['DPF유무_수정'] == '무'), 'DPF_YN'] = '무'\n",
    "rdf1.loc[(rdf1['DPF유무_수정'] == '확인불가'), 'DPF_YN'] = '확인불가'\n",
    "df = rdf1.drop('DPF유무_수정', axis=1)"
   ]
  },
  {
   "cell_type": "code",
   "execution_count": null,
   "id": "f3a175ca-d21a-4fdf-8bdf-6d7b061629c7",
   "metadata": {},
   "outputs": [],
   "source": [
    "# 전처리\n",
    "## 일일평균주행거리 계산\n",
    "df['최초등록일자'] = pd.to_datetime(df['최초등록일자'], format=\"%Y%m%d\", errors='coerce')\n",
    "df['검사일자'] = pd.to_datetime(df['검사일자'], format=\"%Y%m%d\", errors='coerce')"
   ]
  },
  {
   "cell_type": "code",
   "execution_count": null,
   "id": "9a17bff4-709e-46c5-b263-496bf01ebe67",
   "metadata": {},
   "outputs": [],
   "source": [
    "today_date = datetime.today().strftime(\"%Y-%m-%d\")\n",
    "df['현재날짜'] = today_date\n",
    "df['현재날짜'] = pd.to_datetime(df['현재날짜'], format='%Y-%m-%d', errors='coerce')\n",
    "df['최근검사경과일'] = df['현재날짜'] - df['검사일자']\n",
    "df['최근검사경과일'] = df['최근검사경과일'].astype('str')\n",
    "df['최근검사경과일'] = df['최근검사경과일'].str.split(' ').str[0]\n",
    "df['최근검사경과일'] = pd.to_numeric(df['최근검사경과일'], errors='coerce')\n",
    "df['등록일기준검사일'] = df['검사일자'] - df['최초등록일자']\n",
    "df['등록일기준검사일'] = df['등록일기준검사일'].astype('str')\n",
    "df['등록일기준검사일'] = df['등록일기준검사일'].str.split(' ').str[0]\n",
    "df['등록일기준검사일'] = pd.to_numeric(df['등록일기준검사일'], errors='coerce')\n",
    "df['일일평균주행거리'] = df['주행거리'] / df['등록일기준검사일']"
   ]
  },
  {
   "cell_type": "code",
   "execution_count": null,
   "id": "8fb60df0-f4f5-427a-ab05-cc19f5550474",
   "metadata": {},
   "outputs": [],
   "source": [
    "## KOSIS 데이터 활용 일일평균주행거리 수정\n",
    "### 빈 값 kosis로 대체\n",
    "df1y = df[df['일일평균주행거리'].isnull() == False]\n",
    "df1n = df[df['일일평균주행거리'].isnull() == True]"
   ]
  },
  {
   "cell_type": "code",
   "execution_count": null,
   "id": "07810538-3808-484c-b0e7-b365476bcf8a",
   "metadata": {},
   "outputs": [],
   "source": [
    "df1n = df1n.drop('일일평균주행거리', axis=1)\n",
    "df1nm = df1n.merge(kosisr, on=['시도', '시군구', '차종'], how='left')"
   ]
  },
  {
   "cell_type": "code",
   "execution_count": null,
   "id": "490edf66-f4e5-48f4-9971-6e0cebe3431c",
   "metadata": {},
   "outputs": [],
   "source": [
    "df2y = df1nm[df1nm['일일평균주행거리'].isnull() == False]\n",
    "df2n = df1nm[df1nm['일일평균주행거리'].isnull() == True]\n",
    "df2n = df2n.drop('일일평균주행거리', axis=1)\n",
    "df2nm = df2n.merge(kosisr.drop_duplicates(['시도', '차종'])[['시도', '차종', '일일평균주행거리']], on=['시도', '차종'], how='left')"
   ]
  },
  {
   "cell_type": "code",
   "execution_count": null,
   "id": "d07d0919-65e4-45dc-862c-9580643e2ff1",
   "metadata": {},
   "outputs": [],
   "source": [
    "df3y = df2nm[df2nm['일일평균주행거리'].isnull() == False]\n",
    "df3n = df2nm[df2nm['일일평균주행거리'].isnull() == True]"
   ]
  },
  {
   "cell_type": "code",
   "execution_count": null,
   "id": "b79f6130-653e-44c9-973e-040e455fd136",
   "metadata": {},
   "outputs": [],
   "source": [
    "for ctpv, sgg, cd in df3n.loc[df3n['일일평균주행거리'].isnull() == True, ['시도', '시군구', '차종']].values:\n",
    "    try:\n",
    "        df3n.loc[(df3n['일일평균주행거리'].isnull() == True) & (df3n['시도'] == ctpv) & (df3n['시군구'] == sgg), '일일평균주행거리'] = kosisr.loc[(kosisr['시도'] == ctpv) & (kosisr['시군구'] == '소계') & (kosisr['차종'] == '합계'), '일일평균주행거리'].values[0]\n",
    "    except:\n",
    "        df3n.loc[(df3n['일일평균주행거리'].isnull() == True) & (df3n['시도'].isnull() == True) & (df3n['시군구'].isnull() == True), '일일평균주행거리'] = kosisr.loc[(kosisr['시도'] == '서울특별시') & (kosisr['시군구'] == '소계') & (kosisr['차종'] == '합계'), '일일평균주행거리'].values[0]"
   ]
  },
  {
   "cell_type": "code",
   "execution_count": null,
   "id": "d88a6f4c-b580-4cfb-8163-87c94a3a29e0",
   "metadata": {},
   "outputs": [],
   "source": [
    "df2nm = pd.concat([df3y, df3n], ignore_index=True)\n",
    "df1nm = pd.concat([df2y, df2nm], ignore_index=True)\n",
    "df = pd.concat([df1y, df1nm], ignore_index=True)"
   ]
  },
  {
   "cell_type": "code",
   "execution_count": null,
   "id": "25caa4fe-100f-4633-a8a7-d758fe43130a",
   "metadata": {},
   "outputs": [],
   "source": [
    "## 4, 5등급 분리\n",
    "g4 = df.loc[df['배출가스등급'] == '4'].reset_index(drop=True)\n",
    "g5 = df.loc[df['배출가스등급'] == '5'].reset_index(drop=True)"
   ]
  },
  {
   "cell_type": "code",
   "execution_count": null,
   "id": "01faaed3-5094-4115-904b-f3a6f9d6447b",
   "metadata": {},
   "outputs": [],
   "source": [
    "g4.loc[g4['차량번호'] == '31고7134', '연료']"
   ]
  },
  {
   "cell_type": "code",
   "execution_count": null,
   "id": "54c46dad-7c24-48e4-ae0d-c6f58fe3fc1b",
   "metadata": {},
   "outputs": [],
   "source": [
    "### 코란KJ 연료 휘발유로 수정\n",
    "# - 차량번호 : 31고7134\n",
    "# - 연식 : 1996\n",
    "# - 연료 : 휘발유\n",
    "g4.loc[g4['차량번호'] == '31고7134', '연료'] = '휘발유'"
   ]
  },
  {
   "cell_type": "code",
   "execution_count": null,
   "id": "6767caff-9862-4f47-a733-28e08f0ad1a8",
   "metadata": {},
   "outputs": [],
   "source": [
    "# 전처리\n",
    "gm4d = g4.loc[g4['연료'] == '경유'].reset_index(drop=True)\n",
    "gm4r = g4.loc[g4['연료'] != '경유'].reset_index(drop=True)"
   ]
  },
  {
   "cell_type": "code",
   "execution_count": null,
   "id": "a284f2ae-75f4-4ad2-baac-992f36a25a05",
   "metadata": {},
   "outputs": [],
   "source": [
    "### 5등급 저감장치 변환\n",
    "# - 1종 -> DPF\n",
    "# - 1종+SCR -> PM-NOx\n",
    "g5.loc[g5['저감장치구분'] == '1종', '저감장치'] = 'DPF'\n",
    "g5.loc[g5['저감장치구분'] == '1종+SCR', '저감장치'] = 'PM-NOx'"
   ]
  },
  {
   "cell_type": "code",
   "execution_count": null,
   "id": "3f032fad-1390-4e9d-a6d5-04173d4312af",
   "metadata": {},
   "outputs": [],
   "source": [
    "## 5등급 경유차 추출(gm5d)\n",
    "gm5d = g5.loc[g5['연료'] == '경유'].reset_index(drop=True)\n",
    "gm5r = g5.loc[g5['연료'] != '경유'].reset_index(drop=True)"
   ]
  },
  {
   "cell_type": "code",
   "execution_count": null,
   "id": "9ac0ee06-bbfc-483f-8ab4-de0e95071d48",
   "metadata": {},
   "outputs": [],
   "source": [
    "## 필수 컬럼 추출\n",
    "gm4d = gm4d.rename(columns={'차량연식':'연식', 'DPF_YN':'저감장치부착유무'})\n",
    "gm4d = gm4d[[\n",
    "    '차대번호', \n",
    "    '차량번호', \n",
    "    '법정동코드', \n",
    "    '시도', \n",
    "    '시군구', \n",
    "    '연식', \n",
    "    '용도', \n",
    "    '차종', \n",
    "    '차종유형', \n",
    "    '저감장치부착유무', \n",
    "    '무부하매연측정치1', \n",
    "    '일일평균주행거리',\n",
    "    '최근검사경과일', \n",
    "    '운행제한건수', \n",
    "    ]]"
   ]
  },
  {
   "cell_type": "code",
   "execution_count": null,
   "id": "629ec7fd-b776-4c9c-80c2-631c82ddea26",
   "metadata": {},
   "outputs": [],
   "source": [
    "gm5d = gm5d.rename(columns={'차량등록번호':'차량번호', '본거지법정동코드':'법정동코드', '차량연식':'연식', 'DPF_YN':'저감장치부착유무'})\n",
    "gm5d = gm5d[[\n",
    "    '차대번호', \n",
    "    '차량번호', \n",
    "    '법정동코드', \n",
    "    '시도', \n",
    "    '시군구', \n",
    "    '연식', \n",
    "    '용도', \n",
    "    '차종', \n",
    "    '차종유형', \n",
    "    '저감장치', \n",
    "    '저감장치부착유무',\n",
    "    '무부하매연측정치1', \n",
    "    '일일평균주행거리',\n",
    "    '최근검사경과일', \n",
    "    '운행제한건수', \n",
    "    ]]"
   ]
  },
  {
   "cell_type": "code",
   "execution_count": null,
   "id": "c1ab7ee0-82ad-4e96-ab56-4d2d9919338e",
   "metadata": {},
   "outputs": [],
   "source": [
    "# 이상값 추출\n",
    "gm4d['운행제한건수'] = gm4d['운행제한건수'].fillna(0)\n",
    "gm5d['운행제한건수'] = gm5d['운행제한건수'].fillna(0)\n",
    "idx4 = set(gm4d.index)\n",
    "idx5 = set(gm5d.index)"
   ]
  },
  {
   "cell_type": "code",
   "execution_count": null,
   "id": "9762ee4a-ae2a-44f2-8d4c-57277559753c",
   "metadata": {},
   "outputs": [],
   "source": [
    "## A급\n",
    "# - 최근검사경과일 365*3 = 1095 초과 또는 최근검사경과일 없는 경우\n",
    "# - 운행제한건수 1이상\n",
    "idx4a = gm4d.loc[((gm4d['최근검사경과일'] > 1095) | (gm4d['최근검사경과일'].isnull() == True)) & (gm4d['운행제한건수'] >= 1)].index\n",
    "gm4da = gm4d.loc[idx4a]\n",
    "gm4da['우선순위'] = 1"
   ]
  },
  {
   "cell_type": "code",
   "execution_count": null,
   "id": "83bc60d9-1975-4a1b-85a7-e6e2e17e1ddf",
   "metadata": {},
   "outputs": [],
   "source": [
    "idx5a = gm5d.loc[((gm5d['최근검사경과일'] > 1095) | (gm5d['최근검사경과일'].isnull() == True)) & (gm5d['운행제한건수'] >= 1)].index\n",
    "gm5da = gm5d.loc[idx5a]\n",
    "gm5da['우선순위'] = 1"
   ]
  },
  {
   "cell_type": "code",
   "execution_count": null,
   "id": "48b65ff0-5ea6-4e9d-82a9-9206e5dae3d9",
   "metadata": {},
   "outputs": [],
   "source": [
    "## B급\n",
    "# - 최근검사경과일 365*3 = 1095 초과 또는 최근검사경과일 없는 경우\n",
    "# - 운행제한건수 1미만\n",
    "idx4b = gm4d.loc[((gm4d['최근검사경과일'] > 1095) | (gm4d['최근검사경과일'].isnull() == True)) & (gm4d['운행제한건수'] < 1)].index\n",
    "gm4db = gm4d.loc[idx4b]\n",
    "gm4db['우선순위'] = 2"
   ]
  },
  {
   "cell_type": "code",
   "execution_count": null,
   "id": "713a3d34-4464-47eb-a432-99fee6124a97",
   "metadata": {},
   "outputs": [],
   "source": [
    "idx5b = gm5d.loc[((gm5d['최근검사경과일'] > 1095) | (gm5d['최근검사경과일'].isnull() == True)) & (gm5d['운행제한건수'] < 1)].index\n",
    "gm5db = gm5d.loc[idx5b]\n",
    "gm5db['우선순위'] = 2"
   ]
  },
  {
   "cell_type": "code",
   "execution_count": null,
   "id": "a4be95e1-503b-4f8c-bcd1-74ad3d4881dd",
   "metadata": {},
   "outputs": [],
   "source": [
    "## C급\n",
    "# - 최근검사경과일 365*3 = 1095 이하\n",
    "idx4c = gm4d.loc[gm4d['최근검사경과일'] <= 1095].index\n",
    "gm4dc = gm4d.loc[idx4c]\n",
    "gm4dc['우선순위'] = 3"
   ]
  },
  {
   "cell_type": "code",
   "execution_count": null,
   "id": "38d869d0-fb26-4a88-8b89-e38927e78128",
   "metadata": {},
   "outputs": [],
   "source": [
    "idx5c = gm5d.loc[gm5d['최근검사경과일'] <= 1095].index\n",
    "gm5dc = gm5d.loc[idx5c]\n",
    "gm5dc['우선순위'] = 3"
   ]
  },
  {
   "cell_type": "code",
   "execution_count": null,
   "id": "64675bca-bc14-47bc-97e9-04418986d6ba",
   "metadata": {},
   "outputs": [],
   "source": [
    "# 분석\n",
    "## 가중치 설정을 위한 상관계수 확인\n",
    "# - 선별 조건(4가지)\n",
    "#     - 매연\n",
    "#     - 일일평균주행거리\n",
    "#     - 최근검사경과일\n",
    "#     - 운행제한단속건수\n",
    "gm4di = gm4dc.copy()\n",
    "gm5di = gm5dc.copy()"
   ]
  },
  {
   "cell_type": "code",
   "execution_count": null,
   "id": "1df02e6f-052c-4366-88e1-89eca723d90e",
   "metadata": {},
   "outputs": [],
   "source": [
    "### 상관계수 계산\n",
    "#### 4등급 경유 C급\n",
    "# 선별조건선정\n",
    "col = ['무부하매연측정치1', '일일평균주행거리', '최근검사경과일', '운행제한건수']\n",
    "gm4di[col] = gm4di[col].fillna(0)\n",
    "gm4di_corr = gm4di[col].corr()"
   ]
  },
  {
   "cell_type": "code",
   "execution_count": null,
   "id": "e9f9e4c0-d408-4d59-a301-0e503ab48199",
   "metadata": {},
   "outputs": [],
   "source": [
    "##### 4등급 경유차 선별조건 상관계수\n",
    "t4 = pd.concat([gm4di_corr, gm4di_corr.sum()], axis=1)\n",
    "t4 = t4.rename(columns={0:'합계'})\n",
    "t4 = t4.reset_index()"
   ]
  },
  {
   "cell_type": "code",
   "execution_count": null,
   "id": "d3ff8f0d-9041-4fc4-8999-9080ed2b9dfb",
   "metadata": {},
   "outputs": [],
   "source": [
    "today_date = datetime.today().strftime(\"%Y%m%d\")\n",
    "t4['테이블생성일자'] = today_date\n",
    "chc_col = {\n",
    "    '테이블생성일자':'LOAD_DT', \n",
    "    'index':'LIST', \n",
    "    '무부하매연측정치1':'NOLOD_SMO_MEVLU1', \n",
    "    '일일평균주행거리':'DY_AVRG_DRVNG_DSTNC', \n",
    "    '최근검사경과일':'RCNT_INSP_ELPSD_WHL', \n",
    "    '운행제한건수':'RUN_LMT_NOCS', \n",
    "    '합계':'TOT_CRRLTN_CFFCNT',\n",
    "}\n",
    "STD_BD_GRD4_DS_CRRLTN_CFFCNT = t4.rename(columns=chc_col)"
   ]
  },
  {
   "cell_type": "code",
   "execution_count": null,
   "id": "b567b9cf-e59c-4c2e-b926-a96e95594617",
   "metadata": {},
   "outputs": [],
   "source": [
    "STD_BD_GRD4_DS_CRRLTN_CFFCNT.columns"
   ]
  },
  {
   "cell_type": "markdown",
   "id": "0dd120d1-8138-4c8b-acc1-1365a973e837",
   "metadata": {},
   "source": [
    "##### [출력] STD_BD_GRD4_DS_CRRLTN_CFFCNT"
   ]
  },
  {
   "cell_type": "code",
   "execution_count": null,
   "id": "9af5b432-358c-46dc-92ec-81beae98087c",
   "metadata": {},
   "outputs": [],
   "source": [
    "# expdf = STD_BD_GRD4_DS_CRRLTN_CFFCNT\n",
    "# table_nm = 'STD_BD_GRD4_DS_CRRLTN_CFFCNT'.upper()\n",
    "\n",
    "# # 테이블 생성\n",
    "# sql = 'create or replace table ' + table_nm + '( \\n'\n",
    "\n",
    "# for idx,column in enumerate(expdf.columns):\n",
    "#     # if 'float' in expdf[column].dtype.name:\n",
    "#     #     sql += column + ' float'\n",
    "#     # elif 'int' in expdf[column].dtype.name:\n",
    "#     #     sql += column + ' number'\n",
    "#     # else:\n",
    "#     sql += column + ' varchar(255)'\n",
    "\n",
    "#     if len(expdf.columns) - 1 != idx:\n",
    "#         sql += ','\n",
    "#     sql += '\\n'\n",
    "# sql += ')'    \n",
    "# we.execute(sql)\n",
    "\n",
    "# # 데이터 추가\n",
    "# # 5s\n",
    "# we.import_from_pandas(expdf, table_nm)\n",
    "\n",
    "# print(f'data export : {table_nm}')"
   ]
  },
  {
   "cell_type": "code",
   "execution_count": null,
   "id": "5511a5cd-cab6-4eb3-b14f-a49e96b41fcd",
   "metadata": {},
   "outputs": [],
   "source": [
    "c1, c2, c3, c4 = gm4di_corr.sum()[col]\n",
    "sc1 = c1 + c2 + c3 + c4 \n",
    "w1, w2, w3, w4 = c1/sc1, c2/sc1, c3/sc1, c4/sc1\n",
    "gm4di['선별포인트'] = np.round(w1 * gm4di['무부하매연측정치1'] + w2 * gm4di['일일평균주행거리'] + w3 * gm4di['최근검사경과일'] + w4 * gm4di['운행제한건수'] , 0)"
   ]
  },
  {
   "cell_type": "code",
   "execution_count": null,
   "id": "841af10b-8a58-42ee-a059-a6e273af58e2",
   "metadata": {},
   "outputs": [],
   "source": [
    "#### 4등급 경유차 선별포인트 샘플\n",
    "gm4da['선별포인트'] = np.nan\n",
    "gm4db['선별포인트'] = np.nan\n",
    "total4d = pd.concat([gm4da, gm4db, gm4di], ignore_index=True)"
   ]
  },
  {
   "cell_type": "code",
   "execution_count": null,
   "id": "84678aec-c716-40ee-b82d-ac3944db476e",
   "metadata": {},
   "outputs": [],
   "source": [
    "today_date = datetime.today().strftime(\"%Y%m%d\")\n",
    "total4d['테이블생성일자'] = today_date\n",
    "STD_BD_GRD4_LEM_PRIO_ORD_SELCT_CURSTT = total4d[[\n",
    "    '테이블생성일자', \n",
    "    '차대번호', \n",
    "    '차량번호', \n",
    "    '법정동코드',\n",
    "    '시도', \n",
    "    '시군구', \n",
    "    '연식', \n",
    "    '용도', \n",
    "    '차종', \n",
    "    '차종유형', \n",
    "    '우선순위',\n",
    "    '선별포인트',\n",
    "    '무부하매연측정치1', \n",
    "    '일일평균주행거리',\n",
    "    '최근검사경과일', \n",
    "    '운행제한건수', \n",
    "    ]]\n",
    "chc_col = {\n",
    "    '테이블생성일자':'LOAD_DT', \n",
    "    '차대번호':'VIN', \n",
    "    '차량번호':'VHRNO', # 자동차등록번호\n",
    "    '법정동코드':'STDG_CD', \n",
    "    '시도':'CTPV_NM', \n",
    "    '시군구':'SGG_NM', \n",
    "    '연식':'YRIDNW', \n",
    "    '용도':'PURPS_CD2', \n",
    "    '차종':'VHCTY_CD', # 차종코드\n",
    "    '차종유형':'VHCTY_TY', \n",
    "    '우선순위':'PRIO_GRD',\n",
    "    '선별포인트':'SELCT_PNT',\n",
    "    '무부하매연측정치1':'NOLOD_SMO_MEVLU1', \n",
    "    '일일평균주행거리':'DY_AVRG_DRVNG_DSTNC',\n",
    "    '최근검사경과일':'RCNT_INSP_ELPSD_WHL', \n",
    "    '운행제한건수':'RUN_LMT_NOCS', \n",
    "    '지원비용_백만원':'SPRT_CST',\n",
    "    '배기량_리터':'DSPLVL',\n",
    "    '총중량_톤':'TOTL_WGHT',\n",
    "}\n",
    "STD_BD_GRD4_LEM_PRIO_ORD_SELCT_CURSTT = STD_BD_GRD4_LEM_PRIO_ORD_SELCT_CURSTT.rename(columns=chc_col)"
   ]
  },
  {
   "cell_type": "code",
   "execution_count": null,
   "id": "e07d1650-e5f6-44dc-8d78-128c1bdfe7aa",
   "metadata": {},
   "outputs": [],
   "source": [
    "STD_BD_GRD4_LEM_PRIO_ORD_SELCT_CURSTT.columns"
   ]
  },
  {
   "cell_type": "markdown",
   "id": "d919972f-29a8-483a-bc75-8b236635d791",
   "metadata": {},
   "source": [
    "##### [출력] STD_BD_GRD4_LEM_PRIO_ORD_SELCT_CURSTT"
   ]
  },
  {
   "cell_type": "code",
   "execution_count": null,
   "id": "87fdeb4a-31f8-4283-bdf0-ecf0f8080b7d",
   "metadata": {},
   "outputs": [],
   "source": [
    "# expdf = STD_BD_GRD4_LEM_PRIO_ORD_SELCT_CURSTT\n",
    "# table_nm = 'STD_BD_GRD4_LEM_PRIO_ORD_SELCT_CURSTT'.upper()\n",
    "\n",
    "# # 테이블 생성\n",
    "# sql = 'create or replace table ' + table_nm + '( \\n'\n",
    "\n",
    "# for idx,column in enumerate(expdf.columns):\n",
    "#     sql += column + ' varchar(255)'\n",
    "\n",
    "#     if len(expdf.columns) - 1 != idx:\n",
    "#         sql += ','\n",
    "#     sql += '\\n'\n",
    "# sql += ')'    \n",
    "# we.execute(sql)\n",
    "\n",
    "# # 데이터 추가\n",
    "# # 5s\n",
    "# we.import_from_pandas(expdf, table_nm)\n",
    "\n",
    "# print(f'data export : {table_nm}')"
   ]
  },
  {
   "cell_type": "code",
   "execution_count": null,
   "id": "3847fb54-3999-4d42-8ee2-6a027875f2ff",
   "metadata": {},
   "outputs": [],
   "source": [
    "#### 5등급 경유 C급\n",
    "###### 조기폐차 선별포인트\n",
    "# 선별조건선정\n",
    "col = ['무부하매연측정치1', '일일평균주행거리', '최근검사경과일', '운행제한건수']\n",
    "# nan 값 0으로 채우기\n",
    "gm5di[col] = gm5di[col].fillna(0)\n",
    "gm5di_corr = gm5di[col].corr()"
   ]
  },
  {
   "cell_type": "code",
   "execution_count": null,
   "id": "954f1755-f60c-4b5b-b3bb-1c21bf2825b1",
   "metadata": {},
   "outputs": [],
   "source": [
    "###### 5등급 경유차 선별조건 상관계수\n",
    "t5 = pd.concat([gm5di_corr, gm5di_corr.sum()], axis=1)\n",
    "t5 = t5.rename(columns={0:'합계'})\n",
    "t5 = t5.reset_index()\n",
    "today_date = datetime.today().strftime(\"%Y%m%d\")\n",
    "t5['테이블생성일자'] = today_date\n",
    "\n",
    "chc_col = {\n",
    "    '테이블생성일자':'LOAD_DT', \n",
    "    'index':'LIST', \n",
    "    '무부하매연측정치1':'NOLOD_SMO_MEVLU1', \n",
    "    '일일평균주행거리':'DY_AVRG_DRVNG_DSTNC', \n",
    "    '최근검사경과일':'RCNT_INSP_ELPSD_WHL', \n",
    "    '운행제한건수':'RUN_LMT_NOCS', \n",
    "    '합계':'TOT_CRRLTN_CFFCNT',\n",
    "}\n",
    "STD_BD_GRD5_DS_CRRLTN_CFFCNT = t5.rename(columns=chc_col)"
   ]
  },
  {
   "cell_type": "code",
   "execution_count": null,
   "id": "2f359ef9-49a4-44c2-8905-f88fdff3017d",
   "metadata": {},
   "outputs": [],
   "source": [
    "STD_BD_GRD5_DS_CRRLTN_CFFCNT.columns"
   ]
  },
  {
   "cell_type": "markdown",
   "id": "37372d2a-9eba-477a-9ece-95357c31a3ae",
   "metadata": {},
   "source": [
    "##### [출력] STD_BD_GRD5_DS_CRRLTN_CFFCNT"
   ]
  },
  {
   "cell_type": "code",
   "execution_count": null,
   "id": "b3df761e-00f5-456e-8f49-70f2ae75a0e0",
   "metadata": {},
   "outputs": [],
   "source": [
    "# expdf = STD_BD_GRD5_DS_CRRLTN_CFFCNT\n",
    "# table_nm = 'STD_BD_GRD5_DS_CRRLTN_CFFCNT'.upper()\n",
    "\n",
    "# # 테이블 생성\n",
    "# sql = 'create or replace table ' + table_nm + '( \\n'\n",
    "\n",
    "# for idx,column in enumerate(expdf.columns):\n",
    "#     # if 'float' in expdf[column].dtype.name:\n",
    "#     #     sql += column + ' float'\n",
    "#     # elif 'int' in expdf[column].dtype.name:\n",
    "#     #     sql += column + ' number'\n",
    "#     # else:\n",
    "#     sql += column + ' varchar(255)'\n",
    "\n",
    "#     if len(expdf.columns) - 1 != idx:\n",
    "#         sql += ','\n",
    "#     sql += '\\n'\n",
    "# sql += ')'    \n",
    "# we.execute(sql)\n",
    "\n",
    "# # 데이터 추가\n",
    "# # 5s\n",
    "# we.import_from_pandas(expdf, table_nm)\n",
    "\n",
    "# print(f'data export : {table_nm}')"
   ]
  },
  {
   "cell_type": "code",
   "execution_count": null,
   "id": "ca695aa5-07ff-4257-b44b-25fbc7dd0862",
   "metadata": {},
   "outputs": [],
   "source": [
    "c1, c2, c3, c4 = gm5di_corr.sum()[col]\n",
    "sc1 = c1 + c2 + c3 + c4\n",
    "w1, w2, w3, w4 = c1/sc1, c2/sc1, c3/sc1, c4/sc1\n",
    "gm5di['선별포인트'] = np.round(w1 * gm5di['무부하매연측정치1'] + w2 * gm5di['일일평균주행거리'] + w3 * gm5di['최근검사경과일'] + w4 * gm5di['운행제한건수'], 0)"
   ]
  },
  {
   "cell_type": "code",
   "execution_count": null,
   "id": "459e0cb2-f353-408b-b561-7e993b849849",
   "metadata": {},
   "outputs": [],
   "source": [
    "#### 5등급 경유차 선별포인트 샘플\n",
    "\n",
    "gm5da['선별포인트'] = np.nan\n",
    "gm5db['선별포인트'] = np.nan\n",
    "\n",
    "total5d = pd.concat([gm5da, gm5db, gm5di], ignore_index=True)"
   ]
  },
  {
   "cell_type": "code",
   "execution_count": null,
   "id": "d22c0e34-7280-4df9-a0ce-5bbc9c1edbca",
   "metadata": {},
   "outputs": [],
   "source": [
    "today_date = datetime.today().strftime(\"%Y%m%d\")\n",
    "total5d['테이블생성일자'] = today_date\n",
    "STD_BD_GRD5_LEM_PRIO_ORD_SELCT_CURSTT = total5d[[\n",
    "    '차대번호',\n",
    "    '차량번호',\n",
    "    '법정동코드',\n",
    "    '시도',\n",
    "    '시군구',\n",
    "    '연식',\n",
    "    '용도',\n",
    "    '차종',\n",
    "    '차종유형',\n",
    "    '저감장치',\n",
    "    '우선순위',\n",
    "    '선별포인트',\n",
    "    '무부하매연측정치1',\n",
    "    '일일평균주행거리',\n",
    "    '최근검사경과일',\n",
    "    '운행제한건수',\n",
    "    '테이블생성일자', \n",
    "]]\n",
    "chc_col = {\n",
    "    '테이블생성일자':'LOAD_DT', \n",
    "    '차대번호':'VIN', \n",
    "    '차량번호':'VHRNO', # 자동차등록번호\n",
    "    '법정동코드':'STDG_CD', \n",
    "    '시도':'CTPV_NM', \n",
    "    '시군구':'SGG_NM', \n",
    "    '연식':'YRIDNW', # 연식\n",
    "    '용도':'PURPS_CD2', \n",
    "    '차종':'VHCTY_CD', # 차종코드\n",
    "    '차종유형':'VHCTY_TY', \n",
    "    '저감장치':'RDCDVC',\n",
    "    '우선순위':'PRIO_GRD',\n",
    "    '선별포인트':'SELCT_PNT',\n",
    "    '무부하매연측정치1':'NOLOD_SMO_MEVLU1', \n",
    "    '일일평균주행거리':'DY_AVRG_DRVNG_DSTNC',\n",
    "    '최근검사경과일':'RCNT_INSP_ELPSD_WHL', \n",
    "    '운행제한건수':'RUN_LMT_NOCS', \n",
    "}\n",
    "STD_BD_GRD5_LEM_PRIO_ORD_SELCT_CURSTT = STD_BD_GRD5_LEM_PRIO_ORD_SELCT_CURSTT.rename(columns=chc_col)"
   ]
  },
  {
   "cell_type": "code",
   "execution_count": null,
   "id": "d97855fd-07b2-4cff-a5ed-bd9b009bae11",
   "metadata": {},
   "outputs": [],
   "source": [
    "STD_BD_GRD5_LEM_PRIO_ORD_SELCT_CURSTT.columns"
   ]
  },
  {
   "cell_type": "markdown",
   "id": "20bb34e5-3552-48be-a11a-02f65ec52926",
   "metadata": {},
   "source": [
    "##### [출력] STD_BD_GRD5_LEM_PRIO_ORD_SELCT_CURSTT"
   ]
  },
  {
   "cell_type": "code",
   "execution_count": null,
   "id": "c4e92b04-eefe-453f-be70-fbf45f7c91e3",
   "metadata": {},
   "outputs": [],
   "source": [
    "# expdf = STD_BD_GRD5_LEM_PRIO_ORD_SELCT_CURSTT\n",
    "# table_nm = 'STD_BD_GRD5_LEM_PRIO_ORD_SELCT_CURSTT'.upper()\n",
    "\n",
    "# # 테이블 생성\n",
    "# sql = 'create or replace table ' + table_nm + '( \\n'\n",
    "\n",
    "# for idx,column in enumerate(expdf.columns):\n",
    "#     sql += column + ' varchar(255)'\n",
    "\n",
    "#     if len(expdf.columns) - 1 != idx:\n",
    "#         sql += ','\n",
    "#     sql += '\\n'\n",
    "# sql += ')'    \n",
    "# we.execute(sql)\n",
    "\n",
    "# # 데이터 추가\n",
    "# # 5s\n",
    "# we.import_from_pandas(expdf, table_nm)\n",
    "\n",
    "# print(f'data export : {table_nm}')"
   ]
  },
  {
   "cell_type": "code",
   "execution_count": null,
   "id": "c9067fc1-73d8-40b5-8045-f6f542edfdc7",
   "metadata": {},
   "outputs": [],
   "source": [
    "## 저공해조치선별\n",
    "# lem4d = total4d.merge(coder[['법정동코드', '시도']], on='법정동코드', how='left')\n",
    "# lem5d = total5d.merge(coder[['법정동코드', '시도']], on='법정동코드', how='left')\n",
    "lem4d = total4d.copy()\n",
    "lem5d = total5d.copy()"
   ]
  },
  {
   "cell_type": "code",
   "execution_count": null,
   "id": "9f533fea-a15b-4545-bfd4-6f95461bf7d6",
   "metadata": {},
   "outputs": [],
   "source": [
    "lem4d['시도'].isnull().sum(), lem5d['시도'].isnull().sum()"
   ]
  },
  {
   "cell_type": "code",
   "execution_count": null,
   "id": "84e7541f-bda3-4d5c-a191-4389fe50bb13",
   "metadata": {},
   "outputs": [],
   "source": [
    "# lem4d.loc[lem4d['법정동코드'] == 5180031023, '시도'] = '강원특별자치도' # 강원특별자치도 양구군 남면 야촌리\n",
    "# lem4d.loc[lem4d['법정동코드'] == 5172035030, '시도'] = '강원특별자치도' # 강원특별자치도 홍천군 동면 노천리\n",
    "# lem4d.loc[lem4d['법정동코드'] == 5172035021, '시도'] = '강원특별자치도' # 강원특별자치도 홍천군 동면 속초리"
   ]
  },
  {
   "cell_type": "code",
   "execution_count": null,
   "id": "3398546c-17f2-488e-abbb-a221749f2c59",
   "metadata": {},
   "outputs": [],
   "source": [
    "# # lem5d.loc[lem5d['법정동코드'] == 4165052000, '시도'] = '경기도' # 경기도 포천시 선단동\n",
    "# lem5d.loc[lem5d['법정동코드'] == 5180031023, '시도'] = '강원특별자치도' # 강원특별자치도 양구군 남면 야촌리\n",
    "# lem5d.loc[lem5d['법정동코드'] == 5180031027, '시도'] = '강원특별자치도' # 강원특별자치도 양구군 남면 황강리\n",
    "# lem5d.loc[lem5d['법정동코드'] == 5180031025, '시도'] = '강원특별자치도' # 강원특별자치도 양구군 남면 청리\n",
    "# lem5d.loc[lem5d['법정동코드'] == 5180031028, '시도'] = '강원특별자치도' # 강원특별자치도 양구군 남면 창리\n",
    "# lem5d.loc[lem5d['법정동코드'] == 5172035023, '시도'] = '강원특별자치도' # 강원특별자치도 홍천군 동면 덕치리\n",
    "# lem5d.loc[lem5d['법정동코드'] == 5180031031, '시도'] = '강원특별자치도' # 강원특별자치도 양구군 남면 죽리\n",
    "# lem5d.loc[lem5d['법정동코드'] == 5175037022, '시도'] = '강원특별자치도' # 강원특별자치도 홍천군 서면 어유포리\n",
    "# lem5d.loc[lem5d['법정동코드'] == 5180031033, '시도'] = '강원특별자치도' # 강원특별자치도 양구군 남면 원리"
   ]
  },
  {
   "cell_type": "code",
   "execution_count": null,
   "id": "10132c98-a101-4bc4-9a46-309dd556e59f",
   "metadata": {},
   "outputs": [],
   "source": [
    "lem4d['배출가스등급'] = '4'\n",
    "lem5d['배출가스등급'] = '5'\n",
    "lem = pd.concat([lem4d, lem5d], ignore_index=True)"
   ]
  },
  {
   "cell_type": "code",
   "execution_count": null,
   "id": "d307df4f-eb91-4239-af2e-fb0fa078860f",
   "metadata": {},
   "outputs": [],
   "source": [
    "grp1 = lem.groupby(['시도', '배출가스등급', '차종', '차종유형', '우선순위']).agg({'차대번호':'count'}).unstack('우선순위').reset_index()\n",
    "grp1.columns = ['시도', '배출가스등급', '차종', '차종유형', '1순위(대수)', '2순위(대수)', '3순위(대수)']\n",
    "grp1[['1순위(대수)', '2순위(대수)', '3순위(대수)']] = grp1[['1순위(대수)', '2순위(대수)', '3순위(대수)']].fillna(0)\n",
    "grp1['합계'] = grp1.iloc[:, -3:].sum(axis=1)\n",
    "grp1['1순위(비율)'] = grp1['1순위(대수)'] / grp1['합계']\n",
    "grp1['2순위(비율)'] = grp1['2순위(대수)'] / grp1['합계']\n",
    "grp1['3순위(비율)'] = grp1['3순위(대수)'] / grp1['합계']\n",
    "grp1 = grp1[['시도', '배출가스등급', '차종', '차종유형', '합계', '1순위(대수)', '1순위(비율)', '2순위(대수)', '2순위(비율)', '3순위(대수)', '3순위(비율)']]\n",
    "grp1 = grp1.rename(columns={'합계':'선별대수'})"
   ]
  },
  {
   "cell_type": "code",
   "execution_count": null,
   "id": "7b51648f-3b23-4713-ad73-24fe7ec679cd",
   "metadata": {},
   "outputs": [],
   "source": [
    "grp2 = lem.groupby(['시도', '배출가스등급', '차종', '차종유형']).agg({'저감장치':'count'}).reset_index()\n",
    "grp2 = grp2.rename(columns={'저감장치':'저감장치부착대수'})"
   ]
  },
  {
   "cell_type": "code",
   "execution_count": null,
   "id": "723ebde5-0dea-40e8-a8e9-827e97006417",
   "metadata": {},
   "outputs": [],
   "source": [
    "grp = grp1.merge(grp2, on=['시도', '배출가스등급', '차종', '차종유형'], how='left')\n",
    "today_date = datetime.today().strftime(\"%Y%m%d\")\n",
    "grp['테이블생성일자'] = today_date\n",
    "cdict = {\n",
    "    '시도':'CTPV',\n",
    "    '배출가스등급':'EXHST_GAS_GRD_CD',\n",
    "    '차종':'VHCTY_CD',\n",
    "    '차종유형':'VHCTY_TY',\n",
    "    '선별대수':'SELCT_MKCNT',\n",
    "    '1순위(대수)':'SENO1_MKCNT',\n",
    "    '1순위(비율)':'SENO1_RT',\n",
    "    '2순위(대수)':'SENO2_MKCNT',\n",
    "    '2순위(비율)':'SENO2_RT',\n",
    "    '3순위(대수)':'SENO3_MKCNT',\n",
    "    '3순위(비율)':'SENO3_RT',\n",
    "    '저감장치부착대수':'RDCDVC_EXTRNS_MKCNT',\n",
    "    '테이블생성일자':'LOAD_DT', \n",
    "}\n",
    "STD_BD_DAT_LEM_SELCT = grp.rename(columns=cdict)"
   ]
  },
  {
   "cell_type": "code",
   "execution_count": null,
   "id": "9ef3d080-15d4-4cfd-8266-5527269d7691",
   "metadata": {},
   "outputs": [],
   "source": [
    "STD_BD_DAT_LEM_SELCT.columns"
   ]
  },
  {
   "cell_type": "markdown",
   "id": "40060004-1f56-4a5f-a86b-84f0e2a83fdf",
   "metadata": {},
   "source": [
    "### [출력] STD_BD_DAT_LEM_SELCT"
   ]
  },
  {
   "cell_type": "code",
   "execution_count": null,
   "id": "d0b96ba6-5a66-45bf-97c6-87fdcc6a382d",
   "metadata": {},
   "outputs": [],
   "source": [
    "# expdf = STD_BD_DAT_LEM_SELCT\n",
    "# table_nm = 'STD_BD_DAT_LEM_SELCT'.upper()\n",
    "\n",
    "# # 테이블 생성\n",
    "# sql = 'create or replace table ' + table_nm + '( \\n'\n",
    "\n",
    "# for idx,column in enumerate(expdf.columns):\n",
    "#     # if 'float' in expdf[column].dtype.name:\n",
    "#     #     sql += column + ' float'\n",
    "#     # elif 'int' in expdf[column].dtype.name:\n",
    "#     #     sql += column + ' number'\n",
    "#     # else:\n",
    "#     sql += column + ' varchar(255)'\n",
    "\n",
    "#     if len(expdf.columns) - 1 != idx:\n",
    "#         sql += ','\n",
    "#     sql += '\\n'\n",
    "# sql += ')'    \n",
    "# we.execute(sql)\n",
    "\n",
    "# # 데이터 추가\n",
    "# # 5s\n",
    "# we.import_from_pandas(expdf, table_nm)\n",
    "\n",
    "# print(f'data export : {table_nm}')"
   ]
  },
  {
   "cell_type": "code",
   "execution_count": null,
   "id": "ff4f7b18-b627-490d-bb52-bfcd9d23ab5f",
   "metadata": {},
   "outputs": [],
   "source": [
    "# !!! 수정 시작(2023.11.10)\n",
    "## 선별포인트현황\n",
    "for n in range(0, 300, 50):\n",
    "    lem.loc[(lem['선별포인트'] >= n) & (lem['선별포인트'] < n + 50), '선별포인트구간'] = f'{n} ~ {n+49}'\n",
    "n += 50\n",
    "lem.loc[lem['선별포인트'] >= n, '선별포인트구간'] = f'{n} ~ {n+49}'\n",
    "# !!! 수정 끝(2023.11.10)"
   ]
  },
  {
   "cell_type": "code",
   "execution_count": null,
   "id": "09d8e490",
   "metadata": {},
   "outputs": [],
   "source": [
    "lem['선별포인트'].unique()"
   ]
  },
  {
   "cell_type": "code",
   "execution_count": null,
   "metadata": {},
   "outputs": [],
   "source": [
    "\n",
    "stat = lem.groupby(['배출가스등급', '선별포인트구간', '차종', '차종유형']).agg({'차대번호':'count', '무부하매연측정치1':'mean', '일일평균주행거리':'mean', '최근검사경과일':'mean', '운행제한건수':'mean'}).reset_index()\n",
    "stat = stat.rename(columns={'차대번호':'차량대수', '무부하매연측정치1':'매연측정값'})\n",
    "today_date = datetime.today().strftime(\"%Y%m%d\")\n",
    "stat['테이블생성일자'] = today_date\n",
    "cdict = {\n",
    "    '배출가스등급':'EXHST_GAS_GRD_CD',\n",
    "    '선별포인트구간':'SELCT_PNT_RNG',\n",
    "    '차종':'VHCTY_CD',\n",
    "    '차종유형':'VHCTY_TY',\n",
    "    '차량대수':'VHCL_MKCNT',\n",
    "    '매연측정값':'SMO_MSRMT_VAL',\n",
    "    '일일평균주행거리':'DY_AVRG_DRVNG_DSTNC',\n",
    "    '최근검사경과일':'RCNT_INSP_ELPSD_WHL',\n",
    "    '운행제한건수':'RUN_LMT_NOCS',\n",
    "    '테이블생성일자':'LOAD_DT', \n",
    "}\n",
    "STD_BD_DAT_SELCT_PNT_CURSTT = stat.rename(columns=cdict)"
   ]
  },
  {
   "cell_type": "code",
   "execution_count": null,
   "id": "e341b52c-4328-40ae-a96d-c18367e76ad4",
   "metadata": {},
   "outputs": [],
   "source": [
    "STD_BD_DAT_SELCT_PNT_CURSTT.columns"
   ]
  },
  {
   "cell_type": "markdown",
   "id": "9222f2d8-6afc-4677-93d7-f775372f6eea",
   "metadata": {},
   "source": [
    "### [출력] STD_BD_DAT_SELCT_PNT_CURSTT"
   ]
  },
  {
   "cell_type": "code",
   "execution_count": null,
   "id": "2a871904-6e4d-4d05-97a4-6ebf2916bd4f",
   "metadata": {},
   "outputs": [],
   "source": [
    "# expdf = STD_BD_DAT_SELCT_PNT_CURSTT\n",
    "# table_nm = 'STD_BD_DAT_SELCT_PNT_CURSTT'.upper()\n",
    "\n",
    "# # 테이블 생성\n",
    "# sql = 'create or replace table ' + table_nm + '( \\n'\n",
    "\n",
    "# for idx,column in enumerate(expdf.columns):\n",
    "#     # if 'float' in expdf[column].dtype.name:\n",
    "#     #     sql += column + ' float'\n",
    "#     # elif 'int' in expdf[column].dtype.name:\n",
    "#     #     sql += column + ' number'\n",
    "#     # else:\n",
    "#     sql += column + ' varchar(255)'\n",
    "\n",
    "#     if len(expdf.columns) - 1 != idx:\n",
    "#         sql += ','\n",
    "#     sql += '\\n'\n",
    "# sql += ')'    \n",
    "# we.execute(sql)\n",
    "\n",
    "# # 데이터 추가\n",
    "# # 5s\n",
    "# we.import_from_pandas(expdf, table_nm)\n",
    "\n",
    "# print(f'data export : {table_nm}')"
   ]
  },
  {
   "cell_type": "markdown",
   "id": "00f22853-4d48-4a76-8a9a-62d9c73f84bb",
   "metadata": {},
   "source": [
    "## 3-3 code end ##################################################################"
   ]
  },
  {
   "cell_type": "code",
   "execution_count": null,
   "id": "9a3f33d8-4111-46e9-a75c-b17e7e7d95da",
   "metadata": {
    "tags": []
   },
   "outputs": [],
   "source": [
    "sec = time.time() - start_time\n",
    "print(str(dt.timedelta(seconds=sec)).split('.')[0])"
   ]
  },
  {
   "cell_type": "code",
   "execution_count": null,
   "id": "a89e83d2-a316-482e-ad29-1318ac847ca6",
   "metadata": {},
   "outputs": [],
   "source": [
    "print('code end')"
   ]
  },
  {
   "cell_type": "markdown",
   "id": "09fce8dc-1198-4fe2-8e1b-3d1ff7b5008d",
   "metadata": {},
   "source": [
    "# code end ##################################################################"
   ]
  }
 ],
 "metadata": {
  "interpreter": {
   "hash": "569b4317022eb29baeafb3d0f1f739310808ea28ce83ca127a35db1c01070585"
  },
  "kernelspec": {
   "display_name": "Python 3.9.12 ('base')",
   "language": "python",
   "name": "python3"
  },
  "language_info": {
   "codemirror_mode": {
    "name": "ipython",
    "version": 3
   },
   "file_extension": ".py",
   "mimetype": "text/x-python",
   "name": "python",
   "nbconvert_exporter": "python",
   "pygments_lexer": "ipython3",
   "version": "3.11.4"
  }
 },
 "nbformat": 4,
 "nbformat_minor": 5
}
