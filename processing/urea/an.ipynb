{
 "cells": [
  {
   "cell_type": "code",
   "execution_count": 1,
   "metadata": {},
   "outputs": [],
   "source": [
    "import pandas as pd\n",
    "import numpy as np\n",
    "import os\n",
    "from datetime import datetime\n",
    "import pyexasol"
   ]
  },
  {
   "cell_type": "markdown",
   "metadata": {},
   "source": [
    "# fold"
   ]
  },
  {
   "cell_type": "code",
   "execution_count": 2,
   "metadata": {},
   "outputs": [
    {
     "data": {
      "text/plain": [
       "{'raw_fold': 'D:/data/processing/urea/raw',\n",
       " 'df_fold': 'D:/data/processing/urea/df',\n",
       " 'an_fold': 'D:/data/processing/urea/an'}"
      ]
     },
     "execution_count": 2,
     "metadata": {},
     "output_type": "execute_result"
    }
   ],
   "source": [
    "raw_fold = 'D:/data/processing/urea/raw'\n",
    "df_fold = 'D:/data/processing/urea/df'\n",
    "an_fold = 'D:/data/processing/urea/an'\n",
    "folds = {\n",
    "    'raw_fold':raw_fold, \n",
    "    'df_fold':df_fold, \n",
    "    'an_fold':an_fold, \n",
    "}\n",
    "folds"
   ]
  },
  {
   "cell_type": "markdown",
   "metadata": {},
   "source": [
    "# server"
   ]
  },
  {
   "cell_type": "code",
   "execution_count": 3,
   "metadata": {},
   "outputs": [],
   "source": [
    "wd = pyexasol.connect(dsn='dev.openankus.org:8563', user='sys', password='djslzja', compression=True, schema='VSYSD')"
   ]
  },
  {
   "cell_type": "markdown",
   "metadata": {},
   "source": [
    "# load"
   ]
  },
  {
   "cell_type": "markdown",
   "metadata": {},
   "source": [
    "## 등록&제원"
   ]
  },
  {
   "cell_type": "code",
   "execution_count": 178,
   "metadata": {},
   "outputs": [
    {
     "name": "stdout",
     "output_type": "stream",
     "text": [
      "<class 'pandas.core.frame.DataFrame'>\n",
      "RangeIndex: 11905778 entries, 0 to 11905777\n",
      "Data columns (total 10 columns):\n",
      " #   Column             Dtype \n",
      "---  ------             ----- \n",
      " 0   EXHST_GAS_CERT_NO  object\n",
      " 1   EXHST_GAS_GRD_CD   object\n",
      " 2   FRST_REG_YMD       object\n",
      " 3   VHCL_ERSR_YN       object\n",
      " 4   YRIDNW             int64 \n",
      " 5   VHCTY_CD_x         object\n",
      " 6   VIN                object\n",
      " 7   EGIN_TY            object\n",
      " 8   FUEL_CD            object\n",
      " 9   MNFCTR_NM          object\n",
      "dtypes: int64(1), object(9)\n",
      "memory usage: 908.3+ MB\n"
     ]
    }
   ],
   "source": [
    "# 1m 10.8s\n",
    "name = '경유_경유하이브리드_20231206'\n",
    "file_name = f'{name}.csv'\n",
    "cs_dgl = pd.read_csv(os.path.join(raw_fold, file_name), low_memory=False, usecols=['VIN', 'EXHST_GAS_CERT_NO', 'EXHST_GAS_GRD_CD', 'YRIDNW', 'VHCTY_CD_x', 'FUEL_CD', 'VHCL_ERSR_YN', 'FRST_REG_YMD', 'MNFCTR_NM', 'EGIN_TY'])\n",
    "# cs_dgl = pd.read_csv(os.path.join(raw_fold, file_name), low_memory=False, nrows=10)\n",
    "cs_dgl.info()"
   ]
  },
  {
   "cell_type": "code",
   "execution_count": 179,
   "metadata": {},
   "outputs": [
    {
     "data": {
      "text/plain": [
       "(11905778, 10)"
      ]
     },
     "execution_count": 179,
     "metadata": {},
     "output_type": "execute_result"
    }
   ],
   "source": [
    "ch_col = {\n",
    "    'VIN':'차대번호', \n",
    "    'EXHST_GAS_CERT_NO':'배출가스인증번호',\n",
    "    'YRIDNW':'차량연식', \n",
    "    'VHCTY_CD_x':'차종', \n",
    "    'FUEL_CD':'연료',\n",
    "    'VHCL_ERSR_YN':'차량말소유무',\n",
    "    'FRST_REG_YMD':'최초등록일자',\n",
    "    'EXHST_GAS_GRD_CD':'배출가스등급', \n",
    "    'MNFCTR_NM':'제작사명', \n",
    "    'EGIN_TY':'엔진형식', \n",
    "    # 'BSPL_STDG_CD':'법정동코드', \n",
    "    # 'MANP_MNG_NO':'제원관리번호', \n",
    "    # 'PURPS_CD2':'용도', \n",
    "    # 'VHCL_FBCTN_YMD':'제작일자', \n",
    "    # 'VHCL_MNG_NO':'차량관리번호', \n",
    "    # 'VHRNO':'자동차등록번호',\n",
    "    # 'EXTGAS_INSP_VLD_YMD':'검사유효일',\n",
    "    # 'VHCL_OWNR_CL_CD':'소유자구분',  \n",
    "}\n",
    "cs_dglr = cs_dgl.rename(columns=ch_col)\n",
    "cs_dglr.shape"
   ]
  },
  {
   "cell_type": "code",
   "execution_count": 180,
   "metadata": {},
   "outputs": [
    {
     "data": {
      "text/plain": [
       "array(['화물', '승용', '승합', '특수'], dtype=object)"
      ]
     },
     "execution_count": 180,
     "metadata": {},
     "output_type": "execute_result"
    }
   ],
   "source": [
    "## 차종 코드 변환\n",
    "cd_dict = {\n",
    "    'A31M':'이륜', \n",
    "    'A31P':'승용', \n",
    "    'A31S':'특수', \n",
    "    'A31T':'화물', \n",
    "    'A31V':'승합'\n",
    "}\n",
    "cs_dglr['차종'] = cs_dglr['차종'].replace(cd_dict)\n",
    "cs_dglr['차종'].unique()"
   ]
  },
  {
   "cell_type": "code",
   "execution_count": 181,
   "metadata": {},
   "outputs": [
    {
     "data": {
      "text/plain": [
       "array(['경유', '경유 하이브리드'], dtype=object)"
      ]
     },
     "execution_count": 181,
     "metadata": {},
     "output_type": "execute_result"
    }
   ],
   "source": [
    "## 연료 코드 변환\n",
    "fuel_dict = {\n",
    "    'A90GS':'휘발유', \n",
    "    'A91DS':'경유',\n",
    "    'A92LP':'LPG(액화석유가스)', \n",
    "    'A90GH':'휘발유 하이브리드', \n",
    "    'A93EV':'전기', \n",
    "    'A91DH':'경유 하이브리드', \n",
    "    'A92CN':'CNG(압축천연가스)', \n",
    "    'A93HD':'수소', \n",
    "    'A92LH':'LPG 하이브리드', \n",
    "    'A94OT':'기타연료', \n",
    "    'A92CH':'CNG 하이브리드',\n",
    "    'A90AC':'알코올', \n",
    "    'A93SH':'태양열', \n",
    "    'A91KS':'등유', \n",
    "    'A92LN':'LNG(액화천연가스)', \n",
    "    'A90PH':'플러그인 하이브리드', \n",
    "}\n",
    "cs_dglr['연료'] = cs_dglr['연료'].replace(fuel_dict)\n",
    "cs_dglr['연료'].unique()"
   ]
  },
  {
   "cell_type": "code",
   "execution_count": 182,
   "metadata": {},
   "outputs": [
    {
     "data": {
      "text/plain": [
       "연료\n",
       "경유          11853965\n",
       "경유 하이브리드       51813\n",
       "Name: count, dtype: int64"
      ]
     },
     "execution_count": 182,
     "metadata": {},
     "output_type": "execute_result"
    }
   ],
   "source": [
    "cs_dglr['연료'].value_counts(dropna=False)"
   ]
  },
  {
   "cell_type": "code",
   "execution_count": 183,
   "metadata": {},
   "outputs": [
    {
     "data": {
      "text/plain": [
       "차량말소유무\n",
       "N    9582519\n",
       "Y    2323259\n",
       "Name: count, dtype: int64"
      ]
     },
     "execution_count": 183,
     "metadata": {},
     "output_type": "execute_result"
    }
   ],
   "source": [
    "cs_dglr['차량말소유무'].value_counts(dropna=False)"
   ]
  },
  {
   "cell_type": "code",
   "execution_count": 184,
   "metadata": {},
   "outputs": [
    {
     "data": {
      "text/html": [
       "<div>\n",
       "<style scoped>\n",
       "    .dataframe tbody tr th:only-of-type {\n",
       "        vertical-align: middle;\n",
       "    }\n",
       "\n",
       "    .dataframe tbody tr th {\n",
       "        vertical-align: top;\n",
       "    }\n",
       "\n",
       "    .dataframe thead th {\n",
       "        text-align: right;\n",
       "    }\n",
       "</style>\n",
       "<table border=\"1\" class=\"dataframe\">\n",
       "  <thead>\n",
       "    <tr style=\"text-align: right;\">\n",
       "      <th></th>\n",
       "      <th>연료</th>\n",
       "      <th>차량말소유무</th>\n",
       "      <th>차대번호</th>\n",
       "    </tr>\n",
       "  </thead>\n",
       "  <tbody>\n",
       "    <tr>\n",
       "      <th>0</th>\n",
       "      <td>경유</td>\n",
       "      <td>N</td>\n",
       "      <td>9533811</td>\n",
       "    </tr>\n",
       "    <tr>\n",
       "      <th>1</th>\n",
       "      <td>경유</td>\n",
       "      <td>Y</td>\n",
       "      <td>2320154</td>\n",
       "    </tr>\n",
       "    <tr>\n",
       "      <th>2</th>\n",
       "      <td>경유 하이브리드</td>\n",
       "      <td>N</td>\n",
       "      <td>48708</td>\n",
       "    </tr>\n",
       "    <tr>\n",
       "      <th>3</th>\n",
       "      <td>경유 하이브리드</td>\n",
       "      <td>Y</td>\n",
       "      <td>3105</td>\n",
       "    </tr>\n",
       "  </tbody>\n",
       "</table>\n",
       "</div>"
      ],
      "text/plain": [
       "         연료 차량말소유무     차대번호\n",
       "0        경유      N  9533811\n",
       "1        경유      Y  2320154\n",
       "2  경유 하이브리드      N    48708\n",
       "3  경유 하이브리드      Y     3105"
      ]
     },
     "execution_count": 184,
     "metadata": {},
     "output_type": "execute_result"
    }
   ],
   "source": [
    "cs_dglr.groupby(['연료', '차량말소유무'], dropna=False)['차대번호'].count().reset_index()"
   ]
  },
  {
   "cell_type": "code",
   "execution_count": 185,
   "metadata": {},
   "outputs": [
    {
     "data": {
      "text/plain": [
       "(9533811, 10)"
      ]
     },
     "execution_count": 185,
     "metadata": {},
     "output_type": "execute_result"
    }
   ],
   "source": [
    "cs = cs_dglr[(cs_dglr['연료'] == '경유') & (cs_dglr['차량말소유무'] == 'N')].reset_index(drop=True)\n",
    "cs.shape"
   ]
  },
  {
   "cell_type": "code",
   "execution_count": 186,
   "metadata": {},
   "outputs": [
    {
     "data": {
      "text/plain": [
       "dtype('O')"
      ]
     },
     "execution_count": 186,
     "metadata": {},
     "output_type": "execute_result"
    }
   ],
   "source": [
    "cs['최초등록일자'].dtype"
   ]
  },
  {
   "cell_type": "code",
   "execution_count": 187,
   "metadata": {},
   "outputs": [
    {
     "data": {
      "text/plain": [
       "dtype('float64')"
      ]
     },
     "execution_count": 187,
     "metadata": {},
     "output_type": "execute_result"
    }
   ],
   "source": [
    "cs['최초등록일자'] = pd.to_numeric(cs['최초등록일자'], errors='coerce')\n",
    "cs['최초등록일자'].dtype"
   ]
  },
  {
   "cell_type": "code",
   "execution_count": 188,
   "metadata": {},
   "outputs": [
    {
     "data": {
      "text/plain": [
       "(9533740, 10)"
      ]
     },
     "execution_count": 188,
     "metadata": {},
     "output_type": "execute_result"
    }
   ],
   "source": [
    "csm = cs.sort_values('최초등록일자', ascending=False).drop_duplicates('차대번호').reset_index(drop=True)\n",
    "csm.shape"
   ]
  },
  {
   "cell_type": "markdown",
   "metadata": {},
   "source": [
    "## 저감장치 부착이력"
   ]
  },
  {
   "cell_type": "code",
   "execution_count": 131,
   "metadata": {},
   "outputs": [
    {
     "name": "stdout",
     "output_type": "stream",
     "text": [
      "Index(['차대번호', '저감장치구분'], dtype='object')\n",
      "data load : STD_DLM_TB_ERP_ATT_HIS\n"
     ]
    }
   ],
   "source": [
    "# 3.0s\n",
    "att = wd.export_to_pandas(\"SELECT VIN, RDCDVC_SE_CD FROM STD_DLM_TB_ERP_ATT_HIS;\")\n",
    "att_ch_col = {\n",
    "    'VIN':'차대번호', \n",
    "    'RDCDVC_SE_CD':'저감장치구분',\n",
    "    # 'RDCDVC_KND_CD':'저감장치종류',\n",
    "}\n",
    "attr = att.rename(columns=att_ch_col)\n",
    "print(attr.columns)\n",
    "print('data load : STD_DLM_TB_ERP_ATT_HIS')"
   ]
  },
  {
   "cell_type": "code",
   "execution_count": 132,
   "metadata": {},
   "outputs": [
    {
     "data": {
      "text/plain": [
       "array(['1종', '3종', '엔진개조', '2종', '엔진교체', '삼원촉매', '1종+SCR'], dtype=object)"
      ]
     },
     "execution_count": 132,
     "metadata": {},
     "output_type": "execute_result"
    }
   ],
   "source": [
    "rdcdvc_dict = {\n",
    "    'A1001':'1종', \n",
    "    'A1002':'2종', \n",
    "    'A1003':'3종', \n",
    "    'A1004':'1종+SCR', \n",
    "    'A1005':'엔진개조', \n",
    "    'A1006':'엔진교체',\n",
    "    'A1007':'삼원촉매',\n",
    "}\n",
    "attr['저감장치구분'] = attr['저감장치구분'].replace(rdcdvc_dict)\n",
    "attr['저감장치구분'].unique()"
   ]
  },
  {
   "cell_type": "code",
   "execution_count": 133,
   "metadata": {},
   "outputs": [
    {
     "data": {
      "text/plain": [
       "((1015941, 2), 1014369)"
      ]
     },
     "execution_count": 133,
     "metadata": {},
     "output_type": "execute_result"
    }
   ],
   "source": [
    "attr.shape, len(attr['차대번호'].unique())"
   ]
  },
  {
   "cell_type": "code",
   "execution_count": 134,
   "metadata": {},
   "outputs": [
    {
     "data": {
      "text/plain": [
       "['1종', '1종+SCR', '2종', '3종', '삼원촉매', '엔진개조', '엔진교체']"
      ]
     },
     "execution_count": 134,
     "metadata": {},
     "output_type": "execute_result"
    }
   ],
   "source": [
    "sorted(['1종', '3종', '엔진개조', '2종', '엔진교체', '삼원촉매', '1종+SCR'])"
   ]
  },
  {
   "cell_type": "code",
   "execution_count": 135,
   "metadata": {},
   "outputs": [
    {
     "data": {
      "text/plain": [
       "(1014369, 2)"
      ]
     },
     "execution_count": 135,
     "metadata": {},
     "output_type": "execute_result"
    }
   ],
   "source": [
    "# 차대번호 중복 제거\n",
    "attm = attr.sort_values('저감장치구분').drop_duplicates('차대번호').reset_index(drop=True)\n",
    "attm.shape"
   ]
  },
  {
   "cell_type": "markdown",
   "metadata": {},
   "source": [
    "## 인증대장"
   ]
  },
  {
   "cell_type": "code",
   "execution_count": 136,
   "metadata": {},
   "outputs": [
    {
     "name": "stdout",
     "output_type": "stream",
     "text": [
      "<class 'pandas.core.frame.DataFrame'>\n",
      "RangeIndex: 43 entries, 0 to 42\n",
      "Data columns (total 15 columns):\n",
      " #   Column      Non-Null Count  Dtype  \n",
      "---  ------      --------------  -----  \n",
      " 0   제작사         42 non-null     object \n",
      " 1   차명          42 non-null     object \n",
      " 2   자동차형식       42 non-null     object \n",
      " 3   엔진형식        42 non-null     object \n",
      " 4   배기량         42 non-null     float64\n",
      " 5   최대출력        43 non-null     object \n",
      " 6   Unnamed: 6  43 non-null     object \n",
      " 7   변속기         42 non-null     object \n",
      " 8   총중량         42 non-null     object \n",
      " 9   공차중량        42 non-null     object \n",
      " 10  제작사.1       42 non-null     object \n",
      " 11  제작국         42 non-null     object \n",
      " 12  인증번호        43 non-null     object \n",
      " 13  인증일자        43 non-null     object \n",
      " 14  비고          42 non-null     object \n",
      "dtypes: float64(1), object(14)\n",
      "memory usage: 5.2+ KB\n"
     ]
    }
   ],
   "source": [
    "name = '인증대장(대형)_SCR_적용차종(EURO 4, 5)'\n",
    "file_name = f'{name}.xlsx'\n",
    "l45 = pd.read_excel(os.path.join(raw_fold, file_name))\n",
    "l45.info()"
   ]
  },
  {
   "cell_type": "code",
   "execution_count": 137,
   "metadata": {},
   "outputs": [
    {
     "data": {
      "text/plain": [
       "Index(['제작사1', '차명', '자동차형식', '엔진형식', '배기량', '최대출력_PS', '최대출력_RPM', '변속기',\n",
       "       '총중량', '공차중량', '제작사2', '제작국', '인증번호', '인증일자', '비고'],\n",
       "      dtype='object')"
      ]
     },
     "execution_count": 137,
     "metadata": {},
     "output_type": "execute_result"
    }
   ],
   "source": [
    "l45_col = [\n",
    "    '제작사1',\n",
    "    '차명',\n",
    "    '자동차형식',\n",
    "    '엔진형식',\n",
    "    '배기량',\n",
    "    '최대출력_PS',\n",
    "    '최대출력_RPM',\n",
    "    '변속기',\n",
    "    '총중량',\n",
    "    '공차중량',\n",
    "    '제작사2',\n",
    "    '제작국',\n",
    "    '인증번호',\n",
    "    '인증일자',\n",
    "    '비고',\n",
    "]\n",
    "l45.columns = l45_col\n",
    "l45.columns"
   ]
  },
  {
   "cell_type": "code",
   "execution_count": 138,
   "metadata": {},
   "outputs": [
    {
     "data": {
      "text/plain": [
       "(43, 15)"
      ]
     },
     "execution_count": 138,
     "metadata": {},
     "output_type": "execute_result"
    }
   ],
   "source": [
    "l45.shape"
   ]
  },
  {
   "cell_type": "code",
   "execution_count": 139,
   "metadata": {},
   "outputs": [
    {
     "data": {
      "text/html": [
       "<div>\n",
       "<style scoped>\n",
       "    .dataframe tbody tr th:only-of-type {\n",
       "        vertical-align: middle;\n",
       "    }\n",
       "\n",
       "    .dataframe tbody tr th {\n",
       "        vertical-align: top;\n",
       "    }\n",
       "\n",
       "    .dataframe thead th {\n",
       "        text-align: right;\n",
       "    }\n",
       "</style>\n",
       "<table border=\"1\" class=\"dataframe\">\n",
       "  <thead>\n",
       "    <tr style=\"text-align: right;\">\n",
       "      <th></th>\n",
       "      <th>제작사1</th>\n",
       "      <th>차명</th>\n",
       "      <th>자동차형식</th>\n",
       "      <th>엔진형식</th>\n",
       "      <th>배기량</th>\n",
       "      <th>최대출력_PS</th>\n",
       "      <th>최대출력_RPM</th>\n",
       "      <th>변속기</th>\n",
       "      <th>총중량</th>\n",
       "      <th>공차중량</th>\n",
       "      <th>제작사2</th>\n",
       "      <th>제작국</th>\n",
       "      <th>인증번호</th>\n",
       "      <th>인증일자</th>\n",
       "      <th>비고</th>\n",
       "    </tr>\n",
       "  </thead>\n",
       "  <tbody>\n",
       "    <tr>\n",
       "      <th>0</th>\n",
       "      <td>NaN</td>\n",
       "      <td>NaN</td>\n",
       "      <td>NaN</td>\n",
       "      <td>NaN</td>\n",
       "      <td>NaN</td>\n",
       "      <td>PS</td>\n",
       "      <td>RPM</td>\n",
       "      <td>NaN</td>\n",
       "      <td>NaN</td>\n",
       "      <td>NaN</td>\n",
       "      <td>NaN</td>\n",
       "      <td>NaN</td>\n",
       "      <td>배출</td>\n",
       "      <td>배출</td>\n",
       "      <td>NaN</td>\n",
       "    </tr>\n",
       "    <tr>\n",
       "      <th>1</th>\n",
       "      <td>현대자동차</td>\n",
       "      <td>현대25.5톤덤프트럭</td>\n",
       "      <td>HD255-YDU0-DHECA</td>\n",
       "      <td>D6CE</td>\n",
       "      <td>12742.0</td>\n",
       "      <td>520</td>\n",
       "      <td>1700</td>\n",
       "      <td>자동12단</td>\n",
       "      <td>38730</td>\n",
       "      <td>13230</td>\n",
       "      <td>현대자동차</td>\n",
       "      <td>한국</td>\n",
       "      <td>AMY-HD-14-35</td>\n",
       "      <td>2010-07-19 00:00:00</td>\n",
       "      <td>유로5</td>\n",
       "    </tr>\n",
       "    <tr>\n",
       "      <th>2</th>\n",
       "      <td>타타대우</td>\n",
       "      <td>대우25톤장축카고트럭</td>\n",
       "      <td>BT9CC1</td>\n",
       "      <td>DV11</td>\n",
       "      <td>10964.0</td>\n",
       "      <td>440</td>\n",
       "      <td>1900</td>\n",
       "      <td>수동16단</td>\n",
       "      <td>38800</td>\n",
       "      <td>13670</td>\n",
       "      <td>타타대우상용차</td>\n",
       "      <td>한국</td>\n",
       "      <td>7MY-DC-23-70</td>\n",
       "      <td>2007-12-18 00:00:00</td>\n",
       "      <td>유로4</td>\n",
       "    </tr>\n",
       "    <tr>\n",
       "      <th>3</th>\n",
       "      <td>타타대우</td>\n",
       "      <td>대우5톤초장축카고트럭</td>\n",
       "      <td>BC4AH1</td>\n",
       "      <td>F4AE3681D</td>\n",
       "      <td>5880.0</td>\n",
       "      <td>251</td>\n",
       "      <td>2700</td>\n",
       "      <td>수동6단</td>\n",
       "      <td>11415</td>\n",
       "      <td>6285</td>\n",
       "      <td>타타대우상용차</td>\n",
       "      <td>한국</td>\n",
       "      <td>7MY-DC-23-72</td>\n",
       "      <td>2007-12-18 00:00:00</td>\n",
       "      <td>유로4</td>\n",
       "    </tr>\n",
       "    <tr>\n",
       "      <th>4</th>\n",
       "      <td>타타대우</td>\n",
       "      <td>대우5톤초장축카고트럭</td>\n",
       "      <td>BC4AT1</td>\n",
       "      <td>DL06</td>\n",
       "      <td>5890.0</td>\n",
       "      <td>270</td>\n",
       "      <td>2500</td>\n",
       "      <td>수동6단</td>\n",
       "      <td>11500</td>\n",
       "      <td>6370</td>\n",
       "      <td>타타대우상용차</td>\n",
       "      <td>한국</td>\n",
       "      <td>8MY-DC-24-12</td>\n",
       "      <td>2008-05-21 00:00:00</td>\n",
       "      <td>유로4</td>\n",
       "    </tr>\n",
       "  </tbody>\n",
       "</table>\n",
       "</div>"
      ],
      "text/plain": [
       "    제작사1           차명             자동차형식       엔진형식      배기량 최대출력_PS 최대출력_RPM   \n",
       "0    NaN          NaN               NaN        NaN      NaN      PS      RPM  \\\n",
       "1  현대자동차  현대25.5톤덤프트럭  HD255-YDU0-DHECA       D6CE  12742.0     520     1700   \n",
       "2   타타대우  대우25톤장축카고트럭            BT9CC1       DV11  10964.0     440     1900   \n",
       "3   타타대우  대우5톤초장축카고트럭            BC4AH1  F4AE3681D   5880.0     251     2700   \n",
       "4   타타대우  대우5톤초장축카고트럭            BC4AT1       DL06   5890.0     270     2500   \n",
       "\n",
       "     변속기    총중량   공차중량     제작사2  제작국          인증번호                 인증일자   비고  \n",
       "0    NaN    NaN    NaN      NaN  NaN            배출                   배출  NaN  \n",
       "1  자동12단  38730  13230    현대자동차   한국  AMY-HD-14-35  2010-07-19 00:00:00  유로5  \n",
       "2  수동16단  38800  13670  타타대우상용차   한국  7MY-DC-23-70  2007-12-18 00:00:00  유로4  \n",
       "3   수동6단  11415   6285  타타대우상용차   한국  7MY-DC-23-72  2007-12-18 00:00:00  유로4  \n",
       "4   수동6단  11500   6370  타타대우상용차   한국  8MY-DC-24-12  2008-05-21 00:00:00  유로4  "
      ]
     },
     "execution_count": 139,
     "metadata": {},
     "output_type": "execute_result"
    }
   ],
   "source": [
    "l45.head()"
   ]
  },
  {
   "cell_type": "code",
   "execution_count": 140,
   "metadata": {},
   "outputs": [
    {
     "data": {
      "text/html": [
       "<div>\n",
       "<style scoped>\n",
       "    .dataframe tbody tr th:only-of-type {\n",
       "        vertical-align: middle;\n",
       "    }\n",
       "\n",
       "    .dataframe tbody tr th {\n",
       "        vertical-align: top;\n",
       "    }\n",
       "\n",
       "    .dataframe thead th {\n",
       "        text-align: right;\n",
       "    }\n",
       "</style>\n",
       "<table border=\"1\" class=\"dataframe\">\n",
       "  <thead>\n",
       "    <tr style=\"text-align: right;\">\n",
       "      <th></th>\n",
       "      <th>제작사1</th>\n",
       "      <th>차명</th>\n",
       "      <th>자동차형식</th>\n",
       "      <th>엔진형식</th>\n",
       "      <th>배기량</th>\n",
       "      <th>최대출력_PS</th>\n",
       "      <th>최대출력_RPM</th>\n",
       "      <th>변속기</th>\n",
       "      <th>총중량</th>\n",
       "      <th>공차중량</th>\n",
       "      <th>제작사2</th>\n",
       "      <th>제작국</th>\n",
       "      <th>인증번호</th>\n",
       "      <th>인증일자</th>\n",
       "      <th>비고</th>\n",
       "    </tr>\n",
       "  </thead>\n",
       "  <tbody>\n",
       "    <tr>\n",
       "      <th>0</th>\n",
       "      <td>현대자동차</td>\n",
       "      <td>현대25.5톤덤프트럭</td>\n",
       "      <td>HD255-YDU0-DHECA</td>\n",
       "      <td>D6CE</td>\n",
       "      <td>12742.0</td>\n",
       "      <td>520</td>\n",
       "      <td>1700</td>\n",
       "      <td>자동12단</td>\n",
       "      <td>38730</td>\n",
       "      <td>13230</td>\n",
       "      <td>현대자동차</td>\n",
       "      <td>한국</td>\n",
       "      <td>AMY-HD-14-35</td>\n",
       "      <td>2010-07-19 00:00:00</td>\n",
       "      <td>유로5</td>\n",
       "    </tr>\n",
       "    <tr>\n",
       "      <th>1</th>\n",
       "      <td>타타대우</td>\n",
       "      <td>대우25톤장축카고트럭</td>\n",
       "      <td>BT9CC1</td>\n",
       "      <td>DV11</td>\n",
       "      <td>10964.0</td>\n",
       "      <td>440</td>\n",
       "      <td>1900</td>\n",
       "      <td>수동16단</td>\n",
       "      <td>38800</td>\n",
       "      <td>13670</td>\n",
       "      <td>타타대우상용차</td>\n",
       "      <td>한국</td>\n",
       "      <td>7MY-DC-23-70</td>\n",
       "      <td>2007-12-18 00:00:00</td>\n",
       "      <td>유로4</td>\n",
       "    </tr>\n",
       "    <tr>\n",
       "      <th>2</th>\n",
       "      <td>타타대우</td>\n",
       "      <td>대우5톤초장축카고트럭</td>\n",
       "      <td>BC4AH1</td>\n",
       "      <td>F4AE3681D</td>\n",
       "      <td>5880.0</td>\n",
       "      <td>251</td>\n",
       "      <td>2700</td>\n",
       "      <td>수동6단</td>\n",
       "      <td>11415</td>\n",
       "      <td>6285</td>\n",
       "      <td>타타대우상용차</td>\n",
       "      <td>한국</td>\n",
       "      <td>7MY-DC-23-72</td>\n",
       "      <td>2007-12-18 00:00:00</td>\n",
       "      <td>유로4</td>\n",
       "    </tr>\n",
       "    <tr>\n",
       "      <th>3</th>\n",
       "      <td>타타대우</td>\n",
       "      <td>대우5톤초장축카고트럭</td>\n",
       "      <td>BC4AT1</td>\n",
       "      <td>DL06</td>\n",
       "      <td>5890.0</td>\n",
       "      <td>270</td>\n",
       "      <td>2500</td>\n",
       "      <td>수동6단</td>\n",
       "      <td>11500</td>\n",
       "      <td>6370</td>\n",
       "      <td>타타대우상용차</td>\n",
       "      <td>한국</td>\n",
       "      <td>8MY-DC-24-12</td>\n",
       "      <td>2008-05-21 00:00:00</td>\n",
       "      <td>유로4</td>\n",
       "    </tr>\n",
       "    <tr>\n",
       "      <th>4</th>\n",
       "      <td>타타대우</td>\n",
       "      <td>대우트랙터</td>\n",
       "      <td>EX3TX2</td>\n",
       "      <td>F3BE3681B</td>\n",
       "      <td>12882.0</td>\n",
       "      <td>560</td>\n",
       "      <td>1900</td>\n",
       "      <td>자동12단</td>\n",
       "      <td>26020</td>\n",
       "      <td>8810</td>\n",
       "      <td>타타대우상용차</td>\n",
       "      <td>한국</td>\n",
       "      <td>8MY-DC-24-15</td>\n",
       "      <td>2008-06-30 00:00:00</td>\n",
       "      <td>유로4</td>\n",
       "    </tr>\n",
       "  </tbody>\n",
       "</table>\n",
       "</div>"
      ],
      "text/plain": [
       "    제작사1           차명             자동차형식       엔진형식      배기량 최대출력_PS 최대출력_RPM   \n",
       "0  현대자동차  현대25.5톤덤프트럭  HD255-YDU0-DHECA       D6CE  12742.0     520     1700  \\\n",
       "1   타타대우  대우25톤장축카고트럭            BT9CC1       DV11  10964.0     440     1900   \n",
       "2   타타대우  대우5톤초장축카고트럭            BC4AH1  F4AE3681D   5880.0     251     2700   \n",
       "3   타타대우  대우5톤초장축카고트럭            BC4AT1       DL06   5890.0     270     2500   \n",
       "4   타타대우        대우트랙터            EX3TX2  F3BE3681B  12882.0     560     1900   \n",
       "\n",
       "     변속기    총중량   공차중량     제작사2 제작국          인증번호                 인증일자   비고  \n",
       "0  자동12단  38730  13230    현대자동차  한국  AMY-HD-14-35  2010-07-19 00:00:00  유로5  \n",
       "1  수동16단  38800  13670  타타대우상용차  한국  7MY-DC-23-70  2007-12-18 00:00:00  유로4  \n",
       "2   수동6단  11415   6285  타타대우상용차  한국  7MY-DC-23-72  2007-12-18 00:00:00  유로4  \n",
       "3   수동6단  11500   6370  타타대우상용차  한국  8MY-DC-24-12  2008-05-21 00:00:00  유로4  \n",
       "4  자동12단  26020   8810  타타대우상용차  한국  8MY-DC-24-15  2008-06-30 00:00:00  유로4  "
      ]
     },
     "execution_count": 140,
     "metadata": {},
     "output_type": "execute_result"
    }
   ],
   "source": [
    "l45 = l45.iloc[1:].reset_index(drop=True)\n",
    "l45.head()"
   ]
  },
  {
   "cell_type": "code",
   "execution_count": 141,
   "metadata": {},
   "outputs": [
    {
     "name": "stdout",
     "output_type": "stream",
     "text": [
      "<class 'pandas.core.frame.DataFrame'>\n",
      "RangeIndex: 21 entries, 0 to 20\n",
      "Data columns (total 19 columns):\n",
      " #   Column       Non-Null Count  Dtype \n",
      "---  ------       --------------  ----- \n",
      " 0   No           21 non-null     int64 \n",
      " 1   제작사          21 non-null     object\n",
      " 2   인증번호         21 non-null     object\n",
      " 3   인증일자         21 non-null     object\n",
      " 4   차명           21 non-null     object\n",
      " 5   차종           21 non-null     object\n",
      " 6   차형식          21 non-null     object\n",
      " 7   엔진형식         21 non-null     object\n",
      " 8   배기량          21 non-null     int64 \n",
      " 9   변속기          21 non-null     object\n",
      " 10  최대출력         21 non-null     int64 \n",
      " 11  Unnamed: 11  21 non-null     int64 \n",
      " 12  총중량          21 non-null     object\n",
      " 13  공차중량         21 non-null     object\n",
      " 14  제작국          21 non-null     object\n",
      " 15  사용연료         21 non-null     object\n",
      " 16  배출기준         21 non-null     object\n",
      " 17  유럽기준         21 non-null     object\n",
      " 18  SCR유무        21 non-null     object\n",
      "dtypes: int64(4), object(15)\n",
      "memory usage: 3.2+ KB\n"
     ]
    }
   ],
   "source": [
    "name = '인증대장(대형)_SCR_적용차종(EURO 6)'\n",
    "file_name = f'{name}.xlsx'\n",
    "l6 = pd.read_excel(os.path.join(raw_fold, file_name))\n",
    "l6.info()"
   ]
  },
  {
   "cell_type": "code",
   "execution_count": 142,
   "metadata": {},
   "outputs": [
    {
     "name": "stdout",
     "output_type": "stream",
     "text": [
      "<class 'pandas.core.frame.DataFrame'>\n",
      "RangeIndex: 47 entries, 0 to 46\n",
      "Data columns (total 19 columns):\n",
      " #   Column        Non-Null Count  Dtype \n",
      "---  ------        --------------  ----- \n",
      " 0   일련번호          47 non-null     int64 \n",
      " 1   제작사           47 non-null     object\n",
      " 2   배출가스차종        47 non-null     object\n",
      " 3   배출가스인증번호      47 non-null     object\n",
      " 4   배출가스인증일       47 non-null     object\n",
      " 5   차명            47 non-null     object\n",
      " 6   자동차형식         47 non-null     object\n",
      " 7   엔진형식          47 non-null     object\n",
      " 8   배기량           47 non-null     int64 \n",
      " 9   변속기           47 non-null     object\n",
      " 10  최대출력PS        47 non-null     int64 \n",
      " 11  최대출력RPM       47 non-null     int64 \n",
      " 12  총중량           47 non-null     int64 \n",
      " 13  공차중량          47 non-null     int64 \n",
      " 14  제작국가          47 non-null     object\n",
      " 15  사용연료          47 non-null     object\n",
      " 16  배출가스기준        47 non-null     object\n",
      " 17  유럽 기준         47 non-null     object\n",
      " 18  SCR 유(Y)무(N)  47 non-null     object\n",
      "dtypes: int64(6), object(13)\n",
      "memory usage: 7.1+ KB\n"
     ]
    }
   ],
   "source": [
    "name = '인증대장(소형)_SCR_적용차종(EURO 6)'\n",
    "file_name = f'{name}.xlsx'\n",
    "s6 = pd.read_excel(os.path.join(raw_fold, file_name))\n",
    "s6.info()"
   ]
  },
  {
   "cell_type": "code",
   "execution_count": 143,
   "metadata": {},
   "outputs": [],
   "source": [
    "# 확인된 사항\n",
    "# l45, l6, s6 배출가스인증번호(인증번호) 중복 없음"
   ]
  },
  {
   "cell_type": "code",
   "execution_count": 144,
   "metadata": {},
   "outputs": [
    {
     "data": {
      "text/plain": [
       "42"
      ]
     },
     "execution_count": 144,
     "metadata": {},
     "output_type": "execute_result"
    }
   ],
   "source": [
    "len(set(l45['인증번호'].to_list()))"
   ]
  },
  {
   "cell_type": "code",
   "execution_count": 145,
   "metadata": {},
   "outputs": [
    {
     "data": {
      "text/plain": [
       "42"
      ]
     },
     "execution_count": 145,
     "metadata": {},
     "output_type": "execute_result"
    }
   ],
   "source": [
    "len(set(l45['인증번호'].to_list()) - set(l6['인증번호'].to_list()))"
   ]
  },
  {
   "cell_type": "code",
   "execution_count": 146,
   "metadata": {},
   "outputs": [
    {
     "data": {
      "text/plain": [
       "21"
      ]
     },
     "execution_count": 146,
     "metadata": {},
     "output_type": "execute_result"
    }
   ],
   "source": [
    "len(set(l6['인증번호'].to_list()))"
   ]
  },
  {
   "cell_type": "code",
   "execution_count": 147,
   "metadata": {},
   "outputs": [
    {
     "data": {
      "text/plain": [
       "21"
      ]
     },
     "execution_count": 147,
     "metadata": {},
     "output_type": "execute_result"
    }
   ],
   "source": [
    "len(set(l6['인증번호'].to_list()) - set(s6['배출가스인증번호'].to_list()))"
   ]
  },
  {
   "cell_type": "code",
   "execution_count": 148,
   "metadata": {},
   "outputs": [
    {
     "data": {
      "text/plain": [
       "42"
      ]
     },
     "execution_count": 148,
     "metadata": {},
     "output_type": "execute_result"
    }
   ],
   "source": [
    "len(set(l45['인증번호'].to_list()) - set(s6['배출가스인증번호'].to_list()))"
   ]
  },
  {
   "cell_type": "markdown",
   "metadata": {},
   "source": [
    "## 제작사 확인"
   ]
  },
  {
   "cell_type": "code",
   "execution_count": 205,
   "metadata": {},
   "outputs": [
    {
     "name": "stdout",
     "output_type": "stream",
     "text": [
      "<class 'pandas.core.frame.DataFrame'>\n",
      "RangeIndex: 8679 entries, 0 to 8678\n",
      "Data columns (total 4 columns):\n",
      " #   Column               Non-Null Count  Dtype \n",
      "---  ------               --------------  ----- \n",
      " 0   엔진형식                 8679 non-null   object\n",
      " 1   제작사명                 8679 non-null   object\n",
      " 2   차대번호                 8679 non-null   int64 \n",
      " 3   국내/외 구분(1:국내, 2:국외)  8679 non-null   int64 \n",
      "dtypes: int64(2), object(2)\n",
      "memory usage: 271.3+ KB\n"
     ]
    }
   ],
   "source": [
    "name = '엔진형식_제작사명_리스트(수정)'\n",
    "file_name = f'{name}.xlsx'\n",
    "ck = pd.read_excel(os.path.join(raw_fold, file_name))\n",
    "ck.info()"
   ]
  },
  {
   "cell_type": "code",
   "execution_count": 206,
   "metadata": {},
   "outputs": [
    {
     "data": {
      "text/html": [
       "<div>\n",
       "<style scoped>\n",
       "    .dataframe tbody tr th:only-of-type {\n",
       "        vertical-align: middle;\n",
       "    }\n",
       "\n",
       "    .dataframe tbody tr th {\n",
       "        vertical-align: top;\n",
       "    }\n",
       "\n",
       "    .dataframe thead th {\n",
       "        text-align: right;\n",
       "    }\n",
       "</style>\n",
       "<table border=\"1\" class=\"dataframe\">\n",
       "  <thead>\n",
       "    <tr style=\"text-align: right;\">\n",
       "      <th></th>\n",
       "      <th>엔진형식</th>\n",
       "      <th>제작사명</th>\n",
       "      <th>차대번호</th>\n",
       "      <th>국내/외 구분(1:국내, 2:국외)</th>\n",
       "    </tr>\n",
       "  </thead>\n",
       "  <tbody>\n",
       "    <tr>\n",
       "      <th>0</th>\n",
       "      <td>-</td>\n",
       "      <td>(주) 두성특장차</td>\n",
       "      <td>1</td>\n",
       "      <td>1</td>\n",
       "    </tr>\n",
       "    <tr>\n",
       "      <th>1</th>\n",
       "      <td>-</td>\n",
       "      <td>한국특장차(주)</td>\n",
       "      <td>1</td>\n",
       "      <td>1</td>\n",
       "    </tr>\n",
       "    <tr>\n",
       "      <th>2</th>\n",
       "      <td>.D4GB</td>\n",
       "      <td>(주) 골드밴</td>\n",
       "      <td>1</td>\n",
       "      <td>1</td>\n",
       "    </tr>\n",
       "    <tr>\n",
       "      <th>3</th>\n",
       "      <td>0</td>\n",
       "      <td>SOFA차량</td>\n",
       "      <td>4</td>\n",
       "      <td>1</td>\n",
       "    </tr>\n",
       "    <tr>\n",
       "      <th>4</th>\n",
       "      <td>0</td>\n",
       "      <td>남도수입</td>\n",
       "      <td>1</td>\n",
       "      <td>2</td>\n",
       "    </tr>\n",
       "  </tbody>\n",
       "</table>\n",
       "</div>"
      ],
      "text/plain": [
       "    엔진형식       제작사명  차대번호  국내/외 구분(1:국내, 2:국외)\n",
       "0      -  (주) 두성특장차     1                    1\n",
       "1      -   한국특장차(주)     1                    1\n",
       "2  .D4GB    (주) 골드밴     1                    1\n",
       "3      0     SOFA차량     4                    1\n",
       "4      0       남도수입     1                    2"
      ]
     },
     "execution_count": 206,
     "metadata": {},
     "output_type": "execute_result"
    }
   ],
   "source": [
    "ck.head()"
   ]
  },
  {
   "cell_type": "code",
   "execution_count": 210,
   "metadata": {},
   "outputs": [
    {
     "data": {
      "text/html": [
       "<div>\n",
       "<style scoped>\n",
       "    .dataframe tbody tr th:only-of-type {\n",
       "        vertical-align: middle;\n",
       "    }\n",
       "\n",
       "    .dataframe tbody tr th {\n",
       "        vertical-align: top;\n",
       "    }\n",
       "\n",
       "    .dataframe thead th {\n",
       "        text-align: right;\n",
       "    }\n",
       "</style>\n",
       "<table border=\"1\" class=\"dataframe\">\n",
       "  <thead>\n",
       "    <tr style=\"text-align: right;\">\n",
       "      <th></th>\n",
       "      <th>엔진형식</th>\n",
       "      <th>제작사명</th>\n",
       "      <th>차대번호</th>\n",
       "      <th>구분</th>\n",
       "    </tr>\n",
       "  </thead>\n",
       "  <tbody>\n",
       "    <tr>\n",
       "      <th>0</th>\n",
       "      <td>-</td>\n",
       "      <td>(주) 두성특장차</td>\n",
       "      <td>1</td>\n",
       "      <td>국내</td>\n",
       "    </tr>\n",
       "    <tr>\n",
       "      <th>1</th>\n",
       "      <td>-</td>\n",
       "      <td>한국특장차(주)</td>\n",
       "      <td>1</td>\n",
       "      <td>국내</td>\n",
       "    </tr>\n",
       "    <tr>\n",
       "      <th>2</th>\n",
       "      <td>.D4GB</td>\n",
       "      <td>(주) 골드밴</td>\n",
       "      <td>1</td>\n",
       "      <td>국내</td>\n",
       "    </tr>\n",
       "    <tr>\n",
       "      <th>3</th>\n",
       "      <td>0</td>\n",
       "      <td>SOFA차량</td>\n",
       "      <td>4</td>\n",
       "      <td>국내</td>\n",
       "    </tr>\n",
       "    <tr>\n",
       "      <th>4</th>\n",
       "      <td>0</td>\n",
       "      <td>남도수입</td>\n",
       "      <td>1</td>\n",
       "      <td>국외</td>\n",
       "    </tr>\n",
       "  </tbody>\n",
       "</table>\n",
       "</div>"
      ],
      "text/plain": [
       "    엔진형식       제작사명  차대번호  구분\n",
       "0      -  (주) 두성특장차     1  국내\n",
       "1      -   한국특장차(주)     1  국내\n",
       "2  .D4GB    (주) 골드밴     1  국내\n",
       "3      0     SOFA차량     4  국내\n",
       "4      0       남도수입     1  국외"
      ]
     },
     "execution_count": 210,
     "metadata": {},
     "output_type": "execute_result"
    }
   ],
   "source": [
    "ck = ck.rename(columns={'국내/외 구분(1:국내, 2:국외)':'구분'})\n",
    "ck['구분'] = ck['구분'].replace({1:'국내', 2:'국외'})\n",
    "ck.head()"
   ]
  },
  {
   "cell_type": "code",
   "execution_count": 214,
   "metadata": {},
   "outputs": [
    {
     "data": {
      "text/html": [
       "<div>\n",
       "<style scoped>\n",
       "    .dataframe tbody tr th:only-of-type {\n",
       "        vertical-align: middle;\n",
       "    }\n",
       "\n",
       "    .dataframe tbody tr th {\n",
       "        vertical-align: top;\n",
       "    }\n",
       "\n",
       "    .dataframe thead th {\n",
       "        text-align: right;\n",
       "    }\n",
       "</style>\n",
       "<table border=\"1\" class=\"dataframe\">\n",
       "  <thead>\n",
       "    <tr style=\"text-align: right;\">\n",
       "      <th></th>\n",
       "      <th>엔진형식</th>\n",
       "      <th>제작사명</th>\n",
       "      <th>구분</th>\n",
       "    </tr>\n",
       "  </thead>\n",
       "  <tbody>\n",
       "    <tr>\n",
       "      <th>0</th>\n",
       "      <td>-</td>\n",
       "      <td>(주) 두성특장차</td>\n",
       "      <td>국내</td>\n",
       "    </tr>\n",
       "    <tr>\n",
       "      <th>1</th>\n",
       "      <td>-</td>\n",
       "      <td>한국특장차(주)</td>\n",
       "      <td>국내</td>\n",
       "    </tr>\n",
       "    <tr>\n",
       "      <th>2</th>\n",
       "      <td>.D4GB</td>\n",
       "      <td>(주) 골드밴</td>\n",
       "      <td>국내</td>\n",
       "    </tr>\n",
       "    <tr>\n",
       "      <th>3</th>\n",
       "      <td>0</td>\n",
       "      <td>SOFA차량</td>\n",
       "      <td>국내</td>\n",
       "    </tr>\n",
       "    <tr>\n",
       "      <th>4</th>\n",
       "      <td>0</td>\n",
       "      <td>남도수입</td>\n",
       "      <td>국외</td>\n",
       "    </tr>\n",
       "  </tbody>\n",
       "</table>\n",
       "</div>"
      ],
      "text/plain": [
       "    엔진형식       제작사명  구분\n",
       "0      -  (주) 두성특장차  국내\n",
       "1      -   한국특장차(주)  국내\n",
       "2  .D4GB    (주) 골드밴  국내\n",
       "3      0     SOFA차량  국내\n",
       "4      0       남도수입  국외"
      ]
     },
     "execution_count": 214,
     "metadata": {},
     "output_type": "execute_result"
    }
   ],
   "source": [
    "ck = ck.drop(['차대번호'], axis=1)\n",
    "ck.head()"
   ]
  },
  {
   "cell_type": "code",
   "execution_count": 216,
   "metadata": {},
   "outputs": [
    {
     "data": {
      "text/plain": [
       "((8679, 3), (8679, 3))"
      ]
     },
     "execution_count": 216,
     "metadata": {},
     "output_type": "execute_result"
    }
   ],
   "source": [
    "ck.shape, ck.drop_duplicates(['엔진형식', '제작사명']).shape"
   ]
  },
  {
   "cell_type": "markdown",
   "metadata": {},
   "source": [
    "# 전처리\n",
    "- 컬럼명 수정\n",
    "- 필수 컬럼만 추출\n",
    "- 등록 + 인증대장 + 저감"
   ]
  },
  {
   "cell_type": "markdown",
   "metadata": {},
   "source": [
    "## 인증대장 병합"
   ]
  },
  {
   "cell_type": "code",
   "execution_count": 149,
   "metadata": {},
   "outputs": [
    {
     "data": {
      "text/plain": [
       "['제작사1',\n",
       " '차명',\n",
       " '자동차형식',\n",
       " '엔진형식',\n",
       " '배기량',\n",
       " '최대출력_PS',\n",
       " '최대출력_RPM',\n",
       " '변속기',\n",
       " '총중량',\n",
       " '공차중량',\n",
       " '제작사2',\n",
       " '제작국',\n",
       " '인증번호',\n",
       " '인증일자',\n",
       " '비고']"
      ]
     },
     "execution_count": 149,
     "metadata": {},
     "output_type": "execute_result"
    }
   ],
   "source": [
    "l45.columns.to_list()"
   ]
  },
  {
   "cell_type": "code",
   "execution_count": 150,
   "metadata": {},
   "outputs": [
    {
     "data": {
      "text/html": [
       "<div>\n",
       "<style scoped>\n",
       "    .dataframe tbody tr th:only-of-type {\n",
       "        vertical-align: middle;\n",
       "    }\n",
       "\n",
       "    .dataframe tbody tr th {\n",
       "        vertical-align: top;\n",
       "    }\n",
       "\n",
       "    .dataframe thead th {\n",
       "        text-align: right;\n",
       "    }\n",
       "</style>\n",
       "<table border=\"1\" class=\"dataframe\">\n",
       "  <thead>\n",
       "    <tr style=\"text-align: right;\">\n",
       "      <th></th>\n",
       "      <th>제작사1</th>\n",
       "      <th>차명</th>\n",
       "      <th>자동차형식</th>\n",
       "      <th>엔진형식</th>\n",
       "      <th>배기량</th>\n",
       "      <th>최대출력_PS</th>\n",
       "      <th>최대출력_RPM</th>\n",
       "      <th>변속기</th>\n",
       "      <th>총중량</th>\n",
       "      <th>공차중량</th>\n",
       "      <th>제작사2</th>\n",
       "      <th>제작국</th>\n",
       "      <th>인증번호</th>\n",
       "      <th>인증일자</th>\n",
       "      <th>비고</th>\n",
       "    </tr>\n",
       "  </thead>\n",
       "  <tbody>\n",
       "    <tr>\n",
       "      <th>0</th>\n",
       "      <td>현대자동차</td>\n",
       "      <td>현대25.5톤덤프트럭</td>\n",
       "      <td>HD255-YDU0-DHECA</td>\n",
       "      <td>D6CE</td>\n",
       "      <td>12742.0</td>\n",
       "      <td>520</td>\n",
       "      <td>1700</td>\n",
       "      <td>자동12단</td>\n",
       "      <td>38730</td>\n",
       "      <td>13230</td>\n",
       "      <td>현대자동차</td>\n",
       "      <td>한국</td>\n",
       "      <td>AMY-HD-14-35</td>\n",
       "      <td>2010-07-19 00:00:00</td>\n",
       "      <td>유로5</td>\n",
       "    </tr>\n",
       "    <tr>\n",
       "      <th>1</th>\n",
       "      <td>타타대우</td>\n",
       "      <td>대우25톤장축카고트럭</td>\n",
       "      <td>BT9CC1</td>\n",
       "      <td>DV11</td>\n",
       "      <td>10964.0</td>\n",
       "      <td>440</td>\n",
       "      <td>1900</td>\n",
       "      <td>수동16단</td>\n",
       "      <td>38800</td>\n",
       "      <td>13670</td>\n",
       "      <td>타타대우상용차</td>\n",
       "      <td>한국</td>\n",
       "      <td>7MY-DC-23-70</td>\n",
       "      <td>2007-12-18 00:00:00</td>\n",
       "      <td>유로4</td>\n",
       "    </tr>\n",
       "    <tr>\n",
       "      <th>2</th>\n",
       "      <td>타타대우</td>\n",
       "      <td>대우5톤초장축카고트럭</td>\n",
       "      <td>BC4AH1</td>\n",
       "      <td>F4AE3681D</td>\n",
       "      <td>5880.0</td>\n",
       "      <td>251</td>\n",
       "      <td>2700</td>\n",
       "      <td>수동6단</td>\n",
       "      <td>11415</td>\n",
       "      <td>6285</td>\n",
       "      <td>타타대우상용차</td>\n",
       "      <td>한국</td>\n",
       "      <td>7MY-DC-23-72</td>\n",
       "      <td>2007-12-18 00:00:00</td>\n",
       "      <td>유로4</td>\n",
       "    </tr>\n",
       "    <tr>\n",
       "      <th>3</th>\n",
       "      <td>타타대우</td>\n",
       "      <td>대우5톤초장축카고트럭</td>\n",
       "      <td>BC4AT1</td>\n",
       "      <td>DL06</td>\n",
       "      <td>5890.0</td>\n",
       "      <td>270</td>\n",
       "      <td>2500</td>\n",
       "      <td>수동6단</td>\n",
       "      <td>11500</td>\n",
       "      <td>6370</td>\n",
       "      <td>타타대우상용차</td>\n",
       "      <td>한국</td>\n",
       "      <td>8MY-DC-24-12</td>\n",
       "      <td>2008-05-21 00:00:00</td>\n",
       "      <td>유로4</td>\n",
       "    </tr>\n",
       "    <tr>\n",
       "      <th>4</th>\n",
       "      <td>타타대우</td>\n",
       "      <td>대우트랙터</td>\n",
       "      <td>EX3TX2</td>\n",
       "      <td>F3BE3681B</td>\n",
       "      <td>12882.0</td>\n",
       "      <td>560</td>\n",
       "      <td>1900</td>\n",
       "      <td>자동12단</td>\n",
       "      <td>26020</td>\n",
       "      <td>8810</td>\n",
       "      <td>타타대우상용차</td>\n",
       "      <td>한국</td>\n",
       "      <td>8MY-DC-24-15</td>\n",
       "      <td>2008-06-30 00:00:00</td>\n",
       "      <td>유로4</td>\n",
       "    </tr>\n",
       "  </tbody>\n",
       "</table>\n",
       "</div>"
      ],
      "text/plain": [
       "    제작사1           차명             자동차형식       엔진형식      배기량 최대출력_PS 최대출력_RPM   \n",
       "0  현대자동차  현대25.5톤덤프트럭  HD255-YDU0-DHECA       D6CE  12742.0     520     1700  \\\n",
       "1   타타대우  대우25톤장축카고트럭            BT9CC1       DV11  10964.0     440     1900   \n",
       "2   타타대우  대우5톤초장축카고트럭            BC4AH1  F4AE3681D   5880.0     251     2700   \n",
       "3   타타대우  대우5톤초장축카고트럭            BC4AT1       DL06   5890.0     270     2500   \n",
       "4   타타대우        대우트랙터            EX3TX2  F3BE3681B  12882.0     560     1900   \n",
       "\n",
       "     변속기    총중량   공차중량     제작사2 제작국          인증번호                 인증일자   비고  \n",
       "0  자동12단  38730  13230    현대자동차  한국  AMY-HD-14-35  2010-07-19 00:00:00  유로5  \n",
       "1  수동16단  38800  13670  타타대우상용차  한국  7MY-DC-23-70  2007-12-18 00:00:00  유로4  \n",
       "2   수동6단  11415   6285  타타대우상용차  한국  7MY-DC-23-72  2007-12-18 00:00:00  유로4  \n",
       "3   수동6단  11500   6370  타타대우상용차  한국  8MY-DC-24-12  2008-05-21 00:00:00  유로4  \n",
       "4  자동12단  26020   8810  타타대우상용차  한국  8MY-DC-24-15  2008-06-30 00:00:00  유로4  "
      ]
     },
     "execution_count": 150,
     "metadata": {},
     "output_type": "execute_result"
    }
   ],
   "source": [
    "l45.head()"
   ]
  },
  {
   "cell_type": "code",
   "execution_count": 151,
   "metadata": {},
   "outputs": [
    {
     "data": {
      "text/html": [
       "<div>\n",
       "<style scoped>\n",
       "    .dataframe tbody tr th:only-of-type {\n",
       "        vertical-align: middle;\n",
       "    }\n",
       "\n",
       "    .dataframe tbody tr th {\n",
       "        vertical-align: top;\n",
       "    }\n",
       "\n",
       "    .dataframe thead th {\n",
       "        text-align: right;\n",
       "    }\n",
       "</style>\n",
       "<table border=\"1\" class=\"dataframe\">\n",
       "  <thead>\n",
       "    <tr style=\"text-align: right;\">\n",
       "      <th></th>\n",
       "      <th>인증번호</th>\n",
       "      <th>제작사2</th>\n",
       "      <th>차명</th>\n",
       "      <th>제작국</th>\n",
       "      <th>비고</th>\n",
       "    </tr>\n",
       "  </thead>\n",
       "  <tbody>\n",
       "    <tr>\n",
       "      <th>0</th>\n",
       "      <td>AMY-HD-14-35</td>\n",
       "      <td>현대자동차</td>\n",
       "      <td>현대25.5톤덤프트럭</td>\n",
       "      <td>한국</td>\n",
       "      <td>유로5</td>\n",
       "    </tr>\n",
       "    <tr>\n",
       "      <th>1</th>\n",
       "      <td>7MY-DC-23-70</td>\n",
       "      <td>타타대우상용차</td>\n",
       "      <td>대우25톤장축카고트럭</td>\n",
       "      <td>한국</td>\n",
       "      <td>유로4</td>\n",
       "    </tr>\n",
       "    <tr>\n",
       "      <th>2</th>\n",
       "      <td>7MY-DC-23-72</td>\n",
       "      <td>타타대우상용차</td>\n",
       "      <td>대우5톤초장축카고트럭</td>\n",
       "      <td>한국</td>\n",
       "      <td>유로4</td>\n",
       "    </tr>\n",
       "    <tr>\n",
       "      <th>3</th>\n",
       "      <td>8MY-DC-24-12</td>\n",
       "      <td>타타대우상용차</td>\n",
       "      <td>대우5톤초장축카고트럭</td>\n",
       "      <td>한국</td>\n",
       "      <td>유로4</td>\n",
       "    </tr>\n",
       "    <tr>\n",
       "      <th>4</th>\n",
       "      <td>8MY-DC-24-15</td>\n",
       "      <td>타타대우상용차</td>\n",
       "      <td>대우트랙터</td>\n",
       "      <td>한국</td>\n",
       "      <td>유로4</td>\n",
       "    </tr>\n",
       "  </tbody>\n",
       "</table>\n",
       "</div>"
      ],
      "text/plain": [
       "           인증번호     제작사2           차명 제작국   비고\n",
       "0  AMY-HD-14-35    현대자동차  현대25.5톤덤프트럭  한국  유로5\n",
       "1  7MY-DC-23-70  타타대우상용차  대우25톤장축카고트럭  한국  유로4\n",
       "2  7MY-DC-23-72  타타대우상용차  대우5톤초장축카고트럭  한국  유로4\n",
       "3  8MY-DC-24-12  타타대우상용차  대우5톤초장축카고트럭  한국  유로4\n",
       "4  8MY-DC-24-15  타타대우상용차        대우트랙터  한국  유로4"
      ]
     },
     "execution_count": 151,
     "metadata": {},
     "output_type": "execute_result"
    }
   ],
   "source": [
    "l45m = l45[[\n",
    "    '인증번호',\n",
    "    '제작사2',\n",
    "    '차명',\n",
    "    '제작국',\n",
    "    '비고'\n",
    "\n",
    "    # '제작사1',\n",
    "    # '자동차형식',\n",
    "    # '엔진형식',\n",
    "    # '배기량',\n",
    "    # '최대출력_PS',\n",
    "    # '최대출력_RPM',\n",
    "    # '변속기',\n",
    "    # '총중량',\n",
    "    # '공차중량',\n",
    "    # '인증일자',\n",
    "]]\n",
    "l45m.head()"
   ]
  },
  {
   "cell_type": "code",
   "execution_count": 152,
   "metadata": {},
   "outputs": [
    {
     "data": {
      "text/html": [
       "<div>\n",
       "<style scoped>\n",
       "    .dataframe tbody tr th:only-of-type {\n",
       "        vertical-align: middle;\n",
       "    }\n",
       "\n",
       "    .dataframe tbody tr th {\n",
       "        vertical-align: top;\n",
       "    }\n",
       "\n",
       "    .dataframe thead th {\n",
       "        text-align: right;\n",
       "    }\n",
       "</style>\n",
       "<table border=\"1\" class=\"dataframe\">\n",
       "  <thead>\n",
       "    <tr style=\"text-align: right;\">\n",
       "      <th></th>\n",
       "      <th>배출가스인증번호</th>\n",
       "      <th>제작사</th>\n",
       "      <th>차명</th>\n",
       "      <th>제작국</th>\n",
       "      <th>유럽기준</th>\n",
       "      <th>SCR유무</th>\n",
       "    </tr>\n",
       "  </thead>\n",
       "  <tbody>\n",
       "    <tr>\n",
       "      <th>0</th>\n",
       "      <td>AMY-HD-14-35</td>\n",
       "      <td>현대자동차</td>\n",
       "      <td>현대25.5톤덤프트럭</td>\n",
       "      <td>한국</td>\n",
       "      <td>유로5</td>\n",
       "      <td>Y</td>\n",
       "    </tr>\n",
       "    <tr>\n",
       "      <th>1</th>\n",
       "      <td>7MY-DC-23-70</td>\n",
       "      <td>타타대우상용차</td>\n",
       "      <td>대우25톤장축카고트럭</td>\n",
       "      <td>한국</td>\n",
       "      <td>유로4</td>\n",
       "      <td>Y</td>\n",
       "    </tr>\n",
       "    <tr>\n",
       "      <th>2</th>\n",
       "      <td>7MY-DC-23-72</td>\n",
       "      <td>타타대우상용차</td>\n",
       "      <td>대우5톤초장축카고트럭</td>\n",
       "      <td>한국</td>\n",
       "      <td>유로4</td>\n",
       "      <td>Y</td>\n",
       "    </tr>\n",
       "    <tr>\n",
       "      <th>3</th>\n",
       "      <td>8MY-DC-24-12</td>\n",
       "      <td>타타대우상용차</td>\n",
       "      <td>대우5톤초장축카고트럭</td>\n",
       "      <td>한국</td>\n",
       "      <td>유로4</td>\n",
       "      <td>Y</td>\n",
       "    </tr>\n",
       "    <tr>\n",
       "      <th>4</th>\n",
       "      <td>8MY-DC-24-15</td>\n",
       "      <td>타타대우상용차</td>\n",
       "      <td>대우트랙터</td>\n",
       "      <td>한국</td>\n",
       "      <td>유로4</td>\n",
       "      <td>Y</td>\n",
       "    </tr>\n",
       "  </tbody>\n",
       "</table>\n",
       "</div>"
      ],
      "text/plain": [
       "       배출가스인증번호      제작사           차명 제작국 유럽기준 SCR유무\n",
       "0  AMY-HD-14-35    현대자동차  현대25.5톤덤프트럭  한국  유로5     Y\n",
       "1  7MY-DC-23-70  타타대우상용차  대우25톤장축카고트럭  한국  유로4     Y\n",
       "2  7MY-DC-23-72  타타대우상용차  대우5톤초장축카고트럭  한국  유로4     Y\n",
       "3  8MY-DC-24-12  타타대우상용차  대우5톤초장축카고트럭  한국  유로4     Y\n",
       "4  8MY-DC-24-15  타타대우상용차        대우트랙터  한국  유로4     Y"
      ]
     },
     "execution_count": 152,
     "metadata": {},
     "output_type": "execute_result"
    }
   ],
   "source": [
    "l45m = l45m.rename(columns={'인증번호':'배출가스인증번호', '제작사2':'제작사', '제작국가':'제작사', '비고':'유럽기준'})\n",
    "l45m['SCR유무'] = 'Y'\n",
    "l45m.head()"
   ]
  },
  {
   "cell_type": "code",
   "execution_count": 153,
   "metadata": {},
   "outputs": [
    {
     "data": {
      "text/html": [
       "<div>\n",
       "<style scoped>\n",
       "    .dataframe tbody tr th:only-of-type {\n",
       "        vertical-align: middle;\n",
       "    }\n",
       "\n",
       "    .dataframe tbody tr th {\n",
       "        vertical-align: top;\n",
       "    }\n",
       "\n",
       "    .dataframe thead th {\n",
       "        text-align: right;\n",
       "    }\n",
       "</style>\n",
       "<table border=\"1\" class=\"dataframe\">\n",
       "  <thead>\n",
       "    <tr style=\"text-align: right;\">\n",
       "      <th></th>\n",
       "      <th>No</th>\n",
       "      <th>제작사</th>\n",
       "      <th>인증번호</th>\n",
       "      <th>인증일자</th>\n",
       "      <th>차명</th>\n",
       "      <th>차종</th>\n",
       "      <th>차형식</th>\n",
       "      <th>엔진형식</th>\n",
       "      <th>배기량</th>\n",
       "      <th>변속기</th>\n",
       "      <th>최대출력</th>\n",
       "      <th>Unnamed: 11</th>\n",
       "      <th>총중량</th>\n",
       "      <th>공차중량</th>\n",
       "      <th>제작국</th>\n",
       "      <th>사용연료</th>\n",
       "      <th>배출기준</th>\n",
       "      <th>유럽기준</th>\n",
       "      <th>SCR유무</th>\n",
       "    </tr>\n",
       "  </thead>\n",
       "  <tbody>\n",
       "    <tr>\n",
       "      <th>0</th>\n",
       "      <td>6</td>\n",
       "      <td>자일대우버스(주)</td>\n",
       "      <td>LMY-DB-14-105</td>\n",
       "      <td>2020-12-31</td>\n",
       "      <td>BX212</td>\n",
       "      <td>승용(초대형)</td>\n",
       "      <td>BX212M-GPLBZC441L</td>\n",
       "      <td>OM470LA.6-6</td>\n",
       "      <td>10677</td>\n",
       "      <td>자동화수동변속기</td>\n",
       "      <td>456</td>\n",
       "      <td>1600</td>\n",
       "      <td>16035</td>\n",
       "      <td>13110</td>\n",
       "      <td>한국</td>\n",
       "      <td>경유(Diesel)</td>\n",
       "      <td>2017년 10월 기준</td>\n",
       "      <td>유로6</td>\n",
       "      <td>Y</td>\n",
       "    </tr>\n",
       "    <tr>\n",
       "      <th>1</th>\n",
       "      <td>8</td>\n",
       "      <td>타타대우상용차(주)</td>\n",
       "      <td>LMY-DC-14-87</td>\n",
       "      <td>2020-11-03</td>\n",
       "      <td>LD트럭</td>\n",
       "      <td>화물(대형)</td>\n",
       "      <td>FE5BC1</td>\n",
       "      <td>F4AFE411C</td>\n",
       "      <td>4485</td>\n",
       "      <td>수동6단</td>\n",
       "      <td>206</td>\n",
       "      <td>2500</td>\n",
       "      <td>9910</td>\n",
       "      <td>4715</td>\n",
       "      <td>한국</td>\n",
       "      <td>경유(Diesel)</td>\n",
       "      <td>2017년 10월 기준</td>\n",
       "      <td>유로6</td>\n",
       "      <td>Y</td>\n",
       "    </tr>\n",
       "    <tr>\n",
       "      <th>2</th>\n",
       "      <td>12</td>\n",
       "      <td>타타대우상용차(주)</td>\n",
       "      <td>KMY-DC-14-82</td>\n",
       "      <td>2019-11-26</td>\n",
       "      <td>프리마14톤장축카고트럭</td>\n",
       "      <td>화물(초대형)</td>\n",
       "      <td>JL8A82</td>\n",
       "      <td>DX12P</td>\n",
       "      <td>11051</td>\n",
       "      <td>자동12단</td>\n",
       "      <td>460</td>\n",
       "      <td>1900</td>\n",
       "      <td>25800(25260)</td>\n",
       "      <td>11670(11130)</td>\n",
       "      <td>한국</td>\n",
       "      <td>경유(Diesel)</td>\n",
       "      <td>2017년 10월 기준</td>\n",
       "      <td>유로6</td>\n",
       "      <td>Y</td>\n",
       "    </tr>\n",
       "    <tr>\n",
       "      <th>3</th>\n",
       "      <td>17</td>\n",
       "      <td>(주)우진산전</td>\n",
       "      <td>GMY-WJ-14-02</td>\n",
       "      <td>2016-01-06</td>\n",
       "      <td>우진산전 굴절버스</td>\n",
       "      <td>승용(대형)</td>\n",
       "      <td>KM9ZGCZE</td>\n",
       "      <td>ISB6.7E6</td>\n",
       "      <td>6690</td>\n",
       "      <td>없음</td>\n",
       "      <td>280</td>\n",
       "      <td>2100</td>\n",
       "      <td>25995</td>\n",
       "      <td>19495</td>\n",
       "      <td>한국</td>\n",
       "      <td>경유-하이브리드(D-Hybrid)</td>\n",
       "      <td>2014년 1월 기준</td>\n",
       "      <td>유로6</td>\n",
       "      <td>Y</td>\n",
       "    </tr>\n",
       "    <tr>\n",
       "      <th>4</th>\n",
       "      <td>19</td>\n",
       "      <td>타타대우상용차(주)</td>\n",
       "      <td>GMY-DC-14-52</td>\n",
       "      <td>2016-11-07</td>\n",
       "      <td>노부스5톤극초장축플러스8.6카고트럭</td>\n",
       "      <td>화물(대형)</td>\n",
       "      <td>DC8CT7</td>\n",
       "      <td>DL06P</td>\n",
       "      <td>5890</td>\n",
       "      <td>수동 9단</td>\n",
       "      <td>280</td>\n",
       "      <td>2500</td>\n",
       "      <td>12500(12710)</td>\n",
       "      <td>7370(7580)</td>\n",
       "      <td>한국</td>\n",
       "      <td>경유(Diesel)</td>\n",
       "      <td>2014년 1월 기준</td>\n",
       "      <td>유로6</td>\n",
       "      <td>Y</td>\n",
       "    </tr>\n",
       "  </tbody>\n",
       "</table>\n",
       "</div>"
      ],
      "text/plain": [
       "   No         제작사           인증번호        인증일자                   차명       차종   \n",
       "0   6   자일대우버스(주)  LMY-DB-14-105  2020-12-31                BX212  승용(초대형)  \\\n",
       "1   8  타타대우상용차(주)   LMY-DC-14-87  2020-11-03                 LD트럭   화물(대형)   \n",
       "2  12  타타대우상용차(주)   KMY-DC-14-82  2019-11-26         프리마14톤장축카고트럭  화물(초대형)   \n",
       "3  17     (주)우진산전   GMY-WJ-14-02  2016-01-06            우진산전 굴절버스   승용(대형)   \n",
       "4  19  타타대우상용차(주)   GMY-DC-14-52  2016-11-07  노부스5톤극초장축플러스8.6카고트럭   화물(대형)   \n",
       "\n",
       "                 차형식         엔진형식    배기량       변속기  최대출력  Unnamed: 11   \n",
       "0  BX212M-GPLBZC441L  OM470LA.6-6  10677  자동화수동변속기   456         1600  \\\n",
       "1             FE5BC1    F4AFE411C   4485      수동6단   206         2500   \n",
       "2             JL8A82        DX12P  11051     자동12단   460         1900   \n",
       "3           KM9ZGCZE     ISB6.7E6   6690        없음   280         2100   \n",
       "4             DC8CT7        DL06P   5890     수동 9단   280         2500   \n",
       "\n",
       "            총중량          공차중량 제작국                사용연료          배출기준 유럽기준 SCR유무  \n",
       "0         16035         13110  한국          경유(Diesel)  2017년 10월 기준  유로6     Y  \n",
       "1          9910          4715  한국          경유(Diesel)  2017년 10월 기준  유로6     Y  \n",
       "2  25800(25260)  11670(11130)  한국          경유(Diesel)  2017년 10월 기준  유로6     Y  \n",
       "3         25995         19495  한국  경유-하이브리드(D-Hybrid)   2014년 1월 기준  유로6     Y  \n",
       "4  12500(12710)    7370(7580)  한국          경유(Diesel)   2014년 1월 기준  유로6     Y  "
      ]
     },
     "execution_count": 153,
     "metadata": {},
     "output_type": "execute_result"
    }
   ],
   "source": [
    "l6.head()"
   ]
  },
  {
   "cell_type": "code",
   "execution_count": 154,
   "metadata": {},
   "outputs": [
    {
     "data": {
      "text/plain": [
       "['No',\n",
       " '제작사',\n",
       " '인증번호',\n",
       " '인증일자',\n",
       " '차명',\n",
       " '차종',\n",
       " '차형식',\n",
       " '엔진형식',\n",
       " '배기량',\n",
       " '변속기',\n",
       " '최대출력',\n",
       " 'Unnamed: 11',\n",
       " '총중량',\n",
       " '공차중량',\n",
       " '제작국',\n",
       " '사용연료',\n",
       " '배출기준',\n",
       " '유럽기준',\n",
       " 'SCR유무']"
      ]
     },
     "execution_count": 154,
     "metadata": {},
     "output_type": "execute_result"
    }
   ],
   "source": [
    "l6.columns.to_list()"
   ]
  },
  {
   "cell_type": "code",
   "execution_count": 155,
   "metadata": {},
   "outputs": [
    {
     "data": {
      "text/html": [
       "<div>\n",
       "<style scoped>\n",
       "    .dataframe tbody tr th:only-of-type {\n",
       "        vertical-align: middle;\n",
       "    }\n",
       "\n",
       "    .dataframe tbody tr th {\n",
       "        vertical-align: top;\n",
       "    }\n",
       "\n",
       "    .dataframe thead th {\n",
       "        text-align: right;\n",
       "    }\n",
       "</style>\n",
       "<table border=\"1\" class=\"dataframe\">\n",
       "  <thead>\n",
       "    <tr style=\"text-align: right;\">\n",
       "      <th></th>\n",
       "      <th>인증번호</th>\n",
       "      <th>제작사</th>\n",
       "      <th>차명</th>\n",
       "      <th>제작국</th>\n",
       "      <th>유럽기준</th>\n",
       "      <th>SCR유무</th>\n",
       "    </tr>\n",
       "  </thead>\n",
       "  <tbody>\n",
       "    <tr>\n",
       "      <th>0</th>\n",
       "      <td>LMY-DB-14-105</td>\n",
       "      <td>자일대우버스(주)</td>\n",
       "      <td>BX212</td>\n",
       "      <td>한국</td>\n",
       "      <td>유로6</td>\n",
       "      <td>Y</td>\n",
       "    </tr>\n",
       "    <tr>\n",
       "      <th>1</th>\n",
       "      <td>LMY-DC-14-87</td>\n",
       "      <td>타타대우상용차(주)</td>\n",
       "      <td>LD트럭</td>\n",
       "      <td>한국</td>\n",
       "      <td>유로6</td>\n",
       "      <td>Y</td>\n",
       "    </tr>\n",
       "    <tr>\n",
       "      <th>2</th>\n",
       "      <td>KMY-DC-14-82</td>\n",
       "      <td>타타대우상용차(주)</td>\n",
       "      <td>프리마14톤장축카고트럭</td>\n",
       "      <td>한국</td>\n",
       "      <td>유로6</td>\n",
       "      <td>Y</td>\n",
       "    </tr>\n",
       "    <tr>\n",
       "      <th>3</th>\n",
       "      <td>GMY-WJ-14-02</td>\n",
       "      <td>(주)우진산전</td>\n",
       "      <td>우진산전 굴절버스</td>\n",
       "      <td>한국</td>\n",
       "      <td>유로6</td>\n",
       "      <td>Y</td>\n",
       "    </tr>\n",
       "    <tr>\n",
       "      <th>4</th>\n",
       "      <td>GMY-DC-14-52</td>\n",
       "      <td>타타대우상용차(주)</td>\n",
       "      <td>노부스5톤극초장축플러스8.6카고트럭</td>\n",
       "      <td>한국</td>\n",
       "      <td>유로6</td>\n",
       "      <td>Y</td>\n",
       "    </tr>\n",
       "  </tbody>\n",
       "</table>\n",
       "</div>"
      ],
      "text/plain": [
       "            인증번호         제작사                   차명 제작국 유럽기준 SCR유무\n",
       "0  LMY-DB-14-105   자일대우버스(주)                BX212  한국  유로6     Y\n",
       "1   LMY-DC-14-87  타타대우상용차(주)                 LD트럭  한국  유로6     Y\n",
       "2   KMY-DC-14-82  타타대우상용차(주)         프리마14톤장축카고트럭  한국  유로6     Y\n",
       "3   GMY-WJ-14-02     (주)우진산전            우진산전 굴절버스  한국  유로6     Y\n",
       "4   GMY-DC-14-52  타타대우상용차(주)  노부스5톤극초장축플러스8.6카고트럭  한국  유로6     Y"
      ]
     },
     "execution_count": 155,
     "metadata": {},
     "output_type": "execute_result"
    }
   ],
   "source": [
    "l6m = l6[[\n",
    "    '인증번호',\n",
    "    '제작사',\n",
    "    '차명',\n",
    "    '제작국',\n",
    "    '유럽기준',\n",
    "    'SCR유무',\n",
    "    \n",
    "    # 'No',\n",
    "    # '인증일자',\n",
    "    # '차종',\n",
    "    # '차형식',\n",
    "    # '엔진형식',\n",
    "    # '배기량',\n",
    "    # '변속기',\n",
    "    # '최대출력',\n",
    "    # 'Unnamed: 11',\n",
    "    # '총중량',\n",
    "    # '공차중량',\n",
    "    # '사용연료',\n",
    "    # '배출기준',\n",
    "]]\n",
    "l6m.head()"
   ]
  },
  {
   "cell_type": "code",
   "execution_count": 156,
   "metadata": {},
   "outputs": [
    {
     "data": {
      "text/html": [
       "<div>\n",
       "<style scoped>\n",
       "    .dataframe tbody tr th:only-of-type {\n",
       "        vertical-align: middle;\n",
       "    }\n",
       "\n",
       "    .dataframe tbody tr th {\n",
       "        vertical-align: top;\n",
       "    }\n",
       "\n",
       "    .dataframe thead th {\n",
       "        text-align: right;\n",
       "    }\n",
       "</style>\n",
       "<table border=\"1\" class=\"dataframe\">\n",
       "  <thead>\n",
       "    <tr style=\"text-align: right;\">\n",
       "      <th></th>\n",
       "      <th>배출가스인증번호</th>\n",
       "      <th>제작사</th>\n",
       "      <th>차명</th>\n",
       "      <th>제작국</th>\n",
       "      <th>유럽기준</th>\n",
       "      <th>SCR유무</th>\n",
       "    </tr>\n",
       "  </thead>\n",
       "  <tbody>\n",
       "    <tr>\n",
       "      <th>0</th>\n",
       "      <td>LMY-DB-14-105</td>\n",
       "      <td>자일대우버스(주)</td>\n",
       "      <td>BX212</td>\n",
       "      <td>한국</td>\n",
       "      <td>유로6</td>\n",
       "      <td>Y</td>\n",
       "    </tr>\n",
       "    <tr>\n",
       "      <th>1</th>\n",
       "      <td>LMY-DC-14-87</td>\n",
       "      <td>타타대우상용차(주)</td>\n",
       "      <td>LD트럭</td>\n",
       "      <td>한국</td>\n",
       "      <td>유로6</td>\n",
       "      <td>Y</td>\n",
       "    </tr>\n",
       "    <tr>\n",
       "      <th>2</th>\n",
       "      <td>KMY-DC-14-82</td>\n",
       "      <td>타타대우상용차(주)</td>\n",
       "      <td>프리마14톤장축카고트럭</td>\n",
       "      <td>한국</td>\n",
       "      <td>유로6</td>\n",
       "      <td>Y</td>\n",
       "    </tr>\n",
       "    <tr>\n",
       "      <th>3</th>\n",
       "      <td>GMY-WJ-14-02</td>\n",
       "      <td>(주)우진산전</td>\n",
       "      <td>우진산전 굴절버스</td>\n",
       "      <td>한국</td>\n",
       "      <td>유로6</td>\n",
       "      <td>Y</td>\n",
       "    </tr>\n",
       "    <tr>\n",
       "      <th>4</th>\n",
       "      <td>GMY-DC-14-52</td>\n",
       "      <td>타타대우상용차(주)</td>\n",
       "      <td>노부스5톤극초장축플러스8.6카고트럭</td>\n",
       "      <td>한국</td>\n",
       "      <td>유로6</td>\n",
       "      <td>Y</td>\n",
       "    </tr>\n",
       "  </tbody>\n",
       "</table>\n",
       "</div>"
      ],
      "text/plain": [
       "        배출가스인증번호         제작사                   차명 제작국 유럽기준 SCR유무\n",
       "0  LMY-DB-14-105   자일대우버스(주)                BX212  한국  유로6     Y\n",
       "1   LMY-DC-14-87  타타대우상용차(주)                 LD트럭  한국  유로6     Y\n",
       "2   KMY-DC-14-82  타타대우상용차(주)         프리마14톤장축카고트럭  한국  유로6     Y\n",
       "3   GMY-WJ-14-02     (주)우진산전            우진산전 굴절버스  한국  유로6     Y\n",
       "4   GMY-DC-14-52  타타대우상용차(주)  노부스5톤극초장축플러스8.6카고트럭  한국  유로6     Y"
      ]
     },
     "execution_count": 156,
     "metadata": {},
     "output_type": "execute_result"
    }
   ],
   "source": [
    "l6m = l6m.rename(columns={'인증번호':'배출가스인증번호'})\n",
    "l6m.head()"
   ]
  },
  {
   "cell_type": "code",
   "execution_count": 157,
   "metadata": {},
   "outputs": [
    {
     "data": {
      "text/html": [
       "<div>\n",
       "<style scoped>\n",
       "    .dataframe tbody tr th:only-of-type {\n",
       "        vertical-align: middle;\n",
       "    }\n",
       "\n",
       "    .dataframe tbody tr th {\n",
       "        vertical-align: top;\n",
       "    }\n",
       "\n",
       "    .dataframe thead th {\n",
       "        text-align: right;\n",
       "    }\n",
       "</style>\n",
       "<table border=\"1\" class=\"dataframe\">\n",
       "  <thead>\n",
       "    <tr style=\"text-align: right;\">\n",
       "      <th></th>\n",
       "      <th>일련번호</th>\n",
       "      <th>제작사</th>\n",
       "      <th>배출가스차종</th>\n",
       "      <th>배출가스인증번호</th>\n",
       "      <th>배출가스인증일</th>\n",
       "      <th>차명</th>\n",
       "      <th>자동차형식</th>\n",
       "      <th>엔진형식</th>\n",
       "      <th>배기량</th>\n",
       "      <th>변속기</th>\n",
       "      <th>최대출력PS</th>\n",
       "      <th>최대출력RPM</th>\n",
       "      <th>총중량</th>\n",
       "      <th>공차중량</th>\n",
       "      <th>제작국가</th>\n",
       "      <th>사용연료</th>\n",
       "      <th>배출가스기준</th>\n",
       "      <th>유럽 기준</th>\n",
       "      <th>SCR 유(Y)무(N)</th>\n",
       "    </tr>\n",
       "  </thead>\n",
       "  <tbody>\n",
       "    <tr>\n",
       "      <th>0</th>\n",
       "      <td>27</td>\n",
       "      <td>현대자동차(주)</td>\n",
       "      <td>승용(중형)</td>\n",
       "      <td>FMY-HD-14-38</td>\n",
       "      <td>2015-07-29</td>\n",
       "      <td>그랜드스타렉스 2.5디젤 12인(4WD)</td>\n",
       "      <td>TQ-25D12-E6-4W5A</td>\n",
       "      <td>D4CB</td>\n",
       "      <td>2497</td>\n",
       "      <td>자동5단</td>\n",
       "      <td>175</td>\n",
       "      <td>3600</td>\n",
       "      <td>3395</td>\n",
       "      <td>2505</td>\n",
       "      <td>한국</td>\n",
       "      <td>경유(Diesel)</td>\n",
       "      <td>2014년 1월 기준</td>\n",
       "      <td>유로6</td>\n",
       "      <td>Y</td>\n",
       "    </tr>\n",
       "    <tr>\n",
       "      <th>1</th>\n",
       "      <td>29</td>\n",
       "      <td>현대자동차(주)</td>\n",
       "      <td>승용(소형)</td>\n",
       "      <td>HMY-HD-14-61</td>\n",
       "      <td>2017-12-15</td>\n",
       "      <td>G80 2.2디젤 2WD</td>\n",
       "      <td>DH-22D-H6-2W8A</td>\n",
       "      <td>D4HC</td>\n",
       "      <td>2199</td>\n",
       "      <td>자동8단</td>\n",
       "      <td>202</td>\n",
       "      <td>3800</td>\n",
       "      <td>2435</td>\n",
       "      <td>2025</td>\n",
       "      <td>한국</td>\n",
       "      <td>경유(Diesel)</td>\n",
       "      <td>2017년 10월 기준</td>\n",
       "      <td>유로6</td>\n",
       "      <td>Y</td>\n",
       "    </tr>\n",
       "    <tr>\n",
       "      <th>2</th>\n",
       "      <td>31</td>\n",
       "      <td>현대자동차(주)</td>\n",
       "      <td>승용(소형)</td>\n",
       "      <td>HMY-HD-14-63</td>\n",
       "      <td>2017-12-15</td>\n",
       "      <td>G70 2.2 디젤 2WD</td>\n",
       "      <td>IK-22D-E6C-2W8A</td>\n",
       "      <td>D4HC</td>\n",
       "      <td>2199</td>\n",
       "      <td>자동8단</td>\n",
       "      <td>202</td>\n",
       "      <td>3800</td>\n",
       "      <td>2140</td>\n",
       "      <td>1765</td>\n",
       "      <td>한국</td>\n",
       "      <td>경유(Diesel)</td>\n",
       "      <td>2017년 10월 기준</td>\n",
       "      <td>유로6</td>\n",
       "      <td>Y</td>\n",
       "    </tr>\n",
       "    <tr>\n",
       "      <th>3</th>\n",
       "      <td>32</td>\n",
       "      <td>현대자동차(주)</td>\n",
       "      <td>승용(소형)</td>\n",
       "      <td>JMY-HD-14-15</td>\n",
       "      <td>2018-02-02</td>\n",
       "      <td>싼타페 2.0디젤 2WD</td>\n",
       "      <td>TM-20D7-H6-2W8A</td>\n",
       "      <td>D4HA</td>\n",
       "      <td>1995</td>\n",
       "      <td>자동8단</td>\n",
       "      <td>186</td>\n",
       "      <td>4000</td>\n",
       "      <td>2485</td>\n",
       "      <td>1910</td>\n",
       "      <td>한국</td>\n",
       "      <td>경유(Diesel)</td>\n",
       "      <td>2017년 10월 기준</td>\n",
       "      <td>유로6</td>\n",
       "      <td>Y</td>\n",
       "    </tr>\n",
       "    <tr>\n",
       "      <th>4</th>\n",
       "      <td>33</td>\n",
       "      <td>현대자동차(주)</td>\n",
       "      <td>승용(소형)</td>\n",
       "      <td>HMY-HD-14-62</td>\n",
       "      <td>2017-12-15</td>\n",
       "      <td>G70 2.2 디젤 AWD</td>\n",
       "      <td>IK-22D-E6C-AW8A</td>\n",
       "      <td>D4HC</td>\n",
       "      <td>2199</td>\n",
       "      <td>자동8단</td>\n",
       "      <td>202</td>\n",
       "      <td>3800</td>\n",
       "      <td>2215</td>\n",
       "      <td>1840</td>\n",
       "      <td>한국</td>\n",
       "      <td>경유(Diesel)</td>\n",
       "      <td>2017년 10월 기준</td>\n",
       "      <td>유로6</td>\n",
       "      <td>Y</td>\n",
       "    </tr>\n",
       "  </tbody>\n",
       "</table>\n",
       "</div>"
      ],
      "text/plain": [
       "   일련번호       제작사  배출가스차종      배출가스인증번호     배출가스인증일                      차명   \n",
       "0    27  현대자동차(주)  승용(중형)  FMY-HD-14-38  2015-07-29  그랜드스타렉스 2.5디젤 12인(4WD)  \\\n",
       "1    29  현대자동차(주)  승용(소형)  HMY-HD-14-61  2017-12-15           G80 2.2디젤 2WD   \n",
       "2    31  현대자동차(주)  승용(소형)  HMY-HD-14-63  2017-12-15          G70 2.2 디젤 2WD   \n",
       "3    32  현대자동차(주)  승용(소형)  JMY-HD-14-15  2018-02-02           싼타페 2.0디젤 2WD   \n",
       "4    33  현대자동차(주)  승용(소형)  HMY-HD-14-62  2017-12-15          G70 2.2 디젤 AWD   \n",
       "\n",
       "              자동차형식  엔진형식   배기량   변속기  최대출력PS  최대출력RPM   총중량  공차중량 제작국가   \n",
       "0  TQ-25D12-E6-4W5A  D4CB  2497  자동5단     175     3600  3395  2505   한국  \\\n",
       "1    DH-22D-H6-2W8A  D4HC  2199  자동8단     202     3800  2435  2025   한국   \n",
       "2   IK-22D-E6C-2W8A  D4HC  2199  자동8단     202     3800  2140  1765   한국   \n",
       "3   TM-20D7-H6-2W8A  D4HA  1995  자동8단     186     4000  2485  1910   한국   \n",
       "4   IK-22D-E6C-AW8A  D4HC  2199  자동8단     202     3800  2215  1840   한국   \n",
       "\n",
       "         사용연료        배출가스기준 유럽 기준 SCR 유(Y)무(N)  \n",
       "0  경유(Diesel)   2014년 1월 기준   유로6            Y  \n",
       "1  경유(Diesel)  2017년 10월 기준   유로6            Y  \n",
       "2  경유(Diesel)  2017년 10월 기준   유로6            Y  \n",
       "3  경유(Diesel)  2017년 10월 기준   유로6            Y  \n",
       "4  경유(Diesel)  2017년 10월 기준   유로6            Y  "
      ]
     },
     "execution_count": 157,
     "metadata": {},
     "output_type": "execute_result"
    }
   ],
   "source": [
    "s6.head()"
   ]
  },
  {
   "cell_type": "code",
   "execution_count": 158,
   "metadata": {},
   "outputs": [
    {
     "data": {
      "text/plain": [
       "['일련번호',\n",
       " '제작사',\n",
       " '배출가스차종',\n",
       " '배출가스인증번호',\n",
       " '배출가스인증일',\n",
       " '차명',\n",
       " '자동차형식',\n",
       " '엔진형식',\n",
       " '배기량',\n",
       " '변속기',\n",
       " '최대출력PS',\n",
       " '최대출력RPM',\n",
       " '총중량',\n",
       " '공차중량',\n",
       " '제작국가',\n",
       " '사용연료',\n",
       " '배출가스기준',\n",
       " '유럽 기준',\n",
       " 'SCR 유(Y)무(N)']"
      ]
     },
     "execution_count": 158,
     "metadata": {},
     "output_type": "execute_result"
    }
   ],
   "source": [
    "s6.columns.to_list()"
   ]
  },
  {
   "cell_type": "code",
   "execution_count": 159,
   "metadata": {},
   "outputs": [
    {
     "data": {
      "text/html": [
       "<div>\n",
       "<style scoped>\n",
       "    .dataframe tbody tr th:only-of-type {\n",
       "        vertical-align: middle;\n",
       "    }\n",
       "\n",
       "    .dataframe tbody tr th {\n",
       "        vertical-align: top;\n",
       "    }\n",
       "\n",
       "    .dataframe thead th {\n",
       "        text-align: right;\n",
       "    }\n",
       "</style>\n",
       "<table border=\"1\" class=\"dataframe\">\n",
       "  <thead>\n",
       "    <tr style=\"text-align: right;\">\n",
       "      <th></th>\n",
       "      <th>배출가스인증번호</th>\n",
       "      <th>제작사</th>\n",
       "      <th>차명</th>\n",
       "      <th>제작국가</th>\n",
       "      <th>유럽 기준</th>\n",
       "      <th>SCR 유(Y)무(N)</th>\n",
       "    </tr>\n",
       "  </thead>\n",
       "  <tbody>\n",
       "    <tr>\n",
       "      <th>0</th>\n",
       "      <td>FMY-HD-14-38</td>\n",
       "      <td>현대자동차(주)</td>\n",
       "      <td>그랜드스타렉스 2.5디젤 12인(4WD)</td>\n",
       "      <td>한국</td>\n",
       "      <td>유로6</td>\n",
       "      <td>Y</td>\n",
       "    </tr>\n",
       "    <tr>\n",
       "      <th>1</th>\n",
       "      <td>HMY-HD-14-61</td>\n",
       "      <td>현대자동차(주)</td>\n",
       "      <td>G80 2.2디젤 2WD</td>\n",
       "      <td>한국</td>\n",
       "      <td>유로6</td>\n",
       "      <td>Y</td>\n",
       "    </tr>\n",
       "    <tr>\n",
       "      <th>2</th>\n",
       "      <td>HMY-HD-14-63</td>\n",
       "      <td>현대자동차(주)</td>\n",
       "      <td>G70 2.2 디젤 2WD</td>\n",
       "      <td>한국</td>\n",
       "      <td>유로6</td>\n",
       "      <td>Y</td>\n",
       "    </tr>\n",
       "    <tr>\n",
       "      <th>3</th>\n",
       "      <td>JMY-HD-14-15</td>\n",
       "      <td>현대자동차(주)</td>\n",
       "      <td>싼타페 2.0디젤 2WD</td>\n",
       "      <td>한국</td>\n",
       "      <td>유로6</td>\n",
       "      <td>Y</td>\n",
       "    </tr>\n",
       "    <tr>\n",
       "      <th>4</th>\n",
       "      <td>HMY-HD-14-62</td>\n",
       "      <td>현대자동차(주)</td>\n",
       "      <td>G70 2.2 디젤 AWD</td>\n",
       "      <td>한국</td>\n",
       "      <td>유로6</td>\n",
       "      <td>Y</td>\n",
       "    </tr>\n",
       "  </tbody>\n",
       "</table>\n",
       "</div>"
      ],
      "text/plain": [
       "       배출가스인증번호       제작사                      차명 제작국가 유럽 기준 SCR 유(Y)무(N)\n",
       "0  FMY-HD-14-38  현대자동차(주)  그랜드스타렉스 2.5디젤 12인(4WD)   한국   유로6            Y\n",
       "1  HMY-HD-14-61  현대자동차(주)           G80 2.2디젤 2WD   한국   유로6            Y\n",
       "2  HMY-HD-14-63  현대자동차(주)          G70 2.2 디젤 2WD   한국   유로6            Y\n",
       "3  JMY-HD-14-15  현대자동차(주)           싼타페 2.0디젤 2WD   한국   유로6            Y\n",
       "4  HMY-HD-14-62  현대자동차(주)          G70 2.2 디젤 AWD   한국   유로6            Y"
      ]
     },
     "execution_count": 159,
     "metadata": {},
     "output_type": "execute_result"
    }
   ],
   "source": [
    "s6m = s6[[\n",
    "    '배출가스인증번호',\n",
    "    '제작사',\n",
    "    '차명',\n",
    "    '제작국가',\n",
    "    '유럽 기준',\n",
    "    'SCR 유(Y)무(N)'\n",
    "\n",
    "    # '일련번호',\n",
    "    # '배출가스차종',\n",
    "    # '배출가스인증일',\n",
    "    # '자동차형식',\n",
    "    # '엔진형식',\n",
    "    # '배기량',\n",
    "    # '변속기',\n",
    "    # '최대출력PS',\n",
    "    # '최대출력RPM',\n",
    "    # '총중량',\n",
    "    # '공차중량',\n",
    "    # '사용연료',\n",
    "    # '배출가스기준',\n",
    "]]\n",
    "s6m.head()"
   ]
  },
  {
   "cell_type": "code",
   "execution_count": 160,
   "metadata": {},
   "outputs": [
    {
     "data": {
      "text/html": [
       "<div>\n",
       "<style scoped>\n",
       "    .dataframe tbody tr th:only-of-type {\n",
       "        vertical-align: middle;\n",
       "    }\n",
       "\n",
       "    .dataframe tbody tr th {\n",
       "        vertical-align: top;\n",
       "    }\n",
       "\n",
       "    .dataframe thead th {\n",
       "        text-align: right;\n",
       "    }\n",
       "</style>\n",
       "<table border=\"1\" class=\"dataframe\">\n",
       "  <thead>\n",
       "    <tr style=\"text-align: right;\">\n",
       "      <th></th>\n",
       "      <th>배출가스인증번호</th>\n",
       "      <th>제작사</th>\n",
       "      <th>차명</th>\n",
       "      <th>제작국</th>\n",
       "      <th>유럽기준</th>\n",
       "      <th>SCR유무</th>\n",
       "    </tr>\n",
       "  </thead>\n",
       "  <tbody>\n",
       "    <tr>\n",
       "      <th>0</th>\n",
       "      <td>FMY-HD-14-38</td>\n",
       "      <td>현대자동차(주)</td>\n",
       "      <td>그랜드스타렉스 2.5디젤 12인(4WD)</td>\n",
       "      <td>한국</td>\n",
       "      <td>유로6</td>\n",
       "      <td>Y</td>\n",
       "    </tr>\n",
       "    <tr>\n",
       "      <th>1</th>\n",
       "      <td>HMY-HD-14-61</td>\n",
       "      <td>현대자동차(주)</td>\n",
       "      <td>G80 2.2디젤 2WD</td>\n",
       "      <td>한국</td>\n",
       "      <td>유로6</td>\n",
       "      <td>Y</td>\n",
       "    </tr>\n",
       "    <tr>\n",
       "      <th>2</th>\n",
       "      <td>HMY-HD-14-63</td>\n",
       "      <td>현대자동차(주)</td>\n",
       "      <td>G70 2.2 디젤 2WD</td>\n",
       "      <td>한국</td>\n",
       "      <td>유로6</td>\n",
       "      <td>Y</td>\n",
       "    </tr>\n",
       "    <tr>\n",
       "      <th>3</th>\n",
       "      <td>JMY-HD-14-15</td>\n",
       "      <td>현대자동차(주)</td>\n",
       "      <td>싼타페 2.0디젤 2WD</td>\n",
       "      <td>한국</td>\n",
       "      <td>유로6</td>\n",
       "      <td>Y</td>\n",
       "    </tr>\n",
       "    <tr>\n",
       "      <th>4</th>\n",
       "      <td>HMY-HD-14-62</td>\n",
       "      <td>현대자동차(주)</td>\n",
       "      <td>G70 2.2 디젤 AWD</td>\n",
       "      <td>한국</td>\n",
       "      <td>유로6</td>\n",
       "      <td>Y</td>\n",
       "    </tr>\n",
       "  </tbody>\n",
       "</table>\n",
       "</div>"
      ],
      "text/plain": [
       "       배출가스인증번호       제작사                      차명 제작국 유럽기준 SCR유무\n",
       "0  FMY-HD-14-38  현대자동차(주)  그랜드스타렉스 2.5디젤 12인(4WD)  한국  유로6     Y\n",
       "1  HMY-HD-14-61  현대자동차(주)           G80 2.2디젤 2WD  한국  유로6     Y\n",
       "2  HMY-HD-14-63  현대자동차(주)          G70 2.2 디젤 2WD  한국  유로6     Y\n",
       "3  JMY-HD-14-15  현대자동차(주)           싼타페 2.0디젤 2WD  한국  유로6     Y\n",
       "4  HMY-HD-14-62  현대자동차(주)          G70 2.2 디젤 AWD  한국  유로6     Y"
      ]
     },
     "execution_count": 160,
     "metadata": {},
     "output_type": "execute_result"
    }
   ],
   "source": [
    "s6m = s6m.rename(columns={'SCR 유(Y)무(N)':'SCR유무', '제작국가':'제작국', '유럽 기준':'유럽기준'})\n",
    "s6m.head()"
   ]
  },
  {
   "cell_type": "code",
   "execution_count": 161,
   "metadata": {},
   "outputs": [
    {
     "data": {
      "text/plain": [
       "110"
      ]
     },
     "execution_count": 161,
     "metadata": {},
     "output_type": "execute_result"
    }
   ],
   "source": [
    "l45m.shape[0] + l6m.shape[0] + s6m.shape[0]"
   ]
  },
  {
   "cell_type": "code",
   "execution_count": 162,
   "metadata": {},
   "outputs": [
    {
     "data": {
      "text/plain": [
       "(110, 6)"
      ]
     },
     "execution_count": 162,
     "metadata": {},
     "output_type": "execute_result"
    }
   ],
   "source": [
    "cert = pd.concat([l45m, l6m, s6m], ignore_index=True)\n",
    "cert.shape"
   ]
  },
  {
   "cell_type": "code",
   "execution_count": 163,
   "metadata": {},
   "outputs": [
    {
     "data": {
      "text/html": [
       "<div>\n",
       "<style scoped>\n",
       "    .dataframe tbody tr th:only-of-type {\n",
       "        vertical-align: middle;\n",
       "    }\n",
       "\n",
       "    .dataframe tbody tr th {\n",
       "        vertical-align: top;\n",
       "    }\n",
       "\n",
       "    .dataframe thead th {\n",
       "        text-align: right;\n",
       "    }\n",
       "</style>\n",
       "<table border=\"1\" class=\"dataframe\">\n",
       "  <thead>\n",
       "    <tr style=\"text-align: right;\">\n",
       "      <th></th>\n",
       "      <th>배출가스인증번호</th>\n",
       "      <th>제작사</th>\n",
       "      <th>차명</th>\n",
       "      <th>제작국</th>\n",
       "      <th>유럽기준</th>\n",
       "      <th>SCR유무</th>\n",
       "    </tr>\n",
       "  </thead>\n",
       "  <tbody>\n",
       "    <tr>\n",
       "      <th>0</th>\n",
       "      <td>AMY-HD-14-35</td>\n",
       "      <td>현대자동차</td>\n",
       "      <td>현대25.5톤덤프트럭</td>\n",
       "      <td>한국</td>\n",
       "      <td>유로5</td>\n",
       "      <td>Y</td>\n",
       "    </tr>\n",
       "    <tr>\n",
       "      <th>1</th>\n",
       "      <td>7MY-DC-23-70</td>\n",
       "      <td>타타대우상용차</td>\n",
       "      <td>대우25톤장축카고트럭</td>\n",
       "      <td>한국</td>\n",
       "      <td>유로4</td>\n",
       "      <td>Y</td>\n",
       "    </tr>\n",
       "    <tr>\n",
       "      <th>2</th>\n",
       "      <td>7MY-DC-23-72</td>\n",
       "      <td>타타대우상용차</td>\n",
       "      <td>대우5톤초장축카고트럭</td>\n",
       "      <td>한국</td>\n",
       "      <td>유로4</td>\n",
       "      <td>Y</td>\n",
       "    </tr>\n",
       "    <tr>\n",
       "      <th>3</th>\n",
       "      <td>8MY-DC-24-12</td>\n",
       "      <td>타타대우상용차</td>\n",
       "      <td>대우5톤초장축카고트럭</td>\n",
       "      <td>한국</td>\n",
       "      <td>유로4</td>\n",
       "      <td>Y</td>\n",
       "    </tr>\n",
       "    <tr>\n",
       "      <th>4</th>\n",
       "      <td>8MY-DC-24-15</td>\n",
       "      <td>타타대우상용차</td>\n",
       "      <td>대우트랙터</td>\n",
       "      <td>한국</td>\n",
       "      <td>유로4</td>\n",
       "      <td>Y</td>\n",
       "    </tr>\n",
       "  </tbody>\n",
       "</table>\n",
       "</div>"
      ],
      "text/plain": [
       "       배출가스인증번호      제작사           차명 제작국 유럽기준 SCR유무\n",
       "0  AMY-HD-14-35    현대자동차  현대25.5톤덤프트럭  한국  유로5     Y\n",
       "1  7MY-DC-23-70  타타대우상용차  대우25톤장축카고트럭  한국  유로4     Y\n",
       "2  7MY-DC-23-72  타타대우상용차  대우5톤초장축카고트럭  한국  유로4     Y\n",
       "3  8MY-DC-24-12  타타대우상용차  대우5톤초장축카고트럭  한국  유로4     Y\n",
       "4  8MY-DC-24-15  타타대우상용차        대우트랙터  한국  유로4     Y"
      ]
     },
     "execution_count": 163,
     "metadata": {},
     "output_type": "execute_result"
    }
   ],
   "source": [
    "cert.head()"
   ]
  },
  {
   "cell_type": "markdown",
   "metadata": {},
   "source": [
    "### [출력] 인증대장"
   ]
  },
  {
   "cell_type": "code",
   "execution_count": 164,
   "metadata": {},
   "outputs": [
    {
     "data": {
      "text/plain": [
       "'20231208'"
      ]
     },
     "execution_count": 164,
     "metadata": {},
     "output_type": "execute_result"
    }
   ],
   "source": [
    "today_date = datetime.today().strftime('%Y%m%d')\n",
    "today_date"
   ]
  },
  {
   "cell_type": "code",
   "execution_count": 165,
   "metadata": {},
   "outputs": [],
   "source": [
    "# 0.0s\n",
    "cert.to_csv(os.path.join(raw_fold, f'인증대장_{today_date}.csv'), index=False)"
   ]
  },
  {
   "cell_type": "markdown",
   "metadata": {},
   "source": [
    "## 등록 + 인증"
   ]
  },
  {
   "cell_type": "code",
   "execution_count": 189,
   "metadata": {},
   "outputs": [
    {
     "data": {
      "text/plain": [
       "(9533740, 10)"
      ]
     },
     "execution_count": 189,
     "metadata": {},
     "output_type": "execute_result"
    }
   ],
   "source": [
    "csm.shape"
   ]
  },
  {
   "cell_type": "code",
   "execution_count": 190,
   "metadata": {},
   "outputs": [
    {
     "data": {
      "text/plain": [
       "(9533740, 15)"
      ]
     },
     "execution_count": 190,
     "metadata": {},
     "output_type": "execute_result"
    }
   ],
   "source": [
    "# 2.0s\n",
    "cc = csm.merge(cert, on='배출가스인증번호', how='left')\n",
    "cc.shape"
   ]
  },
  {
   "cell_type": "code",
   "execution_count": 191,
   "metadata": {},
   "outputs": [
    {
     "data": {
      "text/plain": [
       "Index(['배출가스인증번호', '배출가스등급', '최초등록일자', '차량말소유무', '차량연식', '차종', '차대번호', '엔진형식',\n",
       "       '연료', '제작사명', '제작사', '차명', '제작국', '유럽기준', 'SCR유무'],\n",
       "      dtype='object')"
      ]
     },
     "execution_count": 191,
     "metadata": {},
     "output_type": "execute_result"
    }
   ],
   "source": [
    "cc.columns"
   ]
  },
  {
   "cell_type": "markdown",
   "metadata": {},
   "source": [
    "## 등록 + 인증 + 저감"
   ]
  },
  {
   "cell_type": "code",
   "execution_count": 192,
   "metadata": {},
   "outputs": [
    {
     "data": {
      "text/plain": [
       "(9533740, 16)"
      ]
     },
     "execution_count": 192,
     "metadata": {},
     "output_type": "execute_result"
    }
   ],
   "source": [
    "# 13.8s\n",
    "pr = cc.merge(attm, on='차대번호', how='left')\n",
    "pr.shape"
   ]
  },
  {
   "cell_type": "code",
   "execution_count": 193,
   "metadata": {},
   "outputs": [
    {
     "data": {
      "text/plain": [
       "Index(['배출가스인증번호', '배출가스등급', '최초등록일자', '차량말소유무', '차량연식', '차종', '차대번호', '엔진형식',\n",
       "       '연료', '제작사명', '제작사', '차명', '제작국', '유럽기준', 'SCR유무', '저감장치구분'],\n",
       "      dtype='object')"
      ]
     },
     "execution_count": 193,
     "metadata": {},
     "output_type": "execute_result"
    }
   ],
   "source": [
    "pr.columns"
   ]
  },
  {
   "cell_type": "code",
   "execution_count": 200,
   "metadata": {},
   "outputs": [
    {
     "data": {
      "text/plain": [
       "(8679, 3)"
      ]
     },
     "execution_count": 200,
     "metadata": {},
     "output_type": "execute_result"
    }
   ],
   "source": [
    "ex = pr.groupby(['엔진형식', '제작사명'])['차대번호'].count().reset_index()\n",
    "ex.shape"
   ]
  },
  {
   "cell_type": "code",
   "execution_count": 203,
   "metadata": {},
   "outputs": [
    {
     "data": {
      "text/html": [
       "<div>\n",
       "<style scoped>\n",
       "    .dataframe tbody tr th:only-of-type {\n",
       "        vertical-align: middle;\n",
       "    }\n",
       "\n",
       "    .dataframe tbody tr th {\n",
       "        vertical-align: top;\n",
       "    }\n",
       "\n",
       "    .dataframe thead th {\n",
       "        text-align: right;\n",
       "    }\n",
       "</style>\n",
       "<table border=\"1\" class=\"dataframe\">\n",
       "  <thead>\n",
       "    <tr style=\"text-align: right;\">\n",
       "      <th></th>\n",
       "      <th>엔진형식</th>\n",
       "      <th>제작사명</th>\n",
       "      <th>차대번호</th>\n",
       "    </tr>\n",
       "  </thead>\n",
       "  <tbody>\n",
       "    <tr>\n",
       "      <th>0</th>\n",
       "      <td>-</td>\n",
       "      <td>(주) 두성특장차</td>\n",
       "      <td>1</td>\n",
       "    </tr>\n",
       "    <tr>\n",
       "      <th>1</th>\n",
       "      <td>-</td>\n",
       "      <td>한국특장차(주)</td>\n",
       "      <td>1</td>\n",
       "    </tr>\n",
       "    <tr>\n",
       "      <th>2</th>\n",
       "      <td>.D4GB</td>\n",
       "      <td>(주) 골드밴</td>\n",
       "      <td>1</td>\n",
       "    </tr>\n",
       "    <tr>\n",
       "      <th>3</th>\n",
       "      <td>0</td>\n",
       "      <td>SOFA차량</td>\n",
       "      <td>4</td>\n",
       "    </tr>\n",
       "    <tr>\n",
       "      <th>4</th>\n",
       "      <td>0</td>\n",
       "      <td>남도수입</td>\n",
       "      <td>1</td>\n",
       "    </tr>\n",
       "  </tbody>\n",
       "</table>\n",
       "</div>"
      ],
      "text/plain": [
       "    엔진형식       제작사명  차대번호\n",
       "0      -  (주) 두성특장차     1\n",
       "1      -   한국특장차(주)     1\n",
       "2  .D4GB    (주) 골드밴     1\n",
       "3      0     SOFA차량     4\n",
       "4      0       남도수입     1"
      ]
     },
     "execution_count": 203,
     "metadata": {},
     "output_type": "execute_result"
    }
   ],
   "source": [
    "ex.head()"
   ]
  },
  {
   "cell_type": "code",
   "execution_count": 204,
   "metadata": {},
   "outputs": [],
   "source": [
    "# ex.to_excel(os.path.join(an_fold, '엔진형식_제작사명_리스트.xlsx'), index=False)"
   ]
  },
  {
   "cell_type": "markdown",
   "metadata": {},
   "source": [
    "## 제작국 설정"
   ]
  },
  {
   "cell_type": "code",
   "execution_count": 207,
   "metadata": {},
   "outputs": [
    {
     "data": {
      "text/plain": [
       "Index(['배출가스인증번호', '배출가스등급', '최초등록일자', '차량말소유무', '차량연식', '차종', '차대번호', '엔진형식',\n",
       "       '연료', '제작사명', '제작사', '차명', '제작국', '유럽기준', 'SCR유무', '저감장치구분'],\n",
       "      dtype='object')"
      ]
     },
     "execution_count": 207,
     "metadata": {},
     "output_type": "execute_result"
    }
   ],
   "source": [
    "pr.columns"
   ]
  },
  {
   "cell_type": "code",
   "execution_count": 209,
   "metadata": {},
   "outputs": [
    {
     "data": {
      "text/plain": [
       "Index(['엔진형식', '제작사명', '차대번호', '국내/외 구분(1:국내, 2:국외)'], dtype='object')"
      ]
     },
     "execution_count": 209,
     "metadata": {},
     "output_type": "execute_result"
    }
   ],
   "source": [
    "ck.columns"
   ]
  },
  {
   "cell_type": "code",
   "execution_count": 211,
   "metadata": {},
   "outputs": [
    {
     "data": {
      "text/plain": [
       "(9533740, 16)"
      ]
     },
     "execution_count": 211,
     "metadata": {},
     "output_type": "execute_result"
    }
   ],
   "source": [
    "pr.shape"
   ]
  },
  {
   "cell_type": "code",
   "execution_count": 217,
   "metadata": {},
   "outputs": [
    {
     "data": {
      "text/plain": [
       "(9533740, 17)"
      ]
     },
     "execution_count": 217,
     "metadata": {},
     "output_type": "execute_result"
    }
   ],
   "source": [
    "pr01 = pr.merge(ck, on=['제작사명', '엔진형식'], how='left')\n",
    "pr01.shape"
   ]
  },
  {
   "cell_type": "code",
   "execution_count": 218,
   "metadata": {},
   "outputs": [
    {
     "data": {
      "text/plain": [
       "Index(['배출가스인증번호', '배출가스등급', '최초등록일자', '차량말소유무', '차량연식', '차종', '차대번호', '엔진형식',\n",
       "       '연료', '제작사명', '제작사', '차명', '제작국', '유럽기준', 'SCR유무', '저감장치구분', '구분'],\n",
       "      dtype='object')"
      ]
     },
     "execution_count": 218,
     "metadata": {},
     "output_type": "execute_result"
    }
   ],
   "source": [
    "pr01.columns"
   ]
  },
  {
   "cell_type": "markdown",
   "metadata": {},
   "source": [
    "### [출력] 전처리 완료 파일"
   ]
  },
  {
   "cell_type": "code",
   "execution_count": 219,
   "metadata": {},
   "outputs": [],
   "source": [
    "# 50.2s\n",
    "pr01.to_csv(os.path.join(raw_fold, f'등록_인증_저감_국내외구분_{today_date}.csv'), index=False)"
   ]
  },
  {
   "cell_type": "markdown",
   "metadata": {},
   "source": [
    "## 저공해조치 차량과 SCR차량 구분"
   ]
  },
  {
   "cell_type": "code",
   "execution_count": 99,
   "metadata": {},
   "outputs": [],
   "source": [
    "# 저공해조치차량\n",
    "    # 저감장치구분 : 1종+SCR인 차량\n",
    "# SCR차량(EURO6)\n",
    "    # SCR유무 : Y\n",
    "    # 국내 : 2017년 이상\n",
    "    # 국외 : 2015년 이상"
   ]
  },
  {
   "cell_type": "code",
   "execution_count": 223,
   "metadata": {},
   "outputs": [
    {
     "data": {
      "text/plain": [
       "(2372, 17)"
      ]
     },
     "execution_count": 223,
     "metadata": {},
     "output_type": "execute_result"
    }
   ],
   "source": [
    "mnt = pr01[pr01['저감장치구분'] == '1종+SCR'].reset_index(drop=True)\n",
    "mnt.shape"
   ]
  },
  {
   "cell_type": "markdown",
   "metadata": {},
   "source": [
    "### [출력] 저공해조치 차량"
   ]
  },
  {
   "cell_type": "code",
   "execution_count": 228,
   "metadata": {},
   "outputs": [
    {
     "data": {
      "text/plain": [
       "Index(['배출가스인증번호', '배출가스등급', '최초등록일자', '차량말소유무', '차량연식', '차종', '차대번호', '엔진형식',\n",
       "       '연료', '제작사명', '제작사', '차명', '제작국', '유럽기준', 'SCR유무', '저감장치구분', '구분'],\n",
       "      dtype='object')"
      ]
     },
     "execution_count": 228,
     "metadata": {},
     "output_type": "execute_result"
    }
   ],
   "source": [
    "mnt.columns"
   ]
  },
  {
   "cell_type": "code",
   "execution_count": 230,
   "metadata": {},
   "outputs": [
    {
     "data": {
      "text/plain": [
       "'20231211'"
      ]
     },
     "execution_count": 230,
     "metadata": {},
     "output_type": "execute_result"
    }
   ],
   "source": [
    "today_date = datetime.today().strftime('%Y%m%d')\n",
    "today_date"
   ]
  },
  {
   "cell_type": "code",
   "execution_count": 231,
   "metadata": {},
   "outputs": [],
   "source": [
    "# 1.7s\n",
    "mnt.to_excel(os.path.join(df_fold, f'경유_저공해조치차량_{today_date}.xlsx'), index=False)"
   ]
  },
  {
   "cell_type": "code",
   "execution_count": 224,
   "metadata": {},
   "outputs": [
    {
     "data": {
      "text/plain": [
       "Index(['배출가스인증번호', '배출가스등급', '최초등록일자', '차량말소유무', '차량연식', '차종', '차대번호', '엔진형식',\n",
       "       '연료', '제작사명', '제작사', '차명', '제작국', '유럽기준', 'SCR유무', '저감장치구분', '구분'],\n",
       "      dtype='object')"
      ]
     },
     "execution_count": 224,
     "metadata": {},
     "output_type": "execute_result"
    }
   ],
   "source": [
    "pr01.columns"
   ]
  },
  {
   "cell_type": "code",
   "execution_count": 225,
   "metadata": {},
   "outputs": [
    {
     "data": {
      "text/plain": [
       "dtype('int64')"
      ]
     },
     "execution_count": 225,
     "metadata": {},
     "output_type": "execute_result"
    }
   ],
   "source": [
    "pr01['차량연식'].dtype"
   ]
  },
  {
   "cell_type": "code",
   "execution_count": 227,
   "metadata": {},
   "outputs": [
    {
     "data": {
      "text/plain": [
       "(4433293, 17)"
      ]
     },
     "execution_count": 227,
     "metadata": {},
     "output_type": "execute_result"
    }
   ],
   "source": [
    "euro6 = pr01[(pr01['저감장치구분'] != '1종+SCR') & ( ((pr01['구분'] == '국내') & (pr01['차량연식'] >= 2017)) | ((pr01['구분'] == '국외') & (pr01['차량연식'] >= 2015)) | (pr['SCR유무'] == 'Y') )].reset_index(drop=True)\n",
    "euro6.shape"
   ]
  },
  {
   "cell_type": "code",
   "execution_count": 237,
   "metadata": {},
   "outputs": [
    {
     "name": "stdout",
     "output_type": "stream",
     "text": [
      "1 0 500000\n",
      "2 500000 1000000\n",
      "3 1000000 1500000\n",
      "4 1500000 2000000\n",
      "5 2000000 2500000\n",
      "6 2500000 3000000\n",
      "7 3000000 3500000\n",
      "8 3500000 4000000\n",
      "9 4000000 4500000\n"
     ]
    }
   ],
   "source": [
    "div = 50 * 10**4\n",
    "for n in range(euro6.shape[0] // div + 1):\n",
    "    print(n+1, n*div, (n+1) *div)"
   ]
  },
  {
   "cell_type": "code",
   "execution_count": 238,
   "metadata": {},
   "outputs": [],
   "source": [
    "# \n",
    "div = 50 * 10**4\n",
    "for n in range(euro6.shape[0] // div + 1):\n",
    "    # print(n*div, (n+1) *div)\n",
    "    euro6.iloc[n*div:(n+1)*div].to_excel(os.path.join(df_fold, f'EURO6차량현황{n+1}_{today_date}.xlsx'), index=False)"
   ]
  },
  {
   "cell_type": "code",
   "execution_count": null,
   "metadata": {},
   "outputs": [],
   "source": []
  }
 ],
 "metadata": {
  "interpreter": {
   "hash": "569b4317022eb29baeafb3d0f1f739310808ea28ce83ca127a35db1c01070585"
  },
  "kernelspec": {
   "display_name": "Python 3.9.12 ('base')",
   "language": "python",
   "name": "python3"
  },
  "language_info": {
   "codemirror_mode": {
    "name": "ipython",
    "version": 3
   },
   "file_extension": ".py",
   "mimetype": "text/x-python",
   "name": "python",
   "nbconvert_exporter": "python",
   "pygments_lexer": "ipython3",
   "version": "3.9.12"
  }
 },
 "nbformat": 4,
 "nbformat_minor": 2
}
