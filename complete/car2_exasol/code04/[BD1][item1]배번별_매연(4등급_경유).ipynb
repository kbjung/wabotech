{
 "cells": [
  {
   "cell_type": "markdown",
   "metadata": {},
   "source": [
    "# Library\n"
   ]
  },
  {
   "cell_type": "code",
   "execution_count": 1,
   "metadata": {
    "tags": []
   },
   "outputs": [],
   "source": [
    "import pandas as pd\n",
    "import numpy as np\n",
    "from tqdm import tqdm\n",
    "from datetime import datetime\n",
    "import pyexasol"
   ]
  },
  {
   "cell_type": "code",
   "execution_count": 2,
   "metadata": {},
   "outputs": [],
   "source": [
    "import os"
   ]
  },
  {
   "cell_type": "code",
   "execution_count": 3,
   "metadata": {
    "tags": []
   },
   "outputs": [],
   "source": [
    "# 소수점 옵션\n",
    "pd.options.display.float_format = '{:.2f}'.format\n",
    "# pd.reset_option('display.float_format')"
   ]
  },
  {
   "cell_type": "markdown",
   "metadata": {},
   "source": [
    "# Fold"
   ]
  },
  {
   "cell_type": "code",
   "execution_count": 4,
   "metadata": {},
   "outputs": [],
   "source": [
    "df1_fold = 'D:/data/complete/big2/BD1/df'"
   ]
  },
  {
   "cell_type": "markdown",
   "metadata": {},
   "source": [
    "# server"
   ]
  },
  {
   "cell_type": "code",
   "execution_count": 5,
   "metadata": {
    "tags": []
   },
   "outputs": [],
   "source": [
    "# # insider db\n",
    "# wd = pyexasol.connect(dsn='172.29.135.35/F99FAB2444F86051A9A467F6313FAAB48AF7C4760663430958E3B89A9DC53361:8563', user='sys', password='exasol', compression=True, schema='VSYSD')\n",
    "# we = pyexasol.connect(dsn='172.29.135.35/F99FAB2444F86051A9A467F6313FAAB48AF7C4760663430958E3B89A9DC53361:8563', user='sys', password='exasol', compression=True, schema='VSYSE')"
   ]
  },
  {
   "cell_type": "code",
   "execution_count": 6,
   "metadata": {},
   "outputs": [],
   "source": [
    "# exasol db\n",
    "ws = pyexasol.connect(dsn='dev.openankus.org:8563', user='sys', password='djslzja', compression=True, schema='VSYS')\n",
    "wd = pyexasol.connect(dsn='dev.openankus.org:8563', user='sys', password='djslzja', compression=True, schema='VSYSD')\n",
    "we = pyexasol.connect(dsn='dev.openankus.org:8563', user='sys', password='djslzja', compression=True, schema='VSYSE')"
   ]
  },
  {
   "cell_type": "markdown",
   "metadata": {},
   "source": [
    "# Load\n",
    "- 등록정보&제원정보 -> result 4등급(연료 전체)\n",
    "- 정기검사&정밀검사"
   ]
  },
  {
   "cell_type": "markdown",
   "metadata": {},
   "source": [
    "## 등록정보(STD_CEG_CAR_MIG) 4등급만"
   ]
  },
  {
   "cell_type": "code",
   "execution_count": 7,
   "metadata": {},
   "outputs": [
    {
     "name": "stdout",
     "output_type": "stream",
     "text": [
      "<class 'pandas.core.frame.DataFrame'>\n",
      "RangeIndex: 1906876 entries, 0 to 1906875\n",
      "Data columns (total 11 columns):\n",
      " #   Column             Dtype  \n",
      "---  ------             -----  \n",
      " 0   VIN                object \n",
      " 1   BSPL_STDG_CD       int64  \n",
      " 2   EXHST_GAS_GRD_CD   object \n",
      " 3   EXHST_GAS_CERT_NO  object \n",
      " 4   VHCL_ERSR_YN       object \n",
      " 5   MANP_MNG_NO        object \n",
      " 6   YRIDNW             int64  \n",
      " 7   VHCTY_CD           object \n",
      " 8   PURPS_CD2          object \n",
      " 9   FRST_REG_YMD       float64\n",
      " 10  VHCL_FBCTN_YMD     float64\n",
      "dtypes: float64(2), int64(2), object(7)\n",
      "memory usage: 160.0+ MB\n"
     ]
    }
   ],
   "source": [
    "# 8.6s\n",
    "car = wd.export_to_pandas(\"SELECT VIN, BSPL_STDG_CD, EXHST_GAS_GRD_CD, EXHST_GAS_CERT_NO, VHCL_ERSR_YN, MANP_MNG_NO, YRIDNW, VHCTY_CD, PURPS_CD2, FRST_REG_YMD, VHCL_FBCTN_YMD FROM STD_CEG_CAR_MIG WHERE EXHST_GAS_GRD_CD = 'A0504' OR EXHST_GAS_GRD_CD = 'A05T4';\")\n",
    "car_ch_col = {\n",
    "    'VIN':'차대번호', \n",
    "    'BSPL_STDG_CD':'법정동코드', \n",
    "    'EXHST_GAS_GRD_CD':'배출가스등급', \n",
    "    'EXHST_GAS_CERT_NO':'배출가스인증번호',\n",
    "    'VHCL_ERSR_YN':'차량말소YN',\n",
    "    'MANP_MNG_NO':'제원관리번호', \n",
    "    'YRIDNW':'차량연식', \n",
    "    'VHCTY_CD':'차종', \n",
    "    'PURPS_CD2':'용도', \n",
    "    'FRST_REG_YMD':'최초등록일자',\n",
    "    'VHCL_FBCTN_YMD':'제작일자',\n",
    "}\n",
    "car.info()"
   ]
  },
  {
   "cell_type": "code",
   "execution_count": 8,
   "metadata": {},
   "outputs": [
    {
     "data": {
      "text/plain": [
       "Index(['차대번호', '법정동코드', '배출가스등급', '배출가스인증번호', '차량말소YN', '제원관리번호', '차량연식', '차종',\n",
       "       '용도', '최초등록일자', '제작일자'],\n",
       "      dtype='object')"
      ]
     },
     "execution_count": 8,
     "metadata": {},
     "output_type": "execute_result"
    }
   ],
   "source": [
    "carr = car.rename(columns=car_ch_col)\n",
    "carr.columns"
   ]
  },
  {
   "cell_type": "markdown",
   "metadata": {},
   "source": [
    "## 제원정보(STD_CEG_CAR_SRC_MIG)"
   ]
  },
  {
   "cell_type": "code",
   "execution_count": 9,
   "metadata": {},
   "outputs": [
    {
     "name": "stdout",
     "output_type": "stream",
     "text": [
      "<class 'pandas.core.frame.DataFrame'>\n",
      "RangeIndex: 566615 entries, 0 to 566614\n",
      "Data columns (total 7 columns):\n",
      " #   Column        Non-Null Count   Dtype \n",
      "---  ------        --------------   ----- \n",
      " 0   MANP_MNG_NO   566615 non-null  object\n",
      " 1   FUEL_CD       545937 non-null  object\n",
      " 2   VHCTY_TY_CD2  553038 non-null  object\n",
      " 3   MNFCTR_NM     559794 non-null  object\n",
      " 4   VHCNM         566544 non-null  object\n",
      " 5   VHCL_FRM      536460 non-null  object\n",
      " 6   EGIN_TY       517013 non-null  object\n",
      "dtypes: object(7)\n",
      "memory usage: 30.3+ MB\n"
     ]
    }
   ],
   "source": [
    "# 3.8s\n",
    "src = wd.export_to_pandas(\"SELECT MANP_MNG_NO, FUEL_CD, VHCTY_TY_CD2, MNFCTR_NM, VHCNM, VHCL_FRM, EGIN_TY FROM STD_CEG_CAR_SRC_MIG;\")\n",
    "src_ch_col = {\n",
    "    'MANP_MNG_NO':'제원관리번호', \n",
    "    'FUEL_CD':'연료',\n",
    "    'VHCTY_TY_CD2':'차종유형', \n",
    "    'MNFCTR_NM':'제작사명', \n",
    "    'VHCNM':'차명', \n",
    "    'VHCL_FRM':'자동차형식', \n",
    "    'EGIN_TY':'엔진형식', \n",
    "}\n",
    "src.info()"
   ]
  },
  {
   "cell_type": "code",
   "execution_count": 10,
   "metadata": {},
   "outputs": [
    {
     "data": {
      "text/plain": [
       "Index(['제원관리번호', '연료', '차종유형', '제작사명', '차명', '자동차형식', '엔진형식'], dtype='object')"
      ]
     },
     "execution_count": 10,
     "metadata": {},
     "output_type": "execute_result"
    }
   ],
   "source": [
    "srcr = src.rename(columns=src_ch_col)\n",
    "srcr.columns"
   ]
  },
  {
   "cell_type": "markdown",
   "metadata": {},
   "source": [
    "## 정기검사(STD_TB_JGT_HIS)"
   ]
  },
  {
   "cell_type": "code",
   "execution_count": 11,
   "metadata": {},
   "outputs": [
    {
     "name": "stdout",
     "output_type": "stream",
     "text": [
      "<class 'pandas.core.frame.DataFrame'>\n",
      "RangeIndex: 65903838 entries, 0 to 65903837\n",
      "Data columns (total 11 columns):\n",
      " #   Column                  Dtype  \n",
      "---  ------                  -----  \n",
      " 0   VIN                     object \n",
      " 1   FDRM_INSP_INSP_MTHD_CD  object \n",
      " 2   FDRM_INSP_KND_CD        object \n",
      " 3   FDRM_INSP_JGMT          object \n",
      " 4   FDRM_NLOD_SMO_MSTVL1    float64\n",
      " 5   FDRM_NLOD_SMO_MSTVL2    float64\n",
      " 6   FDRM_NLOD_SMO_MSTVL3    float64\n",
      " 7   FDRM_NLOD_SMO_JT_YN1    object \n",
      " 8   FDRM_INSP_YMD           int64  \n",
      " 9   FDRM_DRVNG_DSTNC        float64\n",
      " 10  FDRM_NLOD_SMO_PRMVL1    float64\n",
      "dtypes: float64(5), int64(1), object(5)\n",
      "memory usage: 5.4+ GB\n"
     ]
    }
   ],
   "source": [
    "# 3m 34.9s\n",
    "jgt = wd.export_to_pandas(\"SELECT VIN, FDRM_INSP_INSP_MTHD_CD, FDRM_INSP_KND_CD, FDRM_INSP_JGMT, FDRM_NLOD_SMO_MSTVL1, FDRM_NLOD_SMO_MSTVL2, FDRM_NLOD_SMO_MSTVL3, FDRM_NLOD_SMO_JT_YN1, FDRM_INSP_YMD, FDRM_DRVNG_DSTNC, FDRM_NLOD_SMO_PRMVL1 FROM STD_TB_JGT_HIS;\")\n",
    "jgt_ch_col = {\n",
    "    'VIN':'차대번호', \n",
    "    'FDRM_INSP_INSP_MTHD_CD':'검사방법', \n",
    "    'FDRM_INSP_KND_CD':'검사종류', \n",
    "    'FDRM_INSP_JGMT':'검사판정', \n",
    "    'FDRM_NLOD_SMO_MSTVL1':'무부하매연측정치1', \n",
    "    'FDRM_NLOD_SMO_MSTVL2':'무부하매연측정치2', \n",
    "    'FDRM_NLOD_SMO_MSTVL3':'무부하매연측정치3', \n",
    "    'FDRM_NLOD_SMO_JT_YN1':'무부하매연판정1', \n",
    "    'FDRM_INSP_YMD':'검사일자',\n",
    "    'FDRM_DRVNG_DSTNC':'주행거리',\n",
    "    'FDRM_NLOD_SMO_PRMVL1':'무부하매연허용치1', \n",
    "}\n",
    "jgt.info()"
   ]
  },
  {
   "cell_type": "code",
   "execution_count": 12,
   "metadata": {},
   "outputs": [
    {
     "data": {
      "text/plain": [
       "Index(['차대번호', '검사방법', '검사종류', '검사판정', '무부하매연측정치1', '무부하매연측정치2', '무부하매연측정치3',\n",
       "       '무부하매연판정1', '검사일자', '주행거리', '무부하매연허용치1'],\n",
       "      dtype='object')"
      ]
     },
     "execution_count": 12,
     "metadata": {},
     "output_type": "execute_result"
    }
   ],
   "source": [
    "jgtr = jgt.rename(columns=jgt_ch_col)\n",
    "jgtr.columns"
   ]
  },
  {
   "cell_type": "markdown",
   "metadata": {},
   "source": [
    "## 정밀검사(STD_TB_EET_HIS_ME)"
   ]
  },
  {
   "cell_type": "code",
   "execution_count": 13,
   "metadata": {},
   "outputs": [
    {
     "name": "stdout",
     "output_type": "stream",
     "text": [
      "<class 'pandas.core.frame.DataFrame'>\n",
      "RangeIndex: 102191938 entries, 0 to 102191937\n",
      "Data columns (total 11 columns):\n",
      " #   Column                 Dtype  \n",
      "---  ------                 -----  \n",
      " 0   VIN                    object \n",
      " 1   PRCINSP_MSRMT_MTHD_CD  object \n",
      " 2   PRCINSP_KND_CD         object \n",
      " 3   PRCINSP_JGMT           object \n",
      " 4   PREC_NLOD_SMO_MSTVL1   float64\n",
      " 5   PREC_NLOD_SMO_MSTVL2   float64\n",
      " 6   PREC_NLOD_SMO_MSTVL3   float64\n",
      " 7   PREC_NLOD_SMO_JT_YN1   object \n",
      " 8   PRCINSP_YMD            int64  \n",
      " 9   PRCINSP_DRVNG_DSTNC    float64\n",
      " 10  PREC_NLOD_SMO_PRMVL1   float64\n",
      "dtypes: float64(5), int64(1), object(5)\n",
      "memory usage: 8.4+ GB\n"
     ]
    }
   ],
   "source": [
    "# 6m 36.1s\n",
    "eet = wd.export_to_pandas(\"SELECT VIN, PRCINSP_MSRMT_MTHD_CD, PRCINSP_KND_CD, PRCINSP_JGMT, PREC_NLOD_SMO_MSTVL1, PREC_NLOD_SMO_MSTVL2, PREC_NLOD_SMO_MSTVL3, PREC_NLOD_SMO_JT_YN1, PRCINSP_YMD, PRCINSP_DRVNG_DSTNC, PREC_NLOD_SMO_PRMVL1 FROM STD_TB_EET_HIS_ME;\")\n",
    "eet_ch_col = {\n",
    "    'VIN':'차대번호', \n",
    "    'PRCINSP_MSRMT_MTHD_CD':'검사방법', \n",
    "    'PRCINSP_KND_CD':'검사종류', \n",
    "    'PRCINSP_JGMT':'검사판정', \n",
    "    'PREC_NLOD_SMO_MSTVL1':'무부하매연측정치1', \n",
    "    'PREC_NLOD_SMO_MSTVL2':'무부하매연측정치2', \n",
    "    'PREC_NLOD_SMO_MSTVL3':'무부하매연측정치3', \n",
    "    'PREC_NLOD_SMO_JT_YN1':'무부하매연판정1', \n",
    "    'PRCINSP_YMD':'검사일자',\n",
    "    'PRCINSP_DRVNG_DSTNC':'주행거리', \n",
    "    'PREC_NLOD_SMO_PRMVL1':'무부하매연허용치1', \n",
    "}\n",
    "eet.info()"
   ]
  },
  {
   "cell_type": "code",
   "execution_count": 14,
   "metadata": {},
   "outputs": [
    {
     "data": {
      "text/plain": [
       "Index(['차대번호', '검사방법', '검사종류', '검사판정', '무부하매연측정치1', '무부하매연측정치2', '무부하매연측정치3',\n",
       "       '무부하매연판정1', '검사일자', '주행거리', '무부하매연허용치1'],\n",
       "      dtype='object')"
      ]
     },
     "execution_count": 14,
     "metadata": {},
     "output_type": "execute_result"
    }
   ],
   "source": [
    "eetr = eet.rename(columns=eet_ch_col)\n",
    "eetr.columns"
   ]
  },
  {
   "cell_type": "markdown",
   "metadata": {},
   "source": [
    "## 법정동코드(STD_BJCD_INFO)"
   ]
  },
  {
   "cell_type": "code",
   "execution_count": 15,
   "metadata": {},
   "outputs": [
    {
     "name": "stdout",
     "output_type": "stream",
     "text": [
      "<class 'pandas.core.frame.DataFrame'>\n",
      "RangeIndex: 47916 entries, 0 to 47915\n",
      "Data columns (total 3 columns):\n",
      " #   Column        Non-Null Count  Dtype \n",
      "---  ------        --------------  ----- \n",
      " 0   STDG_CD       47916 non-null  int64 \n",
      " 1   STDG_CTPV_NM  47916 non-null  object\n",
      " 2   STDG_SGG_NM   47892 non-null  object\n",
      "dtypes: int64(1), object(2)\n",
      "memory usage: 1.1+ MB\n"
     ]
    }
   ],
   "source": [
    "# 1.3s\n",
    "code = wd.export_to_pandas(\"SELECT STDG_CD, STDG_CTPV_NM, STDG_SGG_NM FROM STD_BJCD_INFO;\")\n",
    "code_ch_col = {\n",
    "    'STDG_CD':'법정동코드', \n",
    "    'STDG_CTPV_NM':'시도', \n",
    "    'STDG_SGG_NM':'시군구',  \n",
    "}\n",
    "code.info()"
   ]
  },
  {
   "cell_type": "code",
   "execution_count": 16,
   "metadata": {},
   "outputs": [
    {
     "data": {
      "text/plain": [
       "Index(['법정동코드', '시도', '시군구'], dtype='object')"
      ]
     },
     "execution_count": 16,
     "metadata": {},
     "output_type": "execute_result"
    }
   ],
   "source": [
    "coder = code.rename(columns=code_ch_col)\n",
    "coder.columns"
   ]
  },
  {
   "cell_type": "markdown",
   "metadata": {},
   "source": [
    "## RH에서 제공한 법정동코드"
   ]
  },
  {
   "cell_type": "code",
   "execution_count": 17,
   "metadata": {
    "tags": []
   },
   "outputs": [
    {
     "name": "stdout",
     "output_type": "stream",
     "text": [
      "<class 'pandas.core.frame.DataFrame'>\n",
      "RangeIndex: 3799 entries, 0 to 3798\n",
      "Data columns (total 3 columns):\n",
      " #   Column  Non-Null Count  Dtype \n",
      "---  ------  --------------  ----- \n",
      " 0   법정동코드   3799 non-null   int64 \n",
      " 1   시도      3799 non-null   object\n",
      " 2   시군구     3757 non-null   object\n",
      "dtypes: int64(1), object(2)\n",
      "memory usage: 89.2+ KB\n"
     ]
    }
   ],
   "source": [
    "# 1.3s\n",
    "rh = we.export_to_pandas(\"SELECT DONG_CODE, CTPRVN_NM, SIGNGU_NM FROM STD_BD_TB_MAPDATA;\")\n",
    "rh = rh.rename(columns={'DONG_CODE':'법정동코드', 'CTPRVN_NM':'시도', 'SIGNGU_NM':'시군구'})\n",
    "rh.info()"
   ]
  },
  {
   "cell_type": "markdown",
   "metadata": {},
   "source": [
    "## 4등급 result(for DPF유무)"
   ]
  },
  {
   "cell_type": "code",
   "execution_count": 18,
   "metadata": {
    "tags": []
   },
   "outputs": [
    {
     "name": "stdout",
     "output_type": "stream",
     "text": [
      "<class 'pandas.core.frame.DataFrame'>\n",
      "RangeIndex: 1502235 entries, 0 to 1502234\n",
      "Data columns (total 2 columns):\n",
      " #   Column    Non-Null Count    Dtype \n",
      "---  ------    --------------    ----- \n",
      " 0   차대번호      1502235 non-null  object\n",
      " 1   DPF유무_수정  1153813 non-null  object\n",
      "dtypes: object(2)\n",
      "memory usage: 22.9+ MB\n"
     ]
    }
   ],
   "source": [
    "# 3.3s\n",
    "rs = we.export_to_pandas(\"SELECT 차대번호, DPF유무_수정 FROM STD_BD_GRD4_RESULT;\")\n",
    "rs.info()"
   ]
  },
  {
   "cell_type": "markdown",
   "metadata": {},
   "source": [
    "# 전처리"
   ]
  },
  {
   "cell_type": "markdown",
   "metadata": {},
   "source": [
    "## 중복 차대번호 제거"
   ]
  },
  {
   "cell_type": "code",
   "execution_count": 19,
   "metadata": {},
   "outputs": [
    {
     "data": {
      "text/plain": [
       "((1906876, 11), 1906823)"
      ]
     },
     "execution_count": 19,
     "metadata": {},
     "output_type": "execute_result"
    }
   ],
   "source": [
    "carr.shape, len(carr['차대번호'].unique())"
   ]
  },
  {
   "cell_type": "code",
   "execution_count": 20,
   "metadata": {},
   "outputs": [
    {
     "data": {
      "text/plain": [
       "(1906823, 11)"
      ]
     },
     "execution_count": 20,
     "metadata": {},
     "output_type": "execute_result"
    }
   ],
   "source": [
    "carr = carr.sort_values('최초등록일자', ascending=False).drop_duplicates('차대번호').reset_index(drop=True)\n",
    "carr.shape"
   ]
  },
  {
   "cell_type": "markdown",
   "metadata": {},
   "source": [
    "## 배출가스등급 코드 변환"
   ]
  },
  {
   "cell_type": "code",
   "execution_count": 21,
   "metadata": {},
   "outputs": [
    {
     "data": {
      "text/plain": [
       "array(['4'], dtype=object)"
      ]
     },
     "execution_count": 21,
     "metadata": {},
     "output_type": "execute_result"
    }
   ],
   "source": [
    "grd_dict = {\n",
    "    'A0501':'1', \n",
    "    'A0502':'2', \n",
    "    'A0503':'3', \n",
    "    'A0504':'4', \n",
    "    'A0505':'5', \n",
    "    'A05T2':'2',\n",
    "    'A05T3':'3', \n",
    "    'A05T4':'4', \n",
    "    'A05T5':'5', \n",
    "    'A05X':'X', \n",
    "}\n",
    "carr['배출가스등급'] = carr['배출가스등급'].replace(grd_dict)\n",
    "carr['배출가스등급'].unique()"
   ]
  },
  {
   "cell_type": "markdown",
   "metadata": {},
   "source": [
    "## 차종 코드 변환"
   ]
  },
  {
   "cell_type": "code",
   "execution_count": 22,
   "metadata": {},
   "outputs": [
    {
     "data": {
      "text/plain": [
       "array(['승용', '화물', '승합', '특수'], dtype=object)"
      ]
     },
     "execution_count": 22,
     "metadata": {},
     "output_type": "execute_result"
    }
   ],
   "source": [
    "cd_dict = {\n",
    "    'A31M':'이륜', \n",
    "    'A31P':'승용', \n",
    "    'A31S':'특수', \n",
    "    'A31T':'화물', \n",
    "    'A31V':'승합'\n",
    "}\n",
    "carr['차종'] = carr['차종'].replace(cd_dict)\n",
    "carr['차종'].unique()"
   ]
  },
  {
   "cell_type": "markdown",
   "metadata": {},
   "source": [
    "## 용도 코드 변환"
   ]
  },
  {
   "cell_type": "code",
   "execution_count": 23,
   "metadata": {},
   "outputs": [
    {
     "data": {
      "text/plain": [
       "array(['개인용', '영업용', '관용'], dtype=object)"
      ]
     },
     "execution_count": 23,
     "metadata": {},
     "output_type": "execute_result"
    }
   ],
   "source": [
    "purps_dict = {\n",
    "    'A08P':'개인용', \n",
    "    'A08B':'영업용', \n",
    "    'A08O':'관용',\n",
    "}\n",
    "carr['용도'] = carr['용도'].replace(purps_dict)\n",
    "carr['용도'].unique()"
   ]
  },
  {
   "cell_type": "markdown",
   "metadata": {},
   "source": [
    "## 등록정보 말소 제거"
   ]
  },
  {
   "cell_type": "code",
   "execution_count": 24,
   "metadata": {},
   "outputs": [
    {
     "data": {
      "text/plain": [
       "(1390280, 11)"
      ]
     },
     "execution_count": 24,
     "metadata": {},
     "output_type": "execute_result"
    }
   ],
   "source": [
    "carn = carr[carr['차량말소YN'] == 'N'].reset_index(drop=True)\n",
    "carn.shape"
   ]
  },
  {
   "cell_type": "markdown",
   "metadata": {},
   "source": [
    "## 연료 코드 변환"
   ]
  },
  {
   "cell_type": "code",
   "execution_count": 25,
   "metadata": {},
   "outputs": [
    {
     "data": {
      "text/plain": [
       "array(['휘발유', '경유', '기타연료', 'LPG(액화석유가스)', nan, '휘발유 하이브리드',\n",
       "       'CNG(압축천연가스)', '알코올', '등유', '전기', '태양열', '경유 하이브리드', 'LPG 하이브리드',\n",
       "       '수소', 'LNG(액화천연가스)', 'CNG 하이브리드'], dtype=object)"
      ]
     },
     "execution_count": 25,
     "metadata": {},
     "output_type": "execute_result"
    }
   ],
   "source": [
    "fuel_dict = {\n",
    "    'A90GS':'휘발유', \n",
    "    'A91DS':'경유',\n",
    "    'A92LP':'LPG(액화석유가스)', \n",
    "    'A90GH':'휘발유 하이브리드', \n",
    "    'A93EV':'전기', \n",
    "    'A91DH':'경유 하이브리드', \n",
    "    'A92CN':'CNG(압축천연가스)', \n",
    "    'A93HD':'수소', \n",
    "    'A92LH':'LPG 하이브리드', \n",
    "    'A94OT':'기타연료', \n",
    "    'A92CH':'CNG 하이브리드',\n",
    "    'A90AC':'알코올', \n",
    "    'A93SH':'태양열', \n",
    "    'A91KS':'등유', \n",
    "    'A92LN':'LNG(액화천연가스)', \n",
    "    'A90PH':'플러그인 하이브리드', \n",
    "}\n",
    "srcr['연료'] = srcr['연료'].replace(fuel_dict)\n",
    "srcr['연료'].unique()"
   ]
  },
  {
   "cell_type": "markdown",
   "metadata": {},
   "source": [
    "## 차종유형 코드 변환"
   ]
  },
  {
   "cell_type": "code",
   "execution_count": 26,
   "metadata": {},
   "outputs": [
    {
     "data": {
      "text/plain": [
       "array(['대형', '중형', '소형', '경형', nan], dtype=object)"
      ]
     },
     "execution_count": 26,
     "metadata": {},
     "output_type": "execute_result"
    }
   ],
   "source": [
    "ty_dict = {\n",
    "    'A30C':'경형', \n",
    "    'A30L':'대형', \n",
    "    'A30M':'중형', \n",
    "    'A30S':'소형',\n",
    "}\n",
    "srcr['차종유형'] = srcr['차종유형'].replace(ty_dict)\n",
    "srcr['차종유형'].unique()"
   ]
  },
  {
   "cell_type": "markdown",
   "metadata": {},
   "source": [
    "## 등록&제원 병합"
   ]
  },
  {
   "cell_type": "code",
   "execution_count": 27,
   "metadata": {},
   "outputs": [
    {
     "data": {
      "text/plain": [
       "(1390280, 17)"
      ]
     },
     "execution_count": 27,
     "metadata": {},
     "output_type": "execute_result"
    }
   ],
   "source": [
    "# 0.7s\n",
    "cs = carn.merge(srcr, on='제원관리번호', how='left')\n",
    "cs.shape"
   ]
  },
  {
   "cell_type": "code",
   "execution_count": 28,
   "metadata": {},
   "outputs": [
    {
     "data": {
      "text/html": [
       "<div>\n",
       "<style scoped>\n",
       "    .dataframe tbody tr th:only-of-type {\n",
       "        vertical-align: middle;\n",
       "    }\n",
       "\n",
       "    .dataframe tbody tr th {\n",
       "        vertical-align: top;\n",
       "    }\n",
       "\n",
       "    .dataframe thead th {\n",
       "        text-align: right;\n",
       "    }\n",
       "</style>\n",
       "<table border=\"1\" class=\"dataframe\">\n",
       "  <thead>\n",
       "    <tr style=\"text-align: right;\">\n",
       "      <th></th>\n",
       "      <th>차대번호</th>\n",
       "      <th>법정동코드</th>\n",
       "      <th>배출가스등급</th>\n",
       "      <th>배출가스인증번호</th>\n",
       "      <th>차량말소YN</th>\n",
       "      <th>제원관리번호</th>\n",
       "      <th>차량연식</th>\n",
       "      <th>차종</th>\n",
       "      <th>용도</th>\n",
       "      <th>최초등록일자</th>\n",
       "      <th>제작일자</th>\n",
       "      <th>연료</th>\n",
       "      <th>차종유형</th>\n",
       "      <th>제작사명</th>\n",
       "      <th>차명</th>\n",
       "      <th>자동차형식</th>\n",
       "      <th>엔진형식</th>\n",
       "    </tr>\n",
       "  </thead>\n",
       "  <tbody>\n",
       "    <tr>\n",
       "      <th>0</th>\n",
       "      <td>KNCSE06428K344169</td>\n",
       "      <td>4374025000</td>\n",
       "      <td>4</td>\n",
       "      <td>NaN</td>\n",
       "      <td>N</td>\n",
       "      <td>A0110003113533107</td>\n",
       "      <td>2008</td>\n",
       "      <td>화물</td>\n",
       "      <td>개인용</td>\n",
       "      <td>20220923.00</td>\n",
       "      <td>20080721.00</td>\n",
       "      <td>경유</td>\n",
       "      <td>소형</td>\n",
       "      <td>기아자동차(주)</td>\n",
       "      <td>봉고Ⅲ 1톤</td>\n",
       "      <td>SEE42J-A</td>\n",
       "      <td>J3</td>\n",
       "    </tr>\n",
       "    <tr>\n",
       "      <th>1</th>\n",
       "      <td>KMFZSX7JABU684137</td>\n",
       "      <td>4374025000</td>\n",
       "      <td>4</td>\n",
       "      <td>NaN</td>\n",
       "      <td>N</td>\n",
       "      <td>A0810006209153110</td>\n",
       "      <td>2011</td>\n",
       "      <td>화물</td>\n",
       "      <td>개인용</td>\n",
       "      <td>20220923.00</td>\n",
       "      <td>20101022.00</td>\n",
       "      <td>경유</td>\n",
       "      <td>소형</td>\n",
       "      <td>현대자동차(주)</td>\n",
       "      <td>포터Ⅱ(PORTERⅡ)</td>\n",
       "      <td>HRTJA-DX-B</td>\n",
       "      <td>D4CB</td>\n",
       "    </tr>\n",
       "    <tr>\n",
       "      <th>2</th>\n",
       "      <td>KMCGK17HP9C112030</td>\n",
       "      <td>4518010400</td>\n",
       "      <td>4</td>\n",
       "      <td>7MY-HD-24-28</td>\n",
       "      <td>N</td>\n",
       "      <td>A0810005008143209</td>\n",
       "      <td>2009</td>\n",
       "      <td>화물</td>\n",
       "      <td>개인용</td>\n",
       "      <td>20220407.00</td>\n",
       "      <td>20090316.00</td>\n",
       "      <td>경유</td>\n",
       "      <td>중형</td>\n",
       "      <td>현대자동차(주)</td>\n",
       "      <td>마이티군물자수송트럭</td>\n",
       "      <td>HD25-9MT0-LHFbF</td>\n",
       "      <td>D4GA</td>\n",
       "    </tr>\n",
       "    <tr>\n",
       "      <th>3</th>\n",
       "      <td>KNCSE01429K388374</td>\n",
       "      <td>2771026522</td>\n",
       "      <td>4</td>\n",
       "      <td>7MY-KM-14-65</td>\n",
       "      <td>N</td>\n",
       "      <td>A0110003115353108</td>\n",
       "      <td>2009</td>\n",
       "      <td>화물</td>\n",
       "      <td>개인용</td>\n",
       "      <td>20210909.00</td>\n",
       "      <td>20090312.00</td>\n",
       "      <td>경유</td>\n",
       "      <td>소형</td>\n",
       "      <td>기아자동차(주)</td>\n",
       "      <td>봉고Ⅲ 1톤</td>\n",
       "      <td>SET42K-A</td>\n",
       "      <td>J3</td>\n",
       "    </tr>\n",
       "    <tr>\n",
       "      <th>4</th>\n",
       "      <td>KNCSE01429K388695</td>\n",
       "      <td>2626010300</td>\n",
       "      <td>4</td>\n",
       "      <td>7MY-KM-14-65</td>\n",
       "      <td>N</td>\n",
       "      <td>A0110003115353108</td>\n",
       "      <td>2009</td>\n",
       "      <td>화물</td>\n",
       "      <td>개인용</td>\n",
       "      <td>20210902.00</td>\n",
       "      <td>20090317.00</td>\n",
       "      <td>경유</td>\n",
       "      <td>소형</td>\n",
       "      <td>기아자동차(주)</td>\n",
       "      <td>봉고Ⅲ 1톤</td>\n",
       "      <td>SET42K-A</td>\n",
       "      <td>J3</td>\n",
       "    </tr>\n",
       "  </tbody>\n",
       "</table>\n",
       "</div>"
      ],
      "text/plain": [
       "                차대번호       법정동코드 배출가스등급      배출가스인증번호 차량말소YN  \\\n",
       "0  KNCSE06428K344169  4374025000      4           NaN      N   \n",
       "1  KMFZSX7JABU684137  4374025000      4           NaN      N   \n",
       "2  KMCGK17HP9C112030  4518010400      4  7MY-HD-24-28      N   \n",
       "3  KNCSE01429K388374  2771026522      4  7MY-KM-14-65      N   \n",
       "4  KNCSE01429K388695  2626010300      4  7MY-KM-14-65      N   \n",
       "\n",
       "              제원관리번호  차량연식  차종   용도      최초등록일자        제작일자  연료 차종유형  \\\n",
       "0  A0110003113533107  2008  화물  개인용 20220923.00 20080721.00  경유   소형   \n",
       "1  A0810006209153110  2011  화물  개인용 20220923.00 20101022.00  경유   소형   \n",
       "2  A0810005008143209  2009  화물  개인용 20220407.00 20090316.00  경유   중형   \n",
       "3  A0110003115353108  2009  화물  개인용 20210909.00 20090312.00  경유   소형   \n",
       "4  A0110003115353108  2009  화물  개인용 20210902.00 20090317.00  경유   소형   \n",
       "\n",
       "       제작사명            차명            자동차형식  엔진형식  \n",
       "0  기아자동차(주)        봉고Ⅲ 1톤         SEE42J-A    J3  \n",
       "1  현대자동차(주)  포터Ⅱ(PORTERⅡ)       HRTJA-DX-B  D4CB  \n",
       "2  현대자동차(주)    마이티군물자수송트럭  HD25-9MT0-LHFbF  D4GA  \n",
       "3  기아자동차(주)        봉고Ⅲ 1톤         SET42K-A    J3  \n",
       "4  기아자동차(주)        봉고Ⅲ 1톤         SET42K-A    J3  "
      ]
     },
     "execution_count": 28,
     "metadata": {},
     "output_type": "execute_result"
    }
   ],
   "source": [
    "cs.head()"
   ]
  },
  {
   "cell_type": "markdown",
   "metadata": {},
   "source": [
    "## 정기&정밀 병합"
   ]
  },
  {
   "cell_type": "code",
   "execution_count": 29,
   "metadata": {},
   "outputs": [
    {
     "data": {
      "text/plain": [
       "Index(['차대번호', '검사방법', '검사종류', '검사판정', '무부하매연측정치1', '무부하매연측정치2', '무부하매연측정치3',\n",
       "       '무부하매연판정1', '검사일자', '주행거리', '무부하매연허용치1'],\n",
       "      dtype='object')"
      ]
     },
     "execution_count": 29,
     "metadata": {},
     "output_type": "execute_result"
    }
   ],
   "source": [
    "jgtr.columns"
   ]
  },
  {
   "cell_type": "code",
   "execution_count": 30,
   "metadata": {},
   "outputs": [
    {
     "data": {
      "text/plain": [
       "Index(['차대번호', '검사방법', '검사종류', '검사판정', '무부하매연측정치1', '무부하매연측정치2', '무부하매연측정치3',\n",
       "       '무부하매연판정1', '검사일자', '주행거리', '무부하매연허용치1'],\n",
       "      dtype='object')"
      ]
     },
     "execution_count": 30,
     "metadata": {},
     "output_type": "execute_result"
    }
   ],
   "source": [
    "eetr.columns"
   ]
  },
  {
   "cell_type": "code",
   "execution_count": 31,
   "metadata": {},
   "outputs": [],
   "source": [
    "jgtr['정기정밀'] = '정기'\n",
    "eetr['정기정밀'] = '정밀'"
   ]
  },
  {
   "cell_type": "code",
   "execution_count": 32,
   "metadata": {},
   "outputs": [
    {
     "data": {
      "text/plain": [
       "(168095776, 12)"
      ]
     },
     "execution_count": 32,
     "metadata": {},
     "output_type": "execute_result"
    }
   ],
   "source": [
    "# 39.6s\n",
    "ins = pd.concat([jgtr, eetr], ignore_index=True)\n",
    "ins.shape"
   ]
  },
  {
   "cell_type": "markdown",
   "metadata": {},
   "source": [
    "### 최근 검사만 활용"
   ]
  },
  {
   "cell_type": "code",
   "execution_count": 33,
   "metadata": {},
   "outputs": [
    {
     "data": {
      "text/plain": [
       "(34641431, 12)"
      ]
     },
     "execution_count": 33,
     "metadata": {},
     "output_type": "execute_result"
    }
   ],
   "source": [
    "# 4m 14.3s\n",
    "insm = ins.sort_values('검사일자', ascending=False).drop_duplicates('차대번호').reset_index(drop=True)\n",
    "insm.shape"
   ]
  },
  {
   "cell_type": "markdown",
   "metadata": {},
   "source": [
    "## 검사종류 코드 변환"
   ]
  },
  {
   "cell_type": "code",
   "execution_count": 34,
   "metadata": {},
   "outputs": [
    {
     "data": {
      "text/plain": [
       "array(['종합검사', '1부재검사(종합)', '종합검사(경과)', '2부재검사(종합)', '정기검사', '재검사(1부재검사)',\n",
       "       '재검사(2부재검사)', '정기(경과)검사', nan, '배출재검사(구변)', '구조변경검사',\n",
       "       '종합(정밀) 1부재검사', '종합(정밀) 2부재검사', '종합(정밀)', '종합(경과:정밀)', '정밀검사',\n",
       "       '특정재검사(배출)', '임시검사', '배출재검사', '관능재검사', '특정검사', '특정재검사(관능)',\n",
       "       '정밀검사(경과)', '특정검사(경과)', 'A21R05', 'A21R06', '관능재검사(임시)', 'A21E03'],\n",
       "      dtype=object)"
      ]
     },
     "execution_count": 34,
     "metadata": {},
     "output_type": "execute_result"
    }
   ],
   "source": [
    "# 27.5s\n",
    "knd_dict = {\n",
    "    'A21P01':'정밀검사', \n",
    "    'A1904':'정기검사', \n",
    "    'A21T06':'종합검사(경과)', \n",
    "    'A21T05':'종합검사', \n",
    "    'A21S01':'특정검사', \n",
    "    'A1902':'재검사(2부재검사)',\n",
    "    'A21R02':'2부재검사(종합)', \n",
    "    'A21P02':'정밀검사(경과)', \n",
    "    'A1903':'정기(경과)검사', \n",
    "    'A21S04':'특정재검사(배출)', \n",
    "    'A21E01':'배출재검사', \n",
    "    'A21R01':'1부재검사(종합)',\n",
    "    'A21C02':'구조변경검사', \n",
    "    'A21002':'관능재검사(임시)', \n",
    "    'A21S03':'특정재검사(관능)', \n",
    "    'A21S02':'특정검사(경과)', \n",
    "    'A1901':'재검사(1부재검사)', \n",
    "    'A21T02':'종합(정밀)',\n",
    "    'A21E02':'배출재검사(구변)', \n",
    "    'A21T01':'종합(경과:정밀)', \n",
    "    'A21T04':'종합(정밀) 2부재검사', \n",
    "    'A21001':'관능재검사', \n",
    "    'A21T03':'종합(정밀) 1부재검사', \n",
    "    'A21TMP':'임시검사', \n",
    "}\n",
    "insm['검사종류'] = insm['검사종류'].replace(knd_dict)\n",
    "insm['검사종류'].unique()"
   ]
  },
  {
   "cell_type": "markdown",
   "metadata": {},
   "source": [
    "## 검사방법 코드 변환"
   ]
  },
  {
   "cell_type": "code",
   "execution_count": 35,
   "metadata": {},
   "outputs": [
    {
     "data": {
      "text/plain": [
       "array(['부하검사(ASM-Idling)', '부하검사(KD-147)', '무부하검사(TSI)', '무부하검사(급가속)',\n",
       "       '부하검사(LUG DOWN)', '무부하검사(정지가동)', '부하검사(ASM2525)'], dtype=object)"
      ]
     },
     "execution_count": 35,
     "metadata": {},
     "output_type": "execute_result"
    }
   ],
   "source": [
    "# 14.9s\n",
    "mth_dict = {\n",
    "    'A18A':'무부하검사(TSI)', \n",
    "    'A18B':'무부하검사(급가속)', \n",
    "    'A18C':'무부하검사(정지가동)',\n",
    "    'A2301':'무부하검사(급가속)', \n",
    "    'A2302':'무부하검사(정지가동)',\n",
    "    'A2303':'무부하검사(TSI)', \n",
    "    'A2304':'부하검사(LUG DOWN)', \n",
    "    'A2305':'부하검사(ASM-Idling)', \n",
    "    'A2306':'부하검사(KD-147)', \n",
    "    'A2307':'부하검사(ASM2525)', \n",
    "}\n",
    "insm['검사방법'] = insm['검사방법'].replace(mth_dict)\n",
    "insm['검사방법'].unique()"
   ]
  },
  {
   "cell_type": "markdown",
   "metadata": {},
   "source": [
    "## 등록&제원&정기&정밀 병합"
   ]
  },
  {
   "cell_type": "code",
   "execution_count": 36,
   "metadata": {},
   "outputs": [
    {
     "data": {
      "text/plain": [
       "(1390280, 28)"
      ]
     },
     "execution_count": 36,
     "metadata": {},
     "output_type": "execute_result"
    }
   ],
   "source": [
    "# 51.4s\n",
    "csi = cs.merge(insm, on='차대번호', how='left')\n",
    "csi.shape"
   ]
  },
  {
   "cell_type": "code",
   "execution_count": 37,
   "metadata": {},
   "outputs": [
    {
     "data": {
      "text/plain": [
       "Index(['차대번호', '법정동코드', '배출가스등급', '배출가스인증번호', '차량말소YN', '제원관리번호', '차량연식', '차종',\n",
       "       '용도', '최초등록일자', '제작일자', '연료', '차종유형', '제작사명', '차명', '자동차형식', '엔진형식',\n",
       "       '검사방법', '검사종류', '검사판정', '무부하매연측정치1', '무부하매연측정치2', '무부하매연측정치3',\n",
       "       '무부하매연판정1', '검사일자', '주행거리', '무부하매연허용치1', '정기정밀'],\n",
       "      dtype='object')"
      ]
     },
     "execution_count": 37,
     "metadata": {},
     "output_type": "execute_result"
    }
   ],
   "source": [
    "csi.columns"
   ]
  },
  {
   "cell_type": "code",
   "execution_count": 38,
   "metadata": {},
   "outputs": [
    {
     "data": {
      "text/html": [
       "<div>\n",
       "<style scoped>\n",
       "    .dataframe tbody tr th:only-of-type {\n",
       "        vertical-align: middle;\n",
       "    }\n",
       "\n",
       "    .dataframe tbody tr th {\n",
       "        vertical-align: top;\n",
       "    }\n",
       "\n",
       "    .dataframe thead th {\n",
       "        text-align: right;\n",
       "    }\n",
       "</style>\n",
       "<table border=\"1\" class=\"dataframe\">\n",
       "  <thead>\n",
       "    <tr style=\"text-align: right;\">\n",
       "      <th></th>\n",
       "      <th>차대번호</th>\n",
       "      <th>법정동코드</th>\n",
       "      <th>배출가스등급</th>\n",
       "      <th>배출가스인증번호</th>\n",
       "      <th>차량말소YN</th>\n",
       "      <th>제원관리번호</th>\n",
       "      <th>차량연식</th>\n",
       "      <th>차종</th>\n",
       "      <th>용도</th>\n",
       "      <th>최초등록일자</th>\n",
       "      <th>...</th>\n",
       "      <th>검사종류</th>\n",
       "      <th>검사판정</th>\n",
       "      <th>무부하매연측정치1</th>\n",
       "      <th>무부하매연측정치2</th>\n",
       "      <th>무부하매연측정치3</th>\n",
       "      <th>무부하매연판정1</th>\n",
       "      <th>검사일자</th>\n",
       "      <th>주행거리</th>\n",
       "      <th>무부하매연허용치1</th>\n",
       "      <th>정기정밀</th>\n",
       "    </tr>\n",
       "  </thead>\n",
       "  <tbody>\n",
       "    <tr>\n",
       "      <th>0</th>\n",
       "      <td>KNCSE06428K344169</td>\n",
       "      <td>4374025000</td>\n",
       "      <td>4</td>\n",
       "      <td>NaN</td>\n",
       "      <td>N</td>\n",
       "      <td>A0110003113533107</td>\n",
       "      <td>2008</td>\n",
       "      <td>화물</td>\n",
       "      <td>개인용</td>\n",
       "      <td>20220923.00</td>\n",
       "      <td>...</td>\n",
       "      <td>NaN</td>\n",
       "      <td>NaN</td>\n",
       "      <td>NaN</td>\n",
       "      <td>NaN</td>\n",
       "      <td>NaN</td>\n",
       "      <td>NaN</td>\n",
       "      <td>NaN</td>\n",
       "      <td>NaN</td>\n",
       "      <td>NaN</td>\n",
       "      <td>NaN</td>\n",
       "    </tr>\n",
       "    <tr>\n",
       "      <th>1</th>\n",
       "      <td>KMFZSX7JABU684137</td>\n",
       "      <td>4374025000</td>\n",
       "      <td>4</td>\n",
       "      <td>NaN</td>\n",
       "      <td>N</td>\n",
       "      <td>A0810006209153110</td>\n",
       "      <td>2011</td>\n",
       "      <td>화물</td>\n",
       "      <td>개인용</td>\n",
       "      <td>20220923.00</td>\n",
       "      <td>...</td>\n",
       "      <td>정기검사</td>\n",
       "      <td>Y</td>\n",
       "      <td>16.00</td>\n",
       "      <td>NaN</td>\n",
       "      <td>NaN</td>\n",
       "      <td>Y</td>\n",
       "      <td>20230623.00</td>\n",
       "      <td>223409.00</td>\n",
       "      <td>20.00</td>\n",
       "      <td>정기</td>\n",
       "    </tr>\n",
       "    <tr>\n",
       "      <th>2</th>\n",
       "      <td>KMCGK17HP9C112030</td>\n",
       "      <td>4518010400</td>\n",
       "      <td>4</td>\n",
       "      <td>7MY-HD-24-28</td>\n",
       "      <td>N</td>\n",
       "      <td>A0810005008143209</td>\n",
       "      <td>2009</td>\n",
       "      <td>화물</td>\n",
       "      <td>개인용</td>\n",
       "      <td>20220407.00</td>\n",
       "      <td>...</td>\n",
       "      <td>정기(경과)검사</td>\n",
       "      <td>Y</td>\n",
       "      <td>5.00</td>\n",
       "      <td>NaN</td>\n",
       "      <td>NaN</td>\n",
       "      <td>Y</td>\n",
       "      <td>20230523.00</td>\n",
       "      <td>79425.00</td>\n",
       "      <td>20.00</td>\n",
       "      <td>정기</td>\n",
       "    </tr>\n",
       "    <tr>\n",
       "      <th>3</th>\n",
       "      <td>KNCSE01429K388374</td>\n",
       "      <td>2771026522</td>\n",
       "      <td>4</td>\n",
       "      <td>7MY-KM-14-65</td>\n",
       "      <td>N</td>\n",
       "      <td>A0110003115353108</td>\n",
       "      <td>2009</td>\n",
       "      <td>화물</td>\n",
       "      <td>개인용</td>\n",
       "      <td>20210909.00</td>\n",
       "      <td>...</td>\n",
       "      <td>2부재검사(종합)</td>\n",
       "      <td>Y</td>\n",
       "      <td>14.00</td>\n",
       "      <td>NaN</td>\n",
       "      <td>NaN</td>\n",
       "      <td>Y</td>\n",
       "      <td>20220810.00</td>\n",
       "      <td>50589.00</td>\n",
       "      <td>15.00</td>\n",
       "      <td>정밀</td>\n",
       "    </tr>\n",
       "    <tr>\n",
       "      <th>4</th>\n",
       "      <td>KNCSE01429K388695</td>\n",
       "      <td>2626010300</td>\n",
       "      <td>4</td>\n",
       "      <td>7MY-KM-14-65</td>\n",
       "      <td>N</td>\n",
       "      <td>A0110003115353108</td>\n",
       "      <td>2009</td>\n",
       "      <td>화물</td>\n",
       "      <td>개인용</td>\n",
       "      <td>20210902.00</td>\n",
       "      <td>...</td>\n",
       "      <td>종합검사(경과)</td>\n",
       "      <td>Y</td>\n",
       "      <td>7.00</td>\n",
       "      <td>NaN</td>\n",
       "      <td>NaN</td>\n",
       "      <td>Y</td>\n",
       "      <td>20221205.00</td>\n",
       "      <td>36669.00</td>\n",
       "      <td>15.00</td>\n",
       "      <td>정밀</td>\n",
       "    </tr>\n",
       "  </tbody>\n",
       "</table>\n",
       "<p>5 rows × 28 columns</p>\n",
       "</div>"
      ],
      "text/plain": [
       "                차대번호       법정동코드 배출가스등급      배출가스인증번호 차량말소YN  \\\n",
       "0  KNCSE06428K344169  4374025000      4           NaN      N   \n",
       "1  KMFZSX7JABU684137  4374025000      4           NaN      N   \n",
       "2  KMCGK17HP9C112030  4518010400      4  7MY-HD-24-28      N   \n",
       "3  KNCSE01429K388374  2771026522      4  7MY-KM-14-65      N   \n",
       "4  KNCSE01429K388695  2626010300      4  7MY-KM-14-65      N   \n",
       "\n",
       "              제원관리번호  차량연식  차종   용도      최초등록일자  ...       검사종류 검사판정  \\\n",
       "0  A0110003113533107  2008  화물  개인용 20220923.00  ...        NaN  NaN   \n",
       "1  A0810006209153110  2011  화물  개인용 20220923.00  ...       정기검사    Y   \n",
       "2  A0810005008143209  2009  화물  개인용 20220407.00  ...   정기(경과)검사    Y   \n",
       "3  A0110003115353108  2009  화물  개인용 20210909.00  ...  2부재검사(종합)    Y   \n",
       "4  A0110003115353108  2009  화물  개인용 20210902.00  ...   종합검사(경과)    Y   \n",
       "\n",
       "  무부하매연측정치1 무부하매연측정치2 무부하매연측정치3 무부하매연판정1        검사일자      주행거리 무부하매연허용치1 정기정밀  \n",
       "0       NaN       NaN       NaN      NaN         NaN       NaN       NaN  NaN  \n",
       "1     16.00       NaN       NaN        Y 20230623.00 223409.00     20.00   정기  \n",
       "2      5.00       NaN       NaN        Y 20230523.00  79425.00     20.00   정기  \n",
       "3     14.00       NaN       NaN        Y 20220810.00  50589.00     15.00   정밀  \n",
       "4      7.00       NaN       NaN        Y 20221205.00  36669.00     15.00   정밀  \n",
       "\n",
       "[5 rows x 28 columns]"
      ]
     },
     "execution_count": 38,
     "metadata": {},
     "output_type": "execute_result"
    }
   ],
   "source": [
    "csi.head()"
   ]
  },
  {
   "cell_type": "markdown",
   "metadata": {},
   "source": [
    "## 등록&제원&정기&정밀&법정동코드 병합"
   ]
  },
  {
   "cell_type": "code",
   "execution_count": 39,
   "metadata": {},
   "outputs": [
    {
     "data": {
      "text/plain": [
       "(1390280, 28)"
      ]
     },
     "execution_count": 39,
     "metadata": {},
     "output_type": "execute_result"
    }
   ],
   "source": [
    "csi.shape"
   ]
  },
  {
   "cell_type": "code",
   "execution_count": 40,
   "metadata": {},
   "outputs": [
    {
     "data": {
      "text/plain": [
       "0"
      ]
     },
     "execution_count": 40,
     "metadata": {},
     "output_type": "execute_result"
    }
   ],
   "source": [
    "csi['법정동코드'].isnull().sum()"
   ]
  },
  {
   "cell_type": "code",
   "execution_count": 41,
   "metadata": {},
   "outputs": [],
   "source": [
    "csi['법정동코드'] = csi['법정동코드'].astype('str')\n",
    "csi['법정동코드'] = csi['법정동코드'].str[:5] + '00000'\n",
    "csi['법정동코드'] = pd.to_numeric(csi['법정동코드'])"
   ]
  },
  {
   "cell_type": "code",
   "execution_count": 42,
   "metadata": {},
   "outputs": [],
   "source": [
    "df = csi.merge(coder, on='법정동코드', how='left')"
   ]
  },
  {
   "cell_type": "code",
   "execution_count": 43,
   "metadata": {},
   "outputs": [
    {
     "data": {
      "text/plain": [
       "0"
      ]
     },
     "execution_count": 43,
     "metadata": {},
     "output_type": "execute_result"
    }
   ],
   "source": [
    "df['시도'].isnull().sum()"
   ]
  },
  {
   "cell_type": "markdown",
   "metadata": {},
   "source": [
    "## rh 법정동코드 참고하여 법정동코드 수정"
   ]
  },
  {
   "cell_type": "code",
   "execution_count": 44,
   "metadata": {},
   "outputs": [],
   "source": [
    "df['법정동코드_수정'] = df['법정동코드'].copy()"
   ]
  },
  {
   "cell_type": "markdown",
   "metadata": {},
   "source": [
    "## 4등급 result 파일 참고하여 DPF유무 수정"
   ]
  },
  {
   "cell_type": "code",
   "execution_count": 45,
   "metadata": {},
   "outputs": [],
   "source": [
    "rdf = df.copy()"
   ]
  },
  {
   "cell_type": "code",
   "execution_count": 46,
   "metadata": {},
   "outputs": [
    {
     "data": {
      "text/plain": [
       "2092"
      ]
     },
     "execution_count": 46,
     "metadata": {},
     "output_type": "execute_result"
    }
   ],
   "source": [
    "len(set(rdf['차대번호'].unique()) - set(rs['차대번호'].unique()))"
   ]
  },
  {
   "cell_type": "code",
   "execution_count": 47,
   "metadata": {},
   "outputs": [
    {
     "data": {
      "text/plain": [
       "무       879481\n",
       "NaN     348422\n",
       "유       261897\n",
       "확인불가     12435\n",
       "Name: DPF유무_수정, dtype: int64"
      ]
     },
     "execution_count": 47,
     "metadata": {},
     "output_type": "execute_result"
    }
   ],
   "source": [
    "rs['DPF유무_수정'].value_counts(dropna=False)"
   ]
  },
  {
   "cell_type": "code",
   "execution_count": 48,
   "metadata": {},
   "outputs": [
    {
     "data": {
      "text/plain": [
       "(1502213, 2)"
      ]
     },
     "execution_count": 48,
     "metadata": {},
     "output_type": "execute_result"
    }
   ],
   "source": [
    "rs = rs.drop_duplicates('차대번호').reset_index(drop=True)\n",
    "rs.shape"
   ]
  },
  {
   "cell_type": "code",
   "execution_count": 49,
   "metadata": {},
   "outputs": [],
   "source": [
    "rdf1 = rdf.merge(rs, on='차대번호', how='left')"
   ]
  },
  {
   "cell_type": "code",
   "execution_count": 50,
   "metadata": {},
   "outputs": [
    {
     "data": {
      "text/plain": [
       "무       806991\n",
       "NaN     337658\n",
       "유       234291\n",
       "확인불가     11340\n",
       "Name: DPF유무_수정, dtype: int64"
      ]
     },
     "execution_count": 50,
     "metadata": {},
     "output_type": "execute_result"
    }
   ],
   "source": [
    "rdf1['DPF유무_수정'].value_counts(dropna=False)"
   ]
  },
  {
   "cell_type": "code",
   "execution_count": 51,
   "metadata": {},
   "outputs": [],
   "source": [
    "df = rdf1.copy()"
   ]
  },
  {
   "cell_type": "code",
   "execution_count": 52,
   "metadata": {},
   "outputs": [
    {
     "data": {
      "text/plain": [
       "(1390280, 32)"
      ]
     },
     "execution_count": 52,
     "metadata": {},
     "output_type": "execute_result"
    }
   ],
   "source": [
    "df.shape"
   ]
  },
  {
   "cell_type": "markdown",
   "metadata": {},
   "source": [
    "## 연료 확인"
   ]
  },
  {
   "cell_type": "code",
   "execution_count": 53,
   "metadata": {},
   "outputs": [
    {
     "data": {
      "text/plain": [
       "경유             1052802\n",
       "휘발유             313038\n",
       "LPG(액화석유가스)      24355\n",
       "NaN                 49\n",
       "기타연료                34\n",
       "CNG(압축천연가스)          1\n",
       "알코올                  1\n",
       "Name: 연료, dtype: int64"
      ]
     },
     "execution_count": 53,
     "metadata": {},
     "output_type": "execute_result"
    }
   ],
   "source": [
    "df['연료'].value_counts(dropna=False)"
   ]
  },
  {
   "cell_type": "markdown",
   "metadata": {},
   "source": [
    "## 연료 컬럼 추가"
   ]
  },
  {
   "cell_type": "code",
   "execution_count": 54,
   "metadata": {},
   "outputs": [],
   "source": [
    "df.loc[df['연료'] == '경유', 'fuel'] = '경유'\n",
    "df.loc[(df['연료'] == '휘발유') | (df['연료'] == 'LPG(액화석유가스)'), 'fuel'] = '휘발유_가스'"
   ]
  },
  {
   "cell_type": "markdown",
   "metadata": {},
   "source": [
    "# 분석"
   ]
  },
  {
   "cell_type": "markdown",
   "metadata": {},
   "source": [
    "## EG 분류"
   ]
  },
  {
   "cell_type": "code",
   "execution_count": 55,
   "metadata": {},
   "outputs": [
    {
     "data": {
      "text/plain": [
       "경유        1052802\n",
       "휘발유_가스     337393\n",
       "NaN            85\n",
       "Name: fuel, dtype: int64"
      ]
     },
     "execution_count": 55,
     "metadata": {},
     "output_type": "execute_result"
    }
   ],
   "source": [
    "df['fuel'].value_counts(dropna=False)"
   ]
  },
  {
   "cell_type": "code",
   "execution_count": 56,
   "metadata": {},
   "outputs": [
    {
     "name": "stderr",
     "output_type": "stream",
     "text": [
      "100%|██████████| 1390280/1390280 [00:03<00:00, 435414.54it/s]\n"
     ]
    },
    {
     "data": {
      "text/plain": [
       "1390280"
      ]
     },
     "execution_count": 56,
     "metadata": {},
     "output_type": "execute_result"
    }
   ],
   "source": [
    "grade_list = []\n",
    "for f, y, cy, e in tqdm(df[['fuel', '제작일자', '차량연식', 'DPF유무_수정']].values):\n",
    "    if (f == '휘발유_가스') and ( (19980101 <= y <= 20001231) or (1998 <= cy <= 2000) ):\n",
    "        grade_list.append('A')\n",
    "    elif (f == '휘발유_가스') and ( (y <= 19971231) or (cy <= 1997) ):\n",
    "        grade_list.append('B')\n",
    "    elif (f == '경유') and ( (y >= 20080101) or (cy >= 2008) ) and (e == '유'):\n",
    "        grade_list.append('A')\n",
    "    elif (f == '경유') and ( (y <= 20071231) or (cy <= 2007) )and (e == '유'):\n",
    "        grade_list.append('B')\n",
    "    elif (f == '경유') and ( (y >= 20080101) or (cy >= 2008) ) and (e == '무'):\n",
    "        grade_list.append('C')\n",
    "    elif (f == '경유') and ( (y <= 20071231) or (cy <= 2007) ) and (e == '무'):\n",
    "        grade_list.append('D')\n",
    "    else:\n",
    "        grade_list.append('X')\n",
    "len(grade_list)"
   ]
  },
  {
   "cell_type": "code",
   "execution_count": 57,
   "metadata": {},
   "outputs": [],
   "source": [
    "df['EG'] = grade_list"
   ]
  },
  {
   "cell_type": "code",
   "execution_count": 58,
   "metadata": {},
   "outputs": [
    {
     "data": {
      "text/plain": [
       "Index(['차대번호', '법정동코드', '배출가스등급', '배출가스인증번호', '차량말소YN', '제원관리번호', '차량연식', '차종',\n",
       "       '용도', '최초등록일자', '제작일자', '연료', '차종유형', '제작사명', '차명', '자동차형식', '엔진형식',\n",
       "       '검사방법', '검사종류', '검사판정', '무부하매연측정치1', '무부하매연측정치2', '무부하매연측정치3',\n",
       "       '무부하매연판정1', '검사일자', '주행거리', '무부하매연허용치1', '정기정밀', '시도', '시군구',\n",
       "       '법정동코드_수정', 'DPF유무_수정', 'fuel', 'EG'],\n",
       "      dtype='object')"
      ]
     },
     "execution_count": 58,
     "metadata": {},
     "output_type": "execute_result"
    }
   ],
   "source": [
    "df.columns"
   ]
  },
  {
   "cell_type": "markdown",
   "metadata": {},
   "source": [
    "# STD_BD_GRD4_CAR_CURSTT"
   ]
  },
  {
   "cell_type": "markdown",
   "metadata": {},
   "source": [
    "## 4등급차만 추출"
   ]
  },
  {
   "cell_type": "code",
   "execution_count": 59,
   "metadata": {},
   "outputs": [
    {
     "data": {
      "text/plain": [
       "(1390280, 34)"
      ]
     },
     "execution_count": 59,
     "metadata": {},
     "output_type": "execute_result"
    }
   ],
   "source": [
    "# 2.8s\n",
    "df1 = df[df['배출가스등급'] == '4'].reset_index(drop=True)\n",
    "df1.shape"
   ]
  },
  {
   "cell_type": "code",
   "execution_count": null,
   "metadata": {},
   "outputs": [],
   "source": []
  },
  {
   "cell_type": "code",
   "execution_count": 60,
   "metadata": {},
   "outputs": [
    {
     "name": "stdout",
     "output_type": "stream",
     "text": [
      "6MY-HD-24-12\n",
      "LMY-KM-07\n",
      "PMY-HD-17\n",
      "SMY-KM-04\n",
      "RMY-HD-19\n",
      "TMY-HD-26\n",
      "KMY-HD-05\n"
     ]
    }
   ],
   "source": [
    "# 동일 배번의 연료 다양한지 확인\n",
    "for one in df1['배출가스인증번호'].unique():\n",
    "    if len(df1.loc[df1['배출가스인증번호'] == one, '연료'].unique()) > 1:\n",
    "        print(one)"
   ]
  },
  {
   "cell_type": "code",
   "execution_count": 61,
   "metadata": {},
   "outputs": [
    {
     "data": {
      "text/plain": [
       "array(['경유', '휘발유'], dtype=object)"
      ]
     },
     "execution_count": 61,
     "metadata": {},
     "output_type": "execute_result"
    }
   ],
   "source": [
    "df1.loc[df1['배출가스인증번호'] == '6MY-HD-24-12', '연료'].unique()"
   ]
  },
  {
   "cell_type": "code",
   "execution_count": null,
   "metadata": {},
   "outputs": [],
   "source": []
  },
  {
   "cell_type": "code",
   "execution_count": 62,
   "metadata": {},
   "outputs": [
    {
     "data": {
      "text/plain": [
       "'20231026'"
      ]
     },
     "execution_count": 62,
     "metadata": {},
     "output_type": "execute_result"
    }
   ],
   "source": [
    "today_date = datetime.today().strftime(\"%Y%m%d\")\n",
    "today_date"
   ]
  },
  {
   "cell_type": "code",
   "execution_count": 63,
   "metadata": {},
   "outputs": [],
   "source": [
    "# df1['기준연월'] = '2022.12'\n",
    "df1['기준연월'] = today_date[:4] + '.' + today_date[4:6]"
   ]
  },
  {
   "cell_type": "code",
   "execution_count": 64,
   "metadata": {},
   "outputs": [],
   "source": [
    "df1['테이블생성일자'] = today_date"
   ]
  },
  {
   "cell_type": "code",
   "execution_count": 65,
   "metadata": {},
   "outputs": [
    {
     "data": {
      "text/plain": [
       "Index(['차대번호', '법정동코드', '배출가스등급', '배출가스인증번호', '차량말소YN', '제원관리번호', '차량연식', '차종',\n",
       "       '용도', '최초등록일자', '제작일자', '연료', '차종유형', '제작사명', '차명', '자동차형식', '엔진형식',\n",
       "       '검사방법', '검사종류', '검사판정', '무부하매연측정치1', '무부하매연측정치2', '무부하매연측정치3',\n",
       "       '무부하매연판정1', '검사일자', '주행거리', '무부하매연허용치1', '정기정밀', '시도', '시군구',\n",
       "       '법정동코드_수정', 'DPF유무_수정', 'fuel', 'EG', '기준연월', '테이블생성일자'],\n",
       "      dtype='object')"
      ]
     },
     "execution_count": 65,
     "metadata": {},
     "output_type": "execute_result"
    }
   ],
   "source": [
    "df1.columns"
   ]
  },
  {
   "cell_type": "code",
   "execution_count": 66,
   "metadata": {},
   "outputs": [
    {
     "data": {
      "text/plain": [
       "0    4374000000\n",
       "1    4374000000\n",
       "2    4518000000\n",
       "3    2771000000\n",
       "4    2626000000\n",
       "Name: 법정동코드_수정, dtype: object"
      ]
     },
     "execution_count": 66,
     "metadata": {},
     "output_type": "execute_result"
    }
   ],
   "source": [
    "df1['법정동코드_수정'] = df1['법정동코드_수정'].astype('str')\n",
    "df1['법정동코드_수정'].head()"
   ]
  },
  {
   "cell_type": "code",
   "execution_count": 67,
   "metadata": {},
   "outputs": [
    {
     "data": {
      "text/plain": [
       "(1390280, 26)"
      ]
     },
     "execution_count": 67,
     "metadata": {},
     "output_type": "execute_result"
    }
   ],
   "source": [
    "STD_BD_GRD4_CAR_CURSTT = df1[[\n",
    "    '테이블생성일자', \n",
    "    '기준연월', \n",
    "    '차대번호', \n",
    "    '제원관리번호', \n",
    "    '차종', \n",
    "    '용도',\n",
    "    '차량연식', \n",
    "    '차종유형', \n",
    "    '연료', \n",
    "    '법정동코드', \n",
    "    '시도',\n",
    "    '시군구',\n",
    "    '차명', \n",
    "    '제작사명', \n",
    "    '배출가스인증번호', \n",
    "    '배출가스등급', \n",
    "    'DPF유무_수정',\n",
    "    '검사방법', \n",
    "    '검사종류', \n",
    "    '검사판정', \n",
    "    '무부하매연측정치1', \n",
    "    '무부하매연판정1', \n",
    "    '무부하매연측정치2', \n",
    "    '무부하매연측정치3', \n",
    "    '법정동코드_수정', \n",
    "    'EG', \n",
    "    ]]\n",
    "STD_BD_GRD4_CAR_CURSTT.shape"
   ]
  },
  {
   "cell_type": "code",
   "execution_count": 68,
   "metadata": {},
   "outputs": [
    {
     "data": {
      "text/html": [
       "<div>\n",
       "<style scoped>\n",
       "    .dataframe tbody tr th:only-of-type {\n",
       "        vertical-align: middle;\n",
       "    }\n",
       "\n",
       "    .dataframe tbody tr th {\n",
       "        vertical-align: top;\n",
       "    }\n",
       "\n",
       "    .dataframe thead th {\n",
       "        text-align: right;\n",
       "    }\n",
       "</style>\n",
       "<table border=\"1\" class=\"dataframe\">\n",
       "  <thead>\n",
       "    <tr style=\"text-align: right;\">\n",
       "      <th></th>\n",
       "      <th>테이블생성일자</th>\n",
       "      <th>기준연월</th>\n",
       "      <th>차대번호</th>\n",
       "      <th>제원관리번호</th>\n",
       "      <th>차종</th>\n",
       "      <th>용도</th>\n",
       "      <th>차량연식</th>\n",
       "      <th>차종유형</th>\n",
       "      <th>연료</th>\n",
       "      <th>법정동코드</th>\n",
       "      <th>...</th>\n",
       "      <th>DPF유무_수정</th>\n",
       "      <th>검사방법</th>\n",
       "      <th>검사종류</th>\n",
       "      <th>검사판정</th>\n",
       "      <th>무부하매연측정치1</th>\n",
       "      <th>무부하매연판정1</th>\n",
       "      <th>무부하매연측정치2</th>\n",
       "      <th>무부하매연측정치3</th>\n",
       "      <th>법정동코드_수정</th>\n",
       "      <th>EG</th>\n",
       "    </tr>\n",
       "  </thead>\n",
       "  <tbody>\n",
       "    <tr>\n",
       "      <th>0</th>\n",
       "      <td>20231026</td>\n",
       "      <td>2023.10</td>\n",
       "      <td>KNCSE06428K344169</td>\n",
       "      <td>A0110003113533107</td>\n",
       "      <td>화물</td>\n",
       "      <td>개인용</td>\n",
       "      <td>2008</td>\n",
       "      <td>소형</td>\n",
       "      <td>경유</td>\n",
       "      <td>4374000000</td>\n",
       "      <td>...</td>\n",
       "      <td>무</td>\n",
       "      <td>NaN</td>\n",
       "      <td>NaN</td>\n",
       "      <td>NaN</td>\n",
       "      <td>NaN</td>\n",
       "      <td>NaN</td>\n",
       "      <td>NaN</td>\n",
       "      <td>NaN</td>\n",
       "      <td>4374000000</td>\n",
       "      <td>C</td>\n",
       "    </tr>\n",
       "    <tr>\n",
       "      <th>1</th>\n",
       "      <td>20231026</td>\n",
       "      <td>2023.10</td>\n",
       "      <td>KMFZSX7JABU684137</td>\n",
       "      <td>A0810006209153110</td>\n",
       "      <td>화물</td>\n",
       "      <td>개인용</td>\n",
       "      <td>2011</td>\n",
       "      <td>소형</td>\n",
       "      <td>경유</td>\n",
       "      <td>4374000000</td>\n",
       "      <td>...</td>\n",
       "      <td>NaN</td>\n",
       "      <td>무부하검사(급가속)</td>\n",
       "      <td>정기검사</td>\n",
       "      <td>Y</td>\n",
       "      <td>16.00</td>\n",
       "      <td>Y</td>\n",
       "      <td>NaN</td>\n",
       "      <td>NaN</td>\n",
       "      <td>4374000000</td>\n",
       "      <td>X</td>\n",
       "    </tr>\n",
       "    <tr>\n",
       "      <th>2</th>\n",
       "      <td>20231026</td>\n",
       "      <td>2023.10</td>\n",
       "      <td>KMCGK17HP9C112030</td>\n",
       "      <td>A0810005008143209</td>\n",
       "      <td>화물</td>\n",
       "      <td>개인용</td>\n",
       "      <td>2009</td>\n",
       "      <td>중형</td>\n",
       "      <td>경유</td>\n",
       "      <td>4518000000</td>\n",
       "      <td>...</td>\n",
       "      <td>유</td>\n",
       "      <td>무부하검사(급가속)</td>\n",
       "      <td>정기(경과)검사</td>\n",
       "      <td>Y</td>\n",
       "      <td>5.00</td>\n",
       "      <td>Y</td>\n",
       "      <td>NaN</td>\n",
       "      <td>NaN</td>\n",
       "      <td>4518000000</td>\n",
       "      <td>A</td>\n",
       "    </tr>\n",
       "    <tr>\n",
       "      <th>3</th>\n",
       "      <td>20231026</td>\n",
       "      <td>2023.10</td>\n",
       "      <td>KNCSE01429K388374</td>\n",
       "      <td>A0110003115353108</td>\n",
       "      <td>화물</td>\n",
       "      <td>개인용</td>\n",
       "      <td>2009</td>\n",
       "      <td>소형</td>\n",
       "      <td>경유</td>\n",
       "      <td>2771000000</td>\n",
       "      <td>...</td>\n",
       "      <td>무</td>\n",
       "      <td>부하검사(KD-147)</td>\n",
       "      <td>2부재검사(종합)</td>\n",
       "      <td>Y</td>\n",
       "      <td>14.00</td>\n",
       "      <td>Y</td>\n",
       "      <td>NaN</td>\n",
       "      <td>NaN</td>\n",
       "      <td>2771000000</td>\n",
       "      <td>C</td>\n",
       "    </tr>\n",
       "    <tr>\n",
       "      <th>4</th>\n",
       "      <td>20231026</td>\n",
       "      <td>2023.10</td>\n",
       "      <td>KNCSE01429K388695</td>\n",
       "      <td>A0110003115353108</td>\n",
       "      <td>화물</td>\n",
       "      <td>개인용</td>\n",
       "      <td>2009</td>\n",
       "      <td>소형</td>\n",
       "      <td>경유</td>\n",
       "      <td>2626000000</td>\n",
       "      <td>...</td>\n",
       "      <td>무</td>\n",
       "      <td>부하검사(KD-147)</td>\n",
       "      <td>종합검사(경과)</td>\n",
       "      <td>Y</td>\n",
       "      <td>7.00</td>\n",
       "      <td>Y</td>\n",
       "      <td>NaN</td>\n",
       "      <td>NaN</td>\n",
       "      <td>2626000000</td>\n",
       "      <td>C</td>\n",
       "    </tr>\n",
       "  </tbody>\n",
       "</table>\n",
       "<p>5 rows × 26 columns</p>\n",
       "</div>"
      ],
      "text/plain": [
       "    테이블생성일자     기준연월               차대번호             제원관리번호  차종   용도  차량연식  \\\n",
       "0  20231026  2023.10  KNCSE06428K344169  A0110003113533107  화물  개인용  2008   \n",
       "1  20231026  2023.10  KMFZSX7JABU684137  A0810006209153110  화물  개인용  2011   \n",
       "2  20231026  2023.10  KMCGK17HP9C112030  A0810005008143209  화물  개인용  2009   \n",
       "3  20231026  2023.10  KNCSE01429K388374  A0110003115353108  화물  개인용  2009   \n",
       "4  20231026  2023.10  KNCSE01429K388695  A0110003115353108  화물  개인용  2009   \n",
       "\n",
       "  차종유형  연료       법정동코드  ... DPF유무_수정          검사방법       검사종류 검사판정 무부하매연측정치1  \\\n",
       "0   소형  경유  4374000000  ...        무           NaN        NaN  NaN       NaN   \n",
       "1   소형  경유  4374000000  ...      NaN    무부하검사(급가속)       정기검사    Y     16.00   \n",
       "2   중형  경유  4518000000  ...        유    무부하검사(급가속)   정기(경과)검사    Y      5.00   \n",
       "3   소형  경유  2771000000  ...        무  부하검사(KD-147)  2부재검사(종합)    Y     14.00   \n",
       "4   소형  경유  2626000000  ...        무  부하검사(KD-147)   종합검사(경과)    Y      7.00   \n",
       "\n",
       "  무부하매연판정1 무부하매연측정치2 무부하매연측정치3    법정동코드_수정 EG  \n",
       "0      NaN       NaN       NaN  4374000000  C  \n",
       "1        Y       NaN       NaN  4374000000  X  \n",
       "2        Y       NaN       NaN  4518000000  A  \n",
       "3        Y       NaN       NaN  2771000000  C  \n",
       "4        Y       NaN       NaN  2626000000  C  \n",
       "\n",
       "[5 rows x 26 columns]"
      ]
     },
     "execution_count": 68,
     "metadata": {},
     "output_type": "execute_result"
    }
   ],
   "source": [
    "STD_BD_GRD4_CAR_CURSTT.head()"
   ]
  },
  {
   "cell_type": "code",
   "execution_count": 69,
   "metadata": {},
   "outputs": [],
   "source": [
    "ch_col_dict = {\n",
    "                '테이블생성일자':'LOAD_DT',\n",
    "                '기준연월':'CRTR_YM', \n",
    "                '차대번호':'VIN', \n",
    "                '제원관리번호':'MANG_MNG_NO', \n",
    "                '차종':'VHCTY_CD', \n",
    "                '용도':'PURPS_CD2', \n",
    "                '차량연식':'YRIDNW', \n",
    "                '차종유형':'VHCTY_TY', \n",
    "                '연료':'FUEL_CD', \n",
    "                '법정동코드':'STDG_CD', \n",
    "                '시도':'CTPV_NM', \n",
    "                '시군구':'SGG_NM', \n",
    "                '차명':'VHCNM', \n",
    "                '제작사명':'MNFCTR_NM', \n",
    "                '배출가스인증번호':'EXHST_GAS_CERT_NO_MOD', \n",
    "                '배출가스등급':'EXHST_GAS_GRD_CD_MOD',\n",
    "                'DPF유무_수정':'DPF_MNTNG_YN', \n",
    "                '검사방법':'INSP_MTHD', \n",
    "                '검사종류':'INSP_KND', \n",
    "                '검사판정':'INSP_JGMT', \n",
    "                '무부하매연측정치1':'NOLOD_SMO_MEVLU1', \n",
    "                '무부하매연판정1':'NOLOD_SMO_JGMT_YN1', \n",
    "                '무부하매연측정치2':'NOLOD_SMO_MEVLU2', \n",
    "                '무부하매연측정치3':'NOLOD_SMO_MEVLU3', \n",
    "                '법정동코드_수정':'STDG_CD_MOD',\n",
    "                'EG':'GRD4_MLSFC',\n",
    "\n",
    "                '제작일자':'FBCTN_YMD', \n",
    "                '차종분류':'VHCTY_CL_CD',\n",
    "                }"
   ]
  },
  {
   "cell_type": "code",
   "execution_count": 70,
   "metadata": {},
   "outputs": [
    {
     "data": {
      "text/plain": [
       "Index(['LOAD_DT', 'CRTR_YM', 'VIN', 'MANG_MNG_NO', 'VHCTY_CD', 'PURPS_CD2',\n",
       "       'YRIDNW', 'VHCTY_TY', 'FUEL_CD', 'STDG_CD', 'CTPV_NM', 'SGG_NM',\n",
       "       'VHCNM', 'MNFCTR_NM', 'EXHST_GAS_CERT_NO_MOD', 'EXHST_GAS_GRD_CD_MOD',\n",
       "       'DPF_MNTNG_YN', 'INSP_MTHD', 'INSP_KND', 'INSP_JGMT',\n",
       "       'NOLOD_SMO_MEVLU1', 'NOLOD_SMO_JGMT_YN1', 'NOLOD_SMO_MEVLU2',\n",
       "       'NOLOD_SMO_MEVLU3', 'STDG_CD_MOD', 'GRD4_MLSFC'],\n",
       "      dtype='object')"
      ]
     },
     "execution_count": 70,
     "metadata": {},
     "output_type": "execute_result"
    }
   ],
   "source": [
    "STD_BD_GRD4_CAR_CURSTT = STD_BD_GRD4_CAR_CURSTT.rename(columns=ch_col_dict)\n",
    "STD_BD_GRD4_CAR_CURSTT.columns"
   ]
  },
  {
   "cell_type": "code",
   "execution_count": 71,
   "metadata": {
    "tags": []
   },
   "outputs": [
    {
     "data": {
      "text/plain": [
       "(1390280, 26)"
      ]
     },
     "execution_count": 71,
     "metadata": {},
     "output_type": "execute_result"
    }
   ],
   "source": [
    "STD_BD_GRD4_CAR_CURSTT.shape"
   ]
  },
  {
   "cell_type": "markdown",
   "metadata": {},
   "source": [
    "## [출력] STD_BD_GRD4_CAR_CURSTT"
   ]
  },
  {
   "cell_type": "code",
   "execution_count": 72,
   "metadata": {
    "tags": []
   },
   "outputs": [],
   "source": [
    "# expdf = STD_BD_GRD4_CAR_CURSTT\n",
    "# table_nm = 'STD_BD_GRD4_CAR_CURSTT'.upper()\n",
    "\n",
    "# # 테이블 생성\n",
    "# sql = 'create or replace table ' + table_nm + '( \\n'\n",
    "\n",
    "# for idx,column in enumerate(expdf.columns):\n",
    "#     if 'float' in expdf[column].dtype.name:\n",
    "#         sql += column + ' float'\n",
    "#     elif 'int' in expdf[column].dtype.name:\n",
    "#         sql += column + ' number'\n",
    "#     else:\n",
    "#         sql += column + ' varchar(255)'\n",
    "\n",
    "#     if len(expdf.columns) - 1 != idx:\n",
    "#         sql += ','\n",
    "#     sql += '\\n'\n",
    "# sql += ')'    \n",
    "# we.execute(sql)\n",
    "\n",
    "# # 데이터 추가\n",
    "# # 9s\n",
    "# we.import_from_pandas(expdf, table_nm)"
   ]
  },
  {
   "cell_type": "code",
   "execution_count": 73,
   "metadata": {},
   "outputs": [],
   "source": [
    "# # 0s\n",
    "# STD_BD_GRD4_CAR_CURSTT.to_csv(os.path.join(df1_fold, 'STD_BD_GRD4_CAR_CURSTT.csv'), index=False)"
   ]
  },
  {
   "cell_type": "markdown",
   "metadata": {},
   "source": [
    "# 분석용 테이블 생성(pass)\n",
    "- STD_BD_GRD4_CAR_CURSTT_TOT\n",
    "- STD_BD_GRD4_SI\n",
    "- STD_BD_DAT_GRD4_CERT_NO_RVW\n",
    "- STD_BD_DAT_GRD4_SI"
   ]
  },
  {
   "cell_type": "markdown",
   "metadata": {},
   "source": [
    "## 1\\. 경유차만 추출"
   ]
  },
  {
   "cell_type": "code",
   "execution_count": 74,
   "metadata": {},
   "outputs": [],
   "source": [
    "df2 = df1[df1['연료'] == '경유'].reset_index(drop=True)"
   ]
  },
  {
   "cell_type": "code",
   "execution_count": 75,
   "metadata": {},
   "outputs": [
    {
     "data": {
      "text/plain": [
       "(1052802, 36)"
      ]
     },
     "execution_count": 75,
     "metadata": {},
     "output_type": "execute_result"
    }
   ],
   "source": [
    "df2.shape"
   ]
  },
  {
   "cell_type": "markdown",
   "metadata": {},
   "source": [
    "### 차대번호 10자리 연식"
   ]
  },
  {
   "cell_type": "code",
   "execution_count": 76,
   "metadata": {},
   "outputs": [],
   "source": [
    "df2['vin10'] = df2['차대번호'].str[9]"
   ]
  },
  {
   "cell_type": "code",
   "execution_count": 77,
   "metadata": {},
   "outputs": [],
   "source": [
    "vin10_dict = {'J':1988, 'K':1989, 'L':1990, 'M':1991, 'N':1992, 'P':1993, 'R':1994, 'S':1995, 'T':1996, 'V':1997, 'W':1998, 'X':1999, 'Y':2000, '1':2001, '2':2002, '3':2003, '4':2004, '5':2005, '6':2006, '7':2007, '8':2008, '9':2009, 'A':2010, 'B':2011, 'C':2012, 'D':2013, 'E':2014, 'F':2015, 'G':2016, 'H':2017}"
   ]
  },
  {
   "cell_type": "code",
   "execution_count": 78,
   "metadata": {},
   "outputs": [],
   "source": [
    "df2['vin10_year'] = df2['vin10'].map(vin10_dict, na_action='ignore')"
   ]
  },
  {
   "cell_type": "markdown",
   "metadata": {},
   "source": [
    "### 배인번호_수정 문자 타입으로 변경"
   ]
  },
  {
   "cell_type": "code",
   "execution_count": 79,
   "metadata": {},
   "outputs": [],
   "source": [
    "df2['배출가스인증번호'] = df2['배출가스인증번호'].astype('str')"
   ]
  },
  {
   "cell_type": "markdown",
   "metadata": {},
   "source": [
    "## 2\\. 차대번호 17자리 샘플"
   ]
  },
  {
   "cell_type": "code",
   "execution_count": 80,
   "metadata": {},
   "outputs": [
    {
     "data": {
      "text/plain": [
       "((1052792, 38), (10, 38))"
      ]
     },
     "execution_count": 80,
     "metadata": {},
     "output_type": "execute_result"
    }
   ],
   "source": [
    "df2y = df2.loc[df2['차대번호'].str.len() == 17].reset_index(drop=True)\n",
    "df2n = df2.loc[df2['차대번호'].str.len() != 17].reset_index(drop=True)\n",
    "df2y.shape, df2n.shape"
   ]
  },
  {
   "cell_type": "markdown",
   "metadata": {},
   "source": [
    "## 3\\. 차대번호 연식과 차량연식 동일여부 확인"
   ]
  },
  {
   "cell_type": "code",
   "execution_count": 81,
   "metadata": {},
   "outputs": [
    {
     "data": {
      "text/plain": [
       "((1052708, 38), (84, 38))"
      ]
     },
     "execution_count": 81,
     "metadata": {},
     "output_type": "execute_result"
    }
   ],
   "source": [
    "df3y = df2y.loc[df2y['vin10_year'] == df2y['차량연식']].reset_index(drop=True)\n",
    "df3n = df2y.loc[df2y['vin10_year'] != df2y['차량연식']].reset_index(drop=True)\n",
    "df3y.shape, df3n.shape"
   ]
  },
  {
   "cell_type": "markdown",
   "metadata": {},
   "source": [
    "## 4\\. 배번, 제번, 제작사명, 차명, 검사방법별 그룹화 and 100대 초과 추출"
   ]
  },
  {
   "cell_type": "code",
   "execution_count": 82,
   "metadata": {},
   "outputs": [
    {
     "data": {
      "text/plain": [
       "Index(['차대번호', '법정동코드', '배출가스등급', '배출가스인증번호', '차량말소YN', '제원관리번호', '차량연식', '차종',\n",
       "       '용도', '최초등록일자', '제작일자', '연료', '차종유형', '제작사명', '차명', '자동차형식', '엔진형식',\n",
       "       '검사방법', '검사종류', '검사판정', '무부하매연측정치1', '무부하매연측정치2', '무부하매연측정치3',\n",
       "       '무부하매연판정1', '검사일자', '주행거리', '무부하매연허용치1', '정기정밀', '시도', '시군구',\n",
       "       '법정동코드_수정', 'DPF유무_수정', 'fuel', 'EG', '기준연월', '테이블생성일자', 'vin10',\n",
       "       'vin10_year'],\n",
       "      dtype='object')"
      ]
     },
     "execution_count": 82,
     "metadata": {},
     "output_type": "execute_result"
    }
   ],
   "source": [
    "df3y.columns"
   ]
  },
  {
   "cell_type": "markdown",
   "metadata": {},
   "source": [
    "### 검사판정 Y만 활용"
   ]
  },
  {
   "cell_type": "code",
   "execution_count": 83,
   "metadata": {},
   "outputs": [
    {
     "data": {
      "text/plain": [
       "Y      987916\n",
       "N       60037\n",
       "NaN      4747\n",
       "8           8\n",
       "Name: 검사판정, dtype: int64"
      ]
     },
     "execution_count": 83,
     "metadata": {},
     "output_type": "execute_result"
    }
   ],
   "source": [
    "df3y['검사판정'].value_counts(dropna=False)"
   ]
  },
  {
   "cell_type": "code",
   "execution_count": 84,
   "metadata": {},
   "outputs": [
    {
     "data": {
      "text/html": [
       "<div>\n",
       "<style scoped>\n",
       "    .dataframe tbody tr th:only-of-type {\n",
       "        vertical-align: middle;\n",
       "    }\n",
       "\n",
       "    .dataframe tbody tr th {\n",
       "        vertical-align: top;\n",
       "    }\n",
       "\n",
       "    .dataframe thead th {\n",
       "        text-align: right;\n",
       "    }\n",
       "</style>\n",
       "<table border=\"1\" class=\"dataframe\">\n",
       "  <thead>\n",
       "    <tr style=\"text-align: right;\">\n",
       "      <th></th>\n",
       "      <th>배출가스인증번호</th>\n",
       "      <th>제작사명</th>\n",
       "      <th>차명</th>\n",
       "      <th>검사방법</th>\n",
       "      <th>제원관리번호</th>\n",
       "      <th>차량대수</th>\n",
       "    </tr>\n",
       "  </thead>\n",
       "  <tbody>\n",
       "    <tr>\n",
       "      <th>0</th>\n",
       "      <td>4MY-AD-20</td>\n",
       "      <td>아우디폭스바겐코리아(주)</td>\n",
       "      <td>아우디 A6 3.0 TDI Quattro</td>\n",
       "      <td>무부하검사(급가속)</td>\n",
       "      <td>02420000100031305</td>\n",
       "      <td>21</td>\n",
       "    </tr>\n",
       "    <tr>\n",
       "      <th>1</th>\n",
       "      <td>4MY-DC-33</td>\n",
       "      <td>타타대우상용차(주)</td>\n",
       "      <td>대우11.5톤장축카고트럭(DPF)</td>\n",
       "      <td>무부하검사(급가속)</td>\n",
       "      <td>A0310006701423306</td>\n",
       "      <td>1</td>\n",
       "    </tr>\n",
       "    <tr>\n",
       "      <th>2</th>\n",
       "      <td>4MY-DC-33</td>\n",
       "      <td>타타대우상용차(주)</td>\n",
       "      <td>대우11.5톤장축카고트럭(DPF)</td>\n",
       "      <td>부하검사(LUG DOWN)</td>\n",
       "      <td>A0310006701423306</td>\n",
       "      <td>5</td>\n",
       "    </tr>\n",
       "    <tr>\n",
       "      <th>3</th>\n",
       "      <td>4MY-KM-06</td>\n",
       "      <td>기아자동차(주)</td>\n",
       "      <td>봉고Ⅲ 1톤</td>\n",
       "      <td>부하검사(KD-147)</td>\n",
       "      <td>A0110003111493107</td>\n",
       "      <td>1</td>\n",
       "    </tr>\n",
       "    <tr>\n",
       "      <th>4</th>\n",
       "      <td>4MY-KM-06</td>\n",
       "      <td>기아자동차(주)</td>\n",
       "      <td>봉고Ⅲ 냉동차</td>\n",
       "      <td>무부하검사(급가속)</td>\n",
       "      <td>A0110003111783107</td>\n",
       "      <td>1</td>\n",
       "    </tr>\n",
       "    <tr>\n",
       "      <th>...</th>\n",
       "      <td>...</td>\n",
       "      <td>...</td>\n",
       "      <td>...</td>\n",
       "      <td>...</td>\n",
       "      <td>...</td>\n",
       "      <td>...</td>\n",
       "    </tr>\n",
       "    <tr>\n",
       "      <th>9710</th>\n",
       "      <td>nan</td>\n",
       "      <td>현대자동차(주)</td>\n",
       "      <td>리베로(LIBERO)</td>\n",
       "      <td>부하검사(KD-147)</td>\n",
       "      <td>A0810003402623205</td>\n",
       "      <td>1</td>\n",
       "    </tr>\n",
       "    <tr>\n",
       "      <th>9711</th>\n",
       "      <td>nan</td>\n",
       "      <td>현대자동차(주)</td>\n",
       "      <td>스타렉스(STAREX)</td>\n",
       "      <td>부하검사(KD-147)</td>\n",
       "      <td>A0810003702912205</td>\n",
       "      <td>1</td>\n",
       "    </tr>\n",
       "    <tr>\n",
       "      <th>9712</th>\n",
       "      <td>nan</td>\n",
       "      <td>현대자동차(주)</td>\n",
       "      <td>포터Ⅱ(PORTERⅡ)</td>\n",
       "      <td>무부하검사(급가속)</td>\n",
       "      <td>A0810006209153110</td>\n",
       "      <td>1</td>\n",
       "    </tr>\n",
       "    <tr>\n",
       "      <th>9713</th>\n",
       "      <td>nan</td>\n",
       "      <td>현대자동차(주)</td>\n",
       "      <td>포터Ⅱ(PORTERⅡ)</td>\n",
       "      <td>부하검사(KD-147)</td>\n",
       "      <td>A0810006205343107</td>\n",
       "      <td>1</td>\n",
       "    </tr>\n",
       "    <tr>\n",
       "      <th>9714</th>\n",
       "      <td>nan</td>\n",
       "      <td>현대자동차(주)</td>\n",
       "      <td>현대15톤덤프트럭</td>\n",
       "      <td>부하검사(LUG DOWN)</td>\n",
       "      <td>A0810007602393307</td>\n",
       "      <td>1</td>\n",
       "    </tr>\n",
       "  </tbody>\n",
       "</table>\n",
       "<p>9715 rows × 6 columns</p>\n",
       "</div>"
      ],
      "text/plain": [
       "       배출가스인증번호           제작사명                      차명            검사방법  \\\n",
       "0     4MY-AD-20  아우디폭스바겐코리아(주)  아우디 A6 3.0 TDI Quattro      무부하검사(급가속)   \n",
       "1     4MY-DC-33     타타대우상용차(주)      대우11.5톤장축카고트럭(DPF)      무부하검사(급가속)   \n",
       "2     4MY-DC-33     타타대우상용차(주)      대우11.5톤장축카고트럭(DPF)  부하검사(LUG DOWN)   \n",
       "3     4MY-KM-06       기아자동차(주)                  봉고Ⅲ 1톤    부하검사(KD-147)   \n",
       "4     4MY-KM-06       기아자동차(주)                 봉고Ⅲ 냉동차      무부하검사(급가속)   \n",
       "...         ...            ...                     ...             ...   \n",
       "9710        nan       현대자동차(주)             리베로(LIBERO)    부하검사(KD-147)   \n",
       "9711        nan       현대자동차(주)            스타렉스(STAREX)    부하검사(KD-147)   \n",
       "9712        nan       현대자동차(주)            포터Ⅱ(PORTERⅡ)      무부하검사(급가속)   \n",
       "9713        nan       현대자동차(주)            포터Ⅱ(PORTERⅡ)    부하검사(KD-147)   \n",
       "9714        nan       현대자동차(주)               현대15톤덤프트럭  부하검사(LUG DOWN)   \n",
       "\n",
       "                 제원관리번호  차량대수  \n",
       "0     02420000100031305    21  \n",
       "1     A0310006701423306     1  \n",
       "2     A0310006701423306     5  \n",
       "3     A0110003111493107     1  \n",
       "4     A0110003111783107     1  \n",
       "...                 ...   ...  \n",
       "9710  A0810003402623205     1  \n",
       "9711  A0810003702912205     1  \n",
       "9712  A0810006209153110     1  \n",
       "9713  A0810006205343107     1  \n",
       "9714  A0810007602393307     1  \n",
       "\n",
       "[9715 rows x 6 columns]"
      ]
     },
     "execution_count": 84,
     "metadata": {},
     "output_type": "execute_result"
    }
   ],
   "source": [
    "grp4 = df3y[df3y['검사판정'] == 'Y'].groupby(['배출가스인증번호', '제작사명', '차명', '검사방법', '제원관리번호']).agg({'차대번호':'count'}).reset_index()\n",
    "grp4 = grp4.rename(columns={'차대번호':'차량대수'})\n",
    "grp4"
   ]
  },
  {
   "cell_type": "code",
   "execution_count": 85,
   "metadata": {},
   "outputs": [
    {
     "data": {
      "text/plain": [
       "(9230, 6)"
      ]
     },
     "execution_count": 85,
     "metadata": {},
     "output_type": "execute_result"
    }
   ],
   "source": [
    "grp4 = grp4[grp4['배출가스인증번호'] != 'nan'].reset_index(drop=True)\n",
    "grp4.shape"
   ]
  },
  {
   "cell_type": "code",
   "execution_count": 86,
   "metadata": {},
   "outputs": [
    {
     "data": {
      "text/plain": [
       "count    9230.00\n",
       "mean      106.35\n",
       "std       627.24\n",
       "min         1.00\n",
       "25%         1.00\n",
       "50%         4.00\n",
       "75%        24.00\n",
       "max     26513.00\n",
       "Name: 차량대수, dtype: float64"
      ]
     },
     "execution_count": 86,
     "metadata": {},
     "output_type": "execute_result"
    }
   ],
   "source": [
    "grp4['차량대수'].describe()"
   ]
  },
  {
   "cell_type": "markdown",
   "metadata": {},
   "source": [
    "### 100대 초과 샘플만 활용"
   ]
  },
  {
   "cell_type": "code",
   "execution_count": 87,
   "metadata": {},
   "outputs": [
    {
     "data": {
      "text/plain": [
       "(1135, 6)"
      ]
     },
     "execution_count": 87,
     "metadata": {},
     "output_type": "execute_result"
    }
   ],
   "source": [
    "df4 = grp4[grp4['차량대수'] > 100].reset_index(drop=True)\n",
    "df4.shape"
   ]
  },
  {
   "cell_type": "code",
   "execution_count": 88,
   "metadata": {},
   "outputs": [
    {
     "data": {
      "text/plain": [
       "890415"
      ]
     },
     "execution_count": 88,
     "metadata": {},
     "output_type": "execute_result"
    }
   ],
   "source": [
    "df4['차량대수'].sum()"
   ]
  },
  {
   "cell_type": "markdown",
   "metadata": {},
   "source": [
    "## 5\\. 4번 조건에 해당되는 샘플만 추출"
   ]
  },
  {
   "cell_type": "code",
   "execution_count": 89,
   "metadata": {},
   "outputs": [
    {
     "data": {
      "text/plain": [
       "(890415, 38)"
      ]
     },
     "execution_count": 89,
     "metadata": {},
     "output_type": "execute_result"
    }
   ],
   "source": [
    "# 7m 43s\n",
    "df5 = pd.DataFrame()\n",
    "for one, two, three, four, five in df4[['배출가스인증번호', '제원관리번호', '제작사명', '차명', '검사방법']].values:\n",
    "    temp = df3y[(df3y['검사판정'] == 'Y') & (df3y['배출가스인증번호'] == one) & (df3y['제원관리번호'] == two) & (df3y['제작사명'] == three) & (df3y['차명'] == four) & (df3y['검사방법'] == five)].reset_index(drop=True)\n",
    "    df5 = pd.concat([df5, temp], ignore_index=True)\n",
    "df5.shape"
   ]
  },
  {
   "cell_type": "markdown",
   "metadata": {},
   "source": [
    "## 6\\. 5번 데이터셋에서 KPI, 그리드(표), SI(산점도)용 테이블 생성"
   ]
  },
  {
   "cell_type": "code",
   "execution_count": 90,
   "metadata": {},
   "outputs": [
    {
     "data": {
      "text/html": [
       "<div>\n",
       "<style scoped>\n",
       "    .dataframe tbody tr th:only-of-type {\n",
       "        vertical-align: middle;\n",
       "    }\n",
       "\n",
       "    .dataframe tbody tr th {\n",
       "        vertical-align: top;\n",
       "    }\n",
       "\n",
       "    .dataframe thead th {\n",
       "        text-align: right;\n",
       "    }\n",
       "</style>\n",
       "<table border=\"1\" class=\"dataframe\">\n",
       "  <thead>\n",
       "    <tr style=\"text-align: right;\">\n",
       "      <th></th>\n",
       "      <th>배출가스인증번호</th>\n",
       "      <th>제작사명</th>\n",
       "      <th>차명</th>\n",
       "      <th>검사방법</th>\n",
       "      <th>제원관리번호</th>\n",
       "      <th>q1</th>\n",
       "      <th>q2</th>\n",
       "      <th>q3</th>\n",
       "      <th>차량대수</th>\n",
       "    </tr>\n",
       "  </thead>\n",
       "  <tbody>\n",
       "    <tr>\n",
       "      <th>0</th>\n",
       "      <td>5MY-AD-13-06</td>\n",
       "      <td>아우디폭스바겐코리아(주)</td>\n",
       "      <td>Phaeton 3.0 TDI</td>\n",
       "      <td>무부하검사(급가속)</td>\n",
       "      <td>02420004800011305</td>\n",
       "      <td>0.00</td>\n",
       "      <td>0.00</td>\n",
       "      <td>0.00</td>\n",
       "      <td>136</td>\n",
       "    </tr>\n",
       "    <tr>\n",
       "      <th>1</th>\n",
       "      <td>5MY-AD-13-06</td>\n",
       "      <td>아우디폭스바겐코리아(주)</td>\n",
       "      <td>Phaeton 3.0 TDI</td>\n",
       "      <td>무부하검사(급가속)</td>\n",
       "      <td>02420004800021306</td>\n",
       "      <td>0.00</td>\n",
       "      <td>0.00</td>\n",
       "      <td>0.00</td>\n",
       "      <td>130</td>\n",
       "    </tr>\n",
       "    <tr>\n",
       "      <th>2</th>\n",
       "      <td>5MY-AD-14-08</td>\n",
       "      <td>아우디폭스바겐코리아(주)</td>\n",
       "      <td>Passat 2.0 TDI</td>\n",
       "      <td>부하검사(KD-147)</td>\n",
       "      <td>02420006800031206</td>\n",
       "      <td>0.00</td>\n",
       "      <td>0.00</td>\n",
       "      <td>1.00</td>\n",
       "      <td>201</td>\n",
       "    </tr>\n",
       "    <tr>\n",
       "      <th>3</th>\n",
       "      <td>5MY-AD-14-08</td>\n",
       "      <td>아우디폭스바겐코리아(주)</td>\n",
       "      <td>Passat 2.0 TDI</td>\n",
       "      <td>부하검사(KD-147)</td>\n",
       "      <td>02420006800111207</td>\n",
       "      <td>0.00</td>\n",
       "      <td>0.00</td>\n",
       "      <td>1.00</td>\n",
       "      <td>260</td>\n",
       "    </tr>\n",
       "    <tr>\n",
       "      <th>4</th>\n",
       "      <td>5MY-AD-14-18</td>\n",
       "      <td>아우디폭스바겐코리아(주)</td>\n",
       "      <td>Golf 2.0 TDI</td>\n",
       "      <td>부하검사(KD-147)</td>\n",
       "      <td>02420004900031207</td>\n",
       "      <td>0.00</td>\n",
       "      <td>0.00</td>\n",
       "      <td>1.00</td>\n",
       "      <td>314</td>\n",
       "    </tr>\n",
       "    <tr>\n",
       "      <th>...</th>\n",
       "      <td>...</td>\n",
       "      <td>...</td>\n",
       "      <td>...</td>\n",
       "      <td>...</td>\n",
       "      <td>...</td>\n",
       "      <td>...</td>\n",
       "      <td>...</td>\n",
       "      <td>...</td>\n",
       "      <td>...</td>\n",
       "    </tr>\n",
       "    <tr>\n",
       "      <th>1130</th>\n",
       "      <td>9MY-KM-14-41</td>\n",
       "      <td>기아자동차(주)</td>\n",
       "      <td>카니발</td>\n",
       "      <td>부하검사(KD-147)</td>\n",
       "      <td>A0110003800871309</td>\n",
       "      <td>1.00</td>\n",
       "      <td>4.00</td>\n",
       "      <td>8.00</td>\n",
       "      <td>915</td>\n",
       "    </tr>\n",
       "    <tr>\n",
       "      <th>1131</th>\n",
       "      <td>9MY-KM-14-41</td>\n",
       "      <td>기아자동차(주)</td>\n",
       "      <td>카니발</td>\n",
       "      <td>부하검사(KD-147)</td>\n",
       "      <td>A0110003800901310</td>\n",
       "      <td>0.00</td>\n",
       "      <td>4.00</td>\n",
       "      <td>8.00</td>\n",
       "      <td>976</td>\n",
       "    </tr>\n",
       "    <tr>\n",
       "      <th>1132</th>\n",
       "      <td>9MY-KM-14-41</td>\n",
       "      <td>기아자동차(주)</td>\n",
       "      <td>카니발</td>\n",
       "      <td>부하검사(KD-147)</td>\n",
       "      <td>A0110003800911310</td>\n",
       "      <td>1.00</td>\n",
       "      <td>4.00</td>\n",
       "      <td>8.00</td>\n",
       "      <td>1131</td>\n",
       "    </tr>\n",
       "    <tr>\n",
       "      <th>1133</th>\n",
       "      <td>9MY-PA-13-1</td>\n",
       "      <td>(주)볼보자동차코리아</td>\n",
       "      <td>볼보 XC60D5</td>\n",
       "      <td>무부하검사(급가속)</td>\n",
       "      <td>00920003200021309</td>\n",
       "      <td>0.00</td>\n",
       "      <td>0.00</td>\n",
       "      <td>0.00</td>\n",
       "      <td>136</td>\n",
       "    </tr>\n",
       "    <tr>\n",
       "      <th>1134</th>\n",
       "      <td>AMY-JL-13-9</td>\n",
       "      <td>(주)재규어랜드로버코리아</td>\n",
       "      <td>프리랜더 TD4</td>\n",
       "      <td>무부하검사(급가속)</td>\n",
       "      <td>04220000900021309</td>\n",
       "      <td>0.00</td>\n",
       "      <td>0.00</td>\n",
       "      <td>0.00</td>\n",
       "      <td>303</td>\n",
       "    </tr>\n",
       "  </tbody>\n",
       "</table>\n",
       "<p>1135 rows × 9 columns</p>\n",
       "</div>"
      ],
      "text/plain": [
       "          배출가스인증번호           제작사명               차명          검사방법  \\\n",
       "0     5MY-AD-13-06  아우디폭스바겐코리아(주)  Phaeton 3.0 TDI    무부하검사(급가속)   \n",
       "1     5MY-AD-13-06  아우디폭스바겐코리아(주)  Phaeton 3.0 TDI    무부하검사(급가속)   \n",
       "2     5MY-AD-14-08  아우디폭스바겐코리아(주)   Passat 2.0 TDI  부하검사(KD-147)   \n",
       "3     5MY-AD-14-08  아우디폭스바겐코리아(주)   Passat 2.0 TDI  부하검사(KD-147)   \n",
       "4     5MY-AD-14-18  아우디폭스바겐코리아(주)     Golf 2.0 TDI  부하검사(KD-147)   \n",
       "...            ...            ...              ...           ...   \n",
       "1130  9MY-KM-14-41       기아자동차(주)              카니발  부하검사(KD-147)   \n",
       "1131  9MY-KM-14-41       기아자동차(주)              카니발  부하검사(KD-147)   \n",
       "1132  9MY-KM-14-41       기아자동차(주)              카니발  부하검사(KD-147)   \n",
       "1133   9MY-PA-13-1    (주)볼보자동차코리아        볼보 XC60D5    무부하검사(급가속)   \n",
       "1134   AMY-JL-13-9  (주)재규어랜드로버코리아         프리랜더 TD4    무부하검사(급가속)   \n",
       "\n",
       "                 제원관리번호   q1   q2   q3  차량대수  \n",
       "0     02420004800011305 0.00 0.00 0.00   136  \n",
       "1     02420004800021306 0.00 0.00 0.00   130  \n",
       "2     02420006800031206 0.00 0.00 1.00   201  \n",
       "3     02420006800111207 0.00 0.00 1.00   260  \n",
       "4     02420004900031207 0.00 0.00 1.00   314  \n",
       "...                 ...  ...  ...  ...   ...  \n",
       "1130  A0110003800871309 1.00 4.00 8.00   915  \n",
       "1131  A0110003800901310 0.00 4.00 8.00   976  \n",
       "1132  A0110003800911310 1.00 4.00 8.00  1131  \n",
       "1133  00920003200021309 0.00 0.00 0.00   136  \n",
       "1134  04220000900021309 0.00 0.00 0.00   303  \n",
       "\n",
       "[1135 rows x 9 columns]"
      ]
     },
     "execution_count": 90,
     "metadata": {},
     "output_type": "execute_result"
    }
   ],
   "source": [
    "grp6 = df5.groupby(['배출가스인증번호', '제작사명', '차명', '검사방법', '제원관리번호']).agg({'무부하매연측정치1':[lambda x:x.describe()['25%'], lambda x:x.describe()['50%'], lambda x:x.describe()['75%']], '차대번호':'count'}).reset_index()\n",
    "grp6.columns = ['배출가스인증번호', '제작사명', '차명', '검사방법', '제원관리번호', 'q1', 'q2', 'q3', '차량대수']\n",
    "grp6"
   ]
  },
  {
   "cell_type": "code",
   "execution_count": 91,
   "metadata": {},
   "outputs": [
    {
     "data": {
      "text/plain": [
       "'20231026'"
      ]
     },
     "execution_count": 91,
     "metadata": {},
     "output_type": "execute_result"
    }
   ],
   "source": [
    "today_date = datetime.today().strftime(\"%Y%m%d\")\n",
    "today_date"
   ]
  },
  {
   "cell_type": "code",
   "execution_count": 92,
   "metadata": {},
   "outputs": [],
   "source": [
    "grp6['테이블생성일자'] = today_date"
   ]
  },
  {
   "cell_type": "code",
   "execution_count": 93,
   "metadata": {},
   "outputs": [
    {
     "data": {
      "text/plain": [
       "(1135, 10)"
      ]
     },
     "execution_count": 93,
     "metadata": {},
     "output_type": "execute_result"
    }
   ],
   "source": [
    "STD_BD_GRD4_CAR_CURSTT_TOT = grp6[[\n",
    "    '테이블생성일자',\n",
    "    '차명',\n",
    "    '제작사명', \n",
    "    '제원관리번호', \n",
    "    '배출가스인증번호', \n",
    "    '검사방법', \n",
    "    'q1', \n",
    "    'q2', \n",
    "    'q3',\n",
    "    '차량대수',\n",
    "    ]]\n",
    "STD_BD_GRD4_CAR_CURSTT_TOT.shape"
   ]
  },
  {
   "cell_type": "code",
   "execution_count": 94,
   "metadata": {},
   "outputs": [],
   "source": [
    "chc_dict = {\n",
    "    '테이블생성일자':'LOAD_DT', \n",
    "    '차명':'VHCNM',\n",
    "    '제작사명':'MNFCTR_NM', \n",
    "    '제원관리번호':'MANG_MNG_NO', \n",
    "    '배출가스인증번호':'EXHST_GAS_CERT_NO_MOD', \n",
    "    '검사방법':'INSP_MTHD', \n",
    "    'q1':'LOWR_QRT',\n",
    "    'q2':'MID_QRT',\n",
    "    'q3':'UP_QRT',\n",
    "    '차량대수':'VHCL_MKCNT',\n",
    "\n",
    "    # '무부하매연측정치1':'NOLOD_SMO_MEVLU1', \n",
    "    # '차종':'VHCTY_CD', \n",
    "    # '용도':'PURPS_CD2', \n",
    "    # '차종유형':'CHCTY_TY', \n",
    "    # '법정동코드':'STDG_CD', \n",
    "    # '검사종류':'INSP_KND', \n",
    "    # '검사판정':'INSP_JGMT', \n",
    "    # '무부하매연판정1':'NOLOD_SMO_JGMT_YN1',\n",
    "    # '차대번호':'VIN', \n",
    "    # '등급_수정':'EXHST_GAS_GRD_CD_MOD', \n",
    "    # 'DPF유무_수정':'DPF_MNTNG_YN', \n",
    "    # '시도명':'CTPV_NM', \n",
    "    # '시군구명':'SGG_NM', \n",
    "    # '차종분류':'VHCTY_CL_CD', \n",
    "    }"
   ]
  },
  {
   "cell_type": "code",
   "execution_count": 95,
   "metadata": {},
   "outputs": [
    {
     "data": {
      "text/plain": [
       "Index(['LOAD_DT', 'VHCNM', 'MNFCTR_NM', 'MANG_MNG_NO', 'EXHST_GAS_CERT_NO_MOD',\n",
       "       'INSP_MTHD', 'LOWR_QRT', 'MID_QRT', 'UP_QRT', 'VHCL_MKCNT'],\n",
       "      dtype='object')"
      ]
     },
     "execution_count": 95,
     "metadata": {},
     "output_type": "execute_result"
    }
   ],
   "source": [
    "STD_BD_GRD4_CAR_CURSTT_TOT = STD_BD_GRD4_CAR_CURSTT_TOT.rename(columns=chc_dict)\n",
    "STD_BD_GRD4_CAR_CURSTT_TOT.columns"
   ]
  },
  {
   "cell_type": "markdown",
   "metadata": {},
   "source": [
    "### [출력] STD_BD_GRD4_CAR_CURSTT_TOT"
   ]
  },
  {
   "cell_type": "code",
   "execution_count": 96,
   "metadata": {},
   "outputs": [],
   "source": [
    "# expdf = STD_BD_GRD4_CAR_CURSTT_TOT\n",
    "# table_nm = 'STD_BD_GRD4_CAR_CURSTT_TOT'.upper()\n",
    "\n",
    "# # 테이블 생성\n",
    "# sql = 'create or replace table ' + table_nm + '( \\n'\n",
    "\n",
    "# for idx,column in enumerate(expdf.columns):\n",
    "#     if 'float' in expdf[column].dtype.name:\n",
    "#         sql += column + ' float'\n",
    "#     elif 'int' in expdf[column].dtype.name:\n",
    "#         sql += column + ' number'\n",
    "#     else:\n",
    "#         sql += column + ' varchar(255)'\n",
    "\n",
    "#     if len(expdf.columns) - 1 != idx:\n",
    "#         sql += ','\n",
    "#     sql += '\\n'\n",
    "# sql += ')'    \n",
    "# we.execute(sql)\n",
    "\n",
    "# # 데이터 추가\n",
    "# # 1s\n",
    "# we.import_from_pandas(expdf, table_nm)"
   ]
  },
  {
   "cell_type": "code",
   "execution_count": 97,
   "metadata": {},
   "outputs": [],
   "source": [
    "# # 0s\n",
    "# STD_BD_GRD4_CAR_CURSTT_TOT.to_csv(os.path.join(df1_fold, 'STD_BD_GRD4_CAR_CURSTT_TOT.csv'), index=False)"
   ]
  },
  {
   "cell_type": "code",
   "execution_count": 98,
   "metadata": {},
   "outputs": [
    {
     "data": {
      "text/plain": [
       "(890415, 17)"
      ]
     },
     "execution_count": 98,
     "metadata": {},
     "output_type": "execute_result"
    }
   ],
   "source": [
    "sidf = df5[[\n",
    "    '차대번호', \n",
    "    '제원관리번호', \n",
    "    '차종', \n",
    "    '차량연식', \n",
    "    '차명', \n",
    "    '차종유형', \n",
    "    '제작사명', \n",
    "    '연료', \n",
    "    '법정동코드', \n",
    "    '배출가스인증번호', \n",
    "    '검사방법', \n",
    "    '검사종류', \n",
    "    '검사판정', \n",
    "    '주행거리', \n",
    "    '무부하매연판정1', \n",
    "    '무부하매연허용치1', \n",
    "    '무부하매연측정치1'\n",
    "    ]]\n",
    "sidf.shape"
   ]
  },
  {
   "cell_type": "code",
   "execution_count": 99,
   "metadata": {},
   "outputs": [
    {
     "data": {
      "text/plain": [
       "2023"
      ]
     },
     "execution_count": 99,
     "metadata": {},
     "output_type": "execute_result"
    }
   ],
   "source": [
    "current_yr = int(datetime.today().strftime(\"%Y\"))\n",
    "current_yr"
   ]
  },
  {
   "cell_type": "code",
   "execution_count": 100,
   "metadata": {},
   "outputs": [
    {
     "name": "stderr",
     "output_type": "stream",
     "text": [
      "C:\\Users\\kbjung\\AppData\\Local\\Temp\\ipykernel_21908\\4139794486.py:1: SettingWithCopyWarning: \n",
      "A value is trying to be set on a copy of a slice from a DataFrame.\n",
      "Try using .loc[row_indexer,col_indexer] = value instead\n",
      "\n",
      "See the caveats in the documentation: https://pandas.pydata.org/pandas-docs/stable/user_guide/indexing.html#returning-a-view-versus-a-copy\n",
      "  sidf['차령'] = current_yr - sidf['차량연식']\n",
      "C:\\Users\\kbjung\\AppData\\Local\\Temp\\ipykernel_21908\\4139794486.py:2: SettingWithCopyWarning: \n",
      "A value is trying to be set on a copy of a slice from a DataFrame.\n",
      "Try using .loc[row_indexer,col_indexer] = value instead\n",
      "\n",
      "See the caveats in the documentation: https://pandas.pydata.org/pandas-docs/stable/user_guide/indexing.html#returning-a-view-versus-a-copy\n",
      "  sidf['SI'] = sidf['무부하매연측정치1'] / sidf['무부하매연허용치1']\n"
     ]
    }
   ],
   "source": [
    "sidf['차령'] = current_yr - sidf['차량연식']\n",
    "sidf['SI'] = sidf['무부하매연측정치1'] / sidf['무부하매연허용치1']"
   ]
  },
  {
   "cell_type": "code",
   "execution_count": 101,
   "metadata": {},
   "outputs": [
    {
     "data": {
      "text/plain": [
       "차량연식        0\n",
       "차령          0\n",
       "SI      27901\n",
       "dtype: int64"
      ]
     },
     "execution_count": 101,
     "metadata": {},
     "output_type": "execute_result"
    }
   ],
   "source": [
    "sidf[['차량연식', '차령', 'SI']].isnull().sum()"
   ]
  },
  {
   "cell_type": "code",
   "execution_count": 102,
   "metadata": {},
   "outputs": [
    {
     "name": "stderr",
     "output_type": "stream",
     "text": [
      "C:\\Users\\kbjung\\AppData\\Local\\Temp\\ipykernel_21908\\3010636050.py:1: SettingWithCopyWarning: \n",
      "A value is trying to be set on a copy of a slice from a DataFrame.\n",
      "Try using .loc[row_indexer,col_indexer] = value instead\n",
      "\n",
      "See the caveats in the documentation: https://pandas.pydata.org/pandas-docs/stable/user_guide/indexing.html#returning-a-view-versus-a-copy\n",
      "  sidf['테이블생성일자'] = today_date\n"
     ]
    }
   ],
   "source": [
    "sidf['테이블생성일자'] = today_date"
   ]
  },
  {
   "cell_type": "code",
   "execution_count": 103,
   "metadata": {},
   "outputs": [
    {
     "data": {
      "text/plain": [
       "(890415, 20)"
      ]
     },
     "execution_count": 103,
     "metadata": {},
     "output_type": "execute_result"
    }
   ],
   "source": [
    "sidf.shape"
   ]
  },
  {
   "cell_type": "code",
   "execution_count": 104,
   "metadata": {},
   "outputs": [],
   "source": [
    "sidf1 = sidf[[\n",
    "    '테이블생성일자', \n",
    "    '차대번호', \n",
    "    '제원관리번호', \n",
    "    '차명', \n",
    "    '제작사명', \n",
    "    '배출가스인증번호', \n",
    "    '검사방법',\n",
    "    '주행거리', \n",
    "    '차령',\n",
    "    'SI', \n",
    "    ]]"
   ]
  },
  {
   "cell_type": "code",
   "execution_count": 105,
   "metadata": {},
   "outputs": [],
   "source": [
    "chc_dict = {\n",
    "    '테이블생성일자':'LOAD_DT',\n",
    "    '차대번호':'VIN', \n",
    "    '제원관리번호':'MANG_MNG_NO', \n",
    "    '차명':'VHCNM',\n",
    "    '제작사명':'MNFCTR_NM', \n",
    "    '배출가스인증번호':'EXHST_GAS_CERT_NO_MOD', \n",
    "    '검사방법':'INSP_MTHD', \n",
    "    '주행거리':'DRVNG_DSTNC',\n",
    "    '차령':'VHCAG',\n",
    "    \n",
    "    # '차종':'VHCTY_CD', \n",
    "    # '연식':'YRIDNW', \n",
    "    # '차종유형':'VHCTY_TY', \n",
    "    # '연료':'FUEL_CD',\n",
    "    # '법정동코드':'STDG_CD', \n",
    "    # '검사종류':'INSP_KND', \n",
    "    # '검사판정':'INSP_JGMT', \n",
    "    # '무부하매연판정1':'NOLOD_SMO_JGMT_YN1',\n",
    "    # '무부하매연허용치1':'NOLOD_SMO_PRMT_VAL1',\n",
    "    # '무부하매연측정치1':'NOLOD_SMO_MEVLU1', \n",
    "    }"
   ]
  },
  {
   "cell_type": "code",
   "execution_count": 106,
   "metadata": {},
   "outputs": [
    {
     "data": {
      "text/plain": [
       "Index(['LOAD_DT', 'VIN', 'MANG_MNG_NO', 'VHCNM', 'MNFCTR_NM',\n",
       "       'EXHST_GAS_CERT_NO_MOD', 'INSP_MTHD', 'DRVNG_DSTNC', 'VHCAG', 'SI'],\n",
       "      dtype='object')"
      ]
     },
     "execution_count": 106,
     "metadata": {},
     "output_type": "execute_result"
    }
   ],
   "source": [
    "STD_BD_GRD4_SI = sidf1.rename(columns=chc_dict)\n",
    "STD_BD_GRD4_SI.columns"
   ]
  },
  {
   "cell_type": "markdown",
   "metadata": {},
   "source": [
    "### [출력] STD_BD_GRD4_SI"
   ]
  },
  {
   "cell_type": "code",
   "execution_count": 107,
   "metadata": {},
   "outputs": [],
   "source": [
    "# expdf = STD_BD_GRD4_SI\n",
    "# table_nm = 'STD_BD_GRD4_SI'.upper()\n",
    "\n",
    "# # 테이블 생성\n",
    "# sql = 'create or replace table ' + table_nm + '( \\n'\n",
    "\n",
    "# for idx,column in enumerate(expdf.columns):\n",
    "#     # if 'float' in expdf[column].dtype.name:\n",
    "#     #     sql += column + ' float'\n",
    "#     # elif 'int' in expdf[column].dtype.name:\n",
    "#     #     sql += column + ' number'\n",
    "#     # else:\n",
    "#     sql += column + ' varchar(255)'\n",
    "\n",
    "#     if len(expdf.columns) - 1 != idx:\n",
    "#         sql += ','\n",
    "#     sql += '\\n'\n",
    "# sql += ')'    \n",
    "# we.execute(sql)\n",
    "\n",
    "# # 데이터 추가\n",
    "# # 6s\n",
    "# we.import_from_pandas(expdf, table_nm)"
   ]
  },
  {
   "cell_type": "code",
   "execution_count": 108,
   "metadata": {},
   "outputs": [],
   "source": [
    "# # 0s\n",
    "# STD_BD_GRD4_SI.to_csv(os.path.join(df1_fold, 'STD_BD_GRD4_SI.csv'), index=False)"
   ]
  },
  {
   "cell_type": "markdown",
   "metadata": {},
   "source": [
    "## 7\\. 5번 데이터셋에서 DAT용 (검토구분 계산) 테이블 생성"
   ]
  },
  {
   "cell_type": "markdown",
   "metadata": {},
   "source": [
    "### 검토구분(양호/주의 판정) "
   ]
  },
  {
   "cell_type": "code",
   "execution_count": 109,
   "metadata": {},
   "outputs": [],
   "source": [
    "# grp6 : df5.groupby(['배출가스인증번호', '제작사명', '차명', '검사방법', '제원관리번호'])\n",
    "grp7 = grp6.copy()"
   ]
  },
  {
   "cell_type": "code",
   "execution_count": 110,
   "metadata": {},
   "outputs": [
    {
     "data": {
      "text/html": [
       "<div>\n",
       "<style scoped>\n",
       "    .dataframe tbody tr th:only-of-type {\n",
       "        vertical-align: middle;\n",
       "    }\n",
       "\n",
       "    .dataframe tbody tr th {\n",
       "        vertical-align: top;\n",
       "    }\n",
       "\n",
       "    .dataframe thead th {\n",
       "        text-align: right;\n",
       "    }\n",
       "</style>\n",
       "<table border=\"1\" class=\"dataframe\">\n",
       "  <thead>\n",
       "    <tr style=\"text-align: right;\">\n",
       "      <th></th>\n",
       "      <th>배출가스인증번호</th>\n",
       "      <th>제작사명</th>\n",
       "      <th>차명</th>\n",
       "      <th>검사방법</th>\n",
       "      <th>제원관리번호</th>\n",
       "      <th>q1</th>\n",
       "      <th>q2</th>\n",
       "      <th>q3</th>\n",
       "      <th>차량대수</th>\n",
       "      <th>테이블생성일자</th>\n",
       "      <th>q2_mean</th>\n",
       "    </tr>\n",
       "  </thead>\n",
       "  <tbody>\n",
       "    <tr>\n",
       "      <th>0</th>\n",
       "      <td>5MY-AD-13-06</td>\n",
       "      <td>아우디폭스바겐코리아(주)</td>\n",
       "      <td>Phaeton 3.0 TDI</td>\n",
       "      <td>무부하검사(급가속)</td>\n",
       "      <td>02420004800011305</td>\n",
       "      <td>0.00</td>\n",
       "      <td>0.00</td>\n",
       "      <td>0.00</td>\n",
       "      <td>136</td>\n",
       "      <td>20231026</td>\n",
       "      <td>0.00</td>\n",
       "    </tr>\n",
       "    <tr>\n",
       "      <th>1</th>\n",
       "      <td>5MY-AD-13-06</td>\n",
       "      <td>아우디폭스바겐코리아(주)</td>\n",
       "      <td>Phaeton 3.0 TDI</td>\n",
       "      <td>무부하검사(급가속)</td>\n",
       "      <td>02420004800021306</td>\n",
       "      <td>0.00</td>\n",
       "      <td>0.00</td>\n",
       "      <td>0.00</td>\n",
       "      <td>130</td>\n",
       "      <td>20231026</td>\n",
       "      <td>0.00</td>\n",
       "    </tr>\n",
       "    <tr>\n",
       "      <th>2</th>\n",
       "      <td>5MY-AD-14-08</td>\n",
       "      <td>아우디폭스바겐코리아(주)</td>\n",
       "      <td>Passat 2.0 TDI</td>\n",
       "      <td>부하검사(KD-147)</td>\n",
       "      <td>02420006800031206</td>\n",
       "      <td>0.00</td>\n",
       "      <td>0.00</td>\n",
       "      <td>1.00</td>\n",
       "      <td>201</td>\n",
       "      <td>20231026</td>\n",
       "      <td>0.00</td>\n",
       "    </tr>\n",
       "    <tr>\n",
       "      <th>3</th>\n",
       "      <td>5MY-AD-14-08</td>\n",
       "      <td>아우디폭스바겐코리아(주)</td>\n",
       "      <td>Passat 2.0 TDI</td>\n",
       "      <td>부하검사(KD-147)</td>\n",
       "      <td>02420006800111207</td>\n",
       "      <td>0.00</td>\n",
       "      <td>0.00</td>\n",
       "      <td>1.00</td>\n",
       "      <td>260</td>\n",
       "      <td>20231026</td>\n",
       "      <td>0.00</td>\n",
       "    </tr>\n",
       "    <tr>\n",
       "      <th>4</th>\n",
       "      <td>5MY-AD-14-18</td>\n",
       "      <td>아우디폭스바겐코리아(주)</td>\n",
       "      <td>Golf 2.0 TDI</td>\n",
       "      <td>부하검사(KD-147)</td>\n",
       "      <td>02420004900031207</td>\n",
       "      <td>0.00</td>\n",
       "      <td>0.00</td>\n",
       "      <td>1.00</td>\n",
       "      <td>314</td>\n",
       "      <td>20231026</td>\n",
       "      <td>0.00</td>\n",
       "    </tr>\n",
       "    <tr>\n",
       "      <th>...</th>\n",
       "      <td>...</td>\n",
       "      <td>...</td>\n",
       "      <td>...</td>\n",
       "      <td>...</td>\n",
       "      <td>...</td>\n",
       "      <td>...</td>\n",
       "      <td>...</td>\n",
       "      <td>...</td>\n",
       "      <td>...</td>\n",
       "      <td>...</td>\n",
       "      <td>...</td>\n",
       "    </tr>\n",
       "    <tr>\n",
       "      <th>1130</th>\n",
       "      <td>9MY-KM-14-41</td>\n",
       "      <td>기아자동차(주)</td>\n",
       "      <td>카니발</td>\n",
       "      <td>부하검사(KD-147)</td>\n",
       "      <td>A0110003800871309</td>\n",
       "      <td>1.00</td>\n",
       "      <td>4.00</td>\n",
       "      <td>8.00</td>\n",
       "      <td>915</td>\n",
       "      <td>20231026</td>\n",
       "      <td>4.29</td>\n",
       "    </tr>\n",
       "    <tr>\n",
       "      <th>1131</th>\n",
       "      <td>9MY-KM-14-41</td>\n",
       "      <td>기아자동차(주)</td>\n",
       "      <td>카니발</td>\n",
       "      <td>부하검사(KD-147)</td>\n",
       "      <td>A0110003800901310</td>\n",
       "      <td>0.00</td>\n",
       "      <td>4.00</td>\n",
       "      <td>8.00</td>\n",
       "      <td>976</td>\n",
       "      <td>20231026</td>\n",
       "      <td>4.29</td>\n",
       "    </tr>\n",
       "    <tr>\n",
       "      <th>1132</th>\n",
       "      <td>9MY-KM-14-41</td>\n",
       "      <td>기아자동차(주)</td>\n",
       "      <td>카니발</td>\n",
       "      <td>부하검사(KD-147)</td>\n",
       "      <td>A0110003800911310</td>\n",
       "      <td>1.00</td>\n",
       "      <td>4.00</td>\n",
       "      <td>8.00</td>\n",
       "      <td>1131</td>\n",
       "      <td>20231026</td>\n",
       "      <td>4.29</td>\n",
       "    </tr>\n",
       "    <tr>\n",
       "      <th>1133</th>\n",
       "      <td>9MY-PA-13-1</td>\n",
       "      <td>(주)볼보자동차코리아</td>\n",
       "      <td>볼보 XC60D5</td>\n",
       "      <td>무부하검사(급가속)</td>\n",
       "      <td>00920003200021309</td>\n",
       "      <td>0.00</td>\n",
       "      <td>0.00</td>\n",
       "      <td>0.00</td>\n",
       "      <td>136</td>\n",
       "      <td>20231026</td>\n",
       "      <td>0.00</td>\n",
       "    </tr>\n",
       "    <tr>\n",
       "      <th>1134</th>\n",
       "      <td>AMY-JL-13-9</td>\n",
       "      <td>(주)재규어랜드로버코리아</td>\n",
       "      <td>프리랜더 TD4</td>\n",
       "      <td>무부하검사(급가속)</td>\n",
       "      <td>04220000900021309</td>\n",
       "      <td>0.00</td>\n",
       "      <td>0.00</td>\n",
       "      <td>0.00</td>\n",
       "      <td>303</td>\n",
       "      <td>20231026</td>\n",
       "      <td>0.00</td>\n",
       "    </tr>\n",
       "  </tbody>\n",
       "</table>\n",
       "<p>1135 rows × 11 columns</p>\n",
       "</div>"
      ],
      "text/plain": [
       "          배출가스인증번호           제작사명               차명          검사방법  \\\n",
       "0     5MY-AD-13-06  아우디폭스바겐코리아(주)  Phaeton 3.0 TDI    무부하검사(급가속)   \n",
       "1     5MY-AD-13-06  아우디폭스바겐코리아(주)  Phaeton 3.0 TDI    무부하검사(급가속)   \n",
       "2     5MY-AD-14-08  아우디폭스바겐코리아(주)   Passat 2.0 TDI  부하검사(KD-147)   \n",
       "3     5MY-AD-14-08  아우디폭스바겐코리아(주)   Passat 2.0 TDI  부하검사(KD-147)   \n",
       "4     5MY-AD-14-18  아우디폭스바겐코리아(주)     Golf 2.0 TDI  부하검사(KD-147)   \n",
       "...            ...            ...              ...           ...   \n",
       "1130  9MY-KM-14-41       기아자동차(주)              카니발  부하검사(KD-147)   \n",
       "1131  9MY-KM-14-41       기아자동차(주)              카니발  부하검사(KD-147)   \n",
       "1132  9MY-KM-14-41       기아자동차(주)              카니발  부하검사(KD-147)   \n",
       "1133   9MY-PA-13-1    (주)볼보자동차코리아        볼보 XC60D5    무부하검사(급가속)   \n",
       "1134   AMY-JL-13-9  (주)재규어랜드로버코리아         프리랜더 TD4    무부하검사(급가속)   \n",
       "\n",
       "                 제원관리번호   q1   q2   q3  차량대수   테이블생성일자  q2_mean  \n",
       "0     02420004800011305 0.00 0.00 0.00   136  20231026     0.00  \n",
       "1     02420004800021306 0.00 0.00 0.00   130  20231026     0.00  \n",
       "2     02420006800031206 0.00 0.00 1.00   201  20231026     0.00  \n",
       "3     02420006800111207 0.00 0.00 1.00   260  20231026     0.00  \n",
       "4     02420004900031207 0.00 0.00 1.00   314  20231026     0.00  \n",
       "...                 ...  ...  ...  ...   ...       ...      ...  \n",
       "1130  A0110003800871309 1.00 4.00 8.00   915  20231026     4.29  \n",
       "1131  A0110003800901310 0.00 4.00 8.00   976  20231026     4.29  \n",
       "1132  A0110003800911310 1.00 4.00 8.00  1131  20231026     4.29  \n",
       "1133  00920003200021309 0.00 0.00 0.00   136  20231026     0.00  \n",
       "1134  04220000900021309 0.00 0.00 0.00   303  20231026     0.00  \n",
       "\n",
       "[1135 rows x 11 columns]"
      ]
     },
     "execution_count": 110,
     "metadata": {},
     "output_type": "execute_result"
    }
   ],
   "source": [
    "grp7['q2_mean'] = grp7.groupby(['배출가스인증번호', '제작사명', '차명', '검사방법'])['q2'].transform('mean')\n",
    "grp7"
   ]
  },
  {
   "cell_type": "code",
   "execution_count": 111,
   "metadata": {},
   "outputs": [],
   "source": [
    "grp7.loc[(grp7['q2'] > grp7['q2_mean']*5) | (grp7['q2'] < grp7['q2_mean']/5), '검토구분'] = '주의'\n",
    "grp7['검토구분'] = grp7['검토구분'].fillna('양호')"
   ]
  },
  {
   "cell_type": "code",
   "execution_count": 112,
   "metadata": {},
   "outputs": [
    {
     "data": {
      "text/plain": [
       "양호    1119\n",
       "주의      16\n",
       "Name: 검토구분, dtype: int64"
      ]
     },
     "execution_count": 112,
     "metadata": {},
     "output_type": "execute_result"
    }
   ],
   "source": [
    "grp7['검토구분'].value_counts(dropna=False)"
   ]
  },
  {
   "cell_type": "code",
   "execution_count": 113,
   "metadata": {},
   "outputs": [
    {
     "data": {
      "text/html": [
       "<div>\n",
       "<style scoped>\n",
       "    .dataframe tbody tr th:only-of-type {\n",
       "        vertical-align: middle;\n",
       "    }\n",
       "\n",
       "    .dataframe tbody tr th {\n",
       "        vertical-align: top;\n",
       "    }\n",
       "\n",
       "    .dataframe thead th {\n",
       "        text-align: right;\n",
       "    }\n",
       "</style>\n",
       "<table border=\"1\" class=\"dataframe\">\n",
       "  <thead>\n",
       "    <tr style=\"text-align: right;\">\n",
       "      <th></th>\n",
       "      <th>배출가스인증번호</th>\n",
       "      <th>제작사명</th>\n",
       "      <th>차명</th>\n",
       "      <th>검사방법</th>\n",
       "      <th>제원관리번호</th>\n",
       "      <th>q1</th>\n",
       "      <th>q2</th>\n",
       "      <th>q3</th>\n",
       "      <th>차량대수</th>\n",
       "      <th>테이블생성일자</th>\n",
       "      <th>q2_mean</th>\n",
       "      <th>검토구분</th>\n",
       "    </tr>\n",
       "  </thead>\n",
       "  <tbody>\n",
       "    <tr>\n",
       "      <th>0</th>\n",
       "      <td>5MY-AD-13-06</td>\n",
       "      <td>아우디폭스바겐코리아(주)</td>\n",
       "      <td>Phaeton 3.0 TDI</td>\n",
       "      <td>무부하검사(급가속)</td>\n",
       "      <td>02420004800011305</td>\n",
       "      <td>0.00</td>\n",
       "      <td>0.00</td>\n",
       "      <td>0.00</td>\n",
       "      <td>136</td>\n",
       "      <td>20231026</td>\n",
       "      <td>0.00</td>\n",
       "      <td>양호</td>\n",
       "    </tr>\n",
       "    <tr>\n",
       "      <th>1</th>\n",
       "      <td>5MY-AD-13-06</td>\n",
       "      <td>아우디폭스바겐코리아(주)</td>\n",
       "      <td>Phaeton 3.0 TDI</td>\n",
       "      <td>무부하검사(급가속)</td>\n",
       "      <td>02420004800021306</td>\n",
       "      <td>0.00</td>\n",
       "      <td>0.00</td>\n",
       "      <td>0.00</td>\n",
       "      <td>130</td>\n",
       "      <td>20231026</td>\n",
       "      <td>0.00</td>\n",
       "      <td>양호</td>\n",
       "    </tr>\n",
       "    <tr>\n",
       "      <th>2</th>\n",
       "      <td>5MY-AD-14-08</td>\n",
       "      <td>아우디폭스바겐코리아(주)</td>\n",
       "      <td>Passat 2.0 TDI</td>\n",
       "      <td>부하검사(KD-147)</td>\n",
       "      <td>02420006800031206</td>\n",
       "      <td>0.00</td>\n",
       "      <td>0.00</td>\n",
       "      <td>1.00</td>\n",
       "      <td>201</td>\n",
       "      <td>20231026</td>\n",
       "      <td>0.00</td>\n",
       "      <td>양호</td>\n",
       "    </tr>\n",
       "    <tr>\n",
       "      <th>3</th>\n",
       "      <td>5MY-AD-14-08</td>\n",
       "      <td>아우디폭스바겐코리아(주)</td>\n",
       "      <td>Passat 2.0 TDI</td>\n",
       "      <td>부하검사(KD-147)</td>\n",
       "      <td>02420006800111207</td>\n",
       "      <td>0.00</td>\n",
       "      <td>0.00</td>\n",
       "      <td>1.00</td>\n",
       "      <td>260</td>\n",
       "      <td>20231026</td>\n",
       "      <td>0.00</td>\n",
       "      <td>양호</td>\n",
       "    </tr>\n",
       "    <tr>\n",
       "      <th>4</th>\n",
       "      <td>5MY-AD-14-18</td>\n",
       "      <td>아우디폭스바겐코리아(주)</td>\n",
       "      <td>Golf 2.0 TDI</td>\n",
       "      <td>부하검사(KD-147)</td>\n",
       "      <td>02420004900031207</td>\n",
       "      <td>0.00</td>\n",
       "      <td>0.00</td>\n",
       "      <td>1.00</td>\n",
       "      <td>314</td>\n",
       "      <td>20231026</td>\n",
       "      <td>0.00</td>\n",
       "      <td>양호</td>\n",
       "    </tr>\n",
       "  </tbody>\n",
       "</table>\n",
       "</div>"
      ],
      "text/plain": [
       "       배출가스인증번호           제작사명               차명          검사방법  \\\n",
       "0  5MY-AD-13-06  아우디폭스바겐코리아(주)  Phaeton 3.0 TDI    무부하검사(급가속)   \n",
       "1  5MY-AD-13-06  아우디폭스바겐코리아(주)  Phaeton 3.0 TDI    무부하검사(급가속)   \n",
       "2  5MY-AD-14-08  아우디폭스바겐코리아(주)   Passat 2.0 TDI  부하검사(KD-147)   \n",
       "3  5MY-AD-14-08  아우디폭스바겐코리아(주)   Passat 2.0 TDI  부하검사(KD-147)   \n",
       "4  5MY-AD-14-18  아우디폭스바겐코리아(주)     Golf 2.0 TDI  부하검사(KD-147)   \n",
       "\n",
       "              제원관리번호   q1   q2   q3  차량대수   테이블생성일자  q2_mean 검토구분  \n",
       "0  02420004800011305 0.00 0.00 0.00   136  20231026     0.00   양호  \n",
       "1  02420004800021306 0.00 0.00 0.00   130  20231026     0.00   양호  \n",
       "2  02420006800031206 0.00 0.00 1.00   201  20231026     0.00   양호  \n",
       "3  02420006800111207 0.00 0.00 1.00   260  20231026     0.00   양호  \n",
       "4  02420004900031207 0.00 0.00 1.00   314  20231026     0.00   양호  "
      ]
     },
     "execution_count": 113,
     "metadata": {},
     "output_type": "execute_result"
    }
   ],
   "source": [
    "grp7.head()"
   ]
  },
  {
   "cell_type": "code",
   "execution_count": 130,
   "metadata": {},
   "outputs": [
    {
     "data": {
      "text/plain": [
       "67"
      ]
     },
     "execution_count": 130,
     "metadata": {},
     "output_type": "execute_result"
    }
   ],
   "source": [
    "len(grp7.loc[grp7['검토구분'] == '양호', '배출가스인증번호'].unique())"
   ]
  },
  {
   "cell_type": "code",
   "execution_count": 131,
   "metadata": {},
   "outputs": [
    {
     "data": {
      "text/plain": [
       "6"
      ]
     },
     "execution_count": 131,
     "metadata": {},
     "output_type": "execute_result"
    }
   ],
   "source": [
    "len(grp7.loc[grp7['검토구분'] == '주의', '배출가스인증번호'].unique())"
   ]
  },
  {
   "cell_type": "code",
   "execution_count": 119,
   "metadata": {},
   "outputs": [
    {
     "data": {
      "text/html": [
       "<div>\n",
       "<style scoped>\n",
       "    .dataframe tbody tr th:only-of-type {\n",
       "        vertical-align: middle;\n",
       "    }\n",
       "\n",
       "    .dataframe tbody tr th {\n",
       "        vertical-align: top;\n",
       "    }\n",
       "\n",
       "    .dataframe thead th {\n",
       "        text-align: right;\n",
       "    }\n",
       "</style>\n",
       "<table border=\"1\" class=\"dataframe\">\n",
       "  <thead>\n",
       "    <tr style=\"text-align: right;\">\n",
       "      <th></th>\n",
       "      <th>배출가스인증번호</th>\n",
       "    </tr>\n",
       "  </thead>\n",
       "  <tbody>\n",
       "    <tr>\n",
       "      <th>14</th>\n",
       "      <td>5MY-HD-24-59</td>\n",
       "    </tr>\n",
       "    <tr>\n",
       "      <th>51</th>\n",
       "      <td>6MY-HD-14-63</td>\n",
       "    </tr>\n",
       "    <tr>\n",
       "      <th>52</th>\n",
       "      <td>6MY-HD-14-63</td>\n",
       "    </tr>\n",
       "    <tr>\n",
       "      <th>92</th>\n",
       "      <td>6MY-HD-24-100</td>\n",
       "    </tr>\n",
       "    <tr>\n",
       "      <th>93</th>\n",
       "      <td>6MY-HD-24-100</td>\n",
       "    </tr>\n",
       "    <tr>\n",
       "      <th>94</th>\n",
       "      <td>6MY-HD-24-100</td>\n",
       "    </tr>\n",
       "    <tr>\n",
       "      <th>184</th>\n",
       "      <td>6MY-KM-14-61</td>\n",
       "    </tr>\n",
       "    <tr>\n",
       "      <th>185</th>\n",
       "      <td>6MY-KM-14-61</td>\n",
       "    </tr>\n",
       "    <tr>\n",
       "      <th>209</th>\n",
       "      <td>6MY-MK-14-13</td>\n",
       "    </tr>\n",
       "    <tr>\n",
       "      <th>257</th>\n",
       "      <td>7MY-HD-13-58</td>\n",
       "    </tr>\n",
       "    <tr>\n",
       "      <th>258</th>\n",
       "      <td>7MY-HD-13-58</td>\n",
       "    </tr>\n",
       "    <tr>\n",
       "      <th>259</th>\n",
       "      <td>7MY-HD-13-58</td>\n",
       "    </tr>\n",
       "    <tr>\n",
       "      <th>260</th>\n",
       "      <td>7MY-HD-13-58</td>\n",
       "    </tr>\n",
       "    <tr>\n",
       "      <th>261</th>\n",
       "      <td>7MY-HD-13-58</td>\n",
       "    </tr>\n",
       "    <tr>\n",
       "      <th>262</th>\n",
       "      <td>7MY-HD-13-58</td>\n",
       "    </tr>\n",
       "    <tr>\n",
       "      <th>263</th>\n",
       "      <td>7MY-HD-13-58</td>\n",
       "    </tr>\n",
       "  </tbody>\n",
       "</table>\n",
       "</div>"
      ],
      "text/plain": [
       "          배출가스인증번호\n",
       "14    5MY-HD-24-59\n",
       "51    6MY-HD-14-63\n",
       "52    6MY-HD-14-63\n",
       "92   6MY-HD-24-100\n",
       "93   6MY-HD-24-100\n",
       "94   6MY-HD-24-100\n",
       "184   6MY-KM-14-61\n",
       "185   6MY-KM-14-61\n",
       "209   6MY-MK-14-13\n",
       "257   7MY-HD-13-58\n",
       "258   7MY-HD-13-58\n",
       "259   7MY-HD-13-58\n",
       "260   7MY-HD-13-58\n",
       "261   7MY-HD-13-58\n",
       "262   7MY-HD-13-58\n",
       "263   7MY-HD-13-58"
      ]
     },
     "execution_count": 119,
     "metadata": {},
     "output_type": "execute_result"
    }
   ],
   "source": [
    "grp7.loc[grp7['검토구분'] == '주의', ['배출가스인증번호']]"
   ]
  },
  {
   "cell_type": "code",
   "execution_count": 123,
   "metadata": {},
   "outputs": [
    {
     "data": {
      "text/plain": [
       "6"
      ]
     },
     "execution_count": 123,
     "metadata": {},
     "output_type": "execute_result"
    }
   ],
   "source": [
    "len(grp7.loc[grp7['검토구분'] == '주의', '배출가스인증번호'].unique())"
   ]
  },
  {
   "cell_type": "code",
   "execution_count": 124,
   "metadata": {},
   "outputs": [
    {
     "data": {
      "text/plain": [
       "array(['5MY-HD-24-59', '6MY-HD-14-63', '6MY-HD-24-100', '6MY-KM-14-61',\n",
       "       '6MY-MK-14-13', '7MY-HD-13-58'], dtype=object)"
      ]
     },
     "execution_count": 124,
     "metadata": {},
     "output_type": "execute_result"
    }
   ],
   "source": [
    "grp7.loc[grp7['검토구분'] == '주의', '배출가스인증번호'].unique()"
   ]
  },
  {
   "cell_type": "code",
   "execution_count": 120,
   "metadata": {},
   "outputs": [
    {
     "data": {
      "text/html": [
       "<div>\n",
       "<style scoped>\n",
       "    .dataframe tbody tr th:only-of-type {\n",
       "        vertical-align: middle;\n",
       "    }\n",
       "\n",
       "    .dataframe tbody tr th {\n",
       "        vertical-align: top;\n",
       "    }\n",
       "\n",
       "    .dataframe thead th {\n",
       "        text-align: right;\n",
       "    }\n",
       "</style>\n",
       "<table border=\"1\" class=\"dataframe\">\n",
       "  <thead>\n",
       "    <tr style=\"text-align: right;\">\n",
       "      <th></th>\n",
       "      <th>배출가스인증번호</th>\n",
       "      <th>제작사명</th>\n",
       "      <th>차명</th>\n",
       "      <th>검사방법</th>\n",
       "      <th>제원관리번호</th>\n",
       "      <th>q1</th>\n",
       "      <th>q2</th>\n",
       "      <th>q3</th>\n",
       "      <th>차량대수</th>\n",
       "      <th>테이블생성일자</th>\n",
       "      <th>q2_mean</th>\n",
       "      <th>검토구분</th>\n",
       "    </tr>\n",
       "  </thead>\n",
       "  <tbody>\n",
       "    <tr>\n",
       "      <th>10</th>\n",
       "      <td>5MY-HD-24-59</td>\n",
       "      <td>현대자동차(주)</td>\n",
       "      <td>맥스크루즈 (MAXCRUZ)</td>\n",
       "      <td>부하검사(KD-147)</td>\n",
       "      <td>A0810009300091314</td>\n",
       "      <td>0.00</td>\n",
       "      <td>0.00</td>\n",
       "      <td>0.00</td>\n",
       "      <td>144</td>\n",
       "      <td>20231026</td>\n",
       "      <td>0.00</td>\n",
       "      <td>양호</td>\n",
       "    </tr>\n",
       "    <tr>\n",
       "      <th>11</th>\n",
       "      <td>5MY-HD-24-59</td>\n",
       "      <td>현대자동차(주)</td>\n",
       "      <td>투싼(TUCSON)</td>\n",
       "      <td>무부하검사(급가속)</td>\n",
       "      <td>A0810006300941205</td>\n",
       "      <td>0.00</td>\n",
       "      <td>2.00</td>\n",
       "      <td>8.00</td>\n",
       "      <td>173</td>\n",
       "      <td>20231026</td>\n",
       "      <td>1.88</td>\n",
       "      <td>양호</td>\n",
       "    </tr>\n",
       "    <tr>\n",
       "      <th>12</th>\n",
       "      <td>5MY-HD-24-59</td>\n",
       "      <td>현대자동차(주)</td>\n",
       "      <td>투싼(TUCSON)</td>\n",
       "      <td>무부하검사(급가속)</td>\n",
       "      <td>A0810006300961205</td>\n",
       "      <td>0.00</td>\n",
       "      <td>1.00</td>\n",
       "      <td>8.00</td>\n",
       "      <td>437</td>\n",
       "      <td>20231026</td>\n",
       "      <td>1.88</td>\n",
       "      <td>양호</td>\n",
       "    </tr>\n",
       "    <tr>\n",
       "      <th>13</th>\n",
       "      <td>5MY-HD-24-59</td>\n",
       "      <td>현대자동차(주)</td>\n",
       "      <td>투싼(TUCSON)</td>\n",
       "      <td>무부하검사(급가속)</td>\n",
       "      <td>A0810006300981205</td>\n",
       "      <td>0.00</td>\n",
       "      <td>1.00</td>\n",
       "      <td>8.00</td>\n",
       "      <td>642</td>\n",
       "      <td>20231026</td>\n",
       "      <td>1.88</td>\n",
       "      <td>양호</td>\n",
       "    </tr>\n",
       "    <tr>\n",
       "      <th>14</th>\n",
       "      <td>5MY-HD-24-59</td>\n",
       "      <td>현대자동차(주)</td>\n",
       "      <td>투싼(TUCSON)</td>\n",
       "      <td>무부하검사(급가속)</td>\n",
       "      <td>A0810006301001205</td>\n",
       "      <td>0.00</td>\n",
       "      <td>0.00</td>\n",
       "      <td>6.00</td>\n",
       "      <td>106</td>\n",
       "      <td>20231026</td>\n",
       "      <td>1.88</td>\n",
       "      <td>주의</td>\n",
       "    </tr>\n",
       "    <tr>\n",
       "      <th>15</th>\n",
       "      <td>5MY-HD-24-59</td>\n",
       "      <td>현대자동차(주)</td>\n",
       "      <td>투싼(TUCSON)</td>\n",
       "      <td>무부하검사(급가속)</td>\n",
       "      <td>A0810006301181206</td>\n",
       "      <td>0.00</td>\n",
       "      <td>3.00</td>\n",
       "      <td>12.00</td>\n",
       "      <td>283</td>\n",
       "      <td>20231026</td>\n",
       "      <td>1.88</td>\n",
       "      <td>양호</td>\n",
       "    </tr>\n",
       "    <tr>\n",
       "      <th>16</th>\n",
       "      <td>5MY-HD-24-59</td>\n",
       "      <td>현대자동차(주)</td>\n",
       "      <td>투싼(TUCSON)</td>\n",
       "      <td>무부하검사(급가속)</td>\n",
       "      <td>A0810006301201206</td>\n",
       "      <td>0.00</td>\n",
       "      <td>3.00</td>\n",
       "      <td>11.00</td>\n",
       "      <td>967</td>\n",
       "      <td>20231026</td>\n",
       "      <td>1.88</td>\n",
       "      <td>양호</td>\n",
       "    </tr>\n",
       "    <tr>\n",
       "      <th>17</th>\n",
       "      <td>5MY-HD-24-59</td>\n",
       "      <td>현대자동차(주)</td>\n",
       "      <td>투싼(TUCSON)</td>\n",
       "      <td>무부하검사(급가속)</td>\n",
       "      <td>A0810006301221206</td>\n",
       "      <td>0.00</td>\n",
       "      <td>2.00</td>\n",
       "      <td>10.00</td>\n",
       "      <td>955</td>\n",
       "      <td>20231026</td>\n",
       "      <td>1.88</td>\n",
       "      <td>양호</td>\n",
       "    </tr>\n",
       "    <tr>\n",
       "      <th>18</th>\n",
       "      <td>5MY-HD-24-59</td>\n",
       "      <td>현대자동차(주)</td>\n",
       "      <td>투싼(TUCSON)</td>\n",
       "      <td>무부하검사(급가속)</td>\n",
       "      <td>A0810006301241206</td>\n",
       "      <td>0.00</td>\n",
       "      <td>3.00</td>\n",
       "      <td>11.00</td>\n",
       "      <td>168</td>\n",
       "      <td>20231026</td>\n",
       "      <td>1.88</td>\n",
       "      <td>양호</td>\n",
       "    </tr>\n",
       "    <tr>\n",
       "      <th>19</th>\n",
       "      <td>5MY-HD-24-59</td>\n",
       "      <td>현대자동차(주)</td>\n",
       "      <td>투싼(TUCSON)</td>\n",
       "      <td>부하검사(KD-147)</td>\n",
       "      <td>A0810006300941205</td>\n",
       "      <td>0.00</td>\n",
       "      <td>1.00</td>\n",
       "      <td>4.00</td>\n",
       "      <td>842</td>\n",
       "      <td>20231026</td>\n",
       "      <td>1.25</td>\n",
       "      <td>양호</td>\n",
       "    </tr>\n",
       "    <tr>\n",
       "      <th>20</th>\n",
       "      <td>5MY-HD-24-59</td>\n",
       "      <td>현대자동차(주)</td>\n",
       "      <td>투싼(TUCSON)</td>\n",
       "      <td>부하검사(KD-147)</td>\n",
       "      <td>A0810006300961205</td>\n",
       "      <td>0.00</td>\n",
       "      <td>1.00</td>\n",
       "      <td>4.00</td>\n",
       "      <td>2088</td>\n",
       "      <td>20231026</td>\n",
       "      <td>1.25</td>\n",
       "      <td>양호</td>\n",
       "    </tr>\n",
       "    <tr>\n",
       "      <th>21</th>\n",
       "      <td>5MY-HD-24-59</td>\n",
       "      <td>현대자동차(주)</td>\n",
       "      <td>투싼(TUCSON)</td>\n",
       "      <td>부하검사(KD-147)</td>\n",
       "      <td>A0810006300981205</td>\n",
       "      <td>0.00</td>\n",
       "      <td>1.00</td>\n",
       "      <td>4.00</td>\n",
       "      <td>3533</td>\n",
       "      <td>20231026</td>\n",
       "      <td>1.25</td>\n",
       "      <td>양호</td>\n",
       "    </tr>\n",
       "    <tr>\n",
       "      <th>22</th>\n",
       "      <td>5MY-HD-24-59</td>\n",
       "      <td>현대자동차(주)</td>\n",
       "      <td>투싼(TUCSON)</td>\n",
       "      <td>부하검사(KD-147)</td>\n",
       "      <td>A0810006301001205</td>\n",
       "      <td>0.00</td>\n",
       "      <td>1.00</td>\n",
       "      <td>4.00</td>\n",
       "      <td>544</td>\n",
       "      <td>20231026</td>\n",
       "      <td>1.25</td>\n",
       "      <td>양호</td>\n",
       "    </tr>\n",
       "    <tr>\n",
       "      <th>23</th>\n",
       "      <td>5MY-HD-24-59</td>\n",
       "      <td>현대자동차(주)</td>\n",
       "      <td>투싼(TUCSON)</td>\n",
       "      <td>부하검사(KD-147)</td>\n",
       "      <td>A0810006301181206</td>\n",
       "      <td>0.00</td>\n",
       "      <td>2.00</td>\n",
       "      <td>5.00</td>\n",
       "      <td>1430</td>\n",
       "      <td>20231026</td>\n",
       "      <td>1.25</td>\n",
       "      <td>양호</td>\n",
       "    </tr>\n",
       "    <tr>\n",
       "      <th>24</th>\n",
       "      <td>5MY-HD-24-59</td>\n",
       "      <td>현대자동차(주)</td>\n",
       "      <td>투싼(TUCSON)</td>\n",
       "      <td>부하검사(KD-147)</td>\n",
       "      <td>A0810006301201206</td>\n",
       "      <td>0.00</td>\n",
       "      <td>1.00</td>\n",
       "      <td>4.00</td>\n",
       "      <td>4566</td>\n",
       "      <td>20231026</td>\n",
       "      <td>1.25</td>\n",
       "      <td>양호</td>\n",
       "    </tr>\n",
       "    <tr>\n",
       "      <th>25</th>\n",
       "      <td>5MY-HD-24-59</td>\n",
       "      <td>현대자동차(주)</td>\n",
       "      <td>투싼(TUCSON)</td>\n",
       "      <td>부하검사(KD-147)</td>\n",
       "      <td>A0810006301221206</td>\n",
       "      <td>0.00</td>\n",
       "      <td>2.00</td>\n",
       "      <td>5.00</td>\n",
       "      <td>4972</td>\n",
       "      <td>20231026</td>\n",
       "      <td>1.25</td>\n",
       "      <td>양호</td>\n",
       "    </tr>\n",
       "    <tr>\n",
       "      <th>26</th>\n",
       "      <td>5MY-HD-24-59</td>\n",
       "      <td>현대자동차(주)</td>\n",
       "      <td>투싼(TUCSON)</td>\n",
       "      <td>부하검사(KD-147)</td>\n",
       "      <td>A0810006301241206</td>\n",
       "      <td>0.00</td>\n",
       "      <td>1.00</td>\n",
       "      <td>4.00</td>\n",
       "      <td>699</td>\n",
       "      <td>20231026</td>\n",
       "      <td>1.25</td>\n",
       "      <td>양호</td>\n",
       "    </tr>\n",
       "  </tbody>\n",
       "</table>\n",
       "</div>"
      ],
      "text/plain": [
       "        배출가스인증번호      제작사명               차명          검사방법             제원관리번호  \\\n",
       "10  5MY-HD-24-59  현대자동차(주)  맥스크루즈 (MAXCRUZ)  부하검사(KD-147)  A0810009300091314   \n",
       "11  5MY-HD-24-59  현대자동차(주)       투싼(TUCSON)    무부하검사(급가속)  A0810006300941205   \n",
       "12  5MY-HD-24-59  현대자동차(주)       투싼(TUCSON)    무부하검사(급가속)  A0810006300961205   \n",
       "13  5MY-HD-24-59  현대자동차(주)       투싼(TUCSON)    무부하검사(급가속)  A0810006300981205   \n",
       "14  5MY-HD-24-59  현대자동차(주)       투싼(TUCSON)    무부하검사(급가속)  A0810006301001205   \n",
       "15  5MY-HD-24-59  현대자동차(주)       투싼(TUCSON)    무부하검사(급가속)  A0810006301181206   \n",
       "16  5MY-HD-24-59  현대자동차(주)       투싼(TUCSON)    무부하검사(급가속)  A0810006301201206   \n",
       "17  5MY-HD-24-59  현대자동차(주)       투싼(TUCSON)    무부하검사(급가속)  A0810006301221206   \n",
       "18  5MY-HD-24-59  현대자동차(주)       투싼(TUCSON)    무부하검사(급가속)  A0810006301241206   \n",
       "19  5MY-HD-24-59  현대자동차(주)       투싼(TUCSON)  부하검사(KD-147)  A0810006300941205   \n",
       "20  5MY-HD-24-59  현대자동차(주)       투싼(TUCSON)  부하검사(KD-147)  A0810006300961205   \n",
       "21  5MY-HD-24-59  현대자동차(주)       투싼(TUCSON)  부하검사(KD-147)  A0810006300981205   \n",
       "22  5MY-HD-24-59  현대자동차(주)       투싼(TUCSON)  부하검사(KD-147)  A0810006301001205   \n",
       "23  5MY-HD-24-59  현대자동차(주)       투싼(TUCSON)  부하검사(KD-147)  A0810006301181206   \n",
       "24  5MY-HD-24-59  현대자동차(주)       투싼(TUCSON)  부하검사(KD-147)  A0810006301201206   \n",
       "25  5MY-HD-24-59  현대자동차(주)       투싼(TUCSON)  부하검사(KD-147)  A0810006301221206   \n",
       "26  5MY-HD-24-59  현대자동차(주)       투싼(TUCSON)  부하검사(KD-147)  A0810006301241206   \n",
       "\n",
       "     q1   q2    q3  차량대수   테이블생성일자  q2_mean 검토구분  \n",
       "10 0.00 0.00  0.00   144  20231026     0.00   양호  \n",
       "11 0.00 2.00  8.00   173  20231026     1.88   양호  \n",
       "12 0.00 1.00  8.00   437  20231026     1.88   양호  \n",
       "13 0.00 1.00  8.00   642  20231026     1.88   양호  \n",
       "14 0.00 0.00  6.00   106  20231026     1.88   주의  \n",
       "15 0.00 3.00 12.00   283  20231026     1.88   양호  \n",
       "16 0.00 3.00 11.00   967  20231026     1.88   양호  \n",
       "17 0.00 2.00 10.00   955  20231026     1.88   양호  \n",
       "18 0.00 3.00 11.00   168  20231026     1.88   양호  \n",
       "19 0.00 1.00  4.00   842  20231026     1.25   양호  \n",
       "20 0.00 1.00  4.00  2088  20231026     1.25   양호  \n",
       "21 0.00 1.00  4.00  3533  20231026     1.25   양호  \n",
       "22 0.00 1.00  4.00   544  20231026     1.25   양호  \n",
       "23 0.00 2.00  5.00  1430  20231026     1.25   양호  \n",
       "24 0.00 1.00  4.00  4566  20231026     1.25   양호  \n",
       "25 0.00 2.00  5.00  4972  20231026     1.25   양호  \n",
       "26 0.00 1.00  4.00   699  20231026     1.25   양호  "
      ]
     },
     "execution_count": 120,
     "metadata": {},
     "output_type": "execute_result"
    }
   ],
   "source": [
    "grp7[grp7['배출가스인증번호'] == '5MY-HD-24-59']"
   ]
  },
  {
   "cell_type": "code",
   "execution_count": 125,
   "metadata": {},
   "outputs": [
    {
     "data": {
      "text/html": [
       "<div>\n",
       "<style scoped>\n",
       "    .dataframe tbody tr th:only-of-type {\n",
       "        vertical-align: middle;\n",
       "    }\n",
       "\n",
       "    .dataframe tbody tr th {\n",
       "        vertical-align: top;\n",
       "    }\n",
       "\n",
       "    .dataframe thead th {\n",
       "        text-align: right;\n",
       "    }\n",
       "</style>\n",
       "<table border=\"1\" class=\"dataframe\">\n",
       "  <thead>\n",
       "    <tr style=\"text-align: right;\">\n",
       "      <th></th>\n",
       "      <th>배출가스인증번호</th>\n",
       "      <th>제작사명</th>\n",
       "      <th>차명</th>\n",
       "      <th>검사방법</th>\n",
       "      <th>제원관리번호</th>\n",
       "      <th>q1</th>\n",
       "      <th>q2</th>\n",
       "      <th>q3</th>\n",
       "      <th>차량대수</th>\n",
       "      <th>테이블생성일자</th>\n",
       "      <th>q2_mean</th>\n",
       "      <th>검토구분</th>\n",
       "    </tr>\n",
       "  </thead>\n",
       "  <tbody>\n",
       "    <tr>\n",
       "      <th>48</th>\n",
       "      <td>6MY-HD-14-63</td>\n",
       "      <td>현대자동차(주)</td>\n",
       "      <td>투싼(TUCSON)</td>\n",
       "      <td>무부하검사(급가속)</td>\n",
       "      <td>A0810006301431207</td>\n",
       "      <td>0.00</td>\n",
       "      <td>2.00</td>\n",
       "      <td>8.00</td>\n",
       "      <td>139</td>\n",
       "      <td>20231026</td>\n",
       "      <td>1.25</td>\n",
       "      <td>양호</td>\n",
       "    </tr>\n",
       "    <tr>\n",
       "      <th>49</th>\n",
       "      <td>6MY-HD-14-63</td>\n",
       "      <td>현대자동차(주)</td>\n",
       "      <td>투싼(TUCSON)</td>\n",
       "      <td>무부하검사(급가속)</td>\n",
       "      <td>A0810006301451207</td>\n",
       "      <td>0.00</td>\n",
       "      <td>1.00</td>\n",
       "      <td>7.00</td>\n",
       "      <td>490</td>\n",
       "      <td>20231026</td>\n",
       "      <td>1.25</td>\n",
       "      <td>양호</td>\n",
       "    </tr>\n",
       "    <tr>\n",
       "      <th>50</th>\n",
       "      <td>6MY-HD-14-63</td>\n",
       "      <td>현대자동차(주)</td>\n",
       "      <td>투싼(TUCSON)</td>\n",
       "      <td>무부하검사(급가속)</td>\n",
       "      <td>A0810006301471207</td>\n",
       "      <td>0.00</td>\n",
       "      <td>1.00</td>\n",
       "      <td>8.00</td>\n",
       "      <td>434</td>\n",
       "      <td>20231026</td>\n",
       "      <td>1.25</td>\n",
       "      <td>양호</td>\n",
       "    </tr>\n",
       "    <tr>\n",
       "      <th>51</th>\n",
       "      <td>6MY-HD-14-63</td>\n",
       "      <td>현대자동차(주)</td>\n",
       "      <td>투싼(TUCSON)</td>\n",
       "      <td>무부하검사(급가속)</td>\n",
       "      <td>A0810006301701207</td>\n",
       "      <td>0.00</td>\n",
       "      <td>0.00</td>\n",
       "      <td>6.00</td>\n",
       "      <td>403</td>\n",
       "      <td>20231026</td>\n",
       "      <td>1.25</td>\n",
       "      <td>주의</td>\n",
       "    </tr>\n",
       "    <tr>\n",
       "      <th>52</th>\n",
       "      <td>6MY-HD-14-63</td>\n",
       "      <td>현대자동차(주)</td>\n",
       "      <td>투싼(TUCSON)</td>\n",
       "      <td>무부하검사(급가속)</td>\n",
       "      <td>A0810006301721207</td>\n",
       "      <td>0.00</td>\n",
       "      <td>0.00</td>\n",
       "      <td>3.00</td>\n",
       "      <td>289</td>\n",
       "      <td>20231026</td>\n",
       "      <td>1.25</td>\n",
       "      <td>주의</td>\n",
       "    </tr>\n",
       "    <tr>\n",
       "      <th>53</th>\n",
       "      <td>6MY-HD-14-63</td>\n",
       "      <td>현대자동차(주)</td>\n",
       "      <td>투싼(TUCSON)</td>\n",
       "      <td>무부하검사(급가속)</td>\n",
       "      <td>A0810006301941208</td>\n",
       "      <td>0.00</td>\n",
       "      <td>1.00</td>\n",
       "      <td>8.00</td>\n",
       "      <td>196</td>\n",
       "      <td>20231026</td>\n",
       "      <td>1.25</td>\n",
       "      <td>양호</td>\n",
       "    </tr>\n",
       "    <tr>\n",
       "      <th>54</th>\n",
       "      <td>6MY-HD-14-63</td>\n",
       "      <td>현대자동차(주)</td>\n",
       "      <td>투싼(TUCSON)</td>\n",
       "      <td>무부하검사(급가속)</td>\n",
       "      <td>A0810006301961208</td>\n",
       "      <td>0.00</td>\n",
       "      <td>2.50</td>\n",
       "      <td>9.00</td>\n",
       "      <td>140</td>\n",
       "      <td>20231026</td>\n",
       "      <td>1.25</td>\n",
       "      <td>양호</td>\n",
       "    </tr>\n",
       "    <tr>\n",
       "      <th>55</th>\n",
       "      <td>6MY-HD-14-63</td>\n",
       "      <td>현대자동차(주)</td>\n",
       "      <td>투싼(TUCSON)</td>\n",
       "      <td>무부하검사(급가속)</td>\n",
       "      <td>A0810006302181208</td>\n",
       "      <td>0.00</td>\n",
       "      <td>1.00</td>\n",
       "      <td>7.00</td>\n",
       "      <td>343</td>\n",
       "      <td>20231026</td>\n",
       "      <td>1.25</td>\n",
       "      <td>양호</td>\n",
       "    </tr>\n",
       "    <tr>\n",
       "      <th>56</th>\n",
       "      <td>6MY-HD-14-63</td>\n",
       "      <td>현대자동차(주)</td>\n",
       "      <td>투싼(TUCSON)</td>\n",
       "      <td>무부하검사(급가속)</td>\n",
       "      <td>A0810006302201208</td>\n",
       "      <td>0.00</td>\n",
       "      <td>2.00</td>\n",
       "      <td>8.00</td>\n",
       "      <td>648</td>\n",
       "      <td>20231026</td>\n",
       "      <td>1.25</td>\n",
       "      <td>양호</td>\n",
       "    </tr>\n",
       "    <tr>\n",
       "      <th>57</th>\n",
       "      <td>6MY-HD-14-63</td>\n",
       "      <td>현대자동차(주)</td>\n",
       "      <td>투싼(TUCSON)</td>\n",
       "      <td>무부하검사(급가속)</td>\n",
       "      <td>A0810006302221208</td>\n",
       "      <td>0.00</td>\n",
       "      <td>2.00</td>\n",
       "      <td>8.00</td>\n",
       "      <td>420</td>\n",
       "      <td>20231026</td>\n",
       "      <td>1.25</td>\n",
       "      <td>양호</td>\n",
       "    </tr>\n",
       "    <tr>\n",
       "      <th>58</th>\n",
       "      <td>6MY-HD-14-63</td>\n",
       "      <td>현대자동차(주)</td>\n",
       "      <td>투싼(TUCSON)</td>\n",
       "      <td>부하검사(KD-147)</td>\n",
       "      <td>A0810006301431207</td>\n",
       "      <td>0.00</td>\n",
       "      <td>1.00</td>\n",
       "      <td>3.00</td>\n",
       "      <td>625</td>\n",
       "      <td>20231026</td>\n",
       "      <td>1.00</td>\n",
       "      <td>양호</td>\n",
       "    </tr>\n",
       "    <tr>\n",
       "      <th>59</th>\n",
       "      <td>6MY-HD-14-63</td>\n",
       "      <td>현대자동차(주)</td>\n",
       "      <td>투싼(TUCSON)</td>\n",
       "      <td>부하검사(KD-147)</td>\n",
       "      <td>A0810006301451207</td>\n",
       "      <td>0.00</td>\n",
       "      <td>1.00</td>\n",
       "      <td>3.00</td>\n",
       "      <td>2105</td>\n",
       "      <td>20231026</td>\n",
       "      <td>1.00</td>\n",
       "      <td>양호</td>\n",
       "    </tr>\n",
       "    <tr>\n",
       "      <th>60</th>\n",
       "      <td>6MY-HD-14-63</td>\n",
       "      <td>현대자동차(주)</td>\n",
       "      <td>투싼(TUCSON)</td>\n",
       "      <td>부하검사(KD-147)</td>\n",
       "      <td>A0810006301471207</td>\n",
       "      <td>0.00</td>\n",
       "      <td>1.00</td>\n",
       "      <td>3.00</td>\n",
       "      <td>2065</td>\n",
       "      <td>20231026</td>\n",
       "      <td>1.00</td>\n",
       "      <td>양호</td>\n",
       "    </tr>\n",
       "    <tr>\n",
       "      <th>61</th>\n",
       "      <td>6MY-HD-14-63</td>\n",
       "      <td>현대자동차(주)</td>\n",
       "      <td>투싼(TUCSON)</td>\n",
       "      <td>부하검사(KD-147)</td>\n",
       "      <td>A0810006301491207</td>\n",
       "      <td>0.00</td>\n",
       "      <td>1.00</td>\n",
       "      <td>3.00</td>\n",
       "      <td>260</td>\n",
       "      <td>20231026</td>\n",
       "      <td>1.00</td>\n",
       "      <td>양호</td>\n",
       "    </tr>\n",
       "    <tr>\n",
       "      <th>62</th>\n",
       "      <td>6MY-HD-14-63</td>\n",
       "      <td>현대자동차(주)</td>\n",
       "      <td>투싼(TUCSON)</td>\n",
       "      <td>부하검사(KD-147)</td>\n",
       "      <td>A0810006301681207</td>\n",
       "      <td>0.00</td>\n",
       "      <td>1.00</td>\n",
       "      <td>3.00</td>\n",
       "      <td>417</td>\n",
       "      <td>20231026</td>\n",
       "      <td>1.00</td>\n",
       "      <td>양호</td>\n",
       "    </tr>\n",
       "    <tr>\n",
       "      <th>63</th>\n",
       "      <td>6MY-HD-14-63</td>\n",
       "      <td>현대자동차(주)</td>\n",
       "      <td>투싼(TUCSON)</td>\n",
       "      <td>부하검사(KD-147)</td>\n",
       "      <td>A0810006301701207</td>\n",
       "      <td>0.00</td>\n",
       "      <td>1.00</td>\n",
       "      <td>3.00</td>\n",
       "      <td>1653</td>\n",
       "      <td>20231026</td>\n",
       "      <td>1.00</td>\n",
       "      <td>양호</td>\n",
       "    </tr>\n",
       "    <tr>\n",
       "      <th>64</th>\n",
       "      <td>6MY-HD-14-63</td>\n",
       "      <td>현대자동차(주)</td>\n",
       "      <td>투싼(TUCSON)</td>\n",
       "      <td>부하검사(KD-147)</td>\n",
       "      <td>A0810006301721207</td>\n",
       "      <td>0.00</td>\n",
       "      <td>1.00</td>\n",
       "      <td>3.00</td>\n",
       "      <td>1601</td>\n",
       "      <td>20231026</td>\n",
       "      <td>1.00</td>\n",
       "      <td>양호</td>\n",
       "    </tr>\n",
       "    <tr>\n",
       "      <th>65</th>\n",
       "      <td>6MY-HD-14-63</td>\n",
       "      <td>현대자동차(주)</td>\n",
       "      <td>투싼(TUCSON)</td>\n",
       "      <td>부하검사(KD-147)</td>\n",
       "      <td>A0810006301741207</td>\n",
       "      <td>0.00</td>\n",
       "      <td>1.00</td>\n",
       "      <td>3.00</td>\n",
       "      <td>197</td>\n",
       "      <td>20231026</td>\n",
       "      <td>1.00</td>\n",
       "      <td>양호</td>\n",
       "    </tr>\n",
       "    <tr>\n",
       "      <th>66</th>\n",
       "      <td>6MY-HD-14-63</td>\n",
       "      <td>현대자동차(주)</td>\n",
       "      <td>투싼(TUCSON)</td>\n",
       "      <td>부하검사(KD-147)</td>\n",
       "      <td>A0810006301921208</td>\n",
       "      <td>0.00</td>\n",
       "      <td>1.00</td>\n",
       "      <td>4.00</td>\n",
       "      <td>218</td>\n",
       "      <td>20231026</td>\n",
       "      <td>1.00</td>\n",
       "      <td>양호</td>\n",
       "    </tr>\n",
       "    <tr>\n",
       "      <th>67</th>\n",
       "      <td>6MY-HD-14-63</td>\n",
       "      <td>현대자동차(주)</td>\n",
       "      <td>투싼(TUCSON)</td>\n",
       "      <td>부하검사(KD-147)</td>\n",
       "      <td>A0810006301941208</td>\n",
       "      <td>0.00</td>\n",
       "      <td>1.00</td>\n",
       "      <td>3.00</td>\n",
       "      <td>957</td>\n",
       "      <td>20231026</td>\n",
       "      <td>1.00</td>\n",
       "      <td>양호</td>\n",
       "    </tr>\n",
       "    <tr>\n",
       "      <th>68</th>\n",
       "      <td>6MY-HD-14-63</td>\n",
       "      <td>현대자동차(주)</td>\n",
       "      <td>투싼(TUCSON)</td>\n",
       "      <td>부하검사(KD-147)</td>\n",
       "      <td>A0810006301961208</td>\n",
       "      <td>0.00</td>\n",
       "      <td>1.00</td>\n",
       "      <td>3.00</td>\n",
       "      <td>874</td>\n",
       "      <td>20231026</td>\n",
       "      <td>1.00</td>\n",
       "      <td>양호</td>\n",
       "    </tr>\n",
       "    <tr>\n",
       "      <th>69</th>\n",
       "      <td>6MY-HD-14-63</td>\n",
       "      <td>현대자동차(주)</td>\n",
       "      <td>투싼(TUCSON)</td>\n",
       "      <td>부하검사(KD-147)</td>\n",
       "      <td>A0810006302181208</td>\n",
       "      <td>0.00</td>\n",
       "      <td>1.00</td>\n",
       "      <td>4.00</td>\n",
       "      <td>1745</td>\n",
       "      <td>20231026</td>\n",
       "      <td>1.00</td>\n",
       "      <td>양호</td>\n",
       "    </tr>\n",
       "    <tr>\n",
       "      <th>70</th>\n",
       "      <td>6MY-HD-14-63</td>\n",
       "      <td>현대자동차(주)</td>\n",
       "      <td>투싼(TUCSON)</td>\n",
       "      <td>부하검사(KD-147)</td>\n",
       "      <td>A0810006302201208</td>\n",
       "      <td>0.00</td>\n",
       "      <td>1.00</td>\n",
       "      <td>3.00</td>\n",
       "      <td>2400</td>\n",
       "      <td>20231026</td>\n",
       "      <td>1.00</td>\n",
       "      <td>양호</td>\n",
       "    </tr>\n",
       "    <tr>\n",
       "      <th>71</th>\n",
       "      <td>6MY-HD-14-63</td>\n",
       "      <td>현대자동차(주)</td>\n",
       "      <td>투싼(TUCSON)</td>\n",
       "      <td>부하검사(KD-147)</td>\n",
       "      <td>A0810006302221208</td>\n",
       "      <td>0.00</td>\n",
       "      <td>1.00</td>\n",
       "      <td>4.00</td>\n",
       "      <td>2041</td>\n",
       "      <td>20231026</td>\n",
       "      <td>1.00</td>\n",
       "      <td>양호</td>\n",
       "    </tr>\n",
       "    <tr>\n",
       "      <th>72</th>\n",
       "      <td>6MY-HD-14-63</td>\n",
       "      <td>현대자동차(주)</td>\n",
       "      <td>투싼(TUCSON)</td>\n",
       "      <td>부하검사(KD-147)</td>\n",
       "      <td>A0810006302241208</td>\n",
       "      <td>0.00</td>\n",
       "      <td>1.00</td>\n",
       "      <td>3.00</td>\n",
       "      <td>160</td>\n",
       "      <td>20231026</td>\n",
       "      <td>1.00</td>\n",
       "      <td>양호</td>\n",
       "    </tr>\n",
       "    <tr>\n",
       "      <th>73</th>\n",
       "      <td>6MY-HD-14-63</td>\n",
       "      <td>현대자동차(주)</td>\n",
       "      <td>투싼(TUCSON)</td>\n",
       "      <td>부하검사(KD-147)</td>\n",
       "      <td>A0810006302441209</td>\n",
       "      <td>0.00</td>\n",
       "      <td>1.00</td>\n",
       "      <td>3.00</td>\n",
       "      <td>364</td>\n",
       "      <td>20231026</td>\n",
       "      <td>1.00</td>\n",
       "      <td>양호</td>\n",
       "    </tr>\n",
       "    <tr>\n",
       "      <th>74</th>\n",
       "      <td>6MY-HD-14-63</td>\n",
       "      <td>현대자동차(주)</td>\n",
       "      <td>투싼(TUCSON)</td>\n",
       "      <td>부하검사(KD-147)</td>\n",
       "      <td>A0810006302461209</td>\n",
       "      <td>0.00</td>\n",
       "      <td>1.00</td>\n",
       "      <td>4.00</td>\n",
       "      <td>399</td>\n",
       "      <td>20231026</td>\n",
       "      <td>1.00</td>\n",
       "      <td>양호</td>\n",
       "    </tr>\n",
       "    <tr>\n",
       "      <th>75</th>\n",
       "      <td>6MY-HD-14-63</td>\n",
       "      <td>현대자동차(주)</td>\n",
       "      <td>투싼(TUCSON)</td>\n",
       "      <td>부하검사(KD-147)</td>\n",
       "      <td>A0810006302481209</td>\n",
       "      <td>0.00</td>\n",
       "      <td>1.00</td>\n",
       "      <td>3.00</td>\n",
       "      <td>416</td>\n",
       "      <td>20231026</td>\n",
       "      <td>1.00</td>\n",
       "      <td>양호</td>\n",
       "    </tr>\n",
       "  </tbody>\n",
       "</table>\n",
       "</div>"
      ],
      "text/plain": [
       "        배출가스인증번호      제작사명          차명          검사방법             제원관리번호   q1  \\\n",
       "48  6MY-HD-14-63  현대자동차(주)  투싼(TUCSON)    무부하검사(급가속)  A0810006301431207 0.00   \n",
       "49  6MY-HD-14-63  현대자동차(주)  투싼(TUCSON)    무부하검사(급가속)  A0810006301451207 0.00   \n",
       "50  6MY-HD-14-63  현대자동차(주)  투싼(TUCSON)    무부하검사(급가속)  A0810006301471207 0.00   \n",
       "51  6MY-HD-14-63  현대자동차(주)  투싼(TUCSON)    무부하검사(급가속)  A0810006301701207 0.00   \n",
       "52  6MY-HD-14-63  현대자동차(주)  투싼(TUCSON)    무부하검사(급가속)  A0810006301721207 0.00   \n",
       "53  6MY-HD-14-63  현대자동차(주)  투싼(TUCSON)    무부하검사(급가속)  A0810006301941208 0.00   \n",
       "54  6MY-HD-14-63  현대자동차(주)  투싼(TUCSON)    무부하검사(급가속)  A0810006301961208 0.00   \n",
       "55  6MY-HD-14-63  현대자동차(주)  투싼(TUCSON)    무부하검사(급가속)  A0810006302181208 0.00   \n",
       "56  6MY-HD-14-63  현대자동차(주)  투싼(TUCSON)    무부하검사(급가속)  A0810006302201208 0.00   \n",
       "57  6MY-HD-14-63  현대자동차(주)  투싼(TUCSON)    무부하검사(급가속)  A0810006302221208 0.00   \n",
       "58  6MY-HD-14-63  현대자동차(주)  투싼(TUCSON)  부하검사(KD-147)  A0810006301431207 0.00   \n",
       "59  6MY-HD-14-63  현대자동차(주)  투싼(TUCSON)  부하검사(KD-147)  A0810006301451207 0.00   \n",
       "60  6MY-HD-14-63  현대자동차(주)  투싼(TUCSON)  부하검사(KD-147)  A0810006301471207 0.00   \n",
       "61  6MY-HD-14-63  현대자동차(주)  투싼(TUCSON)  부하검사(KD-147)  A0810006301491207 0.00   \n",
       "62  6MY-HD-14-63  현대자동차(주)  투싼(TUCSON)  부하검사(KD-147)  A0810006301681207 0.00   \n",
       "63  6MY-HD-14-63  현대자동차(주)  투싼(TUCSON)  부하검사(KD-147)  A0810006301701207 0.00   \n",
       "64  6MY-HD-14-63  현대자동차(주)  투싼(TUCSON)  부하검사(KD-147)  A0810006301721207 0.00   \n",
       "65  6MY-HD-14-63  현대자동차(주)  투싼(TUCSON)  부하검사(KD-147)  A0810006301741207 0.00   \n",
       "66  6MY-HD-14-63  현대자동차(주)  투싼(TUCSON)  부하검사(KD-147)  A0810006301921208 0.00   \n",
       "67  6MY-HD-14-63  현대자동차(주)  투싼(TUCSON)  부하검사(KD-147)  A0810006301941208 0.00   \n",
       "68  6MY-HD-14-63  현대자동차(주)  투싼(TUCSON)  부하검사(KD-147)  A0810006301961208 0.00   \n",
       "69  6MY-HD-14-63  현대자동차(주)  투싼(TUCSON)  부하검사(KD-147)  A0810006302181208 0.00   \n",
       "70  6MY-HD-14-63  현대자동차(주)  투싼(TUCSON)  부하검사(KD-147)  A0810006302201208 0.00   \n",
       "71  6MY-HD-14-63  현대자동차(주)  투싼(TUCSON)  부하검사(KD-147)  A0810006302221208 0.00   \n",
       "72  6MY-HD-14-63  현대자동차(주)  투싼(TUCSON)  부하검사(KD-147)  A0810006302241208 0.00   \n",
       "73  6MY-HD-14-63  현대자동차(주)  투싼(TUCSON)  부하검사(KD-147)  A0810006302441209 0.00   \n",
       "74  6MY-HD-14-63  현대자동차(주)  투싼(TUCSON)  부하검사(KD-147)  A0810006302461209 0.00   \n",
       "75  6MY-HD-14-63  현대자동차(주)  투싼(TUCSON)  부하검사(KD-147)  A0810006302481209 0.00   \n",
       "\n",
       "     q2   q3  차량대수   테이블생성일자  q2_mean 검토구분  \n",
       "48 2.00 8.00   139  20231026     1.25   양호  \n",
       "49 1.00 7.00   490  20231026     1.25   양호  \n",
       "50 1.00 8.00   434  20231026     1.25   양호  \n",
       "51 0.00 6.00   403  20231026     1.25   주의  \n",
       "52 0.00 3.00   289  20231026     1.25   주의  \n",
       "53 1.00 8.00   196  20231026     1.25   양호  \n",
       "54 2.50 9.00   140  20231026     1.25   양호  \n",
       "55 1.00 7.00   343  20231026     1.25   양호  \n",
       "56 2.00 8.00   648  20231026     1.25   양호  \n",
       "57 2.00 8.00   420  20231026     1.25   양호  \n",
       "58 1.00 3.00   625  20231026     1.00   양호  \n",
       "59 1.00 3.00  2105  20231026     1.00   양호  \n",
       "60 1.00 3.00  2065  20231026     1.00   양호  \n",
       "61 1.00 3.00   260  20231026     1.00   양호  \n",
       "62 1.00 3.00   417  20231026     1.00   양호  \n",
       "63 1.00 3.00  1653  20231026     1.00   양호  \n",
       "64 1.00 3.00  1601  20231026     1.00   양호  \n",
       "65 1.00 3.00   197  20231026     1.00   양호  \n",
       "66 1.00 4.00   218  20231026     1.00   양호  \n",
       "67 1.00 3.00   957  20231026     1.00   양호  \n",
       "68 1.00 3.00   874  20231026     1.00   양호  \n",
       "69 1.00 4.00  1745  20231026     1.00   양호  \n",
       "70 1.00 3.00  2400  20231026     1.00   양호  \n",
       "71 1.00 4.00  2041  20231026     1.00   양호  \n",
       "72 1.00 3.00   160  20231026     1.00   양호  \n",
       "73 1.00 3.00   364  20231026     1.00   양호  \n",
       "74 1.00 4.00   399  20231026     1.00   양호  \n",
       "75 1.00 3.00   416  20231026     1.00   양호  "
      ]
     },
     "execution_count": 125,
     "metadata": {},
     "output_type": "execute_result"
    }
   ],
   "source": [
    "grp7[grp7['배출가스인증번호'] == '6MY-HD-14-63']"
   ]
  },
  {
   "cell_type": "code",
   "execution_count": 126,
   "metadata": {},
   "outputs": [
    {
     "data": {
      "text/html": [
       "<div>\n",
       "<style scoped>\n",
       "    .dataframe tbody tr th:only-of-type {\n",
       "        vertical-align: middle;\n",
       "    }\n",
       "\n",
       "    .dataframe tbody tr th {\n",
       "        vertical-align: top;\n",
       "    }\n",
       "\n",
       "    .dataframe thead th {\n",
       "        text-align: right;\n",
       "    }\n",
       "</style>\n",
       "<table border=\"1\" class=\"dataframe\">\n",
       "  <thead>\n",
       "    <tr style=\"text-align: right;\">\n",
       "      <th></th>\n",
       "      <th>배출가스인증번호</th>\n",
       "      <th>제작사명</th>\n",
       "      <th>차명</th>\n",
       "      <th>검사방법</th>\n",
       "      <th>제원관리번호</th>\n",
       "      <th>q1</th>\n",
       "      <th>q2</th>\n",
       "      <th>q3</th>\n",
       "      <th>차량대수</th>\n",
       "      <th>테이블생성일자</th>\n",
       "      <th>q2_mean</th>\n",
       "      <th>검토구분</th>\n",
       "    </tr>\n",
       "  </thead>\n",
       "  <tbody>\n",
       "    <tr>\n",
       "      <th>90</th>\n",
       "      <td>6MY-HD-24-100</td>\n",
       "      <td>현대자동차(주)</td>\n",
       "      <td>싼타페(SANTAFE)</td>\n",
       "      <td>무부하검사(급가속)</td>\n",
       "      <td>A0810006800461306</td>\n",
       "      <td>6.00</td>\n",
       "      <td>15.00</td>\n",
       "      <td>25.00</td>\n",
       "      <td>422</td>\n",
       "      <td>20231026</td>\n",
       "      <td>7.45</td>\n",
       "      <td>양호</td>\n",
       "    </tr>\n",
       "    <tr>\n",
       "      <th>91</th>\n",
       "      <td>6MY-HD-24-100</td>\n",
       "      <td>현대자동차(주)</td>\n",
       "      <td>싼타페(SANTAFE)</td>\n",
       "      <td>무부하검사(급가속)</td>\n",
       "      <td>A0810006800481306</td>\n",
       "      <td>4.50</td>\n",
       "      <td>13.00</td>\n",
       "      <td>24.50</td>\n",
       "      <td>547</td>\n",
       "      <td>20231026</td>\n",
       "      <td>7.45</td>\n",
       "      <td>양호</td>\n",
       "    </tr>\n",
       "    <tr>\n",
       "      <th>92</th>\n",
       "      <td>6MY-HD-24-100</td>\n",
       "      <td>현대자동차(주)</td>\n",
       "      <td>싼타페(SANTAFE)</td>\n",
       "      <td>무부하검사(급가속)</td>\n",
       "      <td>A0810006800561306</td>\n",
       "      <td>0.00</td>\n",
       "      <td>0.00</td>\n",
       "      <td>3.00</td>\n",
       "      <td>232</td>\n",
       "      <td>20231026</td>\n",
       "      <td>7.45</td>\n",
       "      <td>주의</td>\n",
       "    </tr>\n",
       "    <tr>\n",
       "      <th>93</th>\n",
       "      <td>6MY-HD-24-100</td>\n",
       "      <td>현대자동차(주)</td>\n",
       "      <td>싼타페(SANTAFE)</td>\n",
       "      <td>무부하검사(급가속)</td>\n",
       "      <td>A0810006800581306</td>\n",
       "      <td>0.00</td>\n",
       "      <td>0.00</td>\n",
       "      <td>4.00</td>\n",
       "      <td>457</td>\n",
       "      <td>20231026</td>\n",
       "      <td>7.45</td>\n",
       "      <td>주의</td>\n",
       "    </tr>\n",
       "    <tr>\n",
       "      <th>94</th>\n",
       "      <td>6MY-HD-24-100</td>\n",
       "      <td>현대자동차(주)</td>\n",
       "      <td>싼타페(SANTAFE)</td>\n",
       "      <td>무부하검사(급가속)</td>\n",
       "      <td>A0810006800591306</td>\n",
       "      <td>0.00</td>\n",
       "      <td>0.00</td>\n",
       "      <td>1.00</td>\n",
       "      <td>222</td>\n",
       "      <td>20231026</td>\n",
       "      <td>7.45</td>\n",
       "      <td>주의</td>\n",
       "    </tr>\n",
       "    <tr>\n",
       "      <th>95</th>\n",
       "      <td>6MY-HD-24-100</td>\n",
       "      <td>현대자동차(주)</td>\n",
       "      <td>싼타페(SANTAFE)</td>\n",
       "      <td>무부하검사(급가속)</td>\n",
       "      <td>A0810006800681307</td>\n",
       "      <td>3.00</td>\n",
       "      <td>13.50</td>\n",
       "      <td>23.75</td>\n",
       "      <td>298</td>\n",
       "      <td>20231026</td>\n",
       "      <td>7.45</td>\n",
       "      <td>양호</td>\n",
       "    </tr>\n",
       "    <tr>\n",
       "      <th>96</th>\n",
       "      <td>6MY-HD-24-100</td>\n",
       "      <td>현대자동차(주)</td>\n",
       "      <td>싼타페(SANTAFE)</td>\n",
       "      <td>무부하검사(급가속)</td>\n",
       "      <td>A0810006800811207</td>\n",
       "      <td>2.00</td>\n",
       "      <td>9.00</td>\n",
       "      <td>19.00</td>\n",
       "      <td>611</td>\n",
       "      <td>20231026</td>\n",
       "      <td>7.45</td>\n",
       "      <td>양호</td>\n",
       "    </tr>\n",
       "    <tr>\n",
       "      <th>97</th>\n",
       "      <td>6MY-HD-24-100</td>\n",
       "      <td>현대자동차(주)</td>\n",
       "      <td>싼타페(SANTAFE)</td>\n",
       "      <td>무부하검사(급가속)</td>\n",
       "      <td>A0810006800831207</td>\n",
       "      <td>2.00</td>\n",
       "      <td>8.00</td>\n",
       "      <td>18.00</td>\n",
       "      <td>641</td>\n",
       "      <td>20231026</td>\n",
       "      <td>7.45</td>\n",
       "      <td>양호</td>\n",
       "    </tr>\n",
       "    <tr>\n",
       "      <th>98</th>\n",
       "      <td>6MY-HD-24-100</td>\n",
       "      <td>현대자동차(주)</td>\n",
       "      <td>싼타페(SANTAFE)</td>\n",
       "      <td>무부하검사(급가속)</td>\n",
       "      <td>A0810006800901307</td>\n",
       "      <td>3.50</td>\n",
       "      <td>8.00</td>\n",
       "      <td>16.00</td>\n",
       "      <td>107</td>\n",
       "      <td>20231026</td>\n",
       "      <td>7.45</td>\n",
       "      <td>양호</td>\n",
       "    </tr>\n",
       "    <tr>\n",
       "      <th>99</th>\n",
       "      <td>6MY-HD-24-100</td>\n",
       "      <td>현대자동차(주)</td>\n",
       "      <td>싼타페(SANTAFE)</td>\n",
       "      <td>무부하검사(급가속)</td>\n",
       "      <td>A0810006800921307</td>\n",
       "      <td>3.00</td>\n",
       "      <td>8.00</td>\n",
       "      <td>15.00</td>\n",
       "      <td>505</td>\n",
       "      <td>20231026</td>\n",
       "      <td>7.45</td>\n",
       "      <td>양호</td>\n",
       "    </tr>\n",
       "    <tr>\n",
       "      <th>100</th>\n",
       "      <td>6MY-HD-24-100</td>\n",
       "      <td>현대자동차(주)</td>\n",
       "      <td>싼타페(SANTAFE)</td>\n",
       "      <td>부하검사(KD-147)</td>\n",
       "      <td>A0810006800461306</td>\n",
       "      <td>0.00</td>\n",
       "      <td>5.00</td>\n",
       "      <td>12.00</td>\n",
       "      <td>2461</td>\n",
       "      <td>20231026</td>\n",
       "      <td>5.50</td>\n",
       "      <td>양호</td>\n",
       "    </tr>\n",
       "    <tr>\n",
       "      <th>101</th>\n",
       "      <td>6MY-HD-24-100</td>\n",
       "      <td>현대자동차(주)</td>\n",
       "      <td>싼타페(SANTAFE)</td>\n",
       "      <td>부하검사(KD-147)</td>\n",
       "      <td>A0810006800471306</td>\n",
       "      <td>1.00</td>\n",
       "      <td>7.00</td>\n",
       "      <td>13.00</td>\n",
       "      <td>157</td>\n",
       "      <td>20231026</td>\n",
       "      <td>5.50</td>\n",
       "      <td>양호</td>\n",
       "    </tr>\n",
       "    <tr>\n",
       "      <th>102</th>\n",
       "      <td>6MY-HD-24-100</td>\n",
       "      <td>현대자동차(주)</td>\n",
       "      <td>싼타페(SANTAFE)</td>\n",
       "      <td>부하검사(KD-147)</td>\n",
       "      <td>A0810006800481306</td>\n",
       "      <td>1.00</td>\n",
       "      <td>6.00</td>\n",
       "      <td>12.00</td>\n",
       "      <td>3545</td>\n",
       "      <td>20231026</td>\n",
       "      <td>5.50</td>\n",
       "      <td>양호</td>\n",
       "    </tr>\n",
       "    <tr>\n",
       "      <th>103</th>\n",
       "      <td>6MY-HD-24-100</td>\n",
       "      <td>현대자동차(주)</td>\n",
       "      <td>싼타페(SANTAFE)</td>\n",
       "      <td>부하검사(KD-147)</td>\n",
       "      <td>A0810006800491306</td>\n",
       "      <td>1.00</td>\n",
       "      <td>4.00</td>\n",
       "      <td>11.00</td>\n",
       "      <td>475</td>\n",
       "      <td>20231026</td>\n",
       "      <td>5.50</td>\n",
       "      <td>양호</td>\n",
       "    </tr>\n",
       "    <tr>\n",
       "      <th>104</th>\n",
       "      <td>6MY-HD-24-100</td>\n",
       "      <td>현대자동차(주)</td>\n",
       "      <td>싼타페(SANTAFE)</td>\n",
       "      <td>부하검사(KD-147)</td>\n",
       "      <td>A0810006800661307</td>\n",
       "      <td>1.00</td>\n",
       "      <td>5.00</td>\n",
       "      <td>11.00</td>\n",
       "      <td>537</td>\n",
       "      <td>20231026</td>\n",
       "      <td>5.50</td>\n",
       "      <td>양호</td>\n",
       "    </tr>\n",
       "    <tr>\n",
       "      <th>105</th>\n",
       "      <td>6MY-HD-24-100</td>\n",
       "      <td>현대자동차(주)</td>\n",
       "      <td>싼타페(SANTAFE)</td>\n",
       "      <td>부하검사(KD-147)</td>\n",
       "      <td>A0810006800681307</td>\n",
       "      <td>1.00</td>\n",
       "      <td>6.00</td>\n",
       "      <td>12.00</td>\n",
       "      <td>1825</td>\n",
       "      <td>20231026</td>\n",
       "      <td>5.50</td>\n",
       "      <td>양호</td>\n",
       "    </tr>\n",
       "    <tr>\n",
       "      <th>106</th>\n",
       "      <td>6MY-HD-24-100</td>\n",
       "      <td>현대자동차(주)</td>\n",
       "      <td>싼타페(SANTAFE)</td>\n",
       "      <td>부하검사(KD-147)</td>\n",
       "      <td>A0810006800691307</td>\n",
       "      <td>1.00</td>\n",
       "      <td>7.00</td>\n",
       "      <td>15.75</td>\n",
       "      <td>278</td>\n",
       "      <td>20231026</td>\n",
       "      <td>5.50</td>\n",
       "      <td>양호</td>\n",
       "    </tr>\n",
       "    <tr>\n",
       "      <th>107</th>\n",
       "      <td>6MY-HD-24-100</td>\n",
       "      <td>현대자동차(주)</td>\n",
       "      <td>싼타페(SANTAFE)</td>\n",
       "      <td>부하검사(KD-147)</td>\n",
       "      <td>A0810006800801207</td>\n",
       "      <td>1.00</td>\n",
       "      <td>6.00</td>\n",
       "      <td>12.00</td>\n",
       "      <td>371</td>\n",
       "      <td>20231026</td>\n",
       "      <td>5.50</td>\n",
       "      <td>양호</td>\n",
       "    </tr>\n",
       "    <tr>\n",
       "      <th>108</th>\n",
       "      <td>6MY-HD-24-100</td>\n",
       "      <td>현대자동차(주)</td>\n",
       "      <td>싼타페(SANTAFE)</td>\n",
       "      <td>부하검사(KD-147)</td>\n",
       "      <td>A0810006800811207</td>\n",
       "      <td>1.00</td>\n",
       "      <td>5.00</td>\n",
       "      <td>11.00</td>\n",
       "      <td>3298</td>\n",
       "      <td>20231026</td>\n",
       "      <td>5.50</td>\n",
       "      <td>양호</td>\n",
       "    </tr>\n",
       "    <tr>\n",
       "      <th>109</th>\n",
       "      <td>6MY-HD-24-100</td>\n",
       "      <td>현대자동차(주)</td>\n",
       "      <td>싼타페(SANTAFE)</td>\n",
       "      <td>부하검사(KD-147)</td>\n",
       "      <td>A0810006800821207</td>\n",
       "      <td>1.00</td>\n",
       "      <td>5.00</td>\n",
       "      <td>10.00</td>\n",
       "      <td>457</td>\n",
       "      <td>20231026</td>\n",
       "      <td>5.50</td>\n",
       "      <td>양호</td>\n",
       "    </tr>\n",
       "    <tr>\n",
       "      <th>110</th>\n",
       "      <td>6MY-HD-24-100</td>\n",
       "      <td>현대자동차(주)</td>\n",
       "      <td>싼타페(SANTAFE)</td>\n",
       "      <td>부하검사(KD-147)</td>\n",
       "      <td>A0810006800831207</td>\n",
       "      <td>1.00</td>\n",
       "      <td>6.00</td>\n",
       "      <td>11.00</td>\n",
       "      <td>3639</td>\n",
       "      <td>20231026</td>\n",
       "      <td>5.50</td>\n",
       "      <td>양호</td>\n",
       "    </tr>\n",
       "    <tr>\n",
       "      <th>111</th>\n",
       "      <td>6MY-HD-24-100</td>\n",
       "      <td>현대자동차(주)</td>\n",
       "      <td>싼타페(SANTAFE)</td>\n",
       "      <td>부하검사(KD-147)</td>\n",
       "      <td>A0810006800901307</td>\n",
       "      <td>1.00</td>\n",
       "      <td>5.00</td>\n",
       "      <td>9.00</td>\n",
       "      <td>598</td>\n",
       "      <td>20231026</td>\n",
       "      <td>5.50</td>\n",
       "      <td>양호</td>\n",
       "    </tr>\n",
       "    <tr>\n",
       "      <th>112</th>\n",
       "      <td>6MY-HD-24-100</td>\n",
       "      <td>현대자동차(주)</td>\n",
       "      <td>싼타페(SANTAFE)</td>\n",
       "      <td>부하검사(KD-147)</td>\n",
       "      <td>A0810006800921307</td>\n",
       "      <td>1.00</td>\n",
       "      <td>5.00</td>\n",
       "      <td>9.00</td>\n",
       "      <td>2981</td>\n",
       "      <td>20231026</td>\n",
       "      <td>5.50</td>\n",
       "      <td>양호</td>\n",
       "    </tr>\n",
       "    <tr>\n",
       "      <th>113</th>\n",
       "      <td>6MY-HD-24-100</td>\n",
       "      <td>현대자동차(주)</td>\n",
       "      <td>싼타페(SANTAFE)</td>\n",
       "      <td>부하검사(KD-147)</td>\n",
       "      <td>A0810006800931307</td>\n",
       "      <td>1.00</td>\n",
       "      <td>5.00</td>\n",
       "      <td>10.00</td>\n",
       "      <td>575</td>\n",
       "      <td>20231026</td>\n",
       "      <td>5.50</td>\n",
       "      <td>양호</td>\n",
       "    </tr>\n",
       "  </tbody>\n",
       "</table>\n",
       "</div>"
      ],
      "text/plain": [
       "          배출가스인증번호      제작사명            차명          검사방법             제원관리번호  \\\n",
       "90   6MY-HD-24-100  현대자동차(주)  싼타페(SANTAFE)    무부하검사(급가속)  A0810006800461306   \n",
       "91   6MY-HD-24-100  현대자동차(주)  싼타페(SANTAFE)    무부하검사(급가속)  A0810006800481306   \n",
       "92   6MY-HD-24-100  현대자동차(주)  싼타페(SANTAFE)    무부하검사(급가속)  A0810006800561306   \n",
       "93   6MY-HD-24-100  현대자동차(주)  싼타페(SANTAFE)    무부하검사(급가속)  A0810006800581306   \n",
       "94   6MY-HD-24-100  현대자동차(주)  싼타페(SANTAFE)    무부하검사(급가속)  A0810006800591306   \n",
       "95   6MY-HD-24-100  현대자동차(주)  싼타페(SANTAFE)    무부하검사(급가속)  A0810006800681307   \n",
       "96   6MY-HD-24-100  현대자동차(주)  싼타페(SANTAFE)    무부하검사(급가속)  A0810006800811207   \n",
       "97   6MY-HD-24-100  현대자동차(주)  싼타페(SANTAFE)    무부하검사(급가속)  A0810006800831207   \n",
       "98   6MY-HD-24-100  현대자동차(주)  싼타페(SANTAFE)    무부하검사(급가속)  A0810006800901307   \n",
       "99   6MY-HD-24-100  현대자동차(주)  싼타페(SANTAFE)    무부하검사(급가속)  A0810006800921307   \n",
       "100  6MY-HD-24-100  현대자동차(주)  싼타페(SANTAFE)  부하검사(KD-147)  A0810006800461306   \n",
       "101  6MY-HD-24-100  현대자동차(주)  싼타페(SANTAFE)  부하검사(KD-147)  A0810006800471306   \n",
       "102  6MY-HD-24-100  현대자동차(주)  싼타페(SANTAFE)  부하검사(KD-147)  A0810006800481306   \n",
       "103  6MY-HD-24-100  현대자동차(주)  싼타페(SANTAFE)  부하검사(KD-147)  A0810006800491306   \n",
       "104  6MY-HD-24-100  현대자동차(주)  싼타페(SANTAFE)  부하검사(KD-147)  A0810006800661307   \n",
       "105  6MY-HD-24-100  현대자동차(주)  싼타페(SANTAFE)  부하검사(KD-147)  A0810006800681307   \n",
       "106  6MY-HD-24-100  현대자동차(주)  싼타페(SANTAFE)  부하검사(KD-147)  A0810006800691307   \n",
       "107  6MY-HD-24-100  현대자동차(주)  싼타페(SANTAFE)  부하검사(KD-147)  A0810006800801207   \n",
       "108  6MY-HD-24-100  현대자동차(주)  싼타페(SANTAFE)  부하검사(KD-147)  A0810006800811207   \n",
       "109  6MY-HD-24-100  현대자동차(주)  싼타페(SANTAFE)  부하검사(KD-147)  A0810006800821207   \n",
       "110  6MY-HD-24-100  현대자동차(주)  싼타페(SANTAFE)  부하검사(KD-147)  A0810006800831207   \n",
       "111  6MY-HD-24-100  현대자동차(주)  싼타페(SANTAFE)  부하검사(KD-147)  A0810006800901307   \n",
       "112  6MY-HD-24-100  현대자동차(주)  싼타페(SANTAFE)  부하검사(KD-147)  A0810006800921307   \n",
       "113  6MY-HD-24-100  현대자동차(주)  싼타페(SANTAFE)  부하검사(KD-147)  A0810006800931307   \n",
       "\n",
       "      q1    q2    q3  차량대수   테이블생성일자  q2_mean 검토구분  \n",
       "90  6.00 15.00 25.00   422  20231026     7.45   양호  \n",
       "91  4.50 13.00 24.50   547  20231026     7.45   양호  \n",
       "92  0.00  0.00  3.00   232  20231026     7.45   주의  \n",
       "93  0.00  0.00  4.00   457  20231026     7.45   주의  \n",
       "94  0.00  0.00  1.00   222  20231026     7.45   주의  \n",
       "95  3.00 13.50 23.75   298  20231026     7.45   양호  \n",
       "96  2.00  9.00 19.00   611  20231026     7.45   양호  \n",
       "97  2.00  8.00 18.00   641  20231026     7.45   양호  \n",
       "98  3.50  8.00 16.00   107  20231026     7.45   양호  \n",
       "99  3.00  8.00 15.00   505  20231026     7.45   양호  \n",
       "100 0.00  5.00 12.00  2461  20231026     5.50   양호  \n",
       "101 1.00  7.00 13.00   157  20231026     5.50   양호  \n",
       "102 1.00  6.00 12.00  3545  20231026     5.50   양호  \n",
       "103 1.00  4.00 11.00   475  20231026     5.50   양호  \n",
       "104 1.00  5.00 11.00   537  20231026     5.50   양호  \n",
       "105 1.00  6.00 12.00  1825  20231026     5.50   양호  \n",
       "106 1.00  7.00 15.75   278  20231026     5.50   양호  \n",
       "107 1.00  6.00 12.00   371  20231026     5.50   양호  \n",
       "108 1.00  5.00 11.00  3298  20231026     5.50   양호  \n",
       "109 1.00  5.00 10.00   457  20231026     5.50   양호  \n",
       "110 1.00  6.00 11.00  3639  20231026     5.50   양호  \n",
       "111 1.00  5.00  9.00   598  20231026     5.50   양호  \n",
       "112 1.00  5.00  9.00  2981  20231026     5.50   양호  \n",
       "113 1.00  5.00 10.00   575  20231026     5.50   양호  "
      ]
     },
     "execution_count": 126,
     "metadata": {},
     "output_type": "execute_result"
    }
   ],
   "source": [
    "grp7[grp7['배출가스인증번호'] == '6MY-HD-24-100']"
   ]
  },
  {
   "cell_type": "code",
   "execution_count": 127,
   "metadata": {},
   "outputs": [
    {
     "data": {
      "text/html": [
       "<div>\n",
       "<style scoped>\n",
       "    .dataframe tbody tr th:only-of-type {\n",
       "        vertical-align: middle;\n",
       "    }\n",
       "\n",
       "    .dataframe tbody tr th {\n",
       "        vertical-align: top;\n",
       "    }\n",
       "\n",
       "    .dataframe thead th {\n",
       "        text-align: right;\n",
       "    }\n",
       "</style>\n",
       "<table border=\"1\" class=\"dataframe\">\n",
       "  <thead>\n",
       "    <tr style=\"text-align: right;\">\n",
       "      <th></th>\n",
       "      <th>배출가스인증번호</th>\n",
       "      <th>제작사명</th>\n",
       "      <th>차명</th>\n",
       "      <th>검사방법</th>\n",
       "      <th>제원관리번호</th>\n",
       "      <th>q1</th>\n",
       "      <th>q2</th>\n",
       "      <th>q3</th>\n",
       "      <th>차량대수</th>\n",
       "      <th>테이블생성일자</th>\n",
       "      <th>q2_mean</th>\n",
       "      <th>검토구분</th>\n",
       "    </tr>\n",
       "  </thead>\n",
       "  <tbody>\n",
       "    <tr>\n",
       "      <th>169</th>\n",
       "      <td>6MY-KM-14-61</td>\n",
       "      <td>기아자동차(주)</td>\n",
       "      <td>스포티지</td>\n",
       "      <td>무부하검사(급가속)</td>\n",
       "      <td>A0110003400351205</td>\n",
       "      <td>0.00</td>\n",
       "      <td>1.00</td>\n",
       "      <td>4.00</td>\n",
       "      <td>123</td>\n",
       "      <td>20231026</td>\n",
       "      <td>2.20</td>\n",
       "      <td>양호</td>\n",
       "    </tr>\n",
       "    <tr>\n",
       "      <th>170</th>\n",
       "      <td>6MY-KM-14-61</td>\n",
       "      <td>기아자동차(주)</td>\n",
       "      <td>스포티지</td>\n",
       "      <td>무부하검사(급가속)</td>\n",
       "      <td>A0110003400361205</td>\n",
       "      <td>0.00</td>\n",
       "      <td>2.00</td>\n",
       "      <td>9.00</td>\n",
       "      <td>1046</td>\n",
       "      <td>20231026</td>\n",
       "      <td>2.20</td>\n",
       "      <td>양호</td>\n",
       "    </tr>\n",
       "    <tr>\n",
       "      <th>171</th>\n",
       "      <td>6MY-KM-14-61</td>\n",
       "      <td>기아자동차(주)</td>\n",
       "      <td>스포티지</td>\n",
       "      <td>무부하검사(급가속)</td>\n",
       "      <td>A0110003400431206</td>\n",
       "      <td>0.00</td>\n",
       "      <td>3.00</td>\n",
       "      <td>12.00</td>\n",
       "      <td>592</td>\n",
       "      <td>20231026</td>\n",
       "      <td>2.20</td>\n",
       "      <td>양호</td>\n",
       "    </tr>\n",
       "    <tr>\n",
       "      <th>172</th>\n",
       "      <td>6MY-KM-14-61</td>\n",
       "      <td>기아자동차(주)</td>\n",
       "      <td>스포티지</td>\n",
       "      <td>무부하검사(급가속)</td>\n",
       "      <td>A0110003400441206</td>\n",
       "      <td>0.00</td>\n",
       "      <td>3.00</td>\n",
       "      <td>10.00</td>\n",
       "      <td>2633</td>\n",
       "      <td>20231026</td>\n",
       "      <td>2.20</td>\n",
       "      <td>양호</td>\n",
       "    </tr>\n",
       "    <tr>\n",
       "      <th>173</th>\n",
       "      <td>6MY-KM-14-61</td>\n",
       "      <td>기아자동차(주)</td>\n",
       "      <td>스포티지</td>\n",
       "      <td>무부하검사(급가속)</td>\n",
       "      <td>A0110003400491207</td>\n",
       "      <td>0.00</td>\n",
       "      <td>1.00</td>\n",
       "      <td>7.00</td>\n",
       "      <td>173</td>\n",
       "      <td>20231026</td>\n",
       "      <td>2.20</td>\n",
       "      <td>양호</td>\n",
       "    </tr>\n",
       "    <tr>\n",
       "      <th>174</th>\n",
       "      <td>6MY-KM-14-61</td>\n",
       "      <td>기아자동차(주)</td>\n",
       "      <td>스포티지</td>\n",
       "      <td>무부하검사(급가속)</td>\n",
       "      <td>A0110003400501207</td>\n",
       "      <td>0.00</td>\n",
       "      <td>1.00</td>\n",
       "      <td>7.00</td>\n",
       "      <td>1215</td>\n",
       "      <td>20231026</td>\n",
       "      <td>2.20</td>\n",
       "      <td>양호</td>\n",
       "    </tr>\n",
       "    <tr>\n",
       "      <th>175</th>\n",
       "      <td>6MY-KM-14-61</td>\n",
       "      <td>기아자동차(주)</td>\n",
       "      <td>스포티지</td>\n",
       "      <td>무부하검사(급가속)</td>\n",
       "      <td>A0110003400571208</td>\n",
       "      <td>0.00</td>\n",
       "      <td>1.00</td>\n",
       "      <td>9.00</td>\n",
       "      <td>101</td>\n",
       "      <td>20231026</td>\n",
       "      <td>2.20</td>\n",
       "      <td>양호</td>\n",
       "    </tr>\n",
       "    <tr>\n",
       "      <th>176</th>\n",
       "      <td>6MY-KM-14-61</td>\n",
       "      <td>기아자동차(주)</td>\n",
       "      <td>스포티지</td>\n",
       "      <td>무부하검사(급가속)</td>\n",
       "      <td>A0110003400581208</td>\n",
       "      <td>0.00</td>\n",
       "      <td>3.00</td>\n",
       "      <td>9.00</td>\n",
       "      <td>1249</td>\n",
       "      <td>20231026</td>\n",
       "      <td>2.20</td>\n",
       "      <td>양호</td>\n",
       "    </tr>\n",
       "    <tr>\n",
       "      <th>177</th>\n",
       "      <td>6MY-KM-14-61</td>\n",
       "      <td>기아자동차(주)</td>\n",
       "      <td>스포티지</td>\n",
       "      <td>무부하검사(급가속)</td>\n",
       "      <td>A0110003400661209</td>\n",
       "      <td>0.00</td>\n",
       "      <td>3.00</td>\n",
       "      <td>9.00</td>\n",
       "      <td>141</td>\n",
       "      <td>20231026</td>\n",
       "      <td>2.20</td>\n",
       "      <td>양호</td>\n",
       "    </tr>\n",
       "    <tr>\n",
       "      <th>178</th>\n",
       "      <td>6MY-KM-14-61</td>\n",
       "      <td>기아자동차(주)</td>\n",
       "      <td>스포티지</td>\n",
       "      <td>무부하검사(급가속)</td>\n",
       "      <td>A0110003400681209</td>\n",
       "      <td>0.00</td>\n",
       "      <td>4.00</td>\n",
       "      <td>10.00</td>\n",
       "      <td>1970</td>\n",
       "      <td>20231026</td>\n",
       "      <td>2.20</td>\n",
       "      <td>양호</td>\n",
       "    </tr>\n",
       "    <tr>\n",
       "      <th>179</th>\n",
       "      <td>6MY-KM-14-61</td>\n",
       "      <td>기아자동차(주)</td>\n",
       "      <td>스포티지</td>\n",
       "      <td>부하검사(KD-147)</td>\n",
       "      <td>A0110003400351205</td>\n",
       "      <td>0.00</td>\n",
       "      <td>1.00</td>\n",
       "      <td>3.00</td>\n",
       "      <td>630</td>\n",
       "      <td>20231026</td>\n",
       "      <td>1.08</td>\n",
       "      <td>양호</td>\n",
       "    </tr>\n",
       "    <tr>\n",
       "      <th>180</th>\n",
       "      <td>6MY-KM-14-61</td>\n",
       "      <td>기아자동차(주)</td>\n",
       "      <td>스포티지</td>\n",
       "      <td>부하검사(KD-147)</td>\n",
       "      <td>A0110003400361205</td>\n",
       "      <td>0.00</td>\n",
       "      <td>1.00</td>\n",
       "      <td>3.00</td>\n",
       "      <td>6646</td>\n",
       "      <td>20231026</td>\n",
       "      <td>1.08</td>\n",
       "      <td>양호</td>\n",
       "    </tr>\n",
       "    <tr>\n",
       "      <th>181</th>\n",
       "      <td>6MY-KM-14-61</td>\n",
       "      <td>기아자동차(주)</td>\n",
       "      <td>스포티지</td>\n",
       "      <td>부하검사(KD-147)</td>\n",
       "      <td>A0110003400421206</td>\n",
       "      <td>0.00</td>\n",
       "      <td>4.00</td>\n",
       "      <td>9.00</td>\n",
       "      <td>114</td>\n",
       "      <td>20231026</td>\n",
       "      <td>1.08</td>\n",
       "      <td>양호</td>\n",
       "    </tr>\n",
       "    <tr>\n",
       "      <th>182</th>\n",
       "      <td>6MY-KM-14-61</td>\n",
       "      <td>기아자동차(주)</td>\n",
       "      <td>스포티지</td>\n",
       "      <td>부하검사(KD-147)</td>\n",
       "      <td>A0110003400431206</td>\n",
       "      <td>0.00</td>\n",
       "      <td>1.00</td>\n",
       "      <td>4.00</td>\n",
       "      <td>2902</td>\n",
       "      <td>20231026</td>\n",
       "      <td>1.08</td>\n",
       "      <td>양호</td>\n",
       "    </tr>\n",
       "    <tr>\n",
       "      <th>183</th>\n",
       "      <td>6MY-KM-14-61</td>\n",
       "      <td>기아자동차(주)</td>\n",
       "      <td>스포티지</td>\n",
       "      <td>부하검사(KD-147)</td>\n",
       "      <td>A0110003400441206</td>\n",
       "      <td>0.00</td>\n",
       "      <td>1.00</td>\n",
       "      <td>4.00</td>\n",
       "      <td>15498</td>\n",
       "      <td>20231026</td>\n",
       "      <td>1.08</td>\n",
       "      <td>양호</td>\n",
       "    </tr>\n",
       "    <tr>\n",
       "      <th>184</th>\n",
       "      <td>6MY-KM-14-61</td>\n",
       "      <td>기아자동차(주)</td>\n",
       "      <td>스포티지</td>\n",
       "      <td>부하검사(KD-147)</td>\n",
       "      <td>A0110003400491207</td>\n",
       "      <td>0.00</td>\n",
       "      <td>0.00</td>\n",
       "      <td>3.00</td>\n",
       "      <td>675</td>\n",
       "      <td>20231026</td>\n",
       "      <td>1.08</td>\n",
       "      <td>주의</td>\n",
       "    </tr>\n",
       "    <tr>\n",
       "      <th>185</th>\n",
       "      <td>6MY-KM-14-61</td>\n",
       "      <td>기아자동차(주)</td>\n",
       "      <td>스포티지</td>\n",
       "      <td>부하검사(KD-147)</td>\n",
       "      <td>A0110003400501207</td>\n",
       "      <td>0.00</td>\n",
       "      <td>0.00</td>\n",
       "      <td>3.00</td>\n",
       "      <td>7223</td>\n",
       "      <td>20231026</td>\n",
       "      <td>1.08</td>\n",
       "      <td>주의</td>\n",
       "    </tr>\n",
       "    <tr>\n",
       "      <th>186</th>\n",
       "      <td>6MY-KM-14-61</td>\n",
       "      <td>기아자동차(주)</td>\n",
       "      <td>스포티지</td>\n",
       "      <td>부하검사(KD-147)</td>\n",
       "      <td>A0110003400571208</td>\n",
       "      <td>0.00</td>\n",
       "      <td>1.00</td>\n",
       "      <td>3.00</td>\n",
       "      <td>378</td>\n",
       "      <td>20231026</td>\n",
       "      <td>1.08</td>\n",
       "      <td>양호</td>\n",
       "    </tr>\n",
       "    <tr>\n",
       "      <th>187</th>\n",
       "      <td>6MY-KM-14-61</td>\n",
       "      <td>기아자동차(주)</td>\n",
       "      <td>스포티지</td>\n",
       "      <td>부하검사(KD-147)</td>\n",
       "      <td>A0110003400581208</td>\n",
       "      <td>0.00</td>\n",
       "      <td>1.00</td>\n",
       "      <td>3.00</td>\n",
       "      <td>6583</td>\n",
       "      <td>20231026</td>\n",
       "      <td>1.08</td>\n",
       "      <td>양호</td>\n",
       "    </tr>\n",
       "    <tr>\n",
       "      <th>188</th>\n",
       "      <td>6MY-KM-14-61</td>\n",
       "      <td>기아자동차(주)</td>\n",
       "      <td>스포티지</td>\n",
       "      <td>부하검사(KD-147)</td>\n",
       "      <td>A0110003400631208</td>\n",
       "      <td>0.00</td>\n",
       "      <td>1.00</td>\n",
       "      <td>5.00</td>\n",
       "      <td>385</td>\n",
       "      <td>20231026</td>\n",
       "      <td>1.08</td>\n",
       "      <td>양호</td>\n",
       "    </tr>\n",
       "    <tr>\n",
       "      <th>189</th>\n",
       "      <td>6MY-KM-14-61</td>\n",
       "      <td>기아자동차(주)</td>\n",
       "      <td>스포티지</td>\n",
       "      <td>부하검사(KD-147)</td>\n",
       "      <td>A0110003400671209</td>\n",
       "      <td>0.00</td>\n",
       "      <td>1.00</td>\n",
       "      <td>4.00</td>\n",
       "      <td>297</td>\n",
       "      <td>20231026</td>\n",
       "      <td>1.08</td>\n",
       "      <td>양호</td>\n",
       "    </tr>\n",
       "    <tr>\n",
       "      <th>190</th>\n",
       "      <td>6MY-KM-14-61</td>\n",
       "      <td>기아자동차(주)</td>\n",
       "      <td>스포티지</td>\n",
       "      <td>부하검사(KD-147)</td>\n",
       "      <td>A0110003400681209</td>\n",
       "      <td>0.00</td>\n",
       "      <td>1.00</td>\n",
       "      <td>3.00</td>\n",
       "      <td>10590</td>\n",
       "      <td>20231026</td>\n",
       "      <td>1.08</td>\n",
       "      <td>양호</td>\n",
       "    </tr>\n",
       "  </tbody>\n",
       "</table>\n",
       "</div>"
      ],
      "text/plain": [
       "         배출가스인증번호      제작사명    차명          검사방법             제원관리번호   q1   q2  \\\n",
       "169  6MY-KM-14-61  기아자동차(주)  스포티지    무부하검사(급가속)  A0110003400351205 0.00 1.00   \n",
       "170  6MY-KM-14-61  기아자동차(주)  스포티지    무부하검사(급가속)  A0110003400361205 0.00 2.00   \n",
       "171  6MY-KM-14-61  기아자동차(주)  스포티지    무부하검사(급가속)  A0110003400431206 0.00 3.00   \n",
       "172  6MY-KM-14-61  기아자동차(주)  스포티지    무부하검사(급가속)  A0110003400441206 0.00 3.00   \n",
       "173  6MY-KM-14-61  기아자동차(주)  스포티지    무부하검사(급가속)  A0110003400491207 0.00 1.00   \n",
       "174  6MY-KM-14-61  기아자동차(주)  스포티지    무부하검사(급가속)  A0110003400501207 0.00 1.00   \n",
       "175  6MY-KM-14-61  기아자동차(주)  스포티지    무부하검사(급가속)  A0110003400571208 0.00 1.00   \n",
       "176  6MY-KM-14-61  기아자동차(주)  스포티지    무부하검사(급가속)  A0110003400581208 0.00 3.00   \n",
       "177  6MY-KM-14-61  기아자동차(주)  스포티지    무부하검사(급가속)  A0110003400661209 0.00 3.00   \n",
       "178  6MY-KM-14-61  기아자동차(주)  스포티지    무부하검사(급가속)  A0110003400681209 0.00 4.00   \n",
       "179  6MY-KM-14-61  기아자동차(주)  스포티지  부하검사(KD-147)  A0110003400351205 0.00 1.00   \n",
       "180  6MY-KM-14-61  기아자동차(주)  스포티지  부하검사(KD-147)  A0110003400361205 0.00 1.00   \n",
       "181  6MY-KM-14-61  기아자동차(주)  스포티지  부하검사(KD-147)  A0110003400421206 0.00 4.00   \n",
       "182  6MY-KM-14-61  기아자동차(주)  스포티지  부하검사(KD-147)  A0110003400431206 0.00 1.00   \n",
       "183  6MY-KM-14-61  기아자동차(주)  스포티지  부하검사(KD-147)  A0110003400441206 0.00 1.00   \n",
       "184  6MY-KM-14-61  기아자동차(주)  스포티지  부하검사(KD-147)  A0110003400491207 0.00 0.00   \n",
       "185  6MY-KM-14-61  기아자동차(주)  스포티지  부하검사(KD-147)  A0110003400501207 0.00 0.00   \n",
       "186  6MY-KM-14-61  기아자동차(주)  스포티지  부하검사(KD-147)  A0110003400571208 0.00 1.00   \n",
       "187  6MY-KM-14-61  기아자동차(주)  스포티지  부하검사(KD-147)  A0110003400581208 0.00 1.00   \n",
       "188  6MY-KM-14-61  기아자동차(주)  스포티지  부하검사(KD-147)  A0110003400631208 0.00 1.00   \n",
       "189  6MY-KM-14-61  기아자동차(주)  스포티지  부하검사(KD-147)  A0110003400671209 0.00 1.00   \n",
       "190  6MY-KM-14-61  기아자동차(주)  스포티지  부하검사(KD-147)  A0110003400681209 0.00 1.00   \n",
       "\n",
       "       q3   차량대수   테이블생성일자  q2_mean 검토구분  \n",
       "169  4.00    123  20231026     2.20   양호  \n",
       "170  9.00   1046  20231026     2.20   양호  \n",
       "171 12.00    592  20231026     2.20   양호  \n",
       "172 10.00   2633  20231026     2.20   양호  \n",
       "173  7.00    173  20231026     2.20   양호  \n",
       "174  7.00   1215  20231026     2.20   양호  \n",
       "175  9.00    101  20231026     2.20   양호  \n",
       "176  9.00   1249  20231026     2.20   양호  \n",
       "177  9.00    141  20231026     2.20   양호  \n",
       "178 10.00   1970  20231026     2.20   양호  \n",
       "179  3.00    630  20231026     1.08   양호  \n",
       "180  3.00   6646  20231026     1.08   양호  \n",
       "181  9.00    114  20231026     1.08   양호  \n",
       "182  4.00   2902  20231026     1.08   양호  \n",
       "183  4.00  15498  20231026     1.08   양호  \n",
       "184  3.00    675  20231026     1.08   주의  \n",
       "185  3.00   7223  20231026     1.08   주의  \n",
       "186  3.00    378  20231026     1.08   양호  \n",
       "187  3.00   6583  20231026     1.08   양호  \n",
       "188  5.00    385  20231026     1.08   양호  \n",
       "189  4.00    297  20231026     1.08   양호  \n",
       "190  3.00  10590  20231026     1.08   양호  "
      ]
     },
     "execution_count": 127,
     "metadata": {},
     "output_type": "execute_result"
    }
   ],
   "source": [
    "grp7[grp7['배출가스인증번호'] == '6MY-KM-14-61']"
   ]
  },
  {
   "cell_type": "code",
   "execution_count": 128,
   "metadata": {},
   "outputs": [
    {
     "data": {
      "text/html": [
       "<div>\n",
       "<style scoped>\n",
       "    .dataframe tbody tr th:only-of-type {\n",
       "        vertical-align: middle;\n",
       "    }\n",
       "\n",
       "    .dataframe tbody tr th {\n",
       "        vertical-align: top;\n",
       "    }\n",
       "\n",
       "    .dataframe thead th {\n",
       "        text-align: right;\n",
       "    }\n",
       "</style>\n",
       "<table border=\"1\" class=\"dataframe\">\n",
       "  <thead>\n",
       "    <tr style=\"text-align: right;\">\n",
       "      <th></th>\n",
       "      <th>배출가스인증번호</th>\n",
       "      <th>제작사명</th>\n",
       "      <th>차명</th>\n",
       "      <th>검사방법</th>\n",
       "      <th>제원관리번호</th>\n",
       "      <th>q1</th>\n",
       "      <th>q2</th>\n",
       "      <th>q3</th>\n",
       "      <th>차량대수</th>\n",
       "      <th>테이블생성일자</th>\n",
       "      <th>q2_mean</th>\n",
       "      <th>검토구분</th>\n",
       "    </tr>\n",
       "  </thead>\n",
       "  <tbody>\n",
       "    <tr>\n",
       "      <th>209</th>\n",
       "      <td>6MY-MK-14-13</td>\n",
       "      <td>메르세데스벤츠코리아(주)</td>\n",
       "      <td>E220 CDI</td>\n",
       "      <td>부하검사(KD-147)</td>\n",
       "      <td>00820001800111308</td>\n",
       "      <td>0.00</td>\n",
       "      <td>0.00</td>\n",
       "      <td>1.00</td>\n",
       "      <td>124</td>\n",
       "      <td>20231026</td>\n",
       "      <td>0.50</td>\n",
       "      <td>주의</td>\n",
       "    </tr>\n",
       "    <tr>\n",
       "      <th>210</th>\n",
       "      <td>6MY-MK-14-13</td>\n",
       "      <td>메르세데스벤츠코리아(주)</td>\n",
       "      <td>E220 CDI</td>\n",
       "      <td>부하검사(KD-147)</td>\n",
       "      <td>00820001900001306</td>\n",
       "      <td>0.00</td>\n",
       "      <td>1.00</td>\n",
       "      <td>4.00</td>\n",
       "      <td>224</td>\n",
       "      <td>20231026</td>\n",
       "      <td>0.50</td>\n",
       "      <td>양호</td>\n",
       "    </tr>\n",
       "  </tbody>\n",
       "</table>\n",
       "</div>"
      ],
      "text/plain": [
       "         배출가스인증번호           제작사명        차명          검사방법             제원관리번호  \\\n",
       "209  6MY-MK-14-13  메르세데스벤츠코리아(주)  E220 CDI  부하검사(KD-147)  00820001800111308   \n",
       "210  6MY-MK-14-13  메르세데스벤츠코리아(주)  E220 CDI  부하검사(KD-147)  00820001900001306   \n",
       "\n",
       "      q1   q2   q3  차량대수   테이블생성일자  q2_mean 검토구분  \n",
       "209 0.00 0.00 1.00   124  20231026     0.50   주의  \n",
       "210 0.00 1.00 4.00   224  20231026     0.50   양호  "
      ]
     },
     "execution_count": 128,
     "metadata": {},
     "output_type": "execute_result"
    }
   ],
   "source": [
    "grp7[grp7['배출가스인증번호'] == '6MY-MK-14-13']"
   ]
  },
  {
   "cell_type": "code",
   "execution_count": 129,
   "metadata": {},
   "outputs": [
    {
     "data": {
      "text/html": [
       "<div>\n",
       "<style scoped>\n",
       "    .dataframe tbody tr th:only-of-type {\n",
       "        vertical-align: middle;\n",
       "    }\n",
       "\n",
       "    .dataframe tbody tr th {\n",
       "        vertical-align: top;\n",
       "    }\n",
       "\n",
       "    .dataframe thead th {\n",
       "        text-align: right;\n",
       "    }\n",
       "</style>\n",
       "<table border=\"1\" class=\"dataframe\">\n",
       "  <thead>\n",
       "    <tr style=\"text-align: right;\">\n",
       "      <th></th>\n",
       "      <th>배출가스인증번호</th>\n",
       "      <th>제작사명</th>\n",
       "      <th>차명</th>\n",
       "      <th>검사방법</th>\n",
       "      <th>제원관리번호</th>\n",
       "      <th>q1</th>\n",
       "      <th>q2</th>\n",
       "      <th>q3</th>\n",
       "      <th>차량대수</th>\n",
       "      <th>테이블생성일자</th>\n",
       "      <th>q2_mean</th>\n",
       "      <th>검토구분</th>\n",
       "    </tr>\n",
       "  </thead>\n",
       "  <tbody>\n",
       "    <tr>\n",
       "      <th>257</th>\n",
       "      <td>7MY-HD-13-58</td>\n",
       "      <td>현대자동차(주)</td>\n",
       "      <td>싼타페(SANTAFE)</td>\n",
       "      <td>무부하검사(급가속)</td>\n",
       "      <td>A0810006801001307</td>\n",
       "      <td>0.00</td>\n",
       "      <td>0.00</td>\n",
       "      <td>2.00</td>\n",
       "      <td>355</td>\n",
       "      <td>20231026</td>\n",
       "      <td>0.14</td>\n",
       "      <td>주의</td>\n",
       "    </tr>\n",
       "    <tr>\n",
       "      <th>258</th>\n",
       "      <td>7MY-HD-13-58</td>\n",
       "      <td>현대자동차(주)</td>\n",
       "      <td>싼타페(SANTAFE)</td>\n",
       "      <td>무부하검사(급가속)</td>\n",
       "      <td>A0810006801021307</td>\n",
       "      <td>0.00</td>\n",
       "      <td>0.00</td>\n",
       "      <td>1.00</td>\n",
       "      <td>623</td>\n",
       "      <td>20231026</td>\n",
       "      <td>0.14</td>\n",
       "      <td>주의</td>\n",
       "    </tr>\n",
       "    <tr>\n",
       "      <th>259</th>\n",
       "      <td>7MY-HD-13-58</td>\n",
       "      <td>현대자동차(주)</td>\n",
       "      <td>싼타페(SANTAFE)</td>\n",
       "      <td>무부하검사(급가속)</td>\n",
       "      <td>A0810006801031307</td>\n",
       "      <td>0.00</td>\n",
       "      <td>0.00</td>\n",
       "      <td>1.00</td>\n",
       "      <td>185</td>\n",
       "      <td>20231026</td>\n",
       "      <td>0.14</td>\n",
       "      <td>주의</td>\n",
       "    </tr>\n",
       "    <tr>\n",
       "      <th>260</th>\n",
       "      <td>7MY-HD-13-58</td>\n",
       "      <td>현대자동차(주)</td>\n",
       "      <td>싼타페(SANTAFE)</td>\n",
       "      <td>무부하검사(급가속)</td>\n",
       "      <td>A0810006801141308</td>\n",
       "      <td>0.00</td>\n",
       "      <td>1.00</td>\n",
       "      <td>4.00</td>\n",
       "      <td>200</td>\n",
       "      <td>20231026</td>\n",
       "      <td>0.14</td>\n",
       "      <td>주의</td>\n",
       "    </tr>\n",
       "    <tr>\n",
       "      <th>261</th>\n",
       "      <td>7MY-HD-13-58</td>\n",
       "      <td>현대자동차(주)</td>\n",
       "      <td>싼타페(SANTAFE)</td>\n",
       "      <td>무부하검사(급가속)</td>\n",
       "      <td>A0810006801371308</td>\n",
       "      <td>0.00</td>\n",
       "      <td>0.00</td>\n",
       "      <td>4.00</td>\n",
       "      <td>348</td>\n",
       "      <td>20231026</td>\n",
       "      <td>0.14</td>\n",
       "      <td>주의</td>\n",
       "    </tr>\n",
       "    <tr>\n",
       "      <th>262</th>\n",
       "      <td>7MY-HD-13-58</td>\n",
       "      <td>현대자동차(주)</td>\n",
       "      <td>싼타페(SANTAFE)</td>\n",
       "      <td>무부하검사(급가속)</td>\n",
       "      <td>A0810006801381308</td>\n",
       "      <td>0.00</td>\n",
       "      <td>0.00</td>\n",
       "      <td>2.00</td>\n",
       "      <td>966</td>\n",
       "      <td>20231026</td>\n",
       "      <td>0.14</td>\n",
       "      <td>주의</td>\n",
       "    </tr>\n",
       "    <tr>\n",
       "      <th>263</th>\n",
       "      <td>7MY-HD-13-58</td>\n",
       "      <td>현대자동차(주)</td>\n",
       "      <td>싼타페(SANTAFE)</td>\n",
       "      <td>무부하검사(급가속)</td>\n",
       "      <td>A0810006801391308</td>\n",
       "      <td>0.00</td>\n",
       "      <td>0.00</td>\n",
       "      <td>3.00</td>\n",
       "      <td>146</td>\n",
       "      <td>20231026</td>\n",
       "      <td>0.14</td>\n",
       "      <td>주의</td>\n",
       "    </tr>\n",
       "  </tbody>\n",
       "</table>\n",
       "</div>"
      ],
      "text/plain": [
       "         배출가스인증번호      제작사명            차명        검사방법             제원관리번호   q1  \\\n",
       "257  7MY-HD-13-58  현대자동차(주)  싼타페(SANTAFE)  무부하검사(급가속)  A0810006801001307 0.00   \n",
       "258  7MY-HD-13-58  현대자동차(주)  싼타페(SANTAFE)  무부하검사(급가속)  A0810006801021307 0.00   \n",
       "259  7MY-HD-13-58  현대자동차(주)  싼타페(SANTAFE)  무부하검사(급가속)  A0810006801031307 0.00   \n",
       "260  7MY-HD-13-58  현대자동차(주)  싼타페(SANTAFE)  무부하검사(급가속)  A0810006801141308 0.00   \n",
       "261  7MY-HD-13-58  현대자동차(주)  싼타페(SANTAFE)  무부하검사(급가속)  A0810006801371308 0.00   \n",
       "262  7MY-HD-13-58  현대자동차(주)  싼타페(SANTAFE)  무부하검사(급가속)  A0810006801381308 0.00   \n",
       "263  7MY-HD-13-58  현대자동차(주)  싼타페(SANTAFE)  무부하검사(급가속)  A0810006801391308 0.00   \n",
       "\n",
       "      q2   q3  차량대수   테이블생성일자  q2_mean 검토구분  \n",
       "257 0.00 2.00   355  20231026     0.14   주의  \n",
       "258 0.00 1.00   623  20231026     0.14   주의  \n",
       "259 0.00 1.00   185  20231026     0.14   주의  \n",
       "260 1.00 4.00   200  20231026     0.14   주의  \n",
       "261 0.00 4.00   348  20231026     0.14   주의  \n",
       "262 0.00 2.00   966  20231026     0.14   주의  \n",
       "263 0.00 3.00   146  20231026     0.14   주의  "
      ]
     },
     "execution_count": 129,
     "metadata": {},
     "output_type": "execute_result"
    }
   ],
   "source": [
    "grp7[grp7['배출가스인증번호'] == '7MY-HD-13-58']"
   ]
  },
  {
   "cell_type": "code",
   "execution_count": null,
   "metadata": {},
   "outputs": [
    {
     "data": {
      "text/html": [
       "<div>\n",
       "<style scoped>\n",
       "    .dataframe tbody tr th:only-of-type {\n",
       "        vertical-align: middle;\n",
       "    }\n",
       "\n",
       "    .dataframe tbody tr th {\n",
       "        vertical-align: top;\n",
       "    }\n",
       "\n",
       "    .dataframe thead th {\n",
       "        text-align: right;\n",
       "    }\n",
       "</style>\n",
       "<table border=\"1\" class=\"dataframe\">\n",
       "  <thead>\n",
       "    <tr style=\"text-align: right;\">\n",
       "      <th></th>\n",
       "      <th>배출가스인증번호</th>\n",
       "      <th>검토주의</th>\n",
       "    </tr>\n",
       "  </thead>\n",
       "  <tbody>\n",
       "    <tr>\n",
       "      <th>0</th>\n",
       "      <td>5MY-AD-13-06</td>\n",
       "      <td>양호</td>\n",
       "    </tr>\n",
       "    <tr>\n",
       "      <th>1</th>\n",
       "      <td>5MY-AD-14-08</td>\n",
       "      <td>양호</td>\n",
       "    </tr>\n",
       "    <tr>\n",
       "      <th>2</th>\n",
       "      <td>5MY-AD-14-18</td>\n",
       "      <td>양호</td>\n",
       "    </tr>\n",
       "    <tr>\n",
       "      <th>3</th>\n",
       "      <td>5MY-BK-14-07</td>\n",
       "      <td>양호</td>\n",
       "    </tr>\n",
       "    <tr>\n",
       "      <th>4</th>\n",
       "      <td>5MY-HD-24-35</td>\n",
       "      <td>양호</td>\n",
       "    </tr>\n",
       "    <tr>\n",
       "      <th>...</th>\n",
       "      <td>...</td>\n",
       "      <td>...</td>\n",
       "    </tr>\n",
       "    <tr>\n",
       "      <th>63</th>\n",
       "      <td>9MY-HD-14-21</td>\n",
       "      <td>양호</td>\n",
       "    </tr>\n",
       "    <tr>\n",
       "      <th>64</th>\n",
       "      <td>9MY-KM-14-22</td>\n",
       "      <td>양호</td>\n",
       "    </tr>\n",
       "    <tr>\n",
       "      <th>65</th>\n",
       "      <td>9MY-KM-14-41</td>\n",
       "      <td>양호</td>\n",
       "    </tr>\n",
       "    <tr>\n",
       "      <th>66</th>\n",
       "      <td>9MY-PA-13-1</td>\n",
       "      <td>양호</td>\n",
       "    </tr>\n",
       "    <tr>\n",
       "      <th>67</th>\n",
       "      <td>AMY-JL-13-9</td>\n",
       "      <td>양호</td>\n",
       "    </tr>\n",
       "  </tbody>\n",
       "</table>\n",
       "<p>68 rows × 2 columns</p>\n",
       "</div>"
      ],
      "text/plain": [
       "        배출가스인증번호 검토주의\n",
       "0   5MY-AD-13-06   양호\n",
       "1   5MY-AD-14-08   양호\n",
       "2   5MY-AD-14-18   양호\n",
       "3   5MY-BK-14-07   양호\n",
       "4   5MY-HD-24-35   양호\n",
       "..           ...  ...\n",
       "63  9MY-HD-14-21   양호\n",
       "64  9MY-KM-14-22   양호\n",
       "65  9MY-KM-14-41   양호\n",
       "66   9MY-PA-13-1   양호\n",
       "67   AMY-JL-13-9   양호\n",
       "\n",
       "[68 rows x 2 columns]"
      ]
     },
     "execution_count": 310,
     "metadata": {},
     "output_type": "execute_result"
    }
   ],
   "source": [
    "cert_no_list, pf_list = [], []\n",
    "for cert_no in grp7['배출가스인증번호'].unique():\n",
    "    temp = grp7[(grp7['배출가스인증번호'] == cert_no) & (grp7['검토구분'] == '주의')]\n",
    "    if temp.shape[0] == 0:\n",
    "        pf = '양호'\n",
    "    else:\n",
    "        pf = '주의'\n",
    "    cert_no_list.append(cert_no)\n",
    "    pf_list.append(pf)\n",
    "cert_pf = pd.DataFrame({'배출가스인증번호':cert_no_list, '검토주의':pf_list})\n",
    "cert_pf"
   ]
  },
  {
   "cell_type": "code",
   "execution_count": null,
   "metadata": {},
   "outputs": [
    {
     "data": {
      "text/plain": [
       "검토주의\n",
       "양호    62\n",
       "주의     6\n",
       "Name: count, dtype: int64"
      ]
     },
     "execution_count": 311,
     "metadata": {},
     "output_type": "execute_result"
    }
   ],
   "source": [
    "cert_pf['검토주의'].value_counts(dropna=False)"
   ]
  },
  {
   "cell_type": "code",
   "execution_count": null,
   "metadata": {},
   "outputs": [],
   "source": []
  },
  {
   "cell_type": "code",
   "execution_count": null,
   "metadata": {},
   "outputs": [
    {
     "data": {
      "text/plain": [
       "Index(['배출가스인증번호', '제작사명', '차명', '검사방법', '제원관리번호', 'q1', 'q2', 'q3', '차량대수',\n",
       "       '테이블생성일자', 'q2_mean', '검토구분'],\n",
       "      dtype='object')"
      ]
     },
     "execution_count": 281,
     "metadata": {},
     "output_type": "execute_result"
    }
   ],
   "source": [
    "grp7.columns"
   ]
  },
  {
   "cell_type": "code",
   "execution_count": null,
   "metadata": {},
   "outputs": [],
   "source": [
    "STD_BD_DAT_GRD4_CERT_NO_RVW = grp7[[\n",
    "    '배출가스인증번호',\n",
    "    '검사방법',\n",
    "    '검토구분',\n",
    "    '제작사명',\n",
    "    '차명',\n",
    "    '제원관리번호',\n",
    "    'q1',\n",
    "    'q2',\n",
    "    'q3',\n",
    "    '테이블생성일자',\n",
    "]]"
   ]
  },
  {
   "cell_type": "code",
   "execution_count": null,
   "metadata": {},
   "outputs": [
    {
     "data": {
      "text/plain": [
       "Index(['EXHST_GAS_CERT_NO', 'INSP_MTHD', 'RVW_SE', 'RPRS_MNFCTR_NM',\n",
       "       'RPRS_VHCNM', 'MANG_MNG_NO', 'LOWR_QRT', 'MID_QRT', 'UP_QRT',\n",
       "       'LOAD_DT'],\n",
       "      dtype='object')"
      ]
     },
     "execution_count": 284,
     "metadata": {},
     "output_type": "execute_result"
    }
   ],
   "source": [
    "cdict = {\n",
    "    '배출가스인증번호':'EXHST_GAS_CERT_NO',\n",
    "    '검사방법':'INSP_MTHD',\n",
    "    '검토구분':'RVW_SE',\n",
    "    '제작사명':'RPRS_MNFCTR_NM',\n",
    "    '차명':'RPRS_VHCNM', \n",
    "    '제원관리번호':'MANG_MNG_NO',\n",
    "    'q1':'LOWR_QRT',\n",
    "    'q2':'MID_QRT',\n",
    "    'q3':'UP_QRT',\n",
    "    '테이블생성일자':'LOAD_DT',\n",
    "}\n",
    "STD_BD_DAT_GRD4_CERT_NO_RVW = STD_BD_DAT_GRD4_CERT_NO_RVW.rename(columns=cdict)\n",
    "STD_BD_DAT_GRD4_CERT_NO_RVW.columns"
   ]
  },
  {
   "cell_type": "code",
   "execution_count": null,
   "metadata": {},
   "outputs": [],
   "source": [
    "# # 0s\n",
    "# STD_BD_DAT_GRD4_CERT_NO_RVW.to_csv(os.path.join(df1_fold, f'STD_BD_DAT_GRD4_CERT_NO_RVW({today_date}).csv'), index=False)"
   ]
  },
  {
   "cell_type": "markdown",
   "metadata": {},
   "source": [
    "### [출력] STD_BD_DAT_GRD4_CERT_NO_RVW"
   ]
  },
  {
   "cell_type": "code",
   "execution_count": null,
   "metadata": {},
   "outputs": [],
   "source": [
    "# expdf = STD_BD_DAT_GRD4_CERT_NO_RVW\n",
    "# table_nm = 'STD_BD_DAT_GRD4_CERT_NO_RVW'.upper()\n",
    "\n",
    "# # 테이블 생성\n",
    "# sql = 'create or replace table ' + table_nm + '( \\n'\n",
    "\n",
    "# for idx,column in enumerate(expdf.columns):\n",
    "#     if 'float' in expdf[column].dtype.name:\n",
    "#         sql += column + ' float'\n",
    "#     elif 'int' in expdf[column].dtype.name:\n",
    "#         sql += column + ' number'\n",
    "#     else:\n",
    "#         sql += column + ' varchar(255)'\n",
    "\n",
    "#     if len(expdf.columns) - 1 != idx:\n",
    "#         sql += ','\n",
    "#     sql += '\\n'\n",
    "# sql += ')'    \n",
    "# we.execute(sql)\n",
    "\n",
    "# # 데이터 추가\n",
    "# # 1s\n",
    "# we.import_from_pandas(expdf, table_nm)"
   ]
  },
  {
   "cell_type": "code",
   "execution_count": null,
   "metadata": {},
   "outputs": [],
   "source": [
    "# # 0s\n",
    "# STD_BD_DAT_GRD4_CERT_NO_RVW.to_csv(os.path.join(df1_fold, 'STD_BD_DAT_GRD4_CERT_NO_RVW.csv'), index=False)"
   ]
  },
  {
   "cell_type": "code",
   "execution_count": null,
   "metadata": {},
   "outputs": [],
   "source": [
    "# 조건에 맞는 샘플 df에 '검토구분' 정보 추가\n",
    "# sidf.merge(grp7, on=['배출가스인증번호', '제원관리번호', '제작사명', '차명', '검사방법'])"
   ]
  },
  {
   "cell_type": "code",
   "execution_count": null,
   "metadata": {},
   "outputs": [
    {
     "data": {
      "text/plain": [
       "(891036, 20)"
      ]
     },
     "execution_count": 291,
     "metadata": {},
     "output_type": "execute_result"
    }
   ],
   "source": [
    "sidf.shape"
   ]
  },
  {
   "cell_type": "code",
   "execution_count": null,
   "metadata": {},
   "outputs": [
    {
     "data": {
      "text/plain": [
       "Index(['차대번호', '제원관리번호', '차종', '차량연식', '차명', '차종유형', '제작사명', '연료', '법정동코드',\n",
       "       '배출가스인증번호', '검사방법', '검사종류', '검사판정', '주행거리', '무부하매연판정1', '무부하매연허용치1',\n",
       "       '무부하매연측정치1', '차령', 'SI', '테이블생성일자'],\n",
       "      dtype='object')"
      ]
     },
     "execution_count": 292,
     "metadata": {},
     "output_type": "execute_result"
    }
   ],
   "source": [
    "sidf.columns"
   ]
  },
  {
   "cell_type": "code",
   "execution_count": null,
   "metadata": {},
   "outputs": [
    {
     "data": {
      "text/plain": [
       "(1141, 12)"
      ]
     },
     "execution_count": 293,
     "metadata": {},
     "output_type": "execute_result"
    }
   ],
   "source": [
    "grp7.shape"
   ]
  },
  {
   "cell_type": "code",
   "execution_count": null,
   "metadata": {},
   "outputs": [
    {
     "data": {
      "text/plain": [
       "Index(['배출가스인증번호', '제작사명', '차명', '검사방법', '제원관리번호', 'q1', 'q2', 'q3', '차량대수',\n",
       "       '테이블생성일자', 'q2_mean', '검토구분'],\n",
       "      dtype='object')"
      ]
     },
     "execution_count": 294,
     "metadata": {},
     "output_type": "execute_result"
    }
   ],
   "source": [
    "grp7.columns"
   ]
  },
  {
   "cell_type": "code",
   "execution_count": null,
   "metadata": {},
   "outputs": [
    {
     "data": {
      "text/html": [
       "<div>\n",
       "<style scoped>\n",
       "    .dataframe tbody tr th:only-of-type {\n",
       "        vertical-align: middle;\n",
       "    }\n",
       "\n",
       "    .dataframe tbody tr th {\n",
       "        vertical-align: top;\n",
       "    }\n",
       "\n",
       "    .dataframe thead th {\n",
       "        text-align: right;\n",
       "    }\n",
       "</style>\n",
       "<table border=\"1\" class=\"dataframe\">\n",
       "  <thead>\n",
       "    <tr style=\"text-align: right;\">\n",
       "      <th></th>\n",
       "      <th>배출가스인증번호</th>\n",
       "      <th>제작사명</th>\n",
       "      <th>차명</th>\n",
       "      <th>검사방법</th>\n",
       "      <th>제원관리번호</th>\n",
       "      <th>차종</th>\n",
       "      <th>연료</th>\n",
       "      <th>최초연식</th>\n",
       "      <th>열화도</th>\n",
       "    </tr>\n",
       "  </thead>\n",
       "  <tbody>\n",
       "    <tr>\n",
       "      <th>0</th>\n",
       "      <td>5MY-AD-13-06</td>\n",
       "      <td>아우디폭스바겐코리아(주)</td>\n",
       "      <td>Phaeton 3.0 TDI</td>\n",
       "      <td>무부하검사(급가속)</td>\n",
       "      <td>02420004800011305</td>\n",
       "      <td>승용</td>\n",
       "      <td>경유</td>\n",
       "      <td>2006</td>\n",
       "      <td>0.03</td>\n",
       "    </tr>\n",
       "    <tr>\n",
       "      <th>1</th>\n",
       "      <td>5MY-AD-13-06</td>\n",
       "      <td>아우디폭스바겐코리아(주)</td>\n",
       "      <td>Phaeton 3.0 TDI</td>\n",
       "      <td>무부하검사(급가속)</td>\n",
       "      <td>02420004800021306</td>\n",
       "      <td>승용</td>\n",
       "      <td>경유</td>\n",
       "      <td>2007</td>\n",
       "      <td>0.02</td>\n",
       "    </tr>\n",
       "    <tr>\n",
       "      <th>2</th>\n",
       "      <td>5MY-AD-14-08</td>\n",
       "      <td>아우디폭스바겐코리아(주)</td>\n",
       "      <td>Passat 2.0 TDI</td>\n",
       "      <td>부하검사(KD-147)</td>\n",
       "      <td>02420006800031206</td>\n",
       "      <td>승용</td>\n",
       "      <td>경유</td>\n",
       "      <td>2007</td>\n",
       "      <td>0.04</td>\n",
       "    </tr>\n",
       "    <tr>\n",
       "      <th>3</th>\n",
       "      <td>5MY-AD-14-08</td>\n",
       "      <td>아우디폭스바겐코리아(주)</td>\n",
       "      <td>Passat 2.0 TDI</td>\n",
       "      <td>부하검사(KD-147)</td>\n",
       "      <td>02420006800111207</td>\n",
       "      <td>승용</td>\n",
       "      <td>경유</td>\n",
       "      <td>2008</td>\n",
       "      <td>0.04</td>\n",
       "    </tr>\n",
       "    <tr>\n",
       "      <th>4</th>\n",
       "      <td>5MY-AD-14-18</td>\n",
       "      <td>아우디폭스바겐코리아(주)</td>\n",
       "      <td>Golf 2.0 TDI</td>\n",
       "      <td>부하검사(KD-147)</td>\n",
       "      <td>02420004900031207</td>\n",
       "      <td>승용</td>\n",
       "      <td>경유</td>\n",
       "      <td>2008</td>\n",
       "      <td>0.09</td>\n",
       "    </tr>\n",
       "    <tr>\n",
       "      <th>...</th>\n",
       "      <td>...</td>\n",
       "      <td>...</td>\n",
       "      <td>...</td>\n",
       "      <td>...</td>\n",
       "      <td>...</td>\n",
       "      <td>...</td>\n",
       "      <td>...</td>\n",
       "      <td>...</td>\n",
       "      <td>...</td>\n",
       "    </tr>\n",
       "    <tr>\n",
       "      <th>1136</th>\n",
       "      <td>9MY-KM-14-41</td>\n",
       "      <td>기아자동차(주)</td>\n",
       "      <td>카니발</td>\n",
       "      <td>부하검사(KD-147)</td>\n",
       "      <td>A0110003800871309</td>\n",
       "      <td>승용</td>\n",
       "      <td>경유</td>\n",
       "      <td>2010</td>\n",
       "      <td>0.31</td>\n",
       "    </tr>\n",
       "    <tr>\n",
       "      <th>1137</th>\n",
       "      <td>9MY-KM-14-41</td>\n",
       "      <td>기아자동차(주)</td>\n",
       "      <td>카니발</td>\n",
       "      <td>부하검사(KD-147)</td>\n",
       "      <td>A0110003800901310</td>\n",
       "      <td>승용</td>\n",
       "      <td>경유</td>\n",
       "      <td>2011</td>\n",
       "      <td>0.33</td>\n",
       "    </tr>\n",
       "    <tr>\n",
       "      <th>1138</th>\n",
       "      <td>9MY-KM-14-41</td>\n",
       "      <td>기아자동차(주)</td>\n",
       "      <td>카니발</td>\n",
       "      <td>부하검사(KD-147)</td>\n",
       "      <td>A0110003800911310</td>\n",
       "      <td>승용</td>\n",
       "      <td>경유</td>\n",
       "      <td>2011</td>\n",
       "      <td>0.33</td>\n",
       "    </tr>\n",
       "    <tr>\n",
       "      <th>1139</th>\n",
       "      <td>9MY-PA-13-1</td>\n",
       "      <td>(주)볼보자동차코리아</td>\n",
       "      <td>볼보 XC60D5</td>\n",
       "      <td>무부하검사(급가속)</td>\n",
       "      <td>00920003200021309</td>\n",
       "      <td>승용</td>\n",
       "      <td>경유</td>\n",
       "      <td>2010</td>\n",
       "      <td>0.02</td>\n",
       "    </tr>\n",
       "    <tr>\n",
       "      <th>1140</th>\n",
       "      <td>AMY-JL-13-9</td>\n",
       "      <td>(주)재규어랜드로버코리아</td>\n",
       "      <td>프리랜더 TD4</td>\n",
       "      <td>무부하검사(급가속)</td>\n",
       "      <td>04220000900021309</td>\n",
       "      <td>승용</td>\n",
       "      <td>경유</td>\n",
       "      <td>2010</td>\n",
       "      <td>0.01</td>\n",
       "    </tr>\n",
       "  </tbody>\n",
       "</table>\n",
       "<p>1141 rows × 9 columns</p>\n",
       "</div>"
      ],
      "text/plain": [
       "          배출가스인증번호           제작사명               차명          검사방법   \n",
       "0     5MY-AD-13-06  아우디폭스바겐코리아(주)  Phaeton 3.0 TDI    무부하검사(급가속)  \\\n",
       "1     5MY-AD-13-06  아우디폭스바겐코리아(주)  Phaeton 3.0 TDI    무부하검사(급가속)   \n",
       "2     5MY-AD-14-08  아우디폭스바겐코리아(주)   Passat 2.0 TDI  부하검사(KD-147)   \n",
       "3     5MY-AD-14-08  아우디폭스바겐코리아(주)   Passat 2.0 TDI  부하검사(KD-147)   \n",
       "4     5MY-AD-14-18  아우디폭스바겐코리아(주)     Golf 2.0 TDI  부하검사(KD-147)   \n",
       "...            ...            ...              ...           ...   \n",
       "1136  9MY-KM-14-41       기아자동차(주)              카니발  부하검사(KD-147)   \n",
       "1137  9MY-KM-14-41       기아자동차(주)              카니발  부하검사(KD-147)   \n",
       "1138  9MY-KM-14-41       기아자동차(주)              카니발  부하검사(KD-147)   \n",
       "1139   9MY-PA-13-1    (주)볼보자동차코리아        볼보 XC60D5    무부하검사(급가속)   \n",
       "1140   AMY-JL-13-9  (주)재규어랜드로버코리아         프리랜더 TD4    무부하검사(급가속)   \n",
       "\n",
       "                 제원관리번호  차종  연료  최초연식  열화도  \n",
       "0     02420004800011305  승용  경유  2006 0.03  \n",
       "1     02420004800021306  승용  경유  2007 0.02  \n",
       "2     02420006800031206  승용  경유  2007 0.04  \n",
       "3     02420006800111207  승용  경유  2008 0.04  \n",
       "4     02420004900031207  승용  경유  2008 0.09  \n",
       "...                 ...  ..  ..   ...  ...  \n",
       "1136  A0110003800871309  승용  경유  2010 0.31  \n",
       "1137  A0110003800901310  승용  경유  2011 0.33  \n",
       "1138  A0110003800911310  승용  경유  2011 0.33  \n",
       "1139  00920003200021309  승용  경유  2010 0.02  \n",
       "1140  04220000900021309  승용  경유  2010 0.01  \n",
       "\n",
       "[1141 rows x 9 columns]"
      ]
     },
     "execution_count": 301,
     "metadata": {},
     "output_type": "execute_result"
    }
   ],
   "source": [
    "grp_sidf = sidf.groupby(['배출가스인증번호', '제작사명', '차명', '검사방법', '제원관리번호']).agg({'차종':lambda x:x.value_counts().index[0], '연료':lambda x:x.value_counts().index[0], '차량연식':lambda x : x.nsmallest(1), 'SI':'mean'}).reset_index()\n",
    "grp_sidf = grp_sidf.rename(columns={'차량연식':'최초연식', 'SI':'열화도'})\n",
    "grp_sidf"
   ]
  },
  {
   "cell_type": "code",
   "execution_count": null,
   "metadata": {},
   "outputs": [
    {
     "data": {
      "text/html": [
       "<div>\n",
       "<style scoped>\n",
       "    .dataframe tbody tr th:only-of-type {\n",
       "        vertical-align: middle;\n",
       "    }\n",
       "\n",
       "    .dataframe tbody tr th {\n",
       "        vertical-align: top;\n",
       "    }\n",
       "\n",
       "    .dataframe thead th {\n",
       "        text-align: right;\n",
       "    }\n",
       "</style>\n",
       "<table border=\"1\" class=\"dataframe\">\n",
       "  <thead>\n",
       "    <tr style=\"text-align: right;\">\n",
       "      <th></th>\n",
       "      <th>배출가스인증번호</th>\n",
       "      <th>제작사명</th>\n",
       "      <th>차명</th>\n",
       "      <th>검사방법</th>\n",
       "      <th>제원관리번호</th>\n",
       "      <th>차종</th>\n",
       "      <th>연료</th>\n",
       "      <th>최초연식</th>\n",
       "      <th>열화도</th>\n",
       "    </tr>\n",
       "  </thead>\n",
       "  <tbody>\n",
       "    <tr>\n",
       "      <th>0</th>\n",
       "      <td>5MY-AD-13-06</td>\n",
       "      <td>아우디폭스바겐코리아(주)</td>\n",
       "      <td>Phaeton 3.0 TDI</td>\n",
       "      <td>무부하검사(급가속)</td>\n",
       "      <td>02420004800011305</td>\n",
       "      <td>승용</td>\n",
       "      <td>경유</td>\n",
       "      <td>2006</td>\n",
       "      <td>0.03</td>\n",
       "    </tr>\n",
       "    <tr>\n",
       "      <th>1</th>\n",
       "      <td>5MY-AD-13-06</td>\n",
       "      <td>아우디폭스바겐코리아(주)</td>\n",
       "      <td>Phaeton 3.0 TDI</td>\n",
       "      <td>무부하검사(급가속)</td>\n",
       "      <td>02420004800021306</td>\n",
       "      <td>승용</td>\n",
       "      <td>경유</td>\n",
       "      <td>2007</td>\n",
       "      <td>0.02</td>\n",
       "    </tr>\n",
       "    <tr>\n",
       "      <th>2</th>\n",
       "      <td>5MY-AD-14-08</td>\n",
       "      <td>아우디폭스바겐코리아(주)</td>\n",
       "      <td>Passat 2.0 TDI</td>\n",
       "      <td>부하검사(KD-147)</td>\n",
       "      <td>02420006800031206</td>\n",
       "      <td>승용</td>\n",
       "      <td>경유</td>\n",
       "      <td>2007</td>\n",
       "      <td>0.04</td>\n",
       "    </tr>\n",
       "    <tr>\n",
       "      <th>3</th>\n",
       "      <td>5MY-AD-14-08</td>\n",
       "      <td>아우디폭스바겐코리아(주)</td>\n",
       "      <td>Passat 2.0 TDI</td>\n",
       "      <td>부하검사(KD-147)</td>\n",
       "      <td>02420006800111207</td>\n",
       "      <td>승용</td>\n",
       "      <td>경유</td>\n",
       "      <td>2008</td>\n",
       "      <td>0.04</td>\n",
       "    </tr>\n",
       "    <tr>\n",
       "      <th>4</th>\n",
       "      <td>5MY-AD-14-18</td>\n",
       "      <td>아우디폭스바겐코리아(주)</td>\n",
       "      <td>Golf 2.0 TDI</td>\n",
       "      <td>부하검사(KD-147)</td>\n",
       "      <td>02420004900031207</td>\n",
       "      <td>승용</td>\n",
       "      <td>경유</td>\n",
       "      <td>2008</td>\n",
       "      <td>0.09</td>\n",
       "    </tr>\n",
       "    <tr>\n",
       "      <th>5</th>\n",
       "      <td>5MY-AD-14-18</td>\n",
       "      <td>아우디폭스바겐코리아(주)</td>\n",
       "      <td>Golf 2.0 TDI</td>\n",
       "      <td>부하검사(KD-147)</td>\n",
       "      <td>02420004900041208</td>\n",
       "      <td>승용</td>\n",
       "      <td>경유</td>\n",
       "      <td>2009</td>\n",
       "      <td>0.10</td>\n",
       "    </tr>\n",
       "    <tr>\n",
       "      <th>6</th>\n",
       "      <td>5MY-AD-14-18</td>\n",
       "      <td>아우디폭스바겐코리아(주)</td>\n",
       "      <td>Jetta 2.0 TDI</td>\n",
       "      <td>부하검사(KD-147)</td>\n",
       "      <td>02420007000021207</td>\n",
       "      <td>승용</td>\n",
       "      <td>경유</td>\n",
       "      <td>2008</td>\n",
       "      <td>0.06</td>\n",
       "    </tr>\n",
       "    <tr>\n",
       "      <th>7</th>\n",
       "      <td>5MY-BK-14-07</td>\n",
       "      <td>비엠더블유코리아(주)</td>\n",
       "      <td>BMW X3 3.0d</td>\n",
       "      <td>무부하검사(급가속)</td>\n",
       "      <td>00120001600041305</td>\n",
       "      <td>승용</td>\n",
       "      <td>경유</td>\n",
       "      <td>2006</td>\n",
       "      <td>0.05</td>\n",
       "    </tr>\n",
       "    <tr>\n",
       "      <th>8</th>\n",
       "      <td>5MY-HD-24-35</td>\n",
       "      <td>현대자동차(주)</td>\n",
       "      <td>베르나(VERNA)</td>\n",
       "      <td>부하검사(KD-147)</td>\n",
       "      <td>A0810006700341105</td>\n",
       "      <td>승용</td>\n",
       "      <td>경유</td>\n",
       "      <td>2006</td>\n",
       "      <td>0.47</td>\n",
       "    </tr>\n",
       "    <tr>\n",
       "      <th>9</th>\n",
       "      <td>5MY-HD-24-35</td>\n",
       "      <td>현대자동차(주)</td>\n",
       "      <td>베르나(VERNA)</td>\n",
       "      <td>부하검사(KD-147)</td>\n",
       "      <td>A0810006700421105</td>\n",
       "      <td>승용</td>\n",
       "      <td>경유</td>\n",
       "      <td>2006</td>\n",
       "      <td>0.48</td>\n",
       "    </tr>\n",
       "  </tbody>\n",
       "</table>\n",
       "</div>"
      ],
      "text/plain": [
       "       배출가스인증번호           제작사명               차명          검사방법   \n",
       "0  5MY-AD-13-06  아우디폭스바겐코리아(주)  Phaeton 3.0 TDI    무부하검사(급가속)  \\\n",
       "1  5MY-AD-13-06  아우디폭스바겐코리아(주)  Phaeton 3.0 TDI    무부하검사(급가속)   \n",
       "2  5MY-AD-14-08  아우디폭스바겐코리아(주)   Passat 2.0 TDI  부하검사(KD-147)   \n",
       "3  5MY-AD-14-08  아우디폭스바겐코리아(주)   Passat 2.0 TDI  부하검사(KD-147)   \n",
       "4  5MY-AD-14-18  아우디폭스바겐코리아(주)     Golf 2.0 TDI  부하검사(KD-147)   \n",
       "5  5MY-AD-14-18  아우디폭스바겐코리아(주)     Golf 2.0 TDI  부하검사(KD-147)   \n",
       "6  5MY-AD-14-18  아우디폭스바겐코리아(주)    Jetta 2.0 TDI  부하검사(KD-147)   \n",
       "7  5MY-BK-14-07    비엠더블유코리아(주)      BMW X3 3.0d    무부하검사(급가속)   \n",
       "8  5MY-HD-24-35       현대자동차(주)       베르나(VERNA)  부하검사(KD-147)   \n",
       "9  5MY-HD-24-35       현대자동차(주)       베르나(VERNA)  부하검사(KD-147)   \n",
       "\n",
       "              제원관리번호  차종  연료  최초연식  열화도  \n",
       "0  02420004800011305  승용  경유  2006 0.03  \n",
       "1  02420004800021306  승용  경유  2007 0.02  \n",
       "2  02420006800031206  승용  경유  2007 0.04  \n",
       "3  02420006800111207  승용  경유  2008 0.04  \n",
       "4  02420004900031207  승용  경유  2008 0.09  \n",
       "5  02420004900041208  승용  경유  2009 0.10  \n",
       "6  02420007000021207  승용  경유  2008 0.06  \n",
       "7  00120001600041305  승용  경유  2006 0.05  \n",
       "8  A0810006700341105  승용  경유  2006 0.47  \n",
       "9  A0810006700421105  승용  경유  2006 0.48  "
      ]
     },
     "execution_count": 323,
     "metadata": {},
     "output_type": "execute_result"
    }
   ],
   "source": [
    "grp_sidf.head(10)"
   ]
  },
  {
   "cell_type": "code",
   "execution_count": null,
   "metadata": {},
   "outputs": [
    {
     "data": {
      "text/plain": [
       "(1141, 10)"
      ]
     },
     "execution_count": 302,
     "metadata": {},
     "output_type": "execute_result"
    }
   ],
   "source": [
    "df71 = grp_sidf.merge(grp7[['배출가스인증번호', '제원관리번호', '제작사명', '차명', '검사방법', '검토구분']], on=['배출가스인증번호', '제원관리번호', '제작사명', '차명', '검사방법'], how='left')\n",
    "df71.shape"
   ]
  },
  {
   "cell_type": "code",
   "execution_count": null,
   "metadata": {},
   "outputs": [
    {
     "data": {
      "text/plain": [
       "Index(['배출가스인증번호', '제작사명', '차명', '검사방법', '제원관리번호', '차종', '연료', '최초연식', '열화도',\n",
       "       '검토구분'],\n",
       "      dtype='object')"
      ]
     },
     "execution_count": 303,
     "metadata": {},
     "output_type": "execute_result"
    }
   ],
   "source": [
    "df71.columns"
   ]
  },
  {
   "cell_type": "code",
   "execution_count": null,
   "metadata": {},
   "outputs": [
    {
     "data": {
      "text/plain": [
       "검토구분\n",
       "양호    1125\n",
       "주의      16\n",
       "Name: count, dtype: int64"
      ]
     },
     "execution_count": 304,
     "metadata": {},
     "output_type": "execute_result"
    }
   ],
   "source": [
    "df71['검토구분'].value_counts(dropna=False)"
   ]
  },
  {
   "cell_type": "code",
   "execution_count": null,
   "metadata": {},
   "outputs": [
    {
     "data": {
      "text/html": [
       "<div>\n",
       "<style scoped>\n",
       "    .dataframe tbody tr th:only-of-type {\n",
       "        vertical-align: middle;\n",
       "    }\n",
       "\n",
       "    .dataframe tbody tr th {\n",
       "        vertical-align: top;\n",
       "    }\n",
       "\n",
       "    .dataframe thead th {\n",
       "        text-align: right;\n",
       "    }\n",
       "</style>\n",
       "<table border=\"1\" class=\"dataframe\">\n",
       "  <thead>\n",
       "    <tr style=\"text-align: right;\">\n",
       "      <th></th>\n",
       "      <th>배출가스인증번호</th>\n",
       "      <th>제작사명</th>\n",
       "      <th>차명</th>\n",
       "      <th>검사방법</th>\n",
       "      <th>제원관리번호</th>\n",
       "      <th>차종</th>\n",
       "      <th>연료</th>\n",
       "      <th>최초연식</th>\n",
       "      <th>열화도</th>\n",
       "      <th>검토구분</th>\n",
       "    </tr>\n",
       "  </thead>\n",
       "  <tbody>\n",
       "    <tr>\n",
       "      <th>0</th>\n",
       "      <td>5MY-AD-13-06</td>\n",
       "      <td>아우디폭스바겐코리아(주)</td>\n",
       "      <td>Phaeton 3.0 TDI</td>\n",
       "      <td>무부하검사(급가속)</td>\n",
       "      <td>02420004800011305</td>\n",
       "      <td>승용</td>\n",
       "      <td>경유</td>\n",
       "      <td>2006</td>\n",
       "      <td>0.03</td>\n",
       "      <td>양호</td>\n",
       "    </tr>\n",
       "    <tr>\n",
       "      <th>1</th>\n",
       "      <td>5MY-AD-13-06</td>\n",
       "      <td>아우디폭스바겐코리아(주)</td>\n",
       "      <td>Phaeton 3.0 TDI</td>\n",
       "      <td>무부하검사(급가속)</td>\n",
       "      <td>02420004800021306</td>\n",
       "      <td>승용</td>\n",
       "      <td>경유</td>\n",
       "      <td>2007</td>\n",
       "      <td>0.02</td>\n",
       "      <td>양호</td>\n",
       "    </tr>\n",
       "    <tr>\n",
       "      <th>2</th>\n",
       "      <td>5MY-AD-14-08</td>\n",
       "      <td>아우디폭스바겐코리아(주)</td>\n",
       "      <td>Passat 2.0 TDI</td>\n",
       "      <td>부하검사(KD-147)</td>\n",
       "      <td>02420006800031206</td>\n",
       "      <td>승용</td>\n",
       "      <td>경유</td>\n",
       "      <td>2007</td>\n",
       "      <td>0.04</td>\n",
       "      <td>양호</td>\n",
       "    </tr>\n",
       "    <tr>\n",
       "      <th>3</th>\n",
       "      <td>5MY-AD-14-08</td>\n",
       "      <td>아우디폭스바겐코리아(주)</td>\n",
       "      <td>Passat 2.0 TDI</td>\n",
       "      <td>부하검사(KD-147)</td>\n",
       "      <td>02420006800111207</td>\n",
       "      <td>승용</td>\n",
       "      <td>경유</td>\n",
       "      <td>2008</td>\n",
       "      <td>0.04</td>\n",
       "      <td>양호</td>\n",
       "    </tr>\n",
       "    <tr>\n",
       "      <th>4</th>\n",
       "      <td>5MY-AD-14-18</td>\n",
       "      <td>아우디폭스바겐코리아(주)</td>\n",
       "      <td>Golf 2.0 TDI</td>\n",
       "      <td>부하검사(KD-147)</td>\n",
       "      <td>02420004900031207</td>\n",
       "      <td>승용</td>\n",
       "      <td>경유</td>\n",
       "      <td>2008</td>\n",
       "      <td>0.09</td>\n",
       "      <td>양호</td>\n",
       "    </tr>\n",
       "  </tbody>\n",
       "</table>\n",
       "</div>"
      ],
      "text/plain": [
       "       배출가스인증번호           제작사명               차명          검사방법   \n",
       "0  5MY-AD-13-06  아우디폭스바겐코리아(주)  Phaeton 3.0 TDI    무부하검사(급가속)  \\\n",
       "1  5MY-AD-13-06  아우디폭스바겐코리아(주)  Phaeton 3.0 TDI    무부하검사(급가속)   \n",
       "2  5MY-AD-14-08  아우디폭스바겐코리아(주)   Passat 2.0 TDI  부하검사(KD-147)   \n",
       "3  5MY-AD-14-08  아우디폭스바겐코리아(주)   Passat 2.0 TDI  부하검사(KD-147)   \n",
       "4  5MY-AD-14-18  아우디폭스바겐코리아(주)     Golf 2.0 TDI  부하검사(KD-147)   \n",
       "\n",
       "              제원관리번호  차종  연료  최초연식  열화도 검토구분  \n",
       "0  02420004800011305  승용  경유  2006 0.03   양호  \n",
       "1  02420004800021306  승용  경유  2007 0.02   양호  \n",
       "2  02420006800031206  승용  경유  2007 0.04   양호  \n",
       "3  02420006800111207  승용  경유  2008 0.04   양호  \n",
       "4  02420004900031207  승용  경유  2008 0.09   양호  "
      ]
     },
     "execution_count": 305,
     "metadata": {},
     "output_type": "execute_result"
    }
   ],
   "source": [
    "df71.head()"
   ]
  },
  {
   "cell_type": "code",
   "execution_count": null,
   "metadata": {},
   "outputs": [],
   "source": [
    "df71['테이블생성일자'] = today_date"
   ]
  },
  {
   "cell_type": "code",
   "execution_count": null,
   "metadata": {},
   "outputs": [],
   "source": [
    "STD_BD_DAT_GRD4_SI = df71[[\n",
    "    '배출가스인증번호',\n",
    "    '검사방법', \n",
    "    '검토구분',\n",
    "    '제작사명',\n",
    "    '차명',\n",
    "    '차종', \n",
    "    '연료',\n",
    "    '최초연식',\n",
    "    '열화도',\n",
    "    '테이블생성일자'\n",
    "]]"
   ]
  },
  {
   "cell_type": "code",
   "execution_count": null,
   "metadata": {},
   "outputs": [
    {
     "data": {
      "text/plain": [
       "Index(['EXHST_GAS_CERT_NO', 'INSP_MTHD', 'RVW_SE', 'RPRS_MNFCTR_NM',\n",
       "       'RPRS_VHCNM', 'RPRS_VHCTY_CD', 'RPRS_FUEL', 'FRST_YRIDNW', 'SI',\n",
       "       'LOAD_DT'],\n",
       "      dtype='object')"
      ]
     },
     "execution_count": 309,
     "metadata": {},
     "output_type": "execute_result"
    }
   ],
   "source": [
    "# cdict = {\n",
    "#     '배출가스인증번호':'EXHST_GAS_CERT_NO', \n",
    "#     '검토구분':'RVW_SE', \n",
    "#     '대표제작사명':'RPRS_MNFCTR_NM', \n",
    "#     '대표차명':'RPRS_VHCNM', \n",
    "#     '대표차종':'RPRS_VHCTY_CD', \n",
    "#     '대표차연료':'RPRS_FUEL', \n",
    "#     '최초연식':'FRST_YRIDNW', \n",
    "#     '열화도':'SI', \n",
    "#     '테이블생성일자':'LOAD_DT', \n",
    "#     # '검사방법':'INSP_MTHD', \n",
    "# }\n",
    "cdict = {\n",
    "    '배출가스인증번호':'EXHST_GAS_CERT_NO', \n",
    "    '검사방법':'INSP_MTHD', \n",
    "    '검토구분':'RVW_SE', \n",
    "    '제작사명':'RPRS_MNFCTR_NM', \n",
    "    '차명':'RPRS_VHCNM', \n",
    "    '차종':'RPRS_VHCTY_CD', \n",
    "    '연료':'RPRS_FUEL', \n",
    "    '최초연식':'FRST_YRIDNW', \n",
    "    '열화도':'SI', \n",
    "    '테이블생성일자':'LOAD_DT', \n",
    "}\n",
    "STD_BD_DAT_GRD4_SI = STD_BD_DAT_GRD4_SI.rename(columns=cdict)\n",
    "STD_BD_DAT_GRD4_SI.columns"
   ]
  },
  {
   "cell_type": "markdown",
   "metadata": {},
   "source": [
    "### [출력] STD_BD_DAT_GRD4_SI"
   ]
  },
  {
   "cell_type": "code",
   "execution_count": null,
   "metadata": {},
   "outputs": [],
   "source": [
    "# expdf = STD_BD_DAT_GRD4_SI\n",
    "# table_nm = 'STD_BD_DAT_GRD4_SI'.upper()\n",
    "\n",
    "# # 테이블 생성\n",
    "# sql = 'create or replace table ' + table_nm + '( \\n'\n",
    "\n",
    "# for idx,column in enumerate(expdf.columns):\n",
    "#     if 'float' in expdf[column].dtype.name:\n",
    "#         sql += column + ' float'\n",
    "#     elif 'int' in expdf[column].dtype.name:\n",
    "#         sql += column + ' number'\n",
    "#     else:\n",
    "#         sql += column + ' varchar(255)'\n",
    "\n",
    "#     if len(expdf.columns) - 1 != idx:\n",
    "#         sql += ','\n",
    "#     sql += '\\n'\n",
    "# sql += ')'    \n",
    "# we.execute(sql)\n",
    "\n",
    "# # 데이터 추가\n",
    "# # 1s\n",
    "# we.import_from_pandas(expdf, table_nm)"
   ]
  },
  {
   "cell_type": "code",
   "execution_count": null,
   "metadata": {},
   "outputs": [],
   "source": [
    "# # 0s\n",
    "# STD_BD_DAT_GRD4_SI.to_csv(os.path.join(df1_fold, 'STD_BD_DAT_GRD4_SI.csv'), index=False)"
   ]
  },
  {
   "cell_type": "code",
   "execution_count": null,
   "metadata": {},
   "outputs": [
    {
     "data": {
      "text/plain": [
       "(891036, 38)"
      ]
     },
     "execution_count": 312,
     "metadata": {},
     "output_type": "execute_result"
    }
   ],
   "source": [
    "df5.shape"
   ]
  },
  {
   "cell_type": "code",
   "execution_count": null,
   "metadata": {},
   "outputs": [
    {
     "data": {
      "text/plain": [
       "Index(['차대번호', '법정동코드', '배출가스등급', '배출가스인증번호', '차량말소YN', '제원관리번호', '차량연식', '차종',\n",
       "       '용도', '최초등록일자', '제작일자', '연료', '차종유형', '제작사명', '차명', '자동차형식', '엔진형식',\n",
       "       '검사방법', '검사종류', '검사판정', '무부하매연측정치1', '무부하매연측정치2', '무부하매연측정치3',\n",
       "       '무부하매연판정1', '검사일자', '주행거리', '무부하매연허용치1', '정기정밀', '시도', '시군구',\n",
       "       '법정동코드_수정', 'DPF유무_수정', 'fuel', 'EG', '기준연월', '테이블생성일자', 'vin10',\n",
       "       'vin10_year'],\n",
       "      dtype='object')"
      ]
     },
     "execution_count": 313,
     "metadata": {},
     "output_type": "execute_result"
    }
   ],
   "source": [
    "df5.columns"
   ]
  },
  {
   "cell_type": "code",
   "execution_count": null,
   "metadata": {},
   "outputs": [],
   "source": [
    "STD_BD_GRD4_CAR_CURSTT_MOD = df5[[\n",
    "    '테이블생성일자', \n",
    "    '차대번호', \n",
    "    '배출가스인증번호', \n",
    "    '제원관리번호', \n",
    "    '제작사명', \n",
    "    '차명', \n",
    "    '검사방법', \n",
    "    '무부하매연측정치1', \n",
    "]]"
   ]
  },
  {
   "cell_type": "code",
   "execution_count": null,
   "metadata": {},
   "outputs": [
    {
     "data": {
      "text/plain": [
       "Index(['LOAD_DT', 'VIN', 'EXHST_GAS_CERT_NO', 'MANG_MNG_NO', 'MNFCTR_NM',\n",
       "       'VHCNM', 'INSP_MTHD', 'NOLOD_SMO_MEVLU1'],\n",
       "      dtype='object')"
      ]
     },
     "execution_count": 321,
     "metadata": {},
     "output_type": "execute_result"
    }
   ],
   "source": [
    "cdict = {\n",
    "    '테이블생성일자':'LOAD_DT',\n",
    "    '차대번호':'VIN', \n",
    "    '배출가스인증번호':'EXHST_GAS_CERT_NO', \n",
    "    '제원관리번호':'MANG_MNG_NO', \n",
    "    '제작사명':'MNFCTR_NM', \n",
    "    '차명':'VHCNM', \n",
    "    '검사방법':'INSP_MTHD', \n",
    "    '무부하매연측정치1':'NOLOD_SMO_MEVLU1', \n",
    "}\n",
    "STD_BD_GRD4_CAR_CURSTT_MOD = STD_BD_GRD4_CAR_CURSTT_MOD.rename(columns=cdict)\n",
    "STD_BD_GRD4_CAR_CURSTT_MOD.columns         "
   ]
  },
  {
   "cell_type": "markdown",
   "metadata": {},
   "source": [
    "## [출력] STD_BD_GRD4_CAR_CURSTT_MOD"
   ]
  },
  {
   "cell_type": "code",
   "execution_count": null,
   "metadata": {},
   "outputs": [],
   "source": [
    "# expdf = STD_BD_GRD4_CAR_CURSTT_MOD\n",
    "# table_nm = 'STD_BD_GRD4_CAR_CURSTT_MOD'.upper()\n",
    "\n",
    "# # 테이블 생성\n",
    "# sql = 'create or replace table ' + table_nm + '( \\n'\n",
    "\n",
    "# for idx,column in enumerate(expdf.columns):\n",
    "#     # if 'float' in expdf[column].dtype.name:\n",
    "#     #     sql += column + ' float'\n",
    "#     # elif 'int' in expdf[column].dtype.name:\n",
    "#     #     sql += column + ' number'\n",
    "#     # else:\n",
    "#     sql += column + ' varchar(255)'\n",
    "\n",
    "#     if len(expdf.columns) - 1 != idx:\n",
    "#         sql += ','\n",
    "#     sql += '\\n'\n",
    "# sql += ')'    \n",
    "# we.execute(sql)\n",
    "\n",
    "# # 데이터 추가\n",
    "# # 9s\n",
    "# we.import_from_pandas(expdf, table_nm)"
   ]
  },
  {
   "cell_type": "code",
   "execution_count": null,
   "metadata": {},
   "outputs": [],
   "source": [
    "# # 0s\n",
    "# STD_BD_GRD4_CAR_CURSTT_MOD.to_csv(os.path.join(df1_fold, 'STD_BD_GRD4_CAR_CURSTT_MOD.csv'), index=False)"
   ]
  },
  {
   "cell_type": "markdown",
   "metadata": {},
   "source": [
    "# backup"
   ]
  },
  {
   "cell_type": "markdown",
   "metadata": {},
   "source": [
    "# 분석"
   ]
  },
  {
   "cell_type": "markdown",
   "metadata": {},
   "source": [
    "## 열화계수(SI) 지수 계산\n",
    "- SI = 측정치 / 허용치"
   ]
  },
  {
   "cell_type": "code",
   "execution_count": null,
   "metadata": {},
   "outputs": [
    {
     "data": {
      "text/plain": [
       "(1052707, 38)"
      ]
     },
     "execution_count": 86,
     "metadata": {},
     "output_type": "execute_result"
    }
   ],
   "source": [
    "df3y.shape"
   ]
  },
  {
   "cell_type": "code",
   "execution_count": null,
   "metadata": {},
   "outputs": [
    {
     "data": {
      "text/plain": [
       "Index(['차대번호', '법정동코드', '배출가스등급', '배출가스인증번호', '차량말소YN', '제원관리번호', '차량연식', '차종',\n",
       "       '용도', '최초등록일자', '제작일자', '연료', '차종유형', '제작사명', '차명', '자동차형식', '엔진형식',\n",
       "       '검사방법', '검사종류', '검사판정', '무부하매연측정치1', '무부하매연측정치2', '무부하매연측정치3',\n",
       "       '무부하매연판정1', '검사일자', '주행거리', '무부하매연허용치1', '정기정밀', '시도', '시군구',\n",
       "       '법정동코드_수정', 'DPF유무_수정', 'fuel', 'EG', '기준연월', '테이블생성일자', 'vin10',\n",
       "       'vin10_year'],\n",
       "      dtype='object')"
      ]
     },
     "execution_count": 87,
     "metadata": {},
     "output_type": "execute_result"
    }
   ],
   "source": [
    "df3y.columns"
   ]
  },
  {
   "cell_type": "code",
   "execution_count": null,
   "metadata": {},
   "outputs": [
    {
     "data": {
      "text/plain": [
       "(1052707, 17)"
      ]
     },
     "execution_count": 88,
     "metadata": {},
     "output_type": "execute_result"
    }
   ],
   "source": [
    "sidf = df3y[[\n",
    "    '차대번호', \n",
    "    '제원관리번호', \n",
    "    '차종', \n",
    "    '차량연식', \n",
    "    '차명', \n",
    "    '차종유형', \n",
    "    '제작사명', \n",
    "    '연료', \n",
    "    '법정동코드', \n",
    "    '배출가스인증번호', \n",
    "    '검사방법', \n",
    "    '검사종류', \n",
    "    '검사판정', \n",
    "    '주행거리', \n",
    "    '무부하매연판정1', \n",
    "    '무부하매연허용치1', \n",
    "    '무부하매연측정치1'\n",
    "    ]]\n",
    "sidf.shape"
   ]
  },
  {
   "cell_type": "code",
   "execution_count": null,
   "metadata": {},
   "outputs": [
    {
     "data": {
      "text/plain": [
       "2023"
      ]
     },
     "execution_count": 89,
     "metadata": {},
     "output_type": "execute_result"
    }
   ],
   "source": [
    "current_yr = int(datetime.today().strftime(\"%Y\"))\n",
    "current_yr"
   ]
  },
  {
   "cell_type": "code",
   "execution_count": null,
   "metadata": {},
   "outputs": [
    {
     "name": "stderr",
     "output_type": "stream",
     "text": [
      "C:\\Users\\kbjung\\AppData\\Local\\Temp\\ipykernel_18100\\4139794486.py:1: SettingWithCopyWarning: \n",
      "A value is trying to be set on a copy of a slice from a DataFrame.\n",
      "Try using .loc[row_indexer,col_indexer] = value instead\n",
      "\n",
      "See the caveats in the documentation: https://pandas.pydata.org/pandas-docs/stable/user_guide/indexing.html#returning-a-view-versus-a-copy\n",
      "  sidf['차령'] = current_yr - sidf['차량연식']\n",
      "C:\\Users\\kbjung\\AppData\\Local\\Temp\\ipykernel_18100\\4139794486.py:2: SettingWithCopyWarning: \n",
      "A value is trying to be set on a copy of a slice from a DataFrame.\n",
      "Try using .loc[row_indexer,col_indexer] = value instead\n",
      "\n",
      "See the caveats in the documentation: https://pandas.pydata.org/pandas-docs/stable/user_guide/indexing.html#returning-a-view-versus-a-copy\n",
      "  sidf['SI'] = sidf['무부하매연측정치1'] / sidf['무부하매연허용치1']\n"
     ]
    }
   ],
   "source": [
    "sidf['차령'] = current_yr - sidf['차량연식']\n",
    "sidf['SI'] = sidf['무부하매연측정치1'] / sidf['무부하매연허용치1']"
   ]
  },
  {
   "cell_type": "code",
   "execution_count": null,
   "metadata": {},
   "outputs": [
    {
     "data": {
      "text/plain": [
       "0"
      ]
     },
     "execution_count": 91,
     "metadata": {},
     "output_type": "execute_result"
    }
   ],
   "source": [
    "sidf['차량연식'].isnull().sum()"
   ]
  },
  {
   "cell_type": "code",
   "execution_count": null,
   "metadata": {},
   "outputs": [
    {
     "data": {
      "text/plain": [
       "차령        0\n",
       "SI    46433\n",
       "dtype: int64"
      ]
     },
     "execution_count": 92,
     "metadata": {},
     "output_type": "execute_result"
    }
   ],
   "source": [
    "sidf[['차령', 'SI']].isnull().sum()"
   ]
  },
  {
   "cell_type": "code",
   "execution_count": null,
   "metadata": {},
   "outputs": [
    {
     "data": {
      "text/plain": [
       "무부하매연측정치1    12545\n",
       "무부하매연허용치1    12546\n",
       "dtype: int64"
      ]
     },
     "execution_count": 93,
     "metadata": {},
     "output_type": "execute_result"
    }
   ],
   "source": [
    "sidf[['무부하매연측정치1', '무부하매연허용치1']].isnull().sum()"
   ]
  },
  {
   "cell_type": "code",
   "execution_count": null,
   "metadata": {},
   "outputs": [
    {
     "data": {
      "text/html": [
       "<div>\n",
       "<style scoped>\n",
       "    .dataframe tbody tr th:only-of-type {\n",
       "        vertical-align: middle;\n",
       "    }\n",
       "\n",
       "    .dataframe tbody tr th {\n",
       "        vertical-align: top;\n",
       "    }\n",
       "\n",
       "    .dataframe thead th {\n",
       "        text-align: right;\n",
       "    }\n",
       "</style>\n",
       "<table border=\"1\" class=\"dataframe\">\n",
       "  <thead>\n",
       "    <tr style=\"text-align: right;\">\n",
       "      <th></th>\n",
       "      <th>차대번호</th>\n",
       "      <th>제원관리번호</th>\n",
       "      <th>차종</th>\n",
       "      <th>차량연식</th>\n",
       "      <th>차명</th>\n",
       "      <th>차종유형</th>\n",
       "      <th>제작사명</th>\n",
       "      <th>연료</th>\n",
       "      <th>법정동코드</th>\n",
       "      <th>배출가스인증번호</th>\n",
       "      <th>검사방법</th>\n",
       "      <th>검사종류</th>\n",
       "      <th>검사판정</th>\n",
       "      <th>주행거리</th>\n",
       "      <th>무부하매연판정1</th>\n",
       "      <th>무부하매연허용치1</th>\n",
       "      <th>무부하매연측정치1</th>\n",
       "      <th>차령</th>\n",
       "      <th>SI</th>\n",
       "    </tr>\n",
       "  </thead>\n",
       "  <tbody>\n",
       "    <tr>\n",
       "      <th>0</th>\n",
       "      <td>KMFZSX7JABU684137</td>\n",
       "      <td>A0810006209153110</td>\n",
       "      <td>화물</td>\n",
       "      <td>2011</td>\n",
       "      <td>포터Ⅱ(PORTERⅡ)</td>\n",
       "      <td>소형</td>\n",
       "      <td>현대자동차(주)</td>\n",
       "      <td>경유</td>\n",
       "      <td>4374000000</td>\n",
       "      <td>nan</td>\n",
       "      <td>무부하검사(급가속)</td>\n",
       "      <td>정기검사</td>\n",
       "      <td>Y</td>\n",
       "      <td>223409.00</td>\n",
       "      <td>Y</td>\n",
       "      <td>20.00</td>\n",
       "      <td>16.00</td>\n",
       "      <td>12</td>\n",
       "      <td>0.80</td>\n",
       "    </tr>\n",
       "    <tr>\n",
       "      <th>1</th>\n",
       "      <td>KNCSE06428K344169</td>\n",
       "      <td>A0110003113533107</td>\n",
       "      <td>화물</td>\n",
       "      <td>2008</td>\n",
       "      <td>봉고Ⅲ 1톤</td>\n",
       "      <td>소형</td>\n",
       "      <td>기아자동차(주)</td>\n",
       "      <td>경유</td>\n",
       "      <td>4374000000</td>\n",
       "      <td>nan</td>\n",
       "      <td>NaN</td>\n",
       "      <td>NaN</td>\n",
       "      <td>NaN</td>\n",
       "      <td>NaN</td>\n",
       "      <td>NaN</td>\n",
       "      <td>NaN</td>\n",
       "      <td>NaN</td>\n",
       "      <td>15</td>\n",
       "      <td>NaN</td>\n",
       "    </tr>\n",
       "    <tr>\n",
       "      <th>2</th>\n",
       "      <td>KMCGK17HP9C112030</td>\n",
       "      <td>A0810005008143209</td>\n",
       "      <td>화물</td>\n",
       "      <td>2009</td>\n",
       "      <td>마이티군물자수송트럭</td>\n",
       "      <td>중형</td>\n",
       "      <td>현대자동차(주)</td>\n",
       "      <td>경유</td>\n",
       "      <td>4518000000</td>\n",
       "      <td>7MY-HD-24-28</td>\n",
       "      <td>무부하검사(급가속)</td>\n",
       "      <td>정기(경과)검사</td>\n",
       "      <td>Y</td>\n",
       "      <td>79425.00</td>\n",
       "      <td>Y</td>\n",
       "      <td>20.00</td>\n",
       "      <td>5.00</td>\n",
       "      <td>14</td>\n",
       "      <td>0.25</td>\n",
       "    </tr>\n",
       "    <tr>\n",
       "      <th>3</th>\n",
       "      <td>KNCSE01429K388374</td>\n",
       "      <td>A0110003115353108</td>\n",
       "      <td>화물</td>\n",
       "      <td>2009</td>\n",
       "      <td>봉고Ⅲ 1톤</td>\n",
       "      <td>소형</td>\n",
       "      <td>기아자동차(주)</td>\n",
       "      <td>경유</td>\n",
       "      <td>2771000000</td>\n",
       "      <td>7MY-KM-14-65</td>\n",
       "      <td>부하검사(KD-147)</td>\n",
       "      <td>2부재검사(종합)</td>\n",
       "      <td>Y</td>\n",
       "      <td>50589.00</td>\n",
       "      <td>Y</td>\n",
       "      <td>15.00</td>\n",
       "      <td>14.00</td>\n",
       "      <td>14</td>\n",
       "      <td>0.93</td>\n",
       "    </tr>\n",
       "    <tr>\n",
       "      <th>4</th>\n",
       "      <td>KNFSE0A439K387582</td>\n",
       "      <td>A0110003116073108</td>\n",
       "      <td>화물</td>\n",
       "      <td>2009</td>\n",
       "      <td>봉고Ⅲ 냉동차</td>\n",
       "      <td>소형</td>\n",
       "      <td>기아자동차(주)</td>\n",
       "      <td>경유</td>\n",
       "      <td>3020000000</td>\n",
       "      <td>7MY-KM-14-65</td>\n",
       "      <td>부하검사(KD-147)</td>\n",
       "      <td>종합검사</td>\n",
       "      <td>Y</td>\n",
       "      <td>151328.00</td>\n",
       "      <td>Y</td>\n",
       "      <td>15.00</td>\n",
       "      <td>0.00</td>\n",
       "      <td>14</td>\n",
       "      <td>0.00</td>\n",
       "    </tr>\n",
       "  </tbody>\n",
       "</table>\n",
       "</div>"
      ],
      "text/plain": [
       "                차대번호             제원관리번호  차종  차량연식            차명 차종유형   \n",
       "0  KMFZSX7JABU684137  A0810006209153110  화물  2011  포터Ⅱ(PORTERⅡ)   소형  \\\n",
       "1  KNCSE06428K344169  A0110003113533107  화물  2008        봉고Ⅲ 1톤   소형   \n",
       "2  KMCGK17HP9C112030  A0810005008143209  화물  2009    마이티군물자수송트럭   중형   \n",
       "3  KNCSE01429K388374  A0110003115353108  화물  2009        봉고Ⅲ 1톤   소형   \n",
       "4  KNFSE0A439K387582  A0110003116073108  화물  2009       봉고Ⅲ 냉동차   소형   \n",
       "\n",
       "       제작사명  연료       법정동코드      배출가스인증번호          검사방법       검사종류 검사판정   \n",
       "0  현대자동차(주)  경유  4374000000           nan    무부하검사(급가속)       정기검사    Y  \\\n",
       "1  기아자동차(주)  경유  4374000000           nan           NaN        NaN  NaN   \n",
       "2  현대자동차(주)  경유  4518000000  7MY-HD-24-28    무부하검사(급가속)   정기(경과)검사    Y   \n",
       "3  기아자동차(주)  경유  2771000000  7MY-KM-14-65  부하검사(KD-147)  2부재검사(종합)    Y   \n",
       "4  기아자동차(주)  경유  3020000000  7MY-KM-14-65  부하검사(KD-147)       종합검사    Y   \n",
       "\n",
       "       주행거리 무부하매연판정1  무부하매연허용치1  무부하매연측정치1  차령   SI  \n",
       "0 223409.00        Y      20.00      16.00  12 0.80  \n",
       "1       NaN      NaN        NaN        NaN  15  NaN  \n",
       "2  79425.00        Y      20.00       5.00  14 0.25  \n",
       "3  50589.00        Y      15.00      14.00  14 0.93  \n",
       "4 151328.00        Y      15.00       0.00  14 0.00  "
      ]
     },
     "execution_count": 94,
     "metadata": {},
     "output_type": "execute_result"
    }
   ],
   "source": [
    "sidf.head()"
   ]
  },
  {
   "cell_type": "code",
   "execution_count": null,
   "metadata": {},
   "outputs": [
    {
     "data": {
      "text/plain": [
       "'20230823'"
      ]
     },
     "execution_count": 95,
     "metadata": {},
     "output_type": "execute_result"
    }
   ],
   "source": [
    "today_date = datetime.today().strftime(\"%Y%m%d\")\n",
    "today_date"
   ]
  },
  {
   "cell_type": "code",
   "execution_count": null,
   "metadata": {},
   "outputs": [
    {
     "name": "stderr",
     "output_type": "stream",
     "text": [
      "C:\\Users\\kbjung\\AppData\\Local\\Temp\\ipykernel_18100\\3010636050.py:1: SettingWithCopyWarning: \n",
      "A value is trying to be set on a copy of a slice from a DataFrame.\n",
      "Try using .loc[row_indexer,col_indexer] = value instead\n",
      "\n",
      "See the caveats in the documentation: https://pandas.pydata.org/pandas-docs/stable/user_guide/indexing.html#returning-a-view-versus-a-copy\n",
      "  sidf['테이블생성일자'] = today_date\n"
     ]
    }
   ],
   "source": [
    "sidf['테이블생성일자'] = today_date"
   ]
  },
  {
   "cell_type": "code",
   "execution_count": null,
   "metadata": {},
   "outputs": [],
   "source": [
    "sidf1 = sidf[[\n",
    "    '테이블생성일자', \n",
    "    '차대번호', \n",
    "    '제원관리번호', \n",
    "    '차명', \n",
    "    '제작사명', \n",
    "    '배출가스인증번호', \n",
    "    '검사방법',\n",
    "    '주행거리', \n",
    "    '차령',\n",
    "    'SI', \n",
    "    ]]"
   ]
  },
  {
   "cell_type": "code",
   "execution_count": null,
   "metadata": {},
   "outputs": [],
   "source": [
    "chc_dict = {\n",
    "    '테이블생성일자':'LOAD_DT',\n",
    "    '차대번호':'VIN', \n",
    "    '제원관리번호':'MANG_MNG_NO', \n",
    "    '차종':'VHCTY_CD', \n",
    "    '연식':'YRIDNW', \n",
    "    '차명':'VHCNM',\n",
    "    '제작사명':'MNFCTR_NM', \n",
    "    '차종유형':'VHCTY_TY', \n",
    "    '연료':'FUEL_CD',\n",
    "    '법정동코드':'STDG_CD', \n",
    "    '배출가스인증번호':'EXHST_GAS_CERT_NO_MOD', \n",
    "    '검사방법':'INSP_MTHD', \n",
    "    '검사종류':'INSP_KND', \n",
    "    '검사판정':'INSP_JGMT', \n",
    "    '주행거리':'DRVNG_DSTNC',\n",
    "    '무부하매연판정1':'NOLOD_SMO_JGMT_YN1',\n",
    "    '무부하매연허용치1':'NOLOD_SMO_PRMT_VAL1',\n",
    "    '무부하매연측정치1':'NOLOD_SMO_MEVLU1', \n",
    "    '차령':'VHCAG',\n",
    "    }"
   ]
  },
  {
   "cell_type": "code",
   "execution_count": null,
   "metadata": {},
   "outputs": [
    {
     "data": {
      "text/plain": [
       "Index(['LOAD_DT', 'VIN', 'MANG_MNG_NO', 'VHCNM', 'MNFCTR_NM',\n",
       "       'EXHST_GAS_CERT_NO_MOD', 'INSP_MTHD', 'DRVNG_DSTNC', 'VHCAG', 'SI'],\n",
       "      dtype='object')"
      ]
     },
     "execution_count": 99,
     "metadata": {},
     "output_type": "execute_result"
    }
   ],
   "source": [
    "STD_BD_GRD4_SI = sidf1.rename(columns=chc_dict)\n",
    "STD_BD_GRD4_SI.columns"
   ]
  },
  {
   "cell_type": "code",
   "execution_count": null,
   "metadata": {},
   "outputs": [
    {
     "data": {
      "text/html": [
       "<div>\n",
       "<style scoped>\n",
       "    .dataframe tbody tr th:only-of-type {\n",
       "        vertical-align: middle;\n",
       "    }\n",
       "\n",
       "    .dataframe tbody tr th {\n",
       "        vertical-align: top;\n",
       "    }\n",
       "\n",
       "    .dataframe thead th {\n",
       "        text-align: right;\n",
       "    }\n",
       "</style>\n",
       "<table border=\"1\" class=\"dataframe\">\n",
       "  <thead>\n",
       "    <tr style=\"text-align: right;\">\n",
       "      <th></th>\n",
       "      <th>LOAD_DT</th>\n",
       "      <th>VIN</th>\n",
       "      <th>MANG_MNG_NO</th>\n",
       "      <th>VHCNM</th>\n",
       "      <th>MNFCTR_NM</th>\n",
       "      <th>EXHST_GAS_CERT_NO_MOD</th>\n",
       "      <th>INSP_MTHD</th>\n",
       "      <th>DRVNG_DSTNC</th>\n",
       "      <th>VHCAG</th>\n",
       "      <th>SI</th>\n",
       "    </tr>\n",
       "  </thead>\n",
       "  <tbody>\n",
       "    <tr>\n",
       "      <th>0</th>\n",
       "      <td>20230823</td>\n",
       "      <td>KMFZSX7JABU684137</td>\n",
       "      <td>A0810006209153110</td>\n",
       "      <td>포터Ⅱ(PORTERⅡ)</td>\n",
       "      <td>현대자동차(주)</td>\n",
       "      <td>nan</td>\n",
       "      <td>무부하검사(급가속)</td>\n",
       "      <td>223409.00</td>\n",
       "      <td>12</td>\n",
       "      <td>0.80</td>\n",
       "    </tr>\n",
       "    <tr>\n",
       "      <th>1</th>\n",
       "      <td>20230823</td>\n",
       "      <td>KNCSE06428K344169</td>\n",
       "      <td>A0110003113533107</td>\n",
       "      <td>봉고Ⅲ 1톤</td>\n",
       "      <td>기아자동차(주)</td>\n",
       "      <td>nan</td>\n",
       "      <td>NaN</td>\n",
       "      <td>NaN</td>\n",
       "      <td>15</td>\n",
       "      <td>NaN</td>\n",
       "    </tr>\n",
       "    <tr>\n",
       "      <th>2</th>\n",
       "      <td>20230823</td>\n",
       "      <td>KMCGK17HP9C112030</td>\n",
       "      <td>A0810005008143209</td>\n",
       "      <td>마이티군물자수송트럭</td>\n",
       "      <td>현대자동차(주)</td>\n",
       "      <td>7MY-HD-24-28</td>\n",
       "      <td>무부하검사(급가속)</td>\n",
       "      <td>79425.00</td>\n",
       "      <td>14</td>\n",
       "      <td>0.25</td>\n",
       "    </tr>\n",
       "    <tr>\n",
       "      <th>3</th>\n",
       "      <td>20230823</td>\n",
       "      <td>KNCSE01429K388374</td>\n",
       "      <td>A0110003115353108</td>\n",
       "      <td>봉고Ⅲ 1톤</td>\n",
       "      <td>기아자동차(주)</td>\n",
       "      <td>7MY-KM-14-65</td>\n",
       "      <td>부하검사(KD-147)</td>\n",
       "      <td>50589.00</td>\n",
       "      <td>14</td>\n",
       "      <td>0.93</td>\n",
       "    </tr>\n",
       "    <tr>\n",
       "      <th>4</th>\n",
       "      <td>20230823</td>\n",
       "      <td>KNFSE0A439K387582</td>\n",
       "      <td>A0110003116073108</td>\n",
       "      <td>봉고Ⅲ 냉동차</td>\n",
       "      <td>기아자동차(주)</td>\n",
       "      <td>7MY-KM-14-65</td>\n",
       "      <td>부하검사(KD-147)</td>\n",
       "      <td>151328.00</td>\n",
       "      <td>14</td>\n",
       "      <td>0.00</td>\n",
       "    </tr>\n",
       "  </tbody>\n",
       "</table>\n",
       "</div>"
      ],
      "text/plain": [
       "    LOAD_DT                VIN        MANG_MNG_NO         VHCNM MNFCTR_NM   \n",
       "0  20230823  KMFZSX7JABU684137  A0810006209153110  포터Ⅱ(PORTERⅡ)  현대자동차(주)  \\\n",
       "1  20230823  KNCSE06428K344169  A0110003113533107        봉고Ⅲ 1톤  기아자동차(주)   \n",
       "2  20230823  KMCGK17HP9C112030  A0810005008143209    마이티군물자수송트럭  현대자동차(주)   \n",
       "3  20230823  KNCSE01429K388374  A0110003115353108        봉고Ⅲ 1톤  기아자동차(주)   \n",
       "4  20230823  KNFSE0A439K387582  A0110003116073108       봉고Ⅲ 냉동차  기아자동차(주)   \n",
       "\n",
       "  EXHST_GAS_CERT_NO_MOD     INSP_MTHD  DRVNG_DSTNC  VHCAG   SI  \n",
       "0                   nan    무부하검사(급가속)    223409.00     12 0.80  \n",
       "1                   nan           NaN          NaN     15  NaN  \n",
       "2          7MY-HD-24-28    무부하검사(급가속)     79425.00     14 0.25  \n",
       "3          7MY-KM-14-65  부하검사(KD-147)     50589.00     14 0.93  \n",
       "4          7MY-KM-14-65  부하검사(KD-147)    151328.00     14 0.00  "
      ]
     },
     "execution_count": 100,
     "metadata": {},
     "output_type": "execute_result"
    }
   ],
   "source": [
    "STD_BD_GRD4_SI.head()"
   ]
  },
  {
   "cell_type": "code",
   "execution_count": null,
   "metadata": {},
   "outputs": [
    {
     "data": {
      "text/plain": [
       "(1052707, 10)"
      ]
     },
     "execution_count": 101,
     "metadata": {},
     "output_type": "execute_result"
    }
   ],
   "source": [
    "STD_BD_GRD4_SI.shape"
   ]
  },
  {
   "cell_type": "markdown",
   "metadata": {},
   "source": [
    "### [출력] SI 지수 정보(STD_BD_GRD4_SI)"
   ]
  },
  {
   "cell_type": "code",
   "execution_count": null,
   "metadata": {},
   "outputs": [],
   "source": [
    "# expdf = STD_BD_GRD4_SI\n",
    "# table_nm = 'STD_BD_GRD4_SI'.upper()\n",
    "\n",
    "# # 테이블 생성\n",
    "# sql = 'create or replace table ' + table_nm + '( \\n'\n",
    "\n",
    "# for idx,column in enumerate(expdf.columns):\n",
    "#     if 'float' in expdf[column].dtype.name:\n",
    "#         sql += column + ' float'\n",
    "#     elif 'int' in expdf[column].dtype.name:\n",
    "#         sql += column + ' number'\n",
    "#     else:\n",
    "#         sql += column + ' varchar(255)'\n",
    "\n",
    "#     if len(expdf.columns) - 1 != idx:\n",
    "#         sql += ','\n",
    "#     sql += '\\n'\n",
    "# sql += ')'    \n",
    "# we.execute(sql)\n",
    "\n",
    "# # 데이터 추가\n",
    "# # 6s\n",
    "# we.import_from_pandas(expdf, table_nm)"
   ]
  },
  {
   "cell_type": "code",
   "execution_count": null,
   "metadata": {},
   "outputs": [],
   "source": [
    "# # 0s\n",
    "# STD_BD_GRD4_SI.to_csv(os.path.join(df1_fold, 'STD_BD_GRD4_SI.csv'), index=False)"
   ]
  },
  {
   "cell_type": "markdown",
   "metadata": {},
   "source": [
    "## 동일 배번에서 제번별 매연 boxplot"
   ]
  },
  {
   "cell_type": "code",
   "execution_count": null,
   "metadata": {},
   "outputs": [
    {
     "data": {
      "text/plain": [
       "(27359, 13)"
      ]
     },
     "execution_count": 106,
     "metadata": {},
     "output_type": "execute_result"
    }
   ],
   "source": [
    "total_g_df1 = total_g_df.loc[total_g_df['배출가스인증번호'] != 'nan'] # !!! 수정(2023.08.23)\n",
    "total_g_df1.shape"
   ]
  },
  {
   "cell_type": "code",
   "execution_count": null,
   "metadata": {},
   "outputs": [
    {
     "data": {
      "text/plain": [
       "200"
      ]
     },
     "execution_count": 108,
     "metadata": {},
     "output_type": "execute_result"
    }
   ],
   "source": [
    "len(total_g_df1['배출가스인증번호'].unique())"
   ]
  },
  {
   "cell_type": "code",
   "execution_count": null,
   "metadata": {},
   "outputs": [
    {
     "data": {
      "text/plain": [
       "(1498, 13)"
      ]
     },
     "execution_count": 109,
     "metadata": {},
     "output_type": "execute_result"
    }
   ],
   "source": [
    "sample01 = total_g_df1.loc[total_g_df1['대수'] > 100].reset_index(drop=True)\n",
    "sample01.shape"
   ]
  },
  {
   "cell_type": "code",
   "execution_count": null,
   "metadata": {},
   "outputs": [
    {
     "data": {
      "text/plain": [
       "200"
      ]
     },
     "execution_count": 111,
     "metadata": {},
     "output_type": "execute_result"
    }
   ],
   "source": [
    "len(total_g_df1['배출가스인증번호'].unique())"
   ]
  },
  {
   "cell_type": "markdown",
   "metadata": {},
   "source": [
    "### quantile"
   ]
  },
  {
   "cell_type": "markdown",
   "metadata": {},
   "source": [
    "#### !!! 확인중..."
   ]
  },
  {
   "cell_type": "code",
   "execution_count": null,
   "metadata": {},
   "outputs": [
    {
     "data": {
      "text/html": [
       "<div>\n",
       "<style scoped>\n",
       "    .dataframe tbody tr th:only-of-type {\n",
       "        vertical-align: middle;\n",
       "    }\n",
       "\n",
       "    .dataframe tbody tr th {\n",
       "        vertical-align: top;\n",
       "    }\n",
       "\n",
       "    .dataframe thead tr th {\n",
       "        text-align: left;\n",
       "    }\n",
       "</style>\n",
       "<table border=\"1\" class=\"dataframe\">\n",
       "  <thead>\n",
       "    <tr>\n",
       "      <th></th>\n",
       "      <th>배출가스인증번호</th>\n",
       "      <th>검사종류</th>\n",
       "      <th>검사방법</th>\n",
       "      <th>제원관리번호</th>\n",
       "      <th colspan=\"3\" halign=\"left\">무부하매연측정치1</th>\n",
       "      <th>차대번호</th>\n",
       "    </tr>\n",
       "    <tr>\n",
       "      <th></th>\n",
       "      <th></th>\n",
       "      <th></th>\n",
       "      <th></th>\n",
       "      <th></th>\n",
       "      <th>&lt;lambda_0&gt;</th>\n",
       "      <th>&lt;lambda_1&gt;</th>\n",
       "      <th>&lt;lambda_2&gt;</th>\n",
       "      <th>count</th>\n",
       "    </tr>\n",
       "  </thead>\n",
       "  <tbody>\n",
       "    <tr>\n",
       "      <th>0</th>\n",
       "      <td>4MY-AD-20</td>\n",
       "      <td>2부재검사(종합)</td>\n",
       "      <td>무부하검사(급가속)</td>\n",
       "      <td>02420000100031305</td>\n",
       "      <td>27.75</td>\n",
       "      <td>29.50</td>\n",
       "      <td>31.25</td>\n",
       "      <td>2</td>\n",
       "    </tr>\n",
       "    <tr>\n",
       "      <th>1</th>\n",
       "      <td>4MY-AD-20</td>\n",
       "      <td>재검사(2부재검사)</td>\n",
       "      <td>무부하검사(급가속)</td>\n",
       "      <td>02420000100031305</td>\n",
       "      <td>19.00</td>\n",
       "      <td>19.00</td>\n",
       "      <td>19.00</td>\n",
       "      <td>1</td>\n",
       "    </tr>\n",
       "    <tr>\n",
       "      <th>2</th>\n",
       "      <td>4MY-AD-20</td>\n",
       "      <td>정기검사</td>\n",
       "      <td>무부하검사(급가속)</td>\n",
       "      <td>02420000100031305</td>\n",
       "      <td>16.25</td>\n",
       "      <td>23.00</td>\n",
       "      <td>25.25</td>\n",
       "      <td>4</td>\n",
       "    </tr>\n",
       "    <tr>\n",
       "      <th>3</th>\n",
       "      <td>4MY-AD-20</td>\n",
       "      <td>종합검사</td>\n",
       "      <td>무부하검사(급가속)</td>\n",
       "      <td>02420000100031305</td>\n",
       "      <td>3.75</td>\n",
       "      <td>9.50</td>\n",
       "      <td>14.50</td>\n",
       "      <td>12</td>\n",
       "    </tr>\n",
       "    <tr>\n",
       "      <th>4</th>\n",
       "      <td>4MY-AD-20</td>\n",
       "      <td>종합검사(경과)</td>\n",
       "      <td>무부하검사(급가속)</td>\n",
       "      <td>02420000100031305</td>\n",
       "      <td>14.00</td>\n",
       "      <td>17.00</td>\n",
       "      <td>17.00</td>\n",
       "      <td>3</td>\n",
       "    </tr>\n",
       "    <tr>\n",
       "      <th>...</th>\n",
       "      <td>...</td>\n",
       "      <td>...</td>\n",
       "      <td>...</td>\n",
       "      <td>...</td>\n",
       "      <td>...</td>\n",
       "      <td>...</td>\n",
       "      <td>...</td>\n",
       "      <td>...</td>\n",
       "    </tr>\n",
       "    <tr>\n",
       "      <th>22576</th>\n",
       "      <td>nan</td>\n",
       "      <td>종합검사(경과)</td>\n",
       "      <td>부하검사(LUG DOWN)</td>\n",
       "      <td>B4T10005300003308</td>\n",
       "      <td>8.00</td>\n",
       "      <td>8.00</td>\n",
       "      <td>8.00</td>\n",
       "      <td>1</td>\n",
       "    </tr>\n",
       "    <tr>\n",
       "      <th>22577</th>\n",
       "      <td>nan</td>\n",
       "      <td>종합검사(경과)</td>\n",
       "      <td>부하검사(LUG DOWN)</td>\n",
       "      <td>B4V10002400004307</td>\n",
       "      <td>2.00</td>\n",
       "      <td>2.00</td>\n",
       "      <td>2.00</td>\n",
       "      <td>1</td>\n",
       "    </tr>\n",
       "    <tr>\n",
       "      <th>22578</th>\n",
       "      <td>nan</td>\n",
       "      <td>종합검사(경과)</td>\n",
       "      <td>부하검사(LUG DOWN)</td>\n",
       "      <td>B8E10002400003306</td>\n",
       "      <td>10.00</td>\n",
       "      <td>10.00</td>\n",
       "      <td>10.00</td>\n",
       "      <td>1</td>\n",
       "    </tr>\n",
       "    <tr>\n",
       "      <th>22579</th>\n",
       "      <td>nan</td>\n",
       "      <td>종합검사(경과)</td>\n",
       "      <td>부하검사(LUG DOWN)</td>\n",
       "      <td>B8W20002200003308</td>\n",
       "      <td>9.00</td>\n",
       "      <td>9.00</td>\n",
       "      <td>9.00</td>\n",
       "      <td>1</td>\n",
       "    </tr>\n",
       "    <tr>\n",
       "      <th>22580</th>\n",
       "      <td>nan</td>\n",
       "      <td>종합검사(경과)</td>\n",
       "      <td>부하검사(LUG DOWN)</td>\n",
       "      <td>B9G10003400003307</td>\n",
       "      <td>5.00</td>\n",
       "      <td>5.00</td>\n",
       "      <td>5.00</td>\n",
       "      <td>1</td>\n",
       "    </tr>\n",
       "  </tbody>\n",
       "</table>\n",
       "<p>22581 rows × 8 columns</p>\n",
       "</div>"
      ],
      "text/plain": [
       "        배출가스인증번호        검사종류            검사방법             제원관리번호  무부하매연측정치1   \n",
       "                                                                <lambda_0>   \n",
       "0      4MY-AD-20   2부재검사(종합)      무부하검사(급가속)  02420000100031305      27.75  \\\n",
       "1      4MY-AD-20  재검사(2부재검사)      무부하검사(급가속)  02420000100031305      19.00   \n",
       "2      4MY-AD-20        정기검사      무부하검사(급가속)  02420000100031305      16.25   \n",
       "3      4MY-AD-20        종합검사      무부하검사(급가속)  02420000100031305       3.75   \n",
       "4      4MY-AD-20    종합검사(경과)      무부하검사(급가속)  02420000100031305      14.00   \n",
       "...          ...         ...             ...                ...        ...   \n",
       "22576        nan    종합검사(경과)  부하검사(LUG DOWN)  B4T10005300003308       8.00   \n",
       "22577        nan    종합검사(경과)  부하검사(LUG DOWN)  B4V10002400004307       2.00   \n",
       "22578        nan    종합검사(경과)  부하검사(LUG DOWN)  B8E10002400003306      10.00   \n",
       "22579        nan    종합검사(경과)  부하검사(LUG DOWN)  B8W20002200003308       9.00   \n",
       "22580        nan    종합검사(경과)  부하검사(LUG DOWN)  B9G10003400003307       5.00   \n",
       "\n",
       "                             차대번호  \n",
       "      <lambda_1> <lambda_2> count  \n",
       "0          29.50      31.25     2  \n",
       "1          19.00      19.00     1  \n",
       "2          23.00      25.25     4  \n",
       "3           9.50      14.50    12  \n",
       "4          17.00      17.00     3  \n",
       "...          ...        ...   ...  \n",
       "22576       8.00       8.00     1  \n",
       "22577       2.00       2.00     1  \n",
       "22578      10.00      10.00     1  \n",
       "22579       9.00       9.00     1  \n",
       "22580       5.00       5.00     1  \n",
       "\n",
       "[22581 rows x 8 columns]"
      ]
     },
     "execution_count": 195,
     "metadata": {},
     "output_type": "execute_result"
    }
   ],
   "source": [
    "# 22s\n",
    "temp = df3y.groupby(['배출가스인증번호', '검사종류', '검사방법', '제원관리번호']).agg({'무부하매연측정치1':[ lambda x:x.describe()['25%'], lambda x:x.describe()['50%'], lambda x:x.describe()['75%'] ], '차대번호':'count'}).reset_index()\n",
    "temp"
   ]
  },
  {
   "cell_type": "code",
   "execution_count": null,
   "metadata": {},
   "outputs": [
    {
     "data": {
      "text/html": [
       "<div>\n",
       "<style scoped>\n",
       "    .dataframe tbody tr th:only-of-type {\n",
       "        vertical-align: middle;\n",
       "    }\n",
       "\n",
       "    .dataframe tbody tr th {\n",
       "        vertical-align: top;\n",
       "    }\n",
       "\n",
       "    .dataframe thead th {\n",
       "        text-align: right;\n",
       "    }\n",
       "</style>\n",
       "<table border=\"1\" class=\"dataframe\">\n",
       "  <thead>\n",
       "    <tr style=\"text-align: right;\">\n",
       "      <th></th>\n",
       "      <th>배출가스인증번호</th>\n",
       "      <th>검사종류</th>\n",
       "      <th>검사방법</th>\n",
       "      <th>제원관리번호</th>\n",
       "      <th>q1</th>\n",
       "      <th>q2</th>\n",
       "      <th>q3</th>\n",
       "      <th>차량대수</th>\n",
       "    </tr>\n",
       "  </thead>\n",
       "  <tbody>\n",
       "    <tr>\n",
       "      <th>0</th>\n",
       "      <td>4MY-AD-20</td>\n",
       "      <td>2부재검사(종합)</td>\n",
       "      <td>무부하검사(급가속)</td>\n",
       "      <td>02420000100031305</td>\n",
       "      <td>27.75</td>\n",
       "      <td>29.50</td>\n",
       "      <td>31.25</td>\n",
       "      <td>2</td>\n",
       "    </tr>\n",
       "    <tr>\n",
       "      <th>1</th>\n",
       "      <td>4MY-AD-20</td>\n",
       "      <td>재검사(2부재검사)</td>\n",
       "      <td>무부하검사(급가속)</td>\n",
       "      <td>02420000100031305</td>\n",
       "      <td>19.00</td>\n",
       "      <td>19.00</td>\n",
       "      <td>19.00</td>\n",
       "      <td>1</td>\n",
       "    </tr>\n",
       "    <tr>\n",
       "      <th>2</th>\n",
       "      <td>4MY-AD-20</td>\n",
       "      <td>정기검사</td>\n",
       "      <td>무부하검사(급가속)</td>\n",
       "      <td>02420000100031305</td>\n",
       "      <td>16.25</td>\n",
       "      <td>23.00</td>\n",
       "      <td>25.25</td>\n",
       "      <td>4</td>\n",
       "    </tr>\n",
       "    <tr>\n",
       "      <th>3</th>\n",
       "      <td>4MY-AD-20</td>\n",
       "      <td>종합검사</td>\n",
       "      <td>무부하검사(급가속)</td>\n",
       "      <td>02420000100031305</td>\n",
       "      <td>3.75</td>\n",
       "      <td>9.50</td>\n",
       "      <td>14.50</td>\n",
       "      <td>12</td>\n",
       "    </tr>\n",
       "    <tr>\n",
       "      <th>4</th>\n",
       "      <td>4MY-AD-20</td>\n",
       "      <td>종합검사(경과)</td>\n",
       "      <td>무부하검사(급가속)</td>\n",
       "      <td>02420000100031305</td>\n",
       "      <td>14.00</td>\n",
       "      <td>17.00</td>\n",
       "      <td>17.00</td>\n",
       "      <td>3</td>\n",
       "    </tr>\n",
       "    <tr>\n",
       "      <th>...</th>\n",
       "      <td>...</td>\n",
       "      <td>...</td>\n",
       "      <td>...</td>\n",
       "      <td>...</td>\n",
       "      <td>...</td>\n",
       "      <td>...</td>\n",
       "      <td>...</td>\n",
       "      <td>...</td>\n",
       "    </tr>\n",
       "    <tr>\n",
       "      <th>22576</th>\n",
       "      <td>nan</td>\n",
       "      <td>종합검사(경과)</td>\n",
       "      <td>부하검사(LUG DOWN)</td>\n",
       "      <td>B4T10005300003308</td>\n",
       "      <td>8.00</td>\n",
       "      <td>8.00</td>\n",
       "      <td>8.00</td>\n",
       "      <td>1</td>\n",
       "    </tr>\n",
       "    <tr>\n",
       "      <th>22577</th>\n",
       "      <td>nan</td>\n",
       "      <td>종합검사(경과)</td>\n",
       "      <td>부하검사(LUG DOWN)</td>\n",
       "      <td>B4V10002400004307</td>\n",
       "      <td>2.00</td>\n",
       "      <td>2.00</td>\n",
       "      <td>2.00</td>\n",
       "      <td>1</td>\n",
       "    </tr>\n",
       "    <tr>\n",
       "      <th>22578</th>\n",
       "      <td>nan</td>\n",
       "      <td>종합검사(경과)</td>\n",
       "      <td>부하검사(LUG DOWN)</td>\n",
       "      <td>B8E10002400003306</td>\n",
       "      <td>10.00</td>\n",
       "      <td>10.00</td>\n",
       "      <td>10.00</td>\n",
       "      <td>1</td>\n",
       "    </tr>\n",
       "    <tr>\n",
       "      <th>22579</th>\n",
       "      <td>nan</td>\n",
       "      <td>종합검사(경과)</td>\n",
       "      <td>부하검사(LUG DOWN)</td>\n",
       "      <td>B8W20002200003308</td>\n",
       "      <td>9.00</td>\n",
       "      <td>9.00</td>\n",
       "      <td>9.00</td>\n",
       "      <td>1</td>\n",
       "    </tr>\n",
       "    <tr>\n",
       "      <th>22580</th>\n",
       "      <td>nan</td>\n",
       "      <td>종합검사(경과)</td>\n",
       "      <td>부하검사(LUG DOWN)</td>\n",
       "      <td>B9G10003400003307</td>\n",
       "      <td>5.00</td>\n",
       "      <td>5.00</td>\n",
       "      <td>5.00</td>\n",
       "      <td>1</td>\n",
       "    </tr>\n",
       "  </tbody>\n",
       "</table>\n",
       "<p>22581 rows × 8 columns</p>\n",
       "</div>"
      ],
      "text/plain": [
       "        배출가스인증번호        검사종류            검사방법             제원관리번호    q1    q2   \n",
       "0      4MY-AD-20   2부재검사(종합)      무부하검사(급가속)  02420000100031305 27.75 29.50  \\\n",
       "1      4MY-AD-20  재검사(2부재검사)      무부하검사(급가속)  02420000100031305 19.00 19.00   \n",
       "2      4MY-AD-20        정기검사      무부하검사(급가속)  02420000100031305 16.25 23.00   \n",
       "3      4MY-AD-20        종합검사      무부하검사(급가속)  02420000100031305  3.75  9.50   \n",
       "4      4MY-AD-20    종합검사(경과)      무부하검사(급가속)  02420000100031305 14.00 17.00   \n",
       "...          ...         ...             ...                ...   ...   ...   \n",
       "22576        nan    종합검사(경과)  부하검사(LUG DOWN)  B4T10005300003308  8.00  8.00   \n",
       "22577        nan    종합검사(경과)  부하검사(LUG DOWN)  B4V10002400004307  2.00  2.00   \n",
       "22578        nan    종합검사(경과)  부하검사(LUG DOWN)  B8E10002400003306 10.00 10.00   \n",
       "22579        nan    종합검사(경과)  부하검사(LUG DOWN)  B8W20002200003308  9.00  9.00   \n",
       "22580        nan    종합검사(경과)  부하검사(LUG DOWN)  B9G10003400003307  5.00  5.00   \n",
       "\n",
       "         q3  차량대수  \n",
       "0     31.25     2  \n",
       "1     19.00     1  \n",
       "2     25.25     4  \n",
       "3     14.50    12  \n",
       "4     17.00     3  \n",
       "...     ...   ...  \n",
       "22576  8.00     1  \n",
       "22577  2.00     1  \n",
       "22578 10.00     1  \n",
       "22579  9.00     1  \n",
       "22580  5.00     1  \n",
       "\n",
       "[22581 rows x 8 columns]"
      ]
     },
     "execution_count": 196,
     "metadata": {},
     "output_type": "execute_result"
    }
   ],
   "source": [
    "temp.columns = ['배출가스인증번호', '검사종류', '검사방법', '제원관리번호', 'q1', 'q2', 'q3', '차량대수']\n",
    "temp"
   ]
  },
  {
   "cell_type": "code",
   "execution_count": null,
   "metadata": {},
   "outputs": [
    {
     "data": {
      "text/plain": [
       "(21744, 8)"
      ]
     },
     "execution_count": 201,
     "metadata": {},
     "output_type": "execute_result"
    }
   ],
   "source": [
    "temp = temp[temp['배출가스인증번호'] != 'nan'].reset_index(drop=True)\n",
    "temp.shape"
   ]
  },
  {
   "cell_type": "code",
   "execution_count": null,
   "metadata": {},
   "outputs": [
    {
     "data": {
      "text/plain": [
       "(1454, 8)"
      ]
     },
     "execution_count": 210,
     "metadata": {},
     "output_type": "execute_result"
    }
   ],
   "source": [
    "temp2 = temp[temp['차량대수'] > 100].reset_index(drop=True)\n",
    "temp2.shape"
   ]
  },
  {
   "cell_type": "code",
   "execution_count": null,
   "metadata": {},
   "outputs": [
    {
     "data": {
      "text/html": [
       "<div>\n",
       "<style scoped>\n",
       "    .dataframe tbody tr th:only-of-type {\n",
       "        vertical-align: middle;\n",
       "    }\n",
       "\n",
       "    .dataframe tbody tr th {\n",
       "        vertical-align: top;\n",
       "    }\n",
       "\n",
       "    .dataframe thead th {\n",
       "        text-align: right;\n",
       "    }\n",
       "</style>\n",
       "<table border=\"1\" class=\"dataframe\">\n",
       "  <thead>\n",
       "    <tr style=\"text-align: right;\">\n",
       "      <th></th>\n",
       "      <th>배출가스인증번호</th>\n",
       "      <th>검사종류</th>\n",
       "      <th>검사방법</th>\n",
       "      <th>제원관리번호</th>\n",
       "      <th>q1</th>\n",
       "      <th>q2</th>\n",
       "      <th>q3</th>\n",
       "      <th>차량대수</th>\n",
       "    </tr>\n",
       "  </thead>\n",
       "  <tbody>\n",
       "    <tr>\n",
       "      <th>0</th>\n",
       "      <td>5MY-AD-13-06</td>\n",
       "      <td>종합검사</td>\n",
       "      <td>무부하검사(급가속)</td>\n",
       "      <td>02420004800011305</td>\n",
       "      <td>0.00</td>\n",
       "      <td>0.00</td>\n",
       "      <td>0.00</td>\n",
       "      <td>116</td>\n",
       "    </tr>\n",
       "    <tr>\n",
       "      <th>1</th>\n",
       "      <td>5MY-AD-14-08</td>\n",
       "      <td>종합검사</td>\n",
       "      <td>부하검사(KD-147)</td>\n",
       "      <td>02420006800031206</td>\n",
       "      <td>0.00</td>\n",
       "      <td>0.00</td>\n",
       "      <td>1.00</td>\n",
       "      <td>181</td>\n",
       "    </tr>\n",
       "    <tr>\n",
       "      <th>2</th>\n",
       "      <td>5MY-AD-14-08</td>\n",
       "      <td>종합검사</td>\n",
       "      <td>부하검사(KD-147)</td>\n",
       "      <td>02420006800111207</td>\n",
       "      <td>0.00</td>\n",
       "      <td>0.00</td>\n",
       "      <td>0.00</td>\n",
       "      <td>231</td>\n",
       "    </tr>\n",
       "    <tr>\n",
       "      <th>3</th>\n",
       "      <td>5MY-AD-14-18</td>\n",
       "      <td>종합검사</td>\n",
       "      <td>부하검사(KD-147)</td>\n",
       "      <td>02420004900031207</td>\n",
       "      <td>0.00</td>\n",
       "      <td>0.00</td>\n",
       "      <td>1.00</td>\n",
       "      <td>279</td>\n",
       "    </tr>\n",
       "    <tr>\n",
       "      <th>4</th>\n",
       "      <td>5MY-AD-14-18</td>\n",
       "      <td>종합검사</td>\n",
       "      <td>부하검사(KD-147)</td>\n",
       "      <td>02420004900041208</td>\n",
       "      <td>0.00</td>\n",
       "      <td>0.00</td>\n",
       "      <td>1.00</td>\n",
       "      <td>450</td>\n",
       "    </tr>\n",
       "    <tr>\n",
       "      <th>5</th>\n",
       "      <td>5MY-AD-14-18</td>\n",
       "      <td>종합검사</td>\n",
       "      <td>부하검사(KD-147)</td>\n",
       "      <td>02420007000021207</td>\n",
       "      <td>0.00</td>\n",
       "      <td>0.00</td>\n",
       "      <td>1.00</td>\n",
       "      <td>122</td>\n",
       "    </tr>\n",
       "    <tr>\n",
       "      <th>6</th>\n",
       "      <td>5MY-HD-24-35</td>\n",
       "      <td>종합검사</td>\n",
       "      <td>부하검사(KD-147)</td>\n",
       "      <td>A0810006700341105</td>\n",
       "      <td>6.50</td>\n",
       "      <td>13.00</td>\n",
       "      <td>21.50</td>\n",
       "      <td>168</td>\n",
       "    </tr>\n",
       "    <tr>\n",
       "      <th>7</th>\n",
       "      <td>5MY-HD-24-35</td>\n",
       "      <td>종합검사</td>\n",
       "      <td>부하검사(KD-147)</td>\n",
       "      <td>A0810006700421105</td>\n",
       "      <td>7.00</td>\n",
       "      <td>11.00</td>\n",
       "      <td>22.00</td>\n",
       "      <td>137</td>\n",
       "    </tr>\n",
       "    <tr>\n",
       "      <th>8</th>\n",
       "      <td>5MY-HD-24-59</td>\n",
       "      <td>1부재검사(종합)</td>\n",
       "      <td>부하검사(KD-147)</td>\n",
       "      <td>A0810006300981205</td>\n",
       "      <td>0.00</td>\n",
       "      <td>1.00</td>\n",
       "      <td>5.00</td>\n",
       "      <td>108</td>\n",
       "    </tr>\n",
       "    <tr>\n",
       "      <th>9</th>\n",
       "      <td>5MY-HD-24-59</td>\n",
       "      <td>1부재검사(종합)</td>\n",
       "      <td>부하검사(KD-147)</td>\n",
       "      <td>A0810006301201206</td>\n",
       "      <td>0.00</td>\n",
       "      <td>2.00</td>\n",
       "      <td>5.00</td>\n",
       "      <td>154</td>\n",
       "    </tr>\n",
       "  </tbody>\n",
       "</table>\n",
       "</div>"
      ],
      "text/plain": [
       "       배출가스인증번호       검사종류          검사방법             제원관리번호   q1    q2    q3   \n",
       "0  5MY-AD-13-06       종합검사    무부하검사(급가속)  02420004800011305 0.00  0.00  0.00  \\\n",
       "1  5MY-AD-14-08       종합검사  부하검사(KD-147)  02420006800031206 0.00  0.00  1.00   \n",
       "2  5MY-AD-14-08       종합검사  부하검사(KD-147)  02420006800111207 0.00  0.00  0.00   \n",
       "3  5MY-AD-14-18       종합검사  부하검사(KD-147)  02420004900031207 0.00  0.00  1.00   \n",
       "4  5MY-AD-14-18       종합검사  부하검사(KD-147)  02420004900041208 0.00  0.00  1.00   \n",
       "5  5MY-AD-14-18       종합검사  부하검사(KD-147)  02420007000021207 0.00  0.00  1.00   \n",
       "6  5MY-HD-24-35       종합검사  부하검사(KD-147)  A0810006700341105 6.50 13.00 21.50   \n",
       "7  5MY-HD-24-35       종합검사  부하검사(KD-147)  A0810006700421105 7.00 11.00 22.00   \n",
       "8  5MY-HD-24-59  1부재검사(종합)  부하검사(KD-147)  A0810006300981205 0.00  1.00  5.00   \n",
       "9  5MY-HD-24-59  1부재검사(종합)  부하검사(KD-147)  A0810006301201206 0.00  2.00  5.00   \n",
       "\n",
       "   차량대수  \n",
       "0   116  \n",
       "1   181  \n",
       "2   231  \n",
       "3   279  \n",
       "4   450  \n",
       "5   122  \n",
       "6   168  \n",
       "7   137  \n",
       "8   108  \n",
       "9   154  "
      ]
     },
     "execution_count": 211,
     "metadata": {},
     "output_type": "execute_result"
    }
   ],
   "source": [
    "temp2.head(10)"
   ]
  },
  {
   "cell_type": "code",
   "execution_count": null,
   "metadata": {},
   "outputs": [
    {
     "data": {
      "text/plain": [
       "(716, 8)"
      ]
     },
     "execution_count": 214,
     "metadata": {},
     "output_type": "execute_result"
    }
   ],
   "source": [
    "temp2.drop_duplicates(['배출가스인증번호', '제원관리번호']).shape"
   ]
  },
  {
   "cell_type": "code",
   "execution_count": null,
   "metadata": {},
   "outputs": [
    {
     "data": {
      "text/html": [
       "<div>\n",
       "<style scoped>\n",
       "    .dataframe tbody tr th:only-of-type {\n",
       "        vertical-align: middle;\n",
       "    }\n",
       "\n",
       "    .dataframe tbody tr th {\n",
       "        vertical-align: top;\n",
       "    }\n",
       "\n",
       "    .dataframe thead th {\n",
       "        text-align: right;\n",
       "    }\n",
       "</style>\n",
       "<table border=\"1\" class=\"dataframe\">\n",
       "  <thead>\n",
       "    <tr style=\"text-align: right;\">\n",
       "      <th></th>\n",
       "      <th>배출가스인증번호</th>\n",
       "      <th>검사종류</th>\n",
       "      <th>검사방법</th>\n",
       "      <th>제원관리번호</th>\n",
       "      <th>q1</th>\n",
       "      <th>q2</th>\n",
       "      <th>q3</th>\n",
       "      <th>차량대수</th>\n",
       "      <th>dup</th>\n",
       "    </tr>\n",
       "  </thead>\n",
       "  <tbody>\n",
       "    <tr>\n",
       "      <th>0</th>\n",
       "      <td>5MY-AD-13-06</td>\n",
       "      <td>종합검사</td>\n",
       "      <td>무부하검사(급가속)</td>\n",
       "      <td>02420004800011305</td>\n",
       "      <td>0.00</td>\n",
       "      <td>0.00</td>\n",
       "      <td>0.00</td>\n",
       "      <td>116</td>\n",
       "      <td>False</td>\n",
       "    </tr>\n",
       "    <tr>\n",
       "      <th>1</th>\n",
       "      <td>5MY-AD-14-08</td>\n",
       "      <td>종합검사</td>\n",
       "      <td>부하검사(KD-147)</td>\n",
       "      <td>02420006800031206</td>\n",
       "      <td>0.00</td>\n",
       "      <td>0.00</td>\n",
       "      <td>1.00</td>\n",
       "      <td>181</td>\n",
       "      <td>False</td>\n",
       "    </tr>\n",
       "    <tr>\n",
       "      <th>2</th>\n",
       "      <td>5MY-AD-14-08</td>\n",
       "      <td>종합검사</td>\n",
       "      <td>부하검사(KD-147)</td>\n",
       "      <td>02420006800111207</td>\n",
       "      <td>0.00</td>\n",
       "      <td>0.00</td>\n",
       "      <td>0.00</td>\n",
       "      <td>231</td>\n",
       "      <td>False</td>\n",
       "    </tr>\n",
       "    <tr>\n",
       "      <th>3</th>\n",
       "      <td>5MY-AD-14-18</td>\n",
       "      <td>종합검사</td>\n",
       "      <td>부하검사(KD-147)</td>\n",
       "      <td>02420004900031207</td>\n",
       "      <td>0.00</td>\n",
       "      <td>0.00</td>\n",
       "      <td>1.00</td>\n",
       "      <td>279</td>\n",
       "      <td>False</td>\n",
       "    </tr>\n",
       "    <tr>\n",
       "      <th>4</th>\n",
       "      <td>5MY-AD-14-18</td>\n",
       "      <td>종합검사</td>\n",
       "      <td>부하검사(KD-147)</td>\n",
       "      <td>02420004900041208</td>\n",
       "      <td>0.00</td>\n",
       "      <td>0.00</td>\n",
       "      <td>1.00</td>\n",
       "      <td>450</td>\n",
       "      <td>False</td>\n",
       "    </tr>\n",
       "  </tbody>\n",
       "</table>\n",
       "</div>"
      ],
      "text/plain": [
       "       배출가스인증번호  검사종류          검사방법             제원관리번호   q1   q2   q3  차량대수   \n",
       "0  5MY-AD-13-06  종합검사    무부하검사(급가속)  02420004800011305 0.00 0.00 0.00   116  \\\n",
       "1  5MY-AD-14-08  종합검사  부하검사(KD-147)  02420006800031206 0.00 0.00 1.00   181   \n",
       "2  5MY-AD-14-08  종합검사  부하검사(KD-147)  02420006800111207 0.00 0.00 0.00   231   \n",
       "3  5MY-AD-14-18  종합검사  부하검사(KD-147)  02420004900031207 0.00 0.00 1.00   279   \n",
       "4  5MY-AD-14-18  종합검사  부하검사(KD-147)  02420004900041208 0.00 0.00 1.00   450   \n",
       "\n",
       "     dup  \n",
       "0  False  \n",
       "1  False  \n",
       "2  False  \n",
       "3  False  \n",
       "4  False  "
      ]
     },
     "execution_count": 215,
     "metadata": {},
     "output_type": "execute_result"
    }
   ],
   "source": [
    "temp2['dup'] = temp2.duplicated(['배출가스인증번호', '제원관리번호'])\n",
    "temp2.head()"
   ]
  },
  {
   "cell_type": "code",
   "execution_count": null,
   "metadata": {},
   "outputs": [
    {
     "data": {
      "text/plain": [
       "array(['5MY-HD-24-59', '5MY-KM-24-17', '6MY-DW-14-18', '6MY-HD-14-63',\n",
       "       '6MY-HD-14-64', '6MY-HD-14-97', '6MY-HD-24-100', '6MY-HD-24-12',\n",
       "       '6MY-HD-24-44', '6MY-KM-14-57', '6MY-KM-14-61', '6MY-KM-24-81',\n",
       "       '7MY-DW-13-07', '7MY-HD-13-58', '7MY-HD-14-45', '7MY-HD-14-46',\n",
       "       '7MY-HD-14-47', '7MY-HD-14-57', '7MY-HD-14-68', '7MY-HD-24-08',\n",
       "       '7MY-HD-24-09', '7MY-HD-24-28', '7MY-KM-14-63', '7MY-KM-14-64',\n",
       "       '7MY-KM-14-65', '7MY-SM-14-36', '7MY-SY-14-24', '7MY-SY-14-34',\n",
       "       '7MY-SY-14-49', '7MY-SY-14-60', '8MY-KM-14-29', '9MY-HD-14-21',\n",
       "       '9MY-KM-14-22', '9MY-KM-14-41'], dtype=object)"
      ]
     },
     "execution_count": 218,
     "metadata": {},
     "output_type": "execute_result"
    }
   ],
   "source": [
    "temp2.loc[temp2['dup'] == True, '배출가스인증번호'].unique()"
   ]
  },
  {
   "cell_type": "code",
   "execution_count": null,
   "metadata": {},
   "outputs": [
    {
     "data": {
      "text/html": [
       "<div>\n",
       "<style scoped>\n",
       "    .dataframe tbody tr th:only-of-type {\n",
       "        vertical-align: middle;\n",
       "    }\n",
       "\n",
       "    .dataframe tbody tr th {\n",
       "        vertical-align: top;\n",
       "    }\n",
       "\n",
       "    .dataframe thead th {\n",
       "        text-align: right;\n",
       "    }\n",
       "</style>\n",
       "<table border=\"1\" class=\"dataframe\">\n",
       "  <thead>\n",
       "    <tr style=\"text-align: right;\">\n",
       "      <th></th>\n",
       "      <th>배출가스인증번호</th>\n",
       "      <th>검사종류</th>\n",
       "      <th>검사방법</th>\n",
       "      <th>제원관리번호</th>\n",
       "      <th>q1</th>\n",
       "      <th>q2</th>\n",
       "      <th>q3</th>\n",
       "      <th>차량대수</th>\n",
       "      <th>dup</th>\n",
       "    </tr>\n",
       "  </thead>\n",
       "  <tbody>\n",
       "    <tr>\n",
       "      <th>8</th>\n",
       "      <td>5MY-HD-24-59</td>\n",
       "      <td>1부재검사(종합)</td>\n",
       "      <td>부하검사(KD-147)</td>\n",
       "      <td>A0810006300981205</td>\n",
       "      <td>0.00</td>\n",
       "      <td>1.00</td>\n",
       "      <td>5.00</td>\n",
       "      <td>108</td>\n",
       "      <td>False</td>\n",
       "    </tr>\n",
       "    <tr>\n",
       "      <th>9</th>\n",
       "      <td>5MY-HD-24-59</td>\n",
       "      <td>1부재검사(종합)</td>\n",
       "      <td>부하검사(KD-147)</td>\n",
       "      <td>A0810006301201206</td>\n",
       "      <td>0.00</td>\n",
       "      <td>2.00</td>\n",
       "      <td>5.00</td>\n",
       "      <td>154</td>\n",
       "      <td>False</td>\n",
       "    </tr>\n",
       "    <tr>\n",
       "      <th>10</th>\n",
       "      <td>5MY-HD-24-59</td>\n",
       "      <td>1부재검사(종합)</td>\n",
       "      <td>부하검사(KD-147)</td>\n",
       "      <td>A0810006301221206</td>\n",
       "      <td>0.00</td>\n",
       "      <td>2.00</td>\n",
       "      <td>5.00</td>\n",
       "      <td>182</td>\n",
       "      <td>False</td>\n",
       "    </tr>\n",
       "    <tr>\n",
       "      <th>11</th>\n",
       "      <td>5MY-HD-24-59</td>\n",
       "      <td>재검사(1부재검사)</td>\n",
       "      <td>무부하검사(급가속)</td>\n",
       "      <td>A0810006301201206</td>\n",
       "      <td>0.00</td>\n",
       "      <td>0.00</td>\n",
       "      <td>0.00</td>\n",
       "      <td>146</td>\n",
       "      <td>True</td>\n",
       "    </tr>\n",
       "    <tr>\n",
       "      <th>12</th>\n",
       "      <td>5MY-HD-24-59</td>\n",
       "      <td>재검사(1부재검사)</td>\n",
       "      <td>무부하검사(급가속)</td>\n",
       "      <td>A0810006301221206</td>\n",
       "      <td>0.00</td>\n",
       "      <td>0.00</td>\n",
       "      <td>0.00</td>\n",
       "      <td>138</td>\n",
       "      <td>True</td>\n",
       "    </tr>\n",
       "    <tr>\n",
       "      <th>13</th>\n",
       "      <td>5MY-HD-24-59</td>\n",
       "      <td>재검사(2부재검사)</td>\n",
       "      <td>무부하검사(급가속)</td>\n",
       "      <td>A0810006301221206</td>\n",
       "      <td>0.00</td>\n",
       "      <td>0.00</td>\n",
       "      <td>5.75</td>\n",
       "      <td>102</td>\n",
       "      <td>True</td>\n",
       "    </tr>\n",
       "    <tr>\n",
       "      <th>14</th>\n",
       "      <td>5MY-HD-24-59</td>\n",
       "      <td>정기검사</td>\n",
       "      <td>무부하검사(급가속)</td>\n",
       "      <td>A0810006300941205</td>\n",
       "      <td>0.00</td>\n",
       "      <td>3.00</td>\n",
       "      <td>11.00</td>\n",
       "      <td>157</td>\n",
       "      <td>False</td>\n",
       "    </tr>\n",
       "    <tr>\n",
       "      <th>15</th>\n",
       "      <td>5MY-HD-24-59</td>\n",
       "      <td>정기검사</td>\n",
       "      <td>무부하검사(급가속)</td>\n",
       "      <td>A0810006300961205</td>\n",
       "      <td>0.00</td>\n",
       "      <td>3.00</td>\n",
       "      <td>10.00</td>\n",
       "      <td>367</td>\n",
       "      <td>False</td>\n",
       "    </tr>\n",
       "    <tr>\n",
       "      <th>16</th>\n",
       "      <td>5MY-HD-24-59</td>\n",
       "      <td>정기검사</td>\n",
       "      <td>무부하검사(급가속)</td>\n",
       "      <td>A0810006300981205</td>\n",
       "      <td>0.00</td>\n",
       "      <td>3.00</td>\n",
       "      <td>10.00</td>\n",
       "      <td>562</td>\n",
       "      <td>True</td>\n",
       "    </tr>\n",
       "    <tr>\n",
       "      <th>17</th>\n",
       "      <td>5MY-HD-24-59</td>\n",
       "      <td>정기검사</td>\n",
       "      <td>무부하검사(급가속)</td>\n",
       "      <td>A0810006301181206</td>\n",
       "      <td>1.00</td>\n",
       "      <td>6.00</td>\n",
       "      <td>16.00</td>\n",
       "      <td>249</td>\n",
       "      <td>False</td>\n",
       "    </tr>\n",
       "    <tr>\n",
       "      <th>18</th>\n",
       "      <td>5MY-HD-24-59</td>\n",
       "      <td>정기검사</td>\n",
       "      <td>무부하검사(급가속)</td>\n",
       "      <td>A0810006301201206</td>\n",
       "      <td>1.00</td>\n",
       "      <td>5.00</td>\n",
       "      <td>13.00</td>\n",
       "      <td>798</td>\n",
       "      <td>True</td>\n",
       "    </tr>\n",
       "    <tr>\n",
       "      <th>19</th>\n",
       "      <td>5MY-HD-24-59</td>\n",
       "      <td>정기검사</td>\n",
       "      <td>무부하검사(급가속)</td>\n",
       "      <td>A0810006301221206</td>\n",
       "      <td>0.00</td>\n",
       "      <td>5.00</td>\n",
       "      <td>12.00</td>\n",
       "      <td>803</td>\n",
       "      <td>True</td>\n",
       "    </tr>\n",
       "    <tr>\n",
       "      <th>20</th>\n",
       "      <td>5MY-HD-24-59</td>\n",
       "      <td>정기검사</td>\n",
       "      <td>무부하검사(급가속)</td>\n",
       "      <td>A0810006301241206</td>\n",
       "      <td>1.00</td>\n",
       "      <td>5.00</td>\n",
       "      <td>12.00</td>\n",
       "      <td>152</td>\n",
       "      <td>False</td>\n",
       "    </tr>\n",
       "    <tr>\n",
       "      <th>21</th>\n",
       "      <td>5MY-HD-24-59</td>\n",
       "      <td>종합검사</td>\n",
       "      <td>부하검사(KD-147)</td>\n",
       "      <td>A0810006300941205</td>\n",
       "      <td>0.00</td>\n",
       "      <td>1.00</td>\n",
       "      <td>4.00</td>\n",
       "      <td>781</td>\n",
       "      <td>True</td>\n",
       "    </tr>\n",
       "    <tr>\n",
       "      <th>22</th>\n",
       "      <td>5MY-HD-24-59</td>\n",
       "      <td>종합검사</td>\n",
       "      <td>부하검사(KD-147)</td>\n",
       "      <td>A0810006300961205</td>\n",
       "      <td>0.00</td>\n",
       "      <td>1.00</td>\n",
       "      <td>4.00</td>\n",
       "      <td>1939</td>\n",
       "      <td>True</td>\n",
       "    </tr>\n",
       "    <tr>\n",
       "      <th>23</th>\n",
       "      <td>5MY-HD-24-59</td>\n",
       "      <td>종합검사</td>\n",
       "      <td>부하검사(KD-147)</td>\n",
       "      <td>A0810006300981205</td>\n",
       "      <td>0.00</td>\n",
       "      <td>1.00</td>\n",
       "      <td>4.00</td>\n",
       "      <td>3275</td>\n",
       "      <td>True</td>\n",
       "    </tr>\n",
       "    <tr>\n",
       "      <th>24</th>\n",
       "      <td>5MY-HD-24-59</td>\n",
       "      <td>종합검사</td>\n",
       "      <td>부하검사(KD-147)</td>\n",
       "      <td>A0810006301001205</td>\n",
       "      <td>0.00</td>\n",
       "      <td>1.00</td>\n",
       "      <td>4.00</td>\n",
       "      <td>503</td>\n",
       "      <td>False</td>\n",
       "    </tr>\n",
       "    <tr>\n",
       "      <th>25</th>\n",
       "      <td>5MY-HD-24-59</td>\n",
       "      <td>종합검사</td>\n",
       "      <td>부하검사(KD-147)</td>\n",
       "      <td>A0810006301181206</td>\n",
       "      <td>0.00</td>\n",
       "      <td>2.00</td>\n",
       "      <td>5.00</td>\n",
       "      <td>1303</td>\n",
       "      <td>True</td>\n",
       "    </tr>\n",
       "    <tr>\n",
       "      <th>26</th>\n",
       "      <td>5MY-HD-24-59</td>\n",
       "      <td>종합검사</td>\n",
       "      <td>부하검사(KD-147)</td>\n",
       "      <td>A0810006301201206</td>\n",
       "      <td>0.00</td>\n",
       "      <td>1.00</td>\n",
       "      <td>4.00</td>\n",
       "      <td>4221</td>\n",
       "      <td>True</td>\n",
       "    </tr>\n",
       "    <tr>\n",
       "      <th>27</th>\n",
       "      <td>5MY-HD-24-59</td>\n",
       "      <td>종합검사</td>\n",
       "      <td>부하검사(KD-147)</td>\n",
       "      <td>A0810006301221206</td>\n",
       "      <td>0.00</td>\n",
       "      <td>2.00</td>\n",
       "      <td>5.00</td>\n",
       "      <td>4533</td>\n",
       "      <td>True</td>\n",
       "    </tr>\n",
       "    <tr>\n",
       "      <th>28</th>\n",
       "      <td>5MY-HD-24-59</td>\n",
       "      <td>종합검사</td>\n",
       "      <td>부하검사(KD-147)</td>\n",
       "      <td>A0810006301241206</td>\n",
       "      <td>0.00</td>\n",
       "      <td>1.00</td>\n",
       "      <td>4.00</td>\n",
       "      <td>641</td>\n",
       "      <td>True</td>\n",
       "    </tr>\n",
       "    <tr>\n",
       "      <th>29</th>\n",
       "      <td>5MY-HD-24-59</td>\n",
       "      <td>종합검사</td>\n",
       "      <td>부하검사(KD-147)</td>\n",
       "      <td>A0810009300091314</td>\n",
       "      <td>0.00</td>\n",
       "      <td>0.00</td>\n",
       "      <td>0.00</td>\n",
       "      <td>137</td>\n",
       "      <td>False</td>\n",
       "    </tr>\n",
       "    <tr>\n",
       "      <th>30</th>\n",
       "      <td>5MY-HD-24-59</td>\n",
       "      <td>종합검사(경과)</td>\n",
       "      <td>부하검사(KD-147)</td>\n",
       "      <td>A0810006300981205</td>\n",
       "      <td>0.00</td>\n",
       "      <td>1.00</td>\n",
       "      <td>3.00</td>\n",
       "      <td>159</td>\n",
       "      <td>True</td>\n",
       "    </tr>\n",
       "    <tr>\n",
       "      <th>31</th>\n",
       "      <td>5MY-HD-24-59</td>\n",
       "      <td>종합검사(경과)</td>\n",
       "      <td>부하검사(KD-147)</td>\n",
       "      <td>A0810006301201206</td>\n",
       "      <td>0.00</td>\n",
       "      <td>1.00</td>\n",
       "      <td>3.00</td>\n",
       "      <td>202</td>\n",
       "      <td>True</td>\n",
       "    </tr>\n",
       "    <tr>\n",
       "      <th>32</th>\n",
       "      <td>5MY-HD-24-59</td>\n",
       "      <td>종합검사(경과)</td>\n",
       "      <td>부하검사(KD-147)</td>\n",
       "      <td>A0810006301221206</td>\n",
       "      <td>0.00</td>\n",
       "      <td>1.00</td>\n",
       "      <td>4.00</td>\n",
       "      <td>247</td>\n",
       "      <td>True</td>\n",
       "    </tr>\n",
       "  </tbody>\n",
       "</table>\n",
       "</div>"
      ],
      "text/plain": [
       "        배출가스인증번호        검사종류          검사방법             제원관리번호   q1   q2    q3   \n",
       "8   5MY-HD-24-59   1부재검사(종합)  부하검사(KD-147)  A0810006300981205 0.00 1.00  5.00  \\\n",
       "9   5MY-HD-24-59   1부재검사(종합)  부하검사(KD-147)  A0810006301201206 0.00 2.00  5.00   \n",
       "10  5MY-HD-24-59   1부재검사(종합)  부하검사(KD-147)  A0810006301221206 0.00 2.00  5.00   \n",
       "11  5MY-HD-24-59  재검사(1부재검사)    무부하검사(급가속)  A0810006301201206 0.00 0.00  0.00   \n",
       "12  5MY-HD-24-59  재검사(1부재검사)    무부하검사(급가속)  A0810006301221206 0.00 0.00  0.00   \n",
       "13  5MY-HD-24-59  재검사(2부재검사)    무부하검사(급가속)  A0810006301221206 0.00 0.00  5.75   \n",
       "14  5MY-HD-24-59        정기검사    무부하검사(급가속)  A0810006300941205 0.00 3.00 11.00   \n",
       "15  5MY-HD-24-59        정기검사    무부하검사(급가속)  A0810006300961205 0.00 3.00 10.00   \n",
       "16  5MY-HD-24-59        정기검사    무부하검사(급가속)  A0810006300981205 0.00 3.00 10.00   \n",
       "17  5MY-HD-24-59        정기검사    무부하검사(급가속)  A0810006301181206 1.00 6.00 16.00   \n",
       "18  5MY-HD-24-59        정기검사    무부하검사(급가속)  A0810006301201206 1.00 5.00 13.00   \n",
       "19  5MY-HD-24-59        정기검사    무부하검사(급가속)  A0810006301221206 0.00 5.00 12.00   \n",
       "20  5MY-HD-24-59        정기검사    무부하검사(급가속)  A0810006301241206 1.00 5.00 12.00   \n",
       "21  5MY-HD-24-59        종합검사  부하검사(KD-147)  A0810006300941205 0.00 1.00  4.00   \n",
       "22  5MY-HD-24-59        종합검사  부하검사(KD-147)  A0810006300961205 0.00 1.00  4.00   \n",
       "23  5MY-HD-24-59        종합검사  부하검사(KD-147)  A0810006300981205 0.00 1.00  4.00   \n",
       "24  5MY-HD-24-59        종합검사  부하검사(KD-147)  A0810006301001205 0.00 1.00  4.00   \n",
       "25  5MY-HD-24-59        종합검사  부하검사(KD-147)  A0810006301181206 0.00 2.00  5.00   \n",
       "26  5MY-HD-24-59        종합검사  부하검사(KD-147)  A0810006301201206 0.00 1.00  4.00   \n",
       "27  5MY-HD-24-59        종합검사  부하검사(KD-147)  A0810006301221206 0.00 2.00  5.00   \n",
       "28  5MY-HD-24-59        종합검사  부하검사(KD-147)  A0810006301241206 0.00 1.00  4.00   \n",
       "29  5MY-HD-24-59        종합검사  부하검사(KD-147)  A0810009300091314 0.00 0.00  0.00   \n",
       "30  5MY-HD-24-59    종합검사(경과)  부하검사(KD-147)  A0810006300981205 0.00 1.00  3.00   \n",
       "31  5MY-HD-24-59    종합검사(경과)  부하검사(KD-147)  A0810006301201206 0.00 1.00  3.00   \n",
       "32  5MY-HD-24-59    종합검사(경과)  부하검사(KD-147)  A0810006301221206 0.00 1.00  4.00   \n",
       "\n",
       "    차량대수    dup  \n",
       "8    108  False  \n",
       "9    154  False  \n",
       "10   182  False  \n",
       "11   146   True  \n",
       "12   138   True  \n",
       "13   102   True  \n",
       "14   157  False  \n",
       "15   367  False  \n",
       "16   562   True  \n",
       "17   249  False  \n",
       "18   798   True  \n",
       "19   803   True  \n",
       "20   152  False  \n",
       "21   781   True  \n",
       "22  1939   True  \n",
       "23  3275   True  \n",
       "24   503  False  \n",
       "25  1303   True  \n",
       "26  4221   True  \n",
       "27  4533   True  \n",
       "28   641   True  \n",
       "29   137  False  \n",
       "30   159   True  \n",
       "31   202   True  \n",
       "32   247   True  "
      ]
     },
     "execution_count": 220,
     "metadata": {},
     "output_type": "execute_result"
    }
   ],
   "source": [
    "temp2[temp2['배출가스인증번호'] == '5MY-HD-24-59'].sort_values(['검사종류', '검사방법', '제원관리번호'])"
   ]
  },
  {
   "cell_type": "code",
   "execution_count": null,
   "metadata": {},
   "outputs": [
    {
     "data": {
      "text/plain": [
       "(562, 36)"
      ]
     },
     "execution_count": 221,
     "metadata": {},
     "output_type": "execute_result"
    }
   ],
   "source": [
    "df1[(df1['배출가스인증번호'] == '5MY-HD-24-59') & (df1['검사종류'] == '정기검사') & (df1['검사방법'] == '무부하검사(급가속)') & (df1['제원관리번호'] == 'A0810006300981205')].shape"
   ]
  },
  {
   "cell_type": "code",
   "execution_count": null,
   "metadata": {},
   "outputs": [],
   "source": []
  },
  {
   "cell_type": "code",
   "execution_count": null,
   "metadata": {},
   "outputs": [],
   "source": []
  },
  {
   "cell_type": "code",
   "execution_count": null,
   "metadata": {},
   "outputs": [],
   "source": [
    "# 4m 11.2s\n",
    "boxplot_df = pd.DataFrame()\n",
    "quantile_df = pd.DataFrame()\n",
    "for one in sample01['배출가스인증번호'].unique(): # 통계에서 100대 초과인 배인번호만 추출\n",
    "    temp_one = df3y.loc[(df3y['배출가스인증번호'] == one) & (df3y['검사판정'] == 'Y')].reset_index(drop=True) # 해당 배인번호 중 검사판정이 'Y'인 샘플만 추출\n",
    "    if temp_one.shape[0] > 100: # 100대 초과면 진행\n",
    "        for two in temp_one['검사종류'].unique(): # 검사종류별 샘플 추출\n",
    "            temp_two = temp_one.loc[temp_one['검사종류'] == two].reset_index(drop=True)\n",
    "            if temp_two.shape[0] > 100:\n",
    "                for three in temp_two['검사방법'].unique(): # 검사방법별 샘플 추출\n",
    "                    temp_three = temp_two.loc[temp_two['검사방법'] == three].reset_index(drop=True)\n",
    "                    boxplot_df = pd.concat([boxplot_df, temp_three], ignore_index=True) # 해당 샘플만 추출하여 쌓기\n",
    "                    if temp_three.shape[0] > 100:\n",
    "                        xticks_list= []\n",
    "                        data_list = []\n",
    "                        for four in temp_three['제원관리번호'].unique():\n",
    "                            temp_four = temp_three.loc[temp_three['제원관리번호'] == four].reset_index(drop=True).dropna(subset=['무부하매연측정치1'])\n",
    "                            if temp_four.shape[0] > 100:\n",
    "                                xticks_list.append(four)\n",
    "                                data_list.append(temp_four['무부하매연측정치1'])\n",
    "                                temp_four['q1'] = temp_four['무부하매연측정치1'].describe()['25%']\n",
    "                                temp_four['q2'] = temp_four['무부하매연측정치1'].describe()['50%']\n",
    "                                temp_four['q3'] = temp_four['무부하매연측정치1'].describe()['75%']\n",
    "                                temp_four['차량대수'] = temp_four.shape[0]\n",
    "                                quantile_df = pd.concat([quantile_df, temp_four], ignore_index=True) # 제번별 4분위 값 df형태로 저장"
   ]
  },
  {
   "cell_type": "code",
   "execution_count": null,
   "metadata": {},
   "outputs": [
    {
     "data": {
      "text/plain": [
       "(794428, 42)"
      ]
     },
     "execution_count": 113,
     "metadata": {},
     "output_type": "execute_result"
    }
   ],
   "source": [
    "quantile_df.shape"
   ]
  },
  {
   "cell_type": "code",
   "execution_count": null,
   "metadata": {},
   "outputs": [
    {
     "data": {
      "text/html": [
       "<div>\n",
       "<style scoped>\n",
       "    .dataframe tbody tr th:only-of-type {\n",
       "        vertical-align: middle;\n",
       "    }\n",
       "\n",
       "    .dataframe tbody tr th {\n",
       "        vertical-align: top;\n",
       "    }\n",
       "\n",
       "    .dataframe thead th {\n",
       "        text-align: right;\n",
       "    }\n",
       "</style>\n",
       "<table border=\"1\" class=\"dataframe\">\n",
       "  <thead>\n",
       "    <tr style=\"text-align: right;\">\n",
       "      <th></th>\n",
       "      <th>배출가스인증번호</th>\n",
       "      <th>제원관리번호</th>\n",
       "      <th>검사종류</th>\n",
       "      <th>검사방법</th>\n",
       "      <th>q1</th>\n",
       "      <th>q2</th>\n",
       "      <th>q3</th>\n",
       "      <th>차량대수</th>\n",
       "    </tr>\n",
       "  </thead>\n",
       "  <tbody>\n",
       "    <tr>\n",
       "      <th>0</th>\n",
       "      <td>7MY-HD-24-28</td>\n",
       "      <td>A0810005008503209</td>\n",
       "      <td>종합검사</td>\n",
       "      <td>부하검사(LUG DOWN)</td>\n",
       "      <td>5.00</td>\n",
       "      <td>8.00</td>\n",
       "      <td>11.00</td>\n",
       "      <td>332</td>\n",
       "    </tr>\n",
       "    <tr>\n",
       "      <th>1</th>\n",
       "      <td>7MY-HD-24-28</td>\n",
       "      <td>A0810005008503209</td>\n",
       "      <td>종합검사</td>\n",
       "      <td>부하검사(LUG DOWN)</td>\n",
       "      <td>5.00</td>\n",
       "      <td>8.00</td>\n",
       "      <td>11.00</td>\n",
       "      <td>332</td>\n",
       "    </tr>\n",
       "    <tr>\n",
       "      <th>2</th>\n",
       "      <td>7MY-HD-24-28</td>\n",
       "      <td>A0810005008503209</td>\n",
       "      <td>종합검사</td>\n",
       "      <td>부하검사(LUG DOWN)</td>\n",
       "      <td>5.00</td>\n",
       "      <td>8.00</td>\n",
       "      <td>11.00</td>\n",
       "      <td>332</td>\n",
       "    </tr>\n",
       "    <tr>\n",
       "      <th>3</th>\n",
       "      <td>7MY-HD-24-28</td>\n",
       "      <td>A0810005008503209</td>\n",
       "      <td>종합검사</td>\n",
       "      <td>부하검사(LUG DOWN)</td>\n",
       "      <td>5.00</td>\n",
       "      <td>8.00</td>\n",
       "      <td>11.00</td>\n",
       "      <td>332</td>\n",
       "    </tr>\n",
       "    <tr>\n",
       "      <th>4</th>\n",
       "      <td>7MY-HD-24-28</td>\n",
       "      <td>A0810005008503209</td>\n",
       "      <td>종합검사</td>\n",
       "      <td>부하검사(LUG DOWN)</td>\n",
       "      <td>5.00</td>\n",
       "      <td>8.00</td>\n",
       "      <td>11.00</td>\n",
       "      <td>332</td>\n",
       "    </tr>\n",
       "    <tr>\n",
       "      <th>5</th>\n",
       "      <td>7MY-HD-24-28</td>\n",
       "      <td>A0810005008503209</td>\n",
       "      <td>종합검사</td>\n",
       "      <td>부하검사(LUG DOWN)</td>\n",
       "      <td>5.00</td>\n",
       "      <td>8.00</td>\n",
       "      <td>11.00</td>\n",
       "      <td>332</td>\n",
       "    </tr>\n",
       "    <tr>\n",
       "      <th>6</th>\n",
       "      <td>7MY-HD-24-28</td>\n",
       "      <td>A0810005008503209</td>\n",
       "      <td>종합검사</td>\n",
       "      <td>부하검사(LUG DOWN)</td>\n",
       "      <td>5.00</td>\n",
       "      <td>8.00</td>\n",
       "      <td>11.00</td>\n",
       "      <td>332</td>\n",
       "    </tr>\n",
       "    <tr>\n",
       "      <th>7</th>\n",
       "      <td>7MY-HD-24-28</td>\n",
       "      <td>A0810005008503209</td>\n",
       "      <td>종합검사</td>\n",
       "      <td>부하검사(LUG DOWN)</td>\n",
       "      <td>5.00</td>\n",
       "      <td>8.00</td>\n",
       "      <td>11.00</td>\n",
       "      <td>332</td>\n",
       "    </tr>\n",
       "    <tr>\n",
       "      <th>8</th>\n",
       "      <td>7MY-HD-24-28</td>\n",
       "      <td>A0810005008503209</td>\n",
       "      <td>종합검사</td>\n",
       "      <td>부하검사(LUG DOWN)</td>\n",
       "      <td>5.00</td>\n",
       "      <td>8.00</td>\n",
       "      <td>11.00</td>\n",
       "      <td>332</td>\n",
       "    </tr>\n",
       "    <tr>\n",
       "      <th>9</th>\n",
       "      <td>7MY-HD-24-28</td>\n",
       "      <td>A0810005008503209</td>\n",
       "      <td>종합검사</td>\n",
       "      <td>부하검사(LUG DOWN)</td>\n",
       "      <td>5.00</td>\n",
       "      <td>8.00</td>\n",
       "      <td>11.00</td>\n",
       "      <td>332</td>\n",
       "    </tr>\n",
       "  </tbody>\n",
       "</table>\n",
       "</div>"
      ],
      "text/plain": [
       "       배출가스인증번호             제원관리번호  검사종류            검사방법   q1   q2    q3  차량대수\n",
       "0  7MY-HD-24-28  A0810005008503209  종합검사  부하검사(LUG DOWN) 5.00 8.00 11.00   332\n",
       "1  7MY-HD-24-28  A0810005008503209  종합검사  부하검사(LUG DOWN) 5.00 8.00 11.00   332\n",
       "2  7MY-HD-24-28  A0810005008503209  종합검사  부하검사(LUG DOWN) 5.00 8.00 11.00   332\n",
       "3  7MY-HD-24-28  A0810005008503209  종합검사  부하검사(LUG DOWN) 5.00 8.00 11.00   332\n",
       "4  7MY-HD-24-28  A0810005008503209  종합검사  부하검사(LUG DOWN) 5.00 8.00 11.00   332\n",
       "5  7MY-HD-24-28  A0810005008503209  종합검사  부하검사(LUG DOWN) 5.00 8.00 11.00   332\n",
       "6  7MY-HD-24-28  A0810005008503209  종합검사  부하검사(LUG DOWN) 5.00 8.00 11.00   332\n",
       "7  7MY-HD-24-28  A0810005008503209  종합검사  부하검사(LUG DOWN) 5.00 8.00 11.00   332\n",
       "8  7MY-HD-24-28  A0810005008503209  종합검사  부하검사(LUG DOWN) 5.00 8.00 11.00   332\n",
       "9  7MY-HD-24-28  A0810005008503209  종합검사  부하검사(LUG DOWN) 5.00 8.00 11.00   332"
      ]
     },
     "execution_count": 132,
     "metadata": {},
     "output_type": "execute_result"
    }
   ],
   "source": [
    "quantile_df[['배출가스인증번호', '제원관리번호', '검사종류', '검사방법', 'q1', 'q2', 'q3', '차량대수']].head(10)"
   ]
  },
  {
   "cell_type": "code",
   "execution_count": null,
   "metadata": {},
   "outputs": [
    {
     "data": {
      "text/plain": [
       "Index(['차대번호', '법정동코드', '배출가스등급', '배출가스인증번호', '차량말소YN', '제원관리번호', '차량연식', '차종',\n",
       "       '용도', '최초등록일자', '제작일자', '연료', '차종유형', '제작사명', '차명', '자동차형식', '엔진형식',\n",
       "       '검사방법', '검사종류', '검사판정', '무부하매연측정치1', '무부하매연측정치2', '무부하매연측정치3',\n",
       "       '무부하매연판정1', '검사일자', '주행거리', '무부하매연허용치1', '정기정밀', '시도', '시군구',\n",
       "       '법정동코드_수정', 'DPF유무_수정', 'fuel', 'EG', '기준연월', '테이블생성일자', 'vin10',\n",
       "       'vin10_year', 'q1', 'q2', 'q3', '차량대수'],\n",
       "      dtype='object')"
      ]
     },
     "execution_count": 114,
     "metadata": {},
     "output_type": "execute_result"
    }
   ],
   "source": [
    "quantile_df.columns"
   ]
  },
  {
   "cell_type": "code",
   "execution_count": null,
   "metadata": {},
   "outputs": [
    {
     "data": {
      "text/plain": [
       "63"
      ]
     },
     "execution_count": 115,
     "metadata": {},
     "output_type": "execute_result"
    }
   ],
   "source": [
    "len(quantile_df['배출가스인증번호'].unique())"
   ]
  },
  {
   "cell_type": "code",
   "execution_count": null,
   "metadata": {},
   "outputs": [
    {
     "data": {
      "text/plain": [
       "(1391, 42)"
      ]
     },
     "execution_count": 116,
     "metadata": {},
     "output_type": "execute_result"
    }
   ],
   "source": [
    "quantile_df1 = quantile_df.drop_duplicates(['배출가스인증번호', '제원관리번호', '검사방법', '검사종류'])\n",
    "quantile_df1.shape"
   ]
  },
  {
   "cell_type": "code",
   "execution_count": null,
   "metadata": {},
   "outputs": [
    {
     "data": {
      "text/html": [
       "<div>\n",
       "<style scoped>\n",
       "    .dataframe tbody tr th:only-of-type {\n",
       "        vertical-align: middle;\n",
       "    }\n",
       "\n",
       "    .dataframe tbody tr th {\n",
       "        vertical-align: top;\n",
       "    }\n",
       "\n",
       "    .dataframe thead th {\n",
       "        text-align: right;\n",
       "    }\n",
       "</style>\n",
       "<table border=\"1\" class=\"dataframe\">\n",
       "  <thead>\n",
       "    <tr style=\"text-align: right;\">\n",
       "      <th></th>\n",
       "      <th>차대번호</th>\n",
       "      <th>법정동코드</th>\n",
       "      <th>배출가스등급</th>\n",
       "      <th>배출가스인증번호</th>\n",
       "      <th>차량말소YN</th>\n",
       "      <th>제원관리번호</th>\n",
       "      <th>차량연식</th>\n",
       "      <th>차종</th>\n",
       "      <th>용도</th>\n",
       "      <th>최초등록일자</th>\n",
       "      <th>...</th>\n",
       "      <th>fuel</th>\n",
       "      <th>EG</th>\n",
       "      <th>기준연월</th>\n",
       "      <th>테이블생성일자</th>\n",
       "      <th>vin10</th>\n",
       "      <th>vin10_year</th>\n",
       "      <th>q1</th>\n",
       "      <th>q2</th>\n",
       "      <th>q3</th>\n",
       "      <th>차량대수</th>\n",
       "    </tr>\n",
       "  </thead>\n",
       "  <tbody>\n",
       "    <tr>\n",
       "      <th>0</th>\n",
       "      <td>KMFGA17HPAC152609</td>\n",
       "      <td>4719000000</td>\n",
       "      <td>4</td>\n",
       "      <td>7MY-HD-24-28</td>\n",
       "      <td>N</td>\n",
       "      <td>A0810005008503209</td>\n",
       "      <td>2010</td>\n",
       "      <td>화물</td>\n",
       "      <td>개인용</td>\n",
       "      <td>20200128.00</td>\n",
       "      <td>...</td>\n",
       "      <td>경유</td>\n",
       "      <td>A</td>\n",
       "      <td>2022.12</td>\n",
       "      <td>20230823</td>\n",
       "      <td>A</td>\n",
       "      <td>2010.00</td>\n",
       "      <td>5.00</td>\n",
       "      <td>8.00</td>\n",
       "      <td>11.00</td>\n",
       "      <td>332</td>\n",
       "    </tr>\n",
       "    <tr>\n",
       "      <th>332</th>\n",
       "      <td>KMFGA17HPAC141581</td>\n",
       "      <td>4812100000</td>\n",
       "      <td>4</td>\n",
       "      <td>7MY-HD-24-28</td>\n",
       "      <td>N</td>\n",
       "      <td>A0810005008603209</td>\n",
       "      <td>2010</td>\n",
       "      <td>화물</td>\n",
       "      <td>개인용</td>\n",
       "      <td>20171226.00</td>\n",
       "      <td>...</td>\n",
       "      <td>경유</td>\n",
       "      <td>A</td>\n",
       "      <td>2022.12</td>\n",
       "      <td>20230823</td>\n",
       "      <td>A</td>\n",
       "      <td>2010.00</td>\n",
       "      <td>4.00</td>\n",
       "      <td>8.00</td>\n",
       "      <td>11.00</td>\n",
       "      <td>512</td>\n",
       "    </tr>\n",
       "    <tr>\n",
       "      <th>844</th>\n",
       "      <td>KMFGA17HPBC187773</td>\n",
       "      <td>1150000000</td>\n",
       "      <td>4</td>\n",
       "      <td>7MY-HD-24-28</td>\n",
       "      <td>N</td>\n",
       "      <td>A0810005009343210</td>\n",
       "      <td>2011</td>\n",
       "      <td>화물</td>\n",
       "      <td>영업용</td>\n",
       "      <td>20111216.00</td>\n",
       "      <td>...</td>\n",
       "      <td>경유</td>\n",
       "      <td>A</td>\n",
       "      <td>2022.12</td>\n",
       "      <td>20230823</td>\n",
       "      <td>B</td>\n",
       "      <td>2011.00</td>\n",
       "      <td>2.00</td>\n",
       "      <td>6.00</td>\n",
       "      <td>9.00</td>\n",
       "      <td>476</td>\n",
       "    </tr>\n",
       "    <tr>\n",
       "      <th>1320</th>\n",
       "      <td>KMJHD17HPAC008298</td>\n",
       "      <td>4719000000</td>\n",
       "      <td>4</td>\n",
       "      <td>7MY-HD-24-28</td>\n",
       "      <td>N</td>\n",
       "      <td>A0810005603012209</td>\n",
       "      <td>2010</td>\n",
       "      <td>승합</td>\n",
       "      <td>개인용</td>\n",
       "      <td>20101231.00</td>\n",
       "      <td>...</td>\n",
       "      <td>경유</td>\n",
       "      <td>A</td>\n",
       "      <td>2022.12</td>\n",
       "      <td>20230823</td>\n",
       "      <td>A</td>\n",
       "      <td>2010.00</td>\n",
       "      <td>3.00</td>\n",
       "      <td>8.00</td>\n",
       "      <td>11.00</td>\n",
       "      <td>327</td>\n",
       "    </tr>\n",
       "    <tr>\n",
       "      <th>1647</th>\n",
       "      <td>KMFGA17HPAC152695</td>\n",
       "      <td>4141000000</td>\n",
       "      <td>4</td>\n",
       "      <td>7MY-HD-24-28</td>\n",
       "      <td>N</td>\n",
       "      <td>A0810005008583209</td>\n",
       "      <td>2010</td>\n",
       "      <td>화물</td>\n",
       "      <td>영업용</td>\n",
       "      <td>20101130.00</td>\n",
       "      <td>...</td>\n",
       "      <td>경유</td>\n",
       "      <td>A</td>\n",
       "      <td>2022.12</td>\n",
       "      <td>20230823</td>\n",
       "      <td>A</td>\n",
       "      <td>2010.00</td>\n",
       "      <td>3.00</td>\n",
       "      <td>7.00</td>\n",
       "      <td>10.75</td>\n",
       "      <td>650</td>\n",
       "    </tr>\n",
       "  </tbody>\n",
       "</table>\n",
       "<p>5 rows × 42 columns</p>\n",
       "</div>"
      ],
      "text/plain": [
       "                   차대번호       법정동코드 배출가스등급      배출가스인증번호 차량말소YN   \n",
       "0     KMFGA17HPAC152609  4719000000      4  7MY-HD-24-28      N  \\\n",
       "332   KMFGA17HPAC141581  4812100000      4  7MY-HD-24-28      N   \n",
       "844   KMFGA17HPBC187773  1150000000      4  7MY-HD-24-28      N   \n",
       "1320  KMJHD17HPAC008298  4719000000      4  7MY-HD-24-28      N   \n",
       "1647  KMFGA17HPAC152695  4141000000      4  7MY-HD-24-28      N   \n",
       "\n",
       "                 제원관리번호  차량연식  차종   용도      최초등록일자  ...  fuel EG     기준연월   \n",
       "0     A0810005008503209  2010  화물  개인용 20200128.00  ...    경유  A  2022.12  \\\n",
       "332   A0810005008603209  2010  화물  개인용 20171226.00  ...    경유  A  2022.12   \n",
       "844   A0810005009343210  2011  화물  영업용 20111216.00  ...    경유  A  2022.12   \n",
       "1320  A0810005603012209  2010  승합  개인용 20101231.00  ...    경유  A  2022.12   \n",
       "1647  A0810005008583209  2010  화물  영업용 20101130.00  ...    경유  A  2022.12   \n",
       "\n",
       "       테이블생성일자 vin10 vin10_year   q1   q2    q3 차량대수  \n",
       "0     20230823     A    2010.00 5.00 8.00 11.00  332  \n",
       "332   20230823     A    2010.00 4.00 8.00 11.00  512  \n",
       "844   20230823     B    2011.00 2.00 6.00  9.00  476  \n",
       "1320  20230823     A    2010.00 3.00 8.00 11.00  327  \n",
       "1647  20230823     A    2010.00 3.00 7.00 10.75  650  \n",
       "\n",
       "[5 rows x 42 columns]"
      ]
     },
     "execution_count": 117,
     "metadata": {},
     "output_type": "execute_result"
    }
   ],
   "source": [
    "quantile_df1.head()"
   ]
  },
  {
   "cell_type": "code",
   "execution_count": null,
   "metadata": {},
   "outputs": [
    {
     "data": {
      "text/html": [
       "<div>\n",
       "<style scoped>\n",
       "    .dataframe tbody tr th:only-of-type {\n",
       "        vertical-align: middle;\n",
       "    }\n",
       "\n",
       "    .dataframe tbody tr th {\n",
       "        vertical-align: top;\n",
       "    }\n",
       "\n",
       "    .dataframe thead th {\n",
       "        text-align: right;\n",
       "    }\n",
       "</style>\n",
       "<table border=\"1\" class=\"dataframe\">\n",
       "  <thead>\n",
       "    <tr style=\"text-align: right;\">\n",
       "      <th></th>\n",
       "      <th>차대번호</th>\n",
       "      <th>법정동코드</th>\n",
       "      <th>배출가스등급</th>\n",
       "      <th>배출가스인증번호</th>\n",
       "      <th>차량말소YN</th>\n",
       "      <th>제원관리번호</th>\n",
       "      <th>차량연식</th>\n",
       "      <th>차종</th>\n",
       "      <th>용도</th>\n",
       "      <th>최초등록일자</th>\n",
       "      <th>...</th>\n",
       "      <th>fuel</th>\n",
       "      <th>EG</th>\n",
       "      <th>기준연월</th>\n",
       "      <th>테이블생성일자</th>\n",
       "      <th>vin10</th>\n",
       "      <th>vin10_year</th>\n",
       "      <th>q1</th>\n",
       "      <th>q2</th>\n",
       "      <th>q3</th>\n",
       "      <th>차량대수</th>\n",
       "    </tr>\n",
       "  </thead>\n",
       "  <tbody>\n",
       "    <tr>\n",
       "      <th>794313</th>\n",
       "      <td>WVWZZZ3DZ68005835</td>\n",
       "      <td>4812700000</td>\n",
       "      <td>4</td>\n",
       "      <td>5MY-AD-13-06</td>\n",
       "      <td>N</td>\n",
       "      <td>02420004800011305</td>\n",
       "      <td>2006</td>\n",
       "      <td>승용</td>\n",
       "      <td>개인용</td>\n",
       "      <td>20070109.00</td>\n",
       "      <td>...</td>\n",
       "      <td>경유</td>\n",
       "      <td>D</td>\n",
       "      <td>2022.12</td>\n",
       "      <td>20230823</td>\n",
       "      <td>6</td>\n",
       "      <td>2006.00</td>\n",
       "      <td>0.00</td>\n",
       "      <td>0.00</td>\n",
       "      <td>0.00</td>\n",
       "      <td>115</td>\n",
       "    </tr>\n",
       "    <tr>\n",
       "      <th>732562</th>\n",
       "      <td>WVWZZZ3CZ7P166019</td>\n",
       "      <td>4477000000</td>\n",
       "      <td>4</td>\n",
       "      <td>5MY-AD-14-08</td>\n",
       "      <td>N</td>\n",
       "      <td>02420006800031206</td>\n",
       "      <td>2007</td>\n",
       "      <td>승용</td>\n",
       "      <td>개인용</td>\n",
       "      <td>20071024.00</td>\n",
       "      <td>...</td>\n",
       "      <td>경유</td>\n",
       "      <td>D</td>\n",
       "      <td>2022.12</td>\n",
       "      <td>20230823</td>\n",
       "      <td>7</td>\n",
       "      <td>2007.00</td>\n",
       "      <td>0.00</td>\n",
       "      <td>0.00</td>\n",
       "      <td>1.00</td>\n",
       "      <td>179</td>\n",
       "    </tr>\n",
       "    <tr>\n",
       "      <th>732333</th>\n",
       "      <td>WVWZZZ3CZ8P070420</td>\n",
       "      <td>4139000000</td>\n",
       "      <td>4</td>\n",
       "      <td>5MY-AD-14-08</td>\n",
       "      <td>N</td>\n",
       "      <td>02420006800111207</td>\n",
       "      <td>2008</td>\n",
       "      <td>승용</td>\n",
       "      <td>개인용</td>\n",
       "      <td>20080905.00</td>\n",
       "      <td>...</td>\n",
       "      <td>경유</td>\n",
       "      <td>C</td>\n",
       "      <td>2022.12</td>\n",
       "      <td>20230823</td>\n",
       "      <td>8</td>\n",
       "      <td>2008.00</td>\n",
       "      <td>0.00</td>\n",
       "      <td>0.00</td>\n",
       "      <td>0.00</td>\n",
       "      <td>229</td>\n",
       "    </tr>\n",
       "    <tr>\n",
       "      <th>586639</th>\n",
       "      <td>WVWZZZ1KZ8W338454</td>\n",
       "      <td>4513000000</td>\n",
       "      <td>4</td>\n",
       "      <td>5MY-AD-14-18</td>\n",
       "      <td>N</td>\n",
       "      <td>02420004900031207</td>\n",
       "      <td>2008</td>\n",
       "      <td>승용</td>\n",
       "      <td>개인용</td>\n",
       "      <td>20081007.00</td>\n",
       "      <td>...</td>\n",
       "      <td>경유</td>\n",
       "      <td>C</td>\n",
       "      <td>2022.12</td>\n",
       "      <td>20230823</td>\n",
       "      <td>8</td>\n",
       "      <td>2008.00</td>\n",
       "      <td>0.00</td>\n",
       "      <td>0.00</td>\n",
       "      <td>1.00</td>\n",
       "      <td>279</td>\n",
       "    </tr>\n",
       "    <tr>\n",
       "      <th>586067</th>\n",
       "      <td>WVWZZZ1KZ9W146549</td>\n",
       "      <td>2635000000</td>\n",
       "      <td>4</td>\n",
       "      <td>5MY-AD-14-18</td>\n",
       "      <td>N</td>\n",
       "      <td>02420004900041208</td>\n",
       "      <td>2009</td>\n",
       "      <td>승용</td>\n",
       "      <td>개인용</td>\n",
       "      <td>20090526.00</td>\n",
       "      <td>...</td>\n",
       "      <td>경유</td>\n",
       "      <td>C</td>\n",
       "      <td>2022.12</td>\n",
       "      <td>20230823</td>\n",
       "      <td>9</td>\n",
       "      <td>2009.00</td>\n",
       "      <td>0.00</td>\n",
       "      <td>0.00</td>\n",
       "      <td>1.00</td>\n",
       "      <td>450</td>\n",
       "    </tr>\n",
       "    <tr>\n",
       "      <th>...</th>\n",
       "      <td>...</td>\n",
       "      <td>...</td>\n",
       "      <td>...</td>\n",
       "      <td>...</td>\n",
       "      <td>...</td>\n",
       "      <td>...</td>\n",
       "      <td>...</td>\n",
       "      <td>...</td>\n",
       "      <td>...</td>\n",
       "      <td>...</td>\n",
       "      <td>...</td>\n",
       "      <td>...</td>\n",
       "      <td>...</td>\n",
       "      <td>...</td>\n",
       "      <td>...</td>\n",
       "      <td>...</td>\n",
       "      <td>...</td>\n",
       "      <td>...</td>\n",
       "      <td>...</td>\n",
       "      <td>...</td>\n",
       "      <td>...</td>\n",
       "    </tr>\n",
       "    <tr>\n",
       "      <th>394570</th>\n",
       "      <td>KNAMN816BBS464259</td>\n",
       "      <td>4122000000</td>\n",
       "      <td>4</td>\n",
       "      <td>9MY-KM-14-41</td>\n",
       "      <td>N</td>\n",
       "      <td>A0110003800911310</td>\n",
       "      <td>2011</td>\n",
       "      <td>승용</td>\n",
       "      <td>개인용</td>\n",
       "      <td>20111202.00</td>\n",
       "      <td>...</td>\n",
       "      <td>경유</td>\n",
       "      <td>C</td>\n",
       "      <td>2022.12</td>\n",
       "      <td>20230823</td>\n",
       "      <td>B</td>\n",
       "      <td>2011.00</td>\n",
       "      <td>2.00</td>\n",
       "      <td>5.00</td>\n",
       "      <td>8.25</td>\n",
       "      <td>112</td>\n",
       "    </tr>\n",
       "    <tr>\n",
       "      <th>398289</th>\n",
       "      <td>KNAMN816BBS464236</td>\n",
       "      <td>4163000000</td>\n",
       "      <td>4</td>\n",
       "      <td>9MY-KM-14-41</td>\n",
       "      <td>N</td>\n",
       "      <td>A0110003800911310</td>\n",
       "      <td>2011</td>\n",
       "      <td>승용</td>\n",
       "      <td>개인용</td>\n",
       "      <td>20130626.00</td>\n",
       "      <td>...</td>\n",
       "      <td>경유</td>\n",
       "      <td>C</td>\n",
       "      <td>2022.12</td>\n",
       "      <td>20230823</td>\n",
       "      <td>B</td>\n",
       "      <td>2011.00</td>\n",
       "      <td>0.00</td>\n",
       "      <td>4.00</td>\n",
       "      <td>8.00</td>\n",
       "      <td>893</td>\n",
       "    </tr>\n",
       "    <tr>\n",
       "      <th>439402</th>\n",
       "      <td>KNAMN816BBS464253</td>\n",
       "      <td>4817000000</td>\n",
       "      <td>4</td>\n",
       "      <td>9MY-KM-14-41</td>\n",
       "      <td>N</td>\n",
       "      <td>A0110003800911310</td>\n",
       "      <td>2011</td>\n",
       "      <td>승용</td>\n",
       "      <td>개인용</td>\n",
       "      <td>20120220.00</td>\n",
       "      <td>...</td>\n",
       "      <td>경유</td>\n",
       "      <td>C</td>\n",
       "      <td>2022.12</td>\n",
       "      <td>20230823</td>\n",
       "      <td>B</td>\n",
       "      <td>2011.00</td>\n",
       "      <td>2.00</td>\n",
       "      <td>6.00</td>\n",
       "      <td>10.00</td>\n",
       "      <td>155</td>\n",
       "    </tr>\n",
       "    <tr>\n",
       "      <th>789184</th>\n",
       "      <td>YV1DZ7046A2105590</td>\n",
       "      <td>4143000000</td>\n",
       "      <td>4</td>\n",
       "      <td>9MY-PA-13-1</td>\n",
       "      <td>N</td>\n",
       "      <td>00920003200021309</td>\n",
       "      <td>2010</td>\n",
       "      <td>승용</td>\n",
       "      <td>개인용</td>\n",
       "      <td>20100423.00</td>\n",
       "      <td>...</td>\n",
       "      <td>경유</td>\n",
       "      <td>A</td>\n",
       "      <td>2022.12</td>\n",
       "      <td>20230823</td>\n",
       "      <td>A</td>\n",
       "      <td>2010.00</td>\n",
       "      <td>0.00</td>\n",
       "      <td>0.00</td>\n",
       "      <td>0.00</td>\n",
       "      <td>111</td>\n",
       "    </tr>\n",
       "    <tr>\n",
       "      <th>786691</th>\n",
       "      <td>SALFA2BC0AH209292</td>\n",
       "      <td>4817000000</td>\n",
       "      <td>4</td>\n",
       "      <td>AMY-JL-13-9</td>\n",
       "      <td>N</td>\n",
       "      <td>04220000900021309</td>\n",
       "      <td>2010</td>\n",
       "      <td>승용</td>\n",
       "      <td>개인용</td>\n",
       "      <td>20110128.00</td>\n",
       "      <td>...</td>\n",
       "      <td>경유</td>\n",
       "      <td>X</td>\n",
       "      <td>2022.12</td>\n",
       "      <td>20230823</td>\n",
       "      <td>A</td>\n",
       "      <td>2010.00</td>\n",
       "      <td>0.00</td>\n",
       "      <td>0.00</td>\n",
       "      <td>0.00</td>\n",
       "      <td>229</td>\n",
       "    </tr>\n",
       "  </tbody>\n",
       "</table>\n",
       "<p>1391 rows × 42 columns</p>\n",
       "</div>"
      ],
      "text/plain": [
       "                     차대번호       법정동코드 배출가스등급      배출가스인증번호 차량말소YN   \n",
       "794313  WVWZZZ3DZ68005835  4812700000      4  5MY-AD-13-06      N  \\\n",
       "732562  WVWZZZ3CZ7P166019  4477000000      4  5MY-AD-14-08      N   \n",
       "732333  WVWZZZ3CZ8P070420  4139000000      4  5MY-AD-14-08      N   \n",
       "586639  WVWZZZ1KZ8W338454  4513000000      4  5MY-AD-14-18      N   \n",
       "586067  WVWZZZ1KZ9W146549  2635000000      4  5MY-AD-14-18      N   \n",
       "...                   ...         ...    ...           ...    ...   \n",
       "394570  KNAMN816BBS464259  4122000000      4  9MY-KM-14-41      N   \n",
       "398289  KNAMN816BBS464236  4163000000      4  9MY-KM-14-41      N   \n",
       "439402  KNAMN816BBS464253  4817000000      4  9MY-KM-14-41      N   \n",
       "789184  YV1DZ7046A2105590  4143000000      4   9MY-PA-13-1      N   \n",
       "786691  SALFA2BC0AH209292  4817000000      4   AMY-JL-13-9      N   \n",
       "\n",
       "                   제원관리번호  차량연식  차종   용도      최초등록일자  ...  fuel EG     기준연월   \n",
       "794313  02420004800011305  2006  승용  개인용 20070109.00  ...    경유  D  2022.12  \\\n",
       "732562  02420006800031206  2007  승용  개인용 20071024.00  ...    경유  D  2022.12   \n",
       "732333  02420006800111207  2008  승용  개인용 20080905.00  ...    경유  C  2022.12   \n",
       "586639  02420004900031207  2008  승용  개인용 20081007.00  ...    경유  C  2022.12   \n",
       "586067  02420004900041208  2009  승용  개인용 20090526.00  ...    경유  C  2022.12   \n",
       "...                   ...   ...  ..  ...         ...  ...   ... ..      ...   \n",
       "394570  A0110003800911310  2011  승용  개인용 20111202.00  ...    경유  C  2022.12   \n",
       "398289  A0110003800911310  2011  승용  개인용 20130626.00  ...    경유  C  2022.12   \n",
       "439402  A0110003800911310  2011  승용  개인용 20120220.00  ...    경유  C  2022.12   \n",
       "789184  00920003200021309  2010  승용  개인용 20100423.00  ...    경유  A  2022.12   \n",
       "786691  04220000900021309  2010  승용  개인용 20110128.00  ...    경유  X  2022.12   \n",
       "\n",
       "         테이블생성일자 vin10 vin10_year   q1   q2    q3 차량대수  \n",
       "794313  20230823     6    2006.00 0.00 0.00  0.00  115  \n",
       "732562  20230823     7    2007.00 0.00 0.00  1.00  179  \n",
       "732333  20230823     8    2008.00 0.00 0.00  0.00  229  \n",
       "586639  20230823     8    2008.00 0.00 0.00  1.00  279  \n",
       "586067  20230823     9    2009.00 0.00 0.00  1.00  450  \n",
       "...          ...   ...        ...  ...  ...   ...  ...  \n",
       "394570  20230823     B    2011.00 2.00 5.00  8.25  112  \n",
       "398289  20230823     B    2011.00 0.00 4.00  8.00  893  \n",
       "439402  20230823     B    2011.00 2.00 6.00 10.00  155  \n",
       "789184  20230823     A    2010.00 0.00 0.00  0.00  111  \n",
       "786691  20230823     A    2010.00 0.00 0.00  0.00  229  \n",
       "\n",
       "[1391 rows x 42 columns]"
      ]
     },
     "execution_count": 118,
     "metadata": {},
     "output_type": "execute_result"
    }
   ],
   "source": [
    "quantile_df1.sort_values(['배출가스인증번호', '제원관리번호'])"
   ]
  },
  {
   "cell_type": "code",
   "execution_count": null,
   "metadata": {},
   "outputs": [
    {
     "data": {
      "text/html": [
       "<div>\n",
       "<style scoped>\n",
       "    .dataframe tbody tr th:only-of-type {\n",
       "        vertical-align: middle;\n",
       "    }\n",
       "\n",
       "    .dataframe tbody tr th {\n",
       "        vertical-align: top;\n",
       "    }\n",
       "\n",
       "    .dataframe thead th {\n",
       "        text-align: right;\n",
       "    }\n",
       "</style>\n",
       "<table border=\"1\" class=\"dataframe\">\n",
       "  <thead>\n",
       "    <tr style=\"text-align: right;\">\n",
       "      <th></th>\n",
       "      <th></th>\n",
       "      <th>q2</th>\n",
       "    </tr>\n",
       "    <tr>\n",
       "      <th>배출가스인증번호</th>\n",
       "      <th>제원관리번호</th>\n",
       "      <th></th>\n",
       "    </tr>\n",
       "  </thead>\n",
       "  <tbody>\n",
       "    <tr>\n",
       "      <th>5MY-AD-13-06</th>\n",
       "      <th>02420004800011305</th>\n",
       "      <td>0.00</td>\n",
       "    </tr>\n",
       "    <tr>\n",
       "      <th rowspan=\"2\" valign=\"top\">5MY-AD-14-08</th>\n",
       "      <th>02420006800031206</th>\n",
       "      <td>0.00</td>\n",
       "    </tr>\n",
       "    <tr>\n",
       "      <th>02420006800111207</th>\n",
       "      <td>0.00</td>\n",
       "    </tr>\n",
       "    <tr>\n",
       "      <th rowspan=\"2\" valign=\"top\">5MY-AD-14-18</th>\n",
       "      <th>02420004900031207</th>\n",
       "      <td>0.00</td>\n",
       "    </tr>\n",
       "    <tr>\n",
       "      <th>02420004900041208</th>\n",
       "      <td>0.00</td>\n",
       "    </tr>\n",
       "    <tr>\n",
       "      <th>...</th>\n",
       "      <th>...</th>\n",
       "      <td>...</td>\n",
       "    </tr>\n",
       "    <tr>\n",
       "      <th rowspan=\"5\" valign=\"top\">nan</th>\n",
       "      <th>00620000800081209</th>\n",
       "      <td>4.00</td>\n",
       "    </tr>\n",
       "    <tr>\n",
       "      <th>00620000900021210</th>\n",
       "      <td>5.00</td>\n",
       "    </tr>\n",
       "    <tr>\n",
       "      <th>00920002300051307</th>\n",
       "      <td>0.00</td>\n",
       "    </tr>\n",
       "    <tr>\n",
       "      <th>00920002300141308</th>\n",
       "      <td>1.00</td>\n",
       "    </tr>\n",
       "    <tr>\n",
       "      <th>A0110003113613107</th>\n",
       "      <td>6.00</td>\n",
       "    </tr>\n",
       "  </tbody>\n",
       "</table>\n",
       "<p>708 rows × 1 columns</p>\n",
       "</div>"
      ],
      "text/plain": [
       "                                 q2\n",
       "배출가스인증번호     제원관리번호                \n",
       "5MY-AD-13-06 02420004800011305 0.00\n",
       "5MY-AD-14-08 02420006800031206 0.00\n",
       "             02420006800111207 0.00\n",
       "5MY-AD-14-18 02420004900031207 0.00\n",
       "             02420004900041208 0.00\n",
       "...                             ...\n",
       "nan          00620000800081209 4.00\n",
       "             00620000900021210 5.00\n",
       "             00920002300051307 0.00\n",
       "             00920002300141308 1.00\n",
       "             A0110003113613107 6.00\n",
       "\n",
       "[708 rows x 1 columns]"
      ]
     },
     "execution_count": 251,
     "metadata": {},
     "output_type": "execute_result"
    }
   ],
   "source": [
    "quantile_df1.groupby(['배출가스인증번호', '제원관리번호']).agg({'q2':'mean'})"
   ]
  },
  {
   "cell_type": "code",
   "execution_count": null,
   "metadata": {},
   "outputs": [
    {
     "data": {
      "text/plain": [
       "Index(['차대번호', '법정동코드', '배출가스등급', '배출가스인증번호', '차량말소YN', '제원관리번호', '차량연식', '차종',\n",
       "       '용도', '최초등록일자', '제작일자', '연료', '차종유형', '제작사명', '차명', '자동차형식', '엔진형식',\n",
       "       '검사방법', '검사종류', '검사판정', '무부하매연측정치1', '무부하매연측정치2', '무부하매연측정치3',\n",
       "       '무부하매연판정1', '검사일자', '주행거리', '무부하매연허용치1', '정기정밀', '시도', '시군구',\n",
       "       '법정동코드_수정', 'DPF유무_수정', 'fuel', 'EG', '기준연월', '테이블생성일자', 'vin10',\n",
       "       'vin10_year', 'q1', 'q2', 'q3', '차량대수'],\n",
       "      dtype='object')"
      ]
     },
     "execution_count": 108,
     "metadata": {},
     "output_type": "execute_result"
    }
   ],
   "source": [
    "quantile_df1.columns"
   ]
  },
  {
   "cell_type": "code",
   "execution_count": null,
   "metadata": {},
   "outputs": [
    {
     "data": {
      "text/plain": [
       "'20230821'"
      ]
     },
     "execution_count": 109,
     "metadata": {},
     "output_type": "execute_result"
    }
   ],
   "source": [
    "today_date = datetime.today().strftime(\"%Y%m%d\")\n",
    "today_date"
   ]
  },
  {
   "cell_type": "code",
   "execution_count": null,
   "metadata": {},
   "outputs": [
    {
     "name": "stderr",
     "output_type": "stream",
     "text": [
      "C:\\Users\\kbjung\\AppData\\Local\\Temp\\ipykernel_14124\\752261507.py:1: SettingWithCopyWarning: \n",
      "A value is trying to be set on a copy of a slice from a DataFrame.\n",
      "Try using .loc[row_indexer,col_indexer] = value instead\n",
      "\n",
      "See the caveats in the documentation: https://pandas.pydata.org/pandas-docs/stable/user_guide/indexing.html#returning-a-view-versus-a-copy\n",
      "  quantile_df1['테이블생성일자'] = today_date\n"
     ]
    }
   ],
   "source": [
    "quantile_df1['테이블생성일자'] = today_date"
   ]
  },
  {
   "cell_type": "code",
   "execution_count": null,
   "metadata": {},
   "outputs": [
    {
     "data": {
      "text/plain": [
       "(1401, 10)"
      ]
     },
     "execution_count": 111,
     "metadata": {},
     "output_type": "execute_result"
    }
   ],
   "source": [
    "STD_BD_GRD4_CAR_CURSTT_TOT = quantile_df1[[\n",
    "    '테이블생성일자',\n",
    "    '차명',\n",
    "    '제작사명', \n",
    "    '제원관리번호', \n",
    "    '배출가스인증번호', \n",
    "    '검사방법', \n",
    "    'q1', \n",
    "    'q2', \n",
    "    'q3',\n",
    "    '차량대수',\n",
    "    ]]\n",
    "STD_BD_GRD4_CAR_CURSTT_TOT.shape"
   ]
  },
  {
   "cell_type": "code",
   "execution_count": null,
   "metadata": {},
   "outputs": [],
   "source": [
    "chc_dict = {\n",
    "    '테이블생성일자':'LOAD_DT', \n",
    "    '차대번호':'VIN', \n",
    "    '제원관리번호':'MANG_MNG_NO', \n",
    "    '차명':'VHCNM',\n",
    "    '제작사명':'MNFCTR_NM', \n",
    "    '차종':'VHCTY_CD', \n",
    "    '용도':'PURPS_CD2', \n",
    "    '차종유형':'CHCTY_TY', \n",
    "    '법정동코드':'STDG_CD', \n",
    "    '배출가스인증번호':'EXHST_GAS_CERT_NO_MOD', \n",
    "    '검사방법':'INSP_MTHD', \n",
    "    '검사종류':'INSP_KND', \n",
    "    '검사판정':'INSP_JGMT', \n",
    "    '무부하매연측정치1':'NOLOD_SMO_MEVLU1', \n",
    "    '무부하매연판정1':'NOLOD_SMO_JGMT_YN1',\n",
    "    'q1':'LOWR_QRT',\n",
    "    'q2':'MID_QRT',\n",
    "    'q3':'UP_QRT',\n",
    "    '차량대수':'VHCL_MKCNT',\n",
    "    # '등급_수정':'EXHST_GAS_GRD_CD_MOD', \n",
    "    # 'DPF유무_수정':'DPF_MNTNG_YN', \n",
    "    # '시도명':'CTPV_NM', \n",
    "    # '시군구명':'SGG_NM', \n",
    "    # '차종분류':'VHCTY_CL_CD', \n",
    "    }"
   ]
  },
  {
   "cell_type": "code",
   "execution_count": null,
   "metadata": {},
   "outputs": [
    {
     "data": {
      "text/plain": [
       "Index(['LOAD_DT', 'VHCNM', 'MNFCTR_NM', 'MANG_MNG_NO', 'EXHST_GAS_CERT_NO_MOD',\n",
       "       'INSP_MTHD', 'LOWR_QRT', 'MID_QRT', 'UP_QRT', 'VHCL_MKCNT'],\n",
       "      dtype='object')"
      ]
     },
     "execution_count": 113,
     "metadata": {},
     "output_type": "execute_result"
    }
   ],
   "source": [
    "STD_BD_GRD4_CAR_CURSTT_TOT = STD_BD_GRD4_CAR_CURSTT_TOT.rename(columns=chc_dict)\n",
    "STD_BD_GRD4_CAR_CURSTT_TOT.columns"
   ]
  },
  {
   "cell_type": "code",
   "execution_count": null,
   "metadata": {},
   "outputs": [
    {
     "data": {
      "text/plain": [
       "(1401, 10)"
      ]
     },
     "execution_count": 114,
     "metadata": {},
     "output_type": "execute_result"
    }
   ],
   "source": [
    "STD_BD_GRD4_CAR_CURSTT_TOT.shape"
   ]
  },
  {
   "cell_type": "code",
   "execution_count": null,
   "metadata": {},
   "outputs": [
    {
     "data": {
      "text/html": [
       "<div>\n",
       "<style scoped>\n",
       "    .dataframe tbody tr th:only-of-type {\n",
       "        vertical-align: middle;\n",
       "    }\n",
       "\n",
       "    .dataframe tbody tr th {\n",
       "        vertical-align: top;\n",
       "    }\n",
       "\n",
       "    .dataframe thead th {\n",
       "        text-align: right;\n",
       "    }\n",
       "</style>\n",
       "<table border=\"1\" class=\"dataframe\">\n",
       "  <thead>\n",
       "    <tr style=\"text-align: right;\">\n",
       "      <th></th>\n",
       "      <th>LOAD_DT</th>\n",
       "      <th>VHCNM</th>\n",
       "      <th>MNFCTR_NM</th>\n",
       "      <th>MANG_MNG_NO</th>\n",
       "      <th>EXHST_GAS_CERT_NO_MOD</th>\n",
       "      <th>INSP_MTHD</th>\n",
       "      <th>LOWR_QRT</th>\n",
       "      <th>MID_QRT</th>\n",
       "      <th>UP_QRT</th>\n",
       "      <th>VHCL_MKCNT</th>\n",
       "    </tr>\n",
       "  </thead>\n",
       "  <tbody>\n",
       "    <tr>\n",
       "      <th>0</th>\n",
       "      <td>20230821</td>\n",
       "      <td>3008 1.6 HDi MCP</td>\n",
       "      <td>한불모터스(주)</td>\n",
       "      <td>00620000900021210</td>\n",
       "      <td>nan</td>\n",
       "      <td>부하검사(KD-147)</td>\n",
       "      <td>0.00</td>\n",
       "      <td>5.00</td>\n",
       "      <td>10.00</td>\n",
       "      <td>184</td>\n",
       "    </tr>\n",
       "    <tr>\n",
       "      <th>184</th>\n",
       "      <td>20230821</td>\n",
       "      <td>308 1.6 HDi MCP</td>\n",
       "      <td>한불모터스(주)</td>\n",
       "      <td>00620000800081209</td>\n",
       "      <td>nan</td>\n",
       "      <td>부하검사(KD-147)</td>\n",
       "      <td>1.00</td>\n",
       "      <td>4.00</td>\n",
       "      <td>9.50</td>\n",
       "      <td>159</td>\n",
       "    </tr>\n",
       "    <tr>\n",
       "      <th>343</th>\n",
       "      <td>20230821</td>\n",
       "      <td>Nouvelle Peugeot 308SW HDi</td>\n",
       "      <td>한불모터스(주)</td>\n",
       "      <td>00620000800021208</td>\n",
       "      <td>nan</td>\n",
       "      <td>부하검사(KD-147)</td>\n",
       "      <td>3.00</td>\n",
       "      <td>6.00</td>\n",
       "      <td>9.00</td>\n",
       "      <td>109</td>\n",
       "    </tr>\n",
       "    <tr>\n",
       "      <th>452</th>\n",
       "      <td>20230821</td>\n",
       "      <td>푸조 NEW 307SW HDi</td>\n",
       "      <td>한불모터스(주)</td>\n",
       "      <td>00620000400221207</td>\n",
       "      <td>nan</td>\n",
       "      <td>부하검사(KD-147)</td>\n",
       "      <td>2.00</td>\n",
       "      <td>6.00</td>\n",
       "      <td>9.25</td>\n",
       "      <td>112</td>\n",
       "    </tr>\n",
       "    <tr>\n",
       "      <th>564</th>\n",
       "      <td>20230821</td>\n",
       "      <td>푸조 407 HDi FAP A6</td>\n",
       "      <td>한불모터스(주)</td>\n",
       "      <td>00620000500251207</td>\n",
       "      <td>nan</td>\n",
       "      <td>부하검사(KD-147)</td>\n",
       "      <td>1.00</td>\n",
       "      <td>4.00</td>\n",
       "      <td>9.00</td>\n",
       "      <td>160</td>\n",
       "    </tr>\n",
       "  </tbody>\n",
       "</table>\n",
       "</div>"
      ],
      "text/plain": [
       "      LOAD_DT                       VHCNM MNFCTR_NM        MANG_MNG_NO   \n",
       "0    20230821            3008 1.6 HDi MCP  한불모터스(주)  00620000900021210  \\\n",
       "184  20230821             308 1.6 HDi MCP  한불모터스(주)  00620000800081209   \n",
       "343  20230821  Nouvelle Peugeot 308SW HDi  한불모터스(주)  00620000800021208   \n",
       "452  20230821            푸조 NEW 307SW HDi  한불모터스(주)  00620000400221207   \n",
       "564  20230821           푸조 407 HDi FAP A6  한불모터스(주)  00620000500251207   \n",
       "\n",
       "    EXHST_GAS_CERT_NO_MOD     INSP_MTHD  LOWR_QRT  MID_QRT  UP_QRT  VHCL_MKCNT  \n",
       "0                     nan  부하검사(KD-147)      0.00     5.00   10.00         184  \n",
       "184                   nan  부하검사(KD-147)      1.00     4.00    9.50         159  \n",
       "343                   nan  부하검사(KD-147)      3.00     6.00    9.00         109  \n",
       "452                   nan  부하검사(KD-147)      2.00     6.00    9.25         112  \n",
       "564                   nan  부하검사(KD-147)      1.00     4.00    9.00         160  "
      ]
     },
     "execution_count": 115,
     "metadata": {},
     "output_type": "execute_result"
    }
   ],
   "source": [
    "STD_BD_GRD4_CAR_CURSTT_TOT.head()"
   ]
  },
  {
   "cell_type": "code",
   "execution_count": null,
   "metadata": {},
   "outputs": [
    {
     "data": {
      "text/plain": [
       "set()"
      ]
     },
     "execution_count": 116,
     "metadata": {},
     "output_type": "execute_result"
    }
   ],
   "source": [
    "set(STD_BD_GRD4_CAR_CURSTT_TOT['MNFCTR_NM'].unique()) - set(STD_BD_GRD4_CAR_CURSTT['MNFCTR_NM'].unique())"
   ]
  },
  {
   "cell_type": "code",
   "execution_count": null,
   "metadata": {},
   "outputs": [
    {
     "data": {
      "text/plain": [
       "set()"
      ]
     },
     "execution_count": 117,
     "metadata": {},
     "output_type": "execute_result"
    }
   ],
   "source": [
    "set(STD_BD_GRD4_SI['MNFCTR_NM'].unique()) - set(STD_BD_GRD4_CAR_CURSTT['MNFCTR_NM'].unique())"
   ]
  },
  {
   "cell_type": "markdown",
   "metadata": {},
   "source": [
    "### [출력] STD_BD_GRD4_CAR_CURSTT_TOT"
   ]
  },
  {
   "cell_type": "code",
   "execution_count": null,
   "metadata": {},
   "outputs": [],
   "source": [
    "# expdf = STD_BD_GRD4_CAR_CURSTT_TOT\n",
    "# table_nm = 'STD_BD_GRD4_CAR_CURSTT_TOT'.upper()\n",
    "\n",
    "# # 테이블 생성\n",
    "# sql = 'create or replace table ' + table_nm + '( \\n'\n",
    "\n",
    "# for idx,column in enumerate(expdf.columns):\n",
    "#     if 'float' in expdf[column].dtype.name:\n",
    "#         sql += column + ' float'\n",
    "#     elif 'int' in expdf[column].dtype.name:\n",
    "#         sql += column + ' number'\n",
    "#     else:\n",
    "#         sql += column + ' varchar(255)'\n",
    "\n",
    "#     if len(expdf.columns) - 1 != idx:\n",
    "#         sql += ','\n",
    "#     sql += '\\n'\n",
    "# sql += ')'    \n",
    "# we.execute(sql)\n",
    "\n",
    "# # 데이터 추가\n",
    "# # 1s\n",
    "# we.import_from_pandas(expdf, table_nm)"
   ]
  },
  {
   "cell_type": "code",
   "execution_count": null,
   "metadata": {},
   "outputs": [],
   "source": [
    "# # 0s\n",
    "# STD_BD_GRD4_CAR_CURSTT_TOT.to_csv(os.path.join(df1_fold, 'STD_BD_GRD4_CAR_CURSTT_TOT.csv'), index=False)"
   ]
  },
  {
   "cell_type": "markdown",
   "metadata": {},
   "source": [
    "## 인증번호검토"
   ]
  },
  {
   "cell_type": "code",
   "execution_count": null,
   "metadata": {},
   "outputs": [
    {
     "data": {
      "text/plain": [
       "(1391, 10)"
      ]
     },
     "execution_count": 139,
     "metadata": {},
     "output_type": "execute_result"
    }
   ],
   "source": [
    "cert_df1 = quantile_df1[[\n",
    "    '테이블생성일자',\n",
    "    '차명',\n",
    "    '제작사명', \n",
    "    '제원관리번호', \n",
    "    '배출가스인증번호', \n",
    "    '검사방법', \n",
    "    'q1', \n",
    "    'q2', \n",
    "    'q3',\n",
    "    '차량대수',\n",
    "    ]].reset_index(drop=True)\n",
    "cert_df1.shape"
   ]
  },
  {
   "cell_type": "code",
   "execution_count": null,
   "metadata": {},
   "outputs": [
    {
     "data": {
      "text/html": [
       "<div>\n",
       "<style scoped>\n",
       "    .dataframe tbody tr th:only-of-type {\n",
       "        vertical-align: middle;\n",
       "    }\n",
       "\n",
       "    .dataframe tbody tr th {\n",
       "        vertical-align: top;\n",
       "    }\n",
       "\n",
       "    .dataframe thead th {\n",
       "        text-align: right;\n",
       "    }\n",
       "</style>\n",
       "<table border=\"1\" class=\"dataframe\">\n",
       "  <thead>\n",
       "    <tr style=\"text-align: right;\">\n",
       "      <th></th>\n",
       "      <th>테이블생성일자</th>\n",
       "      <th>차명</th>\n",
       "      <th>제작사명</th>\n",
       "      <th>제원관리번호</th>\n",
       "      <th>배출가스인증번호</th>\n",
       "      <th>검사방법</th>\n",
       "      <th>q1</th>\n",
       "      <th>q2</th>\n",
       "      <th>q3</th>\n",
       "      <th>차량대수</th>\n",
       "    </tr>\n",
       "  </thead>\n",
       "  <tbody>\n",
       "    <tr>\n",
       "      <th>0</th>\n",
       "      <td>20230823</td>\n",
       "      <td>이-마이티</td>\n",
       "      <td>현대자동차(주)</td>\n",
       "      <td>A0810005008503209</td>\n",
       "      <td>7MY-HD-24-28</td>\n",
       "      <td>부하검사(LUG DOWN)</td>\n",
       "      <td>5.00</td>\n",
       "      <td>8.00</td>\n",
       "      <td>11.00</td>\n",
       "      <td>332</td>\n",
       "    </tr>\n",
       "    <tr>\n",
       "      <th>1</th>\n",
       "      <td>20230823</td>\n",
       "      <td>이-마이티</td>\n",
       "      <td>현대자동차(주)</td>\n",
       "      <td>A0810005008603209</td>\n",
       "      <td>7MY-HD-24-28</td>\n",
       "      <td>부하검사(LUG DOWN)</td>\n",
       "      <td>4.00</td>\n",
       "      <td>8.00</td>\n",
       "      <td>11.00</td>\n",
       "      <td>512</td>\n",
       "    </tr>\n",
       "    <tr>\n",
       "      <th>2</th>\n",
       "      <td>20230823</td>\n",
       "      <td>이-마이티</td>\n",
       "      <td>현대자동차(주)</td>\n",
       "      <td>A0810005009343210</td>\n",
       "      <td>7MY-HD-24-28</td>\n",
       "      <td>부하검사(LUG DOWN)</td>\n",
       "      <td>2.00</td>\n",
       "      <td>6.00</td>\n",
       "      <td>9.00</td>\n",
       "      <td>476</td>\n",
       "    </tr>\n",
       "    <tr>\n",
       "      <th>3</th>\n",
       "      <td>20230823</td>\n",
       "      <td>이-카운티</td>\n",
       "      <td>현대자동차(주)</td>\n",
       "      <td>A0810005603012209</td>\n",
       "      <td>7MY-HD-24-28</td>\n",
       "      <td>부하검사(LUG DOWN)</td>\n",
       "      <td>3.00</td>\n",
       "      <td>8.00</td>\n",
       "      <td>11.00</td>\n",
       "      <td>327</td>\n",
       "    </tr>\n",
       "    <tr>\n",
       "      <th>4</th>\n",
       "      <td>20230823</td>\n",
       "      <td>이-마이티</td>\n",
       "      <td>현대자동차(주)</td>\n",
       "      <td>A0810005008583209</td>\n",
       "      <td>7MY-HD-24-28</td>\n",
       "      <td>부하검사(LUG DOWN)</td>\n",
       "      <td>3.00</td>\n",
       "      <td>7.00</td>\n",
       "      <td>10.75</td>\n",
       "      <td>650</td>\n",
       "    </tr>\n",
       "  </tbody>\n",
       "</table>\n",
       "</div>"
      ],
      "text/plain": [
       "    테이블생성일자     차명      제작사명             제원관리번호      배출가스인증번호            검사방법   \n",
       "0  20230823  이-마이티  현대자동차(주)  A0810005008503209  7MY-HD-24-28  부하검사(LUG DOWN)  \\\n",
       "1  20230823  이-마이티  현대자동차(주)  A0810005008603209  7MY-HD-24-28  부하검사(LUG DOWN)   \n",
       "2  20230823  이-마이티  현대자동차(주)  A0810005009343210  7MY-HD-24-28  부하검사(LUG DOWN)   \n",
       "3  20230823  이-카운티  현대자동차(주)  A0810005603012209  7MY-HD-24-28  부하검사(LUG DOWN)   \n",
       "4  20230823  이-마이티  현대자동차(주)  A0810005008583209  7MY-HD-24-28  부하검사(LUG DOWN)   \n",
       "\n",
       "    q1   q2    q3  차량대수  \n",
       "0 5.00 8.00 11.00   332  \n",
       "1 4.00 8.00 11.00   512  \n",
       "2 2.00 6.00  9.00   476  \n",
       "3 3.00 8.00 11.00   327  \n",
       "4 3.00 7.00 10.75   650  "
      ]
     },
     "execution_count": 140,
     "metadata": {},
     "output_type": "execute_result"
    }
   ],
   "source": [
    "cert_df1.head()"
   ]
  },
  {
   "cell_type": "code",
   "execution_count": null,
   "metadata": {},
   "outputs": [
    {
     "data": {
      "text/plain": [
       "Index(['제작사명', '배출가스인증번호', '제원관리번호', '자동차형식', '엔진형식', '검사종류', '검사방법', '검사판정',\n",
       "       '대수', 'mean', 'min', 'max', '합격률(%)'],\n",
       "      dtype='object')"
      ]
     },
     "execution_count": 141,
     "metadata": {},
     "output_type": "execute_result"
    }
   ],
   "source": [
    "sample01.columns"
   ]
  },
  {
   "cell_type": "code",
   "execution_count": null,
   "metadata": {},
   "outputs": [
    {
     "data": {
      "text/plain": [
       "(1391, 10)"
      ]
     },
     "execution_count": 142,
     "metadata": {},
     "output_type": "execute_result"
    }
   ],
   "source": [
    "# cert_df2 = cert_df1[cert_df1['배출가스인증번호'] != 'nan'].reset_index(drop=True)\n",
    "cert_df2 = cert_df1[cert_df1['배출가스인증번호'].isnull() == False].reset_index(drop=True)\n",
    "cert_df2.shape"
   ]
  },
  {
   "cell_type": "code",
   "execution_count": null,
   "metadata": {},
   "outputs": [
    {
     "data": {
      "text/html": [
       "<div>\n",
       "<style scoped>\n",
       "    .dataframe tbody tr th:only-of-type {\n",
       "        vertical-align: middle;\n",
       "    }\n",
       "\n",
       "    .dataframe tbody tr th {\n",
       "        vertical-align: top;\n",
       "    }\n",
       "\n",
       "    .dataframe thead th {\n",
       "        text-align: right;\n",
       "    }\n",
       "</style>\n",
       "<table border=\"1\" class=\"dataframe\">\n",
       "  <thead>\n",
       "    <tr style=\"text-align: right;\">\n",
       "      <th></th>\n",
       "      <th>테이블생성일자</th>\n",
       "      <th>차명</th>\n",
       "      <th>제작사명</th>\n",
       "      <th>제원관리번호</th>\n",
       "      <th>배출가스인증번호</th>\n",
       "      <th>검사방법</th>\n",
       "      <th>q1</th>\n",
       "      <th>q2</th>\n",
       "      <th>q3</th>\n",
       "      <th>차량대수</th>\n",
       "      <th>q2_mean</th>\n",
       "    </tr>\n",
       "  </thead>\n",
       "  <tbody>\n",
       "    <tr>\n",
       "      <th>0</th>\n",
       "      <td>20230823</td>\n",
       "      <td>이-마이티</td>\n",
       "      <td>현대자동차(주)</td>\n",
       "      <td>A0810005008503209</td>\n",
       "      <td>7MY-HD-24-28</td>\n",
       "      <td>부하검사(LUG DOWN)</td>\n",
       "      <td>5.00</td>\n",
       "      <td>8.00</td>\n",
       "      <td>11.00</td>\n",
       "      <td>332</td>\n",
       "      <td>6.57</td>\n",
       "    </tr>\n",
       "    <tr>\n",
       "      <th>1</th>\n",
       "      <td>20230823</td>\n",
       "      <td>이-마이티</td>\n",
       "      <td>현대자동차(주)</td>\n",
       "      <td>A0810005008603209</td>\n",
       "      <td>7MY-HD-24-28</td>\n",
       "      <td>부하검사(LUG DOWN)</td>\n",
       "      <td>4.00</td>\n",
       "      <td>8.00</td>\n",
       "      <td>11.00</td>\n",
       "      <td>512</td>\n",
       "      <td>6.57</td>\n",
       "    </tr>\n",
       "    <tr>\n",
       "      <th>2</th>\n",
       "      <td>20230823</td>\n",
       "      <td>이-마이티</td>\n",
       "      <td>현대자동차(주)</td>\n",
       "      <td>A0810005009343210</td>\n",
       "      <td>7MY-HD-24-28</td>\n",
       "      <td>부하검사(LUG DOWN)</td>\n",
       "      <td>2.00</td>\n",
       "      <td>6.00</td>\n",
       "      <td>9.00</td>\n",
       "      <td>476</td>\n",
       "      <td>6.57</td>\n",
       "    </tr>\n",
       "    <tr>\n",
       "      <th>3</th>\n",
       "      <td>20230823</td>\n",
       "      <td>이-카운티</td>\n",
       "      <td>현대자동차(주)</td>\n",
       "      <td>A0810005603012209</td>\n",
       "      <td>7MY-HD-24-28</td>\n",
       "      <td>부하검사(LUG DOWN)</td>\n",
       "      <td>3.00</td>\n",
       "      <td>8.00</td>\n",
       "      <td>11.00</td>\n",
       "      <td>327</td>\n",
       "      <td>6.50</td>\n",
       "    </tr>\n",
       "    <tr>\n",
       "      <th>4</th>\n",
       "      <td>20230823</td>\n",
       "      <td>이-마이티</td>\n",
       "      <td>현대자동차(주)</td>\n",
       "      <td>A0810005008583209</td>\n",
       "      <td>7MY-HD-24-28</td>\n",
       "      <td>부하검사(LUG DOWN)</td>\n",
       "      <td>3.00</td>\n",
       "      <td>7.00</td>\n",
       "      <td>10.75</td>\n",
       "      <td>650</td>\n",
       "      <td>6.57</td>\n",
       "    </tr>\n",
       "    <tr>\n",
       "      <th>...</th>\n",
       "      <td>...</td>\n",
       "      <td>...</td>\n",
       "      <td>...</td>\n",
       "      <td>...</td>\n",
       "      <td>...</td>\n",
       "      <td>...</td>\n",
       "      <td>...</td>\n",
       "      <td>...</td>\n",
       "      <td>...</td>\n",
       "      <td>...</td>\n",
       "      <td>...</td>\n",
       "    </tr>\n",
       "    <tr>\n",
       "      <th>1386</th>\n",
       "      <td>20230823</td>\n",
       "      <td>싼타페(SANTAFE)</td>\n",
       "      <td>현대자동차(주)</td>\n",
       "      <td>A0810006800761307</td>\n",
       "      <td>7MY-HD-23-01</td>\n",
       "      <td>무부하검사(급가속)</td>\n",
       "      <td>0.00</td>\n",
       "      <td>0.00</td>\n",
       "      <td>1.00</td>\n",
       "      <td>105</td>\n",
       "      <td>0.00</td>\n",
       "    </tr>\n",
       "    <tr>\n",
       "      <th>1387</th>\n",
       "      <td>20230823</td>\n",
       "      <td>싼타페(SANTAFE)</td>\n",
       "      <td>현대자동차(주)</td>\n",
       "      <td>A0810006800781307</td>\n",
       "      <td>7MY-HD-23-01</td>\n",
       "      <td>무부하검사(급가속)</td>\n",
       "      <td>0.00</td>\n",
       "      <td>0.00</td>\n",
       "      <td>3.00</td>\n",
       "      <td>223</td>\n",
       "      <td>0.00</td>\n",
       "    </tr>\n",
       "    <tr>\n",
       "      <th>1388</th>\n",
       "      <td>20230823</td>\n",
       "      <td>쎄라토</td>\n",
       "      <td>기아자동차(주)</td>\n",
       "      <td>A0110003001211206</td>\n",
       "      <td>5MY-KM-24-64</td>\n",
       "      <td>부하검사(KD-147)</td>\n",
       "      <td>4.00</td>\n",
       "      <td>7.00</td>\n",
       "      <td>14.00</td>\n",
       "      <td>205</td>\n",
       "      <td>8.00</td>\n",
       "    </tr>\n",
       "    <tr>\n",
       "      <th>1389</th>\n",
       "      <td>20230823</td>\n",
       "      <td>쎄라토</td>\n",
       "      <td>기아자동차(주)</td>\n",
       "      <td>A0110003000981205</td>\n",
       "      <td>5MY-KM-24-64</td>\n",
       "      <td>부하검사(KD-147)</td>\n",
       "      <td>5.00</td>\n",
       "      <td>9.00</td>\n",
       "      <td>14.75</td>\n",
       "      <td>262</td>\n",
       "      <td>8.00</td>\n",
       "    </tr>\n",
       "    <tr>\n",
       "      <th>1390</th>\n",
       "      <td>20230823</td>\n",
       "      <td>Phaeton 3.0 TDI</td>\n",
       "      <td>아우디폭스바겐코리아(주)</td>\n",
       "      <td>02420004800011305</td>\n",
       "      <td>5MY-AD-13-06</td>\n",
       "      <td>무부하검사(급가속)</td>\n",
       "      <td>0.00</td>\n",
       "      <td>0.00</td>\n",
       "      <td>0.00</td>\n",
       "      <td>115</td>\n",
       "      <td>0.00</td>\n",
       "    </tr>\n",
       "  </tbody>\n",
       "</table>\n",
       "<p>1391 rows × 11 columns</p>\n",
       "</div>"
      ],
      "text/plain": [
       "       테이블생성일자               차명           제작사명             제원관리번호   \n",
       "0     20230823            이-마이티       현대자동차(주)  A0810005008503209  \\\n",
       "1     20230823            이-마이티       현대자동차(주)  A0810005008603209   \n",
       "2     20230823            이-마이티       현대자동차(주)  A0810005009343210   \n",
       "3     20230823            이-카운티       현대자동차(주)  A0810005603012209   \n",
       "4     20230823            이-마이티       현대자동차(주)  A0810005008583209   \n",
       "...        ...              ...            ...                ...   \n",
       "1386  20230823     싼타페(SANTAFE)       현대자동차(주)  A0810006800761307   \n",
       "1387  20230823     싼타페(SANTAFE)       현대자동차(주)  A0810006800781307   \n",
       "1388  20230823              쎄라토       기아자동차(주)  A0110003001211206   \n",
       "1389  20230823              쎄라토       기아자동차(주)  A0110003000981205   \n",
       "1390  20230823  Phaeton 3.0 TDI  아우디폭스바겐코리아(주)  02420004800011305   \n",
       "\n",
       "          배출가스인증번호            검사방법   q1   q2    q3  차량대수  q2_mean  \n",
       "0     7MY-HD-24-28  부하검사(LUG DOWN) 5.00 8.00 11.00   332     6.57  \n",
       "1     7MY-HD-24-28  부하검사(LUG DOWN) 4.00 8.00 11.00   512     6.57  \n",
       "2     7MY-HD-24-28  부하검사(LUG DOWN) 2.00 6.00  9.00   476     6.57  \n",
       "3     7MY-HD-24-28  부하검사(LUG DOWN) 3.00 8.00 11.00   327     6.50  \n",
       "4     7MY-HD-24-28  부하검사(LUG DOWN) 3.00 7.00 10.75   650     6.57  \n",
       "...            ...             ...  ...  ...   ...   ...      ...  \n",
       "1386  7MY-HD-23-01      무부하검사(급가속) 0.00 0.00  1.00   105     0.00  \n",
       "1387  7MY-HD-23-01      무부하검사(급가속) 0.00 0.00  3.00   223     0.00  \n",
       "1388  5MY-KM-24-64    부하검사(KD-147) 4.00 7.00 14.00   205     8.00  \n",
       "1389  5MY-KM-24-64    부하검사(KD-147) 5.00 9.00 14.75   262     8.00  \n",
       "1390  5MY-AD-13-06      무부하검사(급가속) 0.00 0.00  0.00   115     0.00  \n",
       "\n",
       "[1391 rows x 11 columns]"
      ]
     },
     "execution_count": 143,
     "metadata": {},
     "output_type": "execute_result"
    }
   ],
   "source": [
    "# cert_df1['q2_mean'] = cert_df1.groupby(['배출가스인증번호', '검사방법'])['q2'].transform('mean')\n",
    "cert_df2['q2_mean'] = cert_df2.groupby(['제작사명', '차명', '배출가스인증번호', '검사방법'])['q2'].transform('mean')\n",
    "cert_df2"
   ]
  },
  {
   "cell_type": "code",
   "execution_count": null,
   "metadata": {},
   "outputs": [],
   "source": [
    "cert_df2.loc[(cert_df2['q2'] > cert_df2['q2_mean']*5) | (cert_df2['q2'] < cert_df2['q2_mean']/5), '검토구분'] = '주의'\n",
    "cert_df2.loc[cert_df2['q3'] == 0, '검토구분'] = '양호'\n",
    "cert_df2['검토구분'] = cert_df2['검토구분'].fillna('양호')"
   ]
  },
  {
   "cell_type": "code",
   "execution_count": null,
   "metadata": {},
   "outputs": [
    {
     "data": {
      "text/plain": [
       "검토구분\n",
       "양호    102\n",
       "Name: count, dtype: int64"
      ]
     },
     "execution_count": 145,
     "metadata": {},
     "output_type": "execute_result"
    }
   ],
   "source": [
    "cert_df2.loc[cert_df2['q3'] == 0, '검토구분'].value_counts()"
   ]
  },
  {
   "cell_type": "code",
   "execution_count": null,
   "metadata": {},
   "outputs": [
    {
     "data": {
      "text/plain": [
       "검토구분\n",
       "양호    1340\n",
       "주의      51\n",
       "Name: count, dtype: int64"
      ]
     },
     "execution_count": 146,
     "metadata": {},
     "output_type": "execute_result"
    }
   ],
   "source": [
    "cert_df2['검토구분'].value_counts()"
   ]
  },
  {
   "cell_type": "code",
   "execution_count": null,
   "metadata": {},
   "outputs": [
    {
     "data": {
      "text/html": [
       "<div>\n",
       "<style scoped>\n",
       "    .dataframe tbody tr th:only-of-type {\n",
       "        vertical-align: middle;\n",
       "    }\n",
       "\n",
       "    .dataframe tbody tr th {\n",
       "        vertical-align: top;\n",
       "    }\n",
       "\n",
       "    .dataframe thead th {\n",
       "        text-align: right;\n",
       "    }\n",
       "</style>\n",
       "<table border=\"1\" class=\"dataframe\">\n",
       "  <thead>\n",
       "    <tr style=\"text-align: right;\">\n",
       "      <th></th>\n",
       "      <th>배출가스인증번호</th>\n",
       "      <th>검사방법</th>\n",
       "      <th>검토구분</th>\n",
       "      <th>제원관리번호</th>\n",
       "      <th>대표제작사명</th>\n",
       "      <th>대표차명</th>\n",
       "    </tr>\n",
       "  </thead>\n",
       "  <tbody>\n",
       "    <tr>\n",
       "      <th>0</th>\n",
       "      <td>5MY-AD-13-06</td>\n",
       "      <td>무부하검사(급가속)</td>\n",
       "      <td>양호</td>\n",
       "      <td>02420004800011305</td>\n",
       "      <td>아우디폭스바겐코리아(주)</td>\n",
       "      <td>Phaeton 3.0 TDI</td>\n",
       "    </tr>\n",
       "    <tr>\n",
       "      <th>1</th>\n",
       "      <td>5MY-AD-14-08</td>\n",
       "      <td>부하검사(KD-147)</td>\n",
       "      <td>양호</td>\n",
       "      <td>02420006800031206</td>\n",
       "      <td>아우디폭스바겐코리아(주)</td>\n",
       "      <td>Passat 2.0 TDI</td>\n",
       "    </tr>\n",
       "    <tr>\n",
       "      <th>2</th>\n",
       "      <td>5MY-AD-14-08</td>\n",
       "      <td>부하검사(KD-147)</td>\n",
       "      <td>양호</td>\n",
       "      <td>02420006800111207</td>\n",
       "      <td>아우디폭스바겐코리아(주)</td>\n",
       "      <td>Passat 2.0 TDI</td>\n",
       "    </tr>\n",
       "    <tr>\n",
       "      <th>3</th>\n",
       "      <td>5MY-AD-14-18</td>\n",
       "      <td>부하검사(KD-147)</td>\n",
       "      <td>양호</td>\n",
       "      <td>02420004900031207</td>\n",
       "      <td>아우디폭스바겐코리아(주)</td>\n",
       "      <td>Golf 2.0 TDI</td>\n",
       "    </tr>\n",
       "    <tr>\n",
       "      <th>4</th>\n",
       "      <td>5MY-AD-14-18</td>\n",
       "      <td>부하검사(KD-147)</td>\n",
       "      <td>양호</td>\n",
       "      <td>02420004900041208</td>\n",
       "      <td>아우디폭스바겐코리아(주)</td>\n",
       "      <td>Golf 2.0 TDI</td>\n",
       "    </tr>\n",
       "    <tr>\n",
       "      <th>...</th>\n",
       "      <td>...</td>\n",
       "      <td>...</td>\n",
       "      <td>...</td>\n",
       "      <td>...</td>\n",
       "      <td>...</td>\n",
       "      <td>...</td>\n",
       "    </tr>\n",
       "    <tr>\n",
       "      <th>985</th>\n",
       "      <td>9MY-KM-14-41</td>\n",
       "      <td>부하검사(KD-147)</td>\n",
       "      <td>양호</td>\n",
       "      <td>A0110003800871309</td>\n",
       "      <td>기아자동차(주)</td>\n",
       "      <td>카니발</td>\n",
       "    </tr>\n",
       "    <tr>\n",
       "      <th>986</th>\n",
       "      <td>9MY-KM-14-41</td>\n",
       "      <td>부하검사(KD-147)</td>\n",
       "      <td>양호</td>\n",
       "      <td>A0110003800901310</td>\n",
       "      <td>기아자동차(주)</td>\n",
       "      <td>카니발</td>\n",
       "    </tr>\n",
       "    <tr>\n",
       "      <th>987</th>\n",
       "      <td>9MY-KM-14-41</td>\n",
       "      <td>부하검사(KD-147)</td>\n",
       "      <td>양호</td>\n",
       "      <td>A0110003800911310</td>\n",
       "      <td>기아자동차(주)</td>\n",
       "      <td>카니발</td>\n",
       "    </tr>\n",
       "    <tr>\n",
       "      <th>988</th>\n",
       "      <td>9MY-PA-13-1</td>\n",
       "      <td>무부하검사(급가속)</td>\n",
       "      <td>양호</td>\n",
       "      <td>00920003200021309</td>\n",
       "      <td>(주)볼보자동차코리아</td>\n",
       "      <td>볼보 XC60D5</td>\n",
       "    </tr>\n",
       "    <tr>\n",
       "      <th>989</th>\n",
       "      <td>AMY-JL-13-9</td>\n",
       "      <td>무부하검사(급가속)</td>\n",
       "      <td>양호</td>\n",
       "      <td>04220000900021309</td>\n",
       "      <td>(주)재규어랜드로버코리아</td>\n",
       "      <td>프리랜더 TD4</td>\n",
       "    </tr>\n",
       "  </tbody>\n",
       "</table>\n",
       "<p>990 rows × 6 columns</p>\n",
       "</div>"
      ],
      "text/plain": [
       "         배출가스인증번호          검사방법 검토구분             제원관리번호         대표제작사명   \n",
       "0    5MY-AD-13-06    무부하검사(급가속)   양호  02420004800011305  아우디폭스바겐코리아(주)  \\\n",
       "1    5MY-AD-14-08  부하검사(KD-147)   양호  02420006800031206  아우디폭스바겐코리아(주)   \n",
       "2    5MY-AD-14-08  부하검사(KD-147)   양호  02420006800111207  아우디폭스바겐코리아(주)   \n",
       "3    5MY-AD-14-18  부하검사(KD-147)   양호  02420004900031207  아우디폭스바겐코리아(주)   \n",
       "4    5MY-AD-14-18  부하검사(KD-147)   양호  02420004900041208  아우디폭스바겐코리아(주)   \n",
       "..            ...           ...  ...                ...            ...   \n",
       "985  9MY-KM-14-41  부하검사(KD-147)   양호  A0110003800871309       기아자동차(주)   \n",
       "986  9MY-KM-14-41  부하검사(KD-147)   양호  A0110003800901310       기아자동차(주)   \n",
       "987  9MY-KM-14-41  부하검사(KD-147)   양호  A0110003800911310       기아자동차(주)   \n",
       "988   9MY-PA-13-1    무부하검사(급가속)   양호  00920003200021309    (주)볼보자동차코리아   \n",
       "989   AMY-JL-13-9    무부하검사(급가속)   양호  04220000900021309  (주)재규어랜드로버코리아   \n",
       "\n",
       "                대표차명  \n",
       "0    Phaeton 3.0 TDI  \n",
       "1     Passat 2.0 TDI  \n",
       "2     Passat 2.0 TDI  \n",
       "3       Golf 2.0 TDI  \n",
       "4       Golf 2.0 TDI  \n",
       "..               ...  \n",
       "985              카니발  \n",
       "986              카니발  \n",
       "987              카니발  \n",
       "988        볼보 XC60D5  \n",
       "989         프리랜더 TD4  \n",
       "\n",
       "[990 rows x 6 columns]"
      ]
     },
     "execution_count": 147,
     "metadata": {},
     "output_type": "execute_result"
    }
   ],
   "source": [
    "grp1 = cert_df2.groupby(['배출가스인증번호', '검사방법', '검토구분', '제원관리번호']).agg({'제작사명':lambda x:x.value_counts().index[0], '차명':lambda x:x.value_counts().index[0]}).reset_index()\n",
    "grp1 = grp1.rename(columns={'제작사명':'대표제작사명', '차명':'대표차명'})\n",
    "grp1"
   ]
  },
  {
   "cell_type": "code",
   "execution_count": null,
   "metadata": {},
   "outputs": [
    {
     "data": {
      "text/plain": [
       "(1391, 14)"
      ]
     },
     "execution_count": 149,
     "metadata": {},
     "output_type": "execute_result"
    }
   ],
   "source": [
    "cg1 = cert_df2.merge(grp1, on=['배출가스인증번호', '검사방법', '검토구분', '제원관리번호'], how='left')\n",
    "cg1.shape"
   ]
  },
  {
   "cell_type": "code",
   "execution_count": null,
   "metadata": {},
   "outputs": [
    {
     "data": {
      "text/html": [
       "<div>\n",
       "<style scoped>\n",
       "    .dataframe tbody tr th:only-of-type {\n",
       "        vertical-align: middle;\n",
       "    }\n",
       "\n",
       "    .dataframe tbody tr th {\n",
       "        vertical-align: top;\n",
       "    }\n",
       "\n",
       "    .dataframe thead th {\n",
       "        text-align: right;\n",
       "    }\n",
       "</style>\n",
       "<table border=\"1\" class=\"dataframe\">\n",
       "  <thead>\n",
       "    <tr style=\"text-align: right;\">\n",
       "      <th></th>\n",
       "      <th>테이블생성일자</th>\n",
       "      <th>차명</th>\n",
       "      <th>제작사명</th>\n",
       "      <th>제원관리번호</th>\n",
       "      <th>배출가스인증번호</th>\n",
       "      <th>검사방법</th>\n",
       "      <th>q1</th>\n",
       "      <th>q2</th>\n",
       "      <th>q3</th>\n",
       "      <th>차량대수</th>\n",
       "      <th>q2_mean</th>\n",
       "      <th>검토구분</th>\n",
       "      <th>대표제작사명</th>\n",
       "      <th>대표차명</th>\n",
       "    </tr>\n",
       "  </thead>\n",
       "  <tbody>\n",
       "    <tr>\n",
       "      <th>0</th>\n",
       "      <td>20230823</td>\n",
       "      <td>이-마이티</td>\n",
       "      <td>현대자동차(주)</td>\n",
       "      <td>A0810005008503209</td>\n",
       "      <td>7MY-HD-24-28</td>\n",
       "      <td>부하검사(LUG DOWN)</td>\n",
       "      <td>5.00</td>\n",
       "      <td>8.00</td>\n",
       "      <td>11.00</td>\n",
       "      <td>332</td>\n",
       "      <td>6.57</td>\n",
       "      <td>양호</td>\n",
       "      <td>현대자동차(주)</td>\n",
       "      <td>이-마이티</td>\n",
       "    </tr>\n",
       "    <tr>\n",
       "      <th>1</th>\n",
       "      <td>20230823</td>\n",
       "      <td>이-마이티</td>\n",
       "      <td>현대자동차(주)</td>\n",
       "      <td>A0810005008603209</td>\n",
       "      <td>7MY-HD-24-28</td>\n",
       "      <td>부하검사(LUG DOWN)</td>\n",
       "      <td>4.00</td>\n",
       "      <td>8.00</td>\n",
       "      <td>11.00</td>\n",
       "      <td>512</td>\n",
       "      <td>6.57</td>\n",
       "      <td>양호</td>\n",
       "      <td>현대자동차(주)</td>\n",
       "      <td>이-마이티</td>\n",
       "    </tr>\n",
       "    <tr>\n",
       "      <th>2</th>\n",
       "      <td>20230823</td>\n",
       "      <td>이-마이티</td>\n",
       "      <td>현대자동차(주)</td>\n",
       "      <td>A0810005009343210</td>\n",
       "      <td>7MY-HD-24-28</td>\n",
       "      <td>부하검사(LUG DOWN)</td>\n",
       "      <td>2.00</td>\n",
       "      <td>6.00</td>\n",
       "      <td>9.00</td>\n",
       "      <td>476</td>\n",
       "      <td>6.57</td>\n",
       "      <td>양호</td>\n",
       "      <td>현대자동차(주)</td>\n",
       "      <td>이-마이티</td>\n",
       "    </tr>\n",
       "    <tr>\n",
       "      <th>3</th>\n",
       "      <td>20230823</td>\n",
       "      <td>이-카운티</td>\n",
       "      <td>현대자동차(주)</td>\n",
       "      <td>A0810005603012209</td>\n",
       "      <td>7MY-HD-24-28</td>\n",
       "      <td>부하검사(LUG DOWN)</td>\n",
       "      <td>3.00</td>\n",
       "      <td>8.00</td>\n",
       "      <td>11.00</td>\n",
       "      <td>327</td>\n",
       "      <td>6.50</td>\n",
       "      <td>양호</td>\n",
       "      <td>현대자동차(주)</td>\n",
       "      <td>이-카운티</td>\n",
       "    </tr>\n",
       "    <tr>\n",
       "      <th>4</th>\n",
       "      <td>20230823</td>\n",
       "      <td>이-마이티</td>\n",
       "      <td>현대자동차(주)</td>\n",
       "      <td>A0810005008583209</td>\n",
       "      <td>7MY-HD-24-28</td>\n",
       "      <td>부하검사(LUG DOWN)</td>\n",
       "      <td>3.00</td>\n",
       "      <td>7.00</td>\n",
       "      <td>10.75</td>\n",
       "      <td>650</td>\n",
       "      <td>6.57</td>\n",
       "      <td>양호</td>\n",
       "      <td>현대자동차(주)</td>\n",
       "      <td>이-마이티</td>\n",
       "    </tr>\n",
       "    <tr>\n",
       "      <th>...</th>\n",
       "      <td>...</td>\n",
       "      <td>...</td>\n",
       "      <td>...</td>\n",
       "      <td>...</td>\n",
       "      <td>...</td>\n",
       "      <td>...</td>\n",
       "      <td>...</td>\n",
       "      <td>...</td>\n",
       "      <td>...</td>\n",
       "      <td>...</td>\n",
       "      <td>...</td>\n",
       "      <td>...</td>\n",
       "      <td>...</td>\n",
       "      <td>...</td>\n",
       "    </tr>\n",
       "    <tr>\n",
       "      <th>1386</th>\n",
       "      <td>20230823</td>\n",
       "      <td>싼타페(SANTAFE)</td>\n",
       "      <td>현대자동차(주)</td>\n",
       "      <td>A0810006800761307</td>\n",
       "      <td>7MY-HD-23-01</td>\n",
       "      <td>무부하검사(급가속)</td>\n",
       "      <td>0.00</td>\n",
       "      <td>0.00</td>\n",
       "      <td>1.00</td>\n",
       "      <td>105</td>\n",
       "      <td>0.00</td>\n",
       "      <td>양호</td>\n",
       "      <td>현대자동차(주)</td>\n",
       "      <td>싼타페(SANTAFE)</td>\n",
       "    </tr>\n",
       "    <tr>\n",
       "      <th>1387</th>\n",
       "      <td>20230823</td>\n",
       "      <td>싼타페(SANTAFE)</td>\n",
       "      <td>현대자동차(주)</td>\n",
       "      <td>A0810006800781307</td>\n",
       "      <td>7MY-HD-23-01</td>\n",
       "      <td>무부하검사(급가속)</td>\n",
       "      <td>0.00</td>\n",
       "      <td>0.00</td>\n",
       "      <td>3.00</td>\n",
       "      <td>223</td>\n",
       "      <td>0.00</td>\n",
       "      <td>양호</td>\n",
       "      <td>현대자동차(주)</td>\n",
       "      <td>싼타페(SANTAFE)</td>\n",
       "    </tr>\n",
       "    <tr>\n",
       "      <th>1388</th>\n",
       "      <td>20230823</td>\n",
       "      <td>쎄라토</td>\n",
       "      <td>기아자동차(주)</td>\n",
       "      <td>A0110003001211206</td>\n",
       "      <td>5MY-KM-24-64</td>\n",
       "      <td>부하검사(KD-147)</td>\n",
       "      <td>4.00</td>\n",
       "      <td>7.00</td>\n",
       "      <td>14.00</td>\n",
       "      <td>205</td>\n",
       "      <td>8.00</td>\n",
       "      <td>양호</td>\n",
       "      <td>기아자동차(주)</td>\n",
       "      <td>쎄라토</td>\n",
       "    </tr>\n",
       "    <tr>\n",
       "      <th>1389</th>\n",
       "      <td>20230823</td>\n",
       "      <td>쎄라토</td>\n",
       "      <td>기아자동차(주)</td>\n",
       "      <td>A0110003000981205</td>\n",
       "      <td>5MY-KM-24-64</td>\n",
       "      <td>부하검사(KD-147)</td>\n",
       "      <td>5.00</td>\n",
       "      <td>9.00</td>\n",
       "      <td>14.75</td>\n",
       "      <td>262</td>\n",
       "      <td>8.00</td>\n",
       "      <td>양호</td>\n",
       "      <td>기아자동차(주)</td>\n",
       "      <td>쎄라토</td>\n",
       "    </tr>\n",
       "    <tr>\n",
       "      <th>1390</th>\n",
       "      <td>20230823</td>\n",
       "      <td>Phaeton 3.0 TDI</td>\n",
       "      <td>아우디폭스바겐코리아(주)</td>\n",
       "      <td>02420004800011305</td>\n",
       "      <td>5MY-AD-13-06</td>\n",
       "      <td>무부하검사(급가속)</td>\n",
       "      <td>0.00</td>\n",
       "      <td>0.00</td>\n",
       "      <td>0.00</td>\n",
       "      <td>115</td>\n",
       "      <td>0.00</td>\n",
       "      <td>양호</td>\n",
       "      <td>아우디폭스바겐코리아(주)</td>\n",
       "      <td>Phaeton 3.0 TDI</td>\n",
       "    </tr>\n",
       "  </tbody>\n",
       "</table>\n",
       "<p>1391 rows × 14 columns</p>\n",
       "</div>"
      ],
      "text/plain": [
       "       테이블생성일자               차명           제작사명             제원관리번호   \n",
       "0     20230823            이-마이티       현대자동차(주)  A0810005008503209  \\\n",
       "1     20230823            이-마이티       현대자동차(주)  A0810005008603209   \n",
       "2     20230823            이-마이티       현대자동차(주)  A0810005009343210   \n",
       "3     20230823            이-카운티       현대자동차(주)  A0810005603012209   \n",
       "4     20230823            이-마이티       현대자동차(주)  A0810005008583209   \n",
       "...        ...              ...            ...                ...   \n",
       "1386  20230823     싼타페(SANTAFE)       현대자동차(주)  A0810006800761307   \n",
       "1387  20230823     싼타페(SANTAFE)       현대자동차(주)  A0810006800781307   \n",
       "1388  20230823              쎄라토       기아자동차(주)  A0110003001211206   \n",
       "1389  20230823              쎄라토       기아자동차(주)  A0110003000981205   \n",
       "1390  20230823  Phaeton 3.0 TDI  아우디폭스바겐코리아(주)  02420004800011305   \n",
       "\n",
       "          배출가스인증번호            검사방법   q1   q2    q3  차량대수  q2_mean 검토구분   \n",
       "0     7MY-HD-24-28  부하검사(LUG DOWN) 5.00 8.00 11.00   332     6.57   양호  \\\n",
       "1     7MY-HD-24-28  부하검사(LUG DOWN) 4.00 8.00 11.00   512     6.57   양호   \n",
       "2     7MY-HD-24-28  부하검사(LUG DOWN) 2.00 6.00  9.00   476     6.57   양호   \n",
       "3     7MY-HD-24-28  부하검사(LUG DOWN) 3.00 8.00 11.00   327     6.50   양호   \n",
       "4     7MY-HD-24-28  부하검사(LUG DOWN) 3.00 7.00 10.75   650     6.57   양호   \n",
       "...            ...             ...  ...  ...   ...   ...      ...  ...   \n",
       "1386  7MY-HD-23-01      무부하검사(급가속) 0.00 0.00  1.00   105     0.00   양호   \n",
       "1387  7MY-HD-23-01      무부하검사(급가속) 0.00 0.00  3.00   223     0.00   양호   \n",
       "1388  5MY-KM-24-64    부하검사(KD-147) 4.00 7.00 14.00   205     8.00   양호   \n",
       "1389  5MY-KM-24-64    부하검사(KD-147) 5.00 9.00 14.75   262     8.00   양호   \n",
       "1390  5MY-AD-13-06      무부하검사(급가속) 0.00 0.00  0.00   115     0.00   양호   \n",
       "\n",
       "             대표제작사명             대표차명  \n",
       "0          현대자동차(주)            이-마이티  \n",
       "1          현대자동차(주)            이-마이티  \n",
       "2          현대자동차(주)            이-마이티  \n",
       "3          현대자동차(주)            이-카운티  \n",
       "4          현대자동차(주)            이-마이티  \n",
       "...             ...              ...  \n",
       "1386       현대자동차(주)     싼타페(SANTAFE)  \n",
       "1387       현대자동차(주)     싼타페(SANTAFE)  \n",
       "1388       기아자동차(주)              쎄라토  \n",
       "1389       기아자동차(주)              쎄라토  \n",
       "1390  아우디폭스바겐코리아(주)  Phaeton 3.0 TDI  \n",
       "\n",
       "[1391 rows x 14 columns]"
      ]
     },
     "execution_count": 150,
     "metadata": {},
     "output_type": "execute_result"
    }
   ],
   "source": [
    "cg1"
   ]
  },
  {
   "cell_type": "code",
   "execution_count": null,
   "metadata": {},
   "outputs": [
    {
     "data": {
      "text/plain": [
       "array(['양호', '주의'], dtype=object)"
      ]
     },
     "execution_count": 151,
     "metadata": {},
     "output_type": "execute_result"
    }
   ],
   "source": [
    "cg1['검토구분'].unique()"
   ]
  },
  {
   "cell_type": "code",
   "execution_count": 152,
   "metadata": {},
   "outputs": [
    {
     "data": {
      "text/plain": [
       "검토구분      0\n",
       "대표제작사명    0\n",
       "대표차명      0\n",
       "dtype: int64"
      ]
     },
     "execution_count": 152,
     "metadata": {},
     "output_type": "execute_result"
    }
   ],
   "source": [
    "cg1[['검토구분', '대표제작사명', '대표차명']].isnull().sum()"
   ]
  },
  {
   "cell_type": "code",
   "execution_count": 153,
   "metadata": {},
   "outputs": [
    {
     "data": {
      "text/plain": [
       "(990, 14)"
      ]
     },
     "execution_count": 153,
     "metadata": {},
     "output_type": "execute_result"
    }
   ],
   "source": [
    "cg2 = cg1.drop_duplicates(['배출가스인증번호', '검사방법', '검토구분', '대표제작사명', '대표차명', '제원관리번호']).reset_index(drop=True)\n",
    "cg2.shape"
   ]
  },
  {
   "cell_type": "code",
   "execution_count": 154,
   "metadata": {},
   "outputs": [
    {
     "data": {
      "text/plain": [
       "검토구분\n",
       "양호    942\n",
       "주의     48\n",
       "Name: count, dtype: int64"
      ]
     },
     "execution_count": 154,
     "metadata": {},
     "output_type": "execute_result"
    }
   ],
   "source": [
    "cg2['검토구분'].value_counts(dropna=False)"
   ]
  },
  {
   "cell_type": "code",
   "execution_count": 155,
   "metadata": {},
   "outputs": [
    {
     "data": {
      "text/plain": [
       "['테이블생성일자',\n",
       " '차명',\n",
       " '제작사명',\n",
       " '제원관리번호',\n",
       " '배출가스인증번호',\n",
       " '검사방법',\n",
       " 'q1',\n",
       " 'q2',\n",
       " 'q3',\n",
       " '차량대수',\n",
       " 'q2_mean',\n",
       " '검토구분',\n",
       " '대표제작사명',\n",
       " '대표차명']"
      ]
     },
     "execution_count": 155,
     "metadata": {},
     "output_type": "execute_result"
    }
   ],
   "source": [
    "list(cg2.columns)"
   ]
  },
  {
   "cell_type": "code",
   "execution_count": null,
   "metadata": {},
   "outputs": [],
   "source": []
  },
  {
   "cell_type": "code",
   "execution_count": 163,
   "metadata": {},
   "outputs": [],
   "source": [
    "STD_BD_DAT_GRD4_CERT_NO_RVW = cg2[[\n",
    "    '배출가스인증번호',\n",
    "    '검사방법',\n",
    "    '검토구분',\n",
    "    '대표제작사명',\n",
    "    '대표차명',\n",
    "    '제원관리번호',\n",
    "    'q1',\n",
    "    'q2',\n",
    "    'q3',\n",
    "    '테이블생성일자',\n",
    "]]"
   ]
  },
  {
   "cell_type": "code",
   "execution_count": 164,
   "metadata": {},
   "outputs": [
    {
     "data": {
      "text/plain": [
       "Index(['EXHST_GAS_CERT_NO', 'INSP_MTHD', 'RVW_SE', 'RPRS_MNFCTR_NM',\n",
       "       'RPRS_VHCNM', 'MANG_MNG_NO', 'LOWR_QRT', 'MID_QRT', 'UP_QRT',\n",
       "       'LOAD_DT'],\n",
       "      dtype='object')"
      ]
     },
     "execution_count": 164,
     "metadata": {},
     "output_type": "execute_result"
    }
   ],
   "source": [
    "cdict = {\n",
    "    '배출가스인증번호':'EXHST_GAS_CERT_NO',\n",
    "    '검사방법':'INSP_MTHD',\n",
    "    '검토구분':'RVW_SE',\n",
    "    '대표제작사명':'RPRS_MNFCTR_NM',\n",
    "    '대표차명':'RPRS_VHCNM', \n",
    "    '제원관리번호':'MANG_MNG_NO',\n",
    "    'q1':'LOWR_QRT',\n",
    "    'q2':'MID_QRT',\n",
    "    'q3':'UP_QRT',\n",
    "    '테이블생성일자':'LOAD_DT',\n",
    "}\n",
    "STD_BD_DAT_GRD4_CERT_NO_RVW = STD_BD_DAT_GRD4_CERT_NO_RVW.rename(columns=cdict)\n",
    "STD_BD_DAT_GRD4_CERT_NO_RVW.columns"
   ]
  },
  {
   "cell_type": "markdown",
   "metadata": {},
   "source": [
    "### [출력] STD_BD_DAT_GRD4_CERT_NO_RVW"
   ]
  },
  {
   "cell_type": "code",
   "execution_count": 165,
   "metadata": {},
   "outputs": [],
   "source": [
    "# expdf = STD_BD_DAT_GRD4_CERT_NO_RVW\n",
    "# table_nm = 'STD_BD_DAT_GRD4_CERT_NO_RVW'.upper()\n",
    "\n",
    "# # 테이블 생성\n",
    "# sql = 'create or replace table ' + table_nm + '( \\n'\n",
    "\n",
    "# for idx,column in enumerate(expdf.columns):\n",
    "#     if 'float' in expdf[column].dtype.name:\n",
    "#         sql += column + ' float'\n",
    "#     elif 'int' in expdf[column].dtype.name:\n",
    "#         sql += column + ' number'\n",
    "#     else:\n",
    "#         sql += column + ' varchar(255)'\n",
    "\n",
    "#     if len(expdf.columns) - 1 != idx:\n",
    "#         sql += ','\n",
    "#     sql += '\\n'\n",
    "# sql += ')'    \n",
    "# we.execute(sql)\n",
    "\n",
    "# # 데이터 추가\n",
    "# # 1s\n",
    "# we.import_from_pandas(expdf, table_nm)"
   ]
  },
  {
   "cell_type": "code",
   "execution_count": 166,
   "metadata": {},
   "outputs": [],
   "source": [
    "# # 0s\n",
    "# STD_BD_DAT_GRD4_CERT_NO_RVW.to_csv(os.path.join(df1_fold, 'STD_BD_DAT_GRD4_CERT_NO_RVW.csv'), index=False)"
   ]
  },
  {
   "cell_type": "markdown",
   "metadata": {},
   "source": [
    "## 열화도 테이블"
   ]
  },
  {
   "cell_type": "code",
   "execution_count": 167,
   "metadata": {},
   "outputs": [
    {
     "data": {
      "text/plain": [
       "Index(['차대번호', '제원관리번호', '차종', '차량연식', '차명', '차종유형', '제작사명', '연료', '법정동코드',\n",
       "       '배출가스인증번호', '검사방법', '검사종류', '검사판정', '주행거리', '무부하매연판정1', '무부하매연허용치1',\n",
       "       '무부하매연측정치1', '차령', 'SI', '테이블생성일자'],\n",
       "      dtype='object')"
      ]
     },
     "execution_count": 167,
     "metadata": {},
     "output_type": "execute_result"
    }
   ],
   "source": [
    "sidf.columns"
   ]
  },
  {
   "cell_type": "code",
   "execution_count": 168,
   "metadata": {},
   "outputs": [
    {
     "data": {
      "text/plain": [
       "1052704    1996\n",
       "Name: 차량연식, dtype: int64"
      ]
     },
     "execution_count": 168,
     "metadata": {},
     "output_type": "execute_result"
    }
   ],
   "source": [
    "sidf['차량연식'].nsmallest(1)"
   ]
  },
  {
   "cell_type": "code",
   "execution_count": 169,
   "metadata": {},
   "outputs": [
    {
     "data": {
      "text/html": [
       "<div>\n",
       "<style scoped>\n",
       "    .dataframe tbody tr th:only-of-type {\n",
       "        vertical-align: middle;\n",
       "    }\n",
       "\n",
       "    .dataframe tbody tr th {\n",
       "        vertical-align: top;\n",
       "    }\n",
       "\n",
       "    .dataframe thead th {\n",
       "        text-align: right;\n",
       "    }\n",
       "</style>\n",
       "<table border=\"1\" class=\"dataframe\">\n",
       "  <thead>\n",
       "    <tr style=\"text-align: right;\">\n",
       "      <th></th>\n",
       "      <th>배출가스인증번호</th>\n",
       "      <th>검사방법</th>\n",
       "      <th>차량연식</th>\n",
       "    </tr>\n",
       "  </thead>\n",
       "  <tbody>\n",
       "    <tr>\n",
       "      <th>0</th>\n",
       "      <td>4MY-AD-20</td>\n",
       "      <td>무부하검사(급가속)</td>\n",
       "      <td>2006</td>\n",
       "    </tr>\n",
       "    <tr>\n",
       "      <th>1</th>\n",
       "      <td>4MY-DC-33</td>\n",
       "      <td>무부하검사(급가속)</td>\n",
       "      <td>2007</td>\n",
       "    </tr>\n",
       "    <tr>\n",
       "      <th>2</th>\n",
       "      <td>4MY-DC-33</td>\n",
       "      <td>부하검사(LUG DOWN)</td>\n",
       "      <td>2007</td>\n",
       "    </tr>\n",
       "    <tr>\n",
       "      <th>3</th>\n",
       "      <td>4MY-KM-06</td>\n",
       "      <td>무부하검사(급가속)</td>\n",
       "      <td>2008</td>\n",
       "    </tr>\n",
       "    <tr>\n",
       "      <th>4</th>\n",
       "      <td>4MY-KM-06</td>\n",
       "      <td>부하검사(KD-147)</td>\n",
       "      <td>2008</td>\n",
       "    </tr>\n",
       "    <tr>\n",
       "      <th>...</th>\n",
       "      <td>...</td>\n",
       "      <td>...</td>\n",
       "      <td>...</td>\n",
       "    </tr>\n",
       "    <tr>\n",
       "      <th>379</th>\n",
       "      <td>C135</td>\n",
       "      <td>부하검사(KD-147)</td>\n",
       "      <td>2008</td>\n",
       "    </tr>\n",
       "    <tr>\n",
       "      <th>380</th>\n",
       "      <td>nan</td>\n",
       "      <td>무부하검사(TSI)</td>\n",
       "      <td>1996</td>\n",
       "    </tr>\n",
       "    <tr>\n",
       "      <th>381</th>\n",
       "      <td>nan</td>\n",
       "      <td>무부하검사(급가속)</td>\n",
       "      <td>2002</td>\n",
       "    </tr>\n",
       "    <tr>\n",
       "      <th>382</th>\n",
       "      <td>nan</td>\n",
       "      <td>부하검사(KD-147)</td>\n",
       "      <td>2005</td>\n",
       "    </tr>\n",
       "    <tr>\n",
       "      <th>383</th>\n",
       "      <td>nan</td>\n",
       "      <td>부하검사(LUG DOWN)</td>\n",
       "      <td>2006</td>\n",
       "    </tr>\n",
       "  </tbody>\n",
       "</table>\n",
       "<p>384 rows × 3 columns</p>\n",
       "</div>"
      ],
      "text/plain": [
       "      배출가스인증번호            검사방법  차량연식\n",
       "0    4MY-AD-20      무부하검사(급가속)  2006\n",
       "1    4MY-DC-33      무부하검사(급가속)  2007\n",
       "2    4MY-DC-33  부하검사(LUG DOWN)  2007\n",
       "3    4MY-KM-06      무부하검사(급가속)  2008\n",
       "4    4MY-KM-06    부하검사(KD-147)  2008\n",
       "..         ...             ...   ...\n",
       "379       C135    부하검사(KD-147)  2008\n",
       "380        nan      무부하검사(TSI)  1996\n",
       "381        nan      무부하검사(급가속)  2002\n",
       "382        nan    부하검사(KD-147)  2005\n",
       "383        nan  부하검사(LUG DOWN)  2006\n",
       "\n",
       "[384 rows x 3 columns]"
      ]
     },
     "execution_count": 169,
     "metadata": {},
     "output_type": "execute_result"
    }
   ],
   "source": [
    "sidf.groupby(['배출가스인증번호', '검사방법']).agg({'차량연식':lambda x : x.nsmallest(1)}).reset_index()"
   ]
  },
  {
   "cell_type": "code",
   "execution_count": 238,
   "metadata": {},
   "outputs": [
    {
     "data": {
      "text/html": [
       "<div>\n",
       "<style scoped>\n",
       "    .dataframe tbody tr th:only-of-type {\n",
       "        vertical-align: middle;\n",
       "    }\n",
       "\n",
       "    .dataframe tbody tr th {\n",
       "        vertical-align: top;\n",
       "    }\n",
       "\n",
       "    .dataframe thead th {\n",
       "        text-align: right;\n",
       "    }\n",
       "</style>\n",
       "<table border=\"1\" class=\"dataframe\">\n",
       "  <thead>\n",
       "    <tr style=\"text-align: right;\">\n",
       "      <th></th>\n",
       "      <th>배출가스인증번호</th>\n",
       "      <th>대표제작사명</th>\n",
       "      <th>대표차명</th>\n",
       "      <th>대표차종</th>\n",
       "      <th>대표차연료</th>\n",
       "      <th>최초연식</th>\n",
       "      <th>열화도</th>\n",
       "    </tr>\n",
       "  </thead>\n",
       "  <tbody>\n",
       "    <tr>\n",
       "      <th>0</th>\n",
       "      <td>4MY-AD-20</td>\n",
       "      <td>아우디폭스바겐코리아(주)</td>\n",
       "      <td>아우디 A6 3.0 TDI Quattro</td>\n",
       "      <td>승용</td>\n",
       "      <td>경유</td>\n",
       "      <td>2006</td>\n",
       "      <td>0.37</td>\n",
       "    </tr>\n",
       "    <tr>\n",
       "      <th>1</th>\n",
       "      <td>4MY-DC-33</td>\n",
       "      <td>타타대우상용차(주)</td>\n",
       "      <td>대우11.5톤장축카고트럭(DPF)</td>\n",
       "      <td>화물</td>\n",
       "      <td>경유</td>\n",
       "      <td>2007</td>\n",
       "      <td>0.34</td>\n",
       "    </tr>\n",
       "    <tr>\n",
       "      <th>2</th>\n",
       "      <td>4MY-KM-06</td>\n",
       "      <td>기아자동차(주)</td>\n",
       "      <td>봉고Ⅲ 일반덤프</td>\n",
       "      <td>화물</td>\n",
       "      <td>경유</td>\n",
       "      <td>2008</td>\n",
       "      <td>0.36</td>\n",
       "    </tr>\n",
       "    <tr>\n",
       "      <th>3</th>\n",
       "      <td>4MY-PA-06</td>\n",
       "      <td>(주)볼보자동차코리아</td>\n",
       "      <td>프리랜더 2.0D</td>\n",
       "      <td>승용</td>\n",
       "      <td>경유</td>\n",
       "      <td>2005</td>\n",
       "      <td>0.38</td>\n",
       "    </tr>\n",
       "    <tr>\n",
       "      <th>4</th>\n",
       "      <td>5MY-AD-13-06</td>\n",
       "      <td>아우디폭스바겐코리아(주)</td>\n",
       "      <td>Phaeton 3.0 TDI</td>\n",
       "      <td>승용</td>\n",
       "      <td>경유</td>\n",
       "      <td>2005</td>\n",
       "      <td>0.03</td>\n",
       "    </tr>\n",
       "    <tr>\n",
       "      <th>...</th>\n",
       "      <td>...</td>\n",
       "      <td>...</td>\n",
       "      <td>...</td>\n",
       "      <td>...</td>\n",
       "      <td>...</td>\n",
       "      <td>...</td>\n",
       "      <td>...</td>\n",
       "    </tr>\n",
       "    <tr>\n",
       "      <th>196</th>\n",
       "      <td>9MY-PP-14-333</td>\n",
       "      <td>(주)비오에프인베스트먼트</td>\n",
       "      <td>랜드로버 디펜더</td>\n",
       "      <td>승용</td>\n",
       "      <td>경유</td>\n",
       "      <td>2009</td>\n",
       "      <td>0.12</td>\n",
       "    </tr>\n",
       "    <tr>\n",
       "      <th>197</th>\n",
       "      <td>9MY-PP-14-409</td>\n",
       "      <td>로버코리아(주)</td>\n",
       "      <td>랜드로버 디펜더110</td>\n",
       "      <td>승용</td>\n",
       "      <td>경유</td>\n",
       "      <td>2009</td>\n",
       "      <td>0.25</td>\n",
       "    </tr>\n",
       "    <tr>\n",
       "      <th>198</th>\n",
       "      <td>AMY-JL-13-9</td>\n",
       "      <td>(주)재규어랜드로버코리아</td>\n",
       "      <td>프리랜더 TD4</td>\n",
       "      <td>승용</td>\n",
       "      <td>경유</td>\n",
       "      <td>2009</td>\n",
       "      <td>0.01</td>\n",
       "    </tr>\n",
       "    <tr>\n",
       "      <th>199</th>\n",
       "      <td>C135</td>\n",
       "      <td>쌍용자동차(주)</td>\n",
       "      <td>액티언</td>\n",
       "      <td>승용</td>\n",
       "      <td>경유</td>\n",
       "      <td>2008</td>\n",
       "      <td>1.05</td>\n",
       "    </tr>\n",
       "    <tr>\n",
       "      <th>200</th>\n",
       "      <td>nan</td>\n",
       "      <td>한불모터스(주)</td>\n",
       "      <td>볼보 S80D5</td>\n",
       "      <td>승용</td>\n",
       "      <td>경유</td>\n",
       "      <td>1996</td>\n",
       "      <td>0.24</td>\n",
       "    </tr>\n",
       "  </tbody>\n",
       "</table>\n",
       "<p>201 rows × 7 columns</p>\n",
       "</div>"
      ],
      "text/plain": [
       "          배출가스인증번호         대표제작사명                    대표차명 대표차종 대표차연료  최초연식   \n",
       "0        4MY-AD-20  아우디폭스바겐코리아(주)  아우디 A6 3.0 TDI Quattro   승용    경유  2006  \\\n",
       "1        4MY-DC-33     타타대우상용차(주)      대우11.5톤장축카고트럭(DPF)   화물    경유  2007   \n",
       "2        4MY-KM-06       기아자동차(주)                봉고Ⅲ 일반덤프   화물    경유  2008   \n",
       "3        4MY-PA-06    (주)볼보자동차코리아               프리랜더 2.0D   승용    경유  2005   \n",
       "4     5MY-AD-13-06  아우디폭스바겐코리아(주)         Phaeton 3.0 TDI   승용    경유  2005   \n",
       "..             ...            ...                     ...  ...   ...   ...   \n",
       "196  9MY-PP-14-333  (주)비오에프인베스트먼트                랜드로버 디펜더   승용    경유  2009   \n",
       "197  9MY-PP-14-409       로버코리아(주)             랜드로버 디펜더110   승용    경유  2009   \n",
       "198    AMY-JL-13-9  (주)재규어랜드로버코리아                프리랜더 TD4   승용    경유  2009   \n",
       "199           C135       쌍용자동차(주)                     액티언   승용    경유  2008   \n",
       "200            nan       한불모터스(주)                볼보 S80D5   승용    경유  1996   \n",
       "\n",
       "     열화도  \n",
       "0   0.37  \n",
       "1   0.34  \n",
       "2   0.36  \n",
       "3   0.38  \n",
       "4   0.03  \n",
       "..   ...  \n",
       "196 0.12  \n",
       "197 0.25  \n",
       "198 0.01  \n",
       "199 1.05  \n",
       "200 0.24  \n",
       "\n",
       "[201 rows x 7 columns]"
      ]
     },
     "execution_count": 238,
     "metadata": {},
     "output_type": "execute_result"
    }
   ],
   "source": [
    "# grp2 = sidf.groupby(['배출가스인증번호', '검사방법']).agg({'제작사명':lambda x:x.value_counts().index[0], '차명':lambda x:x.value_counts().index[0], '차종':lambda x:x.value_counts().index[0], '연료':lambda x:x.value_counts().index[0], '차량연식':lambda x : x.nsmallest(1), 'SI':'mean'}).reset_index()\n",
    "grp2 = sidf.groupby(['배출가스인증번호']).agg({'제작사명':lambda x:x.value_counts().index[0], '차명':lambda x:x.value_counts().index[0], '차종':lambda x:x.value_counts().index[0], '연료':lambda x:x.value_counts().index[0], '차량연식':lambda x : x.nsmallest(1), 'SI':'mean'}).reset_index()\n",
    "grp2 = grp2.rename(columns={'제작사명':'대표제작사명', '차명':'대표차명', '차종':'대표차종', '연료':'대표차연료', '차량연식':'최초연식', 'SI':'열화도'})\n",
    "grp2"
   ]
  },
  {
   "cell_type": "code",
   "execution_count": 239,
   "metadata": {},
   "outputs": [
    {
     "data": {
      "text/plain": [
       "Index(['테이블생성일자', '차명', '제작사명', '제원관리번호', '배출가스인증번호', '검사방법', 'q1', 'q2', 'q3',\n",
       "       '차량대수', 'q2_mean', '검토구분', '대표제작사명', '대표차명'],\n",
       "      dtype='object')"
      ]
     },
     "execution_count": 239,
     "metadata": {},
     "output_type": "execute_result"
    }
   ],
   "source": [
    "cg1.columns"
   ]
  },
  {
   "cell_type": "code",
   "execution_count": null,
   "metadata": {},
   "outputs": [],
   "source": []
  },
  {
   "cell_type": "code",
   "execution_count": 156,
   "metadata": {},
   "outputs": [
    {
     "data": {
      "text/plain": [
       "(1391, 9)"
      ]
     },
     "execution_count": 156,
     "metadata": {},
     "output_type": "execute_result"
    }
   ],
   "source": [
    "cert_df1 = quantile_df1[[\n",
    "    '차명',\n",
    "    '제작사명', \n",
    "    '제원관리번호', \n",
    "    '배출가스인증번호', \n",
    "    '검사방법', \n",
    "    'q1', \n",
    "    'q2', \n",
    "    'q3',\n",
    "    '차량대수',\n",
    "    ]]\n",
    "cert_df1.shape"
   ]
  },
  {
   "cell_type": "code",
   "execution_count": 157,
   "metadata": {},
   "outputs": [
    {
     "data": {
      "text/html": [
       "<div>\n",
       "<style scoped>\n",
       "    .dataframe tbody tr th:only-of-type {\n",
       "        vertical-align: middle;\n",
       "    }\n",
       "\n",
       "    .dataframe tbody tr th {\n",
       "        vertical-align: top;\n",
       "    }\n",
       "\n",
       "    .dataframe thead th {\n",
       "        text-align: right;\n",
       "    }\n",
       "</style>\n",
       "<table border=\"1\" class=\"dataframe\">\n",
       "  <thead>\n",
       "    <tr style=\"text-align: right;\">\n",
       "      <th></th>\n",
       "      <th>차명</th>\n",
       "      <th>제작사명</th>\n",
       "      <th>제원관리번호</th>\n",
       "      <th>배출가스인증번호</th>\n",
       "      <th>검사방법</th>\n",
       "      <th>q1</th>\n",
       "      <th>q2</th>\n",
       "      <th>q3</th>\n",
       "      <th>차량대수</th>\n",
       "    </tr>\n",
       "  </thead>\n",
       "  <tbody>\n",
       "    <tr>\n",
       "      <th>0</th>\n",
       "      <td>이-마이티</td>\n",
       "      <td>현대자동차(주)</td>\n",
       "      <td>A0810005008503209</td>\n",
       "      <td>7MY-HD-24-28</td>\n",
       "      <td>부하검사(LUG DOWN)</td>\n",
       "      <td>5.00</td>\n",
       "      <td>8.00</td>\n",
       "      <td>11.00</td>\n",
       "      <td>332</td>\n",
       "    </tr>\n",
       "    <tr>\n",
       "      <th>332</th>\n",
       "      <td>이-마이티</td>\n",
       "      <td>현대자동차(주)</td>\n",
       "      <td>A0810005008603209</td>\n",
       "      <td>7MY-HD-24-28</td>\n",
       "      <td>부하검사(LUG DOWN)</td>\n",
       "      <td>4.00</td>\n",
       "      <td>8.00</td>\n",
       "      <td>11.00</td>\n",
       "      <td>512</td>\n",
       "    </tr>\n",
       "    <tr>\n",
       "      <th>844</th>\n",
       "      <td>이-마이티</td>\n",
       "      <td>현대자동차(주)</td>\n",
       "      <td>A0810005009343210</td>\n",
       "      <td>7MY-HD-24-28</td>\n",
       "      <td>부하검사(LUG DOWN)</td>\n",
       "      <td>2.00</td>\n",
       "      <td>6.00</td>\n",
       "      <td>9.00</td>\n",
       "      <td>476</td>\n",
       "    </tr>\n",
       "    <tr>\n",
       "      <th>1320</th>\n",
       "      <td>이-카운티</td>\n",
       "      <td>현대자동차(주)</td>\n",
       "      <td>A0810005603012209</td>\n",
       "      <td>7MY-HD-24-28</td>\n",
       "      <td>부하검사(LUG DOWN)</td>\n",
       "      <td>3.00</td>\n",
       "      <td>8.00</td>\n",
       "      <td>11.00</td>\n",
       "      <td>327</td>\n",
       "    </tr>\n",
       "    <tr>\n",
       "      <th>1647</th>\n",
       "      <td>이-마이티</td>\n",
       "      <td>현대자동차(주)</td>\n",
       "      <td>A0810005008583209</td>\n",
       "      <td>7MY-HD-24-28</td>\n",
       "      <td>부하검사(LUG DOWN)</td>\n",
       "      <td>3.00</td>\n",
       "      <td>7.00</td>\n",
       "      <td>10.75</td>\n",
       "      <td>650</td>\n",
       "    </tr>\n",
       "  </tbody>\n",
       "</table>\n",
       "</div>"
      ],
      "text/plain": [
       "         차명      제작사명             제원관리번호      배출가스인증번호            검사방법   q1   \n",
       "0     이-마이티  현대자동차(주)  A0810005008503209  7MY-HD-24-28  부하검사(LUG DOWN) 5.00  \\\n",
       "332   이-마이티  현대자동차(주)  A0810005008603209  7MY-HD-24-28  부하검사(LUG DOWN) 4.00   \n",
       "844   이-마이티  현대자동차(주)  A0810005009343210  7MY-HD-24-28  부하검사(LUG DOWN) 2.00   \n",
       "1320  이-카운티  현대자동차(주)  A0810005603012209  7MY-HD-24-28  부하검사(LUG DOWN) 3.00   \n",
       "1647  이-마이티  현대자동차(주)  A0810005008583209  7MY-HD-24-28  부하검사(LUG DOWN) 3.00   \n",
       "\n",
       "       q2    q3  차량대수  \n",
       "0    8.00 11.00   332  \n",
       "332  8.00 11.00   512  \n",
       "844  6.00  9.00   476  \n",
       "1320 8.00 11.00   327  \n",
       "1647 7.00 10.75   650  "
      ]
     },
     "execution_count": 157,
     "metadata": {},
     "output_type": "execute_result"
    }
   ],
   "source": [
    "cert_df1.head()"
   ]
  },
  {
   "cell_type": "code",
   "execution_count": 158,
   "metadata": {},
   "outputs": [
    {
     "data": {
      "text/plain": [
       "(1391, 9)"
      ]
     },
     "execution_count": 158,
     "metadata": {},
     "output_type": "execute_result"
    }
   ],
   "source": [
    "# cert_df2 = cert_df1[cert_df1['배출가스인증번호'] != 'nan'].reset_index(drop=True)\n",
    "cert_df2 = cert_df1[cert_df1['배출가스인증번호'].isnull() == False].reset_index(drop=True)\n",
    "cert_df2.shape"
   ]
  },
  {
   "cell_type": "code",
   "execution_count": 159,
   "metadata": {},
   "outputs": [
    {
     "data": {
      "text/html": [
       "<div>\n",
       "<style scoped>\n",
       "    .dataframe tbody tr th:only-of-type {\n",
       "        vertical-align: middle;\n",
       "    }\n",
       "\n",
       "    .dataframe tbody tr th {\n",
       "        vertical-align: top;\n",
       "    }\n",
       "\n",
       "    .dataframe thead th {\n",
       "        text-align: right;\n",
       "    }\n",
       "</style>\n",
       "<table border=\"1\" class=\"dataframe\">\n",
       "  <thead>\n",
       "    <tr style=\"text-align: right;\">\n",
       "      <th></th>\n",
       "      <th>차명</th>\n",
       "      <th>제작사명</th>\n",
       "      <th>제원관리번호</th>\n",
       "      <th>배출가스인증번호</th>\n",
       "      <th>검사방법</th>\n",
       "      <th>q1</th>\n",
       "      <th>q2</th>\n",
       "      <th>q3</th>\n",
       "      <th>차량대수</th>\n",
       "      <th>q2_mean</th>\n",
       "    </tr>\n",
       "  </thead>\n",
       "  <tbody>\n",
       "    <tr>\n",
       "      <th>0</th>\n",
       "      <td>이-마이티</td>\n",
       "      <td>현대자동차(주)</td>\n",
       "      <td>A0810005008503209</td>\n",
       "      <td>7MY-HD-24-28</td>\n",
       "      <td>부하검사(LUG DOWN)</td>\n",
       "      <td>5.00</td>\n",
       "      <td>8.00</td>\n",
       "      <td>11.00</td>\n",
       "      <td>332</td>\n",
       "      <td>6.57</td>\n",
       "    </tr>\n",
       "    <tr>\n",
       "      <th>1</th>\n",
       "      <td>이-마이티</td>\n",
       "      <td>현대자동차(주)</td>\n",
       "      <td>A0810005008603209</td>\n",
       "      <td>7MY-HD-24-28</td>\n",
       "      <td>부하검사(LUG DOWN)</td>\n",
       "      <td>4.00</td>\n",
       "      <td>8.00</td>\n",
       "      <td>11.00</td>\n",
       "      <td>512</td>\n",
       "      <td>6.57</td>\n",
       "    </tr>\n",
       "    <tr>\n",
       "      <th>2</th>\n",
       "      <td>이-마이티</td>\n",
       "      <td>현대자동차(주)</td>\n",
       "      <td>A0810005009343210</td>\n",
       "      <td>7MY-HD-24-28</td>\n",
       "      <td>부하검사(LUG DOWN)</td>\n",
       "      <td>2.00</td>\n",
       "      <td>6.00</td>\n",
       "      <td>9.00</td>\n",
       "      <td>476</td>\n",
       "      <td>6.57</td>\n",
       "    </tr>\n",
       "    <tr>\n",
       "      <th>3</th>\n",
       "      <td>이-카운티</td>\n",
       "      <td>현대자동차(주)</td>\n",
       "      <td>A0810005603012209</td>\n",
       "      <td>7MY-HD-24-28</td>\n",
       "      <td>부하검사(LUG DOWN)</td>\n",
       "      <td>3.00</td>\n",
       "      <td>8.00</td>\n",
       "      <td>11.00</td>\n",
       "      <td>327</td>\n",
       "      <td>6.50</td>\n",
       "    </tr>\n",
       "    <tr>\n",
       "      <th>4</th>\n",
       "      <td>이-마이티</td>\n",
       "      <td>현대자동차(주)</td>\n",
       "      <td>A0810005008583209</td>\n",
       "      <td>7MY-HD-24-28</td>\n",
       "      <td>부하검사(LUG DOWN)</td>\n",
       "      <td>3.00</td>\n",
       "      <td>7.00</td>\n",
       "      <td>10.75</td>\n",
       "      <td>650</td>\n",
       "      <td>6.57</td>\n",
       "    </tr>\n",
       "    <tr>\n",
       "      <th>...</th>\n",
       "      <td>...</td>\n",
       "      <td>...</td>\n",
       "      <td>...</td>\n",
       "      <td>...</td>\n",
       "      <td>...</td>\n",
       "      <td>...</td>\n",
       "      <td>...</td>\n",
       "      <td>...</td>\n",
       "      <td>...</td>\n",
       "      <td>...</td>\n",
       "    </tr>\n",
       "    <tr>\n",
       "      <th>1386</th>\n",
       "      <td>싼타페(SANTAFE)</td>\n",
       "      <td>현대자동차(주)</td>\n",
       "      <td>A0810006800761307</td>\n",
       "      <td>7MY-HD-23-01</td>\n",
       "      <td>무부하검사(급가속)</td>\n",
       "      <td>0.00</td>\n",
       "      <td>0.00</td>\n",
       "      <td>1.00</td>\n",
       "      <td>105</td>\n",
       "      <td>0.00</td>\n",
       "    </tr>\n",
       "    <tr>\n",
       "      <th>1387</th>\n",
       "      <td>싼타페(SANTAFE)</td>\n",
       "      <td>현대자동차(주)</td>\n",
       "      <td>A0810006800781307</td>\n",
       "      <td>7MY-HD-23-01</td>\n",
       "      <td>무부하검사(급가속)</td>\n",
       "      <td>0.00</td>\n",
       "      <td>0.00</td>\n",
       "      <td>3.00</td>\n",
       "      <td>223</td>\n",
       "      <td>0.00</td>\n",
       "    </tr>\n",
       "    <tr>\n",
       "      <th>1388</th>\n",
       "      <td>쎄라토</td>\n",
       "      <td>기아자동차(주)</td>\n",
       "      <td>A0110003001211206</td>\n",
       "      <td>5MY-KM-24-64</td>\n",
       "      <td>부하검사(KD-147)</td>\n",
       "      <td>4.00</td>\n",
       "      <td>7.00</td>\n",
       "      <td>14.00</td>\n",
       "      <td>205</td>\n",
       "      <td>8.00</td>\n",
       "    </tr>\n",
       "    <tr>\n",
       "      <th>1389</th>\n",
       "      <td>쎄라토</td>\n",
       "      <td>기아자동차(주)</td>\n",
       "      <td>A0110003000981205</td>\n",
       "      <td>5MY-KM-24-64</td>\n",
       "      <td>부하검사(KD-147)</td>\n",
       "      <td>5.00</td>\n",
       "      <td>9.00</td>\n",
       "      <td>14.75</td>\n",
       "      <td>262</td>\n",
       "      <td>8.00</td>\n",
       "    </tr>\n",
       "    <tr>\n",
       "      <th>1390</th>\n",
       "      <td>Phaeton 3.0 TDI</td>\n",
       "      <td>아우디폭스바겐코리아(주)</td>\n",
       "      <td>02420004800011305</td>\n",
       "      <td>5MY-AD-13-06</td>\n",
       "      <td>무부하검사(급가속)</td>\n",
       "      <td>0.00</td>\n",
       "      <td>0.00</td>\n",
       "      <td>0.00</td>\n",
       "      <td>115</td>\n",
       "      <td>0.00</td>\n",
       "    </tr>\n",
       "  </tbody>\n",
       "</table>\n",
       "<p>1391 rows × 10 columns</p>\n",
       "</div>"
      ],
      "text/plain": [
       "                   차명           제작사명             제원관리번호      배출가스인증번호   \n",
       "0               이-마이티       현대자동차(주)  A0810005008503209  7MY-HD-24-28  \\\n",
       "1               이-마이티       현대자동차(주)  A0810005008603209  7MY-HD-24-28   \n",
       "2               이-마이티       현대자동차(주)  A0810005009343210  7MY-HD-24-28   \n",
       "3               이-카운티       현대자동차(주)  A0810005603012209  7MY-HD-24-28   \n",
       "4               이-마이티       현대자동차(주)  A0810005008583209  7MY-HD-24-28   \n",
       "...               ...            ...                ...           ...   \n",
       "1386     싼타페(SANTAFE)       현대자동차(주)  A0810006800761307  7MY-HD-23-01   \n",
       "1387     싼타페(SANTAFE)       현대자동차(주)  A0810006800781307  7MY-HD-23-01   \n",
       "1388              쎄라토       기아자동차(주)  A0110003001211206  5MY-KM-24-64   \n",
       "1389              쎄라토       기아자동차(주)  A0110003000981205  5MY-KM-24-64   \n",
       "1390  Phaeton 3.0 TDI  아우디폭스바겐코리아(주)  02420004800011305  5MY-AD-13-06   \n",
       "\n",
       "                검사방법   q1   q2    q3  차량대수  q2_mean  \n",
       "0     부하검사(LUG DOWN) 5.00 8.00 11.00   332     6.57  \n",
       "1     부하검사(LUG DOWN) 4.00 8.00 11.00   512     6.57  \n",
       "2     부하검사(LUG DOWN) 2.00 6.00  9.00   476     6.57  \n",
       "3     부하검사(LUG DOWN) 3.00 8.00 11.00   327     6.50  \n",
       "4     부하검사(LUG DOWN) 3.00 7.00 10.75   650     6.57  \n",
       "...              ...  ...  ...   ...   ...      ...  \n",
       "1386      무부하검사(급가속) 0.00 0.00  1.00   105     0.00  \n",
       "1387      무부하검사(급가속) 0.00 0.00  3.00   223     0.00  \n",
       "1388    부하검사(KD-147) 4.00 7.00 14.00   205     8.00  \n",
       "1389    부하검사(KD-147) 5.00 9.00 14.75   262     8.00  \n",
       "1390      무부하검사(급가속) 0.00 0.00  0.00   115     0.00  \n",
       "\n",
       "[1391 rows x 10 columns]"
      ]
     },
     "execution_count": 159,
     "metadata": {},
     "output_type": "execute_result"
    }
   ],
   "source": [
    "# cert_df1['q2_mean'] = cert_df1.groupby(['배출가스인증번호', '검사방법'])['q2'].transform('mean')\n",
    "cert_df2['q2_mean'] = cert_df2.groupby(['제작사명', '차명', '배출가스인증번호', '검사방법'])['q2'].transform('mean')\n",
    "cert_df2"
   ]
  },
  {
   "cell_type": "code",
   "execution_count": 160,
   "metadata": {},
   "outputs": [],
   "source": [
    "cert_df2.loc[(cert_df2['q2'] > cert_df2['q2_mean']*5) | (cert_df2['q2'] < cert_df2['q2_mean']/5), '검토구분'] = '주의'\n",
    "cert_df2.loc[cert_df2['q3'] == 0, '검토구분'] = '양호'\n",
    "cert_df2['검토구분'] = cert_df2['검토구분'].fillna('양호')"
   ]
  },
  {
   "cell_type": "code",
   "execution_count": 161,
   "metadata": {},
   "outputs": [
    {
     "data": {
      "text/plain": [
       "검토구분\n",
       "양호    1340\n",
       "주의      51\n",
       "Name: count, dtype: int64"
      ]
     },
     "execution_count": 161,
     "metadata": {},
     "output_type": "execute_result"
    }
   ],
   "source": [
    "cert_df2['검토구분'].value_counts()"
   ]
  },
  {
   "cell_type": "code",
   "execution_count": 162,
   "metadata": {},
   "outputs": [
    {
     "data": {
      "text/plain": [
       "(1052707, 20)"
      ]
     },
     "execution_count": 162,
     "metadata": {},
     "output_type": "execute_result"
    }
   ],
   "source": [
    "sidf.shape"
   ]
  },
  {
   "cell_type": "code",
   "execution_count": 163,
   "metadata": {},
   "outputs": [
    {
     "data": {
      "text/plain": [
       "Index(['차대번호', '제원관리번호', '차종', '차량연식', '차명', '차종유형', '제작사명', '연료', '법정동코드',\n",
       "       '배출가스인증번호', '검사방법', '검사종류', '검사판정', '주행거리', '무부하매연판정1', '무부하매연허용치1',\n",
       "       '무부하매연측정치1', '차령', 'SI', '테이블생성일자'],\n",
       "      dtype='object')"
      ]
     },
     "execution_count": 163,
     "metadata": {},
     "output_type": "execute_result"
    }
   ],
   "source": [
    "sidf.columns"
   ]
  },
  {
   "cell_type": "code",
   "execution_count": 164,
   "metadata": {},
   "outputs": [
    {
     "data": {
      "text/html": [
       "<div>\n",
       "<style scoped>\n",
       "    .dataframe tbody tr th:only-of-type {\n",
       "        vertical-align: middle;\n",
       "    }\n",
       "\n",
       "    .dataframe tbody tr th {\n",
       "        vertical-align: top;\n",
       "    }\n",
       "\n",
       "    .dataframe thead th {\n",
       "        text-align: right;\n",
       "    }\n",
       "</style>\n",
       "<table border=\"1\" class=\"dataframe\">\n",
       "  <thead>\n",
       "    <tr style=\"text-align: right;\">\n",
       "      <th></th>\n",
       "      <th>배출가스인증번호</th>\n",
       "      <th>검사방법</th>\n",
       "      <th>차량연식</th>\n",
       "    </tr>\n",
       "  </thead>\n",
       "  <tbody>\n",
       "    <tr>\n",
       "      <th>0</th>\n",
       "      <td>4MY-AD-20</td>\n",
       "      <td>무부하검사(급가속)</td>\n",
       "      <td>2006</td>\n",
       "    </tr>\n",
       "    <tr>\n",
       "      <th>1</th>\n",
       "      <td>4MY-DC-33</td>\n",
       "      <td>무부하검사(급가속)</td>\n",
       "      <td>2007</td>\n",
       "    </tr>\n",
       "    <tr>\n",
       "      <th>2</th>\n",
       "      <td>4MY-DC-33</td>\n",
       "      <td>부하검사(LUG DOWN)</td>\n",
       "      <td>2007</td>\n",
       "    </tr>\n",
       "    <tr>\n",
       "      <th>3</th>\n",
       "      <td>4MY-KM-06</td>\n",
       "      <td>무부하검사(급가속)</td>\n",
       "      <td>2008</td>\n",
       "    </tr>\n",
       "    <tr>\n",
       "      <th>4</th>\n",
       "      <td>4MY-KM-06</td>\n",
       "      <td>부하검사(KD-147)</td>\n",
       "      <td>2008</td>\n",
       "    </tr>\n",
       "    <tr>\n",
       "      <th>...</th>\n",
       "      <td>...</td>\n",
       "      <td>...</td>\n",
       "      <td>...</td>\n",
       "    </tr>\n",
       "    <tr>\n",
       "      <th>378</th>\n",
       "      <td>C135</td>\n",
       "      <td>부하검사(KD-147)</td>\n",
       "      <td>2008</td>\n",
       "    </tr>\n",
       "    <tr>\n",
       "      <th>379</th>\n",
       "      <td>nan</td>\n",
       "      <td>무부하검사(TSI)</td>\n",
       "      <td>1996</td>\n",
       "    </tr>\n",
       "    <tr>\n",
       "      <th>380</th>\n",
       "      <td>nan</td>\n",
       "      <td>무부하검사(급가속)</td>\n",
       "      <td>2002</td>\n",
       "    </tr>\n",
       "    <tr>\n",
       "      <th>381</th>\n",
       "      <td>nan</td>\n",
       "      <td>부하검사(KD-147)</td>\n",
       "      <td>2005</td>\n",
       "    </tr>\n",
       "    <tr>\n",
       "      <th>382</th>\n",
       "      <td>nan</td>\n",
       "      <td>부하검사(LUG DOWN)</td>\n",
       "      <td>2006</td>\n",
       "    </tr>\n",
       "  </tbody>\n",
       "</table>\n",
       "<p>383 rows × 3 columns</p>\n",
       "</div>"
      ],
      "text/plain": [
       "      배출가스인증번호            검사방법  차량연식\n",
       "0    4MY-AD-20      무부하검사(급가속)  2006\n",
       "1    4MY-DC-33      무부하검사(급가속)  2007\n",
       "2    4MY-DC-33  부하검사(LUG DOWN)  2007\n",
       "3    4MY-KM-06      무부하검사(급가속)  2008\n",
       "4    4MY-KM-06    부하검사(KD-147)  2008\n",
       "..         ...             ...   ...\n",
       "378       C135    부하검사(KD-147)  2008\n",
       "379        nan      무부하검사(TSI)  1996\n",
       "380        nan      무부하검사(급가속)  2002\n",
       "381        nan    부하검사(KD-147)  2005\n",
       "382        nan  부하검사(LUG DOWN)  2006\n",
       "\n",
       "[383 rows x 3 columns]"
      ]
     },
     "execution_count": 164,
     "metadata": {},
     "output_type": "execute_result"
    }
   ],
   "source": [
    "sidf.groupby(['배출가스인증번호', '검사방법']).agg({'차량연식':lambda x : x.nsmallest(1)}).reset_index()"
   ]
  },
  {
   "cell_type": "code",
   "execution_count": 165,
   "metadata": {},
   "outputs": [
    {
     "data": {
      "text/html": [
       "<div>\n",
       "<style scoped>\n",
       "    .dataframe tbody tr th:only-of-type {\n",
       "        vertical-align: middle;\n",
       "    }\n",
       "\n",
       "    .dataframe tbody tr th {\n",
       "        vertical-align: top;\n",
       "    }\n",
       "\n",
       "    .dataframe thead th {\n",
       "        text-align: right;\n",
       "    }\n",
       "</style>\n",
       "<table border=\"1\" class=\"dataframe\">\n",
       "  <thead>\n",
       "    <tr style=\"text-align: right;\">\n",
       "      <th></th>\n",
       "      <th>배출가스인증번호</th>\n",
       "      <th>검사방법</th>\n",
       "      <th>제작사명</th>\n",
       "      <th>차명</th>\n",
       "      <th>차종</th>\n",
       "      <th>연료</th>\n",
       "      <th>최초연식</th>\n",
       "      <th>열화도</th>\n",
       "    </tr>\n",
       "  </thead>\n",
       "  <tbody>\n",
       "    <tr>\n",
       "      <th>0</th>\n",
       "      <td>4MY-AD-20</td>\n",
       "      <td>무부하검사(급가속)</td>\n",
       "      <td>아우디폭스바겐코리아(주)</td>\n",
       "      <td>아우디 A6 3.0 TDI Quattro</td>\n",
       "      <td>승용</td>\n",
       "      <td>경유</td>\n",
       "      <td>2006</td>\n",
       "      <td>0.34</td>\n",
       "    </tr>\n",
       "    <tr>\n",
       "      <th>1</th>\n",
       "      <td>4MY-DC-33</td>\n",
       "      <td>무부하검사(급가속)</td>\n",
       "      <td>타타대우상용차(주)</td>\n",
       "      <td>대우11.5톤장축카고트럭(DPF)</td>\n",
       "      <td>화물</td>\n",
       "      <td>경유</td>\n",
       "      <td>2007</td>\n",
       "      <td>0.80</td>\n",
       "    </tr>\n",
       "    <tr>\n",
       "      <th>2</th>\n",
       "      <td>4MY-DC-33</td>\n",
       "      <td>부하검사(LUG DOWN)</td>\n",
       "      <td>타타대우상용차(주)</td>\n",
       "      <td>대우11.5톤장축카고트럭(DPF)</td>\n",
       "      <td>화물</td>\n",
       "      <td>경유</td>\n",
       "      <td>2007</td>\n",
       "      <td>0.32</td>\n",
       "    </tr>\n",
       "    <tr>\n",
       "      <th>3</th>\n",
       "      <td>4MY-KM-06</td>\n",
       "      <td>무부하검사(급가속)</td>\n",
       "      <td>기아자동차(주)</td>\n",
       "      <td>봉고Ⅲ 일반덤프</td>\n",
       "      <td>화물</td>\n",
       "      <td>경유</td>\n",
       "      <td>2008</td>\n",
       "      <td>0.40</td>\n",
       "    </tr>\n",
       "    <tr>\n",
       "      <th>4</th>\n",
       "      <td>4MY-KM-06</td>\n",
       "      <td>부하검사(KD-147)</td>\n",
       "      <td>기아자동차(주)</td>\n",
       "      <td>봉고Ⅲ 일반덤프</td>\n",
       "      <td>화물</td>\n",
       "      <td>경유</td>\n",
       "      <td>2008</td>\n",
       "      <td>0.35</td>\n",
       "    </tr>\n",
       "    <tr>\n",
       "      <th>...</th>\n",
       "      <td>...</td>\n",
       "      <td>...</td>\n",
       "      <td>...</td>\n",
       "      <td>...</td>\n",
       "      <td>...</td>\n",
       "      <td>...</td>\n",
       "      <td>...</td>\n",
       "      <td>...</td>\n",
       "    </tr>\n",
       "    <tr>\n",
       "      <th>378</th>\n",
       "      <td>C135</td>\n",
       "      <td>부하검사(KD-147)</td>\n",
       "      <td>쌍용자동차(주)</td>\n",
       "      <td>액티언</td>\n",
       "      <td>승용</td>\n",
       "      <td>경유</td>\n",
       "      <td>2008</td>\n",
       "      <td>1.26</td>\n",
       "    </tr>\n",
       "    <tr>\n",
       "      <th>379</th>\n",
       "      <td>nan</td>\n",
       "      <td>무부하검사(TSI)</td>\n",
       "      <td>쌍용자동차(주)</td>\n",
       "      <td>코란도KJ</td>\n",
       "      <td>승용</td>\n",
       "      <td>경유</td>\n",
       "      <td>1996</td>\n",
       "      <td>0.00</td>\n",
       "    </tr>\n",
       "    <tr>\n",
       "      <th>380</th>\n",
       "      <td>nan</td>\n",
       "      <td>무부하검사(급가속)</td>\n",
       "      <td>에프씨에이코리아(주)</td>\n",
       "      <td>짚 랭글러</td>\n",
       "      <td>승용</td>\n",
       "      <td>경유</td>\n",
       "      <td>2002</td>\n",
       "      <td>0.15</td>\n",
       "    </tr>\n",
       "    <tr>\n",
       "      <th>381</th>\n",
       "      <td>nan</td>\n",
       "      <td>부하검사(KD-147)</td>\n",
       "      <td>한불모터스(주)</td>\n",
       "      <td>볼보 S80D5</td>\n",
       "      <td>승용</td>\n",
       "      <td>경유</td>\n",
       "      <td>2005</td>\n",
       "      <td>0.28</td>\n",
       "    </tr>\n",
       "    <tr>\n",
       "      <th>382</th>\n",
       "      <td>nan</td>\n",
       "      <td>부하검사(LUG DOWN)</td>\n",
       "      <td>한국상용차(주)</td>\n",
       "      <td>이베코6X2트랙터</td>\n",
       "      <td>특수</td>\n",
       "      <td>경유</td>\n",
       "      <td>2006</td>\n",
       "      <td>0.21</td>\n",
       "    </tr>\n",
       "  </tbody>\n",
       "</table>\n",
       "<p>383 rows × 8 columns</p>\n",
       "</div>"
      ],
      "text/plain": [
       "      배출가스인증번호            검사방법           제작사명                      차명  차종  연료   \n",
       "0    4MY-AD-20      무부하검사(급가속)  아우디폭스바겐코리아(주)  아우디 A6 3.0 TDI Quattro  승용  경유  \\\n",
       "1    4MY-DC-33      무부하검사(급가속)     타타대우상용차(주)      대우11.5톤장축카고트럭(DPF)  화물  경유   \n",
       "2    4MY-DC-33  부하검사(LUG DOWN)     타타대우상용차(주)      대우11.5톤장축카고트럭(DPF)  화물  경유   \n",
       "3    4MY-KM-06      무부하검사(급가속)       기아자동차(주)                봉고Ⅲ 일반덤프  화물  경유   \n",
       "4    4MY-KM-06    부하검사(KD-147)       기아자동차(주)                봉고Ⅲ 일반덤프  화물  경유   \n",
       "..         ...             ...            ...                     ...  ..  ..   \n",
       "378       C135    부하검사(KD-147)       쌍용자동차(주)                     액티언  승용  경유   \n",
       "379        nan      무부하검사(TSI)       쌍용자동차(주)                   코란도KJ  승용  경유   \n",
       "380        nan      무부하검사(급가속)    에프씨에이코리아(주)                   짚 랭글러  승용  경유   \n",
       "381        nan    부하검사(KD-147)       한불모터스(주)                볼보 S80D5  승용  경유   \n",
       "382        nan  부하검사(LUG DOWN)       한국상용차(주)               이베코6X2트랙터  특수  경유   \n",
       "\n",
       "     최초연식  열화도  \n",
       "0    2006 0.34  \n",
       "1    2007 0.80  \n",
       "2    2007 0.32  \n",
       "3    2008 0.40  \n",
       "4    2008 0.35  \n",
       "..    ...  ...  \n",
       "378  2008 1.26  \n",
       "379  1996 0.00  \n",
       "380  2002 0.15  \n",
       "381  2005 0.28  \n",
       "382  2006 0.21  \n",
       "\n",
       "[383 rows x 8 columns]"
      ]
     },
     "execution_count": 165,
     "metadata": {},
     "output_type": "execute_result"
    }
   ],
   "source": [
    "# grp2 = sidf.groupby(['배출가스인증번호', '검사방법']).agg({'제작사명':lambda x:x.value_counts().index[0], '차명':lambda x:x.value_counts().index[0], '차종':lambda x:x.value_counts().index[0], '연료':lambda x:x.value_counts().index[0], '차량연식':lambda x : x.nsmallest(1), 'SI':'mean'}).reset_index()\n",
    "grp2 = sidf.groupby(['배출가스인증번호', '검사방법']).agg({'제작사명':lambda x:x.value_counts().index[0], '차명':lambda x:x.value_counts().index[0], '차종':lambda x:x.value_counts().index[0], '연료':lambda x:x.value_counts().index[0], '차량연식':lambda x : x.nsmallest(1), 'SI':'mean'}).reset_index()\n",
    "grp2 = grp2.rename(columns={'차량연식':'최초연식', 'SI':'열화도'})\n",
    "grp2\n",
    "# '제작사명':'대표제작사명', '차명':'대표차명', '차종':'대표차종', '연료':'대표차연료',"
   ]
  },
  {
   "cell_type": "code",
   "execution_count": 166,
   "metadata": {},
   "outputs": [
    {
     "data": {
      "text/plain": [
       "(383, 8)"
      ]
     },
     "execution_count": 166,
     "metadata": {},
     "output_type": "execute_result"
    }
   ],
   "source": [
    "grp2 = grp2.drop_duplicates(['제작사명', '차명', '배출가스인증번호', '검사방법']).reset_index(drop=True)\n",
    "grp2.shape"
   ]
  },
  {
   "cell_type": "code",
   "execution_count": 167,
   "metadata": {},
   "outputs": [
    {
     "data": {
      "text/plain": [
       "Index(['차명', '제작사명', '제원관리번호', '배출가스인증번호', '검사방법', 'q1', 'q2', 'q3', '차량대수',\n",
       "       'q2_mean', '검토구분'],\n",
       "      dtype='object')"
      ]
     },
     "execution_count": 167,
     "metadata": {},
     "output_type": "execute_result"
    }
   ],
   "source": [
    "cert_df2.columns"
   ]
  },
  {
   "cell_type": "code",
   "execution_count": 168,
   "metadata": {},
   "outputs": [
    {
     "data": {
      "text/plain": [
       "(1391, 11)"
      ]
     },
     "execution_count": 168,
     "metadata": {},
     "output_type": "execute_result"
    }
   ],
   "source": [
    "cert_df2.shape"
   ]
  },
  {
   "cell_type": "code",
   "execution_count": 185,
   "metadata": {},
   "outputs": [
    {
     "data": {
      "text/plain": [
       "Index(['배출가스인증번호', '검사방법', '제작사명', '차명', '차종', '연료', '최초연식', '열화도'], dtype='object')"
      ]
     },
     "execution_count": 185,
     "metadata": {},
     "output_type": "execute_result"
    }
   ],
   "source": [
    "grp2.columns"
   ]
  },
  {
   "cell_type": "code",
   "execution_count": 186,
   "metadata": {},
   "outputs": [
    {
     "data": {
      "text/plain": [
       "(1391, 15)"
      ]
     },
     "execution_count": 186,
     "metadata": {},
     "output_type": "execute_result"
    }
   ],
   "source": [
    "cg2 = cert_df2[['제원관리번호', '배출가스인증번호', '검사방법', 'q1', 'q2', 'q3', '차량대수','q2_mean', '검토구분']].merge(grp2, on=['배출가스인증번호', '검사방법'], how='left')\n",
    "cg2.shape"
   ]
  },
  {
   "cell_type": "code",
   "execution_count": 187,
   "metadata": {},
   "outputs": [
    {
     "data": {
      "text/html": [
       "<div>\n",
       "<style scoped>\n",
       "    .dataframe tbody tr th:only-of-type {\n",
       "        vertical-align: middle;\n",
       "    }\n",
       "\n",
       "    .dataframe tbody tr th {\n",
       "        vertical-align: top;\n",
       "    }\n",
       "\n",
       "    .dataframe thead th {\n",
       "        text-align: right;\n",
       "    }\n",
       "</style>\n",
       "<table border=\"1\" class=\"dataframe\">\n",
       "  <thead>\n",
       "    <tr style=\"text-align: right;\">\n",
       "      <th></th>\n",
       "      <th>제원관리번호</th>\n",
       "      <th>배출가스인증번호</th>\n",
       "      <th>검사방법</th>\n",
       "      <th>q1</th>\n",
       "      <th>q2</th>\n",
       "      <th>q3</th>\n",
       "      <th>차량대수</th>\n",
       "      <th>q2_mean</th>\n",
       "      <th>검토구분</th>\n",
       "      <th>제작사명</th>\n",
       "      <th>차명</th>\n",
       "      <th>차종</th>\n",
       "      <th>연료</th>\n",
       "      <th>최초연식</th>\n",
       "      <th>열화도</th>\n",
       "    </tr>\n",
       "  </thead>\n",
       "  <tbody>\n",
       "    <tr>\n",
       "      <th>0</th>\n",
       "      <td>A0810005008503209</td>\n",
       "      <td>7MY-HD-24-28</td>\n",
       "      <td>부하검사(LUG DOWN)</td>\n",
       "      <td>5.00</td>\n",
       "      <td>8.00</td>\n",
       "      <td>11.00</td>\n",
       "      <td>332</td>\n",
       "      <td>6.57</td>\n",
       "      <td>양호</td>\n",
       "      <td>현대자동차(주)</td>\n",
       "      <td>이-마이티</td>\n",
       "      <td>화물</td>\n",
       "      <td>경유</td>\n",
       "      <td>2007</td>\n",
       "      <td>0.47</td>\n",
       "    </tr>\n",
       "    <tr>\n",
       "      <th>1</th>\n",
       "      <td>A0810005008603209</td>\n",
       "      <td>7MY-HD-24-28</td>\n",
       "      <td>부하검사(LUG DOWN)</td>\n",
       "      <td>4.00</td>\n",
       "      <td>8.00</td>\n",
       "      <td>11.00</td>\n",
       "      <td>512</td>\n",
       "      <td>6.57</td>\n",
       "      <td>양호</td>\n",
       "      <td>현대자동차(주)</td>\n",
       "      <td>이-마이티</td>\n",
       "      <td>화물</td>\n",
       "      <td>경유</td>\n",
       "      <td>2007</td>\n",
       "      <td>0.47</td>\n",
       "    </tr>\n",
       "    <tr>\n",
       "      <th>2</th>\n",
       "      <td>A0810005009343210</td>\n",
       "      <td>7MY-HD-24-28</td>\n",
       "      <td>부하검사(LUG DOWN)</td>\n",
       "      <td>2.00</td>\n",
       "      <td>6.00</td>\n",
       "      <td>9.00</td>\n",
       "      <td>476</td>\n",
       "      <td>6.57</td>\n",
       "      <td>양호</td>\n",
       "      <td>현대자동차(주)</td>\n",
       "      <td>이-마이티</td>\n",
       "      <td>화물</td>\n",
       "      <td>경유</td>\n",
       "      <td>2007</td>\n",
       "      <td>0.47</td>\n",
       "    </tr>\n",
       "    <tr>\n",
       "      <th>3</th>\n",
       "      <td>A0810005603012209</td>\n",
       "      <td>7MY-HD-24-28</td>\n",
       "      <td>부하검사(LUG DOWN)</td>\n",
       "      <td>3.00</td>\n",
       "      <td>8.00</td>\n",
       "      <td>11.00</td>\n",
       "      <td>327</td>\n",
       "      <td>6.50</td>\n",
       "      <td>양호</td>\n",
       "      <td>현대자동차(주)</td>\n",
       "      <td>이-마이티</td>\n",
       "      <td>화물</td>\n",
       "      <td>경유</td>\n",
       "      <td>2007</td>\n",
       "      <td>0.47</td>\n",
       "    </tr>\n",
       "    <tr>\n",
       "      <th>4</th>\n",
       "      <td>A0810005008583209</td>\n",
       "      <td>7MY-HD-24-28</td>\n",
       "      <td>부하검사(LUG DOWN)</td>\n",
       "      <td>3.00</td>\n",
       "      <td>7.00</td>\n",
       "      <td>10.75</td>\n",
       "      <td>650</td>\n",
       "      <td>6.57</td>\n",
       "      <td>양호</td>\n",
       "      <td>현대자동차(주)</td>\n",
       "      <td>이-마이티</td>\n",
       "      <td>화물</td>\n",
       "      <td>경유</td>\n",
       "      <td>2007</td>\n",
       "      <td>0.47</td>\n",
       "    </tr>\n",
       "  </tbody>\n",
       "</table>\n",
       "</div>"
      ],
      "text/plain": [
       "              제원관리번호      배출가스인증번호            검사방법   q1   q2    q3  차량대수   \n",
       "0  A0810005008503209  7MY-HD-24-28  부하검사(LUG DOWN) 5.00 8.00 11.00   332  \\\n",
       "1  A0810005008603209  7MY-HD-24-28  부하검사(LUG DOWN) 4.00 8.00 11.00   512   \n",
       "2  A0810005009343210  7MY-HD-24-28  부하검사(LUG DOWN) 2.00 6.00  9.00   476   \n",
       "3  A0810005603012209  7MY-HD-24-28  부하검사(LUG DOWN) 3.00 8.00 11.00   327   \n",
       "4  A0810005008583209  7MY-HD-24-28  부하검사(LUG DOWN) 3.00 7.00 10.75   650   \n",
       "\n",
       "   q2_mean 검토구분      제작사명     차명  차종  연료  최초연식  열화도  \n",
       "0     6.57   양호  현대자동차(주)  이-마이티  화물  경유  2007 0.47  \n",
       "1     6.57   양호  현대자동차(주)  이-마이티  화물  경유  2007 0.47  \n",
       "2     6.57   양호  현대자동차(주)  이-마이티  화물  경유  2007 0.47  \n",
       "3     6.50   양호  현대자동차(주)  이-마이티  화물  경유  2007 0.47  \n",
       "4     6.57   양호  현대자동차(주)  이-마이티  화물  경유  2007 0.47  "
      ]
     },
     "execution_count": 187,
     "metadata": {},
     "output_type": "execute_result"
    }
   ],
   "source": [
    "cg2.head()"
   ]
  },
  {
   "cell_type": "code",
   "execution_count": 189,
   "metadata": {},
   "outputs": [
    {
     "data": {
      "text/html": [
       "<div>\n",
       "<style scoped>\n",
       "    .dataframe tbody tr th:only-of-type {\n",
       "        vertical-align: middle;\n",
       "    }\n",
       "\n",
       "    .dataframe tbody tr th {\n",
       "        vertical-align: top;\n",
       "    }\n",
       "\n",
       "    .dataframe thead th {\n",
       "        text-align: right;\n",
       "    }\n",
       "</style>\n",
       "<table border=\"1\" class=\"dataframe\">\n",
       "  <thead>\n",
       "    <tr style=\"text-align: right;\">\n",
       "      <th></th>\n",
       "      <th>배출가스인증번호</th>\n",
       "      <th>검토주의</th>\n",
       "    </tr>\n",
       "  </thead>\n",
       "  <tbody>\n",
       "    <tr>\n",
       "      <th>0</th>\n",
       "      <td>7MY-HD-24-28</td>\n",
       "      <td>양호</td>\n",
       "    </tr>\n",
       "    <tr>\n",
       "      <th>1</th>\n",
       "      <td>7MY-KM-14-65</td>\n",
       "      <td>양호</td>\n",
       "    </tr>\n",
       "    <tr>\n",
       "      <th>2</th>\n",
       "      <td>7MY-KM-14-64</td>\n",
       "      <td>양호</td>\n",
       "    </tr>\n",
       "    <tr>\n",
       "      <th>3</th>\n",
       "      <td>7MY-HD-24-30</td>\n",
       "      <td>양호</td>\n",
       "    </tr>\n",
       "    <tr>\n",
       "      <th>4</th>\n",
       "      <td>7MY-HD-14-68</td>\n",
       "      <td>주의</td>\n",
       "    </tr>\n",
       "    <tr>\n",
       "      <th>...</th>\n",
       "      <td>...</td>\n",
       "      <td>...</td>\n",
       "    </tr>\n",
       "    <tr>\n",
       "      <th>58</th>\n",
       "      <td>7MY-SY-14-61</td>\n",
       "      <td>양호</td>\n",
       "    </tr>\n",
       "    <tr>\n",
       "      <th>59</th>\n",
       "      <td>7MY-SY-14-49</td>\n",
       "      <td>양호</td>\n",
       "    </tr>\n",
       "    <tr>\n",
       "      <th>60</th>\n",
       "      <td>7MY-HD-23-01</td>\n",
       "      <td>양호</td>\n",
       "    </tr>\n",
       "    <tr>\n",
       "      <th>61</th>\n",
       "      <td>5MY-KM-24-64</td>\n",
       "      <td>양호</td>\n",
       "    </tr>\n",
       "    <tr>\n",
       "      <th>62</th>\n",
       "      <td>5MY-AD-13-06</td>\n",
       "      <td>양호</td>\n",
       "    </tr>\n",
       "  </tbody>\n",
       "</table>\n",
       "<p>63 rows × 2 columns</p>\n",
       "</div>"
      ],
      "text/plain": [
       "        배출가스인증번호 검토주의\n",
       "0   7MY-HD-24-28   양호\n",
       "1   7MY-KM-14-65   양호\n",
       "2   7MY-KM-14-64   양호\n",
       "3   7MY-HD-24-30   양호\n",
       "4   7MY-HD-14-68   주의\n",
       "..           ...  ...\n",
       "58  7MY-SY-14-61   양호\n",
       "59  7MY-SY-14-49   양호\n",
       "60  7MY-HD-23-01   양호\n",
       "61  5MY-KM-24-64   양호\n",
       "62  5MY-AD-13-06   양호\n",
       "\n",
       "[63 rows x 2 columns]"
      ]
     },
     "execution_count": 189,
     "metadata": {},
     "output_type": "execute_result"
    }
   ],
   "source": [
    "cert_no_list, pf_list = [], []\n",
    "for cert_no in cg2['배출가스인증번호'].unique():\n",
    "    temp = cg2[(cg2['배출가스인증번호'] == cert_no) & (cg2['검토구분'] == '주의')]\n",
    "    if temp.shape[0] == 0:\n",
    "        pf = '양호'\n",
    "    else:\n",
    "        pf = '주의'\n",
    "    cert_no_list.append(cert_no)\n",
    "    pf_list.append(pf)\n",
    "cert_pf = pd.DataFrame({'배출가스인증번호':cert_no_list, '검토주의':pf_list})\n",
    "cert_pf"
   ]
  },
  {
   "cell_type": "code",
   "execution_count": 191,
   "metadata": {},
   "outputs": [
    {
     "data": {
      "text/plain": [
       "검토주의\n",
       "양호    56\n",
       "주의     7\n",
       "Name: count, dtype: int64"
      ]
     },
     "execution_count": 191,
     "metadata": {},
     "output_type": "execute_result"
    }
   ],
   "source": [
    "cert_pf['검토주의'].value_counts(dropna=False)"
   ]
  },
  {
   "cell_type": "code",
   "execution_count": null,
   "metadata": {},
   "outputs": [],
   "source": []
  },
  {
   "cell_type": "code",
   "execution_count": 188,
   "metadata": {},
   "outputs": [
    {
     "data": {
      "text/plain": [
       "검토구분\n",
       "양호    1340\n",
       "주의      51\n",
       "Name: count, dtype: int64"
      ]
     },
     "execution_count": 188,
     "metadata": {},
     "output_type": "execute_result"
    }
   ],
   "source": [
    "cg2['검토구분'].value_counts(dropna=False)"
   ]
  },
  {
   "cell_type": "code",
   "execution_count": 172,
   "metadata": {},
   "outputs": [
    {
     "data": {
      "text/plain": [
       "차종      0\n",
       "연료      0\n",
       "최초연식    0\n",
       "dtype: int64"
      ]
     },
     "execution_count": 172,
     "metadata": {},
     "output_type": "execute_result"
    }
   ],
   "source": [
    "cg2[['차종', '연료', '최초연식']].isnull().sum()"
   ]
  },
  {
   "cell_type": "code",
   "execution_count": 173,
   "metadata": {},
   "outputs": [],
   "source": [
    "cg2['테이블생성일자'] = today_date"
   ]
  },
  {
   "cell_type": "code",
   "execution_count": 174,
   "metadata": {},
   "outputs": [
    {
     "data": {
      "text/plain": [
       "['차명',\n",
       " '제작사명',\n",
       " '제원관리번호',\n",
       " '배출가스인증번호',\n",
       " '검사방법',\n",
       " 'q1',\n",
       " 'q2',\n",
       " 'q3',\n",
       " '차량대수',\n",
       " 'q2_mean',\n",
       " '검토구분',\n",
       " '차종',\n",
       " '연료',\n",
       " '최초연식',\n",
       " '열화도',\n",
       " '테이블생성일자']"
      ]
     },
     "execution_count": 174,
     "metadata": {},
     "output_type": "execute_result"
    }
   ],
   "source": [
    "list(cg2.columns)"
   ]
  },
  {
   "cell_type": "code",
   "execution_count": 175,
   "metadata": {},
   "outputs": [],
   "source": [
    "STD_BD_DAT_GRD4_SI = cg2[[\n",
    "    '배출가스인증번호',\n",
    "    '검사방법', \n",
    "    '검토구분',\n",
    "    '제작사명',\n",
    "    '차명',\n",
    "    '차종', \n",
    "    '연료',\n",
    "    '최초연식',\n",
    "    '열화도',\n",
    "    '테이블생성일자'\n",
    "]]"
   ]
  },
  {
   "cell_type": "code",
   "execution_count": 176,
   "metadata": {},
   "outputs": [
    {
     "data": {
      "text/plain": [
       "Index(['EXHST_GAS_CERT_NO', 'INSP_MTHD', 'RVW_SE', 'RPRS_MNFCTR_NM',\n",
       "       'RPRS_VHCNM', 'RPRS_VHCTY_CD', 'RPRS_FUEL', 'FRST_YRIDNW', 'SI',\n",
       "       'LOAD_DT'],\n",
       "      dtype='object')"
      ]
     },
     "execution_count": 176,
     "metadata": {},
     "output_type": "execute_result"
    }
   ],
   "source": [
    "# cdict = {\n",
    "#     '배출가스인증번호':'EXHST_GAS_CERT_NO', \n",
    "#     '검토구분':'RVW_SE', \n",
    "#     '대표제작사명':'RPRS_MNFCTR_NM', \n",
    "#     '대표차명':'RPRS_VHCNM', \n",
    "#     '대표차종':'RPRS_VHCTY_CD', \n",
    "#     '대표차연료':'RPRS_FUEL', \n",
    "#     '최초연식':'FRST_YRIDNW', \n",
    "#     '열화도':'SI', \n",
    "#     '테이블생성일자':'LOAD_DT', \n",
    "#     # '검사방법':'INSP_MTHD', \n",
    "# }\n",
    "cdict = {\n",
    "    '배출가스인증번호':'EXHST_GAS_CERT_NO', \n",
    "    '검사방법':'INSP_MTHD', \n",
    "    '검토구분':'RVW_SE', \n",
    "    '제작사명':'RPRS_MNFCTR_NM', \n",
    "    '차명':'RPRS_VHCNM', \n",
    "    '차종':'RPRS_VHCTY_CD', \n",
    "    '연료':'RPRS_FUEL', \n",
    "    '최초연식':'FRST_YRIDNW', \n",
    "    '열화도':'SI', \n",
    "    '테이블생성일자':'LOAD_DT', \n",
    "}\n",
    "STD_BD_DAT_GRD4_SI = STD_BD_DAT_GRD4_SI.rename(columns=cdict)\n",
    "STD_BD_DAT_GRD4_SI.columns"
   ]
  },
  {
   "cell_type": "markdown",
   "metadata": {},
   "source": [
    "### [출력] STD_BD_DAT_GRD4_SI"
   ]
  },
  {
   "cell_type": "code",
   "execution_count": 446,
   "metadata": {},
   "outputs": [],
   "source": [
    "# expdf = STD_BD_DAT_GRD4_SI\n",
    "# table_nm = 'STD_BD_DAT_GRD4_SI'.upper()\n",
    "\n",
    "# # 테이블 생성\n",
    "# sql = 'create or replace table ' + table_nm + '( \\n'\n",
    "\n",
    "# for idx,column in enumerate(expdf.columns):\n",
    "#     if 'float' in expdf[column].dtype.name:\n",
    "#         sql += column + ' float'\n",
    "#     elif 'int' in expdf[column].dtype.name:\n",
    "#         sql += column + ' number'\n",
    "#     else:\n",
    "#         sql += column + ' varchar(255)'\n",
    "\n",
    "#     if len(expdf.columns) - 1 != idx:\n",
    "#         sql += ','\n",
    "#     sql += '\\n'\n",
    "# sql += ')'    \n",
    "# we.execute(sql)\n",
    "\n",
    "# # 데이터 추가\n",
    "# # 1s\n",
    "# we.import_from_pandas(expdf, table_nm)"
   ]
  },
  {
   "cell_type": "code",
   "execution_count": 447,
   "metadata": {},
   "outputs": [],
   "source": [
    "# # 0s\n",
    "# STD_BD_DAT_GRD4_SI.to_csv(os.path.join(df1_fold, 'STD_BD_DAT_GRD4_SI.csv'), index=False)"
   ]
  },
  {
   "cell_type": "markdown",
   "metadata": {},
   "source": [
    "# code end"
   ]
  }
 ],
 "metadata": {
  "interpreter": {
   "hash": "569b4317022eb29baeafb3d0f1f739310808ea28ce83ca127a35db1c01070585"
  },
  "kernelspec": {
   "display_name": "Python 3 (ipykernel)",
   "language": "python",
   "name": "python3"
  },
  "language_info": {
   "codemirror_mode": {
    "name": "ipython",
    "version": 3
   },
   "file_extension": ".py",
   "mimetype": "text/x-python",
   "name": "python",
   "nbconvert_exporter": "python",
   "pygments_lexer": "ipython3",
   "version": "3.11.4"
  },
  "vscode": {
   "interpreter": {
    "hash": "ad2bdc8ecc057115af97d19610ffacc2b4e99fae6737bb82f5d7fb13d2f2c186"
   }
  }
 },
 "nbformat": 4,
 "nbformat_minor": 4
}
