{
 "cells": [
  {
   "attachments": {},
   "cell_type": "markdown",
   "metadata": {},
   "source": [
    "# 라이브러리"
   ]
  },
  {
   "cell_type": "code",
   "execution_count": 4,
   "metadata": {},
   "outputs": [],
   "source": [
    "import pandas as pd\n",
    "import numpy as np\n",
    "from tqdm import tqdm"
   ]
  },
  {
   "attachments": {},
   "cell_type": "markdown",
   "metadata": {},
   "source": [
    "# 정기/정밀 검사 데이터\n",
    "- 필요한 데이터 일자 : 2019.07.01 ~ 2022.06.30"
   ]
  },
  {
   "attachments": {},
   "cell_type": "markdown",
   "metadata": {},
   "source": [
    "## 정기검사"
   ]
  },
  {
   "cell_type": "code",
   "execution_count": 2,
   "metadata": {},
   "outputs": [
    {
     "data": {
      "text/html": [
       "<div>\n",
       "<style scoped>\n",
       "    .dataframe tbody tr th:only-of-type {\n",
       "        vertical-align: middle;\n",
       "    }\n",
       "\n",
       "    .dataframe tbody tr th {\n",
       "        vertical-align: top;\n",
       "    }\n",
       "\n",
       "    .dataframe thead th {\n",
       "        text-align: right;\n",
       "    }\n",
       "</style>\n",
       "<table border=\"1\" class=\"dataframe\">\n",
       "  <thead>\n",
       "    <tr style=\"text-align: right;\">\n",
       "      <th></th>\n",
       "      <th>검사소명</th>\n",
       "      <th>정기검사일자</th>\n",
       "      <th>검사종류</th>\n",
       "      <th>검사접수번호</th>\n",
       "      <th>통합접수번호</th>\n",
       "      <th>차량번호</th>\n",
       "      <th>차대번호</th>\n",
       "      <th>차량형식번호</th>\n",
       "      <th>차명</th>\n",
       "      <th>차종</th>\n",
       "      <th>...</th>\n",
       "      <th>공기압력</th>\n",
       "      <th>검사판정</th>\n",
       "      <th>재검사기간</th>\n",
       "      <th>검사후 갱신유효기간</th>\n",
       "      <th>관능검사원</th>\n",
       "      <th>배출가스검사원</th>\n",
       "      <th>책임검사원</th>\n",
       "      <th>검사 판정시간</th>\n",
       "      <th>자료구분코드</th>\n",
       "      <th>파일명</th>\n",
       "    </tr>\n",
       "  </thead>\n",
       "  <tbody>\n",
       "  </tbody>\n",
       "</table>\n",
       "<p>0 rows × 63 columns</p>\n",
       "</div>"
      ],
      "text/plain": [
       "Empty DataFrame\n",
       "Columns: [검사소명, 정기검사일자, 검사종류, 검사접수번호, 통합접수번호, 차량번호, 차대번호, 차량형식번호, 차명, 차종, 차량용도, 차량연식, 차량연료, 주행거리, 차량길이, 차량너비, 차량높이, 엔진형식, 배기량, 엔진출력, 차량중량, 총중량, 정원, 비고, 최초등록일자, 제작일자, 검사전 유효기간 만료일, 관능검사판정, 관능부적합항목, 검사방법, 무부하매연측정치1, 무부하매연허용치1, 무부하매연판정1, 무부하매연측정치2, 무부하매연허용치2, 무부하매연판정2, 무부하매연측정치3, 무부하매연허용치3, 무부하매연판정3, 무부하매연측정치4, 무부하매연허용치4, 무부하매연판정4, 무부하매연측정치5, 무부하매연허용치5, 무부하매연판정5, 무부하매연측정치6, 무부하매연허용치6, 무부하매연판정6, 이산화탄소값, 최대출력허용치, 최대출력측정값, 산소값, 공기온도, 공기압력, 검사판정, 재검사기간, 검사후 갱신유효기간, 관능검사원, 배출가스검사원, 책임검사원, 검사 판정시간, 자료구분코드, 파일명]\n",
       "Index: []\n",
       "\n",
       "[0 rows x 63 columns]"
      ]
     },
     "execution_count": 2,
     "metadata": {},
     "output_type": "execute_result"
    }
   ],
   "source": [
    "col_df = pd.read_table('data/정기검사 항목(한글).txt')\n",
    "col_df"
   ]
  },
  {
   "cell_type": "code",
   "execution_count": 3,
   "metadata": {},
   "outputs": [
    {
     "data": {
      "text/plain": [
       "(0, 63)"
      ]
     },
     "execution_count": 3,
     "metadata": {},
     "output_type": "execute_result"
    }
   ],
   "source": [
    "col_df.shape"
   ]
  },
  {
   "cell_type": "code",
   "execution_count": 4,
   "metadata": {},
   "outputs": [
    {
     "data": {
      "text/plain": [
       "Index(['검사소명', '정기검사일자', '검사종류', '검사접수번호', '통합접수번호', '차량번호', '차대번호', '차량형식번호',\n",
       "       '차명', '차종', '차량용도', '차량연식', '차량연료', '주행거리', '차량길이', '차량너비', '차량높이',\n",
       "       '엔진형식', '배기량', '엔진출력', '차량중량', '총중량', '정원', '비고', '최초등록일자', '제작일자',\n",
       "       '검사전 유효기간 만료일', '관능검사판정', '관능부적합항목', '검사방법', '무부하매연측정치1', '무부하매연허용치1',\n",
       "       '무부하매연판정1', '무부하매연측정치2', '무부하매연허용치2', '무부하매연판정2', '무부하매연측정치3',\n",
       "       '무부하매연허용치3', '무부하매연판정3', '무부하매연측정치4', '무부하매연허용치4', '무부하매연판정4',\n",
       "       '무부하매연측정치5', '무부하매연허용치5', '무부하매연판정5', '무부하매연측정치6', '무부하매연허용치6',\n",
       "       '무부하매연판정6', '이산화탄소값', '최대출력허용치', '최대출력측정값', '산소값', '공기온도', '공기압력',\n",
       "       '검사판정', '재검사기간', '검사후 갱신유효기간', '관능검사원', '배출가스검사원', '책임검사원', '검사 판정시간',\n",
       "       '자료구분코드', '파일명'],\n",
       "      dtype='object')"
      ]
     },
     "execution_count": 4,
     "metadata": {},
     "output_type": "execute_result"
    }
   ],
   "source": [
    "col = col_df.columns\n",
    "col"
   ]
  },
  {
   "cell_type": "code",
   "execution_count": 16,
   "metadata": {},
   "outputs": [
    {
     "name": "stderr",
     "output_type": "stream",
     "text": [
      "C:\\Users\\kbjung\\AppData\\Local\\Temp\\ipykernel_14904\\2554287158.py:2: DtypeWarning: Columns (35,38,41,44,47) have mixed types. Specify dtype option on import or set low_memory=False.\n",
      "  df1 = pd.read_table('data/20190601_20210630_정기검사데이터.txt', sep='|', encoding='cp949')\n"
     ]
    },
    {
     "name": "stdout",
     "output_type": "stream",
     "text": [
      "<class 'pandas.core.frame.DataFrame'>\n",
      "RangeIndex: 14324780 entries, 0 to 14324779\n",
      "Data columns (total 63 columns):\n",
      " #   Column             Dtype  \n",
      "---  ------             -----  \n",
      " 0   JG_ORG_NM          object \n",
      " 1   JG_CHK_DATE        int64  \n",
      " 2   JG_CHK_TYPE        object \n",
      " 3   JEBSU_NO           object \n",
      " 4   TO_JEBSU_NO        object \n",
      " 5   CAR_REG_NO         object \n",
      " 6   CAR_SER_NO         object \n",
      " 7   CAR_TYPE           object \n",
      " 8   CAR_NM             object \n",
      " 9   CAR_TYPE_NM        object \n",
      " 10  USAGE              object \n",
      " 11  CAR_YEAR           int64  \n",
      " 12  CAR_FUEL_NM        object \n",
      " 13  CAR_MILE           float64\n",
      " 14  CAR_LENGTH         float64\n",
      " 15  CAR_WIDTH          float64\n",
      " 16  CAR_HEIGHT         float64\n",
      " 17  ENGINE_TYPE        object \n",
      " 18  ENGINE_CAPACITY    float64\n",
      " 19  ENGINE_POWER       object \n",
      " 20  CAR_WEIGHT         float64\n",
      " 21  TOT_WEIGHT         float64\n",
      " 22  CAR_PASSENGER      float64\n",
      " 23  CONT               float64\n",
      " 24  FIRST_REG_DATE     int64  \n",
      " 25  MAKE_DATE          float64\n",
      " 26  EXP_DATE           float64\n",
      " 27  FUN_JUDGE_YN       float64\n",
      " 28  FUN_FAIL_ITEM      float64\n",
      " 29  CHK_METHOD         object \n",
      " 30  UNLOAD_SMO_VAL1    float64\n",
      " 31  UNLOAD_SMO_LIM1    float64\n",
      " 32  UNLOAD_SMO_JUDGE1  object \n",
      " 33  UNLOAD_SMO_VAL2    float64\n",
      " 34  UNLOAD_SMO_LIM2    float64\n",
      " 35  UNLOAD_SMO_JUDGE2  object \n",
      " 36  UNLOAD_SMO_VAL3    float64\n",
      " 37  UNLOAD_SMO_LIM3    float64\n",
      " 38  UNLOAD_SMO_JUDGE3  object \n",
      " 39  UNLOAD_SMO_VAL4    float64\n",
      " 40  UNLOAD_SMO_LIM4    float64\n",
      " 41  UNLOAD_SMO_JUDGE4  object \n",
      " 42  UNLOAD_SMO_VAL5    float64\n",
      " 43  UNLOAD_SMO_LIM5    float64\n",
      " 44  UNLOAD_SMO_JUDGE5  object \n",
      " 45  UNLOAD_SMO_VAL6    float64\n",
      " 46  UNLOAD_SMO_LIM6    float64\n",
      " 47  UNLOAD_SMO_JUDGE6  object \n",
      " 48  CO2_VAL            float64\n",
      " 49  ENGINE_TOR_LIM     float64\n",
      " 50  ENGINE_TOR_VAL     float64\n",
      " 51  O2_VAL             float64\n",
      " 52  AIR_TEMPER         float64\n",
      " 53  AIR_PRESS          float64\n",
      " 54  JUDGE_YN           object \n",
      " 55  RE_CHK_DATE        object \n",
      " 56  CHK_EXP_DATE       object \n",
      " 57  FUN_CHKR_NM        object \n",
      " 58  SMO_CHKR_NM        object \n",
      " 59  MNG_CHKR_NM        object \n",
      " 60  JUDGE_DATE         object \n",
      " 61  DT_GUBUN           object \n",
      " 62  FILE_NM            object \n",
      "dtypes: float64(31), int64(3), object(29)\n",
      "memory usage: 6.7+ GB\n"
     ]
    }
   ],
   "source": [
    "# 10m 48.9s\n",
    "df1 = pd.read_table('data/20190601_20210630_정기검사데이터.txt', sep='|', encoding='cp949')\n",
    "df1.info()"
   ]
  },
  {
   "cell_type": "code",
   "execution_count": 20,
   "metadata": {},
   "outputs": [],
   "source": [
    "df1.columns = col"
   ]
  },
  {
   "cell_type": "code",
   "execution_count": 21,
   "metadata": {},
   "outputs": [
    {
     "data": {
      "text/plain": [
       "Index(['검사소명', '정기검사일자', '검사종류', '검사접수번호', '통합접수번호', '차량번호', '차대번호', '차량형식번호',\n",
       "       '차명', '차종', '차량용도', '차량연식', '차량연료', '주행거리', '차량길이', '차량너비', '차량높이',\n",
       "       '엔진형식', '배기량', '엔진출력', '차량중량', '총중량', '정원', '비고', '최초등록일자', '제작일자',\n",
       "       '검사전 유효기간 만료일', '관능검사판정', '관능부적합항목', '검사방법', '무부하매연측정치1', '무부하매연허용치1',\n",
       "       '무부하매연판정1', '무부하매연측정치2', '무부하매연허용치2', '무부하매연판정2', '무부하매연측정치3',\n",
       "       '무부하매연허용치3', '무부하매연판정3', '무부하매연측정치4', '무부하매연허용치4', '무부하매연판정4',\n",
       "       '무부하매연측정치5', '무부하매연허용치5', '무부하매연판정5', '무부하매연측정치6', '무부하매연허용치6',\n",
       "       '무부하매연판정6', '이산화탄소값', '최대출력허용치', '최대출력측정값', '산소값', '공기온도', '공기압력',\n",
       "       '검사판정', '재검사기간', '검사후 갱신유효기간', '관능검사원', '배출가스검사원', '책임검사원', '검사 판정시간',\n",
       "       '자료구분코드', '파일명'],\n",
       "      dtype='object')"
      ]
     },
     "execution_count": 21,
     "metadata": {},
     "output_type": "execute_result"
    }
   ],
   "source": [
    "df1.columns"
   ]
  },
  {
   "cell_type": "code",
   "execution_count": 22,
   "metadata": {},
   "outputs": [
    {
     "data": {
      "text/plain": [
       "0"
      ]
     },
     "execution_count": 22,
     "metadata": {},
     "output_type": "execute_result"
    }
   ],
   "source": [
    "df1['정기검사일자'].isnull().sum()"
   ]
  },
  {
   "cell_type": "code",
   "execution_count": 24,
   "metadata": {},
   "outputs": [
    {
     "data": {
      "text/plain": [
       "(20190302, 20210630)"
      ]
     },
     "execution_count": 24,
     "metadata": {},
     "output_type": "execute_result"
    }
   ],
   "source": [
    "min(df1['정기검사일자']), max(df1['정기검사일자'])"
   ]
  },
  {
   "cell_type": "code",
   "execution_count": 25,
   "metadata": {},
   "outputs": [
    {
     "data": {
      "text/plain": [
       "(11874368, 63)"
      ]
     },
     "execution_count": 25,
     "metadata": {},
     "output_type": "execute_result"
    }
   ],
   "source": [
    "df1_1 = df1[df1['정기검사일자'] > 20190630]\n",
    "df1_1.shape"
   ]
  },
  {
   "cell_type": "code",
   "execution_count": 26,
   "metadata": {},
   "outputs": [
    {
     "name": "stdout",
     "output_type": "stream",
     "text": [
      "<class 'pandas.core.frame.DataFrame'>\n",
      "RangeIndex: 3864495 entries, 0 to 3864494\n",
      "Data columns (total 63 columns):\n",
      " #   Column        Dtype  \n",
      "---  ------        -----  \n",
      " 0   검사소명          object \n",
      " 1   정기검사일자        int64  \n",
      " 2   검사종류          object \n",
      " 3   검사접수번호        object \n",
      " 4   통합접수번호        object \n",
      " 5   차량번호          object \n",
      " 6   차대번호          object \n",
      " 7   차량형식번호        object \n",
      " 8   차명            object \n",
      " 9   차종            object \n",
      " 10  차량용도          object \n",
      " 11  차량연식          int64  \n",
      " 12  차량연료          object \n",
      " 13  주행거리          float64\n",
      " 14  차량길이          float64\n",
      " 15  차량너비          float64\n",
      " 16  차량높이          float64\n",
      " 17  엔진형식          object \n",
      " 18  배기량           float64\n",
      " 19  엔진출력          object \n",
      " 20  차량중량          float64\n",
      " 21  총중량           float64\n",
      " 22  정원            float64\n",
      " 23  비고            float64\n",
      " 24  최초등록일자        int64  \n",
      " 25  제작일자          float64\n",
      " 26  검사전 유효기간 만료일  int64  \n",
      " 27  관능검사판정        float64\n",
      " 28  관능부적합항목       float64\n",
      " 29  검사방법          object \n",
      " 30  무부하매연측정치1     float64\n",
      " 31  무부하매연허용치1     float64\n",
      " 32  무부하매연판정1      object \n",
      " 33  무부하매연측정치2     float64\n",
      " 34  무부하매연허용치2     float64\n",
      " 35  무부하매연판정2      object \n",
      " 36  무부하매연측정치3     float64\n",
      " 37  무부하매연허용치3     float64\n",
      " 38  무부하매연판정3      object \n",
      " 39  무부하매연측정치4     float64\n",
      " 40  무부하매연허용치4     float64\n",
      " 41  무부하매연판정4      object \n",
      " 42  무부하매연측정치5     float64\n",
      " 43  무부하매연허용치5     float64\n",
      " 44  무부하매연판정5      object \n",
      " 45  무부하매연측정치6     float64\n",
      " 46  무부하매연허용치6     float64\n",
      " 47  무부하매연판정6      object \n",
      " 48  이산화탄소값        float64\n",
      " 49  최대출력허용치       float64\n",
      " 50  최대출력측정값       float64\n",
      " 51  산소값           float64\n",
      " 52  공기온도          float64\n",
      " 53  공기압력          float64\n",
      " 54  검사판정          object \n",
      " 55  재검사기간         object \n",
      " 56  검사후 갱신유효기간    object \n",
      " 57  관능검사원         object \n",
      " 58  배출가스검사원       object \n",
      " 59  책임검사원         object \n",
      " 60  검사 판정시간       object \n",
      " 61  자료구분코드        object \n",
      " 62  파일명           float64\n",
      "dtypes: float64(31), int64(4), object(28)\n",
      "memory usage: 1.8+ GB\n"
     ]
    }
   ],
   "source": [
    "# 52.4s\n",
    "df2 = pd.read_table('data/20210701_20220512_정기검사.txt', names=col, encoding='cp949')\n",
    "df2.info()"
   ]
  },
  {
   "cell_type": "code",
   "execution_count": 27,
   "metadata": {},
   "outputs": [
    {
     "data": {
      "text/plain": [
       "(20210701, 20220430)"
      ]
     },
     "execution_count": 27,
     "metadata": {},
     "output_type": "execute_result"
    }
   ],
   "source": [
    "min(df2['정기검사일자']), max(df2['정기검사일자'])"
   ]
  },
  {
   "cell_type": "code",
   "execution_count": 28,
   "metadata": {},
   "outputs": [
    {
     "name": "stdout",
     "output_type": "stream",
     "text": [
      "<class 'pandas.core.frame.DataFrame'>\n",
      "RangeIndex: 796614 entries, 0 to 796613\n",
      "Data columns (total 62 columns):\n",
      " #   Column        Non-Null Count   Dtype  \n",
      "---  ------        --------------   -----  \n",
      " 0   검사소명          796614 non-null  object \n",
      " 1   정기검사일자        796614 non-null  int64  \n",
      " 2   검사종류          796614 non-null  object \n",
      " 3   검사접수번호        796614 non-null  object \n",
      " 4   통합접수번호        796614 non-null  object \n",
      " 5   차량번호          796614 non-null  object \n",
      " 6   차대번호          796614 non-null  object \n",
      " 7   차량형식번호        796614 non-null  object \n",
      " 8   차명            796614 non-null  object \n",
      " 9   차종            796614 non-null  object \n",
      " 10  차량용도          796614 non-null  object \n",
      " 11  차량연식          796614 non-null  int64  \n",
      " 12  차량연료          787770 non-null  object \n",
      " 13  주행거리          795049 non-null  float64\n",
      " 14  차량길이          796614 non-null  int64  \n",
      " 15  차량너비          796614 non-null  int64  \n",
      " 16  차량높이          796614 non-null  int64  \n",
      " 17  엔진형식          793439 non-null  object \n",
      " 18  배기량           788793 non-null  float64\n",
      " 19  엔진출력          796614 non-null  object \n",
      " 20  차량중량          796613 non-null  float64\n",
      " 21  총중량           796614 non-null  int64  \n",
      " 22  정원            796611 non-null  float64\n",
      " 23  비고            0 non-null       float64\n",
      " 24  최초등록일자        796614 non-null  int64  \n",
      " 25  제작일자          794689 non-null  float64\n",
      " 26  검사전 유효기간 만료일  796614 non-null  int64  \n",
      " 27  관능검사판정        0 non-null       float64\n",
      " 28  관능부적합항목       0 non-null       float64\n",
      " 29  검사방법          796614 non-null  object \n",
      " 30  무부하매연측정치1     721619 non-null  float64\n",
      " 31  무부하매연허용치1     721619 non-null  float64\n",
      " 32  무부하매연판정1      721619 non-null  object \n",
      " 33  무부하매연측정치2     269477 non-null  float64\n",
      " 34  무부하매연허용치2     269477 non-null  float64\n",
      " 35  무부하매연판정2      269477 non-null  object \n",
      " 36  무부하매연측정치3     269477 non-null  float64\n",
      " 37  무부하매연허용치3     269475 non-null  float64\n",
      " 38  무부하매연판정3      269475 non-null  object \n",
      " 39  무부하매연측정치4     217140 non-null  float64\n",
      " 40  무부하매연허용치4     217140 non-null  float64\n",
      " 41  무부하매연판정4      217140 non-null  object \n",
      " 42  무부하매연측정치5     217140 non-null  float64\n",
      " 43  무부하매연허용치5     217140 non-null  float64\n",
      " 44  무부하매연판정5      217140 non-null  object \n",
      " 45  무부하매연측정치6     217140 non-null  float64\n",
      " 46  무부하매연허용치6     217140 non-null  float64\n",
      " 47  무부하매연판정6      217140 non-null  object \n",
      " 48  이산화탄소값        268721 non-null  float64\n",
      " 49  최대출력허용치       0 non-null       float64\n",
      " 50  최대출력측정값       0 non-null       float64\n",
      " 51  산소값           228967 non-null  float64\n",
      " 52  공기온도          0 non-null       float64\n",
      " 53  공기압력          0 non-null       float64\n",
      " 54  검사판정          796614 non-null  object \n",
      " 55  재검사기간         796614 non-null  object \n",
      " 56  검사후 갱신유효기간    796614 non-null  object \n",
      " 57  관능검사원         739778 non-null  object \n",
      " 58  배출가스검사원       737711 non-null  object \n",
      " 59  책임검사원         743526 non-null  object \n",
      " 60  검사 판정시간       796614 non-null  object \n",
      " 61  자료구분코드        796614 non-null  object \n",
      "dtypes: float64(26), int64(8), object(28)\n",
      "memory usage: 376.8+ MB\n"
     ]
    }
   ],
   "source": [
    "# 13.2s\n",
    "df3 = pd.read_csv('data/220819_정기검사.csv', encoding='cp949')\n",
    "df3.info()"
   ]
  },
  {
   "cell_type": "code",
   "execution_count": 29,
   "metadata": {},
   "outputs": [
    {
     "data": {
      "text/plain": [
       "(20220502, 20220630)"
      ]
     },
     "execution_count": 29,
     "metadata": {},
     "output_type": "execute_result"
    }
   ],
   "source": [
    "min(df3['정기검사일자']), max(df3['정기검사일자'])"
   ]
  },
  {
   "attachments": {},
   "cell_type": "markdown",
   "metadata": {},
   "source": [
    "### 파일 합치기"
   ]
  },
  {
   "cell_type": "code",
   "execution_count": 30,
   "metadata": {},
   "outputs": [
    {
     "data": {
      "text/plain": [
       "((11874368, 63), (3864495, 63), (796614, 62))"
      ]
     },
     "execution_count": 30,
     "metadata": {},
     "output_type": "execute_result"
    }
   ],
   "source": [
    "df1_1.shape, df2.shape, df3.shape"
   ]
  },
  {
   "cell_type": "code",
   "execution_count": 31,
   "metadata": {},
   "outputs": [
    {
     "data": {
      "text/plain": [
       "16535477"
      ]
     },
     "execution_count": 31,
     "metadata": {},
     "output_type": "execute_result"
    }
   ],
   "source": [
    "df1_1.shape[0] + df2.shape[0] + df3.shape[0]"
   ]
  },
  {
   "cell_type": "code",
   "execution_count": 35,
   "metadata": {},
   "outputs": [
    {
     "data": {
      "text/plain": [
       "(16535477, 63)"
      ]
     },
     "execution_count": 35,
     "metadata": {},
     "output_type": "execute_result"
    }
   ],
   "source": [
    "total = pd.concat([df1_1, df2, df3], ignore_index=True)\n",
    "total.shape"
   ]
  },
  {
   "cell_type": "code",
   "execution_count": 36,
   "metadata": {},
   "outputs": [
    {
     "data": {
      "text/plain": [
       "True"
      ]
     },
     "execution_count": 36,
     "metadata": {},
     "output_type": "execute_result"
    }
   ],
   "source": [
    "df1_1.shape[0] + df2.shape[0] + df3.shape[0] == total.shape[0]"
   ]
  },
  {
   "attachments": {},
   "cell_type": "markdown",
   "metadata": {},
   "source": [
    "### 3년치 정기 검사 데이터 출력"
   ]
  },
  {
   "cell_type": "code",
   "execution_count": 37,
   "metadata": {},
   "outputs": [],
   "source": [
    "# 10m 24.9s\n",
    "total.to_csv('data/20190701_20220630_정기검사데이터.csv')"
   ]
  },
  {
   "attachments": {},
   "cell_type": "markdown",
   "metadata": {},
   "source": [
    "## 정밀검사"
   ]
  },
  {
   "cell_type": "code",
   "execution_count": 5,
   "metadata": {},
   "outputs": [
    {
     "data": {
      "text/html": [
       "<div>\n",
       "<style scoped>\n",
       "    .dataframe tbody tr th:only-of-type {\n",
       "        vertical-align: middle;\n",
       "    }\n",
       "\n",
       "    .dataframe tbody tr th {\n",
       "        vertical-align: top;\n",
       "    }\n",
       "\n",
       "    .dataframe thead th {\n",
       "        text-align: right;\n",
       "    }\n",
       "</style>\n",
       "<table border=\"1\" class=\"dataframe\">\n",
       "  <thead>\n",
       "    <tr style=\"text-align: right;\">\n",
       "      <th></th>\n",
       "      <th>정밀검사소명</th>\n",
       "      <th>정밀검사일자</th>\n",
       "      <th>정밀검사종류</th>\n",
       "      <th>정밀검사접수번호</th>\n",
       "      <th>차량번호</th>\n",
       "      <th>차대번호</th>\n",
       "      <th>차량형식번호</th>\n",
       "      <th>차명</th>\n",
       "      <th>차종</th>\n",
       "      <th>차량용도</th>\n",
       "      <th>...</th>\n",
       "      <th>무부하매연허용치6</th>\n",
       "      <th>무부하매연판정6</th>\n",
       "      <th>수신파일명</th>\n",
       "      <th>제작등록일자</th>\n",
       "      <th>데이터구분</th>\n",
       "      <th>삭제구분</th>\n",
       "      <th>삭제사유1</th>\n",
       "      <th>삭제사유2</th>\n",
       "      <th>삭제사유3</th>\n",
       "      <th>삭제사유4</th>\n",
       "    </tr>\n",
       "  </thead>\n",
       "  <tbody>\n",
       "  </tbody>\n",
       "</table>\n",
       "<p>0 rows × 75 columns</p>\n",
       "</div>"
      ],
      "text/plain": [
       "Empty DataFrame\n",
       "Columns: [정밀검사소명, 정밀검사일자, 정밀검사종류, 정밀검사접수번호, 차량번호, 차대번호, 차량형식번호, 차명, 차종, 차량용도, 차량연식, 차량연료, 주행거리, 차량길이, 차량너비, 차량높이, 엔진형식, 원동기배기량, 엔진출력, 차량중량, 총중량, 정원, 비고, 최초등록일, 정밀검사유효기간, 관능검사판정, 관능검사부적합내용, 정밀검사측정방법, 무부하매연측정치1, 무부하매연허용치1, 무부하매연판정1, 무부하매연측정치2, 무부하매연허용치2, 무부하매연판정2, 무부하매연측정치3, 무부하매연허용치3, 무부하매연판정3, 무부하매연측정치4, 무부하매연허용치4, 무부하매연판정4, 무부하매연측정치5, 무부하매연허용치5, 무부하매연판정5, 이산화탄소값, 최대출력허용치, 최대출력측정값, 산소값, 공기온도, 공기압력, 정밀검사판정, 재검사기간, 정밀검사유효기간2, 관능검사등록자, 정밀검사등록자, 정밀검사소대표명, 기타내용1, 기타내용2, 기타내용3, 기타내용4, 기타내용5, 원본대장테이블, 정밀검사시간정보, 통합접수번호, 데이터생성일자, 무부하매연측정치6, 무부하매연허용치6, 무부하매연판정6, 수신파일명, 제작등록일자, 데이터구분, 삭제구분, 삭제사유1, 삭제사유2, 삭제사유3, 삭제사유4]\n",
       "Index: []\n",
       "\n",
       "[0 rows x 75 columns]"
      ]
     },
     "execution_count": 5,
     "metadata": {},
     "output_type": "execute_result"
    }
   ],
   "source": [
    "col_df2 = pd.read_table('data/[정밀검사]컬럼.txt', encoding='cp949')\n",
    "col_df2"
   ]
  },
  {
   "cell_type": "code",
   "execution_count": 6,
   "metadata": {},
   "outputs": [
    {
     "data": {
      "text/plain": [
       "Index(['정밀검사소명', '정밀검사일자', '정밀검사종류', '정밀검사접수번호', '차량번호', '차대번호', '차량형식번호',\n",
       "       '차명', '차종', '차량용도', '차량연식', '차량연료', '주행거리', '차량길이', '차량너비', '차량높이',\n",
       "       '엔진형식', '원동기배기량', '엔진출력', '차량중량', '총중량', '정원', '비고', '최초등록일',\n",
       "       '정밀검사유효기간', '관능검사판정', '관능검사부적합내용', '정밀검사측정방법', '무부하매연측정치1', '무부하매연허용치1',\n",
       "       '무부하매연판정1', '무부하매연측정치2', '무부하매연허용치2', '무부하매연판정2', '무부하매연측정치3',\n",
       "       '무부하매연허용치3', '무부하매연판정3', '무부하매연측정치4', '무부하매연허용치4', '무부하매연판정4',\n",
       "       '무부하매연측정치5', '무부하매연허용치5', '무부하매연판정5', '이산화탄소값', '최대출력허용치', '최대출력측정값',\n",
       "       '산소값', '공기온도', '공기압력', '정밀검사판정', '재검사기간', '정밀검사유효기간2', '관능검사등록자',\n",
       "       '정밀검사등록자', '정밀검사소대표명', '기타내용1', '기타내용2', '기타내용3', '기타내용4', '기타내용5',\n",
       "       '원본대장테이블', '정밀검사시간정보', '통합접수번호', '데이터생성일자', '무부하매연측정치6', '무부하매연허용치6',\n",
       "       '무부하매연판정6', '수신파일명', '제작등록일자', '데이터구분', '삭제구분', '삭제사유1', '삭제사유2',\n",
       "       '삭제사유3', '삭제사유4'],\n",
       "      dtype='object')"
      ]
     },
     "execution_count": 6,
     "metadata": {},
     "output_type": "execute_result"
    }
   ],
   "source": [
    "col = col_df2.columns\n",
    "col"
   ]
  },
  {
   "cell_type": "code",
   "execution_count": 8,
   "metadata": {},
   "outputs": [
    {
     "name": "stderr",
     "output_type": "stream",
     "text": [
      "C:\\Users\\kbjung\\AppData\\Local\\Temp\\ipykernel_3420\\3706621383.py:2: DtypeWarning: Columns (12,72,73) have mixed types. Specify dtype option on import or set low_memory=False.\n",
      "  df1 = pd.read_table('data/[정밀검사]20190701_20200630.txt', encoding='cp949')\n"
     ]
    },
    {
     "name": "stdout",
     "output_type": "stream",
     "text": [
      "<class 'pandas.core.frame.DataFrame'>\n",
      "RangeIndex: 5886042 entries, 0 to 5886041\n",
      "Data columns (total 75 columns):\n",
      " #   Column     Dtype  \n",
      "---  ------     -----  \n",
      " 0   정밀검사소명     object \n",
      " 1   정밀검사일자     int64  \n",
      " 2   정밀검사종류     object \n",
      " 3   정밀검사접수번호   object \n",
      " 4   차량번호       object \n",
      " 5   차대번호       object \n",
      " 6   차량형식번호     object \n",
      " 7   차명         object \n",
      " 8   차종         object \n",
      " 9   차량용도       object \n",
      " 10  차량연식       int64  \n",
      " 11  차량연료       object \n",
      " 12  주행거리       object \n",
      " 13  차량길이       float64\n",
      " 14  차량너비       float64\n",
      " 15  차량높이       float64\n",
      " 16  엔진형식       object \n",
      " 17  원동기배기량     float64\n",
      " 18  엔진출력       object \n",
      " 19  차량중량       float64\n",
      " 20  총중량        float64\n",
      " 21  정원         float64\n",
      " 22  비고         object \n",
      " 23  최초등록일      int64  \n",
      " 24  정밀검사유효기간   float64\n",
      " 25  관능검사판정     object \n",
      " 26  관능검사부적합내용  object \n",
      " 27  정밀검사측정방법   object \n",
      " 28  무부하매연측정치1  float64\n",
      " 29  무부하매연허용치1  float64\n",
      " 30  무부하매연판정1   object \n",
      " 31  무부하매연측정치2  float64\n",
      " 32  무부하매연허용치2  float64\n",
      " 33  무부하매연판정2   object \n",
      " 34  무부하매연측정치3  float64\n",
      " 35  무부하매연허용치3  float64\n",
      " 36  무부하매연판정3   object \n",
      " 37  무부하매연측정치4  float64\n",
      " 38  무부하매연허용치4  float64\n",
      " 39  무부하매연판정4   object \n",
      " 40  무부하매연측정치5  float64\n",
      " 41  무부하매연허용치5  float64\n",
      " 42  무부하매연판정5   object \n",
      " 43  무부하매연측정치6  float64\n",
      " 44  무부하매연허용치6  float64\n",
      " 45  무부하매연판정6   object \n",
      " 46  이산화탄소값     float64\n",
      " 47  최대출력허용치    float64\n",
      " 48  최대출력측정값    float64\n",
      " 49  산소값        float64\n",
      " 50  공기온도       float64\n",
      " 51  공기압력       float64\n",
      " 52  정밀검사판정     object \n",
      " 53  재검사기간      object \n",
      " 54  정밀검사유효기간2  object \n",
      " 55  관능검사등록자    object \n",
      " 56  정밀검사등록자    object \n",
      " 57  정밀검사소대표명   object \n",
      " 58  기타내용1      float64\n",
      " 59  기타내용2      float64\n",
      " 60  기타내용3      float64\n",
      " 61  기타내용4      float64\n",
      " 62  기타내용5      float64\n",
      " 63  원본대장테이블    float64\n",
      " 64  정밀검사시간정보   object \n",
      " 65  통합접수번호     object \n",
      " 66  데이터생성일자    int64  \n",
      " 67  수신파일명      object \n",
      " 68  제작등록일자     float64\n",
      " 69  데이터구분      object \n",
      " 70  삭제구분       object \n",
      " 71  삭제사유1      float64\n",
      " 72  삭제사유2      object \n",
      " 73  삭제사유3      object \n",
      " 74  삭제사유4      float64\n",
      "dtypes: float64(35), int64(4), object(36)\n",
      "memory usage: 3.3+ GB\n"
     ]
    }
   ],
   "source": [
    "# 1m 28.4s\n",
    "df1 = pd.read_table('data/[정밀검사]20190701_20200630.txt', encoding='cp949')\n",
    "df1.info()"
   ]
  },
  {
   "cell_type": "code",
   "execution_count": 9,
   "metadata": {},
   "outputs": [
    {
     "name": "stderr",
     "output_type": "stream",
     "text": [
      "C:\\Users\\kbjung\\AppData\\Local\\Temp\\ipykernel_3420\\1389352089.py:2: DtypeWarning: Columns (12,72,73) have mixed types. Specify dtype option on import or set low_memory=False.\n",
      "  df2 = pd.read_table('data/[정밀검사]20200701_20210630.txt', sep='|', encoding='cp949')\n"
     ]
    },
    {
     "name": "stdout",
     "output_type": "stream",
     "text": [
      "<class 'pandas.core.frame.DataFrame'>\n",
      "RangeIndex: 8029394 entries, 0 to 8029393\n",
      "Data columns (total 75 columns):\n",
      " #   Column     Dtype  \n",
      "---  ------     -----  \n",
      " 0   정밀검사소명     object \n",
      " 1   정밀검사일자     int64  \n",
      " 2   정밀검사종류     object \n",
      " 3   정밀검사접수번호   object \n",
      " 4   차량번호       object \n",
      " 5   차대번호       object \n",
      " 6   차량형식번호     object \n",
      " 7   차명         object \n",
      " 8   차종         object \n",
      " 9   차량용도       object \n",
      " 10  차량연식       int64  \n",
      " 11  차량연료       object \n",
      " 12  주행거리       object \n",
      " 13  차량길이       float64\n",
      " 14  차량너비       float64\n",
      " 15  차량높이       float64\n",
      " 16  엔진형식       object \n",
      " 17  원동기배기량     float64\n",
      " 18  엔진출력       object \n",
      " 19  차량중량       float64\n",
      " 20  총중량        float64\n",
      " 21  정원         float64\n",
      " 22  비고         object \n",
      " 23  최초등록일      int64  \n",
      " 24  정밀검사유효기간   int64  \n",
      " 25  관능검사판정     object \n",
      " 26  관능검사부적합내용  object \n",
      " 27  정밀검사측정방법   object \n",
      " 28  무부하매연측정치1  float64\n",
      " 29  무부하매연허용치1  float64\n",
      " 30  무부하매연판정1   object \n",
      " 31  무부하매연측정치2  float64\n",
      " 32  무부하매연허용치2  float64\n",
      " 33  무부하매연판정2   object \n",
      " 34  무부하매연측정치3  float64\n",
      " 35  무부하매연허용치3  float64\n",
      " 36  무부하매연판정3   object \n",
      " 37  무부하매연측정치4  float64\n",
      " 38  무부하매연허용치4  float64\n",
      " 39  무부하매연판정4   object \n",
      " 40  무부하매연측정치5  float64\n",
      " 41  무부하매연허용치5  float64\n",
      " 42  무부하매연판정5   object \n",
      " 43  이산화탄소값     float64\n",
      " 44  최대출력허용치    float64\n",
      " 45  최대출력측정값    float64\n",
      " 46  산소값        float64\n",
      " 47  공기온도       float64\n",
      " 48  공기압력       float64\n",
      " 49  정밀검사판정     object \n",
      " 50  재검사기간      object \n",
      " 51  정밀검사유효기간2  object \n",
      " 52  관능검사등록자    object \n",
      " 53  정밀검사등록자    object \n",
      " 54  정밀검사소대표명   object \n",
      " 55  기타내용1      float64\n",
      " 56  기타내용2      float64\n",
      " 57  기타내용3      float64\n",
      " 58  기타내용4      float64\n",
      " 59  기타내용5      float64\n",
      " 60  원본대장테이블    float64\n",
      " 61  정밀검사시간정보   object \n",
      " 62  통합접수번호     object \n",
      " 63  데이터생성일자    int64  \n",
      " 64  무부하매연측정치6  float64\n",
      " 65  무부하매연허용치6  float64\n",
      " 66  무부하매연판정6   object \n",
      " 67  수신파일명      object \n",
      " 68  제작등록일자     float64\n",
      " 69  데이터구분      object \n",
      " 70  삭제구분       object \n",
      " 71  삭제사유1      float64\n",
      " 72  삭제사유2      object \n",
      " 73  삭제사유3      object \n",
      " 74  삭제사유4      float64\n",
      "dtypes: float64(34), int64(5), object(36)\n",
      "memory usage: 4.5+ GB\n"
     ]
    }
   ],
   "source": [
    "# 2m 11.7s\n",
    "df2 = pd.read_table('data/[정밀검사]20200701_20210630.txt', sep='|', encoding='cp949')\n",
    "df2.info()"
   ]
  },
  {
   "cell_type": "code",
   "execution_count": 13,
   "metadata": {},
   "outputs": [
    {
     "name": "stderr",
     "output_type": "stream",
     "text": [
      "C:\\Users\\kbjung\\AppData\\Local\\Temp\\ipykernel_3420\\3316262129.py:2: DtypeWarning: Columns (12,72,73) have mixed types. Specify dtype option on import or set low_memory=False.\n",
      "  df3 = pd.read_table('data/[정밀검사]20210701_20220512.txt', encoding='cp949', names=col)\n"
     ]
    },
    {
     "name": "stdout",
     "output_type": "stream",
     "text": [
      "<class 'pandas.core.frame.DataFrame'>\n",
      "RangeIndex: 7037699 entries, 0 to 7037698\n",
      "Data columns (total 75 columns):\n",
      " #   Column     Dtype  \n",
      "---  ------     -----  \n",
      " 0   정밀검사소명     object \n",
      " 1   정밀검사일자     int64  \n",
      " 2   정밀검사종류     object \n",
      " 3   정밀검사접수번호   object \n",
      " 4   차량번호       object \n",
      " 5   차대번호       object \n",
      " 6   차량형식번호     object \n",
      " 7   차명         object \n",
      " 8   차종         object \n",
      " 9   차량용도       object \n",
      " 10  차량연식       int64  \n",
      " 11  차량연료       object \n",
      " 12  주행거리       object \n",
      " 13  차량길이       float64\n",
      " 14  차량너비       float64\n",
      " 15  차량높이       float64\n",
      " 16  엔진형식       object \n",
      " 17  원동기배기량     float64\n",
      " 18  엔진출력       object \n",
      " 19  차량중량       float64\n",
      " 20  총중량        float64\n",
      " 21  정원         float64\n",
      " 22  비고         object \n",
      " 23  최초등록일      int64  \n",
      " 24  정밀검사유효기간   int64  \n",
      " 25  관능검사판정     object \n",
      " 26  관능검사부적합내용  object \n",
      " 27  정밀검사측정방법   object \n",
      " 28  무부하매연측정치1  float64\n",
      " 29  무부하매연허용치1  float64\n",
      " 30  무부하매연판정1   object \n",
      " 31  무부하매연측정치2  float64\n",
      " 32  무부하매연허용치2  float64\n",
      " 33  무부하매연판정2   object \n",
      " 34  무부하매연측정치3  float64\n",
      " 35  무부하매연허용치3  float64\n",
      " 36  무부하매연판정3   object \n",
      " 37  무부하매연측정치4  float64\n",
      " 38  무부하매연허용치4  float64\n",
      " 39  무부하매연판정4   object \n",
      " 40  무부하매연측정치5  float64\n",
      " 41  무부하매연허용치5  float64\n",
      " 42  무부하매연판정5   object \n",
      " 43  이산화탄소값     float64\n",
      " 44  최대출력허용치    float64\n",
      " 45  최대출력측정값    object \n",
      " 46  산소값        float64\n",
      " 47  공기온도       float64\n",
      " 48  공기압력       float64\n",
      " 49  정밀검사판정     float64\n",
      " 50  재검사기간      float64\n",
      " 51  정밀검사유효기간2  float64\n",
      " 52  관능검사등록자    object \n",
      " 53  정밀검사등록자    object \n",
      " 54  정밀검사소대표명   object \n",
      " 55  기타내용1      object \n",
      " 56  기타내용2      object \n",
      " 57  기타내용3      object \n",
      " 58  기타내용4      float64\n",
      " 59  기타내용5      float64\n",
      " 60  원본대장테이블    float64\n",
      " 61  정밀검사시간정보   float64\n",
      " 62  통합접수번호     float64\n",
      " 63  데이터생성일자    float64\n",
      " 64  무부하매연측정치6  object \n",
      " 65  무부하매연허용치6  object \n",
      " 66  무부하매연판정6   int64  \n",
      " 67  수신파일명      object \n",
      " 68  제작등록일자     float64\n",
      " 69  데이터구분      object \n",
      " 70  삭제구분       object \n",
      " 71  삭제사유1      float64\n",
      " 72  삭제사유2      object \n",
      " 73  삭제사유3      object \n",
      " 74  삭제사유4      float64\n",
      "dtypes: float64(34), int64(5), object(36)\n",
      "memory usage: 3.9+ GB\n"
     ]
    }
   ],
   "source": [
    "# 2m 21.3s\n",
    "df3 = pd.read_table('data/[정밀검사]20210701_20220512.txt', encoding='cp949', names=col)\n",
    "df3.info()"
   ]
  },
  {
   "cell_type": "code",
   "execution_count": 12,
   "metadata": {},
   "outputs": [
    {
     "name": "stderr",
     "output_type": "stream",
     "text": [
      "C:\\Users\\kbjung\\AppData\\Local\\Temp\\ipykernel_3420\\847798072.py:2: DtypeWarning: Columns (12,72,73) have mixed types. Specify dtype option on import or set low_memory=False.\n",
      "  df4 = pd.read_table('data/[정밀검사]20220513_20220630.txt', encoding='cp949', names=col)\n"
     ]
    },
    {
     "name": "stdout",
     "output_type": "stream",
     "text": [
      "<class 'pandas.core.frame.DataFrame'>\n",
      "RangeIndex: 1444208 entries, 0 to 1444207\n",
      "Data columns (total 75 columns):\n",
      " #   Column     Non-Null Count    Dtype  \n",
      "---  ------     --------------    -----  \n",
      " 0   정밀검사소명     1444208 non-null  object \n",
      " 1   정밀검사일자     1444208 non-null  int64  \n",
      " 2   정밀검사종류     1444208 non-null  object \n",
      " 3   정밀검사접수번호   1444208 non-null  object \n",
      " 4   차량번호       1444208 non-null  object \n",
      " 5   차대번호       1444208 non-null  object \n",
      " 6   차량형식번호     1444208 non-null  object \n",
      " 7   차명         1444208 non-null  object \n",
      " 8   차종         1444208 non-null  object \n",
      " 9   차량용도       1444208 non-null  object \n",
      " 10  차량연식       1444208 non-null  int64  \n",
      " 11  차량연료       1444208 non-null  object \n",
      " 12  주행거리       1444208 non-null  object \n",
      " 13  차량길이       1443935 non-null  float64\n",
      " 14  차량너비       1443935 non-null  float64\n",
      " 15  차량높이       1443935 non-null  float64\n",
      " 16  엔진형식       1444198 non-null  object \n",
      " 17  원동기배기량     1443935 non-null  float64\n",
      " 18  엔진출력       1444207 non-null  object \n",
      " 19  차량중량       1443935 non-null  float64\n",
      " 20  총중량        1443934 non-null  float64\n",
      " 21  정원         1443934 non-null  float64\n",
      " 22  비고         99302 non-null    object \n",
      " 23  최초등록일      1444208 non-null  int64  \n",
      " 24  정밀검사유효기간   1444208 non-null  int64  \n",
      " 25  관능검사판정     1444208 non-null  object \n",
      " 26  관능검사부적합내용  30228 non-null    object \n",
      " 27  정밀검사측정방법   1444208 non-null  object \n",
      " 28  무부하매연측정치1  1411554 non-null  float64\n",
      " 29  무부하매연허용치1  1411538 non-null  float64\n",
      " 30  무부하매연판정1   1411534 non-null  object \n",
      " 31  무부하매연측정치2  1074609 non-null  float64\n",
      " 32  무부하매연허용치2  1033948 non-null  float64\n",
      " 33  무부하매연판정2   802563 non-null   object \n",
      " 34  무부하매연측정치3  1016832 non-null  float64\n",
      " 35  무부하매연허용치3  1016822 non-null  float64\n",
      " 36  무부하매연판정3   774684 non-null   object \n",
      " 37  무부하매연측정치4  1016823 non-null  float64\n",
      " 38  무부하매연허용치4  1016813 non-null  float64\n",
      " 39  무부하매연판정4   774356 non-null   object \n",
      " 40  무부하매연측정치5  1016823 non-null  float64\n",
      " 41  무부하매연허용치5  1016813 non-null  float64\n",
      " 42  무부하매연판정5   774356 non-null   object \n",
      " 43  이산화탄소값     973592 non-null   float64\n",
      " 44  최대출력허용치    973588 non-null   float64\n",
      " 45  최대출력측정값    711699 non-null   object \n",
      " 46  산소값        1353635 non-null  float64\n",
      " 47  공기온도       397102 non-null   float64\n",
      " 48  공기압력       0 non-null        float64\n",
      " 49  정밀검사판정     1353635 non-null  float64\n",
      " 50  재검사기간      1359549 non-null  float64\n",
      " 51  정밀검사유효기간2  1359549 non-null  float64\n",
      " 52  관능검사등록자    1444208 non-null  object \n",
      " 53  정밀검사등록자    1444208 non-null  object \n",
      " 54  정밀검사소대표명   1444208 non-null  object \n",
      " 55  기타내용1      1443420 non-null  object \n",
      " 56  기타내용2      1411095 non-null  object \n",
      " 57  기타내용3      1311155 non-null  object \n",
      " 58  기타내용4      0 non-null        float64\n",
      " 59  기타내용5      0 non-null        float64\n",
      " 60  원본대장테이블    0 non-null        float64\n",
      " 61  정밀검사시간정보   0 non-null        float64\n",
      " 62  통합접수번호     0 non-null        float64\n",
      " 63  데이터생성일자    0 non-null        float64\n",
      " 64  무부하매연측정치6  1411554 non-null  object \n",
      " 65  무부하매연허용치6  1444208 non-null  object \n",
      " 66  무부하매연판정6   1444208 non-null  int64  \n",
      " 67  수신파일명      1444208 non-null  object \n",
      " 68  제작등록일자     1442382 non-null  float64\n",
      " 69  데이터구분      1444208 non-null  object \n",
      " 70  삭제구분       1444208 non-null  object \n",
      " 71  삭제사유1      0 non-null        float64\n",
      " 72  삭제사유2      7 non-null        object \n",
      " 73  삭제사유3      274 non-null      object \n",
      " 74  삭제사유4      0 non-null        float64\n",
      "dtypes: float64(34), int64(5), object(36)\n",
      "memory usage: 826.4+ MB\n"
     ]
    }
   ],
   "source": [
    "# 28.3s\n",
    "df4 = pd.read_table('data/[정밀검사]20220513_20220630.txt', encoding='cp949', names=col)\n",
    "df4.info()"
   ]
  },
  {
   "cell_type": "code",
   "execution_count": 14,
   "metadata": {},
   "outputs": [],
   "source": [
    "total2 = pd.concat([df1, df2, df3, df4], ignore_index=True)"
   ]
  },
  {
   "cell_type": "code",
   "execution_count": 15,
   "metadata": {},
   "outputs": [
    {
     "data": {
      "text/plain": [
       "True"
      ]
     },
     "execution_count": 15,
     "metadata": {},
     "output_type": "execute_result"
    }
   ],
   "source": [
    "df1.shape[0] + df2.shape[0] + df3.shape[0] + df4.shape[0] == total2.shape[0]"
   ]
  },
  {
   "cell_type": "code",
   "execution_count": 16,
   "metadata": {},
   "outputs": [],
   "source": [
    "# 13m 21.9s\n",
    "total2.to_csv('data/[정밀검사]20190701_20220630.csv')"
   ]
  },
  {
   "cell_type": "code",
   "execution_count": null,
   "metadata": {},
   "outputs": [],
   "source": []
  }
 ],
 "metadata": {
  "kernelspec": {
   "display_name": "base",
   "language": "python",
   "name": "python3"
  },
  "language_info": {
   "codemirror_mode": {
    "name": "ipython",
    "version": 3
   },
   "file_extension": ".py",
   "mimetype": "text/x-python",
   "name": "python",
   "nbconvert_exporter": "python",
   "pygments_lexer": "ipython3",
   "version": "3.9.13"
  },
  "orig_nbformat": 4,
  "vscode": {
   "interpreter": {
    "hash": "ad2bdc8ecc057115af97d19610ffacc2b4e99fae6737bb82f5d7fb13d2f2c186"
   }
  }
 },
 "nbformat": 4,
 "nbformat_minor": 2
}
