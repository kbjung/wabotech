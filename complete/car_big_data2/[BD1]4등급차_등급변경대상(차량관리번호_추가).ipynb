{
 "cells": [
  {
   "attachments": {},
   "cell_type": "markdown",
   "metadata": {},
   "source": [
    "# Library"
   ]
  },
  {
   "cell_type": "code",
   "execution_count": 1,
   "metadata": {},
   "outputs": [],
   "source": [
    "import pandas as pd\n",
    "import os"
   ]
  },
  {
   "attachments": {},
   "cell_type": "markdown",
   "metadata": {},
   "source": [
    "# fold"
   ]
  },
  {
   "cell_type": "code",
   "execution_count": 3,
   "metadata": {},
   "outputs": [],
   "source": [
    "raw1_fold = 'D:/data/big2/BD1/raw'\n",
    "ods_fold = 'D:/data/big2/ODS'"
   ]
  },
  {
   "attachments": {},
   "cell_type": "markdown",
   "metadata": {},
   "source": [
    "# 4등급 등급변경필요건(최종)_230523"
   ]
  },
  {
   "cell_type": "code",
   "execution_count": 15,
   "metadata": {},
   "outputs": [
    {
     "name": "stdout",
     "output_type": "stream",
     "text": [
      "<class 'pandas.core.frame.DataFrame'>\n",
      "RangeIndex: 2539 entries, 0 to 2538\n",
      "Data columns (total 38 columns):\n",
      " #   Column           Non-Null Count  Dtype  \n",
      "---  ------           --------------  -----  \n",
      " 0   차대번호             2539 non-null   object \n",
      " 1   차량번호             2539 non-null   object \n",
      " 2   제원관리번호           2539 non-null   object \n",
      " 3   차종               2539 non-null   object \n",
      " 4   용도               2539 non-null   object \n",
      " 5   최초등록일            2539 non-null   int64  \n",
      " 6   연식               2539 non-null   int64  \n",
      " 7   제작일자             2536 non-null   float64\n",
      " 8   검사유효일            2539 non-null   int64  \n",
      " 9   배출가스인증번호         2514 non-null   object \n",
      " 10  등급               2539 non-null   int64  \n",
      " 11  차명               2539 non-null   object \n",
      " 12  차종분류             2539 non-null   object \n",
      " 13  차종유형             2539 non-null   object \n",
      " 14  자동차형식            2539 non-null   object \n",
      " 15  제작사명             2538 non-null   object \n",
      " 16  연료               2539 non-null   object \n",
      " 17  엔진형식             2539 non-null   object \n",
      " 18  총중량              2539 non-null   int64  \n",
      " 19  적재중량             2374 non-null   float64\n",
      " 20  엔진출력             2539 non-null   float64\n",
      " 21  배기량              2539 non-null   int64  \n",
      " 22  법정동코드            2539 non-null   int64  \n",
      " 23  시도명              2539 non-null   object \n",
      " 24  시군구명             2539 non-null   object \n",
      " 25  소유자구분            2539 non-null   object \n",
      " 26  말소여부             2539 non-null   object \n",
      " 27  배출가스\n",
      "인증번호        2539 non-null   object \n",
      " 28  배출가스\n",
      "등급          2539 non-null   int64  \n",
      " 29  배출가스인증번호\n",
      "변경      2539 non-null   object \n",
      " 30  등급 변경            2539 non-null   object \n",
      " 31  변경 사유            2539 non-null   object \n",
      " 32  말소\n",
      "여부\n",
      "(Y/N)      0 non-null      float64\n",
      " 33  말소일자             0 non-null      float64\n",
      " 34  조기폐차 신청여부\n",
      "(Y/N)  0 non-null      float64\n",
      " 35  조기폐차\n",
      "신청단계        0 non-null      float64\n",
      " 36  소유자\n",
      "변경여부\n",
      "(Y/N)   0 non-null      float64\n",
      " 37  소유자\n",
      "변경일자\n",
      "(최신)    0 non-null      float64\n",
      "dtypes: float64(9), int64(8), object(21)\n",
      "memory usage: 753.9+ KB\n"
     ]
    }
   ],
   "source": [
    "# about \n",
    "name = '4등급 등급변경필요건(최종)_230523'\n",
    "file_name = f'{name}.xlsx'\n",
    "rw = pd.read_excel(os.path.join(raw1_fold, file_name), skiprows=2)\n",
    "rw.info()"
   ]
  },
  {
   "attachments": {},
   "cell_type": "markdown",
   "metadata": {},
   "source": [
    "# 4등급 등록정보"
   ]
  },
  {
   "cell_type": "code",
   "execution_count": 21,
   "metadata": {},
   "outputs": [
    {
     "name": "stdout",
     "output_type": "stream",
     "text": [
      "<class 'pandas.core.frame.DataFrame'>\n",
      "RangeIndex: 1898816 entries, 0 to 1898815\n",
      "Data columns (total 4 columns):\n",
      " #   Column  Dtype \n",
      "---  ------  ----- \n",
      " 0   차량관리번호  object\n",
      " 1   차대번호    object\n",
      " 2   최초등록일자  int64 \n",
      " 3   차량말소YN  object\n",
      "dtypes: int64(1), object(3)\n",
      "memory usage: 57.9+ MB\n"
     ]
    }
   ],
   "source": [
    "# about 16.0s\n",
    "name = '[ODS][G4]자동차_등록정보(2022.12.28)'\n",
    "file_name = f'{name}.csv'\n",
    "mig = pd.read_csv(os.path.join(ods_fold, file_name), low_memory=False, encoding='cp949', usecols=['차량관리번호', '차대번호', '차량말소YN', '최초등록일자'])\n",
    "mig.info()"
   ]
  },
  {
   "cell_type": "code",
   "execution_count": 22,
   "metadata": {},
   "outputs": [
    {
     "data": {
      "text/html": [
       "<div>\n",
       "<style scoped>\n",
       "    .dataframe tbody tr th:only-of-type {\n",
       "        vertical-align: middle;\n",
       "    }\n",
       "\n",
       "    .dataframe tbody tr th {\n",
       "        vertical-align: top;\n",
       "    }\n",
       "\n",
       "    .dataframe thead th {\n",
       "        text-align: right;\n",
       "    }\n",
       "</style>\n",
       "<table border=\"1\" class=\"dataframe\">\n",
       "  <thead>\n",
       "    <tr style=\"text-align: right;\">\n",
       "      <th></th>\n",
       "      <th>차량관리번호</th>\n",
       "      <th>차대번호</th>\n",
       "      <th>최초등록일자</th>\n",
       "      <th>차량말소YN</th>\n",
       "    </tr>\n",
       "  </thead>\n",
       "  <tbody>\n",
       "    <tr>\n",
       "      <th>0</th>\n",
       "      <td>CN-62-T-2213-01</td>\n",
       "      <td>CN-62-T-2213</td>\n",
       "      <td>19650209</td>\n",
       "      <td>N</td>\n",
       "    </tr>\n",
       "    <tr>\n",
       "      <th>1</th>\n",
       "      <td>SL68T032460-01</td>\n",
       "      <td>SL68T032460</td>\n",
       "      <td>19750127</td>\n",
       "      <td>N</td>\n",
       "    </tr>\n",
       "    <tr>\n",
       "      <th>2</th>\n",
       "      <td>2T1CF2897YC359923-01</td>\n",
       "      <td>2T1CF2897YC359923</td>\n",
       "      <td>19821231</td>\n",
       "      <td>N</td>\n",
       "    </tr>\n",
       "    <tr>\n",
       "      <th>3</th>\n",
       "      <td>KNADA2322HS004198-01</td>\n",
       "      <td>KNADA2322HS004198</td>\n",
       "      <td>19870411</td>\n",
       "      <td>N</td>\n",
       "    </tr>\n",
       "    <tr>\n",
       "      <th>4</th>\n",
       "      <td>KNADA2322HS004360-01</td>\n",
       "      <td>KNADA2322HS004360</td>\n",
       "      <td>19870416</td>\n",
       "      <td>Y</td>\n",
       "    </tr>\n",
       "  </tbody>\n",
       "</table>\n",
       "</div>"
      ],
      "text/plain": [
       "                 차량관리번호               차대번호    최초등록일자 차량말소YN\n",
       "0       CN-62-T-2213-01       CN-62-T-2213  19650209      N\n",
       "1        SL68T032460-01        SL68T032460  19750127      N\n",
       "2  2T1CF2897YC359923-01  2T1CF2897YC359923  19821231      N\n",
       "3  KNADA2322HS004198-01  KNADA2322HS004198  19870411      N\n",
       "4  KNADA2322HS004360-01  KNADA2322HS004360  19870416      Y"
      ]
     },
     "execution_count": 22,
     "metadata": {},
     "output_type": "execute_result"
    }
   ],
   "source": [
    "mig.head()"
   ]
  },
  {
   "cell_type": "code",
   "execution_count": 39,
   "metadata": {},
   "outputs": [
    {
     "data": {
      "text/html": [
       "<div>\n",
       "<style scoped>\n",
       "    .dataframe tbody tr th:only-of-type {\n",
       "        vertical-align: middle;\n",
       "    }\n",
       "\n",
       "    .dataframe tbody tr th {\n",
       "        vertical-align: top;\n",
       "    }\n",
       "\n",
       "    .dataframe thead th {\n",
       "        text-align: right;\n",
       "    }\n",
       "</style>\n",
       "<table border=\"1\" class=\"dataframe\">\n",
       "  <thead>\n",
       "    <tr style=\"text-align: right;\">\n",
       "      <th></th>\n",
       "      <th>차량관리번호</th>\n",
       "      <th>차대번호</th>\n",
       "      <th>최초등록일자</th>\n",
       "      <th>차량말소YN</th>\n",
       "    </tr>\n",
       "  </thead>\n",
       "  <tbody>\n",
       "    <tr>\n",
       "      <th>1985</th>\n",
       "      <td>4199경기8러8034</td>\n",
       "      <td>KNADA2322JS052345</td>\n",
       "      <td>19880603</td>\n",
       "      <td>N</td>\n",
       "    </tr>\n",
       "    <tr>\n",
       "      <th>2040</th>\n",
       "      <td>4199경기3러8034</td>\n",
       "      <td>KNADA2322JS052345</td>\n",
       "      <td>19880603</td>\n",
       "      <td>N</td>\n",
       "    </tr>\n",
       "  </tbody>\n",
       "</table>\n",
       "</div>"
      ],
      "text/plain": [
       "            차량관리번호               차대번호    최초등록일자 차량말소YN\n",
       "1985  4199경기8러8034  KNADA2322JS052345  19880603      N\n",
       "2040  4199경기3러8034  KNADA2322JS052345  19880603      N"
      ]
     },
     "execution_count": 39,
     "metadata": {},
     "output_type": "execute_result"
    }
   ],
   "source": [
    "mig[mig['차대번호'] == 'KNADA2322JS052345']"
   ]
  },
  {
   "cell_type": "code",
   "execution_count": 40,
   "metadata": {},
   "outputs": [
    {
     "data": {
      "text/html": [
       "<div>\n",
       "<style scoped>\n",
       "    .dataframe tbody tr th:only-of-type {\n",
       "        vertical-align: middle;\n",
       "    }\n",
       "\n",
       "    .dataframe tbody tr th {\n",
       "        vertical-align: top;\n",
       "    }\n",
       "\n",
       "    .dataframe thead th {\n",
       "        text-align: right;\n",
       "    }\n",
       "</style>\n",
       "<table border=\"1\" class=\"dataframe\">\n",
       "  <thead>\n",
       "    <tr style=\"text-align: right;\">\n",
       "      <th></th>\n",
       "      <th>차량관리번호</th>\n",
       "      <th>차대번호</th>\n",
       "      <th>최초등록일자</th>\n",
       "      <th>차량말소YN</th>\n",
       "    </tr>\n",
       "  </thead>\n",
       "  <tbody>\n",
       "    <tr>\n",
       "      <th>690068</th>\n",
       "      <td>KL5UM52PD7P028169-01</td>\n",
       "      <td>KM90G7MKD7GZ00001</td>\n",
       "      <td>20070817</td>\n",
       "      <td>N</td>\n",
       "    </tr>\n",
       "  </tbody>\n",
       "</table>\n",
       "</div>"
      ],
      "text/plain": [
       "                      차량관리번호               차대번호    최초등록일자 차량말소YN\n",
       "690068  KL5UM52PD7P028169-01  KM90G7MKD7GZ00001  20070817      N"
      ]
     },
     "execution_count": 40,
     "metadata": {},
     "output_type": "execute_result"
    }
   ],
   "source": [
    "mig[mig['차대번호'] == 'KM90G7MKD7GZ00001']"
   ]
  },
  {
   "cell_type": "code",
   "execution_count": 41,
   "metadata": {},
   "outputs": [
    {
     "data": {
      "text/html": [
       "<div>\n",
       "<style scoped>\n",
       "    .dataframe tbody tr th:only-of-type {\n",
       "        vertical-align: middle;\n",
       "    }\n",
       "\n",
       "    .dataframe tbody tr th {\n",
       "        vertical-align: top;\n",
       "    }\n",
       "\n",
       "    .dataframe thead th {\n",
       "        text-align: right;\n",
       "    }\n",
       "</style>\n",
       "<table border=\"1\" class=\"dataframe\">\n",
       "  <thead>\n",
       "    <tr style=\"text-align: right;\">\n",
       "      <th></th>\n",
       "      <th>차량관리번호</th>\n",
       "      <th>차대번호</th>\n",
       "      <th>최초등록일자</th>\n",
       "      <th>차량말소YN</th>\n",
       "    </tr>\n",
       "  </thead>\n",
       "  <tbody>\n",
       "    <tr>\n",
       "      <th>593645</th>\n",
       "      <td>KPBCH3AB17P030731-01</td>\n",
       "      <td>KL90E3ABD7LZ00005</td>\n",
       "      <td>20070108</td>\n",
       "      <td>N</td>\n",
       "    </tr>\n",
       "  </tbody>\n",
       "</table>\n",
       "</div>"
      ],
      "text/plain": [
       "                      차량관리번호               차대번호    최초등록일자 차량말소YN\n",
       "593645  KPBCH3AB17P030731-01  KL90E3ABD7LZ00005  20070108      N"
      ]
     },
     "execution_count": 41,
     "metadata": {},
     "output_type": "execute_result"
    }
   ],
   "source": [
    "mig[mig['차대번호'] == 'KL90E3ABD7LZ00005']"
   ]
  },
  {
   "cell_type": "code",
   "execution_count": 45,
   "metadata": {},
   "outputs": [
    {
     "data": {
      "text/html": [
       "<div>\n",
       "<style scoped>\n",
       "    .dataframe tbody tr th:only-of-type {\n",
       "        vertical-align: middle;\n",
       "    }\n",
       "\n",
       "    .dataframe tbody tr th {\n",
       "        vertical-align: top;\n",
       "    }\n",
       "\n",
       "    .dataframe thead th {\n",
       "        text-align: right;\n",
       "    }\n",
       "</style>\n",
       "<table border=\"1\" class=\"dataframe\">\n",
       "  <thead>\n",
       "    <tr style=\"text-align: right;\">\n",
       "      <th></th>\n",
       "      <th>차량관리번호</th>\n",
       "      <th>차대번호</th>\n",
       "      <th>최초등록일자</th>\n",
       "      <th>차량말소YN</th>\n",
       "    </tr>\n",
       "  </thead>\n",
       "  <tbody>\n",
       "    <tr>\n",
       "      <th>560354</th>\n",
       "      <td>119908도1766</td>\n",
       "      <td>WAUZZZ4L87D038405</td>\n",
       "      <td>20060922</td>\n",
       "      <td>N</td>\n",
       "    </tr>\n",
       "  </tbody>\n",
       "</table>\n",
       "</div>"
      ],
      "text/plain": [
       "             차량관리번호               차대번호    최초등록일자 차량말소YN\n",
       "560354  119908도1766  WAUZZZ4L87D038405  20060922      N"
      ]
     },
     "execution_count": 45,
     "metadata": {},
     "output_type": "execute_result"
    }
   ],
   "source": [
    "mig[mig['차대번호'] == 'WAUZZZ4L87D038405']"
   ]
  },
  {
   "cell_type": "code",
   "execution_count": 44,
   "metadata": {},
   "outputs": [
    {
     "data": {
      "text/html": [
       "<div>\n",
       "<style scoped>\n",
       "    .dataframe tbody tr th:only-of-type {\n",
       "        vertical-align: middle;\n",
       "    }\n",
       "\n",
       "    .dataframe tbody tr th {\n",
       "        vertical-align: top;\n",
       "    }\n",
       "\n",
       "    .dataframe thead th {\n",
       "        text-align: right;\n",
       "    }\n",
       "</style>\n",
       "<table border=\"1\" class=\"dataframe\">\n",
       "  <thead>\n",
       "    <tr style=\"text-align: right;\">\n",
       "      <th></th>\n",
       "      <th>차량관리번호</th>\n",
       "      <th>차대번호</th>\n",
       "      <th>최초등록일자</th>\n",
       "      <th>차량말소YN</th>\n",
       "    </tr>\n",
       "  </thead>\n",
       "  <tbody>\n",
       "    <tr>\n",
       "      <th>547746</th>\n",
       "      <td>489950고5759</td>\n",
       "      <td>WAUZZZ4L47D023464</td>\n",
       "      <td>20060811</td>\n",
       "      <td>N</td>\n",
       "    </tr>\n",
       "  </tbody>\n",
       "</table>\n",
       "</div>"
      ],
      "text/plain": [
       "             차량관리번호               차대번호    최초등록일자 차량말소YN\n",
       "547746  489950고5759  WAUZZZ4L47D023464  20060811      N"
      ]
     },
     "execution_count": 44,
     "metadata": {},
     "output_type": "execute_result"
    }
   ],
   "source": [
    "mig[mig['차대번호'] == 'WAUZZZ4L47D023464']"
   ]
  },
  {
   "cell_type": "code",
   "execution_count": 23,
   "metadata": {},
   "outputs": [
    {
     "data": {
      "text/plain": [
       "(1511251, 4)"
      ]
     },
     "execution_count": 23,
     "metadata": {},
     "output_type": "execute_result"
    }
   ],
   "source": [
    "# 말소 제거\n",
    "mig1 = mig[mig['차량말소YN'] == 'N'].reset_index(drop=True)\n",
    "mig1.shape"
   ]
  },
  {
   "cell_type": "code",
   "execution_count": 27,
   "metadata": {},
   "outputs": [
    {
     "data": {
      "text/html": [
       "<div>\n",
       "<style scoped>\n",
       "    .dataframe tbody tr th:only-of-type {\n",
       "        vertical-align: middle;\n",
       "    }\n",
       "\n",
       "    .dataframe tbody tr th {\n",
       "        vertical-align: top;\n",
       "    }\n",
       "\n",
       "    .dataframe thead th {\n",
       "        text-align: right;\n",
       "    }\n",
       "</style>\n",
       "<table border=\"1\" class=\"dataframe\">\n",
       "  <thead>\n",
       "    <tr style=\"text-align: right;\">\n",
       "      <th></th>\n",
       "      <th>차량관리번호</th>\n",
       "      <th>차대번호</th>\n",
       "      <th>최초등록일자</th>\n",
       "      <th>차량말소YN</th>\n",
       "    </tr>\n",
       "  </thead>\n",
       "  <tbody>\n",
       "    <tr>\n",
       "      <th>982713</th>\n",
       "      <td>1GBEL19W3XB192382-02</td>\n",
       "      <td>1GBEL19W3XB192382</td>\n",
       "      <td>20091013</td>\n",
       "      <td>N</td>\n",
       "    </tr>\n",
       "    <tr>\n",
       "      <th>348629</th>\n",
       "      <td>2B7HB21X2TK148416-02</td>\n",
       "      <td>2B7HB21X2TK148416</td>\n",
       "      <td>20020604</td>\n",
       "      <td>N</td>\n",
       "    </tr>\n",
       "    <tr>\n",
       "      <th>353675</th>\n",
       "      <td>3B3ES67C6ST512047-02</td>\n",
       "      <td>3B3ES67C6ST512047</td>\n",
       "      <td>20030129</td>\n",
       "      <td>N</td>\n",
       "    </tr>\n",
       "    <tr>\n",
       "      <th>354089</th>\n",
       "      <td>JT2AE86S2H0284457-02</td>\n",
       "      <td>JT2AE86S2H0284457</td>\n",
       "      <td>20030710</td>\n",
       "      <td>N</td>\n",
       "    </tr>\n",
       "    <tr>\n",
       "      <th>87321</th>\n",
       "      <td>2799대구2고2891</td>\n",
       "      <td>KLAEM19W1NB116889</td>\n",
       "      <td>19920127</td>\n",
       "      <td>N</td>\n",
       "    </tr>\n",
       "    <tr>\n",
       "      <th>337811</th>\n",
       "      <td>KLAER1981PB185811-03</td>\n",
       "      <td>KLAER1981PB185811</td>\n",
       "      <td>20010214</td>\n",
       "      <td>N</td>\n",
       "    </tr>\n",
       "    <tr>\n",
       "      <th>85925</th>\n",
       "      <td>1199서울32머3945</td>\n",
       "      <td>KLAER19W1MB108960</td>\n",
       "      <td>19911231</td>\n",
       "      <td>N</td>\n",
       "    </tr>\n",
       "    <tr>\n",
       "      <th>354481</th>\n",
       "      <td>KLAJA19Y1SB055388-03</td>\n",
       "      <td>KLAJA19Y1SB055388</td>\n",
       "      <td>20031204</td>\n",
       "      <td>N</td>\n",
       "    </tr>\n",
       "    <tr>\n",
       "      <th>4615</th>\n",
       "      <td>KLASM69F1JB054053-01</td>\n",
       "      <td>KLASM69F1JB054053</td>\n",
       "      <td>19880304</td>\n",
       "      <td>N</td>\n",
       "    </tr>\n",
       "    <tr>\n",
       "      <th>86469</th>\n",
       "      <td>1199서울32머2982</td>\n",
       "      <td>KLATA19T1MB606867</td>\n",
       "      <td>19911231</td>\n",
       "      <td>N</td>\n",
       "    </tr>\n",
       "    <tr>\n",
       "      <th>40999</th>\n",
       "      <td>1199서울4드4981</td>\n",
       "      <td>KLATF19T1LB267581</td>\n",
       "      <td>19900124</td>\n",
       "      <td>N</td>\n",
       "    </tr>\n",
       "    <tr>\n",
       "      <th>120786</th>\n",
       "      <td>KLATF19T1NB526286-02</td>\n",
       "      <td>KLATF19T1NB526286</td>\n",
       "      <td>19930112</td>\n",
       "      <td>N</td>\n",
       "    </tr>\n",
       "    <tr>\n",
       "      <th>9036</th>\n",
       "      <td>KLAVM69H1JB075787-02</td>\n",
       "      <td>KLAVM69H1JB075787</td>\n",
       "      <td>19880804</td>\n",
       "      <td>N</td>\n",
       "    </tr>\n",
       "    <tr>\n",
       "      <th>110995</th>\n",
       "      <td>1199서울7조7622</td>\n",
       "      <td>KLY7T51BBNC011472</td>\n",
       "      <td>19921024</td>\n",
       "      <td>N</td>\n",
       "    </tr>\n",
       "    <tr>\n",
       "      <th>65450</th>\n",
       "      <td>1199서울32머4507</td>\n",
       "      <td>KMHBF21DPLU225704</td>\n",
       "      <td>19901231</td>\n",
       "      <td>N</td>\n",
       "    </tr>\n",
       "    <tr>\n",
       "      <th>354702</th>\n",
       "      <td>KMHBF21DPNU459285-04</td>\n",
       "      <td>KMHBF21DPNU459285</td>\n",
       "      <td>20040302</td>\n",
       "      <td>N</td>\n",
       "    </tr>\n",
       "    <tr>\n",
       "      <th>24978</th>\n",
       "      <td>4399충북1느1240</td>\n",
       "      <td>KMHBF31FPKU143334</td>\n",
       "      <td>19891017</td>\n",
       "      <td>N</td>\n",
       "    </tr>\n",
       "    <tr>\n",
       "      <th>354911</th>\n",
       "      <td>KMHBF31FPMV273591-03</td>\n",
       "      <td>KMHBF31FPMV273591</td>\n",
       "      <td>20040714</td>\n",
       "      <td>N</td>\n",
       "    </tr>\n",
       "    <tr>\n",
       "      <th>123699</th>\n",
       "      <td>1199서울32머4203</td>\n",
       "      <td>KMHBF31FPNU396558</td>\n",
       "      <td>19921231</td>\n",
       "      <td>N</td>\n",
       "    </tr>\n",
       "    <tr>\n",
       "      <th>113409</th>\n",
       "      <td>4199경기40마9079</td>\n",
       "      <td>KMHBF31FPNU489190</td>\n",
       "      <td>19921104</td>\n",
       "      <td>N</td>\n",
       "    </tr>\n",
       "    <tr>\n",
       "      <th>354623</th>\n",
       "      <td>KMHBF31FPNU503892-03</td>\n",
       "      <td>KMHBF31FPNU503892</td>\n",
       "      <td>20040112</td>\n",
       "      <td>N</td>\n",
       "    </tr>\n",
       "    <tr>\n",
       "      <th>264633</th>\n",
       "      <td>4299강원28가5176</td>\n",
       "      <td>KMHCF21DPSU000012</td>\n",
       "      <td>19961209</td>\n",
       "      <td>N</td>\n",
       "    </tr>\n",
       "    <tr>\n",
       "      <th>265411</th>\n",
       "      <td>4299강원28가5032</td>\n",
       "      <td>KMHCF21DPSU000012</td>\n",
       "      <td>19961209</td>\n",
       "      <td>N</td>\n",
       "    </tr>\n",
       "    <tr>\n",
       "      <th>265272</th>\n",
       "      <td>4299강원28가5035</td>\n",
       "      <td>KMHCF21DPSU000012</td>\n",
       "      <td>19961209</td>\n",
       "      <td>N</td>\n",
       "    </tr>\n",
       "    <tr>\n",
       "      <th>264996</th>\n",
       "      <td>4299강원28가5089</td>\n",
       "      <td>KMHCF21DPSU000012</td>\n",
       "      <td>19961209</td>\n",
       "      <td>N</td>\n",
       "    </tr>\n",
       "    <tr>\n",
       "      <th>132480</th>\n",
       "      <td>KMHMF21FPPU018261-01</td>\n",
       "      <td>KMHMF21FPPU018261</td>\n",
       "      <td>19930413</td>\n",
       "      <td>N</td>\n",
       "    </tr>\n",
       "    <tr>\n",
       "      <th>35357</th>\n",
       "      <td>1199서울2코3350</td>\n",
       "      <td>KMHNF21SPLU031911</td>\n",
       "      <td>19900327</td>\n",
       "      <td>N</td>\n",
       "    </tr>\n",
       "    <tr>\n",
       "      <th>50716</th>\n",
       "      <td>1199서울4포5301</td>\n",
       "      <td>KMHNF21SPLU049507</td>\n",
       "      <td>19901102</td>\n",
       "      <td>N</td>\n",
       "    </tr>\n",
       "    <tr>\n",
       "      <th>124083</th>\n",
       "      <td>1199서울32머1537</td>\n",
       "      <td>KMHVF11JPN4670948</td>\n",
       "      <td>19921231</td>\n",
       "      <td>N</td>\n",
       "    </tr>\n",
       "    <tr>\n",
       "      <th>30083</th>\n",
       "      <td>4199경기1보4751</td>\n",
       "      <td>KMHVF21JPKU161128</td>\n",
       "      <td>19891226</td>\n",
       "      <td>N</td>\n",
       "    </tr>\n",
       "    <tr>\n",
       "      <th>39873</th>\n",
       "      <td>1199서울32머4031</td>\n",
       "      <td>KMHVF31JPKU106588</td>\n",
       "      <td>19891231</td>\n",
       "      <td>N</td>\n",
       "    </tr>\n",
       "    <tr>\n",
       "      <th>124204</th>\n",
       "      <td>119916다4386</td>\n",
       "      <td>KMHVF31JPNU700150</td>\n",
       "      <td>19921231</td>\n",
       "      <td>N</td>\n",
       "    </tr>\n",
       "    <tr>\n",
       "      <th>1994</th>\n",
       "      <td>4199경기3러8034</td>\n",
       "      <td>KNADA2322JS052345</td>\n",
       "      <td>19880603</td>\n",
       "      <td>N</td>\n",
       "    </tr>\n",
       "    <tr>\n",
       "      <th>24328</th>\n",
       "      <td>2699부산29나1072</td>\n",
       "      <td>KNAGA2222KS130454</td>\n",
       "      <td>19891027</td>\n",
       "      <td>N</td>\n",
       "    </tr>\n",
       "    <tr>\n",
       "      <th>153690</th>\n",
       "      <td>1199서울32머2222</td>\n",
       "      <td>KNAGA2253PA294402</td>\n",
       "      <td>19931231</td>\n",
       "      <td>N</td>\n",
       "    </tr>\n",
       "    <tr>\n",
       "      <th>66605</th>\n",
       "      <td>1199서울32머3975</td>\n",
       "      <td>KNAGB2212LA317492</td>\n",
       "      <td>19901231</td>\n",
       "      <td>N</td>\n",
       "    </tr>\n",
       "    <tr>\n",
       "      <th>216397</th>\n",
       "      <td>KNAGC2213SA102715-01</td>\n",
       "      <td>KNAGC2213SA102715</td>\n",
       "      <td>19950718</td>\n",
       "      <td>N</td>\n",
       "    </tr>\n",
       "    <tr>\n",
       "      <th>326694</th>\n",
       "      <td>419907서3394</td>\n",
       "      <td>KNAGC2282YA382041</td>\n",
       "      <td>20000302</td>\n",
       "      <td>N</td>\n",
       "    </tr>\n",
       "    <tr>\n",
       "      <th>169322</th>\n",
       "      <td>KNALA2233RA822260-02</td>\n",
       "      <td>KNALA2233RA822260</td>\n",
       "      <td>19940622</td>\n",
       "      <td>N</td>\n",
       "    </tr>\n",
       "    <tr>\n",
       "      <th>195078</th>\n",
       "      <td>YS3DC58AXR2039613-02</td>\n",
       "      <td>YS3DC58AXR2039613</td>\n",
       "      <td>19941231</td>\n",
       "      <td>N</td>\n",
       "    </tr>\n",
       "  </tbody>\n",
       "</table>\n",
       "</div>"
      ],
      "text/plain": [
       "                      차량관리번호               차대번호    최초등록일자 차량말소YN\n",
       "982713  1GBEL19W3XB192382-02  1GBEL19W3XB192382  20091013      N\n",
       "348629  2B7HB21X2TK148416-02  2B7HB21X2TK148416  20020604      N\n",
       "353675  3B3ES67C6ST512047-02  3B3ES67C6ST512047  20030129      N\n",
       "354089  JT2AE86S2H0284457-02  JT2AE86S2H0284457  20030710      N\n",
       "87321           2799대구2고2891  KLAEM19W1NB116889  19920127      N\n",
       "337811  KLAER1981PB185811-03  KLAER1981PB185811  20010214      N\n",
       "85925          1199서울32머3945  KLAER19W1MB108960  19911231      N\n",
       "354481  KLAJA19Y1SB055388-03  KLAJA19Y1SB055388  20031204      N\n",
       "4615    KLASM69F1JB054053-01  KLASM69F1JB054053  19880304      N\n",
       "86469          1199서울32머2982  KLATA19T1MB606867  19911231      N\n",
       "40999           1199서울4드4981  KLATF19T1LB267581  19900124      N\n",
       "120786  KLATF19T1NB526286-02  KLATF19T1NB526286  19930112      N\n",
       "9036    KLAVM69H1JB075787-02  KLAVM69H1JB075787  19880804      N\n",
       "110995          1199서울7조7622  KLY7T51BBNC011472  19921024      N\n",
       "65450          1199서울32머4507  KMHBF21DPLU225704  19901231      N\n",
       "354702  KMHBF21DPNU459285-04  KMHBF21DPNU459285  20040302      N\n",
       "24978           4399충북1느1240  KMHBF31FPKU143334  19891017      N\n",
       "354911  KMHBF31FPMV273591-03  KMHBF31FPMV273591  20040714      N\n",
       "123699         1199서울32머4203  KMHBF31FPNU396558  19921231      N\n",
       "113409         4199경기40마9079  KMHBF31FPNU489190  19921104      N\n",
       "354623  KMHBF31FPNU503892-03  KMHBF31FPNU503892  20040112      N\n",
       "264633         4299강원28가5176  KMHCF21DPSU000012  19961209      N\n",
       "265411         4299강원28가5032  KMHCF21DPSU000012  19961209      N\n",
       "265272         4299강원28가5035  KMHCF21DPSU000012  19961209      N\n",
       "264996         4299강원28가5089  KMHCF21DPSU000012  19961209      N\n",
       "132480  KMHMF21FPPU018261-01  KMHMF21FPPU018261  19930413      N\n",
       "35357           1199서울2코3350  KMHNF21SPLU031911  19900327      N\n",
       "50716           1199서울4포5301  KMHNF21SPLU049507  19901102      N\n",
       "124083         1199서울32머1537  KMHVF11JPN4670948  19921231      N\n",
       "30083           4199경기1보4751  KMHVF21JPKU161128  19891226      N\n",
       "39873          1199서울32머4031  KMHVF31JPKU106588  19891231      N\n",
       "124204           119916다4386  KMHVF31JPNU700150  19921231      N\n",
       "1994            4199경기3러8034  KNADA2322JS052345  19880603      N\n",
       "24328          2699부산29나1072  KNAGA2222KS130454  19891027      N\n",
       "153690         1199서울32머2222  KNAGA2253PA294402  19931231      N\n",
       "66605          1199서울32머3975  KNAGB2212LA317492  19901231      N\n",
       "216397  KNAGC2213SA102715-01  KNAGC2213SA102715  19950718      N\n",
       "326694           419907서3394  KNAGC2282YA382041  20000302      N\n",
       "169322  KNALA2233RA822260-02  KNALA2233RA822260  19940622      N\n",
       "195078  YS3DC58AXR2039613-02  YS3DC58AXR2039613  19941231      N"
      ]
     },
     "execution_count": 27,
     "metadata": {},
     "output_type": "execute_result"
    }
   ],
   "source": [
    "mig1[mig1.duplicated('차대번호') == True].sort_values('차대번호')"
   ]
  },
  {
   "cell_type": "code",
   "execution_count": 28,
   "metadata": {},
   "outputs": [
    {
     "data": {
      "text/html": [
       "<div>\n",
       "<style scoped>\n",
       "    .dataframe tbody tr th:only-of-type {\n",
       "        vertical-align: middle;\n",
       "    }\n",
       "\n",
       "    .dataframe tbody tr th {\n",
       "        vertical-align: top;\n",
       "    }\n",
       "\n",
       "    .dataframe thead th {\n",
       "        text-align: right;\n",
       "    }\n",
       "</style>\n",
       "<table border=\"1\" class=\"dataframe\">\n",
       "  <thead>\n",
       "    <tr style=\"text-align: right;\">\n",
       "      <th></th>\n",
       "      <th>차량관리번호</th>\n",
       "      <th>차대번호</th>\n",
       "      <th>최초등록일자</th>\n",
       "      <th>차량말소YN</th>\n",
       "    </tr>\n",
       "  </thead>\n",
       "  <tbody>\n",
       "    <tr>\n",
       "      <th>962690</th>\n",
       "      <td>1GBEL19W3XB192382-01</td>\n",
       "      <td>1GBEL19W3XB192382</td>\n",
       "      <td>20090917</td>\n",
       "      <td>N</td>\n",
       "    </tr>\n",
       "    <tr>\n",
       "      <th>982713</th>\n",
       "      <td>1GBEL19W3XB192382-02</td>\n",
       "      <td>1GBEL19W3XB192382</td>\n",
       "      <td>20091013</td>\n",
       "      <td>N</td>\n",
       "    </tr>\n",
       "  </tbody>\n",
       "</table>\n",
       "</div>"
      ],
      "text/plain": [
       "                      차량관리번호               차대번호    최초등록일자 차량말소YN\n",
       "962690  1GBEL19W3XB192382-01  1GBEL19W3XB192382  20090917      N\n",
       "982713  1GBEL19W3XB192382-02  1GBEL19W3XB192382  20091013      N"
      ]
     },
     "execution_count": 28,
     "metadata": {},
     "output_type": "execute_result"
    }
   ],
   "source": [
    "mig1.loc[mig1['차대번호'] == '1GBEL19W3XB192382']"
   ]
  },
  {
   "cell_type": "code",
   "execution_count": 30,
   "metadata": {},
   "outputs": [
    {
     "data": {
      "text/html": [
       "<div>\n",
       "<style scoped>\n",
       "    .dataframe tbody tr th:only-of-type {\n",
       "        vertical-align: middle;\n",
       "    }\n",
       "\n",
       "    .dataframe tbody tr th {\n",
       "        vertical-align: top;\n",
       "    }\n",
       "\n",
       "    .dataframe thead th {\n",
       "        text-align: right;\n",
       "    }\n",
       "</style>\n",
       "<table border=\"1\" class=\"dataframe\">\n",
       "  <thead>\n",
       "    <tr style=\"text-align: right;\">\n",
       "      <th></th>\n",
       "      <th>차량관리번호</th>\n",
       "      <th>차대번호</th>\n",
       "      <th>최초등록일자</th>\n",
       "      <th>차량말소YN</th>\n",
       "    </tr>\n",
       "  </thead>\n",
       "  <tbody>\n",
       "    <tr>\n",
       "      <th>1506437</th>\n",
       "      <td>1GBEL19W3XB192382-02</td>\n",
       "      <td>1GBEL19W3XB192382</td>\n",
       "      <td>20091013</td>\n",
       "      <td>N</td>\n",
       "    </tr>\n",
       "    <tr>\n",
       "      <th>1506438</th>\n",
       "      <td>1GBEL19W3XB192382-01</td>\n",
       "      <td>1GBEL19W3XB192382</td>\n",
       "      <td>20090917</td>\n",
       "      <td>N</td>\n",
       "    </tr>\n",
       "  </tbody>\n",
       "</table>\n",
       "</div>"
      ],
      "text/plain": [
       "                       차량관리번호               차대번호    최초등록일자 차량말소YN\n",
       "1506437  1GBEL19W3XB192382-02  1GBEL19W3XB192382  20091013      N\n",
       "1506438  1GBEL19W3XB192382-01  1GBEL19W3XB192382  20090917      N"
      ]
     },
     "execution_count": 30,
     "metadata": {},
     "output_type": "execute_result"
    }
   ],
   "source": [
    "# 중복 차대 제거(최초등록일자 최신)\n",
    "mig2 = mig1.sort_values(['차대번호', '최초등록일자'], ascending=False).reset_index(drop=True)\n",
    "mig2.loc[mig2['차대번호'] == '1GBEL19W3XB192382']"
   ]
  },
  {
   "cell_type": "code",
   "execution_count": 31,
   "metadata": {},
   "outputs": [
    {
     "data": {
      "text/plain": [
       "(1511211, 4)"
      ]
     },
     "execution_count": 31,
     "metadata": {},
     "output_type": "execute_result"
    }
   ],
   "source": [
    "mig3 = mig2.drop_duplicates(['차대번호']).reset_index(drop=True)\n",
    "mig3.shape"
   ]
  },
  {
   "cell_type": "code",
   "execution_count": 32,
   "metadata": {},
   "outputs": [
    {
     "data": {
      "text/plain": [
       "1511211"
      ]
     },
     "execution_count": 32,
     "metadata": {},
     "output_type": "execute_result"
    }
   ],
   "source": [
    "len(mig3['차대번호'].unique())"
   ]
  },
  {
   "attachments": {},
   "cell_type": "markdown",
   "metadata": {},
   "source": [
    "# 변경파일에 차량관리번호 붙이기"
   ]
  },
  {
   "cell_type": "code",
   "execution_count": 14,
   "metadata": {},
   "outputs": [
    {
     "data": {
      "text/plain": [
       "(2539, 38)"
      ]
     },
     "execution_count": 14,
     "metadata": {},
     "output_type": "execute_result"
    }
   ],
   "source": [
    "rw.shape"
   ]
  },
  {
   "cell_type": "code",
   "execution_count": 17,
   "metadata": {},
   "outputs": [
    {
     "data": {
      "text/plain": [
       "2539"
      ]
     },
     "execution_count": 17,
     "metadata": {},
     "output_type": "execute_result"
    }
   ],
   "source": [
    "len(rw['차대번호'].unique())"
   ]
  },
  {
   "cell_type": "code",
   "execution_count": 33,
   "metadata": {},
   "outputs": [
    {
     "data": {
      "text/plain": [
       "(1511211, 4)"
      ]
     },
     "execution_count": 33,
     "metadata": {},
     "output_type": "execute_result"
    }
   ],
   "source": [
    "mig3.shape"
   ]
  },
  {
   "cell_type": "code",
   "execution_count": 35,
   "metadata": {},
   "outputs": [
    {
     "data": {
      "text/plain": [
       "(2539, 41)"
      ]
     },
     "execution_count": 35,
     "metadata": {},
     "output_type": "execute_result"
    }
   ],
   "source": [
    "df = rw.merge(mig3, on='차대번호', how='left')\n",
    "df.shape"
   ]
  },
  {
   "cell_type": "code",
   "execution_count": 36,
   "metadata": {},
   "outputs": [
    {
     "data": {
      "text/plain": [
       "Index(['차대번호', '차량번호', '제원관리번호', '차종', '용도', '최초등록일', '연식', '제작일자', '검사유효일',\n",
       "       '배출가스인증번호', '등급', '차명', '차종분류', '차종유형', '자동차형식', '제작사명', '연료', '엔진형식',\n",
       "       '총중량', '적재중량', '엔진출력', '배기량', '법정동코드', '시도명', '시군구명', '소유자구분', '말소여부',\n",
       "       '배출가스\\n인증번호', '배출가스\\n등급', '배출가스인증번호\\n변경', '등급 변경', '변경 사유',\n",
       "       '말소\\n여부\\n(Y/N)', '말소일자', '조기폐차 신청여부\\n(Y/N)', '조기폐차\\n신청단계',\n",
       "       '소유자\\n변경여부\\n(Y/N)', '소유자\\n변경일자\\n(최신)', '차량관리번호', '최초등록일자', '차량말소YN'],\n",
       "      dtype='object')"
      ]
     },
     "execution_count": 36,
     "metadata": {},
     "output_type": "execute_result"
    }
   ],
   "source": [
    "df.columns"
   ]
  },
  {
   "cell_type": "code",
   "execution_count": 37,
   "metadata": {},
   "outputs": [
    {
     "data": {
      "text/plain": [
       "(2539, 39)"
      ]
     },
     "execution_count": 37,
     "metadata": {},
     "output_type": "execute_result"
    }
   ],
   "source": [
    "df1 = df.drop(['최초등록일자', '차량말소YN'], axis=1)\n",
    "df1.shape"
   ]
  },
  {
   "attachments": {},
   "cell_type": "markdown",
   "metadata": {},
   "source": [
    "## 출력"
   ]
  },
  {
   "cell_type": "code",
   "execution_count": 38,
   "metadata": {},
   "outputs": [],
   "source": [
    "# about 1.7s\n",
    "df1.to_excel(os.path.join(raw1_fold, '4등급 등급변경필요건(최종)_230523(차량관리번호_추가).xlsx'), index=False)"
   ]
  }
 ],
 "metadata": {
  "kernelspec": {
   "display_name": "base",
   "language": "python",
   "name": "python3"
  },
  "language_info": {
   "codemirror_mode": {
    "name": "ipython",
    "version": 3
   },
   "file_extension": ".py",
   "mimetype": "text/x-python",
   "name": "python",
   "nbconvert_exporter": "python",
   "pygments_lexer": "ipython3",
   "version": "3.9.13"
  },
  "orig_nbformat": 4
 },
 "nbformat": 4,
 "nbformat_minor": 2
}
