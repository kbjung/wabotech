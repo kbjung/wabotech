{
 "cells": [
  {
   "cell_type": "markdown",
   "metadata": {},
   "source": [
    "# 주소 정리"
   ]
  },
  {
   "cell_type": "markdown",
   "metadata": {},
   "source": [
    "## library"
   ]
  },
  {
   "cell_type": "code",
   "execution_count": 968,
   "metadata": {},
   "outputs": [],
   "source": [
    "import pandas as pd\n",
    "import numpy as np\n",
    "import re\n",
    "from tqdm import tqdm"
   ]
  },
  {
   "cell_type": "markdown",
   "metadata": {},
   "source": [
    "## 데이터 로드"
   ]
  },
  {
   "cell_type": "code",
   "execution_count": 969,
   "metadata": {},
   "outputs": [
    {
     "name": "stdout",
     "output_type": "stream",
     "text": [
      "<class 'pandas.core.frame.DataFrame'>\n",
      "Index: 11665822 entries, 내린천휴게소 양양방향 to 마천동2공영주차장\n",
      "Data columns (total 3 columns):\n",
      " #   Column  Dtype \n",
      "---  ------  ----- \n",
      " 0   지역      object\n",
      " 1   시군구     object\n",
      " 2   주소      object\n",
      "dtypes: object(3)\n",
      "memory usage: 356.0+ MB\n"
     ]
    }
   ],
   "source": [
    "df = pd.read_csv('2020-22년_급속충전.csv', index_col=0, usecols=['충전소명', '주소', '지역', '시군구'])\n",
    "df.info()"
   ]
  },
  {
   "cell_type": "code",
   "execution_count": 970,
   "metadata": {},
   "outputs": [
    {
     "data": {
      "text/html": [
       "<div>\n",
       "<style scoped>\n",
       "    .dataframe tbody tr th:only-of-type {\n",
       "        vertical-align: middle;\n",
       "    }\n",
       "\n",
       "    .dataframe tbody tr th {\n",
       "        vertical-align: top;\n",
       "    }\n",
       "\n",
       "    .dataframe thead th {\n",
       "        text-align: right;\n",
       "    }\n",
       "</style>\n",
       "<table border=\"1\" class=\"dataframe\">\n",
       "  <thead>\n",
       "    <tr style=\"text-align: right;\">\n",
       "      <th></th>\n",
       "      <th>충전소명</th>\n",
       "      <th>지역</th>\n",
       "      <th>시군구</th>\n",
       "      <th>주소</th>\n",
       "    </tr>\n",
       "  </thead>\n",
       "  <tbody>\n",
       "    <tr>\n",
       "      <th>0</th>\n",
       "      <td>내린천휴게소 양양방향</td>\n",
       "      <td>강원도</td>\n",
       "      <td>인제군</td>\n",
       "      <td>강원도 인제군 상남면 하남리 339-7(양양방향)</td>\n",
       "    </tr>\n",
       "    <tr>\n",
       "      <th>1</th>\n",
       "      <td>내린천휴게소 양양방향</td>\n",
       "      <td>강원도</td>\n",
       "      <td>인제군</td>\n",
       "      <td>강원도 인제군 상남면 하남리 339-7(양양방향)</td>\n",
       "    </tr>\n",
       "    <tr>\n",
       "      <th>2</th>\n",
       "      <td>내린천휴게소 양양방향</td>\n",
       "      <td>강원도</td>\n",
       "      <td>인제군</td>\n",
       "      <td>강원도 인제군 상남면 하남리 339-7(양양방향)</td>\n",
       "    </tr>\n",
       "    <tr>\n",
       "      <th>3</th>\n",
       "      <td>내린천휴게소 양양방향</td>\n",
       "      <td>강원도</td>\n",
       "      <td>인제군</td>\n",
       "      <td>강원도 인제군 상남면 하남리 339-7(양양방향)</td>\n",
       "    </tr>\n",
       "    <tr>\n",
       "      <th>4</th>\n",
       "      <td>한국광기술원</td>\n",
       "      <td>광주광역시</td>\n",
       "      <td>북구</td>\n",
       "      <td>광주광역시 북구 첨단 벤처로 108번길 9</td>\n",
       "    </tr>\n",
       "  </tbody>\n",
       "</table>\n",
       "</div>"
      ],
      "text/plain": [
       "          충전소명     지역  시군구                           주소\n",
       "0  내린천휴게소 양양방향    강원도  인제군  강원도 인제군 상남면 하남리 339-7(양양방향)\n",
       "1  내린천휴게소 양양방향    강원도  인제군  강원도 인제군 상남면 하남리 339-7(양양방향)\n",
       "2  내린천휴게소 양양방향    강원도  인제군  강원도 인제군 상남면 하남리 339-7(양양방향)\n",
       "3  내린천휴게소 양양방향    강원도  인제군  강원도 인제군 상남면 하남리 339-7(양양방향)\n",
       "4       한국광기술원  광주광역시   북구      광주광역시 북구 첨단 벤처로 108번길 9"
      ]
     },
     "execution_count": 970,
     "metadata": {},
     "output_type": "execute_result"
    }
   ],
   "source": [
    "df = df.reset_index()\n",
    "df.head()"
   ]
  },
  {
   "cell_type": "code",
   "execution_count": 971,
   "metadata": {},
   "outputs": [
    {
     "data": {
      "text/plain": [
       "4364"
      ]
     },
     "execution_count": 971,
     "metadata": {},
     "output_type": "execute_result"
    }
   ],
   "source": [
    "adr_uni = df['주소'].unique()\n",
    "len(adr_uni)"
   ]
  },
  {
   "cell_type": "code",
   "execution_count": 972,
   "metadata": {},
   "outputs": [
    {
     "data": {
      "text/plain": [
       "4217"
      ]
     },
     "execution_count": 972,
     "metadata": {},
     "output_type": "execute_result"
    }
   ],
   "source": [
    "len(df['충전소명'].unique())"
   ]
  },
  {
   "cell_type": "code",
   "execution_count": 1343,
   "metadata": {},
   "outputs": [
    {
     "name": "stdout",
     "output_type": "stream",
     "text": [
      "<class 'pandas.core.frame.DataFrame'>\n",
      "RangeIndex: 4364 entries, 0 to 4363\n",
      "Data columns (total 4 columns):\n",
      " #   Column  Non-Null Count  Dtype \n",
      "---  ------  --------------  ----- \n",
      " 0   충전소명    4364 non-null   object\n",
      " 1   지역      4364 non-null   object\n",
      " 2   시군구     4364 non-null   object\n",
      " 3   주소      4364 non-null   object\n",
      "dtypes: object(4)\n",
      "memory usage: 136.5+ KB\n"
     ]
    }
   ],
   "source": [
    "df2 = df.drop_duplicates(['주소'], keep='first').reset_index(drop=True)\n",
    "df2.info()"
   ]
  },
  {
   "cell_type": "code",
   "execution_count": 1344,
   "metadata": {},
   "outputs": [
    {
     "data": {
      "text/plain": [
       "4161"
      ]
     },
     "execution_count": 1344,
     "metadata": {},
     "output_type": "execute_result"
    }
   ],
   "source": [
    "len(df2['충전소명'].unique())"
   ]
  },
  {
   "cell_type": "code",
   "execution_count": 1345,
   "metadata": {},
   "outputs": [
    {
     "data": {
      "text/plain": [
       "4364"
      ]
     },
     "execution_count": 1345,
     "metadata": {},
     "output_type": "execute_result"
    }
   ],
   "source": [
    "adr = df2['주소'].copy().to_numpy()\n",
    "len(adr)"
   ]
  },
  {
   "cell_type": "code",
   "execution_count": 1346,
   "metadata": {},
   "outputs": [
    {
     "data": {
      "text/plain": [
       "(2590020218768, 2590039609936)"
      ]
     },
     "execution_count": 1346,
     "metadata": {},
     "output_type": "execute_result"
    }
   ],
   "source": [
    "id(adr), id(df2['주소'])"
   ]
  },
  {
   "cell_type": "code",
   "execution_count": 1347,
   "metadata": {},
   "outputs": [
    {
     "data": {
      "text/plain": [
       "4364"
      ]
     },
     "execution_count": 1347,
     "metadata": {},
     "output_type": "execute_result"
    }
   ],
   "source": [
    "len(df2['주소'].unique())"
   ]
  },
  {
   "cell_type": "code",
   "execution_count": 1348,
   "metadata": {},
   "outputs": [
    {
     "data": {
      "text/html": [
       "<div>\n",
       "<style scoped>\n",
       "    .dataframe tbody tr th:only-of-type {\n",
       "        vertical-align: middle;\n",
       "    }\n",
       "\n",
       "    .dataframe tbody tr th {\n",
       "        vertical-align: top;\n",
       "    }\n",
       "\n",
       "    .dataframe thead th {\n",
       "        text-align: right;\n",
       "    }\n",
       "</style>\n",
       "<table border=\"1\" class=\"dataframe\">\n",
       "  <thead>\n",
       "    <tr style=\"text-align: right;\">\n",
       "      <th></th>\n",
       "      <th>충전소명</th>\n",
       "      <th>지역</th>\n",
       "      <th>시군구</th>\n",
       "      <th>주소</th>\n",
       "    </tr>\n",
       "  </thead>\n",
       "  <tbody>\n",
       "    <tr>\n",
       "      <th>2580</th>\n",
       "      <td>진영휴게소(부산방향)</td>\n",
       "      <td>경상남도</td>\n",
       "      <td>김해시</td>\n",
       "      <td>경상남도 김해시 진영읍 하계로96번길 94-4 , 주유소 옆 주차장</td>\n",
       "    </tr>\n",
       "    <tr>\n",
       "      <th>2581</th>\n",
       "      <td>진영휴게소(부산방향)</td>\n",
       "      <td>경상남도</td>\n",
       "      <td>김해시</td>\n",
       "      <td>경상남도 김해시 진영읍 하계로96번길 94-4 , 주유소 옆 주차장</td>\n",
       "    </tr>\n",
       "    <tr>\n",
       "      <th>7273</th>\n",
       "      <td>진영휴게소(부산방향)</td>\n",
       "      <td>경상남도</td>\n",
       "      <td>김해시</td>\n",
       "      <td>경상남도 김해시 진영읍 하계로96번길 94-4 , 주유소 옆 주차장</td>\n",
       "    </tr>\n",
       "    <tr>\n",
       "      <th>7274</th>\n",
       "      <td>진영휴게소(부산방향)</td>\n",
       "      <td>경상남도</td>\n",
       "      <td>김해시</td>\n",
       "      <td>경상남도 김해시 진영읍 하계로96번길 94-4 , 주유소 옆 주차장</td>\n",
       "    </tr>\n",
       "    <tr>\n",
       "      <th>7275</th>\n",
       "      <td>진영휴게소(부산방향)</td>\n",
       "      <td>경상남도</td>\n",
       "      <td>김해시</td>\n",
       "      <td>경상남도 김해시 진영읍 하계로96번길 94-4 , 주유소 옆 주차장</td>\n",
       "    </tr>\n",
       "  </tbody>\n",
       "</table>\n",
       "</div>"
      ],
      "text/plain": [
       "             충전소명    지역  시군구                                     주소\n",
       "2580  진영휴게소(부산방향)  경상남도  김해시  경상남도 김해시 진영읍 하계로96번길 94-4 , 주유소 옆 주차장\n",
       "2581  진영휴게소(부산방향)  경상남도  김해시  경상남도 김해시 진영읍 하계로96번길 94-4 , 주유소 옆 주차장\n",
       "7273  진영휴게소(부산방향)  경상남도  김해시  경상남도 김해시 진영읍 하계로96번길 94-4 , 주유소 옆 주차장\n",
       "7274  진영휴게소(부산방향)  경상남도  김해시  경상남도 김해시 진영읍 하계로96번길 94-4 , 주유소 옆 주차장\n",
       "7275  진영휴게소(부산방향)  경상남도  김해시  경상남도 김해시 진영읍 하계로96번길 94-4 , 주유소 옆 주차장"
      ]
     },
     "execution_count": 1348,
     "metadata": {},
     "output_type": "execute_result"
    }
   ],
   "source": [
    "df[df['주소'] == '경상남도 김해시 진영읍 하계로96번길 94-4 , 주유소 옆 주차장'].head()"
   ]
  },
  {
   "cell_type": "code",
   "execution_count": 1349,
   "metadata": {},
   "outputs": [
    {
     "data": {
      "text/html": [
       "<div>\n",
       "<style scoped>\n",
       "    .dataframe tbody tr th:only-of-type {\n",
       "        vertical-align: middle;\n",
       "    }\n",
       "\n",
       "    .dataframe tbody tr th {\n",
       "        vertical-align: top;\n",
       "    }\n",
       "\n",
       "    .dataframe thead th {\n",
       "        text-align: right;\n",
       "    }\n",
       "</style>\n",
       "<table border=\"1\" class=\"dataframe\">\n",
       "  <thead>\n",
       "    <tr style=\"text-align: right;\">\n",
       "      <th></th>\n",
       "      <th>충전소명</th>\n",
       "      <th>지역</th>\n",
       "      <th>시군구</th>\n",
       "      <th>주소</th>\n",
       "    </tr>\n",
       "  </thead>\n",
       "  <tbody>\n",
       "    <tr>\n",
       "      <th>858</th>\n",
       "      <td>진영휴게소(부산방향)</td>\n",
       "      <td>경상남도</td>\n",
       "      <td>김해시</td>\n",
       "      <td>경상남도 김해시 진영읍 하계로96번길 94-4 , 주유소 옆 주차장</td>\n",
       "    </tr>\n",
       "  </tbody>\n",
       "</table>\n",
       "</div>"
      ],
      "text/plain": [
       "            충전소명    지역  시군구                                     주소\n",
       "858  진영휴게소(부산방향)  경상남도  김해시  경상남도 김해시 진영읍 하계로96번길 94-4 , 주유소 옆 주차장"
      ]
     },
     "execution_count": 1349,
     "metadata": {},
     "output_type": "execute_result"
    }
   ],
   "source": [
    "df2[df2['주소'] == '경상남도 김해시 진영읍 하계로96번길 94-4 , 주유소 옆 주차장']"
   ]
  },
  {
   "cell_type": "code",
   "execution_count": 1350,
   "metadata": {},
   "outputs": [
    {
     "data": {
      "text/plain": [
       "'경상남도 김해시 진영읍 하계로96번길 94-4 , 주유소 옆 주차장'"
      ]
     },
     "execution_count": 1350,
     "metadata": {},
     "output_type": "execute_result"
    }
   ],
   "source": [
    "adr[858]"
   ]
  },
  {
   "cell_type": "markdown",
   "metadata": {},
   "source": [
    "### 특이주소 처리"
   ]
  },
  {
   "cell_type": "code",
   "execution_count": 1351,
   "metadata": {},
   "outputs": [],
   "source": [
    "# 경상북도 경주시 천원2길 9 경북 경주시 교동 153-5\n",
    "# 충청북도 단양군 영춘면 온달평강3로 9 온달평강3로 9-1\n",
    "# 광주광역시 북구 첨단 벤처로 108번길 9"
   ]
  },
  {
   "cell_type": "code",
   "execution_count": 1352,
   "metadata": {},
   "outputs": [
    {
     "data": {
      "text/plain": [
       "1"
      ]
     },
     "execution_count": 1352,
     "metadata": {},
     "output_type": "execute_result"
    }
   ],
   "source": [
    "count = 0\n",
    "for i, one in enumerate(adr):\n",
    "    if '경상북도 경주시 천원2길 9 경북 경주시 교동 153-5' in one:\n",
    "        adr[i] = '경상북도 경주시 교동 천원2길 9'\n",
    "        count += 1\n",
    "count"
   ]
  },
  {
   "cell_type": "code",
   "execution_count": 1353,
   "metadata": {},
   "outputs": [
    {
     "data": {
      "text/plain": [
       "1"
      ]
     },
     "execution_count": 1353,
     "metadata": {},
     "output_type": "execute_result"
    }
   ],
   "source": [
    "count = 0\n",
    "for i, one in enumerate(adr):\n",
    "    if '충청북도 단양군 영춘면 온달평강3로 9 온달평강3로 9-1' in one:\n",
    "        adr[i] = '충청북도 단양군 영춘면 온달평강3로 9'\n",
    "        count += 1\n",
    "count"
   ]
  },
  {
   "cell_type": "code",
   "execution_count": 1354,
   "metadata": {},
   "outputs": [
    {
     "data": {
      "text/plain": [
       "1"
      ]
     },
     "execution_count": 1354,
     "metadata": {},
     "output_type": "execute_result"
    }
   ],
   "source": [
    "count = 0\n",
    "for i, one in enumerate(adr):\n",
    "    if '광주광역시 북구 첨단 벤처로 108번길 9' in one:\n",
    "        adr[i] = '광주광역시 북구 첨단벤처로108번길 9'\n",
    "        count += 1\n",
    "count"
   ]
  },
  {
   "cell_type": "markdown",
   "metadata": {},
   "source": [
    "### 빈칸 2개 -> 1개"
   ]
  },
  {
   "cell_type": "code",
   "execution_count": 1355,
   "metadata": {},
   "outputs": [
    {
     "data": {
      "text/plain": [
       "128"
      ]
     },
     "execution_count": 1355,
     "metadata": {},
     "output_type": "execute_result"
    }
   ],
   "source": [
    "count = 0\n",
    "for i, one in enumerate(adr):\n",
    "    if '  ' in one:\n",
    "        adr[i] = one.replace('  ', ' ')\n",
    "        count += 1\n",
    "count"
   ]
  },
  {
   "cell_type": "markdown",
   "metadata": {},
   "source": [
    "### 컴마(,) 제거"
   ]
  },
  {
   "cell_type": "code",
   "execution_count": 1356,
   "metadata": {},
   "outputs": [
    {
     "data": {
      "text/plain": [
       "324"
      ]
     },
     "execution_count": 1356,
     "metadata": {},
     "output_type": "execute_result"
    }
   ],
   "source": [
    "count = 0\n",
    "for i, one in enumerate(adr):\n",
    "    if ',' in one:\n",
    "        adr[i] = one.replace(',', '')\n",
    "        count += 1\n",
    "count"
   ]
  },
  {
   "cell_type": "markdown",
   "metadata": {},
   "source": [
    "### 복수 주소 오류\n",
    "- 한주소에 2개 주소 들어있는 오류\n",
    "- 동일지역 : 56\n",
    "- 다른지역 : 2"
   ]
  },
  {
   "cell_type": "markdown",
   "metadata": {},
   "source": [
    "#### 동일지역"
   ]
  },
  {
   "cell_type": "code",
   "execution_count": 1357,
   "metadata": {},
   "outputs": [
    {
     "data": {
      "text/plain": [
       "(array([2608], dtype=int64),)"
      ]
     },
     "execution_count": 1357,
     "metadata": {},
     "output_type": "execute_result"
    }
   ],
   "source": [
    "np.where(adr == '전라남도 무안군 망운면 운해로 1436-10 전라남도 함평군 신광면 학동로 1398-9')"
   ]
  },
  {
   "cell_type": "code",
   "execution_count": 1358,
   "metadata": {},
   "outputs": [
    {
     "data": {
      "text/plain": [
       "'전라남도 무안군 망운면 운해로 1436-10 전라남도 함평군 신광면 학동로 1398-9'"
      ]
     },
     "execution_count": 1358,
     "metadata": {},
     "output_type": "execute_result"
    }
   ],
   "source": [
    "adr[2608]"
   ]
  },
  {
   "cell_type": "code",
   "execution_count": 1359,
   "metadata": {},
   "outputs": [],
   "source": [
    "si = df2['시군구'].to_numpy()"
   ]
  },
  {
   "cell_type": "code",
   "execution_count": 1360,
   "metadata": {},
   "outputs": [
    {
     "name": "stderr",
     "output_type": "stream",
     "text": [
      "4364it [00:00, 336667.57it/s]\n"
     ]
    },
    {
     "data": {
      "text/plain": [
       "56"
      ]
     },
     "execution_count": 1360,
     "metadata": {},
     "output_type": "execute_result"
    }
   ],
   "source": [
    "count = 0\n",
    "for i, one in tqdm(enumerate(adr)):\n",
    "    first = list(one.split())[0]\n",
    "    one = one.replace(' ' + first, '$' + first)\n",
    "    multi_adr = list(one.split('$'))\n",
    "    if len(multi_adr) == 2:\n",
    "        count += 1\n",
    "        for j, two in enumerate(multi_adr):\n",
    "            if si[i] in two:\n",
    "                adr[i] = multi_adr[j]\n",
    "count"
   ]
  },
  {
   "cell_type": "code",
   "execution_count": 1361,
   "metadata": {},
   "outputs": [
    {
     "data": {
      "text/plain": [
       "'전라남도 무안군 망운면 운해로 1436-10'"
      ]
     },
     "execution_count": 1361,
     "metadata": {},
     "output_type": "execute_result"
    }
   ],
   "source": [
    "adr[2608]"
   ]
  },
  {
   "cell_type": "markdown",
   "metadata": {},
   "source": [
    "#### 다른지역"
   ]
  },
  {
   "cell_type": "code",
   "execution_count": 1362,
   "metadata": {},
   "outputs": [],
   "source": [
    "sep = ' 광주광역시| 전라남도| 전라북도| 제주특별자치도| 세종특별자치시| 서울특별시| 대전광역시| 경기도| 인천광역시| 경상남도| 강원도| 충청북도| 경상북도| 충청남도| 울산광역시| 대구광역시| 부산광역시'"
   ]
  },
  {
   "cell_type": "code",
   "execution_count": 1363,
   "metadata": {},
   "outputs": [
    {
     "name": "stderr",
     "output_type": "stream",
     "text": [
      "4364it [00:00, 364613.11it/s]"
     ]
    },
    {
     "name": "stdout",
     "output_type": "stream",
     "text": [
      "2456 전라북도 순창군 풍산면 반월리 12-4 충청남도 공주시 탄천면 삼각리 523-2\n",
      "2791 충청북도 청주시 청원구 오창읍 구룡리 376-1 경상남도 거제시 양정동 665-1\n"
     ]
    },
    {
     "name": "stderr",
     "output_type": "stream",
     "text": [
      "\n"
     ]
    },
    {
     "data": {
      "text/plain": [
       "2"
      ]
     },
     "execution_count": 1363,
     "metadata": {},
     "output_type": "execute_result"
    }
   ],
   "source": [
    "count = 0\n",
    "for i, one in tqdm(enumerate(adr)):\n",
    "    multi_local = list(re.split(sep, one))\n",
    "    if len(multi_local) == 2:\n",
    "        print(i, one)\n",
    "        count += 1\n",
    "count"
   ]
  },
  {
   "cell_type": "code",
   "execution_count": 1364,
   "metadata": {},
   "outputs": [],
   "source": [
    "rep_dict = {\" 광주광역시\":\"$광주광역시\" ,\" 전라남도\":\"$전라남도\",\" 전라북도\":\"$전라북도\",\" 제주특별자치도\":\"$제주특별자치도\",\" 세종특별자치시\":\"$세종특별자치시\",\" 서울특별시\":\"$서울특별시\",\" 대전광역시\":\"$대전광역시\",\" 경기도\":\"$경기도\",\" 인천광역시\":\"$인천광역시\",\" 경상남도\":\"$경상남도\",\" 강원도\":\"$강원도\",\" 충청북도\":\"$충청북도\",\" 경상북도\":\"$경상북도\",\" 충청남도\":\"$충청남도\",\" 울산광역시\":\"$울산광역시\",\" 대구광역시\":\"$대구광역시\",\" 부산광역시\":\"$부산광역시\"}"
   ]
  },
  {
   "cell_type": "code",
   "execution_count": 1365,
   "metadata": {},
   "outputs": [
    {
     "data": {
      "text/plain": [
       "(array([2456], dtype=int64),)"
      ]
     },
     "execution_count": 1365,
     "metadata": {},
     "output_type": "execute_result"
    }
   ],
   "source": [
    "np.where(adr == '전라북도 순창군 풍산면 반월리 12-4 충청남도 공주시 탄천면 삼각리 523-2')"
   ]
  },
  {
   "cell_type": "code",
   "execution_count": 1366,
   "metadata": {},
   "outputs": [
    {
     "data": {
      "text/plain": [
       "'전라북도 순창군 풍산면 반월리 12-4 충청남도 공주시 탄천면 삼각리 523-2'"
      ]
     },
     "execution_count": 1366,
     "metadata": {},
     "output_type": "execute_result"
    }
   ],
   "source": [
    "adr[2456]"
   ]
  },
  {
   "cell_type": "code",
   "execution_count": 1367,
   "metadata": {},
   "outputs": [
    {
     "data": {
      "text/plain": [
       "'충청북도 청주시 청원구 오창읍 구룡리 376-1 경상남도 거제시 양정동 665-1'"
      ]
     },
     "execution_count": 1367,
     "metadata": {},
     "output_type": "execute_result"
    }
   ],
   "source": [
    "adr[2791]"
   ]
  },
  {
   "cell_type": "code",
   "execution_count": 1368,
   "metadata": {},
   "outputs": [
    {
     "name": "stderr",
     "output_type": "stream",
     "text": [
      "4364it [00:00, 137955.55it/s]\n"
     ]
    },
    {
     "data": {
      "text/plain": [
       "2"
      ]
     },
     "execution_count": 1368,
     "metadata": {},
     "output_type": "execute_result"
    }
   ],
   "source": [
    "count = 0\n",
    "for i, one in tqdm(enumerate(adr)):\n",
    "    for k, v in rep_dict.items():\n",
    "        one = one.replace(k, v)\n",
    "    multi_adr = list(one.split('$'))\n",
    "    if len(multi_adr) == 2:\n",
    "        count += 1\n",
    "        for j, two in enumerate(multi_adr):\n",
    "            if si[i] in two:\n",
    "                adr[i] = multi_adr[j]\n",
    "count"
   ]
  },
  {
   "cell_type": "code",
   "execution_count": 1369,
   "metadata": {},
   "outputs": [
    {
     "data": {
      "text/plain": [
       "'전라북도 순창군 풍산면 반월리 12-4'"
      ]
     },
     "execution_count": 1369,
     "metadata": {},
     "output_type": "execute_result"
    }
   ],
   "source": [
    "adr[2456]"
   ]
  },
  {
   "cell_type": "code",
   "execution_count": 1370,
   "metadata": {},
   "outputs": [
    {
     "data": {
      "text/plain": [
       "'충청북도 청주시 청원구 오창읍 구룡리 376-1'"
      ]
     },
     "execution_count": 1370,
     "metadata": {},
     "output_type": "execute_result"
    }
   ],
   "source": [
    "adr[2791]"
   ]
  },
  {
   "cell_type": "markdown",
   "metadata": {},
   "source": [
    "### 도로명 주소 정리\n",
    "- [길 숫자] 분리\n",
    "- [로 숫자] 분리\n",
    "- -문자 (숫자)(번)길 붙이기\n",
    "    - [로 숫자(번)길] 붙이기\n",
    "    - [앙 (숫자)길] 붙이기\n",
    "    - [장 (숫자)길] 붙이기\n",
    "    - [솜 (숫자)로] 붙이기\n",
    "    - [길 (숫자)번길] 붙이기\n",
    "    - [터 (숫자)길] 붙이기\n",
    "    - [개 (숫자)길] 붙이기"
   ]
  },
  {
   "cell_type": "markdown",
   "metadata": {},
   "source": [
    "#### [확인] 주소 분리\n",
    "- 정상\n",
    "    - 로\n",
    "        - [한글]로\n",
    "        - [한글][숫자]로\n",
    "        - [한글][(숫자)]로[숫자]길\n",
    "        - [한글][(숫자)]로[숫자][번|가|나|다|안]길\n",
    "    - 길\n",
    "        - [한글]길\n",
    "        - [한글][숫자]길\n",
    "        - [한글][숫자]길[숫자]번길\n",
    "    - 동\n",
    "        - [한글]동\n",
    "        - [한글][숫자]동\n",
    "    - 가\n",
    "        - [한글]동[숫자]가\n",
    "        - [한글]로[숫자]가\n"
   ]
  },
  {
   "cell_type": "markdown",
   "metadata": {},
   "source": [
    "#### [분리] [한글][번길, 길, 동] [숫자]\n",
    "- 주의\n",
    "    - 분리 YES\n",
    "        - 834, 경상남도 거창군 거창읍 심소정길39-36\n",
    "        - 1201, 강원도 삼척시 수로부인길453\n",
    "    - 분리 NO\n",
    "        - 743, 서울특별시 영등포구 신길1동 116-15\n",
    "        - 3673, 경상북도 포항시 남구 구룡포읍 구룡포길117번길 28-8"
   ]
  },
  {
   "cell_type": "code",
   "execution_count": 1371,
   "metadata": {},
   "outputs": [
    {
     "data": {
      "text/plain": [
       "(array([15], dtype=int64),)"
      ]
     },
     "execution_count": 1371,
     "metadata": {},
     "output_type": "execute_result"
    }
   ],
   "source": [
    "np.where(adr == '전라북도 전주시 완산구 신촌3길24번지')"
   ]
  },
  {
   "cell_type": "code",
   "execution_count": 1372,
   "metadata": {},
   "outputs": [
    {
     "data": {
      "text/plain": [
       "'전라북도 전주시 완산구 신촌3길24번지'"
      ]
     },
     "execution_count": 1372,
     "metadata": {},
     "output_type": "execute_result"
    }
   ],
   "source": [
    "adr[15]"
   ]
  },
  {
   "cell_type": "code",
   "execution_count": 1373,
   "metadata": {},
   "outputs": [],
   "source": [
    "split1 = re.compile('([가-힣]+[0-9]*[번동안가나길])([0-9]+)')"
   ]
  },
  {
   "cell_type": "code",
   "execution_count": 1374,
   "metadata": {},
   "outputs": [
    {
     "name": "stdout",
     "output_type": "stream",
     "text": [
      "전라북도 전주시 완산구 신촌3길24번지\n",
      "<re.Match object; span=(13, 19), match='신촌3길24'>\n"
     ]
    },
    {
     "data": {
      "text/plain": [
       "'전라북도 전주시 완산구 신촌3길 24번지'"
      ]
     },
     "execution_count": 1374,
     "metadata": {},
     "output_type": "execute_result"
    }
   ],
   "source": [
    "print(adr[15])\n",
    "print(split1.search(adr[15]))\n",
    "split1.sub('\\g<1> \\g<2>', adr[15])"
   ]
  },
  {
   "cell_type": "code",
   "execution_count": 1375,
   "metadata": {},
   "outputs": [
    {
     "name": "stdout",
     "output_type": "stream",
     "text": [
      "서울특별시 영등포구 신길1동 116-15\n",
      "<re.Match object; span=(11, 14), match='신길1'>\n"
     ]
    }
   ],
   "source": [
    "print(adr[743])\n",
    "print(split1.search(adr[743]))"
   ]
  },
  {
   "cell_type": "code",
   "execution_count": 1376,
   "metadata": {},
   "outputs": [
    {
     "name": "stdout",
     "output_type": "stream",
     "text": [
      "경상북도 포항시 남구 구룡포읍 구룡포길117번길 28-8\n",
      "<re.Match object; span=(17, 24), match='구룡포길117'>\n"
     ]
    }
   ],
   "source": [
    "print(adr[3673])\n",
    "print(split1.search(adr[3673]))"
   ]
  },
  {
   "cell_type": "code",
   "execution_count": 1377,
   "metadata": {},
   "outputs": [
    {
     "name": "stdout",
     "output_type": "stream",
     "text": [
      "15 전라북도 전주시 완산구 신촌3길24번지\n",
      "16 제주특별자치도 제주시 연동2334-4\n",
      "120 충청북도 제천시 의림대로42길34\n",
      "163 경상남도 창원시 성산구 사파동64-2\n",
      "389 충청북도 단양군 적성면 기동2길 32-37 (기동리)\n",
      "439 전라북도 전주시 완산구 효자동3가 1712-10\n",
      "443 전라북도 전주시 완산구 효자동2가 1234-3 5층\n",
      "547 서울특별시 송파구 오금로68길8\n",
      "559 제주특별자치도 제주시 한림읍 금악서길133\n",
      "605 전라북도 전주시 덕진구 인후동1가 807-6\n",
      "645 경상북도 구미시 인동14길 14\n",
      "649 대구광역시 북구 노원동2가 214\n",
      "687 경상남도 창원시 마산합포구 신마산시장길 33 (창포동3가)\n",
      "717 서울특별시 송파구 성내천로33가길20\n",
      "743 서울특별시 영등포구 신길1동 116-15\n",
      "834 경상남도 거창군 거창읍 심소정길39-36\n",
      "854 경상남도 창원시 진해구 용재로 46  웅동2동 주민센터 주차장 내\n",
      "887 경기도 파주시 탄현면 헤이리마을길82-105\n",
      "982 서울특별시 종로구 인사동5길 29 지상주차장\n",
      "1000 제주특별자치도 제주시 조천읍 선흘서5길7\n",
      "1056 경상남도 창원시 장군동4가 3-6\n",
      "1062 부산광역시 중구 중앙대로2 (중앙동7가)\n",
      "1135 충청북도 청주시 서원구 현도면 선동1길 9\n",
      "1139 충청남도 당진시 무수동2길 25-21\n",
      "1201 강원도 삼척시 수로부인길453\n",
      "1206 대전광역시 동구 용운동423-22\n",
      "1332 충청북도 청주시 흥덕구 직지대로620번길70\n",
      "1342 충청북도 괴산군 청안면 청안읍내로2길10\n",
      "1368 울산광역시 울주군 언양읍 언동3길 20-48\n",
      "1377 대전광역시 동구 홍도동92-3\n",
      "1426 강원도 삼척시 당저동1길 17-9\n",
      "1479 경기도 양평군 개군면 하자포길33번길 8\n",
      "1568 경상북도 구미시 오태동659-13\n",
      "1570 경상북도 포항시 북구 흥해읍 초곡길36번길 30\n",
      "1647 강원도 태백시 소도동326\n",
      "1675 충청북도 괴산군 불정면 목도로2길11\n",
      "1748 인천광역시 중구 북성동1가 97-32\n",
      "1811 경상남도 창원시 진해구 명동580 좌측 주차장\n",
      "1819 울산광역시 중구 단장골길1\n",
      "1854 강원도 철원군 동송읍 이평2로17번길32\n",
      "1919 강원도 삼척시 근덕면 상맹방길30-80\n",
      "1951 충청북도 괴산군 장연면 미선로오가5길7\n",
      "1954 경상남도 함양군 안의면 농월정길9-13\n",
      "2058 울산광역시 울주군 웅촌면 새초천길12\n",
      "2162 서울특별시 강서구 화곡로65길62\n",
      "2391 전라북도 진안군 마령면 솔안2길 8\n",
      "2396 울산광역시 남구 선암동584-8번지\n",
      "2421 전라북도 전주시 덕진구 송천동2가 1257\n",
      "2423 전라북도 전주시 덕진구 송천동2가 1316\n",
      "2586 경상북도 의성군 비안면 강변길59\n",
      "2616 경상남도 창원시 마산회원구 석전동4길 52\n",
      "2694 경상북도 포항시 장기면 양포항길12\n",
      "2747 부산광역시 강서구 공항진입로42번길20\n",
      "2780 제주특별자치도 제주시 용두암길15\n",
      "2851 강원도 태백시 보드미길8(장성동)\n",
      "2854 인천광역시 중구 송월동2가 4\n",
      "2862 전라북도 전주시 덕진구 가련산로 26-3 (송천동1가)\n",
      "2970 경상남도 합천군 합천읍 교동1길33\n",
      "2976 울산광역시 울주군 삼동면 보삼길550\n",
      "2979 충청북도 괴산군 칠성면 명태재로외사4길1\n",
      "2990 강원도 강릉시 성산면 삼포암길133\n",
      "2999 경상남도 창녕군 길곡면 증산2길19\n",
      "3008 경상북도 칠곡군 동명면 남원로5길77\n",
      "3017 충청남도 부여군 양화면 입포로53번길6\n",
      "3025 경상남도 김해시 삼안로 112번길20-61\n",
      "3030 경상북도 봉화군 봉성면 부랭이길88\n",
      "3042 인천광역시 중구 신포로27번길80\n",
      "3043 전라남도 보성군 용문길18\n",
      "3059 전라남도 보성군 미력면 가평길44\n",
      "3061 경상북도 영양군 영양읍 군청길37\n",
      "3069 경상남도 창원시 마산합포구 현동7길27\n",
      "3073 대전광역시 유성구 송림로 19번길35\n",
      "3078 대구광역시 동구 첨단로8길32\n",
      "3079 충청남도 논산시 산양1길2\n",
      "3088 경상남도 함양군 함양읍 삼휴길60-30\n",
      "3101 대전광역시 유성구 노은동로 87번길89\n",
      "3152 충청북도 영동군 황간면 원촌동1길54-8\n",
      "3165 경상북도 봉화군 춘양면 의양로5길19\n",
      "3174 경상북도 청송군 현서면 달정길9\n",
      "3177 경상북도 청송군 주왕산면 이전앞길27\n",
      "3189 경상북도 영양군 영양읍 군민회관길46\n",
      "3192 경상북도 청송군 진보면 이촌1길23-1\n",
      "3197 충청북도 제천시 내토로16안길8-1\n",
      "3211 충청북도 영동군 용화면 휴양림길60\n",
      "3224 경기도 시흥시 시흥대로268번길8\n",
      "3257 전라북도 군산시 설림안4길 30\n",
      "3272 강원도 춘천시 칠전동길28\n",
      "3273 전라북도 군산시 창길21\n",
      "3285 전라북도 익산시 인화동2가 7\n",
      "3324 전라북도 군산시 미장8길7\n",
      "3376 경상북도 영주시 중앙로63번길41-11\n",
      "3387 전라남도 목포시 남악로162번길25\n",
      "3396 울산광역시 울주군 청량읍 처용산업4길51\n",
      "3399 전라남도 보성군 회천면 우암길21\n",
      "3401 충청남도 금산군 금성면 의총길25\n",
      "3413 경상북도 구미시 광평길55\n",
      "3419 경상남도 창원시 의창구 태복산로15번길8\n",
      "3424 경상남도 진주시 가좌길29번길63\n",
      "3438 경상북도 칠곡군 왜관읍 평장3길47\n",
      "3453 전라남도 여수시 삼동3길 13\n",
      "3550 경상북도 안동시 학가산온천길42\n",
      "3673 경상북도 포항시 남구 구룡포읍 구룡포길117번길 28-8\n",
      "3742 경상남도 창원시 의창구 사림로 99번길63\n",
      "3891 경상남도 고성군 거류면 당동3길 5\n",
      "3924 전라남도 여수시 학동2길 7\n",
      "3987 전라남도 영암군 신북면 황금동1길 5-1\n",
      "4050 충청북도 청주시 서원구 현도면 선동2길 232-9\n",
      "4181 전라남도 여수시 관문동1길 39\n",
      "4221 충청북도 단양군 적성면 기동2길 32-37\n"
     ]
    }
   ],
   "source": [
    "count = 0\n",
    "for i, one in enumerate(adr):\n",
    "    if split1.search(one):\n",
    "        print(i, one)\n",
    "        count += 1"
   ]
  },
  {
   "cell_type": "code",
   "execution_count": 1378,
   "metadata": {},
   "outputs": [
    {
     "data": {
      "text/plain": [
       "109"
      ]
     },
     "execution_count": 1378,
     "metadata": {},
     "output_type": "execute_result"
    }
   ],
   "source": [
    "count"
   ]
  },
  {
   "cell_type": "code",
   "execution_count": 1379,
   "metadata": {},
   "outputs": [],
   "source": [
    "# 16 제주특별자치도 제주시 연동2334-4\n",
    "# 163 경상남도 창원시 성산구 사파동64-2\n",
    "# 559 제주특별자치도 제주시 한림읍 금악서길133\n",
    "# 834 경상남도 거창군 거창읍 심소정길39-36\n",
    "# 887 경기도 파주시 탄현면 헤이리마을길82-105\n",
    "# 1062 부산광역시 중구 중앙대로2 (중앙동7가)\n",
    "# 1201 강원도 삼척시 수로부인길453\n",
    "# 1206 대전광역시 동구 용운동423-22\n",
    "# 1377 대전광역시 동구 홍도동92-3\n",
    "# 1568 경상북도 구미시 오태동659-13\n",
    "# 1647 강원도 태백시 소도동326\n",
    "# 1811 경상남도 창원시 진해구 명동580 좌측 주차장\n",
    "# 1819 울산광역시 중구 단장골길1\n",
    "# 1919 강원도 삼척시 근덕면 상맹방길30-80\n",
    "# 1954 경상남도 함양군 안의면 농월정길9-13\n",
    "# 2058 울산광역시 울주군 웅촌면 새초천길12\n",
    "# 2396 울산광역시 남구 선암동584-8번지\n",
    "# 2586 경상북도 의성군 비안면 강변길59\n",
    "# 2694 경상북도 포항시 장기면 양포항길12\n",
    "# 2780 제주특별자치도 제주시 용두암길15\n",
    "# 2851 강원도 태백시 보드미길8(장성동)\n",
    "# 2976 울산광역시 울주군 삼동면 보삼길550\n",
    "# 2990 강원도 강릉시 성산면 삼포암길133\n",
    "# 3030 경상북도 봉화군 봉성면 부랭이길88\n",
    "# 3043 전라남도 보성군 용문길18\n",
    "# 3059 전라남도 보성군 미력면 가평길44\n",
    "# 3061 경상북도 영양군 영양읍 군청길37\n",
    "# 3088 경상남도 함양군 함양읍 삼휴길60-30\n",
    "# 3174 경상북도 청송군 현서면 달정길9\n",
    "# 3177 경상북도 청송군 주왕산면 이전앞길27\n",
    "# 3189 경상북도 영양군 영양읍 군민회관길46\n",
    "# 3211 충청북도 영동군 용화면 휴양림길60\n",
    "# 3272 강원도 춘천시 칠전동길28\n",
    "# 3273 전라북도 군산시 창길21\n",
    "# 3399 전라남도 보성군 회천면 우암길21\n",
    "# 3401 충청남도 금산군 금성면 의총길25\n",
    "# 3413 경상북도 구미시 광평길55\n",
    "# 3550 경상북도 안동시 학가산온천길42"
   ]
  },
  {
   "cell_type": "code",
   "execution_count": 1380,
   "metadata": {},
   "outputs": [],
   "source": [
    "# 15 전라북도 전주시 완산구 신촌3길24번지\n",
    "# 120 충청북도 제천시 의림대로42길34\n",
    "# 547 서울특별시 송파구 오금로68길8\n",
    "# 717 서울특별시 송파구 성내천로33가길20\n",
    "# 1000 제주특별자치도 제주시 조천읍 선흘서5길7\n",
    "# 1332 충청북도 청주시 흥덕구 직지대로620번길70\n",
    "# 1342 충청북도 괴산군 청안면 청안읍내로2길10\n",
    "# 1675 충청북도 괴산군 불정면 목도로2길11\n",
    "# 1854 강원도 철원군 동송읍 이평2로17번길32\n",
    "# 1951 충청북도 괴산군 장연면 미선로오가5길7\n",
    "# 2162 서울특별시 강서구 화곡로65길62\n",
    "# 2747 부산광역시 강서구 공항진입로42번길20\n",
    "# 2970 경상남도 합천군 합천읍 교동1길33\n",
    "# 2979 충청북도 괴산군 칠성면 명태재로외사4길1\n",
    "# 2999 경상남도 창녕군 길곡면 증산2길19\n",
    "# 3008 경상북도 칠곡군 동명면 남원로5길77\n",
    "# 3017 충청남도 부여군 양화면 입포로53번길6\n",
    "# 3042 인천광역시 중구 신포로27번길80\n",
    "# 3069 경상남도 창원시 마산합포구 현동7길27\n",
    "# 3078 대구광역시 동구 첨단로8길32\n",
    "# 3079 충청남도 논산시 산양1길2\n",
    "# 3152 충청북도 영동군 황간면 원촌동1길54-8\n",
    "# 3165 경상북도 봉화군 춘양면 의양로5길19\n",
    "# 3192 경상북도 청송군 진보면 이촌1길23-1\n",
    "# 3197 충청북도 제천시 내토로16안길8-1\n",
    "# 3224 경기도 시흥시 시흥대로268번길8\n",
    "# 3324 전라북도 군산시 미장8길7\n",
    "# 3376 경상북도 영주시 중앙로63번길41-11\n",
    "# 3387 전라남도 목포시 남악로162번길25\n",
    "# 3396 울산광역시 울주군 청량읍 처용산업4길51\n",
    "# 3419 경상남도 창원시 의창구 태복산로15번길8\n",
    "# 3424 경상남도 진주시 가좌길29번길63\n",
    "# 3438 경상북도 칠곡군 왜관읍 평장3길47"
   ]
  },
  {
   "cell_type": "code",
   "execution_count": 1381,
   "metadata": {},
   "outputs": [],
   "source": [
    "# 3025 경상남도 김해시 삼안로 112번길20-61\n",
    "# 3073 대전광역시 유성구 송림로 19번길35\n",
    "# 3101 대전광역시 유성구 노은동로 87번길89\n",
    "# 3742 경상남도 창원시 의창구 사림로 99번길63"
   ]
  },
  {
   "cell_type": "code",
   "execution_count": 1382,
   "metadata": {},
   "outputs": [
    {
     "data": {
      "text/plain": [
       "38"
      ]
     },
     "execution_count": 1382,
     "metadata": {},
     "output_type": "execute_result"
    }
   ],
   "source": [
    "idx11 = [16, 163, 559, 834, 887, 1062, 1201, 1206, 1377, 1568, 1647, 1811, 1819, 1919, \n",
    "        1954, 2058, 2396, 2586, 2694, 2780, 2851, 2976, 2990, 3030, 3043,\n",
    "        3059, 3061, 3088, 3174, 3177, 3189, 3211, 3272, 3273, 3399, 3401, 3413, 3550]\n",
    "len(idx11)"
   ]
  },
  {
   "cell_type": "code",
   "execution_count": 1383,
   "metadata": {},
   "outputs": [
    {
     "data": {
      "text/plain": [
       "33"
      ]
     },
     "execution_count": 1383,
     "metadata": {},
     "output_type": "execute_result"
    }
   ],
   "source": [
    "idx12 = [15, 120, 547, 717, 1000, 1332, 1342, 1675, 1854, 1951, \n",
    "         2162, 2747, 2970, 2979, 2999, 3008, 3017, 3042, 3069, 3078,\n",
    "         3079, 3152, 3165, 3192, 3197, 3224, 3324, 3376, 3387,\n",
    "         3396, 3419, 3424, 3438]\n",
    "len(idx12)"
   ]
  },
  {
   "cell_type": "code",
   "execution_count": 1384,
   "metadata": {},
   "outputs": [],
   "source": [
    "idx13 = [3025, 3073, 3101, 3742]"
   ]
  },
  {
   "cell_type": "code",
   "execution_count": 1385,
   "metadata": {},
   "outputs": [],
   "source": [
    "split11 = re.compile('([가-힣]+[0-9]*[번동안가나길로])([0-9]+)')"
   ]
  },
  {
   "cell_type": "code",
   "execution_count": 1386,
   "metadata": {},
   "outputs": [
    {
     "name": "stdout",
     "output_type": "stream",
     "text": [
      "제주특별자치도 제주시 연동2334-4\n",
      "<re.Match object; span=(12, 18), match='연동2334'>\n",
      "제주특별자치도 제주시 연동 2334-4\n"
     ]
    }
   ],
   "source": [
    "print(adr[16])\n",
    "print(split11.search(adr[16]))\n",
    "print(split11.sub('\\g<1> \\g<2>', adr[16], 1) )"
   ]
  },
  {
   "cell_type": "code",
   "execution_count": 1387,
   "metadata": {},
   "outputs": [
    {
     "name": "stdout",
     "output_type": "stream",
     "text": [
      "부산광역시 중구 중앙대로2 (중앙동7가)\n",
      "<re.Match object; span=(9, 14), match='중앙대로2'>\n",
      "부산광역시 중구 중앙대로 2 (중앙동7가)\n"
     ]
    }
   ],
   "source": [
    "print(adr[1062])\n",
    "print(split11.search(adr[1062]))\n",
    "print(split11.sub('\\g<1> \\g<2>', adr[1062], 1) )"
   ]
  },
  {
   "cell_type": "code",
   "execution_count": 1388,
   "metadata": {},
   "outputs": [
    {
     "name": "stdout",
     "output_type": "stream",
     "text": [
      "울산광역시 남구 선암동584-8번지\n",
      "<re.Match object; span=(9, 15), match='선암동584'>\n",
      "울산광역시 남구 선암동 584-8번지\n"
     ]
    }
   ],
   "source": [
    "print(adr[2396])\n",
    "print(split11.search(adr[2396]))\n",
    "print(split11.sub('\\g<1> \\g<2>', adr[2396], 1) )"
   ]
  },
  {
   "cell_type": "code",
   "execution_count": 1389,
   "metadata": {},
   "outputs": [
    {
     "name": "stdout",
     "output_type": "stream",
     "text": [
      "강원도 태백시 보드미길8(장성동)\n",
      "<re.Match object; span=(8, 13), match='보드미길8'>\n",
      "강원도 태백시 보드미길 8(장성동)\n"
     ]
    }
   ],
   "source": [
    "print(adr[2851])\n",
    "print(split11.search(adr[2851]))\n",
    "print(split11.sub('\\g<1> \\g<2>', adr[2851], 1) )"
   ]
  },
  {
   "cell_type": "code",
   "execution_count": 1390,
   "metadata": {},
   "outputs": [
    {
     "name": "stdout",
     "output_type": "stream",
     "text": [
      "전라남도 보성군 회천면 우암길21\n",
      "<re.Match object; span=(13, 18), match='우암길21'>\n",
      "전라남도 보성군 회천면 우암길 21\n"
     ]
    }
   ],
   "source": [
    "print(adr[3399])\n",
    "print(split11.search(adr[3399]))\n",
    "print(split11.sub('\\g<1> \\g<2>', adr[3399], 1) )"
   ]
  },
  {
   "cell_type": "code",
   "execution_count": 1391,
   "metadata": {},
   "outputs": [
    {
     "data": {
      "text/plain": [
       "array(['제주특별자치도 제주시 연동2334-4', '부산광역시 중구 중앙대로2 (중앙동7가)',\n",
       "       '울산광역시 남구 선암동584-8번지', '강원도 태백시 보드미길8(장성동)', '전라남도 보성군 회천면 우암길21'],\n",
       "      dtype=object)"
      ]
     },
     "execution_count": 1391,
     "metadata": {},
     "output_type": "execute_result"
    }
   ],
   "source": [
    "adr[[16, 1062, 2396, 2851, 3399]]"
   ]
  },
  {
   "cell_type": "code",
   "execution_count": 1392,
   "metadata": {},
   "outputs": [
    {
     "data": {
      "text/plain": [
       "38"
      ]
     },
     "execution_count": 1392,
     "metadata": {},
     "output_type": "execute_result"
    }
   ],
   "source": [
    "len(idx11)"
   ]
  },
  {
   "cell_type": "code",
   "execution_count": 1393,
   "metadata": {},
   "outputs": [
    {
     "name": "stderr",
     "output_type": "stream",
     "text": [
      "100%|██████████| 38/38 [00:00<00:00, 38194.00it/s]\n"
     ]
    }
   ],
   "source": [
    "for i in tqdm(idx11):\n",
    "    temp = adr[i]\n",
    "    adr[i] = split11.sub('\\g<1> \\g<2>', temp, 1)"
   ]
  },
  {
   "cell_type": "code",
   "execution_count": 1394,
   "metadata": {},
   "outputs": [
    {
     "data": {
      "text/plain": [
       "array(['제주특별자치도 제주시 연동 2334-4', '부산광역시 중구 중앙대로 2 (중앙동7가)',\n",
       "       '울산광역시 남구 선암동 584-8번지', '강원도 태백시 보드미길 8(장성동)',\n",
       "       '전라남도 보성군 회천면 우암길 21'], dtype=object)"
      ]
     },
     "execution_count": 1394,
     "metadata": {},
     "output_type": "execute_result"
    }
   ],
   "source": [
    "adr[[16, 1062, 2396, 2851, 3399]]"
   ]
  },
  {
   "cell_type": "code",
   "execution_count": 1395,
   "metadata": {},
   "outputs": [],
   "source": [
    "split12 = re.compile('([가-힣]+[0-9]*[번길])([0-9]+)')"
   ]
  },
  {
   "cell_type": "code",
   "execution_count": 1396,
   "metadata": {},
   "outputs": [
    {
     "name": "stdout",
     "output_type": "stream",
     "text": [
      "전라북도 전주시 완산구 신촌3길24번지\n",
      "<re.Match object; span=(13, 19), match='신촌3길24'>\n",
      "전라북도 전주시 완산구 신촌3길 24번지\n"
     ]
    }
   ],
   "source": [
    "print(adr[15])\n",
    "print(split12.search(adr[15]))\n",
    "print(split12.sub('\\g<1> \\g<2>', adr[15], 1) )"
   ]
  },
  {
   "cell_type": "code",
   "execution_count": 1397,
   "metadata": {},
   "outputs": [
    {
     "name": "stdout",
     "output_type": "stream",
     "text": [
      "강원도 철원군 동송읍 이평2로17번길32\n",
      "<re.Match object; span=(18, 22), match='번길32'>\n",
      "강원도 철원군 동송읍 이평2로17번길 32\n"
     ]
    }
   ],
   "source": [
    "print(adr[1854])\n",
    "print(split12.search(adr[1854]))\n",
    "print(split12.sub('\\g<1> \\g<2>', adr[1854], 1) )"
   ]
  },
  {
   "cell_type": "code",
   "execution_count": 1398,
   "metadata": {},
   "outputs": [
    {
     "name": "stdout",
     "output_type": "stream",
     "text": [
      "제주특별자치도 제주시 조천읍 선흘서5길7\n",
      "<re.Match object; span=(16, 22), match='선흘서5길7'>\n",
      "제주특별자치도 제주시 조천읍 선흘서5길 7\n"
     ]
    }
   ],
   "source": [
    "print(adr[1000])\n",
    "print(split12.search(adr[1000]))\n",
    "print(split12.sub('\\g<1> \\g<2>', adr[1000], 1) )"
   ]
  },
  {
   "cell_type": "code",
   "execution_count": 1399,
   "metadata": {},
   "outputs": [
    {
     "name": "stdout",
     "output_type": "stream",
     "text": [
      "충청북도 영동군 황간면 원촌동1길54-8\n",
      "<re.Match object; span=(13, 20), match='원촌동1길54'>\n",
      "충청북도 영동군 황간면 원촌동1길 54-8\n"
     ]
    }
   ],
   "source": [
    "print(adr[3152])\n",
    "print(split12.search(adr[3152]))\n",
    "print(split12.sub('\\g<1> \\g<2>', adr[3152], 1) )"
   ]
  },
  {
   "cell_type": "code",
   "execution_count": 1400,
   "metadata": {},
   "outputs": [
    {
     "data": {
      "text/plain": [
       "array(['전라북도 전주시 완산구 신촌3길24번지', '강원도 철원군 동송읍 이평2로17번길32',\n",
       "       '제주특별자치도 제주시 조천읍 선흘서5길7', '충청북도 영동군 황간면 원촌동1길54-8'], dtype=object)"
      ]
     },
     "execution_count": 1400,
     "metadata": {},
     "output_type": "execute_result"
    }
   ],
   "source": [
    "adr[[15, 1854, 1000, 3152]]"
   ]
  },
  {
   "cell_type": "code",
   "execution_count": 1401,
   "metadata": {},
   "outputs": [
    {
     "data": {
      "text/plain": [
       "33"
      ]
     },
     "execution_count": 1401,
     "metadata": {},
     "output_type": "execute_result"
    }
   ],
   "source": [
    "len(idx12)"
   ]
  },
  {
   "cell_type": "code",
   "execution_count": 1402,
   "metadata": {},
   "outputs": [
    {
     "name": "stderr",
     "output_type": "stream",
     "text": [
      "100%|██████████| 33/33 [00:00<00:00, 33152.58it/s]\n"
     ]
    }
   ],
   "source": [
    "for i in tqdm(idx12):\n",
    "    temp = adr[i]\n",
    "    adr[i] = split12.sub('\\g<1> \\g<2>', temp, 1)"
   ]
  },
  {
   "cell_type": "code",
   "execution_count": 1403,
   "metadata": {},
   "outputs": [
    {
     "data": {
      "text/plain": [
       "array(['전라북도 전주시 완산구 신촌3길 24번지', '강원도 철원군 동송읍 이평2로17번길 32',\n",
       "       '제주특별자치도 제주시 조천읍 선흘서5길 7', '충청북도 영동군 황간면 원촌동1길 54-8'], dtype=object)"
      ]
     },
     "execution_count": 1403,
     "metadata": {},
     "output_type": "execute_result"
    }
   ],
   "source": [
    "adr[[15, 1854, 1000, 3152]]"
   ]
  },
  {
   "cell_type": "code",
   "execution_count": 1404,
   "metadata": {},
   "outputs": [],
   "source": [
    "split13 = re.compile('([가-힣]+로) ([0-9]+번길)([0-9]+)')"
   ]
  },
  {
   "cell_type": "code",
   "execution_count": 1405,
   "metadata": {},
   "outputs": [
    {
     "name": "stdout",
     "output_type": "stream",
     "text": [
      "경상남도 김해시 삼안로 112번길20-61\n",
      "<re.Match object; span=(9, 20), match='삼안로 112번길20'>\n",
      "경상남도 김해시 삼안로112번길 20-61\n"
     ]
    }
   ],
   "source": [
    "print(adr[3025])\n",
    "print(split13.search(adr[3025]))\n",
    "print(split13.sub('\\g<1>\\g<2> \\g<3>', adr[3025], 1) )"
   ]
  },
  {
   "cell_type": "code",
   "execution_count": 1406,
   "metadata": {},
   "outputs": [
    {
     "name": "stdout",
     "output_type": "stream",
     "text": [
      "대전광역시 유성구 노은동로 87번길89\n",
      "<re.Match object; span=(10, 21), match='노은동로 87번길89'>\n",
      "대전광역시 유성구 노은동로87번길 89\n"
     ]
    }
   ],
   "source": [
    "print(adr[3101])\n",
    "print(split13.search(adr[3101]))\n",
    "print(split13.sub('\\g<1>\\g<2> \\g<3>', adr[3101], 1) )"
   ]
  },
  {
   "cell_type": "code",
   "execution_count": 1407,
   "metadata": {},
   "outputs": [
    {
     "name": "stderr",
     "output_type": "stream",
     "text": [
      "100%|██████████| 4/4 [00:00<00:00, 4005.06it/s]\n"
     ]
    }
   ],
   "source": [
    "for i in tqdm(idx13):\n",
    "    temp = adr[i]\n",
    "    adr[i] = split13.sub('\\g<1>\\g<2> \\g<3>', temp, 1)"
   ]
  },
  {
   "cell_type": "code",
   "execution_count": 1408,
   "metadata": {},
   "outputs": [
    {
     "data": {
      "text/plain": [
       "array(['경상남도 김해시 삼안로112번길 20-61', '대전광역시 유성구 노은동로87번길 89'], dtype=object)"
      ]
     },
     "execution_count": 1408,
     "metadata": {},
     "output_type": "execute_result"
    }
   ],
   "source": [
    "adr[[3025, 3101]]"
   ]
  },
  {
   "cell_type": "markdown",
   "metadata": {},
   "source": [
    "#### [분리] -길-로-번길 [숫자]-[숫자]"
   ]
  },
  {
   "cell_type": "code",
   "execution_count": 1409,
   "metadata": {},
   "outputs": [],
   "source": [
    "split2 = re.compile('([가-힣]+[로가나번길동리])([0-9]+[-][0-9]+)')"
   ]
  },
  {
   "cell_type": "code",
   "execution_count": 1410,
   "metadata": {},
   "outputs": [
    {
     "name": "stdout",
     "output_type": "stream",
     "text": [
      "19 제주특별자치도 제주시 애월읍 애월해안로400-9\n",
      "132 경기도 화성시 노작로226-26\n",
      "771 강원도 철원군 서면 와수리1160-3\n",
      "1058 경상남도 합천군 쌍백면 쌍백중앙로162-8\n",
      "1336 충청북도 청주시 청원구 오창읍 두릉유리로1137-1\n",
      "1519 서울특별시 송파구 성내천로299-7\n",
      "1618 대구광역시 달성군 가창면 가창로607-2\n",
      "1648 강원도 속초시 설악산로470-7\n",
      "1709 경상남도 거제시 일운면 와현리431-2\n",
      "1905 울산광역시 울주군 범서읍 구영리216-3\n",
      "1978 경기도 파주시 적성면 설마리48-3\n",
      "2104 경상남도 산청군 시천면 중산리501-4\n",
      "2443 충청남도 부여군 홍산면 북촌리188-7\n",
      "2447 강원도 삼척시 원덕읍 삼척로445-53\n",
      "2961 경상남도 김해시 삼계로104-32\n",
      "2966 경상남도 통영시 산양읍 산양일주로1683-25\n",
      "2987 경상북도 청송군 주왕산면 주왕산로698-35\n",
      "3005 경상북도 영주시 장수면 용주로88-42\n",
      "3072 경상북도 청송군 청송읍 금월로244-30\n",
      "3097 경상남도 합천군 묘산면 묘산로173-1\n",
      "3128 경상북도 영양군 입암면 영양로883-5\n",
      "3210 경상북도 청송군 부남면 청송로3478-96\n",
      "3262 전라북도 고창군 해리면 하련리189-5\n",
      "3286 경상남도 의령군 의령읍 충익로86-2\n",
      "3433 경상북도 울진군 대흥신림로1046-280\n",
      "3551 경상남도 의령군 지정면 봉곡리511-2\n",
      "3723 경상북도 구미시 선산읍 선산중앙로83-2\n"
     ]
    },
    {
     "data": {
      "text/plain": [
       "27"
      ]
     },
     "execution_count": 1410,
     "metadata": {},
     "output_type": "execute_result"
    }
   ],
   "source": [
    "count = 0\n",
    "idx2 = []\n",
    "for i, one in enumerate(adr):\n",
    "    if split2.search(one):\n",
    "        idx2.append(i)\n",
    "        print(i, one)\n",
    "        count += 1\n",
    "count"
   ]
  },
  {
   "cell_type": "code",
   "execution_count": 1411,
   "metadata": {},
   "outputs": [
    {
     "name": "stdout",
     "output_type": "stream",
     "text": [
      "강원도 철원군 서면 와수리1160-3\n",
      "<re.Match object; span=(11, 20), match='와수리1160-3'>\n",
      "강원도 철원군 서면 와수리 1160-3\n"
     ]
    }
   ],
   "source": [
    "print(adr[771])\n",
    "print(split2.search(adr[771]))\n",
    "print(split2.sub('\\g<1> \\g<2>', adr[771], 1) )"
   ]
  },
  {
   "cell_type": "code",
   "execution_count": 1412,
   "metadata": {},
   "outputs": [
    {
     "name": "stderr",
     "output_type": "stream",
     "text": [
      "100%|██████████| 27/27 [00:00<?, ?it/s]\n"
     ]
    }
   ],
   "source": [
    "for i in tqdm(idx2):\n",
    "    temp = adr[i]\n",
    "    adr[i] = split2.sub('\\g<1> \\g<2>', temp, 1)"
   ]
  },
  {
   "cell_type": "code",
   "execution_count": 1413,
   "metadata": {},
   "outputs": [
    {
     "data": {
      "text/plain": [
       "array(['강원도 철원군 서면 와수리 1160-3', '경상북도 구미시 선산읍 선산중앙로 83-2'], dtype=object)"
      ]
     },
     "execution_count": 1413,
     "metadata": {},
     "output_type": "execute_result"
    }
   ],
   "source": [
    "adr[[771, 3723]]"
   ]
  },
  {
   "cell_type": "markdown",
   "metadata": {},
   "source": [
    "#### [확인] [한글][(숫자)]로[숫자][번|가|나|안]길"
   ]
  },
  {
   "cell_type": "code",
   "execution_count": 1414,
   "metadata": {},
   "outputs": [],
   "source": [
    "split3 = re.compile('([가-힣]+[0-9]*[로][0-9]+[가-힣][번가나안길])([0-9]+)')"
   ]
  },
  {
   "cell_type": "code",
   "execution_count": 1415,
   "metadata": {},
   "outputs": [
    {
     "data": {
      "text/plain": [
       "'경기도 시흥시 시흥대로268번길 8'"
      ]
     },
     "execution_count": 1415,
     "metadata": {},
     "output_type": "execute_result"
    }
   ],
   "source": [
    "adr[3224]"
   ]
  },
  {
   "cell_type": "code",
   "execution_count": 1416,
   "metadata": {},
   "outputs": [
    {
     "data": {
      "text/plain": [
       "<re.Match object; span=(8, 18), match='시흥대로268번길8'>"
      ]
     },
     "execution_count": 1416,
     "metadata": {},
     "output_type": "execute_result"
    }
   ],
   "source": [
    "s = '경기도 시흥시 시흥대로268번길8'\n",
    "split3.search(s)"
   ]
  },
  {
   "cell_type": "code",
   "execution_count": 1417,
   "metadata": {},
   "outputs": [],
   "source": [
    "count = 0\n",
    "idx3 = []\n",
    "for i, one in enumerate(adr):\n",
    "    if split3.search(one):\n",
    "        print(i, one)\n",
    "        idx3.append(i)\n",
    "        count += 1"
   ]
  },
  {
   "cell_type": "code",
   "execution_count": 1418,
   "metadata": {},
   "outputs": [
    {
     "data": {
      "text/plain": [
       "0"
      ]
     },
     "execution_count": 1418,
     "metadata": {},
     "output_type": "execute_result"
    }
   ],
   "source": [
    "count"
   ]
  },
  {
   "cell_type": "markdown",
   "metadata": {},
   "source": [
    "#### [확인] [한글]로"
   ]
  },
  {
   "cell_type": "code",
   "execution_count": 1419,
   "metadata": {},
   "outputs": [
    {
     "data": {
      "text/plain": [
       "'경상남도 창녕군 유어면 우포1대로583'"
      ]
     },
     "execution_count": 1419,
     "metadata": {},
     "output_type": "execute_result"
    }
   ],
   "source": [
    "adr[2993]"
   ]
  },
  {
   "cell_type": "code",
   "execution_count": 1420,
   "metadata": {},
   "outputs": [],
   "source": [
    "split4 = re.compile('([가-힣]+로)([0-9]+)')"
   ]
  },
  {
   "cell_type": "code",
   "execution_count": 1421,
   "metadata": {},
   "outputs": [
    {
     "name": "stdout",
     "output_type": "stream",
     "text": [
      "경상남도 창녕군 유어면 우포1대로583\n",
      "<re.Match object; span=(16, 21), match='대로583'>\n"
     ]
    }
   ],
   "source": [
    "print(adr[2993])\n",
    "print(split4.search(adr[2993]))"
   ]
  },
  {
   "cell_type": "code",
   "execution_count": 1422,
   "metadata": {},
   "outputs": [
    {
     "name": "stderr",
     "output_type": "stream",
     "text": [
      "4364it [00:00, 273654.71it/s]"
     ]
    },
    {
     "name": "stdout",
     "output_type": "stream",
     "text": [
      "1 광주광역시 북구 첨단벤처로108번길 9\n",
      "4 전라남도 구례군 산동면 노고단로1068\n",
      "18 제주특별자치도 서귀포시 성산읍 해맞이해안로2660\n",
      "35 대전광역시 유성구 반석로12번길 18-4\n",
      "43 서울특별시 마포구 마포대로1길 9\n",
      "44 서울특별시 성동구 광나루로4가길 23\n",
      "65 충청북도 충주시 으뜸로21\n",
      "79 제주특별자치도 제주시 중앙로25길 17\n",
      "85 경기도 이천시 마장면 중부고속도로82\n",
      "88 경기도 용인시 처인구 주북로94번길 30-1 (고림동)\n",
      "100 경기도 시흥시 서울대학로278번길 67 지상4층 주차장 A4\n",
      "101 경상남도 양산시 백호로23 축구장 옆\n",
      "103 서울특별시 영등포구 의사당대로1 국회의원회관 주차장 우측\n",
      "116 경기도 가평군 설악면 미사리로540번길 51\n",
      "120 충청북도 제천시 의림대로42길 34\n",
      "131 경기도 화성시 동탄공원로2길 32\n",
      "138 제주특별자치도 서귀포시 소보리당로164번길 62  주차장 좌측\n",
      "177 대구광역시 동구 아양로37길 92\n",
      "178 대구광역시 북구 복현로8길 16-5\n",
      "215 경기도 이천시 마장면 중부대로609번길 244-35 (목리)\n",
      "216 경기도 이천시 신둔면 서이천로853번길 346-129 (용면리)\n",
      "232 전라남도 곡성군 곡성읍 학교로8\n",
      "296 경상남도 김해시 장유로116번길 44-82 (부곡동)\n",
      "316 경기도 동두천시 평화로2910번길 30\n",
      "322 경기도 양평군 청운면 용두로164번길 9-5\n",
      "324 경기도 이천시 마장면 덕이로154번길 287-76 휴게소 옥외 장애인 주차장(휴게소 정면 우측 흡연장 앞)\n",
      "326 경기도 군포시 군포로609번안길 12\n",
      "369 서울특별시 강동구 진황도로29길 34 지하1층 26\n",
      "374 서울특별시 관악구 난곡로34나길 14 2층\n",
      "375 서울특별시 관악구 낙성대로4가길 5\n",
      "379 서울특별시 노원구 동일로204가길 12 5층 출구앞\n",
      "402 서울특별시 영등포구 의사당대로1 국회도서관 앞\n",
      "409 강원도 삼척시 청석로3길 16-41\n",
      "421 제주특별자치도 서귀포시 표선면 성읍정의현로22번길 7-1  성읍민속마을 주차장 우측 끝\n",
      "465 경상북도 성주군 성주읍 성주순환로251\n",
      "471 경상북도 칠곡군 왜관읍 석전로7길 58\n",
      "522 경상남도 의령군 의령읍 의병로8길 44 게이트볼장 옆 주차장\n",
      "543 서울특별시 강남구 남부순환로3104\n",
      "545 서울특별시 강서구 양천로61길 101\n",
      "547 서울특별시 송파구 오금로68길 8\n",
      "557 대전광역시 중구 부용로41번길 55\n",
      "565 경상북도 청송군 파천면 청송로5544\n",
      "568 대구광역시 달성군 구지면 국가산단대로40길 20\n",
      "579 서울특별시 서초구 양재대로12길 74 1층 입구\n",
      "583 서울특별시 용산구 원효로35길 53 옥상\n",
      "612 서울특별시 마포구 마포대로1길 19  지상주차장\n",
      "619 서울특별시 강서구 강서로5길 50 지상주차장\n",
      "620 서울특별시 관악구 봉천로21길 38 입구좌측 지하 각 1기\n",
      "621 대구광역시 수성구 청수로31길 45\n",
      "638 광주광역시 광산구 소촌로152번길 53-27\n",
      "639 광주광역시 북구 첨단과기로208번길 43\n",
      "656 부산광역시 사상구 엄궁로191번길 23(엄궁동)\n",
      "657 부산광역시 강서구 미음산단로295번길 10\n",
      "665 경상북도 포항시 북구 해안로82\n",
      "693 서울특별시 강남구 테헤란로606\n",
      "710 광주광역시 광산구 첨단강변로99번길 22  지상주차장 2층\n",
      "714 대구광역시 수성구 달구벌대로637길 5 주차장 출구 직전\n",
      "717 서울특별시 송파구 성내천로33가길 20\n",
      "719 서울특별시 양천구 화곡로4길 10\n",
      "730 강원도 양구군 양구읍 비봉로73번길 52\n",
      "770 강원도 철원군 갈말읍 삼부연로38\n",
      "780 부산광역시 영도구 대교로14번길 57  지상주차장 3층 410구역\n",
      "789 대구광역시 동구 효동로2길 93\n",
      "858 경상남도 김해시 진영읍 하계로96번길 94-4  주유소 옆 주차장\n",
      "884 경기도 의정부시 시민로19번길 13 지하2층 M50 기둥옆\n",
      "895 경기도 수원시 장안구 만석로19번길 25-10 (천천동)\n",
      "902 경기도 의정부시 산단로76번길 116-0 (용현동)\n",
      "905 서울특별시 영등포구 양산로111  왼쪽 끝편 주차장\n",
      "923 강원도 춘천시 소양로1가 47-7\n",
      "936 경기도 수원시 권선구 서수원로577번길 171\n",
      "962 인천광역시 중구 공항로424번길 47  정문 주차장\n",
      "964 인천광역시 중구 신포로27번길 80\n",
      "972 광주광역시 북구 동문대로456번길 40  주차장 1층\n",
      "981 서울특별시 영등포구 영중로3길 7 지하1층 여성전용구역\n",
      "995 제주특별자치도 서귀포시 상효로39 (상효동 754-1)\n",
      "1048 경기도 성남시 분당구 황새울로311번길 28-0 (서현동)\n",
      "1057 경상남도 창원시 의창구 창원대로314\n",
      "1085 경기도 양평군 지평면 지평의병로116번길 1\n",
      "1098 인천광역시 서구 탁옥로51번길 26  서구청후문 주차타워 지상 1층\n",
      "1105 제주특별자치도 서귀포시 중앙로62번길 18 4층\n",
      "1174 제주특별자치도 제주시 서광로2길 24  실내수영장 앞 주차장\n",
      "1177 제주특별자치도 제주시 서광로2길 24  애향운동장 앞 주차장\n",
      "1186 서울특별시 서초구 양재대로12길 73-71 (원지동)\n",
      "1192 경상북도 의성군 안계면 서부로1783\n",
      "1200 경상북도 구미시 구미대로22길 11-0 (신평동)\n",
      "1205 강원도 원주시 입춘로65\n",
      "1213 충청남도 홍성군 홍성읍 조양로247번길 9 (고암리)\n",
      "1324 전라남도 영광군 백수읍 해안로918\n",
      "1332 충청북도 청주시 흥덕구 직지대로620번길 70\n",
      "1338 충청북도 청주시 서원구 수곡로61\n",
      "1341 충청북도 괴산군 연풍면 향교로71\n",
      "1342 충청북도 괴산군 청안면 청안읍내로2길 10\n",
      "1349 충청북도 음성군 삼성면 덕정로30번길 8\n",
      "1418 충청남도 청양군 청양읍 칠갑산로6길 28\n",
      "1423 경기도 이천시 마장면 덕이로154번길 287-76 휴게소 정면 좌측 주차장(흡연장 옆)\n",
      "1488 서울특별시 강동구 고덕로28길 36 지하1층 좌측\n",
      "1505 경상남도 양산시 어곡터널로40\n",
      "1506 경상남도 양산시 물금읍 황산로501\n",
      "1507 경상남도 의령군 의령읍 백산로4\n",
      "1514 대구광역시 중구 국채보상로131길 17  대구시청 앞 주차장 왼편\n",
      "1522 서울특별시 양천구 목동동로81\n",
      "1525 서울특별시 강남구 강남대로120길 33\n",
      "1526 강원도 평창군 진부면 경강로3562\n",
      "1566 경상북도 상주시 화남면 문장로758\n",
      "1569 경상북도 포항시 남구 장기면 동해안로2987\n",
      "1581 경기도 의정부시 동일로30\n",
      "1590 서울특별시 영등포구 신길로40길 5 1층 정면\n",
      "1606 경상북도 영천시 천문로594\n",
      "1619 경상북도 경산시 진량읍 공단로299\n",
      "1620 경상북도 상주시 함창로581번지\n",
      "1639 대구광역시 달성군 구지면 구지서로1\n",
      "1675 충청북도 괴산군 불정면 목도로2길 11\n",
      "1707 전라남도 무안군 삼향읍 남악로162번길 80\n",
      "1734 인천광역시 미추홀구 염전로333번길 23\n",
      "1736 서울특별시 마포구 동교로1길 39\n",
      "1737 광주광역시 남구 봉선중앙로123번길 21\n",
      "1750 서울특별시 금천구 범안로12가길 65  독산1동 공영주차장 옥상\n",
      "1752 부산광역시 남구 전포대로91번길 47  지상주차장 4층 A구역\n",
      "1765 경상북도 영천시 한방로53번지\n",
      "1766 강원도 삼척시 새천년도로673\n",
      "1768 대전광역시 대덕구 신탄진로556\n",
      "1777 경기도 양주시 은현면 은남로177\n",
      "1783 전라남도 영광군 천년로1329\n",
      "1802 서울특별시 강북구 삼양로107길 30\n",
      "1844 경상북도 영천시 한방로77\n",
      "1850 전라북도 남원시 운봉읍 황산로1026\n",
      "1871 경기도 시흥시 시흥대로869\n",
      "1891 광주광역시 북구 용봉로138번길 11\n",
      "1913 인천광역시 서구 가정로151번길 11  지하주차장 1층 M0구역\n",
      "1914 울산광역시 북구 산업로1103\n",
      "1915 강원도 양구군 동면 숨골로310번길 169\n",
      "1923 경기도 시흥시 동서로425\n",
      "1934 서울특별시 성동구 독서당로63길 40\n",
      "1935 대전광역시 중구 문화로234번길 34\n",
      "1943 충청남도 논산시 채운면 채운로41\n",
      "1956 서울특별시 강서구 까치산로4길 22 지하주차장 101\n",
      "1983 서울특별시 노원구 노원로75\n",
      "2004 경상북도 상주시 영남제일로1950\n",
      "2030 대전광역시 동구 대청호수로545번길 1\n",
      "2056 전라남도 영광군 영광읍 영광로1330\n",
      "2075 충청북도 제천시 수산면 월악로26길 37\n",
      "2085 인천광역시 서구 중봉대로211\n",
      "2089 충청북도 진천군 진광로487\n",
      "2139 서울특별시 강남구 선릉로108길 27\n",
      "2146 광주광역시 서구 천변좌로222번길 3-2\n",
      "2152 충청북도 청주시 상당구 북문로3가 97\n",
      "2162 서울특별시 강서구 화곡로65길 62\n",
      "2190 광주광역시 광산구 풍영로179\n",
      "2216 광주광역시 서구 상무대로1223번길 16\n",
      "2287 전라남도 완도군 신지면 신지로549번길 11\n",
      "2322 서울특별시 양천구 중앙로29길 41\n",
      "2328 경기도 군포시 산본로267\n",
      "2331 경기도 광명시 서독로104번길 14\n",
      "2339 서울특별시 서대문구 충정로2가 78-13\n",
      "2343 서울특별시 양천구 곰달래로10길 4\n",
      "2358 충청북도 청주시 상당구 북문로1가 171-3\n",
      "2365 제주특별자치도 서귀포시 남원읍 남원체육관로221번길 23\n",
      "2407 강원도 춘천시 춘천로17번길 27\n",
      "2409 강원도 화천군 화천읍 상승로2길 25-10\n",
      "2527 경기도 남양주시 별내면 청학로8번길 39\n",
      "2569 경상남도 김해시 대청로176번길 7\n",
      "2589 경상남도 김해시 전하로176번길 79 1층\n",
      "2627 경상북도 경주시 산내면 문복로1822\n",
      "2670 광주광역시 광산구 첨단강변로99번길 22\n",
      "2704 경상남도 진주시 금산면 송백로46\n",
      "2737 경상남도 진주시 진성면 동부로1259번길 32\n",
      "2747 부산광역시 강서구 공항진입로42번길 20\n",
      "2761 광주광역시 북구 설죽로436번길 23\n",
      "2765 경상남도 김해시 진영읍 하계로96번길 68\n",
      "2773 울산광역시 남구 정동로42번길 25\n",
      "2843 충청남도 예산군 예산읍 벚꽃로155번길 10\n",
      "2895 충청남도 아산시 음봉로681번길 75\n",
      "2897 충청남도 서천군 삼일로265번길 8\n",
      "2898 경기도 용인시 기흥구 구성로77번길 17\n",
      "2899 경기도 이천시 장호원읍 서동대로8809번길 30-15\n",
      "2925 충청북도 제천시 의병대로34길 50\n",
      "2940 충청남도 아산시 번영로224번길 20\n",
      "2941 충청북도 음성군 무극로244번길 16-25\n",
      "2957 충청남도 부여군 충화면 팔충로770\n",
      "2958 경상북도 구미시 선산읍 김선로963\n",
      "2959 경상남도 합천군 합천읍 대야로991\n",
      "2960 경상남도 창녕군 창녕읍 탐하로201\n",
      "2962 충청남도 보령시 대천로113\n",
      "2965 충청북도 음성군 맹동면 원중로1339\n",
      "2969 경상북도 구미시 도개면 도안로103\n",
      "2971 경상남도 의령군 유곡면 청정로1679\n",
      "2973 경상남도 창녕군 성산면 성산로237\n",
      "2974 경상북도 구미시 박정희로107\n",
      "2975 경상남도 합천군 적중면 적중로98\n",
      "2978 충청북도 영동군 용산면 영동산단로27\n",
      "2980 경상북도 문경시 중앙로50\n",
      "2984 충청북도 영동군 매곡면 민주지산로3595\n",
      "2985 경기도 성남시 분당구 돌마로356번길 43\n",
      "2988 전라남도 영암군 삼호읍 공항로21\n",
      "2989 서울특별시 서초구 방배로23길 31-6\n",
      "2993 경상남도 창녕군 유어면 우포1대로583\n",
      "2995 경상남도 합천군 용주면 황계폭포로1154\n",
      "2996 경상북도 청송군 주왕산면 부동로1008\n",
      "3008 경상북도 칠곡군 동명면 남원로5길 77\n",
      "3010 경상북도 청송군 파천면 안파로1244\n",
      "3011 전라남도 장흥군 용산면 장흥대로2667\n",
      "3013 경상남도 거창군 신원면 신차로2924\n",
      "3016 경상북도 성주군 성주읍 주산로193\n",
      "3017 충청남도 부여군 양화면 입포로53번길 6\n",
      "3021 경상북도 구미시 경부고속도로172\n",
      "3025 경상남도 김해시 삼안로112번길 20-61\n",
      "3027 서울특별시 서초구 사평대로28길 70\n",
      "3032 경상남도 창원시 의창구 소계로135\n",
      "3033 경상남도 창원시 진해구 웅천중로59\n",
      "3034 경상북도 청송군 진보면 청송로6359\n",
      "3040 경상북도 영양군 영양읍 중앙로55\n",
      "3041 울산광역시 울주군 청량면 군청로1\n",
      "3042 인천광역시 중구 신포로27번길 80\n",
      "3044 충청남도 청양군 비봉면 충절로1994\n",
      "3049 충청남도 서산시 문화로112\n",
      "3053 경상북도 봉화군 상운면 예봉로1281\n",
      "3056 충청남도 부여군 은산면 충의로694\n",
      "3060 경기도 파주시 시청로66\n",
      "3066 경상남도 통영시 통영해안로2\n",
      "3067 충청남도 부여군 세도면 세도중앙로8\n",
      "3070 경상북도 영주시 풍기읍 소백로2156\n",
      "3073 대전광역시 유성구 송림로19번길 35\n",
      "3074 인천광역시 남동구 남동서로209\n",
      "3078 대구광역시 동구 첨단로8길 32\n",
      "3080 경상북도 청송군 청송읍 주왕산로177\n",
      "3083 경상남도 합천군 초계면 동부로1240\n",
      "3084 충청남도 보령시 천북면 홍보로462\n",
      "3085 경상남도 의령군 부림면 입산로178\n",
      "3090 경상북도 청송군 청송읍 군청로25\n",
      "3092 경상남도 합천군 대양면 대한로5\n",
      "3093 대전광역시 유성구 신성로55\n",
      "3096 경상북도 구미시 형곡로180\n",
      "3098 경상남도 의령군 낙서면 낙동강로859\n",
      "3100 경상북도 안동시 관광단지로316\n",
      "3101 대전광역시 유성구 노은동로87번길 89\n",
      "3115 서울특별시 영등포구 신길로60길 34\n",
      "3127 경기도 파주시 와석순환로172번길 30\n",
      "3132 충청남도 예산군 삽교읍 예학로65\n",
      "3165 경상북도 봉화군 춘양면 의양로5길 19\n",
      "3169 경상북도 청송군 안덕면 방호정로50\n",
      "3182 인천광역시 남동구 남동대로916번길 47\n",
      "3186 경상북도 청송군 안덕면 안덕로82\n",
      "3187 광주광역시 북구 하서로111\n",
      "3194 경상북도 청송군 청송읍 중앙로184\n",
      "3197 충청북도 제천시 내토로16안길 8-1\n",
      "3198 충청북도 제천시 세명로21\n",
      "3199 대전광역시 유성구 유성대로1719\n",
      "3204 서울특별시 중랑구 겸재로23길 27\n",
      "3216 경기도 화성시 송산면 평택시흥고속도로25\n",
      "3224 경기도 시흥시 시흥대로268번길 8\n",
      "3225 서울특별시 서초구 서초대로54길 45\n",
      "3229 경기도 고양시 덕양구 흥도로454번길 44\n",
      "3233 서울특별시 노원구 동일로197길 24\n",
      "3240 전라북도 정읍시 내장호반로266\n",
      "3242 경기도 시흥시 서울대학로264번길 45\n",
      "3252 전라북도 익산시 왕궁면 궁성로666\n",
      "3280 강원도 정선군 사북읍 사북중앙로65\n",
      "3297 경기도 구리시 장자대로141\n",
      "3355 충청북도 제천시 제2바이오밸리로3길 34\n",
      "3363 경상북도 영주시 대학로352\n",
      "3364 경기도 화성시 팔탄면 서해안고속도로302\n",
      "3365 경기도 용인시 수지구 경부고속도로400\n",
      "3366 강원도 강릉시 화부산로40번길 47\n",
      "3370 경기도 안성시 강변로74번길 18\n",
      "3372 경상남도 밀양시 산내면 얼음골로177\n",
      "3373 경상북도 의성군 사곡면 의성사곡로966\n",
      "3376 경상북도 영주시 중앙로63번길 41-11\n",
      "3378 경상북도 의성군 안사면 안신로645\n",
      "3387 전라남도 목포시 남악로162번길 25\n",
      "3409 전라북도 남원시 이백로13\n",
      "3411 경기도 연천군 전곡읍 전곡역로66번길 53\n",
      "3419 경상남도 창원시 의창구 태복산로15번길 8\n",
      "3422 경상북도 영주시 영주로204\n",
      "3427 경상북도 문경시 중앙로280\n",
      "3430 경상남도 밀양시 산내면 얼음골로334\n",
      "3431 경상북도 구미시 송정대로89\n",
      "3432 경상북도 구미시 해마루공원로24\n",
      "3435 경상북도 울진군 온정면 백암온천로1308\n",
      "3436 경상북도 예천군 효자면 은풍로1154\n",
      "3439 경상북도 울진군 온정면 백암온천로1185\n",
      "3468 광주광역시 서구 운천로31번길 17\n",
      "3470 광주광역시 서구 천변우하로391\n",
      "3518 경상남도 창원시 마산합포구 진동면 신서촌로15\n",
      "3561 충청북도 청주시 청원구 사뜸로61번길 88-14\n",
      "3583 대구광역시 달성군 구지면 국가산단대로52길 24-11\n",
      "3598 경상북도 포항시 북구 흥해읍 성곡서로32번길 7\n",
      "3603 대구광역시 달서구 당산로41길 62\n",
      "3669 충청북도 청주시 서원구 흥덕로48\n",
      "3694 충청남도 아산시 실옥로234\n",
      "3700 광주광역시 북구 추암로249\n",
      "3724 경상남도 창원시 의창구 차상로18번길 45\n",
      "3726 경상남도 산청군 산청읍 물안실로8\n",
      "3733 경상남도 남해군 남해읍 화전로43번길 16\n",
      "3742 경상남도 창원시 의창구 사림로99번길 63\n",
      "3774 경상남도 고성군 고성읍 남포로79번길 103-3\n",
      "3776 경기도 이천시 마장면 중부대로609번길 244-35\n",
      "3795 경상남도 창원시 성산구 비음로25번길 17\n",
      "3825 경상남도 진주시 장대로43번길 3-1\n",
      "3872 경상북도 포항시 북구 송라면 동해대로3218번길 34\n",
      "3886 울산광역시 북구 천곡남로86\n",
      "3887 울산광역시 남구 갈밭로49\n",
      "3919 충청북도 괴산군 청안면 조천로2길 86\n",
      "3932 경기도 안양시 동안구 동안로159번길 43\n",
      "3936 경기도 시흥시 호현로49번길 21\n",
      "3942 경기도 수원시 장안구 창룡대로207번길 82-12\n",
      "3943 경기도 성남시 중원구 광명로256번길 36\n",
      "3957 서울특별시 종로구 사직로8길 31\n",
      "3962 서울특별시 동작구 여의대방로10길 97\n",
      "3965 경기도 평택시 통복시장로22번길 43\n",
      "3967 서울특별시 강남구 테헤란로114길 11\n",
      "3970 서울특별시 강북구 오현로21길 84\n",
      "3972 서울특별시 강서구 까치산로4길 22\n",
      "3973 서울특별시 광진구 뚝섬로52길 74-1\n",
      "3977 경기도 용인시 기흥구 용구대로2469번길 32\n",
      "4000 경기도 김포시 고촌읍 김포대로319번길 209-23\n",
      "4001 경기도 김포시 고촌읍 아라육로270번길 74\n",
      "4002 경기도 부천시 옥산로10번길 16\n",
      "4003 울산광역시 남구 삼산로35번길 25\n",
      "4041 경상남도 진주시 정촌면 연꽃로165번길 25\n",
      "4047 경기도 의정부시 금오로23번길 22-49\n",
      "4105 전라남도 목포시 해안로127번길 7\n",
      "4106 전라남도 목포시 수강로12번길 24\n",
      "4107 전라남도 목포시 자유로20번길 27\n",
      "4128 경상남도 창원시 의창구 창원대로363번길 11\n",
      "4129 경기도 김포시 태장로795번길 65\n",
      "4163 경기도 구리시 동구릉로136번길 57\n",
      "4178 경상남도 창원시 의창구 북면 천주로1173번길 30\n",
      "4211 광주광역시 북구 서하로183번길 29\n",
      "4231 경기도 성남시 수정구 복정로118번길 7\n",
      "4244 경기도 남양주시 경춘로2192번길 8-11\n",
      "4248 강원도 강릉시 율곡로3139번길 24\n",
      "4251 경기도 성남시 분당구 내정로173번길 21\n",
      "4269 광주광역시 동구 백서로189번길 13\n",
      "4278 경기도 군포시 산본로324번길 16\n",
      "4300 인천광역시 미추홀구 매소홀로290번길 32\n",
      "4302 인천광역시 연수구 송도과학로51번길 80\n",
      "4315 제주특별자치도 서귀포시 대정읍 동일하모로149번길 21-8\n",
      "4323 인천광역시 서구 탁옥로51번길 26\n",
      "4327 서울특별시 금천구 범안로12가길 65\n",
      "4329 서울특별시 마포구 마포대로1길 19 지상주차장\n",
      "4352 광주광역시 북구 첨단과기로176번길 27\n"
     ]
    },
    {
     "name": "stderr",
     "output_type": "stream",
     "text": [
      "\n"
     ]
    }
   ],
   "source": [
    "for i, one in tqdm(enumerate(adr)):\n",
    "    if split4.search(one):\n",
    "        print(i, one)"
   ]
  },
  {
   "cell_type": "code",
   "execution_count": 1423,
   "metadata": {},
   "outputs": [],
   "source": [
    "# 4 전라남도 구례군 산동면 노고단로1068\n",
    "# 18 제주특별자치도 서귀포시 성산읍 해맞이해안로2660\n",
    "# 65 충청북도 충주시 으뜸로21\n",
    "# 85 경기도 이천시 마장면 중부고속도로82\n",
    "# 101 경상남도 양산시 백호로23 축구장 옆\n",
    "# 103 서울특별시 영등포구 의사당대로1 국회의원회관 주차장 우측\n",
    "# 232 전라남도 곡성군 곡성읍 학교로8\n",
    "# 402 서울특별시 영등포구 의사당대로1 국회도서관 앞\n",
    "# 465 경상북도 성주군 성주읍 성주순환로251\n",
    "# 543 서울특별시 강남구 남부순환로3104\n",
    "# 565 경상북도 청송군 파천면 청송로5544\n",
    "# 665 경상북도 포항시 북구 해안로82\n",
    "# 693 서울특별시 강남구 테헤란로606\n",
    "# 770 강원도 철원군 갈말읍 삼부연로38\n",
    "# 905 서울특별시 영등포구 양산로111  왼쪽 끝편 주차장\n",
    "# 995 제주특별자치도 서귀포시 상효로39 (상효동 754-1)\n",
    "# 1057 경상남도 창원시 의창구 창원대로314\n",
    "# 1192 경상북도 의성군 안계면 서부로1783\n",
    "# 1205 강원도 원주시 입춘로65\n",
    "# 1324 전라남도 영광군 백수읍 해안로918\n",
    "# 1338 충청북도 청주시 서원구 수곡로61\n",
    "# 1341 충청북도 괴산군 연풍면 향교로71\n",
    "# 1505 경상남도 양산시 어곡터널로40\n",
    "# 1506 경상남도 양산시 물금읍 황산로501\n",
    "# 1507 경상남도 의령군 의령읍 백산로4\n",
    "# 1522 서울특별시 양천구 목동동로81\n",
    "# 1526 강원도 평창군 진부면 경강로3562\n",
    "# 1566 경상북도 상주시 화남면 문장로758\n",
    "# 1569 경상북도 포항시 남구 장기면 동해안로2987\n",
    "# 1581 경기도 의정부시 동일로30\n",
    "# 1606 경상북도 영천시 천문로594\n",
    "# 1619 경상북도 경산시 진량읍 공단로299\n",
    "# 1620 경상북도 상주시 함창로581번지\n",
    "# 1639 대구광역시 달성군 구지면 구지서로1\n",
    "# 1765 경상북도 영천시 한방로53번지\n",
    "# 1766 강원도 삼척시 새천년도로673\n",
    "# 1768 대전광역시 대덕구 신탄진로556\n",
    "# 1777 경기도 양주시 은현면 은남로177\n",
    "# 1783 전라남도 영광군 천년로1329\n",
    "# 1844 경상북도 영천시 한방로77\n",
    "# 1850 전라북도 남원시 운봉읍 황산로1026\n",
    "# 1871 경기도 시흥시 시흥대로869\n",
    "# 1914 울산광역시 북구 산업로1103\n",
    "# 1923 경기도 시흥시 동서로425\n",
    "# 1943 충청남도 논산시 채운면 채운로41\n",
    "# 1983 서울특별시 노원구 노원로75\n",
    "# 2004 경상북도 상주시 영남제일로1950\n",
    "# 2056 전라남도 영광군 영광읍 영광로1330\n",
    "# 2085 인천광역시 서구 중봉대로211\n",
    "# 2089 충청북도 진천군 진광로487\n",
    "# 2190 광주광역시 광산구 풍영로179\n",
    "# 2328 경기도 군포시 산본로267\n",
    "# 2627 경상북도 경주시 산내면 문복로1822\n",
    "# 2704 경상남도 진주시 금산면 송백로46\n",
    "# 2957 충청남도 부여군 충화면 팔충로770\n",
    "# 2958 경상북도 구미시 선산읍 김선로963\n",
    "# 2959 경상남도 합천군 합천읍 대야로991\n",
    "# 2960 경상남도 창녕군 창녕읍 탐하로201\n",
    "# 2962 충청남도 보령시 대천로113\n",
    "# 2965 충청북도 음성군 맹동면 원중로1339\n",
    "# 2969 경상북도 구미시 도개면 도안로103\n",
    "# 2971 경상남도 의령군 유곡면 청정로1679\n",
    "# 2973 경상남도 창녕군 성산면 성산로237\n",
    "# 2974 경상북도 구미시 박정희로107\n",
    "# 2975 경상남도 합천군 적중면 적중로98\n",
    "# 2978 충청북도 영동군 용산면 영동산단로27\n",
    "# 2980 경상북도 문경시 중앙로50\n",
    "# 2984 충청북도 영동군 매곡면 민주지산로3595\n",
    "# 2988 전라남도 영암군 삼호읍 공항로21\n",
    "# 2993 경상남도 창녕군 유어면 우포1대로583\n",
    "# 2995 경상남도 합천군 용주면 황계폭포로1154\n",
    "# 2996 경상북도 청송군 주왕산면 부동로1008\n",
    "# 3010 경상북도 청송군 파천면 안파로1244\n",
    "# 3011 전라남도 장흥군 용산면 장흥대로2667\n",
    "# 3013 경상남도 거창군 신원면 신차로2924\n",
    "# 3016 경상북도 성주군 성주읍 주산로193\n",
    "# 3021 경상북도 구미시 경부고속도로172\n",
    "# 3032 경상남도 창원시 의창구 소계로135\n",
    "# 3033 경상남도 창원시 진해구 웅천중로59\n",
    "# 3034 경상북도 청송군 진보면 청송로6359\n",
    "# 3040 경상북도 영양군 영양읍 중앙로55\n",
    "# 3041 울산광역시 울주군 청량면 군청로1\n",
    "# 3044 충청남도 청양군 비봉면 충절로1994\n",
    "# 3049 충청남도 서산시 문화로112\n",
    "# 3053 경상북도 봉화군 상운면 예봉로1281\n",
    "# 3056 충청남도 부여군 은산면 충의로694\n",
    "# 3060 경기도 파주시 시청로66\n",
    "# 3066 경상남도 통영시 통영해안로2\n",
    "# 3067 충청남도 부여군 세도면 세도중앙로8\n",
    "# 3070 경상북도 영주시 풍기읍 소백로2156\n",
    "# 3074 인천광역시 남동구 남동서로209\n",
    "# 3080 경상북도 청송군 청송읍 주왕산로177\n",
    "# 3083 경상남도 합천군 초계면 동부로1240\n",
    "# 3084 충청남도 보령시 천북면 홍보로462\n",
    "# 3085 경상남도 의령군 부림면 입산로178\n",
    "# 3090 경상북도 청송군 청송읍 군청로25\n",
    "# 3092 경상남도 합천군 대양면 대한로5\n",
    "# 3093 대전광역시 유성구 신성로55\n",
    "# 3096 경상북도 구미시 형곡로180\n",
    "# 3098 경상남도 의령군 낙서면 낙동강로859\n",
    "# 3100 경상북도 안동시 관광단지로316\n",
    "# 3132 충청남도 예산군 삽교읍 예학로65\n",
    "# 3169 경상북도 청송군 안덕면 방호정로50\n",
    "# 3186 경상북도 청송군 안덕면 안덕로82\n",
    "# 3187 광주광역시 북구 하서로111\n",
    "# 3194 경상북도 청송군 청송읍 중앙로184\n",
    "# 3198 충청북도 제천시 세명로21\n",
    "# 3199 대전광역시 유성구 유성대로1719\n",
    "# 3216 경기도 화성시 송산면 평택시흥고속도로25\n",
    "# 3240 전라북도 정읍시 내장호반로266\n",
    "# 3252 전라북도 익산시 왕궁면 궁성로666\n",
    "# 3280 강원도 정선군 사북읍 사북중앙로65\n",
    "# 3297 경기도 구리시 장자대로141\n",
    "# 3363 경상북도 영주시 대학로352\n",
    "# 3364 경기도 화성시 팔탄면 서해안고속도로302\n",
    "# 3365 경기도 용인시 수지구 경부고속도로400\n",
    "# 3372 경상남도 밀양시 산내면 얼음골로177\n",
    "# 3373 경상북도 의성군 사곡면 의성사곡로966\n",
    "# 3378 경상북도 의성군 안사면 안신로645\n",
    "# 3409 전라북도 남원시 이백로13\n",
    "# 3422 경상북도 영주시 영주로204\n",
    "# 3427 경상북도 문경시 중앙로280\n",
    "# 3430 경상남도 밀양시 산내면 얼음골로334\n",
    "# 3431 경상북도 구미시 송정대로89\n",
    "# 3432 경상북도 구미시 해마루공원로24\n",
    "# 3435 경상북도 울진군 온정면 백암온천로1308\n",
    "# 3436 경상북도 예천군 효자면 은풍로1154\n",
    "# 3439 경상북도 울진군 온정면 백암온천로1185\n",
    "# 3470 광주광역시 서구 천변우하로391\n",
    "# 3518 경상남도 창원시 마산합포구 진동면 신서촌로15\n",
    "# 3669 충청북도 청주시 서원구 흥덕로48\n",
    "# 3694 충청남도 아산시 실옥로234\n",
    "# 3700 광주광역시 북구 추암로249\n",
    "# 3726 경상남도 산청군 산청읍 물안실로8\n",
    "# 3886 울산광역시 북구 천곡남로86\n",
    "# 3887 울산광역시 남구 갈밭로49"
   ]
  },
  {
   "cell_type": "code",
   "execution_count": 1424,
   "metadata": {},
   "outputs": [
    {
     "data": {
      "text/plain": [
       "136"
      ]
     },
     "execution_count": 1424,
     "metadata": {},
     "output_type": "execute_result"
    }
   ],
   "source": [
    "idx4 = [4, 18, 65, 85, 101, 103, 232, 402, 465, 543, 565, 665, 693, \n",
    "        770, 905, 995, 1057, 1192, 1205, 1324, 1338, 1341, 1505, 1506, \n",
    "        1507, 1522, 1526, 1566, 1569, 1581, 1606, 1619, 1620, 1639, 1765, \n",
    "        1766, 1768, 1777, 1783, 1844, 1850, 1871, 1914, 1923, 1943, 1983, \n",
    "        2004, 2056, 2085, 2089, 2190, 2328, 2627, 2704, 2957, 2958, 2959, \n",
    "        2960, 2962, 2965, 2969, 2971, 2973, 2974, 2975, 2978, 2980, 2984, \n",
    "        2988, 2993, 2995, 2996, 3010, 3011, 3013, 3016, 3021, 3032, 3033, \n",
    "        3034, 3040, 3041, 3044, 3049, 3053, 3056, 3060, 3066, 3067, 3070, \n",
    "        3074, 3080, 3083, 3084, 3085, 3090, 3092, 3093, 3096, 3098, 3100, \n",
    "        3132, 3169, 3186, 3187, 3194, 3198, 3199, 3216, 3240, 3252, 3280, \n",
    "        3297, 3363, 3364, 3365, 3372, 3373, 3378, 3409, 3422, 3427, 3430, \n",
    "        3431, 3432, 3435, 3436, 3439, 3470, 3518, 3669, 3694, 3700, 3726,\n",
    "        3886, 3887]\n",
    "len(idx4)"
   ]
  },
  {
   "cell_type": "code",
   "execution_count": 1425,
   "metadata": {},
   "outputs": [
    {
     "name": "stdout",
     "output_type": "stream",
     "text": [
      "제주특별자치도 서귀포시 상효로39 (상효동 754-1)\n",
      "<re.Match object; span=(13, 18), match='상효로39'>\n",
      "제주특별자치도 서귀포시 상효로 39 (상효동 754-1)\n"
     ]
    }
   ],
   "source": [
    "print(adr[995])\n",
    "print(split4.search(adr[995]))\n",
    "print(split4.sub('\\g<1> \\g<2>', adr[995], 1))"
   ]
  },
  {
   "cell_type": "code",
   "execution_count": 1426,
   "metadata": {},
   "outputs": [
    {
     "name": "stdout",
     "output_type": "stream",
     "text": [
      "전라북도 남원시 이백로13\n",
      "<re.Match object; span=(9, 14), match='이백로13'>\n",
      "전라북도 남원시 이백로 13\n"
     ]
    }
   ],
   "source": [
    "print(adr[3409])\n",
    "print(split4.search(adr[3409]))\n",
    "print(split4.sub('\\g<1> \\g<2>', adr[3409], 1))"
   ]
  },
  {
   "cell_type": "code",
   "execution_count": 1427,
   "metadata": {},
   "outputs": [
    {
     "name": "stdout",
     "output_type": "stream",
     "text": [
      "서울특별시 영등포구 의사당대로1 국회도서관 앞\n",
      "<re.Match object; span=(11, 17), match='의사당대로1'>\n",
      "서울특별시 영등포구 의사당대로 1 국회도서관 앞\n"
     ]
    }
   ],
   "source": [
    "print(adr[402])\n",
    "print(split4.search(adr[402]))\n",
    "print(split4.sub('\\g<1> \\g<2>', adr[402], 1))"
   ]
  },
  {
   "cell_type": "code",
   "execution_count": 1428,
   "metadata": {},
   "outputs": [
    {
     "name": "stderr",
     "output_type": "stream",
     "text": [
      "100%|██████████| 136/136 [00:00<00:00, 137055.58it/s]\n"
     ]
    }
   ],
   "source": [
    "for i in tqdm(idx4):\n",
    "    temp = adr[i]\n",
    "    adr[i] = split4.sub('\\g<1> \\g<2>', temp, 1)"
   ]
  },
  {
   "cell_type": "code",
   "execution_count": 1429,
   "metadata": {},
   "outputs": [
    {
     "data": {
      "text/plain": [
       "array(['서울특별시 영등포구 의사당대로 1 국회도서관 앞', '제주특별자치도 서귀포시 상효로 39 (상효동 754-1)',\n",
       "       '전라북도 남원시 이백로 13'], dtype=object)"
      ]
     },
     "execution_count": 1429,
     "metadata": {},
     "output_type": "execute_result"
    }
   ],
   "source": [
    "adr[[402, 995, 3409]]"
   ]
  },
  {
   "cell_type": "code",
   "execution_count": 1430,
   "metadata": {},
   "outputs": [
    {
     "data": {
      "text/plain": [
       "'경상남도 창녕군 유어면 우포1대로 583'"
      ]
     },
     "execution_count": 1430,
     "metadata": {},
     "output_type": "execute_result"
    }
   ],
   "source": [
    "adr[2993]"
   ]
  },
  {
   "cell_type": "markdown",
   "metadata": {},
   "source": [
    "#### [확인] [한글]길"
   ]
  },
  {
   "cell_type": "code",
   "execution_count": 1431,
   "metadata": {},
   "outputs": [],
   "source": [
    "split5 = re.compile('([가-힣]+[0-9]*길)([0-9]+)')"
   ]
  },
  {
   "cell_type": "code",
   "execution_count": 1432,
   "metadata": {},
   "outputs": [
    {
     "name": "stderr",
     "output_type": "stream",
     "text": [
      "4364it [00:00, 437589.77it/s]"
     ]
    },
    {
     "name": "stdout",
     "output_type": "stream",
     "text": [
      "743 서울특별시 영등포구 신길1동 116-15\n",
      "1479 경기도 양평군 개군면 하자포길33번길 8\n",
      "1570 경상북도 포항시 북구 흥해읍 초곡길36번길 30\n",
      "3424 경상남도 진주시 가좌길 29번길63\n",
      "3673 경상북도 포항시 남구 구룡포읍 구룡포길117번길 28-8\n"
     ]
    },
    {
     "name": "stderr",
     "output_type": "stream",
     "text": [
      "\n"
     ]
    }
   ],
   "source": [
    "count = 0\n",
    "for i, one in tqdm(enumerate(adr)):\n",
    "    if split5.search(one):\n",
    "        count += 1\n",
    "        print(i, one)"
   ]
  },
  {
   "cell_type": "code",
   "execution_count": 1433,
   "metadata": {},
   "outputs": [
    {
     "name": "stdout",
     "output_type": "stream",
     "text": [
      "경상남도 진주시 가좌길 29번길63\n",
      "<re.Match object; span=(15, 19), match='번길63'>\n"
     ]
    }
   ],
   "source": [
    "print(adr[3424])\n",
    "print(split5.search(adr[3424]))"
   ]
  },
  {
   "cell_type": "code",
   "execution_count": 1434,
   "metadata": {},
   "outputs": [
    {
     "name": "stdout",
     "output_type": "stream",
     "text": [
      "경상남도 진주시 가좌길 29번길63\n",
      "경상남도 진주시 가좌길29번길 63\n"
     ]
    }
   ],
   "source": [
    "print(adr[3424])\n",
    "if adr[3424] == '경상남도 진주시 가좌길 29번길63':\n",
    "    adr[3424] = '경상남도 진주시 가좌길29번길 63'\n",
    "print(adr[3424])"
   ]
  },
  {
   "cell_type": "markdown",
   "metadata": {},
   "source": [
    "#### [확인] [한글]동"
   ]
  },
  {
   "cell_type": "code",
   "execution_count": 1435,
   "metadata": {},
   "outputs": [],
   "source": [
    "split6 = re.compile('([가-힣]+[0-9]*동)([0-9]+)')"
   ]
  },
  {
   "cell_type": "code",
   "execution_count": 1436,
   "metadata": {},
   "outputs": [
    {
     "name": "stderr",
     "output_type": "stream",
     "text": [
      "4364it [00:00, 336686.15it/s]"
     ]
    },
    {
     "name": "stdout",
     "output_type": "stream",
     "text": [
      "389 충청북도 단양군 적성면 기동2길 32-37 (기동리)\n",
      "439 전라북도 전주시 완산구 효자동3가 1712-10\n",
      "443 전라북도 전주시 완산구 효자동2가 1234-3 5층\n",
      "605 전라북도 전주시 덕진구 인후동1가 807-6\n",
      "645 경상북도 구미시 인동14길 14\n",
      "649 대구광역시 북구 노원동2가 214\n",
      "687 경상남도 창원시 마산합포구 신마산시장길 33 (창포동3가)\n",
      "854 경상남도 창원시 진해구 용재로 46  웅동2동 주민센터 주차장 내\n",
      "982 서울특별시 종로구 인사동5길 29 지상주차장\n",
      "1056 경상남도 창원시 장군동4가 3-6\n",
      "1062 부산광역시 중구 중앙대로 2 (중앙동7가)\n",
      "1135 충청북도 청주시 서원구 현도면 선동1길 9\n",
      "1139 충청남도 당진시 무수동2길 25-21\n",
      "1368 울산광역시 울주군 언양읍 언동3길 20-48\n",
      "1426 강원도 삼척시 당저동1길 17-9\n",
      "1748 인천광역시 중구 북성동1가 97-32\n",
      "2421 전라북도 전주시 덕진구 송천동2가 1257\n",
      "2423 전라북도 전주시 덕진구 송천동2가 1316\n",
      "2616 경상남도 창원시 마산회원구 석전동4길 52\n",
      "2854 인천광역시 중구 송월동2가 4\n",
      "2862 전라북도 전주시 덕진구 가련산로 26-3 (송천동1가)\n",
      "2970 경상남도 합천군 합천읍 교동1길 33\n",
      "3069 경상남도 창원시 마산합포구 현동7길 27\n",
      "3152 충청북도 영동군 황간면 원촌동1길 54-8\n",
      "3285 전라북도 익산시 인화동2가 7\n",
      "3453 전라남도 여수시 삼동3길 13\n",
      "3891 경상남도 고성군 거류면 당동3길 5\n",
      "3924 전라남도 여수시 학동2길 7\n",
      "3987 전라남도 영암군 신북면 황금동1길 5-1\n",
      "4050 충청북도 청주시 서원구 현도면 선동2길 232-9\n",
      "4181 전라남도 여수시 관문동1길 39\n",
      "4221 충청북도 단양군 적성면 기동2길 32-37\n"
     ]
    },
    {
     "name": "stderr",
     "output_type": "stream",
     "text": [
      "\n"
     ]
    }
   ],
   "source": [
    "count = 0\n",
    "for i, one in tqdm(enumerate(adr)):\n",
    "    if split6.search(one):\n",
    "        count += 1\n",
    "        print(i, one)"
   ]
  },
  {
   "cell_type": "code",
   "execution_count": 1437,
   "metadata": {},
   "outputs": [],
   "source": [
    "# 이상없음"
   ]
  },
  {
   "cell_type": "markdown",
   "metadata": {},
   "source": [
    "#### [확인] 주소 분리\n",
    "- 정상\n",
    "    - 로\n",
    "        - [한글]로\n",
    "        - [한글][숫자]로\n",
    "        - [한글][(숫자)]로[숫자]길\n",
    "        - [한글][(숫자)]로[숫자][번|가|나|안]길\n",
    "    - 길\n",
    "        - [한글]길\n",
    "        - [한글][숫자]길\n",
    "        - [한글][숫자]길[숫자]번길\n",
    "    - 동\n",
    "        - [한글]동\n",
    "        - [한글][숫자]동\n",
    "    - 가\n",
    "        - [한글]동[숫자]가\n",
    "        - [한글]로[숫자]가\n"
   ]
  },
  {
   "cell_type": "markdown",
   "metadata": {},
   "source": [
    "##### -로 체크"
   ]
  },
  {
   "cell_type": "code",
   "execution_count": 1438,
   "metadata": {},
   "outputs": [
    {
     "name": "stdout",
     "output_type": "stream",
     "text": [
      "27 대전광역시 대덕구 석봉로 38번길 55 대덕구보건소\n",
      "94 광주광역시 서구 경열로 17번길 5\n",
      "145 제주특별자치도 서귀포시 성산읍 일주동로 4120번길 7 동부소방서\n",
      "189 충청남도 논산시 연무로 166번길 64 2주차장\n",
      "196 제주특별자치도 제주시 선덕로 8길 12 설문대여성문화센터\n",
      "236 대전광역시 중구 동서대로 1322번길 81\n",
      "311 경기도 가평군 설악면 미사리로 540번길 51 가평휴게소  SK 가평주유소(춘천방향) 옆\n",
      "362 광주광역시 광산구 광산로 68번길 13\n",
      "365 제주특별자치도 서귀포시 동홍중앙로 7번길 19 자기주도학습지원센터\n",
      "406 충청남도 홍성군 홍북읍 홍북로 453번길 50\n",
      "433 대구광역시 달성군 구지면 창리로 11길 38\n",
      "444 제주특별자치도 서귀포시 남성중로 153번길 15\n",
      "446 제주특별자치도 서귀포시 효돈로 152번길 7\n",
      "480 전라남도 여수시 학동 168(시청로 1번지)\n",
      "535 서울특별시 영등포구 여의대방로 53길 22\n",
      "537 서울특별시 강북구 도봉로 69길 29\n",
      "578 서울특별시 서초구 남부순환로 340길 58\n",
      "646 경상북도 구미시 봉곡로 15길 54\n",
      "675 부산광역시 중구 대청로 116번길 3\n",
      "724 인천광역시 중구 공항동로 296번길 69\n",
      "739 강원도 철원군 철원읍 금학로 330번길 12\n",
      "827 전라남도 화순군 능주면 학포로 2275번지\n",
      "867 경기도 고양시 덕양구 화중로 104번길 13 입구 좌측\n",
      "888 경기도 포천시 소홀읍 호국로 56번지\n",
      "997 제주특별자치도 서귀포시 대정읍 추사로 36번길 1\n",
      "1049 서울특별시 중구 소공로 51번지\n",
      "1091 경기도 고양시 일산동구 중앙로 1275번길 64\n",
      "1094 서울특별시 성동구 고산자로 26길 6\n",
      "1111 경기도 이천시 마장면 덕이로 154번길 287-76\n",
      "1116 경기도 성남시 분당구 야탑로 111번길 12-14\n",
      "1117 경기도 성남시 분당구 성남대로 43번길 11\n",
      "1214 충청북도 제천시 용두대로 11길 10\n",
      "1234 서울특별시 양천구 남부순환로 88길 5-7\n",
      "1392 서울특별시 마포구 상암동 월드컵북로 58길 15 지하4층 18\n",
      "1408 부산광역시 사상구 낙동대로 1518번길 26\n",
      "1422 경기도 여주시 여흥로 160번길 14\n",
      "1428 강원도 인제군 남면 신남로 58번길 37\n",
      "1435 경상북도 포항시 남구 오천읍 냉천로 320번길 4-11\n",
      "1483 광주광역시 광산구 광산로 29번길 15\n",
      "1487 제주특별자치도 서귀포시 보목로 64번길 155 보목하수처리장\n",
      "1490 경상북도 경주시 유림로 5번길 85-15호\n",
      "1496 전라남도 영광군 영광읍 천년로 13길 2-34 주차장\n",
      "1501 경기도 동두천시 평화로 2169번길 21 (송내동)\n",
      "1516 서울특별시 강남구 개포로 25길 32\n",
      "1601 제주특별자치도 서귀포시 산록남로 1241번길 145(색달동)\n",
      "1620 경상북도 상주시 함창로 581번지\n",
      "1665 충청북도 청주시 오송생명2로 187번지\n",
      "1765 경상북도 영천시 한방로 53번지\n",
      "1781 광주광역시 동구 필문대로 205번길 17\n",
      "1834 광주광역시 동구 의재로 109번길 10\n",
      "1836 서울특별시 금천구 독산로 36나길 21 B1 18\n",
      "1853 서울특별시 강북구 오현로 21길 84 옥상 주차장\n",
      "1873 서울특별시 강북구 도봉로 61길 46\n",
      "2068 경기도 포천시 삼육사로 2186번길 11\n",
      "2111 전라북도 전주시 완산구 서곡로 100번지\n",
      "2126 경기도 양주시 광적면 부흥로 618번길 303\n",
      "2150 인천광역시 중구 영종해안북로 1204번길 105\n",
      "2164 제주특별자치도 서귀포시 칠십리로 72번길 1\n",
      "2178 서울특별시 양천구 중앙로 32길 1\n",
      "2335 경기도 김포시 태장로 795번길 137\n",
      "2348 서울특별시 영등포구 영신로 10길 15\n",
      "2357 제주특별자치도 서귀포시 중앙로 101번길 52\n",
      "2648 경기도 성남시 분당구 운중로 225번길 37\n",
      "2655 경기도 수원시 권선구 경수대로 168번길 79\n",
      "2730 경기도 시흥시 마유로 238번길 26\n",
      "2784 제주특별자치도 서귀포시 신서귀로 51번길 38\n",
      "2874 광주광역시 북구 첨단과기로 208번길 6\n",
      "2926 광주광역시 서구 송암로 143번길 34\n",
      "3012 광주광역시 광산구 왕버들로 322번길 6\n",
      "3063 광주광역시 북구 첨단과기로 208번길 5\n",
      "3173 인천광역시 미추홀구 아암대로 253번길 81\n",
      "3358 인천광역시 서구 탁옥로 51번길 26\n",
      "3415 전라북도 익산시 익산대로 52길27\n",
      "3490 제주특별자치도 서귀포시 도순남로 29번길 13\n",
      "3507 제주특별자치도 서귀포시 남원읍 태신로 130번길 170\n",
      "3534 대전광역시 유성구 대덕대로 989번길 111\n",
      "3552 대전광역시 서구 갈마중로 30번길 15-5\n",
      "3613 광주광역시 동구 충장로 5가 25\n",
      "3627 대구광역시 달서구 송현로 8안길 6\n",
      "3665 충청남도 아산시 모종북로 76번길 62\n",
      "3676 충청남도 아산시 곡교천로 27번길 33\n",
      "3850 충청북도 괴산군 청안면 조천로 2길 86\n",
      "3889 울산광역시 남구 삼산로 35번길 25\n"
     ]
    }
   ],
   "source": [
    "check1 = re.compile('([가-힣]+[0-9]*로) ([0-9]+[번가나안길])')\n",
    "for i, one in enumerate(adr):\n",
    "    if check1.search(one):\n",
    "        print(i, one)"
   ]
  },
  {
   "cell_type": "code",
   "execution_count": 1439,
   "metadata": {},
   "outputs": [],
   "source": [
    "# 27 대전광역시 대덕구 석봉로 38번길 55 대덕구보건소\n",
    "# 94 광주광역시 서구 경열로 17번길 5\n",
    "# 145 제주특별자치도 서귀포시 성산읍 일주동로 4120번길 7 동부소방서\n",
    "# 189 충청남도 논산시 연무로 166번길 64 2주차장\n",
    "# 196 제주특별자치도 제주시 선덕로 8길 12 설문대여성문화센터\n",
    "# 236 대전광역시 중구 동서대로 1322번길 81\n",
    "# 311 경기도 가평군 설악면 미사리로 540번길 51 가평휴게소  SK 가평주유소(춘천방향) 옆\n",
    "# 362 광주광역시 광산구 광산로 68번길 13\n",
    "# 365 제주특별자치도 서귀포시 동홍중앙로 7번길 19 자기주도학습지원센터\n",
    "# 406 충청남도 홍성군 홍북읍 홍북로 453번길 50\n",
    "# 433 대구광역시 달성군 구지면 창리로 11길 38\n",
    "# 444 제주특별자치도 서귀포시 남성중로 153번길 15\n",
    "# 446 제주특별자치도 서귀포시 효돈로 152번길 7\n",
    "# 480 전라남도 여수시 학동 168(시청로 1번지)\n",
    "# 535 서울특별시 영등포구 여의대방로 53길 22\n",
    "# 537 서울특별시 강북구 도봉로 69길 29\n",
    "# 578 서울특별시 서초구 남부순환로 340길 58\n",
    "# 646 경상북도 구미시 봉곡로 15길 54\n",
    "# 675 부산광역시 중구 대청로 116번길 3\n",
    "# 724 인천광역시 중구 공항동로 296번길 69\n",
    "# 739 강원도 철원군 철원읍 금학로 330번길 12\n",
    "# 867 경기도 고양시 덕양구 화중로 104번길 13 입구 좌측\n",
    "# 997 제주특별자치도 서귀포시 대정읍 추사로 36번길 1\n",
    "# 1091 경기도 고양시 일산동구 중앙로 1275번길 64\n",
    "# 1094 서울특별시 성동구 고산자로 26길 6\n",
    "# 1111 경기도 이천시 마장면 덕이로 154번길 287-76\n",
    "# 1116 경기도 성남시 분당구 야탑로 111번길 12-14\n",
    "# 1117 경기도 성남시 분당구 성남대로 43번길 11\n",
    "# 1214 충청북도 제천시 용두대로 11길 10\n",
    "# 1234 서울특별시 양천구 남부순환로 88길 5-7\n",
    "# 1392 서울특별시 마포구 상암동 월드컵북로 58길 15 지하4층 18\n",
    "# 1408 부산광역시 사상구 낙동대로 1518번길 26\n",
    "# 1422 경기도 여주시 여흥로 160번길 14\n",
    "# 1428 강원도 인제군 남면 신남로 58번길 37\n",
    "# 1435 경상북도 포항시 남구 오천읍 냉천로 320번길 4-11\n",
    "# 1483 광주광역시 광산구 광산로 29번길 15\n",
    "# 1487 제주특별자치도 서귀포시 보목로 64번길 155 보목하수처리장\n",
    "# 1490 경상북도 경주시 유림로 5번길 85-15호\n",
    "# 1496 전라남도 영광군 영광읍 천년로 13길 2-34 주차장\n",
    "# 1501 경기도 동두천시 평화로 2169번길 21 (송내동)\n",
    "# 1516 서울특별시 강남구 개포로 25길 32\n",
    "# 1601 제주특별자치도 서귀포시 산록남로 1241번길 145(색달동)\n",
    "# 1781 광주광역시 동구 필문대로 205번길 17\n",
    "# 1834 광주광역시 동구 의재로 109번길 10\n",
    "# 1836 서울특별시 금천구 독산로 36나길 21 B1 18\n",
    "# 1853 서울특별시 강북구 오현로 21길 84 옥상 주차장\n",
    "# 1873 서울특별시 강북구 도봉로 61길 46\n",
    "# 2068 경기도 포천시 삼육사로 2186번길 11\n",
    "# 2126 경기도 양주시 광적면 부흥로 618번길 303\n",
    "# 2150 인천광역시 중구 영종해안북로 1204번길 105\n",
    "# 2164 제주특별자치도 서귀포시 칠십리로 72번길 1\n",
    "# 2178 서울특별시 양천구 중앙로 32길 1\n",
    "# 2335 경기도 김포시 태장로 795번길 137\n",
    "# 2348 서울특별시 영등포구 영신로 10길 15\n",
    "# 2357 제주특별자치도 서귀포시 중앙로 101번길 52\n",
    "# 2648 경기도 성남시 분당구 운중로 225번길 37\n",
    "# 2655 경기도 수원시 권선구 경수대로 168번길 79\n",
    "# 2730 경기도 시흥시 마유로 238번길 26\n",
    "# 2784 제주특별자치도 서귀포시 신서귀로 51번길 38\n",
    "# 2874 광주광역시 북구 첨단과기로 208번길 6\n",
    "# 2926 광주광역시 서구 송암로 143번길 34\n",
    "# 3012 광주광역시 광산구 왕버들로 322번길 6\n",
    "# 3063 광주광역시 북구 첨단과기로 208번길 5\n",
    "# 3173 인천광역시 미추홀구 아암대로 253번길 81\n",
    "# 3358 인천광역시 서구 탁옥로 51번길 26\n",
    "# 3490 제주특별자치도 서귀포시 도순남로 29번길 13\n",
    "# 3507 제주특별자치도 서귀포시 남원읍 태신로 130번길 170\n",
    "# 3534 대전광역시 유성구 대덕대로 989번길 111\n",
    "# 3552 대전광역시 서구 갈마중로 30번길 15-5\n",
    "# 3613 광주광역시 동구 충장로 5가 25\n",
    "# 3627 대구광역시 달서구 송현로 8안길 6\n",
    "# 3665 충청남도 아산시 모종북로 76번길 62\n",
    "# 3676 충청남도 아산시 곡교천로 27번길 33\n",
    "# 3850 충청북도 괴산군 청안면 조천로 2길 86\n",
    "# 3889 울산광역시 남구 삼산로 35번길 25"
   ]
  },
  {
   "cell_type": "code",
   "execution_count": 1440,
   "metadata": {},
   "outputs": [],
   "source": [
    "# 3415 전라북도 익산시 익산대로 52길27"
   ]
  },
  {
   "cell_type": "code",
   "execution_count": 1441,
   "metadata": {},
   "outputs": [
    {
     "data": {
      "text/plain": [
       "75"
      ]
     },
     "execution_count": 1441,
     "metadata": {},
     "output_type": "execute_result"
    }
   ],
   "source": [
    "cidx1 = [27, 94, 145, 189, 196, 236, 311, 362, 365, 406, 433, \n",
    "         444, 446, 480, 535, 537, 578, 646, 675, 724, 739, 867, \n",
    "         997, 1091, 1094, 1111, 1116, 1117, 1214, 1234, 1392, \n",
    "         1408, 1422, 1428, 1435, 1483, 1487, 1490, 1496, 1501,\n",
    "         1516, 1601, 1781, 1834, 1836, 1853, 1873, 2068, 2126,\n",
    "         2150, 2164, 2178, 2335, 2348, 2357, 2648, 2655, 2730, \n",
    "         2784, 2874, 2926, 3012, 3063, 3173, 3358, 3490, 3507,\n",
    "         3534, 3552, 3613, 3627, 3665, 3676, 3850, 3889]\n",
    "len(cidx1)"
   ]
  },
  {
   "cell_type": "code",
   "execution_count": 1442,
   "metadata": {},
   "outputs": [
    {
     "name": "stdout",
     "output_type": "stream",
     "text": [
      "제주특별자치도 서귀포시 남원읍 태신로 130번길 170\n"
     ]
    },
    {
     "data": {
      "text/plain": [
       "'제주특별자치도 서귀포시 남원읍 태신로130번길 170'"
      ]
     },
     "execution_count": 1442,
     "metadata": {},
     "output_type": "execute_result"
    }
   ],
   "source": [
    "print(adr[3507])\n",
    "check1.sub('\\g<1>\\g<2>', adr[3507], 1)"
   ]
  },
  {
   "cell_type": "code",
   "execution_count": 1443,
   "metadata": {},
   "outputs": [
    {
     "name": "stdout",
     "output_type": "stream",
     "text": [
      "대전광역시 서구 갈마중로 30번길 15-5\n"
     ]
    },
    {
     "data": {
      "text/plain": [
       "'대전광역시 서구 갈마중로30번길 15-5'"
      ]
     },
     "execution_count": 1443,
     "metadata": {},
     "output_type": "execute_result"
    }
   ],
   "source": [
    "print(adr[3552])\n",
    "check1.sub('\\g<1>\\g<2>', adr[3552], 1)"
   ]
  },
  {
   "cell_type": "code",
   "execution_count": 1444,
   "metadata": {},
   "outputs": [
    {
     "name": "stdout",
     "output_type": "stream",
     "text": [
      "전라남도 여수시 학동 168(시청로 1번지)\n"
     ]
    },
    {
     "data": {
      "text/plain": [
       "'전라남도 여수시 학동 168(시청로1번지)'"
      ]
     },
     "execution_count": 1444,
     "metadata": {},
     "output_type": "execute_result"
    }
   ],
   "source": [
    "print(adr[480])\n",
    "check1.sub('\\g<1>\\g<2>', adr[480], 1)"
   ]
  },
  {
   "cell_type": "code",
   "execution_count": 1445,
   "metadata": {},
   "outputs": [],
   "source": [
    "for i in cidx1:\n",
    "    temp = adr[i]\n",
    "    adr[i] = check1.sub('\\g<1>\\g<2>', temp, 1)"
   ]
  },
  {
   "cell_type": "code",
   "execution_count": 1446,
   "metadata": {},
   "outputs": [
    {
     "data": {
      "text/plain": [
       "array(['전라남도 여수시 학동 168(시청로1번지)', '제주특별자치도 서귀포시 남원읍 태신로130번길 170',\n",
       "       '대전광역시 서구 갈마중로30번길 15-5'], dtype=object)"
      ]
     },
     "execution_count": 1446,
     "metadata": {},
     "output_type": "execute_result"
    }
   ],
   "source": [
    "adr[[480, 3507, 3552]]"
   ]
  },
  {
   "cell_type": "code",
   "execution_count": 1447,
   "metadata": {},
   "outputs": [
    {
     "data": {
      "text/plain": [
       "'전라북도 익산시 익산대로 52길27'"
      ]
     },
     "execution_count": 1447,
     "metadata": {},
     "output_type": "execute_result"
    }
   ],
   "source": [
    "adr[3415]"
   ]
  },
  {
   "cell_type": "code",
   "execution_count": 1448,
   "metadata": {},
   "outputs": [
    {
     "name": "stdout",
     "output_type": "stream",
     "text": [
      "전라북도 익산시 익산대로 52길27\n",
      "전라북도 익산시 익산대로52길 27\n"
     ]
    }
   ],
   "source": [
    "print(adr[3415])\n",
    "if adr[3415] == '전라북도 익산시 익산대로 52길27':\n",
    "    adr[3415] = '전라북도 익산시 익산대로52길 27'\n",
    "print(adr[3415])"
   ]
  },
  {
   "cell_type": "markdown",
   "metadata": {},
   "source": [
    "###### -로 -길"
   ]
  },
  {
   "cell_type": "code",
   "execution_count": 1449,
   "metadata": {},
   "outputs": [],
   "source": [
    "check12 = re.compile('([가-힣]+[0-9]*로) ([0-9]+길)')\n",
    "for i, one in enumerate(adr):\n",
    "    if check12.search(one):\n",
    "        print(i, one)"
   ]
  },
  {
   "cell_type": "markdown",
   "metadata": {},
   "source": [
    "###### -로 -번길"
   ]
  },
  {
   "cell_type": "code",
   "execution_count": 1450,
   "metadata": {},
   "outputs": [],
   "source": [
    "check13 = re.compile('([가-힣]+[0-9]*로) ([0-9]+번길)')\n",
    "for i, one in enumerate(adr):\n",
    "    if check13.search(one):\n",
    "        print(i, one)"
   ]
  },
  {
   "cell_type": "markdown",
   "metadata": {},
   "source": [
    "###### -로 -가길"
   ]
  },
  {
   "cell_type": "code",
   "execution_count": 1451,
   "metadata": {},
   "outputs": [],
   "source": [
    "check14 = re.compile('([가-힣]+[0-9]*로) ([0-9]+가길)')\n",
    "for i, one in enumerate(adr):\n",
    "    if check14.search(one):\n",
    "        print(i, one)"
   ]
  },
  {
   "cell_type": "markdown",
   "metadata": {},
   "source": [
    "###### -로 -나길"
   ]
  },
  {
   "cell_type": "code",
   "execution_count": 1452,
   "metadata": {},
   "outputs": [],
   "source": [
    "check15 = re.compile('([가-힣]+[0-9]*로) ([0-9]+나길)')\n",
    "for i, one in enumerate(adr):\n",
    "    if check15.search(one):\n",
    "        print(i, one)"
   ]
  },
  {
   "cell_type": "markdown",
   "metadata": {},
   "source": [
    "###### -로 -다길"
   ]
  },
  {
   "cell_type": "code",
   "execution_count": 1453,
   "metadata": {},
   "outputs": [
    {
     "name": "stdout",
     "output_type": "stream",
     "text": [
      "2410 서울특별시 용산구 한강대로 62다길 42\n"
     ]
    }
   ],
   "source": [
    "check16 = re.compile('([가-힣]+[0-9]*로) ([0-9]+다길)')\n",
    "for i, one in enumerate(adr):\n",
    "    if check16.search(one):\n",
    "        print(i, one)"
   ]
  },
  {
   "cell_type": "code",
   "execution_count": 1454,
   "metadata": {},
   "outputs": [
    {
     "name": "stdout",
     "output_type": "stream",
     "text": [
      "서울특별시 용산구 한강대로 62다길 42\n",
      "서울특별시 용산구 한강대로62다길 42\n"
     ]
    }
   ],
   "source": [
    "print(adr[2410])\n",
    "if adr[2410] == '서울특별시 용산구 한강대로 62다길 42':\n",
    "    adr[2410] = '서울특별시 용산구 한강대로62다길 42'\n",
    "print(adr[2410])"
   ]
  },
  {
   "cell_type": "markdown",
   "metadata": {},
   "source": [
    "###### -로 -안길"
   ]
  },
  {
   "cell_type": "code",
   "execution_count": 1455,
   "metadata": {},
   "outputs": [],
   "source": [
    "check17 = re.compile('([가-힣]+[0-9]*로) ([0-9]+안길)')\n",
    "for i, one in enumerate(adr):\n",
    "    if check17.search(one):\n",
    "        print(i, one)"
   ]
  },
  {
   "cell_type": "markdown",
   "metadata": {},
   "source": [
    "##### -길 체크"
   ]
  },
  {
   "cell_type": "code",
   "execution_count": 1456,
   "metadata": {},
   "outputs": [
    {
     "name": "stdout",
     "output_type": "stream",
     "text": [
      "743 서울특별시 영등포구 신길1동 116-15\n",
      "1479 경기도 양평군 개군면 하자포길33번길 8\n",
      "1570 경상북도 포항시 북구 흥해읍 초곡길36번길 30\n",
      "3424 경상남도 진주시 가좌길29번길 63\n",
      "3673 경상북도 포항시 남구 구룡포읍 구룡포길117번길 28-8\n"
     ]
    }
   ],
   "source": [
    "check2 = re.compile('([가-힣]+[0-9]*길)([0-9]+)')\n",
    "for i, one in enumerate(adr):\n",
    "    if check2.search(one):\n",
    "        print(i, one)"
   ]
  },
  {
   "cell_type": "markdown",
   "metadata": {},
   "source": [
    "###### -길 -번길"
   ]
  },
  {
   "cell_type": "code",
   "execution_count": 1457,
   "metadata": {},
   "outputs": [
    {
     "name": "stdout",
     "output_type": "stream",
     "text": [
      "2738 경상남도 진주시 망경남길 60번길 18\n"
     ]
    }
   ],
   "source": [
    "check21 = re.compile('([가-힣]+[0-9]*길) ([0-9]+번길)')\n",
    "for i, one in enumerate(adr):\n",
    "    if check21.search(one):\n",
    "        print(i, one)"
   ]
  },
  {
   "cell_type": "code",
   "execution_count": 1458,
   "metadata": {},
   "outputs": [
    {
     "name": "stdout",
     "output_type": "stream",
     "text": [
      "경상남도 진주시 망경남길 60번길 18\n",
      "경상남도 진주시 망경남길60번길 18\n"
     ]
    }
   ],
   "source": [
    "print(adr[2738])\n",
    "if adr[2738] == '경상남도 진주시 망경남길 60번길 18':\n",
    "    adr[2738] = '경상남도 진주시 망경남길60번길 18'\n",
    "print(adr[2738])"
   ]
  },
  {
   "cell_type": "markdown",
   "metadata": {},
   "source": [
    "##### -동 체크"
   ]
  },
  {
   "cell_type": "code",
   "execution_count": 1459,
   "metadata": {},
   "outputs": [
    {
     "name": "stdout",
     "output_type": "stream",
     "text": [
      "389 충청북도 단양군 적성면 기동2길 32-37 (기동리)\n",
      "439 전라북도 전주시 완산구 효자동3가 1712-10\n",
      "443 전라북도 전주시 완산구 효자동2가 1234-3 5층\n",
      "605 전라북도 전주시 덕진구 인후동1가 807-6\n",
      "645 경상북도 구미시 인동14길 14\n",
      "649 대구광역시 북구 노원동2가 214\n",
      "687 경상남도 창원시 마산합포구 신마산시장길 33 (창포동3가)\n",
      "854 경상남도 창원시 진해구 용재로 46  웅동2동 주민센터 주차장 내\n",
      "982 서울특별시 종로구 인사동5길 29 지상주차장\n",
      "1056 경상남도 창원시 장군동4가 3-6\n",
      "1062 부산광역시 중구 중앙대로 2 (중앙동7가)\n",
      "1135 충청북도 청주시 서원구 현도면 선동1길 9\n",
      "1139 충청남도 당진시 무수동2길 25-21\n",
      "1368 울산광역시 울주군 언양읍 언동3길 20-48\n",
      "1426 강원도 삼척시 당저동1길 17-9\n",
      "1748 인천광역시 중구 북성동1가 97-32\n",
      "2421 전라북도 전주시 덕진구 송천동2가 1257\n",
      "2423 전라북도 전주시 덕진구 송천동2가 1316\n",
      "2616 경상남도 창원시 마산회원구 석전동4길 52\n",
      "2854 인천광역시 중구 송월동2가 4\n",
      "2862 전라북도 전주시 덕진구 가련산로 26-3 (송천동1가)\n",
      "2970 경상남도 합천군 합천읍 교동1길 33\n",
      "3069 경상남도 창원시 마산합포구 현동7길 27\n",
      "3152 충청북도 영동군 황간면 원촌동1길 54-8\n",
      "3285 전라북도 익산시 인화동2가 7\n",
      "3453 전라남도 여수시 삼동3길 13\n",
      "3891 경상남도 고성군 거류면 당동3길 5\n",
      "3924 전라남도 여수시 학동2길 7\n",
      "3987 전라남도 영암군 신북면 황금동1길 5-1\n",
      "4050 충청북도 청주시 서원구 현도면 선동2길 232-9\n",
      "4181 전라남도 여수시 관문동1길 39\n",
      "4221 충청북도 단양군 적성면 기동2길 32-37\n"
     ]
    }
   ],
   "source": [
    "check3 = re.compile('([가-힣]+[0-9]*동)([0-9]+)')\n",
    "for i, one in enumerate(adr):\n",
    "    if check3.search(one):\n",
    "        print(i, one)"
   ]
  },
  {
   "cell_type": "code",
   "execution_count": 1460,
   "metadata": {},
   "outputs": [],
   "source": [
    "# 이상없음"
   ]
  },
  {
   "cell_type": "markdown",
   "metadata": {},
   "source": [
    "##### -가 체크"
   ]
  },
  {
   "cell_type": "markdown",
   "metadata": {},
   "source": [
    "###### -동 -가"
   ]
  },
  {
   "cell_type": "code",
   "execution_count": 1461,
   "metadata": {},
   "outputs": [
    {
     "name": "stdout",
     "output_type": "stream",
     "text": [
      "283 전라북도 전주시 덕진구 덕진동 2가 179-6\n",
      "607 전라북도 전주시 덕진동 2가 694-1\n"
     ]
    }
   ],
   "source": [
    "check41 = re.compile('([가-힣]+[0-9]*동) ([0-9]+가)')\n",
    "for i, one in enumerate(adr):\n",
    "    if check41.search(one):\n",
    "        print(i, one)"
   ]
  },
  {
   "cell_type": "code",
   "execution_count": 1462,
   "metadata": {},
   "outputs": [
    {
     "name": "stdout",
     "output_type": "stream",
     "text": [
      "전라북도 전주시 덕진구 덕진동 2가 179-6\n",
      "전라북도 전주시 덕진구 덕진동2가 179-6\n"
     ]
    }
   ],
   "source": [
    "print(adr[283])\n",
    "if adr[283] == '전라북도 전주시 덕진구 덕진동 2가 179-6':\n",
    "    adr[283] = '전라북도 전주시 덕진구 덕진동2가 179-6'\n",
    "print(adr[283])"
   ]
  },
  {
   "cell_type": "code",
   "execution_count": 1463,
   "metadata": {},
   "outputs": [
    {
     "name": "stdout",
     "output_type": "stream",
     "text": [
      "전라북도 전주시 덕진동 2가 694-1\n",
      "전라북도 전주시 덕진동2가 694-1\n"
     ]
    }
   ],
   "source": [
    "print(adr[607])\n",
    "if adr[607] == '전라북도 전주시 덕진동 2가 694-1':\n",
    "    adr[607] = '전라북도 전주시 덕진동2가 694-1'\n",
    "print(adr[607])"
   ]
  },
  {
   "cell_type": "markdown",
   "metadata": {},
   "source": [
    "###### -로 -가"
   ]
  },
  {
   "cell_type": "code",
   "execution_count": 1464,
   "metadata": {},
   "outputs": [],
   "source": [
    "check42 = re.compile('([가-힣]+[0-9]*로) ([0-9]+가)')\n",
    "for i, one in enumerate(adr):\n",
    "    if check42.search(one):\n",
    "        print(i, one)"
   ]
  },
  {
   "cell_type": "markdown",
   "metadata": {},
   "source": [
    "### 주소 세분류"
   ]
  },
  {
   "cell_type": "markdown",
   "metadata": {},
   "source": [
    "#### 빈칸 처리"
   ]
  },
  {
   "cell_type": "code",
   "execution_count": 1465,
   "metadata": {},
   "outputs": [
    {
     "data": {
      "text/plain": [
       "205"
      ]
     },
     "execution_count": 1465,
     "metadata": {},
     "output_type": "execute_result"
    }
   ],
   "source": [
    "count = 0\n",
    "for i, one in enumerate(adr):\n",
    "    if '  ' in one:\n",
    "        adr[i] = one.replace('  ', ' ')\n",
    "        count += 1\n",
    "count"
   ]
  },
  {
   "cell_type": "markdown",
   "metadata": {},
   "source": [
    "#### 컴마 제거"
   ]
  },
  {
   "cell_type": "code",
   "execution_count": 1466,
   "metadata": {},
   "outputs": [
    {
     "data": {
      "text/plain": [
       "0"
      ]
     },
     "execution_count": 1466,
     "metadata": {},
     "output_type": "execute_result"
    }
   ],
   "source": [
    "count = 0\n",
    "for i, one in enumerate(adr):\n",
    "    if ',' in one:\n",
    "        adr[i] = one.replace(',', '')\n",
    "        count += 1\n",
    "count"
   ]
  },
  {
   "cell_type": "code",
   "execution_count": 1467,
   "metadata": {},
   "outputs": [
    {
     "data": {
      "text/plain": [
       "'경상남도 김해시 진영읍 하계로96번길 94-4 주유소 옆 주차장'"
      ]
     },
     "execution_count": 1467,
     "metadata": {},
     "output_type": "execute_result"
    }
   ],
   "source": [
    "adr[858]"
   ]
  },
  {
   "cell_type": "markdown",
   "metadata": {},
   "source": [
    "#### 시-구 같은 구분지역 처리"
   ]
  },
  {
   "cell_type": "code",
   "execution_count": 1468,
   "metadata": {},
   "outputs": [],
   "source": [
    "split_dict = {' 고양시 덕양구 ':'$고양시-덕양구$', ' 고양시 일산동구 ':'$고양시-일산동구$', ' 고양시 일산서구 ':'$고양시-일산서구$', ' 성남시 분당구 ':'$성남시-분당구$', ' 성남시 수정구 ':'$성남시-수정구$', \n",
    "              ' 성남시 중원구 ':'$성남시-중원구$', ' 성남시 권선구 ':'$성남시-권선구$', ' 성남시 영통구 ':'$성남시-영통구$', ' 성남시 장안구 ':'$성남시-장안구$', ' 성남시 팔달구 ':'$성남시-팔달구$',\n",
    "              ' 수원시 권선구 ':'$수원시-권선구$', ' 수원시 영통구 ':'$수원시-영통구$', ' 수원시 장안구 ':'$수원시-장안구$', ' 수원시 팔달구 ':'$수원시-팔달구$', ' 안산시 단원구 ':'$안산시-단원구$', \n",
    "              ' 안산시 상록구 ':'$안산시-상록구$', ' 안양시 동안구 ':'$안양시-동안구$', ' 안양시 만안구 ':'$안양시-만안구$', ' 용인시 기흥구 ':'$용인시-기흥구$', ' 용인시 수지구 ':'$용인시-수지구$', \n",
    "              ' 용인시 처인구 ':'$용인시-처인구$', ' 청주시 상당구 ':'$청주시-상당구$', ' 청주시 서원구 ':'$청주시-서원구$', ' 청주시 청원구 ':'$청주시-청원구$', ' 청주시 흥덕구 ':'$청주시-흥덕구$', \n",
    "              ' 천안시 동남구 ':'$천안시-동남구$', ' 천안시 서북구 ':'$천안시-서북구$', ' 전주시 덕진구 ':'$전주시-덕진구$', ' 전주시 완산구 ':'$전주시-완산구$', ' 창원시 마산합포구 ':'$창원시-마산합포구$', \n",
    "              ' 창원시 마산회원구 ':'$창원시-마산회원구$', ' 창원시 성산구 ':'$창원시-성산구$', ' 창원시 의창구 ':'$창원시-의창구$', ' 창원시 진해구 ':'$창원시-진해구$', ' 포항시 남구 ':'$포항시-남구$', \n",
    "              ' 포항시 북구 ':'$포항시-북구$'}"
   ]
  },
  {
   "cell_type": "code",
   "execution_count": 1469,
   "metadata": {},
   "outputs": [
    {
     "data": {
      "text/plain": [
       "36"
      ]
     },
     "execution_count": 1469,
     "metadata": {},
     "output_type": "execute_result"
    }
   ],
   "source": [
    "len(split_dict)"
   ]
  },
  {
   "cell_type": "code",
   "execution_count": 1470,
   "metadata": {},
   "outputs": [
    {
     "name": "stderr",
     "output_type": "stream",
     "text": [
      "100%|██████████| 4364/4364 [00:00<00:00, 69424.10it/s]\n"
     ]
    }
   ],
   "source": [
    "adr2 = []\n",
    "for ad in tqdm(adr):\n",
    "    for k, v in split_dict.items():\n",
    "        ad = ad.replace(k, v)\n",
    "    ad = ad.replace(' ', '$')\n",
    "    ad = ad.replace('-', ' ')\n",
    "    adr2.append(ad.split('$'))"
   ]
  },
  {
   "cell_type": "code",
   "execution_count": 1471,
   "metadata": {},
   "outputs": [
    {
     "data": {
      "text/plain": [
       "[['강원도', '인제군', '상남면', '하남리', '339 7(양양방향)'],\n",
       " ['광주광역시', '북구', '첨단벤처로108번길', '9'],\n",
       " ['전라남도', '순천시', '해룡면', '남가리', '733 73'],\n",
       " ['전라남도', '구례군', '산동면', '산업로', '2319'],\n",
       " ['전라남도', '구례군', '산동면', '노고단로', '1068']]"
      ]
     },
     "execution_count": 1471,
     "metadata": {},
     "output_type": "execute_result"
    }
   ],
   "source": [
    "adr2[:5]"
   ]
  },
  {
   "cell_type": "markdown",
   "metadata": {},
   "source": [
    "#### 중복 주소명 확인"
   ]
  },
  {
   "cell_type": "code",
   "execution_count": 1472,
   "metadata": {},
   "outputs": [
    {
     "name": "stderr",
     "output_type": "stream",
     "text": [
      "100%|██████████| 4364/4364 [00:00<00:00, 374428.61it/s]"
     ]
    },
    {
     "name": "stdout",
     "output_type": "stream",
     "text": [
      "['부산광역시', '기장군', '철마면', '철마면', '485']\n",
      "['경상북도', '경산시', '경산시', '하양읍', '문화로', '36']\n",
      "['경기도', '광주시', '중앙로', '103 5', '1층', '1층', '화장실', '옆']\n",
      "['경기도', '시흥시', '장곡동', '724 32', '오른쪽', '주차장', '입구', '오른쪽', '끝부지']\n",
      "['대구광역시', '달서구', '달서구', '공원순환로', '201']\n",
      "['대구광역시', '달서구', '달서구', '송현동', '산56번지']\n",
      "['대구광역시', '북구', '북구', '산격동', '산79 13']\n",
      "['경상북도', '봉화군', '봉화군', '춘양면', '서벽리', '485']\n",
      "['세종특별자치시', '다솜2로', '11', '정부세종청사', '종합안내실', '정문', '우측도보', '정부세종청사', '종합안내실', '정문', '우측도보']\n",
      "['세종특별자치시', '다솜2로', '11', '정부세종청사', '종합안내실', '정문', '우측도보', '정부세종청사', '종합안내실', '정문', '우측도보']\n",
      "['세종특별자치시', '다솜2로', '11', '정부세종청사', '종합안내실', '정문', '우측도보', '정부세종청사', '종합안내실', '정문', '우측도보']\n",
      "['세종특별자치시', '다솜2로', '11', '정부세종청사', '종합안내실', '정문', '우측도보', '정부세종청사', '종합안내실', '정문', '우측도보']\n",
      "['경상북도', '울릉군', '북면', '천부2길', '15', '울릉군', '북면사무소', '주차장']\n",
      "['대구광역시', '동구', '효목동', '1042', '1042']\n",
      "['경상남도', '김해시', '칠산로', '128', '128']\n",
      "['경상북도', '영주시', '영주시', '문수면', '탄산리', '577 2']\n",
      "['경상북도', '울릉군', '서면', '남양4길', '31', '울릉군', '서면사무소', '주차장']\n",
      "['강원도', '원주시', '원주시', '황소마을길', '30']\n"
     ]
    },
    {
     "name": "stderr",
     "output_type": "stream",
     "text": [
      "\n"
     ]
    }
   ],
   "source": [
    "adr3 = []\n",
    "count = 0\n",
    "for one in tqdm(adr2):\n",
    "    temp = []\n",
    "    for two in one:\n",
    "        if two not in temp:\n",
    "            temp.append(two)\n",
    "        else:\n",
    "            count += 1\n",
    "            print(one)\n",
    "    adr3.append(temp)"
   ]
  },
  {
   "cell_type": "code",
   "execution_count": 1473,
   "metadata": {},
   "outputs": [
    {
     "data": {
      "text/plain": [
       "18"
      ]
     },
     "execution_count": 1473,
     "metadata": {},
     "output_type": "execute_result"
    }
   ],
   "source": [
    "count"
   ]
  },
  {
   "cell_type": "markdown",
   "metadata": {},
   "source": [
    "#### 지역 구분으로 주소 분리\n",
    "- 지역명 구분\n",
    "    - 지역\n",
    "    - 시군구\n",
    "    - 읍면동\n",
    "    - 리\n",
    "    - 도로명"
   ]
  },
  {
   "cell_type": "code",
   "execution_count": 1474,
   "metadata": {},
   "outputs": [],
   "source": [
    "ad1_p = re.compile('[가-힣]+도$|[가-힣]+시$')\n",
    "ad2_p = re.compile('[가-힣]+[시군구]$')\n",
    "ad3_p = re.compile('[가-힣0-9]+[읍면동가]$')\n",
    "ad4_p = re.compile('[가-힣0-9]+리$')\n",
    "ad5_p = re.compile('[가-힣0-9]+[로번길]$')"
   ]
  },
  {
   "cell_type": "code",
   "execution_count": 1475,
   "metadata": {},
   "outputs": [
    {
     "data": {
      "text/plain": [
       "<re.Match object; span=(0, 7), match='세종특별자치시'>"
      ]
     },
     "execution_count": 1475,
     "metadata": {},
     "output_type": "execute_result"
    }
   ],
   "source": [
    "s = '세종특별자치시'\n",
    "ad1_p.search(s)"
   ]
  },
  {
   "cell_type": "code",
   "execution_count": 1476,
   "metadata": {},
   "outputs": [
    {
     "data": {
      "text/plain": [
       "<re.Match object; span=(0, 7), match='제주특별자치도'>"
      ]
     },
     "execution_count": 1476,
     "metadata": {},
     "output_type": "execute_result"
    }
   ],
   "source": [
    "s = '제주특별자치도'\n",
    "ad1_p.search(s)"
   ]
  },
  {
   "cell_type": "code",
   "execution_count": 1477,
   "metadata": {},
   "outputs": [
    {
     "data": {
      "text/plain": [
       "<re.Match object; span=(4, 7), match='덕양구'>"
      ]
     },
     "execution_count": 1477,
     "metadata": {},
     "output_type": "execute_result"
    }
   ],
   "source": [
    "s = '고양시 덕양구'\n",
    "ad2_p.search(s)"
   ]
  },
  {
   "cell_type": "code",
   "execution_count": 1478,
   "metadata": {},
   "outputs": [
    {
     "data": {
      "text/plain": [
       "<re.Match object; span=(0, 3), match='강남구'>"
      ]
     },
     "execution_count": 1478,
     "metadata": {},
     "output_type": "execute_result"
    }
   ],
   "source": [
    "s = '강남구'\n",
    "ad2_p.search(s)"
   ]
  },
  {
   "cell_type": "code",
   "execution_count": 1479,
   "metadata": {},
   "outputs": [
    {
     "data": {
      "text/plain": [
       "<re.Match object; span=(0, 5), match='효자동3가'>"
      ]
     },
     "execution_count": 1479,
     "metadata": {},
     "output_type": "execute_result"
    }
   ],
   "source": [
    "s = '효자동3가'\n",
    "ad3_p.search(s)"
   ]
  },
  {
   "cell_type": "code",
   "execution_count": 1480,
   "metadata": {},
   "outputs": [
    {
     "data": {
      "text/plain": [
       "<re.Match object; span=(0, 3), match='서귀동'>"
      ]
     },
     "execution_count": 1480,
     "metadata": {},
     "output_type": "execute_result"
    }
   ],
   "source": [
    "s = '서귀동'\n",
    "ad3_p.search(s)"
   ]
  },
  {
   "cell_type": "code",
   "execution_count": 1481,
   "metadata": {},
   "outputs": [
    {
     "data": {
      "text/plain": [
       "<re.Match object; span=(0, 4), match='신길1동'>"
      ]
     },
     "execution_count": 1481,
     "metadata": {},
     "output_type": "execute_result"
    }
   ],
   "source": [
    "s = '신길1동'\n",
    "ad3_p.search(s)"
   ]
  },
  {
   "cell_type": "code",
   "execution_count": 1482,
   "metadata": {},
   "outputs": [
    {
     "data": {
      "text/plain": [
       "<re.Match object; span=(0, 3), match='죽림리'>"
      ]
     },
     "execution_count": 1482,
     "metadata": {},
     "output_type": "execute_result"
    }
   ],
   "source": [
    "s = '죽림리'\n",
    "ad4_p.search(s)"
   ]
  },
  {
   "cell_type": "code",
   "execution_count": 1483,
   "metadata": {},
   "outputs": [
    {
     "data": {
      "text/plain": [
       "<re.Match object; span=(0, 10), match='첨단벤처로108번길'>"
      ]
     },
     "execution_count": 1483,
     "metadata": {},
     "output_type": "execute_result"
    }
   ],
   "source": [
    "s = '첨단벤처로108번길'\n",
    "ad5_p.search(s)"
   ]
  },
  {
   "cell_type": "code",
   "execution_count": 1484,
   "metadata": {},
   "outputs": [
    {
     "data": {
      "text/plain": [
       "<re.Match object; span=(0, 4), match='노형9길'>"
      ]
     },
     "execution_count": 1484,
     "metadata": {},
     "output_type": "execute_result"
    }
   ],
   "source": [
    "s = '노형9길'\n",
    "ad5_p.search(s)"
   ]
  },
  {
   "cell_type": "code",
   "execution_count": 1485,
   "metadata": {},
   "outputs": [
    {
     "data": {
      "text/plain": [
       "<re.Match object; span=(0, 3), match='학동로'>"
      ]
     },
     "execution_count": 1485,
     "metadata": {},
     "output_type": "execute_result"
    }
   ],
   "source": [
    "s = '학동로'\n",
    "ad5_p.search(s)"
   ]
  },
  {
   "cell_type": "code",
   "execution_count": 1486,
   "metadata": {},
   "outputs": [
    {
     "name": "stderr",
     "output_type": "stream",
     "text": [
      "4364it [00:00, 161924.48it/s]\n"
     ]
    }
   ],
   "source": [
    "for i, adrs in tqdm(enumerate(adr3)):\n",
    "    for j, one in enumerate(adrs):\n",
    "        if j == 0:\n",
    "            if ad1_p.search(one):\n",
    "                pass\n",
    "        elif j == 1:\n",
    "            if ad2_p.search(one):\n",
    "                pass\n",
    "            else:\n",
    "                adrs.insert(j, np.nan)\n",
    "        elif j == 2:\n",
    "            if ad3_p.search(one):\n",
    "                pass\n",
    "            else:\n",
    "                adrs.insert(j, np.nan)\n",
    "        elif j == 3:\n",
    "            if ad4_p.search(one):\n",
    "                pass\n",
    "            else:\n",
    "                adrs.insert(j, np.nan)\n"
   ]
  },
  {
   "cell_type": "code",
   "execution_count": 1487,
   "metadata": {},
   "outputs": [],
   "source": [
    "# 5번째 구분에 '-리', 주소 존재 여부 체크\n",
    "for i, one in enumerate(adr3):\n",
    "    try:\n",
    "        if ad4_p.search(one[4]):\n",
    "            print(i, one)\n",
    "    except:\n",
    "        pass"
   ]
  },
  {
   "cell_type": "code",
   "execution_count": 1488,
   "metadata": {},
   "outputs": [
    {
     "name": "stdout",
     "output_type": "stream",
     "text": [
      "169 ['경상남도', '통영시', nan, nan, '큰발개', '1길', '33', '마리나요트클럽', '앞']\n",
      "405 ['충청남도', '천안시 서북구', nan, nan, '신당새터', '2길', '28', '카페', '옆']\n",
      "509 ['경기도', '양평군', '양동면', '단석리', '513 2', '(여양3로', '384 27)']\n",
      "901 ['인천광역시', '서구', nan, nan, '청라', '커낼로', '252(경서동)']\n",
      "1034 ['경기도', '하남시', nan, nan, '미사강변', '한강로', '299', '지하주차장', '입구', '앞']\n",
      "1041 ['대전광역시', '유성구', nan, nan, '테크노', '9로', '35', '입구', '국기계양대', '왼쪽']\n",
      "1357 ['제주특별자치도', '제주시', nan, nan, '산천단', '동3길', '2', '북쪽주차장', '입구']\n",
      "1825 ['경기도', '부천시', nan, nan, '원미구', '석천로', '188', '지상주차장', '2층', 'D구역', '창고', '오른쪽']\n",
      "1918 ['경상북도', '상주시', nan, nan, '영남', '제일로', '1339']\n",
      "1921 ['세종특별자치시', nan, nan, nan, '다솜', '3로', '66']\n",
      "2090 ['충청남도', '당진시', '정미면', '천의리', '245 4', '천의삼거리', '주차장', '내']\n",
      "2215 ['경기도', '이천시', '호법면', nan, '프리미엄', '아울렛로', '177 74']\n",
      "2497 ['충청남도', '보령시', nan, nan, '갓바위', '1길', '10 30']\n",
      "2735 ['울산광역시', '북구', nan, nan, '진장', '유통로', '64']\n",
      "3760 ['부산광역시', '강서구', nan, nan, '명지오션시티', '13로', '12 11']\n"
     ]
    }
   ],
   "source": [
    "# 6번째 구분에 '-리', '-로, -길' 주소 존재 여부 체크\n",
    "for i, one in enumerate(adr3):\n",
    "    try:\n",
    "        if ad4_p.search(one[5]) or ad5_p.search(one[5]):\n",
    "            print(i, one)\n",
    "    except:\n",
    "        pass"
   ]
  },
  {
   "cell_type": "code",
   "execution_count": 1489,
   "metadata": {},
   "outputs": [],
   "source": [
    "# 169 ['경상남도', '통영시', nan, nan, '큰발개', '1길', '33', '마리나요트클럽', '앞']\n",
    "# 405 ['충청남도', '천안시 서북구', nan, nan, '신당새터', '2길', '28', '카페', '옆']\n",
    "# 901 ['인천광역시', '서구', nan, nan, '청라', '커낼로', '252(경서동)']\n",
    "# 1034 ['경기도', '하남시', nan, nan, '미사강변', '한강로', '299', '지하주차장', '입구', '앞']\n",
    "# 1041 ['대전광역시', '유성구', nan, nan, '테크노', '9로', '35', '입구', '국기계양대', '왼쪽']\n",
    "# 1357 ['제주특별자치도', '제주시', nan, nan, '산천단', '동3길', '2', '북쪽주차장', '입구']\n",
    "# 1918 ['경상북도', '상주시', nan, nan, '영남', '제일로', '1339']\n",
    "# 1921 ['세종특별자치시', nan, nan, nan, '다솜', '3로', '66']\n",
    "# 2215 ['경기도', '이천시', '호법면', nan, '프리미엄', '아울렛로', '177 74']\n",
    "# 2497 ['충청남도', '보령시', nan, nan, '갓바위', '1길', '10 30']\n",
    "# 2735 ['울산광역시', '북구', nan, nan, '진장', '유통로', '64']\n",
    "# 3760 ['부산광역시', '강서구', nan, nan, '명지오션시티', '13로', '12 11']"
   ]
  },
  {
   "cell_type": "code",
   "execution_count": 1490,
   "metadata": {},
   "outputs": [
    {
     "data": {
      "text/plain": [
       "12"
      ]
     },
     "execution_count": 1490,
     "metadata": {},
     "output_type": "execute_result"
    }
   ],
   "source": [
    "sidx1 = [169, 405, 901, 1034, 1041, 1357, 1918, 1921, 2215, 2497, 2735, 3760]\n",
    "len(sidx1)"
   ]
  },
  {
   "cell_type": "markdown",
   "metadata": {},
   "source": [
    "#### 하나씩 확인"
   ]
  },
  {
   "cell_type": "code",
   "execution_count": 1491,
   "metadata": {},
   "outputs": [
    {
     "name": "stderr",
     "output_type": "stream",
     "text": [
      "100%|██████████| 12/12 [00:00<?, ?it/s]"
     ]
    },
    {
     "name": "stdout",
     "output_type": "stream",
     "text": [
      "['경상남도', '통영시', nan, nan, '큰발개1길', '33', '마리나요트클럽', '앞']\n",
      "['충청남도', '천안시 서북구', nan, nan, '신당새터2길', '28', '카페', '옆']\n",
      "['인천광역시', '서구', nan, nan, '청라커낼로', '252(경서동)']\n",
      "['경기도', '하남시', nan, nan, '미사강변한강로', '299', '지하주차장', '입구', '앞']\n",
      "['대전광역시', '유성구', nan, nan, '테크노9로', '35', '입구', '국기계양대', '왼쪽']\n",
      "['제주특별자치도', '제주시', nan, nan, '산천단동3길', '2', '북쪽주차장', '입구']\n",
      "['경상북도', '상주시', nan, nan, '영남제일로', '1339']\n",
      "['세종특별자치시', nan, nan, nan, '다솜3로', '66']\n",
      "['경기도', '이천시', '호법면', nan, '프리미엄아울렛로', '177 74']\n",
      "['충청남도', '보령시', nan, nan, '갓바위1길', '10 30']\n",
      "['울산광역시', '북구', nan, nan, '진장유통로', '64']\n",
      "['부산광역시', '강서구', nan, nan, '명지오션시티13로', '12 11']\n"
     ]
    },
    {
     "name": "stderr",
     "output_type": "stream",
     "text": [
      "\n"
     ]
    }
   ],
   "source": [
    "for i in tqdm(sidx1):\n",
    "    adr3[i][4] = adr3[i][4] + adr3[i][5]\n",
    "    adr3[i].pop(5)\n",
    "    print(adr3[i])"
   ]
  },
  {
   "cell_type": "code",
   "execution_count": 1492,
   "metadata": {},
   "outputs": [
    {
     "data": {
      "text/plain": [
       "['충청남도', '당진시', '정미면', '천의리', '245 4', '천의삼거리', '주차장', '내']"
      ]
     },
     "execution_count": 1492,
     "metadata": {},
     "output_type": "execute_result"
    }
   ],
   "source": [
    "adr3[2090]"
   ]
  },
  {
   "cell_type": "code",
   "execution_count": 1493,
   "metadata": {},
   "outputs": [
    {
     "data": {
      "text/plain": [
       "['충청남도', '당진시', '정미면', '천의리', '245', '4', '천의삼거리', '천의삼거리', '주차장', '내']"
      ]
     },
     "execution_count": 1493,
     "metadata": {},
     "output_type": "execute_result"
    }
   ],
   "source": [
    "adr3[2090][4] = '천의삼거리'\n",
    "adr3[2090].insert(4, '4')\n",
    "adr3[2090].insert(4, '245')\n",
    "adr3[2090]"
   ]
  },
  {
   "cell_type": "code",
   "execution_count": 1494,
   "metadata": {},
   "outputs": [
    {
     "data": {
      "text/plain": [
       "['제주특별자치도', '제주시', nan, nan, '천수로', '72']"
      ]
     },
     "execution_count": 1494,
     "metadata": {},
     "output_type": "execute_result"
    }
   ],
   "source": [
    "adr3[4362]"
   ]
  },
  {
   "cell_type": "code",
   "execution_count": 1495,
   "metadata": {},
   "outputs": [],
   "source": [
    "ad5_p = re.compile('[가-힣0-9]+[로번길]$')"
   ]
  },
  {
   "cell_type": "code",
   "execution_count": 1496,
   "metadata": {},
   "outputs": [
    {
     "name": "stdout",
     "output_type": "stream",
     "text": [
      "0 ['강원도', '인제군', '상남면', '하남리', '339 7(양양방향)']\n",
      "2 ['전라남도', '순천시', '해룡면', '남가리', '733 73']\n",
      "5 ['전라남도', '장성군', '북하면', '약수리', '252 6']\n",
      "6 ['전라남도', '장성군', '북하면', '신성리', '427 2']\n",
      "7 ['전라북도', '부안군', '변산면', '격포리', '283 1']\n",
      "8 ['전라남도', '영암군', '영암읍', '개신리', '484 47']\n",
      "11 ['전라북도', '남원시', '산내면', '덕동리', '406']\n",
      "12 ['전라북도', '정읍시', '내장동', nan, '52']\n",
      "13 ['전라북도', '정읍시', '내장동', nan, '169 1']\n",
      "14 ['전라북도', '무주군', '설천면', '삼공리', '411']\n",
      "16 ['제주특별자치도', '제주시', '연동', nan, '2334 4']\n",
      "17 ['제주특별자치도', '제주시', '조천읍', '함덕리', '906번지']\n",
      "28 ['대전광역시', '대덕구', '신대동', nan, '169 1']\n",
      "30 ['대전광역시', '서구', '만년동', nan, '74']\n",
      "31 ['대전광역시', '서구', '복수동', nan, '613']\n",
      "32 ['대전광역시', '서구', '월평동', nan, '1275']\n",
      "33 ['대전광역시', '서구', '정림동', nan, '127 1']\n",
      "34 ['대전광역시', '중구', '사정동', nan, '403번지']\n",
      "36 ['경기도', '양주시', '옥정동', nan, '1039']\n",
      "39 ['경기도', '부천시', '상동', nan, '549번지']\n",
      "41 ['경기도', '안산시 상록구', '이동', nan, '620']\n",
      "42 ['경기도', '하남시', '망월동', nan, '1 1']\n",
      "45 ['인천광역시', '서구', '연희동', nan, '187 8']\n",
      "46 ['인천광역시', '남동구', '논현동', nan, '762 3']\n",
      "47 ['인천광역시', '남동구', '서창동', nan, '558 3']\n",
      "51 ['경상남도', '거제시', '동부면', '학동리', '264']\n",
      "53 ['경상남도', '거제시', '사등면', '오량리', '841']\n",
      "62 ['강원도', '철원군', '동송읍', '장흥리', '20 15']\n",
      "63 ['강원도', '인제군', '인제읍', '상동리', '430']\n",
      "70 ['충청북도', '괴산군', '괴산읍', '서부리', '654']\n",
      "72 ['충청북도', '단양군', '단양읍', '고수리', '149 1']\n",
      "73 ['제주특별자치도', '제주시', '아라동', nan, '3008 1']\n",
      "74 ['제주특별자치도', '제주시', '아라동', nan, '6140 4']\n",
      "75 ['제주특별자치도', '제주시', '애월읍', '상가리', '1196 1']\n",
      "77 ['제주특별자치도', '제주시', '외도1동', nan, '482 1']\n",
      "78 ['제주특별자치도', '제주시', '이도1동', nan, '1293 1']\n",
      "80 ['제주특별자치도', '제주시', '일도2동', nan, '488 1']\n",
      "82 ['제주특별자치도', '제주시', nan, '하귀1리', '176 3']\n",
      "92 ['전라남도', '화순군', '화순읍', '훈리', '31', '군청', '후면', '주차장']\n",
      "95 ['경상남도', '김해시', '대동면', '월촌리', '770']\n",
      "96 ['경상북도', '성주군', '초전면', '용봉리', '129 5']\n",
      "108 ['강원도', '인제군', '기린면', '현리', '634 7']\n",
      "109 ['강원도', '정선군', '남면', '무릉리', '784 4']\n",
      "112 ['강원도', '화천군', '사내면', '사창리', '457 6']\n",
      "121 ['대전광역시', '서구', '관저동', nan, '1510']\n",
      "122 ['대전광역시', '서구', '관저동', nan, '1104']\n",
      "123 ['대전광역시', '서구', '도마동', nan, '413 5']\n",
      "124 ['대전광역시', '서구', '탄방동', nan, '1084']\n",
      "125 ['대전광역시', '대덕구', '중리동', nan, '20 3']\n",
      "126 ['대전광역시', '유성구', '노은동', nan, '566']\n",
      "127 ['대전광역시', '중구', '석교동', nan, '12 4']\n",
      "137 ['제주특별자치도', '서귀포시', '안덕면', '사계리', '163 1', '산방산', '주차장', '장애인', '주차구역', '앞']\n",
      "140 ['제주특별자치도', '서귀포시', '법환동', nan, '870']\n",
      "141 ['제주특별자치도', '서귀포시', '대정읍', '무릉리', '3314 1', '무릉문화의집']\n",
      "162 ['경상남도', '양산시', '덕계동', nan, '1039 5']\n",
      "163 ['경상남도', '창원시 성산구', '사파동', nan, '64 2']\n",
      "164 ['경상남도', '창원시 진해구', '풍호동', nan, '305 21']\n",
      "170 ['울산광역시', '동구', '일산동', nan, '948 4']\n",
      "172 ['울산광역시', '남구', '삼산동', nan, '1627 3', '입구', '좌측']\n",
      "182 ['경상북도', '김천시', '신음동', nan, '1284', '입구', '우측']\n",
      "183 ['경상북도', '김천시', '부곡동', nan, '1533 1']\n",
      "184 ['경상북도', '포항시 남구', '대송면', '제내리', '630 5']\n",
      "186 ['경상북도', '영주시', '순흥면', '청구리', '362', '소형주차장']\n",
      "190 ['충청남도', '보령시', '신흑동', nan, '1437 3']\n",
      "191 ['충청남도', '보령시', '웅천읍', '독산리', '784 2', '입구', '좌측']\n",
      "192 ['충청남도', '서천군', '서천읍', '군사리', '703', '우측', '주차장', '입구']\n",
      "193 ['충청남도', '천안시 동남구', '삼룡동', nan, '401 17', '입구', '좌측', '주차장']\n",
      "220 ['제주특별자치도', '제주시', '용담2동', nan, '2002']\n",
      "224 ['서울특별시', '도봉구', '창2동', nan, '582 22']\n",
      "225 ['서울특별시', '마포구', '노고산동', nan, '33 1', 'B3', '28']\n",
      "228 ['전라남도', '순천시', '왕지동', nan, '852 1']\n",
      "233 ['부산광역시', '기장군', '철마면', nan, '485']\n",
      "235 ['경상남도', '양산시', '물금읍', '가촌리', '990', '안쪽', '주차장']\n",
      "237 ['전라남도', '고흥군', nan, '등암리', '186 11']\n",
      "245 ['전라남도', '여수시', '시전동', nan, '64']\n",
      "247 ['전라남도', '나주시', '송월동', nan, '1106 2', '1층']\n",
      "248 ['전라북도', '고창군', '고창읍', '읍내리', '192 3']\n",
      "256 ['경상남도', '밀양시', '삼문동', nan, '24 40']\n",
      "263 ['경상남도', '창녕군', '남지읍', '남지리', '167 4', '일원']\n",
      "275 ['충청남도', '계룡시', '엄사면', '엄사리', '181 3']\n",
      "281 ['충청남도', '태안군', '남면', '달산리', '1179']\n",
      "283 ['전라북도', '전주시 덕진구', '덕진동2가', nan, '179 6']\n",
      "284 ['전라북도', '익산시', '여산면', '호산리', '산32 6']\n",
      "285 ['전라북도', '익산시', '함열읍', nan, '와리164']\n",
      "286 ['전라북도', '완주군', '봉동읍', '둔산리', '881']\n",
      "288 ['제주특별자치도', '제주시', '한경면', '신창리', '233 1', '입구', '우측']\n",
      "289 ['제주특별자치도', '제주시', '한림읍', '금능리', '2018', '재릉종합관광안내센터', '우측']\n",
      "291 ['제주특별자치도', '제주시', '화북1동', nan, '1976 6']\n",
      "292 ['전라남도', '강진군', '군동면', nan, '종합운동장', '60']\n",
      "294 ['경상북도', '문경시', '모전동', nan, '220', '입구', '우측']\n",
      "308 ['경기도', '양평군', '양동면', '단석리', '506 7']\n",
      "325 ['경기도', '수원시 영통구', '영통동', nan, '960 1']\n",
      "328 ['경기도', '남양주시', '와부읍', '도곡리', '1037 9']\n",
      "329 ['경기도', '남양주시', '화도읍', '마석우리', '338 1']\n",
      "332 ['경기도', '수원시 권선구', '장지동', nan, '45 1']\n",
      "333 ['경기도', '안산시 단원구', '건건동', nan, '535 14']\n",
      "336 ['경기도', '양평군', '양서면', '용담리', '507 10']\n",
      "339 ['경기도', '포천시', '내촌면', '내리', '503']\n",
      "341 ['경기도', '하남시', '망월동', nan, '728 9']\n",
      "342 ['경기도', '하남시', '풍산동', nan, '118 2']\n",
      "343 ['경기도', '하남시', '풍산동', nan, '148 3']\n",
      "344 ['강원도', '원주시', '태장동', nan, '산35 1']\n",
      "346 ['강원도', '횡성군', '둔내면', '자포곡리', '402']\n",
      "356 ['경상남도', '창원시 마산합포구', '진전면', '오서리', '604 3']\n",
      "359 ['광주광역시', '남구', '주월동', nan, '1284 7']\n",
      "366 ['제주특별자치도', '서귀포시', '대정읍', '하모리', '1513']\n",
      "380 ['서울특별시', '노원구', '하계동', nan, '251 8']\n",
      "391 ['대구광역시', '달서구', '장기동', nan, '810 4', '입구', '좌측']\n",
      "392 ['대구광역시', '달서구', '용산동', nan, '507', '입구', '우측']\n",
      "394 ['대구광역시', '북구', '서변동', nan, '1792', '입구', '좌측']\n",
      "396 ['울산광역시', '남구', '야음동', nan, '338 1', '입구', '좌측']\n",
      "399 ['인천광역시', '강화군', '내가면', '고천리', '산494']\n",
      "400 ['제주특별자치도', '서귀포시', '성산읍', '성산리', '347 9', '주차타워', '앞']\n",
      "403 ['전라남도', '고흥군', '도양읍', '봉암리', '1607 1']\n",
      "404 ['충청남도', '서산시', '수석동', nan, '204 19']\n",
      "408 ['세종특별자치시', nan, '어진동', nan, '621', '입구', '우측']\n",
      "410 ['강원도', '속초시', '조양동', nan, '1544 3']\n",
      "412 ['강원도', '횡성군', '공근면', '학담리', '202']\n",
      "413 ['강원도', '정선군', '신동읍', '예미리', '759']\n",
      "417 ['경상북도', '울진군', '북면', '덕구리', '578 6']\n",
      "430 ['울산광역시', '울주군', '범서읍', '구영리', '801 1']\n",
      "431 ['울산광역시', '울주군', '언양읍', '남부리', '336 3']\n",
      "432 ['경상북도', '영주시', '가흥동', nan, '1622']\n",
      "434 ['대구광역시', '동구', '용수동', nan, '907 1']\n",
      "436 ['대구광역시', '달서구', '호산동', nan, '714 1', '입구', '우측']\n",
      "439 ['전라북도', '전주시 완산구', '효자동3가', nan, '1712 10']\n",
      "440 ['전라북도', '전주시 덕진구', '산정동', nan, '862']\n",
      "443 ['전라북도', '전주시 완산구', '효자동2가', nan, '1234 3', '5층']\n",
      "445 ['제주특별자치도', '서귀포시', '대정읍', '구억리', '625 1']\n",
      "447 ['제주특별자치도', '제주시', '봉개동', nan, '1854 1']\n",
      "449 ['제주특별자치도', '제주시', '한림읍', '금능리', '2018']\n",
      "456 ['경상북도', '경산시', '진량읍', '평사리', '195']\n",
      "463 ['경상북도', '문경시', '영순면', '의곡리', '101 1']\n",
      "480 ['전라남도', '여수시', '학동', nan, '168(시청로1번지)']\n",
      "483 ['전라남도', '순천시', '조례동', nan, '1258']\n",
      "491 ['경상북도', '봉화군', '봉화읍', '내성리', '231 30']\n",
      "492 ['경상북도', '상주시', '계산동', nan, '474 1']\n",
      "494 ['경상북도', '영주시', '영주동', nan, '27 2']\n",
      "495 ['경상북도', '예천군', '예천읍', '노상리', '125 1']\n",
      "496 ['경상북도', '의성군', '의성읍', '후죽리', '507 2']\n",
      "498 ['강원도', '고성군', '간성읍', '하리', '12', '뒤편', '주차장', '우측']\n",
      "499 ['강원도', '속초시', '중앙동', nan, '468 12']\n",
      "501 ['강원도', '정선군', '정선읍', '애산리', '768', '보조경기장', '옆']\n",
      "502 ['강원도', '태백시', '황지동', nan, '244 3']\n",
      "509 ['경기도', '양평군', '양동면', '단석리', '513 2', '(여양3로', '384 27)']\n",
      "510 ['경기도', '오산시', '지곶동', nan, '산60']\n",
      "511 ['경기도', '오산시', '금암동', nan, '41 2']\n",
      "538 ['서울특별시', '구로구', '개봉동', nan, '134 8']\n",
      "539 ['서울특별시', '도봉구', '쌍문2동', nan, '710 4']\n",
      "541 ['서울특별시', '성북구', '정릉동', nan, '829 1']\n",
      "544 ['서울특별시', '강남구', '압구정동', nan, '453']\n",
      "546 ['서울특별시', '노원구', '상계2동', nan, '373 13']\n",
      "548 ['울산광역시', '남구', '옥동', nan, '산1112']\n",
      "550 ['울산광역시', '남구', '삼산동', nan, '1572']\n",
      "552 ['경상남도', '하동군', '하동읍', '광평리', '443 17']\n",
      "560 ['전라남도', '나주시', '삼도동', nan, '1386 3']\n",
      "562 ['경상북도', '구미시', '옥성면', '옥관리', '14 5']\n",
      "563 ['경상북도', '울진군', '근남면', '노음리', '331 1']\n",
      "564 ['충청북도', '음성군', '맹동면', '두성리', '1409']\n",
      "566 ['경상북도', '봉화군', '봉성면', '금봉리', '916']\n",
      "567 ['경상남도', '창녕군', '계성면', '계성리', '606']\n",
      "572 ['서울특별시', '성동구', '마장동', nan, '808']\n",
      "580 ['서울특별시', '송파구', '잠실동', nan, '84', '우측', '끝']\n",
      "581 ['서울특별시', '영등포구', '신길동', nan, '3203']\n",
      "596 ['전라남도', '보성군', '미력면', '화방리', '1647 1']\n",
      "605 ['전라북도', '전주시 덕진구', '인후동1가', nan, '807 6']\n",
      "606 ['전라북도', '완주군', '상관면', '신리', '83번지']\n",
      "607 ['전라북도', '전주시', '덕진동2가', nan, '694 1']\n",
      "608 ['제주특별자치도', '제주시', '한경면', '저지리', '2114 68']\n",
      "609 ['서울특별시', '성북구', '장위2동', nan, '65 154']\n",
      "617 ['서울특별시', '구로구', '구로동', nan, '136 14']\n",
      "618 ['서울특별시', '금천구', '가산동', nan, '239 27']\n",
      "623 ['경상북도', '울진군', '온정면', '소태리', '1453', '온정종합터미널', '뒤']\n",
      "624 ['전라남도', '광양시', '광양읍', '인서리', '238', '좌측', '주차장']\n",
      "626 ['전라남도', '순천시', '금곡동', nan, '60 6', '안쪽', '주차장']\n",
      "631 ['충청남도', '보령시', '궁촌동', nan, '43 2']\n",
      "642 ['대전광역시', '대덕구', '오정동', nan, '45 1']\n",
      "644 ['대전광역시', '유성구', '덕진동', nan, '453']\n",
      "648 ['대구광역시', '북구', '침산동', nan, '402 3']\n",
      "649 ['대구광역시', '북구', '노원동2가', nan, '214']\n",
      "652 ['대구광역시', '달서구', '도원동', nan, '668 10']\n",
      "653 ['대구광역시', '동구', '용계동', nan, '923 3']\n",
      "654 ['부산광역시', '북구', '만덕동', nan, '934']\n",
      "658 ['부산광역시', '기장군', nan, '대라리', '70 1']\n",
      "677 ['대구광역시', '남구', '봉덕동', nan, '1272 18']\n",
      "678 ['충청남도', '논산시', '내동', nan, '825', '시청앞', '새마을금고', '맞은편', '공영주차장']\n",
      "679 ['충청북도', '보은군', '보은읍', '성주리', '288 6', '스포츠', '사업단', '대형주차장', '해병대', '전우회', '건물옆']\n",
      "680 ['인천광역시', '강화군', '강화읍', '갑곳리', '849', '고엽제전우회', '건물', '옆']\n",
      "681 ['인천광역시', '남동구', '구월3동', nan, '1111 6', '중부지방고용노동청', '별관', '앞']\n",
      "682 ['인천광역시', '부평구', '부평동', nan, '341 193', '주차장', '입구', '오른쪽']\n",
      "683 ['인천광역시', '서구', '당하동', nan, '1097 5', '검단4동', '주민센터', '옆']\n",
      "684 ['인천광역시', '연수구', '송도동', nan, '162 1', '포스코', '그린빌딩', '앞', '주차장']\n",
      "694 ['서울특별시', '동작구', '대방동', nan, '70 5']\n",
      "697 ['경기도', '수원시 장안구', '파장동', nan, '585 4']\n",
      "698 ['경기도', '안성시', '원곡면', '산하리', '421 4']\n",
      "721 ['인천광역시', '계양구', '동양동', nan, '607 1']\n",
      "722 ['인천광역시', '부평구', '청천동', nan, '125 3']\n",
      "723 ['인천광역시', '서구', '가좌동', nan, '30 105']\n",
      "726 ['인천광역시', '부평구', '갈산동', nan, '192']\n",
      "727 ['강원도', '고성군', '거진읍', '거진리', '22 93']\n",
      "728 ['강원도', '화천군', '화천읍', '하리', '16 6']\n",
      "731 ['강원도', '양양군', '강현면', '물치리', '7 5']\n",
      "734 ['강원도', '인제군', '상남면', '상남리', '121 1']\n",
      "735 ['강원도', '인제군', '북면', '원통리', '682 1']\n",
      "736 ['강원도', '정선군', '사북읍', '사북리', '354 27']\n",
      "741 ['서울특별시', '은평구', '진관동', nan, '66 30', '지하주차장', '1층', '20구역']\n",
      "743 ['서울특별시', '영등포구', '신길1동', nan, '116 15']\n",
      "744 ['서울특별시', '동작구', '대방동', nan, '70 1']\n",
      "753 ['제주특별자치도', '서귀포시', '남원읍', '남원리', '84 2']\n",
      "755 ['제주특별자치도', '서귀포시', '대정읍', '하모리', '964 2', '주차장', '좌측']\n",
      "756 ['제주특별자치도', '서귀포시', '동홍동', nan, '470 1']\n",
      "757 ['제주특별자치도', '서귀포시', '색달동', nan, '2889 1', '중문색달해변', '북측', '증설주차장']\n",
      "771 ['강원도', '철원군', '서면', '와수리', '1160 3']\n",
      "775 ['강원도', '춘천시', '신북읍', '천전6리', '15 3']\n",
      "777 ['서울특별시', '강남구', '수서동', nan, '735', '지상주차장', '북주차장(우측)']\n",
      "778 ['서울특별시', '강남구', '일원동', nan, '4 49', '주차장', '입구', '오른쪽']\n",
      "786 ['부산광역시', '기장군', '장안읍', '명례리', '835', '휴게소와', 'LPG충전소', '사이']\n",
      "788 ['대구광역시', '동구', '신천3동', nan, '146 15']\n",
      "790 ['대구광역시', '서구', '평리3동', nan, '729 2']\n",
      "794 ['전라남도', '여수시', '소호동', nan, '505 2', '입구', '우측']\n",
      "797 ['경상남도', '양산시', '남부동', nan, '876 1', '양산문화회관', '건너편', '주차장']\n",
      "798 ['경상남도', '양산시', '상북면', '석계리', '272 20']\n",
      "799 ['울산광역시', '울주군', '언양읍', '남부리', '73', '입구', '우측']\n",
      "801 ['울산광역시', '남구', '매암동', nan, '243']\n",
      "802 ['울산광역시', '북구', '창평동', nan, '1052 1']\n",
      "803 ['울산광역시', '북구', '매곡동', nan, '349 3']\n",
      "804 ['울산광역시', '북구', '매곡동', nan, '884 5']\n",
      "806 ['경상북도', '경주시', '건천읍', '천포리', '1122']\n",
      "812 ['대전광역시', '유성구', '장대동', nan, '263 2']\n",
      "813 ['세종특별자치시', nan, '연기면', '세종리', '659 30']\n",
      "814 ['세종특별자치시', nan, '반곡동', nan, '234 10']\n",
      "817 ['전라남도', '광양시', '중동', nan, '1358 1']\n",
      "818 ['전라남도', '나주시', '빛가람동', nan, '346 1']\n",
      "826 ['전라남도', '해남군', '해남읍', '수성리', '183 5']\n",
      "829 ['부산광역시', '북구', '덕천동', nan, '457 1']\n",
      "831 ['울산광역시', '남구', '옥동', nan, '97 3']\n",
      "832 ['경상북도', '문경시', '모전동', nan, '30 2']\n",
      "833 ['충청북도', '청주시 서원구', '성화동', nan, '936']\n",
      "836 ['경상남도', '남해군', '상주면', '상주리', '1227']\n",
      "837 ['경상남도', '밀양시', '교동', nan, '556번지']\n",
      "842 ['경상북도', '구미시', '송정동', nan, '505']\n",
      "846 ['경상북도', '영덕군', '남정면', '장사리', '74 1']\n",
      "857 ['경상남도', '김해시', '진영읍', '우동리', '289 1', '주차장']\n",
      "864 ['인천광역시', '옹진군', '영흥면', '내리', '8 165', '공중화장실', '옆']\n",
      "865 ['인천광역시', '중구', '도원동', nan, '5 7', '주차장', '입구']\n",
      "866 ['경기도', '고양시 덕양구', '화정동', nan, '982', '2층주차장', '입구', '정면']\n",
      "868 ['경기도', '과천시', '갈현동', nan, '679', '주민센터', '입구앞']\n",
      "870 ['경기도', '구리시', '교문동', nan, '390 1', '구청', '본관', '흡연실', '옆']\n",
      "872 ['경기도', '부천시', '오정동', nan, '129', '지상주차장', '입구', '왼쪽']\n",
      "873 ['경기도', '부천시', '춘의동', nan, '8', '24', '필지', '주차장', '입구', '오른쪽']\n",
      "874 ['경기도', '성남시 분당구', '삼평동', nan, '741', '지하', '2층', 'E01번']\n",
      "876 ['경기도', '시흥시', '장곡동', nan, '724 32', '오른쪽', '주차장', '입구', '끝부지']\n",
      "877 ['경기도', '안산시 단원구', '대부북동', nan, '1849 30', '주차장', '맨끝쪽']\n",
      "878 ['경기도', '안산시 상록구', '성도동', nan, '590', '지상2층', '287기둥옆']\n",
      "879 ['경기도', '안양시 만안구', '석수1동', nan, '110 26', '입구', '맨끝', '왼쪽']\n",
      "880 ['경기도', '안양시 만안구', '안양동', nan, '530', '구청', '건물입구', '앞']\n",
      "881 ['경기도', '오산시', '수청동', nan, '610', '옥상주차장', '4층매장입구옆']\n",
      "882 ['경기도', '용인시 처인구', '삼가동', nan, '556', '지하1층', '가03', '기둥옆']\n",
      "890 ['경기도', '김포시', '양촌읍', '누산리', '295 7']\n",
      "891 ['경기도', '용인시 처인구', '삼가동', nan, '28 6']\n",
      "913 ['전라남도', '담양군', '수북면', '수북리', '600', '사랑방', '주차장']\n",
      "917 ['전라남도', '순천시', '장천동', nan, '62 1', '순천시청', '주차장']\n",
      "918 ['전라남도', '순천시', '왕지동', nan, '853 2', '왕지', '제2공영주차장']\n",
      "919 ['전라남도', '영광군', '대마면', '송죽리', '1042 1', '대마전기차', '산업단지', '내']\n",
      "921 ['강원도', '춘천시', '동내면', '거두리', '1156']\n",
      "922 ['강원도', '춘천시', '석사동', nan, '805']\n",
      "923 ['강원도', '춘천시', '소양로1가', nan, '47 7']\n",
      "924 ['강원도', '춘천시', '신북읍', '율문리', '935 173']\n",
      "925 ['강원도', '춘천시', '북산면', '청평리', '산', '182 131']\n",
      "926 ['강원도', '춘천시', '사농동', nan, '277 3']\n",
      "927 ['강원도', '홍천군', '홍천읍', '연봉리', '404 65']\n",
      "931 ['경기도', '광주시', '장지동', nan, '92 5']\n",
      "937 ['경기도', '수원시 영통구', '하동', nan, '864 10']\n",
      "938 ['경기도', '안산시 단원구', '원곡동', nan, '381 2']\n",
      "939 ['경기도', '안산시 상록구', '사동', nan, '1513']\n",
      "940 ['서울특별시', '관악구', '신림동', nan, '571 6']\n",
      "946 ['제주특별자치도', '서귀포시', '서귀동', nan, '291 2', '북쪽', '입구']\n",
      "947 ['제주특별자치도', '서귀포시', '서귀동', nan, '312 6', '312 19']\n",
      "948 ['제주특별자치도', '서귀포시', '서귀동', nan, '600 3']\n",
      "949 ['제주특별자치도', '서귀포시', '서호동', nan, '1603', '주차장', '안쪽']\n",
      "950 ['제주특별자치도', '서귀포시', '서홍동', nan, '666 1']\n",
      "951 ['제주특별자치도', '서귀포시', '성산읍', '고성리', '327 1']\n",
      "956 ['경기도', '안성시', '서운면', '신능리', '51 11']\n",
      "957 ['경기도', '안성시', '서운면', '신능리', '51 16']\n",
      "984 ['충청남도', '서천군', '판교면', '현암리', '183 1', '입구', '좌측']\n",
      "987 ['전라북도', '순창군', '순창읍', '백산리', '265 85']\n",
      "988 ['전라북도', '순창군', '순창읍', '순화리', '388']\n",
      "991 ['전라북도', '정읍시', '상동', nan, '258 4']\n",
      "992 ['전라북도', '정읍시', '상평동', nan, '62 3', '？']\n",
      "994 ['제주특별자치도', '서귀포시', '안덕면', '광평리', '211']\n",
      "999 ['제주특별자치도', '서귀포시', '서귀동', nan, '291 63(3)']\n",
      "1007 ['경상북도', '청송군', '청송읍', '부곡리', '271']\n",
      "1008 ['경상북도', '포항시 남구', '오천읍', '용덕리', '2 15']\n",
      "1009 ['경상북도', '포항시 남구', '지곡동', nan, '166 29']\n",
      "1011 ['경상북도', '포항시 북구', '용흥동', nan, '4 9']\n",
      "1015 ['경상북도', '포항시 북구', '환호동', nan, '365']\n",
      "1017 ['대구광역시', '달서구', '송현동', nan, '산56번지']\n",
      "1018 ['대구광역시', '달성군', '논공읍', '삼리리', '471 14']\n",
      "1019 ['대구광역시', '달성군', '논공읍', '삼리리', '543']\n",
      "1033 ['경기도', '평택시', '장당동', nan, '390 1', '주차장옥상', '마트입구', '옆']\n",
      "1038 ['대전광역시', '유성구', '관평동', nan, '887', '옥외주차장', '검품장', '근처']\n",
      "1039 ['대전광역시', '유성구', '반석동', nan, '665 2', '전시장', '뒤편', '사무실', '입구', '주차장']\n",
      "1040 ['대전광역시', '유성구', '하기동', nan, '519', '지상4층', '주차장', '430기둥', '옆']\n",
      "1042 ['대전광역시', '중구', '사정동', nan, '142', '플라워랜드', '주차장']\n",
      "1056 ['경상남도', '창원시', '장군동4가', nan, '3 6']\n",
      "1086 ['경기도', '하남시', '학암동', nan, '90 33']\n",
      "1090 ['경기도', '안산시 상록구', '사동', nan, '1271 11']\n",
      "1101 ['경기도', '성남시 중원구', '중앙동', nan, '1175']\n",
      "1104 ['제주특별자치도', '서귀포시', '안덕면', '화순리', '1072']\n",
      "1107 ['제주특별자치도', '서귀포시', '회수동', nan, '788 2']\n",
      "1108 ['제주특별자치도', '제주시', '구좌읍', '세화리', '1500 41']\n",
      "1110 ['제주특별자치도', '제주시', '도남동', nan, '574 3']\n",
      "1119 ['경기도', '안양시 동안구', '관앙동', nan, '1590']\n",
      "1120 ['경기도', '평택시', '비전동', nan, '629 1', '주차장', '안쪽', '끝']\n",
      "1137 ['전라북도', '완주군', '고산면', '읍내리', '919', '입구', '좌측']\n",
      "1142 ['충청남도', '아산시', '용화동', nan, '1143']\n",
      "1148 ['제주특별자치도', '서귀포시', '동홍동', nan, '1480 6']\n",
      "1150 ['제주특별자치도', '제주시', '봉개동', nan, '2750 2']\n",
      "1161 ['울산광역시', '중구', '성안동', nan, '244']\n",
      "1162 ['울산광역시', '중구', '성남동', nan, '190 200']\n",
      "1164 ['충청북도', '단양군', '영춘면', '하리', '145']\n",
      "1166 ['충청북도', '영동군', '심천면', '고당리', '526 2']\n",
      "1169 ['충청북도', '청주시 청원구', '오창읍', '양청리', '753']\n",
      "1190 ['대구광역시', '달서구', '대곡동', nan, '1035']\n",
      "1191 ['경상북도', '영덕군', '병곡면', '병곡리', '360번지']\n",
      "1194 ['경상북도', '영천시', '금호읍', '덕성리', '44 1']\n",
      "1195 ['경상북도', '영천시', '금호읍', nan, '교대리74']\n",
      "1196 ['경상북도', '청송군', '부동면', '상의리', '299']\n",
      "1202 ['강원도', '속초시', '노학동', nan, '298 2']\n",
      "1203 ['강원도', '원주시', '반곡동', nan, '2049 4']\n",
      "1204 ['강원도', '원주시', '소초면', '학곡리', '890']\n",
      "1206 ['대전광역시', '동구', '용운동', nan, '423 22']\n",
      "1207 ['충청남도', '서천군', '장항읍', '송림리', '755 12']\n",
      "1208 ['충청남도', '태안군', '원북면', '방갈리', '515 79']\n",
      "1209 ['충청북도', '청주시 흥덕구', '휴암동', nan, '338']\n",
      "1210 ['충청북도', '청주시 서원구', '분평동', nan, '1252']\n",
      "1226 ['충청북도', '음성군', '감곡면', '오궁리', '533 32', '정면', '우측', '주차장']\n",
      "1233 ['경상북도', '경주시', '내남면', '이조리', '156 3']\n",
      "1235 ['서울특별시', '성동구', '용답동', nan, '4 1']\n",
      "1236 ['인천광역시', '계양구', '서운동', nan, '207']\n",
      "1237 ['인천광역시', '부평구', '십정동', nan, '109 2']\n",
      "1239 ['인천광역시', '서구', '경서동', nan, '638 5']\n",
      "1240 ['인천광역시', '서구', '연희동', nan, '산150 5']\n",
      "1243 ['인천광역시', '남동구', '수산동', nan, '394 54']\n",
      "1244 ['인천광역시', '남동구', '논현동', nan, '754 4']\n",
      "1261 ['전라북도', '군산시', '오식도동', nan, '1010']\n",
      "1271 ['전라북도', '완주군', '운주면', '산북리', '610 15']\n",
      "1274 ['충청남도', '공주시', '봉황동', nan, '304 6']\n",
      "1277 ['세종특별자치시', nan, '보람동', nan, '624 1']\n",
      "1278 ['제주특별자치도', '서귀포시', '안덕면', '서광리', '1279']\n",
      "1279 ['충청남도', '천안시 동남구', '목천읍', '남화리', '230 1']\n",
      "1281 ['충청남도', '예산군', '덕산면', '신평리', '362 8']\n",
      "1285 ['충청남도', '아산시', '모종동', nan, '562 4']\n",
      "1288 ['충청북도', '충주시', '봉방동', nan, '170 5']\n",
      "1294 ['부산광역시', '기장군', '일광면', '동백리', '409']\n",
      "1295 ['울산광역시', '울주군', '상북면', '양등리', '210']\n",
      "1297 ['경상북도', '문경시', '문경읍', '상초리', '517 2']\n",
      "1301 ['대구광역시', '달서구', '진천동', nan, '493 7']\n",
      "1303 ['충청북도', '보은군', '보은읍', '성주리', '288 6']\n",
      "1317 ['충청북도', '음성군', '삼성면', '용성리', '산', '44']\n",
      "1320 ['강원도', '인제군', '상남면', '하남리', '339(서울방향)']\n",
      "1321 ['강원도', '홍천군', '화촌면', '군업리', '537(양양방향)']\n",
      "1322 ['강원도', '홍천군', '화촌면', '군업리', '220 10(서울방향)']\n",
      "1323 ['전라남도', '순천시', '해룡면', '성산리', '180 1']\n",
      "1326 ['전라남도', '장성군', '북하면', '약수리', '244 4']\n",
      "1327 ['경상북도', '경주시', '감포읍', '감포리', '62 2']\n",
      "1328 ['경상북도', '경주시', '안강읍', '안강리', '350 24']\n",
      "1329 ['충청북도', '충주시', '안림동', nan, '1073']\n",
      "1330 ['충청북도', '충주시', '중앙탑면', '탑평리', '53 1']\n",
      "1331 ['충청북도', '충주시', '대소원면', '본리', '636']\n",
      "1343 ['광주광역시', '광산구', '운남동', nan, '524 3']\n",
      "1344 ['광주광역시', '남구', '서동', nan, '147 22']\n",
      "1350 ['경상북도', '경주시', '현곡면', '금장리', '582 4']\n",
      "1351 ['경상북도', '경주시', '사정동', nan, '172 1']\n",
      "1352 ['충청북도', '충주시', '용탄동', nan, '1137']\n",
      "1355 ['제주특별자치도', '서귀포시', '표선면', '표선리', '2103']\n",
      "1358 ['경기도', '화성시', '봉담읍', '내리', '13 5', '인근']\n",
      "1359 ['충청남도', '아산시', '인주면', '걸매리', '1049']\n",
      "1364 ['세종특별자치시', nan, '새롬동', nan, '341 72']\n",
      "1366 ['충청남도', '태안군', '태안읍', '동문리', '9 7']\n",
      "1377 ['대전광역시', '동구', '홍도동', nan, '92 3']\n",
      "1378 ['대전광역시', '서구', '월평동', nan, '1184']\n",
      "1390 ['전라북도', '무주군', '설천면', '삼공리', '456 1번지']\n",
      "1391 ['서울특별시', '도봉구', '쌍문3동', nan, '315 62', '지하', '1층', '안쪽']\n",
      "1394 ['대전광역시', '서구', '갈마동', nan, '427 20']\n",
      "1395 ['대전광역시', '서구', '도마동', nan, '155 16']\n",
      "1397 ['전라남도', '순천시', '승주읍', '죽학리', '767 1']\n",
      "1402 ['충청북도', '제천시', '청풍면', '교리', '산', '26']\n",
      "1404 ['충청남도', '공주시', '탄천면', '장선리', '151 6']\n",
      "1405 ['충청남도', '아산시', '둔포면', '둔포리', '461 11']\n",
      "1406 ['전라남도', '장성군', '장성읍', '영천리', '1486 22']\n",
      "1407 ['경상북도', '울진군', '울진읍', '연지리', '820 62']\n",
      "1409 ['부산광역시', '수영구', '망미동', nan, '979 73']\n",
      "1413 ['전라남도', '영광군', '영광읍', '도동리', '365']\n",
      "1414 ['전라남도', '해남군', '삼산면', '구림리', '146 14']\n",
      "1415 ['전라남도', '여수시', '중앙동', nan, '505']\n",
      "1416 ['충청남도', '공주시', '웅진동', nan, '354 6']\n",
      "1425 ['강원도', '영월군', '영월읍', '덕포리', '574 68']\n",
      "1432 ['전라남도', '영암군', '삼호읍', '용앙리', '324 5']\n",
      "1442 ['경상남도', '양산시', '평산동', nan, '283', '축구장', '옆']\n",
      "1448 ['경상북도', '경주시', '천북면', '동산리', '506 1']\n",
      "1454 ['충청남도', '서산시', '지곡면', '화천리', '1301 17']\n",
      "1457 ['충청남도', '예산군', '예산읍', '석양리', '213 2']\n",
      "1462 ['충청남도', '서천군', '마서면', '송내리', '758', '정문', '관리사무소', '옆', '주차장']\n",
      "1463 ['인천광역시', '서구', '경서동', nan, '산', '257 4', '지상', '버스주차장', '옆']\n",
      "1465 ['경기도', '의정부시', '호원동', nan, '229 160']\n",
      "1468 ['충청남도', '서산시', '부석면', '취평리', '364 2']\n",
      "1475 ['경상북도', '영양군', '영양읍', '서부리', '336', '번지']\n",
      "1478 ['경기도', '수원시 권선구', '곡반정동', nan, '553']\n",
      "1481 ['경상남도', '창원시 진해구', '풍호동', nan, '27 3']\n",
      "1486 ['울산광역시', '북구', '화봉동', nan, '1469 1']\n",
      "1489 ['충청남도', '공주시', '사곡면', '호계리', '309']\n",
      "1493 ['울산광역시', '남구', '삼산동', nan, '1554 1']\n",
      "1497 ['경기도', '남양주시', '금곡동', nan, '185 10', '옥외', '주차장']\n",
      "1498 ['경기도', '양주시', '장흥면', '울대리', '527', '주차장', '입구', '근처']\n",
      "1504 ['부산광역시', '연제구', '거제동', nan, '1312']\n",
      "1512 ['부산광역시', '금정구', '장전1동', nan, '242']\n",
      "1515 ['경기도', '포천시', '영북면', '산정리', '451 3']\n",
      "1517 ['서울특별시', '강남구', '개포동', nan, '13 2']\n",
      "1521 ['서울특별시', '서초구', '양재동', nan, '237']\n",
      "1530 ['전라남도', '화순군', '도곡면', '천암리', '792']\n",
      "1533 ['경상남도', '양산시', '하북면', '순지리', '756 93']\n",
      "1534 ['경상북도', '고령군', '대가야읍', '지산리', '465 18']\n",
      "1535 ['충청남도', '서산시', '잠홍동', nan, '344']\n",
      "1536 ['충청북도', '보은군', '수한면', '후평리', '238']\n",
      "1537 ['충청남도', '보령시', '명천동', nan, '269 4']\n",
      "1538 ['부산광역시', '강서구', '대저2동', nan, '2764']\n",
      "1541 ['울산광역시', '남구', '달동', nan, '1345 6', '입구', '우측']\n",
      "1543 ['전라남도', '고흥군', '고흥읍', '호형리', '660 7', '입구', '주차장']\n",
      "1544 ['광주광역시', '북구', '충효동', nan, '805번지']\n",
      "1545 ['대전광역시', '중구', '대사동', nan, '145 2']\n",
      "1546 ['전라남도', '곡성군', '곡성읍', '읍내리', '714 3']\n",
      "1547 ['전라남도', '광양시', '광양읍', '칠성리', '948 1']\n",
      "1548 ['전라남도', '광양시', '중동', nan, '1732 3']\n",
      "1550 ['울산광역시', '동구', '동부동', nan, '425 1']\n",
      "1551 ['울산광역시', '울주군', '온산읍', '덕신리', '430']\n",
      "1553 ['경상남도', '고성군', '고성읍', '동외리', '595']\n",
      "1554 ['경상남도', '남해군', '삼동면', '지족리', '291 11']\n",
      "1560 ['경상북도', '고령군', '대가야읍', '고아리', '517 12']\n",
      "1567 ['경상북도', '안동시', '상아동', nan, '266 2']\n",
      "1568 ['경상북도', '구미시', '오태동', nan, '659 13']\n",
      "1574 ['경상남도', '창원시 의창구', '북면', '신촌리', '407 1', '마금산온천', '제2공구', '공영주차장']\n",
      "1577 ['경상남도', '통영시', '광도면', '죽림리', '292 33']\n",
      "1580 ['인천광역시', '계양구', '계산동', nan, '1060', '구두수선방', '옆']\n",
      "1583 ['인천광역시', '강화군', '길상면', '온수리', '546 34']\n",
      "1584 ['인천광역시', '미추홀구', '주안동', nan, '1311 17']\n",
      "1587 ['강원도', '양구군', '해안면', '후리', '622']\n",
      "1589 ['강원도', '춘천시', '퇴계동', nan, '864']\n",
      "1591 ['경상남도', '창원시 의창구', nan, '월계리', '162 4', '골프장', '밑', '주차장']\n",
      "1592 ['경상남도', '양산시', '동면', '여락리', '301 1']\n",
      "1594 ['전라남도', '영암군', '영암읍', '회문리', '417 2']\n",
      "1595 ['전라북도', '고창군', '아산면', '삼인리', '126번지']\n",
      "1596 ['전라북도', '김제시', '검산동', nan, '433 21']\n",
      "1599 ['전라북도', '부안군', '진서면', '곰소리', '964']\n",
      "1604 ['경상남도', '창원시 진해구', '제황산동', nan, '24 55', '주차장']\n",
      "1609 ['경상북도', '영주시', '단산면', '옥대리', '산', '16 1']\n",
      "1610 ['강원도', '태백시', '혈동', nan, '260 68']\n",
      "1612 ['경상남도', '거창군', '가조면', '도리', '산189 1']\n",
      "1615 ['제주특별자치도', '제주시', '조천읍', '선흘리', '산12', '주차장', '입구', '좌측']\n",
      "1617 ['제주특별자치도', '제주시', '한경면', '저지리', '2114 82', '제주현대미술관', '입구', '주차장', 'D구역']\n",
      "1625 ['강원도', '홍천군', '홍천읍', '희망리', '67 4']\n",
      "1628 ['경기도', '안산시 상록구', '본오동', nan, '876 8']\n",
      "1634 ['충청남도', '부여군', '부여읍', '동남리', '732 1']\n",
      "1635 ['충청남도', '아산시', '배미동', nan, '3 6']\n",
      "1637 ['대구광역시', '동구', '율암동', nan, '524 416', '번지']\n",
      "1638 ['대구광역시', '북구', '산격동', nan, '산79 13']\n",
      "1641 ['울산광역시', '북구', '화봉동', nan, '365']\n",
      "1644 ['경상북도', '포항시 남구', '동해면', '도구리', '403 3']\n",
      "1645 ['강원도', '평창군', '진부면', '간평리', '75 6']\n",
      "1646 ['강원도', '원주시', '판부면', '금대리', '1343？']\n",
      "1647 ['강원도', '태백시', '소도동', nan, '326']\n",
      "1649 ['충청남도', '태안군', '안면읍', '창기리', '1304 6']\n",
      "1653 ['경기도', '양평군', '용문면', '마룡리', '269 2']\n",
      "1661 ['전라북도', '전주시 완산구', '대성동', nan, '343 1']\n",
      "1664 ['충청북도', '청주시 흥덕구', '원평동', nan, '590 14']\n",
      "1669 ['전라남도', '순천시', '연향동', nan, '771']\n",
      "1670 ['전라남도', '영광군', '염산면', nan, '두우리963번지']\n",
      "1671 ['전라북도', '부안군', '진서면', '석포리', '240']\n",
      "1672 ['전라남도', '영암군', '삼호읍', '삼포리', '1904', '영암국제카트장', '매표소앞']\n",
      "1673 ['전라북도', '남원시', '금동', nan, '437 6']\n",
      "1677 ['광주광역시', '동구', '계림동', nan, '280']\n",
      "1681 ['경상북도', '경주시', '충효동', nan, '540 1']\n",
      "1682 ['서울특별시', '은평구', '진관동', nan, '66 30', '지상', '3층']\n",
      "1685 ['경기도', '양주시', '옥정동', nan, '580']\n",
      "1690 ['충청남도', '태안군', '남면', '신장리', '360']\n",
      "1693 ['경상북도', '포항시 북구', '용흥동', nan, '산', '24 3']\n",
      "1695 ['서울특별시', '도봉구', '창3동', nan, '504 21', '좌측', '안쪽']\n",
      "1696 ['광주광역시', '남구', '진월동', nan, '314 1']\n",
      "1697 ['경상남도', '의령군', '정곡면', '중교리', '487']\n",
      "1698 ['경상남도', '양산시', '동면', '법기리', '523 3']\n",
      "1699 ['충청남도', '서천군', '한산면', '지현리', '8', '건물', '우측']\n",
      "1702 ['경상북도', '봉화군', '춘양면', '서벽리', '485']\n",
      "1709 ['경상남도', '거제시', '일운면', '와현리', '431 2']\n",
      "1721 ['대전광역시', '중구', '안영동', nan, '71 2']\n",
      "1726 ['전라남도', '곡성군', '곡성읍', '읍내리', '256']\n",
      "1729 ['경상북도', '경주시', '황성동', nan, '435 4']\n",
      "1730 ['경상북도', '경주시', '천북면', '신당리', '150 1번지', '일원']\n",
      "1731 ['경상북도', '김천시', '대항면', '향천리', '356 5']\n",
      "1732 ['경기도', '남양주시', '별내면', '청학리', '537']\n",
      "1735 ['인천광역시', '미추홀구', '관교동', nan, '12']\n",
      "1738 ['전라북도', '순창군', '쌍치면', '쌍계리', '454 10']\n",
      "1742 ['충청남도', '예산군', '덕산면', '사동리', '286']\n",
      "1744 ['충청남도', '공주시', '금학동', nan, '106']\n",
      "1748 ['인천광역시', '중구', '북성동1가', nan, '97 32']\n",
      "1749 ['서울특별시', '마포구', '상암동', nan, '482 116', '주차장', '입구', '정면']\n",
      "1756 ['경상북도', '예천군', '보문면', '오암리', '584 1']\n",
      "1759 ['강원도', '양양군', '현북면', '하광정리', '80 2']\n",
      "1764 ['충청북도', '진천군', '덕산면', '두촌리', '2853']\n",
      "1767 ['강원도', '원주시', '소초면', '학곡리', '867']\n",
      "1772 ['경기도', '파주시', '문산읍', '마정리', '1335']\n",
      "1773 ['경기도', '이천시', '신둔면', '고척리', '589 4']\n",
      "1775 ['대전광역시', '동구', '가양동', nan, '709']\n",
      "1778 ['충청북도', '청주시 흥덕구', '오송읍', '봉산리', '370 1', 'KTX', '오송역', '공영주차장', 'A출구', '바로', '옆(지상)']\n",
      "1784 ['전라남도', '화순군', '북면', '옥리', '600 1']\n",
      "1785 ['광주광역시', '광산구', '비아동', nan, '66 6']\n",
      "1787 ['경기도', '포천시', '영북면', '대회산리', '451']\n",
      "1791 ['전라남도', '영광군', '염산면', '옥실리', '1106 34']\n",
      "1792 ['전라남도', '나주시', '남평읍', '동사리', '351 5']\n",
      "1793 ['충청남도', '아산시', '둔포면', '석곡리', '1480']\n",
      "1794 ['충청남도', '예산군', '예산읍', '향천리', '253 7']\n",
      "1795 ['경상북도', '칠곡군', '왜관읍', '석전리', '254']\n",
      "1796 ['대구광역시', '수성구', '지산동', nan, '880 2']\n",
      "1798 ['전라남도', '여수시', '돌산읍', '군내리', '353 1']\n",
      "1799 ['경상남도', '함안군', '산인면', '입곡리', '1180 1']\n",
      "1803 ['대구광역시', '북구', '서변동', nan, '1290 4', '입구', '좌측', '주차구역']\n",
      "1808 ['강원도', '양양군', '양양읍', '성내리', '118 1']\n",
      "1809 ['경상북도', '구미시', '고아읍', '관심리', '621 1']\n",
      "1810 ['대구광역시', '북구', '침산동', nan, '1192 1']\n",
      "1811 ['경상남도', '창원시 진해구', '명동', nan, '580', '좌측', '주차장']\n",
      "1816 ['전라남도', '함평군', '함평읍', '내교리', '828 56']\n",
      "1818 ['울산광역시', '남구', '신정동', nan, '34 80']\n",
      "1820 ['경상남도', '사천시', '향촌동', nan, '631 6']\n",
      "1823 ['경기도', '하남시', '신장동', nan, '281']\n",
      "1825 ['경기도', '부천시', nan, nan, '원미구', '석천로', '188', '지상주차장', '2층', 'D구역', '창고', '오른쪽']\n",
      "1829 ['전라남도', '구례군', '구례읍', '봉북리', '1423 1']\n",
      "1833 ['경상남도', '함양군', '안의면', '하원리', '1201 3']\n",
      "1845 ['전라남도', '무안군', '해제면', '유월리', '16 78']\n",
      "1847 ['강원도', '인제군', '북면', '한계리', '산1 59']\n",
      "1855 ['충청남도', '태안군', '근흥면', '신진도리', '528']\n",
      "1856 ['충청남도', '홍성군', '금마면', '가산리', '488']\n",
      "1857 ['충청남도', '홍성군', '서부면', '남당리', '859 2']\n",
      "1859 ['인천광역시', '강화군', '교동면', '대룡리', '466 19']\n",
      "1860 ['경기도', '하남시', '신장동', nan, '27']\n",
      "1863 ['충청북도', '옥천군', '옥천읍', '매화리', '236 5']\n",
      "1864 ['경상남도', '진주시', '문산읍', '삼곡리', '1265 1']\n",
      "1865 ['서울특별시', '용산구', '한남동', nan, '산10 84', '지상실외주차장']\n",
      "1867 ['전라남도', '신안군', '압해읍', '학교리', '585']\n",
      "1870 ['충청남도', '보령시', '신흑동', nan, '2279', '입구', '우측', '안쪽']\n",
      "1876 ['경상남도', '하동군', '화개면', '용강리', '400 5']\n",
      "1877 ['경기도', '파주시', '광탄면', '기산리', '459 7']\n",
      "1879 ['전라남도', '구례군', '마산면', '황전리', '41']\n",
      "1881 ['전라남도', '곡성군', '석곡면', '유정리', '381 5']\n",
      "1882 ['경상북도', '군위군', '의흥면', '이지리', '882']\n",
      "1883 ['충청북도', '옥천군', '옥천읍', '삼양리', '125']\n",
      "1885 ['인천광역시', '동구', '송림동', nan, '49 172']\n",
      "1887 ['울산광역시', '동구', '화정동', nan, '198']\n",
      "1889 ['경상남도', '하동군', '진교면', '진교리', '426 41']\n",
      "1892 ['전라남도', '여수시', '오림동', nan, '104']\n",
      "1895 ['경상북도', '성주군', '성주읍', '예산리', '612']\n",
      "1896 ['충청북도', '단양군', '단양읍', '별곡리', '53']\n",
      "1897 ['충청북도', '진천군', '광혜원면', '광혜원리', '542 15']\n",
      "1898 ['강원도', '춘천시', '서면', '덕두원리', '115 1']\n",
      "1903 ['경상남도', '밀양시', '단장면', '구천리', '2052번지']\n",
      "1904 ['경상남도', '밀양시', '산내면', '삼양리', '190 1번지']\n",
      "1905 ['울산광역시', '울주군', '범서읍', '구영리', '216 3']\n",
      "1908 ['경상북도', '김천시', '구성면', '하강리', '20']\n",
      "1909 ['충청북도', '음성군', '금왕읍', '무극리', '507 7']\n",
      "1910 ['경상북도', '구미시', '봉곡동', nan, '419']\n",
      "1912 ['경상북도', '안동시', '풍산읍', '안교리', '122 4']\n",
      "1920 ['경기도', '안산시 단원구', '원시동', nan, '772 6']\n",
      "1928 ['충청남도', '홍성군', '홍성읍', '소향리', '397 118']\n",
      "1929 ['전라북도', '군산시', '지곡동', nan, '286 8']\n",
      "1930 ['경상남도', '김해시', '대청동', nan, '산112 130']\n",
      "1931 ['경상남도', '남해군', '미조면', '미조리', '107 6']\n",
      "1932 ['전라남도', '순천시', '덕암동', nan, '220']\n",
      "1939 ['부산광역시', '부산진구', '부전1동', nan, '46']\n",
      "1940 ['경상북도', '포항시 남구', '청림동', nan, '517 1']\n",
      "1941 ['경상북도', '군위군', '군위읍', '내량리', '10']\n",
      "1949 ['대구광역시', '달성군', '유가읍', '용리', '15 1*']\n",
      "1950 ['충청북도', '제천시', '한수면', '송계리', '70 2번지？']\n",
      "1957 ['경상북도', '영주시', '순흥면', '배점리', '501 1']\n",
      "1958 ['서울특별시', '도봉구', '도봉동', nan, '341 1']\n",
      "1961 ['전라남도', '무안군', '일로읍', '복룡리', '128 1']\n",
      "1962 ['전라남도', '순천시', '송광면', '신평리', '134 2']\n",
      "1963 ['경상북도', '상주시', '계산동', nan, '189 6']\n",
      "1964 ['경기도', '구리시', '토평동', nan, '810']\n",
      "1973 ['경상북도', '안동시', '남후면', '무릉리', '363 1']\n",
      "1975 ['대구광역시', '동구', '방촌동', nan, '126 2번지']\n",
      "1976 ['전라북도', '김제시', '금산면', '금산리', '203 2', '대형', '주차장']\n",
      "1977 ['전라북도', '남원시', '산내면', '부운리', '216 10']\n",
      "1978 ['경기도', '파주시', '적성면', '설마리', '48 3']\n",
      "1979 ['울산광역시', '울주군', '상북면', '이천리', '120 19']\n",
      "1980 ['경상남도', '의령군', '부림면', '감암리', '1254']\n",
      "1982 ['충청남도', '보령시', '청라면', '장현리', '760 9']\n",
      "1984 ['전라남도', '순천시', '교량동', nan, '624 1']\n",
      "1986 ['경상남도', '김해시', '부원동', nan, '625 1']\n",
      "1988 ['충청북도', '충주시', '금릉동', nan, '699']\n",
      "1989 ['충청북도', '충주시', '동량면', '조동리', '1370 4']\n",
      "1990 ['경상북도', '안동시', '임동면', '중평리', '840']\n",
      "1991 ['충청남도', '예산군', '예산읍', '예산리', '60 5']\n",
      "1994 ['경상남도', '산청군', '시천면', '중산리', '619 12']\n",
      "1995 ['경상남도', '남해군', '설천면', '노량리', '410 36']\n",
      "1998 ['전라남도', '나주시', '왕곡면', '덕산리', '594 2']\n",
      "1999 ['전라남도', '완도군', '고금면', '덕암리', '586']\n",
      "2002 ['충청북도', '진천군', '덕산읍', '두촌리', '3015']\n",
      "2003 ['경상북도', '안동시', '풍천면', '갈전리', '555']\n",
      "2006 ['전라북도', '정읍시', '내장동', nan, '673 1']\n",
      "2007 ['전라북도', '고창군', '고창읍', '석정리', '792 5']\n",
      "2009 ['대전광역시', '대덕구', '목상동', nan, '산6 2']\n",
      "2015 ['경상남도', '거창군', '웅양면', '노현리', '217 1']\n",
      "2016 ['충청북도', '옥천군', '옥천읍', '문정리', '439']\n",
      "2017 ['충청북도', '옥천군', '옥천읍', '문정리', '390']\n",
      "2018 ['경상북도', '영주시', '가흥동', nan, '3 19']\n",
      "2020 ['제주특별자치도', '제주시', '삼양1동', nan, '1637 1']\n",
      "2021 ['충청남도', '보령시', '청소면', '장곡리', '1175']\n",
      "2022 ['전라남도', '장흥군', '관산읍', nan, '천관산']\n",
      "2024 ['서울특별시', '구로구', '오류동', nan, '174 10', '천왕역', '환승주차장', '1층']\n",
      "2026 ['강원도', '인제군', '인제읍', '귀둔리', '산242 18']\n",
      "2031 ['서울특별시', '은평구', '진관동', nan, '278']\n",
      "2035 ['경상북도', '칠곡군', '석적읍', '중지리', '342 3']\n",
      "2036 ['충청북도', '청주시 청원구', '오창읍', '주성리', '312']\n",
      "2037 ['충청북도', '음성군', '맹동면', '두성리', '1347']\n",
      "2045 ['전라남도', '강진군', '성전면', '월남리', '1171 5？']\n",
      "2052 ['전라북도', '남원시', '노암동', nan, '612 7']\n",
      "2053 ['충청남도', '아산시', '신창면', '행목리', '346 2']\n",
      "2054 ['울산광역시', '북구', '효문동', nan, '986']\n",
      "2060 ['경상북도', '예천군', '예천읍', '동본리', '434 1']\n",
      "2062 ['경기도', '남양주시', '진접읍', '금곡리', '1077']\n",
      "2066 ['충청남도', '서천군', '마서면', '송내리', '758']\n",
      "2070 ['충청북도', '영동군', '영동읍', '매천리', '322 19']\n",
      "2073 ['경상북도', '포항시 남구', '지곡동', nan, '964 12']\n",
      "2074 ['경상북도', '안동시', '일직면', '운산리', '97 4']\n",
      "2076 ['강원도', '동해시', '망상동', nan, '393 14']\n",
      "2078 ['경기도', '가평군', '상면', '행현리', '922']\n",
      "2080 ['경상북도', '경주시', '내남면', '용장리', '428 6']\n",
      "2081 ['경상북도', '영덕군', '영덕읍', '창포리', '산', '42']\n",
      "2082 ['전라북도', '남원시', '주생면', '제천리', '245']\n",
      "2084 ['강원도', '동해시', '묵호진동', nan, '13 64']\n",
      "2087 ['경상북도', '청송군', '현동면', '도평리', '793']\n",
      "2088 ['강원도', '춘천시', '남산면', '강촌리', '432 39']\n",
      "2090 ['충청남도', '당진시', '정미면', '천의리', '245', '4', '천의삼거리', '천의삼거리', '주차장', '내']\n",
      "2093 ['충청남도', '예산군', '오가면', '좌방리', '19 16']\n",
      "2097 ['충청남도', '아산시', '인주면', '걸매리', '1004']\n",
      "2098 ['충청북도', '진천군', '광혜원면', '광혜원리', '1081']\n",
      "2099 ['경상남도', '창원시 성산구', '중앙동', nan, '92']\n",
      "2100 ['충청남도', '보령시', '대천동', nan, '460 137']\n",
      "2104 ['경상남도', '산청군', '시천면', '중산리', '501 4']\n",
      "2107 ['전라남도', '해남군', '해남읍', '남외리', '113 1']\n",
      "2108 ['충청남도', '보령시', '주산면', '야룡리', '181 1']\n",
      "2113 ['울산광역시', '남구', '무거동', nan, '759']\n",
      "2114 ['충청남도', '공주시', '유구읍', '석남리', '388 2']\n",
      "2115 ['충청남도', '부여군', '임천면', '군사리', '306 1']\n",
      "2116 ['충청남도', '아산시', '도고면', '신언리', '64 3']\n",
      "2118 ['인천광역시', '중구', '을왕동', nan, '808 5']\n",
      "2120 ['울산광역시', '울주군', '서생면', '대송리', '산', '30 2']\n",
      "2121 ['대구광역시', '달성군', '구지면', '오설리', '756']\n",
      "2122 ['전라남도', '영암군', '삼호읍', '삼포리', '1893']\n",
      "2124 ['부산광역시', '기장군', '장안읍', '길천리', '300']\n",
      "2125 ['충청남도', '계룡시', '신도안면', '남선리', '1233']\n",
      "2129 ['경상북도', '봉화군', '명호면', '관창리', '1729']\n",
      "2130 ['전라남도', '담양군', '무정면', '봉안리', '609']\n",
      "2133 ['대전광역시', '서구', '복수동', nan, '690']\n",
      "2135 ['충청남도', '천안시 서북구', '성거읍', '저리', '57 26']\n",
      "2137 ['충청북도', '청주시 상당구', '가덕면', '한계리', '11']\n",
      "2141 ['전라남도', '해남군', '해남읍', '해리', '22 1']\n",
      "2142 ['경상북도', '봉화군', '봉화읍', '내성리', '396 20']\n",
      "2144 ['대구광역시', '달성군', '현풍읍', '원교리', '12 1']\n",
      "2145 ['경상북도', '칠곡군', '석적읍', '남율리', '895']\n",
      "2147 ['경상북도', '안동시', '성곡동', nan, '781']\n",
      "2148 ['경상북도', '안동시', '녹전면', '신평리', '716']\n",
      "2149 ['경상북도', '봉화군', '봉성면', '금봉리', '906']\n",
      "2151 ['경상북도', '고령군', '운수면', '봉평리', '601 1']\n",
      "2152 ['충청북도', '청주시 상당구', '북문로3가', nan, '97']\n",
      "2153 ['충청북도', '제천시', '동현동', nan, '321']\n",
      "2154 ['광주광역시', '남구', '주월동', nan, '974 145']\n",
      "2155 ['충청남도', '태안군', '태안읍', '송암리', '770 2']\n",
      "2156 ['충청북도', '제천시', '덕산면', '월악리', '123 1？']\n",
      "2157 ['경상북도', '포항시 남구', '대잠동', nan, '780 230']\n",
      "2158 ['울산광역시', '남구', '두왕동', nan, '761 12']\n",
      "2159 ['충청남도', '공주시', '의당면', '청룡리', '661 1']\n",
      "2160 ['경기도', '안산시 단원구', '와동', nan, '94']\n",
      "2166 ['충청북도', '영동군', '영동읍', '매천리', '33 1']\n",
      "2167 ['경상북도', '안동시', '남선면', '구미리', '126 1']\n",
      "2168 ['경상북도', '청송군', '현서면', '구산리', '45 3']\n",
      "2169 ['경상북도', '청송군', '부남면', '대전리', '638 2']\n",
      "2170 ['충청북도', '단양군', '단성면', nan, '가산리776']\n",
      "2171 ['울산광역시', '북구', '연암동', nan, '1372']\n",
      "2172 ['경기도', '안산시 상록구', '사동', nan, '1466 16']\n",
      "2173 ['경상북도', '문경시', '문경읍', '진안리', '350 5']\n",
      "2174 ['전라북도', '전주시 덕진구', '만성동', nan, '1165']\n",
      "2175 ['경상북도', '경주시', '양북면', '장항리', '1274']\n",
      "2179 ['경상남도', '창원시 진해구', '남문동', nan, '1190 1']\n",
      "2183 ['경기도', '안산시', '월피동', nan, '483 10']\n",
      "2188 ['대전광역시', '유성구', '교촌동', nan, '568 1']\n",
      "2191 ['광주광역시', '동구', '서석동', nan, '24 2']\n",
      "2192 ['대전광역시', '대덕구', '장동', nan, '210 14']\n",
      "2193 ['대전광역시', '서구', '용문동', nan, '263 9']\n",
      "2194 ['전라남도', '나주시', '송월동', nan, '1100']\n",
      "2196 ['전라북도', '군산시', '미장동', nan, '525']\n",
      "2199 ['전라남도', '고흥군', '고흥읍', '서문리', '154']\n",
      "2200 ['전라남도', '목포시', '용당동', nan, '993 2']\n",
      "2204 ['경상남도', '고성군', '하일면', '용태리', '188 1']\n",
      "2205 ['경상남도', '밀양시', '하남읍', '수산리', '469 13']\n",
      "2206 ['경상남도', '합천군', '봉산면', '김봉리', '344 11']\n",
      "2207 ['경상북도', '포항시 남구', '호미곶면', '대보리', '292 5']\n",
      "2208 ['부산광역시', '기장군', '기장읍', '석산리', '293']\n",
      "2209 ['전라남도', '영암군', '삼호읍', '삼포리', '1941']\n",
      "2210 ['충청남도', '논산시', '취암동', nan, '822']\n",
      "2211 ['충청남도', '천안시 동남구', '청수동', nan, '270']\n",
      "2212 ['경상북도', '구미시', '선기동', nan, '458 1']\n",
      "2217 ['대전광역시', '대덕구', '장동', nan, '326 17']\n",
      "2218 ['대전광역시', '서구', '탄방동', nan, '1379']\n",
      "2219 ['대전광역시', '서구', '복수동', nan, '781']\n",
      "2221 ['경상남도', '산청군', '차황면', '장위리', '18 3']\n",
      "2222 ['충청남도', '논산시', '연무읍', '죽평리', '331 41']\n",
      "2223 ['대전광역시', '서구', '흑석동', nan, '966']\n",
      "2224 ['대전광역시', '중구', '안영동', nan, '663']\n",
      "2225 ['울산광역시', '남구', '삼산동', nan, '1622 4']\n",
      "2226 ['경상남도', '통영시', '무전동', nan, '357']\n",
      "2227 ['전라남도', '곡성군', '오곡면', '오지리', '845 3']\n",
      "2229 ['전라남도', '해남군', '해남읍', '해리', '439 3']\n",
      "2230 ['경상남도', '창원시 성산구', '성주동', nan, '178']\n",
      "2231 ['대구광역시', '북구', '구암동', nan, '771 2']\n",
      "2232 ['강원도', '양구군', '양구읍', '상리', '206 145']\n",
      "2235 ['전라북도', '완주군', '삼례읍', '삼례리', '1410']\n",
      "2237 ['충청남도', '천안시 동남구', '신부동', nan, '132 8']\n",
      "2238 ['충청남도', '논산시', '상월면', '신충리', '54 2']\n",
      "2239 ['경상북도', '구미시', '거의동', nan, '468']\n",
      "2241 ['대전광역시', '서구', '변동', nan, '47 32']\n",
      "2242 ['전라남도', '나주시', '송월동', nan, '1078 2']\n",
      "2243 ['전라남도', '영광군', '홍농읍', '상하리', '267']\n",
      "2244 ['경상남도', '김해시', '외동', nan, '산', '28 1']\n",
      "2245 ['경상북도', '포항시 남구', '대잠동', nan, '780 196']\n",
      "2246 ['충청북도', '청주시 서원구', '모충동', nan, '404']\n",
      "2248 ['전라남도', '해남군', '해남읍', '남외리', '17']\n",
      "2249 ['경상북도', '영천시', '문외동', nan, '245 3']\n",
      "2250 ['경상남도', '김해시', '진영읍', '본산리', '40 9']\n",
      "2251 ['충청남도', '천안시 동남구', '병천면', '가전리', '307']\n",
      "2252 ['전라남도', '목포시', '남교동', nan, '57']\n",
      "2253 ['경상남도', '창원시 의창구', '북면', '신촌리', '954 4']\n",
      "2254 ['경상북도', '경주시', '감포읍', '감포리', '441']\n",
      "2255 ['부산광역시', '서구', '암남동', nan, '89 1']\n",
      "2260 ['경상남도', '창녕군', '대지면', '모산리', '501 1']\n",
      "2262 ['충청북도', '영동군', '영동읍', '매천리', '444 1']\n",
      "2263 ['충청북도', '청주시 상당구', '수동', nan, '138 8']\n",
      "2264 ['경상남도', '의령군', '칠곡면', '내조리', '429 1']\n",
      "2265 ['전라남도', '목포시', '상동', nan, '32']\n",
      "2266 ['경상남도', '김해시', '불암동', nan, '220 17']\n",
      "2267 ['경상남도', '거제시', '연초면', '죽토리', '781 1']\n",
      "2268 ['경상남도', '거창군', '거창읍', '대동리', '992 2']\n",
      "2269 ['경상남도', '고성군', '상리면', '척번정리', '804']\n",
      "2270 ['경상남도', '창녕군', '부곡면', '거문리', '824']\n",
      "2271 ['경상남도', '함안군', '군북면', '소포리', '516 2']\n",
      "2273 ['대전광역시', '중구', '안영동', nan, '697']\n",
      "2274 ['전라남도', '순천시', '남정동', nan, '256 6']\n",
      "2275 ['충청남도', '보령시', '동대동', nan, '576 1']\n",
      "2276 ['경상남도', '양산시', '다방동', nan, '572 1']\n",
      "2277 ['경상북도', '군위군', '소보면', '송원리', '615 3']\n",
      "2278 ['전라남도', '목포시', '측후동', nan, '4']\n",
      "2279 ['대전광역시', '대덕구', '장동', nan, '366 11']\n",
      "2280 ['경상북도', '청송군', '진보면', '각산리', '622 6']\n",
      "2282 ['경상북도', '경주시', '현곡면', '오류리', '277 9']\n",
      "2283 ['부산광역시', '동래구', '명장동', nan, '538']\n",
      "2284 ['전라남도', '나주시', '송월동', nan, '1356']\n",
      "2285 ['충청남도', '태안군', '태안읍', '평천리', '500 4']\n",
      "2286 ['경상북도', '포항시 남구', '대잠동', nan, '780 78']\n",
      "2288 ['전라남도', '함평군', '월야면', '월야리', '758 15']\n",
      "2289 ['충청남도', '서천군', '서천읍', '군사리', '181 3']\n",
      "2291 ['경기도', '광주시', '역동', nan, '27 15외', '6']\n",
      "2292 ['경상남도', '고성군', '하이면', '덕명리', '284']\n",
      "2293 ['강원도', '속초시', '금호동', nan, '488 408']\n",
      "2300 ['경기도', '안산시 단원구', '선부동', nan, '703 2']\n",
      "2303 ['경상북도', '성주군', '벽진면', '수촌리', '810']\n",
      "2306 ['전라남도', '여수시', '화장동', nan, '945 1']\n",
      "2307 ['전라남도', '나주시', '성북동', nan, '207']\n",
      "2308 ['경상남도', '산청군', '생초면', '어서리', '290 2']\n",
      "2310 ['세종특별자치시', nan, '한솔동', nan, '961']\n",
      "2311 ['경상북도', '구미시', '거의동', nan, '612 4']\n",
      "2312 ['경상북도', '영덕군', '영해면', '성내리', '497']\n",
      "2313 ['경기도', '안산시 단원구', '원곡동', nan, '990 1']\n",
      "2315 ['강원도', '강릉시', '사천면', '석교리', '972 2']\n",
      "2321 ['대전광역시', '서구', '관저동', nan, '1199']\n",
      "2324 ['경상남도', '진주시', '충무공동', nan, '15 4']\n",
      "2332 ['경상북도', '성주군', '가천면', '창천리', '513 1']\n",
      "2333 ['서울특별시', '서초구', '반포동', nan, '49 8']\n",
      "2336 ['전라남도', '나주시', '남평읍', '남평리', '66']\n",
      "2337 ['경상북도', '성주군', '금수면', '광산리', '105 6']\n",
      "2339 ['서울특별시', '서대문구', '충정로2가', nan, '78 13']\n",
      "2340 ['경상북도', '김천시', '평화동', nan, '374 1']\n",
      "2341 ['서울특별시', '양천구', '신정6동', nan, '322 5']\n",
      "2342 ['세종특별자치시', nan, '연서면', '용암리', '208 5']\n",
      "2344 ['경기도', '안산시 상록구', '본오동', nan, '1080']\n",
      "2346 ['경기도', '광주시', '남한산성면', '상번천리', '836']\n",
      "2347 ['경기도', '안산시 단원구', '와동', nan, '608']\n",
      "2350 ['경상남도', '하동군', '하동읍', '읍내리', '962 2']\n",
      "2351 ['제주특별자치도', '제주시', '외도일동', nan, '632 7']\n",
      "2352 ['경상남도', '김해시', '진영읍', '진영리', '1347']\n",
      "2353 ['대구광역시', '수성구', '지산동', nan, '산', '136']\n",
      "2355 ['경기도', '안산시 단원구', '고잔동', nan, '44 1']\n",
      "2358 ['충청북도', '청주시 상당구', '북문로1가', nan, '171 3']\n",
      "2359 ['경상남도', '양산시', '원동면', '선리', '1421 5']\n",
      "2360 ['경상남도', '거제시', '하청면', '실전리', '656 2']\n",
      "2361 ['전라남도', '고흥군', '봉래면', '예내리', '500']\n",
      "2362 ['충청남도', '아산시', '온천동', nan, '1880']\n",
      "2364 ['경기도', '안산시 상록구', '사동', nan, '854 2']\n",
      "2366 ['충청남도', '금산군', '금산읍', '신대리', '355']\n",
      "2367 ['전라남도', '영광군', '홍농읍', '성산리', '748']\n",
      "2368 ['경기도', '안산시 상록구', '팔곡이동', nan, '608']\n",
      "2370 ['충청남도', '아산시', '고도면', '신통리', '247 1']\n",
      "2371 ['전라남도', '보성군', '복내면', '복내리', '435 30']\n",
      "2372 ['경상남도', '창원시 진해구', '남양동', nan, '166 1']\n",
      "2373 ['경상북도', '문경시', '가은읍', '왕능리', '515 7']\n",
      "2374 ['경상북도', '포항시 남구', '지곡동', nan, '482']\n",
      "2376 ['경상북도', '영주시', '봉현면', '두산리', '1384']\n",
      "2377 ['경상북도', '고령군', '대가야읍', '장기리', '331']\n",
      "2378 ['경기도', '안산시 단원구', '와동', nan, '320 9']\n",
      "2379 ['경상북도', '영덕군', '강구면', '강구리', '585']\n",
      "2381 ['대구광역시', '달성군', '논공읍', '금포리', '1313']\n",
      "2382 ['경상북도', '성주군', '초전면', '대장리', '619']\n",
      "2383 ['충청북도', '청주시 흥덕구', '오송읍', '연제리', '679']\n",
      "2384 ['경상남도', '창원시 진해구', '태백동', nan, '104']\n",
      "2385 ['경상북도', '고령군', '대가야읍', '지산리', '192']\n",
      "2388 ['경상북도', '경산시', '진량읍', '신상리', '1201']\n",
      "2389 ['대구광역시', '달서구', '도원동', nan, '928']\n",
      "2390 ['울산광역시', '울주군', '삼남면', '교동리', '1218 10']\n",
      "2392 ['경상북도', '예천군', '감천면', '관현리', '126 3']\n",
      "2394 ['울산광역시', '중구', '반구동', nan, '46 2']\n",
      "2395 ['경상남도', '거창군', '주상면', '도평리', '718']\n",
      "2396 ['울산광역시', '남구', '선암동', nan, '584 8번지']\n",
      "2397 ['강원도', '고성군', '거진읍', '거진리', '480 1']\n",
      "2398 ['강원도', '고성군', '거진읍', '거진리', '241 6']\n",
      "2400 ['강원도', '원주시', '흥업면', '흥업리', '584 1']\n",
      "2401 ['강원도', '원주시', '판부면', '서곡리', '2026 6']\n",
      "2402 ['강원도', '원주시', '학성동', nan, '1023 100']\n",
      "2403 ['강원도', '원주시', '문막읍', '문막리', '749']\n",
      "2406 ['강원도', '강릉시', '포남동', nan, '892 7']\n",
      "2415 ['전라남도', '보성군', '보성읍', '보성리', '902 4']\n",
      "2417 ['전라남도', '진도군', '군내면', '녹진리', '산', '7 10']\n",
      "2419 ['전라남도', '해남군', '해남읍', '구교리', '308']\n",
      "2421 ['전라북도', '전주시 덕진구', '송천동2가', nan, '1257']\n",
      "2423 ['전라북도', '전주시 덕진구', '송천동2가', nan, '1316']\n",
      "2427 ['전라북도', '임실군', '관촌면', '관촌리', '299 10']\n",
      "2428 ['전라남도', '해남군', '해남읍', '고도리', '479 2']\n",
      "2431 ['전라북도', '장수군', '번암면', '노단리', '1149 1']\n",
      "2434 ['전라남도', '목포시', '석현동', nan, '1175']\n",
      "2437 ['경상북도', '성주군', '선남면', '관화리', '658 1']\n",
      "2438 ['충청북도', '청주시 흥덕구', '오송읍', '연제리', '664 5']\n",
      "2439 ['경상남도', '김해시', '삼방동', nan, '840 2']\n",
      "2440 ['충청남도', '예산군', '대술면', '화천리', '873 1']\n",
      "2441 ['충청북도', '진천군', '이월면', '노원리', '1144']\n",
      "2442 ['경상북도', '김천시', '신음동', nan, '1015 2']\n",
      "2443 ['충청남도', '부여군', '홍산면', '북촌리', '188 7']\n",
      "2445 ['대전광역시', '동구', '가양동', nan, '65']\n",
      "2446 ['강원도', '삼척시', '정상동', nan, '376 17']\n",
      "2449 ['경기도', '파주시', '월롱면', '위전리', '5 3']\n",
      "2450 ['전라남도', '신안군', '지도읍', '읍내리', '351']\n",
      "2455 ['전라북도', '진안군', '안천면', '삼락리', '1102 5']\n",
      "2456 ['전라북도', '순창군', '풍산면', '반월리', '12 4']\n",
      "2457 ['충청북도', '보은군', '회남면', '거교리', '251']\n",
      "2459 ['경상남도', '의령군', '지정면', '봉곡리', '793 11']\n",
      "2460 ['충청북도', '진천군', '덕산면', '두촌리', '2609']\n",
      "2461 ['경상남도', '의령군', '의령읍', '무전리', '124 1']\n",
      "2462 ['대구광역시', '달성군', '현풍읍', '하리', '253 2']\n",
      "2463 ['강원도', '삼척시', '남양동', nan, '39 25']\n",
      "2465 ['경상남도', '남해군', '삼동면', '금송리', '1416 1']\n",
      "2466 ['충청남도', '태안군', '태안읍', '평천리', '1488']\n",
      "2468 ['경상남도', '고성군', '하이면', '덕호리', '474 1']\n",
      "2469 ['경상북도', '예천군', '효자면', '고항리', '585']\n",
      "2472 ['경상남도', '창녕군', '부곡면', '사창리', '328']\n",
      "2474 ['경상북도', '성주군', '용암면', '용정리', '302 1']\n",
      "2475 ['울산광역시', '울주군', '상북면', '등억알프스리', '701 38']\n",
      "2476 ['전라남도', '해남군', '마산면', '상등리', '1115']\n",
      "2477 ['경상남도', '고성군', '회화면', '봉동리', '1060']\n",
      "2479 ['전라남도', '영암군', '삼호읍', '용앙리', '573 2']\n",
      "2480 ['대구광역시', '수성구', '범어동', nan, '415 4']\n",
      "2481 ['강원도', '고성군', '간성읍', '상리', '188 1']\n",
      "2482 ['충청남도', '공주시', '탄천면', '삼각리', '523 2']\n",
      "2483 ['충청북도', '보은군', '회남면', '거교리', '251']\n",
      "2485 ['충청북도', '진천군', '덕산면', '두촌리', '2447']\n",
      "2486 ['경상남도', '거창군', '남상면', '무촌리', '632 2']\n",
      "2487 ['경상남도', '밀양시', '청도면', '구기리', '140 6']\n",
      "2489 ['경상남도', '고성군', '고성읍', '이당리', '253 4']\n",
      "2490 ['경상남도', '남해군', '창선면', '상죽리', '143']\n",
      "2491 ['경기도', '의정부시', '가능동', nan, '628']\n",
      "2492 ['경상남도', '거제시', '하청면', '하청리', '665 1']\n",
      "2493 ['경상남도', '통영시', '산양읍', '남평리', '741 9']\n",
      "2494 ['울산광역시', '울주군', '상북면', '등억알프스리', '702 1']\n",
      "2495 ['충청북도', '영동군', '심천면', '심천리', '191 1']\n",
      "2496 ['충청남도', '아산시', '방축동', nan, '5']\n",
      "2498 ['경상남도', '김해시', '한림면', '퇴래리', '1363']\n",
      "2499 ['경상남도', '거제시', '남부면', '저구리', '70']\n",
      "2500 ['경상남도', '거제시', '능포동', nan, '401 4']\n",
      "2501 ['경상북도', '군위군', '고로면', '장곡리', '37']\n",
      "2502 ['울산광역시', '중구', '반구동', nan, '582 6']\n",
      "2503 ['경상북도', '의성군', '점곡면', '서변리', '119']\n",
      "2505 ['충청남도', '보령시', '성주면', '성주리', '229 5']\n",
      "2506 ['경상남도', '거제시', '둔덕면', '하둔리', '365 64']\n",
      "2507 ['충청북도', '영동군', '상촌면', '임산리', '346 1']\n",
      "2508 ['경기도', '의정부시', '장암동', nan, '159']\n",
      "2509 ['충청남도', '예산군', '광시면', '대리', '230']\n",
      "2510 ['경상북도', '성주군', '수륜면', '봉양리', '1241 2']\n",
      "2511 ['충청남도', '예산군', '광시면', '광시리', '77 3']\n",
      "2512 ['충청남도', '태안군', '남면', '당암리', '529 1']\n",
      "2513 ['충청남도', '아산시', '염치읍', '염성리', '186 2']\n",
      "2514 ['충청남도', '예산군', '고덕면', '대천리', '711']\n",
      "2515 ['충청북도', '옥천군', '군서면', '금산리', '산17']\n",
      "2516 ['서울특별시', '서대문구', '남가좌2동', nan, '3 75']\n",
      "2517 ['경상남도', '고성군', '동해면', '장기리', '251 9']\n",
      "2518 ['경상북도', '고령군', '우곡면', '도진리', '199']\n",
      "2519 ['경상북도', '고령군', '다산면', '송곡리', '1819']\n",
      "2520 ['경상남도', '의령군', '궁류면', '토곡리', '602 1']\n",
      "2521 ['경상북도', '김천시', '부곡동', nan, '1330']\n",
      "2522 ['경상북도', '청송군', '진보면', '각산리', '508 9']\n",
      "2523 ['경상북도', '포항시 남구', '구룡포읍', '구룡포리', '353']\n",
      "2524 ['광주광역시', '북구', '월출동', nan, '987']\n",
      "2526 ['전라남도', '보성군', '문덕면', '죽산리', '464 1']\n",
      "2528 ['충청북도', '영동군', '양산면', '가곡리', '139 2']\n",
      "2529 ['전라남도', '여수시', '화정면', '백야리', '260']\n",
      "2531 ['충청남도', '아산시', '둔포면', '석곡리', '1949']\n",
      "2534 ['강원도', '화천군', nan, '하리', '51 8']\n",
      "2536 ['경상남도', '사천시', '곤양면', '서정리', '83']\n",
      "2537 ['충청남도', '부여군', '부여읍', '염창리', '131 2']\n",
      "2538 ['충청북도', '제천시', '청풍면', '읍리', '707']\n",
      "2539 ['전라남도', '광양시', '봉강면', '석사리', '96 2']\n",
      "2540 ['강원도', '춘천시', '퇴계동', nan, '1072']\n",
      "2541 ['경상남도', '합천군', '합천읍', '합천리', '925 2']\n",
      "2547 ['전라남도', '담양군', '용면', '월계리', '182']\n",
      "2549 ['전라남도', '영암군', '학산면', '독천리', '61 13']\n",
      "2550 ['경상북도', '칠곡군', '동명면', '송산리', '909']\n",
      "2551 ['경상북도', '포항시 남구', '지곡동', nan, '482']\n",
      "2552 ['전라남도', '광양시', '옥룡면', '추산리', '974']\n",
      "2556 ['경상남도', '통영시', '용남면', '화삼리', '202']\n",
      "2557 ['전라남도', '보성군', '벌교읍', '칠동리', '92']\n",
      "2558 ['경상북도', '칠곡군', '약목면', '복성리', '1023 5']\n",
      "2559 ['경상북도', '영덕군', '영덕읍', '우곡리', '523']\n",
      "2560 ['경상북도', '영양군', '석보면', '원리리', '478']\n",
      "2566 ['경상남도', '창원시 진해구', '자은동', nan, '401 2']\n",
      "2567 ['강원도', '춘천시', '신북읍', '율문리', '935 175']\n",
      "2570 ['경상북도', '영양군', '석보면', '원리리', '478']\n",
      "2571 ['경상북도', '영천시', '화남면', '삼창리', '854']\n",
      "2572 ['경상남도', '하동군', '옥종면', '청룡리', '124 7']\n",
      "2575 ['경상남도', '창원시 마산회원구', '내서읍', '중리', '391 3']\n",
      "2576 ['경상남도', '밀양시', '상남면', '기산리', '1039']\n",
      "2577 ['경상북도', '울진군', '기성면', '구산리', '333 11']\n",
      "2579 ['경상북도', '포항시 북구', '송라면', '광천리', '30 1']\n",
      "2580 ['충청북도', '영동군', '양산면', '송호리', '278 13']\n",
      "2581 ['충청북도', '청주시 청원구', '오창읍', '구룡리', '376 1']\n",
      "2582 ['경상북도', '예천군', '용궁면', '읍부리', '188 7']\n",
      "2583 ['전라남도', '해남군', '화원면', '청용리', '554']\n",
      "2587 ['전라남도', '나주시', '반남면', '신촌리', '249 2']\n",
      "2588 ['충청북도', '영동군', '양강면', '괴목리', '201 4']\n",
      "2590 ['경상남도', '김해시', '관동동', nan, '332']\n",
      "2591 ['경상남도', '함안군', '칠원읍', '용산리', '144 2']\n",
      "2592 ['충청남도', '아산시', '신창면', '오목리', '2 1']\n",
      "2595 ['경상남도', '합천군', '쌍책면', '성산리', '234']\n",
      "2598 ['전라남도', '장성군', '장성읍', '영천리', '1056 4']\n",
      "2602 ['충청남도', '금산군', '제원면', '용화리', '215']\n",
      "2604 ['전라남도', '보성군', '득량면', '오봉리', '908']\n",
      "2605 ['충청남도', '태안군', '소원면', '신덕리', '272']\n",
      "2606 ['경상북도', '김천시', '지례면', '교리', '565 3']\n",
      "2607 ['충청남도', '청양군', '청양읍', '군량리', '533']\n",
      "2611 ['경상남도', '밀양시', '상남면', '기산리', '1053']\n",
      "2612 ['경상남도', '창원시 성산구', '반송동', nan, '201']\n",
      "2615 ['경상남도', '하동군', nan, '중평리', '763']\n",
      "2618 ['경상북도', '구미시', '옥계동', nan, '941']\n",
      "2619 ['경상남도', '합천군', '삼가면', '소오리', '450 25']\n",
      "2620 ['전라남도', '나주시', '다도면', '판촌리', '1414']\n",
      "2621 ['충청남도', '보령시', '주교면', '관창리', '407 4']\n",
      "2622 ['충청남도', '보령시', '웅천읍', '관당리', '806 1']\n",
      "2623 ['경상북도', '경산시', '진량읍', '신제리', '554 1']\n",
      "2624 ['경상북도', '군위군', '고로면', '장곡리', '37']\n",
      "2625 ['경상북도', '성주군', '월항면', '안포리', '167 2']\n",
      "2626 ['광주광역시', '광산구', '남산동', nan, '698 20']\n",
      "2628 ['경상남도', '진주시', '남성동', nan, '3 1']\n",
      "2629 ['충청남도', '부여군', '외산면', '만수리', '14 3']\n",
      "2630 ['부산광역시', '기장군', '일광면', '동백리', '425 1']\n",
      "2632 ['경상북도', '구미시', '옥계동', nan, '941']\n",
      "2633 ['경상북도', '김천시', '부곡동', nan, '1330']\n",
      "2634 ['경상북도', '포항시 북구', '기북면', '용기리', '765 161']\n",
      "2635 ['충청남도', '서산시', '해미면', '읍내리', '353']\n",
      "2636 ['경상남도', '하동군', '적량면', '서리', '1765 13']\n",
      "2638 ['경상북도', '울진군', '기성면', '구산리', '333 11']\n",
      "2639 ['경상남도', '창녕군', '대합면', '주매리', '508 2']\n",
      "2640 ['경상남도', '하동군', '금남면', '송문리', '824 1']\n",
      "2641 ['경상북도', '경주시', '양남면', '나아리', '965']\n",
      "2642 ['경상북도', '포항시 남구', '구룡포읍', '구룡포리', '353']\n",
      "2643 ['세종특별자치시', nan, '연기면', '세종리', '548 88']\n",
      "2644 ['충청북도', '옥천군', '군서면', '금산리', '산17']\n",
      "2645 ['경상남도', '창녕군', '이방면', '거남리', '436 1']\n",
      "2646 ['경상남도', '하동군', '적량면', '고절리', '1209 1']\n",
      "2654 ['강원도', '강릉시', '안현동', nan, '868 6']\n",
      "2657 ['경상남도', '하동군', '화개면', '대성리', '1212 1']\n",
      "2663 ['대구광역시', '동구', '효목동', nan, '1042']\n",
      "2665 ['전라북도', '진안군', '진안읍', '단양리', '687 1']\n",
      "2671 ['충청남도', '서산시', '동문동', nan, '800번지', ' ']\n",
      "2674 ['충청남도', '보령시', '신흑동', nan, '2285', '2286']\n",
      "2676 ['경상남도', '산청군', '시천면', '사리', '932 1']\n",
      "2679 ['경상북도', '성주군', '성주읍', '학산리', '908']\n",
      "2683 ['경상북도', '의성군', '옥산면', '구성리', '449 3']\n",
      "2688 ['충청남도', '당진시', '신평면', '운정리', '263 3']\n",
      "2689 ['부산광역시', '남구', '용당동', nan, '454 2']\n",
      "2690 ['대구광역시', '동구', '둔산동', nan, '934 3']\n",
      "2692 ['전라남도', '강진군', '강진읍', '남포리', '510']\n",
      "2697 ['경상남도', '사천시', '용현면', '통양리', '249']\n",
      "2698 ['전라북도', '진안군', '마령면', '동촌리', '70 18']\n",
      "2701 ['경상남도', '하동군', '금남면', '노량리', '704']\n",
      "2702 ['경상북도', '구미시', '광평동', nan, '366 4']\n",
      "2705 ['경상남도', '남해군', '미조면', '송정리', '1133 1']\n",
      "2707 ['경상남도', '사천시', '사천읍', '사주리', '263 1']\n",
      "2710 ['경상남도', '진주시', nan, '속사리', '175']\n",
      "2711 ['전라남도', '구례군', '산동면', '좌사리', '846 8']\n",
      "2712 ['경상북도', '영주시', '문수면', '탄산리', '577 2']\n",
      "2714 ['경상북도', '군위군', '고로면', '양지리', '59 2']\n",
      "2715 ['경상북도', '의성군', '봉양면', '문흥리', '산83 2']\n",
      "2717 ['경상북도', '문경시', '마성면', '신현리', '231 8']\n",
      "2718 ['강원도', '정선군', '임계면', '임게리', '산', '23 1']\n",
      "2729 ['경상북도', '포항시 남구', '대잠동', nan, '969']\n",
      "2733 ['대구광역시', '동구', '봉무동', nan, '산', '138 5']\n",
      "2734 ['전라북도', '군산시', '옥도면', '선유도리', '산', '35 4']\n",
      "2745 ['경상남도', '창원시 의창구', '사림동', nan, '70']\n",
      "2746 ['경상북도', '군위군', '효령면', '장군리', '1071 68']\n",
      "2749 ['광주광역시', '광산구', '황룡동', nan, '1 4']\n",
      "2750 ['강원도', '동해시', '천곡동', nan, '996']\n",
      "2751 ['부산광역시', '남구', '용호동', nan, '947 1']\n",
      "2753 ['경상북도', '성주군', '월항면', '안포리', '8 1']\n",
      "2754 ['경기도', '포천시', '군내면', '하성북리', '322 7(톨게이트)']\n",
      "2755 ['강원도', '춘천시', '송암동', nan, '357 1']\n",
      "2758 ['경기도', '구리시', '갈매동', nan, '53 44']\n",
      "2762 ['경상북도', '경주시', '서면', '아화리', '산23 3']\n",
      "2766 ['경상북도', '예천군', '유천면', '연천리', '62 3']\n",
      "2769 ['전라남도', '고흥군', '금산면', '신촌리', '317 1']\n",
      "2771 ['충청남도', '아산시', '온천동', nan, '1926']\n",
      "2772 ['강원도', '삼척시', '근덕면', '궁촌리', '368 1']\n",
      "2774 ['강원도', '강릉시', '남항진동', nan, '산', '7 7']\n",
      "2775 ['전라남도', '고흥군', '금산면', '신촌리', '314']\n",
      "2776 ['제주특별자치도', '제주시', '노형동', nan, '2517 1']\n",
      "2779 ['제주특별자치도', '제주시', '노형동', nan, '2534 3']\n",
      "2783 ['전라남도', '여수시', '돌산읍', '우두리', '799 76']\n",
      "2785 ['전라남도', '구례군', '산동면', '탑정리', '362']\n",
      "2791 ['충청북도', '청주시 청원구', '오창읍', '구룡리', '376 1']\n",
      "2792 ['경상북도', '문경시', '마성면', '신현리', '233 1']\n",
      "2795 ['경기도', '남양주시', '화도읍', '창현리', '529 7']\n",
      "2797 ['충청북도', '영동군', '양산면', '송호리', '278 13']\n",
      "2802 ['경상남도', '창원시 마산회원구', '내서읍', '중리', '1127 28']\n",
      "2811 ['경상남도', '창녕군', '길곡면', '증산리', '901 1']\n",
      "2824 ['경상북도', '포항시 북구', '죽도동', nan, '557 7']\n",
      "2834 ['경상남도', '거창군', '남상면', '대산리', '1572']\n",
      "2854 ['인천광역시', '중구', '송월동2가', nan, '4']\n",
      "2860 ['인천광역시', '중구', '운북동', nan, '464']\n",
      "2861 ['충청남도', '태안군', '남면', '당암리', '1 64']\n",
      "2873 ['경기도', '안산시 상록구', nan, nan, '140']\n",
      "2944 ['경상북도', '의성군', '점곡면', '서변리', '119']\n",
      "2963 ['전라남도', '광양시', '광양읍', '덕례리', '산', '6']\n",
      "2967 ['경상남도', '의령군', nan, nan, '구룡16']\n",
      "2968 ['경기도', '고양시 덕양구', '용두동', nan, '2 71']\n",
      "2982 ['충청북도', '영동군', '영동읍', '매천리', '165']\n",
      "2983 ['경기도', '안산시 상록구', '부곡동', nan, '719 1']\n",
      "2986 ['충청북도', '영동군', '영동읍', '오탄리', '677 47']\n",
      "2991 ['전라남도', '보성군', '문덕면', '운곡리', '655 9']\n",
      "2992 ['전라남도', '화순군', '도곡면', '월곡리', '507 1']\n",
      "2994 ['경상남도', '통영시', '광도면', nan, '죽림2로45']\n",
      "2997 ['울산광역시', '남구', '옥동', nan, '363 1']\n",
      "3001 ['경기도', '안양시 동안구', '관양동', nan, '1709']\n",
      "3003 ['전라남도', '광양시', '진월면', '선소리', '208 8']\n",
      "3009 ['전라남도', '보성군', '보성읍', '옥평리', '781']\n",
      "3014 ['경상북도', '경산시', '진량읍', nan, '공단7로126']\n",
      "3019 ['경기도', '안산시 단원구', '초지동', nan, '43 6']\n",
      "3022 ['전라남도', '보성군', '겸백면', '석호리', '456 3']\n",
      "3024 ['울산광역시', '남구', '옥동', nan, '95']\n",
      "3026 ['전라북도', '장수군', '산서면', '동화리', '162 6']\n",
      "3031 ['전라북도', '장수군', '장수읍', '장수리', '192']\n",
      "3035 ['전라남도', '여수시', '시전동', nan, '684']\n",
      "3036 ['전라남도', '보성군', '미력면', '도개리', '667']\n",
      "3038 ['충청남도', '서산시', '고북면', nan, '고북1로294']\n",
      "3051 ['충청남도', '천안시 동남구', nan, nan, '풍세산단4로81']\n",
      "3055 ['강원도', '춘천시', '신북읍', nan, '61 10']\n",
      "3058 ['인천광역시', '강화군', '선원면', '지산리', '216 6']\n",
      "3062 ['인천광역시', '강화군', '강화읍', '관청리', '931']\n",
      "3071 ['충청남도', '계룡시', '엄사면', nan, '문화1로13']\n",
      "3081 ['충청남도', '부여군', '규암면', nan, '아름1로64']\n",
      "3087 ['경기도', '파주시', '문산읍', '내포리', '산', '140 1']\n",
      "3089 ['경기도', '시흥시', '정왕동', nan, '2446']\n",
      "3091 ['경기도', '파주시', '법원읍', '법원리', '376 1']\n",
      "3094 ['경기도', '연천군', '군남면', '선곡리', '627 2']\n",
      "3095 ['경기도', '시흥시', '정왕동', nan, '2402']\n",
      "3102 ['경기도', '시흥시', '정왕동', nan, '2421']\n",
      "3105 ['전라남도', '강진군', '도암면', '신기리', '123 3']\n",
      "3108 ['전라남도', '영광군', '불갑면', '모악리', '380 11']\n",
      "3111 ['전라북도', '순창군', '순창읍', '교성리', '196 25']\n",
      "3112 ['강원도', '양양군', '서면', '오색리', '485']\n",
      "3113 ['서울특별시', '영등포구', '여의도동', nan, '1']\n",
      "3116 ['전라북도', '군산시', '수송동', nan, '851']\n",
      "3119 ['서울특별시', '서초구', '원지동', nan, '361 1']\n",
      "3120 ['전라남도', '강진군', '마량면', '마량리', '786']\n",
      "3121 ['전라남도', '영광군', '법성면', '진내리', '642 7']\n",
      "3122 ['강원도', '홍천군', '홍천읍', '희망리', '277']\n",
      "3125 ['강원도', '속초시', '대포동', nan, '993 1']\n",
      "3126 ['전라남도', '함평군', '학교면', '사거리', '553']\n",
      "3129 ['전라남도', '영광군', '홍농읍', '상하리', '1373 7']\n",
      "3130 ['강원도', '속초시', '대포동', nan, '976']\n",
      "3131 ['강원도', '양양군', '손양면', '상황도리', '729 1']\n",
      "3133 ['인천광역시', '강화군', '삼산면', '매음리', '645 27']\n",
      "3134 ['전라남도', '강진군', '강진읍', '동성리', '300 1']\n",
      "3135 ['전라북도', '익산시', '남중동', nan, '12 1']\n",
      "3137 ['전라북도', '김제시', nan, nan, '468 65']\n",
      "3138 ['전라남도', '강진군', '대구면', '저두리', '320 11']\n",
      "3143 ['전라북도', '고창군', '고창읍', '월곡리', '425 4']\n",
      "3144 ['강원도', '양양군', nan, '포월리', '262']\n",
      "3145 ['경기도', '안산시 단원구', '고잔동', nan, '556 1']\n",
      "3146 ['경기도', '과천시', '갈현동', nan, '산', '31 1']\n",
      "3150 ['경기도', '성남시 중원구', '성남동', nan, '4596']\n",
      "3153 ['경기도', '성남시 수정구', '단대동', nan, '27 1']\n",
      "3154 ['경기도', '성남시 수정구', '단대동', nan, '산', '164 3']\n",
      "3157 ['경상북도', '영양군', '석보면', '원리리', '산', '7 6']\n",
      "3158 ['경기도', '여주시', '창동', nan, '46']\n",
      "3160 ['경기도', '안산시 단원구', '와동', nan, '227']\n",
      "3161 ['경기도', '안산시 단원구', '와동', nan, '515 4']\n",
      "3162 ['인천광역시', '강화군', '강화읍', '갑곳리', '462 3']\n",
      "3163 ['경기도', '평택시', '통복동', nan, '69 1']\n",
      "3170 ['인천광역시', '강화군', '강화읍', '관청리', '580 8']\n",
      "3171 ['경기도', '화성시', '영천동', nan, '120 5']\n",
      "3172 ['경기도', '안산시 상록구', '부곡동', nan, '705']\n",
      "3178 ['광주광역시', '서구', '치평동', nan, '1162']\n",
      "3180 ['경기도', '하남시', '천현동', nan, '507 3']\n",
      "3181 ['경기도', '시흥시', '정왕동', nan, '2579']\n",
      "3183 ['서울특별시', '중랑구', '중화동', nan, '73 5']\n",
      "3184 ['경기도', '성남시 중원구', '중앙동', nan, '2169']\n",
      "3185 ['경기도', '안산시 단원구', '대부동동', nan, '산148 4']\n",
      "3188 ['경상북도', '청송군', '진보면', '신촌리', '46 7']\n",
      "3191 ['경기도', '안산시 단원구', '고잔동', nan, '654 19']\n",
      "3193 ['서울특별시', '중랑구', '중화동', nan, '73 10']\n",
      "3195 ['광주광역시', '동구', '내남동', nan, '284']\n",
      "3200 ['광주광역시', '남구', '진월동', nan, '330 49']\n",
      "3201 ['인천광역시', '강화군', '강화읍', '용정리', '1074 4']\n",
      "3203 ['경기도', '성남시 수정구', '산성동', nan, '508']\n",
      "3205 ['경기도', '시흥시', '조남동', nan, '656']\n",
      "3206 ['전라남도', '곡성군', '오산면', '봉동리', '609 2']\n",
      "3208 ['전라남도', '곡성군', '겸면', '남양리', '103 5']\n",
      "3209 ['경기도', '안산시 단원구', '선부동', nan, '677 6']\n",
      "3213 ['전라북도', '부안군', '부안읍', '선은리', '6 8']\n",
      "3215 ['전라남도', '화순군', '화순읍', '감도리', '889']\n",
      "3218 ['강원도', '화천군', '사내면', '사창리', '423 2']\n",
      "3220 ['충청남도', '보령시', '청라면', '의평리', '50 19']\n",
      "3221 ['경기도', '여주시', '창동', nan, '138 7']\n",
      "3222 ['전라남도', '해남군', '옥천면', '영신리', '191']\n",
      "3223 ['경기도', '고양시 일산서구', '탄현동', nan, '1596']\n",
      "3226 ['경기도', '시흥시', '정왕동', nan, '2466']\n",
      "3227 ['강원도', '양구군', '양구읍', '하리', '638 3']\n",
      "3228 ['강원도', '홍천군', '두촌면', '천현리', '899']\n",
      "3230 ['전라북도', '부안군', '변산면', '도청리', '산1 147']\n",
      "3231 ['강원도', '평창군', '봉평면', '창동리', '413']\n",
      "3232 ['전라북도', '익산시', '황등면', '황등리', '656 2']\n",
      "3234 ['전라남도', '신안군', '압해읍', '송공리', '441 26']\n",
      "3235 ['강원도', '영월군', '상동읍', '내덕리', '33 18']\n",
      "3238 ['전라북도', '정읍시', nan, '신태인리', '214 2']\n",
      "3239 ['인천광역시', '연수구', '연수동', nan, '587']\n",
      "3241 ['전라북도', '정읍시', nan, '신태인리', '260 1']\n",
      "3243 ['전라남도', '강진군', '신전면', '수양리', '170 16']\n",
      "3246 ['전라남도', '해남군', '옥천면', '영춘리', '526']\n",
      "3256 ['전라북도', '익산시', '용동면', '대조리', '814']\n",
      "3258 ['전라남도', '신안군', '안좌면', '소곡리', '709 7']\n",
      "3259 ['전라북도', '익산시', '팔봉동', nan, '883']\n",
      "3260 ['전라북도', '군산시', '미장동', nan, '500 1']\n",
      "3261 ['경상남도', '의령군', '궁류면', '벽계리', '63']\n",
      "3262 ['전라북도', '고창군', '해리면', '하련리', '189 5']\n",
      "3265 ['경기도', '동두천시', '동두천동', nan, '289 2']\n",
      "3266 ['전라북도', '익산시', '함열읍', '다송리', '888']\n",
      "3267 ['전라북도', '부안군', '변산면', '중계리', '464 7']\n",
      "3271 ['전라남도', '나주시', '남평읍', '남평리', '21 7']\n",
      "3275 ['전라남도', '신안군', '안좌면', '읍동리', '1131 1']\n",
      "3279 ['전라남도', '무안군', '몽탄면', '청룡리', '401']\n",
      "3285 ['전라북도', '익산시', '인화동2가', nan, '7']\n",
      "3287 ['전라남도', '해남군', '해남읍', '연동리', '109 1']\n",
      "3288 ['전라남도', '순천시', '해룡면', '월전리', '425 6']\n",
      "3291 ['전라남도', '강진군', '성전면', '월평리', '59 2']\n",
      "3294 ['전라북도', '남원시', '인월면', '서무리', '628 3']\n",
      "3295 ['강원도', '홍천군', '두촌면', '천현리', '749']\n",
      "3298 ['전라북도', '군산시', '구암동', nan, '613']\n",
      "3299 ['전라북도', '고창군', '고창읍', '읍내리', '371 4']\n",
      "3300 ['경기도', '시흥시', '정왕동', nan, '1771 23']\n",
      "3301 ['전라남도', '해남군', '산이면', '초송리', '527 3']\n",
      "3302 ['전라북도', '부안군', '변산면', '마포리', '87 26']\n",
      "3303 ['전라북도', '익산시', '여산면', '여산리', '332']\n",
      "3307 ['전라북도', '남원시', '용정동', nan, '75 14']\n",
      "3308 ['전라북도', '남원시', '광치동', nan, '195 15']\n",
      "3310 ['전라북도', '부안군', '행안면', '진동리', '817']\n",
      "3311 ['전라북도', '부안군', nan, '중계리', '190 8']\n",
      "3314 ['경기도', '시흥시', '정왕동', nan, '2394']\n",
      "3315 ['전라남도', '강진군', '병영면', '성남리', '189 3']\n",
      "3318 ['전라남도', '강진군', '도암면', '항촌리', '1122 1']\n",
      "3322 ['전라남도', '화순군', '한천면', '오음리', '2']\n",
      "3323 ['전라남도', '신안군', '자은면', '백산리', '산', '271 22']\n",
      "3326 ['전라남도', '영암군', '금정면', '용흥리', '1169 20']\n",
      "3327 ['전라북도', '남원시', '노암동', nan, '839 1']\n",
      "3328 ['전라남도', '순천시', '조례동', nan, '138']\n",
      "3329 ['전라북도', '부안군', '줄포면', '줄포리', '408 1']\n",
      "3332 ['충청북도', '단양군', '단성면', '가산리', '776']\n",
      "3337 ['충청북도', '충주시', '지현동', nan, '696']\n",
      "3338 ['경기도', '안산시 상록구', '팔곡이동', nan, '508 4']\n",
      "3339 ['충청북도', '제천시', '한수면', '송계리', '1172 8']\n",
      "3340 ['전라남도', '영광군', '영광읍', '도동리', '159 5']\n",
      "3341 ['전라북도', '부안군', '변산면', '대항리', '609']\n",
      "3343 ['충청북도', '옥천군', '청산면', '지전리', '81 13']\n",
      "3345 ['전라남도', '담양군', '수북면', '수북리', '116']\n",
      "3346 ['전라북도', '정읍시', '정우면', '초강리', '40 2']\n",
      "3349 ['전라북도', '군산시', '나운동', nan, '156 1']\n",
      "3350 ['전라남도', '영광군', '영광읍', '백학리', '359 9']\n",
      "3352 ['경기도', '안성시', '옥산동', nan, '596']\n",
      "3359 ['전라남도', '영암군', '영암읍', '동무리', '122']\n",
      "3367 ['전라남도', '영암군', '삼호읍', '용앙리', '1637']\n",
      "3371 ['전라남도', '영암군', '영암읍', '서남리', '61 1']\n",
      "3374 ['인천광역시', '강화군', '선원면', '지산리', '255 1']\n",
      "3379 ['강원도', '홍천군', '화촌면', '구성포리', '1']\n",
      "3382 ['강원도', '강릉시', '홍제동', nan, '101']\n",
      "3393 ['제주특별자치도', '제주시', '한림읍', '귀덕리', '3025 2']\n",
      "3397 ['경기도', '안산시 단원구', '선부동', nan, '1121 14']\n",
      "3403 ['전라북도', '완주군', '이서면', '상개리', '560 2']\n",
      "3405 ['경기도', '연천군', '연천읍', '현가리', '39 16']\n",
      "3407 ['경상북도', '영주시', '봉현면', '두산리', '1373']\n",
      "3408 ['경상북도', '구미시', '산동면', nan, '첨단기업1로17']\n",
      "3412 ['전라북도', '김제시', '백산면', '부거리', '1597 10']\n",
      "3416 ['경상북도', '울진군', '온정면', '소태리', '478']\n",
      "3417 ['경기도', '성남시 중원구', '은행2동', nan, '1789']\n",
      "3434 ['강원도', '정선군', '임계면', '도전리', '734 2']\n",
      "3442 ['전라남도', '완도군', '고금면', '상정리', '산', '343 4']\n",
      "3443 ['전라북도', '장수군', '계남면', '화음리', '968 1']\n",
      "3445 ['전라남도', '곡성군', '오곡면', '오지리', '1220 11']\n",
      "3446 ['전라남도', '광양시', '마동', nan, '1188']\n",
      "3448 ['경상남도', '거제시', '양정동', nan, '665 1']\n",
      "3449 ['전라남도', '강진군', '도암면', '만덕리', '369']\n",
      "3452 ['전라남도', '신안군', '임자면', '대기리', '2523 11']\n",
      "3454 ['전라북도', '장수군', '천천면', '비룡리', '산', '49 10']\n",
      "3457 ['경상북도', '예천군', '호명면', '산합리', '1411']\n",
      "3460 ['전라남도', '해남군', '문내면', '동외리', '884 2']\n",
      "3464 ['경상북도', '예천군', '풍양면', '삼강리', '149']\n",
      "3466 ['전라남도', '해남군', '북일면', '신월리', '174 10']\n",
      "3467 ['제주특별자치도', '제주시', '한림읍', '금능리', '2243 2']\n",
      "3469 ['전라남도', '여수시', '돌산읍', '율림리', '35 1']\n",
      "3471 ['울산광역시', '울주군', '두동면', '천전리', '307']\n",
      "3475 ['전라남도', '순천시', '연향동', nan, '1686 6']\n",
      "3477 ['전라남도', '보성군', '율어면', '문양리', '265 3']\n",
      "3478 ['경상남도', '진주시', '수곡면', '대천리', '118 2']\n",
      "3479 ['전라남도', '화순군', '백아면', '노치리', '358']\n",
      "3480 ['전라남도', '강진군', '대구면', '사당리', '127']\n",
      "3482 ['전라남도', '순천시', '가곡동', nan, '236 1']\n",
      "3483 ['전라남도', '여수시', '웅천동', nan, '1865 1']\n",
      "3484 ['광주광역시', '남구', '임암동', nan, '986']\n",
      "3485 ['전라북도', '무주군', '설천면', '소천리', '903']\n",
      "3487 ['전라남도', '보성군', '웅치면', '중산리', '57 6']\n",
      "3491 ['제주특별자치도', '제주시', '한림읍', '금악리', '1242 8']\n",
      "3492 ['전라북도', '장수군', '장수읍', '장수리', '456 5']\n",
      "3493 ['세종특별자치시', nan, '연동면', '내판리', '713']\n",
      "3495 ['전라남도', '완도군', '완도읍', '중도리', '946']\n",
      "3496 ['전라북도', '장수군', '계남면', '호덕리', '560 3']\n",
      "3499 ['충청남도', '천안시 동남구', nan, '병천리', '211 1']\n",
      "3500 ['전라남도', '곡성군', '오곡면', '오지리', '910']\n",
      "3503 ['전라남도', '화순군', '이서면', '인계리', '760 3']\n",
      "3504 ['전라남도', '해남군', '마산면', '화내리', '263 2']\n",
      "3506 ['전라남도', '해남군', '계곡면', '성진리', '89 2']\n",
      "3508 ['대전광역시', '대덕구', '송촌동', nan, '458']\n",
      "3510 ['전라북도', '무주군', '무풍면', '현내리', '574']\n",
      "3512 ['전라북도', '진안군', '용담면', '송풍리', '924 3']\n",
      "3513 ['세종특별자치시', nan, '연동면', '응암리', '916']\n",
      "3515 ['전라북도', '전주시 완산구', '서서학동', nan, '986 6']\n",
      "3516 ['경기도', '화성시', '송동', nan, '727']\n",
      "3524 ['경상남도', '사천시', '동림동', nan, '200']\n",
      "3527 ['경상남도', '하동군', '양보면', '운암리', '154']\n",
      "3528 ['경상북도', '봉화군', '봉화읍', '해저리', '산', '4 7']\n",
      "3530 ['경상남도', '의령군', '의령읍', '서동리', '509 4']\n",
      "3536 ['경상남도', '의령군', '의령읍', '서동리', '277']\n",
      "3538 ['전라남도', '완도군', '신지면', '신리', '796 3']\n",
      "3539 ['경상남도', '합천군', '대양면', '정양리', '101 9']\n",
      "3541 ['경상남도', '함안군', '가야읍', nan, '말산리113']\n",
      "3542 ['강원도', '양양군', '양양읍', '조산리', '433 13']\n",
      "3545 ['서울특별시', '강남구', '개포동', nan, '1273']\n",
      "3547 ['경상남도', '김해시', '봉황동', nan, '465']\n",
      "3548 ['경상남도', '의령군', '부림면', '신반리', '398']\n",
      "3549 ['경기도', '포천시', '영북면', '대회산리', '460 1']\n",
      "3551 ['경상남도', '의령군', '지정면', '봉곡리', '511 2']\n",
      "3555 ['서울특별시', '중랑구', '중화동', nan, '73 6']\n",
      "3556 ['경상남도', '합천군', '야로면', '구정리', '280 3']\n",
      "3559 ['서울특별시', '강남구', '도곡동', nan, '922']\n",
      "3563 ['전라북도', '익산시', '금마면', '기양리', '209', ' ', '2']\n",
      "3564 ['경상북도', '김천시', '부항면', '신옥리', '산23 2']\n",
      "3565 ['경상북도', '경산시', '임당동', nan, '860']\n",
      "3570 ['경기도', '안산시 단원구', '원시동', nan, '782 16']\n",
      "3579 ['전라남도', '해남군', '현산면', '일평리', '842 3']\n",
      "3580 ['전라남도', '해남군', '해남읍', '해리', '186']\n",
      "3582 ['경상북도', '안동시', '풍산읍', '노리', '215 3']\n",
      "3585 ['전라북도', '완주군', '삼례읍', '삼례리', '182']\n",
      "3588 ['대구광역시', '달서구', '두류동', nan, '1252 4']\n",
      "3590 ['경기도', '안양시 만안구', '안양동', nan, '1041 1']\n",
      "3593 ['경상북도', '영덕군', '달산면', '옥산리', '529 4']\n",
      "3594 ['울산광역시', '울주군', '상북면', '이천리', '854']\n",
      "3595 ['제주특별자치도', '제주시', '한경면', '두모리', '2962 1']\n",
      "3596 ['제주특별자치도', '제주시', '한림읍', '한림리', '887 2']\n",
      "3601 ['경상북도', '봉화군', '석포면', '석포리', '385 1']\n",
      "3604 ['경상북도', '경주시', '강동면', '인동리', '35 6']\n",
      "3606 ['울산광역시', '중구', '우정동', nan, '277 4']\n",
      "3609 ['경상북도', '영주시', nan, '옥대리', '164 4']\n",
      "3611 ['전라남도', '신안군', '증도면', '우전리', '77']\n",
      "3612 ['경상북도', '경주시', '신평동', nan, '375 7']\n",
      "3613 ['광주광역시', '동구', '충장로5가', nan, '25']\n",
      "3614 ['제주특별자치도', '제주시', '한경면', '판포리', '1459 1']\n",
      "3615 ['경상북도', '경주시', '외동읍', '문산리', '956']\n",
      "3618 ['경상북도', '경산시', '계양동', nan, '732']\n",
      "3621 ['경상북도', '경주시', '감포읍', '전촌리', '221']\n",
      "3622 ['경상남도', '창녕군', '창녕읍', '조산리', '16']\n",
      "3624 ['전라북도', '고창군', '고창읍', '석교리', '6 4']\n",
      "3631 ['전라북도', '순창군', '팔덕면', '청계리', '958 18']\n",
      "3633 ['경기도', '남양주시', '화도읍', '마석우리', '551']\n",
      "3635 ['강원도', '평창군', '대관령면', '횡계리', '54 32']\n",
      "3637 ['전라북도', '부안군', '보안면', '유천리', '797 1']\n",
      "3639 ['전라북도', '부안군', '줄포면', '우포리', '132 1']\n",
      "3642 ['경상남도', '함양군', '마천면', '강청리', '197 3']\n",
      "3644 ['강원도', '정선군', '화암면', '화암리', '산248']\n",
      "3645 ['강원도', '정선군', '신동읍', '조동리', '산70 26']\n",
      "3646 ['경상남도', '산청군', '금서면', '매촌리', '710 4']\n",
      "3649 ['인천광역시', '서구', '경서동', nan, '673 6']\n",
      "3651 ['경상북도', '포항시 남구', '오천읍', '원리', '940']\n",
      "3653 ['부산광역시', '사상구', '덕포동', nan, '415 2']\n",
      "3654 ['경기도', '고양시 일산동구', '식사동', nan, '425 4']\n",
      "3655 ['경상북도', '포항시 북구', '흥해읍', '초곡리', '1430']\n",
      "3656 ['충청북도', '단양군', '적성면', '애곡리', '81']\n",
      "3659 ['경상북도', '포항시 북구', '장성동', nan, '1365']\n",
      "3661 ['경기도', '화성시', '봉담읍', '하가등리', '107 1']\n",
      "3664 ['경상북도', '영덕군', '병곡면', '병곡리', '72 7']\n",
      "3666 ['인천광역시', '계양구', '서운동', nan, '207 1']\n",
      "3667 ['전라북도', '남원시', '운봉읍', nan, '용산리266']\n",
      "3672 ['충청남도', '예산군', '예산읍', '신례원리', '611 151']\n",
      "3674 ['충청남도', '아산시', '배방읍', '북수리', '1783']\n",
      "3677 ['충청남도', '천안시 서북구', '두정동', nan, '91 1']\n",
      "3678 ['경상북도', '경주시', '강동면', '유금리', '1215']\n",
      "3682 ['경상북도', '영덕군', '병곡면', '덕천리', '1 59']\n",
      "3684 ['부산광역시', '해운대구', '좌동', nan, '사서함', '321 16호']\n",
      "3685 ['전라북도', '부안군', '하서면', '장신리', '1909 10']\n",
      "3689 ['충청남도', '예산군', '예산읍', '주교리', '243 2']\n",
      "3690 ['경상북도', '경주시', '산내면', '의곡리', '163 1']\n",
      "3691 ['충청남도', '천안시 동남구', '안서동', nan, '526 39']\n",
      "3692 ['충청남도', '예산군', '예산읍', '대회리', '221 3']\n",
      "3693 ['경상남도', '진주시', '평거동', nan, '202 1']\n",
      "3701 ['경상남도', '진주시', '신안동', nan, '9 3']\n",
      "3703 ['경상북도', '영주시', '안정면', '안심리', '131 6']\n",
      "3707 ['충청남도', '공주시', '신관동', nan, '4']\n",
      "3711 ['경상남도', '통영시', '광도면', '황리', '1645 2']\n",
      "3712 ['경상남도', '거제시', '남부면', '갈곶리', '85 2']\n",
      "3713 ['충청북도', '제천시', '덕산면', '월악리', '561 5']\n",
      "3719 ['경상남도', '진주시', '정촌면', '화개리', '976']\n",
      "3720 ['전라북도', '부안군', '변산면', '도청리', '172']\n",
      "3725 ['경상남도', '통영시', '산양읍', '연화리', '114 1']\n",
      "3732 ['경상남도', '통영시', '도남동', nan, '354']\n",
      "3748 ['제주특별자치도', '제주시', '한림읍', '한림리', '1377 48']\n",
      "3750 ['경상남도', '남해군', '창선면', '상죽리', '10 9']\n",
      "3754 ['경상북도', '영주시', '문수면', '적동리', '125 4']\n",
      "3757 ['경상북도', '울진군', '평해읍', '평해리', '855 2']\n",
      "3762 ['부산광역시', '강서구', '대저1동', nan, '1619']\n",
      "3763 ['경상남도', '김해시', '생림면', '생철리', '201']\n",
      "3765 ['경상남도', '고성군', '대가면', '유흥리', '304']\n",
      "3767 ['충청남도', '당진시', '면천면', '성상리', '331 1']\n",
      "3769 ['경상남도', '고성군', '영현면', '침점리', '356 2']\n",
      "3777 ['경기도', '포천시', '영북면', '대회산리', '396']\n",
      "3778 ['경기도', '포천시', '영북면', '대회산리', '408 3']\n",
      "3780 ['경기도', '포천시', '관인면', '중리', '526 9']\n",
      "3781 ['경상북도', '포항시 남구', '동해면', '임곡리', '123']\n",
      "3782 ['경기도', '남양주시', '다산동', nan, '6148']\n",
      "3783 ['울산광역시', '울주군', '삼동면', '보은리', '산213 15']\n",
      "3785 ['충청남도', '아산시', '방축동', nan, '655 5']\n",
      "3786 ['울산광역시', '울주군', '삼동면', '보은리', '산193 1']\n",
      "3791 ['경상북도', '김천시', '부곡동', nan, '899 2']\n",
      "3793 ['경기도', '안산시 단원구', '대부북동', nan, '1870 201']\n",
      "3797 ['전라북도', '부안군', '부안읍', '서외리', '566']\n",
      "3798 ['전라북도', '완주군', '삼례읍', '삼례리', '896 13']\n",
      "3801 ['경기도', '화성시', '석우동', nan, '60']\n",
      "3802 ['경상남도', '합천군', '가회면', '둔내리', '산219 16']\n",
      "3807 ['경상남도', '사천시', '사천읍', '수석리', '126']\n",
      "3813 ['전라남도', '구례군', '토지면', '내동리', '산', '69 2']\n",
      "3815 ['강원도', '춘천시', '삼천동', nan, '22 15']\n",
      "3817 ['경상남도', '진주시', '호탄동', nan, '769']\n",
      "3818 ['경상남도', '사천시', '대방동', nan, '765 3']\n",
      "3819 ['경상남도', '합천군', '합천읍', '합천리', '863 1']\n",
      "3821 ['경상북도', '경주시', '신평동', nan, '480 1']\n",
      "3823 ['충청남도', '천안시 서북구', '불당동', nan, '910']\n",
      "3824 ['경상남도', '통영시', '도남동', nan, '635']\n",
      "3831 ['경상북도', '안동시', '성곡동', nan, '1560']\n",
      "3834 ['서울특별시', '강남구', '수서동', nan, '718']\n",
      "3835 ['경상남도', '양산시', '덕계동', nan, '989']\n",
      "3837 ['경상남도', '고성군', '회화면', '봉동리', '1060 6']\n",
      "3839 ['대구광역시', '북구', '읍내동', nan, '660 2']\n",
      "3840 ['경상남도', '거제시', '거제면', '서정리', '790 1']\n",
      "3841 ['경상북도', '경주시', '북군동', nan, '8 28']\n",
      "3842 ['경상북도', '경주시', '동천동', nan, '800']\n",
      "3844 ['경상북도', '구미시', '선산읍', '원리', '1057 80']\n",
      "3845 ['경상북도', '포항시', '연일읍', '학전리', '산44 13']\n",
      "3846 ['경상북도', '구미시', '구포동', nan, '1168']\n",
      "3847 ['경상북도', '영덕군', '영덕읍', '화수리', '산24 3(상)']\n",
      "3848 ['경상남도', '하동군', '하동읍', '화심리', '1681']\n",
      "3849 ['경상북도', '영덕군', '축산면', '고곡리', '산92 1(하)']\n",
      "3851 ['경상북도', '경주시', '황성동', nan, '1053 231']\n",
      "3852 ['충청남도', '공주시', '송선동', nan, '320 16']\n",
      "3856 ['대구광역시', '달성군', '논공읍', '삼리리', '538 2']\n",
      "3860 ['충청북도', '청주시 청원구', '오동동', nan, '339 1']\n",
      "3861 ['경상남도', '의령군', '의령읍', '동동리', '1633']\n",
      "3862 ['경상남도', '창녕군', '창녕읍', '교상리', '28 35']\n",
      "3863 ['경상남도', '남해군', '삼동면', '봉화리', '2572 1']\n",
      "3867 ['경상남도', '거창군', '가조면', '도리', '454 9']\n",
      "3868 ['경상북도', '안동시', '도산면', '동부리', '36']\n",
      "3870 ['경상북도', '울진군', '북면', '부구리', '산', '103 5(상)']\n",
      "3873 ['경상북도', '울진군', '온정면', '소태리', '1208']\n",
      "3876 ['경상북도', '칠곡군', '석적읍', '반계리', '272 1']\n",
      "3880 ['경상북도', '상주시', '성동동', nan, '67 1']\n",
      "3885 ['울산광역시', '남구', '옥동', nan, '635 3']\n",
      "3892 ['경상북도', '경산시', '하양읍', '금락리', '374 42']\n",
      "3894 ['경상북도', '경주시', '신평동', nan, '417 6']\n",
      "3896 ['경상북도', '경주시', '신평동', nan, '391 2']\n",
      "3899 ['경상북도', '경주시', '신평동', nan, '485 4']\n",
      "3900 ['경상북도', '경주시', '신평동', nan, '719 216']\n",
      "3908 ['충청남도', '천안시 동남구', '구성동', nan, '153 77']\n",
      "3909 ['충청남도', '아산시', '온천동', nan, '1906']\n",
      "3911 ['충청남도', '천안시 동남구', '성남면', '대화리', '산8 12']\n",
      "3914 ['충청남도', '보령시', '대천동', nan, '406 6']\n",
      "3915 ['충청남도', '공주시', '의당면', '청룡리', '65 12']\n",
      "3925 ['전라남도', '장흥군', '장동면', '하산리', '산81 2']\n",
      "3928 ['전라남도', '순천시', '야흥동', nan, '268 3']\n",
      "3929 ['전라남도', '영암군', '미암면', '춘동리', '20 9']\n",
      "3931 ['전라남도', '순천시', '조례동', nan, '1114']\n",
      "3934 ['경기도', '안성시', '석정동', nan, '377']\n",
      "3941 ['경기도', '안산시 상록구', '장하동', nan, '산8 1']\n",
      "3944 ['경기도', '안산시 단원구', '성곡동', nan, '696']\n",
      "3950 ['충청북도', '보은군', '마로면', '적암리', '182 7']\n",
      "3952 ['강원도', '양구군', '양구읍', '하리', '321 9']\n",
      "3955 ['서울특별시', '강북구', '우이동', nan, '산101 5']\n",
      "3958 ['경기도', '평택시', '안중읍', '안중리', '302 7']\n",
      "3959 ['경기도', '평택시', '안중읍', '안중리', '277 193']\n",
      "3960 ['서울특별시', '마포구', '염리동', nan, '61 4']\n",
      "3966 ['경기도', '평택시', '안중읍', '현화리', '832 1']\n",
      "3969 ['서울특별시', '도봉구', '쌍문1동', nan, '378 35']\n",
      "3978 ['광주광역시', '북구', '삼각동', nan, '산148 1']\n",
      "3979 ['전라북도', '순창군', '순창읍', '백산리', '739 2']\n",
      "3997 ['강원도', '춘천시', '동산면', '조양리', '835 1']\n",
      "4008 ['경상북도', '포항시 남구', '연일읍', '학전리', '산44 13']\n",
      "4037 ['경상북도', '상주시', '함창읍', '오동리', '854']\n",
      "4039 ['전라북도', '장수군', '장계면', '장계리', '346']\n",
      "4045 ['경상북도', '울진군', '북면', '부구리', '산103 5(상)']\n",
      "4046 ['경상북도', '영덕군', '영덕읍', '화수리', '산24 3(상)']\n",
      "4049 ['대전광역시', '서구', '변동', nan, '57 1']\n",
      "4053 ['충청북도', '청주시 흥덕구', '옥산면', '장남리', '285 4']\n",
      "4057 ['충청북도', '충주시', '교현동', nan, '357 4']\n",
      "4060 ['충청북도', '음성군', '감곡면', '문촌리', '850 2']\n",
      "4063 ['광주광역시', '광산구', '송정동', nan, '1007 4']\n",
      "4064 ['충청남도', '예산군', '신양면', '서계양리', '736']\n",
      "4067 ['경상북도', '성주군', '선남면', '명포리', '883']\n",
      "4071 ['경상남도', '고성군', '마암면', '삼락리', '산96 20']\n",
      "4072 ['대전광역시', '서구', '변동', nan, '18 1']\n",
      "4073 ['경상남도', '진주시', '이반성면', '길성리', '916']\n",
      "4074 ['경상남도', '의령군', '가례면', '가례리', '320 1']\n",
      "4080 ['대전광역시', '유성구', '덕명동', nan, '513']\n",
      "4084 ['대전광역시', '유성구', '교촌동', nan, '636 1']\n",
      "4085 ['대전광역시', '서구', '관저동', nan, '843 16']\n",
      "4086 ['경상남도', '양산시', '물금읍', '가촌리', '990']\n",
      "4088 ['대전광역시', '유성구', '신성동', nan, '211 2']\n",
      "4091 ['경상남도', '밀양시', '산외면', '금곡리', '84 17']\n",
      "4092 ['충청북도', '음성군', '감곡면', '왕장리', '527 24']\n",
      "4093 ['경상북도', '경주시', '건천읍', '방내리', '12 5']\n",
      "4094 ['경상북도', '영천시', '청통면', '우천리', '산177 1']\n",
      "4096 ['대전광역시', '유성구', '송강동', nan, '36 8']\n",
      "4097 ['대전광역시', '유성구', '송강동', nan, '16 1']\n",
      "4102 ['전라남도', '목포시', '옥암동', nan, '1100']\n",
      "4108 ['전라남도', '화순군', '이양면', '매정리', '산1 7']\n",
      "4109 ['전라남도', '화순군', '이양면', '송정리', '산71 5']\n",
      "4115 ['전라남도', '장성군', '삼서면', '대곡리', '811 1']\n",
      "4117 ['대전광역시', '서구', '복수동', nan, '292 25']\n",
      "4119 ['강원도', '양양군', '현남면', '시변리', '산1 3']\n",
      "4122 ['전라북도', '완주군', '상관면', '용암리', '318 6']\n",
      "4127 ['경기도', '고양시 덕양구', '행주외동', nan, '60 10']\n",
      "4132 ['경기도', '시흥시', '정왕동', nan, '876 537']\n",
      "4135 ['경기도', '안산시 단원구', '초지동', nan, '674 1']\n",
      "4136 ['경상남도', '사천시', '실안동', nan, '1234 1']\n",
      "4137 ['경기도', '안산시 단원구', '고잔동', nan, '679 1']\n",
      "4141 ['경상남도', '거창군', '거창읍', '대평리', '598']\n",
      "4147 ['충청북도', '청주시 청원구', '오창읍', '구룡리', '376 1']\n",
      "4149 ['충청북도', '괴산군', '괴산읍', '대덕리', '79 11']\n",
      "4152 ['대구광역시', '수성구', '지산동', nan, '산', '136']\n",
      "4156 ['충청북도', '음성군', '금왕읍', '용계리', '192']\n",
      "4157 ['충청북도', '음성군', '삼성면', '양덕리', '472 3']\n",
      "4168 ['충청북도', '충주시', '금가면', '문산리', '100 3']\n",
      "4171 ['충청남도', '서산시', '예천동', nan, '1277 3']\n",
      "4176 ['충청남도', '서산시', '동문동', nan, '934 9']\n",
      "4177 ['충청남도', '서산시', '음암면', '도당리', '1304 3']\n",
      "4182 ['전라남도', '나주시', '빛가람동', nan, '891 2']\n",
      "4185 ['강원도', '춘천시', '신북읍', '용산리', '산102 3']\n",
      "4193 ['강원도', '춘천시', '동내면', '학곡리', '산76 3']\n",
      "4201 ['강원도', '인제군', '인제읍', '고사리', '219 9']\n",
      "4202 ['충청북도', '충주시', '앙성면', '지당리', '235']\n",
      "4212 ['광주광역시', '북구', '운암동', nan, '1582']\n",
      "4216 ['충청북도', '청주시 흥덕구', '오송읍', '오송리', '5 2']\n",
      "4220 ['충청남도', '서산시', '동문동', nan, '982 4']\n",
      "4226 ['경상북도', '영천시', '임고면', '금대리', '140 1']\n",
      "4229 ['강원도', '양양군', '손양면', '오산리', '71']\n",
      "4235 ['경상북도', '영주시', '봉현면', '오현리', '725']\n",
      "4242 ['경기도', '남양주시', '평내동', nan, '588 3']\n",
      "4243 ['강원도', '평창군', '평창읍', '하리', '107']\n",
      "4247 ['인천광역시', '강화군', '강화읍', '관청리', '201 3']\n",
      "4250 ['강원도', '홍천군', '남면', '양덕원리', '62 1']\n",
      "4254 ['전라북도', '고창군', '고창읍', '월암리', '349 20']\n",
      "4255 ['충청남도', '보령시', '주교면', '주교리', '903 34']\n",
      "4260 ['충청남도', '예산군', '대흥면', '탄방리', '136']\n",
      "4271 ['전라남도', '장성군', '황룡면', '아곡리', '42 2']\n",
      "4276 ['충청북도', '영동군', '황간면', '회포리', '117']\n",
      "4281 ['경기도', '여주시', '대신면', '천남리', '384 8']\n",
      "4282 ['경기도', '이천시', '백사면', '경사리', '615 3']\n",
      "4283 ['충청북도', '영동군', '황간면', '마산리', '758']\n",
      "4284 ['경기도', '이천시', '신둔면', '도봉리', '557 15']\n",
      "4286 ['서울특별시', '강남구', '일원동', nan, '4 49']\n",
      "4288 ['경기도', '이천시', '신둔면', '도봉리', '547']\n",
      "4296 ['경기도', '여주시', '대신면', '천남리', '384 7']\n",
      "4298 ['인천광역시', '연수구', '청학동', nan, '466 1']\n",
      "4299 ['인천광역시', '연수구', '청학동', nan, '90 5']\n",
      "4305 ['전라북도', '부안군', '부안읍', '서외리', '55 3']\n",
      "4308 ['전라북도', '완주군', '이서면', '상개리', '산42 6']\n",
      "4309 ['전라북도', '임실군', '강진면', '학석리', '339 5']\n",
      "4312 ['제주특별자치도', '서귀포시', '안덕면', '서광리', '산35 7']\n",
      "4313 ['제주특별자치도', '제주시', '조천읍', '교래리', '산98 2']\n",
      "4316 ['제주특별자치도', '서귀포시', '대정읍', '하모리', '860 7']\n",
      "4317 ['제주특별자치도', '서귀포시', '남원읍', '남원리', '180']\n",
      "4319 ['제주특별자치도', '서귀포시', '신효동', nan, '881 8']\n",
      "4325 ['경상북도', '상주시', '화서면', '상용리', '396 9']\n",
      "4328 ['강원도', '영월군', '무릉도원면', '무릉리', '918 4']\n",
      "4330 ['강원도', '삼척시', '원덕읍', '임원리', '565']\n",
      "4332 ['강원도', '삼척시', '근덕면', '초곡리', '산58 7']\n",
      "4334 ['부산광역시', '기장군', '장안읍', '명례리', '835']\n",
      "4337 ['충청남도', '서산시', '읍내동', nan, '472 5']\n",
      "4348 ['경상남도', '김해시', '대청동', nan, '산63 2']\n",
      "4349 ['경상남도', '김해시', '진영읍', '본산리', '121 84']\n",
      "4354 ['전라남도', '강진군', '강진읍', '남성리', '46 13']\n",
      "4361 ['전라남도', '장흥군', '부산면', '호계리', '산215 2']\n"
     ]
    }
   ],
   "source": [
    "# 5번째 구분에 '-로, -길' 주소 존재 여부 체크\n",
    "count = 0\n",
    "idx9 = []\n",
    "for i, one in enumerate(adr3):\n",
    "    try:\n",
    "        if not ad5_p.search(one[4]):\n",
    "            idx9.append(i)\n",
    "            count += 1\n",
    "            print(i, one)\n",
    "    except:\n",
    "        pass"
   ]
  },
  {
   "cell_type": "code",
   "execution_count": 1497,
   "metadata": {},
   "outputs": [
    {
     "data": {
      "text/plain": [
       "1535"
      ]
     },
     "execution_count": 1497,
     "metadata": {},
     "output_type": "execute_result"
    }
   ],
   "source": [
    "count"
   ]
  },
  {
   "cell_type": "code",
   "execution_count": 1498,
   "metadata": {},
   "outputs": [
    {
     "name": "stderr",
     "output_type": "stream",
     "text": [
      "100%|██████████| 1535/1535 [00:00<00:00, 769206.29it/s]\n"
     ]
    }
   ],
   "source": [
    "for i in tqdm(idx9):\n",
    "    adr3[i].insert(4, np.nan)"
   ]
  },
  {
   "cell_type": "code",
   "execution_count": 1499,
   "metadata": {},
   "outputs": [
    {
     "data": {
      "text/plain": [
       "[0, 2, 5, 6, 7]"
      ]
     },
     "execution_count": 1499,
     "metadata": {},
     "output_type": "execute_result"
    }
   ],
   "source": [
    "idx9[:5]"
   ]
  },
  {
   "cell_type": "code",
   "execution_count": 1500,
   "metadata": {},
   "outputs": [
    {
     "data": {
      "text/plain": [
       "['강원도', '인제군', '상남면', '하남리', nan, '339 7(양양방향)']"
      ]
     },
     "execution_count": 1500,
     "metadata": {},
     "output_type": "execute_result"
    }
   ],
   "source": [
    "adr3[0]"
   ]
  },
  {
   "cell_type": "code",
   "execution_count": 1501,
   "metadata": {},
   "outputs": [
    {
     "data": {
      "text/plain": [
       "['전라북도', '부안군', '변산면', '격포리', nan, '283 1']"
      ]
     },
     "execution_count": 1501,
     "metadata": {},
     "output_type": "execute_result"
    }
   ],
   "source": [
    "adr3[7]"
   ]
  },
  {
   "cell_type": "code",
   "execution_count": 1502,
   "metadata": {},
   "outputs": [
    {
     "data": {
      "text/plain": [
       "['경상남도', '김해시', '진영읍', nan, '하계로96번길', '94 4', '주유소', '옆', '주차장']"
      ]
     },
     "execution_count": 1502,
     "metadata": {},
     "output_type": "execute_result"
    }
   ],
   "source": [
    "adr3[858]"
   ]
  },
  {
   "cell_type": "markdown",
   "metadata": {},
   "source": [
    "#### df 만들기"
   ]
  },
  {
   "cell_type": "code",
   "execution_count": 1503,
   "metadata": {},
   "outputs": [],
   "source": [
    "sliced_adr = [one[:5] for one in adr3]"
   ]
  },
  {
   "cell_type": "code",
   "execution_count": 1504,
   "metadata": {},
   "outputs": [
    {
     "data": {
      "text/html": [
       "<div>\n",
       "<style scoped>\n",
       "    .dataframe tbody tr th:only-of-type {\n",
       "        vertical-align: middle;\n",
       "    }\n",
       "\n",
       "    .dataframe tbody tr th {\n",
       "        vertical-align: top;\n",
       "    }\n",
       "\n",
       "    .dataframe thead th {\n",
       "        text-align: right;\n",
       "    }\n",
       "</style>\n",
       "<table border=\"1\" class=\"dataframe\">\n",
       "  <thead>\n",
       "    <tr style=\"text-align: right;\">\n",
       "      <th></th>\n",
       "      <th>지역</th>\n",
       "      <th>시군구</th>\n",
       "      <th>읍면동</th>\n",
       "      <th>리</th>\n",
       "      <th>도로명</th>\n",
       "    </tr>\n",
       "  </thead>\n",
       "  <tbody>\n",
       "    <tr>\n",
       "      <th>0</th>\n",
       "      <td>강원도</td>\n",
       "      <td>인제군</td>\n",
       "      <td>상남면</td>\n",
       "      <td>하남리</td>\n",
       "      <td>NaN</td>\n",
       "    </tr>\n",
       "    <tr>\n",
       "      <th>1</th>\n",
       "      <td>광주광역시</td>\n",
       "      <td>북구</td>\n",
       "      <td>NaN</td>\n",
       "      <td>NaN</td>\n",
       "      <td>첨단벤처로108번길</td>\n",
       "    </tr>\n",
       "    <tr>\n",
       "      <th>2</th>\n",
       "      <td>전라남도</td>\n",
       "      <td>순천시</td>\n",
       "      <td>해룡면</td>\n",
       "      <td>남가리</td>\n",
       "      <td>NaN</td>\n",
       "    </tr>\n",
       "    <tr>\n",
       "      <th>3</th>\n",
       "      <td>전라남도</td>\n",
       "      <td>구례군</td>\n",
       "      <td>산동면</td>\n",
       "      <td>NaN</td>\n",
       "      <td>산업로</td>\n",
       "    </tr>\n",
       "    <tr>\n",
       "      <th>4</th>\n",
       "      <td>전라남도</td>\n",
       "      <td>구례군</td>\n",
       "      <td>산동면</td>\n",
       "      <td>NaN</td>\n",
       "      <td>노고단로</td>\n",
       "    </tr>\n",
       "  </tbody>\n",
       "</table>\n",
       "</div>"
      ],
      "text/plain": [
       "      지역  시군구  읍면동    리         도로명\n",
       "0    강원도  인제군  상남면  하남리         NaN\n",
       "1  광주광역시   북구  NaN  NaN  첨단벤처로108번길\n",
       "2   전라남도  순천시  해룡면  남가리         NaN\n",
       "3   전라남도  구례군  산동면  NaN         산업로\n",
       "4   전라남도  구례군  산동면  NaN        노고단로"
      ]
     },
     "execution_count": 1504,
     "metadata": {},
     "output_type": "execute_result"
    }
   ],
   "source": [
    "sliced_adr_df = pd.DataFrame(sliced_adr, columns=['지역', '시군구', '읍면동', '리', '도로명'])\n",
    "sliced_adr_df.head()"
   ]
  },
  {
   "cell_type": "code",
   "execution_count": 1505,
   "metadata": {},
   "outputs": [
    {
     "data": {
      "text/plain": [
       "(4364, 5)"
      ]
     },
     "execution_count": 1505,
     "metadata": {},
     "output_type": "execute_result"
    }
   ],
   "source": [
    "sliced_adr_df.shape"
   ]
  },
  {
   "cell_type": "code",
   "execution_count": 1506,
   "metadata": {},
   "outputs": [
    {
     "data": {
      "text/plain": [
       "지역        경상남도\n",
       "시군구        김해시\n",
       "읍면동        진영읍\n",
       "리          NaN\n",
       "도로명    하계로96번길\n",
       "Name: 858, dtype: object"
      ]
     },
     "execution_count": 1506,
     "metadata": {},
     "output_type": "execute_result"
    }
   ],
   "source": [
    "sliced_adr_df.iloc[858]"
   ]
  },
  {
   "cell_type": "code",
   "execution_count": 1507,
   "metadata": {},
   "outputs": [
    {
     "name": "stdout",
     "output_type": "stream",
     "text": [
      "nan\n",
      "None\n"
     ]
    }
   ],
   "source": [
    "for one in sliced_adr_df['도로명'].unique():\n",
    "    if not (('로' in str(one)) or ('길' in str(one)) or ('번길' in str(one))) and (one != np.nan):\n",
    "        print(one)"
   ]
  },
  {
   "cell_type": "code",
   "execution_count": 1508,
   "metadata": {},
   "outputs": [
    {
     "data": {
      "text/plain": [
       "4364"
      ]
     },
     "execution_count": 1508,
     "metadata": {},
     "output_type": "execute_result"
    }
   ],
   "source": [
    "len(df2['주소'])"
   ]
  },
  {
   "cell_type": "code",
   "execution_count": 1509,
   "metadata": {},
   "outputs": [
    {
     "data": {
      "text/plain": [
       "'경상남도 김해시 진영읍 하계로96번길 94-4 , 주유소 옆 주차장'"
      ]
     },
     "execution_count": 1509,
     "metadata": {},
     "output_type": "execute_result"
    }
   ],
   "source": [
    "df2.loc[858, '주소']"
   ]
  },
  {
   "cell_type": "code",
   "execution_count": 1510,
   "metadata": {},
   "outputs": [
    {
     "data": {
      "text/html": [
       "<div>\n",
       "<style scoped>\n",
       "    .dataframe tbody tr th:only-of-type {\n",
       "        vertical-align: middle;\n",
       "    }\n",
       "\n",
       "    .dataframe tbody tr th {\n",
       "        vertical-align: top;\n",
       "    }\n",
       "\n",
       "    .dataframe thead th {\n",
       "        text-align: right;\n",
       "    }\n",
       "</style>\n",
       "<table border=\"1\" class=\"dataframe\">\n",
       "  <thead>\n",
       "    <tr style=\"text-align: right;\">\n",
       "      <th></th>\n",
       "      <th>지역</th>\n",
       "      <th>시군구</th>\n",
       "      <th>읍면동</th>\n",
       "      <th>리</th>\n",
       "      <th>도로명</th>\n",
       "      <th>주소</th>\n",
       "    </tr>\n",
       "  </thead>\n",
       "  <tbody>\n",
       "    <tr>\n",
       "      <th>0</th>\n",
       "      <td>강원도</td>\n",
       "      <td>인제군</td>\n",
       "      <td>상남면</td>\n",
       "      <td>하남리</td>\n",
       "      <td>NaN</td>\n",
       "      <td>강원도 인제군 상남면 하남리 339-7(양양방향)</td>\n",
       "    </tr>\n",
       "    <tr>\n",
       "      <th>1</th>\n",
       "      <td>광주광역시</td>\n",
       "      <td>북구</td>\n",
       "      <td>NaN</td>\n",
       "      <td>NaN</td>\n",
       "      <td>첨단벤처로108번길</td>\n",
       "      <td>광주광역시 북구 첨단 벤처로 108번길 9</td>\n",
       "    </tr>\n",
       "    <tr>\n",
       "      <th>2</th>\n",
       "      <td>전라남도</td>\n",
       "      <td>순천시</td>\n",
       "      <td>해룡면</td>\n",
       "      <td>남가리</td>\n",
       "      <td>NaN</td>\n",
       "      <td>전라남도 순천시 해룡면 남가리 733-73</td>\n",
       "    </tr>\n",
       "    <tr>\n",
       "      <th>3</th>\n",
       "      <td>전라남도</td>\n",
       "      <td>구례군</td>\n",
       "      <td>산동면</td>\n",
       "      <td>NaN</td>\n",
       "      <td>산업로</td>\n",
       "      <td>전라남도 구례군 산동면 산업로 2319</td>\n",
       "    </tr>\n",
       "    <tr>\n",
       "      <th>4</th>\n",
       "      <td>전라남도</td>\n",
       "      <td>구례군</td>\n",
       "      <td>산동면</td>\n",
       "      <td>NaN</td>\n",
       "      <td>노고단로</td>\n",
       "      <td>전라남도 구례군 산동면 노고단로1068</td>\n",
       "    </tr>\n",
       "  </tbody>\n",
       "</table>\n",
       "</div>"
      ],
      "text/plain": [
       "      지역  시군구  읍면동    리         도로명                           주소\n",
       "0    강원도  인제군  상남면  하남리         NaN  강원도 인제군 상남면 하남리 339-7(양양방향)\n",
       "1  광주광역시   북구  NaN  NaN  첨단벤처로108번길      광주광역시 북구 첨단 벤처로 108번길 9\n",
       "2   전라남도  순천시  해룡면  남가리         NaN      전라남도 순천시 해룡면 남가리 733-73\n",
       "3   전라남도  구례군  산동면  NaN         산업로        전라남도 구례군 산동면 산업로 2319\n",
       "4   전라남도  구례군  산동면  NaN        노고단로        전라남도 구례군 산동면 노고단로1068"
      ]
     },
     "execution_count": 1510,
     "metadata": {},
     "output_type": "execute_result"
    }
   ],
   "source": [
    "sliced_adr_df['주소'] = df2['주소']\n",
    "sliced_adr_df.head()"
   ]
  },
  {
   "cell_type": "code",
   "execution_count": 1511,
   "metadata": {},
   "outputs": [
    {
     "data": {
      "text/html": [
       "<div>\n",
       "<style scoped>\n",
       "    .dataframe tbody tr th:only-of-type {\n",
       "        vertical-align: middle;\n",
       "    }\n",
       "\n",
       "    .dataframe tbody tr th {\n",
       "        vertical-align: top;\n",
       "    }\n",
       "\n",
       "    .dataframe thead th {\n",
       "        text-align: right;\n",
       "    }\n",
       "</style>\n",
       "<table border=\"1\" class=\"dataframe\">\n",
       "  <thead>\n",
       "    <tr style=\"text-align: right;\">\n",
       "      <th></th>\n",
       "      <th>지역</th>\n",
       "      <th>시군구</th>\n",
       "      <th>읍면동</th>\n",
       "      <th>리</th>\n",
       "      <th>도로명</th>\n",
       "      <th>주소</th>\n",
       "    </tr>\n",
       "  </thead>\n",
       "  <tbody>\n",
       "    <tr>\n",
       "      <th>4359</th>\n",
       "      <td>전라북도</td>\n",
       "      <td>장수군</td>\n",
       "      <td>장수읍</td>\n",
       "      <td>NaN</td>\n",
       "      <td>장천로</td>\n",
       "      <td>전라북도 장수군 장수읍 장천로 247</td>\n",
       "    </tr>\n",
       "    <tr>\n",
       "      <th>4360</th>\n",
       "      <td>인천광역시</td>\n",
       "      <td>서구</td>\n",
       "      <td>NaN</td>\n",
       "      <td>NaN</td>\n",
       "      <td>정서진1로</td>\n",
       "      <td>인천광역시 서구 정서진1로 41</td>\n",
       "    </tr>\n",
       "    <tr>\n",
       "      <th>4361</th>\n",
       "      <td>전라남도</td>\n",
       "      <td>장흥군</td>\n",
       "      <td>부산면</td>\n",
       "      <td>호계리</td>\n",
       "      <td>NaN</td>\n",
       "      <td>전라남도 장흥군 부산면 호계리 산215-2</td>\n",
       "    </tr>\n",
       "    <tr>\n",
       "      <th>4362</th>\n",
       "      <td>제주특별자치도</td>\n",
       "      <td>제주시</td>\n",
       "      <td>NaN</td>\n",
       "      <td>NaN</td>\n",
       "      <td>천수로</td>\n",
       "      <td>제주특별자치도 제주시 천수로 72</td>\n",
       "    </tr>\n",
       "    <tr>\n",
       "      <th>4363</th>\n",
       "      <td>경기도</td>\n",
       "      <td>용인시 처인구</td>\n",
       "      <td>NaN</td>\n",
       "      <td>NaN</td>\n",
       "      <td>동백죽전대로</td>\n",
       "      <td>경기도 용인시 처인구 동백죽전대로 61</td>\n",
       "    </tr>\n",
       "  </tbody>\n",
       "</table>\n",
       "</div>"
      ],
      "text/plain": [
       "           지역      시군구  읍면동    리     도로명                       주소\n",
       "4359     전라북도      장수군  장수읍  NaN     장천로     전라북도 장수군 장수읍 장천로 247\n",
       "4360    인천광역시       서구  NaN  NaN   정서진1로        인천광역시 서구 정서진1로 41\n",
       "4361     전라남도      장흥군  부산면  호계리     NaN  전라남도 장흥군 부산면 호계리 산215-2\n",
       "4362  제주특별자치도      제주시  NaN  NaN     천수로       제주특별자치도 제주시 천수로 72\n",
       "4363      경기도  용인시 처인구  NaN  NaN  동백죽전대로    경기도 용인시 처인구 동백죽전대로 61"
      ]
     },
     "execution_count": 1511,
     "metadata": {},
     "output_type": "execute_result"
    }
   ],
   "source": [
    "sliced_adr_df.tail()"
   ]
  },
  {
   "cell_type": "code",
   "execution_count": 1512,
   "metadata": {},
   "outputs": [
    {
     "data": {
      "text/html": [
       "<div>\n",
       "<style scoped>\n",
       "    .dataframe tbody tr th:only-of-type {\n",
       "        vertical-align: middle;\n",
       "    }\n",
       "\n",
       "    .dataframe tbody tr th {\n",
       "        vertical-align: top;\n",
       "    }\n",
       "\n",
       "    .dataframe thead th {\n",
       "        text-align: right;\n",
       "    }\n",
       "</style>\n",
       "<table border=\"1\" class=\"dataframe\">\n",
       "  <thead>\n",
       "    <tr style=\"text-align: right;\">\n",
       "      <th></th>\n",
       "      <th>주소</th>\n",
       "      <th>ad1</th>\n",
       "      <th>ad2</th>\n",
       "      <th>ad3</th>\n",
       "      <th>ad4</th>\n",
       "      <th>ad5</th>\n",
       "    </tr>\n",
       "  </thead>\n",
       "  <tbody>\n",
       "    <tr>\n",
       "      <th>0</th>\n",
       "      <td>강원도 인제군 상남면 하남리 339-7(양양방향)</td>\n",
       "      <td>강원도</td>\n",
       "      <td>인제군</td>\n",
       "      <td>상남면</td>\n",
       "      <td>하남리</td>\n",
       "      <td>NaN</td>\n",
       "    </tr>\n",
       "    <tr>\n",
       "      <th>1</th>\n",
       "      <td>광주광역시 북구 첨단 벤처로 108번길 9</td>\n",
       "      <td>광주광역시</td>\n",
       "      <td>북구</td>\n",
       "      <td>NaN</td>\n",
       "      <td>NaN</td>\n",
       "      <td>첨단벤처로108번길</td>\n",
       "    </tr>\n",
       "    <tr>\n",
       "      <th>2</th>\n",
       "      <td>전라남도 순천시 해룡면 남가리 733-73</td>\n",
       "      <td>전라남도</td>\n",
       "      <td>순천시</td>\n",
       "      <td>해룡면</td>\n",
       "      <td>남가리</td>\n",
       "      <td>NaN</td>\n",
       "    </tr>\n",
       "    <tr>\n",
       "      <th>3</th>\n",
       "      <td>전라남도 구례군 산동면 산업로 2319</td>\n",
       "      <td>전라남도</td>\n",
       "      <td>구례군</td>\n",
       "      <td>산동면</td>\n",
       "      <td>NaN</td>\n",
       "      <td>산업로</td>\n",
       "    </tr>\n",
       "    <tr>\n",
       "      <th>4</th>\n",
       "      <td>전라남도 구례군 산동면 노고단로1068</td>\n",
       "      <td>전라남도</td>\n",
       "      <td>구례군</td>\n",
       "      <td>산동면</td>\n",
       "      <td>NaN</td>\n",
       "      <td>노고단로</td>\n",
       "    </tr>\n",
       "  </tbody>\n",
       "</table>\n",
       "</div>"
      ],
      "text/plain": [
       "                            주소    ad1  ad2  ad3  ad4         ad5\n",
       "0  강원도 인제군 상남면 하남리 339-7(양양방향)    강원도  인제군  상남면  하남리         NaN\n",
       "1      광주광역시 북구 첨단 벤처로 108번길 9  광주광역시   북구  NaN  NaN  첨단벤처로108번길\n",
       "2      전라남도 순천시 해룡면 남가리 733-73   전라남도  순천시  해룡면  남가리         NaN\n",
       "3        전라남도 구례군 산동면 산업로 2319   전라남도  구례군  산동면  NaN         산업로\n",
       "4        전라남도 구례군 산동면 노고단로1068   전라남도  구례군  산동면  NaN        노고단로"
      ]
     },
     "execution_count": 1512,
     "metadata": {},
     "output_type": "execute_result"
    }
   ],
   "source": [
    "sliced_adr_df2 = sliced_adr_df.copy()\n",
    "sliced_adr_df2.columns = ['ad1', 'ad2', 'ad3', 'ad4', 'ad5', '주소']\n",
    "sliced_adr_df2 = sliced_adr_df2[['주소', 'ad1', 'ad2', 'ad3', 'ad4', 'ad5']]\n",
    "sliced_adr_df2.head()"
   ]
  },
  {
   "cell_type": "code",
   "execution_count": 1513,
   "metadata": {},
   "outputs": [
    {
     "name": "stdout",
     "output_type": "stream",
     "text": [
      "<class 'pandas.core.frame.DataFrame'>\n",
      "RangeIndex: 4364 entries, 0 to 4363\n",
      "Data columns (total 6 columns):\n",
      " #   Column  Non-Null Count  Dtype \n",
      "---  ------  --------------  ----- \n",
      " 0   주소      4364 non-null   object\n",
      " 1   ad1     4364 non-null   object\n",
      " 2   ad2     4333 non-null   object\n",
      " 3   ad3     2947 non-null   object\n",
      " 4   ad4     919 non-null    object\n",
      " 5   ad5     2802 non-null   object\n",
      "dtypes: object(6)\n",
      "memory usage: 204.7+ KB\n"
     ]
    }
   ],
   "source": [
    "sliced_adr_df2.info()"
   ]
  },
  {
   "cell_type": "code",
   "execution_count": 1514,
   "metadata": {},
   "outputs": [
    {
     "data": {
      "text/html": [
       "<div>\n",
       "<style scoped>\n",
       "    .dataframe tbody tr th:only-of-type {\n",
       "        vertical-align: middle;\n",
       "    }\n",
       "\n",
       "    .dataframe tbody tr th {\n",
       "        vertical-align: top;\n",
       "    }\n",
       "\n",
       "    .dataframe thead th {\n",
       "        text-align: right;\n",
       "    }\n",
       "</style>\n",
       "<table border=\"1\" class=\"dataframe\">\n",
       "  <thead>\n",
       "    <tr style=\"text-align: right;\">\n",
       "      <th></th>\n",
       "      <th>주소</th>\n",
       "      <th>ad1</th>\n",
       "      <th>ad2</th>\n",
       "      <th>ad3</th>\n",
       "      <th>ad4</th>\n",
       "      <th>ad5</th>\n",
       "    </tr>\n",
       "  </thead>\n",
       "  <tbody>\n",
       "    <tr>\n",
       "      <th>1</th>\n",
       "      <td>광주광역시 북구 첨단 벤처로 108번길 9</td>\n",
       "      <td>광주광역시</td>\n",
       "      <td>북구</td>\n",
       "      <td>NaN</td>\n",
       "      <td>NaN</td>\n",
       "      <td>첨단벤처로108번길</td>\n",
       "    </tr>\n",
       "    <tr>\n",
       "      <th>3</th>\n",
       "      <td>전라남도 구례군 산동면 산업로 2319</td>\n",
       "      <td>전라남도</td>\n",
       "      <td>구례군</td>\n",
       "      <td>산동면</td>\n",
       "      <td>NaN</td>\n",
       "      <td>산업로</td>\n",
       "    </tr>\n",
       "    <tr>\n",
       "      <th>4</th>\n",
       "      <td>전라남도 구례군 산동면 노고단로1068</td>\n",
       "      <td>전라남도</td>\n",
       "      <td>구례군</td>\n",
       "      <td>산동면</td>\n",
       "      <td>NaN</td>\n",
       "      <td>노고단로</td>\n",
       "    </tr>\n",
       "    <tr>\n",
       "      <th>9</th>\n",
       "      <td>전라남도 무안군 망운면 공항로 970-260</td>\n",
       "      <td>전라남도</td>\n",
       "      <td>무안군</td>\n",
       "      <td>망운면</td>\n",
       "      <td>NaN</td>\n",
       "      <td>공항로</td>\n",
       "    </tr>\n",
       "    <tr>\n",
       "      <th>10</th>\n",
       "      <td>전라남도 무안군 삼향읍 오룡1길 (E주차장-전라남도관광안내소)</td>\n",
       "      <td>전라남도</td>\n",
       "      <td>무안군</td>\n",
       "      <td>삼향읍</td>\n",
       "      <td>NaN</td>\n",
       "      <td>오룡1길</td>\n",
       "    </tr>\n",
       "  </tbody>\n",
       "</table>\n",
       "</div>"
      ],
      "text/plain": [
       "                                    주소    ad1  ad2  ad3  ad4         ad5\n",
       "1              광주광역시 북구 첨단 벤처로 108번길 9  광주광역시   북구  NaN  NaN  첨단벤처로108번길\n",
       "3                전라남도 구례군 산동면 산업로 2319   전라남도  구례군  산동면  NaN         산업로\n",
       "4                전라남도 구례군 산동면 노고단로1068   전라남도  구례군  산동면  NaN        노고단로\n",
       "9             전라남도 무안군 망운면 공항로 970-260   전라남도  무안군  망운면  NaN         공항로\n",
       "10  전라남도 무안군 삼향읍 오룡1길 (E주차장-전라남도관광안내소)   전라남도  무안군  삼향읍  NaN        오룡1길"
      ]
     },
     "execution_count": 1514,
     "metadata": {},
     "output_type": "execute_result"
    }
   ],
   "source": [
    "sliced_adr_df2[sliced_adr_df2['ad5'].notnull() == True].head()"
   ]
  },
  {
   "cell_type": "code",
   "execution_count": 1515,
   "metadata": {},
   "outputs": [
    {
     "data": {
      "text/plain": [
       "2802"
      ]
     },
     "execution_count": 1515,
     "metadata": {},
     "output_type": "execute_result"
    }
   ],
   "source": [
    "new_adr_idx = sliced_adr_df2[sliced_adr_df2['ad5'].notnull() == True].index\n",
    "len(new_adr_idx)"
   ]
  },
  {
   "cell_type": "code",
   "execution_count": 1516,
   "metadata": {},
   "outputs": [
    {
     "data": {
      "text/plain": [
       "[1, 3, 4, 9, 10]"
      ]
     },
     "execution_count": 1516,
     "metadata": {},
     "output_type": "execute_result"
    }
   ],
   "source": [
    "new_adr_idx = list(new_adr_idx)\n",
    "new_adr_idx[:5]"
   ]
  },
  {
   "cell_type": "code",
   "execution_count": 1517,
   "metadata": {},
   "outputs": [],
   "source": [
    "sort_idx = ['old']*4364"
   ]
  },
  {
   "cell_type": "code",
   "execution_count": 1518,
   "metadata": {},
   "outputs": [],
   "source": [
    "for i in new_adr_idx:\n",
    "    sort_idx[i] = 'new'"
   ]
  },
  {
   "cell_type": "code",
   "execution_count": 1519,
   "metadata": {},
   "outputs": [
    {
     "data": {
      "text/plain": [
       "['old', 'new', 'old', 'new', 'new', 'old', 'old', 'old', 'old', 'new']"
      ]
     },
     "execution_count": 1519,
     "metadata": {},
     "output_type": "execute_result"
    }
   ],
   "source": [
    "sort_idx[:10]"
   ]
  },
  {
   "cell_type": "code",
   "execution_count": 1520,
   "metadata": {},
   "outputs": [
    {
     "data": {
      "text/html": [
       "<div>\n",
       "<style scoped>\n",
       "    .dataframe tbody tr th:only-of-type {\n",
       "        vertical-align: middle;\n",
       "    }\n",
       "\n",
       "    .dataframe tbody tr th {\n",
       "        vertical-align: top;\n",
       "    }\n",
       "\n",
       "    .dataframe thead th {\n",
       "        text-align: right;\n",
       "    }\n",
       "</style>\n",
       "<table border=\"1\" class=\"dataframe\">\n",
       "  <thead>\n",
       "    <tr style=\"text-align: right;\">\n",
       "      <th></th>\n",
       "      <th>주소</th>\n",
       "      <th>ad1</th>\n",
       "      <th>ad2</th>\n",
       "      <th>ad3</th>\n",
       "      <th>ad4</th>\n",
       "      <th>ad5</th>\n",
       "      <th>주소분류</th>\n",
       "    </tr>\n",
       "  </thead>\n",
       "  <tbody>\n",
       "    <tr>\n",
       "      <th>0</th>\n",
       "      <td>강원도 인제군 상남면 하남리 339-7(양양방향)</td>\n",
       "      <td>강원도</td>\n",
       "      <td>인제군</td>\n",
       "      <td>상남면</td>\n",
       "      <td>하남리</td>\n",
       "      <td>NaN</td>\n",
       "      <td>old</td>\n",
       "    </tr>\n",
       "    <tr>\n",
       "      <th>1</th>\n",
       "      <td>광주광역시 북구 첨단 벤처로 108번길 9</td>\n",
       "      <td>광주광역시</td>\n",
       "      <td>북구</td>\n",
       "      <td>NaN</td>\n",
       "      <td>NaN</td>\n",
       "      <td>첨단벤처로108번길</td>\n",
       "      <td>new</td>\n",
       "    </tr>\n",
       "    <tr>\n",
       "      <th>2</th>\n",
       "      <td>전라남도 순천시 해룡면 남가리 733-73</td>\n",
       "      <td>전라남도</td>\n",
       "      <td>순천시</td>\n",
       "      <td>해룡면</td>\n",
       "      <td>남가리</td>\n",
       "      <td>NaN</td>\n",
       "      <td>old</td>\n",
       "    </tr>\n",
       "    <tr>\n",
       "      <th>3</th>\n",
       "      <td>전라남도 구례군 산동면 산업로 2319</td>\n",
       "      <td>전라남도</td>\n",
       "      <td>구례군</td>\n",
       "      <td>산동면</td>\n",
       "      <td>NaN</td>\n",
       "      <td>산업로</td>\n",
       "      <td>new</td>\n",
       "    </tr>\n",
       "    <tr>\n",
       "      <th>4</th>\n",
       "      <td>전라남도 구례군 산동면 노고단로1068</td>\n",
       "      <td>전라남도</td>\n",
       "      <td>구례군</td>\n",
       "      <td>산동면</td>\n",
       "      <td>NaN</td>\n",
       "      <td>노고단로</td>\n",
       "      <td>new</td>\n",
       "    </tr>\n",
       "  </tbody>\n",
       "</table>\n",
       "</div>"
      ],
      "text/plain": [
       "                            주소    ad1  ad2  ad3  ad4         ad5 주소분류\n",
       "0  강원도 인제군 상남면 하남리 339-7(양양방향)    강원도  인제군  상남면  하남리         NaN  old\n",
       "1      광주광역시 북구 첨단 벤처로 108번길 9  광주광역시   북구  NaN  NaN  첨단벤처로108번길  new\n",
       "2      전라남도 순천시 해룡면 남가리 733-73   전라남도  순천시  해룡면  남가리         NaN  old\n",
       "3        전라남도 구례군 산동면 산업로 2319   전라남도  구례군  산동면  NaN         산업로  new\n",
       "4        전라남도 구례군 산동면 노고단로1068   전라남도  구례군  산동면  NaN        노고단로  new"
      ]
     },
     "execution_count": 1520,
     "metadata": {},
     "output_type": "execute_result"
    }
   ],
   "source": [
    "sliced_adr_df2['주소분류'] = sort_idx\n",
    "sliced_adr_df2.head()"
   ]
  },
  {
   "cell_type": "code",
   "execution_count": 1521,
   "metadata": {},
   "outputs": [
    {
     "data": {
      "text/plain": [
       "주소      경상남도 김해시 진영읍 하계로96번길 94-4 , 주유소 옆 주차장\n",
       "ad1                                      경상남도\n",
       "ad2                                       김해시\n",
       "ad3                                       진영읍\n",
       "ad4                                       NaN\n",
       "ad5                                   하계로96번길\n",
       "주소분류                                      new\n",
       "Name: 858, dtype: object"
      ]
     },
     "execution_count": 1521,
     "metadata": {},
     "output_type": "execute_result"
    }
   ],
   "source": [
    "sliced_adr_df2.loc[858]"
   ]
  },
  {
   "cell_type": "markdown",
   "metadata": {},
   "source": [
    "## 파일로 출력"
   ]
  },
  {
   "cell_type": "code",
   "execution_count": 1522,
   "metadata": {},
   "outputs": [],
   "source": [
    "sliced_adr_df2.to_excel('분석/2020-22년_급속충전_주소_분류.xlsx', encoding='utf-8', index=False)"
   ]
  },
  {
   "cell_type": "markdown",
   "metadata": {},
   "source": [
    "# 코드 마지막"
   ]
  }
 ],
 "metadata": {
  "kernelspec": {
   "display_name": "Python 3.9.13 ('base')",
   "language": "python",
   "name": "python3"
  },
  "language_info": {
   "codemirror_mode": {
    "name": "ipython",
    "version": 3
   },
   "file_extension": ".py",
   "mimetype": "text/x-python",
   "name": "python",
   "nbconvert_exporter": "python",
   "pygments_lexer": "ipython3",
   "version": "3.9.13"
  },
  "orig_nbformat": 4,
  "vscode": {
   "interpreter": {
    "hash": "ad2bdc8ecc057115af97d19610ffacc2b4e99fae6737bb82f5d7fb13d2f2c186"
   }
  }
 },
 "nbformat": 4,
 "nbformat_minor": 2
}
