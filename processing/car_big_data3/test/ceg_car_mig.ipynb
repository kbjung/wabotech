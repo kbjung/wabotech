{
 "cells": [
  {
   "cell_type": "code",
   "execution_count": 1,
   "metadata": {},
   "outputs": [],
   "source": [
    "import pandas as pd\n",
    "import os"
   ]
  },
  {
   "cell_type": "code",
   "execution_count": 2,
   "metadata": {},
   "outputs": [],
   "source": [
    "raw_fold = 'D:/data/multi_road/raw'\n",
    "an_fold = 'D:/data/multi_road/analysis'\n",
    "img_fold = 'D:/data/multi_road/img'"
   ]
  },
  {
   "cell_type": "code",
   "execution_count": 3,
   "metadata": {},
   "outputs": [
    {
     "data": {
      "text/plain": [
       "11"
      ]
     },
     "execution_count": 3,
     "metadata": {},
     "output_type": "execute_result"
    }
   ],
   "source": [
    "car_cdict = {\n",
    "    'EXHST_GAS_CERT_NO':'배출가스인증번호',\n",
    "    'EXHST_GAS_GRD_CD':'배출가스등급', \n",
    "    'FRST_REG_YMD':'최초등록일자',\n",
    "    'MANP_MNG_NO':'제원관리번호', \n",
    "    'MDFCN_DT':'수정일시', \n",
    "    'VHCL_ERSR_YN':'차량말소YN',\n",
    "    'VHCL_FBCTN_YMD':'차량제작일자',\n",
    "    'YRIDNW':'차량연식', \n",
    "    'VHCTY_CD':'차종', \n",
    "    'VIN':'차대번호', \n",
    "    'VHRNO':'자동차등록번호',\n",
    "    # 'BSPL_STDG_CD':'법정동코드', \n",
    "    # 'PURPS_CD2':'용도', \n",
    "    # 'VHCL_MNG_NO':'차량관리번호', \n",
    "    # 'VHCL_OWNR_CL_CD':'소유자구분', \n",
    "}\n",
    "len(car_cdict)"
   ]
  },
  {
   "cell_type": "code",
   "execution_count": 4,
   "metadata": {},
   "outputs": [],
   "source": [
    "# 2m 30s\n",
    "name = 'STD_CEG_CAR_MIG(20230821)' # 2023.07.08 기준\n",
    "file_name = f'{name}.csv'\n",
    "car = pd.read_csv(os.path.join(raw_fold, file_name), usecols=car_cdict.keys())\n",
    "car.info()"
   ]
  },
  {
   "cell_type": "code",
   "execution_count": null,
   "metadata": {},
   "outputs": [
    {
     "data": {
      "text/plain": [
       "dict_values(['배출가스인증번호', '배출가스등급', '최초등록일자', '제원관리번호', '수정일시', '차량말소YN', '차량제작일자', '차량연식', '차종', '차대번호', '자동차등록번호'])"
      ]
     },
     "metadata": {},
     "output_type": "display_data"
    }
   ],
   "source": [
    "car_cdict.values()"
   ]
  },
  {
   "cell_type": "code",
   "execution_count": null,
   "metadata": {},
   "outputs": [
    {
     "data": {
      "text/plain": [
       "Index(['배출가스인증번호', '배출가스등급', '최초등록일자', '제원관리번호', '수정일시', '차량말소YN', '차량제작일자',\n",
       "       '차량연식', '차종', '차대번호', '자동차등록번호'],\n",
       "      dtype='object')"
      ]
     },
     "metadata": {},
     "output_type": "display_data"
    }
   ],
   "source": [
    "# 4s\n",
    "carr = car.rename(columns=car_cdict)\n",
    "carr.columns"
   ]
  },
  {
   "cell_type": "code",
   "execution_count": null,
   "metadata": {},
   "outputs": [],
   "source": [
    "car_list = ['150가1856', '05저0859', '54마0976', '156머4175', '31가1590']\n",
    "tt = pd.DataFrame()\n",
    "for one in car_list:\n",
    "    temp = carr.loc[carr['자동차등록번호'] == one].reset_index(drop=True)\n",
    "    tt = pd.concat([tt, temp], ignore_index=True)"
   ]
  },
  {
   "cell_type": "code",
   "execution_count": null,
   "metadata": {},
   "outputs": [
    {
     "data": {
      "text/html": [
       "<div>\n",
       "<style scoped>\n",
       "    .dataframe tbody tr th:only-of-type {\n",
       "        vertical-align: middle;\n",
       "    }\n",
       "\n",
       "    .dataframe tbody tr th {\n",
       "        vertical-align: top;\n",
       "    }\n",
       "\n",
       "    .dataframe thead th {\n",
       "        text-align: right;\n",
       "    }\n",
       "</style>\n",
       "<table border=\"1\" class=\"dataframe\">\n",
       "  <thead>\n",
       "    <tr style=\"text-align: right;\">\n",
       "      <th></th>\n",
       "      <th>배출가스인증번호</th>\n",
       "      <th>배출가스등급</th>\n",
       "      <th>최초등록일자</th>\n",
       "      <th>제원관리번호</th>\n",
       "      <th>수정일시</th>\n",
       "      <th>차량말소YN</th>\n",
       "      <th>차량제작일자</th>\n",
       "      <th>차량연식</th>\n",
       "      <th>차종</th>\n",
       "      <th>차대번호</th>\n",
       "      <th>자동차등록번호</th>\n",
       "    </tr>\n",
       "  </thead>\n",
       "  <tbody>\n",
       "    <tr>\n",
       "      <th>0</th>\n",
       "      <td>FMY-HD-14-40</td>\n",
       "      <td>A0502</td>\n",
       "      <td>20160829</td>\n",
       "      <td>A0810010300401216</td>\n",
       "      <td>2020-02-25 04:02:06.000000</td>\n",
       "      <td>N</td>\n",
       "      <td>20160728.00</td>\n",
       "      <td>2017</td>\n",
       "      <td>A31P</td>\n",
       "      <td>KMHD741DBHU266701</td>\n",
       "      <td>150가1856</td>\n",
       "    </tr>\n",
       "    <tr>\n",
       "      <th>1</th>\n",
       "      <td>DMY-HD-14-15</td>\n",
       "      <td>A0503</td>\n",
       "      <td>20160316</td>\n",
       "      <td>A0810010300211215</td>\n",
       "      <td>2023-03-28 04:03:09.000000</td>\n",
       "      <td>N</td>\n",
       "      <td>20160309.00</td>\n",
       "      <td>2016</td>\n",
       "      <td>A31P</td>\n",
       "      <td>KMHD641UGGU135347</td>\n",
       "      <td>05저0859</td>\n",
       "    </tr>\n",
       "    <tr>\n",
       "      <th>2</th>\n",
       "      <td>FMY-HD-14-40</td>\n",
       "      <td>A0502</td>\n",
       "      <td>20151106</td>\n",
       "      <td>A0810010300051215</td>\n",
       "      <td>2020-02-18 06:02:06.000000</td>\n",
       "      <td>N</td>\n",
       "      <td>20151014.00</td>\n",
       "      <td>2016</td>\n",
       "      <td>A31P</td>\n",
       "      <td>KMHD741DBGU023019</td>\n",
       "      <td>54마0976</td>\n",
       "    </tr>\n",
       "    <tr>\n",
       "      <th>3</th>\n",
       "      <td>FMY-HD-14-40</td>\n",
       "      <td>A0502</td>\n",
       "      <td>20170615</td>\n",
       "      <td>A0810010300851217</td>\n",
       "      <td>2023-04-04 04:04:09.000000</td>\n",
       "      <td>N</td>\n",
       "      <td>20170610.00</td>\n",
       "      <td>2018</td>\n",
       "      <td>A31P</td>\n",
       "      <td>KMHD041DBJU497859</td>\n",
       "      <td>31가1590</td>\n",
       "    </tr>\n",
       "  </tbody>\n",
       "</table>\n",
       "</div>"
      ],
      "text/plain": [
       "       배출가스인증번호 배출가스등급    최초등록일자             제원관리번호  \\\n",
       "0  FMY-HD-14-40  A0502  20160829  A0810010300401216   \n",
       "1  DMY-HD-14-15  A0503  20160316  A0810010300211215   \n",
       "2  FMY-HD-14-40  A0502  20151106  A0810010300051215   \n",
       "3  FMY-HD-14-40  A0502  20170615  A0810010300851217   \n",
       "\n",
       "                         수정일시 차량말소YN      차량제작일자  차량연식    차종  \\\n",
       "0  2020-02-25 04:02:06.000000      N 20160728.00  2017  A31P   \n",
       "1  2023-03-28 04:03:09.000000      N 20160309.00  2016  A31P   \n",
       "2  2020-02-18 06:02:06.000000      N 20151014.00  2016  A31P   \n",
       "3  2023-04-04 04:04:09.000000      N 20170610.00  2018  A31P   \n",
       "\n",
       "                차대번호   자동차등록번호  \n",
       "0  KMHD741DBHU266701  150가1856  \n",
       "1  KMHD641UGGU135347   05저0859  \n",
       "2  KMHD741DBGU023019   54마0976  \n",
       "3  KMHD041DBJU497859   31가1590  "
      ]
     },
     "metadata": {},
     "output_type": "display_data"
    }
   ],
   "source": [
    "tt"
   ]
  },
  {
   "cell_type": "code",
   "execution_count": null,
   "metadata": {},
   "outputs": [
    {
     "data": {
      "text/html": [
       "<div>\n",
       "<style scoped>\n",
       "    .dataframe tbody tr th:only-of-type {\n",
       "        vertical-align: middle;\n",
       "    }\n",
       "\n",
       "    .dataframe tbody tr th {\n",
       "        vertical-align: top;\n",
       "    }\n",
       "\n",
       "    .dataframe thead th {\n",
       "        text-align: right;\n",
       "    }\n",
       "</style>\n",
       "<table border=\"1\" class=\"dataframe\">\n",
       "  <thead>\n",
       "    <tr style=\"text-align: right;\">\n",
       "      <th></th>\n",
       "      <th>배출가스인증번호</th>\n",
       "      <th>배출가스등급</th>\n",
       "      <th>최초등록일자</th>\n",
       "      <th>제원관리번호</th>\n",
       "      <th>수정일시</th>\n",
       "      <th>차량말소YN</th>\n",
       "      <th>차량제작일자</th>\n",
       "      <th>차량연식</th>\n",
       "      <th>차종</th>\n",
       "      <th>차대번호</th>\n",
       "      <th>자동차등록번호</th>\n",
       "    </tr>\n",
       "  </thead>\n",
       "  <tbody>\n",
       "  </tbody>\n",
       "</table>\n",
       "</div>"
      ],
      "text/plain": [
       "Empty DataFrame\n",
       "Columns: [배출가스인증번호, 배출가스등급, 최초등록일자, 제원관리번호, 수정일시, 차량말소YN, 차량제작일자, 차량연식, 차종, 차대번호, 자동차등록번호]\n",
       "Index: []"
      ]
     },
     "metadata": {},
     "output_type": "display_data"
    }
   ],
   "source": [
    "carr.loc[carr['자동차등록번호'] == '156머4175']"
   ]
  },
  {
   "cell_type": "code",
   "execution_count": null,
   "metadata": {},
   "outputs": [],
   "source": []
  }
 ],
 "metadata": {
  "kernelspec": {
   "display_name": "base",
   "language": "python",
   "name": "python3"
  },
  "language_info": {
   "codemirror_mode": {
    "name": "ipython",
    "version": 3
   },
   "file_extension": ".py",
   "mimetype": "text/x-python",
   "name": "python",
   "nbconvert_exporter": "python",
   "pygments_lexer": "ipython3",
   "version": "3.11.4"
  },
  "orig_nbformat": 4
 },
 "nbformat": 4,
 "nbformat_minor": 2
}
