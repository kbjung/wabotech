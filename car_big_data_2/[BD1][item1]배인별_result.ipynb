{
 "cells": [
  {
   "attachments": {},
   "cell_type": "markdown",
   "metadata": {},
   "source": [
    "# Library\n"
   ]
  },
  {
   "cell_type": "code",
   "execution_count": 1,
   "metadata": {},
   "outputs": [
    {
     "name": "stderr",
     "output_type": "stream",
     "text": [
      "2023-03-24 08:58:33,031\tINFO worker.py:1529 -- Started a local Ray instance. View the dashboard at \u001b[1m\u001b[32m127.0.0.1:8265 \u001b[39m\u001b[22m\n"
     ]
    },
    {
     "data": {
      "text/html": [
       "<div>\n",
       "    <div style=\"margin-left: 50px;display: flex;flex-direction: row;align-items: center\">\n",
       "        <h3 style=\"color: var(--jp-ui-font-color0)\">Ray</h3>\n",
       "        <svg version=\"1.1\" id=\"ray\" width=\"3em\" viewBox=\"0 0 144.5 144.6\" style=\"margin-left: 3em;margin-right: 3em\">\n",
       "            <g id=\"layer-1\">\n",
       "                <path fill=\"#00a2e9\" class=\"st0\" d=\"M97.3,77.2c-3.8-1.1-6.2,0.9-8.3,5.1c-3.5,6.8-9.9,9.9-17.4,9.6S58,88.1,54.8,81.2c-1.4-3-3-4-6.3-4.1\n",
       "                    c-5.6-0.1-9.9,0.1-13.1,6.4c-3.8,7.6-13.6,10.2-21.8,7.6C5.2,88.4-0.4,80.5,0,71.7c0.1-8.4,5.7-15.8,13.8-18.2\n",
       "                    c8.4-2.6,17.5,0.7,22.3,8c1.3,1.9,1.3,5.2,3.6,5.6c3.9,0.6,8,0.2,12,0.2c1.8,0,1.9-1.6,2.4-2.8c3.5-7.8,9.7-11.8,18-11.9\n",
       "                    c8.2-0.1,14.4,3.9,17.8,11.4c1.3,2.8,2.9,3.6,5.7,3.3c1-0.1,2,0.1,3,0c2.8-0.5,6.4,1.7,8.1-2.7s-2.3-5.5-4.1-7.5\n",
       "                    c-5.1-5.7-10.9-10.8-16.1-16.3C84,38,81.9,37.1,78,38.3C66.7,42,56.2,35.7,53,24.1C50.3,14,57.3,2.8,67.7,0.5\n",
       "                    C78.4-2,89,4.7,91.5,15.3c0.1,0.3,0.1,0.5,0.2,0.8c0.7,3.4,0.7,6.9-0.8,9.8c-1.7,3.2-0.8,5,1.5,7.2c6.7,6.5,13.3,13,19.8,19.7\n",
       "                    c1.8,1.8,3,2.1,5.5,1.2c9.1-3.4,17.9-0.6,23.4,7c4.8,6.9,4.6,16.1-0.4,22.9c-5.4,7.2-14.2,9.9-23.1,6.5c-2.3-0.9-3.5-0.6-5.1,1.1\n",
       "                    c-6.7,6.9-13.6,13.7-20.5,20.4c-1.8,1.8-2.5,3.2-1.4,5.9c3.5,8.7,0.3,18.6-7.7,23.6c-7.9,5-18.2,3.8-24.8-2.9\n",
       "                    c-6.4-6.4-7.4-16.2-2.5-24.3c4.9-7.8,14.5-11,23.1-7.8c3,1.1,4.7,0.5,6.9-1.7C91.7,98.4,98,92.3,104.2,86c1.6-1.6,4.1-2.7,2.6-6.2\n",
       "                    c-1.4-3.3-3.8-2.5-6.2-2.6C99.8,77.2,98.9,77.2,97.3,77.2z M72.1,29.7c5.5,0.1,9.9-4.3,10-9.8c0-0.1,0-0.2,0-0.3\n",
       "                    C81.8,14,77,9.8,71.5,10.2c-5,0.3-9,4.2-9.3,9.2c-0.2,5.5,4,10.1,9.5,10.3C71.8,29.7,72,29.7,72.1,29.7z M72.3,62.3\n",
       "                    c-5.4-0.1-9.9,4.2-10.1,9.7c0,0.2,0,0.3,0,0.5c0.2,5.4,4.5,9.7,9.9,10c5.1,0.1,9.9-4.7,10.1-9.8c0.2-5.5-4-10-9.5-10.3\n",
       "                    C72.6,62.3,72.4,62.3,72.3,62.3z M115,72.5c0.1,5.4,4.5,9.7,9.8,9.9c5.6-0.2,10-4.8,10-10.4c-0.2-5.4-4.6-9.7-10-9.7\n",
       "                    c-5.3-0.1-9.8,4.2-9.9,9.5C115,72.1,115,72.3,115,72.5z M19.5,62.3c-5.4,0.1-9.8,4.4-10,9.8c-0.1,5.1,5.2,10.4,10.2,10.3\n",
       "                    c5.6-0.2,10-4.9,9.8-10.5c-0.1-5.4-4.5-9.7-9.9-9.6C19.6,62.3,19.5,62.3,19.5,62.3z M71.8,134.6c5.9,0.2,10.3-3.9,10.4-9.6\n",
       "                    c0.5-5.5-3.6-10.4-9.1-10.8c-5.5-0.5-10.4,3.6-10.8,9.1c0,0.5,0,0.9,0,1.4c-0.2,5.3,4,9.8,9.3,10\n",
       "                    C71.6,134.6,71.7,134.6,71.8,134.6z\"/>\n",
       "            </g>\n",
       "        </svg>\n",
       "        <table>\n",
       "            <tr>\n",
       "                <td style=\"text-align: left\"><b>Python version:</b></td>\n",
       "                <td style=\"text-align: left\"><b>3.9.13</b></td>\n",
       "            </tr>\n",
       "            <tr>\n",
       "                <td style=\"text-align: left\"><b>Ray version:</b></td>\n",
       "                <td style=\"text-align: left\"><b> 2.2.0</b></td>\n",
       "            </tr>\n",
       "            <tr>\n",
       "    <td style=\"text-align: left\"><b>Dashboard:</b></td>\n",
       "    <td style=\"text-align: left\"><b><a href=\"http://127.0.0.1:8265\" target=\"_blank\">http://127.0.0.1:8265</a></b></td>\n",
       "</tr>\n",
       "\n",
       "        </table>\n",
       "    </div>\n",
       "</div>\n"
      ],
      "text/plain": [
       "RayContext(dashboard_url='127.0.0.1:8265', python_version='3.9.13', ray_version='2.2.0', ray_commit='b6af0887ee5f2e460202133791ad941a41f15beb', address_info={'node_ip_address': '127.0.0.1', 'raylet_ip_address': '127.0.0.1', 'redis_address': None, 'object_store_address': 'tcp://127.0.0.1:53309', 'raylet_socket_name': 'tcp://127.0.0.1:59105', 'webui_url': '127.0.0.1:8265', 'session_dir': 'C:\\\\Users\\\\kbjung\\\\AppData\\\\Local\\\\Temp\\\\ray\\\\session_2023-03-24_08-58-30_100466_41680', 'metrics_export_port': 57085, 'gcs_address': '127.0.0.1:60400', 'address': '127.0.0.1:60400', 'dashboard_agent_listen_port': 52365, 'node_id': '0655a40be742c41ec0a89dec7fbca627183d69dff1e9ab023897c373'})"
      ]
     },
     "execution_count": 1,
     "metadata": {},
     "output_type": "execute_result"
    }
   ],
   "source": [
    "import modin.pandas as pd\n",
    "import ray\n",
    "ray.init()"
   ]
  },
  {
   "cell_type": "code",
   "execution_count": 2,
   "metadata": {},
   "outputs": [],
   "source": [
    "# import pandas as pd\n",
    "import numpy as np\n",
    "import os\n",
    "from tqdm import tqdm\n",
    "from datetime import datetime\n",
    "from glob import glob"
   ]
  },
  {
   "cell_type": "code",
   "execution_count": 3,
   "metadata": {},
   "outputs": [],
   "source": [
    "# 소수점 옵션\n",
    "pd.options.display.float_format = '{:.2f}'.format\n",
    "# pd.reset_option('display.float_format')"
   ]
  },
  {
   "attachments": {},
   "cell_type": "markdown",
   "metadata": {},
   "source": [
    "# 수정사항\n",
    "- 2023.03.21\n",
    "    - item 1 : 배출가스인증번호별 매연 통계\n",
    "        - 1. 3등급 및 5등급으로 변경 보고한 차량에 대한 통계 제외\n",
    "        - 2. 검사판정비율이 무엇인지 의미하는 바를 정확히 표현해야할 것 같음\n",
    "        - 3. 분석에 적용된 결과가 몇 대이고, 몇 대가 추출이 되지 않는지 표현이 필요한 것 같음\n",
    "\n",
    "    이 외에도 내일 오전에 동양에서 가시화와 관련된 회의에서 추가적으로 필요하다고 판단되는 사항에 대해 추가적으로 분석이 필요할 것 같음"
   ]
  },
  {
   "attachments": {},
   "cell_type": "markdown",
   "metadata": {},
   "source": [
    "# fold path"
   ]
  },
  {
   "cell_type": "code",
   "execution_count": 4,
   "metadata": {},
   "outputs": [],
   "source": [
    "raw_fold = 'D:/data/big2/BD1/raw'\n",
    "ods_fold = 'D:/data/big2/ODS'\n",
    "sample_fold = 'D:/data/big2/BD1/sample'\n",
    "analysis_fold = 'D:/data/big2/BD1/an'"
   ]
  },
  {
   "attachments": {},
   "cell_type": "markdown",
   "metadata": {},
   "source": [
    "# Load"
   ]
  },
  {
   "attachments": {},
   "cell_type": "markdown",
   "metadata": {},
   "source": [
    "## 4등급 경유 result"
   ]
  },
  {
   "cell_type": "code",
   "execution_count": 5,
   "metadata": {},
   "outputs": [
    {
     "name": "stderr",
     "output_type": "stream",
     "text": [
      "UserWarning: When using a pre-initialized Ray cluster, please ensure that the runtime env sets environment variable __MODIN_AUTOIMPORT_PANDAS__ to 1\n"
     ]
    },
    {
     "name": "stdout",
     "output_type": "stream",
     "text": [
      "<class 'modin.pandas.dataframe.DataFrame'>\n",
      "RangeIndex: 1153813 entries, 0 to 1153812\n",
      "Data columns (total 31 columns):\n",
      " #   Column    Non-Null Count    Dtype  \n",
      "---  --------  ----------------  -----  \n",
      " 0   차대번호      1153813 non-null  object\n",
      " 1   차량번호      1153813 non-null  object\n",
      " 2   제원관리번호    1153813 non-null  object\n",
      " 3   차종_원본     1153813 non-null  object\n",
      " 4   용도        1153813 non-null  object\n",
      " 5   최초등록일     1153813 non-null  int64\n",
      " 6   연식        1153813 non-null  int64\n",
      " 7   제작일자      1153809 non-null  float64\n",
      " 8   검사유효일     1153810 non-null  float64\n",
      " 9   배출가스인증번호  1146663 non-null  object\n",
      " 10  등급        1153813 non-null  int64\n",
      " 11  차명        1153813 non-null  object\n",
      " 12  차종분류      1153813 non-null  object\n",
      " 13  차종유형      1153813 non-null  object\n",
      " 14  자동차형식     1153812 non-null  object\n",
      " 15  제작사명      1153795 non-null  object\n",
      " 16  연료        1153813 non-null  object\n",
      " 17  엔진형식      1153813 non-null  object\n",
      " 18  총중량       1153813 non-null  int64\n",
      " 19  적재중량      1153589 non-null  float64\n",
      " 20  엔진출력      1153811 non-null  float64\n",
      " 21  배기량       1153813 non-null  int64\n",
      " 22  법정동코드     1153813 non-null  int64\n",
      " 23  시도명       1153813 non-null  object\n",
      " 24  시군구명      1153813 non-null  object\n",
      " 25  소유자구분     1153813 non-null  object\n",
      " 26  말소여부      1153813 non-null  object\n",
      " 27  일치유무      1153813 non-null  object\n",
      " 28  배인번호_수정   1153813 non-null  object\n",
      " 29  등급_수정     1153813 non-null  int64\n",
      " 30  DPF유무_수정  1153813 non-null  object\n",
      "dtypes: object(20), int64(7), float64(4)\n",
      "memory usage: 272.9 MB\n"
     ]
    },
    {
     "name": "stderr",
     "output_type": "stream",
     "text": [
      "UserWarning: Distributing <class 'int'> object. This may take some time.\n"
     ]
    }
   ],
   "source": [
    "# about 12s\n",
    "# modin : about 5.7s\n",
    "name = '4등급 차량 리스트 양식 result 최종(2023.03.20)'\n",
    "file_name = f'{name}.csv'\n",
    "result = pd.read_csv(os.path.join(raw_fold, file_name), low_memory=False, encoding='cp949')\n",
    "result.info()"
   ]
  },
  {
   "cell_type": "code",
   "execution_count": 6,
   "metadata": {},
   "outputs": [
    {
     "data": {
      "text/plain": [
       "Index(['차대번호', '차량번호', '제원관리번호', '차종_원본', '용도', '최초등록일', '연식', '제작일자', '검사유효일',\n",
       "       '배출가스인증번호', '등급', '차명', '차종분류', '차종유형', '자동차형식', '제작사명', '연료', '엔진형식',\n",
       "       '총중량', '적재중량', '엔진출력', '배기량', '법정동코드', '시도명', '시군구명', '소유자구분', '말소여부',\n",
       "       '일치유무', '배인번호_수정', '등급_수정', 'DPF유무_수정'],\n",
       "      dtype='object')"
      ]
     },
     "execution_count": 6,
     "metadata": {},
     "output_type": "execute_result"
    }
   ],
   "source": [
    "result.columns"
   ]
  },
  {
   "cell_type": "code",
   "execution_count": 7,
   "metadata": {},
   "outputs": [
    {
     "data": {
      "text/plain": [
       "4    1149291\n",
       "3       4396\n",
       "5        126\n",
       "Name: 등급_수정, dtype: int64"
      ]
     },
     "execution_count": 7,
     "metadata": {},
     "output_type": "execute_result"
    }
   ],
   "source": [
    "result['등급_수정'].value_counts(dropna=False)"
   ]
  },
  {
   "cell_type": "code",
   "execution_count": 8,
   "metadata": {},
   "outputs": [
    {
     "data": {
      "text/plain": [
       "4    1153813\n",
       "Name: 등급, dtype: int64"
      ]
     },
     "execution_count": 8,
     "metadata": {},
     "output_type": "execute_result"
    }
   ],
   "source": [
    "result['등급'].value_counts(dropna=False)"
   ]
  },
  {
   "cell_type": "code",
   "execution_count": 9,
   "metadata": {},
   "outputs": [
    {
     "data": {
      "text/plain": [
       "경유    1153813\n",
       "Name: 연료, dtype: int64"
      ]
     },
     "execution_count": 9,
     "metadata": {},
     "output_type": "execute_result"
    }
   ],
   "source": [
    "result['연료'].value_counts(dropna=False)"
   ]
  },
  {
   "cell_type": "code",
   "execution_count": 10,
   "metadata": {},
   "outputs": [
    {
     "data": {
      "text/plain": [
       "N    1153813\n",
       "Name: 말소여부, dtype: int64"
      ]
     },
     "execution_count": 10,
     "metadata": {},
     "output_type": "execute_result"
    }
   ],
   "source": [
    "result['말소여부'].value_counts(dropna=False)"
   ]
  },
  {
   "cell_type": "code",
   "execution_count": 11,
   "metadata": {},
   "outputs": [
    {
     "data": {
      "text/plain": [
       "배인번호_수정     0\n",
       "등급_수정       0\n",
       "DPF유무_수정    0\n",
       "dtype: int64"
      ]
     },
     "execution_count": 11,
     "metadata": {},
     "output_type": "execute_result"
    }
   ],
   "source": [
    "result[['배인번호_수정', '등급_수정', 'DPF유무_수정']].isnull().sum()"
   ]
  },
  {
   "attachments": {},
   "cell_type": "markdown",
   "metadata": {},
   "source": [
    "## 검증된 배인번호 파일"
   ]
  },
  {
   "cell_type": "code",
   "execution_count": 12,
   "metadata": {},
   "outputs": [
    {
     "name": "stderr",
     "output_type": "stream",
     "text": [
      "UserWarning: Parallel `read_excel` is a new feature! If you run into any problems, please visit https://github.com/modin-project/modin/issues. If you find a new issue and can't file it on GitHub, please email bug_reports@modin.org.\n"
     ]
    },
    {
     "name": "stdout",
     "output_type": "stream",
     "text": [
      "<class 'modin.pandas.dataframe.DataFrame'>\n",
      "RangeIndex: 174 entries, 0 to 173\n",
      "Data columns (total 8 columns):\n",
      " #   Column      Non-Null Count  Dtype  \n",
      "---  ----------  --------------  -----  \n",
      " 0   제작사         174 non-null    object\n",
      " 1   배출가스 인증번호   173 non-null    object\n",
      " 2   차명          172 non-null    object\n",
      " 3   Result1     173 non-null    float64\n",
      " 4   Result2     173 non-null    float64\n",
      " 5   검증 후 차량 대수  174 non-null    object\n",
      " 6   DPF장착여부     173 non-null    object\n",
      " 7   배출가스 등급     173 non-null    float64\n",
      "dtypes: object(5), float64(3)\n",
      "memory usage: 11.0 KB\n"
     ]
    },
    {
     "name": "stderr",
     "output_type": "stream",
     "text": [
      "UserWarning: `read_*` implementation has mismatches with pandas:\n",
      "Data types of partitions are different! Please refer to the troubleshooting section of the Modin documentation to fix this issue.\n",
      "UserWarning: Distributing <class 'int'> object. This may take some time.\n"
     ]
    }
   ],
   "source": [
    "# modin about 4.3s\n",
    "name = '[BD1] 4등급 검증 결과 정리(23.03.20)'\n",
    "file_name = f'{name}.xlsx'\n",
    "check = pd.read_excel(os.path.join(raw_fold, file_name))\n",
    "check.info()"
   ]
  },
  {
   "attachments": {},
   "cell_type": "markdown",
   "metadata": {},
   "source": [
    "## 정기&정밀검사 최신"
   ]
  },
  {
   "cell_type": "code",
   "execution_count": 13,
   "metadata": {},
   "outputs": [
    {
     "name": "stderr",
     "output_type": "stream",
     "text": [
      "UserWarning: Distributing <class 'int'> object. This may take some time.\n"
     ]
    },
    {
     "name": "stdout",
     "output_type": "stream",
     "text": [
      "<class 'modin.pandas.dataframe.DataFrame'>\n",
      "RangeIndex: 22044208 entries, 0 to 22044207\n",
      "Data columns (total 42 columns):\n",
      " #   Column     Non-Null Count     Dtype  \n",
      "---  ---------  -----------------  -----  \n",
      " 0   사용연료       21955278 non-null  object\n",
      " 1   주행거리       22039470 non-null  object\n",
      " 2   차명         22044208 non-null  object\n",
      " 3   차량번호       22044208 non-null  object\n",
      " 4   차대번호       22044208 non-null  object\n",
      " 5   차종         22044208 non-null  object\n",
      " 6   차량연식       22044208 non-null  int64\n",
      " 7   엔진형식       22010592 non-null  object\n",
      " 8   검사방법       22044208 non-null  object\n",
      " 9   검사일자       22044208 non-null  int64\n",
      " 10  검사종류       22044208 non-null  object\n",
      " 11  검사판정시각     21937850 non-null  object\n",
      " 12  검사판정       22044208 non-null  object\n",
      " 13  산소값        17124435 non-null  float64\n",
      " 14  이산화탄소값     17530023 non-null  float64\n",
      " 15  무부하매연판정1   21325313 non-null  object\n",
      " 16  무부하매연판정2   12261874 non-null  object\n",
      " 17  무부하매연판정3   12114942 non-null  object\n",
      " 18  무부하매연판정4   11543655 non-null  object\n",
      " 19  무부하매연판정5   11543655 non-null  object\n",
      " 20  무부하매연판정6   11120717 non-null  object\n",
      " 21  무부하매연허용치1  21325323 non-null  float64\n",
      " 22  무부하매연허용치2  14518331 non-null  float64\n",
      " 23  무부하매연허용치3  14430382 non-null  float64\n",
      " 24  무부하매연허용치4  13860526 non-null  float64\n",
      " 25  무부하매연허용치5  13860526 non-null  float64\n",
      " 26  무부하매연허용치6  13563564 non-null  float64\n",
      " 27  무부하매연측정치1  21325403 non-null  float64\n",
      " 28  무부하매연측정치2  14963484 non-null  float64\n",
      " 29  무부하매연측정치3  14430491 non-null  float64\n",
      " 30  무부하매연측정치4  13860618 non-null  float64\n",
      " 31  무부하매연측정치5  13860618 non-null  float64\n",
      " 32  무부하매연측정치6  13563598 non-null  float64\n",
      " 33  차량용도       22044208 non-null  object\n",
      " 34  최대출력허용치    4607526 non-null   float64\n",
      " 35  최대출력측정값    0 non-null         float64\n",
      " 36  검사접수번호     22044208 non-null  object\n",
      " 37  검사소명       22044208 non-null  object\n",
      " 38  재검사기간      22044208 non-null  object\n",
      " 39  정기정밀       22044208 non-null  object\n",
      " 40  검사 검사소코드   15035174 non-null  object\n",
      " 41  검사유효기간     15035168 non-null  float64\n",
      "dtypes: object(23), float64(17), int64(2)\n",
      "memory usage: 6.9 GB\n"
     ]
    }
   ],
   "source": [
    "# about 4m 21s\n",
    "# modin about : 49s\n",
    "name = 'ODS 정기&정밀검사(최신검사만)(2022.12.28)'\n",
    "file_name = f'{name}.csv'\n",
    "tin = pd.read_csv(os.path.join(ods_fold, file_name), low_memory=False)\n",
    "tin.info()"
   ]
  },
  {
   "attachments": {},
   "cell_type": "markdown",
   "metadata": {},
   "source": [
    "# 전처리"
   ]
  },
  {
   "attachments": {},
   "cell_type": "markdown",
   "metadata": {},
   "source": [
    "## Issue\n",
    "- result : 병합_4등급_차량_리스트_양식_result_최종(2023.03.20).csv\n",
    "    - [해결] 7MY-DB-23-40 : 샘플 없음 -> 통계 코드에 조건문 설정\n",
    "    - [해결] FMY-DB-14-54 : 전부 차대번호10자리 연식과 연식 다른 문제 -> 통계 코드에 조건문 설정\n",
    "    - [해결] 7MY-DB-23-40 : 샘플 없음 -> 통계 코드에 조건문 설정\n",
    "    - [해결] 8MY-PA-14-3 : 결과정리 파일에 없는 배인번호 -> 8MY-PA-14-03 로 수정\n",
    "    - [해결] 9MY-AD-14-04 : 등급 오류, 현재 4등급 -> 3등급\n",
    "    - 3등급 차량 중 배인번호_수정이'확인불가'인 차량 3대 존재, 샘플 출력 ->\n",
    "- check : [BD1] 4등급 검증 결과 정리(23.03.20).xlsx\n",
    "    - [해결] 6MK-DK-14-1 : 잘못된 배인번호 -> 6MY-DK-14-1로 수정"
   ]
  },
  {
   "attachments": {},
   "cell_type": "markdown",
   "metadata": {},
   "source": [
    "### 8MY-PA-14-3 배인번호 수정\n",
    "- 8MY-PA-14-3 -> 8MY-PA-14-03"
   ]
  },
  {
   "cell_type": "code",
   "execution_count": 14,
   "metadata": {},
   "outputs": [
    {
     "data": {
      "text/plain": [
       "(412, 31)"
      ]
     },
     "execution_count": 14,
     "metadata": {},
     "output_type": "execute_result"
    }
   ],
   "source": [
    "result.loc[result['배인번호_수정'] == '8MY-PA-14-3'].shape"
   ]
  },
  {
   "cell_type": "code",
   "execution_count": 15,
   "metadata": {},
   "outputs": [],
   "source": [
    "result1 = result.copy()"
   ]
  },
  {
   "cell_type": "code",
   "execution_count": 16,
   "metadata": {},
   "outputs": [
    {
     "data": {
      "text/plain": [
       "(1153813, 31)"
      ]
     },
     "execution_count": 16,
     "metadata": {},
     "output_type": "execute_result"
    }
   ],
   "source": [
    "result1.loc[result1['배인번호_수정'] == '8MY-PA-14-3', '배인번호_수정'] = '8MY-PA-14-03'\n",
    "result1.shape"
   ]
  },
  {
   "attachments": {},
   "cell_type": "markdown",
   "metadata": {},
   "source": [
    "### 9MY-AD-14-04 등급 수정\n",
    "- 9MY-AD-14-04 : 등급_수정 오류, 현재 4등급 -> 3등급"
   ]
  },
  {
   "cell_type": "code",
   "execution_count": 17,
   "metadata": {},
   "outputs": [
    {
     "data": {
      "text/plain": [
       "array([4], dtype=int64)"
      ]
     },
     "execution_count": 17,
     "metadata": {},
     "output_type": "execute_result"
    }
   ],
   "source": [
    "result1.loc[result1['배인번호_수정'] == '9MY-AD-14-04', '등급_수정'].unique()"
   ]
  },
  {
   "cell_type": "code",
   "execution_count": 18,
   "metadata": {},
   "outputs": [
    {
     "data": {
      "text/plain": [
       "(976, 31)"
      ]
     },
     "execution_count": 18,
     "metadata": {},
     "output_type": "execute_result"
    }
   ],
   "source": [
    "result1.loc[result1['배인번호_수정'] == '9MY-AD-14-04'].shape"
   ]
  },
  {
   "cell_type": "code",
   "execution_count": 19,
   "metadata": {},
   "outputs": [],
   "source": [
    "result2 = result1.copy()"
   ]
  },
  {
   "cell_type": "code",
   "execution_count": 20,
   "metadata": {},
   "outputs": [],
   "source": [
    "result2.loc[result2['배인번호_수정'] == '9MY-AD-14-04', '등급_수정'] = 3"
   ]
  },
  {
   "cell_type": "code",
   "execution_count": 21,
   "metadata": {},
   "outputs": [
    {
     "data": {
      "text/plain": [
       "array([3], dtype=int64)"
      ]
     },
     "execution_count": 21,
     "metadata": {},
     "output_type": "execute_result"
    }
   ],
   "source": [
    "result2.loc[result2['배인번호_수정'] == '9MY-AD-14-04', '등급_수정'].unique()"
   ]
  },
  {
   "attachments": {},
   "cell_type": "markdown",
   "metadata": {},
   "source": [
    "### 3등급 차량 중 이상한 차량 샘플"
   ]
  },
  {
   "cell_type": "code",
   "execution_count": 22,
   "metadata": {},
   "outputs": [
    {
     "data": {
      "text/plain": [
       "(3, 31)"
      ]
     },
     "execution_count": 22,
     "metadata": {},
     "output_type": "execute_result"
    }
   ],
   "source": [
    "result2.loc[(result2['등급_수정'] == 3) & (result2['배인번호_수정'] == '확인불가')].shape"
   ]
  },
  {
   "cell_type": "code",
   "execution_count": 23,
   "metadata": {},
   "outputs": [
    {
     "data": {
      "text/html": [
       "<div>\n",
       "<style scoped>\n",
       "    .dataframe tbody tr th:only-of-type {\n",
       "        vertical-align: middle;\n",
       "    }\n",
       "\n",
       "    .dataframe tbody tr th {\n",
       "        vertical-align: top;\n",
       "    }\n",
       "\n",
       "    .dataframe thead th {\n",
       "        text-align: right;\n",
       "    }\n",
       "</style>\n",
       "<table border=\"1\" class=\"dataframe\">\n",
       "  <thead>\n",
       "    <tr style=\"text-align: right;\">\n",
       "      <th></th>\n",
       "      <th>배인번호_수정</th>\n",
       "      <th>차명</th>\n",
       "      <th>제작사명</th>\n",
       "      <th>자동차형식</th>\n",
       "      <th>엔진형식</th>\n",
       "    </tr>\n",
       "  </thead>\n",
       "  <tbody>\n",
       "    <tr>\n",
       "      <th>1147742</th>\n",
       "      <td>확인불가</td>\n",
       "      <td>뉴파워트럭</td>\n",
       "      <td>현대자동차(주)</td>\n",
       "      <td>HD8CT-20ESHa-T6</td>\n",
       "      <td>D6HC</td>\n",
       "    </tr>\n",
       "    <tr>\n",
       "      <th>1147743</th>\n",
       "      <td>확인불가</td>\n",
       "      <td>뉴파워트럭</td>\n",
       "      <td>현대자동차(주)</td>\n",
       "      <td>HD8CT-20ESHa-T6</td>\n",
       "      <td>D6HC</td>\n",
       "    </tr>\n",
       "    <tr>\n",
       "      <th>1147744</th>\n",
       "      <td>확인불가</td>\n",
       "      <td>뉴파워트럭</td>\n",
       "      <td>현대자동차(주)</td>\n",
       "      <td>HD8CT-20ESHa-T6</td>\n",
       "      <td>D6HC</td>\n",
       "    </tr>\n",
       "  </tbody>\n",
       "</table>\n",
       "</div>"
      ],
      "text/plain": [
       "        배인번호_수정     차명      제작사명            자동차형식  엔진형식\n",
       "1147742    확인불가  뉴파워트럭  현대자동차(주)  HD8CT-20ESHa-T6  D6HC\n",
       "1147743    확인불가  뉴파워트럭  현대자동차(주)  HD8CT-20ESHa-T6  D6HC\n",
       "1147744    확인불가  뉴파워트럭  현대자동차(주)  HD8CT-20ESHa-T6  D6HC"
      ]
     },
     "execution_count": 23,
     "metadata": {},
     "output_type": "execute_result"
    }
   ],
   "source": [
    "result2.loc[(result2['등급_수정'] == 3) & (result2['배인번호_수정'] == '확인불가'), ['배인번호_수정', '차명', '제작사명', '자동차형식', '엔진형식']]"
   ]
  },
  {
   "attachments": {},
   "cell_type": "markdown",
   "metadata": {},
   "source": [
    "#### 샘플 출력"
   ]
  },
  {
   "cell_type": "code",
   "execution_count": 24,
   "metadata": {},
   "outputs": [],
   "source": [
    "# result2.loc[(result2['등급_수정'] == 3) & (result2['배인번호_수정'] == '확인불가')].to_excel(os.path.join(raw_fold, '샘플_3등급_확인불가_차량.xlsx'), index=False)"
   ]
  },
  {
   "attachments": {},
   "cell_type": "markdown",
   "metadata": {},
   "source": [
    "### [출력] result2"
   ]
  },
  {
   "cell_type": "code",
   "execution_count": 25,
   "metadata": {},
   "outputs": [],
   "source": [
    "# today_date = datetime.today().strftime(\"%Y.%m.%d\")\n",
    "# today_date"
   ]
  },
  {
   "cell_type": "code",
   "execution_count": 26,
   "metadata": {},
   "outputs": [],
   "source": [
    "# # about 15s\n",
    "# result2.to_csv(os.path.join(raw_fold, f'4등급 차량 리스트 양식 result 최종({today_date}).csv'), index=False, encoding='cp949')"
   ]
  },
  {
   "attachments": {},
   "cell_type": "markdown",
   "metadata": {},
   "source": [
    "## 등급_수정 4등급만 추출"
   ]
  },
  {
   "cell_type": "code",
   "execution_count": 27,
   "metadata": {},
   "outputs": [
    {
     "data": {
      "text/plain": [
       "4    1148315\n",
       "3       5372\n",
       "5        126\n",
       "Name: 등급_수정, dtype: int64"
      ]
     },
     "execution_count": 27,
     "metadata": {},
     "output_type": "execute_result"
    }
   ],
   "source": [
    "result2['등급_수정'].value_counts(dropna=False)"
   ]
  },
  {
   "cell_type": "code",
   "execution_count": 28,
   "metadata": {},
   "outputs": [
    {
     "data": {
      "text/plain": [
       "(1148315, 31)"
      ]
     },
     "execution_count": 28,
     "metadata": {},
     "output_type": "execute_result"
    }
   ],
   "source": [
    "result3 = result2.loc[result2['등급_수정'] == 4]\n",
    "result3.shape"
   ]
  },
  {
   "attachments": {},
   "cell_type": "markdown",
   "metadata": {},
   "source": [
    "## 정기&정밀 검사 특정 기간 데이터 추출"
   ]
  },
  {
   "cell_type": "code",
   "execution_count": 30,
   "metadata": {},
   "outputs": [
    {
     "data": {
      "text/plain": [
       "dtype('int64')"
      ]
     },
     "execution_count": 30,
     "metadata": {},
     "output_type": "execute_result"
    }
   ],
   "source": [
    "tin['검사일자'].dtype"
   ]
  },
  {
   "cell_type": "code",
   "execution_count": 31,
   "metadata": {},
   "outputs": [
    {
     "data": {
      "text/plain": [
       "(20714502, 42)"
      ]
     },
     "execution_count": 31,
     "metadata": {},
     "output_type": "execute_result"
    }
   ],
   "source": [
    "tin1 = tin.loc[(tin['검사일자'] >= 20200108) & (tin['검사일자'] <= 20230107)]\n",
    "tin1.shape"
   ]
  },
  {
   "cell_type": "code",
   "execution_count": 32,
   "metadata": {},
   "outputs": [
    {
     "data": {
      "text/plain": [
       "count   20714502.00\n",
       "mean    20215015.93\n",
       "std         6694.21\n",
       "min     20200108.00\n",
       "25%     20210614.00\n",
       "50%     20220117.00\n",
       "75%     20220623.00\n",
       "max     20230107.00\n",
       "Name: 검사일자, dtype: float64"
      ]
     },
     "execution_count": 32,
     "metadata": {},
     "output_type": "execute_result"
    }
   ],
   "source": [
    "tin1['검사일자'].describe()"
   ]
  },
  {
   "attachments": {},
   "cell_type": "markdown",
   "metadata": {},
   "source": [
    "## result와 정기&정밀 검사 파일 병합"
   ]
  },
  {
   "cell_type": "code",
   "execution_count": 33,
   "metadata": {},
   "outputs": [
    {
     "name": "stderr",
     "output_type": "stream",
     "text": [
      "\u001b[2m\u001b[36m(deploy_ray_func pid=16452)\u001b[0m 2023-03-24 09:10:12,540\tERROR serialization.py:371 -- \n",
      "\u001b[2m\u001b[36m(deploy_ray_func pid=16452)\u001b[0m Traceback (most recent call last):\n",
      "\u001b[2m\u001b[36m(deploy_ray_func pid=16452)\u001b[0m   File \"C:\\Users\\kbjung\\AppData\\Roaming\\Python\\Python39\\site-packages\\ray\\_private\\serialization.py\", line 369, in deserialize_objects\n",
      "\u001b[2m\u001b[36m(deploy_ray_func pid=16452)\u001b[0m     obj = self._deserialize_object(data, metadata, object_ref)\n",
      "\u001b[2m\u001b[36m(deploy_ray_func pid=16452)\u001b[0m   File \"C:\\Users\\kbjung\\AppData\\Roaming\\Python\\Python39\\site-packages\\ray\\_private\\serialization.py\", line 252, in _deserialize_object\n",
      "\u001b[2m\u001b[36m(deploy_ray_func pid=16452)\u001b[0m     return self._deserialize_msgpack_data(data, metadata_fields)\n",
      "\u001b[2m\u001b[36m(deploy_ray_func pid=16452)\u001b[0m   File \"C:\\Users\\kbjung\\AppData\\Roaming\\Python\\Python39\\site-packages\\ray\\_private\\serialization.py\", line 207, in _deserialize_msgpack_data\n",
      "\u001b[2m\u001b[36m(deploy_ray_func pid=16452)\u001b[0m     python_objects = self._deserialize_pickle5_data(pickle5_data)\n",
      "\u001b[2m\u001b[36m(deploy_ray_func pid=16452)\u001b[0m   File \"C:\\Users\\kbjung\\AppData\\Roaming\\Python\\Python39\\site-packages\\ray\\_private\\serialization.py\", line 195, in _deserialize_pickle5_data\n",
      "\u001b[2m\u001b[36m(deploy_ray_func pid=16452)\u001b[0m     obj = pickle.loads(in_band, buffers=buffers)\n",
      "\u001b[2m\u001b[36m(deploy_ray_func pid=16452)\u001b[0m MemoryError\n",
      "\u001b[2m\u001b[36m(deploy_ray_func pid=34672)\u001b[0m 2023-03-24 09:10:12,101\tERROR serialization.py:371 -- \n",
      "\u001b[2m\u001b[36m(deploy_ray_func pid=34672)\u001b[0m Traceback (most recent call last):\n",
      "\u001b[2m\u001b[36m(deploy_ray_func pid=34672)\u001b[0m   File \"C:\\Users\\kbjung\\AppData\\Roaming\\Python\\Python39\\site-packages\\ray\\_private\\serialization.py\", line 369, in deserialize_objects\n",
      "\u001b[2m\u001b[36m(deploy_ray_func pid=34672)\u001b[0m     obj = self._deserialize_object(data, metadata, object_ref)\n",
      "\u001b[2m\u001b[36m(deploy_ray_func pid=34672)\u001b[0m   File \"C:\\Users\\kbjung\\AppData\\Roaming\\Python\\Python39\\site-packages\\ray\\_private\\serialization.py\", line 252, in _deserialize_object\n",
      "\u001b[2m\u001b[36m(deploy_ray_func pid=34672)\u001b[0m     return self._deserialize_msgpack_data(data, metadata_fields)\n",
      "\u001b[2m\u001b[36m(deploy_ray_func pid=34672)\u001b[0m   File \"C:\\Users\\kbjung\\AppData\\Roaming\\Python\\Python39\\site-packages\\ray\\_private\\serialization.py\", line 207, in _deserialize_msgpack_data\n",
      "\u001b[2m\u001b[36m(deploy_ray_func pid=34672)\u001b[0m     python_objects = self._deserialize_pickle5_data(pickle5_data)\n",
      "\u001b[2m\u001b[36m(deploy_ray_func pid=34672)\u001b[0m   File \"C:\\Users\\kbjung\\AppData\\Roaming\\Python\\Python39\\site-packages\\ray\\_private\\serialization.py\", line 195, in _deserialize_pickle5_data\n",
      "\u001b[2m\u001b[36m(deploy_ray_func pid=34672)\u001b[0m     obj = pickle.loads(in_band, buffers=buffers)\n",
      "\u001b[2m\u001b[36m(deploy_ray_func pid=34672)\u001b[0m MemoryError\n",
      "\u001b[2m\u001b[36m(deploy_ray_func pid=26872)\u001b[0m 2023-03-24 09:10:12,408\tERROR serialization.py:371 -- \n",
      "\u001b[2m\u001b[36m(deploy_ray_func pid=26872)\u001b[0m Traceback (most recent call last):\n",
      "\u001b[2m\u001b[36m(deploy_ray_func pid=26872)\u001b[0m   File \"C:\\Users\\kbjung\\AppData\\Roaming\\Python\\Python39\\site-packages\\ray\\_private\\serialization.py\", line 369, in deserialize_objects\n",
      "\u001b[2m\u001b[36m(deploy_ray_func pid=26872)\u001b[0m     obj = self._deserialize_object(data, metadata, object_ref)\n",
      "\u001b[2m\u001b[36m(deploy_ray_func pid=26872)\u001b[0m   File \"C:\\Users\\kbjung\\AppData\\Roaming\\Python\\Python39\\site-packages\\ray\\_private\\serialization.py\", line 252, in _deserialize_object\n",
      "\u001b[2m\u001b[36m(deploy_ray_func pid=26872)\u001b[0m     return self._deserialize_msgpack_data(data, metadata_fields)\n",
      "\u001b[2m\u001b[36m(deploy_ray_func pid=26872)\u001b[0m   File \"C:\\Users\\kbjung\\AppData\\Roaming\\Python\\Python39\\site-packages\\ray\\_private\\serialization.py\", line 207, in _deserialize_msgpack_data\n",
      "\u001b[2m\u001b[36m(deploy_ray_func pid=26872)\u001b[0m     python_objects = self._deserialize_pickle5_data(pickle5_data)\n",
      "\u001b[2m\u001b[36m(deploy_ray_func pid=26872)\u001b[0m   File \"C:\\Users\\kbjung\\AppData\\Roaming\\Python\\Python39\\site-packages\\ray\\_private\\serialization.py\", line 195, in _deserialize_pickle5_data\n",
      "\u001b[2m\u001b[36m(deploy_ray_func pid=26872)\u001b[0m     obj = pickle.loads(in_band, buffers=buffers)\n",
      "\u001b[2m\u001b[36m(deploy_ray_func pid=26872)\u001b[0m MemoryError\n",
      "\u001b[2m\u001b[36m(deploy_ray_func pid=42268)\u001b[0m 2023-03-24 09:10:11,210\tERROR serialization.py:371 -- \n",
      "\u001b[2m\u001b[36m(deploy_ray_func pid=42268)\u001b[0m Traceback (most recent call last):\n",
      "\u001b[2m\u001b[36m(deploy_ray_func pid=42268)\u001b[0m   File \"C:\\Users\\kbjung\\AppData\\Roaming\\Python\\Python39\\site-packages\\ray\\_private\\serialization.py\", line 369, in deserialize_objects\n",
      "\u001b[2m\u001b[36m(deploy_ray_func pid=42268)\u001b[0m     obj = self._deserialize_object(data, metadata, object_ref)\n",
      "\u001b[2m\u001b[36m(deploy_ray_func pid=42268)\u001b[0m   File \"C:\\Users\\kbjung\\AppData\\Roaming\\Python\\Python39\\site-packages\\ray\\_private\\serialization.py\", line 252, in _deserialize_object\n",
      "\u001b[2m\u001b[36m(deploy_ray_func pid=42268)\u001b[0m     return self._deserialize_msgpack_data(data, metadata_fields)\n",
      "\u001b[2m\u001b[36m(deploy_ray_func pid=42268)\u001b[0m   File \"C:\\Users\\kbjung\\AppData\\Roaming\\Python\\Python39\\site-packages\\ray\\_private\\serialization.py\", line 207, in _deserialize_msgpack_data\n",
      "\u001b[2m\u001b[36m(deploy_ray_func pid=42268)\u001b[0m     python_objects = self._deserialize_pickle5_data(pickle5_data)\n",
      "\u001b[2m\u001b[36m(deploy_ray_func pid=42268)\u001b[0m   File \"C:\\Users\\kbjung\\AppData\\Roaming\\Python\\Python39\\site-packages\\ray\\_private\\serialization.py\", line 195, in _deserialize_pickle5_data\n",
      "\u001b[2m\u001b[36m(deploy_ray_func pid=42268)\u001b[0m     obj = pickle.loads(in_band, buffers=buffers)\n",
      "\u001b[2m\u001b[36m(deploy_ray_func pid=42268)\u001b[0m MemoryError\n",
      "\u001b[2m\u001b[36m(deploy_ray_func pid=36536)\u001b[0m 2023-03-24 09:10:13,892\tERROR serialization.py:371 -- \n",
      "\u001b[2m\u001b[36m(deploy_ray_func pid=36536)\u001b[0m Traceback (most recent call last):\n",
      "\u001b[2m\u001b[36m(deploy_ray_func pid=36536)\u001b[0m   File \"C:\\Users\\kbjung\\AppData\\Roaming\\Python\\Python39\\site-packages\\ray\\_private\\serialization.py\", line 369, in deserialize_objects\n",
      "\u001b[2m\u001b[36m(deploy_ray_func pid=36536)\u001b[0m     obj = self._deserialize_object(data, metadata, object_ref)\n",
      "\u001b[2m\u001b[36m(deploy_ray_func pid=36536)\u001b[0m   File \"C:\\Users\\kbjung\\AppData\\Roaming\\Python\\Python39\\site-packages\\ray\\_private\\serialization.py\", line 252, in _deserialize_object\n",
      "\u001b[2m\u001b[36m(deploy_ray_func pid=36536)\u001b[0m     return self._deserialize_msgpack_data(data, metadata_fields)\n",
      "\u001b[2m\u001b[36m(deploy_ray_func pid=36536)\u001b[0m   File \"C:\\Users\\kbjung\\AppData\\Roaming\\Python\\Python39\\site-packages\\ray\\_private\\serialization.py\", line 207, in _deserialize_msgpack_data\n",
      "\u001b[2m\u001b[36m(deploy_ray_func pid=36536)\u001b[0m     python_objects = self._deserialize_pickle5_data(pickle5_data)\n",
      "\u001b[2m\u001b[36m(deploy_ray_func pid=36536)\u001b[0m   File \"C:\\Users\\kbjung\\AppData\\Roaming\\Python\\Python39\\site-packages\\ray\\_private\\serialization.py\", line 195, in _deserialize_pickle5_data\n",
      "\u001b[2m\u001b[36m(deploy_ray_func pid=36536)\u001b[0m     obj = pickle.loads(in_band, buffers=buffers)\n",
      "\u001b[2m\u001b[36m(deploy_ray_func pid=36536)\u001b[0m MemoryError\n",
      "\u001b[2m\u001b[36m(deploy_ray_func pid=27176)\u001b[0m 2023-03-24 09:10:10,863\tERROR serialization.py:371 -- \n",
      "\u001b[2m\u001b[36m(deploy_ray_func pid=27176)\u001b[0m Traceback (most recent call last):\n",
      "\u001b[2m\u001b[36m(deploy_ray_func pid=27176)\u001b[0m   File \"C:\\Users\\kbjung\\AppData\\Roaming\\Python\\Python39\\site-packages\\ray\\_private\\serialization.py\", line 369, in deserialize_objects\n",
      "\u001b[2m\u001b[36m(deploy_ray_func pid=27176)\u001b[0m     obj = self._deserialize_object(data, metadata, object_ref)\n",
      "\u001b[2m\u001b[36m(deploy_ray_func pid=27176)\u001b[0m   File \"C:\\Users\\kbjung\\AppData\\Roaming\\Python\\Python39\\site-packages\\ray\\_private\\serialization.py\", line 252, in _deserialize_object\n",
      "\u001b[2m\u001b[36m(deploy_ray_func pid=27176)\u001b[0m     return self._deserialize_msgpack_data(data, metadata_fields)\n",
      "\u001b[2m\u001b[36m(deploy_ray_func pid=27176)\u001b[0m   File \"C:\\Users\\kbjung\\AppData\\Roaming\\Python\\Python39\\site-packages\\ray\\_private\\serialization.py\", line 207, in _deserialize_msgpack_data\n",
      "\u001b[2m\u001b[36m(deploy_ray_func pid=27176)\u001b[0m     python_objects = self._deserialize_pickle5_data(pickle5_data)\n",
      "\u001b[2m\u001b[36m(deploy_ray_func pid=27176)\u001b[0m   File \"C:\\Users\\kbjung\\AppData\\Roaming\\Python\\Python39\\site-packages\\ray\\_private\\serialization.py\", line 195, in _deserialize_pickle5_data\n",
      "\u001b[2m\u001b[36m(deploy_ray_func pid=27176)\u001b[0m     obj = pickle.loads(in_band, buffers=buffers)\n",
      "\u001b[2m\u001b[36m(deploy_ray_func pid=27176)\u001b[0m MemoryError\n",
      "\u001b[2m\u001b[36m(deploy_ray_func pid=43228)\u001b[0m 2023-03-24 09:10:11,168\tERROR serialization.py:371 -- \n",
      "\u001b[2m\u001b[36m(deploy_ray_func pid=43228)\u001b[0m Traceback (most recent call last):\n",
      "\u001b[2m\u001b[36m(deploy_ray_func pid=43228)\u001b[0m   File \"C:\\Users\\kbjung\\AppData\\Roaming\\Python\\Python39\\site-packages\\ray\\_private\\serialization.py\", line 369, in deserialize_objects\n",
      "\u001b[2m\u001b[36m(deploy_ray_func pid=43228)\u001b[0m     obj = self._deserialize_object(data, metadata, object_ref)\n",
      "\u001b[2m\u001b[36m(deploy_ray_func pid=43228)\u001b[0m   File \"C:\\Users\\kbjung\\AppData\\Roaming\\Python\\Python39\\site-packages\\ray\\_private\\serialization.py\", line 252, in _deserialize_object\n",
      "\u001b[2m\u001b[36m(deploy_ray_func pid=43228)\u001b[0m     return self._deserialize_msgpack_data(data, metadata_fields)\n",
      "\u001b[2m\u001b[36m(deploy_ray_func pid=43228)\u001b[0m   File \"C:\\Users\\kbjung\\AppData\\Roaming\\Python\\Python39\\site-packages\\ray\\_private\\serialization.py\", line 207, in _deserialize_msgpack_data\n",
      "\u001b[2m\u001b[36m(deploy_ray_func pid=43228)\u001b[0m     python_objects = self._deserialize_pickle5_data(pickle5_data)\n",
      "\u001b[2m\u001b[36m(deploy_ray_func pid=43228)\u001b[0m   File \"C:\\Users\\kbjung\\AppData\\Roaming\\Python\\Python39\\site-packages\\ray\\_private\\serialization.py\", line 195, in _deserialize_pickle5_data\n",
      "\u001b[2m\u001b[36m(deploy_ray_func pid=43228)\u001b[0m     obj = pickle.loads(in_band, buffers=buffers)\n",
      "\u001b[2m\u001b[36m(deploy_ray_func pid=43228)\u001b[0m MemoryError\n",
      "\u001b[2m\u001b[36m(deploy_ray_func pid=10708)\u001b[0m 2023-03-24 09:10:12,198\tERROR serialization.py:371 -- \n",
      "\u001b[2m\u001b[36m(deploy_ray_func pid=10708)\u001b[0m Traceback (most recent call last):\n",
      "\u001b[2m\u001b[36m(deploy_ray_func pid=10708)\u001b[0m   File \"C:\\Users\\kbjung\\AppData\\Roaming\\Python\\Python39\\site-packages\\ray\\_private\\serialization.py\", line 369, in deserialize_objects\n",
      "\u001b[2m\u001b[36m(deploy_ray_func pid=10708)\u001b[0m     obj = self._deserialize_object(data, metadata, object_ref)\n",
      "\u001b[2m\u001b[36m(deploy_ray_func pid=10708)\u001b[0m   File \"C:\\Users\\kbjung\\AppData\\Roaming\\Python\\Python39\\site-packages\\ray\\_private\\serialization.py\", line 252, in _deserialize_object\n",
      "\u001b[2m\u001b[36m(deploy_ray_func pid=10708)\u001b[0m     return self._deserialize_msgpack_data(data, metadata_fields)\n",
      "\u001b[2m\u001b[36m(deploy_ray_func pid=10708)\u001b[0m   File \"C:\\Users\\kbjung\\AppData\\Roaming\\Python\\Python39\\site-packages\\ray\\_private\\serialization.py\", line 207, in _deserialize_msgpack_data\n",
      "\u001b[2m\u001b[36m(deploy_ray_func pid=10708)\u001b[0m     python_objects = self._deserialize_pickle5_data(pickle5_data)\n",
      "\u001b[2m\u001b[36m(deploy_ray_func pid=10708)\u001b[0m   File \"C:\\Users\\kbjung\\AppData\\Roaming\\Python\\Python39\\site-packages\\ray\\_private\\serialization.py\", line 195, in _deserialize_pickle5_data\n",
      "\u001b[2m\u001b[36m(deploy_ray_func pid=10708)\u001b[0m     obj = pickle.loads(in_band, buffers=buffers)\n",
      "\u001b[2m\u001b[36m(deploy_ray_func pid=10708)\u001b[0m MemoryError\n"
     ]
    },
    {
     "ename": "RayTaskError",
     "evalue": "\u001b[36mray::_apply_func()\u001b[39m (pid=16452, ip=127.0.0.1)\n  File \"python\\ray\\_raylet.pyx\", line 789, in ray._raylet.execute_task\n  File \"python\\ray\\_raylet.pyx\", line 814, in ray._raylet.execute_task\n  File \"python\\ray\\_raylet.pyx\", line 506, in ray._raylet.raise_if_dependency_failed\nray.exceptions.RayTaskError: \u001b[36mray::deploy_ray_func()\u001b[39m (pid=16452, ip=127.0.0.1)\n  File \"python\\ray\\_raylet.pyx\", line 789, in ray._raylet.execute_task\n  File \"python\\ray\\_raylet.pyx\", line 814, in ray._raylet.execute_task\n  File \"python\\ray\\_raylet.pyx\", line 506, in ray._raylet.raise_if_dependency_failed\nray.exceptions.RaySystemError: System error: \ntraceback: Traceback (most recent call last):\n  File \"C:\\Users\\kbjung\\AppData\\Roaming\\Python\\Python39\\site-packages\\ray\\_private\\serialization.py\", line 369, in deserialize_objects\n    obj = self._deserialize_object(data, metadata, object_ref)\n  File \"C:\\Users\\kbjung\\AppData\\Roaming\\Python\\Python39\\site-packages\\ray\\_private\\serialization.py\", line 252, in _deserialize_object\n    return self._deserialize_msgpack_data(data, metadata_fields)\n  File \"C:\\Users\\kbjung\\AppData\\Roaming\\Python\\Python39\\site-packages\\ray\\_private\\serialization.py\", line 207, in _deserialize_msgpack_data\n    python_objects = self._deserialize_pickle5_data(pickle5_data)\n  File \"C:\\Users\\kbjung\\AppData\\Roaming\\Python\\Python39\\site-packages\\ray\\_private\\serialization.py\", line 195, in _deserialize_pickle5_data\n    obj = pickle.loads(in_band, buffers=buffers)\nMemoryError",
     "output_type": "error",
     "traceback": [
      "\u001b[1;31m---------------------------------------------------------------------------\u001b[0m",
      "\u001b[1;31mRayTaskError\u001b[0m                              Traceback (most recent call last)",
      "\u001b[1;32m~\\AppData\\Local\\Temp\\ipykernel_41680\\2094213563.py\u001b[0m in \u001b[0;36m<module>\u001b[1;34m\u001b[0m\n\u001b[0;32m      1\u001b[0m \u001b[1;31m# about 45s\u001b[0m\u001b[1;33m\u001b[0m\u001b[1;33m\u001b[0m\u001b[0m\n\u001b[1;32m----> 2\u001b[1;33m \u001b[0mdf\u001b[0m \u001b[1;33m=\u001b[0m \u001b[0mresult3\u001b[0m\u001b[1;33m.\u001b[0m\u001b[0mmerge\u001b[0m\u001b[1;33m(\u001b[0m\u001b[0mtin1\u001b[0m\u001b[1;33m,\u001b[0m \u001b[0mon\u001b[0m\u001b[1;33m=\u001b[0m\u001b[1;34m'차대번호'\u001b[0m\u001b[1;33m,\u001b[0m \u001b[0mhow\u001b[0m\u001b[1;33m=\u001b[0m\u001b[1;34m'left'\u001b[0m\u001b[1;33m)\u001b[0m\u001b[1;33m\u001b[0m\u001b[1;33m\u001b[0m\u001b[0m\n\u001b[0m\u001b[0;32m      3\u001b[0m \u001b[0mdf\u001b[0m\u001b[1;33m.\u001b[0m\u001b[0mshape\u001b[0m\u001b[1;33m\u001b[0m\u001b[1;33m\u001b[0m\u001b[0m\n",
      "\u001b[1;32m~\\AppData\\Roaming\\Python\\Python39\\site-packages\\modin\\logging\\logger_decorator.py\u001b[0m in \u001b[0;36mrun_and_log\u001b[1;34m(*args, **kwargs)\u001b[0m\n\u001b[0;32m    126\u001b[0m             \"\"\"\n\u001b[0;32m    127\u001b[0m             \u001b[1;32mif\u001b[0m \u001b[0mLogMode\u001b[0m\u001b[1;33m.\u001b[0m\u001b[0mget\u001b[0m\u001b[1;33m(\u001b[0m\u001b[1;33m)\u001b[0m \u001b[1;33m==\u001b[0m \u001b[1;34m\"disable\"\u001b[0m\u001b[1;33m:\u001b[0m\u001b[1;33m\u001b[0m\u001b[1;33m\u001b[0m\u001b[0m\n\u001b[1;32m--> 128\u001b[1;33m                 \u001b[1;32mreturn\u001b[0m \u001b[0mobj\u001b[0m\u001b[1;33m(\u001b[0m\u001b[1;33m*\u001b[0m\u001b[0margs\u001b[0m\u001b[1;33m,\u001b[0m \u001b[1;33m**\u001b[0m\u001b[0mkwargs\u001b[0m\u001b[1;33m)\u001b[0m\u001b[1;33m\u001b[0m\u001b[1;33m\u001b[0m\u001b[0m\n\u001b[0m\u001b[0;32m    129\u001b[0m \u001b[1;33m\u001b[0m\u001b[0m\n\u001b[0;32m    130\u001b[0m             \u001b[0mlogger\u001b[0m \u001b[1;33m=\u001b[0m \u001b[0mget_logger\u001b[0m\u001b[1;33m(\u001b[0m\u001b[1;33m)\u001b[0m\u001b[1;33m\u001b[0m\u001b[1;33m\u001b[0m\u001b[0m\n",
      "\u001b[1;32m~\\AppData\\Roaming\\Python\\Python39\\site-packages\\modin\\pandas\\dataframe.py\u001b[0m in \u001b[0;36mmerge\u001b[1;34m(self, right, how, on, left_on, right_on, left_index, right_index, sort, suffixes, copy, indicator, validate)\u001b[0m\n\u001b[0;32m   1502\u001b[0m \u001b[1;33m\u001b[0m\u001b[0m\n\u001b[0;32m   1503\u001b[0m         return self.__constructor__(\n\u001b[1;32m-> 1504\u001b[1;33m             query_compiler=self._query_compiler.merge(\n\u001b[0m\u001b[0;32m   1505\u001b[0m                 \u001b[0mright\u001b[0m\u001b[1;33m.\u001b[0m\u001b[0m_query_compiler\u001b[0m\u001b[1;33m,\u001b[0m\u001b[1;33m\u001b[0m\u001b[1;33m\u001b[0m\u001b[0m\n\u001b[0;32m   1506\u001b[0m                 \u001b[0mhow\u001b[0m\u001b[1;33m=\u001b[0m\u001b[0mhow\u001b[0m\u001b[1;33m,\u001b[0m\u001b[1;33m\u001b[0m\u001b[1;33m\u001b[0m\u001b[0m\n",
      "\u001b[1;32m~\\AppData\\Roaming\\Python\\Python39\\site-packages\\modin\\logging\\logger_decorator.py\u001b[0m in \u001b[0;36mrun_and_log\u001b[1;34m(*args, **kwargs)\u001b[0m\n\u001b[0;32m    126\u001b[0m             \"\"\"\n\u001b[0;32m    127\u001b[0m             \u001b[1;32mif\u001b[0m \u001b[0mLogMode\u001b[0m\u001b[1;33m.\u001b[0m\u001b[0mget\u001b[0m\u001b[1;33m(\u001b[0m\u001b[1;33m)\u001b[0m \u001b[1;33m==\u001b[0m \u001b[1;34m\"disable\"\u001b[0m\u001b[1;33m:\u001b[0m\u001b[1;33m\u001b[0m\u001b[1;33m\u001b[0m\u001b[0m\n\u001b[1;32m--> 128\u001b[1;33m                 \u001b[1;32mreturn\u001b[0m \u001b[0mobj\u001b[0m\u001b[1;33m(\u001b[0m\u001b[1;33m*\u001b[0m\u001b[0margs\u001b[0m\u001b[1;33m,\u001b[0m \u001b[1;33m**\u001b[0m\u001b[0mkwargs\u001b[0m\u001b[1;33m)\u001b[0m\u001b[1;33m\u001b[0m\u001b[1;33m\u001b[0m\u001b[0m\n\u001b[0m\u001b[0;32m    129\u001b[0m \u001b[1;33m\u001b[0m\u001b[0m\n\u001b[0;32m    130\u001b[0m             \u001b[0mlogger\u001b[0m \u001b[1;33m=\u001b[0m \u001b[0mget_logger\u001b[0m\u001b[1;33m(\u001b[0m\u001b[1;33m)\u001b[0m\u001b[1;33m\u001b[0m\u001b[1;33m\u001b[0m\u001b[0m\n",
      "\u001b[1;32m~\\AppData\\Roaming\\Python\\Python39\\site-packages\\modin\\core\\storage_formats\\pandas\\query_compiler.py\u001b[0m in \u001b[0;36mmerge\u001b[1;34m(self, right, **kwargs)\u001b[0m\n\u001b[0;32m    480\u001b[0m \u001b[1;33m\u001b[0m\u001b[0m\n\u001b[0;32m    481\u001b[0m             new_self = self.__constructor__(\n\u001b[1;32m--> 482\u001b[1;33m                 \u001b[0mself\u001b[0m\u001b[1;33m.\u001b[0m\u001b[0m_modin_frame\u001b[0m\u001b[1;33m.\u001b[0m\u001b[0mapply_full_axis\u001b[0m\u001b[1;33m(\u001b[0m\u001b[1;36m1\u001b[0m\u001b[1;33m,\u001b[0m \u001b[0mmap_func\u001b[0m\u001b[1;33m)\u001b[0m\u001b[1;33m\u001b[0m\u001b[1;33m\u001b[0m\u001b[0m\n\u001b[0m\u001b[0;32m    483\u001b[0m             )\n\u001b[0;32m    484\u001b[0m             \u001b[0mis_reset_index\u001b[0m \u001b[1;33m=\u001b[0m \u001b[1;32mTrue\u001b[0m\u001b[1;33m\u001b[0m\u001b[1;33m\u001b[0m\u001b[0m\n",
      "\u001b[1;32m~\\AppData\\Roaming\\Python\\Python39\\site-packages\\modin\\logging\\logger_decorator.py\u001b[0m in \u001b[0;36mrun_and_log\u001b[1;34m(*args, **kwargs)\u001b[0m\n\u001b[0;32m    126\u001b[0m             \"\"\"\n\u001b[0;32m    127\u001b[0m             \u001b[1;32mif\u001b[0m \u001b[0mLogMode\u001b[0m\u001b[1;33m.\u001b[0m\u001b[0mget\u001b[0m\u001b[1;33m(\u001b[0m\u001b[1;33m)\u001b[0m \u001b[1;33m==\u001b[0m \u001b[1;34m\"disable\"\u001b[0m\u001b[1;33m:\u001b[0m\u001b[1;33m\u001b[0m\u001b[1;33m\u001b[0m\u001b[0m\n\u001b[1;32m--> 128\u001b[1;33m                 \u001b[1;32mreturn\u001b[0m \u001b[0mobj\u001b[0m\u001b[1;33m(\u001b[0m\u001b[1;33m*\u001b[0m\u001b[0margs\u001b[0m\u001b[1;33m,\u001b[0m \u001b[1;33m**\u001b[0m\u001b[0mkwargs\u001b[0m\u001b[1;33m)\u001b[0m\u001b[1;33m\u001b[0m\u001b[1;33m\u001b[0m\u001b[0m\n\u001b[0m\u001b[0;32m    129\u001b[0m \u001b[1;33m\u001b[0m\u001b[0m\n\u001b[0;32m    130\u001b[0m             \u001b[0mlogger\u001b[0m \u001b[1;33m=\u001b[0m \u001b[0mget_logger\u001b[0m\u001b[1;33m(\u001b[0m\u001b[1;33m)\u001b[0m\u001b[1;33m\u001b[0m\u001b[1;33m\u001b[0m\u001b[0m\n",
      "\u001b[1;32m~\\AppData\\Roaming\\Python\\Python39\\site-packages\\modin\\core\\dataframe\\pandas\\dataframe\\dataframe.py\u001b[0m in \u001b[0;36mrun_f_on_minimally_updated_metadata\u001b[1;34m(self, *args, **kwargs)\u001b[0m\n\u001b[0;32m    124\u001b[0m                 \u001b[1;32melif\u001b[0m \u001b[0mapply_axis\u001b[0m \u001b[1;33m==\u001b[0m \u001b[1;34m\"rows\"\u001b[0m\u001b[1;33m:\u001b[0m\u001b[1;33m\u001b[0m\u001b[1;33m\u001b[0m\u001b[0m\n\u001b[0;32m    125\u001b[0m                     \u001b[0mobj\u001b[0m\u001b[1;33m.\u001b[0m\u001b[0m_propagate_index_objs\u001b[0m\u001b[1;33m(\u001b[0m\u001b[0maxis\u001b[0m\u001b[1;33m=\u001b[0m\u001b[1;36m0\u001b[0m\u001b[1;33m)\u001b[0m\u001b[1;33m\u001b[0m\u001b[1;33m\u001b[0m\u001b[0m\n\u001b[1;32m--> 126\u001b[1;33m             \u001b[0mresult\u001b[0m \u001b[1;33m=\u001b[0m \u001b[0mf\u001b[0m\u001b[1;33m(\u001b[0m\u001b[0mself\u001b[0m\u001b[1;33m,\u001b[0m \u001b[1;33m*\u001b[0m\u001b[0margs\u001b[0m\u001b[1;33m,\u001b[0m \u001b[1;33m**\u001b[0m\u001b[0mkwargs\u001b[0m\u001b[1;33m)\u001b[0m\u001b[1;33m\u001b[0m\u001b[1;33m\u001b[0m\u001b[0m\n\u001b[0m\u001b[0;32m    127\u001b[0m             \u001b[1;32mif\u001b[0m \u001b[0mapply_axis\u001b[0m \u001b[1;32mis\u001b[0m \u001b[1;32mNone\u001b[0m \u001b[1;32mand\u001b[0m \u001b[1;32mnot\u001b[0m \u001b[0mtranspose\u001b[0m\u001b[1;33m:\u001b[0m\u001b[1;33m\u001b[0m\u001b[1;33m\u001b[0m\u001b[0m\n\u001b[0;32m    128\u001b[0m                 \u001b[0mresult\u001b[0m\u001b[1;33m.\u001b[0m\u001b[0m_deferred_index\u001b[0m \u001b[1;33m=\u001b[0m \u001b[0mself\u001b[0m\u001b[1;33m.\u001b[0m\u001b[0m_deferred_index\u001b[0m\u001b[1;33m\u001b[0m\u001b[1;33m\u001b[0m\u001b[0m\n",
      "\u001b[1;32m~\\AppData\\Roaming\\Python\\Python39\\site-packages\\modin\\core\\dataframe\\pandas\\dataframe\\dataframe.py\u001b[0m in \u001b[0;36mapply_full_axis\u001b[1;34m(self, axis, func, new_index, new_columns, dtypes, keep_partitioning)\u001b[0m\n\u001b[0;32m   2216\u001b[0m         \u001b[0mThe\u001b[0m \u001b[0mdata\u001b[0m \u001b[0mshape\u001b[0m \u001b[0mmay\u001b[0m \u001b[0mchange\u001b[0m \u001b[1;32mas\u001b[0m \u001b[0ma\u001b[0m \u001b[0mresult\u001b[0m \u001b[0mof\u001b[0m \u001b[0mthe\u001b[0m \u001b[0mfunction\u001b[0m\u001b[1;33m.\u001b[0m\u001b[1;33m\u001b[0m\u001b[1;33m\u001b[0m\u001b[0m\n\u001b[0;32m   2217\u001b[0m         \"\"\"\n\u001b[1;32m-> 2218\u001b[1;33m         return self.broadcast_apply_full_axis(\n\u001b[0m\u001b[0;32m   2219\u001b[0m             \u001b[0maxis\u001b[0m\u001b[1;33m=\u001b[0m\u001b[0maxis\u001b[0m\u001b[1;33m,\u001b[0m\u001b[1;33m\u001b[0m\u001b[1;33m\u001b[0m\u001b[0m\n\u001b[0;32m   2220\u001b[0m             \u001b[0mfunc\u001b[0m\u001b[1;33m=\u001b[0m\u001b[0mfunc\u001b[0m\u001b[1;33m,\u001b[0m\u001b[1;33m\u001b[0m\u001b[1;33m\u001b[0m\u001b[0m\n",
      "\u001b[1;32m~\\AppData\\Roaming\\Python\\Python39\\site-packages\\modin\\logging\\logger_decorator.py\u001b[0m in \u001b[0;36mrun_and_log\u001b[1;34m(*args, **kwargs)\u001b[0m\n\u001b[0;32m    126\u001b[0m             \"\"\"\n\u001b[0;32m    127\u001b[0m             \u001b[1;32mif\u001b[0m \u001b[0mLogMode\u001b[0m\u001b[1;33m.\u001b[0m\u001b[0mget\u001b[0m\u001b[1;33m(\u001b[0m\u001b[1;33m)\u001b[0m \u001b[1;33m==\u001b[0m \u001b[1;34m\"disable\"\u001b[0m\u001b[1;33m:\u001b[0m\u001b[1;33m\u001b[0m\u001b[1;33m\u001b[0m\u001b[0m\n\u001b[1;32m--> 128\u001b[1;33m                 \u001b[1;32mreturn\u001b[0m \u001b[0mobj\u001b[0m\u001b[1;33m(\u001b[0m\u001b[1;33m*\u001b[0m\u001b[0margs\u001b[0m\u001b[1;33m,\u001b[0m \u001b[1;33m**\u001b[0m\u001b[0mkwargs\u001b[0m\u001b[1;33m)\u001b[0m\u001b[1;33m\u001b[0m\u001b[1;33m\u001b[0m\u001b[0m\n\u001b[0m\u001b[0;32m    129\u001b[0m \u001b[1;33m\u001b[0m\u001b[0m\n\u001b[0;32m    130\u001b[0m             \u001b[0mlogger\u001b[0m \u001b[1;33m=\u001b[0m \u001b[0mget_logger\u001b[0m\u001b[1;33m(\u001b[0m\u001b[1;33m)\u001b[0m\u001b[1;33m\u001b[0m\u001b[1;33m\u001b[0m\u001b[0m\n",
      "\u001b[1;32m~\\AppData\\Roaming\\Python\\Python39\\site-packages\\modin\\core\\dataframe\\pandas\\dataframe\\dataframe.py\u001b[0m in \u001b[0;36mrun_f_on_minimally_updated_metadata\u001b[1;34m(self, *args, **kwargs)\u001b[0m\n\u001b[0;32m    124\u001b[0m                 \u001b[1;32melif\u001b[0m \u001b[0mapply_axis\u001b[0m \u001b[1;33m==\u001b[0m \u001b[1;34m\"rows\"\u001b[0m\u001b[1;33m:\u001b[0m\u001b[1;33m\u001b[0m\u001b[1;33m\u001b[0m\u001b[0m\n\u001b[0;32m    125\u001b[0m                     \u001b[0mobj\u001b[0m\u001b[1;33m.\u001b[0m\u001b[0m_propagate_index_objs\u001b[0m\u001b[1;33m(\u001b[0m\u001b[0maxis\u001b[0m\u001b[1;33m=\u001b[0m\u001b[1;36m0\u001b[0m\u001b[1;33m)\u001b[0m\u001b[1;33m\u001b[0m\u001b[1;33m\u001b[0m\u001b[0m\n\u001b[1;32m--> 126\u001b[1;33m             \u001b[0mresult\u001b[0m \u001b[1;33m=\u001b[0m \u001b[0mf\u001b[0m\u001b[1;33m(\u001b[0m\u001b[0mself\u001b[0m\u001b[1;33m,\u001b[0m \u001b[1;33m*\u001b[0m\u001b[0margs\u001b[0m\u001b[1;33m,\u001b[0m \u001b[1;33m**\u001b[0m\u001b[0mkwargs\u001b[0m\u001b[1;33m)\u001b[0m\u001b[1;33m\u001b[0m\u001b[1;33m\u001b[0m\u001b[0m\n\u001b[0m\u001b[0;32m    127\u001b[0m             \u001b[1;32mif\u001b[0m \u001b[0mapply_axis\u001b[0m \u001b[1;32mis\u001b[0m \u001b[1;32mNone\u001b[0m \u001b[1;32mand\u001b[0m \u001b[1;32mnot\u001b[0m \u001b[0mtranspose\u001b[0m\u001b[1;33m:\u001b[0m\u001b[1;33m\u001b[0m\u001b[1;33m\u001b[0m\u001b[0m\n\u001b[0;32m    128\u001b[0m                 \u001b[0mresult\u001b[0m\u001b[1;33m.\u001b[0m\u001b[0m_deferred_index\u001b[0m \u001b[1;33m=\u001b[0m \u001b[0mself\u001b[0m\u001b[1;33m.\u001b[0m\u001b[0m_deferred_index\u001b[0m\u001b[1;33m\u001b[0m\u001b[1;33m\u001b[0m\u001b[0m\n",
      "\u001b[1;32m~\\AppData\\Roaming\\Python\\Python39\\site-packages\\modin\\core\\dataframe\\pandas\\dataframe\\dataframe.py\u001b[0m in \u001b[0;36mbroadcast_apply_full_axis\u001b[1;34m(self, axis, func, other, new_index, new_columns, apply_indices, enumerate_partitions, dtypes, keep_partitioning)\u001b[0m\n\u001b[0;32m   2672\u001b[0m         )\n\u001b[0;32m   2673\u001b[0m         \u001b[1;31m# Index objects for new object creation. This is shorter than if..else\u001b[0m\u001b[1;33m\u001b[0m\u001b[1;33m\u001b[0m\u001b[0m\n\u001b[1;32m-> 2674\u001b[1;33m         \u001b[0mkw\u001b[0m \u001b[1;33m=\u001b[0m \u001b[0mself\u001b[0m\u001b[1;33m.\u001b[0m\u001b[0m__make_init_labels_args\u001b[0m\u001b[1;33m(\u001b[0m\u001b[0mnew_partitions\u001b[0m\u001b[1;33m,\u001b[0m \u001b[0mnew_index\u001b[0m\u001b[1;33m,\u001b[0m \u001b[0mnew_columns\u001b[0m\u001b[1;33m)\u001b[0m\u001b[1;33m\u001b[0m\u001b[1;33m\u001b[0m\u001b[0m\n\u001b[0m\u001b[0;32m   2675\u001b[0m         \u001b[1;32mif\u001b[0m \u001b[0mdtypes\u001b[0m \u001b[1;33m==\u001b[0m \u001b[1;34m\"copy\"\u001b[0m\u001b[1;33m:\u001b[0m\u001b[1;33m\u001b[0m\u001b[1;33m\u001b[0m\u001b[0m\n\u001b[0;32m   2676\u001b[0m             \u001b[0mkw\u001b[0m\u001b[1;33m[\u001b[0m\u001b[1;34m\"dtypes\"\u001b[0m\u001b[1;33m]\u001b[0m \u001b[1;33m=\u001b[0m \u001b[0mself\u001b[0m\u001b[1;33m.\u001b[0m\u001b[0m_dtypes\u001b[0m\u001b[1;33m\u001b[0m\u001b[1;33m\u001b[0m\u001b[0m\n",
      "\u001b[1;32m~\\AppData\\Roaming\\Python\\Python39\\site-packages\\modin\\logging\\logger_decorator.py\u001b[0m in \u001b[0;36mrun_and_log\u001b[1;34m(*args, **kwargs)\u001b[0m\n\u001b[0;32m    126\u001b[0m             \"\"\"\n\u001b[0;32m    127\u001b[0m             \u001b[1;32mif\u001b[0m \u001b[0mLogMode\u001b[0m\u001b[1;33m.\u001b[0m\u001b[0mget\u001b[0m\u001b[1;33m(\u001b[0m\u001b[1;33m)\u001b[0m \u001b[1;33m==\u001b[0m \u001b[1;34m\"disable\"\u001b[0m\u001b[1;33m:\u001b[0m\u001b[1;33m\u001b[0m\u001b[1;33m\u001b[0m\u001b[0m\n\u001b[1;32m--> 128\u001b[1;33m                 \u001b[1;32mreturn\u001b[0m \u001b[0mobj\u001b[0m\u001b[1;33m(\u001b[0m\u001b[1;33m*\u001b[0m\u001b[0margs\u001b[0m\u001b[1;33m,\u001b[0m \u001b[1;33m**\u001b[0m\u001b[0mkwargs\u001b[0m\u001b[1;33m)\u001b[0m\u001b[1;33m\u001b[0m\u001b[1;33m\u001b[0m\u001b[0m\n\u001b[0m\u001b[0;32m    129\u001b[0m \u001b[1;33m\u001b[0m\u001b[0m\n\u001b[0;32m    130\u001b[0m             \u001b[0mlogger\u001b[0m \u001b[1;33m=\u001b[0m \u001b[0mget_logger\u001b[0m\u001b[1;33m(\u001b[0m\u001b[1;33m)\u001b[0m\u001b[1;33m\u001b[0m\u001b[1;33m\u001b[0m\u001b[0m\n",
      "\u001b[1;32m~\\AppData\\Roaming\\Python\\Python39\\site-packages\\modin\\core\\dataframe\\pandas\\dataframe\\dataframe.py\u001b[0m in \u001b[0;36m__make_init_labels_args\u001b[1;34m(self, partitions, index, columns)\u001b[0m\n\u001b[0;32m   2510\u001b[0m         \u001b[0mkw\u001b[0m \u001b[1;33m=\u001b[0m \u001b[1;33m{\u001b[0m\u001b[1;33m}\u001b[0m\u001b[1;33m\u001b[0m\u001b[1;33m\u001b[0m\u001b[0m\n\u001b[0;32m   2511\u001b[0m         kw[\"index\"], kw[\"row_lengths\"] = (\n\u001b[1;32m-> 2512\u001b[1;33m             \u001b[0mself\u001b[0m\u001b[1;33m.\u001b[0m\u001b[0m_compute_axis_labels_and_lengths\u001b[0m\u001b[1;33m(\u001b[0m\u001b[1;36m0\u001b[0m\u001b[1;33m,\u001b[0m \u001b[0mpartitions\u001b[0m\u001b[1;33m)\u001b[0m\u001b[1;33m\u001b[0m\u001b[1;33m\u001b[0m\u001b[0m\n\u001b[0m\u001b[0;32m   2513\u001b[0m             \u001b[1;32mif\u001b[0m \u001b[0mindex\u001b[0m \u001b[1;32mis\u001b[0m \u001b[1;32mNone\u001b[0m\u001b[1;33m\u001b[0m\u001b[1;33m\u001b[0m\u001b[0m\n\u001b[0;32m   2514\u001b[0m             \u001b[1;32melse\u001b[0m \u001b[1;33m(\u001b[0m\u001b[0mindex\u001b[0m\u001b[1;33m,\u001b[0m \u001b[1;32mNone\u001b[0m\u001b[1;33m)\u001b[0m\u001b[1;33m\u001b[0m\u001b[1;33m\u001b[0m\u001b[0m\n",
      "\u001b[1;32m~\\AppData\\Roaming\\Python\\Python39\\site-packages\\modin\\logging\\logger_decorator.py\u001b[0m in \u001b[0;36mrun_and_log\u001b[1;34m(*args, **kwargs)\u001b[0m\n\u001b[0;32m    126\u001b[0m             \"\"\"\n\u001b[0;32m    127\u001b[0m             \u001b[1;32mif\u001b[0m \u001b[0mLogMode\u001b[0m\u001b[1;33m.\u001b[0m\u001b[0mget\u001b[0m\u001b[1;33m(\u001b[0m\u001b[1;33m)\u001b[0m \u001b[1;33m==\u001b[0m \u001b[1;34m\"disable\"\u001b[0m\u001b[1;33m:\u001b[0m\u001b[1;33m\u001b[0m\u001b[1;33m\u001b[0m\u001b[0m\n\u001b[1;32m--> 128\u001b[1;33m                 \u001b[1;32mreturn\u001b[0m \u001b[0mobj\u001b[0m\u001b[1;33m(\u001b[0m\u001b[1;33m*\u001b[0m\u001b[0margs\u001b[0m\u001b[1;33m,\u001b[0m \u001b[1;33m**\u001b[0m\u001b[0mkwargs\u001b[0m\u001b[1;33m)\u001b[0m\u001b[1;33m\u001b[0m\u001b[1;33m\u001b[0m\u001b[0m\n\u001b[0m\u001b[0;32m    129\u001b[0m \u001b[1;33m\u001b[0m\u001b[0m\n\u001b[0;32m    130\u001b[0m             \u001b[0mlogger\u001b[0m \u001b[1;33m=\u001b[0m \u001b[0mget_logger\u001b[0m\u001b[1;33m(\u001b[0m\u001b[1;33m)\u001b[0m\u001b[1;33m\u001b[0m\u001b[1;33m\u001b[0m\u001b[0m\n",
      "\u001b[1;32m~\\AppData\\Roaming\\Python\\Python39\\site-packages\\modin\\core\\dataframe\\pandas\\dataframe\\dataframe.py\u001b[0m in \u001b[0;36m_compute_axis_labels_and_lengths\u001b[1;34m(self, axis, partitions)\u001b[0m\n\u001b[0;32m    457\u001b[0m         \u001b[1;32mif\u001b[0m \u001b[0mpartitions\u001b[0m \u001b[1;32mis\u001b[0m \u001b[1;32mNone\u001b[0m\u001b[1;33m:\u001b[0m\u001b[1;33m\u001b[0m\u001b[1;33m\u001b[0m\u001b[0m\n\u001b[0;32m    458\u001b[0m             \u001b[0mpartitions\u001b[0m \u001b[1;33m=\u001b[0m \u001b[0mself\u001b[0m\u001b[1;33m.\u001b[0m\u001b[0m_partitions\u001b[0m\u001b[1;33m\u001b[0m\u001b[1;33m\u001b[0m\u001b[0m\n\u001b[1;32m--> 459\u001b[1;33m         \u001b[0mnew_index\u001b[0m\u001b[1;33m,\u001b[0m \u001b[0minternal_idx\u001b[0m \u001b[1;33m=\u001b[0m \u001b[0mself\u001b[0m\u001b[1;33m.\u001b[0m\u001b[0m_partition_mgr_cls\u001b[0m\u001b[1;33m.\u001b[0m\u001b[0mget_indices\u001b[0m\u001b[1;33m(\u001b[0m\u001b[0maxis\u001b[0m\u001b[1;33m,\u001b[0m \u001b[0mpartitions\u001b[0m\u001b[1;33m)\u001b[0m\u001b[1;33m\u001b[0m\u001b[1;33m\u001b[0m\u001b[0m\n\u001b[0m\u001b[0;32m    460\u001b[0m         \u001b[1;32mreturn\u001b[0m \u001b[0mnew_index\u001b[0m\u001b[1;33m,\u001b[0m \u001b[0mlist\u001b[0m\u001b[1;33m(\u001b[0m\u001b[0mmap\u001b[0m\u001b[1;33m(\u001b[0m\u001b[0mlen\u001b[0m\u001b[1;33m,\u001b[0m \u001b[0minternal_idx\u001b[0m\u001b[1;33m)\u001b[0m\u001b[1;33m)\u001b[0m\u001b[1;33m\u001b[0m\u001b[1;33m\u001b[0m\u001b[0m\n\u001b[0;32m    461\u001b[0m \u001b[1;33m\u001b[0m\u001b[0m\n",
      "\u001b[1;32m~\\AppData\\Roaming\\Python\\Python39\\site-packages\\modin\\logging\\logger_decorator.py\u001b[0m in \u001b[0;36mrun_and_log\u001b[1;34m(*args, **kwargs)\u001b[0m\n\u001b[0;32m    126\u001b[0m             \"\"\"\n\u001b[0;32m    127\u001b[0m             \u001b[1;32mif\u001b[0m \u001b[0mLogMode\u001b[0m\u001b[1;33m.\u001b[0m\u001b[0mget\u001b[0m\u001b[1;33m(\u001b[0m\u001b[1;33m)\u001b[0m \u001b[1;33m==\u001b[0m \u001b[1;34m\"disable\"\u001b[0m\u001b[1;33m:\u001b[0m\u001b[1;33m\u001b[0m\u001b[1;33m\u001b[0m\u001b[0m\n\u001b[1;32m--> 128\u001b[1;33m                 \u001b[1;32mreturn\u001b[0m \u001b[0mobj\u001b[0m\u001b[1;33m(\u001b[0m\u001b[1;33m*\u001b[0m\u001b[0margs\u001b[0m\u001b[1;33m,\u001b[0m \u001b[1;33m**\u001b[0m\u001b[0mkwargs\u001b[0m\u001b[1;33m)\u001b[0m\u001b[1;33m\u001b[0m\u001b[1;33m\u001b[0m\u001b[0m\n\u001b[0m\u001b[0;32m    129\u001b[0m \u001b[1;33m\u001b[0m\u001b[0m\n\u001b[0;32m    130\u001b[0m             \u001b[0mlogger\u001b[0m \u001b[1;33m=\u001b[0m \u001b[0mget_logger\u001b[0m\u001b[1;33m(\u001b[0m\u001b[1;33m)\u001b[0m\u001b[1;33m\u001b[0m\u001b[1;33m\u001b[0m\u001b[0m\n",
      "\u001b[1;32m~\\AppData\\Roaming\\Python\\Python39\\site-packages\\modin\\core\\dataframe\\pandas\\partitioning\\partition_manager.py\u001b[0m in \u001b[0;36mget_indices\u001b[1;34m(cls, axis, partitions, index_func)\u001b[0m\n\u001b[0;32m    880\u001b[0m         \u001b[0mtarget\u001b[0m \u001b[1;33m=\u001b[0m \u001b[0mpartitions\u001b[0m\u001b[1;33m.\u001b[0m\u001b[0mT\u001b[0m \u001b[1;32mif\u001b[0m \u001b[0maxis\u001b[0m \u001b[1;33m==\u001b[0m \u001b[1;36m0\u001b[0m \u001b[1;32melse\u001b[0m \u001b[0mpartitions\u001b[0m\u001b[1;33m\u001b[0m\u001b[1;33m\u001b[0m\u001b[0m\n\u001b[0;32m    881\u001b[0m         \u001b[0mnew_idx\u001b[0m \u001b[1;33m=\u001b[0m \u001b[1;33m[\u001b[0m\u001b[0midx\u001b[0m\u001b[1;33m.\u001b[0m\u001b[0mapply\u001b[0m\u001b[1;33m(\u001b[0m\u001b[0mfunc\u001b[0m\u001b[1;33m)\u001b[0m \u001b[1;32mfor\u001b[0m \u001b[0midx\u001b[0m \u001b[1;32min\u001b[0m \u001b[0mtarget\u001b[0m\u001b[1;33m[\u001b[0m\u001b[1;36m0\u001b[0m\u001b[1;33m]\u001b[0m\u001b[1;33m]\u001b[0m \u001b[1;32mif\u001b[0m \u001b[0mlen\u001b[0m\u001b[1;33m(\u001b[0m\u001b[0mtarget\u001b[0m\u001b[1;33m)\u001b[0m \u001b[1;32melse\u001b[0m \u001b[1;33m[\u001b[0m\u001b[1;33m]\u001b[0m\u001b[1;33m\u001b[0m\u001b[1;33m\u001b[0m\u001b[0m\n\u001b[1;32m--> 882\u001b[1;33m         \u001b[0mnew_idx\u001b[0m \u001b[1;33m=\u001b[0m \u001b[0mcls\u001b[0m\u001b[1;33m.\u001b[0m\u001b[0mget_objects_from_partitions\u001b[0m\u001b[1;33m(\u001b[0m\u001b[0mnew_idx\u001b[0m\u001b[1;33m)\u001b[0m\u001b[1;33m\u001b[0m\u001b[1;33m\u001b[0m\u001b[0m\n\u001b[0m\u001b[0;32m    883\u001b[0m         \u001b[1;31m# filter empty indexes\u001b[0m\u001b[1;33m\u001b[0m\u001b[1;33m\u001b[0m\u001b[0m\n\u001b[0;32m    884\u001b[0m         \u001b[0mtotal_idx\u001b[0m \u001b[1;33m=\u001b[0m \u001b[0mlist\u001b[0m\u001b[1;33m(\u001b[0m\u001b[0mfilter\u001b[0m\u001b[1;33m(\u001b[0m\u001b[0mlen\u001b[0m\u001b[1;33m,\u001b[0m \u001b[0mnew_idx\u001b[0m\u001b[1;33m)\u001b[0m\u001b[1;33m)\u001b[0m\u001b[1;33m\u001b[0m\u001b[1;33m\u001b[0m\u001b[0m\n",
      "\u001b[1;32m~\\AppData\\Roaming\\Python\\Python39\\site-packages\\modin\\logging\\logger_decorator.py\u001b[0m in \u001b[0;36mrun_and_log\u001b[1;34m(*args, **kwargs)\u001b[0m\n\u001b[0;32m    126\u001b[0m             \"\"\"\n\u001b[0;32m    127\u001b[0m             \u001b[1;32mif\u001b[0m \u001b[0mLogMode\u001b[0m\u001b[1;33m.\u001b[0m\u001b[0mget\u001b[0m\u001b[1;33m(\u001b[0m\u001b[1;33m)\u001b[0m \u001b[1;33m==\u001b[0m \u001b[1;34m\"disable\"\u001b[0m\u001b[1;33m:\u001b[0m\u001b[1;33m\u001b[0m\u001b[1;33m\u001b[0m\u001b[0m\n\u001b[1;32m--> 128\u001b[1;33m                 \u001b[1;32mreturn\u001b[0m \u001b[0mobj\u001b[0m\u001b[1;33m(\u001b[0m\u001b[1;33m*\u001b[0m\u001b[0margs\u001b[0m\u001b[1;33m,\u001b[0m \u001b[1;33m**\u001b[0m\u001b[0mkwargs\u001b[0m\u001b[1;33m)\u001b[0m\u001b[1;33m\u001b[0m\u001b[1;33m\u001b[0m\u001b[0m\n\u001b[0m\u001b[0;32m    129\u001b[0m \u001b[1;33m\u001b[0m\u001b[0m\n\u001b[0;32m    130\u001b[0m             \u001b[0mlogger\u001b[0m \u001b[1;33m=\u001b[0m \u001b[0mget_logger\u001b[0m\u001b[1;33m(\u001b[0m\u001b[1;33m)\u001b[0m\u001b[1;33m\u001b[0m\u001b[1;33m\u001b[0m\u001b[0m\n",
      "\u001b[1;32m~\\AppData\\Roaming\\Python\\Python39\\site-packages\\modin\\core\\execution\\ray\\implementations\\pandas_on_ray\\partitioning\\partition_manager.py\u001b[0m in \u001b[0;36mget_objects_from_partitions\u001b[1;34m(cls, partitions)\u001b[0m\n\u001b[0;32m    115\u001b[0m             \u001b[1;33m[\u001b[0m\u001b[0mlen\u001b[0m\u001b[1;33m(\u001b[0m\u001b[0mpartition\u001b[0m\u001b[1;33m.\u001b[0m\u001b[0mlist_of_blocks\u001b[0m\u001b[1;33m)\u001b[0m \u001b[1;33m==\u001b[0m \u001b[1;36m1\u001b[0m \u001b[1;32mfor\u001b[0m \u001b[0mpartition\u001b[0m \u001b[1;32min\u001b[0m \u001b[0mpartitions\u001b[0m\u001b[1;33m]\u001b[0m\u001b[1;33m\u001b[0m\u001b[1;33m\u001b[0m\u001b[0m\n\u001b[0;32m    116\u001b[0m         ), \"Implementation assumes that each partition contains a signle block.\"\n\u001b[1;32m--> 117\u001b[1;33m         return RayWrapper.materialize(\n\u001b[0m\u001b[0;32m    118\u001b[0m             \u001b[1;33m[\u001b[0m\u001b[0mpartition\u001b[0m\u001b[1;33m.\u001b[0m\u001b[0mlist_of_blocks\u001b[0m\u001b[1;33m[\u001b[0m\u001b[1;36m0\u001b[0m\u001b[1;33m]\u001b[0m \u001b[1;32mfor\u001b[0m \u001b[0mpartition\u001b[0m \u001b[1;32min\u001b[0m \u001b[0mpartitions\u001b[0m\u001b[1;33m]\u001b[0m\u001b[1;33m\u001b[0m\u001b[1;33m\u001b[0m\u001b[0m\n\u001b[0;32m    119\u001b[0m         )\n",
      "\u001b[1;32m~\\AppData\\Roaming\\Python\\Python39\\site-packages\\modin\\core\\execution\\ray\\common\\engine_wrapper.py\u001b[0m in \u001b[0;36mmaterialize\u001b[1;34m(cls, obj_id)\u001b[0m\n\u001b[0;32m     90\u001b[0m             \u001b[0mWhatever\u001b[0m \u001b[0mwas\u001b[0m \u001b[0midentified\u001b[0m \u001b[0mby\u001b[0m\u001b[0;31m \u001b[0m\u001b[0;31m`\u001b[0m\u001b[0mobj_id\u001b[0m\u001b[0;31m`\u001b[0m\u001b[1;33m.\u001b[0m\u001b[1;33m\u001b[0m\u001b[1;33m\u001b[0m\u001b[0m\n\u001b[0;32m     91\u001b[0m         \"\"\"\n\u001b[1;32m---> 92\u001b[1;33m         \u001b[1;32mreturn\u001b[0m \u001b[0mray\u001b[0m\u001b[1;33m.\u001b[0m\u001b[0mget\u001b[0m\u001b[1;33m(\u001b[0m\u001b[0mobj_id\u001b[0m\u001b[1;33m)\u001b[0m\u001b[1;33m\u001b[0m\u001b[1;33m\u001b[0m\u001b[0m\n\u001b[0m\u001b[0;32m     93\u001b[0m \u001b[1;33m\u001b[0m\u001b[0m\n\u001b[0;32m     94\u001b[0m \u001b[1;33m\u001b[0m\u001b[0m\n",
      "\u001b[1;32m~\\AppData\\Roaming\\Python\\Python39\\site-packages\\ray\\_private\\client_mode_hook.py\u001b[0m in \u001b[0;36mwrapper\u001b[1;34m(*args, **kwargs)\u001b[0m\n\u001b[0;32m    103\u001b[0m             \u001b[1;32mif\u001b[0m \u001b[0mfunc\u001b[0m\u001b[1;33m.\u001b[0m\u001b[0m__name__\u001b[0m \u001b[1;33m!=\u001b[0m \u001b[1;34m\"init\"\u001b[0m \u001b[1;32mor\u001b[0m \u001b[0mis_client_mode_enabled_by_default\u001b[0m\u001b[1;33m:\u001b[0m\u001b[1;33m\u001b[0m\u001b[1;33m\u001b[0m\u001b[0m\n\u001b[0;32m    104\u001b[0m                 \u001b[1;32mreturn\u001b[0m \u001b[0mgetattr\u001b[0m\u001b[1;33m(\u001b[0m\u001b[0mray\u001b[0m\u001b[1;33m,\u001b[0m \u001b[0mfunc\u001b[0m\u001b[1;33m.\u001b[0m\u001b[0m__name__\u001b[0m\u001b[1;33m)\u001b[0m\u001b[1;33m(\u001b[0m\u001b[1;33m*\u001b[0m\u001b[0margs\u001b[0m\u001b[1;33m,\u001b[0m \u001b[1;33m**\u001b[0m\u001b[0mkwargs\u001b[0m\u001b[1;33m)\u001b[0m\u001b[1;33m\u001b[0m\u001b[1;33m\u001b[0m\u001b[0m\n\u001b[1;32m--> 105\u001b[1;33m         \u001b[1;32mreturn\u001b[0m \u001b[0mfunc\u001b[0m\u001b[1;33m(\u001b[0m\u001b[1;33m*\u001b[0m\u001b[0margs\u001b[0m\u001b[1;33m,\u001b[0m \u001b[1;33m**\u001b[0m\u001b[0mkwargs\u001b[0m\u001b[1;33m)\u001b[0m\u001b[1;33m\u001b[0m\u001b[1;33m\u001b[0m\u001b[0m\n\u001b[0m\u001b[0;32m    106\u001b[0m \u001b[1;33m\u001b[0m\u001b[0m\n\u001b[0;32m    107\u001b[0m     \u001b[1;32mreturn\u001b[0m \u001b[0mwrapper\u001b[0m\u001b[1;33m\u001b[0m\u001b[1;33m\u001b[0m\u001b[0m\n",
      "\u001b[1;32m~\\AppData\\Roaming\\Python\\Python39\\site-packages\\ray\\_private\\worker.py\u001b[0m in \u001b[0;36mget\u001b[1;34m(object_refs, timeout)\u001b[0m\n\u001b[0;32m   2307\u001b[0m                     \u001b[0mworker\u001b[0m\u001b[1;33m.\u001b[0m\u001b[0mcore_worker\u001b[0m\u001b[1;33m.\u001b[0m\u001b[0mdump_object_store_memory_usage\u001b[0m\u001b[1;33m(\u001b[0m\u001b[1;33m)\u001b[0m\u001b[1;33m\u001b[0m\u001b[1;33m\u001b[0m\u001b[0m\n\u001b[0;32m   2308\u001b[0m                 \u001b[1;32mif\u001b[0m \u001b[0misinstance\u001b[0m\u001b[1;33m(\u001b[0m\u001b[0mvalue\u001b[0m\u001b[1;33m,\u001b[0m \u001b[0mRayTaskError\u001b[0m\u001b[1;33m)\u001b[0m\u001b[1;33m:\u001b[0m\u001b[1;33m\u001b[0m\u001b[1;33m\u001b[0m\u001b[0m\n\u001b[1;32m-> 2309\u001b[1;33m                     \u001b[1;32mraise\u001b[0m \u001b[0mvalue\u001b[0m\u001b[1;33m.\u001b[0m\u001b[0mas_instanceof_cause\u001b[0m\u001b[1;33m(\u001b[0m\u001b[1;33m)\u001b[0m\u001b[1;33m\u001b[0m\u001b[1;33m\u001b[0m\u001b[0m\n\u001b[0m\u001b[0;32m   2310\u001b[0m                 \u001b[1;32melse\u001b[0m\u001b[1;33m:\u001b[0m\u001b[1;33m\u001b[0m\u001b[1;33m\u001b[0m\u001b[0m\n\u001b[0;32m   2311\u001b[0m                     \u001b[1;32mraise\u001b[0m \u001b[0mvalue\u001b[0m\u001b[1;33m\u001b[0m\u001b[1;33m\u001b[0m\u001b[0m\n",
      "\u001b[1;31mRayTaskError\u001b[0m: \u001b[36mray::_apply_func()\u001b[39m (pid=16452, ip=127.0.0.1)\n  File \"python\\ray\\_raylet.pyx\", line 789, in ray._raylet.execute_task\n  File \"python\\ray\\_raylet.pyx\", line 814, in ray._raylet.execute_task\n  File \"python\\ray\\_raylet.pyx\", line 506, in ray._raylet.raise_if_dependency_failed\nray.exceptions.RayTaskError: \u001b[36mray::deploy_ray_func()\u001b[39m (pid=16452, ip=127.0.0.1)\n  File \"python\\ray\\_raylet.pyx\", line 789, in ray._raylet.execute_task\n  File \"python\\ray\\_raylet.pyx\", line 814, in ray._raylet.execute_task\n  File \"python\\ray\\_raylet.pyx\", line 506, in ray._raylet.raise_if_dependency_failed\nray.exceptions.RaySystemError: System error: \ntraceback: Traceback (most recent call last):\n  File \"C:\\Users\\kbjung\\AppData\\Roaming\\Python\\Python39\\site-packages\\ray\\_private\\serialization.py\", line 369, in deserialize_objects\n    obj = self._deserialize_object(data, metadata, object_ref)\n  File \"C:\\Users\\kbjung\\AppData\\Roaming\\Python\\Python39\\site-packages\\ray\\_private\\serialization.py\", line 252, in _deserialize_object\n    return self._deserialize_msgpack_data(data, metadata_fields)\n  File \"C:\\Users\\kbjung\\AppData\\Roaming\\Python\\Python39\\site-packages\\ray\\_private\\serialization.py\", line 207, in _deserialize_msgpack_data\n    python_objects = self._deserialize_pickle5_data(pickle5_data)\n  File \"C:\\Users\\kbjung\\AppData\\Roaming\\Python\\Python39\\site-packages\\ray\\_private\\serialization.py\", line 195, in _deserialize_pickle5_data\n    obj = pickle.loads(in_band, buffers=buffers)\nMemoryError"
     ]
    },
    {
     "name": "stderr",
     "output_type": "stream",
     "text": [
      "\u001b[2m\u001b[36m(deploy_ray_func pid=32916)\u001b[0m 2023-03-24 09:10:13,018\tERROR serialization.py:371 -- \n",
      "\u001b[2m\u001b[36m(deploy_ray_func pid=32916)\u001b[0m Traceback (most recent call last):\n",
      "\u001b[2m\u001b[36m(deploy_ray_func pid=32916)\u001b[0m   File \"C:\\Users\\kbjung\\AppData\\Roaming\\Python\\Python39\\site-packages\\ray\\_private\\serialization.py\", line 369, in deserialize_objects\n",
      "\u001b[2m\u001b[36m(deploy_ray_func pid=32916)\u001b[0m     obj = self._deserialize_object(data, metadata, object_ref)\n",
      "\u001b[2m\u001b[36m(deploy_ray_func pid=32916)\u001b[0m   File \"C:\\Users\\kbjung\\AppData\\Roaming\\Python\\Python39\\site-packages\\ray\\_private\\serialization.py\", line 252, in _deserialize_object\n",
      "\u001b[2m\u001b[36m(deploy_ray_func pid=32916)\u001b[0m     return self._deserialize_msgpack_data(data, metadata_fields)\n",
      "\u001b[2m\u001b[36m(deploy_ray_func pid=32916)\u001b[0m   File \"C:\\Users\\kbjung\\AppData\\Roaming\\Python\\Python39\\site-packages\\ray\\_private\\serialization.py\", line 207, in _deserialize_msgpack_data\n",
      "\u001b[2m\u001b[36m(deploy_ray_func pid=32916)\u001b[0m     python_objects = self._deserialize_pickle5_data(pickle5_data)\n",
      "\u001b[2m\u001b[36m(deploy_ray_func pid=32916)\u001b[0m   File \"C:\\Users\\kbjung\\AppData\\Roaming\\Python\\Python39\\site-packages\\ray\\_private\\serialization.py\", line 195, in _deserialize_pickle5_data\n",
      "\u001b[2m\u001b[36m(deploy_ray_func pid=32916)\u001b[0m     obj = pickle.loads(in_band, buffers=buffers)\n",
      "\u001b[2m\u001b[36m(deploy_ray_func pid=32916)\u001b[0m MemoryError\n"
     ]
    },
    {
     "name": "stderr",
     "output_type": "stream",
     "text": [
      "\u001b[2m\u001b[36m(deploy_ray_func pid=16356)\u001b[0m 2023-03-24 09:10:22,210\tERROR serialization.py:371 -- \n",
      "\u001b[2m\u001b[36m(deploy_ray_func pid=16356)\u001b[0m Traceback (most recent call last):\n",
      "\u001b[2m\u001b[36m(deploy_ray_func pid=16356)\u001b[0m   File \"C:\\Users\\kbjung\\AppData\\Roaming\\Python\\Python39\\site-packages\\ray\\_private\\serialization.py\", line 369, in deserialize_objects\n",
      "\u001b[2m\u001b[36m(deploy_ray_func pid=16356)\u001b[0m     obj = self._deserialize_object(data, metadata, object_ref)\n",
      "\u001b[2m\u001b[36m(deploy_ray_func pid=16356)\u001b[0m   File \"C:\\Users\\kbjung\\AppData\\Roaming\\Python\\Python39\\site-packages\\ray\\_private\\serialization.py\", line 252, in _deserialize_object\n",
      "\u001b[2m\u001b[36m(deploy_ray_func pid=16356)\u001b[0m     return self._deserialize_msgpack_data(data, metadata_fields)\n",
      "\u001b[2m\u001b[36m(deploy_ray_func pid=16356)\u001b[0m   File \"C:\\Users\\kbjung\\AppData\\Roaming\\Python\\Python39\\site-packages\\ray\\_private\\serialization.py\", line 207, in _deserialize_msgpack_data\n",
      "\u001b[2m\u001b[36m(deploy_ray_func pid=16356)\u001b[0m     python_objects = self._deserialize_pickle5_data(pickle5_data)\n",
      "\u001b[2m\u001b[36m(deploy_ray_func pid=16356)\u001b[0m   File \"C:\\Users\\kbjung\\AppData\\Roaming\\Python\\Python39\\site-packages\\ray\\_private\\serialization.py\", line 195, in _deserialize_pickle5_data\n",
      "\u001b[2m\u001b[36m(deploy_ray_func pid=16356)\u001b[0m     obj = pickle.loads(in_band, buffers=buffers)\n",
      "\u001b[2m\u001b[36m(deploy_ray_func pid=16356)\u001b[0m MemoryError\n",
      "\u001b[2m\u001b[36m(deploy_ray_func pid=33216)\u001b[0m 2023-03-24 09:10:30,623\tERROR serialization.py:371 -- \n",
      "\u001b[2m\u001b[36m(deploy_ray_func pid=33216)\u001b[0m Traceback (most recent call last):\n",
      "\u001b[2m\u001b[36m(deploy_ray_func pid=33216)\u001b[0m   File \"C:\\Users\\kbjung\\AppData\\Roaming\\Python\\Python39\\site-packages\\ray\\_private\\serialization.py\", line 369, in deserialize_objects\n",
      "\u001b[2m\u001b[36m(deploy_ray_func pid=33216)\u001b[0m     obj = self._deserialize_object(data, metadata, object_ref)\n",
      "\u001b[2m\u001b[36m(deploy_ray_func pid=33216)\u001b[0m   File \"C:\\Users\\kbjung\\AppData\\Roaming\\Python\\Python39\\site-packages\\ray\\_private\\serialization.py\", line 252, in _deserialize_object\n",
      "\u001b[2m\u001b[36m(deploy_ray_func pid=33216)\u001b[0m     return self._deserialize_msgpack_data(data, metadata_fields)\n",
      "\u001b[2m\u001b[36m(deploy_ray_func pid=33216)\u001b[0m   File \"C:\\Users\\kbjung\\AppData\\Roaming\\Python\\Python39\\site-packages\\ray\\_private\\serialization.py\", line 207, in _deserialize_msgpack_data\n",
      "\u001b[2m\u001b[36m(deploy_ray_func pid=33216)\u001b[0m     python_objects = self._deserialize_pickle5_data(pickle5_data)\n",
      "\u001b[2m\u001b[36m(deploy_ray_func pid=33216)\u001b[0m   File \"C:\\Users\\kbjung\\AppData\\Roaming\\Python\\Python39\\site-packages\\ray\\_private\\serialization.py\", line 195, in _deserialize_pickle5_data\n",
      "\u001b[2m\u001b[36m(deploy_ray_func pid=33216)\u001b[0m     obj = pickle.loads(in_band, buffers=buffers)\n",
      "\u001b[2m\u001b[36m(deploy_ray_func pid=33216)\u001b[0m MemoryError\n",
      "2023-03-24 09:10:38,425\tWARNING worker.py:1851 -- Traceback (most recent call last):\n",
      "  File \"python\\ray\\_raylet.pyx\", line 789, in ray._raylet.execute_task\n",
      "  File \"python\\ray\\_raylet.pyx\", line 814, in ray._raylet.execute_task\n",
      "  File \"python\\ray\\_raylet.pyx\", line 506, in ray._raylet.raise_if_dependency_failed\n",
      "ray.exceptions.RaySystemError: System error: \n",
      "traceback: Traceback (most recent call last):\n",
      "  File \"C:\\Users\\kbjung\\AppData\\Roaming\\Python\\Python39\\site-packages\\ray\\_private\\serialization.py\", line 369, in deserialize_objects\n",
      "    obj = self._deserialize_object(data, metadata, object_ref)\n",
      "  File \"C:\\Users\\kbjung\\AppData\\Roaming\\Python\\Python39\\site-packages\\ray\\_private\\serialization.py\", line 252, in _deserialize_object\n",
      "    return self._deserialize_msgpack_data(data, metadata_fields)\n",
      "  File \"C:\\Users\\kbjung\\AppData\\Roaming\\Python\\Python39\\site-packages\\ray\\_private\\serialization.py\", line 207, in _deserialize_msgpack_data\n",
      "    python_objects = self._deserialize_pickle5_data(pickle5_data)\n",
      "  File \"C:\\Users\\kbjung\\AppData\\Roaming\\Python\\Python39\\site-packages\\ray\\_private\\serialization.py\", line 195, in _deserialize_pickle5_data\n",
      "    obj = pickle.loads(in_band, buffers=buffers)\n",
      "MemoryError\n",
      "\n",
      "\n",
      "During handling of the above exception, another exception occurred:\n",
      "\n",
      "Traceback (most recent call last):\n",
      "  File \"python\\ray\\_raylet.pyx\", line 1135, in ray._raylet.task_execution_handler\n",
      "  File \"python\\ray\\_raylet.pyx\", line 1045, in ray._raylet.execute_task_with_cancellation_handler\n",
      "  File \"python\\ray\\_raylet.pyx\", line 782, in ray._raylet.execute_task\n",
      "  File \"python\\ray\\_raylet.pyx\", line 945, in ray._raylet.execute_task\n",
      "  File \"python\\ray\\_raylet.pyx\", line 589, in ray._raylet.store_task_errors\n",
      "  File \"python\\ray\\_raylet.pyx\", line 2447, in ray._raylet.CoreWorker.store_task_outputs\n",
      "  File \"C:\\Users\\kbjung\\AppData\\Roaming\\Python\\Python39\\site-packages\\ray\\_private\\serialization.py\", line 450, in serialize\n",
      "    return self._serialize_to_msgpack(value)\n",
      "  File \"C:\\Users\\kbjung\\AppData\\Roaming\\Python\\Python39\\site-packages\\ray\\_private\\serialization.py\", line 424, in _serialize_to_msgpack\n",
      "    msgpack_data = MessagePackSerializer.dumps(value, _python_serializer)\n",
      "  File \"python\\ray\\includes/serialization.pxi\", line 175, in ray._raylet.MessagePackSerializer.dumps\n",
      "  File \"c:\\ProgramData\\Anaconda3\\lib\\site-packages\\msgpack\\__init__.py\", line 35, in packb\n",
      "    return Packer(**kwargs).pack(o)\n",
      "  File \"msgpack/_packer.pyx\", line 120, in msgpack._cmsgpack.Packer.__cinit__\n",
      "MemoryError: Unable to allocate internal buffer.\n",
      "An unexpected internal error occurred while the worker was executing a task.\n",
      "\u001b[2m\u001b[36m(deploy_ray_func pid=33216)\u001b[0m 2023-03-24 09:10:38,363\tERROR worker.py:763 -- Worker exits with an exit code None.\n",
      "\u001b[2m\u001b[36m(deploy_ray_func pid=33216)\u001b[0m  Traceback (most recent call last):\n",
      "\u001b[2m\u001b[36m(deploy_ray_func pid=33216)\u001b[0m   File \"python\\ray\\_raylet.pyx\", line 789, in ray._raylet.execute_task\n",
      "\u001b[2m\u001b[36m(deploy_ray_func pid=33216)\u001b[0m   File \"python\\ray\\_raylet.pyx\", line 814, in ray._raylet.execute_task\n",
      "\u001b[2m\u001b[36m(deploy_ray_func pid=33216)\u001b[0m   File \"python\\ray\\_raylet.pyx\", line 506, in ray._raylet.raise_if_dependency_failed\n",
      "\u001b[2m\u001b[36m(deploy_ray_func pid=33216)\u001b[0m ray.exceptions.RaySystemError: System error: \n",
      "\u001b[2m\u001b[36m(deploy_ray_func pid=33216)\u001b[0m traceback: Traceback (most recent call last):\n",
      "\u001b[2m\u001b[36m(deploy_ray_func pid=33216)\u001b[0m   File \"C:\\Users\\kbjung\\AppData\\Roaming\\Python\\Python39\\site-packages\\ray\\_private\\serialization.py\", line 369, in deserialize_objects\n",
      "\u001b[2m\u001b[36m(deploy_ray_func pid=33216)\u001b[0m     obj = self._deserialize_object(data, metadata, object_ref)\n",
      "\u001b[2m\u001b[36m(deploy_ray_func pid=33216)\u001b[0m   File \"C:\\Users\\kbjung\\AppData\\Roaming\\Python\\Python39\\site-packages\\ray\\_private\\serialization.py\", line 252, in _deserialize_object\n",
      "\u001b[2m\u001b[36m(deploy_ray_func pid=33216)\u001b[0m     return self._deserialize_msgpack_data(data, metadata_fields)\n",
      "\u001b[2m\u001b[36m(deploy_ray_func pid=33216)\u001b[0m   File \"C:\\Users\\kbjung\\AppData\\Roaming\\Python\\Python39\\site-packages\\ray\\_private\\serialization.py\", line 207, in _deserialize_msgpack_data\n",
      "\u001b[2m\u001b[36m(deploy_ray_func pid=33216)\u001b[0m     python_objects = self._deserialize_pickle5_data(pickle5_data)\n",
      "\u001b[2m\u001b[36m(deploy_ray_func pid=33216)\u001b[0m   File \"C:\\Users\\kbjung\\AppData\\Roaming\\Python\\Python39\\site-packages\\ray\\_private\\serialization.py\", line 195, in _deserialize_pickle5_data\n",
      "\u001b[2m\u001b[36m(deploy_ray_func pid=33216)\u001b[0m     obj = pickle.loads(in_band, buffers=buffers)\n",
      "\u001b[2m\u001b[36m(deploy_ray_func pid=33216)\u001b[0m MemoryError\n",
      "\u001b[2m\u001b[36m(deploy_ray_func pid=33216)\u001b[0m \n",
      "\u001b[2m\u001b[36m(deploy_ray_func pid=33216)\u001b[0m \n",
      "\u001b[2m\u001b[36m(deploy_ray_func pid=33216)\u001b[0m During handling of the above exception, another exception occurred:\n",
      "\u001b[2m\u001b[36m(deploy_ray_func pid=33216)\u001b[0m \n",
      "\u001b[2m\u001b[36m(deploy_ray_func pid=33216)\u001b[0m Traceback (most recent call last):\n",
      "\u001b[2m\u001b[36m(deploy_ray_func pid=33216)\u001b[0m   File \"python\\ray\\_raylet.pyx\", line 1135, in ray._raylet.task_execution_handler\n",
      "\u001b[2m\u001b[36m(deploy_ray_func pid=33216)\u001b[0m   File \"python\\ray\\_raylet.pyx\", line 1045, in ray._raylet.execute_task_with_cancellation_handler\n",
      "\u001b[2m\u001b[36m(deploy_ray_func pid=33216)\u001b[0m   File \"python\\ray\\_raylet.pyx\", line 782, in ray._raylet.execute_task\n",
      "\u001b[2m\u001b[36m(deploy_ray_func pid=33216)\u001b[0m   File \"python\\ray\\_raylet.pyx\", line 945, in ray._raylet.execute_task\n",
      "\u001b[2m\u001b[36m(deploy_ray_func pid=33216)\u001b[0m   File \"python\\ray\\_raylet.pyx\", line 589, in ray._raylet.store_task_errors\n",
      "\u001b[2m\u001b[36m(deploy_ray_func pid=33216)\u001b[0m   File \"python\\ray\\_raylet.pyx\", line 2447, in ray._raylet.CoreWorker.store_task_outputs\n",
      "\u001b[2m\u001b[36m(deploy_ray_func pid=33216)\u001b[0m   File \"C:\\Users\\kbjung\\AppData\\Roaming\\Python\\Python39\\site-packages\\ray\\_private\\serialization.py\", line 450, in serialize\n",
      "\u001b[2m\u001b[36m(deploy_ray_func pid=33216)\u001b[0m     return self._serialize_to_msgpack(value)\n",
      "\u001b[2m\u001b[36m(deploy_ray_func pid=33216)\u001b[0m   File \"C:\\Users\\kbjung\\AppData\\Roaming\\Python\\Python39\\site-packages\\ray\\_private\\serialization.py\", line 424, in _serialize_to_msgpack\n",
      "\u001b[2m\u001b[36m(deploy_ray_func pid=33216)\u001b[0m     msgpack_data = MessagePackSerializer.dumps(value, _python_serializer)\n",
      "\u001b[2m\u001b[36m(deploy_ray_func pid=33216)\u001b[0m   File \"python\\ray\\includes/serialization.pxi\", line 175, in ray._raylet.MessagePackSerializer.dumps\n",
      "\u001b[2m\u001b[36m(deploy_ray_func pid=33216)\u001b[0m   File \"c:\\ProgramData\\Anaconda3\\lib\\site-packages\\msgpack\\__init__.py\", line 35, in packb\n",
      "\u001b[2m\u001b[36m(deploy_ray_func pid=33216)\u001b[0m     return Packer(**kwargs).pack(o)\n",
      "\u001b[2m\u001b[36m(deploy_ray_func pid=33216)\u001b[0m   File \"msgpack/_packer.pyx\", line 120, in msgpack._cmsgpack.Packer.__cinit__\n",
      "\u001b[2m\u001b[36m(deploy_ray_func pid=33216)\u001b[0m MemoryError: Unable to allocate internal buffer.\n",
      "\u001b[2m\u001b[36m(deploy_ray_func pid=33216)\u001b[0m An unexpected internal error occurred while the worker was executing a task.\n",
      "\u001b[2m\u001b[36m(deploy_ray_func pid=33216)\u001b[0m Traceback (most recent call last):\n",
      "\u001b[2m\u001b[36m(deploy_ray_func pid=33216)\u001b[0m   File \"python\\ray\\_raylet.pyx\", line 789, in ray._raylet.execute_task\n",
      "\u001b[2m\u001b[36m(deploy_ray_func pid=33216)\u001b[0m   File \"python\\ray\\_raylet.pyx\", line 814, in ray._raylet.execute_task\n",
      "\u001b[2m\u001b[36m(deploy_ray_func pid=33216)\u001b[0m   File \"python\\ray\\_raylet.pyx\", line 506, in ray._raylet.raise_if_dependency_failed\n",
      "\u001b[2m\u001b[36m(deploy_ray_func pid=33216)\u001b[0m ray.exceptions.RaySystemError: System error: \n",
      "\u001b[2m\u001b[36m(deploy_ray_func pid=33216)\u001b[0m traceback: Traceback (most recent call last):\n",
      "\u001b[2m\u001b[36m(deploy_ray_func pid=33216)\u001b[0m   File \"C:\\Users\\kbjung\\AppData\\Roaming\\Python\\Python39\\site-packages\\ray\\_private\\serialization.py\", line 369, in deserialize_objects\n",
      "\u001b[2m\u001b[36m(deploy_ray_func pid=33216)\u001b[0m     obj = self._deserialize_object(data, metadata, object_ref)\n",
      "\u001b[2m\u001b[36m(deploy_ray_func pid=33216)\u001b[0m   File \"C:\\Users\\kbjung\\AppData\\Roaming\\Python\\Python39\\site-packages\\ray\\_private\\serialization.py\", line 252, in _deserialize_object\n",
      "\u001b[2m\u001b[36m(deploy_ray_func pid=33216)\u001b[0m     return self._deserialize_msgpack_data(data, metadata_fields)\n",
      "\u001b[2m\u001b[36m(deploy_ray_func pid=33216)\u001b[0m   File \"C:\\Users\\kbjung\\AppData\\Roaming\\Python\\Python39\\site-packages\\ray\\_private\\serialization.py\", line 207, in _deserialize_msgpack_data\n",
      "\u001b[2m\u001b[36m(deploy_ray_func pid=33216)\u001b[0m     python_objects = self._deserialize_pickle5_data(pickle5_data)\n",
      "\u001b[2m\u001b[36m(deploy_ray_func pid=33216)\u001b[0m   File \"C:\\Users\\kbjung\\AppData\\Roaming\\Python\\Python39\\site-packages\\ray\\_private\\serialization.py\", line 195, in _deserialize_pickle5_data\n",
      "\u001b[2m\u001b[36m(deploy_ray_func pid=33216)\u001b[0m     obj = pickle.loads(in_band, buffers=buffers)\n",
      "\u001b[2m\u001b[36m(deploy_ray_func pid=33216)\u001b[0m MemoryError\n",
      "\u001b[2m\u001b[36m(deploy_ray_func pid=33216)\u001b[0m \n",
      "\u001b[2m\u001b[36m(deploy_ray_func pid=33216)\u001b[0m \n",
      "\u001b[2m\u001b[36m(deploy_ray_func pid=33216)\u001b[0m During handling of the above exception, another exception occurred:\n",
      "\u001b[2m\u001b[36m(deploy_ray_func pid=33216)\u001b[0m \n",
      "\u001b[2m\u001b[36m(deploy_ray_func pid=33216)\u001b[0m Traceback (most recent call last):\n",
      "\u001b[2m\u001b[36m(deploy_ray_func pid=33216)\u001b[0m   File \"python\\ray\\_raylet.pyx\", line 1135, in ray._raylet.task_execution_handler\n",
      "\u001b[2m\u001b[36m(deploy_ray_func pid=33216)\u001b[0m   File \"python\\ray\\_raylet.pyx\", line 1045, in ray._raylet.execute_task_with_cancellation_handler\n",
      "\u001b[2m\u001b[36m(deploy_ray_func pid=33216)\u001b[0m   File \"python\\ray\\_raylet.pyx\", line 782, in ray._raylet.execute_task\n",
      "\u001b[2m\u001b[36m(deploy_ray_func pid=33216)\u001b[0m   File \"python\\ray\\_raylet.pyx\", line 945, in ray._raylet.execute_task\n",
      "\u001b[2m\u001b[36m(deploy_ray_func pid=33216)\u001b[0m   File \"python\\ray\\_raylet.pyx\", line 589, in ray._raylet.store_task_errors\n",
      "\u001b[2m\u001b[36m(deploy_ray_func pid=33216)\u001b[0m   File \"python\\ray\\_raylet.pyx\", line 2447, in ray._raylet.CoreWorker.store_task_outputs\n",
      "\u001b[2m\u001b[36m(deploy_ray_func pid=33216)\u001b[0m   File \"C:\\Users\\kbjung\\AppData\\Roaming\\Python\\Python39\\site-packages\\ray\\_private\\serialization.py\", line 450, in serialize\n",
      "\u001b[2m\u001b[36m(deploy_ray_func pid=33216)\u001b[0m     return self._serialize_to_msgpack(value)\n",
      "\u001b[2m\u001b[36m(deploy_ray_func pid=33216)\u001b[0m   File \"C:\\Users\\kbjung\\AppData\\Roaming\\Python\\Python39\\site-packages\\ray\\_private\\serialization.py\", line 424, in _serialize_to_msgpack\n",
      "\u001b[2m\u001b[36m(deploy_ray_func pid=33216)\u001b[0m     msgpack_data = MessagePackSerializer.dumps(value, _python_serializer)\n",
      "\u001b[2m\u001b[36m(deploy_ray_func pid=33216)\u001b[0m   File \"python\\ray\\includes/serialization.pxi\", line 175, in ray._raylet.MessagePackSerializer.dumps\n",
      "\u001b[2m\u001b[36m(deploy_ray_func pid=33216)\u001b[0m   File \"c:\\ProgramData\\Anaconda3\\lib\\site-packages\\msgpack\\__init__.py\", line 35, in packb\n",
      "\u001b[2m\u001b[36m(deploy_ray_func pid=33216)\u001b[0m     return Packer(**kwargs).pack(o)\n",
      "\u001b[2m\u001b[36m(deploy_ray_func pid=33216)\u001b[0m   File \"msgpack/_packer.pyx\", line 120, in msgpack._cmsgpack.Packer.__cinit__\n",
      "\u001b[2m\u001b[36m(deploy_ray_func pid=33216)\u001b[0m MemoryError: Unable to allocate internal buffer.\n",
      "\u001b[2m\u001b[36m(deploy_ray_func pid=33216)\u001b[0m \n",
      "\u001b[2m\u001b[36m(deploy_ray_func pid=33216)\u001b[0m During handling of the above exception, another exception occurred:\n",
      "\u001b[2m\u001b[36m(deploy_ray_func pid=33216)\u001b[0m \n",
      "\u001b[2m\u001b[36m(deploy_ray_func pid=33216)\u001b[0m Traceback (most recent call last):\n",
      "\u001b[2m\u001b[36m(deploy_ray_func pid=33216)\u001b[0m   File \"python\\ray\\_raylet.pyx\", line 1176, in ray._raylet.task_execution_handler\n",
      "\u001b[2m\u001b[36m(deploy_ray_func pid=33216)\u001b[0m SystemExit\n",
      "2023-03-24 09:10:38,613\tWARNING worker.py:1851 -- A worker died or was killed while executing a task by an unexpected system error. To troubleshoot the problem, check the logs for the dead worker. RayTask ID: 8c2658349a920c695bbbbc66b71640e8acb78d1901000000 Worker ID: 895961206ae7522f68b0fabb794c7ae896d7f05942dd967a9a4e48a5 Node ID: 0655a40be742c41ec0a89dec7fbca627183d69dff1e9ab023897c373 Worker IP address: 127.0.0.1 Worker port: 52903 Worker PID: 33216 Worker exit type: SYSTEM_ERROR Worker exit detail: Worker exits unexpectedly. Worker exits with an exit code None.\n",
      " Traceback (most recent call last):\n",
      "  File \"python\\ray\\_raylet.pyx\", line 789, in ray._raylet.execute_task\n",
      "  File \"python\\ray\\_raylet.pyx\", line 814, in ray._raylet.execute_task\n",
      "  File \"python\\ray\\_raylet.pyx\", line 506, in ray._raylet.raise_if_dependency_failed\n",
      "ray.exceptions.RaySystemError: System error: \n",
      "traceback: Traceback (most recent call last):\n",
      "  File \"C:\\Users\\kbjung\\AppData\\Roaming\\Python\\Python39\\site-packages\\ray\\_private\\serialization.py\", line 369, in deserialize_objects\n",
      "    obj = self._deserialize_object(data, metadata, object_ref)\n",
      "  File \"C:\\Users\\kbjung\\AppData\\Roaming\\Python\\Python39\\site-packages\\ray\\_private\\serialization.py\", line 252, in _deserialize_object\n",
      "    return self._deserialize_msgpack_data(data, metadata_fields)\n",
      "  File \"C:\\Users\\kbjung\\AppData\\Roaming\\Python\\Python39\\site-packages\\ray\\_private\\serialization.py\", line 207, in _deserialize_msgpack_data\n",
      "    python_objects = self._deserialize_pickle5_data(pickle5_data)\n",
      "  File \"C:\\Users\\kbjung\\AppData\\Roaming\\Python\\Python39\\site-packages\\ray\\_private\\serialization.py\", line 195, in _deserialize_pickle5_data\n",
      "    obj = pickle.loads(in_band, buffers=buffers)\n",
      "MemoryError\n",
      "\n",
      "\n",
      "During handling of the above exception, another exception occurred:\n",
      "\n",
      "Traceback (most recent call last):\n",
      "  File \"python\\ray\\_raylet.pyx\", line 1135, in ray._raylet.task_execution_handler\n",
      "  File \"python\\ray\\_raylet.pyx\", line 1045, in ray._raylet.execute_task_with_cancellation_handler\n",
      "  File \"python\\ray\\_raylet.pyx\", line 782, in ray._raylet.execute_task\n",
      "  File \"python\\ray\\_raylet.pyx\", line 945, in ray._raylet.execute_task\n",
      "  File \"python\\ray\\_raylet.pyx\", line 589, in ray._raylet.store_task_errors\n",
      "  File \"python\\ray\\_raylet.pyx\", line 2447, in ray._raylet.CoreWorker.store_task_outputs\n",
      "  File \"C:\\Users\\kbjung\\AppData\\Roaming\\Python\\Python39\\site-packages\\ray\\_private\\serialization.py\", line 450, in serialize\n",
      "    return self._serialize_to_msgpack(value)\n",
      "  File \"C:\\Users\\kbjung\\AppData\\Roaming\\Python\\Python39\\site-packages\\ray\\_private\\serialization.py\", line 424, in _serialize_to_msgpack\n",
      "    msgpack_data = MessagePackSerializer.dumps(value, _python_serializer)\n",
      "  File \"python\\ray\\includes/serialization.pxi\", line 175, in ray._raylet.MessagePackSerializer.dumps\n",
      "  File \"c:\\ProgramData\\Anaconda3\\lib\\site-packages\\msgpack\\__init__.py\", line 35, in packb\n",
      "    return Packer(**kwargs).pack(o)\n",
      "  File \"msgpack/_packer.pyx\", line 120, in msgpack._cmsgpack.Packer.__cinit__\n",
      "MemoryError: Unable to allocate internal buffer.\n",
      "An unexpected internal error occurred while the worker was executing a task.\n"
     ]
    },
    {
     "ename": "",
     "evalue": "",
     "output_type": "error",
     "traceback": [
      "\u001b[1;31m현재 셀 또는 이전 셀에서 코드를 실행하는 동안 Kernel이 충돌했습니다. 셀의 코드를 검토하여 오류의 가능한 원인을 식별하세요. 자세한 내용을 보려면 <a href='https://aka.ms/vscodeJupyterKernelCrash'> 여기 </a> 를 클릭하세요. 자세한 내용은 Jupyter <a href='command:jupyter.viewOutput'>로그</a>를 참조하세요."
     ]
    }
   ],
   "source": [
    "# about 45s\n",
    "# modin about \n",
    "df = result3.merge(tin1, on='차대번호', how='left')\n",
    "df.shape"
   ]
  },
  {
   "cell_type": "code",
   "execution_count": 32,
   "metadata": {},
   "outputs": [
    {
     "data": {
      "text/plain": [
       "Index(['차대번호', '차량번호_x', '제원관리번호', '차종_원본', '용도', '최초등록일', '연식', '제작일자',\n",
       "       '검사유효일', '배출가스인증번호', '등급', '차명_x', '차종분류', '차종유형', '자동차형식', '제작사명',\n",
       "       '연료', '엔진형식_x', '총중량', '적재중량', '엔진출력', '배기량', '법정동코드', '시도명', '시군구명',\n",
       "       '소유자구분', '말소여부', '일치유무', '배인번호_수정', '등급_수정', 'DPF유무_수정', '사용연료', '주행거리',\n",
       "       '차명_y', '차량번호_y', '차종', '차량연식', '엔진형식_y', '검사방법', '검사일자', '검사종류',\n",
       "       '검사판정시각', '검사판정', '산소값', '이산화탄소값', '무부하매연판정1', '무부하매연판정2', '무부하매연판정3',\n",
       "       '무부하매연판정4', '무부하매연판정5', '무부하매연판정6', '무부하매연허용치1', '무부하매연허용치2',\n",
       "       '무부하매연허용치3', '무부하매연허용치4', '무부하매연허용치5', '무부하매연허용치6', '무부하매연측정치1',\n",
       "       '무부하매연측정치2', '무부하매연측정치3', '무부하매연측정치4', '무부하매연측정치5', '무부하매연측정치6', '차량용도',\n",
       "       '최대출력허용치', '최대출력측정값', '검사접수번호', '검사소명', '재검사기간', '정기정밀', '검사 검사소코드',\n",
       "       '검사유효기간'],\n",
       "      dtype='object')"
      ]
     },
     "execution_count": 32,
     "metadata": {},
     "output_type": "execute_result"
    }
   ],
   "source": [
    "df.columns"
   ]
  },
  {
   "cell_type": "code",
   "execution_count": 33,
   "metadata": {},
   "outputs": [
    {
     "data": {
      "text/plain": [
       "Index(['차대번호', '차량번호', '제원관리번호', '차종', '용도', '최초등록일', '연식', '제작일자', '검사유효일',\n",
       "       '배출가스인증번호', '등급', '차명', '차종분류', '차종유형', '자동차형식', '제작사명', '연료', '엔진형식',\n",
       "       '총중량', '적재중량', '엔진출력', '배기량', '법정동코드', '시도명', '시군구명', '소유자구분', '말소여부',\n",
       "       '일치유무', '배인번호_수정', '등급_수정', 'DPF유무_수정', '주행거리', '차량연식', '검사방법', '검사일자',\n",
       "       '검사종류', '검사판정시각', '검사판정', '산소값', '이산화탄소값', '무부하매연판정1', '무부하매연판정2',\n",
       "       '무부하매연판정3', '무부하매연판정4', '무부하매연판정5', '무부하매연판정6', '무부하매연허용치1',\n",
       "       '무부하매연허용치2', '무부하매연허용치3', '무부하매연허용치4', '무부하매연허용치5', '무부하매연허용치6',\n",
       "       '무부하매연측정치1', '무부하매연측정치2', '무부하매연측정치3', '무부하매연측정치4', '무부하매연측정치5',\n",
       "       '무부하매연측정치6', '정기정밀'],\n",
       "      dtype='object')"
      ]
     },
     "execution_count": 33,
     "metadata": {},
     "output_type": "execute_result"
    }
   ],
   "source": [
    "df = df[['차대번호', '차량번호_x', '제원관리번호', '차종_원본', '용도', '최초등록일', '연식', '제작일자', '검사유효일', '배출가스인증번호', '등급', '차명_x', '차종분류', '차종유형', '자동차형식', '제작사명',\n",
    "         '연료', '엔진형식_x', '총중량', '적재중량', '엔진출력', '배기량', '법정동코드', '시도명', '시군구명', '소유자구분', '말소여부', '일치유무', '배인번호_수정', '등급_수정', 'DPF유무_수정', \n",
    "         '주행거리', '차량연식', '검사방법', '검사일자', '검사종류', '검사판정시각', '검사판정', \n",
    "         '산소값', '이산화탄소값', \n",
    "         '무부하매연판정1', '무부하매연판정2', '무부하매연판정3', '무부하매연판정4', '무부하매연판정5', '무부하매연판정6', \n",
    "         '무부하매연허용치1', '무부하매연허용치2', '무부하매연허용치3', '무부하매연허용치4', '무부하매연허용치5', '무부하매연허용치6', \n",
    "         '무부하매연측정치1', '무부하매연측정치2', '무부하매연측정치3', '무부하매연측정치4', '무부하매연측정치5', '무부하매연측정치6', \n",
    "         '정기정밀']]\n",
    "df = df.rename(columns={'차량번호_x':'차량번호', '차명_x':'차명', '엔진형식_x':'엔진형식', '차종_원본':'차종'})\n",
    "df.columns"
   ]
  },
  {
   "cell_type": "code",
   "execution_count": 34,
   "metadata": {},
   "outputs": [
    {
     "data": {
      "text/plain": [
       "(1148315, 59)"
      ]
     },
     "execution_count": 34,
     "metadata": {},
     "output_type": "execute_result"
    }
   ],
   "source": [
    "df.shape"
   ]
  },
  {
   "cell_type": "code",
   "execution_count": 35,
   "metadata": {},
   "outputs": [
    {
     "data": {
      "text/plain": [
       "count    1120201.00\n",
       "mean    20217159.00\n",
       "std         5579.48\n",
       "min     20200108.00\n",
       "25%     20211101.00\n",
       "50%     20220330.00\n",
       "75%     20220730.00\n",
       "max     20230107.00\n",
       "Name: 검사일자, dtype: float64"
      ]
     },
     "execution_count": 35,
     "metadata": {},
     "output_type": "execute_result"
    }
   ],
   "source": [
    "df['검사일자'].describe()"
   ]
  },
  {
   "attachments": {},
   "cell_type": "markdown",
   "metadata": {},
   "source": [
    "### [출력] result와 정기&정밀(최신검사)"
   ]
  },
  {
   "cell_type": "code",
   "execution_count": 36,
   "metadata": {},
   "outputs": [],
   "source": [
    "# # about 28s\n",
    "# df.to_csv(os.path.join(raw_fold, 'result(4등급_경유)&정기&정밀(최신검사)(2023.03.22).csv'), index=False, encoding='cp949')"
   ]
  },
  {
   "attachments": {},
   "cell_type": "markdown",
   "metadata": {},
   "source": [
    "## str 타입으로 변경\n",
    "- 배인번호_수정\n",
    "- 엔진형식\n",
    "- 검사판정"
   ]
  },
  {
   "cell_type": "code",
   "execution_count": 37,
   "metadata": {},
   "outputs": [
    {
     "data": {
      "text/plain": [
       "제작사명          18\n",
       "배인번호_수정        0\n",
       "자동차형식          1\n",
       "엔진형식           0\n",
       "연식             0\n",
       "검사판정       28114\n",
       "dtype: int64"
      ]
     },
     "execution_count": 37,
     "metadata": {},
     "output_type": "execute_result"
    }
   ],
   "source": [
    "df[['제작사명', '배인번호_수정', '자동차형식', '엔진형식', '연식', '검사판정']].isnull().sum()"
   ]
  },
  {
   "cell_type": "code",
   "execution_count": 38,
   "metadata": {},
   "outputs": [],
   "source": [
    "df['제작사명'] = df['제작사명'].astype('str')\n",
    "df['배인번호_수정'] = df['배인번호_수정'].astype('str')\n",
    "df['자동차형식'] = df['자동차형식'].astype('str')\n",
    "df['엔진형식'] = df['엔진형식'].astype('str')\n",
    "df['검사판정'] = df['검사판정'].astype('str')"
   ]
  },
  {
   "cell_type": "code",
   "execution_count": 39,
   "metadata": {},
   "outputs": [
    {
     "data": {
      "text/plain": [
       "제작사명       0\n",
       "배인번호_수정    0\n",
       "자동차형식      0\n",
       "엔진형식       0\n",
       "검사판정       0\n",
       "dtype: int64"
      ]
     },
     "execution_count": 39,
     "metadata": {},
     "output_type": "execute_result"
    }
   ],
   "source": [
    "df[['제작사명', '배인번호_수정', '자동차형식', '엔진형식', '검사판정']].isnull().sum()"
   ]
  },
  {
   "attachments": {},
   "cell_type": "markdown",
   "metadata": {},
   "source": [
    "## 차대번호 10자리 연식"
   ]
  },
  {
   "cell_type": "code",
   "execution_count": 40,
   "metadata": {},
   "outputs": [],
   "source": [
    "df1 = df.copy()"
   ]
  },
  {
   "cell_type": "code",
   "execution_count": 41,
   "metadata": {},
   "outputs": [],
   "source": [
    "df1['vin10'] = df1['차대번호'].str[9]"
   ]
  },
  {
   "cell_type": "code",
   "execution_count": 42,
   "metadata": {},
   "outputs": [],
   "source": [
    "vin10_dict = {'J':1988, 'K':1989, 'L':1990, 'M':1991, 'N':1992, 'P':1993, 'R':1994, 'S':1995, 'T':1996, 'V':1997, 'W':1998, 'X':1999, 'Y':2000, '1':2001, '2':2002, '3':2003, '4':2004, '5':2005, '6':2006, '7':2007, '8':2008, '9':2009, 'A':2010, 'B':2011, 'C':2012, 'D':2013, 'E':2014, 'F':2015, 'G':2016, 'H':2017}"
   ]
  },
  {
   "cell_type": "code",
   "execution_count": 43,
   "metadata": {},
   "outputs": [],
   "source": [
    "df1['vin10_year'] = df1['vin10'].map(vin10_dict, na_action='ignore')"
   ]
  },
  {
   "attachments": {},
   "cell_type": "markdown",
   "metadata": {},
   "source": [
    "## check 파일 정리"
   ]
  },
  {
   "cell_type": "code",
   "execution_count": 44,
   "metadata": {},
   "outputs": [
    {
     "data": {
      "text/html": [
       "<div>\n",
       "<style scoped>\n",
       "    .dataframe tbody tr th:only-of-type {\n",
       "        vertical-align: middle;\n",
       "    }\n",
       "\n",
       "    .dataframe tbody tr th {\n",
       "        vertical-align: top;\n",
       "    }\n",
       "\n",
       "    .dataframe thead th {\n",
       "        text-align: right;\n",
       "    }\n",
       "</style>\n",
       "<table border=\"1\" class=\"dataframe\">\n",
       "  <thead>\n",
       "    <tr style=\"text-align: right;\">\n",
       "      <th></th>\n",
       "      <th>제작사</th>\n",
       "      <th>배출가스 인증번호</th>\n",
       "      <th>차명</th>\n",
       "      <th>Result1</th>\n",
       "      <th>Result2</th>\n",
       "      <th>검증 후 차량 대수</th>\n",
       "      <th>DPF장착여부</th>\n",
       "      <th>배출가스 등급</th>\n",
       "    </tr>\n",
       "  </thead>\n",
       "  <tbody>\n",
       "    <tr>\n",
       "      <th>0</th>\n",
       "      <td>현대자동차(주)</td>\n",
       "      <td>3MY-HD-14</td>\n",
       "      <td>포터Ⅱ(PORTERⅡ)</td>\n",
       "      <td>0.00</td>\n",
       "      <td>8.00</td>\n",
       "      <td>8</td>\n",
       "      <td>N</td>\n",
       "      <td>5.00</td>\n",
       "    </tr>\n",
       "    <tr>\n",
       "      <th>1</th>\n",
       "      <td>현대자동차(주)</td>\n",
       "      <td>3MY-HD-15</td>\n",
       "      <td>포터Ⅱ(PORTERⅡ)</td>\n",
       "      <td>0.00</td>\n",
       "      <td>1.00</td>\n",
       "      <td>1</td>\n",
       "      <td>N</td>\n",
       "      <td>5.00</td>\n",
       "    </tr>\n",
       "    <tr>\n",
       "      <th>2</th>\n",
       "      <td>아우디폭스바겐코리아(주)</td>\n",
       "      <td>4MY-AD-20</td>\n",
       "      <td>아우디 A6 3.0 TDI Quattro</td>\n",
       "      <td>29.00</td>\n",
       "      <td>1.00</td>\n",
       "      <td>30</td>\n",
       "      <td>N</td>\n",
       "      <td>4.00</td>\n",
       "    </tr>\n",
       "    <tr>\n",
       "      <th>3</th>\n",
       "      <td>자일대우상용차 주식회사</td>\n",
       "      <td>4MY-DB-03</td>\n",
       "      <td>BX212</td>\n",
       "      <td>9.00</td>\n",
       "      <td>0.00</td>\n",
       "      <td>9</td>\n",
       "      <td>N</td>\n",
       "      <td>4.00</td>\n",
       "    </tr>\n",
       "    <tr>\n",
       "      <th>4</th>\n",
       "      <td>자일대우상용차 주식회사</td>\n",
       "      <td>4MY-DB-04</td>\n",
       "      <td>BS106</td>\n",
       "      <td>24.00</td>\n",
       "      <td>0.00</td>\n",
       "      <td>24</td>\n",
       "      <td>N</td>\n",
       "      <td>4.00</td>\n",
       "    </tr>\n",
       "  </tbody>\n",
       "</table>\n",
       "</div>"
      ],
      "text/plain": [
       "             제작사  배출가스 인증번호                      차명  Result1  Result2  \\\n",
       "0       현대자동차(주)  3MY-HD-14            포터Ⅱ(PORTERⅡ)     0.00     8.00   \n",
       "1       현대자동차(주)  3MY-HD-15            포터Ⅱ(PORTERⅡ)     0.00     1.00   \n",
       "2  아우디폭스바겐코리아(주)  4MY-AD-20  아우디 A6 3.0 TDI Quattro    29.00     1.00   \n",
       "3   자일대우상용차 주식회사  4MY-DB-03                   BX212     9.00     0.00   \n",
       "4   자일대우상용차 주식회사  4MY-DB-04                   BS106    24.00     0.00   \n",
       "\n",
       "   검증 후 차량 대수 DPF장착여부  배출가스 등급  \n",
       "0           8       N     5.00  \n",
       "1           1       N     5.00  \n",
       "2          30       N     4.00  \n",
       "3           9       N     4.00  \n",
       "4          24       N     4.00  "
      ]
     },
     "execution_count": 44,
     "metadata": {},
     "output_type": "execute_result"
    }
   ],
   "source": [
    "check.head()"
   ]
  },
  {
   "cell_type": "code",
   "execution_count": 45,
   "metadata": {},
   "outputs": [
    {
     "data": {
      "text/html": [
       "<div>\n",
       "<style scoped>\n",
       "    .dataframe tbody tr th:only-of-type {\n",
       "        vertical-align: middle;\n",
       "    }\n",
       "\n",
       "    .dataframe tbody tr th {\n",
       "        vertical-align: top;\n",
       "    }\n",
       "\n",
       "    .dataframe thead th {\n",
       "        text-align: right;\n",
       "    }\n",
       "</style>\n",
       "<table border=\"1\" class=\"dataframe\">\n",
       "  <thead>\n",
       "    <tr style=\"text-align: right;\">\n",
       "      <th></th>\n",
       "      <th>제작사</th>\n",
       "      <th>배출가스 인증번호</th>\n",
       "      <th>차명</th>\n",
       "      <th>Result1</th>\n",
       "      <th>Result2</th>\n",
       "      <th>검증 후 차량 대수</th>\n",
       "      <th>DPF장착여부</th>\n",
       "      <th>배출가스 등급</th>\n",
       "    </tr>\n",
       "  </thead>\n",
       "  <tbody>\n",
       "    <tr>\n",
       "      <th>169</th>\n",
       "      <td>볼보트럭코리아(주)</td>\n",
       "      <td>FMY-VTK-14-4</td>\n",
       "      <td>FH 트랙터</td>\n",
       "      <td>0.00</td>\n",
       "      <td>49.00</td>\n",
       "      <td>49</td>\n",
       "      <td>Y</td>\n",
       "      <td>3.00</td>\n",
       "    </tr>\n",
       "    <tr>\n",
       "      <th>170</th>\n",
       "      <td>미기입</td>\n",
       "      <td>확인안됨</td>\n",
       "      <td>코란도KJ</td>\n",
       "      <td>0.00</td>\n",
       "      <td>1.00</td>\n",
       "      <td>1</td>\n",
       "      <td>N</td>\n",
       "      <td>5.00</td>\n",
       "    </tr>\n",
       "    <tr>\n",
       "      <th>171</th>\n",
       "      <td>미기입</td>\n",
       "      <td>확인안됨</td>\n",
       "      <td>기아뉴복사17</td>\n",
       "      <td>0.00</td>\n",
       "      <td>1.00</td>\n",
       "      <td>1</td>\n",
       "      <td>N</td>\n",
       "      <td>5.00</td>\n",
       "    </tr>\n",
       "    <tr>\n",
       "      <th>172</th>\n",
       "      <td>미기입</td>\n",
       "      <td>확인안됨</td>\n",
       "      <td>NaN</td>\n",
       "      <td>3.00</td>\n",
       "      <td>6656.00</td>\n",
       "      <td>6659</td>\n",
       "      <td>알수없음</td>\n",
       "      <td>4.00</td>\n",
       "    </tr>\n",
       "    <tr>\n",
       "      <th>173</th>\n",
       "      <td>합계</td>\n",
       "      <td>NaN</td>\n",
       "      <td>NaN</td>\n",
       "      <td>NaN</td>\n",
       "      <td>NaN</td>\n",
       "      <td>1153813</td>\n",
       "      <td>NaN</td>\n",
       "      <td>NaN</td>\n",
       "    </tr>\n",
       "  </tbody>\n",
       "</table>\n",
       "</div>"
      ],
      "text/plain": [
       "            제작사     배출가스 인증번호       차명  Result1  Result2  검증 후 차량 대수 DPF장착여부  \\\n",
       "169  볼보트럭코리아(주)  FMY-VTK-14-4   FH 트랙터     0.00    49.00          49       Y   \n",
       "170         미기입          확인안됨    코란도KJ     0.00     1.00           1       N   \n",
       "171         미기입          확인안됨  기아뉴복사17     0.00     1.00           1       N   \n",
       "172         미기입          확인안됨      NaN     3.00  6656.00        6659    알수없음   \n",
       "173          합계           NaN      NaN      NaN      NaN     1153813     NaN   \n",
       "\n",
       "     배출가스 등급  \n",
       "169     3.00  \n",
       "170     5.00  \n",
       "171     5.00  \n",
       "172     4.00  \n",
       "173      NaN  "
      ]
     },
     "execution_count": 45,
     "metadata": {},
     "output_type": "execute_result"
    }
   ],
   "source": [
    "check.tail()"
   ]
  },
  {
   "cell_type": "code",
   "execution_count": 46,
   "metadata": {},
   "outputs": [
    {
     "data": {
      "text/html": [
       "<div>\n",
       "<style scoped>\n",
       "    .dataframe tbody tr th:only-of-type {\n",
       "        vertical-align: middle;\n",
       "    }\n",
       "\n",
       "    .dataframe tbody tr th {\n",
       "        vertical-align: top;\n",
       "    }\n",
       "\n",
       "    .dataframe thead th {\n",
       "        text-align: right;\n",
       "    }\n",
       "</style>\n",
       "<table border=\"1\" class=\"dataframe\">\n",
       "  <thead>\n",
       "    <tr style=\"text-align: right;\">\n",
       "      <th></th>\n",
       "      <th>제작사</th>\n",
       "      <th>배출가스 인증번호</th>\n",
       "      <th>차명</th>\n",
       "      <th>Result1</th>\n",
       "      <th>Result2</th>\n",
       "      <th>검증 후 차량 대수</th>\n",
       "      <th>DPF장착여부</th>\n",
       "      <th>배출가스 등급</th>\n",
       "    </tr>\n",
       "  </thead>\n",
       "  <tbody>\n",
       "    <tr>\n",
       "      <th>165</th>\n",
       "      <td>자일대우상용차 주식회사</td>\n",
       "      <td>FMY-DB-14-54</td>\n",
       "      <td>BH090</td>\n",
       "      <td>13.00</td>\n",
       "      <td>0.00</td>\n",
       "      <td>13</td>\n",
       "      <td>Y</td>\n",
       "      <td>3.00</td>\n",
       "    </tr>\n",
       "    <tr>\n",
       "      <th>166</th>\n",
       "      <td>볼보트럭코리아(주)</td>\n",
       "      <td>FMY-VTK-14-1</td>\n",
       "      <td>FH 트랙터</td>\n",
       "      <td>0.00</td>\n",
       "      <td>1780.00</td>\n",
       "      <td>1780</td>\n",
       "      <td>Y</td>\n",
       "      <td>3.00</td>\n",
       "    </tr>\n",
       "    <tr>\n",
       "      <th>167</th>\n",
       "      <td>볼보트럭코리아(주)</td>\n",
       "      <td>FMY-VTK-14-2</td>\n",
       "      <td>FM 카고</td>\n",
       "      <td>0.00</td>\n",
       "      <td>87.00</td>\n",
       "      <td>87</td>\n",
       "      <td>Y</td>\n",
       "      <td>3.00</td>\n",
       "    </tr>\n",
       "    <tr>\n",
       "      <th>168</th>\n",
       "      <td>볼보트럭코리아(주)</td>\n",
       "      <td>FMY-VTK-14-3</td>\n",
       "      <td>FL 카고</td>\n",
       "      <td>0.00</td>\n",
       "      <td>76.00</td>\n",
       "      <td>76</td>\n",
       "      <td>Y</td>\n",
       "      <td>3.00</td>\n",
       "    </tr>\n",
       "    <tr>\n",
       "      <th>169</th>\n",
       "      <td>볼보트럭코리아(주)</td>\n",
       "      <td>FMY-VTK-14-4</td>\n",
       "      <td>FH 트랙터</td>\n",
       "      <td>0.00</td>\n",
       "      <td>49.00</td>\n",
       "      <td>49</td>\n",
       "      <td>Y</td>\n",
       "      <td>3.00</td>\n",
       "    </tr>\n",
       "  </tbody>\n",
       "</table>\n",
       "</div>"
      ],
      "text/plain": [
       "              제작사     배출가스 인증번호      차명  Result1  Result2  검증 후 차량 대수 DPF장착여부  \\\n",
       "165  자일대우상용차 주식회사  FMY-DB-14-54   BH090    13.00     0.00          13       Y   \n",
       "166    볼보트럭코리아(주)  FMY-VTK-14-1  FH 트랙터     0.00  1780.00        1780       Y   \n",
       "167    볼보트럭코리아(주)  FMY-VTK-14-2   FM 카고     0.00    87.00          87       Y   \n",
       "168    볼보트럭코리아(주)  FMY-VTK-14-3   FL 카고     0.00    76.00          76       Y   \n",
       "169    볼보트럭코리아(주)  FMY-VTK-14-4  FH 트랙터     0.00    49.00          49       Y   \n",
       "\n",
       "     배출가스 등급  \n",
       "165     3.00  \n",
       "166     3.00  \n",
       "167     3.00  \n",
       "168     3.00  \n",
       "169     3.00  "
      ]
     },
     "execution_count": 46,
     "metadata": {},
     "output_type": "execute_result"
    }
   ],
   "source": [
    "check1 = check.iloc[:170]\n",
    "check1.tail()"
   ]
  },
  {
   "cell_type": "code",
   "execution_count": 47,
   "metadata": {},
   "outputs": [
    {
     "data": {
      "text/plain": [
       "(170, 8)"
      ]
     },
     "execution_count": 47,
     "metadata": {},
     "output_type": "execute_result"
    }
   ],
   "source": [
    "check1.shape"
   ]
  },
  {
   "cell_type": "code",
   "execution_count": 48,
   "metadata": {},
   "outputs": [
    {
     "data": {
      "text/plain": [
       "170"
      ]
     },
     "execution_count": 48,
     "metadata": {},
     "output_type": "execute_result"
    }
   ],
   "source": [
    "emis_list = check1['배출가스 인증번호'].unique()\n",
    "len(emis_list)"
   ]
  },
  {
   "attachments": {},
   "cell_type": "markdown",
   "metadata": {},
   "source": [
    "## 배인번호 교집합 확인"
   ]
  },
  {
   "cell_type": "code",
   "execution_count": 49,
   "metadata": {},
   "outputs": [
    {
     "data": {
      "text/plain": [
       "(190, 140, 170)"
      ]
     },
     "execution_count": 49,
     "metadata": {},
     "output_type": "execute_result"
    }
   ],
   "source": [
    "# 해당 배인번호가 아닌 샘플\n",
    "len(df1['배출가스인증번호'].unique()), len(df1['배인번호_수정'].unique()), len(set(emis_list))"
   ]
  },
  {
   "cell_type": "code",
   "execution_count": 50,
   "metadata": {},
   "outputs": [
    {
     "data": {
      "text/plain": [
       "{'확인불가'}"
      ]
     },
     "execution_count": 50,
     "metadata": {},
     "output_type": "execute_result"
    }
   ],
   "source": [
    "set(df1['배인번호_수정'].unique()) - set(emis_list)"
   ]
  },
  {
   "attachments": {},
   "cell_type": "markdown",
   "metadata": {},
   "source": [
    "## 배인번호 17자리 샘플"
   ]
  },
  {
   "cell_type": "code",
   "execution_count": 51,
   "metadata": {},
   "outputs": [
    {
     "data": {
      "text/plain": [
       "((1148306, 61), (9, 61))"
      ]
     },
     "execution_count": 51,
     "metadata": {},
     "output_type": "execute_result"
    }
   ],
   "source": [
    "df2y = df1.loc[df1['차대번호'].str.len() == 17].reset_index(drop=True)\n",
    "df2n = df1.loc[df1['차대번호'].str.len() != 17].reset_index(drop=True)\n",
    "df2y.shape, df2n.shape"
   ]
  },
  {
   "cell_type": "code",
   "execution_count": 52,
   "metadata": {},
   "outputs": [
    {
     "data": {
      "text/plain": [
       "'2023.03.23_AM.09.21.31'"
      ]
     },
     "execution_count": 52,
     "metadata": {},
     "output_type": "execute_result"
    }
   ],
   "source": [
    "today_date = datetime.today().strftime(\"%Y.%m.%d_%p.%I.%M.%S\")\n",
    "today_date"
   ]
  },
  {
   "attachments": {},
   "cell_type": "markdown",
   "metadata": {},
   "source": [
    "### [출력] 샘플-배인번호17자리 아닌"
   ]
  },
  {
   "cell_type": "code",
   "execution_count": 53,
   "metadata": {},
   "outputs": [],
   "source": [
    "df2n.to_excel(os.path.join(sample_fold, f'통합_샘플_차대번호17자리아닌_{today_date}.xlsx'), index=False)"
   ]
  },
  {
   "attachments": {},
   "cell_type": "markdown",
   "metadata": {},
   "source": [
    "## 배인 연식과 연식 동일한 샘플"
   ]
  },
  {
   "cell_type": "code",
   "execution_count": 54,
   "metadata": {},
   "outputs": [
    {
     "data": {
      "text/plain": [
       "((1148246, 61), (60, 61))"
      ]
     },
     "execution_count": 54,
     "metadata": {},
     "output_type": "execute_result"
    }
   ],
   "source": [
    "df3y = df2y.loc[df2y['vin10_year'] == df2y['연식']].reset_index(drop=True)\n",
    "df3n = df2y.loc[df2y['vin10_year'] != df2y['연식']].reset_index(drop=True)\n",
    "df3y.shape, df3n.shape"
   ]
  },
  {
   "cell_type": "code",
   "execution_count": 55,
   "metadata": {},
   "outputs": [
    {
     "data": {
      "text/plain": [
       "'2023.03.23_AM.09.21.32'"
      ]
     },
     "execution_count": 55,
     "metadata": {},
     "output_type": "execute_result"
    }
   ],
   "source": [
    "today_date = datetime.today().strftime(\"%Y.%m.%d_%p.%I.%M.%S\")\n",
    "today_date"
   ]
  },
  {
   "attachments": {},
   "cell_type": "markdown",
   "metadata": {},
   "source": [
    "### [출력] 샘플-배인연식 다른"
   ]
  },
  {
   "cell_type": "code",
   "execution_count": 56,
   "metadata": {},
   "outputs": [],
   "source": [
    "df3n.to_excel(os.path.join(sample_fold, f'통합_샘플_차대번호17자리_차량연식다른_{today_date}.xlsx'), index=False)"
   ]
  },
  {
   "attachments": {},
   "cell_type": "markdown",
   "metadata": {},
   "source": [
    "# [test] 배출가스 인증번호별 분석\n",
    "- [해결] issue\n",
    "    - 배인번호 없음 : 9MY-KM-14-22\n",
    "        - 차명 : 쏘렌토\n",
    "        - 등급변경 : 3 -> 4"
   ]
  },
  {
   "attachments": {},
   "cell_type": "markdown",
   "metadata": {},
   "source": [
    "## [로드] 배인번호 파일"
   ]
  },
  {
   "cell_type": "code",
   "execution_count": 57,
   "metadata": {},
   "outputs": [],
   "source": [
    "# 5MY-BK-14-07\n",
    "# 6MY-BK-13-08\n",
    "# 6MY-MK-14-02\n",
    "# 5MY-HD-24-35"
   ]
  },
  {
   "cell_type": "code",
   "execution_count": 58,
   "metadata": {},
   "outputs": [],
   "source": [
    "test_df = pd.DataFrame()"
   ]
  },
  {
   "cell_type": "code",
   "execution_count": 59,
   "metadata": {},
   "outputs": [
    {
     "data": {
      "text/plain": [
       "(462, 61)"
      ]
     },
     "execution_count": 59,
     "metadata": {},
     "output_type": "execute_result"
    }
   ],
   "source": [
    "emis_no = '8MY-PA-14-03'\n",
    "gas_df = df1.loc[df1['배인번호_수정'] == emis_no]\n",
    "gas_df.shape"
   ]
  },
  {
   "attachments": {},
   "cell_type": "markdown",
   "metadata": {},
   "source": [
    "### 전처리\n",
    "- 제거\n",
    "    - 차대번호 17자리 아닌 샘플\n",
    "    - 차대번호 10자리와 차량연식이 다른 샘플"
   ]
  },
  {
   "attachments": {},
   "cell_type": "markdown",
   "metadata": {},
   "source": [
    "#### [출력] 차대번호17자리 아닌 샘플"
   ]
  },
  {
   "cell_type": "code",
   "execution_count": 60,
   "metadata": {},
   "outputs": [
    {
     "data": {
      "text/plain": [
       "((462, 61), (0, 61))"
      ]
     },
     "execution_count": 60,
     "metadata": {},
     "output_type": "execute_result"
    }
   ],
   "source": [
    "vin17y = gas_df[(gas_df['차대번호'].str.len() == 17)].reset_index(drop=True)\n",
    "vin17n = gas_df[(gas_df['차대번호'].str.len() != 17)].reset_index(drop=True)\n",
    "vin17y.shape, vin17n.shape"
   ]
  },
  {
   "cell_type": "code",
   "execution_count": 61,
   "metadata": {},
   "outputs": [],
   "source": [
    "# vin17n.to_excel(os.path.join(sample_fold, f'샘플_차대번호17자리아닌_{emis_no}.xlsx'), index=False)"
   ]
  },
  {
   "attachments": {},
   "cell_type": "markdown",
   "metadata": {},
   "source": [
    "#### [출력] 차대번호10자리 연도와 차량연식 다른 샘플"
   ]
  },
  {
   "cell_type": "code",
   "execution_count": 62,
   "metadata": {},
   "outputs": [
    {
     "data": {
      "text/plain": [
       "((462, 61), (0, 61))"
      ]
     },
     "execution_count": 62,
     "metadata": {},
     "output_type": "execute_result"
    }
   ],
   "source": [
    "vin17y_vin10y = vin17y[vin17y['vin10_year'] == vin17y['연식']].reset_index(drop=True)\n",
    "vin17y_vin10n = vin17y[vin17y['vin10_year'] != vin17y['연식']].reset_index(drop=True)\n",
    "vin17y_vin10y.shape, vin17y_vin10n.shape"
   ]
  },
  {
   "cell_type": "code",
   "execution_count": 63,
   "metadata": {},
   "outputs": [],
   "source": [
    "# vin17y_vin10n.to_excel(os.path.join(sample_fold, f'샘플_차대번호17자리_차량연식다른_{emis_no}.xlsx'), index=False)"
   ]
  },
  {
   "attachments": {},
   "cell_type": "markdown",
   "metadata": {},
   "source": [
    "### 분석\n",
    "- 제원관리번호별, 자동차형식별, 엔진형식별, 검사판정별 무부하매연측정치1 통계"
   ]
  },
  {
   "cell_type": "code",
   "execution_count": 64,
   "metadata": {},
   "outputs": [
    {
     "data": {
      "text/plain": [
       "dtype('float64')"
      ]
     },
     "execution_count": 64,
     "metadata": {},
     "output_type": "execute_result"
    }
   ],
   "source": [
    "vin17y_vin10y['무부하매연측정치1'].dtype"
   ]
  },
  {
   "cell_type": "code",
   "execution_count": 65,
   "metadata": {},
   "outputs": [
    {
     "data": {
      "text/plain": [
       "4"
      ]
     },
     "execution_count": 65,
     "metadata": {},
     "output_type": "execute_result"
    }
   ],
   "source": [
    "vin17y_vin10y['무부하매연측정치1'].isnull().sum()"
   ]
  },
  {
   "cell_type": "code",
   "execution_count": 66,
   "metadata": {},
   "outputs": [],
   "source": [
    "def flat_cols(df):\n",
    "    df.columns = ['/'.join(x) for x in df.columns.to_flat_index()]\n",
    "    return df"
   ]
  },
  {
   "cell_type": "code",
   "execution_count": 67,
   "metadata": {},
   "outputs": [],
   "source": [
    "g = vin17y_vin10y.groupby(['제작사명', '배인번호_수정', '제원관리번호', '자동차형식', '엔진형식', '검사판정'], dropna=False).agg({'차대번호':'count', '무부하매연측정치1':['mean', 'min', 'max']}).pipe(flat_cols).round(2).reset_index()\n",
    "g = g.rename(columns={'배인번호_수정':'배출가스인증번호', '차대번호/count':'대수', '무부하매연측정치1/mean':'mean', '무부하매연측정치1/min':'min', '무부하매연측정치1/max':'max'})"
   ]
  },
  {
   "cell_type": "code",
   "execution_count": 68,
   "metadata": {},
   "outputs": [
    {
     "data": {
      "text/html": [
       "<div>\n",
       "<style scoped>\n",
       "    .dataframe tbody tr th:only-of-type {\n",
       "        vertical-align: middle;\n",
       "    }\n",
       "\n",
       "    .dataframe tbody tr th {\n",
       "        vertical-align: top;\n",
       "    }\n",
       "\n",
       "    .dataframe thead th {\n",
       "        text-align: right;\n",
       "    }\n",
       "</style>\n",
       "<table border=\"1\" class=\"dataframe\">\n",
       "  <thead>\n",
       "    <tr style=\"text-align: right;\">\n",
       "      <th></th>\n",
       "      <th>제작사명</th>\n",
       "      <th>배출가스인증번호</th>\n",
       "      <th>제원관리번호</th>\n",
       "      <th>자동차형식</th>\n",
       "      <th>엔진형식</th>\n",
       "      <th>검사판정</th>\n",
       "      <th>대수</th>\n",
       "      <th>mean</th>\n",
       "      <th>min</th>\n",
       "      <th>max</th>\n",
       "    </tr>\n",
       "  </thead>\n",
       "  <tbody>\n",
       "    <tr>\n",
       "      <th>0</th>\n",
       "      <td>(주)볼보자동차코리아</td>\n",
       "      <td>8MY-PA-14-03</td>\n",
       "      <td>920003000001308</td>\n",
       "      <td>B71</td>\n",
       "      <td>D5244T</td>\n",
       "      <td>N</td>\n",
       "      <td>1</td>\n",
       "      <td>0.00</td>\n",
       "      <td>0.00</td>\n",
       "      <td>0.00</td>\n",
       "    </tr>\n",
       "    <tr>\n",
       "      <th>1</th>\n",
       "      <td>(주)볼보자동차코리아</td>\n",
       "      <td>8MY-PA-14-03</td>\n",
       "      <td>920003000001308</td>\n",
       "      <td>B71</td>\n",
       "      <td>D5244T</td>\n",
       "      <td>Y</td>\n",
       "      <td>49</td>\n",
       "      <td>1.73</td>\n",
       "      <td>0.00</td>\n",
       "      <td>21.00</td>\n",
       "    </tr>\n",
       "    <tr>\n",
       "      <th>2</th>\n",
       "      <td>(주)볼보자동차코리아</td>\n",
       "      <td>8MY-PA-14-03</td>\n",
       "      <td>920003000011308</td>\n",
       "      <td>B71</td>\n",
       "      <td>D5244T</td>\n",
       "      <td>N</td>\n",
       "      <td>1</td>\n",
       "      <td>0.00</td>\n",
       "      <td>0.00</td>\n",
       "      <td>0.00</td>\n",
       "    </tr>\n",
       "    <tr>\n",
       "      <th>3</th>\n",
       "      <td>(주)볼보자동차코리아</td>\n",
       "      <td>8MY-PA-14-03</td>\n",
       "      <td>920003000011308</td>\n",
       "      <td>B71</td>\n",
       "      <td>D5244T</td>\n",
       "      <td>Y</td>\n",
       "      <td>136</td>\n",
       "      <td>0.66</td>\n",
       "      <td>0.00</td>\n",
       "      <td>25.00</td>\n",
       "    </tr>\n",
       "    <tr>\n",
       "      <th>4</th>\n",
       "      <td>(주)볼보자동차코리아</td>\n",
       "      <td>8MY-PA-14-03</td>\n",
       "      <td>920003000021309</td>\n",
       "      <td>B70</td>\n",
       "      <td>D5244T</td>\n",
       "      <td>Y</td>\n",
       "      <td>86</td>\n",
       "      <td>0.34</td>\n",
       "      <td>0.00</td>\n",
       "      <td>6.00</td>\n",
       "    </tr>\n",
       "    <tr>\n",
       "      <th>5</th>\n",
       "      <td>(주)볼보자동차코리아</td>\n",
       "      <td>8MY-PA-14-03</td>\n",
       "      <td>920003000031310</td>\n",
       "      <td>B70</td>\n",
       "      <td>D5244T</td>\n",
       "      <td>N</td>\n",
       "      <td>1</td>\n",
       "      <td>0.00</td>\n",
       "      <td>0.00</td>\n",
       "      <td>0.00</td>\n",
       "    </tr>\n",
       "    <tr>\n",
       "      <th>6</th>\n",
       "      <td>(주)볼보자동차코리아</td>\n",
       "      <td>8MY-PA-14-03</td>\n",
       "      <td>920003000031310</td>\n",
       "      <td>B70</td>\n",
       "      <td>D5244T</td>\n",
       "      <td>Y</td>\n",
       "      <td>184</td>\n",
       "      <td>0.21</td>\n",
       "      <td>0.00</td>\n",
       "      <td>15.00</td>\n",
       "    </tr>\n",
       "    <tr>\n",
       "      <th>7</th>\n",
       "      <td>(주)볼보자동차코리아</td>\n",
       "      <td>8MY-PA-14-03</td>\n",
       "      <td>920003000031310</td>\n",
       "      <td>B70</td>\n",
       "      <td>D5244T</td>\n",
       "      <td>nan</td>\n",
       "      <td>4</td>\n",
       "      <td>NaN</td>\n",
       "      <td>NaN</td>\n",
       "      <td>NaN</td>\n",
       "    </tr>\n",
       "  </tbody>\n",
       "</table>\n",
       "</div>"
      ],
      "text/plain": [
       "          제작사명      배출가스인증번호            제원관리번호 자동차형식    엔진형식 검사판정   대수  mean  \\\n",
       "0  (주)볼보자동차코리아  8MY-PA-14-03  920003000001308    B71  D5244T    N    1  0.00   \n",
       "1  (주)볼보자동차코리아  8MY-PA-14-03  920003000001308    B71  D5244T    Y   49  1.73   \n",
       "2  (주)볼보자동차코리아  8MY-PA-14-03  920003000011308    B71  D5244T    N    1  0.00   \n",
       "3  (주)볼보자동차코리아  8MY-PA-14-03  920003000011308    B71  D5244T    Y  136  0.66   \n",
       "4  (주)볼보자동차코리아  8MY-PA-14-03  920003000021309    B70  D5244T    Y   86  0.34   \n",
       "5  (주)볼보자동차코리아  8MY-PA-14-03  920003000031310    B70  D5244T    N    1  0.00   \n",
       "6  (주)볼보자동차코리아  8MY-PA-14-03  920003000031310    B70  D5244T    Y  184  0.21   \n",
       "7  (주)볼보자동차코리아  8MY-PA-14-03  920003000031310    B70  D5244T  nan    4   NaN   \n",
       "\n",
       "   min   max  \n",
       "0 0.00  0.00  \n",
       "1 0.00 21.00  \n",
       "2 0.00  0.00  \n",
       "3 0.00 25.00  \n",
       "4 0.00  6.00  \n",
       "5 0.00  0.00  \n",
       "6 0.00 15.00  \n",
       "7  NaN   NaN  "
      ]
     },
     "execution_count": 68,
     "metadata": {},
     "output_type": "execute_result"
    }
   ],
   "source": [
    "g"
   ]
  },
  {
   "cell_type": "code",
   "execution_count": 69,
   "metadata": {},
   "outputs": [],
   "source": [
    "concat_two = pd.DataFrame()\n",
    "for two in g['제원관리번호'].unique():\n",
    "    for three in g['엔진형식'].unique():\n",
    "        temp = g[(g['제원관리번호'] == two) & (g['엔진형식'] == three)].copy()\n",
    "        temp['엔진형식/sum'] = temp['대수'].sum()\n",
    "        temp['검사판정비율'] = temp['대수'] / temp['엔진형식/sum']\n",
    "        concat_two = pd.concat([concat_two, temp], ignore_index=True)"
   ]
  },
  {
   "cell_type": "code",
   "execution_count": 70,
   "metadata": {},
   "outputs": [
    {
     "data": {
      "text/html": [
       "<div>\n",
       "<style scoped>\n",
       "    .dataframe tbody tr th:only-of-type {\n",
       "        vertical-align: middle;\n",
       "    }\n",
       "\n",
       "    .dataframe tbody tr th {\n",
       "        vertical-align: top;\n",
       "    }\n",
       "\n",
       "    .dataframe thead th {\n",
       "        text-align: right;\n",
       "    }\n",
       "</style>\n",
       "<table border=\"1\" class=\"dataframe\">\n",
       "  <thead>\n",
       "    <tr style=\"text-align: right;\">\n",
       "      <th></th>\n",
       "      <th>제작사명</th>\n",
       "      <th>배출가스인증번호</th>\n",
       "      <th>제원관리번호</th>\n",
       "      <th>자동차형식</th>\n",
       "      <th>엔진형식</th>\n",
       "      <th>검사판정</th>\n",
       "      <th>대수</th>\n",
       "      <th>mean</th>\n",
       "      <th>min</th>\n",
       "      <th>max</th>\n",
       "      <th>엔진형식/sum</th>\n",
       "      <th>검사판정비율</th>\n",
       "    </tr>\n",
       "  </thead>\n",
       "  <tbody>\n",
       "    <tr>\n",
       "      <th>0</th>\n",
       "      <td>(주)볼보자동차코리아</td>\n",
       "      <td>8MY-PA-14-03</td>\n",
       "      <td>920003000001308</td>\n",
       "      <td>B71</td>\n",
       "      <td>D5244T</td>\n",
       "      <td>N</td>\n",
       "      <td>1</td>\n",
       "      <td>0.00</td>\n",
       "      <td>0.00</td>\n",
       "      <td>0.00</td>\n",
       "      <td>50</td>\n",
       "      <td>0.02</td>\n",
       "    </tr>\n",
       "    <tr>\n",
       "      <th>1</th>\n",
       "      <td>(주)볼보자동차코리아</td>\n",
       "      <td>8MY-PA-14-03</td>\n",
       "      <td>920003000001308</td>\n",
       "      <td>B71</td>\n",
       "      <td>D5244T</td>\n",
       "      <td>Y</td>\n",
       "      <td>49</td>\n",
       "      <td>1.73</td>\n",
       "      <td>0.00</td>\n",
       "      <td>21.00</td>\n",
       "      <td>50</td>\n",
       "      <td>0.98</td>\n",
       "    </tr>\n",
       "    <tr>\n",
       "      <th>2</th>\n",
       "      <td>(주)볼보자동차코리아</td>\n",
       "      <td>8MY-PA-14-03</td>\n",
       "      <td>920003000011308</td>\n",
       "      <td>B71</td>\n",
       "      <td>D5244T</td>\n",
       "      <td>N</td>\n",
       "      <td>1</td>\n",
       "      <td>0.00</td>\n",
       "      <td>0.00</td>\n",
       "      <td>0.00</td>\n",
       "      <td>137</td>\n",
       "      <td>0.01</td>\n",
       "    </tr>\n",
       "    <tr>\n",
       "      <th>3</th>\n",
       "      <td>(주)볼보자동차코리아</td>\n",
       "      <td>8MY-PA-14-03</td>\n",
       "      <td>920003000011308</td>\n",
       "      <td>B71</td>\n",
       "      <td>D5244T</td>\n",
       "      <td>Y</td>\n",
       "      <td>136</td>\n",
       "      <td>0.66</td>\n",
       "      <td>0.00</td>\n",
       "      <td>25.00</td>\n",
       "      <td>137</td>\n",
       "      <td>0.99</td>\n",
       "    </tr>\n",
       "    <tr>\n",
       "      <th>4</th>\n",
       "      <td>(주)볼보자동차코리아</td>\n",
       "      <td>8MY-PA-14-03</td>\n",
       "      <td>920003000021309</td>\n",
       "      <td>B70</td>\n",
       "      <td>D5244T</td>\n",
       "      <td>Y</td>\n",
       "      <td>86</td>\n",
       "      <td>0.34</td>\n",
       "      <td>0.00</td>\n",
       "      <td>6.00</td>\n",
       "      <td>86</td>\n",
       "      <td>1.00</td>\n",
       "    </tr>\n",
       "    <tr>\n",
       "      <th>5</th>\n",
       "      <td>(주)볼보자동차코리아</td>\n",
       "      <td>8MY-PA-14-03</td>\n",
       "      <td>920003000031310</td>\n",
       "      <td>B70</td>\n",
       "      <td>D5244T</td>\n",
       "      <td>N</td>\n",
       "      <td>1</td>\n",
       "      <td>0.00</td>\n",
       "      <td>0.00</td>\n",
       "      <td>0.00</td>\n",
       "      <td>189</td>\n",
       "      <td>0.01</td>\n",
       "    </tr>\n",
       "    <tr>\n",
       "      <th>6</th>\n",
       "      <td>(주)볼보자동차코리아</td>\n",
       "      <td>8MY-PA-14-03</td>\n",
       "      <td>920003000031310</td>\n",
       "      <td>B70</td>\n",
       "      <td>D5244T</td>\n",
       "      <td>Y</td>\n",
       "      <td>184</td>\n",
       "      <td>0.21</td>\n",
       "      <td>0.00</td>\n",
       "      <td>15.00</td>\n",
       "      <td>189</td>\n",
       "      <td>0.97</td>\n",
       "    </tr>\n",
       "    <tr>\n",
       "      <th>7</th>\n",
       "      <td>(주)볼보자동차코리아</td>\n",
       "      <td>8MY-PA-14-03</td>\n",
       "      <td>920003000031310</td>\n",
       "      <td>B70</td>\n",
       "      <td>D5244T</td>\n",
       "      <td>nan</td>\n",
       "      <td>4</td>\n",
       "      <td>NaN</td>\n",
       "      <td>NaN</td>\n",
       "      <td>NaN</td>\n",
       "      <td>189</td>\n",
       "      <td>0.02</td>\n",
       "    </tr>\n",
       "  </tbody>\n",
       "</table>\n",
       "</div>"
      ],
      "text/plain": [
       "          제작사명      배출가스인증번호            제원관리번호 자동차형식    엔진형식 검사판정   대수  mean  \\\n",
       "0  (주)볼보자동차코리아  8MY-PA-14-03  920003000001308    B71  D5244T    N    1  0.00   \n",
       "1  (주)볼보자동차코리아  8MY-PA-14-03  920003000001308    B71  D5244T    Y   49  1.73   \n",
       "2  (주)볼보자동차코리아  8MY-PA-14-03  920003000011308    B71  D5244T    N    1  0.00   \n",
       "3  (주)볼보자동차코리아  8MY-PA-14-03  920003000011308    B71  D5244T    Y  136  0.66   \n",
       "4  (주)볼보자동차코리아  8MY-PA-14-03  920003000021309    B70  D5244T    Y   86  0.34   \n",
       "5  (주)볼보자동차코리아  8MY-PA-14-03  920003000031310    B70  D5244T    N    1  0.00   \n",
       "6  (주)볼보자동차코리아  8MY-PA-14-03  920003000031310    B70  D5244T    Y  184  0.21   \n",
       "7  (주)볼보자동차코리아  8MY-PA-14-03  920003000031310    B70  D5244T  nan    4   NaN   \n",
       "\n",
       "   min   max  엔진형식/sum  검사판정비율  \n",
       "0 0.00  0.00        50    0.02  \n",
       "1 0.00 21.00        50    0.98  \n",
       "2 0.00  0.00       137    0.01  \n",
       "3 0.00 25.00       137    0.99  \n",
       "4 0.00  6.00        86    1.00  \n",
       "5 0.00  0.00       189    0.01  \n",
       "6 0.00 15.00       189    0.97  \n",
       "7  NaN   NaN       189    0.02  "
      ]
     },
     "execution_count": 70,
     "metadata": {},
     "output_type": "execute_result"
    }
   ],
   "source": [
    "concat_two"
   ]
  },
  {
   "cell_type": "code",
   "execution_count": 71,
   "metadata": {},
   "outputs": [],
   "source": [
    "test_df = pd.concat([test_df, concat_two], ignore_index=True)"
   ]
  },
  {
   "cell_type": "code",
   "execution_count": 72,
   "metadata": {},
   "outputs": [
    {
     "data": {
      "text/html": [
       "<div>\n",
       "<style scoped>\n",
       "    .dataframe tbody tr th:only-of-type {\n",
       "        vertical-align: middle;\n",
       "    }\n",
       "\n",
       "    .dataframe tbody tr th {\n",
       "        vertical-align: top;\n",
       "    }\n",
       "\n",
       "    .dataframe thead th {\n",
       "        text-align: right;\n",
       "    }\n",
       "</style>\n",
       "<table border=\"1\" class=\"dataframe\">\n",
       "  <thead>\n",
       "    <tr style=\"text-align: right;\">\n",
       "      <th></th>\n",
       "      <th>제작사명</th>\n",
       "      <th>배출가스인증번호</th>\n",
       "      <th>제원관리번호</th>\n",
       "      <th>자동차형식</th>\n",
       "      <th>엔진형식</th>\n",
       "      <th>검사판정</th>\n",
       "      <th>대수</th>\n",
       "      <th>mean</th>\n",
       "      <th>min</th>\n",
       "      <th>max</th>\n",
       "      <th>엔진형식/sum</th>\n",
       "      <th>검사판정비율</th>\n",
       "    </tr>\n",
       "  </thead>\n",
       "  <tbody>\n",
       "    <tr>\n",
       "      <th>0</th>\n",
       "      <td>(주)볼보자동차코리아</td>\n",
       "      <td>8MY-PA-14-03</td>\n",
       "      <td>920003000001308</td>\n",
       "      <td>B71</td>\n",
       "      <td>D5244T</td>\n",
       "      <td>N</td>\n",
       "      <td>1</td>\n",
       "      <td>0.00</td>\n",
       "      <td>0.00</td>\n",
       "      <td>0.00</td>\n",
       "      <td>50</td>\n",
       "      <td>0.02</td>\n",
       "    </tr>\n",
       "    <tr>\n",
       "      <th>1</th>\n",
       "      <td>(주)볼보자동차코리아</td>\n",
       "      <td>8MY-PA-14-03</td>\n",
       "      <td>920003000001308</td>\n",
       "      <td>B71</td>\n",
       "      <td>D5244T</td>\n",
       "      <td>Y</td>\n",
       "      <td>49</td>\n",
       "      <td>1.73</td>\n",
       "      <td>0.00</td>\n",
       "      <td>21.00</td>\n",
       "      <td>50</td>\n",
       "      <td>0.98</td>\n",
       "    </tr>\n",
       "    <tr>\n",
       "      <th>2</th>\n",
       "      <td>(주)볼보자동차코리아</td>\n",
       "      <td>8MY-PA-14-03</td>\n",
       "      <td>920003000011308</td>\n",
       "      <td>B71</td>\n",
       "      <td>D5244T</td>\n",
       "      <td>N</td>\n",
       "      <td>1</td>\n",
       "      <td>0.00</td>\n",
       "      <td>0.00</td>\n",
       "      <td>0.00</td>\n",
       "      <td>137</td>\n",
       "      <td>0.01</td>\n",
       "    </tr>\n",
       "    <tr>\n",
       "      <th>3</th>\n",
       "      <td>(주)볼보자동차코리아</td>\n",
       "      <td>8MY-PA-14-03</td>\n",
       "      <td>920003000011308</td>\n",
       "      <td>B71</td>\n",
       "      <td>D5244T</td>\n",
       "      <td>Y</td>\n",
       "      <td>136</td>\n",
       "      <td>0.66</td>\n",
       "      <td>0.00</td>\n",
       "      <td>25.00</td>\n",
       "      <td>137</td>\n",
       "      <td>0.99</td>\n",
       "    </tr>\n",
       "    <tr>\n",
       "      <th>4</th>\n",
       "      <td>(주)볼보자동차코리아</td>\n",
       "      <td>8MY-PA-14-03</td>\n",
       "      <td>920003000021309</td>\n",
       "      <td>B70</td>\n",
       "      <td>D5244T</td>\n",
       "      <td>Y</td>\n",
       "      <td>86</td>\n",
       "      <td>0.34</td>\n",
       "      <td>0.00</td>\n",
       "      <td>6.00</td>\n",
       "      <td>86</td>\n",
       "      <td>1.00</td>\n",
       "    </tr>\n",
       "    <tr>\n",
       "      <th>5</th>\n",
       "      <td>(주)볼보자동차코리아</td>\n",
       "      <td>8MY-PA-14-03</td>\n",
       "      <td>920003000031310</td>\n",
       "      <td>B70</td>\n",
       "      <td>D5244T</td>\n",
       "      <td>N</td>\n",
       "      <td>1</td>\n",
       "      <td>0.00</td>\n",
       "      <td>0.00</td>\n",
       "      <td>0.00</td>\n",
       "      <td>189</td>\n",
       "      <td>0.01</td>\n",
       "    </tr>\n",
       "    <tr>\n",
       "      <th>6</th>\n",
       "      <td>(주)볼보자동차코리아</td>\n",
       "      <td>8MY-PA-14-03</td>\n",
       "      <td>920003000031310</td>\n",
       "      <td>B70</td>\n",
       "      <td>D5244T</td>\n",
       "      <td>Y</td>\n",
       "      <td>184</td>\n",
       "      <td>0.21</td>\n",
       "      <td>0.00</td>\n",
       "      <td>15.00</td>\n",
       "      <td>189</td>\n",
       "      <td>0.97</td>\n",
       "    </tr>\n",
       "    <tr>\n",
       "      <th>7</th>\n",
       "      <td>(주)볼보자동차코리아</td>\n",
       "      <td>8MY-PA-14-03</td>\n",
       "      <td>920003000031310</td>\n",
       "      <td>B70</td>\n",
       "      <td>D5244T</td>\n",
       "      <td>nan</td>\n",
       "      <td>4</td>\n",
       "      <td>NaN</td>\n",
       "      <td>NaN</td>\n",
       "      <td>NaN</td>\n",
       "      <td>189</td>\n",
       "      <td>0.02</td>\n",
       "    </tr>\n",
       "  </tbody>\n",
       "</table>\n",
       "</div>"
      ],
      "text/plain": [
       "          제작사명      배출가스인증번호            제원관리번호 자동차형식    엔진형식 검사판정   대수  mean  \\\n",
       "0  (주)볼보자동차코리아  8MY-PA-14-03  920003000001308    B71  D5244T    N    1  0.00   \n",
       "1  (주)볼보자동차코리아  8MY-PA-14-03  920003000001308    B71  D5244T    Y   49  1.73   \n",
       "2  (주)볼보자동차코리아  8MY-PA-14-03  920003000011308    B71  D5244T    N    1  0.00   \n",
       "3  (주)볼보자동차코리아  8MY-PA-14-03  920003000011308    B71  D5244T    Y  136  0.66   \n",
       "4  (주)볼보자동차코리아  8MY-PA-14-03  920003000021309    B70  D5244T    Y   86  0.34   \n",
       "5  (주)볼보자동차코리아  8MY-PA-14-03  920003000031310    B70  D5244T    N    1  0.00   \n",
       "6  (주)볼보자동차코리아  8MY-PA-14-03  920003000031310    B70  D5244T    Y  184  0.21   \n",
       "7  (주)볼보자동차코리아  8MY-PA-14-03  920003000031310    B70  D5244T  nan    4   NaN   \n",
       "\n",
       "   min   max  엔진형식/sum  검사판정비율  \n",
       "0 0.00  0.00        50    0.02  \n",
       "1 0.00 21.00        50    0.98  \n",
       "2 0.00  0.00       137    0.01  \n",
       "3 0.00 25.00       137    0.99  \n",
       "4 0.00  6.00        86    1.00  \n",
       "5 0.00  0.00       189    0.01  \n",
       "6 0.00 15.00       189    0.97  \n",
       "7  NaN   NaN       189    0.02  "
      ]
     },
     "execution_count": 72,
     "metadata": {},
     "output_type": "execute_result"
    }
   ],
   "source": [
    "test_df"
   ]
  },
  {
   "cell_type": "code",
   "execution_count": 73,
   "metadata": {},
   "outputs": [
    {
     "data": {
      "text/plain": [
       "'D:/data/big2/BD1/an'"
      ]
     },
     "execution_count": 73,
     "metadata": {},
     "output_type": "execute_result"
    }
   ],
   "source": [
    "analysis_fold"
   ]
  },
  {
   "cell_type": "code",
   "execution_count": 74,
   "metadata": {},
   "outputs": [],
   "source": [
    "# g.to_excel(os.path.join(analysis_fold, f'통계_제번별_차형식별_엔진형식별_검사판정별_무부하매연측정치1_{emis_no}.xlsx'))"
   ]
  },
  {
   "cell_type": "code",
   "execution_count": 75,
   "metadata": {},
   "outputs": [],
   "source": [
    "def flat_cols(df):\n",
    "    df.columns = ['/'.join(x) for x in df.columns.to_flat_index()]\n",
    "    return df"
   ]
  },
  {
   "cell_type": "code",
   "execution_count": 76,
   "metadata": {},
   "outputs": [],
   "source": [
    "# gas_nm_list = check_df['배출가스인증번호'].unique()\n",
    "# len(gas_nm_list)"
   ]
  },
  {
   "cell_type": "code",
   "execution_count": 77,
   "metadata": {},
   "outputs": [
    {
     "data": {
      "text/plain": [
       "Index(['제작사', '배출가스 인증번호', '차명', 'Result1', 'Result2', '검증 후 차량 대수', 'DPF장착여부',\n",
       "       '배출가스 등급'],\n",
       "      dtype='object')"
      ]
     },
     "execution_count": 77,
     "metadata": {},
     "output_type": "execute_result"
    }
   ],
   "source": [
    "check1.columns"
   ]
  },
  {
   "cell_type": "code",
   "execution_count": 78,
   "metadata": {},
   "outputs": [
    {
     "data": {
      "text/plain": [
       "170"
      ]
     },
     "execution_count": 78,
     "metadata": {},
     "output_type": "execute_result"
    }
   ],
   "source": [
    "emis_list = check1['배출가스 인증번호'].unique()\n",
    "len(emis_list)"
   ]
  },
  {
   "cell_type": "code",
   "execution_count": 79,
   "metadata": {},
   "outputs": [
    {
     "data": {
      "text/plain": [
       "array(['3MY-HD-14', '3MY-HD-15', '4MY-AD-20', '4MY-DB-03', '4MY-DB-04'],\n",
       "      dtype=object)"
      ]
     },
     "execution_count": 79,
     "metadata": {},
     "output_type": "execute_result"
    }
   ],
   "source": [
    "emis_list[:5]"
   ]
  },
  {
   "cell_type": "code",
   "execution_count": 80,
   "metadata": {},
   "outputs": [],
   "source": [
    "# productor_dict = {\n",
    "#     'HD':'현대자동차(주)', \n",
    "#     'AD':'아우디폭스바겐코리아(주)', \n",
    "#     'PP':'아우디폭스바겐코리아(주)', \n",
    "#     'DB':'자일대우상용차 주식회사',\n",
    "#     'DK':'다임러트럭코리아(주)', \n",
    "#     'DK':'에프씨에이코리아(주)', \n",
    "#     'KM':'기아자동차(주)', \n",
    "#     'PA':'(주)볼보자동차코리아', \n",
    "#     'BK':'비엠더블유코리아(주)',\n",
    "#     'HB':'한불모터스(주)', \n",
    "#     'SK':'스카니아코리아그룹(주)', \n",
    "#     'SY':'쌍용자동차(주)', \n",
    "#     'VTK':'볼보트럭코리아(주)', \n",
    "#     'DC':'타타대우상용차(주)', \n",
    "#     'DW':'한국지엠주식회사', \n",
    "#     'GK':'지엠아시아퍼시픽지역본부 주식회사', \n",
    "#     'MK':'메르세데스벤츠코리아(주)', \n",
    "#     'MT':'만트럭버스코리아(주)', \n",
    "#     'SM':'르노삼성자동차(주)', \n",
    "#     'FK':'포드세일즈서비스코리아(유)', \n",
    "#     'JL':'(주)재규어랜드로버코리아', \n",
    "#     }"
   ]
  },
  {
   "attachments": {},
   "cell_type": "markdown",
   "metadata": {},
   "source": [
    "# 배인번호별 분석2"
   ]
  },
  {
   "cell_type": "code",
   "execution_count": 81,
   "metadata": {},
   "outputs": [
    {
     "name": "stderr",
     "output_type": "stream",
     "text": [
      "100%|██████████| 140/140 [05:11<00:00,  2.22s/it] \n"
     ]
    }
   ],
   "source": [
    "# 5m 16s\n",
    "total_g_df = pd.DataFrame()\n",
    "\n",
    "for one in tqdm(df3y['배인번호_수정'].unique()):\n",
    "    # 배인번호별 df\n",
    "    gas_df = df3y.loc[df3y['배인번호_수정'] == str(one)].reset_index(drop=True)\n",
    "\n",
    "    if gas_df.shape[0] != 0:\n",
    "        # 제번별, 차형식별, 엔진형식별, 검사판정별 무부하매연측정치1 통계\n",
    "        g = gas_df.groupby(['제작사명', '배인번호_수정', '제원관리번호', '자동차형식', '엔진형식', '검사판정'], dropna=False).agg({'차대번호':'count', '무부하매연측정치1':['mean', 'min', 'max']}).pipe(flat_cols).round(2).reset_index()\n",
    "        g = g.rename(columns={'배인번호_수정':'배출가스인증번호', '차대번호/count':'대수', '무부하매연측정치1/mean':'mean', '무부하매연측정치1/min':'min', '무부하매연측정치1/max':'max'})\n",
    "        # 하나의 배인번호에서 제번별 엔진형식별 비율 계산\n",
    "        concat_two = pd.DataFrame()\n",
    "        for two in g['제원관리번호'].unique():\n",
    "            for three in g['엔진형식'].unique():\n",
    "                temp = g[(g['제원관리번호'] == two) & (g['엔진형식'] == three)].copy()\n",
    "                temp['엔진형식/sum'] = temp['대수'].sum()\n",
    "                temp['검사판정비율'] = temp['대수'] / temp['엔진형식/sum']\n",
    "                concat_two = pd.concat([concat_two, temp], ignore_index=True)\n",
    "        # 종합 - 통계\n",
    "        total_g_df = pd.concat([total_g_df, concat_two], ignore_index=True)\n",
    "    else:\n",
    "        print(f'오류 배인번호 : {one}')\n",
    "        pass\n",
    "\n",
    "# 5m 16s"
   ]
  },
  {
   "cell_type": "code",
   "execution_count": 82,
   "metadata": {},
   "outputs": [
    {
     "data": {
      "text/html": [
       "<div>\n",
       "<style scoped>\n",
       "    .dataframe tbody tr th:only-of-type {\n",
       "        vertical-align: middle;\n",
       "    }\n",
       "\n",
       "    .dataframe tbody tr th {\n",
       "        vertical-align: top;\n",
       "    }\n",
       "\n",
       "    .dataframe thead th {\n",
       "        text-align: right;\n",
       "    }\n",
       "</style>\n",
       "<table border=\"1\" class=\"dataframe\">\n",
       "  <thead>\n",
       "    <tr style=\"text-align: right;\">\n",
       "      <th></th>\n",
       "      <th>제작사명</th>\n",
       "      <th>배출가스인증번호</th>\n",
       "      <th>제원관리번호</th>\n",
       "      <th>자동차형식</th>\n",
       "      <th>엔진형식</th>\n",
       "      <th>검사판정</th>\n",
       "      <th>대수</th>\n",
       "      <th>mean</th>\n",
       "      <th>min</th>\n",
       "      <th>max</th>\n",
       "      <th>엔진형식/sum</th>\n",
       "      <th>검사판정비율</th>\n",
       "    </tr>\n",
       "  </thead>\n",
       "  <tbody>\n",
       "    <tr>\n",
       "      <th>0</th>\n",
       "      <td>아우디폭스바겐코리아(주)</td>\n",
       "      <td>4MY-AD-20</td>\n",
       "      <td>2420000100031300</td>\n",
       "      <td>4F</td>\n",
       "      <td>BMK</td>\n",
       "      <td>N</td>\n",
       "      <td>2</td>\n",
       "      <td>36.00</td>\n",
       "      <td>21.00</td>\n",
       "      <td>51.00</td>\n",
       "      <td>29</td>\n",
       "      <td>0.07</td>\n",
       "    </tr>\n",
       "    <tr>\n",
       "      <th>1</th>\n",
       "      <td>아우디폭스바겐코리아(주)</td>\n",
       "      <td>4MY-AD-20</td>\n",
       "      <td>2420000100031300</td>\n",
       "      <td>4F</td>\n",
       "      <td>BMK</td>\n",
       "      <td>Y</td>\n",
       "      <td>24</td>\n",
       "      <td>13.42</td>\n",
       "      <td>0.00</td>\n",
       "      <td>31.00</td>\n",
       "      <td>29</td>\n",
       "      <td>0.83</td>\n",
       "    </tr>\n",
       "    <tr>\n",
       "      <th>2</th>\n",
       "      <td>아우디폭스바겐코리아(주)</td>\n",
       "      <td>4MY-AD-20</td>\n",
       "      <td>2420000100031300</td>\n",
       "      <td>4F</td>\n",
       "      <td>BMK</td>\n",
       "      <td>nan</td>\n",
       "      <td>3</td>\n",
       "      <td>NaN</td>\n",
       "      <td>NaN</td>\n",
       "      <td>NaN</td>\n",
       "      <td>29</td>\n",
       "      <td>0.10</td>\n",
       "    </tr>\n",
       "    <tr>\n",
       "      <th>3</th>\n",
       "      <td>자기인증면제차량</td>\n",
       "      <td>4MY-AD-20</td>\n",
       "      <td>31124022261309</td>\n",
       "      <td>4F</td>\n",
       "      <td>BMK</td>\n",
       "      <td>Y</td>\n",
       "      <td>1</td>\n",
       "      <td>2.00</td>\n",
       "      <td>2.00</td>\n",
       "      <td>2.00</td>\n",
       "      <td>1</td>\n",
       "      <td>1.00</td>\n",
       "    </tr>\n",
       "    <tr>\n",
       "      <th>4</th>\n",
       "      <td>(주)볼보자동차코리아</td>\n",
       "      <td>4MY-PA-06</td>\n",
       "      <td>920000300131205</td>\n",
       "      <td>2.0LN5DR</td>\n",
       "      <td>204D</td>\n",
       "      <td>Y</td>\n",
       "      <td>7</td>\n",
       "      <td>16.86</td>\n",
       "      <td>0.00</td>\n",
       "      <td>40.00</td>\n",
       "      <td>8</td>\n",
       "      <td>0.88</td>\n",
       "    </tr>\n",
       "  </tbody>\n",
       "</table>\n",
       "</div>"
      ],
      "text/plain": [
       "            제작사명   배출가스인증번호             제원관리번호     자동차형식  엔진형식 검사판정  대수  mean  \\\n",
       "0  아우디폭스바겐코리아(주)  4MY-AD-20  2420000100031300         4F   BMK    N   2 36.00   \n",
       "1  아우디폭스바겐코리아(주)  4MY-AD-20  2420000100031300         4F   BMK    Y  24 13.42   \n",
       "2  아우디폭스바겐코리아(주)  4MY-AD-20  2420000100031300         4F   BMK  nan   3   NaN   \n",
       "3       자기인증면제차량  4MY-AD-20    31124022261309         4F   BMK    Y   1  2.00   \n",
       "4    (주)볼보자동차코리아  4MY-PA-06   920000300131205   2.0LN5DR  204D    Y   7 16.86   \n",
       "\n",
       "    min   max  엔진형식/sum  검사판정비율  \n",
       "0 21.00 51.00        29    0.07  \n",
       "1  0.00 31.00        29    0.83  \n",
       "2   NaN   NaN        29    0.10  \n",
       "3  2.00  2.00         1    1.00  \n",
       "4  0.00 40.00         8    0.88  "
      ]
     },
     "execution_count": 82,
     "metadata": {},
     "output_type": "execute_result"
    }
   ],
   "source": [
    "total_g_df.head()"
   ]
  },
  {
   "cell_type": "code",
   "execution_count": 83,
   "metadata": {},
   "outputs": [
    {
     "data": {
      "text/plain": [
       "(10845, 12)"
      ]
     },
     "execution_count": 83,
     "metadata": {},
     "output_type": "execute_result"
    }
   ],
   "source": [
    "total_g_df.shape"
   ]
  },
  {
   "cell_type": "code",
   "execution_count": 84,
   "metadata": {},
   "outputs": [
    {
     "data": {
      "text/plain": [
       "(8821, 12)"
      ]
     },
     "execution_count": 84,
     "metadata": {},
     "output_type": "execute_result"
    }
   ],
   "source": [
    "total_g_df1 = total_g_df.loc[total_g_df['배출가스인증번호'] != '확인불가']\n",
    "total_g_df1.shape"
   ]
  },
  {
   "cell_type": "code",
   "execution_count": 85,
   "metadata": {},
   "outputs": [
    {
     "data": {
      "text/plain": [
       "'2023.03.23_AM.09.26.47'"
      ]
     },
     "execution_count": 85,
     "metadata": {},
     "output_type": "execute_result"
    }
   ],
   "source": [
    "today_date = datetime.today().strftime(\"%Y.%m.%d_%p.%I.%M.%S\")\n",
    "today_date"
   ]
  },
  {
   "cell_type": "code",
   "execution_count": 86,
   "metadata": {},
   "outputs": [
    {
     "data": {
      "text/plain": [
       "'D:/data/big2/BD1/sample'"
      ]
     },
     "execution_count": 86,
     "metadata": {},
     "output_type": "execute_result"
    }
   ],
   "source": [
    "sample_fold"
   ]
  },
  {
   "attachments": {},
   "cell_type": "markdown",
   "metadata": {},
   "source": [
    "## [출력] 통계 배인번호별 매연값"
   ]
  },
  {
   "cell_type": "code",
   "execution_count": 87,
   "metadata": {},
   "outputs": [
    {
     "data": {
      "text/plain": [
       "'D:/data/big2/BD1/an'"
      ]
     },
     "execution_count": 87,
     "metadata": {},
     "output_type": "execute_result"
    }
   ],
   "source": [
    "analysis_fold"
   ]
  },
  {
   "cell_type": "code",
   "execution_count": 88,
   "metadata": {},
   "outputs": [],
   "source": [
    "# about 2s\n",
    "total_g_df1.to_excel(os.path.join(analysis_fold, f'통계_제번별_차형식별_엔진형식별_검사판정별_무부하매연측정치1_{today_date}.xlsx'), index=False)"
   ]
  },
  {
   "cell_type": "code",
   "execution_count": 89,
   "metadata": {},
   "outputs": [
    {
     "data": {
      "text/plain": [
       "(1148246, 61)"
      ]
     },
     "execution_count": 89,
     "metadata": {},
     "output_type": "execute_result"
    }
   ],
   "source": [
    "df3y.shape"
   ]
  },
  {
   "cell_type": "code",
   "execution_count": 90,
   "metadata": {},
   "outputs": [
    {
     "data": {
      "text/plain": [
       "1141598"
      ]
     },
     "execution_count": 90,
     "metadata": {},
     "output_type": "execute_result"
    }
   ],
   "source": [
    "total_g_df1['대수'].sum()"
   ]
  },
  {
   "cell_type": "code",
   "execution_count": 91,
   "metadata": {},
   "outputs": [
    {
     "data": {
      "text/plain": [
       "(6648, 61)"
      ]
     },
     "execution_count": 91,
     "metadata": {},
     "output_type": "execute_result"
    }
   ],
   "source": [
    "df3y[df3y['배인번호_수정'] == '확인불가'].shape"
   ]
  },
  {
   "cell_type": "code",
   "execution_count": 92,
   "metadata": {},
   "outputs": [
    {
     "data": {
      "text/plain": [
       "(0, 61)"
      ]
     },
     "execution_count": 92,
     "metadata": {},
     "output_type": "execute_result"
    }
   ],
   "source": [
    "df2n[df2n['배인번호_수정'] == '확인불가'].shape"
   ]
  },
  {
   "cell_type": "code",
   "execution_count": 93,
   "metadata": {},
   "outputs": [
    {
     "data": {
      "text/plain": [
       "(8, 61)"
      ]
     },
     "execution_count": 93,
     "metadata": {},
     "output_type": "execute_result"
    }
   ],
   "source": [
    "df3n[df3n['배인번호_수정'] == '확인불가'].shape"
   ]
  },
  {
   "cell_type": "code",
   "execution_count": 94,
   "metadata": {},
   "outputs": [
    {
     "data": {
      "text/plain": [
       "(6656, 59)"
      ]
     },
     "execution_count": 94,
     "metadata": {},
     "output_type": "execute_result"
    }
   ],
   "source": [
    "df[df['배인번호_수정'] == '확인불가'].shape"
   ]
  },
  {
   "attachments": {},
   "cell_type": "markdown",
   "metadata": {},
   "source": [
    "## result 파일 통계"
   ]
  },
  {
   "cell_type": "code",
   "execution_count": 95,
   "metadata": {},
   "outputs": [
    {
     "data": {
      "text/plain": [
       "(462, 31)"
      ]
     },
     "execution_count": 95,
     "metadata": {},
     "output_type": "execute_result"
    }
   ],
   "source": [
    "result2.loc[result2['배인번호_수정'] == '8MY-PA-14-03'].shape"
   ]
  },
  {
   "cell_type": "code",
   "execution_count": 96,
   "metadata": {},
   "outputs": [
    {
     "data": {
      "text/plain": [
       "등급_수정  배인번호_수정     \n",
       "3      5MY-AD-13-07    118\n",
       "       5MY-AD-13-13     51\n",
       "       6MY-AD-13-11    493\n",
       "       7MY-AD-13-01    565\n",
       "       7MY-AD-13-05     26\n",
       "                      ... \n",
       "5      5MY-KM-24-32      6\n",
       "       5MY-SY-24-48      2\n",
       "       6MY-DC-23-17      7\n",
       "       6MY-HD-23-55      3\n",
       "       확인불가              2\n",
       "Name: 차대번호, Length: 172, dtype: int64"
      ]
     },
     "execution_count": 96,
     "metadata": {},
     "output_type": "execute_result"
    }
   ],
   "source": [
    "result2.groupby(['등급_수정', '배인번호_수정'])['차대번호'].count()"
   ]
  },
  {
   "cell_type": "code",
   "execution_count": 97,
   "metadata": {},
   "outputs": [
    {
     "data": {
      "text/plain": [
       "'2023.03.23_AM.09.26.50'"
      ]
     },
     "execution_count": 97,
     "metadata": {},
     "output_type": "execute_result"
    }
   ],
   "source": [
    "today_date = datetime.today().strftime(\"%Y.%m.%d_%p.%I.%M.%S\")\n",
    "today_date"
   ]
  },
  {
   "attachments": {},
   "cell_type": "markdown",
   "metadata": {},
   "source": [
    "### [출력]"
   ]
  },
  {
   "cell_type": "code",
   "execution_count": 98,
   "metadata": {},
   "outputs": [],
   "source": [
    "result2.groupby(['등급_수정', '배인번호_수정'])['차대번호'].count().to_excel(os.path.join(analysis_fold, f'통계_배인번호_수정_등급_수정_{today_date}.xlsx'))"
   ]
  },
  {
   "attachments": {},
   "cell_type": "markdown",
   "metadata": {},
   "source": [
    "# code end"
   ]
  }
 ],
 "metadata": {
  "kernelspec": {
   "display_name": "base",
   "language": "python",
   "name": "python3"
  },
  "language_info": {
   "codemirror_mode": {
    "name": "ipython",
    "version": 3
   },
   "file_extension": ".py",
   "mimetype": "text/x-python",
   "name": "python",
   "nbconvert_exporter": "python",
   "pygments_lexer": "ipython3",
   "version": "3.9.13"
  },
  "orig_nbformat": 4,
  "vscode": {
   "interpreter": {
    "hash": "ad2bdc8ecc057115af97d19610ffacc2b4e99fae6737bb82f5d7fb13d2f2c186"
   }
  }
 },
 "nbformat": 4,
 "nbformat_minor": 2
}
