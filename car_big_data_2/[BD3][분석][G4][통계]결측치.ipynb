{
 "cells": [
  {
   "attachments": {},
   "cell_type": "markdown",
   "metadata": {},
   "source": [
    "# Library"
   ]
  },
  {
   "cell_type": "code",
   "execution_count": 1,
   "metadata": {},
   "outputs": [],
   "source": [
    "import pandas as pd\n",
    "import numpy as np\n",
    "import os"
   ]
  },
  {
   "attachments": {},
   "cell_type": "markdown",
   "metadata": {},
   "source": [
    "# 로드"
   ]
  },
  {
   "cell_type": "code",
   "execution_count": 2,
   "metadata": {},
   "outputs": [],
   "source": [
    "grade = 4\n",
    "ods_folder = 'D:\\과업\\[한국환경공단]자동차_환경_빅데이터_구축_2차\\data\\ODS'\n",
    "file_name = f'[ODS][G{grade}]등록정보&제원정보(말소적용)(한글컬럼)(2022.12.29).csv'\n",
    "ods_path = os.path.join(ods_folder, file_name)"
   ]
  },
  {
   "cell_type": "code",
   "execution_count": 3,
   "metadata": {},
   "outputs": [
    {
     "name": "stdout",
     "output_type": "stream",
     "text": [
      "<class 'pandas.core.frame.DataFrame'>\n",
      "RangeIndex: 1511251 entries, 0 to 1511250\n",
      "Data columns (total 59 columns):\n",
      " #   Column        Non-Null Count    Dtype  \n",
      "---  ------        --------------    -----  \n",
      " 0   차량관리번호        1511251 non-null  object \n",
      " 1   차량등록번호        1511251 non-null  object \n",
      " 2   본거지법정동코드      1511251 non-null  int64  \n",
      " 3   소유자구분         1511251 non-null  object \n",
      " 4   차종_등록정보       1511249 non-null  object \n",
      " 5   용도            1511251 non-null  object \n",
      " 6   미정1_x         1511251 non-null  object \n",
      " 7   현재회원번호        1510412 non-null  object \n",
      " 8   미정2_x         1511251 non-null  object \n",
      " 9   미정3_x         1511251 non-null  object \n",
      " 10  차대번호          1511251 non-null  object \n",
      " 11  최초등록일자        1511251 non-null  int64  \n",
      " 12  차량연식          1511251 non-null  int64  \n",
      " 13  차량제작일자        1342461 non-null  float64\n",
      " 14  배출가스검사유효일자    1511239 non-null  float64\n",
      " 15  제원관리번호        1511251 non-null  object \n",
      " 16  배출가스인증번호      1387542 non-null  object \n",
      " 17  배출가스등급        1511251 non-null  object \n",
      " 18  저공해조치YN(미사용)  1511096 non-null  object \n",
      " 19  저공해조치종류       189 non-null      float64\n",
      " 20  저공해조치구조변경YN   1511251 non-null  object \n",
      " 21  미정4           0 non-null        float64\n",
      " 22  차량등록번호숫자정보    1511251 non-null  int64  \n",
      " 23  차량말소YN        1511251 non-null  object \n",
      " 24  미정5           1511230 non-null  object \n",
      " 25  최초회원번호        1506595 non-null  object \n",
      " 26  취득일자          1418010 non-null  object \n",
      " 27  취득금액          1436843 non-null  float64\n",
      " 28  미정6           403099 non-null   object \n",
      " 29  생성일시_등록정보     1511251 non-null  object \n",
      " 30  수정일시_등록정보     915041 non-null   object \n",
      " 31  미정7           1511251 non-null  object \n",
      " 32  차명            1511251 non-null  object \n",
      " 33  차종_제원정보       1511251 non-null  object \n",
      " 34  차종분류          1511251 non-null  object \n",
      " 35  차종유형(소분류)     1511251 non-null  object \n",
      " 36  자동차형식         1510723 non-null  object \n",
      " 37  제작사명          1501221 non-null  object \n",
      " 38  연료            1511180 non-null  object \n",
      " 39  엔진형식          1509249 non-null  object \n",
      " 40  공차중량          0 non-null        float64\n",
      " 41  총중량           1511226 non-null  float64\n",
      " 42  적재중량          1510714 non-null  float64\n",
      " 43  엔진출력          1510623 non-null  float64\n",
      " 44  배기량           1511240 non-null  float64\n",
      " 45  승차인원          1511251 non-null  float64\n",
      " 46  차량길이          1511176 non-null  float64\n",
      " 47  차량너비          1511176 non-null  float64\n",
      " 48  차량높이          1511174 non-null  float64\n",
      " 49  원산지명          1492122 non-null  object \n",
      " 50  미정1_y         0 non-null        float64\n",
      " 51  삭제YN          1511251 non-null  object \n",
      " 52  승인일자          1510704 non-null  object \n",
      " 53  구동형식          47 non-null       float64\n",
      " 54  변속기종류         1511091 non-null  object \n",
      " 55  미정2_y         0 non-null        float64\n",
      " 56  생성일시_제원정보     1511251 non-null  object \n",
      " 57  수정일시_제원정보     497 non-null      object \n",
      " 58  미정3_y         1511251 non-null  object \n",
      "dtypes: float64(17), int64(4), object(38)\n",
      "memory usage: 680.3+ MB\n"
     ]
    }
   ],
   "source": [
    "# about 50s\n",
    "df = pd.read_csv(ods_path, encoding='cp949', low_memory=False)\n",
    "df.info()"
   ]
  },
  {
   "cell_type": "code",
   "execution_count": 4,
   "metadata": {},
   "outputs": [
    {
     "name": "stdout",
     "output_type": "stream",
     "text": [
      "<class 'pandas.core.frame.DataFrame'>\n",
      "Index: 810777 entries, nan to 복합소형\n",
      "Data columns (total 10 columns):\n",
      " #   Column      Non-Null Count   Dtype  \n",
      "---  ------      --------------   -----  \n",
      " 0   TDMS부착여부    204951 non-null  object \n",
      " 1   구조변경일자      810777 non-null  int64  \n",
      " 2   부착업체명       801632 non-null  object \n",
      " 3   부착일자        810775 non-null  float64\n",
      " 4   탈거승인일       178 non-null     float64\n",
      " 5   차량번호        810777 non-null  object \n",
      " 6   차대번호        810777 non-null  object \n",
      " 7   저감장치반납여부    326030 non-null  object \n",
      " 8   저감장치구분      810777 non-null  object \n",
      " 9   삼원촉매장치반납여부  13694 non-null   object \n",
      "dtypes: float64(2), int64(1), object(7)\n",
      "memory usage: 68.0+ MB\n"
     ]
    }
   ],
   "source": [
    "file_name = f'[ODS]저감장치부착이력(한글컬럼)(2022.12.29).csv'\n",
    "ods_path = os.path.join(ods_folder, file_name)\n",
    "dpf = pd.read_csv(ods_path, index_col=0, low_memory=False)\n",
    "dpf.info()"
   ]
  },
  {
   "attachments": {},
   "cell_type": "markdown",
   "metadata": {},
   "source": [
    "# 전처리\n",
    "- 연료(제원정보) : 전기차 제외"
   ]
  },
  {
   "cell_type": "code",
   "execution_count": 5,
   "metadata": {},
   "outputs": [
    {
     "data": {
      "text/plain": [
       "Index(['차량관리번호', '차량등록번호', '본거지법정동코드', '소유자구분', '차종_등록정보', '용도', '미정1_x',\n",
       "       '현재회원번호', '미정2_x', '미정3_x', '차대번호', '최초등록일자', '차량연식', '차량제작일자',\n",
       "       '배출가스검사유효일자', '제원관리번호', '배출가스인증번호', '배출가스등급', '저공해조치YN(미사용)', '저공해조치종류',\n",
       "       '저공해조치구조변경YN', '미정4', '차량등록번호숫자정보', '차량말소YN', '미정5', '최초회원번호', '취득일자',\n",
       "       '취득금액', '미정6', '생성일시_등록정보', '수정일시_등록정보', '미정7', '차명', '차종_제원정보', '차종분류',\n",
       "       '차종유형(소분류)', '자동차형식', '제작사명', '연료', '엔진형식', '공차중량', '총중량', '적재중량',\n",
       "       '엔진출력', '배기량', '승차인원', '차량길이', '차량너비', '차량높이', '원산지명', '미정1_y', '삭제YN',\n",
       "       '승인일자', '구동형식', '변속기종류', '미정2_y', '생성일시_제원정보', '수정일시_제원정보', '미정3_y'],\n",
       "      dtype='object')"
      ]
     },
     "execution_count": 5,
     "metadata": {},
     "output_type": "execute_result"
    }
   ],
   "source": [
    "df.columns"
   ]
  },
  {
   "cell_type": "code",
   "execution_count": 6,
   "metadata": {},
   "outputs": [
    {
     "data": {
      "text/plain": [
       "array(['휘발유', 'LGP(액화석유가스)', '경유', '기타연료', nan, '알코올', 'CNG(압축천연가스)'],\n",
       "      dtype=object)"
      ]
     },
     "execution_count": 6,
     "metadata": {},
     "output_type": "execute_result"
    }
   ],
   "source": [
    "df['연료'].unique()"
   ]
  },
  {
   "attachments": {},
   "cell_type": "markdown",
   "metadata": {},
   "source": [
    "## 필요한 컬럼만 추출"
   ]
  },
  {
   "cell_type": "code",
   "execution_count": 7,
   "metadata": {},
   "outputs": [],
   "source": [
    "df1 = df[['차량관리번호', '차량등록번호', '본거지법정동코드', '소유자구분', '차종_등록정보', '용도', '현재회원번호', '차대번호', '최초등록일자', '차량연식', '차량제작일자', '배출가스검사유효일자',\n",
    "          '제원관리번호', '배출가스인증번호', '배출가스등급', '저공해조치YN(미사용)', '저공해조치종류', '저공해조치구조변경YN', '차량등록번호숫자정보', '차량말소YN', '최초회원번호', '취득일자', '취득금액', \n",
    "          '생성일시_등록정보', '수정일시_등록정보', '차명', '차종_제원정보', '차종분류', '차종유형(소분류)', '자동차형식', '제작사명', '연료', '엔진형식', '공차중량', '총중량', '적재중량', '엔진출력', '배기량', \n",
    "          '승차인원', '차량길이', '차량너비', '차량높이', '원산지명', '삭제YN', '승인일자', '구동형식', '변속기종류', '생성일시_제원정보', '수정일시_제원정보', ]]"
   ]
  },
  {
   "attachments": {},
   "cell_type": "markdown",
   "metadata": {},
   "source": [
    "## 연료가 전기가 아닌 샘플만 추출"
   ]
  },
  {
   "cell_type": "code",
   "execution_count": 8,
   "metadata": {},
   "outputs": [
    {
     "data": {
      "text/plain": [
       "array(['휘발유', 'LGP(액화석유가스)', '경유', '기타연료', nan, '알코올', 'CNG(압축천연가스)'],\n",
       "      dtype=object)"
      ]
     },
     "execution_count": 8,
     "metadata": {},
     "output_type": "execute_result"
    }
   ],
   "source": [
    "df1['연료'].unique()"
   ]
  },
  {
   "cell_type": "code",
   "execution_count": 9,
   "metadata": {},
   "outputs": [
    {
     "data": {
      "text/plain": [
       "경유             1152698\n",
       "휘발유             332351\n",
       "LGP(액화석유가스)      26090\n",
       "기타연료                39\n",
       "알코올                  1\n",
       "CNG(압축천연가스)          1\n",
       "Name: 연료, dtype: int64"
      ]
     },
     "execution_count": 9,
     "metadata": {},
     "output_type": "execute_result"
    }
   ],
   "source": [
    "df1['연료'].value_counts()"
   ]
  },
  {
   "cell_type": "code",
   "execution_count": 10,
   "metadata": {},
   "outputs": [
    {
     "data": {
      "text/plain": [
       "(1511251, 49)"
      ]
     },
     "execution_count": 10,
     "metadata": {},
     "output_type": "execute_result"
    }
   ],
   "source": [
    "df1.shape"
   ]
  },
  {
   "cell_type": "code",
   "execution_count": 11,
   "metadata": {},
   "outputs": [
    {
     "data": {
      "text/plain": [
       "(1511251, 49)"
      ]
     },
     "execution_count": 11,
     "metadata": {},
     "output_type": "execute_result"
    }
   ],
   "source": [
    "df2 = df1[df1['연료'] != '전기'].reset_index(drop=True)\n",
    "df2.shape"
   ]
  },
  {
   "cell_type": "code",
   "execution_count": 12,
   "metadata": {},
   "outputs": [
    {
     "data": {
      "text/plain": [
       "1511211"
      ]
     },
     "execution_count": 12,
     "metadata": {},
     "output_type": "execute_result"
    }
   ],
   "source": [
    "len(df2['차대번호'].unique())"
   ]
  },
  {
   "attachments": {},
   "cell_type": "markdown",
   "metadata": {},
   "source": [
    "## 중복 차대번호 처리\n",
    "- '최초등록일자', '배출가스검사유효일자', ascending=False"
   ]
  },
  {
   "cell_type": "code",
   "execution_count": 13,
   "metadata": {},
   "outputs": [
    {
     "data": {
      "text/plain": [
       "(1511211, 49)"
      ]
     },
     "execution_count": 13,
     "metadata": {},
     "output_type": "execute_result"
    }
   ],
   "source": [
    "df2 = df2.sort_values(['최초등록일자', '배출가스검사유효일자'], ascending=False).drop_duplicates('차대번호').reset_index(drop=True)\n",
    "df2.shape"
   ]
  },
  {
   "attachments": {},
   "cell_type": "markdown",
   "metadata": {},
   "source": [
    "### [출력]"
   ]
  },
  {
   "cell_type": "code",
   "execution_count": 14,
   "metadata": {},
   "outputs": [],
   "source": [
    "# about 35s\n",
    "df2.to_csv(os.path.join(ods_folder, f'[ODS][G{grade}]등록정보&제원정보(말소적용)(중복차대제거)(한글컬럼)(2022.12.29).csv'), index=False)"
   ]
  },
  {
   "attachments": {},
   "cell_type": "markdown",
   "metadata": {},
   "source": [
    "## 저감장치부착여부 추가"
   ]
  },
  {
   "cell_type": "code",
   "execution_count": 15,
   "metadata": {},
   "outputs": [
    {
     "data": {
      "text/plain": [
       "(1511211, 58)"
      ]
     },
     "execution_count": 15,
     "metadata": {},
     "output_type": "execute_result"
    }
   ],
   "source": [
    "df3 = df2.merge(dpf, on='차대번호', how='left')\n",
    "df3.shape"
   ]
  },
  {
   "cell_type": "code",
   "execution_count": 16,
   "metadata": {},
   "outputs": [
    {
     "data": {
      "text/html": [
       "<div>\n",
       "<style scoped>\n",
       "    .dataframe tbody tr th:only-of-type {\n",
       "        vertical-align: middle;\n",
       "    }\n",
       "\n",
       "    .dataframe tbody tr th {\n",
       "        vertical-align: top;\n",
       "    }\n",
       "\n",
       "    .dataframe thead th {\n",
       "        text-align: right;\n",
       "    }\n",
       "</style>\n",
       "<table border=\"1\" class=\"dataframe\">\n",
       "  <thead>\n",
       "    <tr style=\"text-align: right;\">\n",
       "      <th></th>\n",
       "      <th>차량관리번호</th>\n",
       "      <th>차량등록번호</th>\n",
       "      <th>본거지법정동코드</th>\n",
       "      <th>소유자구분</th>\n",
       "      <th>차종_등록정보</th>\n",
       "      <th>용도</th>\n",
       "      <th>현재회원번호</th>\n",
       "      <th>차대번호</th>\n",
       "      <th>최초등록일자</th>\n",
       "      <th>차량연식</th>\n",
       "      <th>...</th>\n",
       "      <th>수정일시_제원정보</th>\n",
       "      <th>TDMS부착여부</th>\n",
       "      <th>구조변경일자</th>\n",
       "      <th>부착업체명</th>\n",
       "      <th>부착일자</th>\n",
       "      <th>탈거승인일</th>\n",
       "      <th>차량번호</th>\n",
       "      <th>저감장치반납여부</th>\n",
       "      <th>저감장치구분</th>\n",
       "      <th>삼원촉매장치반납여부</th>\n",
       "    </tr>\n",
       "  </thead>\n",
       "  <tbody>\n",
       "    <tr>\n",
       "      <th>0</th>\n",
       "      <td>KMFLA18KP8C028585-01</td>\n",
       "      <td>83노5980</td>\n",
       "      <td>2653010500</td>\n",
       "      <td>법인</td>\n",
       "      <td>화물</td>\n",
       "      <td>자가용</td>\n",
       "      <td>80472CF15E0159C5493476BA4172DD7E</td>\n",
       "      <td>KMFLA18KP8C028585</td>\n",
       "      <td>20221125</td>\n",
       "      <td>2008</td>\n",
       "      <td>...</td>\n",
       "      <td>NaN</td>\n",
       "      <td>NaN</td>\n",
       "      <td>NaN</td>\n",
       "      <td>NaN</td>\n",
       "      <td>NaN</td>\n",
       "      <td>NaN</td>\n",
       "      <td>NaN</td>\n",
       "      <td>NaN</td>\n",
       "      <td>NaN</td>\n",
       "      <td>NaN</td>\n",
       "    </tr>\n",
       "    <tr>\n",
       "      <th>1</th>\n",
       "      <td>KMCLK19KP8C035195-01</td>\n",
       "      <td>96부7399</td>\n",
       "      <td>4824034000</td>\n",
       "      <td>주민</td>\n",
       "      <td>화물</td>\n",
       "      <td>자가용</td>\n",
       "      <td>6EEDD0AFF030191A6A38C95CF5478B22</td>\n",
       "      <td>KMCLK18KP8C035195</td>\n",
       "      <td>20220614</td>\n",
       "      <td>2008</td>\n",
       "      <td>...</td>\n",
       "      <td>NaN</td>\n",
       "      <td>NaN</td>\n",
       "      <td>NaN</td>\n",
       "      <td>NaN</td>\n",
       "      <td>NaN</td>\n",
       "      <td>NaN</td>\n",
       "      <td>NaN</td>\n",
       "      <td>NaN</td>\n",
       "      <td>NaN</td>\n",
       "      <td>NaN</td>\n",
       "    </tr>\n",
       "    <tr>\n",
       "      <th>2</th>\n",
       "      <td>KMFLA18KP8C031274-01</td>\n",
       "      <td>92도0997</td>\n",
       "      <td>4482533000</td>\n",
       "      <td>법인</td>\n",
       "      <td>화물</td>\n",
       "      <td>자가용</td>\n",
       "      <td>5756904E2320577169669FC7F741A176</td>\n",
       "      <td>KMFLA18KP8C031274</td>\n",
       "      <td>20220419</td>\n",
       "      <td>2008</td>\n",
       "      <td>...</td>\n",
       "      <td>NaN</td>\n",
       "      <td>NaN</td>\n",
       "      <td>NaN</td>\n",
       "      <td>NaN</td>\n",
       "      <td>NaN</td>\n",
       "      <td>NaN</td>\n",
       "      <td>NaN</td>\n",
       "      <td>NaN</td>\n",
       "      <td>NaN</td>\n",
       "      <td>NaN</td>\n",
       "    </tr>\n",
       "    <tr>\n",
       "      <th>3</th>\n",
       "      <td>KMCGK17HP9C112030-01</td>\n",
       "      <td>93루6527</td>\n",
       "      <td>4518010400</td>\n",
       "      <td>주민</td>\n",
       "      <td>화물</td>\n",
       "      <td>자가용</td>\n",
       "      <td>9DEC677D911796A46CA4D877D7E1C0AC</td>\n",
       "      <td>KMCGK17HP9C112030</td>\n",
       "      <td>20220407</td>\n",
       "      <td>2009</td>\n",
       "      <td>...</td>\n",
       "      <td>NaN</td>\n",
       "      <td>NaN</td>\n",
       "      <td>NaN</td>\n",
       "      <td>NaN</td>\n",
       "      <td>NaN</td>\n",
       "      <td>NaN</td>\n",
       "      <td>NaN</td>\n",
       "      <td>NaN</td>\n",
       "      <td>NaN</td>\n",
       "      <td>NaN</td>\n",
       "    </tr>\n",
       "    <tr>\n",
       "      <th>4</th>\n",
       "      <td>KLACA26RD8B226753-01</td>\n",
       "      <td>153구6446</td>\n",
       "      <td>2826011300</td>\n",
       "      <td>주민</td>\n",
       "      <td>승용</td>\n",
       "      <td>자가용</td>\n",
       "      <td>606A026FEE47E0CDE19B9E9F25E3CDF9</td>\n",
       "      <td>KLACA26RD8B226753</td>\n",
       "      <td>20210909</td>\n",
       "      <td>2008</td>\n",
       "      <td>...</td>\n",
       "      <td>NaN</td>\n",
       "      <td>NaN</td>\n",
       "      <td>NaN</td>\n",
       "      <td>NaN</td>\n",
       "      <td>NaN</td>\n",
       "      <td>NaN</td>\n",
       "      <td>NaN</td>\n",
       "      <td>NaN</td>\n",
       "      <td>NaN</td>\n",
       "      <td>NaN</td>\n",
       "    </tr>\n",
       "  </tbody>\n",
       "</table>\n",
       "<p>5 rows × 58 columns</p>\n",
       "</div>"
      ],
      "text/plain": [
       "                 차량관리번호    차량등록번호    본거지법정동코드 소유자구분 차종_등록정보   용도  \\\n",
       "0  KMFLA18KP8C028585-01   83노5980  2653010500    법인      화물  자가용   \n",
       "1  KMCLK19KP8C035195-01   96부7399  4824034000    주민      화물  자가용   \n",
       "2  KMFLA18KP8C031274-01   92도0997  4482533000    법인      화물  자가용   \n",
       "3  KMCGK17HP9C112030-01   93루6527  4518010400    주민      화물  자가용   \n",
       "4  KLACA26RD8B226753-01  153구6446  2826011300    주민      승용  자가용   \n",
       "\n",
       "                             현재회원번호               차대번호    최초등록일자  차량연식  ...  \\\n",
       "0  80472CF15E0159C5493476BA4172DD7E  KMFLA18KP8C028585  20221125  2008  ...   \n",
       "1  6EEDD0AFF030191A6A38C95CF5478B22  KMCLK18KP8C035195  20220614  2008  ...   \n",
       "2  5756904E2320577169669FC7F741A176  KMFLA18KP8C031274  20220419  2008  ...   \n",
       "3  9DEC677D911796A46CA4D877D7E1C0AC  KMCGK17HP9C112030  20220407  2009  ...   \n",
       "4  606A026FEE47E0CDE19B9E9F25E3CDF9  KLACA26RD8B226753  20210909  2008  ...   \n",
       "\n",
       "   수정일시_제원정보  TDMS부착여부 구조변경일자 부착업체명 부착일자 탈거승인일  차량번호 저감장치반납여부  저감장치구분  \\\n",
       "0        NaN       NaN    NaN   NaN  NaN   NaN   NaN      NaN     NaN   \n",
       "1        NaN       NaN    NaN   NaN  NaN   NaN   NaN      NaN     NaN   \n",
       "2        NaN       NaN    NaN   NaN  NaN   NaN   NaN      NaN     NaN   \n",
       "3        NaN       NaN    NaN   NaN  NaN   NaN   NaN      NaN     NaN   \n",
       "4        NaN       NaN    NaN   NaN  NaN   NaN   NaN      NaN     NaN   \n",
       "\n",
       "  삼원촉매장치반납여부  \n",
       "0        NaN  \n",
       "1        NaN  \n",
       "2        NaN  \n",
       "3        NaN  \n",
       "4        NaN  \n",
       "\n",
       "[5 rows x 58 columns]"
      ]
     },
     "execution_count": 16,
     "metadata": {},
     "output_type": "execute_result"
    }
   ],
   "source": [
    "df3.head()"
   ]
  },
  {
   "cell_type": "code",
   "execution_count": 17,
   "metadata": {},
   "outputs": [
    {
     "data": {
      "text/plain": [
       "Series([], Name: 저감장치반납여부, dtype: int64)"
      ]
     },
     "execution_count": 17,
     "metadata": {},
     "output_type": "execute_result"
    }
   ],
   "source": [
    "df3['저감장치반납여부'].value_counts()"
   ]
  },
  {
   "cell_type": "code",
   "execution_count": 18,
   "metadata": {},
   "outputs": [
    {
     "data": {
      "text/plain": [
       "1종        32\n",
       "2종         2\n",
       "1종+SCR     2\n",
       "Name: 저감장치구분, dtype: int64"
      ]
     },
     "execution_count": 18,
     "metadata": {},
     "output_type": "execute_result"
    }
   ],
   "source": [
    "df3['저감장치구분'].value_counts()"
   ]
  },
  {
   "attachments": {},
   "cell_type": "markdown",
   "metadata": {},
   "source": [
    "# 기초 분석"
   ]
  },
  {
   "attachments": {},
   "cell_type": "markdown",
   "metadata": {},
   "source": [
    "## [로드] 영문, 한글 컬럼명 "
   ]
  },
  {
   "cell_type": "code",
   "execution_count": 19,
   "metadata": {},
   "outputs": [],
   "source": [
    "# 등록정보\n",
    "ex1 = pd.read_excel('analysis/ODSvsSTD/[정제]CEG_CAR_MIG.xlsx')\n",
    "# 제원정보\n",
    "ex2 = pd.read_excel('analysis/ODSvsSTD/[정제]CEG_CAR_SRC_MIG.xlsx')"
   ]
  },
  {
   "attachments": {},
   "cell_type": "markdown",
   "metadata": {},
   "source": [
    "### 컬럼명 dictionary로 정리"
   ]
  },
  {
   "cell_type": "code",
   "execution_count": 20,
   "metadata": {},
   "outputs": [],
   "source": [
    "ex1['내용'] = ['수정일시_등록정보', '소유자구분', '차량등록번호', '본거지법정동코드', '생성일시_등록정보', '용도', '배출가스검사유효일자', '배출가스인증번호', '현재회원번호', '취득일자', '취득금액', \n",
    "               '최초회원번호', '최초등록일자', '차종_등록정보', '차량등록번호숫자정보', '차량관리번호', '차량제작일자', '차량연식', '차량말소YN', '차대번호', '제원관리번호', '배출가스등급', '저공해조치종류',\n",
    "               '저공해조치구조변경YN', '저공해조치YN(미사용)', '미정', '미정', '미정', '미정', '미정', '미정', '미정', ]\n",
    "ex2['내용'] = ['수정일시_제원정보', '승인일자', '삭제YN', '생성일시_제원정보', '총중량', '차종유형(소분류)', '차종분류', '차종_제원정보', '차명', '차량높이', '차량너비', '차량길이', '구동형식', '제작사명', \n",
    "               '제원관리번호', '적재중량', '자동차형식', '공차중량', '원산지명', '연료', '엔진형식', '엔진출력', '승차인원', '배기량', '변속기종류', '미정', '미정', '미정' ]\n",
    "ex = pd.concat([ex1, ex2], ignore_index=True)"
   ]
  },
  {
   "cell_type": "code",
   "execution_count": 21,
   "metadata": {},
   "outputs": [],
   "source": [
    "col_dict = {a:b for b, a in zip(ex['컬럼'], ex['내용'])}"
   ]
  },
  {
   "attachments": {},
   "cell_type": "markdown",
   "metadata": {},
   "source": [
    "## [통계] 결측치"
   ]
  },
  {
   "cell_type": "code",
   "execution_count": 22,
   "metadata": {},
   "outputs": [],
   "source": [
    "an = df2.isnull().sum().reset_index()\n",
    "an.columns = ['한글컬럼', '결측치']\n",
    "an['컬럼'] = [col_dict[x] for x in an['한글컬럼']]\n",
    "an = an[['컬럼', '한글컬럼', '결측치']]"
   ]
  },
  {
   "attachments": {},
   "cell_type": "markdown",
   "metadata": {},
   "source": [
    "### [출력] 등록정보&제원정보(전기차 제외) 결측치 통계"
   ]
  },
  {
   "cell_type": "code",
   "execution_count": 23,
   "metadata": {},
   "outputs": [],
   "source": [
    "an.to_excel(f'analysis2/[BD3][G{grade}][통계]등록정보&제원정보_결측치(전기차제외)(말소적용).xlsx', index=False)"
   ]
  },
  {
   "attachments": {},
   "cell_type": "markdown",
   "metadata": {},
   "source": [
    "# 기초 분석(저감 적용)"
   ]
  },
  {
   "attachments": {},
   "cell_type": "markdown",
   "metadata": {},
   "source": [
    "## [로드] 영문, 한글 컬럼명 "
   ]
  },
  {
   "cell_type": "code",
   "execution_count": null,
   "metadata": {},
   "outputs": [],
   "source": [
    "ods_fold = 'D:\\과업\\[한국환경공단]자동차_환경_빅데이터_구축_2차\\data\\ODS'"
   ]
  },
  {
   "cell_type": "code",
   "execution_count": 24,
   "metadata": {},
   "outputs": [
    {
     "data": {
      "text/html": [
       "<div>\n",
       "<style scoped>\n",
       "    .dataframe tbody tr th:only-of-type {\n",
       "        vertical-align: middle;\n",
       "    }\n",
       "\n",
       "    .dataframe tbody tr th {\n",
       "        vertical-align: top;\n",
       "    }\n",
       "\n",
       "    .dataframe thead th {\n",
       "        text-align: right;\n",
       "    }\n",
       "</style>\n",
       "<table border=\"1\" class=\"dataframe\">\n",
       "  <thead>\n",
       "    <tr style=\"text-align: right;\">\n",
       "      <th></th>\n",
       "      <th>컬럼</th>\n",
       "      <th>내용</th>\n",
       "    </tr>\n",
       "  </thead>\n",
       "  <tbody>\n",
       "    <tr>\n",
       "      <th>0</th>\n",
       "      <td>EMI_RED_TYPE2</td>\n",
       "      <td>저감장치종류</td>\n",
       "    </tr>\n",
       "    <tr>\n",
       "      <th>1</th>\n",
       "      <td>PM_EFF_VAL</td>\n",
       "      <td>PM최종저감효율</td>\n",
       "    </tr>\n",
       "    <tr>\n",
       "      <th>2</th>\n",
       "      <td>TDMS_YN</td>\n",
       "      <td>TDMS부착여부</td>\n",
       "    </tr>\n",
       "    <tr>\n",
       "      <th>3</th>\n",
       "      <td>CONF_CHG_DATE</td>\n",
       "      <td>구조변경일자</td>\n",
       "    </tr>\n",
       "    <tr>\n",
       "      <th>4</th>\n",
       "      <td>ATT_ORG_NM</td>\n",
       "      <td>부착업체명</td>\n",
       "    </tr>\n",
       "    <tr>\n",
       "      <th>...</th>\n",
       "      <td>...</td>\n",
       "      <td>...</td>\n",
       "    </tr>\n",
       "    <tr>\n",
       "      <th>98</th>\n",
       "      <td>MAIN_EXP_REC_YN</td>\n",
       "      <td>미정</td>\n",
       "    </tr>\n",
       "    <tr>\n",
       "      <th>99</th>\n",
       "      <td>ENGINE_POWER</td>\n",
       "      <td>미정</td>\n",
       "    </tr>\n",
       "    <tr>\n",
       "      <th>100</th>\n",
       "      <td>CAR_FUEL_NM</td>\n",
       "      <td>미정</td>\n",
       "    </tr>\n",
       "    <tr>\n",
       "      <th>101</th>\n",
       "      <td>CAR_WEIGHT</td>\n",
       "      <td>미정</td>\n",
       "    </tr>\n",
       "    <tr>\n",
       "      <th>102</th>\n",
       "      <td>CAR_PASSENGER</td>\n",
       "      <td>미정</td>\n",
       "    </tr>\n",
       "  </tbody>\n",
       "</table>\n",
       "<p>103 rows × 2 columns</p>\n",
       "</div>"
      ],
      "text/plain": [
       "                  컬럼        내용\n",
       "0      EMI_RED_TYPE2    저감장치종류\n",
       "1         PM_EFF_VAL  PM최종저감효율\n",
       "2            TDMS_YN  TDMS부착여부\n",
       "3      CONF_CHG_DATE    구조변경일자\n",
       "4         ATT_ORG_NM     부착업체명\n",
       "..               ...       ...\n",
       "98   MAIN_EXP_REC_YN        미정\n",
       "99      ENGINE_POWER        미정\n",
       "100      CAR_FUEL_NM        미정\n",
       "101       CAR_WEIGHT        미정\n",
       "102    CAR_PASSENGER        미정\n",
       "\n",
       "[103 rows x 2 columns]"
      ]
     },
     "execution_count": 24,
     "metadata": {},
     "output_type": "execute_result"
    }
   ],
   "source": [
    "# 저감장치 부착이력(중복 차대번호 처리)\n",
    "ex3 = pd.read_csv(os.path.join(ods_fold, '[ODS]저감장치부착이력(중복차대처리)(한글컬럼)(2022.12.29).csv'), low_memory=False, encoding='cp949')\n",
    "ex3"
   ]
  },
  {
   "attachments": {},
   "cell_type": "markdown",
   "metadata": {},
   "source": [
    "### 컬럼명 dictionary로 정리"
   ]
  },
  {
   "cell_type": "code",
   "execution_count": 25,
   "metadata": {},
   "outputs": [],
   "source": [
    "ex = pd.concat([ex1, ex2, ex3], ignore_index=True)"
   ]
  },
  {
   "cell_type": "code",
   "execution_count": 26,
   "metadata": {},
   "outputs": [],
   "source": [
    "col_dict = {a:b for b, a in zip(ex['컬럼'], ex['내용'])}"
   ]
  },
  {
   "attachments": {},
   "cell_type": "markdown",
   "metadata": {},
   "source": [
    "## [통계] 결측치(저감장치부착여부)"
   ]
  },
  {
   "cell_type": "code",
   "execution_count": 27,
   "metadata": {},
   "outputs": [],
   "source": [
    "an = df3.isnull().sum().reset_index()\n",
    "an.columns = ['한글컬럼', '결측치']\n",
    "an['컬럼'] = [col_dict[x] for x in an['한글컬럼']]\n",
    "an = an[['컬럼', '한글컬럼', '결측치']]"
   ]
  },
  {
   "attachments": {},
   "cell_type": "markdown",
   "metadata": {},
   "source": [
    "### [출력] 등록정보&제원정보(전기차 제외, 저감 추가) 결측치 통계"
   ]
  },
  {
   "cell_type": "code",
   "execution_count": 32,
   "metadata": {},
   "outputs": [],
   "source": [
    "an.to_excel(f'analysis2/[BD3][G{grade}][통계]등록정보&제원정보_결측치(전기차제외)(말소,저감적용)(중복차대제거).xlsx', index=False)"
   ]
  },
  {
   "cell_type": "markdown",
   "metadata": {},
   "source": [
    "# 코드 마지막"
   ]
  }
 ],
 "metadata": {
  "kernelspec": {
   "display_name": "base",
   "language": "python",
   "name": "python3"
  },
  "language_info": {
   "codemirror_mode": {
    "name": "ipython",
    "version": 3
   },
   "file_extension": ".py",
   "mimetype": "text/x-python",
   "name": "python",
   "nbconvert_exporter": "python",
   "pygments_lexer": "ipython3",
   "version": "3.9.13 (main, Aug 25 2022, 23:51:50) [MSC v.1916 64 bit (AMD64)]"
  },
  "orig_nbformat": 4,
  "vscode": {
   "interpreter": {
    "hash": "ad2bdc8ecc057115af97d19610ffacc2b4e99fae6737bb82f5d7fb13d2f2c186"
   }
  }
 },
 "nbformat": 4,
 "nbformat_minor": 2
}
