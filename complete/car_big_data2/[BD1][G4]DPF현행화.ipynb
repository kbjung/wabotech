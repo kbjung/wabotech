{
 "cells": [
  {
   "attachments": {},
   "cell_type": "markdown",
   "metadata": {},
   "source": [
    "# Library"
   ]
  },
  {
   "cell_type": "code",
   "execution_count": 55,
   "metadata": {},
   "outputs": [],
   "source": [
    "import pandas as pd\n",
    "# import modin.pandas as mpd\n",
    "import numpy as np\n",
    "import os\n",
    "from tqdm import tqdm"
   ]
  },
  {
   "cell_type": "code",
   "execution_count": 56,
   "metadata": {},
   "outputs": [],
   "source": [
    "# import ray\n",
    "# ray.init(runtime_env={'env_vars': {'__MODIN_AUTOIMPORT_PANDAS__': '1'}})"
   ]
  },
  {
   "cell_type": "code",
   "execution_count": 4,
   "metadata": {},
   "outputs": [],
   "source": [
    "fold = 'D:/data/big2/BD1_DPF현행화'"
   ]
  },
  {
   "attachments": {},
   "cell_type": "markdown",
   "metadata": {},
   "source": [
    "# Load"
   ]
  },
  {
   "cell_type": "code",
   "execution_count": 6,
   "metadata": {},
   "outputs": [
    {
     "name": "stderr",
     "output_type": "stream",
     "text": [
      "\u001b[2m\u001b[36m(pid=)\u001b[0m Error processing line 1 of C:\\Users\\kbjung\\AppData\\Roaming\\Python\\Python39\\site-packages\\modin-autoimport-pandas.pth:\n",
      "\u001b[2m\u001b[36m(pid=)\u001b[0m \n",
      "\u001b[2m\u001b[36m(pid=)\u001b[0m Error processing line 1 of C:\\Users\\kbjung\\AppData\\Roaming\\Python\\Python39\\site-packages\\modin-autoimport-pandas.pth:\n",
      "\u001b[2m\u001b[36m(pid=)\u001b[0m \n",
      "\u001b[2m\u001b[36m(pid=)\u001b[0m   Traceback (most recent call last):\n",
      "\u001b[2m\u001b[36m(pid=)\u001b[0m     File \"c:\\ProgramData\\Anaconda3\\lib\\site.py\", line 169, in addpackage\n",
      "\u001b[2m\u001b[36m(pid=)\u001b[0m       exec(line)\n",
      "\u001b[2m\u001b[36m(pid=)\u001b[0m   Traceback (most recent call last):    File \"<string>\", line 1, in <module>\n",
      "\u001b[2m\u001b[36m(pid=)\u001b[0m \n",
      "\u001b[2m\u001b[36m(pid=)\u001b[0m     File \"c:\\ProgramData\\Anaconda3\\lib\\site.py\", line 169, in addpackage    File \"C:\\Users\\kbjung\\AppData\\Roaming\\Python\\Python39\\site-packages\\pandas\\__init__.py\", line 16, in <module>\n",
      "\u001b[2m\u001b[36m(pid=)\u001b[0m \n",
      "\u001b[2m\u001b[36m(pid=)\u001b[0m       exec(line)      raise ImportError(\n",
      "\u001b[2m\u001b[36m(pid=)\u001b[0m \n",
      "\u001b[2m\u001b[36m(pid=)\u001b[0m     File \"<string>\", line 1, in <module>  ImportError: Unable to import required dependencies:\n",
      "\u001b[2m\u001b[36m(pid=)\u001b[0m \n",
      "\u001b[2m\u001b[36m(pid=)\u001b[0m     File \"C:\\Users\\kbjung\\AppData\\Roaming\\Python\\Python39\\site-packages\\pandas\\__init__.py\", line 16, in <module>  numpy: No module named 'numpy'\n",
      "\u001b[2m\u001b[36m(pid=)\u001b[0m       raise ImportError(\n",
      "\u001b[2m\u001b[36m(pid=)\u001b[0m \n",
      "\u001b[2m\u001b[36m(pid=)\u001b[0m   ImportError: Unable to import required dependencies:  pytz: No module named 'pytz'\n",
      "\u001b[2m\u001b[36m(pid=)\u001b[0m \n",
      "\u001b[2m\u001b[36m(pid=)\u001b[0m   dateutil: No module named 'dateutil'\n",
      "\u001b[2m\u001b[36m(pid=)\u001b[0m \n",
      "\u001b[2m\u001b[36m(pid=)\u001b[0m Remainder of file ignored\n",
      "\u001b[2m\u001b[36m(pid=)\u001b[0m   numpy: No module named 'numpy'\n",
      "\u001b[2m\u001b[36m(pid=)\u001b[0m   pytz: No module named 'pytz'\n",
      "\u001b[2m\u001b[36m(pid=)\u001b[0m   dateutil: No module named 'dateutil'\n",
      "\u001b[2m\u001b[36m(pid=)\u001b[0m \n",
      "\u001b[2m\u001b[36m(pid=)\u001b[0m Remainder of file ignored\n",
      "\u001b[2m\u001b[36m(pid=)\u001b[0m Error processing line 1 of C:\\Users\\kbjung\\AppData\\Roaming\\Python\\Python39\\site-packages\\modin-autoimport-pandas.pth:\n",
      "\u001b[2m\u001b[36m(pid=)\u001b[0m \n",
      "\u001b[2m\u001b[36m(pid=)\u001b[0m Error processing line 1 of C:\\Users\\kbjung\\AppData\\Roaming\\Python\\Python39\\site-packages\\modin-autoimport-pandas.pth:\n",
      "\u001b[2m\u001b[36m(pid=)\u001b[0m \n",
      "\u001b[2m\u001b[36m(pid=)\u001b[0m Error processing line 1 of C:\\Users\\kbjung\\AppData\\Roaming\\Python\\Python39\\site-packages\\modin-autoimport-pandas.pth:\n",
      "\u001b[2m\u001b[36m(pid=)\u001b[0m \n",
      "\u001b[2m\u001b[36m(pid=)\u001b[0m   Traceback (most recent call last):\n",
      "\u001b[2m\u001b[36m(pid=)\u001b[0m     File \"c:\\ProgramData\\Anaconda3\\lib\\site.py\", line 169, in addpackage\n",
      "\u001b[2m\u001b[36m(pid=)\u001b[0m       exec(line)\n",
      "\u001b[2m\u001b[36m(pid=)\u001b[0m     File \"<string>\", line 1, in <module>\n",
      "\u001b[2m\u001b[36m(pid=)\u001b[0m     File \"C:\\Users\\kbjung\\AppData\\Roaming\\Python\\Python39\\site-packages\\pandas\\__init__.py\", line 16, in <module>\n",
      "\u001b[2m\u001b[36m(pid=)\u001b[0m       raise ImportError(\n",
      "\u001b[2m\u001b[36m(pid=)\u001b[0m   ImportError: Unable to import required dependencies:\n",
      "\u001b[2m\u001b[36m(pid=)\u001b[0m   numpy: No module named 'numpy'\n",
      "\u001b[2m\u001b[36m(pid=)\u001b[0m   pytz: No module named 'pytz'\n",
      "\u001b[2m\u001b[36m(pid=)\u001b[0m   dateutil: No module named 'dateutil'\n",
      "\u001b[2m\u001b[36m(pid=)\u001b[0m \n",
      "\u001b[2m\u001b[36m(pid=)\u001b[0m Remainder of file ignored\n",
      "\u001b[2m\u001b[36m(pid=)\u001b[0m   Traceback (most recent call last):\n",
      "\u001b[2m\u001b[36m(pid=)\u001b[0m     File \"c:\\ProgramData\\Anaconda3\\lib\\site.py\", line 169, in addpackage\n",
      "\u001b[2m\u001b[36m(pid=)\u001b[0m       exec(line)\n",
      "\u001b[2m\u001b[36m(pid=)\u001b[0m     File \"<string>\", line 1, in <module>\n",
      "\u001b[2m\u001b[36m(pid=)\u001b[0m     File \"C:\\Users\\kbjung\\AppData\\Roaming\\Python\\Python39\\site-packages\\pandas\\__init__.py\", line 16, in <module>\n",
      "\u001b[2m\u001b[36m(pid=)\u001b[0m       raise ImportError(\n",
      "\u001b[2m\u001b[36m(pid=)\u001b[0m   ImportError: Unable to import required dependencies:\n",
      "\u001b[2m\u001b[36m(pid=)\u001b[0m Error processing line 1 of C:\\Users\\kbjung\\AppData\\Roaming\\Python\\Python39\\site-packages\\modin-autoimport-pandas.pth:\n",
      "\u001b[2m\u001b[36m(pid=)\u001b[0m \n",
      "\u001b[2m\u001b[36m(pid=)\u001b[0m   numpy: No module named 'numpy'\n",
      "\u001b[2m\u001b[36m(pid=)\u001b[0m   pytz: No module named 'pytz'\n",
      "\u001b[2m\u001b[36m(pid=)\u001b[0m   dateutil: No module named 'dateutil'\n",
      "\u001b[2m\u001b[36m(pid=)\u001b[0m \n",
      "\u001b[2m\u001b[36m(pid=)\u001b[0m Remainder of file ignored\n",
      "\u001b[2m\u001b[36m(pid=)\u001b[0m Error processing line 1 of C:\\Users\\kbjung\\AppData\\Roaming\\Python\\Python39\\site-packages\\modin-autoimport-pandas.pth:\n",
      "\u001b[2m\u001b[36m(pid=)\u001b[0m \n",
      "\u001b[2m\u001b[36m(pid=)\u001b[0m   Traceback (most recent call last):\n",
      "\u001b[2m\u001b[36m(pid=)\u001b[0m     File \"c:\\ProgramData\\Anaconda3\\lib\\site.py\", line 169, in addpackage\n",
      "\u001b[2m\u001b[36m(pid=)\u001b[0m       exec(line)\n",
      "\u001b[2m\u001b[36m(pid=)\u001b[0m     File \"<string>\", line 1, in <module>\n",
      "\u001b[2m\u001b[36m(pid=)\u001b[0m     File \"C:\\Users\\kbjung\\AppData\\Roaming\\Python\\Python39\\site-packages\\pandas\\__init__.py\", line 16, in <module>\n",
      "\u001b[2m\u001b[36m(pid=)\u001b[0m       raise ImportError(\n",
      "\u001b[2m\u001b[36m(pid=)\u001b[0m   ImportError: Unable to import required dependencies:\n",
      "\u001b[2m\u001b[36m(pid=)\u001b[0m   numpy: No module named 'numpy'\n",
      "\u001b[2m\u001b[36m(pid=)\u001b[0m   pytz: No module named 'pytz'\n",
      "\u001b[2m\u001b[36m(pid=)\u001b[0m   dateutil: No module named 'dateutil'\n",
      "\u001b[2m\u001b[36m(pid=)\u001b[0m \n",
      "\u001b[2m\u001b[36m(pid=)\u001b[0m Remainder of file ignored\n",
      "\u001b[2m\u001b[36m(pid=)\u001b[0m   Traceback (most recent call last):\n",
      "\u001b[2m\u001b[36m(pid=)\u001b[0m     File \"c:\\ProgramData\\Anaconda3\\lib\\site.py\", line 169, in addpackage\n",
      "\u001b[2m\u001b[36m(pid=)\u001b[0m       exec(line)\n",
      "\u001b[2m\u001b[36m(pid=)\u001b[0m     File \"<string>\", line 1, in <module>\n",
      "\u001b[2m\u001b[36m(pid=)\u001b[0m     File \"C:\\Users\\kbjung\\AppData\\Roaming\\Python\\Python39\\site-packages\\pandas\\__init__.py\", line 16, in <module>\n",
      "\u001b[2m\u001b[36m(pid=)\u001b[0m       raise ImportError(\n",
      "\u001b[2m\u001b[36m(pid=)\u001b[0m   ImportError: Unable to import required dependencies:\n",
      "\u001b[2m\u001b[36m(pid=)\u001b[0m   numpy: No module named 'numpy'\n",
      "\u001b[2m\u001b[36m(pid=)\u001b[0m   pytz: No module named 'pytz'\n",
      "\u001b[2m\u001b[36m(pid=)\u001b[0m   dateutil: No module named 'dateutil'\n",
      "\u001b[2m\u001b[36m(pid=)\u001b[0m \n",
      "\u001b[2m\u001b[36m(pid=)\u001b[0m Remainder of file ignored\n",
      "\u001b[2m\u001b[36m(pid=)\u001b[0m   Traceback (most recent call last):\n",
      "\u001b[2m\u001b[36m(pid=)\u001b[0m     File \"c:\\ProgramData\\Anaconda3\\lib\\site.py\", line 169, in addpackage\n",
      "\u001b[2m\u001b[36m(pid=)\u001b[0m       exec(line)\n",
      "\u001b[2m\u001b[36m(pid=)\u001b[0m     File \"<string>\", line 1, in <module>\n",
      "\u001b[2m\u001b[36m(pid=)\u001b[0m     File \"C:\\Users\\kbjung\\AppData\\Roaming\\Python\\Python39\\site-packages\\pandas\\__init__.py\", line 16, in <module>\n",
      "\u001b[2m\u001b[36m(pid=)\u001b[0m       raise ImportError(\n",
      "\u001b[2m\u001b[36m(pid=)\u001b[0m   ImportError: Unable to import required dependencies:\n",
      "\u001b[2m\u001b[36m(pid=)\u001b[0m   numpy: No module named 'numpy'\n",
      "\u001b[2m\u001b[36m(pid=)\u001b[0m   pytz: No module named 'pytz'\n",
      "\u001b[2m\u001b[36m(pid=)\u001b[0m   dateutil: No module named 'dateutil'\n",
      "\u001b[2m\u001b[36m(pid=)\u001b[0m \n",
      "\u001b[2m\u001b[36m(pid=)\u001b[0m Remainder of file ignored\n",
      "\u001b[2m\u001b[36m(pid=)\u001b[0m Error processing line 1 of C:\\Users\\kbjung\\AppData\\Roaming\\Python\\Python39\\site-packages\\modin-autoimport-pandas.pth:\n",
      "\u001b[2m\u001b[36m(pid=)\u001b[0m \n",
      "\u001b[2m\u001b[36m(pid=)\u001b[0m Error processing line 1 of C:\\Users\\kbjung\\AppData\\Roaming\\Python\\Python39\\site-packages\\modin-autoimport-pandas.pth:\n",
      "\u001b[2m\u001b[36m(pid=)\u001b[0m \n",
      "\u001b[2m\u001b[36m(pid=)\u001b[0m Error processing line 1 of C:\\Users\\kbjung\\AppData\\Roaming\\Python\\Python39\\site-packages\\modin-autoimport-pandas.pth:\n",
      "\u001b[2m\u001b[36m(pid=)\u001b[0m \n",
      "\u001b[2m\u001b[36m(pid=)\u001b[0m   Traceback (most recent call last):\n",
      "\u001b[2m\u001b[36m(pid=)\u001b[0m     File \"c:\\ProgramData\\Anaconda3\\lib\\site.py\", line 169, in addpackage\n",
      "\u001b[2m\u001b[36m(pid=)\u001b[0m       exec(line)\n",
      "\u001b[2m\u001b[36m(pid=)\u001b[0m     File \"<string>\", line 1, in <module>\n",
      "\u001b[2m\u001b[36m(pid=)\u001b[0m     File \"C:\\Users\\kbjung\\AppData\\Roaming\\Python\\Python39\\site-packages\\pandas\\__init__.py\", line 16, in <module>\n",
      "\u001b[2m\u001b[36m(pid=)\u001b[0m       raise ImportError(\n",
      "\u001b[2m\u001b[36m(pid=)\u001b[0m   ImportError: Unable to import required dependencies:\n",
      "\u001b[2m\u001b[36m(pid=)\u001b[0m   numpy: No module named 'numpy'\n",
      "\u001b[2m\u001b[36m(pid=)\u001b[0m   pytz: No module named 'pytz'\n",
      "\u001b[2m\u001b[36m(pid=)\u001b[0m   dateutil: No module named 'dateutil'\n",
      "\u001b[2m\u001b[36m(pid=)\u001b[0m \n",
      "\u001b[2m\u001b[36m(pid=)\u001b[0m Remainder of file ignored\n",
      "\u001b[2m\u001b[36m(pid=)\u001b[0m   Traceback (most recent call last):\n",
      "\u001b[2m\u001b[36m(pid=)\u001b[0m     File \"c:\\ProgramData\\Anaconda3\\lib\\site.py\", line 169, in addpackage\n",
      "\u001b[2m\u001b[36m(pid=)\u001b[0m       exec(line)\n",
      "\u001b[2m\u001b[36m(pid=)\u001b[0m     File \"<string>\", line 1, in <module>\n",
      "\u001b[2m\u001b[36m(pid=)\u001b[0m     File \"C:\\Users\\kbjung\\AppData\\Roaming\\Python\\Python39\\site-packages\\pandas\\__init__.py\", line 16, in <module>\n",
      "\u001b[2m\u001b[36m(pid=)\u001b[0m       raise ImportError(\n",
      "\u001b[2m\u001b[36m(pid=)\u001b[0m   ImportError: Unable to import required dependencies:\n",
      "\u001b[2m\u001b[36m(pid=)\u001b[0m   numpy: No module named 'numpy'\n",
      "\u001b[2m\u001b[36m(pid=)\u001b[0m   pytz: No module named 'pytz'\n",
      "\u001b[2m\u001b[36m(pid=)\u001b[0m   dateutil: No module named 'dateutil'\n",
      "\u001b[2m\u001b[36m(pid=)\u001b[0m \n",
      "\u001b[2m\u001b[36m(pid=)\u001b[0m Remainder of file ignored\n",
      "\u001b[2m\u001b[36m(pid=)\u001b[0m   Traceback (most recent call last):\n",
      "\u001b[2m\u001b[36m(pid=)\u001b[0m     File \"c:\\ProgramData\\Anaconda3\\lib\\site.py\", line 169, in addpackage\n",
      "\u001b[2m\u001b[36m(pid=)\u001b[0m       exec(line)\n",
      "\u001b[2m\u001b[36m(pid=)\u001b[0m     File \"<string>\", line 1, in <module>\n",
      "\u001b[2m\u001b[36m(pid=)\u001b[0m     File \"C:\\Users\\kbjung\\AppData\\Roaming\\Python\\Python39\\site-packages\\pandas\\__init__.py\", line 16, in <module>\n",
      "\u001b[2m\u001b[36m(pid=)\u001b[0m       raise ImportError(\n",
      "\u001b[2m\u001b[36m(pid=)\u001b[0m   ImportError: Unable to import required dependencies:\n",
      "\u001b[2m\u001b[36m(pid=)\u001b[0m   numpy: No module named 'numpy'\n",
      "\u001b[2m\u001b[36m(pid=)\u001b[0m   pytz: No module named 'pytz'\n",
      "\u001b[2m\u001b[36m(pid=)\u001b[0m   dateutil: No module named 'dateutil'\n",
      "\u001b[2m\u001b[36m(pid=)\u001b[0m \n",
      "\u001b[2m\u001b[36m(pid=)\u001b[0m Remainder of file ignored\n",
      "\u001b[2m\u001b[36m(pid=)\u001b[0m Error processing line 1 of C:\\Users\\kbjung\\AppData\\Roaming\\Python\\Python39\\site-packages\\modin-autoimport-pandas.pth:\n",
      "\u001b[2m\u001b[36m(pid=)\u001b[0m \n",
      "\u001b[2m\u001b[36m(pid=)\u001b[0m Error processing line 1 of C:\\Users\\kbjung\\AppData\\Roaming\\Python\\Python39\\site-packages\\modin-autoimport-pandas.pth:\n",
      "\u001b[2m\u001b[36m(pid=)\u001b[0m \n",
      "\u001b[2m\u001b[36m(pid=)\u001b[0m   Traceback (most recent call last):\n",
      "\u001b[2m\u001b[36m(pid=)\u001b[0m     File \"c:\\ProgramData\\Anaconda3\\lib\\site.py\", line 169, in addpackage\n",
      "\u001b[2m\u001b[36m(pid=)\u001b[0m       exec(line)\n",
      "\u001b[2m\u001b[36m(pid=)\u001b[0m     File \"<string>\", line 1, in <module>\n",
      "\u001b[2m\u001b[36m(pid=)\u001b[0m     File \"C:\\Users\\kbjung\\AppData\\Roaming\\Python\\Python39\\site-packages\\pandas\\__init__.py\", line 16, in <module>\n",
      "\u001b[2m\u001b[36m(pid=)\u001b[0m       raise ImportError(\n",
      "\u001b[2m\u001b[36m(pid=)\u001b[0m   ImportError: Unable to import required dependencies:\n",
      "\u001b[2m\u001b[36m(pid=)\u001b[0m   numpy: No module named 'numpy'\n",
      "\u001b[2m\u001b[36m(pid=)\u001b[0m   pytz: No module named 'pytz'\n",
      "\u001b[2m\u001b[36m(pid=)\u001b[0m   dateutil: No module named 'dateutil'\n",
      "\u001b[2m\u001b[36m(pid=)\u001b[0m \n",
      "\u001b[2m\u001b[36m(pid=)\u001b[0m Remainder of file ignored\n",
      "\u001b[2m\u001b[36m(pid=)\u001b[0m   Traceback (most recent call last):\n",
      "\u001b[2m\u001b[36m(pid=)\u001b[0m     File \"c:\\ProgramData\\Anaconda3\\lib\\site.py\", line 169, in addpackage\n",
      "\u001b[2m\u001b[36m(pid=)\u001b[0m       exec(line)\n",
      "\u001b[2m\u001b[36m(pid=)\u001b[0m     File \"<string>\", line 1, in <module>\n",
      "\u001b[2m\u001b[36m(pid=)\u001b[0m     File \"C:\\Users\\kbjung\\AppData\\Roaming\\Python\\Python39\\site-packages\\pandas\\__init__.py\", line 16, in <module>\n",
      "\u001b[2m\u001b[36m(pid=)\u001b[0m       raise ImportError(\n",
      "\u001b[2m\u001b[36m(pid=)\u001b[0m   ImportError: Unable to import required dependencies:\n",
      "\u001b[2m\u001b[36m(pid=)\u001b[0m   numpy: No module named 'numpy'\n",
      "\u001b[2m\u001b[36m(pid=)\u001b[0m   pytz: No module named 'pytz'\n",
      "\u001b[2m\u001b[36m(pid=)\u001b[0m   dateutil: No module named 'dateutil'\n",
      "\u001b[2m\u001b[36m(pid=)\u001b[0m \n",
      "\u001b[2m\u001b[36m(pid=)\u001b[0m Remainder of file ignored\n",
      "\u001b[2m\u001b[36m(pid=)\u001b[0m Error processing line 1 of C:\\Users\\kbjung\\AppData\\Roaming\\Python\\Python39\\site-packages\\modin-autoimport-pandas.pth:\n",
      "\u001b[2m\u001b[36m(pid=)\u001b[0m \n",
      "\u001b[2m\u001b[36m(pid=)\u001b[0m Error processing line 1 of C:\\Users\\kbjung\\AppData\\Roaming\\Python\\Python39\\site-packages\\modin-autoimport-pandas.pth:\n",
      "\u001b[2m\u001b[36m(pid=)\u001b[0m \n",
      "\u001b[2m\u001b[36m(pid=)\u001b[0m   Traceback (most recent call last):\n",
      "\u001b[2m\u001b[36m(pid=)\u001b[0m     File \"c:\\ProgramData\\Anaconda3\\lib\\site.py\", line 169, in addpackage\n",
      "\u001b[2m\u001b[36m(pid=)\u001b[0m       exec(line)\n",
      "\u001b[2m\u001b[36m(pid=)\u001b[0m     File \"<string>\", line 1, in <module>\n",
      "\u001b[2m\u001b[36m(pid=)\u001b[0m     File \"C:\\Users\\kbjung\\AppData\\Roaming\\Python\\Python39\\site-packages\\pandas\\__init__.py\", line 16, in <module>\n",
      "\u001b[2m\u001b[36m(pid=)\u001b[0m       raise ImportError(\n",
      "\u001b[2m\u001b[36m(pid=)\u001b[0m   ImportError: Unable to import required dependencies:\n",
      "\u001b[2m\u001b[36m(pid=)\u001b[0m   numpy: No module named 'numpy'\n",
      "\u001b[2m\u001b[36m(pid=)\u001b[0m   pytz: No module named 'pytz'\n",
      "\u001b[2m\u001b[36m(pid=)\u001b[0m   dateutil: No module named 'dateutil'\n",
      "\u001b[2m\u001b[36m(pid=)\u001b[0m \n",
      "\u001b[2m\u001b[36m(pid=)\u001b[0m Remainder of file ignored\n",
      "\u001b[2m\u001b[36m(pid=)\u001b[0m   Traceback (most recent call last):\n",
      "\u001b[2m\u001b[36m(pid=)\u001b[0m     File \"c:\\ProgramData\\Anaconda3\\lib\\site.py\", line 169, in addpackage\n",
      "\u001b[2m\u001b[36m(pid=)\u001b[0m       exec(line)\n",
      "\u001b[2m\u001b[36m(pid=)\u001b[0m     File \"<string>\", line 1, in <module>\n",
      "\u001b[2m\u001b[36m(pid=)\u001b[0m     File \"C:\\Users\\kbjung\\AppData\\Roaming\\Python\\Python39\\site-packages\\pandas\\__init__.py\", line 16, in <module>\n",
      "\u001b[2m\u001b[36m(pid=)\u001b[0m       raise ImportError(\n",
      "\u001b[2m\u001b[36m(pid=)\u001b[0m   ImportError: Unable to import required dependencies:\n",
      "\u001b[2m\u001b[36m(pid=)\u001b[0m   numpy: No module named 'numpy'\n",
      "\u001b[2m\u001b[36m(pid=)\u001b[0m   pytz: No module named 'pytz'\n",
      "\u001b[2m\u001b[36m(pid=)\u001b[0m   dateutil: No module named 'dateutil'\n",
      "\u001b[2m\u001b[36m(pid=)\u001b[0m \n",
      "\u001b[2m\u001b[36m(pid=)\u001b[0m Remainder of file ignored\n",
      "\u001b[2m\u001b[36m(pid=)\u001b[0m Error processing line 1 of C:\\Users\\kbjung\\AppData\\Roaming\\Python\\Python39\\site-packages\\modin-autoimport-pandas.pth:\n",
      "\u001b[2m\u001b[36m(pid=)\u001b[0m \n",
      "\u001b[2m\u001b[36m(pid=)\u001b[0m Error processing line 1 of C:\\Users\\kbjung\\AppData\\Roaming\\Python\\Python39\\site-packages\\modin-autoimport-pandas.pth:\n",
      "\u001b[2m\u001b[36m(pid=)\u001b[0m \n",
      "\u001b[2m\u001b[36m(pid=)\u001b[0m   Traceback (most recent call last):\n",
      "\u001b[2m\u001b[36m(pid=)\u001b[0m     File \"c:\\ProgramData\\Anaconda3\\lib\\site.py\", line 169, in addpackage\n",
      "\u001b[2m\u001b[36m(pid=)\u001b[0m       exec(line)\n",
      "\u001b[2m\u001b[36m(pid=)\u001b[0m     File \"<string>\", line 1, in <module>\n",
      "\u001b[2m\u001b[36m(pid=)\u001b[0m     File \"C:\\Users\\kbjung\\AppData\\Roaming\\Python\\Python39\\site-packages\\pandas\\__init__.py\", line 16, in <module>\n",
      "\u001b[2m\u001b[36m(pid=)\u001b[0m       raise ImportError(\n",
      "\u001b[2m\u001b[36m(pid=)\u001b[0m   ImportError: Unable to import required dependencies:\n",
      "\u001b[2m\u001b[36m(pid=)\u001b[0m   numpy: No module named 'numpy'\n",
      "\u001b[2m\u001b[36m(pid=)\u001b[0m   pytz: No module named 'pytz'\n",
      "\u001b[2m\u001b[36m(pid=)\u001b[0m   dateutil: No module named 'dateutil'\n",
      "\u001b[2m\u001b[36m(pid=)\u001b[0m \n",
      "\u001b[2m\u001b[36m(pid=)\u001b[0m Remainder of file ignored\n",
      "\u001b[2m\u001b[36m(pid=)\u001b[0m Error processing line 1 of C:\\Users\\kbjung\\AppData\\Roaming\\Python\\Python39\\site-packages\\modin-autoimport-pandas.pth:\n",
      "\u001b[2m\u001b[36m(pid=)\u001b[0m \n",
      "\u001b[2m\u001b[36m(pid=)\u001b[0m Error processing line 1 of C:\\Users\\kbjung\\AppData\\Roaming\\Python\\Python39\\site-packages\\modin-autoimport-pandas.pth:\n",
      "\u001b[2m\u001b[36m(pid=)\u001b[0m \n",
      "\u001b[2m\u001b[36m(pid=)\u001b[0m   Traceback (most recent call last):\n",
      "\u001b[2m\u001b[36m(pid=)\u001b[0m     File \"c:\\ProgramData\\Anaconda3\\lib\\site.py\", line 169, in addpackage\n",
      "\u001b[2m\u001b[36m(pid=)\u001b[0m       exec(line)\n",
      "\u001b[2m\u001b[36m(pid=)\u001b[0m     File \"<string>\", line 1, in <module>\n",
      "\u001b[2m\u001b[36m(pid=)\u001b[0m     File \"C:\\Users\\kbjung\\AppData\\Roaming\\Python\\Python39\\site-packages\\pandas\\__init__.py\", line 16, in <module>\n",
      "\u001b[2m\u001b[36m(pid=)\u001b[0m       raise ImportError(\n",
      "\u001b[2m\u001b[36m(pid=)\u001b[0m   ImportError: Unable to import required dependencies:\n",
      "\u001b[2m\u001b[36m(pid=)\u001b[0m   numpy: No module named 'numpy'\n",
      "\u001b[2m\u001b[36m(pid=)\u001b[0m   pytz: No module named 'pytz'\n",
      "\u001b[2m\u001b[36m(pid=)\u001b[0m   dateutil: No module named 'dateutil'\n",
      "\u001b[2m\u001b[36m(pid=)\u001b[0m \n",
      "\u001b[2m\u001b[36m(pid=)\u001b[0m Remainder of file ignored\n",
      "\u001b[2m\u001b[36m(pid=)\u001b[0m   Traceback (most recent call last):\n",
      "\u001b[2m\u001b[36m(pid=)\u001b[0m     File \"c:\\ProgramData\\Anaconda3\\lib\\site.py\", line 169, in addpackage\n",
      "\u001b[2m\u001b[36m(pid=)\u001b[0m       exec(line)\n",
      "\u001b[2m\u001b[36m(pid=)\u001b[0m     File \"<string>\", line 1, in <module>\n",
      "\u001b[2m\u001b[36m(pid=)\u001b[0m     File \"C:\\Users\\kbjung\\AppData\\Roaming\\Python\\Python39\\site-packages\\pandas\\__init__.py\", line 16, in <module>\n",
      "\u001b[2m\u001b[36m(pid=)\u001b[0m       raise ImportError(\n",
      "\u001b[2m\u001b[36m(pid=)\u001b[0m   ImportError: Unable to import required dependencies:\n",
      "\u001b[2m\u001b[36m(pid=)\u001b[0m   numpy: No module named 'numpy'\n",
      "\u001b[2m\u001b[36m(pid=)\u001b[0m   pytz: No module named 'pytz'\n",
      "\u001b[2m\u001b[36m(pid=)\u001b[0m   dateutil: No module named 'dateutil'\n",
      "\u001b[2m\u001b[36m(pid=)\u001b[0m \n",
      "\u001b[2m\u001b[36m(pid=)\u001b[0m Remainder of file ignored\n",
      "\u001b[2m\u001b[36m(pid=)\u001b[0m   Traceback (most recent call last):\n",
      "\u001b[2m\u001b[36m(pid=)\u001b[0m     File \"c:\\ProgramData\\Anaconda3\\lib\\site.py\", line 169, in addpackage\n",
      "\u001b[2m\u001b[36m(pid=)\u001b[0m       exec(line)\n",
      "\u001b[2m\u001b[36m(pid=)\u001b[0m     File \"<string>\", line 1, in <module>\n",
      "\u001b[2m\u001b[36m(pid=)\u001b[0m     File \"C:\\Users\\kbjung\\AppData\\Roaming\\Python\\Python39\\site-packages\\pandas\\__init__.py\", line 16, in <module>\n",
      "\u001b[2m\u001b[36m(pid=)\u001b[0m       raise ImportError(\n",
      "\u001b[2m\u001b[36m(pid=)\u001b[0m   ImportError: Unable to import required dependencies:\n",
      "\u001b[2m\u001b[36m(pid=)\u001b[0m   numpy: No module named 'numpy'\n",
      "\u001b[2m\u001b[36m(pid=)\u001b[0m   pytz: No module named 'pytz'\n",
      "\u001b[2m\u001b[36m(pid=)\u001b[0m   dateutil: No module named 'dateutil'\n",
      "\u001b[2m\u001b[36m(pid=)\u001b[0m \n",
      "\u001b[2m\u001b[36m(pid=)\u001b[0m Remainder of file ignored\n",
      "\u001b[2m\u001b[36m(pid=)\u001b[0m Error processing line 1 of C:\\Users\\kbjung\\AppData\\Roaming\\Python\\Python39\\site-packages\\modin-autoimport-pandas.pth:\n",
      "\u001b[2m\u001b[36m(pid=)\u001b[0m \n",
      "\u001b[2m\u001b[36m(pid=)\u001b[0m   Traceback (most recent call last):\n",
      "\u001b[2m\u001b[36m(pid=)\u001b[0m     File \"c:\\ProgramData\\Anaconda3\\lib\\site.py\", line 169, in addpackage\n",
      "\u001b[2m\u001b[36m(pid=)\u001b[0m       exec(line)\n",
      "\u001b[2m\u001b[36m(pid=)\u001b[0m     File \"<string>\", line 1, in <module>\n",
      "\u001b[2m\u001b[36m(pid=)\u001b[0m     File \"C:\\Users\\kbjung\\AppData\\Roaming\\Python\\Python39\\site-packages\\pandas\\__init__.py\", line 16, in <module>\n",
      "\u001b[2m\u001b[36m(pid=)\u001b[0m       raise ImportError(\n",
      "\u001b[2m\u001b[36m(pid=)\u001b[0m   ImportError: Unable to import required dependencies:\n",
      "\u001b[2m\u001b[36m(pid=)\u001b[0m   numpy: No module named 'numpy'\n",
      "\u001b[2m\u001b[36m(pid=)\u001b[0m   pytz: No module named 'pytz'\n",
      "\u001b[2m\u001b[36m(pid=)\u001b[0m   dateutil: No module named 'dateutil'\n",
      "\u001b[2m\u001b[36m(pid=)\u001b[0m \n",
      "\u001b[2m\u001b[36m(pid=)\u001b[0m Remainder of file ignored\n",
      "\u001b[2m\u001b[36m(pid=)\u001b[0m Error processing line 1 of C:\\Users\\kbjung\\AppData\\Roaming\\Python\\Python39\\site-packages\\modin-autoimport-pandas.pth:\n",
      "\u001b[2m\u001b[36m(pid=)\u001b[0m \n",
      "\u001b[2m\u001b[36m(pid=)\u001b[0m   Traceback (most recent call last):\n",
      "\u001b[2m\u001b[36m(pid=)\u001b[0m     File \"c:\\ProgramData\\Anaconda3\\lib\\site.py\", line 169, in addpackage\n",
      "\u001b[2m\u001b[36m(pid=)\u001b[0m       exec(line)\n",
      "\u001b[2m\u001b[36m(pid=)\u001b[0m     File \"<string>\", line 1, in <module>\n",
      "\u001b[2m\u001b[36m(pid=)\u001b[0m     File \"C:\\Users\\kbjung\\AppData\\Roaming\\Python\\Python39\\site-packages\\pandas\\__init__.py\", line 16, in <module>\n",
      "\u001b[2m\u001b[36m(pid=)\u001b[0m       raise ImportError(\n",
      "\u001b[2m\u001b[36m(pid=)\u001b[0m   ImportError: Unable to import required dependencies:\n",
      "\u001b[2m\u001b[36m(pid=)\u001b[0m   numpy: No module named 'numpy'\n",
      "\u001b[2m\u001b[36m(pid=)\u001b[0m   pytz: No module named 'pytz'\n",
      "\u001b[2m\u001b[36m(pid=)\u001b[0m   dateutil: No module named 'dateutil'\n",
      "\u001b[2m\u001b[36m(pid=)\u001b[0m \n",
      "\u001b[2m\u001b[36m(pid=)\u001b[0m Remainder of file ignored\n",
      "\u001b[2m\u001b[36m(pid=)\u001b[0m Error processing line 1 of C:\\Users\\kbjung\\AppData\\Roaming\\Python\\Python39\\site-packages\\modin-autoimport-pandas.pth:\n",
      "\u001b[2m\u001b[36m(pid=)\u001b[0m \n",
      "\u001b[2m\u001b[36m(pid=)\u001b[0m Error processing line 1 of C:\\Users\\kbjung\\AppData\\Roaming\\Python\\Python39\\site-packages\\modin-autoimport-pandas.pth:\n",
      "\u001b[2m\u001b[36m(pid=)\u001b[0m \n",
      "\u001b[2m\u001b[36m(pid=)\u001b[0m   Traceback (most recent call last):\n",
      "\u001b[2m\u001b[36m(pid=)\u001b[0m     File \"c:\\ProgramData\\Anaconda3\\lib\\site.py\", line 169, in addpackage\n",
      "\u001b[2m\u001b[36m(pid=)\u001b[0m       exec(line)\n",
      "\u001b[2m\u001b[36m(pid=)\u001b[0m     File \"<string>\", line 1, in <module>\n",
      "\u001b[2m\u001b[36m(pid=)\u001b[0m     File \"C:\\Users\\kbjung\\AppData\\Roaming\\Python\\Python39\\site-packages\\pandas\\__init__.py\", line 16, in <module>\n",
      "\u001b[2m\u001b[36m(pid=)\u001b[0m       raise ImportError(\n",
      "\u001b[2m\u001b[36m(pid=)\u001b[0m   ImportError: Unable to import required dependencies:\n",
      "\u001b[2m\u001b[36m(pid=)\u001b[0m   numpy: No module named 'numpy'\n",
      "\u001b[2m\u001b[36m(pid=)\u001b[0m   pytz: No module named 'pytz'\n",
      "\u001b[2m\u001b[36m(pid=)\u001b[0m   dateutil: No module named 'dateutil'\n",
      "\u001b[2m\u001b[36m(pid=)\u001b[0m \n",
      "\u001b[2m\u001b[36m(pid=)\u001b[0m Remainder of file ignored\n",
      "\u001b[2m\u001b[36m(pid=)\u001b[0m   Traceback (most recent call last):\n",
      "\u001b[2m\u001b[36m(pid=)\u001b[0m     File \"c:\\ProgramData\\Anaconda3\\lib\\site.py\", line 169, in addpackage\n",
      "\u001b[2m\u001b[36m(pid=)\u001b[0m       exec(line)\n",
      "\u001b[2m\u001b[36m(pid=)\u001b[0m     File \"<string>\", line 1, in <module>\n",
      "\u001b[2m\u001b[36m(pid=)\u001b[0m     File \"C:\\Users\\kbjung\\AppData\\Roaming\\Python\\Python39\\site-packages\\pandas\\__init__.py\", line 16, in <module>\n",
      "\u001b[2m\u001b[36m(pid=)\u001b[0m       raise ImportError(\n",
      "\u001b[2m\u001b[36m(pid=)\u001b[0m   ImportError: Unable to import required dependencies:\n",
      "\u001b[2m\u001b[36m(pid=)\u001b[0m   numpy: No module named 'numpy'\n",
      "\u001b[2m\u001b[36m(pid=)\u001b[0m   pytz: No module named 'pytz'\n",
      "\u001b[2m\u001b[36m(pid=)\u001b[0m   dateutil: No module named 'dateutil'\n",
      "\u001b[2m\u001b[36m(pid=)\u001b[0m \n",
      "\u001b[2m\u001b[36m(pid=)\u001b[0m Remainder of file ignored\n",
      "UserWarning: `read_*` implementation has mismatches with pandas:\n",
      "Data types of partitions are different! Please refer to the troubleshooting section of the Modin documentation to fix this issue.\n",
      "\u001b[2m\u001b[36m(pid=)\u001b[0m Error processing line 1 of C:\\Users\\kbjung\\AppData\\Roaming\\Python\\Python39\\site-packages\\modin-autoimport-pandas.pth:\n",
      "\u001b[2m\u001b[36m(pid=)\u001b[0m \n",
      "\u001b[2m\u001b[36m(pid=)\u001b[0m   Traceback (most recent call last):\n",
      "\u001b[2m\u001b[36m(pid=)\u001b[0m     File \"c:\\ProgramData\\Anaconda3\\lib\\site.py\", line 169, in addpackage\n",
      "\u001b[2m\u001b[36m(pid=)\u001b[0m       exec(line)\n",
      "\u001b[2m\u001b[36m(pid=)\u001b[0m     File \"<string>\", line 1, in <module>\n",
      "\u001b[2m\u001b[36m(pid=)\u001b[0m     File \"C:\\Users\\kbjung\\AppData\\Roaming\\Python\\Python39\\site-packages\\pandas\\__init__.py\", line 16, in <module>\n",
      "\u001b[2m\u001b[36m(pid=)\u001b[0m       raise ImportError(\n",
      "\u001b[2m\u001b[36m(pid=)\u001b[0m   ImportError: Unable to import required dependencies:\n",
      "\u001b[2m\u001b[36m(pid=)\u001b[0m   numpy: No module named 'numpy'\n",
      "\u001b[2m\u001b[36m(pid=)\u001b[0m   pytz: No module named 'pytz'\n",
      "\u001b[2m\u001b[36m(pid=)\u001b[0m   dateutil: No module named 'dateutil'\n",
      "\u001b[2m\u001b[36m(pid=)\u001b[0m \n",
      "\u001b[2m\u001b[36m(pid=)\u001b[0m Remainder of file ignored\n",
      "\u001b[2m\u001b[36m(pid=)\u001b[0m Error processing line 1 of C:\\Users\\kbjung\\AppData\\Roaming\\Python\\Python39\\site-packages\\modin-autoimport-pandas.pth:\n",
      "\u001b[2m\u001b[36m(pid=)\u001b[0m \n",
      "\u001b[2m\u001b[36m(pid=)\u001b[0m   Traceback (most recent call last):\n",
      "\u001b[2m\u001b[36m(pid=)\u001b[0m     File \"c:\\ProgramData\\Anaconda3\\lib\\site.py\", line 169, in addpackage\n",
      "\u001b[2m\u001b[36m(pid=)\u001b[0m       exec(line)\n",
      "\u001b[2m\u001b[36m(pid=)\u001b[0m     File \"<string>\", line 1, in <module>\n",
      "\u001b[2m\u001b[36m(pid=)\u001b[0m     File \"C:\\Users\\kbjung\\AppData\\Roaming\\Python\\Python39\\site-packages\\pandas\\__init__.py\", line 16, in <module>\n",
      "\u001b[2m\u001b[36m(pid=)\u001b[0m       raise ImportError(\n",
      "\u001b[2m\u001b[36m(pid=)\u001b[0m   ImportError: Unable to import required dependencies:\n",
      "\u001b[2m\u001b[36m(pid=)\u001b[0m   numpy: No module named 'numpy'\n",
      "\u001b[2m\u001b[36m(pid=)\u001b[0m   pytz: No module named 'pytz'\n",
      "\u001b[2m\u001b[36m(pid=)\u001b[0m   dateutil: No module named 'dateutil'\n",
      "\u001b[2m\u001b[36m(pid=)\u001b[0m \n",
      "\u001b[2m\u001b[36m(pid=)\u001b[0m Remainder of file ignored\n",
      "\u001b[2m\u001b[36m(pid=)\u001b[0m Error processing line 1 of C:\\Users\\kbjung\\AppData\\Roaming\\Python\\Python39\\site-packages\\modin-autoimport-pandas.pth:\n",
      "\u001b[2m\u001b[36m(pid=)\u001b[0m \n",
      "\u001b[2m\u001b[36m(pid=)\u001b[0m Error processing line 1 of C:\\Users\\kbjung\\AppData\\Roaming\\Python\\Python39\\site-packages\\modin-autoimport-pandas.pth:\n",
      "\u001b[2m\u001b[36m(pid=)\u001b[0m \n",
      "\u001b[2m\u001b[36m(pid=)\u001b[0m   Traceback (most recent call last):\n",
      "\u001b[2m\u001b[36m(pid=)\u001b[0m     File \"c:\\ProgramData\\Anaconda3\\lib\\site.py\", line 169, in addpackage\n",
      "\u001b[2m\u001b[36m(pid=)\u001b[0m       exec(line)\n",
      "\u001b[2m\u001b[36m(pid=)\u001b[0m     File \"<string>\", line 1, in <module>\n",
      "\u001b[2m\u001b[36m(pid=)\u001b[0m     File \"C:\\Users\\kbjung\\AppData\\Roaming\\Python\\Python39\\site-packages\\pandas\\__init__.py\", line 16, in <module>\n",
      "\u001b[2m\u001b[36m(pid=)\u001b[0m       raise ImportError(\n",
      "\u001b[2m\u001b[36m(pid=)\u001b[0m   ImportError: Unable to import required dependencies:\n",
      "\u001b[2m\u001b[36m(pid=)\u001b[0m   numpy: No module named 'numpy'\n",
      "\u001b[2m\u001b[36m(pid=)\u001b[0m   pytz: No module named 'pytz'\n",
      "\u001b[2m\u001b[36m(pid=)\u001b[0m   dateutil: No module named 'dateutil'\n",
      "\u001b[2m\u001b[36m(pid=)\u001b[0m \n",
      "\u001b[2m\u001b[36m(pid=)\u001b[0m Remainder of file ignored\n",
      "\u001b[2m\u001b[36m(pid=)\u001b[0m Error processing line 1 of C:\\Users\\kbjung\\AppData\\Roaming\\Python\\Python39\\site-packages\\modin-autoimport-pandas.pth:\n",
      "\u001b[2m\u001b[36m(pid=)\u001b[0m \n",
      "\u001b[2m\u001b[36m(pid=)\u001b[0m Error processing line 1 of C:\\Users\\kbjung\\AppData\\Roaming\\Python\\Python39\\site-packages\\modin-autoimport-pandas.pth:\n",
      "\u001b[2m\u001b[36m(pid=)\u001b[0m \n",
      "\u001b[2m\u001b[36m(pid=)\u001b[0m   Traceback (most recent call last):\n",
      "\u001b[2m\u001b[36m(pid=)\u001b[0m     File \"c:\\ProgramData\\Anaconda3\\lib\\site.py\", line 169, in addpackage\n",
      "\u001b[2m\u001b[36m(pid=)\u001b[0m       exec(line)\n",
      "\u001b[2m\u001b[36m(pid=)\u001b[0m     File \"<string>\", line 1, in <module>\n",
      "\u001b[2m\u001b[36m(pid=)\u001b[0m     File \"C:\\Users\\kbjung\\AppData\\Roaming\\Python\\Python39\\site-packages\\pandas\\__init__.py\", line 16, in <module>\n",
      "\u001b[2m\u001b[36m(pid=)\u001b[0m       raise ImportError(\n",
      "\u001b[2m\u001b[36m(pid=)\u001b[0m   ImportError: Unable to import required dependencies:\n",
      "\u001b[2m\u001b[36m(pid=)\u001b[0m   numpy: No module named 'numpy'\n",
      "\u001b[2m\u001b[36m(pid=)\u001b[0m   pytz: No module named 'pytz'\n",
      "\u001b[2m\u001b[36m(pid=)\u001b[0m   dateutil: No module named 'dateutil'\n",
      "\u001b[2m\u001b[36m(pid=)\u001b[0m \n",
      "\u001b[2m\u001b[36m(pid=)\u001b[0m Remainder of file ignored\n",
      "\u001b[2m\u001b[36m(pid=)\u001b[0m Error processing line 1 of C:\\Users\\kbjung\\AppData\\Roaming\\Python\\Python39\\site-packages\\modin-autoimport-pandas.pth:\n",
      "\u001b[2m\u001b[36m(pid=)\u001b[0m \n",
      "\u001b[2m\u001b[36m(pid=)\u001b[0m Error processing line 1 of C:\\Users\\kbjung\\AppData\\Roaming\\Python\\Python39\\site-packages\\modin-autoimport-pandas.pth:\n",
      "\u001b[2m\u001b[36m(pid=)\u001b[0m \n",
      "\u001b[2m\u001b[36m(pid=)\u001b[0m   Traceback (most recent call last):\n",
      "\u001b[2m\u001b[36m(pid=)\u001b[0m     File \"c:\\ProgramData\\Anaconda3\\lib\\site.py\", line 169, in addpackage\n",
      "\u001b[2m\u001b[36m(pid=)\u001b[0m       exec(line)\n",
      "\u001b[2m\u001b[36m(pid=)\u001b[0m     File \"<string>\", line 1, in <module>\n",
      "\u001b[2m\u001b[36m(pid=)\u001b[0m     File \"C:\\Users\\kbjung\\AppData\\Roaming\\Python\\Python39\\site-packages\\pandas\\__init__.py\", line 16, in <module>\n",
      "\u001b[2m\u001b[36m(pid=)\u001b[0m       raise ImportError(\n",
      "\u001b[2m\u001b[36m(pid=)\u001b[0m   ImportError: Unable to import required dependencies:\n",
      "\u001b[2m\u001b[36m(pid=)\u001b[0m   numpy: No module named 'numpy'\n",
      "\u001b[2m\u001b[36m(pid=)\u001b[0m   pytz: No module named 'pytz'\n",
      "\u001b[2m\u001b[36m(pid=)\u001b[0m   dateutil: No module named 'dateutil'\n",
      "\u001b[2m\u001b[36m(pid=)\u001b[0m \n",
      "\u001b[2m\u001b[36m(pid=)\u001b[0m Remainder of file ignored\n",
      "\u001b[2m\u001b[36m(pid=)\u001b[0m   Traceback (most recent call last):\n",
      "\u001b[2m\u001b[36m(pid=)\u001b[0m     File \"c:\\ProgramData\\Anaconda3\\lib\\site.py\", line 169, in addpackage\n",
      "\u001b[2m\u001b[36m(pid=)\u001b[0m       exec(line)\n",
      "\u001b[2m\u001b[36m(pid=)\u001b[0m     File \"<string>\", line 1, in <module>\n",
      "\u001b[2m\u001b[36m(pid=)\u001b[0m     File \"C:\\Users\\kbjung\\AppData\\Roaming\\Python\\Python39\\site-packages\\pandas\\__init__.py\", line 16, in <module>\n",
      "\u001b[2m\u001b[36m(pid=)\u001b[0m       raise ImportError(\n",
      "\u001b[2m\u001b[36m(pid=)\u001b[0m   ImportError: Unable to import required dependencies:\n",
      "\u001b[2m\u001b[36m(pid=)\u001b[0m   numpy: No module named 'numpy'\n",
      "\u001b[2m\u001b[36m(pid=)\u001b[0m   pytz: No module named 'pytz'\n",
      "\u001b[2m\u001b[36m(pid=)\u001b[0m   dateutil: No module named 'dateutil'\n",
      "\u001b[2m\u001b[36m(pid=)\u001b[0m \n",
      "\u001b[2m\u001b[36m(pid=)\u001b[0m Remainder of file ignored\n",
      "\u001b[2m\u001b[36m(pid=)\u001b[0m Error processing line 1 of C:\\Users\\kbjung\\AppData\\Roaming\\Python\\Python39\\site-packages\\modin-autoimport-pandas.pth:\n",
      "\u001b[2m\u001b[36m(pid=)\u001b[0m \n",
      "\u001b[2m\u001b[36m(pid=)\u001b[0m   Traceback (most recent call last):\n",
      "\u001b[2m\u001b[36m(pid=)\u001b[0m     File \"c:\\ProgramData\\Anaconda3\\lib\\site.py\", line 169, in addpackage\n",
      "\u001b[2m\u001b[36m(pid=)\u001b[0m       exec(line)\n",
      "\u001b[2m\u001b[36m(pid=)\u001b[0m     File \"<string>\", line 1, in <module>\n",
      "\u001b[2m\u001b[36m(pid=)\u001b[0m     File \"C:\\Users\\kbjung\\AppData\\Roaming\\Python\\Python39\\site-packages\\pandas\\__init__.py\", line 16, in <module>\n",
      "\u001b[2m\u001b[36m(pid=)\u001b[0m       raise ImportError(\n",
      "\u001b[2m\u001b[36m(pid=)\u001b[0m   ImportError: Unable to import required dependencies:\n",
      "\u001b[2m\u001b[36m(pid=)\u001b[0m   numpy: No module named 'numpy'\n",
      "\u001b[2m\u001b[36m(pid=)\u001b[0m   pytz: No module named 'pytz'\n",
      "\u001b[2m\u001b[36m(pid=)\u001b[0m   dateutil: No module named 'dateutil'\n",
      "\u001b[2m\u001b[36m(pid=)\u001b[0m \n",
      "\u001b[2m\u001b[36m(pid=)\u001b[0m Remainder of file ignored\n",
      "\u001b[2m\u001b[36m(pid=)\u001b[0m   Traceback (most recent call last):\n",
      "\u001b[2m\u001b[36m(pid=)\u001b[0m     File \"c:\\ProgramData\\Anaconda3\\lib\\site.py\", line 169, in addpackage\n",
      "\u001b[2m\u001b[36m(pid=)\u001b[0m       exec(line)\n",
      "\u001b[2m\u001b[36m(pid=)\u001b[0m     File \"<string>\", line 1, in <module>\n",
      "\u001b[2m\u001b[36m(pid=)\u001b[0m     File \"C:\\Users\\kbjung\\AppData\\Roaming\\Python\\Python39\\site-packages\\pandas\\__init__.py\", line 16, in <module>\n",
      "\u001b[2m\u001b[36m(pid=)\u001b[0m       raise ImportError(\n",
      "\u001b[2m\u001b[36m(pid=)\u001b[0m   ImportError: Unable to import required dependencies:\n",
      "\u001b[2m\u001b[36m(pid=)\u001b[0m   numpy: No module named 'numpy'\n",
      "\u001b[2m\u001b[36m(pid=)\u001b[0m   pytz: No module named 'pytz'\n",
      "\u001b[2m\u001b[36m(pid=)\u001b[0m   dateutil: No module named 'dateutil'\n",
      "\u001b[2m\u001b[36m(pid=)\u001b[0m \n",
      "\u001b[2m\u001b[36m(pid=)\u001b[0m Remainder of file ignored\n",
      "\u001b[2m\u001b[36m(pid=)\u001b[0m   Traceback (most recent call last):\n",
      "\u001b[2m\u001b[36m(pid=)\u001b[0m     File \"c:\\ProgramData\\Anaconda3\\lib\\site.py\", line 169, in addpackage\n",
      "\u001b[2m\u001b[36m(pid=)\u001b[0m       exec(line)\n",
      "\u001b[2m\u001b[36m(pid=)\u001b[0m     File \"<string>\", line 1, in <module>\n",
      "\u001b[2m\u001b[36m(pid=)\u001b[0m     File \"C:\\Users\\kbjung\\AppData\\Roaming\\Python\\Python39\\site-packages\\pandas\\__init__.py\", line 16, in <module>\n",
      "\u001b[2m\u001b[36m(pid=)\u001b[0m       raise ImportError(\n",
      "\u001b[2m\u001b[36m(pid=)\u001b[0m   ImportError: Unable to import required dependencies:\n",
      "\u001b[2m\u001b[36m(pid=)\u001b[0m   numpy: No module named 'numpy'\n",
      "\u001b[2m\u001b[36m(pid=)\u001b[0m   pytz: No module named 'pytz'\n",
      "\u001b[2m\u001b[36m(pid=)\u001b[0m   dateutil: No module named 'dateutil'\n",
      "\u001b[2m\u001b[36m(pid=)\u001b[0m \n",
      "\u001b[2m\u001b[36m(pid=)\u001b[0m Remainder of file ignored\n",
      "\u001b[2m\u001b[36m(pid=)\u001b[0m Error processing line 1 of C:\\Users\\kbjung\\AppData\\Roaming\\Python\\Python39\\site-packages\\modin-autoimport-pandas.pth:\n",
      "\u001b[2m\u001b[36m(pid=)\u001b[0m \n",
      "\u001b[2m\u001b[36m(pid=)\u001b[0m   Traceback (most recent call last):\n",
      "\u001b[2m\u001b[36m(pid=)\u001b[0m     File \"c:\\ProgramData\\Anaconda3\\lib\\site.py\", line 169, in addpackage\n",
      "\u001b[2m\u001b[36m(pid=)\u001b[0m       exec(line)\n",
      "\u001b[2m\u001b[36m(pid=)\u001b[0m     File \"<string>\", line 1, in <module>\n",
      "\u001b[2m\u001b[36m(pid=)\u001b[0m     File \"C:\\Users\\kbjung\\AppData\\Roaming\\Python\\Python39\\site-packages\\pandas\\__init__.py\", line 16, in <module>\n",
      "\u001b[2m\u001b[36m(pid=)\u001b[0m       raise ImportError(\n",
      "\u001b[2m\u001b[36m(pid=)\u001b[0m   ImportError: Unable to import required dependencies:\n",
      "\u001b[2m\u001b[36m(pid=)\u001b[0m   numpy: No module named 'numpy'\n",
      "\u001b[2m\u001b[36m(pid=)\u001b[0m   pytz: No module named 'pytz'\n",
      "\u001b[2m\u001b[36m(pid=)\u001b[0m   dateutil: No module named 'dateutil'\n",
      "\u001b[2m\u001b[36m(pid=)\u001b[0m \n",
      "\u001b[2m\u001b[36m(pid=)\u001b[0m Remainder of file ignored\n"
     ]
    },
    {
     "name": "stdout",
     "output_type": "stream",
     "text": [
      "<class 'modin.pandas.dataframe.DataFrame'>\n",
      "RangeIndex: 849999 entries, 0 to 849998\n",
      "Data columns (total 44 columns):\n",
      " #   Column     Non-Null Count   Dtype  \n",
      "---  ---------  ---------------  -----  \n",
      " 0   차량관리번호     849999 non-null  object\n",
      " 1   차량등록번호     849999 non-null  object\n",
      " 2   차대번호       849999 non-null  object\n",
      " 3   최초등록일자     849999 non-null  int64\n",
      " 4   차대연식       849994 non-null  float64\n",
      " 5   차량연식       849999 non-null  int64\n",
      " 6   차량제작일자     849999 non-null  int64\n",
      " 7   제원관리번호     849999 non-null  object\n",
      " 8   배출가스인증번호   844354 non-null  object\n",
      " 9   배출가스등급     849999 non-null  int64\n",
      " 10  대표차명       849999 non-null  object\n",
      " 11  차명         849999 non-null  object\n",
      " 12  차종_제원정보    849999 non-null  object\n",
      " 13  차종분류       849999 non-null  object\n",
      " 14  차종유형       849999 non-null  object\n",
      " 15  자동차형식      849998 non-null  object\n",
      " 16  연료         849999 non-null  object\n",
      " 17  엔진형식       849999 non-null  object\n",
      " 18  총중량        849999 non-null  int64\n",
      " 19  공차중량       849991 non-null  float64\n",
      " 20  적재중량       849779 non-null  float64\n",
      " 21  배기량        849999 non-null  int64\n",
      " 22  정원         849998 non-null  float64\n",
      " 23  길이         849991 non-null  float64\n",
      " 24  너비         849991 non-null  float64\n",
      " 25  높이         849991 non-null  float64\n",
      " 26  등급CODE     849999 non-null  int64\n",
      " 27  연료CODE     849999 non-null  object\n",
      " 28  세부1        849999 non-null  object\n",
      " 29  세부2        849999 non-null  object\n",
      " 30  중량CODE     849999 non-null  int64\n",
      " 31  배기량CODE    849999 non-null  int64\n",
      " 32  연식CODE     849999 non-null  int64\n",
      " 33  GRADE      849999 non-null  object\n",
      " 34  차종_자관      849999 non-null  object\n",
      " 35  DPF        710301 non-null  object\n",
      " 36  저공해        83933 non-null   object\n",
      " 37  LEN        849999 non-null  int64\n",
      " 38  법정동코드      849999 non-null  int64\n",
      " 39  시도         849999 non-null  object\n",
      " 40  시구군        849999 non-null  object\n",
      " 41  시구군동읍면     849999 non-null  object\n",
      " 42  DPF부착가능여부  0 non-null       float64\n",
      " 43  WMI        849999 non-null  object\n",
      "dtypes: object(24), int64(12), float64(8)\n",
      "memory usage: 285.3 MB\n"
     ]
    },
    {
     "name": "stderr",
     "output_type": "stream",
     "text": [
      "UserWarning: Distributing <class 'int'> object. This may take some time.\n"
     ]
    }
   ],
   "source": [
    "name = '배출가스4등급차량_20220216'\n",
    "file_name = f'{name}.csv'\n",
    "c1 = pd.read_csv(os.path.join(fold, file_name), encoding='cp949')\n",
    "c1.info()"
   ]
  },
  {
   "cell_type": "code",
   "execution_count": 7,
   "metadata": {},
   "outputs": [
    {
     "name": "stdout",
     "output_type": "stream",
     "text": [
      "<class 'modin.pandas.dataframe.DataFrame'>\n",
      "RangeIndex: 792352 entries, 0 to 792351\n",
      "Data columns (total 44 columns):\n",
      " #   Column     Non-Null Count   Dtype  \n",
      "---  ---------  ---------------  -----  \n",
      " 0   차량관리번호     792352 non-null  object\n",
      " 1   차량등록번호     792352 non-null  object\n",
      " 2   차대번호       792352 non-null  object\n",
      " 3   최초등록일자     792352 non-null  int64\n",
      " 4   차대연식       782181 non-null  float64\n",
      " 5   차량연식       792352 non-null  int64\n",
      " 6   차량제작일자     792352 non-null  int64\n",
      " 7   제원관리번호     792352 non-null  object\n",
      " 8   배출가스인증번호   668440 non-null  object\n",
      " 9   배출가스등급     792352 non-null  int64\n",
      " 10  대표차명       792352 non-null  object\n",
      " 11  차명         792352 non-null  object\n",
      " 12  차종_제원정보    792352 non-null  object\n",
      " 13  차종분류       792352 non-null  object\n",
      " 14  차종유형       792352 non-null  object\n",
      " 15  자동차형식      792052 non-null  object\n",
      " 16  연료         792351 non-null  object\n",
      " 17  엔진형식       790476 non-null  object\n",
      " 18  총중량        792340 non-null  float64\n",
      " 19  공차중량       790236 non-null  float64\n",
      " 20  적재중량       792050 non-null  float64\n",
      " 21  배기량        792343 non-null  float64\n",
      " 22  정원         791492 non-null  float64\n",
      " 23  길이         790246 non-null  float64\n",
      " 24  너비         790246 non-null  float64\n",
      " 25  높이         790215 non-null  float64\n",
      " 26  등급CODE     792352 non-null  object\n",
      " 27  연료CODE     792352 non-null  object\n",
      " 28  세부1        792352 non-null  object\n",
      " 29  세부2        792281 non-null  object\n",
      " 30  중량CODE     792352 non-null  int64\n",
      " 31  배기량CODE    792352 non-null  int64\n",
      " 32  연식CODE     792352 non-null  int64\n",
      " 33  GRADE      792351 non-null  object\n",
      " 34  차종_자관      792352 non-null  object\n",
      " 35  DPF        367206 non-null  object\n",
      " 36  저공해        82092 non-null   object\n",
      " 37  LEN        792352 non-null  int64\n",
      " 38  법정동코드      792352 non-null  int64\n",
      " 39  시도         792352 non-null  object\n",
      " 40  시구군        792352 non-null  object\n",
      " 41  시구군동읍면     792352 non-null  object\n",
      " 42  DPF부착가능여부  0 non-null       float64\n",
      " 43  WMI        789664 non-null  object\n",
      "dtypes: object(25), float64(10), int64(9)\n",
      "memory usage: 266.0 MB\n"
     ]
    },
    {
     "name": "stderr",
     "output_type": "stream",
     "text": [
      "UserWarning: Distributing <class 'int'> object. This may take some time.\n"
     ]
    }
   ],
   "source": [
    "name = '배출가스4등급차량2_20220216'\n",
    "file_name = f'{name}.csv'\n",
    "c2 = pd.read_csv(os.path.join(fold, file_name), encoding='cp949')\n",
    "c2.info()"
   ]
  },
  {
   "cell_type": "code",
   "execution_count": 8,
   "metadata": {},
   "outputs": [
    {
     "data": {
      "text/plain": [
       "(1642351, 44)"
      ]
     },
     "execution_count": 8,
     "metadata": {},
     "output_type": "execute_result"
    }
   ],
   "source": [
    "total = pd.concat([c1, c2], ignore_index=True)\n",
    "total.shape"
   ]
  },
  {
   "attachments": {},
   "cell_type": "markdown",
   "metadata": {},
   "source": [
    "## [excel] concat file"
   ]
  },
  {
   "cell_type": "code",
   "execution_count": null,
   "metadata": {},
   "outputs": [],
   "source": [
    "# total.to_csv(os.path.join(fold, '통합_배출가스4등급차량_20220216.csv'), index=False, encoding='cp949')"
   ]
  },
  {
   "attachments": {},
   "cell_type": "markdown",
   "metadata": {},
   "source": [
    "## [로드] 통합_배출가스4등급차량_20220216"
   ]
  },
  {
   "cell_type": "code",
   "execution_count": 66,
   "metadata": {},
   "outputs": [],
   "source": [
    "total = pd.read_csv(os.path.join(fold, '통합_배출가스4등급차량_20220216.csv'), encoding='cp949', low_memory=False)"
   ]
  },
  {
   "attachments": {},
   "cell_type": "markdown",
   "metadata": {},
   "source": [
    "# analysis"
   ]
  },
  {
   "cell_type": "code",
   "execution_count": 67,
   "metadata": {},
   "outputs": [
    {
     "data": {
      "text/plain": [
       "Index(['차량관리번호', '차량등록번호', '차대번호', '최초등록일자', '차대연식', '차량연식', '차량제작일자',\n",
       "       '제원관리번호', '배출가스인증번호', '배출가스등급', '대표차명', '차명', '차종_제원정보', '차종분류', '차종유형',\n",
       "       '자동차형식', '연료', '엔진형식', '총중량', '공차중량', '적재중량', '배기량', '정원', '길이', '너비',\n",
       "       '높이', '등급CODE', '연료CODE', '세부1', '세부2', '중량CODE', '배기량CODE', '연식CODE',\n",
       "       'GRADE', '차종_자관', 'DPF', '저공해', 'LEN', '법정동코드', '시도', '시구군', '시구군동읍면',\n",
       "       'DPF부착가능여부', 'WMI'],\n",
       "      dtype='object')"
      ]
     },
     "execution_count": 67,
     "metadata": {},
     "output_type": "execute_result"
    }
   ],
   "source": [
    "df = total.copy()\n",
    "df.columns"
   ]
  },
  {
   "cell_type": "code",
   "execution_count": 68,
   "metadata": {},
   "outputs": [
    {
     "data": {
      "text/html": [
       "<div>\n",
       "<style scoped>\n",
       "    .dataframe tbody tr th:only-of-type {\n",
       "        vertical-align: middle;\n",
       "    }\n",
       "\n",
       "    .dataframe tbody tr th {\n",
       "        vertical-align: top;\n",
       "    }\n",
       "\n",
       "    .dataframe thead th {\n",
       "        text-align: right;\n",
       "    }\n",
       "</style>\n",
       "<table border=\"1\" class=\"dataframe\">\n",
       "  <thead>\n",
       "    <tr style=\"text-align: right;\">\n",
       "      <th></th>\n",
       "      <th>차량관리번호</th>\n",
       "      <th>차량등록번호</th>\n",
       "      <th>차대번호</th>\n",
       "      <th>최초등록일자</th>\n",
       "      <th>차대연식</th>\n",
       "      <th>차량연식</th>\n",
       "      <th>차량제작일자</th>\n",
       "      <th>제원관리번호</th>\n",
       "      <th>배출가스인증번호</th>\n",
       "      <th>배출가스등급</th>\n",
       "      <th>대표차명</th>\n",
       "      <th>차명</th>\n",
       "      <th>차종_제원정보</th>\n",
       "      <th>차종분류</th>\n",
       "      <th>차종유형</th>\n",
       "      <th>자동차형식</th>\n",
       "      <th>연료</th>\n",
       "      <th>엔진형식</th>\n",
       "      <th>총중량</th>\n",
       "      <th>공차중량</th>\n",
       "    </tr>\n",
       "  </thead>\n",
       "  <tbody>\n",
       "    <tr>\n",
       "      <th>0</th>\n",
       "      <td>KMFDA18JPLC103992-01</td>\n",
       "      <td>경기95자3452</td>\n",
       "      <td>KMFDA18JPLC103992</td>\n",
       "      <td>20190517</td>\n",
       "      <td>2020.0</td>\n",
       "      <td>2020</td>\n",
       "      <td>20190507</td>\n",
       "      <td>A0810005309993318</td>\n",
       "      <td>7MY-HD-24-31</td>\n",
       "      <td>4</td>\n",
       "      <td>POWER TRUCK</td>\n",
       "      <td>뉴파워트럭</td>\n",
       "      <td>화물</td>\n",
       "      <td>일반형-카고</td>\n",
       "      <td>대형</td>\n",
       "      <td>HD8CT-20ESHa-T6</td>\n",
       "      <td>경유</td>\n",
       "      <td>D6HC</td>\n",
       "      <td>16870.0</td>\n",
       "      <td>8740.0</td>\n",
       "    </tr>\n",
       "    <tr>\n",
       "      <th>1</th>\n",
       "      <td>KMFDA18JPLC103993-01</td>\n",
       "      <td>경기95자3443</td>\n",
       "      <td>KMFDA18JPLC103993</td>\n",
       "      <td>20190705</td>\n",
       "      <td>2020.0</td>\n",
       "      <td>2020</td>\n",
       "      <td>20190509</td>\n",
       "      <td>A0810005309993318</td>\n",
       "      <td>7MY-HD-24-31</td>\n",
       "      <td>4</td>\n",
       "      <td>POWER TRUCK</td>\n",
       "      <td>뉴파워트럭</td>\n",
       "      <td>화물</td>\n",
       "      <td>일반형-카고</td>\n",
       "      <td>대형</td>\n",
       "      <td>HD8CT-20ESHa-T6</td>\n",
       "      <td>경유</td>\n",
       "      <td>D6HC</td>\n",
       "      <td>16870.0</td>\n",
       "      <td>8740.0</td>\n",
       "    </tr>\n",
       "    <tr>\n",
       "      <th>2</th>\n",
       "      <td>KMFDA18JPLC103994-01</td>\n",
       "      <td>경기95자2622</td>\n",
       "      <td>KMFDA18JPLC103994</td>\n",
       "      <td>20190614</td>\n",
       "      <td>2020.0</td>\n",
       "      <td>2020</td>\n",
       "      <td>20190507</td>\n",
       "      <td>A0810005309993318</td>\n",
       "      <td>7MY-HD-24-31</td>\n",
       "      <td>4</td>\n",
       "      <td>POWER TRUCK</td>\n",
       "      <td>뉴파워트럭</td>\n",
       "      <td>화물</td>\n",
       "      <td>일반형-카고</td>\n",
       "      <td>대형</td>\n",
       "      <td>HD8CT-20ESHa-T6</td>\n",
       "      <td>경유</td>\n",
       "      <td>D6HC</td>\n",
       "      <td>16870.0</td>\n",
       "      <td>8740.0</td>\n",
       "    </tr>\n",
       "    <tr>\n",
       "      <th>3</th>\n",
       "      <td>KMFHA17GPJC028901-01</td>\n",
       "      <td>96어0349</td>\n",
       "      <td>KMFHA17GPJC028901</td>\n",
       "      <td>20180816</td>\n",
       "      <td>2018.0</td>\n",
       "      <td>2018</td>\n",
       "      <td>20180523</td>\n",
       "      <td>CN210001000003218</td>\n",
       "      <td>5MY-HD-24-59</td>\n",
       "      <td>4</td>\n",
       "      <td>ETC$</td>\n",
       "      <td>팔도2톤윙바디</td>\n",
       "      <td>화물</td>\n",
       "      <td>특수용도형-특수용도형</td>\n",
       "      <td>중형</td>\n",
       "      <td>PD2WB-HD2.5</td>\n",
       "      <td>경유</td>\n",
       "      <td>D4GB</td>\n",
       "      <td>6965.0</td>\n",
       "      <td>4770.0</td>\n",
       "    </tr>\n",
       "    <tr>\n",
       "      <th>4</th>\n",
       "      <td>JNCCWB5L0EAZ00516-01</td>\n",
       "      <td>충북80아5516</td>\n",
       "      <td>JNCCWB5L0EAZ00516</td>\n",
       "      <td>20141203</td>\n",
       "      <td>2014.0</td>\n",
       "      <td>2014</td>\n",
       "      <td>20140220</td>\n",
       "      <td>1120000000000000</td>\n",
       "      <td>CMY-VTK-14-02</td>\n",
       "      <td>4</td>\n",
       "      <td>VOLVO ETC$</td>\n",
       "      <td>Quon 6x4 카고트럭</td>\n",
       "      <td>화물</td>\n",
       "      <td>일반형-카고</td>\n",
       "      <td>대형</td>\n",
       "      <td>CWB5ELZHLS</td>\n",
       "      <td>경유</td>\n",
       "      <td>GH11</td>\n",
       "      <td>25990.0</td>\n",
       "      <td>13360.0</td>\n",
       "    </tr>\n",
       "  </tbody>\n",
       "</table>\n",
       "</div>"
      ],
      "text/plain": [
       "                 차량관리번호     차량등록번호               차대번호    최초등록일자    차대연식  차량연식  \\\n",
       "0  KMFDA18JPLC103992-01  경기95자3452  KMFDA18JPLC103992  20190517  2020.0  2020   \n",
       "1  KMFDA18JPLC103993-01  경기95자3443  KMFDA18JPLC103993  20190705  2020.0  2020   \n",
       "2  KMFDA18JPLC103994-01  경기95자2622  KMFDA18JPLC103994  20190614  2020.0  2020   \n",
       "3  KMFHA17GPJC028901-01    96어0349  KMFHA17GPJC028901  20180816  2018.0  2018   \n",
       "4  JNCCWB5L0EAZ00516-01  충북80아5516  JNCCWB5L0EAZ00516  20141203  2014.0  2014   \n",
       "\n",
       "     차량제작일자             제원관리번호       배출가스인증번호  배출가스등급         대표차명  \\\n",
       "0  20190507  A0810005309993318   7MY-HD-24-31       4  POWER TRUCK   \n",
       "1  20190509  A0810005309993318   7MY-HD-24-31       4  POWER TRUCK   \n",
       "2  20190507  A0810005309993318   7MY-HD-24-31       4  POWER TRUCK   \n",
       "3  20180523  CN210001000003218   5MY-HD-24-59       4         ETC$   \n",
       "4  20140220  1120000000000000   CMY-VTK-14-02       4   VOLVO ETC$   \n",
       "\n",
       "              차명 차종_제원정보         차종분류 차종유형            자동차형식  연료  엔진형식  \\\n",
       "0          뉴파워트럭      화물       일반형-카고   대형  HD8CT-20ESHa-T6  경유  D6HC   \n",
       "1          뉴파워트럭      화물       일반형-카고   대형  HD8CT-20ESHa-T6  경유  D6HC   \n",
       "2          뉴파워트럭      화물       일반형-카고   대형  HD8CT-20ESHa-T6  경유  D6HC   \n",
       "3        팔도2톤윙바디      화물  특수용도형-특수용도형   중형      PD2WB-HD2.5  경유  D4GB   \n",
       "4  Quon 6x4 카고트럭      화물       일반형-카고   대형       CWB5ELZHLS  경유  GH11   \n",
       "\n",
       "       총중량     공차중량  \n",
       "0  16870.0   8740.0  \n",
       "1  16870.0   8740.0  \n",
       "2  16870.0   8740.0  \n",
       "3   6965.0   4770.0  \n",
       "4  25990.0  13360.0  "
      ]
     },
     "execution_count": 68,
     "metadata": {},
     "output_type": "execute_result"
    }
   ],
   "source": [
    "df.iloc[:5, :20]"
   ]
  },
  {
   "cell_type": "code",
   "execution_count": 69,
   "metadata": {},
   "outputs": [
    {
     "data": {
      "text/html": [
       "<div>\n",
       "<style scoped>\n",
       "    .dataframe tbody tr th:only-of-type {\n",
       "        vertical-align: middle;\n",
       "    }\n",
       "\n",
       "    .dataframe tbody tr th {\n",
       "        vertical-align: top;\n",
       "    }\n",
       "\n",
       "    .dataframe thead th {\n",
       "        text-align: right;\n",
       "    }\n",
       "</style>\n",
       "<table border=\"1\" class=\"dataframe\">\n",
       "  <thead>\n",
       "    <tr style=\"text-align: right;\">\n",
       "      <th></th>\n",
       "      <th>적재중량</th>\n",
       "      <th>배기량</th>\n",
       "      <th>정원</th>\n",
       "      <th>길이</th>\n",
       "      <th>너비</th>\n",
       "      <th>높이</th>\n",
       "      <th>등급CODE</th>\n",
       "      <th>연료CODE</th>\n",
       "      <th>세부1</th>\n",
       "      <th>세부2</th>\n",
       "      <th>중량CODE</th>\n",
       "      <th>배기량CODE</th>\n",
       "      <th>연식CODE</th>\n",
       "      <th>GRADE</th>\n",
       "      <th>차종_자관</th>\n",
       "      <th>DPF</th>\n",
       "      <th>저공해</th>\n",
       "      <th>LEN</th>\n",
       "      <th>법정동코드</th>\n",
       "      <th>시도</th>\n",
       "    </tr>\n",
       "  </thead>\n",
       "  <tbody>\n",
       "    <tr>\n",
       "      <th>0</th>\n",
       "      <td>8000.0</td>\n",
       "      <td>9960.0</td>\n",
       "      <td>2.0</td>\n",
       "      <td>10530.0</td>\n",
       "      <td>2495.0</td>\n",
       "      <td>3140.0</td>\n",
       "      <td>4</td>\n",
       "      <td>D</td>\n",
       "      <td>M</td>\n",
       "      <td>A</td>\n",
       "      <td>1700</td>\n",
       "      <td>100</td>\n",
       "      <td>20</td>\n",
       "      <td>4DMA170010020</td>\n",
       "      <td>대형</td>\n",
       "      <td>NaN</td>\n",
       "      <td>NaN</td>\n",
       "      <td>17</td>\n",
       "      <td>4167011700</td>\n",
       "      <td>경기</td>\n",
       "    </tr>\n",
       "    <tr>\n",
       "      <th>1</th>\n",
       "      <td>8000.0</td>\n",
       "      <td>9960.0</td>\n",
       "      <td>2.0</td>\n",
       "      <td>10530.0</td>\n",
       "      <td>2495.0</td>\n",
       "      <td>3140.0</td>\n",
       "      <td>4</td>\n",
       "      <td>D</td>\n",
       "      <td>M</td>\n",
       "      <td>A</td>\n",
       "      <td>1700</td>\n",
       "      <td>100</td>\n",
       "      <td>20</td>\n",
       "      <td>4DMA170010020</td>\n",
       "      <td>대형</td>\n",
       "      <td>NaN</td>\n",
       "      <td>NaN</td>\n",
       "      <td>17</td>\n",
       "      <td>4167011700</td>\n",
       "      <td>경기</td>\n",
       "    </tr>\n",
       "    <tr>\n",
       "      <th>2</th>\n",
       "      <td>8000.0</td>\n",
       "      <td>9960.0</td>\n",
       "      <td>2.0</td>\n",
       "      <td>10530.0</td>\n",
       "      <td>2495.0</td>\n",
       "      <td>3140.0</td>\n",
       "      <td>4</td>\n",
       "      <td>D</td>\n",
       "      <td>M</td>\n",
       "      <td>A</td>\n",
       "      <td>1700</td>\n",
       "      <td>100</td>\n",
       "      <td>20</td>\n",
       "      <td>4DMA170010020</td>\n",
       "      <td>대형</td>\n",
       "      <td>NaN</td>\n",
       "      <td>NaN</td>\n",
       "      <td>17</td>\n",
       "      <td>4167011700</td>\n",
       "      <td>경기</td>\n",
       "    </tr>\n",
       "    <tr>\n",
       "      <th>3</th>\n",
       "      <td>2000.0</td>\n",
       "      <td>3933.0</td>\n",
       "      <td>3.0</td>\n",
       "      <td>7010.0</td>\n",
       "      <td>2370.0</td>\n",
       "      <td>3100.0</td>\n",
       "      <td>4</td>\n",
       "      <td>D</td>\n",
       "      <td>M</td>\n",
       "      <td>A</td>\n",
       "      <td>700</td>\n",
       "      <td>40</td>\n",
       "      <td>18</td>\n",
       "      <td>4DMA070004018</td>\n",
       "      <td>중형</td>\n",
       "      <td>유</td>\n",
       "      <td>NaN</td>\n",
       "      <td>17</td>\n",
       "      <td>4127310800</td>\n",
       "      <td>경기</td>\n",
       "    </tr>\n",
       "    <tr>\n",
       "      <th>4</th>\n",
       "      <td>14500.0</td>\n",
       "      <td>10837.0</td>\n",
       "      <td>2.0</td>\n",
       "      <td>12750.0</td>\n",
       "      <td>2495.0</td>\n",
       "      <td>3920.0</td>\n",
       "      <td>4</td>\n",
       "      <td>D</td>\n",
       "      <td>M</td>\n",
       "      <td>A</td>\n",
       "      <td>2600</td>\n",
       "      <td>110</td>\n",
       "      <td>14</td>\n",
       "      <td>4DMA260011014</td>\n",
       "      <td>대형</td>\n",
       "      <td>NaN</td>\n",
       "      <td>NaN</td>\n",
       "      <td>17</td>\n",
       "      <td>4311313800</td>\n",
       "      <td>충북</td>\n",
       "    </tr>\n",
       "  </tbody>\n",
       "</table>\n",
       "</div>"
      ],
      "text/plain": [
       "      적재중량      배기량   정원       길이      너비      높이 등급CODE 연료CODE 세부1 세부2  \\\n",
       "0   8000.0   9960.0  2.0  10530.0  2495.0  3140.0      4      D   M   A   \n",
       "1   8000.0   9960.0  2.0  10530.0  2495.0  3140.0      4      D   M   A   \n",
       "2   8000.0   9960.0  2.0  10530.0  2495.0  3140.0      4      D   M   A   \n",
       "3   2000.0   3933.0  3.0   7010.0  2370.0  3100.0      4      D   M   A   \n",
       "4  14500.0  10837.0  2.0  12750.0  2495.0  3920.0      4      D   M   A   \n",
       "\n",
       "   중량CODE  배기량CODE  연식CODE          GRADE 차종_자관  DPF  저공해  LEN       법정동코드  시도  \n",
       "0    1700      100      20  4DMA170010020    대형  NaN  NaN   17  4167011700  경기  \n",
       "1    1700      100      20  4DMA170010020    대형  NaN  NaN   17  4167011700  경기  \n",
       "2    1700      100      20  4DMA170010020    대형  NaN  NaN   17  4167011700  경기  \n",
       "3     700       40      18  4DMA070004018    중형    유  NaN   17  4127310800  경기  \n",
       "4    2600      110      14  4DMA260011014    대형  NaN  NaN   17  4311313800  충북  "
      ]
     },
     "execution_count": 69,
     "metadata": {},
     "output_type": "execute_result"
    }
   ],
   "source": [
    "df.iloc[:5, 20:40]"
   ]
  },
  {
   "cell_type": "code",
   "execution_count": 70,
   "metadata": {},
   "outputs": [
    {
     "data": {
      "text/html": [
       "<div>\n",
       "<style scoped>\n",
       "    .dataframe tbody tr th:only-of-type {\n",
       "        vertical-align: middle;\n",
       "    }\n",
       "\n",
       "    .dataframe tbody tr th {\n",
       "        vertical-align: top;\n",
       "    }\n",
       "\n",
       "    .dataframe thead th {\n",
       "        text-align: right;\n",
       "    }\n",
       "</style>\n",
       "<table border=\"1\" class=\"dataframe\">\n",
       "  <thead>\n",
       "    <tr style=\"text-align: right;\">\n",
       "      <th></th>\n",
       "      <th>시구군</th>\n",
       "      <th>시구군동읍면</th>\n",
       "      <th>DPF부착가능여부</th>\n",
       "      <th>WMI</th>\n",
       "    </tr>\n",
       "  </thead>\n",
       "  <tbody>\n",
       "    <tr>\n",
       "      <th>0</th>\n",
       "      <td>여주시</td>\n",
       "      <td>여주시 멱곡동</td>\n",
       "      <td>NaN</td>\n",
       "      <td>KMF</td>\n",
       "    </tr>\n",
       "    <tr>\n",
       "      <th>1</th>\n",
       "      <td>여주시</td>\n",
       "      <td>여주시 멱곡동</td>\n",
       "      <td>NaN</td>\n",
       "      <td>KMF</td>\n",
       "    </tr>\n",
       "    <tr>\n",
       "      <th>2</th>\n",
       "      <td>여주시</td>\n",
       "      <td>여주시 멱곡동</td>\n",
       "      <td>NaN</td>\n",
       "      <td>KMF</td>\n",
       "    </tr>\n",
       "    <tr>\n",
       "      <th>3</th>\n",
       "      <td>안산시</td>\n",
       "      <td>안산시 단원구 원곡동</td>\n",
       "      <td>NaN</td>\n",
       "      <td>KMF</td>\n",
       "    </tr>\n",
       "    <tr>\n",
       "      <th>4</th>\n",
       "      <td>청주시</td>\n",
       "      <td>청주시 흥덕구 비하동</td>\n",
       "      <td>NaN</td>\n",
       "      <td>JNC</td>\n",
       "    </tr>\n",
       "  </tbody>\n",
       "</table>\n",
       "</div>"
      ],
      "text/plain": [
       "   시구군       시구군동읍면  DPF부착가능여부  WMI\n",
       "0  여주시      여주시 멱곡동        NaN  KMF\n",
       "1  여주시      여주시 멱곡동        NaN  KMF\n",
       "2  여주시      여주시 멱곡동        NaN  KMF\n",
       "3  안산시  안산시 단원구 원곡동        NaN  KMF\n",
       "4  청주시  청주시 흥덕구 비하동        NaN  JNC"
      ]
     },
     "execution_count": 70,
     "metadata": {},
     "output_type": "execute_result"
    }
   ],
   "source": [
    "df.iloc[:5, 40:]"
   ]
  },
  {
   "cell_type": "code",
   "execution_count": 71,
   "metadata": {},
   "outputs": [
    {
     "data": {
      "text/plain": [
       "1.19511E+11          365\n",
       "1.19611E+11          187\n",
       "1.19213E+11          172\n",
       "1.19411E+11          139\n",
       "1.19711E+11          123\n",
       "                    ... \n",
       "KMFZSS7JP9U499825      1\n",
       "KMFZSS7JP9U499821      1\n",
       "KMFZSS7JP9U499813      1\n",
       "KMFZSS7JP9U499809      1\n",
       "KMHVA21JPMU017965      1\n",
       "Name: 차대번호, Length: 1640278, dtype: int64"
      ]
     },
     "execution_count": 71,
     "metadata": {},
     "output_type": "execute_result"
    }
   ],
   "source": [
    "df['차대번호'].value_counts(dropna=False)"
   ]
  },
  {
   "attachments": {},
   "cell_type": "markdown",
   "metadata": {},
   "source": [
    "## 1\\. DPF컬럼 확인"
   ]
  },
  {
   "cell_type": "code",
   "execution_count": 72,
   "metadata": {},
   "outputs": [
    {
     "data": {
      "text/plain": [
       "4    1642351\n",
       "Name: 배출가스등급, dtype: int64"
      ]
     },
     "execution_count": 72,
     "metadata": {},
     "output_type": "execute_result"
    }
   ],
   "source": [
    "df['배출가스등급'].value_counts(dropna=False)"
   ]
  },
  {
   "cell_type": "code",
   "execution_count": 83,
   "metadata": {},
   "outputs": [
    {
     "data": {
      "text/plain": [
       "NaN    1476326\n",
       "3종      166025\n",
       "Name: 저공해, dtype: int64"
      ]
     },
     "execution_count": 83,
     "metadata": {},
     "output_type": "execute_result"
    }
   ],
   "source": [
    "total['저공해'].value_counts(dropna=False)"
   ]
  },
  {
   "cell_type": "code",
   "execution_count": 82,
   "metadata": {},
   "outputs": [
    {
     "data": {
      "text/plain": [
       "(166025, 44)"
      ]
     },
     "execution_count": 82,
     "metadata": {},
     "output_type": "execute_result"
    }
   ],
   "source": [
    "total.loc[total['저공해'] == '3종'].shape"
   ]
  },
  {
   "cell_type": "code",
   "execution_count": 73,
   "metadata": {},
   "outputs": [
    {
     "data": {
      "text/plain": [
       "유      157784\n",
       "NaN      8241\n",
       "Name: DPF, dtype: int64"
      ]
     },
     "execution_count": 73,
     "metadata": {},
     "output_type": "execute_result"
    }
   ],
   "source": [
    "total.loc[total['저공해'] == '3종', 'DPF'].value_counts(dropna=False)"
   ]
  },
  {
   "cell_type": "code",
   "execution_count": 79,
   "metadata": {},
   "outputs": [
    {
     "data": {
      "text/plain": [
       "(129557, 44)"
      ]
     },
     "execution_count": 79,
     "metadata": {},
     "output_type": "execute_result"
    }
   ],
   "source": [
    "df.loc[(df['배출가스인증번호'].isnull() == True) & (df['DPF'].isnull() == True)].shape"
   ]
  },
  {
   "cell_type": "code",
   "execution_count": 84,
   "metadata": {},
   "outputs": [
    {
     "data": {
      "text/plain": [
       "무      734780\n",
       "NaN    564844\n",
       "유      342727\n",
       "Name: DPF, dtype: int64"
      ]
     },
     "execution_count": 84,
     "metadata": {},
     "output_type": "execute_result"
    }
   ],
   "source": [
    "# DPF 컬럼 빈값 개수\n",
    "    # 배출가스4등급차량_20220216 : 139,698\n",
    "    # 배출가스4등급차량2_20220216 : 425,146\n",
    "    # 총 : 564,844\n",
    "df['DPF'].value_counts(dropna=False)"
   ]
  },
  {
   "cell_type": "code",
   "execution_count": 85,
   "metadata": {},
   "outputs": [
    {
     "data": {
      "text/plain": [
       "무    1299624\n",
       "유     342727\n",
       "Name: DPF, dtype: int64"
      ]
     },
     "execution_count": 85,
     "metadata": {},
     "output_type": "execute_result"
    }
   ],
   "source": [
    "# DPF 빈값 -> '무'로 처리\n",
    "    # 무 : 1,299,624\n",
    "    # 유 : 342,727\n",
    "df['DPF'] = df['DPF'].fillna('무')\n",
    "df['DPF'].value_counts(dropna=False)"
   ]
  },
  {
   "cell_type": "code",
   "execution_count": 86,
   "metadata": {},
   "outputs": [
    {
     "data": {
      "text/plain": [
       "array([nan, '3종'], dtype=object)"
      ]
     },
     "execution_count": 86,
     "metadata": {},
     "output_type": "execute_result"
    }
   ],
   "source": [
    "df['저공해'].unique()"
   ]
  },
  {
   "attachments": {},
   "cell_type": "markdown",
   "metadata": {},
   "source": [
    "### [로드] euro4 인증대장"
   ]
  },
  {
   "cell_type": "code",
   "execution_count": 87,
   "metadata": {},
   "outputs": [],
   "source": [
    "euro = pd.read_excel(os.path.join('D:/data/big2', 'dpf.xlsx'))"
   ]
  },
  {
   "cell_type": "code",
   "execution_count": 88,
   "metadata": {},
   "outputs": [],
   "source": [
    "df1 = df.merge(euro, on='배출가스인증번호', how='left')"
   ]
  },
  {
   "cell_type": "code",
   "execution_count": 89,
   "metadata": {},
   "outputs": [
    {
     "data": {
      "text/plain": [
       "무      734780\n",
       "NaN    564840\n",
       "유      342731\n",
       "Name: DPF유무, dtype: int64"
      ]
     },
     "execution_count": 89,
     "metadata": {},
     "output_type": "execute_result"
    }
   ],
   "source": [
    "df1['DPF유무'].value_counts(dropna=False)"
   ]
  },
  {
   "cell_type": "code",
   "execution_count": 90,
   "metadata": {},
   "outputs": [
    {
     "data": {
      "text/plain": [
       "무    1299620\n",
       "유     342731\n",
       "Name: DPF유무, dtype: int64"
      ]
     },
     "execution_count": 90,
     "metadata": {},
     "output_type": "execute_result"
    }
   ],
   "source": [
    "df1['DPF유무'] = df1['DPF유무'].fillna('무')\n",
    "df1['DPF유무'].value_counts(dropna=False)"
   ]
  },
  {
   "attachments": {},
   "cell_type": "markdown",
   "metadata": {},
   "source": [
    "### [로드] 등록정보&제원정보"
   ]
  },
  {
   "cell_type": "code",
   "execution_count": 24,
   "metadata": {},
   "outputs": [],
   "source": [
    "ods_fold = 'D:/data/big2/ODS'"
   ]
  },
  {
   "cell_type": "code",
   "execution_count": 25,
   "metadata": {},
   "outputs": [
    {
     "name": "stderr",
     "output_type": "stream",
     "text": [
      "DtypeWarning: Columns (15,18,26,52,55,57) have mixed types. Specify dtype option on import or set low_memory=False.\n"
     ]
    },
    {
     "data": {
      "text/plain": [
       "Index(['차량관리번호', '차량등록번호', '본거지법정동코드', '소유자구분', '차종_등록정보', '용도', '미정1_x',\n",
       "       '현재회원번호', '미정2_x', '미정3_x', '차대번호', '최초등록일자', '차량연식', '차량제작일자',\n",
       "       '배출가스검사유효일자', '제원관리번호', '배출가스인증번호', '배출가스등급', '저공해조치YN(미사용)', '저공해조치종류',\n",
       "       '저공해조치구조변경YN', '미정4', '차량등록번호숫자정보', '차량말소YN', '미정5', '최초회원번호', '취득일자',\n",
       "       '취득금액', '미정6', '생성일시_등록정보', '수정일시_등록정보', '미정7', '차명', '차종_제원정보', '차종분류',\n",
       "       '차종유형(소분류)', '자동차형식', '제작사명', '연료', '엔진형식', '공차중량', '총중량', '적재중량',\n",
       "       '엔진출력', '배기량', '승차인원', '차량길이', '차량너비', '차량높이', '원산지명', '미정1_y', '삭제YN',\n",
       "       '승인일자', '구동형식', '변속기종류', '미정2_y', '생성일시_제원정보', '수정일시_제원정보', '미정3_y'],\n",
       "      dtype='object')"
      ]
     },
     "execution_count": 25,
     "metadata": {},
     "output_type": "execute_result"
    }
   ],
   "source": [
    "# about 11m 59s\n",
    "spc = pd.read_csv(os.path.join(ods_fold, '[ODS]등록정보_제원정보(말소제거)(2022.12.29).csv'), encoding='cp949')\n",
    "spc.columns"
   ]
  },
  {
   "cell_type": "code",
   "execution_count": 26,
   "metadata": {},
   "outputs": [
    {
     "data": {
      "text/plain": [
       "(25693532, 59)"
      ]
     },
     "execution_count": 26,
     "metadata": {},
     "output_type": "execute_result"
    }
   ],
   "source": [
    "spc.shape"
   ]
  },
  {
   "cell_type": "code",
   "execution_count": 27,
   "metadata": {},
   "outputs": [
    {
     "data": {
      "text/plain": [
       "(25693532, 49)"
      ]
     },
     "execution_count": 27,
     "metadata": {},
     "output_type": "execute_result"
    }
   ],
   "source": [
    "spc = spc[['차량관리번호', '차량등록번호', '본거지법정동코드', '소유자구분', '차종_등록정보', '용도', \n",
    "       '현재회원번호', '차대번호', '최초등록일자', '차량연식', '차량제작일자',\n",
    "       '배출가스검사유효일자', '제원관리번호', '배출가스인증번호', '배출가스등급', '저공해조치YN(미사용)', '저공해조치종류',\n",
    "       '저공해조치구조변경YN', '차량등록번호숫자정보', '차량말소YN', '최초회원번호', '취득일자',\n",
    "       '취득금액', '생성일시_등록정보', '수정일시_등록정보', '차명', '차종_제원정보', '차종분류',\n",
    "       '차종유형(소분류)', '자동차형식', '제작사명', '연료', '엔진형식', '공차중량', '총중량', '적재중량',\n",
    "       '엔진출력', '배기량', '승차인원', '차량길이', '차량너비', '차량높이', '원산지명','삭제YN',\n",
    "       '승인일자', '구동형식', '변속기종류', '생성일시_제원정보', '수정일시_제원정보', ]]\n",
    "spc.shape"
   ]
  },
  {
   "cell_type": "code",
   "execution_count": 28,
   "metadata": {},
   "outputs": [
    {
     "data": {
      "text/plain": [
       "array(['N'], dtype=object)"
      ]
     },
     "execution_count": 28,
     "metadata": {},
     "output_type": "execute_result"
    }
   ],
   "source": [
    "spc['차량말소YN'].unique()"
   ]
  },
  {
   "cell_type": "code",
   "execution_count": 29,
   "metadata": {},
   "outputs": [
    {
     "data": {
      "text/plain": [
       "array(['5', 'X', 'T5', '4', '3', 'T4', 'T3', '2', '1', 'T2'], dtype=object)"
      ]
     },
     "execution_count": 29,
     "metadata": {},
     "output_type": "execute_result"
    }
   ],
   "source": [
    "spc['배출가스등급'].unique()"
   ]
  },
  {
   "cell_type": "code",
   "execution_count": 30,
   "metadata": {},
   "outputs": [
    {
     "data": {
      "text/plain": [
       "(1511251, 49)"
      ]
     },
     "execution_count": 30,
     "metadata": {},
     "output_type": "execute_result"
    }
   ],
   "source": [
    "# 4등급 추출\n",
    "s4 = spc[(spc['배출가스등급'] == '4') | (spc['배출가스등급'] == 'T4')].reset_index(drop=True)\n",
    "s4.shape"
   ]
  },
  {
   "cell_type": "code",
   "execution_count": 31,
   "metadata": {},
   "outputs": [
    {
     "data": {
      "text/plain": [
       "(1511211, 49)"
      ]
     },
     "execution_count": 31,
     "metadata": {},
     "output_type": "execute_result"
    }
   ],
   "source": [
    "# 중복 차대번호 제거\n",
    "s4 = s4.sort_values(['최초등록일자', '배출가스검사유효일자'], ascending=False).drop_duplicates(subset='차대번호').reset_index(drop=True)\n",
    "s4.shape"
   ]
  },
  {
   "attachments": {},
   "cell_type": "markdown",
   "metadata": {},
   "source": [
    "### [로드] 저감장치 부착이력"
   ]
  },
  {
   "cell_type": "code",
   "execution_count": 33,
   "metadata": {},
   "outputs": [
    {
     "data": {
      "text/plain": [
       "(809255, 11)"
      ]
     },
     "execution_count": 33,
     "metadata": {},
     "output_type": "execute_result"
    }
   ],
   "source": [
    "dpf = pd.read_csv(os.path.join(ods_fold, '[ODS]저감장치부착이력(중복차대제거)(2022.12.29).csv'), encoding='cp949', low_memory=False)\n",
    "dpf.shape"
   ]
  },
  {
   "cell_type": "code",
   "execution_count": 35,
   "metadata": {},
   "outputs": [
    {
     "data": {
      "text/plain": [
       "Index(['저감장치종류', 'TDMS부착여부', '구조변경일자', '부착업체명', '부착일자', '탈거승인일', '차량번호',\n",
       "       '차대번호', '저감장치반납여부', '저감장치구분', '삼원촉매장치반납여부'],\n",
       "      dtype='object')"
      ]
     },
     "execution_count": 35,
     "metadata": {},
     "output_type": "execute_result"
    }
   ],
   "source": [
    "dpf.columns"
   ]
  },
  {
   "cell_type": "code",
   "execution_count": 36,
   "metadata": {},
   "outputs": [
    {
     "data": {
      "text/plain": [
       "(1511211, 59)"
      ]
     },
     "execution_count": 36,
     "metadata": {},
     "output_type": "execute_result"
    }
   ],
   "source": [
    "s4d = s4.merge(dpf, on='차대번호', how='left')\n",
    "s4d.shape"
   ]
  },
  {
   "cell_type": "code",
   "execution_count": 37,
   "metadata": {},
   "outputs": [
    {
     "data": {
      "text/plain": [
       "(1511211, 60)"
      ]
     },
     "execution_count": 37,
     "metadata": {},
     "output_type": "execute_result"
    }
   ],
   "source": [
    "s4de = s4d.merge(euro, on='배출가스인증번호', how='left')\n",
    "s4de.shape"
   ]
  },
  {
   "cell_type": "code",
   "execution_count": 38,
   "metadata": {},
   "outputs": [
    {
     "data": {
      "text/plain": [
       "무      686158\n",
       "NaN    518957\n",
       "유      306096\n",
       "Name: DPF유무, dtype: int64"
      ]
     },
     "execution_count": 38,
     "metadata": {},
     "output_type": "execute_result"
    }
   ],
   "source": [
    "s4de['DPF유무'].value_counts(dropna=False)"
   ]
  },
  {
   "cell_type": "code",
   "execution_count": 39,
   "metadata": {},
   "outputs": [
    {
     "data": {
      "text/plain": [
       "무    1205115\n",
       "유     306096\n",
       "Name: DPF유무, dtype: int64"
      ]
     },
     "execution_count": 39,
     "metadata": {},
     "output_type": "execute_result"
    }
   ],
   "source": [
    "s4de['DPF유무'] = s4de['DPF유무'].fillna('무')\n",
    "s4de['DPF유무'].value_counts(dropna=False)"
   ]
  },
  {
   "cell_type": "code",
   "execution_count": 58,
   "metadata": {},
   "outputs": [
    {
     "data": {
      "text/plain": [
       "차대번호              0\n",
       "배출가스인증번호     123700\n",
       "DPF유무             0\n",
       "저감장치구분      1511175\n",
       "dtype: int64"
      ]
     },
     "execution_count": 58,
     "metadata": {},
     "output_type": "execute_result"
    }
   ],
   "source": [
    "s4de[['차대번호','배출가스인증번호', 'DPF유무', '저감장치구분']].isnull().sum()"
   ]
  },
  {
   "cell_type": "code",
   "execution_count": 57,
   "metadata": {},
   "outputs": [
    {
     "data": {
      "text/plain": [
       "NaN       1511175\n",
       "1종             32\n",
       "2종              2\n",
       "1종+SCR          2\n",
       "Name: 저감장치구분, dtype: int64"
      ]
     },
     "execution_count": 57,
     "metadata": {},
     "output_type": "execute_result"
    }
   ],
   "source": [
    "s4de['저감장치구분'].value_counts(dropna=False)"
   ]
  },
  {
   "attachments": {},
   "cell_type": "markdown",
   "metadata": {},
   "source": [
    "## 2\\. 배출가스 인증번호와 DPF, 저공해 일치여부"
   ]
  },
  {
   "cell_type": "code",
   "execution_count": null,
   "metadata": {},
   "outputs": [],
   "source": [
    "# 배출가스인증번호와 저공해 불일치 7건\n",
    "# 5MY-AD-13-06, 5MY-HD-24-59, 5MY-PA-13-20, 5MY-SY-23-58, 6MY-AD-13-11, 6MY-BK-13-08, 6MY-HD-23-55"
   ]
  },
  {
   "cell_type": "code",
   "execution_count": 40,
   "metadata": {},
   "outputs": [
    {
     "data": {
      "text/plain": [
       "Index(['차량관리번호', '차량등록번호', '차대번호', '최초등록일자', '차대연식', '차량연식', '차량제작일자',\n",
       "       '제원관리번호', '배출가스인증번호', '배출가스등급', '대표차명', '차명', '차종_제원정보', '차종분류', '차종유형',\n",
       "       '자동차형식', '연료', '엔진형식', '총중량', '공차중량', '적재중량', '배기량', '정원', '길이', '너비',\n",
       "       '높이', '등급CODE', '연료CODE', '세부1', '세부2', '중량CODE', '배기량CODE', '연식CODE',\n",
       "       'GRADE', '차종_자관', 'DPF', '저공해', 'LEN', '법정동코드', '시도', '시구군', '시구군동읍면',\n",
       "       'DPF부착가능여부', 'WMI', 'DPF유무'],\n",
       "      dtype='object')"
      ]
     },
     "execution_count": 40,
     "metadata": {},
     "output_type": "execute_result"
    }
   ],
   "source": [
    "df1.columns"
   ]
  },
  {
   "cell_type": "code",
   "execution_count": 41,
   "metadata": {},
   "outputs": [
    {
     "data": {
      "text/plain": [
       "차대번호              0\n",
       "배출가스인증번호     129557\n",
       "세부1               0\n",
       "DPF               0\n",
       "저공해         1476326\n",
       "dtype: int64"
      ]
     },
     "execution_count": 41,
     "metadata": {},
     "output_type": "execute_result"
    }
   ],
   "source": [
    "df1[['차대번호','배출가스인증번호', '세부1', 'DPF', '저공해']].isnull().sum()"
   ]
  },
  {
   "cell_type": "code",
   "execution_count": 44,
   "metadata": {},
   "outputs": [
    {
     "data": {
      "text/plain": [
       "1.19511E+11          365\n",
       "1.19611E+11          187\n",
       "1.19213E+11          172\n",
       "1.19411E+11          139\n",
       "1.19711E+11          123\n",
       "                    ... \n",
       "KMFZSS7JP9U499825      1\n",
       "KMFZSS7JP9U499821      1\n",
       "KMFZSS7JP9U499813      1\n",
       "KMFZSS7JP9U499809      1\n",
       "KMHVA21JPMU017965      1\n",
       "Name: 차대번호, Length: 1640278, dtype: int64"
      ]
     },
     "execution_count": 44,
     "metadata": {},
     "output_type": "execute_result"
    }
   ],
   "source": [
    "df1['차대번호'].value_counts()"
   ]
  },
  {
   "cell_type": "code",
   "execution_count": 94,
   "metadata": {},
   "outputs": [
    {
     "data": {
      "text/plain": [
       "M    1291384\n",
       "P     350967\n",
       "Name: 세부1, dtype: int64"
      ]
     },
     "execution_count": 94,
     "metadata": {},
     "output_type": "execute_result"
    }
   ],
   "source": [
    "df['세부1'].value_counts(dropna=False)"
   ]
  },
  {
   "cell_type": "code",
   "execution_count": 42,
   "metadata": {},
   "outputs": [],
   "source": [
    "df1['배출가스인증번호'] = df1['배출가스인증번호'].astype('str')\n",
    "df1['저공해'] = df1['저공해'].astype('str')"
   ]
  },
  {
   "cell_type": "code",
   "execution_count": 45,
   "metadata": {},
   "outputs": [
    {
     "data": {
      "text/plain": [
       "배출가스인증번호      세부1  DPF  저공해\n",
       "3MY-FK-08     M    무    nan      1082\n",
       "4MY-AD-20     M    무    nan        45\n",
       "4MY-DC-33     M    무    nan         7\n",
       "4MY-PA-06     M    무    nan        16\n",
       "5MY-AD-13-06  M    무    nan         1\n",
       "                                ...  \n",
       "XMY-HD-48     M    무    nan       493\n",
       "XMY-HD-55     M    무    nan      3015\n",
       "XMY-KM-47     M    무    nan      4275\n",
       "YKM-KM-12     M    무    nan        79\n",
       "nan           M    무    nan    129557\n",
       "Name: 차대번호, Length: 313, dtype: int64"
      ]
     },
     "execution_count": 45,
     "metadata": {},
     "output_type": "execute_result"
    }
   ],
   "source": [
    "df1.groupby(['배출가스인증번호', '세부1', 'DPF', '저공해'])['차대번호'].count()"
   ]
  },
  {
   "attachments": {},
   "cell_type": "markdown",
   "metadata": {},
   "source": [
    "### [출력] [통계]배출가스인증번호, 세부1, DPF, 저공해 별 차대번호 개수"
   ]
  },
  {
   "cell_type": "code",
   "execution_count": 47,
   "metadata": {},
   "outputs": [],
   "source": [
    "df1.groupby(['배출가스인증번호', '세부1', 'DPF', '저공해'])['차대번호'].count().to_excel('analysis2/DPF현행화/[통계]배출가스인증번호_세부1_DPF_저공해별.xlsx')"
   ]
  },
  {
   "attachments": {},
   "cell_type": "markdown",
   "metadata": {},
   "source": [
    "### 불일치 7건 차량 찾기"
   ]
  },
  {
   "cell_type": "code",
   "execution_count": 95,
   "metadata": {},
   "outputs": [
    {
     "name": "stdout",
     "output_type": "stream",
     "text": [
      "(483, 45)\n",
      "(1, 45)\n",
      "(34865, 45)\n",
      "(1, 45)\n",
      "(2, 45)\n",
      "(13, 45)\n",
      "(147, 45)\n",
      "(6, 45)\n",
      "(564, 45)\n",
      "(2, 45)\n",
      "(877, 45)\n",
      "(104, 45)\n",
      "(16, 45)\n",
      "(2131, 45)\n"
     ]
    },
    {
     "data": {
      "text/plain": [
       "(39212, 45)"
      ]
     },
     "execution_count": 95,
     "metadata": {},
     "output_type": "execute_result"
    }
   ],
   "source": [
    "# 배출가스인증번호와 저공해 불일치 7건\n",
    "# 5MY-AD-13-06, 5MY-HD-24-59, 5MY-PA-13-20, 5MY-SY-23-58, 6MY-AD-13-11, 6MY-BK-13-08, 6MY-HD-23-55\n",
    "lst = ['5MY-AD-13-06', '5MY-HD-24-59', '5MY-PA-13-20', '5MY-SY-23-58', '6MY-AD-13-11', '6MY-BK-13-08', '6MY-HD-23-55']\n",
    "result2 = pd.DataFrame()\n",
    "for one in lst:\n",
    "    for a in ['P', 'M']:\n",
    "        temp = df1[(df1['배출가스인증번호'] == one) & (df1['세부1'] == a)].reset_index(drop=True)\n",
    "        result2 = pd.concat([result2, temp], ignore_index=True)\n",
    "        print(temp.shape)\n",
    "result2.shape"
   ]
  },
  {
   "attachments": {},
   "cell_type": "markdown",
   "metadata": {},
   "source": [
    "#### [출력] 불일치 7건 차량 정보"
   ]
  },
  {
   "cell_type": "code",
   "execution_count": 91,
   "metadata": {},
   "outputs": [],
   "source": [
    "# about \n",
    "result2.to_excel('analysis2/DPF현행화/[샘플]불일치_차량.xlsx', index=False)"
   ]
  },
  {
   "attachments": {},
   "cell_type": "markdown",
   "metadata": {},
   "source": [
    "### 등록&제원정보에서 동일한 배출가스인증번호 찾기"
   ]
  },
  {
   "attachments": {},
   "cell_type": "markdown",
   "metadata": {},
   "source": [
    "#### [출력] 배출가스인증번호별 등록&제원 차량 샘플"
   ]
  },
  {
   "cell_type": "code",
   "execution_count": 104,
   "metadata": {},
   "outputs": [
    {
     "name": "stdout",
     "output_type": "stream",
     "text": [
      "배출가스인증번호 : 5MY-AD-13-06\n",
      "(378, 60)\n",
      "배출가스인증번호 : 5MY-HD-24-59\n",
      "(29250, 60)\n",
      "배출가스인증번호 : 5MY-PA-13-20\n",
      "(15, 60)\n",
      "배출가스인증번호 : 5MY-SY-23-58\n",
      "(139, 60)\n",
      "배출가스인증번호 : 6MY-AD-13-11\n",
      "(511, 60)\n",
      "배출가스인증번호 : 6MY-BK-13-08\n",
      "(914, 60)\n",
      "배출가스인증번호 : 6MY-HD-23-55\n",
      "(2110, 60)\n"
     ]
    }
   ],
   "source": [
    "car_name = pd.DataFrame()\n",
    "for one in lst:\n",
    "    temp = s4de[(s4de['배출가스인증번호'] == one)].reset_index(drop=True)\n",
    "    temp.to_excel(f'analysis2/DPF현행화/[샘플][등록&제원]불일치_차량_{one}.xlsx', index=False)\n",
    "    print(f'배출가스인증번호 : {one}')\n",
    "    print(temp.shape)"
   ]
  },
  {
   "attachments": {},
   "cell_type": "markdown",
   "metadata": {},
   "source": [
    "#### 배출가스인증번호별 자동차형식, 차명 unique"
   ]
  },
  {
   "cell_type": "code",
   "execution_count": 105,
   "metadata": {},
   "outputs": [
    {
     "name": "stdout",
     "output_type": "stream",
     "text": [
      "배출가스인증번호 : 5MY-AD-13-06, \n",
      "자동차형식(1 개) : ['3D']\n",
      "차명(2 개) : ['Phaeton 3.0 TDI' '폭스바겐 Phaeton 3.0 TDI']\n",
      "(378, 60)\n",
      "\n",
      "배출가스인증번호 : 5MY-HD-24-59, \n",
      "자동차형식(35 개) : ['JM-BB5MSFR4FVAF6-3' 'PN31' 'JM-3VAF7-1' 'JM-2VAF7-1'\n",
      " 'JM-BB5MSFR2FVAF6-3' 'JM-1VAF7-1' 'PD2WB-HD2.5' 'PE11' 'VU31' 'NC6XBB-T'\n",
      " 'JM-BB5MSFR1FVAF6-3' '245 208' 'JM-4VAF7-1' 'JM-2VNF7-1' 'JM-0VAF7-1'\n",
      " 'JM-4VNF7-1' 'JM-3VNF7-1' 'JM-3VNA7-1' 'JM-2VNA7-1' 'JM-4VNA7-1'\n",
      " 'JM-1VNA7-1' '6E' 'JM-5VAF7-5' 'JM-BB5MSFR3FVAF6-3' 'JM-BB5MSFR0FVAF6-3'\n",
      " 'JM-1VNF7-1' 'JM-BB5MSFR4FVNA6-3' 'JM-BB5MSFR4FVNF6-3'\n",
      " 'JM-BB5MSFR2FVNF6-3' 'JM-BB5MSFR3FVNA6-3' 'JM-BB5MSFR3FVNF6-3'\n",
      " 'JM-BB5MSFS5FJMF6-5' 'JM-BB5MSFR2FVNA6-3' 'JM-BB5MSFR1FVNA6-3'\n",
      " 'JM-BB5MSFR0FJAF6-1']\n",
      "차명(8 개) : ['투싼(TUCSON)' 'BMW 320d Touring' '팔도2톤윙바디' 'BMW X3 2.0d' 'BMW 320D'\n",
      " '맥스크루즈 (MAXCRUZ)' '벤츠 B200 CDI' '푸조 407SW HDi FAP A6']\n",
      "(29250, 60)\n",
      "\n",
      "배출가스인증번호 : 5MY-PA-13-20, \n",
      "자동차형식(1 개) : ['C71']\n",
      "차명(1 개) : ['볼보 XC90D5']\n",
      "(15, 60)\n",
      "\n",
      "배출가스인증번호 : 5MY-SY-23-58, \n",
      "자동차형식(4 개) : ['RX 270' 'X5 3.0d' 'R7DPDP-115' 'R7DFDP-016']\n",
      "차명(2 개) : ['렉스턴' 'BMW X5 3.0d']\n",
      "(139, 60)\n",
      "\n",
      "배출가스인증번호 : 6MY-AD-13-11, \n",
      "자동차형식(1 개) : ['4L']\n",
      "차명(2 개) : ['아우디Q7 3.0 TDI' 'Q7 3.0 TDI Quattro']\n",
      "(511, 60)\n",
      "\n",
      "배출가스인증번호 : 6MY-BK-13-08, \n",
      "자동차형식(1 개) : ['X5 3.0d']\n",
      "차명(1 개) : ['BMW X5 3.0d']\n",
      "(914, 60)\n",
      "\n",
      "배출가스인증번호 : 6MY-HD-23-55, \n",
      "자동차형식(410 개) : ['HD5CT-8LGd-Z1' 'HD5CT-8EGd-Z' 'HKFV-HD4.5-E4' 'HP-360' 'HLC53-HD5'\n",
      " 'BW-TECHD5' 'HCP7GP4.5-H' 'WSMLH506' 'DLC56-TS' 'HCP5G-H' 'NOVA-S350-HSX'\n",
      " 'K7C1-8PD-H5EU' 'SJTPH502' 'AM5RFG-RA-1' 'DLC66-TS' 'KTH-N5UUL'\n",
      " 'HSS-LC407' 'FS-50T' 'HCP5GP-H' 'WFM-R23-H05S8' 'PE700-H9AO'\n",
      " 'KH-KN1204EX-5HD5395' 'K4.5C1-8PD-H4.5EU' 'KTA7T-HD5D2' 'KTA5T-HD5C2'\n",
      " 'KM7.5PD-H4.5EUG8-1' 'WFJ-22M-H05D8' 'KTA4.5P-HD4.5D2' 'DJ08-5T-7.8KLWL'\n",
      " 'FTP8DB-H050MA-1' 'K4.5C2-8TD-H4.5EU' 'FP-051' 'YB-2009TY-HD5'\n",
      " 'MST-MMSV-H5' 'HCP4.5GP5-H' 'HG4.5CT9-H4.5U74' 'FTP8DB-H050MA-2'\n",
      " 'KTA4.5T-HD4.5D2' 'KTA5P-HD5D2' 'BCC-5LP' 'WC-8000LR' 'TKRS-050SD'\n",
      " 'KTA5DV-T-HD5D2' 'KM-S75' 'SH4.5THD-KPL-E4' 'FP-052J' 'BW-HD5BC'\n",
      " 'K5C1-8PD-H5EU' 'HCP7.5CL5-H' 'K5C1-8PD-H5EE' 'D5H9' 'K7C1-8TD-H5EU'\n",
      " 'KM4.5T-H4.5EUG8-1' 'KTH-N7.5UUL74' 'DH130HLBF501' 'KB-5.0KL-E4895'\n",
      " 'JBH-5LLP' 'BS750VC' 'KM7.0PD-H5.0EUG8-1' 'WFJ-P28-H05C8' 'DA-MSVHD5'\n",
      " 'HG4.5CP8-H4.5SD8' 'KK-W5TH-250' 'JBH-4.5LLP' 'JBH-4.5LLCT'\n",
      " 'KTH-N4.5UULT7.4' 'K6.5C1-8PD-H4.5EU' 'HGHDBF502' 'SI-155E'\n",
      " 'WY5P-8EUGd-Z1' 'KTA5T-HD5D2' 'KCH0549CS-2' 'SMG-700A' 'JBH-7.5LP1'\n",
      " 'KM7.5PD-H5.0EG8-1' 'HG6.5CP9-H5U7' 'HCT4.5GP-H' 'SKGB-2105'\n",
      " 'KMT-4.5TC-KW4.5L3' 'HCT4.5CL-H' 'DJ08-5T-10KLTL' 'KTA7.5P-HD5D2'\n",
      " 'HCP4.5GP-H' 'ESM-M14RH5T' 'SAMO7KL-W' 'K4.5C1-8TD-H4.5EE'\n",
      " 'KMP 4.5TC-KW4.5L' 'DJ08-5T-9.8KLTL' 'K4.5C1-8TD-H4.5EU' 'KTH-N5UUL74'\n",
      " 'KTA5P-HD5B2' 'AM051-8RP-H1' 'SAMO9KL' 'DYRP050-08A' 'KEH0538KSH145M'\n",
      " 'FTP8DB-H050AA-2' 'SNCP08-05HD-Z2' 'JHC0801-H05A-2' 'KM5.0PD-H5.0EPG8-1'\n",
      " 'HGHDFC502' 'KTH-N4.5UL' 'FV7.6SM-H08' 'BW-HD5BS' 'WFJ-P18-H05D8-A'\n",
      " 'FP-052' 'MST-MLBC-H5' 'WFJ-C25-H05D8' 'FTA1D-H050A-2' 'SCS-335H050-08'\n",
      " 'D5LC8' 'KFT10-34CF-5HA' 'IHD3-H5HD' 'HG4.5CP9-H4.5U74' 'SJTPHTA501'\n",
      " 'SR-5100' 'KM4.5T-H4.5EG8-1' 'WC-8000LS' 'DYPP050-08' 'HKFV-HD4.5-02E4'\n",
      " 'KTH-N5UULT74' 'KM4.5PD-H4.5EUG8-1' 'MST-EMT-H5' 'WSMLH505' 'D5HA8'\n",
      " 'HBSV-BW057' 'JWVL-75HVLK' 'ECKH7.4-TLE' 'CF50D4-MH' 'HBSV-FS063'\n",
      " 'RS05GA2' 'FMH-4.5LLCP' 'KTA7.5P-HD5A1' 'KEH-W5UULT74' 'PP050T-H08B'\n",
      " 'SH4.5PHD-KPL-E4' 'KHSU-SM280' 'MST-SNGV-H5' 'KTH-N5UL' 'HCP4.5G-H'\n",
      " 'JBH-7.5LP3' 'AM5RFG-EB-1' 'HCT5GP-H' 'AM051-8RP-H2' 'HBSV-FS062'\n",
      " 'K7.5C1-8PD-H5E' 'K7.5C1-8PD-H4.5NE' 'WFJ-P20-H05C8' 'HCT4.5GPR5-H'\n",
      " 'DH138HLBF501' 'SNFC08-05HD-Z2' 'HG7CP8-H4.5U7' 'HKFV-HD4.5-01E4'\n",
      " 'K7.5C1-8PD-H5EE' 'HG4.5RP8-H4.5U74' 'FMH-4.5LCP' 'HCT4.5GA-H'\n",
      " 'KCH0549C-7' 'KTH-N7.5UUL' 'KTH-N5LT' 'KTA4.5P-HD4.5C2' 'K5C1-8TD-H5EU'\n",
      " 'KTH-N7.5L' 'EPU-AM3FH5T' 'WY4.5P-8EUGd-Z2' 'KTA5T-HD5B2' 'DY10LTL-H5SM2'\n",
      " 'KTH-NW5UUL7.4' 'TLS-08HMSD' 'HG4.5CP8-H4.5U7' 'DYFG050-08A'\n",
      " 'KM4.5PD-H4.5EPG8-1' 'DHFC503' 'KTH-N4.5UUL' 'HCP5CL-H' 'SAMO10KL-H-1'\n",
      " 'KTA4.5P-HD4.5B2' 'JBH-7LLP' 'SAMO8KL-BC' 'KTH-N4.5ULT-1660' 'SKY-N5A3'\n",
      " 'HCP4.5GA-H' 'JBH-4.5LP1' 'K5C1-8PD-H5E' 'AM071-8RP-H4' 'HCP4.5GPR-H'\n",
      " 'HSS-LC350' 'K6C1-8TD-H4.5EU' 'KTA4.5T-HD4.5B2' 'SH5RTHD-KPL-E4'\n",
      " 'KTH-N4.5UUL7.4' 'FMH-4.5LCT' 'AM051-8RP-H3' 'CF50D4-AH' 'JBH-7.5LP'\n",
      " 'KTA5P-HD5C2' 'JBH-5LP1' 'HBSV-FS061' 'HG6.5CP9-H5S6' 'HG6.5CP9-H5U74'\n",
      " 'KAB-TP-050HP6-A' 'WFJ-C16-H05D8-A' 'K8000-H8A2' 'TLS-10H8MSD'\n",
      " 'WSP-4.5CL-HD4' 'FMH-5LLCP' 'KTA7.5P-HD5C2' 'HCP4.5C-H' 'HSH-4.5LLCP'\n",
      " 'SBH-4.5CAP-U4' 'RS05GA3' 'KTH-N7UL' 'KTA6.5P-HD5B2' 'KTA6.5T-HD5B2'\n",
      " 'HGHDBF501' 'KTH-N5ULT' 'KTA7CT-HD5D2' 'HCP7GP5-H' 'WFJ-P15-H05D8'\n",
      " 'SWPA-45-8EPGd' 'HBSV-RS050' 'WFJ-P14-H05C8-A' 'FC070T-H08F'\n",
      " 'KTH-N4.5UL-1660' 'JBH-4.5LP2' 'DY8HTL-H5SM2' 'SJTPHTA501-C'\n",
      " 'EWA-AL36FH5T' 'HJ-SVT-H4.5' 'KM-K75D' 'KM7.5PD-H5.0EPG8-1'\n",
      " 'KTA4.5T-HD4.5A2' 'SWPA-45-8EUGd' 'K7C1-8TD-H5E' 'DHSL-5SL3'\n",
      " 'KTA4.5T-HD4.5C1' 'HBSV-VL041' 'HCP7.5G5-H' 'KM5.0PD-H5.0EG8-1'\n",
      " 'K4.5C3-7PD-H4.5E' 'TRI024-A' '5TMG-ST01' 'K5.5RF2-7TD-H5EU' 'FMH-5LCP'\n",
      " 'DHSL-5SL2' 'ECKH5.0-CAP' 'KCH0549CS-3' 'SJTPH501-C' 'EPU-M3FH5T'\n",
      " 'KM4.5PD-H4.5EG8-1' 'KAB-TP-050HUD-2' '5TMG-OP01' 'K6C2-7PD-H5EU'\n",
      " 'HBSV-FS059' 'IHD3-H5T2T05' 'KM5.0PD-H5.0EUG8-1' 'KTA6.5P-HD5D1'\n",
      " 'KTA5T-HD5C1' 'KTH-N5UUL-AUTO' 'JBH-5LP' 'KTA7P-HD5B1' 'HG4.5CP9-H4.5S6'\n",
      " 'WKH-7.5UWPP-U4Z' 'SW503L-08GA' 'SNRP08-05HD-Z2' 'SH7PHD-KPL-E4'\n",
      " 'KTH-N5UULT' 'FMH-4.5LCP2' 'K5C2-7PD-H5EU' 'D5H8' 'KTH-4.5-5UUL7.4'\n",
      " 'ERE-AM3FH5T' 'KTA4.5T-HD4.5D1' 'HCP5J-H' 'HCP8CL5-H' 'KTH-N4.5L-1660'\n",
      " 'HG6.5CP8-H5U7' 'K4.5C2-7TD-H4.5EU' 'KAB-TP-050HUS-2' 'HG4.5WT8-H5U74'\n",
      " 'K6.5C1-8PD-H4.5EE' 'K5.1WD1-8TD-H5EU' 'AM7RFG-RA-1' 'WYT7.0CT-8EUGD-Z1'\n",
      " 'KK-AR5TH-250' 'ECKH7.4-PAE' 'KJM5.0ML-HSL' 'JWTL-98HTLA' 'HBSV-FS057'\n",
      " 'SNRP08-05HDF-Z2' 'TKWS-050RB-A01' 'TNT6KL-H5S' 'HG6CP874-H5U'\n",
      " 'K5C2-7PD-H5EE' 'HCT5CL-H' 'KTA5P-HD5B1' 'K4.5C2-7TD-H4.5E'\n",
      " 'KM4.5TW-H4.5EUG8' 'KCH0549C-6' 'TKP-5CL-HD' 'CF50D3-AH' 'IHD3-H5T2T04'\n",
      " 'AM051-8PP-H1' 'KTA4.5P-HD4.5D1' 'SAMO8KL' 'K6.5C2-7PD-H5E'\n",
      " 'HG4.5CT874-H4.5U' 'TKP-5CU-HD' 'HG6CT874-H5U' 'KM5.0T-H5.0EUG8'\n",
      " 'SAMO10KL-H' 'SNVC-065HD-Z2' 'TKP-4.5CU-HD' 'RS07GMS2' 'K6C2-7PD-H4.5EU'\n",
      " 'ISSVS-08-SL02' 'RS05GA1' 'KTA4.5P-HD4.5C1' 'KTA4.5P-HD4.5B1'\n",
      " 'WFJ-P07-H05D8-A' 'PP050T-H08A' 'K5C2-7TD-H4.5EE' 'HCT5CW-H'\n",
      " 'AM5RFG-DB-1' 'FMH-5LCP1' 'SW5-303L-08GA' 'TKT-4.5WU-HD' 'HCT4.5C-H'\n",
      " 'KTA5T-HD5B1' 'KTH-5UUL74-E4' 'SW503S-08GA' 'KTA5T-HD5D1' 'SNAR08-05HDL'\n",
      " 'WS050T-H08' 'SKY-N5A2' 'TKP-5CX-HD' 'TKP-4.5CX-HD' 'KM-K65D'\n",
      " 'AM051-8CP-H1' 'KTA5P-HD5C1' 'SKY-N4B1' 'KCH0549C-5' 'KTA5P-HD5D1'\n",
      " 'DYRP050-08' 'JBH-4.5SP1' 'KAB-TP-050HP8' 'HG095HPP-GA' 'RS07GMS1'\n",
      " 'AND5MT' 'FMH-7LCP' 'BCC-5LLP' 'TKT-5CX-HD' 'KTH-5UUL-E4'\n",
      " 'KTH-5UULT74-E4' 'KTH-4.5UL-1660' 'KTA4.5T-HD4.5B1' 'CS-4.5CTT-5695E4'\n",
      " 'TKP-6CU-HD' 'WC-8000LP' 'KTH-4.5ULL-E4' 'K4.5C2-7PD-H4.5E'\n",
      " 'KM4.5T-H4.5EPG8' 'KM4.5PD-H4.5EUG8' 'WC-8000LN' 'SNRP08-05HD97M'\n",
      " 'SNRP08-05HD81M' 'KM4.5T-H4.5EG8' 'DJ08-5T-7KLWS' 'KTH-5UL-E4'\n",
      " 'DYFG050-08' 'KM5.0PD-H5.0EUG8' 'KTH-4.5UUL-E4' 'WYHD4.5CT-8EUGd-P'\n",
      " 'KJM5.0ML-BW1' 'KAB-TP-050HP7' 'KTH-4.5ULT-E4' 'KTH-7UL-E4'\n",
      " 'HD4.5CT-8EPGd-Z1' 'KM6.0PD-H5.0EUG8' 'FC070T-H08' 'SNCP08-05HD'\n",
      " 'ISSVS-08-SL01' 'KTH-7UUL-E4' 'FMH-5LLCP1' 'KTH-R5UUL74-E4'\n",
      " 'WKH-4.5UWPP-U4Z' 'FMH-4.5LLCP1' 'ECKH5.0-CAE' 'K7C1-8PD-H5L'\n",
      " 'DHSL-4.5SL4' 'KM5.0PD-H5.0EG8' 'KMP 6TC-KW5L' 'AM050-8PP-H1'\n",
      " 'WFJ-P02-H05D8-A' 'KM5.0T-H5.0EG8' 'KM4.5PD-H4.5EPG8' 'KTH-7UUL74-E4'\n",
      " 'KK-T5TH-250' 'KTH-7L-E4' 'JBH-6LLP' 'HG5CT8-H5S8' 'KTH-4.5UL-E4'\n",
      " 'FMH-5LCT' 'FMH-4.5LLCT' 'KM-S65' 'HSS-LLC350' 'KM7.0P-H5.0EG8'\n",
      " 'HCT4.5GPW-H' 'JBH-4.5LP' 'FMH-5LLCT' 'WYHD5CT-8EUGd-P']\n",
      "차명(260 개) : ['메가트럭' '해광활어운반차' '전진직진식고소작업차' '하나53m급 이삿짐 사다리차' '이동과학교실차' '함코7톤트럭'\n",
      " '우성밀크로리' '드림 사다리차' '함코 5톤 트럭' '스카이점보고소작업차' '한국특장기술트럭' '선진차량운송트럭'\n",
      " '에이엠회전형음식물쓰레기수거차' '드림사다리차' '토미초장축플러스메가트럭' '한신울트라고소작업차' '후쏘차량수송트럭'\n",
      " '함코5톤 트럭' '우리소방이동정비차' '호룡엘리카사다리차' '광림히아브크레인집게차' '한국쓰리축극카고트럭'\n",
      " '한국쓰리축5톤플러스카고트럭' '한국메리트7.5톤트럭' '우리사다리소방펌프자동차' '한국쓰리축4.5톤극카고트럭'\n",
      " '대지7.8KL급수차' '화이어텍소방펌프차' '한국특장기술4.5톤트럭' '전진소방펌프자동차' '유비타워가선원목집재차'\n",
      " '미래이동급식차' '함코4.5톤 트럭' '한쓰4.5톤극플러스트럭' '한국쓰리축5톤극카고트럭' '부성5톤극초장축카고트럭'\n",
      " '원천8000L경질유탱크로리' '태경노면청소차' '한국쓰리축내장탑차' '강남사료운반차' '새한4.5톤카고트럭' '방원HD방송중계차'\n",
      " '함코 7.5톤 트럭' '대경 음식물 쓰레기차' '한국특장기술7톤트럭' '한국메리트4.5톤트럭' '토미초장축플러스74메가트럭'\n",
      " '두성사료운반트럭' '계백복함식진공하수구준설차' '정부5톤플러스카고트럭' '베스텍7500버큠로리' '한국메리트7.0톤트럭'\n",
      " '우리소방펌프자동차' '동아이동무대차량' '한쓰4.5톤초장축트럭' '금강5KL급수차' '정부4.5톤플러스카고트럭'\n",
      " '토미초장축플러스7.4카고' '한특사료운반트럭' '전진직진식활선고소작업차' '우양특장5톤트럭' '광림직진식크레인트럭'\n",
      " '고려특장사료운반차' '정부7.5톤초장축카고트럭' '한쓰6.5톤플러스트럭' '신광이동발전차' '건민4.5톤플러스트럭'\n",
      " '함코4.5톤트럭' '대지 10KL탱크로리' '이엔쓰리배연소방차' '삼오7KL활어수송차' '건민4.5톤 뉴카고트럭'\n",
      " '대지 9.8KL탱크로리' '토미초장축플러스74' '한국쓰리축5톤카고트럭' '에이엠압착식진개차' '삼오9KL탱크로리'\n",
      " '동양압착진개차' '광림절연고소작업차' '삼능신압착진개트럭' '소방펌프자동차' '한국메리트5.0톤트럭' '한특음식물쓰레기수거트럭'\n",
      " '토미 초장축 카고' '화인7.6㎘버큠로리' '방원이동급식차' '전진소방펌프소방차' '미래대형방송중계차' '우리화학소방펌프자동차'\n",
      " '화이어텍다목적소방펌프차' '수산고소작업차' '대경압축진개차' 'NYKFT화학소방차' '일성차량운반트럭' '에스알경찰방송차'\n",
      " '동양압축진개차' '토미5톤 초장축플러스 74' '미래긴급구호물자운송차량' '대경메가암롤트럭' '한빛음식물용기세척차'\n",
      " '정우7.5KL 버큠로리' '골드밴3축카고' '부커셰링노면청소차' '한빛음식물수거차' '신정4㎥급진공노면청소차'\n",
      " '포멕4.5톤플러스카고트럭' '한국쓰리축장축카고트럭' '대한통운5톤초장축플러스윙바디' '대양압축진개차' '고호5톤고소작업차'\n",
      " '미래대형SNG중계차' '토미초장축카고' '정부7.5톤장축카고트럭' '에이엠음식물쓰레기수거차' '한국특장기술7.5톤트럭'\n",
      " '함코4.5톤냉동탑차' '삼능음식물쓰레기수거트럭' '한쓰7톤플러스트럭' '한쓰냉동탑트럭' '포멕4.5톤극초장축카고트럭'\n",
      " '광림굴절식크레인트럭' '토미장축플러스카고' '한국쓰리축4.5톤플러스카고트럭' '토미장축카고' '이엔쓰리펌프소방차'\n",
      " '우양특장4.5톤트럭' '동양10KL탱크로리' '토미초장축플러스7.4 윙바디' '탱크8KL경질유탱크로리' '한쓰4.5톤플러스트럭'\n",
      " '동양음식물수거차' '대특음식물쓰레기수거차' '토미초장축 플러스 카고' '삼오10KL탱크로리' '한국쓰리축4.5톤카고트럭'\n",
      " '정부7톤플러스카고트럭' '삼오8KL중질유탱크로리' '토미초장축 카고' '호룡스카이 고소작업차' '정부4.5톤초장축카고트럭'\n",
      " '함코4.5톤냉동탑자' '한신35고소작업차' '한국특장기술6톤트럭' '새한냉동탑차' '포멕4.5톤 극초장축카고트럭'\n",
      " '부커세링노면청소차' '정부7.5톤극초장축카고트럭' '정부5톤초장축카고트럭' '한쓰6.5톤초장축트럭' '한차5톤차량운송트럭'\n",
      " '호룡엘리카 사다리차' '탱크10KL경질유탱크로리' '대원왓슨4.5톤초장축카고트럭' '포멕5톤플러스카고트럭'\n",
      " '한국쓰리축플러스카고트럭' '한국4.5톤플러스카고트럭' '서보4.5톤메가트럭6.25' '한국쓰리축카고트럭' '한국쓰리축콘테이너트럭'\n",
      " '삼우4.5톤초장축카고트럭' '한빛노면청소차' '대양음식물쓰레기수거차' '토미장축 카고' '정부4.5톤장축카고트럭'\n",
      " '동양8KL탱크로리' '이엔쓰리물탱크소방차' '형제특장가축수송차량' '강남7.5톤카고트럭' '한국쓰리축4.5톤장축카고트럭'\n",
      " '삼우4.5톤 메가트럭' '대흥특장셀프로더' '한국쓰리축4.5톤 플러스카고트럭' '한빛진공흡입청소차' '함코7.5톤트럭'\n",
      " '세인고소작업차' 'KJM차량운반트럭' '한국특장기술냉동탑차' '포멕5톤극초장축카고트럭' '골드밴7톤3축카고트럭'\n",
      " '광림 직진식크레인 트럭' '토미5톤초장축플러스' '정부5톤극초장축카고트럭' '한국쓰리축 초장축카고트럭' '코리아7.5톤카고트럭'\n",
      " '수성슈퍼렉커' '삼능압착진개트럭' '새한7톤카고트럭' '토미초장축플러스카고' '포멕4.5톤초장축카고트럭' '대경음식물쓰레기차'\n",
      " '이엔쓰리장비운반차' '한국쓰리축4.5톤 극카고트럭' '함코8톤트럭' '토미 장축 카고' '한쓰중형윙바디트럭' '한국특장기술윙바디'\n",
      " '우양특장중형트럭' '금강10㎥암롤트럭' 'KJM세이프티로더' '정우9.8KL 경질유 탱크로리' '한빛 음식물 수거차'\n",
      " '하나53m급 이삿짐사다리차' '태경살수차' '티엔티유조탱크로리' '한쓰6톤극플러스트럭' '함코5톤트럭'\n",
      " '한국쓰리축5톤 초장축카고트럭' '한국메리트4.5톤윙바디트럭' '탱크5톤초장축카고트럭' '에이엠압축식진개차' '삼오8KL탱크로리'\n",
      " '탱크5톤울트라카고트럭' '삼오10KL유조차' '삼능버큠로리' '탱크4.5톤울트라카고트럭' '신정4㎥급진공노면총소차'\n",
      " '한국쓰리축4.5톤 초장축카고트럭' '함코5톤윙바디트럭' '포멕5톤초장축카고트럭' '탱크4.5톤윙바디트럭'\n",
      " '한국쓰리축5톤초장축카고트럭' '수성단축렉커' '삼능장축암롤트럭' '대양살수차' '탱크 5톤극초장축카고트럭'\n",
      " '탱크4.5톤극초장축카고트럭' '강남6.5톤카고트럭' '에이엠신압착식진개차' '한국쓰리축5톤 플러스카고트럭' '한특압측진개차'\n",
      " '신정4㎥급 진공노면청소차' '에이엔디20피트콘테이너트럭' '포멕7톤장축카고트럭' '부성5톤플러스카고트럭'\n",
      " '탱크5톤극초장축카고트럭' '토미메가트럭' '카써스4.5톤카고트럭' '탱크6톤울트라카고트럭' '원천8000L중질유탱크로리'\n",
      " '토미장축플러스메가트럭' '삼능메가트럭압착진개차' '대지7KL살수차' '토미초장축메가트럭' '동양음식물 수거차'\n",
      " '토미4.5톤초장축플러스카고트럭' 'KJM렉커' '한국메리트6.0톤트럭' '삼우4.5톤메가트럭' '토미초장축74냉동탑차'\n",
      " '코리아4.5톤카고트럭' '서보4.5톤 메가트럭7.4' '골드밴파워3축카고' '건민6톤 뉴카고트럭' '금강 9㎘ 탱크로리'\n",
      " '토미장축메가트럭' '정부6톤플러스카고트럭' '한쓰5톤장축트럭' '한신35 고소작업차' '함코4.5톤 윙바디트럭'\n",
      " '정부4.5톤극초장축카고트럭']\n",
      "(2110, 60)\n",
      "\n"
     ]
    }
   ],
   "source": [
    "# 배출가스인증번호별 자동차형식, 차명 unique\n",
    "car_name = pd.DataFrame()\n",
    "for one in lst:\n",
    "    temp = s4de[(s4de['배출가스인증번호'] == one)].reset_index(drop=True)\n",
    "    car_type = temp['자동차형식'].unique()\n",
    "    car_nm = temp['차명'].unique()\n",
    "    print(f'배출가스인증번호 : {one}, ')\n",
    "    print(f'자동차형식({len(car_type)} 개) : {car_type}')\n",
    "    print(f'차명({len(car_nm)} 개) : {car_nm}')\n",
    "    print(temp.shape)\n",
    "    print()"
   ]
  },
  {
   "attachments": {},
   "cell_type": "markdown",
   "metadata": {},
   "source": [
    "#### [출력] 배출가스인증번호별 자동차형식, 차명 unique"
   ]
  },
  {
   "cell_type": "code",
   "execution_count": 128,
   "metadata": {},
   "outputs": [],
   "source": [
    "# 배출가스인증번호별 자동차형식, 차명 unique\n",
    "\n",
    "with pd.ExcelWriter('analysis2/DPF현행화/[샘플][등록&제원]배출가스인증번호별_자동차형식_차명.xlsx') as writer:\n",
    "    for one in lst:\n",
    "        temp = s4de.loc[(s4de['배출가스인증번호'] == one)]\n",
    "        car_type = temp['자동차형식'].unique()\n",
    "        car_nm = temp['차명'].unique()\n",
    "        temp_df = pd.concat([pd.Series(car_type), pd.Series(car_nm)], axis=1)\n",
    "        temp_df.columns = ['자동차형식', '차명']\n",
    "        temp_df.to_excel(writer, index=False, sheet_name=f'{one}')"
   ]
  },
  {
   "attachments": {},
   "cell_type": "markdown",
   "metadata": {},
   "source": [
    "### 요청데이터에서 자동차형식, 차명 찾기"
   ]
  },
  {
   "cell_type": "code",
   "execution_count": 109,
   "metadata": {},
   "outputs": [
    {
     "data": {
      "text/plain": [
       "Index(['차량관리번호', '차량등록번호', '차대번호', '최초등록일자', '차대연식', '차량연식', '차량제작일자',\n",
       "       '제원관리번호', '배출가스인증번호', '배출가스등급', '대표차명', '차명', '차종_제원정보', '차종분류', '차종유형',\n",
       "       '자동차형식', '연료', '엔진형식', '총중량', '공차중량', '적재중량', '배기량', '정원', '길이', '너비',\n",
       "       '높이', '등급CODE', '연료CODE', '세부1', '세부2', '중량CODE', '배기량CODE', '연식CODE',\n",
       "       'GRADE', '차종_자관', 'DPF', '저공해', 'LEN', '법정동코드', '시도', '시구군', '시구군동읍면',\n",
       "       'DPF부착가능여부', 'WMI'],\n",
       "      dtype='object')"
      ]
     },
     "execution_count": 109,
     "metadata": {},
     "output_type": "execute_result"
    }
   ],
   "source": [
    "total.columns"
   ]
  },
  {
   "cell_type": "code",
   "execution_count": 106,
   "metadata": {},
   "outputs": [
    {
     "data": {
      "text/plain": [
       "Index(['차량관리번호', '차량등록번호', '본거지법정동코드', '소유자구분', '차종_등록정보', '용도', '현재회원번호',\n",
       "       '차대번호', '최초등록일자', '차량연식', '차량제작일자', '배출가스검사유효일자', '제원관리번호', '배출가스인증번호',\n",
       "       '배출가스등급', '저공해조치YN(미사용)', '저공해조치종류', '저공해조치구조변경YN', '차량등록번호숫자정보',\n",
       "       '차량말소YN', '최초회원번호', '취득일자', '취득금액', '생성일시_등록정보', '수정일시_등록정보', '차명',\n",
       "       '차종_제원정보', '차종분류', '차종유형(소분류)', '자동차형식', '제작사명', '연료', '엔진형식', '공차중량',\n",
       "       '총중량', '적재중량', '엔진출력', '배기량', '승차인원', '차량길이', '차량너비', '차량높이', '원산지명',\n",
       "       '삭제YN', '승인일자', '구동형식', '변속기종류', '생성일시_제원정보', '수정일시_제원정보', '저감장치종류',\n",
       "       'TDMS부착여부', '구조변경일자', '부착업체명', '부착일자', '탈거승인일', '차량번호', '저감장치반납여부',\n",
       "       '저감장치구분', '삼원촉매장치반납여부', 'DPF유무'],\n",
       "      dtype='object')"
      ]
     },
     "execution_count": 106,
     "metadata": {},
     "output_type": "execute_result"
    }
   ],
   "source": [
    "s4de.columns"
   ]
  },
  {
   "cell_type": "code",
   "execution_count": 121,
   "metadata": {},
   "outputs": [
    {
     "name": "stdout",
     "output_type": "stream",
     "text": [
      "배출가스인증번호 : 5MY-AD-13-06, 세부1 : P\n",
      "자동차형식( 1 개) : ['3D']\n",
      "차명( 2 개) : ['Phaeton 3.0 TDI' '폭스바겐 Phaeton 3.0 TDI']\n",
      "\n",
      "배출가스인증번호 : 5MY-AD-13-06, 세부1 : M\n",
      "자동차형식( 1 개) : ['3D']\n",
      "차명( 1 개) : ['Phaeton 3.0 TDI']\n",
      "\n",
      "배출가스인증번호 : 5MY-HD-24-59, 세부1 : P\n",
      "자동차형식( 33 개) : ['JM-4VAF7-1' 'JM-4VNF7-1' 'JM-2VAF7-1' 'JM-3VAF7-1' 'JM-4VNA7-1'\n",
      " 'JM-1VAF7-1' 'JM-2VNF7-1' 'JM-3VNA7-1' 'JM-BB5MSFR3FVAF6-3' 'JM-3VNF7-1'\n",
      " 'JM-2VNA7-1' 'JM-5VAF7-5' 'PE11' 'PN31' '245 208' 'JM-1VNF7-1'\n",
      " 'JM-0VAF7-1' 'JM-1VNA7-1' 'JM-BB5MSFR2FVAF6-3' 'JM-BB5MSFR3FVNF6-3'\n",
      " 'JM-BB5MSFR2FVNF6-3' 'JM-BB5MSFR1FVAF6-3' 'JM-BB5MSFR3FVNA6-3'\n",
      " 'JM-BB5MSFR4FVNF6-3' 'JM-BB5MSFR0FVAF6-3' 'JM-BB5MSFR2FVNA6-3'\n",
      " 'JM-BB5MSFR1FVNA6-3' 'JM-BB5MSFR4FVAF6-3' '6E' 'VU31'\n",
      " 'JM-BB5MSFR4FVNA6-3' 'JM-BB5MSFS5FJMF6-5' 'NC6XBB-T']\n",
      "차명( 7 개) : ['투싼(TUCSON)' 'BMW X3 2.0d' 'BMW 320d Touring' '벤츠 B200 CDI'\n",
      " '푸조 407SW HDi FAP A6' 'BMW 320D' '맥스크루즈 (MAXCRUZ)']\n",
      "\n",
      "배출가스인증번호 : 5MY-HD-24-59, 세부1 : M\n",
      "자동차형식( 1 개) : ['PD2WB-HD2.5']\n",
      "차명( 1 개) : ['팔도2톤윙바디']\n",
      "\n",
      "배출가스인증번호 : 5MY-PA-13-20, 세부1 : P\n",
      "자동차형식( 1 개) : ['C71']\n",
      "차명( 1 개) : ['볼보 XC90D5']\n",
      "\n",
      "배출가스인증번호 : 5MY-PA-13-20, 세부1 : M\n",
      "자동차형식( 1 개) : ['C71']\n",
      "차명( 1 개) : ['볼보 XC90D5']\n",
      "\n",
      "배출가스인증번호 : 5MY-SY-23-58, 세부1 : P\n",
      "자동차형식( 2 개) : ['R7DFDP-016' 'R7DPDP-115']\n",
      "차명( 1 개) : ['렉스턴']\n",
      "\n",
      "배출가스인증번호 : 5MY-SY-23-58, 세부1 : M\n",
      "자동차형식( 4 개) : ['X5 3.0d' 'R7DFDP-016' 'RX 270' 'R7DPDP-115']\n",
      "차명( 2 개) : ['BMW X5 3.0d' '렉스턴']\n",
      "\n",
      "배출가스인증번호 : 6MY-AD-13-11, 세부1 : P\n",
      "자동차형식( 1 개) : ['4L']\n",
      "차명( 1 개) : ['Q7 3.0 TDI Quattro']\n",
      "\n",
      "배출가스인증번호 : 6MY-AD-13-11, 세부1 : M\n",
      "자동차형식( 1 개) : ['4L']\n",
      "차명( 2 개) : ['Q7 3.0 TDI Quattro' '아우디Q7 3.0 TDI']\n",
      "\n",
      "배출가스인증번호 : 6MY-BK-13-08, 세부1 : P\n",
      "자동차형식( 1 개) : ['X5 3.0d']\n",
      "차명( 1 개) : ['BMW X5 3.0d']\n",
      "\n",
      "배출가스인증번호 : 6MY-BK-13-08, 세부1 : M\n",
      "자동차형식( 1 개) : ['X5 3.0d']\n",
      "차명( 1 개) : ['BMW X5 3.0d']\n",
      "\n",
      "배출가스인증번호 : 6MY-HD-23-55, 세부1 : P\n",
      "자동차형식( 10 개) : ['HCP4.5GP-H' 'PP050T-H08A' 'KM7.5PD-H5.0EG8-1' 'HCP7.5CL5-H'\n",
      " 'FV7.6SM-H08' 'K6C2-7PD-H4.5EU' 'SJTPH502' 'DJ08-5T-9.8KLTL' 'HGHDBF502'\n",
      " 'HSS-LC407']\n",
      "차명( 10 개) : ['함코4.5톤트럭' '대양압축진개차' '한국메리트7.5톤트럭' '함코 7.5톤 트럭' '화인7.6㎘버큠로리' '한국특장기술트럭'\n",
      " '선진차량운송트럭' '대지 9.8KL탱크로리' '한특사료운반트럭' '한신울트라고소작업차']\n",
      "\n",
      "배출가스인증번호 : 6MY-HD-23-55, 세부1 : M\n",
      "자동차형식( 413 개) : ['HCP5GP-H' 'KTA4.5T-HD4.5D1' 'DHFC503' 'KTA7.5P-HD5D2' 'HCP7GP5-H'\n",
      " 'HCP5G-H' 'HG4.5CP9-H4.5U74' 'K5C1-8PD-H5EU' 'KTA5T-HD5D2'\n",
      " 'DJ08-5T-9.8KLTL' 'K8000-H8A2' 'HCP4.5GP-H' 'KM5.0PD-H5.0EUG8'\n",
      " 'KTA5T-HD5B1' 'KTH-5UUL74-E4' 'FMH-4.5LCP2' 'KTH-5UUL-E4'\n",
      " 'KM7.5PD-H5.0EPG8-1' 'CS-4.5CTT-5695E4' 'HCP4.5G-H' 'ECKH7.4-PAE'\n",
      " 'IHD3-H5T2T04' 'KJM5.0ML-HSL' 'K4.5C2-7PD-H4.5E' 'KTH-4.5ULL-E4'\n",
      " 'HG6CP874-H5U' 'K6C2-7PD-H5EU' 'KTA5P-HD5D1' 'SWPA-45-8EUGd'\n",
      " 'KTA6.5P-HD5D1' 'FMH-4.5LCP' 'KTA4.5P-HD4.5C1' 'AND5MT' 'KTH-5UL-E4'\n",
      " 'KTA4.5P-HD4.5D1' 'HCT4.5GP-H' 'K5C2-7PD-H5EU' 'KTH-5UULT74-E4'\n",
      " 'HGHDBF501' 'PP050T-H08A' 'WC-8000LN' 'SNRP08-05HD97M' 'SNRP08-05HD81M'\n",
      " 'KTA5P-HD5B1' 'WFJ-P07-H05D8-A' 'ERE-AM3FH5T' 'WFM-R23-H05S8'\n",
      " 'EPU-AM3FH5T' 'KFT10-34CF-5HA' 'KM4.5PD-H4.5EPG8' 'KTH-4.5ULT-E4'\n",
      " 'KM5.0PD-H5.0EG8' 'K4.5C2-7TD-H4.5EU' 'KCH0549C-5' 'EPU-M3FH5T'\n",
      " 'WFJ-P15-H05D8' 'RS05GA3' 'SI-155E' 'KTH-N5UUL' 'KTH-N5UULT74'\n",
      " 'HBSV-FS057' 'K5C2-7PD-H5EE' 'K5C2-7TD-H4.5EE' 'BCC-5LP' 'FMH-5LLCP1'\n",
      " 'WYHD4.5CT-8EUGd-P' 'KM6.0PD-H5.0EUG8' 'HBSV-FS059' 'SJTPHTA501'\n",
      " 'WYT7.0CT-8EUGD-Z1' 'K4.5C1-8PD-H4.5EU' 'KCH0549CS-2' 'K4.5C1-8TD-H4.5EU'\n",
      " 'HD4.5CT-8EPGd-Z1' 'SW503L-08GA' 'KTA5T-HD5D1' 'FMH-4.5LLCP1'\n",
      " 'KTH-4.5UL-E4' 'KTH-4.5UUL-E4' 'KTH-N5UUL74' 'SNRP08-05HDF-Z2'\n",
      " 'KTA5P-HD5D2' 'KTH-N5UL' 'TKP-5CU-HD' 'JBH-4.5LP1' 'HCT4.5C-H'\n",
      " 'KJM5.0ML-BW1' 'SPW34-C' 'JBH-5LP' 'HG5CT8-H5S8' 'HD5CT-8EGd-Z'\n",
      " 'K4.5C2-7TD-H4.5E' 'KM-K65D' 'HCT4.5CL-H' 'KTA4.5P-HD4.5B1'\n",
      " 'KM4.5PD-H4.5EUG8' 'KTA4.5T-HD4.5C1' 'K5.5RF2-7TD-H5EU' 'HKFV-HD4.5-01E4'\n",
      " 'HP-360' 'K6C2-7PD-H4.5EU' 'KTA5P-HD5C1' 'KTA4.5T-HD4.5B1' 'JBH-4.5SP1'\n",
      " 'KM-S65' 'HCT5CW-H' 'K7C1-8PD-H5EU' 'SAMO10KL-H' 'SAMO8KL' 'DYRP050-08A'\n",
      " 'AM5RFG-RA-1' 'KM7.0PD-H5.0EUG8-1' 'KTH-N7.5L' 'JBH-7LLP' 'HG6.5CP8-H5U7'\n",
      " 'TKT-5CX-HD' 'DYRP050-08' 'WKH-4.5UWPP-U4Z' 'DH138HLBF501' 'KTH-7UUL-E4'\n",
      " 'SH4.5THD-KPL-E4' 'ECKH7.4-TLE' 'KTA7P-HD5B1' 'WFJ-P02-H05D8-A'\n",
      " 'ESM-M14RH5T' 'RS07GMS1' 'HKFV-HD4.5-E4' 'FMH-4.5LLCT' 'KTA4.5T-HD4.5D2'\n",
      " 'KTA4.5P-HD4.5C2' 'KTA7CT-HD5D2' 'SJTPH501-C' 'AM051-8RP-H3' 'HBSV-RS050'\n",
      " 'CF50D3-AH' 'AM051-8PP-H1' 'FMH-7LCP' 'TKP-6CU-HD' 'HCT5GP-H'\n",
      " 'HSS-LLC350' 'KTH-7UUL74-E4' 'FMH-5LLCT' 'FMH-5LCT' 'HCT4.5GPW-H'\n",
      " 'KM7.0P-H5.0EG8' 'JBH-4.5LP' 'KM7.5PD-H5.0EG8-1' 'HCP8CL5-H'\n",
      " 'AM051-8CP-H1' 'AM051-8RP-H1' 'WFM-001-H05S8' 'DYPP050-08' 'KTH-7UL-E4'\n",
      " 'HCP5CL-H' 'BS750VC' 'JBH-4.5LLP' 'JBH-7.5LP' 'KTH-N4.5UL-1660'\n",
      " 'FMH-4.5LLCP' 'KTH-4.5UL-1660' 'KEH0538KSH145M' 'DYFG050-08' 'SJTPH502'\n",
      " 'SKY-N4B1' 'HSS-LC350' 'KM4.5T-H4.5EPG8' 'SH5RTHD-KPL-E4' 'JBH-7.5LP1'\n",
      " 'K7.5C1-8PD-H5EE' 'TKP-4.5CU-HD' 'AM051-8RP-H2' 'DJ08-5T-7KLWS'\n",
      " 'KAB-TP-050HP7' 'ECKH5.0-CAP' 'RS05GA1' 'AM5RFG-DB-1' 'KM4.5T-H4.5EG8'\n",
      " 'SNAR08-05HDL' 'KK-T5TH-250' 'KCH0549C-7' 'TRI024-A' 'TNT6KL-H5S'\n",
      " 'KTA5P-HD5C2' 'SNCP08-05HD-Z2' 'SJTPHTA501-C' 'KTH-N7.5UUL74'\n",
      " 'KM5.0T-H5.0EUG8' 'KM-S75' 'WC-8000LP' 'SKY-N5A3' 'HG4.5CT874-H4.5U'\n",
      " 'SNVC-065HD-Z2' 'SKY-N5A2' 'K4.5C3-7PD-H4.5E' 'ISSVS-08-SL01'\n",
      " 'KAB-TP-050HP8' 'KTH-7L-E4' 'HLC53-HD5' 'FC070T-H08' 'HSS-LC407'\n",
      " 'DLC56-TS' 'KM4.5PD-H4.5EUG8-1' 'HGHDBF502' 'DYFG050-08A' 'JBH-5LLP'\n",
      " 'FMH-5LLCP' 'AM7RFG-RA-1' 'RS07GMS2' 'TKP-5CX-HD' 'FMH-5LCP1'\n",
      " 'KTH-N4.5UULT7.4' 'JBH-6LLP' 'DHSL-4.5SL4' 'FMH-5LCP' 'HG6CT874-H5U'\n",
      " 'KM5.0PD-H5.0EG8-1' 'TKWS-050RB-A01' 'KM4.5TW-H4.5EUG8' 'KTH-N4.5UUL7.4'\n",
      " 'HG6.5CP9-H5U74' 'HCP4.5C-H' 'KTH-N4.5ULT-1660' 'KAB-TP-050HP6-A'\n",
      " 'WC-8000LS' 'AM071-8RP-H4' 'BCC-5LLP' 'SW503S-08GA' 'NOVA-S350-HSX'\n",
      " 'KTH-N4.5UUL' 'KM5.0T-H5.0EG8' 'KTA5T-HD5C1' 'K7C1-8PD-H5L'\n",
      " 'SBH-4.5CAP-U4' 'IHD3-H5T2T05' 'KEH-W5UULT74' 'KCH0549CS-3'\n",
      " 'SNRP08-05HD-Z2' 'PP050T-H08B' 'D5H8' 'KTH-N7UL' 'KMT-4.5TC-KW4.5L3'\n",
      " 'KTA4.5T-HD4.5B2' 'KM5.0PD-H5.0EPG8-1' 'TKT-4.5WU-HD' 'SAMO8KL-BC'\n",
      " 'KTA7.5P-HD5A1' 'K6.5C2-7PD-H5E' 'KMP 6TC-KW5L' 'HG095HPP-GA'\n",
      " 'ISSVS-08-SL02' 'KM5.0PD-H5.0EUG8-1' 'KCH0549C-6' 'SNCP08-05HD'\n",
      " 'AM050-8PP-H1' 'SW5-303L-08GA' 'TKP-4.5CX-HD' 'JBH-5LP1'\n",
      " 'KAB-TP-050HUS-2' 'WS050T-H08' 'HG4.5CP8-H4.5SD8' 'KTH-R5UUL74-E4'\n",
      " 'WYHD5CT-8EUGd-P' 'ECKH5.0-CAE' 'K5C1-8PD-H5EE' 'WC-8000LR' 'BW-HD5BS'\n",
      " 'CF50D4-MH' 'WFJ-P18-H05D8-A' 'KAB-TP-050HUD-2' 'HBSV-VL041'\n",
      " 'KK-AR5TH-250' 'K6.5C1-8PD-H4.5EU' 'SKGB-2105' 'KTA4.5P-HD4.5D2'\n",
      " 'HCP4.5GA-H' 'AM5RFG-EB-1' 'KH-KN1204EX-5HD5395' 'KM4.5T-H4.5EUG8-1'\n",
      " 'JBH-7.5LP3' 'TKP-5CL-HD' 'KTA7.5P-HD5C2' 'K5C1-8TD-H5EU' 'KTH-N7.5UUL'\n",
      " 'WY5P-8EUGd-Z1' 'HBSV-FS062' 'CF50D4-AH' 'FTP8DB-H050AA-2' 'FP-051'\n",
      " 'RS05GA2' 'DL28PFFH1' 'K7.5C1-8PD-H5E' 'KTA5P-HD5B2' 'KTH-N5ULT'\n",
      " '5TMG-ST01' '5TMG-OP01' 'KTH-N4.5L-1660' 'HCP7.5CL5-H' 'KTA4.5P-HD4.5B2'\n",
      " 'KM4.5PD-H4.5EG8-1' 'HSH-4.5LLCP' 'BW-HD5BC' 'K7.5C1-8PD-H4.5NE'\n",
      " 'HG4.5CT9-H4.5U74' 'HG4.5RP8-H4.5U74' 'K4.5C2-8TD-H4.5EU'\n",
      " 'WY4.5P-8EUGd-Z2' 'HG7CP8-H4.5U7' 'HCT4.5GPR5-H' 'WSMLH505'\n",
      " 'HG4.5WT8-H5U74' 'HCP4.5GP5-H' 'WSMLH506' 'FS-50T' 'SR-5100' 'HBSV-FS063'\n",
      " 'IHD3-H5HD' 'SAMO10KL-H-1' 'KTA5T-HD5B2' 'HCT5CL-H' 'KM-K75D'\n",
      " 'KM4.5T-H4.5EG8-1' 'SMG-700A' 'HG4.5CP8-H4.5U7' 'KM4.5PD-H4.5EPG8-1'\n",
      " 'KM7.5PD-H4.5EUG8-1' 'HCP7.5G5-H' 'MST-SNGV-H5' 'FC070T-H08F'\n",
      " 'JWTL-98HTLA' 'KTA6.5T-HD5B2' 'DLC66-TS' 'K7C1-8TD-H5EU' 'FMH-4.5LCT'\n",
      " 'KB-5.0KL-E4895' 'PE700-H9AO' 'K5C1-8PD-H5E' 'K7C1-8TD-H5E' 'FV7.6SM-H08'\n",
      " 'HCP4.5GPR-H' 'SAMO7KL-W' 'KTA5DV-T-HD5D2' 'KTH-N4.5UL'\n",
      " 'K4.5C1-8TD-H4.5EE' 'JBH-4.5LLCT' 'WFJ-22M-H05D8' 'MST-MLBC-H5'\n",
      " 'KK-W5TH-250' 'HGHDFC502' 'KTA6.5P-HD5B2' 'WKH-7.5UWPP-U4Z' 'MST-EMT-H5'\n",
      " 'K6C1-8TD-H4.5EU' 'FTA1D-H050A-2' 'KTA4.5T-HD4.5A2' 'TLS-10H8MSD'\n",
      " 'JBH-4.5LP2' 'DH130HLBF501' 'HCP5J-H' 'FTP8DB-H050MA-1' 'JHC0801-H05A-2'\n",
      " 'WFJ-P20-H05C8' 'WFJ-C25-H05D8' 'FP-052J' 'KHSU-SM280' 'SCS-335H050-08'\n",
      " 'BW-TECHD5' 'KMP 4.5TC-KW4.5L' 'SH7PHD-KPL-E4' 'HG6.5CP9-H5U7'\n",
      " 'KTA7T-HD5D2' 'K5.1WD1-8TD-H5EU' 'KTH-4.5-5UUL7.4' 'KTA5T-HD5C2' 'D5HA8'\n",
      " 'FP-052' 'FTP8DB-H050MA-2' 'WSP-4.5CL-HD4' 'WFJ-P14-H05C8-A'\n",
      " 'EWA-AL36FH5T' 'WFJ-C16-H05D8-A' 'KTH-N5UUL-AUTO' 'KTH-N5UULT'\n",
      " 'SWPA-45-8EPGd' 'HG6.5CP9-H5S6' 'KTH-N5LT' 'SNFC08-05HD-Z2' 'JWVL-75HVLK'\n",
      " 'D5H9' 'HBSV-BW057' 'YB-2009TY-HD5' 'SAMO9KL' 'HD5CT-8LGd-Z1' 'DA-MSVHD5'\n",
      " 'HKFV-HD4.5-02E4' 'D5LC8' 'DY8HTL-H5SM2' 'HCT4.5GA-H' 'HJ-SVT-H4.5'\n",
      " 'K6.5C1-8PD-H4.5EE' 'WFJ-P28-H05C8' 'HBSV-FS061' 'TLS-08HMSD'\n",
      " 'DJ08-5T-7.8KLWL' 'DY10LTL-H5SM2' 'DJ08-5T-10KLTL' 'TKRS-050SD'\n",
      " 'SH4.5PHD-KPL-E4' 'HCP7GP4.5-H' 'HG4.5CP9-H4.5S6' 'MST-MMSV-H5'\n",
      " 'DHSL-5SL2' 'DHSL-5SL3' 'KTH-NW5UUL7.4']\n",
      "차명( 262 개) : ['함코5톤트럭' '한국쓰리축4.5톤 극카고트럭' '대특음식물쓰레기수거차' '한국쓰리축극카고트럭' '함코7톤트럭' '함코 5톤 트럭'\n",
      " '한쓰4.5톤극플러스트럭' '한국특장기술트럭' '한국쓰리축5톤극카고트럭' '대지 9.8KL탱크로리' '호룡엘리카 사다리차'\n",
      " '함코4.5톤트럭' '한국메리트5.0톤트럭' '한국쓰리축5톤초장축카고트럭' '토미초장축플러스74메가트럭'\n",
      " '포멕4.5톤초장축카고트럭' '토미초장축플러스메가트럭' '한국메리트7.5톤트럭' '카써스4.5톤카고트럭' '함코4.5톤 트럭'\n",
      " '골드밴3축카고' '일성차량운반트럭' 'KJM세이프티로더' '토미장축플러스메가트럭' '한쓰6톤극플러스트럭' '삼우4.5톤메가트럭'\n",
      " '포멕4.5톤극초장축카고트럭' '한국쓰리축4.5톤 플러스카고트럭' '에이엔디20피트콘테이너트럭' '토미초장축메가트럭'\n",
      " '한특사료운반트럭' '대양압축진개차' '원천8000L경질유탱크로리' '삼능메가트럭압착진개차' '한국쓰리축5톤 초장축카고트럭'\n",
      " '우리소방펌프자동차' '이엔쓰리장비운반차' '우리소방이동정비차' '이엔쓰리펌프소방차' 'NYKFT화학소방차'\n",
      " '한국메리트4.5톤트럭' '광림굴절식크레인트럭' '신정4㎥급진공노면청소차' '전진직진식활선고소작업차' '토미5톤 초장축플러스 74'\n",
      " '한빛 음식물 수거차' '부성5톤극초장축카고트럭' '포멕5톤플러스카고트럭' '우양특장4.5톤트럭' '한국메리트6.0톤트럭'\n",
      " '한빛음식물수거차' '선진차량운송트럭' '우양특장중형트럭' '광림직진식크레인트럭' '메가트럭' '수성슈퍼렉커'\n",
      " '포멕4.5톤플러스카고트럭' '토미4.5톤초장축플러스카고트럭' '토미초장축플러스74' '삼능압착진개트럭' '토미초장축카고'\n",
      " '탱크5톤울트라카고트럭' '정부4.5톤초장축카고트럭' 'KJM렉커' '세인고소작업차' '정부5톤극초장축카고트럭' '한쓰5톤장축트럭'\n",
      " '강남6.5톤카고트럭' '한국쓰리축4.5톤 초장축카고트럭' '한국특장기술냉동탑차' '해광활어운반차' '전진직진식고소작업차'\n",
      " '한국쓰리축5톤 플러스카고트럭' '강남사료운반차' '함코5톤윙바디트럭' '삼오10KL유조차' '삼오8KL탱크로리' '함코5톤 트럭'\n",
      " '동양압착진개차' '에이엠회전형음식물쓰레기수거차' '한국메리트7.0톤트럭' '토미장축카고' '정부7톤플러스카고트럭'\n",
      " '한쓰6.5톤플러스트럭' '탱크5톤극초장축카고트럭' '코리아4.5톤카고트럭' '두성사료운반트럭' '새한4.5톤카고트럭'\n",
      " '한국쓰리축 초장축카고트럭' '이엔쓰리배연소방차' '신정4㎥급 진공노면청소차' '한국쓰리축4.5톤극카고트럭'\n",
      " '한국쓰리축4.5톤플러스카고트럭' '한국쓰리축콘테이너트럭' '에이엠압착식진개차' '한빛노면청소차' '부커셰링노면청소차'\n",
      " '에이엠압축식진개차' '포멕7톤장축카고트럭' '탱크6톤울트라카고트럭' '한신35 고소작업차' '포멕5톤초장축카고트럭'\n",
      " '함코4.5톤 윙바디트럭' '정부4.5톤극초장축카고트럭' '함코8톤트럭' '에이엠신압착식진개차' '우리조명소방자동차'\n",
      " '동양압축진개차' '베스텍7500버큠로리' '정부4.5톤플러스카고트럭' '정부7.5톤극초장축카고트럭' '토미장축 카고'\n",
      " '토미메가트럭' '광림절연고소작업차' '동양음식물 수거차' '호룡스카이 고소작업차' '한신35고소작업차' '새한냉동탑차'\n",
      " '정부7.5톤초장축카고트럭' '탱크4.5톤울트라카고트럭' '대지7KL살수차' '한차5톤차량운송트럭' '골드밴7톤3축카고트럭'\n",
      " '에이엠음식물쓰레기수거차' '삼능장축암롤트럭' '금강 9㎘ 탱크로리' '티엔티유조탱크로리' '한국쓰리축5톤플러스카고트럭'\n",
      " '삼능신압착진개트럭' '원천8000L중질유탱크로리' '삼능버큠로리' '토미장축메가트럭' '하나53m급 이삿짐사다리차'\n",
      " '대양음식물쓰레기수거차' '한신울트라고소작업차' '드림 사다리차' '동양음식물수거차' '정부5톤플러스카고트럭'\n",
      " '신정4㎥급진공노면총소차' '탱크 5톤극초장축카고트럭' '토미초장축플러스7.4카고' '정부6톤플러스카고트럭' '대흥특장셀프로더'\n",
      " '포멕5톤극초장축카고트럭' '태경살수차' '한국메리트4.5톤윙바디트럭' '토미초장축 카고' '부성5톤플러스카고트럭' '수성단축렉커'\n",
      " '스카이점보고소작업차' '토미초장축 플러스 카고' '서보4.5톤 메가트럭7.4' '대한통운5톤초장축플러스윙바디'\n",
      " '광림 직진식크레인 트럭' '대경음식물쓰레기차' '건민4.5톤플러스트럭' '한국쓰리축4.5톤카고트럭' '탱크4.5톤윙바디트럭'\n",
      " '삼오8KL중질유탱크로리' '한국쓰리축장축카고트럭' '건민6톤 뉴카고트럭' '한특압측진개차' '하나53m급 이삿짐 사다리차'\n",
      " '탱크4.5톤극초장축카고트럭' '정부5톤초장축카고트럭' '대양살수차' '한쓰4.5톤초장축트럭' '토미초장축74냉동탑차'\n",
      " '우양특장5톤트럭' '골드밴파워3축카고' '방원이동급식차' '한빛진공흡입청소차' '금강10㎥암롤트럭' '신광이동발전차'\n",
      " '광림히아브크레인집게차' '정부7.5톤장축카고트럭' '탱크5톤초장축카고트럭' '한국쓰리축플러스카고트럭' '토미장축플러스카고'\n",
      " '부커세링노면청소차' '화이어텍소방펌프차' '전진소방펌프자동차' '다임소방펌프자동차' '한국쓰리축5톤카고트럭' 'KJM차량운반트럭'\n",
      " '토미 장축 카고' '함코 7.5톤 트럭' '한국4.5톤플러스카고트럭' '방원HD방송중계차' '한국특장기술7.5톤트럭'\n",
      " '한쓰냉동탑트럭' '한국특장기술4.5톤트럭' '한쓰7톤플러스트럭' '함코4.5톤냉동탑차' '우성밀크로리' '한쓰중형윙바디트럭'\n",
      " '후쏘차량수송트럭' '에스알경찰방송차' '삼오10KL탱크로리' '강남7.5톤카고트럭' '고려특장사료운반차' '한쓰4.5톤플러스트럭'\n",
      " '함코7.5톤트럭' '미래대형SNG중계차' '정우9.8KL 경질유 탱크로리' '한국쓰리축카고트럭' '드림사다리차'\n",
      " '한국특장기술7톤트럭' '포멕4.5톤 극초장축카고트럭' '계백복함식진공하수구준설차' '호룡엘리카사다리차' '화인7.6㎘버큠로리'\n",
      " '함코4.5톤냉동탑자' '삼오7KL활어수송차' '한국쓰리축내장탑차' '토미 초장축 카고' '우리사다리소방펌프자동차'\n",
      " '미래대형방송중계차' '금강5KL급수차' '한특음식물쓰레기수거트럭' '코리아7.5톤카고트럭' '미래긴급구호물자운송차량'\n",
      " '한국특장기술6톤트럭' '화이어텍다목적소방펌프차' '한국쓰리축4.5톤장축카고트럭' '탱크10KL경질유탱크로리'\n",
      " '정부4.5톤장축카고트럭' '소방펌프자동차' '우리화학소방펌프자동차' '고호5톤고소작업차' '수산고소작업차' '이동과학교실차'\n",
      " '건민4.5톤 뉴카고트럭' '새한7톤카고트럭' '한국특장기술윙바디' '대경메가암롤트럭' '전진소방펌프소방차'\n",
      " '대원왓슨4.5톤초장축카고트럭' '이엔쓰리물탱크소방차' '토미5톤초장축플러스' '삼우4.5톤 메가트럭' '토미초장축플러스카고'\n",
      " '삼우4.5톤초장축카고트럭' '한쓰6.5톤초장축트럭' '삼능음식물쓰레기수거트럭' '정우7.5KL 버큠로리' '대경 음식물 쓰레기차'\n",
      " '한빛음식물용기세척차' '유비타워가선원목집재차' '삼오9KL탱크로리' '동아이동무대차량' '대경압축진개차' '동양8KL탱크로리'\n",
      " '형제특장가축수송차량' '서보4.5톤메가트럭6.25' '탱크8KL경질유탱크로리' '대지7.8KL급수차' '동양10KL탱크로리'\n",
      " '대지 10KL탱크로리' '태경노면청소차' '미래이동급식차' '토미초장축플러스7.4 윙바디']\n",
      "\n"
     ]
    }
   ],
   "source": [
    "# 요청 데이터\n",
    "# 배출가스인증번호와 저공해 불일치 7건\n",
    "# 5MY-AD-13-06, 5MY-HD-24-59, 5MY-PA-13-20, 5MY-SY-23-58, 6MY-AD-13-11, 6MY-BK-13-08, 6MY-HD-23-55\n",
    "lst = ['5MY-AD-13-06', '5MY-HD-24-59', '5MY-PA-13-20', '5MY-SY-23-58', '6MY-AD-13-11', '6MY-BK-13-08', '6MY-HD-23-55']\n",
    "\n",
    "for one in lst:\n",
    "    for jud in ['P', 'M']:\n",
    "        temp = total.loc[(total['배출가스인증번호'] == one) & (total['세부1'] == jud)]\n",
    "        car_type = temp['자동차형식'].unique()\n",
    "        car_nm = temp['차명'].unique()\n",
    "        print(f'배출가스인증번호 : {one}, 세부1 : {jud}')\n",
    "        print(f'자동차형식( {len(car_type)} 개) : {car_type}')\n",
    "        print(f'차명( {len(car_nm)} 개) : {car_nm}')\n",
    "        print()"
   ]
  },
  {
   "cell_type": "code",
   "execution_count": 122,
   "metadata": {},
   "outputs": [],
   "source": [
    "t1 = pd.Series([1, 2, 3])\n",
    "t2 = pd.Series([1, 2, 3, 4, 5, 6])"
   ]
  },
  {
   "cell_type": "code",
   "execution_count": 124,
   "metadata": {},
   "outputs": [
    {
     "data": {
      "text/html": [
       "<div>\n",
       "<style scoped>\n",
       "    .dataframe tbody tr th:only-of-type {\n",
       "        vertical-align: middle;\n",
       "    }\n",
       "\n",
       "    .dataframe tbody tr th {\n",
       "        vertical-align: top;\n",
       "    }\n",
       "\n",
       "    .dataframe thead th {\n",
       "        text-align: right;\n",
       "    }\n",
       "</style>\n",
       "<table border=\"1\" class=\"dataframe\">\n",
       "  <thead>\n",
       "    <tr style=\"text-align: right;\">\n",
       "      <th></th>\n",
       "      <th>0</th>\n",
       "      <th>1</th>\n",
       "    </tr>\n",
       "  </thead>\n",
       "  <tbody>\n",
       "    <tr>\n",
       "      <th>0</th>\n",
       "      <td>1.0</td>\n",
       "      <td>1</td>\n",
       "    </tr>\n",
       "    <tr>\n",
       "      <th>1</th>\n",
       "      <td>2.0</td>\n",
       "      <td>2</td>\n",
       "    </tr>\n",
       "    <tr>\n",
       "      <th>2</th>\n",
       "      <td>3.0</td>\n",
       "      <td>3</td>\n",
       "    </tr>\n",
       "    <tr>\n",
       "      <th>3</th>\n",
       "      <td>NaN</td>\n",
       "      <td>4</td>\n",
       "    </tr>\n",
       "    <tr>\n",
       "      <th>4</th>\n",
       "      <td>NaN</td>\n",
       "      <td>5</td>\n",
       "    </tr>\n",
       "    <tr>\n",
       "      <th>5</th>\n",
       "      <td>NaN</td>\n",
       "      <td>6</td>\n",
       "    </tr>\n",
       "  </tbody>\n",
       "</table>\n",
       "</div>"
      ],
      "text/plain": [
       "     0  1\n",
       "0  1.0  1\n",
       "1  2.0  2\n",
       "2  3.0  3\n",
       "3  NaN  4\n",
       "4  NaN  5\n",
       "5  NaN  6"
      ]
     },
     "execution_count": 124,
     "metadata": {},
     "output_type": "execute_result"
    }
   ],
   "source": [
    "t = pd.concat([t1, t2], axis=1)\n",
    "t"
   ]
  },
  {
   "cell_type": "code",
   "execution_count": 125,
   "metadata": {},
   "outputs": [
    {
     "data": {
      "text/html": [
       "<div>\n",
       "<style scoped>\n",
       "    .dataframe tbody tr th:only-of-type {\n",
       "        vertical-align: middle;\n",
       "    }\n",
       "\n",
       "    .dataframe tbody tr th {\n",
       "        vertical-align: top;\n",
       "    }\n",
       "\n",
       "    .dataframe thead th {\n",
       "        text-align: right;\n",
       "    }\n",
       "</style>\n",
       "<table border=\"1\" class=\"dataframe\">\n",
       "  <thead>\n",
       "    <tr style=\"text-align: right;\">\n",
       "      <th></th>\n",
       "      <th>0</th>\n",
       "      <th>1</th>\n",
       "    </tr>\n",
       "  </thead>\n",
       "  <tbody>\n",
       "    <tr>\n",
       "      <th>0</th>\n",
       "      <td>3D</td>\n",
       "      <td>Phaeton 3.0 TDI</td>\n",
       "    </tr>\n",
       "    <tr>\n",
       "      <th>1</th>\n",
       "      <td>NaN</td>\n",
       "      <td>폭스바겐 Phaeton 3.0 TDI</td>\n",
       "    </tr>\n",
       "  </tbody>\n",
       "</table>\n",
       "</div>"
      ],
      "text/plain": [
       "     0                     1\n",
       "0   3D       Phaeton 3.0 TDI\n",
       "1  NaN  폭스바겐 Phaeton 3.0 TDI"
      ]
     },
     "execution_count": 125,
     "metadata": {},
     "output_type": "execute_result"
    }
   ],
   "source": [
    "temp = total.loc[(total['배출가스인증번호'] == '5MY-AD-13-06') & (total['세부1'] == 'P')]\n",
    "car_type = temp['자동차형식'].unique()\n",
    "car_nm = temp['차명'].unique()\n",
    "t = pd.concat([pd.Series(car_type), pd.Series(car_nm)], axis=1)\n",
    "t"
   ]
  },
  {
   "cell_type": "code",
   "execution_count": 127,
   "metadata": {},
   "outputs": [],
   "source": [
    "# 요청 데이터\n",
    "# 배출가스인증번호와 저공해 불일치 7건\n",
    "# 5MY-AD-13-06, 5MY-HD-24-59, 5MY-PA-13-20, 5MY-SY-23-58, 6MY-AD-13-11, 6MY-BK-13-08, 6MY-HD-23-55\n",
    "lst = ['5MY-AD-13-06', '5MY-HD-24-59', '5MY-PA-13-20', '5MY-SY-23-58', '6MY-AD-13-11', '6MY-BK-13-08', '6MY-HD-23-55']\n",
    "\n",
    "with pd.ExcelWriter('analysis2/DPF현행화/[샘플]배출가스인증번호_세부1별_자동차형식_차명.xlsx') as writer:\n",
    "    for one in lst:\n",
    "        for jud in ['P', 'M']:\n",
    "            temp = total.loc[(total['배출가스인증번호'] == one) & (total['세부1'] == jud)]\n",
    "            car_type = temp['자동차형식'].unique()\n",
    "            car_nm = temp['차명'].unique()\n",
    "            temp_df = pd.concat([pd.Series(car_type), pd.Series(car_nm)], axis=1)\n",
    "            temp_df.columns = ['자동차형식', '차명']\n",
    "            temp_df.to_excel(writer, index=False, sheet_name=f'{one}_{jud}')"
   ]
  },
  {
   "cell_type": "code",
   "execution_count": null,
   "metadata": {},
   "outputs": [],
   "source": []
  },
  {
   "cell_type": "code",
   "execution_count": 115,
   "metadata": {},
   "outputs": [
    {
     "data": {
      "text/plain": [
       "(450, 49)"
      ]
     },
     "execution_count": 115,
     "metadata": {},
     "output_type": "execute_result"
    }
   ],
   "source": [
    "spc[spc['자동차형식'] == 'FH104FTR3HA'].shape"
   ]
  },
  {
   "cell_type": "code",
   "execution_count": 113,
   "metadata": {},
   "outputs": [],
   "source": [
    "total[total['자동차형식'] == 'FH104FTR3HA'].to_excel('analysis2/4등급_데이터_점검/[BD1]4등급_33573대_검증_FH카고.xlsx', index=False)"
   ]
  },
  {
   "cell_type": "code",
   "execution_count": 116,
   "metadata": {},
   "outputs": [
    {
     "data": {
      "text/plain": [
       "array(['5', 'X', 'T5', '4', '3', 'T4', 'T3', '2', '1', 'T2'], dtype=object)"
      ]
     },
     "execution_count": 116,
     "metadata": {},
     "output_type": "execute_result"
    }
   ],
   "source": [
    "spc['배출가스등급'].unique()"
   ]
  },
  {
   "cell_type": "code",
   "execution_count": 117,
   "metadata": {},
   "outputs": [
    {
     "data": {
      "text/plain": [
       "(362, 49)"
      ]
     },
     "execution_count": 117,
     "metadata": {},
     "output_type": "execute_result"
    }
   ],
   "source": [
    "spc[(spc['자동차형식'] == 'FH104FTR3HA') & ((spc['배출가스등급'] == '3') | (spc['배출가스등급'] == 'T3'))].shape"
   ]
  },
  {
   "cell_type": "code",
   "execution_count": 118,
   "metadata": {},
   "outputs": [],
   "source": [
    "spc[(spc['자동차형식'] == 'FH104FTR3HA') & ((spc['배출가스등급'] == '3') | (spc['배출가스등급'] == 'T3'))].to_excel('analysis2/4등급_데이터_점검/[BD1]4등급_33573대_검증_FH카고.xlsx', index=False)"
   ]
  },
  {
   "cell_type": "code",
   "execution_count": 120,
   "metadata": {},
   "outputs": [
    {
     "data": {
      "text/plain": [
       "['현대자동차(주)',\n",
       " '거화',\n",
       " nan,\n",
       " '지엠코리아(주)',\n",
       " '기아자동차(주)',\n",
       " '지엠아시아퍼시픽지역본부 주식회사',\n",
       " '새한자동차',\n",
       " '대호무역',\n",
       " '**기타**',\n",
       " '쌍용자동차(주)',\n",
       " '자기인증면제차량',\n",
       " '한국토요타자동차(주)',\n",
       " '비엠더블유코리아(주)',\n",
       " 'GM',\n",
       " '포드세일즈서비스코리아(유)',\n",
       " '대우자동차(주)',\n",
       " '한국지엠주식회사',\n",
       " '(주)미래하이텍',\n",
       " '신진자동차',\n",
       " '(주)진도',\n",
       " '아시아자동차공업(주)',\n",
       " 'TOYOTA',\n",
       " '-',\n",
       " '진명자동차써비스(주)',\n",
       " 'BENZ',\n",
       " '세일특장',\n",
       " '동아자동차',\n",
       " '한성자동차(주)',\n",
       " '혼다',\n",
       " '후소특장(주)',\n",
       " '현대정공(주)',\n",
       " '혼다코리아(주)',\n",
       " '남도수입',\n",
       " '메르세데스벤츠코리아(주)',\n",
       " '(주)기아정기',\n",
       " '에프씨에이코리아(주)',\n",
       " '볼보',\n",
       " '대우중공업(주)',\n",
       " 'MITSUBISHI',\n",
       " 'BMW AG',\n",
       " 'FORD',\n",
       " '신화무역',\n",
       " '한국상용차(주)',\n",
       " '광림특장차(주)',\n",
       " '스카니아',\n",
       " '현대',\n",
       " '닛산',\n",
       " '다임러크라이슬러(주)',\n",
       " '세화통운(주)',\n",
       " '도요다',\n",
       " '아우디폭스바겐코리아(주)',\n",
       " '한국특장차(주)',\n",
       " 'SOFA차량',\n",
       " '타타대우상용차(주)',\n",
       " '사브',\n",
       " '크라이슬러',\n",
       " '볼보트럭코리아(주)',\n",
       " '유럽자동차판매(주)',\n",
       " '자동차수입판매업',\n",
       " '포르쉐',\n",
       " '비엠특장(주)',\n",
       " '진성오토판매(주)',\n",
       " '대우조선',\n",
       " '서울차량공업(주)',\n",
       " '(주)신인천정공',\n",
       " '남영자동차공업(주)',\n",
       " '폭스바겐',\n",
       " '로젠바워',\n",
       " 'MAZDA',\n",
       " 'COMPTECH',\n",
       " '지피모터스(주)',\n",
       " '금양기전',\n",
       " 'NFS Corp',\n",
       " 'ICMAX(AUTO)',\n",
       " '극동유화(주) 고진모터 임포츠',\n",
       " '유비모터스',\n",
       " '(주)수산특장',\n",
       " '삼성중공업',\n",
       " '(주)코리아카라반',\n",
       " 'SUBARU',\n",
       " 'General Trailers France S.A.',\n",
       " '(주)볼보자동차코리아',\n",
       " '모인모터하우스',\n",
       " '다임폴라특장(주)',\n",
       " '기아모텍(주)',\n",
       " '(주) 오토리더',\n",
       " '(주)재규어랜드로버코리아',\n",
       " '르노삼성자동차(주)',\n",
       " '스카니아코리아그룹(주)',\n",
       " '삼성상용차(주)',\n",
       " '신정개발',\n",
       " '남양산업(주)',\n",
       " '재규어',\n",
       " '한국특장(주)',\n",
       " '신흥공업(주)',\n",
       " '(주)한원모터스',\n",
       " '경기특장개발(주)',\n",
       " '두성기계공업(주)',\n",
       " '(주)한빛특장',\n",
       " '대흥중공업(주)',\n",
       " '연합왜건(주)',\n",
       " '설봉강업(주)',\n",
       " '삼일자동차(주)',\n",
       " '(주)우리특장',\n",
       " '덕산특장기공사',\n",
       " '(주)한성에코넷',\n",
       " '왕신실업',\n",
       " '경동상사',\n",
       " '서울차체공업(주)',\n",
       " '랜드로버',\n",
       " '(주)석영엔터프라이즈',\n",
       " '(주)엔케이',\n",
       " '광운자동차(주)',\n",
       " '(주)우신시스템',\n",
       " '볼보트럭',\n",
       " '성진테크',\n",
       " '(주)KAB',\n",
       " '조인수입차',\n",
       " '(주)희대특장차',\n",
       " '(주)태경',\n",
       " '지엠월드모터스(주)',\n",
       " '로드앤스피드',\n",
       " '(주)유라시아모터스앤레인보우',\n",
       " '신진기공(주)',\n",
       " 'Citroen',\n",
       " '로버',\n",
       " '해글런드비히클',\n",
       " '아우디',\n",
       " 'T.REX Garage',\n",
       " '미래특장차(주)',\n",
       " '(주) 닛시산업',\n",
       " 'FERRARI',\n",
       " '우신중공업(주)',\n",
       " '스폐셜리티비히클',\n",
       " '부커구이어',\n",
       " 'D.K MARINE',\n",
       " 'ROVER',\n",
       " '나비스타인터내셔날',\n",
       " '영광상회',\n",
       " '(주)알텍',\n",
       " '한국닛산(주)',\n",
       " 'FIAT',\n",
       " '아이씨피(주)',\n",
       " 'Sicas Euroclean S.r.l',\n",
       " 'Uri',\n",
       " '플라이트라이너',\n",
       " '(주)한익스프레스',\n",
       " '스텔란티스코리아 주식회사',\n",
       " 'Humbaur',\n",
       " '(주)대왕트라마',\n",
       " '(주)우신테크',\n",
       " '도쿄모터스',\n",
       " '(주)진흥특장',\n",
       " 'OPEL',\n",
       " '한국바우텍(주)',\n",
       " 'Chance Coach Inc',\n",
       " 'MCC스마트',\n",
       " '흥국정공(주)',\n",
       " '해동정공',\n",
       " 'ISUZU',\n",
       " 'KARCHER',\n",
       " 'MAN',\n",
       " '필립',\n",
       " '하코-베르케',\n",
       " 'J&M TRADING',\n",
       " 'FAHRZEUGWERKE BOECKMANN',\n",
       " '대흥자동차정비(주)',\n",
       " '서산추레라',\n",
       " 'HORSEMAN',\n",
       " '준인터내셔날',\n",
       " 'WT-METALL',\n",
       " '대양중공업(주)',\n",
       " 'LMC GmbH',\n",
       " '로하',\n",
       " '(주) 티더블유에프에스',\n",
       " 'LOTUS',\n",
       " '플리트우드홀딩트레일러스',\n",
       " '지엠대우자동차기술(주)',\n",
       " '(주)상전정공',\n",
       " '뷰스트너',\n",
       " 'Freightliner',\n",
       " 'SCHMITZ',\n",
       " '(주) 오텍',\n",
       " '자일대우상용차 주식회사',\n",
       " '비스너코리아(주)',\n",
       " '(주) 두성특장차',\n",
       " '디앨 주식회사',\n",
       " 'PEUGEOT',\n",
       " '(주) 구미프랜차이즈',\n",
       " '세원엔지니어링(주)',\n",
       " '(주)대한',\n",
       " '수성특장(주)',\n",
       " '한국디지텍',\n",
       " '(주) 한성에코넷',\n",
       " '(주)광림',\n",
       " '국제특장(주)',\n",
       " 'JOYS RV WORLD',\n",
       " '대지정공(주)',\n",
       " '반도특장(주)',\n",
       " '동우특장기공사',\n",
       " '부커셰링코리아 (주)',\n",
       " '(주) 삼오특장자동차',\n",
       " '주식회사 유아이테크',\n",
       " '고려특장(주)',\n",
       " '아성무역(주)',\n",
       " '정우정공 (주)',\n",
       " '(주) 케이.에이.비',\n",
       " '(주) 세종특장기계',\n",
       " '주식회사 한서정공',\n",
       " '한국특장 (주)',\n",
       " '원모터스',\n",
       " '(주) 윌트비',\n",
       " '(주) 로드텍',\n",
       " '(주) 에스비에스',\n",
       " '(주) 금강특장기계',\n",
       " 'ALFA ROMEO',\n",
       " '한빛테크원(주)',\n",
       " '(주) 신호',\n",
       " '신정개발특장차 주식회사',\n",
       " '신흥정공(주)',\n",
       " '(주)성창자동차',\n",
       " '(주)한국토미',\n",
       " '건교부 수원국도유지건설사무소',\n",
       " '평화특장',\n",
       " '(주) 카코통상',\n",
       " '(주)중부특장',\n",
       " '호성특장(주)',\n",
       " '(주) 아이엠씨트레이딩',\n",
       " '메디벤 (주)',\n",
       " '(주)성진테크',\n",
       " '(주) 오토랜드',\n",
       " '원천특장공업주식회사',\n",
       " '(주) 진명자동차',\n",
       " '(주)신광테크놀러지',\n",
       " '서덕환',\n",
       " '(주) 아우토하우스킴',\n",
       " '강남모터스',\n",
       " '도원자동차공업 (주)',\n",
       " '(주)수산씨에스엠',\n",
       " '(주) 모터테크',\n",
       " '속초시청',\n",
       " '(주) 현진',\n",
       " '흥국정공 (주)',\n",
       " '현 International',\n",
       " '쎄븐모터스(주)',\n",
       " '(주) 오토타운',\n",
       " '(주) 티티엠모터스',\n",
       " '(주) 에스아이테코',\n",
       " '(주) 동진정공',\n",
       " 'e-car',\n",
       " '서초카쎈타',\n",
       " '(주) 유라시아통상',\n",
       " '신진',\n",
       " '(주) 세한테크',\n",
       " '(주) 라스칼코리아',\n",
       " '천일자동차매매상사',\n",
       " 'SHM',\n",
       " '(주) 우미테크',\n",
       " 'SANAI TRADING',\n",
       " '동양자동차공업(주)',\n",
       " '한국특장기술(주)',\n",
       " '마이웨이',\n",
       " '(주)뉴삼진캐딜락',\n",
       " '이텍산업 주식회사',\n",
       " '(주) 모터뱅크',\n",
       " '(주)화이어텍',\n",
       " '(주) 원오토',\n",
       " '경성자동차매매상사',\n",
       " '(주) 엘케이알인터내셔날',\n",
       " '(주)케이엔티티',\n",
       " '(주) 미래특장',\n",
       " '(주) 오토액심',\n",
       " '주식회사 평강비아이엠(B.I.M)',\n",
       " '코리카(주)',\n",
       " '(주) 두성하-드텍',\n",
       " '대경특장(주)',\n",
       " '(주)수산중공업',\n",
       " '(주)애드터치',\n",
       " '대한예수교장로회평강제일교회',\n",
       " '(주) 두리모빌리엔',\n",
       " '(주) 쿠즈플러스',\n",
       " '(주)세정모터스',\n",
       " '(주) 코펙스',\n",
       " '(주) 오토로망',\n",
       " '(주) 우신테크',\n",
       " '대구무역',\n",
       " '(주) 메가튜닝',\n",
       " '(주) 모플러스',\n",
       " '(주) 미래교통렌트카',\n",
       " '가나공항산업(주)',\n",
       " '원텍인터내셔날',\n",
       " '녹산대진특장차',\n",
       " '스피드코프레이션(주)',\n",
       " '(주) 케이앤제이모터스',\n",
       " '제이아이모터스',\n",
       " '호미은자동차',\n",
       " '저먼무역',\n",
       " '싸이언트레이딩',\n",
       " '동일무역',\n",
       " '율원산업(주)',\n",
       " '국민한양자동차매매상사',\n",
       " '스즈키',\n",
       " 'TOMS',\n",
       " '만트럭버스코리아(주)',\n",
       " '오토뱅크트레이딩',\n",
       " '한일무역',\n",
       " '(주) 피벗모터텍앤디자인',\n",
       " '(주) 피벗모터스',\n",
       " '볼벤코(주)',\n",
       " 'B&B Motors',\n",
       " '오토갤러리',\n",
       " 'Auto House',\n",
       " '(주) 스타코',\n",
       " '부림상사',\n",
       " '(주) 신원에스엔티',\n",
       " '타버트',\n",
       " '(주)인터모터스',\n",
       " '중고차쇼핑몰제이엔씨모터스',\n",
       " '베스텍모터 (주)',\n",
       " 'Excel Sky Korea',\n",
       " '진.한복연구소',\n",
       " '수누카',\n",
       " '(주) 백두모터스',\n",
       " '성원 CO',\n",
       " '(주) 케이.엠특장',\n",
       " '(주)위노 WE KNOW',\n",
       " '다이하쯔',\n",
       " '오병이어무역',\n",
       " '(주) 희대특장차',\n",
       " 'GO GO',\n",
       " '(주) 대진에스티씨',\n",
       " '한북특장(주)',\n",
       " '(주) 진성로드',\n",
       " '파스텔상사',\n",
       " '대흥운수',\n",
       " '레크리스코리아(주)',\n",
       " 'N.B.GARAGE',\n",
       " '피코르키키',\n",
       " 'CROWN 자동차사업부',\n",
       " '(주) 제일트라마',\n",
       " '선인관리 (주)',\n",
       " '(주) 에이유엑스디자인',\n",
       " '(주) 강남기공',\n",
       " '유비통상(주)',\n",
       " '한불모터스(주)',\n",
       " 'COREA 모터스',\n",
       " '한화개발(주)',\n",
       " '제이.피.에이.씨',\n",
       " 'K&P 수입자동차대행업체',\n",
       " '자유',\n",
       " '대우분당서비스(주)',\n",
       " '(주) 덕산특장차',\n",
       " '(주) 코스만',\n",
       " 'VISION MOTORS',\n",
       " '(주) 맥써버모터스',\n",
       " '성원인터내셔날',\n",
       " 'SK racing 모토샵',\n",
       " '(주)프론트나인모터스',\n",
       " '에이스(ACE)',\n",
       " '동아특장공업사',\n",
       " 'L.AUTOTECH INTERNATIONAL',\n",
       " '비엠트라코',\n",
       " '삼진정공',\n",
       " '람보기니',\n",
       " '태영공업',\n",
       " 'B N I 커뮤니케이션',\n",
       " '코보',\n",
       " 'BMK International',\n",
       " '(주) 오션구삼공',\n",
       " '코리아특장(주)',\n",
       " '서강아트시스템',\n",
       " '하나무역',\n",
       " '이베코',\n",
       " 'DEAL COMPANY',\n",
       " '(주) 진일엠브이씨',\n",
       " '올댓카닷컴',\n",
       " '(주) 남부산자동차매매상사',\n",
       " '해동 FC',\n",
       " '와이드테크놀리지',\n",
       " '킴스모터스',\n",
       " '강원정공',\n",
       " '(주) 에스와이오토프라자',\n",
       " '클럽유씨씨(주)',\n",
       " '런 코리아',\n",
       " '삼영무역',\n",
       " '(주)뉴텍티앤엠',\n",
       " '카네모찌',\n",
       " '굳라이프',\n",
       " 'HAMMER',\n",
       " '하나모터스',\n",
       " '와우무역',\n",
       " '(주)밴텍캠핑카',\n",
       " '성진자동차판매상사',\n",
       " '옥션모터스',\n",
       " 'ZERO Motors',\n",
       " '현대역삼역판매대리점',\n",
       " '서원산업',\n",
       " '타임 모터스(주)',\n",
       " '(주) 와이제이',\n",
       " '제이에스트레이딩',\n",
       " '(주)오토크래프트코리아',\n",
       " '호성자동차(주)',\n",
       " '포드부품중부대리점 성진무역',\n",
       " '(유) 드림스타',\n",
       " 'JUNMI통상',\n",
       " '월드아이택',\n",
       " '(주) 굿위크앤드',\n",
       " '(주)아델모터스',\n",
       " '수정인터내셔날',\n",
       " '(주)아이오복스',\n",
       " '케이모터스',\n",
       " '(주)엠에스엘콤프레서',\n",
       " '투.엠. 모터스',\n",
       " '진미모터스',\n",
       " '누리사랑무역',\n",
       " '(주) 한국알피엠',\n",
       " '(주)지엔티닷컴',\n",
       " '오성모터스',\n",
       " '유즈모터스',\n",
       " '(주)레이모',\n",
       " '(주) 은석석재',\n",
       " '아산에스제이(주)',\n",
       " '(주) 하우스버그',\n",
       " '한국메르세데스(주)',\n",
       " '코암모터스(주)',\n",
       " '(유) 스피자드 코리아',\n",
       " '(주) 케이이엠매니지먼트',\n",
       " '에스엠코리아',\n",
       " '(주) 고원',\n",
       " '유로모터스(주)',\n",
       " '지엠테크',\n",
       " '(주)씨앤진도',\n",
       " '영광무역',\n",
       " '한일통상',\n",
       " '(주)그린서비스',\n",
       " '(주)선영오토프라자',\n",
       " 'JS인터네셔널',\n",
       " '뉴코리아모터스',\n",
       " '진우기계',\n",
       " '유성교역',\n",
       " '우림특장산업',\n",
       " '(주)케이피트레이드',\n",
       " '천우인터내셔날(주)',\n",
       " '미제트',\n",
       " '(주)멜로즈모터스',\n",
       " '에프씨지 모터',\n",
       " '스타일모터스',\n",
       " '사자인터내셔널',\n",
       " '관악상사',\n",
       " '우진모터스',\n",
       " '(주)알바스코리아',\n",
       " '(주) 산다교역',\n",
       " '(주)대원에이이',\n",
       " '(주)이노트인코퍼레이션',\n",
       " '우노인터내셔날',\n",
       " '(주)호룡',\n",
       " '미도라무역',\n",
       " '(주) 성보테크니칼',\n",
       " '(주)이즈모터스',\n",
       " '투모로모터스',\n",
       " '희대특수공업사',\n",
       " '한우글로벌(주)',\n",
       " '신성무역',\n",
       " '제일종합무역(주)',\n",
       " '대명종합상사',\n",
       " 'AJA',\n",
       " '(주) 유로엠모터스코리아',\n",
       " '천하상사',\n",
       " '(주) 오토런',\n",
       " '오토씨앤티',\n",
       " '주식회사 윈어스알엔에이',\n",
       " '(주)동문기업',\n",
       " '씨케이모터스(주)',\n",
       " '롱웨이국제무역(주)',\n",
       " '(주)동해기계항공',\n",
       " '크라운상사',\n",
       " '윈윈상사',\n",
       " 'DAWAYO',\n",
       " '니뽄구르마',\n",
       " '임포비즈',\n",
       " '케이지모터스(주)',\n",
       " '(주)코스모유로피아',\n",
       " '뱅캘',\n",
       " '코쿰 코리아',\n",
       " '(주)티오케이모터스',\n",
       " '(주) 영남베스트',\n",
       " '(주)세인이엔지',\n",
       " '(주)샤프',\n",
       " '신우모터스인터내셔날',\n",
       " '문화상사',\n",
       " '동진',\n",
       " '성주',\n",
       " '동건무역(주)',\n",
       " '(주) 지민정보통신',\n",
       " 'STEP KOREA',\n",
       " '(주) 진화이앤씨',\n",
       " '메디아이티 주식회사',\n",
       " '(주)화인특장',\n",
       " 'ABS',\n",
       " '트랜스월드',\n",
       " '(주)씨투트레이딩인터내셔널',\n",
       " '마제스틱인터내셔날',\n",
       " '신영특장차(주)',\n",
       " '삼일특장기업사',\n",
       " '(주)가이젠캠핑카',\n",
       " '백상 CTC',\n",
       " '(주)피앤티시스템즈',\n",
       " 'T.O.K MOTORS',\n",
       " '(주)나노메딕스',\n",
       " '정립 특수자동차 트레일러',\n",
       " '새한마린',\n",
       " 'DNA 모터스',\n",
       " '(주)한화',\n",
       " '유로모터스',\n",
       " '(주) 페어브릿지',\n",
       " '스피드',\n",
       " 'STEP KOREA COM',\n",
       " '빙고모터스',\n",
       " '(주)필오토',\n",
       " '(주) 유진엠앤디',\n",
       " '(주)산요자코',\n",
       " 'AUTO QUEEN',\n",
       " '아우토미테',\n",
       " '씨엠씨코리아',\n",
       " '(주)컨즈모터스',\n",
       " '(주)오토젠',\n",
       " 'JC MOTORS',\n",
       " '한국카-컨비니클럽(주)',\n",
       " '프로모터스자동차서비스',\n",
       " '일공일',\n",
       " '(주)한국특장',\n",
       " '푸르지오부동산',\n",
       " '(주) 동보인터내셔널',\n",
       " '퍼스트쉽핑모터스',\n",
       " '(주)스터디모터스',\n",
       " '제이지모터스',\n",
       " '(주)라고알앤디',\n",
       " '(주)신필름예술센타',\n",
       " '서울특별시소방재난본부',\n",
       " '(주) 제이에스컴퍼니',\n",
       " '(주)한국쓰리축',\n",
       " '르노삼성자동차지정정비쎈타(차',\n",
       " '오토큐브(주)',\n",
       " '(주)올인모터스',\n",
       " '(주) 골드밴',\n",
       " '(주)크린텍',\n",
       " '카스토리',\n",
       " '(주)웨일즈교역',\n",
       " '(주)와이와이',\n",
       " '(주) 피엔에이치통상',\n",
       " '티알디(TRD)',\n",
       " '큐브',\n",
       " '서합물산',\n",
       " '(주)한국캐스보로',\n",
       " 'OPTION Auto Shop',\n",
       " '(주)엘지평화보험대리점',\n",
       " '경성기업',\n",
       " '동이무역상사',\n",
       " 'RENEE STYLE',\n",
       " '벽산건설(주)',\n",
       " '길우상사(주)',\n",
       " '씨제이대한통운(주)',\n",
       " '(주)루이스데인',\n",
       " '보람상사',\n",
       " '비스너코리아 주식회사',\n",
       " '동우인더스(주)',\n",
       " '(주) 궁전특수자동차',\n",
       " '(주)우성특장',\n",
       " '(주)모터엠',\n",
       " '겐 (GEN)',\n",
       " '(주)노엘',\n",
       " '드림 트레이드',\n",
       " '(주)이씨엠트레이딩',\n",
       " '(주) 오엔이',\n",
       " 'THUNDER',\n",
       " '(주)삼이텍',\n",
       " '오토마트',\n",
       " '탱크코리아(주)',\n",
       " '(주)남동무역',\n",
       " '오성라이프',\n",
       " '한진순',\n",
       " '스카이모터스',\n",
       " '아우토바겐(주)',\n",
       " 'SAY 모터스',\n",
       " '(주)레드라인 코리아',\n",
       " 'New Type GARAGE',\n",
       " '(주) 광명디앤씨',\n",
       " '(주)뉴테크특장',\n",
       " '(주)아진산업기술',\n",
       " 'onlyvespa',\n",
       " '하만엔컴퍼니',\n",
       " '(주)엠케이오토모빌',\n",
       " '지럭스 오토모빌',\n",
       " '골프모터스',\n",
       " '(주)로렐오토모빌',\n",
       " '진우테크',\n",
       " '암코모터스(주)',\n",
       " '에프엔비',\n",
       " '(주)대양특장',\n",
       " '(주)티에이인터내셔널',\n",
       " '(주)디에스웹',\n",
       " '(주)두성무역',\n",
       " '스카이 오토(SKY AUTO)',\n",
       " '(주)알브이트레일러',\n",
       " '송림코프레이션',\n",
       " '(주)유니코아이',\n",
       " '(주)테미테크',\n",
       " '제이케이샵(JKSHOP)',\n",
       " '(주)오또',\n",
       " '도원무역',\n",
       " '(주) 한국평전',\n",
       " '(주)두성특장차',\n",
       " '클래식카',\n",
       " '(주)동도특장차',\n",
       " '저먼오토모빌즈(주)',\n",
       " '신웅자동차',\n",
       " '럭시모터스',\n",
       " '대신모터교역',\n",
       " '디지텍코리아',\n",
       " '하나모터웨이',\n",
       " '신우정비공업사',\n",
       " 'DAVIO.KOREA',\n",
       " '(주)한국무역쇼핑몰',\n",
       " '(주)미라콤링크',\n",
       " '서광무역',\n",
       " '우성',\n",
       " '(주)딜죤',\n",
       " '(주) 고호산업',\n",
       " '월드모터스코리아',\n",
       " '(주)명군상사',\n",
       " '홍미가',\n",
       " '대흥특장정공 (주)',\n",
       " '(주)프로텍아시아',\n",
       " '안전무역',\n",
       " '(주)디엠이엔지',\n",
       " 'e-motors',\n",
       " '(주)세계공업사',\n",
       " '(주)렉스오토모빌',\n",
       " 'AZ 코리아',\n",
       " '한지물산',\n",
       " '동원트레이딩',\n",
       " '규숙',\n",
       " '카고텍코리아(주)',\n",
       " '(주)에핑헴튼앤컴퍼니',\n",
       " '그린모터스',\n",
       " '(주)오토월드',\n",
       " '장미순',\n",
       " '장경원',\n",
       " '화인무역',\n",
       " '(주) 송림모터스',\n",
       " 'AMG KOREA',\n",
       " '이탈리안잡',\n",
       " '고려에스티엠(주)',\n",
       " '대동무역(주)',\n",
       " '원나인 모터스',\n",
       " '(주)네패스이앤씨',\n",
       " '에스모터스',\n",
       " '(주)에스에이치서울모터스',\n",
       " '원미상사',\n",
       " '주식회사 카셈(KASEM Co.,Ltd)',\n",
       " '보현모터스(주)',\n",
       " '(주)소닉모터스',\n",
       " '신일무역',\n",
       " '유로오토모빌(주)',\n",
       " '(주)대성무역',\n",
       " '한신특장',\n",
       " 'Taek International',\n",
       " '유광무역',\n",
       " '통진특장공업(주)',\n",
       " '인터카무역',\n",
       " '디지털엠아이비(주)',\n",
       " '한신코퍼레이션',\n",
       " 'KOAM-CAROS CORP',\n",
       " '엘 엔 에스',\n",
       " '우진공업(주)',\n",
       " '(주)라이모자동차판매',\n",
       " '제이코리아',\n",
       " '포르쉐코리아 주식회사',\n",
       " '(주)방원테크',\n",
       " '코스모 모터스 21',\n",
       " '아미티코리아',\n",
       " '라인트레이딩',\n",
       " '신우리상사',\n",
       " '세기상사',\n",
       " '개런티메탈(주)',\n",
       " '럭키코리아모터스(주)',\n",
       " '빌리프 무역',\n",
       " '태진무역',\n",
       " '(주)에코카',\n",
       " '현대자동차온양점',\n",
       " '퍼즐',\n",
       " '(주)금영애드컴',\n",
       " '(주) 메인모터스',\n",
       " '오토진',\n",
       " '태화상사',\n",
       " 'WORLD FRIEND KOREA',\n",
       " '코스모인터내셔날',\n",
       " '(주)코윈',\n",
       " '인테리어다인',\n",
       " '고고세계여행(주)',\n",
       " '바이오윌',\n",
       " '금강홀스랜드',\n",
       " '(주)제이티엔케이서울',\n",
       " '(주)오토엠코리아',\n",
       " '우성중공업',\n",
       " '(주)에이카스',\n",
       " '청구모터스',\n",
       " '(주)씨제이테크',\n",
       " '(주)메카닉',\n",
       " '오토크란츠',\n",
       " '유로트레이딩',\n",
       " '(주)희성양행',\n",
       " '(주)한국메리트특장',\n",
       " '호민무역',\n",
       " '샐비지앤개러지',\n",
       " '(주)월드튠',\n",
       " '럭스모터스',\n",
       " '나나네트워크',\n",
       " '우림개발',\n",
       " '한웰(Hanwell)',\n",
       " '(주)한국큐빅',\n",
       " '핸디피아',\n",
       " '(주)엘앰비코리아',\n",
       " '한특사료차',\n",
       " '(주) 우솔씨엔씨',\n",
       " '(주)퍼시픽링크',\n",
       " '(주)로드트랙코리아',\n",
       " '옥토기업(주)',\n",
       " '(주)에스브라더스',\n",
       " '우진교역',\n",
       " '대구산업',\n",
       " '인성마린',\n",
       " '(주)노바스코리아',\n",
       " '(주)아리스타모빌',\n",
       " '창림모아츠(주)',\n",
       " '더리츠모터스',\n",
       " '(주)예장',\n",
       " 'Dirty Jeans Korea',\n",
       " '유창에스테크(주)',\n",
       " '(주)인프릭스시스템',\n",
       " '모바일플러스',\n",
       " '모토스타 코리아(주)',\n",
       " '하준trading',\n",
       " '피에스제이트레이드',\n",
       " '에스씨비(주)',\n",
       " 'ONE WAY',\n",
       " '터보모터스',\n",
       " '충청특장계량공사',\n",
       " '케이트',\n",
       " '열린상사',\n",
       " '듀셀',\n",
       " 'JK Motors',\n",
       " '(유)케이에스플래닝',\n",
       " '(주)파이어스',\n",
       " 'sun bross',\n",
       " '삼현무역',\n",
       " 'MOTOR STAR INTERNATIONAL',\n",
       " '엠디도요타자동차(주)',\n",
       " '(주)오토갤럭시명품관',\n",
       " 'KSH 무역',\n",
       " '유로아이오토(주)',\n",
       " '씨에이알피엘(주)',\n",
       " '(주)에버다임',\n",
       " '피케이앤에스에이치모터스(주)',\n",
       " '(주)비앤비모터',\n",
       " '에픽하이모터스',\n",
       " '영트레이딩',\n",
       " '예림자동차매매상사',\n",
       " '(주)제이엔비모터스',\n",
       " '멕카티(McCarthy)',\n",
       " '(주)리베코헨리미티드',\n",
       " '(주)피지오자동차',\n",
       " '(주)지엠케이',\n",
       " '세종S.E.M',\n",
       " '진아모터스',\n",
       " '대한특장',\n",
       " '오로금속(주)',\n",
       " '제이앤더블유모터스(주)',\n",
       " '엔슈어',\n",
       " '인천국제공항공사',\n",
       " '엠프로젝트',\n",
       " '엠블렘(Emblem)',\n",
       " '(주)코사스이엔씨',\n",
       " '에렉스서비스(주)',\n",
       " '(주)아이비플랜',\n",
       " '로버코리아(주)',\n",
       " '(주)엑시스',\n",
       " '란트레이딩',\n",
       " '엘리트모터스',\n",
       " '그린청소업',\n",
       " '마사인터내셔날',\n",
       " '(주)코닉세그코리아',\n",
       " 'AUTO KOREA',\n",
       " '(주)세원상사',\n",
       " '(주)비엔비코리아',\n",
       " '코리아글로벌 테크놀로지',\n",
       " '(주)둥지엔터프라이즈',\n",
       " '한길상사',\n",
       " '(주)엠엘익스클루지브',\n",
       " '한국차체(주)',\n",
       " '아이앰아이모터스(주)',\n",
       " '신성모터스',\n",
       " '서울오토',\n",
       " '마제스틱 인코퍼레이션',\n",
       " '니드포인터내셔날',\n",
       " '(주)성진유로카',\n",
       " '더 유니코',\n",
       " '스카이',\n",
       " '(주)티엠씨',\n",
       " '타이탄인터내셔널',\n",
       " '남부상사',\n",
       " '리시안(주)',\n",
       " '해강(주)',\n",
       " '(주)어네스트상사',\n",
       " '제이엔드케이모터스(J&K MOTORS)',\n",
       " '이케이오토',\n",
       " '대호컴플리트(주)',\n",
       " '일성산업',\n",
       " '(주)명차',\n",
       " 'Z-Race 무역',\n",
       " '(주)카라반클럽코리아',\n",
       " '(주)인터글로벌모터스',\n",
       " '(주)RUCCESSM코리아리미티드',\n",
       " '케이엔알모터스',\n",
       " '(주)대도자동차',\n",
       " '모터비즈',\n",
       " '(주)듀몬',\n",
       " '제너럴트레이딩',\n",
       " '(주)마찌엔터테이먼트',\n",
       " '지럭스(G-LUX)',\n",
       " '진원로지스틱스(주)',\n",
       " '문오토',\n",
       " '(주)노블레스 모터스',\n",
       " '디제이(DJ)상사',\n",
       " '유에스 밀리터리 세일즈 주식회사',\n",
       " '한국방송공사',\n",
       " '(주)포멕특장',\n",
       " '(주)쿠즈플러스',\n",
       " '올카',\n",
       " '오아시스',\n",
       " '(주)모터뱅크',\n",
       " 'ST Corporation',\n",
       " '금강무역',\n",
       " '(주)유토',\n",
       " '(주)아벤나스',\n",
       " '스타모터스',\n",
       " '(주)티아이티',\n",
       " 'JY`S',\n",
       " '피코',\n",
       " '새롬모터스',\n",
       " '(주)오토퀸',\n",
       " '명성정공',\n",
       " '엘앤제이컨설턴트',\n",
       " '더에스라인모터스(주)',\n",
       " '모터스밸리(주)',\n",
       " '두고가홀딩(DUGOGA HOLDING)',\n",
       " '(주)화성특장',\n",
       " '(주)신우이천공업',\n",
       " 'HS모터스',\n",
       " '(주)수서모터스',\n",
       " '에스아이디어',\n",
       " '(주)행복만들기',\n",
       " '(주)월드카럭스',\n",
       " '(주)티엔엘대한물류',\n",
       " '(주)이빈',\n",
       " '(주)함코',\n",
       " '번영무역',\n",
       " '(주)이건',\n",
       " '퍼시픽자동차',\n",
       " '(주)노블리더스클럽',\n",
       " '(주)서우테크',\n",
       " '(주)자유락',\n",
       " '(주)태경이엔지',\n",
       " '(주)티티케이',\n",
       " '월드모터스',\n",
       " '한국텍(주)',\n",
       " 'L.K CORPORATION',\n",
       " '(주)성우모터스',\n",
       " '(주)엔엔에스무역',\n",
       " '서광교역',\n",
       " '(주)상상모터스',\n",
       " '디나',\n",
       " '한국도로공사',\n",
       " '메가튜닝',\n",
       " '대영커머스(주)',\n",
       " '(주)GS글로벌',\n",
       " '에이엠씨',\n",
       " '뉴클락모터스',\n",
       " '(주)천석인터내쇼날',\n",
       " '(주)픽쳐맵인터내셔날',\n",
       " '한남상사',\n",
       " '한국쓰리축공업(주)',\n",
       " '모토타운',\n",
       " '원모터스(One motors)',\n",
       " '아우토빌',\n",
       " '(주)씨아이씨코리아',\n",
       " '더블유모터스컴퍼니',\n",
       " '(주)제프모터스',\n",
       " '상원상사',\n",
       " '(주)엘위포투',\n",
       " '(주)메리트무역',\n",
       " '(주)이지에스',\n",
       " '와우모터스',\n",
       " 'TOYCARS',\n",
       " '동아탑정비공업사',\n",
       " '(주)에이브이엠코리아',\n",
       " '일동상사',\n",
       " '(주)에스엔제이프렌차이즈',\n",
       " '신아특장',\n",
       " 'A-motors (에이모터스)',\n",
       " '네오플란오토모빌코리아(주)',\n",
       " '얼라이언스모터스',\n",
       " '엔카월드중고자동차매매상사',\n",
       " '(유)할리데이비슨코리아',\n",
       " '(주)애니모터스',\n",
       " '지럭스',\n",
       " '지인모터스',\n",
       " '한국수력원자력(주)',\n",
       " '지에이치케이(주)',\n",
       " '오오니시 트래이드',\n",
       " '아우토펠릭스',\n",
       " '(주) 에이엠특장',\n",
       " '유니코',\n",
       " '니시쇼오토',\n",
       " '한길무역',\n",
       " '(주)현대퐁고리상사',\n",
       " '지인인터내셔널&지인모터스',\n",
       " 'J.Y트레이딩',\n",
       " '(주)에스더블유모터스',\n",
       " 'I&M',\n",
       " '(주)명진산업',\n",
       " '엠원무역',\n",
       " '(주)삼미모피',\n",
       " '런어웨이코리아',\n",
       " '이화',\n",
       " '트레이시 앤 컴퍼니',\n",
       " '엠지케어',\n",
       " '경인무역',\n",
       " '준성모터스',\n",
       " '(주)알이엑스인터내셔널',\n",
       " '(주)코러스',\n",
       " '뉴오토네이션',\n",
       " 'ACCEL KOREA',\n",
       " '건민특장 주식회사',\n",
       " '(주)코니코스',\n",
       " '(주)오토니드모터스',\n",
       " '(주)하스오토메이션코리아',\n",
       " '미래오토',\n",
       " '마르퀴스모터스(주)',\n",
       " '에프스카이',\n",
       " '양양운수(주)',\n",
       " '(주)카멜리아코리아',\n",
       " '첸들러오토갤러리',\n",
       " 'ATG',\n",
       " '좌동정비공업사2',\n",
       " '노아모터스',\n",
       " '오토라인',\n",
       " '쿠마패밀리',\n",
       " '정우모터스(주)',\n",
       " '홍인메디칼 한독모터스',\n",
       " '(주)서정로지스틱스',\n",
       " '드림오토',\n",
       " '보람정보산업(주)',\n",
       " '가야트레드',\n",
       " '(주)젠모터스',\n",
       " '(주)오토막트',\n",
       " '한양',\n",
       " '(주)센서테크',\n",
       " '(주)얼바인인베스트먼트그룹',\n",
       " '좋은차좋은가격',\n",
       " '(주)국제엑스포통상',\n",
       " '(주)지플러스',\n",
       " 'LUX CAR',\n",
       " '(주)엠원모터스',\n",
       " '(주)이움인터네셔널',\n",
       " '(주)카부티끄아이보',\n",
       " '(주)플래티늄모터스',\n",
       " '알페신코리아(주)',\n",
       " '(주)제이디산업',\n",
       " '카맨',\n",
       " '(주)에이엔디오토모빌',\n",
       " '아이럭셔리모터스',\n",
       " '대경물산',\n",
       " 'ACI C&T(에이씨아이)',\n",
       " '(주)에위니아시스템',\n",
       " '조앤젤라박',\n",
       " '한독CNC',\n",
       " '(주)에스비.케이통상',\n",
       " '에이원모터스',\n",
       " '(주)인진',\n",
       " '(주)제이더블유모터스',\n",
       " '(SG)신기',\n",
       " '훼이트코리아',\n",
       " '브루엄 빕스 코리아',\n",
       " '난닝구',\n",
       " '(주)한기실업',\n",
       " '여해용',\n",
       " '(주)서보테크',\n",
       " '케이앤지모터스',\n",
       " '아우토니드',\n",
       " ...]"
      ]
     },
     "execution_count": 120,
     "metadata": {},
     "output_type": "execute_result"
    }
   ],
   "source": [
    "list(spc['제작사명'].unique())"
   ]
  },
  {
   "cell_type": "code",
   "execution_count": 147,
   "metadata": {},
   "outputs": [
    {
     "data": {
      "text/html": [
       "<div>\n",
       "<style scoped>\n",
       "    .dataframe tbody tr th:only-of-type {\n",
       "        vertical-align: middle;\n",
       "    }\n",
       "\n",
       "    .dataframe tbody tr th {\n",
       "        vertical-align: top;\n",
       "    }\n",
       "\n",
       "    .dataframe thead th {\n",
       "        text-align: right;\n",
       "    }\n",
       "</style>\n",
       "<table border=\"1\" class=\"dataframe\">\n",
       "  <thead>\n",
       "    <tr style=\"text-align: right;\">\n",
       "      <th></th>\n",
       "      <th>차량관리번호</th>\n",
       "      <th>차량등록번호</th>\n",
       "      <th>차대번호</th>\n",
       "      <th>최초등록일자</th>\n",
       "      <th>차대연식</th>\n",
       "      <th>차량연식</th>\n",
       "      <th>차량제작일자</th>\n",
       "      <th>제원관리번호</th>\n",
       "      <th>배출가스인증번호</th>\n",
       "      <th>배출가스등급</th>\n",
       "      <th>...</th>\n",
       "      <th>차종_자관</th>\n",
       "      <th>DPF</th>\n",
       "      <th>저공해</th>\n",
       "      <th>LEN</th>\n",
       "      <th>법정동코드</th>\n",
       "      <th>시도</th>\n",
       "      <th>시구군</th>\n",
       "      <th>시구군동읍면</th>\n",
       "      <th>DPF부착가능여부</th>\n",
       "      <th>WMI</th>\n",
       "    </tr>\n",
       "  </thead>\n",
       "  <tbody>\n",
       "    <tr>\n",
       "      <th>3</th>\n",
       "      <td>KMFHA17GPJC028901-01</td>\n",
       "      <td>96어0349</td>\n",
       "      <td>KMFHA17GPJC028901</td>\n",
       "      <td>20180816</td>\n",
       "      <td>2018.0</td>\n",
       "      <td>2018</td>\n",
       "      <td>20180523</td>\n",
       "      <td>CN210001000003218</td>\n",
       "      <td>5MY-HD-24-59</td>\n",
       "      <td>4</td>\n",
       "      <td>...</td>\n",
       "      <td>중형</td>\n",
       "      <td>유</td>\n",
       "      <td>NaN</td>\n",
       "      <td>17</td>\n",
       "      <td>4127310800</td>\n",
       "      <td>경기</td>\n",
       "      <td>안산시</td>\n",
       "      <td>안산시 단원구 원곡동</td>\n",
       "      <td>NaN</td>\n",
       "      <td>KMF</td>\n",
       "    </tr>\n",
       "  </tbody>\n",
       "</table>\n",
       "<p>1 rows × 44 columns</p>\n",
       "</div>"
      ],
      "text/plain": [
       "                 차량관리번호   차량등록번호               차대번호    최초등록일자    차대연식  차량연식  \\\n",
       "3  KMFHA17GPJC028901-01  96어0349  KMFHA17GPJC028901  20180816  2018.0  2018   \n",
       "\n",
       "     차량제작일자             제원관리번호      배출가스인증번호  배출가스등급  ... 차종_자관 DPF  저공해 LEN  \\\n",
       "3  20180523  CN210001000003218  5MY-HD-24-59       4  ...    중형   유  NaN  17   \n",
       "\n",
       "        법정동코드  시도  시구군       시구군동읍면  DPF부착가능여부  WMI  \n",
       "3  4127310800  경기  안산시  안산시 단원구 원곡동        NaN  KMF  \n",
       "\n",
       "[1 rows x 44 columns]"
      ]
     },
     "execution_count": 147,
     "metadata": {},
     "output_type": "execute_result"
    }
   ],
   "source": [
    "total[total['자동차형식'] == 'PD2WB-HD2.5']"
   ]
  },
  {
   "cell_type": "code",
   "execution_count": 149,
   "metadata": {},
   "outputs": [
    {
     "data": {
      "text/plain": [
       "18137154    팔도2톤윙바디\n",
       "Name: 차명, dtype: object"
      ]
     },
     "execution_count": 149,
     "metadata": {},
     "output_type": "execute_result"
    }
   ],
   "source": [
    "spc[spc['자동차형식'] == 'PD2WB-HD2.5']['차명']"
   ]
  },
  {
   "cell_type": "code",
   "execution_count": 150,
   "metadata": {},
   "outputs": [
    {
     "data": {
      "text/plain": [
       "array(['휘발유', '경유', nan, '기타연료', '등유', '알코올', 'LGP(액화석유가스)',\n",
       "       'CNG(압축천연가스)', '휘발유 하이브리드', 'LPG 하이브리드', '전기', 'LNG(액화천연가스)',\n",
       "       '경유 하이브리드', 'CNG 하이브리드', '수소', '태양열'], dtype=object)"
      ]
     },
     "execution_count": 150,
     "metadata": {},
     "output_type": "execute_result"
    }
   ],
   "source": [
    "spc['연료'].unique()"
   ]
  },
  {
   "attachments": {},
   "cell_type": "markdown",
   "metadata": {},
   "source": [
    "## 3\\. 배출가스 인증번호 없는 경유차 확인"
   ]
  },
  {
   "cell_type": "code",
   "execution_count": 129,
   "metadata": {},
   "outputs": [
    {
     "data": {
      "text/plain": [
       "Index(['차량관리번호', '차량등록번호', '차대번호', '최초등록일자', '차대연식', '차량연식', '차량제작일자',\n",
       "       '제원관리번호', '배출가스인증번호', '배출가스등급', '대표차명', '차명', '차종_제원정보', '차종분류', '차종유형',\n",
       "       '자동차형식', '연료', '엔진형식', '총중량', '공차중량', '적재중량', '배기량', '정원', '길이', '너비',\n",
       "       '높이', '등급CODE', '연료CODE', '세부1', '세부2', '중량CODE', '배기량CODE', '연식CODE',\n",
       "       'GRADE', '차종_자관', 'DPF', '저공해', 'LEN', '법정동코드', '시도', '시구군', '시구군동읍면',\n",
       "       'DPF부착가능여부', 'WMI'],\n",
       "      dtype='object')"
      ]
     },
     "execution_count": 129,
     "metadata": {},
     "output_type": "execute_result"
    }
   ],
   "source": [
    "total.columns"
   ]
  },
  {
   "cell_type": "code",
   "execution_count": 133,
   "metadata": {},
   "outputs": [
    {
     "data": {
      "text/plain": [
       "array(['경유', '휘발유', 'LPG(액화석유가스)', 'CNG(압축천연가스)', '알코올', nan],\n",
       "      dtype=object)"
      ]
     },
     "execution_count": 133,
     "metadata": {},
     "output_type": "execute_result"
    }
   ],
   "source": [
    "total['연료'].unique()"
   ]
  },
  {
   "cell_type": "code",
   "execution_count": 134,
   "metadata": {},
   "outputs": [
    {
     "data": {
      "text/plain": [
       "(1252012, 44)"
      ]
     },
     "execution_count": 134,
     "metadata": {},
     "output_type": "execute_result"
    }
   ],
   "source": [
    "diesel_df = total[total['연료'] == '경유'].reset_index(drop=True)\n",
    "diesel_df.shape"
   ]
  },
  {
   "cell_type": "code",
   "execution_count": 138,
   "metadata": {},
   "outputs": [
    {
     "data": {
      "text/plain": [
       "array([4], dtype=int64)"
      ]
     },
     "execution_count": 138,
     "metadata": {},
     "output_type": "execute_result"
    }
   ],
   "source": [
    "total['배출가스등급'].unique()"
   ]
  },
  {
   "cell_type": "code",
   "execution_count": 135,
   "metadata": {},
   "outputs": [
    {
     "data": {
      "text/plain": [
       "8951"
      ]
     },
     "execution_count": 135,
     "metadata": {},
     "output_type": "execute_result"
    }
   ],
   "source": [
    "diesel_df['배출가스인증번호'].isnull().sum()"
   ]
  },
  {
   "cell_type": "code",
   "execution_count": 139,
   "metadata": {},
   "outputs": [
    {
     "data": {
      "text/plain": [
       "263"
      ]
     },
     "execution_count": 139,
     "metadata": {},
     "output_type": "execute_result"
    }
   ],
   "source": [
    "len(diesel_df.loc[diesel_df['배출가스인증번호'].isnull() == True, '제원관리번호'].unique())"
   ]
  },
  {
   "cell_type": "code",
   "execution_count": 140,
   "metadata": {},
   "outputs": [
    {
     "data": {
      "text/plain": [
       "(8951, 44)"
      ]
     },
     "execution_count": 140,
     "metadata": {},
     "output_type": "execute_result"
    }
   ],
   "source": [
    "diesel_no_df = diesel_df.loc[diesel_df['배출가스인증번호'].isnull() == True].reset_index(drop=True)\n",
    "diesel_no_df.shape"
   ]
  },
  {
   "cell_type": "code",
   "execution_count": 141,
   "metadata": {},
   "outputs": [
    {
     "data": {
      "text/plain": [
       "263"
      ]
     },
     "execution_count": 141,
     "metadata": {},
     "output_type": "execute_result"
    }
   ],
   "source": [
    "len(diesel_no_df['제원관리번호'].unique())"
   ]
  },
  {
   "cell_type": "code",
   "execution_count": 142,
   "metadata": {},
   "outputs": [
    {
     "data": {
      "text/plain": [
       "array([2012, 2010, 2009, 2008, 2006, 2007, 2005, 2013, 2018, 2004, 2003,\n",
       "       2002, 2011, 1996, 1988], dtype=int64)"
      ]
     },
     "execution_count": 142,
     "metadata": {},
     "output_type": "execute_result"
    }
   ],
   "source": [
    "diesel_no_df['차량연식'].unique()"
   ]
  },
  {
   "cell_type": "code",
   "execution_count": 146,
   "metadata": {},
   "outputs": [
    {
     "data": {
      "text/plain": [
       "15"
      ]
     },
     "execution_count": 146,
     "metadata": {},
     "output_type": "execute_result"
    }
   ],
   "source": [
    "len(diesel_no_df['차량연식'].unique())"
   ]
  },
  {
   "cell_type": "code",
   "execution_count": 143,
   "metadata": {},
   "outputs": [
    {
     "data": {
      "text/plain": [
       "248"
      ]
     },
     "execution_count": 143,
     "metadata": {},
     "output_type": "execute_result"
    }
   ],
   "source": [
    "len(diesel_no_df['차명'].unique())"
   ]
  },
  {
   "cell_type": "code",
   "execution_count": 144,
   "metadata": {},
   "outputs": [
    {
     "data": {
      "text/plain": [
       "287"
      ]
     },
     "execution_count": 144,
     "metadata": {},
     "output_type": "execute_result"
    }
   ],
   "source": [
    "len(diesel_no_df['자동차형식'].unique())"
   ]
  },
  {
   "cell_type": "code",
   "execution_count": 145,
   "metadata": {},
   "outputs": [
    {
     "data": {
      "text/plain": [
       "133"
      ]
     },
     "execution_count": 145,
     "metadata": {},
     "output_type": "execute_result"
    }
   ],
   "source": [
    "len(diesel_no_df['엔진형식'].unique())"
   ]
  },
  {
   "cell_type": "code",
   "execution_count": null,
   "metadata": {},
   "outputs": [],
   "source": []
  },
  {
   "attachments": {},
   "cell_type": "markdown",
   "metadata": {},
   "source": [
    "# end"
   ]
  }
 ],
 "metadata": {
  "kernelspec": {
   "display_name": "base",
   "language": "python",
   "name": "python3"
  },
  "language_info": {
   "codemirror_mode": {
    "name": "ipython",
    "version": 3
   },
   "file_extension": ".py",
   "mimetype": "text/x-python",
   "name": "python",
   "nbconvert_exporter": "python",
   "pygments_lexer": "ipython3",
   "version": "3.9.13"
  },
  "orig_nbformat": 4,
  "vscode": {
   "interpreter": {
    "hash": "ad2bdc8ecc057115af97d19610ffacc2b4e99fae6737bb82f5d7fb13d2f2c186"
   }
  }
 },
 "nbformat": 4,
 "nbformat_minor": 2
}
