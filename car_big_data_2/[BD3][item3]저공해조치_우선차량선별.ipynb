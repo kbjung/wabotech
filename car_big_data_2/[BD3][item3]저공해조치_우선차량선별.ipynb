{
 "cells": [
  {
   "attachments": {},
   "cell_type": "markdown",
   "metadata": {},
   "source": [
    "# Library\n"
   ]
  },
  {
   "cell_type": "code",
   "execution_count": 2,
   "metadata": {},
   "outputs": [],
   "source": [
    "import pandas as pd\n",
    "import numpy as np\n",
    "import os\n",
    "from tqdm import tqdm\n",
    "from datetime import datetime"
   ]
  },
  {
   "cell_type": "code",
   "execution_count": 3,
   "metadata": {},
   "outputs": [],
   "source": [
    "# 소수점 옵션\n",
    "pd.options.display.float_format = '{:.2f}'.format\n",
    "# pd.reset_option('display.float_format')"
   ]
  },
  {
   "attachments": {},
   "cell_type": "markdown",
   "metadata": {},
   "source": [
    "# fold path"
   ]
  },
  {
   "cell_type": "code",
   "execution_count": 4,
   "metadata": {},
   "outputs": [],
   "source": [
    "drive = 'D'"
   ]
  },
  {
   "cell_type": "code",
   "execution_count": 5,
   "metadata": {},
   "outputs": [],
   "source": [
    "ods_fold = f'{drive}:/data/big2/ODS'\n",
    "big2_fold = f'{drive}:/data/big2'\n",
    "analysis_fold = f'{drive}:/data/big2/BD3/an'"
   ]
  },
  {
   "attachments": {},
   "cell_type": "markdown",
   "metadata": {},
   "source": [
    "# Load"
   ]
  },
  {
   "attachments": {},
   "cell_type": "markdown",
   "metadata": {},
   "source": [
    "## 등록&제원정보(4등급) result"
   ]
  },
  {
   "cell_type": "code",
   "execution_count": 121,
   "metadata": {},
   "outputs": [
    {
     "name": "stdout",
     "output_type": "stream",
     "text": [
      "<class 'pandas.core.frame.DataFrame'>\n",
      "RangeIndex: 1502235 entries, 0 to 1502234\n",
      "Data columns (total 40 columns):\n",
      " #   Column      Non-Null Count    Dtype  \n",
      "---  ------      --------------    -----  \n",
      " 0   차대번호        1502235 non-null  object \n",
      " 1   차량번호        1502235 non-null  object \n",
      " 2   제원관리번호      1502235 non-null  object \n",
      " 3   차종          1502235 non-null  object \n",
      " 4   용도          1502235 non-null  object \n",
      " 5   최초등록일       1502235 non-null  int64  \n",
      " 6   연식          1502235 non-null  int64  \n",
      " 7   제작일자        1335178 non-null  float64\n",
      " 8   검사유효일       1502223 non-null  float64\n",
      " 9   배출가스인증번호    1384783 non-null  object \n",
      " 10  등급          1502235 non-null  int64  \n",
      " 11  차명          1502235 non-null  object \n",
      " 12  차종분류        1502235 non-null  object \n",
      " 13  차종유형        1502235 non-null  object \n",
      " 14  자동차형식       1501958 non-null  object \n",
      " 15  제작사명        1492590 non-null  object \n",
      " 16  연료          1502235 non-null  object \n",
      " 17  엔진형식        1500400 non-null  object \n",
      " 18  총중량         1502234 non-null  float64\n",
      " 19  적재중량        1501728 non-null  float64\n",
      " 20  엔진출력        1501882 non-null  object \n",
      " 21  배기량         1502231 non-null  float64\n",
      " 22  법정동코드       1502235 non-null  int64  \n",
      " 23  시도명         1502235 non-null  object \n",
      " 24  시군구명        1502235 non-null  object \n",
      " 25  소유자구분       1502235 non-null  object \n",
      " 26  말소여부        1502235 non-null  object \n",
      " 27  일치유무        1153813 non-null  object \n",
      " 28  인증번호 수정 유무  1151141 non-null  object \n",
      " 29  배인번호_수정     1153813 non-null  object \n",
      " 30  등급_수정       1502235 non-null  float64\n",
      " 31  DPF유무_수정    1153813 non-null  object \n",
      " 32  배출가스        1151141 non-null  object \n",
      " 33  등급2         1151141 non-null  object \n",
      " 34  DPF         1144315 non-null  object \n",
      " 35  비고          46494 non-null    object \n",
      " 36  Grade       1497711 non-null  object \n",
      " 37  차령          1502235 non-null  int64  \n",
      " 38  시군구명_수정     1502235 non-null  object \n",
      " 39  1일평균주행거리    1502235 non-null  float64\n",
      "dtypes: float64(7), int64(5), object(28)\n",
      "memory usage: 458.4+ MB\n"
     ]
    }
   ],
   "source": [
    "# about 17.7s\n",
    "name = '4등급_차량_리스트_양식_result(전체)_Grade_추가_1일평균주행거리_추가(2023.04.19_PM.02.25.59)'\n",
    "file_name = f'{name}.csv'\n",
    "g4 = pd.read_csv(os.path.join(ods_fold, file_name), low_memory=False)\n",
    "g4.info()"
   ]
  },
  {
   "attachments": {},
   "cell_type": "markdown",
   "metadata": {},
   "source": [
    "## 등록&제원정보(5등급)"
   ]
  },
  {
   "cell_type": "code",
   "execution_count": 145,
   "metadata": {},
   "outputs": [
    {
     "name": "stdout",
     "output_type": "stream",
     "text": [
      "<class 'pandas.core.frame.DataFrame'>\n",
      "RangeIndex: 2378648 entries, 0 to 2378647\n",
      "Data columns (total 49 columns):\n",
      " #   Column        Dtype  \n",
      "---  ------        -----  \n",
      " 0   차량관리번호        object \n",
      " 1   차량등록번호        object \n",
      " 2   본거지법정동코드      int64  \n",
      " 3   소유자구분         object \n",
      " 4   차종_등록정보       object \n",
      " 5   용도            object \n",
      " 6   현재회원번호        object \n",
      " 7   차대번호          object \n",
      " 8   최초등록일자        int64  \n",
      " 9   차량연식          int64  \n",
      " 10  차량제작일자        float64\n",
      " 11  배출가스검사유효일자    float64\n",
      " 12  제원관리번호        object \n",
      " 13  배출가스인증번호      object \n",
      " 14  배출가스등급        object \n",
      " 15  저공해조치YN(미사용)  object \n",
      " 16  저공해조치종류       float64\n",
      " 17  저공해조치구조변경YN   object \n",
      " 18  차량등록번호숫자정보    int64  \n",
      " 19  차량말소YN        object \n",
      " 20  최초회원번호        object \n",
      " 21  취득일자          float64\n",
      " 22  취득금액          float64\n",
      " 23  생성일시_등록정보     object \n",
      " 24  수정일시_등록정보     object \n",
      " 25  차명            object \n",
      " 26  차종_제원정보       object \n",
      " 27  차종분류          object \n",
      " 28  차종유형(소분류)     object \n",
      " 29  자동차형식         object \n",
      " 30  제작사명          object \n",
      " 31  연료            object \n",
      " 32  엔진형식          object \n",
      " 33  공차중량          float64\n",
      " 34  총중량           float64\n",
      " 35  적재중량          float64\n",
      " 36  엔진출력          float64\n",
      " 37  배기량           float64\n",
      " 38  승차인원          float64\n",
      " 39  차량길이          float64\n",
      " 40  차량너비          float64\n",
      " 41  차량높이          float64\n",
      " 42  원산지명          object \n",
      " 43  삭제YN          object \n",
      " 44  승인일자          object \n",
      " 45  구동형식          float64\n",
      " 46  변속기종류         object \n",
      " 47  생성일시_제원정보     object \n",
      " 48  수정일시_제원정보     object \n",
      "dtypes: float64(15), int64(4), object(30)\n",
      "memory usage: 889.2+ MB\n"
     ]
    }
   ],
   "source": [
    "# about 37.6s\n",
    "name = '[ODS][G5]등록정보&제원정보(2022.12.28)'\n",
    "file_name = f'{name}.csv'\n",
    "g5 = pd.read_csv(os.path.join(ods_fold, file_name), low_memory=False, encoding='cp949')\n",
    "g5.info()"
   ]
  },
  {
   "attachments": {},
   "cell_type": "markdown",
   "metadata": {},
   "source": [
    "## 정기, 정밀검사(최근3년)"
   ]
  },
  {
   "cell_type": "code",
   "execution_count": 141,
   "metadata": {},
   "outputs": [
    {
     "name": "stdout",
     "output_type": "stream",
     "text": [
      "<class 'pandas.core.frame.DataFrame'>\n",
      "RangeIndex: 37578269 entries, 0 to 37578268\n",
      "Data columns (total 35 columns):\n",
      " #   Column     Dtype  \n",
      "---  ------     -----  \n",
      " 0   사용연료       object \n",
      " 1   주행거리       object \n",
      " 2   차명         object \n",
      " 3   차량번호       object \n",
      " 4   차대번호       object \n",
      " 5   차종         object \n",
      " 6   차량연식       int64  \n",
      " 7   엔진형식       object \n",
      " 8   검사방법       object \n",
      " 9   검사일자       int64  \n",
      " 10  검사종류       object \n",
      " 11  검사판정시각     object \n",
      " 12  검사판정       object \n",
      " 13  산소값        float64\n",
      " 14  이산화탄소값     float64\n",
      " 15  무부하매연판정1   object \n",
      " 16  무부하매연판정2   object \n",
      " 17  무부하매연판정3   object \n",
      " 18  무부하매연판정4   object \n",
      " 19  무부하매연판정5   object \n",
      " 20  무부하매연판정6   object \n",
      " 21  무부하매연허용치1  float64\n",
      " 22  무부하매연허용치2  float64\n",
      " 23  무부하매연허용치3  float64\n",
      " 24  무부하매연허용치4  float64\n",
      " 25  무부하매연허용치5  float64\n",
      " 26  무부하매연허용치6  float64\n",
      " 27  무부하매연측정치1  float64\n",
      " 28  무부하매연측정치2  float64\n",
      " 29  무부하매연측정치3  float64\n",
      " 30  무부하매연측정치4  float64\n",
      " 31  무부하매연측정치5  float64\n",
      " 32  무부하매연측정치6  float64\n",
      " 33  검사유효기간     object \n",
      " 34  정기정밀       object \n",
      "dtypes: float64(14), int64(2), object(19)\n",
      "memory usage: 9.8+ GB\n"
     ]
    }
   ],
   "source": [
    "# about 5m 32.5s\n",
    "name = '[ODS]정기&정밀검사(최근3년)(2022.12.28)'\n",
    "file_name = f'{name}.csv'\n",
    "ins = pd.read_csv(os.path.join(ods_fold, file_name), low_memory=False, encoding='cp949')\n",
    "ins.info()"
   ]
  },
  {
   "attachments": {},
   "cell_type": "markdown",
   "metadata": {},
   "source": [
    "## 노후차 조기폐차 관리정보 수도권"
   ]
  },
  {
   "cell_type": "code",
   "execution_count": 142,
   "metadata": {},
   "outputs": [
    {
     "name": "stdout",
     "output_type": "stream",
     "text": [
      "<class 'pandas.core.frame.DataFrame'>\n",
      "RangeIndex: 770311 entries, 0 to 770310\n",
      "Data columns (total 2 columns):\n",
      " #   Column      Non-Null Count   Dtype \n",
      "---  ------      --------------   ----- \n",
      " 0   차대번호        770311 non-null  object\n",
      " 1   조기폐차최종승인YN  680625 non-null  object\n",
      "dtypes: object(2)\n",
      "memory usage: 11.8+ MB\n"
     ]
    }
   ],
   "source": [
    "# about 18.8s\n",
    "name = '[ODS]노후차_조기폐차_관리정보_수도권(2022.12.28)'\n",
    "file_name = f'{name}.csv'\n",
    "aea = pd.read_csv(os.path.join(ods_fold, file_name), low_memory=False, encoding='cp949', usecols=['차대번호', '조기폐차최종승인YN'])\n",
    "aea.info()"
   ]
  },
  {
   "attachments": {},
   "cell_type": "markdown",
   "metadata": {},
   "source": [
    "## 노후차 조기폐차 관리정보 수도권 외"
   ]
  },
  {
   "cell_type": "code",
   "execution_count": 143,
   "metadata": {},
   "outputs": [
    {
     "name": "stdout",
     "output_type": "stream",
     "text": [
      "<class 'pandas.core.frame.DataFrame'>\n",
      "RangeIndex: 291353 entries, 0 to 291352\n",
      "Data columns (total 2 columns):\n",
      " #   Column      Non-Null Count   Dtype \n",
      "---  ------      --------------   ----- \n",
      " 0   차대번호        291353 non-null  object\n",
      " 1   조기폐차최종승인YN  128589 non-null  object\n",
      "dtypes: object(2)\n",
      "memory usage: 4.4+ MB\n"
     ]
    }
   ],
   "source": [
    "# about 5.2s\n",
    "name = '[ODS]노후차_조기폐차_관리정보_수도권외(2022.12.28)'\n",
    "file_name = f'{name}.csv'\n",
    "lgv = pd.read_csv(os.path.join(ods_fold, file_name), low_memory=False, encoding='cp949', usecols=['차대번호', '조기폐차최종승인YN'])\n",
    "lgv.info()"
   ]
  },
  {
   "attachments": {},
   "cell_type": "markdown",
   "metadata": {},
   "source": [
    "## 저감장치 부착이력"
   ]
  },
  {
   "cell_type": "code",
   "execution_count": 152,
   "metadata": {},
   "outputs": [
    {
     "name": "stdout",
     "output_type": "stream",
     "text": [
      "<class 'pandas.core.frame.DataFrame'>\n",
      "RangeIndex: 810777 entries, 0 to 810776\n",
      "Data columns (total 2 columns):\n",
      " #   Column  Non-Null Count   Dtype \n",
      "---  ------  --------------   ----- \n",
      " 0   차대번호    810777 non-null  object\n",
      " 1   저감장치구분  810777 non-null  object\n",
      "dtypes: object(2)\n",
      "memory usage: 12.4+ MB\n"
     ]
    }
   ],
   "source": [
    "# about 2.3s\n",
    "name = '[ODS]저감장치부착이력(2022.12.28)'\n",
    "file_name = f'{name}.csv'\n",
    "# att = pd.read_csv(os.path.join(ods_fold, file_name), low_memory=False, encoding='cp949', nrows=5)\n",
    "att = pd.read_csv(os.path.join(ods_fold, file_name), low_memory=False, encoding='cp949', usecols=['차대번호', '저감장치구분'])\n",
    "att.info()"
   ]
  },
  {
   "attachments": {},
   "cell_type": "markdown",
   "metadata": {},
   "source": [
    "## 4, 5등급 검사 비교"
   ]
  },
  {
   "cell_type": "code",
   "execution_count": 146,
   "metadata": {},
   "outputs": [
    {
     "name": "stdout",
     "output_type": "stream",
     "text": [
      "<class 'pandas.core.frame.DataFrame'>\n",
      "RangeIndex: 3185932 entries, 0 to 3185931\n",
      "Data columns (total 9 columns):\n",
      " #   Column  Dtype  \n",
      "---  ------  -----  \n",
      " 0   배출가스등급  object \n",
      " 1   차대번호    object \n",
      " 2   최신검사일자  int64  \n",
      " 3   최신주행거리  float64\n",
      " 4   이전검사일자  float64\n",
      " 5   이전주행거리  float64\n",
      " 6   검사일자차이  float64\n",
      " 7   주행거리차이  float64\n",
      " 8   최신경과기간  float64\n",
      "dtypes: float64(6), int64(1), object(2)\n",
      "memory usage: 218.8+ MB\n"
     ]
    }
   ],
   "source": [
    "# about 4.9s\n",
    "name = '45등급 검사 비교(2023.05.04)'\n",
    "file_name = f'{name}.csv'\n",
    "chk = pd.read_csv(os.path.join(ods_fold, file_name), low_memory=False, encoding='cp949')\n",
    "chk.info()"
   ]
  },
  {
   "attachments": {},
   "cell_type": "markdown",
   "metadata": {},
   "source": [
    "## 차명_연료_매칭"
   ]
  },
  {
   "cell_type": "code",
   "execution_count": 147,
   "metadata": {},
   "outputs": [
    {
     "name": "stdout",
     "output_type": "stream",
     "text": [
      "<class 'pandas.core.frame.DataFrame'>\n",
      "RangeIndex: 216 entries, 0 to 215\n",
      "Data columns (total 2 columns):\n",
      " #   Column  Non-Null Count  Dtype \n",
      "---  ------  --------------  ----- \n",
      " 0   차명      216 non-null    object\n",
      " 1   연료      216 non-null    object\n",
      "dtypes: object(2)\n",
      "memory usage: 3.5+ KB\n"
     ]
    }
   ],
   "source": [
    "# about 0.6s\n",
    "name = '차명_연료_매칭_2023.03.03_AM.11.12.03'\n",
    "file_name = f'{name}.xlsx'\n",
    "fuel = pd.read_excel(os.path.join(big2_fold, file_name))\n",
    "fuel.info()"
   ]
  },
  {
   "attachments": {},
   "cell_type": "markdown",
   "metadata": {},
   "source": [
    "## 법정동 코드"
   ]
  },
  {
   "cell_type": "code",
   "execution_count": 148,
   "metadata": {},
   "outputs": [
    {
     "name": "stdout",
     "output_type": "stream",
     "text": [
      "<class 'pandas.core.frame.DataFrame'>\n",
      "RangeIndex: 46342 entries, 0 to 46341\n",
      "Data columns (total 3 columns):\n",
      " #   Column  Non-Null Count  Dtype \n",
      "---  ------  --------------  ----- \n",
      " 0   법정동코드   46342 non-null  int64 \n",
      " 1   시도      46342 non-null  object\n",
      " 2   시구군     46319 non-null  object\n",
      "dtypes: int64(1), object(2)\n",
      "memory usage: 1.1+ MB\n"
     ]
    }
   ],
   "source": [
    "# about 5.6s\n",
    "name = '법정동코드_2022.10.14(수정2023.05.04)'\n",
    "file_name = f'{name}.xlsx'\n",
    "code = pd.read_excel(os.path.join(big2_fold, file_name), usecols=['법정동코드', '시도', '시구군'])\n",
    "code.info()"
   ]
  },
  {
   "cell_type": "code",
   "execution_count": 149,
   "metadata": {},
   "outputs": [
    {
     "data": {
      "text/html": [
       "<div>\n",
       "<style scoped>\n",
       "    .dataframe tbody tr th:only-of-type {\n",
       "        vertical-align: middle;\n",
       "    }\n",
       "\n",
       "    .dataframe tbody tr th {\n",
       "        vertical-align: top;\n",
       "    }\n",
       "\n",
       "    .dataframe thead th {\n",
       "        text-align: right;\n",
       "    }\n",
       "</style>\n",
       "<table border=\"1\" class=\"dataframe\">\n",
       "  <thead>\n",
       "    <tr style=\"text-align: right;\">\n",
       "      <th></th>\n",
       "      <th>법정동코드</th>\n",
       "      <th>시도</th>\n",
       "      <th>시구군</th>\n",
       "    </tr>\n",
       "  </thead>\n",
       "  <tbody>\n",
       "    <tr>\n",
       "      <th>0</th>\n",
       "      <td>1100000000</td>\n",
       "      <td>서울특별시</td>\n",
       "      <td>NaN</td>\n",
       "    </tr>\n",
       "    <tr>\n",
       "      <th>1</th>\n",
       "      <td>1111000000</td>\n",
       "      <td>서울특별시</td>\n",
       "      <td>종로구</td>\n",
       "    </tr>\n",
       "    <tr>\n",
       "      <th>2</th>\n",
       "      <td>1111010100</td>\n",
       "      <td>서울특별시</td>\n",
       "      <td>종로구</td>\n",
       "    </tr>\n",
       "    <tr>\n",
       "      <th>3</th>\n",
       "      <td>1111010200</td>\n",
       "      <td>서울특별시</td>\n",
       "      <td>종로구</td>\n",
       "    </tr>\n",
       "    <tr>\n",
       "      <th>4</th>\n",
       "      <td>1111010300</td>\n",
       "      <td>서울특별시</td>\n",
       "      <td>종로구</td>\n",
       "    </tr>\n",
       "  </tbody>\n",
       "</table>\n",
       "</div>"
      ],
      "text/plain": [
       "        법정동코드     시도  시구군\n",
       "0  1100000000  서울특별시  NaN\n",
       "1  1111000000  서울특별시  종로구\n",
       "2  1111010100  서울특별시  종로구\n",
       "3  1111010200  서울특별시  종로구\n",
       "4  1111010300  서울특별시  종로구"
      ]
     },
     "execution_count": 149,
     "metadata": {},
     "output_type": "execute_result"
    }
   ],
   "source": [
    "code.head()"
   ]
  },
  {
   "cell_type": "code",
   "execution_count": 150,
   "metadata": {},
   "outputs": [
    {
     "data": {
      "text/html": [
       "<div>\n",
       "<style scoped>\n",
       "    .dataframe tbody tr th:only-of-type {\n",
       "        vertical-align: middle;\n",
       "    }\n",
       "\n",
       "    .dataframe tbody tr th {\n",
       "        vertical-align: top;\n",
       "    }\n",
       "\n",
       "    .dataframe thead th {\n",
       "        text-align: right;\n",
       "    }\n",
       "</style>\n",
       "<table border=\"1\" class=\"dataframe\">\n",
       "  <thead>\n",
       "    <tr style=\"text-align: right;\">\n",
       "      <th></th>\n",
       "      <th>본거지법정동코드</th>\n",
       "      <th>시도</th>\n",
       "      <th>시구군</th>\n",
       "    </tr>\n",
       "  </thead>\n",
       "  <tbody>\n",
       "    <tr>\n",
       "      <th>0</th>\n",
       "      <td>1100000000</td>\n",
       "      <td>서울특별시</td>\n",
       "      <td>NaN</td>\n",
       "    </tr>\n",
       "    <tr>\n",
       "      <th>1</th>\n",
       "      <td>1111000000</td>\n",
       "      <td>서울특별시</td>\n",
       "      <td>종로구</td>\n",
       "    </tr>\n",
       "    <tr>\n",
       "      <th>2</th>\n",
       "      <td>1111010100</td>\n",
       "      <td>서울특별시</td>\n",
       "      <td>종로구</td>\n",
       "    </tr>\n",
       "    <tr>\n",
       "      <th>3</th>\n",
       "      <td>1111010200</td>\n",
       "      <td>서울특별시</td>\n",
       "      <td>종로구</td>\n",
       "    </tr>\n",
       "    <tr>\n",
       "      <th>4</th>\n",
       "      <td>1111010300</td>\n",
       "      <td>서울특별시</td>\n",
       "      <td>종로구</td>\n",
       "    </tr>\n",
       "  </tbody>\n",
       "</table>\n",
       "</div>"
      ],
      "text/plain": [
       "     본거지법정동코드     시도  시구군\n",
       "0  1100000000  서울특별시  NaN\n",
       "1  1111000000  서울특별시  종로구\n",
       "2  1111010100  서울특별시  종로구\n",
       "3  1111010200  서울특별시  종로구\n",
       "4  1111010300  서울특별시  종로구"
      ]
     },
     "execution_count": 150,
     "metadata": {},
     "output_type": "execute_result"
    }
   ],
   "source": [
    "code = code.rename(columns={'법정동코드':'본거지법정동코드'})\n",
    "code.head()"
   ]
  },
  {
   "attachments": {},
   "cell_type": "markdown",
   "metadata": {},
   "source": [
    "# 전처리"
   ]
  },
  {
   "attachments": {},
   "cell_type": "markdown",
   "metadata": {},
   "source": [
    "## 검사 정보 필요 데이터만 추출"
   ]
  },
  {
   "cell_type": "code",
   "execution_count": 153,
   "metadata": {},
   "outputs": [
    {
     "data": {
      "text/plain": [
       "Index(['사용연료', '주행거리', '차명', '차량번호', '차대번호', '차종', '차량연식', '엔진형식', '검사방법',\n",
       "       '검사일자', '검사종류', '검사판정시각', '검사판정', '산소값', '이산화탄소값', '무부하매연판정1',\n",
       "       '무부하매연판정2', '무부하매연판정3', '무부하매연판정4', '무부하매연판정5', '무부하매연판정6', '무부하매연허용치1',\n",
       "       '무부하매연허용치2', '무부하매연허용치3', '무부하매연허용치4', '무부하매연허용치5', '무부하매연허용치6',\n",
       "       '무부하매연측정치1', '무부하매연측정치2', '무부하매연측정치3', '무부하매연측정치4', '무부하매연측정치5',\n",
       "       '무부하매연측정치6', '검사유효기간', '정기정밀'],\n",
       "      dtype='object')"
      ]
     },
     "execution_count": 153,
     "metadata": {},
     "output_type": "execute_result"
    }
   ],
   "source": [
    "ins.columns"
   ]
  },
  {
   "cell_type": "code",
   "execution_count": 154,
   "metadata": {},
   "outputs": [
    {
     "data": {
      "text/plain": [
       "(37578269, 35)"
      ]
     },
     "execution_count": 154,
     "metadata": {},
     "output_type": "execute_result"
    }
   ],
   "source": [
    "ins.shape"
   ]
  },
  {
   "cell_type": "code",
   "execution_count": 155,
   "metadata": {},
   "outputs": [
    {
     "data": {
      "text/plain": [
       "(37578269, 11)"
      ]
     },
     "execution_count": 155,
     "metadata": {},
     "output_type": "execute_result"
    }
   ],
   "source": [
    "insm = ins[['차대번호', '검사일자', '검사방법', '검사종류', '검사판정', '무부하매연판정1', '무부하매연판정2', '무부하매연판정3', '무부하매연측정치1', '무부하매연측정치2', '무부하매연측정치3']]\n",
    "insm.shape"
   ]
  },
  {
   "cell_type": "code",
   "execution_count": 156,
   "metadata": {},
   "outputs": [
    {
     "data": {
      "text/plain": [
       "(20714502, 11)"
      ]
     },
     "execution_count": 156,
     "metadata": {},
     "output_type": "execute_result"
    }
   ],
   "source": [
    "# about 26.4s\n",
    "insm = insm.sort_values('검사일자', ascending=False).reset_index(drop=True)\n",
    "insm = insm.drop_duplicates(['차대번호']).reset_index(drop=True)\n",
    "insm.shape"
   ]
  },
  {
   "attachments": {},
   "cell_type": "markdown",
   "metadata": {},
   "source": [
    "## 말소 차량 제거"
   ]
  },
  {
   "cell_type": "code",
   "execution_count": 157,
   "metadata": {},
   "outputs": [
    {
     "data": {
      "text/plain": [
       "Index(['차대번호', '차량번호', '제원관리번호', '차종', '용도', '최초등록일', '연식', '제작일자', '검사유효일',\n",
       "       '배출가스인증번호', '등급', '차명', '차종분류', '차종유형', '자동차형식', '제작사명', '연료', '엔진형식',\n",
       "       '총중량', '적재중량', '엔진출력', '배기량', '법정동코드', '시도명', '시군구명', '소유자구분', '말소여부',\n",
       "       '일치유무', '인증번호 수정 유무', '배인번호_수정', '등급_수정', 'DPF유무_수정', '배출가스', '등급2',\n",
       "       'DPF', '비고', 'Grade', '차령', '시군구명_수정', '1일평균주행거리'],\n",
       "      dtype='object')"
      ]
     },
     "execution_count": 157,
     "metadata": {},
     "output_type": "execute_result"
    }
   ],
   "source": [
    "g4.columns"
   ]
  },
  {
   "cell_type": "code",
   "execution_count": 158,
   "metadata": {},
   "outputs": [
    {
     "data": {
      "text/plain": [
       "N    1502235\n",
       "Name: 말소여부, dtype: int64"
      ]
     },
     "execution_count": 158,
     "metadata": {},
     "output_type": "execute_result"
    }
   ],
   "source": [
    "g4['말소여부'].value_counts(dropna=False)"
   ]
  },
  {
   "cell_type": "code",
   "execution_count": 159,
   "metadata": {},
   "outputs": [
    {
     "data": {
      "text/plain": [
       "(1502235, 40)"
      ]
     },
     "execution_count": 159,
     "metadata": {},
     "output_type": "execute_result"
    }
   ],
   "source": [
    "gm4 = g4.loc[g4['말소여부'] == 'N'].reset_index(drop=True)\n",
    "gm4.shape"
   ]
  },
  {
   "cell_type": "code",
   "execution_count": 160,
   "metadata": {},
   "outputs": [
    {
     "data": {
      "text/plain": [
       "Y    1223886\n",
       "N    1154762\n",
       "Name: 차량말소YN, dtype: int64"
      ]
     },
     "execution_count": 160,
     "metadata": {},
     "output_type": "execute_result"
    }
   ],
   "source": [
    "g5['차량말소YN'].value_counts(dropna=False)"
   ]
  },
  {
   "cell_type": "code",
   "execution_count": 161,
   "metadata": {},
   "outputs": [
    {
     "data": {
      "text/plain": [
       "(1154762, 49)"
      ]
     },
     "execution_count": 161,
     "metadata": {},
     "output_type": "execute_result"
    }
   ],
   "source": [
    "gm5 = g5.loc[g5['차량말소YN'] == 'N'].reset_index(drop=True)\n",
    "gm5.shape"
   ]
  },
  {
   "attachments": {},
   "cell_type": "markdown",
   "metadata": {},
   "source": [
    "## result 4등급 경유만 추출"
   ]
  },
  {
   "cell_type": "code",
   "execution_count": 162,
   "metadata": {},
   "outputs": [
    {
     "data": {
      "text/plain": [
       "4.00    1497711\n",
       "3.00       4397\n",
       "5.00        127\n",
       "Name: 등급_수정, dtype: int64"
      ]
     },
     "execution_count": 162,
     "metadata": {},
     "output_type": "execute_result"
    }
   ],
   "source": [
    "gm4['등급_수정'].value_counts(dropna=False)"
   ]
  },
  {
   "cell_type": "code",
   "execution_count": 163,
   "metadata": {},
   "outputs": [
    {
     "data": {
      "text/plain": [
       "(1497711, 40)"
      ]
     },
     "execution_count": 163,
     "metadata": {},
     "output_type": "execute_result"
    }
   ],
   "source": [
    "gm4 = gm4.loc[gm4['등급_수정'] == 4].reset_index(drop=True)\n",
    "gm4.shape"
   ]
  },
  {
   "cell_type": "code",
   "execution_count": 164,
   "metadata": {},
   "outputs": [
    {
     "data": {
      "text/plain": [
       "경유             1149289\n",
       "휘발유             323019\n",
       "LPG(액화석유가스)      25400\n",
       "알코올                  1\n",
       "기타연료                 1\n",
       "CNG(압축천연가스)          1\n",
       "Name: 연료, dtype: int64"
      ]
     },
     "execution_count": 164,
     "metadata": {},
     "output_type": "execute_result"
    }
   ],
   "source": [
    "gm4['연료'].value_counts(dropna=False)"
   ]
  },
  {
   "cell_type": "code",
   "execution_count": 165,
   "metadata": {},
   "outputs": [
    {
     "data": {
      "text/plain": [
       "(1149289, 40)"
      ]
     },
     "execution_count": 165,
     "metadata": {},
     "output_type": "execute_result"
    }
   ],
   "source": [
    "gm4 = gm4.loc[gm4['연료'] == '경유'].reset_index(drop=True)\n",
    "gm4.shape"
   ]
  },
  {
   "attachments": {},
   "cell_type": "markdown",
   "metadata": {},
   "source": [
    "## 필수 컬럼만 추출"
   ]
  },
  {
   "cell_type": "code",
   "execution_count": 166,
   "metadata": {},
   "outputs": [
    {
     "data": {
      "text/plain": [
       "Index(['차대번호', '차량번호', '제원관리번호', '차종', '용도', '최초등록일', '연식', '제작일자', '검사유효일',\n",
       "       '배출가스인증번호', '등급', '차명', '차종분류', '차종유형', '자동차형식', '제작사명', '연료', '엔진형식',\n",
       "       '총중량', '적재중량', '엔진출력', '배기량', '법정동코드', '시도명', '시군구명', '소유자구분', '말소여부',\n",
       "       '일치유무', '인증번호 수정 유무', '배인번호_수정', '등급_수정', 'DPF유무_수정', '배출가스', '등급2',\n",
       "       'DPF', '비고', 'Grade', '차령', '시군구명_수정', '1일평균주행거리'],\n",
       "      dtype='object')"
      ]
     },
     "execution_count": 166,
     "metadata": {},
     "output_type": "execute_result"
    }
   ],
   "source": [
    "gm4.columns"
   ]
  },
  {
   "cell_type": "code",
   "execution_count": 167,
   "metadata": {},
   "outputs": [
    {
     "data": {
      "text/plain": [
       "array(['승용', '특수', '승합', '화물'], dtype=object)"
      ]
     },
     "execution_count": 167,
     "metadata": {},
     "output_type": "execute_result"
    }
   ],
   "source": [
    "gm4['차종'].unique()"
   ]
  },
  {
   "cell_type": "code",
   "execution_count": 168,
   "metadata": {},
   "outputs": [],
   "source": [
    "# gm4['차종_제원정보'].unique()"
   ]
  },
  {
   "cell_type": "code",
   "execution_count": 169,
   "metadata": {},
   "outputs": [],
   "source": [
    "# gm4 = gm4[['차량등록번호', '본거지법정동코드', '차대번호', '제원관리번호', '배출가스인증번호', '배출가스등급', '차명', '차종_제원정보', '연료', '배기량']]\n",
    "# gm4.shape"
   ]
  },
  {
   "cell_type": "code",
   "execution_count": 170,
   "metadata": {},
   "outputs": [
    {
     "data": {
      "text/plain": [
       "(1154762, 10)"
      ]
     },
     "execution_count": 170,
     "metadata": {},
     "output_type": "execute_result"
    }
   ],
   "source": [
    "gm5 = gm5[['차량등록번호', '본거지법정동코드', '차대번호', '제원관리번호', '배출가스인증번호', '배출가스등급', '차명', '차종_제원정보', '연료', '배기량']]\n",
    "gm5.shape"
   ]
  },
  {
   "attachments": {},
   "cell_type": "markdown",
   "metadata": {},
   "source": [
    "## 연료 결측, 기타연료 확인"
   ]
  },
  {
   "cell_type": "code",
   "execution_count": 171,
   "metadata": {},
   "outputs": [
    {
     "data": {
      "text/plain": [
       "경유    1149289\n",
       "Name: 연료, dtype: int64"
      ]
     },
     "execution_count": 171,
     "metadata": {},
     "output_type": "execute_result"
    }
   ],
   "source": [
    "gm4['연료'].value_counts(dropna=False)"
   ]
  },
  {
   "cell_type": "code",
   "execution_count": 172,
   "metadata": {},
   "outputs": [
    {
     "data": {
      "text/plain": [
       "경유             1124215\n",
       "휘발유              30051\n",
       "LPG(액화석유가스)        436\n",
       "NaN                 29\n",
       "기타연료                25\n",
       "CNG(압축천연가스)          5\n",
       "알코올                  1\n",
       "Name: 연료, dtype: int64"
      ]
     },
     "execution_count": 172,
     "metadata": {},
     "output_type": "execute_result"
    }
   ],
   "source": [
    "gm5['연료'].value_counts(dropna=False)"
   ]
  },
  {
   "cell_type": "code",
   "execution_count": 173,
   "metadata": {},
   "outputs": [
    {
     "data": {
      "text/plain": [
       "{'BENZ S500': '휘발유',\n",
       " 'BMW': '휘발유',\n",
       " 'BMW 3-SERIES': '휘발유',\n",
       " 'BMW 318I': '휘발유',\n",
       " 'BMW 325CI': '휘발유',\n",
       " 'BMW 325I': '휘발유',\n",
       " 'BMW 325i': '휘발유',\n",
       " 'BMW 328I': '휘발유',\n",
       " 'BMW 525I': '휘발유',\n",
       " 'BMW 528I': '휘발유',\n",
       " 'BMW 530I': '휘발유',\n",
       " 'BMW 5SERIES': '휘발유',\n",
       " 'BMW 750Li': '휘발유',\n",
       " 'BMW X3': '휘발유',\n",
       " 'BMW X5': '휘발유',\n",
       " 'BMW Z3': '휘발유',\n",
       " 'BMW530I': '휘발유',\n",
       " 'BUICK CENTURY': '휘발유',\n",
       " 'BUICK LESABRE': '휘발유',\n",
       " 'BUICK TERRAZA': '휘발유',\n",
       " 'CADILLAC CTS': '휘발유',\n",
       " 'CHEVROLET IMPALA': '휘발유',\n",
       " 'CHEVROLET PRIZM': '휘발유',\n",
       " 'CHRYSLER': '휘발유',\n",
       " 'CHRYSLER 300 LTD': '휘발유',\n",
       " 'CHRYSLER 300C': '경유',\n",
       " 'CHRYSLER HEMI AWD': '휘발유',\n",
       " 'CHRYSLER PT CRUISER': '휘발유',\n",
       " 'CHRYSLER TOWN & COUNTRY(7)': '휘발유',\n",
       " 'CIELO': '휘발유',\n",
       " 'CORSICA': '휘발유',\n",
       " 'COUGAR': '휘발유',\n",
       " 'DODGE CALIBER': '휘발유',\n",
       " 'DODGE CARAVAN': '휘발유',\n",
       " 'DODGE CHARGER': '휘발유',\n",
       " 'DODGE DAKOTA': '휘발유',\n",
       " 'DODGE DURANGO': '휘발유',\n",
       " 'DODGE GRAND CARAVAN': '휘발유',\n",
       " 'DODGE NEON SXT': '휘발유',\n",
       " 'EF소나타': '휘발유',\n",
       " 'ESCORT': '휘발유',\n",
       " 'FIREBIRD': '휘발유',\n",
       " 'FORD ESCAPE': '휘발유',\n",
       " 'FORD EXPEDITION': '휘발유',\n",
       " 'FORD EXPEDITION(8)': '휘발유',\n",
       " 'FORD EXPLORER': '휘발유',\n",
       " 'FORD FOCUS': '휘발유',\n",
       " 'FORD FREESTYLE(7)': '휘발유',\n",
       " 'FORD FUSION': '휘발유',\n",
       " 'FORD MUSTANG': '휘발유',\n",
       " 'FORD RANGER XLT': '경유',\n",
       " 'FORD WINDSTAR': '휘발유',\n",
       " 'G.M.C': '휘발유',\n",
       " 'G20': '휘발유',\n",
       " 'GMC': '휘발유',\n",
       " 'GMC JIMMY': '휘발유',\n",
       " 'GMC SIERRA': '휘발유',\n",
       " 'HONDA ACCORD': '휘발유',\n",
       " 'HONDA CR-V': '휘발유',\n",
       " 'HONDA CR-V EX': '휘발유',\n",
       " 'HONDA PILOT': '휘발유',\n",
       " 'HYUNDAI PRESTO': '휘발유',\n",
       " 'HYUNDAI SONATA': '휘발유',\n",
       " 'HYUNDAI/SONATA': '휘발유',\n",
       " 'INFINITI G37S': '휘발유',\n",
       " 'JAGUAR X-TYPE': '휘발유',\n",
       " 'JEEP GRAND CHEROKEE': '휘발유',\n",
       " 'JEEP LIBERTY': '휘발유',\n",
       " 'JEEP PATRIOT': '경유',\n",
       " 'KIA OPTIMA': '휘발유',\n",
       " 'KIA SEDONA': '휘발유',\n",
       " 'LEXUS ES330': '휘발유',\n",
       " 'LEXUS ES350': '휘발유',\n",
       " 'LEXUS LS430': '휘발유',\n",
       " 'LEXUS RS330': '휘발유',\n",
       " 'LEXUS RX330': '휘발유',\n",
       " 'LINCOLN MKX': '휘발유',\n",
       " 'MAZDA MAZDA6': '휘발유',\n",
       " 'MAZDA SENTA': '휘발유',\n",
       " 'MERCEDES BENZ': '휘발유',\n",
       " 'MERCEDES-BENZ': '휘발유',\n",
       " 'MERCEDES-BENZ CLS 550': '경유',\n",
       " 'MERCEDES-BENZ E-350': '휘발유',\n",
       " 'MERCEDES-BENZ E-CLASS': '휘발유',\n",
       " 'MERCEDES-BENZ R-CLASS 3500': '경유',\n",
       " 'MERCEDES-BENZ S 500': '휘발유',\n",
       " 'MERCEDES-BENZ S65': '경유',\n",
       " 'MERCURY MILAN': '휘발유',\n",
       " 'NEW 그랜저XG': '휘발유',\n",
       " 'NISSAN MURANO': '휘발유',\n",
       " 'NISSAN ROGUE 3.5': '휘발유',\n",
       " 'NISSAN XTERRA': '휘발유',\n",
       " 'OLDSMOBILE BRAVADA': '휘발유',\n",
       " 'OLDSMOBILESILHOUET': '휘발유',\n",
       " 'PLYMOUTH': '휘발유',\n",
       " 'PONTIAC SUNBIRD': '휘발유',\n",
       " 'PONTIAC VIBE': '휘발유',\n",
       " 'PONTIAC VIBE BASE': '휘발유',\n",
       " 'PORSCHE': '휘발유',\n",
       " 'ROYALE': '휘발유',\n",
       " 'ROYALSALON': '휘발유',\n",
       " 'RX7': '휘발유',\n",
       " 'SANTAFE': '휘발유',\n",
       " 'SEPHIA': '휘발유',\n",
       " 'SILHOUET': '휘발유',\n",
       " 'SPORTAGE': '휘발유',\n",
       " 'STAREX': '휘발유',\n",
       " 'SUNDANCE': '휘발유',\n",
       " 'TAURUS': '휘발유',\n",
       " 'TOYOTA 4-RUNNER': '경유',\n",
       " 'TOYOTA AVALON': '휘발유',\n",
       " 'TOYOTA CAMRY하이브리드': '휘발유 하이브리드',\n",
       " 'TOYOTA COROLLA': '휘발유',\n",
       " 'TOYOTA ESTIIM': '휘발유',\n",
       " 'TOYOTA MATRIX': '휘발유',\n",
       " 'TOYOTA SIENNA': '휘발유',\n",
       " 'TOYOTA SR-5': '휘발유',\n",
       " 'VISION': '휘발유',\n",
       " 'VOLKSWAGEN JETTA': '휘발유',\n",
       " 'VOLVO 7G1': '휘발유',\n",
       " 'VOLVO 960': '휘발유',\n",
       " 'VOLVO S60': '휘발유',\n",
       " 'VOLVO S80': '휘발유',\n",
       " 'VOLVO T5': '휘발유',\n",
       " 'VOLVO XC60': '휘발유',\n",
       " 'VOLVO XC90': '휘발유',\n",
       " '구급차(도요다)': '경유',\n",
       " '그랜저2.0': '휘발유',\n",
       " '그랜저XG300L': '휘발유',\n",
       " '기아마스타': '경유',\n",
       " '뉴복사담프': '경유',\n",
       " '뉴비틀2.0': '휘발유',\n",
       " '닛산실비아2.0': '휘발유',\n",
       " '닛산씨마그로리아': '휘발유',\n",
       " '다임24KL에틸렌글리콜트레일러': '무동력',\n",
       " '다찌람밴': '휘발유',\n",
       " '대우11톤카고': '경유',\n",
       " '대우11톤카고트럭': '경유',\n",
       " '대우8톤카고': '경유',\n",
       " '대흥저상트레일러': '무동력',\n",
       " '도오다': '휘발유',\n",
       " '도요다MR2': '휘발유',\n",
       " '도요다세라': '휘발유',\n",
       " '도요다슈프라': '휘발유',\n",
       " '도요다웨곤엠브란스': '경유',\n",
       " '도요다코로나': '휘발유',\n",
       " '도요다크라운': '휘발유',\n",
       " '도요다크라운로얄싸롱': '휘발유',\n",
       " '도요타 프리우스(하이브리드)': '휘발유 하이브리드',\n",
       " '라비타(LAVITA)': '휘발유',\n",
       " '로얄살롱': '휘발유',\n",
       " '로얄살롱2.0AT': '휘발유',\n",
       " '르망': '휘발유',\n",
       " '르망펜타-5': '휘발유',\n",
       " '링컨MARK7': '경유',\n",
       " '맥스디젤삼방': '경유',\n",
       " '머큐리 세이블': '경유',\n",
       " '벤즈 230E': '휘발유',\n",
       " '벤즈230E': '휘발유',\n",
       " '벤츠 C300': '휘발유',\n",
       " '벤츠190E': '휘발유',\n",
       " '벤츠C280': '휘발유',\n",
       " '벤츠E230': '휘발유',\n",
       " '벤츠S320': '휘발유',\n",
       " '복사14': '휘발유',\n",
       " '브리샤2': '휘발유',\n",
       " '블루버드': '휘발유',\n",
       " '사파리': '휘발유',\n",
       " '새턴': '휘발유',\n",
       " '새한2.5톤카고': '경유',\n",
       " '새한버스': '경유',\n",
       " '셀리카-GT': '휘발유',\n",
       " '소나타': '휘발유',\n",
       " '소나타1800오토매틱': '휘발유',\n",
       " '수프라': '휘발유',\n",
       " '스텔라': '휘발유',\n",
       " '스텔라1.6CXL': '휘발유',\n",
       " '스텔라오토매틱': '휘발유',\n",
       " '시보레': '휘발유',\n",
       " '시보레카베리아': '휘발유',\n",
       " '쏘나타': '휘발유',\n",
       " '아시아AM707중형버스': '경유',\n",
       " '아큐라': '휘발유',\n",
       " '에스페로': '휘발유',\n",
       " '에어스트림탐지견수송트레일러': '무동력',\n",
       " '엑셀': '휘발유',\n",
       " '엑셀운전교습용차량': '휘발유',\n",
       " '원흥식 트럭': '경유',\n",
       " '인타담프': '경유',\n",
       " '일산 육륜': '경유',\n",
       " '제설차': '경유',\n",
       " '지프': '경유',\n",
       " '체로키': '휘발유',\n",
       " '캐피탈': '휘발유',\n",
       " '캠리': '휘발유',\n",
       " '코르시카': '휘발유',\n",
       " '코우거': '휘발유',\n",
       " '코티나디럭스': '휘발유',\n",
       " '코티나마크IV': '휘발유',\n",
       " '크로마터보i.e': '휘발유',\n",
       " '티코(TICO)': '휘발유',\n",
       " '포니': '휘발유',\n",
       " '포니2': '휘발유',\n",
       " '포니2-L.P.G': 'LPG(액화석유가스)',\n",
       " '포니2-LPG': 'LPG(액화석유가스)',\n",
       " '포르쉐': '휘발유',\n",
       " '프레스토오토매틱': '휘발유',\n",
       " '프레스토오토메틱': '휘발유',\n",
       " '프리무스': '휘발유 하이브리드',\n",
       " '한원40A콤비콘테이너트레일러': '무동력',\n",
       " '한원40피트구즈넥트레일러': '무동력',\n",
       " '현대3톤트럭': '경유',\n",
       " '현대리어엔진버스': '경유',\n",
       " '현대포터': '경유',\n",
       " '혼다 CR-V': '경유',\n",
       " '홍성캠핑트레일러': '무동력'}"
      ]
     },
     "execution_count": 173,
     "metadata": {},
     "output_type": "execute_result"
    }
   ],
   "source": [
    "fuel_dict = {a:b for a, b in fuel.values}\n",
    "fuel_dict"
   ]
  },
  {
   "cell_type": "code",
   "execution_count": 174,
   "metadata": {},
   "outputs": [],
   "source": [
    "# for one in gm4.loc[((gm4['연료'].isnull() == True) | (gm4['연료'] == '기타연료')), '차명'].unique():\n",
    "#     gm4.loc[((gm4['연료'].isnull() == True) | (gm4['연료'] == '기타연료')) & (gm4['차명'] == one), '연료'] = fuel_dict[one]"
   ]
  },
  {
   "cell_type": "code",
   "execution_count": 175,
   "metadata": {},
   "outputs": [],
   "source": [
    "for one in gm5.loc[((gm5['연료'].isnull() == True) | (gm5['연료'] == '기타연료')), '차명'].unique():\n",
    "    gm5.loc[((gm5['연료'].isnull() == True) | (gm5['연료'] == '기타연료')) & (gm5['차명'] == one), '연료'] = fuel_dict[one]"
   ]
  },
  {
   "cell_type": "code",
   "execution_count": 176,
   "metadata": {},
   "outputs": [
    {
     "data": {
      "text/plain": [
       "경유    1149289\n",
       "Name: 연료, dtype: int64"
      ]
     },
     "execution_count": 176,
     "metadata": {},
     "output_type": "execute_result"
    }
   ],
   "source": [
    "gm4['연료'].value_counts(dropna=False)"
   ]
  },
  {
   "cell_type": "code",
   "execution_count": 177,
   "metadata": {},
   "outputs": [
    {
     "data": {
      "text/plain": [
       "경유             1124238\n",
       "휘발유              30075\n",
       "LPG(액화석유가스)        438\n",
       "무동력                  5\n",
       "CNG(압축천연가스)          5\n",
       "알코올                  1\n",
       "Name: 연료, dtype: int64"
      ]
     },
     "execution_count": 177,
     "metadata": {},
     "output_type": "execute_result"
    }
   ],
   "source": [
    "gm5['연료'].value_counts(dropna=False)"
   ]
  },
  {
   "attachments": {},
   "cell_type": "markdown",
   "metadata": {},
   "source": [
    "## 조기폐차 정보 추가"
   ]
  },
  {
   "attachments": {},
   "cell_type": "markdown",
   "metadata": {},
   "source": [
    "### 조기폐차 정보 병합\n",
    "- 조기폐차최종승인YN :Y"
   ]
  },
  {
   "cell_type": "code",
   "execution_count": 178,
   "metadata": {},
   "outputs": [
    {
     "data": {
      "text/plain": [
       "Y      680570\n",
       "NaN     89686\n",
       "N          55\n",
       "Name: 조기폐차최종승인YN, dtype: int64"
      ]
     },
     "execution_count": 178,
     "metadata": {},
     "output_type": "execute_result"
    }
   ],
   "source": [
    "aea['조기폐차최종승인YN'].value_counts(dropna=False)"
   ]
  },
  {
   "cell_type": "code",
   "execution_count": 179,
   "metadata": {},
   "outputs": [
    {
     "data": {
      "text/plain": [
       "NaN    162764\n",
       "Y      128585\n",
       "N           4\n",
       "Name: 조기폐차최종승인YN, dtype: int64"
      ]
     },
     "execution_count": 179,
     "metadata": {},
     "output_type": "execute_result"
    }
   ],
   "source": [
    "lgv['조기폐차최종승인YN'].value_counts(dropna=False)"
   ]
  },
  {
   "cell_type": "code",
   "execution_count": 180,
   "metadata": {},
   "outputs": [
    {
     "data": {
      "text/plain": [
       "(680570, 2)"
      ]
     },
     "execution_count": 180,
     "metadata": {},
     "output_type": "execute_result"
    }
   ],
   "source": [
    "aeam = aea.loc[aea['조기폐차최종승인YN'] == 'Y'].reset_index(drop=True)\n",
    "aeam.shape"
   ]
  },
  {
   "cell_type": "code",
   "execution_count": 181,
   "metadata": {},
   "outputs": [
    {
     "data": {
      "text/plain": [
       "(128585, 2)"
      ]
     },
     "execution_count": 181,
     "metadata": {},
     "output_type": "execute_result"
    }
   ],
   "source": [
    "lgvm = lgv.loc[lgv['조기폐차최종승인YN'] == 'Y'].reset_index(drop=True)\n",
    "lgvm.shape"
   ]
  },
  {
   "cell_type": "code",
   "execution_count": 182,
   "metadata": {},
   "outputs": [
    {
     "data": {
      "text/plain": [
       "(809155, 2)"
      ]
     },
     "execution_count": 182,
     "metadata": {},
     "output_type": "execute_result"
    }
   ],
   "source": [
    "early = pd.concat([aeam, lgvm], ignore_index=True)\n",
    "early.shape"
   ]
  },
  {
   "attachments": {},
   "cell_type": "markdown",
   "metadata": {},
   "source": [
    "### 4등급에 추가"
   ]
  },
  {
   "cell_type": "code",
   "execution_count": 183,
   "metadata": {},
   "outputs": [
    {
     "data": {
      "text/plain": [
       "(1149289, 40)"
      ]
     },
     "execution_count": 183,
     "metadata": {},
     "output_type": "execute_result"
    }
   ],
   "source": [
    "gm4.shape"
   ]
  },
  {
   "cell_type": "code",
   "execution_count": 184,
   "metadata": {},
   "outputs": [
    {
     "data": {
      "text/plain": [
       "(1149289, 41)"
      ]
     },
     "execution_count": 184,
     "metadata": {},
     "output_type": "execute_result"
    }
   ],
   "source": [
    "gm4 = gm4.merge(early, on='차대번호', how='left')\n",
    "gm4.shape"
   ]
  },
  {
   "attachments": {},
   "cell_type": "markdown",
   "metadata": {},
   "source": [
    "### 5등급에 추가"
   ]
  },
  {
   "cell_type": "code",
   "execution_count": 185,
   "metadata": {},
   "outputs": [
    {
     "data": {
      "text/plain": [
       "(1154762, 10)"
      ]
     },
     "execution_count": 185,
     "metadata": {},
     "output_type": "execute_result"
    }
   ],
   "source": [
    "gm5.shape"
   ]
  },
  {
   "cell_type": "code",
   "execution_count": 186,
   "metadata": {},
   "outputs": [
    {
     "data": {
      "text/plain": [
       "(1154766, 11)"
      ]
     },
     "execution_count": 186,
     "metadata": {},
     "output_type": "execute_result"
    }
   ],
   "source": [
    "gm5 = gm5.merge(early, on='차대번호', how='left')\n",
    "gm5.shape"
   ]
  },
  {
   "attachments": {},
   "cell_type": "markdown",
   "metadata": {},
   "source": [
    "## 저감장치 부착이력 정보 추가"
   ]
  },
  {
   "attachments": {},
   "cell_type": "markdown",
   "metadata": {},
   "source": [
    "### 저감장치구분 정리\n",
    "- 1종 : DPF\n",
    "- 1종+SCR : PM-NOx저감장치"
   ]
  },
  {
   "cell_type": "code",
   "execution_count": 187,
   "metadata": {},
   "outputs": [
    {
     "data": {
      "text/plain": [
       "1종        294602\n",
       "엔진개조      198590\n",
       "2종        156370\n",
       "3종        148308\n",
       "엔진교체        8528\n",
       "1종+SCR      2304\n",
       "삼원촉매        2075\n",
       "Name: 저감장치구분, dtype: int64"
      ]
     },
     "execution_count": 187,
     "metadata": {},
     "output_type": "execute_result"
    }
   ],
   "source": [
    "att['저감장치구분'].value_counts(dropna=False)"
   ]
  },
  {
   "cell_type": "code",
   "execution_count": 188,
   "metadata": {},
   "outputs": [
    {
     "data": {
      "text/plain": [
       "(810777, 2)"
      ]
     },
     "execution_count": 188,
     "metadata": {},
     "output_type": "execute_result"
    }
   ],
   "source": [
    "att.shape"
   ]
  },
  {
   "cell_type": "code",
   "execution_count": 189,
   "metadata": {},
   "outputs": [
    {
     "data": {
      "text/plain": [
       "(810777, 2)"
      ]
     },
     "execution_count": 189,
     "metadata": {},
     "output_type": "execute_result"
    }
   ],
   "source": [
    "att.loc[att['저감장치구분'] == '1종', '저감장치'] = 'DPF'\n",
    "att.loc[att['저감장치구분'] == '1종+SCR', '저감장치'] = 'PM-NOx저감장치'\n",
    "attm = att[['차대번호', '저감장치']]\n",
    "attm.shape"
   ]
  },
  {
   "attachments": {},
   "cell_type": "markdown",
   "metadata": {},
   "source": [
    "### 4등급에 추가"
   ]
  },
  {
   "cell_type": "code",
   "execution_count": 190,
   "metadata": {},
   "outputs": [
    {
     "data": {
      "text/plain": [
       "(1149289, 42)"
      ]
     },
     "execution_count": 190,
     "metadata": {},
     "output_type": "execute_result"
    }
   ],
   "source": [
    "gm4 = gm4.merge(attm, on='차대번호', how='left')\n",
    "gm4.shape"
   ]
  },
  {
   "attachments": {},
   "cell_type": "markdown",
   "metadata": {},
   "source": [
    "### 5등급에 추가"
   ]
  },
  {
   "cell_type": "code",
   "execution_count": 191,
   "metadata": {},
   "outputs": [
    {
     "data": {
      "text/plain": [
       "(1154995, 12)"
      ]
     },
     "execution_count": 191,
     "metadata": {},
     "output_type": "execute_result"
    }
   ],
   "source": [
    "gm5 = gm5.merge(attm, on='차대번호', how='left')\n",
    "gm5.shape"
   ]
  },
  {
   "attachments": {},
   "cell_type": "markdown",
   "metadata": {},
   "source": [
    "## 4, 5등급 주행거리 추가"
   ]
  },
  {
   "cell_type": "code",
   "execution_count": 192,
   "metadata": {},
   "outputs": [
    {
     "data": {
      "text/html": [
       "<div>\n",
       "<style scoped>\n",
       "    .dataframe tbody tr th:only-of-type {\n",
       "        vertical-align: middle;\n",
       "    }\n",
       "\n",
       "    .dataframe tbody tr th {\n",
       "        vertical-align: top;\n",
       "    }\n",
       "\n",
       "    .dataframe thead th {\n",
       "        text-align: right;\n",
       "    }\n",
       "</style>\n",
       "<table border=\"1\" class=\"dataframe\">\n",
       "  <thead>\n",
       "    <tr style=\"text-align: right;\">\n",
       "      <th></th>\n",
       "      <th>배출가스등급</th>\n",
       "      <th>차대번호</th>\n",
       "      <th>최신검사일자</th>\n",
       "      <th>최신주행거리</th>\n",
       "      <th>이전검사일자</th>\n",
       "      <th>이전주행거리</th>\n",
       "      <th>검사일자차이</th>\n",
       "      <th>주행거리차이</th>\n",
       "      <th>최신경과기간</th>\n",
       "    </tr>\n",
       "  </thead>\n",
       "  <tbody>\n",
       "    <tr>\n",
       "      <th>0</th>\n",
       "      <td>5</td>\n",
       "      <td>00000000CN67C4065</td>\n",
       "      <td>20221229</td>\n",
       "      <td>29471.00</td>\n",
       "      <td>20221208.00</td>\n",
       "      <td>29471.00</td>\n",
       "      <td>21.00</td>\n",
       "      <td>0.00</td>\n",
       "      <td>147.00</td>\n",
       "    </tr>\n",
       "    <tr>\n",
       "      <th>1</th>\n",
       "      <td>5</td>\n",
       "      <td>000000JN44C000673</td>\n",
       "      <td>20220719</td>\n",
       "      <td>64046.00</td>\n",
       "      <td>20210802.00</td>\n",
       "      <td>43747.00</td>\n",
       "      <td>351.00</td>\n",
       "      <td>20299.00</td>\n",
       "      <td>640.00</td>\n",
       "    </tr>\n",
       "    <tr>\n",
       "      <th>2</th>\n",
       "      <td>5</td>\n",
       "      <td>000000KG44C100279</td>\n",
       "      <td>20220421</td>\n",
       "      <td>51379.00</td>\n",
       "      <td>20211018.00</td>\n",
       "      <td>45486.00</td>\n",
       "      <td>185.00</td>\n",
       "      <td>5893.00</td>\n",
       "      <td>563.00</td>\n",
       "    </tr>\n",
       "    <tr>\n",
       "      <th>3</th>\n",
       "      <td>5</td>\n",
       "      <td>000000KW45C001134</td>\n",
       "      <td>20220923</td>\n",
       "      <td>59355.00</td>\n",
       "      <td>20220413.00</td>\n",
       "      <td>59355.00</td>\n",
       "      <td>163.00</td>\n",
       "      <td>0.00</td>\n",
       "      <td>386.00</td>\n",
       "    </tr>\n",
       "    <tr>\n",
       "      <th>4</th>\n",
       "      <td>5</td>\n",
       "      <td>000000PN71C100008</td>\n",
       "      <td>20200409</td>\n",
       "      <td>74671.00</td>\n",
       "      <td>20190917.00</td>\n",
       "      <td>74671.00</td>\n",
       "      <td>205.00</td>\n",
       "      <td>0.00</td>\n",
       "      <td>1325.00</td>\n",
       "    </tr>\n",
       "  </tbody>\n",
       "</table>\n",
       "</div>"
      ],
      "text/plain": [
       "  배출가스등급               차대번호    최신검사일자   최신주행거리      이전검사일자   이전주행거리  검사일자차이  \\\n",
       "0      5  00000000CN67C4065  20221229 29471.00 20221208.00 29471.00   21.00   \n",
       "1      5  000000JN44C000673  20220719 64046.00 20210802.00 43747.00  351.00   \n",
       "2      5  000000KG44C100279  20220421 51379.00 20211018.00 45486.00  185.00   \n",
       "3      5  000000KW45C001134  20220923 59355.00 20220413.00 59355.00  163.00   \n",
       "4      5  000000PN71C100008  20200409 74671.00 20190917.00 74671.00  205.00   \n",
       "\n",
       "    주행거리차이  최신경과기간  \n",
       "0     0.00  147.00  \n",
       "1 20299.00  640.00  \n",
       "2  5893.00  563.00  \n",
       "3     0.00  386.00  \n",
       "4     0.00 1325.00  "
      ]
     },
     "execution_count": 192,
     "metadata": {},
     "output_type": "execute_result"
    }
   ],
   "source": [
    "chk.head()"
   ]
  },
  {
   "attachments": {},
   "cell_type": "markdown",
   "metadata": {},
   "source": [
    "### 1년주행거리 계산"
   ]
  },
  {
   "cell_type": "code",
   "execution_count": 193,
   "metadata": {},
   "outputs": [
    {
     "data": {
      "text/html": [
       "<div>\n",
       "<style scoped>\n",
       "    .dataframe tbody tr th:only-of-type {\n",
       "        vertical-align: middle;\n",
       "    }\n",
       "\n",
       "    .dataframe tbody tr th {\n",
       "        vertical-align: top;\n",
       "    }\n",
       "\n",
       "    .dataframe thead th {\n",
       "        text-align: right;\n",
       "    }\n",
       "</style>\n",
       "<table border=\"1\" class=\"dataframe\">\n",
       "  <thead>\n",
       "    <tr style=\"text-align: right;\">\n",
       "      <th></th>\n",
       "      <th>배출가스등급</th>\n",
       "      <th>차대번호</th>\n",
       "      <th>최신검사일자</th>\n",
       "      <th>최신주행거리</th>\n",
       "      <th>이전검사일자</th>\n",
       "      <th>이전주행거리</th>\n",
       "      <th>검사일자차이</th>\n",
       "      <th>주행거리차이</th>\n",
       "      <th>최신경과기간</th>\n",
       "      <th>연간주행거리</th>\n",
       "    </tr>\n",
       "  </thead>\n",
       "  <tbody>\n",
       "    <tr>\n",
       "      <th>0</th>\n",
       "      <td>5</td>\n",
       "      <td>00000000CN67C4065</td>\n",
       "      <td>20221229</td>\n",
       "      <td>29471.00</td>\n",
       "      <td>20221208.00</td>\n",
       "      <td>29471.00</td>\n",
       "      <td>21.00</td>\n",
       "      <td>0.00</td>\n",
       "      <td>147.00</td>\n",
       "      <td>0.00</td>\n",
       "    </tr>\n",
       "    <tr>\n",
       "      <th>1</th>\n",
       "      <td>5</td>\n",
       "      <td>000000JN44C000673</td>\n",
       "      <td>20220719</td>\n",
       "      <td>64046.00</td>\n",
       "      <td>20210802.00</td>\n",
       "      <td>43747.00</td>\n",
       "      <td>351.00</td>\n",
       "      <td>20299.00</td>\n",
       "      <td>640.00</td>\n",
       "      <td>21108.65</td>\n",
       "    </tr>\n",
       "    <tr>\n",
       "      <th>2</th>\n",
       "      <td>5</td>\n",
       "      <td>000000KG44C100279</td>\n",
       "      <td>20220421</td>\n",
       "      <td>51379.00</td>\n",
       "      <td>20211018.00</td>\n",
       "      <td>45486.00</td>\n",
       "      <td>185.00</td>\n",
       "      <td>5893.00</td>\n",
       "      <td>563.00</td>\n",
       "      <td>11626.73</td>\n",
       "    </tr>\n",
       "    <tr>\n",
       "      <th>3</th>\n",
       "      <td>5</td>\n",
       "      <td>000000KW45C001134</td>\n",
       "      <td>20220923</td>\n",
       "      <td>59355.00</td>\n",
       "      <td>20220413.00</td>\n",
       "      <td>59355.00</td>\n",
       "      <td>163.00</td>\n",
       "      <td>0.00</td>\n",
       "      <td>386.00</td>\n",
       "      <td>0.00</td>\n",
       "    </tr>\n",
       "    <tr>\n",
       "      <th>4</th>\n",
       "      <td>5</td>\n",
       "      <td>000000PN71C100008</td>\n",
       "      <td>20200409</td>\n",
       "      <td>74671.00</td>\n",
       "      <td>20190917.00</td>\n",
       "      <td>74671.00</td>\n",
       "      <td>205.00</td>\n",
       "      <td>0.00</td>\n",
       "      <td>1325.00</td>\n",
       "      <td>0.00</td>\n",
       "    </tr>\n",
       "  </tbody>\n",
       "</table>\n",
       "</div>"
      ],
      "text/plain": [
       "  배출가스등급               차대번호    최신검사일자   최신주행거리      이전검사일자   이전주행거리  검사일자차이  \\\n",
       "0      5  00000000CN67C4065  20221229 29471.00 20221208.00 29471.00   21.00   \n",
       "1      5  000000JN44C000673  20220719 64046.00 20210802.00 43747.00  351.00   \n",
       "2      5  000000KG44C100279  20220421 51379.00 20211018.00 45486.00  185.00   \n",
       "3      5  000000KW45C001134  20220923 59355.00 20220413.00 59355.00  163.00   \n",
       "4      5  000000PN71C100008  20200409 74671.00 20190917.00 74671.00  205.00   \n",
       "\n",
       "    주행거리차이  최신경과기간   연간주행거리  \n",
       "0     0.00  147.00     0.00  \n",
       "1 20299.00  640.00 21108.65  \n",
       "2  5893.00  563.00 11626.73  \n",
       "3     0.00  386.00     0.00  \n",
       "4     0.00 1325.00     0.00  "
      ]
     },
     "execution_count": 193,
     "metadata": {},
     "output_type": "execute_result"
    }
   ],
   "source": [
    "chk['연간주행거리'] = (chk.loc[:, '주행거리차이'] / chk.loc[:, '검사일자차이']) * 365\n",
    "chk.head()"
   ]
  },
  {
   "cell_type": "code",
   "execution_count": 319,
   "metadata": {},
   "outputs": [
    {
     "data": {
      "text/html": [
       "<div>\n",
       "<style scoped>\n",
       "    .dataframe tbody tr th:only-of-type {\n",
       "        vertical-align: middle;\n",
       "    }\n",
       "\n",
       "    .dataframe tbody tr th {\n",
       "        vertical-align: top;\n",
       "    }\n",
       "\n",
       "    .dataframe thead th {\n",
       "        text-align: right;\n",
       "    }\n",
       "</style>\n",
       "<table border=\"1\" class=\"dataframe\">\n",
       "  <thead>\n",
       "    <tr style=\"text-align: right;\">\n",
       "      <th></th>\n",
       "      <th>배출가스등급</th>\n",
       "      <th>차대번호</th>\n",
       "      <th>최신검사일자</th>\n",
       "      <th>최신주행거리</th>\n",
       "      <th>이전검사일자</th>\n",
       "      <th>이전주행거리</th>\n",
       "      <th>검사일자차이</th>\n",
       "      <th>주행거리차이</th>\n",
       "      <th>최신경과기간</th>\n",
       "      <th>연간주행거리</th>\n",
       "    </tr>\n",
       "  </thead>\n",
       "  <tbody>\n",
       "    <tr>\n",
       "      <th>54</th>\n",
       "      <td>5</td>\n",
       "      <td>01844300010</td>\n",
       "      <td>20220108</td>\n",
       "      <td>295587.00</td>\n",
       "      <td>20220108.00</td>\n",
       "      <td>295584.00</td>\n",
       "      <td>0.00</td>\n",
       "      <td>3.00</td>\n",
       "      <td>481.00</td>\n",
       "      <td>inf</td>\n",
       "    </tr>\n",
       "    <tr>\n",
       "      <th>104</th>\n",
       "      <td>4</td>\n",
       "      <td>01901321659</td>\n",
       "      <td>20210216</td>\n",
       "      <td>236554.00</td>\n",
       "      <td>20210216.00</td>\n",
       "      <td>236534.00</td>\n",
       "      <td>0.00</td>\n",
       "      <td>20.00</td>\n",
       "      <td>807.00</td>\n",
       "      <td>inf</td>\n",
       "    </tr>\n",
       "    <tr>\n",
       "      <th>222</th>\n",
       "      <td>5</td>\n",
       "      <td>03844276565</td>\n",
       "      <td>20220314</td>\n",
       "      <td>323921.00</td>\n",
       "      <td>20220314.00</td>\n",
       "      <td>323919.00</td>\n",
       "      <td>0.00</td>\n",
       "      <td>2.00</td>\n",
       "      <td>416.00</td>\n",
       "      <td>inf</td>\n",
       "    </tr>\n",
       "    <tr>\n",
       "      <th>297</th>\n",
       "      <td>5</td>\n",
       "      <td>10904300022</td>\n",
       "      <td>20220419</td>\n",
       "      <td>62937.00</td>\n",
       "      <td>20220419.00</td>\n",
       "      <td>62933.00</td>\n",
       "      <td>0.00</td>\n",
       "      <td>4.00</td>\n",
       "      <td>380.00</td>\n",
       "      <td>inf</td>\n",
       "    </tr>\n",
       "    <tr>\n",
       "      <th>313</th>\n",
       "      <td>4</td>\n",
       "      <td>11-95-112-12753</td>\n",
       "      <td>20220314</td>\n",
       "      <td>90822.00</td>\n",
       "      <td>20220314.00</td>\n",
       "      <td>90820.00</td>\n",
       "      <td>0.00</td>\n",
       "      <td>2.00</td>\n",
       "      <td>416.00</td>\n",
       "      <td>inf</td>\n",
       "    </tr>\n",
       "    <tr>\n",
       "      <th>...</th>\n",
       "      <td>...</td>\n",
       "      <td>...</td>\n",
       "      <td>...</td>\n",
       "      <td>...</td>\n",
       "      <td>...</td>\n",
       "      <td>...</td>\n",
       "      <td>...</td>\n",
       "      <td>...</td>\n",
       "      <td>...</td>\n",
       "      <td>...</td>\n",
       "    </tr>\n",
       "    <tr>\n",
       "      <th>3185779</th>\n",
       "      <td>5</td>\n",
       "      <td>KPBFA2AF16P228125</td>\n",
       "      <td>20200528</td>\n",
       "      <td>353555.00</td>\n",
       "      <td>20200528.00</td>\n",
       "      <td>353552.00</td>\n",
       "      <td>0.00</td>\n",
       "      <td>3.00</td>\n",
       "      <td>1071.00</td>\n",
       "      <td>inf</td>\n",
       "    </tr>\n",
       "    <tr>\n",
       "      <th>3185808</th>\n",
       "      <td>5</td>\n",
       "      <td>KPBFA2AF16P228218</td>\n",
       "      <td>20220709</td>\n",
       "      <td>209663.00</td>\n",
       "      <td>20220709.00</td>\n",
       "      <td>209662.00</td>\n",
       "      <td>0.00</td>\n",
       "      <td>1.00</td>\n",
       "      <td>299.00</td>\n",
       "      <td>inf</td>\n",
       "    </tr>\n",
       "    <tr>\n",
       "      <th>3185814</th>\n",
       "      <td>5</td>\n",
       "      <td>KPBFA2AF16P228231</td>\n",
       "      <td>20200526</td>\n",
       "      <td>118159.00</td>\n",
       "      <td>20200526.00</td>\n",
       "      <td>118139.00</td>\n",
       "      <td>0.00</td>\n",
       "      <td>20.00</td>\n",
       "      <td>1073.00</td>\n",
       "      <td>inf</td>\n",
       "    </tr>\n",
       "    <tr>\n",
       "      <th>3185832</th>\n",
       "      <td>5</td>\n",
       "      <td>KPBFA2AF16P228312</td>\n",
       "      <td>20200609</td>\n",
       "      <td>217920.00</td>\n",
       "      <td>20200609.00</td>\n",
       "      <td>217870.00</td>\n",
       "      <td>0.00</td>\n",
       "      <td>50.00</td>\n",
       "      <td>1059.00</td>\n",
       "      <td>inf</td>\n",
       "    </tr>\n",
       "    <tr>\n",
       "      <th>3185843</th>\n",
       "      <td>5</td>\n",
       "      <td>KPBFA2AF16P228329</td>\n",
       "      <td>20220615</td>\n",
       "      <td>296482.00</td>\n",
       "      <td>20220615.00</td>\n",
       "      <td>296481.00</td>\n",
       "      <td>0.00</td>\n",
       "      <td>1.00</td>\n",
       "      <td>323.00</td>\n",
       "      <td>inf</td>\n",
       "    </tr>\n",
       "  </tbody>\n",
       "</table>\n",
       "<p>108702 rows × 10 columns</p>\n",
       "</div>"
      ],
      "text/plain": [
       "        배출가스등급               차대번호    최신검사일자    최신주행거리      이전검사일자    이전주행거리  \\\n",
       "54           5        01844300010  20220108 295587.00 20220108.00 295584.00   \n",
       "104          4        01901321659  20210216 236554.00 20210216.00 236534.00   \n",
       "222          5        03844276565  20220314 323921.00 20220314.00 323919.00   \n",
       "297          5        10904300022  20220419  62937.00 20220419.00  62933.00   \n",
       "313          4    11-95-112-12753  20220314  90822.00 20220314.00  90820.00   \n",
       "...        ...                ...       ...       ...         ...       ...   \n",
       "3185779      5  KPBFA2AF16P228125  20200528 353555.00 20200528.00 353552.00   \n",
       "3185808      5  KPBFA2AF16P228218  20220709 209663.00 20220709.00 209662.00   \n",
       "3185814      5  KPBFA2AF16P228231  20200526 118159.00 20200526.00 118139.00   \n",
       "3185832      5  KPBFA2AF16P228312  20200609 217920.00 20200609.00 217870.00   \n",
       "3185843      5  KPBFA2AF16P228329  20220615 296482.00 20220615.00 296481.00   \n",
       "\n",
       "         검사일자차이  주행거리차이  최신경과기간  연간주행거리  \n",
       "54         0.00    3.00  481.00     inf  \n",
       "104        0.00   20.00  807.00     inf  \n",
       "222        0.00    2.00  416.00     inf  \n",
       "297        0.00    4.00  380.00     inf  \n",
       "313        0.00    2.00  416.00     inf  \n",
       "...         ...     ...     ...     ...  \n",
       "3185779    0.00    3.00 1071.00     inf  \n",
       "3185808    0.00    1.00  299.00     inf  \n",
       "3185814    0.00   20.00 1073.00     inf  \n",
       "3185832    0.00   50.00 1059.00     inf  \n",
       "3185843    0.00    1.00  323.00     inf  \n",
       "\n",
       "[108702 rows x 10 columns]"
      ]
     },
     "execution_count": 319,
     "metadata": {},
     "output_type": "execute_result"
    }
   ],
   "source": [
    "chk[chk['연간주행거리'] == np.inf]"
   ]
  },
  {
   "cell_type": "code",
   "execution_count": 326,
   "metadata": {},
   "outputs": [
    {
     "data": {
      "text/html": [
       "<div>\n",
       "<style scoped>\n",
       "    .dataframe tbody tr th:only-of-type {\n",
       "        vertical-align: middle;\n",
       "    }\n",
       "\n",
       "    .dataframe tbody tr th {\n",
       "        vertical-align: top;\n",
       "    }\n",
       "\n",
       "    .dataframe thead th {\n",
       "        text-align: right;\n",
       "    }\n",
       "</style>\n",
       "<table border=\"1\" class=\"dataframe\">\n",
       "  <thead>\n",
       "    <tr style=\"text-align: right;\">\n",
       "      <th></th>\n",
       "      <th>배출가스등급</th>\n",
       "      <th>차대번호</th>\n",
       "      <th>최신검사일자</th>\n",
       "      <th>최신주행거리</th>\n",
       "      <th>이전검사일자</th>\n",
       "      <th>이전주행거리</th>\n",
       "      <th>검사일자차이</th>\n",
       "      <th>주행거리차이</th>\n",
       "      <th>최신경과기간</th>\n",
       "      <th>연간주행거리</th>\n",
       "    </tr>\n",
       "  </thead>\n",
       "  <tbody>\n",
       "    <tr>\n",
       "      <th>138</th>\n",
       "      <td>4</td>\n",
       "      <td>01901322139</td>\n",
       "      <td>20211007</td>\n",
       "      <td>209212.00</td>\n",
       "      <td>20211007.00</td>\n",
       "      <td>209213.00</td>\n",
       "      <td>0.00</td>\n",
       "      <td>-1.00</td>\n",
       "      <td>574.00</td>\n",
       "      <td>-inf</td>\n",
       "    </tr>\n",
       "    <tr>\n",
       "      <th>274</th>\n",
       "      <td>5</td>\n",
       "      <td>10772214755</td>\n",
       "      <td>20210215</td>\n",
       "      <td>36497.00</td>\n",
       "      <td>20210215.00</td>\n",
       "      <td>36526.00</td>\n",
       "      <td>0.00</td>\n",
       "      <td>-29.00</td>\n",
       "      <td>808.00</td>\n",
       "      <td>-inf</td>\n",
       "    </tr>\n",
       "    <tr>\n",
       "      <th>334</th>\n",
       "      <td>5</td>\n",
       "      <td>110034227035</td>\n",
       "      <td>20210624</td>\n",
       "      <td>70164.00</td>\n",
       "      <td>20210624.00</td>\n",
       "      <td>70165.00</td>\n",
       "      <td>0.00</td>\n",
       "      <td>-1.00</td>\n",
       "      <td>679.00</td>\n",
       "      <td>-inf</td>\n",
       "    </tr>\n",
       "    <tr>\n",
       "      <th>352</th>\n",
       "      <td>5</td>\n",
       "      <td>110132228480</td>\n",
       "      <td>20220816</td>\n",
       "      <td>339261.00</td>\n",
       "      <td>20220816.00</td>\n",
       "      <td>339271.00</td>\n",
       "      <td>0.00</td>\n",
       "      <td>-10.00</td>\n",
       "      <td>261.00</td>\n",
       "      <td>-inf</td>\n",
       "    </tr>\n",
       "    <tr>\n",
       "      <th>366</th>\n",
       "      <td>5</td>\n",
       "      <td>110132229845</td>\n",
       "      <td>20221125</td>\n",
       "      <td>402360.00</td>\n",
       "      <td>20221125.00</td>\n",
       "      <td>402369.00</td>\n",
       "      <td>0.00</td>\n",
       "      <td>-9.00</td>\n",
       "      <td>160.00</td>\n",
       "      <td>-inf</td>\n",
       "    </tr>\n",
       "    <tr>\n",
       "      <th>...</th>\n",
       "      <td>...</td>\n",
       "      <td>...</td>\n",
       "      <td>...</td>\n",
       "      <td>...</td>\n",
       "      <td>...</td>\n",
       "      <td>...</td>\n",
       "      <td>...</td>\n",
       "      <td>...</td>\n",
       "      <td>...</td>\n",
       "      <td>...</td>\n",
       "    </tr>\n",
       "    <tr>\n",
       "      <th>3185739</th>\n",
       "      <td>5</td>\n",
       "      <td>KPBFA2AF16P214526</td>\n",
       "      <td>20210429</td>\n",
       "      <td>294577.00</td>\n",
       "      <td>20210429.00</td>\n",
       "      <td>294587.00</td>\n",
       "      <td>0.00</td>\n",
       "      <td>-10.00</td>\n",
       "      <td>735.00</td>\n",
       "      <td>-inf</td>\n",
       "    </tr>\n",
       "    <tr>\n",
       "      <th>3185767</th>\n",
       "      <td>5</td>\n",
       "      <td>KPBFA2AF16P228045</td>\n",
       "      <td>20220711</td>\n",
       "      <td>251878.00</td>\n",
       "      <td>20220711.00</td>\n",
       "      <td>251923.00</td>\n",
       "      <td>0.00</td>\n",
       "      <td>-45.00</td>\n",
       "      <td>297.00</td>\n",
       "      <td>-inf</td>\n",
       "    </tr>\n",
       "    <tr>\n",
       "      <th>3185786</th>\n",
       "      <td>5</td>\n",
       "      <td>KPBFA2AF16P228135</td>\n",
       "      <td>20220516</td>\n",
       "      <td>155350.00</td>\n",
       "      <td>20220516.00</td>\n",
       "      <td>155351.00</td>\n",
       "      <td>0.00</td>\n",
       "      <td>-1.00</td>\n",
       "      <td>353.00</td>\n",
       "      <td>-inf</td>\n",
       "    </tr>\n",
       "    <tr>\n",
       "      <th>3185826</th>\n",
       "      <td>5</td>\n",
       "      <td>KPBFA2AF16P228303</td>\n",
       "      <td>20200608</td>\n",
       "      <td>321987.00</td>\n",
       "      <td>20200608.00</td>\n",
       "      <td>321988.00</td>\n",
       "      <td>0.00</td>\n",
       "      <td>-1.00</td>\n",
       "      <td>1060.00</td>\n",
       "      <td>-inf</td>\n",
       "    </tr>\n",
       "    <tr>\n",
       "      <th>3185875</th>\n",
       "      <td>5</td>\n",
       "      <td>KPBFA2AF16P228479</td>\n",
       "      <td>20220712</td>\n",
       "      <td>164069.00</td>\n",
       "      <td>20220712.00</td>\n",
       "      <td>164082.00</td>\n",
       "      <td>0.00</td>\n",
       "      <td>-13.00</td>\n",
       "      <td>296.00</td>\n",
       "      <td>-inf</td>\n",
       "    </tr>\n",
       "  </tbody>\n",
       "</table>\n",
       "<p>109572 rows × 10 columns</p>\n",
       "</div>"
      ],
      "text/plain": [
       "        배출가스등급               차대번호    최신검사일자    최신주행거리      이전검사일자    이전주행거리  \\\n",
       "138          4        01901322139  20211007 209212.00 20211007.00 209213.00   \n",
       "274          5        10772214755  20210215  36497.00 20210215.00  36526.00   \n",
       "334          5       110034227035  20210624  70164.00 20210624.00  70165.00   \n",
       "352          5       110132228480  20220816 339261.00 20220816.00 339271.00   \n",
       "366          5       110132229845  20221125 402360.00 20221125.00 402369.00   \n",
       "...        ...                ...       ...       ...         ...       ...   \n",
       "3185739      5  KPBFA2AF16P214526  20210429 294577.00 20210429.00 294587.00   \n",
       "3185767      5  KPBFA2AF16P228045  20220711 251878.00 20220711.00 251923.00   \n",
       "3185786      5  KPBFA2AF16P228135  20220516 155350.00 20220516.00 155351.00   \n",
       "3185826      5  KPBFA2AF16P228303  20200608 321987.00 20200608.00 321988.00   \n",
       "3185875      5  KPBFA2AF16P228479  20220712 164069.00 20220712.00 164082.00   \n",
       "\n",
       "         검사일자차이  주행거리차이  최신경과기간  연간주행거리  \n",
       "138        0.00   -1.00  574.00    -inf  \n",
       "274        0.00  -29.00  808.00    -inf  \n",
       "334        0.00   -1.00  679.00    -inf  \n",
       "352        0.00  -10.00  261.00    -inf  \n",
       "366        0.00   -9.00  160.00    -inf  \n",
       "...         ...     ...     ...     ...  \n",
       "3185739    0.00  -10.00  735.00    -inf  \n",
       "3185767    0.00  -45.00  297.00    -inf  \n",
       "3185786    0.00   -1.00  353.00    -inf  \n",
       "3185826    0.00   -1.00 1060.00    -inf  \n",
       "3185875    0.00  -13.00  296.00    -inf  \n",
       "\n",
       "[109572 rows x 10 columns]"
      ]
     },
     "execution_count": 326,
     "metadata": {},
     "output_type": "execute_result"
    }
   ],
   "source": [
    "chk[chk['연간주행거리'] == -np.inf]"
   ]
  },
  {
   "cell_type": "code",
   "execution_count": 320,
   "metadata": {},
   "outputs": [
    {
     "data": {
      "text/html": [
       "<div>\n",
       "<style scoped>\n",
       "    .dataframe tbody tr th:only-of-type {\n",
       "        vertical-align: middle;\n",
       "    }\n",
       "\n",
       "    .dataframe tbody tr th {\n",
       "        vertical-align: top;\n",
       "    }\n",
       "\n",
       "    .dataframe thead th {\n",
       "        text-align: right;\n",
       "    }\n",
       "</style>\n",
       "<table border=\"1\" class=\"dataframe\">\n",
       "  <thead>\n",
       "    <tr style=\"text-align: right;\">\n",
       "      <th></th>\n",
       "      <th>배출가스등급</th>\n",
       "      <th>차대번호</th>\n",
       "      <th>최신검사일자</th>\n",
       "      <th>최신주행거리</th>\n",
       "      <th>이전검사일자</th>\n",
       "      <th>이전주행거리</th>\n",
       "      <th>검사일자차이</th>\n",
       "      <th>주행거리차이</th>\n",
       "      <th>최신경과기간</th>\n",
       "      <th>연간주행거리</th>\n",
       "    </tr>\n",
       "  </thead>\n",
       "  <tbody>\n",
       "    <tr>\n",
       "      <th>27</th>\n",
       "      <td>5</td>\n",
       "      <td>01794100253</td>\n",
       "      <td>20211007</td>\n",
       "      <td>282511.00</td>\n",
       "      <td>20211007.00</td>\n",
       "      <td>282511.00</td>\n",
       "      <td>0.00</td>\n",
       "      <td>0.00</td>\n",
       "      <td>574.00</td>\n",
       "      <td>NaN</td>\n",
       "    </tr>\n",
       "    <tr>\n",
       "      <th>52</th>\n",
       "      <td>5</td>\n",
       "      <td>01841300288</td>\n",
       "      <td>20220614</td>\n",
       "      <td>428856.00</td>\n",
       "      <td>20220614.00</td>\n",
       "      <td>428856.00</td>\n",
       "      <td>0.00</td>\n",
       "      <td>0.00</td>\n",
       "      <td>324.00</td>\n",
       "      <td>NaN</td>\n",
       "    </tr>\n",
       "    <tr>\n",
       "      <th>54</th>\n",
       "      <td>5</td>\n",
       "      <td>01844300010</td>\n",
       "      <td>20220108</td>\n",
       "      <td>295587.00</td>\n",
       "      <td>20220108.00</td>\n",
       "      <td>295584.00</td>\n",
       "      <td>0.00</td>\n",
       "      <td>3.00</td>\n",
       "      <td>481.00</td>\n",
       "      <td>inf</td>\n",
       "    </tr>\n",
       "    <tr>\n",
       "      <th>73</th>\n",
       "      <td>4</td>\n",
       "      <td>01881300150대서</td>\n",
       "      <td>20191004</td>\n",
       "      <td>211499.00</td>\n",
       "      <td>20191004.00</td>\n",
       "      <td>211499.00</td>\n",
       "      <td>0.00</td>\n",
       "      <td>0.00</td>\n",
       "      <td>1308.00</td>\n",
       "      <td>NaN</td>\n",
       "    </tr>\n",
       "    <tr>\n",
       "      <th>104</th>\n",
       "      <td>4</td>\n",
       "      <td>01901321659</td>\n",
       "      <td>20210216</td>\n",
       "      <td>236554.00</td>\n",
       "      <td>20210216.00</td>\n",
       "      <td>236534.00</td>\n",
       "      <td>0.00</td>\n",
       "      <td>20.00</td>\n",
       "      <td>807.00</td>\n",
       "      <td>inf</td>\n",
       "    </tr>\n",
       "    <tr>\n",
       "      <th>...</th>\n",
       "      <td>...</td>\n",
       "      <td>...</td>\n",
       "      <td>...</td>\n",
       "      <td>...</td>\n",
       "      <td>...</td>\n",
       "      <td>...</td>\n",
       "      <td>...</td>\n",
       "      <td>...</td>\n",
       "      <td>...</td>\n",
       "      <td>...</td>\n",
       "    </tr>\n",
       "    <tr>\n",
       "      <th>3185843</th>\n",
       "      <td>5</td>\n",
       "      <td>KPBFA2AF16P228329</td>\n",
       "      <td>20220615</td>\n",
       "      <td>296482.00</td>\n",
       "      <td>20220615.00</td>\n",
       "      <td>296481.00</td>\n",
       "      <td>0.00</td>\n",
       "      <td>1.00</td>\n",
       "      <td>323.00</td>\n",
       "      <td>inf</td>\n",
       "    </tr>\n",
       "    <tr>\n",
       "      <th>3185875</th>\n",
       "      <td>5</td>\n",
       "      <td>KPBFA2AF16P228479</td>\n",
       "      <td>20220712</td>\n",
       "      <td>164069.00</td>\n",
       "      <td>20220712.00</td>\n",
       "      <td>164082.00</td>\n",
       "      <td>0.00</td>\n",
       "      <td>-13.00</td>\n",
       "      <td>296.00</td>\n",
       "      <td>-inf</td>\n",
       "    </tr>\n",
       "    <tr>\n",
       "      <th>3185877</th>\n",
       "      <td>5</td>\n",
       "      <td>KPBFA2AF16P228481</td>\n",
       "      <td>20220617</td>\n",
       "      <td>260110.00</td>\n",
       "      <td>20220617.00</td>\n",
       "      <td>260110.00</td>\n",
       "      <td>0.00</td>\n",
       "      <td>0.00</td>\n",
       "      <td>321.00</td>\n",
       "      <td>NaN</td>\n",
       "    </tr>\n",
       "    <tr>\n",
       "      <th>3185906</th>\n",
       "      <td>5</td>\n",
       "      <td>KPBFA2AF16P228567</td>\n",
       "      <td>20200630</td>\n",
       "      <td>158646.00</td>\n",
       "      <td>20200630.00</td>\n",
       "      <td>158646.00</td>\n",
       "      <td>0.00</td>\n",
       "      <td>0.00</td>\n",
       "      <td>1038.00</td>\n",
       "      <td>NaN</td>\n",
       "    </tr>\n",
       "    <tr>\n",
       "      <th>3185917</th>\n",
       "      <td>5</td>\n",
       "      <td>KPBFA2AF16P228585</td>\n",
       "      <td>20200731</td>\n",
       "      <td>321212.00</td>\n",
       "      <td>20200731.00</td>\n",
       "      <td>321212.00</td>\n",
       "      <td>0.00</td>\n",
       "      <td>0.00</td>\n",
       "      <td>1007.00</td>\n",
       "      <td>NaN</td>\n",
       "    </tr>\n",
       "  </tbody>\n",
       "</table>\n",
       "<p>429917 rows × 10 columns</p>\n",
       "</div>"
      ],
      "text/plain": [
       "        배출가스등급               차대번호    최신검사일자    최신주행거리      이전검사일자    이전주행거리  \\\n",
       "27           5        01794100253  20211007 282511.00 20211007.00 282511.00   \n",
       "52           5        01841300288  20220614 428856.00 20220614.00 428856.00   \n",
       "54           5        01844300010  20220108 295587.00 20220108.00 295584.00   \n",
       "73           4      01881300150대서  20191004 211499.00 20191004.00 211499.00   \n",
       "104          4        01901321659  20210216 236554.00 20210216.00 236534.00   \n",
       "...        ...                ...       ...       ...         ...       ...   \n",
       "3185843      5  KPBFA2AF16P228329  20220615 296482.00 20220615.00 296481.00   \n",
       "3185875      5  KPBFA2AF16P228479  20220712 164069.00 20220712.00 164082.00   \n",
       "3185877      5  KPBFA2AF16P228481  20220617 260110.00 20220617.00 260110.00   \n",
       "3185906      5  KPBFA2AF16P228567  20200630 158646.00 20200630.00 158646.00   \n",
       "3185917      5  KPBFA2AF16P228585  20200731 321212.00 20200731.00 321212.00   \n",
       "\n",
       "         검사일자차이  주행거리차이  최신경과기간  연간주행거리  \n",
       "27         0.00    0.00  574.00     NaN  \n",
       "52         0.00    0.00  324.00     NaN  \n",
       "54         0.00    3.00  481.00     inf  \n",
       "73         0.00    0.00 1308.00     NaN  \n",
       "104        0.00   20.00  807.00     inf  \n",
       "...         ...     ...     ...     ...  \n",
       "3185843    0.00    1.00  323.00     inf  \n",
       "3185875    0.00  -13.00  296.00    -inf  \n",
       "3185877    0.00    0.00  321.00     NaN  \n",
       "3185906    0.00    0.00 1038.00     NaN  \n",
       "3185917    0.00    0.00 1007.00     NaN  \n",
       "\n",
       "[429917 rows x 10 columns]"
      ]
     },
     "execution_count": 320,
     "metadata": {},
     "output_type": "execute_result"
    }
   ],
   "source": [
    "chk[chk['검사일자차이'] == 0]"
   ]
  },
  {
   "cell_type": "code",
   "execution_count": 330,
   "metadata": {},
   "outputs": [
    {
     "data": {
      "text/plain": [
       "이전검사일자    686720\n",
       "이전주행거리    690365\n",
       "dtype: int64"
      ]
     },
     "execution_count": 330,
     "metadata": {},
     "output_type": "execute_result"
    }
   ],
   "source": [
    "chk[['이전검사일자', '이전주행거리']].isnull().sum()"
   ]
  },
  {
   "cell_type": "code",
   "execution_count": 331,
   "metadata": {},
   "outputs": [
    {
     "data": {
      "text/html": [
       "<div>\n",
       "<style scoped>\n",
       "    .dataframe tbody tr th:only-of-type {\n",
       "        vertical-align: middle;\n",
       "    }\n",
       "\n",
       "    .dataframe tbody tr th {\n",
       "        vertical-align: top;\n",
       "    }\n",
       "\n",
       "    .dataframe thead th {\n",
       "        text-align: right;\n",
       "    }\n",
       "</style>\n",
       "<table border=\"1\" class=\"dataframe\">\n",
       "  <thead>\n",
       "    <tr style=\"text-align: right;\">\n",
       "      <th></th>\n",
       "      <th>배출가스등급</th>\n",
       "      <th>차대번호</th>\n",
       "      <th>최신검사일자</th>\n",
       "      <th>최신주행거리</th>\n",
       "      <th>이전검사일자</th>\n",
       "      <th>이전주행거리</th>\n",
       "      <th>검사일자차이</th>\n",
       "      <th>주행거리차이</th>\n",
       "      <th>최신경과기간</th>\n",
       "      <th>연간주행거리</th>\n",
       "    </tr>\n",
       "  </thead>\n",
       "  <tbody>\n",
       "    <tr>\n",
       "      <th>10</th>\n",
       "      <td>5</td>\n",
       "      <td>01712200711</td>\n",
       "      <td>20201030</td>\n",
       "      <td>23189.00</td>\n",
       "      <td>NaN</td>\n",
       "      <td>NaN</td>\n",
       "      <td>NaN</td>\n",
       "      <td>NaN</td>\n",
       "      <td>NaN</td>\n",
       "      <td>NaN</td>\n",
       "    </tr>\n",
       "    <tr>\n",
       "      <th>15</th>\n",
       "      <td>5</td>\n",
       "      <td>01762230885</td>\n",
       "      <td>20191015</td>\n",
       "      <td>85581.00</td>\n",
       "      <td>NaN</td>\n",
       "      <td>NaN</td>\n",
       "      <td>NaN</td>\n",
       "      <td>NaN</td>\n",
       "      <td>NaN</td>\n",
       "      <td>NaN</td>\n",
       "    </tr>\n",
       "    <tr>\n",
       "      <th>18</th>\n",
       "      <td>5</td>\n",
       "      <td>01781203665</td>\n",
       "      <td>20190522</td>\n",
       "      <td>10547.00</td>\n",
       "      <td>NaN</td>\n",
       "      <td>NaN</td>\n",
       "      <td>NaN</td>\n",
       "      <td>NaN</td>\n",
       "      <td>NaN</td>\n",
       "      <td>NaN</td>\n",
       "    </tr>\n",
       "    <tr>\n",
       "      <th>25</th>\n",
       "      <td>5</td>\n",
       "      <td>01791301837</td>\n",
       "      <td>20200820</td>\n",
       "      <td>141871.00</td>\n",
       "      <td>NaN</td>\n",
       "      <td>NaN</td>\n",
       "      <td>NaN</td>\n",
       "      <td>NaN</td>\n",
       "      <td>NaN</td>\n",
       "      <td>NaN</td>\n",
       "    </tr>\n",
       "    <tr>\n",
       "      <th>35</th>\n",
       "      <td>5</td>\n",
       "      <td>01811300023</td>\n",
       "      <td>20190430</td>\n",
       "      <td>234194.00</td>\n",
       "      <td>NaN</td>\n",
       "      <td>NaN</td>\n",
       "      <td>NaN</td>\n",
       "      <td>NaN</td>\n",
       "      <td>NaN</td>\n",
       "      <td>NaN</td>\n",
       "    </tr>\n",
       "    <tr>\n",
       "      <th>...</th>\n",
       "      <td>...</td>\n",
       "      <td>...</td>\n",
       "      <td>...</td>\n",
       "      <td>...</td>\n",
       "      <td>...</td>\n",
       "      <td>...</td>\n",
       "      <td>...</td>\n",
       "      <td>...</td>\n",
       "      <td>...</td>\n",
       "      <td>...</td>\n",
       "    </tr>\n",
       "    <tr>\n",
       "      <th>3185922</th>\n",
       "      <td>5</td>\n",
       "      <td>KPBFA2AF16P228594</td>\n",
       "      <td>20200608</td>\n",
       "      <td>243330.00</td>\n",
       "      <td>NaN</td>\n",
       "      <td>NaN</td>\n",
       "      <td>NaN</td>\n",
       "      <td>NaN</td>\n",
       "      <td>NaN</td>\n",
       "      <td>NaN</td>\n",
       "    </tr>\n",
       "    <tr>\n",
       "      <th>3185924</th>\n",
       "      <td>5</td>\n",
       "      <td>KPBFA2AF16P228597</td>\n",
       "      <td>20200805</td>\n",
       "      <td>211564.00</td>\n",
       "      <td>NaN</td>\n",
       "      <td>NaN</td>\n",
       "      <td>NaN</td>\n",
       "      <td>NaN</td>\n",
       "      <td>NaN</td>\n",
       "      <td>NaN</td>\n",
       "    </tr>\n",
       "    <tr>\n",
       "      <th>3185928</th>\n",
       "      <td>5</td>\n",
       "      <td>KPBFA2AF16P228602</td>\n",
       "      <td>20200608</td>\n",
       "      <td>91674.00</td>\n",
       "      <td>NaN</td>\n",
       "      <td>NaN</td>\n",
       "      <td>NaN</td>\n",
       "      <td>NaN</td>\n",
       "      <td>NaN</td>\n",
       "      <td>NaN</td>\n",
       "    </tr>\n",
       "    <tr>\n",
       "      <th>3185929</th>\n",
       "      <td>5</td>\n",
       "      <td>KPBFA2AF16P228645</td>\n",
       "      <td>20200717</td>\n",
       "      <td>305070.00</td>\n",
       "      <td>NaN</td>\n",
       "      <td>NaN</td>\n",
       "      <td>NaN</td>\n",
       "      <td>NaN</td>\n",
       "      <td>NaN</td>\n",
       "      <td>NaN</td>\n",
       "    </tr>\n",
       "    <tr>\n",
       "      <th>3185931</th>\n",
       "      <td>5</td>\n",
       "      <td>KPBFA2AF16P228648</td>\n",
       "      <td>20200525</td>\n",
       "      <td>186817.00</td>\n",
       "      <td>NaN</td>\n",
       "      <td>NaN</td>\n",
       "      <td>NaN</td>\n",
       "      <td>NaN</td>\n",
       "      <td>NaN</td>\n",
       "      <td>NaN</td>\n",
       "    </tr>\n",
       "  </tbody>\n",
       "</table>\n",
       "<p>686720 rows × 10 columns</p>\n",
       "</div>"
      ],
      "text/plain": [
       "        배출가스등급               차대번호    최신검사일자    최신주행거리  이전검사일자  이전주행거리  검사일자차이  \\\n",
       "10           5        01712200711  20201030  23189.00     NaN     NaN     NaN   \n",
       "15           5        01762230885  20191015  85581.00     NaN     NaN     NaN   \n",
       "18           5        01781203665  20190522  10547.00     NaN     NaN     NaN   \n",
       "25           5        01791301837  20200820 141871.00     NaN     NaN     NaN   \n",
       "35           5        01811300023  20190430 234194.00     NaN     NaN     NaN   \n",
       "...        ...                ...       ...       ...     ...     ...     ...   \n",
       "3185922      5  KPBFA2AF16P228594  20200608 243330.00     NaN     NaN     NaN   \n",
       "3185924      5  KPBFA2AF16P228597  20200805 211564.00     NaN     NaN     NaN   \n",
       "3185928      5  KPBFA2AF16P228602  20200608  91674.00     NaN     NaN     NaN   \n",
       "3185929      5  KPBFA2AF16P228645  20200717 305070.00     NaN     NaN     NaN   \n",
       "3185931      5  KPBFA2AF16P228648  20200525 186817.00     NaN     NaN     NaN   \n",
       "\n",
       "         주행거리차이  최신경과기간  연간주행거리  \n",
       "10          NaN     NaN     NaN  \n",
       "15          NaN     NaN     NaN  \n",
       "18          NaN     NaN     NaN  \n",
       "25          NaN     NaN     NaN  \n",
       "35          NaN     NaN     NaN  \n",
       "...         ...     ...     ...  \n",
       "3185922     NaN     NaN     NaN  \n",
       "3185924     NaN     NaN     NaN  \n",
       "3185928     NaN     NaN     NaN  \n",
       "3185929     NaN     NaN     NaN  \n",
       "3185931     NaN     NaN     NaN  \n",
       "\n",
       "[686720 rows x 10 columns]"
      ]
     },
     "execution_count": 331,
     "metadata": {},
     "output_type": "execute_result"
    }
   ],
   "source": [
    "chk[chk['이전검사일자'].isnull() == True]"
   ]
  },
  {
   "cell_type": "code",
   "execution_count": 333,
   "metadata": {},
   "outputs": [
    {
     "data": {
      "text/plain": [
       "5     1704771\n",
       "4     1481104\n",
       "T5         31\n",
       "T4         26\n",
       "Name: 배출가스등급, dtype: int64"
      ]
     },
     "execution_count": 333,
     "metadata": {},
     "output_type": "execute_result"
    }
   ],
   "source": [
    "chk['배출가스등급'].value_counts(dropna=False)"
   ]
  },
  {
   "cell_type": "code",
   "execution_count": 332,
   "metadata": {},
   "outputs": [
    {
     "data": {
      "text/plain": [
       "5     499990\n",
       "4     186719\n",
       "T4         6\n",
       "T5         5\n",
       "Name: 배출가스등급, dtype: int64"
      ]
     },
     "execution_count": 332,
     "metadata": {},
     "output_type": "execute_result"
    }
   ],
   "source": [
    "chk.loc[chk['이전검사일자'].isnull() == True, '배출가스등급'].value_counts(dropna=False)"
   ]
  },
  {
   "cell_type": "code",
   "execution_count": 328,
   "metadata": {},
   "outputs": [
    {
     "data": {
      "text/plain": [
       "(159923, 10)"
      ]
     },
     "execution_count": 328,
     "metadata": {},
     "output_type": "execute_result"
    }
   ],
   "source": [
    "chk[(chk['배출가스등급'] == '4') & (chk['검사일자차이'] == 0)].shape"
   ]
  },
  {
   "cell_type": "code",
   "execution_count": 329,
   "metadata": {},
   "outputs": [
    {
     "data": {
      "text/plain": [
       "(269992, 10)"
      ]
     },
     "execution_count": 329,
     "metadata": {},
     "output_type": "execute_result"
    }
   ],
   "source": [
    "chk[(chk['배출가스등급'] == '5') & (chk['검사일자차이'] == 0)].shape"
   ]
  },
  {
   "cell_type": "code",
   "execution_count": 194,
   "metadata": {},
   "outputs": [
    {
     "data": {
      "text/plain": [
       "5     1704771\n",
       "4     1481104\n",
       "T5         31\n",
       "T4         26\n",
       "Name: 배출가스등급, dtype: int64"
      ]
     },
     "execution_count": 194,
     "metadata": {},
     "output_type": "execute_result"
    }
   ],
   "source": [
    "chk['배출가스등급'].value_counts(dropna=False)"
   ]
  },
  {
   "cell_type": "code",
   "execution_count": 195,
   "metadata": {},
   "outputs": [
    {
     "data": {
      "text/plain": [
       "(1481130, 2)"
      ]
     },
     "execution_count": 195,
     "metadata": {},
     "output_type": "execute_result"
    }
   ],
   "source": [
    "chk4 = chk.loc[(chk['배출가스등급'] == '4') | (chk['배출가스등급'] == 'T4'), ['차대번호', '연간주행거리']].reset_index(drop=True)\n",
    "chk4.shape"
   ]
  },
  {
   "cell_type": "code",
   "execution_count": 196,
   "metadata": {},
   "outputs": [
    {
     "data": {
      "text/plain": [
       "(1704802, 2)"
      ]
     },
     "execution_count": 196,
     "metadata": {},
     "output_type": "execute_result"
    }
   ],
   "source": [
    "chk5 = chk.loc[(chk['배출가스등급'] == '5') | (chk['배출가스등급'] == 'T5'), ['차대번호', '연간주행거리']].reset_index(drop=True)\n",
    "chk5.shape"
   ]
  },
  {
   "cell_type": "code",
   "execution_count": 197,
   "metadata": {},
   "outputs": [
    {
     "data": {
      "text/plain": [
       "(1149289, 42)"
      ]
     },
     "execution_count": 197,
     "metadata": {},
     "output_type": "execute_result"
    }
   ],
   "source": [
    "gm4.shape"
   ]
  },
  {
   "cell_type": "code",
   "execution_count": 198,
   "metadata": {},
   "outputs": [
    {
     "data": {
      "text/plain": [
       "Index(['차대번호', '차량번호', '제원관리번호', '차종', '용도', '최초등록일', '연식', '제작일자', '검사유효일',\n",
       "       '배출가스인증번호', '등급', '차명', '차종분류', '차종유형', '자동차형식', '제작사명', '연료', '엔진형식',\n",
       "       '총중량', '적재중량', '엔진출력', '배기량', '법정동코드', '시도명', '시군구명', '소유자구분', '말소여부',\n",
       "       '일치유무', '인증번호 수정 유무', '배인번호_수정', '등급_수정', 'DPF유무_수정', '배출가스', '등급2',\n",
       "       'DPF', '비고', 'Grade', '차령', '시군구명_수정', '1일평균주행거리', '조기폐차최종승인YN',\n",
       "       '저감장치'],\n",
       "      dtype='object')"
      ]
     },
     "execution_count": 198,
     "metadata": {},
     "output_type": "execute_result"
    }
   ],
   "source": [
    "gm4.columns"
   ]
  },
  {
   "cell_type": "code",
   "execution_count": 199,
   "metadata": {},
   "outputs": [
    {
     "data": {
      "text/plain": [
       "(1149289, 43)"
      ]
     },
     "execution_count": 199,
     "metadata": {},
     "output_type": "execute_result"
    }
   ],
   "source": [
    "gm4 = gm4.merge(chk4, on='차대번호', how='left')\n",
    "gm4.shape"
   ]
  },
  {
   "cell_type": "code",
   "execution_count": 200,
   "metadata": {},
   "outputs": [
    {
     "data": {
      "text/plain": [
       "(1154995, 12)"
      ]
     },
     "execution_count": 200,
     "metadata": {},
     "output_type": "execute_result"
    }
   ],
   "source": [
    "gm5.shape"
   ]
  },
  {
   "cell_type": "code",
   "execution_count": 201,
   "metadata": {},
   "outputs": [
    {
     "data": {
      "text/plain": [
       "(1154995, 13)"
      ]
     },
     "execution_count": 201,
     "metadata": {},
     "output_type": "execute_result"
    }
   ],
   "source": [
    "gm5 = gm5.merge(chk5, on='차대번호', how='left')\n",
    "gm5.shape"
   ]
  },
  {
   "attachments": {},
   "cell_type": "markdown",
   "metadata": {},
   "source": [
    "## 지역 추가"
   ]
  },
  {
   "cell_type": "code",
   "execution_count": 203,
   "metadata": {},
   "outputs": [
    {
     "data": {
      "text/plain": [
       "Index(['차대번호', '차량번호', '제원관리번호', '차종', '용도', '최초등록일', '연식', '제작일자', '검사유효일',\n",
       "       '배출가스인증번호', '등급', '차명', '차종분류', '차종유형', '자동차형식', '제작사명', '연료', '엔진형식',\n",
       "       '총중량', '적재중량', '엔진출력', '배기량', '법정동코드', '시도명', '시군구명', '소유자구분', '말소여부',\n",
       "       '일치유무', '인증번호 수정 유무', '배인번호_수정', '등급_수정', 'DPF유무_수정', '배출가스', '등급2',\n",
       "       'DPF', '비고', 'Grade', '차령', '시군구명_수정', '1일평균주행거리', '조기폐차최종승인YN', '저감장치',\n",
       "       '연간주행거리'],\n",
       "      dtype='object')"
      ]
     },
     "execution_count": 203,
     "metadata": {},
     "output_type": "execute_result"
    }
   ],
   "source": [
    "gm4.columns"
   ]
  },
  {
   "cell_type": "code",
   "execution_count": 286,
   "metadata": {},
   "outputs": [
    {
     "data": {
      "text/plain": [
       "(1511251, 15)"
      ]
     },
     "execution_count": 286,
     "metadata": {},
     "output_type": "execute_result"
    }
   ],
   "source": [
    "# gm4 = gm4.merge(code, on='본거지법정동코드', how='left')\n",
    "# gm4.shape"
   ]
  },
  {
   "cell_type": "code",
   "execution_count": 204,
   "metadata": {},
   "outputs": [
    {
     "data": {
      "text/plain": [
       "시도명        0\n",
       "시군구명_수정    0\n",
       "dtype: int64"
      ]
     },
     "execution_count": 204,
     "metadata": {},
     "output_type": "execute_result"
    }
   ],
   "source": [
    "gm4[['시도명', '시군구명_수정']].isnull().sum()"
   ]
  },
  {
   "cell_type": "code",
   "execution_count": 288,
   "metadata": {},
   "outputs": [
    {
     "data": {
      "text/html": [
       "<div>\n",
       "<style scoped>\n",
       "    .dataframe tbody tr th:only-of-type {\n",
       "        vertical-align: middle;\n",
       "    }\n",
       "\n",
       "    .dataframe tbody tr th {\n",
       "        vertical-align: top;\n",
       "    }\n",
       "\n",
       "    .dataframe thead th {\n",
       "        text-align: right;\n",
       "    }\n",
       "</style>\n",
       "<table border=\"1\" class=\"dataframe\">\n",
       "  <thead>\n",
       "    <tr style=\"text-align: right;\">\n",
       "      <th></th>\n",
       "      <th>차량등록번호</th>\n",
       "      <th>본거지법정동코드</th>\n",
       "      <th>차대번호</th>\n",
       "      <th>제원관리번호</th>\n",
       "      <th>배출가스인증번호</th>\n",
       "      <th>배출가스등급</th>\n",
       "      <th>차명</th>\n",
       "      <th>차종_제원정보</th>\n",
       "      <th>연료</th>\n",
       "      <th>배기량</th>\n",
       "      <th>조기폐차최종승인YN</th>\n",
       "      <th>저감장치</th>\n",
       "      <th>연간주행거리</th>\n",
       "      <th>시도</th>\n",
       "      <th>시구군</th>\n",
       "    </tr>\n",
       "  </thead>\n",
       "  <tbody>\n",
       "    <tr>\n",
       "      <th>25785</th>\n",
       "      <td>충남34가1634</td>\n",
       "      <td>3611000000</td>\n",
       "      <td>KNAGB2212KS216084</td>\n",
       "      <td>10016000050001</td>\n",
       "      <td>TY88-배K-09</td>\n",
       "      <td>4</td>\n",
       "      <td>캐피탈</td>\n",
       "      <td>승용</td>\n",
       "      <td>휘발유</td>\n",
       "      <td>1498.00</td>\n",
       "      <td>NaN</td>\n",
       "      <td>NaN</td>\n",
       "      <td>NaN</td>\n",
       "      <td>세종특별자치시</td>\n",
       "      <td>NaN</td>\n",
       "    </tr>\n",
       "    <tr>\n",
       "      <th>66828</th>\n",
       "      <td>충남37나4495</td>\n",
       "      <td>3611000000</td>\n",
       "      <td>KMHNF31TPMU065117</td>\n",
       "      <td>10015300080001</td>\n",
       "      <td>KMY-HD-01</td>\n",
       "      <td>4</td>\n",
       "      <td>그랜저3.0</td>\n",
       "      <td>승용</td>\n",
       "      <td>휘발유</td>\n",
       "      <td>2972.00</td>\n",
       "      <td>NaN</td>\n",
       "      <td>NaN</td>\n",
       "      <td>NaN</td>\n",
       "      <td>세종특별자치시</td>\n",
       "      <td>NaN</td>\n",
       "    </tr>\n",
       "    <tr>\n",
       "      <th>157322</th>\n",
       "      <td>충남37라9677</td>\n",
       "      <td>3611000000</td>\n",
       "      <td>KLAER1981RB194627</td>\n",
       "      <td>10002200770002</td>\n",
       "      <td>NaN</td>\n",
       "      <td>4</td>\n",
       "      <td>프린스1.8AT</td>\n",
       "      <td>승용</td>\n",
       "      <td>휘발유</td>\n",
       "      <td>1796.00</td>\n",
       "      <td>NaN</td>\n",
       "      <td>NaN</td>\n",
       "      <td>NaN</td>\n",
       "      <td>세종특별자치시</td>\n",
       "      <td>NaN</td>\n",
       "    </tr>\n",
       "    <tr>\n",
       "      <th>175651</th>\n",
       "      <td>충남37라5334</td>\n",
       "      <td>3611000000</td>\n",
       "      <td>KNALA2233RA826552</td>\n",
       "      <td>10033000040001</td>\n",
       "      <td>PMY-KM-19</td>\n",
       "      <td>4</td>\n",
       "      <td>포텐사오토</td>\n",
       "      <td>승용</td>\n",
       "      <td>휘발유</td>\n",
       "      <td>1998.00</td>\n",
       "      <td>NaN</td>\n",
       "      <td>NaN</td>\n",
       "      <td>NaN</td>\n",
       "      <td>세종특별자치시</td>\n",
       "      <td>NaN</td>\n",
       "    </tr>\n",
       "    <tr>\n",
       "      <th>269793</th>\n",
       "      <td>충남37나7584</td>\n",
       "      <td>3611000000</td>\n",
       "      <td>KN17P23E4TK084050</td>\n",
       "      <td>10015800360001</td>\n",
       "      <td>NaN</td>\n",
       "      <td>4</td>\n",
       "      <td>프라이드웨곤</td>\n",
       "      <td>승용</td>\n",
       "      <td>휘발유</td>\n",
       "      <td>1323.00</td>\n",
       "      <td>NaN</td>\n",
       "      <td>NaN</td>\n",
       "      <td>NaN</td>\n",
       "      <td>세종특별자치시</td>\n",
       "      <td>NaN</td>\n",
       "    </tr>\n",
       "  </tbody>\n",
       "</table>\n",
       "</div>"
      ],
      "text/plain": [
       "           차량등록번호    본거지법정동코드               차대번호          제원관리번호    배출가스인증번호  \\\n",
       "25785   충남34가1634  3611000000  KNAGB2212KS216084  10016000050001  TY88-배K-09   \n",
       "66828   충남37나4495  3611000000  KMHNF31TPMU065117  10015300080001   KMY-HD-01   \n",
       "157322  충남37라9677  3611000000  KLAER1981RB194627  10002200770002         NaN   \n",
       "175651  충남37라5334  3611000000  KNALA2233RA826552  10033000040001   PMY-KM-19   \n",
       "269793  충남37나7584  3611000000  KN17P23E4TK084050  10015800360001         NaN   \n",
       "\n",
       "       배출가스등급        차명 차종_제원정보   연료     배기량 조기폐차최종승인YN 저감장치  연간주행거리       시도  \\\n",
       "25785       4       캐피탈      승용  휘발유 1498.00        NaN  NaN     NaN  세종특별자치시   \n",
       "66828       4    그랜저3.0      승용  휘발유 2972.00        NaN  NaN     NaN  세종특별자치시   \n",
       "157322      4  프린스1.8AT      승용  휘발유 1796.00        NaN  NaN     NaN  세종특별자치시   \n",
       "175651      4     포텐사오토      승용  휘발유 1998.00        NaN  NaN     NaN  세종특별자치시   \n",
       "269793      4    프라이드웨곤      승용  휘발유 1323.00        NaN  NaN     NaN  세종특별자치시   \n",
       "\n",
       "        시구군  \n",
       "25785   NaN  \n",
       "66828   NaN  \n",
       "157322  NaN  \n",
       "175651  NaN  \n",
       "269793  NaN  "
      ]
     },
     "execution_count": 288,
     "metadata": {},
     "output_type": "execute_result"
    }
   ],
   "source": [
    "# gm4.loc[gm4['시구군'].isnull() == True]"
   ]
  },
  {
   "cell_type": "code",
   "execution_count": 205,
   "metadata": {},
   "outputs": [
    {
     "data": {
      "text/plain": [
       "(1154995, 15)"
      ]
     },
     "execution_count": 205,
     "metadata": {},
     "output_type": "execute_result"
    }
   ],
   "source": [
    "gm5 = gm5.merge(code, on='본거지법정동코드', how='left')\n",
    "gm5.shape"
   ]
  },
  {
   "cell_type": "code",
   "execution_count": 206,
   "metadata": {},
   "outputs": [
    {
     "data": {
      "text/plain": [
       "시도      0\n",
       "시구군    21\n",
       "dtype: int64"
      ]
     },
     "execution_count": 206,
     "metadata": {},
     "output_type": "execute_result"
    }
   ],
   "source": [
    "gm5[['시도', '시구군']].isnull().sum()"
   ]
  },
  {
   "cell_type": "code",
   "execution_count": 207,
   "metadata": {},
   "outputs": [
    {
     "data": {
      "text/html": [
       "<div>\n",
       "<style scoped>\n",
       "    .dataframe tbody tr th:only-of-type {\n",
       "        vertical-align: middle;\n",
       "    }\n",
       "\n",
       "    .dataframe tbody tr th {\n",
       "        vertical-align: top;\n",
       "    }\n",
       "\n",
       "    .dataframe thead th {\n",
       "        text-align: right;\n",
       "    }\n",
       "</style>\n",
       "<table border=\"1\" class=\"dataframe\">\n",
       "  <thead>\n",
       "    <tr style=\"text-align: right;\">\n",
       "      <th></th>\n",
       "      <th>차량등록번호</th>\n",
       "      <th>본거지법정동코드</th>\n",
       "      <th>차대번호</th>\n",
       "      <th>제원관리번호</th>\n",
       "      <th>배출가스인증번호</th>\n",
       "      <th>배출가스등급</th>\n",
       "      <th>차명</th>\n",
       "      <th>차종_제원정보</th>\n",
       "      <th>연료</th>\n",
       "      <th>배기량</th>\n",
       "      <th>조기폐차최종승인YN</th>\n",
       "      <th>저감장치</th>\n",
       "      <th>연간주행거리</th>\n",
       "      <th>시도</th>\n",
       "      <th>시구군</th>\n",
       "    </tr>\n",
       "  </thead>\n",
       "  <tbody>\n",
       "    <tr>\n",
       "      <th>5650</th>\n",
       "      <td>서울3마3085</td>\n",
       "      <td>4100000000</td>\n",
       "      <td>10742255732</td>\n",
       "      <td>30110100001154</td>\n",
       "      <td>NaN</td>\n",
       "      <td>5</td>\n",
       "      <td>뉴코티나</td>\n",
       "      <td>승용</td>\n",
       "      <td>휘발유</td>\n",
       "      <td>1597.00</td>\n",
       "      <td>NaN</td>\n",
       "      <td>NaN</td>\n",
       "      <td>NaN</td>\n",
       "      <td>경기도</td>\n",
       "      <td>NaN</td>\n",
       "    </tr>\n",
       "    <tr>\n",
       "      <th>6873</th>\n",
       "      <td>충남1가3137</td>\n",
       "      <td>3611000000</td>\n",
       "      <td>03811301965</td>\n",
       "      <td>10002200050000</td>\n",
       "      <td>NaN</td>\n",
       "      <td>5</td>\n",
       "      <td>로얄디젤</td>\n",
       "      <td>승용</td>\n",
       "      <td>경유</td>\n",
       "      <td>1998.00</td>\n",
       "      <td>NaN</td>\n",
       "      <td>NaN</td>\n",
       "      <td>NaN</td>\n",
       "      <td>세종특별자치시</td>\n",
       "      <td>NaN</td>\n",
       "    </tr>\n",
       "    <tr>\n",
       "      <th>6965</th>\n",
       "      <td>충남7나5383</td>\n",
       "      <td>3611000000</td>\n",
       "      <td>03802116969</td>\n",
       "      <td>10010400000000</td>\n",
       "      <td>NaN</td>\n",
       "      <td>5</td>\n",
       "      <td>새한1.4톤카고</td>\n",
       "      <td>화물</td>\n",
       "      <td>경유</td>\n",
       "      <td>2775.00</td>\n",
       "      <td>NaN</td>\n",
       "      <td>NaN</td>\n",
       "      <td>NaN</td>\n",
       "      <td>세종특별자치시</td>\n",
       "      <td>NaN</td>\n",
       "    </tr>\n",
       "    <tr>\n",
       "      <th>9268</th>\n",
       "      <td>충남5가3143</td>\n",
       "      <td>3611000000</td>\n",
       "      <td>08821110131</td>\n",
       "      <td>10000700680000</td>\n",
       "      <td>NaN</td>\n",
       "      <td>5</td>\n",
       "      <td>아시아마이크로버스</td>\n",
       "      <td>승합</td>\n",
       "      <td>경유</td>\n",
       "      <td>2977.00</td>\n",
       "      <td>NaN</td>\n",
       "      <td>NaN</td>\n",
       "      <td>NaN</td>\n",
       "      <td>세종특별자치시</td>\n",
       "      <td>NaN</td>\n",
       "    </tr>\n",
       "    <tr>\n",
       "      <th>19969</th>\n",
       "      <td>충남5가7295</td>\n",
       "      <td>3611000000</td>\n",
       "      <td>KNHA392F2FS058005</td>\n",
       "      <td>10011400150003</td>\n",
       "      <td>NaN</td>\n",
       "      <td>5</td>\n",
       "      <td>봉고코치</td>\n",
       "      <td>승합</td>\n",
       "      <td>경유</td>\n",
       "      <td>2209.00</td>\n",
       "      <td>NaN</td>\n",
       "      <td>NaN</td>\n",
       "      <td>NaN</td>\n",
       "      <td>세종특별자치시</td>\n",
       "      <td>NaN</td>\n",
       "    </tr>\n",
       "    <tr>\n",
       "      <th>23989</th>\n",
       "      <td>충남7가4367</td>\n",
       "      <td>3611000000</td>\n",
       "      <td>03831258812</td>\n",
       "      <td>30110100001405</td>\n",
       "      <td>NaN</td>\n",
       "      <td>5</td>\n",
       "      <td>슈퍼타이탄디젤14척</td>\n",
       "      <td>화물</td>\n",
       "      <td>경유</td>\n",
       "      <td>2977.00</td>\n",
       "      <td>NaN</td>\n",
       "      <td>NaN</td>\n",
       "      <td>NaN</td>\n",
       "      <td>세종특별자치시</td>\n",
       "      <td>NaN</td>\n",
       "    </tr>\n",
       "    <tr>\n",
       "      <th>28269</th>\n",
       "      <td>충남7가9676</td>\n",
       "      <td>3611000000</td>\n",
       "      <td>KNEAF29F2ES042742</td>\n",
       "      <td>10011400070000</td>\n",
       "      <td>NaN</td>\n",
       "      <td>5</td>\n",
       "      <td>봉고구급차</td>\n",
       "      <td>승합</td>\n",
       "      <td>경유</td>\n",
       "      <td>2209.00</td>\n",
       "      <td>NaN</td>\n",
       "      <td>NaN</td>\n",
       "      <td>NaN</td>\n",
       "      <td>세종특별자치시</td>\n",
       "      <td>NaN</td>\n",
       "    </tr>\n",
       "    <tr>\n",
       "      <th>28327</th>\n",
       "      <td>충남5가6008</td>\n",
       "      <td>3611000000</td>\n",
       "      <td>KNEAF92F2ES042743</td>\n",
       "      <td>10011400070000</td>\n",
       "      <td>NaN</td>\n",
       "      <td>5</td>\n",
       "      <td>봉고구급차</td>\n",
       "      <td>승합</td>\n",
       "      <td>경유</td>\n",
       "      <td>2209.00</td>\n",
       "      <td>NaN</td>\n",
       "      <td>NaN</td>\n",
       "      <td>NaN</td>\n",
       "      <td>세종특별자치시</td>\n",
       "      <td>NaN</td>\n",
       "    </tr>\n",
       "    <tr>\n",
       "      <th>28617</th>\n",
       "      <td>충남1허5019</td>\n",
       "      <td>3611000000</td>\n",
       "      <td>KMHPA11CPGU257191</td>\n",
       "      <td>10004800100000</td>\n",
       "      <td>NaN</td>\n",
       "      <td>5</td>\n",
       "      <td>포니2-1400LPG</td>\n",
       "      <td>승용</td>\n",
       "      <td>LPG(액화석유가스)</td>\n",
       "      <td>1439.00</td>\n",
       "      <td>NaN</td>\n",
       "      <td>NaN</td>\n",
       "      <td>NaN</td>\n",
       "      <td>세종특별자치시</td>\n",
       "      <td>NaN</td>\n",
       "    </tr>\n",
       "    <tr>\n",
       "      <th>29961</th>\n",
       "      <td>충남7가5506</td>\n",
       "      <td>3611000000</td>\n",
       "      <td>KNCA192F1ES066264</td>\n",
       "      <td>10011400000006</td>\n",
       "      <td>NaN</td>\n",
       "      <td>5</td>\n",
       "      <td>봉고1톤</td>\n",
       "      <td>화물</td>\n",
       "      <td>경유</td>\n",
       "      <td>2209.00</td>\n",
       "      <td>NaN</td>\n",
       "      <td>NaN</td>\n",
       "      <td>NaN</td>\n",
       "      <td>세종특별자치시</td>\n",
       "      <td>NaN</td>\n",
       "    </tr>\n",
       "    <tr>\n",
       "      <th>59863</th>\n",
       "      <td>충남7나4372</td>\n",
       "      <td>3611000000</td>\n",
       "      <td>KN3LAP1C1HK073057</td>\n",
       "      <td>10000600710000</td>\n",
       "      <td>NaN</td>\n",
       "      <td>5</td>\n",
       "      <td>복사17</td>\n",
       "      <td>화물</td>\n",
       "      <td>경유</td>\n",
       "      <td>4052.00</td>\n",
       "      <td>NaN</td>\n",
       "      <td>NaN</td>\n",
       "      <td>NaN</td>\n",
       "      <td>세종특별자치시</td>\n",
       "      <td>NaN</td>\n",
       "    </tr>\n",
       "    <tr>\n",
       "      <th>95124</th>\n",
       "      <td>충남7느5410</td>\n",
       "      <td>3611000000</td>\n",
       "      <td>KNCSC9332LS463530</td>\n",
       "      <td>10018600010004</td>\n",
       "      <td>NaN</td>\n",
       "      <td>5</td>\n",
       "      <td>와이드봉고킹캡</td>\n",
       "      <td>화물</td>\n",
       "      <td>경유</td>\n",
       "      <td>2367.00</td>\n",
       "      <td>NaN</td>\n",
       "      <td>NaN</td>\n",
       "      <td>NaN</td>\n",
       "      <td>세종특별자치시</td>\n",
       "      <td>NaN</td>\n",
       "    </tr>\n",
       "    <tr>\n",
       "      <th>129234</th>\n",
       "      <td>충남83노4051</td>\n",
       "      <td>3611000000</td>\n",
       "      <td>KMFFA17XPNU207722</td>\n",
       "      <td>10015500320001</td>\n",
       "      <td>NaN</td>\n",
       "      <td>5</td>\n",
       "      <td>포터</td>\n",
       "      <td>화물</td>\n",
       "      <td>경유</td>\n",
       "      <td>2476.00</td>\n",
       "      <td>NaN</td>\n",
       "      <td>NaN</td>\n",
       "      <td>NaN</td>\n",
       "      <td>세종특별자치시</td>\n",
       "      <td>NaN</td>\n",
       "    </tr>\n",
       "    <tr>\n",
       "      <th>159016</th>\n",
       "      <td>충남83노6764</td>\n",
       "      <td>3611000000</td>\n",
       "      <td>KMFFE17XPPU025470</td>\n",
       "      <td>10015500530000</td>\n",
       "      <td>NaN</td>\n",
       "      <td>5</td>\n",
       "      <td>포터더블캡</td>\n",
       "      <td>화물</td>\n",
       "      <td>경유</td>\n",
       "      <td>2476.00</td>\n",
       "      <td>NaN</td>\n",
       "      <td>NaN</td>\n",
       "      <td>NaN</td>\n",
       "      <td>세종특별자치시</td>\n",
       "      <td>NaN</td>\n",
       "    </tr>\n",
       "    <tr>\n",
       "      <th>162079</th>\n",
       "      <td>충남37마2067</td>\n",
       "      <td>3611000000</td>\n",
       "      <td>KNHTP7362PS720420</td>\n",
       "      <td>10015000440002</td>\n",
       "      <td>NaN</td>\n",
       "      <td>5</td>\n",
       "      <td>베스타9</td>\n",
       "      <td>승합</td>\n",
       "      <td>경유</td>\n",
       "      <td>2662.00</td>\n",
       "      <td>NaN</td>\n",
       "      <td>NaN</td>\n",
       "      <td>NaN</td>\n",
       "      <td>세종특별자치시</td>\n",
       "      <td>NaN</td>\n",
       "    </tr>\n",
       "    <tr>\n",
       "      <th>162485</th>\n",
       "      <td>충남7모7576</td>\n",
       "      <td>3611000000</td>\n",
       "      <td>KMFFA17XPPU049182</td>\n",
       "      <td>10015500510000</td>\n",
       "      <td>NaN</td>\n",
       "      <td>5</td>\n",
       "      <td>포터</td>\n",
       "      <td>화물</td>\n",
       "      <td>경유</td>\n",
       "      <td>2476.00</td>\n",
       "      <td>NaN</td>\n",
       "      <td>NaN</td>\n",
       "      <td>NaN</td>\n",
       "      <td>세종특별자치시</td>\n",
       "      <td>NaN</td>\n",
       "    </tr>\n",
       "    <tr>\n",
       "      <th>164320</th>\n",
       "      <td>충남81더1582</td>\n",
       "      <td>3611000000</td>\n",
       "      <td>KMFMA17HPPU014885</td>\n",
       "      <td>10024400190002</td>\n",
       "      <td>NaN</td>\n",
       "      <td>5</td>\n",
       "      <td>현대4.5톤카고트럭-장축</td>\n",
       "      <td>화물</td>\n",
       "      <td>경유</td>\n",
       "      <td>7545.00</td>\n",
       "      <td>NaN</td>\n",
       "      <td>NaN</td>\n",
       "      <td>NaN</td>\n",
       "      <td>세종특별자치시</td>\n",
       "      <td>NaN</td>\n",
       "    </tr>\n",
       "    <tr>\n",
       "      <th>175494</th>\n",
       "      <td>충남7느6122</td>\n",
       "      <td>3611000000</td>\n",
       "      <td>KN3JAP3V2RK050949</td>\n",
       "      <td>10017400130004</td>\n",
       "      <td>NaN</td>\n",
       "      <td>5</td>\n",
       "      <td>트레이드와이드로우</td>\n",
       "      <td>화물</td>\n",
       "      <td>경유</td>\n",
       "      <td>3455.00</td>\n",
       "      <td>NaN</td>\n",
       "      <td>NaN</td>\n",
       "      <td>NaN</td>\n",
       "      <td>세종특별자치시</td>\n",
       "      <td>NaN</td>\n",
       "    </tr>\n",
       "    <tr>\n",
       "      <th>177384</th>\n",
       "      <td>충남7느6069</td>\n",
       "      <td>3611000000</td>\n",
       "      <td>KMFFE17XPRU091722</td>\n",
       "      <td>10015500530002</td>\n",
       "      <td>NaN</td>\n",
       "      <td>5</td>\n",
       "      <td>포터더블캡</td>\n",
       "      <td>화물</td>\n",
       "      <td>경유</td>\n",
       "      <td>2476.00</td>\n",
       "      <td>NaN</td>\n",
       "      <td>NaN</td>\n",
       "      <td>NaN</td>\n",
       "      <td>세종특별자치시</td>\n",
       "      <td>NaN</td>\n",
       "    </tr>\n",
       "    <tr>\n",
       "      <th>179570</th>\n",
       "      <td>충남7르2885</td>\n",
       "      <td>3611000000</td>\n",
       "      <td>KNVBB1M15RC001476</td>\n",
       "      <td>10011400950006</td>\n",
       "      <td>NaN</td>\n",
       "      <td>5</td>\n",
       "      <td>세레스4륜구동덤프</td>\n",
       "      <td>화물</td>\n",
       "      <td>경유</td>\n",
       "      <td>2209.00</td>\n",
       "      <td>NaN</td>\n",
       "      <td>NaN</td>\n",
       "      <td>NaN</td>\n",
       "      <td>세종특별자치시</td>\n",
       "      <td>NaN</td>\n",
       "    </tr>\n",
       "    <tr>\n",
       "      <th>707813</th>\n",
       "      <td>80다2041</td>\n",
       "      <td>3611000000</td>\n",
       "      <td>KMFZCS7HP4U040967</td>\n",
       "      <td>A0810006200153103</td>\n",
       "      <td>3MY-HD-14</td>\n",
       "      <td>5</td>\n",
       "      <td>포터Ⅱ(PORTERⅡ)</td>\n",
       "      <td>화물</td>\n",
       "      <td>경유</td>\n",
       "      <td>2476.00</td>\n",
       "      <td>NaN</td>\n",
       "      <td>NaN</td>\n",
       "      <td>NaN</td>\n",
       "      <td>세종특별자치시</td>\n",
       "      <td>NaN</td>\n",
       "    </tr>\n",
       "  </tbody>\n",
       "</table>\n",
       "</div>"
      ],
      "text/plain": [
       "           차량등록번호    본거지법정동코드               차대번호             제원관리번호  \\\n",
       "5650     서울3마3085  4100000000        10742255732     30110100001154   \n",
       "6873     충남1가3137  3611000000        03811301965     10002200050000   \n",
       "6965     충남7나5383  3611000000        03802116969     10010400000000   \n",
       "9268     충남5가3143  3611000000        08821110131     10000700680000   \n",
       "19969    충남5가7295  3611000000  KNHA392F2FS058005     10011400150003   \n",
       "23989    충남7가4367  3611000000        03831258812     30110100001405   \n",
       "28269    충남7가9676  3611000000  KNEAF29F2ES042742     10011400070000   \n",
       "28327    충남5가6008  3611000000  KNEAF92F2ES042743     10011400070000   \n",
       "28617    충남1허5019  3611000000  KMHPA11CPGU257191     10004800100000   \n",
       "29961    충남7가5506  3611000000  KNCA192F1ES066264     10011400000006   \n",
       "59863    충남7나4372  3611000000  KN3LAP1C1HK073057     10000600710000   \n",
       "95124    충남7느5410  3611000000  KNCSC9332LS463530     10018600010004   \n",
       "129234  충남83노4051  3611000000  KMFFA17XPNU207722     10015500320001   \n",
       "159016  충남83노6764  3611000000  KMFFE17XPPU025470     10015500530000   \n",
       "162079  충남37마2067  3611000000  KNHTP7362PS720420     10015000440002   \n",
       "162485   충남7모7576  3611000000  KMFFA17XPPU049182     10015500510000   \n",
       "164320  충남81더1582  3611000000  KMFMA17HPPU014885     10024400190002   \n",
       "175494   충남7느6122  3611000000  KN3JAP3V2RK050949     10017400130004   \n",
       "177384   충남7느6069  3611000000  KMFFE17XPRU091722     10015500530002   \n",
       "179570   충남7르2885  3611000000  KNVBB1M15RC001476     10011400950006   \n",
       "707813    80다2041  3611000000  KMFZCS7HP4U040967  A0810006200153103   \n",
       "\n",
       "         배출가스인증번호 배출가스등급             차명 차종_제원정보           연료     배기량  \\\n",
       "5650          NaN      5           뉴코티나      승용          휘발유 1597.00   \n",
       "6873          NaN      5           로얄디젤      승용           경유 1998.00   \n",
       "6965          NaN      5       새한1.4톤카고      화물           경유 2775.00   \n",
       "9268          NaN      5      아시아마이크로버스      승합           경유 2977.00   \n",
       "19969         NaN      5           봉고코치      승합           경유 2209.00   \n",
       "23989         NaN      5     슈퍼타이탄디젤14척      화물           경유 2977.00   \n",
       "28269         NaN      5          봉고구급차      승합           경유 2209.00   \n",
       "28327         NaN      5          봉고구급차      승합           경유 2209.00   \n",
       "28617         NaN      5    포니2-1400LPG      승용  LPG(액화석유가스) 1439.00   \n",
       "29961         NaN      5           봉고1톤      화물           경유 2209.00   \n",
       "59863         NaN      5           복사17      화물           경유 4052.00   \n",
       "95124         NaN      5        와이드봉고킹캡      화물           경유 2367.00   \n",
       "129234        NaN      5             포터      화물           경유 2476.00   \n",
       "159016        NaN      5          포터더블캡      화물           경유 2476.00   \n",
       "162079        NaN      5           베스타9      승합           경유 2662.00   \n",
       "162485        NaN      5             포터      화물           경유 2476.00   \n",
       "164320        NaN      5  현대4.5톤카고트럭-장축      화물           경유 7545.00   \n",
       "175494        NaN      5      트레이드와이드로우      화물           경유 3455.00   \n",
       "177384        NaN      5          포터더블캡      화물           경유 2476.00   \n",
       "179570        NaN      5      세레스4륜구동덤프      화물           경유 2209.00   \n",
       "707813  3MY-HD-14      5   포터Ⅱ(PORTERⅡ)      화물           경유 2476.00   \n",
       "\n",
       "       조기폐차최종승인YN 저감장치  연간주행거리       시도  시구군  \n",
       "5650          NaN  NaN     NaN      경기도  NaN  \n",
       "6873          NaN  NaN     NaN  세종특별자치시  NaN  \n",
       "6965          NaN  NaN     NaN  세종특별자치시  NaN  \n",
       "9268          NaN  NaN     NaN  세종특별자치시  NaN  \n",
       "19969         NaN  NaN     NaN  세종특별자치시  NaN  \n",
       "23989         NaN  NaN     NaN  세종특별자치시  NaN  \n",
       "28269         NaN  NaN     NaN  세종특별자치시  NaN  \n",
       "28327         NaN  NaN     NaN  세종특별자치시  NaN  \n",
       "28617         NaN  NaN     NaN  세종특별자치시  NaN  \n",
       "29961         NaN  NaN     NaN  세종특별자치시  NaN  \n",
       "59863         NaN  NaN     NaN  세종특별자치시  NaN  \n",
       "95124         NaN  NaN     NaN  세종특별자치시  NaN  \n",
       "129234        NaN  NaN     NaN  세종특별자치시  NaN  \n",
       "159016        NaN  NaN     NaN  세종특별자치시  NaN  \n",
       "162079        NaN  NaN     NaN  세종특별자치시  NaN  \n",
       "162485        NaN  NaN     NaN  세종특별자치시  NaN  \n",
       "164320        NaN  NaN     NaN  세종특별자치시  NaN  \n",
       "175494        NaN  NaN     NaN  세종특별자치시  NaN  \n",
       "177384        NaN  NaN     NaN  세종특별자치시  NaN  \n",
       "179570        NaN  NaN     NaN  세종특별자치시  NaN  \n",
       "707813        NaN  NaN     NaN  세종특별자치시  NaN  "
      ]
     },
     "execution_count": 207,
     "metadata": {},
     "output_type": "execute_result"
    }
   ],
   "source": [
    "gm5.loc[gm5['시구군'].isnull() == True]"
   ]
  },
  {
   "cell_type": "code",
   "execution_count": 208,
   "metadata": {},
   "outputs": [
    {
     "data": {
      "text/plain": [
       "100     수성구\n",
       "101     마포구\n",
       "102    영등포구\n",
       "103     상주시\n",
       "104    남양주시\n",
       "105      동구\n",
       "Name: 시군구명_수정, dtype: object"
      ]
     },
     "execution_count": 208,
     "metadata": {},
     "output_type": "execute_result"
    }
   ],
   "source": [
    "gm4.loc[100:105, '시군구명_수정']"
   ]
  },
  {
   "cell_type": "code",
   "execution_count": 295,
   "metadata": {},
   "outputs": [
    {
     "data": {
      "text/plain": [
       "100    완주군\n",
       "101    강남구\n",
       "102     진구\n",
       "103    성남시\n",
       "104    창원시\n",
       "105    김제시\n",
       "Name: 시구군, dtype: object"
      ]
     },
     "execution_count": 295,
     "metadata": {},
     "output_type": "execute_result"
    }
   ],
   "source": [
    "# gm4['시구군'] = gm4['시구군'].str.split(' ').str[0]\n",
    "# gm4.loc[100:105, '시구군']"
   ]
  },
  {
   "cell_type": "code",
   "execution_count": 209,
   "metadata": {},
   "outputs": [],
   "source": [
    "gm5['시구군'] = gm5['시구군'].str.split(' ').str[0]"
   ]
  },
  {
   "attachments": {},
   "cell_type": "markdown",
   "metadata": {},
   "source": [
    "### 주행거리 수정\n",
    "- 오류 확인\n",
    "    - nan\n",
    "    - 음수, 0"
   ]
  },
  {
   "cell_type": "code",
   "execution_count": 210,
   "metadata": {},
   "outputs": [
    {
     "data": {
      "text/plain": [
       "146183"
      ]
     },
     "execution_count": 210,
     "metadata": {},
     "output_type": "execute_result"
    }
   ],
   "source": [
    "gm4['연간주행거리'].isnull().sum()"
   ]
  },
  {
   "cell_type": "code",
   "execution_count": 211,
   "metadata": {},
   "outputs": [
    {
     "data": {
      "text/plain": [
       "0"
      ]
     },
     "execution_count": 211,
     "metadata": {},
     "output_type": "execute_result"
    }
   ],
   "source": [
    "gm4['연간주행거리'] = gm4['연간주행거리'].fillna(0)\n",
    "gm4['연간주행거리'].isnull().sum()"
   ]
  },
  {
   "cell_type": "code",
   "execution_count": 212,
   "metadata": {},
   "outputs": [
    {
     "data": {
      "text/plain": [
       "521690"
      ]
     },
     "execution_count": 212,
     "metadata": {},
     "output_type": "execute_result"
    }
   ],
   "source": [
    "gm5['연간주행거리'].isnull().sum()"
   ]
  },
  {
   "cell_type": "code",
   "execution_count": 213,
   "metadata": {},
   "outputs": [
    {
     "data": {
      "text/plain": [
       "0"
      ]
     },
     "execution_count": 213,
     "metadata": {},
     "output_type": "execute_result"
    }
   ],
   "source": [
    "gm5['연간주행거리'] = gm5['연간주행거리'].fillna(0)\n",
    "gm5['연간주행거리'].isnull().sum()"
   ]
  },
  {
   "cell_type": "code",
   "execution_count": 214,
   "metadata": {},
   "outputs": [
    {
     "data": {
      "text/plain": [
       "(196450, 43)"
      ]
     },
     "execution_count": 214,
     "metadata": {},
     "output_type": "execute_result"
    }
   ],
   "source": [
    "gm4.loc[gm4['연간주행거리'] <= 0].shape"
   ]
  },
  {
   "cell_type": "code",
   "execution_count": 215,
   "metadata": {},
   "outputs": [
    {
     "data": {
      "text/plain": [
       "(579325, 15)"
      ]
     },
     "execution_count": 215,
     "metadata": {},
     "output_type": "execute_result"
    }
   ],
   "source": [
    "gm5.loc[gm5['연간주행거리'] <= 0].shape"
   ]
  },
  {
   "cell_type": "code",
   "execution_count": 216,
   "metadata": {},
   "outputs": [
    {
     "data": {
      "text/plain": [
       "Index(['차대번호', '차량번호', '제원관리번호', '차종', '용도', '최초등록일', '연식', '제작일자', '검사유효일',\n",
       "       '배출가스인증번호', '등급', '차명', '차종분류', '차종유형', '자동차형식', '제작사명', '연료', '엔진형식',\n",
       "       '총중량', '적재중량', '엔진출력', '배기량', '법정동코드', '시도명', '시군구명', '소유자구분', '말소여부',\n",
       "       '일치유무', '인증번호 수정 유무', '배인번호_수정', '등급_수정', 'DPF유무_수정', '배출가스', '등급2',\n",
       "       'DPF', '비고', 'Grade', '차령', '시군구명_수정', '1일평균주행거리', '조기폐차최종승인YN', '저감장치',\n",
       "       '연간주행거리'],\n",
       "      dtype='object')"
      ]
     },
     "execution_count": 216,
     "metadata": {},
     "output_type": "execute_result"
    }
   ],
   "source": [
    "gm4.columns"
   ]
  },
  {
   "cell_type": "code",
   "execution_count": 217,
   "metadata": {},
   "outputs": [
    {
     "data": {
      "text/plain": [
       "Index(['차량등록번호', '본거지법정동코드', '차대번호', '제원관리번호', '배출가스인증번호', '배출가스등급', '차명',\n",
       "       '차종_제원정보', '연료', '배기량', '조기폐차최종승인YN', '저감장치', '연간주행거리', '시도', '시구군'],\n",
       "      dtype='object')"
      ]
     },
     "execution_count": 217,
     "metadata": {},
     "output_type": "execute_result"
    }
   ],
   "source": [
    "gm5.columns"
   ]
  },
  {
   "cell_type": "code",
   "execution_count": 218,
   "metadata": {},
   "outputs": [],
   "source": [
    "# gm4 = gm4.rename(columns={'차종_제원정보':'차종'})\n",
    "gm5 = gm5.rename(columns={'차종_제원정보':'차종'})"
   ]
  },
  {
   "cell_type": "code",
   "execution_count": 219,
   "metadata": {},
   "outputs": [
    {
     "data": {
      "text/plain": [
       "Index(['차량등록번호', '본거지법정동코드', '차대번호', '제원관리번호', '배출가스인증번호', '배출가스등급', '차명',\n",
       "       '차종', '연료', '배기량', '조기폐차최종승인YN', '저감장치', '연간주행거리', '시도', '시구군'],\n",
       "      dtype='object')"
      ]
     },
     "execution_count": 219,
     "metadata": {},
     "output_type": "execute_result"
    }
   ],
   "source": [
    "gm5.columns"
   ]
  },
  {
   "attachments": {},
   "cell_type": "markdown",
   "metadata": {},
   "source": [
    "#### 주행거리 오류 데이터프레임 분리"
   ]
  },
  {
   "cell_type": "code",
   "execution_count": 220,
   "metadata": {},
   "outputs": [
    {
     "data": {
      "text/plain": [
       "((952839, 43), (196450, 43))"
      ]
     },
     "execution_count": 220,
     "metadata": {},
     "output_type": "execute_result"
    }
   ],
   "source": [
    "gm4y = gm4.loc[gm4['연간주행거리'] > 0].reset_index(drop=True)\n",
    "gm4n = gm4.loc[gm4['연간주행거리'] <= 0].reset_index(drop=True)\n",
    "gm4y.shape, gm4n.shape"
   ]
  },
  {
   "cell_type": "code",
   "execution_count": 221,
   "metadata": {},
   "outputs": [
    {
     "data": {
      "text/plain": [
       "((575670, 15), (579325, 15))"
      ]
     },
     "execution_count": 221,
     "metadata": {},
     "output_type": "execute_result"
    }
   ],
   "source": [
    "gm5y = gm5.loc[gm5['연간주행거리'] > 0].reset_index(drop=True)\n",
    "gm5n = gm5.loc[gm5['연간주행거리'] <= 0].reset_index(drop=True)\n",
    "gm5y.shape, gm5n.shape"
   ]
  },
  {
   "attachments": {},
   "cell_type": "markdown",
   "metadata": {},
   "source": [
    "#### KOSIS 데이터로 수정"
   ]
  },
  {
   "cell_type": "code",
   "execution_count": 222,
   "metadata": {},
   "outputs": [
    {
     "name": "stdout",
     "output_type": "stream",
     "text": [
      "<class 'pandas.core.frame.DataFrame'>\n",
      "RangeIndex: 1230 entries, 0 to 1229\n",
      "Data columns (total 4 columns):\n",
      " #   Column  Non-Null Count  Dtype  \n",
      "---  ------  --------------  -----  \n",
      " 0   시도명     1230 non-null   object \n",
      " 1   시군구명    1230 non-null   object \n",
      " 2   차종      1230 non-null   object \n",
      " 3   전체      1230 non-null   float64\n",
      "dtypes: float64(1), object(3)\n",
      "memory usage: 38.6+ KB\n"
     ]
    }
   ],
   "source": [
    "# about 0.2s\n",
    "name = '용도별_차종별_시군구별_자동차1일평균주행거리(2021)'\n",
    "file_name = f'{name}.xlsx'\n",
    "kos = pd.read_excel(os.path.join(ods_fold, file_name))\n",
    "kos.info()"
   ]
  },
  {
   "cell_type": "code",
   "execution_count": 223,
   "metadata": {},
   "outputs": [
    {
     "data": {
      "text/html": [
       "<div>\n",
       "<style scoped>\n",
       "    .dataframe tbody tr th:only-of-type {\n",
       "        vertical-align: middle;\n",
       "    }\n",
       "\n",
       "    .dataframe tbody tr th {\n",
       "        vertical-align: top;\n",
       "    }\n",
       "\n",
       "    .dataframe thead th {\n",
       "        text-align: right;\n",
       "    }\n",
       "</style>\n",
       "<table border=\"1\" class=\"dataframe\">\n",
       "  <thead>\n",
       "    <tr style=\"text-align: right;\">\n",
       "      <th></th>\n",
       "      <th>시도</th>\n",
       "      <th>시구군</th>\n",
       "      <th>차종</th>\n",
       "      <th>1일평균주행거리</th>\n",
       "    </tr>\n",
       "  </thead>\n",
       "  <tbody>\n",
       "    <tr>\n",
       "      <th>0</th>\n",
       "      <td>서울특별시</td>\n",
       "      <td>소계</td>\n",
       "      <td>합계</td>\n",
       "      <td>36.60</td>\n",
       "    </tr>\n",
       "    <tr>\n",
       "      <th>1</th>\n",
       "      <td>서울특별시</td>\n",
       "      <td>소계</td>\n",
       "      <td>승용</td>\n",
       "      <td>33.90</td>\n",
       "    </tr>\n",
       "    <tr>\n",
       "      <th>2</th>\n",
       "      <td>서울특별시</td>\n",
       "      <td>소계</td>\n",
       "      <td>승합</td>\n",
       "      <td>48.30</td>\n",
       "    </tr>\n",
       "    <tr>\n",
       "      <th>3</th>\n",
       "      <td>서울특별시</td>\n",
       "      <td>소계</td>\n",
       "      <td>화물</td>\n",
       "      <td>54.40</td>\n",
       "    </tr>\n",
       "    <tr>\n",
       "      <th>4</th>\n",
       "      <td>서울특별시</td>\n",
       "      <td>소계</td>\n",
       "      <td>특수</td>\n",
       "      <td>49.30</td>\n",
       "    </tr>\n",
       "  </tbody>\n",
       "</table>\n",
       "</div>"
      ],
      "text/plain": [
       "      시도 시구군  차종  1일평균주행거리\n",
       "0  서울특별시  소계  합계     36.60\n",
       "1  서울특별시  소계  승용     33.90\n",
       "2  서울특별시  소계  승합     48.30\n",
       "3  서울특별시  소계  화물     54.40\n",
       "4  서울특별시  소계  특수     49.30"
      ]
     },
     "execution_count": 223,
     "metadata": {},
     "output_type": "execute_result"
    }
   ],
   "source": [
    "kos = kos.rename(columns={'시도명':'시도', '시군구명':'시구군', '전체':'1일평균주행거리'})\n",
    "kos.head()"
   ]
  },
  {
   "cell_type": "code",
   "execution_count": 224,
   "metadata": {},
   "outputs": [
    {
     "data": {
      "text/html": [
       "<div>\n",
       "<style scoped>\n",
       "    .dataframe tbody tr th:only-of-type {\n",
       "        vertical-align: middle;\n",
       "    }\n",
       "\n",
       "    .dataframe tbody tr th {\n",
       "        vertical-align: top;\n",
       "    }\n",
       "\n",
       "    .dataframe thead th {\n",
       "        text-align: right;\n",
       "    }\n",
       "</style>\n",
       "<table border=\"1\" class=\"dataframe\">\n",
       "  <thead>\n",
       "    <tr style=\"text-align: right;\">\n",
       "      <th></th>\n",
       "      <th>시도</th>\n",
       "      <th>시구군</th>\n",
       "      <th>차종</th>\n",
       "      <th>1일평균주행거리</th>\n",
       "    </tr>\n",
       "  </thead>\n",
       "  <tbody>\n",
       "    <tr>\n",
       "      <th>0</th>\n",
       "      <td>서울특별시</td>\n",
       "      <td>NaN</td>\n",
       "      <td>합계</td>\n",
       "      <td>36.60</td>\n",
       "    </tr>\n",
       "    <tr>\n",
       "      <th>1</th>\n",
       "      <td>서울특별시</td>\n",
       "      <td>NaN</td>\n",
       "      <td>승용</td>\n",
       "      <td>33.90</td>\n",
       "    </tr>\n",
       "    <tr>\n",
       "      <th>2</th>\n",
       "      <td>서울특별시</td>\n",
       "      <td>NaN</td>\n",
       "      <td>승합</td>\n",
       "      <td>48.30</td>\n",
       "    </tr>\n",
       "    <tr>\n",
       "      <th>3</th>\n",
       "      <td>서울특별시</td>\n",
       "      <td>NaN</td>\n",
       "      <td>화물</td>\n",
       "      <td>54.40</td>\n",
       "    </tr>\n",
       "    <tr>\n",
       "      <th>4</th>\n",
       "      <td>서울특별시</td>\n",
       "      <td>NaN</td>\n",
       "      <td>특수</td>\n",
       "      <td>49.30</td>\n",
       "    </tr>\n",
       "  </tbody>\n",
       "</table>\n",
       "</div>"
      ],
      "text/plain": [
       "      시도  시구군  차종  1일평균주행거리\n",
       "0  서울특별시  NaN  합계     36.60\n",
       "1  서울특별시  NaN  승용     33.90\n",
       "2  서울특별시  NaN  승합     48.30\n",
       "3  서울특별시  NaN  화물     54.40\n",
       "4  서울특별시  NaN  특수     49.30"
      ]
     },
     "execution_count": 224,
     "metadata": {},
     "output_type": "execute_result"
    }
   ],
   "source": [
    "kos.loc[kos['시구군'] == '소계', '시구군'] = np.nan\n",
    "kos.head()"
   ]
  },
  {
   "cell_type": "code",
   "execution_count": 225,
   "metadata": {},
   "outputs": [
    {
     "data": {
      "text/html": [
       "<div>\n",
       "<style scoped>\n",
       "    .dataframe tbody tr th:only-of-type {\n",
       "        vertical-align: middle;\n",
       "    }\n",
       "\n",
       "    .dataframe tbody tr th {\n",
       "        vertical-align: top;\n",
       "    }\n",
       "\n",
       "    .dataframe thead th {\n",
       "        text-align: right;\n",
       "    }\n",
       "</style>\n",
       "<table border=\"1\" class=\"dataframe\">\n",
       "  <thead>\n",
       "    <tr style=\"text-align: right;\">\n",
       "      <th></th>\n",
       "      <th>시도</th>\n",
       "      <th>시구군</th>\n",
       "      <th>차종</th>\n",
       "      <th>1일평균주행거리</th>\n",
       "    </tr>\n",
       "  </thead>\n",
       "  <tbody>\n",
       "    <tr>\n",
       "      <th>1225</th>\n",
       "      <td>제주특별자치도</td>\n",
       "      <td>서귀포시</td>\n",
       "      <td>합계</td>\n",
       "      <td>35.10</td>\n",
       "    </tr>\n",
       "    <tr>\n",
       "      <th>1226</th>\n",
       "      <td>제주특별자치도</td>\n",
       "      <td>서귀포시</td>\n",
       "      <td>승용</td>\n",
       "      <td>36.10</td>\n",
       "    </tr>\n",
       "    <tr>\n",
       "      <th>1227</th>\n",
       "      <td>제주특별자치도</td>\n",
       "      <td>서귀포시</td>\n",
       "      <td>승합</td>\n",
       "      <td>37.20</td>\n",
       "    </tr>\n",
       "    <tr>\n",
       "      <th>1228</th>\n",
       "      <td>제주특별자치도</td>\n",
       "      <td>서귀포시</td>\n",
       "      <td>화물</td>\n",
       "      <td>32.50</td>\n",
       "    </tr>\n",
       "    <tr>\n",
       "      <th>1229</th>\n",
       "      <td>제주특별자치도</td>\n",
       "      <td>서귀포시</td>\n",
       "      <td>특수</td>\n",
       "      <td>38.40</td>\n",
       "    </tr>\n",
       "  </tbody>\n",
       "</table>\n",
       "</div>"
      ],
      "text/plain": [
       "           시도   시구군  차종  1일평균주행거리\n",
       "1225  제주특별자치도  서귀포시  합계     35.10\n",
       "1226  제주특별자치도  서귀포시  승용     36.10\n",
       "1227  제주특별자치도  서귀포시  승합     37.20\n",
       "1228  제주특별자치도  서귀포시  화물     32.50\n",
       "1229  제주특별자치도  서귀포시  특수     38.40"
      ]
     },
     "execution_count": 225,
     "metadata": {},
     "output_type": "execute_result"
    }
   ],
   "source": [
    "kos.tail()"
   ]
  },
  {
   "cell_type": "code",
   "execution_count": 226,
   "metadata": {},
   "outputs": [
    {
     "data": {
      "text/plain": [
       "(196450, 43)"
      ]
     },
     "execution_count": 226,
     "metadata": {},
     "output_type": "execute_result"
    }
   ],
   "source": [
    "gm4n.shape"
   ]
  },
  {
   "cell_type": "code",
   "execution_count": 227,
   "metadata": {},
   "outputs": [
    {
     "data": {
      "text/plain": [
       "array(['승용', '특수', '승합', '화물'], dtype=object)"
      ]
     },
     "execution_count": 227,
     "metadata": {},
     "output_type": "execute_result"
    }
   ],
   "source": [
    "gm4n['차종'].unique()"
   ]
  },
  {
   "cell_type": "code",
   "execution_count": 228,
   "metadata": {},
   "outputs": [
    {
     "data": {
      "text/plain": [
       "0"
      ]
     },
     "execution_count": 228,
     "metadata": {},
     "output_type": "execute_result"
    }
   ],
   "source": [
    "gm4n['1일평균주행거리'].isnull().sum()"
   ]
  },
  {
   "cell_type": "code",
   "execution_count": 230,
   "metadata": {},
   "outputs": [],
   "source": [
    "# 연간주행거리가 kosis 1일평균주행거리 * 365\n",
    "gm4n['연간주행거리'] = gm4n['1일평균주행거리'] * 365"
   ]
  },
  {
   "cell_type": "code",
   "execution_count": 231,
   "metadata": {},
   "outputs": [],
   "source": [
    "# gm4n = gm4n.merge(kos, on=['시도', '시구군', '차종'], how='left')\n",
    "# gm4n.shape"
   ]
  },
  {
   "cell_type": "code",
   "execution_count": 232,
   "metadata": {},
   "outputs": [
    {
     "data": {
      "text/plain": [
       "Index(['차대번호', '차량번호', '제원관리번호', '차종', '용도', '최초등록일', '연식', '제작일자', '검사유효일',\n",
       "       '배출가스인증번호', '등급', '차명', '차종분류', '차종유형', '자동차형식', '제작사명', '연료', '엔진형식',\n",
       "       '총중량', '적재중량', '엔진출력', '배기량', '법정동코드', '시도명', '시군구명', '소유자구분', '말소여부',\n",
       "       '일치유무', '인증번호 수정 유무', '배인번호_수정', '등급_수정', 'DPF유무_수정', '배출가스', '등급2',\n",
       "       'DPF', '비고', 'Grade', '차령', '시군구명_수정', '1일평균주행거리', '조기폐차최종승인YN', '저감장치',\n",
       "       '연간주행거리'],\n",
       "      dtype='object')"
      ]
     },
     "execution_count": 232,
     "metadata": {},
     "output_type": "execute_result"
    }
   ],
   "source": [
    "gm4n.columns"
   ]
  },
  {
   "cell_type": "code",
   "execution_count": 319,
   "metadata": {},
   "outputs": [
    {
     "data": {
      "text/html": [
       "<div>\n",
       "<style scoped>\n",
       "    .dataframe tbody tr th:only-of-type {\n",
       "        vertical-align: middle;\n",
       "    }\n",
       "\n",
       "    .dataframe tbody tr th {\n",
       "        vertical-align: top;\n",
       "    }\n",
       "\n",
       "    .dataframe thead th {\n",
       "        text-align: right;\n",
       "    }\n",
       "</style>\n",
       "<table border=\"1\" class=\"dataframe\">\n",
       "  <thead>\n",
       "    <tr style=\"text-align: right;\">\n",
       "      <th></th>\n",
       "      <th>시도</th>\n",
       "      <th>시구군</th>\n",
       "    </tr>\n",
       "  </thead>\n",
       "  <tbody>\n",
       "    <tr>\n",
       "      <th>17</th>\n",
       "      <td>부산광역시</td>\n",
       "      <td>진구</td>\n",
       "    </tr>\n",
       "    <tr>\n",
       "      <th>102</th>\n",
       "      <td>부산광역시</td>\n",
       "      <td>진구</td>\n",
       "    </tr>\n",
       "    <tr>\n",
       "      <th>119</th>\n",
       "      <td>부산광역시</td>\n",
       "      <td>진구</td>\n",
       "    </tr>\n",
       "    <tr>\n",
       "      <th>161</th>\n",
       "      <td>부산광역시</td>\n",
       "      <td>진구</td>\n",
       "    </tr>\n",
       "    <tr>\n",
       "      <th>211</th>\n",
       "      <td>세종특별자치시</td>\n",
       "      <td>연기면</td>\n",
       "    </tr>\n",
       "  </tbody>\n",
       "</table>\n",
       "</div>"
      ],
      "text/plain": [
       "          시도  시구군\n",
       "17     부산광역시   진구\n",
       "102    부산광역시   진구\n",
       "119    부산광역시   진구\n",
       "161    부산광역시   진구\n",
       "211  세종특별자치시  연기면"
      ]
     },
     "execution_count": 319,
     "metadata": {},
     "output_type": "execute_result"
    }
   ],
   "source": [
    "# gm4n.loc[gm4n['1일평균주행거리'].isnull() == True, '시도']"
   ]
  },
  {
   "cell_type": "code",
   "execution_count": 331,
   "metadata": {},
   "outputs": [
    {
     "data": {
      "text/plain": [
       "39.7"
      ]
     },
     "execution_count": 331,
     "metadata": {},
     "output_type": "execute_result"
    }
   ],
   "source": [
    "# kos.loc[(kos['시도'] == '부산광역시') & (kos['차종'] == '합계'), '1일평균주행거리'].values[0]"
   ]
  },
  {
   "cell_type": "code",
   "execution_count": 332,
   "metadata": {},
   "outputs": [],
   "source": [
    "# # about 3m 28.7s\n",
    "# for one, two in gm4n.loc[gm4n['1일평균주행거리'].isnull() == True, ['시도', '차종']].values:\n",
    "#     gm4n.loc[(gm4n['1일평균주행거리'].isnull() == True) & (gm4n['시도'] == one) & (gm4n['차종'] == two), '1일평균주행거리'] = kos.loc[(kos['시도'] == one) & (kos['차종'] == two), '1일평균주행거리'].values[0]"
   ]
  },
  {
   "cell_type": "code",
   "execution_count": 333,
   "metadata": {},
   "outputs": [
    {
     "data": {
      "text/plain": [
       "0"
      ]
     },
     "execution_count": 333,
     "metadata": {},
     "output_type": "execute_result"
    }
   ],
   "source": [
    "# gm4n['1일평균주행거리'].isnull().sum()"
   ]
  },
  {
   "cell_type": "code",
   "execution_count": 233,
   "metadata": {},
   "outputs": [
    {
     "data": {
      "text/plain": [
       "(579325, 15)"
      ]
     },
     "execution_count": 233,
     "metadata": {},
     "output_type": "execute_result"
    }
   ],
   "source": [
    "gm5n.shape"
   ]
  },
  {
   "cell_type": "code",
   "execution_count": 234,
   "metadata": {},
   "outputs": [
    {
     "data": {
      "text/plain": [
       "(579325, 16)"
      ]
     },
     "execution_count": 234,
     "metadata": {},
     "output_type": "execute_result"
    }
   ],
   "source": [
    "gm5n = gm5n.merge(kos, on=['시도', '시구군', '차종'], how='left')\n",
    "gm5n.shape"
   ]
  },
  {
   "cell_type": "code",
   "execution_count": 235,
   "metadata": {},
   "outputs": [
    {
     "data": {
      "text/plain": [
       "4648"
      ]
     },
     "execution_count": 235,
     "metadata": {},
     "output_type": "execute_result"
    }
   ],
   "source": [
    "gm5n['1일평균주행거리'].isnull().sum()"
   ]
  },
  {
   "cell_type": "code",
   "execution_count": 236,
   "metadata": {},
   "outputs": [],
   "source": [
    "# about 5m 1.9s\n",
    "for one, two in gm5n.loc[gm5n['1일평균주행거리'].isnull() == True, ['시도', '차종']].values:\n",
    "    gm5n.loc[(gm5n['1일평균주행거리'].isnull() == True) & (gm5n['시도'] == one) & (gm5n['차종'] == two), '1일평균주행거리'] = kos.loc[(kos['시도'] == one) & (kos['차종'] == two), '1일평균주행거리'].values[0]"
   ]
  },
  {
   "cell_type": "code",
   "execution_count": 237,
   "metadata": {},
   "outputs": [
    {
     "data": {
      "text/plain": [
       "0"
      ]
     },
     "execution_count": 237,
     "metadata": {},
     "output_type": "execute_result"
    }
   ],
   "source": [
    "gm5n['1일평균주행거리'].isnull().sum()"
   ]
  },
  {
   "cell_type": "code",
   "execution_count": 238,
   "metadata": {},
   "outputs": [
    {
     "data": {
      "text/plain": [
       "((1149289, 43), (1154995, 16))"
      ]
     },
     "execution_count": 238,
     "metadata": {},
     "output_type": "execute_result"
    }
   ],
   "source": [
    "gm4 = pd.concat([gm4y, gm4n], ignore_index=True)\n",
    "gm5 = pd.concat([gm5y, gm5n], ignore_index=True)\n",
    "gm4.shape, gm5.shape"
   ]
  },
  {
   "cell_type": "code",
   "execution_count": 239,
   "metadata": {},
   "outputs": [
    {
     "data": {
      "text/plain": [
       "(0, 575670)"
      ]
     },
     "execution_count": 239,
     "metadata": {},
     "output_type": "execute_result"
    }
   ],
   "source": [
    "gm4['1일평균주행거리'].isnull().sum(), gm5['1일평균주행거리'].isnull().sum()"
   ]
  },
  {
   "cell_type": "code",
   "execution_count": 240,
   "metadata": {},
   "outputs": [
    {
     "data": {
      "text/plain": [
       "(0, 43)"
      ]
     },
     "execution_count": 240,
     "metadata": {},
     "output_type": "execute_result"
    }
   ],
   "source": [
    "gm4.loc[gm4['연간주행거리'] <= 0].shape"
   ]
  },
  {
   "cell_type": "code",
   "execution_count": 241,
   "metadata": {},
   "outputs": [
    {
     "data": {
      "text/plain": [
       "(579325, 16)"
      ]
     },
     "execution_count": 241,
     "metadata": {},
     "output_type": "execute_result"
    }
   ],
   "source": [
    "gm5.loc[gm5['연간주행거리'] <= 0].shape"
   ]
  },
  {
   "cell_type": "code",
   "execution_count": 245,
   "metadata": {},
   "outputs": [
    {
     "data": {
      "text/plain": [
       "575670"
      ]
     },
     "execution_count": 245,
     "metadata": {},
     "output_type": "execute_result"
    }
   ],
   "source": [
    "gm5['1일평균주행거리'].isnull().sum()"
   ]
  },
  {
   "cell_type": "code",
   "execution_count": 242,
   "metadata": {},
   "outputs": [
    {
     "data": {
      "text/plain": [
       "Index(['차대번호', '차량번호', '제원관리번호', '차종', '용도', '최초등록일', '연식', '제작일자', '검사유효일',\n",
       "       '배출가스인증번호', '등급', '차명', '차종분류', '차종유형', '자동차형식', '제작사명', '연료', '엔진형식',\n",
       "       '총중량', '적재중량', '엔진출력', '배기량', '법정동코드', '시도명', '시군구명', '소유자구분', '말소여부',\n",
       "       '일치유무', '인증번호 수정 유무', '배인번호_수정', '등급_수정', 'DPF유무_수정', '배출가스', '등급2',\n",
       "       'DPF', '비고', 'Grade', '차령', '시군구명_수정', '1일평균주행거리', '조기폐차최종승인YN', '저감장치',\n",
       "       '연간주행거리'],\n",
       "      dtype='object')"
      ]
     },
     "execution_count": 242,
     "metadata": {},
     "output_type": "execute_result"
    }
   ],
   "source": [
    "gm4.columns"
   ]
  },
  {
   "cell_type": "code",
   "execution_count": 246,
   "metadata": {},
   "outputs": [],
   "source": [
    "# gm4.loc[gm4['1일평균주행거리'].isnull() == False, '연간주행거리'] = gm4.loc[gm4['1일평균주행거리'].isnull() == False, '1일평균주행거리'] * 365\n",
    "gm5.loc[gm5['1일평균주행거리'].isnull() == False, '연간주행거리'] = gm5.loc[gm5['1일평균주행거리'].isnull() == False, '1일평균주행거리'] * 365"
   ]
  },
  {
   "cell_type": "code",
   "execution_count": 247,
   "metadata": {},
   "outputs": [
    {
     "data": {
      "text/plain": [
       "((0, 43), (0, 16))"
      ]
     },
     "execution_count": 247,
     "metadata": {},
     "output_type": "execute_result"
    }
   ],
   "source": [
    "gm4.loc[gm4['연간주행거리'] <= 0].shape, gm5.loc[gm5['연간주행거리'] <= 0].shape"
   ]
  },
  {
   "cell_type": "code",
   "execution_count": 248,
   "metadata": {},
   "outputs": [
    {
     "data": {
      "text/plain": [
       "Index(['차대번호', '차량번호', '제원관리번호', '차종', '용도', '최초등록일', '연식', '제작일자', '검사유효일',\n",
       "       '배출가스인증번호', '등급', '차명', '차종분류', '차종유형', '자동차형식', '제작사명', '연료', '엔진형식',\n",
       "       '총중량', '적재중량', '엔진출력', '배기량', '법정동코드', '시도명', '시군구명', '소유자구분', '말소여부',\n",
       "       '일치유무', '인증번호 수정 유무', '배인번호_수정', '등급_수정', 'DPF유무_수정', '배출가스', '등급2',\n",
       "       'DPF', '비고', 'Grade', '차령', '시군구명_수정', '1일평균주행거리', '조기폐차최종승인YN', '저감장치',\n",
       "       '연간주행거리'],\n",
       "      dtype='object')"
      ]
     },
     "execution_count": 248,
     "metadata": {},
     "output_type": "execute_result"
    }
   ],
   "source": [
    "gm4.columns"
   ]
  },
  {
   "cell_type": "code",
   "execution_count": 250,
   "metadata": {},
   "outputs": [
    {
     "data": {
      "text/plain": [
       "Index(['차량등록번호', '본거지법정동코드', '차대번호', '제원관리번호', '배출가스인증번호', '배출가스등급', '차명',\n",
       "       '차종', '연료', '배기량', '조기폐차최종승인YN', '저감장치', '연간주행거리', '시도', '시구군',\n",
       "       '1일평균주행거리'],\n",
       "      dtype='object')"
      ]
     },
     "execution_count": 250,
     "metadata": {},
     "output_type": "execute_result"
    }
   ],
   "source": [
    "gm5.columns"
   ]
  },
  {
   "cell_type": "code",
   "execution_count": 350,
   "metadata": {},
   "outputs": [],
   "source": [
    "# gm4 = gm4.drop('1일평균주행거리', axis=1)\n",
    "# gm5 = gm5.drop('1일평균주행거리', axis=1)"
   ]
  },
  {
   "cell_type": "code",
   "execution_count": 251,
   "metadata": {},
   "outputs": [
    {
     "data": {
      "text/plain": [
       "((1149289, 43), (1154995, 16))"
      ]
     },
     "execution_count": 251,
     "metadata": {},
     "output_type": "execute_result"
    }
   ],
   "source": [
    "gm4.shape, gm5.shape"
   ]
  },
  {
   "attachments": {},
   "cell_type": "markdown",
   "metadata": {},
   "source": [
    "## 매연 값 수정"
   ]
  },
  {
   "cell_type": "code",
   "execution_count": 253,
   "metadata": {},
   "outputs": [
    {
     "data": {
      "text/plain": [
       "NaN    1149289\n",
       "Name: 조기폐차최종승인YN, dtype: int64"
      ]
     },
     "execution_count": 253,
     "metadata": {},
     "output_type": "execute_result"
    }
   ],
   "source": [
    "gm4['조기폐차최종승인YN'].value_counts(dropna=False)"
   ]
  },
  {
   "cell_type": "code",
   "execution_count": 254,
   "metadata": {},
   "outputs": [
    {
     "data": {
      "text/plain": [
       "(1149289, 43)"
      ]
     },
     "execution_count": 254,
     "metadata": {},
     "output_type": "execute_result"
    }
   ],
   "source": [
    "gm4.shape"
   ]
  },
  {
   "cell_type": "code",
   "execution_count": 255,
   "metadata": {},
   "outputs": [
    {
     "data": {
      "text/plain": [
       "(1149289, 53)"
      ]
     },
     "execution_count": 255,
     "metadata": {},
     "output_type": "execute_result"
    }
   ],
   "source": [
    "# about 30.7s\n",
    "gm4 = gm4.merge(insm, on='차대번호', how='left')\n",
    "gm4.shape"
   ]
  },
  {
   "attachments": {},
   "cell_type": "markdown",
   "metadata": {},
   "source": [
    "#### 4등급 출력"
   ]
  },
  {
   "cell_type": "code",
   "execution_count": 256,
   "metadata": {},
   "outputs": [],
   "source": [
    "# about 16.0s\n",
    "gm4.to_csv(os.path.join(ods_fold, 'BD3_3_저공해조치_우선차량선별_4등급.csv'), index=False)"
   ]
  },
  {
   "cell_type": "code",
   "execution_count": 257,
   "metadata": {},
   "outputs": [
    {
     "data": {
      "text/plain": [
       "NaN    1141253\n",
       "Y        13742\n",
       "Name: 조기폐차최종승인YN, dtype: int64"
      ]
     },
     "execution_count": 257,
     "metadata": {},
     "output_type": "execute_result"
    }
   ],
   "source": [
    "gm5['조기폐차최종승인YN'].value_counts(dropna=False)"
   ]
  },
  {
   "cell_type": "code",
   "execution_count": 258,
   "metadata": {},
   "outputs": [
    {
     "data": {
      "text/plain": [
       "NaN           1011871\n",
       "DPF            141328\n",
       "PM-NOx저감장치       1796\n",
       "Name: 저감장치, dtype: int64"
      ]
     },
     "execution_count": 258,
     "metadata": {},
     "output_type": "execute_result"
    }
   ],
   "source": [
    "gm5['저감장치'].value_counts(dropna=False)"
   ]
  },
  {
   "cell_type": "code",
   "execution_count": 259,
   "metadata": {},
   "outputs": [
    {
     "data": {
      "text/plain": [
       "(1154995, 16)"
      ]
     },
     "execution_count": 259,
     "metadata": {},
     "output_type": "execute_result"
    }
   ],
   "source": [
    "gm5.shape"
   ]
  },
  {
   "cell_type": "code",
   "execution_count": 260,
   "metadata": {},
   "outputs": [
    {
     "data": {
      "text/plain": [
       "(1154995, 26)"
      ]
     },
     "execution_count": 260,
     "metadata": {},
     "output_type": "execute_result"
    }
   ],
   "source": [
    "# about \n",
    "gm5 = gm5.merge(insm, on='차대번호', how='left')\n",
    "gm5.shape"
   ]
  },
  {
   "attachments": {},
   "cell_type": "markdown",
   "metadata": {},
   "source": [
    "#### 5등급 출력"
   ]
  },
  {
   "cell_type": "code",
   "execution_count": 261,
   "metadata": {},
   "outputs": [],
   "source": [
    "# about 12.1s\n",
    "gm5.to_csv(os.path.join(ods_fold, 'BD3_3_저공해조치_우선차량선별_5등급.csv'), index=False)"
   ]
  },
  {
   "attachments": {},
   "cell_type": "markdown",
   "metadata": {},
   "source": [
    "### [로드] 파일"
   ]
  },
  {
   "cell_type": "code",
   "execution_count": 39,
   "metadata": {},
   "outputs": [
    {
     "name": "stderr",
     "output_type": "stream",
     "text": [
      "C:\\Users\\kbjung\\AppData\\Local\\Temp\\ipykernel_10984\\1804474587.py:2: DtypeWarning: Columns (3,5,11) have mixed types. Specify dtype option on import or set low_memory=False.\n",
      "  gm4 = pd.read_csv(os.path.join(ods_fold, 'BD3_3_저공해조치_우선차량선별_4등급.csv'))\n"
     ]
    },
    {
     "name": "stdout",
     "output_type": "stream",
     "text": [
      "<class 'pandas.core.frame.DataFrame'>\n",
      "RangeIndex: 1511251 entries, 0 to 1511250\n",
      "Data columns (total 25 columns):\n",
      " #   Column      Non-Null Count    Dtype  \n",
      "---  ------      --------------    -----  \n",
      " 0   차량등록번호      1511251 non-null  object \n",
      " 1   본거지법정동코드    1511251 non-null  int64  \n",
      " 2   차대번호        1511251 non-null  object \n",
      " 3   제원관리번호      1511251 non-null  object \n",
      " 4   배출가스인증번호    1387530 non-null  object \n",
      " 5   배출가스등급      1511251 non-null  object \n",
      " 6   차명          1511251 non-null  object \n",
      " 7   차종          1511251 non-null  object \n",
      " 8   연료          1511251 non-null  object \n",
      " 9   배기량         1511240 non-null  float64\n",
      " 10  조기폐차최종승인YN  0 non-null        float64\n",
      " 11  저감장치        34 non-null       object \n",
      " 12  연간주행거리      1511251 non-null  float64\n",
      " 13  시도          1511251 non-null  object \n",
      " 14  시구군         1511246 non-null  object \n",
      " 15  검사일자        1184811 non-null  float64\n",
      " 16  검사방법        1184811 non-null  object \n",
      " 17  검사종류        1184811 non-null  object \n",
      " 18  검사판정        1184811 non-null  object \n",
      " 19  무부하매연판정1    1174701 non-null  object \n",
      " 20  무부하매연판정2    105259 non-null   object \n",
      " 21  무부하매연판정3    104339 non-null   object \n",
      " 22  무부하매연측정치1   1174706 non-null  float64\n",
      " 23  무부하매연측정치2   424010 non-null   float64\n",
      " 24  무부하매연측정치3   389275 non-null   float64\n",
      "dtypes: float64(7), int64(1), object(17)\n",
      "memory usage: 288.2+ MB\n"
     ]
    }
   ],
   "source": [
    "# # about 9.2s\n",
    "# gm4 = pd.read_csv(os.path.join(ods_fold, 'BD3_3_저공해조치_우선차량선별_4등급.csv'))\n",
    "# gm4.info()"
   ]
  },
  {
   "cell_type": "code",
   "execution_count": 40,
   "metadata": {},
   "outputs": [
    {
     "name": "stderr",
     "output_type": "stream",
     "text": [
      "C:\\Users\\kbjung\\AppData\\Local\\Temp\\ipykernel_10984\\3959831406.py:2: DtypeWarning: Columns (3,5,10) have mixed types. Specify dtype option on import or set low_memory=False.\n",
      "  gm5 = pd.read_csv(os.path.join(ods_fold, 'BD3_3_저공해조치_우선차량선별_5등급.csv'))\n"
     ]
    },
    {
     "name": "stdout",
     "output_type": "stream",
     "text": [
      "<class 'pandas.core.frame.DataFrame'>\n",
      "RangeIndex: 1154995 entries, 0 to 1154994\n",
      "Data columns (total 25 columns):\n",
      " #   Column      Non-Null Count    Dtype  \n",
      "---  ------      --------------    -----  \n",
      " 0   차량등록번호      1154995 non-null  object \n",
      " 1   본거지법정동코드    1154995 non-null  int64  \n",
      " 2   차대번호        1154995 non-null  object \n",
      " 3   제원관리번호      1154995 non-null  object \n",
      " 4   배출가스인증번호    543012 non-null   object \n",
      " 5   배출가스등급      1154995 non-null  object \n",
      " 6   차명          1154994 non-null  object \n",
      " 7   차종          1154995 non-null  object \n",
      " 8   연료          1154995 non-null  object \n",
      " 9   배기량         1154993 non-null  float64\n",
      " 10  조기폐차최종승인YN  13742 non-null    object \n",
      " 11  저감장치        143124 non-null   object \n",
      " 12  연간주행거리      1154995 non-null  float64\n",
      " 13  시도          1154995 non-null  object \n",
      " 14  시구군         1154974 non-null  object \n",
      " 15  검사일자        712900 non-null   float64\n",
      " 16  검사방법        712900 non-null   object \n",
      " 17  검사종류        712900 non-null   object \n",
      " 18  검사판정        712900 non-null   object \n",
      " 19  무부하매연판정1    706637 non-null   object \n",
      " 20  무부하매연판정2    108971 non-null   object \n",
      " 21  무부하매연판정3    108639 non-null   object \n",
      " 22  무부하매연측정치1   706647 non-null   float64\n",
      " 23  무부하매연측정치2   237401 non-null   float64\n",
      " 24  무부하매연측정치3   217911 non-null   float64\n",
      "dtypes: float64(6), int64(1), object(18)\n",
      "memory usage: 220.3+ MB\n"
     ]
    }
   ],
   "source": [
    "# # about 7.0s\n",
    "# gm5 = pd.read_csv(os.path.join(ods_fold, 'BD3_3_저공해조치_우선차량선별_5등급.csv'))\n",
    "# gm5.info()"
   ]
  },
  {
   "attachments": {},
   "cell_type": "markdown",
   "metadata": {},
   "source": [
    "#### 배번별 통계"
   ]
  },
  {
   "cell_type": "code",
   "execution_count": 262,
   "metadata": {},
   "outputs": [],
   "source": [
    "def flat_cols(df):\n",
    "    df.columns = ['/'.join(x) for x in df.columns.to_flat_index()]\n",
    "    return df"
   ]
  },
  {
   "cell_type": "code",
   "execution_count": 263,
   "metadata": {},
   "outputs": [
    {
     "data": {
      "text/plain": [
       "Index(['차대번호', '차량번호', '제원관리번호', '차종', '용도', '최초등록일', '연식', '제작일자', '검사유효일',\n",
       "       '배출가스인증번호', '등급', '차명', '차종분류', '차종유형', '자동차형식', '제작사명', '연료', '엔진형식',\n",
       "       '총중량', '적재중량', '엔진출력', '배기량', '법정동코드', '시도명', '시군구명', '소유자구분', '말소여부',\n",
       "       '일치유무', '인증번호 수정 유무', '배인번호_수정', '등급_수정', 'DPF유무_수정', '배출가스', '등급2',\n",
       "       'DPF', '비고', 'Grade', '차령', '시군구명_수정', '1일평균주행거리', '조기폐차최종승인YN', '저감장치',\n",
       "       '연간주행거리', '검사일자', '검사방법', '검사종류', '검사판정', '무부하매연판정1', '무부하매연판정2',\n",
       "       '무부하매연판정3', '무부하매연측정치1', '무부하매연측정치2', '무부하매연측정치3'],\n",
       "      dtype='object')"
      ]
     },
     "execution_count": 263,
     "metadata": {},
     "output_type": "execute_result"
    }
   ],
   "source": [
    "gm4.columns"
   ]
  },
  {
   "cell_type": "code",
   "execution_count": 264,
   "metadata": {},
   "outputs": [
    {
     "data": {
      "text/html": [
       "<div>\n",
       "<style scoped>\n",
       "    .dataframe tbody tr th:only-of-type {\n",
       "        vertical-align: middle;\n",
       "    }\n",
       "\n",
       "    .dataframe tbody tr th {\n",
       "        vertical-align: top;\n",
       "    }\n",
       "\n",
       "    .dataframe thead th {\n",
       "        text-align: right;\n",
       "    }\n",
       "</style>\n",
       "<table border=\"1\" class=\"dataframe\">\n",
       "  <thead>\n",
       "    <tr style=\"text-align: right;\">\n",
       "      <th></th>\n",
       "      <th>연료</th>\n",
       "      <th>배출가스인증번호</th>\n",
       "      <th>검사종류</th>\n",
       "      <th>검사방법</th>\n",
       "      <th>검사판정</th>\n",
       "      <th>차대번호/count</th>\n",
       "      <th>무부하매연측정치1/mean</th>\n",
       "      <th>무부하매연측정치1/min</th>\n",
       "      <th>무부하매연측정치1/max</th>\n",
       "      <th>무부하매연측정치2/mean</th>\n",
       "      <th>무부하매연측정치2/min</th>\n",
       "      <th>무부하매연측정치2/max</th>\n",
       "      <th>무부하매연측정치3/mean</th>\n",
       "      <th>무부하매연측정치3/min</th>\n",
       "      <th>무부하매연측정치3/max</th>\n",
       "    </tr>\n",
       "  </thead>\n",
       "  <tbody>\n",
       "    <tr>\n",
       "      <th>0</th>\n",
       "      <td>경유</td>\n",
       "      <td>4MY-AD-20</td>\n",
       "      <td>재검사(1부재검사)</td>\n",
       "      <td>무부하검사(급가속)</td>\n",
       "      <td>Y</td>\n",
       "      <td>1</td>\n",
       "      <td>0.00</td>\n",
       "      <td>0.00</td>\n",
       "      <td>0.00</td>\n",
       "      <td>NaN</td>\n",
       "      <td>NaN</td>\n",
       "      <td>NaN</td>\n",
       "      <td>NaN</td>\n",
       "      <td>NaN</td>\n",
       "      <td>NaN</td>\n",
       "    </tr>\n",
       "    <tr>\n",
       "      <th>1</th>\n",
       "      <td>경유</td>\n",
       "      <td>4MY-AD-20</td>\n",
       "      <td>재검사(2부재검사)</td>\n",
       "      <td>무부하검사(급가속)</td>\n",
       "      <td>Y</td>\n",
       "      <td>1</td>\n",
       "      <td>19.00</td>\n",
       "      <td>19.00</td>\n",
       "      <td>19.00</td>\n",
       "      <td>NaN</td>\n",
       "      <td>NaN</td>\n",
       "      <td>NaN</td>\n",
       "      <td>NaN</td>\n",
       "      <td>NaN</td>\n",
       "      <td>NaN</td>\n",
       "    </tr>\n",
       "    <tr>\n",
       "      <th>2</th>\n",
       "      <td>경유</td>\n",
       "      <td>4MY-AD-20</td>\n",
       "      <td>정기(경과)검사</td>\n",
       "      <td>무부하검사(급가속)</td>\n",
       "      <td>Y</td>\n",
       "      <td>2</td>\n",
       "      <td>6.00</td>\n",
       "      <td>0.00</td>\n",
       "      <td>12.00</td>\n",
       "      <td>NaN</td>\n",
       "      <td>NaN</td>\n",
       "      <td>NaN</td>\n",
       "      <td>NaN</td>\n",
       "      <td>NaN</td>\n",
       "      <td>NaN</td>\n",
       "    </tr>\n",
       "    <tr>\n",
       "      <th>3</th>\n",
       "      <td>경유</td>\n",
       "      <td>4MY-AD-20</td>\n",
       "      <td>정기검사</td>\n",
       "      <td>무부하검사(급가속)</td>\n",
       "      <td>Y</td>\n",
       "      <td>2</td>\n",
       "      <td>23.00</td>\n",
       "      <td>20.00</td>\n",
       "      <td>26.00</td>\n",
       "      <td>NaN</td>\n",
       "      <td>NaN</td>\n",
       "      <td>NaN</td>\n",
       "      <td>NaN</td>\n",
       "      <td>NaN</td>\n",
       "      <td>NaN</td>\n",
       "    </tr>\n",
       "    <tr>\n",
       "      <th>4</th>\n",
       "      <td>경유</td>\n",
       "      <td>4MY-AD-20</td>\n",
       "      <td>종합검사</td>\n",
       "      <td>무부하검사(급가속)</td>\n",
       "      <td>N</td>\n",
       "      <td>1</td>\n",
       "      <td>51.00</td>\n",
       "      <td>51.00</td>\n",
       "      <td>51.00</td>\n",
       "      <td>3883.00</td>\n",
       "      <td>3883.00</td>\n",
       "      <td>3883.00</td>\n",
       "      <td>NaN</td>\n",
       "      <td>NaN</td>\n",
       "      <td>NaN</td>\n",
       "    </tr>\n",
       "    <tr>\n",
       "      <th>...</th>\n",
       "      <td>...</td>\n",
       "      <td>...</td>\n",
       "      <td>...</td>\n",
       "      <td>...</td>\n",
       "      <td>...</td>\n",
       "      <td>...</td>\n",
       "      <td>...</td>\n",
       "      <td>...</td>\n",
       "      <td>...</td>\n",
       "      <td>...</td>\n",
       "      <td>...</td>\n",
       "      <td>...</td>\n",
       "      <td>...</td>\n",
       "      <td>...</td>\n",
       "      <td>...</td>\n",
       "    </tr>\n",
       "    <tr>\n",
       "      <th>1797</th>\n",
       "      <td>경유</td>\n",
       "      <td>C135</td>\n",
       "      <td>재검사(1부재검사)</td>\n",
       "      <td>무부하검사(급가속)</td>\n",
       "      <td>Y</td>\n",
       "      <td>1</td>\n",
       "      <td>0.00</td>\n",
       "      <td>0.00</td>\n",
       "      <td>0.00</td>\n",
       "      <td>NaN</td>\n",
       "      <td>NaN</td>\n",
       "      <td>NaN</td>\n",
       "      <td>NaN</td>\n",
       "      <td>NaN</td>\n",
       "      <td>NaN</td>\n",
       "    </tr>\n",
       "    <tr>\n",
       "      <th>1798</th>\n",
       "      <td>경유</td>\n",
       "      <td>C135</td>\n",
       "      <td>정기검사</td>\n",
       "      <td>무부하검사(급가속)</td>\n",
       "      <td>N</td>\n",
       "      <td>2</td>\n",
       "      <td>29.50</td>\n",
       "      <td>0.00</td>\n",
       "      <td>59.00</td>\n",
       "      <td>NaN</td>\n",
       "      <td>NaN</td>\n",
       "      <td>NaN</td>\n",
       "      <td>NaN</td>\n",
       "      <td>NaN</td>\n",
       "      <td>NaN</td>\n",
       "    </tr>\n",
       "    <tr>\n",
       "      <th>1799</th>\n",
       "      <td>경유</td>\n",
       "      <td>C135</td>\n",
       "      <td>종합검사</td>\n",
       "      <td>부하검사(KD-147)</td>\n",
       "      <td>Y</td>\n",
       "      <td>1</td>\n",
       "      <td>1.00</td>\n",
       "      <td>1.00</td>\n",
       "      <td>1.00</td>\n",
       "      <td>NaN</td>\n",
       "      <td>NaN</td>\n",
       "      <td>NaN</td>\n",
       "      <td>NaN</td>\n",
       "      <td>NaN</td>\n",
       "      <td>NaN</td>\n",
       "    </tr>\n",
       "    <tr>\n",
       "      <th>1800</th>\n",
       "      <td>경유</td>\n",
       "      <td>C135</td>\n",
       "      <td>종합검사(경과)</td>\n",
       "      <td>부하검사(KD-147)</td>\n",
       "      <td>Y</td>\n",
       "      <td>1</td>\n",
       "      <td>10.00</td>\n",
       "      <td>10.00</td>\n",
       "      <td>10.00</td>\n",
       "      <td>0.00</td>\n",
       "      <td>0.00</td>\n",
       "      <td>0.00</td>\n",
       "      <td>0.00</td>\n",
       "      <td>0.00</td>\n",
       "      <td>0.00</td>\n",
       "    </tr>\n",
       "    <tr>\n",
       "      <th>1801</th>\n",
       "      <td>경유</td>\n",
       "      <td>FMY-VTK-14-1</td>\n",
       "      <td>정기(경과)검사</td>\n",
       "      <td>무부하검사(급가속)</td>\n",
       "      <td>Y</td>\n",
       "      <td>1</td>\n",
       "      <td>4.00</td>\n",
       "      <td>4.00</td>\n",
       "      <td>4.00</td>\n",
       "      <td>NaN</td>\n",
       "      <td>NaN</td>\n",
       "      <td>NaN</td>\n",
       "      <td>NaN</td>\n",
       "      <td>NaN</td>\n",
       "      <td>NaN</td>\n",
       "    </tr>\n",
       "  </tbody>\n",
       "</table>\n",
       "<p>1802 rows × 15 columns</p>\n",
       "</div>"
      ],
      "text/plain": [
       "      연료      배출가스인증번호        검사종류          검사방법 검사판정  차대번호/count  \\\n",
       "0     경유     4MY-AD-20  재검사(1부재검사)    무부하검사(급가속)    Y           1   \n",
       "1     경유     4MY-AD-20  재검사(2부재검사)    무부하검사(급가속)    Y           1   \n",
       "2     경유     4MY-AD-20    정기(경과)검사    무부하검사(급가속)    Y           2   \n",
       "3     경유     4MY-AD-20        정기검사    무부하검사(급가속)    Y           2   \n",
       "4     경유     4MY-AD-20        종합검사    무부하검사(급가속)    N           1   \n",
       "...   ..           ...         ...           ...  ...         ...   \n",
       "1797  경유          C135  재검사(1부재검사)    무부하검사(급가속)    Y           1   \n",
       "1798  경유          C135        정기검사    무부하검사(급가속)    N           2   \n",
       "1799  경유          C135        종합검사  부하검사(KD-147)    Y           1   \n",
       "1800  경유          C135    종합검사(경과)  부하검사(KD-147)    Y           1   \n",
       "1801  경유  FMY-VTK-14-1    정기(경과)검사    무부하검사(급가속)    Y           1   \n",
       "\n",
       "      무부하매연측정치1/mean  무부하매연측정치1/min  무부하매연측정치1/max  무부하매연측정치2/mean  \\\n",
       "0               0.00           0.00           0.00             NaN   \n",
       "1              19.00          19.00          19.00             NaN   \n",
       "2               6.00           0.00          12.00             NaN   \n",
       "3              23.00          20.00          26.00             NaN   \n",
       "4              51.00          51.00          51.00         3883.00   \n",
       "...              ...            ...            ...             ...   \n",
       "1797            0.00           0.00           0.00             NaN   \n",
       "1798           29.50           0.00          59.00             NaN   \n",
       "1799            1.00           1.00           1.00             NaN   \n",
       "1800           10.00          10.00          10.00            0.00   \n",
       "1801            4.00           4.00           4.00             NaN   \n",
       "\n",
       "      무부하매연측정치2/min  무부하매연측정치2/max  무부하매연측정치3/mean  무부하매연측정치3/min  \\\n",
       "0               NaN            NaN             NaN            NaN   \n",
       "1               NaN            NaN             NaN            NaN   \n",
       "2               NaN            NaN             NaN            NaN   \n",
       "3               NaN            NaN             NaN            NaN   \n",
       "4           3883.00        3883.00             NaN            NaN   \n",
       "...             ...            ...             ...            ...   \n",
       "1797            NaN            NaN             NaN            NaN   \n",
       "1798            NaN            NaN             NaN            NaN   \n",
       "1799            NaN            NaN             NaN            NaN   \n",
       "1800           0.00           0.00            0.00           0.00   \n",
       "1801            NaN            NaN             NaN            NaN   \n",
       "\n",
       "      무부하매연측정치3/max  \n",
       "0               NaN  \n",
       "1               NaN  \n",
       "2               NaN  \n",
       "3               NaN  \n",
       "4               NaN  \n",
       "...             ...  \n",
       "1797            NaN  \n",
       "1798            NaN  \n",
       "1799            NaN  \n",
       "1800           0.00  \n",
       "1801            NaN  \n",
       "\n",
       "[1802 rows x 15 columns]"
      ]
     },
     "execution_count": 264,
     "metadata": {},
     "output_type": "execute_result"
    }
   ],
   "source": [
    "emis_stat_g4 = gm4.groupby(['연료', '배출가스인증번호', '검사종류', '검사방법', '검사판정'], as_index=False).agg({'차대번호':'count', '무부하매연측정치1':['mean', 'min', 'max'], '무부하매연측정치2':['mean', 'min', 'max'], '무부하매연측정치3':['mean', 'min', 'max']}).pipe(flat_cols)\n",
    "emis_stat_g4 = emis_stat_g4.rename(columns={'연료/':'연료', '배출가스인증번호/':'배출가스인증번호', '검사종류/':'검사종류', '검사방법/':'검사방법', '검사판정/':'검사판정'})\n",
    "emis_stat_g4"
   ]
  },
  {
   "cell_type": "code",
   "execution_count": 265,
   "metadata": {},
   "outputs": [
    {
     "data": {
      "text/plain": [
       "Index(['연료', '배출가스인증번호', '검사종류', '검사방법', '검사판정', '차대번호/count',\n",
       "       '무부하매연측정치1/mean', '무부하매연측정치1/min', '무부하매연측정치1/max', '무부하매연측정치2/mean',\n",
       "       '무부하매연측정치2/min', '무부하매연측정치2/max', '무부하매연측정치3/mean', '무부하매연측정치3/min',\n",
       "       '무부하매연측정치3/max'],\n",
       "      dtype='object')"
      ]
     },
     "execution_count": 265,
     "metadata": {},
     "output_type": "execute_result"
    }
   ],
   "source": [
    "emis_stat_g4.columns"
   ]
  },
  {
   "cell_type": "code",
   "execution_count": 266,
   "metadata": {},
   "outputs": [],
   "source": [
    "# 출력\n",
    "# about 0.6s\n",
    "emis_stat_g4.to_excel(os.path.join(analysis_fold, '통계_4등급_연료_배번별_매연.xlsx'), index=False)"
   ]
  },
  {
   "cell_type": "code",
   "execution_count": 267,
   "metadata": {},
   "outputs": [
    {
     "data": {
      "text/html": [
       "<div>\n",
       "<style scoped>\n",
       "    .dataframe tbody tr th:only-of-type {\n",
       "        vertical-align: middle;\n",
       "    }\n",
       "\n",
       "    .dataframe tbody tr th {\n",
       "        vertical-align: top;\n",
       "    }\n",
       "\n",
       "    .dataframe thead th {\n",
       "        text-align: right;\n",
       "    }\n",
       "</style>\n",
       "<table border=\"1\" class=\"dataframe\">\n",
       "  <thead>\n",
       "    <tr style=\"text-align: right;\">\n",
       "      <th></th>\n",
       "      <th>연료</th>\n",
       "      <th>배출가스인증번호</th>\n",
       "      <th>검사종류</th>\n",
       "      <th>검사방법</th>\n",
       "      <th>검사판정</th>\n",
       "      <th>차대번호/count</th>\n",
       "      <th>무부하매연측정치1/mean</th>\n",
       "      <th>무부하매연측정치1/min</th>\n",
       "      <th>무부하매연측정치1/max</th>\n",
       "      <th>무부하매연측정치2/mean</th>\n",
       "      <th>무부하매연측정치2/min</th>\n",
       "      <th>무부하매연측정치2/max</th>\n",
       "      <th>무부하매연측정치3/mean</th>\n",
       "      <th>무부하매연측정치3/min</th>\n",
       "      <th>무부하매연측정치3/max</th>\n",
       "    </tr>\n",
       "  </thead>\n",
       "  <tbody>\n",
       "    <tr>\n",
       "      <th>0</th>\n",
       "      <td>경유</td>\n",
       "      <td>1MY-HD-52</td>\n",
       "      <td>재검사(2부재검사)</td>\n",
       "      <td>무부하검사(급가속)</td>\n",
       "      <td>Y</td>\n",
       "      <td>1</td>\n",
       "      <td>0.00</td>\n",
       "      <td>0.00</td>\n",
       "      <td>0.00</td>\n",
       "      <td>NaN</td>\n",
       "      <td>NaN</td>\n",
       "      <td>NaN</td>\n",
       "      <td>NaN</td>\n",
       "      <td>NaN</td>\n",
       "      <td>NaN</td>\n",
       "    </tr>\n",
       "    <tr>\n",
       "      <th>1</th>\n",
       "      <td>경유</td>\n",
       "      <td>1MY-HD-52</td>\n",
       "      <td>정기(경과)검사</td>\n",
       "      <td>무부하검사(급가속)</td>\n",
       "      <td>N</td>\n",
       "      <td>1</td>\n",
       "      <td>0.00</td>\n",
       "      <td>0.00</td>\n",
       "      <td>0.00</td>\n",
       "      <td>NaN</td>\n",
       "      <td>NaN</td>\n",
       "      <td>NaN</td>\n",
       "      <td>NaN</td>\n",
       "      <td>NaN</td>\n",
       "      <td>NaN</td>\n",
       "    </tr>\n",
       "    <tr>\n",
       "      <th>2</th>\n",
       "      <td>경유</td>\n",
       "      <td>1MY-HD-52</td>\n",
       "      <td>정기검사</td>\n",
       "      <td>무부하검사(급가속)</td>\n",
       "      <td>Y</td>\n",
       "      <td>7</td>\n",
       "      <td>4.43</td>\n",
       "      <td>0.00</td>\n",
       "      <td>26.00</td>\n",
       "      <td>NaN</td>\n",
       "      <td>NaN</td>\n",
       "      <td>NaN</td>\n",
       "      <td>NaN</td>\n",
       "      <td>NaN</td>\n",
       "      <td>NaN</td>\n",
       "    </tr>\n",
       "    <tr>\n",
       "      <th>3</th>\n",
       "      <td>경유</td>\n",
       "      <td>1MY-HD-52</td>\n",
       "      <td>종합검사</td>\n",
       "      <td>부하검사(LUG DOWN)</td>\n",
       "      <td>N</td>\n",
       "      <td>1</td>\n",
       "      <td>26.00</td>\n",
       "      <td>26.00</td>\n",
       "      <td>26.00</td>\n",
       "      <td>14.00</td>\n",
       "      <td>14.00</td>\n",
       "      <td>14.00</td>\n",
       "      <td>10.00</td>\n",
       "      <td>10.00</td>\n",
       "      <td>10.00</td>\n",
       "    </tr>\n",
       "    <tr>\n",
       "      <th>4</th>\n",
       "      <td>경유</td>\n",
       "      <td>1MY-HD-52</td>\n",
       "      <td>종합검사</td>\n",
       "      <td>부하검사(LUG DOWN)</td>\n",
       "      <td>Y</td>\n",
       "      <td>26</td>\n",
       "      <td>7.35</td>\n",
       "      <td>0.00</td>\n",
       "      <td>18.00</td>\n",
       "      <td>3.27</td>\n",
       "      <td>0.00</td>\n",
       "      <td>13.00</td>\n",
       "      <td>2.35</td>\n",
       "      <td>0.00</td>\n",
       "      <td>14.00</td>\n",
       "    </tr>\n",
       "    <tr>\n",
       "      <th>...</th>\n",
       "      <td>...</td>\n",
       "      <td>...</td>\n",
       "      <td>...</td>\n",
       "      <td>...</td>\n",
       "      <td>...</td>\n",
       "      <td>...</td>\n",
       "      <td>...</td>\n",
       "      <td>...</td>\n",
       "      <td>...</td>\n",
       "      <td>...</td>\n",
       "      <td>...</td>\n",
       "      <td>...</td>\n",
       "      <td>...</td>\n",
       "      <td>...</td>\n",
       "      <td>...</td>\n",
       "    </tr>\n",
       "    <tr>\n",
       "      <th>1582</th>\n",
       "      <td>경유</td>\n",
       "      <td>YMY-SK-02</td>\n",
       "      <td>종합검사</td>\n",
       "      <td>부하검사(LUG DOWN)</td>\n",
       "      <td>N</td>\n",
       "      <td>27</td>\n",
       "      <td>28.89</td>\n",
       "      <td>6.00</td>\n",
       "      <td>81.00</td>\n",
       "      <td>27.74</td>\n",
       "      <td>3.00</td>\n",
       "      <td>73.00</td>\n",
       "      <td>24.04</td>\n",
       "      <td>0.00</td>\n",
       "      <td>58.00</td>\n",
       "    </tr>\n",
       "    <tr>\n",
       "      <th>1583</th>\n",
       "      <td>경유</td>\n",
       "      <td>YMY-SK-02</td>\n",
       "      <td>종합검사</td>\n",
       "      <td>부하검사(LUG DOWN)</td>\n",
       "      <td>Y</td>\n",
       "      <td>406</td>\n",
       "      <td>9.06</td>\n",
       "      <td>0.00</td>\n",
       "      <td>20.00</td>\n",
       "      <td>7.25</td>\n",
       "      <td>0.00</td>\n",
       "      <td>20.00</td>\n",
       "      <td>6.84</td>\n",
       "      <td>0.00</td>\n",
       "      <td>22.00</td>\n",
       "    </tr>\n",
       "    <tr>\n",
       "      <th>1584</th>\n",
       "      <td>경유</td>\n",
       "      <td>YMY-SK-02</td>\n",
       "      <td>종합검사(경과)</td>\n",
       "      <td>부하검사(LUG DOWN)</td>\n",
       "      <td>N</td>\n",
       "      <td>1</td>\n",
       "      <td>NaN</td>\n",
       "      <td>NaN</td>\n",
       "      <td>NaN</td>\n",
       "      <td>NaN</td>\n",
       "      <td>NaN</td>\n",
       "      <td>NaN</td>\n",
       "      <td>NaN</td>\n",
       "      <td>NaN</td>\n",
       "      <td>NaN</td>\n",
       "    </tr>\n",
       "    <tr>\n",
       "      <th>1585</th>\n",
       "      <td>경유</td>\n",
       "      <td>YMY-SK-02</td>\n",
       "      <td>종합검사(경과)</td>\n",
       "      <td>부하검사(LUG DOWN)</td>\n",
       "      <td>Y</td>\n",
       "      <td>22</td>\n",
       "      <td>8.91</td>\n",
       "      <td>0.00</td>\n",
       "      <td>19.00</td>\n",
       "      <td>8.45</td>\n",
       "      <td>0.00</td>\n",
       "      <td>20.00</td>\n",
       "      <td>7.05</td>\n",
       "      <td>1.00</td>\n",
       "      <td>17.00</td>\n",
       "    </tr>\n",
       "    <tr>\n",
       "      <th>1586</th>\n",
       "      <td>휘발유</td>\n",
       "      <td>9MY-PPE-14-597</td>\n",
       "      <td>종합검사</td>\n",
       "      <td>무부하검사(TSI)</td>\n",
       "      <td>Y</td>\n",
       "      <td>1</td>\n",
       "      <td>0.00</td>\n",
       "      <td>0.00</td>\n",
       "      <td>0.00</td>\n",
       "      <td>21.00</td>\n",
       "      <td>21.00</td>\n",
       "      <td>21.00</td>\n",
       "      <td>1.00</td>\n",
       "      <td>1.00</td>\n",
       "      <td>1.00</td>\n",
       "    </tr>\n",
       "  </tbody>\n",
       "</table>\n",
       "<p>1587 rows × 15 columns</p>\n",
       "</div>"
      ],
      "text/plain": [
       "       연료        배출가스인증번호        검사종류            검사방법 검사판정  차대번호/count  \\\n",
       "0      경유       1MY-HD-52  재검사(2부재검사)      무부하검사(급가속)    Y           1   \n",
       "1      경유       1MY-HD-52    정기(경과)검사      무부하검사(급가속)    N           1   \n",
       "2      경유       1MY-HD-52        정기검사      무부하검사(급가속)    Y           7   \n",
       "3      경유       1MY-HD-52        종합검사  부하검사(LUG DOWN)    N           1   \n",
       "4      경유       1MY-HD-52        종합검사  부하검사(LUG DOWN)    Y          26   \n",
       "...   ...             ...         ...             ...  ...         ...   \n",
       "1582   경유       YMY-SK-02        종합검사  부하검사(LUG DOWN)    N          27   \n",
       "1583   경유       YMY-SK-02        종합검사  부하검사(LUG DOWN)    Y         406   \n",
       "1584   경유       YMY-SK-02    종합검사(경과)  부하검사(LUG DOWN)    N           1   \n",
       "1585   경유       YMY-SK-02    종합검사(경과)  부하검사(LUG DOWN)    Y          22   \n",
       "1586  휘발유  9MY-PPE-14-597        종합검사      무부하검사(TSI)    Y           1   \n",
       "\n",
       "      무부하매연측정치1/mean  무부하매연측정치1/min  무부하매연측정치1/max  무부하매연측정치2/mean  \\\n",
       "0               0.00           0.00           0.00             NaN   \n",
       "1               0.00           0.00           0.00             NaN   \n",
       "2               4.43           0.00          26.00             NaN   \n",
       "3              26.00          26.00          26.00           14.00   \n",
       "4               7.35           0.00          18.00            3.27   \n",
       "...              ...            ...            ...             ...   \n",
       "1582           28.89           6.00          81.00           27.74   \n",
       "1583            9.06           0.00          20.00            7.25   \n",
       "1584             NaN            NaN            NaN             NaN   \n",
       "1585            8.91           0.00          19.00            8.45   \n",
       "1586            0.00           0.00           0.00           21.00   \n",
       "\n",
       "      무부하매연측정치2/min  무부하매연측정치2/max  무부하매연측정치3/mean  무부하매연측정치3/min  \\\n",
       "0               NaN            NaN             NaN            NaN   \n",
       "1               NaN            NaN             NaN            NaN   \n",
       "2               NaN            NaN             NaN            NaN   \n",
       "3             14.00          14.00           10.00          10.00   \n",
       "4              0.00          13.00            2.35           0.00   \n",
       "...             ...            ...             ...            ...   \n",
       "1582           3.00          73.00           24.04           0.00   \n",
       "1583           0.00          20.00            6.84           0.00   \n",
       "1584            NaN            NaN             NaN            NaN   \n",
       "1585           0.00          20.00            7.05           1.00   \n",
       "1586          21.00          21.00            1.00           1.00   \n",
       "\n",
       "      무부하매연측정치3/max  \n",
       "0               NaN  \n",
       "1               NaN  \n",
       "2               NaN  \n",
       "3             10.00  \n",
       "4             14.00  \n",
       "...             ...  \n",
       "1582          58.00  \n",
       "1583          22.00  \n",
       "1584            NaN  \n",
       "1585          17.00  \n",
       "1586           1.00  \n",
       "\n",
       "[1587 rows x 15 columns]"
      ]
     },
     "execution_count": 267,
     "metadata": {},
     "output_type": "execute_result"
    }
   ],
   "source": [
    "emis_stat_g5 = gm5.groupby(['연료', '배출가스인증번호', '검사종류', '검사방법', '검사판정'], as_index=False).agg({'차대번호':'count', '무부하매연측정치1':['mean', 'min', 'max'], '무부하매연측정치2':['mean', 'min', 'max'], '무부하매연측정치3':['mean', 'min', 'max']}).pipe(flat_cols)\n",
    "emis_stat_g5 = emis_stat_g5.rename(columns={'연료/':'연료', '배출가스인증번호/':'배출가스인증번호', '검사종류/':'검사종류', '검사방법/':'검사방법', '검사판정/':'검사판정'})\n",
    "emis_stat_g5"
   ]
  },
  {
   "cell_type": "code",
   "execution_count": 268,
   "metadata": {},
   "outputs": [],
   "source": [
    "# 출력\n",
    "# about 0.3s\n",
    "emis_stat_g5.to_excel(os.path.join(analysis_fold, '통계_5등급_연료_배번별_매연.xlsx'), index=False)"
   ]
  },
  {
   "cell_type": "code",
   "execution_count": 269,
   "metadata": {},
   "outputs": [
    {
     "data": {
      "text/plain": [
       "Index(['차대번호', '차량번호', '제원관리번호', '차종', '용도', '최초등록일', '연식', '제작일자', '검사유효일',\n",
       "       '배출가스인증번호', '등급', '차명', '차종분류', '차종유형', '자동차형식', '제작사명', '연료', '엔진형식',\n",
       "       '총중량', '적재중량', '엔진출력', '배기량', '법정동코드', '시도명', '시군구명', '소유자구분', '말소여부',\n",
       "       '일치유무', '인증번호 수정 유무', '배인번호_수정', '등급_수정', 'DPF유무_수정', '배출가스', '등급2',\n",
       "       'DPF', '비고', 'Grade', '차령', '시군구명_수정', '1일평균주행거리', '조기폐차최종승인YN', '저감장치',\n",
       "       '연간주행거리', '검사일자', '검사방법', '검사종류', '검사판정', '무부하매연판정1', '무부하매연판정2',\n",
       "       '무부하매연판정3', '무부하매연측정치1', '무부하매연측정치2', '무부하매연측정치3'],\n",
       "      dtype='object')"
      ]
     },
     "execution_count": 269,
     "metadata": {},
     "output_type": "execute_result"
    }
   ],
   "source": [
    "gm4.columns"
   ]
  },
  {
   "cell_type": "code",
   "execution_count": 270,
   "metadata": {},
   "outputs": [
    {
     "data": {
      "text/plain": [
       "무부하매연측정치1     36764\n",
       "무부하매연측정치2    786037\n",
       "무부하매연측정치3    819219\n",
       "dtype: int64"
      ]
     },
     "execution_count": 270,
     "metadata": {},
     "output_type": "execute_result"
    }
   ],
   "source": [
    "gm4[['무부하매연측정치1', '무부하매연측정치2', '무부하매연측정치3']].isnull().sum()"
   ]
  },
  {
   "cell_type": "code",
   "execution_count": 271,
   "metadata": {},
   "outputs": [
    {
     "data": {
      "text/plain": [
       "무부하매연측정치1    448348\n",
       "무부하매연측정치2    917594\n",
       "무부하매연측정치3    937084\n",
       "dtype: int64"
      ]
     },
     "execution_count": 271,
     "metadata": {},
     "output_type": "execute_result"
    }
   ],
   "source": [
    "gm5[['무부하매연측정치1', '무부하매연측정치2', '무부하매연측정치3']].isnull().sum()"
   ]
  },
  {
   "cell_type": "code",
   "execution_count": 272,
   "metadata": {},
   "outputs": [
    {
     "data": {
      "text/plain": [
       "Index(['연료', '배출가스인증번호', '검사종류', '검사방법', '검사판정', '차대번호/count',\n",
       "       '무부하매연측정치1/mean', '무부하매연측정치1/min', '무부하매연측정치1/max', '무부하매연측정치2/mean',\n",
       "       '무부하매연측정치2/min', '무부하매연측정치2/max', '무부하매연측정치3/mean', '무부하매연측정치3/min',\n",
       "       '무부하매연측정치3/max'],\n",
       "      dtype='object')"
      ]
     },
     "execution_count": 272,
     "metadata": {},
     "output_type": "execute_result"
    }
   ],
   "source": [
    "emis_stat_g4.columns"
   ]
  },
  {
   "cell_type": "code",
   "execution_count": 273,
   "metadata": {},
   "outputs": [
    {
     "data": {
      "text/plain": [
       "Index(['연료', '배출가스인증번호', '검사종류', '검사방법', '검사판정', '차대번호/count',\n",
       "       '무부하매연측정치1/mean', '무부하매연측정치1/min', '무부하매연측정치1/max', '무부하매연측정치2/mean',\n",
       "       '무부하매연측정치2/min', '무부하매연측정치2/max', '무부하매연측정치3/mean', '무부하매연측정치3/min',\n",
       "       '무부하매연측정치3/max'],\n",
       "      dtype='object')"
      ]
     },
     "execution_count": 273,
     "metadata": {},
     "output_type": "execute_result"
    }
   ],
   "source": [
    "emis_stat_g5.columns"
   ]
  },
  {
   "attachments": {},
   "cell_type": "markdown",
   "metadata": {},
   "source": [
    "### 매연값는 없는 df만 추출"
   ]
  },
  {
   "cell_type": "code",
   "execution_count": 274,
   "metadata": {},
   "outputs": [
    {
     "data": {
      "text/plain": [
       "경유    1149289\n",
       "Name: 연료, dtype: int64"
      ]
     },
     "execution_count": 274,
     "metadata": {},
     "output_type": "execute_result"
    }
   ],
   "source": [
    "gm4['연료'].value_counts(dropna=False)"
   ]
  },
  {
   "cell_type": "code",
   "execution_count": 275,
   "metadata": {},
   "outputs": [
    {
     "data": {
      "text/plain": [
       "(1149289, 53)"
      ]
     },
     "execution_count": 275,
     "metadata": {},
     "output_type": "execute_result"
    }
   ],
   "source": [
    "gm4d = gm4.loc[gm4['연료'] == '경유'].reset_index(drop=True)\n",
    "gm4d.shape"
   ]
  },
  {
   "cell_type": "code",
   "execution_count": 276,
   "metadata": {},
   "outputs": [
    {
     "data": {
      "text/plain": [
       "(1124471, 26)"
      ]
     },
     "execution_count": 276,
     "metadata": {},
     "output_type": "execute_result"
    }
   ],
   "source": [
    "gm5d = gm5.loc[gm5['연료'] == '경유'].reset_index(drop=True)\n",
    "gm5d.shape"
   ]
  },
  {
   "cell_type": "code",
   "execution_count": 277,
   "metadata": {},
   "outputs": [
    {
     "data": {
      "text/html": [
       "<div>\n",
       "<style scoped>\n",
       "    .dataframe tbody tr th:only-of-type {\n",
       "        vertical-align: middle;\n",
       "    }\n",
       "\n",
       "    .dataframe tbody tr th {\n",
       "        vertical-align: top;\n",
       "    }\n",
       "\n",
       "    .dataframe thead th {\n",
       "        text-align: right;\n",
       "    }\n",
       "</style>\n",
       "<table border=\"1\" class=\"dataframe\">\n",
       "  <thead>\n",
       "    <tr style=\"text-align: right;\">\n",
       "      <th></th>\n",
       "      <th>검사종류</th>\n",
       "      <th>검사방법</th>\n",
       "      <th>무부하매연측정치1/mean</th>\n",
       "    </tr>\n",
       "  </thead>\n",
       "  <tbody>\n",
       "    <tr>\n",
       "      <th>152</th>\n",
       "      <td>1부재검사(종합)</td>\n",
       "      <td>부하검사(KD-147)</td>\n",
       "      <td>12.13</td>\n",
       "    </tr>\n",
       "    <tr>\n",
       "      <th>154</th>\n",
       "      <td>2부재검사(종합)</td>\n",
       "      <td>부하검사(KD-147)</td>\n",
       "      <td>13.05</td>\n",
       "    </tr>\n",
       "    <tr>\n",
       "      <th>155</th>\n",
       "      <td>재검사(1부재검사)</td>\n",
       "      <td>무부하검사(급가속)</td>\n",
       "      <td>1.49</td>\n",
       "    </tr>\n",
       "    <tr>\n",
       "      <th>156</th>\n",
       "      <td>재검사(2부재검사)</td>\n",
       "      <td>무부하검사(급가속)</td>\n",
       "      <td>11.09</td>\n",
       "    </tr>\n",
       "    <tr>\n",
       "      <th>158</th>\n",
       "      <td>정기(경과)검사</td>\n",
       "      <td>무부하검사(급가속)</td>\n",
       "      <td>17.93</td>\n",
       "    </tr>\n",
       "    <tr>\n",
       "      <th>160</th>\n",
       "      <td>정기검사</td>\n",
       "      <td>무부하검사(급가속)</td>\n",
       "      <td>17.64</td>\n",
       "    </tr>\n",
       "    <tr>\n",
       "      <th>162</th>\n",
       "      <td>종합검사</td>\n",
       "      <td>부하검사(KD-147)</td>\n",
       "      <td>11.43</td>\n",
       "    </tr>\n",
       "    <tr>\n",
       "      <th>164</th>\n",
       "      <td>종합검사(경과)</td>\n",
       "      <td>부하검사(KD-147)</td>\n",
       "      <td>12.32</td>\n",
       "    </tr>\n",
       "  </tbody>\n",
       "</table>\n",
       "</div>"
      ],
      "text/plain": [
       "           검사종류          검사방법  무부하매연측정치1/mean\n",
       "152   1부재검사(종합)  부하검사(KD-147)           12.13\n",
       "154   2부재검사(종합)  부하검사(KD-147)           13.05\n",
       "155  재검사(1부재검사)    무부하검사(급가속)            1.49\n",
       "156  재검사(2부재검사)    무부하검사(급가속)           11.09\n",
       "158    정기(경과)검사    무부하검사(급가속)           17.93\n",
       "160        정기검사    무부하검사(급가속)           17.64\n",
       "162        종합검사  부하검사(KD-147)           11.43\n",
       "164    종합검사(경과)  부하검사(KD-147)           12.32"
      ]
     },
     "execution_count": 277,
     "metadata": {},
     "output_type": "execute_result"
    }
   ],
   "source": [
    "emis_stat_g4.loc[(emis_stat_g4['연료'] == '경유') & (emis_stat_g4['배출가스인증번호'] == '5MY-KM-24-17') & (emis_stat_g4['검사판정'] == 'Y'), ['검사종류', '검사방법', '무부하매연측정치1/mean']]"
   ]
  },
  {
   "attachments": {},
   "cell_type": "markdown",
   "metadata": {},
   "source": [
    "#### 무부하매연측정치1 결측값 처리(❌)"
   ]
  },
  {
   "cell_type": "code",
   "execution_count": 278,
   "metadata": {},
   "outputs": [
    {
     "data": {
      "text/plain": [
       "36764"
      ]
     },
     "execution_count": 278,
     "metadata": {},
     "output_type": "execute_result"
    }
   ],
   "source": [
    "gm4d['무부하매연측정치1'].isnull().sum()"
   ]
  },
  {
   "cell_type": "code",
   "execution_count": 56,
   "metadata": {},
   "outputs": [
    {
     "data": {
      "text/plain": [
       "((1114121, 25), (38582, 25))"
      ]
     },
     "execution_count": 56,
     "metadata": {},
     "output_type": "execute_result"
    }
   ],
   "source": [
    "gm4dy = gm4d.loc[gm4d['무부하매연측정치1'].isnull() == False].reset_index(drop=True)\n",
    "gm4dn = gm4d.loc[gm4d['무부하매연측정치1'].isnull() == True].reset_index(drop=True)\n",
    "gm4dy.shape, gm4dn.shape"
   ]
  },
  {
   "cell_type": "code",
   "execution_count": 57,
   "metadata": {},
   "outputs": [
    {
     "data": {
      "text/plain": [
       "Index(['연료', '배출가스인증번호', '검사종류', '검사방법', '검사판정', '차대번호/count',\n",
       "       '무부하매연측정치1/mean', '무부하매연측정치1/min', '무부하매연측정치1/max', '무부하매연측정치2/mean',\n",
       "       '무부하매연측정치2/min', '무부하매연측정치2/max', '무부하매연측정치3/mean', '무부하매연측정치3/min',\n",
       "       '무부하매연측정치3/max'],\n",
       "      dtype='object')"
      ]
     },
     "execution_count": 57,
     "metadata": {},
     "output_type": "execute_result"
    }
   ],
   "source": [
    "emis_stat_g4.columns"
   ]
  },
  {
   "cell_type": "code",
   "execution_count": 58,
   "metadata": {},
   "outputs": [
    {
     "data": {
      "text/plain": [
       "Index(['차량등록번호', '본거지법정동코드', '차대번호', '제원관리번호', '배출가스인증번호', '배출가스등급', '차명',\n",
       "       '차종', '연료', '배기량', '조기폐차최종승인YN', '저감장치', '연간주행거리', '시도', '시구군', '검사일자',\n",
       "       '검사방법', '검사종류', '검사판정', '무부하매연판정1', '무부하매연판정2', '무부하매연판정3', '무부하매연측정치1',\n",
       "       '무부하매연측정치2', '무부하매연측정치3'],\n",
       "      dtype='object')"
      ]
     },
     "execution_count": 58,
     "metadata": {},
     "output_type": "execute_result"
    }
   ],
   "source": [
    "gm4dn.columns"
   ]
  },
  {
   "cell_type": "code",
   "execution_count": 59,
   "metadata": {},
   "outputs": [
    {
     "data": {
      "text/plain": [
       "(2491, 15)"
      ]
     },
     "execution_count": 59,
     "metadata": {},
     "output_type": "execute_result"
    }
   ],
   "source": [
    "emis_stat_g4.shape"
   ]
  },
  {
   "cell_type": "code",
   "execution_count": 60,
   "metadata": {},
   "outputs": [
    {
     "data": {
      "text/plain": [
       "(105, 15)"
      ]
     },
     "execution_count": 60,
     "metadata": {},
     "output_type": "execute_result"
    }
   ],
   "source": [
    "emis_stat_g4d = emis_stat_g4.loc[(emis_stat_g4['연료'] == '경유') & (emis_stat_g4['검사판정'] == 'Y') & (emis_stat_g4['차대번호/count'] > 1000)].reset_index(drop=True)\n",
    "emis_stat_g4d.shape"
   ]
  },
  {
   "cell_type": "code",
   "execution_count": 70,
   "metadata": {},
   "outputs": [
    {
     "data": {
      "text/plain": [
       "(76, 15)"
      ]
     },
     "execution_count": 70,
     "metadata": {},
     "output_type": "execute_result"
    }
   ],
   "source": [
    "emis_stat_g5d = emis_stat_g5.loc[(emis_stat_g5['연료'] == '경유') & (emis_stat_g5['검사판정'] == 'Y') & (emis_stat_g5['차대번호/count'] > 1000)].reset_index(drop=True)\n",
    "emis_stat_g5d.shape"
   ]
  },
  {
   "cell_type": "code",
   "execution_count": 61,
   "metadata": {},
   "outputs": [
    {
     "data": {
      "text/plain": [
       "38582"
      ]
     },
     "execution_count": 61,
     "metadata": {},
     "output_type": "execute_result"
    }
   ],
   "source": [
    "gm4dn['무부하매연측정치1'].isnull().sum()"
   ]
  },
  {
   "cell_type": "code",
   "execution_count": 62,
   "metadata": {},
   "outputs": [
    {
     "data": {
      "text/plain": [
       "30152"
      ]
     },
     "execution_count": 62,
     "metadata": {},
     "output_type": "execute_result"
    }
   ],
   "source": [
    "gm4dn = gm4dn.merge(emis_stat_g4d[['배출가스인증번호', '검사종류', '검사방법', '무부하매연측정치1/mean']], on=['배출가스인증번호', '검사종류', '검사방법'], how='left')\n",
    "gm4dn['무부하매연측정치1/mean'].isnull().sum()"
   ]
  },
  {
   "cell_type": "code",
   "execution_count": 63,
   "metadata": {},
   "outputs": [
    {
     "data": {
      "text/plain": [
       "Index(['차량등록번호', '본거지법정동코드', '차대번호', '제원관리번호', '배출가스인증번호', '배출가스등급', '차명',\n",
       "       '차종', '연료', '배기량', '조기폐차최종승인YN', '저감장치', '연간주행거리', '시도', '시구군', '검사일자',\n",
       "       '검사방법', '검사종류', '검사판정', '무부하매연판정1', '무부하매연판정2', '무부하매연판정3', '무부하매연측정치1',\n",
       "       '무부하매연측정치2', '무부하매연측정치3', '무부하매연측정치1/mean'],\n",
       "      dtype='object')"
      ]
     },
     "execution_count": 63,
     "metadata": {},
     "output_type": "execute_result"
    }
   ],
   "source": [
    "gm4dn.columns"
   ]
  },
  {
   "cell_type": "code",
   "execution_count": 64,
   "metadata": {},
   "outputs": [
    {
     "data": {
      "text/plain": [
       "Index(['차량등록번호', '본거지법정동코드', '차대번호', '제원관리번호', '배출가스인증번호', '배출가스등급', '차명',\n",
       "       '차종', '연료', '배기량', '조기폐차최종승인YN', '저감장치', '연간주행거리', '시도', '시구군', '검사일자',\n",
       "       '검사방법', '검사종류', '검사판정', '무부하매연판정1', '무부하매연판정2', '무부하매연판정3', '무부하매연측정치1',\n",
       "       '무부하매연측정치2', '무부하매연측정치3'],\n",
       "      dtype='object')"
      ]
     },
     "execution_count": 64,
     "metadata": {},
     "output_type": "execute_result"
    }
   ],
   "source": [
    "gm4dn = gm4dn[['차량등록번호', '본거지법정동코드', '차대번호', '제원관리번호', '배출가스인증번호', '배출가스등급', '차명',\n",
    "       '차종', '연료', '배기량', '조기폐차최종승인YN', '저감장치', '연간주행거리', '시도', '시구군', '검사일자',\n",
    "       '검사방법', '검사종류', '검사판정', '무부하매연판정1', '무부하매연판정2', '무부하매연판정3', '무부하매연측정치1/mean',\n",
    "       '무부하매연측정치2', '무부하매연측정치3', '무부하매연측정치1']]\n",
    "gm4dn = gm4dn.drop('무부하매연측정치1', axis=1)\n",
    "gm4dn = gm4dn.rename(columns={'무부하매연측정치1/mean':'무부하매연측정치1'})\n",
    "gm4dn.columns"
   ]
  },
  {
   "cell_type": "code",
   "execution_count": 65,
   "metadata": {},
   "outputs": [
    {
     "data": {
      "text/plain": [
       "(1152703, 25)"
      ]
     },
     "execution_count": 65,
     "metadata": {},
     "output_type": "execute_result"
    }
   ],
   "source": [
    "gm4d = pd.concat([gm4dy, gm4dn], ignore_index=True)\n",
    "gm4d.shape"
   ]
  },
  {
   "cell_type": "code",
   "execution_count": 66,
   "metadata": {},
   "outputs": [
    {
     "data": {
      "text/plain": [
       "30152"
      ]
     },
     "execution_count": 66,
     "metadata": {},
     "output_type": "execute_result"
    }
   ],
   "source": [
    "gm4d['무부하매연측정치1'].isnull().sum()"
   ]
  },
  {
   "cell_type": "code",
   "execution_count": 72,
   "metadata": {},
   "outputs": [
    {
     "data": {
      "text/plain": [
       "(1124471, 25)"
      ]
     },
     "execution_count": 72,
     "metadata": {},
     "output_type": "execute_result"
    }
   ],
   "source": [
    "gm5d.shape"
   ]
  },
  {
   "cell_type": "code",
   "execution_count": 71,
   "metadata": {},
   "outputs": [
    {
     "data": {
      "text/plain": [
       "((706278, 25), (418193, 25))"
      ]
     },
     "execution_count": 71,
     "metadata": {},
     "output_type": "execute_result"
    }
   ],
   "source": [
    "gm5dy = gm5d.loc[gm5d['무부하매연측정치1'].isnull() == False].reset_index(drop=True)\n",
    "gm5dn = gm5d.loc[gm5d['무부하매연측정치1'].isnull() == True].reset_index(drop=True)\n",
    "gm5dy.shape, gm5dn.shape"
   ]
  },
  {
   "cell_type": "code",
   "execution_count": 69,
   "metadata": {},
   "outputs": [
    {
     "data": {
      "text/plain": [
       "418193"
      ]
     },
     "execution_count": 69,
     "metadata": {},
     "output_type": "execute_result"
    }
   ],
   "source": [
    "gm5d['무부하매연측정치1'].isnull().sum()"
   ]
  },
  {
   "cell_type": "code",
   "execution_count": 73,
   "metadata": {},
   "outputs": [
    {
     "data": {
      "text/plain": [
       "415813"
      ]
     },
     "execution_count": 73,
     "metadata": {},
     "output_type": "execute_result"
    }
   ],
   "source": [
    "gm5dn = gm5dn.merge(emis_stat_g5d[['배출가스인증번호', '검사종류', '검사방법', '무부하매연측정치1/mean']], on=['배출가스인증번호', '검사종류', '검사방법'], how='left')\n",
    "gm5dn['무부하매연측정치1/mean'].isnull().sum()"
   ]
  },
  {
   "cell_type": "code",
   "execution_count": 74,
   "metadata": {},
   "outputs": [
    {
     "data": {
      "text/plain": [
       "Index(['차량등록번호', '본거지법정동코드', '차대번호', '제원관리번호', '배출가스인증번호', '배출가스등급', '차명',\n",
       "       '차종', '연료', '배기량', '조기폐차최종승인YN', '저감장치', '연간주행거리', '시도', '시구군', '검사일자',\n",
       "       '검사방법', '검사종류', '검사판정', '무부하매연판정1', '무부하매연판정2', '무부하매연판정3', '무부하매연측정치1',\n",
       "       '무부하매연측정치2', '무부하매연측정치3'],\n",
       "      dtype='object')"
      ]
     },
     "execution_count": 74,
     "metadata": {},
     "output_type": "execute_result"
    }
   ],
   "source": [
    "gm5dn = gm5dn[['차량등록번호', '본거지법정동코드', '차대번호', '제원관리번호', '배출가스인증번호', '배출가스등급', '차명',\n",
    "       '차종', '연료', '배기량', '조기폐차최종승인YN', '저감장치', '연간주행거리', '시도', '시구군', '검사일자',\n",
    "       '검사방법', '검사종류', '검사판정', '무부하매연판정1', '무부하매연판정2', '무부하매연판정3', '무부하매연측정치1/mean',\n",
    "       '무부하매연측정치2', '무부하매연측정치3', '무부하매연측정치1']]\n",
    "gm5dn = gm5dn.drop('무부하매연측정치1', axis=1)\n",
    "gm5dn = gm5dn.rename(columns={'무부하매연측정치1/mean':'무부하매연측정치1'})\n",
    "gm5dn.columns"
   ]
  },
  {
   "cell_type": "code",
   "execution_count": 75,
   "metadata": {},
   "outputs": [
    {
     "data": {
      "text/plain": [
       "(1124471, 25)"
      ]
     },
     "execution_count": 75,
     "metadata": {},
     "output_type": "execute_result"
    }
   ],
   "source": [
    "gm5d = pd.concat([gm5dy, gm5dn], ignore_index=True)\n",
    "gm5d.shape"
   ]
  },
  {
   "cell_type": "code",
   "execution_count": 76,
   "metadata": {},
   "outputs": [
    {
     "data": {
      "text/plain": [
       "415813"
      ]
     },
     "execution_count": 76,
     "metadata": {},
     "output_type": "execute_result"
    }
   ],
   "source": [
    "gm5d['무부하매연측정치1'].isnull().sum()"
   ]
  },
  {
   "attachments": {},
   "cell_type": "markdown",
   "metadata": {},
   "source": [
    "#### 무부하매연측정치2 결측값 처리(❌)"
   ]
  },
  {
   "cell_type": "code",
   "execution_count": 77,
   "metadata": {},
   "outputs": [
    {
     "data": {
      "text/plain": [
       "789268"
      ]
     },
     "execution_count": 77,
     "metadata": {},
     "output_type": "execute_result"
    }
   ],
   "source": [
    "gm4d['무부하매연측정치2'].isnull().sum()"
   ]
  },
  {
   "cell_type": "code",
   "execution_count": 78,
   "metadata": {},
   "outputs": [
    {
     "data": {
      "text/plain": [
       "((363435, 25), (789268, 25))"
      ]
     },
     "execution_count": 78,
     "metadata": {},
     "output_type": "execute_result"
    }
   ],
   "source": [
    "gm4dy = gm4d.loc[gm4d['무부하매연측정치2'].isnull() == False].reset_index(drop=True)\n",
    "gm4dn = gm4d.loc[gm4d['무부하매연측정치2'].isnull() == True].reset_index(drop=True)\n",
    "gm4dy.shape, gm4dn.shape"
   ]
  },
  {
   "cell_type": "code",
   "execution_count": 79,
   "metadata": {},
   "outputs": [
    {
     "data": {
      "text/plain": [
       "789268"
      ]
     },
     "execution_count": 79,
     "metadata": {},
     "output_type": "execute_result"
    }
   ],
   "source": [
    "gm4dn['무부하매연측정치2'].isnull().sum()"
   ]
  },
  {
   "cell_type": "code",
   "execution_count": 80,
   "metadata": {},
   "outputs": [
    {
     "data": {
      "text/plain": [
       "289247"
      ]
     },
     "execution_count": 80,
     "metadata": {},
     "output_type": "execute_result"
    }
   ],
   "source": [
    "gm4dn = gm4dn.merge(emis_stat_g4d[['배출가스인증번호', '검사종류', '검사방법', '무부하매연측정치2/mean']], on=['배출가스인증번호', '검사종류', '검사방법'], how='left')\n",
    "gm4dn['무부하매연측정치2/mean'].isnull().sum()"
   ]
  },
  {
   "cell_type": "code",
   "execution_count": 81,
   "metadata": {},
   "outputs": [
    {
     "data": {
      "text/plain": [
       "Index(['차량등록번호', '본거지법정동코드', '차대번호', '제원관리번호', '배출가스인증번호', '배출가스등급', '차명',\n",
       "       '차종', '연료', '배기량', '조기폐차최종승인YN', '저감장치', '연간주행거리', '시도', '시구군', '검사일자',\n",
       "       '검사방법', '검사종류', '검사판정', '무부하매연판정1', '무부하매연판정2', '무부하매연판정3', '무부하매연측정치1',\n",
       "       '무부하매연측정치2', '무부하매연측정치3', '무부하매연측정치2/mean'],\n",
       "      dtype='object')"
      ]
     },
     "execution_count": 81,
     "metadata": {},
     "output_type": "execute_result"
    }
   ],
   "source": [
    "gm4dn.columns"
   ]
  },
  {
   "cell_type": "code",
   "execution_count": 82,
   "metadata": {},
   "outputs": [
    {
     "data": {
      "text/plain": [
       "Index(['차량등록번호', '본거지법정동코드', '차대번호', '제원관리번호', '배출가스인증번호', '배출가스등급', '차명',\n",
       "       '차종', '연료', '배기량', '조기폐차최종승인YN', '저감장치', '연간주행거리', '시도', '시구군', '검사일자',\n",
       "       '검사방법', '검사종류', '검사판정', '무부하매연판정1', '무부하매연판정2', '무부하매연판정3', '무부하매연측정치1',\n",
       "       '무부하매연측정치2', '무부하매연측정치3'],\n",
       "      dtype='object')"
      ]
     },
     "execution_count": 82,
     "metadata": {},
     "output_type": "execute_result"
    }
   ],
   "source": [
    "gm4dn = gm4dn[['차량등록번호', '본거지법정동코드', '차대번호', '제원관리번호', '배출가스인증번호', '배출가스등급', '차명',\n",
    "       '차종', '연료', '배기량', '조기폐차최종승인YN', '저감장치', '연간주행거리', '시도', '시구군', '검사일자',\n",
    "       '검사방법', '검사종류', '검사판정', '무부하매연판정1', '무부하매연판정2', '무부하매연판정3', \n",
    "       '무부하매연측정치1', '무부하매연측정치2/mean', '무부하매연측정치3', '무부하매연측정치2']]\n",
    "gm4dn = gm4dn.drop('무부하매연측정치2', axis=1)\n",
    "gm4dn = gm4dn.rename(columns={'무부하매연측정치2/mean':'무부하매연측정치2'})\n",
    "gm4dn.columns"
   ]
  },
  {
   "cell_type": "code",
   "execution_count": 83,
   "metadata": {},
   "outputs": [
    {
     "data": {
      "text/plain": [
       "(1152703, 25)"
      ]
     },
     "execution_count": 83,
     "metadata": {},
     "output_type": "execute_result"
    }
   ],
   "source": [
    "gm4d = pd.concat([gm4dy, gm4dn], ignore_index=True)\n",
    "gm4d.shape"
   ]
  },
  {
   "cell_type": "code",
   "execution_count": 84,
   "metadata": {},
   "outputs": [
    {
     "data": {
      "text/plain": [
       "289247"
      ]
     },
     "execution_count": 84,
     "metadata": {},
     "output_type": "execute_result"
    }
   ],
   "source": [
    "gm4d['무부하매연측정치2'].isnull().sum()"
   ]
  },
  {
   "cell_type": "code",
   "execution_count": 85,
   "metadata": {},
   "outputs": [
    {
     "data": {
      "text/plain": [
       "(1124471, 25)"
      ]
     },
     "execution_count": 85,
     "metadata": {},
     "output_type": "execute_result"
    }
   ],
   "source": [
    "gm5d.shape"
   ]
  },
  {
   "cell_type": "code",
   "execution_count": 86,
   "metadata": {},
   "outputs": [
    {
     "data": {
      "text/plain": [
       "((237036, 25), (887435, 25))"
      ]
     },
     "execution_count": 86,
     "metadata": {},
     "output_type": "execute_result"
    }
   ],
   "source": [
    "gm5dy = gm5d.loc[gm5d['무부하매연측정치2'].isnull() == False].reset_index(drop=True)\n",
    "gm5dn = gm5d.loc[gm5d['무부하매연측정치2'].isnull() == True].reset_index(drop=True)\n",
    "gm5dy.shape, gm5dn.shape"
   ]
  },
  {
   "cell_type": "code",
   "execution_count": 87,
   "metadata": {},
   "outputs": [
    {
     "data": {
      "text/plain": [
       "887435"
      ]
     },
     "execution_count": 87,
     "metadata": {},
     "output_type": "execute_result"
    }
   ],
   "source": [
    "gm5d['무부하매연측정치2'].isnull().sum()"
   ]
  },
  {
   "cell_type": "code",
   "execution_count": 88,
   "metadata": {},
   "outputs": [
    {
     "data": {
      "text/plain": [
       "751470"
      ]
     },
     "execution_count": 88,
     "metadata": {},
     "output_type": "execute_result"
    }
   ],
   "source": [
    "gm5dn = gm5dn.merge(emis_stat_g5d[['배출가스인증번호', '검사종류', '검사방법', '무부하매연측정치2/mean']], on=['배출가스인증번호', '검사종류', '검사방법'], how='left')\n",
    "gm5dn['무부하매연측정치2/mean'].isnull().sum()"
   ]
  },
  {
   "cell_type": "code",
   "execution_count": 89,
   "metadata": {},
   "outputs": [
    {
     "data": {
      "text/plain": [
       "Index(['차량등록번호', '본거지법정동코드', '차대번호', '제원관리번호', '배출가스인증번호', '배출가스등급', '차명',\n",
       "       '차종', '연료', '배기량', '조기폐차최종승인YN', '저감장치', '연간주행거리', '시도', '시구군', '검사일자',\n",
       "       '검사방법', '검사종류', '검사판정', '무부하매연판정1', '무부하매연판정2', '무부하매연판정3', '무부하매연측정치1',\n",
       "       '무부하매연측정치2', '무부하매연측정치3'],\n",
       "      dtype='object')"
      ]
     },
     "execution_count": 89,
     "metadata": {},
     "output_type": "execute_result"
    }
   ],
   "source": [
    "gm5dn = gm5dn[['차량등록번호', '본거지법정동코드', '차대번호', '제원관리번호', '배출가스인증번호', '배출가스등급', '차명',\n",
    "       '차종', '연료', '배기량', '조기폐차최종승인YN', '저감장치', '연간주행거리', '시도', '시구군', '검사일자',\n",
    "       '검사방법', '검사종류', '검사판정', '무부하매연판정1', '무부하매연판정2', '무부하매연판정3', \n",
    "       '무부하매연측정치1', '무부하매연측정치2/mean', '무부하매연측정치3', '무부하매연측정치2']]\n",
    "gm5dn = gm5dn.drop('무부하매연측정치2', axis=1)\n",
    "gm5dn = gm5dn.rename(columns={'무부하매연측정치2/mean':'무부하매연측정치2'})\n",
    "gm5dn.columns"
   ]
  },
  {
   "cell_type": "code",
   "execution_count": 90,
   "metadata": {},
   "outputs": [
    {
     "data": {
      "text/plain": [
       "(1124471, 25)"
      ]
     },
     "execution_count": 90,
     "metadata": {},
     "output_type": "execute_result"
    }
   ],
   "source": [
    "gm5d = pd.concat([gm5dy, gm5dn], ignore_index=True)\n",
    "gm5d.shape"
   ]
  },
  {
   "cell_type": "code",
   "execution_count": 91,
   "metadata": {},
   "outputs": [
    {
     "data": {
      "text/plain": [
       "751470"
      ]
     },
     "execution_count": 91,
     "metadata": {},
     "output_type": "execute_result"
    }
   ],
   "source": [
    "gm5d['무부하매연측정치2'].isnull().sum()"
   ]
  },
  {
   "attachments": {},
   "cell_type": "markdown",
   "metadata": {},
   "source": [
    "#### 무부하매연측정치3 결측값 처리(❌)"
   ]
  },
  {
   "cell_type": "code",
   "execution_count": 92,
   "metadata": {},
   "outputs": [
    {
     "data": {
      "text/plain": [
       "824003"
      ]
     },
     "execution_count": 92,
     "metadata": {},
     "output_type": "execute_result"
    }
   ],
   "source": [
    "gm4d['무부하매연측정치3'].isnull().sum()"
   ]
  },
  {
   "cell_type": "code",
   "execution_count": 93,
   "metadata": {},
   "outputs": [
    {
     "data": {
      "text/plain": [
       "((328700, 25), (824003, 25))"
      ]
     },
     "execution_count": 93,
     "metadata": {},
     "output_type": "execute_result"
    }
   ],
   "source": [
    "gm4dy = gm4d.loc[gm4d['무부하매연측정치3'].isnull() == False].reset_index(drop=True)\n",
    "gm4dn = gm4d.loc[gm4d['무부하매연측정치3'].isnull() == True].reset_index(drop=True)\n",
    "gm4dy.shape, gm4dn.shape"
   ]
  },
  {
   "cell_type": "code",
   "execution_count": 94,
   "metadata": {},
   "outputs": [
    {
     "data": {
      "text/plain": [
       "824003"
      ]
     },
     "execution_count": 94,
     "metadata": {},
     "output_type": "execute_result"
    }
   ],
   "source": [
    "gm4dn['무부하매연측정치3'].isnull().sum()"
   ]
  },
  {
   "cell_type": "code",
   "execution_count": 95,
   "metadata": {},
   "outputs": [
    {
     "data": {
      "text/plain": [
       "300605"
      ]
     },
     "execution_count": 95,
     "metadata": {},
     "output_type": "execute_result"
    }
   ],
   "source": [
    "gm4dn = gm4dn.merge(emis_stat_g4d[['배출가스인증번호', '검사종류', '검사방법', '무부하매연측정치3/mean']], on=['배출가스인증번호', '검사종류', '검사방법'], how='left')\n",
    "gm4dn['무부하매연측정치3/mean'].isnull().sum()"
   ]
  },
  {
   "cell_type": "code",
   "execution_count": 96,
   "metadata": {},
   "outputs": [
    {
     "data": {
      "text/plain": [
       "Index(['차량등록번호', '본거지법정동코드', '차대번호', '제원관리번호', '배출가스인증번호', '배출가스등급', '차명',\n",
       "       '차종', '연료', '배기량', '조기폐차최종승인YN', '저감장치', '연간주행거리', '시도', '시구군', '검사일자',\n",
       "       '검사방법', '검사종류', '검사판정', '무부하매연판정1', '무부하매연판정2', '무부하매연판정3', '무부하매연측정치1',\n",
       "       '무부하매연측정치2', '무부하매연측정치3', '무부하매연측정치3/mean'],\n",
       "      dtype='object')"
      ]
     },
     "execution_count": 96,
     "metadata": {},
     "output_type": "execute_result"
    }
   ],
   "source": [
    "gm4dn.columns"
   ]
  },
  {
   "cell_type": "code",
   "execution_count": 97,
   "metadata": {},
   "outputs": [
    {
     "data": {
      "text/plain": [
       "Index(['차량등록번호', '본거지법정동코드', '차대번호', '제원관리번호', '배출가스인증번호', '배출가스등급', '차명',\n",
       "       '차종', '연료', '배기량', '조기폐차최종승인YN', '저감장치', '연간주행거리', '시도', '시구군', '검사일자',\n",
       "       '검사방법', '검사종류', '검사판정', '무부하매연판정1', '무부하매연판정2', '무부하매연판정3', '무부하매연측정치1',\n",
       "       '무부하매연측정치2', '무부하매연측정치3'],\n",
       "      dtype='object')"
      ]
     },
     "execution_count": 97,
     "metadata": {},
     "output_type": "execute_result"
    }
   ],
   "source": [
    "gm4dn = gm4dn[['차량등록번호', '본거지법정동코드', '차대번호', '제원관리번호', '배출가스인증번호', '배출가스등급', '차명',\n",
    "       '차종', '연료', '배기량', '조기폐차최종승인YN', '저감장치', '연간주행거리', '시도', '시구군', '검사일자',\n",
    "       '검사방법', '검사종류', '검사판정', '무부하매연판정1', '무부하매연판정2', '무부하매연판정3', \n",
    "       '무부하매연측정치1', '무부하매연측정치2', '무부하매연측정치3/mean', '무부하매연측정치3']]\n",
    "gm4dn = gm4dn.drop('무부하매연측정치3', axis=1)\n",
    "gm4dn = gm4dn.rename(columns={'무부하매연측정치3/mean':'무부하매연측정치3'})\n",
    "gm4dn.columns"
   ]
  },
  {
   "cell_type": "code",
   "execution_count": 98,
   "metadata": {},
   "outputs": [
    {
     "data": {
      "text/plain": [
       "(1152703, 25)"
      ]
     },
     "execution_count": 98,
     "metadata": {},
     "output_type": "execute_result"
    }
   ],
   "source": [
    "gm4d = pd.concat([gm4dy, gm4dn], ignore_index=True)\n",
    "gm4d.shape"
   ]
  },
  {
   "cell_type": "code",
   "execution_count": 99,
   "metadata": {},
   "outputs": [
    {
     "data": {
      "text/plain": [
       "300605"
      ]
     },
     "execution_count": 99,
     "metadata": {},
     "output_type": "execute_result"
    }
   ],
   "source": [
    "gm4d['무부하매연측정치3'].isnull().sum()"
   ]
  },
  {
   "cell_type": "code",
   "execution_count": 100,
   "metadata": {},
   "outputs": [
    {
     "data": {
      "text/plain": [
       "(1124471, 25)"
      ]
     },
     "execution_count": 100,
     "metadata": {},
     "output_type": "execute_result"
    }
   ],
   "source": [
    "gm5d.shape"
   ]
  },
  {
   "cell_type": "code",
   "execution_count": 101,
   "metadata": {},
   "outputs": [
    {
     "data": {
      "text/plain": [
       "((217546, 25), (906925, 25))"
      ]
     },
     "execution_count": 101,
     "metadata": {},
     "output_type": "execute_result"
    }
   ],
   "source": [
    "gm5dy = gm5d.loc[gm5d['무부하매연측정치3'].isnull() == False].reset_index(drop=True)\n",
    "gm5dn = gm5d.loc[gm5d['무부하매연측정치3'].isnull() == True].reset_index(drop=True)\n",
    "gm5dy.shape, gm5dn.shape"
   ]
  },
  {
   "cell_type": "code",
   "execution_count": 102,
   "metadata": {},
   "outputs": [
    {
     "data": {
      "text/plain": [
       "906925"
      ]
     },
     "execution_count": 102,
     "metadata": {},
     "output_type": "execute_result"
    }
   ],
   "source": [
    "gm5d['무부하매연측정치3'].isnull().sum()"
   ]
  },
  {
   "cell_type": "code",
   "execution_count": 103,
   "metadata": {},
   "outputs": [
    {
     "data": {
      "text/plain": [
       "764348"
      ]
     },
     "execution_count": 103,
     "metadata": {},
     "output_type": "execute_result"
    }
   ],
   "source": [
    "gm5dn = gm5dn.merge(emis_stat_g5d[['배출가스인증번호', '검사종류', '검사방법', '무부하매연측정치3/mean']], on=['배출가스인증번호', '검사종류', '검사방법'], how='left')\n",
    "gm5dn['무부하매연측정치3/mean'].isnull().sum()"
   ]
  },
  {
   "cell_type": "code",
   "execution_count": 105,
   "metadata": {},
   "outputs": [
    {
     "data": {
      "text/plain": [
       "Index(['차량등록번호', '본거지법정동코드', '차대번호', '제원관리번호', '배출가스인증번호', '배출가스등급', '차명',\n",
       "       '차종', '연료', '배기량', '조기폐차최종승인YN', '저감장치', '연간주행거리', '시도', '시구군', '검사일자',\n",
       "       '검사방법', '검사종류', '검사판정', '무부하매연판정1', '무부하매연판정2', '무부하매연판정3', '무부하매연측정치1',\n",
       "       '무부하매연측정치2', '무부하매연측정치3'],\n",
       "      dtype='object')"
      ]
     },
     "execution_count": 105,
     "metadata": {},
     "output_type": "execute_result"
    }
   ],
   "source": [
    "gm5dn = gm5dn[['차량등록번호', '본거지법정동코드', '차대번호', '제원관리번호', '배출가스인증번호', '배출가스등급', '차명',\n",
    "       '차종', '연료', '배기량', '조기폐차최종승인YN', '저감장치', '연간주행거리', '시도', '시구군', '검사일자',\n",
    "       '검사방법', '검사종류', '검사판정', '무부하매연판정1', '무부하매연판정2', '무부하매연판정3', \n",
    "       '무부하매연측정치1', '무부하매연측정치2', '무부하매연측정치3/mean', '무부하매연측정치3']]\n",
    "gm5dn = gm5dn.drop('무부하매연측정치3', axis=1)\n",
    "gm5dn = gm5dn.rename(columns={'무부하매연측정치3/mean':'무부하매연측정치3'})\n",
    "gm5dn.columns"
   ]
  },
  {
   "cell_type": "code",
   "execution_count": 106,
   "metadata": {},
   "outputs": [
    {
     "data": {
      "text/plain": [
       "(1124471, 25)"
      ]
     },
     "execution_count": 106,
     "metadata": {},
     "output_type": "execute_result"
    }
   ],
   "source": [
    "gm5d = pd.concat([gm5dy, gm5dn], ignore_index=True)\n",
    "gm5d.shape"
   ]
  },
  {
   "cell_type": "code",
   "execution_count": 107,
   "metadata": {},
   "outputs": [
    {
     "data": {
      "text/plain": [
       "764348"
      ]
     },
     "execution_count": 107,
     "metadata": {},
     "output_type": "execute_result"
    }
   ],
   "source": [
    "gm5d['무부하매연측정치3'].isnull().sum()"
   ]
  },
  {
   "attachments": {},
   "cell_type": "markdown",
   "metadata": {},
   "source": [
    "#### 출력"
   ]
  },
  {
   "cell_type": "code",
   "execution_count": 111,
   "metadata": {},
   "outputs": [
    {
     "data": {
      "text/plain": [
       "((1152703, 25), (1124471, 25))"
      ]
     },
     "execution_count": 111,
     "metadata": {},
     "output_type": "execute_result"
    }
   ],
   "source": [
    "gm4d.shape, gm5d.shape"
   ]
  },
  {
   "cell_type": "code",
   "execution_count": 112,
   "metadata": {},
   "outputs": [],
   "source": [
    "# about 25.6s\n",
    "gm4d.to_csv(os.path.join(ods_fold, 'BD3_3_저공해조치_우선차량선별_4등급_매연결측치처리.csv'), index=False)\n",
    "gm5d.to_csv(os.path.join(ods_fold, 'BD3_3_저공해조치_우선차량선별_5등급_매연결측치처리.csv'), index=False)"
   ]
  },
  {
   "attachments": {},
   "cell_type": "markdown",
   "metadata": {},
   "source": [
    "# 분석"
   ]
  },
  {
   "attachments": {},
   "cell_type": "markdown",
   "metadata": {},
   "source": [
    "## 경제적 타당성 평가\n",
    "- 환경이익 계산"
   ]
  },
  {
   "attachments": {},
   "cell_type": "markdown",
   "metadata": {},
   "source": [
    "### 4등급 환경이익\n",
    "- 고려사항\n",
    "    - 조기폐차\n",
    "- '조기폐차최종승인YN' = N 인 차량이 조기폐차 했을 경우 환경이익 계산"
   ]
  },
  {
   "cell_type": "code",
   "execution_count": 279,
   "metadata": {},
   "outputs": [
    {
     "data": {
      "text/plain": [
       "Index(['차대번호', '차량번호', '제원관리번호', '차종', '용도', '최초등록일', '연식', '제작일자', '검사유효일',\n",
       "       '배출가스인증번호', '등급', '차명', '차종분류', '차종유형', '자동차형식', '제작사명', '연료', '엔진형식',\n",
       "       '총중량', '적재중량', '엔진출력', '배기량', '법정동코드', '시도명', '시군구명', '소유자구분', '말소여부',\n",
       "       '일치유무', '인증번호 수정 유무', '배인번호_수정', '등급_수정', 'DPF유무_수정', '배출가스', '등급2',\n",
       "       'DPF', '비고', 'Grade', '차령', '시군구명_수정', '1일평균주행거리', '조기폐차최종승인YN', '저감장치',\n",
       "       '연간주행거리', '검사일자', '검사방법', '검사종류', '검사판정', '무부하매연판정1', '무부하매연판정2',\n",
       "       '무부하매연판정3', '무부하매연측정치1', '무부하매연측정치2', '무부하매연측정치3'],\n",
       "      dtype='object')"
      ]
     },
     "execution_count": 279,
     "metadata": {},
     "output_type": "execute_result"
    }
   ],
   "source": [
    "gm4d.columns"
   ]
  },
  {
   "cell_type": "code",
   "execution_count": 110,
   "metadata": {},
   "outputs": [
    {
     "data": {
      "text/plain": [
       "NaN    1152703\n",
       "Name: 조기폐차최종승인YN, dtype: int64"
      ]
     },
     "execution_count": 110,
     "metadata": {},
     "output_type": "execute_result"
    }
   ],
   "source": [
    "gm4d['조기폐차최종승인YN'].value_counts(dropna=False)"
   ]
  },
  {
   "cell_type": "code",
   "execution_count": 113,
   "metadata": {},
   "outputs": [
    {
     "data": {
      "text/plain": [
       "NaN           1152669\n",
       "DPF                32\n",
       "PM-NOx저감장치          2\n",
       "Name: 저감장치, dtype: int64"
      ]
     },
     "execution_count": 113,
     "metadata": {},
     "output_type": "execute_result"
    }
   ],
   "source": [
    "gm4d['저감장치'].value_counts(dropna=False)"
   ]
  },
  {
   "cell_type": "code",
   "execution_count": 119,
   "metadata": {},
   "outputs": [],
   "source": [
    "gm4d[(gm4d['저감장치'] == 'DPF') | (gm4d['저감장치'] == 'PM-NOx저감장치')].reset_index(drop=True).to_excel(os.path.join(analysis_fold, '샘플_4등급_저감장치.xlsx'), index=False)"
   ]
  },
  {
   "cell_type": "code",
   "execution_count": 281,
   "metadata": {},
   "outputs": [
    {
     "data": {
      "text/plain": [
       "array(['무부하검사(급가속)', '부하검사(KD-147)', nan, '부하검사(LUG DOWN)',\n",
       "       '부하검사(ASM-Idling)', '무부하검사(정지가동)'], dtype=object)"
      ]
     },
     "execution_count": 281,
     "metadata": {},
     "output_type": "execute_result"
    }
   ],
   "source": [
    "gm4d['검사방법'].unique()"
   ]
  },
  {
   "cell_type": "code",
   "execution_count": 287,
   "metadata": {},
   "outputs": [
    {
     "data": {
      "text/plain": [
       "0"
      ]
     },
     "execution_count": 287,
     "metadata": {},
     "output_type": "execute_result"
    }
   ],
   "source": [
    "gm4d['배기량'].isnull().sum()"
   ]
  },
  {
   "cell_type": "code",
   "execution_count": 314,
   "metadata": {},
   "outputs": [
    {
     "data": {
      "text/plain": [
       "무부하매연측정치1     36764\n",
       "무부하매연측정치2    786037\n",
       "무부하매연측정치3    819219\n",
       "dtype: int64"
      ]
     },
     "execution_count": 314,
     "metadata": {},
     "output_type": "execute_result"
    }
   ],
   "source": [
    "gm4d[['무부하매연측정치1', '무부하매연측정치2', '무부하매연측정치3']].isnull().sum()"
   ]
  },
  {
   "cell_type": "code",
   "execution_count": 316,
   "metadata": {},
   "outputs": [
    {
     "data": {
      "text/plain": [
       "0"
      ]
     },
     "execution_count": 316,
     "metadata": {},
     "output_type": "execute_result"
    }
   ],
   "source": [
    "gm4d['연간주행거리'].isnull().sum()"
   ]
  },
  {
   "cell_type": "code",
   "execution_count": 341,
   "metadata": {},
   "outputs": [
    {
     "name": "stderr",
     "output_type": "stream",
     "text": [
      "100%|██████████| 1149289/1149289 [00:05<00:00, 202768.90it/s]\n"
     ]
    }
   ],
   "source": [
    "kg_list = []\n",
    "for method, one, two, three, distance, cc in tqdm(gm4d[['검사방법', '무부하매연측정치1', '무부하매연측정치2', '무부하매연측정치3', '연간주행거리', '배기량']].values):\n",
    "    cc = cc/1000\n",
    "    if method == '무부하검사(급가속)' or method == '무부하검사(정지가동)':\n",
    "        if pd.isna(one) == False and pd.isna(two) == False and pd.isna(three) == False:\n",
    "            emis = (one + two + three) / 3\n",
    "        elif pd.isna(one) == False and pd.isna(two) == True and pd.isna(three) == True:\n",
    "            emis = one\n",
    "        else:\n",
    "            emis = np.nan\n",
    "    elif method == '부하검사(KD-147)':\n",
    "        if pd.isna(one) == False:\n",
    "            emis = one\n",
    "        else:\n",
    "            emis = np.nan\n",
    "    elif method == '부하검사(ASM-Idling)':\n",
    "        if pd.isna(one) == False:\n",
    "            emis = one\n",
    "        else:\n",
    "            emis = np.nan\n",
    "    else:\n",
    "        emis = np.nan\n",
    "    mgkm = (0.0126*(emis**2) + 2.665*emis +3.03) * ( (0.4229*0.001*cc**2 - 1.022*0.001*cc + 1.59)/60 ) * 1/2.16\n",
    "    kg = mgkm * distance * 10**(-6)\n",
    "    kg_list.append(kg)"
   ]
  },
  {
   "cell_type": "code",
   "execution_count": 342,
   "metadata": {},
   "outputs": [
    {
     "data": {
      "text/plain": [
       "1149289"
      ]
     },
     "execution_count": 342,
     "metadata": {},
     "output_type": "execute_result"
    }
   ],
   "source": [
    "len(kg_list)"
   ]
  },
  {
   "cell_type": "code",
   "execution_count": 343,
   "metadata": {},
   "outputs": [
    {
     "data": {
      "text/plain": [
       "[nan,\n",
       " nan,\n",
       " nan,\n",
       " 0.49939401076923073,\n",
       " 1.6933647732590529,\n",
       " 3.933248482262211,\n",
       " 0.011475395327102804,\n",
       " 0.0005302761565836298,\n",
       " nan,\n",
       " 5.844578049]"
      ]
     },
     "execution_count": 343,
     "metadata": {},
     "output_type": "execute_result"
    }
   ],
   "source": [
    "kg_list[:10]"
   ]
  },
  {
   "cell_type": "code",
   "execution_count": 344,
   "metadata": {},
   "outputs": [
    {
     "data": {
      "text/plain": [
       "Index(['차대번호', '차량번호', '제원관리번호', '차종', '용도', '최초등록일', '연식', '제작일자', '검사유효일',\n",
       "       '배출가스인증번호', '등급', '차명', '차종분류', '차종유형', '자동차형식', '제작사명', '연료', '엔진형식',\n",
       "       '총중량', '적재중량', '엔진출력', '배기량', '법정동코드', '시도명', '시군구명', '소유자구분', '말소여부',\n",
       "       '일치유무', '인증번호 수정 유무', '배인번호_수정', '등급_수정', 'DPF유무_수정', '배출가스', '등급2',\n",
       "       'DPF', '비고', 'Grade', '차령', '시군구명_수정', '1일평균주행거리', '조기폐차최종승인YN', '저감장치',\n",
       "       '연간주행거리', '검사일자', '검사방법', '검사종류', '검사판정', '무부하매연판정1', '무부하매연판정2',\n",
       "       '무부하매연판정3', '무부하매연측정치1', '무부하매연측정치2', '무부하매연측정치3'],\n",
       "      dtype='object')"
      ]
     },
     "execution_count": 344,
     "metadata": {},
     "output_type": "execute_result"
    }
   ],
   "source": [
    "gm4d = gm4d.drop('환경이익', axis=1)\n",
    "gm4d.columns"
   ]
  },
  {
   "cell_type": "code",
   "execution_count": 345,
   "metadata": {},
   "outputs": [
    {
     "data": {
      "text/plain": [
       "Index(['차대번호', '차량번호', '제원관리번호', '차종', '용도', '최초등록일', '연식', '제작일자', '검사유효일',\n",
       "       '배출가스인증번호', '등급', '차명', '차종분류', '차종유형', '자동차형식', '제작사명', '연료', '엔진형식',\n",
       "       '총중량', '적재중량', '엔진출력', '배기량', '법정동코드', '시도명', '시군구명', '소유자구분', '말소여부',\n",
       "       '일치유무', '인증번호 수정 유무', '배인번호_수정', '등급_수정', 'DPF유무_수정', '배출가스', '등급2',\n",
       "       'DPF', '비고', 'Grade', '차령', '시군구명_수정', '1일평균주행거리', '조기폐차최종승인YN', '저감장치',\n",
       "       '연간주행거리', '검사일자', '검사방법', '검사종류', '검사판정', '무부하매연판정1', '무부하매연판정2',\n",
       "       '무부하매연판정3', '무부하매연측정치1', '무부하매연측정치2', '무부하매연측정치3', '연간배출량'],\n",
       "      dtype='object')"
      ]
     },
     "execution_count": 345,
     "metadata": {},
     "output_type": "execute_result"
    }
   ],
   "source": [
    "gm4d['연간배출량'] = kg_list\n",
    "gm4d.columns"
   ]
  },
  {
   "cell_type": "code",
   "execution_count": 346,
   "metadata": {},
   "outputs": [
    {
     "data": {
      "text/plain": [
       "count   1037785.00\n",
       "mean           inf\n",
       "std            NaN\n",
       "min           0.00\n",
       "25%           0.00\n",
       "50%           0.00\n",
       "75%           0.00\n",
       "max            inf\n",
       "Name: 연간배출량, dtype: float64"
      ]
     },
     "execution_count": 346,
     "metadata": {},
     "output_type": "execute_result"
    }
   ],
   "source": [
    "gm4d['연간배출량'].describe()"
   ]
  },
  {
   "cell_type": "code",
   "execution_count": 347,
   "metadata": {},
   "outputs": [
    {
     "data": {
      "text/plain": [
       "111504"
      ]
     },
     "execution_count": 347,
     "metadata": {},
     "output_type": "execute_result"
    }
   ],
   "source": [
    "gm4d['연간배출량'].isnull().sum()"
   ]
  },
  {
   "cell_type": "code",
   "execution_count": 348,
   "metadata": {},
   "outputs": [
    {
     "data": {
      "text/plain": [
       "(140083, 54)"
      ]
     },
     "execution_count": 348,
     "metadata": {},
     "output_type": "execute_result"
    }
   ],
   "source": [
    "gm4d[(gm4d['연간배출량'].isnull()) | (gm4d['연간배출량'] == np.inf) | (gm4d['연간배출량'] == -np.inf)].shape"
   ]
  },
  {
   "cell_type": "code",
   "execution_count": 351,
   "metadata": {},
   "outputs": [
    {
     "data": {
      "text/plain": [
       "(1149289, 54)"
      ]
     },
     "execution_count": 351,
     "metadata": {},
     "output_type": "execute_result"
    }
   ],
   "source": [
    "gm4d.shape"
   ]
  },
  {
   "cell_type": "code",
   "execution_count": 353,
   "metadata": {},
   "outputs": [
    {
     "data": {
      "text/plain": [
       "'2023.05.05_PM.02.20.36'"
      ]
     },
     "execution_count": 353,
     "metadata": {},
     "output_type": "execute_result"
    }
   ],
   "source": [
    "today_date = datetime.today().strftime(\"%Y.%m.%d_%p.%I.%M.%S\")\n",
    "today_date"
   ]
  },
  {
   "cell_type": "code",
   "execution_count": 354,
   "metadata": {},
   "outputs": [],
   "source": [
    "# 출력 4등급 경유차 연간배출량 정보 추가\n",
    "# about 15m 47.4s\n",
    "n = 500000\n",
    "name = '4등급_경유차_연간배출량'\n",
    "gm4d.iloc[:n].to_excel(os.path.join(ods_fold, f'{name}01({today_date}).xlsx'), index=False)\n",
    "gm4d.iloc[n:].to_excel(os.path.join(ods_fold, f'{name}02({today_date}).xlsx'), index=False)"
   ]
  },
  {
   "attachments": {},
   "cell_type": "markdown",
   "metadata": {},
   "source": [
    "### 5등급\n",
    "- 고려사항\n",
    "    - 조기폐차, 저감장치 부착"
   ]
  },
  {
   "cell_type": "code",
   "execution_count": 355,
   "metadata": {},
   "outputs": [
    {
     "data": {
      "text/plain": [
       "Index(['차량등록번호', '본거지법정동코드', '차대번호', '제원관리번호', '배출가스인증번호', '배출가스등급', '차명',\n",
       "       '차종', '연료', '배기량', '조기폐차최종승인YN', '저감장치', '연간주행거리', '시도', '시구군',\n",
       "       '1일평균주행거리', '검사일자', '검사방법', '검사종류', '검사판정', '무부하매연판정1', '무부하매연판정2',\n",
       "       '무부하매연판정3', '무부하매연측정치1', '무부하매연측정치2', '무부하매연측정치3'],\n",
       "      dtype='object')"
      ]
     },
     "execution_count": 355,
     "metadata": {},
     "output_type": "execute_result"
    }
   ],
   "source": [
    "gm5d.columns"
   ]
  },
  {
   "cell_type": "code",
   "execution_count": 356,
   "metadata": {},
   "outputs": [
    {
     "data": {
      "text/plain": [
       "NaN    1110730\n",
       "Y        13741\n",
       "Name: 조기폐차최종승인YN, dtype: int64"
      ]
     },
     "execution_count": 356,
     "metadata": {},
     "output_type": "execute_result"
    }
   ],
   "source": [
    "gm5d['조기폐차최종승인YN'].value_counts(dropna=False)"
   ]
  },
  {
   "cell_type": "code",
   "execution_count": 357,
   "metadata": {},
   "outputs": [
    {
     "data": {
      "text/plain": [
       "NaN           981349\n",
       "DPF           141326\n",
       "PM-NOx저감장치      1796\n",
       "Name: 저감장치, dtype: int64"
      ]
     },
     "execution_count": 357,
     "metadata": {},
     "output_type": "execute_result"
    }
   ],
   "source": [
    "gm5d['저감장치'].value_counts(dropna=False)"
   ]
  },
  {
   "cell_type": "code",
   "execution_count": 358,
   "metadata": {},
   "outputs": [
    {
     "data": {
      "text/plain": [
       "array(['무부하검사(급가속)', '무부하검사(정지가동)', '부하검사(LUG DOWN)', '부하검사(KD-147)',\n",
       "       '무부하검사(TSI)', '부하검사(ASM-Idling)', nan], dtype=object)"
      ]
     },
     "execution_count": 358,
     "metadata": {},
     "output_type": "execute_result"
    }
   ],
   "source": [
    "gm5d['검사방법'].unique()"
   ]
  },
  {
   "cell_type": "code",
   "execution_count": 359,
   "metadata": {},
   "outputs": [
    {
     "data": {
      "text/plain": [
       "1"
      ]
     },
     "execution_count": 359,
     "metadata": {},
     "output_type": "execute_result"
    }
   ],
   "source": [
    "gm5d['배기량'].isnull().sum()"
   ]
  },
  {
   "cell_type": "code",
   "execution_count": 360,
   "metadata": {},
   "outputs": [
    {
     "data": {
      "text/plain": [
       "무부하매연측정치1    418193\n",
       "무부하매연측정치2    887435\n",
       "무부하매연측정치3    906925\n",
       "dtype: int64"
      ]
     },
     "execution_count": 360,
     "metadata": {},
     "output_type": "execute_result"
    }
   ],
   "source": [
    "gm5d[['무부하매연측정치1', '무부하매연측정치2', '무부하매연측정치3']].isnull().sum()"
   ]
  },
  {
   "cell_type": "code",
   "execution_count": 361,
   "metadata": {},
   "outputs": [
    {
     "data": {
      "text/plain": [
       "0"
      ]
     },
     "execution_count": 361,
     "metadata": {},
     "output_type": "execute_result"
    }
   ],
   "source": [
    "gm5d['연간주행거리'].isnull().sum()"
   ]
  },
  {
   "cell_type": "code",
   "execution_count": 362,
   "metadata": {},
   "outputs": [
    {
     "data": {
      "text/plain": [
       "(1124471, 26)"
      ]
     },
     "execution_count": 362,
     "metadata": {},
     "output_type": "execute_result"
    }
   ],
   "source": [
    "gm5d.shape"
   ]
  },
  {
   "cell_type": "code",
   "execution_count": 363,
   "metadata": {},
   "outputs": [
    {
     "name": "stderr",
     "output_type": "stream",
     "text": [
      "100%|██████████| 1124471/1124471 [00:06<00:00, 163420.69it/s]\n"
     ]
    }
   ],
   "source": [
    "kg_early_list= []\n",
    "kg_dpf_list= []\n",
    "rate = 0.988\n",
    "for early, dpf, method, one, two, three, distance, cc in tqdm(gm5d[['조기폐차최종승인YN', '저감장치', '검사방법', '무부하매연측정치1', '무부하매연측정치2', '무부하매연측정치3', '연간주행거리', '배기량']].values):\n",
    "    cc = cc/1000\n",
    "    if pd.isna(early) == True and pd.isna(dpf) == True:\n",
    "        if method == '무부하검사(급가속)' or method == '무부하검사(정지가동)':\n",
    "            if pd.isna(one) == False and pd.isna(two) == False and pd.isna(three) == False:\n",
    "                emis = (one + two + three) / 3\n",
    "            elif pd.isna(one) == False and pd.isna(two) == True and pd.isna(three) == True:\n",
    "                emis = one\n",
    "            else:\n",
    "                emis = np.nan\n",
    "        elif method == '부하검사(KD-147)':\n",
    "            if pd.isna(one) == False:\n",
    "                emis = one\n",
    "            else:\n",
    "                emis = np.nan\n",
    "        elif method == '부하검사(ASM-Idling)':\n",
    "            if pd.isna(one) == False:\n",
    "                emis = one\n",
    "            else:\n",
    "                emis = np.nan\n",
    "        else:\n",
    "            emis = np.nan\n",
    "        mgkm = (0.0126*(emis**2) + 2.665*emis +3.03) * ( (0.4229*0.001*cc**2 - 1.022*0.001*cc + 1.59)/60 ) * 1/2.16\n",
    "        mgkm_dpf = (0.0126*((emis*rate)**2) + 2.665*(emis*rate) +3.03) * ( (0.4229*0.001*cc**2 - 1.022*0.001*cc + 1.59)/60 ) * 1/2.16\n",
    "        kg = mgkm * distance * 10**(-6)\n",
    "        kg_dpf = mgkm_dpf * distance * 10**(-6)\n",
    "        kg_early_list.append(kg)\n",
    "        kg_dpf_list.append(kg_dpf)\n",
    "\n",
    "    elif pd.isna(early) == True and pd.isna(dpf) == False:\n",
    "        if method == '무부하검사(급가속)' or method == '무부하검사(정지가동)':\n",
    "            if pd.isna(one) == False and pd.isna(two) == False and pd.isna(three) == False:\n",
    "                emis = (one + two + three) / 3\n",
    "            elif pd.isna(one) == False and pd.isna(two) == True and pd.isna(three) == True:\n",
    "                emis = one\n",
    "            else:\n",
    "                emis = np.nan\n",
    "        elif method == '부하검사(KD-147)':\n",
    "            if pd.isna(one) == False:\n",
    "                emis = one\n",
    "            else:\n",
    "                emis = np.nan\n",
    "        elif method == '부하검사(ASM-Idling)':\n",
    "            if pd.isna(one) == False:\n",
    "                emis = one\n",
    "            else:\n",
    "                emis = np.nan\n",
    "        else:\n",
    "            emis = np.nan\n",
    "        mgkm = (0.0126*(emis**2) + 2.665*emis +3.03) * ( (0.4229*0.001*cc**2 - 1.022*0.001*cc + 1.59)/60 ) * 1/2.16\n",
    "        kg = mgkm * distance * 10**(-6)\n",
    "        kg_early_list.append(kg)\n",
    "        kg_dpf_list.append(np.nan)\n",
    "    else:\n",
    "        kg_early_list.append(np.nan)\n",
    "        kg_dpf_list.append(np.nan)"
   ]
  },
  {
   "cell_type": "code",
   "execution_count": 364,
   "metadata": {},
   "outputs": [
    {
     "data": {
      "text/plain": [
       "(1124471, 1124471)"
      ]
     },
     "execution_count": 364,
     "metadata": {},
     "output_type": "execute_result"
    }
   ],
   "source": [
    "len(kg_early_list), len(kg_dpf_list)"
   ]
  },
  {
   "cell_type": "code",
   "execution_count": 365,
   "metadata": {},
   "outputs": [
    {
     "data": {
      "text/plain": [
       "[0.63519381220613,\n",
       " 1.1981247536677817e-05,\n",
       " 1.4950924262216636e-06,\n",
       " 0.00019871972129629627,\n",
       " nan,\n",
       " 0.006917406222163649,\n",
       " 0.006033451250095614,\n",
       " 7.1899355215114054e-06,\n",
       " 0.004999611330821189,\n",
       " 0.003653341647277534]"
      ]
     },
     "execution_count": 365,
     "metadata": {},
     "output_type": "execute_result"
    }
   ],
   "source": [
    "kg_early_list[:10]"
   ]
  },
  {
   "cell_type": "code",
   "execution_count": 366,
   "metadata": {},
   "outputs": [
    {
     "data": {
      "text/plain": [
       "[0.6265197188527512,\n",
       " 1.1866770915369635e-05,\n",
       " 1.4950924262216636e-06,\n",
       " 0.0001969597952170492,\n",
       " nan,\n",
       " 0.006824963500295523,\n",
       " 0.005958749883871181,\n",
       " 7.149271261741866e-06,\n",
       " 0.004941011942243971,\n",
       " 0.0036126628572357784]"
      ]
     },
     "execution_count": 366,
     "metadata": {},
     "output_type": "execute_result"
    }
   ],
   "source": [
    "kg_dpf_list[:10]"
   ]
  },
  {
   "cell_type": "code",
   "execution_count": 368,
   "metadata": {},
   "outputs": [
    {
     "data": {
      "text/plain": [
       "Index(['차량등록번호', '본거지법정동코드', '차대번호', '제원관리번호', '배출가스인증번호', '배출가스등급', '차명',\n",
       "       '차종', '연료', '배기량', '조기폐차최종승인YN', '저감장치', '연간주행거리', '시도', '시구군',\n",
       "       '1일평균주행거리', '검사일자', '검사방법', '검사종류', '검사판정', '무부하매연판정1', '무부하매연판정2',\n",
       "       '무부하매연판정3', '무부하매연측정치1', '무부하매연측정치2', '무부하매연측정치3', '연간배출량_조기폐차',\n",
       "       '연간배출량_DPF'],\n",
       "      dtype='object')"
      ]
     },
     "execution_count": 368,
     "metadata": {},
     "output_type": "execute_result"
    }
   ],
   "source": [
    "gm5d['연간배출량_조기폐차'] = kg_early_list\n",
    "gm5d['연간배출량_DPF'] = kg_dpf_list\n",
    "gm5d.columns"
   ]
  },
  {
   "cell_type": "code",
   "execution_count": 369,
   "metadata": {},
   "outputs": [
    {
     "data": {
      "text/plain": [
       "(1124471, 28)"
      ]
     },
     "execution_count": 369,
     "metadata": {},
     "output_type": "execute_result"
    }
   ],
   "source": [
    "gm5d.shape"
   ]
  },
  {
   "cell_type": "code",
   "execution_count": 370,
   "metadata": {},
   "outputs": [],
   "source": [
    "# 출력 5등급 경유차 연간배출량 정보 추가\n",
    "# about 7m 25.3s\n",
    "n = 500000\n",
    "name = '5등급_경유차_연간배출량'\n",
    "gm5d.iloc[:n].to_excel(os.path.join(ods_fold, f'{name}01({today_date}).xlsx'), index=False)\n",
    "gm5d.iloc[n:].to_excel(os.path.join(ods_fold, f'{name}02({today_date}).xlsx'), index=False)"
   ]
  },
  {
   "attachments": {},
   "cell_type": "markdown",
   "metadata": {},
   "source": [
    "# code end"
   ]
  }
 ],
 "metadata": {
  "kernelspec": {
   "display_name": "base",
   "language": "python",
   "name": "python3"
  },
  "language_info": {
   "codemirror_mode": {
    "name": "ipython",
    "version": 3
   },
   "file_extension": ".py",
   "mimetype": "text/x-python",
   "name": "python",
   "nbconvert_exporter": "python",
   "pygments_lexer": "ipython3",
   "version": "3.9.13"
  },
  "orig_nbformat": 4,
  "vscode": {
   "interpreter": {
    "hash": "ad2bdc8ecc057115af97d19610ffacc2b4e99fae6737bb82f5d7fb13d2f2c186"
   }
  }
 },
 "nbformat": 4,
 "nbformat_minor": 2
}
