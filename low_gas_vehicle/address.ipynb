{
 "cells": [
  {
   "cell_type": "markdown",
   "metadata": {},
   "source": [
    "# 주소 정리"
   ]
  },
  {
   "cell_type": "markdown",
   "metadata": {},
   "source": [
    "## library"
   ]
  },
  {
   "cell_type": "code",
   "execution_count": 2,
   "metadata": {},
   "outputs": [],
   "source": [
    "import pandas as pd\n",
    "import numpy as np\n",
    "import matplotlib.pyplot as plt\n",
    "import re\n",
    "from tqdm import tqdm"
   ]
  },
  {
   "cell_type": "markdown",
   "metadata": {},
   "source": [
    "## 데이터 로드"
   ]
  },
  {
   "cell_type": "code",
   "execution_count": 28,
   "metadata": {},
   "outputs": [
    {
     "name": "stdout",
     "output_type": "stream",
     "text": [
      "<class 'pandas.core.frame.DataFrame'>\n",
      "Index: 11665822 entries, 강원도 to 서울특별시\n",
      "Data columns (total 2 columns):\n",
      " #   Column  Dtype \n",
      "---  ------  ----- \n",
      " 0   시군구     object\n",
      " 1   주소      object\n",
      "dtypes: object(2)\n",
      "memory usage: 267.0+ MB\n"
     ]
    }
   ],
   "source": [
    "df = pd.read_csv('2020-22년_급속충전.csv', index_col=0, usecols=['주소', '지역', '시군구'])\n",
    "df.info()"
   ]
  },
  {
   "cell_type": "code",
   "execution_count": 29,
   "metadata": {},
   "outputs": [
    {
     "data": {
      "text/html": [
       "<div>\n",
       "<style scoped>\n",
       "    .dataframe tbody tr th:only-of-type {\n",
       "        vertical-align: middle;\n",
       "    }\n",
       "\n",
       "    .dataframe tbody tr th {\n",
       "        vertical-align: top;\n",
       "    }\n",
       "\n",
       "    .dataframe thead th {\n",
       "        text-align: right;\n",
       "    }\n",
       "</style>\n",
       "<table border=\"1\" class=\"dataframe\">\n",
       "  <thead>\n",
       "    <tr style=\"text-align: right;\">\n",
       "      <th></th>\n",
       "      <th>지역</th>\n",
       "      <th>시군구</th>\n",
       "      <th>주소</th>\n",
       "    </tr>\n",
       "  </thead>\n",
       "  <tbody>\n",
       "    <tr>\n",
       "      <th>0</th>\n",
       "      <td>강원도</td>\n",
       "      <td>인제군</td>\n",
       "      <td>강원도 인제군 상남면 하남리 339-7(양양방향)</td>\n",
       "    </tr>\n",
       "    <tr>\n",
       "      <th>1</th>\n",
       "      <td>강원도</td>\n",
       "      <td>인제군</td>\n",
       "      <td>강원도 인제군 상남면 하남리 339-7(양양방향)</td>\n",
       "    </tr>\n",
       "    <tr>\n",
       "      <th>2</th>\n",
       "      <td>강원도</td>\n",
       "      <td>인제군</td>\n",
       "      <td>강원도 인제군 상남면 하남리 339-7(양양방향)</td>\n",
       "    </tr>\n",
       "    <tr>\n",
       "      <th>3</th>\n",
       "      <td>강원도</td>\n",
       "      <td>인제군</td>\n",
       "      <td>강원도 인제군 상남면 하남리 339-7(양양방향)</td>\n",
       "    </tr>\n",
       "    <tr>\n",
       "      <th>4</th>\n",
       "      <td>광주광역시</td>\n",
       "      <td>북구</td>\n",
       "      <td>광주광역시 북구 첨단 벤처로 108번길 9</td>\n",
       "    </tr>\n",
       "  </tbody>\n",
       "</table>\n",
       "</div>"
      ],
      "text/plain": [
       "      지역  시군구                           주소\n",
       "0    강원도  인제군  강원도 인제군 상남면 하남리 339-7(양양방향)\n",
       "1    강원도  인제군  강원도 인제군 상남면 하남리 339-7(양양방향)\n",
       "2    강원도  인제군  강원도 인제군 상남면 하남리 339-7(양양방향)\n",
       "3    강원도  인제군  강원도 인제군 상남면 하남리 339-7(양양방향)\n",
       "4  광주광역시   북구      광주광역시 북구 첨단 벤처로 108번길 9"
      ]
     },
     "execution_count": 29,
     "metadata": {},
     "output_type": "execute_result"
    }
   ],
   "source": [
    "df = df.reset_index()\n",
    "df.head()"
   ]
  },
  {
   "cell_type": "code",
   "execution_count": 262,
   "metadata": {},
   "outputs": [
    {
     "data": {
      "text/plain": [
       "4364"
      ]
     },
     "execution_count": 262,
     "metadata": {},
     "output_type": "execute_result"
    }
   ],
   "source": [
    "adr_uni = df['주소'].unique()\n",
    "len(adr_uni)"
   ]
  },
  {
   "cell_type": "code",
   "execution_count": 263,
   "metadata": {},
   "outputs": [
    {
     "name": "stdout",
     "output_type": "stream",
     "text": [
      "<class 'pandas.core.frame.DataFrame'>\n",
      "RangeIndex: 4364 entries, 0 to 4363\n",
      "Data columns (total 3 columns):\n",
      " #   Column  Non-Null Count  Dtype \n",
      "---  ------  --------------  ----- \n",
      " 0   지역      4364 non-null   object\n",
      " 1   시군구     4364 non-null   object\n",
      " 2   주소      4364 non-null   object\n",
      "dtypes: object(3)\n",
      "memory usage: 102.4+ KB\n"
     ]
    }
   ],
   "source": [
    "df2 = df.drop_duplicates(['주소']).reset_index(drop=True)\n",
    "df2.info()"
   ]
  },
  {
   "cell_type": "code",
   "execution_count": 264,
   "metadata": {},
   "outputs": [
    {
     "data": {
      "text/plain": [
       "4364"
      ]
     },
     "execution_count": 264,
     "metadata": {},
     "output_type": "execute_result"
    }
   ],
   "source": [
    "adr = df2['주소'].to_numpy()\n",
    "len(adr)"
   ]
  },
  {
   "cell_type": "markdown",
   "metadata": {},
   "source": [
    "### 특이주소 처리"
   ]
  },
  {
   "cell_type": "code",
   "execution_count": 265,
   "metadata": {},
   "outputs": [],
   "source": [
    "# 경상북도 경주시 천원2길 9 경북 경주시 교동 153-5\n",
    "# 충청북도 단양군 영춘면 온달평강3로 9 온달평강3로 9-1\n",
    "# 광주광역시 북구 첨단 벤처로 108번길 9"
   ]
  },
  {
   "cell_type": "code",
   "execution_count": 266,
   "metadata": {},
   "outputs": [
    {
     "data": {
      "text/plain": [
       "1"
      ]
     },
     "execution_count": 266,
     "metadata": {},
     "output_type": "execute_result"
    }
   ],
   "source": [
    "count = 0\n",
    "for i, one in enumerate(adr):\n",
    "    if '경상북도 경주시 천원2길 9 경북 경주시 교동 153-5' in one:\n",
    "        adr[i] = '경상북도 경주시 교동 천원2길 9'\n",
    "        count += 1\n",
    "count"
   ]
  },
  {
   "cell_type": "code",
   "execution_count": 267,
   "metadata": {},
   "outputs": [
    {
     "data": {
      "text/plain": [
       "1"
      ]
     },
     "execution_count": 267,
     "metadata": {},
     "output_type": "execute_result"
    }
   ],
   "source": [
    "count = 0\n",
    "for i, one in enumerate(adr):\n",
    "    if '충청북도 단양군 영춘면 온달평강3로 9 온달평강3로 9-1' in one:\n",
    "        adr[i] = '충청북도 단양군 영춘면 온달평강3로 9'\n",
    "        count += 1\n",
    "count"
   ]
  },
  {
   "cell_type": "code",
   "execution_count": 268,
   "metadata": {},
   "outputs": [
    {
     "data": {
      "text/plain": [
       "1"
      ]
     },
     "execution_count": 268,
     "metadata": {},
     "output_type": "execute_result"
    }
   ],
   "source": [
    "count = 0\n",
    "for i, one in enumerate(adr):\n",
    "    if '광주광역시 북구 첨단 벤처로 108번길 9' in one:\n",
    "        adr[i] = '광주광역시 북구 첨단벤처로108번길 9'\n",
    "        count += 1\n",
    "count"
   ]
  },
  {
   "cell_type": "markdown",
   "metadata": {},
   "source": [
    "### 빈칸 2개 -> 1개"
   ]
  },
  {
   "cell_type": "code",
   "execution_count": 269,
   "metadata": {},
   "outputs": [
    {
     "data": {
      "text/plain": [
       "128"
      ]
     },
     "execution_count": 269,
     "metadata": {},
     "output_type": "execute_result"
    }
   ],
   "source": [
    "count = 0\n",
    "for i, one in enumerate(adr):\n",
    "    if '  ' in one:\n",
    "        adr[i] = one.replace('  ', ' ')\n",
    "        count += 1\n",
    "count"
   ]
  },
  {
   "cell_type": "markdown",
   "metadata": {},
   "source": [
    "### 컴마(,) 제거"
   ]
  },
  {
   "cell_type": "code",
   "execution_count": 270,
   "metadata": {},
   "outputs": [
    {
     "data": {
      "text/plain": [
       "324"
      ]
     },
     "execution_count": 270,
     "metadata": {},
     "output_type": "execute_result"
    }
   ],
   "source": [
    "count = 0\n",
    "for i, one in enumerate(adr):\n",
    "    if ',' in one:\n",
    "        adr[i] = one.replace(',', '')\n",
    "        count += 1\n",
    "count"
   ]
  },
  {
   "cell_type": "markdown",
   "metadata": {},
   "source": [
    "### 복수 주소 오류\n",
    "- 한주소에 2개 주소 들어있는 오류\n",
    "- 동일지역 : 56\n",
    "- 다른지역 : 2"
   ]
  },
  {
   "cell_type": "markdown",
   "metadata": {},
   "source": [
    "#### 동일지역"
   ]
  },
  {
   "cell_type": "code",
   "execution_count": 271,
   "metadata": {},
   "outputs": [
    {
     "data": {
      "text/plain": [
       "(array([2608], dtype=int64),)"
      ]
     },
     "execution_count": 271,
     "metadata": {},
     "output_type": "execute_result"
    }
   ],
   "source": [
    "np.where(adr == '전라남도 무안군 망운면 운해로 1436-10 전라남도 함평군 신광면 학동로 1398-9')"
   ]
  },
  {
   "cell_type": "code",
   "execution_count": 272,
   "metadata": {},
   "outputs": [
    {
     "data": {
      "text/plain": [
       "'전라남도 무안군 망운면 운해로 1436-10 전라남도 함평군 신광면 학동로 1398-9'"
      ]
     },
     "execution_count": 272,
     "metadata": {},
     "output_type": "execute_result"
    }
   ],
   "source": [
    "adr[2608]"
   ]
  },
  {
   "cell_type": "code",
   "execution_count": 273,
   "metadata": {},
   "outputs": [],
   "source": [
    "si = df2['시군구'].to_numpy()"
   ]
  },
  {
   "cell_type": "code",
   "execution_count": 274,
   "metadata": {},
   "outputs": [
    {
     "name": "stderr",
     "output_type": "stream",
     "text": [
      "4364it [00:00, 312882.56it/s]\n"
     ]
    },
    {
     "data": {
      "text/plain": [
       "56"
      ]
     },
     "execution_count": 274,
     "metadata": {},
     "output_type": "execute_result"
    }
   ],
   "source": [
    "count = 0\n",
    "for i, one in tqdm(enumerate(adr)):\n",
    "    first = list(one.split())[0]\n",
    "    one = one.replace(' ' + first, '$' + first)\n",
    "    multi_adr = list(one.split('$'))\n",
    "    if len(multi_adr) == 2:\n",
    "        count += 1\n",
    "        for j, two in enumerate(multi_adr):\n",
    "            if si[i] in two:\n",
    "                adr[i] = multi_adr[j]\n",
    "count"
   ]
  },
  {
   "cell_type": "code",
   "execution_count": 275,
   "metadata": {},
   "outputs": [
    {
     "data": {
      "text/plain": [
       "'전라남도 무안군 망운면 운해로 1436-10'"
      ]
     },
     "execution_count": 275,
     "metadata": {},
     "output_type": "execute_result"
    }
   ],
   "source": [
    "adr[2608]"
   ]
  },
  {
   "cell_type": "markdown",
   "metadata": {},
   "source": [
    "#### 다른지역"
   ]
  },
  {
   "cell_type": "code",
   "execution_count": 276,
   "metadata": {},
   "outputs": [],
   "source": [
    "sep = ' 광주광역시| 전라남도| 전라북도| 제주특별자치도| 세종특별자치시| 서울특별시| 대전광역시| 경기도| 인천광역시| 경상남도| 강원도| 충청북도| 경상북도| 충청남도| 울산광역시| 대구광역시| 부산광역시'"
   ]
  },
  {
   "cell_type": "code",
   "execution_count": 277,
   "metadata": {},
   "outputs": [
    {
     "name": "stderr",
     "output_type": "stream",
     "text": [
      "4364it [00:00, 312727.54it/s]\n"
     ]
    },
    {
     "data": {
      "text/plain": [
       "2"
      ]
     },
     "execution_count": 277,
     "metadata": {},
     "output_type": "execute_result"
    }
   ],
   "source": [
    "count = 0\n",
    "for i, one in tqdm(enumerate(adr)):\n",
    "    multi_local = list(re.split(sep, one))\n",
    "    if len(multi_local) == 2:\n",
    "        count += 1\n",
    "count"
   ]
  },
  {
   "cell_type": "code",
   "execution_count": 278,
   "metadata": {},
   "outputs": [],
   "source": [
    "rep_dict = {\" 광주광역시\":\"$광주광역시\" ,\" 전라남도\":\"$전라남도\",\" 전라북도\":\"$전라북도\",\" 제주특별자치도\":\"$제주특별자치도\",\" 세종특별자치시\":\"$세종특별자치시\",\" 서울특별시\":\"$서울특별시\",\" 대전광역시\":\"$대전광역시\",\" 경기도\":\"$경기도\",\" 인천광역시\":\"$인천광역시\",\" 경상남도\":\"$경상남도\",\" 강원도\":\"$강원도\",\" 충청북도\":\"$충청북도\",\" 경상북도\":\"$경상북도\",\" 충청남도\":\"$충청남도\",\" 울산광역시\":\"$울산광역시\",\" 대구광역시\":\"$대구광역시\",\" 부산광역시\":\"$부산광역시\"}"
   ]
  },
  {
   "cell_type": "code",
   "execution_count": 279,
   "metadata": {},
   "outputs": [
    {
     "data": {
      "text/plain": [
       "(array([2456], dtype=int64),)"
      ]
     },
     "execution_count": 279,
     "metadata": {},
     "output_type": "execute_result"
    }
   ],
   "source": [
    "np.where(adr == '전라북도 순창군 풍산면 반월리 12-4 충청남도 공주시 탄천면 삼각리 523-2')"
   ]
  },
  {
   "cell_type": "code",
   "execution_count": 280,
   "metadata": {},
   "outputs": [
    {
     "data": {
      "text/plain": [
       "'전라북도 순창군 풍산면 반월리 12-4 충청남도 공주시 탄천면 삼각리 523-2'"
      ]
     },
     "execution_count": 280,
     "metadata": {},
     "output_type": "execute_result"
    }
   ],
   "source": [
    "adr[2456]"
   ]
  },
  {
   "cell_type": "code",
   "execution_count": 281,
   "metadata": {},
   "outputs": [
    {
     "name": "stderr",
     "output_type": "stream",
     "text": [
      "4364it [00:00, 160837.43it/s]\n"
     ]
    },
    {
     "data": {
      "text/plain": [
       "2"
      ]
     },
     "execution_count": 281,
     "metadata": {},
     "output_type": "execute_result"
    }
   ],
   "source": [
    "count = 0\n",
    "for i, one in tqdm(enumerate(adr)):\n",
    "    for k, v in rep_dict.items():\n",
    "        one = one.replace(k, v)\n",
    "    multi_adr = list(one.split('$'))\n",
    "    if len(multi_adr) == 2:\n",
    "        count += 1\n",
    "        for j, two in enumerate(multi_adr):\n",
    "            if si[i] in two:\n",
    "                adr[i] = multi_adr[j]\n",
    "count"
   ]
  },
  {
   "cell_type": "code",
   "execution_count": 282,
   "metadata": {},
   "outputs": [
    {
     "data": {
      "text/plain": [
       "'전라북도 순창군 풍산면 반월리 12-4'"
      ]
     },
     "execution_count": 282,
     "metadata": {},
     "output_type": "execute_result"
    }
   ],
   "source": [
    "adr[2456]"
   ]
  },
  {
   "cell_type": "code",
   "execution_count": 283,
   "metadata": {},
   "outputs": [
    {
     "data": {
      "text/plain": [
       "'서울특별시 성동구 광나루로4가길 23'"
      ]
     },
     "execution_count": 283,
     "metadata": {},
     "output_type": "execute_result"
    }
   ],
   "source": [
    "adr[44]"
   ]
  },
  {
   "cell_type": "markdown",
   "metadata": {},
   "source": [
    "### 도로명 주소 정리\n",
    "- [길 숫자] 분리\n",
    "- [로 숫자] 분리\n",
    "- -문자 (숫자)(번)길 붙이기\n",
    "    - [로 숫자(번)길] 붙이기\n",
    "    - [앙 (숫자)길] 붙이기\n",
    "    - [장 (숫자)길] 붙이기\n",
    "    - [솜 (숫자)로] 붙이기\n",
    "    - [길 (숫자)번길] 붙이기\n",
    "    - [터 (숫자)길] 붙이기\n",
    "    - [개 (숫자)길] 붙이기"
   ]
  },
  {
   "cell_type": "markdown",
   "metadata": {},
   "source": [
    "#### [분리] -길 숫자\n",
    "- 주의\n",
    "    - 743, 서울특별시 영등포구 신길1동 116-15\n",
    "    - 3673, 경상북도 포항시 남구 구룡포읍 구룡포길117번길 28-8"
   ]
  },
  {
   "cell_type": "code",
   "execution_count": 284,
   "metadata": {},
   "outputs": [
    {
     "data": {
      "text/plain": [
       "(array([15], dtype=int64),)"
      ]
     },
     "execution_count": 284,
     "metadata": {},
     "output_type": "execute_result"
    }
   ],
   "source": [
    "np.where(adr == '전라북도 전주시 완산구 신촌3길24번지')"
   ]
  },
  {
   "cell_type": "code",
   "execution_count": 285,
   "metadata": {},
   "outputs": [
    {
     "data": {
      "text/plain": [
       "'전라북도 전주시 완산구 신촌3길24번지'"
      ]
     },
     "execution_count": 285,
     "metadata": {},
     "output_type": "execute_result"
    }
   ],
   "source": [
    "adr[15]"
   ]
  },
  {
   "cell_type": "code",
   "execution_count": 286,
   "metadata": {},
   "outputs": [
    {
     "data": {
      "text/plain": [
       "'전라북도 전주시 완산구 신촌3길 24번지'"
      ]
     },
     "execution_count": 286,
     "metadata": {},
     "output_type": "execute_result"
    }
   ],
   "source": [
    "s = adr[15]\n",
    "split1 = re.compile('([가-힣0-9]+길)([0-9]+)')\n",
    "split1.sub('\\g<1> \\g<2>', s)"
   ]
  },
  {
   "cell_type": "code",
   "execution_count": 287,
   "metadata": {},
   "outputs": [
    {
     "data": {
      "text/plain": [
       "'서울특별시 영등포구 신길1동 116-15'"
      ]
     },
     "execution_count": 287,
     "metadata": {},
     "output_type": "execute_result"
    }
   ],
   "source": [
    "adr[743]"
   ]
  },
  {
   "cell_type": "code",
   "execution_count": 288,
   "metadata": {},
   "outputs": [
    {
     "data": {
      "text/plain": [
       "'서울특별시 영등포구 신길 1동 116-15'"
      ]
     },
     "execution_count": 288,
     "metadata": {},
     "output_type": "execute_result"
    }
   ],
   "source": [
    "s = adr[743]\n",
    "split1.sub('\\g<1> \\g<2>', s)"
   ]
  },
  {
   "cell_type": "code",
   "execution_count": 289,
   "metadata": {},
   "outputs": [
    {
     "data": {
      "text/plain": [
       "'경상북도 포항시 남구 구룡포읍 구룡포길117번길 28-8'"
      ]
     },
     "execution_count": 289,
     "metadata": {},
     "output_type": "execute_result"
    }
   ],
   "source": [
    "adr[3673]"
   ]
  },
  {
   "cell_type": "code",
   "execution_count": 290,
   "metadata": {},
   "outputs": [
    {
     "data": {
      "text/plain": [
       "'경상북도 포항시 남구 구룡포읍 구룡포길 117번길 28-8'"
      ]
     },
     "execution_count": 290,
     "metadata": {},
     "output_type": "execute_result"
    }
   ],
   "source": [
    "s = adr[3673]\n",
    "split1.sub('\\g<1> \\g<2>', s)"
   ]
  },
  {
   "cell_type": "code",
   "execution_count": 291,
   "metadata": {},
   "outputs": [
    {
     "name": "stdout",
     "output_type": "stream",
     "text": [
      "15 전라북도 전주시 완산구 신촌3길24번지\n",
      "120 충청북도 제천시 의림대로42길34\n",
      "547 서울특별시 송파구 오금로68길8\n",
      "559 제주특별자치도 제주시 한림읍 금악서길133\n",
      "717 서울특별시 송파구 성내천로33가길20\n",
      "743 서울특별시 영등포구 신길1동 116-15\n",
      "834 경상남도 거창군 거창읍 심소정길39-36\n",
      "887 경기도 파주시 탄현면 헤이리마을길82-105\n",
      "1000 제주특별자치도 제주시 조천읍 선흘서5길7\n",
      "1201 강원도 삼척시 수로부인길453\n",
      "1332 충청북도 청주시 흥덕구 직지대로620번길70\n",
      "1342 충청북도 괴산군 청안면 청안읍내로2길10\n",
      "1479 경기도 양평군 개군면 하자포길33번길 8\n",
      "1570 경상북도 포항시 북구 흥해읍 초곡길36번길 30\n",
      "1675 충청북도 괴산군 불정면 목도로2길11\n",
      "1819 울산광역시 중구 단장골길1\n",
      "1854 강원도 철원군 동송읍 이평2로17번길32\n",
      "1919 강원도 삼척시 근덕면 상맹방길30-80\n",
      "1951 충청북도 괴산군 장연면 미선로오가5길7\n",
      "1954 경상남도 함양군 안의면 농월정길9-13\n",
      "2058 울산광역시 울주군 웅촌면 새초천길12\n",
      "2162 서울특별시 강서구 화곡로65길62\n",
      "2586 경상북도 의성군 비안면 강변길59\n",
      "2694 경상북도 포항시 장기면 양포항길12\n",
      "2747 부산광역시 강서구 공항진입로42번길20\n",
      "2780 제주특별자치도 제주시 용두암길15\n",
      "2851 강원도 태백시 보드미길8(장성동)\n",
      "2970 경상남도 합천군 합천읍 교동1길33\n",
      "2976 울산광역시 울주군 삼동면 보삼길550\n",
      "2979 충청북도 괴산군 칠성면 명태재로외사4길1\n",
      "2990 강원도 강릉시 성산면 삼포암길133\n",
      "2999 경상남도 창녕군 길곡면 증산2길19\n",
      "3008 경상북도 칠곡군 동명면 남원로5길77\n",
      "3017 충청남도 부여군 양화면 입포로53번길6\n",
      "3025 경상남도 김해시 삼안로 112번길20-61\n",
      "3030 경상북도 봉화군 봉성면 부랭이길88\n",
      "3042 인천광역시 중구 신포로27번길80\n",
      "3043 전라남도 보성군 용문길18\n",
      "3059 전라남도 보성군 미력면 가평길44\n",
      "3061 경상북도 영양군 영양읍 군청길37\n",
      "3069 경상남도 창원시 마산합포구 현동7길27\n",
      "3073 대전광역시 유성구 송림로 19번길35\n",
      "3078 대구광역시 동구 첨단로8길32\n",
      "3079 충청남도 논산시 산양1길2\n",
      "3088 경상남도 함양군 함양읍 삼휴길60-30\n",
      "3101 대전광역시 유성구 노은동로 87번길89\n",
      "3152 충청북도 영동군 황간면 원촌동1길54-8\n",
      "3165 경상북도 봉화군 춘양면 의양로5길19\n",
      "3174 경상북도 청송군 현서면 달정길9\n",
      "3177 경상북도 청송군 주왕산면 이전앞길27\n",
      "3189 경상북도 영양군 영양읍 군민회관길46\n",
      "3192 경상북도 청송군 진보면 이촌1길23-1\n",
      "3197 충청북도 제천시 내토로16안길8-1\n",
      "3211 충청북도 영동군 용화면 휴양림길60\n",
      "3224 경기도 시흥시 시흥대로268번길8\n",
      "3272 강원도 춘천시 칠전동길28\n",
      "3273 전라북도 군산시 창길21\n",
      "3324 전라북도 군산시 미장8길7\n",
      "3376 경상북도 영주시 중앙로63번길41-11\n",
      "3387 전라남도 목포시 남악로162번길25\n",
      "3396 울산광역시 울주군 청량읍 처용산업4길51\n",
      "3399 전라남도 보성군 회천면 우암길21\n",
      "3401 충청남도 금산군 금성면 의총길25\n",
      "3413 경상북도 구미시 광평길55\n",
      "3415 전라북도 익산시 익산대로 52길27\n",
      "3419 경상남도 창원시 의창구 태복산로15번길8\n",
      "3424 경상남도 진주시 가좌길29번길63\n",
      "3438 경상북도 칠곡군 왜관읍 평장3길47\n",
      "3550 경상북도 안동시 학가산온천길42\n",
      "3673 경상북도 포항시 남구 구룡포읍 구룡포길117번길 28-8\n",
      "3742 경상남도 창원시 의창구 사림로 99번길63\n"
     ]
    },
    {
     "data": {
      "text/plain": [
       "71"
      ]
     },
     "execution_count": 291,
     "metadata": {},
     "output_type": "execute_result"
    }
   ],
   "source": [
    "count = 0\n",
    "idx = []\n",
    "for i, one in enumerate(adr):\n",
    "    if split1.search(one):\n",
    "        print(i, one)\n",
    "        idx.append(i)\n",
    "        count += 1\n",
    "count"
   ]
  },
  {
   "cell_type": "code",
   "execution_count": 292,
   "metadata": {},
   "outputs": [
    {
     "data": {
      "text/plain": [
       "71"
      ]
     },
     "execution_count": 292,
     "metadata": {},
     "output_type": "execute_result"
    }
   ],
   "source": [
    "len(idx)"
   ]
  },
  {
   "cell_type": "code",
   "execution_count": 66,
   "metadata": {},
   "outputs": [
    {
     "data": {
      "text/plain": [
       "'전라북도 전주시 완산구 신촌3길 24번지'"
      ]
     },
     "execution_count": 66,
     "metadata": {},
     "output_type": "execute_result"
    }
   ],
   "source": [
    "# 15 전라북도 전주시 완산구 신촌3길24번지\n",
    "# 120 충청북도 제천시 의림대로42길34\n",
    "# 547 서울특별시 송파구 오금로68길8\n",
    "# 559 제주특별자치도 제주시 한림읍 금악서길133\n",
    "# 717 서울특별시 송파구 성내천로33가길20\n",
    "\n",
    "# 834 경상남도 거창군 거창읍 심소정길39-36\n",
    "# 887 경기도 파주시 탄현면 헤이리마을길82-105\n",
    "# 1000 제주특별자치도 제주시 조천읍 선흘서5길7\n",
    "# 1201 강원도 삼척시 수로부인길453\n",
    "# 1332 충청북도 청주시 흥덕구 직지대로620번길70\n",
    "# 1342 충청북도 괴산군 청안면 청안읍내로2길10\n",
    "\n",
    "\n",
    "# 1675 충청북도 괴산군 불정면 목도로2길11\n",
    "# 1819 울산광역시 중구 단장골길1\n",
    "# 1854 강원도 철원군 동송읍 이평2로17번길32\n",
    "# 1919 강원도 삼척시 근덕면 상맹방길30-80\n",
    "# 1951 충청북도 괴산군 장연면 미선로오가5길7\n",
    "# 1954 경상남도 함양군 안의면 농월정길9-13\n",
    "# 2058 울산광역시 울주군 웅촌면 새초천길12\n",
    "# 2162 서울특별시 강서구 화곡로65길62\n",
    "# 2586 경상북도 의성군 비안면 강변길59\n",
    "# 2694 경상북도 포항시 장기면 양포항길12\n",
    "# 2747 부산광역시 강서구 공항진입로42번길20\n",
    "# 2780 제주특별자치도 제주시 용두암길15\n",
    "# 2851 강원도 태백시 보드미길8(장성동)\n",
    "# 2970 경상남도 합천군 합천읍 교동1길33\n",
    "# 2976 울산광역시 울주군 삼동면 보삼길550\n",
    "# 2979 충청북도 괴산군 칠성면 명태재로외사4길1\n",
    "# 2990 강원도 강릉시 성산면 삼포암길133\n",
    "# 2999 경상남도 창녕군 길곡면 증산2길19\n",
    "# 3008 경상북도 칠곡군 동명면 남원로5길77\n",
    "# 3017 충청남도 부여군 양화면 입포로53번길6\n",
    "# 3025 경상남도 김해시 삼안로 112번길20-61\n",
    "# 3030 경상북도 봉화군 봉성면 부랭이길88\n",
    "# 3042 인천광역시 중구 신포로27번길80\n",
    "# 3043 전라남도 보성군 용문길18\n",
    "# 3059 전라남도 보성군 미력면 가평길44\n",
    "# 3061 경상북도 영양군 영양읍 군청길37\n",
    "# 3069 경상남도 창원시 마산합포구 현동7길27\n",
    "# 3073 대전광역시 유성구 송림로 19번길35\n",
    "# 3078 대구광역시 동구 첨단로8길32\n",
    "# 3079 충청남도 논산시 산양1길2\n",
    "# 3088 경상남도 함양군 함양읍 삼휴길60-30\n",
    "# 3101 대전광역시 유성구 노은동로 87번길89\n",
    "# 3152 충청북도 영동군 황간면 원촌동1길54-8\n",
    "# 3165 경상북도 봉화군 춘양면 의양로5길19\n",
    "# 3174 경상북도 청송군 현서면 달정길9\n",
    "# 3177 경상북도 청송군 주왕산면 이전앞길27\n",
    "# 3189 경상북도 영양군 영양읍 군민회관길46\n",
    "# 3192 경상북도 청송군 진보면 이촌1길23-1\n",
    "# 3197 충청북도 제천시 내토로16안길8-1\n",
    "# 3211 충청북도 영동군 용화면 휴양림길60\n",
    "# 3224 경기도 시흥시 시흥대로268번길8\n",
    "# 3272 강원도 춘천시 칠전동길28\n",
    "# 3273 전라북도 군산시 창길21\n",
    "# 3324 전라북도 군산시 미장8길7\n",
    "# 3376 경상북도 영주시 중앙로63번길41-11\n",
    "# 3387 전라남도 목포시 남악로162번길25\n",
    "# 3396 울산광역시 울주군 청량읍 처용산업4길51\n",
    "# 3399 전라남도 보성군 회천면 우암길21\n",
    "# 3401 충청남도 금산군 금성면 의총길25\n",
    "# 3413 경상북도 구미시 광평길55\n",
    "# 3415 전라북도 익산시 익산대로 52길27\n",
    "# 3419 경상남도 창원시 의창구 태복산로15번길8\n",
    "# 3424 경상남도 진주시 가좌길29번길63\n",
    "# 3438 경상북도 칠곡군 왜관읍 평장3길47\n",
    "# 3550 경상북도 안동시 학가산온천길42\n",
    "# 3673 경상북도 포항시 남구 구룡포읍 구룡포길117번길 28-8\n",
    "# 3742 경상남도 창원시 의창구 사림로 99번길63"
   ]
  },
  {
   "cell_type": "code",
   "execution_count": 259,
   "metadata": {},
   "outputs": [
    {
     "data": {
      "text/plain": [
       "'전라북도 전주시 완산구 신촌3길24번지'"
      ]
     },
     "execution_count": 259,
     "metadata": {},
     "output_type": "execute_result"
    }
   ],
   "source": [
    "adr[15]"
   ]
  },
  {
   "cell_type": "code",
   "execution_count": 260,
   "metadata": {},
   "outputs": [
    {
     "data": {
      "text/plain": [
       "'전라북도 전주시 완산구 신촌3길 24번지'"
      ]
     },
     "execution_count": 260,
     "metadata": {},
     "output_type": "execute_result"
    }
   ],
   "source": [
    "adr[15] = adr[15].replace('24번지', ' 24번지')\n",
    "adr[15]"
   ]
  },
  {
   "cell_type": "code",
   "execution_count": 261,
   "metadata": {},
   "outputs": [
    {
     "data": {
      "text/plain": [
       "'충청북도 제천시 의림대로42길34'"
      ]
     },
     "execution_count": 261,
     "metadata": {},
     "output_type": "execute_result"
    }
   ],
   "source": [
    "adr[120]"
   ]
  },
  {
   "cell_type": "code",
   "execution_count": null,
   "metadata": {},
   "outputs": [],
   "source": []
  },
  {
   "cell_type": "code",
   "execution_count": null,
   "metadata": {},
   "outputs": [],
   "source": []
  },
  {
   "cell_type": "code",
   "execution_count": null,
   "metadata": {},
   "outputs": [],
   "source": []
  },
  {
   "cell_type": "code",
   "execution_count": null,
   "metadata": {},
   "outputs": [],
   "source": []
  },
  {
   "cell_type": "code",
   "execution_count": null,
   "metadata": {},
   "outputs": [],
   "source": []
  },
  {
   "cell_type": "code",
   "execution_count": null,
   "metadata": {},
   "outputs": [],
   "source": []
  },
  {
   "cell_type": "code",
   "execution_count": null,
   "metadata": {},
   "outputs": [],
   "source": []
  },
  {
   "cell_type": "code",
   "execution_count": null,
   "metadata": {},
   "outputs": [],
   "source": []
  },
  {
   "cell_type": "code",
   "execution_count": null,
   "metadata": {},
   "outputs": [],
   "source": []
  },
  {
   "cell_type": "code",
   "execution_count": null,
   "metadata": {},
   "outputs": [],
   "source": []
  },
  {
   "cell_type": "code",
   "execution_count": null,
   "metadata": {},
   "outputs": [],
   "source": []
  },
  {
   "cell_type": "code",
   "execution_count": null,
   "metadata": {},
   "outputs": [],
   "source": []
  },
  {
   "cell_type": "code",
   "execution_count": null,
   "metadata": {},
   "outputs": [],
   "source": []
  },
  {
   "cell_type": "code",
   "execution_count": null,
   "metadata": {},
   "outputs": [],
   "source": []
  },
  {
   "cell_type": "code",
   "execution_count": null,
   "metadata": {},
   "outputs": [],
   "source": []
  },
  {
   "cell_type": "code",
   "execution_count": null,
   "metadata": {},
   "outputs": [],
   "source": []
  },
  {
   "cell_type": "markdown",
   "metadata": {},
   "source": [
    "#### [분리] -로 숫자"
   ]
  },
  {
   "cell_type": "code",
   "execution_count": 53,
   "metadata": {},
   "outputs": [
    {
     "data": {
      "text/plain": [
       "(array([85], dtype=int64),)"
      ]
     },
     "execution_count": 53,
     "metadata": {},
     "output_type": "execute_result"
    }
   ],
   "source": [
    "np.where(adr == '경기도 이천시 마장면 중부고속도로82')"
   ]
  },
  {
   "cell_type": "code",
   "execution_count": 54,
   "metadata": {},
   "outputs": [
    {
     "data": {
      "text/plain": [
       "'경기도 이천시 마장면 중부고속도로82'"
      ]
     },
     "execution_count": 54,
     "metadata": {},
     "output_type": "execute_result"
    }
   ],
   "source": [
    "adr[85]"
   ]
  },
  {
   "cell_type": "code",
   "execution_count": 57,
   "metadata": {},
   "outputs": [
    {
     "data": {
      "text/plain": [
       "(array([1062], dtype=int64),)"
      ]
     },
     "execution_count": 57,
     "metadata": {},
     "output_type": "execute_result"
    }
   ],
   "source": [
    "np.where(adr == '부산광역시 중구 중앙대로2 (중앙동7가)')"
   ]
  },
  {
   "cell_type": "code",
   "execution_count": 58,
   "metadata": {},
   "outputs": [
    {
     "data": {
      "text/plain": [
       "'부산광역시 중구 중앙대로2 (중앙동7가)'"
      ]
     },
     "execution_count": 58,
     "metadata": {},
     "output_type": "execute_result"
    }
   ],
   "source": [
    "adr[1062]"
   ]
  },
  {
   "cell_type": "code",
   "execution_count": 69,
   "metadata": {},
   "outputs": [
    {
     "data": {
      "text/plain": [
       "'경기도 이천시 마장면 중부고속도로 82'"
      ]
     },
     "execution_count": 69,
     "metadata": {},
     "output_type": "execute_result"
    }
   ],
   "source": [
    "s = adr[85]\n",
    "split2 = re.compile('([가-힣0-9]+로)([0-9]+)')\n",
    "split2.sub('\\g<1> \\g<2>', s)"
   ]
  },
  {
   "cell_type": "code",
   "execution_count": 70,
   "metadata": {},
   "outputs": [
    {
     "data": {
      "text/plain": [
       "'부산광역시 중구 중앙대로 2 (중앙동7가)'"
      ]
     },
     "execution_count": 70,
     "metadata": {},
     "output_type": "execute_result"
    }
   ],
   "source": [
    "s = adr[1062]\n",
    "split2.sub('\\g<1> \\g<2>', s)"
   ]
  },
  {
   "cell_type": "code",
   "execution_count": 71,
   "metadata": {},
   "outputs": [
    {
     "data": {
      "text/plain": [
       "366"
      ]
     },
     "execution_count": 71,
     "metadata": {},
     "output_type": "execute_result"
    }
   ],
   "source": [
    "count = 0\n",
    "for i, one in enumerate(adr):\n",
    "    if split2.search(one):\n",
    "        adr[i] = split2.sub('\\g<1> \\g<2>', one)\n",
    "        count += 1\n",
    "count"
   ]
  },
  {
   "cell_type": "code",
   "execution_count": 72,
   "metadata": {},
   "outputs": [
    {
     "data": {
      "text/plain": [
       "'경기도 이천시 마장면 중부고속도로 82'"
      ]
     },
     "execution_count": 72,
     "metadata": {},
     "output_type": "execute_result"
    }
   ],
   "source": [
    "adr[85]"
   ]
  },
  {
   "cell_type": "code",
   "execution_count": 73,
   "metadata": {},
   "outputs": [
    {
     "data": {
      "text/plain": [
       "'부산광역시 중구 중앙대로 2 (중앙동7가)'"
      ]
     },
     "execution_count": 73,
     "metadata": {},
     "output_type": "execute_result"
    }
   ],
   "source": [
    "adr[1062]"
   ]
  },
  {
   "cell_type": "markdown",
   "metadata": {},
   "source": [
    "#### [붙이기] -문자 (숫자)(번)길|로"
   ]
  },
  {
   "cell_type": "code",
   "execution_count": 107,
   "metadata": {},
   "outputs": [],
   "source": [
    "# 인천광역시 서구 청라 커낼로\n",
    "# 대전광역시 유성구 테크노 9로\n",
    "# 제주특별자치도 제주시 산천단 동3길\n",
    "# 경기도 하남시 미사강변 한강로\n",
    "# 경상북도 상주시 영남 제일로\n",
    "# 경기도 이천시 호법면 프리미엄 아울렛로\n",
    "# 충청남도 보령시 갓바위 1길\n",
    "# 울산광역시 북구 진장 유통로\n",
    "# 부산광역시 강서구 명지오션시티 13로"
   ]
  },
  {
   "cell_type": "code",
   "execution_count": 61,
   "metadata": {},
   "outputs": [
    {
     "data": {
      "text/plain": [
       "(array([1392], dtype=int64),)"
      ]
     },
     "execution_count": 61,
     "metadata": {},
     "output_type": "execute_result"
    }
   ],
   "source": [
    "np.where(adr == '서울특별시 마포구 상암동 월드컵북로 58길 15 지하4층 18')"
   ]
  },
  {
   "cell_type": "code",
   "execution_count": 62,
   "metadata": {},
   "outputs": [
    {
     "data": {
      "text/plain": [
       "'서울특별시 마포구 상암동 월드컵북로 58길 15 지하4층 18'"
      ]
     },
     "execution_count": 62,
     "metadata": {},
     "output_type": "execute_result"
    }
   ],
   "source": [
    "adr[1392]"
   ]
  },
  {
   "cell_type": "code",
   "execution_count": 80,
   "metadata": {},
   "outputs": [
    {
     "name": "stdout",
     "output_type": "stream",
     "text": [
      "1041\n"
     ]
    }
   ],
   "source": [
    "for i, one in enumerate(adr):\n",
    "    if '대전광역시 유성구 테크노 9로' in one:\n",
    "        print(i)"
   ]
  },
  {
   "cell_type": "code",
   "execution_count": 81,
   "metadata": {},
   "outputs": [
    {
     "data": {
      "text/plain": [
       "'대전광역시 유성구 테크노 9로 35 입구 국기계양대 왼쪽'"
      ]
     },
     "execution_count": 81,
     "metadata": {},
     "output_type": "execute_result"
    }
   ],
   "source": [
    "adr[1041]"
   ]
  },
  {
   "cell_type": "code",
   "execution_count": 87,
   "metadata": {},
   "outputs": [
    {
     "name": "stdout",
     "output_type": "stream",
     "text": [
      "대전광역시 유성구 테크노9로 35 입구 국기계양대 왼쪽\n"
     ]
    }
   ],
   "source": [
    "s = adr[1041]\n",
    "split3 = re.compile('([가-힣]+(?![가-힣]+시 |[가-힣]+군 |[가-힣]+구 |[가-힣]+도 |[가-힣]+읍 |[가-힣]+면 |[가-힣]+동 |[가-힣]+리 )) ([0-9가-힣]*[번]*[길|로] )')\n",
    "if split3.search(s):\n",
    "    print(split3.sub('\\g<1>\\g<2>', s))"
   ]
  },
  {
   "cell_type": "code",
   "execution_count": 84,
   "metadata": {},
   "outputs": [
    {
     "name": "stdout",
     "output_type": "stream",
     "text": [
      "901\n"
     ]
    }
   ],
   "source": [
    "for i, one in enumerate(adr):\n",
    "    if '인천광역시 서구 청라 커낼로' in one:\n",
    "        print(i)"
   ]
  },
  {
   "cell_type": "code",
   "execution_count": 94,
   "metadata": {},
   "outputs": [
    {
     "data": {
      "text/plain": [
       "'인천광역시 서구 청라 커낼로 252(경서동)'"
      ]
     },
     "execution_count": 94,
     "metadata": {},
     "output_type": "execute_result"
    }
   ],
   "source": [
    "adr[901]"
   ]
  },
  {
   "cell_type": "code",
   "execution_count": 97,
   "metadata": {},
   "outputs": [
    {
     "name": "stdout",
     "output_type": "stream",
     "text": [
      "인천광역시 서구 청라커낼로 252(경서동)\n"
     ]
    }
   ],
   "source": [
    "s = adr[901]\n",
    "if split3.search(s):\n",
    "    print(split3.sub('\\g<1>\\g<2>', s))"
   ]
  },
  {
   "cell_type": "code",
   "execution_count": 89,
   "metadata": {},
   "outputs": [
    {
     "name": "stdout",
     "output_type": "stream",
     "text": [
      "538\n",
      "617\n",
      "792\n",
      "2023\n",
      "2024\n",
      "4206\n"
     ]
    }
   ],
   "source": [
    "for i, one in enumerate(adr):\n",
    "    if '구로구' in one:\n",
    "        print(i)"
   ]
  },
  {
   "cell_type": "code",
   "execution_count": 90,
   "metadata": {},
   "outputs": [
    {
     "data": {
      "text/plain": [
       "'서울특별시 구로구 개봉동 134-8'"
      ]
     },
     "execution_count": 90,
     "metadata": {},
     "output_type": "execute_result"
    }
   ],
   "source": [
    "adr[538]"
   ]
  },
  {
   "cell_type": "code",
   "execution_count": 99,
   "metadata": {},
   "outputs": [],
   "source": [
    "s = adr[538]\n",
    "split3.search(s)"
   ]
  },
  {
   "cell_type": "code",
   "execution_count": 110,
   "metadata": {},
   "outputs": [],
   "source": [
    "s = adr[538]\n",
    "p = re.compile('[가-힣]+로 ')\n",
    "p.search(s)"
   ]
  },
  {
   "cell_type": "code",
   "execution_count": 100,
   "metadata": {},
   "outputs": [
    {
     "name": "stdout",
     "output_type": "stream",
     "text": [
      "1034\n"
     ]
    }
   ],
   "source": [
    "for i, one in enumerate(adr):\n",
    "    if '경기도 하남시 미사강변 한강로' in one:\n",
    "        print(i)"
   ]
  },
  {
   "cell_type": "code",
   "execution_count": 101,
   "metadata": {},
   "outputs": [
    {
     "data": {
      "text/plain": [
       "'경기도 하남시 미사강변 한강로 299 지하주차장 입구 앞'"
      ]
     },
     "execution_count": 101,
     "metadata": {},
     "output_type": "execute_result"
    }
   ],
   "source": [
    "adr[1034]"
   ]
  },
  {
   "cell_type": "code",
   "execution_count": 103,
   "metadata": {},
   "outputs": [
    {
     "name": "stdout",
     "output_type": "stream",
     "text": [
      "경기도 하남시 미사강변한강로 299 지하주차장 입구 앞\n"
     ]
    }
   ],
   "source": [
    "s = adr[1034]\n",
    "if split3.search(s):\n",
    "    print(split3.sub('\\g<1>\\g<2>', s))"
   ]
  },
  {
   "cell_type": "code",
   "execution_count": 104,
   "metadata": {},
   "outputs": [
    {
     "name": "stdout",
     "output_type": "stream",
     "text": [
      "2497\n"
     ]
    }
   ],
   "source": [
    "for i, one in enumerate(adr):\n",
    "    if '충청남도 보령시 갓바위 1길' in one:\n",
    "        print(i)"
   ]
  },
  {
   "cell_type": "code",
   "execution_count": 105,
   "metadata": {},
   "outputs": [
    {
     "data": {
      "text/plain": [
       "'충청남도 보령시 갓바위 1길 10-30'"
      ]
     },
     "execution_count": 105,
     "metadata": {},
     "output_type": "execute_result"
    }
   ],
   "source": [
    "adr[2497]"
   ]
  },
  {
   "cell_type": "code",
   "execution_count": 106,
   "metadata": {},
   "outputs": [
    {
     "name": "stdout",
     "output_type": "stream",
     "text": [
      "충청남도 보령시 갓바위1길 10-30\n"
     ]
    }
   ],
   "source": [
    "s = adr[2497]\n",
    "if split3.search(s):\n",
    "    print(split3.sub('\\g<1>\\g<2>', s))"
   ]
  },
  {
   "cell_type": "code",
   "execution_count": 111,
   "metadata": {},
   "outputs": [
    {
     "data": {
      "text/plain": [
       "2817"
      ]
     },
     "execution_count": 111,
     "metadata": {},
     "output_type": "execute_result"
    }
   ],
   "source": [
    "count = 0\n",
    "for i, one in enumerate(adr):\n",
    "    if split3.search(one):\n",
    "        adr[i] = split3.sub('\\g<1>\\g<2>', one)\n",
    "        count += 1\n",
    "count"
   ]
  },
  {
   "cell_type": "code",
   "execution_count": 112,
   "metadata": {},
   "outputs": [
    {
     "data": {
      "text/plain": [
       "array(['서울특별시 마포구 상암동월드컵북로 58길 15 지하4층 18',\n",
       "       '대전광역시 유성구 테크노9로 35 입구 국기계양대 왼쪽', '인천광역시 서구 청라커낼로 252(경서동)',\n",
       "       '경기도 하남시 미사강변한강로 299 지하주차장 입구 앞', '충청남도 보령시 갓바위1길 10-30'],\n",
       "      dtype=object)"
      ]
     },
     "execution_count": 112,
     "metadata": {},
     "output_type": "execute_result"
    }
   ],
   "source": [
    "adr[[1392, 1041, 901, 1034, 2497]]"
   ]
  },
  {
   "cell_type": "code",
   "execution_count": 113,
   "metadata": {},
   "outputs": [
    {
     "data": {
      "text/plain": [
       "'서울특별시 구로구 개봉동 134-8'"
      ]
     },
     "execution_count": 113,
     "metadata": {},
     "output_type": "execute_result"
    }
   ],
   "source": [
    "adr[538]"
   ]
  },
  {
   "cell_type": "markdown",
   "metadata": {},
   "source": [
    "### 구주소 정리\n",
    "- [분리] \"-동|면|읍\" \"숫자\"\n",
    "- [붙이기] \"-동\" \"숫자가\" 붙이기"
   ]
  },
  {
   "cell_type": "markdown",
   "metadata": {},
   "source": [
    "#### [분리] \"-동|면|읍\" \"숫자\""
   ]
  },
  {
   "cell_type": "code",
   "execution_count": 198,
   "metadata": {},
   "outputs": [
    {
     "name": "stdout",
     "output_type": "stream",
     "text": [
      "16 제주특별자치도 제주시 연동2334-4\n",
      "163 경상남도 창원시 성산구 사파동64-2\n",
      "283 전라북도 전주시 덕진구 덕진동2가 179-6\n",
      "389 충청북도 단양군 적성면기동2길 32-37 (기동리)\n",
      "439 전라북도 전주시 완산구 효자동3가 1712-10\n",
      "443 전라북도 전주시 완산구 효자동2가 1234-3 5층\n",
      "601 전라북도 남원시 아영면88올림픽고속도로 75 (아곡리)\n",
      "602 전라북도 남원시 아영면88올림픽고속도로 76 (아곡리)\n",
      "603 전라북도 순창군 순창읍88올림픽고속도로 22 (백산리)\n",
      "605 전라북도 전주시 덕진구 인후동1가 807-6\n",
      "607 전라북도 전주시 덕진동2가 694-1\n",
      "645 경상북도 구미시인동14길 14\n",
      "649 대구광역시 북구 노원동2가 214\n",
      "687 경상남도 창원시 마산합포구신마산시장길 33 (창포동3가)\n",
      "854 경상남도 창원시 진해구용재로 46  웅동2동 주민센터 주차장 내\n",
      "982 서울특별시 종로구인사동5길 29 지상주차장\n",
      "1056 경상남도 창원시 장군동4가 3-6\n",
      "1062 부산광역시 중구중앙대로 2 (중앙동7가)\n",
      "1135 충청북도 청주시 서원구 현도면선동1길 9\n",
      "1139 충청남도 당진시무수동2길 25-21\n",
      "1206 대전광역시 동구 용운동423-22\n",
      "1305 제주특별자치도 제주시 조천읍516로 1865 성판악휴게소\n",
      "1357 제주특별자치도 제주시 산천단동3길 2 북쪽주차장 입구\n",
      "1368 울산광역시 울주군 언양읍언동3길 20-48\n",
      "1377 대전광역시 동구 홍도동92-3\n",
      "1426 강원도 삼척시당저동1길 17-9\n",
      "1568 경상북도 구미시 오태동659-13\n",
      "1647 강원도 태백시 소도동326\n",
      "1748 인천광역시 중구 북성동1가 97-32\n",
      "1811 경상남도 창원시 진해구 명동580 좌측 주차장\n",
      "2396 울산광역시 남구 선암동584-8번지\n",
      "2421 전라북도 전주시 덕진구 송천동2가 1257\n",
      "2423 전라북도 전주시 덕진구 송천동2가 1316\n",
      "2616 경상남도 창원시 마산회원구석전동4길 52\n",
      "2854 인천광역시 중구 송월동2가 4\n",
      "2862 전라북도 전주시 덕진구가련산로 26-3 (송천동1가)\n",
      "2970 경상남도 합천군 합천읍교동1길 33\n",
      "3069 경상남도 창원시 마산합포구현동7길 27\n",
      "3152 충청북도 영동군 황간면원촌동1길 54-8\n",
      "3285 전라북도 익산시 인화동2가 7\n",
      "3453 전라남도 여수시삼동3길 13\n",
      "3891 경상남도 고성군 거류면당동3길 5\n",
      "3924 전라남도 여수시학동2길 7\n",
      "3987 전라남도 영암군 신북면황금동1길 5-1\n",
      "4050 충청북도 청주시 서원구 현도면선동2길 232-9\n",
      "4181 전라남도 여수시관문동1길 39\n",
      "4221 충청북도 단양군 적성면기동2길 32-37\n"
     ]
    }
   ],
   "source": [
    "# 16, 163, 1206, 1377, 1568, 1647, 1811, 2396\n",
    "split5 = re.compile('([가-힣]+[동|면|읍])([0-9]+)')\n",
    "for i, one in enumerate(adr):\n",
    "    if split5.search(one):\n",
    "        print(i, one)"
   ]
  },
  {
   "cell_type": "code",
   "execution_count": 199,
   "metadata": {},
   "outputs": [
    {
     "data": {
      "text/plain": [
       "array(['제주특별자치도 제주시 연동2334-4', '경상남도 창원시 성산구 사파동64-2',\n",
       "       '대전광역시 동구 용운동423-22', '대전광역시 동구 홍도동92-3', '경상북도 구미시 오태동659-13',\n",
       "       '강원도 태백시 소도동326', '경상남도 창원시 진해구 명동580 좌측 주차장',\n",
       "       '울산광역시 남구 선암동584-8번지'], dtype=object)"
      ]
     },
     "execution_count": 199,
     "metadata": {},
     "output_type": "execute_result"
    }
   ],
   "source": [
    "adr[[16, 163, 1206, 1377, 1568, 1647, 1811, 2396]]"
   ]
  },
  {
   "cell_type": "code",
   "execution_count": 206,
   "metadata": {},
   "outputs": [],
   "source": [
    "s = '충청북도 청주시 서원구 현도면선동2길 232-9'\n",
    "p = re.compile('([가-힣]+동)([0-9]*(?![0-9길로]))')\n",
    "p.search(s)"
   ]
  },
  {
   "cell_type": "code",
   "execution_count": 207,
   "metadata": {},
   "outputs": [
    {
     "data": {
      "text/plain": [
       "<re.Match object; span=(8, 14), match='소도동326'>"
      ]
     },
     "execution_count": 207,
     "metadata": {},
     "output_type": "execute_result"
    }
   ],
   "source": [
    "s = '강원도 태백시 소도동326'\n",
    "p = re.compile('([가-힣]+동)([0-9]*(?![0-9길로]))')\n",
    "p.search(s)"
   ]
  },
  {
   "cell_type": "code",
   "execution_count": 211,
   "metadata": {},
   "outputs": [
    {
     "data": {
      "text/plain": [
       "'서울특별시 성동구광나루로 4가길 23'"
      ]
     },
     "execution_count": 211,
     "metadata": {},
     "output_type": "execute_result"
    }
   ],
   "source": [
    "adr[44]"
   ]
  },
  {
   "cell_type": "code",
   "execution_count": 210,
   "metadata": {},
   "outputs": [
    {
     "name": "stdout",
     "output_type": "stream",
     "text": [
      "3 전라남도 구례군 산동면산업로 2319\n",
      "4 전라남도 구례군 산동면노고단로 1068\n",
      "11 전라북도 남원시 산내면 덕동리 406\n",
      "12 전라북도 정읍시 내장동 52\n",
      "13 전라북도 정읍시 내장동 169-1\n",
      "16 제주특별자치도 제주시 연동2334-4\n",
      "20 제주특별자치도 제주시연북로 1(노형동)\n",
      "24 광주광역시 서구눌재로 420 (세하동)\n",
      "28 대전광역시 대덕구 신대동 169-1\n",
      "30 대전광역시 서구 만년동 74\n",
      "31 대전광역시 서구 복수동 613\n",
      "32 대전광역시 서구 월평동 1275\n",
      "33 대전광역시 서구 정림동 127-1\n",
      "34 대전광역시 중구 사정동 403번지\n",
      "36 경기도 양주시 옥정동 1039\n",
      "39 경기도 부천시 상동 549번지\n",
      "41 경기도 안산시 상록구 이동 620\n",
      "42 경기도 하남시 망월동 1-1\n",
      "44 서울특별시 성동구광나루로 4가길 23\n",
      "45 인천광역시 서구 연희동 187-8\n",
      "46 인천광역시 남동구 논현동 762-3\n",
      "47 인천광역시 남동구 서창동 558-3\n",
      "51 경상남도 거제시 동부면 학동리 264\n",
      "58 강원도 횡성군 안흥면영동고속도로 153  농축산물판매장 옆\n",
      "59 강원도 횡성군 안흥면영동고속도로 154  휴게소와 LPG충전소 사이\n",
      "63 강원도 인제군 인제읍 상동리 430\n",
      "68 충청북도 영동군 영동읍영동황간로 15\n",
      "71 충청북도 단양군 적성면 기동리\n",
      "73 제주특별자치도 제주시 아라동 3008-1\n",
      "74 제주특별자치도 제주시 아라동 6140-4\n",
      "83 강원도 강릉시 성산면영동고속도로 231 (보광리)\n",
      "84 강원도 강릉시 성산면영동고속도로 232 (보광리)\n",
      "88 경기도 용인시 처인구주북로 94번길 30-1 (고림동)\n",
      "89 경기도 용인시 처인구주북로 66-14 (고림동)\n",
      "91 경기도 구리시서울외곽순환고속도로 32 (사노동)\n",
      "95 경상남도 김해시 대동면 월촌리 770\n",
      "99 경기도 수원시 권선구동수원로 232 지하2층 주차장 좌측\n",
      "106 강원도 강릉시종합운동장길 69\n",
      "113 강원도 횡성군 안흥면영동고속도로 154\n",
      "114 강원도 횡성군 안흥면영동고속도로 153\n",
      "121 대전광역시 서구 관저동 1510\n",
      "122 대전광역시 서구 관저동 1104\n",
      "123 대전광역시 서구 도마동 413-5\n",
      "124 대전광역시 서구 탄방동 1084\n",
      "125 대전광역시 대덕구 중리동 20-3\n",
      "126 대전광역시 유성구 노은동 566\n",
      "127 대전광역시 중구 석교동 12-4\n",
      "131 경기도 화성시동탄공원로 2길 32\n",
      "140 제주특별자치도 서귀포시 법환동 870\n",
      "148 제주특별자치도 서귀포시동홍로 104 동홍동주민센터\n",
      "149 제주특별자치도 서귀포시토평로 15 영천동주민센터\n",
      "154 경상북도 문경시중부내륙고속도로 174 (유곡동)\n",
      "161 경기도 하남시중부고속도로 117-1 (천현동)\n",
      "162 경상남도 양산시 덕계동 1039-5\n",
      "163 경상남도 창원시 성산구 사파동64-2\n",
      "164 경상남도 창원시 진해구 풍호동 305-21\n",
      "166 경상남도 진주시동진로 440 지하2층 주차장 C6\n",
      "170 울산광역시 동구 일산동 948-4\n",
      "172 울산광역시 남구 삼산동 1627-3 입구 좌측\n",
      "176 대구광역시 달서구계대동문로 77\n",
      "180 경상북도 칠곡군 동명면동명팔거천2길 9 복지센터 앞\n",
      "182 경상북도 김천시 신음동 1284 입구 우측\n",
      "183 경상북도 김천시 부곡동 1533-1\n",
      "190 충청남도 보령시 신흑동 1437-3\n",
      "193 충청남도 천안시 동남구 삼룡동 401-17 입구 좌측 주차장\n",
      "197 제주특별자치도 제주시봉개북1길 15 봉개동주민센터\n",
      "219 전라북도 남원시 향교동춘향로 96 (향교동)\n",
      "222 전라남도 여수시국포1로 36 (국동)\n",
      "225 서울특별시 마포구 노고산동 33-1 B3 28\n",
      "228 전라남도 순천시 왕지동 852-1\n",
      "236 대전광역시 중구동서대로 1322번길 81\n",
      "245 전라남도 여수시 시전동 64\n",
      "247 전라남도 나주시 송월동 1106-2 1층\n",
      "256 경상남도 밀양시 삼문동 24-40\n",
      "283 전라북도 전주시 덕진구 덕진동2가 179-6\n",
      "286 전라북도 완주군 봉동읍 둔산리 881\n",
      "292 전라남도 강진군 군동면 종합운동장 60\n",
      "294 경상북도 문경시 모전동 220 입구 우측\n",
      "295 경기도 성남시 수정구산성대로 41 (수진동)\n",
      "296 경상남도 김해시장유로 116번길 44-82 (부곡동)\n",
      "308 경기도 양평군 양동면 단석리 506-7\n",
      "315 경기도 고양시 일산동구중앙로 1256  좌측\n",
      "323 경기도 용인시 처인구 이동면남북대로 2616\n",
      "325 경기도 수원시 영통구 영통동 960-1\n",
      "332 경기도 수원시 권선구 장지동 45-1\n",
      "333 경기도 안산시 단원구 건건동 535-14\n",
      "334 경기도 안양시 동안구동안로 158\n",
      "335 경기도 양평군 양동면학둔지아래길 20\n",
      "341 경기도 하남시 망월동 728-9\n",
      "342 경기도 하남시 풍산동 118-2\n",
      "343 경기도 하남시 풍산동 148-3\n",
      "344 강원도 원주시 태장동 산35-1\n",
      "354 경상북도 포항시 북구 흥해읍동해대로 1182\n",
      "359 광주광역시 남구 주월동 1284-7\n",
      "360 광주광역시 동구동계천로 150\n",
      "365 제주특별자치도 서귀포시동홍중앙로 7번길 19 자기주도학습지원센터\n",
      "368 서울특별시 강동구선사로 70 입구 좌측 끝\n",
      "369 서울특별시 강동구진황도로 29길 34 지하1층 26\n",
      "379 서울특별시 노원구동일로 204가길 12 5층 출구앞\n",
      "380 서울특별시 노원구 하계동 251-8\n",
      "389 충청북도 단양군 적성면기동2길 32-37 (기동리)\n",
      "391 대구광역시 달서구 장기동 810-4 입구 좌측\n",
      "392 대구광역시 달서구 용산동 507 입구 우측\n",
      "394 대구광역시 북구 서변동 1792 입구 좌측\n",
      "396 울산광역시 남구 야음동 338-1 입구 좌측\n",
      "404 충청남도 서산시 수석동 204-19\n",
      "408 세종특별자치시 어진동 621 입구 우측\n",
      "410 강원도 속초시 조양동 1544-3\n",
      "413 강원도 정선군 신동읍 예미리 759\n",
      "432 경상북도 영주시 가흥동 1622\n",
      "434 대구광역시 동구 용수동 907-1\n",
      "436 대구광역시 달서구 호산동 714-1 입구 우측\n",
      "439 전라북도 전주시 완산구 효자동3가 1712-10\n",
      "440 전라북도 전주시 덕진구 산정동 862\n",
      "443 전라북도 전주시 완산구 효자동2가 1234-3 5층\n",
      "447 제주특별자치도 제주시 봉개동 1854-1\n",
      "459 경상북도 경주시 강동면강동로 19\n",
      "467 경상북도 안동시 풍산읍풍산태사로 1903-27\n",
      "468 경상북도 안동시 풍산읍풍산태사로 1913-40\n",
      "479 전라북도 고창군 고창읍동리로 117\n",
      "480 전라남도 여수시 학동 168(시청로 1번지)\n",
      "483 전라남도 순천시 조례동 1258\n",
      "492 경상북도 상주시 계산동 474-1\n",
      "494 경상북도 영주시 영주동 27-2\n",
      "499 강원도 속초시 중앙동 468-12\n",
      "502 강원도 태백시 황지동 244-3\n",
      "509 경기도 양평군 양동면 단석리 513-2 (여양3로 384-27)\n",
      "510 경기도 오산시 지곶동 산60\n",
      "511 경기도 오산시 금암동 41-2\n",
      "512 경기도 시흥시 조남동\n",
      "513 강원도 춘천시방송길 84 (온의동)\n",
      "514 강원도 춘천시세실로 108 (석사동)\n",
      "515 전라북도 군산시수송로 185 (수송동)\n",
      "526 경상남도 창원시 마산합포구 진동면신서촌로 13 진동면사무소\n",
      "538 서울특별시 구로구 개봉동 134-8\n",
      "541 서울특별시 성북구 정릉동 829-1\n",
      "544 서울특별시 강남구 압구정동 453\n",
      "548 울산광역시 남구 옥동 산1112\n",
      "550 울산광역시 남구 삼산동 1572\n",
      "551 전라남도 순천시조례신대길 6(조례동)\n",
      "552 경상남도 하동군 하동읍 광평리 443-17\n",
      "554 서울특별시 성동구무학봉15길 48\n",
      "560 전라남도 나주시 삼도동 1386-3\n",
      "564 충청북도 음성군 맹동면 두성리 1409\n",
      "571 서울특별시 중구동호로 287  대형버스주차장\n",
      "572 서울특별시 성동구 마장동 808\n",
      "580 서울특별시 송파구 잠실동 84 우측 끝\n",
      "581 서울특별시 영등포구 신길동 3203\n",
      "590 강원도 강릉시 구정면동해고속도로 345 (제비리)\n",
      "591 강원도 동해시동해대로 6437 동해휴게소동해방향 (망상동)\n",
      "592 강원도 강릉시 옥계면동해고속도로 320 (주수리)\n",
      "605 전라북도 전주시 덕진구 인후동1가 807-6\n",
      "607 전라북도 전주시 덕진동2가 694-1\n",
      "613 서울특별시 양천구목동서로 170  지상주차장 2층 01구역\n",
      "617 서울특별시 구로구 구로동 136-14\n",
      "618 서울특별시 금천구 가산동 239-27\n",
      "626 전라남도 순천시 금곡동 60-6 안쪽 주차장\n",
      "631 충청남도 보령시 궁촌동 43-2\n",
      "635 충청남도 아산시충무로 25(온천동 94-10) 1층\n",
      "642 대전광역시 대덕구 오정동 45-1\n",
      "644 대전광역시 유성구 덕진동 453\n",
      "648 대구광역시 북구 침산동 402-3\n",
      "649 대구광역시 북구 노원동2가 214\n",
      "652 대구광역시 달서구 도원동 668-10\n",
      "653 대구광역시 동구 용계동 923-3\n",
      "654 부산광역시 북구 만덕동 934\n",
      "655 부산광역시 북구화명대로 47(화명동)\n",
      "656 부산광역시 사상구엄궁로 191번길 23(엄궁동)\n",
      "663 경상북도 포항시 북구 흥해읍동해대로 1511  주차장\n",
      "669 경상북도 안동시퇴계로 115  좌측 주차장\n",
      "670 경상북도 안동시 풍산읍 계평리\n",
      "673 경상북도 영덕군 강구면동해대로 4526\n",
      "677 대구광역시 남구 봉덕동 1272-18\n",
      "678 충청남도 논산시 내동 825 시청앞 새마을금고 맞은편 공영주차장\n",
      "681 인천광역시 남동구 구월3동 1111-6 중부지방고용노동청 별관 앞\n",
      "682 인천광역시 부평구 부평동 341-193 주차장 입구 오른쪽\n",
      "683 인천광역시 서구 당하동 1097-5 검단4동 주민센터 옆\n",
      "684 인천광역시 연수구 송도동 162-1 포스코 그린빌딩 앞 주차장\n",
      "685 전라북도 익산시무왕로 1053 (영등동)\n",
      "686 충청남도 서산시충의로 27 (예천동)\n",
      "687 경상남도 창원시 마산합포구신마산시장길 33 (창포동3가)\n",
      "688 인천광역시 부평구광장로 16 (부평동)\n",
      "694 서울특별시 동작구 대방동 70-5\n",
      "697 경기도 수원시 장안구 파장동 585-4\n",
      "702 경상북도 경주시 외동읍읍청사로 25\n",
      "706 경상북도 문경시중부내륙고속도로 173 (유곡동) 주유소 옆(셀프코너) 옥외 주차장\n",
      "716 부산광역시 해운대구좌동순환로 511  지상주차장 4층 F구역\n",
      "720 서울특별시 양천구 목동중앙본로 120\n",
      "721 인천광역시 계양구 동양동 607-1\n",
      "722 인천광역시 부평구 청천동 125-3\n",
      "723 인천광역시 서구 가좌동 30-105\n",
      "725 인천광역시 남동구경인로 674\n",
      "726 인천광역시 부평구 갈산동 192\n",
      "741 서울특별시 은평구 진관동 66-30  지하주차장 1층 20구역\n",
      "744 서울특별시 동작구 대방동 70-1\n",
      "756 제주특별자치도 서귀포시 동홍동 470-1\n",
      "757 제주특별자치도 서귀포시 색달동 2889-1 중문색달해변 북측 증설주차장\n",
      "758 경상북도 경주시 외동읍상석길 58-70 (석계리)\n",
      "759 경상북도 경주시 외동읍상석길 58-74 (석계리)\n",
      "766 경기도 화성시 동탄면동탄산단7길 60\n",
      "769 경기도 안성시 공도읍서동대로 4478 정문 부근 옥외주차장\n",
      "777 서울특별시 강남구 수서동 735  지상주차장 북주차장(우측)\n",
      "778 서울특별시 강남구 일원동 4-49  주차장 입구 오른쪽\n",
      "779 서울특별시 강동구고덕로 276  지하주차장 1층 E구역\n",
      "785 부산광역시 기장군 장안읍동해고속도로 26  휴게소와 LPG충전소 사이\n",
      "794 전라남도 여수시 소호동 505-2 입구 우측\n",
      "797 경상남도 양산시 남부동 876-1 양산문화회관 건너편 주차장\n",
      "800 울산광역시 남구남부순환도로 209 숙소동 앞\n",
      "801 울산광역시 남구 매암동 243\n",
      "802 울산광역시 북구 창평동 1052-1\n",
      "803 울산광역시 북구 매곡동 349-3\n",
      "804 울산광역시 북구 매곡동 884-5\n",
      "807 경상북도 경주시 교동천원2길 9\n",
      "811 대전광역시 중구중앙로 100 (대흥동 499-1)\n",
      "812 대전광역시 유성구 장대동 263-2\n",
      "814 세종특별자치시 반곡동 234-10\n",
      "817 전라남도 광양시 중동 1358-1\n",
      "818 전라남도 나주시 빛가람동 346-1\n",
      "829 부산광역시 북구 덕천동 457-1\n",
      "831 울산광역시 남구 옥동 97-3\n",
      "832 경상북도 문경시 모전동 30-2\n",
      "833 충청북도 청주시 서원구 성화동 936\n",
      "837 경상남도 밀양시 교동 556번지\n",
      "841 경상남도 창원시 의창구중앙대로 178(신월동 97-1)\n",
      "842 경상북도 구미시 송정동 505\n",
      "845 경상북도 김천시운동장길 1\n",
      "854 경상남도 창원시 진해구용재로 46  웅동2동 주민센터 주차장 내\n",
      "856 경상남도 진주시동진로 155  지하주차장 1층 라-1구역\n",
      "857 경상남도 김해시 진영읍 우동리 289-1  주차장\n",
      "861 경상남도 양산시양산대로 849  운동장 앞 도로쪽 주차장\n",
      "863 경상남도 하동군 하동읍군청로 23\n",
      "865 인천광역시 중구 도원동 5-7 주차장 입구\n",
      "866 경기도 고양시 덕양구 화정동 982 2층주차장 입구 정면\n",
      "868 경기도 과천시 갈현동 679 주민센터 입구앞\n",
      "870 경기도 구리시 교문동 390-1 구청 본관 흡연실 옆\n",
      "872 경기도 부천시 오정동 129 지상주차장 입구 왼쪽\n",
      "873 경기도 부천시 춘의동 8 24 필지 주차장 입구 오른쪽\n",
      "874 경기도 성남시 분당구 삼평동 741 지하 2층 E01번\n",
      "876 경기도 시흥시 장곡동 724-32 오른쪽 주차장 입구 오른쪽 끝부지\n",
      "877 경기도 안산시 단원구 대부북동 1849-30 주차장 맨끝쪽\n",
      "878 경기도 안산시 상록구 성도동 590 지상2층 287기둥옆\n",
      "880 경기도 안양시 만안구 안양동 530 구청 건물입구 앞\n",
      "881 경기도 오산시 수청동 610 옥상주차장 4층매장입구옆\n",
      "882 경기도 용인시 처인구 삼가동 556 지하1층 가03 기둥옆\n",
      "886 경기도 의정부시장곡로 224 (장암동)\n",
      "891 경기도 용인시 처인구 삼가동 28-6\n",
      "893 인천광역시 서구원당대로 581 (마전동)\n",
      "894 경기도 수원시 영통구센트럴타운로 85-0 (이의동)\n",
      "895 경기도 수원시 장안구만석로 19번길 25-10 (천천동)\n",
      "896 경기도 화성시삼성1로 333 (반월동)\n",
      "897 경기도 오산시경기대로 271-0 (오산동) 5층 37구역\n",
      "898 경기도 의왕시계원대학로 7-0 (내손동)\n",
      "899 경기도 군포시번영로 485 (산본동)\n",
      "900 경기도 안산시 상록구반석로 8 (본오동)\n",
      "901 인천광역시 서구 청라커낼로 252(경서동)\n",
      "902 경기도 의정부시산단로 76번길 116-0 (용현동)\n",
      "903 서울특별시 금천구두산로 71 (독산동)\n",
      "909 인천광역시 남동구정각로 29  정문 우측 경비실 앞\n",
      "917 전라남도 순천시 장천동 62-1  순천시청 주차장\n",
      "918 전라남도 순천시 왕지동 853-2  왕지 제2공영주차장\n",
      "922 강원도 춘천시 석사동 805\n",
      "926 강원도 춘천시 사농동 277-3\n",
      "931 경기도 광주시 장지동 92-5\n",
      "933 경기도 남양주시 수동면비룡로 730\n",
      "937 경기도 수원시 영통구 하동 864-10\n",
      "938 경기도 안산시 단원구 원곡동 381-2\n",
      "939 경기도 안산시 상록구 사동 1513\n",
      "940 서울특별시 관악구 신림동 571-6\n",
      "946 제주특별자치도 서귀포시 서귀동 291-2 북쪽 입구\n",
      "947 제주특별자치도 서귀포시 서귀동 312-6 312-19\n",
      "948 제주특별자치도 서귀포시 서귀동 600-3\n",
      "949 제주특별자치도 서귀포시 서호동 1603 주차장 안쪽\n",
      "950 제주특별자치도 서귀포시 서홍동 666-1\n",
      "953 충청남도 공주시 의당면당진영덕고속도로 72 (송선동)\n",
      "968 인천광역시 남동구예술로 198  지하주차장 4층 I4구역\n",
      "972 광주광역시 북구동문대로 456번길 40  주차장 1층\n",
      "976 울산광역시 북구 연암동산업로 1010 북구청\n",
      "977 세종특별자치시나성남로 7-7 BRT환승센터 B주차장 B1 (나성동 531)\n",
      "991 전라북도 정읍시 상동 258-4\n",
      "992 전라북도 정읍시 상평동 62-3 ？\n",
      "995 제주특별자치도 서귀포시상효로 39 (상효동 754-1)\n",
      "998 제주특별자치도 서귀포시칠십리로 740(하효동)\n",
      "999 제주특별자치도 서귀포시 서귀동 291-63(3)\n",
      "1002 제주특별자치도 제주시1100로 2894-78(연동)\n",
      "1009 경상북도 포항시 남구 지곡동 166-29\n",
      "1011 경상북도 포항시 북구 용흥동 4-9\n",
      "1015 경상북도 포항시 북구 환호동 365\n",
      "1017 대구광역시 달서구 달서구 송현동 산56번지\n",
      "1024 경상남도 합천군 합천읍동서로 119\n",
      "1033 경기도 평택시 장당동 390-1 주차장옥상 마트입구 옆\n",
      "1037 대전광역시 서구청사로 189 정부대전청사 후생동 지하주차장 입구 근처\n",
      "1038 대전광역시 유성구 관평동 887 옥외주차장 검품장 근처\n",
      "1039 대전광역시 유성구 반석동 665-2 전시장 뒤편 사무실 입구 주차장\n",
      "1040 대전광역시 유성구 하기동 519 지상4층 주차장 430기둥 옆\n",
      "1042 대전광역시 중구 사정동 142 플라워랜드 주차장\n",
      "1044 경기도 용인시 수지구경부고속도로 400 (죽전동)\n",
      "1045 경기도 용인시 기흥구공세로 173 (공세동)\n",
      "1048 경기도 성남시 분당구황새울로 311번길 28-0 (서현동)\n",
      "1051 경상남도 남해군 이동면보리암로 287\n",
      "1056 경상남도 창원시 장군동4가 3-6\n",
      "1059 울산광역시 남구삼산로 74 (달동)\n",
      "1060 부산광역시 사상구낙동대로 733 (엄궁동)\n",
      "1061 부산광역시 동래구중앙대로 1393 (온천동)\n",
      "1062 부산광역시 중구중앙대로 2 (중앙동7가)\n",
      "1063 경상남도 거제시서간도길 9-9 (옥포동)\n",
      "1064 경상남도 창원시 의창구원이대로 320 (두대동)\n",
      "1065 경상남도 김해시김해대로 2330 (부원동)\n",
      "1079 제주특별자치도 서귀포시동홍로 31-7  본관주차장\n",
      "1083 경기도 안산시 단원구동산로 268\n",
      "1086 경기도 하남시 학암동 90-33\n",
      "1090 경기도 안산시 상록구 사동 1271-11\n",
      "1091 경기도 고양시 일산동구중앙로 1275번길 64\n",
      "1092 서울특별시 강동구성내로 25\n",
      "1094 서울특별시 성동구고산자로 26길 6\n",
      "1101 경기도 성남시 중원구 중앙동 1175\n",
      "1102 경기도 성남시 분당구서현로 459  율동자연공원 B주차장(서현로방면) 출입구 왼쪽\n",
      "1107 제주특별자치도 서귀포시 회수동 788-2\n",
      "1110 제주특별자치도 제주시 도남동 574-3\n",
      "1112 경상남도 창원시 의창구 동읍동읍로 88  동읍사무소 주차장\n",
      "1119 경기도 안양시 동안구 관앙동 1590\n",
      "1120 경기도 평택시 비전동 629-1 주차장 안쪽 끝\n",
      "1121 경기도 안산시 단원구화랑로 312  출연자 주차장 P4 (관리동오른쪽)\n",
      "1133 강원도 삼척시동해대로 4234 테니스장 옆\n",
      "1142 충청남도 아산시 용화동 1143\n",
      "1147 전라북도 전주시 덕진구동부대로 1179\n",
      "1148 제주특별자치도 서귀포시 동홍동 1480-6\n",
      "1150 제주특별자치도 제주시 봉개동 2750-2\n",
      "1161 울산광역시 중구 성안동 244\n",
      "1162 울산광역시 중구 성남동 190-200\n",
      "1165 충청북도 영동군 황간면남성2길 11\n",
      "1166 충청북도 영동군 심천면 고당리 526-2\n",
      "1167 충청북도 영동군 학산면서산로 76\n",
      "1177 제주특별자치도 제주시서광로 2길 24  애향운동장 앞 주차장\n",
      "1178 제주특별자치도 제주시일주서로 7350 외도동 주민센터\n",
      "1179 제주특별자치도 제주시만덕로 18 건입동 주민센터\n",
      "1185 대전광역시 대덕구산업단지로 27 (상서동) 236-1\n",
      "1186 서울특별시 서초구양재대로 12길 73-71 (원지동)\n",
      "1188 경상남도 창원시 마산회원구삼호로 80 (양덕동)\n",
      "1190 대구광역시 달서구 대곡동 1035\n",
      "1193 경상북도 경주시천북남로 12(신평동)\n",
      "1196 경상북도 청송군 부동면 상의리 299\n",
      "1198 경상북도 김천시시청로 80 (신음동)\n",
      "1199 경상북도 포항시 남구지곡로 247-0 (지곡동)\n",
      "1200 경상북도 구미시구미대로 22길 11-0 (신평동)\n",
      "1202 강원도 속초시 노학동 298-2\n",
      "1203 강원도 원주시 반곡동 2049-4\n",
      "1206 대전광역시 동구 용운동423-22\n",
      "1209 충청북도 청주시 흥덕구 휴암동 338\n",
      "1210 충청북도 청주시 서원구 분평동 1252\n",
      "1211 대전광역시 유성구유성대로 26-37 (원내동)\n",
      "1215 충청북도 충주시봉계1길 49 (칠금동)\n",
      "1225 충청북도 영동군 황간면회포길 102 충전소 입구 우측 공터\n",
      "1232 충청북도 충주시 산척면동산로 736\n",
      "1235 서울특별시 성동구 용답동 4-1\n",
      "1236 인천광역시 계양구 서운동 207\n",
      "1237 인천광역시 부평구 십정동 109-2\n",
      "1239 인천광역시 서구 경서동 638-5\n",
      "1240 인천광역시 서구 연희동 산150-5\n",
      "1243 인천광역시 남동구 수산동 394-54\n",
      "1244 인천광역시 남동구 논현동 754-4\n",
      "1256 대전광역시 대덕구동서대로 1855\n",
      "1261 전라북도 군산시 오식도동 1010\n",
      "1269 강원도 강릉시 강동면정동역길 17\n",
      "1274 충청남도 공주시 봉황동 304-6\n",
      "1277 세종특별자치시 보람동 624-1\n",
      "1285 충청남도 아산시 모종동 562-4\n",
      "1288 충청북도 충주시 봉방동 170-5\n",
      "1296 충청북도 영동군 영동읍동정로 1\n",
      "1298 경상북도 포항시 남구동해안로 6001\n",
      "1299 경상북도 경주시동대로 123\n",
      "1301 대구광역시 달서구 진천동 493-7\n",
      "1312 충청남도 천안시 동남구쉼1길 42 (삼룡동)173-1\n",
      "1316 충청북도 옥천군 옥천읍옥천동이로 242-34\n",
      "1319 강원도 원주시봉화로 1 (단계동)\n",
      "1329 충청북도 충주시 안림동 1073\n",
      "1343 광주광역시 광산구 운남동 524-3\n",
      "1344 광주광역시 남구 서동 147-22\n",
      "1348 강원도 양양군 현북면동해대로 1242\n",
      "1351 경상북도 경주시 사정동 172-1\n",
      "1352 충청북도 충주시 용탄동 1137\n",
      "1354 충청북도 옥천군 옥천읍동부로 15\n",
      "1364 세종특별자치시 새롬동 341-72\n",
      "1367 전라북도 익산시동서로 5-40\n",
      "1370 충청북도 영동군 용산면용산로 324\n",
      "1377 대전광역시 동구 홍도동92-3\n",
      "1378 대전광역시 서구 월평동 1184\n",
      "1382 충청북도 영동군 황간면회포길 102 (회포리)\n",
      "1383 충청북도 영동군 황간면회포1길 65 (회포리)\n",
      "1392 서울특별시 마포구 상암동월드컵북로 58길 15 지하4층 18\n",
      "1394 대전광역시 서구 갈마동 427-20\n",
      "1395 대전광역시 서구 도마동 155-16\n",
      "1408 부산광역시 사상구낙동대로 1518번길 26\n",
      "1409 부산광역시 수영구 망미동 979-73\n",
      "1413 전라남도 영광군 영광읍 도동리 365\n",
      "1415 전라남도 여수시 중앙동 505\n",
      "1416 충청남도 공주시 웅진동 354-6\n",
      "1431 강원도 속초시동해대로 4245\n",
      "1441 경상남도 사천시 축동면서삼로 1742\n",
      "1442 경상남도 양산시 평산동 283 축구장 옆\n",
      "1463 인천광역시 서구 경서동 산 257-4 지상 버스주차장 옆\n",
      "1465 경기도 의정부시 호원동 229-160\n",
      "1469 광주광역시 북구동문대로 603\n",
      "1478 경기도 수원시 권선구 곡반정동 553\n",
      "1481 경상남도 창원시 진해구 풍호동 27-3\n",
      "1486 울산광역시 북구 화봉동 1469-1\n",
      "1488 서울특별시 강동구고덕로 28길 36 지하1층 좌측\n",
      "1493 울산광역시 남구 삼산동 1554-1\n",
      "1497 경기도 남양주시 금곡동 185-10 옥외 주차장\n",
      "1499 서울특별시 도봉구마들로 645 (방학동)\n",
      "1500 경기도 양주시평화로 1547 (회정동)\n",
      "1501 경기도 동두천시평화로 2169번길 21 (송내동)\n",
      "1504 부산광역시 연제구 거제동 1312\n",
      "1517 서울특별시 강남구 개포동 13-2\n",
      "1521 서울특별시 서초구 양재동 237\n",
      "1522 서울특별시 양천구목동동로 81\n",
      "1535 충청남도 서산시 잠홍동 344\n",
      "1537 충청남도 보령시 명천동 269-4\n",
      "1541 울산광역시 남구 달동 1345-6 입구 우측\n",
      "1544 광주광역시 북구 충효동 805번지\n",
      "1545 대전광역시 중구 대사동 145-2\n",
      "1548 전라남도 광양시 중동 1732-3\n",
      "1550 울산광역시 동구 동부동 425-1\n",
      "1554 경상남도 남해군 삼동면 지족리 291-11\n",
      "1558 경상북도 안동시 풍천면도청대로 455\n",
      "1565 경상북도 경주시 외동읍산업로 2759\n",
      "1567 경상북도 안동시 상아동 266-2\n",
      "1568 경상북도 구미시 오태동659-13\n",
      "1569 경상북도 포항시 남구 장기면동해안로 2987\n",
      "1580 인천광역시 계양구 계산동 1060 구두수선방 옆\n",
      "1581 경기도 의정부시동일로 30\n",
      "1584 인천광역시 미추홀구 주안동 1311-17\n",
      "1586 강원도 속초시동해대로 3664\n",
      "1589 강원도 춘천시 퇴계동 864\n",
      "1596 전라북도 김제시 검산동 433-21\n",
      "1601 제주특별자치도 서귀포시산록남로 1241번길 145(색달동)\n",
      "1604 경상남도 창원시 진해구 제황산동 24-55 주차장\n",
      "1607 강원도 삼척시동해대로 4098\n",
      "1610 강원도 태백시 혈동 260-68\n",
      "1622 전라남도 순천시 주암면동주로 2042-3 사랑나눔복지회관 주차장\n",
      "1628 경기도 안산시 상록구 본오동 876-8\n",
      "1632 제주특별자치도 제주시516로 2810-31(영평동)\n",
      "1635 충청남도 아산시 배미동 3-6\n",
      "1637 대구광역시 동구 율암동 524-416 번지\n",
      "1638 대구광역시 북구 북구 산격동 산79-13\n",
      "1640 울산광역시 동구동진5길 71\n",
      "1641 울산광역시 북구 화봉동 365\n",
      "1647 강원도 태백시 소도동326\n",
      "1661 전라북도 전주시 완산구 대성동 343-1\n",
      "1664 충청북도 청주시 흥덕구 원평동 590-14\n",
      "1669 전라남도 순천시 연향동 771\n",
      "1673 전라북도 남원시 금동 437-6\n",
      "1677 광주광역시 동구 계림동 280\n",
      "1678 광주광역시 서구유덕로 24 (유촌동)\n",
      "1681 경상북도 경주시 충효동 540-1\n",
      "1682 서울특별시 은평구 진관동 66-30 지상 3층\n",
      "1685 경기도 양주시 옥정동 580\n",
      "1693 경상북도 포항시 북구 용흥동 산 24-3\n",
      "1696 광주광역시 남구 진월동 314-1\n",
      "1703 경상북도 상주시성동새싹길 42\n",
      "1712 강원도 강릉시 강동면와천로 463\n",
      "1721 대전광역시 중구 안영동 71-2\n",
      "1729 경상북도 경주시 황성동 435-4\n",
      "1733 서울특별시 성동구둘레길 47-5\n",
      "1735 인천광역시 미추홀구 관교동 12\n",
      "1736 서울특별시 마포구동교로 1길 39\n",
      "1742 충청남도 예산군 덕산면 사동리 286\n",
      "1743 충청남도 공주시 우성면동대리길 57-1\n",
      "1744 충청남도 공주시 금학동 106\n",
      "1746 서울특별시 성동구동일로 199\n",
      "1748 인천광역시 중구 북성동1가 97-32\n",
      "1749 서울특별시 마포구 상암동 482-116 주차장 입구 정면\n",
      "1760 강원도 화천군 간동면파로호로 919\n",
      "1774 강원도 양양군 강현면동해대로 3094\n",
      "1775 대전광역시 동구 가양동 709\n",
      "1776 충청북도 옥천군 옥천읍옥천동이로 242-34 차량정비소 옆\n",
      "1785 광주광역시 광산구 비아동 66-6\n",
      "1796 대구광역시 수성구 지산동 880-2\n",
      "1803 대구광역시 북구 서변동 1290-4 입구 좌측 주차구역\n",
      "1810 대구광역시 북구 침산동 1192-1\n",
      "1811 경상남도 창원시 진해구 명동580 좌측 주차장\n",
      "1818 울산광역시 남구 신정동 34-80\n",
      "1820 경상남도 사천시 향촌동 631-6\n",
      "1823 경기도 하남시 신장동 281\n",
      "1838 전라남도 여수시좌수영로 69(광무동)\n",
      "1859 인천광역시 강화군 교동면 대룡리 466-19\n",
      "1860 경기도 하남시 신장동 27\n",
      "1865 서울특별시 용산구 한남동 산10-84  지상실외주차장\n",
      "1870 충청남도 보령시 신흑동 2279 입구 우측 안쪽\n",
      "1876 경상남도 하동군 화개면 용강리 400-5\n",
      "1885 인천광역시 동구 송림동 49-172\n",
      "1887 울산광역시 동구 화정동 198\n",
      "1889 경상남도 하동군 진교면 진교리 426-41\n",
      "1892 전라남도 여수시 오림동 104\n",
      "1910 경상북도 구미시 봉곡동 419\n",
      "1912 경상북도 안동시 풍산읍 안교리 122-4\n",
      "1920 경기도 안산시 단원구 원시동 772-6\n",
      "1923 경기도 시흥시동서로 425\n",
      "1929 전라북도 군산시 지곡동 286-8\n",
      "1930 경상남도 김해시 대청동 산112-130\n",
      "1932 전라남도 순천시 덕암동 220\n",
      "1934 서울특별시 성동구독서당로 63길 40\n",
      "1940 경상북도 포항시 남구 청림동 517-1\n",
      "1946 경상남도 하동군청학로 2526\n",
      "1958 서울특별시 도봉구 도봉동 341-1\n",
      "1963 경상북도 상주시 계산동 189-6\n",
      "1964 경기도 구리시 토평동 810\n",
      "1968 전라북도 익산시동서로 21\n",
      "1971 전라북도 김제시동서로 317\n",
      "1973 경상북도 안동시 남후면 무릉리 363-1\n",
      "1975 대구광역시 동구 방촌동 126-2번지\n",
      "1984 전라남도 순천시 교량동 624-1\n",
      "1986 경상남도 김해시 부원동 625-1\n",
      "1988 충청북도 충주시 금릉동 699\n",
      "1989 충청북도 충주시 동량면 조동리 1370-4\n",
      "1990 경상북도 안동시 임동면 중평리 840\n",
      "1993 경상남도 진주시 내동면내동로 110\n",
      "2001 제주특별자치도 제주시동광로 69\n",
      "2003 경상북도 안동시 풍천면 갈전리 555\n",
      "2006 전라북도 정읍시 내장동 673-1\n",
      "2009 대전광역시 대덕구 목상동 산6-2\n",
      "2018 경상북도 영주시 가흥동 3-19\n",
      "2024 서울특별시 구로구 오류동 174-10  천왕역 환승주차장 1층\n",
      "2027 전라북도 군산시 서수면동군산로 984\n",
      "2031 서울특별시 은평구 진관동 278\n",
      "2037 충청북도 음성군 맹동면 두성리 1347\n",
      "2040 부산광역시 연제구종합운동장로 7  지하주차장 1층 35구역\n",
      "2044 전라남도 영암군 시종면내동중앙로 41\n",
      "2049 서울특별시 성동구성덕정길 115\n",
      "2052 전라북도 남원시 노암동 612-7\n",
      "2054 울산광역시 북구 효문동 986\n",
      "2070 충청북도 영동군 영동읍 매천리 322-19\n",
      "2073 경상북도 포항시 남구 지곡동 964-12\n",
      "2074 경상북도 안동시 일직면 운산리 97-4\n",
      "2076 강원도 동해시 망상동 393-14\n",
      "2084 강원도 동해시 묵호진동 13-64\n",
      "2087 경상북도 청송군 현동면 도평리 793\n",
      "2099 경상남도 창원시 성산구 중앙동 92\n",
      "2100 충청남도 보령시 대천동 460-137\n",
      "2112 제주특별자치도 서귀포시동홍로 41\n",
      "2113 울산광역시 남구 무거동 759\n",
      "2118 인천광역시 중구 을왕동 808-5\n",
      "2133 대전광역시 서구 복수동 690\n",
      "2136 인천광역시 남동구예술로 149\n",
      "2140 경상북도 안동시 도산면퇴계로 2547\n",
      "2147 경상북도 안동시 성곡동 781\n",
      "2148 경상북도 안동시 녹전면 신평리 716\n",
      "2153 충청북도 제천시 동현동 321\n",
      "2154 광주광역시 남구 주월동 974-145\n",
      "2157 경상북도 포항시 남구 대잠동 780-230\n",
      "2158 울산광역시 남구 두왕동 761-12\n",
      "2160 경기도 안산시 단원구 와동 94\n",
      "2166 충청북도 영동군 영동읍 매천리 33-1\n",
      "2167 경상북도 안동시 남선면 구미리 126-1\n",
      "2171 울산광역시 북구 연암동 1372\n",
      "2172 경기도 안산시 상록구 사동 1466-16\n",
      "2174 전라북도 전주시 덕진구 만성동 1165\n",
      "2179 경상남도 창원시 진해구 남문동 1190-1\n",
      "2183 경기도 안산시 월피동 483-10\n",
      "2187 충청남도 태안군 태안읍동백로 251\n",
      "2188 대전광역시 유성구 교촌동 568-1\n",
      "2191 광주광역시 동구 서석동 24-2\n",
      "2192 대전광역시 대덕구 장동 210-14\n",
      "2193 대전광역시 서구 용문동 263-9\n",
      "2194 전라남도 나주시 송월동 1100\n",
      "2196 전라북도 군산시 미장동 525\n",
      "2200 전라남도 목포시 용당동 993-2\n",
      "2210 충청남도 논산시 취암동 822\n",
      "2211 충청남도 천안시 동남구 청수동 270\n",
      "2212 경상북도 구미시 선기동 458-1\n",
      "2217 대전광역시 대덕구 장동 326-17\n",
      "2218 대전광역시 서구 탄방동 1379\n",
      "2219 대전광역시 서구 복수동 781\n",
      "2223 대전광역시 서구 흑석동 966\n",
      "2224 대전광역시 중구 안영동 663\n",
      "2225 울산광역시 남구 삼산동 1622-4\n",
      "2226 경상남도 통영시 무전동 357\n",
      "2230 경상남도 창원시 성산구 성주동 178\n",
      "2231 대구광역시 북구 구암동 771-2\n",
      "2237 충청남도 천안시 동남구 신부동 132-8\n",
      "2239 경상북도 구미시 거의동 468\n",
      "2241 대전광역시 서구 변동 47-32\n",
      "2242 전라남도 나주시 송월동 1078-2\n",
      "2244 경상남도 김해시 외동 산 28-1\n",
      "2245 경상북도 포항시 남구 대잠동 780-196\n",
      "2246 충청북도 청주시 서원구 모충동 404\n",
      "2249 경상북도 영천시 문외동 245-3\n",
      "2252 전라남도 목포시 남교동 57\n",
      "2255 부산광역시 서구 암남동 89-1\n",
      "2262 충청북도 영동군 영동읍 매천리 444-1\n",
      "2263 충청북도 청주시 상당구 수동 138-8\n",
      "2265 전라남도 목포시 상동 32\n",
      "2266 경상남도 김해시 불암동 220-17\n",
      "2268 경상남도 거창군 거창읍 대동리 992-2\n",
      "2273 대전광역시 중구 안영동 697\n",
      "2274 전라남도 순천시 남정동 256-6\n",
      "2275 충청남도 보령시 동대동 576-1\n",
      "2276 경상남도 양산시 다방동 572-1\n",
      "2278 전라남도 목포시 측후동 4\n",
      "2279 대전광역시 대덕구 장동 366-11\n",
      "2283 부산광역시 동래구 명장동 538\n",
      "2284 전라남도 나주시 송월동 1356\n",
      "2286 경상북도 포항시 남구 대잠동 780-78\n",
      "2291 경기도 광주시 역동 27-15외 6\n",
      "2293 강원도 속초시 금호동 488-408\n",
      "2300 경기도 안산시 단원구 선부동 703-2\n",
      "2305 서울특별시 양천구목동중앙로 25\n",
      "2306 전라남도 여수시 화장동 945-1\n",
      "2307 전라남도 나주시 성북동 207\n",
      "2310 세종특별자치시 한솔동 961\n",
      "2311 경상북도 구미시 거의동 612-4\n",
      "2313 경기도 안산시 단원구 원곡동 990-1\n",
      "2321 대전광역시 서구 관저동 1199\n",
      "2324 경상남도 진주시 충무공동 15-4\n",
      "2333 서울특별시 서초구 반포동 49-8\n",
      "2340 경상북도 김천시 평화동 374-1\n",
      "2344 경기도 안산시 상록구 본오동 1080\n",
      "2347 경기도 안산시 단원구 와동 608\n",
      "2350 경상남도 하동군 하동읍 읍내리 962-2\n",
      "2351 제주특별자치도 제주시 외도일동 632-7\n",
      "2353 대구광역시 수성구 지산동 산 136\n",
      "2355 경기도 안산시 단원구 고잔동 44-1\n",
      "2359 경상남도 양산시 원동면 선리 1421-5\n",
      "2362 충청남도 아산시 온천동 1880\n",
      "2364 경기도 안산시 상록구 사동 854-2\n",
      "2368 경기도 안산시 상록구 팔곡이동 608\n",
      "2372 경상남도 창원시 진해구 남양동 166-1\n",
      "2374 경상북도 포항시 남구 지곡동 482\n",
      "2378 경기도 안산시 단원구 와동 320-9\n",
      "2384 경상남도 창원시 진해구 태백동 104\n",
      "2387 세종특별자치시정부2청사로 13(나성동)\n",
      "2389 대구광역시 달서구 도원동 928\n",
      "2390 울산광역시 울주군 삼남면 교동리 1218-10\n",
      "2394 울산광역시 중구 반구동 46-2\n",
      "2396 울산광역시 남구 선암동584-8번지\n",
      "2402 강원도 원주시 학성동 1023-100\n",
      "2406 강원도 강릉시 포남동 892-7\n",
      "2421 전라북도 전주시 덕진구 송천동2가 1257\n",
      "2423 전라북도 전주시 덕진구 송천동2가 1316\n",
      "2430 전라북도 진안군 주천면동상주천로 2213\n",
      "2434 전라남도 목포시 석현동 1175\n",
      "2439 경상남도 김해시 삼방동 840-2\n",
      "2442 경상북도 김천시 신음동 1015-2\n",
      "2445 대전광역시 동구 가양동 65\n",
      "2446 강원도 삼척시 정상동 376-17\n",
      "2451 전라남도 해남군 문내면동영길 10\n",
      "2463 강원도 삼척시 남양동 39-25\n",
      "2465 경상남도 남해군 삼동면 금송리 1416-1\n",
      "2471 충청북도 제천시내토로 295 건설 민원봉사실 옆 제2주차장 입구 왼쪽(천남동 12-2)\n",
      "2477 경상남도 고성군 회화면 봉동리 1060\n",
      "2480 대구광역시 수성구 범어동 415-4\n",
      "2491 경기도 의정부시 가능동 628\n",
      "2495 충청북도 영동군 심천면 심천리 191-1\n",
      "2496 충청남도 아산시 방축동 5\n",
      "2500 경상남도 거제시 능포동 401-4\n",
      "2502 울산광역시 중구 반구동 582-6\n",
      "2507 충청북도 영동군 상촌면 임산리 346-1\n",
      "2508 경기도 의정부시 장암동 159\n",
      "2521 경상북도 김천시 부곡동 1330\n",
      "2524 광주광역시 북구 월출동 987\n",
      "2528 충청북도 영동군 양산면 가곡리 139-2\n",
      "2540 강원도 춘천시 퇴계동 1072\n",
      "2551 경상북도 포항시 남구 지곡동 482\n",
      "2557 전라남도 보성군 벌교읍 칠동리 92\n",
      "2561 충청북도 음성군 맹동면태정로 6\n",
      "2566 경상남도 창원시 진해구 자은동 401-2\n",
      "2572 경상남도 하동군 옥종면 청룡리 124-7\n",
      "2580 충청북도 영동군 양산면 송호리 278-13\n",
      "2585 충청북도 음성군 맹동면연미로 426\n",
      "2588 충청북도 영동군 양강면 괴목리 201-4\n",
      "2590 경상남도 김해시 관동동 332\n",
      "2612 경상남도 창원시 성산구 반송동 201\n",
      "2615 경상남도 하동군 중평리 763\n",
      "2618 경상북도 구미시 옥계동 941\n",
      "2626 광주광역시 광산구 남산동 698-20\n",
      "2628 경상남도 진주시 남성동 3-1\n",
      "2632 경상북도 구미시 옥계동 941\n",
      "2633 경상북도 김천시 부곡동 1330\n",
      "2636 경상남도 하동군 적량면 서리 1765-13\n",
      "2640 경상남도 하동군 금남면 송문리 824-1\n",
      "2646 경상남도 하동군 적량면 고절리 1209-1\n",
      "2654 강원도 강릉시 안현동 868-6\n",
      "2657 경상남도 하동군 화개면 대성리 1212-1\n",
      "2663 대구광역시 동구 효목동 1042 1042\n",
      "2668 경기도 안성시 공도읍서동대로 4478？\n",
      "2671 충청남도 서산시 동문동 800번지 -\n",
      "2674 충청남도 보령시 신흑동 2285 2286\n",
      "2689 부산광역시 남구 용당동 454-2\n",
      "2690 대구광역시 동구 둔산동 934-3\n",
      "2693 경상북도 영천시운동장로 94\n",
      "2701 경상남도 하동군 금남면 노량리 704\n",
      "2702 경상북도 구미시 광평동 366-4\n",
      "2711 전라남도 구례군 산동면 좌사리 846-8\n",
      "2729 경상북도 포항시 남구 대잠동 969\n",
      "2733 대구광역시 동구 봉무동 산 138-5\n",
      "2737 경상남도 진주시 진성면동부로 1259번길 32\n",
      "2745 경상남도 창원시 의창구 사림동 70\n",
      "2749 광주광역시 광산구 황룡동 1-4\n",
      "2750 강원도 동해시 천곡동 996\n",
      "2751 부산광역시 남구 용호동 947-1\n",
      "2755 강원도 춘천시 송암동 357-1\n",
      "2758 경기도 구리시 갈매동 53-44\n",
      "2760 인천광역시 남동구소래로 645\n",
      "2771 충청남도 아산시 온천동 1926\n",
      "2774 강원도 강릉시 남항진동 산 7-7\n",
      "2776 제주특별자치도 제주시 노형동 2517-1\n",
      "2779 제주특별자치도 제주시 노형동 2534-3\n",
      "2785 전라남도 구례군 산동면 탑정리 362\n",
      "2789 세종특별자치시다솜2로 94(어진동)\n",
      "2790 세종특별자치시다솜3로 95(어진동)\n",
      "2794 경상남도 창원시 성산구외동반림로 51-88\n",
      "2797 충청북도 영동군 양산면 송호리 278-13\n",
      "2798 세종특별자치시국세청로 8-14(나성동)\n",
      "2799 세종특별자치시갈매로 408(어진동)\n",
      "2800 부산광역시 기장군 장안읍동해고속도로 26\n",
      "2809 부산광역시 기장군 장안읍동해고속도로 25\n",
      "2814 세종특별자치시갈매로 388(어진동)\n",
      "2824 경상북도 포항시 북구 죽도동 557-7\n",
      "2826 전라북도 남원시 송동면송기길 56\n",
      "2830 강원도 강릉시 홍제동강릉대로 33\n",
      "2836 충청남도 논산시동안로 1407\n",
      "2846 경기도 고양시 일산동구무궁화로 237\n",
      "2847 광주광역시 광산구동곡로 151-56(하산동)\n",
      "2848 경기도 김포시김포한강8로 302 (마산동)\n",
      "2851 강원도 태백시보드미길 8(장성동)\n",
      "2854 인천광역시 중구 송월동2가 4\n",
      "2860 인천광역시 중구 운북동 464\n",
      "2862 전라북도 전주시 덕진구가련산로 26-3 (송천동1가)\n",
      "2871 강원도 영월군 김삿갓면옥동장터길 36\n",
      "2899 경기도 이천시 장호원읍서동대로 8809번길 30-15\n",
      "2915 충청북도 괴산군 괴산읍동진천길 43\n",
      "2920 충청남도 천안시 서북구동서대로 110-9\n",
      "2933 경기도 화성시동탄중앙로 376\n",
      "2936 전라북도 완주군 봉동읍봉비로 166 제일오투마트 앞 주차장\n",
      "2965 충청북도 음성군 맹동면원중로 1339\n",
      "2968 경기도 고양시 덕양구 용두동 2-71\n",
      "2976 울산광역시 울주군 삼동면보삼길 550\n",
      "2978 충청북도 영동군 용산면영동산단로 27\n",
      "2982 충청북도 영동군 영동읍 매천리 165\n",
      "2983 경기도 안산시 상록구 부곡동 719-1\n",
      "2984 충청북도 영동군 매곡면민주지산로 3595\n",
      "2986 충청북도 영동군 영동읍 오탄리 677-47\n",
      "2997 울산광역시 남구 옥동 363-1\n",
      "3001 경기도 안양시 동안구 관양동 1709\n",
      "3019 경기도 안산시 단원구 초지동 43-6\n",
      "3024 울산광역시 남구 옥동 95\n",
      "3035 전라남도 여수시 시전동 684\n",
      "3045 서울특별시 양천구목동동로 257\n",
      "3074 인천광역시 남동구남동서로 209\n",
      "3083 경상남도 합천군 초계면동부로 1240\n",
      "3089 경기도 시흥시 정왕동 2446\n",
      "3095 경기도 시흥시 정왕동 2402\n",
      "3098 경상남도 의령군 낙서면낙동강로 859\n",
      "3100 경상북도 안동시관광단지로 316\n",
      "3102 경기도 시흥시 정왕동 2421\n",
      "3103 전라북도 남원시동림로 116\n",
      "3113 서울특별시 영등포구 여의도동 1\n",
      "3116 전라북도 군산시 수송동 851\n",
      "3119 서울특별시 서초구 원지동 361-1\n",
      "3125 강원도 속초시 대포동 993-1\n",
      "3130 강원도 속초시 대포동 976\n",
      "3135 전라북도 익산시 남중동 12-1\n",
      "3136 전라북도 김제시 만경읍대동공단2길 12\n",
      "3145 경기도 안산시 단원구 고잔동 556-1\n",
      "3146 경기도 과천시 갈현동 산 31-1\n",
      "3150 경기도 성남시 중원구 성남동 4596\n",
      "3151 경기도 고양시 일산동구중앙로 1286\n",
      "3152 충청북도 영동군 황간면원촌동1길 54-8\n",
      "3153 경기도 성남시 수정구 단대동 27-1\n",
      "3154 경기도 성남시 수정구 단대동 산 164-3\n",
      "3158 경기도 여주시 창동 46\n",
      "3160 경기도 안산시 단원구 와동 227\n",
      "3161 경기도 안산시 단원구 와동 515-4\n",
      "3163 경기도 평택시 통복동 69-1\n",
      "3171 경기도 화성시 영천동 120-5\n",
      "3172 경기도 안산시 상록구 부곡동 705\n",
      "3175 서울특별시 성동구청계천로 540\n",
      "3178 광주광역시 서구 치평동 1162\n",
      "3179 서울특별시 강동구천호대로 1183\n",
      "3180 경기도 하남시 천현동 507-3\n",
      "3181 경기도 시흥시 정왕동 2579\n",
      "3182 인천광역시 남동구남동대로 916번길 47\n",
      "3183 서울특별시 중랑구 중화동 73-5\n",
      "3184 경기도 성남시 중원구 중앙동 2169\n",
      "3185 경기도 안산시 단원구 대부동동 산148-4\n",
      "3191 경기도 안산시 단원구 고잔동 654-19\n",
      "3193 서울특별시 중랑구 중화동 73-10\n",
      "3195 광주광역시 동구 내남동 284\n",
      "3200 광주광역시 남구 진월동 330-49\n",
      "3203 경기도 성남시 수정구 산성동 508\n",
      "3205 경기도 시흥시 조남동 656\n",
      "3206 전라남도 곡성군 오산면 봉동리 609-2\n",
      "3209 경기도 안산시 단원구 선부동 677-6\n",
      "3211 충청북도 영동군 용화면휴양림길 60\n",
      "3212 인천광역시 남동구소래역로 115\n",
      "3217 강원도 삼척시동해대로 3852\n",
      "3221 경기도 여주시 창동 138-7\n",
      "3223 경기도 고양시 일산서구 탄현동 1596\n",
      "3226 경기도 시흥시 정왕동 2466\n",
      "3231 강원도 평창군 봉평면 창동리 413\n",
      "3233 서울특별시 노원구동일로 197길 24\n",
      "3235 강원도 영월군 상동읍 내덕리 33-18\n",
      "3239 인천광역시 연수구 연수동 587\n",
      "3250 강원도 정선군 신동읍새골길 30\n",
      "3251 전라북도 익산시동서로 103\n",
      "3256 전라북도 익산시 용동면 대조리 814\n",
      "3259 전라북도 익산시 팔봉동 883\n",
      "3260 전라북도 군산시 미장동 500-1\n",
      "3265 경기도 동두천시 동두천동 289-2\n",
      "3275 전라남도 신안군 안좌면 읍동리 1131-1\n",
      "3276 강원도 화천군 간동면배후령길 1144\n",
      "3285 전라북도 익산시 인화동2가 7\n",
      "3287 전라남도 해남군 해남읍 연동리 109-1\n",
      "3298 전라북도 군산시 구암동 613\n",
      "3300 경기도 시흥시 정왕동 1771-23\n",
      "3307 전라북도 남원시 용정동 75-14\n",
      "3308 전라북도 남원시 광치동 195-15\n",
      "3310 전라북도 부안군 행안면 진동리 817\n",
      "3314 경기도 시흥시 정왕동 2394\n",
      "3327 전라북도 남원시 노암동 839-1\n",
      "3328 전라남도 순천시 조례동 138\n",
      "3337 충청북도 충주시 지현동 696\n",
      "3338 경기도 안산시 상록구 팔곡이동 508-4\n",
      "3340 전라남도 영광군 영광읍 도동리 159-5\n",
      "3349 전라북도 군산시 나운동 156-1\n",
      "3352 경기도 안성시 옥산동 596\n",
      "3381 인천광역시 강화군 교동면교동동로 485-13\n",
      "3382 강원도 강릉시 홍제동 101\n",
      "3383 서울특별시 서초구동산로 35\n",
      "3397 경기도 안산시 단원구 선부동 1121-14\n",
      "3404 경기도 연천군 신서면동내로 1384\n",
      "3408 경상북도 구미시 산동면첨단기업1로 17\n",
      "3446 전라남도 광양시 마동 1188\n",
      "3448 경상남도 거제시 양정동 665-1\n",
      "3471 울산광역시 울주군 두동면 천전리 307\n",
      "3475 전라남도 순천시 연향동 1686-6\n",
      "3482 전라남도 순천시 가곡동 236-1\n",
      "3483 전라남도 여수시 웅천동 1865-1\n",
      "3484 광주광역시 남구 임암동 986\n",
      "3493 세종특별자치시 연동면 내판리 713\n",
      "3494 전라남도 곡성군 목사동면주목로 759\n",
      "3508 대전광역시 대덕구 송촌동 458\n",
      "3513 세종특별자치시 연동면 응암리 916\n",
      "3515 전라북도 전주시 완산구 서서학동 986-6\n",
      "3516 경기도 화성시 송동 727\n",
      "3518 경상남도 창원시 마산합포구 진동면신서촌로 15\n",
      "3519 경상남도 창원시 진동면삼진의거대로 440\n",
      "3520 경상남도 진주시동진로 155\n",
      "3524 경상남도 사천시 동림동 200\n",
      "3527 경상남도 하동군 양보면 운암리 154\n",
      "3529 경상북도 안동시 도산면퇴계로 1997\n",
      "3530 경상남도 의령군 의령읍 서동리 509-4\n",
      "3536 경상남도 의령군 의령읍 서동리 277\n",
      "3545 서울특별시 강남구 개포동 1273\n",
      "3546 경상북도 안동시퇴계로 115\n",
      "3547 경상남도 김해시 봉황동 465\n",
      "3550 경상북도 안동시학가산온천길 42\n",
      "3555 서울특별시 중랑구 중화동 73-6\n",
      "3559 서울특별시 강남구 도곡동 922\n",
      "3565 경상북도 경산시 임당동 860\n",
      "3570 경기도 안산시 단원구 원시동 782-16\n",
      "3578 전라남도 진도군 임회면동령개길 1-92\n",
      "3581 경상북도 의성군 단일면낙동대로 3962\n",
      "3582 경상북도 안동시 풍산읍 노리 215-3\n",
      "3588 대구광역시 달서구 두류동 1252-4\n",
      "3590 경기도 안양시 만안구 안양동 1041-1\n",
      "3604 경상북도 경주시 강동면 인동리 35-6\n",
      "3606 울산광역시 중구 우정동 277-4\n",
      "3612 경상북도 경주시 신평동 375-7\n",
      "3615 경상북도 경주시 외동읍 문산리 956\n",
      "3617 제주특별자치도 제주시하귀동남1길 22\n",
      "3618 경상북도 경산시 계양동 732\n",
      "3645 강원도 정선군 신동읍 조동리 산70-26\n",
      "3649 인천광역시 서구 경서동 673-6\n",
      "3652 전라북도 정읍시 덕천면동학로 742\n",
      "3653 부산광역시 사상구 덕포동 415-2\n",
      "3654 경기도 고양시 일산동구 식사동 425-4\n",
      "3659 경상북도 포항시 북구 장성동 1365\n",
      "3666 인천광역시 계양구 서운동 207-1\n",
      "3677 충청남도 천안시 서북구 두정동 91-1\n",
      "3678 경상북도 경주시 강동면 유금리 1215\n",
      "3684 부산광역시 해운대구 좌동 사서함 321-16호\n",
      "3691 충청남도 천안시 동남구 안서동 526-39\n",
      "3693 경상남도 진주시 평거동 202-1\n",
      "3701 경상남도 진주시 신안동 9-3\n",
      "3707 충청남도 공주시 신관동 4\n",
      "3709 경상남도 하동군 횡천면횡보길 10\n",
      "3732 경상남도 통영시 도남동 354\n",
      "3754 경상북도 영주시 문수면 적동리 125-4\n",
      "3782 경기도 남양주시 다산동 6148\n",
      "3783 울산광역시 울주군 삼동면 보은리 산213-15\n",
      "3785 충청남도 아산시 방축동 655-5\n",
      "3786 울산광역시 울주군 삼동면 보은리 산193-1\n",
      "3791 경상북도 김천시 부곡동 899-2\n",
      "3793 경기도 안산시 단원구 대부북동 1870-201\n",
      "3801 경기도 화성시 석우동 60\n",
      "3813 전라남도 구례군 토지면 내동리 산 69-2\n",
      "3814 경기도 화성시 우정읍기아자동차로 189\n",
      "3815 강원도 춘천시 삼천동 22-15\n",
      "3816 경상북도 안동시 도산면퇴계로 2189\n",
      "3817 경상남도 진주시 호탄동 769\n",
      "3818 경상남도 사천시 대방동 765-3\n",
      "3821 경상북도 경주시 신평동 480-1\n",
      "3823 충청남도 천안시 서북구 불당동 910\n",
      "3824 경상남도 통영시 도남동 635\n",
      "3831 경상북도 안동시 성곡동 1560\n",
      "3834 서울특별시 강남구 수서동 718\n",
      "3835 경상남도 양산시 덕계동 989\n",
      "3837 경상남도 고성군 회화면 봉동리 1060-6\n",
      "3839 대구광역시 북구 읍내동 660-2\n",
      "3841 경상북도 경주시 북군동 8-28\n",
      "3842 경상북도 경주시 동천동 800\n",
      "3846 경상북도 구미시 구포동 1168\n",
      "3848 경상남도 하동군 하동읍 화심리 1681\n",
      "3851 경상북도 경주시 황성동 1053-231\n",
      "3852 충청남도 공주시 송선동 320-16\n",
      "3860 충청북도 청주시 청원구 오동동 339-1\n",
      "3861 경상남도 의령군 의령읍 동동리 1633\n",
      "3863 경상남도 남해군 삼동면 봉화리 2572-1\n",
      "3868 경상북도 안동시 도산면 동부리 36\n",
      "3871 경상북도 안동시 풍산읍풍산태사로 1913-54\n",
      "3872 경상북도 포항시 북구 송라면동해대로 3218번길 34\n",
      "3880 경상북도 상주시 성동동 67-1\n",
      "3884 경상남도 하동군 하동읍송림1길 12\n",
      "3885 울산광역시 남구 옥동 635-3\n",
      "3894 경상북도 경주시 신평동 417-6\n",
      "3896 경상북도 경주시 신평동 391-2\n",
      "3899 경상북도 경주시 신평동 485-4\n",
      "3900 경상북도 경주시 신평동 719-216\n",
      "3902 충청남도 보령시 대천동중앙로 236\n",
      "3906 경상북도 군위군 군위읍동서1길 13\n",
      "3908 충청남도 천안시 동남구 구성동 153-77\n",
      "3909 충청남도 아산시 온천동 1906\n",
      "3914 충청남도 보령시 대천동 406-6\n",
      "3925 전라남도 장흥군 장동면 하산리 산81-2\n",
      "3928 전라남도 순천시 야흥동 268-3\n",
      "3929 전라남도 영암군 미암면 춘동리 20-9\n",
      "3931 전라남도 순천시 조례동 1114\n",
      "3932 경기도 안양시 동안구동안로 159번길 43\n",
      "3934 경기도 안성시 석정동 377\n",
      "3941 경기도 안산시 상록구 장하동 산8-1\n",
      "3944 경기도 안산시 단원구 성곡동 696\n",
      "3955 서울특별시 강북구 우이동 산101-5\n",
      "3960 서울특별시 마포구 염리동 61-4\n",
      "3978 광주광역시 북구 삼각동 산148-1\n",
      "3985 전라남도 장흥군 장동면신북1길 35\n",
      "4010 대구광역시 북구동암로 130\n",
      "4027 경상북도 안동시 남후면남일로 1463\n",
      "4037 경상북도 상주시 함창읍 오동리 854\n",
      "4049 대전광역시 서구 변동 57-1\n",
      "4057 충청북도 충주시 교현동 357-4\n",
      "4063 광주광역시 광산구 송정동 1007-4\n",
      "4072 대전광역시 서구 변동 18-1\n",
      "4075 대전광역시 유성구동서대로 621\n",
      "4080 대전광역시 유성구 덕명동 513\n",
      "4081 부산광역시 사하구낙동남로 1191\n",
      "4084 대전광역시 유성구 교촌동 636-1\n",
      "4085 대전광역시 서구 관저동 843-16\n",
      "4088 대전광역시 유성구 신성동 211-2\n",
      "4096 대전광역시 유성구 송강동 36-8\n",
      "4097 대전광역시 유성구 송강동 16-1\n",
      "4102 전라남도 목포시 옥암동 1100\n",
      "4117 대전광역시 서구 복수동 292-25\n",
      "4127 경기도 고양시 덕양구 행주외동 60-10\n",
      "4132 경기도 시흥시 정왕동 876-537\n",
      "4135 경기도 안산시 단원구 초지동 674-1\n",
      "4136 경상남도 사천시 실안동 1234-1\n",
      "4137 경기도 안산시 단원구 고잔동 679-1\n",
      "4152 대구광역시 수성구 지산동 산 136\n",
      "4163 경기도 구리시동구릉로 136번길 57\n",
      "4171 충청남도 서산시 예천동 1277-3\n",
      "4176 충청남도 서산시 동문동 934-9\n",
      "4182 전라남도 나주시 빛가람동 891-2\n",
      "4212 광주광역시 북구 운암동 1582\n",
      "4220 충청남도 서산시 동문동 982-4\n",
      "4224 경상북도 안동시보현로 12\n",
      "4233 경상북도 안동시경동로 1375\n",
      "4242 경기도 남양주시 평내동 588-3\n",
      "4263 전라북도 고창군 고창읍운동장길 36\n",
      "4276 충청북도 영동군 황간면 회포리 117\n",
      "4283 충청북도 영동군 황간면 마산리 758\n",
      "4286 서울특별시 강남구 일원동 4-49\n",
      "4298 인천광역시 연수구 청학동 466-1\n",
      "4299 인천광역시 연수구 청학동 90-5\n",
      "4310 제주특별자치도 제주시동광로 66\n",
      "4315 제주특별자치도 서귀포시 대정읍동일하모로 149번길 21-8\n",
      "4319 제주특별자치도 서귀포시 신효동 881-8\n",
      "4337 충청남도 서산시 읍내동 472-5\n",
      "4338 경상북도 포항시 북구 흥해읍동해대로 1511\n",
      "4348 경상남도 김해시 대청동 산63-2\n",
      "4363 경기도 용인시 처인구동백죽전대로 61\n"
     ]
    }
   ],
   "source": [
    "# 16, 163, 1206, 1377, 1568, 1647, 1811, 2396\n",
    "split5 = re.compile('([가-힣]+동)([0-9]*(?![0-9길로]))')\n",
    "for i, one in enumerate(adr):\n",
    "    if split5.search(one):\n",
    "        print(i, one)"
   ]
  },
  {
   "cell_type": "code",
   "execution_count": null,
   "metadata": {},
   "outputs": [],
   "source": []
  },
  {
   "cell_type": "code",
   "execution_count": null,
   "metadata": {},
   "outputs": [],
   "source": []
  },
  {
   "cell_type": "code",
   "execution_count": null,
   "metadata": {},
   "outputs": [],
   "source": []
  },
  {
   "cell_type": "code",
   "execution_count": null,
   "metadata": {},
   "outputs": [],
   "source": []
  },
  {
   "cell_type": "markdown",
   "metadata": {},
   "source": [
    "#### [붙이기] \"-동\" \"(숫자)가\" 붙이기"
   ]
  },
  {
   "cell_type": "code",
   "execution_count": 114,
   "metadata": {},
   "outputs": [],
   "source": [
    "# 전라북도 전주시 덕진구 덕진동 2가 179-6\n",
    "# 전라북도 전주시 덕진동 2가 694-1"
   ]
  },
  {
   "cell_type": "code",
   "execution_count": 115,
   "metadata": {},
   "outputs": [
    {
     "name": "stdout",
     "output_type": "stream",
     "text": [
      "283\n"
     ]
    }
   ],
   "source": [
    "for i, one in enumerate(adr):\n",
    "    if '전라북도 전주시 덕진구 덕진동 2가 179-6' in one:\n",
    "        print(i)"
   ]
  },
  {
   "cell_type": "code",
   "execution_count": 116,
   "metadata": {},
   "outputs": [
    {
     "data": {
      "text/plain": [
       "'전라북도 전주시 덕진구 덕진동 2가 179-6'"
      ]
     },
     "execution_count": 116,
     "metadata": {},
     "output_type": "execute_result"
    }
   ],
   "source": [
    "adr[283]"
   ]
  },
  {
   "cell_type": "code",
   "execution_count": 119,
   "metadata": {},
   "outputs": [
    {
     "data": {
      "text/plain": [
       "'전라북도 전주시 덕진구 덕진동2가 179-6'"
      ]
     },
     "execution_count": 119,
     "metadata": {},
     "output_type": "execute_result"
    }
   ],
   "source": [
    "split4 = re.compile('([가-힣]+동) ([0-9]+가)')\n",
    "s = adr[283]\n",
    "split4.sub('\\g<1>\\g<2>', s)"
   ]
  },
  {
   "cell_type": "code",
   "execution_count": 138,
   "metadata": {},
   "outputs": [
    {
     "name": "stdout",
     "output_type": "stream",
     "text": [
      "607\n"
     ]
    }
   ],
   "source": [
    "for i, one in enumerate(adr):\n",
    "    if '전라북도 전주시 덕진동' in one:\n",
    "        print(i)"
   ]
  },
  {
   "cell_type": "code",
   "execution_count": 139,
   "metadata": {},
   "outputs": [
    {
     "data": {
      "text/plain": [
       "'전라북도 전주시 덕진동 2가 694-1'"
      ]
     },
     "execution_count": 139,
     "metadata": {},
     "output_type": "execute_result"
    }
   ],
   "source": [
    "adr[607]"
   ]
  },
  {
   "cell_type": "code",
   "execution_count": 142,
   "metadata": {},
   "outputs": [
    {
     "name": "stdout",
     "output_type": "stream",
     "text": [
      "649\n"
     ]
    }
   ],
   "source": [
    "for i, one in enumerate(adr):\n",
    "    if '대구광역시 북구 노원동' in one:\n",
    "        print(i)"
   ]
  },
  {
   "cell_type": "code",
   "execution_count": 143,
   "metadata": {},
   "outputs": [
    {
     "data": {
      "text/plain": [
       "'대구광역시 북구 노원동2가 214'"
      ]
     },
     "execution_count": 143,
     "metadata": {},
     "output_type": "execute_result"
    }
   ],
   "source": [
    "adr[649]"
   ]
  },
  {
   "cell_type": "code",
   "execution_count": 144,
   "metadata": {},
   "outputs": [
    {
     "data": {
      "text/plain": [
       "2"
      ]
     },
     "execution_count": 144,
     "metadata": {},
     "output_type": "execute_result"
    }
   ],
   "source": [
    "count = 0\n",
    "for i, one in enumerate(adr):\n",
    "    if split4.search(one):\n",
    "        # adr[i] = split4.sub('\\g<1>\\g<2>', one)\n",
    "        count += 1\n",
    "count"
   ]
  },
  {
   "cell_type": "code",
   "execution_count": 145,
   "metadata": {},
   "outputs": [
    {
     "data": {
      "text/plain": [
       "2"
      ]
     },
     "execution_count": 145,
     "metadata": {},
     "output_type": "execute_result"
    }
   ],
   "source": [
    "count = 0\n",
    "for i, one in enumerate(adr):\n",
    "    if split4.search(one):\n",
    "        adr[i] = split4.sub('\\g<1>\\g<2>', one)\n",
    "        count += 1\n",
    "count"
   ]
  },
  {
   "cell_type": "code",
   "execution_count": 146,
   "metadata": {},
   "outputs": [
    {
     "data": {
      "text/plain": [
       "'전라북도 전주시 덕진동2가 694-1'"
      ]
     },
     "execution_count": 146,
     "metadata": {},
     "output_type": "execute_result"
    }
   ],
   "source": [
    "adr[607]"
   ]
  },
  {
   "cell_type": "code",
   "execution_count": 147,
   "metadata": {},
   "outputs": [
    {
     "data": {
      "text/plain": [
       "'대구광역시 북구 노원동2가 214'"
      ]
     },
     "execution_count": 147,
     "metadata": {},
     "output_type": "execute_result"
    }
   ],
   "source": [
    "adr[649]"
   ]
  },
  {
   "cell_type": "markdown",
   "metadata": {},
   "source": [
    "# 코드 마지막"
   ]
  }
 ],
 "metadata": {
  "kernelspec": {
   "display_name": "Python 3.9.13 ('base')",
   "language": "python",
   "name": "python3"
  },
  "language_info": {
   "codemirror_mode": {
    "name": "ipython",
    "version": 3
   },
   "file_extension": ".py",
   "mimetype": "text/x-python",
   "name": "python",
   "nbconvert_exporter": "python",
   "pygments_lexer": "ipython3",
   "version": "3.9.13"
  },
  "orig_nbformat": 4,
  "vscode": {
   "interpreter": {
    "hash": "ad2bdc8ecc057115af97d19610ffacc2b4e99fae6737bb82f5d7fb13d2f2c186"
   }
  }
 },
 "nbformat": 4,
 "nbformat_minor": 2
}
