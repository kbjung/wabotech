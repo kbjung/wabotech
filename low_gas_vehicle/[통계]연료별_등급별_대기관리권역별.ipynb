{
 "cells": [
  {
   "attachments": {},
   "cell_type": "markdown",
   "metadata": {},
   "source": [
    "# Library"
   ]
  },
  {
   "cell_type": "code",
   "execution_count": 19,
   "metadata": {},
   "outputs": [],
   "source": [
    "import pandas as pd\n",
    "import numpy as np\n",
    "from tqdm import tqdm\n",
    "import os\n",
    "from datetime import datetime"
   ]
  },
  {
   "attachments": {},
   "cell_type": "markdown",
   "metadata": {},
   "source": [
    "# fold path"
   ]
  },
  {
   "cell_type": "code",
   "execution_count": 37,
   "metadata": {},
   "outputs": [],
   "source": [
    "ods_fold = 'D:/data/big2/ODS'\n",
    "fold = 'D:/data/big2'"
   ]
  },
  {
   "cell_type": "markdown",
   "metadata": {},
   "source": [
    "# [로드] 등록&제원 정보 2022.12.28 기준 "
   ]
  },
  {
   "cell_type": "code",
   "execution_count": 38,
   "metadata": {},
   "outputs": [
    {
     "name": "stderr",
     "output_type": "stream",
     "text": [
      " 40%|████      | 2/5 [04:21<07:15, 145.06s/it]"
     ]
    }
   ],
   "source": [
    "# about 8m 18s\n",
    "df = pd.DataFrame()\n",
    "for i in tqdm(range(1, 6)):\n",
    "    file_name = f'[ODS][G{i}]등록정보&제원정보(말소제거)(2022.12.28).csv'\n",
    "    temp = pd.read_csv(os.path.join(ods_fold, file_name), encoding='cp949', low_memory=False)\n",
    "    temp = temp.sort_values(['최초등록일자', '배출가스검사유효일자'], ascending=[False, False]).drop_duplicates('차대번호').reset_index(drop=True)\n",
    "    df = pd.concat([df, temp], ignore_index=True)"
   ]
  },
  {
   "cell_type": "code",
   "execution_count": null,
   "metadata": {},
   "outputs": [],
   "source": [
    "df.info()"
   ]
  },
  {
   "cell_type": "code",
   "execution_count": null,
   "metadata": {},
   "outputs": [
    {
     "data": {
      "text/plain": [
       "(25404385, 49)"
      ]
     },
     "execution_count": 4,
     "metadata": {},
     "output_type": "execute_result"
    }
   ],
   "source": [
    "df.shape"
   ]
  },
  {
   "attachments": {},
   "cell_type": "markdown",
   "metadata": {},
   "source": [
    "# [로드] 본거지법정동코드"
   ]
  },
  {
   "cell_type": "code",
   "execution_count": null,
   "metadata": {},
   "outputs": [
    {
     "name": "stdout",
     "output_type": "stream",
     "text": [
      "<class 'pandas.core.frame.DataFrame'>\n",
      "RangeIndex: 46340 entries, 0 to 46339\n",
      "Data columns (total 9 columns):\n",
      " #   Column    Non-Null Count  Dtype  \n",
      "---  ------    --------------  -----  \n",
      " 0   법정동코드     46340 non-null  int64  \n",
      " 1   시도        46340 non-null  object \n",
      " 2   시구군       46317 non-null  object \n",
      " 3   읍면동       45847 non-null  object \n",
      " 4   리         33682 non-null  object \n",
      " 5   지역3       0 non-null      float64\n",
      " 6   폐지여부      46340 non-null  object \n",
      " 7   대기관리권역    46340 non-null  object \n",
      " 8   대기관리권역YN  46334 non-null  object \n",
      "dtypes: float64(1), int64(1), object(7)\n",
      "memory usage: 3.2+ MB\n"
     ]
    }
   ],
   "source": [
    "file_name = '법정동코드_2022.10.14.xlsx'\n",
    "code = pd.read_excel(os.path.join(fold, file_name))\n",
    "code.info()"
   ]
  },
  {
   "attachments": {},
   "cell_type": "markdown",
   "metadata": {},
   "source": [
    "# [merge] 법정동코드 기준"
   ]
  },
  {
   "cell_type": "code",
   "execution_count": null,
   "metadata": {},
   "outputs": [
    {
     "data": {
      "text/plain": [
       "0"
      ]
     },
     "execution_count": 9,
     "metadata": {},
     "output_type": "execute_result"
    }
   ],
   "source": [
    "# '본거지법정도코드'열 데이터 확인\n",
    "df['본거지법정동코드'].isnull().sum()"
   ]
  },
  {
   "cell_type": "code",
   "execution_count": null,
   "metadata": {},
   "outputs": [
    {
     "data": {
      "text/plain": [
       "(25404385, 49)"
      ]
     },
     "execution_count": 10,
     "metadata": {},
     "output_type": "execute_result"
    }
   ],
   "source": [
    "df.shape"
   ]
  },
  {
   "cell_type": "code",
   "execution_count": null,
   "metadata": {},
   "outputs": [
    {
     "data": {
      "text/plain": [
       "(25404385, 58)"
      ]
     },
     "execution_count": 11,
     "metadata": {},
     "output_type": "execute_result"
    }
   ],
   "source": [
    "# about 39s\n",
    "tot = df.merge(code, left_on='본거지법정동코드', right_on='법정동코드', how='left')\n",
    "tot.shape"
   ]
  },
  {
   "cell_type": "code",
   "execution_count": null,
   "metadata": {},
   "outputs": [
    {
     "data": {
      "text/plain": [
       "25404384"
      ]
     },
     "execution_count": 12,
     "metadata": {},
     "output_type": "execute_result"
    }
   ],
   "source": [
    "len(tot['차대번호'].unique())"
   ]
  },
  {
   "cell_type": "code",
   "execution_count": null,
   "metadata": {},
   "outputs": [
    {
     "data": {
      "text/plain": [
       "0"
      ]
     },
     "execution_count": 13,
     "metadata": {},
     "output_type": "execute_result"
    }
   ],
   "source": [
    "tot['차대번호'].isnull().sum()"
   ]
  },
  {
   "attachments": {},
   "cell_type": "markdown",
   "metadata": {},
   "source": [
    "# 전처리"
   ]
  },
  {
   "attachments": {},
   "cell_type": "markdown",
   "metadata": {},
   "source": [
    "## 말소제거\n",
    "- 차량말소YN"
   ]
  },
  {
   "cell_type": "code",
   "execution_count": null,
   "metadata": {},
   "outputs": [],
   "source": [
    "tot['차량말소YN'].value_counts(dropna=False)"
   ]
  },
  {
   "cell_type": "code",
   "execution_count": null,
   "metadata": {},
   "outputs": [
    {
     "data": {
      "text/plain": [
       "Index(['차량관리번호', '차량등록번호', '본거지법정동코드', '소유자구분', '차종_등록정보', '용도', '현재회원번호',\n",
       "       '차대번호', '최초등록일자', '차량연식', '차량제작일자', '배출가스검사유효일자', '제원관리번호', '배출가스인증번호',\n",
       "       '배출가스등급', '저공해조치YN(미사용)', '저공해조치종류', '저공해조치구조변경YN', '차량등록번호숫자정보',\n",
       "       '차량말소YN', '최초회원번호', '취득일자', '취득금액', '생성일시_등록정보', '수정일시_등록정보', '차명',\n",
       "       '차종_제원정보', '차종분류', '차종유형(소분류)', '자동차형식', '제작사명', '연료', '엔진형식', '공차중량',\n",
       "       '총중량', '적재중량', '엔진출력', '배기량', '승차인원', '차량길이', '차량너비', '차량높이', '원산지명',\n",
       "       '삭제YN', '승인일자', '구동형식', '변속기종류', '생성일시_제원정보', '수정일시_제원정보', '법정동코드',\n",
       "       '시도', '시구군', '읍면동', '리', '지역3', '폐지여부', '대기관리권역', '대기관리권역YN'],\n",
       "      dtype='object')"
      ]
     },
     "execution_count": 15,
     "metadata": {},
     "output_type": "execute_result"
    }
   ],
   "source": [
    "tot.columns"
   ]
  },
  {
   "attachments": {},
   "cell_type": "markdown",
   "metadata": {},
   "source": [
    "## 폐지여부 확인"
   ]
  },
  {
   "cell_type": "code",
   "execution_count": null,
   "metadata": {},
   "outputs": [
    {
     "data": {
      "text/plain": [
       "존재     25322420\n",
       "폐지        81963\n",
       "NaN           2\n",
       "Name: 폐지여부, dtype: int64"
      ]
     },
     "execution_count": 16,
     "metadata": {},
     "output_type": "execute_result"
    }
   ],
   "source": [
    "tot['폐지여부'].value_counts(dropna=False)"
   ]
  },
  {
   "attachments": {},
   "cell_type": "markdown",
   "metadata": {},
   "source": [
    "## 법정동코드 확인"
   ]
  },
  {
   "cell_type": "code",
   "execution_count": null,
   "metadata": {},
   "outputs": [
    {
     "data": {
      "text/plain": [
       "2"
      ]
     },
     "execution_count": 17,
     "metadata": {},
     "output_type": "execute_result"
    }
   ],
   "source": [
    "tot['법정동코드'].isnull().sum()"
   ]
  },
  {
   "attachments": {},
   "cell_type": "markdown",
   "metadata": {},
   "source": [
    "## 연료 확인"
   ]
  },
  {
   "cell_type": "code",
   "execution_count": 18,
   "metadata": {},
   "outputs": [
    {
     "data": {
      "text/plain": [
       "264"
      ]
     },
     "execution_count": 18,
     "metadata": {},
     "output_type": "execute_result"
    }
   ],
   "source": [
    "tot['연료'].isnull().sum()"
   ]
  },
  {
   "cell_type": "code",
   "execution_count": 19,
   "metadata": {},
   "outputs": [
    {
     "data": {
      "text/plain": [
       "휘발유            12101061\n",
       "경유              9860935\n",
       "LPG(액화석유가스)     1896594\n",
       "휘발유 하이브리드       1071375\n",
       "전기               366804\n",
       "경유 하이브리드          34191\n",
       "CNG(압축천연가스)       30311\n",
       "수소                28102\n",
       "LPG 하이브리드         14350\n",
       "CNG 하이브리드           304\n",
       "NaN                 264\n",
       "기타연료                 67\n",
       "LNG(액화천연가스)          25\n",
       "알코올                   2\n",
       "Name: 연료, dtype: int64"
      ]
     },
     "execution_count": 19,
     "metadata": {},
     "output_type": "execute_result"
    }
   ],
   "source": [
    "tot['연료'].value_counts(dropna=False)"
   ]
  },
  {
   "cell_type": "markdown",
   "metadata": {},
   "source": [
    "### 기타연료의 차명으로 매칭"
   ]
  },
  {
   "cell_type": "code",
   "execution_count": null,
   "metadata": {},
   "outputs": [
    {
     "data": {
      "text/plain": [
       "array(['홍성캠핑트레일러', '에어스트림탐지견수송트레일러'], dtype=object)"
      ]
     },
     "metadata": {},
     "output_type": "display_data"
    }
   ],
   "source": [
    "tot.loc[tot['연료'] == '기타연료', '차명'].unique()"
   ]
  },
  {
   "cell_type": "code",
   "execution_count": null,
   "metadata": {},
   "outputs": [],
   "source": [
    "# 홍성캠핑트레일러 : 무동력\n",
    "# 에어스트림탐지견수송트레일러 : 무동력"
   ]
  },
  {
   "cell_type": "code",
   "execution_count": null,
   "metadata": {},
   "outputs": [],
   "source": [
    "tot.loc[tot['차명'] == '홍성캠핑트레일러', '연료'] = '무동력'\n",
    "tot.loc[tot['차명'] == '에어스트림탐지견수송트레일러', '연료'] = '무동력'"
   ]
  },
  {
   "cell_type": "markdown",
   "metadata": {},
   "source": [
    "### 연료 결측값의 차명으로 매칭"
   ]
  },
  {
   "cell_type": "code",
   "execution_count": null,
   "metadata": {},
   "outputs": [
    {
     "data": {
      "text/plain": [
       "{'BMW',\n",
       " 'BMW 3-SERIES',\n",
       " 'BMW 318I',\n",
       " 'BMW 325CI',\n",
       " 'BMW 325I',\n",
       " 'BMW 328I',\n",
       " 'BMW 525I',\n",
       " 'BMW 528I',\n",
       " 'BMW 530I',\n",
       " 'BMW 5SERIES',\n",
       " 'BMW X3',\n",
       " 'BMW X5',\n",
       " 'BMW Z3',\n",
       " 'BMW530I',\n",
       " 'BUICK CENTURY',\n",
       " 'BUICK LESABRE',\n",
       " 'BUICK TERRAZA',\n",
       " 'CADILLAC CTS',\n",
       " 'CHEVROLET IMPALA',\n",
       " 'CHEVROLET PRIZM',\n",
       " 'CHRYSLER',\n",
       " 'CHRYSLER 300 LTD',\n",
       " 'CHRYSLER 300C',\n",
       " 'CHRYSLER HEMI AWD',\n",
       " 'CHRYSLER PT CRUISER',\n",
       " 'CHRYSLER TOWN & COUNTRY(7)',\n",
       " 'CIELO',\n",
       " 'CORSICA',\n",
       " 'DODGE CALIBER',\n",
       " 'DODGE CARAVAN',\n",
       " 'DODGE CHARGER',\n",
       " 'DODGE DAKOTA',\n",
       " 'DODGE DURANGO',\n",
       " 'DODGE GRAND CARAVAN',\n",
       " 'DODGE NEON SXT',\n",
       " 'FIREBIRD',\n",
       " 'FORD ESCAPE',\n",
       " 'FORD EXPEDITION',\n",
       " 'FORD EXPEDITION(8)',\n",
       " 'FORD EXPLORER',\n",
       " 'FORD FOCUS',\n",
       " 'FORD FREESTYLE(7)',\n",
       " 'FORD FUSION',\n",
       " 'FORD MUSTANG',\n",
       " 'FORD RANGER XLT',\n",
       " 'FORD WINDSTAR',\n",
       " 'GMC JIMMY',\n",
       " 'GMC SIERRA',\n",
       " 'HONDA ACCORD',\n",
       " 'HONDA CR-V',\n",
       " 'HONDA CR-V EX',\n",
       " 'HONDA PILOT',\n",
       " 'HYUNDAI SONATA',\n",
       " 'HYUNDAI/SONATA',\n",
       " 'INFINITI G37S',\n",
       " 'JAGUAR X-TYPE',\n",
       " 'JEEP GRAND CHEROKEE',\n",
       " 'JEEP LIBERTY',\n",
       " 'JEEP PATRIOT',\n",
       " 'KIA OPTIMA',\n",
       " 'KIA SEDONA',\n",
       " 'LEXUS ES330',\n",
       " 'LEXUS ES350',\n",
       " 'LEXUS LS430',\n",
       " 'LEXUS RS330',\n",
       " 'LEXUS RX330',\n",
       " 'LINCOLN MKX',\n",
       " 'MAZDA MAZDA6',\n",
       " 'MAZDA SENTA',\n",
       " 'MERCEDES BENZ',\n",
       " 'MERCEDES-BENZ',\n",
       " 'MERCEDES-BENZ CLS 550',\n",
       " 'MERCEDES-BENZ E-350',\n",
       " 'MERCEDES-BENZ E-CLASS',\n",
       " 'MERCEDES-BENZ R-CLASS 3500',\n",
       " 'MERCEDES-BENZ S 500',\n",
       " 'MERCEDES-BENZ S65',\n",
       " 'MERCURY MILAN',\n",
       " 'NEW 그랜저XG',\n",
       " 'NISSAN MURANO',\n",
       " 'NISSAN ROGUE 3.5',\n",
       " 'NISSAN XTERRA',\n",
       " 'OLDSMOBILE BRAVADA',\n",
       " 'PLYMOUTH',\n",
       " 'PONTIAC SUNBIRD',\n",
       " 'PONTIAC VIBE',\n",
       " 'PONTIAC VIBE BASE',\n",
       " 'ROYALE',\n",
       " 'ROYALSALON',\n",
       " 'RX7',\n",
       " 'SANTAFE',\n",
       " 'SEPHIA',\n",
       " 'STAREX',\n",
       " 'SUNDANCE',\n",
       " 'TOYOTA 4-RUNNER',\n",
       " 'TOYOTA AVALON',\n",
       " 'TOYOTA COROLLA',\n",
       " 'TOYOTA ESTIIM',\n",
       " 'TOYOTA MATRIX',\n",
       " 'TOYOTA SIENNA',\n",
       " 'TOYOTA SR-5',\n",
       " 'VOLKSWAGEN JETTA',\n",
       " 'VOLVO 960',\n",
       " 'VOLVO S60',\n",
       " 'VOLVO S80',\n",
       " 'VOLVO T5',\n",
       " 'VOLVO XC60',\n",
       " 'VOLVO XC90',\n",
       " '기아마스타',\n",
       " '뉴복사담프',\n",
       " '닛산씨마그로리아',\n",
       " '다임24KL에틸렌글리콜트레일러',\n",
       " '다찌람밴',\n",
       " '대흥저상트레일러',\n",
       " '도오다',\n",
       " '도요다MR2',\n",
       " '링컨MARK7',\n",
       " '벤츠 C300',\n",
       " '블루버드',\n",
       " '사파리',\n",
       " '새턴',\n",
       " '새한2.5톤카고',\n",
       " '소나타1800오토매틱',\n",
       " '수프라',\n",
       " '시보레',\n",
       " '시보레카베리아',\n",
       " '쏘나타',\n",
       " '원흥식 트럭',\n",
       " '제설차',\n",
       " '지프',\n",
       " '체로키',\n",
       " '코르시카',\n",
       " '코티나디럭스',\n",
       " '크로마터보i.e',\n",
       " '포니',\n",
       " '프레스토오토메틱',\n",
       " '프리무스',\n",
       " '한원40A콤비콘테이너트레일러',\n",
       " '한원40피트구즈넥트레일러',\n",
       " '현대3톤트럭',\n",
       " '현대포터'}"
      ]
     },
     "metadata": {},
     "output_type": "display_data"
    }
   ],
   "source": [
    "set(tot.loc[tot['연료'].isnull() == True, '차명'].unique())"
   ]
  },
  {
   "cell_type": "code",
   "execution_count": null,
   "metadata": {},
   "outputs": [],
   "source": [
    "# 'BMW' : 휘발유\n",
    "# 'BMW 3-SERIES' : 휘발유\n",
    "# 'BMW 318I' : 휘발유\n",
    "# 'BMW 325CI' : 휘발유\n",
    "# 'BMW 325I' : 휘발유\n",
    "# 'BMW 328I' : 휘발유\n",
    "# 'BMW 525I' : 휘발유\n",
    "# 'BMW 528I' : 휘발유\n",
    "# 'BMW 530I' : 휘발유\n",
    "# 'BMW 5SERIES' : 휘발유\n",
    "# 'BMW X3' : 휘발유\n",
    "# 'BMW X5' : 휘발유\n",
    "# 'BMW Z3' : 휘발유\n",
    "# 'BMW530I' : 휘발유\n",
    "# 'BUICK CENTURY' : 휘발유\n",
    "# 'BUICK LESABRE' : 휘발유\n",
    "# 'BUICK TERRAZA' : 휘발유\n",
    "# 'CADILLAC CTS' : 휘발유\n",
    "# 'CHEVROLET IMPALA' : 휘발유\n",
    "# 'CHEVROLET PRIZM' : 휘발유\n",
    "# 'CHRYSLER' : 휘발유\n",
    "# 'CHRYSLER 300 LTD' : 휘발유\n",
    "# 'CHRYSLER HEMI AWD' : 휘발유\n",
    "# 'CHRYSLER PT CRUISER' : 휘발유\n",
    "# 'CHRYSLER TOWN & COUNTRY(7)' : 휘발유\n",
    "# 'CIELO' : 휘발유\n",
    "# 'CORSICA' : 휘발유\n",
    "# 'DODGE CALIBER' : 휘발유\n",
    "# 'DODGE CARAVAN' : 휘발유\n",
    "# 'DODGE CHARGER' : 휘발유\n",
    "# 'DODGE DAKOTA' : 휘발유\n",
    "# 'DODGE DURANGO' : 휘발유\n",
    "# 'DODGE GRAND CARAVAN' : 휘발유\n",
    "# 'DODGE NEON SXT' : 휘발유\n",
    "# 'FIREBIRD' : 휘발유\n",
    "# 'FORD ESCAPE' : 휘발유\n",
    "# 'FORD EXPEDITION' : 휘발유\n",
    "# 'FORD EXPEDITION(8)' : 휘발유\n",
    "# 'FORD EXPLORER' : 휘발유\n",
    "# 'FORD FOCUS' : 휘발유\n",
    "# 'FORD FREESTYLE(7)' : 휘발유\n",
    "# 'FORD FUSION' : 휘발유\n",
    "# 'FORD MUSTANG' : 휘발유\n",
    "# 'FORD WINDSTAR' : 휘발유\n",
    "# 'GMC JIMMY' : 휘발유\n",
    "# 'GMC SIERRA' : 휘발유\n",
    "# 'HONDA ACCORD' : 휘발유\n",
    "# 'HONDA CR-V' : 휘발유\n",
    "# 'HONDA CR-V EX' : 휘발유\n",
    "# 'HONDA PILOT' : 휘발유\n",
    "# 'HYUNDAI SONATA' : 휘발유\n",
    "# 'HYUNDAI/SONATA' : 휘발유\n",
    "# 'INFINITI G37S' : 휘발유\n",
    "# 'JAGUAR X-TYPE' : 휘발유\n",
    "# 'JEEP GRAND CHEROKEE' : 휘발유\n",
    "# 'JEEP LIBERTY' : 휘발유\n",
    "# 'KIA OPTIMA' : 휘발유\n",
    "# 'KIA SEDONA' : 휘발유\n",
    "# 'LEXUS ES330' : 휘발유\n",
    "# 'LEXUS ES350' : 휘발유\n",
    "# 'LEXUS LS430' : 휘발유\n",
    "# 'LEXUS RS330' : 휘발유\n",
    "# 'LEXUS RX330' : 휘발유\n",
    "# 'LINCOLN MKX' : 휘발유\n",
    "# 'MAZDA MAZDA6' : 휘발유\n",
    "# 'MAZDA SENTA' : 휘발유\n",
    "# 'MERCEDES BENZ' : 휘발유\n",
    "# 'MERCEDES-BENZ' : 휘발유\n",
    "# 'MERCEDES-BENZ E-350' : 휘발유\n",
    "# 'MERCEDES-BENZ E-CLASS' : 휘발유\n",
    "# 'MERCEDES-BENZ S 500' : 휘발유\n",
    "# 'MERCURY MILAN' : 휘발유\n",
    "# 'NEW 그랜저XG' : 휘발유\n",
    "# 'NISSAN MURANO' : 휘발유\n",
    "# 'NISSAN ROGUE 3.5' : 휘발유\n",
    "# 'NISSAN XTERRA' : 휘발유\n",
    "# 'OLDSMOBILE BRAVADA' : 휘발유\n",
    "# 'PLYMOUTH' : 휘발유\n",
    "# 'PONTIAC SUNBIRD' : 휘발유\n",
    "# 'PONTIAC VIBE' : 휘발유\n",
    "# 'PONTIAC VIBE BASE' : 휘발유\n",
    "# 'ROYALE' : 휘발유\n",
    "# 'ROYALSALON' : 휘발유\n",
    "# 'RX7' : 휘발유\n",
    "# 'SANTAFE' : 휘발유\n",
    "# 'SEPHIA' : 휘발유\n",
    "# 'STAREX' : 휘발유\n",
    "# 'SUNDANCE' : 휘발유\n",
    "# 'TOYOTA AVALON' : 휘발유\n",
    "# 'TOYOTA COROLLA' : 휘발유\n",
    "# 'TOYOTA ESTIIM' : 휘발유\n",
    "# 'TOYOTA MATRIX' : 휘발유\n",
    "# 'TOYOTA SIENNA' : 휘발유\n",
    "# 'TOYOTA SR-5' : 휘발유\n",
    "# 'VOLKSWAGEN JETTA' : 휘발유\n",
    "# 'VOLVO 960' : 휘발유\n",
    "# 'VOLVO S60' : 휘발유\n",
    "# 'VOLVO S80' : 휘발유\n",
    "# 'VOLVO T5' : 휘발유\n",
    "# 'VOLVO XC60' : 휘발유\n",
    "# 'VOLVO XC90' : 휘발유\n",
    "# '닛산씨마그로리아' : 휘발유\n",
    "# '다찌람밴' : 휘발유\n",
    "# '도오다' : 휘발유\n",
    "# '도요다MR2' : 휘발유\n",
    "# '벤츠 C300' : 휘발유\n",
    "# '블루버드' : 휘발유\n",
    "# '사파리' : 휘발유\n",
    "# '새턴' : 휘발유\n",
    "# '소나타1800오토매틱' : 휘발유\n",
    "# '수프라' : 휘발유\n",
    "# '시보레' : 휘발유\n",
    "# '시보레카베리아' : 휘발유\n",
    "# '쏘나타' : 휘발유\n",
    "# '체로키' : 휘발유\n",
    "# '코르시카' : 휘발유\n",
    "# '코티나디럭스' : 휘발유\n",
    "# '크로마터보i.e' : 휘발유\n",
    "# '포니' : 휘발유\n",
    "# '프레스토오토메틱' : 휘발유\n",
    "# '프리무스' : 휘발유\n"
   ]
  },
  {
   "cell_type": "code",
   "execution_count": null,
   "metadata": {},
   "outputs": [],
   "source": [
    "# 'JEEP PATRIOT' : 경유\n",
    "# 'FORD RANGER XLT' : 경유\n",
    "# 'CHRYSLER 300C' : 경유\n",
    "# 'MERCEDES-BENZ CLS 550' : 경유\n",
    "# 'MERCEDES-BENZ R-CLASS 3500' : 경유\n",
    "# 'MERCEDES-BENZ S65' : 경유\n",
    "# 'TOYOTA 4-RUNNER' : 경유\n",
    "# '기아마스타' : 경유\n",
    "# '뉴복사담프' : 경유\n",
    "# '링컨MARK7' : 경유\n",
    "# '새한2.5톤카고' : 경유\n",
    "# '원흥식 트럭' : 경유\n",
    "# '제설차' : 경유\n",
    "# '지프' : 경유\n",
    "# '현대3톤트럭' : 경유\n",
    "# '현대포터' : 경유"
   ]
  },
  {
   "cell_type": "code",
   "execution_count": null,
   "metadata": {},
   "outputs": [],
   "source": [
    "# '대흥저상트레일러' : 무동력\n",
    "# '다임24KL에틸렌글리콜트레일러' : 무동력\n",
    "# 홍성캠핑트레일러 : 무동력\n",
    "# 에어스트림탐지견수송트레일러 : 무동력\n",
    "# '한원40A콤비콘테이너트레일러' : 무동력\n",
    "# '한원40피트구즈넥트레일러' : 무동력"
   ]
  },
  {
   "cell_type": "code",
   "execution_count": null,
   "metadata": {},
   "outputs": [],
   "source": [
    "gas_list = ['BMW', 'BMW 3-SERIES', 'BMW 318I', 'BMW 325CI', 'BMW 325I', 'BMW 328I', 'BMW 525I',\n",
    "'BMW 528I', 'BMW 530I', 'BMW 5SERIES', 'BMW X3', 'BMW X5', 'BMW Z3', 'BMW530I', \n",
    "'BUICK CENTURY', 'BUICK LESABRE', 'BUICK TERRAZA', 'CADILLAC CTS', 'CHEVROLET IMPALA',\n",
    "'CHEVROLET PRIZM', 'CHRYSLER', 'CHRYSLER 300 LTD', 'CHRYSLER HEMI AWD', \n",
    "'CHRYSLER PT CRUISER', 'CHRYSLER TOWN & COUNTRY(7)', 'CIELO', 'CORSICA', 'DODGE CALIBER',\n",
    "'DODGE CARAVAN', 'DODGE CHARGER', 'DODGE DAKOTA', 'DODGE DURANGO', 'DODGE GRAND CARAVAN',\n",
    "'DODGE NEON SXT', 'FIREBIRD', 'FORD ESCAPE', 'FORD EXPEDITION', 'FORD EXPEDITION(8)',\n",
    "'FORD EXPLORER', 'FORD FOCUS', 'FORD FREESTYLE(7)', 'FORD FUSION', 'FORD MUSTANG', \n",
    "'FORD RANGER XLT', 'FORD WINDSTAR', 'GMC JIMMY', 'GMC SIERRA', 'HONDA ACCORD', \n",
    "'HONDA CR-V', 'HONDA CR-V EX', 'HONDA PILOT', 'HYUNDAI SONATA', 'HYUNDAI/SONATA',\n",
    "'INFINITI G37S', 'JAGUAR X-TYPE', 'JEEP GRAND CHEROKEE', 'JEEP LIBERTY', 'KIA OPTIMA',\n",
    "'KIA SEDONA', 'LEXUS ES330', 'LEXUS ES350', 'LEXUS LS430', 'LEXUS RS330', 'LEXUS RX330',\n",
    "'LINCOLN MKX', 'MAZDA MAZDA6', 'MAZDA SENTA', 'MERCEDES BENZ', 'MERCEDES-BENZ', \n",
    "'MERCEDES-BENZ E-350', 'MERCEDES-BENZ E-CLASS', 'MERCEDES-BENZ S 500', 'MERCEDES-BENZ S65',\n",
    "'MERCURY MILAN', 'NEW 그랜저XG', 'NISSAN MURANO', 'NISSAN ROGUE 3.5', 'NISSAN XTERRA',\n",
    "'OLDSMOBILE BRAVADA', 'PLYMOUTH', 'PONTIAC SUNBIRD', 'PONTIAC VIBE', 'PONTIAC VIBE BASE',\n",
    "'ROYALE', 'ROYALSALON', 'RX7', 'SANTAFE', 'SEPHIA', 'STAREX', 'SUNDANCE', 'TOYOTA AVALON',\n",
    "'TOYOTA COROLLA', 'TOYOTA ESTIIM', 'TOYOTA MATRIX', 'TOYOTA SIENNA', 'TOYOTA SR-5',\n",
    "'VOLKSWAGEN JETTA', 'VOLVO 960', 'VOLVO S60', 'VOLVO S80', 'VOLVO T5', 'VOLVO XC60',\n",
    "'VOLVO XC90', '닛산씨마그로리아', '다찌람밴', '도오다', '도요다MR2', '벤츠 C300', '블루버드',\n",
    "'사파리', '새턴', '소나타1800오토매틱', '수프라', '시보레', '시보레카베리아', '쏘나타', \n",
    "'체로키', '코르시카', '코티나디럭스', '크로마터보i.e', '포니', '프레스토오토메틱', '프리무스',\n",
    "'코티나마크IV', '브리샤2', '다이하스웨곤', '도요다크라운', '로얄살롱', '도요다코로나', \n",
    "'스텔라', '스텔라1.6CXL', '포니2', '도요다크라운로얄싸롱', '벤즈230E', '프레스토오토매틱', \n",
    "'르망펜타-5', '스텔라오토매틱', '엑셀', '벤즈 230E', '캐피탈', '로얄살롱2.0AT', '르망', \n",
    "'머큐리 세이블', '복사14', 'HYUNDAI PRESTO'\n",
    "]\n",
    "gas_hybrid_list = ['도요타 프리우스(하이브리드)', 'TOYOTA CAMRY하이브리드']\n",
    "diesel_list = ['MERCEDES-BENZ R-CLASS 3500', 'JEEP PATRIOT', 'CHRYSLER 300C', \n",
    "'MERCEDES-BENZ CLS 550', 'TOYOTA 4-RUNNER', '기아마스타', '뉴복사담프', '링컨MARK7',\n",
    "'새한2.5톤카고', '원흥식 트럭', '제설차', '지프', '현대3톤트럭', '현대포터', '히노탱크로리', \n",
    "'아시아AM707중형버스', '인타담프', '새한버스', '도요다웨곤엠브란스', '대우11톤카고', \n",
    "'대우8톤카고', '맥스디젤삼방', '현대리어엔진버스', '구급차(도요다)',\n",
    "]\n",
    "noengine_list = ['다임24KL에틸렌글리콜트레일러', '대흥저상트레일러',\n",
    "'한원40A콤비콘테이너트레일러', '한원40피트구즈넥트레일러', '홍성캠핑트레일러', '에어스트림탐지견수송트레일러',\n",
    "]"
   ]
  },
  {
   "cell_type": "code",
   "execution_count": null,
   "metadata": {},
   "outputs": [
    {
     "name": "stderr",
     "output_type": "stream",
     "text": [
      "100%|██████████| 119/119 [02:43<00:00,  1.37s/it]\n"
     ]
    }
   ],
   "source": [
    "for one in tqdm(gas_list):\n",
    "    tot1.loc[tot1['차명'] == one, '연료'] = '휘발유'"
   ]
  },
  {
   "cell_type": "code",
   "execution_count": null,
   "metadata": {},
   "outputs": [],
   "source": [
    "for one in tqdm(gas_hybrid_list):\n",
    "    tot1.loc[tot1['차명'] == one, '연료'] = '휘발유 하이브리드'"
   ]
  },
  {
   "cell_type": "code",
   "execution_count": null,
   "metadata": {},
   "outputs": [
    {
     "name": "stderr",
     "output_type": "stream",
     "text": [
      "100%|██████████| 14/14 [00:19<00:00,  1.37s/it]\n"
     ]
    }
   ],
   "source": [
    "for one in tqdm(diesel_list):\n",
    "    tot1.loc[tot1['차명'] == one, '연료'] = '경유'"
   ]
  },
  {
   "cell_type": "code",
   "execution_count": null,
   "metadata": {},
   "outputs": [
    {
     "name": "stderr",
     "output_type": "stream",
     "text": [
      "100%|██████████| 4/4 [00:05<00:00,  1.37s/it]\n"
     ]
    }
   ],
   "source": [
    "for one in tqdm(noengine_list):\n",
    "    tot1.loc[tot1['차명'] == one, '연료'] = '무동력'"
   ]
  },
  {
   "attachments": {},
   "cell_type": "markdown",
   "metadata": {},
   "source": [
    "### 기타연료의 엔진형식으로 매칭"
   ]
  },
  {
   "cell_type": "code",
   "execution_count": 20,
   "metadata": {},
   "outputs": [
    {
     "data": {
      "text/plain": [
       "array(['.', '2AZ', '1NZ', '-', 'G4AJ', 'MSV3', 'B5', 'H20MR', 'G16SF',\n",
       "       nan, 'G15CF', '01821300581', 'ZB', 'LNS', '09801220246', '3304124'],\n",
       "      dtype=object)"
      ]
     },
     "execution_count": 20,
     "metadata": {},
     "output_type": "execute_result"
    }
   ],
   "source": [
    "tot1.loc[tot1['연료'] == '기타연료', '엔진형식'].unique()"
   ]
  },
  {
   "cell_type": "code",
   "execution_count": 94,
   "metadata": {},
   "outputs": [
    {
     "data": {
      "text/plain": [
       "경유           1336\n",
       "휘발유 하이브리드       4\n",
       "Name: 연료, dtype: int64"
      ]
     },
     "execution_count": 94,
     "metadata": {},
     "output_type": "execute_result"
    }
   ],
   "source": [
    "tot1.loc[tot1['엔진형식'] == '2AZ', '연료'].value_counts(dropna=False)"
   ]
  },
  {
   "cell_type": "code",
   "execution_count": 95,
   "metadata": {},
   "outputs": [
    {
     "data": {
      "text/plain": [
       "경유           2344\n",
       "휘발유 하이브리드      12\n",
       "Name: 연료, dtype: int64"
      ]
     },
     "execution_count": 95,
     "metadata": {},
     "output_type": "execute_result"
    }
   ],
   "source": [
    "tot1.loc[tot1['엔진형식'] == '1NZ', '연료'].value_counts(dropna=False)"
   ]
  },
  {
   "cell_type": "code",
   "execution_count": 96,
   "metadata": {},
   "outputs": [
    {
     "data": {
      "text/plain": [
       "휘발유    5054\n",
       "Name: 연료, dtype: int64"
      ]
     },
     "execution_count": 96,
     "metadata": {},
     "output_type": "execute_result"
    }
   ],
   "source": [
    "tot1.loc[tot1['엔진형식'] == 'G4AJ', '연료'].value_counts(dropna=False)"
   ]
  },
  {
   "cell_type": "code",
   "execution_count": 97,
   "metadata": {},
   "outputs": [
    {
     "data": {
      "text/plain": [
       "휘발유    1095\n",
       "Name: 연료, dtype: int64"
      ]
     },
     "execution_count": 97,
     "metadata": {},
     "output_type": "execute_result"
    }
   ],
   "source": [
    "tot1.loc[tot1['엔진형식'] == 'MSV3', '연료'].value_counts(dropna=False)"
   ]
  },
  {
   "cell_type": "code",
   "execution_count": 98,
   "metadata": {},
   "outputs": [
    {
     "data": {
      "text/plain": [
       "휘발유    16111\n",
       "Name: 연료, dtype: int64"
      ]
     },
     "execution_count": 98,
     "metadata": {},
     "output_type": "execute_result"
    }
   ],
   "source": [
    "tot1.loc[tot1['엔진형식'] == 'B5', '연료'].value_counts(dropna=False)"
   ]
  },
  {
   "cell_type": "code",
   "execution_count": 102,
   "metadata": {},
   "outputs": [
    {
     "data": {
      "text/plain": [
       "휘발유    2911\n",
       "Name: 연료, dtype: int64"
      ]
     },
     "execution_count": 102,
     "metadata": {},
     "output_type": "execute_result"
    }
   ],
   "source": [
    "tot1.loc[tot1['엔진형식'] == 'H20MR', '연료'].value_counts(dropna=False)"
   ]
  },
  {
   "cell_type": "code",
   "execution_count": 103,
   "metadata": {},
   "outputs": [
    {
     "data": {
      "text/plain": [
       "휘발유    46\n",
       "Name: 연료, dtype: int64"
      ]
     },
     "execution_count": 103,
     "metadata": {},
     "output_type": "execute_result"
    }
   ],
   "source": [
    "tot1.loc[tot1['엔진형식'] == 'G16SF', '연료'].value_counts(dropna=False)"
   ]
  },
  {
   "cell_type": "code",
   "execution_count": 104,
   "metadata": {},
   "outputs": [
    {
     "data": {
      "text/plain": [
       "휘발유    3248\n",
       "Name: 연료, dtype: int64"
      ]
     },
     "execution_count": 104,
     "metadata": {},
     "output_type": "execute_result"
    }
   ],
   "source": [
    "tot1.loc[tot1['엔진형식'] == 'G15CF', '연료'].value_counts(dropna=False)"
   ]
  },
  {
   "cell_type": "code",
   "execution_count": 105,
   "metadata": {},
   "outputs": [
    {
     "data": {
      "text/plain": [
       "휘발유    1\n",
       "Name: 연료, dtype: int64"
      ]
     },
     "execution_count": 105,
     "metadata": {},
     "output_type": "execute_result"
    }
   ],
   "source": [
    "tot1.loc[tot1['엔진형식'] == '01821300581', '연료'].value_counts(dropna=False)"
   ]
  },
  {
   "cell_type": "code",
   "execution_count": 106,
   "metadata": {},
   "outputs": [
    {
     "data": {
      "text/plain": [
       "경유    5891\n",
       "Name: 연료, dtype: int64"
      ]
     },
     "execution_count": 106,
     "metadata": {},
     "output_type": "execute_result"
    }
   ],
   "source": [
    "tot1.loc[tot1['엔진형식'] == 'ZB', '연료'].value_counts(dropna=False)"
   ]
  },
  {
   "cell_type": "code",
   "execution_count": 107,
   "metadata": {},
   "outputs": [
    {
     "data": {
      "text/plain": [
       "LPG(액화석유가스)    205\n",
       "NaN              1\n",
       "휘발유              1\n",
       "Name: 연료, dtype: int64"
      ]
     },
     "execution_count": 107,
     "metadata": {},
     "output_type": "execute_result"
    }
   ],
   "source": [
    "tot1.loc[tot1['엔진형식'] == 'LNS', '연료'].value_counts(dropna=False)"
   ]
  },
  {
   "cell_type": "code",
   "execution_count": 108,
   "metadata": {},
   "outputs": [
    {
     "data": {
      "text/plain": [
       "경유    1\n",
       "Name: 연료, dtype: int64"
      ]
     },
     "execution_count": 108,
     "metadata": {},
     "output_type": "execute_result"
    }
   ],
   "source": [
    "tot1.loc[tot1['엔진형식'] == '09801220246', '연료'].value_counts(dropna=False)"
   ]
  },
  {
   "cell_type": "code",
   "execution_count": 109,
   "metadata": {},
   "outputs": [
    {
     "data": {
      "text/plain": [
       "기타연료    1\n",
       "Name: 연료, dtype: int64"
      ]
     },
     "execution_count": 109,
     "metadata": {},
     "output_type": "execute_result"
    }
   ],
   "source": [
    "tot1.loc[tot1['엔진형식'] == '3304124', '연료'].value_counts(dropna=False)"
   ]
  },
  {
   "cell_type": "code",
   "execution_count": 110,
   "metadata": {},
   "outputs": [
    {
     "data": {
      "text/plain": [
       "기타연료    1\n",
       "Name: 연료, dtype: int64"
      ]
     },
     "execution_count": 110,
     "metadata": {},
     "output_type": "execute_result"
    }
   ],
   "source": [
    "tot1.loc[tot1['엔진형식'] == '.', '연료'].value_counts(dropna=False)"
   ]
  },
  {
   "cell_type": "code",
   "execution_count": 111,
   "metadata": {},
   "outputs": [
    {
     "data": {
      "text/plain": [
       "기타연료    1\n",
       "Name: 연료, dtype: int64"
      ]
     },
     "execution_count": 111,
     "metadata": {},
     "output_type": "execute_result"
    }
   ],
   "source": [
    "tot1.loc[tot1['엔진형식'] == '-', '연료'].value_counts(dropna=False)"
   ]
  },
  {
   "cell_type": "code",
   "execution_count": null,
   "metadata": {},
   "outputs": [],
   "source": [
    "# '2AZ' : 경유\n",
    "# '1NZ' : 경유\n",
    "# 'G4AJ' : 휘발유\n",
    "# 'MSV3' : 휘발유\n",
    "# 'B5' : 휘발유\n",
    "# 'H20MR' : 휘발유\n",
    "# 'G16SF' : 휘발유\n",
    "# 'G15CF' : 휘발유\n",
    "# '01821300581' : 휘발유\n",
    "# 'ZB' : 경유\n",
    "# 'LNS' : LPG(액화석유가스)\n",
    "# '09801220246' : 경유\n",
    "# '3304124' : 기타연료\n",
    "# '.' : 기타연료\n",
    "# '-' : 기타연료"
   ]
  },
  {
   "cell_type": "code",
   "execution_count": 114,
   "metadata": {},
   "outputs": [],
   "source": [
    "tot1.loc[tot1['엔진형식'] == '2AZ', '연료'] = '경유'\n",
    "tot1.loc[tot1['엔진형식'] == '1NZ', '연료'] = '경유'\n",
    "tot1.loc[tot1['엔진형식'] == 'G4AJ', '연료'] = '휘발유'\n",
    "tot1.loc[tot1['엔진형식'] == 'MSV3', '연료'] = '휘발유'\n",
    "tot1.loc[tot1['엔진형식'] == 'B5', '연료'] = '휘발유'\n",
    "tot1.loc[tot1['엔진형식'] == 'H20MR', '연료'] = '휘발유'\n",
    "tot1.loc[tot1['엔진형식'] == 'G16SF', '연료'] = '휘발유'\n",
    "tot1.loc[tot1['엔진형식'] == 'G15CF', '연료'] = '휘발유'\n",
    "tot1.loc[tot1['엔진형식'] == '01821300581', '연료'] = '휘발유'\n",
    "tot1.loc[tot1['엔진형식'] == 'ZB', '연료'] = '경유'\n",
    "tot1.loc[tot1['엔진형식'] == 'LNS', '연료'] = 'LPG(액화석유가스)'\n",
    "tot1.loc[tot1['엔진형식'] == '09801220246', '연료'] = '경유'\n",
    "tot1.loc[tot1['엔진형식'] == '3304124', '연료'] = '휘발유'"
   ]
  },
  {
   "attachments": {},
   "cell_type": "markdown",
   "metadata": {},
   "source": [
    "### 연료 결측값의 엔진형식으로 매칭"
   ]
  },
  {
   "cell_type": "code",
   "execution_count": 115,
   "metadata": {},
   "outputs": [
    {
     "data": {
      "text/plain": [
       "array([nan, 'G4EC', 'K24A1', 'N62B48B', '0', 'G4JS', 'AZJ', 'G6BA', '5S',\n",
       "       'G6CT', '2ZZ', 'JG1EK', '2JA', 'FE', '112 944', 'B230F', '119',\n",
       "       'EV20', 'C32A1', '2JZ', '13B-REW', '3.8', 'V6', '5E', 'SR20',\n",
       "       '2S25', 'M64/02', '117.986', '3S-GTE', '111 970', '104 941', 'EFA',\n",
       "       'CRJ', 'M30-69', '5.0HD', 'B-123', 'F8C', '40S1', 'CR8.13.1',\n",
       "       'G15MF', 'K04D3', 'VQ30', '102 962', 'mx', 'B', '31L', 'G4CP',\n",
       "       '834C.146', 'G4AJF045570', 'G4MBG', 'GJS(LJS)', '04784300942',\n",
       "       '10772217991', 'DA120', 'D0846HM', 'DA640'], dtype=object)"
      ]
     },
     "execution_count": 115,
     "metadata": {},
     "output_type": "execute_result"
    }
   ],
   "source": [
    "tot1.loc[tot1['연료'].isnull() == True, '엔진형식'].unique()"
   ]
  },
  {
   "cell_type": "code",
   "execution_count": 117,
   "metadata": {},
   "outputs": [
    {
     "data": {
      "text/plain": [
       "휘발유    63813\n",
       "NaN        1\n",
       "Name: 연료, dtype: int64"
      ]
     },
     "execution_count": 117,
     "metadata": {},
     "output_type": "execute_result"
    }
   ],
   "source": [
    "tot1.loc[tot1['엔진형식'] == 'G4EC', '연료'].value_counts(dropna=False)"
   ]
  },
  {
   "cell_type": "code",
   "execution_count": 118,
   "metadata": {},
   "outputs": [
    {
     "data": {
      "text/plain": [
       "휘발유    1792\n",
       "NaN       1\n",
       "Name: 연료, dtype: int64"
      ]
     },
     "execution_count": 118,
     "metadata": {},
     "output_type": "execute_result"
    }
   ],
   "source": [
    "tot1.loc[tot1['엔진형식'] == 'K24A1', '연료'].value_counts(dropna=False)"
   ]
  },
  {
   "cell_type": "code",
   "execution_count": 119,
   "metadata": {},
   "outputs": [
    {
     "data": {
      "text/plain": [
       "휘발유    1250\n",
       "NaN       1\n",
       "Name: 연료, dtype: int64"
      ]
     },
     "execution_count": 119,
     "metadata": {},
     "output_type": "execute_result"
    }
   ],
   "source": [
    "tot1.loc[tot1['엔진형식'] == 'N62B48B', '연료'].value_counts(dropna=False)"
   ]
  },
  {
   "cell_type": "code",
   "execution_count": 120,
   "metadata": {},
   "outputs": [
    {
     "data": {
      "text/plain": [
       "휘발유          459\n",
       "경유             6\n",
       "휘발유 하이브리드      3\n",
       "NaN            2\n",
       "Name: 연료, dtype: int64"
      ]
     },
     "execution_count": 120,
     "metadata": {},
     "output_type": "execute_result"
    }
   ],
   "source": [
    "tot1.loc[tot1['엔진형식'] == '0', '연료'].value_counts(dropna=False)"
   ]
  },
  {
   "cell_type": "code",
   "execution_count": 121,
   "metadata": {},
   "outputs": [
    {
     "data": {
      "text/plain": [
       "휘발유    209\n",
       "NaN      1\n",
       "Name: 연료, dtype: int64"
      ]
     },
     "execution_count": 121,
     "metadata": {},
     "output_type": "execute_result"
    }
   ],
   "source": [
    "tot1.loc[tot1['엔진형식'] == 'G4JS', '연료'].value_counts(dropna=False)"
   ]
  },
  {
   "cell_type": "code",
   "execution_count": 122,
   "metadata": {},
   "outputs": [
    {
     "data": {
      "text/plain": [
       "휘발유    1036\n",
       "NaN       1\n",
       "Name: 연료, dtype: int64"
      ]
     },
     "execution_count": 122,
     "metadata": {},
     "output_type": "execute_result"
    }
   ],
   "source": [
    "tot1.loc[tot1['엔진형식'] == 'AZJ', '연료'].value_counts(dropna=False)"
   ]
  },
  {
   "cell_type": "code",
   "execution_count": 123,
   "metadata": {},
   "outputs": [
    {
     "data": {
      "text/plain": [
       "휘발유    6641\n",
       "NaN       1\n",
       "Name: 연료, dtype: int64"
      ]
     },
     "execution_count": 123,
     "metadata": {},
     "output_type": "execute_result"
    }
   ],
   "source": [
    "tot1.loc[tot1['엔진형식'] == 'G6BA', '연료'].value_counts(dropna=False)"
   ]
  },
  {
   "cell_type": "code",
   "execution_count": 124,
   "metadata": {},
   "outputs": [
    {
     "data": {
      "text/plain": [
       "휘발유    52\n",
       "NaN     1\n",
       "Name: 연료, dtype: int64"
      ]
     },
     "execution_count": 124,
     "metadata": {},
     "output_type": "execute_result"
    }
   ],
   "source": [
    "tot1.loc[tot1['엔진형식'] == '5S', '연료'].value_counts(dropna=False)"
   ]
  },
  {
   "cell_type": "code",
   "execution_count": 125,
   "metadata": {},
   "outputs": [
    {
     "data": {
      "text/plain": [
       "휘발유    14428\n",
       "NaN        1\n",
       "Name: 연료, dtype: int64"
      ]
     },
     "execution_count": 125,
     "metadata": {},
     "output_type": "execute_result"
    }
   ],
   "source": [
    "tot1.loc[tot1['엔진형식'] == 'G6CT', '연료'].value_counts(dropna=False)"
   ]
  },
  {
   "cell_type": "code",
   "execution_count": 126,
   "metadata": {},
   "outputs": [
    {
     "data": {
      "text/plain": [
       "휘발유    62\n",
       "NaN     1\n",
       "Name: 연료, dtype: int64"
      ]
     },
     "execution_count": 126,
     "metadata": {},
     "output_type": "execute_result"
    }
   ],
   "source": [
    "tot1.loc[tot1['엔진형식'] == '2ZZ', '연료'].value_counts(dropna=False)"
   ]
  },
  {
   "cell_type": "code",
   "execution_count": 127,
   "metadata": {},
   "outputs": [
    {
     "data": {
      "text/plain": [
       "NaN    1\n",
       "Name: 연료, dtype: int64"
      ]
     },
     "execution_count": 127,
     "metadata": {},
     "output_type": "execute_result"
    }
   ],
   "source": [
    "tot1.loc[tot1['엔진형식'] == 'JG1EK', '연료'].value_counts(dropna=False)"
   ]
  },
  {
   "cell_type": "code",
   "execution_count": 128,
   "metadata": {},
   "outputs": [
    {
     "data": {
      "text/plain": [
       "NaN    1\n",
       "Name: 연료, dtype: int64"
      ]
     },
     "execution_count": 128,
     "metadata": {},
     "output_type": "execute_result"
    }
   ],
   "source": [
    "tot1.loc[tot1['엔진형식'] == '2JA', '연료'].value_counts(dropna=False)"
   ]
  },
  {
   "cell_type": "code",
   "execution_count": 129,
   "metadata": {},
   "outputs": [
    {
     "data": {
      "text/plain": [
       "휘발유            13384\n",
       "LPG(액화석유가스)     1395\n",
       "NaN                1\n",
       "Name: 연료, dtype: int64"
      ]
     },
     "execution_count": 129,
     "metadata": {},
     "output_type": "execute_result"
    }
   ],
   "source": [
    "tot1.loc[tot1['엔진형식'] == 'FE', '연료'].value_counts(dropna=False)"
   ]
  },
  {
   "cell_type": "code",
   "execution_count": 130,
   "metadata": {},
   "outputs": [
    {
     "data": {
      "text/plain": [
       "휘발유    433\n",
       "NaN      1\n",
       "Name: 연료, dtype: int64"
      ]
     },
     "execution_count": 130,
     "metadata": {},
     "output_type": "execute_result"
    }
   ],
   "source": [
    "tot1.loc[tot1['엔진형식'] == '112 944', '연료'].value_counts(dropna=False)"
   ]
  },
  {
   "cell_type": "code",
   "execution_count": 131,
   "metadata": {},
   "outputs": [
    {
     "data": {
      "text/plain": [
       "휘발유    48\n",
       "NaN     1\n",
       "Name: 연료, dtype: int64"
      ]
     },
     "execution_count": 131,
     "metadata": {},
     "output_type": "execute_result"
    }
   ],
   "source": [
    "tot1.loc[tot1['엔진형식'] == 'B230F', '연료'].value_counts(dropna=False)"
   ]
  },
  {
   "cell_type": "code",
   "execution_count": 132,
   "metadata": {},
   "outputs": [
    {
     "data": {
      "text/plain": [
       "휘발유    6\n",
       "NaN    1\n",
       "Name: 연료, dtype: int64"
      ]
     },
     "execution_count": 132,
     "metadata": {},
     "output_type": "execute_result"
    }
   ],
   "source": [
    "tot1.loc[tot1['엔진형식'] == '119', '연료'].value_counts(dropna=False)"
   ]
  },
  {
   "cell_type": "code",
   "execution_count": 133,
   "metadata": {},
   "outputs": [
    {
     "data": {
      "text/plain": [
       "NaN    1\n",
       "휘발유    1\n",
       "Name: 연료, dtype: int64"
      ]
     },
     "execution_count": 133,
     "metadata": {},
     "output_type": "execute_result"
    }
   ],
   "source": [
    "tot1.loc[tot1['엔진형식'] == 'EV20', '연료'].value_counts(dropna=False)"
   ]
  },
  {
   "cell_type": "code",
   "execution_count": 134,
   "metadata": {},
   "outputs": [
    {
     "data": {
      "text/plain": [
       "휘발유    3\n",
       "NaN    1\n",
       "Name: 연료, dtype: int64"
      ]
     },
     "execution_count": 134,
     "metadata": {},
     "output_type": "execute_result"
    }
   ],
   "source": [
    "tot1.loc[tot1['엔진형식'] == 'C32A1', '연료'].value_counts(dropna=False)"
   ]
  },
  {
   "cell_type": "code",
   "execution_count": 135,
   "metadata": {},
   "outputs": [
    {
     "data": {
      "text/plain": [
       "휘발유    321\n",
       "NaN      1\n",
       "Name: 연료, dtype: int64"
      ]
     },
     "execution_count": 135,
     "metadata": {},
     "output_type": "execute_result"
    }
   ],
   "source": [
    "tot1.loc[tot1['엔진형식'] == '2JZ', '연료'].value_counts(dropna=False)"
   ]
  },
  {
   "cell_type": "code",
   "execution_count": 136,
   "metadata": {},
   "outputs": [
    {
     "data": {
      "text/plain": [
       "NaN    1\n",
       "Name: 연료, dtype: int64"
      ]
     },
     "execution_count": 136,
     "metadata": {},
     "output_type": "execute_result"
    }
   ],
   "source": [
    "tot1.loc[tot1['엔진형식'] == '13B-REW', '연료'].value_counts(dropna=False)"
   ]
  },
  {
   "cell_type": "code",
   "execution_count": 137,
   "metadata": {},
   "outputs": [
    {
     "data": {
      "text/plain": [
       "휘발유    72\n",
       "NaN     2\n",
       "Name: 연료, dtype: int64"
      ]
     },
     "execution_count": 137,
     "metadata": {},
     "output_type": "execute_result"
    }
   ],
   "source": [
    "tot1.loc[tot1['엔진형식'] == '3.8', '연료'].value_counts(dropna=False)"
   ]
  },
  {
   "cell_type": "code",
   "execution_count": 138,
   "metadata": {},
   "outputs": [
    {
     "data": {
      "text/plain": [
       "휘발유    9\n",
       "NaN    2\n",
       "Name: 연료, dtype: int64"
      ]
     },
     "execution_count": 138,
     "metadata": {},
     "output_type": "execute_result"
    }
   ],
   "source": [
    "tot1.loc[tot1['엔진형식'] == 'V6', '연료'].value_counts(dropna=False)"
   ]
  },
  {
   "cell_type": "code",
   "execution_count": 139,
   "metadata": {},
   "outputs": [
    {
     "data": {
      "text/plain": [
       "휘발유    24\n",
       "NaN     1\n",
       "Name: 연료, dtype: int64"
      ]
     },
     "execution_count": 139,
     "metadata": {},
     "output_type": "execute_result"
    }
   ],
   "source": [
    "tot1.loc[tot1['엔진형식'] == '5E', '연료'].value_counts(dropna=False)"
   ]
  },
  {
   "cell_type": "code",
   "execution_count": 140,
   "metadata": {},
   "outputs": [
    {
     "data": {
      "text/plain": [
       "휘발유            113729\n",
       "LPG(액화석유가스)     38883\n",
       "NaN                 1\n",
       "Name: 연료, dtype: int64"
      ]
     },
     "execution_count": 140,
     "metadata": {},
     "output_type": "execute_result"
    }
   ],
   "source": [
    "tot1.loc[tot1['엔진형식'] == 'SR20', '연료'].value_counts(dropna=False)"
   ]
  },
  {
   "cell_type": "code",
   "execution_count": 141,
   "metadata": {},
   "outputs": [
    {
     "data": {
      "text/plain": [
       "NaN    1\n",
       "Name: 연료, dtype: int64"
      ]
     },
     "execution_count": 141,
     "metadata": {},
     "output_type": "execute_result"
    }
   ],
   "source": [
    "tot1.loc[tot1['엔진형식'] == '2S25', '연료'].value_counts(dropna=False)"
   ]
  },
  {
   "cell_type": "code",
   "execution_count": 142,
   "metadata": {},
   "outputs": [
    {
     "data": {
      "text/plain": [
       "휘발유    3\n",
       "NaN    1\n",
       "Name: 연료, dtype: int64"
      ]
     },
     "execution_count": 142,
     "metadata": {},
     "output_type": "execute_result"
    }
   ],
   "source": [
    "tot1.loc[tot1['엔진형식'] == 'M64/02', '연료'].value_counts(dropna=False)"
   ]
  },
  {
   "cell_type": "code",
   "execution_count": 143,
   "metadata": {},
   "outputs": [
    {
     "data": {
      "text/plain": [
       "NaN    1\n",
       "휘발유    1\n",
       "Name: 연료, dtype: int64"
      ]
     },
     "execution_count": 143,
     "metadata": {},
     "output_type": "execute_result"
    }
   ],
   "source": [
    "tot1.loc[tot1['엔진형식'] == '117.986', '연료'].value_counts(dropna=False)"
   ]
  },
  {
   "cell_type": "code",
   "execution_count": 144,
   "metadata": {},
   "outputs": [
    {
     "data": {
      "text/plain": [
       "NaN    1\n",
       "Name: 연료, dtype: int64"
      ]
     },
     "execution_count": 144,
     "metadata": {},
     "output_type": "execute_result"
    }
   ],
   "source": [
    "tot1.loc[tot1['엔진형식'] == '3S-GTE', '연료'].value_counts(dropna=False)"
   ]
  },
  {
   "cell_type": "code",
   "execution_count": 145,
   "metadata": {},
   "outputs": [
    {
     "data": {
      "text/plain": [
       "휘발유    118\n",
       "NaN      1\n",
       "Name: 연료, dtype: int64"
      ]
     },
     "execution_count": 145,
     "metadata": {},
     "output_type": "execute_result"
    }
   ],
   "source": [
    "tot1.loc[tot1['엔진형식'] == '111 970', '연료'].value_counts(dropna=False)"
   ]
  },
  {
   "cell_type": "code",
   "execution_count": 146,
   "metadata": {},
   "outputs": [
    {
     "data": {
      "text/plain": [
       "휘발유    11\n",
       "NaN     1\n",
       "Name: 연료, dtype: int64"
      ]
     },
     "execution_count": 146,
     "metadata": {},
     "output_type": "execute_result"
    }
   ],
   "source": [
    "tot1.loc[tot1['엔진형식'] == '104 941', '연료'].value_counts(dropna=False)"
   ]
  },
  {
   "cell_type": "code",
   "execution_count": 147,
   "metadata": {},
   "outputs": [
    {
     "data": {
      "text/plain": [
       "NaN    1\n",
       "Name: 연료, dtype: int64"
      ]
     },
     "execution_count": 147,
     "metadata": {},
     "output_type": "execute_result"
    }
   ],
   "source": [
    "tot1.loc[tot1['엔진형식'] == 'EFA', '연료'].value_counts(dropna=False)"
   ]
  },
  {
   "cell_type": "code",
   "execution_count": 148,
   "metadata": {},
   "outputs": [
    {
     "data": {
      "text/plain": [
       "NaN    1\n",
       "Name: 연료, dtype: int64"
      ]
     },
     "execution_count": 148,
     "metadata": {},
     "output_type": "execute_result"
    }
   ],
   "source": [
    "tot1.loc[tot1['엔진형식'] == 'CRJ', '연료'].value_counts(dropna=False)"
   ]
  },
  {
   "cell_type": "code",
   "execution_count": 149,
   "metadata": {},
   "outputs": [
    {
     "data": {
      "text/plain": [
       "휘발유    2\n",
       "NaN    1\n",
       "Name: 연료, dtype: int64"
      ]
     },
     "execution_count": 149,
     "metadata": {},
     "output_type": "execute_result"
    }
   ],
   "source": [
    "tot1.loc[tot1['엔진형식'] == 'M30-69', '연료'].value_counts(dropna=False)"
   ]
  },
  {
   "cell_type": "code",
   "execution_count": 150,
   "metadata": {},
   "outputs": [
    {
     "data": {
      "text/plain": [
       "NaN    1\n",
       "Name: 연료, dtype: int64"
      ]
     },
     "execution_count": 150,
     "metadata": {},
     "output_type": "execute_result"
    }
   ],
   "source": [
    "tot1.loc[tot1['엔진형식'] == '5.0HD', '연료'].value_counts(dropna=False)"
   ]
  },
  {
   "cell_type": "code",
   "execution_count": 151,
   "metadata": {},
   "outputs": [
    {
     "data": {
      "text/plain": [
       "NaN    1\n",
       "Name: 연료, dtype: int64"
      ]
     },
     "execution_count": 151,
     "metadata": {},
     "output_type": "execute_result"
    }
   ],
   "source": [
    "tot1.loc[tot1['엔진형식'] == 'B-123', '연료'].value_counts(dropna=False)"
   ]
  },
  {
   "cell_type": "code",
   "execution_count": 152,
   "metadata": {},
   "outputs": [
    {
     "data": {
      "text/plain": [
       "휘발유    12183\n",
       "NaN        1\n",
       "Name: 연료, dtype: int64"
      ]
     },
     "execution_count": 152,
     "metadata": {},
     "output_type": "execute_result"
    }
   ],
   "source": [
    "tot1.loc[tot1['엔진형식'] == 'F8C', '연료'].value_counts(dropna=False)"
   ]
  },
  {
   "cell_type": "code",
   "execution_count": 153,
   "metadata": {},
   "outputs": [
    {
     "data": {
      "text/plain": [
       "NaN    1\n",
       "Name: 연료, dtype: int64"
      ]
     },
     "execution_count": 153,
     "metadata": {},
     "output_type": "execute_result"
    }
   ],
   "source": [
    "tot1.loc[tot1['엔진형식'] == '40S1', '연료'].value_counts(dropna=False)"
   ]
  },
  {
   "cell_type": "code",
   "execution_count": 154,
   "metadata": {},
   "outputs": [
    {
     "data": {
      "text/plain": [
       "NaN    1\n",
       "Name: 연료, dtype: int64"
      ]
     },
     "execution_count": 154,
     "metadata": {},
     "output_type": "execute_result"
    }
   ],
   "source": [
    "tot1.loc[tot1['엔진형식'] == 'CR8.13.1', '연료'].value_counts(dropna=False)"
   ]
  },
  {
   "cell_type": "code",
   "execution_count": 155,
   "metadata": {},
   "outputs": [
    {
     "data": {
      "text/plain": [
       "휘발유    5332\n",
       "NaN       1\n",
       "Name: 연료, dtype: int64"
      ]
     },
     "execution_count": 155,
     "metadata": {},
     "output_type": "execute_result"
    }
   ],
   "source": [
    "tot1.loc[tot1['엔진형식'] == 'G15MF', '연료'].value_counts(dropna=False)"
   ]
  },
  {
   "cell_type": "code",
   "execution_count": 156,
   "metadata": {},
   "outputs": [
    {
     "data": {
      "text/plain": [
       "NaN    1\n",
       "Name: 연료, dtype: int64"
      ]
     },
     "execution_count": 156,
     "metadata": {},
     "output_type": "execute_result"
    }
   ],
   "source": [
    "tot1.loc[tot1['엔진형식'] == 'K04D3', '연료'].value_counts(dropna=False)"
   ]
  },
  {
   "cell_type": "code",
   "execution_count": 157,
   "metadata": {},
   "outputs": [
    {
     "data": {
      "text/plain": [
       "휘발유    8\n",
       "NaN    1\n",
       "Name: 연료, dtype: int64"
      ]
     },
     "execution_count": 157,
     "metadata": {},
     "output_type": "execute_result"
    }
   ],
   "source": [
    "tot1.loc[tot1['엔진형식'] == 'VQ30', '연료'].value_counts(dropna=False)"
   ]
  },
  {
   "cell_type": "code",
   "execution_count": 158,
   "metadata": {},
   "outputs": [
    {
     "data": {
      "text/plain": [
       "휘발유    25\n",
       "NaN     1\n",
       "Name: 연료, dtype: int64"
      ]
     },
     "execution_count": 158,
     "metadata": {},
     "output_type": "execute_result"
    }
   ],
   "source": [
    "tot1.loc[tot1['엔진형식'] == '102 962', '연료'].value_counts(dropna=False)"
   ]
  },
  {
   "cell_type": "code",
   "execution_count": 159,
   "metadata": {},
   "outputs": [
    {
     "data": {
      "text/plain": [
       "NaN    1\n",
       "Name: 연료, dtype: int64"
      ]
     },
     "execution_count": 159,
     "metadata": {},
     "output_type": "execute_result"
    }
   ],
   "source": [
    "tot1.loc[tot1['엔진형식'] == 'mx', '연료'].value_counts(dropna=False)"
   ]
  },
  {
   "cell_type": "code",
   "execution_count": 160,
   "metadata": {},
   "outputs": [
    {
     "data": {
      "text/plain": [
       "휘발유    18447\n",
       "NaN        1\n",
       "Name: 연료, dtype: int64"
      ]
     },
     "execution_count": 160,
     "metadata": {},
     "output_type": "execute_result"
    }
   ],
   "source": [
    "tot1.loc[tot1['엔진형식'] == 'B', '연료'].value_counts(dropna=False)"
   ]
  },
  {
   "cell_type": "code",
   "execution_count": 161,
   "metadata": {},
   "outputs": [
    {
     "data": {
      "text/plain": [
       "NaN    1\n",
       "Name: 연료, dtype: int64"
      ]
     },
     "execution_count": 161,
     "metadata": {},
     "output_type": "execute_result"
    }
   ],
   "source": [
    "tot1.loc[tot1['엔진형식'] == '31L', '연료'].value_counts(dropna=False)"
   ]
  },
  {
   "cell_type": "code",
   "execution_count": 162,
   "metadata": {},
   "outputs": [
    {
     "data": {
      "text/plain": [
       "휘발유    40719\n",
       "NaN        1\n",
       "Name: 연료, dtype: int64"
      ]
     },
     "execution_count": 162,
     "metadata": {},
     "output_type": "execute_result"
    }
   ],
   "source": [
    "tot1.loc[tot1['엔진형식'] == 'G4CP', '연료'].value_counts(dropna=False)"
   ]
  },
  {
   "cell_type": "code",
   "execution_count": 163,
   "metadata": {},
   "outputs": [
    {
     "data": {
      "text/plain": [
       "휘발유    18\n",
       "NaN     1\n",
       "Name: 연료, dtype: int64"
      ]
     },
     "execution_count": 163,
     "metadata": {},
     "output_type": "execute_result"
    }
   ],
   "source": [
    "tot1.loc[tot1['엔진형식'] == '834C.146', '연료'].value_counts(dropna=False)"
   ]
  },
  {
   "cell_type": "code",
   "execution_count": 164,
   "metadata": {},
   "outputs": [
    {
     "data": {
      "text/plain": [
       "NaN    1\n",
       "Name: 연료, dtype: int64"
      ]
     },
     "execution_count": 164,
     "metadata": {},
     "output_type": "execute_result"
    }
   ],
   "source": [
    "tot1.loc[tot1['엔진형식'] == 'G4AJF045570', '연료'].value_counts(dropna=False)"
   ]
  },
  {
   "cell_type": "code",
   "execution_count": 165,
   "metadata": {},
   "outputs": [
    {
     "data": {
      "text/plain": [
       "NaN    1\n",
       "Name: 연료, dtype: int64"
      ]
     },
     "execution_count": 165,
     "metadata": {},
     "output_type": "execute_result"
    }
   ],
   "source": [
    "tot1.loc[tot1['엔진형식'] == 'G4MBG', '연료'].value_counts(dropna=False)"
   ]
  },
  {
   "cell_type": "code",
   "execution_count": 166,
   "metadata": {},
   "outputs": [
    {
     "data": {
      "text/plain": [
       "LPG(액화석유가스)    6\n",
       "NaN            1\n",
       "Name: 연료, dtype: int64"
      ]
     },
     "execution_count": 166,
     "metadata": {},
     "output_type": "execute_result"
    }
   ],
   "source": [
    "tot1.loc[tot1['엔진형식'] == 'GJS(LJS)', '연료'].value_counts(dropna=False)"
   ]
  },
  {
   "cell_type": "code",
   "execution_count": 167,
   "metadata": {},
   "outputs": [
    {
     "data": {
      "text/plain": [
       "NaN    2\n",
       "Name: 연료, dtype: int64"
      ]
     },
     "execution_count": 167,
     "metadata": {},
     "output_type": "execute_result"
    }
   ],
   "source": [
    "tot1.loc[tot1['엔진형식'] == '04784300942', '연료'].value_counts(dropna=False)"
   ]
  },
  {
   "cell_type": "code",
   "execution_count": 168,
   "metadata": {},
   "outputs": [
    {
     "data": {
      "text/plain": [
       "NaN    1\n",
       "Name: 연료, dtype: int64"
      ]
     },
     "execution_count": 168,
     "metadata": {},
     "output_type": "execute_result"
    }
   ],
   "source": [
    "tot1.loc[tot1['엔진형식'] == '10772217991', '연료'].value_counts(dropna=False)"
   ]
  },
  {
   "cell_type": "code",
   "execution_count": 169,
   "metadata": {},
   "outputs": [
    {
     "data": {
      "text/plain": [
       "경유     3\n",
       "NaN    1\n",
       "Name: 연료, dtype: int64"
      ]
     },
     "execution_count": 169,
     "metadata": {},
     "output_type": "execute_result"
    }
   ],
   "source": [
    "tot1.loc[tot1['엔진형식'] == 'DA120', '연료'].value_counts(dropna=False)"
   ]
  },
  {
   "cell_type": "code",
   "execution_count": 170,
   "metadata": {},
   "outputs": [
    {
     "data": {
      "text/plain": [
       "경유     310\n",
       "NaN      1\n",
       "Name: 연료, dtype: int64"
      ]
     },
     "execution_count": 170,
     "metadata": {},
     "output_type": "execute_result"
    }
   ],
   "source": [
    "tot1.loc[tot1['엔진형식'] == 'D0846HM', '연료'].value_counts(dropna=False)"
   ]
  },
  {
   "cell_type": "code",
   "execution_count": 171,
   "metadata": {},
   "outputs": [
    {
     "data": {
      "text/plain": [
       "경유     3\n",
       "NaN    1\n",
       "Name: 연료, dtype: int64"
      ]
     },
     "execution_count": 171,
     "metadata": {},
     "output_type": "execute_result"
    }
   ],
   "source": [
    "tot1.loc[tot1['엔진형식'] == 'DA640', '연료'].value_counts(dropna=False)"
   ]
  },
  {
   "cell_type": "code",
   "execution_count": 176,
   "metadata": {},
   "outputs": [],
   "source": [
    "# 'G4EC' : 휘발유\n",
    "# 'K24A1' : 휘발유\n",
    "# 'N62B48B' : 휘발유\n",
    "# '0' : 휘발유\n",
    "# 'G4JS' : 휘발유\n",
    "# 'AZJ' : 휘발유\n",
    "# 'G6BA' : 휘발유\n",
    "# '5S' : 휘발유\n",
    "# 'G6CT' : 휘발유\n",
    "# '2ZZ' : 휘발유\n",
    "# 'FE' : 휘발유\n",
    "# '112 944' : 휘발유\n",
    "# 'B230F' : 휘발유\n",
    "# '119' : 휘발유\n",
    "# 'EV20' : 휘발유\n",
    "# 'C32A1' : 휘발유\n",
    "# '2JZ' : 휘발유\n",
    "# '3.8' : 휘발유\n",
    "# 'V6' : 휘발유\n",
    "# '5E' : 휘발유\n",
    "# 'SR20' : 휘발유\n",
    "# 'M64/02' : 휘발유\n",
    "# '117.986' : 휘발유\n",
    "# '111 970' : 휘발유\n",
    "# '104 941' : 휘발유\n",
    "# 'M30-69' : 휘발유\n",
    "# 'F8C' : 휘발유\n",
    "# 'G15MF' : 휘발유\n",
    "# 'VQ30' : 휘발유\n",
    "# '102 962' : 휘발유\n",
    "# 'B' : 휘발유\n",
    "# 'G4CP' : 휘발유\n",
    "# '834C.146' : 휘발유\n",
    "# 'GJS(LJS)' : LPG(액화석유가스)\n",
    "# 'DA120' : 경유\n",
    "# 'D0846HM' : 경유\n",
    "# 'DA640' : 경유\n",
    "# 'JG1EK' : nan\n",
    "# '2JA' : nan\n",
    "# '13B-REW' : nan\n",
    "# '2S25' : nan\n",
    "# '3S-GTE' : nan\n",
    "# 'EFA' : nan\n",
    "# 'CRJ' : nan\n",
    "# '5.0HD' : nan\n",
    "# 'B-123' : nan\n",
    "# '40S1' : nan\n",
    "# 'CR8.13.1' : nan\n",
    "# 'K04D3' : nan\n",
    "# 'mx' : nan\n",
    "# '31L' : nan\n",
    "# 'G4AJF045570' : nan\n",
    "# 'G4MBG' : nan\n",
    "# '04784300942' : nan\n",
    "# '10772217991' : nan"
   ]
  },
  {
   "cell_type": "code",
   "execution_count": 172,
   "metadata": {},
   "outputs": [],
   "source": [
    "tot1.loc[tot1['엔진형식'] == 'G4EC', '연료'] = '휘발유'\n",
    "tot1.loc[tot1['엔진형식'] == 'K24A1', '연료'] = '휘발유'\n",
    "tot1.loc[tot1['엔진형식'] == 'N62B48B', '연료'] = '휘발유'\n",
    "tot1.loc[tot1['엔진형식'] == '0', '연료'] = '휘발유'\n",
    "tot1.loc[tot1['엔진형식'] == 'G4JS', '연료'] = '휘발유'\n",
    "tot1.loc[tot1['엔진형식'] == 'AZJ', '연료'] = '휘발유'\n",
    "tot1.loc[tot1['엔진형식'] == 'G6BA', '연료'] = '휘발유'\n",
    "tot1.loc[tot1['엔진형식'] == '5S', '연료'] = '휘발유'\n",
    "tot1.loc[tot1['엔진형식'] == 'G6CT', '연료'] = '휘발유'\n",
    "tot1.loc[tot1['엔진형식'] == '2ZZ', '연료'] = '휘발유'\n",
    "tot1.loc[tot1['엔진형식'] == 'FE', '연료'] = '휘발유'\n",
    "tot1.loc[tot1['엔진형식'] == '112 944', '연료'] = '휘발유'\n",
    "tot1.loc[tot1['엔진형식'] == 'B230F', '연료'] = '휘발유'\n",
    "tot1.loc[tot1['엔진형식'] == '119', '연료'] = '휘발유'\n",
    "tot1.loc[tot1['엔진형식'] == 'EV20', '연료'] = '휘발유'\n",
    "tot1.loc[tot1['엔진형식'] == 'C32A1', '연료'] = '휘발유'\n",
    "tot1.loc[tot1['엔진형식'] == '2JZ', '연료'] = '휘발유'\n",
    "tot1.loc[tot1['엔진형식'] == '3.8', '연료'] = '휘발유'\n",
    "tot1.loc[tot1['엔진형식'] == 'V6', '연료'] = '휘발유'\n",
    "tot1.loc[tot1['엔진형식'] == '5E', '연료'] = '휘발유'\n",
    "tot1.loc[tot1['엔진형식'] == 'SR20', '연료'] = '휘발유'\n",
    "tot1.loc[tot1['엔진형식'] == 'M64/02', '연료'] = '휘발유'\n",
    "tot1.loc[tot1['엔진형식'] == '117.986', '연료'] = '휘발유'\n",
    "tot1.loc[tot1['엔진형식'] == '111 970', '연료'] = '휘발유'\n",
    "tot1.loc[tot1['엔진형식'] == '104 941', '연료'] = '휘발유'\n",
    "tot1.loc[tot1['엔진형식'] == 'M30-69', '연료'] = '휘발유'\n",
    "tot1.loc[tot1['엔진형식'] == 'F8C', '연료'] = '휘발유'\n",
    "tot1.loc[tot1['엔진형식'] == 'G15MF', '연료'] = '휘발유'\n",
    "tot1.loc[tot1['엔진형식'] == 'VQ30', '연료'] = '휘발유'\n",
    "tot1.loc[tot1['엔진형식'] == '102 962', '연료'] = '휘발유'\n",
    "tot1.loc[tot1['엔진형식'] == 'B', '연료'] = '휘발유'\n",
    "tot1.loc[tot1['엔진형식'] == 'G4CP', '연료'] = '휘발유'\n",
    "tot1.loc[tot1['엔진형식'] == '834C.146', '연료'] = '휘발유'\n",
    "tot1.loc[tot1['엔진형식'] == 'GJS(LJS)', '연료'] = '휘발유'\n",
    "tot1.loc[tot1['엔진형식'] == 'DA120', '연료'] = '경유'\n",
    "tot1.loc[tot1['엔진형식'] == 'D0846HM', '연료'] = '경유'\n",
    "tot1.loc[tot1['엔진형식'] == 'DA640', '연료'] = '경유'\n",
    "# tot1.loc[tot1['엔진형식'] == 'JG1EK', '연료'] = np.nan\n",
    "# tot1.loc[tot1['엔진형식'] == '2JA', '연료'] = np.nan\n",
    "# tot1.loc[tot1['엔진형식'] == '13B-REW', '연료'] = np.nan\n",
    "# tot1.loc[tot1['엔진형식'] == '2S25', '연료'] = np.nan\n",
    "# tot1.loc[tot1['엔진형식'] == '3S-GTE', '연료'] = np.nan\n",
    "# tot1.loc[tot1['엔진형식'] == 'EFA', '연료'] = np.nan\n",
    "# tot1.loc[tot1['엔진형식'] == 'CRJ', '연료'] = np.nan\n",
    "# tot1.loc[tot1['엔진형식'] == '5.0HD', '연료'] = np.nan\n",
    "# tot1.loc[tot1['엔진형식'] == 'B-123', '연료'] = np.nan\n",
    "# tot1.loc[tot1['엔진형식'] == '40S1', '연료'] = np.nan\n",
    "# tot1.loc[tot1['엔진형식'] == 'CR8.13.1', '연료'] = np.nan\n",
    "# tot1.loc[tot1['엔진형식'] == 'K04D3', '연료'] = np.nan\n",
    "# tot1.loc[tot1['엔진형식'] == 'mx', '연료'] = np.nan\n",
    "# tot1.loc[tot1['엔진형식'] == '31L', '연료'] = np.nan\n",
    "# tot1.loc[tot1['엔진형식'] == 'G4AJF045570', '연료'] = np.nan\n",
    "# tot1.loc[tot1['엔진형식'] == 'G4MBG', '연료'] = '휘발유'\n",
    "# tot1.loc[tot1['엔진형식'] == '04784300942', '연료'] = np.nan\n",
    "# tot1.loc[tot1['엔진형식'] == '10772217991', '연료'] = np.nan"
   ]
  },
  {
   "cell_type": "code",
   "execution_count": 173,
   "metadata": {},
   "outputs": [
    {
     "data": {
      "text/plain": [
       "휘발유            12140639\n",
       "경유              9864640\n",
       "LPG(액화석유가스)     1856311\n",
       "휘발유 하이브리드       1068488\n",
       "전기               366804\n",
       "경유 하이브리드          34191\n",
       "CNG(압축천연가스)       30311\n",
       "수소                28102\n",
       "LPG 하이브리드         14350\n",
       "CNG 하이브리드           304\n",
       "NaN                 216\n",
       "LNG(액화천연가스)          25\n",
       "기타연료                  2\n",
       "알코올                   2\n",
       "Name: 연료, dtype: int64"
      ]
     },
     "execution_count": 173,
     "metadata": {},
     "output_type": "execute_result"
    }
   ],
   "source": [
    "tot1['연료'].value_counts(dropna=False)"
   ]
  },
  {
   "cell_type": "code",
   "execution_count": 186,
   "metadata": {},
   "outputs": [
    {
     "data": {
      "text/plain": [
       "25397897    1980\n",
       "Name: 자동차형식, dtype: object"
      ]
     },
     "execution_count": 186,
     "metadata": {},
     "output_type": "execute_result"
    }
   ],
   "source": [
    "tot1.loc[tot1['차명'] == '도요다웨곤엠브란스', '자동차형식']"
   ]
  },
  {
   "cell_type": "code",
   "execution_count": 187,
   "metadata": {},
   "outputs": [
    {
     "data": {
      "text/html": [
       "<div>\n",
       "<style scoped>\n",
       "    .dataframe tbody tr th:only-of-type {\n",
       "        vertical-align: middle;\n",
       "    }\n",
       "\n",
       "    .dataframe tbody tr th {\n",
       "        vertical-align: top;\n",
       "    }\n",
       "\n",
       "    .dataframe thead th {\n",
       "        text-align: right;\n",
       "    }\n",
       "</style>\n",
       "<table border=\"1\" class=\"dataframe\">\n",
       "  <thead>\n",
       "    <tr style=\"text-align: right;\">\n",
       "      <th></th>\n",
       "      <th>자동차형식</th>\n",
       "      <th>연료</th>\n",
       "      <th>차량연식</th>\n",
       "    </tr>\n",
       "  </thead>\n",
       "  <tbody>\n",
       "    <tr>\n",
       "      <th>25397897</th>\n",
       "      <td>1980</td>\n",
       "      <td>경유</td>\n",
       "      <td>2004</td>\n",
       "    </tr>\n",
       "  </tbody>\n",
       "</table>\n",
       "</div>"
      ],
      "text/plain": [
       "         자동차형식  연료  차량연식\n",
       "25397897  1980  경유  2004"
      ]
     },
     "execution_count": 187,
     "metadata": {},
     "output_type": "execute_result"
    }
   ],
   "source": [
    "tot1.loc[tot1['자동차형식'] == '1980', ['자동차형식', '연료', '차량연식']]"
   ]
  },
  {
   "cell_type": "code",
   "execution_count": 188,
   "metadata": {},
   "outputs": [
    {
     "data": {
      "text/plain": [
       "25369788    RX60\n",
       "Name: 자동차형식, dtype: object"
      ]
     },
     "execution_count": 188,
     "metadata": {},
     "output_type": "execute_result"
    }
   ],
   "source": [
    "tot1.loc[tot1['차명'] == '구급차(도요다)', '자동차형식']"
   ]
  },
  {
   "cell_type": "code",
   "execution_count": 189,
   "metadata": {},
   "outputs": [
    {
     "data": {
      "text/html": [
       "<div>\n",
       "<style scoped>\n",
       "    .dataframe tbody tr th:only-of-type {\n",
       "        vertical-align: middle;\n",
       "    }\n",
       "\n",
       "    .dataframe tbody tr th {\n",
       "        vertical-align: top;\n",
       "    }\n",
       "\n",
       "    .dataframe thead th {\n",
       "        text-align: right;\n",
       "    }\n",
       "</style>\n",
       "<table border=\"1\" class=\"dataframe\">\n",
       "  <thead>\n",
       "    <tr style=\"text-align: right;\">\n",
       "      <th></th>\n",
       "      <th>자동차형식</th>\n",
       "      <th>연료</th>\n",
       "    </tr>\n",
       "  </thead>\n",
       "  <tbody>\n",
       "    <tr>\n",
       "      <th>25369788</th>\n",
       "      <td>RX60</td>\n",
       "      <td>경유</td>\n",
       "    </tr>\n",
       "  </tbody>\n",
       "</table>\n",
       "</div>"
      ],
      "text/plain": [
       "         자동차형식  연료\n",
       "25369788  RX60  경유"
      ]
     },
     "execution_count": 189,
     "metadata": {},
     "output_type": "execute_result"
    }
   ],
   "source": [
    "tot1.loc[tot1['자동차형식'] == 'RX60', ['자동차형식', '연료']]"
   ]
  },
  {
   "cell_type": "code",
   "execution_count": 190,
   "metadata": {},
   "outputs": [
    {
     "data": {
      "text/plain": [
       "Series([], Name: 자동차형식, dtype: object)"
      ]
     },
     "execution_count": 190,
     "metadata": {},
     "output_type": "execute_result"
    }
   ],
   "source": [
    "tot1.loc[tot1['차명'] == 'SID 500 F1', '자동차형식']"
   ]
  },
  {
   "cell_type": "code",
   "execution_count": 191,
   "metadata": {},
   "outputs": [
    {
     "data": {
      "text/html": [
       "<div>\n",
       "<style scoped>\n",
       "    .dataframe tbody tr th:only-of-type {\n",
       "        vertical-align: middle;\n",
       "    }\n",
       "\n",
       "    .dataframe tbody tr th {\n",
       "        vertical-align: top;\n",
       "    }\n",
       "\n",
       "    .dataframe thead th {\n",
       "        text-align: right;\n",
       "    }\n",
       "</style>\n",
       "<table border=\"1\" class=\"dataframe\">\n",
       "  <thead>\n",
       "    <tr style=\"text-align: right;\">\n",
       "      <th></th>\n",
       "      <th>자동차형식</th>\n",
       "      <th>연료</th>\n",
       "      <th>차명</th>\n",
       "    </tr>\n",
       "  </thead>\n",
       "  <tbody>\n",
       "  </tbody>\n",
       "</table>\n",
       "</div>"
      ],
      "text/plain": [
       "Empty DataFrame\n",
       "Columns: [자동차형식, 연료, 차명]\n",
       "Index: []"
      ]
     },
     "execution_count": 191,
     "metadata": {},
     "output_type": "execute_result"
    }
   ],
   "source": [
    "tot1.loc[tot1['자동차형식'] == 'C1U52', ['자동차형식', '연료', '차명', ]]"
   ]
  },
  {
   "cell_type": "code",
   "execution_count": 192,
   "metadata": {},
   "outputs": [
    {
     "data": {
      "text/plain": [
       "138"
      ]
     },
     "execution_count": 192,
     "metadata": {},
     "output_type": "execute_result"
    }
   ],
   "source": [
    "car_name = [\n",
    "    '미스비시샤시(세미트레일러)', #\n",
    "    '다이아몬드(추레라)피견인차', #\n",
    "    '트레라', #\n",
    "    '세미트레라', #\n",
    "    '트레일러', #\n",
    "    '세미트레일러', #\n",
    "    '쎄미트레라', #\n",
    "    '일산 육륜', \n",
    "    '히노 트레라', #\n",
    "    '피견인차(탱크로리)', #\n",
    "    '히노탱크로리트레라', #\n",
    "    '히노탱크로리', # 경유\n",
    "    '코티나마크IV', # 휘발유\n",
    "    '후소트레일러', #\n",
    "    '가와사끼샤시(세미트레일러)', #\n",
    "    '도큐트레일러', #\n",
    "    '세미 트레일러', #\n",
    "    '콘테이너샤시콤바인', #\n",
    "    '콘테이너샤시트레일러', #\n",
    "    '인터내쇼날트레일러', #\n",
    "    '추레라', #\n",
    "    '프렛트홈트레일러콤바인', #\n",
    "    '프렛트홈트레라콤바인', #\n",
    "    '제너럴트레일러', #\n",
    "    '아시아AM707중형버스', # 경유\n",
    "    '훌러하프탱크추레라',  #\n",
    "    '후루하프트레라', #\n",
    "    '드라어  추레라', #\n",
    "    '현대708콘테이너전용트레일러', #\n",
    "    '인타담프', # 경유\n",
    "    '동아저상식트레일러', #\n",
    "    '저상식트레일러', #\n",
    "    '브리샤2', # 휘발유\n",
    "    '추레라(피견인차)', #\n",
    "    '도큐사요트레러', #\n",
    "    '새한버스', # 경유\n",
    "    '다이하스웨곤', # 휘발유\n",
    "    '스트리크트레일러샤시', #\n",
    "    '프랫트홈트레일러콤바인', #\n",
    "    '세미25톤트레일러', #\n",
    "    '탱크로리트레라', #\n",
    "\n",
    "    '도요다웨곤엠브란스', # 경유\n",
    "\n",
    "    '도요다크라운', # 휘발유\n",
    "    '추례라', #\n",
    "    '진도콤비네이션콘테너샤시', #\n",
    "    '쎄미트레일러', #\n",
    "    '로얄살롱', # 휘발유\n",
    "    '도요다코로나', # 휘발유\n",
    "    '스텔라', # 휘발유\n",
    "    '스텔라1.6CXL', # 휘발유\n",
    "    '골드호퍼트레일러', #\n",
    "    '대우11톤카고', # 경유\n",
    "    '현대401드롭배드트레일러', #\n",
    "    '대우8톤카고', # 경유\n",
    "    '맥스디젤삼방', # 경유\n",
    "    '현대리어엔진버스', # 경유\n",
    "    '대우26톤드롭베스트레일러', #\n",
    "    '포니2', # 휘발유\n",
    "    '동아덤프트레일러', #\n",
    "    '도요다크라운로얄싸롱', # 휘발유\n",
    "    '현대구즈넥콘테이너트레일러', #\n",
    "    '현대평판트레일러', #\n",
    "    '현대20KL스텐탱크트레일러', #\n",
    "    '23톤구즈넥덤프트레일러', #\n",
    "    '구즈넥콘테이너샤시', #\n",
    "    '26톤드톱베드트레일러', #\n",
    "\n",
    "    '구급차(도요다)', # 경유\n",
    "\n",
    "    '현대콘테이너트레일러',  #\n",
    "    '동아콘테이너샤시', #\n",
    "    '진도구즈넥콘테이너샤시', #\n",
    "    '진도프레트폼트레일러', #\n",
    "    '진도20피드콘테이저샤시', #\n",
    "    '25M3벌크시멘트트레일러', #\n",
    "    \"현대45'익스텐션콘테이너트\", #\n",
    "    '벤즈230E', # 휘발유\n",
    "    '진도구즈넥슬라이더콤비샤시', #\n",
    "    '프레스토오토매틱', # 휘발유\n",
    "    '르망펜타-5', # 휘발유\n",
    "    '진도콤비네이션콘테이너샤시', #\n",
    "    '스텔라오토매틱', # 휘발유\n",
    "    '엑셀', # 휘발유\n",
    "    '벤즈 230E', # 휘발유\n",
    "    '진도구즈넥슬라이더콘테이너', #\n",
    "    '동아콘테이너샤시콤바인', #\n",
    "    '캐피탈', # 휘발유\n",
    "    '로얄살롱2.0AT', # 휘발유\n",
    "    '르망', # 휘발유\n",
    "    '현대45`익스텐션콘테이너트', #\n",
    "    '현대45,익스텐션콘테이너트', #\n",
    "    '25M3벌크트레일러', #\n",
    "    '23M3 벌크트레일러', #\n",
    "    '머큐리 세이블', # 휘발유\n",
    "    '트레일러  프렛홈형', # \n",
    "    '디엠티 탱크 트레일러', #\n",
    "    '복사14', # 경유\n",
    "    'HYUNDAI PRESTO', # 휘발유\n",
    "    '미래40피트콤비네이션콘테이너샤시', #\n",
    "    '도요타 프리우스(하이브리드)', # 휘발유 하이브리드\n",
    "    'TOYOTA CAMRY하이브리드', # 휘발유 하이브리드\n",
    "    '보트트레일러', # \n",
    "    '장보고 보트 트레일러', #\n",
    "    '동우 가변형 평판트레일러', #\n",
    "    'XW300', # \n",
    "    '대한평판트레일러', #\n",
    "    '대한콤비컨테이너트레일러', #\n",
    "    '바인스베르크400LK캠핑트레일러', #\n",
    "    '미래40피트틸팅컨테이너샤시', #\n",
    "    '소노마캠팡트레일러', #\n",
    "    '에어스트림탐지견수송트레일러', #\n",
    "    '이보1850캠핑트레일러', #\n",
    "    'RW300', #\n",
    "    'WSR레저장비운송트레일러', #\n",
    "    '트레일마스터보트트레일러', #\n",
    "    '제니스5캠핑트레일러', #\n",
    "    'ALTEA542캠핑트레일러', #\n",
    "    '트레일러-LMTV', #\n",
    "    '카고 트레일러', #\n",
    "    'TRAILER CARGO LMTV', #\n",
    "    'D.K트레일러', #\n",
    "    'FEISHEN일반화물운송트레일러', #\n",
    "\n",
    "    'SID 500 F1', # \n",
    "\n",
    "    '카라반KUS2960평판트레일러', #\n",
    "    '밤챔버용 트레일러', #\n",
    "    '아우토니드이동가축관리트레일러', #\n",
    "    '렉스온캠핑트레일러', #\n",
    "    '포레스트리버캠핑트레일러', #\n",
    "    '홍성푸드트레일러', #\n",
    "    '펜트(FENDT)캠핑트레일러',#\n",
    "    '밀폐형 방폭트레일러(DynaSEALR X10 LTR on Trailer)', #\n",
    "    '홍성캠핑트레일러', #\n",
    "    '아드리아(ADRIA)캠핑트레일러', #\n",
    "    '트리가노(TRIGANO)스탈렛캠핑트레일러', #\n",
    "    '엘디스(ELDDIS)캠핑트레일러',#\n",
    "    '베일리(BAILEY)캠핑트레일러', #\n",
    "    '바인스버그(WEINSBERG) 캠핑트레일러', #\n",
    "    '미래40피트평판트레일러', #\n",
    "    '타버트(TABBERT)캠핑트레일러', #\n",
    "    '씨티인터내셔널캠핑트레일러', #\n",
    "]\n",
    "len(car_name)"
   ]
  },
  {
   "cell_type": "code",
   "execution_count": 199,
   "metadata": {},
   "outputs": [],
   "source": [
    "# 47s\n",
    "tot1.loc[tot1['차명'] == '코티나마크IV', '연료'] = '휘발유'\n",
    "tot1.loc[tot1['차명'] == '브리샤2', '연료'] = '휘발유'\n",
    "tot1.loc[tot1['차명'] == '다이하스웨곤', '연료'] = '휘발유'\n",
    "tot1.loc[tot1['차명'] == '도요다크라운', '연료'] = '휘발유'\n",
    "tot1.loc[tot1['차명'] == '로얄살롱', '연료'] = '휘발유'\n",
    "tot1.loc[tot1['차명'] == '도요다코로나', '연료'] = '휘발유'\n",
    "tot1.loc[tot1['차명'] == '스텔라', '연료'] = '휘발유'\n",
    "tot1.loc[tot1['차명'] == '스텔라1.6CXL', '연료'] = '휘발유'\n",
    "tot1.loc[tot1['차명'] == '포니2', '연료'] = '휘발유'\n",
    "tot1.loc[tot1['차명'] == '도요다크라운로얄싸롱', '연료'] = '휘발유'\n",
    "tot1.loc[tot1['차명'] == '벤즈230E', '연료'] = '휘발유'\n",
    "tot1.loc[tot1['차명'] == '프레스토오토매틱', '연료'] = '휘발유'\n",
    "tot1.loc[tot1['차명'] == '르망펜타-5', '연료'] = '휘발유'\n",
    "tot1.loc[tot1['차명'] == '스텔라오토매틱', '연료'] = '휘발유'\n",
    "tot1.loc[tot1['차명'] == '엑셀', '연료'] = '휘발유'\n",
    "tot1.loc[tot1['차명'] == '벤즈 230E', '연료'] = '휘발유'\n",
    "tot1.loc[tot1['차명'] == '캐피탈', '연료'] = '휘발유'\n",
    "tot1.loc[tot1['차명'] == '로얄살롱2.0AT', '연료'] = '휘발유'\n",
    "tot1.loc[tot1['차명'] == '르망', '연료'] = '휘발유'\n",
    "tot1.loc[tot1['차명'] == '머큐리 세이블', '연료'] = '휘발유'\n",
    "tot1.loc[tot1['차명'] == '복사14', '연료'] = '경유'\n",
    "tot1.loc[tot1['차명'] == 'HYUNDAI PRESTO', '연료'] = '휘발유'\n",
    "\n",
    "tot1.loc[tot1['차명'] == '도요타 프리우스(하이브리드)', '연료'] = '휘발유 하이브리드'\n",
    "tot1.loc[tot1['차명'] == 'TOYOTA CAMRY하이브리드', '연료'] = '휘발유 하이브리드'\n",
    "\n",
    "tot1.loc[tot1['차명'] == '히노탱크로리', '연료'] = '경유'\n",
    "tot1.loc[tot1['차명'] == '아시아AM707중형버스', '연료'] = '경유'\n",
    "tot1.loc[tot1['차명'] == '인타담프', '연료'] = '경유'\n",
    "tot1.loc[tot1['차명'] == '새한버스', '연료'] = '경유'\n",
    "tot1.loc[tot1['차명'] == '도요다웨곤엠브란스', '연료'] = '경유'\n",
    "tot1.loc[tot1['차명'] == '대우11톤카고', '연료'] = '경유'\n",
    "tot1.loc[tot1['차명'] == '대우8톤카고', '연료'] = '경유'\n",
    "tot1.loc[tot1['차명'] == '맥스디젤삼방', '연료'] = '경유'\n",
    "tot1.loc[tot1['차명'] == '현대리어엔진버스', '연료'] = '경유'\n",
    "tot1.loc[tot1['차명'] == '구급차(도요다)', '연료'] = '경유'"
   ]
  },
  {
   "cell_type": "code",
   "execution_count": 200,
   "metadata": {},
   "outputs": [
    {
     "data": {
      "text/plain": [
       "휘발유            12140895\n",
       "경유              9864585\n",
       "LPG(액화석유가스)     1856308\n",
       "휘발유 하이브리드       1068490\n",
       "전기               366804\n",
       "경유 하이브리드          34191\n",
       "CNG(압축천연가스)       30311\n",
       "수소                28102\n",
       "LPG 하이브리드         14350\n",
       "CNG 하이브리드           304\n",
       "LNG(액화천연가스)          25\n",
       "NaN                  11\n",
       "무동력                   7\n",
       "알코올                   2\n",
       "Name: 연료, dtype: int64"
      ]
     },
     "execution_count": 200,
     "metadata": {},
     "output_type": "execute_result"
    }
   ],
   "source": [
    "tot1['연료'].value_counts(dropna=False)"
   ]
  },
  {
   "attachments": {},
   "cell_type": "markdown",
   "metadata": {},
   "source": [
    "### 최종 확인"
   ]
  },
  {
   "cell_type": "code",
   "execution_count": null,
   "metadata": {},
   "outputs": [],
   "source": [
    "tot1.loc[tot1['연료'].isnull() == True, ['차명', '연료', '엔진형식', '자동차형식']]"
   ]
  },
  {
   "cell_type": "code",
   "execution_count": 205,
   "metadata": {},
   "outputs": [],
   "source": [
    "# 12s\n",
    "# issue 이미 위에서 처리한 차명의 연료가 결측값으로 나옴\n",
    "tot1.loc[tot1['차명'] == 'LINCOLN MKX', '연료'] = '휘발유'\n",
    "tot1.loc[tot1['차명'] == 'LEXUS RX330', '연료'] = '휘발유'\n",
    "tot1.loc[tot1['차명'] == 'TOYOTA AVALON', '연료'] = '휘발유'\n",
    "tot1.loc[tot1['차명'] == 'MERCEDES-BENZ S65', '연료'] = '휘발유'\n",
    "tot1.loc[tot1['차명'] == 'MERCURY MILAN', '연료'] = '휘발유'\n",
    "tot1.loc[tot1['차명'] == 'PONTIAC VIBE BASE', '연료'] = '휘발유'\n",
    "tot1.loc[tot1['차명'] == 'TOYOTA COROLLA', '연료'] = '휘발유'\n",
    "tot1.loc[tot1['차명'] == 'ROYALE', '연료'] = '휘발유'"
   ]
  },
  {
   "cell_type": "code",
   "execution_count": 206,
   "metadata": {},
   "outputs": [
    {
     "data": {
      "text/plain": [
       "휘발유            12140911\n",
       "경유              9864582\n",
       "LPG(액화석유가스)     1856308\n",
       "휘발유 하이브리드       1068488\n",
       "전기               366804\n",
       "경유 하이브리드          34191\n",
       "CNG(압축천연가스)       30311\n",
       "수소                28102\n",
       "LPG 하이브리드         14350\n",
       "CNG 하이브리드           304\n",
       "LNG(액화천연가스)          25\n",
       "무동력                   7\n",
       "알코올                   2\n",
       "Name: 연료, dtype: int64"
      ]
     },
     "execution_count": 206,
     "metadata": {},
     "output_type": "execute_result"
    }
   ],
   "source": [
    "tot1['연료'].value_counts(dropna=False)"
   ]
  },
  {
   "attachments": {},
   "cell_type": "markdown",
   "metadata": {},
   "source": [
    "## 임시등급 병합"
   ]
  },
  {
   "cell_type": "code",
   "execution_count": 207,
   "metadata": {},
   "outputs": [
    {
     "data": {
      "text/plain": [
       "2     10960196\n",
       "3      8623093\n",
       "1      2771380\n",
       "4      1511174\n",
       "5      1154695\n",
       "T2      247481\n",
       "T3      136300\n",
       "T4          37\n",
       "T5          29\n",
       "Name: 배출가스등급, dtype: int64"
      ]
     },
     "execution_count": 207,
     "metadata": {},
     "output_type": "execute_result"
    }
   ],
   "source": [
    "tot1['배출가스등급'].value_counts(dropna=False)"
   ]
  },
  {
   "cell_type": "code",
   "execution_count": 211,
   "metadata": {},
   "outputs": [
    {
     "data": {
      "text/plain": [
       "(25404385, 59)"
      ]
     },
     "execution_count": 211,
     "metadata": {},
     "output_type": "execute_result"
    }
   ],
   "source": [
    "tot1.shape"
   ]
  },
  {
   "cell_type": "code",
   "execution_count": 212,
   "metadata": {},
   "outputs": [
    {
     "data": {
      "text/plain": [
       "25404385"
      ]
     },
     "execution_count": 212,
     "metadata": {},
     "output_type": "execute_result"
    }
   ],
   "source": [
    "grade_list = []\n",
    "for one in tqdm(tot1['배출가스등급']):\n",
    "    if str(one) == '1':\n",
    "        grade_list.append('1')\n",
    "    elif str(one) == '2' or str(one) == 'T2':\n",
    "        grade_list.append('2')\n",
    "    elif str(one) == '3' or str(one) == 'T3':\n",
    "        grade_list.append('3')\n",
    "    elif str(one) == '4' or str(one) == 'T4':\n",
    "        grade_list.append('4')\n",
    "    elif str(one) == '5' or str(one) == 'T5':\n",
    "        grade_list.append('5')\n",
    "    elif str(one) == 'X':\n",
    "        grade_list.append('X')\n",
    "    else:\n",
    "        grade_list.append(np.nan)\n",
    "len(grade_list)"
   ]
  },
  {
   "cell_type": "code",
   "execution_count": 213,
   "metadata": {},
   "outputs": [
    {
     "data": {
      "text/plain": [
       "['1', '1', '1', '1', '1']"
      ]
     },
     "execution_count": 213,
     "metadata": {},
     "output_type": "execute_result"
    }
   ],
   "source": [
    "grade_list[:5]"
   ]
  },
  {
   "cell_type": "code",
   "execution_count": 214,
   "metadata": {},
   "outputs": [],
   "source": [
    "tot1['등급'] = grade_list"
   ]
  },
  {
   "cell_type": "markdown",
   "metadata": {},
   "source": [
    "## 연료 결측값 샘플"
   ]
  },
  {
   "cell_type": "code",
   "execution_count": 215,
   "metadata": {},
   "outputs": [],
   "source": [
    "# about 28s\n",
    "total = tot1.copy()"
   ]
  },
  {
   "cell_type": "code",
   "execution_count": 216,
   "metadata": {},
   "outputs": [
    {
     "data": {
      "text/plain": [
       "(0, 59)"
      ]
     },
     "execution_count": 216,
     "metadata": {},
     "output_type": "execute_result"
    }
   ],
   "source": [
    "total[total['연료'].isnull() == True].shape"
   ]
  },
  {
   "cell_type": "code",
   "execution_count": 34,
   "metadata": {},
   "outputs": [
    {
     "data": {
      "text/plain": [
       "Index(['차량관리번호', '차량등록번호', '본거지법정동코드', '소유자구분', '차종_등록정보', '용도', '현재회원번호',\n",
       "       '차대번호', '최초등록일자', '차량연식', '차량제작일자', '배출가스검사유효일자', '제원관리번호', '배출가스인증번호',\n",
       "       '배출가스등급', '저공해조치YN(미사용)', '저공해조치종류', '저공해조치구조변경YN', '차량등록번호숫자정보',\n",
       "       '차량말소YN', '최초회원번호', '취득일자', '취득금액', '생성일시_등록정보', '수정일시_등록정보', '차명',\n",
       "       '차종_제원정보', '차종분류', '차종유형(소분류)', '자동차형식', '제작사명', '연료', '엔진형식', '공차중량',\n",
       "       '총중량', '적재중량', '엔진출력', '배기량', '승차인원', '차량길이', '차량너비', '차량높이', '원산지명',\n",
       "       '삭제YN', '승인일자', '구동형식', '변속기종류', '생성일시_제원정보', '수정일시_제원정보', '법정동코드',\n",
       "       '시도', '시구군', '읍면동', '리', '지역3', '폐지여부', '대기관리권역', '대기관리권역YN', '등급'],\n",
       "      dtype='object')"
      ]
     },
     "execution_count": 34,
     "metadata": {},
     "output_type": "execute_result"
    }
   ],
   "source": [
    "total.columns"
   ]
  },
  {
   "cell_type": "code",
   "execution_count": 35,
   "metadata": {},
   "outputs": [
    {
     "data": {
      "text/html": [
       "<div>\n",
       "<style scoped>\n",
       "    .dataframe tbody tr th:only-of-type {\n",
       "        vertical-align: middle;\n",
       "    }\n",
       "\n",
       "    .dataframe tbody tr th {\n",
       "        vertical-align: top;\n",
       "    }\n",
       "\n",
       "    .dataframe thead th {\n",
       "        text-align: right;\n",
       "    }\n",
       "</style>\n",
       "<table border=\"1\" class=\"dataframe\">\n",
       "  <thead>\n",
       "    <tr style=\"text-align: right;\">\n",
       "      <th></th>\n",
       "      <th>차명</th>\n",
       "      <th>엔진형식</th>\n",
       "      <th>차량연식</th>\n",
       "    </tr>\n",
       "  </thead>\n",
       "  <tbody>\n",
       "    <tr>\n",
       "      <th>11998429</th>\n",
       "      <td>CHRYSLER TOWN &amp; COUNTRY(7)</td>\n",
       "      <td>NaN</td>\n",
       "      <td>2010</td>\n",
       "    </tr>\n",
       "    <tr>\n",
       "      <th>12045462</th>\n",
       "      <td>FORD ESCAPE</td>\n",
       "      <td>NaN</td>\n",
       "      <td>2010</td>\n",
       "    </tr>\n",
       "    <tr>\n",
       "      <th>12048481</th>\n",
       "      <td>JEEP GRAND CHEROKEE</td>\n",
       "      <td>NaN</td>\n",
       "      <td>2010</td>\n",
       "    </tr>\n",
       "    <tr>\n",
       "      <th>12073761</th>\n",
       "      <td>MERCEDES-BENZ E-CLASS</td>\n",
       "      <td>NaN</td>\n",
       "      <td>2010</td>\n",
       "    </tr>\n",
       "    <tr>\n",
       "      <th>12076693</th>\n",
       "      <td>VOLVO XC60</td>\n",
       "      <td>NaN</td>\n",
       "      <td>2010</td>\n",
       "    </tr>\n",
       "    <tr>\n",
       "      <th>...</th>\n",
       "      <td>...</td>\n",
       "      <td>...</td>\n",
       "      <td>...</td>\n",
       "    </tr>\n",
       "    <tr>\n",
       "      <th>25321981</th>\n",
       "      <td>GMC</td>\n",
       "      <td>DA120</td>\n",
       "      <td>1976</td>\n",
       "    </tr>\n",
       "    <tr>\n",
       "      <th>25322123</th>\n",
       "      <td>기아마스타</td>\n",
       "      <td>NaN</td>\n",
       "      <td>1976</td>\n",
       "    </tr>\n",
       "    <tr>\n",
       "      <th>25322257</th>\n",
       "      <td>코티나디럭스</td>\n",
       "      <td>NaN</td>\n",
       "      <td>1974</td>\n",
       "    </tr>\n",
       "    <tr>\n",
       "      <th>25322377</th>\n",
       "      <td>GMC</td>\n",
       "      <td>D0846HM</td>\n",
       "      <td>1967</td>\n",
       "    </tr>\n",
       "    <tr>\n",
       "      <th>25322419</th>\n",
       "      <td>G.M.C</td>\n",
       "      <td>DA640</td>\n",
       "      <td>1950</td>\n",
       "    </tr>\n",
       "  </tbody>\n",
       "</table>\n",
       "<p>231 rows × 3 columns</p>\n",
       "</div>"
      ],
      "text/plain": [
       "                                  차명     엔진형식  차량연식\n",
       "11998429  CHRYSLER TOWN & COUNTRY(7)      NaN  2010\n",
       "12045462                 FORD ESCAPE      NaN  2010\n",
       "12048481         JEEP GRAND CHEROKEE      NaN  2010\n",
       "12073761       MERCEDES-BENZ E-CLASS      NaN  2010\n",
       "12076693                  VOLVO XC60      NaN  2010\n",
       "...                              ...      ...   ...\n",
       "25321981                         GMC    DA120  1976\n",
       "25322123                       기아마스타      NaN  1976\n",
       "25322257                      코티나디럭스      NaN  1974\n",
       "25322377                         GMC  D0846HM  1967\n",
       "25322419                       G.M.C    DA640  1950\n",
       "\n",
       "[231 rows x 3 columns]"
      ]
     },
     "execution_count": 35,
     "metadata": {},
     "output_type": "execute_result"
    }
   ],
   "source": [
    "total.loc[total['연료'].isnull() == True, ['차명', '엔진형식', '차량연식']].drop_duplicates(['차명', '엔진형식', '차량연식'])"
   ]
  },
  {
   "cell_type": "markdown",
   "metadata": {},
   "source": [
    "#### [출력] 연료 결측값 샘플(차명, 엔진형식, 차량연식)"
   ]
  },
  {
   "cell_type": "code",
   "execution_count": null,
   "metadata": {},
   "outputs": [],
   "source": [
    "# total.loc[total['연료'].isnull() == True, ['차명', '엔진형식', '차량연식']].drop_duplicates(['차명', '엔진형식']).to_excel('analysis/샘플_연료_결측값_차명_엔진형식_차량연식.xlsx', index=False)"
   ]
  },
  {
   "attachments": {},
   "cell_type": "markdown",
   "metadata": {},
   "source": [
    "## 연료 결측치 수정"
   ]
  },
  {
   "attachments": {},
   "cell_type": "markdown",
   "metadata": {},
   "source": [
    "### [로드] 샘플_연료_결측값_차명_엔진형식_차량연식(연료수정)"
   ]
  },
  {
   "cell_type": "code",
   "execution_count": 36,
   "metadata": {},
   "outputs": [],
   "source": [
    "corrected_fold = 'D:/data/low_gas_vehicle'"
   ]
  },
  {
   "cell_type": "code",
   "execution_count": 37,
   "metadata": {},
   "outputs": [
    {
     "data": {
      "text/plain": [
       "(183, 4)"
      ]
     },
     "execution_count": 37,
     "metadata": {},
     "output_type": "execute_result"
    }
   ],
   "source": [
    "corrected_fuel = pd.read_excel(os.path.join(corrected_fold, '샘플_연료_결측값_차명_엔진형식_차량연식(연료수정).xlsx'))\n",
    "corrected_fuel.shape"
   ]
  },
  {
   "cell_type": "code",
   "execution_count": 38,
   "metadata": {},
   "outputs": [
    {
     "data": {
      "text/html": [
       "<div>\n",
       "<style scoped>\n",
       "    .dataframe tbody tr th:only-of-type {\n",
       "        vertical-align: middle;\n",
       "    }\n",
       "\n",
       "    .dataframe tbody tr th {\n",
       "        vertical-align: top;\n",
       "    }\n",
       "\n",
       "    .dataframe thead th {\n",
       "        text-align: right;\n",
       "    }\n",
       "</style>\n",
       "<table border=\"1\" class=\"dataframe\">\n",
       "  <thead>\n",
       "    <tr style=\"text-align: right;\">\n",
       "      <th></th>\n",
       "      <th>차명</th>\n",
       "      <th>연료</th>\n",
       "      <th>엔진형식</th>\n",
       "      <th>차량연식</th>\n",
       "    </tr>\n",
       "  </thead>\n",
       "  <tbody>\n",
       "    <tr>\n",
       "      <th>0</th>\n",
       "      <td>CHRYSLER TOWN &amp; COUNTRY(7)</td>\n",
       "      <td>휘발유</td>\n",
       "      <td>NaN</td>\n",
       "      <td>2010</td>\n",
       "    </tr>\n",
       "    <tr>\n",
       "      <th>1</th>\n",
       "      <td>FORD ESCAPE</td>\n",
       "      <td>휘발유</td>\n",
       "      <td>NaN</td>\n",
       "      <td>2010</td>\n",
       "    </tr>\n",
       "    <tr>\n",
       "      <th>2</th>\n",
       "      <td>JEEP GRAND CHEROKEE</td>\n",
       "      <td>휘발유</td>\n",
       "      <td>NaN</td>\n",
       "      <td>2010</td>\n",
       "    </tr>\n",
       "    <tr>\n",
       "      <th>3</th>\n",
       "      <td>MERCEDES-BENZ E-CLASS</td>\n",
       "      <td>휘발유</td>\n",
       "      <td>NaN</td>\n",
       "      <td>2010</td>\n",
       "    </tr>\n",
       "    <tr>\n",
       "      <th>4</th>\n",
       "      <td>VOLVO XC60</td>\n",
       "      <td>휘발유</td>\n",
       "      <td>NaN</td>\n",
       "      <td>2010</td>\n",
       "    </tr>\n",
       "  </tbody>\n",
       "</table>\n",
       "</div>"
      ],
      "text/plain": [
       "                           차명   연료 엔진형식  차량연식\n",
       "0  CHRYSLER TOWN & COUNTRY(7)  휘발유  NaN  2010\n",
       "1                 FORD ESCAPE  휘발유  NaN  2010\n",
       "2         JEEP GRAND CHEROKEE  휘발유  NaN  2010\n",
       "3       MERCEDES-BENZ E-CLASS  휘발유  NaN  2010\n",
       "4                  VOLVO XC60  휘발유  NaN  2010"
      ]
     },
     "execution_count": 38,
     "metadata": {},
     "output_type": "execute_result"
    }
   ],
   "source": [
    "corrected_fuel.head()"
   ]
  },
  {
   "cell_type": "code",
   "execution_count": 39,
   "metadata": {},
   "outputs": [],
   "source": [
    "corrected_fuel_dict = {a:b for a, b in zip(corrected_fuel['차명'], corrected_fuel['연료'])}"
   ]
  },
  {
   "cell_type": "code",
   "execution_count": 40,
   "metadata": {},
   "outputs": [],
   "source": [
    "empty_fuel_car_idx = total[total['연료'].isnull() == True].index"
   ]
  },
  {
   "cell_type": "code",
   "execution_count": 41,
   "metadata": {},
   "outputs": [
    {
     "data": {
      "text/plain": [
       "257"
      ]
     },
     "execution_count": 41,
     "metadata": {},
     "output_type": "execute_result"
    }
   ],
   "source": [
    "len(empty_fuel_car_idx)"
   ]
  },
  {
   "cell_type": "code",
   "execution_count": 42,
   "metadata": {},
   "outputs": [
    {
     "name": "stderr",
     "output_type": "stream",
     "text": [
      "100%|██████████| 257/257 [00:22<00:00, 11.51it/s]\n"
     ]
    }
   ],
   "source": [
    "for i in tqdm(empty_fuel_car_idx):\n",
    "    temp_car_name = total.loc[i, '차명']\n",
    "    if temp_car_name in corrected_fuel_dict.keys():\n",
    "        total.loc[i, '연료'] = corrected_fuel_dict[temp_car_name]"
   ]
  },
  {
   "cell_type": "code",
   "execution_count": 43,
   "metadata": {},
   "outputs": [
    {
     "data": {
      "text/plain": [
       "(0, 59)"
      ]
     },
     "execution_count": 43,
     "metadata": {},
     "output_type": "execute_result"
    }
   ],
   "source": [
    "total[total['연료'].isnull() == True].shape"
   ]
  },
  {
   "attachments": {},
   "cell_type": "markdown",
   "metadata": {},
   "source": [
    "## 기타 연료 확인"
   ]
  },
  {
   "cell_type": "code",
   "execution_count": 217,
   "metadata": {},
   "outputs": [
    {
     "data": {
      "text/plain": [
       "Index(['차량관리번호', '차량등록번호', '본거지법정동코드', '소유자구분', '차종_등록정보', '용도', '현재회원번호',\n",
       "       '차대번호', '최초등록일자', '차량연식', '차량제작일자', '배출가스검사유효일자', '제원관리번호', '배출가스인증번호',\n",
       "       '배출가스등급', '저공해조치YN(미사용)', '저공해조치종류', '저공해조치구조변경YN', '차량등록번호숫자정보',\n",
       "       '차량말소YN', '최초회원번호', '취득일자', '취득금액', '생성일시_등록정보', '수정일시_등록정보', '차명',\n",
       "       '차종_제원정보', '차종분류', '차종유형(소분류)', '자동차형식', '제작사명', '연료', '엔진형식', '공차중량',\n",
       "       '총중량', '적재중량', '엔진출력', '배기량', '승차인원', '차량길이', '차량너비', '차량높이', '원산지명',\n",
       "       '삭제YN', '승인일자', '구동형식', '변속기종류', '생성일시_제원정보', '수정일시_제원정보', '법정동코드',\n",
       "       '시도', '시구군', '읍면동', '리', '지역3', '폐지여부', '대기관리권역', '대기관리권역YN', '등급'],\n",
       "      dtype='object')"
      ]
     },
     "execution_count": 217,
     "metadata": {},
     "output_type": "execute_result"
    }
   ],
   "source": [
    "total.columns"
   ]
  },
  {
   "cell_type": "code",
   "execution_count": 218,
   "metadata": {},
   "outputs": [
    {
     "data": {
      "text/html": [
       "<div>\n",
       "<style scoped>\n",
       "    .dataframe tbody tr th:only-of-type {\n",
       "        vertical-align: middle;\n",
       "    }\n",
       "\n",
       "    .dataframe tbody tr th {\n",
       "        vertical-align: top;\n",
       "    }\n",
       "\n",
       "    .dataframe thead th {\n",
       "        text-align: right;\n",
       "    }\n",
       "</style>\n",
       "<table border=\"1\" class=\"dataframe\">\n",
       "  <thead>\n",
       "    <tr style=\"text-align: right;\">\n",
       "      <th></th>\n",
       "      <th>배출가스등급</th>\n",
       "      <th>차명</th>\n",
       "      <th>자동차형식</th>\n",
       "      <th>엔진형식</th>\n",
       "      <th>차량연식</th>\n",
       "      <th>연료</th>\n",
       "      <th>시도</th>\n",
       "      <th>시구군</th>\n",
       "      <th>읍면동</th>\n",
       "      <th>리</th>\n",
       "      <th>지역3</th>\n",
       "    </tr>\n",
       "  </thead>\n",
       "  <tbody>\n",
       "  </tbody>\n",
       "</table>\n",
       "</div>"
      ],
      "text/plain": [
       "Empty DataFrame\n",
       "Columns: [배출가스등급, 차명, 자동차형식, 엔진형식, 차량연식, 연료, 시도, 시구군, 읍면동, 리, 지역3]\n",
       "Index: []"
      ]
     },
     "execution_count": 218,
     "metadata": {},
     "output_type": "execute_result"
    }
   ],
   "source": [
    "total.loc[total['연료'] == '기타연료', ['배출가스등급', '차명', '자동차형식','엔진형식', '차량연식', '연료', '시도', '시구군', '읍면동', '리', '지역3']]"
   ]
  },
  {
   "cell_type": "code",
   "execution_count": 70,
   "metadata": {},
   "outputs": [],
   "source": [
    "total.loc[total['차명'] == '홍성캠핑트레일러', '연료'] = '무동력'\n",
    "total.loc[total['차명'] == '에어스트림탐지견수송트레일러', '연료'] = '무동력'\n",
    "total.loc[total['차명'] == '일산 육륜', '연료'] = '경유'"
   ]
  },
  {
   "cell_type": "code",
   "execution_count": 71,
   "metadata": {},
   "outputs": [
    {
     "data": {
      "text/plain": [
       "(0, 59)"
      ]
     },
     "execution_count": 71,
     "metadata": {},
     "output_type": "execute_result"
    }
   ],
   "source": [
    "total.loc[total['연료'] == '기타연료'].shape"
   ]
  },
  {
   "attachments": {},
   "cell_type": "markdown",
   "metadata": {},
   "source": [
    "## 본거지법정동코드 확인\n",
    "- 1대 : 정기, 정밀 검사 데이터(~22.06.30) 없음"
   ]
  },
  {
   "cell_type": "code",
   "execution_count": 219,
   "metadata": {},
   "outputs": [
    {
     "data": {
      "text/plain": [
       "array(['청주시 상당구', '천안시 동남구', '구로구', '군산시', '창원시 성산구'], dtype=object)"
      ]
     },
     "execution_count": 219,
     "metadata": {},
     "output_type": "execute_result"
    }
   ],
   "source": [
    "total['시구군'].unique()[:5]"
   ]
  },
  {
   "cell_type": "code",
   "execution_count": 220,
   "metadata": {},
   "outputs": [
    {
     "data": {
      "text/html": [
       "<div>\n",
       "<style scoped>\n",
       "    .dataframe tbody tr th:only-of-type {\n",
       "        vertical-align: middle;\n",
       "    }\n",
       "\n",
       "    .dataframe tbody tr th {\n",
       "        vertical-align: top;\n",
       "    }\n",
       "\n",
       "    .dataframe thead th {\n",
       "        text-align: right;\n",
       "    }\n",
       "</style>\n",
       "<table border=\"1\" class=\"dataframe\">\n",
       "  <thead>\n",
       "    <tr style=\"text-align: right;\">\n",
       "      <th></th>\n",
       "      <th>본거지법정동코드</th>\n",
       "      <th>시도</th>\n",
       "      <th>시구군</th>\n",
       "      <th>읍면동</th>\n",
       "      <th>리</th>\n",
       "      <th>지역3</th>\n",
       "      <th>차량말소YN</th>\n",
       "      <th>차량연식</th>\n",
       "      <th>배출가스등급</th>\n",
       "      <th>차대번호</th>\n",
       "      <th>폐지여부</th>\n",
       "      <th>대기관리권역</th>\n",
       "    </tr>\n",
       "  </thead>\n",
       "  <tbody>\n",
       "    <tr>\n",
       "      <th>24137513</th>\n",
       "      <td>4163055000</td>\n",
       "      <td>NaN</td>\n",
       "      <td>NaN</td>\n",
       "      <td>NaN</td>\n",
       "      <td>NaN</td>\n",
       "      <td>NaN</td>\n",
       "      <td>N</td>\n",
       "      <td>1992</td>\n",
       "      <td>4</td>\n",
       "      <td>KMHVE21NPNU122861</td>\n",
       "      <td>NaN</td>\n",
       "      <td>NaN</td>\n",
       "    </tr>\n",
       "    <tr>\n",
       "      <th>24922881</th>\n",
       "      <td>4165052000</td>\n",
       "      <td>NaN</td>\n",
       "      <td>NaN</td>\n",
       "      <td>NaN</td>\n",
       "      <td>NaN</td>\n",
       "      <td>NaN</td>\n",
       "      <td>N</td>\n",
       "      <td>2002</td>\n",
       "      <td>5</td>\n",
       "      <td>KMFGA17AP2C167888</td>\n",
       "      <td>NaN</td>\n",
       "      <td>NaN</td>\n",
       "    </tr>\n",
       "    <tr>\n",
       "      <th>25398594</th>\n",
       "      <td>4100000000</td>\n",
       "      <td>경기</td>\n",
       "      <td>NaN</td>\n",
       "      <td>NaN</td>\n",
       "      <td>NaN</td>\n",
       "      <td>NaN</td>\n",
       "      <td>N</td>\n",
       "      <td>1974</td>\n",
       "      <td>5</td>\n",
       "      <td>10742255732</td>\n",
       "      <td>존재</td>\n",
       "      <td>수도권</td>\n",
       "    </tr>\n",
       "  </tbody>\n",
       "</table>\n",
       "</div>"
      ],
      "text/plain": [
       "            본거지법정동코드   시도  시구군  읍면동    리  지역3 차량말소YN  차량연식 배출가스등급  \\\n",
       "24137513  4163055000  NaN  NaN  NaN  NaN  NaN      N  1992      4   \n",
       "24922881  4165052000  NaN  NaN  NaN  NaN  NaN      N  2002      5   \n",
       "25398594  4100000000   경기  NaN  NaN  NaN  NaN      N  1974      5   \n",
       "\n",
       "                       차대번호 폐지여부 대기관리권역  \n",
       "24137513  KMHVE21NPNU122861  NaN    NaN  \n",
       "24922881  KMFGA17AP2C167888  NaN    NaN  \n",
       "25398594        10742255732   존재    수도권  "
      ]
     },
     "execution_count": 220,
     "metadata": {},
     "output_type": "execute_result"
    }
   ],
   "source": [
    "total.loc[total['대기관리권역YN'].isnull() == True, ['본거지법정동코드', '시도', '시구군', '읍면동', '리', '지역3', '차량말소YN', '차량연식', '배출가스등급', '차대번호', '폐지여부', '대기관리권역']]"
   ]
  },
  {
   "cell_type": "code",
   "execution_count": 221,
   "metadata": {},
   "outputs": [],
   "source": [
    "total.loc[total['본거지법정동코드'] == 4163055000, ['시도', '시구군', '대기관리권역YN', '대기관리권역']] = ['경기', '양주시', 'Y', '수도권']\n",
    "total.loc[total['본거지법정동코드'] == 4165052000, ['시도', '시구군', '대기관리권역YN', '대기관리권역']] = ['경기', '포천시', 'Y', '수도권']\n",
    "total.loc[total['본거지법정동코드'] == 4100000000, ['시도', '대기관리권역YN']] = ['경기', 'Y']"
   ]
  },
  {
   "cell_type": "code",
   "execution_count": 222,
   "metadata": {},
   "outputs": [
    {
     "data": {
      "text/plain": [
       "(0, 59)"
      ]
     },
     "execution_count": 222,
     "metadata": {},
     "output_type": "execute_result"
    }
   ],
   "source": [
    "total.loc[total['대기관리권역YN'].isnull() == True].shape"
   ]
  },
  {
   "cell_type": "code",
   "execution_count": 246,
   "metadata": {},
   "outputs": [
    {
     "data": {
      "text/plain": [
       "(25404385, 59)"
      ]
     },
     "execution_count": 246,
     "metadata": {},
     "output_type": "execute_result"
    }
   ],
   "source": [
    "total.shape"
   ]
  },
  {
   "attachments": {},
   "cell_type": "markdown",
   "metadata": {},
   "source": [
    "# [출력] 등록&제원정보(연료수정)(등급컬럼추가)"
   ]
  },
  {
   "cell_type": "code",
   "execution_count": 247,
   "metadata": {},
   "outputs": [],
   "source": [
    "# about 11m 23s\n",
    "total.to_csv(os.path.join(ods_fold, '[ODS]등록정보&제원정보(연료수정)(등급컬럼추가)(2022.12.28).csv'), index=False)"
   ]
  },
  {
   "cell_type": "code",
   "execution_count": 248,
   "metadata": {},
   "outputs": [
    {
     "data": {
      "text/plain": [
       "((1511211, 59), (1154724, 59))"
      ]
     },
     "execution_count": 248,
     "metadata": {},
     "output_type": "execute_result"
    }
   ],
   "source": [
    "# about 6s\n",
    "g4 = total[total['등급'] == '4'].reset_index(drop=True)\n",
    "g5 = total[total['등급'] == '5'].reset_index(drop=True)\n",
    "g4.shape, g5.shape"
   ]
  },
  {
   "cell_type": "code",
   "execution_count": 249,
   "metadata": {},
   "outputs": [],
   "source": [
    "# about 1m 9s\n",
    "g4.to_csv(os.path.join(ods_fold, '[ODS][G4]등록정보&제원정보(연료수정)(등급컬럼추가)(2022.12.28).csv'), index=False)\n",
    "g5.to_csv(os.path.join(ods_fold, '[ODS][G5]등록정보&제원정보(연료수정)(등급컬럼추가)(2022.12.28).csv'), index=False)"
   ]
  },
  {
   "attachments": {},
   "cell_type": "markdown",
   "metadata": {},
   "source": [
    "# [로드] 등록&제원정보(연료수정)(등급컬럼추가)"
   ]
  },
  {
   "cell_type": "code",
   "execution_count": 24,
   "metadata": {},
   "outputs": [],
   "source": [
    "# about 7m 42s\n",
    "total = pd.read_csv(os.path.join(ods_fold, '[ODS]등록정보&제원정보(연료수정)(등급컬럼추가)(2022.12.28).csv'), low_memory=False)"
   ]
  },
  {
   "cell_type": "code",
   "execution_count": 4,
   "metadata": {},
   "outputs": [],
   "source": [
    "g5 = pd.read_csv(os.path.join(ods_fold, '[ODS][G5]등록정보&제원정보(연료수정)(등급컬럼추가)(2022.12.28).csv'), low_memory=False)"
   ]
  },
  {
   "attachments": {},
   "cell_type": "markdown",
   "metadata": {},
   "source": [
    "# 분석"
   ]
  },
  {
   "attachments": {},
   "cell_type": "markdown",
   "metadata": {},
   "source": [
    "##  연료별 통계"
   ]
  },
  {
   "cell_type": "code",
   "execution_count": 25,
   "metadata": {},
   "outputs": [
    {
     "data": {
      "text/plain": [
       "Index(['차량관리번호', '차량등록번호', '본거지법정동코드', '소유자구분', '차종_등록정보', '용도', '현재회원번호',\n",
       "       '차대번호', '최초등록일자', '차량연식', '차량제작일자', '배출가스검사유효일자', '제원관리번호', '배출가스인증번호',\n",
       "       '배출가스등급', '저공해조치YN(미사용)', '저공해조치종류', '저공해조치구조변경YN', '차량등록번호숫자정보',\n",
       "       '차량말소YN', '최초회원번호', '취득일자', '취득금액', '생성일시_등록정보', '수정일시_등록정보', '차명',\n",
       "       '차종_제원정보', '차종분류', '차종유형(소분류)', '자동차형식', '제작사명', '연료', '엔진형식', '공차중량',\n",
       "       '총중량', '적재중량', '엔진출력', '배기량', '승차인원', '차량길이', '차량너비', '차량높이', '원산지명',\n",
       "       '삭제YN', '승인일자', '구동형식', '변속기종류', '생성일시_제원정보', '수정일시_제원정보', '법정동코드',\n",
       "       '시도', '시구군', '읍면동', '리', '지역3', '폐지여부', '대기관리권역', '대기관리권역YN', '등급'],\n",
       "      dtype='object')"
      ]
     },
     "execution_count": 25,
     "metadata": {},
     "output_type": "execute_result"
    }
   ],
   "source": [
    "total.columns"
   ]
  },
  {
   "cell_type": "code",
   "execution_count": 26,
   "metadata": {},
   "outputs": [
    {
     "data": {
      "text/plain": [
       "연료           등급\n",
       "CNG 하이브리드    1         287\n",
       "             2          17\n",
       "CNG(압축천연가스)  2       24307\n",
       "             3        5998\n",
       "             4           1\n",
       "             5           5\n",
       "LNG(액화천연가스)  2          25\n",
       "LPG 하이브리드    1       14349\n",
       "             2           1\n",
       "LPG(액화석유가스)  1      461745\n",
       "             2     1171739\n",
       "             3      197701\n",
       "             4       24692\n",
       "             5         431\n",
       "경유           1        2865\n",
       "             2         485\n",
       "             3     7584349\n",
       "             4     1152694\n",
       "             5     1124189\n",
       "경유 하이브리드     3       34191\n",
       "무동력          3           1\n",
       "             4           1\n",
       "             5           5\n",
       "수소           1       28102\n",
       "알코올          4           1\n",
       "             5           1\n",
       "전기           1      366804\n",
       "휘발유          1      969107\n",
       "             2     9870738\n",
       "             3      937151\n",
       "             4      333822\n",
       "             5       30093\n",
       "휘발유 하이브리드    1      928121\n",
       "             2      140365\n",
       "             3           2\n",
       "Name: 차대번호, dtype: int64"
      ]
     },
     "execution_count": 26,
     "metadata": {},
     "output_type": "execute_result"
    }
   ],
   "source": [
    "total.groupby(['연료', '등급'], dropna=False)['차대번호'].count()"
   ]
  },
  {
   "cell_type": "code",
   "execution_count": 27,
   "metadata": {},
   "outputs": [
    {
     "data": {
      "text/plain": [
       "0"
      ]
     },
     "execution_count": 27,
     "metadata": {},
     "output_type": "execute_result"
    }
   ],
   "source": [
    "total['등급'].isnull().sum()"
   ]
  },
  {
   "cell_type": "code",
   "execution_count": 28,
   "metadata": {},
   "outputs": [
    {
     "data": {
      "text/html": [
       "<div>\n",
       "<style scoped>\n",
       "    .dataframe tbody tr th:only-of-type {\n",
       "        vertical-align: middle;\n",
       "    }\n",
       "\n",
       "    .dataframe tbody tr th {\n",
       "        vertical-align: top;\n",
       "    }\n",
       "\n",
       "    .dataframe thead th {\n",
       "        text-align: right;\n",
       "    }\n",
       "</style>\n",
       "<table border=\"1\" class=\"dataframe\">\n",
       "  <thead>\n",
       "    <tr style=\"text-align: right;\">\n",
       "      <th>등급</th>\n",
       "      <th>1</th>\n",
       "      <th>2</th>\n",
       "      <th>3</th>\n",
       "      <th>4</th>\n",
       "      <th>5</th>\n",
       "    </tr>\n",
       "    <tr>\n",
       "      <th>연료</th>\n",
       "      <th></th>\n",
       "      <th></th>\n",
       "      <th></th>\n",
       "      <th></th>\n",
       "      <th></th>\n",
       "    </tr>\n",
       "  </thead>\n",
       "  <tbody>\n",
       "    <tr>\n",
       "      <th>CNG 하이브리드</th>\n",
       "      <td>287.0</td>\n",
       "      <td>17.0</td>\n",
       "      <td>NaN</td>\n",
       "      <td>NaN</td>\n",
       "      <td>NaN</td>\n",
       "    </tr>\n",
       "    <tr>\n",
       "      <th>CNG(압축천연가스)</th>\n",
       "      <td>NaN</td>\n",
       "      <td>24307.0</td>\n",
       "      <td>5998.0</td>\n",
       "      <td>1.0</td>\n",
       "      <td>5.0</td>\n",
       "    </tr>\n",
       "    <tr>\n",
       "      <th>LNG(액화천연가스)</th>\n",
       "      <td>NaN</td>\n",
       "      <td>25.0</td>\n",
       "      <td>NaN</td>\n",
       "      <td>NaN</td>\n",
       "      <td>NaN</td>\n",
       "    </tr>\n",
       "    <tr>\n",
       "      <th>LPG 하이브리드</th>\n",
       "      <td>14349.0</td>\n",
       "      <td>1.0</td>\n",
       "      <td>NaN</td>\n",
       "      <td>NaN</td>\n",
       "      <td>NaN</td>\n",
       "    </tr>\n",
       "    <tr>\n",
       "      <th>LPG(액화석유가스)</th>\n",
       "      <td>461745.0</td>\n",
       "      <td>1171739.0</td>\n",
       "      <td>197701.0</td>\n",
       "      <td>24692.0</td>\n",
       "      <td>431.0</td>\n",
       "    </tr>\n",
       "    <tr>\n",
       "      <th>경유</th>\n",
       "      <td>2865.0</td>\n",
       "      <td>485.0</td>\n",
       "      <td>7584349.0</td>\n",
       "      <td>1152694.0</td>\n",
       "      <td>1124189.0</td>\n",
       "    </tr>\n",
       "    <tr>\n",
       "      <th>경유 하이브리드</th>\n",
       "      <td>NaN</td>\n",
       "      <td>NaN</td>\n",
       "      <td>34191.0</td>\n",
       "      <td>NaN</td>\n",
       "      <td>NaN</td>\n",
       "    </tr>\n",
       "    <tr>\n",
       "      <th>무동력</th>\n",
       "      <td>NaN</td>\n",
       "      <td>NaN</td>\n",
       "      <td>1.0</td>\n",
       "      <td>1.0</td>\n",
       "      <td>5.0</td>\n",
       "    </tr>\n",
       "    <tr>\n",
       "      <th>수소</th>\n",
       "      <td>28102.0</td>\n",
       "      <td>NaN</td>\n",
       "      <td>NaN</td>\n",
       "      <td>NaN</td>\n",
       "      <td>NaN</td>\n",
       "    </tr>\n",
       "    <tr>\n",
       "      <th>알코올</th>\n",
       "      <td>NaN</td>\n",
       "      <td>NaN</td>\n",
       "      <td>NaN</td>\n",
       "      <td>1.0</td>\n",
       "      <td>1.0</td>\n",
       "    </tr>\n",
       "    <tr>\n",
       "      <th>전기</th>\n",
       "      <td>366804.0</td>\n",
       "      <td>NaN</td>\n",
       "      <td>NaN</td>\n",
       "      <td>NaN</td>\n",
       "      <td>NaN</td>\n",
       "    </tr>\n",
       "    <tr>\n",
       "      <th>휘발유</th>\n",
       "      <td>969107.0</td>\n",
       "      <td>9870738.0</td>\n",
       "      <td>937151.0</td>\n",
       "      <td>333822.0</td>\n",
       "      <td>30093.0</td>\n",
       "    </tr>\n",
       "    <tr>\n",
       "      <th>휘발유 하이브리드</th>\n",
       "      <td>928121.0</td>\n",
       "      <td>140365.0</td>\n",
       "      <td>2.0</td>\n",
       "      <td>NaN</td>\n",
       "      <td>NaN</td>\n",
       "    </tr>\n",
       "  </tbody>\n",
       "</table>\n",
       "</div>"
      ],
      "text/plain": [
       "등급                  1          2          3          4          5\n",
       "연료                                                               \n",
       "CNG 하이브리드       287.0       17.0        NaN        NaN        NaN\n",
       "CNG(압축천연가스)       NaN    24307.0     5998.0        1.0        5.0\n",
       "LNG(액화천연가스)       NaN       25.0        NaN        NaN        NaN\n",
       "LPG 하이브리드     14349.0        1.0        NaN        NaN        NaN\n",
       "LPG(액화석유가스)  461745.0  1171739.0   197701.0    24692.0      431.0\n",
       "경유             2865.0      485.0  7584349.0  1152694.0  1124189.0\n",
       "경유 하이브리드          NaN        NaN    34191.0        NaN        NaN\n",
       "무동력               NaN        NaN        1.0        1.0        5.0\n",
       "수소            28102.0        NaN        NaN        NaN        NaN\n",
       "알코올               NaN        NaN        NaN        1.0        1.0\n",
       "전기           366804.0        NaN        NaN        NaN        NaN\n",
       "휘발유          969107.0  9870738.0   937151.0   333822.0    30093.0\n",
       "휘발유 하이브리드    928121.0   140365.0        2.0        NaN        NaN"
      ]
     },
     "execution_count": 28,
     "metadata": {},
     "output_type": "execute_result"
    }
   ],
   "source": [
    "total.groupby(['연료', '등급'], dropna=False)['차대번호'].count().unstack()"
   ]
  },
  {
   "attachments": {},
   "cell_type": "markdown",
   "metadata": {},
   "source": [
    "## 5등급 경유 대기관리권역별 통계"
   ]
  },
  {
   "cell_type": "code",
   "execution_count": 227,
   "metadata": {},
   "outputs": [
    {
     "data": {
      "text/plain": [
       "(1154724, 59)"
      ]
     },
     "execution_count": 227,
     "metadata": {},
     "output_type": "execute_result"
    }
   ],
   "source": [
    "g5 = total[total['등급'] == '5'].reset_index(drop=True)\n",
    "g5.shape"
   ]
  },
  {
   "attachments": {},
   "cell_type": "markdown",
   "metadata": {},
   "source": [
    "### 5등급 경유차만 추출"
   ]
  },
  {
   "cell_type": "code",
   "execution_count": 6,
   "metadata": {},
   "outputs": [
    {
     "data": {
      "text/plain": [
       "(1124189, 59)"
      ]
     },
     "execution_count": 6,
     "metadata": {},
     "output_type": "execute_result"
    }
   ],
   "source": [
    "g5_diesel = g5[g5['연료'] == '경유'].reset_index(drop=True)\n",
    "g5_diesel.shape"
   ]
  },
  {
   "cell_type": "code",
   "execution_count": 7,
   "metadata": {},
   "outputs": [
    {
     "data": {
      "text/plain": [
       "대기관리권역  시도\n",
       "그 외     강원     47920\n",
       "        제주     24541\n",
       "남부권     광주     25657\n",
       "        전남     76689\n",
       "동남권     경남    103736\n",
       "        경북    121048\n",
       "        대구     48997\n",
       "        부산     65654\n",
       "        울산     25880\n",
       "수도권     경기    222434\n",
       "        서울    116755\n",
       "        인천     53407\n",
       "중부권     대전     25750\n",
       "        세종      4272\n",
       "        전북     57593\n",
       "        충남     61964\n",
       "        충북     41892\n",
       "Name: 차대번호, dtype: int64"
      ]
     },
     "execution_count": 7,
     "metadata": {},
     "output_type": "execute_result"
    }
   ],
   "source": [
    "g5_diesel.groupby(['대기관리권역', '시도'], dropna=False)['차대번호'].count()"
   ]
  },
  {
   "cell_type": "code",
   "execution_count": 8,
   "metadata": {},
   "outputs": [
    {
     "data": {
      "text/plain": [
       "0"
      ]
     },
     "execution_count": 8,
     "metadata": {},
     "output_type": "execute_result"
    }
   ],
   "source": [
    "g5_diesel['시도'].isnull().sum()"
   ]
  },
  {
   "cell_type": "code",
   "execution_count": 9,
   "metadata": {},
   "outputs": [
    {
     "data": {
      "text/plain": [
       "수도권    392596\n",
       "동남권    365315\n",
       "중부권    191471\n",
       "남부권    102346\n",
       "그 외     72461\n",
       "Name: 대기관리권역, dtype: int64"
      ]
     },
     "execution_count": 9,
     "metadata": {},
     "output_type": "execute_result"
    }
   ],
   "source": [
    "g5_diesel['대기관리권역'].value_counts(dropna=False)"
   ]
  },
  {
   "cell_type": "code",
   "execution_count": 10,
   "metadata": {},
   "outputs": [
    {
     "data": {
      "text/plain": [
       "Y    843858\n",
       "N    280331\n",
       "Name: 대기관리권역YN, dtype: int64"
      ]
     },
     "execution_count": 10,
     "metadata": {},
     "output_type": "execute_result"
    }
   ],
   "source": [
    "g5_diesel['대기관리권역YN'].value_counts(dropna=False)"
   ]
  },
  {
   "cell_type": "code",
   "execution_count": 11,
   "metadata": {},
   "outputs": [
    {
     "data": {
      "text/plain": [
       "Index(['차량관리번호', '차량등록번호', '본거지법정동코드', '소유자구분', '차종_등록정보', '용도', '현재회원번호',\n",
       "       '차대번호', '최초등록일자', '차량연식', '차량제작일자', '배출가스검사유효일자', '제원관리번호', '배출가스인증번호',\n",
       "       '배출가스등급', '저공해조치YN(미사용)', '저공해조치종류', '저공해조치구조변경YN', '차량등록번호숫자정보',\n",
       "       '차량말소YN', '최초회원번호', '취득일자', '취득금액', '생성일시_등록정보', '수정일시_등록정보', '차명',\n",
       "       '차종_제원정보', '차종분류', '차종유형(소분류)', '자동차형식', '제작사명', '연료', '엔진형식', '공차중량',\n",
       "       '총중량', '적재중량', '엔진출력', '배기량', '승차인원', '차량길이', '차량너비', '차량높이', '원산지명',\n",
       "       '삭제YN', '승인일자', '구동형식', '변속기종류', '생성일시_제원정보', '수정일시_제원정보', '법정동코드',\n",
       "       '시도', '시구군', '읍면동', '리', '지역3', '폐지여부', '대기관리권역', '대기관리권역YN', '등급'],\n",
       "      dtype='object')"
      ]
     },
     "execution_count": 11,
     "metadata": {},
     "output_type": "execute_result"
    }
   ],
   "source": [
    "g5_diesel.columns"
   ]
  },
  {
   "cell_type": "code",
   "execution_count": 13,
   "metadata": {},
   "outputs": [
    {
     "data": {
      "text/plain": [
       "(843858, 59)"
      ]
     },
     "execution_count": 13,
     "metadata": {},
     "output_type": "execute_result"
    }
   ],
   "source": [
    "g5_y = g5_diesel[g5_diesel['대기관리권역YN'] == 'Y']\n",
    "g5_y.shape"
   ]
  },
  {
   "cell_type": "code",
   "execution_count": 14,
   "metadata": {},
   "outputs": [
    {
     "data": {
      "text/plain": [
       "(280331, 59)"
      ]
     },
     "execution_count": 14,
     "metadata": {},
     "output_type": "execute_result"
    }
   ],
   "source": [
    "g5_n = g5_diesel[g5_diesel['대기관리권역YN'] == 'N']\n",
    "g5_n.shape"
   ]
  },
  {
   "cell_type": "code",
   "execution_count": 15,
   "metadata": {},
   "outputs": [
    {
     "data": {
      "text/plain": [
       "대기관리권역  시도\n",
       "남부권     광주     25657\n",
       "        전남     32613\n",
       "동남권     경남     60763\n",
       "        경북     55056\n",
       "        대구     48997\n",
       "        부산     65654\n",
       "        울산     25880\n",
       "수도권     경기    213339\n",
       "        서울    116755\n",
       "        인천     52217\n",
       "중부권     대전     25750\n",
       "        세종      4272\n",
       "        전북     26201\n",
       "        충남     59159\n",
       "        충북     31545\n",
       "Name: 차대번호, dtype: int64"
      ]
     },
     "execution_count": 15,
     "metadata": {},
     "output_type": "execute_result"
    }
   ],
   "source": [
    "g5_y.groupby(['대기관리권역', '시도'], dropna=False)['차대번호'].count()"
   ]
  },
  {
   "cell_type": "code",
   "execution_count": 16,
   "metadata": {},
   "outputs": [
    {
     "data": {
      "text/plain": [
       "대기관리권역  시도\n",
       "그 외     강원    47920\n",
       "        제주    24541\n",
       "남부권     전남    44076\n",
       "동남권     경남    42973\n",
       "        경북    65992\n",
       "수도권     경기     9095\n",
       "        인천     1190\n",
       "중부권     전북    31392\n",
       "        충남     2805\n",
       "        충북    10347\n",
       "Name: 차대번호, dtype: int64"
      ]
     },
     "execution_count": 16,
     "metadata": {},
     "output_type": "execute_result"
    }
   ],
   "source": [
    "g5_n.groupby(['대기관리권역', '시도'], dropna=False)['차대번호'].count()"
   ]
  },
  {
   "attachments": {},
   "cell_type": "markdown",
   "metadata": {},
   "source": [
    "### [출력] 연료별 통계, 5등급 대기관리권역별 통계"
   ]
  },
  {
   "cell_type": "code",
   "execution_count": 35,
   "metadata": {},
   "outputs": [
    {
     "data": {
      "text/plain": [
       "'2023.02.AM_08_26_54'"
      ]
     },
     "execution_count": 35,
     "metadata": {},
     "output_type": "execute_result"
    }
   ],
   "source": [
    "today_date = datetime.today().strftime(\"%Y.%m.%p_%H_%M_%S\")\n",
    "today_date"
   ]
  },
  {
   "cell_type": "code",
   "execution_count": 36,
   "metadata": {},
   "outputs": [],
   "source": [
    "with pd.ExcelWriter(f'analysis/통계_연료별_5등급대기관리권역별{today_date}.xlsx') as writer:\n",
    "    total.groupby(['연료', '등급'], dropna=False)['차대번호'].count().unstack().to_excel(writer, sheet_name='연료별')\n",
    "    g5_y.groupby(['대기관리권역', '시도'], dropna=False)['차대번호'].count().to_excel(writer, sheet_name='대기관리권역별_y')\n",
    "    g5_n.groupby(['대기관리권역', '시도'], dropna=False)['차대번호'].count().to_excel(writer, sheet_name='대기관리권역별_n')"
   ]
  },
  {
   "attachments": {},
   "cell_type": "markdown",
   "metadata": {},
   "source": [
    "## 4, 5등급 검사 기록없는 차량 수"
   ]
  },
  {
   "attachments": {},
   "cell_type": "markdown",
   "metadata": {},
   "source": [
    "## [로드] 정기&정밀검사"
   ]
  },
  {
   "cell_type": "code",
   "execution_count": 244,
   "metadata": {},
   "outputs": [
    {
     "ename": "MemoryError",
     "evalue": "Unable to allocate 168. MiB for an array with shape (22044208,) and data type int64",
     "output_type": "error",
     "traceback": [
      "\u001b[1;31m---------------------------------------------------------------------------\u001b[0m",
      "\u001b[1;31mMemoryError\u001b[0m                               Traceback (most recent call last)",
      "\u001b[1;32m~\\AppData\\Local\\Temp\\ipykernel_17832\\1968625025.py\u001b[0m in \u001b[0;36m<module>\u001b[1;34m\u001b[0m\n\u001b[0;32m      1\u001b[0m \u001b[1;31m# about 4m 21s\u001b[0m\u001b[1;33m\u001b[0m\u001b[1;33m\u001b[0m\u001b[0m\n\u001b[0;32m      2\u001b[0m \u001b[0mfile_name\u001b[0m \u001b[1;33m=\u001b[0m \u001b[1;34m'[ODS]정기&정밀검사(최신검사만)(2022.12.28).csv'\u001b[0m\u001b[1;33m\u001b[0m\u001b[1;33m\u001b[0m\u001b[0m\n\u001b[1;32m----> 3\u001b[1;33m \u001b[0mtin\u001b[0m \u001b[1;33m=\u001b[0m \u001b[0mpd\u001b[0m\u001b[1;33m.\u001b[0m\u001b[0mread_csv\u001b[0m\u001b[1;33m(\u001b[0m\u001b[0mos\u001b[0m\u001b[1;33m.\u001b[0m\u001b[0mpath\u001b[0m\u001b[1;33m.\u001b[0m\u001b[0mjoin\u001b[0m\u001b[1;33m(\u001b[0m\u001b[0mods_fold\u001b[0m\u001b[1;33m,\u001b[0m \u001b[0mfile_name\u001b[0m\u001b[1;33m)\u001b[0m\u001b[1;33m,\u001b[0m \u001b[0mlow_memory\u001b[0m\u001b[1;33m=\u001b[0m\u001b[1;32mFalse\u001b[0m\u001b[1;33m)\u001b[0m\u001b[1;33m\u001b[0m\u001b[1;33m\u001b[0m\u001b[0m\n\u001b[0m\u001b[0;32m      4\u001b[0m \u001b[0mtin\u001b[0m\u001b[1;33m.\u001b[0m\u001b[0minfo\u001b[0m\u001b[1;33m(\u001b[0m\u001b[1;33m)\u001b[0m\u001b[1;33m\u001b[0m\u001b[1;33m\u001b[0m\u001b[0m\n",
      "\u001b[1;32m~\\AppData\\Roaming\\Python\\Python39\\site-packages\\pandas\\util\\_decorators.py\u001b[0m in \u001b[0;36mwrapper\u001b[1;34m(*args, **kwargs)\u001b[0m\n\u001b[0;32m    209\u001b[0m                 \u001b[1;32melse\u001b[0m\u001b[1;33m:\u001b[0m\u001b[1;33m\u001b[0m\u001b[1;33m\u001b[0m\u001b[0m\n\u001b[0;32m    210\u001b[0m                     \u001b[0mkwargs\u001b[0m\u001b[1;33m[\u001b[0m\u001b[0mnew_arg_name\u001b[0m\u001b[1;33m]\u001b[0m \u001b[1;33m=\u001b[0m \u001b[0mnew_arg_value\u001b[0m\u001b[1;33m\u001b[0m\u001b[1;33m\u001b[0m\u001b[0m\n\u001b[1;32m--> 211\u001b[1;33m             \u001b[1;32mreturn\u001b[0m \u001b[0mfunc\u001b[0m\u001b[1;33m(\u001b[0m\u001b[1;33m*\u001b[0m\u001b[0margs\u001b[0m\u001b[1;33m,\u001b[0m \u001b[1;33m**\u001b[0m\u001b[0mkwargs\u001b[0m\u001b[1;33m)\u001b[0m\u001b[1;33m\u001b[0m\u001b[1;33m\u001b[0m\u001b[0m\n\u001b[0m\u001b[0;32m    212\u001b[0m \u001b[1;33m\u001b[0m\u001b[0m\n\u001b[0;32m    213\u001b[0m         \u001b[1;32mreturn\u001b[0m \u001b[0mcast\u001b[0m\u001b[1;33m(\u001b[0m\u001b[0mF\u001b[0m\u001b[1;33m,\u001b[0m \u001b[0mwrapper\u001b[0m\u001b[1;33m)\u001b[0m\u001b[1;33m\u001b[0m\u001b[1;33m\u001b[0m\u001b[0m\n",
      "\u001b[1;32m~\\AppData\\Roaming\\Python\\Python39\\site-packages\\pandas\\util\\_decorators.py\u001b[0m in \u001b[0;36mwrapper\u001b[1;34m(*args, **kwargs)\u001b[0m\n\u001b[0;32m    329\u001b[0m                     \u001b[0mstacklevel\u001b[0m\u001b[1;33m=\u001b[0m\u001b[0mfind_stack_level\u001b[0m\u001b[1;33m(\u001b[0m\u001b[1;33m)\u001b[0m\u001b[1;33m,\u001b[0m\u001b[1;33m\u001b[0m\u001b[1;33m\u001b[0m\u001b[0m\n\u001b[0;32m    330\u001b[0m                 )\n\u001b[1;32m--> 331\u001b[1;33m             \u001b[1;32mreturn\u001b[0m \u001b[0mfunc\u001b[0m\u001b[1;33m(\u001b[0m\u001b[1;33m*\u001b[0m\u001b[0margs\u001b[0m\u001b[1;33m,\u001b[0m \u001b[1;33m**\u001b[0m\u001b[0mkwargs\u001b[0m\u001b[1;33m)\u001b[0m\u001b[1;33m\u001b[0m\u001b[1;33m\u001b[0m\u001b[0m\n\u001b[0m\u001b[0;32m    332\u001b[0m \u001b[1;33m\u001b[0m\u001b[0m\n\u001b[0;32m    333\u001b[0m         \u001b[1;31m# error: \"Callable[[VarArg(Any), KwArg(Any)], Any]\" has no\u001b[0m\u001b[1;33m\u001b[0m\u001b[1;33m\u001b[0m\u001b[0m\n",
      "\u001b[1;32m~\\AppData\\Roaming\\Python\\Python39\\site-packages\\pandas\\io\\parsers\\readers.py\u001b[0m in \u001b[0;36mread_csv\u001b[1;34m(filepath_or_buffer, sep, delimiter, header, names, index_col, usecols, squeeze, prefix, mangle_dupe_cols, dtype, engine, converters, true_values, false_values, skipinitialspace, skiprows, skipfooter, nrows, na_values, keep_default_na, na_filter, verbose, skip_blank_lines, parse_dates, infer_datetime_format, keep_date_col, date_parser, dayfirst, cache_dates, iterator, chunksize, compression, thousands, decimal, lineterminator, quotechar, quoting, doublequote, escapechar, comment, encoding, encoding_errors, dialect, error_bad_lines, warn_bad_lines, on_bad_lines, delim_whitespace, low_memory, memory_map, float_precision, storage_options)\u001b[0m\n\u001b[0;32m    948\u001b[0m     \u001b[0mkwds\u001b[0m\u001b[1;33m.\u001b[0m\u001b[0mupdate\u001b[0m\u001b[1;33m(\u001b[0m\u001b[0mkwds_defaults\u001b[0m\u001b[1;33m)\u001b[0m\u001b[1;33m\u001b[0m\u001b[1;33m\u001b[0m\u001b[0m\n\u001b[0;32m    949\u001b[0m \u001b[1;33m\u001b[0m\u001b[0m\n\u001b[1;32m--> 950\u001b[1;33m     \u001b[1;32mreturn\u001b[0m \u001b[0m_read\u001b[0m\u001b[1;33m(\u001b[0m\u001b[0mfilepath_or_buffer\u001b[0m\u001b[1;33m,\u001b[0m \u001b[0mkwds\u001b[0m\u001b[1;33m)\u001b[0m\u001b[1;33m\u001b[0m\u001b[1;33m\u001b[0m\u001b[0m\n\u001b[0m\u001b[0;32m    951\u001b[0m \u001b[1;33m\u001b[0m\u001b[0m\n\u001b[0;32m    952\u001b[0m \u001b[1;33m\u001b[0m\u001b[0m\n",
      "\u001b[1;32m~\\AppData\\Roaming\\Python\\Python39\\site-packages\\pandas\\io\\parsers\\readers.py\u001b[0m in \u001b[0;36m_read\u001b[1;34m(filepath_or_buffer, kwds)\u001b[0m\n\u001b[0;32m    609\u001b[0m \u001b[1;33m\u001b[0m\u001b[0m\n\u001b[0;32m    610\u001b[0m     \u001b[1;32mwith\u001b[0m \u001b[0mparser\u001b[0m\u001b[1;33m:\u001b[0m\u001b[1;33m\u001b[0m\u001b[1;33m\u001b[0m\u001b[0m\n\u001b[1;32m--> 611\u001b[1;33m         \u001b[1;32mreturn\u001b[0m \u001b[0mparser\u001b[0m\u001b[1;33m.\u001b[0m\u001b[0mread\u001b[0m\u001b[1;33m(\u001b[0m\u001b[0mnrows\u001b[0m\u001b[1;33m)\u001b[0m\u001b[1;33m\u001b[0m\u001b[1;33m\u001b[0m\u001b[0m\n\u001b[0m\u001b[0;32m    612\u001b[0m \u001b[1;33m\u001b[0m\u001b[0m\n\u001b[0;32m    613\u001b[0m \u001b[1;33m\u001b[0m\u001b[0m\n",
      "\u001b[1;32m~\\AppData\\Roaming\\Python\\Python39\\site-packages\\pandas\\io\\parsers\\readers.py\u001b[0m in \u001b[0;36mread\u001b[1;34m(self, nrows)\u001b[0m\n\u001b[0;32m   1776\u001b[0m                     \u001b[0mcolumns\u001b[0m\u001b[1;33m,\u001b[0m\u001b[1;33m\u001b[0m\u001b[1;33m\u001b[0m\u001b[0m\n\u001b[0;32m   1777\u001b[0m                     \u001b[0mcol_dict\u001b[0m\u001b[1;33m,\u001b[0m\u001b[1;33m\u001b[0m\u001b[1;33m\u001b[0m\u001b[0m\n\u001b[1;32m-> 1778\u001b[1;33m                 \u001b[1;33m)\u001b[0m \u001b[1;33m=\u001b[0m \u001b[0mself\u001b[0m\u001b[1;33m.\u001b[0m\u001b[0m_engine\u001b[0m\u001b[1;33m.\u001b[0m\u001b[0mread\u001b[0m\u001b[1;33m(\u001b[0m  \u001b[1;31m# type: ignore[attr-defined]\u001b[0m\u001b[1;33m\u001b[0m\u001b[1;33m\u001b[0m\u001b[0m\n\u001b[0m\u001b[0;32m   1779\u001b[0m                     \u001b[0mnrows\u001b[0m\u001b[1;33m\u001b[0m\u001b[1;33m\u001b[0m\u001b[0m\n\u001b[0;32m   1780\u001b[0m                 )\n",
      "\u001b[1;32m~\\AppData\\Roaming\\Python\\Python39\\site-packages\\pandas\\io\\parsers\\c_parser_wrapper.py\u001b[0m in \u001b[0;36mread\u001b[1;34m(self, nrows)\u001b[0m\n\u001b[0;32m    233\u001b[0m \u001b[1;33m\u001b[0m\u001b[0m\n\u001b[0;32m    234\u001b[0m             \u001b[1;32melse\u001b[0m\u001b[1;33m:\u001b[0m\u001b[1;33m\u001b[0m\u001b[1;33m\u001b[0m\u001b[0m\n\u001b[1;32m--> 235\u001b[1;33m                 \u001b[0mdata\u001b[0m \u001b[1;33m=\u001b[0m \u001b[0mself\u001b[0m\u001b[1;33m.\u001b[0m\u001b[0m_reader\u001b[0m\u001b[1;33m.\u001b[0m\u001b[0mread\u001b[0m\u001b[1;33m(\u001b[0m\u001b[0mnrows\u001b[0m\u001b[1;33m)\u001b[0m\u001b[1;33m\u001b[0m\u001b[1;33m\u001b[0m\u001b[0m\n\u001b[0m\u001b[0;32m    236\u001b[0m         \u001b[1;32mexcept\u001b[0m \u001b[0mStopIteration\u001b[0m\u001b[1;33m:\u001b[0m\u001b[1;33m\u001b[0m\u001b[1;33m\u001b[0m\u001b[0m\n\u001b[0;32m    237\u001b[0m             \u001b[1;32mif\u001b[0m \u001b[0mself\u001b[0m\u001b[1;33m.\u001b[0m\u001b[0m_first_chunk\u001b[0m\u001b[1;33m:\u001b[0m\u001b[1;33m\u001b[0m\u001b[1;33m\u001b[0m\u001b[0m\n",
      "\u001b[1;32m~\\AppData\\Roaming\\Python\\Python39\\site-packages\\pandas\\_libs\\parsers.pyx\u001b[0m in \u001b[0;36mpandas._libs.parsers.TextReader.read\u001b[1;34m()\u001b[0m\n",
      "\u001b[1;32m~\\AppData\\Roaming\\Python\\Python39\\site-packages\\pandas\\_libs\\parsers.pyx\u001b[0m in \u001b[0;36mpandas._libs.parsers.TextReader._read_rows\u001b[1;34m()\u001b[0m\n",
      "\u001b[1;32m~\\AppData\\Roaming\\Python\\Python39\\site-packages\\pandas\\_libs\\parsers.pyx\u001b[0m in \u001b[0;36mpandas._libs.parsers.TextReader._convert_column_data\u001b[1;34m()\u001b[0m\n",
      "\u001b[1;32m~\\AppData\\Roaming\\Python\\Python39\\site-packages\\pandas\\_libs\\parsers.pyx\u001b[0m in \u001b[0;36mpandas._libs.parsers.TextReader._convert_tokens\u001b[1;34m()\u001b[0m\n",
      "\u001b[1;32m~\\AppData\\Roaming\\Python\\Python39\\site-packages\\pandas\\_libs\\parsers.pyx\u001b[0m in \u001b[0;36mpandas._libs.parsers.TextReader._convert_with_dtype\u001b[1;34m()\u001b[0m\n",
      "\u001b[1;32m~\\AppData\\Roaming\\Python\\Python39\\site-packages\\pandas\\_libs\\parsers.pyx\u001b[0m in \u001b[0;36mpandas._libs.parsers._try_int64\u001b[1;34m()\u001b[0m\n",
      "\u001b[1;31mMemoryError\u001b[0m: Unable to allocate 168. MiB for an array with shape (22044208,) and data type int64"
     ]
    }
   ],
   "source": [
    "# about 4m 21s\n",
    "file_name = '[ODS]정기&정밀검사(최신검사만)(2022.12.28).csv'\n",
    "tin = pd.read_csv(os.path.join(ods_fold, file_name), low_memory=False)\n",
    "tin.info()"
   ]
  },
  {
   "cell_type": "code",
   "execution_count": null,
   "metadata": {},
   "outputs": [
    {
     "data": {
      "text/plain": [
       "Index(['사용연료', '주행거리', '차명', '차량번호', '차대번호', '차종', '차량연식', '엔진형식', '검사방법',\n",
       "       '검사일자', '검사종류', '검사판정시각', '검사판정', '산소값', '이산화탄소값', '무부하매연판정1',\n",
       "       '무부하매연판정2', '무부하매연판정3', '무부하매연판정4', '무부하매연판정5', '무부하매연판정6', '무부하매연허용치1',\n",
       "       '무부하매연허용치2', '무부하매연허용치3', '무부하매연허용치4', '무부하매연허용치5', '무부하매연허용치6',\n",
       "       '무부하매연측정치1', '무부하매연측정치2', '무부하매연측정치3', '무부하매연측정치4', '무부하매연측정치5',\n",
       "       '무부하매연측정치6', '차량용도', '최대출력허용치', '최대출력측정값', '검사접수번호', '검사소명', '재검사기간',\n",
       "       '정기정밀', '검사 검사소코드', '검사유효기간'],\n",
       "      dtype='object')"
      ]
     },
     "metadata": {},
     "output_type": "display_data"
    }
   ],
   "source": [
    "tin.columns"
   ]
  },
  {
   "cell_type": "markdown",
   "metadata": {},
   "source": [
    "## 최근 3년 검사 데이터 추출"
   ]
  },
  {
   "cell_type": "code",
   "execution_count": null,
   "metadata": {},
   "outputs": [
    {
     "data": {
      "text/plain": [
       "count   22044208.00\n",
       "mean    20213557.70\n",
       "std         8679.78\n",
       "min     20190102.00\n",
       "25%     20210427.00\n",
       "50%     20211222.00\n",
       "75%     20220614.00\n",
       "max     20230107.00\n",
       "Name: 검사일자, dtype: float64"
      ]
     },
     "metadata": {},
     "output_type": "display_data"
    }
   ],
   "source": [
    "tin['검사일자'].describe()"
   ]
  },
  {
   "cell_type": "code",
   "execution_count": null,
   "metadata": {},
   "outputs": [
    {
     "data": {
      "text/plain": [
       "(20547872, 42)"
      ]
     },
     "metadata": {},
     "output_type": "display_data"
    }
   ],
   "source": [
    "tin1 = tin[(tin['검사일자'] >= 20200101) & (tin['검사일자'] <= 20221231)]\n",
    "tin1.shape"
   ]
  },
  {
   "cell_type": "code",
   "execution_count": null,
   "metadata": {},
   "outputs": [
    {
     "data": {
      "text/plain": [
       "count   20547872.00\n",
       "mean    20214858.24\n",
       "std         6580.17\n",
       "min     20200102.00\n",
       "25%     20210611.00\n",
       "50%     20220113.00\n",
       "75%     20220620.00\n",
       "max     20221231.00\n",
       "Name: 검사일자, dtype: float64"
      ]
     },
     "metadata": {},
     "output_type": "display_data"
    }
   ],
   "source": [
    "tin1['검사일자'].describe()"
   ]
  },
  {
   "cell_type": "code",
   "execution_count": null,
   "metadata": {},
   "outputs": [],
   "source": [
    "g4 = total[total['등급'] == '4'].reset_index(drop=True)\n",
    "g4.shape"
   ]
  },
  {
   "cell_type": "code",
   "execution_count": null,
   "metadata": {},
   "outputs": [],
   "source": [
    "g5.shape"
   ]
  },
  {
   "cell_type": "code",
   "execution_count": null,
   "metadata": {},
   "outputs": [
    {
     "data": {
      "text/plain": [
       "경유             1152697\n",
       "휘발유             332313\n",
       "LPG(액화석유가스)      26089\n",
       "NaN                 71\n",
       "기타연료                39\n",
       "CNG(압축천연가스)          1\n",
       "알코올                  1\n",
       "Name: 연료, dtype: int64"
      ]
     },
     "metadata": {},
     "output_type": "display_data"
    }
   ],
   "source": [
    "g4['연료'].value_counts(dropna=False)"
   ]
  },
  {
   "cell_type": "code",
   "execution_count": null,
   "metadata": {},
   "outputs": [
    {
     "data": {
      "text/plain": [
       "경유             1124188\n",
       "휘발유              30040\n",
       "LPG(액화석유가스)        436\n",
       "NaN                 29\n",
       "기타연료                25\n",
       "CNG(압축천연가스)          5\n",
       "알코올                  1\n",
       "Name: 연료, dtype: int64"
      ]
     },
     "metadata": {},
     "output_type": "display_data"
    }
   ],
   "source": [
    "g5['연료'].value_counts(dropna=False)"
   ]
  },
  {
   "cell_type": "code",
   "execution_count": null,
   "metadata": {},
   "outputs": [
    {
     "data": {
      "text/plain": [
       "(1511251, 49)"
      ]
     },
     "metadata": {},
     "output_type": "display_data"
    }
   ],
   "source": [
    "g4.shape"
   ]
  },
  {
   "cell_type": "code",
   "execution_count": null,
   "metadata": {},
   "outputs": [
    {
     "data": {
      "text/plain": [
       "(1511211, 49)"
      ]
     },
     "metadata": {},
     "output_type": "display_data"
    }
   ],
   "source": [
    "g4 = g4.sort_values(['최초등록일자', '배출가스검사유효일자'], ascending=[False, False]).drop_duplicates('차대번호').reset_index(drop=True)\n",
    "g4.shape"
   ]
  },
  {
   "cell_type": "code",
   "execution_count": null,
   "metadata": {},
   "outputs": [
    {
     "data": {
      "text/plain": [
       "(1154762, 49)"
      ]
     },
     "metadata": {},
     "output_type": "display_data"
    }
   ],
   "source": [
    "g5.shape"
   ]
  },
  {
   "cell_type": "code",
   "execution_count": null,
   "metadata": {},
   "outputs": [
    {
     "data": {
      "text/plain": [
       "(1154724, 49)"
      ]
     },
     "metadata": {},
     "output_type": "display_data"
    }
   ],
   "source": [
    "g5 = g5.sort_values(['최초등록일자', '배출가스검사유효일자'], ascending=[False, False]).drop_duplicates('차대번호').reset_index(drop=True)\n",
    "g5.shape"
   ]
  },
  {
   "cell_type": "code",
   "execution_count": null,
   "metadata": {},
   "outputs": [
    {
     "data": {
      "text/plain": [
       "(1511211, 90)"
      ]
     },
     "metadata": {},
     "output_type": "display_data"
    }
   ],
   "source": [
    "# about 47s\n",
    "g4_tin = g4.merge(tin1, on='차대번호', how='left')\n",
    "g4_tin.shape"
   ]
  },
  {
   "cell_type": "code",
   "execution_count": null,
   "metadata": {},
   "outputs": [
    {
     "data": {
      "text/plain": [
       "(1154724, 90)"
      ]
     },
     "metadata": {},
     "output_type": "display_data"
    }
   ],
   "source": [
    "# about 43s\n",
    "g5_tin = g5.merge(tin1, on='차대번호', how='left')\n",
    "g5_tin.shape"
   ]
  },
  {
   "cell_type": "code",
   "execution_count": null,
   "metadata": {},
   "outputs": [
    {
     "data": {
      "text/plain": [
       "array([nan, '부하검사(KD-147)', '부하검사(LUG DOWN)', '무부하검사(급가속)',\n",
       "       '부하검사(ASM-Idling)', '무부하검사(TSI)', '무부하검사(정지가동)'], dtype=object)"
      ]
     },
     "metadata": {},
     "output_type": "display_data"
    }
   ],
   "source": [
    "g4_tin['검사방법'].unique()"
   ]
  },
  {
   "cell_type": "code",
   "execution_count": null,
   "metadata": {},
   "outputs": [
    {
     "data": {
      "text/plain": [
       "array([nan, '2부재검사(종합)', '종합검사(경과)', '종합검사', '정기검사', '정기(경과)검사',\n",
       "       '재검사(2부재검사)', '재검사(1부재검사)', '1부재검사(종합)'], dtype=object)"
      ]
     },
     "metadata": {},
     "output_type": "display_data"
    }
   ],
   "source": [
    "g4_tin['검사종류'].unique()"
   ]
  },
  {
   "cell_type": "code",
   "execution_count": null,
   "metadata": {},
   "outputs": [
    {
     "data": {
      "text/plain": [
       "array([nan, '부하검사(KD-147)', '무부하검사(급가속)', '부하검사(LUG DOWN)', '무부하검사(TSI)',\n",
       "       '부하검사(ASM-Idling)', '무부하검사(정지가동)'], dtype=object)"
      ]
     },
     "metadata": {},
     "output_type": "display_data"
    }
   ],
   "source": [
    "g5_tin['검사방법'].unique()"
   ]
  },
  {
   "cell_type": "code",
   "execution_count": null,
   "metadata": {},
   "outputs": [
    {
     "data": {
      "text/plain": [
       "array([nan, '종합검사', '2부재검사(종합)', '정기검사', '종합검사(경과)', '재검사(2부재검사)',\n",
       "       '재검사(1부재검사)', '1부재검사(종합)', '정기(경과)검사'], dtype=object)"
      ]
     },
     "metadata": {},
     "output_type": "display_data"
    }
   ],
   "source": [
    "g5_tin['검사종류'].unique()"
   ]
  },
  {
   "cell_type": "code",
   "execution_count": null,
   "metadata": {},
   "outputs": [],
   "source": [
    "view_cols = ['검사방법', '검사일자', '검사종류', '검사판정시각', '검사판정', \n",
    "'무부하매연판정1', '무부하매연측정치1',\n",
    "'무부하매연판정2', '무부하매연측정치2',\n",
    "'무부하매연판정3', '무부하매연측정치3',\n",
    "'무부하매연판정4', '무부하매연측정치4',\n",
    "'무부하매연판정5', '무부하매연측정치5',\n",
    "'무부하매연판정6', '무부하매연측정치6',]"
   ]
  },
  {
   "cell_type": "code",
   "execution_count": null,
   "metadata": {},
   "outputs": [
    {
     "data": {
      "text/html": [
       "<div>\n",
       "<style scoped>\n",
       "    .dataframe tbody tr th:only-of-type {\n",
       "        vertical-align: middle;\n",
       "    }\n",
       "\n",
       "    .dataframe tbody tr th {\n",
       "        vertical-align: top;\n",
       "    }\n",
       "\n",
       "    .dataframe thead th {\n",
       "        text-align: right;\n",
       "    }\n",
       "</style>\n",
       "<table border=\"1\" class=\"dataframe\">\n",
       "  <thead>\n",
       "    <tr style=\"text-align: right;\">\n",
       "      <th></th>\n",
       "      <th>index</th>\n",
       "      <th>0</th>\n",
       "    </tr>\n",
       "  </thead>\n",
       "  <tbody>\n",
       "    <tr>\n",
       "      <th>0</th>\n",
       "      <td>검사방법</td>\n",
       "      <td>0</td>\n",
       "    </tr>\n",
       "    <tr>\n",
       "      <th>1</th>\n",
       "      <td>검사일자</td>\n",
       "      <td>0</td>\n",
       "    </tr>\n",
       "    <tr>\n",
       "      <th>2</th>\n",
       "      <td>검사종류</td>\n",
       "      <td>0</td>\n",
       "    </tr>\n",
       "    <tr>\n",
       "      <th>3</th>\n",
       "      <td>검사판정시각</td>\n",
       "      <td>0</td>\n",
       "    </tr>\n",
       "    <tr>\n",
       "      <th>4</th>\n",
       "      <td>검사판정</td>\n",
       "      <td>0</td>\n",
       "    </tr>\n",
       "    <tr>\n",
       "      <th>5</th>\n",
       "      <td>무부하매연판정1</td>\n",
       "      <td>0</td>\n",
       "    </tr>\n",
       "    <tr>\n",
       "      <th>6</th>\n",
       "      <td>무부하매연측정치1</td>\n",
       "      <td>0</td>\n",
       "    </tr>\n",
       "    <tr>\n",
       "      <th>7</th>\n",
       "      <td>무부하매연판정2</td>\n",
       "      <td>0</td>\n",
       "    </tr>\n",
       "    <tr>\n",
       "      <th>8</th>\n",
       "      <td>무부하매연측정치2</td>\n",
       "      <td>0</td>\n",
       "    </tr>\n",
       "    <tr>\n",
       "      <th>9</th>\n",
       "      <td>무부하매연판정3</td>\n",
       "      <td>0</td>\n",
       "    </tr>\n",
       "    <tr>\n",
       "      <th>10</th>\n",
       "      <td>무부하매연측정치3</td>\n",
       "      <td>0</td>\n",
       "    </tr>\n",
       "    <tr>\n",
       "      <th>11</th>\n",
       "      <td>무부하매연판정4</td>\n",
       "      <td>0</td>\n",
       "    </tr>\n",
       "    <tr>\n",
       "      <th>12</th>\n",
       "      <td>무부하매연측정치4</td>\n",
       "      <td>0</td>\n",
       "    </tr>\n",
       "    <tr>\n",
       "      <th>13</th>\n",
       "      <td>무부하매연판정5</td>\n",
       "      <td>0</td>\n",
       "    </tr>\n",
       "    <tr>\n",
       "      <th>14</th>\n",
       "      <td>무부하매연측정치5</td>\n",
       "      <td>0</td>\n",
       "    </tr>\n",
       "    <tr>\n",
       "      <th>15</th>\n",
       "      <td>무부하매연판정6</td>\n",
       "      <td>0</td>\n",
       "    </tr>\n",
       "    <tr>\n",
       "      <th>16</th>\n",
       "      <td>무부하매연측정치6</td>\n",
       "      <td>0</td>\n",
       "    </tr>\n",
       "  </tbody>\n",
       "</table>\n",
       "</div>"
      ],
      "text/plain": [
       "        index  0\n",
       "0        검사방법  0\n",
       "1        검사일자  0\n",
       "2        검사종류  0\n",
       "3      검사판정시각  0\n",
       "4        검사판정  0\n",
       "5    무부하매연판정1  0\n",
       "6   무부하매연측정치1  0\n",
       "7    무부하매연판정2  0\n",
       "8   무부하매연측정치2  0\n",
       "9    무부하매연판정3  0\n",
       "10  무부하매연측정치3  0\n",
       "11   무부하매연판정4  0\n",
       "12  무부하매연측정치4  0\n",
       "13   무부하매연판정5  0\n",
       "14  무부하매연측정치5  0\n",
       "15   무부하매연판정6  0\n",
       "16  무부하매연측정치6  0"
      ]
     },
     "metadata": {},
     "output_type": "display_data"
    }
   ],
   "source": [
    "g4_tin[g4_tin['연료'] == '알코올'].reset_index(drop=True)[view_cols].isnull().sum().reset_index()"
   ]
  },
  {
   "cell_type": "code",
   "execution_count": null,
   "metadata": {},
   "outputs": [],
   "source": [
    "g4_miss = pd.DataFrame({'컬럼명':view_cols})\n",
    "for one in g4_tin['연료'].unique():\n",
    "    temp = g4_tin[g4_tin['연료'] == one].reset_index(drop=True)[view_cols].isnull().sum().reset_index()\n",
    "    temp.columns = ['컬럼명', f'4등급_{one}']\n",
    "    g4_miss = g4_miss.merge(temp, on='컬럼명', how='left')"
   ]
  },
  {
   "cell_type": "code",
   "execution_count": null,
   "metadata": {},
   "outputs": [
    {
     "data": {
      "text/html": [
       "<div>\n",
       "<style scoped>\n",
       "    .dataframe tbody tr th:only-of-type {\n",
       "        vertical-align: middle;\n",
       "    }\n",
       "\n",
       "    .dataframe tbody tr th {\n",
       "        vertical-align: top;\n",
       "    }\n",
       "\n",
       "    .dataframe thead th {\n",
       "        text-align: right;\n",
       "    }\n",
       "</style>\n",
       "<table border=\"1\" class=\"dataframe\">\n",
       "  <thead>\n",
       "    <tr style=\"text-align: right;\">\n",
       "      <th></th>\n",
       "      <th>컬럼명</th>\n",
       "      <th>4등급_경유</th>\n",
       "      <th>4등급_휘발유</th>\n",
       "      <th>4등급_nan</th>\n",
       "      <th>4등급_기타연료</th>\n",
       "      <th>4등급_LPG(액화석유가스)</th>\n",
       "      <th>4등급_CNG(압축천연가스)</th>\n",
       "      <th>4등급_알코올</th>\n",
       "    </tr>\n",
       "  </thead>\n",
       "  <tbody>\n",
       "    <tr>\n",
       "      <th>0</th>\n",
       "      <td>검사방법</td>\n",
       "      <td>44043</td>\n",
       "      <td>275254</td>\n",
       "      <td>0.00</td>\n",
       "      <td>37</td>\n",
       "      <td>21761</td>\n",
       "      <td>0</td>\n",
       "      <td>0</td>\n",
       "    </tr>\n",
       "    <tr>\n",
       "      <th>1</th>\n",
       "      <td>검사일자</td>\n",
       "      <td>44043</td>\n",
       "      <td>275254</td>\n",
       "      <td>0.00</td>\n",
       "      <td>37</td>\n",
       "      <td>21761</td>\n",
       "      <td>0</td>\n",
       "      <td>0</td>\n",
       "    </tr>\n",
       "    <tr>\n",
       "      <th>2</th>\n",
       "      <td>검사종류</td>\n",
       "      <td>44043</td>\n",
       "      <td>275254</td>\n",
       "      <td>0.00</td>\n",
       "      <td>37</td>\n",
       "      <td>21761</td>\n",
       "      <td>0</td>\n",
       "      <td>0</td>\n",
       "    </tr>\n",
       "    <tr>\n",
       "      <th>3</th>\n",
       "      <td>검사판정시각</td>\n",
       "      <td>52620</td>\n",
       "      <td>275825</td>\n",
       "      <td>0.00</td>\n",
       "      <td>37</td>\n",
       "      <td>21806</td>\n",
       "      <td>0</td>\n",
       "      <td>0</td>\n",
       "    </tr>\n",
       "    <tr>\n",
       "      <th>4</th>\n",
       "      <td>검사판정</td>\n",
       "      <td>44043</td>\n",
       "      <td>275254</td>\n",
       "      <td>0.00</td>\n",
       "      <td>37</td>\n",
       "      <td>21761</td>\n",
       "      <td>0</td>\n",
       "      <td>0</td>\n",
       "    </tr>\n",
       "    <tr>\n",
       "      <th>5</th>\n",
       "      <td>무부하매연판정1</td>\n",
       "      <td>52625</td>\n",
       "      <td>276357</td>\n",
       "      <td>0.00</td>\n",
       "      <td>38</td>\n",
       "      <td>21859</td>\n",
       "      <td>0</td>\n",
       "      <td>0</td>\n",
       "    </tr>\n",
       "    <tr>\n",
       "      <th>6</th>\n",
       "      <td>무부하매연측정치1</td>\n",
       "      <td>52620</td>\n",
       "      <td>276357</td>\n",
       "      <td>0.00</td>\n",
       "      <td>38</td>\n",
       "      <td>21859</td>\n",
       "      <td>0</td>\n",
       "      <td>0</td>\n",
       "    </tr>\n",
       "    <tr>\n",
       "      <th>7</th>\n",
       "      <td>무부하매연판정2</td>\n",
       "      <td>1108848</td>\n",
       "      <td>276368</td>\n",
       "      <td>0.00</td>\n",
       "      <td>38</td>\n",
       "      <td>21859</td>\n",
       "      <td>1</td>\n",
       "      <td>0</td>\n",
       "    </tr>\n",
       "    <tr>\n",
       "      <th>8</th>\n",
       "      <td>무부하매연측정치2</td>\n",
       "      <td>794724</td>\n",
       "      <td>276366</td>\n",
       "      <td>0.00</td>\n",
       "      <td>38</td>\n",
       "      <td>21859</td>\n",
       "      <td>1</td>\n",
       "      <td>0</td>\n",
       "    </tr>\n",
       "    <tr>\n",
       "      <th>9</th>\n",
       "      <td>무부하매연판정3</td>\n",
       "      <td>1109728</td>\n",
       "      <td>276368</td>\n",
       "      <td>0.00</td>\n",
       "      <td>38</td>\n",
       "      <td>21859</td>\n",
       "      <td>1</td>\n",
       "      <td>0</td>\n",
       "    </tr>\n",
       "    <tr>\n",
       "      <th>10</th>\n",
       "      <td>무부하매연측정치3</td>\n",
       "      <td>829069</td>\n",
       "      <td>276366</td>\n",
       "      <td>0.00</td>\n",
       "      <td>38</td>\n",
       "      <td>21859</td>\n",
       "      <td>1</td>\n",
       "      <td>0</td>\n",
       "    </tr>\n",
       "    <tr>\n",
       "      <th>11</th>\n",
       "      <td>무부하매연판정4</td>\n",
       "      <td>1109730</td>\n",
       "      <td>276843</td>\n",
       "      <td>0.00</td>\n",
       "      <td>38</td>\n",
       "      <td>22039</td>\n",
       "      <td>1</td>\n",
       "      <td>0</td>\n",
       "    </tr>\n",
       "    <tr>\n",
       "      <th>12</th>\n",
       "      <td>무부하매연측정치4</td>\n",
       "      <td>829071</td>\n",
       "      <td>276839</td>\n",
       "      <td>0.00</td>\n",
       "      <td>38</td>\n",
       "      <td>22039</td>\n",
       "      <td>1</td>\n",
       "      <td>0</td>\n",
       "    </tr>\n",
       "    <tr>\n",
       "      <th>13</th>\n",
       "      <td>무부하매연판정5</td>\n",
       "      <td>1109730</td>\n",
       "      <td>276843</td>\n",
       "      <td>0.00</td>\n",
       "      <td>38</td>\n",
       "      <td>22039</td>\n",
       "      <td>1</td>\n",
       "      <td>0</td>\n",
       "    </tr>\n",
       "    <tr>\n",
       "      <th>14</th>\n",
       "      <td>무부하매연측정치5</td>\n",
       "      <td>829071</td>\n",
       "      <td>276839</td>\n",
       "      <td>0.00</td>\n",
       "      <td>38</td>\n",
       "      <td>22039</td>\n",
       "      <td>1</td>\n",
       "      <td>0</td>\n",
       "    </tr>\n",
       "    <tr>\n",
       "      <th>15</th>\n",
       "      <td>무부하매연판정6</td>\n",
       "      <td>1152693</td>\n",
       "      <td>276843</td>\n",
       "      <td>0.00</td>\n",
       "      <td>38</td>\n",
       "      <td>22039</td>\n",
       "      <td>1</td>\n",
       "      <td>0</td>\n",
       "    </tr>\n",
       "    <tr>\n",
       "      <th>16</th>\n",
       "      <td>무부하매연측정치6</td>\n",
       "      <td>860555</td>\n",
       "      <td>276839</td>\n",
       "      <td>0.00</td>\n",
       "      <td>38</td>\n",
       "      <td>22039</td>\n",
       "      <td>1</td>\n",
       "      <td>0</td>\n",
       "    </tr>\n",
       "  </tbody>\n",
       "</table>\n",
       "</div>"
      ],
      "text/plain": [
       "          컬럼명   4등급_경유  4등급_휘발유  4등급_nan  4등급_기타연료  4등급_LPG(액화석유가스)  \\\n",
       "0        검사방법    44043   275254     0.00        37            21761   \n",
       "1        검사일자    44043   275254     0.00        37            21761   \n",
       "2        검사종류    44043   275254     0.00        37            21761   \n",
       "3      검사판정시각    52620   275825     0.00        37            21806   \n",
       "4        검사판정    44043   275254     0.00        37            21761   \n",
       "5    무부하매연판정1    52625   276357     0.00        38            21859   \n",
       "6   무부하매연측정치1    52620   276357     0.00        38            21859   \n",
       "7    무부하매연판정2  1108848   276368     0.00        38            21859   \n",
       "8   무부하매연측정치2   794724   276366     0.00        38            21859   \n",
       "9    무부하매연판정3  1109728   276368     0.00        38            21859   \n",
       "10  무부하매연측정치3   829069   276366     0.00        38            21859   \n",
       "11   무부하매연판정4  1109730   276843     0.00        38            22039   \n",
       "12  무부하매연측정치4   829071   276839     0.00        38            22039   \n",
       "13   무부하매연판정5  1109730   276843     0.00        38            22039   \n",
       "14  무부하매연측정치5   829071   276839     0.00        38            22039   \n",
       "15   무부하매연판정6  1152693   276843     0.00        38            22039   \n",
       "16  무부하매연측정치6   860555   276839     0.00        38            22039   \n",
       "\n",
       "    4등급_CNG(압축천연가스)  4등급_알코올  \n",
       "0                 0        0  \n",
       "1                 0        0  \n",
       "2                 0        0  \n",
       "3                 0        0  \n",
       "4                 0        0  \n",
       "5                 0        0  \n",
       "6                 0        0  \n",
       "7                 1        0  \n",
       "8                 1        0  \n",
       "9                 1        0  \n",
       "10                1        0  \n",
       "11                1        0  \n",
       "12                1        0  \n",
       "13                1        0  \n",
       "14                1        0  \n",
       "15                1        0  \n",
       "16                1        0  "
      ]
     },
     "metadata": {},
     "output_type": "display_data"
    }
   ],
   "source": [
    "g4_miss"
   ]
  },
  {
   "cell_type": "code",
   "execution_count": null,
   "metadata": {},
   "outputs": [],
   "source": [
    "g5_miss = pd.DataFrame({'컬럼명':view_cols})\n",
    "for one in g5_tin['연료'].unique():\n",
    "    temp = g5_tin[g5_tin['연료'] == one].reset_index(drop=True)[view_cols].isnull().sum().reset_index()\n",
    "    temp.columns = ['컬럼명', f'5등급_{one}']\n",
    "    g5_miss = g5_miss.merge(temp, on='컬럼명', how='left')"
   ]
  },
  {
   "cell_type": "code",
   "execution_count": null,
   "metadata": {},
   "outputs": [
    {
     "data": {
      "text/html": [
       "<div>\n",
       "<style scoped>\n",
       "    .dataframe tbody tr th:only-of-type {\n",
       "        vertical-align: middle;\n",
       "    }\n",
       "\n",
       "    .dataframe tbody tr th {\n",
       "        vertical-align: top;\n",
       "    }\n",
       "\n",
       "    .dataframe thead th {\n",
       "        text-align: right;\n",
       "    }\n",
       "</style>\n",
       "<table border=\"1\" class=\"dataframe\">\n",
       "  <thead>\n",
       "    <tr style=\"text-align: right;\">\n",
       "      <th></th>\n",
       "      <th>컬럼명</th>\n",
       "      <th>5등급_경유</th>\n",
       "      <th>5등급_휘발유</th>\n",
       "      <th>5등급_CNG(압축천연가스)</th>\n",
       "      <th>5등급_LPG(액화석유가스)</th>\n",
       "      <th>5등급_nan</th>\n",
       "      <th>5등급_기타연료</th>\n",
       "      <th>5등급_알코올</th>\n",
       "    </tr>\n",
       "  </thead>\n",
       "  <tbody>\n",
       "    <tr>\n",
       "      <th>0</th>\n",
       "      <td>검사방법</td>\n",
       "      <td>417776</td>\n",
       "      <td>29670</td>\n",
       "      <td>3</td>\n",
       "      <td>433</td>\n",
       "      <td>0.00</td>\n",
       "      <td>25</td>\n",
       "      <td>1</td>\n",
       "    </tr>\n",
       "    <tr>\n",
       "      <th>1</th>\n",
       "      <td>검사일자</td>\n",
       "      <td>417776</td>\n",
       "      <td>29670</td>\n",
       "      <td>3</td>\n",
       "      <td>433</td>\n",
       "      <td>0.00</td>\n",
       "      <td>25</td>\n",
       "      <td>1</td>\n",
       "    </tr>\n",
       "    <tr>\n",
       "      <th>2</th>\n",
       "      <td>검사종류</td>\n",
       "      <td>417776</td>\n",
       "      <td>29670</td>\n",
       "      <td>3</td>\n",
       "      <td>433</td>\n",
       "      <td>0.00</td>\n",
       "      <td>25</td>\n",
       "      <td>1</td>\n",
       "    </tr>\n",
       "    <tr>\n",
       "      <th>3</th>\n",
       "      <td>검사판정시각</td>\n",
       "      <td>423727</td>\n",
       "      <td>29674</td>\n",
       "      <td>3</td>\n",
       "      <td>433</td>\n",
       "      <td>0.00</td>\n",
       "      <td>25</td>\n",
       "      <td>1</td>\n",
       "    </tr>\n",
       "    <tr>\n",
       "      <th>4</th>\n",
       "      <td>검사판정</td>\n",
       "      <td>417776</td>\n",
       "      <td>29670</td>\n",
       "      <td>3</td>\n",
       "      <td>433</td>\n",
       "      <td>0.00</td>\n",
       "      <td>25</td>\n",
       "      <td>1</td>\n",
       "    </tr>\n",
       "    <tr>\n",
       "      <th>5</th>\n",
       "      <td>무부하매연판정1</td>\n",
       "      <td>423936</td>\n",
       "      <td>29681</td>\n",
       "      <td>3</td>\n",
       "      <td>433</td>\n",
       "      <td>0.00</td>\n",
       "      <td>25</td>\n",
       "      <td>1</td>\n",
       "    </tr>\n",
       "    <tr>\n",
       "      <th>6</th>\n",
       "      <td>무부하매연측정치1</td>\n",
       "      <td>423927</td>\n",
       "      <td>29681</td>\n",
       "      <td>3</td>\n",
       "      <td>433</td>\n",
       "      <td>0.00</td>\n",
       "      <td>25</td>\n",
       "      <td>1</td>\n",
       "    </tr>\n",
       "    <tr>\n",
       "      <th>7</th>\n",
       "      <td>무부하매연판정2</td>\n",
       "      <td>1017450</td>\n",
       "      <td>29683</td>\n",
       "      <td>3</td>\n",
       "      <td>433</td>\n",
       "      <td>0.00</td>\n",
       "      <td>25</td>\n",
       "      <td>1</td>\n",
       "    </tr>\n",
       "    <tr>\n",
       "      <th>8</th>\n",
       "      <td>무부하매연측정치2</td>\n",
       "      <td>890184</td>\n",
       "      <td>29683</td>\n",
       "      <td>3</td>\n",
       "      <td>433</td>\n",
       "      <td>0.00</td>\n",
       "      <td>25</td>\n",
       "      <td>1</td>\n",
       "    </tr>\n",
       "    <tr>\n",
       "      <th>9</th>\n",
       "      <td>무부하매연판정3</td>\n",
       "      <td>1017776</td>\n",
       "      <td>29683</td>\n",
       "      <td>3</td>\n",
       "      <td>433</td>\n",
       "      <td>0.00</td>\n",
       "      <td>25</td>\n",
       "      <td>1</td>\n",
       "    </tr>\n",
       "    <tr>\n",
       "      <th>10</th>\n",
       "      <td>무부하매연측정치3</td>\n",
       "      <td>909619</td>\n",
       "      <td>29683</td>\n",
       "      <td>3</td>\n",
       "      <td>433</td>\n",
       "      <td>0.00</td>\n",
       "      <td>25</td>\n",
       "      <td>1</td>\n",
       "    </tr>\n",
       "    <tr>\n",
       "      <th>11</th>\n",
       "      <td>무부하매연판정4</td>\n",
       "      <td>1018119</td>\n",
       "      <td>29692</td>\n",
       "      <td>3</td>\n",
       "      <td>435</td>\n",
       "      <td>0.00</td>\n",
       "      <td>25</td>\n",
       "      <td>1</td>\n",
       "    </tr>\n",
       "    <tr>\n",
       "      <th>12</th>\n",
       "      <td>무부하매연측정치4</td>\n",
       "      <td>909961</td>\n",
       "      <td>29687</td>\n",
       "      <td>3</td>\n",
       "      <td>435</td>\n",
       "      <td>0.00</td>\n",
       "      <td>25</td>\n",
       "      <td>1</td>\n",
       "    </tr>\n",
       "    <tr>\n",
       "      <th>13</th>\n",
       "      <td>무부하매연판정5</td>\n",
       "      <td>1018119</td>\n",
       "      <td>29692</td>\n",
       "      <td>3</td>\n",
       "      <td>435</td>\n",
       "      <td>0.00</td>\n",
       "      <td>25</td>\n",
       "      <td>1</td>\n",
       "    </tr>\n",
       "    <tr>\n",
       "      <th>14</th>\n",
       "      <td>무부하매연측정치5</td>\n",
       "      <td>909961</td>\n",
       "      <td>29687</td>\n",
       "      <td>3</td>\n",
       "      <td>435</td>\n",
       "      <td>0.00</td>\n",
       "      <td>25</td>\n",
       "      <td>1</td>\n",
       "    </tr>\n",
       "    <tr>\n",
       "      <th>15</th>\n",
       "      <td>무부하매연판정6</td>\n",
       "      <td>1115336</td>\n",
       "      <td>29692</td>\n",
       "      <td>5</td>\n",
       "      <td>435</td>\n",
       "      <td>0.00</td>\n",
       "      <td>25</td>\n",
       "      <td>1</td>\n",
       "    </tr>\n",
       "    <tr>\n",
       "      <th>16</th>\n",
       "      <td>무부하매연측정치6</td>\n",
       "      <td>982782</td>\n",
       "      <td>29687</td>\n",
       "      <td>4</td>\n",
       "      <td>435</td>\n",
       "      <td>0.00</td>\n",
       "      <td>25</td>\n",
       "      <td>1</td>\n",
       "    </tr>\n",
       "  </tbody>\n",
       "</table>\n",
       "</div>"
      ],
      "text/plain": [
       "          컬럼명   5등급_경유  5등급_휘발유  5등급_CNG(압축천연가스)  5등급_LPG(액화석유가스)  5등급_nan  \\\n",
       "0        검사방법   417776    29670                3              433     0.00   \n",
       "1        검사일자   417776    29670                3              433     0.00   \n",
       "2        검사종류   417776    29670                3              433     0.00   \n",
       "3      검사판정시각   423727    29674                3              433     0.00   \n",
       "4        검사판정   417776    29670                3              433     0.00   \n",
       "5    무부하매연판정1   423936    29681                3              433     0.00   \n",
       "6   무부하매연측정치1   423927    29681                3              433     0.00   \n",
       "7    무부하매연판정2  1017450    29683                3              433     0.00   \n",
       "8   무부하매연측정치2   890184    29683                3              433     0.00   \n",
       "9    무부하매연판정3  1017776    29683                3              433     0.00   \n",
       "10  무부하매연측정치3   909619    29683                3              433     0.00   \n",
       "11   무부하매연판정4  1018119    29692                3              435     0.00   \n",
       "12  무부하매연측정치4   909961    29687                3              435     0.00   \n",
       "13   무부하매연판정5  1018119    29692                3              435     0.00   \n",
       "14  무부하매연측정치5   909961    29687                3              435     0.00   \n",
       "15   무부하매연판정6  1115336    29692                5              435     0.00   \n",
       "16  무부하매연측정치6   982782    29687                4              435     0.00   \n",
       "\n",
       "    5등급_기타연료  5등급_알코올  \n",
       "0         25        1  \n",
       "1         25        1  \n",
       "2         25        1  \n",
       "3         25        1  \n",
       "4         25        1  \n",
       "5         25        1  \n",
       "6         25        1  \n",
       "7         25        1  \n",
       "8         25        1  \n",
       "9         25        1  \n",
       "10        25        1  \n",
       "11        25        1  \n",
       "12        25        1  \n",
       "13        25        1  \n",
       "14        25        1  \n",
       "15        25        1  \n",
       "16        25        1  "
      ]
     },
     "metadata": {},
     "output_type": "display_data"
    }
   ],
   "source": [
    "g5_miss"
   ]
  },
  {
   "cell_type": "code",
   "execution_count": null,
   "metadata": {},
   "outputs": [
    {
     "data": {
      "text/html": [
       "<div>\n",
       "<style scoped>\n",
       "    .dataframe tbody tr th:only-of-type {\n",
       "        vertical-align: middle;\n",
       "    }\n",
       "\n",
       "    .dataframe tbody tr th {\n",
       "        vertical-align: top;\n",
       "    }\n",
       "\n",
       "    .dataframe thead th {\n",
       "        text-align: right;\n",
       "    }\n",
       "</style>\n",
       "<table border=\"1\" class=\"dataframe\">\n",
       "  <thead>\n",
       "    <tr style=\"text-align: right;\">\n",
       "      <th></th>\n",
       "      <th>컬럼명</th>\n",
       "      <th>4등급_경유</th>\n",
       "      <th>4등급_휘발유</th>\n",
       "      <th>4등급_nan</th>\n",
       "      <th>4등급_기타연료</th>\n",
       "      <th>4등급_LPG(액화석유가스)</th>\n",
       "      <th>4등급_CNG(압축천연가스)</th>\n",
       "      <th>4등급_알코올</th>\n",
       "      <th>5등급_경유</th>\n",
       "      <th>5등급_휘발유</th>\n",
       "      <th>5등급_CNG(압축천연가스)</th>\n",
       "      <th>5등급_LPG(액화석유가스)</th>\n",
       "      <th>5등급_nan</th>\n",
       "      <th>5등급_기타연료</th>\n",
       "      <th>5등급_알코올</th>\n",
       "    </tr>\n",
       "  </thead>\n",
       "  <tbody>\n",
       "    <tr>\n",
       "      <th>0</th>\n",
       "      <td>검사방법</td>\n",
       "      <td>44043</td>\n",
       "      <td>275254</td>\n",
       "      <td>0.00</td>\n",
       "      <td>37</td>\n",
       "      <td>21761</td>\n",
       "      <td>0</td>\n",
       "      <td>0</td>\n",
       "      <td>417776</td>\n",
       "      <td>29670</td>\n",
       "      <td>3</td>\n",
       "      <td>433</td>\n",
       "      <td>0.00</td>\n",
       "      <td>25</td>\n",
       "      <td>1</td>\n",
       "    </tr>\n",
       "    <tr>\n",
       "      <th>1</th>\n",
       "      <td>검사일자</td>\n",
       "      <td>44043</td>\n",
       "      <td>275254</td>\n",
       "      <td>0.00</td>\n",
       "      <td>37</td>\n",
       "      <td>21761</td>\n",
       "      <td>0</td>\n",
       "      <td>0</td>\n",
       "      <td>417776</td>\n",
       "      <td>29670</td>\n",
       "      <td>3</td>\n",
       "      <td>433</td>\n",
       "      <td>0.00</td>\n",
       "      <td>25</td>\n",
       "      <td>1</td>\n",
       "    </tr>\n",
       "    <tr>\n",
       "      <th>2</th>\n",
       "      <td>검사종류</td>\n",
       "      <td>44043</td>\n",
       "      <td>275254</td>\n",
       "      <td>0.00</td>\n",
       "      <td>37</td>\n",
       "      <td>21761</td>\n",
       "      <td>0</td>\n",
       "      <td>0</td>\n",
       "      <td>417776</td>\n",
       "      <td>29670</td>\n",
       "      <td>3</td>\n",
       "      <td>433</td>\n",
       "      <td>0.00</td>\n",
       "      <td>25</td>\n",
       "      <td>1</td>\n",
       "    </tr>\n",
       "    <tr>\n",
       "      <th>3</th>\n",
       "      <td>검사판정시각</td>\n",
       "      <td>52620</td>\n",
       "      <td>275825</td>\n",
       "      <td>0.00</td>\n",
       "      <td>37</td>\n",
       "      <td>21806</td>\n",
       "      <td>0</td>\n",
       "      <td>0</td>\n",
       "      <td>423727</td>\n",
       "      <td>29674</td>\n",
       "      <td>3</td>\n",
       "      <td>433</td>\n",
       "      <td>0.00</td>\n",
       "      <td>25</td>\n",
       "      <td>1</td>\n",
       "    </tr>\n",
       "    <tr>\n",
       "      <th>4</th>\n",
       "      <td>검사판정</td>\n",
       "      <td>44043</td>\n",
       "      <td>275254</td>\n",
       "      <td>0.00</td>\n",
       "      <td>37</td>\n",
       "      <td>21761</td>\n",
       "      <td>0</td>\n",
       "      <td>0</td>\n",
       "      <td>417776</td>\n",
       "      <td>29670</td>\n",
       "      <td>3</td>\n",
       "      <td>433</td>\n",
       "      <td>0.00</td>\n",
       "      <td>25</td>\n",
       "      <td>1</td>\n",
       "    </tr>\n",
       "    <tr>\n",
       "      <th>5</th>\n",
       "      <td>무부하매연판정1</td>\n",
       "      <td>52625</td>\n",
       "      <td>276357</td>\n",
       "      <td>0.00</td>\n",
       "      <td>38</td>\n",
       "      <td>21859</td>\n",
       "      <td>0</td>\n",
       "      <td>0</td>\n",
       "      <td>423936</td>\n",
       "      <td>29681</td>\n",
       "      <td>3</td>\n",
       "      <td>433</td>\n",
       "      <td>0.00</td>\n",
       "      <td>25</td>\n",
       "      <td>1</td>\n",
       "    </tr>\n",
       "    <tr>\n",
       "      <th>6</th>\n",
       "      <td>무부하매연측정치1</td>\n",
       "      <td>52620</td>\n",
       "      <td>276357</td>\n",
       "      <td>0.00</td>\n",
       "      <td>38</td>\n",
       "      <td>21859</td>\n",
       "      <td>0</td>\n",
       "      <td>0</td>\n",
       "      <td>423927</td>\n",
       "      <td>29681</td>\n",
       "      <td>3</td>\n",
       "      <td>433</td>\n",
       "      <td>0.00</td>\n",
       "      <td>25</td>\n",
       "      <td>1</td>\n",
       "    </tr>\n",
       "    <tr>\n",
       "      <th>7</th>\n",
       "      <td>무부하매연판정2</td>\n",
       "      <td>1108848</td>\n",
       "      <td>276368</td>\n",
       "      <td>0.00</td>\n",
       "      <td>38</td>\n",
       "      <td>21859</td>\n",
       "      <td>1</td>\n",
       "      <td>0</td>\n",
       "      <td>1017450</td>\n",
       "      <td>29683</td>\n",
       "      <td>3</td>\n",
       "      <td>433</td>\n",
       "      <td>0.00</td>\n",
       "      <td>25</td>\n",
       "      <td>1</td>\n",
       "    </tr>\n",
       "    <tr>\n",
       "      <th>8</th>\n",
       "      <td>무부하매연측정치2</td>\n",
       "      <td>794724</td>\n",
       "      <td>276366</td>\n",
       "      <td>0.00</td>\n",
       "      <td>38</td>\n",
       "      <td>21859</td>\n",
       "      <td>1</td>\n",
       "      <td>0</td>\n",
       "      <td>890184</td>\n",
       "      <td>29683</td>\n",
       "      <td>3</td>\n",
       "      <td>433</td>\n",
       "      <td>0.00</td>\n",
       "      <td>25</td>\n",
       "      <td>1</td>\n",
       "    </tr>\n",
       "    <tr>\n",
       "      <th>9</th>\n",
       "      <td>무부하매연판정3</td>\n",
       "      <td>1109728</td>\n",
       "      <td>276368</td>\n",
       "      <td>0.00</td>\n",
       "      <td>38</td>\n",
       "      <td>21859</td>\n",
       "      <td>1</td>\n",
       "      <td>0</td>\n",
       "      <td>1017776</td>\n",
       "      <td>29683</td>\n",
       "      <td>3</td>\n",
       "      <td>433</td>\n",
       "      <td>0.00</td>\n",
       "      <td>25</td>\n",
       "      <td>1</td>\n",
       "    </tr>\n",
       "    <tr>\n",
       "      <th>10</th>\n",
       "      <td>무부하매연측정치3</td>\n",
       "      <td>829069</td>\n",
       "      <td>276366</td>\n",
       "      <td>0.00</td>\n",
       "      <td>38</td>\n",
       "      <td>21859</td>\n",
       "      <td>1</td>\n",
       "      <td>0</td>\n",
       "      <td>909619</td>\n",
       "      <td>29683</td>\n",
       "      <td>3</td>\n",
       "      <td>433</td>\n",
       "      <td>0.00</td>\n",
       "      <td>25</td>\n",
       "      <td>1</td>\n",
       "    </tr>\n",
       "    <tr>\n",
       "      <th>11</th>\n",
       "      <td>무부하매연판정4</td>\n",
       "      <td>1109730</td>\n",
       "      <td>276843</td>\n",
       "      <td>0.00</td>\n",
       "      <td>38</td>\n",
       "      <td>22039</td>\n",
       "      <td>1</td>\n",
       "      <td>0</td>\n",
       "      <td>1018119</td>\n",
       "      <td>29692</td>\n",
       "      <td>3</td>\n",
       "      <td>435</td>\n",
       "      <td>0.00</td>\n",
       "      <td>25</td>\n",
       "      <td>1</td>\n",
       "    </tr>\n",
       "    <tr>\n",
       "      <th>12</th>\n",
       "      <td>무부하매연측정치4</td>\n",
       "      <td>829071</td>\n",
       "      <td>276839</td>\n",
       "      <td>0.00</td>\n",
       "      <td>38</td>\n",
       "      <td>22039</td>\n",
       "      <td>1</td>\n",
       "      <td>0</td>\n",
       "      <td>909961</td>\n",
       "      <td>29687</td>\n",
       "      <td>3</td>\n",
       "      <td>435</td>\n",
       "      <td>0.00</td>\n",
       "      <td>25</td>\n",
       "      <td>1</td>\n",
       "    </tr>\n",
       "    <tr>\n",
       "      <th>13</th>\n",
       "      <td>무부하매연판정5</td>\n",
       "      <td>1109730</td>\n",
       "      <td>276843</td>\n",
       "      <td>0.00</td>\n",
       "      <td>38</td>\n",
       "      <td>22039</td>\n",
       "      <td>1</td>\n",
       "      <td>0</td>\n",
       "      <td>1018119</td>\n",
       "      <td>29692</td>\n",
       "      <td>3</td>\n",
       "      <td>435</td>\n",
       "      <td>0.00</td>\n",
       "      <td>25</td>\n",
       "      <td>1</td>\n",
       "    </tr>\n",
       "    <tr>\n",
       "      <th>14</th>\n",
       "      <td>무부하매연측정치5</td>\n",
       "      <td>829071</td>\n",
       "      <td>276839</td>\n",
       "      <td>0.00</td>\n",
       "      <td>38</td>\n",
       "      <td>22039</td>\n",
       "      <td>1</td>\n",
       "      <td>0</td>\n",
       "      <td>909961</td>\n",
       "      <td>29687</td>\n",
       "      <td>3</td>\n",
       "      <td>435</td>\n",
       "      <td>0.00</td>\n",
       "      <td>25</td>\n",
       "      <td>1</td>\n",
       "    </tr>\n",
       "    <tr>\n",
       "      <th>15</th>\n",
       "      <td>무부하매연판정6</td>\n",
       "      <td>1152693</td>\n",
       "      <td>276843</td>\n",
       "      <td>0.00</td>\n",
       "      <td>38</td>\n",
       "      <td>22039</td>\n",
       "      <td>1</td>\n",
       "      <td>0</td>\n",
       "      <td>1115336</td>\n",
       "      <td>29692</td>\n",
       "      <td>5</td>\n",
       "      <td>435</td>\n",
       "      <td>0.00</td>\n",
       "      <td>25</td>\n",
       "      <td>1</td>\n",
       "    </tr>\n",
       "    <tr>\n",
       "      <th>16</th>\n",
       "      <td>무부하매연측정치6</td>\n",
       "      <td>860555</td>\n",
       "      <td>276839</td>\n",
       "      <td>0.00</td>\n",
       "      <td>38</td>\n",
       "      <td>22039</td>\n",
       "      <td>1</td>\n",
       "      <td>0</td>\n",
       "      <td>982782</td>\n",
       "      <td>29687</td>\n",
       "      <td>4</td>\n",
       "      <td>435</td>\n",
       "      <td>0.00</td>\n",
       "      <td>25</td>\n",
       "      <td>1</td>\n",
       "    </tr>\n",
       "  </tbody>\n",
       "</table>\n",
       "</div>"
      ],
      "text/plain": [
       "          컬럼명   4등급_경유  4등급_휘발유  4등급_nan  4등급_기타연료  4등급_LPG(액화석유가스)  \\\n",
       "0        검사방법    44043   275254     0.00        37            21761   \n",
       "1        검사일자    44043   275254     0.00        37            21761   \n",
       "2        검사종류    44043   275254     0.00        37            21761   \n",
       "3      검사판정시각    52620   275825     0.00        37            21806   \n",
       "4        검사판정    44043   275254     0.00        37            21761   \n",
       "5    무부하매연판정1    52625   276357     0.00        38            21859   \n",
       "6   무부하매연측정치1    52620   276357     0.00        38            21859   \n",
       "7    무부하매연판정2  1108848   276368     0.00        38            21859   \n",
       "8   무부하매연측정치2   794724   276366     0.00        38            21859   \n",
       "9    무부하매연판정3  1109728   276368     0.00        38            21859   \n",
       "10  무부하매연측정치3   829069   276366     0.00        38            21859   \n",
       "11   무부하매연판정4  1109730   276843     0.00        38            22039   \n",
       "12  무부하매연측정치4   829071   276839     0.00        38            22039   \n",
       "13   무부하매연판정5  1109730   276843     0.00        38            22039   \n",
       "14  무부하매연측정치5   829071   276839     0.00        38            22039   \n",
       "15   무부하매연판정6  1152693   276843     0.00        38            22039   \n",
       "16  무부하매연측정치6   860555   276839     0.00        38            22039   \n",
       "\n",
       "    4등급_CNG(압축천연가스)  4등급_알코올   5등급_경유  5등급_휘발유  5등급_CNG(압축천연가스)  \\\n",
       "0                 0        0   417776    29670                3   \n",
       "1                 0        0   417776    29670                3   \n",
       "2                 0        0   417776    29670                3   \n",
       "3                 0        0   423727    29674                3   \n",
       "4                 0        0   417776    29670                3   \n",
       "5                 0        0   423936    29681                3   \n",
       "6                 0        0   423927    29681                3   \n",
       "7                 1        0  1017450    29683                3   \n",
       "8                 1        0   890184    29683                3   \n",
       "9                 1        0  1017776    29683                3   \n",
       "10                1        0   909619    29683                3   \n",
       "11                1        0  1018119    29692                3   \n",
       "12                1        0   909961    29687                3   \n",
       "13                1        0  1018119    29692                3   \n",
       "14                1        0   909961    29687                3   \n",
       "15                1        0  1115336    29692                5   \n",
       "16                1        0   982782    29687                4   \n",
       "\n",
       "    5등급_LPG(액화석유가스)  5등급_nan  5등급_기타연료  5등급_알코올  \n",
       "0               433     0.00        25        1  \n",
       "1               433     0.00        25        1  \n",
       "2               433     0.00        25        1  \n",
       "3               433     0.00        25        1  \n",
       "4               433     0.00        25        1  \n",
       "5               433     0.00        25        1  \n",
       "6               433     0.00        25        1  \n",
       "7               433     0.00        25        1  \n",
       "8               433     0.00        25        1  \n",
       "9               433     0.00        25        1  \n",
       "10              433     0.00        25        1  \n",
       "11              435     0.00        25        1  \n",
       "12              435     0.00        25        1  \n",
       "13              435     0.00        25        1  \n",
       "14              435     0.00        25        1  \n",
       "15              435     0.00        25        1  \n",
       "16              435     0.00        25        1  "
      ]
     },
     "metadata": {},
     "output_type": "display_data"
    }
   ],
   "source": [
    "g45_miss = g4_miss.merge(g5_miss, on='컬럼명', how='left')\n",
    "g45_miss"
   ]
  },
  {
   "cell_type": "code",
   "execution_count": null,
   "metadata": {},
   "outputs": [
    {
     "data": {
      "text/plain": [
       "'2023.02.22_PM.15.33.36'"
      ]
     },
     "metadata": {},
     "output_type": "display_data"
    }
   ],
   "source": [
    "today_date = datetime.today().strftime(\"%Y.%m.%d_%p.%H.%M.%S\")\n",
    "today_date"
   ]
  },
  {
   "cell_type": "code",
   "execution_count": null,
   "metadata": {},
   "outputs": [],
   "source": [
    "g45_miss.to_excel(f'analysis2/4_5등급_검사_결측치_{today_date}.xlsx', index=False)"
   ]
  },
  {
   "attachments": {},
   "cell_type": "markdown",
   "metadata": {},
   "source": [
    "# 코드 마지막"
   ]
  }
 ],
 "metadata": {
  "kernelspec": {
   "display_name": "base",
   "language": "python",
   "name": "python3"
  },
  "language_info": {
   "codemirror_mode": {
    "name": "ipython",
    "version": 3
   },
   "file_extension": ".py",
   "mimetype": "text/x-python",
   "name": "python",
   "nbconvert_exporter": "python",
   "pygments_lexer": "ipython3",
   "version": "3.9.13"
  },
  "orig_nbformat": 4,
  "vscode": {
   "interpreter": {
    "hash": "ad2bdc8ecc057115af97d19610ffacc2b4e99fae6737bb82f5d7fb13d2f2c186"
   }
  }
 },
 "nbformat": 4,
 "nbformat_minor": 2
}
