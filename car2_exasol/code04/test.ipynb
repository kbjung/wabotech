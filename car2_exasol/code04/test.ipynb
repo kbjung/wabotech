{
 "cells": [
  {
   "cell_type": "markdown",
   "metadata": {},
   "source": [
    "# Library"
   ]
  },
  {
   "cell_type": "code",
   "execution_count": 1,
   "metadata": {},
   "outputs": [],
   "source": [
    "# Library\n",
    "import pandas as pd\n",
    "import numpy as np\n",
    "import pyexasol"
   ]
  },
  {
   "cell_type": "code",
   "execution_count": 2,
   "metadata": {},
   "outputs": [],
   "source": [
    "import os"
   ]
  },
  {
   "cell_type": "code",
   "execution_count": 3,
   "metadata": {},
   "outputs": [],
   "source": [
    "df1_fold = 'D:/data/big2/BD1/df'\n",
    "raw1_fold = 'D:/data/big2/BD1/raw'\n",
    "sys_fold = 'D:/data/big2/sys'"
   ]
  },
  {
   "cell_type": "code",
   "execution_count": 4,
   "metadata": {},
   "outputs": [],
   "source": [
    "# 소수점 옵션\n",
    "pd.options.display.float_format = '{:.2f}'.format\n",
    "# pd.reset_option('display.float_format')"
   ]
  },
  {
   "cell_type": "markdown",
   "metadata": {},
   "source": [
    "# Server"
   ]
  },
  {
   "cell_type": "code",
   "execution_count": 2,
   "metadata": {},
   "outputs": [],
   "source": [
    "# # insider db\n",
    "# wd = pyexasol.connect(dsn='172.29.135.35/F99FAB2444F86051A9A467F6313FAAB48AF7C4760663430958E3B89A9DC53361:8563', user='sys', password='exasol', compression=True, schema='VSYSD')\n",
    "# we = pyexasol.connect(dsn='172.29.135.35/F99FAB2444F86051A9A467F6313FAAB48AF7C4760663430958E3B89A9DC53361:8563', user='sys', password='exasol', compression=True, schema='vsyse')"
   ]
  },
  {
   "cell_type": "code",
   "execution_count": 8,
   "metadata": {},
   "outputs": [],
   "source": [
    "# # exasol db\n",
    "# ws = pyexasol.connect(dsn='dev.openankus.org:8563', user='sys', password='djslzja', compression=True, schema='VSYS')\n",
    "# wd = pyexasol.connect(dsn='dev.openankus.org:8563', user='sys', password='djslzja', compression=True, schema='VSYSD')\n",
    "# we = pyexasol.connect(dsn='dev.openankus.org:8563', user='sys', password='djslzja', compression=True, schema='VSYSE')"
   ]
  },
  {
   "cell_type": "markdown",
   "metadata": {},
   "source": [
    "# Data"
   ]
  },
  {
   "cell_type": "code",
   "execution_count": null,
   "metadata": {},
   "outputs": [],
   "source": [
    "# # 9.6s\n",
    "# df = we.export_to_pandas(\"SELECT * from STD_BD_GRD5_LEM_PRIO_ORD_SELCT_CURSTT;\")\n",
    "# df.info()"
   ]
  },
  {
   "cell_type": "code",
   "execution_count": 30,
   "metadata": {},
   "outputs": [],
   "source": [
    "name = 'STD_BD_CAR_CURSTT(코드결과)'\n",
    "file_name = f'{name}.csv'\n",
    "df = pd.read_csv(os.path.join(sys_fold, file_name), low_memory=False)"
   ]
  },
  {
   "cell_type": "code",
   "execution_count": 31,
   "metadata": {},
   "outputs": [
    {
     "name": "stdout",
     "output_type": "stream",
     "text": [
      "<class 'pandas.core.frame.DataFrame'>\n",
      "RangeIndex: 25615830 entries, 0 to 25615829\n",
      "Data columns (total 13 columns):\n",
      " #   Column             Dtype  \n",
      "---  ------             -----  \n",
      " 0   IDX                int64  \n",
      " 1   LOAD_DT            int64  \n",
      " 2   BSPL_STDG_CD       int64  \n",
      " 3   VHCTY_CD           object \n",
      " 4   PURPS_CD2          object \n",
      " 5   VIN                object \n",
      " 6   MANG_MNG_NO        object \n",
      " 7   EXHST_GAS_CERT_NO  object \n",
      " 8   EXHST_GAS_GRD_CD   float64\n",
      " 9   VHCL_ERSR_YN       object \n",
      " 10  FUEL_CD            object \n",
      " 11  CTPV               object \n",
      " 12  SGG                object \n",
      "dtypes: float64(1), int64(3), object(9)\n",
      "memory usage: 2.5+ GB\n"
     ]
    }
   ],
   "source": [
    "df.info()"
   ]
  },
  {
   "cell_type": "code",
   "execution_count": 32,
   "metadata": {},
   "outputs": [
    {
     "data": {
      "text/html": [
       "<div>\n",
       "<style scoped>\n",
       "    .dataframe tbody tr th:only-of-type {\n",
       "        vertical-align: middle;\n",
       "    }\n",
       "\n",
       "    .dataframe tbody tr th {\n",
       "        vertical-align: top;\n",
       "    }\n",
       "\n",
       "    .dataframe thead th {\n",
       "        text-align: right;\n",
       "    }\n",
       "</style>\n",
       "<table border=\"1\" class=\"dataframe\">\n",
       "  <thead>\n",
       "    <tr style=\"text-align: right;\">\n",
       "      <th></th>\n",
       "      <th>IDX</th>\n",
       "      <th>LOAD_DT</th>\n",
       "      <th>BSPL_STDG_CD</th>\n",
       "      <th>VHCTY_CD</th>\n",
       "      <th>PURPS_CD2</th>\n",
       "      <th>VIN</th>\n",
       "      <th>MANG_MNG_NO</th>\n",
       "      <th>EXHST_GAS_CERT_NO</th>\n",
       "      <th>EXHST_GAS_GRD_CD</th>\n",
       "      <th>VHCL_ERSR_YN</th>\n",
       "      <th>FUEL_CD</th>\n",
       "      <th>CTPV</th>\n",
       "      <th>SGG</th>\n",
       "    </tr>\n",
       "  </thead>\n",
       "  <tbody>\n",
       "    <tr>\n",
       "      <th>0</th>\n",
       "      <td>1</td>\n",
       "      <td>20230808</td>\n",
       "      <td>4111300000</td>\n",
       "      <td>승용</td>\n",
       "      <td>개인용</td>\n",
       "      <td>WBA21EJ02PCN62702</td>\n",
       "      <td>00120008900111323</td>\n",
       "      <td>NaN</td>\n",
       "      <td>NaN</td>\n",
       "      <td>N</td>\n",
       "      <td>경유</td>\n",
       "      <td>경기도</td>\n",
       "      <td>수원시</td>\n",
       "    </tr>\n",
       "    <tr>\n",
       "      <th>1</th>\n",
       "      <td>2</td>\n",
       "      <td>20230808</td>\n",
       "      <td>4481000000</td>\n",
       "      <td>화물</td>\n",
       "      <td>개인용</td>\n",
       "      <td>KMFZSZ7NFPU062413</td>\n",
       "      <td>A0810006222553122</td>\n",
       "      <td>NaN</td>\n",
       "      <td>1.00</td>\n",
       "      <td>N</td>\n",
       "      <td>전기</td>\n",
       "      <td>충청남도</td>\n",
       "      <td>예산군</td>\n",
       "    </tr>\n",
       "    <tr>\n",
       "      <th>2</th>\n",
       "      <td>3</td>\n",
       "      <td>20230808</td>\n",
       "      <td>4119000000</td>\n",
       "      <td>승용</td>\n",
       "      <td>개인용</td>\n",
       "      <td>W1KEG1BB9PF019830</td>\n",
       "      <td>00820008600021222</td>\n",
       "      <td>NaN</td>\n",
       "      <td>1.00</td>\n",
       "      <td>N</td>\n",
       "      <td>전기</td>\n",
       "      <td>경기도</td>\n",
       "      <td>부천시</td>\n",
       "    </tr>\n",
       "    <tr>\n",
       "      <th>3</th>\n",
       "      <td>4</td>\n",
       "      <td>20230808</td>\n",
       "      <td>2611000000</td>\n",
       "      <td>승용</td>\n",
       "      <td>개인용</td>\n",
       "      <td>W1KCG2EBXPA024606</td>\n",
       "      <td>00820007700041222</td>\n",
       "      <td>NaN</td>\n",
       "      <td>1.00</td>\n",
       "      <td>N</td>\n",
       "      <td>전기</td>\n",
       "      <td>부산광역시</td>\n",
       "      <td>중구</td>\n",
       "    </tr>\n",
       "    <tr>\n",
       "      <th>4</th>\n",
       "      <td>5</td>\n",
       "      <td>20230808</td>\n",
       "      <td>2820000000</td>\n",
       "      <td>승용</td>\n",
       "      <td>개인용</td>\n",
       "      <td>W1KCG2EB9PA032115</td>\n",
       "      <td>00820007700041222</td>\n",
       "      <td>NaN</td>\n",
       "      <td>1.00</td>\n",
       "      <td>N</td>\n",
       "      <td>전기</td>\n",
       "      <td>인천광역시</td>\n",
       "      <td>남동구</td>\n",
       "    </tr>\n",
       "  </tbody>\n",
       "</table>\n",
       "</div>"
      ],
      "text/plain": [
       "   IDX   LOAD_DT  BSPL_STDG_CD VHCTY_CD PURPS_CD2                VIN   \n",
       "0    1  20230808    4111300000       승용       개인용  WBA21EJ02PCN62702  \\\n",
       "1    2  20230808    4481000000       화물       개인용  KMFZSZ7NFPU062413   \n",
       "2    3  20230808    4119000000       승용       개인용  W1KEG1BB9PF019830   \n",
       "3    4  20230808    2611000000       승용       개인용  W1KCG2EBXPA024606   \n",
       "4    5  20230808    2820000000       승용       개인용  W1KCG2EB9PA032115   \n",
       "\n",
       "         MANG_MNG_NO EXHST_GAS_CERT_NO  EXHST_GAS_GRD_CD VHCL_ERSR_YN FUEL_CD   \n",
       "0  00120008900111323               NaN               NaN            N      경유  \\\n",
       "1  A0810006222553122               NaN              1.00            N      전기   \n",
       "2  00820008600021222               NaN              1.00            N      전기   \n",
       "3  00820007700041222               NaN              1.00            N      전기   \n",
       "4  00820007700041222               NaN              1.00            N      전기   \n",
       "\n",
       "    CTPV  SGG  \n",
       "0    경기도  수원시  \n",
       "1   충청남도  예산군  \n",
       "2    경기도  부천시  \n",
       "3  부산광역시   중구  \n",
       "4  인천광역시  남동구  "
      ]
     },
     "execution_count": 32,
     "metadata": {},
     "output_type": "execute_result"
    }
   ],
   "source": [
    "df.head()"
   ]
  },
  {
   "cell_type": "code",
   "execution_count": 33,
   "metadata": {},
   "outputs": [
    {
     "data": {
      "text/plain": [
       "array([nan,  1.,  2.,  3.,  5.,  4.])"
      ]
     },
     "execution_count": 33,
     "metadata": {},
     "output_type": "execute_result"
    }
   ],
   "source": [
    "df['EXHST_GAS_GRD_CD'].unique()"
   ]
  },
  {
   "cell_type": "code",
   "execution_count": 34,
   "metadata": {},
   "outputs": [
    {
     "data": {
      "text/plain": [
       "EXHST_GAS_GRD_CD\n",
       "2.00    10944600\n",
       "3.00     8289254\n",
       "1.00     3141777\n",
       "4.00     1390160\n",
       "5.00      973920\n",
       "NaN       876119\n",
       "Name: count, dtype: int64"
      ]
     },
     "execution_count": 34,
     "metadata": {},
     "output_type": "execute_result"
    }
   ],
   "source": [
    "df['EXHST_GAS_GRD_CD'].value_counts(dropna=False)"
   ]
  },
  {
   "cell_type": "code",
   "execution_count": 35,
   "metadata": {},
   "outputs": [],
   "source": [
    "df['EXHST_GAS_GRD_CD'] = df['EXHST_GAS_GRD_CD'].fillna('X')\n",
    "df['EXHST_GAS_GRD_CD'] = df['EXHST_GAS_GRD_CD'].astype('str')"
   ]
  },
  {
   "cell_type": "code",
   "execution_count": 36,
   "metadata": {},
   "outputs": [
    {
     "data": {
      "text/plain": [
       "array(['X', '1.0', '2.0', '3.0', '5.0', '4.0'], dtype=object)"
      ]
     },
     "execution_count": 36,
     "metadata": {},
     "output_type": "execute_result"
    }
   ],
   "source": [
    "df['EXHST_GAS_GRD_CD'].unique()"
   ]
  },
  {
   "cell_type": "code",
   "execution_count": 37,
   "metadata": {},
   "outputs": [],
   "source": [
    "df.loc[df['EXHST_GAS_GRD_CD'] == '1.0', 'EXHST_GAS_GRD_CD'] = '1'\n",
    "df.loc[df['EXHST_GAS_GRD_CD'] == '2.0', 'EXHST_GAS_GRD_CD'] = '2'\n",
    "df.loc[df['EXHST_GAS_GRD_CD'] == '3.0', 'EXHST_GAS_GRD_CD'] = '3'\n",
    "df.loc[df['EXHST_GAS_GRD_CD'] == '4.0', 'EXHST_GAS_GRD_CD'] = '4'\n",
    "df.loc[df['EXHST_GAS_GRD_CD'] == '5.0', 'EXHST_GAS_GRD_CD'] = '5'"
   ]
  },
  {
   "cell_type": "code",
   "execution_count": 38,
   "metadata": {},
   "outputs": [
    {
     "data": {
      "text/plain": [
       "EXHST_GAS_GRD_CD\n",
       "2    10944600\n",
       "3     8289254\n",
       "1     3141777\n",
       "4     1390160\n",
       "5      973920\n",
       "X      876119\n",
       "Name: count, dtype: int64"
      ]
     },
     "execution_count": 38,
     "metadata": {},
     "output_type": "execute_result"
    }
   ],
   "source": [
    "df['EXHST_GAS_GRD_CD'].value_counts(dropna=False)"
   ]
  },
  {
   "cell_type": "code",
   "execution_count": 39,
   "metadata": {},
   "outputs": [
    {
     "data": {
      "text/plain": [
       "array(['X', '1', '2', '3', '5', '4'], dtype=object)"
      ]
     },
     "execution_count": 39,
     "metadata": {},
     "output_type": "execute_result"
    }
   ],
   "source": [
    "df['EXHST_GAS_GRD_CD'].unique()"
   ]
  },
  {
   "cell_type": "code",
   "execution_count": 42,
   "metadata": {},
   "outputs": [
    {
     "data": {
      "text/plain": [
       "dtype('O')"
      ]
     },
     "execution_count": 42,
     "metadata": {},
     "output_type": "execute_result"
    }
   ],
   "source": [
    "df['EXHST_GAS_GRD_CD'].dtype"
   ]
  },
  {
   "cell_type": "code",
   "execution_count": 40,
   "metadata": {},
   "outputs": [],
   "source": [
    "# 1m 50s\n",
    "df.to_csv(os.path.join(sys_fold, 'STD_BD_CAR_CURSTT.csv'), index=False)"
   ]
  },
  {
   "cell_type": "code",
   "execution_count": null,
   "metadata": {},
   "outputs": [],
   "source": []
  }
 ],
 "metadata": {
  "kernelspec": {
   "display_name": "base",
   "language": "python",
   "name": "python3"
  },
  "language_info": {
   "codemirror_mode": {
    "name": "ipython",
    "version": 3
   },
   "file_extension": ".py",
   "mimetype": "text/x-python",
   "name": "python",
   "nbconvert_exporter": "python",
   "pygments_lexer": "ipython3",
   "version": "3.9.13"
  },
  "orig_nbformat": 4
 },
 "nbformat": 4,
 "nbformat_minor": 2
}
