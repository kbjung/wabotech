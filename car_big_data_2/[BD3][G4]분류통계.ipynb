{
 "cells": [
  {
   "attachments": {},
   "cell_type": "markdown",
   "metadata": {},
   "source": [
    "# Library"
   ]
  },
  {
   "cell_type": "code",
   "execution_count": 1,
   "metadata": {},
   "outputs": [],
   "source": [
    "import pandas as pd\n",
    "import numpy as np\n",
    "import os\n",
    "from tqdm import tqdm"
   ]
  },
  {
   "cell_type": "code",
   "execution_count": 45,
   "metadata": {},
   "outputs": [],
   "source": [
    "# 소수점 옵션\n",
    "pd.options.display.float_format = '{:.2f}'.format\n",
    "# pd.reset_option('display.float_format')"
   ]
  },
  {
   "attachments": {},
   "cell_type": "markdown",
   "metadata": {},
   "source": [
    "# 로드\n",
    "- 등록정보&제원정보(말소적용)\n",
    "- 저감장치 부착이력"
   ]
  },
  {
   "cell_type": "code",
   "execution_count": 2,
   "metadata": {},
   "outputs": [],
   "source": [
    "ods_fold = 'D:\\과업\\[한국환경공단]자동차_환경_빅데이터_구축_2차\\data\\ODS'"
   ]
  },
  {
   "cell_type": "code",
   "execution_count": 4,
   "metadata": {},
   "outputs": [],
   "source": [
    "# about 16s\n",
    "# 등록&제원 정보(말소적용)\n",
    "df = pd.read_csv(os.path.join(ods_fold, '[ODS][G4]등록정보&제원정보(말소적용)(2022.12.29).csv'), low_memory=False)\n",
    "# 저감장치 부착이력(중복 차대번호 처리)\n",
    "dpf = pd.read_csv(os.path.join(ods_fold, '[ODS]저감장치부착이력(중복차대처리)(한글컬럼)(2022.12.29).csv'), low_memory=False, encoding='cp949')"
   ]
  },
  {
   "cell_type": "code",
   "execution_count": 23,
   "metadata": {},
   "outputs": [],
   "source": [
    "# about 2s\n",
    "# 저감장치 부착이력\n",
    "raw_dpf = pd.read_csv(os.path.join(ods_fold, '[ODS]저감장치부착이력(한글컬럼)(2022.12.29).csv'), low_memory=False)"
   ]
  },
  {
   "attachments": {},
   "cell_type": "markdown",
   "metadata": {},
   "source": [
    "# [분석]"
   ]
  },
  {
   "cell_type": "code",
   "execution_count": 5,
   "metadata": {},
   "outputs": [
    {
     "name": "stdout",
     "output_type": "stream",
     "text": [
      "<class 'pandas.core.frame.DataFrame'>\n",
      "RangeIndex: 1511251 entries, 0 to 1511250\n",
      "Data columns (total 40 columns):\n",
      " #   Column       Non-Null Count    Dtype  \n",
      "---  ------       --------------    -----  \n",
      " 0   차량관리번호       1511251 non-null  object \n",
      " 1   차량등록번호       1511251 non-null  object \n",
      " 2   본거지법정동코드     1511251 non-null  int64  \n",
      " 3   소유자구분        1511251 non-null  object \n",
      " 4   차종_등록정보      1511249 non-null  object \n",
      " 5   용도           1511251 non-null  object \n",
      " 6   차대번호         1511251 non-null  object \n",
      " 7   최초등록일자       1511251 non-null  int64  \n",
      " 8   차량연식         1511251 non-null  int64  \n",
      " 9   차량제작일자       1342461 non-null  float64\n",
      " 10  배출가스검사유효일자   1511239 non-null  float64\n",
      " 11  제원관리번호       1511251 non-null  object \n",
      " 12  배출가스인증번호     1387542 non-null  object \n",
      " 13  배출가스등급       1511251 non-null  object \n",
      " 14  저공해조치종류      189 non-null      float64\n",
      " 15  저공해조치구조변경YN  1511251 non-null  object \n",
      " 16  차량말소YN       1511251 non-null  object \n",
      " 17  취득일자         1418010 non-null  object \n",
      " 18  취득금액         1436843 non-null  float64\n",
      " 19  차명           1511251 non-null  object \n",
      " 20  차종_제원정보      1511251 non-null  object \n",
      " 21  차종분류         1511251 non-null  object \n",
      " 22  차종유형         1511251 non-null  object \n",
      " 23  자동차형식        1510723 non-null  object \n",
      " 24  제작사명         1501221 non-null  object \n",
      " 25  연료           1511180 non-null  object \n",
      " 26  엔진형식         1509249 non-null  object \n",
      " 27  총중량          1511226 non-null  float64\n",
      " 28  적재중량         1510714 non-null  float64\n",
      " 29  엔진출력         1510623 non-null  float64\n",
      " 30  배기량          1511240 non-null  float64\n",
      " 31  승차인원         1511251 non-null  float64\n",
      " 32  차량길이         1511176 non-null  float64\n",
      " 33  차량너비         1511176 non-null  float64\n",
      " 34  차량높이         1511174 non-null  float64\n",
      " 35  원산지명         1492122 non-null  object \n",
      " 36  삭제YN         1511251 non-null  object \n",
      " 37  승인일자         1510704 non-null  object \n",
      " 38  구동형식         47 non-null       float64\n",
      " 39  변속기종류        1511091 non-null  object \n",
      "dtypes: float64(13), int64(3), object(24)\n",
      "memory usage: 461.2+ MB\n"
     ]
    }
   ],
   "source": [
    "df.info()"
   ]
  },
  {
   "cell_type": "code",
   "execution_count": 6,
   "metadata": {},
   "outputs": [
    {
     "data": {
      "text/plain": [
       "(1511251, 40)"
      ]
     },
     "execution_count": 6,
     "metadata": {},
     "output_type": "execute_result"
    }
   ],
   "source": [
    "df.shape"
   ]
  },
  {
   "cell_type": "code",
   "execution_count": 7,
   "metadata": {},
   "outputs": [
    {
     "name": "stdout",
     "output_type": "stream",
     "text": [
      "<class 'pandas.core.frame.DataFrame'>\n",
      "RangeIndex: 809255 entries, 0 to 809254\n",
      "Data columns (total 11 columns):\n",
      " #   Column      Non-Null Count   Dtype  \n",
      "---  ------      --------------   -----  \n",
      " 0   저감장치종류      585410 non-null  object \n",
      " 1   TDMS부착여부    204903 non-null  object \n",
      " 2   구조변경일자      809255 non-null  int64  \n",
      " 3   부착업체명       800321 non-null  object \n",
      " 4   부착일자        809254 non-null  float64\n",
      " 5   탈거승인일       169 non-null     float64\n",
      " 6   차량번호        809255 non-null  object \n",
      " 7   차대번호        809255 non-null  object \n",
      " 8   저감장치반납여부    324650 non-null  object \n",
      " 9   저감장치구분      809255 non-null  object \n",
      " 10  삼원촉매장치반납여부  13688 non-null   object \n",
      "dtypes: float64(2), int64(1), object(8)\n",
      "memory usage: 67.9+ MB\n"
     ]
    }
   ],
   "source": [
    "dpf.info()"
   ]
  },
  {
   "cell_type": "code",
   "execution_count": 8,
   "metadata": {},
   "outputs": [
    {
     "data": {
      "text/plain": [
       "(809255, 11)"
      ]
     },
     "execution_count": 8,
     "metadata": {},
     "output_type": "execute_result"
    }
   ],
   "source": [
    "dpf.shape"
   ]
  },
  {
   "cell_type": "code",
   "execution_count": 24,
   "metadata": {},
   "outputs": [
    {
     "name": "stdout",
     "output_type": "stream",
     "text": [
      "<class 'pandas.core.frame.DataFrame'>\n",
      "RangeIndex: 810777 entries, 0 to 810776\n",
      "Data columns (total 11 columns):\n",
      " #   Column      Non-Null Count   Dtype  \n",
      "---  ------      --------------   -----  \n",
      " 0   저감장치종류      586898 non-null  object \n",
      " 1   TDMS부착여부    204951 non-null  object \n",
      " 2   구조변경일자      810777 non-null  int64  \n",
      " 3   부착업체명       801632 non-null  object \n",
      " 4   부착일자        810775 non-null  float64\n",
      " 5   탈거승인일       178 non-null     float64\n",
      " 6   차량번호        810777 non-null  object \n",
      " 7   차대번호        810777 non-null  object \n",
      " 8   저감장치반납여부    326030 non-null  object \n",
      " 9   저감장치구분      810777 non-null  object \n",
      " 10  삼원촉매장치반납여부  13694 non-null   object \n",
      "dtypes: float64(2), int64(1), object(8)\n",
      "memory usage: 68.0+ MB\n"
     ]
    }
   ],
   "source": [
    "raw_dpf.info()"
   ]
  },
  {
   "cell_type": "code",
   "execution_count": 25,
   "metadata": {},
   "outputs": [
    {
     "data": {
      "text/plain": [
       "(810777, 11)"
      ]
     },
     "execution_count": 25,
     "metadata": {},
     "output_type": "execute_result"
    }
   ],
   "source": [
    "raw_dpf.shape"
   ]
  },
  {
   "attachments": {},
   "cell_type": "markdown",
   "metadata": {},
   "source": [
    "## 차대번호 기준 병합"
   ]
  },
  {
   "cell_type": "code",
   "execution_count": 9,
   "metadata": {},
   "outputs": [
    {
     "data": {
      "text/plain": [
       "(1511251, 50)"
      ]
     },
     "execution_count": 9,
     "metadata": {},
     "output_type": "execute_result"
    }
   ],
   "source": [
    "total = df.merge(dpf, on='차대번호', how='left')\n",
    "total.shape"
   ]
  },
  {
   "cell_type": "code",
   "execution_count": 11,
   "metadata": {},
   "outputs": [
    {
     "data": {
      "text/plain": [
       "1511215"
      ]
     },
     "execution_count": 11,
     "metadata": {},
     "output_type": "execute_result"
    }
   ],
   "source": [
    "total['구조변경일자'].isnull().sum()"
   ]
  },
  {
   "cell_type": "code",
   "execution_count": 39,
   "metadata": {},
   "outputs": [
    {
     "data": {
      "text/plain": [
       "(1511251, 50)"
      ]
     },
     "execution_count": 39,
     "metadata": {},
     "output_type": "execute_result"
    }
   ],
   "source": [
    "raw_total = df.merge(raw_dpf, on='차대번호', how='left')\n",
    "raw_total.shape"
   ]
  },
  {
   "attachments": {},
   "cell_type": "markdown",
   "metadata": {},
   "source": [
    "## 저감 데이터에서 등록&제원 데이터와 매칭되지 않은 차대번호 샘플"
   ]
  },
  {
   "cell_type": "code",
   "execution_count": 33,
   "metadata": {},
   "outputs": [
    {
     "data": {
      "text/plain": [
       "809219"
      ]
     },
     "execution_count": 33,
     "metadata": {},
     "output_type": "execute_result"
    }
   ],
   "source": [
    "miss_match_vin = list(set(dpf['차대번호']) - set(df['차대번호']))\n",
    "len(miss_match_vin)"
   ]
  },
  {
   "cell_type": "code",
   "execution_count": 34,
   "metadata": {},
   "outputs": [
    {
     "data": {
      "text/plain": [
       "36"
      ]
     },
     "execution_count": 34,
     "metadata": {},
     "output_type": "execute_result"
    }
   ],
   "source": [
    "match_vin = list(set(dpf['차대번호']) & set(df['차대번호']))\n",
    "len(match_vin)"
   ]
  },
  {
   "cell_type": "code",
   "execution_count": 35,
   "metadata": {},
   "outputs": [
    {
     "data": {
      "text/plain": [
       "['KMFGA17HP8C076574',\n",
       " 'KMFGA17HP8C075775',\n",
       " 'KMHSJ81WP7U231639',\n",
       " 'KMHSJ81WP7U204822',\n",
       " 'KMFLA18KP8C028113',\n",
       " 'KL5UY61YD7P000752',\n",
       " 'KL3K9ARF57K000004',\n",
       " 'KMFGA17HP8C081531',\n",
       " 'KMHSJ81VP8U235201',\n",
       " 'KMHSJ81WP7U220194',\n",
       " 'KMHSJ81VP8U267989',\n",
       " 'KL5UY61YD7P000720',\n",
       " 'KMHSH81WP7U191739',\n",
       " 'KMHSH81WP7U251766',\n",
       " 'KNCSE01428K330851',\n",
       " 'KMHSJ81WP7U200814',\n",
       " 'KPACA4AB18P039175',\n",
       " 'KMJHD17HP8C000170',\n",
       " 'KMFGA17HP8C098864',\n",
       " 'KNCSE03428K344383',\n",
       " 'KMFGA17HP8C076943',\n",
       " 'KMFLA18KP8C028034',\n",
       " 'KNCSJZ74AAK432404',\n",
       " 'KMHSJ81WP7U186356',\n",
       " 'KMFGA17HP8C076295',\n",
       " 'KMHSH81VP8U267598',\n",
       " 'KMFGA17HP8C094884',\n",
       " 'KMJHD17PP7C036961',\n",
       " 'KL5UY61YD7P000894',\n",
       " 'KL3K9ARF18K000823',\n",
       " 'KL5UY61YD7P000803',\n",
       " 'KPACA4AB18P035816',\n",
       " 'KMFGA17HP8C086533',\n",
       " 'KMJHD17PP7C034127',\n",
       " 'KMFGA17HP8C075927',\n",
       " 'KL3C6CHF18K003487']"
      ]
     },
     "execution_count": 35,
     "metadata": {},
     "output_type": "execute_result"
    }
   ],
   "source": [
    "match_vin"
   ]
  },
  {
   "cell_type": "code",
   "execution_count": 36,
   "metadata": {},
   "outputs": [
    {
     "name": "stderr",
     "output_type": "stream",
     "text": [
      "100%|██████████| 36/36 [00:01<00:00, 22.36it/s]\n"
     ]
    },
    {
     "data": {
      "text/plain": [
       "(36, 11)"
      ]
     },
     "execution_count": 36,
     "metadata": {},
     "output_type": "execute_result"
    }
   ],
   "source": [
    "match_dpf = pd.DataFrame()\n",
    "for one in tqdm(match_vin):\n",
    "    temp = raw_dpf[raw_dpf['차대번호'] == one]\n",
    "    match_dpf = pd.concat([match_dpf, temp], ignore_index=True)\n",
    "match_dpf.shape"
   ]
  },
  {
   "cell_type": "code",
   "execution_count": 37,
   "metadata": {},
   "outputs": [
    {
     "data": {
      "text/html": [
       "<div>\n",
       "<style scoped>\n",
       "    .dataframe tbody tr th:only-of-type {\n",
       "        vertical-align: middle;\n",
       "    }\n",
       "\n",
       "    .dataframe tbody tr th {\n",
       "        vertical-align: top;\n",
       "    }\n",
       "\n",
       "    .dataframe thead th {\n",
       "        text-align: right;\n",
       "    }\n",
       "</style>\n",
       "<table border=\"1\" class=\"dataframe\">\n",
       "  <thead>\n",
       "    <tr style=\"text-align: right;\">\n",
       "      <th></th>\n",
       "      <th>저감장치종류</th>\n",
       "      <th>TDMS부착여부</th>\n",
       "      <th>구조변경일자</th>\n",
       "      <th>부착업체명</th>\n",
       "      <th>부착일자</th>\n",
       "      <th>탈거승인일</th>\n",
       "      <th>차량번호</th>\n",
       "      <th>차대번호</th>\n",
       "      <th>저감장치반납여부</th>\n",
       "      <th>저감장치구분</th>\n",
       "      <th>삼원촉매장치반납여부</th>\n",
       "    </tr>\n",
       "  </thead>\n",
       "  <tbody>\n",
       "    <tr>\n",
       "      <th>35</th>\n",
       "      <td>복합대형</td>\n",
       "      <td>N</td>\n",
       "      <td>20191216</td>\n",
       "      <td>㈜주왕</td>\n",
       "      <td>20191216.0</td>\n",
       "      <td>NaN</td>\n",
       "      <td>충남80아2361</td>\n",
       "      <td>KL3C6CHF18K003487</td>\n",
       "      <td>NaN</td>\n",
       "      <td>1종</td>\n",
       "      <td>NaN</td>\n",
       "    </tr>\n",
       "    <tr>\n",
       "      <th>29</th>\n",
       "      <td>자연대형</td>\n",
       "      <td>N</td>\n",
       "      <td>20191011</td>\n",
       "      <td>(주)명성테크</td>\n",
       "      <td>20191011.0</td>\n",
       "      <td>NaN</td>\n",
       "      <td>부산91아2052</td>\n",
       "      <td>KL3K9ARF18K000823</td>\n",
       "      <td>NaN</td>\n",
       "      <td>1종</td>\n",
       "      <td>NaN</td>\n",
       "    </tr>\n",
       "    <tr>\n",
       "      <th>6</th>\n",
       "      <td>자연대형+SCR</td>\n",
       "      <td>N</td>\n",
       "      <td>20190927</td>\n",
       "      <td>(주)서천제일자동차공업사</td>\n",
       "      <td>20190927.0</td>\n",
       "      <td>NaN</td>\n",
       "      <td>서울87아7110</td>\n",
       "      <td>KL3K9ARF57K000004</td>\n",
       "      <td>NaN</td>\n",
       "      <td>1종+SCR</td>\n",
       "      <td>NaN</td>\n",
       "    </tr>\n",
       "    <tr>\n",
       "      <th>11</th>\n",
       "      <td>복합대형</td>\n",
       "      <td>N</td>\n",
       "      <td>20160126</td>\n",
       "      <td>북항자동차정비검사소</td>\n",
       "      <td>20160126.0</td>\n",
       "      <td>NaN</td>\n",
       "      <td>서울74바1057</td>\n",
       "      <td>KL5UY61YD7P000720</td>\n",
       "      <td>NaN</td>\n",
       "      <td>1종</td>\n",
       "      <td>NaN</td>\n",
       "    </tr>\n",
       "    <tr>\n",
       "      <th>5</th>\n",
       "      <td>자연대형+SCR</td>\n",
       "      <td>N</td>\n",
       "      <td>20160826</td>\n",
       "      <td>형제자동차공업사(부천)</td>\n",
       "      <td>20160826.0</td>\n",
       "      <td>NaN</td>\n",
       "      <td>인천73바9377</td>\n",
       "      <td>KL5UY61YD7P000752</td>\n",
       "      <td>NaN</td>\n",
       "      <td>1종+SCR</td>\n",
       "      <td>NaN</td>\n",
       "    </tr>\n",
       "    <tr>\n",
       "      <th>30</th>\n",
       "      <td>복합대형</td>\n",
       "      <td>N</td>\n",
       "      <td>20160127</td>\n",
       "      <td>북항자동차정비검사소</td>\n",
       "      <td>20160127.0</td>\n",
       "      <td>NaN</td>\n",
       "      <td>서울72바8684</td>\n",
       "      <td>KL5UY61YD7P000803</td>\n",
       "      <td>NaN</td>\n",
       "      <td>1종</td>\n",
       "      <td>NaN</td>\n",
       "    </tr>\n",
       "    <tr>\n",
       "      <th>28</th>\n",
       "      <td>복합대형</td>\n",
       "      <td>N</td>\n",
       "      <td>20160310</td>\n",
       "      <td>한라자동차정비㈜</td>\n",
       "      <td>20160310.0</td>\n",
       "      <td>NaN</td>\n",
       "      <td>71구1475</td>\n",
       "      <td>KL5UY61YD7P000894</td>\n",
       "      <td>NaN</td>\n",
       "      <td>1종</td>\n",
       "      <td>NaN</td>\n",
       "    </tr>\n",
       "    <tr>\n",
       "      <th>1</th>\n",
       "      <td>복합중형</td>\n",
       "      <td>NaN</td>\n",
       "      <td>20111126</td>\n",
       "      <td>삼정자동차정비㈜</td>\n",
       "      <td>20111126.0</td>\n",
       "      <td>NaN</td>\n",
       "      <td>인천82바1830</td>\n",
       "      <td>KMFGA17HP8C075775</td>\n",
       "      <td>NaN</td>\n",
       "      <td>1종</td>\n",
       "      <td>NaN</td>\n",
       "    </tr>\n",
       "    <tr>\n",
       "      <th>34</th>\n",
       "      <td>복합중형</td>\n",
       "      <td>NaN</td>\n",
       "      <td>20101022</td>\n",
       "      <td>㈜영남중공업</td>\n",
       "      <td>20101022.0</td>\n",
       "      <td>NaN</td>\n",
       "      <td>서울81사6991</td>\n",
       "      <td>KMFGA17HP8C075927</td>\n",
       "      <td>NaN</td>\n",
       "      <td>1종</td>\n",
       "      <td>NaN</td>\n",
       "    </tr>\n",
       "    <tr>\n",
       "      <th>24</th>\n",
       "      <td>복합중형</td>\n",
       "      <td>N</td>\n",
       "      <td>20181114</td>\n",
       "      <td>(주)현대자동차블루핸즈서인천서비스</td>\n",
       "      <td>20181114.0</td>\n",
       "      <td>NaN</td>\n",
       "      <td>인천83바4554</td>\n",
       "      <td>KMFGA17HP8C076295</td>\n",
       "      <td>NaN</td>\n",
       "      <td>1종</td>\n",
       "      <td>NaN</td>\n",
       "    </tr>\n",
       "    <tr>\n",
       "      <th>0</th>\n",
       "      <td>복합중형</td>\n",
       "      <td>N</td>\n",
       "      <td>20150508</td>\n",
       "      <td>(주)하나자동차공업사</td>\n",
       "      <td>20150508.0</td>\n",
       "      <td>NaN</td>\n",
       "      <td>경기89바9899</td>\n",
       "      <td>KMFGA17HP8C076574</td>\n",
       "      <td>NaN</td>\n",
       "      <td>1종</td>\n",
       "      <td>NaN</td>\n",
       "    </tr>\n",
       "    <tr>\n",
       "      <th>20</th>\n",
       "      <td>복합중형</td>\n",
       "      <td>NaN</td>\n",
       "      <td>20111110</td>\n",
       "      <td>중랑자동차공업(주)</td>\n",
       "      <td>20111110.0</td>\n",
       "      <td>NaN</td>\n",
       "      <td>80러6427</td>\n",
       "      <td>KMFGA17HP8C076943</td>\n",
       "      <td>NaN</td>\n",
       "      <td>1종</td>\n",
       "      <td>NaN</td>\n",
       "    </tr>\n",
       "    <tr>\n",
       "      <th>7</th>\n",
       "      <td>중형</td>\n",
       "      <td>NaN</td>\n",
       "      <td>20110128</td>\n",
       "      <td>한국자동차검사정비㈜(의정부)</td>\n",
       "      <td>20110128.0</td>\n",
       "      <td>NaN</td>\n",
       "      <td>92어7771</td>\n",
       "      <td>KMFGA17HP8C081531</td>\n",
       "      <td>NaN</td>\n",
       "      <td>2종</td>\n",
       "      <td>NaN</td>\n",
       "    </tr>\n",
       "    <tr>\n",
       "      <th>32</th>\n",
       "      <td>중형</td>\n",
       "      <td>NaN</td>\n",
       "      <td>20110303</td>\n",
       "      <td>용광자동차공업사(도봉구)</td>\n",
       "      <td>20110303.0</td>\n",
       "      <td>NaN</td>\n",
       "      <td>경기95자9864</td>\n",
       "      <td>KMFGA17HP8C086533</td>\n",
       "      <td>NaN</td>\n",
       "      <td>2종</td>\n",
       "      <td>NaN</td>\n",
       "    </tr>\n",
       "    <tr>\n",
       "      <th>26</th>\n",
       "      <td>복합중형</td>\n",
       "      <td>NaN</td>\n",
       "      <td>20110714</td>\n",
       "      <td>(주)우성특장</td>\n",
       "      <td>20110714.0</td>\n",
       "      <td>NaN</td>\n",
       "      <td>경기89바9956</td>\n",
       "      <td>KMFGA17HP8C094884</td>\n",
       "      <td>NaN</td>\n",
       "      <td>1종</td>\n",
       "      <td>NaN</td>\n",
       "    </tr>\n",
       "    <tr>\n",
       "      <th>18</th>\n",
       "      <td>복합중형</td>\n",
       "      <td>NaN</td>\n",
       "      <td>20110325</td>\n",
       "      <td>성석현대자동차공업사</td>\n",
       "      <td>20110325.0</td>\n",
       "      <td>NaN</td>\n",
       "      <td>경기87바2214</td>\n",
       "      <td>KMFGA17HP8C098864</td>\n",
       "      <td>NaN</td>\n",
       "      <td>1종</td>\n",
       "      <td>NaN</td>\n",
       "    </tr>\n",
       "    <tr>\n",
       "      <th>21</th>\n",
       "      <td>복합대형</td>\n",
       "      <td>N</td>\n",
       "      <td>20170324</td>\n",
       "      <td>(주)하나자동차공업사</td>\n",
       "      <td>20170324.0</td>\n",
       "      <td>NaN</td>\n",
       "      <td>81구1430</td>\n",
       "      <td>KMFLA18KP8C028034</td>\n",
       "      <td>NaN</td>\n",
       "      <td>1종</td>\n",
       "      <td>NaN</td>\n",
       "    </tr>\n",
       "    <tr>\n",
       "      <th>4</th>\n",
       "      <td>복합대형</td>\n",
       "      <td>N</td>\n",
       "      <td>20190312</td>\n",
       "      <td>주식회사주왕</td>\n",
       "      <td>20190312.0</td>\n",
       "      <td>NaN</td>\n",
       "      <td>서울90바1099</td>\n",
       "      <td>KMFLA18KP8C028113</td>\n",
       "      <td>NaN</td>\n",
       "      <td>1종</td>\n",
       "      <td>NaN</td>\n",
       "    </tr>\n",
       "    <tr>\n",
       "      <th>25</th>\n",
       "      <td>복합소형</td>\n",
       "      <td>N</td>\n",
       "      <td>20200207</td>\n",
       "      <td>(주)신세기자동차정비검사소</td>\n",
       "      <td>20200207.0</td>\n",
       "      <td>NaN</td>\n",
       "      <td>34어8742</td>\n",
       "      <td>KMHSH81VP8U267598</td>\n",
       "      <td>NaN</td>\n",
       "      <td>1종</td>\n",
       "      <td>NaN</td>\n",
       "    </tr>\n",
       "    <tr>\n",
       "      <th>12</th>\n",
       "      <td>복합소형</td>\n",
       "      <td>N</td>\n",
       "      <td>20190704</td>\n",
       "      <td>(주)뉴종합1급공업사</td>\n",
       "      <td>20190704.0</td>\n",
       "      <td>NaN</td>\n",
       "      <td>57무6009</td>\n",
       "      <td>KMHSH81WP7U191739</td>\n",
       "      <td>NaN</td>\n",
       "      <td>1종</td>\n",
       "      <td>NaN</td>\n",
       "    </tr>\n",
       "    <tr>\n",
       "      <th>13</th>\n",
       "      <td>복합소형</td>\n",
       "      <td>N</td>\n",
       "      <td>20191127</td>\n",
       "      <td>울산북구모터스</td>\n",
       "      <td>20191127.0</td>\n",
       "      <td>NaN</td>\n",
       "      <td>68우7843</td>\n",
       "      <td>KMHSH81WP7U251766</td>\n",
       "      <td>NaN</td>\n",
       "      <td>1종</td>\n",
       "      <td>NaN</td>\n",
       "    </tr>\n",
       "    <tr>\n",
       "      <th>8</th>\n",
       "      <td>복합소형</td>\n",
       "      <td>N</td>\n",
       "      <td>20200211</td>\n",
       "      <td>(주)명성테크</td>\n",
       "      <td>20200211.0</td>\n",
       "      <td>NaN</td>\n",
       "      <td>56나2450</td>\n",
       "      <td>KMHSJ81VP8U235201</td>\n",
       "      <td>NaN</td>\n",
       "      <td>1종</td>\n",
       "      <td>NaN</td>\n",
       "    </tr>\n",
       "    <tr>\n",
       "      <th>10</th>\n",
       "      <td>복합소형</td>\n",
       "      <td>N</td>\n",
       "      <td>20191113</td>\n",
       "      <td>(주)사상오토월드정비</td>\n",
       "      <td>20191113.0</td>\n",
       "      <td>NaN</td>\n",
       "      <td>12어8002</td>\n",
       "      <td>KMHSJ81VP8U267989</td>\n",
       "      <td>NaN</td>\n",
       "      <td>1종</td>\n",
       "      <td>NaN</td>\n",
       "    </tr>\n",
       "    <tr>\n",
       "      <th>23</th>\n",
       "      <td>복합소형</td>\n",
       "      <td>N</td>\n",
       "      <td>20191129</td>\n",
       "      <td>(주)주왕</td>\n",
       "      <td>20191129.0</td>\n",
       "      <td>NaN</td>\n",
       "      <td>39주3386</td>\n",
       "      <td>KMHSJ81WP7U186356</td>\n",
       "      <td>NaN</td>\n",
       "      <td>1종</td>\n",
       "      <td>NaN</td>\n",
       "    </tr>\n",
       "    <tr>\n",
       "      <th>15</th>\n",
       "      <td>복합소형</td>\n",
       "      <td>N</td>\n",
       "      <td>20191204</td>\n",
       "      <td>포천자동차검사소주식회사</td>\n",
       "      <td>20191204.0</td>\n",
       "      <td>NaN</td>\n",
       "      <td>10수2968</td>\n",
       "      <td>KMHSJ81WP7U200814</td>\n",
       "      <td>NaN</td>\n",
       "      <td>1종</td>\n",
       "      <td>NaN</td>\n",
       "    </tr>\n",
       "    <tr>\n",
       "      <th>3</th>\n",
       "      <td>복합소형</td>\n",
       "      <td>N</td>\n",
       "      <td>20191018</td>\n",
       "      <td>(주)서천제일자동차공업사</td>\n",
       "      <td>20191018.0</td>\n",
       "      <td>NaN</td>\n",
       "      <td>52너6031</td>\n",
       "      <td>KMHSJ81WP7U204822</td>\n",
       "      <td>NaN</td>\n",
       "      <td>1종</td>\n",
       "      <td>NaN</td>\n",
       "    </tr>\n",
       "    <tr>\n",
       "      <th>9</th>\n",
       "      <td>복합소형</td>\n",
       "      <td>N</td>\n",
       "      <td>20190905</td>\n",
       "      <td>거성모터스</td>\n",
       "      <td>20190905.0</td>\n",
       "      <td>NaN</td>\n",
       "      <td>19소9407</td>\n",
       "      <td>KMHSJ81WP7U220194</td>\n",
       "      <td>NaN</td>\n",
       "      <td>1종</td>\n",
       "      <td>NaN</td>\n",
       "    </tr>\n",
       "    <tr>\n",
       "      <th>2</th>\n",
       "      <td>복합소형</td>\n",
       "      <td>N</td>\n",
       "      <td>20191113</td>\n",
       "      <td>1급유성오토모빌</td>\n",
       "      <td>20191113.0</td>\n",
       "      <td>NaN</td>\n",
       "      <td>22모7311</td>\n",
       "      <td>KMHSJ81WP7U231639</td>\n",
       "      <td>NaN</td>\n",
       "      <td>1종</td>\n",
       "      <td>NaN</td>\n",
       "    </tr>\n",
       "    <tr>\n",
       "      <th>17</th>\n",
       "      <td>복합중형</td>\n",
       "      <td>N</td>\n",
       "      <td>20160810</td>\n",
       "      <td>(주)주왕</td>\n",
       "      <td>20160810.0</td>\n",
       "      <td>NaN</td>\n",
       "      <td>71가1414</td>\n",
       "      <td>KMJHD17HP8C000170</td>\n",
       "      <td>NaN</td>\n",
       "      <td>1종</td>\n",
       "      <td>NaN</td>\n",
       "    </tr>\n",
       "    <tr>\n",
       "      <th>33</th>\n",
       "      <td>복합중형</td>\n",
       "      <td>N</td>\n",
       "      <td>20200203</td>\n",
       "      <td>포천자동차검사소주식회사</td>\n",
       "      <td>20200203.0</td>\n",
       "      <td>NaN</td>\n",
       "      <td>72다4556</td>\n",
       "      <td>KMJHD17PP7C034127</td>\n",
       "      <td>NaN</td>\n",
       "      <td>1종</td>\n",
       "      <td>NaN</td>\n",
       "    </tr>\n",
       "    <tr>\n",
       "      <th>27</th>\n",
       "      <td>복합중형</td>\n",
       "      <td>N</td>\n",
       "      <td>20140625</td>\n",
       "      <td>(주)하나자동차공업사</td>\n",
       "      <td>20140625.0</td>\n",
       "      <td>NaN</td>\n",
       "      <td>77조1079</td>\n",
       "      <td>KMJHD17PP7C036961</td>\n",
       "      <td>NaN</td>\n",
       "      <td>1종</td>\n",
       "      <td>NaN</td>\n",
       "    </tr>\n",
       "    <tr>\n",
       "      <th>14</th>\n",
       "      <td>복합소형</td>\n",
       "      <td>N</td>\n",
       "      <td>20190807</td>\n",
       "      <td>한일1급정비공장</td>\n",
       "      <td>20190807.0</td>\n",
       "      <td>NaN</td>\n",
       "      <td>85루3603</td>\n",
       "      <td>KNCSE01428K330851</td>\n",
       "      <td>NaN</td>\n",
       "      <td>1종</td>\n",
       "      <td>NaN</td>\n",
       "    </tr>\n",
       "    <tr>\n",
       "      <th>19</th>\n",
       "      <td>복합소형</td>\n",
       "      <td>N</td>\n",
       "      <td>20191015</td>\n",
       "      <td>주식회사 선경자동차써비스</td>\n",
       "      <td>20191015.0</td>\n",
       "      <td>NaN</td>\n",
       "      <td>80수9715</td>\n",
       "      <td>KNCSE03428K344383</td>\n",
       "      <td>NaN</td>\n",
       "      <td>1종</td>\n",
       "      <td>NaN</td>\n",
       "    </tr>\n",
       "    <tr>\n",
       "      <th>22</th>\n",
       "      <td>복합소형</td>\n",
       "      <td>N</td>\n",
       "      <td>20200203</td>\n",
       "      <td>인선모터스</td>\n",
       "      <td>20200203.0</td>\n",
       "      <td>NaN</td>\n",
       "      <td>경기87배1653</td>\n",
       "      <td>KNCSJZ74AAK432404</td>\n",
       "      <td>NaN</td>\n",
       "      <td>1종</td>\n",
       "      <td>NaN</td>\n",
       "    </tr>\n",
       "    <tr>\n",
       "      <th>31</th>\n",
       "      <td>복합소형</td>\n",
       "      <td>N</td>\n",
       "      <td>20191118</td>\n",
       "      <td>쌍용자동차서수원사업소(주)</td>\n",
       "      <td>20191118.0</td>\n",
       "      <td>NaN</td>\n",
       "      <td>89다9056</td>\n",
       "      <td>KPACA4AB18P035816</td>\n",
       "      <td>NaN</td>\n",
       "      <td>1종</td>\n",
       "      <td>NaN</td>\n",
       "    </tr>\n",
       "    <tr>\n",
       "      <th>16</th>\n",
       "      <td>복합소형</td>\n",
       "      <td>N</td>\n",
       "      <td>20200116</td>\n",
       "      <td>㈜쌍용자동차평택정비사업</td>\n",
       "      <td>20200116.0</td>\n",
       "      <td>NaN</td>\n",
       "      <td>89구1102</td>\n",
       "      <td>KPACA4AB18P039175</td>\n",
       "      <td>NaN</td>\n",
       "      <td>1종</td>\n",
       "      <td>NaN</td>\n",
       "    </tr>\n",
       "  </tbody>\n",
       "</table>\n",
       "</div>"
      ],
      "text/plain": [
       "      저감장치종류 TDMS부착여부    구조변경일자               부착업체명        부착일자  탈거승인일  \\\n",
       "35      복합대형        N  20191216                 ㈜주왕  20191216.0    NaN   \n",
       "29      자연대형        N  20191011             (주)명성테크  20191011.0    NaN   \n",
       "6   자연대형+SCR        N  20190927       (주)서천제일자동차공업사  20190927.0    NaN   \n",
       "11      복합대형        N  20160126          북항자동차정비검사소  20160126.0    NaN   \n",
       "5   자연대형+SCR        N  20160826        형제자동차공업사(부천)  20160826.0    NaN   \n",
       "30      복합대형        N  20160127          북항자동차정비검사소  20160127.0    NaN   \n",
       "28      복합대형        N  20160310            한라자동차정비㈜  20160310.0    NaN   \n",
       "1       복합중형      NaN  20111126            삼정자동차정비㈜  20111126.0    NaN   \n",
       "34      복합중형      NaN  20101022              ㈜영남중공업  20101022.0    NaN   \n",
       "24      복합중형        N  20181114  (주)현대자동차블루핸즈서인천서비스  20181114.0    NaN   \n",
       "0       복합중형        N  20150508         (주)하나자동차공업사  20150508.0    NaN   \n",
       "20      복합중형      NaN  20111110          중랑자동차공업(주)  20111110.0    NaN   \n",
       "7         중형      NaN  20110128     한국자동차검사정비㈜(의정부)  20110128.0    NaN   \n",
       "32        중형      NaN  20110303       용광자동차공업사(도봉구)  20110303.0    NaN   \n",
       "26      복합중형      NaN  20110714             (주)우성특장  20110714.0    NaN   \n",
       "18      복합중형      NaN  20110325          성석현대자동차공업사  20110325.0    NaN   \n",
       "21      복합대형        N  20170324         (주)하나자동차공업사  20170324.0    NaN   \n",
       "4       복합대형        N  20190312              주식회사주왕  20190312.0    NaN   \n",
       "25      복합소형        N  20200207      (주)신세기자동차정비검사소  20200207.0    NaN   \n",
       "12      복합소형        N  20190704         (주)뉴종합1급공업사  20190704.0    NaN   \n",
       "13      복합소형        N  20191127             울산북구모터스  20191127.0    NaN   \n",
       "8       복합소형        N  20200211             (주)명성테크  20200211.0    NaN   \n",
       "10      복합소형        N  20191113         (주)사상오토월드정비  20191113.0    NaN   \n",
       "23      복합소형        N  20191129               (주)주왕  20191129.0    NaN   \n",
       "15      복합소형        N  20191204        포천자동차검사소주식회사  20191204.0    NaN   \n",
       "3       복합소형        N  20191018       (주)서천제일자동차공업사  20191018.0    NaN   \n",
       "9       복합소형        N  20190905               거성모터스  20190905.0    NaN   \n",
       "2       복합소형        N  20191113            1급유성오토모빌  20191113.0    NaN   \n",
       "17      복합중형        N  20160810               (주)주왕  20160810.0    NaN   \n",
       "33      복합중형        N  20200203        포천자동차검사소주식회사  20200203.0    NaN   \n",
       "27      복합중형        N  20140625         (주)하나자동차공업사  20140625.0    NaN   \n",
       "14      복합소형        N  20190807            한일1급정비공장  20190807.0    NaN   \n",
       "19      복합소형        N  20191015       주식회사 선경자동차써비스  20191015.0    NaN   \n",
       "22      복합소형        N  20200203               인선모터스  20200203.0    NaN   \n",
       "31      복합소형        N  20191118      쌍용자동차서수원사업소(주)  20191118.0    NaN   \n",
       "16      복합소형        N  20200116        ㈜쌍용자동차평택정비사업  20200116.0    NaN   \n",
       "\n",
       "         차량번호               차대번호 저감장치반납여부  저감장치구분 삼원촉매장치반납여부  \n",
       "35  충남80아2361  KL3C6CHF18K003487      NaN      1종        NaN  \n",
       "29  부산91아2052  KL3K9ARF18K000823      NaN      1종        NaN  \n",
       "6   서울87아7110  KL3K9ARF57K000004      NaN  1종+SCR        NaN  \n",
       "11  서울74바1057  KL5UY61YD7P000720      NaN      1종        NaN  \n",
       "5   인천73바9377  KL5UY61YD7P000752      NaN  1종+SCR        NaN  \n",
       "30  서울72바8684  KL5UY61YD7P000803      NaN      1종        NaN  \n",
       "28    71구1475  KL5UY61YD7P000894      NaN      1종        NaN  \n",
       "1   인천82바1830  KMFGA17HP8C075775      NaN      1종        NaN  \n",
       "34  서울81사6991  KMFGA17HP8C075927      NaN      1종        NaN  \n",
       "24  인천83바4554  KMFGA17HP8C076295      NaN      1종        NaN  \n",
       "0   경기89바9899  KMFGA17HP8C076574      NaN      1종        NaN  \n",
       "20    80러6427  KMFGA17HP8C076943      NaN      1종        NaN  \n",
       "7     92어7771  KMFGA17HP8C081531      NaN      2종        NaN  \n",
       "32  경기95자9864  KMFGA17HP8C086533      NaN      2종        NaN  \n",
       "26  경기89바9956  KMFGA17HP8C094884      NaN      1종        NaN  \n",
       "18  경기87바2214  KMFGA17HP8C098864      NaN      1종        NaN  \n",
       "21    81구1430  KMFLA18KP8C028034      NaN      1종        NaN  \n",
       "4   서울90바1099  KMFLA18KP8C028113      NaN      1종        NaN  \n",
       "25    34어8742  KMHSH81VP8U267598      NaN      1종        NaN  \n",
       "12    57무6009  KMHSH81WP7U191739      NaN      1종        NaN  \n",
       "13    68우7843  KMHSH81WP7U251766      NaN      1종        NaN  \n",
       "8     56나2450  KMHSJ81VP8U235201      NaN      1종        NaN  \n",
       "10    12어8002  KMHSJ81VP8U267989      NaN      1종        NaN  \n",
       "23    39주3386  KMHSJ81WP7U186356      NaN      1종        NaN  \n",
       "15    10수2968  KMHSJ81WP7U200814      NaN      1종        NaN  \n",
       "3     52너6031  KMHSJ81WP7U204822      NaN      1종        NaN  \n",
       "9     19소9407  KMHSJ81WP7U220194      NaN      1종        NaN  \n",
       "2     22모7311  KMHSJ81WP7U231639      NaN      1종        NaN  \n",
       "17    71가1414  KMJHD17HP8C000170      NaN      1종        NaN  \n",
       "33    72다4556  KMJHD17PP7C034127      NaN      1종        NaN  \n",
       "27    77조1079  KMJHD17PP7C036961      NaN      1종        NaN  \n",
       "14    85루3603  KNCSE01428K330851      NaN      1종        NaN  \n",
       "19    80수9715  KNCSE03428K344383      NaN      1종        NaN  \n",
       "22  경기87배1653  KNCSJZ74AAK432404      NaN      1종        NaN  \n",
       "31    89다9056  KPACA4AB18P035816      NaN      1종        NaN  \n",
       "16    89구1102  KPACA4AB18P039175      NaN      1종        NaN  "
      ]
     },
     "execution_count": 37,
     "metadata": {},
     "output_type": "execute_result"
    }
   ],
   "source": [
    "match_dpf.sort_values(['차대번호', '구조변경일자', '부착일자'])"
   ]
  },
  {
   "cell_type": "code",
   "execution_count": 41,
   "metadata": {},
   "outputs": [
    {
     "data": {
      "text/plain": [
       "(36, 11)"
      ]
     },
     "execution_count": 41,
     "metadata": {},
     "output_type": "execute_result"
    }
   ],
   "source": [
    "match_dpf.shape"
   ]
  },
  {
   "cell_type": "code",
   "execution_count": 38,
   "metadata": {},
   "outputs": [
    {
     "data": {
      "text/plain": [
       "0"
      ]
     },
     "execution_count": 38,
     "metadata": {},
     "output_type": "execute_result"
    }
   ],
   "source": [
    "match_dpf.duplicated('차대번호').sum()"
   ]
  },
  {
   "attachments": {},
   "cell_type": "markdown",
   "metadata": {},
   "source": [
    "### [출력] 매칭되는 차대번호 샘플"
   ]
  },
  {
   "cell_type": "code",
   "execution_count": 40,
   "metadata": {},
   "outputs": [],
   "source": [
    "match_dpf.sort_values(['차대번호', '구조변경일자', '부착일자']).to_excel('analysis2/[BD3][G4][통계]저감장치부착이력_등록&제원정보_매칭_차대번호_샘플(말소적용).xlsx', index=False)"
   ]
  },
  {
   "attachments": {},
   "cell_type": "markdown",
   "metadata": {},
   "source": [
    "## 분류 통계\n",
    "- 중복 차대번호 제거\n",
    "    - 최초등록일자, 배출가스검사유효일자 : 최신순(ascending=False)\n",
    "- 분류\n",
    "    - 연료 : 휘발유가스, 경유\n",
    "    - 차량제작일자\n",
    "    - 구조변경일자 여부"
   ]
  },
  {
   "cell_type": "code",
   "execution_count": 42,
   "metadata": {},
   "outputs": [
    {
     "data": {
      "text/plain": [
       "Index(['차량관리번호', '차량등록번호', '본거지법정동코드', '소유자구분', '차종_등록정보', '용도', '차대번호',\n",
       "       '최초등록일자', '차량연식', '차량제작일자', '배출가스검사유효일자', '제원관리번호', '배출가스인증번호',\n",
       "       '배출가스등급', '저공해조치종류', '저공해조치구조변경YN', '차량말소YN', '취득일자', '취득금액', '차명',\n",
       "       '차종_제원정보', '차종분류', '차종유형', '자동차형식', '제작사명', '연료', '엔진형식', '총중량', '적재중량',\n",
       "       '엔진출력', '배기량', '승차인원', '차량길이', '차량너비', '차량높이', '원산지명', '삭제YN', '승인일자',\n",
       "       '구동형식', '변속기종류', '저감장치종류', 'TDMS부착여부', '구조변경일자', '부착업체명', '부착일자',\n",
       "       '탈거승인일', '차량번호', '저감장치반납여부', '저감장치구분', '삼원촉매장치반납여부'],\n",
       "      dtype='object')"
      ]
     },
     "execution_count": 42,
     "metadata": {},
     "output_type": "execute_result"
    }
   ],
   "source": [
    "total.columns"
   ]
  },
  {
   "attachments": {},
   "cell_type": "markdown",
   "metadata": {},
   "source": [
    "### 중복 차대번호 처리\n",
    "- '최초등록일자', '배출가스검사유효일자', ascending=False"
   ]
  },
  {
   "cell_type": "code",
   "execution_count": 47,
   "metadata": {},
   "outputs": [
    {
     "data": {
      "text/plain": [
       "(1511251, 1511211)"
      ]
     },
     "execution_count": 47,
     "metadata": {},
     "output_type": "execute_result"
    }
   ],
   "source": [
    "total.shape[0], len(total['차대번호'].unique())"
   ]
  },
  {
   "cell_type": "code",
   "execution_count": 49,
   "metadata": {},
   "outputs": [
    {
     "data": {
      "text/html": [
       "<div>\n",
       "<style scoped>\n",
       "    .dataframe tbody tr th:only-of-type {\n",
       "        vertical-align: middle;\n",
       "    }\n",
       "\n",
       "    .dataframe tbody tr th {\n",
       "        vertical-align: top;\n",
       "    }\n",
       "\n",
       "    .dataframe thead th {\n",
       "        text-align: right;\n",
       "    }\n",
       "</style>\n",
       "<table border=\"1\" class=\"dataframe\">\n",
       "  <thead>\n",
       "    <tr style=\"text-align: right;\">\n",
       "      <th></th>\n",
       "      <th>차량관리번호</th>\n",
       "      <th>차량등록번호</th>\n",
       "      <th>본거지법정동코드</th>\n",
       "      <th>소유자구분</th>\n",
       "      <th>차종_등록정보</th>\n",
       "      <th>용도</th>\n",
       "      <th>차대번호</th>\n",
       "      <th>최초등록일자</th>\n",
       "      <th>차량연식</th>\n",
       "      <th>차량제작일자</th>\n",
       "      <th>...</th>\n",
       "      <th>TDMS부착여부</th>\n",
       "      <th>구조변경일자</th>\n",
       "      <th>부착업체명</th>\n",
       "      <th>부착일자</th>\n",
       "      <th>탈거승인일</th>\n",
       "      <th>차량번호</th>\n",
       "      <th>저감장치반납여부</th>\n",
       "      <th>저감장치구분</th>\n",
       "      <th>삼원촉매장치반납여부</th>\n",
       "      <th>dupl</th>\n",
       "    </tr>\n",
       "  </thead>\n",
       "  <tbody>\n",
       "    <tr>\n",
       "      <th>0</th>\n",
       "      <td>CN-62-T-2213-01</td>\n",
       "      <td>서울2흐1820</td>\n",
       "      <td>1159010200</td>\n",
       "      <td>주민</td>\n",
       "      <td>승용</td>\n",
       "      <td>자가용</td>\n",
       "      <td>CN-62-T-2213</td>\n",
       "      <td>19650209</td>\n",
       "      <td>2002</td>\n",
       "      <td>NaN</td>\n",
       "      <td>...</td>\n",
       "      <td>NaN</td>\n",
       "      <td>NaN</td>\n",
       "      <td>NaN</td>\n",
       "      <td>NaN</td>\n",
       "      <td>NaN</td>\n",
       "      <td>NaN</td>\n",
       "      <td>NaN</td>\n",
       "      <td>NaN</td>\n",
       "      <td>NaN</td>\n",
       "      <td>False</td>\n",
       "    </tr>\n",
       "    <tr>\n",
       "      <th>1</th>\n",
       "      <td>SL68T032460-01</td>\n",
       "      <td>서울5가1334</td>\n",
       "      <td>1165010100</td>\n",
       "      <td>기타</td>\n",
       "      <td>승용</td>\n",
       "      <td>자가용</td>\n",
       "      <td>SL68T032460</td>\n",
       "      <td>19750127</td>\n",
       "      <td>1968</td>\n",
       "      <td>NaN</td>\n",
       "      <td>...</td>\n",
       "      <td>NaN</td>\n",
       "      <td>NaN</td>\n",
       "      <td>NaN</td>\n",
       "      <td>NaN</td>\n",
       "      <td>NaN</td>\n",
       "      <td>NaN</td>\n",
       "      <td>NaN</td>\n",
       "      <td>NaN</td>\n",
       "      <td>NaN</td>\n",
       "      <td>False</td>\n",
       "    </tr>\n",
       "    <tr>\n",
       "      <th>2</th>\n",
       "      <td>2T1CF2897YC359923-01</td>\n",
       "      <td>16다1728</td>\n",
       "      <td>1117012400</td>\n",
       "      <td>기타</td>\n",
       "      <td>승용</td>\n",
       "      <td>자가용</td>\n",
       "      <td>2T1CF2897YC359923</td>\n",
       "      <td>19821231</td>\n",
       "      <td>2000</td>\n",
       "      <td>19821231.00</td>\n",
       "      <td>...</td>\n",
       "      <td>NaN</td>\n",
       "      <td>NaN</td>\n",
       "      <td>NaN</td>\n",
       "      <td>NaN</td>\n",
       "      <td>NaN</td>\n",
       "      <td>NaN</td>\n",
       "      <td>NaN</td>\n",
       "      <td>NaN</td>\n",
       "      <td>NaN</td>\n",
       "      <td>False</td>\n",
       "    </tr>\n",
       "    <tr>\n",
       "      <th>3</th>\n",
       "      <td>KNADA2322HS004198-01</td>\n",
       "      <td>전북1나2309</td>\n",
       "      <td>4574033530</td>\n",
       "      <td>주민</td>\n",
       "      <td>승용</td>\n",
       "      <td>자가용</td>\n",
       "      <td>KNADA2322HS004198</td>\n",
       "      <td>19870411</td>\n",
       "      <td>1987</td>\n",
       "      <td>NaN</td>\n",
       "      <td>...</td>\n",
       "      <td>NaN</td>\n",
       "      <td>NaN</td>\n",
       "      <td>NaN</td>\n",
       "      <td>NaN</td>\n",
       "      <td>NaN</td>\n",
       "      <td>NaN</td>\n",
       "      <td>NaN</td>\n",
       "      <td>NaN</td>\n",
       "      <td>NaN</td>\n",
       "      <td>False</td>\n",
       "    </tr>\n",
       "    <tr>\n",
       "      <th>4</th>\n",
       "      <td>KNADA2322HS004932-01</td>\n",
       "      <td>경기30다4720</td>\n",
       "      <td>4159025323</td>\n",
       "      <td>주민</td>\n",
       "      <td>승용</td>\n",
       "      <td>자가용</td>\n",
       "      <td>KNADA2322HS004932</td>\n",
       "      <td>19870421</td>\n",
       "      <td>1987</td>\n",
       "      <td>NaN</td>\n",
       "      <td>...</td>\n",
       "      <td>NaN</td>\n",
       "      <td>NaN</td>\n",
       "      <td>NaN</td>\n",
       "      <td>NaN</td>\n",
       "      <td>NaN</td>\n",
       "      <td>NaN</td>\n",
       "      <td>NaN</td>\n",
       "      <td>NaN</td>\n",
       "      <td>NaN</td>\n",
       "      <td>False</td>\n",
       "    </tr>\n",
       "  </tbody>\n",
       "</table>\n",
       "<p>5 rows × 51 columns</p>\n",
       "</div>"
      ],
      "text/plain": [
       "                 차량관리번호     차량등록번호    본거지법정동코드 소유자구분 차종_등록정보   용도  \\\n",
       "0       CN-62-T-2213-01   서울2흐1820  1159010200    주민      승용  자가용   \n",
       "1        SL68T032460-01   서울5가1334  1165010100    기타      승용  자가용   \n",
       "2  2T1CF2897YC359923-01    16다1728  1117012400    기타      승용  자가용   \n",
       "3  KNADA2322HS004198-01   전북1나2309  4574033530    주민      승용  자가용   \n",
       "4  KNADA2322HS004932-01  경기30다4720  4159025323    주민      승용  자가용   \n",
       "\n",
       "                차대번호    최초등록일자  차량연식      차량제작일자  ...  TDMS부착여부 구조변경일자 부착업체명  \\\n",
       "0       CN-62-T-2213  19650209  2002         NaN  ...       NaN    NaN   NaN   \n",
       "1        SL68T032460  19750127  1968         NaN  ...       NaN    NaN   NaN   \n",
       "2  2T1CF2897YC359923  19821231  2000 19821231.00  ...       NaN    NaN   NaN   \n",
       "3  KNADA2322HS004198  19870411  1987         NaN  ...       NaN    NaN   NaN   \n",
       "4  KNADA2322HS004932  19870421  1987         NaN  ...       NaN    NaN   NaN   \n",
       "\n",
       "  부착일자  탈거승인일 차량번호 저감장치반납여부 저감장치구분  삼원촉매장치반납여부   dupl  \n",
       "0  NaN    NaN  NaN      NaN    NaN         NaN  False  \n",
       "1  NaN    NaN  NaN      NaN    NaN         NaN  False  \n",
       "2  NaN    NaN  NaN      NaN    NaN         NaN  False  \n",
       "3  NaN    NaN  NaN      NaN    NaN         NaN  False  \n",
       "4  NaN    NaN  NaN      NaN    NaN         NaN  False  \n",
       "\n",
       "[5 rows x 51 columns]"
      ]
     },
     "execution_count": 49,
     "metadata": {},
     "output_type": "execute_result"
    }
   ],
   "source": [
    "total['dupl'] = total['차대번호'].duplicated().to_list()\n",
    "total.head()"
   ]
  },
  {
   "cell_type": "code",
   "execution_count": 68,
   "metadata": {},
   "outputs": [
    {
     "data": {
      "text/html": [
       "<div>\n",
       "<style scoped>\n",
       "    .dataframe tbody tr th:only-of-type {\n",
       "        vertical-align: middle;\n",
       "    }\n",
       "\n",
       "    .dataframe tbody tr th {\n",
       "        vertical-align: top;\n",
       "    }\n",
       "\n",
       "    .dataframe thead th {\n",
       "        text-align: right;\n",
       "    }\n",
       "</style>\n",
       "<table border=\"1\" class=\"dataframe\">\n",
       "  <thead>\n",
       "    <tr style=\"text-align: right;\">\n",
       "      <th></th>\n",
       "      <th>차량관리번호</th>\n",
       "      <th>차량등록번호</th>\n",
       "      <th>본거지법정동코드</th>\n",
       "      <th>소유자구분</th>\n",
       "      <th>차종_등록정보</th>\n",
       "      <th>용도</th>\n",
       "      <th>차대번호</th>\n",
       "      <th>최초등록일자</th>\n",
       "      <th>차량연식</th>\n",
       "      <th>차량제작일자</th>\n",
       "      <th>...</th>\n",
       "      <th>TDMS부착여부</th>\n",
       "      <th>구조변경일자</th>\n",
       "      <th>부착업체명</th>\n",
       "      <th>부착일자</th>\n",
       "      <th>탈거승인일</th>\n",
       "      <th>차량번호</th>\n",
       "      <th>저감장치반납여부</th>\n",
       "      <th>저감장치구분</th>\n",
       "      <th>삼원촉매장치반납여부</th>\n",
       "      <th>dupl</th>\n",
       "    </tr>\n",
       "  </thead>\n",
       "  <tbody>\n",
       "    <tr>\n",
       "      <th>0</th>\n",
       "      <td>1GBEL19W3XB192382-02</td>\n",
       "      <td>39고6855</td>\n",
       "      <td>1141011800</td>\n",
       "      <td>주민</td>\n",
       "      <td>승용</td>\n",
       "      <td>자가용</td>\n",
       "      <td>1GBEL19W3XB192382</td>\n",
       "      <td>20091013</td>\n",
       "      <td>1999</td>\n",
       "      <td>19991231.00</td>\n",
       "      <td>...</td>\n",
       "      <td>NaN</td>\n",
       "      <td>NaN</td>\n",
       "      <td>NaN</td>\n",
       "      <td>NaN</td>\n",
       "      <td>NaN</td>\n",
       "      <td>NaN</td>\n",
       "      <td>NaN</td>\n",
       "      <td>NaN</td>\n",
       "      <td>NaN</td>\n",
       "      <td>True</td>\n",
       "    </tr>\n",
       "    <tr>\n",
       "      <th>1</th>\n",
       "      <td>KMHBF31FPMV273591-03</td>\n",
       "      <td>57구7651</td>\n",
       "      <td>4513040021</td>\n",
       "      <td>기타</td>\n",
       "      <td>승용</td>\n",
       "      <td>자가용</td>\n",
       "      <td>KMHBF31FPMV273591</td>\n",
       "      <td>20040714</td>\n",
       "      <td>1991</td>\n",
       "      <td>19910101.00</td>\n",
       "      <td>...</td>\n",
       "      <td>NaN</td>\n",
       "      <td>NaN</td>\n",
       "      <td>NaN</td>\n",
       "      <td>NaN</td>\n",
       "      <td>NaN</td>\n",
       "      <td>NaN</td>\n",
       "      <td>NaN</td>\n",
       "      <td>NaN</td>\n",
       "      <td>NaN</td>\n",
       "      <td>True</td>\n",
       "    </tr>\n",
       "    <tr>\n",
       "      <th>2</th>\n",
       "      <td>KMHBF21DPNU459285-04</td>\n",
       "      <td>57구3409</td>\n",
       "      <td>4513040021</td>\n",
       "      <td>기타</td>\n",
       "      <td>승용</td>\n",
       "      <td>자가용</td>\n",
       "      <td>KMHBF21DPNU459285</td>\n",
       "      <td>20040302</td>\n",
       "      <td>1992</td>\n",
       "      <td>19920101.00</td>\n",
       "      <td>...</td>\n",
       "      <td>NaN</td>\n",
       "      <td>NaN</td>\n",
       "      <td>NaN</td>\n",
       "      <td>NaN</td>\n",
       "      <td>NaN</td>\n",
       "      <td>NaN</td>\n",
       "      <td>NaN</td>\n",
       "      <td>NaN</td>\n",
       "      <td>NaN</td>\n",
       "      <td>True</td>\n",
       "    </tr>\n",
       "    <tr>\n",
       "      <th>3</th>\n",
       "      <td>KMHBF31FPNU503892-03</td>\n",
       "      <td>16다1105</td>\n",
       "      <td>1117012400</td>\n",
       "      <td>기타</td>\n",
       "      <td>승용</td>\n",
       "      <td>자가용</td>\n",
       "      <td>KMHBF31FPNU503892</td>\n",
       "      <td>20040112</td>\n",
       "      <td>1992</td>\n",
       "      <td>19921231.00</td>\n",
       "      <td>...</td>\n",
       "      <td>NaN</td>\n",
       "      <td>NaN</td>\n",
       "      <td>NaN</td>\n",
       "      <td>NaN</td>\n",
       "      <td>NaN</td>\n",
       "      <td>NaN</td>\n",
       "      <td>NaN</td>\n",
       "      <td>NaN</td>\n",
       "      <td>NaN</td>\n",
       "      <td>True</td>\n",
       "    </tr>\n",
       "    <tr>\n",
       "      <th>4</th>\n",
       "      <td>KLAJA19Y1SB055388-03</td>\n",
       "      <td>대구30고9995</td>\n",
       "      <td>2720010300</td>\n",
       "      <td>기타</td>\n",
       "      <td>승용</td>\n",
       "      <td>자가용</td>\n",
       "      <td>KLAJA19Y1SB055388</td>\n",
       "      <td>20031204</td>\n",
       "      <td>1995</td>\n",
       "      <td>19950623.00</td>\n",
       "      <td>...</td>\n",
       "      <td>NaN</td>\n",
       "      <td>NaN</td>\n",
       "      <td>NaN</td>\n",
       "      <td>NaN</td>\n",
       "      <td>NaN</td>\n",
       "      <td>NaN</td>\n",
       "      <td>NaN</td>\n",
       "      <td>NaN</td>\n",
       "      <td>NaN</td>\n",
       "      <td>True</td>\n",
       "    </tr>\n",
       "  </tbody>\n",
       "</table>\n",
       "<p>5 rows × 51 columns</p>\n",
       "</div>"
      ],
      "text/plain": [
       "                 차량관리번호     차량등록번호    본거지법정동코드 소유자구분 차종_등록정보   용도  \\\n",
       "0  1GBEL19W3XB192382-02    39고6855  1141011800    주민      승용  자가용   \n",
       "1  KMHBF31FPMV273591-03    57구7651  4513040021    기타      승용  자가용   \n",
       "2  KMHBF21DPNU459285-04    57구3409  4513040021    기타      승용  자가용   \n",
       "3  KMHBF31FPNU503892-03    16다1105  1117012400    기타      승용  자가용   \n",
       "4  KLAJA19Y1SB055388-03  대구30고9995  2720010300    기타      승용  자가용   \n",
       "\n",
       "                차대번호    최초등록일자  차량연식      차량제작일자  ...  TDMS부착여부 구조변경일자 부착업체명  \\\n",
       "0  1GBEL19W3XB192382  20091013  1999 19991231.00  ...       NaN    NaN   NaN   \n",
       "1  KMHBF31FPMV273591  20040714  1991 19910101.00  ...       NaN    NaN   NaN   \n",
       "2  KMHBF21DPNU459285  20040302  1992 19920101.00  ...       NaN    NaN   NaN   \n",
       "3  KMHBF31FPNU503892  20040112  1992 19921231.00  ...       NaN    NaN   NaN   \n",
       "4  KLAJA19Y1SB055388  20031204  1995 19950623.00  ...       NaN    NaN   NaN   \n",
       "\n",
       "  부착일자  탈거승인일 차량번호 저감장치반납여부 저감장치구분  삼원촉매장치반납여부  dupl  \n",
       "0  NaN    NaN  NaN      NaN    NaN         NaN  True  \n",
       "1  NaN    NaN  NaN      NaN    NaN         NaN  True  \n",
       "2  NaN    NaN  NaN      NaN    NaN         NaN  True  \n",
       "3  NaN    NaN  NaN      NaN    NaN         NaN  True  \n",
       "4  NaN    NaN  NaN      NaN    NaN         NaN  True  \n",
       "\n",
       "[5 rows x 51 columns]"
      ]
     },
     "execution_count": 68,
     "metadata": {},
     "output_type": "execute_result"
    }
   ],
   "source": [
    "dupl_vin = total[total['dupl'] == True].sort_values(['최초등록일자', '배출가스검사유효일자'], ascending=False).reset_index(drop=True)\n",
    "dupl_vin.head()"
   ]
  },
  {
   "attachments": {},
   "cell_type": "markdown",
   "metadata": {},
   "source": [
    "#### [출력] 중복 차대번호 샘플"
   ]
  },
  {
   "cell_type": "code",
   "execution_count": 69,
   "metadata": {},
   "outputs": [],
   "source": [
    "dupl_vin.to_excel('analysis2/[BD3][G4][샘플]등록&제원-저감_중복차대번호(말소적용).xlsx')"
   ]
  },
  {
   "cell_type": "code",
   "execution_count": 70,
   "metadata": {},
   "outputs": [
    {
     "data": {
      "text/plain": [
       "(1511211, 51)"
      ]
     },
     "execution_count": 70,
     "metadata": {},
     "output_type": "execute_result"
    }
   ],
   "source": [
    "total1 = total.sort_values(['최초등록일자', '배출가스검사유효일자'], ascending=False).drop_duplicates('차대번호').reset_index(drop=True)\n",
    "total1.shape"
   ]
  },
  {
   "attachments": {},
   "cell_type": "markdown",
   "metadata": {},
   "source": [
    "### [Case 5.]차량연료별 분류\n",
    "- 차량 대수\n",
    "    - 휘발류•가스('휘발유', '알코올', 'LGP(액화석유가스)', 'CNG(압축천연가스)')\n",
    "    - 경유"
   ]
  },
  {
   "cell_type": "code",
   "execution_count": null,
   "metadata": {},
   "outputs": [
    {
     "data": {
      "text/plain": [
       "array(['경유', '휘발유', nan, '기타연료', 'LGP(액화석유가스)', 'CNG(압축천연가스)', '알코올'],\n",
       "      dtype=object)"
      ]
     },
     "metadata": {},
     "output_type": "display_data"
    }
   ],
   "source": [
    "total1['연료'].unique()"
   ]
  },
  {
   "cell_type": "code",
   "execution_count": 71,
   "metadata": {},
   "outputs": [
    {
     "data": {
      "text/plain": [
       "(358404, 51)"
      ]
     },
     "execution_count": 71,
     "metadata": {},
     "output_type": "execute_result"
    }
   ],
   "source": [
    "total1[ (total1['연료'] == '휘발유') | (total1['연료'] == '알코올') | (total1['연료'] == 'LGP(액화석유가스)') | (total1['연료'] == 'CNG(압축천연가스)') ].shape"
   ]
  },
  {
   "cell_type": "code",
   "execution_count": 72,
   "metadata": {},
   "outputs": [
    {
     "data": {
      "text/plain": [
       "(1152697, 51)"
      ]
     },
     "execution_count": 72,
     "metadata": {},
     "output_type": "execute_result"
    }
   ],
   "source": [
    "total1[total1['연료'] == '경유'].shape"
   ]
  },
  {
   "cell_type": "code",
   "execution_count": 73,
   "metadata": {},
   "outputs": [
    {
     "data": {
      "text/html": [
       "<div>\n",
       "<style scoped>\n",
       "    .dataframe tbody tr th:only-of-type {\n",
       "        vertical-align: middle;\n",
       "    }\n",
       "\n",
       "    .dataframe tbody tr th {\n",
       "        vertical-align: top;\n",
       "    }\n",
       "\n",
       "    .dataframe thead th {\n",
       "        text-align: right;\n",
       "    }\n",
       "</style>\n",
       "<table border=\"1\" class=\"dataframe\">\n",
       "  <thead>\n",
       "    <tr style=\"text-align: right;\">\n",
       "      <th></th>\n",
       "      <th>연료</th>\n",
       "      <th>수(차대번호)</th>\n",
       "    </tr>\n",
       "  </thead>\n",
       "  <tbody>\n",
       "    <tr>\n",
       "      <th>0</th>\n",
       "      <td>휘발유_가스</td>\n",
       "      <td>358404</td>\n",
       "    </tr>\n",
       "    <tr>\n",
       "      <th>1</th>\n",
       "      <td>경유</td>\n",
       "      <td>1152697</td>\n",
       "    </tr>\n",
       "  </tbody>\n",
       "</table>\n",
       "</div>"
      ],
      "text/plain": [
       "       연료  수(차대번호)\n",
       "0  휘발유_가스   358404\n",
       "1      경유  1152697"
      ]
     },
     "execution_count": 73,
     "metadata": {},
     "output_type": "execute_result"
    }
   ],
   "source": [
    "num_by_fuel = pd.DataFrame({'연료':['휘발유_가스', '경유'], \n",
    "                            '수(차대번호)':[\n",
    "                                total1[ (total1['연료'] == '휘발유') | (total1['연료'] == '알코올') | (total1['연료'] == 'LGP(액화석유가스)') | (total1['연료'] == 'CNG(압축천연가스)') ].shape[0], \n",
    "                                total1[total1['연료'] == '경유'].shape[0]\n",
    "                                ]\n",
    "                            })\n",
    "num_by_fuel"
   ]
  },
  {
   "cell_type": "code",
   "execution_count": 86,
   "metadata": {},
   "outputs": [
    {
     "name": "stderr",
     "output_type": "stream",
     "text": [
      "100%|██████████| 1511211/1511211 [00:00<00:00, 1634310.81it/s]\n"
     ]
    },
    {
     "data": {
      "text/plain": [
       "1511211"
      ]
     },
     "execution_count": 86,
     "metadata": {},
     "output_type": "execute_result"
    }
   ],
   "source": [
    "fuel_list = []\n",
    "for one in tqdm(total1['연료']):\n",
    "    if one == '휘발유' or one == '알코올' or one == 'LGP(액화석유가스)' or one == 'CNG(압축천연가스)':\n",
    "        fuel_list.append('휘발유_가스')\n",
    "    elif one == '경유':\n",
    "        fuel_list.append('경유')\n",
    "    else:\n",
    "        fuel_list.append('기타')\n",
    "len(fuel_list)"
   ]
  },
  {
   "cell_type": "code",
   "execution_count": 87,
   "metadata": {},
   "outputs": [],
   "source": [
    "total1['fuel'] = fuel_list"
   ]
  },
  {
   "attachments": {},
   "cell_type": "markdown",
   "metadata": {},
   "source": [
    "### [Case 5.]차량제작일자별 분류\n",
    "- 휘발류•가스('휘발유', 'LGP(액화석유가스)', '알코올', 'CNG(압축천연가스)')\n",
    "    - A : 1988.01.01 ~ 2000.12.31\n",
    "    - B : ~ 1997.12.31\n",
    "- 경유(DPF : 구조변경일자 여부)\n",
    "    - A : DPF, 2008.01.01 ~\n",
    "    - B : DPF, ~ 2007.12.31\n",
    "    - C : 2008.01.01 ~\n",
    "    - D : ~ 2007.12.31"
   ]
  },
  {
   "cell_type": "code",
   "execution_count": 74,
   "metadata": {},
   "outputs": [
    {
     "data": {
      "text/plain": [
       "count    1342438.00\n",
       "mean    20072068.99\n",
       "std        52081.54\n",
       "min      2100819.00\n",
       "25%     20070816.00\n",
       "50%     20090306.00\n",
       "75%     20100619.00\n",
       "max     20190926.00\n",
       "Name: 차량제작일자, dtype: float64"
      ]
     },
     "execution_count": 74,
     "metadata": {},
     "output_type": "execute_result"
    }
   ],
   "source": [
    "total1['차량제작일자'].describe()"
   ]
  },
  {
   "cell_type": "code",
   "execution_count": 76,
   "metadata": {},
   "outputs": [
    {
     "data": {
      "text/plain": [
       "count         36.00\n",
       "mean    20168754.36\n",
       "std        33314.56\n",
       "min     20101022.00\n",
       "25%     20157721.50\n",
       "50%     20190755.50\n",
       "75%     20191120.25\n",
       "max     20200211.00\n",
       "Name: 구조변경일자, dtype: float64"
      ]
     },
     "execution_count": 76,
     "metadata": {},
     "output_type": "execute_result"
    }
   ],
   "source": [
    "total1['구조변경일자'].describe()"
   ]
  },
  {
   "cell_type": "code",
   "execution_count": 77,
   "metadata": {},
   "outputs": [
    {
     "data": {
      "text/plain": [
       "1511175"
      ]
     },
     "execution_count": 77,
     "metadata": {},
     "output_type": "execute_result"
    }
   ],
   "source": [
    "total1['구조변경일자'].isnull().sum()"
   ]
  },
  {
   "cell_type": "code",
   "execution_count": 78,
   "metadata": {},
   "outputs": [
    {
     "data": {
      "text/plain": [
       "array([nan, '복합소형', '복합중형', '중형', '자연대형', '복합대형', '자연대형+SCR'],\n",
       "      dtype=object)"
      ]
     },
     "execution_count": 78,
     "metadata": {},
     "output_type": "execute_result"
    }
   ],
   "source": [
    "total1['저감장치종류'].unique()"
   ]
  },
  {
   "cell_type": "code",
   "execution_count": 79,
   "metadata": {},
   "outputs": [
    {
     "data": {
      "text/plain": [
       "1511175"
      ]
     },
     "execution_count": 79,
     "metadata": {},
     "output_type": "execute_result"
    }
   ],
   "source": [
    "total1['저감장치종류'].isnull().sum()"
   ]
  },
  {
   "cell_type": "code",
   "execution_count": 80,
   "metadata": {},
   "outputs": [
    {
     "data": {
      "text/plain": [
       "True"
      ]
     },
     "execution_count": 80,
     "metadata": {},
     "output_type": "execute_result"
    }
   ],
   "source": [
    "str(np.nan) == 'nan'"
   ]
  },
  {
   "cell_type": "code",
   "execution_count": 93,
   "metadata": {},
   "outputs": [
    {
     "name": "stderr",
     "output_type": "stream",
     "text": [
      "1511211it [00:02, 577705.33it/s]\n"
     ]
    },
    {
     "data": {
      "text/plain": [
       "1511211"
      ]
     },
     "execution_count": 93,
     "metadata": {},
     "output_type": "execute_result"
    }
   ],
   "source": [
    "grade_list = []\n",
    "for f, y, d in tqdm(zip(total1['연료'], total1['차량제작일자'], total1['구조변경일자'])):\n",
    "    if ( (f == '휘발유') or (f == 'LGP(액화석유가스)') or (f == '알코올') or (f == 'CNG(압축천연가스)') ) and (19980101 <= y <= 20001231):\n",
    "        grade_list.append('A')\n",
    "    elif (f == '휘발유' or f == 'LGP(액화석유가스)' or f == '알코올' or f == 'CNG(압축천연가스)') and (y <= 19971231):\n",
    "        grade_list.append('B')\n",
    "    elif (f == '경유') and (y >= 20080101) and (str(d) != 'nan'):\n",
    "        grade_list.append('A')\n",
    "    elif (f == '경유') and (y <= 20071231) and (str(d) != 'nan'):\n",
    "        grade_list.append('B')\n",
    "    elif (f == '경유') and (y >= 20080101) and (str(d) == 'nan'):\n",
    "        grade_list.append('C')\n",
    "    elif (f == '경유') and (y <= 20071231) and (str(d) == 'nan'):\n",
    "        grade_list.append('D')\n",
    "    else:\n",
    "        grade_list.append('X')\n",
    "len(grade_list)"
   ]
  },
  {
   "cell_type": "code",
   "execution_count": 94,
   "metadata": {},
   "outputs": [],
   "source": [
    "total1['Grade'] = grade_list"
   ]
  },
  {
   "cell_type": "code",
   "execution_count": 100,
   "metadata": {},
   "outputs": [
    {
     "data": {
      "text/plain": [
       "fuel\n",
       "경유        1152697\n",
       "기타            110\n",
       "휘발유_가스     358404\n",
       "Name: 차대번호, dtype: int64"
      ]
     },
     "execution_count": 100,
     "metadata": {},
     "output_type": "execute_result"
    }
   ],
   "source": [
    "total1.groupby(['fuel'])['차대번호'].count()"
   ]
  },
  {
   "cell_type": "code",
   "execution_count": 95,
   "metadata": {},
   "outputs": [
    {
     "data": {
      "text/plain": [
       "fuel    Grade\n",
       "경유      A            10\n",
       "        B            26\n",
       "        C        934443\n",
       "        D        218215\n",
       "        X             3\n",
       "기타      X           110\n",
       "휘발유_가스  A         43185\n",
       "        B        128204\n",
       "        X        187015\n",
       "Name: 차대번호, dtype: int64"
      ]
     },
     "execution_count": 95,
     "metadata": {},
     "output_type": "execute_result"
    }
   ],
   "source": [
    "total1.groupby(['fuel', 'Grade'])['차대번호'].count()"
   ]
  },
  {
   "cell_type": "code",
   "execution_count": 99,
   "metadata": {},
   "outputs": [
    {
     "data": {
      "text/html": [
       "<div>\n",
       "<style scoped>\n",
       "    .dataframe tbody tr th:only-of-type {\n",
       "        vertical-align: middle;\n",
       "    }\n",
       "\n",
       "    .dataframe tbody tr th {\n",
       "        vertical-align: top;\n",
       "    }\n",
       "\n",
       "    .dataframe thead th {\n",
       "        text-align: right;\n",
       "    }\n",
       "</style>\n",
       "<table border=\"1\" class=\"dataframe\">\n",
       "  <thead>\n",
       "    <tr style=\"text-align: right;\">\n",
       "      <th></th>\n",
       "      <th>차량관리번호</th>\n",
       "      <th>차량등록번호</th>\n",
       "      <th>본거지법정동코드</th>\n",
       "      <th>소유자구분</th>\n",
       "      <th>차종_등록정보</th>\n",
       "      <th>용도</th>\n",
       "      <th>차대번호</th>\n",
       "      <th>최초등록일자</th>\n",
       "      <th>차량연식</th>\n",
       "      <th>차량제작일자</th>\n",
       "      <th>...</th>\n",
       "      <th>부착업체명</th>\n",
       "      <th>부착일자</th>\n",
       "      <th>탈거승인일</th>\n",
       "      <th>차량번호</th>\n",
       "      <th>저감장치반납여부</th>\n",
       "      <th>저감장치구분</th>\n",
       "      <th>삼원촉매장치반납여부</th>\n",
       "      <th>dupl</th>\n",
       "      <th>fuel</th>\n",
       "      <th>Grade</th>\n",
       "    </tr>\n",
       "  </thead>\n",
       "  <tbody>\n",
       "    <tr>\n",
       "      <th>55</th>\n",
       "      <td>1C3EW65G51V703776-02</td>\n",
       "      <td>14저9873</td>\n",
       "      <td>2729011100</td>\n",
       "      <td>주민</td>\n",
       "      <td>승용</td>\n",
       "      <td>자가용</td>\n",
       "      <td>1C3EW65G51V703776</td>\n",
       "      <td>20200421</td>\n",
       "      <td>2001</td>\n",
       "      <td>20190923.00</td>\n",
       "      <td>...</td>\n",
       "      <td>NaN</td>\n",
       "      <td>NaN</td>\n",
       "      <td>NaN</td>\n",
       "      <td>NaN</td>\n",
       "      <td>NaN</td>\n",
       "      <td>NaN</td>\n",
       "      <td>NaN</td>\n",
       "      <td>False</td>\n",
       "      <td>휘발유_가스</td>\n",
       "      <td>X</td>\n",
       "    </tr>\n",
       "    <tr>\n",
       "      <th>56</th>\n",
       "      <td>1C3EW65G51V703776-01</td>\n",
       "      <td>14저9733</td>\n",
       "      <td>4113111000</td>\n",
       "      <td>주민</td>\n",
       "      <td>승용</td>\n",
       "      <td>자가용</td>\n",
       "      <td>1C3EW65G51V703826</td>\n",
       "      <td>20200410</td>\n",
       "      <td>2001</td>\n",
       "      <td>20011231.00</td>\n",
       "      <td>...</td>\n",
       "      <td>NaN</td>\n",
       "      <td>NaN</td>\n",
       "      <td>NaN</td>\n",
       "      <td>NaN</td>\n",
       "      <td>NaN</td>\n",
       "      <td>NaN</td>\n",
       "      <td>NaN</td>\n",
       "      <td>False</td>\n",
       "      <td>휘발유_가스</td>\n",
       "      <td>X</td>\n",
       "    </tr>\n",
       "    <tr>\n",
       "      <th>106</th>\n",
       "      <td>KL90F4ABGNZ100001-01</td>\n",
       "      <td>01고3520</td>\n",
       "      <td>4146310700</td>\n",
       "      <td>법인</td>\n",
       "      <td>승용</td>\n",
       "      <td>자가용</td>\n",
       "      <td>KL90F4ABGNZ100001</td>\n",
       "      <td>20190621</td>\n",
       "      <td>1992</td>\n",
       "      <td>20190530.00</td>\n",
       "      <td>...</td>\n",
       "      <td>NaN</td>\n",
       "      <td>NaN</td>\n",
       "      <td>NaN</td>\n",
       "      <td>NaN</td>\n",
       "      <td>NaN</td>\n",
       "      <td>NaN</td>\n",
       "      <td>NaN</td>\n",
       "      <td>False</td>\n",
       "      <td>휘발유_가스</td>\n",
       "      <td>X</td>\n",
       "    </tr>\n",
       "    <tr>\n",
       "      <th>122</th>\n",
       "      <td>KMHEP41BP2A644387-04</td>\n",
       "      <td>04보2050</td>\n",
       "      <td>4122025041</td>\n",
       "      <td>기타</td>\n",
       "      <td>승용</td>\n",
       "      <td>자가용</td>\n",
       "      <td>KMHEP41BP2A644387</td>\n",
       "      <td>20190422</td>\n",
       "      <td>2002</td>\n",
       "      <td>20020312.00</td>\n",
       "      <td>...</td>\n",
       "      <td>NaN</td>\n",
       "      <td>NaN</td>\n",
       "      <td>NaN</td>\n",
       "      <td>NaN</td>\n",
       "      <td>NaN</td>\n",
       "      <td>NaN</td>\n",
       "      <td>NaN</td>\n",
       "      <td>False</td>\n",
       "      <td>휘발유_가스</td>\n",
       "      <td>X</td>\n",
       "    </tr>\n",
       "    <tr>\n",
       "      <th>155</th>\n",
       "      <td>KMHEP41BP1A451538-02</td>\n",
       "      <td>45라6813</td>\n",
       "      <td>4785025000</td>\n",
       "      <td>기타</td>\n",
       "      <td>승용</td>\n",
       "      <td>자가용</td>\n",
       "      <td>KMHEP41BP1A451538</td>\n",
       "      <td>20190312</td>\n",
       "      <td>2001</td>\n",
       "      <td>20010305.00</td>\n",
       "      <td>...</td>\n",
       "      <td>NaN</td>\n",
       "      <td>NaN</td>\n",
       "      <td>NaN</td>\n",
       "      <td>NaN</td>\n",
       "      <td>NaN</td>\n",
       "      <td>NaN</td>\n",
       "      <td>NaN</td>\n",
       "      <td>False</td>\n",
       "      <td>휘발유_가스</td>\n",
       "      <td>X</td>\n",
       "    </tr>\n",
       "    <tr>\n",
       "      <th>...</th>\n",
       "      <td>...</td>\n",
       "      <td>...</td>\n",
       "      <td>...</td>\n",
       "      <td>...</td>\n",
       "      <td>...</td>\n",
       "      <td>...</td>\n",
       "      <td>...</td>\n",
       "      <td>...</td>\n",
       "      <td>...</td>\n",
       "      <td>...</td>\n",
       "      <td>...</td>\n",
       "      <td>...</td>\n",
       "      <td>...</td>\n",
       "      <td>...</td>\n",
       "      <td>...</td>\n",
       "      <td>...</td>\n",
       "      <td>...</td>\n",
       "      <td>...</td>\n",
       "      <td>...</td>\n",
       "      <td>...</td>\n",
       "      <td>...</td>\n",
       "    </tr>\n",
       "    <tr>\n",
       "      <th>1511205</th>\n",
       "      <td>438711300719충-01</td>\n",
       "      <td>서울2투6737</td>\n",
       "      <td>1168010500</td>\n",
       "      <td>사업자</td>\n",
       "      <td>승용</td>\n",
       "      <td>자가용</td>\n",
       "      <td>438711300719충</td>\n",
       "      <td>19870316</td>\n",
       "      <td>2007</td>\n",
       "      <td>NaN</td>\n",
       "      <td>...</td>\n",
       "      <td>NaN</td>\n",
       "      <td>NaN</td>\n",
       "      <td>NaN</td>\n",
       "      <td>NaN</td>\n",
       "      <td>NaN</td>\n",
       "      <td>NaN</td>\n",
       "      <td>NaN</td>\n",
       "      <td>False</td>\n",
       "      <td>휘발유_가스</td>\n",
       "      <td>X</td>\n",
       "    </tr>\n",
       "    <tr>\n",
       "      <th>1511206</th>\n",
       "      <td>KNAD2322JS055503-01</td>\n",
       "      <td>경기2머9331</td>\n",
       "      <td>4155025029</td>\n",
       "      <td>주민</td>\n",
       "      <td>승용</td>\n",
       "      <td>자가용</td>\n",
       "      <td>KNAD2322JS055503</td>\n",
       "      <td>19870101</td>\n",
       "      <td>1995</td>\n",
       "      <td>NaN</td>\n",
       "      <td>...</td>\n",
       "      <td>NaN</td>\n",
       "      <td>NaN</td>\n",
       "      <td>NaN</td>\n",
       "      <td>NaN</td>\n",
       "      <td>NaN</td>\n",
       "      <td>NaN</td>\n",
       "      <td>NaN</td>\n",
       "      <td>False</td>\n",
       "      <td>휘발유_가스</td>\n",
       "      <td>X</td>\n",
       "    </tr>\n",
       "    <tr>\n",
       "      <th>1511207</th>\n",
       "      <td>KNADA2322HS006936-01</td>\n",
       "      <td>경기2가9056</td>\n",
       "      <td>5011013700</td>\n",
       "      <td>주민</td>\n",
       "      <td>승용</td>\n",
       "      <td>자가용</td>\n",
       "      <td>KNADA2322HS006936</td>\n",
       "      <td>19860513</td>\n",
       "      <td>1987</td>\n",
       "      <td>NaN</td>\n",
       "      <td>...</td>\n",
       "      <td>NaN</td>\n",
       "      <td>NaN</td>\n",
       "      <td>NaN</td>\n",
       "      <td>NaN</td>\n",
       "      <td>NaN</td>\n",
       "      <td>NaN</td>\n",
       "      <td>NaN</td>\n",
       "      <td>False</td>\n",
       "      <td>휘발유_가스</td>\n",
       "      <td>X</td>\n",
       "    </tr>\n",
       "    <tr>\n",
       "      <th>1511209</th>\n",
       "      <td>SL68T032460-01</td>\n",
       "      <td>서울5가1334</td>\n",
       "      <td>1165010100</td>\n",
       "      <td>기타</td>\n",
       "      <td>승용</td>\n",
       "      <td>자가용</td>\n",
       "      <td>SL68T032460</td>\n",
       "      <td>19750127</td>\n",
       "      <td>1968</td>\n",
       "      <td>NaN</td>\n",
       "      <td>...</td>\n",
       "      <td>NaN</td>\n",
       "      <td>NaN</td>\n",
       "      <td>NaN</td>\n",
       "      <td>NaN</td>\n",
       "      <td>NaN</td>\n",
       "      <td>NaN</td>\n",
       "      <td>NaN</td>\n",
       "      <td>False</td>\n",
       "      <td>휘발유_가스</td>\n",
       "      <td>X</td>\n",
       "    </tr>\n",
       "    <tr>\n",
       "      <th>1511210</th>\n",
       "      <td>CN-62-T-2213-01</td>\n",
       "      <td>서울2흐1820</td>\n",
       "      <td>1159010200</td>\n",
       "      <td>주민</td>\n",
       "      <td>승용</td>\n",
       "      <td>자가용</td>\n",
       "      <td>CN-62-T-2213</td>\n",
       "      <td>19650209</td>\n",
       "      <td>2002</td>\n",
       "      <td>NaN</td>\n",
       "      <td>...</td>\n",
       "      <td>NaN</td>\n",
       "      <td>NaN</td>\n",
       "      <td>NaN</td>\n",
       "      <td>NaN</td>\n",
       "      <td>NaN</td>\n",
       "      <td>NaN</td>\n",
       "      <td>NaN</td>\n",
       "      <td>False</td>\n",
       "      <td>휘발유_가스</td>\n",
       "      <td>X</td>\n",
       "    </tr>\n",
       "  </tbody>\n",
       "</table>\n",
       "<p>187015 rows × 53 columns</p>\n",
       "</div>"
      ],
      "text/plain": [
       "                       차량관리번호    차량등록번호    본거지법정동코드 소유자구분 차종_등록정보   용도  \\\n",
       "55       1C3EW65G51V703776-02   14저9873  2729011100    주민      승용  자가용   \n",
       "56       1C3EW65G51V703776-01   14저9733  4113111000    주민      승용  자가용   \n",
       "106      KL90F4ABGNZ100001-01   01고3520  4146310700    법인      승용  자가용   \n",
       "122      KMHEP41BP2A644387-04   04보2050  4122025041    기타      승용  자가용   \n",
       "155      KMHEP41BP1A451538-02   45라6813  4785025000    기타      승용  자가용   \n",
       "...                       ...       ...         ...   ...     ...  ...   \n",
       "1511205      438711300719충-01  서울2투6737  1168010500   사업자      승용  자가용   \n",
       "1511206   KNAD2322JS055503-01  경기2머9331  4155025029    주민      승용  자가용   \n",
       "1511207  KNADA2322HS006936-01  경기2가9056  5011013700    주민      승용  자가용   \n",
       "1511209        SL68T032460-01  서울5가1334  1165010100    기타      승용  자가용   \n",
       "1511210       CN-62-T-2213-01  서울2흐1820  1159010200    주민      승용  자가용   \n",
       "\n",
       "                      차대번호    최초등록일자  차량연식      차량제작일자  ...  부착업체명 부착일자 탈거승인일  \\\n",
       "55       1C3EW65G51V703776  20200421  2001 20190923.00  ...    NaN  NaN   NaN   \n",
       "56       1C3EW65G51V703826  20200410  2001 20011231.00  ...    NaN  NaN   NaN   \n",
       "106      KL90F4ABGNZ100001  20190621  1992 20190530.00  ...    NaN  NaN   NaN   \n",
       "122      KMHEP41BP2A644387  20190422  2002 20020312.00  ...    NaN  NaN   NaN   \n",
       "155      KMHEP41BP1A451538  20190312  2001 20010305.00  ...    NaN  NaN   NaN   \n",
       "...                    ...       ...   ...         ...  ...    ...  ...   ...   \n",
       "1511205      438711300719충  19870316  2007         NaN  ...    NaN  NaN   NaN   \n",
       "1511206   KNAD2322JS055503  19870101  1995         NaN  ...    NaN  NaN   NaN   \n",
       "1511207  KNADA2322HS006936  19860513  1987         NaN  ...    NaN  NaN   NaN   \n",
       "1511209        SL68T032460  19750127  1968         NaN  ...    NaN  NaN   NaN   \n",
       "1511210       CN-62-T-2213  19650209  2002         NaN  ...    NaN  NaN   NaN   \n",
       "\n",
       "        차량번호  저감장치반납여부 저감장치구분 삼원촉매장치반납여부   dupl    fuel Grade  \n",
       "55       NaN       NaN    NaN        NaN  False  휘발유_가스     X  \n",
       "56       NaN       NaN    NaN        NaN  False  휘발유_가스     X  \n",
       "106      NaN       NaN    NaN        NaN  False  휘발유_가스     X  \n",
       "122      NaN       NaN    NaN        NaN  False  휘발유_가스     X  \n",
       "155      NaN       NaN    NaN        NaN  False  휘발유_가스     X  \n",
       "...      ...       ...    ...        ...    ...     ...   ...  \n",
       "1511205  NaN       NaN    NaN        NaN  False  휘발유_가스     X  \n",
       "1511206  NaN       NaN    NaN        NaN  False  휘발유_가스     X  \n",
       "1511207  NaN       NaN    NaN        NaN  False  휘발유_가스     X  \n",
       "1511209  NaN       NaN    NaN        NaN  False  휘발유_가스     X  \n",
       "1511210  NaN       NaN    NaN        NaN  False  휘발유_가스     X  \n",
       "\n",
       "[187015 rows x 53 columns]"
      ]
     },
     "execution_count": 99,
     "metadata": {},
     "output_type": "execute_result"
    }
   ],
   "source": [
    "total1[(total1['fuel'] == '휘발유_가스') & (total1['Grade'] == 'X')]"
   ]
  },
  {
   "attachments": {},
   "cell_type": "markdown",
   "metadata": {},
   "source": [
    "#### [출력]"
   ]
  },
  {
   "cell_type": "code",
   "execution_count": 102,
   "metadata": {},
   "outputs": [
    {
     "name": "stderr",
     "output_type": "stream",
     "text": [
      "C:\\Users\\kbjung\\AppData\\Local\\Temp\\ipykernel_22420\\3080637872.py:4: FutureWarning: save is not part of the public API, usage can give unexpected results and will be removed in a future version\n",
      "  ex.save()\n"
     ]
    }
   ],
   "source": [
    "ex = pd.ExcelWriter('analysis2/[BD3][G4][통계]Case5_등급분류(중복차대제거)(말소적용).xlsx')\n",
    "total1.groupby(['fuel'])['차대번호'].count().to_excel(ex, sheet_name='연료별')\n",
    "total1.groupby(['fuel', 'Grade'])['차대번호'].count().to_excel(ex, sheet_name='등급별')\n",
    "ex.save()"
   ]
  },
  {
   "attachments": {},
   "cell_type": "markdown",
   "metadata": {},
   "source": [
    "# 코드 마지막"
   ]
  }
 ],
 "metadata": {
  "kernelspec": {
   "display_name": "base",
   "language": "python",
   "name": "python3"
  },
  "language_info": {
   "codemirror_mode": {
    "name": "ipython",
    "version": 3
   },
   "file_extension": ".py",
   "mimetype": "text/x-python",
   "name": "python",
   "nbconvert_exporter": "python",
   "pygments_lexer": "ipython3",
   "version": "3.9.13 (main, Aug 25 2022, 23:51:50) [MSC v.1916 64 bit (AMD64)]"
  },
  "orig_nbformat": 4,
  "vscode": {
   "interpreter": {
    "hash": "ad2bdc8ecc057115af97d19610ffacc2b4e99fae6737bb82f5d7fb13d2f2c186"
   }
  }
 },
 "nbformat": 4,
 "nbformat_minor": 2
}
