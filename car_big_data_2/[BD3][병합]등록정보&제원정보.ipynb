{
 "cells": [
  {
   "attachments": {},
   "cell_type": "markdown",
   "metadata": {},
   "source": [
    "# Library"
   ]
  },
  {
   "cell_type": "code",
   "execution_count": 1,
   "metadata": {},
   "outputs": [],
   "source": [
    "import pandas as pd\n",
    "import numpy as np\n",
    "import os"
   ]
  },
  {
   "cell_type": "code",
   "execution_count": 2,
   "metadata": {},
   "outputs": [],
   "source": [
    "ods_fold = 'D:\\과업\\[한국환경공단]자동차_환경_빅데이터_구축_2차\\data\\ODS'"
   ]
  },
  {
   "attachments": {},
   "cell_type": "markdown",
   "metadata": {},
   "source": [
    "# [ODS]전체"
   ]
  },
  {
   "cell_type": "code",
   "execution_count": null,
   "metadata": {},
   "outputs": [],
   "source": [
    "# about 9s\n",
    "file_name = '[ODS]자동차_등록정보(2022-12-29).csv'\n",
    "ods_path = os.path.join(ods_fold, file_name)\n",
    "df1 = pd.read_csv(ods_path, low_memory=False)\n",
    "df1.info()"
   ]
  },
  {
   "cell_type": "code",
   "execution_count": null,
   "metadata": {},
   "outputs": [],
   "source": [
    "# about 3s\n",
    "file_name = '[ODS]자동차_제원정보(2022-12-29).csv'\n",
    "ods_path = os.path.join(ods_fold, file_name)\n",
    "df2 = pd.read_csv(ods_path, low_memory=False)\n",
    "df2.info()"
   ]
  },
  {
   "cell_type": "code",
   "execution_count": null,
   "metadata": {},
   "outputs": [
    {
     "data": {
      "text/plain": [
       "Index(['차량관리번호', '차량등록번호', '본거지 법정동 코드', '소유자 구분', '차종', '용도', '차대번호',\n",
       "       '최초 등록 일자', '차량 연식', '차량 제작 일자', '배출가스검사유효일자', '제원관리번호', '배출가스 인증번호',\n",
       "       '배출가스 등급', '저공해조치 종류', '저공해조치 구조변경 YN', '차량 말소 YN', '취득 일자', '취득 금액'],\n",
       "      dtype='object')"
      ]
     },
     "metadata": {},
     "output_type": "display_data"
    }
   ],
   "source": [
    "df1.columns"
   ]
  },
  {
   "cell_type": "code",
   "execution_count": null,
   "metadata": {},
   "outputs": [],
   "source": [
    "df1.columns = ['차량관리번호', '차량등록번호', '본거지법정동코드', '소유자구분', '차종_등록정보', '용도', '차대번호',\n",
    "       '최초등록일자', '차량연식', '차량제작일자', '배출가스검사유효일자', '제원관리번호', '배출가스인증번호',\n",
    "       '배출가스등급', '저공해조치종류', '저공해조치구조변경YN', '차량말소YN', '취득일자', '취득금액']"
   ]
  },
  {
   "cell_type": "code",
   "execution_count": null,
   "metadata": {},
   "outputs": [
    {
     "data": {
      "text/plain": [
       "Index(['제원관리번호', '차명', '차종', '차종 분류', '차종 유형 (소분류)', '자동차 형식', '제작사 명', '연료',\n",
       "       '엔진형식', '총 중량', '적재 중량', '엔진출력', '배기량', '승차 인원', '차량 길이', '차량 너비',\n",
       "       '차량 높이', '원산지 명', '삭제 YN', '승인 일자', '구동 형식', '변속기 종류'],\n",
       "      dtype='object')"
      ]
     },
     "metadata": {},
     "output_type": "display_data"
    }
   ],
   "source": [
    "df2.columns"
   ]
  },
  {
   "cell_type": "code",
   "execution_count": null,
   "metadata": {},
   "outputs": [],
   "source": [
    "df2.columns = ['제원관리번호', '차명', '차종_제원정보', '차종분류', '차종유형', '자동차형식', '제작사명', '연료',\n",
    "       '엔진형식', '총중량', '적재중량', '엔진출력', '배기량', '승차인원', '차량길이', '차량너비',\n",
    "       '차량높이', '원산지명', '삭제YN', '승인일자', '구동형식', '변속기종류']"
   ]
  },
  {
   "attachments": {},
   "cell_type": "markdown",
   "metadata": {},
   "source": [
    "## [병합] 등록정보와 제원정보"
   ]
  },
  {
   "cell_type": "code",
   "execution_count": null,
   "metadata": {},
   "outputs": [
    {
     "name": "stdout",
     "output_type": "stream",
     "text": [
      "<class 'pandas.core.frame.DataFrame'>\n",
      "Int64Index: 1898816 entries, 0 to 1898815\n",
      "Data columns (total 40 columns):\n",
      " #   Column       Dtype  \n",
      "---  ------       -----  \n",
      " 0   차량관리번호       object \n",
      " 1   차량등록번호       object \n",
      " 2   본거지법정동코드     int64  \n",
      " 3   소유자구분        object \n",
      " 4   차종_등록정보      object \n",
      " 5   용도           object \n",
      " 6   차대번호         object \n",
      " 7   최초등록일자       int64  \n",
      " 8   차량연식         int64  \n",
      " 9   차량제작일자       float64\n",
      " 10  배출가스검사유효일자   float64\n",
      " 11  제원관리번호       object \n",
      " 12  배출가스인증번호     object \n",
      " 13  배출가스등급       object \n",
      " 14  저공해조치종류      float64\n",
      " 15  저공해조치구조변경YN  object \n",
      " 16  차량말소YN       object \n",
      " 17  취득일자         object \n",
      " 18  취득금액         float64\n",
      " 19  차명           object \n",
      " 20  차종_제원정보      object \n",
      " 21  차종분류         object \n",
      " 22  차종유형         object \n",
      " 23  자동차형식        object \n",
      " 24  제작사명         object \n",
      " 25  연료           object \n",
      " 26  엔진형식         object \n",
      " 27  총중량          float64\n",
      " 28  적재중량         float64\n",
      " 29  엔진출력         float64\n",
      " 30  배기량          float64\n",
      " 31  승차인원         float64\n",
      " 32  차량길이         float64\n",
      " 33  차량너비         float64\n",
      " 34  차량높이         float64\n",
      " 35  원산지명         object \n",
      " 36  삭제YN         object \n",
      " 37  승인일자         object \n",
      " 38  구동형식         object \n",
      " 39  변속기종류        object \n",
      "dtypes: float64(12), int64(3), object(25)\n",
      "memory usage: 594.0+ MB\n"
     ]
    }
   ],
   "source": [
    "total = df1.merge(df2, on='제원관리번호', how='left')\n",
    "total.info()"
   ]
  },
  {
   "attachments": {},
   "cell_type": "markdown",
   "metadata": {},
   "source": [
    "## [출력] 등록정보와 제원정보"
   ]
  },
  {
   "cell_type": "code",
   "execution_count": null,
   "metadata": {},
   "outputs": [],
   "source": [
    "# about 35s\n",
    "total.to_csv('data/[ODS]자동차_등록정보&자동차_제원정보(2022.12.29).csv', index=False)"
   ]
  },
  {
   "attachments": {},
   "cell_type": "markdown",
   "metadata": {},
   "source": [
    "# [ODS]1등급"
   ]
  },
  {
   "attachments": {},
   "cell_type": "markdown",
   "metadata": {},
   "source": [
    "## [로드]"
   ]
  },
  {
   "cell_type": "code",
   "execution_count": 19,
   "metadata": {},
   "outputs": [
    {
     "name": "stdout",
     "output_type": "stream",
     "text": [
      "<class 'pandas.core.frame.DataFrame'>\n",
      "RangeIndex: 2870152 entries, 0 to 2870151\n",
      "Data columns (total 32 columns):\n",
      " #   Column         Dtype  \n",
      "---  ------         -----  \n",
      " 0   차량관리번호         object \n",
      " 1   차량등록번호         object \n",
      " 2   본거지 법정동 코드     int64  \n",
      " 3   소유자 구분         object \n",
      " 4   차종             object \n",
      " 5   용도             object \n",
      " 6   미정             object \n",
      " 7   현재 회원번호        object \n",
      " 8   미정.1           object \n",
      " 9   미정.2           object \n",
      " 10  차대번호           object \n",
      " 11  최초 등록 일자       int64  \n",
      " 12  차량 연식          int64  \n",
      " 13  차량 제작 일자       float64\n",
      " 14  배출가스검사유효일자     float64\n",
      " 15  제원관리번호         object \n",
      " 16  배출가스 인증번호      object \n",
      " 17  배출가스 등급        int64  \n",
      " 18  저공해조치 YN(미사용)  object \n",
      " 19  저공해조치 종류       float64\n",
      " 20  저공해조치 구조변경 YN  object \n",
      " 21  미정.3           float64\n",
      " 22  차량등록번호 숫자 정보   int64  \n",
      " 23  차량 말소 YN       object \n",
      " 24  미정.4           object \n",
      " 25  최초 회원번호        object \n",
      " 26  취득 일자          float64\n",
      " 27  취득 금액          float64\n",
      " 28  미정.5           object \n",
      " 29  생성 일시          object \n",
      " 30  수정 일시          object \n",
      " 31  미정.6           object \n",
      "dtypes: float64(6), int64(5), object(21)\n",
      "memory usage: 700.7+ MB\n"
     ]
    }
   ],
   "source": [
    "# about 1m\n",
    "file_name = '[ODS][G1]자동차_등록정보(한글컬럼)(2022-12-29).csv'\n",
    "ods_path = os.path.join(ods_fold, file_name)\n",
    "df1 = pd.read_csv(ods_path, low_memory=False, encoding='cp949')\n",
    "df1.info()"
   ]
  },
  {
   "cell_type": "code",
   "execution_count": 20,
   "metadata": {},
   "outputs": [
    {
     "name": "stdout",
     "output_type": "stream",
     "text": [
      "<class 'pandas.core.frame.DataFrame'>\n",
      "RangeIndex: 545374 entries, 0 to 545373\n",
      "Data columns (total 28 columns):\n",
      " #   Column       Non-Null Count   Dtype  \n",
      "---  ------       --------------   -----  \n",
      " 0   제원관리번호       545374 non-null  object \n",
      " 1   차명           545272 non-null  object \n",
      " 2   차종           545370 non-null  object \n",
      " 3   차종 분류        531367 non-null  object \n",
      " 4   차종 유형 (소분류)  531332 non-null  object \n",
      " 5   자동차 형식       516295 non-null  object \n",
      " 6   제작사 명        529017 non-null  object \n",
      " 7   연료           503254 non-null  object \n",
      " 8   엔진형식         494157 non-null  object \n",
      " 9   공차중량         0 non-null       float64\n",
      " 10  총 중량         541702 non-null  float64\n",
      " 11  적재 중량        446181 non-null  float64\n",
      " 12  엔진출력         471948 non-null  float64\n",
      " 13  배기량          510521 non-null  float64\n",
      " 14  승차 인원        545313 non-null  float64\n",
      " 15  차량 길이        514786 non-null  float64\n",
      " 16  차량 너비        514799 non-null  float64\n",
      " 17  차량 높이        514732 non-null  float64\n",
      " 18  원산지 명        540392 non-null  object \n",
      " 19  미정           0 non-null       float64\n",
      " 20  삭제 YN        545374 non-null  object \n",
      " 21  승인 일자        532881 non-null  object \n",
      " 22  구동 형식        114619 non-null  object \n",
      " 23  변속기 종류       540165 non-null  object \n",
      " 24  미정.1         1 non-null       object \n",
      " 25  생성 일시        545374 non-null  object \n",
      " 26  수정 일시        14578 non-null   object \n",
      " 27  미정.2         545374 non-null  object \n",
      "dtypes: float64(10), object(18)\n",
      "memory usage: 116.5+ MB\n"
     ]
    }
   ],
   "source": [
    "# about 3s\n",
    "file_name = '[ODS]자동차_제원정보(한글컬럼)(2022-12-29).csv'\n",
    "ods_path = os.path.join(ods_fold, file_name)\n",
    "df2 = pd.read_csv(ods_path, low_memory=False)\n",
    "df2.info()"
   ]
  },
  {
   "attachments": {},
   "cell_type": "markdown",
   "metadata": {},
   "source": [
    "### 정리\n",
    "- 컬럼명, 컬럼순서, 컬럼"
   ]
  },
  {
   "cell_type": "code",
   "execution_count": 21,
   "metadata": {},
   "outputs": [
    {
     "data": {
      "text/plain": [
       "Index(['차량관리번호', '차량등록번호', '본거지 법정동 코드', '소유자 구분', '차종', '용도', '미정', '현재 회원번호',\n",
       "       '미정.1', '미정.2', '차대번호', '최초 등록 일자', '차량 연식', '차량 제작 일자', '배출가스검사유효일자',\n",
       "       '제원관리번호', '배출가스 인증번호', '배출가스 등급', '저공해조치 YN(미사용)', '저공해조치 종류',\n",
       "       '저공해조치 구조변경 YN', '미정.3', '차량등록번호 숫자 정보', '차량 말소 YN', '미정.4', '최초 회원번호',\n",
       "       '취득 일자', '취득 금액', '미정.5', '생성 일시', '수정 일시', '미정.6'],\n",
       "      dtype='object')"
      ]
     },
     "execution_count": 21,
     "metadata": {},
     "output_type": "execute_result"
    }
   ],
   "source": [
    "df1.columns"
   ]
  },
  {
   "cell_type": "code",
   "execution_count": 22,
   "metadata": {},
   "outputs": [],
   "source": [
    "df1.columns = ['차량관리번호', '차량등록번호', '본거지법정동코드', '소유자구분', '차종_등록정보', '용도', '미정1', '현재회원번호',\n",
    "       '미정2', '미정3', '차대번호', '최초등록일자', '차량연식', '차량제작일자', '배출가스검사유효일자',\n",
    "       '제원관리번호', '배출가스인증번호', '배출가스등급', '저공해조치YN(미사용)', '저공해조치종류',\n",
    "       '저공해조치구조변경YN', '미정4', '차량등록번호숫자정보', '차량말소YN', '미정5', '최초회원번호',\n",
    "       '취득일자', '취득금액', '미정6', '생성일시_등록정보', '수정일시_등록정보', '미정7']"
   ]
  },
  {
   "cell_type": "code",
   "execution_count": 23,
   "metadata": {},
   "outputs": [],
   "source": [
    "df1 = df1[['차량관리번호', '차량등록번호', '본거지법정동코드', '소유자구분', '차종_등록정보', '용도', '현재회원번호', '차대번호', '최초등록일자', '차량연식', '차량제작일자', '배출가스검사유효일자', \n",
    "       '제원관리번호', '배출가스인증번호', '배출가스등급', '저공해조치YN(미사용)', '저공해조치종류', '저공해조치구조변경YN', '차량등록번호숫자정보', '차량말소YN', '최초회원번호', '취득일자', '취득금액',\n",
    "       '생성일시_등록정보', '수정일시_등록정보']]"
   ]
  },
  {
   "cell_type": "code",
   "execution_count": 24,
   "metadata": {},
   "outputs": [
    {
     "data": {
      "text/plain": [
       "Index(['제원관리번호', '차명', '차종', '차종 분류', '차종 유형 (소분류)', '자동차 형식', '제작사 명', '연료',\n",
       "       '엔진형식', '공차중량', '총 중량', '적재 중량', '엔진출력', '배기량', '승차 인원', '차량 길이',\n",
       "       '차량 너비', '차량 높이', '원산지 명', '미정', '삭제 YN', '승인 일자', '구동 형식', '변속기 종류',\n",
       "       '미정.1', '생성 일시', '수정 일시', '미정.2'],\n",
       "      dtype='object')"
      ]
     },
     "execution_count": 24,
     "metadata": {},
     "output_type": "execute_result"
    }
   ],
   "source": [
    "df2.columns"
   ]
  },
  {
   "cell_type": "code",
   "execution_count": 25,
   "metadata": {},
   "outputs": [],
   "source": [
    "df2.columns = ['제원관리번호', '차명', '차종_제원정보', '차종분류', '차종유형(소분류)', '자동차형식', '제작사명', '연료',\n",
    "       '엔진형식', '공차중량', '총중량', '적재중량', '엔진출력', '배기량', '승차인원', '차량길이',\n",
    "       '차량너비', '차량높이', '원산지명', '미정1', '삭제YN', '승인일자', '구동형식', '변속기종류',\n",
    "       '미정2', '생성일시_제원정보', '수정일시_제원정보', '미정3']"
   ]
  },
  {
   "cell_type": "code",
   "execution_count": 26,
   "metadata": {},
   "outputs": [],
   "source": [
    "df2 = df2[['제원관리번호', '차명', '차종_제원정보', '차종분류', '차종유형(소분류)', '자동차형식', '제작사명', '연료', '엔진형식', '공차중량', '총중량', '적재중량', '엔진출력', '배기량', '승차인원', '차량길이', \n",
    "     '차량너비', '차량높이', '원산지명', '삭제YN', '승인일자', '구동형식', '변속기종류', '생성일시_제원정보', '수정일시_제원정보']]"
   ]
  },
  {
   "cell_type": "code",
   "execution_count": 27,
   "metadata": {},
   "outputs": [
    {
     "data": {
      "text/plain": [
       "1    2870152\n",
       "Name: 배출가스등급, dtype: int64"
      ]
     },
     "execution_count": 27,
     "metadata": {},
     "output_type": "execute_result"
    }
   ],
   "source": [
    "df1['배출가스등급'].value_counts()"
   ]
  },
  {
   "attachments": {},
   "cell_type": "markdown",
   "metadata": {},
   "source": [
    "## [병합] 등록정보와 제원정보"
   ]
  },
  {
   "cell_type": "code",
   "execution_count": 28,
   "metadata": {},
   "outputs": [
    {
     "name": "stdout",
     "output_type": "stream",
     "text": [
      "<class 'pandas.core.frame.DataFrame'>\n",
      "Int64Index: 2870152 entries, 0 to 2870151\n",
      "Data columns (total 49 columns):\n",
      " #   Column        Dtype  \n",
      "---  ------        -----  \n",
      " 0   차량관리번호        object \n",
      " 1   차량등록번호        object \n",
      " 2   본거지법정동코드      int64  \n",
      " 3   소유자구분         object \n",
      " 4   차종_등록정보       object \n",
      " 5   용도            object \n",
      " 6   현재회원번호        object \n",
      " 7   차대번호          object \n",
      " 8   최초등록일자        int64  \n",
      " 9   차량연식          int64  \n",
      " 10  차량제작일자        float64\n",
      " 11  배출가스검사유효일자    float64\n",
      " 12  제원관리번호        object \n",
      " 13  배출가스인증번호      object \n",
      " 14  배출가스등급        int64  \n",
      " 15  저공해조치YN(미사용)  object \n",
      " 16  저공해조치종류       float64\n",
      " 17  저공해조치구조변경YN   object \n",
      " 18  차량등록번호숫자정보    int64  \n",
      " 19  차량말소YN        object \n",
      " 20  최초회원번호        object \n",
      " 21  취득일자          float64\n",
      " 22  취득금액          float64\n",
      " 23  생성일시_등록정보     object \n",
      " 24  수정일시_등록정보     object \n",
      " 25  차명            object \n",
      " 26  차종_제원정보       object \n",
      " 27  차종분류          object \n",
      " 28  차종유형(소분류)     object \n",
      " 29  자동차형식         object \n",
      " 30  제작사명          object \n",
      " 31  연료            object \n",
      " 32  엔진형식          object \n",
      " 33  공차중량          float64\n",
      " 34  총중량           float64\n",
      " 35  적재중량          float64\n",
      " 36  엔진출력          float64\n",
      " 37  배기량           float64\n",
      " 38  승차인원          float64\n",
      " 39  차량길이          float64\n",
      " 40  차량너비          float64\n",
      " 41  차량높이          float64\n",
      " 42  원산지명          object \n",
      " 43  삭제YN          object \n",
      " 44  승인일자          object \n",
      " 45  구동형식          object \n",
      " 46  변속기종류         object \n",
      " 47  생성일시_제원정보     object \n",
      " 48  수정일시_제원정보     object \n",
      "dtypes: float64(14), int64(5), object(30)\n",
      "memory usage: 1.1+ GB\n"
     ]
    }
   ],
   "source": [
    "total = df1.merge(df2, on='제원관리번호', how='left')\n",
    "total.info()"
   ]
  },
  {
   "attachments": {},
   "cell_type": "markdown",
   "metadata": {},
   "source": [
    "## [출력] 등록정보와 제원정보"
   ]
  },
  {
   "cell_type": "code",
   "execution_count": 30,
   "metadata": {},
   "outputs": [],
   "source": [
    "# about 1m\n",
    "total.to_csv(os.path.join(ods_fold, '[ODS][G1]등록정보&제원정보(한글컬럼)(2022.12.29).csv'), index=False, encoding='cp949')"
   ]
  },
  {
   "attachments": {},
   "cell_type": "markdown",
   "metadata": {},
   "source": [
    "# [ODS]2등급"
   ]
  },
  {
   "attachments": {},
   "cell_type": "markdown",
   "metadata": {},
   "source": [
    "## [로드]"
   ]
  },
  {
   "cell_type": "code",
   "execution_count": 31,
   "metadata": {},
   "outputs": [
    {
     "name": "stdout",
     "output_type": "stream",
     "text": [
      "<class 'pandas.core.frame.DataFrame'>\n",
      "RangeIndex: 12053653 entries, 0 to 12053652\n",
      "Data columns (total 32 columns):\n",
      " #   Column         Dtype  \n",
      "---  ------         -----  \n",
      " 0   차량관리번호         object \n",
      " 1   차량등록번호         object \n",
      " 2   본거지 법정동 코드     int64  \n",
      " 3   소유자 구분         object \n",
      " 4   차종             object \n",
      " 5   용도             object \n",
      " 6   미정             object \n",
      " 7   현재 회원번호        object \n",
      " 8   미정.1           object \n",
      " 9   미정.2           object \n",
      " 10  차대번호           object \n",
      " 11  최초 등록 일자       int64  \n",
      " 12  차량 연식          int64  \n",
      " 13  차량 제작 일자       float64\n",
      " 14  배출가스검사유효일자     float64\n",
      " 15  제원관리번호         object \n",
      " 16  배출가스 인증번호      object \n",
      " 17  배출가스 등급        object \n",
      " 18  저공해조치 YN(미사용)  object \n",
      " 19  저공해조치 종류       float64\n",
      " 20  저공해조치 구조변경 YN  object \n",
      " 21  미정.3           float64\n",
      " 22  차량등록번호 숫자 정보   int64  \n",
      " 23  차량 말소 YN       object \n",
      " 24  미정.4           object \n",
      " 25  최초 회원번호        object \n",
      " 26  취득 일자          float64\n",
      " 27  취득 금액          float64\n",
      " 28  미정.5           object \n",
      " 29  생성 일시          object \n",
      " 30  수정 일시          object \n",
      " 31  미정.6           object \n",
      "dtypes: float64(6), int64(4), object(22)\n",
      "memory usage: 2.9+ GB\n"
     ]
    }
   ],
   "source": [
    "# about 4m\n",
    "file_name = '[ODS][G2]자동차_등록정보(한글컬럼)(2022-12-29).csv'\n",
    "ods_path = os.path.join(ods_fold, file_name)\n",
    "df1 = pd.read_csv(ods_path, low_memory=False, encoding='cp949')\n",
    "df1.info()"
   ]
  },
  {
   "attachments": {},
   "cell_type": "markdown",
   "metadata": {},
   "source": [
    "### 정리\n",
    "- 컬럼명, 컬럼순서, 컬럼"
   ]
  },
  {
   "cell_type": "code",
   "execution_count": 32,
   "metadata": {},
   "outputs": [
    {
     "data": {
      "text/plain": [
       "Index(['차량관리번호', '차량등록번호', '본거지 법정동 코드', '소유자 구분', '차종', '용도', '미정', '현재 회원번호',\n",
       "       '미정.1', '미정.2', '차대번호', '최초 등록 일자', '차량 연식', '차량 제작 일자', '배출가스검사유효일자',\n",
       "       '제원관리번호', '배출가스 인증번호', '배출가스 등급', '저공해조치 YN(미사용)', '저공해조치 종류',\n",
       "       '저공해조치 구조변경 YN', '미정.3', '차량등록번호 숫자 정보', '차량 말소 YN', '미정.4', '최초 회원번호',\n",
       "       '취득 일자', '취득 금액', '미정.5', '생성 일시', '수정 일시', '미정.6'],\n",
       "      dtype='object')"
      ]
     },
     "execution_count": 32,
     "metadata": {},
     "output_type": "execute_result"
    }
   ],
   "source": [
    "df1.columns"
   ]
  },
  {
   "cell_type": "code",
   "execution_count": 33,
   "metadata": {},
   "outputs": [],
   "source": [
    "df1.columns = ['차량관리번호', '차량등록번호', '본거지법정동코드', '소유자구분', '차종_등록정보', '용도', '미정1', '현재회원번호',\n",
    "       '미정2', '미정3', '차대번호', '최초등록일자', '차량연식', '차량제작일자', '배출가스검사유효일자',\n",
    "       '제원관리번호', '배출가스인증번호', '배출가스등급', '저공해조치YN(미사용)', '저공해조치종류',\n",
    "       '저공해조치구조변경YN', '미정4', '차량등록번호숫자정보', '차량말소YN', '미정5', '최초회원번호',\n",
    "       '취득일자', '취득금액', '미정6', '생성일시_등록정보', '수정일시_등록정보', '미정7']"
   ]
  },
  {
   "cell_type": "code",
   "execution_count": 34,
   "metadata": {},
   "outputs": [],
   "source": [
    "df1 = df1[['차량관리번호', '차량등록번호', '본거지법정동코드', '소유자구분', '차종_등록정보', '용도', '현재회원번호', '차대번호', '최초등록일자', '차량연식', '차량제작일자', '배출가스검사유효일자', \n",
    "       '제원관리번호', '배출가스인증번호', '배출가스등급', '저공해조치YN(미사용)', '저공해조치종류', '저공해조치구조변경YN', '차량등록번호숫자정보', '차량말소YN', '최초회원번호', '취득일자', '취득금액',\n",
    "       '생성일시_등록정보', '수정일시_등록정보']]"
   ]
  },
  {
   "cell_type": "code",
   "execution_count": 35,
   "metadata": {},
   "outputs": [
    {
     "data": {
      "text/plain": [
       "2     11803371\n",
       "T2      250282\n",
       "Name: 배출가스등급, dtype: int64"
      ]
     },
     "execution_count": 35,
     "metadata": {},
     "output_type": "execute_result"
    }
   ],
   "source": [
    "df1['배출가스등급'].value_counts()"
   ]
  },
  {
   "attachments": {},
   "cell_type": "markdown",
   "metadata": {},
   "source": [
    "## [병합] 등록정보와 제원정보"
   ]
  },
  {
   "cell_type": "code",
   "execution_count": 36,
   "metadata": {},
   "outputs": [
    {
     "name": "stdout",
     "output_type": "stream",
     "text": [
      "<class 'pandas.core.frame.DataFrame'>\n",
      "Int64Index: 12053653 entries, 0 to 12053652\n",
      "Data columns (total 49 columns):\n",
      " #   Column        Dtype  \n",
      "---  ------        -----  \n",
      " 0   차량관리번호        object \n",
      " 1   차량등록번호        object \n",
      " 2   본거지법정동코드      int64  \n",
      " 3   소유자구분         object \n",
      " 4   차종_등록정보       object \n",
      " 5   용도            object \n",
      " 6   현재회원번호        object \n",
      " 7   차대번호          object \n",
      " 8   최초등록일자        int64  \n",
      " 9   차량연식          int64  \n",
      " 10  차량제작일자        float64\n",
      " 11  배출가스검사유효일자    float64\n",
      " 12  제원관리번호        object \n",
      " 13  배출가스인증번호      object \n",
      " 14  배출가스등급        object \n",
      " 15  저공해조치YN(미사용)  object \n",
      " 16  저공해조치종류       float64\n",
      " 17  저공해조치구조변경YN   object \n",
      " 18  차량등록번호숫자정보    int64  \n",
      " 19  차량말소YN        object \n",
      " 20  최초회원번호        object \n",
      " 21  취득일자          float64\n",
      " 22  취득금액          float64\n",
      " 23  생성일시_등록정보     object \n",
      " 24  수정일시_등록정보     object \n",
      " 25  차명            object \n",
      " 26  차종_제원정보       object \n",
      " 27  차종분류          object \n",
      " 28  차종유형(소분류)     object \n",
      " 29  자동차형식         object \n",
      " 30  제작사명          object \n",
      " 31  연료            object \n",
      " 32  엔진형식          object \n",
      " 33  공차중량          float64\n",
      " 34  총중량           float64\n",
      " 35  적재중량          float64\n",
      " 36  엔진출력          float64\n",
      " 37  배기량           float64\n",
      " 38  승차인원          float64\n",
      " 39  차량길이          float64\n",
      " 40  차량너비          float64\n",
      " 41  차량높이          float64\n",
      " 42  원산지명          object \n",
      " 43  삭제YN          object \n",
      " 44  승인일자          object \n",
      " 45  구동형식          object \n",
      " 46  변속기종류         object \n",
      " 47  생성일시_제원정보     object \n",
      " 48  수정일시_제원정보     object \n",
      "dtypes: float64(14), int64(4), object(31)\n",
      "memory usage: 4.5+ GB\n"
     ]
    }
   ],
   "source": [
    "total = df1.merge(df2, on='제원관리번호', how='left')\n",
    "total.info()"
   ]
  },
  {
   "attachments": {},
   "cell_type": "markdown",
   "metadata": {},
   "source": [
    "## [출력] 등록정보와 제원정보"
   ]
  },
  {
   "cell_type": "code",
   "execution_count": 38,
   "metadata": {},
   "outputs": [],
   "source": [
    "# about 5m\n",
    "total.to_csv(os.path.join(ods_fold, '[ODS][G2]등록정보&제원정보(한글컬럼)(2022.12.29).csv'), index=False, encoding='cp949')"
   ]
  },
  {
   "attachments": {},
   "cell_type": "markdown",
   "metadata": {},
   "source": [
    "# [ODS]3등급"
   ]
  },
  {
   "attachments": {},
   "cell_type": "markdown",
   "metadata": {},
   "source": [
    "## [로드]"
   ]
  },
  {
   "cell_type": "code",
   "execution_count": 39,
   "metadata": {},
   "outputs": [
    {
     "name": "stdout",
     "output_type": "stream",
     "text": [
      "<class 'pandas.core.frame.DataFrame'>\n",
      "RangeIndex: 10027407 entries, 0 to 10027406\n",
      "Data columns (total 32 columns):\n",
      " #   Column         Dtype  \n",
      "---  ------         -----  \n",
      " 0   차량관리번호         object \n",
      " 1   차량등록번호         object \n",
      " 2   본거지 법정동 코드     int64  \n",
      " 3   소유자 구분         object \n",
      " 4   차종             object \n",
      " 5   용도             object \n",
      " 6   미정             object \n",
      " 7   현재 회원번호        object \n",
      " 8   미정.1           object \n",
      " 9   미정.2           object \n",
      " 10  차대번호           object \n",
      " 11  최초 등록 일자       int64  \n",
      " 12  차량 연식          int64  \n",
      " 13  차량 제작 일자       float64\n",
      " 14  배출가스검사유효일자     float64\n",
      " 15  제원관리번호         object \n",
      " 16  배출가스 인증번호      object \n",
      " 17  배출가스 등급        object \n",
      " 18  저공해조치 YN(미사용)  object \n",
      " 19  저공해조치 종류       float64\n",
      " 20  저공해조치 구조변경 YN  object \n",
      " 21  미정.3           float64\n",
      " 22  차량등록번호 숫자 정보   int64  \n",
      " 23  차량 말소 YN       object \n",
      " 24  미정.4           object \n",
      " 25  최초 회원번호        object \n",
      " 26  취득 일자          float64\n",
      " 27  취득 금액          float64\n",
      " 28  미정.5           object \n",
      " 29  생성 일시          object \n",
      " 30  수정 일시          object \n",
      " 31  미정.6           object \n",
      "dtypes: float64(6), int64(4), object(22)\n",
      "memory usage: 2.4+ GB\n"
     ]
    }
   ],
   "source": [
    "# about 3m\n",
    "file_name = '[ODS][G3]자동차_등록정보(한글컬럼)(2022-12-29).csv'\n",
    "ods_path = os.path.join(ods_fold, file_name)\n",
    "df1 = pd.read_csv(ods_path, low_memory=False, encoding='cp949')\n",
    "df1.info()"
   ]
  },
  {
   "attachments": {},
   "cell_type": "markdown",
   "metadata": {},
   "source": [
    "### 정리\n",
    "- 컬럼명, 컬럼순서, 컬럼"
   ]
  },
  {
   "cell_type": "code",
   "execution_count": 40,
   "metadata": {},
   "outputs": [
    {
     "data": {
      "text/plain": [
       "Index(['차량관리번호', '차량등록번호', '본거지 법정동 코드', '소유자 구분', '차종', '용도', '미정', '현재 회원번호',\n",
       "       '미정.1', '미정.2', '차대번호', '최초 등록 일자', '차량 연식', '차량 제작 일자', '배출가스검사유효일자',\n",
       "       '제원관리번호', '배출가스 인증번호', '배출가스 등급', '저공해조치 YN(미사용)', '저공해조치 종류',\n",
       "       '저공해조치 구조변경 YN', '미정.3', '차량등록번호 숫자 정보', '차량 말소 YN', '미정.4', '최초 회원번호',\n",
       "       '취득 일자', '취득 금액', '미정.5', '생성 일시', '수정 일시', '미정.6'],\n",
       "      dtype='object')"
      ]
     },
     "execution_count": 40,
     "metadata": {},
     "output_type": "execute_result"
    }
   ],
   "source": [
    "df1.columns"
   ]
  },
  {
   "cell_type": "code",
   "execution_count": 41,
   "metadata": {},
   "outputs": [],
   "source": [
    "df1.columns = ['차량관리번호', '차량등록번호', '본거지법정동코드', '소유자구분', '차종_등록정보', '용도', '미정1', '현재회원번호',\n",
    "       '미정2', '미정3', '차대번호', '최초등록일자', '차량연식', '차량제작일자', '배출가스검사유효일자',\n",
    "       '제원관리번호', '배출가스인증번호', '배출가스등급', '저공해조치YN(미사용)', '저공해조치종류',\n",
    "       '저공해조치구조변경YN', '미정4', '차량등록번호숫자정보', '차량말소YN', '미정5', '최초회원번호',\n",
    "       '취득일자', '취득금액', '미정6', '생성일시_등록정보', '수정일시_등록정보', '미정7']"
   ]
  },
  {
   "cell_type": "code",
   "execution_count": 42,
   "metadata": {},
   "outputs": [],
   "source": [
    "df1 = df1[['차량관리번호', '차량등록번호', '본거지법정동코드', '소유자구분', '차종_등록정보', '용도', '현재회원번호', '차대번호', '최초등록일자', '차량연식', '차량제작일자', '배출가스검사유효일자', \n",
    "       '제원관리번호', '배출가스인증번호', '배출가스등급', '저공해조치YN(미사용)', '저공해조치종류', '저공해조치구조변경YN', '차량등록번호숫자정보', '차량말소YN', '최초회원번호', '취득일자', '취득금액',\n",
    "       '생성일시_등록정보', '수정일시_등록정보']]"
   ]
  },
  {
   "cell_type": "code",
   "execution_count": 43,
   "metadata": {},
   "outputs": [
    {
     "data": {
      "text/plain": [
       "3     9890563\n",
       "T3     136844\n",
       "Name: 배출가스등급, dtype: int64"
      ]
     },
     "execution_count": 43,
     "metadata": {},
     "output_type": "execute_result"
    }
   ],
   "source": [
    "df1['배출가스등급'].value_counts()"
   ]
  },
  {
   "attachments": {},
   "cell_type": "markdown",
   "metadata": {},
   "source": [
    "## [병합] 등록정보와 제원정보"
   ]
  },
  {
   "cell_type": "code",
   "execution_count": 44,
   "metadata": {},
   "outputs": [
    {
     "name": "stdout",
     "output_type": "stream",
     "text": [
      "<class 'pandas.core.frame.DataFrame'>\n",
      "Int64Index: 10027407 entries, 0 to 10027406\n",
      "Data columns (total 49 columns):\n",
      " #   Column        Dtype  \n",
      "---  ------        -----  \n",
      " 0   차량관리번호        object \n",
      " 1   차량등록번호        object \n",
      " 2   본거지법정동코드      int64  \n",
      " 3   소유자구분         object \n",
      " 4   차종_등록정보       object \n",
      " 5   용도            object \n",
      " 6   현재회원번호        object \n",
      " 7   차대번호          object \n",
      " 8   최초등록일자        int64  \n",
      " 9   차량연식          int64  \n",
      " 10  차량제작일자        float64\n",
      " 11  배출가스검사유효일자    float64\n",
      " 12  제원관리번호        object \n",
      " 13  배출가스인증번호      object \n",
      " 14  배출가스등급        object \n",
      " 15  저공해조치YN(미사용)  object \n",
      " 16  저공해조치종류       float64\n",
      " 17  저공해조치구조변경YN   object \n",
      " 18  차량등록번호숫자정보    int64  \n",
      " 19  차량말소YN        object \n",
      " 20  최초회원번호        object \n",
      " 21  취득일자          float64\n",
      " 22  취득금액          float64\n",
      " 23  생성일시_등록정보     object \n",
      " 24  수정일시_등록정보     object \n",
      " 25  차명            object \n",
      " 26  차종_제원정보       object \n",
      " 27  차종분류          object \n",
      " 28  차종유형(소분류)     object \n",
      " 29  자동차형식         object \n",
      " 30  제작사명          object \n",
      " 31  연료            object \n",
      " 32  엔진형식          object \n",
      " 33  공차중량          float64\n",
      " 34  총중량           float64\n",
      " 35  적재중량          float64\n",
      " 36  엔진출력          float64\n",
      " 37  배기량           float64\n",
      " 38  승차인원          float64\n",
      " 39  차량길이          float64\n",
      " 40  차량너비          float64\n",
      " 41  차량높이          float64\n",
      " 42  원산지명          object \n",
      " 43  삭제YN          object \n",
      " 44  승인일자          object \n",
      " 45  구동형식          object \n",
      " 46  변속기종류         object \n",
      " 47  생성일시_제원정보     object \n",
      " 48  수정일시_제원정보     object \n",
      "dtypes: float64(14), int64(4), object(31)\n",
      "memory usage: 3.7+ GB\n"
     ]
    }
   ],
   "source": [
    "total = df1.merge(df2, on='제원관리번호', how='left')\n",
    "total.info()"
   ]
  },
  {
   "attachments": {},
   "cell_type": "markdown",
   "metadata": {},
   "source": [
    "## [출력] 등록정보와 제원정보"
   ]
  },
  {
   "cell_type": "code",
   "execution_count": 45,
   "metadata": {},
   "outputs": [],
   "source": [
    "# about 4m\n",
    "total.to_csv(os.path.join(ods_fold, '[ODS][G3]등록정보&제원정보(한글컬럼)(2022.12.29).csv'), index=False, encoding='cp949')"
   ]
  },
  {
   "attachments": {},
   "cell_type": "markdown",
   "metadata": {},
   "source": [
    "# [ODS]4등급"
   ]
  },
  {
   "attachments": {},
   "cell_type": "markdown",
   "metadata": {},
   "source": [
    "## [로드]"
   ]
  },
  {
   "cell_type": "code",
   "execution_count": 46,
   "metadata": {},
   "outputs": [
    {
     "name": "stdout",
     "output_type": "stream",
     "text": [
      "<class 'pandas.core.frame.DataFrame'>\n",
      "RangeIndex: 1898816 entries, 0 to 1898815\n",
      "Data columns (total 32 columns):\n",
      " #   Column         Dtype  \n",
      "---  ------         -----  \n",
      " 0   차량관리번호         object \n",
      " 1   차량등록번호         object \n",
      " 2   본거지 법정동 코드     int64  \n",
      " 3   소유자 구분         object \n",
      " 4   차종             object \n",
      " 5   용도             object \n",
      " 6   미정             object \n",
      " 7   현재 회원번호        object \n",
      " 8   미정.1           object \n",
      " 9   미정.2           object \n",
      " 10  차대번호           object \n",
      " 11  최초 등록 일자       int64  \n",
      " 12  차량 연식          int64  \n",
      " 13  차량 제작 일자       float64\n",
      " 14  배출가스검사유효일자     float64\n",
      " 15  제원관리번호         object \n",
      " 16  배출가스 인증번호      object \n",
      " 17  배출가스 등급        object \n",
      " 18  저공해조치 YN(미사용)  object \n",
      " 19  저공해조치 종류       float64\n",
      " 20  저공해조치 구조변경 YN  object \n",
      " 21  미정.3           float64\n",
      " 22  차량등록번호 숫자 정보   int64  \n",
      " 23  차량 말소 YN       object \n",
      " 24  미정.4           object \n",
      " 25  최초 회원번호        object \n",
      " 26  취득 일자          object \n",
      " 27  취득 금액          float64\n",
      " 28  미정.5           object \n",
      " 29  생성 일시          object \n",
      " 30  수정 일시          object \n",
      " 31  미정.6           object \n",
      "dtypes: float64(5), int64(4), object(23)\n",
      "memory usage: 463.6+ MB\n"
     ]
    }
   ],
   "source": [
    "# about 40s\n",
    "file_name = '[ODS][G4]자동차_등록정보(한글컬럼)(2022-12-29).csv'\n",
    "ods_path = os.path.join(ods_fold, file_name)\n",
    "df1 = pd.read_csv(ods_path, low_memory=False, encoding='cp949')\n",
    "df1.info()"
   ]
  },
  {
   "attachments": {},
   "cell_type": "markdown",
   "metadata": {},
   "source": [
    "### 정리\n",
    "- 컬럼명, 컬럼순서, 컬럼"
   ]
  },
  {
   "cell_type": "code",
   "execution_count": 47,
   "metadata": {},
   "outputs": [
    {
     "data": {
      "text/plain": [
       "Index(['차량관리번호', '차량등록번호', '본거지 법정동 코드', '소유자 구분', '차종', '용도', '미정', '현재 회원번호',\n",
       "       '미정.1', '미정.2', '차대번호', '최초 등록 일자', '차량 연식', '차량 제작 일자', '배출가스검사유효일자',\n",
       "       '제원관리번호', '배출가스 인증번호', '배출가스 등급', '저공해조치 YN(미사용)', '저공해조치 종류',\n",
       "       '저공해조치 구조변경 YN', '미정.3', '차량등록번호 숫자 정보', '차량 말소 YN', '미정.4', '최초 회원번호',\n",
       "       '취득 일자', '취득 금액', '미정.5', '생성 일시', '수정 일시', '미정.6'],\n",
       "      dtype='object')"
      ]
     },
     "execution_count": 47,
     "metadata": {},
     "output_type": "execute_result"
    }
   ],
   "source": [
    "df1.columns"
   ]
  },
  {
   "cell_type": "code",
   "execution_count": 48,
   "metadata": {},
   "outputs": [],
   "source": [
    "df1.columns = ['차량관리번호', '차량등록번호', '본거지법정동코드', '소유자구분', '차종_등록정보', '용도', '미정1', '현재회원번호',\n",
    "       '미정2', '미정3', '차대번호', '최초등록일자', '차량연식', '차량제작일자', '배출가스검사유효일자',\n",
    "       '제원관리번호', '배출가스인증번호', '배출가스등급', '저공해조치YN(미사용)', '저공해조치종류',\n",
    "       '저공해조치구조변경YN', '미정4', '차량등록번호숫자정보', '차량말소YN', '미정5', '최초회원번호',\n",
    "       '취득일자', '취득금액', '미정6', '생성일시_등록정보', '수정일시_등록정보', '미정7']"
   ]
  },
  {
   "cell_type": "code",
   "execution_count": 49,
   "metadata": {},
   "outputs": [],
   "source": [
    "df1 = df1[['차량관리번호', '차량등록번호', '본거지법정동코드', '소유자구분', '차종_등록정보', '용도', '현재회원번호', '차대번호', '최초등록일자', '차량연식', '차량제작일자', '배출가스검사유효일자', \n",
    "       '제원관리번호', '배출가스인증번호', '배출가스등급', '저공해조치YN(미사용)', '저공해조치종류', '저공해조치구조변경YN', '차량등록번호숫자정보', '차량말소YN', '최초회원번호', '취득일자', '취득금액',\n",
    "       '생성일시_등록정보', '수정일시_등록정보']]"
   ]
  },
  {
   "cell_type": "code",
   "execution_count": 50,
   "metadata": {},
   "outputs": [
    {
     "data": {
      "text/plain": [
       "4     1898773\n",
       "T4         43\n",
       "Name: 배출가스등급, dtype: int64"
      ]
     },
     "execution_count": 50,
     "metadata": {},
     "output_type": "execute_result"
    }
   ],
   "source": [
    "df1['배출가스등급'].value_counts()"
   ]
  },
  {
   "attachments": {},
   "cell_type": "markdown",
   "metadata": {},
   "source": [
    "## [병합] 등록정보와 제원정보"
   ]
  },
  {
   "cell_type": "code",
   "execution_count": 51,
   "metadata": {},
   "outputs": [
    {
     "name": "stdout",
     "output_type": "stream",
     "text": [
      "<class 'pandas.core.frame.DataFrame'>\n",
      "Int64Index: 1898816 entries, 0 to 1898815\n",
      "Data columns (total 49 columns):\n",
      " #   Column        Dtype  \n",
      "---  ------        -----  \n",
      " 0   차량관리번호        object \n",
      " 1   차량등록번호        object \n",
      " 2   본거지법정동코드      int64  \n",
      " 3   소유자구분         object \n",
      " 4   차종_등록정보       object \n",
      " 5   용도            object \n",
      " 6   현재회원번호        object \n",
      " 7   차대번호          object \n",
      " 8   최초등록일자        int64  \n",
      " 9   차량연식          int64  \n",
      " 10  차량제작일자        float64\n",
      " 11  배출가스검사유효일자    float64\n",
      " 12  제원관리번호        object \n",
      " 13  배출가스인증번호      object \n",
      " 14  배출가스등급        object \n",
      " 15  저공해조치YN(미사용)  object \n",
      " 16  저공해조치종류       float64\n",
      " 17  저공해조치구조변경YN   object \n",
      " 18  차량등록번호숫자정보    int64  \n",
      " 19  차량말소YN        object \n",
      " 20  최초회원번호        object \n",
      " 21  취득일자          object \n",
      " 22  취득금액          float64\n",
      " 23  생성일시_등록정보     object \n",
      " 24  수정일시_등록정보     object \n",
      " 25  차명            object \n",
      " 26  차종_제원정보       object \n",
      " 27  차종분류          object \n",
      " 28  차종유형(소분류)     object \n",
      " 29  자동차형식         object \n",
      " 30  제작사명          object \n",
      " 31  연료            object \n",
      " 32  엔진형식          object \n",
      " 33  공차중량          float64\n",
      " 34  총중량           float64\n",
      " 35  적재중량          float64\n",
      " 36  엔진출력          float64\n",
      " 37  배기량           float64\n",
      " 38  승차인원          float64\n",
      " 39  차량길이          float64\n",
      " 40  차량너비          float64\n",
      " 41  차량높이          float64\n",
      " 42  원산지명          object \n",
      " 43  삭제YN          object \n",
      " 44  승인일자          object \n",
      " 45  구동형식          object \n",
      " 46  변속기종류         object \n",
      " 47  생성일시_제원정보     object \n",
      " 48  수정일시_제원정보     object \n",
      "dtypes: float64(13), int64(4), object(32)\n",
      "memory usage: 724.3+ MB\n"
     ]
    }
   ],
   "source": [
    "total = df1.merge(df2, on='제원관리번호', how='left')\n",
    "total.info()"
   ]
  },
  {
   "attachments": {},
   "cell_type": "markdown",
   "metadata": {},
   "source": [
    "## [출력] 등록정보와 제원정보"
   ]
  },
  {
   "cell_type": "code",
   "execution_count": 52,
   "metadata": {},
   "outputs": [],
   "source": [
    "# about 45s\n",
    "total.to_csv(os.path.join(ods_fold, '[ODS][G4]등록정보&제원정보(한글컬럼)(2022.12.29).csv'), index=False, encoding='cp949')"
   ]
  },
  {
   "attachments": {},
   "cell_type": "markdown",
   "metadata": {},
   "source": [
    "# [ODS]5등급"
   ]
  },
  {
   "attachments": {},
   "cell_type": "markdown",
   "metadata": {},
   "source": [
    "## [로드]"
   ]
  },
  {
   "cell_type": "code",
   "execution_count": 53,
   "metadata": {},
   "outputs": [
    {
     "name": "stdout",
     "output_type": "stream",
     "text": [
      "<class 'pandas.core.frame.DataFrame'>\n",
      "RangeIndex: 2378648 entries, 0 to 2378647\n",
      "Data columns (total 32 columns):\n",
      " #   Column         Dtype  \n",
      "---  ------         -----  \n",
      " 0   차량관리번호         object \n",
      " 1   차량등록번호         object \n",
      " 2   본거지 법정동 코드     int64  \n",
      " 3   소유자 구분         object \n",
      " 4   차종             object \n",
      " 5   용도             object \n",
      " 6   미정             object \n",
      " 7   현재 회원번호        object \n",
      " 8   미정.1           object \n",
      " 9   미정.2           object \n",
      " 10  차대번호           object \n",
      " 11  최초 등록 일자       int64  \n",
      " 12  차량 연식          int64  \n",
      " 13  차량 제작 일자       object \n",
      " 14  배출가스검사유효일자     float64\n",
      " 15  제원관리번호         object \n",
      " 16  배출가스 인증번호      object \n",
      " 17  배출가스 등급        object \n",
      " 18  저공해조치 YN(미사용)  object \n",
      " 19  저공해조치 종류       float64\n",
      " 20  저공해조치 구조변경 YN  object \n",
      " 21  미정.3           float64\n",
      " 22  차량등록번호 숫자 정보   int64  \n",
      " 23  차량 말소 YN       object \n",
      " 24  미정.4           object \n",
      " 25  최초 회원번호        object \n",
      " 26  취득 일자          float64\n",
      " 27  취득 금액          float64\n",
      " 28  미정.5           object \n",
      " 29  생성 일시          object \n",
      " 30  수정 일시          object \n",
      " 31  미정.6           object \n",
      "dtypes: float64(5), int64(4), object(23)\n",
      "memory usage: 580.7+ MB\n"
     ]
    }
   ],
   "source": [
    "# about 50s\n",
    "file_name = '[ODS][G5]자동차_등록정보(한글컬럼)(2022-12-29).csv'\n",
    "ods_path = os.path.join(ods_fold, file_name)\n",
    "df1 = pd.read_csv(ods_path, low_memory=False, encoding='cp949')\n",
    "df1.info()"
   ]
  },
  {
   "attachments": {},
   "cell_type": "markdown",
   "metadata": {},
   "source": [
    "### 정리\n",
    "- 컬럼명, 컬럼순서, 컬럼"
   ]
  },
  {
   "cell_type": "code",
   "execution_count": 54,
   "metadata": {},
   "outputs": [
    {
     "data": {
      "text/plain": [
       "Index(['차량관리번호', '차량등록번호', '본거지 법정동 코드', '소유자 구분', '차종', '용도', '미정', '현재 회원번호',\n",
       "       '미정.1', '미정.2', '차대번호', '최초 등록 일자', '차량 연식', '차량 제작 일자', '배출가스검사유효일자',\n",
       "       '제원관리번호', '배출가스 인증번호', '배출가스 등급', '저공해조치 YN(미사용)', '저공해조치 종류',\n",
       "       '저공해조치 구조변경 YN', '미정.3', '차량등록번호 숫자 정보', '차량 말소 YN', '미정.4', '최초 회원번호',\n",
       "       '취득 일자', '취득 금액', '미정.5', '생성 일시', '수정 일시', '미정.6'],\n",
       "      dtype='object')"
      ]
     },
     "execution_count": 54,
     "metadata": {},
     "output_type": "execute_result"
    }
   ],
   "source": [
    "df1.columns"
   ]
  },
  {
   "cell_type": "code",
   "execution_count": 55,
   "metadata": {},
   "outputs": [],
   "source": [
    "df1.columns = ['차량관리번호', '차량등록번호', '본거지법정동코드', '소유자구분', '차종_등록정보', '용도', '미정1', '현재회원번호',\n",
    "       '미정2', '미정3', '차대번호', '최초등록일자', '차량연식', '차량제작일자', '배출가스검사유효일자',\n",
    "       '제원관리번호', '배출가스인증번호', '배출가스등급', '저공해조치YN(미사용)', '저공해조치종류',\n",
    "       '저공해조치구조변경YN', '미정4', '차량등록번호숫자정보', '차량말소YN', '미정5', '최초회원번호',\n",
    "       '취득일자', '취득금액', '미정6', '생성일시_등록정보', '수정일시_등록정보', '미정7']"
   ]
  },
  {
   "cell_type": "code",
   "execution_count": 56,
   "metadata": {},
   "outputs": [],
   "source": [
    "df1 = df1[['차량관리번호', '차량등록번호', '본거지법정동코드', '소유자구분', '차종_등록정보', '용도', '현재회원번호', '차대번호', '최초등록일자', '차량연식', '차량제작일자', '배출가스검사유효일자', \n",
    "       '제원관리번호', '배출가스인증번호', '배출가스등급', '저공해조치YN(미사용)', '저공해조치종류', '저공해조치구조변경YN', '차량등록번호숫자정보', '차량말소YN', '최초회원번호', '취득일자', '취득금액',\n",
    "       '생성일시_등록정보', '수정일시_등록정보']]"
   ]
  },
  {
   "cell_type": "code",
   "execution_count": 57,
   "metadata": {},
   "outputs": [
    {
     "data": {
      "text/plain": [
       "5     2378599\n",
       "T5         49\n",
       "Name: 배출가스등급, dtype: int64"
      ]
     },
     "execution_count": 57,
     "metadata": {},
     "output_type": "execute_result"
    }
   ],
   "source": [
    "df1['배출가스등급'].value_counts()"
   ]
  },
  {
   "attachments": {},
   "cell_type": "markdown",
   "metadata": {},
   "source": [
    "## [병합] 등록정보와 제원정보"
   ]
  },
  {
   "cell_type": "code",
   "execution_count": 58,
   "metadata": {},
   "outputs": [
    {
     "name": "stdout",
     "output_type": "stream",
     "text": [
      "<class 'pandas.core.frame.DataFrame'>\n",
      "Int64Index: 2378648 entries, 0 to 2378647\n",
      "Data columns (total 49 columns):\n",
      " #   Column        Dtype  \n",
      "---  ------        -----  \n",
      " 0   차량관리번호        object \n",
      " 1   차량등록번호        object \n",
      " 2   본거지법정동코드      int64  \n",
      " 3   소유자구분         object \n",
      " 4   차종_등록정보       object \n",
      " 5   용도            object \n",
      " 6   현재회원번호        object \n",
      " 7   차대번호          object \n",
      " 8   최초등록일자        int64  \n",
      " 9   차량연식          int64  \n",
      " 10  차량제작일자        object \n",
      " 11  배출가스검사유효일자    float64\n",
      " 12  제원관리번호        object \n",
      " 13  배출가스인증번호      object \n",
      " 14  배출가스등급        object \n",
      " 15  저공해조치YN(미사용)  object \n",
      " 16  저공해조치종류       float64\n",
      " 17  저공해조치구조변경YN   object \n",
      " 18  차량등록번호숫자정보    int64  \n",
      " 19  차량말소YN        object \n",
      " 20  최초회원번호        object \n",
      " 21  취득일자          float64\n",
      " 22  취득금액          float64\n",
      " 23  생성일시_등록정보     object \n",
      " 24  수정일시_등록정보     object \n",
      " 25  차명            object \n",
      " 26  차종_제원정보       object \n",
      " 27  차종분류          object \n",
      " 28  차종유형(소분류)     object \n",
      " 29  자동차형식         object \n",
      " 30  제작사명          object \n",
      " 31  연료            object \n",
      " 32  엔진형식          object \n",
      " 33  공차중량          float64\n",
      " 34  총중량           float64\n",
      " 35  적재중량          float64\n",
      " 36  엔진출력          float64\n",
      " 37  배기량           float64\n",
      " 38  승차인원          float64\n",
      " 39  차량길이          float64\n",
      " 40  차량너비          float64\n",
      " 41  차량높이          float64\n",
      " 42  원산지명          object \n",
      " 43  삭제YN          object \n",
      " 44  승인일자          object \n",
      " 45  구동형식          object \n",
      " 46  변속기종류         object \n",
      " 47  생성일시_제원정보     object \n",
      " 48  수정일시_제원정보     object \n",
      "dtypes: float64(13), int64(4), object(32)\n",
      "memory usage: 907.4+ MB\n"
     ]
    }
   ],
   "source": [
    "total = df1.merge(df2, on='제원관리번호', how='left')\n",
    "total.info()"
   ]
  },
  {
   "attachments": {},
   "cell_type": "markdown",
   "metadata": {},
   "source": [
    "## [출력] 등록정보와 제원정보"
   ]
  },
  {
   "cell_type": "code",
   "execution_count": 59,
   "metadata": {},
   "outputs": [],
   "source": [
    "# about 1m\n",
    "total.to_csv(os.path.join(ods_fold, '[ODS][G5]등록정보&제원정보(한글컬럼)(2022.12.29).csv'), index=False, encoding='cp949')"
   ]
  },
  {
   "cell_type": "markdown",
   "metadata": {},
   "source": [
    "# 코드 마지막"
   ]
  }
 ],
 "metadata": {
  "kernelspec": {
   "display_name": "base",
   "language": "python",
   "name": "python3"
  },
  "language_info": {
   "codemirror_mode": {
    "name": "ipython",
    "version": 3
   },
   "file_extension": ".py",
   "mimetype": "text/x-python",
   "name": "python",
   "nbconvert_exporter": "python",
   "pygments_lexer": "ipython3",
   "version": "3.9.13 (main, Aug 25 2022, 23:51:50) [MSC v.1916 64 bit (AMD64)]"
  },
  "orig_nbformat": 4,
  "vscode": {
   "interpreter": {
    "hash": "ad2bdc8ecc057115af97d19610ffacc2b4e99fae6737bb82f5d7fb13d2f2c186"
   }
  }
 },
 "nbformat": 4,
 "nbformat_minor": 2
}
