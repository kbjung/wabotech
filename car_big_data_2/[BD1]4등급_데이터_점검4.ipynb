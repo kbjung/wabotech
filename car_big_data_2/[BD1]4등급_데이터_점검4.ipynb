{
 "cells": [
  {
   "attachments": {},
   "cell_type": "markdown",
   "metadata": {},
   "source": [
    "# Library"
   ]
  },
  {
   "cell_type": "code",
   "execution_count": 1,
   "metadata": {},
   "outputs": [],
   "source": [
    "import pandas as pd\n",
    "import os\n",
    "import numpy as np\n",
    "from tqdm import tqdm"
   ]
  },
  {
   "attachments": {},
   "cell_type": "markdown",
   "metadata": {},
   "source": [
    "# [로드]"
   ]
  },
  {
   "cell_type": "code",
   "execution_count": 2,
   "metadata": {},
   "outputs": [],
   "source": [
    "ods_fold = 'D:/data/big2/ODS'"
   ]
  },
  {
   "attachments": {},
   "cell_type": "markdown",
   "metadata": {},
   "source": [
    "## [로드] 검증요청 파일\n",
    "- [❌] ODS_CEG_EMIS_CERTI_VEH_MIG(배출가스 인증 자동차정보)\n",
    "- [⭕] ODS_CEG_EMIS_CERTI_TEST_MIG(배출가스 인증시험)"
   ]
  },
  {
   "cell_type": "code",
   "execution_count": 4,
   "metadata": {},
   "outputs": [
    {
     "name": "stdout",
     "output_type": "stream",
     "text": [
      "<class 'pandas.core.frame.DataFrame'>\n",
      "RangeIndex: 1212 entries, 0 to 1211\n",
      "Data columns (total 21 columns):\n",
      " #   Column                  Non-Null Count  Dtype  \n",
      "---  ------                  --------------  -----  \n",
      " 0   EMIS_PERM_STDR_CD       1212 non-null   int64  \n",
      " 1   EMIS_PERM_STDR_SML_SE   1212 non-null   object \n",
      " 2   FUEL_GRP                1212 non-null   int64  \n",
      " 3   EMIS_VHCTY              1212 non-null   object \n",
      " 4   TEST_BGIN_WGHT          1212 non-null   object \n",
      " 5   TEST_END_WGHT           1212 non-null   object \n",
      " 6   APLI_DE                 1212 non-null   object \n",
      " 7   EMIS_TEST_MOD_VAL       1212 non-null   object \n",
      " 8   CO_PERM_STDR_VAL        1182 non-null   float64\n",
      " 9   NMOG_PERM_STDR_VAL      212 non-null    float64\n",
      " 10  NMHC_PERM_STDR_VAL      374 non-null    float64\n",
      " 11  HC_PERM_STDR_VAL        125 non-null    float64\n",
      " 12  NOX_PERM_STDR_VAL       884 non-null    float64\n",
      " 13  NMOG_NOX_PERM_STDR_VAL  328 non-null    float64\n",
      " 14  HC_NOX_PERM_STDR_VAL    151 non-null    float64\n",
      " 15  PM_PERM_STDR_VAL        651 non-null    float64\n",
      " 16  PN_PERM_STDR_VAL        64 non-null     float64\n",
      " 17  EMIS_PERM_STDR_SE       1212 non-null   int64  \n",
      " 18  EMIS_GRD_USE_YN         1066 non-null   object \n",
      " 19  EMIS_GRD                1066 non-null   float64\n",
      " 20  EMIS_PERM_STDR_LEVL     1056 non-null   object \n",
      "dtypes: float64(10), int64(3), object(8)\n",
      "memory usage: 199.0+ KB\n"
     ]
    }
   ],
   "source": [
    "name = 'CEG_EMIS_CERTI_TEST_MIG'\n",
    "file_name = f'ODS_{name}.csv'\n",
    "path = os.path.join(ods_fold, file_name)\n",
    "df = pd.read_csv(path, low_memory=False)\n",
    "df.info()"
   ]
  },
  {
   "attachments": {},
   "cell_type": "markdown",
   "metadata": {},
   "source": [
    "## 컬럼명"
   ]
  },
  {
   "cell_type": "code",
   "execution_count": 6,
   "metadata": {},
   "outputs": [
    {
     "name": "stdout",
     "output_type": "stream",
     "text": [
      "<class 'pandas.core.frame.DataFrame'>\n",
      "RangeIndex: 21 entries, 0 to 20\n",
      "Data columns (total 2 columns):\n",
      " #   Column  Non-Null Count  Dtype \n",
      "---  ------  --------------  ----- \n",
      " 0   컬럼      21 non-null     object\n",
      " 1   내용      21 non-null     object\n",
      "dtypes: object(2)\n",
      "memory usage: 464.0+ bytes\n"
     ]
    }
   ],
   "source": [
    "fold = 'analysis/ODSvsSTD'\n",
    "file_name = f'[정제]{name}.xlsx'\n",
    "path = os.path.join(fold, file_name)\n",
    "col = pd.read_excel(path, sheet_name='ODS_col')\n",
    "col.info()"
   ]
  },
  {
   "cell_type": "code",
   "execution_count": 7,
   "metadata": {},
   "outputs": [
    {
     "data": {
      "text/plain": [
       "{'APLI_DE': '적용 일자',\n",
       " 'TEST_END_WGHT': '시험 끝 중량',\n",
       " 'TEST_BGIN_WGHT': '시험 시작 중량',\n",
       " 'PN_PERM_STDR_VAL': '입자개수 허용 기준 값',\n",
       " 'PM_PERM_STDR_VAL': '입자상물질 허용 기준 값',\n",
       " 'CO_PERM_STDR_VAL': '일산화탄소 허용 기준 값',\n",
       " 'NMOG_PERM_STDR_VAL': '탄화수소1 허용 기준 값',\n",
       " 'NOX_PERM_STDR_VAL': '질소산화물 허용 기준 값',\n",
       " 'EMIS_GRD': '배출가스 등급',\n",
       " 'EMIS_GRD_USE_YN': '배출가스 등급 사용 YN',\n",
       " 'EMIS_PERM_STDR_CD': '배출가스 허용 기준 코드',\n",
       " 'EMIS_PERM_STDR_LEVL': '배출가스 허용 기준 수준',\n",
       " 'EMIS_PERM_STDR_SE': '배출가스 허용 기준 구분',\n",
       " 'EMIS_VHCTY': '배출가스 차종',\n",
       " 'EMIS_TEST_MOD_VAL': '배출가스 시험 모드 값',\n",
       " 'EMIS_PERM_STDR_SML_SE': '배출가스 허용 기준 소 구분',\n",
       " 'FUEL_GRP': '연료 그룹',\n",
       " 'HC_NOX_PERM_STDR_VAL': '탄화수소3 질소산화물 허용 기준 값',\n",
       " 'HC_PERM_STDR_VAL': '탄화수소3 허용기준 값',\n",
       " 'NMHC_PERM_STDR_VAL': '탄화수소2 허용 기준 값',\n",
       " 'NMOG_NOX_PERM_STDR_VAL': '탄화수소1 질소산화물 허용 기준 값'}"
      ]
     },
     "execution_count": 7,
     "metadata": {},
     "output_type": "execute_result"
    }
   ],
   "source": [
    "col_dict = {a:b for a, b in zip(col['컬럼'], col['내용'])}\n",
    "col_dict"
   ]
  },
  {
   "cell_type": "code",
   "execution_count": 8,
   "metadata": {},
   "outputs": [
    {
     "data": {
      "text/plain": [
       "Index(['배출가스 허용 기준 코드', '배출가스 허용 기준 소 구분', '연료 그룹', '배출가스 차종', '시험 시작 중량',\n",
       "       '시험 끝 중량', '적용 일자', '배출가스 시험 모드 값', '일산화탄소 허용 기준 값', '탄화수소1 허용 기준 값',\n",
       "       '탄화수소2 허용 기준 값', '탄화수소3 허용기준 값', '질소산화물 허용 기준 값', '탄화수소1 질소산화물 허용 기준 값',\n",
       "       '탄화수소3 질소산화물 허용 기준 값', '입자상물질 허용 기준 값', '입자개수 허용 기준 값', '배출가스 허용 기준 구분',\n",
       "       '배출가스 등급 사용 YN', '배출가스 등급', '배출가스 허용 기준 수준'],\n",
       "      dtype='object')"
      ]
     },
     "execution_count": 8,
     "metadata": {},
     "output_type": "execute_result"
    }
   ],
   "source": [
    "df.columns = [col_dict[x] for x in df.columns]\n",
    "df.columns"
   ]
  },
  {
   "cell_type": "code",
   "execution_count": 10,
   "metadata": {},
   "outputs": [
    {
     "data": {
      "text/plain": [
       "array([44, 29, 16,  8, 46, 33, 34, 35, 49, 50, 20, 12,  4,  2,  1, 30, 31,\n",
       "       32, 21, 22, 23, 13, 14, 15,  9, 10, 11,  5,  6,  7, 47, 48,  3, 17,\n",
       "       18, 19, 45, 37, 38, 39, 40, 41, 42, 43, 36, 25, 26, 27, 28, 24],\n",
       "      dtype=int64)"
      ]
     },
     "execution_count": 10,
     "metadata": {},
     "output_type": "execute_result"
    }
   ],
   "source": [
    "df['배출가스 허용 기준 코드'].unique()"
   ]
  },
  {
   "cell_type": "code",
   "execution_count": 8,
   "metadata": {},
   "outputs": [
    {
     "data": {
      "text/plain": [
       "171"
      ]
     },
     "execution_count": 8,
     "metadata": {},
     "output_type": "execute_result"
    }
   ],
   "source": [
    "idx = []\n",
    "for i, one in enumerate(df['배출가스 인증번호']):\n",
    "    if ('CMY-VTK-14' in one) or ('FMY-VTK-14' in one):\n",
    "        idx.append(i)\n",
    "len(idx)"
   ]
  },
  {
   "cell_type": "code",
   "execution_count": 9,
   "metadata": {},
   "outputs": [
    {
     "data": {
      "text/plain": [
       "(171, 23)"
      ]
     },
     "execution_count": 9,
     "metadata": {},
     "output_type": "execute_result"
    }
   ],
   "source": [
    "sort_df = df.loc[idx]\n",
    "sort_df.shape"
   ]
  },
  {
   "cell_type": "code",
   "execution_count": 10,
   "metadata": {},
   "outputs": [
    {
     "data": {
      "text/html": [
       "<div>\n",
       "<style scoped>\n",
       "    .dataframe tbody tr th:only-of-type {\n",
       "        vertical-align: middle;\n",
       "    }\n",
       "\n",
       "    .dataframe tbody tr th {\n",
       "        vertical-align: top;\n",
       "    }\n",
       "\n",
       "    .dataframe thead th {\n",
       "        text-align: right;\n",
       "    }\n",
       "</style>\n",
       "<table border=\"1\" class=\"dataframe\">\n",
       "  <thead>\n",
       "    <tr style=\"text-align: right;\">\n",
       "      <th></th>\n",
       "      <th>배출가스 인증번호</th>\n",
       "      <th>배출가스 인증 일련번호</th>\n",
       "      <th>배출가스 시험 모드 값</th>\n",
       "      <th>일산화탄소 허용 기준 값</th>\n",
       "      <th>일산화탄소 시험 결과</th>\n",
       "      <th>탄화수소1 허용 기준 값</th>\n",
       "      <th>탄화수소1 시험 결과</th>\n",
       "      <th>탄화수소2 허용 기준 값</th>\n",
       "      <th>탄화수소2 시험 결과</th>\n",
       "      <th>탄화수소3 허용 기준 값</th>\n",
       "      <th>...</th>\n",
       "      <th>탄화수소1 질소산화물 허용 기준 값</th>\n",
       "      <th>탄화수소1 질소산화물 시험 결과</th>\n",
       "      <th>탄화수소3 질소산화물 허용 기준 값</th>\n",
       "      <th>탄화수소3 질소산화물 시험 결과</th>\n",
       "      <th>입자상물질 허용 기준 값</th>\n",
       "      <th>입자상물질 시험 결과</th>\n",
       "      <th>입자개수 허용 기준 값</th>\n",
       "      <th>입자개수 시험 결과</th>\n",
       "      <th>미정</th>\n",
       "      <th>미정</th>\n",
       "    </tr>\n",
       "  </thead>\n",
       "  <tbody>\n",
       "    <tr>\n",
       "      <th>5547</th>\n",
       "      <td>FMY-VTK-14-1</td>\n",
       "      <td>19</td>\n",
       "      <td>WHSC</td>\n",
       "      <td>NaN</td>\n",
       "      <td>NaN</td>\n",
       "      <td>NaN</td>\n",
       "      <td>NaN</td>\n",
       "      <td>NaN</td>\n",
       "      <td>NaN</td>\n",
       "      <td>NaN</td>\n",
       "      <td>...</td>\n",
       "      <td>NaN</td>\n",
       "      <td>NaN</td>\n",
       "      <td>NaN</td>\n",
       "      <td>NaN</td>\n",
       "      <td>NaN</td>\n",
       "      <td>NaN</td>\n",
       "      <td>NaN</td>\n",
       "      <td>NaN</td>\n",
       "      <td>EmisCertiTest_20190919.txt</td>\n",
       "      <td>20190919</td>\n",
       "    </tr>\n",
       "    <tr>\n",
       "      <th>5548</th>\n",
       "      <td>FMY-VTK-14-1</td>\n",
       "      <td>19</td>\n",
       "      <td>WHTC</td>\n",
       "      <td>NaN</td>\n",
       "      <td>NaN</td>\n",
       "      <td>NaN</td>\n",
       "      <td>NaN</td>\n",
       "      <td>NaN</td>\n",
       "      <td>NaN</td>\n",
       "      <td>NaN</td>\n",
       "      <td>...</td>\n",
       "      <td>NaN</td>\n",
       "      <td>NaN</td>\n",
       "      <td>NaN</td>\n",
       "      <td>NaN</td>\n",
       "      <td>NaN</td>\n",
       "      <td>NaN</td>\n",
       "      <td>NaN</td>\n",
       "      <td>NaN</td>\n",
       "      <td>EmisCertiTest_20190919.txt</td>\n",
       "      <td>20190919</td>\n",
       "    </tr>\n",
       "    <tr>\n",
       "      <th>5549</th>\n",
       "      <td>FMY-VTK-14-1</td>\n",
       "      <td>20</td>\n",
       "      <td>WHSC</td>\n",
       "      <td>NaN</td>\n",
       "      <td>NaN</td>\n",
       "      <td>NaN</td>\n",
       "      <td>NaN</td>\n",
       "      <td>NaN</td>\n",
       "      <td>NaN</td>\n",
       "      <td>NaN</td>\n",
       "      <td>...</td>\n",
       "      <td>NaN</td>\n",
       "      <td>NaN</td>\n",
       "      <td>NaN</td>\n",
       "      <td>NaN</td>\n",
       "      <td>NaN</td>\n",
       "      <td>NaN</td>\n",
       "      <td>NaN</td>\n",
       "      <td>NaN</td>\n",
       "      <td>EmisCertiTest_20190919.txt</td>\n",
       "      <td>20190919</td>\n",
       "    </tr>\n",
       "    <tr>\n",
       "      <th>5550</th>\n",
       "      <td>FMY-VTK-14-1</td>\n",
       "      <td>20</td>\n",
       "      <td>WHTC</td>\n",
       "      <td>NaN</td>\n",
       "      <td>NaN</td>\n",
       "      <td>NaN</td>\n",
       "      <td>NaN</td>\n",
       "      <td>NaN</td>\n",
       "      <td>NaN</td>\n",
       "      <td>NaN</td>\n",
       "      <td>...</td>\n",
       "      <td>NaN</td>\n",
       "      <td>NaN</td>\n",
       "      <td>NaN</td>\n",
       "      <td>NaN</td>\n",
       "      <td>NaN</td>\n",
       "      <td>NaN</td>\n",
       "      <td>NaN</td>\n",
       "      <td>NaN</td>\n",
       "      <td>EmisCertiTest_20190919.txt</td>\n",
       "      <td>20190919</td>\n",
       "    </tr>\n",
       "    <tr>\n",
       "      <th>5551</th>\n",
       "      <td>FMY-VTK-14-1</td>\n",
       "      <td>22</td>\n",
       "      <td>WHSC</td>\n",
       "      <td>NaN</td>\n",
       "      <td>NaN</td>\n",
       "      <td>NaN</td>\n",
       "      <td>NaN</td>\n",
       "      <td>NaN</td>\n",
       "      <td>NaN</td>\n",
       "      <td>NaN</td>\n",
       "      <td>...</td>\n",
       "      <td>NaN</td>\n",
       "      <td>NaN</td>\n",
       "      <td>NaN</td>\n",
       "      <td>NaN</td>\n",
       "      <td>NaN</td>\n",
       "      <td>NaN</td>\n",
       "      <td>NaN</td>\n",
       "      <td>NaN</td>\n",
       "      <td>EmisCertiTest_20190919.txt</td>\n",
       "      <td>20190919</td>\n",
       "    </tr>\n",
       "  </tbody>\n",
       "</table>\n",
       "<p>5 rows × 23 columns</p>\n",
       "</div>"
      ],
      "text/plain": [
       "         배출가스 인증번호  배출가스 인증 일련번호 배출가스 시험 모드 값  일산화탄소 허용 기준 값  일산화탄소 시험 결과  \\\n",
       "5547  FMY-VTK-14-1            19         WHSC            NaN          NaN   \n",
       "5548  FMY-VTK-14-1            19         WHTC            NaN          NaN   \n",
       "5549  FMY-VTK-14-1            20         WHSC            NaN          NaN   \n",
       "5550  FMY-VTK-14-1            20         WHTC            NaN          NaN   \n",
       "5551  FMY-VTK-14-1            22         WHSC            NaN          NaN   \n",
       "\n",
       "      탄화수소1 허용 기준 값  탄화수소1 시험 결과  탄화수소2 허용 기준 값  탄화수소2 시험 결과  탄화수소3 허용 기준 값  \\\n",
       "5547            NaN          NaN            NaN          NaN            NaN   \n",
       "5548            NaN          NaN            NaN          NaN            NaN   \n",
       "5549            NaN          NaN            NaN          NaN            NaN   \n",
       "5550            NaN          NaN            NaN          NaN            NaN   \n",
       "5551            NaN          NaN            NaN          NaN            NaN   \n",
       "\n",
       "      ...  탄화수소1 질소산화물 허용 기준 값  탄화수소1 질소산화물 시험 결과  탄화수소3 질소산화물 허용 기준 값  \\\n",
       "5547  ...                  NaN                NaN                  NaN   \n",
       "5548  ...                  NaN                NaN                  NaN   \n",
       "5549  ...                  NaN                NaN                  NaN   \n",
       "5550  ...                  NaN                NaN                  NaN   \n",
       "5551  ...                  NaN                NaN                  NaN   \n",
       "\n",
       "      탄화수소3 질소산화물 시험 결과  입자상물질 허용 기준 값  입자상물질 시험 결과  입자개수 허용 기준 값  입자개수 시험 결과  \\\n",
       "5547                NaN            NaN          NaN           NaN         NaN   \n",
       "5548                NaN            NaN          NaN           NaN         NaN   \n",
       "5549                NaN            NaN          NaN           NaN         NaN   \n",
       "5550                NaN            NaN          NaN           NaN         NaN   \n",
       "5551                NaN            NaN          NaN           NaN         NaN   \n",
       "\n",
       "                              미정        미정  \n",
       "5547  EmisCertiTest_20190919.txt  20190919  \n",
       "5548  EmisCertiTest_20190919.txt  20190919  \n",
       "5549  EmisCertiTest_20190919.txt  20190919  \n",
       "5550  EmisCertiTest_20190919.txt  20190919  \n",
       "5551  EmisCertiTest_20190919.txt  20190919  \n",
       "\n",
       "[5 rows x 23 columns]"
      ]
     },
     "execution_count": 10,
     "metadata": {},
     "output_type": "execute_result"
    }
   ],
   "source": [
    "sort_df.head()"
   ]
  },
  {
   "cell_type": "code",
   "execution_count": 11,
   "metadata": {},
   "outputs": [
    {
     "data": {
      "text/html": [
       "<div>\n",
       "<style scoped>\n",
       "    .dataframe tbody tr th:only-of-type {\n",
       "        vertical-align: middle;\n",
       "    }\n",
       "\n",
       "    .dataframe tbody tr th {\n",
       "        vertical-align: top;\n",
       "    }\n",
       "\n",
       "    .dataframe thead th {\n",
       "        text-align: right;\n",
       "    }\n",
       "</style>\n",
       "<table border=\"1\" class=\"dataframe\">\n",
       "  <thead>\n",
       "    <tr style=\"text-align: right;\">\n",
       "      <th></th>\n",
       "      <th>배출가스 인증번호</th>\n",
       "      <th>배출가스 인증 일련번호</th>\n",
       "      <th>배출가스 시험 모드 값</th>\n",
       "      <th>일산화탄소 허용 기준 값</th>\n",
       "      <th>일산화탄소 시험 결과</th>\n",
       "      <th>탄화수소1 허용 기준 값</th>\n",
       "      <th>탄화수소1 시험 결과</th>\n",
       "      <th>탄화수소2 허용 기준 값</th>\n",
       "      <th>탄화수소2 시험 결과</th>\n",
       "      <th>탄화수소3 허용 기준 값</th>\n",
       "      <th>...</th>\n",
       "      <th>탄화수소1 질소산화물 허용 기준 값</th>\n",
       "      <th>탄화수소1 질소산화물 시험 결과</th>\n",
       "      <th>탄화수소3 질소산화물 허용 기준 값</th>\n",
       "      <th>탄화수소3 질소산화물 시험 결과</th>\n",
       "      <th>입자상물질 허용 기준 값</th>\n",
       "      <th>입자상물질 시험 결과</th>\n",
       "      <th>입자개수 허용 기준 값</th>\n",
       "      <th>입자개수 시험 결과</th>\n",
       "      <th>미정</th>\n",
       "      <th>미정</th>\n",
       "    </tr>\n",
       "  </thead>\n",
       "  <tbody>\n",
       "    <tr>\n",
       "      <th>59982</th>\n",
       "      <td>FMY-VTK-14-2</td>\n",
       "      <td>8</td>\n",
       "      <td>WHSC</td>\n",
       "      <td>NaN</td>\n",
       "      <td>NaN</td>\n",
       "      <td>NaN</td>\n",
       "      <td>NaN</td>\n",
       "      <td>NaN</td>\n",
       "      <td>NaN</td>\n",
       "      <td>NaN</td>\n",
       "      <td>...</td>\n",
       "      <td>NaN</td>\n",
       "      <td>NaN</td>\n",
       "      <td>NaN</td>\n",
       "      <td>NaN</td>\n",
       "      <td>NaN</td>\n",
       "      <td>NaN</td>\n",
       "      <td>NaN</td>\n",
       "      <td>NaN</td>\n",
       "      <td>EmisCertiTest_20190919.txt</td>\n",
       "      <td>20190919</td>\n",
       "    </tr>\n",
       "    <tr>\n",
       "      <th>59983</th>\n",
       "      <td>FMY-VTK-14-2</td>\n",
       "      <td>8</td>\n",
       "      <td>WHTC</td>\n",
       "      <td>NaN</td>\n",
       "      <td>NaN</td>\n",
       "      <td>NaN</td>\n",
       "      <td>NaN</td>\n",
       "      <td>NaN</td>\n",
       "      <td>NaN</td>\n",
       "      <td>NaN</td>\n",
       "      <td>...</td>\n",
       "      <td>NaN</td>\n",
       "      <td>NaN</td>\n",
       "      <td>NaN</td>\n",
       "      <td>NaN</td>\n",
       "      <td>NaN</td>\n",
       "      <td>NaN</td>\n",
       "      <td>NaN</td>\n",
       "      <td>NaN</td>\n",
       "      <td>EmisCertiTest_20190919.txt</td>\n",
       "      <td>20190919</td>\n",
       "    </tr>\n",
       "    <tr>\n",
       "      <th>59984</th>\n",
       "      <td>FMY-VTK-14-2</td>\n",
       "      <td>9</td>\n",
       "      <td>ETC</td>\n",
       "      <td>NaN</td>\n",
       "      <td>NaN</td>\n",
       "      <td>NaN</td>\n",
       "      <td>NaN</td>\n",
       "      <td>NaN</td>\n",
       "      <td>NaN</td>\n",
       "      <td>NaN</td>\n",
       "      <td>...</td>\n",
       "      <td>NaN</td>\n",
       "      <td>NaN</td>\n",
       "      <td>NaN</td>\n",
       "      <td>NaN</td>\n",
       "      <td>NaN</td>\n",
       "      <td>NaN</td>\n",
       "      <td>NaN</td>\n",
       "      <td>NaN</td>\n",
       "      <td>EmisCertiTest_20190919.txt</td>\n",
       "      <td>20190919</td>\n",
       "    </tr>\n",
       "    <tr>\n",
       "      <th>59985</th>\n",
       "      <td>FMY-VTK-14-2</td>\n",
       "      <td>9</td>\n",
       "      <td>ND-13</td>\n",
       "      <td>NaN</td>\n",
       "      <td>NaN</td>\n",
       "      <td>NaN</td>\n",
       "      <td>NaN</td>\n",
       "      <td>NaN</td>\n",
       "      <td>NaN</td>\n",
       "      <td>NaN</td>\n",
       "      <td>...</td>\n",
       "      <td>NaN</td>\n",
       "      <td>NaN</td>\n",
       "      <td>NaN</td>\n",
       "      <td>NaN</td>\n",
       "      <td>NaN</td>\n",
       "      <td>NaN</td>\n",
       "      <td>NaN</td>\n",
       "      <td>NaN</td>\n",
       "      <td>EmisCertiTest_20190919.txt</td>\n",
       "      <td>20190919</td>\n",
       "    </tr>\n",
       "    <tr>\n",
       "      <th>60710</th>\n",
       "      <td>FMY-VTK-14-3</td>\n",
       "      <td>18</td>\n",
       "      <td>WHSC</td>\n",
       "      <td>1.5</td>\n",
       "      <td>0.0</td>\n",
       "      <td>NaN</td>\n",
       "      <td>NaN</td>\n",
       "      <td>NaN</td>\n",
       "      <td>NaN</td>\n",
       "      <td>0.13</td>\n",
       "      <td>...</td>\n",
       "      <td>NaN</td>\n",
       "      <td>NaN</td>\n",
       "      <td>NaN</td>\n",
       "      <td>NaN</td>\n",
       "      <td>0.01</td>\n",
       "      <td>0.0</td>\n",
       "      <td>800.0</td>\n",
       "      <td>NaN</td>\n",
       "      <td>20220725_수기자료추가</td>\n",
       "      <td>20220725</td>\n",
       "    </tr>\n",
       "  </tbody>\n",
       "</table>\n",
       "<p>5 rows × 23 columns</p>\n",
       "</div>"
      ],
      "text/plain": [
       "          배출가스 인증번호  배출가스 인증 일련번호 배출가스 시험 모드 값  일산화탄소 허용 기준 값  일산화탄소 시험 결과  \\\n",
       "59982  FMY-VTK-14-2             8         WHSC            NaN          NaN   \n",
       "59983  FMY-VTK-14-2             8         WHTC            NaN          NaN   \n",
       "59984  FMY-VTK-14-2             9          ETC            NaN          NaN   \n",
       "59985  FMY-VTK-14-2             9        ND-13            NaN          NaN   \n",
       "60710  FMY-VTK-14-3            18         WHSC            1.5          0.0   \n",
       "\n",
       "       탄화수소1 허용 기준 값  탄화수소1 시험 결과  탄화수소2 허용 기준 값  탄화수소2 시험 결과  탄화수소3 허용 기준 값  \\\n",
       "59982            NaN          NaN            NaN          NaN            NaN   \n",
       "59983            NaN          NaN            NaN          NaN            NaN   \n",
       "59984            NaN          NaN            NaN          NaN            NaN   \n",
       "59985            NaN          NaN            NaN          NaN            NaN   \n",
       "60710            NaN          NaN            NaN          NaN           0.13   \n",
       "\n",
       "       ...  탄화수소1 질소산화물 허용 기준 값  탄화수소1 질소산화물 시험 결과  탄화수소3 질소산화물 허용 기준 값  \\\n",
       "59982  ...                  NaN                NaN                  NaN   \n",
       "59983  ...                  NaN                NaN                  NaN   \n",
       "59984  ...                  NaN                NaN                  NaN   \n",
       "59985  ...                  NaN                NaN                  NaN   \n",
       "60710  ...                  NaN                NaN                  NaN   \n",
       "\n",
       "       탄화수소3 질소산화물 시험 결과  입자상물질 허용 기준 값  입자상물질 시험 결과  입자개수 허용 기준 값  \\\n",
       "59982                NaN            NaN          NaN           NaN   \n",
       "59983                NaN            NaN          NaN           NaN   \n",
       "59984                NaN            NaN          NaN           NaN   \n",
       "59985                NaN            NaN          NaN           NaN   \n",
       "60710                NaN           0.01          0.0         800.0   \n",
       "\n",
       "       입자개수 시험 결과                          미정        미정  \n",
       "59982         NaN  EmisCertiTest_20190919.txt  20190919  \n",
       "59983         NaN  EmisCertiTest_20190919.txt  20190919  \n",
       "59984         NaN  EmisCertiTest_20190919.txt  20190919  \n",
       "59985         NaN  EmisCertiTest_20190919.txt  20190919  \n",
       "60710         NaN             20220725_수기자료추가  20220725  \n",
       "\n",
       "[5 rows x 23 columns]"
      ]
     },
     "execution_count": 11,
     "metadata": {},
     "output_type": "execute_result"
    }
   ],
   "source": [
    "sort_df.tail()"
   ]
  },
  {
   "cell_type": "code",
   "execution_count": 12,
   "metadata": {},
   "outputs": [
    {
     "data": {
      "text/plain": [
       "Index(['배출가스 인증번호', '배출가스 인증 일련번호', '배출가스 시험 모드 값', '일산화탄소 허용 기준 값',\n",
       "       '일산화탄소 시험 결과', '탄화수소1 허용 기준 값', '탄화수소1 시험 결과', '탄화수소2 허용 기준 값',\n",
       "       '탄화수소2 시험 결과', '탄화수소3 허용 기준 값', '탄화수소3 시험 결과', '질소산화물 허용 기준 값',\n",
       "       '질소산화물 시험 결과', '탄화수소1 질소산화물 허용 기준 값', '탄화수소1 질소산화물 시험 결과',\n",
       "       '탄화수소3 질소산화물 허용 기준 값', '탄화수소3 질소산화물 시험 결과', '입자상물질 허용 기준 값',\n",
       "       '입자상물질 시험 결과', '입자개수 허용 기준 값', '입자개수 시험 결과', '미정', '미정'],\n",
       "      dtype='object')"
      ]
     },
     "execution_count": 12,
     "metadata": {},
     "output_type": "execute_result"
    }
   ],
   "source": [
    "sort_df.columns"
   ]
  },
  {
   "cell_type": "code",
   "execution_count": 13,
   "metadata": {},
   "outputs": [],
   "source": [
    "sort_df = sort_df.sort_values('배출가스 인증번호')"
   ]
  },
  {
   "cell_type": "code",
   "execution_count": 14,
   "metadata": {},
   "outputs": [
    {
     "data": {
      "text/plain": [
       "(171, 23)"
      ]
     },
     "execution_count": 14,
     "metadata": {},
     "output_type": "execute_result"
    }
   ],
   "source": [
    "sort_df.shape"
   ]
  },
  {
   "cell_type": "code",
   "execution_count": 15,
   "metadata": {},
   "outputs": [],
   "source": [
    "sort_df.to_csv('analysis2/[BD1][샘플]CMY_FMY.csv', index=False, encoding='cp949')"
   ]
  },
  {
   "attachments": {},
   "cell_type": "markdown",
   "metadata": {},
   "source": [
    "# 코드 마지막"
   ]
  }
 ],
 "metadata": {
  "kernelspec": {
   "display_name": "base",
   "language": "python",
   "name": "python3"
  },
  "language_info": {
   "codemirror_mode": {
    "name": "ipython",
    "version": 3
   },
   "file_extension": ".py",
   "mimetype": "text/x-python",
   "name": "python",
   "nbconvert_exporter": "python",
   "pygments_lexer": "ipython3",
   "version": "3.9.13 (main, Aug 25 2022, 23:51:50) [MSC v.1916 64 bit (AMD64)]"
  },
  "orig_nbformat": 4,
  "vscode": {
   "interpreter": {
    "hash": "ad2bdc8ecc057115af97d19610ffacc2b4e99fae6737bb82f5d7fb13d2f2c186"
   }
  }
 },
 "nbformat": 4,
 "nbformat_minor": 2
}
