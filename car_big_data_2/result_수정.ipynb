{
 "cells": [
  {
   "attachments": {},
   "cell_type": "markdown",
   "metadata": {},
   "source": [
    "# 라이브러리"
   ]
  },
  {
   "cell_type": "code",
   "execution_count": 7,
   "metadata": {},
   "outputs": [],
   "source": [
    "import pandas as pd\n",
    "import os\n",
    "import tqdm\n",
    "import numpy as np\n",
    "from glob import glob"
   ]
  },
  {
   "cell_type": "code",
   "execution_count": 2,
   "metadata": {},
   "outputs": [
    {
     "name": "stderr",
     "output_type": "stream",
     "text": [
      "2023-03-24 15:26:38,393\tINFO worker.py:1529 -- Started a local Ray instance. View the dashboard at \u001b[1m\u001b[32m127.0.0.1:8265 \u001b[39m\u001b[22m\n"
     ]
    },
    {
     "data": {
      "text/html": [
       "<div>\n",
       "    <div style=\"margin-left: 50px;display: flex;flex-direction: row;align-items: center\">\n",
       "        <h3 style=\"color: var(--jp-ui-font-color0)\">Ray</h3>\n",
       "        <svg version=\"1.1\" id=\"ray\" width=\"3em\" viewBox=\"0 0 144.5 144.6\" style=\"margin-left: 3em;margin-right: 3em\">\n",
       "            <g id=\"layer-1\">\n",
       "                <path fill=\"#00a2e9\" class=\"st0\" d=\"M97.3,77.2c-3.8-1.1-6.2,0.9-8.3,5.1c-3.5,6.8-9.9,9.9-17.4,9.6S58,88.1,54.8,81.2c-1.4-3-3-4-6.3-4.1\n",
       "                    c-5.6-0.1-9.9,0.1-13.1,6.4c-3.8,7.6-13.6,10.2-21.8,7.6C5.2,88.4-0.4,80.5,0,71.7c0.1-8.4,5.7-15.8,13.8-18.2\n",
       "                    c8.4-2.6,17.5,0.7,22.3,8c1.3,1.9,1.3,5.2,3.6,5.6c3.9,0.6,8,0.2,12,0.2c1.8,0,1.9-1.6,2.4-2.8c3.5-7.8,9.7-11.8,18-11.9\n",
       "                    c8.2-0.1,14.4,3.9,17.8,11.4c1.3,2.8,2.9,3.6,5.7,3.3c1-0.1,2,0.1,3,0c2.8-0.5,6.4,1.7,8.1-2.7s-2.3-5.5-4.1-7.5\n",
       "                    c-5.1-5.7-10.9-10.8-16.1-16.3C84,38,81.9,37.1,78,38.3C66.7,42,56.2,35.7,53,24.1C50.3,14,57.3,2.8,67.7,0.5\n",
       "                    C78.4-2,89,4.7,91.5,15.3c0.1,0.3,0.1,0.5,0.2,0.8c0.7,3.4,0.7,6.9-0.8,9.8c-1.7,3.2-0.8,5,1.5,7.2c6.7,6.5,13.3,13,19.8,19.7\n",
       "                    c1.8,1.8,3,2.1,5.5,1.2c9.1-3.4,17.9-0.6,23.4,7c4.8,6.9,4.6,16.1-0.4,22.9c-5.4,7.2-14.2,9.9-23.1,6.5c-2.3-0.9-3.5-0.6-5.1,1.1\n",
       "                    c-6.7,6.9-13.6,13.7-20.5,20.4c-1.8,1.8-2.5,3.2-1.4,5.9c3.5,8.7,0.3,18.6-7.7,23.6c-7.9,5-18.2,3.8-24.8-2.9\n",
       "                    c-6.4-6.4-7.4-16.2-2.5-24.3c4.9-7.8,14.5-11,23.1-7.8c3,1.1,4.7,0.5,6.9-1.7C91.7,98.4,98,92.3,104.2,86c1.6-1.6,4.1-2.7,2.6-6.2\n",
       "                    c-1.4-3.3-3.8-2.5-6.2-2.6C99.8,77.2,98.9,77.2,97.3,77.2z M72.1,29.7c5.5,0.1,9.9-4.3,10-9.8c0-0.1,0-0.2,0-0.3\n",
       "                    C81.8,14,77,9.8,71.5,10.2c-5,0.3-9,4.2-9.3,9.2c-0.2,5.5,4,10.1,9.5,10.3C71.8,29.7,72,29.7,72.1,29.7z M72.3,62.3\n",
       "                    c-5.4-0.1-9.9,4.2-10.1,9.7c0,0.2,0,0.3,0,0.5c0.2,5.4,4.5,9.7,9.9,10c5.1,0.1,9.9-4.7,10.1-9.8c0.2-5.5-4-10-9.5-10.3\n",
       "                    C72.6,62.3,72.4,62.3,72.3,62.3z M115,72.5c0.1,5.4,4.5,9.7,9.8,9.9c5.6-0.2,10-4.8,10-10.4c-0.2-5.4-4.6-9.7-10-9.7\n",
       "                    c-5.3-0.1-9.8,4.2-9.9,9.5C115,72.1,115,72.3,115,72.5z M19.5,62.3c-5.4,0.1-9.8,4.4-10,9.8c-0.1,5.1,5.2,10.4,10.2,10.3\n",
       "                    c5.6-0.2,10-4.9,9.8-10.5c-0.1-5.4-4.5-9.7-9.9-9.6C19.6,62.3,19.5,62.3,19.5,62.3z M71.8,134.6c5.9,0.2,10.3-3.9,10.4-9.6\n",
       "                    c0.5-5.5-3.6-10.4-9.1-10.8c-5.5-0.5-10.4,3.6-10.8,9.1c0,0.5,0,0.9,0,1.4c-0.2,5.3,4,9.8,9.3,10\n",
       "                    C71.6,134.6,71.7,134.6,71.8,134.6z\"/>\n",
       "            </g>\n",
       "        </svg>\n",
       "        <table>\n",
       "            <tr>\n",
       "                <td style=\"text-align: left\"><b>Python version:</b></td>\n",
       "                <td style=\"text-align: left\"><b>3.9.13</b></td>\n",
       "            </tr>\n",
       "            <tr>\n",
       "                <td style=\"text-align: left\"><b>Ray version:</b></td>\n",
       "                <td style=\"text-align: left\"><b> 2.2.0</b></td>\n",
       "            </tr>\n",
       "            <tr>\n",
       "    <td style=\"text-align: left\"><b>Dashboard:</b></td>\n",
       "    <td style=\"text-align: left\"><b><a href=\"http://127.0.0.1:8265\" target=\"_blank\">http://127.0.0.1:8265</a></b></td>\n",
       "</tr>\n",
       "\n",
       "        </table>\n",
       "    </div>\n",
       "</div>\n"
      ],
      "text/plain": [
       "RayContext(dashboard_url='127.0.0.1:8265', python_version='3.9.13', ray_version='2.2.0', ray_commit='b6af0887ee5f2e460202133791ad941a41f15beb', address_info={'node_ip_address': '127.0.0.1', 'raylet_ip_address': '127.0.0.1', 'redis_address': None, 'object_store_address': 'tcp://127.0.0.1:63935', 'raylet_socket_name': 'tcp://127.0.0.1:65499', 'webui_url': '127.0.0.1:8265', 'session_dir': 'C:\\\\Users\\\\kbjung\\\\AppData\\\\Local\\\\Temp\\\\ray\\\\session_2023-03-24_15-26-34_752880_2136', 'metrics_export_port': 62960, 'gcs_address': '127.0.0.1:59135', 'address': '127.0.0.1:59135', 'dashboard_agent_listen_port': 52365, 'node_id': 'd07012133951591ccabfab361aa5f4d290470168bc2f7680c28d968e'})"
      ]
     },
     "execution_count": 2,
     "metadata": {},
     "output_type": "execute_result"
    }
   ],
   "source": [
    "# import modin.pandas as pd\n",
    "# import ray\n",
    "# ray.init()"
   ]
  },
  {
   "attachments": {},
   "cell_type": "markdown",
   "metadata": {},
   "source": [
    "# fold path"
   ]
  },
  {
   "cell_type": "code",
   "execution_count": 8,
   "metadata": {},
   "outputs": [],
   "source": [
    "result_fold = 'D:/data/big2/result'\n",
    "raw_fold = 'D:/data/big2/result/raw'\n",
    "ods_fold = 'D:/data/big2/ODS'"
   ]
  },
  {
   "attachments": {},
   "cell_type": "markdown",
   "metadata": {},
   "source": [
    "# Load"
   ]
  },
  {
   "cell_type": "code",
   "execution_count": 19,
   "metadata": {},
   "outputs": [
    {
     "data": {
      "text/plain": [
       "['D:/data/big2/result/raw\\\\4등급 차량 리스트 양식 result 최종1_수정-작업.csv',\n",
       " 'D:/data/big2/result/raw\\\\4등급 차량 리스트 양식 result 최종2_수정-작업.csv']"
      ]
     },
     "execution_count": 19,
     "metadata": {},
     "output_type": "execute_result"
    }
   ],
   "source": [
    "glob(os.path.join(raw_fold, '*.csv'))"
   ]
  },
  {
   "cell_type": "code",
   "execution_count": 20,
   "metadata": {},
   "outputs": [
    {
     "data": {
      "text/plain": [
       "(1153813, 36)"
      ]
     },
     "execution_count": 20,
     "metadata": {},
     "output_type": "execute_result"
    }
   ],
   "source": [
    "# about 9.3s\n",
    "# modin about 3.7s\n",
    "df = pd.DataFrame()\n",
    "for add in glob(os.path.join(raw_fold, '*.csv')):\n",
    "    temp = pd.read_csv(add, encoding='cp949', low_memory=False)\n",
    "    df = pd.concat([df, temp], ignore_index=False)\n",
    "df.shape"
   ]
  },
  {
   "cell_type": "code",
   "execution_count": 21,
   "metadata": {},
   "outputs": [
    {
     "name": "stdout",
     "output_type": "stream",
     "text": [
      "<class 'pandas.core.frame.DataFrame'>\n",
      "Int64Index: 1153813 entries, 0 to 653812\n",
      "Data columns (total 36 columns):\n",
      " #   Column      Non-Null Count    Dtype  \n",
      "---  ------      --------------    -----  \n",
      " 0   차대번호        1153813 non-null  object \n",
      " 1   차량번호        1153813 non-null  object \n",
      " 2   제원관리번호      1153813 non-null  object \n",
      " 3   차종_원본       1153813 non-null  object \n",
      " 4   용도          1153813 non-null  object \n",
      " 5   최초등록일       1153813 non-null  int64  \n",
      " 6   연식          1153813 non-null  int64  \n",
      " 7   제작일자        1153809 non-null  float64\n",
      " 8   검사유효일       1153810 non-null  float64\n",
      " 9   배출가스인증번호    1146663 non-null  object \n",
      " 10  등급          1153813 non-null  int64  \n",
      " 11  차명          1153813 non-null  object \n",
      " 12  차종분류        1153813 non-null  object \n",
      " 13  차종유형        1153813 non-null  object \n",
      " 14  자동차형식       1153812 non-null  object \n",
      " 15  제작사명        1153795 non-null  object \n",
      " 16  연료          1153813 non-null  object \n",
      " 17  엔진형식        1153813 non-null  object \n",
      " 18  총중량         1153813 non-null  int64  \n",
      " 19  적재중량        1153589 non-null  float64\n",
      " 20  엔진출력        1153811 non-null  float64\n",
      " 21  배기량         1153813 non-null  int64  \n",
      " 22  법정동코드       1153813 non-null  int64  \n",
      " 23  시도명         1153813 non-null  object \n",
      " 24  시군구명        1153813 non-null  object \n",
      " 25  소유자구분       1153813 non-null  object \n",
      " 26  말소여부        1153813 non-null  object \n",
      " 27  일치유무        1153813 non-null  object \n",
      " 28  인증번호 수정 유무  1153813 non-null  object \n",
      " 29  배인번호_수정     1153813 non-null  object \n",
      " 30  등급_수정       1153813 non-null  int64  \n",
      " 31  DPF유무_수정    1153813 non-null  object \n",
      " 32  배출가스        1153813 non-null  object \n",
      " 33  등급2         1153813 non-null  object \n",
      " 34  DPF         1146987 non-null  object \n",
      " 35  비고          46458 non-null    object \n",
      "dtypes: float64(4), int64(7), object(25)\n",
      "memory usage: 325.7+ MB\n"
     ]
    }
   ],
   "source": [
    "df.info()"
   ]
  },
  {
   "cell_type": "code",
   "execution_count": 22,
   "metadata": {},
   "outputs": [
    {
     "data": {
      "text/plain": [
       "array([nan, '현재 5등급으로 반영되어 있음(2/23)',\n",
       "       '등급변경 5등급 확인 4MY-DB-04 인증번호 5등급 차량, DPF 확인불가->무 로 변경',\n",
       "       'BX210, BX120 혼재 및 5등급(BX212)에 동일 차종 있어 등급 검토, 전체 06, 07년식 차량',\n",
       "       '말소', 'DPF 장착 확인 필요', '4MY-DB-03 동일차량 5등급',\n",
       "       '동일 인증번호 3등급에도 있음. 확인 필요',\n",
       "       'DPF 무, 동일차종 5등급 차량 및 저감사업으로 DPF장착지원 되고 있는 차량 J3엔진 123마력 2902cc 형식 WFK12F8',\n",
       "       '푸조 307모델 DPF 장착 확인', '푸조407 607모델 혼제 DPF 장착 확인', 'DPF장착 확인 필요',\n",
       "       'DPF 장착 확인(미장착) 검토 필요',\n",
       "       '동일인정번호 차량 중 17대 보조금 지급으로 DPF장착. 실제 출고시 DPF장착 유무 확인 필요',\n",
       "       '동일인증번호 차량 중 배출가스 저감창치 장착된 차량 있음. 확인 필요', 'DPF 장착 확인(무, 확인불가)',\n",
       "       'PDF 확인불가', 'TDV6 DPF장착 확인 무, 확인불가',\n",
       "       '짚 그랜드 체로키 8MY-DK-14-01 배출가스 인증번호 현재 3등급으로 분류 중',\n",
       "       '짚 그랜드 체로키 동일 제원관리번호 차량 4,5등급 혼재, 8MY-DK-14-01 배출가스 인증번호 3등급 분류중',\n",
       "       '짚 그랜드 체로키 동일 제원관리번호 차량 5등급, 8MY-DK-14-01 배출가스 인증번호 3등급 분류중',\n",
       "       '짚 그랜드 체로키 동일 배출가스인증번로, 동일제원관리번호 3등급으로 분류 되어있음.',\n",
       "       '제원관리번호 확인 04220000400031308', '제원관리번호 확인 04220000400041309',\n",
       "       '제원관리번호 확인 04220000800021308', '제원관리번호 확인 04220000800031308',\n",
       "       '봉고3 8MY-KM-13-19 동일 배출가스 인증번호 3, 4등급 혼재 위 차량은 4등급 DPF장착 차량이며 저공해 인증차량 09,10년식 등급제 반영되어있음',\n",
       "       '(23.2.15)볼보차량 2,003대 4등급 -> 3등급 조정'], dtype=object)"
      ]
     },
     "execution_count": 22,
     "metadata": {},
     "output_type": "execute_result"
    }
   ],
   "source": [
    "df['비고'].unique()"
   ]
  },
  {
   "cell_type": "code",
   "execution_count": 23,
   "metadata": {},
   "outputs": [
    {
     "name": "stdout",
     "output_type": "stream",
     "text": [
      "nan\n",
      "(0, 36)\n",
      "현재 5등급으로 반영되어 있음(2/23)\n",
      "(7, 36)\n",
      "등급변경 5등급 확인 4MY-DB-04 인증번호 5등급 차량, DPF 확인불가->무 로 변경\n",
      "(24, 36)\n",
      "BX210, BX120 혼재 및 5등급(BX212)에 동일 차종 있어 등급 검토, 전체 06, 07년식 차량\n",
      "(48, 36)\n",
      "말소\n",
      "(2, 36)\n",
      "DPF 장착 확인 필요\n",
      "(4088, 36)\n",
      "4MY-DB-03 동일차량 5등급\n",
      "(9, 36)\n",
      "동일 인증번호 3등급에도 있음. 확인 필요\n",
      "(1690, 36)\n",
      "DPF 무, 동일차종 5등급 차량 및 저감사업으로 DPF장착지원 되고 있는 차량 J3엔진 123마력 2902cc 형식 WFK12F8\n",
      "(79, 36)\n",
      "푸조 307모델 DPF 장착 확인\n",
      "(1677, 36)\n",
      "푸조407 607모델 혼제 DPF 장착 확인\n",
      "(127, 36)\n",
      "DPF장착 확인 필요\n",
      "(1, 36)\n",
      "DPF 장착 확인(미장착) 검토 필요\n",
      "(2, 36)\n",
      "동일인정번호 차량 중 17대 보조금 지급으로 DPF장착. 실제 출고시 DPF장착 유무 확인 필요\n",
      "(24415, 36)\n",
      "동일인증번호 차량 중 배출가스 저감창치 장착된 차량 있음. 확인 필요\n",
      "(10751, 36)\n",
      "DPF 장착 확인(무, 확인불가)\n",
      "(1, 36)\n",
      "PDF 확인불가\n",
      "(1, 36)\n",
      "TDV6 DPF장착 확인 무, 확인불가\n",
      "(162, 36)\n",
      "짚 그랜드 체로키 8MY-DK-14-01 배출가스 인증번호 현재 3등급으로 분류 중\n",
      "(137, 36)\n",
      "짚 그랜드 체로키 동일 제원관리번호 차량 4,5등급 혼재, 8MY-DK-14-01 배출가스 인증번호 3등급 분류중\n",
      "(107, 36)\n",
      "짚 그랜드 체로키 동일 제원관리번호 차량 5등급, 8MY-DK-14-01 배출가스 인증번호 3등급 분류중\n",
      "(4, 36)\n",
      "짚 그랜드 체로키 동일 배출가스인증번로, 동일제원관리번호 3등급으로 분류 되어있음.\n",
      "(1, 36)\n",
      "제원관리번호 확인 04220000400031308\n",
      "(34, 36)\n",
      "제원관리번호 확인 04220000400041309\n",
      "(15, 36)\n",
      "제원관리번호 확인 04220000800021308\n",
      "(120, 36)\n",
      "제원관리번호 확인 04220000800031308\n",
      "(17, 36)\n",
      "봉고3 8MY-KM-13-19 동일 배출가스 인증번호 3, 4등급 혼재 위 차량은 4등급 DPF장착 차량이며 저공해 인증차량 09,10년식 등급제 반영되어있음\n",
      "(934, 36)\n",
      "(23.2.15)볼보차량 2,003대 4등급 -> 3등급 조정\n",
      "(2005, 36)\n"
     ]
    }
   ],
   "source": [
    "for one in df['비고'].unique():\n",
    "    print(f'{one}')\n",
    "    print(df.loc[df['비고'] == one].shape)"
   ]
  },
  {
   "attachments": {},
   "cell_type": "markdown",
   "metadata": {},
   "source": [
    "# 확인"
   ]
  },
  {
   "attachments": {},
   "cell_type": "markdown",
   "metadata": {},
   "source": [
    "## 현재 5등급으로 반영되어 있음(2/23)"
   ]
  },
  {
   "cell_type": "code",
   "execution_count": 27,
   "metadata": {},
   "outputs": [
    {
     "data": {
      "text/plain": [
       "(7, 5)"
      ]
     },
     "execution_count": 27,
     "metadata": {},
     "output_type": "execute_result"
    }
   ],
   "source": [
    "df.loc[df['비고'] == '현재 5등급으로 반영되어 있음(2/23)', ['제원관리번호', '차명', '제작사명', '자동차형식', '엔진형식']].shape"
   ]
  },
  {
   "cell_type": "code",
   "execution_count": 30,
   "metadata": {},
   "outputs": [
    {
     "data": {
      "text/html": [
       "<div>\n",
       "<style scoped>\n",
       "    .dataframe tbody tr th:only-of-type {\n",
       "        vertical-align: middle;\n",
       "    }\n",
       "\n",
       "    .dataframe tbody tr th {\n",
       "        vertical-align: top;\n",
       "    }\n",
       "\n",
       "    .dataframe thead th {\n",
       "        text-align: right;\n",
       "    }\n",
       "</style>\n",
       "<table border=\"1\" class=\"dataframe\">\n",
       "  <thead>\n",
       "    <tr style=\"text-align: right;\">\n",
       "      <th></th>\n",
       "      <th>제원관리번호</th>\n",
       "      <th>배인번호_수정</th>\n",
       "      <th>등급_수정</th>\n",
       "      <th>DPF유무_수정</th>\n",
       "      <th>차명</th>\n",
       "      <th>제작사명</th>\n",
       "      <th>자동차형식</th>\n",
       "      <th>엔진형식</th>\n",
       "    </tr>\n",
       "  </thead>\n",
       "  <tbody>\n",
       "    <tr>\n",
       "      <th>29</th>\n",
       "      <td>A0310006701423306</td>\n",
       "      <td>6MY-DC-23-17</td>\n",
       "      <td>5</td>\n",
       "      <td>유</td>\n",
       "      <td>대우11.5톤장축카고트럭(DPF)</td>\n",
       "      <td>타타대우상용차(주)</td>\n",
       "      <td>K9ARF5</td>\n",
       "      <td>DV11</td>\n",
       "    </tr>\n",
       "  </tbody>\n",
       "</table>\n",
       "</div>"
      ],
      "text/plain": [
       "               제원관리번호       배인번호_수정  등급_수정 DPF유무_수정                  차명  \\\n",
       "29  A0310006701423306  6MY-DC-23-17      5        유  대우11.5톤장축카고트럭(DPF)   \n",
       "\n",
       "          제작사명   자동차형식  엔진형식  \n",
       "29  타타대우상용차(주)  K9ARF5  DV11  "
      ]
     },
     "execution_count": 30,
     "metadata": {},
     "output_type": "execute_result"
    }
   ],
   "source": [
    "df.loc[df['비고'] == '현재 5등급으로 반영되어 있음(2/23)', ['제원관리번호', '배인번호_수정', '등급_수정', 'DPF유무_수정', '차명', '제작사명', '자동차형식', '엔진형식']].drop_duplicates(['제원관리번호', '차명', '제작사명', '자동차형식', '엔진형식'])"
   ]
  },
  {
   "cell_type": "code",
   "execution_count": null,
   "metadata": {},
   "outputs": [],
   "source": []
  }
 ],
 "metadata": {
  "kernelspec": {
   "display_name": "base",
   "language": "python",
   "name": "python3"
  },
  "language_info": {
   "codemirror_mode": {
    "name": "ipython",
    "version": 3
   },
   "file_extension": ".py",
   "mimetype": "text/x-python",
   "name": "python",
   "nbconvert_exporter": "python",
   "pygments_lexer": "ipython3",
   "version": "3.9.13"
  },
  "orig_nbformat": 4
 },
 "nbformat": 4,
 "nbformat_minor": 2
}
