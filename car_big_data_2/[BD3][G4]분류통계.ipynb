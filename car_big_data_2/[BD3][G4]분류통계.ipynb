{
 "cells": [
  {
   "attachments": {},
   "cell_type": "markdown",
   "metadata": {},
   "source": [
    "# Library"
   ]
  },
  {
   "cell_type": "code",
   "execution_count": 23,
   "metadata": {},
   "outputs": [],
   "source": [
    "import pandas as pd\n",
    "import numpy as np\n",
    "import os\n",
    "from tqdm import tqdm"
   ]
  },
  {
   "attachments": {},
   "cell_type": "markdown",
   "metadata": {},
   "source": [
    "# 로드\n",
    "- 등록정보&제원정보(말소적용)\n",
    "- 정기검사(말소적용)\n",
    "- 정밀검사(말소적용)"
   ]
  },
  {
   "cell_type": "code",
   "execution_count": 24,
   "metadata": {},
   "outputs": [
    {
     "name": "stderr",
     "output_type": "stream",
     "text": [
      "C:\\Users\\kbjung\\AppData\\Local\\Temp\\ipykernel_4832\\617598753.py:3: DtypeWarning: Columns (11,13,17,37) have mixed types. Specify dtype option on import or set low_memory=False.\n",
      "  df = pd.read_csv('data/[ODS][G4]등록정보&제원정보(말소적용)(2022.12.29).csv')\n",
      "C:\\Users\\kbjung\\AppData\\Local\\Temp\\ipykernel_4832\\617598753.py:5: DtypeWarning: Columns (1,22,23,24,25,26) have mixed types. Specify dtype option on import or set low_memory=False.\n",
      "  ins1 = pd.read_csv('data/[ODS][G4]정기검사(말소적용)(2022.12.29).csv')\n",
      "C:\\Users\\kbjung\\AppData\\Local\\Temp\\ipykernel_4832\\617598753.py:7: DtypeWarning: Columns (1,27) have mixed types. Specify dtype option on import or set low_memory=False.\n",
      "  ins2 = pd.read_csv('data/[ODS][G4]정밀검사(말소적용)(2022.12.29).csv')\n"
     ]
    }
   ],
   "source": [
    "# about 44s\n",
    "# 등록&제원 정보(말소적용)\n",
    "df = pd.read_csv('data/[ODS][G4]등록정보&제원정보(말소적용)(2022.12.29).csv')\n",
    "# 정기\n",
    "ins1 = pd.read_csv('data/[ODS][G4]정기검사(말소적용)(2022.12.29).csv')\n",
    "# 정밀\n",
    "ins2 = pd.read_csv('data/[ODS][G4]정밀검사(말소적용)(2022.12.29).csv')"
   ]
  },
  {
   "attachments": {},
   "cell_type": "markdown",
   "metadata": {},
   "source": [
    "# [분석]"
   ]
  },
  {
   "cell_type": "code",
   "execution_count": 28,
   "metadata": {},
   "outputs": [
    {
     "name": "stdout",
     "output_type": "stream",
     "text": [
      "<class 'pandas.core.frame.DataFrame'>\n",
      "RangeIndex: 1511251 entries, 0 to 1511250\n",
      "Data columns (total 40 columns):\n",
      " #   Column       Non-Null Count    Dtype  \n",
      "---  ------       --------------    -----  \n",
      " 0   차량관리번호       1511251 non-null  object \n",
      " 1   차량등록번호       1511251 non-null  object \n",
      " 2   본거지법정동코드     1511251 non-null  int64  \n",
      " 3   소유자구분        1511251 non-null  object \n",
      " 4   차종_등록정보      1511249 non-null  object \n",
      " 5   용도           1511251 non-null  object \n",
      " 6   차대번호         1511251 non-null  object \n",
      " 7   최초등록일자       1511251 non-null  int64  \n",
      " 8   차량연식         1511251 non-null  int64  \n",
      " 9   차량제작일자       1342461 non-null  float64\n",
      " 10  배출가스검사유효일자   1511239 non-null  float64\n",
      " 11  제원관리번호       1511251 non-null  object \n",
      " 12  배출가스인증번호     1387542 non-null  object \n",
      " 13  배출가스등급       1511251 non-null  object \n",
      " 14  저공해조치종류      189 non-null      float64\n",
      " 15  저공해조치구조변경YN  1511251 non-null  object \n",
      " 16  차량말소YN       1511251 non-null  object \n",
      " 17  취득일자         1418010 non-null  object \n",
      " 18  취득금액         1436843 non-null  float64\n",
      " 19  차명           1511251 non-null  object \n",
      " 20  차종_제원정보      1511251 non-null  object \n",
      " 21  차종분류         1511251 non-null  object \n",
      " 22  차종유형         1511251 non-null  object \n",
      " 23  자동차형식        1510723 non-null  object \n",
      " 24  제작사명         1501221 non-null  object \n",
      " 25  연료           1511180 non-null  object \n",
      " 26  엔진형식         1509249 non-null  object \n",
      " 27  총중량          1511226 non-null  float64\n",
      " 28  적재중량         1510714 non-null  float64\n",
      " 29  엔진출력         1510623 non-null  float64\n",
      " 30  배기량          1511240 non-null  float64\n",
      " 31  승차인원         1511251 non-null  float64\n",
      " 32  차량길이         1511176 non-null  float64\n",
      " 33  차량너비         1511176 non-null  float64\n",
      " 34  차량높이         1511174 non-null  float64\n",
      " 35  원산지명         1492122 non-null  object \n",
      " 36  삭제YN         1511251 non-null  object \n",
      " 37  승인일자         1510704 non-null  object \n",
      " 38  구동형식         47 non-null       float64\n",
      " 39  변속기종류        1511091 non-null  object \n",
      "dtypes: float64(13), int64(3), object(24)\n",
      "memory usage: 461.2+ MB\n"
     ]
    }
   ],
   "source": [
    "df.info()"
   ]
  },
  {
   "cell_type": "code",
   "execution_count": 31,
   "metadata": {},
   "outputs": [
    {
     "data": {
      "text/plain": [
       "(1511251, 40)"
      ]
     },
     "execution_count": 31,
     "metadata": {},
     "output_type": "execute_result"
    }
   ],
   "source": [
    "df.shape"
   ]
  },
  {
   "attachments": {},
   "cell_type": "markdown",
   "metadata": {},
   "source": [
    "# 코드 마지막"
   ]
  }
 ],
 "metadata": {
  "kernelspec": {
   "display_name": "base",
   "language": "python",
   "name": "python3"
  },
  "language_info": {
   "codemirror_mode": {
    "name": "ipython",
    "version": 3
   },
   "file_extension": ".py",
   "mimetype": "text/x-python",
   "name": "python",
   "nbconvert_exporter": "python",
   "pygments_lexer": "ipython3",
   "version": "3.9.13 (main, Aug 25 2022, 23:51:50) [MSC v.1916 64 bit (AMD64)]"
  },
  "orig_nbformat": 4,
  "vscode": {
   "interpreter": {
    "hash": "ad2bdc8ecc057115af97d19610ffacc2b4e99fae6737bb82f5d7fb13d2f2c186"
   }
  }
 },
 "nbformat": 4,
 "nbformat_minor": 2
}
