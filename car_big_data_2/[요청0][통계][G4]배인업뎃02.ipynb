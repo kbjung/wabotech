{
 "cells": [
  {
   "attachments": {},
   "cell_type": "markdown",
   "metadata": {},
   "source": [
    "# Library"
   ]
  },
  {
   "cell_type": "code",
   "execution_count": 362,
   "metadata": {},
   "outputs": [],
   "source": [
    "import pandas as pd\n",
    "import os\n",
    "from datetime import datetime\n",
    "import numpy as np\n",
    "from tqdm import tqdm\n",
    "from glob import glob"
   ]
  },
  {
   "attachments": {},
   "cell_type": "markdown",
   "metadata": {},
   "source": [
    "# fold path"
   ]
  },
  {
   "cell_type": "code",
   "execution_count": 363,
   "metadata": {},
   "outputs": [],
   "source": [
    "# # backup\n",
    "# fold = 'D:/data/big2/BD1_4등급_데이터_점검1/emis'\n",
    "# norm_fold = 'D:/data/big2/BD1_4등급_데이터_점검1/emis/norm'\n",
    "# total_fold = 'D:/data/big2/BD1_4등급_데이터_점검1/emis/norm/total'\n",
    "# error_fold = 'D:/data/big2/BD1_4등급_데이터_점검1/emis/error'\n",
    "# total_error_fold = 'D:/data/big2/BD1_4등급_데이터_점검1/emis/error/total'\n",
    "# weird_fold = 'D:/data/big2/BD1_4등급_데이터_점검1/emis/weird'\n",
    "# nan_fold = 'D:/data/big2/BD1_4등급_데이터_점검1/emis/nan'\n",
    "# nad_fold = 'D:/data/big2/BD1_4등급_데이터_점검1/emis/nan/nad'"
   ]
  },
  {
   "cell_type": "code",
   "execution_count": 364,
   "metadata": {},
   "outputs": [],
   "source": [
    "# update2\n",
    "fold = 'D:/data/big2/BD1_4등급_데이터_점검1/result_emis_update2'\n",
    "norm_fold = 'D:/data/big2/BD1_4등급_데이터_점검1/result_emis_update2/norm'\n",
    "total_norm_fold = 'D:/data/big2/BD1_4등급_데이터_점검1/result_emis_update2/norm/total'\n",
    "error_fold = 'D:/data/big2/BD1_4등급_데이터_점검1/result_emis_update2/error'\n",
    "total_error_fold = 'D:/data/big2/BD1_4등급_데이터_점검1/result_emis_update2/error/total'\n",
    "weird_fold = 'D:/data/big2/BD1_4등급_데이터_점검1/result_emis_update2/weird'\n",
    "total_weird_fold = 'D:/data/big2/BD1_4등급_데이터_점검1/result_emis_update2/weird/total'\n",
    "nan_fold = 'D:/data/big2/BD1_4등급_데이터_점검1/result_emis_update2/nan'\n",
    "total_nan_fold = 'D:/data/big2/BD1_4등급_데이터_점검1/result_emis_update2/nan/total'\n",
    "submit_fold = 'D:/data/big2/BD1_4등급_데이터_점검1/result_emis_update2/submit'"
   ]
  },
  {
   "attachments": {},
   "cell_type": "markdown",
   "metadata": {},
   "source": [
    "# File Load\n",
    "- 정상 배인번호 파일\n",
    "- 비정상 배인번호 파일\n",
    "- 제작사 이상 파일"
   ]
  },
  {
   "attachments": {},
   "cell_type": "markdown",
   "metadata": {},
   "source": [
    "## 정상 배인번호 파일"
   ]
  },
  {
   "cell_type": "code",
   "execution_count": 365,
   "metadata": {},
   "outputs": [
    {
     "name": "stderr",
     "output_type": "stream",
     "text": [
      "100%|██████████| 134/134 [00:41<00:00,  3.25it/s]\n"
     ]
    }
   ],
   "source": [
    "# about 41s\n",
    "norm = pd.DataFrame()\n",
    "for addr in tqdm(glob(os.path.join(norm_fold, '*.csv'))):\n",
    "    temp = pd.read_csv(addr, encoding='cp949', low_memory=False)\n",
    "    norm = pd.concat([norm, temp], ignore_index=True)"
   ]
  },
  {
   "cell_type": "code",
   "execution_count": 366,
   "metadata": {},
   "outputs": [
    {
     "name": "stdout",
     "output_type": "stream",
     "text": [
      "<class 'pandas.core.frame.DataFrame'>\n",
      "RangeIndex: 1140492 entries, 0 to 1140491\n",
      "Data columns (total 69 columns):\n",
      " #   Column     Non-Null Count    Dtype  \n",
      "---  ------     --------------    -----  \n",
      " 0   차대번호       1140492 non-null  object \n",
      " 1   차량번호_x     1140492 non-null  object \n",
      " 2   제원관리번호     1140492 non-null  object \n",
      " 3   차종_원본      1140492 non-null  object \n",
      " 4   용도         1140492 non-null  object \n",
      " 5   최초등록일      1140492 non-null  int64  \n",
      " 6   연식         1140492 non-null  int64  \n",
      " 7   제작일자       1140491 non-null  float64\n",
      " 8   검사유효일      1140490 non-null  float64\n",
      " 9   배출가스인증번호   1140492 non-null  object \n",
      " 10  등급         1140492 non-null  int64  \n",
      " 11  차명_x       1140492 non-null  object \n",
      " 12  차종분류       1140492 non-null  object \n",
      " 13  차종유형       1140492 non-null  object \n",
      " 14  자동차형식      1140492 non-null  object \n",
      " 15  제작사명       1140492 non-null  object \n",
      " 16  연료         1140492 non-null  object \n",
      " 17  엔진형식_x     1140492 non-null  object \n",
      " 18  총중량        1140492 non-null  float64\n",
      " 19  적재중량       1140294 non-null  float64\n",
      " 20  엔진출력       1140491 non-null  float64\n",
      " 21  배기량        1140492 non-null  float64\n",
      " 22  법정동코드      1140492 non-null  int64  \n",
      " 23  시도명        1140492 non-null  object \n",
      " 24  시군구명       1140492 non-null  object \n",
      " 25  소유자구분      1140492 non-null  object \n",
      " 26  말소여부       1140492 non-null  object \n",
      " 27  일치유무       1140492 non-null  object \n",
      " 28  사용연료       1118605 non-null  object \n",
      " 29  주행거리       1118496 non-null  float64\n",
      " 30  차명_y       1118605 non-null  object \n",
      " 31  차량번호_y     1118605 non-null  object \n",
      " 32  차종         1118605 non-null  object \n",
      " 33  차량연식       1118605 non-null  float64\n",
      " 34  엔진형식_y     1118597 non-null  object \n",
      " 35  검사방법       1118605 non-null  object \n",
      " 36  검사일자       1118605 non-null  float64\n",
      " 37  검사종류       1118605 non-null  object \n",
      " 38  검사판정시각     1109996 non-null  object \n",
      " 39  검사판정       1118605 non-null  object \n",
      " 40  산소값        807925 non-null   float64\n",
      " 41  이산화탄소값     807925 non-null   float64\n",
      " 42  무부하매연판정1   1109992 non-null  object \n",
      " 43  무부하매연판정2   40959 non-null    object \n",
      " 44  무부하매연판정3   40068 non-null    object \n",
      " 45  무부하매연판정4   40066 non-null    object \n",
      " 46  무부하매연판정5   40066 non-null    object \n",
      " 47  무부하매연판정6   41 non-null       object \n",
      " 48  무부하매연허용치1  1109992 non-null  float64\n",
      " 49  무부하매연허용치2  327677 non-null   float64\n",
      " 50  무부하매연허용치3  327676 non-null   float64\n",
      " 51  무부하매연허용치4  327674 non-null   float64\n",
      " 52  무부하매연허용치5  327674 non-null   float64\n",
      " 53  무부하매연허용치6  298259 non-null   float64\n",
      " 54  무부하매연측정치1  1109996 non-null  float64\n",
      " 55  무부하매연측정치2  361013 non-null   float64\n",
      " 56  무부하매연측정치3  327678 non-null   float64\n",
      " 57  무부하매연측정치4  327676 non-null   float64\n",
      " 58  무부하매연측정치5  327676 non-null   float64\n",
      " 59  무부하매연측정치6  298259 non-null   float64\n",
      " 60  정기정밀       1118605 non-null  object \n",
      " 61  vin10      1140492 non-null  object \n",
      " 62  vin_year   1140489 non-null  float64\n",
      " 63  DPF유무      1140492 non-null  object \n",
      " 64  배인번호_수정    1140492 non-null  object \n",
      " 65  등급_수정      1140492 non-null  object \n",
      " 66  DPF유무_수정   1140303 non-null  object \n",
      " 67  확인유무       1140303 non-null  object \n",
      " 68  비고         0 non-null        float64\n",
      "dtypes: float64(25), int64(4), object(40)\n",
      "memory usage: 600.4+ MB\n"
     ]
    }
   ],
   "source": [
    "norm.info()"
   ]
  },
  {
   "attachments": {},
   "cell_type": "markdown",
   "metadata": {},
   "source": [
    "## 비정상 배인번호 파일"
   ]
  },
  {
   "cell_type": "code",
   "execution_count": 369,
   "metadata": {},
   "outputs": [
    {
     "name": "stderr",
     "output_type": "stream",
     "text": [
      "100%|██████████| 71/71 [00:00<00:00, 80.04it/s]\n"
     ]
    }
   ],
   "source": [
    "error = pd.DataFrame()\n",
    "for addr in tqdm(glob(os.path.join(error_fold, '*.csv'))):\n",
    "    temp = pd.read_csv(addr, encoding='cp949', low_memory=False)\n",
    "    error = pd.concat([error, temp], ignore_index=True)"
   ]
  },
  {
   "cell_type": "code",
   "execution_count": 370,
   "metadata": {},
   "outputs": [
    {
     "name": "stdout",
     "output_type": "stream",
     "text": [
      "<class 'pandas.core.frame.DataFrame'>\n",
      "RangeIndex: 1309 entries, 0 to 1308\n",
      "Data columns (total 69 columns):\n",
      " #   Column     Non-Null Count  Dtype  \n",
      "---  ------     --------------  -----  \n",
      " 0   차대번호       1309 non-null   object \n",
      " 1   차량번호_x     1309 non-null   object \n",
      " 2   제원관리번호     1309 non-null   object \n",
      " 3   차종_원본      1309 non-null   object \n",
      " 4   용도         1309 non-null   object \n",
      " 5   최초등록일      1309 non-null   int64  \n",
      " 6   연식         1309 non-null   int64  \n",
      " 7   제작일자       1309 non-null   float64\n",
      " 8   검사유효일      1309 non-null   float64\n",
      " 9   배출가스인증번호   1309 non-null   object \n",
      " 10  등급         1309 non-null   int64  \n",
      " 11  차명_x       1309 non-null   object \n",
      " 12  차종분류       1309 non-null   object \n",
      " 13  차종유형       1309 non-null   object \n",
      " 14  자동차형식      1309 non-null   object \n",
      " 15  제작사명       1304 non-null   object \n",
      " 16  연료         1309 non-null   object \n",
      " 17  엔진형식_x     1309 non-null   object \n",
      " 18  총중량        1309 non-null   float64\n",
      " 19  적재중량       1309 non-null   float64\n",
      " 20  엔진출력       1309 non-null   float64\n",
      " 21  배기량        1309 non-null   float64\n",
      " 22  법정동코드      1309 non-null   int64  \n",
      " 23  시도명        1309 non-null   object \n",
      " 24  시군구명       1309 non-null   object \n",
      " 25  소유자구분      1309 non-null   object \n",
      " 26  말소여부       1309 non-null   object \n",
      " 27  일치유무       1309 non-null   object \n",
      " 28  사용연료       1223 non-null   object \n",
      " 29  주행거리       1223 non-null   float64\n",
      " 30  차명_y       1223 non-null   object \n",
      " 31  차량번호_y     1223 non-null   object \n",
      " 32  차종         1223 non-null   object \n",
      " 33  차량연식       1223 non-null   float64\n",
      " 34  엔진형식_y     1223 non-null   object \n",
      " 35  검사방법       1223 non-null   object \n",
      " 36  검사일자       1223 non-null   float64\n",
      " 37  검사종류       1223 non-null   object \n",
      " 38  검사판정시각     1212 non-null   object \n",
      " 39  검사판정       1223 non-null   object \n",
      " 40  산소값        785 non-null    float64\n",
      " 41  이산화탄소값     785 non-null    float64\n",
      " 42  무부하매연판정1   1212 non-null   object \n",
      " 43  무부하매연판정2   685 non-null    object \n",
      " 44  무부하매연판정3   685 non-null    object \n",
      " 45  무부하매연판정4   685 non-null    object \n",
      " 46  무부하매연판정5   685 non-null    object \n",
      " 47  무부하매연판정6   0 non-null      float64\n",
      " 48  무부하매연허용치1  1212 non-null   float64\n",
      " 49  무부하매연허용치2  747 non-null    float64\n",
      " 50  무부하매연허용치3  747 non-null    float64\n",
      " 51  무부하매연허용치4  747 non-null    float64\n",
      " 52  무부하매연허용치5  747 non-null    float64\n",
      " 53  무부하매연허용치6  252 non-null    float64\n",
      " 54  무부하매연측정치1  1212 non-null   float64\n",
      " 55  무부하매연측정치2  768 non-null    float64\n",
      " 56  무부하매연측정치3  747 non-null    float64\n",
      " 57  무부하매연측정치4  747 non-null    float64\n",
      " 58  무부하매연측정치5  747 non-null    float64\n",
      " 59  무부하매연측정치6  252 non-null    float64\n",
      " 60  정기정밀       1223 non-null   object \n",
      " 61  vin10      1309 non-null   int64  \n",
      " 62  vin_year   1309 non-null   float64\n",
      " 63  DPF유무      1309 non-null   object \n",
      " 64  배인번호_수정    1309 non-null   object \n",
      " 65  등급_수정      1309 non-null   int64  \n",
      " 66  DPF유무_수정   2 non-null      object \n",
      " 67  확인유무       2 non-null      object \n",
      " 68  비고         0 non-null      float64\n",
      "dtypes: float64(26), int64(6), object(37)\n",
      "memory usage: 705.8+ KB\n"
     ]
    }
   ],
   "source": [
    "error.info()"
   ]
  },
  {
   "attachments": {},
   "cell_type": "markdown",
   "metadata": {},
   "source": [
    "## 제작사 이상 파일"
   ]
  },
  {
   "cell_type": "code",
   "execution_count": 371,
   "metadata": {},
   "outputs": [
    {
     "data": {
      "text/plain": [
       "['D:/data/big2/BD1_4등급_데이터_점검1/result_emis_update2/weird\\\\weird.csv']"
      ]
     },
     "execution_count": 371,
     "metadata": {},
     "output_type": "execute_result"
    }
   ],
   "source": [
    "glob(os.path.join(weird_fold, '*.csv'))"
   ]
  },
  {
   "cell_type": "code",
   "execution_count": 372,
   "metadata": {},
   "outputs": [
    {
     "name": "stderr",
     "output_type": "stream",
     "text": [
      "100%|██████████| 1/1 [00:00<00:00, 13.51it/s]\n"
     ]
    }
   ],
   "source": [
    "weird = pd.DataFrame()\n",
    "for addr in tqdm(glob(os.path.join(weird_fold, '*.csv'))):\n",
    "    temp = pd.read_csv(addr, encoding='cp949')\n",
    "    weird = pd.concat([weird, temp], ignore_index=True)"
   ]
  },
  {
   "cell_type": "code",
   "execution_count": 373,
   "metadata": {},
   "outputs": [
    {
     "name": "stdout",
     "output_type": "stream",
     "text": [
      "<class 'pandas.core.frame.DataFrame'>\n",
      "RangeIndex: 4862 entries, 0 to 4861\n",
      "Data columns (total 69 columns):\n",
      " #   Column     Non-Null Count  Dtype  \n",
      "---  ------     --------------  -----  \n",
      " 0   차대번호       4862 non-null   object \n",
      " 1   차량번호_x     4862 non-null   object \n",
      " 2   제원관리번호     4862 non-null   object \n",
      " 3   차종_원본      4862 non-null   object \n",
      " 4   용도         4862 non-null   object \n",
      " 5   최초등록일      4862 non-null   int64  \n",
      " 6   연식         4862 non-null   int64  \n",
      " 7   제작일자       4862 non-null   float64\n",
      " 8   검사유효일      4862 non-null   float64\n",
      " 9   배출가스인증번호   4862 non-null   object \n",
      " 10  등급         4862 non-null   int64  \n",
      " 11  차명_x       4862 non-null   object \n",
      " 12  차종분류       4862 non-null   object \n",
      " 13  차종유형       4862 non-null   object \n",
      " 14  자동차형식      4862 non-null   object \n",
      " 15  제작사명       4850 non-null   object \n",
      " 16  연료         4862 non-null   object \n",
      " 17  엔진형식_x     4862 non-null   object \n",
      " 18  총중량        4862 non-null   float64\n",
      " 19  적재중량       4857 non-null   float64\n",
      " 20  엔진출력       4862 non-null   float64\n",
      " 21  배기량        4862 non-null   float64\n",
      " 22  법정동코드      4862 non-null   int64  \n",
      " 23  시도명        4862 non-null   object \n",
      " 24  시군구명       4862 non-null   object \n",
      " 25  소유자구분      4862 non-null   object \n",
      " 26  말소여부       4862 non-null   object \n",
      " 27  일치유무       4862 non-null   object \n",
      " 28  사용연료       4576 non-null   object \n",
      " 29  주행거리       4574 non-null   float64\n",
      " 30  차명_y       4576 non-null   object \n",
      " 31  차량번호_y     4576 non-null   object \n",
      " 32  차종         4576 non-null   object \n",
      " 33  차량연식       4576 non-null   float64\n",
      " 34  엔진형식_y     4574 non-null   object \n",
      " 35  검사방법       4576 non-null   object \n",
      " 36  검사일자       4576 non-null   float64\n",
      " 37  검사종류       4576 non-null   object \n",
      " 38  검사판정시각     4551 non-null   object \n",
      " 39  검사판정       4576 non-null   object \n",
      " 40  산소값        3096 non-null   float64\n",
      " 41  이산화탄소값     3096 non-null   float64\n",
      " 42  무부하매연판정1   4551 non-null   object \n",
      " 43  무부하매연판정2   2471 non-null   object \n",
      " 44  무부하매연판정3   2471 non-null   object \n",
      " 45  무부하매연판정4   2471 non-null   object \n",
      " 46  무부하매연판정5   2471 non-null   object \n",
      " 47  무부하매연판정6   2 non-null      object \n",
      " 48  무부하매연허용치1  4551 non-null   float64\n",
      " 49  무부하매연허용치2  2748 non-null   float64\n",
      " 50  무부하매연허용치3  2748 non-null   float64\n",
      " 51  무부하매연허용치4  2748 non-null   float64\n",
      " 52  무부하매연허용치5  2748 non-null   float64\n",
      " 53  무부하매연허용치6  1022 non-null   float64\n",
      " 54  무부하매연측정치1  4551 non-null   float64\n",
      " 55  무부하매연측정치2  2802 non-null   float64\n",
      " 56  무부하매연측정치3  2748 non-null   float64\n",
      " 57  무부하매연측정치4  2748 non-null   float64\n",
      " 58  무부하매연측정치5  2748 non-null   float64\n",
      " 59  무부하매연측정치6  1022 non-null   float64\n",
      " 60  정기정밀       4576 non-null   object \n",
      " 61  vin10      4862 non-null   object \n",
      " 62  vin_year   4862 non-null   float64\n",
      " 63  DPF유무      4862 non-null   object \n",
      " 64  배인번호_수정    4862 non-null   object \n",
      " 65  등급_수정      4862 non-null   int64  \n",
      " 66  DPF유무_수정   16 non-null     object \n",
      " 67  확인유무       16 non-null     object \n",
      " 68  비고         0 non-null      float64\n",
      "dtypes: float64(25), int64(5), object(39)\n",
      "memory usage: 2.6+ MB\n"
     ]
    }
   ],
   "source": [
    "weird.info()"
   ]
  },
  {
   "cell_type": "code",
   "execution_count": 374,
   "metadata": {},
   "outputs": [
    {
     "data": {
      "text/plain": [
       "0"
      ]
     },
     "execution_count": 374,
     "metadata": {},
     "output_type": "execute_result"
    }
   ],
   "source": [
    "weird['배인번호_수정'].isnull().sum()"
   ]
  },
  {
   "attachments": {},
   "cell_type": "markdown",
   "metadata": {},
   "source": [
    "## 미부여"
   ]
  },
  {
   "cell_type": "code",
   "execution_count": 375,
   "metadata": {},
   "outputs": [
    {
     "name": "stderr",
     "output_type": "stream",
     "text": [
      "100%|██████████| 1/1 [00:00<00:00, 10.97it/s]\n"
     ]
    }
   ],
   "source": [
    "nad = pd.DataFrame()\n",
    "for addr in tqdm(glob(os.path.join(nan_fold, '*.csv'))):\n",
    "    temp = pd.read_csv(addr, encoding='cp949', low_memory=False)\n",
    "    nad = pd.concat([nad, temp], ignore_index=True)"
   ]
  },
  {
   "cell_type": "code",
   "execution_count": 376,
   "metadata": {},
   "outputs": [
    {
     "name": "stdout",
     "output_type": "stream",
     "text": [
      "<class 'pandas.core.frame.DataFrame'>\n",
      "RangeIndex: 7150 entries, 0 to 7149\n",
      "Data columns (total 69 columns):\n",
      " #   Column     Non-Null Count  Dtype  \n",
      "---  ------     --------------  -----  \n",
      " 0   차대번호       7150 non-null   object \n",
      " 1   차량번호_x     7150 non-null   object \n",
      " 2   제원관리번호     7150 non-null   object \n",
      " 3   차종_원본      7150 non-null   object \n",
      " 4   용도         7150 non-null   object \n",
      " 5   최초등록일      7150 non-null   int64  \n",
      " 6   연식         7150 non-null   int64  \n",
      " 7   제작일자       7147 non-null   float64\n",
      " 8   검사유효일      7149 non-null   float64\n",
      " 9   배출가스인증번호   0 non-null      float64\n",
      " 10  등급         7150 non-null   int64  \n",
      " 11  차명_x       7150 non-null   object \n",
      " 12  차종분류       7150 non-null   object \n",
      " 13  차종유형       7150 non-null   object \n",
      " 14  자동차형식      7149 non-null   object \n",
      " 15  제작사명       7149 non-null   object \n",
      " 16  연료         7150 non-null   object \n",
      " 17  엔진형식_x     7150 non-null   object \n",
      " 18  총중량        7150 non-null   float64\n",
      " 19  적재중량       7129 non-null   float64\n",
      " 20  엔진출력       7149 non-null   float64\n",
      " 21  배기량        7150 non-null   float64\n",
      " 22  법정동코드      7150 non-null   int64  \n",
      " 23  시도명        7150 non-null   object \n",
      " 24  시군구명       7150 non-null   object \n",
      " 25  소유자구분      7150 non-null   object \n",
      " 26  말소여부       7150 non-null   object \n",
      " 27  일치유무       7150 non-null   object \n",
      " 28  사용연료       6772 non-null   object \n",
      " 29  주행거리       6770 non-null   float64\n",
      " 30  차명_y       6772 non-null   object \n",
      " 31  차량번호_y     6772 non-null   object \n",
      " 32  차종         6772 non-null   object \n",
      " 33  차량연식       6772 non-null   float64\n",
      " 34  엔진형식_y     6771 non-null   object \n",
      " 35  검사방법       6772 non-null   object \n",
      " 36  검사일자       6772 non-null   float64\n",
      " 37  검사종류       6772 non-null   object \n",
      " 38  검사판정시각     6742 non-null   object \n",
      " 39  검사판정       6772 non-null   object \n",
      " 40  산소값        5493 non-null   float64\n",
      " 41  이산화탄소값     5493 non-null   float64\n",
      " 42  무부하매연판정1   6742 non-null   object \n",
      " 43  무부하매연판정2   320 non-null    object \n",
      " 44  무부하매연판정3   310 non-null    object \n",
      " 45  무부하매연판정4   310 non-null    object \n",
      " 46  무부하매연판정5   310 non-null    object \n",
      " 47  무부하매연판정6   3 non-null      object \n",
      " 48  무부하매연허용치1  6742 non-null   float64\n",
      " 49  무부하매연허용치2  2440 non-null   float64\n",
      " 50  무부하매연허용치3  2440 non-null   float64\n",
      " 51  무부하매연허용치4  2440 non-null   float64\n",
      " 52  무부하매연허용치5  2440 non-null   float64\n",
      " 53  무부하매연허용치6  2181 non-null   float64\n",
      " 54  무부하매연측정치1  6742 non-null   float64\n",
      " 55  무부하매연측정치2  3090 non-null   float64\n",
      " 56  무부하매연측정치3  2440 non-null   float64\n",
      " 57  무부하매연측정치4  2440 non-null   float64\n",
      " 58  무부하매연측정치5  2440 non-null   float64\n",
      " 59  무부하매연측정치6  2181 non-null   float64\n",
      " 60  정기정밀       6772 non-null   object \n",
      " 61  vin10      7150 non-null   object \n",
      " 62  vin_year   7150 non-null   float64\n",
      " 63  DPF유무      7150 non-null   object \n",
      " 64  배인번호_수정    0 non-null      float64\n",
      " 65  등급_수정      7150 non-null   int64  \n",
      " 66  DPF유무_수정   0 non-null      float64\n",
      " 67  확인유무       0 non-null      float64\n",
      " 68  비고         0 non-null      float64\n",
      "dtypes: float64(29), int64(5), object(35)\n",
      "memory usage: 3.8+ MB\n"
     ]
    }
   ],
   "source": [
    "nad.info()"
   ]
  },
  {
   "cell_type": "code",
   "execution_count": 377,
   "metadata": {},
   "outputs": [
    {
     "data": {
      "text/plain": [
       "((1140492, 69), (1309, 69), (4862, 69), (7150, 69))"
      ]
     },
     "execution_count": 377,
     "metadata": {},
     "output_type": "execute_result"
    }
   ],
   "source": [
    "norm.shape, error.shape, weird.shape, nad.shape"
   ]
  },
  {
   "cell_type": "code",
   "execution_count": 378,
   "metadata": {},
   "outputs": [
    {
     "data": {
      "text/plain": [
       "1153813"
      ]
     },
     "execution_count": 378,
     "metadata": {},
     "output_type": "execute_result"
    }
   ],
   "source": [
    "# 1153813\n",
    "norm.shape[0] + error.shape[0] + weird.shape[0] + nad.shape[0]"
   ]
  },
  {
   "attachments": {},
   "cell_type": "markdown",
   "metadata": {},
   "source": [
    "## 미기입 확인"
   ]
  },
  {
   "cell_type": "code",
   "execution_count": 379,
   "metadata": {},
   "outputs": [
    {
     "name": "stdout",
     "output_type": "stream",
     "text": [
      "<class 'pandas.core.frame.DataFrame'>\n",
      "RangeIndex: 7150 entries, 0 to 7149\n",
      "Data columns (total 30 columns):\n",
      " #   Column    Non-Null Count  Dtype  \n",
      "---  ------    --------------  -----  \n",
      " 0   차대번호      7150 non-null   object \n",
      " 1   차량번호      7150 non-null   object \n",
      " 2   제원관리번호    7150 non-null   object \n",
      " 3   차종        7150 non-null   object \n",
      " 4   용도        7150 non-null   object \n",
      " 5   최초등록일     7150 non-null   int64  \n",
      " 6   연식        7150 non-null   int64  \n",
      " 7   제작일자      7147 non-null   float64\n",
      " 8   검사유효일     7149 non-null   float64\n",
      " 9   배출가스인증번호  0 non-null      float64\n",
      " 10  배인번호_수정   6525 non-null   object \n",
      " 11  등급        7150 non-null   int64  \n",
      " 12  등급_수정     7150 non-null   int64  \n",
      " 13  차명        7150 non-null   object \n",
      " 14  차종분류      7150 non-null   object \n",
      " 15  차종유형      7150 non-null   object \n",
      " 16  자동차형식     7149 non-null   object \n",
      " 17  제작사명      7149 non-null   object \n",
      " 18  연료        7150 non-null   object \n",
      " 19  엔진형식      7150 non-null   object \n",
      " 20  총중량       7150 non-null   int64  \n",
      " 21  적재중량      7129 non-null   float64\n",
      " 22  엔진출력      7149 non-null   float64\n",
      " 23  배기량       7150 non-null   int64  \n",
      " 24  법정동코드     7150 non-null   int64  \n",
      " 25  시도명       7150 non-null   object \n",
      " 26  시군구명      7150 non-null   object \n",
      " 27  소유자구분     7150 non-null   object \n",
      " 28  말소여부      7150 non-null   object \n",
      " 29  일치유무      7150 non-null   object \n",
      "dtypes: float64(5), int64(7), object(18)\n",
      "memory usage: 1.6+ MB\n"
     ]
    }
   ],
   "source": [
    "check_nan_car = pd.read_excel(os.path.join(fold, '[BD1] 8. 배출가스 인증번호 미기입 차량(23.03.16)_2.xlsx'))\n",
    "check_nan_car.info()"
   ]
  },
  {
   "attachments": {},
   "cell_type": "markdown",
   "metadata": {},
   "source": [
    "# 정제"
   ]
  },
  {
   "cell_type": "code",
   "execution_count": 380,
   "metadata": {},
   "outputs": [],
   "source": [
    "norm['등급_수정'] = norm['등급_수정'].astype('str')"
   ]
  },
  {
   "attachments": {},
   "cell_type": "markdown",
   "metadata": {},
   "source": [
    "## 병합 파일 출력"
   ]
  },
  {
   "cell_type": "code",
   "execution_count": 381,
   "metadata": {},
   "outputs": [],
   "source": [
    "select_col = ['차대번호', '차량번호_x', '제원관리번호', '차종_원본', '용도', '최초등록일', '연식', '제작일자',\n",
    "       '검사유효일', '배출가스인증번호', '배인번호_수정', '등급', '등급_수정', '차명_x', '차종분류', '차종유형', '자동차형식', '제작사명',\n",
    "       '연료', '엔진형식_x', '총중량', '적재중량', '엔진출력', '배기량', '법정동코드', '시도명', '시군구명',\n",
    "       '소유자구분', '말소여부', '일치유무']"
   ]
  },
  {
   "attachments": {},
   "cell_type": "markdown",
   "metadata": {},
   "source": [
    "### 정상 파일"
   ]
  },
  {
   "cell_type": "code",
   "execution_count": 382,
   "metadata": {},
   "outputs": [
    {
     "data": {
      "text/plain": [
       "Index(['차대번호', '차량번호', '제원관리번호', '차종', '용도', '최초등록일', '연식', '제작일자', '검사유효일',\n",
       "       '배출가스인증번호', '배인번호_수정', '등급', '등급_수정', '차명', '차종분류', '차종유형', '자동차형식',\n",
       "       '제작사명', '연료', '엔진형식', '총중량', '적재중량', '엔진출력', '배기량', '법정동코드', '시도명',\n",
       "       '시군구명', '소유자구분', '말소여부', '일치유무'],\n",
       "      dtype='object')"
      ]
     },
     "execution_count": 382,
     "metadata": {},
     "output_type": "execute_result"
    }
   ],
   "source": [
    "concat_norm = norm[select_col]\n",
    "concat_norm = concat_norm.rename(columns={'차량번호_x':'차량번호', '차명_x':'차명', '엔진형식_x':'엔진형식', '차종_원본':'차종'})\n",
    "concat_norm.columns"
   ]
  },
  {
   "cell_type": "code",
   "execution_count": 383,
   "metadata": {},
   "outputs": [],
   "source": [
    "# about 33s\n",
    "concat_norm.to_csv(os.path.join(total_norm_fold, 'concat_norm.csv'), encoding='cp949', index=False)"
   ]
  },
  {
   "attachments": {},
   "cell_type": "markdown",
   "metadata": {},
   "source": [
    "### 비정상 파일"
   ]
  },
  {
   "cell_type": "code",
   "execution_count": 384,
   "metadata": {},
   "outputs": [
    {
     "data": {
      "text/plain": [
       "Index(['차대번호', '차량번호', '제원관리번호', '차종', '용도', '최초등록일', '연식', '제작일자', '검사유효일',\n",
       "       '배출가스인증번호', '배인번호_수정', '등급', '등급_수정', '차명', '차종분류', '차종유형', '자동차형식',\n",
       "       '제작사명', '연료', '엔진형식', '총중량', '적재중량', '엔진출력', '배기량', '법정동코드', '시도명',\n",
       "       '시군구명', '소유자구분', '말소여부', '일치유무'],\n",
       "      dtype='object')"
      ]
     },
     "execution_count": 384,
     "metadata": {},
     "output_type": "execute_result"
    }
   ],
   "source": [
    "concat_error = error[select_col]\n",
    "concat_error = concat_error.rename(columns={'차량번호_x':'차량번호', '차명_x':'차명', '엔진형식_x':'엔진형식', '차종_원본':'차종'})\n",
    "concat_error.columns"
   ]
  },
  {
   "cell_type": "code",
   "execution_count": 385,
   "metadata": {},
   "outputs": [],
   "source": [
    "concat_error.to_csv(os.path.join(total_error_fold, 'concat_error.csv'), index=False, encoding='cp949')"
   ]
  },
  {
   "attachments": {},
   "cell_type": "markdown",
   "metadata": {},
   "source": [
    "### 제작사 이상 파일"
   ]
  },
  {
   "cell_type": "code",
   "execution_count": 386,
   "metadata": {},
   "outputs": [
    {
     "data": {
      "text/plain": [
       "Index(['차대번호', '차량번호', '제원관리번호', '차종', '용도', '최초등록일', '연식', '제작일자', '검사유효일',\n",
       "       '배출가스인증번호', '배인번호_수정', '등급', '등급_수정', '차명', '차종분류', '차종유형', '자동차형식',\n",
       "       '제작사명', '연료', '엔진형식', '총중량', '적재중량', '엔진출력', '배기량', '법정동코드', '시도명',\n",
       "       '시군구명', '소유자구분', '말소여부', '일치유무'],\n",
       "      dtype='object')"
      ]
     },
     "execution_count": 386,
     "metadata": {},
     "output_type": "execute_result"
    }
   ],
   "source": [
    "concat_weird = weird[select_col]\n",
    "concat_weird = concat_weird.rename(columns={'차량번호_x':'차량번호', '차명_x':'차명', '엔진형식_x':'엔진형식', '차종_원본':'차종'})\n",
    "concat_weird.columns"
   ]
  },
  {
   "cell_type": "code",
   "execution_count": 387,
   "metadata": {},
   "outputs": [],
   "source": [
    "concat_weird.to_csv(os.path.join(total_weird_fold, 'concat_weird.csv'), index=False, encoding='cp949')"
   ]
  },
  {
   "attachments": {},
   "cell_type": "markdown",
   "metadata": {},
   "source": [
    "### 미부여 파일"
   ]
  },
  {
   "cell_type": "code",
   "execution_count": 388,
   "metadata": {},
   "outputs": [
    {
     "data": {
      "text/plain": [
       "Index(['차대번호', '차량번호', '제원관리번호', '차종', '용도', '최초등록일', '연식', '제작일자', '검사유효일',\n",
       "       '배출가스인증번호', '배인번호_수정', '등급', '등급_수정', '차명', '차종분류', '차종유형', '자동차형식',\n",
       "       '제작사명', '연료', '엔진형식', '총중량', '적재중량', '엔진출력', '배기량', '법정동코드', '시도명',\n",
       "       '시군구명', '소유자구분', '말소여부', '일치유무'],\n",
       "      dtype='object')"
      ]
     },
     "execution_count": 388,
     "metadata": {},
     "output_type": "execute_result"
    }
   ],
   "source": [
    "concat_nad = nad[select_col]\n",
    "concat_nad = concat_nad.rename(columns={'차량번호_x':'차량번호', '차명_x':'차명', '엔진형식_x':'엔진형식', '차종_원본':'차종'})\n",
    "concat_nad.columns"
   ]
  },
  {
   "cell_type": "code",
   "execution_count": 389,
   "metadata": {},
   "outputs": [],
   "source": [
    "concat_nad.to_csv(os.path.join(total_nan_fold, 'concat_nad.csv'), index=False, encoding='cp949')"
   ]
  },
  {
   "attachments": {},
   "cell_type": "markdown",
   "metadata": {},
   "source": [
    "## 미기입 확인\n",
    "- 필요한 부분만 추출"
   ]
  },
  {
   "cell_type": "code",
   "execution_count": 390,
   "metadata": {},
   "outputs": [
    {
     "data": {
      "text/plain": [
       "(6525, 30)"
      ]
     },
     "execution_count": 390,
     "metadata": {},
     "output_type": "execute_result"
    }
   ],
   "source": [
    "sliced_check_nan_car = check_nan_car.loc[check_nan_car['배인번호_수정'].notnull() == True].reset_index(drop=True)\n",
    "sliced_check_nan_car.shape"
   ]
  },
  {
   "attachments": {},
   "cell_type": "markdown",
   "metadata": {},
   "source": [
    "# 매칭"
   ]
  },
  {
   "cell_type": "markdown",
   "metadata": {},
   "source": [
    "## 컬럼명 설정"
   ]
  },
  {
   "cell_type": "code",
   "execution_count": 391,
   "metadata": {},
   "outputs": [],
   "source": [
    "# 컬럼명 설정\n",
    "col_car_name = '차명_x'\n",
    "col_engine_form = '엔진형식_x'"
   ]
  },
  {
   "attachments": {},
   "cell_type": "markdown",
   "metadata": {},
   "source": [
    "## 미부여"
   ]
  },
  {
   "attachments": {},
   "cell_type": "markdown",
   "metadata": {},
   "source": [
    "### 1\\. 유로4인증대장 매칭"
   ]
  },
  {
   "cell_type": "code",
   "execution_count": 392,
   "metadata": {},
   "outputs": [],
   "source": [
    "# 유로4 / result파일\n",
    "# 제작사명 : 크라이슬러 / 에프씨에이코리아(주)\n",
    "# 차명으로 매칭\n",
    "# {'300C' : '6MY-DK-14-1', '짚 커맨더' : '6MY-DK-14-2', '니트로' : '7MY-DK-14-4', '짚 니트로' : '7MY-DK-14-4', '짚 랭글러' : '7MY-DK-14-5', '짚그랜드체로키' : '8MY-DK-14-01, '짚 그랜드 체로키' : '8MY-DK-14-01', '그랜드 보이저' : '8MY-DK-14-02', '세브링' : '8MY-DK-14-06'}"
   ]
  },
  {
   "cell_type": "code",
   "execution_count": 393,
   "metadata": {},
   "outputs": [],
   "source": [
    "# 유로4 / result파일\n",
    "# 제작사명 : 볼보 / (주)볼보자동차코리아\n",
    "# 차명으로 매칭\n",
    "# {'볼보 S60D5' : '5MY-PA-14-17', '볼보 S80D5' : '6MY-PA-14-4', '볼보 XC70D5' : '8MY-PA-14-03', '볼보 XC60D5' : '9MY-PA-13-01'}"
   ]
  },
  {
   "cell_type": "code",
   "execution_count": 394,
   "metadata": {},
   "outputs": [],
   "source": [
    "# 유로4 / result파일\n",
    "# 제작사명 : 랜드로버 / (주)재규어랜드로버코리아\n",
    "# 차명으로 매칭\n",
    "# {'레인지로버 스포츠 TDV6' : '7MY-PA-14-2'}"
   ]
  },
  {
   "cell_type": "code",
   "execution_count": 395,
   "metadata": {},
   "outputs": [],
   "source": [
    "# 유로4 / result파일\n",
    "# 제작사명 : 재규어 / (주)재규어랜드로버코리아\n",
    "# 차명으로 매칭\n",
    "# {'재규어 XJ 2.7D' : '7MY-PA-14-7', '재규어 X-TYPE 2.2D' : '8MY-PA-14-04', '재규어 XF 2.7D' : '8MY-PA-14-05'}"
   ]
  },
  {
   "cell_type": "code",
   "execution_count": 396,
   "metadata": {},
   "outputs": [],
   "source": [
    "# 유로4 / result파일\n",
    "# 제작사명 : 재규어 / (주)볼보자동차코리아\n",
    "# 차명으로 매칭\n",
    "# {'재규어 XJ 2.7D' : '7MY-PA-14-7', '재규어 X-TYPE 2.2D' : '8MY-PA-14-04', '재규어 XF 2.7D' : '8MY-PA-14-05'}"
   ]
  },
  {
   "cell_type": "code",
   "execution_count": 397,
   "metadata": {},
   "outputs": [],
   "source": [
    "# 유로4 / result파일\n",
    "# 제작사명 : 포드 / 포드세일즈서비스코리아(유)\n",
    "# 차명으로 매칭\n",
    "# {'에스맥스' : '8MY-FK-14-1', '몬데오' : '8MY-FK-14-2'}"
   ]
  },
  {
   "cell_type": "code",
   "execution_count": 398,
   "metadata": {},
   "outputs": [],
   "source": [
    "# 유로4 / result파일\n",
    "# 제작사명 : 푸조 / 한불모터스(주)\n",
    "# 배기량\n",
    "# {1997 : '5MY-HB-14-1', 2721 : '5MY-HB-14-4', 1560 : '8MY-HB-14-1'}"
   ]
  },
  {
   "cell_type": "code",
   "execution_count": 399,
   "metadata": {},
   "outputs": [],
   "source": [
    "# 2129, 5021 (y, n)\n",
    "productor = '에프씨에이코리아(주)'\n",
    "dict1 = {'300C' : '6MY-DK-14-1', '짚 커맨더' : '6MY-DK-14-2', '니트로' : '7MY-DK-14-4', '짚 니트로' : '7MY-DK-14-4', '짚 랭글러' : '7MY-DK-14-5', \n",
    "         '짚그랜드체로키' : '8MY-DK-14-01', '짚 그랜드 체로키' : '8MY-DK-14-01', '그랜드 보이저' : '8MY-DK-14-02', '세브링' : '8MY-DK-14-06'}\n",
    "for k, v in dict1.items():\n",
    "    nad.loc[(nad['제작사명'] == productor) & (nad[col_car_name] == k), '배인번호_수정'] = v"
   ]
  },
  {
   "cell_type": "code",
   "execution_count": 401,
   "metadata": {},
   "outputs": [],
   "source": [
    "# 3265, 3885\n",
    "productor = '(주)볼보자동차코리아'\n",
    "dict2 = {'볼보 S60D5' : '5MY-PA-14-17', '볼보 S80D5' : '6MY-PA-14-4', '볼보 XC70D5' : '8MY-PA-14-03', '볼보 XC60D5' : '9MY-PA-13-01'}\n",
    "for k, v in dict2.items():\n",
    "    nad.loc[(nad['제작사명'] == productor) & (nad[col_car_name] == k), '배인번호_수정'] = v"
   ]
  },
  {
   "cell_type": "code",
   "execution_count": 403,
   "metadata": {},
   "outputs": [],
   "source": [
    "# 3268, 3882\n",
    "productor = '(주)재규어랜드로버코리아'\n",
    "dict3 = {'레인지로버 스포츠 TDV6' : '7MY-PA-14-2'}\n",
    "for k, v in dict3.items():\n",
    "    nad.loc[(nad['제작사명'] == productor) & (nad[col_car_name] == k), '배인번호_수정'] = v"
   ]
  },
  {
   "cell_type": "code",
   "execution_count": 405,
   "metadata": {},
   "outputs": [],
   "source": [
    "# 3539, 3611\n",
    "productor = '(주)재규어랜드로버코리아'\n",
    "dict4 = {'재규어 XJ 2.7D' : '7MY-PA-14-7', '재규어 X-TYPE 2.2D' : '8MY-PA-14-04', '재규어 XF 2.7D' : '8MY-PA-14-05'}\n",
    "for k, v in dict4.items():\n",
    "    nad.loc[(nad['제작사명'] == productor) & (nad[col_car_name] == k), '배인번호_수정'] = v"
   ]
  },
  {
   "cell_type": "code",
   "execution_count": 407,
   "metadata": {},
   "outputs": [],
   "source": [
    "# 3637, 3513\n",
    "productor = '(주)볼보자동차코리아'\n",
    "dict5 = {'재규어 XJ 2.7D' : '7MY-PA-14-7', '재규어 X-TYPE 2.2D' : '8MY-PA-14-04', '재규어 XF 2.7D' : '8MY-PA-14-05'}\n",
    "for k, v in dict5.items():\n",
    "    nad.loc[(nad['제작사명'] == productor) & (nad[col_car_name] == k), '배인번호_수정'] = v"
   ]
  },
  {
   "cell_type": "code",
   "execution_count": 409,
   "metadata": {},
   "outputs": [],
   "source": [
    "# 3736, 3414\n",
    "productor = '포드세일즈서비스코리아(유)'\n",
    "dict6 = {'에스맥스' : '8MY-FK-14-1', '몬데오' : '8MY-FK-14-2'}\n",
    "for k, v in dict6.items():\n",
    "    nad.loc[(nad['제작사명'] == productor) & (nad[col_car_name] == k), '배인번호_수정'] = v"
   ]
  },
  {
   "cell_type": "code",
   "execution_count": 411,
   "metadata": {},
   "outputs": [],
   "source": [
    "# 6294, 856\n",
    "productor = '한불모터스(주)'\n",
    "dict7 = {1997 : '5MY-HB-14-1', 2721 : '5MY-HB-14-4', 1560 : '8MY-HB-14-1'}\n",
    "for k, v in dict7.items():\n",
    "    nad.loc[(nad['제작사명'] == productor) & (nad['배기량'] == k), '배인번호_수정'] = v"
   ]
  },
  {
   "cell_type": "code",
   "execution_count": 412,
   "metadata": {},
   "outputs": [
    {
     "data": {
      "text/plain": [
       "((6294, 69), (856, 69))"
      ]
     },
     "execution_count": 412,
     "metadata": {},
     "output_type": "execute_result"
    }
   ],
   "source": [
    "nad1y = nad.loc[nad['배인번호_수정'].isnull() == False].reset_index(drop=True)\n",
    "nad1n = nad.loc[nad['배인번호_수정'].isnull() == True].reset_index(drop=True)\n",
    "nad1y.shape, nad1n.shape"
   ]
  },
  {
   "attachments": {},
   "cell_type": "markdown",
   "metadata": {},
   "source": [
    "#### [출력] 처리된 미기입 차량1"
   ]
  },
  {
   "cell_type": "code",
   "execution_count": 413,
   "metadata": {},
   "outputs": [
    {
     "data": {
      "text/plain": [
       "Index(['차대번호', '차량번호', '제원관리번호', '차종', '용도', '최초등록일', '연식', '제작일자', '검사유효일',\n",
       "       '배출가스인증번호', '배인번호_수정', '등급', '등급_수정', '차명', '차종분류', '차종유형', '자동차형식',\n",
       "       '제작사명', '연료', '엔진형식', '총중량', '적재중량', '엔진출력', '배기량', '법정동코드', '시도명',\n",
       "       '시군구명', '소유자구분', '말소여부', '일치유무'],\n",
       "      dtype='object')"
      ]
     },
     "execution_count": 413,
     "metadata": {},
     "output_type": "execute_result"
    }
   ],
   "source": [
    "submit_nad1y = nad1y[select_col]\n",
    "submit_nad1y = submit_nad1y.rename(columns={'차량번호_x':'차량번호', '차명_x':'차명', '엔진형식_x':'엔진형식', '차종_원본':'차종'})\n",
    "submit_nad1y.columns"
   ]
  },
  {
   "cell_type": "code",
   "execution_count": 414,
   "metadata": {},
   "outputs": [
    {
     "data": {
      "text/plain": [
       "Index(['차대번호', '차량번호', '제원관리번호', '차종', '용도', '최초등록일', '연식', '제작일자', '검사유효일',\n",
       "       '배출가스인증번호', '배인번호_수정', '등급', '등급_수정', '차명', '차종분류', '차종유형', '자동차형식',\n",
       "       '제작사명', '연료', '엔진형식', '총중량', '적재중량', '엔진출력', '배기량', '법정동코드', '시도명',\n",
       "       '시군구명', '소유자구분', '말소여부', '일치유무'],\n",
       "      dtype='object')"
      ]
     },
     "execution_count": 414,
     "metadata": {},
     "output_type": "execute_result"
    }
   ],
   "source": [
    "submit_nad1n = nad1n[select_col]\n",
    "submit_nad1n = submit_nad1n.rename(columns={'차량번호_x':'차량번호', '차명_x':'차명', '엔진형식_x':'엔진형식', '차종_원본':'차종'})\n",
    "submit_nad1n.columns"
   ]
  },
  {
   "cell_type": "code",
   "execution_count": 415,
   "metadata": {},
   "outputs": [],
   "source": [
    "submit_nad1y.to_csv(os.path.join(total_nan_fold, 'nad1y.csv'), index=False, encoding='cp949')\n",
    "submit_nad1n.to_csv(os.path.join(total_nan_fold, 'nad1n.csv'), index=False, encoding='cp949')"
   ]
  },
  {
   "attachments": {},
   "cell_type": "markdown",
   "metadata": {},
   "source": [
    "### 2\\. 정상 데이터와 비교1\n",
    "- 동일 제번, 자동차형식, 엔진형식으로 매칭 : 5개 매칭\n",
    "- 동일 자동차형식, 엔진형식으로 매칭 : 139개 매칭"
   ]
  },
  {
   "cell_type": "code",
   "execution_count": 416,
   "metadata": {},
   "outputs": [
    {
     "data": {
      "text/plain": [
       "(4547, 69)"
      ]
     },
     "execution_count": 416,
     "metadata": {},
     "output_type": "execute_result"
    }
   ],
   "source": [
    "norm.drop_duplicates(['배출가스인증번호', '제원관리번호', '자동차형식', col_engine_form]).shape"
   ]
  },
  {
   "cell_type": "code",
   "execution_count": 417,
   "metadata": {},
   "outputs": [
    {
     "data": {
      "text/plain": [
       "array([['4MY-AD-20', 2420000100031305, '4F', 'BMK'],\n",
       "       ['4MY-DC-33', 'A0310006701423306', 'K9ARF5', 'DV11'],\n",
       "       ['4MY-PA-06', 920000300131205, '2.0LN5DR', '204D']], dtype=object)"
      ]
     },
     "execution_count": 417,
     "metadata": {},
     "output_type": "execute_result"
    }
   ],
   "source": [
    "match_data = norm.drop_duplicates(['배출가스인증번호', '제원관리번호', '자동차형식', col_engine_form])[['배출가스인증번호', '제원관리번호', '자동차형식', col_engine_form]].values\n",
    "match_data[:3]"
   ]
  },
  {
   "cell_type": "code",
   "execution_count": 418,
   "metadata": {},
   "outputs": [
    {
     "name": "stderr",
     "output_type": "stream",
     "text": [
      "100%|██████████| 4547/4547 [00:02<00:00, 1752.55it/s]\n"
     ]
    }
   ],
   "source": [
    "for emis, no, car, engine in tqdm(match_data):\n",
    "    # nad1n.loc[(nad1n['제원관리번호'] == no) & (nad1n['자동차형식'] == car) & (nad1n['엔진형식_x'] == engine), '배출가스인증번호'] = emis\n",
    "    nad1n.loc[(nad1n['자동차형식'] == str(car)) & (nad1n[col_engine_form] == str(engine)), '배인번호_수정'] = emis"
   ]
  },
  {
   "cell_type": "code",
   "execution_count": 419,
   "metadata": {},
   "outputs": [
    {
     "data": {
      "text/plain": [
       "((139, 69), (717, 69))"
      ]
     },
     "execution_count": 419,
     "metadata": {},
     "output_type": "execute_result"
    }
   ],
   "source": [
    "# (y, n) = (139, 717)\n",
    "nad2y = nad1n.loc[nad1n['배인번호_수정'].isnull() == False].reset_index(drop=True)\n",
    "nad2n = nad1n.loc[nad1n['배인번호_수정'].isnull() == True].reset_index(drop=True)\n",
    "nad2y.shape, nad2n.shape"
   ]
  },
  {
   "cell_type": "code",
   "execution_count": 420,
   "metadata": {},
   "outputs": [
    {
     "data": {
      "text/plain": [
       "array(['(주)볼보자동차코리아', '비엠더블유코리아(주)', '자기인증면제차량', '볼보트럭코리아(주)',\n",
       "       '르노삼성자동차(주)', '현대자동차(주)', '한국지엠주식회사', '기아자동차(주)'], dtype=object)"
      ]
     },
     "execution_count": 420,
     "metadata": {},
     "output_type": "execute_result"
    }
   ],
   "source": [
    "nad2y['제작사명'].unique()"
   ]
  },
  {
   "attachments": {},
   "cell_type": "markdown",
   "metadata": {},
   "source": [
    "#### [출력] 처리된 미기입 차량2"
   ]
  },
  {
   "cell_type": "code",
   "execution_count": 421,
   "metadata": {},
   "outputs": [
    {
     "data": {
      "text/plain": [
       "Index(['차대번호', '차량번호', '제원관리번호', '차종', '용도', '최초등록일', '연식', '제작일자', '검사유효일',\n",
       "       '배출가스인증번호', '배인번호_수정', '등급', '등급_수정', '차명', '차종분류', '차종유형', '자동차형식',\n",
       "       '제작사명', '연료', '엔진형식', '총중량', '적재중량', '엔진출력', '배기량', '법정동코드', '시도명',\n",
       "       '시군구명', '소유자구분', '말소여부', '일치유무'],\n",
       "      dtype='object')"
      ]
     },
     "execution_count": 421,
     "metadata": {},
     "output_type": "execute_result"
    }
   ],
   "source": [
    "submit_nad2y = nad2y[select_col]\n",
    "submit_nad2y = submit_nad2y.rename(columns={'차량번호_x':'차량번호', '차명_x':'차명', '엔진형식_x':'엔진형식', '차종_원본':'차종'})\n",
    "submit_nad2y.columns"
   ]
  },
  {
   "cell_type": "code",
   "execution_count": 422,
   "metadata": {},
   "outputs": [
    {
     "data": {
      "text/plain": [
       "Index(['차대번호', '차량번호', '제원관리번호', '차종', '용도', '최초등록일', '연식', '제작일자', '검사유효일',\n",
       "       '배출가스인증번호', '배인번호_수정', '등급', '등급_수정', '차명', '차종분류', '차종유형', '자동차형식',\n",
       "       '제작사명', '연료', '엔진형식', '총중량', '적재중량', '엔진출력', '배기량', '법정동코드', '시도명',\n",
       "       '시군구명', '소유자구분', '말소여부', '일치유무'],\n",
       "      dtype='object')"
      ]
     },
     "execution_count": 422,
     "metadata": {},
     "output_type": "execute_result"
    }
   ],
   "source": [
    "submit_nad2n = nad2n[select_col]\n",
    "submit_nad2n = submit_nad2n.rename(columns={'차량번호_x':'차량번호', '차명_x':'차명', '엔진형식_x':'엔진형식', '차종_원본':'차종'})\n",
    "submit_nad2n.columns"
   ]
  },
  {
   "cell_type": "code",
   "execution_count": 423,
   "metadata": {},
   "outputs": [],
   "source": [
    "submit_nad2y.to_csv(os.path.join(total_nan_fold, 'nad2y.csv'), index=False, encoding='cp949')\n",
    "submit_nad2n.to_csv(os.path.join(total_nan_fold, 'nad2n.csv'), index=False, encoding='cp949')"
   ]
  },
  {
   "attachments": {},
   "cell_type": "markdown",
   "metadata": {},
   "source": [
    "### 3\\. 정상 데이터와 비교2\n",
    "- 차대번호 11자리까지 동일하면 동일한 등급으로 선정"
   ]
  },
  {
   "cell_type": "code",
   "execution_count": 424,
   "metadata": {},
   "outputs": [
    {
     "data": {
      "text/plain": [
       "Index(['차대번호', '차량번호_x', '제원관리번호', '차종_원본', '용도', '최초등록일', '연식', '제작일자',\n",
       "       '검사유효일', '배출가스인증번호', '등급', '차명_x', '차종분류', '차종유형', '자동차형식', '제작사명',\n",
       "       '연료', '엔진형식_x', '총중량', '적재중량', '엔진출력', '배기량', '법정동코드', '시도명', '시군구명',\n",
       "       '소유자구분', '말소여부', '일치유무', '사용연료', '주행거리', '차명_y', '차량번호_y', '차종', '차량연식',\n",
       "       '엔진형식_y', '검사방법', '검사일자', '검사종류', '검사판정시각', '검사판정', '산소값', '이산화탄소값',\n",
       "       '무부하매연판정1', '무부하매연판정2', '무부하매연판정3', '무부하매연판정4', '무부하매연판정5', '무부하매연판정6',\n",
       "       '무부하매연허용치1', '무부하매연허용치2', '무부하매연허용치3', '무부하매연허용치4', '무부하매연허용치5',\n",
       "       '무부하매연허용치6', '무부하매연측정치1', '무부하매연측정치2', '무부하매연측정치3', '무부하매연측정치4',\n",
       "       '무부하매연측정치5', '무부하매연측정치6', '정기정밀', 'vin10', 'vin_year', 'DPF유무',\n",
       "       '배인번호_수정', '등급_수정', 'DPF유무_수정', '확인유무', '비고'],\n",
       "      dtype='object')"
      ]
     },
     "execution_count": 424,
     "metadata": {},
     "output_type": "execute_result"
    }
   ],
   "source": [
    "nad2n.columns"
   ]
  },
  {
   "cell_type": "code",
   "execution_count": 425,
   "metadata": {},
   "outputs": [],
   "source": [
    "norm['차대번호'] = norm['차대번호'].astype('str')\n",
    "nad2n['차대번호'] = nad2n['차대번호'].astype('str')"
   ]
  },
  {
   "cell_type": "code",
   "execution_count": 426,
   "metadata": {},
   "outputs": [],
   "source": [
    "norm_vin11 = norm['차대번호'].str[:11].to_list()"
   ]
  },
  {
   "cell_type": "code",
   "execution_count": 427,
   "metadata": {},
   "outputs": [
    {
     "data": {
      "text/plain": [
       "['WAUZZZ4F16N', 'WAUZZZ4F16N', 'WAUZZZ4F86N', 'WAUZZZ4F36N', 'WAUZZZ4F26N']"
      ]
     },
     "execution_count": 427,
     "metadata": {},
     "output_type": "execute_result"
    }
   ],
   "source": [
    "norm_vin11[:5]"
   ]
  },
  {
   "cell_type": "code",
   "execution_count": 428,
   "metadata": {},
   "outputs": [
    {
     "data": {
      "text/plain": [
       "['KL3M8BNF37K', 'WJMS2NTH484', 'WJMS2NTH484', 'WJMS2NSK074', 'WJMS2NUH484']"
      ]
     },
     "execution_count": 428,
     "metadata": {},
     "output_type": "execute_result"
    }
   ],
   "source": [
    "nad2n_vin11 = nad2n['차대번호'].str[:11].to_list()\n",
    "nad2n_vin11[:5]"
   ]
  },
  {
   "cell_type": "code",
   "execution_count": 429,
   "metadata": {},
   "outputs": [
    {
     "name": "stderr",
     "output_type": "stream",
     "text": [
      "717it [00:10, 66.18it/s]\n"
     ]
    },
    {
     "data": {
      "text/plain": [
       "7"
      ]
     },
     "execution_count": 429,
     "metadata": {},
     "output_type": "execute_result"
    }
   ],
   "source": [
    "idx3 = []\n",
    "for i, one in tqdm(enumerate(nad2n_vin11)):\n",
    "    if one in norm_vin11:\n",
    "        idx3.append(i)\n",
    "len(idx3)"
   ]
  },
  {
   "cell_type": "code",
   "execution_count": 430,
   "metadata": {},
   "outputs": [
    {
     "data": {
      "text/html": [
       "<div>\n",
       "<style scoped>\n",
       "    .dataframe tbody tr th:only-of-type {\n",
       "        vertical-align: middle;\n",
       "    }\n",
       "\n",
       "    .dataframe tbody tr th {\n",
       "        vertical-align: top;\n",
       "    }\n",
       "\n",
       "    .dataframe thead th {\n",
       "        text-align: right;\n",
       "    }\n",
       "</style>\n",
       "<table border=\"1\" class=\"dataframe\">\n",
       "  <thead>\n",
       "    <tr style=\"text-align: right;\">\n",
       "      <th></th>\n",
       "      <th>차대번호</th>\n",
       "      <th>제원관리번호</th>\n",
       "      <th>배출가스인증번호</th>\n",
       "      <th>배인번호_수정</th>\n",
       "      <th>등급</th>\n",
       "      <th>등급_수정</th>\n",
       "      <th>제작사명</th>\n",
       "      <th>차명_x</th>\n",
       "      <th>자동차형식</th>\n",
       "      <th>엔진형식_x</th>\n",
       "    </tr>\n",
       "  </thead>\n",
       "  <tbody>\n",
       "    <tr>\n",
       "      <th>6</th>\n",
       "      <td>KMFLA18KP8C027362</td>\n",
       "      <td>B3C10016600003307</td>\n",
       "      <td>NaN</td>\n",
       "      <td>NaN</td>\n",
       "      <td>4</td>\n",
       "      <td>4</td>\n",
       "      <td>한국특장기술(주)</td>\n",
       "      <td>한국특장기술트럭</td>\n",
       "      <td>K4.5C2-7TD-H4.5EU</td>\n",
       "      <td>D6GA</td>\n",
       "    </tr>\n",
       "    <tr>\n",
       "      <th>399</th>\n",
       "      <td>KNCWF03429K377309</td>\n",
       "      <td>B3510001600014108</td>\n",
       "      <td>NaN</td>\n",
       "      <td>NaN</td>\n",
       "      <td>4</td>\n",
       "      <td>4</td>\n",
       "      <td>(주)동해기계항공</td>\n",
       "      <td>동해12M고소작업차-0801</td>\n",
       "      <td>DHS1200HM-0801</td>\n",
       "      <td>J3</td>\n",
       "    </tr>\n",
       "    <tr>\n",
       "      <th>436</th>\n",
       "      <td>KNCSHZ74CCK639710</td>\n",
       "      <td>B1T10003500013111</td>\n",
       "      <td>NaN</td>\n",
       "      <td>NaN</td>\n",
       "      <td>4</td>\n",
       "      <td>4</td>\n",
       "      <td>주식회사 한서정공</td>\n",
       "      <td>한서4륜구동다목적방역방제차</td>\n",
       "      <td>HS-1500KF</td>\n",
       "      <td>J3</td>\n",
       "    </tr>\n",
       "    <tr>\n",
       "      <th>613</th>\n",
       "      <td>KMFLA18KP8C026863</td>\n",
       "      <td>B9G10003300003307</td>\n",
       "      <td>NaN</td>\n",
       "      <td>NaN</td>\n",
       "      <td>4</td>\n",
       "      <td>4</td>\n",
       "      <td>정부쓰리축</td>\n",
       "      <td>정부5톤플러스카고트럭</td>\n",
       "      <td>JBH-5LLP</td>\n",
       "      <td>D6GA</td>\n",
       "    </tr>\n",
       "    <tr>\n",
       "      <th>620</th>\n",
       "      <td>KNCSHZ74CCK639187</td>\n",
       "      <td>B1T10003500013111</td>\n",
       "      <td>NaN</td>\n",
       "      <td>NaN</td>\n",
       "      <td>4</td>\n",
       "      <td>4</td>\n",
       "      <td>주식회사 한서정공</td>\n",
       "      <td>한서4륜구동다목적방역방제차</td>\n",
       "      <td>HS-1500KF</td>\n",
       "      <td>J3</td>\n",
       "    </tr>\n",
       "    <tr>\n",
       "      <th>715</th>\n",
       "      <td>KMFLA18KP8C031274</td>\n",
       "      <td>B1R10005100003308</td>\n",
       "      <td>NaN</td>\n",
       "      <td>NaN</td>\n",
       "      <td>4</td>\n",
       "      <td>4</td>\n",
       "      <td>신정개발특장차 주식회사</td>\n",
       "      <td>신정4㎥급진공노면총소차</td>\n",
       "      <td>RS07GMS2</td>\n",
       "      <td>D6GA</td>\n",
       "    </tr>\n",
       "    <tr>\n",
       "      <th>716</th>\n",
       "      <td>KMCLK18KP8C035195</td>\n",
       "      <td>A0810005209353308</td>\n",
       "      <td>NaN</td>\n",
       "      <td>NaN</td>\n",
       "      <td>4</td>\n",
       "      <td>4</td>\n",
       "      <td>현대자동차(주)</td>\n",
       "      <td>메가트럭군물자수송</td>\n",
       "      <td>HD050-8MT2-LGc-A</td>\n",
       "      <td>D6GA</td>\n",
       "    </tr>\n",
       "  </tbody>\n",
       "</table>\n",
       "</div>"
      ],
      "text/plain": [
       "                  차대번호             제원관리번호  배출가스인증번호 배인번호_수정  등급  등급_수정  \\\n",
       "6    KMFLA18KP8C027362  B3C10016600003307       NaN     NaN   4      4   \n",
       "399  KNCWF03429K377309  B3510001600014108       NaN     NaN   4      4   \n",
       "436  KNCSHZ74CCK639710  B1T10003500013111       NaN     NaN   4      4   \n",
       "613  KMFLA18KP8C026863  B9G10003300003307       NaN     NaN   4      4   \n",
       "620  KNCSHZ74CCK639187  B1T10003500013111       NaN     NaN   4      4   \n",
       "715  KMFLA18KP8C031274  B1R10005100003308       NaN     NaN   4      4   \n",
       "716  KMCLK18KP8C035195  A0810005209353308       NaN     NaN   4      4   \n",
       "\n",
       "             제작사명             차명_x              자동차형식 엔진형식_x  \n",
       "6       한국특장기술(주)         한국특장기술트럭  K4.5C2-7TD-H4.5EU   D6GA  \n",
       "399     (주)동해기계항공  동해12M고소작업차-0801     DHS1200HM-0801     J3  \n",
       "436     주식회사 한서정공   한서4륜구동다목적방역방제차          HS-1500KF     J3  \n",
       "613         정부쓰리축      정부5톤플러스카고트럭           JBH-5LLP   D6GA  \n",
       "620     주식회사 한서정공   한서4륜구동다목적방역방제차          HS-1500KF     J3  \n",
       "715  신정개발특장차 주식회사     신정4㎥급진공노면총소차           RS07GMS2   D6GA  \n",
       "716      현대자동차(주)        메가트럭군물자수송   HD050-8MT2-LGc-A   D6GA  "
      ]
     },
     "execution_count": 430,
     "metadata": {},
     "output_type": "execute_result"
    }
   ],
   "source": [
    "nad2n.loc[idx3, ['차대번호', '제원관리번호', '배출가스인증번호', '배인번호_수정', '등급', '등급_수정', '제작사명', col_car_name, '자동차형식', col_engine_form]]"
   ]
  },
  {
   "cell_type": "code",
   "execution_count": 431,
   "metadata": {},
   "outputs": [
    {
     "data": {
      "text/plain": [
       "764822"
      ]
     },
     "execution_count": 431,
     "metadata": {},
     "output_type": "execute_result"
    }
   ],
   "source": [
    "norm_vin11.index('KMCLK18KP8C')"
   ]
  },
  {
   "cell_type": "code",
   "execution_count": 432,
   "metadata": {},
   "outputs": [
    {
     "data": {
      "text/plain": [
       "차대번호        KMCLK18KP8C031162\n",
       "배출가스인증번호         7MY-HD-24-30\n",
       "배인번호_수정          7MY-HD-24-30\n",
       "등급                          4\n",
       "등급_수정                       4\n",
       "Name: 764822, dtype: object"
      ]
     },
     "execution_count": 432,
     "metadata": {},
     "output_type": "execute_result"
    }
   ],
   "source": [
    "norm.loc[764822, ['차대번호', '배출가스인증번호', '배인번호_수정', '등급', '등급_수정']]"
   ]
  },
  {
   "cell_type": "code",
   "execution_count": 433,
   "metadata": {},
   "outputs": [
    {
     "name": "stderr",
     "output_type": "stream",
     "text": [
      "1140492it [00:10, 113025.10it/s]\n"
     ]
    },
    {
     "data": {
      "text/plain": [
       "6425"
      ]
     },
     "execution_count": 433,
     "metadata": {},
     "output_type": "execute_result"
    }
   ],
   "source": [
    "idx3_1 = []\n",
    "for i, one in tqdm(enumerate(norm_vin11)):\n",
    "    if one in nad2n_vin11:\n",
    "        idx3_1.append(i)\n",
    "len(idx3_1)"
   ]
  },
  {
   "attachments": {},
   "cell_type": "markdown",
   "metadata": {},
   "source": [
    "### 4\\. 미기입 확인 적용"
   ]
  },
  {
   "cell_type": "code",
   "execution_count": 434,
   "metadata": {},
   "outputs": [
    {
     "data": {
      "text/plain": [
       "(717, 69)"
      ]
     },
     "execution_count": 434,
     "metadata": {},
     "output_type": "execute_result"
    }
   ],
   "source": [
    "nad2n.shape"
   ]
  },
  {
   "cell_type": "code",
   "execution_count": 435,
   "metadata": {},
   "outputs": [
    {
     "data": {
      "text/plain": [
       "Index(['차대번호', '차량번호_x', '제원관리번호', '차종_원본', '용도', '최초등록일', '연식', '제작일자',\n",
       "       '검사유효일', '배출가스인증번호', '등급', '차명_x', '차종분류', '차종유형', '자동차형식', '제작사명',\n",
       "       '연료', '엔진형식_x', '총중량', '적재중량', '엔진출력', '배기량', '법정동코드', '시도명', '시군구명',\n",
       "       '소유자구분', '말소여부', '일치유무', '사용연료', '주행거리', '차명_y', '차량번호_y', '차종', '차량연식',\n",
       "       '엔진형식_y', '검사방법', '검사일자', '검사종류', '검사판정시각', '검사판정', '산소값', '이산화탄소값',\n",
       "       '무부하매연판정1', '무부하매연판정2', '무부하매연판정3', '무부하매연판정4', '무부하매연판정5', '무부하매연판정6',\n",
       "       '무부하매연허용치1', '무부하매연허용치2', '무부하매연허용치3', '무부하매연허용치4', '무부하매연허용치5',\n",
       "       '무부하매연허용치6', '무부하매연측정치1', '무부하매연측정치2', '무부하매연측정치3', '무부하매연측정치4',\n",
       "       '무부하매연측정치5', '무부하매연측정치6', '정기정밀', 'vin10', 'vin_year', 'DPF유무',\n",
       "       '배인번호_수정', '등급_수정', 'DPF유무_수정', '확인유무', '비고'],\n",
       "      dtype='object')"
      ]
     },
     "execution_count": 435,
     "metadata": {},
     "output_type": "execute_result"
    }
   ],
   "source": [
    "nad2n.columns"
   ]
  },
  {
   "cell_type": "code",
   "execution_count": 436,
   "metadata": {},
   "outputs": [
    {
     "data": {
      "text/plain": [
       "(6525, 30)"
      ]
     },
     "execution_count": 436,
     "metadata": {},
     "output_type": "execute_result"
    }
   ],
   "source": [
    "sliced_check_nan_car.shape"
   ]
  },
  {
   "cell_type": "code",
   "execution_count": 437,
   "metadata": {},
   "outputs": [
    {
     "data": {
      "text/plain": [
       "(91, 30)"
      ]
     },
     "execution_count": 437,
     "metadata": {},
     "output_type": "execute_result"
    }
   ],
   "source": [
    "pick_car = sliced_check_nan_car.drop_duplicates(['배인번호_수정', '등급_수정', '차명', '자동차형식', '엔진형식'])\n",
    "pick_car.shape"
   ]
  },
  {
   "cell_type": "code",
   "execution_count": 438,
   "metadata": {},
   "outputs": [
    {
     "name": "stderr",
     "output_type": "stream",
     "text": [
      "100%|██████████| 91/91 [00:00<00:00, 550.68it/s]\n"
     ]
    }
   ],
   "source": [
    "for m_emis, m_grade, car_name, car_form, engine_form in tqdm(pick_car[['배인번호_수정', '등급_수정', '차명', '자동차형식', '엔진형식']].values):\n",
    "    nad2n.loc[(nad2n[col_car_name] == car_name) & (nad2n['자동차형식'] == car_form) & (nad2n[col_engine_form] == engine_form), ['배인번호_수정', '등급_수정']] = m_emis, m_grade"
   ]
  },
  {
   "cell_type": "code",
   "execution_count": 439,
   "metadata": {},
   "outputs": [
    {
     "data": {
      "text/plain": [
       "((87, 69), (630, 69))"
      ]
     },
     "execution_count": 439,
     "metadata": {},
     "output_type": "execute_result"
    }
   ],
   "source": [
    "# (y, n) = (87, 630)\n",
    "nad3y = nad2n.loc[nad2n['배인번호_수정'].isnull() == False].reset_index(drop=True)\n",
    "nad3n = nad2n.loc[nad2n['배인번호_수정'].isnull() == True].reset_index(drop=True)\n",
    "nad3y.shape, nad3n.shape"
   ]
  },
  {
   "attachments": {},
   "cell_type": "markdown",
   "metadata": {},
   "source": [
    "#### [출력] 처리된 미기입 차량3"
   ]
  },
  {
   "cell_type": "code",
   "execution_count": 440,
   "metadata": {},
   "outputs": [
    {
     "data": {
      "text/plain": [
       "Index(['차대번호', '차량번호', '제원관리번호', '차종', '용도', '최초등록일', '연식', '제작일자', '검사유효일',\n",
       "       '배출가스인증번호', '배인번호_수정', '등급', '등급_수정', '차명', '차종분류', '차종유형', '자동차형식',\n",
       "       '제작사명', '연료', '엔진형식', '총중량', '적재중량', '엔진출력', '배기량', '법정동코드', '시도명',\n",
       "       '시군구명', '소유자구분', '말소여부', '일치유무'],\n",
       "      dtype='object')"
      ]
     },
     "execution_count": 440,
     "metadata": {},
     "output_type": "execute_result"
    }
   ],
   "source": [
    "submit_nad3y = nad3y[select_col]\n",
    "submit_nad3y = submit_nad3y.rename(columns={'차량번호_x':'차량번호', '차명_x':'차명', '엔진형식_x':'엔진형식', '차종_원본':'차종'})\n",
    "submit_nad3y.columns"
   ]
  },
  {
   "cell_type": "code",
   "execution_count": 441,
   "metadata": {},
   "outputs": [
    {
     "data": {
      "text/plain": [
       "Index(['차대번호', '차량번호', '제원관리번호', '차종', '용도', '최초등록일', '연식', '제작일자', '검사유효일',\n",
       "       '배출가스인증번호', '배인번호_수정', '등급', '등급_수정', '차명', '차종분류', '차종유형', '자동차형식',\n",
       "       '제작사명', '연료', '엔진형식', '총중량', '적재중량', '엔진출력', '배기량', '법정동코드', '시도명',\n",
       "       '시군구명', '소유자구분', '말소여부', '일치유무'],\n",
       "      dtype='object')"
      ]
     },
     "execution_count": 441,
     "metadata": {},
     "output_type": "execute_result"
    }
   ],
   "source": [
    "submit_nad3n = nad3n[select_col]\n",
    "submit_nad3n = submit_nad3n.rename(columns={'차량번호_x':'차량번호', '차명_x':'차명', '엔진형식_x':'엔진형식', '차종_원본':'차종'})\n",
    "submit_nad3n.columns"
   ]
  },
  {
   "cell_type": "code",
   "execution_count": 442,
   "metadata": {},
   "outputs": [],
   "source": [
    "submit_nad3y.to_csv(os.path.join(total_nan_fold, 'nad3y.csv'), index=False, encoding='cp949')\n",
    "submit_nad3n.to_csv(os.path.join(total_nan_fold, 'nad3n.csv'), index=False, encoding='cp949')"
   ]
  },
  {
   "attachments": {},
   "cell_type": "markdown",
   "metadata": {},
   "source": [
    "## 제작사 이상\n",
    "- 4862 -> 4715, 147 개 처리 "
   ]
  },
  {
   "attachments": {},
   "cell_type": "markdown",
   "metadata": {},
   "source": [
    "### [출력] weird 파일"
   ]
  },
  {
   "cell_type": "code",
   "execution_count": 443,
   "metadata": {},
   "outputs": [
    {
     "data": {
      "text/plain": [
       "(4862, 69)"
      ]
     },
     "execution_count": 443,
     "metadata": {},
     "output_type": "execute_result"
    }
   ],
   "source": [
    "weird.shape"
   ]
  },
  {
   "cell_type": "code",
   "execution_count": 444,
   "metadata": {},
   "outputs": [
    {
     "data": {
      "text/plain": [
       "Index(['차대번호', '차량번호_x', '제원관리번호', '차종_원본', '용도', '최초등록일', '연식', '제작일자',\n",
       "       '검사유효일', '배출가스인증번호', '등급', '차명_x', '차종분류', '차종유형', '자동차형식', '제작사명',\n",
       "       '연료', '엔진형식_x', '총중량', '적재중량', '엔진출력', '배기량', '법정동코드', '시도명', '시군구명',\n",
       "       '소유자구분', '말소여부', '일치유무', '사용연료', '주행거리', '차명_y', '차량번호_y', '차종', '차량연식',\n",
       "       '엔진형식_y', '검사방법', '검사일자', '검사종류', '검사판정시각', '검사판정', '산소값', '이산화탄소값',\n",
       "       '무부하매연판정1', '무부하매연판정2', '무부하매연판정3', '무부하매연판정4', '무부하매연판정5', '무부하매연판정6',\n",
       "       '무부하매연허용치1', '무부하매연허용치2', '무부하매연허용치3', '무부하매연허용치4', '무부하매연허용치5',\n",
       "       '무부하매연허용치6', '무부하매연측정치1', '무부하매연측정치2', '무부하매연측정치3', '무부하매연측정치4',\n",
       "       '무부하매연측정치5', '무부하매연측정치6', '정기정밀', 'vin10', 'vin_year', 'DPF유무',\n",
       "       '배인번호_수정', '등급_수정', 'DPF유무_수정', '확인유무', '비고'],\n",
       "      dtype='object')"
      ]
     },
     "execution_count": 444,
     "metadata": {},
     "output_type": "execute_result"
    }
   ],
   "source": [
    "weird.columns"
   ]
  },
  {
   "attachments": {},
   "cell_type": "markdown",
   "metadata": {},
   "source": [
    "### 1\\. 유로4인증대장과 매칭"
   ]
  },
  {
   "cell_type": "code",
   "execution_count": 445,
   "metadata": {},
   "outputs": [
    {
     "data": {
      "text/plain": [
       "array(['현대자동차(주)', '창림모아츠(주)', '(주)에이엠티코리아', '주식회사 평강비아이엠(B.I.M)',\n",
       "       '(주)지엠케이', '드림특장(주)', '(주)신광테크놀러지', '제이에스이엔지', '(주)용진특장', '(주)엠뱅크',\n",
       "       '수성특장(주)', '(주)세정모터스', '(주)엘위포투', nan, '(주)성진테크', '(주)밴텍캠핑카',\n",
       "       '자기인증면제차량', '르노삼성자동차(주)', '(주) 삼오특장자동차', '(주) 골드밴', '(주)애드터치',\n",
       "       '기아자동차(주)', '해양산업', '씨엔라인', '(주)동해기계항공', '(주) 오텍', '(주)호룡',\n",
       "       '(주)사자후', '(주)무빙애드', '한아에스에스(주)', '주식회사 천하', '(주)드림티엔에스',\n",
       "       '반도특장(주)', '라헬(주)', '동아특장공업사', '녹산대진특장차', '(주) 고호산업', '에스알(주)',\n",
       "       '주식회사 카셈(KASEM Co.,Ltd)', '(주)다산중공업', '(주)에코카', '주식회사 유아이테크',\n",
       "       '세화자동차', '(주)마노', '(주)맥스리무진', '고려에스티엠(주)', '카올넷', '에프씨에이코리아(주)',\n",
       "       '쌍용자동차(주)', '비엠더블유코리아(주)', '한불모터스(주)', '(주)팔도', '(주)한국토미',\n",
       "       '(주)포멕특장', '선진정공(주)', '(주)한국쓰리축', '한국특장기술(주)', '디앨 주식회사',\n",
       "       '씨제이대한통운(주)', '(주)한국차체', '건민특장 주식회사', '(주)화이어텍', '한국쓰리축공업(주)',\n",
       "       '정우정공 (주)', '우림특장산업', '탱크코리아(주)', '정부쓰리축', '부커셰링코리아 (주)',\n",
       "       '신정개발특장차 주식회사', '엠에스특장공업(주)', '(주)화성특장', '(주)한국메리트특장',\n",
       "       '(주)케이지비고려골든박스', '한빛테크원(주)', '(주)뉴텍티앤엠', '(주)광림', '(주)함코',\n",
       "       '동양자동차공업(주)', '(주)알텍', '(주)수산씨에스엠', '(주)우리특장', '(주)에버다임',\n",
       "       '(주)대진정공', '도원자동차공업 (주)', '(주)새한에어서스펜션', '(주) 맥써버모터스', '로쏘엠',\n",
       "       '고려특장(주)', '(주)우양', '제일F.R.P산업', '(주) 에이엠특장', '해광산업사', '코리아특장',\n",
       "       '한국상용트럭(주)', '(주)한성특장', '(주)화인특장', '원진(주)', '신제일정공(주)', '(주)세인이엔지',\n",
       "       '영일특장(주)', '(주)동양특장', '주식회사 한서정공', '(주)삼성특장', '한신특장', '(유)삼능기계',\n",
       "       '(주)방원테크', '신성엔지니어링', '(주)진우에스엠씨', '(주)태경이엔지', '원천특장공업주식회사',\n",
       "       '이텍산업 주식회사', '(주)노바스코리아', '(주)가이젠캠핑카', '(주)부성특장', '(주)나노메딕스',\n",
       "       '(주)수산중공업', '(주) 두성하-드텍', '(주)대양특장', '(주) 강남기공', '(주) 진화이앤씨',\n",
       "       '(주)에이엔디오토모빌', '한국특장 (주)', '대지정공(주)', '삼우중공업(주)', '한국후3축', '베스텍특장',\n",
       "       '(주)우성특장', '주식회사 씨엔에스티', '일성산업', '(주)서보테크', '대경특장(주)', '동아탑정비공업사',\n",
       "       '카고텍코리아(주)', '광림특장차 주식회사', '형제특장 주식회사', '대흥특장정공 (주)', '유비통상(주)',\n",
       "       '계백자동차(주)', '남영코리아화이어트럭(주)', '대한특장', '카써스(주)', '(유)대원오토', '(주)승신',\n",
       "       '(주)삼부', '(주)미동이엔씨', '(주)뉴테크특장', '대구시소방본부'], dtype=object)"
      ]
     },
     "execution_count": 445,
     "metadata": {},
     "output_type": "execute_result"
    }
   ],
   "source": [
    "weird['제작사명'].unique()"
   ]
  },
  {
   "cell_type": "code",
   "execution_count": 446,
   "metadata": {},
   "outputs": [],
   "source": [
    "# 한불모터스(주)\n",
    "# 비엠더블유코리아(주)\n",
    "# 르노삼성자동차(주)\n",
    "# 에프씨에이코리아(주)\n",
    "# 기아자동차(주)\n",
    "# 쌍용자동차(주)\n",
    "# 현대자동차(주)"
   ]
  },
  {
   "cell_type": "code",
   "execution_count": 447,
   "metadata": {},
   "outputs": [],
   "source": [
    "# 유로4 / result파일\n",
    "# 제작사명 : 푸조 / 한불모터스(주)\n",
    "# 배기량\n",
    "# {1997 : '5MY-HB-14-1', 2721 : '5MY-HB-14-4', 1560 : '8MY-HB-14-1'}"
   ]
  },
  {
   "cell_type": "code",
   "execution_count": 448,
   "metadata": {},
   "outputs": [],
   "source": [
    "# 유로4 / result파일\n",
    "# 제작사명 : 크라이슬러 / 에프씨에이코리아(주)\n",
    "# 차명으로 매칭\n",
    "# {'300C' : '6MY-DK-14-1', '짚 커맨더' : '6MY-DK-14-2', '니트로' : '7MY-DK-14-4', '짚 니트로' : '7MY-DK-14-4', '짚 랭글러' : '7MY-DK-14-5', '짚그랜드체로키' : '8MY-DK-14-01, '짚 그랜드 체로키' : '8MY-DK-14-01', '그랜드 보이저' : '8MY-DK-14-02', '세브링' : '8MY-DK-14-06'}"
   ]
  },
  {
   "cell_type": "code",
   "execution_count": 449,
   "metadata": {},
   "outputs": [],
   "source": [
    "weird['배인번호_수정_확인'] = np.nan"
   ]
  },
  {
   "cell_type": "code",
   "execution_count": 450,
   "metadata": {},
   "outputs": [],
   "source": [
    "# 8, 4854(y, n)\n",
    "productor = '한불모터스(주)'\n",
    "dict1 = {1997 : '5MY-HB-14-1', 2721 : '5MY-HB-14-4', 1560 : '8MY-HB-14-1'}\n",
    "for k, v in dict1.items():\n",
    "    weird.loc[(weird['제작사명'] == productor) & (weird['배기량'] == k), ['배인번호_수정', '배인번호_수정_확인']] = v, v"
   ]
  },
  {
   "cell_type": "code",
   "execution_count": 452,
   "metadata": {},
   "outputs": [],
   "source": [
    "# 132, 4730\n",
    "productor = '에프씨에이코리아(주)'\n",
    "dict2 = {'300C' : '6MY-DK-14-1', '짚 커맨더' : '6MY-DK-14-2', '니트로' : '7MY-DK-14-4', '짚 니트로' : '7MY-DK-14-4', '짚 랭글러' : '7MY-DK-14-5', \n",
    "         '짚그랜드체로키' : '8MY-DK-14-01', '짚 그랜드 체로키' : '8MY-DK-14-01', '그랜드 보이저' : '8MY-DK-14-02', '세브링' : '8MY-DK-14-06'}\n",
    "for k, v in dict2.items():\n",
    "    weird.loc[(weird['제작사명'] == productor) & (weird[col_car_name] == k), ['배인번호_수정', '배인번호_수정_확인']] = v, v"
   ]
  },
  {
   "cell_type": "code",
   "execution_count": 453,
   "metadata": {},
   "outputs": [
    {
     "data": {
      "text/plain": [
       "((132, 70), (4730, 70))"
      ]
     },
     "execution_count": 453,
     "metadata": {},
     "output_type": "execute_result"
    }
   ],
   "source": [
    "weird1y = weird.loc[weird['배인번호_수정_확인'].isnull() == False].reset_index(drop=True)\n",
    "weird1n = weird.loc[weird['배인번호_수정_확인'].isnull() == True].reset_index(drop=True)\n",
    "weird1y.shape, weird1n.shape"
   ]
  },
  {
   "cell_type": "code",
   "execution_count": 454,
   "metadata": {},
   "outputs": [
    {
     "data": {
      "text/plain": [
       "(8, 3)"
      ]
     },
     "execution_count": 454,
     "metadata": {},
     "output_type": "execute_result"
    }
   ],
   "source": [
    "weird.loc[weird['제작사명'] == '한불모터스(주)', ['배출가스인증번호', '배인번호_수정', '제작사명']].shape"
   ]
  },
  {
   "cell_type": "code",
   "execution_count": 455,
   "metadata": {},
   "outputs": [
    {
     "data": {
      "text/plain": [
       "(127, 4)"
      ]
     },
     "execution_count": 455,
     "metadata": {},
     "output_type": "execute_result"
    }
   ],
   "source": [
    "weird.loc[weird['제작사명'] == '에프씨에이코리아(주)', ['배출가스인증번호', '배인번호_수정', '제작사명', col_car_name]].shape"
   ]
  },
  {
   "cell_type": "code",
   "execution_count": 456,
   "metadata": {},
   "outputs": [
    {
     "data": {
      "text/plain": [
       "(124, 4)"
      ]
     },
     "execution_count": 456,
     "metadata": {},
     "output_type": "execute_result"
    }
   ],
   "source": [
    "weird.loc[(weird['제작사명'] == '에프씨에이코리아(주)') & (weird[col_car_name] == '짚 랭글러'), ['배출가스인증번호', '배인번호_수정', '제작사명', col_car_name]].shape"
   ]
  },
  {
   "cell_type": "code",
   "execution_count": 457,
   "metadata": {},
   "outputs": [
    {
     "data": {
      "text/plain": [
       "4730"
      ]
     },
     "execution_count": 457,
     "metadata": {},
     "output_type": "execute_result"
    }
   ],
   "source": [
    "weird['배인번호_수정_확인'].isnull().sum()"
   ]
  },
  {
   "attachments": {},
   "cell_type": "markdown",
   "metadata": {},
   "source": [
    "#### [출력] 처리된 제작사 이상 차량1"
   ]
  },
  {
   "cell_type": "code",
   "execution_count": 458,
   "metadata": {},
   "outputs": [
    {
     "data": {
      "text/plain": [
       "Index(['차대번호', '차량번호', '제원관리번호', '차종', '용도', '최초등록일', '연식', '제작일자', '검사유효일',\n",
       "       '배출가스인증번호', '배인번호_수정', '등급', '등급_수정', '차명', '차종분류', '차종유형', '자동차형식',\n",
       "       '제작사명', '연료', '엔진형식', '총중량', '적재중량', '엔진출력', '배기량', '법정동코드', '시도명',\n",
       "       '시군구명', '소유자구분', '말소여부', '일치유무'],\n",
       "      dtype='object')"
      ]
     },
     "execution_count": 458,
     "metadata": {},
     "output_type": "execute_result"
    }
   ],
   "source": [
    "submit_weird1y = weird1y[select_col]\n",
    "submit_weird1y = submit_weird1y.rename(columns={'차량번호_x':'차량번호', '차명_x':'차명', '엔진형식_x':'엔진형식', '차종_원본':'차종'})\n",
    "submit_weird1y.columns"
   ]
  },
  {
   "cell_type": "code",
   "execution_count": 459,
   "metadata": {},
   "outputs": [
    {
     "data": {
      "text/plain": [
       "Index(['차대번호', '차량번호', '제원관리번호', '차종', '용도', '최초등록일', '연식', '제작일자', '검사유효일',\n",
       "       '배출가스인증번호', '배인번호_수정', '등급', '등급_수정', '차명', '차종분류', '차종유형', '자동차형식',\n",
       "       '제작사명', '연료', '엔진형식', '총중량', '적재중량', '엔진출력', '배기량', '법정동코드', '시도명',\n",
       "       '시군구명', '소유자구분', '말소여부', '일치유무'],\n",
       "      dtype='object')"
      ]
     },
     "execution_count": 459,
     "metadata": {},
     "output_type": "execute_result"
    }
   ],
   "source": [
    "submit_weird1n = weird1n[select_col]\n",
    "submit_weird1n = submit_weird1n.rename(columns={'차량번호_x':'차량번호', '차명_x':'차명', '엔진형식_x':'엔진형식', '차종_원본':'차종'})\n",
    "submit_weird1n.columns"
   ]
  },
  {
   "cell_type": "code",
   "execution_count": 460,
   "metadata": {},
   "outputs": [],
   "source": [
    "submit_weird1y.to_csv(os.path.join(total_weird_fold, 'weird1y.csv'), index=False, encoding='cp949')\n",
    "submit_weird1n.to_csv(os.path.join(total_weird_fold, 'weird1n.csv'), index=False, encoding='cp949')"
   ]
  },
  {
   "attachments": {},
   "cell_type": "markdown",
   "metadata": {},
   "source": [
    "### 2\\. 정상 데이터와 비교\n",
    "- 총 4730\n",
    "- 자형, 엔형 매칭 : 14"
   ]
  },
  {
   "cell_type": "code",
   "execution_count": 461,
   "metadata": {},
   "outputs": [
    {
     "name": "stderr",
     "output_type": "stream",
     "text": [
      "100%|██████████| 4547/4547 [00:07<00:00, 609.91it/s]\n"
     ]
    }
   ],
   "source": [
    "for emis, no, car, engine in tqdm(match_data):\n",
    "    # weird1n.loc[(weird1n['제원관리번호'] == no) & (weird1n['자동차형식'] == car) & (weird1n['엔진형식_x'] == engine), '배인번호_수정'] = emis\n",
    "    weird1n.loc[(weird1n['자동차형식'] == car) & (weird1n[col_engine_form] == engine), ['배인번호_수정', '배인번호_수정_확인']] = emis, emis"
   ]
  },
  {
   "cell_type": "code",
   "execution_count": 462,
   "metadata": {},
   "outputs": [
    {
     "data": {
      "text/plain": [
       "((14, 70), (4716, 70))"
      ]
     },
     "execution_count": 462,
     "metadata": {},
     "output_type": "execute_result"
    }
   ],
   "source": [
    "weird2y = weird1n.loc[weird1n['배인번호_수정_확인'].isnull() == False].reset_index(drop=True)\n",
    "weird2n = weird1n.loc[weird1n['배인번호_수정_확인'].isnull() == True].reset_index(drop=True)\n",
    "weird2y.shape, weird2n.shape"
   ]
  },
  {
   "cell_type": "code",
   "execution_count": 469,
   "metadata": {},
   "outputs": [
    {
     "data": {
      "text/plain": [
       "4716"
      ]
     },
     "execution_count": 469,
     "metadata": {},
     "output_type": "execute_result"
    }
   ],
   "source": [
    "weird2n['배인번호_수정_확인'].isnull().sum()"
   ]
  },
  {
   "attachments": {},
   "cell_type": "markdown",
   "metadata": {},
   "source": [
    "#### [출력] 처리된 제작사 이상 차량2"
   ]
  },
  {
   "cell_type": "code",
   "execution_count": 463,
   "metadata": {},
   "outputs": [
    {
     "data": {
      "text/plain": [
       "Index(['차대번호', '차량번호', '제원관리번호', '차종', '용도', '최초등록일', '연식', '제작일자', '검사유효일',\n",
       "       '배출가스인증번호', '배인번호_수정', '등급', '등급_수정', '차명', '차종분류', '차종유형', '자동차형식',\n",
       "       '제작사명', '연료', '엔진형식', '총중량', '적재중량', '엔진출력', '배기량', '법정동코드', '시도명',\n",
       "       '시군구명', '소유자구분', '말소여부', '일치유무'],\n",
       "      dtype='object')"
      ]
     },
     "execution_count": 463,
     "metadata": {},
     "output_type": "execute_result"
    }
   ],
   "source": [
    "submit_weird2y = weird2y[select_col]\n",
    "submit_weird2y = submit_weird2y.rename(columns={'차량번호_x':'차량번호', '차명_x':'차명', '엔진형식_x':'엔진형식', '차종_원본':'차종'})\n",
    "submit_weird2y.columns"
   ]
  },
  {
   "cell_type": "code",
   "execution_count": 464,
   "metadata": {},
   "outputs": [
    {
     "data": {
      "text/plain": [
       "Index(['차대번호', '차량번호', '제원관리번호', '차종', '용도', '최초등록일', '연식', '제작일자', '검사유효일',\n",
       "       '배출가스인증번호', '배인번호_수정', '등급', '등급_수정', '차명', '차종분류', '차종유형', '자동차형식',\n",
       "       '제작사명', '연료', '엔진형식', '총중량', '적재중량', '엔진출력', '배기량', '법정동코드', '시도명',\n",
       "       '시군구명', '소유자구분', '말소여부', '일치유무'],\n",
       "      dtype='object')"
      ]
     },
     "execution_count": 464,
     "metadata": {},
     "output_type": "execute_result"
    }
   ],
   "source": [
    "submit_weird2n = weird2n[select_col]\n",
    "submit_weird2n = submit_weird2n.rename(columns={'차량번호_x':'차량번호', '차명_x':'차명', '엔진형식_x':'엔진형식', '차종_원본':'차종'})\n",
    "submit_weird2n.columns"
   ]
  },
  {
   "cell_type": "code",
   "execution_count": 465,
   "metadata": {},
   "outputs": [],
   "source": [
    "submit_weird2y.to_csv(os.path.join(total_weird_fold, 'weird2y.csv'), index=False, encoding='cp949')\n",
    "submit_weird2n.to_csv(os.path.join(total_weird_fold, 'weird2n.csv'), index=False, encoding='cp949')"
   ]
  },
  {
   "attachments": {},
   "cell_type": "markdown",
   "metadata": {},
   "source": [
    "### 3\\. 미기입 확인 적용"
   ]
  },
  {
   "cell_type": "code",
   "execution_count": 466,
   "metadata": {},
   "outputs": [
    {
     "data": {
      "text/plain": [
       "Index(['차대번호', '차량번호', '제원관리번호', '차종', '용도', '최초등록일', '연식', '제작일자', '검사유효일',\n",
       "       '배출가스인증번호', '배인번호_수정', '등급', '등급_수정', '차명', '차종분류', '차종유형', '자동차형식',\n",
       "       '제작사명', '연료', '엔진형식', '총중량', '적재중량', '엔진출력', '배기량', '법정동코드', '시도명',\n",
       "       '시군구명', '소유자구분', '말소여부', '일치유무'],\n",
       "      dtype='object')"
      ]
     },
     "execution_count": 466,
     "metadata": {},
     "output_type": "execute_result"
    }
   ],
   "source": [
    "pick_car.columns"
   ]
  },
  {
   "cell_type": "code",
   "execution_count": 467,
   "metadata": {},
   "outputs": [
    {
     "name": "stderr",
     "output_type": "stream",
     "text": [
      "100%|██████████| 91/91 [00:00<00:00, 444.39it/s]\n"
     ]
    }
   ],
   "source": [
    "for m_emis, m_grade, car_name, car_form, engine_form in tqdm(pick_car[['배인번호_수정', '등급_수정', '차명', '자동차형식', '엔진형식']].values):\n",
    "    weird2n.loc[(weird2n[col_car_name] == car_name) & (weird2n['자동차형식'] == car_form) & (weird2n[col_engine_form] == engine_form), ['배인번호_수정', '배인번호_수정_확인', '등급_수정']] = m_emis, m_emis, m_grade"
   ]
  },
  {
   "cell_type": "code",
   "execution_count": 468,
   "metadata": {},
   "outputs": [
    {
     "data": {
      "text/plain": [
       "((0, 70), (4716, 70))"
      ]
     },
     "execution_count": 468,
     "metadata": {},
     "output_type": "execute_result"
    }
   ],
   "source": [
    "# (y, n) = (0, 4716)\n",
    "weird3y = weird2n.loc[weird2n['배인번호_수정_확인'].notnull() == True].reset_index(drop=True)\n",
    "weird3n = weird2n.loc[weird2n['배인번호_수정_확인'].isnull() == True].reset_index(drop=True)\n",
    "weird3y.shape, weird3n.shape"
   ]
  },
  {
   "attachments": {},
   "cell_type": "markdown",
   "metadata": {},
   "source": [
    "### 남은 차량 중 메이저 제작사 확인\n",
    "- 에프씨에이코리아(주), 기아자동차(주)"
   ]
  },
  {
   "cell_type": "code",
   "execution_count": 470,
   "metadata": {},
   "outputs": [
    {
     "data": {
      "text/plain": [
       "array(['창림모아츠(주)', '(주)에이엠티코리아', '주식회사 평강비아이엠(B.I.M)', '(주)지엠케이',\n",
       "       '드림특장(주)', '(주)신광테크놀러지', '제이에스이엔지', '(주)용진특장', '(주)엠뱅크', '수성특장(주)',\n",
       "       '(주)세정모터스', '(주)엘위포투', nan, '(주)성진테크', '(주)밴텍캠핑카', '(주) 삼오특장자동차',\n",
       "       '(주) 골드밴', '(주)애드터치', '기아자동차(주)', '해양산업', '씨엔라인', '(주)동해기계항공',\n",
       "       '(주) 오텍', '(주)호룡', '(주)사자후', '(주)무빙애드', '한아에스에스(주)', '주식회사 천하',\n",
       "       '(주)드림티엔에스', '반도특장(주)', '라헬(주)', '동아특장공업사', '녹산대진특장차', '(주) 고호산업',\n",
       "       '에스알(주)', '주식회사 카셈(KASEM Co.,Ltd)', '(주)다산중공업', '(주)에코카',\n",
       "       '주식회사 유아이테크', '세화자동차', '(주)마노', '고려에스티엠(주)', '카올넷', '쌍용자동차(주)',\n",
       "       '자기인증면제차량', '(주)팔도', '(주)한국토미', '(주)포멕특장', '선진정공(주)', '(주)한국쓰리축',\n",
       "       '한국특장기술(주)', '디앨 주식회사', '씨제이대한통운(주)', '(주)한국차체', '건민특장 주식회사',\n",
       "       '(주)화이어텍', '한국쓰리축공업(주)', '정우정공 (주)', '우림특장산업', '탱크코리아(주)', '정부쓰리축',\n",
       "       '부커셰링코리아 (주)', '신정개발특장차 주식회사', '엠에스특장공업(주)', '(주)화성특장',\n",
       "       '(주)한국메리트특장', '(주)케이지비고려골든박스', '한빛테크원(주)', '(주)뉴텍티앤엠', '(주)광림',\n",
       "       '(주)함코', '동양자동차공업(주)', '(주)수산씨에스엠', '(주)우리특장', '(주)에버다임',\n",
       "       '(주)대진정공', '도원자동차공업 (주)', '(주)새한에어서스펜션', '(주) 맥써버모터스', '로쏘엠',\n",
       "       '고려특장(주)', '(주)우양', '제일F.R.P산업', '(주) 에이엠특장', '해광산업사', '코리아특장',\n",
       "       '한국상용트럭(주)', '(주)한성특장', '(주)화인특장', '원진(주)', '신제일정공(주)', '(주)세인이엔지',\n",
       "       '영일특장(주)', '(주)동양특장', '주식회사 한서정공', '(주)삼성특장', '한신특장', '(유)삼능기계',\n",
       "       '(주)방원테크', '신성엔지니어링', '(주)진우에스엠씨', '(주)태경이엔지', '원천특장공업주식회사',\n",
       "       '이텍산업 주식회사', '(주)노바스코리아', '(주)가이젠캠핑카', '(주)부성특장', '(주)나노메딕스',\n",
       "       '(주)수산중공업', '(주) 두성하-드텍', '(주)대양특장', '(주) 강남기공', '(주) 진화이앤씨',\n",
       "       '(주)에이엔디오토모빌', '한국특장 (주)', '대지정공(주)', '삼우중공업(주)', '한국후3축', '베스텍특장',\n",
       "       '(주)우성특장', '주식회사 씨엔에스티', '일성산업', '(주)서보테크', '대경특장(주)', '동아탑정비공업사',\n",
       "       '카고텍코리아(주)', '광림특장차 주식회사', '형제특장 주식회사', '대흥특장정공 (주)', '유비통상(주)',\n",
       "       '계백자동차(주)', '남영코리아화이어트럭(주)', '대한특장', '카써스(주)', '(유)대원오토', '(주)승신',\n",
       "       '(주)미동이엔씨', '(주)뉴테크특장', '대구시소방본부', '(주)알텍', '에프씨에이코리아(주)'],\n",
       "      dtype=object)"
      ]
     },
     "execution_count": 470,
     "metadata": {},
     "output_type": "execute_result"
    }
   ],
   "source": [
    "weird2n['제작사명'].unique()"
   ]
  },
  {
   "cell_type": "code",
   "execution_count": 471,
   "metadata": {},
   "outputs": [
    {
     "data": {
      "text/html": [
       "<div>\n",
       "<style scoped>\n",
       "    .dataframe tbody tr th:only-of-type {\n",
       "        vertical-align: middle;\n",
       "    }\n",
       "\n",
       "    .dataframe tbody tr th {\n",
       "        vertical-align: top;\n",
       "    }\n",
       "\n",
       "    .dataframe thead th {\n",
       "        text-align: right;\n",
       "    }\n",
       "</style>\n",
       "<table border=\"1\" class=\"dataframe\">\n",
       "  <thead>\n",
       "    <tr style=\"text-align: right;\">\n",
       "      <th></th>\n",
       "      <th>배출가스인증번호</th>\n",
       "      <th>배인번호_수정</th>\n",
       "      <th>제원관리번호</th>\n",
       "      <th>자동차형식</th>\n",
       "      <th>엔진형식_x</th>\n",
       "      <th>차명_x</th>\n",
       "    </tr>\n",
       "  </thead>\n",
       "  <tbody>\n",
       "    <tr>\n",
       "      <th>4711</th>\n",
       "      <td>7MY-DK-24-04</td>\n",
       "      <td>7MY-DK-24-04</td>\n",
       "      <td>00220003500014305</td>\n",
       "      <td>1844LS</td>\n",
       "      <td>OM501LA</td>\n",
       "      <td>Actros</td>\n",
       "    </tr>\n",
       "    <tr>\n",
       "      <th>4712</th>\n",
       "      <td>7MY-DK-24-04</td>\n",
       "      <td>7MY-DK-24-04</td>\n",
       "      <td>00220003500014305</td>\n",
       "      <td>1844LS</td>\n",
       "      <td>OM501LA</td>\n",
       "      <td>Actros</td>\n",
       "    </tr>\n",
       "    <tr>\n",
       "      <th>4713</th>\n",
       "      <td>7MY-DK-24-04</td>\n",
       "      <td>7MY-DK-24-04</td>\n",
       "      <td>00220003500014305</td>\n",
       "      <td>1844LS</td>\n",
       "      <td>OM501LA</td>\n",
       "      <td>Actros</td>\n",
       "    </tr>\n",
       "  </tbody>\n",
       "</table>\n",
       "</div>"
      ],
      "text/plain": [
       "          배출가스인증번호       배인번호_수정             제원관리번호   자동차형식   엔진형식_x    차명_x\n",
       "4711  7MY-DK-24-04  7MY-DK-24-04  00220003500014305  1844LS  OM501LA  Actros\n",
       "4712  7MY-DK-24-04  7MY-DK-24-04  00220003500014305  1844LS  OM501LA  Actros\n",
       "4713  7MY-DK-24-04  7MY-DK-24-04  00220003500014305  1844LS  OM501LA  Actros"
      ]
     },
     "execution_count": 471,
     "metadata": {},
     "output_type": "execute_result"
    }
   ],
   "source": [
    "weird2n.loc[weird2n['제작사명'] == '에프씨에이코리아(주)', ['배출가스인증번호', '배인번호_수정', '제원관리번호', '자동차형식', col_engine_form, col_car_name]]"
   ]
  },
  {
   "cell_type": "code",
   "execution_count": 472,
   "metadata": {},
   "outputs": [
    {
     "data": {
      "text/html": [
       "<div>\n",
       "<style scoped>\n",
       "    .dataframe tbody tr th:only-of-type {\n",
       "        vertical-align: middle;\n",
       "    }\n",
       "\n",
       "    .dataframe tbody tr th {\n",
       "        vertical-align: top;\n",
       "    }\n",
       "\n",
       "    .dataframe thead th {\n",
       "        text-align: right;\n",
       "    }\n",
       "</style>\n",
       "<table border=\"1\" class=\"dataframe\">\n",
       "  <thead>\n",
       "    <tr style=\"text-align: right;\">\n",
       "      <th></th>\n",
       "      <th>배출가스인증번호</th>\n",
       "      <th>배인번호_수정</th>\n",
       "      <th>제원관리번호</th>\n",
       "      <th>자동차형식</th>\n",
       "      <th>엔진형식_x</th>\n",
       "      <th>차명_x</th>\n",
       "    </tr>\n",
       "  </thead>\n",
       "  <tbody>\n",
       "    <tr>\n",
       "      <th>218</th>\n",
       "      <td>7MY-HD-14-68</td>\n",
       "      <td>7MY-HD-14-68</td>\n",
       "      <td>A0110003121643212</td>\n",
       "      <td>PUL6BD-L9-LFT</td>\n",
       "      <td>D4CB</td>\n",
       "      <td>봉고Ⅲ 활어수송차</td>\n",
       "    </tr>\n",
       "  </tbody>\n",
       "</table>\n",
       "</div>"
      ],
      "text/plain": [
       "         배출가스인증번호       배인번호_수정             제원관리번호          자동차형식 엔진형식_x  \\\n",
       "218  7MY-HD-14-68  7MY-HD-14-68  A0110003121643212  PUL6BD-L9-LFT   D4CB   \n",
       "\n",
       "          차명_x  \n",
       "218  봉고Ⅲ 활어수송차  "
      ]
     },
     "execution_count": 472,
     "metadata": {},
     "output_type": "execute_result"
    }
   ],
   "source": [
    "weird2n.loc[weird2n['제작사명'] == '기아자동차(주)', ['배출가스인증번호', '배인번호_수정', '제원관리번호', '자동차형식', col_engine_form, col_car_name]]"
   ]
  },
  {
   "attachments": {},
   "cell_type": "markdown",
   "metadata": {},
   "source": [
    "# [병합] 처리한 데이터 병합\n",
    "- norm, error, nad1y, nad2y, nad2n, weird1y, weird2y, weird2n\n",
    "\n",
    "- 파일 처리 과정\n",
    "    - nad\n",
    "        - nad1y\n",
    "        - nad1n\n",
    "            - nad2y\n",
    "            - nad2n\n",
    "                - nad3y\n",
    "                - nad3n\n",
    "    - weird\n",
    "        - weird1y\n",
    "        - weird1n\n",
    "            - weird2y\n",
    "            - weird2n"
   ]
  },
  {
   "cell_type": "code",
   "execution_count": 473,
   "metadata": {},
   "outputs": [
    {
     "data": {
      "text/plain": [
       "(1153813, 70)"
      ]
     },
     "execution_count": 473,
     "metadata": {},
     "output_type": "execute_result"
    }
   ],
   "source": [
    "df = pd.concat([norm, error, nad1y, nad2y, nad3y, nad3n, weird1y, weird2y, weird2n], ignore_index=True)\n",
    "df.shape"
   ]
  },
  {
   "cell_type": "code",
   "execution_count": 474,
   "metadata": {},
   "outputs": [
    {
     "data": {
      "text/plain": [
       "Index(['차대번호', '차량번호_x', '제원관리번호', '차종_원본', '용도', '최초등록일', '연식', '제작일자',\n",
       "       '검사유효일', '배출가스인증번호', '등급', '차명_x', '차종분류', '차종유형', '자동차형식', '제작사명',\n",
       "       '연료', '엔진형식_x', '총중량', '적재중량', '엔진출력', '배기량', '법정동코드', '시도명', '시군구명',\n",
       "       '소유자구분', '말소여부', '일치유무', '사용연료', '주행거리', '차명_y', '차량번호_y', '차종', '차량연식',\n",
       "       '엔진형식_y', '검사방법', '검사일자', '검사종류', '검사판정시각', '검사판정', '산소값', '이산화탄소값',\n",
       "       '무부하매연판정1', '무부하매연판정2', '무부하매연판정3', '무부하매연판정4', '무부하매연판정5', '무부하매연판정6',\n",
       "       '무부하매연허용치1', '무부하매연허용치2', '무부하매연허용치3', '무부하매연허용치4', '무부하매연허용치5',\n",
       "       '무부하매연허용치6', '무부하매연측정치1', '무부하매연측정치2', '무부하매연측정치3', '무부하매연측정치4',\n",
       "       '무부하매연측정치5', '무부하매연측정치6', '정기정밀', 'vin10', 'vin_year', 'DPF유무',\n",
       "       '배인번호_수정', '등급_수정', 'DPF유무_수정', '확인유무', '비고', '배인번호_수정_확인'],\n",
       "      dtype='object')"
      ]
     },
     "execution_count": 474,
     "metadata": {},
     "output_type": "execute_result"
    }
   ],
   "source": [
    "df.columns"
   ]
  },
  {
   "attachments": {},
   "cell_type": "markdown",
   "metadata": {},
   "source": [
    "## [출력] 처리된 병합 파일"
   ]
  },
  {
   "cell_type": "code",
   "execution_count": 475,
   "metadata": {},
   "outputs": [
    {
     "data": {
      "text/plain": [
       "'D:/data/big2/BD1_4등급_데이터_점검1/result_emis_update2'"
      ]
     },
     "execution_count": 475,
     "metadata": {},
     "output_type": "execute_result"
    }
   ],
   "source": [
    "fold"
   ]
  },
  {
   "cell_type": "code",
   "execution_count": 476,
   "metadata": {},
   "outputs": [],
   "source": [
    "# # about 33s\n",
    "# df.to_csv(os.path.join(fold, f'4등급_차량_리스트_양식_result_처리_{today_date}.csv'), index=False, encoding='cp949')"
   ]
  },
  {
   "cell_type": "code",
   "execution_count": 477,
   "metadata": {},
   "outputs": [],
   "source": [
    "submit_df = df[['차대번호', '차량번호_x', '제원관리번호', '차종_원본', '용도', '최초등록일', '연식', '제작일자', '검사유효일', '배출가스인증번호', '등급', '차명_x', '차종분류', '차종유형', '자동차형식', '제작사명', '연료', '엔진형식_x', '총중량', '적재중량', '엔진출력', '배기량', '법정동코드', '시도명', '시군구명', '소유자구분', '말소여부', '일치유무', '배인번호_수정', '등급_수정', 'DPF유무_수정']]\n",
    "submit_df = submit_df.rename(columns={'차량번호_x':'차량번호', '차명_x':'차명', '엔진형식_x':'엔진형식'})"
   ]
  },
  {
   "cell_type": "code",
   "execution_count": 478,
   "metadata": {},
   "outputs": [
    {
     "data": {
      "text/plain": [
       "'2023.03.17_PM_05.03.23'"
      ]
     },
     "execution_count": 478,
     "metadata": {},
     "output_type": "execute_result"
    }
   ],
   "source": [
    "today_date = datetime.today().strftime(\"%Y.%m.%d_%p_%I.%M.%S\")\n",
    "today_date"
   ]
  },
  {
   "cell_type": "code",
   "execution_count": 479,
   "metadata": {},
   "outputs": [],
   "source": [
    "# about 33s\n",
    "submit_df.to_csv(os.path.join(submit_fold, f'제출_4등급_차량_리스트_양식_result_처리_{today_date}.csv'), index=False, encoding='cp949')"
   ]
  },
  {
   "cell_type": "code",
   "execution_count": 480,
   "metadata": {},
   "outputs": [],
   "source": [
    "# about 17s\n",
    "submit_df.iloc[:500000].to_csv(os.path.join(submit_fold, f'제출_4등급_차량_리스트_양식_result_처리1_{today_date}.csv'), index=False, encoding='cp949')\n",
    "submit_df.iloc[500000:].to_csv(os.path.join(submit_fold, f'제출_4등급_차량_리스트_양식_result_처리2_{today_date}.csv'), index=False, encoding='cp949')"
   ]
  },
  {
   "attachments": {},
   "cell_type": "markdown",
   "metadata": {},
   "source": [
    "# 샘플 출력"
   ]
  },
  {
   "attachments": {},
   "cell_type": "markdown",
   "metadata": {},
   "source": [
    "## 조건1"
   ]
  },
  {
   "attachments": {},
   "cell_type": "markdown",
   "metadata": {},
   "source": [
    "### 3, 5 등급으로 등급 변경 차량\n",
    "- 정상(norm)"
   ]
  },
  {
   "cell_type": "code",
   "execution_count": 182,
   "metadata": {},
   "outputs": [
    {
     "data": {
      "text/plain": [
       "Index(['차대번호', '차량번호_x', '제원관리번호', '차종_원본', '용도', '최초등록일', '연식', '제작일자',\n",
       "       '검사유효일', '배출가스인증번호', '등급', '차명_x', '차종분류', '차종유형', '자동차형식', '제작사명',\n",
       "       '연료', '엔진형식_x', '총중량', '적재중량', '엔진출력', '배기량', '법정동코드', '시도명', '시군구명',\n",
       "       '소유자구분', '말소여부', '일치유무', '사용연료', '주행거리', '차명_y', '차량번호_y', '차종', '차량연식',\n",
       "       '엔진형식_y', '검사방법', '검사일자', '검사종류', '검사판정시각', '검사판정', '산소값', '이산화탄소값',\n",
       "       '무부하매연판정1', '무부하매연판정2', '무부하매연판정3', '무부하매연판정4', '무부하매연판정5', '무부하매연판정6',\n",
       "       '무부하매연허용치1', '무부하매연허용치2', '무부하매연허용치3', '무부하매연허용치4', '무부하매연허용치5',\n",
       "       '무부하매연허용치6', '무부하매연측정치1', '무부하매연측정치2', '무부하매연측정치3', '무부하매연측정치4',\n",
       "       '무부하매연측정치5', '무부하매연측정치6', '정기정밀', 'vin10', 'vin_year', 'DPF유무',\n",
       "       '배인번호_수정', '등급_수정', 'DPF유무_수정', '확인유무', '비고'],\n",
       "      dtype='object')"
      ]
     },
     "execution_count": 182,
     "metadata": {},
     "output_type": "execute_result"
    }
   ],
   "source": [
    "norm.columns"
   ]
  },
  {
   "cell_type": "code",
   "execution_count": 183,
   "metadata": {},
   "outputs": [
    {
     "data": {
      "text/plain": [
       "(83, 69)"
      ]
     },
     "execution_count": 183,
     "metadata": {},
     "output_type": "execute_result"
    }
   ],
   "source": [
    "norm[(norm['배출가스인증번호'] == '8MY-KM-13-19') & ( (norm['등급_수정'] == \"5\") | (norm['등급_수정'] == \"3\") )].shape"
   ]
  },
  {
   "cell_type": "code",
   "execution_count": 184,
   "metadata": {},
   "outputs": [
    {
     "data": {
      "text/plain": [
       "(4479, 69)"
      ]
     },
     "execution_count": 184,
     "metadata": {},
     "output_type": "execute_result"
    }
   ],
   "source": [
    "grade_chaneged = norm.loc[(norm['등급_수정'] == '3') | (norm['등급_수정'] == '5')]\n",
    "grade_chaneged.shape"
   ]
  },
  {
   "cell_type": "code",
   "execution_count": 185,
   "metadata": {},
   "outputs": [
    {
     "data": {
      "text/plain": [
       "Index(['차대번호', '차량번호_x', '제원관리번호', '차종_원본', '용도', '최초등록일', '연식', '제작일자',\n",
       "       '검사유효일', '배출가스인증번호', '등급', '차명_x', '차종분류', '차종유형', '자동차형식', '제작사명',\n",
       "       '연료', '엔진형식_x', '총중량', '적재중량', '엔진출력', '배기량', '법정동코드', '시도명', '시군구명',\n",
       "       '소유자구분', '말소여부', '일치유무', '사용연료', '주행거리', '차명_y', '차량번호_y', '차종', '차량연식',\n",
       "       '엔진형식_y', '검사방법', '검사일자', '검사종류', '검사판정시각', '검사판정', '산소값', '이산화탄소값',\n",
       "       '무부하매연판정1', '무부하매연판정2', '무부하매연판정3', '무부하매연판정4', '무부하매연판정5', '무부하매연판정6',\n",
       "       '무부하매연허용치1', '무부하매연허용치2', '무부하매연허용치3', '무부하매연허용치4', '무부하매연허용치5',\n",
       "       '무부하매연허용치6', '무부하매연측정치1', '무부하매연측정치2', '무부하매연측정치3', '무부하매연측정치4',\n",
       "       '무부하매연측정치5', '무부하매연측정치6', '정기정밀', 'vin10', 'vin_year', 'DPF유무',\n",
       "       '배인번호_수정', '등급_수정', 'DPF유무_수정', '확인유무', '비고'],\n",
       "      dtype='object')"
      ]
     },
     "execution_count": 185,
     "metadata": {},
     "output_type": "execute_result"
    }
   ],
   "source": [
    "grade_chaneged.columns"
   ]
  },
  {
   "attachments": {},
   "cell_type": "markdown",
   "metadata": {},
   "source": [
    "#### [출력] 3, 5 등급 변경 차량"
   ]
  },
  {
   "cell_type": "code",
   "execution_count": 186,
   "metadata": {},
   "outputs": [
    {
     "data": {
      "text/plain": [
       "'2023.03.17_AM_09.24.46'"
      ]
     },
     "execution_count": 186,
     "metadata": {},
     "output_type": "execute_result"
    }
   ],
   "source": [
    "today_date = datetime.today().strftime(\"%Y.%m.%d_%p_%I.%M.%S\")\n",
    "today_date"
   ]
  },
  {
   "cell_type": "code",
   "execution_count": 187,
   "metadata": {},
   "outputs": [],
   "source": [
    "# grade_chaneged.to_csv(os.path.join(total_norm_fold, f'3,5등급변경차량_{today_date}.csv'), index=False, encoding='cp949')"
   ]
  },
  {
   "cell_type": "code",
   "execution_count": 243,
   "metadata": {},
   "outputs": [],
   "source": [
    "submit_grade_chaneged = grade_chaneged[['차대번호', '차량번호_x', '제원관리번호', '차종_원본', '용도', '최초등록일', '연식', '제작일자',\n",
    "       '검사유효일', '배출가스인증번호', '배인번호_수정', '등급', '등급_수정', '차명_x', '차종분류', '차종유형', '자동차형식', '제작사명',\n",
    "       '연료', '엔진형식_x', '총중량', '적재중량', '엔진출력', '배기량', '법정동코드', '시도명', '시군구명',\n",
    "       '소유자구분', '말소여부', '일치유무']]\n",
    "submit_grade_chaneged = submit_grade_chaneged.rename(columns={'차량번호_x':'차량번호', '차명_x':'차명', '엔진형식_x':'엔진형식'})\n",
    "\n",
    "# about 33s\n",
    "submit_grade_chaneged.to_csv(os.path.join(submit_fold, f'제출_3,5등급변경차량_{today_date}.csv'), index=False, encoding='cp949')"
   ]
  },
  {
   "attachments": {},
   "cell_type": "markdown",
   "metadata": {},
   "source": [
    "### 배인번호 변경된 차량\n",
    "- 정상(norm)\n",
    "- 미부여(nad) : nad1y, nad2y, nad3y, nad3n\n",
    "- 제작사이상(weird) : weird1y, weird2y, weird2n"
   ]
  },
  {
   "cell_type": "code",
   "execution_count": 248,
   "metadata": {},
   "outputs": [
    {
     "data": {
      "text/plain": [
       "(127823, 69)"
      ]
     },
     "execution_count": 248,
     "metadata": {},
     "output_type": "execute_result"
    }
   ],
   "source": [
    "norm_ch = norm.loc[norm['배출가스인증번호'] != norm['배인번호_수정']]\n",
    "norm_ch.shape"
   ]
  },
  {
   "cell_type": "code",
   "execution_count": 249,
   "metadata": {},
   "outputs": [
    {
     "data": {
      "text/plain": [
       "((6294, 69), (139, 69), (87, 69), (630, 69), (132, 69), (14, 69))"
      ]
     },
     "execution_count": 249,
     "metadata": {},
     "output_type": "execute_result"
    }
   ],
   "source": [
    "nad1y.shape, nad2y.shape, nad3y.shape, weird1y.shape, weird2y.shape"
   ]
  },
  {
   "cell_type": "code",
   "execution_count": 251,
   "metadata": {},
   "outputs": [
    {
     "data": {
      "text/plain": [
       "134489"
      ]
     },
     "execution_count": 251,
     "metadata": {},
     "output_type": "execute_result"
    }
   ],
   "source": [
    "norm_ch.shape[0] + nad1y.shape[0] + nad2y.shape[0] + nad3y.shape[0] + weird1y.shape[0] + weird2y.shape[0]"
   ]
  },
  {
   "cell_type": "code",
   "execution_count": 252,
   "metadata": {},
   "outputs": [
    {
     "data": {
      "text/plain": [
       "(134489, 69)"
      ]
     },
     "execution_count": 252,
     "metadata": {},
     "output_type": "execute_result"
    }
   ],
   "source": [
    "emis_ch = pd.concat([norm_ch, nad1y, nad2y, nad3y, weird1y, weird2y], ignore_index=True)\n",
    "emis_ch.shape"
   ]
  },
  {
   "cell_type": "code",
   "execution_count": 253,
   "metadata": {},
   "outputs": [
    {
     "data": {
      "text/plain": [
       "Index(['차대번호', '차량번호_x', '제원관리번호', '차종_원본', '용도', '최초등록일', '연식', '제작일자',\n",
       "       '검사유효일', '배출가스인증번호', '등급', '차명_x', '차종분류', '차종유형', '자동차형식', '제작사명',\n",
       "       '연료', '엔진형식_x', '총중량', '적재중량', '엔진출력', '배기량', '법정동코드', '시도명', '시군구명',\n",
       "       '소유자구분', '말소여부', '일치유무', '사용연료', '주행거리', '차명_y', '차량번호_y', '차종', '차량연식',\n",
       "       '엔진형식_y', '검사방법', '검사일자', '검사종류', '검사판정시각', '검사판정', '산소값', '이산화탄소값',\n",
       "       '무부하매연판정1', '무부하매연판정2', '무부하매연판정3', '무부하매연판정4', '무부하매연판정5', '무부하매연판정6',\n",
       "       '무부하매연허용치1', '무부하매연허용치2', '무부하매연허용치3', '무부하매연허용치4', '무부하매연허용치5',\n",
       "       '무부하매연허용치6', '무부하매연측정치1', '무부하매연측정치2', '무부하매연측정치3', '무부하매연측정치4',\n",
       "       '무부하매연측정치5', '무부하매연측정치6', '정기정밀', 'vin10', 'vin_year', 'DPF유무',\n",
       "       '배인번호_수정', '등급_수정', 'DPF유무_수정', '확인유무', '비고'],\n",
       "      dtype='object')"
      ]
     },
     "execution_count": 253,
     "metadata": {},
     "output_type": "execute_result"
    }
   ],
   "source": [
    "emis_ch.columns"
   ]
  },
  {
   "attachments": {},
   "cell_type": "markdown",
   "metadata": {},
   "source": [
    "#### [출력] 배인번호 변경된 차량"
   ]
  },
  {
   "cell_type": "code",
   "execution_count": 254,
   "metadata": {},
   "outputs": [
    {
     "data": {
      "text/plain": [
       "'2023.03.17_PM_12.43.21'"
      ]
     },
     "execution_count": 254,
     "metadata": {},
     "output_type": "execute_result"
    }
   ],
   "source": [
    "today_date = datetime.today().strftime(\"%Y.%m.%d_%p_%I.%M.%S\")\n",
    "today_date"
   ]
  },
  {
   "cell_type": "code",
   "execution_count": 255,
   "metadata": {},
   "outputs": [],
   "source": [
    "# emis_ch.to_csv(os.path.join(total_norm_fold, f'배인번호_변경된_차량_{today_date}.csv'), index=False, encoding='cp949')"
   ]
  },
  {
   "cell_type": "code",
   "execution_count": 256,
   "metadata": {},
   "outputs": [],
   "source": [
    "submit_emis_ch = emis_ch[['차대번호', '차량번호_x', '제원관리번호', '차종_원본', '용도', '최초등록일', '연식', '제작일자',\n",
    "       '검사유효일', '배출가스인증번호', '배인번호_수정', '등급', '등급_수정', '차명_x', '차종분류', '차종유형', '자동차형식', '제작사명',\n",
    "       '연료', '엔진형식_x', '총중량', '적재중량', '엔진출력', '배기량', '법정동코드', '시도명', '시군구명',\n",
    "       '소유자구분', '말소여부', '일치유무']]\n",
    "submit_emis_ch = submit_emis_ch.rename(columns={'차량번호_x':'차량번호', '차명_x':'차명', '엔진형식_x':'엔진형식'})\n",
    "\n",
    "submit_emis_ch.to_csv(os.path.join(submit_fold, f'제출_배인번호_변경된_차량_{today_date}.csv'), index=False, encoding='cp949')"
   ]
  },
  {
   "attachments": {},
   "cell_type": "markdown",
   "metadata": {},
   "source": [
    "### 나머지 차량\n",
    "- 비정상(error)\n",
    "- 제작사이상(weird) : weird2n\n",
    "- 미부여(nad) : nad2n"
   ]
  },
  {
   "cell_type": "code",
   "execution_count": 258,
   "metadata": {},
   "outputs": [
    {
     "data": {
      "text/plain": [
       "((1309, 69), (4716, 69), (630, 69))"
      ]
     },
     "execution_count": 258,
     "metadata": {},
     "output_type": "execute_result"
    }
   ],
   "source": [
    "error.shape, weird2n.shape, nad3n.shape"
   ]
  },
  {
   "cell_type": "code",
   "execution_count": 259,
   "metadata": {},
   "outputs": [
    {
     "data": {
      "text/plain": [
       "(6655, 69)"
      ]
     },
     "execution_count": 259,
     "metadata": {},
     "output_type": "execute_result"
    }
   ],
   "source": [
    "rest = pd.concat([error, weird2n, nad3n], ignore_index=True)\n",
    "rest.shape"
   ]
  },
  {
   "cell_type": "code",
   "execution_count": 260,
   "metadata": {},
   "outputs": [
    {
     "data": {
      "text/plain": [
       "Index(['차대번호', '차량번호_x', '제원관리번호', '차종_원본', '용도', '최초등록일', '연식', '제작일자',\n",
       "       '검사유효일', '배출가스인증번호', '등급', '차명_x', '차종분류', '차종유형', '자동차형식', '제작사명',\n",
       "       '연료', '엔진형식_x', '총중량', '적재중량', '엔진출력', '배기량', '법정동코드', '시도명', '시군구명',\n",
       "       '소유자구분', '말소여부', '일치유무', '사용연료', '주행거리', '차명_y', '차량번호_y', '차종', '차량연식',\n",
       "       '엔진형식_y', '검사방법', '검사일자', '검사종류', '검사판정시각', '검사판정', '산소값', '이산화탄소값',\n",
       "       '무부하매연판정1', '무부하매연판정2', '무부하매연판정3', '무부하매연판정4', '무부하매연판정5', '무부하매연판정6',\n",
       "       '무부하매연허용치1', '무부하매연허용치2', '무부하매연허용치3', '무부하매연허용치4', '무부하매연허용치5',\n",
       "       '무부하매연허용치6', '무부하매연측정치1', '무부하매연측정치2', '무부하매연측정치3', '무부하매연측정치4',\n",
       "       '무부하매연측정치5', '무부하매연측정치6', '정기정밀', 'vin10', 'vin_year', 'DPF유무',\n",
       "       '배인번호_수정', '등급_수정', 'DPF유무_수정', '확인유무', '비고'],\n",
       "      dtype='object')"
      ]
     },
     "execution_count": 260,
     "metadata": {},
     "output_type": "execute_result"
    }
   ],
   "source": [
    "rest.columns"
   ]
  },
  {
   "attachments": {},
   "cell_type": "markdown",
   "metadata": {},
   "source": [
    "#### [출력] 나머지 차량"
   ]
  },
  {
   "cell_type": "code",
   "execution_count": 261,
   "metadata": {},
   "outputs": [
    {
     "data": {
      "text/plain": [
       "'2023.03.17_PM_12.44.25'"
      ]
     },
     "execution_count": 261,
     "metadata": {},
     "output_type": "execute_result"
    }
   ],
   "source": [
    "today_date = datetime.today().strftime(\"%Y.%m.%d_%p_%I.%M.%S\")\n",
    "today_date"
   ]
  },
  {
   "cell_type": "code",
   "execution_count": 262,
   "metadata": {},
   "outputs": [],
   "source": [
    "# rest.to_csv(os.path.join(total_norm_fold, f'나머지_미부여_비정상_제작사이상_차량_{today_date}.csv'), index=False, encoding='cp949')"
   ]
  },
  {
   "cell_type": "code",
   "execution_count": 263,
   "metadata": {},
   "outputs": [],
   "source": [
    "submit_rest = rest[['차대번호', '차량번호_x', '제원관리번호', '차종_원본', '용도', '최초등록일', '연식', '제작일자',\n",
    "       '검사유효일', '배출가스인증번호', '배인번호_수정', '등급', '등급_수정', '차명_x', '차종분류', '차종유형', '자동차형식', '제작사명',\n",
    "       '연료', '엔진형식_x', '총중량', '적재중량', '엔진출력', '배기량', '법정동코드', '시도명', '시군구명',\n",
    "       '소유자구분', '말소여부', '일치유무']]\n",
    "submit_rest = submit_rest.rename(columns={'차량번호_x':'차량번호', '차명_x':'차명', '엔진형식_x':'엔진형식'})\n",
    "\n",
    "submit_rest.to_csv(os.path.join(submit_fold, f'제출_나머지_미부여_비정상_제작사이상_차량_{today_date}.csv'), index=False, encoding='cp949')"
   ]
  },
  {
   "attachments": {},
   "cell_type": "markdown",
   "metadata": {},
   "source": [
    "### 최종 차량 수 확인"
   ]
  },
  {
   "cell_type": "code",
   "execution_count": 264,
   "metadata": {},
   "outputs": [
    {
     "data": {
      "text/plain": [
       "1153813"
      ]
     },
     "execution_count": 264,
     "metadata": {},
     "output_type": "execute_result"
    }
   ],
   "source": [
    "norm.loc[norm['배출가스인증번호'] == norm['배인번호_수정']].shape[0] + emis_ch.shape[0] + rest.shape[0]"
   ]
  },
  {
   "attachments": {},
   "cell_type": "markdown",
   "metadata": {},
   "source": [
    "## 조건2"
   ]
  },
  {
   "attachments": {},
   "cell_type": "markdown",
   "metadata": {},
   "source": [
    "### 제작사 확인 불가\n",
    "- 1201 개"
   ]
  },
  {
   "cell_type": "code",
   "execution_count": 265,
   "metadata": {},
   "outputs": [
    {
     "data": {
      "text/plain": [
       "(1201, 69)"
      ]
     },
     "execution_count": 265,
     "metadata": {},
     "output_type": "execute_result"
    }
   ],
   "source": [
    "norm.loc[norm['배인번호_수정'] == '제작사확인불가'].shape"
   ]
  },
  {
   "cell_type": "code",
   "execution_count": 266,
   "metadata": {},
   "outputs": [
    {
     "data": {
      "text/plain": [
       "Index(['차대번호', '차량번호_x', '제원관리번호', '차종_원본', '용도', '최초등록일', '연식', '제작일자',\n",
       "       '검사유효일', '배출가스인증번호', '등급', '차명_x', '차종분류', '차종유형', '자동차형식', '제작사명',\n",
       "       '연료', '엔진형식_x', '총중량', '적재중량', '엔진출력', '배기량', '법정동코드', '시도명', '시군구명',\n",
       "       '소유자구분', '말소여부', '일치유무', '사용연료', '주행거리', '차명_y', '차량번호_y', '차종', '차량연식',\n",
       "       '엔진형식_y', '검사방법', '검사일자', '검사종류', '검사판정시각', '검사판정', '산소값', '이산화탄소값',\n",
       "       '무부하매연판정1', '무부하매연판정2', '무부하매연판정3', '무부하매연판정4', '무부하매연판정5', '무부하매연판정6',\n",
       "       '무부하매연허용치1', '무부하매연허용치2', '무부하매연허용치3', '무부하매연허용치4', '무부하매연허용치5',\n",
       "       '무부하매연허용치6', '무부하매연측정치1', '무부하매연측정치2', '무부하매연측정치3', '무부하매연측정치4',\n",
       "       '무부하매연측정치5', '무부하매연측정치6', '정기정밀', 'vin10', 'vin_year', 'DPF유무',\n",
       "       '배인번호_수정', '등급_수정', 'DPF유무_수정', '확인유무', '비고'],\n",
       "      dtype='object')"
      ]
     },
     "execution_count": 266,
     "metadata": {},
     "output_type": "execute_result"
    }
   ],
   "source": [
    "not_confirm_product = norm.loc[norm['배인번호_수정'] == '제작사확인불가']\n",
    "not_confirm_product.columns"
   ]
  },
  {
   "cell_type": "code",
   "execution_count": 267,
   "metadata": {},
   "outputs": [
    {
     "data": {
      "text/plain": [
       "'2023.03.17_PM_12.44.43'"
      ]
     },
     "execution_count": 267,
     "metadata": {},
     "output_type": "execute_result"
    }
   ],
   "source": [
    "today_date = datetime.today().strftime(\"%Y.%m.%d_%p_%I.%M.%S\")\n",
    "today_date"
   ]
  },
  {
   "cell_type": "code",
   "execution_count": 268,
   "metadata": {},
   "outputs": [],
   "source": [
    "# norm.loc[norm['배인번호_수정'] == '제작사확인불가'].to_csv(os.path.join(total_norm_fold, f'제작사확인불가_{today_date}.csv'), index=False, encoding='cp949')"
   ]
  },
  {
   "cell_type": "code",
   "execution_count": 269,
   "metadata": {},
   "outputs": [],
   "source": [
    "submit_not_confirm_product = not_confirm_product[['차대번호', '차량번호_x', '제원관리번호', '차종_원본', '용도', '최초등록일', '연식', '제작일자',\n",
    "       '검사유효일', '배출가스인증번호', '배인번호_수정', '등급', '등급_수정', '차명_x', '차종분류', '차종유형', '자동차형식', '제작사명',\n",
    "       '연료', '엔진형식_x', '총중량', '적재중량', '엔진출력', '배기량', '법정동코드', '시도명', '시군구명',\n",
    "       '소유자구분', '말소여부', '일치유무']]\n",
    "submit_not_confirm_product = submit_not_confirm_product.rename(columns={'차량번호_x':'차량번호', '차명_x':'차명', '엔진형식_x':'엔진형식'})\n",
    "\n",
    "submit_not_confirm_product.to_csv(os.path.join(submit_fold, f'제출_제작사확인불가_{today_date}.csv'), index=False, encoding='cp949')"
   ]
  },
  {
   "attachments": {},
   "cell_type": "markdown",
   "metadata": {},
   "source": [
    "### 배출가스 인증번호의 제작사 미매칭\n",
    "- 4,862"
   ]
  },
  {
   "cell_type": "code",
   "execution_count": 270,
   "metadata": {},
   "outputs": [
    {
     "data": {
      "text/plain": [
       "(4862, 69)"
      ]
     },
     "execution_count": 270,
     "metadata": {},
     "output_type": "execute_result"
    }
   ],
   "source": [
    "mod_weird = pd.concat([weird1y, weird2y, weird2n], ignore_index=True)\n",
    "mod_weird.shape"
   ]
  },
  {
   "cell_type": "code",
   "execution_count": 271,
   "metadata": {},
   "outputs": [
    {
     "data": {
      "text/plain": [
       "'2023.03.17_PM_12.44.53'"
      ]
     },
     "execution_count": 271,
     "metadata": {},
     "output_type": "execute_result"
    }
   ],
   "source": [
    "today_date = datetime.today().strftime(\"%Y.%m.%d_%p_%I.%M.%S\")\n",
    "today_date"
   ]
  },
  {
   "cell_type": "code",
   "execution_count": 272,
   "metadata": {},
   "outputs": [],
   "source": [
    "# mod_weird.to_csv(os.path.join(total_weird_fold, f'배출가스_인증번호의_제작사_미매칭_{today_date}.csv'), index=False, encoding='cp949')"
   ]
  },
  {
   "cell_type": "code",
   "execution_count": 273,
   "metadata": {},
   "outputs": [],
   "source": [
    "submit_mod_weird = mod_weird[['차대번호', '차량번호_x', '제원관리번호', '차종_원본', '용도', '최초등록일', '연식', '제작일자',\n",
    "       '검사유효일', '배출가스인증번호', '배인번호_수정', '등급', '등급_수정', '차명_x', '차종분류', '차종유형', '자동차형식', '제작사명',\n",
    "       '연료', '엔진형식_x', '총중량', '적재중량', '엔진출력', '배기량', '법정동코드', '시도명', '시군구명',\n",
    "       '소유자구분', '말소여부', '일치유무']]\n",
    "submit_mod_weird = submit_mod_weird.rename(columns={'차량번호_x':'차량번호', '차명_x':'차명', '엔진형식_x':'엔진형식'})\n",
    "\n",
    "submit_mod_weird.to_csv(os.path.join(submit_fold, f'제출_배출가스_인증번호의_제작사_미매칭_{today_date}.csv'), index=False, encoding='cp949')"
   ]
  },
  {
   "attachments": {},
   "cell_type": "markdown",
   "metadata": {},
   "source": [
    "### 배출가스 인증번호 미기입 차량\n",
    "- 7,150"
   ]
  },
  {
   "cell_type": "code",
   "execution_count": 274,
   "metadata": {},
   "outputs": [
    {
     "data": {
      "text/plain": [
       "(7150, 69)"
      ]
     },
     "execution_count": 274,
     "metadata": {},
     "output_type": "execute_result"
    }
   ],
   "source": [
    "mod_nad = pd.concat([nad1y, nad2y, nad3y, nad3n], ignore_index=True)\n",
    "mod_nad.shape"
   ]
  },
  {
   "cell_type": "code",
   "execution_count": 275,
   "metadata": {},
   "outputs": [
    {
     "data": {
      "text/plain": [
       "'2023.03.17_PM_12.45.01'"
      ]
     },
     "execution_count": 275,
     "metadata": {},
     "output_type": "execute_result"
    }
   ],
   "source": [
    "today_date = datetime.today().strftime(\"%Y.%m.%d_%p_%I.%M.%S\")\n",
    "today_date"
   ]
  },
  {
   "cell_type": "code",
   "execution_count": 276,
   "metadata": {},
   "outputs": [],
   "source": [
    "# mod_nad.to_csv(os.path.join(total_nan_fold, f'미기입차량_수정_{today_date}.csv'), index=False, encoding='cp949')"
   ]
  },
  {
   "cell_type": "code",
   "execution_count": 277,
   "metadata": {},
   "outputs": [],
   "source": [
    "submit_mod_nad = mod_nad[['차대번호', '차량번호_x', '제원관리번호', '차종_원본', '용도', '최초등록일', '연식', '제작일자',\n",
    "       '검사유효일', '배출가스인증번호', '배인번호_수정', '등급', '등급_수정', '차명_x', '차종분류', '차종유형', '자동차형식', '제작사명',\n",
    "       '연료', '엔진형식_x', '총중량', '적재중량', '엔진출력', '배기량', '법정동코드', '시도명', '시군구명',\n",
    "       '소유자구분', '말소여부', '일치유무']]\n",
    "submit_mod_nad = submit_mod_nad.rename(columns={'차량번호_x':'차량번호', '차명_x':'차명', '엔진형식_x':'엔진형식'})\n",
    "\n",
    "submit_mod_nad.to_csv(os.path.join(submit_fold, f'제출_미기입차량_수정_{today_date}.csv'), index=False, encoding='cp949')"
   ]
  },
  {
   "attachments": {},
   "cell_type": "markdown",
   "metadata": {},
   "source": [
    "## 조건3\n",
    "- norm : 1140492\n",
    "- error : 1309\n",
    "- weird1y : 132\n",
    "- weird1n\n",
    "    - weird2y : 14\n",
    "    - weird2n : 4716\n",
    "- nad\n",
    "    - nad1y : 6294\n",
    "    - nad1n\n",
    "        - nad2y : 139\n",
    "        - nad2n\n",
    "            - nad3y : 87\n",
    "            - nad3n : 630"
   ]
  },
  {
   "cell_type": "code",
   "execution_count": 217,
   "metadata": {},
   "outputs": [],
   "source": [
    "# 배인번호 정상 \n",
    "    # total_norm = norm, weird1y, weird2y, nad1y, nad2y, nad3y : 1147158\n",
    "# 배인번호 비정상\n",
    "    # error : 1309\n",
    "# 제작사 이상\n",
    "    # weird2n : 4716\n",
    "# 미부여\n",
    "    # nad3n : 630\n",
    "\n",
    "# 총 : 1153813"
   ]
  },
  {
   "attachments": {},
   "cell_type": "markdown",
   "metadata": {},
   "source": [
    "### 정상"
   ]
  },
  {
   "cell_type": "code",
   "execution_count": 218,
   "metadata": {},
   "outputs": [
    {
     "data": {
      "text/plain": [
       "(1147158, 69)"
      ]
     },
     "execution_count": 218,
     "metadata": {},
     "output_type": "execute_result"
    }
   ],
   "source": [
    "total_norm = pd.concat([norm, weird1y, weird2y, nad1y, nad2y, nad3y], ignore_index=True)\n",
    "total_norm.shape"
   ]
  },
  {
   "cell_type": "code",
   "execution_count": 219,
   "metadata": {},
   "outputs": [
    {
     "data": {
      "text/plain": [
       "'2023.03.17_AM_09.30.14'"
      ]
     },
     "execution_count": 219,
     "metadata": {},
     "output_type": "execute_result"
    }
   ],
   "source": [
    "today_date = datetime.today().strftime(\"%Y.%m.%d_%p_%I.%M.%S\")\n",
    "today_date"
   ]
  },
  {
   "cell_type": "code",
   "execution_count": 220,
   "metadata": {},
   "outputs": [],
   "source": [
    "# total_norm.to_csv(os.path.join(total_norm_fold, 'total_norm.csv'), index=False, encoding='cp949')"
   ]
  },
  {
   "cell_type": "code",
   "execution_count": 237,
   "metadata": {},
   "outputs": [],
   "source": [
    "submit_total_norm = total_norm[['차대번호', '차량번호_x', '제원관리번호', '차종_원본', '용도', '최초등록일', '연식', '제작일자',\n",
    "       '검사유효일', '배출가스인증번호', '배인번호_수정', '등급', '등급_수정', '차명_x', '차종분류', '차종유형', '자동차형식', '제작사명',\n",
    "       '연료', '엔진형식_x', '총중량', '적재중량', '엔진출력', '배기량', '법정동코드', '시도명', '시군구명',\n",
    "       '소유자구분', '말소여부', '일치유무']]\n",
    "submit_total_norm = submit_total_norm.rename(columns={'차량번호_x':'차량번호', '차명_x':'차명', '엔진형식_x':'엔진형식'})\n",
    "\n",
    "submit_total_norm.to_csv(os.path.join(submit_fold, f'total_norm_{today_date}.csv'), index=False, encoding='cp949')"
   ]
  },
  {
   "attachments": {},
   "cell_type": "markdown",
   "metadata": {},
   "source": [
    "### 비정상"
   ]
  },
  {
   "cell_type": "code",
   "execution_count": 222,
   "metadata": {},
   "outputs": [
    {
     "data": {
      "text/plain": [
       "(1309, 69)"
      ]
     },
     "execution_count": 222,
     "metadata": {},
     "output_type": "execute_result"
    }
   ],
   "source": [
    "error.shape"
   ]
  },
  {
   "cell_type": "code",
   "execution_count": null,
   "metadata": {},
   "outputs": [],
   "source": [
    "today_date = datetime.today().strftime(\"%Y.%m.%d_%p_%I.%M.%S\")\n",
    "today_date"
   ]
  },
  {
   "cell_type": "code",
   "execution_count": 236,
   "metadata": {},
   "outputs": [],
   "source": [
    "submit_error = error[['차대번호', '차량번호_x', '제원관리번호', '차종_원본', '용도', '최초등록일', '연식', '제작일자',\n",
    "       '검사유효일', '배출가스인증번호', '배인번호_수정', '등급', '등급_수정', '차명_x', '차종분류', '차종유형', '자동차형식', '제작사명',\n",
    "       '연료', '엔진형식_x', '총중량', '적재중량', '엔진출력', '배기량', '법정동코드', '시도명', '시군구명',\n",
    "       '소유자구분', '말소여부', '일치유무']]\n",
    "submit_error = submit_error.rename(columns={'차량번호_x':'차량번호', '차명_x':'차명', '엔진형식_x':'엔진형식'})\n",
    "\n",
    "submit_error.to_csv(os.path.join(submit_fold, f'error_{today_date}.csv'), index=False, encoding='cp949')"
   ]
  },
  {
   "attachments": {},
   "cell_type": "markdown",
   "metadata": {},
   "source": [
    "### 제작사 이상"
   ]
  },
  {
   "cell_type": "code",
   "execution_count": 224,
   "metadata": {},
   "outputs": [
    {
     "data": {
      "text/plain": [
       "(4716, 69)"
      ]
     },
     "execution_count": 224,
     "metadata": {},
     "output_type": "execute_result"
    }
   ],
   "source": [
    "weird2n.shape"
   ]
  },
  {
   "cell_type": "code",
   "execution_count": null,
   "metadata": {},
   "outputs": [],
   "source": [
    "today_date = datetime.today().strftime(\"%Y.%m.%d_%p_%I.%M.%S\")\n",
    "today_date"
   ]
  },
  {
   "cell_type": "code",
   "execution_count": 235,
   "metadata": {},
   "outputs": [],
   "source": [
    "submit_weird2n = weird2n[['차대번호', '차량번호_x', '제원관리번호', '차종_원본', '용도', '최초등록일', '연식', '제작일자',\n",
    "       '검사유효일', '배출가스인증번호', '배인번호_수정', '등급', '등급_수정', '차명_x', '차종분류', '차종유형', '자동차형식', '제작사명',\n",
    "       '연료', '엔진형식_x', '총중량', '적재중량', '엔진출력', '배기량', '법정동코드', '시도명', '시군구명',\n",
    "       '소유자구분', '말소여부', '일치유무']]\n",
    "submit_weird2n = submit_weird2n.rename(columns={'차량번호_x':'차량번호', '차명_x':'차명', '엔진형식_x':'엔진형식'})\n",
    "\n",
    "submit_weird2n.to_csv(os.path.join(submit_fold, f'weird2n_{today_date}.csv'), index=False, encoding='cp949')"
   ]
  },
  {
   "attachments": {},
   "cell_type": "markdown",
   "metadata": {},
   "source": [
    "### 미부여"
   ]
  },
  {
   "cell_type": "code",
   "execution_count": 226,
   "metadata": {},
   "outputs": [
    {
     "data": {
      "text/plain": [
       "(630, 69)"
      ]
     },
     "execution_count": 226,
     "metadata": {},
     "output_type": "execute_result"
    }
   ],
   "source": [
    "nad3n.shape"
   ]
  },
  {
   "cell_type": "code",
   "execution_count": null,
   "metadata": {},
   "outputs": [],
   "source": [
    "today_date = datetime.today().strftime(\"%Y.%m.%d_%p_%I.%M.%S\")\n",
    "today_date"
   ]
  },
  {
   "cell_type": "code",
   "execution_count": 234,
   "metadata": {},
   "outputs": [],
   "source": [
    "submit_nad3n = nad3n[['차대번호', '차량번호_x', '제원관리번호', '차종_원본', '용도', '최초등록일', '연식', '제작일자',\n",
    "       '검사유효일', '배출가스인증번호', '배인번호_수정', '등급', '등급_수정', '차명_x', '차종분류', '차종유형', '자동차형식', '제작사명',\n",
    "       '연료', '엔진형식_x', '총중량', '적재중량', '엔진출력', '배기량', '법정동코드', '시도명', '시군구명',\n",
    "       '소유자구분', '말소여부', '일치유무']]\n",
    "submit_nad3n = submit_nad3n.rename(columns={'차량번호_x':'차량번호', '차명_x':'차명', '엔진형식_x':'엔진형식'})\n",
    "\n",
    "submit_nad3n.to_csv(os.path.join(submit_fold, f'nad3n_{today_date}.csv'), index=False, encoding='cp949')"
   ]
  },
  {
   "attachments": {},
   "cell_type": "markdown",
   "metadata": {},
   "source": [
    "### 제작사 이상 변경사항 포함"
   ]
  },
  {
   "cell_type": "code",
   "execution_count": 228,
   "metadata": {},
   "outputs": [
    {
     "data": {
      "text/plain": [
       "(4862, 69)"
      ]
     },
     "execution_count": 228,
     "metadata": {},
     "output_type": "execute_result"
    }
   ],
   "source": [
    "mod_merge_weird = pd.concat([weird1y, weird2y, weird2n], ignore_index=True)\n",
    "mod_merge_weird.shape"
   ]
  },
  {
   "cell_type": "code",
   "execution_count": null,
   "metadata": {},
   "outputs": [],
   "source": [
    "today_date = datetime.today().strftime(\"%Y.%m.%d_%p_%I.%M.%S\")\n",
    "today_date"
   ]
  },
  {
   "cell_type": "code",
   "execution_count": 244,
   "metadata": {},
   "outputs": [],
   "source": [
    "submit_mod_merge_weird = mod_merge_weird[['차대번호', '차량번호_x', '제원관리번호', '차종_원본', '용도', '최초등록일', '연식', '제작일자', '검사유효일', '배출가스인증번호', '배인번호_수정', '등급', '등급_수정', '차명_x', '차종분류', '차종유형', '자동차형식', '제작사명', '연료', '엔진형식_x', '총중량', '적재중량', '엔진출력', '배기량', '법정동코드', '시도명', '시군구명', '소유자구분', '말소여부', '일치유무']]\n",
    "submit_mod_merge_weird = submit_mod_merge_weird.rename(columns={'차량번호_x':'차량번호', '차명_x':'차명', '엔진형식_x':'엔진형식'})\n",
    "\n",
    "submit_mod_merge_weird.to_csv(os.path.join(submit_fold, f'mod_merge_weird_{today_date}.csv'), index=False, encoding='cp949')"
   ]
  },
  {
   "cell_type": "code",
   "execution_count": 246,
   "metadata": {},
   "outputs": [
    {
     "data": {
      "text/plain": [
       "7MY-DK-14-5     124\n",
       "5MY-HB-14-1       8\n",
       "7MY-SM-14-36      2\n",
       "7MY-HD-24-09      2\n",
       "6MY-BK-13-08      2\n",
       "7MY-KM-14-63      2\n",
       "7MY-HD-14-46      1\n",
       "6MY-KM-24-06      1\n",
       "7MY-HD-24-29      1\n",
       "7MY-MK-14-04      1\n",
       "7MY-HD-24-28      1\n",
       "FMY-VTK-14-1      1\n",
       "Name: 배인번호_수정, dtype: int64"
      ]
     },
     "execution_count": 246,
     "metadata": {},
     "output_type": "execute_result"
    }
   ],
   "source": [
    "mod_merge_weird['배인번호_수정'].value_counts(dropna=True)"
   ]
  },
  {
   "attachments": {},
   "cell_type": "markdown",
   "metadata": {},
   "source": [
    "### 미부여 변경사항 포함"
   ]
  },
  {
   "cell_type": "code",
   "execution_count": 230,
   "metadata": {},
   "outputs": [
    {
     "data": {
      "text/plain": [
       "(7150, 69)"
      ]
     },
     "execution_count": 230,
     "metadata": {},
     "output_type": "execute_result"
    }
   ],
   "source": [
    "mod_merge_nad = pd.concat([nad1y, nad2y, nad3y, nad3n], ignore_index=True)\n",
    "mod_merge_nad.shape"
   ]
  },
  {
   "cell_type": "code",
   "execution_count": null,
   "metadata": {},
   "outputs": [],
   "source": [
    "today_date = datetime.today().strftime(\"%Y.%m.%d_%p_%I.%M.%S\")\n",
    "today_date"
   ]
  },
  {
   "cell_type": "code",
   "execution_count": 245,
   "metadata": {},
   "outputs": [],
   "source": [
    "submit_mod_merge_nad = mod_merge_nad[['차대번호', '차량번호_x', '제원관리번호', '차종_원본', '용도', '최초등록일', '연식', '제작일자', '검사유효일', '배출가스인증번호', '배인번호_수정', '등급', '등급_수정', '차명_x', '차종분류', '차종유형', '자동차형식', '제작사명', '연료', '엔진형식_x', '총중량', '적재중량', '엔진출력', '배기량', '법정동코드', '시도명', '시군구명', '소유자구분', '말소여부', '일치유무']]\n",
    "submit_mod_merge_nad = submit_mod_merge_nad.rename(columns={'차량번호_x':'차량번호', '차명_x':'차명', '엔진형식_x':'엔진형식'})\n",
    "\n",
    "submit_mod_merge_nad.to_csv(os.path.join(submit_fold, f'mod_merge_nad_{today_date}.csv'), index=False, encoding='cp949')"
   ]
  },
  {
   "cell_type": "code",
   "execution_count": 247,
   "metadata": {},
   "outputs": [
    {
     "data": {
      "text/plain": [
       "5MY-HB-14-1      1669\n",
       "6MY-DK-14-1      1001\n",
       "6MY-PA-14-4       965\n",
       "8MY-HB-14-1       764\n",
       "7MY-DK-14-5       437\n",
       "6MY-DK-14-2       260\n",
       "8MY-DK-14-01      249\n",
       "8MY-PA-14-05      204\n",
       "5MY-HB-14-4       127\n",
       "5MY-PA-14-17      121\n",
       "5MY-PA-14-20       89\n",
       "7MY-PA-14-7        85\n",
       "8MY-PA-14-04       80\n",
       "8MY-DK-14-02       77\n",
       "7MY-DK-14-4        65\n",
       "8MY-FK-14-1        53\n",
       "8MY-PA-14-03       50\n",
       "7MY-PA-13-09       48\n",
       "8MY-FK-14-2        47\n",
       "8MY-DK-14-06       40\n",
       "7MY-PA-14-2        21\n",
       "FMY-VTK-14-1       12\n",
       "5MY-BK-14-07        9\n",
       "3MY-HD-14           8\n",
       "6MY-KM-24-81        6\n",
       "4MY-KM-07           4\n",
       "5MY-KM-24-32        4\n",
       "BMY-HD-14-54        3\n",
       "7MY-HD-24-30        2\n",
       "7MY-DK-14-05        1\n",
       "7MY-PA-13-11        1\n",
       "BMY-KM-14-32        1\n",
       "FMY-VTK-14-2        1\n",
       "4MY-KM-06           1\n",
       "7MY-PA-14-1         1\n",
       "7MY-PA-13-08        1\n",
       "7MY-KM-14-63        1\n",
       "4MY-KM-03           1\n",
       "7MY-VTK-24-01       1\n",
       "8MY-KM-13-19        1\n",
       "7MY-DW-13-07        1\n",
       "6MY-HD-24-44        1\n",
       "7MY-SM-14-36        1\n",
       "6MY-HD-14-63        1\n",
       "5MY-PA-14-18        1\n",
       "4MY-AD-20           1\n",
       "5MY-HB-24-02        1\n",
       "5MY-KM-24-57        1\n",
       "7MY-KM-14-64        1\n",
       "Name: 배인번호_수정, dtype: int64"
      ]
     },
     "execution_count": 247,
     "metadata": {},
     "output_type": "execute_result"
    }
   ],
   "source": [
    "mod_merge_nad['배인번호_수정'].value_counts(dropna=True)"
   ]
  },
  {
   "attachments": {},
   "cell_type": "markdown",
   "metadata": {},
   "source": [
    "## 정상 배인번호별 출력"
   ]
  },
  {
   "cell_type": "code",
   "execution_count": 278,
   "metadata": {},
   "outputs": [
    {
     "data": {
      "text/plain": [
       "(1147158, 69)"
      ]
     },
     "execution_count": 278,
     "metadata": {},
     "output_type": "execute_result"
    }
   ],
   "source": [
    "total_norm.shape"
   ]
  },
  {
   "cell_type": "code",
   "execution_count": 288,
   "metadata": {},
   "outputs": [
    {
     "data": {
      "text/plain": [
       "배출가스인증번호      배인번호_수정     \n",
       "4MY-AD-20     4MY-AD-20        29\n",
       "4MY-DC-33     6MY-DC-23-17      7\n",
       "4MY-PA-06     제작사확인불가          13\n",
       "5MY-AD-13-06  5MY-AD-13-06    348\n",
       "5MY-AD-13-07  5MY-AD-13-07    118\n",
       "                             ... \n",
       "NaN           8MY-PA-14-05    204\n",
       "              BMY-HD-14-54      3\n",
       "              BMY-KM-14-32      1\n",
       "              FMY-VTK-14-1     12\n",
       "              FMY-VTK-14-2      1\n",
       "Name: 차대번호, Length: 223, dtype: int64"
      ]
     },
     "execution_count": 288,
     "metadata": {},
     "output_type": "execute_result"
    }
   ],
   "source": [
    "total_norm.groupby(['배출가스인증번호', '배인번호_수정'], dropna=False)['차대번호'].count()"
   ]
  },
  {
   "cell_type": "code",
   "execution_count": 289,
   "metadata": {},
   "outputs": [],
   "source": [
    "total_norm.groupby(['배출가스인증번호', '배인번호_수정'], dropna=False)['차대번호'].count().to_excel(os.path.join(total_norm_fold, '통계_total_norm.xlsx'))"
   ]
  },
  {
   "attachments": {},
   "cell_type": "markdown",
   "metadata": {},
   "source": [
    "# 분석"
   ]
  },
  {
   "attachments": {},
   "cell_type": "markdown",
   "metadata": {},
   "source": [
    "## 3, 5 등급 변경 차량"
   ]
  },
  {
   "cell_type": "code",
   "execution_count": 481,
   "metadata": {},
   "outputs": [],
   "source": [
    "submit_df['등급_수정'] = submit_df['등급_수정'].astype('str')"
   ]
  },
  {
   "cell_type": "code",
   "execution_count": 482,
   "metadata": {},
   "outputs": [
    {
     "data": {
      "text/plain": [
       "(4378, 32)"
      ]
     },
     "execution_count": 482,
     "metadata": {},
     "output_type": "execute_result"
    }
   ],
   "source": [
    "submit_df.loc[submit_df['등급_수정'] == '3'].shape"
   ]
  },
  {
   "cell_type": "code",
   "execution_count": 483,
   "metadata": {},
   "outputs": [
    {
     "data": {
      "text/plain": [
       "(124, 32)"
      ]
     },
     "execution_count": 483,
     "metadata": {},
     "output_type": "execute_result"
    }
   ],
   "source": [
    "submit_df.loc[submit_df['등급_수정'] == '5'].shape"
   ]
  },
  {
   "attachments": {},
   "cell_type": "markdown",
   "metadata": {},
   "source": [
    "# CODE End"
   ]
  }
 ],
 "metadata": {
  "kernelspec": {
   "display_name": "base",
   "language": "python",
   "name": "python3"
  },
  "language_info": {
   "codemirror_mode": {
    "name": "ipython",
    "version": 3
   },
   "file_extension": ".py",
   "mimetype": "text/x-python",
   "name": "python",
   "nbconvert_exporter": "python",
   "pygments_lexer": "ipython3",
   "version": "3.9.13"
  },
  "orig_nbformat": 4,
  "vscode": {
   "interpreter": {
    "hash": "ad2bdc8ecc057115af97d19610ffacc2b4e99fae6737bb82f5d7fb13d2f2c186"
   }
  }
 },
 "nbformat": 4,
 "nbformat_minor": 2
}
