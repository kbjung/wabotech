{
 "cells": [
  {
   "attachments": {},
   "cell_type": "markdown",
   "metadata": {},
   "source": [
    "# Library"
   ]
  },
  {
   "cell_type": "code",
   "execution_count": 1,
   "metadata": {},
   "outputs": [],
   "source": [
    "import pandas as pd\n",
    "import numpy as np\n",
    "from tqdm import tqdm\n",
    "import os"
   ]
  },
  {
   "attachments": {},
   "cell_type": "markdown",
   "metadata": {},
   "source": [
    "# [Load] 230206_RH_4등급DB세분류_인증번호변경 건_v1.2"
   ]
  },
  {
   "cell_type": "code",
   "execution_count": 2,
   "metadata": {},
   "outputs": [],
   "source": [
    "fold = 'D:/data/big2/4등급_배인번호_재확인'"
   ]
  },
  {
   "cell_type": "code",
   "execution_count": 17,
   "metadata": {},
   "outputs": [],
   "source": [
    "file_name = '4등급DB세분류_인증번호변경 건_2302091522.csv'\n",
    "df = pd.read_csv(os.path.join(fold, file_name), encoding='cp949', low_memory=False)"
   ]
  },
  {
   "cell_type": "code",
   "execution_count": 18,
   "metadata": {},
   "outputs": [
    {
     "name": "stdout",
     "output_type": "stream",
     "text": [
      "<class 'pandas.core.frame.DataFrame'>\n",
      "RangeIndex: 61359 entries, 0 to 61358\n",
      "Data columns (total 32 columns):\n",
      " #   Column     Non-Null Count  Dtype  \n",
      "---  ------     --------------  -----  \n",
      " 0   등급(현재)     61359 non-null  object \n",
      " 1   말소(현재)     61359 non-null  object \n",
      " 2   인증번호(현재)   61359 non-null  object \n",
      " 3   인증(검증)     0 non-null      float64\n",
      " 4   인증번호(변경전)  0 non-null      float64\n",
      " 5   인증번호(변경후)  58995 non-null  object \n",
      " 6   차대번호       61359 non-null  object \n",
      " 7   차량번호       61359 non-null  object \n",
      " 8   제원관리번호     61359 non-null  object \n",
      " 9   차종         61359 non-null  object \n",
      " 10  용도         61359 non-null  object \n",
      " 11  최초등록일      61359 non-null  int64  \n",
      " 12  연식         61359 non-null  int64  \n",
      " 13  제작일자       25275 non-null  float64\n",
      " 14  검사유효일      61358 non-null  float64\n",
      " 15  등급         61359 non-null  object \n",
      " 16  차명         61359 non-null  object \n",
      " 17  차종분류       61359 non-null  object \n",
      " 18  차종유형       61359 non-null  object \n",
      " 19  자동차형식      61352 non-null  object \n",
      " 20  제작사명       60325 non-null  object \n",
      " 21  연료         61359 non-null  object \n",
      " 22  엔진형식       61093 non-null  object \n",
      " 23  총중량        61359 non-null  int64  \n",
      " 24  적재중량       61337 non-null  float64\n",
      " 25  엔진출력       61271 non-null  float64\n",
      " 26  배기량        61359 non-null  int64  \n",
      " 27  법정동코드      61359 non-null  int64  \n",
      " 28  시도명        61359 non-null  object \n",
      " 29  시군구명       61359 non-null  object \n",
      " 30  소유자구분      61359 non-null  object \n",
      " 31  말소여부       61359 non-null  object \n",
      "dtypes: float64(6), int64(5), object(21)\n",
      "memory usage: 15.0+ MB\n"
     ]
    }
   ],
   "source": [
    "df.info()"
   ]
  },
  {
   "cell_type": "code",
   "execution_count": 19,
   "metadata": {},
   "outputs": [
    {
     "data": {
      "text/plain": [
       "Index(['등급(현재)', '말소(현재)', '인증번호(현재)', '인증(검증)', '인증번호(변경전)', '인증번호(변경후)',\n",
       "       '차대번호', '차량번호', '제원관리번호', '차종', '용도', '최초등록일', '연식', '제작일자', '검사유효일',\n",
       "       '등급', '차명', '차종분류', '차종유형', '자동차형식', '제작사명', '연료', '엔진형식', '총중량',\n",
       "       '적재중량', '엔진출력', '배기량', '법정동코드', '시도명', '시군구명', '소유자구분', '말소여부'],\n",
       "      dtype='object')"
      ]
     },
     "execution_count": 19,
     "metadata": {},
     "output_type": "execute_result"
    }
   ],
   "source": [
    "df.columns"
   ]
  },
  {
   "attachments": {},
   "cell_type": "markdown",
   "metadata": {},
   "source": [
    "# Check data"
   ]
  },
  {
   "attachments": {},
   "cell_type": "markdown",
   "metadata": {},
   "source": [
    "## 기초"
   ]
  },
  {
   "cell_type": "code",
   "execution_count": 20,
   "metadata": {},
   "outputs": [
    {
     "data": {
      "text/plain": [
       "등급(현재)           0\n",
       "말소(현재)           0\n",
       "인증번호(현재)         0\n",
       "인증(검증)       61359\n",
       "인증번호(변경전)    61359\n",
       "인증번호(변경후)     2364\n",
       "차대번호             0\n",
       "차량번호             0\n",
       "제원관리번호           0\n",
       "차종               0\n",
       "용도               0\n",
       "최초등록일            0\n",
       "연식               0\n",
       "제작일자         36084\n",
       "검사유효일            1\n",
       "등급               0\n",
       "차명               0\n",
       "차종분류             0\n",
       "차종유형             0\n",
       "자동차형식            7\n",
       "제작사명          1034\n",
       "연료               0\n",
       "엔진형식           266\n",
       "총중량              0\n",
       "적재중량            22\n",
       "엔진출력            88\n",
       "배기량              0\n",
       "법정동코드            0\n",
       "시도명              0\n",
       "시군구명             0\n",
       "소유자구분            0\n",
       "말소여부             0\n",
       "dtype: int64"
      ]
     },
     "execution_count": 20,
     "metadata": {},
     "output_type": "execute_result"
    }
   ],
   "source": [
    "df.isnull().sum()"
   ]
  },
  {
   "cell_type": "code",
   "execution_count": 21,
   "metadata": {},
   "outputs": [
    {
     "data": {
      "text/plain": [
       "4     60658\n",
       "5       677\n",
       "T4       12\n",
       "3        12\n",
       "Name: 등급(현재), dtype: int64"
      ]
     },
     "execution_count": 21,
     "metadata": {},
     "output_type": "execute_result"
    }
   ],
   "source": [
    "df['등급(현재)'].value_counts(dropna=False)"
   ]
  },
  {
   "cell_type": "code",
   "execution_count": 22,
   "metadata": {},
   "outputs": [
    {
     "data": {
      "text/plain": [
       "4     60658\n",
       "5       676\n",
       "T4       13\n",
       "3        12\n",
       "Name: 등급, dtype: int64"
      ]
     },
     "execution_count": 22,
     "metadata": {},
     "output_type": "execute_result"
    }
   ],
   "source": [
    "df['등급'].value_counts(dropna=False)"
   ]
  },
  {
   "cell_type": "code",
   "execution_count": 23,
   "metadata": {},
   "outputs": [
    {
     "data": {
      "text/plain": [
       "N    59295\n",
       "Y     2064\n",
       "Name: 말소(현재), dtype: int64"
      ]
     },
     "execution_count": 23,
     "metadata": {},
     "output_type": "execute_result"
    }
   ],
   "source": [
    "df['말소(현재)'].value_counts(dropna=False)"
   ]
  },
  {
   "cell_type": "code",
   "execution_count": 24,
   "metadata": {},
   "outputs": [
    {
     "data": {
      "text/plain": [
       "N    61359\n",
       "Name: 말소여부, dtype: int64"
      ]
     },
     "execution_count": 24,
     "metadata": {},
     "output_type": "execute_result"
    }
   ],
   "source": [
    "df['말소여부'].value_counts(dropna=False)"
   ]
  },
  {
   "attachments": {},
   "cell_type": "markdown",
   "metadata": {},
   "source": [
    "## 5등급 배인번호 데이터"
   ]
  },
  {
   "cell_type": "code",
   "execution_count": 25,
   "metadata": {},
   "outputs": [
    {
     "data": {
      "text/plain": [
       "(677, 32)"
      ]
     },
     "execution_count": 25,
     "metadata": {},
     "output_type": "execute_result"
    }
   ],
   "source": [
    "g5 = df[df['등급(현재)'] == '5']\n",
    "g5.shape"
   ]
  },
  {
   "cell_type": "code",
   "execution_count": 26,
   "metadata": {},
   "outputs": [
    {
     "data": {
      "text/plain": [
       "array(['2MY-DW-04', '6MY-SS-0M-24', '5MY-HD-24-39', '5MY-KM-24-32',\n",
       "       '9MY-KM-14-41', '5MY-SY-24-48', '7MY-DB-24-44'], dtype=object)"
      ]
     },
     "execution_count": 26,
     "metadata": {},
     "output_type": "execute_result"
    }
   ],
   "source": [
    "g5['인증번호(현재)'].unique()"
   ]
  },
  {
   "attachments": {},
   "cell_type": "markdown",
   "metadata": {},
   "source": [
    "### [로드] 5등급 등록&제원정보(말소제거)"
   ]
  },
  {
   "cell_type": "code",
   "execution_count": 15,
   "metadata": {},
   "outputs": [],
   "source": [
    "ods_fold = 'D:/data/big2/ODS'"
   ]
  },
  {
   "cell_type": "code",
   "execution_count": 16,
   "metadata": {},
   "outputs": [
    {
     "data": {
      "text/plain": [
       "(1154762, 49)"
      ]
     },
     "execution_count": 16,
     "metadata": {},
     "output_type": "execute_result"
    }
   ],
   "source": [
    "# about \n",
    "file_name = '[ODS][G5]등록정보&제원정보(말소제거)(2022.12.29).csv'\n",
    "info = pd.read_csv(os.path.join(ods_fold, file_name), encoding='cp949', low_memory=False)\n",
    "info.shape"
   ]
  },
  {
   "cell_type": "code",
   "execution_count": 33,
   "metadata": {},
   "outputs": [
    {
     "data": {
      "text/plain": [
       "Index(['차량관리번호', '차량등록번호', '본거지법정동코드', '소유자구분', '차종_등록정보', '용도', '현재회원번호',\n",
       "       '차대번호', '최초등록일자', '차량연식', '차량제작일자', '배출가스검사유효일자', '제원관리번호', '배출가스인증번호',\n",
       "       '배출가스등급', '저공해조치YN(미사용)', '저공해조치종류', '저공해조치구조변경YN', '차량등록번호숫자정보',\n",
       "       '차량말소YN', '최초회원번호', '취득일자', '취득금액', '생성일시_등록정보', '수정일시_등록정보', '차명',\n",
       "       '차종_제원정보', '차종분류', '차종유형(소분류)', '자동차형식', '제작사명', '연료', '엔진형식', '공차중량',\n",
       "       '총중량', '적재중량', '엔진출력', '배기량', '승차인원', '차량길이', '차량너비', '차량높이', '원산지명',\n",
       "       '삭제YN', '승인일자', '구동형식', '변속기종류', '생성일시_제원정보', '수정일시_제원정보'],\n",
       "      dtype='object')"
      ]
     },
     "execution_count": 33,
     "metadata": {},
     "output_type": "execute_result"
    }
   ],
   "source": [
    "info.columns"
   ]
  },
  {
   "cell_type": "code",
   "execution_count": 28,
   "metadata": {},
   "outputs": [
    {
     "name": "stderr",
     "output_type": "stream",
     "text": [
      "100%|██████████| 7/7 [00:41<00:00,  5.95s/it]\n"
     ]
    }
   ],
   "source": [
    "# about 42s\n",
    "for one in tqdm(g5['인증번호(현재)'].unique()):\n",
    "    with pd.ExcelWriter(f'C:/Users/kbjung/Documents/GitHub/wabotech/car_big_data_2/analysis2/4등급_데이터_점검/recheck/{one}.xlsx') as writer:\n",
    "        temp = info[info['배출가스인증번호'] == one].reset_index(drop=True)\n",
    "        temp.to_excel(writer, index=False)"
   ]
  },
  {
   "cell_type": "code",
   "execution_count": 29,
   "metadata": {},
   "outputs": [
    {
     "data": {
      "text/plain": [
       "array(['현대자동차(주)', '거화', nan, '지엠코리아(주)', '기아자동차(주)', '지엠아시아퍼시픽지역본부 주식회사',\n",
       "       '새한자동차', '대호무역', '**기타**', '쌍용자동차(주)', '자기인증면제차량', '한국토요타자동차(주)',\n",
       "       '비엠더블유코리아(주)', 'GM', '포드세일즈서비스코리아(유)', '대우자동차(주)', '한국지엠주식회사',\n",
       "       '(주)미래하이텍', '신진자동차', '아시아자동차공업(주)', 'TOYOTA', '-', 'BENZ',\n",
       "       '한성자동차(주)', '동아자동차', '후소특장(주)', '남도수입', '메르세데스벤츠코리아(주)', '(주)기아정기',\n",
       "       '혼다코리아(주)', '에프씨에이코리아(주)', '볼보', 'MITSUBISHI', 'BMW AG', 'FORD',\n",
       "       '한국상용차(주)', '광림특장차(주)', '스카니아', '다임러크라이슬러(주)', '대우중공업(주)',\n",
       "       '세화통운(주)', '타타대우상용차(주)', '자동차수입판매업', '포르쉐', '서울차량공업(주)', '현대정공(주)',\n",
       "       '남영자동차공업(주)', '폭스바겐', 'SOFA차량', '로젠바워', '금양기전', '극동유화(주) 고진모터 임포츠',\n",
       "       '(주)수산특장', '삼성중공업', '현대', 'General Trailers France S.A.',\n",
       "       '지피모터스(주)', '삼성상용차(주)', '신정개발', '한국특장(주)', '경기특장개발(주)',\n",
       "       '두성기계공업(주)', '(주)한빛특장', '설봉강업(주)', '삼일자동차(주)', '(주)우리특장',\n",
       "       '다임폴라특장(주)', '덕산특장기공사', '신흥공업(주)', '(주)한성에코넷', '서울차체공업(주)', '볼보트럭',\n",
       "       '(주)한원모터스', '대흥중공업(주)', '도요다', '랜드로버', '해글런드비히클', '스폐셜리티비히클',\n",
       "       '부커구이어', '나비스타인터내셔날', '아우디', '(주)KAB', '플라이트라이너', '도쿄모터스',\n",
       "       'Chance Coach Inc', '닛산', 'ISUZU', 'FIAT', 'MAN', '하코-베르케',\n",
       "       '(주)한익스프레스', '크라이슬러', '준인터내셔날', '로버', 'Freightliner', 'SCHMITZ',\n",
       "       '(주) 오텍', '스카니아코리아그룹(주)', '(주)볼보자동차코리아', '볼보트럭코리아(주)',\n",
       "       '자일대우상용차 주식회사', '디앨 주식회사', '세원엔지니어링(주)', '수성특장(주)', '한국디지텍',\n",
       "       '(주) 한성에코넷', '(주)광림', '국제특장(주)', '대지정공(주)', '동우특장기공사',\n",
       "       '부커셰링코리아 (주)', '(주) 삼오특장자동차', '주식회사 유아이테크', '고려특장(주)', '정우정공 (주)',\n",
       "       '(주) 케이.에이.비', '(주) 세종특장기계', '주식회사 한서정공', '한국특장 (주)', '(주) 에스비에스',\n",
       "       '(주) 금강특장기계', '한빛테크원(주)', '(주) 신호', '신정개발특장차 주식회사', '(주)한국토미',\n",
       "       '건교부 수원국도유지건설사무소', '평화특장', '(주)중부특장', '호성특장(주)', '메디벤 (주)',\n",
       "       '(주)성진테크', '원천특장공업주식회사', '(주)신광테크놀러지', '도원자동차공업 (주)', '(주)수산씨에스엠',\n",
       "       '(주) 모터테크', '속초시청', '(주) 현진', '(주)태경', '(주) 에스아이테코', '(주) 동진정공',\n",
       "       '(주) 세한테크', '동양자동차공업(주)', '한국특장기술(주)', '이텍산업 주식회사', '반도특장(주)',\n",
       "       '(주) 모터뱅크', '(주)화이어텍', '(주)알텍', '(주)케이엔티티', '(주) 미래특장',\n",
       "       '주식회사 평강비아이엠(B.I.M)', '(주) 두성하-드텍', '대경특장(주)', '(주)수산중공업',\n",
       "       '광운자동차(주)', '(주)애드터치', '(주)세정모터스', '가나공항산업(주)', '녹산대진특장차',\n",
       "       '만트럭버스코리아(주)', '(주) 스타코', '베스텍모터 (주)', '(주) 대진에스티씨', '한북특장(주)',\n",
       "       '대흥운수', '선인관리 (주)', '(주) 강남기공', '유비통상(주)', '(주) 덕산특장차', '(주) 코스만',\n",
       "       '삼진정공', '동아특장공업사', '코리아특장(주)', '이베코', '(주) 진일엠브이씨', '대양중공업(주)',\n",
       "       '(주)뉴텍티앤엠', '(주)밴텍캠핑카', '호성자동차(주)', '(주) 닛시산업', '(주) 굿위크앤드',\n",
       "       '아산에스제이(주)', '우림특장산업', '(주)멜로즈모터스', '(주) 에이유엑스디자인', '신흥정공(주)',\n",
       "       '(주)대원에이이', '(주)호룡', '(주) 성보테크니칼', '비엠특장(주)', '(주)동문기업',\n",
       "       '(주)동해기계항공', '(주)세인이엔지', '(주)샤프', '동진', '(주) 진화이앤씨', '(주)화인특장',\n",
       "       '신영특장차(주)', '삼일특장기업사', '(주) 티더블유에프에스', '(주)가이젠캠핑카', '(주) 맥써버모터스',\n",
       "       '(주)나노메딕스', '흥국정공 (주)', '(주)한국쓰리축', '(주) 두성특장차', '(주) 골드밴',\n",
       "       '(주)크린텍', '씨제이대한통운(주)', '동우인더스(주)', '드림 트레이드', '(주)삼이텍',\n",
       "       '탱크코리아(주)', '아우디폭스바겐코리아(주)', '(주)뉴테크특장', '(주)아진산업기술', '진미모터스',\n",
       "       '(주)대양특장', '(주)테미테크', '(주)동도특장차', '수정인터내셔날', '(주) 고호산업',\n",
       "       '대흥특장정공 (주)', '(주)프로텍아시아', '진우기계', '(주)디엠이엔지', '한불모터스(주)',\n",
       "       '카고텍코리아(주)', '(주)오토크래프트코리아', '고려에스티엠(주)', '주식회사 카셈(KASEM Co.,Ltd)',\n",
       "       '(주)대성무역', '통진특장공업(주)', '(주)라이모자동차판매', '(주)에코카', '(주) 메인모터스',\n",
       "       '(주)코윈', '(주)딜죤', '우성중공업', '(주)씨제이테크', '(주)한국메리트특장', '(주)엘앰비코리아',\n",
       "       '한특사료차', '대구산업', '(주)노바스코리아', '창림모아츠(주)', '유창에스테크(주)', '충청특장계량공사',\n",
       "       '(주)파이어스', '(주) 우신테크', '(주)에버다임', '로드앤스피드', '(주)지엠케이', '세종S.E.M',\n",
       "       '대한특장', '인천국제공항공사', '에렉스서비스(주)', '(주)둥지엔터프라이즈', '한국차체(주)', '해강(주)',\n",
       "       '일성산업', '(주)코닉세그코리아', '한국방송공사', '(주)포멕특장', '(주)방원테크', '한신특장',\n",
       "       '길우상사(주)', '(주)화성특장', '(주)함코', '(주)이건', '(주)태경이엔지', '(주)성우모터스',\n",
       "       '서광교역', '한국도로공사', '한국쓰리축공업(주)', '(주)엘위포투', '동아탑정비공업사', '신아특장',\n",
       "       '(주)모터엠', '(주) 에이엠특장', '건민특장 주식회사', '대한예수교장로회평강제일교회', '에프스카이',\n",
       "       '한국텍(주)', '(주)우성특장', '(주)에이엔디오토모빌', '(주)서보테크', '(주)새한에어서스펜션',\n",
       "       '정부쓰리축', '영일특장(주)', '(주)삼성특장', '(주)한국특장기술', '나인특장자동차정비(주)',\n",
       "       '(주)가가설비', '(주)드림티엔에스', '(주)상전정공', '동진특장', '베스텍특장', '신영특장엠엔씨(주)',\n",
       "       '(주)마노', '디와이(주) 익산공장', '(주)디투에스', '삼우중공업(주)', '부커셰링코리아(주)',\n",
       "       '(주)문화방송', '주식회사 천하', '(주)위더스지', '동일석유(주)', '대동안전(주)', '(주)동양특장',\n",
       "       '경기도소방재난본부', '(주)사자후', '(주)한성티앤아이', '해광산업사', '코리아특장', '(유)삼능기계',\n",
       "       '네오플란오토모빌코리아(주)', '대실종합건설(주)', '세종특장차', '(주)진성모바일', '(주)한국차체',\n",
       "       '(주)우양', '태극자동차공업사', '우진자동차(주)', '(주)다산중공업', '라헬(주)', '더유니코오토(주)',\n",
       "       '신성엔지니어링', '한성특장', '(주)무빙애드', '(주)글로벌오디피', '대창발전차', '(주)피지오자동차',\n",
       "       '수누카', '오토씨앤티', '(유)삼신기업', '제너럴트레이딩', '현대삼호중공업(주)',\n",
       "       'L.AUTOTECH INTERNATIONAL', '태흥', '김영일', '(주)창조노블레스',\n",
       "       '유-파트(U-PARTS)', '이재호', '플러스원', '수원모터스', '(주)에치케이알인터내셔날',\n",
       "       'IGNITION (이그니션)', '(주)신필름예술센타', '라인호(주)', '대보공업(주)', '대광특장정비',\n",
       "       '강선봉', '대양상사', '(주)피엘제이(P.L.J)'], dtype=object)"
      ]
     },
     "execution_count": 29,
     "metadata": {},
     "output_type": "execute_result"
    }
   ],
   "source": [
    "info['제작사명'].unique()"
   ]
  },
  {
   "cell_type": "code",
   "execution_count": 36,
   "metadata": {},
   "outputs": [
    {
     "data": {
      "text/html": [
       "<div>\n",
       "<style scoped>\n",
       "    .dataframe tbody tr th:only-of-type {\n",
       "        vertical-align: middle;\n",
       "    }\n",
       "\n",
       "    .dataframe tbody tr th {\n",
       "        vertical-align: top;\n",
       "    }\n",
       "\n",
       "    .dataframe thead th {\n",
       "        text-align: right;\n",
       "    }\n",
       "</style>\n",
       "<table border=\"1\" class=\"dataframe\">\n",
       "  <thead>\n",
       "    <tr style=\"text-align: right;\">\n",
       "      <th></th>\n",
       "      <th>배출가스인증번호</th>\n",
       "      <th>차량연식</th>\n",
       "      <th>차명</th>\n",
       "      <th>자동차형식</th>\n",
       "      <th>엔진형식</th>\n",
       "    </tr>\n",
       "  </thead>\n",
       "  <tbody>\n",
       "    <tr>\n",
       "      <th>542345</th>\n",
       "      <td>3MY-DB-06</td>\n",
       "      <td>2003</td>\n",
       "      <td>BH120</td>\n",
       "      <td>BH120-E4</td>\n",
       "      <td>DV15TIS</td>\n",
       "    </tr>\n",
       "    <tr>\n",
       "      <th>545739</th>\n",
       "      <td>3MY-DB-06</td>\n",
       "      <td>2003</td>\n",
       "      <td>BH120</td>\n",
       "      <td>BH120-E2</td>\n",
       "      <td>DV15TIS</td>\n",
       "    </tr>\n",
       "    <tr>\n",
       "      <th>547469</th>\n",
       "      <td>3MY-DB-06</td>\n",
       "      <td>2003</td>\n",
       "      <td>BH120</td>\n",
       "      <td>BH120-E2</td>\n",
       "      <td>DV15TIS</td>\n",
       "    </tr>\n",
       "    <tr>\n",
       "      <th>548849</th>\n",
       "      <td>3MY-DB-06</td>\n",
       "      <td>2003</td>\n",
       "      <td>BH120</td>\n",
       "      <td>BH120-E2</td>\n",
       "      <td>DV15TIS</td>\n",
       "    </tr>\n",
       "    <tr>\n",
       "      <th>549414</th>\n",
       "      <td>3MY-DB-06</td>\n",
       "      <td>2003</td>\n",
       "      <td>BH120</td>\n",
       "      <td>BH120-E27</td>\n",
       "      <td>DV15TIS</td>\n",
       "    </tr>\n",
       "    <tr>\n",
       "      <th>...</th>\n",
       "      <td>...</td>\n",
       "      <td>...</td>\n",
       "      <td>...</td>\n",
       "      <td>...</td>\n",
       "      <td>...</td>\n",
       "    </tr>\n",
       "    <tr>\n",
       "      <th>1121159</th>\n",
       "      <td>4MY-DB-03</td>\n",
       "      <td>2007</td>\n",
       "      <td>BH120</td>\n",
       "      <td>BH120-GP7R4S332S</td>\n",
       "      <td>DV11</td>\n",
       "    </tr>\n",
       "    <tr>\n",
       "      <th>1123524</th>\n",
       "      <td>4MY-DB-03</td>\n",
       "      <td>2007</td>\n",
       "      <td>BH120</td>\n",
       "      <td>BH120-GP7R4S412S</td>\n",
       "      <td>DV11</td>\n",
       "    </tr>\n",
       "    <tr>\n",
       "      <th>1125590</th>\n",
       "      <td>4MY-DB-03</td>\n",
       "      <td>2007</td>\n",
       "      <td>BH120</td>\n",
       "      <td>BH120-GP7R4S452S</td>\n",
       "      <td>DV11</td>\n",
       "    </tr>\n",
       "    <tr>\n",
       "      <th>1152674</th>\n",
       "      <td>4MY-DB-03</td>\n",
       "      <td>2007</td>\n",
       "      <td>BH120</td>\n",
       "      <td>BH120-GP7R4S452S</td>\n",
       "      <td>DV11</td>\n",
       "    </tr>\n",
       "    <tr>\n",
       "      <th>1152705</th>\n",
       "      <td>4MY-DB-03</td>\n",
       "      <td>2007</td>\n",
       "      <td>BH120</td>\n",
       "      <td>BH120-GP7R3S452S</td>\n",
       "      <td>DV11</td>\n",
       "    </tr>\n",
       "  </tbody>\n",
       "</table>\n",
       "<p>146 rows × 5 columns</p>\n",
       "</div>"
      ],
      "text/plain": [
       "          배출가스인증번호  차량연식     차명             자동차형식     엔진형식\n",
       "542345   3MY-DB-06  2003  BH120          BH120-E4  DV15TIS\n",
       "545739   3MY-DB-06  2003  BH120          BH120-E2  DV15TIS\n",
       "547469   3MY-DB-06  2003  BH120          BH120-E2  DV15TIS\n",
       "548849   3MY-DB-06  2003  BH120          BH120-E2  DV15TIS\n",
       "549414   3MY-DB-06  2003  BH120         BH120-E27  DV15TIS\n",
       "...            ...   ...    ...               ...      ...\n",
       "1121159  4MY-DB-03  2007  BH120  BH120-GP7R4S332S     DV11\n",
       "1123524  4MY-DB-03  2007  BH120  BH120-GP7R4S412S     DV11\n",
       "1125590  4MY-DB-03  2007  BH120  BH120-GP7R4S452S     DV11\n",
       "1152674  4MY-DB-03  2007  BH120  BH120-GP7R4S452S     DV11\n",
       "1152705  4MY-DB-03  2007  BH120  BH120-GP7R3S452S     DV11\n",
       "\n",
       "[146 rows x 5 columns]"
      ]
     },
     "execution_count": 36,
     "metadata": {},
     "output_type": "execute_result"
    }
   ],
   "source": [
    "info.loc[(info['제작사명'] == '자일대우상용차 주식회사') & (info['차명'] == 'BH120'), ['배출가스인증번호', '차량연식','차명', '자동차형식', '엔진형식']]"
   ]
  },
  {
   "cell_type": "code",
   "execution_count": 37,
   "metadata": {},
   "outputs": [
    {
     "data": {
      "text/plain": [
       "array([2003, 2004, 2005, 2006, 2007], dtype=int64)"
      ]
     },
     "execution_count": 37,
     "metadata": {},
     "output_type": "execute_result"
    }
   ],
   "source": [
    "info.loc[(info['제작사명'] == '자일대우상용차 주식회사') & (info['차명'] == 'BH120'), '차량연식'].unique()"
   ]
  },
  {
   "attachments": {},
   "cell_type": "markdown",
   "metadata": {},
   "source": [
    "#### [샘플] 7MY-DB-24-44과 미매칭, 동일 제작사, 동일 차명"
   ]
  },
  {
   "cell_type": "code",
   "execution_count": 38,
   "metadata": {},
   "outputs": [],
   "source": [
    "info.loc[(info['제작사명'] == '자일대우상용차 주식회사') & (info['차명'] == 'BH120')].to_excel('analysis2/4등급_데이터_점검/recheck/7MY-DB-24-44_미매칭_동일제작사_동일차명_샘플_말소제거.xlsx', index=False)"
   ]
  },
  {
   "attachments": {},
   "cell_type": "markdown",
   "metadata": {},
   "source": [
    "### [로드] 5등급 등록&제원정보"
   ]
  },
  {
   "cell_type": "code",
   "execution_count": 39,
   "metadata": {},
   "outputs": [
    {
     "data": {
      "text/plain": [
       "(2378648, 49)"
      ]
     },
     "execution_count": 39,
     "metadata": {},
     "output_type": "execute_result"
    }
   ],
   "source": [
    "# about \n",
    "file_name = '[ODS][G5]등록정보&제원정보(2022.12.29).csv'\n",
    "info = pd.read_csv(os.path.join(ods_fold, file_name), encoding='cp949', low_memory=False)\n",
    "info.shape"
   ]
  },
  {
   "cell_type": "code",
   "execution_count": 40,
   "metadata": {},
   "outputs": [
    {
     "data": {
      "text/plain": [
       "array([2003, 2004, 2005, 2006, 2007, 2008, 2009], dtype=int64)"
      ]
     },
     "execution_count": 40,
     "metadata": {},
     "output_type": "execute_result"
    }
   ],
   "source": [
    "info.loc[(info['제작사명'] == '자일대우상용차 주식회사') & (info['차명'] == 'BH120'), '차량연식'].unique()"
   ]
  },
  {
   "cell_type": "code",
   "execution_count": 41,
   "metadata": {},
   "outputs": [],
   "source": [
    "info.loc[(info['제작사명'] == '자일대우상용차 주식회사') & (info['차명'] == 'BH120')].to_excel('analysis2/4등급_데이터_점검/recheck/7MY-DB-24-44_미매칭_동일제작사_동일차명_샘플.xlsx', index=False)"
   ]
  },
  {
   "cell_type": "code",
   "execution_count": null,
   "metadata": {},
   "outputs": [],
   "source": []
  },
  {
   "attachments": {},
   "cell_type": "markdown",
   "metadata": {},
   "source": [
    "# Code End"
   ]
  }
 ],
 "metadata": {
  "kernelspec": {
   "display_name": "base",
   "language": "python",
   "name": "python3"
  },
  "language_info": {
   "codemirror_mode": {
    "name": "ipython",
    "version": 3
   },
   "file_extension": ".py",
   "mimetype": "text/x-python",
   "name": "python",
   "nbconvert_exporter": "python",
   "pygments_lexer": "ipython3",
   "version": "3.9.13"
  },
  "orig_nbformat": 4,
  "vscode": {
   "interpreter": {
    "hash": "ad2bdc8ecc057115af97d19610ffacc2b4e99fae6737bb82f5d7fb13d2f2c186"
   }
  }
 },
 "nbformat": 4,
 "nbformat_minor": 2
}
