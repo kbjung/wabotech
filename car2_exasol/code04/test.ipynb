{
 "cells": [
  {
   "cell_type": "code",
   "execution_count": 1,
   "metadata": {},
   "outputs": [],
   "source": [
    "# Library\n",
    "import pandas as pd\n",
    "import numpy as np\n",
    "import pyexasol"
   ]
  },
  {
   "cell_type": "code",
   "execution_count": 2,
   "metadata": {},
   "outputs": [],
   "source": [
    "we = pyexasol.connect(dsn='dev.openankus.org:8563', user='sys', password='djslzja', compression=True, schema='vsyse')"
   ]
  },
  {
   "cell_type": "code",
   "execution_count": 3,
   "metadata": {},
   "outputs": [
    {
     "name": "stdout",
     "output_type": "stream",
     "text": [
      "<class 'pandas.core.frame.DataFrame'>\n",
      "RangeIndex: 1125999 entries, 0 to 1125998\n",
      "Data columns (total 16 columns):\n",
      " #   Column               Non-Null Count    Dtype  \n",
      "---  ------               --------------    -----  \n",
      " 0   VIN                  1125999 non-null  object \n",
      " 1   VHRNO                1125999 non-null  object \n",
      " 2   STDG_CD              1125999 non-null  int64  \n",
      " 3   CTPV_NM              1125999 non-null  object \n",
      " 4   SGG_NM               1125980 non-null  object \n",
      " 5   YRIDNW               1125999 non-null  int64  \n",
      " 6   PURPS_CD2            1125999 non-null  object \n",
      " 7   VHCTY_CD             1125999 non-null  object \n",
      " 8   VHCTY_TY             1125999 non-null  object \n",
      " 9   RDCDVC               144534 non-null   object \n",
      " 10  PRIO_GRD             1125999 non-null  int64  \n",
      " 11  SELCT_PNT            666281 non-null   float64\n",
      " 12  NOLOD_SMO_MEVLU1     769835 non-null   float64\n",
      " 13  DY_AVRG_DRVNG_DSTNC  817694 non-null   float64\n",
      " 14  RCNT_INSP_ELPSD_WHL  817694 non-null   float64\n",
      " 15  RUN_LMT_NOCS         1125999 non-null  float64\n",
      "dtypes: float64(5), int64(3), object(8)\n",
      "memory usage: 137.5+ MB\n"
     ]
    }
   ],
   "source": [
    "# 9.6s\n",
    "df = we.export_to_pandas(\"SELECT * from STD_BD_GRD5_LEM_PRIO_ORD_SELCT_CURSTT;\")\n",
    "df.info()"
   ]
  },
  {
   "cell_type": "code",
   "execution_count": null,
   "metadata": {},
   "outputs": [],
   "source": []
  }
 ],
 "metadata": {
  "kernelspec": {
   "display_name": "base",
   "language": "python",
   "name": "python3"
  },
  "language_info": {
   "codemirror_mode": {
    "name": "ipython",
    "version": 3
   },
   "file_extension": ".py",
   "mimetype": "text/x-python",
   "name": "python",
   "nbconvert_exporter": "python",
   "pygments_lexer": "ipython3",
   "version": "3.9.13"
  },
  "orig_nbformat": 4
 },
 "nbformat": 4,
 "nbformat_minor": 2
}
