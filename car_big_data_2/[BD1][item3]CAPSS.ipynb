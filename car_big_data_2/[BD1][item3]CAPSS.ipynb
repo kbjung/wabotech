{
 "cells": [
  {
   "attachments": {},
   "cell_type": "markdown",
   "metadata": {},
   "source": [
    "# Library"
   ]
  },
  {
   "cell_type": "code",
   "execution_count": 1,
   "metadata": {},
   "outputs": [],
   "source": [
    "import pandas as pd\n",
    "import numpy as np\n",
    "import os\n",
    "from tqdm import tqdm\n",
    "from datetime import datetime"
   ]
  },
  {
   "cell_type": "code",
   "execution_count": 2,
   "metadata": {},
   "outputs": [],
   "source": [
    "# 소수점 옵션\n",
    "pd.options.display.float_format = '{:.2f}'.format\n",
    "# pd.reset_option('display.float_format')"
   ]
  },
  {
   "attachments": {},
   "cell_type": "markdown",
   "metadata": {},
   "source": [
    "# fold path"
   ]
  },
  {
   "cell_type": "code",
   "execution_count": 3,
   "metadata": {},
   "outputs": [],
   "source": [
    "drive = 'E'"
   ]
  },
  {
   "cell_type": "code",
   "execution_count": 4,
   "metadata": {},
   "outputs": [],
   "source": [
    "raw_fold = f'{drive}:/data/big2/BD1/raw'\n",
    "ods_fold = f'{drive}:/data/big2/ODS'\n",
    "sample_fold = f'{drive}:/data/big2/BD1/sample'\n",
    "analysis_fold = f'{drive}:/data/big2/BD1/an'"
   ]
  },
  {
   "attachments": {},
   "cell_type": "markdown",
   "metadata": {},
   "source": [
    "# Load"
   ]
  },
  {
   "attachments": {},
   "cell_type": "markdown",
   "metadata": {},
   "source": [
    "## 병합 result 최종 파일"
   ]
  },
  {
   "cell_type": "code",
   "execution_count": 5,
   "metadata": {},
   "outputs": [
    {
     "name": "stdout",
     "output_type": "stream",
     "text": [
      "<class 'pandas.core.frame.DataFrame'>\n",
      "RangeIndex: 1497675 entries, 0 to 1497674\n",
      "Data columns (total 32 columns):\n",
      " #   Column    Non-Null Count    Dtype  \n",
      "---  ------    --------------    -----  \n",
      " 0   차대번호      1497675 non-null  object \n",
      " 1   차량번호      1497675 non-null  object \n",
      " 2   제원관리번호    1497675 non-null  object \n",
      " 3   차종        1497675 non-null  object \n",
      " 4   용도        1497675 non-null  object \n",
      " 5   최초등록일     1497675 non-null  int64  \n",
      " 6   연식        1497675 non-null  int64  \n",
      " 7   제작일자      1330654 non-null  float64\n",
      " 8   검사유효일     1497663 non-null  float64\n",
      " 9   배출가스인증번호  1377719 non-null  object \n",
      " 10  등급        1497675 non-null  int64  \n",
      " 11  차명        1497675 non-null  object \n",
      " 12  차종분류      1497675 non-null  object \n",
      " 13  차종유형      1497675 non-null  object \n",
      " 14  자동차형식     1497399 non-null  object \n",
      " 15  제작사명      1488035 non-null  object \n",
      " 16  연료        1497675 non-null  object \n",
      " 17  엔진형식      1495843 non-null  object \n",
      " 18  총중량       1497674 non-null  float64\n",
      " 19  적재중량      1497333 non-null  float64\n",
      " 20  엔진출력      1497324 non-null  object \n",
      " 21  배기량       1497672 non-null  float64\n",
      " 22  법정동코드     1497675 non-null  int64  \n",
      " 23  시도명       1497675 non-null  object \n",
      " 24  시군구명      1497675 non-null  object \n",
      " 25  소유자구분     1497675 non-null  object \n",
      " 26  말소여부      1497675 non-null  object \n",
      " 27  일치유무      1149290 non-null  object \n",
      " 28  배인번호_수정   1149290 non-null  object \n",
      " 29  등급_수정     1149290 non-null  float64\n",
      " 30  DPF유무_수정  1149290 non-null  object \n",
      " 31  Grade     1497675 non-null  object \n",
      "dtypes: float64(6), int64(4), object(22)\n",
      "memory usage: 365.6+ MB\n"
     ]
    }
   ],
   "source": [
    "# about 15.1s\n",
    "name = '4등급 차량 리스트 양식 result 최종 Grade 추가(2023.03.31_PM.07.32.15)'\n",
    "file_name = f'{name}.csv'\n",
    "df = pd.read_csv(os.path.join(raw_fold, file_name), low_memory=False, encoding='cp949')\n",
    "df.info()"
   ]
  },
  {
   "attachments": {},
   "cell_type": "markdown",
   "metadata": {},
   "source": [
    "# 전처리"
   ]
  },
  {
   "cell_type": "code",
   "execution_count": 6,
   "metadata": {},
   "outputs": [
    {
     "data": {
      "text/plain": [
       "Index(['차대번호', '차량번호', '제원관리번호', '차종', '용도', '최초등록일', '연식', '제작일자', '검사유효일',\n",
       "       '배출가스인증번호', '등급', '차명', '차종분류', '차종유형', '자동차형식', '제작사명', '연료', '엔진형식',\n",
       "       '총중량', '적재중량', '엔진출력', '배기량', '법정동코드', '시도명', '시군구명', '소유자구분', '말소여부',\n",
       "       '일치유무', '배인번호_수정', '등급_수정', 'DPF유무_수정', 'Grade'],\n",
       "      dtype='object')"
      ]
     },
     "execution_count": 6,
     "metadata": {},
     "output_type": "execute_result"
    }
   ],
   "source": [
    "df.columns"
   ]
  },
  {
   "attachments": {},
   "cell_type": "markdown",
   "metadata": {},
   "source": [
    "## 4등급 차량만"
   ]
  },
  {
   "cell_type": "code",
   "execution_count": 7,
   "metadata": {},
   "outputs": [
    {
     "data": {
      "text/plain": [
       "4.00    1149290\n",
       "NaN      348385\n",
       "Name: 등급_수정, dtype: int64"
      ]
     },
     "execution_count": 7,
     "metadata": {},
     "output_type": "execute_result"
    }
   ],
   "source": [
    "df['등급_수정'].value_counts(dropna=False)"
   ]
  },
  {
   "cell_type": "code",
   "execution_count": 10,
   "metadata": {},
   "outputs": [
    {
     "data": {
      "text/plain": [
       "(1149290, 32)"
      ]
     },
     "execution_count": 10,
     "metadata": {},
     "output_type": "execute_result"
    }
   ],
   "source": [
    "df1 = df.loc[df['등급_수정'] == 4].reset_index(drop=True)\n",
    "df1.shape"
   ]
  },
  {
   "attachments": {},
   "cell_type": "markdown",
   "metadata": {},
   "source": [
    "## 중복 차대번호 확인\n",
    "- 최종등록일자, 배출가스검사유효일자 최신 데이터 사용"
   ]
  },
  {
   "cell_type": "code",
   "execution_count": 11,
   "metadata": {},
   "outputs": [
    {
     "data": {
      "text/plain": [
       "(1149290, 1149290)"
      ]
     },
     "execution_count": 11,
     "metadata": {},
     "output_type": "execute_result"
    }
   ],
   "source": [
    "df1.shape[0], len(df1['차대번호'].unique())"
   ]
  },
  {
   "attachments": {},
   "cell_type": "markdown",
   "metadata": {},
   "source": [
    "## 연료 확인(경유)"
   ]
  },
  {
   "cell_type": "code",
   "execution_count": 12,
   "metadata": {},
   "outputs": [
    {
     "data": {
      "text/plain": [
       "경유    1149290\n",
       "Name: 연료, dtype: int64"
      ]
     },
     "execution_count": 12,
     "metadata": {},
     "output_type": "execute_result"
    }
   ],
   "source": [
    "df1['연료'].value_counts(dropna=False)"
   ]
  },
  {
   "attachments": {},
   "cell_type": "markdown",
   "metadata": {},
   "source": [
    "## 차종 확인"
   ]
  },
  {
   "cell_type": "code",
   "execution_count": 13,
   "metadata": {},
   "outputs": [
    {
     "data": {
      "text/plain": [
       "승용    525013\n",
       "화물    485307\n",
       "승합    132524\n",
       "특수      6446\n",
       "Name: 차종, dtype: int64"
      ]
     },
     "execution_count": 13,
     "metadata": {},
     "output_type": "execute_result"
    }
   ],
   "source": [
    "df1['차종'].value_counts(dropna=False)"
   ]
  },
  {
   "attachments": {},
   "cell_type": "markdown",
   "metadata": {},
   "source": [
    "## 차종유형 확인"
   ]
  },
  {
   "cell_type": "code",
   "execution_count": 14,
   "metadata": {},
   "outputs": [
    {
     "data": {
      "text/plain": [
       "중형    531633\n",
       "소형    443250\n",
       "대형    174406\n",
       "경형         1\n",
       "Name: 차종유형, dtype: int64"
      ]
     },
     "execution_count": 14,
     "metadata": {},
     "output_type": "execute_result"
    }
   ],
   "source": [
    "df1['차종유형'].value_counts()"
   ]
  },
  {
   "attachments": {},
   "cell_type": "markdown",
   "metadata": {},
   "source": [
    "## 연식 확인"
   ]
  },
  {
   "cell_type": "code",
   "execution_count": 15,
   "metadata": {},
   "outputs": [
    {
     "data": {
      "text/plain": [
       "count   1149290.00\n",
       "mean       2009.43\n",
       "std           1.52\n",
       "min        1997.00\n",
       "25%        2008.00\n",
       "50%        2010.00\n",
       "75%        2011.00\n",
       "max        2018.00\n",
       "Name: 연식, dtype: float64"
      ]
     },
     "execution_count": 15,
     "metadata": {},
     "output_type": "execute_result"
    }
   ],
   "source": [
    "df1['연식'].describe()"
   ]
  },
  {
   "attachments": {},
   "cell_type": "markdown",
   "metadata": {},
   "source": [
    "### 차령 정보 계산 및 데이터 추가"
   ]
  },
  {
   "cell_type": "code",
   "execution_count": 16,
   "metadata": {},
   "outputs": [
    {
     "data": {
      "text/plain": [
       "2023"
      ]
     },
     "execution_count": 16,
     "metadata": {},
     "output_type": "execute_result"
    }
   ],
   "source": [
    "current_yr = int(datetime.today().strftime(\"%Y\"))\n",
    "current_yr"
   ]
  },
  {
   "cell_type": "code",
   "execution_count": 17,
   "metadata": {},
   "outputs": [
    {
     "data": {
      "text/plain": [
       "count   1149290.00\n",
       "mean         13.57\n",
       "std           1.52\n",
       "min           5.00\n",
       "25%          12.00\n",
       "50%          13.00\n",
       "75%          15.00\n",
       "max          26.00\n",
       "Name: 차령, dtype: float64"
      ]
     },
     "execution_count": 17,
     "metadata": {},
     "output_type": "execute_result"
    }
   ],
   "source": [
    "df1['차령'] = current_yr - df1['연식']\n",
    "df1['차령'].describe()"
   ]
  },
  {
   "attachments": {},
   "cell_type": "markdown",
   "metadata": {},
   "source": [
    "## 시도명, 시군구명 수정\n",
    "- 시군구명 앞지역명만 추출\n",
    "- 세종틀별자치시 -> 세종시"
   ]
  },
  {
   "cell_type": "code",
   "execution_count": 18,
   "metadata": {},
   "outputs": [
    {
     "data": {
      "text/plain": [
       "시도명     0\n",
       "시군구명    0\n",
       "차종      0\n",
       "dtype: int64"
      ]
     },
     "execution_count": 18,
     "metadata": {},
     "output_type": "execute_result"
    }
   ],
   "source": [
    "df1[['시도명', '시군구명', '차종']].isnull().sum()"
   ]
  },
  {
   "cell_type": "code",
   "execution_count": 19,
   "metadata": {},
   "outputs": [
    {
     "data": {
      "text/plain": [
       "array(['대전광역시', '부산광역시', '경기도', '제주특별자치도', '경상남도', '강원도', '전라남도', '인천광역시',\n",
       "       '서울특별시', '충청북도', '충청남도', '대구광역시', '전라북도', '울산광역시', '경상북도', '광주광역시',\n",
       "       '세종특별자치시'], dtype=object)"
      ]
     },
     "execution_count": 19,
     "metadata": {},
     "output_type": "execute_result"
    }
   ],
   "source": [
    "df1['시도명'].unique()"
   ]
  },
  {
   "cell_type": "code",
   "execution_count": 20,
   "metadata": {},
   "outputs": [
    {
     "data": {
      "text/html": [
       "<div>\n",
       "<style scoped>\n",
       "    .dataframe tbody tr th:only-of-type {\n",
       "        vertical-align: middle;\n",
       "    }\n",
       "\n",
       "    .dataframe tbody tr th {\n",
       "        vertical-align: top;\n",
       "    }\n",
       "\n",
       "    .dataframe thead th {\n",
       "        text-align: right;\n",
       "    }\n",
       "</style>\n",
       "<table border=\"1\" class=\"dataframe\">\n",
       "  <thead>\n",
       "    <tr style=\"text-align: right;\">\n",
       "      <th></th>\n",
       "      <th>시도명</th>\n",
       "      <th>시군구명</th>\n",
       "    </tr>\n",
       "  </thead>\n",
       "  <tbody>\n",
       "    <tr>\n",
       "      <th>1149285</th>\n",
       "      <td>충청남도</td>\n",
       "      <td>천안시 동남구</td>\n",
       "    </tr>\n",
       "    <tr>\n",
       "      <th>1149286</th>\n",
       "      <td>전라북도</td>\n",
       "      <td>김제시</td>\n",
       "    </tr>\n",
       "    <tr>\n",
       "      <th>1149287</th>\n",
       "      <td>전라북도</td>\n",
       "      <td>완주군</td>\n",
       "    </tr>\n",
       "    <tr>\n",
       "      <th>1149288</th>\n",
       "      <td>경기도</td>\n",
       "      <td>시흥시</td>\n",
       "    </tr>\n",
       "    <tr>\n",
       "      <th>1149289</th>\n",
       "      <td>충청남도</td>\n",
       "      <td>태안군</td>\n",
       "    </tr>\n",
       "  </tbody>\n",
       "</table>\n",
       "</div>"
      ],
      "text/plain": [
       "          시도명     시군구명\n",
       "1149285  충청남도  천안시 동남구\n",
       "1149286  전라북도      김제시\n",
       "1149287  전라북도      완주군\n",
       "1149288   경기도      시흥시\n",
       "1149289  충청남도      태안군"
      ]
     },
     "execution_count": 20,
     "metadata": {},
     "output_type": "execute_result"
    }
   ],
   "source": [
    "df1[['시도명', '시군구명']].tail()"
   ]
  },
  {
   "cell_type": "code",
   "execution_count": 21,
   "metadata": {},
   "outputs": [],
   "source": [
    "df1['시군구명_수정'] = df1['시군구명'].str.split(' ').str[0]"
   ]
  },
  {
   "cell_type": "code",
   "execution_count": 22,
   "metadata": {},
   "outputs": [
    {
     "data": {
      "text/plain": [
       "1149285    천안시\n",
       "1149286    김제시\n",
       "1149287    완주군\n",
       "1149288    시흥시\n",
       "1149289    태안군\n",
       "Name: 시군구명_수정, dtype: object"
      ]
     },
     "execution_count": 22,
     "metadata": {},
     "output_type": "execute_result"
    }
   ],
   "source": [
    "df1['시군구명_수정'].tail()"
   ]
  },
  {
   "cell_type": "code",
   "execution_count": 23,
   "metadata": {},
   "outputs": [
    {
     "data": {
      "text/plain": [
       "(6773,)"
      ]
     },
     "execution_count": 23,
     "metadata": {},
     "output_type": "execute_result"
    }
   ],
   "source": [
    "df1.loc[df1['시군구명_수정'] == '세종특별자치시', '시군구명_수정'].shape"
   ]
  },
  {
   "cell_type": "code",
   "execution_count": 24,
   "metadata": {},
   "outputs": [],
   "source": [
    "df1.loc[df1['시군구명_수정'] == '세종특별자치시', '시군구명_수정'] = '세종시'"
   ]
  },
  {
   "cell_type": "code",
   "execution_count": 25,
   "metadata": {},
   "outputs": [
    {
     "data": {
      "text/plain": [
       "(0,)"
      ]
     },
     "execution_count": 25,
     "metadata": {},
     "output_type": "execute_result"
    }
   ],
   "source": [
    "df1.loc[df1['시군구명_수정'] == '세종특별자치시', '시군구명_수정'].shape"
   ]
  },
  {
   "attachments": {},
   "cell_type": "markdown",
   "metadata": {},
   "source": [
    "# 자동차-엔진 가열(Hot-start) 배출"
   ]
  },
  {
   "attachments": {},
   "cell_type": "markdown",
   "metadata": {},
   "source": [
    "## 배출량 산정\n",
    "$E_{i, j} = VKT \\times {EF_i \\over {1000}} \\times DF \\times (1 - {R \\over {100}})$\n",
    "\n",
    "$E_{i, j}$ : 자동차 $j$의 도로주행시 발생한 오염물질 $i$의 배출량($kg/yr$)\n",
    "\n",
    "$VKT$ : 주행거리($km/yr$)\n",
    "\n",
    "$EF_i$ : 차종별, 연료별, 연식별, 차속별 배출계수($g/km$)\n",
    "\n",
    "$DF$ : 열화계수\n",
    "\n",
    "$R$ : 저감장치 부착 효율(%)"
   ]
  },
  {
   "attachments": {},
   "cell_type": "markdown",
   "metadata": {},
   "source": [
    "### 주행거리(VKT)\n",
    "- \"용도별_차종별_시군구별_자동차주행거리\" 자료(KOSIS)의 1일 평균주행거리 * 365 = 주행거리(km/yr)"
   ]
  },
  {
   "attachments": {},
   "cell_type": "markdown",
   "metadata": {},
   "source": [
    "#### [로드] 1일평균주행거리(2021)"
   ]
  },
  {
   "cell_type": "code",
   "execution_count": 26,
   "metadata": {},
   "outputs": [
    {
     "name": "stdout",
     "output_type": "stream",
     "text": [
      "<class 'pandas.core.frame.DataFrame'>\n",
      "RangeIndex: 1230 entries, 0 to 1229\n",
      "Data columns (total 4 columns):\n",
      " #   Column  Non-Null Count  Dtype  \n",
      "---  ------  --------------  -----  \n",
      " 0   시도명     1230 non-null   object \n",
      " 1   시군구명    1230 non-null   object \n",
      " 2   차종      1230 non-null   object \n",
      " 3   전체      1230 non-null   float64\n",
      "dtypes: float64(1), object(3)\n",
      "memory usage: 38.6+ KB\n"
     ]
    }
   ],
   "source": [
    "# 1일 평균 주행거리 자료 로드\n",
    "run = pd.read_excel(os.path.join(raw_fold, '용도별_차종별_시군구별_자동차1일평균주행거리(2021).xlsx'))\n",
    "run.info()"
   ]
  },
  {
   "cell_type": "code",
   "execution_count": 27,
   "metadata": {},
   "outputs": [
    {
     "data": {
      "text/html": [
       "<div>\n",
       "<style scoped>\n",
       "    .dataframe tbody tr th:only-of-type {\n",
       "        vertical-align: middle;\n",
       "    }\n",
       "\n",
       "    .dataframe tbody tr th {\n",
       "        vertical-align: top;\n",
       "    }\n",
       "\n",
       "    .dataframe thead th {\n",
       "        text-align: right;\n",
       "    }\n",
       "</style>\n",
       "<table border=\"1\" class=\"dataframe\">\n",
       "  <thead>\n",
       "    <tr style=\"text-align: right;\">\n",
       "      <th></th>\n",
       "      <th>시도명</th>\n",
       "      <th>시군구명</th>\n",
       "      <th>차종</th>\n",
       "      <th>전체</th>\n",
       "    </tr>\n",
       "  </thead>\n",
       "  <tbody>\n",
       "    <tr>\n",
       "      <th>1225</th>\n",
       "      <td>제주특별자치도</td>\n",
       "      <td>서귀포시</td>\n",
       "      <td>합계</td>\n",
       "      <td>35.10</td>\n",
       "    </tr>\n",
       "    <tr>\n",
       "      <th>1226</th>\n",
       "      <td>제주특별자치도</td>\n",
       "      <td>서귀포시</td>\n",
       "      <td>승용</td>\n",
       "      <td>36.10</td>\n",
       "    </tr>\n",
       "    <tr>\n",
       "      <th>1227</th>\n",
       "      <td>제주특별자치도</td>\n",
       "      <td>서귀포시</td>\n",
       "      <td>승합</td>\n",
       "      <td>37.20</td>\n",
       "    </tr>\n",
       "    <tr>\n",
       "      <th>1228</th>\n",
       "      <td>제주특별자치도</td>\n",
       "      <td>서귀포시</td>\n",
       "      <td>화물</td>\n",
       "      <td>32.50</td>\n",
       "    </tr>\n",
       "    <tr>\n",
       "      <th>1229</th>\n",
       "      <td>제주특별자치도</td>\n",
       "      <td>서귀포시</td>\n",
       "      <td>특수</td>\n",
       "      <td>38.40</td>\n",
       "    </tr>\n",
       "  </tbody>\n",
       "</table>\n",
       "</div>"
      ],
      "text/plain": [
       "          시도명  시군구명  차종    전체\n",
       "1225  제주특별자치도  서귀포시  합계 35.10\n",
       "1226  제주특별자치도  서귀포시  승용 36.10\n",
       "1227  제주특별자치도  서귀포시  승합 37.20\n",
       "1228  제주특별자치도  서귀포시  화물 32.50\n",
       "1229  제주특별자치도  서귀포시  특수 38.40"
      ]
     },
     "execution_count": 27,
     "metadata": {},
     "output_type": "execute_result"
    }
   ],
   "source": [
    "run.tail()"
   ]
  },
  {
   "cell_type": "code",
   "execution_count": 28,
   "metadata": {},
   "outputs": [
    {
     "data": {
      "text/plain": [
       "0"
      ]
     },
     "execution_count": 28,
     "metadata": {},
     "output_type": "execute_result"
    }
   ],
   "source": [
    "len(set(df1['시군구명_수정'].unique()) - set(run['시군구명'].unique()))"
   ]
  },
  {
   "cell_type": "code",
   "execution_count": 29,
   "metadata": {},
   "outputs": [
    {
     "data": {
      "text/html": [
       "<div>\n",
       "<style scoped>\n",
       "    .dataframe tbody tr th:only-of-type {\n",
       "        vertical-align: middle;\n",
       "    }\n",
       "\n",
       "    .dataframe tbody tr th {\n",
       "        vertical-align: top;\n",
       "    }\n",
       "\n",
       "    .dataframe thead th {\n",
       "        text-align: right;\n",
       "    }\n",
       "</style>\n",
       "<table border=\"1\" class=\"dataframe\">\n",
       "  <thead>\n",
       "    <tr style=\"text-align: right;\">\n",
       "      <th></th>\n",
       "      <th>시도명</th>\n",
       "      <th>시군구명</th>\n",
       "      <th>차종</th>\n",
       "      <th>전체</th>\n",
       "    </tr>\n",
       "  </thead>\n",
       "  <tbody>\n",
       "    <tr>\n",
       "      <th>1225</th>\n",
       "      <td>제주특별자치도</td>\n",
       "      <td>서귀포시</td>\n",
       "      <td>합계</td>\n",
       "      <td>35.10</td>\n",
       "    </tr>\n",
       "    <tr>\n",
       "      <th>1226</th>\n",
       "      <td>제주특별자치도</td>\n",
       "      <td>서귀포시</td>\n",
       "      <td>승용</td>\n",
       "      <td>36.10</td>\n",
       "    </tr>\n",
       "    <tr>\n",
       "      <th>1227</th>\n",
       "      <td>제주특별자치도</td>\n",
       "      <td>서귀포시</td>\n",
       "      <td>승합</td>\n",
       "      <td>37.20</td>\n",
       "    </tr>\n",
       "    <tr>\n",
       "      <th>1228</th>\n",
       "      <td>제주특별자치도</td>\n",
       "      <td>서귀포시</td>\n",
       "      <td>화물</td>\n",
       "      <td>32.50</td>\n",
       "    </tr>\n",
       "    <tr>\n",
       "      <th>1229</th>\n",
       "      <td>제주특별자치도</td>\n",
       "      <td>서귀포시</td>\n",
       "      <td>특수</td>\n",
       "      <td>38.40</td>\n",
       "    </tr>\n",
       "  </tbody>\n",
       "</table>\n",
       "</div>"
      ],
      "text/plain": [
       "          시도명  시군구명  차종    전체\n",
       "1225  제주특별자치도  서귀포시  합계 35.10\n",
       "1226  제주특별자치도  서귀포시  승용 36.10\n",
       "1227  제주특별자치도  서귀포시  승합 37.20\n",
       "1228  제주특별자치도  서귀포시  화물 32.50\n",
       "1229  제주특별자치도  서귀포시  특수 38.40"
      ]
     },
     "execution_count": 29,
     "metadata": {},
     "output_type": "execute_result"
    }
   ],
   "source": [
    "run.tail()"
   ]
  },
  {
   "cell_type": "code",
   "execution_count": 30,
   "metadata": {},
   "outputs": [
    {
     "data": {
      "text/plain": [
       "(1149290, 34)"
      ]
     },
     "execution_count": 30,
     "metadata": {},
     "output_type": "execute_result"
    }
   ],
   "source": [
    "df1.shape"
   ]
  },
  {
   "cell_type": "code",
   "execution_count": 31,
   "metadata": {},
   "outputs": [
    {
     "data": {
      "text/plain": [
       "(1149290, 36)"
      ]
     },
     "execution_count": 31,
     "metadata": {},
     "output_type": "execute_result"
    }
   ],
   "source": [
    "df2 = df1.merge(run, left_on=['시도명', '시군구명_수정', '차종'], right_on=['시도명', '시군구명', '차종'], how='left')\n",
    "df2.shape"
   ]
  },
  {
   "cell_type": "code",
   "execution_count": 32,
   "metadata": {},
   "outputs": [
    {
     "data": {
      "text/plain": [
       "Index(['차대번호', '차량번호', '제원관리번호', '차종', '용도', '최초등록일', '연식', '제작일자', '검사유효일',\n",
       "       '배출가스인증번호', '등급', '차명', '차종분류', '차종유형', '자동차형식', '제작사명', '연료', '엔진형식',\n",
       "       '총중량', '적재중량', '엔진출력', '배기량', '법정동코드', '시도명', '시군구명_x', '소유자구분', '말소여부',\n",
       "       '일치유무', '배인번호_수정', '등급_수정', 'DPF유무_수정', 'Grade', '차령', '시군구명_수정',\n",
       "       '시군구명_y', '전체'],\n",
       "      dtype='object')"
      ]
     },
     "execution_count": 32,
     "metadata": {},
     "output_type": "execute_result"
    }
   ],
   "source": [
    "df2.columns"
   ]
  },
  {
   "cell_type": "code",
   "execution_count": 33,
   "metadata": {},
   "outputs": [
    {
     "data": {
      "text/plain": [
       "Index(['차대번호', '차량번호', '제원관리번호', '차종', '용도', '최초등록일', '연식', '제작일자', '검사유효일',\n",
       "       '배출가스인증번호', '등급', '차명', '차종분류', '차종유형', '자동차형식', '제작사명', '연료', '엔진형식',\n",
       "       '총중량', '적재중량', '엔진출력', '배기량', '법정동코드', '시도명', '시군구명', '소유자구분', '말소여부',\n",
       "       '일치유무', '배인번호_수정', '등급_수정', 'DPF유무_수정', 'Grade', '차령', '시군구명_수정',\n",
       "       '1일평균주행거리'],\n",
       "      dtype='object')"
      ]
     },
     "execution_count": 33,
     "metadata": {},
     "output_type": "execute_result"
    }
   ],
   "source": [
    "df2.drop('시군구명_y', axis=1, inplace=True)\n",
    "df2.rename(columns={'시군구명_x':'시군구명', '전체':'1일평균주행거리'}, inplace=True)\n",
    "df2.columns"
   ]
  },
  {
   "cell_type": "code",
   "execution_count": 34,
   "metadata": {},
   "outputs": [
    {
     "data": {
      "text/html": [
       "<div>\n",
       "<style scoped>\n",
       "    .dataframe tbody tr th:only-of-type {\n",
       "        vertical-align: middle;\n",
       "    }\n",
       "\n",
       "    .dataframe tbody tr th {\n",
       "        vertical-align: top;\n",
       "    }\n",
       "\n",
       "    .dataframe thead th {\n",
       "        text-align: right;\n",
       "    }\n",
       "</style>\n",
       "<table border=\"1\" class=\"dataframe\">\n",
       "  <thead>\n",
       "    <tr style=\"text-align: right;\">\n",
       "      <th></th>\n",
       "      <th>시도명</th>\n",
       "      <th>시군구명</th>\n",
       "      <th>시군구명_수정</th>\n",
       "      <th>차종</th>\n",
       "      <th>1일평균주행거리</th>\n",
       "    </tr>\n",
       "  </thead>\n",
       "  <tbody>\n",
       "    <tr>\n",
       "      <th>1149285</th>\n",
       "      <td>충청남도</td>\n",
       "      <td>천안시 동남구</td>\n",
       "      <td>천안시</td>\n",
       "      <td>화물</td>\n",
       "      <td>52.90</td>\n",
       "    </tr>\n",
       "    <tr>\n",
       "      <th>1149286</th>\n",
       "      <td>전라북도</td>\n",
       "      <td>김제시</td>\n",
       "      <td>김제시</td>\n",
       "      <td>화물</td>\n",
       "      <td>42.60</td>\n",
       "    </tr>\n",
       "    <tr>\n",
       "      <th>1149287</th>\n",
       "      <td>전라북도</td>\n",
       "      <td>완주군</td>\n",
       "      <td>완주군</td>\n",
       "      <td>화물</td>\n",
       "      <td>57.00</td>\n",
       "    </tr>\n",
       "    <tr>\n",
       "      <th>1149288</th>\n",
       "      <td>경기도</td>\n",
       "      <td>시흥시</td>\n",
       "      <td>시흥시</td>\n",
       "      <td>승합</td>\n",
       "      <td>46.50</td>\n",
       "    </tr>\n",
       "    <tr>\n",
       "      <th>1149289</th>\n",
       "      <td>충청남도</td>\n",
       "      <td>태안군</td>\n",
       "      <td>태안군</td>\n",
       "      <td>화물</td>\n",
       "      <td>33.40</td>\n",
       "    </tr>\n",
       "  </tbody>\n",
       "</table>\n",
       "</div>"
      ],
      "text/plain": [
       "          시도명     시군구명 시군구명_수정  차종  1일평균주행거리\n",
       "1149285  충청남도  천안시 동남구     천안시  화물     52.90\n",
       "1149286  전라북도      김제시     김제시  화물     42.60\n",
       "1149287  전라북도      완주군     완주군  화물     57.00\n",
       "1149288   경기도      시흥시     시흥시  승합     46.50\n",
       "1149289  충청남도      태안군     태안군  화물     33.40"
      ]
     },
     "execution_count": 34,
     "metadata": {},
     "output_type": "execute_result"
    }
   ],
   "source": [
    "df2[['시도명', '시군구명', '시군구명_수정', '차종', '1일평균주행거리']].tail()"
   ]
  },
  {
   "cell_type": "code",
   "execution_count": 35,
   "metadata": {},
   "outputs": [],
   "source": [
    "df2['VKT'] = df2['1일평균주행거리'] * 365"
   ]
  },
  {
   "cell_type": "code",
   "execution_count": 36,
   "metadata": {},
   "outputs": [
    {
     "data": {
      "text/plain": [
       "Index(['차대번호', '차량번호', '제원관리번호', '차종', '용도', '최초등록일', '연식', '제작일자', '검사유효일',\n",
       "       '배출가스인증번호', '등급', '차명', '차종분류', '차종유형', '자동차형식', '제작사명', '연료', '엔진형식',\n",
       "       '총중량', '적재중량', '엔진출력', '배기량', '법정동코드', '시도명', '시군구명', '소유자구분', '말소여부',\n",
       "       '일치유무', '배인번호_수정', '등급_수정', 'DPF유무_수정', 'Grade', '차령', '시군구명_수정',\n",
       "       '1일평균주행거리', 'VKT'],\n",
       "      dtype='object')"
      ]
     },
     "execution_count": 36,
     "metadata": {},
     "output_type": "execute_result"
    }
   ],
   "source": [
    "df2.columns"
   ]
  },
  {
   "cell_type": "code",
   "execution_count": 37,
   "metadata": {},
   "outputs": [
    {
     "data": {
      "text/html": [
       "<div>\n",
       "<style scoped>\n",
       "    .dataframe tbody tr th:only-of-type {\n",
       "        vertical-align: middle;\n",
       "    }\n",
       "\n",
       "    .dataframe tbody tr th {\n",
       "        vertical-align: top;\n",
       "    }\n",
       "\n",
       "    .dataframe thead th {\n",
       "        text-align: right;\n",
       "    }\n",
       "</style>\n",
       "<table border=\"1\" class=\"dataframe\">\n",
       "  <thead>\n",
       "    <tr style=\"text-align: right;\">\n",
       "      <th></th>\n",
       "      <th>시도명</th>\n",
       "      <th>시군구명</th>\n",
       "      <th>차종</th>\n",
       "      <th>VKT</th>\n",
       "    </tr>\n",
       "  </thead>\n",
       "  <tbody>\n",
       "    <tr>\n",
       "      <th>1149285</th>\n",
       "      <td>충청남도</td>\n",
       "      <td>천안시 동남구</td>\n",
       "      <td>화물</td>\n",
       "      <td>19308.50</td>\n",
       "    </tr>\n",
       "    <tr>\n",
       "      <th>1149286</th>\n",
       "      <td>전라북도</td>\n",
       "      <td>김제시</td>\n",
       "      <td>화물</td>\n",
       "      <td>15549.00</td>\n",
       "    </tr>\n",
       "    <tr>\n",
       "      <th>1149287</th>\n",
       "      <td>전라북도</td>\n",
       "      <td>완주군</td>\n",
       "      <td>화물</td>\n",
       "      <td>20805.00</td>\n",
       "    </tr>\n",
       "    <tr>\n",
       "      <th>1149288</th>\n",
       "      <td>경기도</td>\n",
       "      <td>시흥시</td>\n",
       "      <td>승합</td>\n",
       "      <td>16972.50</td>\n",
       "    </tr>\n",
       "    <tr>\n",
       "      <th>1149289</th>\n",
       "      <td>충청남도</td>\n",
       "      <td>태안군</td>\n",
       "      <td>화물</td>\n",
       "      <td>12191.00</td>\n",
       "    </tr>\n",
       "  </tbody>\n",
       "</table>\n",
       "</div>"
      ],
      "text/plain": [
       "          시도명     시군구명  차종      VKT\n",
       "1149285  충청남도  천안시 동남구  화물 19308.50\n",
       "1149286  전라북도      김제시  화물 15549.00\n",
       "1149287  전라북도      완주군  화물 20805.00\n",
       "1149288   경기도      시흥시  승합 16972.50\n",
       "1149289  충청남도      태안군  화물 12191.00"
      ]
     },
     "execution_count": 37,
     "metadata": {},
     "output_type": "execute_result"
    }
   ],
   "source": [
    "df2[['시도명', '시군구명', '차종', 'VKT']].tail()"
   ]
  },
  {
   "cell_type": "code",
   "execution_count": 38,
   "metadata": {},
   "outputs": [
    {
     "data": {
      "text/plain": [
       "0"
      ]
     },
     "execution_count": 38,
     "metadata": {},
     "output_type": "execute_result"
    }
   ],
   "source": [
    "df2['VKT'].isnull().sum()"
   ]
  },
  {
   "attachments": {},
   "cell_type": "markdown",
   "metadata": {},
   "source": [
    "### 배출가스 열화계수(DF) 계산\n",
    "- 필요한 정보 : 연료, 차종, 차종유형, 연식, 차령"
   ]
  },
  {
   "cell_type": "code",
   "execution_count": 39,
   "metadata": {},
   "outputs": [],
   "source": [
    "DF_col = ['연료', '차종', '차종유형', '연식', '차령']"
   ]
  },
  {
   "cell_type": "code",
   "execution_count": 40,
   "metadata": {},
   "outputs": [
    {
     "data": {
      "text/html": [
       "<div>\n",
       "<style scoped>\n",
       "    .dataframe tbody tr th:only-of-type {\n",
       "        vertical-align: middle;\n",
       "    }\n",
       "\n",
       "    .dataframe tbody tr th {\n",
       "        vertical-align: top;\n",
       "    }\n",
       "\n",
       "    .dataframe thead th {\n",
       "        text-align: right;\n",
       "    }\n",
       "</style>\n",
       "<table border=\"1\" class=\"dataframe\">\n",
       "  <thead>\n",
       "    <tr style=\"text-align: right;\">\n",
       "      <th></th>\n",
       "      <th>연료</th>\n",
       "      <th>차종</th>\n",
       "      <th>차종유형</th>\n",
       "      <th>연식</th>\n",
       "      <th>차령</th>\n",
       "    </tr>\n",
       "  </thead>\n",
       "  <tbody>\n",
       "    <tr>\n",
       "      <th>0</th>\n",
       "      <td>경유</td>\n",
       "      <td>승용</td>\n",
       "      <td>대형</td>\n",
       "      <td>2006</td>\n",
       "      <td>17</td>\n",
       "    </tr>\n",
       "    <tr>\n",
       "      <th>1</th>\n",
       "      <td>경유</td>\n",
       "      <td>승용</td>\n",
       "      <td>대형</td>\n",
       "      <td>2006</td>\n",
       "      <td>17</td>\n",
       "    </tr>\n",
       "    <tr>\n",
       "      <th>2</th>\n",
       "      <td>경유</td>\n",
       "      <td>승용</td>\n",
       "      <td>대형</td>\n",
       "      <td>2006</td>\n",
       "      <td>17</td>\n",
       "    </tr>\n",
       "    <tr>\n",
       "      <th>3</th>\n",
       "      <td>경유</td>\n",
       "      <td>승용</td>\n",
       "      <td>대형</td>\n",
       "      <td>2006</td>\n",
       "      <td>17</td>\n",
       "    </tr>\n",
       "    <tr>\n",
       "      <th>4</th>\n",
       "      <td>경유</td>\n",
       "      <td>승용</td>\n",
       "      <td>대형</td>\n",
       "      <td>2006</td>\n",
       "      <td>17</td>\n",
       "    </tr>\n",
       "  </tbody>\n",
       "</table>\n",
       "</div>"
      ],
      "text/plain": [
       "   연료  차종 차종유형    연식  차령\n",
       "0  경유  승용   대형  2006  17\n",
       "1  경유  승용   대형  2006  17\n",
       "2  경유  승용   대형  2006  17\n",
       "3  경유  승용   대형  2006  17\n",
       "4  경유  승용   대형  2006  17"
      ]
     },
     "execution_count": 40,
     "metadata": {},
     "output_type": "execute_result"
    }
   ],
   "source": [
    "df2[DF_col].head()"
   ]
  },
  {
   "cell_type": "code",
   "execution_count": 41,
   "metadata": {},
   "outputs": [
    {
     "data": {
      "text/plain": [
       "array(['경유', '승용', '대형', 2006, 17], dtype=object)"
      ]
     },
     "execution_count": 41,
     "metadata": {},
     "output_type": "execute_result"
    }
   ],
   "source": [
    "df2[DF_col].values[0]"
   ]
  },
  {
   "cell_type": "code",
   "execution_count": 42,
   "metadata": {},
   "outputs": [
    {
     "name": "stderr",
     "output_type": "stream",
     "text": [
      "100%|██████████| 1149290/1149290 [00:03<00:00, 328462.93it/s]\n"
     ]
    }
   ],
   "source": [
    "# about 3.5s\n",
    "DF_CO_list = []\n",
    "DF_HC_list = []\n",
    "DF_PM_list = []\n",
    "DF_NOx_list = []\n",
    "# '연료', '차종', '차종유형', '연식', '차령'\n",
    "for fuel, car_type, car_size, car_birth, car_age in tqdm(df2[DF_col].values):    \n",
    "    if fuel == '경유':\n",
    "        if car_type == '승용':\n",
    "            warranty = 5\n",
    "            if car_birth <= warranty:\n",
    "                DF_CO = 1\n",
    "                DF_HC = 1\n",
    "                DF_PM = 1\n",
    "                DF_NOx = 1\n",
    "            else:\n",
    "                DF_CO = 1 + (car_age - warranty)*0.05\n",
    "                DF_HC = 1 + (car_age - warranty)*0.05\n",
    "                DF_PM = 1 + (car_age - warranty)*0.05\n",
    "                DF_NOx = 1 + (car_age - warranty)*0.02\n",
    "                if DF_CO > 1.5:\n",
    "                    DF_CO = 1.5\n",
    "                if DF_HC > 1.5:\n",
    "                    DF_HC = 1.5\n",
    "                if DF_PM > 1.5:\n",
    "                    DF_PM = 1.5\n",
    "                if DF_NOx > 1.2:\n",
    "                    DF_NOx = 1.2\n",
    "            DF_CO_list.append(DF_CO)\n",
    "            DF_HC_list.append(DF_HC)\n",
    "            DF_PM_list.append(DF_PM)\n",
    "            DF_NOx_list.append(DF_NOx)\n",
    "        elif car_type == '승합':\n",
    "            if car_size == '소형' or car_size == '중형':\n",
    "                warranty = 5\n",
    "                if car_birth <= warranty:\n",
    "                    DF_CO = 1\n",
    "                    DF_HC = 1\n",
    "                    DF_PM = 1\n",
    "                    DF_NOx = 1\n",
    "                else:\n",
    "                    DF_CO = 1 + (car_age - warranty)*0.05\n",
    "                    DF_HC = 1 + (car_age - warranty)*0.05\n",
    "                    DF_PM = 1 + (car_age - warranty)*0.05\n",
    "                    DF_NOx = 1 + (car_age - warranty)*0.02\n",
    "                    if DF_CO > 1.5:\n",
    "                        DF_CO = 1.5\n",
    "                    if DF_HC > 1.5:\n",
    "                        DF_HC = 1.5\n",
    "                    if DF_PM > 1.5:\n",
    "                        DF_PM = 1.5\n",
    "                    if DF_NOx > 1.2:\n",
    "                        DF_NOx = 1.2\n",
    "                DF_CO_list.append(DF_CO)\n",
    "                DF_HC_list.append(DF_HC)\n",
    "                DF_PM_list.append(DF_PM)\n",
    "                DF_NOx_list.append(DF_NOx)\n",
    "            elif car_size == '대형':\n",
    "                warranty = 3\n",
    "                if car_birth <= warranty:\n",
    "                    DF_CO = 1\n",
    "                    DF_HC = 1\n",
    "                    DF_PM = 1\n",
    "                    DF_NOx = 1\n",
    "                else:\n",
    "                    DF_CO = 1 + (car_age - warranty)*0.05\n",
    "                    DF_HC = 1 + (car_age - warranty)*0.05\n",
    "                    DF_PM = 1 + (car_age - warranty)*0.05\n",
    "                    DF_NOx = 1 + (car_age - warranty)*0.02\n",
    "                    if DF_CO > 1.5:\n",
    "                        DF_CO = 1.5\n",
    "                    if DF_HC > 1.5:\n",
    "                        DF_HC = 1.5\n",
    "                    if DF_PM > 1.5:\n",
    "                        DF_PM = 1.5\n",
    "                    if DF_NOx > 1.2:\n",
    "                        DF_NOx = 1.2\n",
    "                DF_CO_list.append(DF_CO)\n",
    "                DF_HC_list.append(DF_HC)\n",
    "                DF_PM_list.append(DF_PM)\n",
    "                DF_NOx_list.append(DF_NOx)\n",
    "        elif car_type == '화물':\n",
    "            # car_size : 경, 소, 중, 대\n",
    "            warranty = 5\n",
    "            if car_birth <= warranty:\n",
    "                DF_CO = 1\n",
    "                DF_HC = 1\n",
    "                DF_PM = 1\n",
    "                DF_NOx = 1\n",
    "            else:\n",
    "                DF_CO = 1 + (car_age - warranty)*0.05\n",
    "                DF_HC = 1 + (car_age - warranty)*0.05\n",
    "                DF_PM = 1 + (car_age - warranty)*0.05\n",
    "                DF_NOx = 1 + (car_age - warranty)*0.02\n",
    "                if DF_CO > 1.5:\n",
    "                    DF_CO = 1.5\n",
    "                if DF_HC > 1.5:\n",
    "                    DF_HC = 1.5\n",
    "                if DF_PM > 1.5:\n",
    "                    DF_PM = 1.5\n",
    "                if DF_NOx > 1.2:\n",
    "                    DF_NOx = 1.2\n",
    "            DF_CO_list.append(DF_CO)\n",
    "            DF_HC_list.append(DF_HC)\n",
    "            DF_PM_list.append(DF_PM)\n",
    "            DF_NOx_list.append(DF_NOx)\n",
    "        elif car_type == '특수':\n",
    "            # car_size : 중, 대\n",
    "            warranty = 5\n",
    "            if car_birth <= warranty:\n",
    "                DF_CO = 1\n",
    "                DF_HC = 1\n",
    "                DF_PM = 1\n",
    "                DF_NOx = 1\n",
    "            else:\n",
    "                DF_CO = 1 + (car_age - warranty)*0.05\n",
    "                DF_HC = 1 + (car_age - warranty)*0.05\n",
    "                DF_PM = 1 + (car_age - warranty)*0.05\n",
    "                DF_NOx = 1 + (car_age - warranty)*0.02\n",
    "                if DF_CO > 1.5:\n",
    "                    DF_CO = 1.5\n",
    "                if DF_HC > 1.5:\n",
    "                    DF_HC = 1.5\n",
    "                if DF_PM > 1.5:\n",
    "                    DF_PM = 1.5\n",
    "                if DF_NOx > 1.2:\n",
    "                    DF_NOx = 1.2\n",
    "            DF_CO_list.append(DF_CO)\n",
    "            DF_HC_list.append(DF_HC)\n",
    "            DF_PM_list.append(DF_PM)\n",
    "            DF_NOx_list.append(DF_NOx)\n",
    "    else:\n",
    "        pass"
   ]
  },
  {
   "cell_type": "code",
   "execution_count": 43,
   "metadata": {},
   "outputs": [
    {
     "data": {
      "text/plain": [
       "1149290"
      ]
     },
     "execution_count": 43,
     "metadata": {},
     "output_type": "execute_result"
    }
   ],
   "source": [
    "df2.shape[0]"
   ]
  },
  {
   "cell_type": "code",
   "execution_count": 44,
   "metadata": {},
   "outputs": [
    {
     "data": {
      "text/plain": [
       "(1149290, 1149290, 1149290, 1149290)"
      ]
     },
     "execution_count": 44,
     "metadata": {},
     "output_type": "execute_result"
    }
   ],
   "source": [
    "len(DF_CO_list), len(DF_HC_list), len(DF_PM_list), len(DF_NOx_list)"
   ]
  },
  {
   "cell_type": "code",
   "execution_count": 45,
   "metadata": {},
   "outputs": [],
   "source": [
    "df2['DF_CO'] = DF_CO_list\n",
    "df2['DF_HC'] = DF_HC_list\n",
    "df2['DF_PM'] = DF_PM_list\n",
    "df2['DF_NOx'] = DF_NOx_list"
   ]
  },
  {
   "cell_type": "code",
   "execution_count": 46,
   "metadata": {},
   "outputs": [
    {
     "data": {
      "text/html": [
       "<div>\n",
       "<style scoped>\n",
       "    .dataframe tbody tr th:only-of-type {\n",
       "        vertical-align: middle;\n",
       "    }\n",
       "\n",
       "    .dataframe tbody tr th {\n",
       "        vertical-align: top;\n",
       "    }\n",
       "\n",
       "    .dataframe thead th {\n",
       "        text-align: right;\n",
       "    }\n",
       "</style>\n",
       "<table border=\"1\" class=\"dataframe\">\n",
       "  <thead>\n",
       "    <tr style=\"text-align: right;\">\n",
       "      <th></th>\n",
       "      <th>연료</th>\n",
       "      <th>차종</th>\n",
       "      <th>차종유형</th>\n",
       "      <th>연식</th>\n",
       "      <th>차령</th>\n",
       "      <th>DF_CO</th>\n",
       "      <th>DF_HC</th>\n",
       "      <th>DF_PM</th>\n",
       "      <th>DF_NOx</th>\n",
       "    </tr>\n",
       "  </thead>\n",
       "  <tbody>\n",
       "    <tr>\n",
       "      <th>1143229</th>\n",
       "      <td>경유</td>\n",
       "      <td>화물</td>\n",
       "      <td>중형</td>\n",
       "      <td>2018</td>\n",
       "      <td>5</td>\n",
       "      <td>1.00</td>\n",
       "      <td>1.00</td>\n",
       "      <td>1.00</td>\n",
       "      <td>1.00</td>\n",
       "    </tr>\n",
       "    <tr>\n",
       "      <th>1145884</th>\n",
       "      <td>경유</td>\n",
       "      <td>화물</td>\n",
       "      <td>대형</td>\n",
       "      <td>2018</td>\n",
       "      <td>5</td>\n",
       "      <td>1.00</td>\n",
       "      <td>1.00</td>\n",
       "      <td>1.00</td>\n",
       "      <td>1.00</td>\n",
       "    </tr>\n",
       "  </tbody>\n",
       "</table>\n",
       "</div>"
      ],
      "text/plain": [
       "         연료  차종 차종유형    연식  차령  DF_CO  DF_HC  DF_PM  DF_NOx\n",
       "1143229  경유  화물   중형  2018   5   1.00   1.00   1.00    1.00\n",
       "1145884  경유  화물   대형  2018   5   1.00   1.00   1.00    1.00"
      ]
     },
     "execution_count": 46,
     "metadata": {},
     "output_type": "execute_result"
    }
   ],
   "source": [
    "check_DF_col = ['DF_CO', 'DF_HC', 'DF_PM', 'DF_NOx']\n",
    "df2.loc[df2['차령'] < 10, DF_col + check_DF_col].head()"
   ]
  },
  {
   "attachments": {},
   "cell_type": "markdown",
   "metadata": {},
   "source": [
    "### 저감장치 부착 효율(R) 계산\n",
    "- DPF유무_수정 : 유 -> DPF로 가정하고 진행\n",
    "- 휘발성 유기 화합물(Volatile Organic Compounds:VOC) : 생활주변에서 흔히 사용하는 탄화수소류가 거의 해당됨.\n",
    "- 저감장치별 물질 제거 효율(%)\n",
    "\n",
    "    장치종류|CO|VOC|PM\n",
    "    :-:|:-:|:-:|:-:\n",
    "    DPF|99.5|90|83.6\n",
    "    pDPF|94.6|89.3|56\n",
    "    DOC|85.4|72|35"
   ]
  },
  {
   "cell_type": "code",
   "execution_count": 47,
   "metadata": {},
   "outputs": [
    {
     "data": {
      "text/plain": [
       "무       879463\n",
       "유       251010\n",
       "확인불가     18817\n",
       "Name: DPF유무_수정, dtype: int64"
      ]
     },
     "execution_count": 47,
     "metadata": {},
     "output_type": "execute_result"
    }
   ],
   "source": [
    "df2['DPF유무_수정'].value_counts(dropna=False)"
   ]
  },
  {
   "cell_type": "code",
   "execution_count": 48,
   "metadata": {},
   "outputs": [
    {
     "data": {
      "text/plain": [
       "'무'"
      ]
     },
     "execution_count": 48,
     "metadata": {},
     "output_type": "execute_result"
    }
   ],
   "source": [
    "df2['DPF유무_수정'].values[0]"
   ]
  },
  {
   "cell_type": "code",
   "execution_count": 49,
   "metadata": {},
   "outputs": [
    {
     "name": "stderr",
     "output_type": "stream",
     "text": [
      "100%|██████████| 1149290/1149290 [00:00<00:00, 1322688.74it/s]\n"
     ]
    }
   ],
   "source": [
    "R_CO_list = []\n",
    "R_HC_list = []\n",
    "R_PM_list = []\n",
    "for dpf in tqdm(df2['DPF유무_수정'].values):\n",
    "    if dpf == '유':\n",
    "        R_CO = 99.5\n",
    "        R_HC = 90\n",
    "        R_PM = 83.6\n",
    "    else:\n",
    "        R_CO = 0\n",
    "        R_HC = 0\n",
    "        R_PM = 0\n",
    "    R_CO_list.append(R_CO)\n",
    "    R_HC_list.append(R_HC)\n",
    "    R_PM_list.append(R_PM)"
   ]
  },
  {
   "cell_type": "code",
   "execution_count": 50,
   "metadata": {},
   "outputs": [
    {
     "data": {
      "text/plain": [
       "1149290"
      ]
     },
     "execution_count": 50,
     "metadata": {},
     "output_type": "execute_result"
    }
   ],
   "source": [
    "df2.shape[0]"
   ]
  },
  {
   "cell_type": "code",
   "execution_count": 51,
   "metadata": {},
   "outputs": [
    {
     "data": {
      "text/plain": [
       "(1149290, 1149290, 1149290)"
      ]
     },
     "execution_count": 51,
     "metadata": {},
     "output_type": "execute_result"
    }
   ],
   "source": [
    "len(R_CO_list), len(R_HC_list), len(R_PM_list)"
   ]
  },
  {
   "cell_type": "code",
   "execution_count": 52,
   "metadata": {},
   "outputs": [],
   "source": [
    "df2['R_CO'] = R_CO_list\n",
    "df2['R_HC'] = R_HC_list\n",
    "df2['R_PM'] = R_PM_list"
   ]
  },
  {
   "cell_type": "code",
   "execution_count": 53,
   "metadata": {},
   "outputs": [
    {
     "data": {
      "text/html": [
       "<div>\n",
       "<style scoped>\n",
       "    .dataframe tbody tr th:only-of-type {\n",
       "        vertical-align: middle;\n",
       "    }\n",
       "\n",
       "    .dataframe tbody tr th {\n",
       "        vertical-align: top;\n",
       "    }\n",
       "\n",
       "    .dataframe thead th {\n",
       "        text-align: right;\n",
       "    }\n",
       "</style>\n",
       "<table border=\"1\" class=\"dataframe\">\n",
       "  <thead>\n",
       "    <tr style=\"text-align: right;\">\n",
       "      <th></th>\n",
       "      <th>연료</th>\n",
       "      <th>차종</th>\n",
       "      <th>차종유형</th>\n",
       "      <th>연식</th>\n",
       "      <th>차령</th>\n",
       "      <th>DF_CO</th>\n",
       "      <th>DF_HC</th>\n",
       "      <th>DF_PM</th>\n",
       "      <th>DF_NOx</th>\n",
       "      <th>R_CO</th>\n",
       "      <th>R_HC</th>\n",
       "      <th>R_PM</th>\n",
       "    </tr>\n",
       "  </thead>\n",
       "  <tbody>\n",
       "    <tr>\n",
       "      <th>3207</th>\n",
       "      <td>경유</td>\n",
       "      <td>승용</td>\n",
       "      <td>대형</td>\n",
       "      <td>2006</td>\n",
       "      <td>17</td>\n",
       "      <td>1.50</td>\n",
       "      <td>1.50</td>\n",
       "      <td>1.50</td>\n",
       "      <td>1.20</td>\n",
       "      <td>99.50</td>\n",
       "      <td>90</td>\n",
       "      <td>83.60</td>\n",
       "    </tr>\n",
       "    <tr>\n",
       "      <th>3208</th>\n",
       "      <td>경유</td>\n",
       "      <td>승용</td>\n",
       "      <td>대형</td>\n",
       "      <td>2006</td>\n",
       "      <td>17</td>\n",
       "      <td>1.50</td>\n",
       "      <td>1.50</td>\n",
       "      <td>1.50</td>\n",
       "      <td>1.20</td>\n",
       "      <td>99.50</td>\n",
       "      <td>90</td>\n",
       "      <td>83.60</td>\n",
       "    </tr>\n",
       "    <tr>\n",
       "      <th>3209</th>\n",
       "      <td>경유</td>\n",
       "      <td>승용</td>\n",
       "      <td>대형</td>\n",
       "      <td>2007</td>\n",
       "      <td>16</td>\n",
       "      <td>1.50</td>\n",
       "      <td>1.50</td>\n",
       "      <td>1.50</td>\n",
       "      <td>1.20</td>\n",
       "      <td>99.50</td>\n",
       "      <td>90</td>\n",
       "      <td>83.60</td>\n",
       "    </tr>\n",
       "    <tr>\n",
       "      <th>3210</th>\n",
       "      <td>경유</td>\n",
       "      <td>승용</td>\n",
       "      <td>대형</td>\n",
       "      <td>2007</td>\n",
       "      <td>16</td>\n",
       "      <td>1.50</td>\n",
       "      <td>1.50</td>\n",
       "      <td>1.50</td>\n",
       "      <td>1.20</td>\n",
       "      <td>99.50</td>\n",
       "      <td>90</td>\n",
       "      <td>83.60</td>\n",
       "    </tr>\n",
       "    <tr>\n",
       "      <th>3211</th>\n",
       "      <td>경유</td>\n",
       "      <td>승용</td>\n",
       "      <td>대형</td>\n",
       "      <td>2006</td>\n",
       "      <td>17</td>\n",
       "      <td>1.50</td>\n",
       "      <td>1.50</td>\n",
       "      <td>1.50</td>\n",
       "      <td>1.20</td>\n",
       "      <td>99.50</td>\n",
       "      <td>90</td>\n",
       "      <td>83.60</td>\n",
       "    </tr>\n",
       "  </tbody>\n",
       "</table>\n",
       "</div>"
      ],
      "text/plain": [
       "      연료  차종 차종유형    연식  차령  DF_CO  DF_HC  DF_PM  DF_NOx  R_CO  R_HC  R_PM\n",
       "3207  경유  승용   대형  2006  17   1.50   1.50   1.50    1.20 99.50    90 83.60\n",
       "3208  경유  승용   대형  2006  17   1.50   1.50   1.50    1.20 99.50    90 83.60\n",
       "3209  경유  승용   대형  2007  16   1.50   1.50   1.50    1.20 99.50    90 83.60\n",
       "3210  경유  승용   대형  2007  16   1.50   1.50   1.50    1.20 99.50    90 83.60\n",
       "3211  경유  승용   대형  2006  17   1.50   1.50   1.50    1.20 99.50    90 83.60"
      ]
     },
     "execution_count": 53,
     "metadata": {},
     "output_type": "execute_result"
    }
   ],
   "source": [
    "check_R_col = ['R_CO', 'R_HC', 'R_PM']\n",
    "df2.loc[df2['DPF유무_수정'] == '유', DF_col + check_DF_col + check_R_col].head()"
   ]
  },
  {
   "attachments": {},
   "cell_type": "markdown",
   "metadata": {},
   "source": [
    "### 배출계수(EFi)\n"
   ]
  },
  {
   "cell_type": "code",
   "execution_count": 4,
   "metadata": {},
   "outputs": [],
   "source": [
    "EFi_col = ['차종', '차종분류', '연료', '연식']\n",
    "# KOSIS 차량속도(2017) 참고\n",
    "V = 60.9\n",
    "# 국가 대기오염물질 배출량 산정방법 편람(V)(2022) 부록 참고(for PM-2.5)\n",
    "k = 0.92"
   ]
  },
  {
   "cell_type": "code",
   "execution_count": null,
   "metadata": {},
   "outputs": [],
   "source": [
    "EFi_CO_list = []\n",
    "EFi_HC_list = []\n",
    "EFi_NOx_list = []\n",
    "EFi_PM10_list = []\n",
    "EFi_PM2_5_list = []\n",
    "for car_type, car_size, fuel, car_birth in tqdm(df2[EFi_col].values):\n",
    "    if (car_type == '승용') & (car_size == '경형'):\n",
    "        if car_birth <= 2005:\n",
    "            EFi_CO = 0.7392 * (V**-0.7524)\n",
    "            EFi_HC = 0.0989 * (V**-0.6848)\n",
    "            EFi_NOx = 24.3491 * (V**-0.7277)\n",
    "            EFi_PM10 = 0.0839 * (V**-0.3420)\n",
    "            EFi_PM2_5 = k * 0.0839 * (V**-0.3420)\n",
    "        elif 2006 <= car_birth <= 2010:\n",
    "            EFi_CO = 0.5775 * (V**-0.7524)\n",
    "            EFi_HC = 0.0825 * (V**-0.6848)\n",
    "            EFi_NOx = 24.3491 * (V**-0.7277)\n",
    "            EFi_PM10 = 0.0420 * (V**-0.3420)\n",
    "            EFi_PM2_5 = k * 0.0420 * (V**-0.3420)\n",
    "        elif 2011 <= car_birth <= 2015:\n",
    "            EFi_CO = 0.5141 * (V**-0.6792)\n",
    "            EFi_HC = 0.3713 * (V**-0.7513)\n",
    "            EFi_NOx = 0.0003 * (V**2) - 0.0324 * V + 1.4773\n",
    "            EFi_PM10 = 0.0225 * (V**-0.7264)\n",
    "            EFi_PM2_5 = k * 0.0225 * (V**-0.7264)\n",
    "        elif 2016 <= car_birth:\n",
    "            EFi_CO = 0.4574 * (V**-0.5215)\n",
    "            EFi_HC = 0.1300 * (V**-0.7265)\n",
    "            EFi_NOx = 2.7702 * (V**-0.3869)\n",
    "            EFi_PM10 = 0.0225 * (V**-0.7264)\n",
    "            EFi_PM2_5 = k * 0.0225 * (V**-0.7264)\n",
    "    elif (car_type == '승용') & (car_size == '소형'):\n",
    "        if car_birth <= 2004:\n",
    "            EFi_CO = 5.9672 * (V**-0.9534)\n",
    "            EFi_HC = 0.6523 * (V**-1.0167)\n",
    "            EFi_NOx = 24.3491 * (V**-0.7277)\n",
    "            EFi_PM10 = 0.3861 * (V**-0.5093)\n",
    "            EFi_PM2_5 = k * 0.3861 * (V**-0.5093)\n",
    "        elif car_birth == 2005:\n",
    "            EFi_CO = 0.7392 * (V**-0.7524)\n",
    "            EFi_HC = 0.0989 * (V**-0.6848)\n",
    "            EFi_NOx = 24.3491 * (V**-0.7277)\n",
    "            EFi_PM10 = 0.0839 * (V**-0.3420)\n",
    "            EFi_PM2_5 = k * 0.0839 * (V**-0.3420)\n",
    "        elif 2006 <= car_birth <= 2010:\n",
    "            EFi_CO = 0.5775 * (V**-0.7524)\n",
    "            EFi_HC = 0.0825 * (V**-0.6848)\n",
    "            EFi_NOx = 24.3491 * (V**-0.7277)\n",
    "            EFi_PM10 = 0.0420 * (V**-0.3420)\n",
    "            EFi_PM2_5 = k * 0.0420 * (V**-0.3420)\n",
    "        elif 2011 <= car_birth <= 2015:\n",
    "            EFi_CO = 0.5141 * (V**-0.6792)\n",
    "            EFi_HC = 0.3713 * (V**-0.7513)\n",
    "            EFi_NOx = 0.0003 * (V**2) - 0.0324 * V + 1.4773\n",
    "            EFi_PM10 = 0.0225 * (V**-0.7264)\n",
    "            EFi_PM2_5 = k * 0.0225 * (V**-0.7264)\n",
    "        elif 2016 <= car_birth:\n",
    "            EFi_CO = 0.4574 * (V**-0.5215)\n",
    "            EFi_HC = 0.1300 * (V**-0.7265)\n",
    "            EFi_NOx = 2.7702 * (V**-0.3869)\n",
    "            EFi_PM10 = 0.0225 * (V**-0.7264)\n",
    "            EFi_PM2_5 = k * 0.0225 * (V**-0.7264)\n",
    "    elif (car_type == '승용') & (car_size == '중형'):\n",
    "        if car_birth <= 2004:\n",
    "            EFi_CO = 5.9672 * (V**-0.9534)\n",
    "            EFi_HC = 0.6523 * (V**-1.0167)\n",
    "            EFi_NOx = 24.3491 * (V**-0.7277)\n",
    "            EFi_PM10 = 0.3861 * (V**-0.5093)\n",
    "            EFi_PM2_5 = k * 0.3861 * (V**-0.5093)\n",
    "        elif car_birth == 2005:\n",
    "            EFi_CO = 0.6930 * (V**-0.7524)\n",
    "            EFi_HC = 0.1865 * (V**-0.6848)\n",
    "            EFi_NOx = 24.3491 * (V**-0.7277)\n",
    "            EFi_PM10 = 0.0723 * (V**-0.3420)\n",
    "            EFi_PM2_5 = k * 0.0723 * (V**-0.3420)\n",
    "        elif 2006 <= car_birth <= 2010:\n",
    "            EFi_CO = 0.5414 * (V**-0.7524)\n",
    "            EFi_HC = 0.0927 * (V**-0.6848)\n",
    "            EFi_NOx = 24.3491 * (V**-0.7277)\n",
    "            EFi_PM10 = 0.0396 * (V**-0.3420)\n",
    "            EFi_PM2_5 = k * 0.0396 * (V**-0.3420)\n",
    "        elif 2011 <= car_birth <= 2015:\n",
    "            EFi_CO = 0.5141 * (V**-0.6792)\n",
    "            EFi_HC = 0.3713 * (V**-0.7513)\n",
    "            EFi_NOx = 0.0003 * (V**2) - 0.0324 * V + 1.4773\n",
    "            EFi_PM10 = 0.0225 * (V**-0.7264)\n",
    "            EFi_PM2_5 = k * 0.0225 * (V**-0.7264)\n",
    "        elif 2016 <= car_birth:\n",
    "            EFi_CO = 0.4574 * (V**-0.5215)\n",
    "            EFi_HC = 0.1300 * (V**-0.7265)\n",
    "            EFi_NOx = 2.7702 * (V**-0.3869)\n",
    "            EFi_PM10 = 0.0225 * (V**-0.7264)\n",
    "            EFi_PM2_5 = k * 0.0225 * (V**-0.7264)\n",
    "    elif (car_type == '승용') & (car_size == '대형'):\n",
    "        if car_birth <= 2004:\n",
    "            EFi_CO = 5.9672 * (V**-0.9534)\n",
    "            EFi_HC = 0.6523 * (V**-1.0167)\n",
    "            EFi_NOx = 24.3491 * (V**-0.7277)\n",
    "            EFi_PM10 = 0.3861 * (V**-0.5093)\n",
    "            EFi_PM2_5 = k * 0.3861 * (V**-0.5093)\n",
    "        elif car_birth == 2005:\n",
    "            EFi_CO = 0.9609 * (V**-0.7524)\n",
    "            EFi_HC = 0.1865 * (V**-0.6848)\n",
    "            EFi_NOx = 24.3491 * (V**-0.7277)\n",
    "            EFi_PM10 = 0.0723 * (V**-0.3420)\n",
    "            EFi_PM2_5 = k * 0.0723 * (V**-0.3420)\n",
    "        elif 2006 <= car_birth <= 2010:\n",
    "            EFi_CO = 0.7507 * (V**-0.7524)\n",
    "            EFi_HC = 0.1554 * (V**-0.6848)\n",
    "            EFi_NOx = 24.3491 * (V**-0.7277)\n",
    "            EFi_PM10 = 0.0361 * (V**-0.3420)\n",
    "            EFi_PM2_5 = k * 0.0361 * (V**-0.3420)\n",
    "        elif 2011 <= car_birth <= 2015:\n",
    "            EFi_CO = 0.5141 * (V**-0.6792)\n",
    "            EFi_HC = 0.3713 * (V**-0.7513)\n",
    "            EFi_NOx = 0.0003 * (V**2) - 0.0324 * V + 1.4773\n",
    "            EFi_PM10 = 0.0225 * (V**-0.7264)\n",
    "            EFi_PM2_5 = k * 0.0225 * (V**-0.7264)\n",
    "        elif 2016 <= car_birth:\n",
    "            EFi_CO = 0.4574 * (V**-0.5215)\n",
    "            EFi_HC = 0.1300 * (V**-0.7265)\n",
    "            EFi_NOx = 2.7702 * (V**-0.3869)\n",
    "            EFi_PM10 = 0.0225 * (V**-0.7264)\n",
    "            EFi_PM2_5 = k * 0.0225 * (V**-0.7264)\n",
    "    elif (car_type == '승합') & (car_size == '소형'):\n",
    "        if car_birth <= 1990:\n",
    "            EFi_CO = 3.4539 * (V**-0.4266)\n",
    "            EFi_HC = 0.9835 * (V**-0.5096)\n",
    "            EFi_NOx = 24.3491 * (V**-0.7277)\n",
    "            EFi_PM10 = 1.1412 * (V**-0.4324)\n",
    "            EFi_PM2_5 = k * 1.1412 * (V**-0.4324)\n",
    "        elif 1991 <= car_birth <= 1995:\n",
    "            EFi_CO = 3.4539 * (V**-0.4266)\n",
    "            EFi_HC = 1.6313 * (V**-0.7298)\n",
    "            EFi_NOx = 24.3491 * (V**-0.7277)\n",
    "            EFi_PM10 = 0.5999 * (V**-0.3294)\n",
    "            EFi_PM2_5 = k * 0.5999 * (V**-0.3294)\n",
    "        elif 1996 <= car_birth <= 1997:\n",
    "            EFi_CO = 3.4539 * (V**-0.4266)\n",
    "            EFi_HC = 1.1293 * (V**-0.6588)\n",
    "            EFi_NOx = 24.3491 * (V**-0.7277)\n",
    "            EFi_PM10 = 0.6408 * (V**-0.3596)\n",
    "            EFi_PM2_5 = k * 0.6408 * (V**-0.3596)\n",
    "        elif 1998 <= car_birth <= 1999:\n",
    "            EFi_CO = 3.7564 * (V**-0.5175)\n",
    "            EFi_HC = 1.1293 * (V**-0.6588)\n",
    "            EFi_NOx = 24.3491 * (V**-0.7277)\n",
    "            EFi_PM10 = 0.5168 * (V**-0.3596)\n",
    "            EFi_PM2_5 = k * 0.5168 * (V**-0.3596)\n",
    "        elif 2000 <= car_birth <= 2003:\n",
    "            EFi_CO = 3.7564 * (V**-0.5175)\n",
    "            EFi_HC = 1.1293 * (V**-0.6588)\n",
    "            EFi_NOx = 24.3491 * (V**-0.7277)\n",
    "            EFi_PM10 = 0.2894 * (V**-0.3596)\n",
    "            EFi_PM2_5 = k * 0.2894 * (V**-0.3596)\n",
    "        elif 2004 <= car_birth <= 2007:\n",
    "            EFi_CO = 3.2797 * (V**-0.8887)\n",
    "            EFi_HC = 0.1807 * (V**-0.6588)\n",
    "            EFi_NOx = 24.3491 * (V**-0.7277)\n",
    "            EFi_PM10 = 0.2067 * (V**-0.3596)\n",
    "            EFi_PM2_5 = k * 0.2067 * (V**-0.3596)\n",
    "        elif 2008 <= car_birth <= 2011:\n",
    "            EFi_CO = 4.222 * (V**-1.4035)\n",
    "            EFi_HC = 0.829 * (V**-1.0961)\n",
    "            EFi_NOx = 24.3491 * (V**-0.7277)\n",
    "            EFi_PM10 = 0.3111 * (V**-0.5125)\n",
    "            EFi_PM2_5 = k * 0.3111 * (V**-0.5125)\n",
    "        elif 2012 <= car_birth:\n",
    "            EFi_CO = 4.222 * (V**-1.4035)\n",
    "            EFi_HC = 0.829 * (V**-1.0961)\n",
    "            EFi_NOx = 2.0217 * (V**-0.2645)\n",
    "            EFi_PM10 = 0.1119 * (V**-0.5125)\n",
    "            EFi_PM2_5 = k * 0.1119 * (V**-0.5125)\n",
    "    elif (car_type == '승합') & (car_size == '중형'):\n",
    "        if car_birth <= 1995:\n",
    "            EFi_CO = 32.550 * (V**-0.4944)\n",
    "            EFi_HC = 15.753 * (V**-0.5912)\n",
    "            EFi_NOx = 40.692 * (V**-0.5590)\n",
    "            EFi_PM10 = 5.4886 * (V**-0.5911)\n",
    "            EFi_PM2_5 = k * 5.4886 * (V**-0.5911)\n",
    "        elif 1996 <= car_birth <= 1997:\n",
    "            EFi_CO = 16.410 * (V**-0.3790)\n",
    "            EFi_HC = 4.2324 * (V**-0.3926)\n",
    "            EFi_NOx = 22.804 * (V**-0.4660)\n",
    "            EFi_PM10 = 1.6593 * (V**-0.3935)\n",
    "            EFi_PM2_5 = k * 1.6593 * (V**-0.3935)\n",
    "        elif 1998 <= car_birth <= 2000:\n",
    "            EFi_CO = 16.410 * (V**-0.3790)\n",
    "            EFi_HC = 4.2324 * (V**-0.3926)\n",
    "            EFi_NOx = 25.708 * (V**-0.4772)\n",
    "            EFi_PM10 = 1.6593 * (V**-0.3935)\n",
    "            EFi_PM2_5 = k * 1.6593 * (V**-0.3935)\n",
    "        elif 2001 <= car_birth <= 2004:\n",
    "            EFi_CO = 16.378 * (V**-0.5340)\n",
    "            EFi_HC = 5.8477 * (V**-0.5466)\n",
    "            EFi_NOx = 25.436 * (V**-0.4656)\n",
    "            EFi_PM10 = 1.2848 * (V**-0.4715)\n",
    "            EFi_PM2_5 = k * 1.2848 * (V**-0.4715)\n",
    "        elif 2005 <= car_birth <= 2007:\n",
    "            EFi_CO = 15.256 * (V**-0.7448)\n",
    "            EFi_HC = 2.0502 * (V**-0.6504)\n",
    "            EFi_NOx = 15.001 * (V**-0.4528)\n",
    "            EFi_PM10 = 0.2979 * (V**-0.4008)\n",
    "            EFi_PM2_5 = k * 1.0457 * (V**-0.4527)\n",
    "        elif 2008 <= car_birth <= 2010:\n",
    "            EFi_CO = 8.1771 * (V**-0.7725)\n",
    "            EFi_HC = 1.2991 * (V**-0.6538)\n",
    "            EFi_NOx = 17.3032 * (V**-0.3660)\n",
    "            EFi_PM10 = 0.0539 * (V**-0.5182)\n",
    "            EFi_PM2_5 = k * 0.0539 * (V**-0.5182)\n",
    "        elif 2011 <= car_birth <= 2014:\n",
    "            EFi_CO = 4.5201 * (V**-0.7279)\n",
    "            EFi_HC = 1.6826 * (V**-0.8045)\n",
    "            EFi_NOx = 17.2485 * (V**-0.4040)\n",
    "            EFi_PM10 = 0.0469 * (V**-0.4674)\n",
    "            EFi_PM2_5 = k * 0.0469 * (V**-0.4674)\n",
    "        elif 2015 <= car_birth:\n",
    "            EFi_CO = 7.4065 * (V**-0.5995)\n",
    "            EFi_HC = 2.4562 * (V**-1.3145)\n",
    "            EFi_NOx = 42.7393 * (V**-1.2949)\n",
    "            EFi_PM10 = 0.0081 * (V**-0.5182)\n",
    "            EFi_PM2_5 = k * 0.0081 * (V**-0.5182)\n",
    "    elif (car_type == '승합') & (car_size == '대형'):\n",
    "        if car_birth <= 1995:\n",
    "            EFi_CO = 28.205 * (V**-0.5337)\n",
    "            EFi_HC = 6.1146 * (V**-0.4979)\n",
    "            EFi_NOx = 41.346 * (V**-0.3645)\n",
    "            EFi_PM10 = 5.2158 * (V**-0.5048)\n",
    "            EFi_PM2_5 = k * 5.2158 * (V**-0.5048)\n",
    "        elif 1996 <= car_birth <= 1997:\n",
    "            EFi_CO = 23.205 * (V**-0.5425)\n",
    "            EFi_HC = 6.5657 * (V**-0.5431)\n",
    "            EFi_NOx = 42.1379 * (V**-0.3786)\n",
    "            EFi_PM10 = 2.4911 * (V**-0.4149)\n",
    "            EFi_PM2_5 = k * 2.4911 * (V**-0.4149)\n",
    "        elif 1998 <= car_birth <= 2000:\n",
    "            EFi_CO = 23.205 * (V**-0.5425)\n",
    "            EFi_HC = 6.5657 * (V**-0.5431)\n",
    "            EFi_NOx = 42.1379 * (V**-0.3786)\n",
    "            EFi_PM10 = 1.4432 * (V**-0.3870)\n",
    "            EFi_PM2_5 = k * 1.4432 * (V**-0.3870)\n",
    "        elif car_birth == 2001:\n",
    "            EFi_CO = 21.348 * (V**-0.5806)\n",
    "            EFi_HC = 6.6390 * (V**-0.5760)\n",
    "            EFi_NOx = 36.7191 * (V**-0.3548)\n",
    "            EFi_PM10 = 0.9375 * (V**-0.3910)\n",
    "            EFi_PM2_5 = k * 0.9375 * (V**-0.3910)\n",
    "        elif 2002 <= car_birth <= 2004:\n",
    "            EFi_CO = 21.348 * (V**-0.5806)\n",
    "            EFi_HC = 6.6390 * (V**-0.5760)\n",
    "            EFi_NOx = 36.7191 * (V**-0.3548)\n",
    "            EFi_PM10 = 1.1507 * (V**-0.4804)\n",
    "            EFi_PM2_5 = k * 1.1507 * (V**-0.4804)\n",
    "        elif 2005 <= car_birth <= 2007:\n",
    "            EFi_CO = 9.6452 * (V**-0.5291)\n",
    "            EFi_HC = 3.2339 * (V**-0.7436)\n",
    "            EFi_NOx = 30.5870 * (V**-0.3548)\n",
    "            EFi_PM10 = 0.4657 * (V**-0.5634)\n",
    "            EFi_PM2_5 = k * 0.4657 * (V**-0.5634)\n",
    "        elif 2008 <= car_birth <= 2010:\n",
    "            EFi_CO = 6.8493 * (V**-0.6506)\n",
    "            EFi_HC = 1.7177 * (V**-0.6781)\n",
    "            EFi_NOx = 40.7564 * (V**-0.4757)\n",
    "            EFi_PM10 = 0.2418 * (V**-0.4727)\n",
    "            EFi_PM2_5 = k * 0.2418 * (V**-0.4727)\n",
    "        elif 2011 <= car_birth <= 2014:\n",
    "            EFi_CO = 5.4607 * (V**-0.2990)\n",
    "            EFi_HC = 0.8863 * (V**-0.6933)\n",
    "            EFi_NOx = 40.3729 * (V**-0.5386)\n",
    "            EFi_PM10 = 0.2125 * (V**-0.4650)\n",
    "            EFi_PM2_5 = k * 0.2125 * (V**-0.4650)\n",
    "        elif 2015 <= car_birth:\n",
    "            EFi_CO = 11.4415 * (V**-0.8036)\n",
    "            EFi_HC = 0.6774 * (V**-0.8321)\n",
    "            EFi_NOx = 112.1229 * (V**-1.6393)\n",
    "            EFi_PM10 = 0.0363 * (V**-0.4727)\n",
    "            EFi_PM2_5 = k * 0.0363 * (V**-0.4727)\n",
    "    elif (car_type == '화물') & (car_size == '소형'):\n",
    "        if car_birth <= 1990:\n",
    "            EFi_CO = 4.5854 * (V**-0.3613)\n",
    "            EFi_HC = 0.4840 * (V**-0.2756)\n",
    "            EFi_NOx = 24.3491 * (V**-0.7277)\n",
    "            EFi_PM10 = 0.8117 * (V**-0.4071)\n",
    "            EFi_PM2_5 = k * 0.8117 * (V**-0.4071)\n",
    "        elif 1991 <= car_birth <= 1995:\n",
    "            EFi_CO = 3.4774 * (V**-0.3483)\n",
    "            EFi_HC = 0.4844 * (V**-0.3288)\n",
    "            EFi_NOx = 24.3491 * (V**-0.7277)\n",
    "            EFi_PM10 = 0.6188 * (V**-0.4540)\n",
    "            EFi_PM2_5 = k * 0.6188 * (V**-0.4540)\n",
    "        elif 1996 <= car_birth <= 1997:\n",
    "            EFi_CO = 3.3934 * (V**-0.3837)\n",
    "            EFi_HC = 0.4955 * (V**-0.3393)\n",
    "            EFi_NOx = 24.3491 * (V**-0.7277)\n",
    "            EFi_PM10 = 0.7037 * (V**-0.5357)\n",
    "            EFi_PM2_5 = k * 0.7037 * (V**-0.5357)\n",
    "        elif 1998 <= car_birth <= 1999:\n",
    "            EFi_CO = 4.0896 * (V**-0.6083)\n",
    "            EFi_HC = 0.6122 * (V**-0.5684)\n",
    "            EFi_NOx = 24.3491 * (V**-0.7277)\n",
    "            EFi_PM10 = 0.6157 * (V**-0.5357)\n",
    "            EFi_PM2_5 = k * 0.6157 * (V**-0.5357)\n",
    "        elif 2000 <= car_birth <= 2003:\n",
    "            EFi_CO = 4.0896 * (V**-0.6083)\n",
    "            EFi_HC = 0.6122 * (V**-0.5684)\n",
    "            EFi_NOx = 24.3491 * (V**-0.7277)\n",
    "            EFi_PM10 = 0.4838 * (V**-0.5357)\n",
    "            EFi_PM2_5 = k * 0.4838 * (V**-0.5357)\n",
    "        elif 2004 <= car_birth <= 2007:\n",
    "            EFi_CO = 3.2797 * (V**-0.8887)\n",
    "            EFi_HC = 0.1807 * (V**-0.6588)\n",
    "            EFi_NOx = 24.3491 * (V**-0.7277)\n",
    "            EFi_PM10 = 0.2067 * (V**-0.3596)\n",
    "            EFi_PM2_5 = k * 0.2067 * (V**-0.3596)\n",
    "        elif 2008 <= car_birth <= 2011:\n",
    "            EFi_CO = 4.222 * (V**-1.4035)\n",
    "            EFi_HC = 0.829 * (V**-1.0961)\n",
    "            EFi_NOx = 24.3491 * (V**-0.7277)\n",
    "            EFi_PM10 = 0.3111 * (V**-0.5125)\n",
    "            EFi_PM2_5 = k * 0.3111 * (V**-0.5125)\n",
    "        elif 2012 <= car_birth <= 2016:\n",
    "            EFi_CO = 4.222 * (V**-1.4035)\n",
    "            EFi_HC = 0.829 * (V**-1.0961)\n",
    "            EFi_NOx = 2.0217 * (V**-0.2645)\n",
    "            EFi_PM10 = 0.1119 * (V**-0.5125)\n",
    "            EFi_PM2_5 = k * 0.1119 * (V**-0.5125)\n",
    "# 수정중...\n",
    "# 화물 중형\n",
    "# 화물 대형"
   ]
  },
  {
   "cell_type": "code",
   "execution_count": null,
   "metadata": {},
   "outputs": [],
   "source": []
  },
  {
   "cell_type": "code",
   "execution_count": null,
   "metadata": {},
   "outputs": [],
   "source": []
  },
  {
   "cell_type": "code",
   "execution_count": 101,
   "metadata": {},
   "outputs": [],
   "source": [
    "# # about 20.5s\n",
    "# today_date = datetime.today().strftime(\"%Y.%m.%d_%p.%I.%M.%S\")\n",
    "# df1.iloc[:500000].to_csv(os.path.join(raw_fold, f'4등급 차량 리스트 양식 result 최종 Grade 추가({today_date})01.csv'), index=False, encoding='cp949')\n",
    "# df1.iloc[500000:].to_csv(os.path.join(raw_fold, f'4등급 차량 리스트 양식 result 최종 Grade 추가({today_date})02.csv'), index=False, encoding='cp949')"
   ]
  },
  {
   "attachments": {},
   "cell_type": "markdown",
   "metadata": {},
   "source": [
    "# 코드 마지막"
   ]
  }
 ],
 "metadata": {
  "kernelspec": {
   "display_name": "base",
   "language": "python",
   "name": "python3"
  },
  "language_info": {
   "codemirror_mode": {
    "name": "ipython",
    "version": 3
   },
   "file_extension": ".py",
   "mimetype": "text/x-python",
   "name": "python",
   "nbconvert_exporter": "python",
   "pygments_lexer": "ipython3",
   "version": "3.9.13"
  },
  "orig_nbformat": 4,
  "vscode": {
   "interpreter": {
    "hash": "ad2bdc8ecc057115af97d19610ffacc2b4e99fae6737bb82f5d7fb13d2f2c186"
   }
  }
 },
 "nbformat": 4,
 "nbformat_minor": 2
}
