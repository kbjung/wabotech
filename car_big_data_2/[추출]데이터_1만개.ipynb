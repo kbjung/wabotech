{
 "cells": [
  {
   "cell_type": "code",
   "execution_count": 27,
   "metadata": {},
   "outputs": [],
   "source": [
    "import os\n",
    "from glob import glob\n",
    "import pandas as pd\n",
    "from tqdm import tqdm"
   ]
  },
  {
   "cell_type": "code",
   "execution_count": 8,
   "metadata": {},
   "outputs": [],
   "source": [
    "df1_fold = 'D:/data/big2/BD1/df'\n",
    "df3_fold = 'D:/data/big2/BD3/df'"
   ]
  },
  {
   "cell_type": "code",
   "execution_count": 9,
   "metadata": {},
   "outputs": [
    {
     "data": {
      "text/plain": [
       "['D:/data/big2/BD1/df\\\\STD_BD_CAR_CURSTT.csv',\n",
       " 'D:/data/big2/BD1/df\\\\STD_BD_GRD4_CAR_CURSTT.csv',\n",
       " 'D:/data/big2/BD1/df\\\\STD_BD_GRD4_CAR_CURSTT_TOT.csv',\n",
       " 'D:/data/big2/BD1/df\\\\STD_BD_GRD4_ELPDSRC_CURSTT.csv',\n",
       " 'D:/data/big2/BD1/df\\\\STD_BD_GRD4_ERSR_RSLT.csv',\n",
       " 'D:/data/big2/BD1/df\\\\STD_BD_GRD4_EXHST_GAS_MSS.csv',\n",
       " 'D:/data/big2/BD1/df\\\\STD_BD_GRD4_EXHST_GAS_MSS_TOT.csv',\n",
       " 'D:/data/big2/BD1/df\\\\STD_BD_GRD4_MLSFC_RSLT.csv',\n",
       " 'D:/data/big2/BD1/df\\\\STD_BD_GRD4_RGN_CURSTT.csv',\n",
       " 'D:/data/big2/BD1/df\\\\STD_BD_GRD4_SI.csv']"
      ]
     },
     "execution_count": 9,
     "metadata": {},
     "output_type": "execute_result"
    }
   ],
   "source": [
    "glob(os.path.join(df1_fold, '*.csv'))"
   ]
  },
  {
   "cell_type": "code",
   "execution_count": 10,
   "metadata": {},
   "outputs": [
    {
     "data": {
      "text/plain": [
       "10"
      ]
     },
     "execution_count": 10,
     "metadata": {},
     "output_type": "execute_result"
    }
   ],
   "source": [
    "len(glob(os.path.join(df1_fold, '*.csv')))"
   ]
  },
  {
   "cell_type": "code",
   "execution_count": 14,
   "metadata": {},
   "outputs": [
    {
     "data": {
      "text/plain": [
       "'STD_BD_CAR_CURSTT.csv'"
      ]
     },
     "execution_count": 14,
     "metadata": {},
     "output_type": "execute_result"
    }
   ],
   "source": [
    "glob(os.path.join(df1_fold, '*.csv'))[0].split('\\\\')[-1]"
   ]
  },
  {
   "cell_type": "code",
   "execution_count": 40,
   "metadata": {},
   "outputs": [],
   "source": [
    "def sample10k(fold):\n",
    "    n = 0\n",
    "    total = len(glob(os.path.join(fold, '*.csv')))\n",
    "    print(f'폴더 : {fold}')\n",
    "    print()\n",
    "    for file_name in tqdm(glob(os.path.join(fold, '*.csv'))):\n",
    "        name = file_name.split('\\\\')[-1]\n",
    "        excel_name = name.split('.')[0] + '.xlsx'\n",
    "        if '[sp10k]' in name:\n",
    "            pass\n",
    "        else:\n",
    "            df = pd.read_csv(os.path.join(fold, name), nrows=10000)\n",
    "            df.to_excel(os.path.join(fold, '[sp10k]'+ excel_name), index=False)\n",
    "            print('[sp10k]'+ excel_name, '출력완료.')\n",
    "            n += 1\n",
    "    print()\n",
    "    print(f'{total}중 {n}개 출력완료.')"
   ]
  },
  {
   "cell_type": "code",
   "execution_count": 41,
   "metadata": {},
   "outputs": [
    {
     "name": "stdout",
     "output_type": "stream",
     "text": [
      "폴더 : D:/data/big2/BD1/df\n",
      "\n"
     ]
    },
    {
     "name": "stderr",
     "output_type": "stream",
     "text": [
      " 10%|█         | 1/10 [00:02<00:18,  2.10s/it]"
     ]
    },
    {
     "name": "stdout",
     "output_type": "stream",
     "text": [
      "[sp10k]STD_BD_CAR_CURSTT.xlsx 출력완료.\n"
     ]
    },
    {
     "name": "stderr",
     "output_type": "stream",
     "text": [
      " 20%|██        | 2/10 [00:06<00:27,  3.50s/it]"
     ]
    },
    {
     "name": "stdout",
     "output_type": "stream",
     "text": [
      "[sp10k]STD_BD_GRD4_CAR_CURSTT.xlsx 출력완료.\n"
     ]
    },
    {
     "name": "stderr",
     "output_type": "stream",
     "text": [
      " 30%|███       | 3/10 [00:06<00:14,  2.02s/it]"
     ]
    },
    {
     "name": "stdout",
     "output_type": "stream",
     "text": [
      "[sp10k]STD_BD_GRD4_CAR_CURSTT_TOT.xlsx 출력완료.\n"
     ]
    },
    {
     "name": "stderr",
     "output_type": "stream",
     "text": [
      " 40%|████      | 4/10 [00:08<00:12,  2.00s/it]"
     ]
    },
    {
     "name": "stdout",
     "output_type": "stream",
     "text": [
      "[sp10k]STD_BD_GRD4_ELPDSRC_CURSTT.xlsx 출력완료.\n"
     ]
    },
    {
     "name": "stderr",
     "output_type": "stream",
     "text": [
      " 50%|█████     | 5/10 [00:11<00:11,  2.32s/it]"
     ]
    },
    {
     "name": "stdout",
     "output_type": "stream",
     "text": [
      "[sp10k]STD_BD_GRD4_ERSR_RSLT.xlsx 출력완료.\n"
     ]
    },
    {
     "name": "stderr",
     "output_type": "stream",
     "text": [
      " 60%|██████    | 6/10 [00:18<00:15,  3.78s/it]"
     ]
    },
    {
     "name": "stdout",
     "output_type": "stream",
     "text": [
      "[sp10k]STD_BD_GRD4_EXHST_GAS_MSS.xlsx 출력완료.\n",
      "[sp10k]STD_BD_GRD4_EXHST_GAS_MSS_TOT.xlsx 출력완료.\n"
     ]
    },
    {
     "name": "stderr",
     "output_type": "stream",
     "text": [
      " 80%|████████  | 8/10 [00:21<00:05,  2.80s/it]"
     ]
    },
    {
     "name": "stdout",
     "output_type": "stream",
     "text": [
      "[sp10k]STD_BD_GRD4_MLSFC_RSLT.xlsx 출력완료.\n"
     ]
    },
    {
     "name": "stderr",
     "output_type": "stream",
     "text": [
      " 90%|█████████ | 9/10 [00:22<00:02,  2.18s/it]"
     ]
    },
    {
     "name": "stdout",
     "output_type": "stream",
     "text": [
      "[sp10k]STD_BD_GRD4_RGN_CURSTT.xlsx 출력완료.\n"
     ]
    },
    {
     "name": "stderr",
     "output_type": "stream",
     "text": [
      "100%|██████████| 10/10 [00:24<00:00,  2.40s/it]"
     ]
    },
    {
     "name": "stdout",
     "output_type": "stream",
     "text": [
      "[sp10k]STD_BD_GRD4_SI.xlsx 출력완료.\n",
      "\n",
      "10중 10개 출력완료.\n"
     ]
    },
    {
     "name": "stderr",
     "output_type": "stream",
     "text": [
      "\n"
     ]
    }
   ],
   "source": [
    "sample10k(df1_fold)"
   ]
  },
  {
   "cell_type": "code",
   "execution_count": 42,
   "metadata": {},
   "outputs": [
    {
     "name": "stdout",
     "output_type": "stream",
     "text": [
      "폴더 : D:/data/big2/BD3/df\n",
      "\n"
     ]
    },
    {
     "name": "stderr",
     "output_type": "stream",
     "text": [
      "  9%|▊         | 2/23 [00:00<00:04,  5.05it/s]"
     ]
    },
    {
     "name": "stdout",
     "output_type": "stream",
     "text": [
      "[sp10k]STD_BD_CAR_CURSTT_MOD.xlsx 출력완료.\n",
      "[sp10k]STD_BD_CAR_CURSTT_MOD2.xlsx 출력완료.\n",
      "[sp10k]STD_BD_CAR_PRET.xlsx 출력완료.\n"
     ]
    },
    {
     "name": "stderr",
     "output_type": "stream",
     "text": [
      " 17%|█▋        | 4/23 [00:00<00:02,  9.33it/s]"
     ]
    },
    {
     "name": "stdout",
     "output_type": "stream",
     "text": [
      "[sp10k]STD_BD_CAR_REG_MKCNT.xlsx 출력완료.\n",
      "[sp10k]STD_BD_ECO_CAR_PRET.xlsx 출력완료.\n"
     ]
    },
    {
     "name": "stderr",
     "output_type": "stream",
     "text": [
      " 26%|██▌       | 6/23 [00:01<00:03,  4.43it/s]"
     ]
    },
    {
     "name": "stdout",
     "output_type": "stream",
     "text": [
      "[sp10k]STD_BD_ENLF_VHC_ELPDSRC_MNG_INFO.xlsx 출력완료.\n"
     ]
    },
    {
     "name": "stderr",
     "output_type": "stream",
     "text": [
      " 30%|███       | 7/23 [00:02<00:06,  2.31it/s]"
     ]
    },
    {
     "name": "stdout",
     "output_type": "stream",
     "text": [
      "[sp10k]STD_BD_ERSR_RSLT.xlsx 출력완료.\n",
      "[sp10k]STD_BD_GRD4_DS_CRRLTN_CFFCNT.xlsx 출력완료.\n"
     ]
    },
    {
     "name": "stderr",
     "output_type": "stream",
     "text": [
      " 39%|███▉      | 9/23 [00:03<00:07,  1.78it/s]"
     ]
    },
    {
     "name": "stdout",
     "output_type": "stream",
     "text": [
      "[sp10k]STD_BD_GRD4_DS_INSP_WHL_ELPSD.xlsx 출력완료.\n"
     ]
    },
    {
     "name": "stderr",
     "output_type": "stream",
     "text": [
      " 43%|████▎     | 10/23 [00:06<00:12,  1.03it/s]"
     ]
    },
    {
     "name": "stdout",
     "output_type": "stream",
     "text": [
      "[sp10k]STD_BD_GRD4_LEM_PRIO_ORD_SELCT_CURSTT.xlsx 출력완료.\n"
     ]
    },
    {
     "name": "stderr",
     "output_type": "stream",
     "text": [
      " 48%|████▊     | 11/23 [00:08<00:15,  1.32s/it]"
     ]
    },
    {
     "name": "stdout",
     "output_type": "stream",
     "text": [
      "[sp10k]STD_BD_GRD4_LEM_PRIO_ORD_SELCT_CURSTT_TEST.xlsx 출력완료.\n",
      "[sp10k]STD_BD_GRD5_DS_CRRLTN_CFFCNT.xlsx 출력완료.\n",
      "[sp10k]STD_BD_GRD5_DS_DPF_CRRLTN_CFFCNT.xlsx 출력완료.\n",
      "[sp10k]STD_BD_GRD5_DS_ELPDSRC_CRRLTN_CFFCNT.xlsx 출력완료.\n"
     ]
    },
    {
     "name": "stderr",
     "output_type": "stream",
     "text": [
      " 65%|██████▌   | 15/23 [00:10<00:06,  1.27it/s]"
     ]
    },
    {
     "name": "stdout",
     "output_type": "stream",
     "text": [
      "[sp10k]STD_BD_GRD5_DS_INSP_WHL_ELPSD.xlsx 출력완료.\n",
      "[sp10k]STD_BD_GRD5_ELPDSRC_CURSTT.xlsx 출력완료.\n",
      "[sp10k]STD_BD_GRD5_LEM_N_MOD.xlsx 출력완료.\n"
     ]
    },
    {
     "name": "stderr",
     "output_type": "stream",
     "text": [
      " 78%|███████▊  | 18/23 [00:12<00:04,  1.25it/s]"
     ]
    },
    {
     "name": "stdout",
     "output_type": "stream",
     "text": [
      "[sp10k]STD_BD_GRD5_LEM_PRIO_ORD_SELCT_CURSTT.xlsx 출력완료.\n"
     ]
    },
    {
     "name": "stderr",
     "output_type": "stream",
     "text": [
      " 83%|████████▎ | 19/23 [00:15<00:04,  1.12s/it]"
     ]
    },
    {
     "name": "stdout",
     "output_type": "stream",
     "text": [
      "[sp10k]STD_BD_GRD5_LEM_PRIO_ORD_SELCT_CURSTT_TEST.xlsx 출력완료.\n"
     ]
    },
    {
     "name": "stderr",
     "output_type": "stream",
     "text": [
      " 87%|████████▋ | 20/23 [00:17<00:04,  1.33s/it]"
     ]
    },
    {
     "name": "stdout",
     "output_type": "stream",
     "text": [
      "[sp10k]STD_BD_LEM_ND_RUN_LMT_CURSTT.xlsx 출력완료.\n"
     ]
    },
    {
     "name": "stderr",
     "output_type": "stream",
     "text": [
      " 91%|█████████▏| 21/23 [00:18<00:02,  1.27s/it]"
     ]
    },
    {
     "name": "stdout",
     "output_type": "stream",
     "text": [
      "[sp10k]STD_BD_ORDITM_DSCL_CURSTT.xlsx 출력완료.\n"
     ]
    },
    {
     "name": "stderr",
     "output_type": "stream",
     "text": [
      " 96%|█████████▌| 22/23 [00:20<00:01,  1.37s/it]"
     ]
    },
    {
     "name": "stdout",
     "output_type": "stream",
     "text": [
      "[sp10k]STD_BD_SEASON_CRDN_NOCS_CURSTT.xlsx 출력완료.\n"
     ]
    },
    {
     "name": "stderr",
     "output_type": "stream",
     "text": [
      "100%|██████████| 23/23 [00:22<00:00,  1.04it/s]"
     ]
    },
    {
     "name": "stdout",
     "output_type": "stream",
     "text": [
      "[sp10k]STD_BD_SEASON_DSCL_RGN_CURSTT.xlsx 출력완료.\n",
      "\n",
      "23중 23개 출력완료.\n"
     ]
    },
    {
     "name": "stderr",
     "output_type": "stream",
     "text": [
      "\n"
     ]
    }
   ],
   "source": [
    "sample10k(df3_fold)"
   ]
  },
  {
   "attachments": {},
   "cell_type": "markdown",
   "metadata": {},
   "source": [
    "# code end"
   ]
  }
 ],
 "metadata": {
  "kernelspec": {
   "display_name": "base",
   "language": "python",
   "name": "python3"
  },
  "language_info": {
   "codemirror_mode": {
    "name": "ipython",
    "version": 3
   },
   "file_extension": ".py",
   "mimetype": "text/x-python",
   "name": "python",
   "nbconvert_exporter": "python",
   "pygments_lexer": "ipython3",
   "version": "3.9.13"
  },
  "orig_nbformat": 4
 },
 "nbformat": 4,
 "nbformat_minor": 2
}
