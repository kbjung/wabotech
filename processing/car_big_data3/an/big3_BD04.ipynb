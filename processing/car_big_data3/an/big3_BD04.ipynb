{
 "cells": [
  {
   "cell_type": "markdown",
   "metadata": {},
   "source": [
    "# 자동차 환경 빅데이터 3차\n",
    "- 과제2 : 건설기계 배출가스 관리 체계 구축\n",
    "- 과제4 : 배출가스 전문정비제도 관리체계 구축\n",
    "- 과제5 : 자동차 환경 빅데이터 제작사 공동 활용체게 구축"
   ]
  },
  {
   "cell_type": "markdown",
   "metadata": {},
   "source": [
    "# Library"
   ]
  },
  {
   "cell_type": "code",
   "execution_count": 1,
   "metadata": {},
   "outputs": [],
   "source": [
    "import pandas as pd\n",
    "import os, math\n",
    "import numpy as np\n",
    "from datetime import datetime\n",
    "import pyexasol"
   ]
  },
  {
   "cell_type": "code",
   "execution_count": 2,
   "metadata": {},
   "outputs": [],
   "source": [
    "pd.options.display.float_format = '{:.2f}'.format\n",
    "# pd.reset_option('display.float_format')"
   ]
  },
  {
   "cell_type": "code",
   "execution_count": 3,
   "metadata": {},
   "outputs": [],
   "source": [
    "# 경고문 없애는 코드\n",
    "# UserWarning: Workbook contains no default style, apply openpyxl's default warn(\"Workbook contains no default style, apply openpyxl's default\")\n",
    "import warnings\n",
    "warnings.simplefilter(\"ignore\")"
   ]
  },
  {
   "cell_type": "markdown",
   "metadata": {},
   "source": [
    "# Fold"
   ]
  },
  {
   "cell_type": "code",
   "execution_count": 4,
   "metadata": {},
   "outputs": [
    {
     "data": {
      "text/plain": [
       "{'pub_fold': 'D:/data/processing/big3/raw/public',\n",
       " 'raw_fold': 'D:/data/processing/big3/raw',\n",
       " 'raw2_fold': 'D:/data/processing/big3/raw/BD2',\n",
       " 'raw4_fold': 'D:/data/processing/big3/raw/BD4',\n",
       " 'raw5_fold': 'D:/data/processing/big3/raw/BD5',\n",
       " 'an_fold': 'D:/data/processing/big3/analysis',\n",
       " 'an2_fold:': 'D:/data/processing/big3/analysis/BD2',\n",
       " 'an4_fold:': 'D:/data/processing/big3/analysis/BD4',\n",
       " 'an5_fold:': 'D:/data/processing/big3/analysis/BD5',\n",
       " 'df_fold': 'D:/data/processing/big3/df',\n",
       " 'df2_fold': 'D:/data/processing/big3/df/BD2',\n",
       " 'df4_fold': 'D:/data/processing/big3/df/BD4',\n",
       " 'df5_fold': 'D:/data/processing/big3/df/BD5'}"
      ]
     },
     "execution_count": 4,
     "metadata": {},
     "output_type": "execute_result"
    }
   ],
   "source": [
    "pub_fold = 'D:/data/processing/big3/raw/public'\n",
    "raw_fold = 'D:/data/processing/big3/raw'\n",
    "raw2_fold = 'D:/data/processing/big3/raw/BD2'\n",
    "raw4_fold = 'D:/data/processing/big3/raw/BD4'\n",
    "raw5_fold = 'D:/data/processing/big3/raw/BD5'\n",
    "an_fold = 'D:/data/processing/big3/analysis'\n",
    "an2_fold = 'D:/data/processing/big3/analysis/BD2'\n",
    "an4_fold = 'D:/data/processing/big3/analysis/BD4'\n",
    "an5_fold = 'D:/data/processing/big3/analysis/BD5'\n",
    "df_fold = 'D:/data/processing/big3/df'\n",
    "df2_fold = 'D:/data/processing/big3/df/BD2'\n",
    "df4_fold = 'D:/data/processing/big3/df/BD4'\n",
    "df5_fold = 'D:/data/processing/big3/df/BD5'\n",
    "folds = {\n",
    "    'pub_fold':pub_fold, \n",
    "    'raw_fold':raw_fold, \n",
    "    'raw2_fold':raw2_fold, \n",
    "    'raw4_fold':raw4_fold, \n",
    "    'raw5_fold':raw5_fold, \n",
    "    'an_fold':an_fold, \n",
    "    'an2_fold:':an2_fold, \n",
    "    'an4_fold:':an4_fold, \n",
    "    'an5_fold:':an5_fold, \n",
    "    'df_fold':df_fold, \n",
    "    'df2_fold':df2_fold, \n",
    "    'df4_fold':df4_fold, \n",
    "    'df5_fold':df5_fold, \n",
    "    }\n",
    "folds"
   ]
  },
  {
   "cell_type": "markdown",
   "metadata": {},
   "source": [
    "# server"
   ]
  },
  {
   "cell_type": "code",
   "execution_count": 5,
   "metadata": {},
   "outputs": [],
   "source": [
    "# exasol db\n",
    "wd = pyexasol.connect(dsn='dev.openankus.org:8563', user='sys', password='djslzja', compression=True, schema='VSYSD')\n",
    "wz = pyexasol.connect(dsn='dev.openankus.org:8563', user='sys', password='djslzja', compression=True, schema='VSYSZ')\n",
    "we = pyexasol.connect(dsn='dev.openankus.org:8563', user='sys', password='djslzja', compression=True, schema='VSYSE')"
   ]
  },
  {
   "cell_type": "markdown",
   "metadata": {},
   "source": [
    "## 분석 결과 출력 옵션"
   ]
  },
  {
   "cell_type": "code",
   "execution_count": 477,
   "metadata": {},
   "outputs": [],
   "source": [
    "# y : 출력\n",
    "# 그 외 : 미출력\n",
    "export_opt = 'y'"
   ]
  },
  {
   "cell_type": "markdown",
   "metadata": {},
   "source": [
    "# EDA\n",
    "+ 과제2\n",
    "    - 건설기계 인증자료\n",
    "    - 건설기계 인증대장\n",
    "+ 과제4\n",
    "    - 자동차전문정비 : STD_TB_ERR_RES\n",
    "    - 자동차전문정비상세 : STD_TB_ERR_RES_DET\n",
    "+ 과제5\n",
    "    - 구조변경검사 : STD_DLM_TB_ERP_GUBUN_BAECHUL"
   ]
  },
  {
   "cell_type": "markdown",
   "metadata": {},
   "source": [
    "# 과제4"
   ]
  },
  {
   "cell_type": "markdown",
   "metadata": {},
   "source": [
    "## 로드"
   ]
  },
  {
   "cell_type": "markdown",
   "metadata": {},
   "source": [
    "### [❌] 등록정보"
   ]
  },
  {
   "cell_type": "code",
   "execution_count": 7,
   "metadata": {},
   "outputs": [],
   "source": [
    "# # 5m 31.4s\n",
    "# car = wd.export_to_pandas(\"SELECT VIN, MANP_MNG_NO, VHCL_ERSR_YN, FRST_REG_YMD, YRIDNW, VHCTY_CD, PURPS_CD2, BSPL_STDG_CD, EXHST_GAS_GRD_CD FROM STD_CEG_CAR_MIG;\")\n",
    "# car_ch_col = {\n",
    "#     'VIN':'차대번호', \n",
    "#     'MANP_MNG_NO':'제원관리번호', \n",
    "#     'VHCL_ERSR_YN':'차량말소여부',\n",
    "#     'FRST_REG_YMD':'최초등록일자',\n",
    "#     'YRIDNW':'연식', \n",
    "#     'VHCTY_CD':'차종', \n",
    "#     'PURPS_CD2':'용도', \n",
    "#     'BSPL_STDG_CD':'법정동코드', \n",
    "#     'EXHST_GAS_GRD_CD':'배출가스등급', \n",
    "\n",
    "#     # 'EXHST_GAS_CERT_NO':'배출가스인증번호',\n",
    "#     # 'VHCL_FBCTN_YMD':'제작일자', \n",
    "#     # 'VHCL_MNG_NO':'차량관리번호', \n",
    "#     # 'VHRNO':'자동차등록번호',\n",
    "#     # 'EXTGAS_INSP_VLD_YMD':'검사유효일',\n",
    "#     # 'VHCL_OWNR_CL_CD':'소유자구분',  \n",
    "# }\n",
    "# carr = car.rename(columns=car_ch_col)\n",
    "\n",
    "# print(car.shape)\n",
    "# print(carr.columns)\n",
    "# print('data load : STD_CEG_CAR_MIG')\n",
    "# print()\n",
    "\n",
    "# #### 등급, 차종, 용도 코드 변환\n",
    "# print(carr['배출가스등급'].unique())\n",
    "# ## 배출가스등급 코드 변환\n",
    "# grd_dict = {\n",
    "#     'A0501':'1', \n",
    "#     'A0502':'2', \n",
    "#     'A0503':'3', \n",
    "#     'A0504':'4', \n",
    "#     'A0505':'5', \n",
    "#     'A05T2':'2',\n",
    "#     'A05T3':'3', \n",
    "#     'A05T4':'4', \n",
    "#     'A05T5':'5', \n",
    "#     'A05X':'X', \n",
    "# }\n",
    "# carr['배출가스등급'] = carr['배출가스등급'].replace(grd_dict)\n",
    "# print(carr['배출가스등급'].unique())\n",
    "\n",
    "# print(carr['차종'].unique())\n",
    "# # 4.0s\n",
    "# ## 차종 코드 변환\n",
    "# cd_dict = {\n",
    "#     'A31M':'이륜', \n",
    "#     'A31P':'승용', \n",
    "#     'A31S':'특수', \n",
    "#     'A31T':'화물', \n",
    "#     'A31V':'승합'\n",
    "# }\n",
    "# carr['차종'] = carr['차종'].replace(cd_dict)\n",
    "# print(carr['차종'].unique())\n",
    "\n",
    "# print(carr['용도'].unique())\n",
    "# ## 용도 코드 변환\n",
    "# purps_dict = {\n",
    "#     'A08P':'개인용', \n",
    "#     'A08B':'영업용', \n",
    "#     'A08O':'관용',\n",
    "# }\n",
    "# carr['용도'] = carr['용도'].replace(purps_dict)\n",
    "# print(carr['용도'].unique())"
   ]
  },
  {
   "cell_type": "markdown",
   "metadata": {},
   "source": [
    "### [❌] 제원정보"
   ]
  },
  {
   "cell_type": "code",
   "execution_count": 8,
   "metadata": {},
   "outputs": [],
   "source": [
    "# # 4.1s\n",
    "# src = wd.export_to_pandas(\"SELECT MANP_MNG_NO, FUEL_CD, MNFCTR_NM, VHCTY_TY_CD2, VHCNM, VHCL_FRM, EGIN_TY, TOTL_WGHT, DSPLVL, EGIN_OTPT  FROM STD_CEG_CAR_SRC_MIG;\")\n",
    "# src_ch_col = {\n",
    "#     'MANP_MNG_NO':'제원관리번호', \n",
    "#     'FUEL_CD':'연료', \n",
    "#     'MNFCTR_NM':'제작사명', \n",
    "#     'VHCTY_TY_CD2':'차종유형', \n",
    "#     'VHCNM':'차명', \n",
    "#     'VHCL_FRM':'자동차형식', \n",
    "#     'EGIN_TY':'엔진형식', \n",
    "#     'TOTL_WGHT':'총중량', \n",
    "#     'DSPLVL':'배기량', \n",
    "#     'EGIN_OTPT':'엔진출력', \n",
    "\n",
    "#     # 'VHCTY_CL_CD':'차종분류',\n",
    "#     # 'CRYNG_WGHT':'적재중량',\n",
    "# }\n",
    "# srcr = src.rename(columns=src_ch_col)\n",
    "\n",
    "# print(srcr.shape)\n",
    "# print(srcr.columns)\n",
    "# print('data load : STD_CEG_CAR_SRC_MIG')\n",
    "# print()\n",
    "\n",
    "# #### 연료, 차종유형 코드 변화\n",
    "# print(srcr['연료'].unique())\n",
    "# # 7.9s\n",
    "# ## 연료 코드 변환\n",
    "# fuel_dict = {\n",
    "#     'A90GS':'휘발유', \n",
    "#     'A91DS':'경유',\n",
    "#     'A92LP':'LPG(액화석유가스)', \n",
    "#     'A90GH':'휘발유 하이브리드', \n",
    "#     'A93EV':'전기', \n",
    "#     'A91DH':'경유 하이브리드', \n",
    "#     'A92CN':'CNG(압축천연가스)', \n",
    "#     'A93HD':'수소', \n",
    "#     'A92LH':'LPG 하이브리드', \n",
    "#     'A94OT':'기타연료', \n",
    "#     'A92CH':'CNG 하이브리드',\n",
    "#     'A90AC':'알코올', \n",
    "#     'A93SH':'태양열', \n",
    "#     'A91KS':'등유', \n",
    "#     'A92LN':'LNG(액화천연가스)', \n",
    "#     'A90PH':'플러그인 하이브리드', \n",
    "# }\n",
    "# srcr['연료'] = srcr['연료'].replace(fuel_dict)\n",
    "# print(srcr['연료'].unique())\n",
    "\n",
    "# print(srcr['차종유형'].unique())\n",
    "# ## 차종유형 코드 변환\n",
    "# ty_dict = {\n",
    "#     'A30C':'경형', \n",
    "#     'A30L':'대형', \n",
    "#     'A30M':'중형', \n",
    "#     'A30S':'소형',\n",
    "# }\n",
    "# srcr['차종유형'] = srcr['차종유형'].replace(ty_dict)\n",
    "# print(srcr['차종유형'].unique())"
   ]
  },
  {
   "cell_type": "markdown",
   "metadata": {},
   "source": [
    "### 등록&제원(RH제공)"
   ]
  },
  {
   "cell_type": "markdown",
   "metadata": {},
   "source": [
    "#### from DB"
   ]
  },
  {
   "cell_type": "code",
   "execution_count": 9,
   "metadata": {},
   "outputs": [
    {
     "name": "stdout",
     "output_type": "stream",
     "text": [
      "20231231\n",
      "\n",
      "Index(['차대번호', '제원관리번호', '차량말소여부', '최초등록일자', '연식', '차종', '용도', '법정동코드',\n",
      "       '배출가스등급', '연료', '제작사명', '차종유형', '차명', '자동차형식', '엔진형식', '총중량', '배기량',\n",
      "       '엔진출력', '시도명', '시군구명', '차량관리번호'],\n",
      "      dtype='object')\n",
      "(31498871, 21)\n",
      "data load : STD_CEG_GRD_LST\n"
     ]
    }
   ],
   "source": [
    "# 3m 46.9s\n",
    "cs_raw = wz.export_to_pandas(\"SELECT CLS_YMD, VIN, MANP_MNG_NO, VHCL_ERSR_YN, FRST_REG_YMD, YRIDNW, VHCTY_CD, PURPS_CD2, BSPL_STDG_CD, EXHST_GAS_GRD_CD, FUEL_CD, MNFCTR_NM, VHCTY_TY_CD2, VHCNM, VHCL_FRM, EGIN_TY, TOTL_WGHT, DSPLVL, EGIN_OTPT, STDG_CTPV_NM, STDG_SGG_NM, VHCL_MNG_NO FROM STD_CEG_GRD_LST WHERE CLS_YMD = (SELECT MAX(CLS_YMD) FROM STD_CEG_GRD_LST);\")\n",
    "cs_raw_dict = {\n",
    "    'CLS_YMD':'원천데이터생성일자',\n",
    "\n",
    "    'VIN':'차대번호', \n",
    "    'MANP_MNG_NO':'제원관리번호', \n",
    "    'VHCL_ERSR_YN':'차량말소여부',\n",
    "    'FRST_REG_YMD':'최초등록일자',\n",
    "    'YRIDNW':'연식', \n",
    "    'VHCTY_CD':'차종', \n",
    "    'PURPS_CD2':'용도', \n",
    "    'BSPL_STDG_CD':'법정동코드', \n",
    "    'EXHST_GAS_GRD_CD':'배출가스등급', \n",
    "    'FUEL_CD':'연료',\n",
    "    'MNFCTR_NM':'제작사명', \n",
    "    'VHCTY_TY_CD2':'차종유형', \n",
    "    'VHCNM':'차명', \n",
    "    'VHCL_FRM':'자동차형식', \n",
    "    'EGIN_TY':'엔진형식', \n",
    "    'TOTL_WGHT':'총중량',\n",
    "    'DSPLVL':'배기량', \n",
    "    'EGIN_OTPT':'엔진출력',\n",
    "\n",
    "    # 'EXHST_GAS_CERT_NO':'배출가스인증번호',\n",
    "    # 'VHCL_FBCTN_YMD':'제작일자', \n",
    "    'VHCL_MNG_NO':'차량관리번호', \n",
    "    # 'VHRNO':'자동차등록번호',\n",
    "    # 'EXTGAS_INSP_VLD_YMD':'검사유효일',\n",
    "    # 'VHCL_OWNR_CL_CD':'소유자구분',\n",
    "\n",
    "    # 'VHCTY_CL_CD':'차종분류',\n",
    "    # 'CRYNG_WGHT':'적재중량',\n",
    "\n",
    "    'STDG_CTPV_NM':'시도명',\n",
    "    'STDG_SGG_NM':'시군구명',\n",
    "    # 'LEM_KND_CD':'저공해조치종류코드',\n",
    "    # 'STRCT_CHG_YN':'구조변경여부',\n",
    "    # 'FUEL_G_NM':'연료_G_명',\n",
    "    # 'TKCAR_PSCP':'승차정원',\n",
    "    # 'OVRLH':'전장',\n",
    "    # 'OVRWD':'전폭',\n",
    "    # 'OVRHG':'전고',\n",
    "    # 'FBCTN_NTN_NM':'제작국명',\n",
    "    # 'BOHUM_YN':'보훈여부',\n",
    "}\n",
    "\n",
    "cs = cs_raw.rename(columns=cs_raw_dict)\n",
    "\n",
    "print(cs_raw['CLS_YMD'].unique()[0])\n",
    "print()\n",
    "cs = cs.drop('원천데이터생성일자', axis=1)\n",
    "print(cs.columns)\n",
    "print(cs.shape)\n",
    "print('data load : STD_CEG_GRD_LST')"
   ]
  },
  {
   "cell_type": "code",
   "execution_count": 10,
   "metadata": {},
   "outputs": [
    {
     "data": {
      "text/plain": [
       "(31498871, 21)"
      ]
     },
     "execution_count": 10,
     "metadata": {},
     "output_type": "execute_result"
    }
   ],
   "source": [
    "cs.drop_duplicates().shape"
   ]
  },
  {
   "cell_type": "code",
   "execution_count": 11,
   "metadata": {},
   "outputs": [
    {
     "name": "stdout",
     "output_type": "stream",
     "text": [
      "['A0505' 'A0504' 'A0501' 'A0503' 'A0502' '9999']\n",
      "['5' '4' '1' '3' '2' '9999']\n",
      "\n",
      "['A31T' 'A31P' 'A31V' 'A31S']\n",
      "['화물' '승용' '승합' '특수']\n",
      "\n",
      "['A08P' 'A08B' 'A08O']\n",
      "\n",
      "['A91DS' 'A92LP' 'A90GS' 'A92CN' 'A90GH' 'A93EV' '9999' 'A92LH' 'A94OT'\n",
      " 'A91DH' 'A93HD' 'A92CH' 'A90AC' 'A91KS' 'A93SH' 'A92LN']\n",
      "['경유' 'LPG(액화석유가스)' '휘발유' 'CNG(압축천연가스)' '휘발유 하이브리드' '전기' '9999'\n",
      " 'LPG 하이브리드' '기타연료' '경유 하이브리드' '수소' 'CNG 하이브리드' '알코올' '등유' '태양열'\n",
      " 'LNG(액화천연가스)']\n",
      "\n",
      "['A30S' 'A30L' 'A30M' 'A30C' '9999']\n",
      "['소형' '대형' '중형' '경형' '9999']\n"
     ]
    }
   ],
   "source": [
    "# 31.8s\n",
    "# 코드 변환\n",
    "## 배출가스등급 코드 변환\n",
    "print(cs['배출가스등급'].unique())\n",
    "grd_dict = {\n",
    "    'A0501':'1', \n",
    "    'A0502':'2', \n",
    "    'A0503':'3', \n",
    "    'A0504':'4', \n",
    "    'A0505':'5', \n",
    "    'A05T2':'2',\n",
    "    'A05T3':'3', \n",
    "    'A05T4':'4', \n",
    "    'A05T5':'5', \n",
    "    'A05X':'X', \n",
    "}\n",
    "cs['배출가스등급'] = cs['배출가스등급'].replace(grd_dict)\n",
    "print(cs['배출가스등급'].unique())\n",
    "print()\n",
    "\n",
    "## 차종 코드 변환\n",
    "print(cs['차종'].unique())\n",
    "cd_dict = {\n",
    "    'A31M':'이륜', \n",
    "    'A31P':'승용', \n",
    "    'A31S':'특수', \n",
    "    'A31T':'화물', \n",
    "    'A31V':'승합'\n",
    "}\n",
    "cs['차종'] = cs['차종'].replace(cd_dict)\n",
    "print(cs['차종'].unique())\n",
    "print()\n",
    "\n",
    "## 용도 코드 변환\n",
    "print(cs['용도'].unique())\n",
    "purps_dict = {\n",
    "    'A08P':'개인용', \n",
    "    'A08B':'영업용', \n",
    "    'A08O':'관용',\n",
    "}\n",
    "cs['용도'] = cs['용도'].replace(purps_dict)\n",
    "cs['용도'].unique()\n",
    "print()\n",
    "\n",
    "# ## 소유자구분 코드 변환\n",
    "# print(cs['소유자구분'].unique())\n",
    "# ownr_dict = {\n",
    "#     'A27B':'사업자', \n",
    "#     'A27F':'외국인', \n",
    "#     'A27L':'법인', \n",
    "#     'A27O':'기타', \n",
    "#     'A27R':'주민', \n",
    "# }\n",
    "# cs['소유자구분'] = cs['소유자구분'].replace(ownr_dict)\n",
    "# print(cs['소유자구분'].unique())\n",
    "# print()\n",
    "\n",
    "## 연료 코드 변환\n",
    "print(cs['연료'].unique())\n",
    "fuel_dict = {\n",
    "    'A90GS':'휘발유', \n",
    "    'A91DS':'경유',\n",
    "    'A92LP':'LPG(액화석유가스)', \n",
    "    'A90GH':'휘발유 하이브리드', \n",
    "    'A93EV':'전기', \n",
    "    'A91DH':'경유 하이브리드', \n",
    "    'A92CN':'CNG(압축천연가스)', \n",
    "    'A93HD':'수소', \n",
    "    'A92LH':'LPG 하이브리드', \n",
    "    'A94OT':'기타연료', \n",
    "    'A92CH':'CNG 하이브리드',\n",
    "    'A90AC':'알코올', \n",
    "    'A93SH':'태양열', \n",
    "    'A91KS':'등유', \n",
    "    'A92LN':'LNG(액화천연가스)', \n",
    "    'A90PH':'플러그인 하이브리드', \n",
    "}\n",
    "cs['연료'] = cs['연료'].replace(fuel_dict)\n",
    "print(cs['연료'].unique())\n",
    "print()\n",
    "\n",
    "## 차종유형 코드 변환\n",
    "print(cs['차종유형'].unique())\n",
    "ty_dict = {\n",
    "    'A30C':'경형', \n",
    "    'A30L':'대형', \n",
    "    'A30M':'중형', \n",
    "    'A30S':'소형',\n",
    "}\n",
    "cs['차종유형'] = cs['차종유형'].replace(ty_dict)\n",
    "print(cs['차종유형'].unique())"
   ]
  },
  {
   "cell_type": "markdown",
   "metadata": {},
   "source": [
    "### 정기검사"
   ]
  },
  {
   "cell_type": "code",
   "execution_count": 12,
   "metadata": {},
   "outputs": [
    {
     "name": "stdout",
     "output_type": "stream",
     "text": [
      "(67890732, 24)\n",
      "Index(['차대번호', '검사일자', '주행거리', '검사종류', '검사방법', '검사판정', '무부하매연판정1', '무부하매연판정2',\n",
      "       '무부하매연판정3', '무부하매연판정4', '무부하매연판정5', '무부하매연판정6', '무부하매연측정치1',\n",
      "       '무부하매연측정치2', '무부하매연측정치3', '무부하매연측정치4', '무부하매연측정치5', '무부하매연측정치6',\n",
      "       '무부하매연허용치1', '무부하매연허용치2', '무부하매연허용치3', '무부하매연허용치4', '무부하매연허용치5',\n",
      "       '무부하매연허용치6'],\n",
      "      dtype='object')\n",
      "data load : STD_TB_JGT_HIS\n"
     ]
    }
   ],
   "source": [
    "# 3m 34.9s\n",
    "# 4m 50.5s(2024.01.04)\n",
    "# jgt = wz.export_to_pandas(\"SELECT VIN, FDRM_INSP_YMD, FDRM_INSP_JGMT, FDRM_NLOD_SMO_MSTVL1, FDRM_NLOD_SMO_MSTVL2, FDRM_NLOD_SMO_MSTVL3, FDRM_DRVNG_DSTNC FROM VSYSZ.STD_TB_JGT_HIS WHERE ROWNUM <= 10000;\") # 테스트용\n",
    "jgt = wz.export_to_pandas(\"SELECT VIN, FDRM_INSP_YMD, FDRM_DRVNG_DSTNC, FDRM_INSP_KND_CD, FDRM_INSP_INSP_MTHD_CD, FDRM_INSP_JGMT, FDRM_NLOD_SMO_JT_YN1, FDRM_NLOD_SMO_JT_YN2, FDRM_NLOD_SMO_JT_YN3, FDRM_NLOD_SMO_JT_YN4, FDRM_NLOD_SMO_JT_YN5, FDRM_NLOD_SMO_JT_YN6, FDRM_NLOD_SMO_MSTVL1, FDRM_NLOD_SMO_MSTVL2, FDRM_NLOD_SMO_MSTVL3, FDRM_NLOD_SMO_MSTVL4, FDRM_NLOD_SMO_MSTVL5, FDRM_NLOD_SMO_MSTVL6, FDRM_NLOD_SMO_PRMVL1, FDRM_NLOD_SMO_PRMVL2, FDRM_NLOD_SMO_PRMVL3, FDRM_NLOD_SMO_PRMVL4, FDRM_NLOD_SMO_PRMVL5, FDRM_NLOD_SMO_PRMVL6 FROM STD_TB_JGT_HIS;\")\n",
    "jgt_ch_col = {\n",
    "    'VIN':'차대번호', \n",
    "    'FDRM_INSP_YMD':'검사일자', \n",
    "    'FDRM_DRVNG_DSTNC':'주행거리', \n",
    "    'FDRM_INSP_KND_CD':'검사종류', \n",
    "    'FDRM_INSP_INSP_MTHD_CD':'검사방법', \n",
    "    'FDRM_INSP_JGMT':'검사판정', \n",
    "\n",
    "    'FDRM_NLOD_SMO_JT_YN1':'무부하매연판정1', \n",
    "    'FDRM_NLOD_SMO_JT_YN2':'무부하매연판정2', \n",
    "    'FDRM_NLOD_SMO_JT_YN3':'무부하매연판정3', \n",
    "    'FDRM_NLOD_SMO_JT_YN4':'무부하매연판정4', \n",
    "    'FDRM_NLOD_SMO_JT_YN5':'무부하매연판정5', \n",
    "    'FDRM_NLOD_SMO_JT_YN6':'무부하매연판정6', \n",
    "    'FDRM_NLOD_SMO_MSTVL1':'무부하매연측정치1', \n",
    "    'FDRM_NLOD_SMO_MSTVL2':'무부하매연측정치2', \n",
    "    'FDRM_NLOD_SMO_MSTVL3':'무부하매연측정치3', \n",
    "    'FDRM_NLOD_SMO_MSTVL4':'무부하매연측정치4', \n",
    "    'FDRM_NLOD_SMO_MSTVL5':'무부하매연측정치5', \n",
    "    'FDRM_NLOD_SMO_MSTVL6':'무부하매연측정치6', \n",
    "    'FDRM_NLOD_SMO_PRMVL1':'무부하매연허용치1', \n",
    "    'FDRM_NLOD_SMO_PRMVL2':'무부하매연허용치2', \n",
    "    'FDRM_NLOD_SMO_PRMVL3':'무부하매연허용치3', \n",
    "    'FDRM_NLOD_SMO_PRMVL4':'무부하매연허용치4', \n",
    "    'FDRM_NLOD_SMO_PRMVL5':'무부하매연허용치5', \n",
    "    'FDRM_NLOD_SMO_PRMVL6':'무부하매연허용치6', \n",
    "}\n",
    "jgtr = jgt.rename(columns=jgt_ch_col)\n",
    "\n",
    "print(jgtr.shape)\n",
    "print(jgtr.columns)\n",
    "print('data load : STD_TB_JGT_HIS')"
   ]
  },
  {
   "cell_type": "code",
   "execution_count": 13,
   "metadata": {},
   "outputs": [
    {
     "data": {
      "text/plain": [
       "count                       67890732\n",
       "unique                          3629\n",
       "top       2017-10-10 00:00:00.000000\n",
       "freq                           38867\n",
       "Name: 검사일자, dtype: object"
      ]
     },
     "execution_count": 13,
     "metadata": {},
     "output_type": "execute_result"
    }
   ],
   "source": [
    "# 2011.10.26 ~ 2023.11.21(2024.01.04)\n",
    "jgtr['검사일자'].describe()"
   ]
  },
  {
   "cell_type": "markdown",
   "metadata": {},
   "source": [
    "#### 검사종류, 검사방법 코드 변환"
   ]
  },
  {
   "cell_type": "code",
   "execution_count": 14,
   "metadata": {},
   "outputs": [
    {
     "name": "stdout",
     "output_type": "stream",
     "text": [
      "['A1904' 'A1902' 'A1903' 'A1901']\n",
      "['정기검사' '재검사(2부재검사)' '정기(경과)검사' '재검사(1부재검사)']\n",
      "['A18A' 'A18C' 'A18B']\n",
      "['무부하검사(TSI)' '무부하검사(정지가동)' '무부하검사(급가속)']\n"
     ]
    }
   ],
   "source": [
    "print(jgtr['검사종류'].unique())\n",
    "## 검사종류 코드 변환\n",
    "knd_dict = {\n",
    "    'A1901':'재검사(1부재검사)', \n",
    "    'A1902':'재검사(2부재검사)', \n",
    "    'A1903':'정기(경과)검사', \n",
    "    'A1904':'정기검사', \n",
    "}\n",
    "jgtr['검사종류'] = jgtr['검사종류'].replace(knd_dict)\n",
    "print(jgtr['검사종류'].unique())\n",
    "\n",
    "print(jgtr['검사방법'].unique())\n",
    "## 검사방법 코드 변환\n",
    "mthd_dict = {\n",
    "    'A18A':'무부하검사(TSI)',\n",
    "    'A18B':'무부하검사(급가속)',\n",
    "    'A18C':'무부하검사(정지가동)', \n",
    "}\n",
    "jgtr['검사방법'] = jgtr['검사방법'].replace(mthd_dict)\n",
    "print(jgtr['검사방법'].unique())"
   ]
  },
  {
   "cell_type": "markdown",
   "metadata": {},
   "source": [
    "### 정밀검사"
   ]
  },
  {
   "cell_type": "code",
   "execution_count": 15,
   "metadata": {},
   "outputs": [
    {
     "name": "stdout",
     "output_type": "stream",
     "text": [
      "(105849354, 24)\n",
      "Index(['차대번호', '검사일자', '주행거리', '검사종류', '검사방법', '검사판정', '무부하매연판정1', '무부하매연판정2',\n",
      "       '무부하매연판정3', '무부하매연판정4', '무부하매연판정5', '무부하매연판정6', '무부하매연측정치1',\n",
      "       '무부하매연측정치2', '무부하매연측정치3', '무부하매연측정치4', '무부하매연측정치5', '무부하매연측정치6',\n",
      "       '무부하매연허용치1', '무부하매연허용치2', '무부하매연허용치3', '무부하매연허용치4', '무부하매연허용치5',\n",
      "       '무부하매연허용치6'],\n",
      "      dtype='object')\n",
      "data load : STD_TB_EET_HIS_ME\n"
     ]
    }
   ],
   "source": [
    "# 2m 51.0s\n",
    "# 10m 32.4s(2024.01.04)\n",
    "# eet = wb.export_to_pandas(\"SELECT VIN, PRCINSP_YMD, PRCINSP_JGMT, PREC_NLOD_SMO_MSTVL1, PREC_NLOD_SMO_MSTVL2, PREC_NLOD_SMO_MSTVL3, PRCINSP_DRVNG_DSTNC FROM STD_TB_EET_HIS_ME_ME WHERE ROWNUM <= 10000;\") # 테스트용\n",
    "# eet = wd.export_to_pandas(\"SELECT VIN, PRCINSP_YMD, PRCINSP_JGMT, PREC_NLOD_SMO_MSTVL1, PREC_NLOD_SMO_MSTVL2, PREC_NLOD_SMO_MSTVL3, PRCINSP_DRVNG_DSTNC FROM STD_TB_EET_HIS_ME;\")\n",
    "eet = wz.export_to_pandas(\"SELECT VIN, PRCINSP_YMD, PRCINSP_DRVNG_DSTNC, PRCINSP_KND_CD, PRCINSP_MSRMT_MTHD_CD, PRCINSP_JGMT, PREC_NLOD_SMO_JT_YN1, PREC_NLOD_SMO_JT_YN2, PREC_NLOD_SMO_JT_YN3, PREC_NLOD_SMO_JT_YN4, PREC_NLOD_SMO_JT_YN5, PREC_NLOD_SMO_JT_YN6, PREC_NLOD_SMO_MSTVL1, PREC_NLOD_SMO_MSTVL2, PREC_NLOD_SMO_MSTVL3, PREC_NLOD_SMO_MSTVL4, PREC_NLOD_SMO_MSTVL5, PREC_NLOD_SMO_MSTVL6, PREC_NLOD_SMO_PRMVL1, PREC_NLOD_SMO_PRMVL2, PREC_NLOD_SMO_PRMVL3, PREC_NLOD_SMO_PRMVL4, PREC_NLOD_SMO_PRMVL5, PREC_NLOD_SMO_PRMVL6 FROM STD_TB_EET_HIS_ME;\")\n",
    "eet_ch_col = {\n",
    "    'VIN':'차대번호', \n",
    "    'PRCINSP_YMD':'검사일자',\n",
    "    'PRCINSP_DRVNG_DSTNC':'주행거리', \n",
    "    'PRCINSP_KND_CD':'검사종류', \n",
    "    'PRCINSP_MSRMT_MTHD_CD':'검사방법', \n",
    "    'PRCINSP_JGMT':'검사판정', \n",
    "\n",
    "    'PREC_NLOD_SMO_JT_YN1':'무부하매연판정1', \n",
    "    'PREC_NLOD_SMO_JT_YN2':'무부하매연판정2', \n",
    "    'PREC_NLOD_SMO_JT_YN3':'무부하매연판정3', \n",
    "    'PREC_NLOD_SMO_JT_YN4':'무부하매연판정4', \n",
    "    'PREC_NLOD_SMO_JT_YN5':'무부하매연판정5', \n",
    "    'PREC_NLOD_SMO_JT_YN6':'무부하매연판정6', \n",
    "    'PREC_NLOD_SMO_MSTVL1':'무부하매연측정치1', \n",
    "    'PREC_NLOD_SMO_MSTVL2':'무부하매연측정치2', \n",
    "    'PREC_NLOD_SMO_MSTVL3':'무부하매연측정치3', \n",
    "    'PREC_NLOD_SMO_MSTVL4':'무부하매연측정치4', \n",
    "    'PREC_NLOD_SMO_MSTVL5':'무부하매연측정치5', \n",
    "    'PREC_NLOD_SMO_MSTVL6':'무부하매연측정치6', \n",
    "    'PREC_NLOD_SMO_PRMVL1':'무부하매연허용치1', \n",
    "    'PREC_NLOD_SMO_PRMVL2':'무부하매연허용치2', \n",
    "    'PREC_NLOD_SMO_PRMVL3':'무부하매연허용치3', \n",
    "    'PREC_NLOD_SMO_PRMVL4':'무부하매연허용치4', \n",
    "    'PREC_NLOD_SMO_PRMVL5':'무부하매연허용치5', \n",
    "    'PREC_NLOD_SMO_PRMVL6':'무부하매연허용치6', \n",
    "}\n",
    "eetr = eet.rename(columns=eet_ch_col)\n",
    "\n",
    "print(eetr.shape)\n",
    "print(eetr.columns)\n",
    "print('data load : STD_TB_EET_HIS_ME')"
   ]
  },
  {
   "cell_type": "code",
   "execution_count": 16,
   "metadata": {},
   "outputs": [
    {
     "data": {
      "text/plain": [
       "count                      105849354\n",
       "unique                          6449\n",
       "top       2019-05-07 00:00:00.000000\n",
       "freq                           74583\n",
       "Name: 검사일자, dtype: object"
      ]
     },
     "execution_count": 16,
     "metadata": {},
     "output_type": "execute_result"
    }
   ],
   "source": [
    "# 2002.05.20 ~ 2023.07.31\n",
    "# 2002.05.20 ~ 2023.11.20(2024.01.04)\n",
    "eetr['검사일자'].describe()"
   ]
  },
  {
   "cell_type": "markdown",
   "metadata": {},
   "source": [
    "#### 검사종류, 검사방법 코드 변환"
   ]
  },
  {
   "cell_type": "code",
   "execution_count": 17,
   "metadata": {},
   "outputs": [
    {
     "name": "stdout",
     "output_type": "stream",
     "text": [
      "['A21S04' 'A21T06' 'A21R02' 'A21T05' 'A21P01' 'A21S01' 'A21001' 'A21E01'\n",
      " 'A21P02' 'A21S03' 'A21S02' 'A21R01' 'A21T02' 'A21T04' 'A21T01' 'A21T03'\n",
      " 'A21C02' 'A21E02' '9999' 'A21R05' 'A21R03' 'A21R06' 'A21002' 'A21TMP'\n",
      " 'A21R04']\n",
      "['특정재검사(배출)' '종합검사(경과)' '2부재검사(종합)' '종합검사' '정밀검사' '특정검사' '관능재검사' '배출재검사'\n",
      " '정밀검사(경과)' '특정재검사(관능)' '특정검사(경과)' '1부재검사(종합)' '종합(정밀)' '종합(정밀) 2부재검사'\n",
      " '종합(경과:정밀)' '종합(정밀) 1부재검사' '구조변경검사' '배출재검사(구변)' '9999' '재검사(관능)'\n",
      " '재검사(1부재검사)' '재검사(배출)' '관능재검사(임시)' '임시검사' '재검사(2부재검사)']\n",
      "['A2304' 'A2306' 'A2301' 'A2303' 'A2307' 'A2305' 'A2302' '9999']\n",
      "['부하검사(LUG DOWN)' '무부하검사(급가속)' '무부하검사(TSI)' '부하검사(ASM2525)' '부하검사(KD-147)'\n",
      " '부하검사(ASM-Idling)' '9999']\n"
     ]
    }
   ],
   "source": [
    "print(eetr['검사종류'].unique())\n",
    "## 검사종류 코드 변환\n",
    "knd_dict = {\n",
    "    'A21C01':'구조변경',\n",
    "    'A21C02':'구조변경검사',\n",
    "    'A21E01':'배출재검사',\n",
    "    'A21E02':'배출재검사(구변)',\n",
    "    'A21E03':'배출재검사(임시)',\n",
    "    'A21O01':'관능재검사',\n",
    "    'A21O02':'관능재검사(임시)',\n",
    "    'A21P01':'정밀검사',\n",
    "    'A21P02':'정밀검사(경과)',\n",
    "    'A21R01':'1부재검사(종합)',\n",
    "    'A21R02':'2부재검사(종합)',\n",
    "    'A21R03':'재검사(1부재검사)',\n",
    "    'A21R04':'재검사(2부재검사)',\n",
    "    'A21R05':'재검사(관능)',\n",
    "    'A21R06':'재검사(배출)',\n",
    "    'A21S01':'특정검사',\n",
    "    'A21S02':'특정검사(경과)',\n",
    "    'A21S03':'특정재검사(관능)',\n",
    "    'A21S04':'특정재검사(배출)',\n",
    "    'A21T01':'종합(경과:정밀)',\n",
    "    'A21T02':'종합(정밀)',\n",
    "    'A21T03':'종합(정밀) 1부재검사',\n",
    "    'A21T04':'종합(정밀) 2부재검사',\n",
    "    'A21T05':'종합검사',\n",
    "    'A21T06':'종합검사(경과)',\n",
    "    'A21TMP':'임시검사',\n",
    "    'A21001':'관능재검사',\n",
    "    'A21002':'관능재검사(임시)',\n",
    "}\n",
    "eetr['검사종류'] = eetr['검사종류'].replace(knd_dict)\n",
    "print(eetr['검사종류'].unique())\n",
    "\n",
    "print(eetr['검사방법'].unique())\n",
    "## 검사방법 코드 변환\n",
    "mthd_dict = {\n",
    "    'A2301':'무부하검사(급가속)',\n",
    "    'A2302':'부하검사(ASM-Idling)',\n",
    "    'A2303':'무부하검사(TSI)',\n",
    "    'A2304':'부하검사(LUG DOWN)',\n",
    "    'A2305':'부하검사(KD-147)',\n",
    "    'A2306':'부하검사(LUG DOWN)',\n",
    "    'A2307':'부하검사(ASM2525)',\n",
    "}\n",
    "eetr['검사방법'] = eetr['검사방법'].replace(mthd_dict)\n",
    "print(eetr['검사방법'].unique())"
   ]
  },
  {
   "cell_type": "markdown",
   "metadata": {},
   "source": [
    "### 법정동코드"
   ]
  },
  {
   "cell_type": "code",
   "execution_count": 18,
   "metadata": {},
   "outputs": [
    {
     "name": "stdout",
     "output_type": "stream",
     "text": [
      "(47916, 5)\n",
      "Index(['법정동코드', '시도', '시군구', '시도코드', '시군구코드'], dtype='object')\n",
      "data load : STD_BJCD_INFO\n"
     ]
    }
   ],
   "source": [
    "# 1.3s\n",
    "code = wd.export_to_pandas(\"SELECT STDG_CD, STDG_CTPV_NM, STDG_SGG_NM, STDG_CTPV_CD, STDG_SGG_CD FROM STD_BJCD_INFO;\")\n",
    "code_ch_col = {\n",
    "    'STDG_CD':'법정동코드', \n",
    "    'STDG_CTPV_NM':'시도', \n",
    "    'STDG_SGG_NM':'시군구', \n",
    "    'STDG_CTPV_CD':'시도코드',\n",
    "    'STDG_SGG_CD':'시군구코드', \n",
    "}\n",
    "coder = code.rename(columns=code_ch_col)\n",
    "\n",
    "print(coder.shape)\n",
    "print(coder.columns)\n",
    "print('data load : STD_BJCD_INFO')"
   ]
  },
  {
   "cell_type": "markdown",
   "metadata": {},
   "source": [
    "### 1\\. 전문정비(STD_TB_ERR_RES)"
   ]
  },
  {
   "cell_type": "code",
   "execution_count": 478,
   "metadata": {},
   "outputs": [],
   "source": [
    "er_dict = {\n",
    "    'DRVNG_DSTNC':'주행거리', \n",
    "    'VHRNO':'차량번호', \n",
    "    'VIN':'차대번호', \n",
    "    'LOD_COX_MEVLU':'부하일산화탄소측정치', \n",
    "    'LOD_HC_MEVLU':'부하탄화수소측정치', \n",
    "    'LOD_NOX_MEVLU':'부하질소산화물측정치', \n",
    "    'LOD_SMO_MEVLU':'부하매연측정치', \n",
    "    'LOD_TQ_MEVLU':'부하토크측정치', \n",
    "    'OVHUL_YMD':'정비일자', \n",
    "    'SPCY_OVHUL_BIZPLC_NM':'전문정비사업소명', \n",
    "    'OVHUL_RCPT_NO':'정비접수번호', \n",
    "    'PRCINSP_RINSP_RCPT_NO':'정밀재검사접수번호', \n",
    "    'NOLOD_COX_MEVLU':'무부하일산화탄소측정치', \n",
    "    'NOLOD_HC_MEVLU':'무부하탄화수소측정치', \n",
    "    'NOLOD_AIR_EXCRT_MEVLU':'무부하공기과잉률측정치', \n",
    "    'NOLOD_SMO_MEVLU':'무부하매연측정치', \n",
    "}"
   ]
  },
  {
   "cell_type": "code",
   "execution_count": 479,
   "metadata": {},
   "outputs": [
    {
     "name": "stdout",
     "output_type": "stream",
     "text": [
      "<class 'pandas.core.frame.DataFrame'>\n",
      "RangeIndex: 54617 entries, 0 to 54616\n",
      "Data columns (total 16 columns):\n",
      " #   Column                 Non-Null Count  Dtype  \n",
      "---  ------                 --------------  -----  \n",
      " 0   DRVNG_DSTNC            54617 non-null  float64\n",
      " 1   VHRNO                  54617 non-null  object \n",
      " 2   VIN                    51051 non-null  object \n",
      " 3   LOD_COX_MEVLU          53884 non-null  object \n",
      " 4   LOD_HC_MEVLU           53886 non-null  object \n",
      " 5   LOD_NOX_MEVLU          53883 non-null  object \n",
      " 6   LOD_SMO_MEVLU          53941 non-null  object \n",
      " 7   LOD_TQ_MEVLU           53819 non-null  object \n",
      " 8   OVHUL_YMD              54617 non-null  int64  \n",
      " 9   SPCY_OVHUL_BIZPLC_NM   54617 non-null  object \n",
      " 10  OVHUL_RCPT_NO          54617 non-null  int64  \n",
      " 11  PRCINSP_RINSP_RCPT_NO  54617 non-null  object \n",
      " 12  NOLOD_COX_MEVLU        53870 non-null  object \n",
      " 13  NOLOD_HC_MEVLU         53871 non-null  object \n",
      " 14  NOLOD_AIR_EXCRT_MEVLU  28484 non-null  object \n",
      " 15  NOLOD_SMO_MEVLU        50992 non-null  object \n",
      "dtypes: float64(1), int64(2), object(13)\n",
      "memory usage: 6.7+ MB\n"
     ]
    }
   ],
   "source": [
    "# 0.3s\n",
    "name = 'STD_TB_ERR_RES_20231011'\n",
    "file_name = f'{name}.csv'\n",
    "er = pd.read_csv(os.path.join(pub_fold, file_name), low_memory=False)\n",
    "er.info()"
   ]
  },
  {
   "cell_type": "code",
   "execution_count": 480,
   "metadata": {},
   "outputs": [
    {
     "data": {
      "text/plain": [
       "Index(['주행거리', '차량번호', '차대번호', '부하일산화탄소측정치', '부하탄화수소측정치', '부하질소산화물측정치',\n",
       "       '부하매연측정치', '부하토크측정치', '정비일자', '전문정비사업소명', '정비접수번호', '정밀재검사접수번호',\n",
       "       '무부하일산화탄소측정치', '무부하탄화수소측정치', '무부하공기과잉률측정치', '무부하매연측정치'],\n",
       "      dtype='object')"
      ]
     },
     "execution_count": 480,
     "metadata": {},
     "output_type": "execute_result"
    }
   ],
   "source": [
    "err = er.rename(columns=er_dict)\n",
    "err.columns"
   ]
  },
  {
   "cell_type": "markdown",
   "metadata": {},
   "source": [
    "#### 데이터 확인"
   ]
  },
  {
   "cell_type": "code",
   "execution_count": 481,
   "metadata": {},
   "outputs": [
    {
     "data": {
      "text/plain": [
       "{1, 2, 3, 4, 5, 6, 7, 8, 9, 10, 11, 12, 13}"
      ]
     },
     "execution_count": 481,
     "metadata": {},
     "output_type": "execute_result"
    }
   ],
   "source": [
    "set(err['정비접수번호'].unique())"
   ]
  },
  {
   "cell_type": "code",
   "execution_count": 482,
   "metadata": {},
   "outputs": [
    {
     "data": {
      "text/plain": [
       "((54617, 16), 43771)"
      ]
     },
     "execution_count": 482,
     "metadata": {},
     "output_type": "execute_result"
    }
   ],
   "source": [
    "# shape\n",
    "# (54617, 16) (2024.01.04)\n",
    "err.shape, len(err['차대번호'].unique())"
   ]
  },
  {
   "cell_type": "markdown",
   "metadata": {},
   "source": [
    "##### [출력] 컬럼, 데이터 정보들"
   ]
  },
  {
   "cell_type": "code",
   "execution_count": 483,
   "metadata": {},
   "outputs": [
    {
     "data": {
      "text/html": [
       "<div>\n",
       "<style scoped>\n",
       "    .dataframe tbody tr th:only-of-type {\n",
       "        vertical-align: middle;\n",
       "    }\n",
       "\n",
       "    .dataframe tbody tr th {\n",
       "        vertical-align: top;\n",
       "    }\n",
       "\n",
       "    .dataframe thead th {\n",
       "        text-align: right;\n",
       "    }\n",
       "</style>\n",
       "<table border=\"1\" class=\"dataframe\">\n",
       "  <thead>\n",
       "    <tr style=\"text-align: right;\">\n",
       "      <th></th>\n",
       "      <th>컬럼명</th>\n",
       "      <th>컬럼내용</th>\n",
       "    </tr>\n",
       "  </thead>\n",
       "  <tbody>\n",
       "    <tr>\n",
       "      <th>0</th>\n",
       "      <td>DRVNG_DSTNC</td>\n",
       "      <td>주행거리</td>\n",
       "    </tr>\n",
       "    <tr>\n",
       "      <th>1</th>\n",
       "      <td>VHRNO</td>\n",
       "      <td>차량번호</td>\n",
       "    </tr>\n",
       "    <tr>\n",
       "      <th>2</th>\n",
       "      <td>VIN</td>\n",
       "      <td>차대번호</td>\n",
       "    </tr>\n",
       "    <tr>\n",
       "      <th>3</th>\n",
       "      <td>LOD_COX_MEVLU</td>\n",
       "      <td>부하일산화탄소측정치</td>\n",
       "    </tr>\n",
       "    <tr>\n",
       "      <th>4</th>\n",
       "      <td>LOD_HC_MEVLU</td>\n",
       "      <td>부하탄화수소측정치</td>\n",
       "    </tr>\n",
       "    <tr>\n",
       "      <th>5</th>\n",
       "      <td>LOD_NOX_MEVLU</td>\n",
       "      <td>부하질소산화물측정치</td>\n",
       "    </tr>\n",
       "    <tr>\n",
       "      <th>6</th>\n",
       "      <td>LOD_SMO_MEVLU</td>\n",
       "      <td>부하매연측정치</td>\n",
       "    </tr>\n",
       "    <tr>\n",
       "      <th>7</th>\n",
       "      <td>LOD_TQ_MEVLU</td>\n",
       "      <td>부하토크측정치</td>\n",
       "    </tr>\n",
       "    <tr>\n",
       "      <th>8</th>\n",
       "      <td>OVHUL_YMD</td>\n",
       "      <td>정비일자</td>\n",
       "    </tr>\n",
       "    <tr>\n",
       "      <th>9</th>\n",
       "      <td>SPCY_OVHUL_BIZPLC_NM</td>\n",
       "      <td>전문정비사업소명</td>\n",
       "    </tr>\n",
       "    <tr>\n",
       "      <th>10</th>\n",
       "      <td>OVHUL_RCPT_NO</td>\n",
       "      <td>정비접수번호</td>\n",
       "    </tr>\n",
       "    <tr>\n",
       "      <th>11</th>\n",
       "      <td>PRCINSP_RINSP_RCPT_NO</td>\n",
       "      <td>정밀재검사접수번호</td>\n",
       "    </tr>\n",
       "    <tr>\n",
       "      <th>12</th>\n",
       "      <td>NOLOD_COX_MEVLU</td>\n",
       "      <td>무부하일산화탄소측정치</td>\n",
       "    </tr>\n",
       "    <tr>\n",
       "      <th>13</th>\n",
       "      <td>NOLOD_HC_MEVLU</td>\n",
       "      <td>무부하탄화수소측정치</td>\n",
       "    </tr>\n",
       "    <tr>\n",
       "      <th>14</th>\n",
       "      <td>NOLOD_AIR_EXCRT_MEVLU</td>\n",
       "      <td>무부하공기과잉률측정치</td>\n",
       "    </tr>\n",
       "    <tr>\n",
       "      <th>15</th>\n",
       "      <td>NOLOD_SMO_MEVLU</td>\n",
       "      <td>무부하매연측정치</td>\n",
       "    </tr>\n",
       "  </tbody>\n",
       "</table>\n",
       "</div>"
      ],
      "text/plain": [
       "                      컬럼명         컬럼내용\n",
       "0             DRVNG_DSTNC         주행거리\n",
       "1                   VHRNO         차량번호\n",
       "2                     VIN         차대번호\n",
       "3           LOD_COX_MEVLU   부하일산화탄소측정치\n",
       "4            LOD_HC_MEVLU    부하탄화수소측정치\n",
       "5           LOD_NOX_MEVLU   부하질소산화물측정치\n",
       "6           LOD_SMO_MEVLU      부하매연측정치\n",
       "7            LOD_TQ_MEVLU      부하토크측정치\n",
       "8               OVHUL_YMD         정비일자\n",
       "9    SPCY_OVHUL_BIZPLC_NM     전문정비사업소명\n",
       "10          OVHUL_RCPT_NO       정비접수번호\n",
       "11  PRCINSP_RINSP_RCPT_NO    정밀재검사접수번호\n",
       "12        NOLOD_COX_MEVLU  무부하일산화탄소측정치\n",
       "13         NOLOD_HC_MEVLU   무부하탄화수소측정치\n",
       "14  NOLOD_AIR_EXCRT_MEVLU  무부하공기과잉률측정치\n",
       "15        NOLOD_SMO_MEVLU     무부하매연측정치"
      ]
     },
     "execution_count": 483,
     "metadata": {},
     "output_type": "execute_result"
    }
   ],
   "source": [
    "er_cols = pd.DataFrame({'컬럼명':er_dict.keys(), '컬럼내용':er_dict.values()})\n",
    "er_cols"
   ]
  },
  {
   "cell_type": "code",
   "execution_count": 484,
   "metadata": {},
   "outputs": [
    {
     "data": {
      "text/html": [
       "<div>\n",
       "<style scoped>\n",
       "    .dataframe tbody tr th:only-of-type {\n",
       "        vertical-align: middle;\n",
       "    }\n",
       "\n",
       "    .dataframe tbody tr th {\n",
       "        vertical-align: top;\n",
       "    }\n",
       "\n",
       "    .dataframe thead th {\n",
       "        text-align: right;\n",
       "    }\n",
       "</style>\n",
       "<table border=\"1\" class=\"dataframe\">\n",
       "  <thead>\n",
       "    <tr style=\"text-align: right;\">\n",
       "      <th></th>\n",
       "      <th>번호</th>\n",
       "      <th>컬럼명</th>\n",
       "      <th>컬럼내용</th>\n",
       "      <th>빈 값 개수</th>\n",
       "      <th>총 행수</th>\n",
       "    </tr>\n",
       "  </thead>\n",
       "  <tbody>\n",
       "    <tr>\n",
       "      <th>0</th>\n",
       "      <td>1</td>\n",
       "      <td>DRVNG_DSTNC</td>\n",
       "      <td>주행거리</td>\n",
       "      <td>0</td>\n",
       "      <td>54617</td>\n",
       "    </tr>\n",
       "    <tr>\n",
       "      <th>1</th>\n",
       "      <td>2</td>\n",
       "      <td>VHRNO</td>\n",
       "      <td>차량번호</td>\n",
       "      <td>0</td>\n",
       "      <td>54617</td>\n",
       "    </tr>\n",
       "    <tr>\n",
       "      <th>2</th>\n",
       "      <td>3</td>\n",
       "      <td>VIN</td>\n",
       "      <td>차대번호</td>\n",
       "      <td>3566</td>\n",
       "      <td>54617</td>\n",
       "    </tr>\n",
       "    <tr>\n",
       "      <th>3</th>\n",
       "      <td>4</td>\n",
       "      <td>LOD_COX_MEVLU</td>\n",
       "      <td>부하일산화탄소측정치</td>\n",
       "      <td>733</td>\n",
       "      <td>54617</td>\n",
       "    </tr>\n",
       "    <tr>\n",
       "      <th>4</th>\n",
       "      <td>5</td>\n",
       "      <td>LOD_HC_MEVLU</td>\n",
       "      <td>부하탄화수소측정치</td>\n",
       "      <td>731</td>\n",
       "      <td>54617</td>\n",
       "    </tr>\n",
       "    <tr>\n",
       "      <th>5</th>\n",
       "      <td>6</td>\n",
       "      <td>LOD_NOX_MEVLU</td>\n",
       "      <td>부하질소산화물측정치</td>\n",
       "      <td>734</td>\n",
       "      <td>54617</td>\n",
       "    </tr>\n",
       "    <tr>\n",
       "      <th>6</th>\n",
       "      <td>7</td>\n",
       "      <td>LOD_SMO_MEVLU</td>\n",
       "      <td>부하매연측정치</td>\n",
       "      <td>676</td>\n",
       "      <td>54617</td>\n",
       "    </tr>\n",
       "    <tr>\n",
       "      <th>7</th>\n",
       "      <td>8</td>\n",
       "      <td>LOD_TQ_MEVLU</td>\n",
       "      <td>부하토크측정치</td>\n",
       "      <td>798</td>\n",
       "      <td>54617</td>\n",
       "    </tr>\n",
       "    <tr>\n",
       "      <th>8</th>\n",
       "      <td>9</td>\n",
       "      <td>OVHUL_YMD</td>\n",
       "      <td>정비일자</td>\n",
       "      <td>0</td>\n",
       "      <td>54617</td>\n",
       "    </tr>\n",
       "    <tr>\n",
       "      <th>9</th>\n",
       "      <td>10</td>\n",
       "      <td>SPCY_OVHUL_BIZPLC_NM</td>\n",
       "      <td>전문정비사업소명</td>\n",
       "      <td>0</td>\n",
       "      <td>54617</td>\n",
       "    </tr>\n",
       "    <tr>\n",
       "      <th>10</th>\n",
       "      <td>11</td>\n",
       "      <td>OVHUL_RCPT_NO</td>\n",
       "      <td>정비접수번호</td>\n",
       "      <td>0</td>\n",
       "      <td>54617</td>\n",
       "    </tr>\n",
       "    <tr>\n",
       "      <th>11</th>\n",
       "      <td>12</td>\n",
       "      <td>PRCINSP_RINSP_RCPT_NO</td>\n",
       "      <td>정밀재검사접수번호</td>\n",
       "      <td>0</td>\n",
       "      <td>54617</td>\n",
       "    </tr>\n",
       "    <tr>\n",
       "      <th>12</th>\n",
       "      <td>13</td>\n",
       "      <td>NOLOD_COX_MEVLU</td>\n",
       "      <td>무부하일산화탄소측정치</td>\n",
       "      <td>747</td>\n",
       "      <td>54617</td>\n",
       "    </tr>\n",
       "    <tr>\n",
       "      <th>13</th>\n",
       "      <td>14</td>\n",
       "      <td>NOLOD_HC_MEVLU</td>\n",
       "      <td>무부하탄화수소측정치</td>\n",
       "      <td>746</td>\n",
       "      <td>54617</td>\n",
       "    </tr>\n",
       "    <tr>\n",
       "      <th>14</th>\n",
       "      <td>15</td>\n",
       "      <td>NOLOD_AIR_EXCRT_MEVLU</td>\n",
       "      <td>무부하공기과잉률측정치</td>\n",
       "      <td>26133</td>\n",
       "      <td>54617</td>\n",
       "    </tr>\n",
       "    <tr>\n",
       "      <th>15</th>\n",
       "      <td>16</td>\n",
       "      <td>NOLOD_SMO_MEVLU</td>\n",
       "      <td>무부하매연측정치</td>\n",
       "      <td>3625</td>\n",
       "      <td>54617</td>\n",
       "    </tr>\n",
       "  </tbody>\n",
       "</table>\n",
       "</div>"
      ],
      "text/plain": [
       "    번호                    컬럼명         컬럼내용  빈 값 개수   총 행수\n",
       "0    1            DRVNG_DSTNC         주행거리       0  54617\n",
       "1    2                  VHRNO         차량번호       0  54617\n",
       "2    3                    VIN         차대번호    3566  54617\n",
       "3    4          LOD_COX_MEVLU   부하일산화탄소측정치     733  54617\n",
       "4    5           LOD_HC_MEVLU    부하탄화수소측정치     731  54617\n",
       "5    6          LOD_NOX_MEVLU   부하질소산화물측정치     734  54617\n",
       "6    7          LOD_SMO_MEVLU      부하매연측정치     676  54617\n",
       "7    8           LOD_TQ_MEVLU      부하토크측정치     798  54617\n",
       "8    9              OVHUL_YMD         정비일자       0  54617\n",
       "9   10   SPCY_OVHUL_BIZPLC_NM     전문정비사업소명       0  54617\n",
       "10  11          OVHUL_RCPT_NO       정비접수번호       0  54617\n",
       "11  12  PRCINSP_RINSP_RCPT_NO    정밀재검사접수번호       0  54617\n",
       "12  13        NOLOD_COX_MEVLU  무부하일산화탄소측정치     747  54617\n",
       "13  14         NOLOD_HC_MEVLU   무부하탄화수소측정치     746  54617\n",
       "14  15  NOLOD_AIR_EXCRT_MEVLU  무부하공기과잉률측정치   26133  54617\n",
       "15  16        NOLOD_SMO_MEVLU     무부하매연측정치    3625  54617"
      ]
     },
     "execution_count": 484,
     "metadata": {},
     "output_type": "execute_result"
    }
   ],
   "source": [
    "temp = err.isnull().sum().reset_index()\n",
    "temp = temp.rename(columns={'index':'컬럼내용', 0:'빈 값 개수'})\n",
    "temp['총 행수'] = err.shape[0]\n",
    "temp['번호'] = [x for x in range(1, temp.shape[0] + 1)]\n",
    "ttemp = temp.merge(er_cols, on='컬럼내용', how='left')\n",
    "ttemp = ttemp[['번호', '컬럼명', '컬럼내용', '빈 값 개수', '총 행수']]\n",
    "ttemp"
   ]
  },
  {
   "cell_type": "code",
   "execution_count": 485,
   "metadata": {},
   "outputs": [
    {
     "data": {
      "text/plain": [
       "'2024.01.19'"
      ]
     },
     "execution_count": 485,
     "metadata": {},
     "output_type": "execute_result"
    }
   ],
   "source": [
    "today_date = datetime.today().strftime('%Y.%m.%d')\n",
    "today_date"
   ]
  },
  {
   "cell_type": "code",
   "execution_count": 486,
   "metadata": {},
   "outputs": [],
   "source": [
    "# ttemp.to_excel(os.path.join(an4_fold, f'전문정비_데이터정보({today_date}).xlsx'), index=False)"
   ]
  },
  {
   "cell_type": "markdown",
   "metadata": {},
   "source": [
    "#### 데이터 수정"
   ]
  },
  {
   "cell_type": "code",
   "execution_count": 487,
   "metadata": {},
   "outputs": [
    {
     "data": {
      "text/plain": [
       "0"
      ]
     },
     "execution_count": 487,
     "metadata": {},
     "output_type": "execute_result"
    }
   ],
   "source": [
    "err['정비일자'].isnull().sum()"
   ]
  },
  {
   "cell_type": "code",
   "execution_count": 488,
   "metadata": {},
   "outputs": [
    {
     "data": {
      "text/plain": [
       "count      54617.00\n",
       "mean    20083896.95\n",
       "std        16435.80\n",
       "min     20060727.00\n",
       "25%     20070801.00\n",
       "50%     20080507.00\n",
       "75%     20091109.00\n",
       "max     20121010.00\n",
       "Name: 정비일자, dtype: float64"
      ]
     },
     "execution_count": 488,
     "metadata": {},
     "output_type": "execute_result"
    }
   ],
   "source": [
    "err['정비일자'].describe()"
   ]
  },
  {
   "cell_type": "code",
   "execution_count": 489,
   "metadata": {},
   "outputs": [
    {
     "data": {
      "text/plain": [
       "0   2008-01-10\n",
       "1   2008-01-23\n",
       "2   2008-01-08\n",
       "3   2008-01-18\n",
       "4   2008-01-07\n",
       "Name: 정비일자, dtype: datetime64[ns]"
      ]
     },
     "execution_count": 489,
     "metadata": {},
     "output_type": "execute_result"
    }
   ],
   "source": [
    "err['정비일자'] = pd.to_datetime(err['정비일자'], format='%Y%m%d', errors='coerce')\n",
    "err['정비일자'].head()"
   ]
  },
  {
   "cell_type": "code",
   "execution_count": 490,
   "metadata": {},
   "outputs": [
    {
     "data": {
      "text/plain": [
       "count                            54617\n",
       "mean     2008-10-29 10:43:41.117966592\n",
       "min                2006-07-27 00:00:00\n",
       "25%                2007-08-01 00:00:00\n",
       "50%                2008-05-07 00:00:00\n",
       "75%                2009-11-09 00:00:00\n",
       "max                2012-10-10 00:00:00\n",
       "Name: 정비일자, dtype: object"
      ]
     },
     "execution_count": 490,
     "metadata": {},
     "output_type": "execute_result"
    }
   ],
   "source": [
    "err['정비일자'].describe()"
   ]
  },
  {
   "cell_type": "markdown",
   "metadata": {},
   "source": [
    "### 2\\. 전문정비상세(STD_TB_ERR_RES_DET)"
   ]
  },
  {
   "cell_type": "code",
   "execution_count": 491,
   "metadata": {},
   "outputs": [],
   "source": [
    "erd_dict = {\n",
    "    'VHRNO':'차량번호', \n",
    "    'VIN':'차대번호', \n",
    "    'OVHUL_CN':'정비부품명', # 내용상 정비부품명(테이블 정의서 : 정비내용)\n",
    "    'OVHUL_YMD':'정비일자', \n",
    "    'SPCY_OVHUL_BIZPLC_NM':'전문정비사업소명', \n",
    "    'OVHUL_CMPNT_NM':'정비내용', # 내용상 정비내용(테이블 정의서 : 정비부품명)\n",
    "    'OVHUL_RCPT_NO':'정비접수번호', \n",
    "    'PRCINSP_RINSP_RCPT_NO':'정밀재검사접수번호', \n",
    "}"
   ]
  },
  {
   "cell_type": "code",
   "execution_count": 492,
   "metadata": {},
   "outputs": [
    {
     "name": "stdout",
     "output_type": "stream",
     "text": [
      "<class 'pandas.core.frame.DataFrame'>\n",
      "RangeIndex: 106819 entries, 0 to 106818\n",
      "Data columns (total 8 columns):\n",
      " #   Column                 Non-Null Count   Dtype  \n",
      "---  ------                 --------------   -----  \n",
      " 0   VHRNO                  106818 non-null  object \n",
      " 1   VIN                    94670 non-null   object \n",
      " 2   OVHUL_CN               106817 non-null  object \n",
      " 3   OVHUL_YMD              106818 non-null  float64\n",
      " 4   SPCY_OVHUL_BIZPLC_NM   106818 non-null  object \n",
      " 5   OVHUL_CMPNT_NM         106817 non-null  object \n",
      " 6   OVHUL_RCPT_NO          106818 non-null  float64\n",
      " 7   PRCINSP_RINSP_RCPT_NO  0 non-null       float64\n",
      "dtypes: float64(3), object(5)\n",
      "memory usage: 6.5+ MB\n"
     ]
    }
   ],
   "source": [
    "# 0.3s\n",
    "name = 'STD_TB_ERR_RES_DET_20231011'\n",
    "file_name = f'{name}.csv'\n",
    "erd = pd.read_csv(os.path.join(pub_fold, file_name), low_memory=False)\n",
    "erd.info()"
   ]
  },
  {
   "cell_type": "code",
   "execution_count": 493,
   "metadata": {},
   "outputs": [
    {
     "data": {
      "text/plain": [
       "Index(['차량번호', '차대번호', '정비부품명', '정비일자', '전문정비사업소명', '정비내용', '정비접수번호',\n",
       "       '정밀재검사접수번호'],\n",
       "      dtype='object')"
      ]
     },
     "execution_count": 493,
     "metadata": {},
     "output_type": "execute_result"
    }
   ],
   "source": [
    "erdr = erd.rename(columns=erd_dict)\n",
    "erdr.columns"
   ]
  },
  {
   "cell_type": "code",
   "execution_count": 494,
   "metadata": {},
   "outputs": [
    {
     "data": {
      "text/plain": [
       "((106819, 8), 40927)"
      ]
     },
     "execution_count": 494,
     "metadata": {},
     "output_type": "execute_result"
    }
   ],
   "source": [
    "# shape\n",
    "# (106819, 8) (2024.01.04)\n",
    "erdr.shape, len(erdr['차대번호'].unique())"
   ]
  },
  {
   "cell_type": "markdown",
   "metadata": {},
   "source": [
    "#### 정비내용 수정"
   ]
  },
  {
   "cell_type": "code",
   "execution_count": 495,
   "metadata": {},
   "outputs": [
    {
     "data": {
      "text/plain": [
       "array(['연료장치', '엔진계통', '흡기계통', '배출가스 재순환장치', '점화계통', '배출가스 전환장치',\n",
       "       '연료증발가스 방지장치', '각종센서', '블로바이가스 환원장치', '배기계통', nan], dtype=object)"
      ]
     },
     "execution_count": 495,
     "metadata": {},
     "output_type": "execute_result"
    }
   ],
   "source": [
    "erdr['정비내용'].unique()"
   ]
  },
  {
   "cell_type": "code",
   "execution_count": 496,
   "metadata": {},
   "outputs": [
    {
     "data": {
      "text/plain": [
       "array(['연료장치', '엔진계통', '흡기계통', '배출가스재순환장치', '점화계통', '배출가스전환장치',\n",
       "       '연료증발가스방지장치', '각종센서', '블로바이가스환원장치', '배기계통', nan], dtype=object)"
      ]
     },
     "execution_count": 496,
     "metadata": {},
     "output_type": "execute_result"
    }
   ],
   "source": [
    "erdr['정비내용'] = erdr['정비내용'].str.replace(' ', '')\n",
    "erdr['정비내용'].unique()"
   ]
  },
  {
   "cell_type": "markdown",
   "metadata": {},
   "source": [
    "#### 정비부품명 수정"
   ]
  },
  {
   "cell_type": "code",
   "execution_count": 497,
   "metadata": {},
   "outputs": [
    {
     "data": {
      "text/plain": [
       "array(['연료분사펌프(조속기조정\\x7f봉인)', '엔진오일', '공회전속도', '연료휠터', '노즐(디젤인젝터포함)',\n",
       "       '공연비(혼합비)', '에어크리너', '연료압력조절기', '엔진정비', '냉각계통', 'EGR제어용 서머밸브',\n",
       "       '과급기', '점화시기(분사시기) 조정', 'EGR밸브', '디젤산화촉매(DOC)',\n",
       "       '정화조절밸브(Purge Control Valve)', '배전기(Distributor)', '냉각수온센서',\n",
       "       '산소센서', '기화기(믹서포함)', '정화용촉매(Catalytic Converter)', '공기유량센서',\n",
       "       '전자제어장치(ECU)', '블로바이가스 호스', '캐니스터 및 필터', '점화플러그', '점화배선', '배기관',\n",
       "       '드로틀바디', '인젝터(휘발유)', 'PCV밸브', '소음기', '드로틀포지션센서', '매연여과장치(DPF)',\n",
       "       nan], dtype=object)"
      ]
     },
     "execution_count": 497,
     "metadata": {},
     "output_type": "execute_result"
    }
   ],
   "source": [
    "erdr['정비부품명'].unique()"
   ]
  },
  {
   "cell_type": "code",
   "execution_count": 498,
   "metadata": {},
   "outputs": [
    {
     "data": {
      "text/plain": [
       "array(['연료분사펌프(조속기조정,봉인)', '엔진오일', '공회전속도', '연료휠터', '노즐(디젤인젝터포함)',\n",
       "       '공연비(혼합비)', '에어크리너', '연료압력조절기', '엔진정비', '냉각계통', 'EGR제어용서머밸브',\n",
       "       '과급기', '점화시기(분사시기)조정', 'EGR밸브', '디젤산화촉매(DOC)',\n",
       "       '정화조절밸브(PurgeControlValve)', '배전기(Distributor)', '냉각수온센서', '산소센서',\n",
       "       '기화기(믹서포함)', '정화용촉매(CatalyticConverter)', '공기유량센서', '전자제어장치(ECU)',\n",
       "       '블로바이가스호스', '캐니스터및필터', '점화플러그', '점화배선', '배기관', '드로틀바디', '인젝터(휘발유)',\n",
       "       'PCV밸브', '소음기', '드로틀포지션센서', '매연여과장치(DPF)', nan], dtype=object)"
      ]
     },
     "execution_count": 498,
     "metadata": {},
     "output_type": "execute_result"
    }
   ],
   "source": [
    "repair_info_dict = {\n",
    "    '연료분사펌프(조속기조정\\x7f봉인)':'연료분사펌프(조속기조정,봉인)', \n",
    "    '점화시기(분사시기) 조정':'점화시기(분사시기)조정', \n",
    "}\n",
    "erdr['정비부품명'] = erdr['정비부품명'].replace(repair_info_dict)\n",
    "erdr['정비부품명'] = erdr['정비부품명'].str.replace(' ', '')\n",
    "erdr['정비부품명'].unique()"
   ]
  },
  {
   "cell_type": "markdown",
   "metadata": {},
   "source": [
    "#### 정비내용 수정"
   ]
  },
  {
   "cell_type": "code",
   "execution_count": 499,
   "metadata": {},
   "outputs": [
    {
     "data": {
      "text/plain": [
       "array(['연료장치', '엔진계통', '흡기계통', '배출가스재순환장치', '점화계통', '배출가스전환장치',\n",
       "       '연료증발가스방지장치', '각종센서', '블로바이가스환원장치', '배기계통', nan], dtype=object)"
      ]
     },
     "execution_count": 499,
     "metadata": {},
     "output_type": "execute_result"
    }
   ],
   "source": [
    "erdr['정비내용'].unique()"
   ]
  },
  {
   "cell_type": "code",
   "execution_count": 500,
   "metadata": {},
   "outputs": [
    {
     "name": "stdout",
     "output_type": "stream",
     "text": [
      "['연료분사펌프(조속기조정,봉인)' '연료휠터' '노즐(디젤인젝터포함)' '공연비(혼합비)' '연료압력조절기' '기화기(믹서포함)'\n",
      " '인젝터(휘발유)']\n",
      "\n",
      "['엔진오일' '공회전속도' '엔진정비' '냉각계통' '전자제어장치(ECU)']\n"
     ]
    }
   ],
   "source": [
    "# 정비내용 : 연료장치와 엔지계통 뒤바뀌어 있음\n",
    "print(erdr.loc[erdr['정비내용'] == '연료장치', '정비부품명'].unique())\n",
    "print()\n",
    "print(erdr.loc[erdr['정비내용'] == '엔진계통', '정비부품명'].unique())\n"
   ]
  },
  {
   "cell_type": "code",
   "execution_count": 501,
   "metadata": {},
   "outputs": [],
   "source": [
    "erdr['정비내용'] = erdr['정비내용'].replace({'연료장치':'엔진계통', '엔진계통':'연료장치'})"
   ]
  },
  {
   "cell_type": "code",
   "execution_count": 502,
   "metadata": {},
   "outputs": [
    {
     "name": "stdout",
     "output_type": "stream",
     "text": [
      "['엔진오일' '공회전속도' '엔진정비' '냉각계통' '전자제어장치(ECU)']\n",
      "\n",
      "['연료분사펌프(조속기조정,봉인)' '연료휠터' '노즐(디젤인젝터포함)' '공연비(혼합비)' '연료압력조절기' '기화기(믹서포함)'\n",
      " '인젝터(휘발유)']\n"
     ]
    }
   ],
   "source": [
    "# 정비내용 : 연료장치와 엔지계통 뒤바뀌어 있음\n",
    "print(erdr.loc[erdr['정비내용'] == '연료장치', '정비부품명'].unique())\n",
    "print()\n",
    "print(erdr.loc[erdr['정비내용'] == '엔진계통', '정비부품명'].unique())\n"
   ]
  },
  {
   "cell_type": "markdown",
   "metadata": {},
   "source": [
    "#### 데이터 확인"
   ]
  },
  {
   "cell_type": "code",
   "execution_count": 503,
   "metadata": {},
   "outputs": [
    {
     "data": {
      "text/plain": [
       "(106819, 8)"
      ]
     },
     "execution_count": 503,
     "metadata": {},
     "output_type": "execute_result"
    }
   ],
   "source": [
    "erdr.shape"
   ]
  },
  {
   "cell_type": "code",
   "execution_count": 504,
   "metadata": {},
   "outputs": [
    {
     "data": {
      "text/plain": [
       "{1.0, 2.0, 3.0, 4.0, 5.0, 6.0, 7.0, 8.0, 9.0, 10.0, 11.0, 12.0, 13.0, nan}"
      ]
     },
     "execution_count": 504,
     "metadata": {},
     "output_type": "execute_result"
    }
   ],
   "source": [
    "set(erdr['정비접수번호'].unique())"
   ]
  },
  {
   "cell_type": "markdown",
   "metadata": {},
   "source": [
    "##### [출력] 컬럼, 데이터 정보들"
   ]
  },
  {
   "cell_type": "code",
   "execution_count": 505,
   "metadata": {},
   "outputs": [
    {
     "data": {
      "text/html": [
       "<div>\n",
       "<style scoped>\n",
       "    .dataframe tbody tr th:only-of-type {\n",
       "        vertical-align: middle;\n",
       "    }\n",
       "\n",
       "    .dataframe tbody tr th {\n",
       "        vertical-align: top;\n",
       "    }\n",
       "\n",
       "    .dataframe thead th {\n",
       "        text-align: right;\n",
       "    }\n",
       "</style>\n",
       "<table border=\"1\" class=\"dataframe\">\n",
       "  <thead>\n",
       "    <tr style=\"text-align: right;\">\n",
       "      <th></th>\n",
       "      <th>컬럼명</th>\n",
       "      <th>컬럼내용</th>\n",
       "    </tr>\n",
       "  </thead>\n",
       "  <tbody>\n",
       "    <tr>\n",
       "      <th>0</th>\n",
       "      <td>VHRNO</td>\n",
       "      <td>차량번호</td>\n",
       "    </tr>\n",
       "    <tr>\n",
       "      <th>1</th>\n",
       "      <td>VIN</td>\n",
       "      <td>차대번호</td>\n",
       "    </tr>\n",
       "    <tr>\n",
       "      <th>2</th>\n",
       "      <td>OVHUL_CN</td>\n",
       "      <td>정비부품명</td>\n",
       "    </tr>\n",
       "    <tr>\n",
       "      <th>3</th>\n",
       "      <td>OVHUL_YMD</td>\n",
       "      <td>정비일자</td>\n",
       "    </tr>\n",
       "    <tr>\n",
       "      <th>4</th>\n",
       "      <td>SPCY_OVHUL_BIZPLC_NM</td>\n",
       "      <td>전문정비사업소명</td>\n",
       "    </tr>\n",
       "    <tr>\n",
       "      <th>5</th>\n",
       "      <td>OVHUL_CMPNT_NM</td>\n",
       "      <td>정비내용</td>\n",
       "    </tr>\n",
       "    <tr>\n",
       "      <th>6</th>\n",
       "      <td>OVHUL_RCPT_NO</td>\n",
       "      <td>정비접수번호</td>\n",
       "    </tr>\n",
       "    <tr>\n",
       "      <th>7</th>\n",
       "      <td>PRCINSP_RINSP_RCPT_NO</td>\n",
       "      <td>정밀재검사접수번호</td>\n",
       "    </tr>\n",
       "  </tbody>\n",
       "</table>\n",
       "</div>"
      ],
      "text/plain": [
       "                     컬럼명       컬럼내용\n",
       "0                  VHRNO       차량번호\n",
       "1                    VIN       차대번호\n",
       "2               OVHUL_CN      정비부품명\n",
       "3              OVHUL_YMD       정비일자\n",
       "4   SPCY_OVHUL_BIZPLC_NM   전문정비사업소명\n",
       "5         OVHUL_CMPNT_NM       정비내용\n",
       "6          OVHUL_RCPT_NO     정비접수번호\n",
       "7  PRCINSP_RINSP_RCPT_NO  정밀재검사접수번호"
      ]
     },
     "execution_count": 505,
     "metadata": {},
     "output_type": "execute_result"
    }
   ],
   "source": [
    "erd_cols = pd.DataFrame({'컬럼명':erd_dict.keys(), '컬럼내용':erd_dict.values()})\n",
    "erd_cols"
   ]
  },
  {
   "cell_type": "code",
   "execution_count": 506,
   "metadata": {},
   "outputs": [
    {
     "data": {
      "text/html": [
       "<div>\n",
       "<style scoped>\n",
       "    .dataframe tbody tr th:only-of-type {\n",
       "        vertical-align: middle;\n",
       "    }\n",
       "\n",
       "    .dataframe tbody tr th {\n",
       "        vertical-align: top;\n",
       "    }\n",
       "\n",
       "    .dataframe thead th {\n",
       "        text-align: right;\n",
       "    }\n",
       "</style>\n",
       "<table border=\"1\" class=\"dataframe\">\n",
       "  <thead>\n",
       "    <tr style=\"text-align: right;\">\n",
       "      <th></th>\n",
       "      <th>번호</th>\n",
       "      <th>컬럼명</th>\n",
       "      <th>컬럼내용</th>\n",
       "      <th>빈 값 개수</th>\n",
       "      <th>총 행수</th>\n",
       "    </tr>\n",
       "  </thead>\n",
       "  <tbody>\n",
       "    <tr>\n",
       "      <th>0</th>\n",
       "      <td>1</td>\n",
       "      <td>VHRNO</td>\n",
       "      <td>차량번호</td>\n",
       "      <td>1</td>\n",
       "      <td>106819</td>\n",
       "    </tr>\n",
       "    <tr>\n",
       "      <th>1</th>\n",
       "      <td>2</td>\n",
       "      <td>VIN</td>\n",
       "      <td>차대번호</td>\n",
       "      <td>12149</td>\n",
       "      <td>106819</td>\n",
       "    </tr>\n",
       "    <tr>\n",
       "      <th>2</th>\n",
       "      <td>3</td>\n",
       "      <td>OVHUL_CN</td>\n",
       "      <td>정비부품명</td>\n",
       "      <td>2</td>\n",
       "      <td>106819</td>\n",
       "    </tr>\n",
       "    <tr>\n",
       "      <th>3</th>\n",
       "      <td>4</td>\n",
       "      <td>OVHUL_YMD</td>\n",
       "      <td>정비일자</td>\n",
       "      <td>1</td>\n",
       "      <td>106819</td>\n",
       "    </tr>\n",
       "    <tr>\n",
       "      <th>4</th>\n",
       "      <td>5</td>\n",
       "      <td>SPCY_OVHUL_BIZPLC_NM</td>\n",
       "      <td>전문정비사업소명</td>\n",
       "      <td>1</td>\n",
       "      <td>106819</td>\n",
       "    </tr>\n",
       "    <tr>\n",
       "      <th>5</th>\n",
       "      <td>6</td>\n",
       "      <td>OVHUL_CMPNT_NM</td>\n",
       "      <td>정비내용</td>\n",
       "      <td>2</td>\n",
       "      <td>106819</td>\n",
       "    </tr>\n",
       "    <tr>\n",
       "      <th>6</th>\n",
       "      <td>7</td>\n",
       "      <td>OVHUL_RCPT_NO</td>\n",
       "      <td>정비접수번호</td>\n",
       "      <td>1</td>\n",
       "      <td>106819</td>\n",
       "    </tr>\n",
       "    <tr>\n",
       "      <th>7</th>\n",
       "      <td>8</td>\n",
       "      <td>PRCINSP_RINSP_RCPT_NO</td>\n",
       "      <td>정밀재검사접수번호</td>\n",
       "      <td>106819</td>\n",
       "      <td>106819</td>\n",
       "    </tr>\n",
       "  </tbody>\n",
       "</table>\n",
       "</div>"
      ],
      "text/plain": [
       "   번호                    컬럼명       컬럼내용  빈 값 개수    총 행수\n",
       "0   1                  VHRNO       차량번호       1  106819\n",
       "1   2                    VIN       차대번호   12149  106819\n",
       "2   3               OVHUL_CN      정비부품명       2  106819\n",
       "3   4              OVHUL_YMD       정비일자       1  106819\n",
       "4   5   SPCY_OVHUL_BIZPLC_NM   전문정비사업소명       1  106819\n",
       "5   6         OVHUL_CMPNT_NM       정비내용       2  106819\n",
       "6   7          OVHUL_RCPT_NO     정비접수번호       1  106819\n",
       "7   8  PRCINSP_RINSP_RCPT_NO  정밀재검사접수번호  106819  106819"
      ]
     },
     "execution_count": 506,
     "metadata": {},
     "output_type": "execute_result"
    }
   ],
   "source": [
    "temp = erdr.isnull().sum().reset_index()\n",
    "temp = temp.rename(columns={'index':'컬럼내용', 0:'빈 값 개수'})\n",
    "temp['총 행수'] = erdr.shape[0]\n",
    "temp['번호'] = [x for x in range(1, temp.shape[0] + 1)]\n",
    "ttemp = temp.merge(erd_cols, on='컬럼내용', how='left')\n",
    "ttemp = ttemp[['번호', '컬럼명', '컬럼내용', '빈 값 개수', '총 행수']]\n",
    "ttemp"
   ]
  },
  {
   "cell_type": "code",
   "execution_count": 507,
   "metadata": {},
   "outputs": [
    {
     "data": {
      "text/plain": [
       "'2024.01.19'"
      ]
     },
     "execution_count": 507,
     "metadata": {},
     "output_type": "execute_result"
    }
   ],
   "source": [
    "today_date = datetime.today().strftime('%Y.%m.%d')\n",
    "today_date"
   ]
  },
  {
   "cell_type": "code",
   "execution_count": 508,
   "metadata": {},
   "outputs": [],
   "source": [
    "# ttemp.to_excel(os.path.join(an4_fold, f'전문정비상세_데이터정보({today_date}).xlsx'), index=False)"
   ]
  },
  {
   "cell_type": "markdown",
   "metadata": {},
   "source": [
    "#### 데이터 수정"
   ]
  },
  {
   "cell_type": "code",
   "execution_count": 509,
   "metadata": {},
   "outputs": [
    {
     "data": {
      "text/plain": [
       "1"
      ]
     },
     "execution_count": 509,
     "metadata": {},
     "output_type": "execute_result"
    }
   ],
   "source": [
    "erdr['정비일자'].isnull().sum()"
   ]
  },
  {
   "cell_type": "code",
   "execution_count": 510,
   "metadata": {},
   "outputs": [
    {
     "data": {
      "text/plain": [
       "count     106818.00\n",
       "mean    20083911.85\n",
       "std        15852.89\n",
       "min     20060727.00\n",
       "25%     20070829.00\n",
       "50%     20080529.00\n",
       "75%     20090921.00\n",
       "max     20120928.00\n",
       "Name: 정비일자, dtype: float64"
      ]
     },
     "execution_count": 510,
     "metadata": {},
     "output_type": "execute_result"
    }
   ],
   "source": [
    "erdr['정비일자'].describe()"
   ]
  },
  {
   "cell_type": "code",
   "execution_count": 511,
   "metadata": {},
   "outputs": [
    {
     "data": {
      "text/plain": [
       "0   2007-02-08\n",
       "1   2006-08-11\n",
       "2   2006-08-11\n",
       "3   2006-08-11\n",
       "4   2006-12-11\n",
       "Name: 정비일자, dtype: datetime64[ns]"
      ]
     },
     "execution_count": 511,
     "metadata": {},
     "output_type": "execute_result"
    }
   ],
   "source": [
    "erdr['정비일자'] = pd.to_datetime(erdr['정비일자'], format='%Y%m%d', errors='coerce')\n",
    "erdr['정비일자'].head()"
   ]
  },
  {
   "cell_type": "code",
   "execution_count": 512,
   "metadata": {},
   "outputs": [
    {
     "data": {
      "text/plain": [
       "count                           106818\n",
       "mean     2008-10-30 13:16:57.738583296\n",
       "min                2006-07-27 00:00:00\n",
       "25%                2007-08-29 00:00:00\n",
       "50%                2008-05-29 00:00:00\n",
       "75%                2009-09-21 00:00:00\n",
       "max                2012-09-28 00:00:00\n",
       "Name: 정비일자, dtype: object"
      ]
     },
     "execution_count": 512,
     "metadata": {},
     "output_type": "execute_result"
    }
   ],
   "source": [
    "erdr['정비일자'].describe()"
   ]
  },
  {
   "cell_type": "markdown",
   "metadata": {},
   "source": [
    "### 전문정비&상세 병합\n",
    "- 기준 : 자동차등록정보, 정비접수번호, 전문정비사업소명"
   ]
  },
  {
   "cell_type": "code",
   "execution_count": 513,
   "metadata": {},
   "outputs": [
    {
     "data": {
      "text/plain": [
       "((54617, 16), (106819, 8))"
      ]
     },
     "execution_count": 513,
     "metadata": {},
     "output_type": "execute_result"
    }
   ],
   "source": [
    "err.shape, erdr.shape"
   ]
  },
  {
   "cell_type": "code",
   "execution_count": 514,
   "metadata": {},
   "outputs": [
    {
     "data": {
      "text/plain": [
       "(43771, 40927)"
      ]
     },
     "execution_count": 514,
     "metadata": {},
     "output_type": "execute_result"
    }
   ],
   "source": [
    "len(err['차대번호'].unique()), len(erdr['차대번호'].unique())"
   ]
  },
  {
   "cell_type": "code",
   "execution_count": 515,
   "metadata": {},
   "outputs": [
    {
     "data": {
      "text/plain": [
       "(차대번호         3566\n",
       " 차량번호            0\n",
       " 정비접수번호          0\n",
       " 정밀재검사접수번호       0\n",
       " 전문정비사업소명        0\n",
       " dtype: int64,\n",
       " 차대번호          12149\n",
       " 차량번호              1\n",
       " 정비접수번호            1\n",
       " 정밀재검사접수번호    106819\n",
       " 전문정비사업소명          1\n",
       " dtype: int64)"
      ]
     },
     "execution_count": 515,
     "metadata": {},
     "output_type": "execute_result"
    }
   ],
   "source": [
    "name = ['차대번호', '차량번호', '정비접수번호', '정밀재검사접수번호', '전문정비사업소명']\n",
    "err[name].isnull().sum(), erdr[name].isnull().sum()"
   ]
  },
  {
   "cell_type": "code",
   "execution_count": 516,
   "metadata": {},
   "outputs": [
    {
     "data": {
      "text/plain": [
       "(dtype('O'), dtype('float64'))"
      ]
     },
     "execution_count": 516,
     "metadata": {},
     "output_type": "execute_result"
    }
   ],
   "source": [
    "err['정밀재검사접수번호'].dtype, erdr['정밀재검사접수번호'].dtype"
   ]
  },
  {
   "cell_type": "code",
   "execution_count": 517,
   "metadata": {},
   "outputs": [
    {
     "data": {
      "text/plain": [
       "(106804, 11)"
      ]
     },
     "execution_count": 517,
     "metadata": {},
     "output_type": "execute_result"
    }
   ],
   "source": [
    "# 0.1s\n",
    "# 기준 : '자동차등록번호', '정비접수번호', '전문정비사업소명'\n",
    "# 방법 : inner\n",
    "ered = err[['차량번호', '차대번호', '정비일자', '전문정비사업소명', '정비접수번호', '정밀재검사접수번호']].merge(erdr, on=['차량번호', '정비접수번호', '전문정비사업소명'], how='inner')\n",
    "ered.shape"
   ]
  },
  {
   "cell_type": "code",
   "execution_count": 518,
   "metadata": {},
   "outputs": [
    {
     "data": {
      "text/plain": [
       "Index(['차량번호', '차대번호_x', '정비일자_x', '전문정비사업소명', '정비접수번호', '정밀재검사접수번호_x',\n",
       "       '차대번호_y', '정비부품명', '정비일자_y', '정비내용', '정밀재검사접수번호_y'],\n",
       "      dtype='object')"
      ]
     },
     "execution_count": 518,
     "metadata": {},
     "output_type": "execute_result"
    }
   ],
   "source": [
    "ered.columns"
   ]
  },
  {
   "cell_type": "code",
   "execution_count": 519,
   "metadata": {},
   "outputs": [
    {
     "data": {
      "text/plain": [
       "Index(['차량번호', '차대번호', '정비일자', '전문정비사업소명', '정비접수번호', '정밀재검사접수번호', '차대번호_상세',\n",
       "       '정비부품명', '정비일자_상세', '정비내용', '정밀재검사접수번호_상세'],\n",
       "      dtype='object')"
      ]
     },
     "execution_count": 519,
     "metadata": {},
     "output_type": "execute_result"
    }
   ],
   "source": [
    "ered = ered.rename(columns={'차대번호_x':'차대번호', '차대번호_y':'차대번호_상세', '정비일자_x':'정비일자', '정비일자_y':'정비일자_상세', '정밀재검사접수번호_x':'정밀재검사접수번호', '정밀재검사접수번호_y':'정밀재검사접수번호_상세'})\n",
    "ered.columns"
   ]
  },
  {
   "cell_type": "code",
   "execution_count": 520,
   "metadata": {},
   "outputs": [
    {
     "data": {
      "text/plain": [
       "(8, 11)"
      ]
     },
     "execution_count": 520,
     "metadata": {},
     "output_type": "execute_result"
    }
   ],
   "source": [
    "ered[ered['정비일자'] != ered['정비일자_상세']].shape"
   ]
  },
  {
   "cell_type": "code",
   "execution_count": 521,
   "metadata": {},
   "outputs": [
    {
     "data": {
      "text/plain": [
       "차량번호        0\n",
       "정비접수번호      0\n",
       "전문정비사업소명    0\n",
       "dtype: int64"
      ]
     },
     "execution_count": 521,
     "metadata": {},
     "output_type": "execute_result"
    }
   ],
   "source": [
    "ered[['차량번호', '정비접수번호', '전문정비사업소명']].isnull().sum()"
   ]
  },
  {
   "cell_type": "code",
   "execution_count": 522,
   "metadata": {},
   "outputs": [
    {
     "data": {
      "text/plain": [
       "dtype('<M8[ns]')"
      ]
     },
     "execution_count": 522,
     "metadata": {},
     "output_type": "execute_result"
    }
   ],
   "source": [
    "ered['정비일자'].dtype"
   ]
  },
  {
   "cell_type": "code",
   "execution_count": 523,
   "metadata": {},
   "outputs": [
    {
     "data": {
      "text/plain": [
       "0   2008-01-10\n",
       "1   2008-01-23\n",
       "2   2008-01-08\n",
       "3   2008-01-18\n",
       "4   2008-01-18\n",
       "Name: 정비일자, dtype: datetime64[ns]"
      ]
     },
     "execution_count": 523,
     "metadata": {},
     "output_type": "execute_result"
    }
   ],
   "source": [
    "ered['정비일자'].head()"
   ]
  },
  {
   "cell_type": "code",
   "execution_count": 524,
   "metadata": {},
   "outputs": [
    {
     "data": {
      "text/plain": [
       "0    2008-01-10\n",
       "1    2008-01-23\n",
       "2    2008-01-08\n",
       "3    2008-01-18\n",
       "4    2008-01-18\n",
       "Name: 정비일자, dtype: object"
      ]
     },
     "execution_count": 524,
     "metadata": {},
     "output_type": "execute_result"
    }
   ],
   "source": [
    "ered['정비일자'] = ered['정비일자'].astype('str')\n",
    "ered['정비일자'].head()"
   ]
  },
  {
   "cell_type": "code",
   "execution_count": 525,
   "metadata": {},
   "outputs": [
    {
     "data": {
      "text/plain": [
       "0    20080110\n",
       "1    20080123\n",
       "2    20080108\n",
       "3    20080118\n",
       "4    20080118\n",
       "Name: 정비일자, dtype: object"
      ]
     },
     "execution_count": 525,
     "metadata": {},
     "output_type": "execute_result"
    }
   ],
   "source": [
    "ered['정비일자'] = ered['정비일자'].str.replace('-', '')\n",
    "ered['정비일자'].head()"
   ]
  },
  {
   "cell_type": "code",
   "execution_count": 526,
   "metadata": {},
   "outputs": [],
   "source": [
    "ered['정비일자'] = ered['정비일자'].astype('int')"
   ]
  },
  {
   "cell_type": "code",
   "execution_count": 527,
   "metadata": {},
   "outputs": [
    {
     "data": {
      "text/plain": [
       "dtype('int32')"
      ]
     },
     "execution_count": 527,
     "metadata": {},
     "output_type": "execute_result"
    }
   ],
   "source": [
    "ered['정비일자'].dtype"
   ]
  },
  {
   "cell_type": "markdown",
   "metadata": {},
   "source": [
    "### 1\\. 전문 + 등록"
   ]
  },
  {
   "cell_type": "code",
   "execution_count": 528,
   "metadata": {},
   "outputs": [],
   "source": [
    "# print(carr.shape)\n",
    "# carr['최초등록일자'] = pd.to_numeric(carr['최초등록일자'], errors='coerce')\n",
    "# carr['최초등록일자'].dtype\n",
    "# print(carr.shape)\n",
    "# print()\n",
    "\n",
    "# # 30.5s\n",
    "# carm = carr.sort_values(['최초등록일자', '차량말소여부'], ascending=[False, False]).drop_duplicates('차대번호').reset_index(drop=True)\n",
    "# print(carm.shape)\n",
    "# print(carm['차량말소여부'].value_counts(dropna=False))\n",
    "# print()\n",
    "\n",
    "# # 3.7s\n",
    "# carm = carm[carm['차량말소여부'] == 'N'].reset_index(drop=True)\n",
    "# print(carm.shape)\n",
    "# print()\n",
    "\n",
    "# # 44.3s\n",
    "# print(ered.shape)\n",
    "# erc = ered.merge(carm, on='차대번호', how='left')\n",
    "# print(erc.shape)"
   ]
  },
  {
   "cell_type": "code",
   "execution_count": 529,
   "metadata": {},
   "outputs": [
    {
     "name": "stdout",
     "output_type": "stream",
     "text": [
      "cs : 차량말소여부\n",
      "N    25949517\n",
      "Y     5549354\n",
      "Name: count, dtype: int64\n"
     ]
    },
    {
     "name": "stdout",
     "output_type": "stream",
     "text": [
      "csm.shape : (25949517, 21)\n",
      "\n",
      "ered.shape : (106804, 11)\n",
      "erc.shape : (106804, 31)\n"
     ]
    }
   ],
   "source": [
    "# 3.7s\n",
    "print('cs :', cs['차량말소여부'].value_counts(dropna=False))\n",
    "csm = cs[cs['차량말소여부'] == 'N'].reset_index(drop=True)\n",
    "print('csm.shape :', csm.shape)\n",
    "print()\n",
    "\n",
    "# 44.3s\n",
    "print('ered.shape :', ered.shape)\n",
    "erc = ered.merge(csm, on='차대번호', how='left')\n",
    "print('erc.shape :', erc.shape)"
   ]
  },
  {
   "cell_type": "code",
   "execution_count": 530,
   "metadata": {},
   "outputs": [
    {
     "data": {
      "text/plain": [
       "Index(['차량번호', '차대번호', '정비일자', '전문정비사업소명', '정비접수번호', '정밀재검사접수번호', '차대번호_상세',\n",
       "       '정비부품명', '정비일자_상세', '정비내용', '정밀재검사접수번호_상세', '제원관리번호', '차량말소여부',\n",
       "       '최초등록일자', '연식', '차종', '용도', '법정동코드', '배출가스등급', '연료', '제작사명', '차종유형',\n",
       "       '차명', '자동차형식', '엔진형식', '총중량', '배기량', '엔진출력', '시도명', '시군구명', '차량관리번호'],\n",
       "      dtype='object')"
      ]
     },
     "execution_count": 530,
     "metadata": {},
     "output_type": "execute_result"
    }
   ],
   "source": [
    "erc.columns"
   ]
  },
  {
   "cell_type": "code",
   "execution_count": 531,
   "metadata": {},
   "outputs": [
    {
     "data": {
      "text/plain": [
       "0"
      ]
     },
     "execution_count": 531,
     "metadata": {},
     "output_type": "execute_result"
    }
   ],
   "source": [
    "cs['배출가스등급'].isnull().sum()"
   ]
  },
  {
   "cell_type": "code",
   "execution_count": 532,
   "metadata": {},
   "outputs": [
    {
     "data": {
      "text/plain": [
       "99988"
      ]
     },
     "execution_count": 532,
     "metadata": {},
     "output_type": "execute_result"
    }
   ],
   "source": [
    "erc['배출가스등급'].isnull().sum()"
   ]
  },
  {
   "cell_type": "code",
   "execution_count": 533,
   "metadata": {},
   "outputs": [
    {
     "data": {
      "text/plain": [
       "6816"
      ]
     },
     "execution_count": 533,
     "metadata": {},
     "output_type": "execute_result"
    }
   ],
   "source": [
    "ered.shape[0] - erc['배출가스등급'].isnull().sum()"
   ]
  },
  {
   "cell_type": "markdown",
   "metadata": {},
   "source": [
    "### 2\\. + 제원"
   ]
  },
  {
   "cell_type": "code",
   "execution_count": 534,
   "metadata": {},
   "outputs": [],
   "source": [
    "# print(erc.shape)\n",
    "# ercs = erc.merge(srcr, on='제원관리번호', how='left')\n",
    "# print(ercs.shape)"
   ]
  },
  {
   "cell_type": "code",
   "execution_count": 535,
   "metadata": {},
   "outputs": [],
   "source": [
    "ercs = erc.copy()"
   ]
  },
  {
   "cell_type": "code",
   "execution_count": 536,
   "metadata": {},
   "outputs": [
    {
     "data": {
      "text/plain": [
       "99988"
      ]
     },
     "execution_count": 536,
     "metadata": {},
     "output_type": "execute_result"
    }
   ],
   "source": [
    "ercs['법정동코드'].isnull().sum()"
   ]
  },
  {
   "cell_type": "markdown",
   "metadata": {},
   "source": [
    "### 3\\. + 법정동코드"
   ]
  },
  {
   "cell_type": "code",
   "execution_count": 537,
   "metadata": {},
   "outputs": [],
   "source": [
    "# ercs['법정동코드'] = ercs['법정동코드'].astype('str')\n",
    "# # 26.2s\n",
    "# ercs['시도코드'] = ercs['법정동코드'].str[:2]\n",
    "# ercs['시군구코드'] = ercs['법정동코드'].str[2:5]\n",
    "# ercs['시도코드'] = pd.to_numeric(ercs['시도코드'], errors='coerce')\n",
    "# ercs['시군구코드'] = pd.to_numeric(ercs['시군구코드'], errors='coerce')\n",
    "# ercs['법정동코드'] = pd.to_numeric(ercs['법정동코드'], errors='coerce')"
   ]
  },
  {
   "cell_type": "code",
   "execution_count": 538,
   "metadata": {},
   "outputs": [
    {
     "data": {
      "text/plain": [
       "(106804, 31)"
      ]
     },
     "execution_count": 538,
     "metadata": {},
     "output_type": "execute_result"
    }
   ],
   "source": [
    "ercs.shape"
   ]
  },
  {
   "cell_type": "code",
   "execution_count": 539,
   "metadata": {},
   "outputs": [],
   "source": [
    "# # 0.4s\n",
    "# ec = ercs.merge(coder[['법정동코드', '시도', '시군구']], on='법정동코드', how='left')\n",
    "# print(ec.shape)\n",
    "# print(ec[['시도', '시군구']].isnull().sum())"
   ]
  },
  {
   "cell_type": "code",
   "execution_count": 540,
   "metadata": {},
   "outputs": [
    {
     "name": "stdout",
     "output_type": "stream",
     "text": [
      "시도명     99988\n",
      "시군구명    99988\n",
      "dtype: int64\n"
     ]
    }
   ],
   "source": [
    "ec = ercs.copy()\n",
    "print(ec[['시도명', '시군구명']].isnull().sum())"
   ]
  },
  {
   "cell_type": "code",
   "execution_count": 541,
   "metadata": {},
   "outputs": [
    {
     "data": {
      "text/plain": [
       "Index(['차량번호', '차대번호', '정비일자', '전문정비사업소명', '정비접수번호', '정밀재검사접수번호', '차대번호_상세',\n",
       "       '정비부품명', '정비일자_상세', '정비내용', '정밀재검사접수번호_상세', '제원관리번호', '차량말소여부',\n",
       "       '최초등록일자', '연식', '차종', '용도', '법정동코드', '배출가스등급', '연료', '제작사명', '차종유형',\n",
       "       '차명', '자동차형식', '엔진형식', '총중량', '배기량', '엔진출력', '시도명', '시군구명', '차량관리번호'],\n",
       "      dtype='object')"
      ]
     },
     "execution_count": 541,
     "metadata": {},
     "output_type": "execute_result"
    }
   ],
   "source": [
    "ec.columns"
   ]
  },
  {
   "cell_type": "markdown",
   "metadata": {},
   "source": [
    "### 정기&정밀 병합"
   ]
  },
  {
   "cell_type": "code",
   "execution_count": 542,
   "metadata": {},
   "outputs": [],
   "source": [
    "jgtr['정기정밀구분'] = '정기'\n",
    "eetr['정기정밀구분'] = '정밀'"
   ]
  },
  {
   "cell_type": "code",
   "execution_count": 543,
   "metadata": {},
   "outputs": [
    {
     "data": {
      "text/plain": [
       "((67890732, 25), (105849354, 25))"
      ]
     },
     "execution_count": 543,
     "metadata": {},
     "output_type": "execute_result"
    }
   ],
   "source": [
    "jgtr.shape, eetr.shape"
   ]
  },
  {
   "cell_type": "code",
   "execution_count": 544,
   "metadata": {},
   "outputs": [
    {
     "data": {
      "text/plain": [
       "(173740086, 25)"
      ]
     },
     "execution_count": 544,
     "metadata": {},
     "output_type": "execute_result"
    }
   ],
   "source": [
    "# 22.0s\n",
    "ins = pd.concat([jgtr, eetr], ignore_index=True)\n",
    "ins.shape"
   ]
  },
  {
   "cell_type": "code",
   "execution_count": 545,
   "metadata": {},
   "outputs": [
    {
     "data": {
      "text/plain": [
       "Index(['차대번호', '검사일자', '주행거리', '검사종류', '검사방법', '검사판정', '무부하매연판정1', '무부하매연판정2',\n",
       "       '무부하매연판정3', '무부하매연판정4', '무부하매연판정5', '무부하매연판정6', '무부하매연측정치1',\n",
       "       '무부하매연측정치2', '무부하매연측정치3', '무부하매연측정치4', '무부하매연측정치5', '무부하매연측정치6',\n",
       "       '무부하매연허용치1', '무부하매연허용치2', '무부하매연허용치3', '무부하매연허용치4', '무부하매연허용치5',\n",
       "       '무부하매연허용치6', '정기정밀구분'],\n",
       "      dtype='object')"
      ]
     },
     "execution_count": 545,
     "metadata": {},
     "output_type": "execute_result"
    }
   ],
   "source": [
    "ins.columns"
   ]
  },
  {
   "cell_type": "code",
   "execution_count": 546,
   "metadata": {},
   "outputs": [],
   "source": [
    "# 18.7s\n",
    "ins = ins[[\n",
    "    '차대번호',\n",
    "    '검사일자',\n",
    "    '주행거리',\n",
    "    '검사종류',\n",
    "    '검사방법',\n",
    "    '검사판정',\n",
    "    '무부하매연측정치1',\n",
    "    '무부하매연허용치1',\n",
    "    '무부하매연판정1',\n",
    "    '무부하매연측정치2',\n",
    "    '무부하매연허용치2',\n",
    "    '무부하매연판정2',\n",
    "    '무부하매연측정치3',\n",
    "    '무부하매연허용치3',\n",
    "    '무부하매연판정3',\n",
    "    '무부하매연측정치4',\n",
    "    '무부하매연허용치4',\n",
    "    '무부하매연판정4',\n",
    "    '무부하매연측정치5',\n",
    "    '무부하매연허용치5',\n",
    "    '무부하매연판정5',\n",
    "    '무부하매연측정치6',\n",
    "    '무부하매연허용치6',\n",
    "    '무부하매연판정6',\n",
    "    '정기정밀구분',\n",
    "]]"
   ]
  },
  {
   "cell_type": "code",
   "execution_count": 547,
   "metadata": {},
   "outputs": [
    {
     "data": {
      "text/plain": [
       "(106804, 31)"
      ]
     },
     "execution_count": 547,
     "metadata": {},
     "output_type": "execute_result"
    }
   ],
   "source": [
    "ec.shape"
   ]
  },
  {
   "cell_type": "code",
   "execution_count": 548,
   "metadata": {},
   "outputs": [
    {
     "data": {
      "text/plain": [
       "Index(['차량번호', '차대번호', '정비일자', '전문정비사업소명', '정비접수번호', '정밀재검사접수번호', '차대번호_상세',\n",
       "       '정비부품명', '정비일자_상세', '정비내용', '정밀재검사접수번호_상세', '제원관리번호', '차량말소여부',\n",
       "       '최초등록일자', '연식', '차종', '용도', '법정동코드', '배출가스등급', '연료', '제작사명', '차종유형',\n",
       "       '차명', '자동차형식', '엔진형식', '총중량', '배기량', '엔진출력', '시도명', '시군구명', '차량관리번호'],\n",
       "      dtype='object')"
      ]
     },
     "execution_count": 548,
     "metadata": {},
     "output_type": "execute_result"
    }
   ],
   "source": [
    "ec.columns"
   ]
  },
  {
   "cell_type": "code",
   "execution_count": 549,
   "metadata": {},
   "outputs": [],
   "source": [
    "# # \n",
    "# bf_er = ec[[\n",
    "#     '차량번호',\n",
    "#     '차대번호',\n",
    "#     '정비일자',\n",
    "#     '전문정비사업소명',\n",
    "#     '정비접수번호',\n",
    "#     # '정밀재검사접수번호',\n",
    "#     # '차대번호_상세',\n",
    "#     '정비내용',\n",
    "#     # '정비일자_상세',\n",
    "#     '정비부품명',\n",
    "#     # '정밀재검사접수번호_상세',\n",
    "#     '제원관리번호',\n",
    "#     # '차량말소여부',\n",
    "#     # '최초등록일자',\n",
    "#     '연식',\n",
    "#     '차종',\n",
    "#     '용도',\n",
    "#     '법정동코드',\n",
    "#     '배출가스등급',\n",
    "#     '연료',\n",
    "#     '제작사명',\n",
    "#     '차종유형',\n",
    "#     '차명',\n",
    "#     '자동차형식',\n",
    "#     '엔진형식',\n",
    "#     '총중량',\n",
    "#     '배기량',\n",
    "#     '엔진출력',\n",
    "#     '시도',\n",
    "#     '시군구',\n",
    "# ]]\n",
    "# bf_er.shape"
   ]
  },
  {
   "cell_type": "code",
   "execution_count": 550,
   "metadata": {},
   "outputs": [
    {
     "data": {
      "text/plain": [
       "(106804, 24)"
      ]
     },
     "execution_count": 550,
     "metadata": {},
     "output_type": "execute_result"
    }
   ],
   "source": [
    "# \n",
    "bf_er = ec[[\n",
    "    '차량번호',\n",
    "    '차대번호',\n",
    "    '정비일자',\n",
    "    '전문정비사업소명',\n",
    "    '정비접수번호',\n",
    "    # '정밀재검사접수번호',\n",
    "    # '차대번호_상세',\n",
    "    '정비내용',\n",
    "    # '정비일자_상세',\n",
    "    '정비부품명',\n",
    "    # '정밀재검사접수번호_상세',\n",
    "    '제원관리번호',\n",
    "    # '차량말소여부',\n",
    "    # '최초등록일자',\n",
    "    '연식',\n",
    "    '차종',\n",
    "    '용도',\n",
    "    '법정동코드',\n",
    "    '배출가스등급',\n",
    "    '연료',\n",
    "    '제작사명',\n",
    "    '차종유형',\n",
    "    '차명',\n",
    "    '자동차형식',\n",
    "    '엔진형식',\n",
    "    '총중량',\n",
    "    '배기량',\n",
    "    '엔진출력',\n",
    "    '시도명',\n",
    "    '시군구명',\n",
    "]]\n",
    "bf_er.shape"
   ]
  },
  {
   "cell_type": "markdown",
   "metadata": {},
   "source": [
    "### 전문정비 추가 데이터"
   ]
  },
  {
   "cell_type": "markdown",
   "metadata": {},
   "source": [
    "#### 데이터 확인"
   ]
  },
  {
   "cell_type": "code",
   "execution_count": 551,
   "metadata": {},
   "outputs": [
    {
     "data": {
      "text/plain": [
       "['tb_rsd_ge_list_202311071035.csv',\n",
       " 'tb_rsd_ge_list_ex_202311071035.csv',\n",
       " 'tb_rsd_ge_sub_202311071035.csv',\n",
       " 'tb_rse_det_ex_202312061021.csv',\n",
       " 'tb_rse_out_result_202311071036.csv',\n",
       " 'tb_rse_reg_202311071036.csv',\n",
       " 'tb_rse_std_202311071036.csv',\n",
       " 'tb_rsm_org_202311071037.csv',\n",
       " 'tb_rso_reg_202311071037.csv',\n",
       " 'tb_us_org_202311071037.csv',\n",
       " '과제4_전처리완료_20231221_PM_033316.csv',\n",
       " '과제4_전처리완료_20240105_PM_090451.csv',\n",
       " '과제4_전처리완료_20240108_PM_100718.csv',\n",
       " '과제4_전처리완료_20240116_PM_042303.csv',\n",
       " '과제4_전처리완료_20240118_AM_091837.csv',\n",
       " '과제4_전처리완료_20240118_AM_103015.csv',\n",
       " '과제4_전처리완료_20240118_AM_111805.csv',\n",
       " '과제4_전처리완료_20240118_PM_025809.csv',\n",
       " '과제4_전처리완료_20240119_AM_095418.csv',\n",
       " '과제4_전처리완료_전문정비통합_20240109_AM_025533.csv',\n",
       " '과제4_전처리완료_전문정비통합_20240116_PM_042303.csv',\n",
       " '과제4_전처리완료_전문정비통합_20240118_AM_091837.csv',\n",
       " '과제4_전처리완료_전문정비통합_20240118_AM_103015.csv',\n",
       " '과제4_전처리완료_전문정비통합_20240118_AM_111805.csv',\n",
       " '과제4_전처리완료_전문정비통합_20240118_PM_025809.csv',\n",
       " '과제4_전처리완료_전문정비통합_20240119_AM_095418.csv',\n",
       " '전국_전문정비사업자_현황_20231213.xlsx',\n",
       " '전국_전문정비사업자_현황_코드_20231214.xlsx',\n",
       " '전문정비_20231208.xlsx',\n",
       " '전문정비내역수정_20231208.csv',\n",
       " '전문정비내역수정_20231208.xlsx',\n",
       " '전문정비사업자 현황 from 환경공단',\n",
       " '전문정비사업자_2회부적합정비결과등록_(20200101~20230731)_v10.txt']"
      ]
     },
     "execution_count": 551,
     "metadata": {},
     "output_type": "execute_result"
    }
   ],
   "source": [
    "os.listdir(raw4_fold)"
   ]
  },
  {
   "cell_type": "code",
   "execution_count": 552,
   "metadata": {},
   "outputs": [
    {
     "data": {
      "text/plain": [
       "33"
      ]
     },
     "execution_count": 552,
     "metadata": {},
     "output_type": "execute_result"
    }
   ],
   "source": [
    "len(os.listdir(raw4_fold))"
   ]
  },
  {
   "cell_type": "code",
   "execution_count": 553,
   "metadata": {},
   "outputs": [
    {
     "name": "stdout",
     "output_type": "stream",
     "text": [
      "TB_RSD_GE_LIST\n",
      "TB_RSD_GE_LIST_EX\n",
      "TB_RSD_GE_SUB\n",
      "TB_RSE_OUT_RESULT\n",
      "TB_RSE_REG\n",
      "TB_RSE_STD\n",
      "TB_RSM_ORG\n",
      "TB_RSO_REG\n",
      "TB_US_ORG\n"
     ]
    }
   ],
   "source": [
    "print('tb_rsd_ge_list'.upper())\n",
    "print('tb_rsd_ge_list_ex'.upper())\n",
    "print('tb_rsd_ge_sub'.upper())\n",
    "print('tb_rse_out_result'.upper())\n",
    "print('tb_rse_reg'.upper())\n",
    "print('tb_rse_std'.upper())\n",
    "print('tb_rsm_org'.upper())\n",
    "print('tb_rso_reg'.upper())\n",
    "print('tb_us_org'.upper())"
   ]
  },
  {
   "cell_type": "code",
   "execution_count": 554,
   "metadata": {},
   "outputs": [
    {
     "data": {
      "text/plain": [
       "'D:/data/processing/big3/raw/BD4'"
      ]
     },
     "execution_count": 554,
     "metadata": {},
     "output_type": "execute_result"
    }
   ],
   "source": [
    "raw4_fold"
   ]
  },
  {
   "cell_type": "code",
   "execution_count": 555,
   "metadata": {},
   "outputs": [
    {
     "name": "stdout",
     "output_type": "stream",
     "text": [
      "<class 'pandas.core.frame.DataFrame'>\n",
      "RangeIndex: 71065 entries, 0 to 71064\n",
      "Data columns (total 55 columns):\n",
      " #   Column             Non-Null Count  Dtype  \n",
      "---  ------             --------------  -----  \n",
      " 0   ge_idx             71065 non-null  int64  \n",
      " 1   rsd_month          71065 non-null  int64  \n",
      " 2   car_ser_no         71065 non-null  object \n",
      " 3   snt                61457 non-null  float64\n",
      " 4   ge_cnt             71065 non-null  int64  \n",
      " 5   search1            11799 non-null  float64\n",
      " 6   search2            2351 non-null   float64\n",
      " 7   search3            52534 non-null  float64\n",
      " 8   search4            61061 non-null  float64\n",
      " 9   car_reg_no         71065 non-null  object \n",
      " 10  car_nm             71065 non-null  object \n",
      " 11  usage              71065 non-null  object \n",
      " 12  car_year           71065 non-null  int64  \n",
      " 13  car_type_nm        71065 non-null  object \n",
      " 14  car_weight         71065 non-null  int64  \n",
      " 15  tot_weight         71065 non-null  int64  \n",
      " 16  engine_capacity    71065 non-null  int64  \n",
      " 17  engine_power       71065 non-null  object \n",
      " 18  car_fuel_nm        71064 non-null  object \n",
      " 19  first_reg_date     71065 non-null  int64  \n",
      " 20  smo_chk_exp_date   70710 non-null  float64\n",
      " 21  chk_ge_fr          61457 non-null  object \n",
      " 22  chk_ge_to          61457 non-null  object \n",
      " 23  rso_reg_status     71065 non-null  object \n",
      " 24  make_reg_date      70729 non-null  float64\n",
      " 25  car_fuel_cd        71065 non-null  object \n",
      " 26  car_type_cd        71065 non-null  int64  \n",
      " 27  reg_region         71065 non-null  object \n",
      " 28  sido               62729 non-null  object \n",
      " 29  sigungu            62706 non-null  object \n",
      " 30  usage_cd           71065 non-null  int64  \n",
      " 31  usage_ex           71065 non-null  object \n",
      " 32  ge_reg_type        71065 non-null  int64  \n",
      " 33  last_chk_exp_date  0 non-null      float64\n",
      " 34  car_type_nm2       9586 non-null   object \n",
      " 35  car_maker_nm       9608 non-null   object \n",
      " 36  engine_type        9608 non-null   object \n",
      " 37  mileage            9608 non-null   float64\n",
      " 38  road_cont          9597 non-null   float64\n",
      " 39  road_type          9606 non-null   float64\n",
      " 40  road_money         9444 non-null   float64\n",
      " 41  road_reason        412 non-null    object \n",
      " 42  conf_yn            71055 non-null  object \n",
      " 43  conf_flag          0 non-null      float64\n",
      " 44  selection_date     0 non-null      float64\n",
      " 45  selection_user     0 non-null      float64\n",
      " 46  confirm_date       0 non-null      float64\n",
      " 47  confirm_user       0 non-null      float64\n",
      " 48  imps_reason        117 non-null    object \n",
      " 49  sido_cd            71051 non-null  float64\n",
      " 50  sigungu_cd         70810 non-null  object \n",
      " 51  sido_nm            71051 non-null  object \n",
      " 52  sigungu_nm         70789 non-null  object \n",
      " 53  cncl_yn            71065 non-null  object \n",
      " 54  note               2 non-null      object \n",
      "dtypes: float64(18), int64(11), object(26)\n",
      "memory usage: 29.8+ MB\n"
     ]
    }
   ],
   "source": [
    "# 0.3s\n",
    "name = 'tb_rsd_ge_list_202311071035'\n",
    "file_name = f'{name}.csv'\n",
    "rsd_ge_list = pd.read_csv(os.path.join(raw4_fold, file_name), low_memory=False, sep='|')\n",
    "rsd_ge_list.info()"
   ]
  },
  {
   "cell_type": "code",
   "execution_count": 556,
   "metadata": {},
   "outputs": [
    {
     "data": {
      "text/html": [
       "<div>\n",
       "<style scoped>\n",
       "    .dataframe tbody tr th:only-of-type {\n",
       "        vertical-align: middle;\n",
       "    }\n",
       "\n",
       "    .dataframe tbody tr th {\n",
       "        vertical-align: top;\n",
       "    }\n",
       "\n",
       "    .dataframe thead th {\n",
       "        text-align: right;\n",
       "    }\n",
       "</style>\n",
       "<table border=\"1\" class=\"dataframe\">\n",
       "  <thead>\n",
       "    <tr style=\"text-align: right;\">\n",
       "      <th></th>\n",
       "      <th>번호</th>\n",
       "      <th>컬럼명</th>\n",
       "      <th>결측치 개수</th>\n",
       "      <th>총 행수</th>\n",
       "    </tr>\n",
       "  </thead>\n",
       "  <tbody>\n",
       "    <tr>\n",
       "      <th>0</th>\n",
       "      <td>1</td>\n",
       "      <td>ge_idx</td>\n",
       "      <td>0</td>\n",
       "      <td>71065</td>\n",
       "    </tr>\n",
       "    <tr>\n",
       "      <th>1</th>\n",
       "      <td>2</td>\n",
       "      <td>rsd_month</td>\n",
       "      <td>0</td>\n",
       "      <td>71065</td>\n",
       "    </tr>\n",
       "    <tr>\n",
       "      <th>2</th>\n",
       "      <td>3</td>\n",
       "      <td>car_ser_no</td>\n",
       "      <td>0</td>\n",
       "      <td>71065</td>\n",
       "    </tr>\n",
       "    <tr>\n",
       "      <th>3</th>\n",
       "      <td>4</td>\n",
       "      <td>snt</td>\n",
       "      <td>9608</td>\n",
       "      <td>71065</td>\n",
       "    </tr>\n",
       "    <tr>\n",
       "      <th>4</th>\n",
       "      <td>5</td>\n",
       "      <td>ge_cnt</td>\n",
       "      <td>0</td>\n",
       "      <td>71065</td>\n",
       "    </tr>\n",
       "  </tbody>\n",
       "</table>\n",
       "</div>"
      ],
      "text/plain": [
       "   번호         컬럼명  결측치 개수   총 행수\n",
       "0   1      ge_idx       0  71065\n",
       "1   2   rsd_month       0  71065\n",
       "2   3  car_ser_no       0  71065\n",
       "3   4         snt    9608  71065\n",
       "4   5      ge_cnt       0  71065"
      ]
     },
     "execution_count": 556,
     "metadata": {},
     "output_type": "execute_result"
    }
   ],
   "source": [
    "stat1 = rsd_ge_list.isnull().sum().reset_index()\n",
    "stat1 = stat1.rename(columns={'index':'컬럼명', 0:'결측치 개수'})\n",
    "stat1['총 행수'] = rsd_ge_list.shape[0]\n",
    "stat1['번호'] = [x for x in range(1, stat1.shape[0] + 1)]\n",
    "stat1 = stat1[['번호', '컬럼명', '결측치 개수', '총 행수']]\n",
    "stat1.head()"
   ]
  },
  {
   "cell_type": "code",
   "execution_count": 557,
   "metadata": {},
   "outputs": [
    {
     "name": "stdout",
     "output_type": "stream",
     "text": [
      "tb_rsd_ge_list_202311071035.csv\n",
      "tb_rsd_ge_list_ex_202311071035.csv\n",
      "tb_rsd_ge_sub_202311071035.csv\n",
      "tb_rse_det_ex_202312061021.csv\n",
      "tb_rse_out_result_202311071036.csv\n",
      "tb_rse_reg_202311071036.csv\n",
      "tb_rse_std_202311071036.csv\n",
      "tb_rsm_org_202311071037.csv\n",
      "tb_rso_reg_202311071037.csv\n",
      "tb_us_org_202311071037.csv\n",
      "과제4_전처리완료_20231221_PM_033316.csv\n",
      "과제4_전처리완료_20240105_PM_090451.csv\n",
      "과제4_전처리완료_20240108_PM_100718.csv\n",
      "과제4_전처리완료_20240116_PM_042303.csv\n",
      "과제4_전처리완료_20240118_AM_091837.csv\n",
      "과제4_전처리완료_20240118_AM_103015.csv\n",
      "과제4_전처리완료_20240118_AM_111805.csv\n",
      "과제4_전처리완료_20240118_PM_025809.csv\n",
      "과제4_전처리완료_20240119_AM_095418.csv\n",
      "과제4_전처리완료_전문정비통합_20240109_AM_025533.csv\n",
      "과제4_전처리완료_전문정비통합_20240116_PM_042303.csv\n",
      "과제4_전처리완료_전문정비통합_20240118_AM_091837.csv\n",
      "과제4_전처리완료_전문정비통합_20240118_AM_103015.csv\n",
      "과제4_전처리완료_전문정비통합_20240118_AM_111805.csv\n",
      "과제4_전처리완료_전문정비통합_20240118_PM_025809.csv\n",
      "과제4_전처리완료_전문정비통합_20240119_AM_095418.csv\n",
      "전국_전문정비사업자_현황_20231213.xlsx\n",
      "전국_전문정비사업자_현황_코드_20231214.xlsx\n",
      "전문정비_20231208.xlsx\n",
      "전문정비내역수정_20231208.csv\n",
      "전문정비내역수정_20231208.xlsx\n",
      "전문정비사업자 현황 from 환경공단\n",
      "전문정비사업자_2회부적합정비결과등록_(20200101~20230731)_v10.txt\n"
     ]
    }
   ],
   "source": [
    "for file_name in os.listdir(raw4_fold):\n",
    "    print(file_name)"
   ]
  },
  {
   "cell_type": "code",
   "execution_count": 558,
   "metadata": {},
   "outputs": [
    {
     "data": {
      "text/plain": [
       "10"
      ]
     },
     "execution_count": 558,
     "metadata": {},
     "output_type": "execute_result"
    }
   ],
   "source": [
    "tb_list = [\n",
    "    'tb_rsd_ge_list_202311071035.csv',\n",
    "    'tb_rsd_ge_list_ex_202311071035.csv',\n",
    "    'tb_rsd_ge_sub_202311071035.csv',\n",
    "    'tb_rse_det_ex_202312061021.csv',\n",
    "    'tb_rse_out_result_202311071036.csv',\n",
    "    'tb_rse_reg_202311071036.csv',\n",
    "    'tb_rse_std_202311071036.csv',\n",
    "    'tb_rsm_org_202311071037.csv',\n",
    "    'tb_rso_reg_202311071037.csv',\n",
    "    'tb_us_org_202311071037.csv', \n",
    "]\n",
    "len(tb_list)"
   ]
  },
  {
   "cell_type": "code",
   "execution_count": 559,
   "metadata": {},
   "outputs": [],
   "source": [
    "# # 12.8s\n",
    "# for file_name in tb_list:\n",
    "#     name = file_name.split('.')[0]\n",
    "#     df = pd.read_csv(os.path.join(raw4_fold, file_name), low_memory=False, sep='|')\n",
    "#     print(f'{name} : {df.shape}')"
   ]
  },
  {
   "cell_type": "markdown",
   "metadata": {},
   "source": [
    "#### [출력] 컬럼, 데이터 정보들"
   ]
  },
  {
   "cell_type": "code",
   "execution_count": 560,
   "metadata": {},
   "outputs": [
    {
     "data": {
      "text/plain": [
       "'2024.01.19'"
      ]
     },
     "execution_count": 560,
     "metadata": {},
     "output_type": "execute_result"
    }
   ],
   "source": [
    "today_date = datetime.today().strftime('%Y.%m.%d')\n",
    "today_date"
   ]
  },
  {
   "cell_type": "code",
   "execution_count": 561,
   "metadata": {},
   "outputs": [],
   "source": [
    "# # 12.8s\n",
    "# with pd.ExcelWriter(os.path.join(an4_fold, f'건설기계_추가데이터_현황({today_date}).xlsx')) as writer:\n",
    "#     for file_name in os.listdir(raw4_fold):\n",
    "#         name = file_name.split('.')[0]\n",
    "#         df = pd.read_csv(os.path.join(raw4_fold, file_name), low_memory=False, sep='|')\n",
    "#         temp = df.isnull().sum().reset_index()\n",
    "#         temp = temp.rename(columns={'index':'컬럼명', 0:'결측치 개수'})\n",
    "#         temp['총 행수'] = df.shape[0]\n",
    "#         temp['번호'] = [x for x in range(1, temp.shape[0] + 1)]\n",
    "#         temp = temp[['번호', '컬럼명', '결측치 개수', '총 행수']]\n",
    "#         temp.to_excel(writer, sheet_name=name, index=False)"
   ]
  },
  {
   "cell_type": "markdown",
   "metadata": {},
   "source": [
    "### 3\\. TB_RSD_GE_LIST(과다배출선별(최종)(연속과다+차대번호중복제거))"
   ]
  },
  {
   "cell_type": "code",
   "execution_count": 562,
   "metadata": {},
   "outputs": [
    {
     "name": "stdout",
     "output_type": "stream",
     "text": [
      "<class 'pandas.core.frame.DataFrame'>\n",
      "RangeIndex: 71065 entries, 0 to 71064\n",
      "Data columns (total 55 columns):\n",
      " #   Column             Non-Null Count  Dtype  \n",
      "---  ------             --------------  -----  \n",
      " 0   ge_idx             71065 non-null  int64  \n",
      " 1   rsd_month          71065 non-null  int64  \n",
      " 2   car_ser_no         71065 non-null  object \n",
      " 3   snt                61457 non-null  float64\n",
      " 4   ge_cnt             71065 non-null  int64  \n",
      " 5   search1            11799 non-null  float64\n",
      " 6   search2            2351 non-null   float64\n",
      " 7   search3            52534 non-null  float64\n",
      " 8   search4            61061 non-null  float64\n",
      " 9   car_reg_no         71065 non-null  object \n",
      " 10  car_nm             71065 non-null  object \n",
      " 11  usage              71065 non-null  object \n",
      " 12  car_year           71065 non-null  int64  \n",
      " 13  car_type_nm        71065 non-null  object \n",
      " 14  car_weight         71065 non-null  int64  \n",
      " 15  tot_weight         71065 non-null  int64  \n",
      " 16  engine_capacity    71065 non-null  int64  \n",
      " 17  engine_power       71065 non-null  object \n",
      " 18  car_fuel_nm        71064 non-null  object \n",
      " 19  first_reg_date     71065 non-null  int64  \n",
      " 20  smo_chk_exp_date   70710 non-null  float64\n",
      " 21  chk_ge_fr          61457 non-null  object \n",
      " 22  chk_ge_to          61457 non-null  object \n",
      " 23  rso_reg_status     71065 non-null  object \n",
      " 24  make_reg_date      70729 non-null  float64\n",
      " 25  car_fuel_cd        71065 non-null  object \n",
      " 26  car_type_cd        71065 non-null  int64  \n",
      " 27  reg_region         71065 non-null  object \n",
      " 28  sido               62729 non-null  object \n",
      " 29  sigungu            62706 non-null  object \n",
      " 30  usage_cd           71065 non-null  int64  \n",
      " 31  usage_ex           71065 non-null  object \n",
      " 32  ge_reg_type        71065 non-null  int64  \n",
      " 33  last_chk_exp_date  0 non-null      float64\n",
      " 34  car_type_nm2       9586 non-null   object \n",
      " 35  car_maker_nm       9608 non-null   object \n",
      " 36  engine_type        9608 non-null   object \n",
      " 37  mileage            9608 non-null   float64\n",
      " 38  road_cont          9597 non-null   float64\n",
      " 39  road_type          9606 non-null   float64\n",
      " 40  road_money         9444 non-null   float64\n",
      " 41  road_reason        412 non-null    object \n",
      " 42  conf_yn            71055 non-null  object \n",
      " 43  conf_flag          0 non-null      float64\n",
      " 44  selection_date     0 non-null      float64\n",
      " 45  selection_user     0 non-null      float64\n",
      " 46  confirm_date       0 non-null      float64\n",
      " 47  confirm_user       0 non-null      float64\n",
      " 48  imps_reason        117 non-null    object \n",
      " 49  sido_cd            71051 non-null  float64\n",
      " 50  sigungu_cd         70810 non-null  object \n",
      " 51  sido_nm            71051 non-null  object \n",
      " 52  sigungu_nm         70789 non-null  object \n",
      " 53  cncl_yn            71065 non-null  object \n",
      " 54  note               2 non-null      object \n",
      "dtypes: float64(18), int64(11), object(26)\n",
      "memory usage: 29.8+ MB\n"
     ]
    }
   ],
   "source": [
    "# 0.3s\n",
    "name = 'tb_rsd_ge_list_202311071035'\n",
    "file_name = f'{name}.csv'\n",
    "rsd_ge_list = pd.read_csv(os.path.join(raw4_fold, file_name), low_memory=False, sep='|')\n",
    "rsd_ge_list.info()"
   ]
  },
  {
   "cell_type": "code",
   "execution_count": 563,
   "metadata": {},
   "outputs": [
    {
     "data": {
      "text/plain": [
       "Index(['과다선별_일련번호', '측정년월', '차대번호', '총 측정횟수', '총 과다횟수', '연속과다_구분', '2회이상과다_구분',\n",
       "       '연속과다대기_구분(최종_측정과다_1회)', '1회측정과다_구분', '차량번호', '차명', '용도', '연식',\n",
       "       '차종+차종유형', '중량', '총중량', '엔진배기량', '엔진출력', '연료명', '최초등록일', '정밀검사만료일자',\n",
       "       '유효기간_시작일', '유효기간_종료일', '개선명령_등록여부', '제작일자', '연료코드', '차종코드', '소재지',\n",
       "       '시도', '시군구', '용도코드', '용도기준', '결과등록_타입(1-원격,2-노상)', '최종_정밀검사일자',\n",
       "       '차종명(노상-대기법)', '제작사명', '엔진형식', '주행거리', '노상-위반사유_코드', '노상-처분종류',\n",
       "       '노상-과태료', '노상-위반사유-상세', '확정여부', '측정플래그', '선별일자', '선별자', '확정일자', '확정자',\n",
       "       '명령불가사유', '법정동_시도코드', '법정동_시군구코드', '법정동_시도명', '법정동_시군구명', 'CNCL_구분',\n",
       "       '메모'],\n",
       "      dtype='object')"
      ]
     },
     "execution_count": 563,
     "metadata": {},
     "output_type": "execute_result"
    }
   ],
   "source": [
    "rsd_ge_list_dict = {\n",
    "    'ge_idx':'과다선별_일련번호',\n",
    "    'rsd_month':'측정년월',\n",
    "    'car_ser_no':'차대번호',\n",
    "    'snt':'총 측정횟수',\n",
    "    'ge_cnt':'총 과다횟수',\n",
    "    'search1':'연속과다_구분',\n",
    "    'search2':'2회이상과다_구분',\n",
    "    'search3':'연속과다대기_구분(최종_측정과다_1회)',\n",
    "    'search4':'1회측정과다_구분',\n",
    "    'car_reg_no':'차량번호',\n",
    "    'car_nm':'차명',\n",
    "    'usage':'용도',\n",
    "    'car_year':'연식',\n",
    "    'car_type_nm':'차종+차종유형',\n",
    "    'car_weight':'중량',\n",
    "    'tot_weight':'총중량',\n",
    "    'engine_capacity':'엔진배기량',\n",
    "    'engine_power':'엔진출력',\n",
    "    'car_fuel_nm':'연료명',\n",
    "    'first_reg_date':'최초등록일',\n",
    "    'smo_chk_exp_date':'정밀검사만료일자',\n",
    "    'chk_ge_fr':'유효기간_시작일',\n",
    "    'chk_ge_to':'유효기간_종료일',\n",
    "    'rso_reg_status':'개선명령_등록여부',\n",
    "    'make_reg_date':'제작일자',\n",
    "    'car_fuel_cd':'연료코드',\n",
    "    'car_type_cd':'차종코드',\n",
    "    'reg_region':'소재지',\n",
    "    'sido':'시도',\n",
    "    'sigungu':'시군구',\n",
    "    'usage_cd':'용도코드',\n",
    "    'usage_ex':'용도기준',\n",
    "    'ge_reg_type':'결과등록_타입(1-원격,2-노상)',\n",
    "    'last_chk_exp_date':'최종_정밀검사일자',\n",
    "    'car_type_nm2':'차종명(노상-대기법)',\n",
    "    'car_maker_nm':'제작사명',\n",
    "    'engine_type':'엔진형식',\n",
    "    'mileage':'주행거리',\n",
    "    'road_cont':'노상-위반사유_코드',\n",
    "    'road_type':'노상-처분종류',\n",
    "    'road_money':'노상-과태료',\n",
    "    'road_reason':'노상-위반사유-상세',\n",
    "    'conf_yn':'확정여부',\n",
    "    'conf_flag':'측정플래그',\n",
    "    'selection_date':'선별일자',\n",
    "    'selection_user':'선별자',\n",
    "    'confirm_date':'확정일자',\n",
    "    'confirm_user':'확정자',\n",
    "    'imps_reason':'명령불가사유',\n",
    "    'sido_cd':'법정동_시도코드',\n",
    "    'sigungu_cd':'법정동_시군구코드',\n",
    "    'sido_nm':'법정동_시도명',\n",
    "    'sigungu_nm':'법정동_시군구명',\n",
    "    'cncl_yn':'CNCL_구분',\n",
    "    'note':'메모',\n",
    "}\n",
    "rsd_ge_listr = rsd_ge_list.rename(columns=rsd_ge_list_dict)\n",
    "rsd_ge_listr.columns"
   ]
  },
  {
   "cell_type": "code",
   "execution_count": 564,
   "metadata": {},
   "outputs": [
    {
     "data": {
      "text/plain": [
       "count               9608.00\n",
       "mean        115644599111.14\n",
       "std       11335508143510.87\n",
       "min                    0.00\n",
       "25%               130623.50\n",
       "50%               196997.50\n",
       "75%               278993.25\n",
       "max     1111111111111111.00\n",
       "Name: 주행거리, dtype: float64"
      ]
     },
     "execution_count": 564,
     "metadata": {},
     "output_type": "execute_result"
    }
   ],
   "source": [
    "rsd_ge_listr['주행거리'].describe()"
   ]
  },
  {
   "cell_type": "code",
   "execution_count": 565,
   "metadata": {},
   "outputs": [
    {
     "data": {
      "text/html": [
       "<div>\n",
       "<style scoped>\n",
       "    .dataframe tbody tr th:only-of-type {\n",
       "        vertical-align: middle;\n",
       "    }\n",
       "\n",
       "    .dataframe tbody tr th {\n",
       "        vertical-align: top;\n",
       "    }\n",
       "\n",
       "    .dataframe thead th {\n",
       "        text-align: right;\n",
       "    }\n",
       "</style>\n",
       "<table border=\"1\" class=\"dataframe\">\n",
       "  <thead>\n",
       "    <tr style=\"text-align: right;\">\n",
       "      <th></th>\n",
       "      <th>연료명</th>\n",
       "      <th>연료코드</th>\n",
       "      <th>과다선별_일련번호</th>\n",
       "    </tr>\n",
       "  </thead>\n",
       "  <tbody>\n",
       "    <tr>\n",
       "      <th>0</th>\n",
       "      <td>CNG</td>\n",
       "      <td>J</td>\n",
       "      <td>1342</td>\n",
       "    </tr>\n",
       "    <tr>\n",
       "      <th>1</th>\n",
       "      <td>가스</td>\n",
       "      <td>C</td>\n",
       "      <td>177</td>\n",
       "    </tr>\n",
       "    <tr>\n",
       "      <th>2</th>\n",
       "      <td>가스</td>\n",
       "      <td>J</td>\n",
       "      <td>6</td>\n",
       "    </tr>\n",
       "    <tr>\n",
       "      <th>3</th>\n",
       "      <td>경유</td>\n",
       "      <td>B</td>\n",
       "      <td>8986</td>\n",
       "    </tr>\n",
       "    <tr>\n",
       "      <th>4</th>\n",
       "      <td>엘피지</td>\n",
       "      <td>C</td>\n",
       "      <td>20349</td>\n",
       "    </tr>\n",
       "    <tr>\n",
       "      <th>5</th>\n",
       "      <td>하이브리드(LPG+전기)</td>\n",
       "      <td>N</td>\n",
       "      <td>100</td>\n",
       "    </tr>\n",
       "    <tr>\n",
       "      <th>6</th>\n",
       "      <td>하이브리드(휘발유+전기)</td>\n",
       "      <td>L</td>\n",
       "      <td>382</td>\n",
       "    </tr>\n",
       "    <tr>\n",
       "      <th>7</th>\n",
       "      <td>휘발유</td>\n",
       "      <td>A</td>\n",
       "      <td>13487</td>\n",
       "    </tr>\n",
       "    <tr>\n",
       "      <th>8</th>\n",
       "      <td>휘발유</td>\n",
       "      <td>G</td>\n",
       "      <td>1</td>\n",
       "    </tr>\n",
       "    <tr>\n",
       "      <th>9</th>\n",
       "      <td>휘발유</td>\n",
       "      <td>H</td>\n",
       "      <td>164</td>\n",
       "    </tr>\n",
       "    <tr>\n",
       "      <th>10</th>\n",
       "      <td>휘발유(무연)</td>\n",
       "      <td>H</td>\n",
       "      <td>26070</td>\n",
       "    </tr>\n",
       "    <tr>\n",
       "      <th>11</th>\n",
       "      <td>NaN</td>\n",
       "      <td>경유</td>\n",
       "      <td>1</td>\n",
       "    </tr>\n",
       "  </tbody>\n",
       "</table>\n",
       "</div>"
      ],
      "text/plain": [
       "              연료명 연료코드  과다선별_일련번호\n",
       "0             CNG    J       1342\n",
       "1              가스    C        177\n",
       "2              가스    J          6\n",
       "3              경유    B       8986\n",
       "4             엘피지    C      20349\n",
       "5   하이브리드(LPG+전기)    N        100\n",
       "6   하이브리드(휘발유+전기)    L        382\n",
       "7             휘발유    A      13487\n",
       "8             휘발유    G          1\n",
       "9             휘발유    H        164\n",
       "10        휘발유(무연)    H      26070\n",
       "11            NaN   경유          1"
      ]
     },
     "execution_count": 565,
     "metadata": {},
     "output_type": "execute_result"
    }
   ],
   "source": [
    "fuel_cd_df = rsd_ge_listr.groupby(['연료명', '연료코드'], dropna=False)['과다선별_일련번호'].count().reset_index()\n",
    "fuel_cd_df = fuel_cd_df.sort_values(['연료명', '연료코드', '과다선별_일련번호'])\n",
    "fuel_cd_df"
   ]
  },
  {
   "cell_type": "code",
   "execution_count": 566,
   "metadata": {},
   "outputs": [],
   "source": [
    "# CNG : J\n",
    "# 가스 : C, J\n",
    "# 엘피지 : C\n",
    "# 경유 : B\n",
    "# 하이브리드(LPG+전기) : N\n",
    "# 하이브리드(휘발유+전기) : L\n",
    "# 휘발유 : A, H, G\n",
    "# 휘발유(무연) : H"
   ]
  },
  {
   "cell_type": "code",
   "execution_count": 567,
   "metadata": {},
   "outputs": [],
   "source": [
    "# CNG : J\n",
    "# LPG : C\n",
    "# 경유 : B\n",
    "# 하이브리드(LPG+전기) : N\n",
    "# 하이브리드(휘발유+전기) : L\n",
    "# 휘발유 : A, H, G"
   ]
  },
  {
   "cell_type": "markdown",
   "metadata": {},
   "source": [
    "### 4\\. [✔] TB_RSD_GE_LIST_EX(정밀검사2회부적합 제원+결과)"
   ]
  },
  {
   "cell_type": "code",
   "execution_count": 568,
   "metadata": {},
   "outputs": [
    {
     "name": "stdout",
     "output_type": "stream",
     "text": [
      "<class 'pandas.core.frame.DataFrame'>\n",
      "RangeIndex: 119898 entries, 0 to 119897\n",
      "Data columns (total 70 columns):\n",
      " #   Column                 Non-Null Count   Dtype  \n",
      "---  ------                 --------------   -----  \n",
      " 0   ge_idx                 119898 non-null  int64  \n",
      " 1   rsd_date               119898 non-null  int64  \n",
      " 2   car_reg_no             119898 non-null  object \n",
      " 3   car_ser_no             119866 non-null  object \n",
      " 4   car_nm                 119896 non-null  object \n",
      " 5   car_type_cd            62630 non-null   float64\n",
      " 6   car_year               119896 non-null  object \n",
      " 7   usage_cd               62630 non-null   float64\n",
      " 8   car_fuel_cd            119894 non-null  object \n",
      " 9   car_weight             119501 non-null  float64\n",
      " 10  tot_weight             119495 non-null  float64\n",
      " 11  engine_capacity        119501 non-null  float64\n",
      " 12  engine_power           119502 non-null  object \n",
      " 13  engine_type            119494 non-null  object \n",
      " 14  mileage                119898 non-null  float64\n",
      " 15  make_reg_date          64302 non-null   float64\n",
      " 16  first_reg_date         119502 non-null  float64\n",
      " 17  smo_chk_exp_date       119448 non-null  float64\n",
      " 18  sido                   13712 non-null   object \n",
      " 19  sigungu                13712 non-null   object \n",
      " 20  org_id                 62631 non-null   object \n",
      " 21  cer_exp_year           65411 non-null   float64\n",
      " 22  cer_exp_km             115109 non-null  float64\n",
      " 23  mistake_yn             62631 non-null   object \n",
      " 24  repair_name            119277 non-null  object \n",
      " 25  repair_comment         36313 non-null   object \n",
      " 26  car_age                62629 non-null   object \n",
      " 27  det_yn                 119898 non-null  object \n",
      " 28  rec_date               119898 non-null  int64  \n",
      " 29  rec_nm                 57267 non-null   object \n",
      " 30  las_chg_nm             0 non-null       float64\n",
      " 31  las_chg_date           10275 non-null   float64\n",
      " 32  cer_repair_yn          119898 non-null  object \n",
      " 33  reg_region             62330 non-null   object \n",
      " 34  doc_name               119653 non-null  object \n",
      " 35  reg_no                 119898 non-null  object \n",
      " 36  print_yn               11345 non-null   object \n",
      " 37  print_date             11345 non-null   float64\n",
      " 38  print_rec_nm           11333 non-null   object \n",
      " 39  sido_cd                62629 non-null   object \n",
      " 40  sigungu_cd             62575 non-null   object \n",
      " 41  sido_nm                62626 non-null   object \n",
      " 42  sigungu_nm             62279 non-null   object \n",
      " 43  smo_chk_yn             119898 non-null  object \n",
      " 44  smo_chk_date           118805 non-null  float64\n",
      " 45  smo_chk_org_nm         118805 non-null  object \n",
      " 46  smo_chk_method         118805 non-null  object \n",
      " 47  smo_chk_judge_yn       118805 non-null  object \n",
      " 48  unload_smo_val1        118801 non-null  float64\n",
      " 49  unload_smo_lim1        118801 non-null  float64\n",
      " 50  unload_smo_judge1      118801 non-null  object \n",
      " 51  unload_smo_val2        75805 non-null   float64\n",
      " 52  unload_smo_lim2        75324 non-null   float64\n",
      " 53  unload_smo_judge2      61773 non-null   object \n",
      " 54  unload_smo_val3        75124 non-null   float64\n",
      " 55  unload_smo_lim3        75116 non-null   float64\n",
      " 56  unload_smo_judge3      61679 non-null   object \n",
      " 57  unload_smo_val4        68813 non-null   float64\n",
      " 58  unload_smo_lim4        68812 non-null   float64\n",
      " 59  unload_smo_judge4      55375 non-null   object \n",
      " 60  unload_smo_val5        68813 non-null   float64\n",
      " 61  unload_smo_lim5        68805 non-null   float64\n",
      " 62  unload_smo_judge5      55368 non-null   object \n",
      " 63  unload_smo_val6        25673 non-null   float64\n",
      " 64  unload_smo_lim6        25664 non-null   float64\n",
      " 65  unload_smo_judge6      11275 non-null   object \n",
      " 66  smo_fun_chk_judge_yn   118805 non-null  object \n",
      " 67  smo_fun_chk_fail_item  0 non-null       float64\n",
      " 68  smo_update_date        119897 non-null  float64\n",
      " 69  conf_yn                118640 non-null  object \n",
      "dtypes: float64(29), int64(3), object(38)\n",
      "memory usage: 64.0+ MB\n"
     ]
    }
   ],
   "source": [
    "# 0.3s\n",
    "name = 'tb_rsd_ge_list_ex_202311071035'\n",
    "file_name = f'{name}.csv'\n",
    "rsd_ge_list_ex = pd.read_csv(os.path.join(raw4_fold, file_name), low_memory=False, sep='|')\n",
    "rsd_ge_list_ex.info()"
   ]
  },
  {
   "cell_type": "code",
   "execution_count": 569,
   "metadata": {},
   "outputs": [
    {
     "data": {
      "text/plain": [
       "Index(['일련번호', '점검일자', '차량번호', '차대번호', '차명', '차종', '연식', '용도', '연료', '중량',\n",
       "       '총중량', '엔진배기량', '엔진출력', '엔진형식', '주행거리', '제작일자', '최초등록일', '정밀검사만료일자',\n",
       "       '시도', '시군구', '전문정비사업자코드', '보증기간_년', '보증기간_Km', '보증기간내_고의_또는_과실여부',\n",
       "       '정비사성명', '정비사의견', '차령', '정비여부', '생성일자', '생성자명', '최종수정자명', '최종수정일자',\n",
       "       '보증수리여부', '소재지', '소유자명', '접수번호', '출력여부', '출력일자', '출력자명', '시도코드',\n",
       "       '시군구코드', '시도명', '시군구명', '정밀검사유무', '정밀검사일자', '정밀검사소명', '정밀검사측정방법',\n",
       "       '정밀검사판정', '무부하매연측정치1', '무부하매연허용치1', '무부하매연판정1', '무부하매연측정치2',\n",
       "       '무부하매연허용치2', '무부하매연판정2', '무부하매연측정치3', '무부하매연허용치3', '무부하매연판정3',\n",
       "       '무부하매연측정치4', '무부하매연허용치4', '무부하매연판정4', '무부하매연측정치5', '무부하매연허용치5',\n",
       "       '무부하매연판정5', '무부하매연측정치6', '무부하매연허용치6', '무부하매연판정6', '관능검사판정', '관능검사부적합내용',\n",
       "       '정밀검사수정일', '확정여부'],\n",
       "      dtype='object')"
      ]
     },
     "execution_count": 569,
     "metadata": {},
     "output_type": "execute_result"
    }
   ],
   "source": [
    "rsd_ge_list_ex_dict = {\n",
    "    'ge_idx':'일련번호', \n",
    "    'rsd_date':'점검일자', \n",
    "    'car_reg_no':'차량번호', \n",
    "    'car_ser_no':'차대번호', \n",
    "    'car_nm':'차명', \n",
    "    'car_type_cd':'차종', \n",
    "    'car_year':'연식', \n",
    "    'usage_cd':'용도', \n",
    "    'car_fuel_cd':'연료', \n",
    "    'car_weight':'중량', \n",
    "    'tot_weight':'총중량', \n",
    "    'engine_capacity':'엔진배기량', \n",
    "    'engine_power':'엔진출력', \n",
    "    'engine_type':'엔진형식', \n",
    "    'mileage':'주행거리', \n",
    "    'make_reg_date':'제작일자', \n",
    "    'first_reg_date':'최초등록일', \n",
    "    'smo_chk_exp_date':'정밀검사만료일자', \n",
    "    'sido':'시도', \n",
    "    'sigungu':'시군구', \n",
    "    'org_id':'전문정비사업자코드', \n",
    "    'cer_exp_year':'보증기간_년', \n",
    "    'cer_exp_km':'보증기간_Km', \n",
    "    'mistake_yn':'보증기간내_고의_또는_과실여부',  \n",
    "    'repair_name':'정비사성명', \n",
    "    'repair_comment':'정비사의견', \n",
    "    'car_age':'차령', \n",
    "    'det_yn':'정비여부', \n",
    "    'rec_date':'생성일자', \n",
    "    'rec_nm':'생성자명', \n",
    "    'las_chg_nm':'최종수정자명', \n",
    "    'las_chg_date':'최종수정일자', \n",
    "    'cer_repair_yn':'보증수리여부', \n",
    "    'reg_region':'소재지', \n",
    "    'doc_name':'소유자명', \n",
    "    'reg_no':'접수번호', \n",
    "    'print_yn':'출력여부', \n",
    "    'print_date':'출력일자', \n",
    "    'print_rec_nm':'출력자명', \n",
    "    'sido_cd':'시도코드', \n",
    "    'sigungu_cd':'시군구코드', \n",
    "    'sido_nm':'시도명', \n",
    "    'sigungu_nm':'시군구명', \n",
    "    'smo_chk_yn':'정밀검사유무', \n",
    "    'smo_chk_date':'정밀검사일자', \n",
    "    'smo_chk_org_nm':'정밀검사소명', \n",
    "    'smo_chk_method':'정밀검사측정방법', \n",
    "    'smo_chk_judge_yn':'정밀검사판정', \n",
    "    'unload_smo_val1':'무부하매연측정치1', \n",
    "    'unload_smo_lim1':'무부하매연허용치1', \n",
    "    'unload_smo_judge1':'무부하매연판정1', \n",
    "    'unload_smo_val2':'무부하매연측정치2', \n",
    "    'unload_smo_lim2':'무부하매연허용치2', \n",
    "    'unload_smo_judge2':'무부하매연판정2', \n",
    "    'unload_smo_val3':'무부하매연측정치3', \n",
    "    'unload_smo_lim3':'무부하매연허용치3', \n",
    "    'unload_smo_judge3':'무부하매연판정3', \n",
    "    'unload_smo_val4':'무부하매연측정치4', \n",
    "    'unload_smo_lim4':'무부하매연허용치4', \n",
    "    'unload_smo_judge4':'무부하매연판정4', \n",
    "    'unload_smo_val5':'무부하매연측정치5', \n",
    "    'unload_smo_lim5':'무부하매연허용치5', \n",
    "    'unload_smo_judge5':'무부하매연판정5', \n",
    "    'unload_smo_val6':'무부하매연측정치6', \n",
    "    'unload_smo_lim6':'무부하매연허용치6', \n",
    "    'unload_smo_judge6':'무부하매연판정6', \n",
    "    'smo_fun_chk_judge_yn':'관능검사판정', \n",
    "    'smo_fun_chk_fail_item':'관능검사부적합내용', \n",
    "    'smo_update_date':'정밀검사수정일', \n",
    "    'conf_yn':'확정여부', \n",
    "}\n",
    "rsd_ge_list_exr = rsd_ge_list_ex.rename(columns=rsd_ge_list_ex_dict)\n",
    "rsd_ge_list_exr.columns"
   ]
  },
  {
   "cell_type": "code",
   "execution_count": 570,
   "metadata": {},
   "outputs": [
    {
     "data": {
      "text/plain": [
       "((119898, 70), 119898)"
      ]
     },
     "execution_count": 570,
     "metadata": {},
     "output_type": "execute_result"
    }
   ],
   "source": [
    "rsd_ge_list_exr.shape, len(rsd_ge_list_exr['일련번호'].unique())"
   ]
  },
  {
   "cell_type": "code",
   "execution_count": 571,
   "metadata": {},
   "outputs": [
    {
     "data": {
      "text/plain": [
       "count   119898.00\n",
       "mean     60550.66\n",
       "std      34776.82\n",
       "min          1.00\n",
       "25%      30516.25\n",
       "50%      60490.50\n",
       "75%      90622.75\n",
       "max     120932.00\n",
       "Name: 일련번호, dtype: float64"
      ]
     },
     "execution_count": 571,
     "metadata": {},
     "output_type": "execute_result"
    }
   ],
   "source": [
    "rsd_ge_list_exr['일련번호'].describe()"
   ]
  },
  {
   "cell_type": "code",
   "execution_count": 572,
   "metadata": {},
   "outputs": [
    {
     "data": {
      "text/html": [
       "<div>\n",
       "<style scoped>\n",
       "    .dataframe tbody tr th:only-of-type {\n",
       "        vertical-align: middle;\n",
       "    }\n",
       "\n",
       "    .dataframe tbody tr th {\n",
       "        vertical-align: top;\n",
       "    }\n",
       "\n",
       "    .dataframe thead th {\n",
       "        text-align: right;\n",
       "    }\n",
       "</style>\n",
       "<table border=\"1\" class=\"dataframe\">\n",
       "  <thead>\n",
       "    <tr style=\"text-align: right;\">\n",
       "      <th></th>\n",
       "      <th>일련번호</th>\n",
       "      <th>점검일자</th>\n",
       "      <th>차량번호</th>\n",
       "      <th>차대번호</th>\n",
       "      <th>차명</th>\n",
       "      <th>차종</th>\n",
       "      <th>연식</th>\n",
       "      <th>용도</th>\n",
       "      <th>연료</th>\n",
       "      <th>중량</th>\n",
       "      <th>총중량</th>\n",
       "    </tr>\n",
       "  </thead>\n",
       "  <tbody>\n",
       "    <tr>\n",
       "      <th>0</th>\n",
       "      <td>3</td>\n",
       "      <td>20130805</td>\n",
       "      <td>85거9409</td>\n",
       "      <td>KPALE4A811P134760</td>\n",
       "      <td>코란도-밴</td>\n",
       "      <td>331.00</td>\n",
       "      <td>2001</td>\n",
       "      <td>2.00</td>\n",
       "      <td>B</td>\n",
       "      <td>1705.00</td>\n",
       "      <td>2335.00</td>\n",
       "    </tr>\n",
       "    <tr>\n",
       "      <th>1</th>\n",
       "      <td>11</td>\n",
       "      <td>20130806</td>\n",
       "      <td>35머4273</td>\n",
       "      <td>KMHMH81VP1U097748</td>\n",
       "      <td>트라제XG</td>\n",
       "      <td>152.00</td>\n",
       "      <td>2001</td>\n",
       "      <td>2.00</td>\n",
       "      <td>B</td>\n",
       "      <td>1845.00</td>\n",
       "      <td>2300.00</td>\n",
       "    </tr>\n",
       "    <tr>\n",
       "      <th>2</th>\n",
       "      <td>12</td>\n",
       "      <td>20130806</td>\n",
       "      <td>96도3224</td>\n",
       "      <td>KMFFE17APSU238435</td>\n",
       "      <td>포터초장축더블캡</td>\n",
       "      <td>311.00</td>\n",
       "      <td>1995</td>\n",
       "      <td>2.00</td>\n",
       "      <td>B</td>\n",
       "      <td>1495.00</td>\n",
       "      <td>2825.00</td>\n",
       "    </tr>\n",
       "    <tr>\n",
       "      <th>3</th>\n",
       "      <td>15</td>\n",
       "      <td>20130807</td>\n",
       "      <td>85오2664</td>\n",
       "      <td>KMFMA17HPNU008954</td>\n",
       "      <td>현대4.5톤카고트럭-초장축</td>\n",
       "      <td>312.00</td>\n",
       "      <td>1992</td>\n",
       "      <td>2.00</td>\n",
       "      <td>B</td>\n",
       "      <td>4640.00</td>\n",
       "      <td>9305.00</td>\n",
       "    </tr>\n",
       "    <tr>\n",
       "      <th>4</th>\n",
       "      <td>16</td>\n",
       "      <td>20130807</td>\n",
       "      <td>33서4306</td>\n",
       "      <td>KMHNN81WP1U012631</td>\n",
       "      <td>테라칸</td>\n",
       "      <td>113.00</td>\n",
       "      <td>2001</td>\n",
       "      <td>2.00</td>\n",
       "      <td>B</td>\n",
       "      <td>2430.00</td>\n",
       "      <td>2430.00</td>\n",
       "    </tr>\n",
       "  </tbody>\n",
       "</table>\n",
       "</div>"
      ],
      "text/plain": [
       "   일련번호      점검일자     차량번호               차대번호              차명     차종    연식  \\\n",
       "0     3  20130805  85거9409  KPALE4A811P134760           코란도-밴 331.00  2001   \n",
       "1    11  20130806  35머4273  KMHMH81VP1U097748           트라제XG 152.00  2001   \n",
       "2    12  20130806  96도3224  KMFFE17APSU238435        포터초장축더블캡 311.00  1995   \n",
       "3    15  20130807  85오2664  KMFMA17HPNU008954  현대4.5톤카고트럭-초장축 312.00  1992   \n",
       "4    16  20130807  33서4306  KMHNN81WP1U012631             테라칸 113.00  2001   \n",
       "\n",
       "    용도 연료      중량     총중량  \n",
       "0 2.00  B 1705.00 2335.00  \n",
       "1 2.00  B 1845.00 2300.00  \n",
       "2 2.00  B 1495.00 2825.00  \n",
       "3 2.00  B 4640.00 9305.00  \n",
       "4 2.00  B 2430.00 2430.00  "
      ]
     },
     "execution_count": 572,
     "metadata": {},
     "output_type": "execute_result"
    }
   ],
   "source": [
    "rsd_ge_list_exr[['일련번호', '점검일자', '차량번호', '차대번호', '차명', '차종', '연식', '용도', '연료', '중량', '총중량', ]].head()"
   ]
  },
  {
   "cell_type": "code",
   "execution_count": 573,
   "metadata": {},
   "outputs": [
    {
     "data": {
      "text/html": [
       "<div>\n",
       "<style scoped>\n",
       "    .dataframe tbody tr th:only-of-type {\n",
       "        vertical-align: middle;\n",
       "    }\n",
       "\n",
       "    .dataframe tbody tr th {\n",
       "        vertical-align: top;\n",
       "    }\n",
       "\n",
       "    .dataframe thead th {\n",
       "        text-align: right;\n",
       "    }\n",
       "</style>\n",
       "<table border=\"1\" class=\"dataframe\">\n",
       "  <thead>\n",
       "    <tr style=\"text-align: right;\">\n",
       "      <th></th>\n",
       "      <th>엔진배기량</th>\n",
       "      <th>엔진출력</th>\n",
       "      <th>엔진형식</th>\n",
       "      <th>주행거리</th>\n",
       "      <th>제작일자</th>\n",
       "      <th>최초등록일</th>\n",
       "      <th>시도코드</th>\n",
       "      <th>시군구코드</th>\n",
       "      <th>시도명</th>\n",
       "      <th>시군구명</th>\n",
       "      <th>전문정비사업자코드</th>\n",
       "      <th>정비여부</th>\n",
       "    </tr>\n",
       "  </thead>\n",
       "  <tbody>\n",
       "    <tr>\n",
       "      <th>0</th>\n",
       "      <td>2874.00</td>\n",
       "      <td>95/4000</td>\n",
       "      <td>662</td>\n",
       "      <td>105598.00</td>\n",
       "      <td>20010827.00</td>\n",
       "      <td>20010830.00</td>\n",
       "      <td>27</td>\n",
       "      <td>290</td>\n",
       "      <td>대구광역시</td>\n",
       "      <td>달서구</td>\n",
       "      <td>ZC05</td>\n",
       "      <td>Y</td>\n",
       "    </tr>\n",
       "    <tr>\n",
       "      <th>1</th>\n",
       "      <td>1991.00</td>\n",
       "      <td>115/4000</td>\n",
       "      <td>D4EA</td>\n",
       "      <td>199014.00</td>\n",
       "      <td>20010725.00</td>\n",
       "      <td>20010730.00</td>\n",
       "      <td>44</td>\n",
       "      <td>130</td>\n",
       "      <td>충청남도</td>\n",
       "      <td>천안시</td>\n",
       "      <td>ZK01</td>\n",
       "      <td>Y</td>\n",
       "    </tr>\n",
       "    <tr>\n",
       "      <th>2</th>\n",
       "      <td>2476.00</td>\n",
       "      <td>80/4200</td>\n",
       "      <td>D4EA</td>\n",
       "      <td>299215.00</td>\n",
       "      <td>20030711.00</td>\n",
       "      <td>19950803.00</td>\n",
       "      <td>27</td>\n",
       "      <td>290</td>\n",
       "      <td>대구광역시</td>\n",
       "      <td>달서구</td>\n",
       "      <td>ZC02</td>\n",
       "      <td>Y</td>\n",
       "    </tr>\n",
       "    <tr>\n",
       "      <th>3</th>\n",
       "      <td>7545.00</td>\n",
       "      <td>0167/2900</td>\n",
       "      <td>D6BH</td>\n",
       "      <td>24587.00</td>\n",
       "      <td>19920918.00</td>\n",
       "      <td>19920918.00</td>\n",
       "      <td>27</td>\n",
       "      <td>140</td>\n",
       "      <td>대구광역시</td>\n",
       "      <td>동구</td>\n",
       "      <td>ZC01</td>\n",
       "      <td>Y</td>\n",
       "    </tr>\n",
       "    <tr>\n",
       "      <th>4</th>\n",
       "      <td>2476.00</td>\n",
       "      <td>103/3800</td>\n",
       "      <td>D4BH</td>\n",
       "      <td>197038.00</td>\n",
       "      <td>20010705.00</td>\n",
       "      <td>20010705.00</td>\n",
       "      <td>27</td>\n",
       "      <td>230</td>\n",
       "      <td>대구광역시</td>\n",
       "      <td>북구</td>\n",
       "      <td>ZC06</td>\n",
       "      <td>Y</td>\n",
       "    </tr>\n",
       "  </tbody>\n",
       "</table>\n",
       "</div>"
      ],
      "text/plain": [
       "    엔진배기량       엔진출력  엔진형식      주행거리        제작일자       최초등록일 시도코드 시군구코드  \\\n",
       "0 2874.00    95/4000   662 105598.00 20010827.00 20010830.00   27   290   \n",
       "1 1991.00   115/4000  D4EA 199014.00 20010725.00 20010730.00   44   130   \n",
       "2 2476.00    80/4200  D4EA 299215.00 20030711.00 19950803.00   27   290   \n",
       "3 7545.00  0167/2900  D6BH  24587.00 19920918.00 19920918.00   27   140   \n",
       "4 2476.00   103/3800  D4BH 197038.00 20010705.00 20010705.00   27   230   \n",
       "\n",
       "     시도명 시군구명 전문정비사업자코드 정비여부  \n",
       "0  대구광역시  달서구      ZC05    Y  \n",
       "1   충청남도  천안시      ZK01    Y  \n",
       "2  대구광역시  달서구      ZC02    Y  \n",
       "3  대구광역시   동구      ZC01    Y  \n",
       "4  대구광역시   북구      ZC06    Y  "
      ]
     },
     "execution_count": 573,
     "metadata": {},
     "output_type": "execute_result"
    }
   ],
   "source": [
    "rsd_ge_list_exr[['엔진배기량', '엔진출력', '엔진형식', '주행거리', '제작일자', '최초등록일', '시도코드', '시군구코드', '시도명', '시군구명', '전문정비사업자코드', '정비여부',]].head()"
   ]
  },
  {
   "cell_type": "code",
   "execution_count": 574,
   "metadata": {},
   "outputs": [
    {
     "data": {
      "text/html": [
       "<div>\n",
       "<style scoped>\n",
       "    .dataframe tbody tr th:only-of-type {\n",
       "        vertical-align: middle;\n",
       "    }\n",
       "\n",
       "    .dataframe tbody tr th {\n",
       "        vertical-align: top;\n",
       "    }\n",
       "\n",
       "    .dataframe thead th {\n",
       "        text-align: right;\n",
       "    }\n",
       "</style>\n",
       "<table border=\"1\" class=\"dataframe\">\n",
       "  <thead>\n",
       "    <tr style=\"text-align: right;\">\n",
       "      <th></th>\n",
       "      <th>시도코드</th>\n",
       "      <th>시군구코드</th>\n",
       "      <th>시도명</th>\n",
       "      <th>시군구명</th>\n",
       "      <th>전문정비사업자코드</th>\n",
       "      <th>정비여부</th>\n",
       "      <th>정밀검사소명</th>\n",
       "    </tr>\n",
       "  </thead>\n",
       "  <tbody>\n",
       "    <tr>\n",
       "      <th>0</th>\n",
       "      <td>27</td>\n",
       "      <td>290</td>\n",
       "      <td>대구광역시</td>\n",
       "      <td>달서구</td>\n",
       "      <td>ZC05</td>\n",
       "      <td>Y</td>\n",
       "      <td>스피드1급검사정비</td>\n",
       "    </tr>\n",
       "    <tr>\n",
       "      <th>1</th>\n",
       "      <td>44</td>\n",
       "      <td>130</td>\n",
       "      <td>충청남도</td>\n",
       "      <td>천안시</td>\n",
       "      <td>ZK01</td>\n",
       "      <td>Y</td>\n",
       "      <td>천안자동차검사소</td>\n",
       "    </tr>\n",
       "    <tr>\n",
       "      <th>2</th>\n",
       "      <td>27</td>\n",
       "      <td>290</td>\n",
       "      <td>대구광역시</td>\n",
       "      <td>달서구</td>\n",
       "      <td>ZC02</td>\n",
       "      <td>Y</td>\n",
       "      <td>성서자동차검사정비</td>\n",
       "    </tr>\n",
       "    <tr>\n",
       "      <th>3</th>\n",
       "      <td>27</td>\n",
       "      <td>140</td>\n",
       "      <td>대구광역시</td>\n",
       "      <td>동구</td>\n",
       "      <td>ZC01</td>\n",
       "      <td>Y</td>\n",
       "      <td>반야월자동차정비공장</td>\n",
       "    </tr>\n",
       "    <tr>\n",
       "      <th>4</th>\n",
       "      <td>27</td>\n",
       "      <td>230</td>\n",
       "      <td>대구광역시</td>\n",
       "      <td>북구</td>\n",
       "      <td>ZC06</td>\n",
       "      <td>Y</td>\n",
       "      <td>이현자동차검사소</td>\n",
       "    </tr>\n",
       "  </tbody>\n",
       "</table>\n",
       "</div>"
      ],
      "text/plain": [
       "  시도코드 시군구코드    시도명 시군구명 전문정비사업자코드 정비여부      정밀검사소명\n",
       "0   27   290  대구광역시  달서구      ZC05    Y   스피드1급검사정비\n",
       "1   44   130   충청남도  천안시      ZK01    Y    천안자동차검사소\n",
       "2   27   290  대구광역시  달서구      ZC02    Y   성서자동차검사정비\n",
       "3   27   140  대구광역시   동구      ZC01    Y  반야월자동차정비공장\n",
       "4   27   230  대구광역시   북구      ZC06    Y    이현자동차검사소"
      ]
     },
     "execution_count": 574,
     "metadata": {},
     "output_type": "execute_result"
    }
   ],
   "source": [
    "rsd_ge_list_exr[['시도코드', '시군구코드', '시도명', '시군구명', '전문정비사업자코드', '정비여부', '정밀검사소명']].head()"
   ]
  },
  {
   "cell_type": "code",
   "execution_count": 575,
   "metadata": {},
   "outputs": [
    {
     "data": {
      "text/plain": [
       "점검일자           0\n",
       "제작일자       55596\n",
       "최초등록일        396\n",
       "생성일자           0\n",
       "최종수정일자    109623\n",
       "dtype: int64"
      ]
     },
     "execution_count": 575,
     "metadata": {},
     "output_type": "execute_result"
    }
   ],
   "source": [
    "rsd_ge_list_exr[['점검일자', '제작일자', '최초등록일', '생성일자', '최종수정일자']].isnull().sum()"
   ]
  },
  {
   "cell_type": "markdown",
   "metadata": {},
   "source": [
    "#### 연료 코드 해석"
   ]
  },
  {
   "cell_type": "code",
   "execution_count": 576,
   "metadata": {},
   "outputs": [
    {
     "data": {
      "text/plain": [
       "array(['B', 'C', 'H', 'A', 'G', 'L', nan, 'J', 'N', 'Z'], dtype=object)"
      ]
     },
     "execution_count": 576,
     "metadata": {},
     "output_type": "execute_result"
    }
   ],
   "source": [
    "rsd_ge_list_exr['연료'].unique()"
   ]
  },
  {
   "cell_type": "code",
   "execution_count": 577,
   "metadata": {},
   "outputs": [
    {
     "data": {
      "text/html": [
       "<div>\n",
       "<style scoped>\n",
       "    .dataframe tbody tr th:only-of-type {\n",
       "        vertical-align: middle;\n",
       "    }\n",
       "\n",
       "    .dataframe tbody tr th {\n",
       "        vertical-align: top;\n",
       "    }\n",
       "\n",
       "    .dataframe thead th {\n",
       "        text-align: right;\n",
       "    }\n",
       "</style>\n",
       "<table border=\"1\" class=\"dataframe\">\n",
       "  <thead>\n",
       "    <tr style=\"text-align: right;\">\n",
       "      <th></th>\n",
       "      <th>연료명</th>\n",
       "      <th>연료코드</th>\n",
       "      <th>과다선별_일련번호</th>\n",
       "    </tr>\n",
       "  </thead>\n",
       "  <tbody>\n",
       "    <tr>\n",
       "      <th>0</th>\n",
       "      <td>CNG</td>\n",
       "      <td>J</td>\n",
       "      <td>1342</td>\n",
       "    </tr>\n",
       "    <tr>\n",
       "      <th>1</th>\n",
       "      <td>가스</td>\n",
       "      <td>C</td>\n",
       "      <td>177</td>\n",
       "    </tr>\n",
       "    <tr>\n",
       "      <th>2</th>\n",
       "      <td>가스</td>\n",
       "      <td>J</td>\n",
       "      <td>6</td>\n",
       "    </tr>\n",
       "    <tr>\n",
       "      <th>3</th>\n",
       "      <td>경유</td>\n",
       "      <td>B</td>\n",
       "      <td>8986</td>\n",
       "    </tr>\n",
       "    <tr>\n",
       "      <th>4</th>\n",
       "      <td>엘피지</td>\n",
       "      <td>C</td>\n",
       "      <td>20349</td>\n",
       "    </tr>\n",
       "    <tr>\n",
       "      <th>5</th>\n",
       "      <td>하이브리드(LPG+전기)</td>\n",
       "      <td>N</td>\n",
       "      <td>100</td>\n",
       "    </tr>\n",
       "    <tr>\n",
       "      <th>6</th>\n",
       "      <td>하이브리드(휘발유+전기)</td>\n",
       "      <td>L</td>\n",
       "      <td>382</td>\n",
       "    </tr>\n",
       "    <tr>\n",
       "      <th>7</th>\n",
       "      <td>휘발유</td>\n",
       "      <td>A</td>\n",
       "      <td>13487</td>\n",
       "    </tr>\n",
       "    <tr>\n",
       "      <th>8</th>\n",
       "      <td>휘발유</td>\n",
       "      <td>G</td>\n",
       "      <td>1</td>\n",
       "    </tr>\n",
       "    <tr>\n",
       "      <th>9</th>\n",
       "      <td>휘발유</td>\n",
       "      <td>H</td>\n",
       "      <td>164</td>\n",
       "    </tr>\n",
       "    <tr>\n",
       "      <th>10</th>\n",
       "      <td>휘발유(무연)</td>\n",
       "      <td>H</td>\n",
       "      <td>26070</td>\n",
       "    </tr>\n",
       "    <tr>\n",
       "      <th>11</th>\n",
       "      <td>NaN</td>\n",
       "      <td>경유</td>\n",
       "      <td>1</td>\n",
       "    </tr>\n",
       "  </tbody>\n",
       "</table>\n",
       "</div>"
      ],
      "text/plain": [
       "              연료명 연료코드  과다선별_일련번호\n",
       "0             CNG    J       1342\n",
       "1              가스    C        177\n",
       "2              가스    J          6\n",
       "3              경유    B       8986\n",
       "4             엘피지    C      20349\n",
       "5   하이브리드(LPG+전기)    N        100\n",
       "6   하이브리드(휘발유+전기)    L        382\n",
       "7             휘발유    A      13487\n",
       "8             휘발유    G          1\n",
       "9             휘발유    H        164\n",
       "10        휘발유(무연)    H      26070\n",
       "11            NaN   경유          1"
      ]
     },
     "execution_count": 577,
     "metadata": {},
     "output_type": "execute_result"
    }
   ],
   "source": [
    "fuel_cd_df"
   ]
  },
  {
   "cell_type": "code",
   "execution_count": 578,
   "metadata": {},
   "outputs": [],
   "source": [
    "# CNG : J\n",
    "# LPG : C\n",
    "# 경유 : B\n",
    "# 하이브리드(LPG+전기) : N\n",
    "# 하이브리드(휘발유+전기) : L\n",
    "# 휘발유 : A, H, G"
   ]
  },
  {
   "cell_type": "code",
   "execution_count": 579,
   "metadata": {},
   "outputs": [
    {
     "data": {
      "text/plain": [
       "array(['경유', 'LPG', '휘발유', '하이브리드(휘발유+전기)', nan, 'CNG', '하이브리드(LPG+전기)',\n",
       "       '기타연료'], dtype=object)"
      ]
     },
     "execution_count": 579,
     "metadata": {},
     "output_type": "execute_result"
    }
   ],
   "source": [
    "fuel_dict = {\n",
    "    'A':'휘발유',\n",
    "    'B':'경유',\n",
    "    'C':'LPG',\n",
    "    'D':'등유',\n",
    "    'E':'전기',\n",
    "    'F':'알코올',\n",
    "    'G':'휘발유', # 유연\n",
    "    'H':'휘발유', # 무연\n",
    "    'I':'태양열', \n",
    "    'J':'CNG',\n",
    "    'K':'LNG',\n",
    "    'L':'하이브리드(휘발유+전기)',\n",
    "    'M':'하이브리드(경유+전기)',\n",
    "    'N':'하이브리드(LPG+전기)',\n",
    "    'O':'하이브리드(CNG+전기)',\n",
    "    'P':'하이브리드(LNG+전기)',\n",
    "    'Z':'기타연료',  \n",
    "}\n",
    "rsd_ge_list_exr['연료'] = rsd_ge_list_exr['연료'].replace(fuel_dict)\n",
    "rsd_ge_list_exr['연료'].unique()"
   ]
  },
  {
   "cell_type": "markdown",
   "metadata": {},
   "source": [
    "#### 차종 코드 해석"
   ]
  },
  {
   "cell_type": "code",
   "execution_count": 580,
   "metadata": {},
   "outputs": [
    {
     "data": {
      "text/plain": [
       "array([331., 152., 311., 312., 113., 132., 342., 112., 133., 212., 121.,\n",
       "       323., 153., 111., 322., 114., 332., 321., 341., 441., 313., 422.,\n",
       "       122., 213., 211., 131., 442., 343., 242., 334., 421., 214., 123.,\n",
       "       241., 243., 443., 433., 314., 151., 324., 363., 344., 362.,  nan,\n",
       "       124., 134., 154., 431., 444.])"
      ]
     },
     "execution_count": 580,
     "metadata": {},
     "output_type": "execute_result"
    }
   ],
   "source": [
    "rsd_ge_list_exr['차종'].unique()"
   ]
  },
  {
   "cell_type": "code",
   "execution_count": 581,
   "metadata": {},
   "outputs": [
    {
     "name": "stdout",
     "output_type": "stream",
     "text": [
      "['화물' '승용' '승합' '특수' nan]\n",
      "['소형' '중형' '대형' '경형' nan]\n"
     ]
    }
   ],
   "source": [
    "car_type_cd_dict = {\n",
    "    111:'승용', # 승용차일반형소형\n",
    "    112:'승용', # 승용차일반형중형\n",
    "    113:'승용', # 승용차일반형대형\n",
    "    114:'승용', # 승용차일반형경형\n",
    "    121:'승용', # 승용차겸화물형소형\n",
    "    122:'승용', # 승용차겸화물형중형\n",
    "    123:'승용', # 승용차겸화물형대형\n",
    "    124:'승용', # 승용차겸화물형경형\n",
    "    131:'승용', # 승용차다목적형소형\n",
    "    132:'승용', # 승용차다목적형중형\n",
    "    133:'승용', # 승용차다목적형대형\n",
    "    134:'승용', # 승용차다목적형경형\n",
    "    151:'승용', # 승용차기타형소형\n",
    "    152:'승용', # 승용차기타형중형\n",
    "    153:'승용', # 승용차기타형대형\n",
    "    154:'승용', # 승용차기타형경형\n",
    "    211:'승합', # 승합차일반형소형\n",
    "    212:'승합', # 승합차일반형중형\n",
    "    213:'승합', # 승합차일반형대형\n",
    "    214:'승합', # 승합차일반형경형\n",
    "    241:'승합', # 승합차특수형소형\n",
    "    242:'승합', # 승합차특수형중형\n",
    "    243:'승합', # 승합차특수형대형\n",
    "    244:'승합', # 승합차특수형경형\n",
    "    311:'화물', # 화물차일반형소형\n",
    "    312:'화물', # 화물차일반형중형\n",
    "    313:'화물', # 화물차일반형대형\n",
    "    314:'화물', # 화물차일반형경형\n",
    "    321:'화물', # 화물차덤프형소형\n",
    "    322:'화물', # 화물차덤프형중형\n",
    "    323:'화물', # 화물차덤프형대형\n",
    "    324:'화물', # 화물차덤프형경형\n",
    "    331:'화물', # 화물차밴형소형\n",
    "    332:'화물', # 화물차밴형중형\n",
    "    333:'화물', # 화물차밴형대형\n",
    "    334:'화물', # 화물차밴형경형\n",
    "    341:'화물', # 화물차특수용도형소형\n",
    "    342:'화물', # 화물차특수용도형중형\n",
    "    343:'화물', # 화물차특수용도형대형\n",
    "    344:'화물', # 화물차특수용도형경형\n",
    "    351:'화물', # 화물차피견인형저상형\n",
    "    352:'화물', # 화물차피견인형고상형\n",
    "    353:'화물', # 화물차피견인형적재함형\n",
    "    354:'화물', # 화물차피견인형샷시형\n",
    "    355:'화물', # 화물차피견인형기타형\n",
    "    361:'화물', # 화물차탱크로리형소형\n",
    "    362:'화물', # 화물차탱크로리형중형\n",
    "    363:'화물', # 화물차탱크로리형대형\n",
    "    364:'화물', # 화물차탱크로리형경형\n",
    "    421:'특수', # 특수차구난형소형\n",
    "    422:'특수', # 특수차구난형중형\n",
    "    423:'특수', # 특수차구난형대형\n",
    "    424:'특수', # 특수차구난형경형\n",
    "    431:'특수', # 특수차견인형소형\n",
    "    432:'특수', # 특수차견인형중형\n",
    "    433:'특수', # 특수차견인형대형\n",
    "    434:'특수', # 특수차견인형경형\n",
    "    441:'특수', # 특수차특수작업형소형\n",
    "    442:'특수', # 특수차특수작업형중형\n",
    "    443:'특수', # 특수차특수작업형대형\n",
    "    444:'특수', # 특수차특수작업형경형\n",
    "    511:'이륜', # 2륜차일반형소형\n",
    "    512:'이륜', # 2륜차일반형중형\n",
    "    513:'이륜', # 2륜차일반형대형\n",
    "    541:'이륜', # 2륜차특수형소형\n",
    "    542:'이륜', # 2륜차특수형중형\n",
    "    543:'이륜', # 2륜차특수형대형\n",
    "}\n",
    "car_type_cd_dict2 = {\n",
    "    111:'소형',\n",
    "    112:'중형',\n",
    "    113:'대형',\n",
    "    114:'경형',\n",
    "    121:'소형',\n",
    "    122:'중형',\n",
    "    123:'대형',\n",
    "    124:'경형',\n",
    "    131:'소형',\n",
    "    132:'중형',\n",
    "    133:'대형',\n",
    "    134:'경형',\n",
    "    151:'소형',\n",
    "    152:'중형',\n",
    "    153:'대형',\n",
    "    154:'경형',\n",
    "    211:'소형',\n",
    "    212:'중형',\n",
    "    213:'대형',\n",
    "    214:'경형',\n",
    "    241:'소형',\n",
    "    242:'중형',\n",
    "    243:'대형',\n",
    "    244:'경형',\n",
    "    311:'소형',\n",
    "    312:'중형',\n",
    "    313:'대형',\n",
    "    314:'경형',\n",
    "    321:'소형',\n",
    "    322:'중형',\n",
    "    323:'대형',\n",
    "    324:'경형',\n",
    "    331:'소형',\n",
    "    332:'중형',\n",
    "    333:'대형',\n",
    "    334:'경형',\n",
    "    341:'소형',\n",
    "    342:'중형',\n",
    "    343:'대형',\n",
    "    344:'경형',\n",
    "    351:'상형',\n",
    "    352:'상형',\n",
    "    353:'함형',\n",
    "    354:'시형',\n",
    "    355:'타형',\n",
    "    361:'소형',\n",
    "    362:'중형',\n",
    "    363:'대형',\n",
    "    364:'경형',\n",
    "    421:'소형',\n",
    "    422:'중형',\n",
    "    423:'대형',\n",
    "    424:'경형',\n",
    "    431:'소형',\n",
    "    432:'중형',\n",
    "    433:'대형',\n",
    "    434:'경형',\n",
    "    441:'소형',\n",
    "    442:'중형',\n",
    "    443:'대형',\n",
    "    444:'경형',\n",
    "    511:'소형',\n",
    "    512:'중형',\n",
    "    513:'대형',\n",
    "    541:'소형',\n",
    "    542:'중형',\n",
    "    543:'대형',\n",
    "}\n",
    "rsd_ge_list_exr['차종유형'] = rsd_ge_list_exr['차종'].replace(car_type_cd_dict2)\n",
    "rsd_ge_list_exr['차종'] = rsd_ge_list_exr['차종'].replace(car_type_cd_dict)\n",
    "print(rsd_ge_list_exr['차종'].unique())\n",
    "print(rsd_ge_list_exr['차종유형'].unique())"
   ]
  },
  {
   "cell_type": "markdown",
   "metadata": {},
   "source": [
    "#### 용도 코드 해석"
   ]
  },
  {
   "cell_type": "code",
   "execution_count": 582,
   "metadata": {},
   "outputs": [
    {
     "data": {
      "text/plain": [
       "array([ 2.,  3.,  1.,  4., nan])"
      ]
     },
     "execution_count": 582,
     "metadata": {},
     "output_type": "execute_result"
    }
   ],
   "source": [
    "rsd_ge_list_exr['용도'].unique()"
   ]
  },
  {
   "cell_type": "code",
   "execution_count": 583,
   "metadata": {},
   "outputs": [
    {
     "data": {
      "text/plain": [
       "array(['자가용', '영업용', '관용', '개인택시', nan], dtype=object)"
      ]
     },
     "execution_count": 583,
     "metadata": {},
     "output_type": "execute_result"
    }
   ],
   "source": [
    "usage_cd_dict = {\n",
    "    1:'관용',\n",
    "    2:'자가용',\n",
    "    3:'영업용',\n",
    "    4:'개인택시',\n",
    "}\n",
    "rsd_ge_list_exr['용도'] = rsd_ge_list_exr['용도'].replace(usage_cd_dict)\n",
    "rsd_ge_list_exr['용도'].unique()"
   ]
  },
  {
   "cell_type": "markdown",
   "metadata": {},
   "source": [
    "### 5\\. TB_RSD_GE_SUB(운행차 수시점검 내역(과다배출선별))"
   ]
  },
  {
   "cell_type": "code",
   "execution_count": 584,
   "metadata": {},
   "outputs": [
    {
     "name": "stdout",
     "output_type": "stream",
     "text": [
      "<class 'pandas.core.frame.DataFrame'>\n",
      "RangeIndex: 469327 entries, 0 to 469326\n",
      "Data columns (total 69 columns):\n",
      " #   Column             Non-Null Count   Dtype  \n",
      "---  ------             --------------   -----  \n",
      " 0   sub_idx            469327 non-null  int64  \n",
      " 1   fst                459692 non-null  float64\n",
      " 2   chk_sts            469272 non-null  object \n",
      " 3   ge_chk             26834 non-null   object \n",
      " 4   rsd_month          469327 non-null  int64  \n",
      " 5   rsd_date           469327 non-null  int64  \n",
      " 6   rsd_time           469325 non-null  object \n",
      " 7   sitecode           469326 non-null  object \n",
      " 8   car_nm             469327 non-null  object \n",
      " 9   usage              469327 non-null  object \n",
      " 10  car_year           469327 non-null  int64  \n",
      " 11  car_type_nm        469327 non-null  object \n",
      " 12  car_weight         469327 non-null  int64  \n",
      " 13  tot_weight         469327 non-null  int64  \n",
      " 14  engine_capacity    469326 non-null  float64\n",
      " 15  engine_power       469327 non-null  object \n",
      " 16  speed              459723 non-null  float64\n",
      " 17  accel              459723 non-null  float64\n",
      " 18  vsp                459723 non-null  float64\n",
      " 19  uvsmoke            2660 non-null    object \n",
      " 20  irsmoke            2660 non-null    object \n",
      " 21  co                 460103 non-null  float64\n",
      " 22  ppmhc              460103 non-null  float64\n",
      " 23  ppmno              459723 non-null  float64\n",
      " 24  co_ex              460105 non-null  float64\n",
      " 25  ppmhc_ex           460105 non-null  float64\n",
      " 26  ppmno_ex           459723 non-null  float64\n",
      " 27  car_ser_no         469327 non-null  object \n",
      " 28  car_reg_no         469327 non-null  object \n",
      " 29  usage_ex           469327 non-null  object \n",
      " 30  fuel_ex            469326 non-null  object \n",
      " 31  car_type_ex        469327 non-null  object \n",
      " 32  first_reg_date     469327 non-null  int64  \n",
      " 33  smo_chk_exp_date   459723 non-null  float64\n",
      " 34  smo_chk_mon        459723 non-null  object \n",
      " 35  chk_ge_fr          459723 non-null  object \n",
      " 36  chk_ge_to          459723 non-null  object \n",
      " 37  f__                459723 non-null  object \n",
      " 38  d__                459723 non-null  object \n",
      " 39  e__                459723 non-null  object \n",
      " 40  smo_chk_method     182577 non-null  object \n",
      " 41  unload_smo_val1    171946 non-null  float64\n",
      " 42  unload_smo_val2    170827 non-null  float64\n",
      " 43  unload_smo_val3    170784 non-null  float64\n",
      " 44  unload_smo_val4    169710 non-null  float64\n",
      " 45  unload_smo_val5    169708 non-null  float64\n",
      " 46  unload_smo_val6    169604 non-null  float64\n",
      " 47  unload_smo_lim1    171945 non-null  float64\n",
      " 48  unload_smo_lim2    170784 non-null  float64\n",
      " 49  unload_smo_lim3    170784 non-null  float64\n",
      " 50  unload_smo_lim4    169709 non-null  float64\n",
      " 51  unload_smo_lim5    169709 non-null  float64\n",
      " 52  unload_smo_lim6    169521 non-null  float64\n",
      " 53  make_reg_date      468944 non-null  object \n",
      " 54  file_nm            459723 non-null  object \n",
      " 55  rsd_file_nm        459723 non-null  object \n",
      " 56  smo_chk_cd         183048 non-null  object \n",
      " 57  std_tag            469097 non-null  float64\n",
      " 58  std_tag2           469148 non-null  float64\n",
      " 59  imagename          459723 non-null  object \n",
      " 60  ge_reg_type        469327 non-null  int64  \n",
      " 61  last_chk_exp_date  162092 non-null  float64\n",
      " 62  air                382 non-null     float64\n",
      " 63  air_ex_from        382 non-null     float64\n",
      " 64  air_ex_to          382 non-null     float64\n",
      " 65  ppmhchex           459701 non-null  float64\n",
      " 66  samples            459701 non-null  float64\n",
      " 67  rec_date           5406 non-null    float64\n",
      " 68  air_type           105 non-null     float64\n",
      "dtypes: float64(34), int64(8), object(27)\n",
      "memory usage: 247.1+ MB\n"
     ]
    }
   ],
   "source": [
    "# 0.3s\n",
    "name = 'tb_rsd_ge_sub_202311071035'\n",
    "file_name = f'{name}.csv'\n",
    "rsd_ge_sub = pd.read_csv(os.path.join(raw4_fold, file_name), low_memory=False, sep='|')\n",
    "rsd_ge_sub.info()"
   ]
  },
  {
   "cell_type": "code",
   "execution_count": 585,
   "metadata": {},
   "outputs": [
    {
     "data": {
      "text/plain": [
       "Index(['측정결과_일련번호', '측정순번', '측정기간_유효여부', '과다배출_여부', '측정년월', '측정일자', '측정시간',\n",
       "       '측정장소', '차명', '용도', '연식', '차종명', '중량', '총중량', '엔진용량', '엔진출력', '속도',\n",
       "       '가속도', 'VSP', '매연UV_측정값', '매연IR_측정값', 'CO_측정값', 'HC_측정값', 'NOX_측정값',\n",
       "       'CO_기준값', 'HC_기준값', 'NO_기준값', '차대번호', '차량번호', '용도_기준값', '연료_기준값',\n",
       "       '차종_기준값', '최초등록일', '정밀검사만료일', '정밀검사만료일_날짜형식', '측정_유효기간_시작일',\n",
       "       '측정_유효기간_종료일', '계산일자_1', '계산일자_2', '계산일자_3', '정밀검사_검사방법', '정밀검사_측정값_1',\n",
       "       '정밀검사_측정값_2', '정밀검사_측정값_3', '정밀검사_측정값_4', '정밀검사_측정값_5', '정밀검사_측정값_6',\n",
       "       '정밀검사_기준값_1', '정밀검사_기준값_2', '정밀검사_기준값_3', '정밀검사_기준값_4', '정밀검사_기준값_5',\n",
       "       '정밀검사_기준값_6', '제작일자', '제원정보파일명', '원격측정업로드파일명', '정밀검사방법코드', '허용기준(부하)',\n",
       "       '허용기준(무부하)', '원격측정이미지파일명', '결과등록 타입(1-원격,2-노상)', '최종_정밀검사일자',\n",
       "       '공기과잉률측정치', '공기과잉률_허용치_FROM', '공기과잉률_허용치_TO', 'PPMHCHEX', '샘플수', '등록일',\n",
       "       '공기과잉률_종류'],\n",
       "      dtype='object')"
      ]
     },
     "execution_count": 585,
     "metadata": {},
     "output_type": "execute_result"
    }
   ],
   "source": [
    "rsd_ge_sub_dict = {\n",
    "    'sub_idx':'측정결과_일련번호',\n",
    "    'fst':'측정순번',\n",
    "    'chk_sts':'측정기간_유효여부',\n",
    "    'ge_chk':'과다배출_여부',\n",
    "    'rsd_month':'측정년월',\n",
    "    'rsd_date':'측정일자',\n",
    "    'rsd_time':'측정시간',\n",
    "    'sitecode':'측정장소',\n",
    "    'car_nm':'차명',\n",
    "    'usage':'용도',\n",
    "    'car_year':'연식',\n",
    "    'car_type_nm':'차종명',\n",
    "    'car_weight':'중량',\n",
    "    'tot_weight':'총중량',\n",
    "    'engine_capacity':'엔진용량',\n",
    "    'engine_power':'엔진출력',\n",
    "    'speed':'속도',\n",
    "    'accel':'가속도',\n",
    "    'vsp':'VSP',\n",
    "    'uvsmoke':'매연UV_측정값',\n",
    "    'irsmoke':'매연IR_측정값',\n",
    "    'co':'CO_측정값',\n",
    "    'ppmhc':'HC_측정값',\n",
    "    'ppmno':'NOX_측정값',\n",
    "    'co_ex':'CO_기준값',\n",
    "    'ppmhc_ex':'HC_기준값',\n",
    "    'ppmno_ex':'NO_기준값',\n",
    "    'car_ser_no':'차대번호',\n",
    "    'car_reg_no':'차량번호',\n",
    "    'usage_ex':'용도_기준값',\n",
    "    'fuel_ex':'연료_기준값',\n",
    "    'car_type_ex':'차종_기준값',\n",
    "    'first_reg_date':'최초등록일',\n",
    "    'smo_chk_exp_date':'정밀검사만료일',\n",
    "    'smo_chk_mon':'정밀검사만료일_날짜형식',\n",
    "    'chk_ge_fr':'측정_유효기간_시작일',\n",
    "    'chk_ge_to':'측정_유효기간_종료일',\n",
    "    'f__':'계산일자_1',\n",
    "    'd__':'계산일자_2',\n",
    "    'e__':'계산일자_3',\n",
    "    'smo_chk_method':'정밀검사_검사방법',\n",
    "    'unload_smo_val1':'정밀검사_측정값_1',\n",
    "    'unload_smo_val2':'정밀검사_측정값_2',\n",
    "    'unload_smo_val3':'정밀검사_측정값_3',\n",
    "    'unload_smo_val4':'정밀검사_측정값_4',\n",
    "    'unload_smo_val5':'정밀검사_측정값_5',\n",
    "    'unload_smo_val6':'정밀검사_측정값_6',\n",
    "    'unload_smo_lim1':'정밀검사_기준값_1',\n",
    "    'unload_smo_lim2':'정밀검사_기준값_2',\n",
    "    'unload_smo_lim3':'정밀검사_기준값_3',\n",
    "    'unload_smo_lim4':'정밀검사_기준값_4',\n",
    "    'unload_smo_lim5':'정밀검사_기준값_5',\n",
    "    'unload_smo_lim6':'정밀검사_기준값_6',\n",
    "    'make_reg_date':'제작일자',\n",
    "    'file_nm':'제원정보파일명',\n",
    "    'rsd_file_nm':'원격측정업로드파일명',\n",
    "    'smo_chk_cd':'정밀검사방법코드',\n",
    "    'std_tag':'허용기준(부하)',\n",
    "    'std_tag2':'허용기준(무부하)',\n",
    "    'imagename':'원격측정이미지파일명',\n",
    "    'ge_reg_type':'결과등록 타입(1-원격,2-노상)',\n",
    "    'last_chk_exp_date':'최종_정밀검사일자',\n",
    "    'air':'공기과잉률측정치',\n",
    "    'air_ex_from':'공기과잉률_허용치_FROM',\n",
    "    'air_ex_to':'공기과잉률_허용치_TO',\n",
    "    'ppmhchex':'PPMHCHEX',\n",
    "    'samples':'샘플수',\n",
    "    'rec_date':'등록일',\n",
    "    'air_type':'공기과잉률_종류',\n",
    "\n",
    "}\n",
    "rsd_ge_subr = rsd_ge_sub.rename(columns=rsd_ge_sub_dict)\n",
    "rsd_ge_subr.columns"
   ]
  },
  {
   "cell_type": "code",
   "execution_count": 586,
   "metadata": {},
   "outputs": [
    {
     "data": {
      "text/plain": [
       "{0.0, nan, 1.0, 2.0}"
      ]
     },
     "execution_count": 586,
     "metadata": {},
     "output_type": "execute_result"
    }
   ],
   "source": [
    "set(rsd_ge_subr['공기과잉률_종류'].unique())"
   ]
  },
  {
   "cell_type": "code",
   "execution_count": 587,
   "metadata": {},
   "outputs": [
    {
     "data": {
      "text/plain": [
       "count   459692.00\n",
       "mean         1.51\n",
       "std          1.63\n",
       "min          1.00\n",
       "25%          1.00\n",
       "50%          1.00\n",
       "75%          2.00\n",
       "max         70.00\n",
       "Name: 측정순번, dtype: float64"
      ]
     },
     "execution_count": 587,
     "metadata": {},
     "output_type": "execute_result"
    }
   ],
   "source": [
    "rsd_ge_subr['측정순번'].describe()"
   ]
  },
  {
   "cell_type": "code",
   "execution_count": 588,
   "metadata": {},
   "outputs": [
    {
     "data": {
      "text/plain": [
       "count     469327.00\n",
       "mean    20133274.76\n",
       "std        10817.22\n",
       "min     20000104.00\n",
       "25%     20130726.00\n",
       "50%     20130930.00\n",
       "75%     20131113.00\n",
       "max     21090428.00\n",
       "Name: 측정일자, dtype: float64"
      ]
     },
     "execution_count": 588,
     "metadata": {},
     "output_type": "execute_result"
    }
   ],
   "source": [
    "rsd_ge_subr['측정일자'].describe()"
   ]
  },
  {
   "cell_type": "code",
   "execution_count": 589,
   "metadata": {},
   "outputs": [
    {
     "data": {
      "text/plain": [
       "0   22.00\n",
       "1   28.00\n",
       "2   22.00\n",
       "3    6.00\n",
       "4   29.00\n",
       "Name: 허용기준(부하), dtype: float64"
      ]
     },
     "execution_count": 589,
     "metadata": {},
     "output_type": "execute_result"
    }
   ],
   "source": [
    "rsd_ge_subr['허용기준(부하)'].head()"
   ]
  },
  {
   "cell_type": "markdown",
   "metadata": {},
   "source": [
    "### 6\\. TB_RSE_OUT_RESULT(확인검사OUT결과)"
   ]
  },
  {
   "cell_type": "code",
   "execution_count": 590,
   "metadata": {},
   "outputs": [
    {
     "name": "stdout",
     "output_type": "stream",
     "text": [
      "<class 'pandas.core.frame.DataFrame'>\n",
      "RangeIndex: 3640 entries, 0 to 3639\n",
      "Data columns (total 53 columns):\n",
      " #   Column                    Non-Null Count  Dtype  \n",
      "---  ------                    --------------  -----  \n",
      " 0   rse_idx                   3640 non-null   int64  \n",
      " 1   rse_date                  3640 non-null   int64  \n",
      " 2   rse_org_cd                3623 non-null   object \n",
      " 3   car_reg_no                3640 non-null   object \n",
      " 4   car_ser_no                3640 non-null   object \n",
      " 5   cer_exp_year              3263 non-null   object \n",
      " 6   cer_exp_km                3263 non-null   float64\n",
      " 7   cer_repair_yn             3632 non-null   object \n",
      " 8   mileage                   3530 non-null   object \n",
      " 9   mistake_yn                3632 non-null   object \n",
      " 10  repair_name               3262 non-null   object \n",
      " 11  repair_comment            3245 non-null   object \n",
      " 12  before_smo_val            1788 non-null   float64\n",
      " 13  before_smo_lim            1789 non-null   float64\n",
      " 14  before_co_val             1364 non-null   float64\n",
      " 15  before_co_lim             1364 non-null   float64\n",
      " 16  before_hc_val             1252 non-null   float64\n",
      " 17  before_hc_lim             1364 non-null   float64\n",
      " 18  before_nox_val            1010 non-null   float64\n",
      " 19  before_nox_lim            1010 non-null   float64\n",
      " 20  before_air_over_val       354 non-null    float64\n",
      " 21  before_air_over_lim       1 non-null      float64\n",
      " 22  after_smo_val1            620 non-null    float64\n",
      " 23  after_smo_lim1            621 non-null    float64\n",
      " 24  after_co_val1             1196 non-null   float64\n",
      " 25  after_co_lim1             1166 non-null   float64\n",
      " 26  after_hc_val1             1199 non-null   float64\n",
      " 27  after_hc_lim1             1166 non-null   float64\n",
      " 28  after_nox_val1            1002 non-null   float64\n",
      " 29  after_nox_lim1            1017 non-null   float64\n",
      " 30  after_air_over_val1       187 non-null    float64\n",
      " 31  after_air_over_lim1_from  149 non-null    float64\n",
      " 32  after_air_over_lim1_to    149 non-null    float64\n",
      " 33  after_smo_val2            1461 non-null   float64\n",
      " 34  after_smo_lim2            1451 non-null   float64\n",
      " 35  after_co_val2             947 non-null    float64\n",
      " 36  after_co_lim2             859 non-null    float64\n",
      " 37  after_hc_val2             953 non-null    float64\n",
      " 38  after_hc_lim2             859 non-null    float64\n",
      " 39  after_nox_val2            0 non-null      float64\n",
      " 40  after_nox_lim2            0 non-null      float64\n",
      " 41  after_air_over_val2       955 non-null    float64\n",
      " 42  after_air_over_lim2_from  861 non-null    float64\n",
      " 43  after_air_over_lim2_to    861 non-null    float64\n",
      " 44  rec_date                  3640 non-null   int64  \n",
      " 45  rec_nm                    1784 non-null   object \n",
      " 46  las_chg_nm                2814 non-null   object \n",
      " 47  las_chg_date              3608 non-null   float64\n",
      " 48  rse_out_final_yn          3524 non-null   object \n",
      " 49  car_age                   3261 non-null   object \n",
      " 50  before_air_over_lim2      354 non-null    float64\n",
      " 51  filename1                 335 non-null    object \n",
      " 52  filename2                 335 non-null    object \n",
      "dtypes: float64(35), int64(3), object(15)\n",
      "memory usage: 1.5+ MB\n"
     ]
    }
   ],
   "source": [
    "# 0.3s\n",
    "name = 'tb_rse_out_result_202311071036'\n",
    "file_name = f'{name}.csv'\n",
    "rse_out_result = pd.read_csv(os.path.join(raw4_fold, file_name), low_memory=False, sep='|')\n",
    "rse_out_result.info()"
   ]
  },
  {
   "cell_type": "code",
   "execution_count": 591,
   "metadata": {},
   "outputs": [
    {
     "data": {
      "text/plain": [
       "Index(['일련번호(TB_RSE_REG.RSE_IDX)', '배출가스검사일자(확인검사일자)',\n",
       "       '검사소코드(TB_US_ORG.ORG_ID)', '차량번호', '차대번호', '보증기간_년', '보증기간_Km',\n",
       "       '보증수리여부', '주행거리', '보증기간내_고의_또는_과실여부', '정비사성명', '정비사의견', '개선전_매연',\n",
       "       '개선전_매연허용치', '개선전_일산화탄소(CO)', '개선전_일산화탄소(CO)허용치', '개선전_탄화수소(HC)',\n",
       "       '개선전_탄화수소(HC)허용치', '개선전_질소산화물(NOX)', '개선전_질소산화물(NOX)허용치', '개선전_공기과잉률',\n",
       "       '개선전_공기과잉률_허용치', '개선후_매연측정치', '개선후_매연허용치', '개선후_일산화탄소(CO)측정치',\n",
       "       '개선후_일산화탄소(CO)허용치', '개선후_탄화수소(HC)측정치', '개선후_탄화수소(HC)허용치',\n",
       "       '개선후_질소산화물(NOX)측정치', '개선후_질소산화물(NOX)허용치', '개선후_공기과잉률측정치',\n",
       "       '개선후_공기과잉률허용치_FROM', '개선후_공기과잉률허용치_TO', '개선후_매연측정치', '개선후_매연허용치',\n",
       "       '개선후_일산화탄소(CO)측정치', '개선후_일산화탄소(CO)허용치', '개선후_탄화수소(HC)측정치',\n",
       "       '개선후_탄화수소(HC)허용치', '개선후_질소산화물(NOX)측정치', '개선후_질소산화물(NOX)허용치',\n",
       "       '개선후_공기과잉률측정치', '개선후_공기과잉률측정치_FROM', '개선후_공기과잉률측정치_TO', '생성일자', '생성자명',\n",
       "       '최종수정자명', '최종수정일자', '확인검사결과', '차령', '개선전공기과잉률_TO', '확인검사이미지(앞면)',\n",
       "       '확인검사이미지(뒷면)'],\n",
       "      dtype='object')"
      ]
     },
     "execution_count": 591,
     "metadata": {},
     "output_type": "execute_result"
    }
   ],
   "source": [
    "rse_out_result_dict = {\n",
    "    'rse_idx':'일련번호(TB_RSE_REG.RSE_IDX)',\n",
    "    'rse_date':'배출가스검사일자(확인검사일자)',\n",
    "    'rse_org_cd':'검사소코드(TB_US_ORG.ORG_ID)',\n",
    "    'car_reg_no':'차량번호',\n",
    "    'car_ser_no':'차대번호',\n",
    "    'cer_exp_year':'보증기간_년',\n",
    "    'cer_exp_km':'보증기간_Km',\n",
    "    'cer_repair_yn':'보증수리여부',\n",
    "    'mileage':'주행거리',\n",
    "    'mistake_yn':'보증기간내_고의_또는_과실여부',\n",
    "    'repair_name':'정비사성명',\n",
    "    'repair_comment':'정비사의견',\n",
    "    'before_smo_val':'개선전_매연',\n",
    "    'before_smo_lim':'개선전_매연허용치',\n",
    "    'before_co_val':'개선전_일산화탄소(CO)',\n",
    "    'before_co_lim':'개선전_일산화탄소(CO)허용치',\n",
    "    'before_hc_val':'개선전_탄화수소(HC)',\n",
    "    'before_hc_lim':'개선전_탄화수소(HC)허용치',\n",
    "    'before_nox_val':'개선전_질소산화물(NOX)',\n",
    "    'before_nox_lim':'개선전_질소산화물(NOX)허용치',\n",
    "    'before_air_over_val':'개선전_공기과잉률',\n",
    "    'before_air_over_lim':'개선전_공기과잉률_허용치',\n",
    "    'after_smo_val1':'개선후_매연측정치',\n",
    "    'after_smo_lim1':'개선후_매연허용치',\n",
    "    'after_co_val1':'개선후_일산화탄소(CO)측정치',\n",
    "    'after_co_lim1':'개선후_일산화탄소(CO)허용치',\n",
    "    'after_hc_val1':'개선후_탄화수소(HC)측정치',\n",
    "    'after_hc_lim1':'개선후_탄화수소(HC)허용치',\n",
    "    'after_nox_val1':'개선후_질소산화물(NOX)측정치',\n",
    "    'after_nox_lim1':'개선후_질소산화물(NOX)허용치',\n",
    "    'after_air_over_val1':'개선후_공기과잉률측정치',\n",
    "    'after_air_over_lim1_from':'개선후_공기과잉률허용치_FROM',\n",
    "    'after_air_over_lim1_to':'개선후_공기과잉률허용치_TO',\n",
    "    'after_smo_val2':'개선후_매연측정치',\n",
    "    'after_smo_lim2':'개선후_매연허용치',\n",
    "    'after_co_val2':'개선후_일산화탄소(CO)측정치',\n",
    "    'after_co_lim2':'개선후_일산화탄소(CO)허용치',\n",
    "    'after_hc_val2':'개선후_탄화수소(HC)측정치',\n",
    "    'after_hc_lim2':'개선후_탄화수소(HC)허용치',\n",
    "    'after_nox_val2':'개선후_질소산화물(NOX)측정치',\n",
    "    'after_nox_lim2':'개선후_질소산화물(NOX)허용치',\n",
    "    'after_air_over_val2':'개선후_공기과잉률측정치',\n",
    "    'after_air_over_lim2_from':'개선후_공기과잉률측정치_FROM',\n",
    "    'after_air_over_lim2_to':'개선후_공기과잉률측정치_TO',\n",
    "    'rec_date':'생성일자',\n",
    "    'rec_nm':'생성자명',\n",
    "    'las_chg_nm':'최종수정자명',\n",
    "    'las_chg_date':'최종수정일자',\n",
    "    'rse_out_final_yn':'확인검사결과',\n",
    "    'car_age':'차령',\n",
    "    'before_air_over_lim2':'개선전공기과잉률_TO',\n",
    "    'filename1':'확인검사이미지(앞면)',\n",
    "    'filename2':'확인검사이미지(뒷면)',\n",
    "}\n",
    "rse_out_resultr = rse_out_result.rename(columns=rse_out_result_dict)\n",
    "rse_out_resultr.columns"
   ]
  },
  {
   "cell_type": "markdown",
   "metadata": {},
   "source": [
    "### 7\\. [❌] TB_RSE_REG(확인검사접수)"
   ]
  },
  {
   "cell_type": "code",
   "execution_count": 592,
   "metadata": {},
   "outputs": [
    {
     "name": "stdout",
     "output_type": "stream",
     "text": [
      "<class 'pandas.core.frame.DataFrame'>\n",
      "RangeIndex: 4140 entries, 0 to 4139\n",
      "Data columns (total 26 columns):\n",
      " #   Column           Non-Null Count  Dtype  \n",
      "---  ------           --------------  -----  \n",
      " 0   rse_idx          4140 non-null   int64  \n",
      " 1   rso_idx          3769 non-null   float64\n",
      " 2   car_reg_no       3766 non-null   object \n",
      " 3   car_ser_no       3766 non-null   object \n",
      " 4   org_id           4140 non-null   object \n",
      " 5   org_nm           4133 non-null   object \n",
      " 6   reg_no           4140 non-null   int64  \n",
      " 7   reg_no_full      4140 non-null   object \n",
      " 8   rse_date         4140 non-null   int64  \n",
      " 9   rse_org_cd       4109 non-null   object \n",
      " 10  rse_org_nm       4130 non-null   object \n",
      " 11  rse_reg_no       4140 non-null   int64  \n",
      " 12  rse_reg_no_full  4140 non-null   object \n",
      " 13  rse_pay_gb       4140 non-null   int64  \n",
      " 14  rse_how_gb       4140 non-null   object \n",
      " 15  rse_etc_gb       4126 non-null   float64\n",
      " 16  rse_status       4140 non-null   int64  \n",
      " 17  rec_date         4140 non-null   object \n",
      " 18  rec_nm           1693 non-null   object \n",
      " 19  las_chg_date     3651 non-null   object \n",
      " 20  las_chg_nm       2881 non-null   object \n",
      " 21  det_yn           4132 non-null   object \n",
      " 22  print_yn         3142 non-null   object \n",
      " 23  print_date       3070 non-null   float64\n",
      " 24  rse_amt          4140 non-null   float64\n",
      " 25  scale_gb         4132 non-null   float64\n",
      "dtypes: float64(5), int64(6), object(15)\n",
      "memory usage: 841.1+ KB\n"
     ]
    }
   ],
   "source": [
    "# 0.3s\n",
    "name = 'tb_rse_reg_202311071036'\n",
    "file_name = f'{name}.csv'\n",
    "rse_reg = pd.read_csv(os.path.join(raw4_fold, file_name), low_memory=False, sep='|')\n",
    "rse_reg.info()"
   ]
  },
  {
   "cell_type": "code",
   "execution_count": 593,
   "metadata": {},
   "outputs": [
    {
     "data": {
      "text/plain": [
       "Index(['일련번호_MAX', '개선명령_IDX', '차량번호', '차대번호', '업체코드_접수업체', '업체명_접수업체',\n",
       "       '순번_접수업체', '접수번호_접수업체', '접수일자', '업체코드_검사업체', '업체명_검사업체', '순번_검사업체',\n",
       "       '접수번호_검사업체', '수납구분', '검사방법', '특이사항', '확인검사상태', '생성일자', '생성자명', '최종수정일자',\n",
       "       '최종수정자명', '정비내역등록여부', '출력여부', '출력일시', '수수료', '규모구분'],\n",
       "      dtype='object')"
      ]
     },
     "execution_count": 593,
     "metadata": {},
     "output_type": "execute_result"
    }
   ],
   "source": [
    "rse_reg_dict = {\n",
    "    'rse_idx':'일련번호_MAX', \n",
    "    'rso_idx':'개선명령_IDX', \n",
    "    'car_reg_no':'차량번호', \n",
    "    'car_ser_no':'차대번호', \n",
    "    'org_id':'업체코드_접수업체', # 중요\n",
    "    'org_nm':'업체명_접수업체', # 중요\n",
    "    'reg_no':'순번_접수업체', \n",
    "    'reg_no_full':'접수번호_접수업체', \n",
    "    'rse_date':'접수일자', \n",
    "    'rse_org_cd':'업체코드_검사업체', # 중요\n",
    "    'rse_org_nm':'업체명_검사업체', # 중요\n",
    "    'rse_reg_no':'순번_검사업체', \n",
    "    'rse_reg_no_full':'접수번호_검사업체', \n",
    "    'rse_pay_gb':'수납구분', \n",
    "    'rse_how_gb':'검사방법', \n",
    "    'rse_etc_gb':'특이사항', \n",
    "    'rse_status':'확인검사상태', \n",
    "    'rec_date':'생성일자', \n",
    "    'rec_nm':'생성자명', \n",
    "    'las_chg_date':'최종수정일자', \n",
    "    'las_chg_nm':'최종수정자명', \n",
    "    'det_yn':'정비내역등록여부', \n",
    "    'print_yn':'출력여부', \n",
    "    'print_date':'출력일시', \n",
    "    'rse_amt':'수수료', \n",
    "    'scale_gb':'규모구분', \n",
    "}\n",
    "rse_regr = rse_reg.rename(columns=rse_reg_dict)\n",
    "rse_regr.columns"
   ]
  },
  {
   "cell_type": "code",
   "execution_count": 594,
   "metadata": {},
   "outputs": [
    {
     "data": {
      "text/plain": [
       "count   4140.00\n",
       "mean    2189.04\n",
       "std     1271.14\n",
       "min        1.00\n",
       "25%     1083.75\n",
       "50%     2190.50\n",
       "75%     3296.25\n",
       "max     4379.00\n",
       "Name: 일련번호_MAX, dtype: float64"
      ]
     },
     "execution_count": 594,
     "metadata": {},
     "output_type": "execute_result"
    }
   ],
   "source": [
    "rse_regr['일련번호_MAX'].describe()"
   ]
  },
  {
   "cell_type": "code",
   "execution_count": 595,
   "metadata": {},
   "outputs": [
    {
     "data": {
      "text/plain": [
       "array(['(주)영등포자동차정비검사소', '비케이프라임산업주식회사', '신흥자동차정비검사(주)', '솔로몬자동차공업사',\n",
       "       '인영자동차공업사(주)'], dtype=object)"
      ]
     },
     "execution_count": 595,
     "metadata": {},
     "output_type": "execute_result"
    }
   ],
   "source": [
    "rse_regr['업체명_접수업체'].unique()[:5]"
   ]
  },
  {
   "cell_type": "code",
   "execution_count": 596,
   "metadata": {},
   "outputs": [
    {
     "data": {
      "text/plain": [
       "array(['ZA09', 'ZA08', 'ZA25', 'ZA26', 'ZD02'], dtype=object)"
      ]
     },
     "execution_count": 596,
     "metadata": {},
     "output_type": "execute_result"
    }
   ],
   "source": [
    "rse_regr['업체코드_접수업체'].unique()[:5]"
   ]
  },
  {
   "cell_type": "markdown",
   "metadata": {},
   "source": [
    "### 8\\. TB_RSE_STD(확인검사허용기준(확정))"
   ]
  },
  {
   "cell_type": "code",
   "execution_count": 597,
   "metadata": {},
   "outputs": [
    {
     "name": "stdout",
     "output_type": "stream",
     "text": [
      "<class 'pandas.core.frame.DataFrame'>\n",
      "RangeIndex: 3410 entries, 0 to 3409\n",
      "Data columns (total 43 columns):\n",
      " #   Column             Non-Null Count  Dtype  \n",
      "---  ------             --------------  -----  \n",
      " 0   rse_idx            3410 non-null   int64  \n",
      " 1   rse_reg_no         3410 non-null   object \n",
      " 2   rse_how_gb         3410 non-null   object \n",
      " 3   gb_co_lim          1306 non-null   float64\n",
      " 4   gb_hc_lim          1306 non-null   float64\n",
      " 5   gb_nox_lim         1306 non-null   float64\n",
      " 6   gb_bh_hp_lim       3410 non-null   float64\n",
      " 7   db_1mod_lim        3410 non-null   int64  \n",
      " 8   db_2mod_lim        3410 non-null   int64  \n",
      " 9   db_3mod_lim        3410 non-null   int64  \n",
      " 10  db_op_lim          3363 non-null   float64\n",
      " 11  db_revc_lim        3410 non-null   int64  \n",
      " 12  gm_co_lim          1305 non-null   float64\n",
      " 13  gm_hc_lim          1305 non-null   float64\n",
      " 14  gm_air_over_lim1   3410 non-null   float64\n",
      " 15  gm_air_over_lim2   3410 non-null   float64\n",
      " 16  dm_smo_lim         3410 non-null   int64  \n",
      " 17  dm_revc_lim        3410 non-null   int64  \n",
      " 18  gt_co_lim          1305 non-null   float64\n",
      " 19  gt_hc_lim          1305 non-null   float64\n",
      " 20  gt_air_over_lim1   3410 non-null   float64\n",
      " 21  gt_air_over_lim2   3410 non-null   float64\n",
      " 22  dk_smo_lim         3410 non-null   int64  \n",
      " 23  dk_car_weight_lim  3410 non-null   int64  \n",
      " 24  dk_op_lim          3363 non-null   float64\n",
      " 25  dk_car_type_cd     3410 non-null   int64  \n",
      " 26  gi_co_b_lim        1306 non-null   float64\n",
      " 27  gi_hc_b_lim        1306 non-null   float64\n",
      " 28  gi_co_m_lim        1305 non-null   float64\n",
      " 29  gi_hc_m_lim        1305 non-null   float64\n",
      " 30  gi_nox_lim         1306 non-null   float64\n",
      " 31  gi_bh_hp_lim       3410 non-null   float64\n",
      " 32  gi_air_over_lim1   3410 non-null   float64\n",
      " 33  gi_air_over_lim2   3410 non-null   float64\n",
      " 34  rse_time           3410 non-null   object \n",
      " 35  rse_yn             3410 non-null   object \n",
      " 36  rse_user_id        3410 non-null   object \n",
      " 37  usage_cd           3410 non-null   object \n",
      " 38  kagumgi            3410 non-null   object \n",
      " 39  car_year           3410 non-null   int64  \n",
      " 40  atm_type_gb        3410 non-null   object \n",
      " 41  combustion_yn      3408 non-null   object \n",
      " 42  car_reg_no         3410 non-null   object \n",
      "dtypes: float64(22), int64(11), object(10)\n",
      "memory usage: 1.1+ MB\n"
     ]
    }
   ],
   "source": [
    "# 0.3s\n",
    "name = 'tb_rse_std_202311071036'\n",
    "file_name = f'{name}.csv'\n",
    "rse_std = pd.read_csv(os.path.join(raw4_fold, file_name), low_memory=False, sep='|')\n",
    "rse_std.info()"
   ]
  },
  {
   "cell_type": "code",
   "execution_count": 598,
   "metadata": {},
   "outputs": [
    {
     "data": {
      "text/plain": [
       "Index(['일련번호(TB_RSE_REG.RSE_IDX)', '접수번호', '검사방법', 'GB(CO기준치)', 'GB(HC기준치)',\n",
       "       'GB(NOX기준치)', 'GB(부하마력 기준치)', 'DB(1모드 기준치)', 'DB(2모드 기준치)',\n",
       "       'DB(3모드 기준치)', 'DB(출력 기준치)', 'DB(회전수 기준치)', 'GM(CO기준치)', 'GM(HC기준치)',\n",
       "       'GM(공기과잉률 기준치1)', 'GM(공기과잉률 기준치2)', 'DM(매연기준치)', 'DM(회전수기준치)',\n",
       "       'GT(CO기준치)', 'GT(HC기준치)', 'GT(공기과잉률기준치1)', 'GT(공기과잉률기준치2)', 'DK(매연기준치)',\n",
       "       'DK(차량중량기준치)', 'DK(출력기준치)', 'DK(차종코드:자동차법)', 'GI(CO_B기준치)',\n",
       "       'GI(HC_B기준치)', 'GI(CO_M기준치)', 'GI(HC_M기준치)', 'GI(NOX기준치)',\n",
       "       'GI(부하마력기준치)', 'GI(공기과잉률기준치1)', 'GI(공기과잉률기준치2)',\n",
       "       '검사시간(시:분:초) TB_RSE_OBD_RESULT 마지막수정시간', '검사여부', '관능검사자ID', '연료코드',\n",
       "       '과급기', '년식', '차종(대기법)', '희박연소엔진여부', '차량번호'],\n",
       "      dtype='object')"
      ]
     },
     "execution_count": 598,
     "metadata": {},
     "output_type": "execute_result"
    }
   ],
   "source": [
    "rse_std_dict = {\n",
    "    'rse_idx':'일련번호(TB_RSE_REG.RSE_IDX)',\n",
    "    'rse_reg_no':'접수번호',\n",
    "    'rse_how_gb':'검사방법',\n",
    "    'gb_co_lim':'GB(CO기준치)',\n",
    "    'gb_hc_lim':'GB(HC기준치)',\n",
    "    'gb_nox_lim':'GB(NOX기준치)',\n",
    "    'gb_bh_hp_lim':'GB(부하마력 기준치)',\n",
    "    'db_1mod_lim':'DB(1모드 기준치)',\n",
    "    'db_2mod_lim':'DB(2모드 기준치)',\n",
    "    'db_3mod_lim':'DB(3모드 기준치)',\n",
    "    'db_op_lim':'DB(출력 기준치)',\n",
    "    'db_revc_lim':'DB(회전수 기준치)',\n",
    "    'gm_co_lim':'GM(CO기준치)',\n",
    "    'gm_hc_lim':'GM(HC기준치)',\n",
    "    'gm_air_over_lim1':'GM(공기과잉률 기준치1)',\n",
    "    'gm_air_over_lim2':'GM(공기과잉률 기준치2)',\n",
    "    'dm_smo_lim':'DM(매연기준치)',\n",
    "    'dm_revc_lim':'DM(회전수기준치)',\n",
    "    'gt_co_lim':'GT(CO기준치)',\n",
    "    'gt_hc_lim':'GT(HC기준치)',\n",
    "    'gt_air_over_lim1':'GT(공기과잉률기준치1)',\n",
    "    'gt_air_over_lim2':'GT(공기과잉률기준치2)',\n",
    "    'dk_smo_lim':'DK(매연기준치)',\n",
    "    'dk_car_weight_lim':'DK(차량중량기준치)',\n",
    "    'dk_op_lim':'DK(출력기준치)',\n",
    "    'dk_car_type_cd':'DK(차종코드:자동차법)',\n",
    "    'gi_co_b_lim':'GI(CO_B기준치)',\n",
    "    'gi_hc_b_lim':'GI(HC_B기준치)',\n",
    "    'gi_co_m_lim':'GI(CO_M기준치)',\n",
    "    'gi_hc_m_lim':'GI(HC_M기준치)',\n",
    "    'gi_nox_lim':'GI(NOX기준치)',\n",
    "    'gi_bh_hp_lim':'GI(부하마력기준치)',\n",
    "    'gi_air_over_lim1':'GI(공기과잉률기준치1)',\n",
    "    'gi_air_over_lim2':'GI(공기과잉률기준치2)',\n",
    "    'rse_time':'검사시간(시:분:초) TB_RSE_OBD_RESULT 마지막수정시간',\n",
    "    'rse_yn':'검사여부',\n",
    "    'rse_user_id':'관능검사자ID',\n",
    "    'usage_cd':'연료코드',\n",
    "    'kagumgi':'과급기',\n",
    "    'car_year':'년식',\n",
    "    'atm_type_gb':'차종(대기법)',\n",
    "    'combustion_yn':'희박연소엔진여부',\n",
    "    'car_reg_no':'차량번호',\n",
    "}\n",
    "rse_stdr = rse_std.rename(columns=rse_std_dict)\n",
    "rse_stdr.columns"
   ]
  },
  {
   "cell_type": "code",
   "execution_count": 599,
   "metadata": {},
   "outputs": [
    {
     "data": {
      "text/plain": [
       "array(['41K12013090390001', 'H0392013102190002', 'A0482013112590002',\n",
       "       'D0212014012190003', 'A0482014020690001'], dtype=object)"
      ]
     },
     "execution_count": 599,
     "metadata": {},
     "output_type": "execute_result"
    }
   ],
   "source": [
    "rse_stdr['접수번호'].unique()[:5]"
   ]
  },
  {
   "cell_type": "code",
   "execution_count": 600,
   "metadata": {},
   "outputs": [
    {
     "data": {
      "text/plain": [
       "array(['C', 'B', 'H', 'A', 'J', 'L', 'N', 'G'], dtype=object)"
      ]
     },
     "execution_count": 600,
     "metadata": {},
     "output_type": "execute_result"
    }
   ],
   "source": [
    "rse_stdr['연료코드'].unique()"
   ]
  },
  {
   "cell_type": "markdown",
   "metadata": {},
   "source": [
    "### 9\\. [✔] TB_RSM_ORG(전문정비사업자)"
   ]
  },
  {
   "cell_type": "code",
   "execution_count": 601,
   "metadata": {},
   "outputs": [
    {
     "name": "stdout",
     "output_type": "stream",
     "text": [
      "<class 'pandas.core.frame.DataFrame'>\n",
      "RangeIndex: 652 entries, 0 to 651\n",
      "Data columns (total 42 columns):\n",
      " #   Column             Non-Null Count  Dtype  \n",
      "---  ------             --------------  -----  \n",
      " 0   org_id             652 non-null    int64  \n",
      " 1   org_code           567 non-null    object \n",
      " 2   sido               221 non-null    object \n",
      " 3   sigungu            221 non-null    object \n",
      " 4   receipte_no        652 non-null    object \n",
      " 5   receipte_date      652 non-null    int64  \n",
      " 6   send_date          651 non-null    float64\n",
      " 7   org_nm             652 non-null    object \n",
      " 8   org_owner          652 non-null    object \n",
      " 9   org_addr1          652 non-null    object \n",
      " 10  org_addr2          492 non-null    object \n",
      " 11  org_owner_tel_no   652 non-null    object \n",
      " 12  org_post_no        652 non-null    object \n",
      " 13  org_simple_addr    652 non-null    object \n",
      " 14  org_tel_no         652 non-null    object \n",
      " 15  ins_item_group_id  0 non-null      float64\n",
      " 16  rec_date           652 non-null    int64  \n",
      " 17  rec_nm             0 non-null      float64\n",
      " 18  las_chg_date       261 non-null    float64\n",
      " 19  las_chg_nm         0 non-null      float64\n",
      " 20  co                 642 non-null    object \n",
      " 21  ch                 642 non-null    object \n",
      " 22  no                 641 non-null    object \n",
      " 23  air                642 non-null    object \n",
      " 24  smoke              645 non-null    object \n",
      " 25  org_reg_no         652 non-null    int64  \n",
      " 26  us_org_id          570 non-null    object \n",
      " 27  org_status         652 non-null    int64  \n",
      " 28  org_gld            651 non-null    object \n",
      " 29  org_ele_status     652 non-null    int64  \n",
      " 30  rsm_type_cd        532 non-null    object \n",
      " 31  rsm_join_yn        567 non-null    object \n",
      " 32  rsm_join_org_nm    1 non-null      object \n",
      " 33  owner_reg_no       0 non-null      float64\n",
      " 34  nos                524 non-null    object \n",
      " 35  tcp_yn             652 non-null    object \n",
      " 36  sido_cd            652 non-null    int64  \n",
      " 37  sigungu_cd         649 non-null    object \n",
      " 38  x_coord            652 non-null    int64  \n",
      " 39  y_coord            652 non-null    int64  \n",
      " 40  sido_nm            652 non-null    object \n",
      " 41  sigungu_nm         644 non-null    object \n",
      "dtypes: float64(6), int64(9), object(27)\n",
      "memory usage: 214.1+ KB\n"
     ]
    }
   ],
   "source": [
    "# 0.3s\n",
    "name = 'tb_rsm_org_202311071037'\n",
    "file_name = f'{name}.csv'\n",
    "rsm_org = pd.read_csv(os.path.join(raw4_fold, file_name), low_memory=False, sep='|')\n",
    "rsm_org.info()"
   ]
  },
  {
   "cell_type": "code",
   "execution_count": 602,
   "metadata": {},
   "outputs": [
    {
     "data": {
      "text/plain": [
       "Index(['전문정비사업자SEQ', '사업자코드', '시도', '시군구', '등록번호', '등록일자', '입력일자', '상호', '성명',\n",
       "       '주소1', '주소2', '전화번호', '우편번호', '사업소재지', '사업소재지전화번호', '확인검사항목ID', '등록일자',\n",
       "       '등록자', '수정일자', '수정자', '일산화탄소', '탄화수소', '질소산화물', '공기과잉률_여부', '매연',\n",
       "       '사업자번호', '전문정비사업자코드', '등록_승인_상태', '운행차배출가스전문정비업', '전산_승인_상태', '사업자_구분',\n",
       "       '대행여부', '대행업체명', '성명', '소음', 'TCP여부', '법정동_시도코드', '법정도_시군구코드', 'X좌표',\n",
       "       'Y좌표 ', '법정동_시도명', '법정동_시군구명'],\n",
       "      dtype='object')"
      ]
     },
     "execution_count": 602,
     "metadata": {},
     "output_type": "execute_result"
    }
   ],
   "source": [
    "rsm_org_dict = {\n",
    "    'org_id':'전문정비사업자SEQ',\n",
    "    'org_code':'사업자코드',\n",
    "    'sido':'시도',\n",
    "    'sigungu':'시군구',\n",
    "    'receipte_no':'등록번호',\n",
    "    'receipte_date':'등록일자',\n",
    "    'send_date':'입력일자',\n",
    "    'org_nm':'상호',\n",
    "    'org_owner':'성명',\n",
    "    'org_addr1':'주소1',\n",
    "    'org_addr2':'주소2',\n",
    "    'org_owner_tel_no':'전화번호',\n",
    "    'org_post_no':'우편번호',\n",
    "    'org_simple_addr':'사업소재지',\n",
    "    'org_tel_no':'사업소재지전화번호',\n",
    "    'ins_item_group_id':'확인검사항목ID',\n",
    "    'rec_date':'등록일자',\n",
    "    'rec_nm':'등록자',\n",
    "    'las_chg_date':'수정일자',\n",
    "    'las_chg_nm':'수정자',\n",
    "    'co':'일산화탄소',\n",
    "    'ch':'탄화수소',\n",
    "    'no':'질소산화물',\n",
    "    'air':'공기과잉률_여부',\n",
    "    'smoke':'매연',\n",
    "    'org_reg_no':'사업자번호',\n",
    "    'us_org_id':'전문정비사업자코드',\n",
    "    'org_status':'등록_승인_상태',\n",
    "    'org_gld':'운행차배출가스전문정비업',\n",
    "    'org_ele_status':'전산_승인_상태',\n",
    "    'rsm_type_cd':'사업자_구분',\n",
    "    'rsm_join_yn':'대행여부',\n",
    "    'rsm_join_org_nm':'대행업체명',\n",
    "    'owner_reg_no':'성명',\n",
    "    'nos':'소음',\n",
    "    'tcp_yn':'TCP여부',\n",
    "    'sido_cd':'법정동_시도코드',\n",
    "    'sigungu_cd':'법정도_시군구코드',\n",
    "    'x_coord':'X좌표',\n",
    "    'y_coord':'Y좌표 ',\n",
    "    'sido_nm':'법정동_시도명',\n",
    "    'sigungu_nm':'법정동_시군구명',\n",
    "}\n",
    "rsm_orgr = rsm_org.rename(columns=rsm_org_dict)\n",
    "rsm_orgr.columns"
   ]
  },
  {
   "cell_type": "code",
   "execution_count": 603,
   "metadata": {},
   "outputs": [
    {
     "data": {
      "text/plain": [
       "array([nan, '성동그린 모터스'], dtype=object)"
      ]
     },
     "execution_count": 603,
     "metadata": {},
     "output_type": "execute_result"
    }
   ],
   "source": [
    "rsm_orgr['대행업체명'].unique()"
   ]
  },
  {
   "cell_type": "code",
   "execution_count": 604,
   "metadata": {},
   "outputs": [
    {
     "data": {
      "text/html": [
       "<div>\n",
       "<style scoped>\n",
       "    .dataframe tbody tr th:only-of-type {\n",
       "        vertical-align: middle;\n",
       "    }\n",
       "\n",
       "    .dataframe tbody tr th {\n",
       "        vertical-align: top;\n",
       "    }\n",
       "\n",
       "    .dataframe thead th {\n",
       "        text-align: right;\n",
       "    }\n",
       "</style>\n",
       "<table border=\"1\" class=\"dataframe\">\n",
       "  <thead>\n",
       "    <tr style=\"text-align: right;\">\n",
       "      <th></th>\n",
       "      <th>시도</th>\n",
       "      <th>시군구</th>\n",
       "      <th>법정동_시도명</th>\n",
       "      <th>법정동_시군구명</th>\n",
       "      <th>법정동_시도코드</th>\n",
       "      <th>법정도_시군구코드</th>\n",
       "      <th>상호</th>\n",
       "      <th>전문정비사업자코드</th>\n",
       "    </tr>\n",
       "  </thead>\n",
       "  <tbody>\n",
       "    <tr>\n",
       "      <th>0</th>\n",
       "      <td>NaN</td>\n",
       "      <td>NaN</td>\n",
       "      <td>경상남도</td>\n",
       "      <td>김해시</td>\n",
       "      <td>48</td>\n",
       "      <td>250</td>\n",
       "      <td>김해자동차정비공업사</td>\n",
       "      <td>ZO12</td>\n",
       "    </tr>\n",
       "    <tr>\n",
       "      <th>1</th>\n",
       "      <td>NaN</td>\n",
       "      <td>NaN</td>\n",
       "      <td>대구광역시</td>\n",
       "      <td>서구</td>\n",
       "      <td>27</td>\n",
       "      <td>170</td>\n",
       "      <td>경북1급종합정비</td>\n",
       "      <td>ZN12</td>\n",
       "    </tr>\n",
       "    <tr>\n",
       "      <th>2</th>\n",
       "      <td>NaN</td>\n",
       "      <td>NaN</td>\n",
       "      <td>경상북도</td>\n",
       "      <td>안동시</td>\n",
       "      <td>47</td>\n",
       "      <td>170</td>\n",
       "      <td>영호카서비스</td>\n",
       "      <td>ZN10</td>\n",
       "    </tr>\n",
       "    <tr>\n",
       "      <th>3</th>\n",
       "      <td>NaN</td>\n",
       "      <td>NaN</td>\n",
       "      <td>대구광역시</td>\n",
       "      <td>동구</td>\n",
       "      <td>27</td>\n",
       "      <td>140</td>\n",
       "      <td>스피드1급카센타</td>\n",
       "      <td>ZC26</td>\n",
       "    </tr>\n",
       "    <tr>\n",
       "      <th>4</th>\n",
       "      <td>NaN</td>\n",
       "      <td>NaN</td>\n",
       "      <td>서울특별시</td>\n",
       "      <td>마포구</td>\n",
       "      <td>11</td>\n",
       "      <td>440</td>\n",
       "      <td>삼진자동차공업사</td>\n",
       "      <td>ZA88</td>\n",
       "    </tr>\n",
       "  </tbody>\n",
       "</table>\n",
       "</div>"
      ],
      "text/plain": [
       "    시도  시군구 법정동_시도명 법정동_시군구명  법정동_시도코드 법정도_시군구코드          상호 전문정비사업자코드\n",
       "0  NaN  NaN    경상남도      김해시        48       250  김해자동차정비공업사      ZO12\n",
       "1  NaN  NaN   대구광역시       서구        27       170    경북1급종합정비      ZN12\n",
       "2  NaN  NaN    경상북도      안동시        47       170      영호카서비스      ZN10\n",
       "3  NaN  NaN   대구광역시       동구        27       140    스피드1급카센타      ZC26\n",
       "4  NaN  NaN   서울특별시      마포구        11       440    삼진자동차공업사      ZA88"
      ]
     },
     "execution_count": 604,
     "metadata": {},
     "output_type": "execute_result"
    }
   ],
   "source": [
    "rsm_orgr[['시도', '시군구', '법정동_시도명', '법정동_시군구명', '법정동_시도코드', '법정도_시군구코드', '상호', '전문정비사업자코드']].head()"
   ]
  },
  {
   "cell_type": "code",
   "execution_count": 605,
   "metadata": {},
   "outputs": [
    {
     "data": {
      "text/plain": [
       "0    316\n",
       "1    404\n",
       "2    380\n",
       "3    419\n",
       "4    401\n",
       "Name: 전문정비사업자SEQ, dtype: int64"
      ]
     },
     "execution_count": 605,
     "metadata": {},
     "output_type": "execute_result"
    }
   ],
   "source": [
    "rsm_orgr['전문정비사업자SEQ'].head()"
   ]
  },
  {
   "cell_type": "code",
   "execution_count": 606,
   "metadata": {},
   "outputs": [
    {
     "data": {
      "text/plain": [
       "0        경상남도 김해시 주촌면 골든루트로 274\n",
       "1    대구광역시 서구  북비산로17길 12 (이현동)\n",
       "2       경상북도 안동시  경동로 376 (송현동)\n",
       "3          대구광역시 동구 송라로 34(신천동)\n",
       "4     서울특별시 마포구  새터산길 1-5 (성산동)\n",
       "Name: 사업소재지, dtype: object"
      ]
     },
     "execution_count": 606,
     "metadata": {},
     "output_type": "execute_result"
    }
   ],
   "source": [
    "rsm_orgr['사업소재지'].head()"
   ]
  },
  {
   "cell_type": "code",
   "execution_count": 607,
   "metadata": {},
   "outputs": [
    {
     "data": {
      "text/plain": [
       "0             경상남도 김해시 주촌면 골든루트로 274\n",
       "1         대구광역시 서구  북비산로17길 12 (이현동)\n",
       "2            경상북도 안동시  경동로 376 (송현동)\n",
       "3    대구광역시 동구  신암남로 50 (신암동,신암건영캐스빌)\n",
       "4          서울특별시 마포구  새터산길 1-5 (성산동)\n",
       "Name: 주소1, dtype: object"
      ]
     },
     "execution_count": 607,
     "metadata": {},
     "output_type": "execute_result"
    }
   ],
   "source": [
    "rsm_orgr['주소1'].head()"
   ]
  },
  {
   "cell_type": "code",
   "execution_count": 608,
   "metadata": {},
   "outputs": [
    {
     "data": {
      "text/plain": [
       "0    김해자동차정비공업사\n",
       "1      이현동 14-4\n",
       "2    송현동 271-45\n",
       "3    107동 1307호\n",
       "4            1층\n",
       "Name: 주소2, dtype: object"
      ]
     },
     "execution_count": 608,
     "metadata": {},
     "output_type": "execute_result"
    }
   ],
   "source": [
    "rsm_orgr['주소2'].head()"
   ]
  },
  {
   "cell_type": "code",
   "execution_count": 609,
   "metadata": {},
   "outputs": [
    {
     "data": {
      "text/plain": [
       "array(['N', nan, 'Y'], dtype=object)"
      ]
     },
     "execution_count": 609,
     "metadata": {},
     "output_type": "execute_result"
    }
   ],
   "source": [
    "rsm_orgr['소음'].unique()"
   ]
  },
  {
   "cell_type": "markdown",
   "metadata": {},
   "source": [
    "### 10\\. TB_RSO_REG(개선명령)"
   ]
  },
  {
   "cell_type": "code",
   "execution_count": 610,
   "metadata": {},
   "outputs": [
    {
     "name": "stdout",
     "output_type": "stream",
     "text": [
      "<class 'pandas.core.frame.DataFrame'>\n",
      "RangeIndex: 4192 entries, 0 to 4191\n",
      "Data columns (total 37 columns):\n",
      " #   Column           Non-Null Count  Dtype  \n",
      "---  ------           --------------  -----  \n",
      " 0   rso_idx          4192 non-null   int64  \n",
      " 1   ge_idx           4191 non-null   float64\n",
      " 2   sub_idx          4186 non-null   float64\n",
      " 3   reg_no           4192 non-null   int64  \n",
      " 4   up_rso_date      4191 non-null   float64\n",
      " 5   up_exp_date      4192 non-null   int64  \n",
      " 6   rso_reason       2848 non-null   object \n",
      " 7   rso_type         4189 non-null   float64\n",
      " 8   doc_name         3994 non-null   object \n",
      " 9   doc_birth        2657 non-null   object \n",
      " 10  doc_post         2854 non-null   object \n",
      " 11  doc_addr1        2827 non-null   object \n",
      " 12  doc_addr2        2825 non-null   object \n",
      " 13  doc_tel_no       2853 non-null   object \n",
      " 14  doc_last_site    2923 non-null   object \n",
      " 15  doc_last_time    2923 non-null   object \n",
      " 16  rso_reg_status   4192 non-null   object \n",
      " 17  rse_status       4192 non-null   object \n",
      " 18  reg_region       2845 non-null   object \n",
      " 19  reg_tel_no       2855 non-null   object \n",
      " 20  org_id           4054 non-null   object \n",
      " 21  rsd_month        4192 non-null   int64  \n",
      " 22  rec_date         4191 non-null   float64\n",
      " 23  rec_nm           1946 non-null   object \n",
      " 24  las_chg_date     0 non-null      float64\n",
      " 25  las_chg_nm       0 non-null      float64\n",
      " 26  reg_no_full      4192 non-null   object \n",
      " 27  rsd_idx          0 non-null      float64\n",
      " 28  rso_reason_stop  19 non-null     object \n",
      " 29  stop_from_date   18 non-null     float64\n",
      " 30  stop_to_date     18 non-null     float64\n",
      " 31  rso_stop_type    19 non-null     float64\n",
      " 32  print_yn         250 non-null    object \n",
      " 33  print_date       250 non-null    float64\n",
      " 34  print_rec        250 non-null    object \n",
      " 35  rso_stop_status  19 non-null     object \n",
      " 36  r_reason         181 non-null    object \n",
      "dtypes: float64(12), int64(4), object(21)\n",
      "memory usage: 1.2+ MB\n"
     ]
    }
   ],
   "source": [
    "# 0.3s\n",
    "name = 'tb_rso_reg_202311071037'\n",
    "file_name = f'{name}.csv'\n",
    "rso_reg = pd.read_csv(os.path.join(raw4_fold, file_name), low_memory=False, sep='|')\n",
    "rso_reg.info()"
   ]
  },
  {
   "cell_type": "code",
   "execution_count": 611,
   "metadata": {},
   "outputs": [
    {
     "data": {
      "text/plain": [
       "Index(['일련번호', 'TB_RSD_GE_LIST의_GE_IDX', 'TB_RSD_GE_SUB의_SUB_IDX',\n",
       "       '접수번호(지역별_자동순번)', '개선명령일', '개선기한', '명령사유', '명령구분', '소유자_성명', '소유자_생년월일',\n",
       "       '소유자_우편번호', '소유자_주소1', '소유자_주소2', '소유자_전화번호', '최종점검장소(원격측정)',\n",
       "       '최종점검일시(원격측정)', '개선명령여부(Y:명령완료,R:이의접수)', '확인검사여부(Y:완료,N:미완료)', '사업장소재지',\n",
       "       '사업장전화번호', '지자체_ORGID', 'RSD년월', '등록일자', '등록자', '최종수정일자', '최종수정자',\n",
       "       '접수번호(명령서용)', 'TB_RSD_GE_LIST의_RSD_IDX', '운행정지사유', '운행정지시작일', '운행정지만료일',\n",
       "       '운행정지코드(항상2)', '출력여부', '출력일시', '출력자', '운행정지상태', '이의접수사유'],\n",
       "      dtype='object')"
      ]
     },
     "execution_count": 611,
     "metadata": {},
     "output_type": "execute_result"
    }
   ],
   "source": [
    "rso_reg_dict = {\n",
    "    'rso_idx':'일련번호',\n",
    "    'ge_idx':'TB_RSD_GE_LIST의_GE_IDX',\n",
    "    'sub_idx':'TB_RSD_GE_SUB의_SUB_IDX',\n",
    "    'reg_no':'접수번호(지역별_자동순번)',\n",
    "    'up_rso_date':'개선명령일',\n",
    "    'up_exp_date':'개선기한',\n",
    "    'rso_reason':'명령사유',\n",
    "    'rso_type':'명령구분',\n",
    "    'doc_name':'소유자_성명',\n",
    "    'doc_birth':'소유자_생년월일',\n",
    "    'doc_post':'소유자_우편번호',\n",
    "    'doc_addr1':'소유자_주소1',\n",
    "    'doc_addr2':'소유자_주소2',\n",
    "    'doc_tel_no':'소유자_전화번호',\n",
    "    'doc_last_site':'최종점검장소(원격측정)',\n",
    "    'doc_last_time':'최종점검일시(원격측정)',\n",
    "    'rso_reg_status':'개선명령여부(Y:명령완료,R:이의접수)',\n",
    "    'rse_status':'확인검사여부(Y:완료,N:미완료)',\n",
    "    'reg_region':'사업장소재지',\n",
    "    'reg_tel_no':'사업장전화번호',\n",
    "    'org_id':'지자체_ORGID',\n",
    "    'rsd_month':'RSD년월',\n",
    "    'rec_date':'등록일자',\n",
    "    'rec_nm':'등록자',\n",
    "    'las_chg_date':'최종수정일자',\n",
    "    'las_chg_nm':'최종수정자',\n",
    "    'reg_no_full':'접수번호(명령서용)',\n",
    "    'rsd_idx':'TB_RSD_GE_LIST의_RSD_IDX',\n",
    "    'rso_reason_stop':'운행정지사유',\n",
    "    'stop_from_date':'운행정지시작일',\n",
    "    'stop_to_date':'운행정지만료일',\n",
    "    'rso_stop_type':'운행정지코드(항상2)',\n",
    "    'print_yn':'출력여부',\n",
    "    'print_date':'출력일시',\n",
    "    'print_rec':'출력자',\n",
    "    'rso_stop_status':'운행정지상태',\n",
    "    'r_reason':'이의접수사유',\n",
    "}\n",
    "rso_regr = rso_reg.rename(columns=rso_reg_dict)\n",
    "rso_regr.columns"
   ]
  },
  {
   "cell_type": "code",
   "execution_count": 612,
   "metadata": {},
   "outputs": [
    {
     "data": {
      "text/plain": [
       "array(['Y', 'N'], dtype=object)"
      ]
     },
     "execution_count": 612,
     "metadata": {},
     "output_type": "execute_result"
    }
   ],
   "source": [
    "rso_regr['확인검사여부(Y:완료,N:미완료)'].unique()"
   ]
  },
  {
   "cell_type": "code",
   "execution_count": 613,
   "metadata": {},
   "outputs": [
    {
     "data": {
      "text/plain": [
       "count   4192.00\n",
       "mean      51.97\n",
       "std       62.52\n",
       "min        1.00\n",
       "25%        8.00\n",
       "50%       31.00\n",
       "75%       73.00\n",
       "max      343.00\n",
       "Name: 접수번호(지역별_자동순번), dtype: float64"
      ]
     },
     "execution_count": 613,
     "metadata": {},
     "output_type": "execute_result"
    }
   ],
   "source": [
    "rso_regr['접수번호(지역별_자동순번)'].describe()"
   ]
  },
  {
   "cell_type": "markdown",
   "metadata": {},
   "source": [
    "### 11\\. TB_US_ORG(MECAR 업무기관)"
   ]
  },
  {
   "cell_type": "code",
   "execution_count": 614,
   "metadata": {},
   "outputs": [
    {
     "name": "stdout",
     "output_type": "stream",
     "text": [
      "<class 'pandas.core.frame.DataFrame'>\n",
      "RangeIndex: 15711 entries, 0 to 15710\n",
      "Data columns (total 21 columns):\n",
      " #   Column            Non-Null Count  Dtype  \n",
      "---  ------            --------------  -----  \n",
      " 0   org_id            15711 non-null  object \n",
      " 1   biz_cd            15711 non-null  object \n",
      " 2   org_nm            15711 non-null  object \n",
      " 3   user_grp_cd       15711 non-null  object \n",
      " 4   area_cd           15711 non-null  object \n",
      " 5   owner_nm          15711 non-null  object \n",
      " 6   owner_post_no     10714 non-null  object \n",
      " 7   owner_addr1       10756 non-null  object \n",
      " 8   owner_addr2       10243 non-null  object \n",
      " 9   org_post_no       14659 non-null  object \n",
      " 10  org_addr1         14755 non-null  object \n",
      " 11  org_addr2         13466 non-null  object \n",
      " 12  org_tel_no        12752 non-null  object \n",
      " 13  dedicate_no       1 non-null      float64\n",
      " 14  dedicate_date     1 non-null      float64\n",
      " 15  reg_date          15072 non-null  object \n",
      " 16  reg_id            14950 non-null  object \n",
      " 17  sido_cd           259 non-null    float64\n",
      " 18  sigungu_cd        239 non-null    float64\n",
      " 19  max_user_cnt      14070 non-null  float64\n",
      " 20  auto_lock_period  15711 non-null  int64  \n",
      "dtypes: float64(5), int64(1), object(15)\n",
      "memory usage: 2.5+ MB\n"
     ]
    }
   ],
   "source": [
    "# 0.3s\n",
    "name = 'tb_us_org_202311071037'\n",
    "file_name = f'{name}.csv'\n",
    "us_org = pd.read_csv(os.path.join(raw4_fold, file_name), low_memory=False, sep='|')\n",
    "us_org.info()"
   ]
  },
  {
   "cell_type": "code",
   "execution_count": 615,
   "metadata": {},
   "outputs": [
    {
     "data": {
      "text/plain": [
       "Index(['기관코드', '업무유형코드', '기관명', '사용자권한그룹코드', 'AREA_CD', '대표자명', '대표자우편번호',\n",
       "       '대표자주소1', '대표자주소2', '기관우편번호', '기관주소1', '기관주소2', '기관연락처', 'DEDICATE_NO',\n",
       "       'DEDICATE_DATE', '등록일자', '등록자ID', '시도코드', '시군구코드', '허용사용자수', '자동잠금기간'],\n",
       "      dtype='object')"
      ]
     },
     "execution_count": 615,
     "metadata": {},
     "output_type": "execute_result"
    }
   ],
   "source": [
    "us_org_dict = {\n",
    "    'org_id':'기관코드',\n",
    "    'biz_cd':'업무유형코드',\n",
    "    'org_nm':'기관명',\n",
    "    'user_grp_cd':'사용자권한그룹코드',\n",
    "    'area_cd':'AREA_CD',\n",
    "    'owner_nm':'대표자명',\n",
    "    'owner_post_no':'대표자우편번호',\n",
    "    'owner_addr1':'대표자주소1',\n",
    "    'owner_addr2':'대표자주소2',\n",
    "    'org_post_no':'기관우편번호',\n",
    "    'org_addr1':'기관주소1',\n",
    "    'org_addr2':'기관주소2',\n",
    "    'org_tel_no':'기관연락처',\n",
    "    'dedicate_no':'DEDICATE_NO',\n",
    "    'dedicate_date':'DEDICATE_DATE',\n",
    "    'reg_date':'등록일자',\n",
    "    'reg_id':'등록자ID',\n",
    "    'sido_cd':'시도코드',\n",
    "    'sigungu_cd':'시군구코드',\n",
    "    'max_user_cnt':'허용사용자수',\n",
    "    'auto_lock_period':'자동잠금기간',\n",
    "}\n",
    "us_orgr = us_org.rename(columns=us_org_dict)\n",
    "us_orgr.columns"
   ]
  },
  {
   "cell_type": "code",
   "execution_count": 616,
   "metadata": {},
   "outputs": [
    {
     "data": {
      "text/plain": [
       "array([ 90, 365], dtype=int64)"
      ]
     },
     "execution_count": 616,
     "metadata": {},
     "output_type": "execute_result"
    }
   ],
   "source": [
    "us_orgr['자동잠금기간'].unique()"
   ]
  },
  {
   "cell_type": "code",
   "execution_count": 617,
   "metadata": {},
   "outputs": [
    {
     "data": {
      "text/plain": [
       "count   14070.00\n",
       "mean        5.82\n",
       "std         2.48\n",
       "min         0.00\n",
       "25%         5.00\n",
       "50%         5.00\n",
       "75%         5.00\n",
       "max       150.00\n",
       "Name: 허용사용자수, dtype: float64"
      ]
     },
     "execution_count": 617,
     "metadata": {},
     "output_type": "execute_result"
    }
   ],
   "source": [
    "us_orgr['허용사용자수'].describe()"
   ]
  },
  {
   "cell_type": "code",
   "execution_count": 618,
   "metadata": {},
   "outputs": [
    {
     "data": {
      "text/plain": [
       "0   NaN\n",
       "1   NaN\n",
       "2   NaN\n",
       "3   NaN\n",
       "4   NaN\n",
       "Name: DEDICATE_NO, dtype: float64"
      ]
     },
     "execution_count": 618,
     "metadata": {},
     "output_type": "execute_result"
    }
   ],
   "source": [
    "us_orgr['DEDICATE_NO'].head()"
   ]
  },
  {
   "cell_type": "code",
   "execution_count": 619,
   "metadata": {},
   "outputs": [
    {
     "data": {
      "text/plain": [
       "DEDICATE_NO\n",
       "NaN          15710\n",
       "111111.00        1\n",
       "Name: count, dtype: int64"
      ]
     },
     "execution_count": 619,
     "metadata": {},
     "output_type": "execute_result"
    }
   ],
   "source": [
    "us_orgr['DEDICATE_NO'].value_counts(dropna=False)"
   ]
  },
  {
   "cell_type": "code",
   "execution_count": 620,
   "metadata": {},
   "outputs": [
    {
     "data": {
      "text/plain": [
       "0   NaN\n",
       "1   NaN\n",
       "2   NaN\n",
       "3   NaN\n",
       "4   NaN\n",
       "Name: DEDICATE_DATE, dtype: float64"
      ]
     },
     "execution_count": 620,
     "metadata": {},
     "output_type": "execute_result"
    }
   ],
   "source": [
    "us_orgr['DEDICATE_DATE'].head()"
   ]
  },
  {
   "cell_type": "code",
   "execution_count": 621,
   "metadata": {},
   "outputs": [
    {
     "data": {
      "text/plain": [
       "DEDICATE_DATE\n",
       "NaN          15710\n",
       "111111.00        1\n",
       "Name: count, dtype: int64"
      ]
     },
     "execution_count": 621,
     "metadata": {},
     "output_type": "execute_result"
    }
   ],
   "source": [
    "us_orgr['DEDICATE_DATE'].value_counts(dropna=False)"
   ]
  },
  {
   "cell_type": "markdown",
   "metadata": {},
   "source": [
    "### 12\\. [✔] TB_RSE_DET_EX(확인검사 상세 실행)"
   ]
  },
  {
   "cell_type": "code",
   "execution_count": 622,
   "metadata": {},
   "outputs": [
    {
     "name": "stdout",
     "output_type": "stream",
     "text": [
      "<class 'pandas.core.frame.DataFrame'>\n",
      "RangeIndex: 675495 entries, 0 to 675494\n",
      "Data columns (total 12 columns):\n",
      " #   Column           Non-Null Count   Dtype  \n",
      "---  ------           --------------   -----  \n",
      " 0   rse_idx          675495 non-null  int64  \n",
      " 1   det_date         0 non-null       float64\n",
      " 2   repair_dev_cd    675495 non-null  object \n",
      " 3   repair_part_cd   675495 non-null  object \n",
      " 4   repair_part1_yn  675495 non-null  object \n",
      " 5   repair_part2_yn  675495 non-null  object \n",
      " 6   repair_part3_yn  675495 non-null  object \n",
      " 7   repair_part4_yn  675495 non-null  object \n",
      " 8   rec_date         675495 non-null  int64  \n",
      " 9   rec_nm           112410 non-null  object \n",
      " 10  las_chg_date     37849 non-null   float64\n",
      " 11  las_chg_nm       0 non-null       float64\n",
      "dtypes: float64(3), int64(2), object(7)\n",
      "memory usage: 61.8+ MB\n"
     ]
    }
   ],
   "source": [
    "# 0.3s\n",
    "name = 'tb_rse_det_ex_202312061021'\n",
    "file_name = f'{name}.csv'\n",
    "rse_det_ex = pd.read_csv(os.path.join(raw4_fold, file_name), low_memory=False, sep=',')\n",
    "rse_det_ex.info()"
   ]
  },
  {
   "cell_type": "code",
   "execution_count": 623,
   "metadata": {},
   "outputs": [
    {
     "data": {
      "text/plain": [
       "['rse_idx',\n",
       " 'det_date',\n",
       " 'repair_dev_cd',\n",
       " 'repair_part_cd',\n",
       " 'repair_part1_yn',\n",
       " 'repair_part2_yn',\n",
       " 'repair_part3_yn',\n",
       " 'repair_part4_yn',\n",
       " 'rec_date',\n",
       " 'rec_nm',\n",
       " 'las_chg_date',\n",
       " 'las_chg_nm']"
      ]
     },
     "execution_count": 623,
     "metadata": {},
     "output_type": "execute_result"
    }
   ],
   "source": [
    "rse_det_ex.columns.to_list()"
   ]
  },
  {
   "cell_type": "code",
   "execution_count": 624,
   "metadata": {},
   "outputs": [
    {
     "data": {
      "text/plain": [
       "Index(['일련번호', '상세일자', '정비내용', '정비부품명', '교환유무', '점검조정유무', '분해탈착유무', '정비불가능유무',\n",
       "       '생성일자', '생성자명', '최종수정일자', '최종수정자명'],\n",
       "      dtype='object')"
      ]
     },
     "execution_count": 624,
     "metadata": {},
     "output_type": "execute_result"
    }
   ],
   "source": [
    "det_chc = {\n",
    "    'rse_idx':'일련번호', \n",
    "    'det_date':'상세일자', \n",
    "    'repair_dev_cd':'정비내용', # 내용상 정비내용\n",
    "    'repair_part_cd':'정비부품명', # 내용상 정비부품명\n",
    "    'repair_part1_yn':'교환유무', \n",
    "    'repair_part2_yn':'점검조정유무', \n",
    "    'repair_part3_yn':'분해탈착유무', \n",
    "    'repair_part4_yn':'정비불가능유무', \n",
    "    'rec_date':'생성일자', \n",
    "    'rec_nm':'생성자명', \n",
    "    'las_chg_date':'최종수정일자', \n",
    "    'las_chg_nm':'최종수정자명', \n",
    "}\n",
    "rse_det_exr = rse_det_ex.rename(columns=det_chc)\n",
    "rse_det_exr.columns"
   ]
  },
  {
   "cell_type": "code",
   "execution_count": 625,
   "metadata": {},
   "outputs": [
    {
     "data": {
      "text/plain": [
       "count   675495.00\n",
       "mean     31215.46\n",
       "std      36814.28\n",
       "min          1.00\n",
       "25%       6296.00\n",
       "50%      11379.00\n",
       "75%      53477.50\n",
       "max     121144.00\n",
       "Name: 일련번호, dtype: float64"
      ]
     },
     "execution_count": 625,
     "metadata": {},
     "output_type": "execute_result"
    }
   ],
   "source": [
    "rse_det_exr['일련번호'].describe()"
   ]
  },
  {
   "cell_type": "code",
   "execution_count": 626,
   "metadata": {},
   "outputs": [
    {
     "data": {
      "text/plain": [
       "((675495, 12), 117546)"
      ]
     },
     "execution_count": 626,
     "metadata": {},
     "output_type": "execute_result"
    }
   ],
   "source": [
    "rse_det_exr.shape, len(rse_det_exr['일련번호'].unique())"
   ]
  },
  {
   "cell_type": "code",
   "execution_count": 627,
   "metadata": {},
   "outputs": [
    {
     "data": {
      "text/plain": [
       "상세일자    675495\n",
       "생성일자         0\n",
       "dtype: int64"
      ]
     },
     "execution_count": 627,
     "metadata": {},
     "output_type": "execute_result"
    }
   ],
   "source": [
    "rse_det_exr[['상세일자', '생성일자']].isnull().sum()"
   ]
  },
  {
   "cell_type": "markdown",
   "metadata": {},
   "source": [
    "#### 정비내용 해석"
   ]
  },
  {
   "cell_type": "code",
   "execution_count": 628,
   "metadata": {},
   "outputs": [
    {
     "data": {
      "text/plain": [
       "array(['A', 'B', 'C', 'D', 'E', 'F', 'G', 'H', 'I', 'J'], dtype=object)"
      ]
     },
     "execution_count": 628,
     "metadata": {},
     "output_type": "execute_result"
    }
   ],
   "source": [
    "rse_det_exr['정비내용'].unique()"
   ]
  },
  {
   "cell_type": "code",
   "execution_count": 629,
   "metadata": {},
   "outputs": [
    {
     "data": {
      "text/plain": [
       "array(['점화계통', '연료장치', '엔진계통', '배출가스전환장치', '배출가스재순환장치', '연료증발가스방지장치',\n",
       "       '블로바이가스환원장치', '각종센서', '흡기계통', '배기계통'], dtype=object)"
      ]
     },
     "execution_count": 629,
     "metadata": {},
     "output_type": "execute_result"
    }
   ],
   "source": [
    "repair_dev_cd_dict = {\n",
    "    'A':'점화계통', \n",
    "    'B':'연료장치', \n",
    "    'C':'엔진계통', \n",
    "    'D':'배출가스전환장치', \n",
    "    'E':'배출가스재순환장치', \n",
    "    'F':'연료증발가스방지장치', \n",
    "    'G':'블로바이가스환원장치', \n",
    "    'H':'각종센서', \n",
    "    'I':'흡기계통', \n",
    "    'J':'배기계통', \n",
    "}\n",
    "rse_det_exr['정비내용'] = rse_det_exr['정비내용'].replace(repair_dev_cd_dict)\n",
    "rse_det_exr['정비내용'].unique()"
   ]
  },
  {
   "cell_type": "markdown",
   "metadata": {},
   "source": [
    "#### 정비부품명 해석"
   ]
  },
  {
   "cell_type": "code",
   "execution_count": 630,
   "metadata": {},
   "outputs": [
    {
     "data": {
      "text/plain": [
       "array(['A1', 'A2', 'A3', 'A4', 'B1', 'B2', 'B3', 'B4', 'B5', 'B6', 'B7',\n",
       "       'C1', 'C2', 'C3', 'C4', 'C5', 'D1', 'D2', 'D3', 'E1', 'E2', 'F1',\n",
       "       'F2', 'G1', 'G2', 'H1', 'H2', 'H3', 'H4', 'I1', 'I2', 'I3', 'J1',\n",
       "       'J2'], dtype=object)"
      ]
     },
     "execution_count": 630,
     "metadata": {},
     "output_type": "execute_result"
    }
   ],
   "source": [
    "rse_det_exr['정비부품명'].unique()"
   ]
  },
  {
   "cell_type": "code",
   "execution_count": 631,
   "metadata": {},
   "outputs": [
    {
     "data": {
      "text/plain": [
       "array(['점화플러그', '점화배선', '배전기(Distributor)', '점화시기(분사시기)조정', '인젝터(휘발유)',\n",
       "       '기화기(믹서포함)', '연료압력조절기', '연료휠터', '연료분사펌프(조속기조정,봉인)', '노즐(디젤인젝터포함)',\n",
       "       '공연비(혼합비)', '엔진정비', '엔진오일', '냉각계통', '공회전속도', '전자제어장치(ECU)',\n",
       "       '정화용촉매(CatalyticConverter)', '디젤산화촉매(DOC)', '매연여과장치(DPF)', 'EGR밸브',\n",
       "       'EGR제어용서머밸브', '정화조절밸브(PurgeControlValve)', '캐니스터및필터', 'PCV밸브',\n",
       "       '블로바이가스호스', '산소센서', '공기유량센서', '드로틀포지션센서', '냉각수온센서', '에어크리너',\n",
       "       '드로틀바디', '과급기', '소음기', '배기관'], dtype=object)"
      ]
     },
     "execution_count": 631,
     "metadata": {},
     "output_type": "execute_result"
    }
   ],
   "source": [
    "repair_part_cd_dict = {\n",
    "    'A1':'점화플러그', \n",
    "    'A2':'점화배선', \n",
    "    'A3':'배전기(Distributor)', \n",
    "    'A4':'점화시기(분사시기)조정', \n",
    "    'B1':'인젝터(휘발유)', \n",
    "    'B2':'기화기(믹서포함)', \n",
    "    'B3':'연료압력조절기', \n",
    "    'B4':'연료휠터', \n",
    "    'B5':'연료분사펌프(조속기조정,봉인)', \n",
    "    'B6':'노즐(디젤인젝터포함)', \n",
    "    'B7':'공연비(혼합비)', \n",
    "    'C1':'엔진정비', \n",
    "    'C2':'엔진오일', \n",
    "    'C3':'냉각계통', \n",
    "    'C4':'공회전속도', \n",
    "    'C5':'전자제어장치(ECU)', \n",
    "    'D1':'정화용촉매(CatalyticConverter)', \n",
    "    'D2':'디젤산화촉매(DOC)', \n",
    "    'D3':'매연여과장치(DPF)', \n",
    "    'E1':'EGR밸브', \n",
    "    'E2':'EGR제어용서머밸브', \n",
    "    'F1':'정화조절밸브(PurgeControlValve)', \n",
    "    'F2':'캐니스터및필터', \n",
    "    'G1':'PCV밸브', \n",
    "    'G2':'블로바이가스호스', \n",
    "    'H1':'산소센서', \n",
    "    'H2':'공기유량센서', \n",
    "    'H3':'드로틀포지션센서', \n",
    "    'H4':'냉각수온센서', \n",
    "    'I1':'에어크리너', \n",
    "    'I2':'드로틀바디', \n",
    "    'I3':'과급기', \n",
    "    'J1':'소음기', \n",
    "    'J2':'배기관', \n",
    "    }\n",
    "rse_det_exr['정비부품명'] = rse_det_exr['정비부품명'].replace(repair_part_cd_dict)\n",
    "rse_det_exr['정비부품명'].unique()"
   ]
  },
  {
   "cell_type": "code",
   "execution_count": 632,
   "metadata": {},
   "outputs": [
    {
     "data": {
      "text/plain": [
       "Index(['일련번호', '상세일자', '정비내용', '정비부품명', '교환유무', '점검조정유무', '분해탈착유무', '정비불가능유무',\n",
       "       '생성일자', '생성자명', '최종수정일자', '최종수정자명'],\n",
       "      dtype='object')"
      ]
     },
     "execution_count": 632,
     "metadata": {},
     "output_type": "execute_result"
    }
   ],
   "source": [
    "rse_det_exr.columns"
   ]
  },
  {
   "cell_type": "code",
   "execution_count": 633,
   "metadata": {},
   "outputs": [
    {
     "data": {
      "text/plain": [
       "상세일자      675495\n",
       "생성일자           0\n",
       "최종수정일자    637646\n",
       "dtype: int64"
      ]
     },
     "execution_count": 633,
     "metadata": {},
     "output_type": "execute_result"
    }
   ],
   "source": [
    "rse_det_exr[['상세일자', '생성일자', '최종수정일자']].isnull().sum()"
   ]
  },
  {
   "cell_type": "code",
   "execution_count": 634,
   "metadata": {},
   "outputs": [
    {
     "data": {
      "text/html": [
       "<div>\n",
       "<style scoped>\n",
       "    .dataframe tbody tr th:only-of-type {\n",
       "        vertical-align: middle;\n",
       "    }\n",
       "\n",
       "    .dataframe tbody tr th {\n",
       "        vertical-align: top;\n",
       "    }\n",
       "\n",
       "    .dataframe thead th {\n",
       "        text-align: right;\n",
       "    }\n",
       "</style>\n",
       "<table border=\"1\" class=\"dataframe\">\n",
       "  <thead>\n",
       "    <tr style=\"text-align: right;\">\n",
       "      <th></th>\n",
       "      <th>일련번호</th>\n",
       "      <th>정비내용</th>\n",
       "      <th>정비부품명</th>\n",
       "      <th>교환유무</th>\n",
       "      <th>점검조정유무</th>\n",
       "      <th>분해탈착유무</th>\n",
       "      <th>정비불가능유무</th>\n",
       "      <th>생성일자</th>\n",
       "      <th>상세일자</th>\n",
       "      <th>최종수정일자</th>\n",
       "    </tr>\n",
       "  </thead>\n",
       "  <tbody>\n",
       "    <tr>\n",
       "      <th>0</th>\n",
       "      <td>9</td>\n",
       "      <td>점화계통</td>\n",
       "      <td>점화플러그</td>\n",
       "      <td>N</td>\n",
       "      <td>N</td>\n",
       "      <td>N</td>\n",
       "      <td>N</td>\n",
       "      <td>20130806</td>\n",
       "      <td>NaN</td>\n",
       "      <td>NaN</td>\n",
       "    </tr>\n",
       "    <tr>\n",
       "      <th>1</th>\n",
       "      <td>9</td>\n",
       "      <td>점화계통</td>\n",
       "      <td>점화배선</td>\n",
       "      <td>N</td>\n",
       "      <td>N</td>\n",
       "      <td>N</td>\n",
       "      <td>N</td>\n",
       "      <td>20130806</td>\n",
       "      <td>NaN</td>\n",
       "      <td>NaN</td>\n",
       "    </tr>\n",
       "    <tr>\n",
       "      <th>2</th>\n",
       "      <td>9</td>\n",
       "      <td>점화계통</td>\n",
       "      <td>배전기(Distributor)</td>\n",
       "      <td>N</td>\n",
       "      <td>N</td>\n",
       "      <td>N</td>\n",
       "      <td>N</td>\n",
       "      <td>20130806</td>\n",
       "      <td>NaN</td>\n",
       "      <td>NaN</td>\n",
       "    </tr>\n",
       "    <tr>\n",
       "      <th>3</th>\n",
       "      <td>9</td>\n",
       "      <td>점화계통</td>\n",
       "      <td>점화시기(분사시기)조정</td>\n",
       "      <td>N</td>\n",
       "      <td>N</td>\n",
       "      <td>N</td>\n",
       "      <td>N</td>\n",
       "      <td>20130806</td>\n",
       "      <td>NaN</td>\n",
       "      <td>NaN</td>\n",
       "    </tr>\n",
       "    <tr>\n",
       "      <th>4</th>\n",
       "      <td>9</td>\n",
       "      <td>연료장치</td>\n",
       "      <td>인젝터(휘발유)</td>\n",
       "      <td>Y</td>\n",
       "      <td>N</td>\n",
       "      <td>N</td>\n",
       "      <td>N</td>\n",
       "      <td>20130806</td>\n",
       "      <td>NaN</td>\n",
       "      <td>NaN</td>\n",
       "    </tr>\n",
       "  </tbody>\n",
       "</table>\n",
       "</div>"
      ],
      "text/plain": [
       "   일련번호  정비내용             정비부품명 교환유무 점검조정유무 분해탈착유무 정비불가능유무      생성일자  상세일자  \\\n",
       "0     9  점화계통             점화플러그    N      N      N       N  20130806   NaN   \n",
       "1     9  점화계통              점화배선    N      N      N       N  20130806   NaN   \n",
       "2     9  점화계통  배전기(Distributor)    N      N      N       N  20130806   NaN   \n",
       "3     9  점화계통      점화시기(분사시기)조정    N      N      N       N  20130806   NaN   \n",
       "4     9  연료장치          인젝터(휘발유)    Y      N      N       N  20130806   NaN   \n",
       "\n",
       "   최종수정일자  \n",
       "0     NaN  \n",
       "1     NaN  \n",
       "2     NaN  \n",
       "3     NaN  \n",
       "4     NaN  "
      ]
     },
     "execution_count": 634,
     "metadata": {},
     "output_type": "execute_result"
    }
   ],
   "source": [
    "rse_det_exr[['일련번호', '정비내용', '정비부품명', '교환유무', '점검조정유무', '분해탈착유무', '정비불가능유무', '생성일자', '상세일자', '최종수정일자', ]].head()"
   ]
  },
  {
   "cell_type": "code",
   "execution_count": 635,
   "metadata": {},
   "outputs": [
    {
     "data": {
      "text/plain": [
       "array(['인젝터(휘발유)', '기화기(믹서포함)', '연료압력조절기', '연료휠터', '연료분사펌프(조속기조정,봉인)',\n",
       "       '노즐(디젤인젝터포함)', '공연비(혼합비)'], dtype=object)"
      ]
     },
     "execution_count": 635,
     "metadata": {},
     "output_type": "execute_result"
    }
   ],
   "source": [
    "rse_det_exr.loc[rse_det_exr['정비내용'] == '연료장치', '정비부품명'].unique()"
   ]
  },
  {
   "cell_type": "markdown",
   "metadata": {},
   "source": [
    "#### 정비 내용 수정"
   ]
  },
  {
   "cell_type": "code",
   "execution_count": 636,
   "metadata": {},
   "outputs": [
    {
     "name": "stdout",
     "output_type": "stream",
     "text": [
      "['인젝터(휘발유)' '기화기(믹서포함)' '연료압력조절기' '연료휠터' '연료분사펌프(조속기조정,봉인)' '노즐(디젤인젝터포함)'\n",
      " '공연비(혼합비)']\n",
      "\n",
      "['엔진정비' '엔진오일' '냉각계통' '공회전속도' '전자제어장치(ECU)']\n"
     ]
    }
   ],
   "source": [
    "# 정비내용 : 연료장치와 엔지계통 뒤바뀌어 있음\n",
    "print(rse_det_exr.loc[rse_det_exr['정비내용'] == '연료장치', '정비부품명'].unique())\n",
    "print()\n",
    "print(rse_det_exr.loc[rse_det_exr['정비내용'] == '엔진계통', '정비부품명'].unique())\n"
   ]
  },
  {
   "cell_type": "code",
   "execution_count": 637,
   "metadata": {},
   "outputs": [],
   "source": [
    "rse_det_exr['정비내용'] = rse_det_exr['정비내용'].replace({'연료장치':'엔진계통', '엔진계통':'연료장치'})"
   ]
  },
  {
   "cell_type": "code",
   "execution_count": 638,
   "metadata": {},
   "outputs": [
    {
     "name": "stdout",
     "output_type": "stream",
     "text": [
      "['엔진정비' '엔진오일' '냉각계통' '공회전속도' '전자제어장치(ECU)']\n",
      "\n",
      "['인젝터(휘발유)' '기화기(믹서포함)' '연료압력조절기' '연료휠터' '연료분사펌프(조속기조정,봉인)' '노즐(디젤인젝터포함)'\n",
      " '공연비(혼합비)']\n"
     ]
    }
   ],
   "source": [
    "# 정비내용 : 연료장치와 엔지계통 뒤바뀌어 있음\n",
    "print(rse_det_exr.loc[rse_det_exr['정비내용'] == '연료장치', '정비부품명'].unique())\n",
    "print()\n",
    "print(rse_det_exr.loc[rse_det_exr['정비내용'] == '엔진계통', '정비부품명'].unique())\n"
   ]
  },
  {
   "cell_type": "markdown",
   "metadata": {},
   "source": [
    "## 전처리"
   ]
  },
  {
   "cell_type": "markdown",
   "metadata": {},
   "source": [
    "### TB_RSD_GE_LIST_EX, TB_RSE_DET_EX, TB_RSM_ORG 병합\n",
    "- 1. TB_RSE_DET_EX : '교환유무', '점검조정유무', '분해탈착유무', '정비불가능유무' 중 단 하나라도 'Y'가 있는 샘플만 추출\n",
    "- 2. TB_RSD_GE_LIST_EX(일련번호), TB_RSE_DET_EX(일련번호) 기준 병합\n",
    "- 3. 2번과 TB_RSM_ORG '전문정비사업자코드' 기준으로 병합"
   ]
  },
  {
   "cell_type": "code",
   "execution_count": 639,
   "metadata": {},
   "outputs": [
    {
     "data": {
      "text/plain": [
       "((119898, 70), (675495, 12), (119898, 71), (675495, 12))"
      ]
     },
     "execution_count": 639,
     "metadata": {},
     "output_type": "execute_result"
    }
   ],
   "source": [
    "gl = rsd_ge_list_exr.copy()\n",
    "det = rse_det_exr.copy()\n",
    "rsd_ge_list_ex.shape, rse_det_exr.shape, gl.shape, det.shape"
   ]
  },
  {
   "cell_type": "code",
   "execution_count": 640,
   "metadata": {},
   "outputs": [
    {
     "data": {
      "text/plain": [
       "Index(['일련번호', '상세일자', '정비내용', '정비부품명', '교환유무', '점검조정유무', '분해탈착유무', '정비불가능유무',\n",
       "       '생성일자', '생성자명', '최종수정일자', '최종수정자명'],\n",
       "      dtype='object')"
      ]
     },
     "execution_count": 640,
     "metadata": {},
     "output_type": "execute_result"
    }
   ],
   "source": [
    "det.columns"
   ]
  },
  {
   "cell_type": "code",
   "execution_count": 641,
   "metadata": {},
   "outputs": [
    {
     "data": {
      "text/plain": [
       "array(['N', 'Y'], dtype=object)"
      ]
     },
     "execution_count": 641,
     "metadata": {},
     "output_type": "execute_result"
    }
   ],
   "source": [
    "det['교환유무'].unique()"
   ]
  },
  {
   "cell_type": "markdown",
   "metadata": {},
   "source": [
    "#### 1\\. TB_RSE_DET_EX : '교환유무', '점검조정유무', '분해탈착유무', '정비불가능유무' 중 단 하나라도 'Y'가 있는 샘플만 추출"
   ]
  },
  {
   "cell_type": "code",
   "execution_count": 642,
   "metadata": {},
   "outputs": [
    {
     "data": {
      "text/plain": [
       "(267003, 12)"
      ]
     },
     "execution_count": 642,
     "metadata": {},
     "output_type": "execute_result"
    }
   ],
   "source": [
    "det01 = det[\n",
    "    (det['교환유무'] == 'Y') | \n",
    "    (det['점검조정유무'] == 'Y') | \n",
    "    (det['분해탈착유무'] == 'Y') | \n",
    "    (det['정비불가능유무'] == 'Y')\n",
    "    ].reset_index(drop=True)\n",
    "det01.shape"
   ]
  },
  {
   "cell_type": "code",
   "execution_count": 643,
   "metadata": {},
   "outputs": [
    {
     "data": {
      "text/plain": [
       "((267003, 12), 117540)"
      ]
     },
     "execution_count": 643,
     "metadata": {},
     "output_type": "execute_result"
    }
   ],
   "source": [
    "det01.shape, len(det01['일련번호'].unique())"
   ]
  },
  {
   "cell_type": "code",
   "execution_count": 644,
   "metadata": {},
   "outputs": [
    {
     "data": {
      "text/html": [
       "<div>\n",
       "<style scoped>\n",
       "    .dataframe tbody tr th:only-of-type {\n",
       "        vertical-align: middle;\n",
       "    }\n",
       "\n",
       "    .dataframe tbody tr th {\n",
       "        vertical-align: top;\n",
       "    }\n",
       "\n",
       "    .dataframe thead th {\n",
       "        text-align: right;\n",
       "    }\n",
       "</style>\n",
       "<table border=\"1\" class=\"dataframe\">\n",
       "  <thead>\n",
       "    <tr style=\"text-align: right;\">\n",
       "      <th></th>\n",
       "      <th>일련번호</th>\n",
       "      <th>정비내용</th>\n",
       "      <th>정비부품명</th>\n",
       "      <th>교환유무</th>\n",
       "      <th>점검조정유무</th>\n",
       "      <th>분해탈착유무</th>\n",
       "      <th>정비불가능유무</th>\n",
       "      <th>생성일자</th>\n",
       "    </tr>\n",
       "  </thead>\n",
       "  <tbody>\n",
       "    <tr>\n",
       "      <th>1</th>\n",
       "      <td>14</td>\n",
       "      <td>배출가스재순환장치</td>\n",
       "      <td>EGR밸브</td>\n",
       "      <td>Y</td>\n",
       "      <td>N</td>\n",
       "      <td>N</td>\n",
       "      <td>N</td>\n",
       "      <td>20130807</td>\n",
       "    </tr>\n",
       "    <tr>\n",
       "      <th>2</th>\n",
       "      <td>14</td>\n",
       "      <td>배출가스재순환장치</td>\n",
       "      <td>EGR제어용서머밸브</td>\n",
       "      <td>Y</td>\n",
       "      <td>N</td>\n",
       "      <td>N</td>\n",
       "      <td>N</td>\n",
       "      <td>20130807</td>\n",
       "    </tr>\n",
       "    <tr>\n",
       "      <th>3</th>\n",
       "      <td>19</td>\n",
       "      <td>엔진계통</td>\n",
       "      <td>연료분사펌프(조속기조정,봉인)</td>\n",
       "      <td>Y</td>\n",
       "      <td>N</td>\n",
       "      <td>N</td>\n",
       "      <td>N</td>\n",
       "      <td>20130808</td>\n",
       "    </tr>\n",
       "    <tr>\n",
       "      <th>4</th>\n",
       "      <td>19</td>\n",
       "      <td>배출가스재순환장치</td>\n",
       "      <td>EGR밸브</td>\n",
       "      <td>Y</td>\n",
       "      <td>N</td>\n",
       "      <td>N</td>\n",
       "      <td>N</td>\n",
       "      <td>20130808</td>\n",
       "    </tr>\n",
       "    <tr>\n",
       "      <th>5</th>\n",
       "      <td>19</td>\n",
       "      <td>배출가스재순환장치</td>\n",
       "      <td>EGR제어용서머밸브</td>\n",
       "      <td>Y</td>\n",
       "      <td>N</td>\n",
       "      <td>N</td>\n",
       "      <td>N</td>\n",
       "      <td>20130808</td>\n",
       "    </tr>\n",
       "  </tbody>\n",
       "</table>\n",
       "</div>"
      ],
      "text/plain": [
       "   일련번호       정비내용             정비부품명 교환유무 점검조정유무 분해탈착유무 정비불가능유무      생성일자\n",
       "1    14  배출가스재순환장치             EGR밸브    Y      N      N       N  20130807\n",
       "2    14  배출가스재순환장치        EGR제어용서머밸브    Y      N      N       N  20130807\n",
       "3    19       엔진계통  연료분사펌프(조속기조정,봉인)    Y      N      N       N  20130808\n",
       "4    19  배출가스재순환장치             EGR밸브    Y      N      N       N  20130808\n",
       "5    19  배출가스재순환장치        EGR제어용서머밸브    Y      N      N       N  20130808"
      ]
     },
     "execution_count": 644,
     "metadata": {},
     "output_type": "execute_result"
    }
   ],
   "source": [
    "det01.loc[det01['일련번호'].duplicated(keep=False), ['일련번호', '정비내용', '정비부품명', '교환유무', '점검조정유무', '분해탈착유무', '정비불가능유무', '생성일자']].head()"
   ]
  },
  {
   "cell_type": "code",
   "execution_count": 645,
   "metadata": {},
   "outputs": [
    {
     "data": {
      "text/plain": [
       "(267003, 12)"
      ]
     },
     "execution_count": 645,
     "metadata": {},
     "output_type": "execute_result"
    }
   ],
   "source": [
    "det01.shape"
   ]
  },
  {
   "cell_type": "code",
   "execution_count": 646,
   "metadata": {},
   "outputs": [
    {
     "data": {
      "text/html": [
       "<div>\n",
       "<style scoped>\n",
       "    .dataframe tbody tr th:only-of-type {\n",
       "        vertical-align: middle;\n",
       "    }\n",
       "\n",
       "    .dataframe tbody tr th {\n",
       "        vertical-align: top;\n",
       "    }\n",
       "\n",
       "    .dataframe thead th {\n",
       "        text-align: right;\n",
       "    }\n",
       "</style>\n",
       "<table border=\"1\" class=\"dataframe\">\n",
       "  <thead>\n",
       "    <tr style=\"text-align: right;\">\n",
       "      <th></th>\n",
       "      <th>일련번호</th>\n",
       "      <th>상세일자</th>\n",
       "      <th>정비내용</th>\n",
       "      <th>정비부품명</th>\n",
       "      <th>교환유무</th>\n",
       "      <th>점검조정유무</th>\n",
       "      <th>분해탈착유무</th>\n",
       "      <th>정비불가능유무</th>\n",
       "      <th>생성일자</th>\n",
       "      <th>생성자명</th>\n",
       "      <th>최종수정일자</th>\n",
       "      <th>최종수정자명</th>\n",
       "    </tr>\n",
       "  </thead>\n",
       "  <tbody>\n",
       "    <tr>\n",
       "      <th>0</th>\n",
       "      <td>9</td>\n",
       "      <td>NaN</td>\n",
       "      <td>엔진계통</td>\n",
       "      <td>인젝터(휘발유)</td>\n",
       "      <td>Y</td>\n",
       "      <td>N</td>\n",
       "      <td>N</td>\n",
       "      <td>N</td>\n",
       "      <td>20130806</td>\n",
       "      <td>NaN</td>\n",
       "      <td>NaN</td>\n",
       "      <td>NaN</td>\n",
       "    </tr>\n",
       "    <tr>\n",
       "      <th>1</th>\n",
       "      <td>14</td>\n",
       "      <td>NaN</td>\n",
       "      <td>배출가스재순환장치</td>\n",
       "      <td>EGR밸브</td>\n",
       "      <td>Y</td>\n",
       "      <td>N</td>\n",
       "      <td>N</td>\n",
       "      <td>N</td>\n",
       "      <td>20130807</td>\n",
       "      <td>NaN</td>\n",
       "      <td>20130807.00</td>\n",
       "      <td>NaN</td>\n",
       "    </tr>\n",
       "    <tr>\n",
       "      <th>2</th>\n",
       "      <td>14</td>\n",
       "      <td>NaN</td>\n",
       "      <td>배출가스재순환장치</td>\n",
       "      <td>EGR제어용서머밸브</td>\n",
       "      <td>Y</td>\n",
       "      <td>N</td>\n",
       "      <td>N</td>\n",
       "      <td>N</td>\n",
       "      <td>20130807</td>\n",
       "      <td>NaN</td>\n",
       "      <td>20130807.00</td>\n",
       "      <td>NaN</td>\n",
       "    </tr>\n",
       "    <tr>\n",
       "      <th>3</th>\n",
       "      <td>19</td>\n",
       "      <td>NaN</td>\n",
       "      <td>엔진계통</td>\n",
       "      <td>연료분사펌프(조속기조정,봉인)</td>\n",
       "      <td>Y</td>\n",
       "      <td>N</td>\n",
       "      <td>N</td>\n",
       "      <td>N</td>\n",
       "      <td>20130808</td>\n",
       "      <td>NaN</td>\n",
       "      <td>NaN</td>\n",
       "      <td>NaN</td>\n",
       "    </tr>\n",
       "    <tr>\n",
       "      <th>4</th>\n",
       "      <td>19</td>\n",
       "      <td>NaN</td>\n",
       "      <td>배출가스재순환장치</td>\n",
       "      <td>EGR밸브</td>\n",
       "      <td>Y</td>\n",
       "      <td>N</td>\n",
       "      <td>N</td>\n",
       "      <td>N</td>\n",
       "      <td>20130808</td>\n",
       "      <td>NaN</td>\n",
       "      <td>NaN</td>\n",
       "      <td>NaN</td>\n",
       "    </tr>\n",
       "  </tbody>\n",
       "</table>\n",
       "</div>"
      ],
      "text/plain": [
       "   일련번호  상세일자       정비내용             정비부품명 교환유무 점검조정유무 분해탈착유무 정비불가능유무  \\\n",
       "0     9   NaN       엔진계통          인젝터(휘발유)    Y      N      N       N   \n",
       "1    14   NaN  배출가스재순환장치             EGR밸브    Y      N      N       N   \n",
       "2    14   NaN  배출가스재순환장치        EGR제어용서머밸브    Y      N      N       N   \n",
       "3    19   NaN       엔진계통  연료분사펌프(조속기조정,봉인)    Y      N      N       N   \n",
       "4    19   NaN  배출가스재순환장치             EGR밸브    Y      N      N       N   \n",
       "\n",
       "       생성일자 생성자명      최종수정일자  최종수정자명  \n",
       "0  20130806  NaN         NaN     NaN  \n",
       "1  20130807  NaN 20130807.00     NaN  \n",
       "2  20130807  NaN 20130807.00     NaN  \n",
       "3  20130808  NaN         NaN     NaN  \n",
       "4  20130808  NaN         NaN     NaN  "
      ]
     },
     "execution_count": 646,
     "metadata": {},
     "output_type": "execute_result"
    }
   ],
   "source": [
    "det01.head()"
   ]
  },
  {
   "cell_type": "markdown",
   "metadata": {},
   "source": [
    "#### 2\\. TB_RSD_GE_LIST_EX(일련번호), TB_RSE_DET_EX(일련번호) 기준 병합"
   ]
  },
  {
   "cell_type": "code",
   "execution_count": 647,
   "metadata": {},
   "outputs": [
    {
     "data": {
      "text/plain": [
       "Index(['일련번호', '점검일자', '차량번호', '차대번호', '차명', '차종', '연식', '용도', '연료', '중량',\n",
       "       '총중량', '엔진배기량', '엔진출력', '엔진형식', '주행거리', '제작일자', '최초등록일', '정밀검사만료일자',\n",
       "       '시도', '시군구', '전문정비사업자코드', '보증기간_년', '보증기간_Km', '보증기간내_고의_또는_과실여부',\n",
       "       '정비사성명', '정비사의견', '차령', '정비여부', '생성일자', '생성자명', '최종수정자명', '최종수정일자',\n",
       "       '보증수리여부', '소재지', '소유자명', '접수번호', '출력여부', '출력일자', '출력자명', '시도코드',\n",
       "       '시군구코드', '시도명', '시군구명', '정밀검사유무', '정밀검사일자', '정밀검사소명', '정밀검사측정방법',\n",
       "       '정밀검사판정', '무부하매연측정치1', '무부하매연허용치1', '무부하매연판정1', '무부하매연측정치2',\n",
       "       '무부하매연허용치2', '무부하매연판정2', '무부하매연측정치3', '무부하매연허용치3', '무부하매연판정3',\n",
       "       '무부하매연측정치4', '무부하매연허용치4', '무부하매연판정4', '무부하매연측정치5', '무부하매연허용치5',\n",
       "       '무부하매연판정5', '무부하매연측정치6', '무부하매연허용치6', '무부하매연판정6', '관능검사판정', '관능검사부적합내용',\n",
       "       '정밀검사수정일', '확정여부', '차종유형'],\n",
       "      dtype='object')"
      ]
     },
     "execution_count": 647,
     "metadata": {},
     "output_type": "execute_result"
    }
   ],
   "source": [
    "gl.columns"
   ]
  },
  {
   "cell_type": "code",
   "execution_count": 648,
   "metadata": {},
   "outputs": [],
   "source": [
    "gl = gl[[\n",
    "    '일련번호',\n",
    "    '점검일자',\n",
    "    '차량번호',\n",
    "    '차대번호',\n",
    "    '차명',\n",
    "    '차종',\n",
    "    '연식',\n",
    "    '용도',\n",
    "    '연료',\n",
    "    '중량',\n",
    "    '총중량',\n",
    "    '엔진배기량',\n",
    "    '엔진출력',\n",
    "    '엔진형식',\n",
    "    '주행거리',\n",
    "    '제작일자',\n",
    "    '최초등록일',\n",
    "    # '정밀검사만료일자',\n",
    "    # '시도',\n",
    "    # '시군구',\n",
    "    '전문정비사업자코드',\n",
    "    # '보증기간_년',\n",
    "    # '보증기간_Km',\n",
    "    # '보증기간내_고의_또는_과실여부',\n",
    "    # '정비사성명',\n",
    "    # '정비사의견',\n",
    "    # '차령',\n",
    "    '정비여부',\n",
    "    # '생성일자',\n",
    "    # '생성자명',\n",
    "    # '최종수정자명',\n",
    "    # '최종수정일자',\n",
    "    # '보증수리여부',\n",
    "    # '소재지',\n",
    "    # '소유자명',\n",
    "    # '접수번호',\n",
    "    # '출력여부',\n",
    "    # '출력일자',\n",
    "    # '출력자명',\n",
    "    '시도코드',\n",
    "    '시군구코드',\n",
    "    '시도명',\n",
    "    '시군구명',\n",
    "    # '정밀검사유무',\n",
    "    # '정밀검사일자',\n",
    "    # # '정밀검사소명',\n",
    "    # '정밀검사측정방법',\n",
    "    # '정밀검사판정',\n",
    "    # '무부하매연측정치1',\n",
    "    # '무부하매연허용치1',\n",
    "    # '무부하매연판정1',\n",
    "    # '무부하매연측정치2',\n",
    "    # '무부하매연허용치2',\n",
    "    # '무부하매연판정2',\n",
    "    # '무부하매연측정치3',\n",
    "    # '무부하매연허용치3',\n",
    "    # '무부하매연판정3',\n",
    "    # '무부하매연측정치4',\n",
    "    # '무부하매연허용치4',\n",
    "    # '무부하매연판정4',\n",
    "    # '무부하매연측정치5',\n",
    "    # '무부하매연허용치5',\n",
    "    # '무부하매연판정5',\n",
    "    # '무부하매연측정치6',\n",
    "    # '무부하매연허용치6',\n",
    "    # '무부하매연판정6',\n",
    "    # '관능검사판정',\n",
    "    # '관능검사부적합내용',\n",
    "    # '정밀검사수정일',\n",
    "    # '확정여부',\n",
    "]]"
   ]
  },
  {
   "cell_type": "code",
   "execution_count": 649,
   "metadata": {},
   "outputs": [
    {
     "data": {
      "text/plain": [
       "((119898, 23), 119898)"
      ]
     },
     "execution_count": 649,
     "metadata": {},
     "output_type": "execute_result"
    }
   ],
   "source": [
    "gl.shape, len(gl['일련번호'].unique())"
   ]
  },
  {
   "cell_type": "code",
   "execution_count": 650,
   "metadata": {},
   "outputs": [
    {
     "data": {
      "text/plain": [
       "((267003, 12), 117540)"
      ]
     },
     "execution_count": 650,
     "metadata": {},
     "output_type": "execute_result"
    }
   ],
   "source": [
    "det01.shape, len(det01['일련번호'].unique())"
   ]
  },
  {
   "cell_type": "code",
   "execution_count": 651,
   "metadata": {},
   "outputs": [
    {
     "data": {
      "text/plain": [
       "(268752, 34)"
      ]
     },
     "execution_count": 651,
     "metadata": {},
     "output_type": "execute_result"
    }
   ],
   "source": [
    "gd = gl.merge(det01, on='일련번호', how='left')\n",
    "gd.shape"
   ]
  },
  {
   "cell_type": "code",
   "execution_count": 652,
   "metadata": {},
   "outputs": [
    {
     "data": {
      "text/plain": [
       "Index(['일련번호', '점검일자', '차량번호', '차대번호', '차명', '차종', '연식', '용도', '연료', '중량',\n",
       "       '총중량', '엔진배기량', '엔진출력', '엔진형식', '주행거리', '제작일자', '최초등록일', '전문정비사업자코드',\n",
       "       '정비여부', '시도코드', '시군구코드', '시도명', '시군구명', '상세일자', '정비내용', '정비부품명', '교환유무',\n",
       "       '점검조정유무', '분해탈착유무', '정비불가능유무', '생성일자', '생성자명', '최종수정일자', '최종수정자명'],\n",
       "      dtype='object')"
      ]
     },
     "execution_count": 652,
     "metadata": {},
     "output_type": "execute_result"
    }
   ],
   "source": [
    "gd.columns"
   ]
  },
  {
   "cell_type": "markdown",
   "metadata": {},
   "source": [
    "#### 3\\. 2번과 TB_RSM_ORG '전문정비사업자코드' 기준으로 병합"
   ]
  },
  {
   "cell_type": "code",
   "execution_count": 653,
   "metadata": {},
   "outputs": [
    {
     "data": {
      "text/plain": [
       "Index(['전문정비사업자SEQ', '사업자코드', '시도', '시군구', '등록번호', '등록일자', '입력일자', '상호', '성명',\n",
       "       '주소1', '주소2', '전화번호', '우편번호', '사업소재지', '사업소재지전화번호', '확인검사항목ID', '등록일자',\n",
       "       '등록자', '수정일자', '수정자', '일산화탄소', '탄화수소', '질소산화물', '공기과잉률_여부', '매연',\n",
       "       '사업자번호', '전문정비사업자코드', '등록_승인_상태', '운행차배출가스전문정비업', '전산_승인_상태', '사업자_구분',\n",
       "       '대행여부', '대행업체명', '성명', '소음', 'TCP여부', '법정동_시도코드', '법정도_시군구코드', 'X좌표',\n",
       "       'Y좌표 ', '법정동_시도명', '법정동_시군구명'],\n",
       "      dtype='object')"
      ]
     },
     "execution_count": 653,
     "metadata": {},
     "output_type": "execute_result"
    }
   ],
   "source": [
    "rsm_orgr.columns"
   ]
  },
  {
   "cell_type": "code",
   "execution_count": 654,
   "metadata": {},
   "outputs": [
    {
     "data": {
      "text/plain": [
       "16"
      ]
     },
     "execution_count": 654,
     "metadata": {},
     "output_type": "execute_result"
    }
   ],
   "source": [
    "len(set(gd['전문정비사업자코드'].unique()) - set(rsm_orgr['전문정비사업자코드'].unique()))"
   ]
  },
  {
   "cell_type": "code",
   "execution_count": 655,
   "metadata": {},
   "outputs": [
    {
     "data": {
      "text/html": [
       "<div>\n",
       "<style scoped>\n",
       "    .dataframe tbody tr th:only-of-type {\n",
       "        vertical-align: middle;\n",
       "    }\n",
       "\n",
       "    .dataframe tbody tr th {\n",
       "        vertical-align: top;\n",
       "    }\n",
       "\n",
       "    .dataframe thead th {\n",
       "        text-align: right;\n",
       "    }\n",
       "</style>\n",
       "<table border=\"1\" class=\"dataframe\">\n",
       "  <thead>\n",
       "    <tr style=\"text-align: right;\">\n",
       "      <th></th>\n",
       "      <th>시도</th>\n",
       "      <th>시군구</th>\n",
       "      <th>법정동_시도명</th>\n",
       "      <th>법정동_시군구명</th>\n",
       "      <th>법정동_시도코드</th>\n",
       "      <th>법정도_시군구코드</th>\n",
       "      <th>상호</th>\n",
       "      <th>전문정비사업자코드</th>\n",
       "    </tr>\n",
       "  </thead>\n",
       "  <tbody>\n",
       "    <tr>\n",
       "      <th>0</th>\n",
       "      <td>NaN</td>\n",
       "      <td>NaN</td>\n",
       "      <td>경상남도</td>\n",
       "      <td>김해시</td>\n",
       "      <td>48</td>\n",
       "      <td>250</td>\n",
       "      <td>김해자동차정비공업사</td>\n",
       "      <td>ZO12</td>\n",
       "    </tr>\n",
       "    <tr>\n",
       "      <th>1</th>\n",
       "      <td>NaN</td>\n",
       "      <td>NaN</td>\n",
       "      <td>대구광역시</td>\n",
       "      <td>서구</td>\n",
       "      <td>27</td>\n",
       "      <td>170</td>\n",
       "      <td>경북1급종합정비</td>\n",
       "      <td>ZN12</td>\n",
       "    </tr>\n",
       "    <tr>\n",
       "      <th>2</th>\n",
       "      <td>NaN</td>\n",
       "      <td>NaN</td>\n",
       "      <td>경상북도</td>\n",
       "      <td>안동시</td>\n",
       "      <td>47</td>\n",
       "      <td>170</td>\n",
       "      <td>영호카서비스</td>\n",
       "      <td>ZN10</td>\n",
       "    </tr>\n",
       "    <tr>\n",
       "      <th>3</th>\n",
       "      <td>NaN</td>\n",
       "      <td>NaN</td>\n",
       "      <td>대구광역시</td>\n",
       "      <td>동구</td>\n",
       "      <td>27</td>\n",
       "      <td>140</td>\n",
       "      <td>스피드1급카센타</td>\n",
       "      <td>ZC26</td>\n",
       "    </tr>\n",
       "    <tr>\n",
       "      <th>4</th>\n",
       "      <td>NaN</td>\n",
       "      <td>NaN</td>\n",
       "      <td>서울특별시</td>\n",
       "      <td>마포구</td>\n",
       "      <td>11</td>\n",
       "      <td>440</td>\n",
       "      <td>삼진자동차공업사</td>\n",
       "      <td>ZA88</td>\n",
       "    </tr>\n",
       "  </tbody>\n",
       "</table>\n",
       "</div>"
      ],
      "text/plain": [
       "    시도  시군구 법정동_시도명 법정동_시군구명  법정동_시도코드 법정도_시군구코드          상호 전문정비사업자코드\n",
       "0  NaN  NaN    경상남도      김해시        48       250  김해자동차정비공업사      ZO12\n",
       "1  NaN  NaN   대구광역시       서구        27       170    경북1급종합정비      ZN12\n",
       "2  NaN  NaN    경상북도      안동시        47       170      영호카서비스      ZN10\n",
       "3  NaN  NaN   대구광역시       동구        27       140    스피드1급카센타      ZC26\n",
       "4  NaN  NaN   서울특별시      마포구        11       440    삼진자동차공업사      ZA88"
      ]
     },
     "execution_count": 655,
     "metadata": {},
     "output_type": "execute_result"
    }
   ],
   "source": [
    "rsm_orgr[['시도', '시군구', '법정동_시도명', '법정동_시군구명', '법정동_시도코드', '법정도_시군구코드', '상호', '전문정비사업자코드']].head()"
   ]
  },
  {
   "cell_type": "code",
   "execution_count": 656,
   "metadata": {},
   "outputs": [
    {
     "data": {
      "text/plain": [
       "Index(['전문정비사업자SEQ', '사업자코드', '시도', '시군구', '등록번호', '등록일자', '입력일자', '전문정비사업소명',\n",
       "       '성명', '주소1', '주소2', '전화번호', '우편번호', '사업소재지', '사업소재지전화번호', '확인검사항목ID',\n",
       "       '등록일자', '등록자', '수정일자', '수정자', '일산화탄소', '탄화수소', '질소산화물', '공기과잉률_여부',\n",
       "       '매연', '사업자번호', '전문정비사업자코드', '등록_승인_상태', '운행차배출가스전문정비업', '전산_승인_상태',\n",
       "       '사업자_구분', '대행여부', '대행업체명', '성명', '소음', 'TCP여부', '전문정비사업자_시도코드',\n",
       "       '전문정비사업자_시군구코드', 'X좌표', 'Y좌표 ', '전문정비사업자_시도명', '전문정비사업자_시군구명'],\n",
       "      dtype='object')"
      ]
     },
     "execution_count": 656,
     "metadata": {},
     "output_type": "execute_result"
    }
   ],
   "source": [
    "rsm_orgr = rsm_orgr.rename(columns={'법정동_시도명':'전문정비사업자_시도명', '법정동_시군구명':'전문정비사업자_시군구명', '법정동_시도코드':'전문정비사업자_시도코드', '법정도_시군구코드':'전문정비사업자_시군구코드', '상호':'전문정비사업소명'})\n",
    "rsm_orgr.columns"
   ]
  },
  {
   "cell_type": "code",
   "execution_count": 657,
   "metadata": {},
   "outputs": [
    {
     "data": {
      "text/plain": [
       "등록_승인_상태\n",
       "1    324\n",
       "2    298\n",
       "3     30\n",
       "Name: count, dtype: int64"
      ]
     },
     "execution_count": 657,
     "metadata": {},
     "output_type": "execute_result"
    }
   ],
   "source": [
    "# 1 : 등록, 2:승인, 3:취소\n",
    "rsm_orgr['등록_승인_상태'].value_counts(dropna=False)"
   ]
  },
  {
   "cell_type": "code",
   "execution_count": 658,
   "metadata": {},
   "outputs": [
    {
     "data": {
      "text/plain": [
       "(545, 6)"
      ]
     },
     "execution_count": 658,
     "metadata": {},
     "output_type": "execute_result"
    }
   ],
   "source": [
    "temp = rsm_orgr.loc[((rsm_orgr['등록_승인_상태'] == 1) | (rsm_orgr['등록_승인_상태'] == 2)) & (rsm_orgr['전문정비사업자코드'].notnull()), ['전문정비사업자코드', '전문정비사업자_시도명', '전문정비사업자_시군구명', '전문정비사업자_시도코드', '전문정비사업자_시군구코드', '전문정비사업소명']]\n",
    "temp.shape"
   ]
  },
  {
   "cell_type": "code",
   "execution_count": 659,
   "metadata": {},
   "outputs": [
    {
     "data": {
      "text/plain": [
       "545"
      ]
     },
     "execution_count": 659,
     "metadata": {},
     "output_type": "execute_result"
    }
   ],
   "source": [
    "len(temp['전문정비사업자코드'].unique())"
   ]
  },
  {
   "cell_type": "code",
   "execution_count": 660,
   "metadata": {},
   "outputs": [
    {
     "data": {
      "text/plain": [
       "(268752, 34)"
      ]
     },
     "execution_count": 660,
     "metadata": {},
     "output_type": "execute_result"
    }
   ],
   "source": [
    "gd.shape"
   ]
  },
  {
   "cell_type": "code",
   "execution_count": 661,
   "metadata": {},
   "outputs": [
    {
     "data": {
      "text/plain": [
       "(268752, 39)"
      ]
     },
     "execution_count": 661,
     "metadata": {},
     "output_type": "execute_result"
    }
   ],
   "source": [
    "# 전문정비사업소명(등록, 승인만) 정보 추가\n",
    "gdo = gd.merge(rsm_orgr.loc[((rsm_orgr['등록_승인_상태'] == 1) | (rsm_orgr['등록_승인_상태'] == 2)) & (rsm_orgr['전문정비사업자코드'].notnull()), ['전문정비사업자코드', '전문정비사업자_시도명', '전문정비사업자_시군구명', '전문정비사업자_시도코드', '전문정비사업자_시군구코드', '전문정비사업소명']], on='전문정비사업자코드', how='left')\n",
    "gdo.shape"
   ]
  },
  {
   "cell_type": "code",
   "execution_count": 662,
   "metadata": {},
   "outputs": [
    {
     "data": {
      "text/plain": [
       "array(['경유', 'LPG', '휘발유', '하이브리드(휘발유+전기)', nan, 'CNG', '하이브리드(LPG+전기)',\n",
       "       '기타연료'], dtype=object)"
      ]
     },
     "execution_count": 662,
     "metadata": {},
     "output_type": "execute_result"
    }
   ],
   "source": [
    "gdo['연료'].unique()"
   ]
  },
  {
   "cell_type": "code",
   "execution_count": 663,
   "metadata": {},
   "outputs": [
    {
     "data": {
      "text/plain": [
       "119898"
      ]
     },
     "execution_count": 663,
     "metadata": {},
     "output_type": "execute_result"
    }
   ],
   "source": [
    "len(gdo['일련번호'].unique())"
   ]
  },
  {
   "cell_type": "code",
   "execution_count": 664,
   "metadata": {},
   "outputs": [
    {
     "data": {
      "text/plain": [
       "0"
      ]
     },
     "execution_count": 664,
     "metadata": {},
     "output_type": "execute_result"
    }
   ],
   "source": [
    "gdo['일련번호'].isnull().sum()"
   ]
  },
  {
   "cell_type": "code",
   "execution_count": 665,
   "metadata": {},
   "outputs": [
    {
     "data": {
      "text/html": [
       "<div>\n",
       "<style scoped>\n",
       "    .dataframe tbody tr th:only-of-type {\n",
       "        vertical-align: middle;\n",
       "    }\n",
       "\n",
       "    .dataframe tbody tr th {\n",
       "        vertical-align: top;\n",
       "    }\n",
       "\n",
       "    .dataframe thead th {\n",
       "        text-align: right;\n",
       "    }\n",
       "</style>\n",
       "<table border=\"1\" class=\"dataframe\">\n",
       "  <thead>\n",
       "    <tr style=\"text-align: right;\">\n",
       "      <th></th>\n",
       "      <th>전문정비사업자_시도명</th>\n",
       "      <th>전문정비사업자코드</th>\n",
       "    </tr>\n",
       "  </thead>\n",
       "  <tbody>\n",
       "    <tr>\n",
       "      <th>0</th>\n",
       "      <td>강원도</td>\n",
       "      <td>14.00</td>\n",
       "    </tr>\n",
       "    <tr>\n",
       "      <th>1</th>\n",
       "      <td>경기도</td>\n",
       "      <td>55.00</td>\n",
       "    </tr>\n",
       "    <tr>\n",
       "      <th>2</th>\n",
       "      <td>경상남도</td>\n",
       "      <td>38.00</td>\n",
       "    </tr>\n",
       "    <tr>\n",
       "      <th>3</th>\n",
       "      <td>경상북도</td>\n",
       "      <td>45.00</td>\n",
       "    </tr>\n",
       "    <tr>\n",
       "      <th>4</th>\n",
       "      <td>광주광역시</td>\n",
       "      <td>16.00</td>\n",
       "    </tr>\n",
       "    <tr>\n",
       "      <th>5</th>\n",
       "      <td>대구광역시</td>\n",
       "      <td>39.00</td>\n",
       "    </tr>\n",
       "    <tr>\n",
       "      <th>6</th>\n",
       "      <td>대전광역시</td>\n",
       "      <td>22.00</td>\n",
       "    </tr>\n",
       "    <tr>\n",
       "      <th>7</th>\n",
       "      <td>부산광역시</td>\n",
       "      <td>17.00</td>\n",
       "    </tr>\n",
       "    <tr>\n",
       "      <th>8</th>\n",
       "      <td>서울특별시</td>\n",
       "      <td>76.00</td>\n",
       "    </tr>\n",
       "    <tr>\n",
       "      <th>9</th>\n",
       "      <td>세종특별자치시</td>\n",
       "      <td>3.00</td>\n",
       "    </tr>\n",
       "    <tr>\n",
       "      <th>10</th>\n",
       "      <td>울산광역시</td>\n",
       "      <td>9.00</td>\n",
       "    </tr>\n",
       "    <tr>\n",
       "      <th>11</th>\n",
       "      <td>인천광역시</td>\n",
       "      <td>15.00</td>\n",
       "    </tr>\n",
       "    <tr>\n",
       "      <th>12</th>\n",
       "      <td>전라남도</td>\n",
       "      <td>29.00</td>\n",
       "    </tr>\n",
       "    <tr>\n",
       "      <th>13</th>\n",
       "      <td>전라북도</td>\n",
       "      <td>20.00</td>\n",
       "    </tr>\n",
       "    <tr>\n",
       "      <th>14</th>\n",
       "      <td>제주특별자치도</td>\n",
       "      <td>11.00</td>\n",
       "    </tr>\n",
       "    <tr>\n",
       "      <th>15</th>\n",
       "      <td>충청남도</td>\n",
       "      <td>26.00</td>\n",
       "    </tr>\n",
       "    <tr>\n",
       "      <th>16</th>\n",
       "      <td>충청북도</td>\n",
       "      <td>20.00</td>\n",
       "    </tr>\n",
       "    <tr>\n",
       "      <th>17</th>\n",
       "      <td>합계</td>\n",
       "      <td>455.00</td>\n",
       "    </tr>\n",
       "  </tbody>\n",
       "</table>\n",
       "</div>"
      ],
      "text/plain": [
       "   전문정비사업자_시도명  전문정비사업자코드\n",
       "0          강원도      14.00\n",
       "1          경기도      55.00\n",
       "2         경상남도      38.00\n",
       "3         경상북도      45.00\n",
       "4        광주광역시      16.00\n",
       "5        대구광역시      39.00\n",
       "6        대전광역시      22.00\n",
       "7        부산광역시      17.00\n",
       "8        서울특별시      76.00\n",
       "9      세종특별자치시       3.00\n",
       "10       울산광역시       9.00\n",
       "11       인천광역시      15.00\n",
       "12        전라남도      29.00\n",
       "13        전라북도      20.00\n",
       "14     제주특별자치도      11.00\n",
       "15        충청남도      26.00\n",
       "16        충청북도      20.00\n",
       "17          합계     455.00"
      ]
     },
     "execution_count": 665,
     "metadata": {},
     "output_type": "execute_result"
    }
   ],
   "source": [
    "ggrp1 = gdo.groupby(['전문정비사업자_시도명']).agg({'전문정비사업자코드':lambda x:len(x.unique())}).reset_index()\n",
    "ggrp1.loc[ggrp1.shape[0], ['전문정비사업자_시도명', '전문정비사업자코드']] = ['합계', ggrp1['전문정비사업자코드'].sum()]\n",
    "ggrp1"
   ]
  },
  {
   "cell_type": "markdown",
   "metadata": {},
   "source": [
    "### 정기/정밀 검사 정보"
   ]
  },
  {
   "cell_type": "markdown",
   "metadata": {},
   "source": [
    "#### 검사 측정치 음수 확인\n",
    "- 수정 : -9999 -> np.nan"
   ]
  },
  {
   "cell_type": "code",
   "execution_count": 666,
   "metadata": {},
   "outputs": [
    {
     "data": {
      "text/plain": [
       "(6201575,)"
      ]
     },
     "execution_count": 666,
     "metadata": {},
     "output_type": "execute_result"
    }
   ],
   "source": [
    "ins.loc[ins['무부하매연측정치1'] < 0, '무부하매연측정치1'].shape"
   ]
  },
  {
   "cell_type": "code",
   "execution_count": 667,
   "metadata": {},
   "outputs": [
    {
     "data": {
      "text/plain": [
       "(73231712,)"
      ]
     },
     "execution_count": 667,
     "metadata": {},
     "output_type": "execute_result"
    }
   ],
   "source": [
    "ins.loc[ins['무부하매연측정치2'] < 0, '무부하매연측정치2'].shape"
   ]
  },
  {
   "cell_type": "code",
   "execution_count": 668,
   "metadata": {},
   "outputs": [
    {
     "data": {
      "text/plain": [
       "(75662369,)"
      ]
     },
     "execution_count": 668,
     "metadata": {},
     "output_type": "execute_result"
    }
   ],
   "source": [
    "ins.loc[ins['무부하매연측정치3'] < 0, '무부하매연측정치3'].shape"
   ]
  },
  {
   "cell_type": "code",
   "execution_count": 669,
   "metadata": {},
   "outputs": [
    {
     "data": {
      "text/plain": [
       "count   173740086.00\n",
       "mean         -349.78\n",
       "std          1856.56\n",
       "min         -9999.00\n",
       "25%             0.00\n",
       "50%             0.02\n",
       "75%             8.00\n",
       "max         97938.00\n",
       "Name: 무부하매연측정치1, dtype: float64"
      ]
     },
     "execution_count": 669,
     "metadata": {},
     "output_type": "execute_result"
    }
   ],
   "source": [
    "ins['무부하매연측정치1'].describe()"
   ]
  },
  {
   "cell_type": "code",
   "execution_count": 670,
   "metadata": {},
   "outputs": [
    {
     "data": {
      "text/plain": [
       "array([-9999.])"
      ]
     },
     "execution_count": 670,
     "metadata": {},
     "output_type": "execute_result"
    }
   ],
   "source": [
    "ins.loc[ins['무부하매연측정치1'] < 0, '무부하매연측정치1'].unique()"
   ]
  },
  {
   "cell_type": "code",
   "execution_count": 671,
   "metadata": {},
   "outputs": [
    {
     "data": {
      "text/plain": [
       "array([-9999.])"
      ]
     },
     "execution_count": 671,
     "metadata": {},
     "output_type": "execute_result"
    }
   ],
   "source": [
    "ins.loc[ins['무부하매연측정치2'] < 0, '무부하매연측정치2'].unique()"
   ]
  },
  {
   "cell_type": "code",
   "execution_count": 672,
   "metadata": {},
   "outputs": [
    {
     "data": {
      "text/plain": [
       "array([-9999.])"
      ]
     },
     "execution_count": 672,
     "metadata": {},
     "output_type": "execute_result"
    }
   ],
   "source": [
    "ins.loc[ins['무부하매연측정치3'] < 0, '무부하매연측정치3'].unique()"
   ]
  },
  {
   "cell_type": "code",
   "execution_count": 673,
   "metadata": {},
   "outputs": [],
   "source": [
    "ins.loc[ins['무부하매연측정치1'] < 0, '무부하매연측정치1'] = np.nan\n",
    "ins.loc[ins['무부하매연측정치2'] < 0, '무부하매연측정치2'] = np.nan\n",
    "ins.loc[ins['무부하매연측정치3'] < 0, '무부하매연측정치3'] = np.nan"
   ]
  },
  {
   "cell_type": "markdown",
   "metadata": {},
   "source": [
    "### 전문, gdo concat\n",
    "- 과거 전문정비\n",
    "    - 전문정비 + 상세 + 등록 + 제원 + 법정동 : bf_er\n",
    "- 최근 전문정비\n",
    "    - TB_RSD_GE_LIST_EX + TB_RSE_DET_EX + TB_RSM_ORG : gdo"
   ]
  },
  {
   "cell_type": "markdown",
   "metadata": {},
   "source": [
    "#### 1\\.과거, 최신 데이터 병합"
   ]
  },
  {
   "cell_type": "code",
   "execution_count": 674,
   "metadata": {},
   "outputs": [
    {
     "data": {
      "text/plain": [
       "dtype('int64')"
      ]
     },
     "execution_count": 674,
     "metadata": {},
     "output_type": "execute_result"
    }
   ],
   "source": [
    "gdo['점검일자'].dtype"
   ]
  },
  {
   "cell_type": "code",
   "execution_count": 675,
   "metadata": {},
   "outputs": [
    {
     "data": {
      "text/plain": [
       "0    20130805\n",
       "1    20130806\n",
       "2    20130806\n",
       "3    20130806\n",
       "4    20130806\n",
       "Name: 점검일자, dtype: int64"
      ]
     },
     "execution_count": 675,
     "metadata": {},
     "output_type": "execute_result"
    }
   ],
   "source": [
    "gdo['점검일자'].head()"
   ]
  },
  {
   "cell_type": "code",
   "execution_count": 676,
   "metadata": {},
   "outputs": [
    {
     "data": {
      "text/plain": [
       "((268752, 39), 0)"
      ]
     },
     "execution_count": 676,
     "metadata": {},
     "output_type": "execute_result"
    }
   ],
   "source": [
    "gdo.shape, gdo['점검일자'].isnull().sum()"
   ]
  },
  {
   "cell_type": "code",
   "execution_count": 677,
   "metadata": {},
   "outputs": [
    {
     "data": {
      "text/plain": [
       "Index(['차량번호', '차대번호', '정비일자', '전문정비사업소명', '정비접수번호', '정비내용', '정비부품명', '제원관리번호',\n",
       "       '연식', '차종', '용도', '법정동코드', '배출가스등급', '연료', '제작사명', '차종유형', '차명',\n",
       "       '자동차형식', '엔진형식', '총중량', '배기량', '엔진출력', '시도명', '시군구명'],\n",
       "      dtype='object')"
      ]
     },
     "execution_count": 677,
     "metadata": {},
     "output_type": "execute_result"
    }
   ],
   "source": [
    "bf_er.columns"
   ]
  },
  {
   "cell_type": "code",
   "execution_count": 678,
   "metadata": {},
   "outputs": [
    {
     "data": {
      "text/plain": [
       "array(['엔진계통', '연료장치', '각종센서', '흡기계통', '배출가스재순환장치', '배출가스전환장치', '배기계통',\n",
       "       '점화계통', '연료증발가스방지장치', '블로바이가스환원장치', nan], dtype=object)"
      ]
     },
     "execution_count": 678,
     "metadata": {},
     "output_type": "execute_result"
    }
   ],
   "source": [
    "bf_er['정비내용'].unique()"
   ]
  },
  {
   "cell_type": "code",
   "execution_count": 679,
   "metadata": {},
   "outputs": [
    {
     "data": {
      "text/plain": [
       "array(['연료휠터', '엔진오일', '연료압력조절기', '냉각수온센서', '연료분사펌프(조속기조정,봉인)', '에어크리너',\n",
       "       '엔진정비', '노즐(디젤인젝터포함)', 'EGR밸브', '기화기(믹서포함)',\n",
       "       '정화용촉매(CatalyticConverter)', '소음기', '냉각계통', '배기관', 'EGR제어용서머밸브',\n",
       "       '공연비(혼합비)', '점화시기(분사시기)조정', '점화플러그', '공회전속도', '디젤산화촉매(DOC)',\n",
       "       '공기유량센서', '과급기', '산소센서', '점화배선', '드로틀바디',\n",
       "       '정화조절밸브(PurgeControlValve)', '블로바이가스호스', '캐니스터및필터', '인젝터(휘발유)',\n",
       "       '드로틀포지션센서', '배전기(Distributor)', '전자제어장치(ECU)', 'PCV밸브',\n",
       "       '매연여과장치(DPF)', nan], dtype=object)"
      ]
     },
     "execution_count": 679,
     "metadata": {},
     "output_type": "execute_result"
    }
   ],
   "source": [
    "bf_er['정비부품명'].unique()"
   ]
  },
  {
   "cell_type": "code",
   "execution_count": 680,
   "metadata": {},
   "outputs": [
    {
     "data": {
      "text/plain": [
       "Index(['차량번호', '차대번호', '점검일자', '전문정비사업소명', '정비접수번호', '정비내용', '정비부품명', '제원관리번호',\n",
       "       '연식', '차종', '용도', '법정동코드', '배출가스등급', '연료', '제작사명', '차종유형', '차명',\n",
       "       '자동차형식', '엔진형식', '총중량', '배기량', '엔진출력', '시도명', '시군구명'],\n",
       "      dtype='object')"
      ]
     },
     "execution_count": 680,
     "metadata": {},
     "output_type": "execute_result"
    }
   ],
   "source": [
    "bf_er01 = bf_er.rename(columns={'정비일자':'점검일자'})\n",
    "bf_er01.columns"
   ]
  },
  {
   "cell_type": "code",
   "execution_count": 681,
   "metadata": {},
   "outputs": [
    {
     "data": {
      "text/plain": [
       "Index(['일련번호', '점검일자', '차량번호', '차대번호', '차명', '차종', '연식', '용도', '연료', '중량',\n",
       "       '총중량', '엔진배기량', '엔진출력', '엔진형식', '주행거리', '제작일자', '최초등록일', '전문정비사업자코드',\n",
       "       '정비여부', '시도코드', '시군구코드', '시도명', '시군구명', '상세일자', '정비내용', '정비부품명', '교환유무',\n",
       "       '점검조정유무', '분해탈착유무', '정비불가능유무', '생성일자', '생성자명', '최종수정일자', '최종수정자명',\n",
       "       '전문정비사업자_시도명', '전문정비사업자_시군구명', '전문정비사업자_시도코드', '전문정비사업자_시군구코드',\n",
       "       '전문정비사업소명'],\n",
       "      dtype='object')"
      ]
     },
     "execution_count": 681,
     "metadata": {},
     "output_type": "execute_result"
    }
   ],
   "source": [
    "gdo.columns"
   ]
  },
  {
   "cell_type": "code",
   "execution_count": 682,
   "metadata": {},
   "outputs": [
    {
     "data": {
      "text/plain": [
       "375556"
      ]
     },
     "execution_count": 682,
     "metadata": {},
     "output_type": "execute_result"
    }
   ],
   "source": [
    "bf_er01.shape[0] + gdo.shape[0]"
   ]
  },
  {
   "cell_type": "code",
   "execution_count": null,
   "metadata": {},
   "outputs": [],
   "source": []
  },
  {
   "cell_type": "code",
   "execution_count": null,
   "metadata": {},
   "outputs": [],
   "source": []
  },
  {
   "cell_type": "code",
   "execution_count": null,
   "metadata": {},
   "outputs": [],
   "source": []
  },
  {
   "cell_type": "code",
   "execution_count": 683,
   "metadata": {},
   "outputs": [
    {
     "data": {
      "text/plain": [
       "(375556, 47)"
      ]
     },
     "execution_count": 683,
     "metadata": {},
     "output_type": "execute_result"
    }
   ],
   "source": [
    "total_err = pd.concat([bf_er01, gdo], ignore_index=True)\n",
    "total_err.shape"
   ]
  },
  {
   "cell_type": "code",
   "execution_count": 684,
   "metadata": {},
   "outputs": [
    {
     "data": {
      "text/plain": [
       "101388"
      ]
     },
     "execution_count": 684,
     "metadata": {},
     "output_type": "execute_result"
    }
   ],
   "source": [
    "len(total_err['차대번호'].unique())"
   ]
  },
  {
   "cell_type": "code",
   "execution_count": 685,
   "metadata": {},
   "outputs": [
    {
     "data": {
      "text/plain": [
       "7355"
      ]
     },
     "execution_count": 685,
     "metadata": {},
     "output_type": "execute_result"
    }
   ],
   "source": [
    "total_err['차대번호'].isnull().sum()"
   ]
  },
  {
   "cell_type": "code",
   "execution_count": 686,
   "metadata": {},
   "outputs": [
    {
     "data": {
      "text/plain": [
       "Index(['차량번호', '차대번호', '점검일자', '전문정비사업소명', '정비접수번호', '정비내용', '정비부품명', '제원관리번호',\n",
       "       '연식', '차종', '용도', '법정동코드', '배출가스등급', '연료', '제작사명', '차종유형', '차명',\n",
       "       '자동차형식', '엔진형식', '총중량', '배기량', '엔진출력', '시도명', '시군구명', '일련번호', '중량',\n",
       "       '엔진배기량', '주행거리', '제작일자', '최초등록일', '전문정비사업자코드', '정비여부', '시도코드', '시군구코드',\n",
       "       '상세일자', '교환유무', '점검조정유무', '분해탈착유무', '정비불가능유무', '생성일자', '생성자명', '최종수정일자',\n",
       "       '최종수정자명', '전문정비사업자_시도명', '전문정비사업자_시군구명', '전문정비사업자_시도코드',\n",
       "       '전문정비사업자_시군구코드'],\n",
       "      dtype='object')"
      ]
     },
     "execution_count": 686,
     "metadata": {},
     "output_type": "execute_result"
    }
   ],
   "source": [
    "total_err.columns"
   ]
  },
  {
   "cell_type": "code",
   "execution_count": 687,
   "metadata": {},
   "outputs": [
    {
     "data": {
      "text/plain": [
       "(375556, 46)"
      ]
     },
     "execution_count": 687,
     "metadata": {},
     "output_type": "execute_result"
    }
   ],
   "source": [
    "total_err = total_err.drop('주행거리', axis=1)\n",
    "total_err.shape"
   ]
  },
  {
   "cell_type": "markdown",
   "metadata": {},
   "source": [
    "##### 연료 수정\n",
    "- LPG, LPG(액화석유가스) -> LPG로 통합"
   ]
  },
  {
   "cell_type": "code",
   "execution_count": 688,
   "metadata": {},
   "outputs": [
    {
     "data": {
      "text/plain": [
       "array(['경유', nan, 'LPG(액화석유가스)', '휘발유', 'LPG', '하이브리드(휘발유+전기)', 'CNG',\n",
       "       '하이브리드(LPG+전기)', '기타연료'], dtype=object)"
      ]
     },
     "execution_count": 688,
     "metadata": {},
     "output_type": "execute_result"
    }
   ],
   "source": [
    "total_err['연료'].unique()"
   ]
  },
  {
   "cell_type": "code",
   "execution_count": 689,
   "metadata": {},
   "outputs": [
    {
     "data": {
      "text/plain": [
       "array(['경유', nan, 'LPG', '휘발유', '하이브리드(휘발유+전기)', 'CNG', '하이브리드(LPG+전기)',\n",
       "       '기타연료'], dtype=object)"
      ]
     },
     "execution_count": 689,
     "metadata": {},
     "output_type": "execute_result"
    }
   ],
   "source": [
    "total_err.loc[total_err['연료'] == 'LPG(액화석유가스)', '연료'] = 'LPG'\n",
    "total_err['연료'].unique()"
   ]
  },
  {
   "cell_type": "markdown",
   "metadata": {},
   "source": [
    "##### 연식 수정"
   ]
  },
  {
   "cell_type": "code",
   "execution_count": 690,
   "metadata": {},
   "outputs": [
    {
     "data": {
      "text/plain": [
       "(55,)"
      ]
     },
     "execution_count": 690,
     "metadata": {},
     "output_type": "execute_result"
    }
   ],
   "source": [
    "total_err.loc[total_err['연식'].str.contains('-', regex=False, na=False), '연식'].shape"
   ]
  },
  {
   "cell_type": "code",
   "execution_count": 691,
   "metadata": {},
   "outputs": [
    {
     "data": {
      "text/plain": [
       "128168    2012-11-6\n",
       "128169    2012-11-6\n",
       "128170    2012-11-6\n",
       "128171    2012-11-6\n",
       "128172    2012-11-6\n",
       "Name: 연식, dtype: object"
      ]
     },
     "execution_count": 691,
     "metadata": {},
     "output_type": "execute_result"
    }
   ],
   "source": [
    "total_err.loc[total_err['연식'].str.contains('-', regex=False, na=False), '연식'].head()"
   ]
  },
  {
   "cell_type": "code",
   "execution_count": 692,
   "metadata": {},
   "outputs": [],
   "source": [
    "total_err.loc[total_err['연식'].str.contains('-', regex=False, na=False), '연식'] = total_err.loc[total_err['연식'].str.contains('-', regex=False, na=False), '연식'].str.split('-').str[0]"
   ]
  },
  {
   "cell_type": "code",
   "execution_count": 693,
   "metadata": {},
   "outputs": [
    {
     "data": {
      "text/plain": [
       "(0,)"
      ]
     },
     "execution_count": 693,
     "metadata": {},
     "output_type": "execute_result"
    }
   ],
   "source": [
    "total_err.loc[total_err['연식'].str.contains('-', regex=False, na=False), '연식'].shape"
   ]
  },
  {
   "cell_type": "code",
   "execution_count": 694,
   "metadata": {},
   "outputs": [
    {
     "data": {
      "text/plain": [
       "'2012'"
      ]
     },
     "execution_count": 694,
     "metadata": {},
     "output_type": "execute_result"
    }
   ],
   "source": [
    "total_err.loc[128172, '연식']"
   ]
  },
  {
   "cell_type": "code",
   "execution_count": 695,
   "metadata": {},
   "outputs": [],
   "source": [
    "total_err['연식'] = pd.to_numeric(total_err['연식'], errors='coerce')"
   ]
  },
  {
   "cell_type": "markdown",
   "metadata": {},
   "source": [
    "#### 2\\. 정기정밀 검사 병합"
   ]
  },
  {
   "cell_type": "code",
   "execution_count": 696,
   "metadata": {},
   "outputs": [
    {
     "data": {
      "text/plain": [
       "Index(['차량번호', '차대번호', '점검일자', '전문정비사업소명', '정비접수번호', '정비내용', '정비부품명', '제원관리번호',\n",
       "       '연식', '차종', '용도', '법정동코드', '배출가스등급', '연료', '제작사명', '차종유형', '차명',\n",
       "       '자동차형식', '엔진형식', '총중량', '배기량', '엔진출력', '시도명', '시군구명', '일련번호', '중량',\n",
       "       '엔진배기량', '제작일자', '최초등록일', '전문정비사업자코드', '정비여부', '시도코드', '시군구코드', '상세일자',\n",
       "       '교환유무', '점검조정유무', '분해탈착유무', '정비불가능유무', '생성일자', '생성자명', '최종수정일자',\n",
       "       '최종수정자명', '전문정비사업자_시도명', '전문정비사업자_시군구명', '전문정비사업자_시도코드',\n",
       "       '전문정비사업자_시군구코드'],\n",
       "      dtype='object')"
      ]
     },
     "execution_count": 696,
     "metadata": {},
     "output_type": "execute_result"
    }
   ],
   "source": [
    "total_err.columns"
   ]
  },
  {
   "cell_type": "code",
   "execution_count": 697,
   "metadata": {},
   "outputs": [
    {
     "data": {
      "text/plain": [
       "dtype('int64')"
      ]
     },
     "execution_count": 697,
     "metadata": {},
     "output_type": "execute_result"
    }
   ],
   "source": [
    "total_err['점검일자'].dtype"
   ]
  },
  {
   "cell_type": "code",
   "execution_count": 698,
   "metadata": {},
   "outputs": [
    {
     "data": {
      "text/plain": [
       "0    20080110\n",
       "1    20080123\n",
       "2    20080108\n",
       "3    20080118\n",
       "4    20080118\n",
       "Name: 점검일자, dtype: int64"
      ]
     },
     "execution_count": 698,
     "metadata": {},
     "output_type": "execute_result"
    }
   ],
   "source": [
    "total_err['점검일자'].head()"
   ]
  },
  {
   "cell_type": "code",
   "execution_count": 699,
   "metadata": {},
   "outputs": [
    {
     "data": {
      "text/plain": [
       "Index(['차대번호', '검사일자', '주행거리', '검사종류', '검사방법', '검사판정', '무부하매연측정치1',\n",
       "       '무부하매연허용치1', '무부하매연판정1', '무부하매연측정치2', '무부하매연허용치2', '무부하매연판정2',\n",
       "       '무부하매연측정치3', '무부하매연허용치3', '무부하매연판정3', '무부하매연측정치4', '무부하매연허용치4',\n",
       "       '무부하매연판정4', '무부하매연측정치5', '무부하매연허용치5', '무부하매연판정5', '무부하매연측정치6',\n",
       "       '무부하매연허용치6', '무부하매연판정6', '정기정밀구분'],\n",
       "      dtype='object')"
      ]
     },
     "execution_count": 699,
     "metadata": {},
     "output_type": "execute_result"
    }
   ],
   "source": [
    "ins.columns"
   ]
  },
  {
   "cell_type": "markdown",
   "metadata": {},
   "source": [
    "##### 검사일자 타입 변경"
   ]
  },
  {
   "cell_type": "code",
   "execution_count": 700,
   "metadata": {},
   "outputs": [
    {
     "data": {
      "text/plain": [
       "dtype('O')"
      ]
     },
     "execution_count": 700,
     "metadata": {},
     "output_type": "execute_result"
    }
   ],
   "source": [
    "ins['검사일자'].dtype"
   ]
  },
  {
   "cell_type": "code",
   "execution_count": 701,
   "metadata": {},
   "outputs": [
    {
     "data": {
      "text/plain": [
       "0    2019-10-07 00:00:00.000000\n",
       "1    2019-08-28 00:00:00.000000\n",
       "2    2019-08-28 00:00:00.000000\n",
       "3    2019-08-28 00:00:00.000000\n",
       "4    2019-08-28 00:00:00.000000\n",
       "Name: 검사일자, dtype: object"
      ]
     },
     "execution_count": 701,
     "metadata": {},
     "output_type": "execute_result"
    }
   ],
   "source": [
    "ins['검사일자'].head()"
   ]
  },
  {
   "cell_type": "code",
   "execution_count": 702,
   "metadata": {},
   "outputs": [
    {
     "data": {
      "text/plain": [
       "0    20191007\n",
       "1    20190828\n",
       "2    20190828\n",
       "3    20190828\n",
       "4    20190828\n",
       "Name: 검사일자, dtype: int64"
      ]
     },
     "execution_count": 702,
     "metadata": {},
     "output_type": "execute_result"
    }
   ],
   "source": [
    "# 1m 45.7s\n",
    "ins['검사일자'] = pd.to_datetime(ins['검사일자'], errors='coerce')\n",
    "ins['검사일자'] = ins['검사일자'].astype('str')\n",
    "ins['검사일자'] = ins['검사일자'].str.replace('-', '')\n",
    "ins['검사일자'] = pd.to_numeric(ins['검사일자'], errors='coerce')\n",
    "ins['검사일자'].head()"
   ]
  },
  {
   "cell_type": "code",
   "execution_count": 703,
   "metadata": {},
   "outputs": [
    {
     "data": {
      "text/plain": [
       "array(['정기검사', '재검사(2부재검사)', '정기(경과)검사', '재검사(1부재검사)', '특정재검사(배출)',\n",
       "       '종합검사(경과)', '2부재검사(종합)', '종합검사', '정밀검사', '특정검사', '관능재검사', '배출재검사',\n",
       "       '정밀검사(경과)', '특정재검사(관능)', '특정검사(경과)', '1부재검사(종합)', '종합(정밀)',\n",
       "       '종합(정밀) 2부재검사', '종합(경과:정밀)', '종합(정밀) 1부재검사', '구조변경검사', '배출재검사(구변)',\n",
       "       '9999', '재검사(관능)', '재검사(배출)', '관능재검사(임시)', '임시검사'], dtype=object)"
      ]
     },
     "execution_count": 703,
     "metadata": {},
     "output_type": "execute_result"
    }
   ],
   "source": [
    "ins['검사종류'].unique()"
   ]
  },
  {
   "cell_type": "code",
   "execution_count": 704,
   "metadata": {},
   "outputs": [
    {
     "data": {
      "text/plain": [
       "((375556, 46), (173740086, 25))"
      ]
     },
     "execution_count": 704,
     "metadata": {},
     "output_type": "execute_result"
    }
   ],
   "source": [
    "total_err.shape, ins.shape"
   ]
  },
  {
   "cell_type": "code",
   "execution_count": 705,
   "metadata": {},
   "outputs": [
    {
     "data": {
      "text/plain": [
       "(5452157, 70)"
      ]
     },
     "execution_count": 705,
     "metadata": {},
     "output_type": "execute_result"
    }
   ],
   "source": [
    "# 1m 53.1s\n",
    "pr4 = total_err.merge(ins, on='차대번호', how='left')\n",
    "pr4.shape"
   ]
  },
  {
   "cell_type": "markdown",
   "metadata": {},
   "source": [
    "### 시도명, 전문정비사업자_시도명 수정\n",
    "- 강원도 -> 강원특별자치도\n",
    "- 제주도 -> 제주특별자치도"
   ]
  },
  {
   "cell_type": "code",
   "execution_count": 706,
   "metadata": {},
   "outputs": [
    {
     "data": {
      "text/plain": [
       "Index(['차량번호', '차대번호', '점검일자', '전문정비사업소명', '정비접수번호', '정비내용', '정비부품명', '제원관리번호',\n",
       "       '연식', '차종', '용도', '법정동코드', '배출가스등급', '연료', '제작사명', '차종유형', '차명',\n",
       "       '자동차형식', '엔진형식', '총중량', '배기량', '엔진출력', '시도명', '시군구명', '일련번호', '중량',\n",
       "       '엔진배기량', '제작일자', '최초등록일', '전문정비사업자코드', '정비여부', '시도코드', '시군구코드', '상세일자',\n",
       "       '교환유무', '점검조정유무', '분해탈착유무', '정비불가능유무', '생성일자', '생성자명', '최종수정일자',\n",
       "       '최종수정자명', '전문정비사업자_시도명', '전문정비사업자_시군구명', '전문정비사업자_시도코드',\n",
       "       '전문정비사업자_시군구코드'],\n",
       "      dtype='object')"
      ]
     },
     "execution_count": 706,
     "metadata": {},
     "output_type": "execute_result"
    }
   ],
   "source": [
    "total_err.columns"
   ]
  },
  {
   "cell_type": "code",
   "execution_count": 707,
   "metadata": {},
   "outputs": [
    {
     "name": "stdout",
     "output_type": "stream",
     "text": [
      "['경기도' nan '부산광역시' '경상북도' '충청북도' '울산광역시' '인천광역시' '전라남도' '충청남도' '전라북도'\n",
      " '경상남도' '대구광역시' '제주특별자치도' '강원특별자치도' '대전광역시' '서울특별시' '광주광역시' '세종특별자치시'\n",
      " '강원도' '제주도']\n",
      "['경기도' nan '부산광역시' '경상북도' '충청북도' '울산광역시' '인천광역시' '전라남도' '충청남도' '전라북도'\n",
      " '경상남도' '대구광역시' '제주특별자치도' '강원특별자치도' '대전광역시' '서울특별시' '광주광역시' '세종특별자치시']\n"
     ]
    }
   ],
   "source": [
    "print(total_err['시도명'].unique())\n",
    "total_err.loc[total_err['시도명'] == '강원도', '시도명'] = '강원특별자치도'\n",
    "total_err.loc[total_err['시도명'] == '제주도', '시도명'] = '제주특별자치도'\n",
    "print(total_err['시도명'].unique())"
   ]
  },
  {
   "cell_type": "code",
   "execution_count": 708,
   "metadata": {},
   "outputs": [
    {
     "name": "stdout",
     "output_type": "stream",
     "text": [
      "['경기도' nan '부산광역시' '경상북도' '충청북도' '울산광역시' '인천광역시' '전라남도' '충청남도' '전라북도'\n",
      " '경상남도' '대구광역시' '제주특별자치도' '강원특별자치도' '대전광역시' '서울특별시' '광주광역시' '세종특별자치시'\n",
      " '강원도' '제주도']\n",
      "['경기도' nan '부산광역시' '경상북도' '충청북도' '울산광역시' '인천광역시' '전라남도' '충청남도' '전라북도'\n",
      " '경상남도' '대구광역시' '제주특별자치도' '강원특별자치도' '대전광역시' '서울특별시' '광주광역시' '세종특별자치시']\n"
     ]
    }
   ],
   "source": [
    "print(pr4['시도명'].unique())\n",
    "pr4.loc[pr4['시도명'] == '강원도', '시도명'] = '강원특별자치도'\n",
    "pr4.loc[pr4['시도명'] == '제주도', '시도명'] = '제주특별자치도'\n",
    "print(pr4['시도명'].unique())"
   ]
  },
  {
   "cell_type": "code",
   "execution_count": 709,
   "metadata": {},
   "outputs": [
    {
     "name": "stdout",
     "output_type": "stream",
     "text": [
      "[nan '대구광역시' '충청남도' '경기도' '서울특별시' '광주광역시' '전라북도' '경상남도' '대전광역시' '경상북도'\n",
      " '강원도' '인천광역시' '울산광역시' '충청북도' '부산광역시' '전라남도' '세종특별자치시' '제주특별자치도']\n",
      "[nan '대구광역시' '충청남도' '경기도' '서울특별시' '광주광역시' '전라북도' '경상남도' '대전광역시' '경상북도'\n",
      " '강원특별자치도' '인천광역시' '울산광역시' '충청북도' '부산광역시' '전라남도' '세종특별자치시' '제주특별자치도']\n"
     ]
    }
   ],
   "source": [
    "# 전문정비사업자_시도명\n",
    "print(total_err['전문정비사업자_시도명'].unique())\n",
    "total_err.loc[total_err['전문정비사업자_시도명'] == '강원도', '전문정비사업자_시도명'] = '강원특별자치도'\n",
    "print(total_err['전문정비사업자_시도명'].unique())"
   ]
  },
  {
   "cell_type": "code",
   "execution_count": 710,
   "metadata": {},
   "outputs": [
    {
     "name": "stdout",
     "output_type": "stream",
     "text": [
      "[nan '대구광역시' '충청남도' '경기도' '서울특별시' '광주광역시' '전라북도' '경상남도' '대전광역시' '경상북도'\n",
      " '강원도' '인천광역시' '울산광역시' '충청북도' '부산광역시' '전라남도' '세종특별자치시' '제주특별자치도']\n",
      "[nan '대구광역시' '충청남도' '경기도' '서울특별시' '광주광역시' '전라북도' '경상남도' '대전광역시' '경상북도'\n",
      " '강원특별자치도' '인천광역시' '울산광역시' '충청북도' '부산광역시' '전라남도' '세종특별자치시' '제주특별자치도']\n"
     ]
    }
   ],
   "source": [
    "# 전문정비사업자_시도명\n",
    "print(pr4['전문정비사업자_시도명'].unique())\n",
    "pr4.loc[pr4['전문정비사업자_시도명'] == '강원도', '전문정비사업자_시도명'] = '강원특별자치도'\n",
    "print(pr4['전문정비사업자_시도명'].unique())"
   ]
  },
  {
   "cell_type": "code",
   "execution_count": 711,
   "metadata": {},
   "outputs": [
    {
     "data": {
      "text/plain": [
       "set()"
      ]
     },
     "execution_count": 711,
     "metadata": {},
     "output_type": "execute_result"
    }
   ],
   "source": [
    "set(pr4['시도명'].unique()) - set(pr4['전문정비사업자_시도명'].unique())"
   ]
  },
  {
   "cell_type": "markdown",
   "metadata": {},
   "source": [
    "### [출력] 과제4 전처리 완료"
   ]
  },
  {
   "cell_type": "code",
   "execution_count": 712,
   "metadata": {},
   "outputs": [
    {
     "data": {
      "text/plain": [
       "'20240119_AM_104022'"
      ]
     },
     "execution_count": 712,
     "metadata": {},
     "output_type": "execute_result"
    }
   ],
   "source": [
    "today_date_dtl = datetime.today().strftime('%Y%m%d_%p_%I%M%S')\n",
    "today_date_dtl"
   ]
  },
  {
   "cell_type": "code",
   "execution_count": 713,
   "metadata": {},
   "outputs": [
    {
     "name": "stdout",
     "output_type": "stream",
     "text": [
      "D:/data/processing/big3/raw/BD4\\제4_전처리완료_전문정비통합_20240119_AM_104022.csv\n"
     ]
    }
   ],
   "source": [
    "# 41.4s\n",
    "total_err.to_csv(os.path.join(raw4_fold, f'과제4_전처리완료_전문정비통합_{today_date_dtl}.csv'), index=False)\n",
    "print(os.path.join(raw4_fold, f'제4_전처리완료_전문정비통합_{today_date_dtl}.csv'))"
   ]
  },
  {
   "cell_type": "code",
   "execution_count": 714,
   "metadata": {},
   "outputs": [
    {
     "name": "stdout",
     "output_type": "stream",
     "text": [
      "D:/data/processing/big3/raw/BD4\\과제4_전처리완료_20240119_AM_104022.csv\n"
     ]
    }
   ],
   "source": [
    "# 41.4s\n",
    "pr4.to_csv(os.path.join(raw4_fold, f'과제4_전처리완료_{today_date_dtl}.csv'), index=False)\n",
    "print(os.path.join(raw4_fold, f'과제4_전처리완료_{today_date_dtl}.csv'))"
   ]
  },
  {
   "cell_type": "markdown",
   "metadata": {},
   "source": [
    "### [로드] 과제4 전처리 완료\n"
   ]
  },
  {
   "cell_type": "code",
   "execution_count": 715,
   "metadata": {},
   "outputs": [],
   "source": [
    "# # 과제4_전처리완료_전문정비통합_20240109_AM_025533 : STD_CEG_GRD_LST로 생성\n",
    "\n",
    "# # 1.2s\n",
    "# name = '과제4_전처리완료_전문정비통합_20240109_AM_025533'\n",
    "# file_name = f'{name}.csv'\n",
    "# total_err = pd.read_csv(os.path.join(raw4_fold, file_name))\n",
    "# total_err.info()"
   ]
  },
  {
   "cell_type": "code",
   "execution_count": 716,
   "metadata": {},
   "outputs": [],
   "source": [
    "# # 과제4_전처리완료_20231221_PM_033316 : 등록&제원로 생성\n",
    "# # 과제4_전처리완료_20240108_PM_100718 : STD_CEG_GRD_LST로 생성\n",
    "\n",
    "# # 23.5s\n",
    "# name = '과제4_전처리완료_20240108_PM_100718'\n",
    "# file_name = f'{name}.csv'\n",
    "# pr4 = pd.read_csv(os.path.join(raw4_fold, file_name))\n",
    "# pr4.info()"
   ]
  },
  {
   "cell_type": "code",
   "execution_count": 717,
   "metadata": {},
   "outputs": [
    {
     "data": {
      "text/plain": [
       "Index(['차량번호', '차대번호', '점검일자', '전문정비사업소명', '정비접수번호', '정비내용', '정비부품명', '제원관리번호',\n",
       "       '연식', '차종', '용도', '법정동코드', '배출가스등급', '연료', '제작사명', '차종유형', '차명',\n",
       "       '자동차형식', '엔진형식', '총중량', '배기량', '엔진출력', '시도명', '시군구명', '일련번호', '중량',\n",
       "       '엔진배기량', '제작일자', '최초등록일', '전문정비사업자코드', '정비여부', '시도코드', '시군구코드', '상세일자',\n",
       "       '교환유무', '점검조정유무', '분해탈착유무', '정비불가능유무', '생성일자', '생성자명', '최종수정일자',\n",
       "       '최종수정자명', '전문정비사업자_시도명', '전문정비사업자_시군구명', '전문정비사업자_시도코드',\n",
       "       '전문정비사업자_시군구코드', '검사일자', '주행거리', '검사종류', '검사방법', '검사판정', '무부하매연측정치1',\n",
       "       '무부하매연허용치1', '무부하매연판정1', '무부하매연측정치2', '무부하매연허용치2', '무부하매연판정2',\n",
       "       '무부하매연측정치3', '무부하매연허용치3', '무부하매연판정3', '무부하매연측정치4', '무부하매연허용치4',\n",
       "       '무부하매연판정4', '무부하매연측정치5', '무부하매연허용치5', '무부하매연판정5', '무부하매연측정치6',\n",
       "       '무부하매연허용치6', '무부하매연판정6', '정기정밀구분'],\n",
       "      dtype='object')"
      ]
     },
     "execution_count": 717,
     "metadata": {},
     "output_type": "execute_result"
    }
   ],
   "source": [
    "pr4.columns"
   ]
  },
  {
   "cell_type": "code",
   "execution_count": 718,
   "metadata": {},
   "outputs": [
    {
     "data": {
      "text/plain": [
       "array(['엔진계통', '연료장치', '각종센서', '흡기계통', '배출가스재순환장치', '배출가스전환장치', '배기계통',\n",
       "       '점화계통', '연료증발가스방지장치', '블로바이가스환원장치', nan], dtype=object)"
      ]
     },
     "execution_count": 718,
     "metadata": {},
     "output_type": "execute_result"
    }
   ],
   "source": [
    "pr4['정비내용'].unique()"
   ]
  },
  {
   "cell_type": "code",
   "execution_count": 719,
   "metadata": {},
   "outputs": [
    {
     "data": {
      "text/plain": [
       "array(['연료휠터', '엔진오일', '연료압력조절기', '냉각수온센서', '연료분사펌프(조속기조정,봉인)', '에어크리너',\n",
       "       '엔진정비', '노즐(디젤인젝터포함)', 'EGR밸브', '기화기(믹서포함)',\n",
       "       '정화용촉매(CatalyticConverter)', '소음기', '냉각계통', '배기관', 'EGR제어용서머밸브',\n",
       "       '공연비(혼합비)', '점화시기(분사시기)조정', '점화플러그', '공회전속도', '디젤산화촉매(DOC)',\n",
       "       '공기유량센서', '과급기', '산소센서', '점화배선', '드로틀바디',\n",
       "       '정화조절밸브(PurgeControlValve)', '블로바이가스호스', '캐니스터및필터', '인젝터(휘발유)',\n",
       "       '드로틀포지션센서', '배전기(Distributor)', '전자제어장치(ECU)', 'PCV밸브',\n",
       "       '매연여과장치(DPF)', nan], dtype=object)"
      ]
     },
     "execution_count": 719,
     "metadata": {},
     "output_type": "execute_result"
    }
   ],
   "source": [
    "pr4['정비부품명'].unique()"
   ]
  },
  {
   "cell_type": "markdown",
   "metadata": {},
   "source": [
    "## 분석"
   ]
  },
  {
   "cell_type": "code",
   "execution_count": 720,
   "metadata": {},
   "outputs": [
    {
     "data": {
      "text/plain": [
       "연료\n",
       "경유               3836747\n",
       "NaN              1279351\n",
       "휘발유               196628\n",
       "LPG               134535\n",
       "하이브리드(휘발유+전기)       4620\n",
       "CNG                  125\n",
       "기타연료                 112\n",
       "하이브리드(LPG+전기)         39\n",
       "Name: count, dtype: int64"
      ]
     },
     "execution_count": 720,
     "metadata": {},
     "output_type": "execute_result"
    }
   ],
   "source": [
    "pr4['연료'].value_counts(dropna=False)"
   ]
  },
  {
   "cell_type": "code",
   "execution_count": 721,
   "metadata": {},
   "outputs": [
    {
     "data": {
      "text/plain": [
       "7355"
      ]
     },
     "execution_count": 721,
     "metadata": {},
     "output_type": "execute_result"
    }
   ],
   "source": [
    "total_err['차대번호'].isnull().sum()"
   ]
  },
  {
   "cell_type": "code",
   "execution_count": 722,
   "metadata": {},
   "outputs": [
    {
     "data": {
      "text/plain": [
       "(101528, 101388)"
      ]
     },
     "execution_count": 722,
     "metadata": {},
     "output_type": "execute_result"
    }
   ],
   "source": [
    "len(total_err['차량번호'].unique()), len(total_err['차대번호'].unique())"
   ]
  },
  {
   "cell_type": "code",
   "execution_count": 723,
   "metadata": {},
   "outputs": [
    {
     "data": {
      "text/html": [
       "<div>\n",
       "<style scoped>\n",
       "    .dataframe tbody tr th:only-of-type {\n",
       "        vertical-align: middle;\n",
       "    }\n",
       "\n",
       "    .dataframe tbody tr th {\n",
       "        vertical-align: top;\n",
       "    }\n",
       "\n",
       "    .dataframe thead th {\n",
       "        text-align: right;\n",
       "    }\n",
       "</style>\n",
       "<table border=\"1\" class=\"dataframe\">\n",
       "  <thead>\n",
       "    <tr style=\"text-align: right;\">\n",
       "      <th></th>\n",
       "      <th>전문정비사업자_시도명</th>\n",
       "      <th>전문정비사업자_시군구명</th>\n",
       "      <th>전문정비사업소명</th>\n",
       "      <th>차대번호</th>\n",
       "      <th>정비차량대수</th>\n",
       "      <th>정비건수</th>\n",
       "    </tr>\n",
       "  </thead>\n",
       "  <tbody>\n",
       "    <tr>\n",
       "      <th>0</th>\n",
       "      <td>강원특별자치도</td>\n",
       "      <td>강릉시</td>\n",
       "      <td>유산모터스</td>\n",
       "      <td>KLAGA691DFB006781</td>\n",
       "      <td>1</td>\n",
       "      <td>3</td>\n",
       "    </tr>\n",
       "    <tr>\n",
       "      <th>1</th>\n",
       "      <td>강원특별자치도</td>\n",
       "      <td>강릉시</td>\n",
       "      <td>유산모터스</td>\n",
       "      <td>KLAGA691DFB010502</td>\n",
       "      <td>1</td>\n",
       "      <td>3</td>\n",
       "    </tr>\n",
       "    <tr>\n",
       "      <th>2</th>\n",
       "      <td>강원특별자치도</td>\n",
       "      <td>강릉시</td>\n",
       "      <td>유산모터스</td>\n",
       "      <td>KLAJA69YDBK150733</td>\n",
       "      <td>1</td>\n",
       "      <td>3</td>\n",
       "    </tr>\n",
       "    <tr>\n",
       "      <th>3</th>\n",
       "      <td>강원특별자치도</td>\n",
       "      <td>강릉시</td>\n",
       "      <td>유산모터스</td>\n",
       "      <td>KLALA69PD7B107512</td>\n",
       "      <td>1</td>\n",
       "      <td>3</td>\n",
       "    </tr>\n",
       "    <tr>\n",
       "      <th>4</th>\n",
       "      <td>강원특별자치도</td>\n",
       "      <td>강릉시</td>\n",
       "      <td>유산모터스</td>\n",
       "      <td>KLALA69PD8B400983</td>\n",
       "      <td>1</td>\n",
       "      <td>2</td>\n",
       "    </tr>\n",
       "  </tbody>\n",
       "</table>\n",
       "</div>"
      ],
      "text/plain": [
       "  전문정비사업자_시도명 전문정비사업자_시군구명 전문정비사업소명               차대번호  정비차량대수  정비건수\n",
       "0     강원특별자치도          강릉시    유산모터스  KLAGA691DFB006781       1     3\n",
       "1     강원특별자치도          강릉시    유산모터스  KLAGA691DFB010502       1     3\n",
       "2     강원특별자치도          강릉시    유산모터스  KLAJA69YDBK150733       1     3\n",
       "3     강원특별자치도          강릉시    유산모터스  KLALA69PD7B107512       1     3\n",
       "4     강원특별자치도          강릉시    유산모터스  KLALA69PD8B400983       1     2"
      ]
     },
     "execution_count": 723,
     "metadata": {},
     "output_type": "execute_result"
    }
   ],
   "source": [
    "# 2.9s\n",
    "srt1 = total_err.groupby(['전문정비사업자_시도명', '전문정비사업자_시군구명', '전문정비사업소명', '차대번호'], dropna=False).agg({'차량번호':lambda x:len(x.unique()), '점검일자':'count'}).reset_index()\n",
    "srt1 = srt1.rename(columns={'차량번호':'정비차량대수', '점검일자':'정비건수'})\n",
    "srt1.head()"
   ]
  },
  {
   "cell_type": "code",
   "execution_count": 724,
   "metadata": {},
   "outputs": [
    {
     "data": {
      "text/plain": [
       "(707, 6)"
      ]
     },
     "execution_count": 724,
     "metadata": {},
     "output_type": "execute_result"
    }
   ],
   "source": [
    "srt1.drop_duplicates(['전문정비사업자_시도명', '전문정비사업자_시군구명', '전문정비사업소명']).shape"
   ]
  },
  {
   "cell_type": "code",
   "execution_count": 725,
   "metadata": {},
   "outputs": [
    {
     "data": {
      "text/plain": [
       "정비차량대수    149674\n",
       "정비건수      375556\n",
       "dtype: int64"
      ]
     },
     "execution_count": 725,
     "metadata": {},
     "output_type": "execute_result"
    }
   ],
   "source": [
    "srt1[['정비차량대수', '정비건수']].sum()"
   ]
  },
  {
   "cell_type": "code",
   "execution_count": 726,
   "metadata": {},
   "outputs": [
    {
     "data": {
      "text/html": [
       "<div>\n",
       "<style scoped>\n",
       "    .dataframe tbody tr th:only-of-type {\n",
       "        vertical-align: middle;\n",
       "    }\n",
       "\n",
       "    .dataframe tbody tr th {\n",
       "        vertical-align: top;\n",
       "    }\n",
       "\n",
       "    .dataframe thead th {\n",
       "        text-align: right;\n",
       "    }\n",
       "</style>\n",
       "<table border=\"1\" class=\"dataframe\">\n",
       "  <thead>\n",
       "    <tr style=\"text-align: right;\">\n",
       "      <th></th>\n",
       "      <th>전문정비사업자_시도명</th>\n",
       "      <th>전문정비사업자_시군구명</th>\n",
       "      <th>전문정비사업소명</th>\n",
       "      <th>차대번호</th>\n",
       "      <th>정비차량대수</th>\n",
       "      <th>정비건수</th>\n",
       "    </tr>\n",
       "  </thead>\n",
       "  <tbody>\n",
       "    <tr>\n",
       "      <th>799</th>\n",
       "      <td>강원특별자치도</td>\n",
       "      <td>원주시</td>\n",
       "      <td>스피드메이트대현점</td>\n",
       "      <td>KMHFT41CP2A201909</td>\n",
       "      <td>2</td>\n",
       "      <td>6</td>\n",
       "    </tr>\n",
       "    <tr>\n",
       "      <th>1500</th>\n",
       "      <td>강원특별자치도</td>\n",
       "      <td>춘천시</td>\n",
       "      <td>진성종합정비공장</td>\n",
       "      <td>KMHWP81JP2U446629</td>\n",
       "      <td>2</td>\n",
       "      <td>2</td>\n",
       "    </tr>\n",
       "    <tr>\n",
       "      <th>1566</th>\n",
       "      <td>강원특별자치도</td>\n",
       "      <td>춘천시</td>\n",
       "      <td>진성종합정비공장</td>\n",
       "      <td>KPBLC3AC11P111272</td>\n",
       "      <td>2</td>\n",
       "      <td>2</td>\n",
       "    </tr>\n",
       "    <tr>\n",
       "      <th>5548</th>\n",
       "      <td>경기도</td>\n",
       "      <td>의정부시</td>\n",
       "      <td>애니카랜드 호원점</td>\n",
       "      <td>KMHMJ81VP4U237727</td>\n",
       "      <td>2</td>\n",
       "      <td>4</td>\n",
       "    </tr>\n",
       "    <tr>\n",
       "      <th>5551</th>\n",
       "      <td>경기도</td>\n",
       "      <td>의정부시</td>\n",
       "      <td>애니카랜드 호원점</td>\n",
       "      <td>KMHSD81VP2U343131</td>\n",
       "      <td>2</td>\n",
       "      <td>5</td>\n",
       "    </tr>\n",
       "  </tbody>\n",
       "</table>\n",
       "</div>"
      ],
      "text/plain": [
       "     전문정비사업자_시도명 전문정비사업자_시군구명   전문정비사업소명               차대번호  정비차량대수  정비건수\n",
       "799      강원특별자치도          원주시  스피드메이트대현점  KMHFT41CP2A201909       2     6\n",
       "1500     강원특별자치도          춘천시   진성종합정비공장  KMHWP81JP2U446629       2     2\n",
       "1566     강원특별자치도          춘천시   진성종합정비공장  KPBLC3AC11P111272       2     2\n",
       "5548         경기도         의정부시  애니카랜드 호원점  KMHMJ81VP4U237727       2     4\n",
       "5551         경기도         의정부시  애니카랜드 호원점  KMHSD81VP2U343131       2     5"
      ]
     },
     "execution_count": 726,
     "metadata": {},
     "output_type": "execute_result"
    }
   ],
   "source": [
    "srt1.loc[srt1['정비차량대수'] != 1].head()"
   ]
  },
  {
   "cell_type": "code",
   "execution_count": 727,
   "metadata": {},
   "outputs": [
    {
     "data": {
      "text/html": [
       "<div>\n",
       "<style scoped>\n",
       "    .dataframe tbody tr th:only-of-type {\n",
       "        vertical-align: middle;\n",
       "    }\n",
       "\n",
       "    .dataframe tbody tr th {\n",
       "        vertical-align: top;\n",
       "    }\n",
       "\n",
       "    .dataframe thead th {\n",
       "        text-align: right;\n",
       "    }\n",
       "</style>\n",
       "<table border=\"1\" class=\"dataframe\">\n",
       "  <thead>\n",
       "    <tr style=\"text-align: right;\">\n",
       "      <th></th>\n",
       "      <th>전문정비사업자_시도명</th>\n",
       "      <th>전문정비사업자_시군구명</th>\n",
       "      <th>전문정비사업소명</th>\n",
       "      <th>차대번호</th>\n",
       "      <th>정비차량대수</th>\n",
       "      <th>정비건수</th>\n",
       "    </tr>\n",
       "  </thead>\n",
       "  <tbody>\n",
       "    <tr>\n",
       "      <th>799</th>\n",
       "      <td>강원특별자치도</td>\n",
       "      <td>원주시</td>\n",
       "      <td>스피드메이트대현점</td>\n",
       "      <td>KMHFT41CP2A201909</td>\n",
       "      <td>2</td>\n",
       "      <td>6</td>\n",
       "    </tr>\n",
       "    <tr>\n",
       "      <th>1500</th>\n",
       "      <td>강원특별자치도</td>\n",
       "      <td>춘천시</td>\n",
       "      <td>진성종합정비공장</td>\n",
       "      <td>KMHWP81JP2U446629</td>\n",
       "      <td>2</td>\n",
       "      <td>2</td>\n",
       "    </tr>\n",
       "    <tr>\n",
       "      <th>1566</th>\n",
       "      <td>강원특별자치도</td>\n",
       "      <td>춘천시</td>\n",
       "      <td>진성종합정비공장</td>\n",
       "      <td>KPBLC3AC11P111272</td>\n",
       "      <td>2</td>\n",
       "      <td>2</td>\n",
       "    </tr>\n",
       "    <tr>\n",
       "      <th>5548</th>\n",
       "      <td>경기도</td>\n",
       "      <td>의정부시</td>\n",
       "      <td>애니카랜드 호원점</td>\n",
       "      <td>KMHMJ81VP4U237727</td>\n",
       "      <td>2</td>\n",
       "      <td>4</td>\n",
       "    </tr>\n",
       "    <tr>\n",
       "      <th>5551</th>\n",
       "      <td>경기도</td>\n",
       "      <td>의정부시</td>\n",
       "      <td>애니카랜드 호원점</td>\n",
       "      <td>KMHSD81VP2U343131</td>\n",
       "      <td>2</td>\n",
       "      <td>5</td>\n",
       "    </tr>\n",
       "  </tbody>\n",
       "</table>\n",
       "</div>"
      ],
      "text/plain": [
       "     전문정비사업자_시도명 전문정비사업자_시군구명   전문정비사업소명               차대번호  정비차량대수  정비건수\n",
       "799      강원특별자치도          원주시  스피드메이트대현점  KMHFT41CP2A201909       2     6\n",
       "1500     강원특별자치도          춘천시   진성종합정비공장  KMHWP81JP2U446629       2     2\n",
       "1566     강원특별자치도          춘천시   진성종합정비공장  KPBLC3AC11P111272       2     2\n",
       "5548         경기도         의정부시  애니카랜드 호원점  KMHMJ81VP4U237727       2     4\n",
       "5551         경기도         의정부시  애니카랜드 호원점  KMHSD81VP2U343131       2     5"
      ]
     },
     "execution_count": 727,
     "metadata": {},
     "output_type": "execute_result"
    }
   ],
   "source": [
    "srt1.loc[(srt1['정비차량대수'] != 1) & (srt1['차대번호'].notnull())].head()"
   ]
  },
  {
   "cell_type": "code",
   "execution_count": 728,
   "metadata": {},
   "outputs": [
    {
     "data": {
      "text/plain": [
       "array([2, 4], dtype=int64)"
      ]
     },
     "execution_count": 728,
     "metadata": {},
     "output_type": "execute_result"
    }
   ],
   "source": [
    "srt1.loc[(srt1['정비차량대수'] != 1) & (srt1['차대번호'].notnull()), '정비차량대수'].unique()"
   ]
  },
  {
   "cell_type": "code",
   "execution_count": 729,
   "metadata": {},
   "outputs": [
    {
     "name": "stdout",
     "output_type": "stream",
     "text": [
      "차량번호 1개당 차대번호 여러개인 차량번호 개수 : 3213\n"
     ]
    }
   ],
   "source": [
    "# 차량번호 1개당 차대번호 여러개 존재하는지 확인\n",
    "temp = total_err.groupby(['차량번호']).agg({'차대번호':lambda x:len(x.unique())}).reset_index()\n",
    "print('차량번호 1개당 차대번호 여러개인 차량번호 개수 :', temp[temp['차대번호'] != 1].shape[0])"
   ]
  },
  {
   "cell_type": "code",
   "execution_count": 730,
   "metadata": {},
   "outputs": [
    {
     "name": "stdout",
     "output_type": "stream",
     "text": [
      "지역별 동일전문정비사업소명이 2개 이상인 전문정비사업소 수 : 33\n",
      "\n",
      "지역별 동일전문정비사업소명이 2개 이상인 전문정비사업소 리스트\n",
      "           전문정비사업소명  전문정비사업자_시도명\n",
      "11          (자)유승기업            2\n",
      "31         (주)동신공업사            2\n",
      "34         (주)동양공업사            2\n",
      "44      (주)사능자동차공업사            2\n",
      "77        (주)원진엠엔에스            2\n",
      "87    (주)중산자동차정비검사소            2\n",
      "99   (주)현대일산자동차정비센타            2\n",
      "114         1급청솔모터스            2\n",
      "124         e-디젤시스템            2\n",
      "173           국일카센타            2\n",
      "178       그린1급정비공업사            2\n",
      "196      남부자동차공업(주)            2\n",
      "210           대구부란자            2\n",
      "235        대한자동차공업사            2\n",
      "256      동일자동차공업(주)            2\n",
      "263          동환종합정비            2\n",
      "294      반야월자동차정비공장            2\n",
      "314       빛나는자동차공업사            2\n",
      "326        삼진자동차공업사            2\n",
      "330       상신정비공업(주)            2\n",
      "355       성서자동차검사정비            2\n",
      "356      성우자동차공업(주)            2\n",
      "358            성일디젤            2\n",
      "391      신대우종합정비(주)            2\n",
      "406    신흥자동차정비검사(주)            2\n",
      "558        진영자동차공업사            2\n",
      "581      충북1급자동차공업사            2\n",
      "596      카프자동차정비(주)            2\n",
      "627      한양자동차정비(주)            2\n",
      "653   현대자동차정비공업사(주)            2\n",
      "660            현성정비            2\n",
      "666       호림자동차검사정비            2\n",
      "671       화양검사정비사업소            2\n"
     ]
    }
   ],
   "source": [
    "# 동일한 전문정비사업소명이 다른 지역에도 존재하는지 확인\n",
    "temp = total_err.groupby(['전문정비사업소명']).agg({'전문정비사업자_시도명':lambda x:len(x.unique())}).reset_index()\n",
    "\n",
    "# 지역별 동일전문정비사업소명이 2개 이상인 샘플\n",
    "print('지역별 동일전문정비사업소명이 2개 이상인 전문정비사업소 수 :', temp[temp['전문정비사업자_시도명'] > 1].shape[0])\n",
    "print()\n",
    "print('지역별 동일전문정비사업소명이 2개 이상인 전문정비사업소 리스트')\n",
    "print(temp.loc[temp['전문정비사업자_시도명'] > 1, ['전문정비사업소명', '전문정비사업자_시도명']])"
   ]
  },
  {
   "cell_type": "markdown",
   "metadata": {},
   "source": [
    "### 4.1.1 STD_BD41_1_ERR_RES_RGN_CURSTT\n",
    "- 전문정비 사업자 지역별 현황\n",
    "    - 지역별 사업자 수, 검사수, 검사차량대수"
   ]
  },
  {
   "cell_type": "code",
   "execution_count": 731,
   "metadata": {},
   "outputs": [
    {
     "data": {
      "text/plain": [
       "Index(['전문정비사업자_시도명', '전문정비사업자_시군구명', '전문정비사업소명', '차대번호', '정비차량대수', '정비건수'], dtype='object')"
      ]
     },
     "execution_count": 731,
     "metadata": {},
     "output_type": "execute_result"
    }
   ],
   "source": [
    "srt1.columns"
   ]
  },
  {
   "cell_type": "code",
   "execution_count": 732,
   "metadata": {},
   "outputs": [
    {
     "data": {
      "text/html": [
       "<div>\n",
       "<style scoped>\n",
       "    .dataframe tbody tr th:only-of-type {\n",
       "        vertical-align: middle;\n",
       "    }\n",
       "\n",
       "    .dataframe tbody tr th {\n",
       "        vertical-align: top;\n",
       "    }\n",
       "\n",
       "    .dataframe thead th {\n",
       "        text-align: right;\n",
       "    }\n",
       "</style>\n",
       "<table border=\"1\" class=\"dataframe\">\n",
       "  <thead>\n",
       "    <tr style=\"text-align: right;\">\n",
       "      <th></th>\n",
       "      <th>시도</th>\n",
       "      <th>전문정비사업소_수</th>\n",
       "      <th>정비차량대수</th>\n",
       "      <th>정비건수</th>\n",
       "    </tr>\n",
       "  </thead>\n",
       "  <tbody>\n",
       "    <tr>\n",
       "      <th>0</th>\n",
       "      <td>강원특별자치도</td>\n",
       "      <td>14.00</td>\n",
       "      <td>1575.00</td>\n",
       "      <td>4381.00</td>\n",
       "    </tr>\n",
       "    <tr>\n",
       "      <th>1</th>\n",
       "      <td>경기도</td>\n",
       "      <td>55.00</td>\n",
       "      <td>4715.00</td>\n",
       "      <td>21735.00</td>\n",
       "    </tr>\n",
       "    <tr>\n",
       "      <th>2</th>\n",
       "      <td>경상남도</td>\n",
       "      <td>38.00</td>\n",
       "      <td>3087.00</td>\n",
       "      <td>8528.00</td>\n",
       "    </tr>\n",
       "    <tr>\n",
       "      <th>3</th>\n",
       "      <td>경상북도</td>\n",
       "      <td>45.00</td>\n",
       "      <td>5205.00</td>\n",
       "      <td>12248.00</td>\n",
       "    </tr>\n",
       "    <tr>\n",
       "      <th>4</th>\n",
       "      <td>광주광역시</td>\n",
       "      <td>16.00</td>\n",
       "      <td>1427.00</td>\n",
       "      <td>4545.00</td>\n",
       "    </tr>\n",
       "    <tr>\n",
       "      <th>5</th>\n",
       "      <td>대구광역시</td>\n",
       "      <td>39.00</td>\n",
       "      <td>6202.00</td>\n",
       "      <td>12611.00</td>\n",
       "    </tr>\n",
       "    <tr>\n",
       "      <th>6</th>\n",
       "      <td>대전광역시</td>\n",
       "      <td>22.00</td>\n",
       "      <td>3541.00</td>\n",
       "      <td>8321.00</td>\n",
       "    </tr>\n",
       "    <tr>\n",
       "      <th>7</th>\n",
       "      <td>부산광역시</td>\n",
       "      <td>17.00</td>\n",
       "      <td>2641.00</td>\n",
       "      <td>6691.00</td>\n",
       "    </tr>\n",
       "    <tr>\n",
       "      <th>8</th>\n",
       "      <td>서울특별시</td>\n",
       "      <td>76.00</td>\n",
       "      <td>8266.00</td>\n",
       "      <td>24463.00</td>\n",
       "    </tr>\n",
       "    <tr>\n",
       "      <th>9</th>\n",
       "      <td>세종특별자치시</td>\n",
       "      <td>3.00</td>\n",
       "      <td>392.00</td>\n",
       "      <td>1102.00</td>\n",
       "    </tr>\n",
       "    <tr>\n",
       "      <th>10</th>\n",
       "      <td>울산광역시</td>\n",
       "      <td>9.00</td>\n",
       "      <td>1598.00</td>\n",
       "      <td>6885.00</td>\n",
       "    </tr>\n",
       "    <tr>\n",
       "      <th>11</th>\n",
       "      <td>인천광역시</td>\n",
       "      <td>15.00</td>\n",
       "      <td>1160.00</td>\n",
       "      <td>1862.00</td>\n",
       "    </tr>\n",
       "    <tr>\n",
       "      <th>12</th>\n",
       "      <td>전라남도</td>\n",
       "      <td>29.00</td>\n",
       "      <td>2144.00</td>\n",
       "      <td>6637.00</td>\n",
       "    </tr>\n",
       "    <tr>\n",
       "      <th>13</th>\n",
       "      <td>전라북도</td>\n",
       "      <td>20.00</td>\n",
       "      <td>2754.00</td>\n",
       "      <td>5382.00</td>\n",
       "    </tr>\n",
       "    <tr>\n",
       "      <th>14</th>\n",
       "      <td>제주특별자치도</td>\n",
       "      <td>11.00</td>\n",
       "      <td>288.00</td>\n",
       "      <td>1737.00</td>\n",
       "    </tr>\n",
       "    <tr>\n",
       "      <th>15</th>\n",
       "      <td>충청남도</td>\n",
       "      <td>26.00</td>\n",
       "      <td>2937.00</td>\n",
       "      <td>7809.00</td>\n",
       "    </tr>\n",
       "    <tr>\n",
       "      <th>16</th>\n",
       "      <td>충청북도</td>\n",
       "      <td>20.00</td>\n",
       "      <td>3007.00</td>\n",
       "      <td>14082.00</td>\n",
       "    </tr>\n",
       "    <tr>\n",
       "      <th>17</th>\n",
       "      <td>NaN</td>\n",
       "      <td>252.00</td>\n",
       "      <td>98735.00</td>\n",
       "      <td>226537.00</td>\n",
       "    </tr>\n",
       "    <tr>\n",
       "      <th>18</th>\n",
       "      <td>합계</td>\n",
       "      <td>707.00</td>\n",
       "      <td>149674.00</td>\n",
       "      <td>375556.00</td>\n",
       "    </tr>\n",
       "  </tbody>\n",
       "</table>\n",
       "</div>"
      ],
      "text/plain": [
       "         시도  전문정비사업소_수    정비차량대수      정비건수\n",
       "0   강원특별자치도      14.00   1575.00   4381.00\n",
       "1       경기도      55.00   4715.00  21735.00\n",
       "2      경상남도      38.00   3087.00   8528.00\n",
       "3      경상북도      45.00   5205.00  12248.00\n",
       "4     광주광역시      16.00   1427.00   4545.00\n",
       "5     대구광역시      39.00   6202.00  12611.00\n",
       "6     대전광역시      22.00   3541.00   8321.00\n",
       "7     부산광역시      17.00   2641.00   6691.00\n",
       "8     서울특별시      76.00   8266.00  24463.00\n",
       "9   세종특별자치시       3.00    392.00   1102.00\n",
       "10    울산광역시       9.00   1598.00   6885.00\n",
       "11    인천광역시      15.00   1160.00   1862.00\n",
       "12     전라남도      29.00   2144.00   6637.00\n",
       "13     전라북도      20.00   2754.00   5382.00\n",
       "14  제주특별자치도      11.00    288.00   1737.00\n",
       "15     충청남도      26.00   2937.00   7809.00\n",
       "16     충청북도      20.00   3007.00  14082.00\n",
       "17      NaN     252.00  98735.00 226537.00\n",
       "18       합계     707.00 149674.00 375556.00"
      ]
     },
     "execution_count": 732,
     "metadata": {},
     "output_type": "execute_result"
    }
   ],
   "source": [
    "grp1 = srt1.groupby('전문정비사업자_시도명', dropna=False).agg({'전문정비사업소명':lambda x:len(x.unique()), '정비차량대수':'sum', '정비건수':'sum'}).reset_index()\n",
    "grp1 = grp1.rename(columns={'전문정비사업자_시도명':'시도', '전문정비사업소명':'전문정비사업소_수'})\n",
    "# grp1.loc[grp1.shape[0], ['시도', '전문정비사업소_수', '정비차량대수', '정비건수']] = ['합계', grp1['전문정비사업소_수'].sum(), grp1['정비차량대수'].sum(), grp1['정비건수'].sum()]\n",
    "grp1"
   ]
  },
  {
   "cell_type": "code",
   "execution_count": 733,
   "metadata": {},
   "outputs": [
    {
     "data": {
      "text/plain": [
       "정비차량대수    149674\n",
       "정비건수      375556\n",
       "dtype: int64"
      ]
     },
     "execution_count": 733,
     "metadata": {},
     "output_type": "execute_result"
    }
   ],
   "source": [
    "srt1[['정비차량대수', '정비건수']].sum()"
   ]
  },
  {
   "cell_type": "markdown",
   "metadata": {},
   "source": [
    "#### [출력] STD_BD41_1_ERR_RES_RGN_CURSTT"
   ]
  },
  {
   "cell_type": "code",
   "execution_count": 734,
   "metadata": {},
   "outputs": [
    {
     "data": {
      "text/plain": [
       "Index(['시도', '전문정비사업소_수', '정비차량대수', '정비건수'], dtype='object')"
      ]
     },
     "execution_count": 734,
     "metadata": {},
     "output_type": "execute_result"
    }
   ],
   "source": [
    "grp1.columns"
   ]
  },
  {
   "cell_type": "code",
   "execution_count": 736,
   "metadata": {},
   "outputs": [
    {
     "data": {
      "text/plain": [
       "'20240119_AM_104122'"
      ]
     },
     "execution_count": 736,
     "metadata": {},
     "output_type": "execute_result"
    }
   ],
   "source": [
    "today_date_dtl = datetime.today().strftime('%Y%m%d_%p_%I%M%S')\n",
    "today_date_dtl"
   ]
  },
  {
   "cell_type": "code",
   "execution_count": 735,
   "metadata": {},
   "outputs": [],
   "source": [
    "# grp1_dict = {\n",
    "#     '전문정비사업자_시도명':'SPCY_OVHUL_BZMN_CTPV_NM', \n",
    "#     '전문정비사업소_수':'SPCY_OVHUL_BIZPLC_CNT', \n",
    "#     '정비차량대수':'OVHUL_VHCL_MKCNT', \n",
    "#     '정비건수':'OVHUL_NOCS', \n",
    "# }\n",
    "# STD_BD41_1_ERR_RES_RGN_CURSTT = grp1.rename(columns=grp1_dict)\n",
    "# STD_BD41_1_ERR_RES_RGN_CURSTT['LOAD_DT'] = datetime.today().strftime('%Y%m%d')\n",
    "# print(STD_BD41_1_ERR_RES_RGN_CURSTT.columns)\n",
    "\n",
    "# #\n",
    "# if export_opt == 'y':\n",
    "#     STD_BD41_1_ERR_RES_RGN_CURSTT.to_csv(os.path.join(df4_fold, f'STD_BD41_1_ERR_RES_RGN_CURSTT_{today_date_dtl}.csv'), index=False)\n",
    "#     print('STD_BD41_1_ERR_RES_RGN_CURSTT 출력 완료.')\n",
    "# else:\n",
    "#     pass"
   ]
  },
  {
   "cell_type": "code",
   "execution_count": 738,
   "metadata": {},
   "outputs": [],
   "source": [
    "if export_opt == 'y':\n",
    "    grp1.to_excel(os.path.join(df4_fold, f'STD_BD41_1_ERR_RES_RGN_CURSTT_{today_date_dtl}.xlsx'), index=False)\n",
    "else:\n",
    "    pass"
   ]
  },
  {
   "cell_type": "markdown",
   "metadata": {},
   "source": [
    "### 4.1.2 STD_BD41_2_ERR_RES_FLFMT_CURSTT\n",
    "- 전문정비 사업자 수행현황\n",
    "    - 업자별 차량대수, 건수"
   ]
  },
  {
   "cell_type": "code",
   "execution_count": 739,
   "metadata": {},
   "outputs": [
    {
     "data": {
      "text/html": [
       "<div>\n",
       "<style scoped>\n",
       "    .dataframe tbody tr th:only-of-type {\n",
       "        vertical-align: middle;\n",
       "    }\n",
       "\n",
       "    .dataframe tbody tr th {\n",
       "        vertical-align: top;\n",
       "    }\n",
       "\n",
       "    .dataframe thead th {\n",
       "        text-align: right;\n",
       "    }\n",
       "</style>\n",
       "<table border=\"1\" class=\"dataframe\">\n",
       "  <thead>\n",
       "    <tr style=\"text-align: right;\">\n",
       "      <th></th>\n",
       "      <th>전문정비사업자_시도명</th>\n",
       "      <th>전문정비사업자_시군구명</th>\n",
       "      <th>전문정비사업소명</th>\n",
       "      <th>차대번호</th>\n",
       "      <th>정비차량대수</th>\n",
       "      <th>정비건수</th>\n",
       "    </tr>\n",
       "  </thead>\n",
       "  <tbody>\n",
       "    <tr>\n",
       "      <th>0</th>\n",
       "      <td>강원특별자치도</td>\n",
       "      <td>강릉시</td>\n",
       "      <td>유산모터스</td>\n",
       "      <td>KLAGA691DFB006781</td>\n",
       "      <td>1</td>\n",
       "      <td>3</td>\n",
       "    </tr>\n",
       "    <tr>\n",
       "      <th>1</th>\n",
       "      <td>강원특별자치도</td>\n",
       "      <td>강릉시</td>\n",
       "      <td>유산모터스</td>\n",
       "      <td>KLAGA691DFB010502</td>\n",
       "      <td>1</td>\n",
       "      <td>3</td>\n",
       "    </tr>\n",
       "    <tr>\n",
       "      <th>2</th>\n",
       "      <td>강원특별자치도</td>\n",
       "      <td>강릉시</td>\n",
       "      <td>유산모터스</td>\n",
       "      <td>KLAJA69YDBK150733</td>\n",
       "      <td>1</td>\n",
       "      <td>3</td>\n",
       "    </tr>\n",
       "    <tr>\n",
       "      <th>3</th>\n",
       "      <td>강원특별자치도</td>\n",
       "      <td>강릉시</td>\n",
       "      <td>유산모터스</td>\n",
       "      <td>KLALA69PD7B107512</td>\n",
       "      <td>1</td>\n",
       "      <td>3</td>\n",
       "    </tr>\n",
       "    <tr>\n",
       "      <th>4</th>\n",
       "      <td>강원특별자치도</td>\n",
       "      <td>강릉시</td>\n",
       "      <td>유산모터스</td>\n",
       "      <td>KLALA69PD8B400983</td>\n",
       "      <td>1</td>\n",
       "      <td>2</td>\n",
       "    </tr>\n",
       "  </tbody>\n",
       "</table>\n",
       "</div>"
      ],
      "text/plain": [
       "  전문정비사업자_시도명 전문정비사업자_시군구명 전문정비사업소명               차대번호  정비차량대수  정비건수\n",
       "0     강원특별자치도          강릉시    유산모터스  KLAGA691DFB006781       1     3\n",
       "1     강원특별자치도          강릉시    유산모터스  KLAGA691DFB010502       1     3\n",
       "2     강원특별자치도          강릉시    유산모터스  KLAJA69YDBK150733       1     3\n",
       "3     강원특별자치도          강릉시    유산모터스  KLALA69PD7B107512       1     3\n",
       "4     강원특별자치도          강릉시    유산모터스  KLALA69PD8B400983       1     2"
      ]
     },
     "execution_count": 739,
     "metadata": {},
     "output_type": "execute_result"
    }
   ],
   "source": [
    "srt1.head()"
   ]
  },
  {
   "cell_type": "code",
   "execution_count": 740,
   "metadata": {},
   "outputs": [
    {
     "data": {
      "text/html": [
       "<div>\n",
       "<style scoped>\n",
       "    .dataframe tbody tr th:only-of-type {\n",
       "        vertical-align: middle;\n",
       "    }\n",
       "\n",
       "    .dataframe tbody tr th {\n",
       "        vertical-align: top;\n",
       "    }\n",
       "\n",
       "    .dataframe thead th {\n",
       "        text-align: right;\n",
       "    }\n",
       "</style>\n",
       "<table border=\"1\" class=\"dataframe\">\n",
       "  <thead>\n",
       "    <tr style=\"text-align: right;\">\n",
       "      <th></th>\n",
       "      <th>전문정비사업소명</th>\n",
       "      <th>정비차량대수</th>\n",
       "      <th>정비건수</th>\n",
       "    </tr>\n",
       "  </thead>\n",
       "  <tbody>\n",
       "    <tr>\n",
       "      <th>0</th>\n",
       "      <td>NaN</td>\n",
       "      <td>51946.00</td>\n",
       "      <td>119733.00</td>\n",
       "    </tr>\n",
       "    <tr>\n",
       "      <th>1</th>\n",
       "      <td>만수카정비</td>\n",
       "      <td>295.00</td>\n",
       "      <td>10565.00</td>\n",
       "    </tr>\n",
       "    <tr>\n",
       "      <th>2</th>\n",
       "      <td>청원자동차정비</td>\n",
       "      <td>915.00</td>\n",
       "      <td>9058.00</td>\n",
       "    </tr>\n",
       "    <tr>\n",
       "      <th>3</th>\n",
       "      <td>그린1급정비공업사</td>\n",
       "      <td>680.00</td>\n",
       "      <td>7795.00</td>\n",
       "    </tr>\n",
       "    <tr>\n",
       "      <th>4</th>\n",
       "      <td>박병철자동차공업사</td>\n",
       "      <td>158.00</td>\n",
       "      <td>6882.00</td>\n",
       "    </tr>\n",
       "    <tr>\n",
       "      <th>...</th>\n",
       "      <td>...</td>\n",
       "      <td>...</td>\n",
       "      <td>...</td>\n",
       "    </tr>\n",
       "    <tr>\n",
       "      <th>670</th>\n",
       "      <td>한일자동차종합정비공업사</td>\n",
       "      <td>1.00</td>\n",
       "      <td>1.00</td>\n",
       "    </tr>\n",
       "    <tr>\n",
       "      <th>671</th>\n",
       "      <td>기아자동차(주)대구서비스센터</td>\n",
       "      <td>1.00</td>\n",
       "      <td>1.00</td>\n",
       "    </tr>\n",
       "    <tr>\n",
       "      <th>672</th>\n",
       "      <td>르노코리아자동차(주)대구사업소</td>\n",
       "      <td>1.00</td>\n",
       "      <td>1.00</td>\n",
       "    </tr>\n",
       "    <tr>\n",
       "      <th>673</th>\n",
       "      <td>(주)안일자동차써비스</td>\n",
       "      <td>1.00</td>\n",
       "      <td>1.00</td>\n",
       "    </tr>\n",
       "    <tr>\n",
       "      <th>674</th>\n",
       "      <td>합계</td>\n",
       "      <td>149674.00</td>\n",
       "      <td>375556.00</td>\n",
       "    </tr>\n",
       "  </tbody>\n",
       "</table>\n",
       "<p>675 rows × 3 columns</p>\n",
       "</div>"
      ],
      "text/plain": [
       "             전문정비사업소명    정비차량대수      정비건수\n",
       "0                 NaN  51946.00 119733.00\n",
       "1               만수카정비    295.00  10565.00\n",
       "2             청원자동차정비    915.00   9058.00\n",
       "3           그린1급정비공업사    680.00   7795.00\n",
       "4           박병철자동차공업사    158.00   6882.00\n",
       "..                ...       ...       ...\n",
       "670      한일자동차종합정비공업사      1.00      1.00\n",
       "671   기아자동차(주)대구서비스센터      1.00      1.00\n",
       "672  르노코리아자동차(주)대구사업소      1.00      1.00\n",
       "673       (주)안일자동차써비스      1.00      1.00\n",
       "674                합계 149674.00 375556.00\n",
       "\n",
       "[675 rows x 3 columns]"
      ]
     },
     "execution_count": 740,
     "metadata": {},
     "output_type": "execute_result"
    }
   ],
   "source": [
    "grp2_1 = srt1.groupby('전문정비사업소명', dropna=False).agg({'정비차량대수':'sum', '정비건수':'sum'}).reset_index()\n",
    "grp2_1 = grp2_1.sort_values('정비건수', ascending=False).reset_index(drop=True)\n",
    "# grp2_1.loc[grp2_1.shape[0], ['전문정비사업소명', '정비차량대수', '정비건수']] = ['합계', grp2_1['정비차량대수'].sum(), grp2_1['정비건수'].sum()]\n",
    "grp2_1"
   ]
  },
  {
   "cell_type": "code",
   "execution_count": 741,
   "metadata": {},
   "outputs": [
    {
     "data": {
      "text/html": [
       "<div>\n",
       "<style scoped>\n",
       "    .dataframe tbody tr th:only-of-type {\n",
       "        vertical-align: middle;\n",
       "    }\n",
       "\n",
       "    .dataframe tbody tr th {\n",
       "        vertical-align: top;\n",
       "    }\n",
       "\n",
       "    .dataframe thead th {\n",
       "        text-align: right;\n",
       "    }\n",
       "</style>\n",
       "<table border=\"1\" class=\"dataframe\">\n",
       "  <thead>\n",
       "    <tr style=\"text-align: right;\">\n",
       "      <th></th>\n",
       "      <th>전문정비사업소명</th>\n",
       "      <th>정비차량대수</th>\n",
       "      <th>정비건수</th>\n",
       "    </tr>\n",
       "  </thead>\n",
       "  <tbody>\n",
       "    <tr>\n",
       "      <th>0</th>\n",
       "      <td>NaN</td>\n",
       "      <td>51946.00</td>\n",
       "      <td>119733.00</td>\n",
       "    </tr>\n",
       "    <tr>\n",
       "      <th>1</th>\n",
       "      <td>대구부란자</td>\n",
       "      <td>2039.00</td>\n",
       "      <td>2446.00</td>\n",
       "    </tr>\n",
       "    <tr>\n",
       "      <th>2</th>\n",
       "      <td>반야월자동차정비공장</td>\n",
       "      <td>1374.00</td>\n",
       "      <td>2638.00</td>\n",
       "    </tr>\n",
       "    <tr>\n",
       "      <th>3</th>\n",
       "      <td>카프자동차정비(주)</td>\n",
       "      <td>1304.00</td>\n",
       "      <td>2146.00</td>\n",
       "    </tr>\n",
       "    <tr>\n",
       "      <th>4</th>\n",
       "      <td>구미디젤</td>\n",
       "      <td>1296.00</td>\n",
       "      <td>2883.00</td>\n",
       "    </tr>\n",
       "    <tr>\n",
       "      <th>...</th>\n",
       "      <td>...</td>\n",
       "      <td>...</td>\n",
       "      <td>...</td>\n",
       "    </tr>\n",
       "    <tr>\n",
       "      <th>670</th>\n",
       "      <td>SK스피드메이트상도점</td>\n",
       "      <td>1.00</td>\n",
       "      <td>3.00</td>\n",
       "    </tr>\n",
       "    <tr>\n",
       "      <th>671</th>\n",
       "      <td>이화모터스</td>\n",
       "      <td>1.00</td>\n",
       "      <td>2.00</td>\n",
       "    </tr>\n",
       "    <tr>\n",
       "      <th>672</th>\n",
       "      <td>현대자동차(주)수원서비스센터</td>\n",
       "      <td>1.00</td>\n",
       "      <td>5.00</td>\n",
       "    </tr>\n",
       "    <tr>\n",
       "      <th>673</th>\n",
       "      <td>성정점 현대자동차</td>\n",
       "      <td>1.00</td>\n",
       "      <td>7.00</td>\n",
       "    </tr>\n",
       "    <tr>\n",
       "      <th>674</th>\n",
       "      <td>합계</td>\n",
       "      <td>149674.00</td>\n",
       "      <td>375556.00</td>\n",
       "    </tr>\n",
       "  </tbody>\n",
       "</table>\n",
       "<p>675 rows × 3 columns</p>\n",
       "</div>"
      ],
      "text/plain": [
       "            전문정비사업소명    정비차량대수      정비건수\n",
       "0                NaN  51946.00 119733.00\n",
       "1              대구부란자   2039.00   2446.00\n",
       "2         반야월자동차정비공장   1374.00   2638.00\n",
       "3         카프자동차정비(주)   1304.00   2146.00\n",
       "4               구미디젤   1296.00   2883.00\n",
       "..               ...       ...       ...\n",
       "670      SK스피드메이트상도점      1.00      3.00\n",
       "671            이화모터스      1.00      2.00\n",
       "672  현대자동차(주)수원서비스센터      1.00      5.00\n",
       "673        성정점 현대자동차      1.00      7.00\n",
       "674               합계 149674.00 375556.00\n",
       "\n",
       "[675 rows x 3 columns]"
      ]
     },
     "execution_count": 741,
     "metadata": {},
     "output_type": "execute_result"
    }
   ],
   "source": [
    "grp2_2 = srt1.groupby('전문정비사업소명', dropna=False).agg({'정비차량대수':'sum', '정비건수':'sum'}).reset_index()\n",
    "grp2_2 = grp2_2.sort_values('정비차량대수', ascending=False).reset_index(drop=True)\n",
    "# grp2_2.loc[grp2_2.shape[0], ['전문정비사업소명', '정비차량대수', '정비건수']] = ['합계', grp2_2['정비차량대수'].sum(), grp2_2['정비건수'].sum()]\n",
    "grp2_2"
   ]
  },
  {
   "cell_type": "code",
   "execution_count": 742,
   "metadata": {},
   "outputs": [
    {
     "data": {
      "text/plain": [
       "정비차량대수    149674\n",
       "정비건수      375556\n",
       "dtype: int64"
      ]
     },
     "execution_count": 742,
     "metadata": {},
     "output_type": "execute_result"
    }
   ],
   "source": [
    "srt1[['정비차량대수', '정비건수']].sum()"
   ]
  },
  {
   "cell_type": "markdown",
   "metadata": {},
   "source": [
    "#### [출력] STD_BD41_2_ERR_RES_FLFMT_CURSTT"
   ]
  },
  {
   "cell_type": "code",
   "execution_count": 743,
   "metadata": {},
   "outputs": [
    {
     "data": {
      "text/plain": [
       "(Index(['전문정비사업소명', '정비차량대수', '정비건수'], dtype='object'),\n",
       " Index(['전문정비사업소명', '정비차량대수', '정비건수'], dtype='object'))"
      ]
     },
     "execution_count": 743,
     "metadata": {},
     "output_type": "execute_result"
    }
   ],
   "source": [
    "grp2_1.columns, grp2_2.columns"
   ]
  },
  {
   "cell_type": "code",
   "execution_count": 745,
   "metadata": {},
   "outputs": [
    {
     "data": {
      "text/plain": [
       "'20240119_AM_104123'"
      ]
     },
     "execution_count": 745,
     "metadata": {},
     "output_type": "execute_result"
    }
   ],
   "source": [
    "today_date_dtl = datetime.today().strftime('%Y%m%d_%p_%I%M%S')\n",
    "today_date_dtl"
   ]
  },
  {
   "cell_type": "code",
   "execution_count": 744,
   "metadata": {},
   "outputs": [],
   "source": [
    "# grp2_dict = {\n",
    "#     '전문정비사업소명':'SPCY_OVHUL_BIZPLC_NM', \n",
    "#     '정비차량대수':'OVHUL_VHCL_MKCNT', \n",
    "#     '정비건수':'OVHUL_NOCS', \n",
    "# }\n",
    "# STD_BD41_2_ERR_RES_FLFMT_CURSTT = grp2_1.rename(columns=grp2_dict)\n",
    "# STD_BD41_2_ERR_RES_FLFMT_CURSTT['LOAD_DT'] = datetime.today().strftime('%Y%m%d')\n",
    "# print(STD_BD41_2_ERR_RES_FLFMT_CURSTT.columns)\n",
    "\n",
    "# #\n",
    "# if export_opt == 'y':\n",
    "#     STD_BD41_2_ERR_RES_FLFMT_CURSTT.to_excel(os.path.join(df4_fold, f'STD_BD41_2_ERR_RES_FLFMT_CURSTT_{today_date_dtl}.xlsx'), index=False)\n",
    "#     print('STD_BD41_2_ERR_RES_FLFMT_CURSTT 출력 완료.')\n",
    "# else:\n",
    "#     pass"
   ]
  },
  {
   "cell_type": "code",
   "execution_count": 746,
   "metadata": {},
   "outputs": [],
   "source": [
    "if export_opt == 'y':\n",
    "    with pd.ExcelWriter(os.path.join(df4_fold, f'STD_BD41_2_ERR_RES_FLFMT_CURSTT_{today_date_dtl}.xlsx')) as writer:\n",
    "        grp2_1.to_excel(writer, sheet_name='정비건수_순_정렬', index=False)\n",
    "        grp2_2.to_excel(writer, sheet_name='정비차량대수_순_정렬', index=False)\n",
    "else:\n",
    "    pass"
   ]
  },
  {
   "cell_type": "markdown",
   "metadata": {},
   "source": [
    "### [❌] 4.1.3 STD_BD41_3_BZMN_TKCG_VHCL\n",
    "- 전문정비 사업자별 담당차량\n",
    "    - 업자별 차량 대수, 건수\n",
    "- 4.1.1, 4.1.2 와 동일한 내용"
   ]
  },
  {
   "cell_type": "code",
   "execution_count": null,
   "metadata": {},
   "outputs": [],
   "source": []
  },
  {
   "cell_type": "markdown",
   "metadata": {},
   "source": [
    "### [❌] 4.1.4 STD_BD41_4_INSP_FAIL_RT\n",
    "- 제도현황 분석\n",
    "    - 검사불합격율 : 차량별 검사판정"
   ]
  },
  {
   "cell_type": "code",
   "execution_count": 747,
   "metadata": {},
   "outputs": [
    {
     "data": {
      "text/plain": [
       "Index(['차량번호', '차대번호', '점검일자', '전문정비사업소명', '정비접수번호', '정비내용', '정비부품명', '제원관리번호',\n",
       "       '연식', '차종', '용도', '법정동코드', '배출가스등급', '연료', '제작사명', '차종유형', '차명',\n",
       "       '자동차형식', '엔진형식', '총중량', '배기량', '엔진출력', '시도명', '시군구명', '일련번호', '중량',\n",
       "       '엔진배기량', '제작일자', '최초등록일', '전문정비사업자코드', '정비여부', '시도코드', '시군구코드', '상세일자',\n",
       "       '교환유무', '점검조정유무', '분해탈착유무', '정비불가능유무', '생성일자', '생성자명', '최종수정일자',\n",
       "       '최종수정자명', '전문정비사업자_시도명', '전문정비사업자_시군구명', '전문정비사업자_시도코드',\n",
       "       '전문정비사업자_시군구코드', '검사일자', '주행거리', '검사종류', '검사방법', '검사판정', '무부하매연측정치1',\n",
       "       '무부하매연허용치1', '무부하매연판정1', '무부하매연측정치2', '무부하매연허용치2', '무부하매연판정2',\n",
       "       '무부하매연측정치3', '무부하매연허용치3', '무부하매연판정3', '무부하매연측정치4', '무부하매연허용치4',\n",
       "       '무부하매연판정4', '무부하매연측정치5', '무부하매연허용치5', '무부하매연판정5', '무부하매연측정치6',\n",
       "       '무부하매연허용치6', '무부하매연판정6', '정기정밀구분'],\n",
       "      dtype='object')"
      ]
     },
     "execution_count": 747,
     "metadata": {},
     "output_type": "execute_result"
    }
   ],
   "source": [
    "pr4.columns"
   ]
  },
  {
   "cell_type": "code",
   "execution_count": 748,
   "metadata": {},
   "outputs": [
    {
     "data": {
      "text/plain": [
       "차량번호            0\n",
       "차대번호         7355\n",
       "점검일자            0\n",
       "정비접수번호    3992195\n",
       "dtype: int64"
      ]
     },
     "execution_count": 748,
     "metadata": {},
     "output_type": "execute_result"
    }
   ],
   "source": [
    "pr4[['차량번호', '차대번호', '점검일자', '정비접수번호']].isnull().sum()"
   ]
  },
  {
   "cell_type": "code",
   "execution_count": 749,
   "metadata": {},
   "outputs": [
    {
     "data": {
      "text/plain": [
       "검사판정\n",
       "Y      3285497\n",
       "N      2077378\n",
       "NaN      66115\n",
       "M        23167\n",
       "Name: count, dtype: int64"
      ]
     },
     "execution_count": 749,
     "metadata": {},
     "output_type": "execute_result"
    }
   ],
   "source": [
    "pr4['검사판정'].value_counts(dropna=False)"
   ]
  },
  {
   "cell_type": "code",
   "execution_count": 750,
   "metadata": {},
   "outputs": [
    {
     "data": {
      "text/plain": [
       "검사판정\n",
       "Y     0.60\n",
       "N     0.38\n",
       "NaN   0.01\n",
       "M     0.00\n",
       "Name: proportion, dtype: float64"
      ]
     },
     "execution_count": 750,
     "metadata": {},
     "output_type": "execute_result"
    }
   ],
   "source": [
    "pr4['검사판정'].value_counts(dropna=False, normalize=True)"
   ]
  },
  {
   "cell_type": "code",
   "execution_count": 751,
   "metadata": {},
   "outputs": [
    {
     "data": {
      "text/html": [
       "<div>\n",
       "<style scoped>\n",
       "    .dataframe tbody tr th:only-of-type {\n",
       "        vertical-align: middle;\n",
       "    }\n",
       "\n",
       "    .dataframe tbody tr th {\n",
       "        vertical-align: top;\n",
       "    }\n",
       "\n",
       "    .dataframe thead tr th {\n",
       "        text-align: left;\n",
       "    }\n",
       "</style>\n",
       "<table border=\"1\" class=\"dataframe\">\n",
       "  <thead>\n",
       "    <tr>\n",
       "      <th></th>\n",
       "      <th>전문정비사업자_시도명</th>\n",
       "      <th>전문정비사업소명</th>\n",
       "      <th>차대번호</th>\n",
       "      <th>차량번호</th>\n",
       "      <th colspan=\"2\" halign=\"left\">점검일자</th>\n",
       "    </tr>\n",
       "    <tr>\n",
       "      <th>검사판정</th>\n",
       "      <th></th>\n",
       "      <th></th>\n",
       "      <th></th>\n",
       "      <th></th>\n",
       "      <th>N</th>\n",
       "      <th>Y</th>\n",
       "    </tr>\n",
       "  </thead>\n",
       "  <tbody>\n",
       "    <tr>\n",
       "      <th>0</th>\n",
       "      <td>강원특별자치도</td>\n",
       "      <td>강원부란자</td>\n",
       "      <td>280134307541</td>\n",
       "      <td>충남81사1700</td>\n",
       "      <td>48.00</td>\n",
       "      <td>204.00</td>\n",
       "    </tr>\n",
       "    <tr>\n",
       "      <th>1</th>\n",
       "      <td>강원특별자치도</td>\n",
       "      <td>강원부란자</td>\n",
       "      <td>KLAGA691DFB067876</td>\n",
       "      <td>35러4547</td>\n",
       "      <td>28.00</td>\n",
       "      <td>21.00</td>\n",
       "    </tr>\n",
       "    <tr>\n",
       "      <th>2</th>\n",
       "      <td>강원특별자치도</td>\n",
       "      <td>강원부란자</td>\n",
       "      <td>KMFWBX7JBBU338779</td>\n",
       "      <td>87가8914</td>\n",
       "      <td>75.00</td>\n",
       "      <td>130.00</td>\n",
       "    </tr>\n",
       "    <tr>\n",
       "      <th>3</th>\n",
       "      <td>강원특별자치도</td>\n",
       "      <td>강원부란자</td>\n",
       "      <td>KMFXKD7BP3U649397</td>\n",
       "      <td>95더8598</td>\n",
       "      <td>153.00</td>\n",
       "      <td>90.00</td>\n",
       "    </tr>\n",
       "    <tr>\n",
       "      <th>4</th>\n",
       "      <td>강원특별자치도</td>\n",
       "      <td>강원부란자</td>\n",
       "      <td>KMFZCN7HP5U107229</td>\n",
       "      <td>80보3158</td>\n",
       "      <td>12.00</td>\n",
       "      <td>60.00</td>\n",
       "    </tr>\n",
       "  </tbody>\n",
       "</table>\n",
       "</div>"
      ],
      "text/plain": [
       "     전문정비사업자_시도명 전문정비사업소명               차대번호       차량번호   점검일자       \n",
       "검사판정                                                         N      Y\n",
       "0        강원특별자치도    강원부란자       280134307541  충남81사1700  48.00 204.00\n",
       "1        강원특별자치도    강원부란자  KLAGA691DFB067876    35러4547  28.00  21.00\n",
       "2        강원특별자치도    강원부란자  KMFWBX7JBBU338779    87가8914  75.00 130.00\n",
       "3        강원특별자치도    강원부란자  KMFXKD7BP3U649397    95더8598 153.00  90.00\n",
       "4        강원특별자치도    강원부란자  KMFZCN7HP5U107229    80보3158  12.00  60.00"
      ]
     },
     "execution_count": 751,
     "metadata": {},
     "output_type": "execute_result"
    }
   ],
   "source": [
    "# 검사판정 Y, N 만 활용\n",
    "grp4 = pr4[(pr4['검사판정'] == 'Y') | (pr4['검사판정'] == 'N')].groupby(['전문정비사업자_시도명', '전문정비사업소명', '차대번호', '차량번호', '검사판정'], dropna=False).agg({'점검일자':'count'}).unstack('검사판정').reset_index()\n",
    "grp4.head()"
   ]
  },
  {
   "cell_type": "code",
   "execution_count": 752,
   "metadata": {},
   "outputs": [
    {
     "data": {
      "text/html": [
       "<div>\n",
       "<style scoped>\n",
       "    .dataframe tbody tr th:only-of-type {\n",
       "        vertical-align: middle;\n",
       "    }\n",
       "\n",
       "    .dataframe tbody tr th {\n",
       "        vertical-align: top;\n",
       "    }\n",
       "\n",
       "    .dataframe thead th {\n",
       "        text-align: right;\n",
       "    }\n",
       "</style>\n",
       "<table border=\"1\" class=\"dataframe\">\n",
       "  <thead>\n",
       "    <tr style=\"text-align: right;\">\n",
       "      <th></th>\n",
       "      <th>전문정비사업자_시도명</th>\n",
       "      <th>전문정비사업소명</th>\n",
       "      <th>차대번호</th>\n",
       "      <th>차량번호</th>\n",
       "      <th>검사판정N</th>\n",
       "      <th>검사판정Y</th>\n",
       "      <th>불합격율</th>\n",
       "    </tr>\n",
       "  </thead>\n",
       "  <tbody>\n",
       "    <tr>\n",
       "      <th>0</th>\n",
       "      <td>강원특별자치도</td>\n",
       "      <td>강원부란자</td>\n",
       "      <td>280134307541</td>\n",
       "      <td>충남81사1700</td>\n",
       "      <td>48.00</td>\n",
       "      <td>204.00</td>\n",
       "      <td>0.19</td>\n",
       "    </tr>\n",
       "    <tr>\n",
       "      <th>1</th>\n",
       "      <td>강원특별자치도</td>\n",
       "      <td>강원부란자</td>\n",
       "      <td>KLAGA691DFB067876</td>\n",
       "      <td>35러4547</td>\n",
       "      <td>28.00</td>\n",
       "      <td>21.00</td>\n",
       "      <td>0.57</td>\n",
       "    </tr>\n",
       "    <tr>\n",
       "      <th>2</th>\n",
       "      <td>강원특별자치도</td>\n",
       "      <td>강원부란자</td>\n",
       "      <td>KMFWBX7JBBU338779</td>\n",
       "      <td>87가8914</td>\n",
       "      <td>75.00</td>\n",
       "      <td>130.00</td>\n",
       "      <td>0.37</td>\n",
       "    </tr>\n",
       "    <tr>\n",
       "      <th>3</th>\n",
       "      <td>강원특별자치도</td>\n",
       "      <td>강원부란자</td>\n",
       "      <td>KMFXKD7BP3U649397</td>\n",
       "      <td>95더8598</td>\n",
       "      <td>153.00</td>\n",
       "      <td>90.00</td>\n",
       "      <td>0.63</td>\n",
       "    </tr>\n",
       "    <tr>\n",
       "      <th>4</th>\n",
       "      <td>강원특별자치도</td>\n",
       "      <td>강원부란자</td>\n",
       "      <td>KMFZCN7HP5U107229</td>\n",
       "      <td>80보3158</td>\n",
       "      <td>12.00</td>\n",
       "      <td>60.00</td>\n",
       "      <td>0.17</td>\n",
       "    </tr>\n",
       "  </tbody>\n",
       "</table>\n",
       "</div>"
      ],
      "text/plain": [
       "  전문정비사업자_시도명 전문정비사업소명               차대번호       차량번호  검사판정N  검사판정Y  불합격율\n",
       "0     강원특별자치도    강원부란자       280134307541  충남81사1700  48.00 204.00  0.19\n",
       "1     강원특별자치도    강원부란자  KLAGA691DFB067876    35러4547  28.00  21.00  0.57\n",
       "2     강원특별자치도    강원부란자  KMFWBX7JBBU338779    87가8914  75.00 130.00  0.37\n",
       "3     강원특별자치도    강원부란자  KMFXKD7BP3U649397    95더8598 153.00  90.00  0.63\n",
       "4     강원특별자치도    강원부란자  KMFZCN7HP5U107229    80보3158  12.00  60.00  0.17"
      ]
     },
     "execution_count": 752,
     "metadata": {},
     "output_type": "execute_result"
    }
   ],
   "source": [
    "grp4.columns = ['전문정비사업자_시도명', '전문정비사업소명', '차대번호', '차량번호', '검사판정N', '검사판정Y']\n",
    "grp4['불합격율'] = grp4['검사판정N'] / (grp4['검사판정Y'] + grp4['검사판정N'])\n",
    "grp4['불합격율'] = grp4['불합격율'].round(2)\n",
    "grp4.head()"
   ]
  },
  {
   "cell_type": "code",
   "execution_count": 753,
   "metadata": {},
   "outputs": [
    {
     "data": {
      "text/plain": [
       "차대번호    7355\n",
       "차량번호       0\n",
       "dtype: int64"
      ]
     },
     "execution_count": 753,
     "metadata": {},
     "output_type": "execute_result"
    }
   ],
   "source": [
    "pr4[['차대번호', '차량번호']].isnull().sum()"
   ]
  },
  {
   "cell_type": "code",
   "execution_count": 754,
   "metadata": {},
   "outputs": [
    {
     "data": {
      "text/plain": [
       "(121949, 7)"
      ]
     },
     "execution_count": 754,
     "metadata": {},
     "output_type": "execute_result"
    }
   ],
   "source": [
    "grp4.shape"
   ]
  },
  {
   "cell_type": "code",
   "execution_count": 755,
   "metadata": {},
   "outputs": [
    {
     "data": {
      "text/plain": [
       "정비차량대수    149674\n",
       "정비건수      375556\n",
       "dtype: int64"
      ]
     },
     "execution_count": 755,
     "metadata": {},
     "output_type": "execute_result"
    }
   ],
   "source": [
    "srt1[['정비차량대수', '정비건수']].sum()"
   ]
  },
  {
   "cell_type": "markdown",
   "metadata": {},
   "source": [
    "#### [❌][출력] STD_BD41_4_INSP_FAIL_RT"
   ]
  },
  {
   "cell_type": "code",
   "execution_count": 756,
   "metadata": {},
   "outputs": [
    {
     "data": {
      "text/plain": [
       "Index(['전문정비사업자_시도명', '전문정비사업소명', '차대번호', '차량번호', '검사판정N', '검사판정Y', '불합격율'], dtype='object')"
      ]
     },
     "execution_count": 756,
     "metadata": {},
     "output_type": "execute_result"
    }
   ],
   "source": [
    "grp4.columns"
   ]
  },
  {
   "cell_type": "code",
   "execution_count": 757,
   "metadata": {},
   "outputs": [],
   "source": [
    "grp4_1 = grp4[['전문정비사업자_시도명', '전문정비사업소명', '차대번호', '차량번호', '불합격율']]\n",
    "# grp4_1_dict = {\n",
    "#     '전문정비사업자_시도명':'', \n",
    "#     '전문정비사업소명':'', \n",
    "#     '차대번호':'', \n",
    "#     '차량번호':'', \n",
    "#     '불합격율':'', \n",
    "# }\n",
    "# STD_BD41_4_INSP_FAIL_RT = grp4_1.rename(columns={grp4_1_dict})\n",
    "# STD_BD41_4_INSP_FAIL_RT['LOAD_DT'] = datetime.today().strftime('%Y%m%d')\n",
    "# STD_BD41_4_INSP_FAIL_RT.columns"
   ]
  },
  {
   "cell_type": "code",
   "execution_count": 758,
   "metadata": {},
   "outputs": [
    {
     "data": {
      "text/plain": [
       "'20240119_AM_104126'"
      ]
     },
     "execution_count": 758,
     "metadata": {},
     "output_type": "execute_result"
    }
   ],
   "source": [
    "today_date_dtl = datetime.today().strftime('%Y%m%d_%p_%I%M%S')\n",
    "today_date_dtl"
   ]
  },
  {
   "cell_type": "code",
   "execution_count": 759,
   "metadata": {},
   "outputs": [],
   "source": [
    "# # 6.5s\n",
    "# if export_opt == 'y':\n",
    "#     grp4_1.to_excel(os.path.join(df4_fold, f'STD_BD41_4_INSP_FAIL_RT_{today_date_dtl}.xlsx'), index=False)\n",
    "# else:\n",
    "#     pass"
   ]
  },
  {
   "cell_type": "markdown",
   "metadata": {},
   "source": [
    "### [❌] 4.1.5 STD_BD41_5_FAIL_VHCL_CURSTT\n",
    "- 제도현황 분석\n",
    "    - 불합격 차량 현황 : 시도, 시군구, 연료, 등급"
   ]
  },
  {
   "cell_type": "code",
   "execution_count": 760,
   "metadata": {},
   "outputs": [
    {
     "data": {
      "text/plain": [
       "(2077378, 70)"
      ]
     },
     "execution_count": 760,
     "metadata": {},
     "output_type": "execute_result"
    }
   ],
   "source": [
    "srt5 = pr4[pr4['검사판정'] == 'N'].reset_index(drop=True)\n",
    "srt5.shape"
   ]
  },
  {
   "cell_type": "code",
   "execution_count": 761,
   "metadata": {},
   "outputs": [
    {
     "data": {
      "text/plain": [
       "array([nan, '경유', 'LPG', '휘발유', '하이브리드(휘발유+전기)', 'CNG', '하이브리드(LPG+전기)',\n",
       "       '기타연료'], dtype=object)"
      ]
     },
     "execution_count": 761,
     "metadata": {},
     "output_type": "execute_result"
    }
   ],
   "source": [
    "srt5['연료'].unique()"
   ]
  },
  {
   "cell_type": "code",
   "execution_count": 762,
   "metadata": {},
   "outputs": [
    {
     "data": {
      "text/html": [
       "<div>\n",
       "<style scoped>\n",
       "    .dataframe tbody tr th:only-of-type {\n",
       "        vertical-align: middle;\n",
       "    }\n",
       "\n",
       "    .dataframe tbody tr th {\n",
       "        vertical-align: top;\n",
       "    }\n",
       "\n",
       "    .dataframe thead th {\n",
       "        text-align: right;\n",
       "    }\n",
       "</style>\n",
       "<table border=\"1\" class=\"dataframe\">\n",
       "  <thead>\n",
       "    <tr style=\"text-align: right;\">\n",
       "      <th></th>\n",
       "      <th>전문정비사업자_시도명</th>\n",
       "      <th>전문정비사업자_시군구명</th>\n",
       "      <th>연료</th>\n",
       "      <th>배출가스등급</th>\n",
       "      <th>차대번호</th>\n",
       "      <th>정비차량대수</th>\n",
       "    </tr>\n",
       "  </thead>\n",
       "  <tbody>\n",
       "    <tr>\n",
       "      <th>0</th>\n",
       "      <td>강원특별자치도</td>\n",
       "      <td>강릉시</td>\n",
       "      <td>LPG</td>\n",
       "      <td>NaN</td>\n",
       "      <td>KLALA69PD7B107512</td>\n",
       "      <td>1</td>\n",
       "    </tr>\n",
       "    <tr>\n",
       "      <th>1</th>\n",
       "      <td>강원특별자치도</td>\n",
       "      <td>강릉시</td>\n",
       "      <td>LPG</td>\n",
       "      <td>NaN</td>\n",
       "      <td>KLALA69PD8B400983</td>\n",
       "      <td>1</td>\n",
       "    </tr>\n",
       "    <tr>\n",
       "      <th>2</th>\n",
       "      <td>강원특별자치도</td>\n",
       "      <td>강릉시</td>\n",
       "      <td>LPG</td>\n",
       "      <td>NaN</td>\n",
       "      <td>KLY2B11ZDCC145040</td>\n",
       "      <td>1</td>\n",
       "    </tr>\n",
       "    <tr>\n",
       "      <th>3</th>\n",
       "      <td>강원특별자치도</td>\n",
       "      <td>강릉시</td>\n",
       "      <td>LPG</td>\n",
       "      <td>NaN</td>\n",
       "      <td>KLY2B51EDDC045128</td>\n",
       "      <td>1</td>\n",
       "    </tr>\n",
       "    <tr>\n",
       "      <th>4</th>\n",
       "      <td>강원특별자치도</td>\n",
       "      <td>강릉시</td>\n",
       "      <td>LPG</td>\n",
       "      <td>NaN</td>\n",
       "      <td>KMHAC51RPYU252792</td>\n",
       "      <td>1</td>\n",
       "    </tr>\n",
       "    <tr>\n",
       "      <th>...</th>\n",
       "      <td>...</td>\n",
       "      <td>...</td>\n",
       "      <td>...</td>\n",
       "      <td>...</td>\n",
       "      <td>...</td>\n",
       "      <td>...</td>\n",
       "    </tr>\n",
       "    <tr>\n",
       "      <th>113411</th>\n",
       "      <td>NaN</td>\n",
       "      <td>NaN</td>\n",
       "      <td>NaN</td>\n",
       "      <td>NaN</td>\n",
       "      <td>YV2H2CEC4RA228355</td>\n",
       "      <td>1</td>\n",
       "    </tr>\n",
       "    <tr>\n",
       "      <th>113412</th>\n",
       "      <td>NaN</td>\n",
       "      <td>NaN</td>\n",
       "      <td>NaN</td>\n",
       "      <td>NaN</td>\n",
       "      <td>YV2H2CEC7SA238805</td>\n",
       "      <td>1</td>\n",
       "    </tr>\n",
       "    <tr>\n",
       "      <th>113413</th>\n",
       "      <td>NaN</td>\n",
       "      <td>NaN</td>\n",
       "      <td>NaN</td>\n",
       "      <td>NaN</td>\n",
       "      <td>YV2J4CFC04A576107</td>\n",
       "      <td>1</td>\n",
       "    </tr>\n",
       "    <tr>\n",
       "      <th>113414</th>\n",
       "      <td>NaN</td>\n",
       "      <td>NaN</td>\n",
       "      <td>NaN</td>\n",
       "      <td>NaN</td>\n",
       "      <td>YV2JN60C35A607472</td>\n",
       "      <td>1</td>\n",
       "    </tr>\n",
       "    <tr>\n",
       "      <th>113415</th>\n",
       "      <td>NaN</td>\n",
       "      <td>NaN</td>\n",
       "      <td>NaN</td>\n",
       "      <td>NaN</td>\n",
       "      <td>ZLA838000T2041979</td>\n",
       "      <td>1</td>\n",
       "    </tr>\n",
       "  </tbody>\n",
       "</table>\n",
       "<p>113416 rows × 6 columns</p>\n",
       "</div>"
      ],
      "text/plain": [
       "       전문정비사업자_시도명 전문정비사업자_시군구명   연료 배출가스등급               차대번호  정비차량대수\n",
       "0          강원특별자치도          강릉시  LPG    NaN  KLALA69PD7B107512       1\n",
       "1          강원특별자치도          강릉시  LPG    NaN  KLALA69PD8B400983       1\n",
       "2          강원특별자치도          강릉시  LPG    NaN  KLY2B11ZDCC145040       1\n",
       "3          강원특별자치도          강릉시  LPG    NaN  KLY2B51EDDC045128       1\n",
       "4          강원특별자치도          강릉시  LPG    NaN  KMHAC51RPYU252792       1\n",
       "...            ...          ...  ...    ...                ...     ...\n",
       "113411         NaN          NaN  NaN    NaN  YV2H2CEC4RA228355       1\n",
       "113412         NaN          NaN  NaN    NaN  YV2H2CEC7SA238805       1\n",
       "113413         NaN          NaN  NaN    NaN  YV2J4CFC04A576107       1\n",
       "113414         NaN          NaN  NaN    NaN  YV2JN60C35A607472       1\n",
       "113415         NaN          NaN  NaN    NaN  ZLA838000T2041979       1\n",
       "\n",
       "[113416 rows x 6 columns]"
      ]
     },
     "execution_count": 762,
     "metadata": {},
     "output_type": "execute_result"
    }
   ],
   "source": [
    "grp5 = srt5.groupby(['전문정비사업자_시도명', '전문정비사업자_시군구명', '연료', '배출가스등급', '차대번호'], dropna=False).agg({'차량번호':lambda x:len(x.unique())}).reset_index()\n",
    "grp5 = grp5.rename(columns={'차량번호':'정비차량대수'})\n",
    "grp5"
   ]
  },
  {
   "cell_type": "code",
   "execution_count": 763,
   "metadata": {},
   "outputs": [
    {
     "data": {
      "text/plain": [
       "113570"
      ]
     },
     "execution_count": 763,
     "metadata": {},
     "output_type": "execute_result"
    }
   ],
   "source": [
    "grp5['정비차량대수'].sum()"
   ]
  },
  {
   "cell_type": "code",
   "execution_count": 764,
   "metadata": {},
   "outputs": [
    {
     "data": {
      "text/html": [
       "<div>\n",
       "<style scoped>\n",
       "    .dataframe tbody tr th:only-of-type {\n",
       "        vertical-align: middle;\n",
       "    }\n",
       "\n",
       "    .dataframe tbody tr th {\n",
       "        vertical-align: top;\n",
       "    }\n",
       "\n",
       "    .dataframe thead th {\n",
       "        text-align: right;\n",
       "    }\n",
       "</style>\n",
       "<table border=\"1\" class=\"dataframe\">\n",
       "  <thead>\n",
       "    <tr style=\"text-align: right;\">\n",
       "      <th></th>\n",
       "      <th>전문정비사업자_시도명</th>\n",
       "      <th>전문정비사업자_시군구명</th>\n",
       "      <th>연료</th>\n",
       "      <th>배출가스등급</th>\n",
       "      <th>정비차량대수</th>\n",
       "    </tr>\n",
       "  </thead>\n",
       "  <tbody>\n",
       "    <tr>\n",
       "      <th>0</th>\n",
       "      <td>강원특별자치도</td>\n",
       "      <td>강릉시</td>\n",
       "      <td>LPG</td>\n",
       "      <td>NaN</td>\n",
       "      <td>11</td>\n",
       "    </tr>\n",
       "    <tr>\n",
       "      <th>1</th>\n",
       "      <td>강원특별자치도</td>\n",
       "      <td>강릉시</td>\n",
       "      <td>경유</td>\n",
       "      <td>NaN</td>\n",
       "      <td>333</td>\n",
       "    </tr>\n",
       "    <tr>\n",
       "      <th>2</th>\n",
       "      <td>강원특별자치도</td>\n",
       "      <td>강릉시</td>\n",
       "      <td>하이브리드(휘발유+전기)</td>\n",
       "      <td>NaN</td>\n",
       "      <td>1</td>\n",
       "    </tr>\n",
       "    <tr>\n",
       "      <th>3</th>\n",
       "      <td>강원특별자치도</td>\n",
       "      <td>강릉시</td>\n",
       "      <td>휘발유</td>\n",
       "      <td>NaN</td>\n",
       "      <td>21</td>\n",
       "    </tr>\n",
       "    <tr>\n",
       "      <th>4</th>\n",
       "      <td>강원특별자치도</td>\n",
       "      <td>원주시</td>\n",
       "      <td>LPG</td>\n",
       "      <td>NaN</td>\n",
       "      <td>26</td>\n",
       "    </tr>\n",
       "    <tr>\n",
       "      <th>...</th>\n",
       "      <td>...</td>\n",
       "      <td>...</td>\n",
       "      <td>...</td>\n",
       "      <td>...</td>\n",
       "      <td>...</td>\n",
       "    </tr>\n",
       "    <tr>\n",
       "      <th>409</th>\n",
       "      <td>NaN</td>\n",
       "      <td>NaN</td>\n",
       "      <td>휘발유</td>\n",
       "      <td>3</td>\n",
       "      <td>34</td>\n",
       "    </tr>\n",
       "    <tr>\n",
       "      <th>410</th>\n",
       "      <td>NaN</td>\n",
       "      <td>NaN</td>\n",
       "      <td>휘발유</td>\n",
       "      <td>4</td>\n",
       "      <td>46</td>\n",
       "    </tr>\n",
       "    <tr>\n",
       "      <th>411</th>\n",
       "      <td>NaN</td>\n",
       "      <td>NaN</td>\n",
       "      <td>휘발유</td>\n",
       "      <td>5</td>\n",
       "      <td>2</td>\n",
       "    </tr>\n",
       "    <tr>\n",
       "      <th>412</th>\n",
       "      <td>NaN</td>\n",
       "      <td>NaN</td>\n",
       "      <td>휘발유</td>\n",
       "      <td>NaN</td>\n",
       "      <td>2964</td>\n",
       "    </tr>\n",
       "    <tr>\n",
       "      <th>413</th>\n",
       "      <td>NaN</td>\n",
       "      <td>NaN</td>\n",
       "      <td>NaN</td>\n",
       "      <td>NaN</td>\n",
       "      <td>30737</td>\n",
       "    </tr>\n",
       "  </tbody>\n",
       "</table>\n",
       "<p>414 rows × 5 columns</p>\n",
       "</div>"
      ],
      "text/plain": [
       "    전문정비사업자_시도명 전문정비사업자_시군구명             연료 배출가스등급  정비차량대수\n",
       "0       강원특별자치도          강릉시            LPG    NaN      11\n",
       "1       강원특별자치도          강릉시             경유    NaN     333\n",
       "2       강원특별자치도          강릉시  하이브리드(휘발유+전기)    NaN       1\n",
       "3       강원특별자치도          강릉시            휘발유    NaN      21\n",
       "4       강원특별자치도          원주시            LPG    NaN      26\n",
       "..          ...          ...            ...    ...     ...\n",
       "409         NaN          NaN            휘발유      3      34\n",
       "410         NaN          NaN            휘발유      4      46\n",
       "411         NaN          NaN            휘발유      5       2\n",
       "412         NaN          NaN            휘발유    NaN    2964\n",
       "413         NaN          NaN            NaN    NaN   30737\n",
       "\n",
       "[414 rows x 5 columns]"
      ]
     },
     "execution_count": 764,
     "metadata": {},
     "output_type": "execute_result"
    }
   ],
   "source": [
    "grp5_1 = grp5.groupby(['전문정비사업자_시도명', '전문정비사업자_시군구명', '연료', '배출가스등급'], dropna=False)['정비차량대수'].sum().reset_index()\n",
    "grp5_1"
   ]
  },
  {
   "cell_type": "code",
   "execution_count": 765,
   "metadata": {},
   "outputs": [
    {
     "data": {
      "text/plain": [
       "array([nan, '2', '3', '4', '5', '9999'], dtype=object)"
      ]
     },
     "execution_count": 765,
     "metadata": {},
     "output_type": "execute_result"
    }
   ],
   "source": [
    "grp5_1['배출가스등급'].unique()"
   ]
  },
  {
   "cell_type": "code",
   "execution_count": 766,
   "metadata": {},
   "outputs": [
    {
     "data": {
      "text/plain": [
       "113570"
      ]
     },
     "execution_count": 766,
     "metadata": {},
     "output_type": "execute_result"
    }
   ],
   "source": [
    "grp5_1['정비차량대수'].sum()"
   ]
  },
  {
   "cell_type": "markdown",
   "metadata": {},
   "source": [
    "#### [❌][출력] STD_BD41_5_FAIL_VHCL_CURSTT"
   ]
  },
  {
   "cell_type": "code",
   "execution_count": 767,
   "metadata": {},
   "outputs": [
    {
     "data": {
      "text/plain": [
       "Index(['전문정비사업자_시도명', '전문정비사업자_시군구명', '연료', '배출가스등급', '정비차량대수'], dtype='object')"
      ]
     },
     "execution_count": 767,
     "metadata": {},
     "output_type": "execute_result"
    }
   ],
   "source": [
    "grp5_1.columns"
   ]
  },
  {
   "cell_type": "code",
   "execution_count": 768,
   "metadata": {},
   "outputs": [],
   "source": [
    "# grp5_1_dict = {\n",
    "#     '전문정비사업자_시도명':'', \n",
    "#     '전문정비사업자_시군구명':'', \n",
    "#     '연료':'', \n",
    "#     '배출가스등급':'', \n",
    "#     '정비차량대수':'', \n",
    "# }\n",
    "# STD_BD41_5_FAIL_VHCL_CURSTT = grp5_1.rename(columns={grp5_1_dict})\n",
    "# STD_BD41_5_FAIL_VHCL_CURSTT['LOAD_DT'] = datetime.today().strftime('%Y%m%d')\n",
    "# STD_BD41_5_FAIL_VHCL_CURSTT.columns"
   ]
  },
  {
   "cell_type": "code",
   "execution_count": 769,
   "metadata": {},
   "outputs": [
    {
     "data": {
      "text/plain": [
       "'20240119_AM_104131'"
      ]
     },
     "execution_count": 769,
     "metadata": {},
     "output_type": "execute_result"
    }
   ],
   "source": [
    "today_date_dtl = datetime.today().strftime('%Y%m%d_%p_%I%M%S')\n",
    "today_date_dtl"
   ]
  },
  {
   "cell_type": "code",
   "execution_count": 770,
   "metadata": {},
   "outputs": [],
   "source": [
    "# # 6.5s\n",
    "# if export_opt == 'y':\n",
    "#     grp5_1.to_excel(os.path.join(df4_fold, f'STD_BD41_5_FAIL_VHCL_CURSTT_{today_date_dtl}.xlsx'), index=False)\n",
    "# else:\n",
    "#     pass"
   ]
  },
  {
   "cell_type": "markdown",
   "metadata": {},
   "source": [
    "### 4.1.6 STD_BD41_6_FAIL_RESN"
   ]
  },
  {
   "cell_type": "markdown",
   "metadata": {},
   "source": [
    "#### 검사판정 N df 추출(srt6)"
   ]
  },
  {
   "cell_type": "code",
   "execution_count": 771,
   "metadata": {},
   "outputs": [
    {
     "data": {
      "text/html": [
       "<div>\n",
       "<style scoped>\n",
       "    .dataframe tbody tr th:only-of-type {\n",
       "        vertical-align: middle;\n",
       "    }\n",
       "\n",
       "    .dataframe tbody tr th {\n",
       "        vertical-align: top;\n",
       "    }\n",
       "\n",
       "    .dataframe thead th {\n",
       "        text-align: right;\n",
       "    }\n",
       "</style>\n",
       "<table border=\"1\" class=\"dataframe\">\n",
       "  <thead>\n",
       "    <tr style=\"text-align: right;\">\n",
       "      <th></th>\n",
       "      <th>정비내용</th>\n",
       "      <th>정비건수</th>\n",
       "    </tr>\n",
       "  </thead>\n",
       "  <tbody>\n",
       "    <tr>\n",
       "      <th>0</th>\n",
       "      <td>각종센서</td>\n",
       "      <td>21322.00</td>\n",
       "    </tr>\n",
       "    <tr>\n",
       "      <th>1</th>\n",
       "      <td>배기계통</td>\n",
       "      <td>35080.00</td>\n",
       "    </tr>\n",
       "    <tr>\n",
       "      <th>2</th>\n",
       "      <td>배출가스재순환장치</td>\n",
       "      <td>28877.00</td>\n",
       "    </tr>\n",
       "    <tr>\n",
       "      <th>3</th>\n",
       "      <td>배출가스전환장치</td>\n",
       "      <td>15991.00</td>\n",
       "    </tr>\n",
       "    <tr>\n",
       "      <th>4</th>\n",
       "      <td>블로바이가스환원장치</td>\n",
       "      <td>3780.00</td>\n",
       "    </tr>\n",
       "    <tr>\n",
       "      <th>5</th>\n",
       "      <td>엔진계통</td>\n",
       "      <td>129347.00</td>\n",
       "    </tr>\n",
       "    <tr>\n",
       "      <th>6</th>\n",
       "      <td>연료장치</td>\n",
       "      <td>68921.00</td>\n",
       "    </tr>\n",
       "    <tr>\n",
       "      <th>7</th>\n",
       "      <td>연료증발가스방지장치</td>\n",
       "      <td>2361.00</td>\n",
       "    </tr>\n",
       "    <tr>\n",
       "      <th>8</th>\n",
       "      <td>점화계통</td>\n",
       "      <td>15720.00</td>\n",
       "    </tr>\n",
       "    <tr>\n",
       "      <th>9</th>\n",
       "      <td>흡기계통</td>\n",
       "      <td>51518.00</td>\n",
       "    </tr>\n",
       "    <tr>\n",
       "      <th>10</th>\n",
       "      <td>NaN</td>\n",
       "      <td>2639.00</td>\n",
       "    </tr>\n",
       "    <tr>\n",
       "      <th>11</th>\n",
       "      <td>합계</td>\n",
       "      <td>375556.00</td>\n",
       "    </tr>\n",
       "  </tbody>\n",
       "</table>\n",
       "</div>"
      ],
      "text/plain": [
       "          정비내용      정비건수\n",
       "0         각종센서  21322.00\n",
       "1         배기계통  35080.00\n",
       "2    배출가스재순환장치  28877.00\n",
       "3     배출가스전환장치  15991.00\n",
       "4   블로바이가스환원장치   3780.00\n",
       "5         엔진계통 129347.00\n",
       "6         연료장치  68921.00\n",
       "7   연료증발가스방지장치   2361.00\n",
       "8         점화계통  15720.00\n",
       "9         흡기계통  51518.00\n",
       "10         NaN   2639.00\n",
       "11          합계 375556.00"
      ]
     },
     "execution_count": 771,
     "metadata": {},
     "output_type": "execute_result"
    }
   ],
   "source": [
    "grp6 = total_err.groupby(['정비내용'], dropna=False)['차량번호'].count().reset_index()\n",
    "grp6 = grp6.rename(columns={'차량번호':'정비건수'})\n",
    "# grp6.loc[grp6.shape[0], ['정비내용', '정비건수']] = ['합계', grp6['정비건수'].sum()]\n",
    "grp6"
   ]
  },
  {
   "cell_type": "markdown",
   "metadata": {},
   "source": [
    "#### [출력] STD_BD41_6_FAIL_RESN"
   ]
  },
  {
   "cell_type": "code",
   "execution_count": 772,
   "metadata": {},
   "outputs": [
    {
     "data": {
      "text/plain": [
       "Index(['정비내용', '정비건수'], dtype='object')"
      ]
     },
     "execution_count": 772,
     "metadata": {},
     "output_type": "execute_result"
    }
   ],
   "source": [
    "grp6.columns"
   ]
  },
  {
   "cell_type": "code",
   "execution_count": 774,
   "metadata": {},
   "outputs": [
    {
     "data": {
      "text/plain": [
       "'20240119_AM_104131'"
      ]
     },
     "execution_count": 774,
     "metadata": {},
     "output_type": "execute_result"
    }
   ],
   "source": [
    "today_date_dtl = datetime.today().strftime('%Y%m%d_%p_%I%M%S')\n",
    "today_date_dtl"
   ]
  },
  {
   "cell_type": "code",
   "execution_count": 773,
   "metadata": {},
   "outputs": [],
   "source": [
    "# grp6_dict = {\n",
    "#     '정비내용':'OVHUL_CN', \n",
    "#     '정비건수':'OVHUL_NOCS',\n",
    "# }\n",
    "# STD_BD41_6_FAIL_RESN = grp6.rename(columns={grp6_dict})\n",
    "# STD_BD41_6_FAIL_RESN['LOAD_DT'] = datetime.today().strftime('%Y%m%d')\n",
    "# print(STD_BD41_6_FAIL_RESN.columns)\n",
    "\n",
    "# if export_opt == 'y':\n",
    "#     STD_BD41_6_FAIL_RESN.to_excel(os.path.join(df4_fold, f'STD_BD41_6_FAIL_RESN_{today_date_dtl}.xlsx'), index=False)\n",
    "#     print('STD_BD41_6_FAIL_RESN 출력 완료.')\n",
    "# else:\n",
    "#     pass"
   ]
  },
  {
   "cell_type": "code",
   "execution_count": 775,
   "metadata": {},
   "outputs": [],
   "source": [
    "# 0.0s\n",
    "if export_opt == 'y':\n",
    "    grp6.to_excel(os.path.join(df4_fold, f'STD_BD41_6_FAIL_RESN_{today_date_dtl}.xlsx'), index=False)\n",
    "else:\n",
    "    pass"
   ]
  },
  {
   "cell_type": "markdown",
   "metadata": {},
   "source": [
    "### 4.1.7 STD_BD41_7_OVHUL_ITM"
   ]
  },
  {
   "cell_type": "code",
   "execution_count": 776,
   "metadata": {},
   "outputs": [
    {
     "data": {
      "text/html": [
       "<div>\n",
       "<style scoped>\n",
       "    .dataframe tbody tr th:only-of-type {\n",
       "        vertical-align: middle;\n",
       "    }\n",
       "\n",
       "    .dataframe tbody tr th {\n",
       "        vertical-align: top;\n",
       "    }\n",
       "\n",
       "    .dataframe thead th {\n",
       "        text-align: right;\n",
       "    }\n",
       "</style>\n",
       "<table border=\"1\" class=\"dataframe\">\n",
       "  <thead>\n",
       "    <tr style=\"text-align: right;\">\n",
       "      <th></th>\n",
       "      <th>정비내용</th>\n",
       "      <th>정비부품명</th>\n",
       "      <th>정비건수</th>\n",
       "    </tr>\n",
       "  </thead>\n",
       "  <tbody>\n",
       "    <tr>\n",
       "      <th>0</th>\n",
       "      <td>엔진계통</td>\n",
       "      <td>연료분사펌프(조속기조정,봉인)</td>\n",
       "      <td>60649.00</td>\n",
       "    </tr>\n",
       "    <tr>\n",
       "      <th>1</th>\n",
       "      <td>흡기계통</td>\n",
       "      <td>에어크리너</td>\n",
       "      <td>40113.00</td>\n",
       "    </tr>\n",
       "    <tr>\n",
       "      <th>2</th>\n",
       "      <td>연료장치</td>\n",
       "      <td>엔진오일</td>\n",
       "      <td>34366.00</td>\n",
       "    </tr>\n",
       "    <tr>\n",
       "      <th>3</th>\n",
       "      <td>엔진계통</td>\n",
       "      <td>연료휠터</td>\n",
       "      <td>29346.00</td>\n",
       "    </tr>\n",
       "    <tr>\n",
       "      <th>4</th>\n",
       "      <td>배출가스재순환장치</td>\n",
       "      <td>EGR밸브</td>\n",
       "      <td>24565.00</td>\n",
       "    </tr>\n",
       "    <tr>\n",
       "      <th>5</th>\n",
       "      <td>엔진계통</td>\n",
       "      <td>노즐(디젤인젝터포함)</td>\n",
       "      <td>22924.00</td>\n",
       "    </tr>\n",
       "    <tr>\n",
       "      <th>6</th>\n",
       "      <td>배기계통</td>\n",
       "      <td>소음기</td>\n",
       "      <td>19755.00</td>\n",
       "    </tr>\n",
       "    <tr>\n",
       "      <th>7</th>\n",
       "      <td>배기계통</td>\n",
       "      <td>배기관</td>\n",
       "      <td>15325.00</td>\n",
       "    </tr>\n",
       "    <tr>\n",
       "      <th>8</th>\n",
       "      <td>연료장치</td>\n",
       "      <td>엔진정비</td>\n",
       "      <td>14597.00</td>\n",
       "    </tr>\n",
       "    <tr>\n",
       "      <th>9</th>\n",
       "      <td>연료장치</td>\n",
       "      <td>냉각계통</td>\n",
       "      <td>12880.00</td>\n",
       "    </tr>\n",
       "    <tr>\n",
       "      <th>10</th>\n",
       "      <td>각종센서</td>\n",
       "      <td>산소센서</td>\n",
       "      <td>10105.00</td>\n",
       "    </tr>\n",
       "    <tr>\n",
       "      <th>11</th>\n",
       "      <td>각종센서</td>\n",
       "      <td>공기유량센서</td>\n",
       "      <td>7396.00</td>\n",
       "    </tr>\n",
       "    <tr>\n",
       "      <th>12</th>\n",
       "      <td>엔진계통</td>\n",
       "      <td>공연비(혼합비)</td>\n",
       "      <td>7103.00</td>\n",
       "    </tr>\n",
       "    <tr>\n",
       "      <th>13</th>\n",
       "      <td>흡기계통</td>\n",
       "      <td>드로틀바디</td>\n",
       "      <td>7026.00</td>\n",
       "    </tr>\n",
       "    <tr>\n",
       "      <th>14</th>\n",
       "      <td>배출가스전환장치</td>\n",
       "      <td>정화용촉매(CatalyticConverter)</td>\n",
       "      <td>6719.00</td>\n",
       "    </tr>\n",
       "    <tr>\n",
       "      <th>15</th>\n",
       "      <td>점화계통</td>\n",
       "      <td>점화플러그</td>\n",
       "      <td>5502.00</td>\n",
       "    </tr>\n",
       "    <tr>\n",
       "      <th>16</th>\n",
       "      <td>연료장치</td>\n",
       "      <td>공회전속도</td>\n",
       "      <td>5299.00</td>\n",
       "    </tr>\n",
       "    <tr>\n",
       "      <th>17</th>\n",
       "      <td>점화계통</td>\n",
       "      <td>점화시기(분사시기)조정</td>\n",
       "      <td>4915.00</td>\n",
       "    </tr>\n",
       "    <tr>\n",
       "      <th>18</th>\n",
       "      <td>배출가스전환장치</td>\n",
       "      <td>디젤산화촉매(DOC)</td>\n",
       "      <td>4856.00</td>\n",
       "    </tr>\n",
       "    <tr>\n",
       "      <th>19</th>\n",
       "      <td>엔진계통</td>\n",
       "      <td>기화기(믹서포함)</td>\n",
       "      <td>4706.00</td>\n",
       "    </tr>\n",
       "    <tr>\n",
       "      <th>20</th>\n",
       "      <td>배출가스전환장치</td>\n",
       "      <td>매연여과장치(DPF)</td>\n",
       "      <td>4416.00</td>\n",
       "    </tr>\n",
       "    <tr>\n",
       "      <th>21</th>\n",
       "      <td>흡기계통</td>\n",
       "      <td>과급기</td>\n",
       "      <td>4379.00</td>\n",
       "    </tr>\n",
       "    <tr>\n",
       "      <th>22</th>\n",
       "      <td>배출가스재순환장치</td>\n",
       "      <td>EGR제어용서머밸브</td>\n",
       "      <td>4312.00</td>\n",
       "    </tr>\n",
       "    <tr>\n",
       "      <th>23</th>\n",
       "      <td>점화계통</td>\n",
       "      <td>점화배선</td>\n",
       "      <td>3417.00</td>\n",
       "    </tr>\n",
       "    <tr>\n",
       "      <th>24</th>\n",
       "      <td>NaN</td>\n",
       "      <td>NaN</td>\n",
       "      <td>2639.00</td>\n",
       "    </tr>\n",
       "    <tr>\n",
       "      <th>25</th>\n",
       "      <td>엔진계통</td>\n",
       "      <td>연료압력조절기</td>\n",
       "      <td>2333.00</td>\n",
       "    </tr>\n",
       "    <tr>\n",
       "      <th>26</th>\n",
       "      <td>엔진계통</td>\n",
       "      <td>인젝터(휘발유)</td>\n",
       "      <td>2286.00</td>\n",
       "    </tr>\n",
       "    <tr>\n",
       "      <th>27</th>\n",
       "      <td>블로바이가스환원장치</td>\n",
       "      <td>블로바이가스호스</td>\n",
       "      <td>2226.00</td>\n",
       "    </tr>\n",
       "    <tr>\n",
       "      <th>28</th>\n",
       "      <td>각종센서</td>\n",
       "      <td>냉각수온센서</td>\n",
       "      <td>2098.00</td>\n",
       "    </tr>\n",
       "    <tr>\n",
       "      <th>29</th>\n",
       "      <td>점화계통</td>\n",
       "      <td>배전기(Distributor)</td>\n",
       "      <td>1886.00</td>\n",
       "    </tr>\n",
       "    <tr>\n",
       "      <th>30</th>\n",
       "      <td>연료장치</td>\n",
       "      <td>전자제어장치(ECU)</td>\n",
       "      <td>1779.00</td>\n",
       "    </tr>\n",
       "    <tr>\n",
       "      <th>31</th>\n",
       "      <td>각종센서</td>\n",
       "      <td>드로틀포지션센서</td>\n",
       "      <td>1723.00</td>\n",
       "    </tr>\n",
       "    <tr>\n",
       "      <th>32</th>\n",
       "      <td>블로바이가스환원장치</td>\n",
       "      <td>PCV밸브</td>\n",
       "      <td>1554.00</td>\n",
       "    </tr>\n",
       "    <tr>\n",
       "      <th>33</th>\n",
       "      <td>연료증발가스방지장치</td>\n",
       "      <td>캐니스터및필터</td>\n",
       "      <td>1357.00</td>\n",
       "    </tr>\n",
       "    <tr>\n",
       "      <th>34</th>\n",
       "      <td>연료증발가스방지장치</td>\n",
       "      <td>정화조절밸브(PurgeControlValve)</td>\n",
       "      <td>1004.00</td>\n",
       "    </tr>\n",
       "    <tr>\n",
       "      <th>35</th>\n",
       "      <td>합계</td>\n",
       "      <td>NaN</td>\n",
       "      <td>375556.00</td>\n",
       "    </tr>\n",
       "  </tbody>\n",
       "</table>\n",
       "</div>"
      ],
      "text/plain": [
       "          정비내용                      정비부품명      정비건수\n",
       "0         엔진계통           연료분사펌프(조속기조정,봉인)  60649.00\n",
       "1         흡기계통                      에어크리너  40113.00\n",
       "2         연료장치                       엔진오일  34366.00\n",
       "3         엔진계통                       연료휠터  29346.00\n",
       "4    배출가스재순환장치                      EGR밸브  24565.00\n",
       "5         엔진계통                노즐(디젤인젝터포함)  22924.00\n",
       "6         배기계통                        소음기  19755.00\n",
       "7         배기계통                        배기관  15325.00\n",
       "8         연료장치                       엔진정비  14597.00\n",
       "9         연료장치                       냉각계통  12880.00\n",
       "10        각종센서                       산소센서  10105.00\n",
       "11        각종센서                     공기유량센서   7396.00\n",
       "12        엔진계통                   공연비(혼합비)   7103.00\n",
       "13        흡기계통                      드로틀바디   7026.00\n",
       "14    배출가스전환장치  정화용촉매(CatalyticConverter)   6719.00\n",
       "15        점화계통                      점화플러그   5502.00\n",
       "16        연료장치                      공회전속도   5299.00\n",
       "17        점화계통               점화시기(분사시기)조정   4915.00\n",
       "18    배출가스전환장치                디젤산화촉매(DOC)   4856.00\n",
       "19        엔진계통                  기화기(믹서포함)   4706.00\n",
       "20    배출가스전환장치                매연여과장치(DPF)   4416.00\n",
       "21        흡기계통                        과급기   4379.00\n",
       "22   배출가스재순환장치                 EGR제어용서머밸브   4312.00\n",
       "23        점화계통                       점화배선   3417.00\n",
       "24         NaN                        NaN   2639.00\n",
       "25        엔진계통                    연료압력조절기   2333.00\n",
       "26        엔진계통                   인젝터(휘발유)   2286.00\n",
       "27  블로바이가스환원장치                   블로바이가스호스   2226.00\n",
       "28        각종센서                     냉각수온센서   2098.00\n",
       "29        점화계통           배전기(Distributor)   1886.00\n",
       "30        연료장치                전자제어장치(ECU)   1779.00\n",
       "31        각종센서                   드로틀포지션센서   1723.00\n",
       "32  블로바이가스환원장치                      PCV밸브   1554.00\n",
       "33  연료증발가스방지장치                    캐니스터및필터   1357.00\n",
       "34  연료증발가스방지장치  정화조절밸브(PurgeControlValve)   1004.00\n",
       "35          합계                        NaN 375556.00"
      ]
     },
     "execution_count": 776,
     "metadata": {},
     "output_type": "execute_result"
    }
   ],
   "source": [
    "grp7 = total_err.groupby(['정비내용', '정비부품명'], dropna=False)['차량번호'].count().reset_index()\n",
    "grp7 = grp7.rename(columns={'차량번호':'정비건수'})\n",
    "grp7 = grp7.sort_values('정비건수', ascending=False).reset_index(drop=True)\n",
    "# grp7.loc[grp7.shape[0], ['정비내용', '정비건수']] = ['합계', grp7['정비건수'].sum()]\n",
    "grp7"
   ]
  },
  {
   "cell_type": "markdown",
   "metadata": {},
   "source": [
    "#### [출력] STD_BD41_7_OVHUL_ITM"
   ]
  },
  {
   "cell_type": "code",
   "execution_count": 777,
   "metadata": {},
   "outputs": [
    {
     "data": {
      "text/plain": [
       "Index(['정비내용', '정비부품명', '정비건수'], dtype='object')"
      ]
     },
     "execution_count": 777,
     "metadata": {},
     "output_type": "execute_result"
    }
   ],
   "source": [
    "grp7.columns"
   ]
  },
  {
   "cell_type": "code",
   "execution_count": 779,
   "metadata": {},
   "outputs": [
    {
     "data": {
      "text/plain": [
       "'20240119_AM_104131'"
      ]
     },
     "execution_count": 779,
     "metadata": {},
     "output_type": "execute_result"
    }
   ],
   "source": [
    "today_date_dtl = datetime.today().strftime('%Y%m%d_%p_%I%M%S')\n",
    "today_date_dtl"
   ]
  },
  {
   "cell_type": "code",
   "execution_count": 778,
   "metadata": {},
   "outputs": [],
   "source": [
    "# grp7_dict = {\n",
    "#     '정비내용':'OVHUL_CN', \n",
    "#     '정비부품명':'OVHUL_CMPNT_NM', \n",
    "#     '정비건수':'OVHUL_NOCS', \n",
    "# }\n",
    "# STD_BD41_7_OVHUL_ITM = grp7.rename(columns={grp7_dict})\n",
    "# STD_BD41_7_OVHUL_ITM['LOAD_DT'] = datetime.today().strftime('%Y%m%d')\n",
    "# print(STD_BD41_7_OVHUL_ITM.columns)\n",
    "\n",
    "# #\n",
    "# if export_opt == 'y':\n",
    "#     STD_BD41_7_OVHUL_ITM.to_excel(os.path.join(df4_fold, f'STD_BD41_7_OVHUL_ITM_{today_date_dtl}.xlsx'), index=False)\n",
    "#     print('STD_BD41_7_OVHUL_ITM 출력 완료.')\n",
    "# else:\n",
    "#     pass"
   ]
  },
  {
   "cell_type": "code",
   "execution_count": 780,
   "metadata": {},
   "outputs": [],
   "source": [
    "# 0.0s\n",
    "if export_opt == 'y':\n",
    "    grp7.to_excel(os.path.join(df4_fold, f'STD_BD41_7_OVHUL_ITM_{today_date_dtl}.xlsx'), index=False)\n",
    "else:\n",
    "    pass"
   ]
  },
  {
   "cell_type": "markdown",
   "metadata": {},
   "source": [
    "### [🔺] 4.2.8 STD_BD42_8_OVHUL_ITM\n",
    "- total_err과 가장 최근 검사 기준 차대번호 중복 제거한 ins 병합"
   ]
  },
  {
   "cell_type": "code",
   "execution_count": 781,
   "metadata": {},
   "outputs": [
    {
     "data": {
      "text/plain": [
       "(173740086, 25)"
      ]
     },
     "execution_count": 781,
     "metadata": {},
     "output_type": "execute_result"
    }
   ],
   "source": [
    "ins.shape"
   ]
  },
  {
   "cell_type": "code",
   "execution_count": 782,
   "metadata": {},
   "outputs": [
    {
     "data": {
      "text/plain": [
       "Index(['차대번호', '검사일자', '주행거리', '검사종류', '검사방법', '검사판정', '무부하매연측정치1',\n",
       "       '무부하매연허용치1', '무부하매연판정1', '무부하매연측정치2', '무부하매연허용치2', '무부하매연판정2',\n",
       "       '무부하매연측정치3', '무부하매연허용치3', '무부하매연판정3', '무부하매연측정치4', '무부하매연허용치4',\n",
       "       '무부하매연판정4', '무부하매연측정치5', '무부하매연허용치5', '무부하매연판정5', '무부하매연측정치6',\n",
       "       '무부하매연허용치6', '무부하매연판정6', '정기정밀구분'],\n",
       "      dtype='object')"
      ]
     },
     "execution_count": 782,
     "metadata": {},
     "output_type": "execute_result"
    }
   ],
   "source": [
    "ins.columns"
   ]
  },
  {
   "cell_type": "code",
   "execution_count": 783,
   "metadata": {},
   "outputs": [
    {
     "data": {
      "text/plain": [
       "dtype('int64')"
      ]
     },
     "execution_count": 783,
     "metadata": {},
     "output_type": "execute_result"
    }
   ],
   "source": [
    "ins['검사일자'].dtype"
   ]
  },
  {
   "cell_type": "code",
   "execution_count": 784,
   "metadata": {},
   "outputs": [
    {
     "data": {
      "text/plain": [
       "0"
      ]
     },
     "execution_count": 784,
     "metadata": {},
     "output_type": "execute_result"
    }
   ],
   "source": [
    "ins['검사일자'].isnull().sum()"
   ]
  },
  {
   "cell_type": "markdown",
   "metadata": {},
   "source": [
    "#### 정기/정밀 검사 차대번호 중복 제거"
   ]
  },
  {
   "cell_type": "code",
   "execution_count": 785,
   "metadata": {},
   "outputs": [
    {
     "data": {
      "text/plain": [
       "(32067437, 25)"
      ]
     },
     "execution_count": 785,
     "metadata": {},
     "output_type": "execute_result"
    }
   ],
   "source": [
    "# 3m 41.6s\n",
    "insm = ins.sort_values('검사일자', ascending=False).drop_duplicates('차대번호').reset_index(drop=True)\n",
    "insm.shape"
   ]
  },
  {
   "cell_type": "code",
   "execution_count": 786,
   "metadata": {},
   "outputs": [
    {
     "data": {
      "text/plain": [
       "(375556, 46)"
      ]
     },
     "execution_count": 786,
     "metadata": {},
     "output_type": "execute_result"
    }
   ],
   "source": [
    "total_err.shape"
   ]
  },
  {
   "cell_type": "code",
   "execution_count": 787,
   "metadata": {},
   "outputs": [
    {
     "data": {
      "text/plain": [
       "15427"
      ]
     },
     "execution_count": 787,
     "metadata": {},
     "output_type": "execute_result"
    }
   ],
   "source": [
    "len(set(total_err['차대번호'].to_list()) - set(insm['차대번호'].to_list()))"
   ]
  },
  {
   "cell_type": "code",
   "execution_count": 788,
   "metadata": {},
   "outputs": [
    {
     "data": {
      "text/plain": [
       "(375556, 70)"
      ]
     },
     "execution_count": 788,
     "metadata": {},
     "output_type": "execute_result"
    }
   ],
   "source": [
    "srt8 = total_err.merge(insm, on='차대번호', how='left')\n",
    "srt8.shape"
   ]
  },
  {
   "cell_type": "code",
   "execution_count": 789,
   "metadata": {},
   "outputs": [
    {
     "data": {
      "text/plain": [
       "무부하매연판정1    66115\n",
       "무부하매연판정2    66115\n",
       "무부하매연판정3    66115\n",
       "dtype: int64"
      ]
     },
     "execution_count": 789,
     "metadata": {},
     "output_type": "execute_result"
    }
   ],
   "source": [
    "srt8[['무부하매연판정1', '무부하매연판정2', '무부하매연판정3']].isnull().sum()"
   ]
  },
  {
   "cell_type": "code",
   "execution_count": 790,
   "metadata": {},
   "outputs": [
    {
     "data": {
      "text/plain": [
       "array(['경유', nan, 'LPG', '휘발유', '하이브리드(휘발유+전기)', 'CNG', '하이브리드(LPG+전기)',\n",
       "       '기타연료'], dtype=object)"
      ]
     },
     "execution_count": 790,
     "metadata": {},
     "output_type": "execute_result"
    }
   ],
   "source": [
    "srt8['연료'].unique()"
   ]
  },
  {
   "cell_type": "code",
   "execution_count": 791,
   "metadata": {},
   "outputs": [
    {
     "data": {
      "text/plain": [
       "array(['경유', nan, 'LPG', '휘발유', '하이브리드(휘발유+전기)', 'CNG', '하이브리드(LPG+전기)',\n",
       "       '기타연료'], dtype=object)"
      ]
     },
     "execution_count": 791,
     "metadata": {},
     "output_type": "execute_result"
    }
   ],
   "source": [
    "srt8['연료'] = srt8['연료'].replace({'LPG(액화석유가스)':'LPG'})\n",
    "srt8['연료'].unique()"
   ]
  },
  {
   "cell_type": "code",
   "execution_count": 792,
   "metadata": {},
   "outputs": [
    {
     "data": {
      "text/plain": [
       "((22468, 70), (1336, 70), (1354, 70), (2208, 70))"
      ]
     },
     "execution_count": 792,
     "metadata": {},
     "output_type": "execute_result"
    }
   ],
   "source": [
    "srt8_jt1n = srt8[(srt8['무부하매연판정1'] == 'N') & (srt8['연료'] == '경유')].reset_index(drop=True)\n",
    "srt8_jt2n = srt8[(srt8['무부하매연판정1'] == 'N') & ( (srt8['연료'] == '휘발유') | (srt8['연료'] == 'LPG'))].reset_index(drop=True)\n",
    "srt8_jt3n = srt8[(srt8['무부하매연판정2'] == 'N') & ( (srt8['연료'] == '휘발유') | (srt8['연료'] == 'LPG'))].reset_index(drop=True)\n",
    "srt8_jt4n = srt8[(srt8['무부하매연판정3'] == 'N') & ( (srt8['연료'] == '휘발유') | (srt8['연료'] == 'LPG'))].reset_index(drop=True)\n",
    "srt8_jt1n.shape, srt8_jt2n.shape, srt8_jt3n.shape, srt8_jt4n.shape"
   ]
  },
  {
   "cell_type": "code",
   "execution_count": 793,
   "metadata": {},
   "outputs": [
    {
     "name": "stdout",
     "output_type": "stream",
     "text": [
      "['경유']\n",
      "['휘발유' 'LPG']\n",
      "['휘발유' 'LPG']\n",
      "['LPG' '휘발유']\n"
     ]
    }
   ],
   "source": [
    "print(srt8_jt1n['연료'].unique())\n",
    "print(srt8_jt2n['연료'].unique())\n",
    "print(srt8_jt3n['연료'].unique())\n",
    "print(srt8_jt4n['연료'].unique())"
   ]
  },
  {
   "cell_type": "code",
   "execution_count": 794,
   "metadata": {},
   "outputs": [],
   "source": [
    "# grp8_1 = srt8_jt1n.groupby(['정비내용', '정비부품명'], dropna=False)['차량번호'].count().reset_index()\n",
    "# grp8_1 = grp8_1.rename(columns={'차량번호':'정비건수'})\n",
    "# grp8_1.loc[grp8_1.shape[0], ['정비내용', '정비건수']] = ['합계', grp8_1['정비건수'].sum()]\n",
    "# display(grp8_1.tail())\n",
    "# print()\n",
    "\n",
    "# grp8_2 = srt8_jt2n.groupby(['정비내용', '정비부품명'], dropna=False)['차량번호'].count().reset_index()\n",
    "# grp8_2 = grp8_2.rename(columns={'차량번호':'정비건수'})\n",
    "# grp8_2.loc[grp8_2.shape[0], ['정비내용', '정비건수']] = ['합계', grp8_2['정비건수'].sum()]\n",
    "# display(grp8_2.tail())\n",
    "# print()\n",
    "\n",
    "# grp8_3 = srt8_jt3n.groupby(['정비내용', '정비부품명'], dropna=False)['차량번호'].count().reset_index()\n",
    "# grp8_3 = grp8_3.rename(columns={'차량번호':'정비건수'})\n",
    "# grp8_3.loc[grp8_3.shape[0], ['정비내용', '정비건수']] = ['합계', grp8_3['정비건수'].sum()]\n",
    "# display(grp8_3.tail())\n",
    "# print()\n",
    "\n",
    "# grp8_4 = srt8_jt4n.groupby(['정비내용', '정비부품명'], dropna=False)['차량번호'].count().reset_index()\n",
    "# grp8_4 = grp8_4.rename(columns={'차량번호':'정비건수'})\n",
    "# grp8_4.loc[grp8_4.shape[0], ['정비내용', '정비건수']] = ['합계', grp8_4['정비건수'].sum()]\n",
    "# display(grp8_4.tail())\n",
    "# print()"
   ]
  },
  {
   "cell_type": "code",
   "execution_count": 904,
   "metadata": {},
   "outputs": [],
   "source": [
    "def func8_grp(df):\n",
    "    grp = df.groupby(['정비내용', '정비부품명'], dropna=False)['차량번호'].count().reset_index()\n",
    "    grp = grp.rename(columns={'차량번호':'정비건수'})\n",
    "    grp = grp.sort_values('정비건수', ascending=False).reset_index(drop=True)\n",
    "    # grp.loc[grp.shape[0], ['정비내용', '정비건수']] = ['합계', grp['정비건수'].sum()]\n",
    "    return grp"
   ]
  },
  {
   "cell_type": "code",
   "execution_count": 905,
   "metadata": {},
   "outputs": [],
   "source": [
    "for i, one in enumerate([srt8_jt1n, srt8_jt2n, srt8_jt3n, srt8_jt4n]):\n",
    "    globals()[f'grp8_{i+1}'] = func8_grp(one)"
   ]
  },
  {
   "cell_type": "code",
   "execution_count": 906,
   "metadata": {},
   "outputs": [],
   "source": [
    "grp8_1['불합격내역'] = '매연'\n",
    "grp8_2['불합격내역'] = 'CO'\n",
    "grp8_3['불합격내역'] = 'HC'\n",
    "grp8_4['불합격내역'] = 'NOx'"
   ]
  },
  {
   "cell_type": "code",
   "execution_count": 907,
   "metadata": {},
   "outputs": [
    {
     "data": {
      "text/html": [
       "<div>\n",
       "<style scoped>\n",
       "    .dataframe tbody tr th:only-of-type {\n",
       "        vertical-align: middle;\n",
       "    }\n",
       "\n",
       "    .dataframe tbody tr th {\n",
       "        vertical-align: top;\n",
       "    }\n",
       "\n",
       "    .dataframe thead th {\n",
       "        text-align: right;\n",
       "    }\n",
       "</style>\n",
       "<table border=\"1\" class=\"dataframe\">\n",
       "  <thead>\n",
       "    <tr style=\"text-align: right;\">\n",
       "      <th></th>\n",
       "      <th>정비내용</th>\n",
       "      <th>정비부품명</th>\n",
       "      <th>정비건수</th>\n",
       "      <th>불합격내역</th>\n",
       "    </tr>\n",
       "  </thead>\n",
       "  <tbody>\n",
       "    <tr>\n",
       "      <th>135</th>\n",
       "      <td>배출가스전환장치</td>\n",
       "      <td>매연여과장치(DPF)</td>\n",
       "      <td>11</td>\n",
       "      <td>NOx</td>\n",
       "    </tr>\n",
       "    <tr>\n",
       "      <th>136</th>\n",
       "      <td>엔진계통</td>\n",
       "      <td>연료분사펌프(조속기조정,봉인)</td>\n",
       "      <td>10</td>\n",
       "      <td>NOx</td>\n",
       "    </tr>\n",
       "    <tr>\n",
       "      <th>137</th>\n",
       "      <td>엔진계통</td>\n",
       "      <td>노즐(디젤인젝터포함)</td>\n",
       "      <td>10</td>\n",
       "      <td>NOx</td>\n",
       "    </tr>\n",
       "    <tr>\n",
       "      <th>138</th>\n",
       "      <td>흡기계통</td>\n",
       "      <td>과급기</td>\n",
       "      <td>10</td>\n",
       "      <td>NOx</td>\n",
       "    </tr>\n",
       "    <tr>\n",
       "      <th>139</th>\n",
       "      <td>연료증발가스방지장치</td>\n",
       "      <td>정화조절밸브(PurgeControlValve)</td>\n",
       "      <td>8</td>\n",
       "      <td>NOx</td>\n",
       "    </tr>\n",
       "  </tbody>\n",
       "</table>\n",
       "</div>"
      ],
      "text/plain": [
       "           정비내용                      정비부품명  정비건수 불합격내역\n",
       "135    배출가스전환장치                매연여과장치(DPF)    11   NOx\n",
       "136        엔진계통           연료분사펌프(조속기조정,봉인)    10   NOx\n",
       "137        엔진계통                노즐(디젤인젝터포함)    10   NOx\n",
       "138        흡기계통                        과급기    10   NOx\n",
       "139  연료증발가스방지장치  정화조절밸브(PurgeControlValve)     8   NOx"
      ]
     },
     "execution_count": 907,
     "metadata": {},
     "output_type": "execute_result"
    }
   ],
   "source": [
    "grp8 = pd.concat([grp8_1, grp8_2, grp8_3, grp8_4], ignore_index=True)\n",
    "grp8.tail()"
   ]
  },
  {
   "cell_type": "code",
   "execution_count": 908,
   "metadata": {},
   "outputs": [
    {
     "data": {
      "text/plain": [
       "Index(['정비내용', '정비부품명', '정비건수', '불합격내역'], dtype='object')"
      ]
     },
     "execution_count": 908,
     "metadata": {},
     "output_type": "execute_result"
    }
   ],
   "source": [
    "grp8.columns"
   ]
  },
  {
   "cell_type": "markdown",
   "metadata": {},
   "source": [
    "#### [출력] STD_BD42_8_OVHUL_ITM "
   ]
  },
  {
   "cell_type": "code",
   "execution_count": 798,
   "metadata": {},
   "outputs": [
    {
     "data": {
      "text/plain": [
       "'20240119_AM_104504'"
      ]
     },
     "execution_count": 798,
     "metadata": {},
     "output_type": "execute_result"
    }
   ],
   "source": [
    "today_date_dtl = datetime.today().strftime('%Y%m%d_%p_%I%M%S')\n",
    "today_date_dtl"
   ]
  },
  {
   "cell_type": "code",
   "execution_count": null,
   "metadata": {},
   "outputs": [],
   "source": [
    "# STD_BD42_8_OVHUL_ITM = grp8[[\n",
    "#     '정비내용',\n",
    "#     '정비부품명',\n",
    "#     '정비건수',\n",
    "#     '불합격내역',\n",
    "# ]]\n",
    "# grp8_dict = {\n",
    "#     '정비내용':'OVHUL_CN',\n",
    "#     '정비부품명':'OVHUL_CMPNT_NM',\n",
    "#     '정비건수':'OVHUL_NOCS',\n",
    "#     '불합격내역':'FAIL_BRKWN',\n",
    "# }\n",
    "# STD_BD42_8_OVHUL_ITM = STD_BD42_8_OVHUL_ITM.rename(columns=grp8_dict)\n",
    "# STD_BD42_8_OVHUL_ITM['LOAD_DT'] = datetime.today().strftime('%Y%m%d')\n",
    "# print(STD_BD42_8_OVHUL_ITM.columns)\n",
    "\n",
    "# if export_opt == 'y':\n",
    "#     STD_BD42_8_OVHUL_ITM.to_csv(os.path.join(df4_fold, f'STD_BD42_8_OVHUL_ITM_{today_date_dtl}.csv'), index=False)\n",
    "#     print('STD_BD42_8_OVHUL_ITM 출력 완료.')\n",
    "# else:\n",
    "#     pass"
   ]
  },
  {
   "cell_type": "code",
   "execution_count": 799,
   "metadata": {},
   "outputs": [],
   "source": [
    "if export_opt == 'y':\n",
    "    with pd.ExcelWriter(os.path.join(df4_fold, f'STD_BD42_8_OVHUL_ITM_{today_date_dtl}.xlsx')) as writer:\n",
    "        grp8_1.to_excel(writer, sheet_name='판정1_매연', index=False)\n",
    "        grp8_2.to_excel(writer, sheet_name='판정1_CO', index=False)\n",
    "        grp8_3.to_excel(writer, sheet_name='판정2_HC', index=False)\n",
    "        grp8_4.to_excel(writer, sheet_name='판정3_NOx', index=False)\n",
    "else:\n",
    "    pass"
   ]
  },
  {
   "cell_type": "markdown",
   "metadata": {},
   "source": [
    "### [🔺] 4.2.9 STD_BD42_9_OVHUL_CL"
   ]
  },
  {
   "cell_type": "code",
   "execution_count": 800,
   "metadata": {},
   "outputs": [
    {
     "data": {
      "text/plain": [
       "((22468, 70), (1336, 70), (1354, 70), (2208, 70))"
      ]
     },
     "execution_count": 800,
     "metadata": {},
     "output_type": "execute_result"
    }
   ],
   "source": [
    "srt8_jt1n.shape, srt8_jt2n.shape, srt8_jt3n.shape, srt8_jt4n.shape"
   ]
  },
  {
   "cell_type": "code",
   "execution_count": 801,
   "metadata": {},
   "outputs": [
    {
     "data": {
      "text/plain": [
       "((22468, 70), (1336, 70), (1354, 70), (2208, 70))"
      ]
     },
     "execution_count": 801,
     "metadata": {},
     "output_type": "execute_result"
    }
   ],
   "source": [
    "srt9_jt1n = srt8_jt1n.copy()\n",
    "srt9_jt2n = srt8_jt2n.copy()\n",
    "srt9_jt3n = srt8_jt3n.copy()\n",
    "srt9_jt4n = srt8_jt4n.copy()\n",
    "srt9_jt1n.shape, srt9_jt2n.shape, srt9_jt3n.shape, srt9_jt4n.shape"
   ]
  },
  {
   "cell_type": "code",
   "execution_count": 802,
   "metadata": {},
   "outputs": [
    {
     "data": {
      "text/plain": [
       "((327, 70), (12, 70), (3, 70), (13, 70))"
      ]
     },
     "execution_count": 802,
     "metadata": {},
     "output_type": "execute_result"
    }
   ],
   "source": [
    "srt9_jt1n = srt9_jt1n[srt9_jt1n['제작사명'].notnull()].reset_index(drop=True)\n",
    "srt9_jt2n = srt9_jt2n[srt9_jt2n['제작사명'].notnull()].reset_index(drop=True)\n",
    "srt9_jt3n = srt9_jt3n[srt9_jt3n['제작사명'].notnull()].reset_index(drop=True)\n",
    "srt9_jt4n = srt9_jt4n[srt9_jt4n['제작사명'].notnull()].reset_index(drop=True)\n",
    "srt9_jt1n.shape, srt9_jt2n.shape, srt9_jt3n.shape, srt9_jt4n.shape"
   ]
  },
  {
   "cell_type": "code",
   "execution_count": 803,
   "metadata": {},
   "outputs": [],
   "source": [
    "# # srt9_jt1n : 무부하매연판정1 == N\n",
    "# grp9_1 = srt9_jt1n.groupby(['연료', '차종', '제작사명'], dropna=False)['차량번호'].count().reset_index()\n",
    "# grp9_1 = grp9_1.rename(columns={'차량번호':'정비건수'})\n",
    "# grp9_1.loc[grp9_1.shape[0], ['연료', '정비건수']] = ['합계', grp9_1['정비건수'].sum()]\n",
    "# display(grp9_1.tail())\n",
    "# print()\n",
    "\n",
    "# # srt9_jt2n : 무부하매연판정1 == N\n",
    "# grp9_2 = srt9_jt2n.groupby(['연료', '차종', '제작사명'], dropna=False)['차량번호'].count().reset_index()\n",
    "# grp9_2 = grp9_2.rename(columns={'차량번호':'정비건수'})\n",
    "# grp9_2.loc[grp9_2.shape[0], ['연료', '정비건수']] = ['합계', grp9_2['정비건수'].sum()]\n",
    "# display(grp9_2.tail())\n",
    "# print()\n",
    "\n",
    "# # srt9_jt3n : 무부하매연판정1 == N\n",
    "# grp9_3 = srt9_jt3n.groupby(['연료', '차종', '제작사명'], dropna=False)['차량번호'].count().reset_index()\n",
    "# grp9_3 = grp9_3.rename(columns={'차량번호':'정비건수'})\n",
    "# grp9_3.loc[grp9_3.shape[0], ['연료', '정비건수']] = ['합계', grp9_3['정비건수'].sum()]\n",
    "# display(grp9_3.tail())\n",
    "# print()\n",
    "\n",
    "# # srt9_jt4n : 무부하매연판정1 == N\n",
    "# grp9_4 = srt9_jt4n.groupby(['연료', '차종', '제작사명'], dropna=False)['차량번호'].count().reset_index()\n",
    "# grp9_4 = grp9_4.rename(columns={'차량번호':'정비건수'})\n",
    "# grp9_4.loc[grp9_4.shape[0], ['연료', '정비건수']] = ['합계', grp9_4['정비건수'].sum()]\n",
    "# display(grp9_4.tail())\n",
    "# print()"
   ]
  },
  {
   "cell_type": "code",
   "execution_count": 911,
   "metadata": {},
   "outputs": [],
   "source": [
    "def func9_grp(df):\n",
    "    grp = df.groupby(['연료', '차종', '제작사명'], dropna=False)['차량번호'].count().reset_index()\n",
    "    grp = grp.rename(columns={'차량번호':'정비건수'})\n",
    "    grp = grp.sort_values('정비건수', ascending=False).reset_index(drop=True)\n",
    "    # grp.loc[grp.shape[0], ['연료', '정비건수']] = ['합계', grp['정비건수'].sum()]\n",
    "    return grp"
   ]
  },
  {
   "cell_type": "code",
   "execution_count": 912,
   "metadata": {},
   "outputs": [],
   "source": [
    "for i, one in enumerate([srt9_jt1n, srt9_jt2n, srt9_jt3n, srt9_jt4n]):\n",
    "    globals()[f'grp9_{i+1}'] = func9_grp(one)"
   ]
  },
  {
   "cell_type": "code",
   "execution_count": 913,
   "metadata": {},
   "outputs": [],
   "source": [
    "grp9_1['불합격내역'] = '매연'\n",
    "grp9_2['불합격내역'] = 'CO'\n",
    "grp9_3['불합격내역'] = 'HC'\n",
    "grp9_4['불합격내역'] = 'NOx'"
   ]
  },
  {
   "cell_type": "code",
   "execution_count": 914,
   "metadata": {},
   "outputs": [
    {
     "data": {
      "text/html": [
       "<div>\n",
       "<style scoped>\n",
       "    .dataframe tbody tr th:only-of-type {\n",
       "        vertical-align: middle;\n",
       "    }\n",
       "\n",
       "    .dataframe tbody tr th {\n",
       "        vertical-align: top;\n",
       "    }\n",
       "\n",
       "    .dataframe thead th {\n",
       "        text-align: right;\n",
       "    }\n",
       "</style>\n",
       "<table border=\"1\" class=\"dataframe\">\n",
       "  <thead>\n",
       "    <tr style=\"text-align: right;\">\n",
       "      <th></th>\n",
       "      <th>연료</th>\n",
       "      <th>차종</th>\n",
       "      <th>제작사명</th>\n",
       "      <th>정비건수</th>\n",
       "      <th>불합격내역</th>\n",
       "    </tr>\n",
       "  </thead>\n",
       "  <tbody>\n",
       "    <tr>\n",
       "      <th>19</th>\n",
       "      <td>휘발유</td>\n",
       "      <td>승용</td>\n",
       "      <td>BENZ</td>\n",
       "      <td>1</td>\n",
       "      <td>CO</td>\n",
       "    </tr>\n",
       "    <tr>\n",
       "      <th>20</th>\n",
       "      <td>휘발유</td>\n",
       "      <td>승용</td>\n",
       "      <td>현대자동차(주)</td>\n",
       "      <td>2</td>\n",
       "      <td>HC</td>\n",
       "    </tr>\n",
       "    <tr>\n",
       "      <th>21</th>\n",
       "      <td>휘발유</td>\n",
       "      <td>승용</td>\n",
       "      <td>BENZ</td>\n",
       "      <td>1</td>\n",
       "      <td>HC</td>\n",
       "    </tr>\n",
       "    <tr>\n",
       "      <th>22</th>\n",
       "      <td>휘발유</td>\n",
       "      <td>승용</td>\n",
       "      <td>현대자동차(주)</td>\n",
       "      <td>8</td>\n",
       "      <td>NOx</td>\n",
       "    </tr>\n",
       "    <tr>\n",
       "      <th>23</th>\n",
       "      <td>LPG</td>\n",
       "      <td>승용</td>\n",
       "      <td>현대자동차(주)</td>\n",
       "      <td>5</td>\n",
       "      <td>NOx</td>\n",
       "    </tr>\n",
       "  </tbody>\n",
       "</table>\n",
       "</div>"
      ],
      "text/plain": [
       "     연료  차종      제작사명  정비건수 불합격내역\n",
       "19  휘발유  승용      BENZ     1    CO\n",
       "20  휘발유  승용  현대자동차(주)     2    HC\n",
       "21  휘발유  승용      BENZ     1    HC\n",
       "22  휘발유  승용  현대자동차(주)     8   NOx\n",
       "23  LPG  승용  현대자동차(주)     5   NOx"
      ]
     },
     "execution_count": 914,
     "metadata": {},
     "output_type": "execute_result"
    }
   ],
   "source": [
    "grp9 = pd.concat([grp9_1, grp9_2, grp9_3, grp9_4], ignore_index=True)\n",
    "grp9.tail()"
   ]
  },
  {
   "cell_type": "code",
   "execution_count": 915,
   "metadata": {},
   "outputs": [
    {
     "data": {
      "text/plain": [
       "Index(['연료', '차종', '제작사명', '정비건수', '불합격내역'], dtype='object')"
      ]
     },
     "execution_count": 915,
     "metadata": {},
     "output_type": "execute_result"
    }
   ],
   "source": [
    "grp9.columns"
   ]
  },
  {
   "cell_type": "markdown",
   "metadata": {},
   "source": [
    "#### [출력] STD_BD42_9_OVHUL_CL"
   ]
  },
  {
   "cell_type": "code",
   "execution_count": 806,
   "metadata": {},
   "outputs": [
    {
     "data": {
      "text/plain": [
       "'20240119_AM_104504'"
      ]
     },
     "execution_count": 806,
     "metadata": {},
     "output_type": "execute_result"
    }
   ],
   "source": [
    "today_date_dtl = datetime.today().strftime('%Y%m%d_%p_%I%M%S')\n",
    "today_date_dtl"
   ]
  },
  {
   "cell_type": "code",
   "execution_count": null,
   "metadata": {},
   "outputs": [],
   "source": [
    "# STD_BD42_9_OVHUL_CL = grp9[[\n",
    "#     '연료',\n",
    "#     '차종',\n",
    "#     '제작사명',\n",
    "#     '정비건수',\n",
    "#     '불합격내역',\n",
    "# ]]\n",
    "# grp9_dict = {\n",
    "#     '연료':'FUEL',\n",
    "#     '차종':'VHCTY',\n",
    "#     '제작사명':'MNFCTR_NM',\n",
    "#     '정비건수':'OVHUL_NOCS',\n",
    "#     '불합격내역':'FAIL_BRKWN',\n",
    "# }\n",
    "# STD_BD42_9_OVHUL_CL = STD_BD42_9_OVHUL_CL.rename(columns=grp9_dict)\n",
    "# STD_BD42_9_OVHUL_CL['LOAD_DT'] = datetime.today().strftime('%Y%m%d')\n",
    "# print(STD_BD42_9_OVHUL_CL.columns)\n",
    "\n",
    "# if export_opt == 'y':\n",
    "#     STD_BD42_9_OVHUL_CL.to_csv(os.path.join(df4_fold, f'STD_BD42_9_OVHUL_CL_{today_date_dtl}.csv'), index=False)\n",
    "#     print('STD_BD42_9_OVHUL_CL 출력 완료.')\n",
    "# else:\n",
    "#     pass"
   ]
  },
  {
   "cell_type": "code",
   "execution_count": 807,
   "metadata": {},
   "outputs": [],
   "source": [
    "if export_opt == 'y':\n",
    "    with pd.ExcelWriter(os.path.join(df4_fold, f'STD_BD42_9_OVHUL_CL_{today_date_dtl}.xlsx')) as writer:\n",
    "        grp9_1.to_excel(writer, sheet_name='판정1_매연', index=False)\n",
    "        grp9_2.to_excel(writer, sheet_name='판정1_CO', index=False)\n",
    "        grp9_3.to_excel(writer, sheet_name='판정2_HC', index=False)\n",
    "        grp9_4.to_excel(writer, sheet_name='판정3_NOx', index=False)\n",
    "else:\n",
    "    pass"
   ]
  },
  {
   "cell_type": "markdown",
   "metadata": {},
   "source": [
    "### [❌] 4.2.10 STD_BD42_10_EXHST_GAS_EXCS"
   ]
  },
  {
   "cell_type": "code",
   "execution_count": null,
   "metadata": {},
   "outputs": [],
   "source": []
  },
  {
   "cell_type": "markdown",
   "metadata": {},
   "source": [
    "### [❌] 4.2.11 STD_BD42_11_BRKWN_CHRC"
   ]
  },
  {
   "cell_type": "code",
   "execution_count": null,
   "metadata": {},
   "outputs": [],
   "source": []
  },
  {
   "cell_type": "markdown",
   "metadata": {},
   "source": [
    "### 4.2.12 STD_BD42_12_RPR_IMPV"
   ]
  },
  {
   "cell_type": "code",
   "execution_count": 808,
   "metadata": {},
   "outputs": [
    {
     "data": {
      "text/plain": [
       "(5452157, 70)"
      ]
     },
     "execution_count": 808,
     "metadata": {},
     "output_type": "execute_result"
    }
   ],
   "source": [
    "pr4.shape"
   ]
  },
  {
   "cell_type": "code",
   "execution_count": 809,
   "metadata": {},
   "outputs": [
    {
     "data": {
      "text/plain": [
       "점검일자      int64\n",
       "검사일자    float64\n",
       "dtype: object"
      ]
     },
     "execution_count": 809,
     "metadata": {},
     "output_type": "execute_result"
    }
   ],
   "source": [
    "pr4[['점검일자', '검사일자']].dtypes"
   ]
  },
  {
   "cell_type": "code",
   "execution_count": 810,
   "metadata": {},
   "outputs": [
    {
     "data": {
      "text/plain": [
       "점검일자        0\n",
       "검사일자    66115\n",
       "dtype: int64"
      ]
     },
     "execution_count": 810,
     "metadata": {},
     "output_type": "execute_result"
    }
   ],
   "source": [
    "pr4[['점검일자', '검사일자']].isnull().sum()"
   ]
  },
  {
   "cell_type": "code",
   "execution_count": 811,
   "metadata": {},
   "outputs": [
    {
     "data": {
      "text/plain": [
       "((2408596, 70), (2977446, 70))"
      ]
     },
     "execution_count": 811,
     "metadata": {},
     "output_type": "execute_result"
    }
   ],
   "source": [
    "# srt12_before : 점검일자 전의 검사 기록(수리 전 검사기록)\n",
    "# srt12_after : 점검일자 후 또는 같을 때의 검사 기록(수리 후 검사기록)\n",
    "srt12_before = pr4[pr4['점검일자'] > pr4['검사일자']].reset_index(drop=True)\n",
    "srt12_after = pr4[pr4['점검일자'] <= pr4['검사일자']].reset_index(drop=True)\n",
    "srt12_before.shape, srt12_after.shape"
   ]
  },
  {
   "cell_type": "code",
   "execution_count": 812,
   "metadata": {},
   "outputs": [
    {
     "data": {
      "text/plain": [
       "(5386042, 70)"
      ]
     },
     "execution_count": 812,
     "metadata": {},
     "output_type": "execute_result"
    }
   ],
   "source": [
    "pr4[(pr4['점검일자'].notnull()) & (pr4['검사일자'].notnull())].shape"
   ]
  },
  {
   "cell_type": "code",
   "execution_count": 813,
   "metadata": {},
   "outputs": [
    {
     "data": {
      "text/plain": [
       "True"
      ]
     },
     "execution_count": 813,
     "metadata": {},
     "output_type": "execute_result"
    }
   ],
   "source": [
    "srt12_before.shape[0] + srt12_after.shape[0] == pr4[(pr4['점검일자'].notnull()) & (pr4['검사일자'].notnull())].shape[0]"
   ]
  },
  {
   "cell_type": "code",
   "execution_count": 814,
   "metadata": {},
   "outputs": [
    {
     "data": {
      "text/html": [
       "<div>\n",
       "<style scoped>\n",
       "    .dataframe tbody tr th:only-of-type {\n",
       "        vertical-align: middle;\n",
       "    }\n",
       "\n",
       "    .dataframe tbody tr th {\n",
       "        vertical-align: top;\n",
       "    }\n",
       "\n",
       "    .dataframe thead th {\n",
       "        text-align: right;\n",
       "    }\n",
       "</style>\n",
       "<table border=\"1\" class=\"dataframe\">\n",
       "  <thead>\n",
       "    <tr style=\"text-align: right;\">\n",
       "      <th></th>\n",
       "      <th>연료</th>\n",
       "      <th>정비내용</th>\n",
       "      <th>정비부품명</th>\n",
       "      <th>무부하매연측정치1_전</th>\n",
       "      <th>무부하매연측정치2_전</th>\n",
       "      <th>무부하매연측정치3_전</th>\n",
       "    </tr>\n",
       "  </thead>\n",
       "  <tbody>\n",
       "    <tr>\n",
       "      <th>0</th>\n",
       "      <td>CNG</td>\n",
       "      <td>각종센서</td>\n",
       "      <td>산소센서</td>\n",
       "      <td>0.00</td>\n",
       "      <td>28.00</td>\n",
       "      <td>736.00</td>\n",
       "    </tr>\n",
       "    <tr>\n",
       "      <th>1</th>\n",
       "      <td>CNG</td>\n",
       "      <td>엔진계통</td>\n",
       "      <td>연료휠터</td>\n",
       "      <td>0.00</td>\n",
       "      <td>28.00</td>\n",
       "      <td>736.00</td>\n",
       "    </tr>\n",
       "    <tr>\n",
       "      <th>2</th>\n",
       "      <td>CNG</td>\n",
       "      <td>점화계통</td>\n",
       "      <td>점화플러그</td>\n",
       "      <td>0.00</td>\n",
       "      <td>28.00</td>\n",
       "      <td>736.00</td>\n",
       "    </tr>\n",
       "    <tr>\n",
       "      <th>3</th>\n",
       "      <td>CNG</td>\n",
       "      <td>흡기계통</td>\n",
       "      <td>드로틀바디</td>\n",
       "      <td>0.00</td>\n",
       "      <td>24.00</td>\n",
       "      <td>1908.00</td>\n",
       "    </tr>\n",
       "    <tr>\n",
       "      <th>4</th>\n",
       "      <td>CNG</td>\n",
       "      <td>흡기계통</td>\n",
       "      <td>에어크리너</td>\n",
       "      <td>0.00</td>\n",
       "      <td>24.00</td>\n",
       "      <td>1908.00</td>\n",
       "    </tr>\n",
       "  </tbody>\n",
       "</table>\n",
       "</div>"
      ],
      "text/plain": [
       "    연료  정비내용  정비부품명  무부하매연측정치1_전  무부하매연측정치2_전  무부하매연측정치3_전\n",
       "0  CNG  각종센서   산소센서         0.00        28.00       736.00\n",
       "1  CNG  엔진계통   연료휠터         0.00        28.00       736.00\n",
       "2  CNG  점화계통  점화플러그         0.00        28.00       736.00\n",
       "3  CNG  흡기계통  드로틀바디         0.00        24.00      1908.00\n",
       "4  CNG  흡기계통  에어크리너         0.00        24.00      1908.00"
      ]
     },
     "execution_count": 814,
     "metadata": {},
     "output_type": "execute_result"
    }
   ],
   "source": [
    "grp12_1 = srt12_before.groupby(['연료', '정비내용', '정비부품명'], dropna=False).agg({'무부하매연측정치1':'mean', '무부하매연측정치2':'mean', '무부하매연측정치3':'mean'}).reset_index()\n",
    "grp12_1[['무부하매연측정치1', '무부하매연측정치2', '무부하매연측정치3']] = grp12_1[['무부하매연측정치1', '무부하매연측정치2', '무부하매연측정치3']].round(2)\n",
    "grp12_1 = grp12_1.rename(columns={'무부하매연측정치1':'무부하매연측정치1_전', '무부하매연측정치2':'무부하매연측정치2_전', '무부하매연측정치3':'무부하매연측정치3_전'})\n",
    "grp12_1.head()"
   ]
  },
  {
   "cell_type": "code",
   "execution_count": 815,
   "metadata": {},
   "outputs": [
    {
     "data": {
      "text/html": [
       "<div>\n",
       "<style scoped>\n",
       "    .dataframe tbody tr th:only-of-type {\n",
       "        vertical-align: middle;\n",
       "    }\n",
       "\n",
       "    .dataframe tbody tr th {\n",
       "        vertical-align: top;\n",
       "    }\n",
       "\n",
       "    .dataframe thead th {\n",
       "        text-align: right;\n",
       "    }\n",
       "</style>\n",
       "<table border=\"1\" class=\"dataframe\">\n",
       "  <thead>\n",
       "    <tr style=\"text-align: right;\">\n",
       "      <th></th>\n",
       "      <th>연료</th>\n",
       "      <th>정비내용</th>\n",
       "      <th>정비부품명</th>\n",
       "      <th>무부하매연측정치1_후</th>\n",
       "      <th>무부하매연측정치2_후</th>\n",
       "      <th>무부하매연측정치3_후</th>\n",
       "    </tr>\n",
       "  </thead>\n",
       "  <tbody>\n",
       "    <tr>\n",
       "      <th>0</th>\n",
       "      <td>CNG</td>\n",
       "      <td>각종센서</td>\n",
       "      <td>산소센서</td>\n",
       "      <td>0.31</td>\n",
       "      <td>240.35</td>\n",
       "      <td>204.89</td>\n",
       "    </tr>\n",
       "    <tr>\n",
       "      <th>1</th>\n",
       "      <td>CNG</td>\n",
       "      <td>배기계통</td>\n",
       "      <td>소음기</td>\n",
       "      <td>0.21</td>\n",
       "      <td>193.61</td>\n",
       "      <td>106.00</td>\n",
       "    </tr>\n",
       "    <tr>\n",
       "      <th>2</th>\n",
       "      <td>CNG</td>\n",
       "      <td>엔진계통</td>\n",
       "      <td>연료휠터</td>\n",
       "      <td>0.00</td>\n",
       "      <td>12.50</td>\n",
       "      <td>1964.00</td>\n",
       "    </tr>\n",
       "    <tr>\n",
       "      <th>3</th>\n",
       "      <td>CNG</td>\n",
       "      <td>점화계통</td>\n",
       "      <td>점화플러그</td>\n",
       "      <td>0.00</td>\n",
       "      <td>12.50</td>\n",
       "      <td>1964.00</td>\n",
       "    </tr>\n",
       "    <tr>\n",
       "      <th>4</th>\n",
       "      <td>CNG</td>\n",
       "      <td>흡기계통</td>\n",
       "      <td>드로틀바디</td>\n",
       "      <td>0.00</td>\n",
       "      <td>37.40</td>\n",
       "      <td>105.80</td>\n",
       "    </tr>\n",
       "  </tbody>\n",
       "</table>\n",
       "</div>"
      ],
      "text/plain": [
       "    연료  정비내용  정비부품명  무부하매연측정치1_후  무부하매연측정치2_후  무부하매연측정치3_후\n",
       "0  CNG  각종센서   산소센서         0.31       240.35       204.89\n",
       "1  CNG  배기계통    소음기         0.21       193.61       106.00\n",
       "2  CNG  엔진계통   연료휠터         0.00        12.50      1964.00\n",
       "3  CNG  점화계통  점화플러그         0.00        12.50      1964.00\n",
       "4  CNG  흡기계통  드로틀바디         0.00        37.40       105.80"
      ]
     },
     "execution_count": 815,
     "metadata": {},
     "output_type": "execute_result"
    }
   ],
   "source": [
    "grp12_2 = srt12_after.groupby(['연료', '정비내용', '정비부품명'], dropna=False).agg({'무부하매연측정치1':'mean', '무부하매연측정치2':'mean', '무부하매연측정치3':'mean'}).reset_index()\n",
    "grp12_2[['무부하매연측정치1', '무부하매연측정치2', '무부하매연측정치3']] = grp12_2[['무부하매연측정치1', '무부하매연측정치2', '무부하매연측정치3']].round(2)\n",
    "grp12_2 = grp12_2.rename(columns={'무부하매연측정치1':'무부하매연측정치1_후', '무부하매연측정치2':'무부하매연측정치2_후', '무부하매연측정치3':'무부하매연측정치3_후'})\n",
    "grp12_2.head()"
   ]
  },
  {
   "cell_type": "code",
   "execution_count": 816,
   "metadata": {},
   "outputs": [
    {
     "data": {
      "text/html": [
       "<div>\n",
       "<style scoped>\n",
       "    .dataframe tbody tr th:only-of-type {\n",
       "        vertical-align: middle;\n",
       "    }\n",
       "\n",
       "    .dataframe tbody tr th {\n",
       "        vertical-align: top;\n",
       "    }\n",
       "\n",
       "    .dataframe thead th {\n",
       "        text-align: right;\n",
       "    }\n",
       "</style>\n",
       "<table border=\"1\" class=\"dataframe\">\n",
       "  <thead>\n",
       "    <tr style=\"text-align: right;\">\n",
       "      <th></th>\n",
       "      <th>연료</th>\n",
       "      <th>정비내용</th>\n",
       "      <th>정비부품명</th>\n",
       "      <th>무부하매연측정치1_전</th>\n",
       "      <th>무부하매연측정치2_전</th>\n",
       "      <th>무부하매연측정치3_전</th>\n",
       "      <th>무부하매연측정치1_후</th>\n",
       "      <th>무부하매연측정치2_후</th>\n",
       "      <th>무부하매연측정치3_후</th>\n",
       "    </tr>\n",
       "  </thead>\n",
       "  <tbody>\n",
       "    <tr>\n",
       "      <th>0</th>\n",
       "      <td>CNG</td>\n",
       "      <td>각종센서</td>\n",
       "      <td>산소센서</td>\n",
       "      <td>0.00</td>\n",
       "      <td>28.00</td>\n",
       "      <td>736.00</td>\n",
       "      <td>0.31</td>\n",
       "      <td>240.35</td>\n",
       "      <td>204.89</td>\n",
       "    </tr>\n",
       "    <tr>\n",
       "      <th>1</th>\n",
       "      <td>CNG</td>\n",
       "      <td>엔진계통</td>\n",
       "      <td>연료휠터</td>\n",
       "      <td>0.00</td>\n",
       "      <td>28.00</td>\n",
       "      <td>736.00</td>\n",
       "      <td>0.00</td>\n",
       "      <td>12.50</td>\n",
       "      <td>1964.00</td>\n",
       "    </tr>\n",
       "    <tr>\n",
       "      <th>2</th>\n",
       "      <td>CNG</td>\n",
       "      <td>점화계통</td>\n",
       "      <td>점화플러그</td>\n",
       "      <td>0.00</td>\n",
       "      <td>28.00</td>\n",
       "      <td>736.00</td>\n",
       "      <td>0.00</td>\n",
       "      <td>12.50</td>\n",
       "      <td>1964.00</td>\n",
       "    </tr>\n",
       "    <tr>\n",
       "      <th>3</th>\n",
       "      <td>CNG</td>\n",
       "      <td>흡기계통</td>\n",
       "      <td>드로틀바디</td>\n",
       "      <td>0.00</td>\n",
       "      <td>24.00</td>\n",
       "      <td>1908.00</td>\n",
       "      <td>0.00</td>\n",
       "      <td>37.40</td>\n",
       "      <td>105.80</td>\n",
       "    </tr>\n",
       "    <tr>\n",
       "      <th>4</th>\n",
       "      <td>CNG</td>\n",
       "      <td>흡기계통</td>\n",
       "      <td>에어크리너</td>\n",
       "      <td>0.00</td>\n",
       "      <td>24.00</td>\n",
       "      <td>1908.00</td>\n",
       "      <td>0.18</td>\n",
       "      <td>173.05</td>\n",
       "      <td>105.98</td>\n",
       "    </tr>\n",
       "  </tbody>\n",
       "</table>\n",
       "</div>"
      ],
      "text/plain": [
       "    연료  정비내용  정비부품명  무부하매연측정치1_전  무부하매연측정치2_전  무부하매연측정치3_전  무부하매연측정치1_후  \\\n",
       "0  CNG  각종센서   산소센서         0.00        28.00       736.00         0.31   \n",
       "1  CNG  엔진계통   연료휠터         0.00        28.00       736.00         0.00   \n",
       "2  CNG  점화계통  점화플러그         0.00        28.00       736.00         0.00   \n",
       "3  CNG  흡기계통  드로틀바디         0.00        24.00      1908.00         0.00   \n",
       "4  CNG  흡기계통  에어크리너         0.00        24.00      1908.00         0.18   \n",
       "\n",
       "   무부하매연측정치2_후  무부하매연측정치3_후  \n",
       "0       240.35       204.89  \n",
       "1        12.50      1964.00  \n",
       "2        12.50      1964.00  \n",
       "3        37.40       105.80  \n",
       "4       173.05       105.98  "
      ]
     },
     "execution_count": 816,
     "metadata": {},
     "output_type": "execute_result"
    }
   ],
   "source": [
    "grp12_3 = grp12_1.merge(grp12_2, on=['연료', '정비내용', '정비부품명'])\n",
    "grp12_3.head()"
   ]
  },
  {
   "cell_type": "code",
   "execution_count": 817,
   "metadata": {},
   "outputs": [
    {
     "data": {
      "text/plain": [
       "(0, 9)"
      ]
     },
     "execution_count": 817,
     "metadata": {},
     "output_type": "execute_result"
    }
   ],
   "source": [
    "grp12_3[grp12_3['무부하매연측정치1_전'] < 0].shape"
   ]
  },
  {
   "cell_type": "code",
   "execution_count": 818,
   "metadata": {},
   "outputs": [
    {
     "data": {
      "text/plain": [
       "(0, 9)"
      ]
     },
     "execution_count": 818,
     "metadata": {},
     "output_type": "execute_result"
    }
   ],
   "source": [
    "grp12_3[grp12_3['무부하매연측정치1_후'] < 0].shape"
   ]
  },
  {
   "cell_type": "code",
   "execution_count": 819,
   "metadata": {},
   "outputs": [
    {
     "data": {
      "text/plain": [
       "(0, 9)"
      ]
     },
     "execution_count": 819,
     "metadata": {},
     "output_type": "execute_result"
    }
   ],
   "source": [
    "grp12_3[grp12_3['무부하매연측정치2_전'] < 0].shape"
   ]
  },
  {
   "cell_type": "code",
   "execution_count": 820,
   "metadata": {},
   "outputs": [
    {
     "data": {
      "text/plain": [
       "(0, 9)"
      ]
     },
     "execution_count": 820,
     "metadata": {},
     "output_type": "execute_result"
    }
   ],
   "source": [
    "grp12_3[grp12_3['무부하매연측정치2_후'] < 0].shape"
   ]
  },
  {
   "cell_type": "code",
   "execution_count": 821,
   "metadata": {},
   "outputs": [
    {
     "data": {
      "text/plain": [
       "(0, 9)"
      ]
     },
     "execution_count": 821,
     "metadata": {},
     "output_type": "execute_result"
    }
   ],
   "source": [
    "grp12_3[grp12_3['무부하매연측정치3_전'] < 0].shape"
   ]
  },
  {
   "cell_type": "code",
   "execution_count": 822,
   "metadata": {},
   "outputs": [
    {
     "data": {
      "text/plain": [
       "(0, 9)"
      ]
     },
     "execution_count": 822,
     "metadata": {},
     "output_type": "execute_result"
    }
   ],
   "source": [
    "grp12_3[grp12_3['무부하매연측정치3_후'] < 0].shape"
   ]
  },
  {
   "cell_type": "markdown",
   "metadata": {},
   "source": [
    "#### [출력] STD_BD42_12_RPR_IMPV"
   ]
  },
  {
   "cell_type": "code",
   "execution_count": 823,
   "metadata": {},
   "outputs": [
    {
     "data": {
      "text/plain": [
       "Index(['연료', '정비내용', '정비부품명', '무부하매연측정치1_전', '무부하매연측정치2_전', '무부하매연측정치3_전',\n",
       "       '무부하매연측정치1_후', '무부하매연측정치2_후', '무부하매연측정치3_후'],\n",
       "      dtype='object')"
      ]
     },
     "execution_count": 823,
     "metadata": {},
     "output_type": "execute_result"
    }
   ],
   "source": [
    "grp12_3.columns"
   ]
  },
  {
   "cell_type": "code",
   "execution_count": 824,
   "metadata": {},
   "outputs": [],
   "source": [
    "grp12_3 = grp12_3[[\n",
    "    '연료', \n",
    "    '정비내용',\n",
    "    '정비부품명',\n",
    "    '무부하매연측정치1_전',\n",
    "    '무부하매연측정치1_후',\n",
    "    '무부하매연측정치2_전',\n",
    "    '무부하매연측정치2_후',\n",
    "    '무부하매연측정치3_전',\n",
    "    '무부하매연측정치3_후',\n",
    "]]"
   ]
  },
  {
   "cell_type": "code",
   "execution_count": 825,
   "metadata": {},
   "outputs": [],
   "source": [
    "# grp12_dict = {\n",
    "#     '연료':'FUEL',\n",
    "#     '정비내용':'OVHUL_CN', \n",
    "#     '정비부품명':'OVHUL_CMPNT_NM', \n",
    "#     '무부하매연측정치1_전':'NOLOD_SMO_MEVLU1_BF',\n",
    "#     '무부하매연측정치1_후':'NOLOD_SMO_MEVLU1_AFTR',\n",
    "#     '무부하매연측정치2_전':'NOLOD_SMO_MEVLU2_BF',\n",
    "#     '무부하매연측정치2_후':'NOLOD_SMO_MEVLU2_AFTR',\n",
    "#     '무부하매연측정치3_전':'NOLOD_SMO_MEVLU3_BF',\n",
    "#     '무부하매연측정치3_후':'NOLOD_SMO_MEVLU3_AFTR',\n",
    "# }\n",
    "# STD_BD42_12_RPR_IMPV = grp12_3.rename(columns={grp12_dict})\n",
    "# STD_BD42_12_RPR_IMPV['LOAD_DT'] = datetime.today().strftime('%Y%m%d')\n",
    "# print(STD_BD42_12_RPR_IMPV.columns)\n",
    "\n",
    "# if export_opt == 'y':\n",
    "#     STD_BD42_12_RPR_IMPV.to_csv(os.path.join(df4_fold, f'STD_BD42_12_RPR_IMPV_{today_date_dtl}.csv'), index=False)\n",
    "#     print('STD_BD42_12_RPR_IMPV 출력 완료.')\n",
    "# else:\n",
    "#     pass"
   ]
  },
  {
   "cell_type": "code",
   "execution_count": 826,
   "metadata": {},
   "outputs": [
    {
     "data": {
      "text/plain": [
       "'20240119_AM_104512'"
      ]
     },
     "execution_count": 826,
     "metadata": {},
     "output_type": "execute_result"
    }
   ],
   "source": [
    "today_date_dtl = datetime.today().strftime('%Y%m%d_%p_%I%M%S')\n",
    "today_date_dtl"
   ]
  },
  {
   "cell_type": "code",
   "execution_count": 827,
   "metadata": {},
   "outputs": [],
   "source": [
    "# 0.0s\n",
    "if export_opt == 'y':\n",
    "    grp12_3.to_excel(os.path.join(df4_fold, f'STD_BD42_12_RPR_IMPV_{today_date_dtl}.xlsx'), index=False)\n",
    "else:\n",
    "    pass"
   ]
  },
  {
   "cell_type": "markdown",
   "metadata": {},
   "source": [
    "### [❌] 4.2.13 STD_BD42_13_ITM_EXCS_RT\n",
    "- 정비 전후 비교\n",
    "    - (수정사항) 연료별 전후 비교 : N"
   ]
  },
  {
   "cell_type": "code",
   "execution_count": 828,
   "metadata": {},
   "outputs": [
    {
     "data": {
      "text/plain": [
       "((2408596, 70), (2977446, 70))"
      ]
     },
     "execution_count": 828,
     "metadata": {},
     "output_type": "execute_result"
    }
   ],
   "source": [
    "srt12_before.shape, srt12_after.shape"
   ]
  },
  {
   "cell_type": "code",
   "execution_count": 829,
   "metadata": {},
   "outputs": [],
   "source": [
    "srt13_before = srt12_before.copy()\n",
    "srt13_after = srt12_after.copy()"
   ]
  },
  {
   "cell_type": "code",
   "execution_count": 830,
   "metadata": {},
   "outputs": [
    {
     "data": {
      "text/html": [
       "<div>\n",
       "<style scoped>\n",
       "    .dataframe tbody tr th:only-of-type {\n",
       "        vertical-align: middle;\n",
       "    }\n",
       "\n",
       "    .dataframe tbody tr th {\n",
       "        vertical-align: top;\n",
       "    }\n",
       "\n",
       "    .dataframe thead th {\n",
       "        text-align: right;\n",
       "    }\n",
       "</style>\n",
       "<table border=\"1\" class=\"dataframe\">\n",
       "  <thead>\n",
       "    <tr style=\"text-align: right;\">\n",
       "      <th></th>\n",
       "      <th>무부하매연측정치1</th>\n",
       "      <th>무부하매연허용치1</th>\n",
       "      <th>초과율1</th>\n",
       "      <th>무부하매연측정치2</th>\n",
       "      <th>무부하매연허용치2</th>\n",
       "      <th>초과율2</th>\n",
       "      <th>무부하매연측정치3</th>\n",
       "      <th>무부하매연허용치3</th>\n",
       "      <th>초과율3</th>\n",
       "    </tr>\n",
       "  </thead>\n",
       "  <tbody>\n",
       "    <tr>\n",
       "      <th>0</th>\n",
       "      <td>60.00</td>\n",
       "      <td>60.00</td>\n",
       "      <td>0.00</td>\n",
       "      <td>43.00</td>\n",
       "      <td>60.00</td>\n",
       "      <td>-0.28</td>\n",
       "      <td>58.00</td>\n",
       "      <td>60.00</td>\n",
       "      <td>-0.03</td>\n",
       "    </tr>\n",
       "    <tr>\n",
       "      <th>1</th>\n",
       "      <td>29.00</td>\n",
       "      <td>40.00</td>\n",
       "      <td>-0.28</td>\n",
       "      <td>26.00</td>\n",
       "      <td>40.00</td>\n",
       "      <td>-0.35</td>\n",
       "      <td>59.00</td>\n",
       "      <td>40.00</td>\n",
       "      <td>0.48</td>\n",
       "    </tr>\n",
       "    <tr>\n",
       "      <th>2</th>\n",
       "      <td>20.00</td>\n",
       "      <td>40.00</td>\n",
       "      <td>-0.50</td>\n",
       "      <td>21.00</td>\n",
       "      <td>40.00</td>\n",
       "      <td>-0.47</td>\n",
       "      <td>40.00</td>\n",
       "      <td>40.00</td>\n",
       "      <td>0.00</td>\n",
       "    </tr>\n",
       "    <tr>\n",
       "      <th>3</th>\n",
       "      <td>27.00</td>\n",
       "      <td>35.00</td>\n",
       "      <td>-0.23</td>\n",
       "      <td>21.00</td>\n",
       "      <td>35.00</td>\n",
       "      <td>-0.40</td>\n",
       "      <td>34.00</td>\n",
       "      <td>35.00</td>\n",
       "      <td>-0.03</td>\n",
       "    </tr>\n",
       "    <tr>\n",
       "      <th>4</th>\n",
       "      <td>60.00</td>\n",
       "      <td>60.00</td>\n",
       "      <td>0.00</td>\n",
       "      <td>43.00</td>\n",
       "      <td>60.00</td>\n",
       "      <td>-0.28</td>\n",
       "      <td>58.00</td>\n",
       "      <td>60.00</td>\n",
       "      <td>-0.03</td>\n",
       "    </tr>\n",
       "  </tbody>\n",
       "</table>\n",
       "</div>"
      ],
      "text/plain": [
       "   무부하매연측정치1  무부하매연허용치1  초과율1  무부하매연측정치2  무부하매연허용치2  초과율2  무부하매연측정치3  \\\n",
       "0      60.00      60.00  0.00      43.00      60.00 -0.28      58.00   \n",
       "1      29.00      40.00 -0.28      26.00      40.00 -0.35      59.00   \n",
       "2      20.00      40.00 -0.50      21.00      40.00 -0.47      40.00   \n",
       "3      27.00      35.00 -0.23      21.00      35.00 -0.40      34.00   \n",
       "4      60.00      60.00  0.00      43.00      60.00 -0.28      58.00   \n",
       "\n",
       "   무부하매연허용치3  초과율3  \n",
       "0      60.00 -0.03  \n",
       "1      40.00  0.48  \n",
       "2      40.00  0.00  \n",
       "3      35.00 -0.03  \n",
       "4      60.00 -0.03  "
      ]
     },
     "execution_count": 830,
     "metadata": {},
     "output_type": "execute_result"
    }
   ],
   "source": [
    "# 동일항목 초과율 계산식\n",
    "srt13_before['초과율1'] = srt13_before['무부하매연측정치1'] / srt13_before['무부하매연허용치1'] - 1\n",
    "srt13_before['초과율2'] = srt13_before['무부하매연측정치2'] / srt13_before['무부하매연허용치2'] - 1\n",
    "srt13_before['초과율3'] = srt13_before['무부하매연측정치3'] / srt13_before['무부하매연허용치3'] - 1\n",
    "srt13_before[['무부하매연측정치1', '무부하매연허용치1', '초과율1', \n",
    "              '무부하매연측정치2', '무부하매연허용치2', '초과율2', \n",
    "              '무부하매연측정치3', '무부하매연허용치3', '초과율3']].head()"
   ]
  },
  {
   "cell_type": "code",
   "execution_count": 831,
   "metadata": {},
   "outputs": [],
   "source": [
    "# srt13_before.loc[srt13_before['초과율1'] == np.inf, ['무부하매연측정치1', '무부하매연허용치1', '초과율1']] # 10\n",
    "# srt13_before.loc[srt13_before['초과율2'] == np.inf, ['무부하매연측정치2', '무부하매연허용치2', '초과율2']] # 10216\n",
    "# srt13_before.loc[srt13_before['초과율3'] == np.inf, ['무부하매연측정치3', '무부하매연허용치3', '초과율3']] # 178"
   ]
  },
  {
   "cell_type": "code",
   "execution_count": 832,
   "metadata": {},
   "outputs": [],
   "source": [
    "# 허용치가 0인 값의 초과율은 빈 값으로 처리(초과율 inf -> np.nan)\n",
    "srt13_before.loc[srt13_before['초과율1'] == np.inf, '초과율1'] = np.nan\n",
    "srt13_before.loc[srt13_before['초과율2'] == np.inf, '초과율2'] = np.nan\n",
    "srt13_before.loc[srt13_before['초과율3'] == np.inf, '초과율3'] = np.nan"
   ]
  },
  {
   "cell_type": "code",
   "execution_count": 833,
   "metadata": {},
   "outputs": [
    {
     "data": {
      "text/plain": [
       "초과율1   -0.08\n",
       "초과율2   -0.32\n",
       "초과율3   -0.04\n",
       "dtype: float64"
      ]
     },
     "execution_count": 833,
     "metadata": {},
     "output_type": "execute_result"
    }
   ],
   "source": [
    "srt13_before[['초과율1', '초과율2', '초과율3']].mean()"
   ]
  },
  {
   "cell_type": "code",
   "execution_count": 834,
   "metadata": {},
   "outputs": [
    {
     "data": {
      "text/html": [
       "<div>\n",
       "<style scoped>\n",
       "    .dataframe tbody tr th:only-of-type {\n",
       "        vertical-align: middle;\n",
       "    }\n",
       "\n",
       "    .dataframe tbody tr th {\n",
       "        vertical-align: top;\n",
       "    }\n",
       "\n",
       "    .dataframe thead th {\n",
       "        text-align: right;\n",
       "    }\n",
       "</style>\n",
       "<table border=\"1\" class=\"dataframe\">\n",
       "  <thead>\n",
       "    <tr style=\"text-align: right;\">\n",
       "      <th></th>\n",
       "      <th>무부하매연측정치1</th>\n",
       "      <th>무부하매연허용치1</th>\n",
       "      <th>초과율1</th>\n",
       "      <th>무부하매연측정치2</th>\n",
       "      <th>무부하매연허용치2</th>\n",
       "      <th>초과율2</th>\n",
       "      <th>무부하매연측정치3</th>\n",
       "      <th>무부하매연허용치3</th>\n",
       "      <th>초과율3</th>\n",
       "    </tr>\n",
       "  </thead>\n",
       "  <tbody>\n",
       "    <tr>\n",
       "      <th>0</th>\n",
       "      <td>24.00</td>\n",
       "      <td>35.00</td>\n",
       "      <td>-0.31</td>\n",
       "      <td>24.00</td>\n",
       "      <td>35.00</td>\n",
       "      <td>-0.31</td>\n",
       "      <td>64.00</td>\n",
       "      <td>35.00</td>\n",
       "      <td>0.83</td>\n",
       "    </tr>\n",
       "    <tr>\n",
       "      <th>1</th>\n",
       "      <td>23.00</td>\n",
       "      <td>35.00</td>\n",
       "      <td>-0.34</td>\n",
       "      <td>21.00</td>\n",
       "      <td>35.00</td>\n",
       "      <td>-0.40</td>\n",
       "      <td>50.00</td>\n",
       "      <td>35.00</td>\n",
       "      <td>0.43</td>\n",
       "    </tr>\n",
       "    <tr>\n",
       "      <th>2</th>\n",
       "      <td>17.00</td>\n",
       "      <td>35.00</td>\n",
       "      <td>-0.51</td>\n",
       "      <td>11.00</td>\n",
       "      <td>35.00</td>\n",
       "      <td>-0.69</td>\n",
       "      <td>12.00</td>\n",
       "      <td>35.00</td>\n",
       "      <td>-0.66</td>\n",
       "    </tr>\n",
       "    <tr>\n",
       "      <th>3</th>\n",
       "      <td>31.00</td>\n",
       "      <td>35.00</td>\n",
       "      <td>-0.11</td>\n",
       "      <td>29.00</td>\n",
       "      <td>35.00</td>\n",
       "      <td>-0.17</td>\n",
       "      <td>69.00</td>\n",
       "      <td>35.00</td>\n",
       "      <td>0.97</td>\n",
       "    </tr>\n",
       "    <tr>\n",
       "      <th>4</th>\n",
       "      <td>24.00</td>\n",
       "      <td>35.00</td>\n",
       "      <td>-0.31</td>\n",
       "      <td>17.00</td>\n",
       "      <td>35.00</td>\n",
       "      <td>-0.51</td>\n",
       "      <td>22.00</td>\n",
       "      <td>35.00</td>\n",
       "      <td>-0.37</td>\n",
       "    </tr>\n",
       "  </tbody>\n",
       "</table>\n",
       "</div>"
      ],
      "text/plain": [
       "   무부하매연측정치1  무부하매연허용치1  초과율1  무부하매연측정치2  무부하매연허용치2  초과율2  무부하매연측정치3  \\\n",
       "0      24.00      35.00 -0.31      24.00      35.00 -0.31      64.00   \n",
       "1      23.00      35.00 -0.34      21.00      35.00 -0.40      50.00   \n",
       "2      17.00      35.00 -0.51      11.00      35.00 -0.69      12.00   \n",
       "3      31.00      35.00 -0.11      29.00      35.00 -0.17      69.00   \n",
       "4      24.00      35.00 -0.31      17.00      35.00 -0.51      22.00   \n",
       "\n",
       "   무부하매연허용치3  초과율3  \n",
       "0      35.00  0.83  \n",
       "1      35.00  0.43  \n",
       "2      35.00 -0.66  \n",
       "3      35.00  0.97  \n",
       "4      35.00 -0.37  "
      ]
     },
     "execution_count": 834,
     "metadata": {},
     "output_type": "execute_result"
    }
   ],
   "source": [
    "# 동일항목 초과율 계산식\n",
    "srt13_after['초과율1'] = srt13_after['무부하매연측정치1'] / srt13_after['무부하매연허용치1'] - 1\n",
    "srt13_after['초과율2'] = srt13_after['무부하매연측정치2'] / srt13_after['무부하매연허용치2'] - 1\n",
    "srt13_after['초과율3'] = srt13_after['무부하매연측정치3'] / srt13_after['무부하매연허용치3'] - 1\n",
    "srt13_after[['무부하매연측정치1', '무부하매연허용치1', '초과율1', \n",
    "              '무부하매연측정치2', '무부하매연허용치2', '초과율2', \n",
    "              '무부하매연측정치3', '무부하매연허용치3', '초과율3']].head()"
   ]
  },
  {
   "cell_type": "code",
   "execution_count": 835,
   "metadata": {},
   "outputs": [],
   "source": [
    "# 허용치가 0인 값의 초과율은 빈 값으로 처리(초과율 inf -> np.nan)\n",
    "srt13_after.loc[srt13_after['초과율1'] == np.inf, '초과율1'] = np.nan\n",
    "srt13_after.loc[srt13_after['초과율2'] == np.inf, '초과율2'] = np.nan\n",
    "srt13_after.loc[srt13_after['초과율3'] == np.inf, '초과율3'] = np.nan"
   ]
  },
  {
   "cell_type": "code",
   "execution_count": 836,
   "metadata": {},
   "outputs": [
    {
     "data": {
      "text/plain": [
       "초과율1   -0.16\n",
       "초과율2   -0.30\n",
       "초과율3   -0.19\n",
       "dtype: float64"
      ]
     },
     "execution_count": 836,
     "metadata": {},
     "output_type": "execute_result"
    }
   ],
   "source": [
    "srt13_after[['초과율1', '초과율2', '초과율3']].mean()"
   ]
  },
  {
   "cell_type": "code",
   "execution_count": 837,
   "metadata": {},
   "outputs": [
    {
     "data": {
      "text/html": [
       "<div>\n",
       "<style scoped>\n",
       "    .dataframe tbody tr th:only-of-type {\n",
       "        vertical-align: middle;\n",
       "    }\n",
       "\n",
       "    .dataframe tbody tr th {\n",
       "        vertical-align: top;\n",
       "    }\n",
       "\n",
       "    .dataframe thead th {\n",
       "        text-align: right;\n",
       "    }\n",
       "</style>\n",
       "<table border=\"1\" class=\"dataframe\">\n",
       "  <thead>\n",
       "    <tr style=\"text-align: right;\">\n",
       "      <th></th>\n",
       "      <th>정비내용</th>\n",
       "      <th>정비부품명</th>\n",
       "      <th>초과율1_전</th>\n",
       "      <th>초과율2_전</th>\n",
       "      <th>초과율3_전</th>\n",
       "    </tr>\n",
       "  </thead>\n",
       "  <tbody>\n",
       "    <tr>\n",
       "      <th>0</th>\n",
       "      <td>각종센서</td>\n",
       "      <td>공기유량센서</td>\n",
       "      <td>0.00</td>\n",
       "      <td>-0.45</td>\n",
       "      <td>0.34</td>\n",
       "    </tr>\n",
       "    <tr>\n",
       "      <th>1</th>\n",
       "      <td>각종센서</td>\n",
       "      <td>냉각수온센서</td>\n",
       "      <td>-0.06</td>\n",
       "      <td>-0.37</td>\n",
       "      <td>0.42</td>\n",
       "    </tr>\n",
       "    <tr>\n",
       "      <th>2</th>\n",
       "      <td>각종센서</td>\n",
       "      <td>드로틀포지션센서</td>\n",
       "      <td>-0.09</td>\n",
       "      <td>-0.50</td>\n",
       "      <td>0.97</td>\n",
       "    </tr>\n",
       "    <tr>\n",
       "      <th>3</th>\n",
       "      <td>각종센서</td>\n",
       "      <td>산소센서</td>\n",
       "      <td>-0.18</td>\n",
       "      <td>-0.55</td>\n",
       "      <td>0.98</td>\n",
       "    </tr>\n",
       "    <tr>\n",
       "      <th>4</th>\n",
       "      <td>배기계통</td>\n",
       "      <td>배기관</td>\n",
       "      <td>-0.07</td>\n",
       "      <td>-0.35</td>\n",
       "      <td>-0.15</td>\n",
       "    </tr>\n",
       "  </tbody>\n",
       "</table>\n",
       "</div>"
      ],
      "text/plain": [
       "   정비내용     정비부품명  초과율1_전  초과율2_전  초과율3_전\n",
       "0  각종센서    공기유량센서    0.00   -0.45    0.34\n",
       "1  각종센서    냉각수온센서   -0.06   -0.37    0.42\n",
       "2  각종센서  드로틀포지션센서   -0.09   -0.50    0.97\n",
       "3  각종센서      산소센서   -0.18   -0.55    0.98\n",
       "4  배기계통       배기관   -0.07   -0.35   -0.15"
      ]
     },
     "execution_count": 837,
     "metadata": {},
     "output_type": "execute_result"
    }
   ],
   "source": [
    "grp13_1 = srt13_before.groupby(['정비내용', '정비부품명'], dropna=False).agg({'초과율1':'mean', '초과율2':'mean', '초과율3':'mean'}).reset_index()\n",
    "grp13_1[['초과율1', '초과율2', '초과율3']] = grp13_1[['초과율1', '초과율2', '초과율3']].round(2)\n",
    "grp13_1 = grp13_1.rename(columns={'초과율1':'초과율1_전', '초과율2':'초과율2_전', '초과율3':'초과율3_전'})\n",
    "grp13_1.head()"
   ]
  },
  {
   "cell_type": "code",
   "execution_count": 838,
   "metadata": {},
   "outputs": [
    {
     "data": {
      "text/html": [
       "<div>\n",
       "<style scoped>\n",
       "    .dataframe tbody tr th:only-of-type {\n",
       "        vertical-align: middle;\n",
       "    }\n",
       "\n",
       "    .dataframe tbody tr th {\n",
       "        vertical-align: top;\n",
       "    }\n",
       "\n",
       "    .dataframe thead th {\n",
       "        text-align: right;\n",
       "    }\n",
       "</style>\n",
       "<table border=\"1\" class=\"dataframe\">\n",
       "  <thead>\n",
       "    <tr style=\"text-align: right;\">\n",
       "      <th></th>\n",
       "      <th>정비내용</th>\n",
       "      <th>정비부품명</th>\n",
       "      <th>초과율1_후</th>\n",
       "      <th>초과율2_후</th>\n",
       "      <th>초과율3_후</th>\n",
       "    </tr>\n",
       "  </thead>\n",
       "  <tbody>\n",
       "    <tr>\n",
       "      <th>0</th>\n",
       "      <td>각종센서</td>\n",
       "      <td>공기유량센서</td>\n",
       "      <td>-0.06</td>\n",
       "      <td>-0.46</td>\n",
       "      <td>-0.34</td>\n",
       "    </tr>\n",
       "    <tr>\n",
       "      <th>1</th>\n",
       "      <td>각종센서</td>\n",
       "      <td>냉각수온센서</td>\n",
       "      <td>-0.18</td>\n",
       "      <td>-0.37</td>\n",
       "      <td>-0.19</td>\n",
       "    </tr>\n",
       "    <tr>\n",
       "      <th>2</th>\n",
       "      <td>각종센서</td>\n",
       "      <td>드로틀포지션센서</td>\n",
       "      <td>-0.08</td>\n",
       "      <td>-0.42</td>\n",
       "      <td>-0.16</td>\n",
       "    </tr>\n",
       "    <tr>\n",
       "      <th>3</th>\n",
       "      <td>각종센서</td>\n",
       "      <td>산소센서</td>\n",
       "      <td>-0.28</td>\n",
       "      <td>-0.58</td>\n",
       "      <td>0.12</td>\n",
       "    </tr>\n",
       "    <tr>\n",
       "      <th>4</th>\n",
       "      <td>배기계통</td>\n",
       "      <td>배기관</td>\n",
       "      <td>-0.09</td>\n",
       "      <td>-0.30</td>\n",
       "      <td>-0.26</td>\n",
       "    </tr>\n",
       "  </tbody>\n",
       "</table>\n",
       "</div>"
      ],
      "text/plain": [
       "   정비내용     정비부품명  초과율1_후  초과율2_후  초과율3_후\n",
       "0  각종센서    공기유량센서   -0.06   -0.46   -0.34\n",
       "1  각종센서    냉각수온센서   -0.18   -0.37   -0.19\n",
       "2  각종센서  드로틀포지션센서   -0.08   -0.42   -0.16\n",
       "3  각종센서      산소센서   -0.28   -0.58    0.12\n",
       "4  배기계통       배기관   -0.09   -0.30   -0.26"
      ]
     },
     "execution_count": 838,
     "metadata": {},
     "output_type": "execute_result"
    }
   ],
   "source": [
    "grp13_2 = srt13_after.groupby(['정비내용', '정비부품명'], dropna=False).agg({'초과율1':'mean', '초과율2':'mean', '초과율3':'mean'}).reset_index()\n",
    "grp13_2[['초과율1', '초과율2', '초과율3']] = grp13_2[['초과율1', '초과율2', '초과율3']].round(2)\n",
    "grp13_2 = grp13_2.rename(columns={'초과율1':'초과율1_후', '초과율2':'초과율2_후', '초과율3':'초과율3_후'})\n",
    "grp13_2.head()"
   ]
  },
  {
   "cell_type": "code",
   "execution_count": 839,
   "metadata": {},
   "outputs": [
    {
     "data": {
      "text/html": [
       "<div>\n",
       "<style scoped>\n",
       "    .dataframe tbody tr th:only-of-type {\n",
       "        vertical-align: middle;\n",
       "    }\n",
       "\n",
       "    .dataframe tbody tr th {\n",
       "        vertical-align: top;\n",
       "    }\n",
       "\n",
       "    .dataframe thead th {\n",
       "        text-align: right;\n",
       "    }\n",
       "</style>\n",
       "<table border=\"1\" class=\"dataframe\">\n",
       "  <thead>\n",
       "    <tr style=\"text-align: right;\">\n",
       "      <th></th>\n",
       "      <th>정비내용</th>\n",
       "      <th>정비부품명</th>\n",
       "      <th>초과율1_전</th>\n",
       "      <th>초과율2_전</th>\n",
       "      <th>초과율3_전</th>\n",
       "      <th>초과율1_후</th>\n",
       "      <th>초과율2_후</th>\n",
       "      <th>초과율3_후</th>\n",
       "    </tr>\n",
       "  </thead>\n",
       "  <tbody>\n",
       "    <tr>\n",
       "      <th>0</th>\n",
       "      <td>각종센서</td>\n",
       "      <td>공기유량센서</td>\n",
       "      <td>0.00</td>\n",
       "      <td>-0.45</td>\n",
       "      <td>0.34</td>\n",
       "      <td>-0.06</td>\n",
       "      <td>-0.46</td>\n",
       "      <td>-0.34</td>\n",
       "    </tr>\n",
       "    <tr>\n",
       "      <th>1</th>\n",
       "      <td>각종센서</td>\n",
       "      <td>냉각수온센서</td>\n",
       "      <td>-0.06</td>\n",
       "      <td>-0.37</td>\n",
       "      <td>0.42</td>\n",
       "      <td>-0.18</td>\n",
       "      <td>-0.37</td>\n",
       "      <td>-0.19</td>\n",
       "    </tr>\n",
       "    <tr>\n",
       "      <th>2</th>\n",
       "      <td>각종센서</td>\n",
       "      <td>드로틀포지션센서</td>\n",
       "      <td>-0.09</td>\n",
       "      <td>-0.50</td>\n",
       "      <td>0.97</td>\n",
       "      <td>-0.08</td>\n",
       "      <td>-0.42</td>\n",
       "      <td>-0.16</td>\n",
       "    </tr>\n",
       "    <tr>\n",
       "      <th>3</th>\n",
       "      <td>각종센서</td>\n",
       "      <td>산소센서</td>\n",
       "      <td>-0.18</td>\n",
       "      <td>-0.55</td>\n",
       "      <td>0.98</td>\n",
       "      <td>-0.28</td>\n",
       "      <td>-0.58</td>\n",
       "      <td>0.12</td>\n",
       "    </tr>\n",
       "    <tr>\n",
       "      <th>4</th>\n",
       "      <td>배기계통</td>\n",
       "      <td>배기관</td>\n",
       "      <td>-0.07</td>\n",
       "      <td>-0.35</td>\n",
       "      <td>-0.15</td>\n",
       "      <td>-0.09</td>\n",
       "      <td>-0.30</td>\n",
       "      <td>-0.26</td>\n",
       "    </tr>\n",
       "  </tbody>\n",
       "</table>\n",
       "</div>"
      ],
      "text/plain": [
       "   정비내용     정비부품명  초과율1_전  초과율2_전  초과율3_전  초과율1_후  초과율2_후  초과율3_후\n",
       "0  각종센서    공기유량센서    0.00   -0.45    0.34   -0.06   -0.46   -0.34\n",
       "1  각종센서    냉각수온센서   -0.06   -0.37    0.42   -0.18   -0.37   -0.19\n",
       "2  각종센서  드로틀포지션센서   -0.09   -0.50    0.97   -0.08   -0.42   -0.16\n",
       "3  각종센서      산소센서   -0.18   -0.55    0.98   -0.28   -0.58    0.12\n",
       "4  배기계통       배기관   -0.07   -0.35   -0.15   -0.09   -0.30   -0.26"
      ]
     },
     "execution_count": 839,
     "metadata": {},
     "output_type": "execute_result"
    }
   ],
   "source": [
    "grp13_3 = grp13_1.merge(grp13_2, on=['정비내용', '정비부품명'])\n",
    "grp13_3.head()"
   ]
  },
  {
   "cell_type": "markdown",
   "metadata": {},
   "source": [
    "#### [❌][출력] STD_BD42_13_ITM_EXCS_RT"
   ]
  },
  {
   "cell_type": "code",
   "execution_count": 840,
   "metadata": {},
   "outputs": [
    {
     "data": {
      "text/plain": [
       "Index(['정비내용', '정비부품명', '초과율1_전', '초과율2_전', '초과율3_전', '초과율1_후', '초과율2_후',\n",
       "       '초과율3_후'],\n",
       "      dtype='object')"
      ]
     },
     "execution_count": 840,
     "metadata": {},
     "output_type": "execute_result"
    }
   ],
   "source": [
    "grp13_3.columns"
   ]
  },
  {
   "cell_type": "code",
   "execution_count": 841,
   "metadata": {},
   "outputs": [],
   "source": [
    "grp13_3 = grp13_3[[\n",
    "    '정비내용',\n",
    "    '정비부품명',\n",
    "    '초과율1_전',\n",
    "    '초과율1_후',\n",
    "    '초과율2_전',\n",
    "    '초과율2_후',\n",
    "    '초과율3_전',\n",
    "    '초과율3_후',\n",
    "]]"
   ]
  },
  {
   "cell_type": "code",
   "execution_count": 842,
   "metadata": {},
   "outputs": [],
   "source": [
    "# grp13_dict = {\n",
    "#     '정비내용':'',\n",
    "#     '정비부품명':'',\n",
    "#     '초과율1_전':'',\n",
    "#     '초과율1_후':'',\n",
    "#     '초과율2_전':'',\n",
    "#     '초과율2_후':'',\n",
    "#     '초과율3_전':'',\n",
    "#     '초과율3_후':'',\n",
    "# }\n",
    "# STD_BD42_13_ITM_EXCS_RT = grp13_3.rename(columns={grp13_dict})\n",
    "# STD_BD42_13_ITM_EXCS_RT['LOAD_DT'] = datetime.today().strftime('%Y%m%d')\n",
    "# STD_BD42_13_ITM_EXCS_RT.columns"
   ]
  },
  {
   "cell_type": "code",
   "execution_count": 843,
   "metadata": {},
   "outputs": [
    {
     "data": {
      "text/plain": [
       "'20240119_AM_104515'"
      ]
     },
     "execution_count": 843,
     "metadata": {},
     "output_type": "execute_result"
    }
   ],
   "source": [
    "today_date_dtl = datetime.today().strftime('%Y%m%d_%p_%I%M%S')\n",
    "today_date_dtl"
   ]
  },
  {
   "cell_type": "code",
   "execution_count": 844,
   "metadata": {},
   "outputs": [],
   "source": [
    "# # 0.0s\n",
    "# if export_opt == 'y':\n",
    "#     grp13_3.to_excel(os.path.join(df4_fold, f'STD_BD42_13_ITM_EXCS_RT_{today_date_dtl}.xlsx'), index=False)\n",
    "# else:\n",
    "#     pass"
   ]
  },
  {
   "cell_type": "markdown",
   "metadata": {},
   "source": [
    "### [🔺] 4.2.14 STD_BD42_14_RE_BRKWN_RT\n",
    "- 문제\n",
    "    - 재고장난 차량 대수는 차대번호 개수, 전체 차량 대수는 전체 데이터 수 or 전체 차대번호 수 ?"
   ]
  },
  {
   "cell_type": "code",
   "execution_count": 845,
   "metadata": {},
   "outputs": [
    {
     "data": {
      "text/plain": [
       "((375556, 46), 101388)"
      ]
     },
     "execution_count": 845,
     "metadata": {},
     "output_type": "execute_result"
    }
   ],
   "source": [
    "total_err.shape, len(total_err['차대번호'].unique())"
   ]
  },
  {
   "cell_type": "code",
   "execution_count": 846,
   "metadata": {},
   "outputs": [
    {
     "data": {
      "text/plain": [
       "(76191, 46)"
      ]
     },
     "execution_count": 846,
     "metadata": {},
     "output_type": "execute_result"
    }
   ],
   "source": [
    "dup_total_err = total_err[total_err['차대번호'].duplicated(keep=False)].drop_duplicates('차대번호').reset_index(drop=True)\n",
    "dup_total_err.shape"
   ]
  },
  {
   "cell_type": "code",
   "execution_count": 847,
   "metadata": {},
   "outputs": [
    {
     "data": {
      "text/plain": [
       "(1136694, 70)"
      ]
     },
     "execution_count": 847,
     "metadata": {},
     "output_type": "execute_result"
    }
   ],
   "source": [
    "# \n",
    "srt14 = dup_total_err.merge(ins, on='차대번호', how='left')\n",
    "srt14.shape"
   ]
  },
  {
   "cell_type": "code",
   "execution_count": 848,
   "metadata": {},
   "outputs": [
    {
     "data": {
      "text/plain": [
       "289946"
      ]
     },
     "execution_count": 848,
     "metadata": {},
     "output_type": "execute_result"
    }
   ],
   "source": [
    "srt14['무부하매연판정1'].value_counts(dropna=False)['N']"
   ]
  },
  {
   "cell_type": "code",
   "execution_count": 849,
   "metadata": {},
   "outputs": [],
   "source": [
    "def func01(x):\n",
    "    try:\n",
    "        return x.value_counts(dropna=False)['N']\n",
    "    except:\n",
    "        return np.nan"
   ]
  },
  {
   "cell_type": "code",
   "execution_count": 850,
   "metadata": {},
   "outputs": [
    {
     "data": {
      "text/html": [
       "<div>\n",
       "<style scoped>\n",
       "    .dataframe tbody tr th:only-of-type {\n",
       "        vertical-align: middle;\n",
       "    }\n",
       "\n",
       "    .dataframe tbody tr th {\n",
       "        vertical-align: top;\n",
       "    }\n",
       "\n",
       "    .dataframe thead th {\n",
       "        text-align: right;\n",
       "    }\n",
       "</style>\n",
       "<table border=\"1\" class=\"dataframe\">\n",
       "  <thead>\n",
       "    <tr style=\"text-align: right;\">\n",
       "      <th></th>\n",
       "      <th>무부하매연판정1</th>\n",
       "    </tr>\n",
       "    <tr>\n",
       "      <th>차대번호</th>\n",
       "      <th></th>\n",
       "    </tr>\n",
       "  </thead>\n",
       "  <tbody>\n",
       "    <tr>\n",
       "      <th>0142233972</th>\n",
       "      <td>4.00</td>\n",
       "    </tr>\n",
       "    <tr>\n",
       "      <th>01791301996</th>\n",
       "      <td>4.00</td>\n",
       "    </tr>\n",
       "    <tr>\n",
       "      <th>01901321635</th>\n",
       "      <td>2.00</td>\n",
       "    </tr>\n",
       "    <tr>\n",
       "      <th>01901321881</th>\n",
       "      <td>3.00</td>\n",
       "    </tr>\n",
       "    <tr>\n",
       "      <th>02794305028</th>\n",
       "      <td>1.00</td>\n",
       "    </tr>\n",
       "    <tr>\n",
       "      <th>...</th>\n",
       "      <td>...</td>\n",
       "    </tr>\n",
       "    <tr>\n",
       "      <th>kpace4ab19p059492</th>\n",
       "      <td>NaN</td>\n",
       "    </tr>\n",
       "    <tr>\n",
       "      <th>kpace4ab1ap064501</th>\n",
       "      <td>NaN</td>\n",
       "    </tr>\n",
       "    <tr>\n",
       "      <th>kpace4ab1bp097609</th>\n",
       "      <td>NaN</td>\n",
       "    </tr>\n",
       "    <tr>\n",
       "      <th>kpake4ad14p358641</th>\n",
       "      <td>NaN</td>\n",
       "    </tr>\n",
       "    <tr>\n",
       "      <th>kpala4a812p168515</th>\n",
       "      <td>NaN</td>\n",
       "    </tr>\n",
       "  </tbody>\n",
       "</table>\n",
       "<p>76190 rows × 1 columns</p>\n",
       "</div>"
      ],
      "text/plain": [
       "                   무부하매연판정1\n",
       "차대번호                       \n",
       "0142233972             4.00\n",
       "01791301996            4.00\n",
       "01901321635            2.00\n",
       "01901321881            3.00\n",
       "02794305028            1.00\n",
       "...                     ...\n",
       "kpace4ab19p059492       NaN\n",
       "kpace4ab1ap064501       NaN\n",
       "kpace4ab1bp097609       NaN\n",
       "kpake4ad14p358641       NaN\n",
       "kpala4a812p168515       NaN\n",
       "\n",
       "[76190 rows x 1 columns]"
      ]
     },
     "execution_count": 850,
     "metadata": {},
     "output_type": "execute_result"
    }
   ],
   "source": [
    "grp14_1 = srt14.groupby(['차대번호']).agg({'무부하매연판정1':func01})\n",
    "grp14_1"
   ]
  },
  {
   "cell_type": "code",
   "execution_count": 851,
   "metadata": {},
   "outputs": [
    {
     "data": {
      "text/plain": [
       "(48483, 1)"
      ]
     },
     "execution_count": 851,
     "metadata": {},
     "output_type": "execute_result"
    }
   ],
   "source": [
    "# 1N -> 1N : 48483\n",
    "grp14_1[grp14_1['무부하매연판정1'] > 1].shape"
   ]
  },
  {
   "cell_type": "code",
   "execution_count": 852,
   "metadata": {},
   "outputs": [
    {
     "data": {
      "text/html": [
       "<div>\n",
       "<style scoped>\n",
       "    .dataframe tbody tr th:only-of-type {\n",
       "        vertical-align: middle;\n",
       "    }\n",
       "\n",
       "    .dataframe tbody tr th {\n",
       "        vertical-align: top;\n",
       "    }\n",
       "\n",
       "    .dataframe thead th {\n",
       "        text-align: right;\n",
       "    }\n",
       "</style>\n",
       "<table border=\"1\" class=\"dataframe\">\n",
       "  <thead>\n",
       "    <tr style=\"text-align: right;\">\n",
       "      <th></th>\n",
       "      <th>무부하매연판정2</th>\n",
       "    </tr>\n",
       "    <tr>\n",
       "      <th>차대번호</th>\n",
       "      <th></th>\n",
       "    </tr>\n",
       "  </thead>\n",
       "  <tbody>\n",
       "    <tr>\n",
       "      <th>0142233972</th>\n",
       "      <td>2.00</td>\n",
       "    </tr>\n",
       "    <tr>\n",
       "      <th>01791301996</th>\n",
       "      <td>4.00</td>\n",
       "    </tr>\n",
       "    <tr>\n",
       "      <th>01901321635</th>\n",
       "      <td>2.00</td>\n",
       "    </tr>\n",
       "    <tr>\n",
       "      <th>01901321881</th>\n",
       "      <td>3.00</td>\n",
       "    </tr>\n",
       "    <tr>\n",
       "      <th>02794305028</th>\n",
       "      <td>2.00</td>\n",
       "    </tr>\n",
       "    <tr>\n",
       "      <th>...</th>\n",
       "      <td>...</td>\n",
       "    </tr>\n",
       "    <tr>\n",
       "      <th>kpace4ab19p059492</th>\n",
       "      <td>NaN</td>\n",
       "    </tr>\n",
       "    <tr>\n",
       "      <th>kpace4ab1ap064501</th>\n",
       "      <td>NaN</td>\n",
       "    </tr>\n",
       "    <tr>\n",
       "      <th>kpace4ab1bp097609</th>\n",
       "      <td>NaN</td>\n",
       "    </tr>\n",
       "    <tr>\n",
       "      <th>kpake4ad14p358641</th>\n",
       "      <td>NaN</td>\n",
       "    </tr>\n",
       "    <tr>\n",
       "      <th>kpala4a812p168515</th>\n",
       "      <td>NaN</td>\n",
       "    </tr>\n",
       "  </tbody>\n",
       "</table>\n",
       "<p>76190 rows × 1 columns</p>\n",
       "</div>"
      ],
      "text/plain": [
       "                   무부하매연판정2\n",
       "차대번호                       \n",
       "0142233972             2.00\n",
       "01791301996            4.00\n",
       "01901321635            2.00\n",
       "01901321881            3.00\n",
       "02794305028            2.00\n",
       "...                     ...\n",
       "kpace4ab19p059492       NaN\n",
       "kpace4ab1ap064501       NaN\n",
       "kpace4ab1bp097609       NaN\n",
       "kpake4ad14p358641       NaN\n",
       "kpala4a812p168515       NaN\n",
       "\n",
       "[76190 rows x 1 columns]"
      ]
     },
     "execution_count": 852,
     "metadata": {},
     "output_type": "execute_result"
    }
   ],
   "source": [
    "grp14_2 = srt14.groupby(['차대번호']).agg({'무부하매연판정2':func01})\n",
    "grp14_2"
   ]
  },
  {
   "cell_type": "code",
   "execution_count": 853,
   "metadata": {},
   "outputs": [
    {
     "data": {
      "text/plain": [
       "(20644, 1)"
      ]
     },
     "execution_count": 853,
     "metadata": {},
     "output_type": "execute_result"
    }
   ],
   "source": [
    "# 2N -> 2N : 20644\n",
    "grp14_2[grp14_2['무부하매연판정2'] > 1].shape"
   ]
  },
  {
   "cell_type": "code",
   "execution_count": 854,
   "metadata": {},
   "outputs": [
    {
     "data": {
      "text/html": [
       "<div>\n",
       "<style scoped>\n",
       "    .dataframe tbody tr th:only-of-type {\n",
       "        vertical-align: middle;\n",
       "    }\n",
       "\n",
       "    .dataframe tbody tr th {\n",
       "        vertical-align: top;\n",
       "    }\n",
       "\n",
       "    .dataframe thead th {\n",
       "        text-align: right;\n",
       "    }\n",
       "</style>\n",
       "<table border=\"1\" class=\"dataframe\">\n",
       "  <thead>\n",
       "    <tr style=\"text-align: right;\">\n",
       "      <th></th>\n",
       "      <th>무부하매연판정3</th>\n",
       "    </tr>\n",
       "    <tr>\n",
       "      <th>차대번호</th>\n",
       "      <th></th>\n",
       "    </tr>\n",
       "  </thead>\n",
       "  <tbody>\n",
       "    <tr>\n",
       "      <th>0142233972</th>\n",
       "      <td>1.00</td>\n",
       "    </tr>\n",
       "    <tr>\n",
       "      <th>01791301996</th>\n",
       "      <td>4.00</td>\n",
       "    </tr>\n",
       "    <tr>\n",
       "      <th>01901321635</th>\n",
       "      <td>NaN</td>\n",
       "    </tr>\n",
       "    <tr>\n",
       "      <th>01901321881</th>\n",
       "      <td>NaN</td>\n",
       "    </tr>\n",
       "    <tr>\n",
       "      <th>02794305028</th>\n",
       "      <td>2.00</td>\n",
       "    </tr>\n",
       "    <tr>\n",
       "      <th>...</th>\n",
       "      <td>...</td>\n",
       "    </tr>\n",
       "    <tr>\n",
       "      <th>kpace4ab19p059492</th>\n",
       "      <td>NaN</td>\n",
       "    </tr>\n",
       "    <tr>\n",
       "      <th>kpace4ab1ap064501</th>\n",
       "      <td>NaN</td>\n",
       "    </tr>\n",
       "    <tr>\n",
       "      <th>kpace4ab1bp097609</th>\n",
       "      <td>NaN</td>\n",
       "    </tr>\n",
       "    <tr>\n",
       "      <th>kpake4ad14p358641</th>\n",
       "      <td>NaN</td>\n",
       "    </tr>\n",
       "    <tr>\n",
       "      <th>kpala4a812p168515</th>\n",
       "      <td>NaN</td>\n",
       "    </tr>\n",
       "  </tbody>\n",
       "</table>\n",
       "<p>76190 rows × 1 columns</p>\n",
       "</div>"
      ],
      "text/plain": [
       "                   무부하매연판정3\n",
       "차대번호                       \n",
       "0142233972             1.00\n",
       "01791301996            4.00\n",
       "01901321635             NaN\n",
       "01901321881             NaN\n",
       "02794305028            2.00\n",
       "...                     ...\n",
       "kpace4ab19p059492       NaN\n",
       "kpace4ab1ap064501       NaN\n",
       "kpace4ab1bp097609       NaN\n",
       "kpake4ad14p358641       NaN\n",
       "kpala4a812p168515       NaN\n",
       "\n",
       "[76190 rows x 1 columns]"
      ]
     },
     "execution_count": 854,
     "metadata": {},
     "output_type": "execute_result"
    }
   ],
   "source": [
    "grp14_3 = srt14.groupby(['차대번호']).agg({'무부하매연판정3':func01})\n",
    "grp14_3"
   ]
  },
  {
   "cell_type": "code",
   "execution_count": 855,
   "metadata": {},
   "outputs": [
    {
     "data": {
      "text/plain": [
       "(21196, 1)"
      ]
     },
     "execution_count": 855,
     "metadata": {},
     "output_type": "execute_result"
    }
   ],
   "source": [
    "# 3N -> 3N : 21196\n",
    "grp14_3[grp14_3['무부하매연판정3'] > 1].shape"
   ]
  },
  {
   "cell_type": "code",
   "execution_count": 856,
   "metadata": {},
   "outputs": [
    {
     "data": {
      "text/html": [
       "<div>\n",
       "<style scoped>\n",
       "    .dataframe tbody tr th:only-of-type {\n",
       "        vertical-align: middle;\n",
       "    }\n",
       "\n",
       "    .dataframe tbody tr th {\n",
       "        vertical-align: top;\n",
       "    }\n",
       "\n",
       "    .dataframe thead th {\n",
       "        text-align: right;\n",
       "    }\n",
       "</style>\n",
       "<table border=\"1\" class=\"dataframe\">\n",
       "  <thead>\n",
       "    <tr style=\"text-align: right;\">\n",
       "      <th></th>\n",
       "      <th>검사판정</th>\n",
       "    </tr>\n",
       "    <tr>\n",
       "      <th>차대번호</th>\n",
       "      <th></th>\n",
       "    </tr>\n",
       "  </thead>\n",
       "  <tbody>\n",
       "    <tr>\n",
       "      <th>0142233972</th>\n",
       "      <td>6.00</td>\n",
       "    </tr>\n",
       "    <tr>\n",
       "      <th>01791301996</th>\n",
       "      <td>7.00</td>\n",
       "    </tr>\n",
       "    <tr>\n",
       "      <th>01901321635</th>\n",
       "      <td>3.00</td>\n",
       "    </tr>\n",
       "    <tr>\n",
       "      <th>01901321881</th>\n",
       "      <td>3.00</td>\n",
       "    </tr>\n",
       "    <tr>\n",
       "      <th>02794305028</th>\n",
       "      <td>3.00</td>\n",
       "    </tr>\n",
       "    <tr>\n",
       "      <th>...</th>\n",
       "      <td>...</td>\n",
       "    </tr>\n",
       "    <tr>\n",
       "      <th>kpace4ab19p059492</th>\n",
       "      <td>NaN</td>\n",
       "    </tr>\n",
       "    <tr>\n",
       "      <th>kpace4ab1ap064501</th>\n",
       "      <td>NaN</td>\n",
       "    </tr>\n",
       "    <tr>\n",
       "      <th>kpace4ab1bp097609</th>\n",
       "      <td>NaN</td>\n",
       "    </tr>\n",
       "    <tr>\n",
       "      <th>kpake4ad14p358641</th>\n",
       "      <td>NaN</td>\n",
       "    </tr>\n",
       "    <tr>\n",
       "      <th>kpala4a812p168515</th>\n",
       "      <td>NaN</td>\n",
       "    </tr>\n",
       "  </tbody>\n",
       "</table>\n",
       "<p>76190 rows × 1 columns</p>\n",
       "</div>"
      ],
      "text/plain": [
       "                   검사판정\n",
       "차대번호                   \n",
       "0142233972         6.00\n",
       "01791301996        7.00\n",
       "01901321635        3.00\n",
       "01901321881        3.00\n",
       "02794305028        3.00\n",
       "...                 ...\n",
       "kpace4ab19p059492   NaN\n",
       "kpace4ab1ap064501   NaN\n",
       "kpace4ab1bp097609   NaN\n",
       "kpake4ad14p358641   NaN\n",
       "kpala4a812p168515   NaN\n",
       "\n",
       "[76190 rows x 1 columns]"
      ]
     },
     "execution_count": 856,
     "metadata": {},
     "output_type": "execute_result"
    }
   ],
   "source": [
    "grp14_4 = srt14.groupby(['차대번호']).agg({'검사판정':func01})\n",
    "grp14_4"
   ]
  },
  {
   "cell_type": "code",
   "execution_count": 857,
   "metadata": {},
   "outputs": [
    {
     "data": {
      "text/plain": [
       "(57781, 1)"
      ]
     },
     "execution_count": 857,
     "metadata": {},
     "output_type": "execute_result"
    }
   ],
   "source": [
    "# N -> N : 57781\n",
    "grp14_4[grp14_4['검사판정'] > 1].shape"
   ]
  },
  {
   "cell_type": "code",
   "execution_count": 858,
   "metadata": {},
   "outputs": [
    {
     "data": {
      "text/html": [
       "<div>\n",
       "<style scoped>\n",
       "    .dataframe tbody tr th:only-of-type {\n",
       "        vertical-align: middle;\n",
       "    }\n",
       "\n",
       "    .dataframe tbody tr th {\n",
       "        vertical-align: top;\n",
       "    }\n",
       "\n",
       "    .dataframe thead th {\n",
       "        text-align: right;\n",
       "    }\n",
       "</style>\n",
       "<table border=\"1\" class=\"dataframe\">\n",
       "  <thead>\n",
       "    <tr style=\"text-align: right;\">\n",
       "      <th></th>\n",
       "      <th>조건</th>\n",
       "      <th>해당조건의 차대번호 개수</th>\n",
       "      <th>전체 차대번호 개수</th>\n",
       "      <th>비율</th>\n",
       "    </tr>\n",
       "  </thead>\n",
       "  <tbody>\n",
       "    <tr>\n",
       "      <th>0</th>\n",
       "      <td>1n1n</td>\n",
       "      <td>48483</td>\n",
       "      <td>101388</td>\n",
       "      <td>0.48</td>\n",
       "    </tr>\n",
       "    <tr>\n",
       "      <th>1</th>\n",
       "      <td>2n2n</td>\n",
       "      <td>20644</td>\n",
       "      <td>101388</td>\n",
       "      <td>0.20</td>\n",
       "    </tr>\n",
       "    <tr>\n",
       "      <th>2</th>\n",
       "      <td>3n3n</td>\n",
       "      <td>21196</td>\n",
       "      <td>101388</td>\n",
       "      <td>0.21</td>\n",
       "    </tr>\n",
       "    <tr>\n",
       "      <th>3</th>\n",
       "      <td>nn</td>\n",
       "      <td>57781</td>\n",
       "      <td>101388</td>\n",
       "      <td>0.57</td>\n",
       "    </tr>\n",
       "  </tbody>\n",
       "</table>\n",
       "</div>"
      ],
      "text/plain": [
       "     조건  해당조건의 차대번호 개수  전체 차대번호 개수   비율\n",
       "0  1n1n          48483      101388 0.48\n",
       "1  2n2n          20644      101388 0.20\n",
       "2  3n3n          21196      101388 0.21\n",
       "3    nn          57781      101388 0.57"
      ]
     },
     "execution_count": 858,
     "metadata": {},
     "output_type": "execute_result"
    }
   ],
   "source": [
    "grp14_5 = pd.DataFrame({\n",
    "    '조건':['1n1n', '2n2n', '3n3n', 'nn'], \n",
    "    '해당조건의 차대번호 개수':[ grp14_1[grp14_1['무부하매연판정1'] > 1].shape[0], grp14_2[grp14_2['무부하매연판정2'] > 1].shape[0], grp14_3[grp14_3['무부하매연판정3'] > 1].shape[0], grp14_4[grp14_4['검사판정'] > 1].shape[0] ]\n",
    "    })\n",
    "grp14_5['전체 차대번호 개수'] = len(total_err['차대번호'].unique())\n",
    "grp14_5['비율'] =  grp14_5['해당조건의 차대번호 개수'] / grp14_5['전체 차대번호 개수']\n",
    "grp14_5"
   ]
  },
  {
   "cell_type": "markdown",
   "metadata": {},
   "source": [
    "##### [출력] STD_BD42_14_RE_BRKWN_RT"
   ]
  },
  {
   "cell_type": "code",
   "execution_count": 859,
   "metadata": {},
   "outputs": [
    {
     "data": {
      "text/plain": [
       "Index(['조건', '해당조건의 차대번호 개수', '전체 차대번호 개수', '비율'], dtype='object')"
      ]
     },
     "execution_count": 859,
     "metadata": {},
     "output_type": "execute_result"
    }
   ],
   "source": [
    "grp14_5.columns"
   ]
  },
  {
   "cell_type": "code",
   "execution_count": 860,
   "metadata": {},
   "outputs": [],
   "source": [
    "grp14_6 = grp14_5[[\n",
    "    '조건', \n",
    "    '해당조건의 차대번호 개수', \n",
    "    '전체 차대번호 개수', \n",
    "    '비율', \n",
    "]]"
   ]
  },
  {
   "cell_type": "code",
   "execution_count": 862,
   "metadata": {},
   "outputs": [
    {
     "data": {
      "text/plain": [
       "'20240119_AM_104633'"
      ]
     },
     "execution_count": 862,
     "metadata": {},
     "output_type": "execute_result"
    }
   ],
   "source": [
    "today_date_dtl = datetime.today().strftime('%Y%m%d_%p_%I%M%S')\n",
    "today_date_dtl"
   ]
  },
  {
   "cell_type": "code",
   "execution_count": 861,
   "metadata": {},
   "outputs": [],
   "source": [
    "# grp14_dict = {\n",
    "#     '조건':'CND',\n",
    "#     '해당조건의 차대번호 개수':'CND_VIN_CNT',\n",
    "#     '전체 차대번호 개수':'ALL_VIN_CNT',\n",
    "#     '비율':'RT',\n",
    "# }\n",
    "# STD_BD42_14_RE_BRKWN_RT = grp14_6.rename(columns={grp14_dict})\n",
    "# STD_BD42_14_RE_BRKWN_RT['LOAD_DT'] = datetime.today().strftime('%Y%m%d')\n",
    "# print(STD_BD42_14_RE_BRKWN_RT.columns)\n",
    "\n",
    "# if export_opt == 'y':\n",
    "#     STD_BD42_14_RE_BRKWN_RT.to_csv(os.path.join(df4_fold, f'STD_BD42_14_RE_BRKWN_RT_{today_date_dtl}.csv'), index=False)\n",
    "#     print('STD_BD42_14_RE_BRKWN_RT 출력 완료.')\n",
    "# else:\n",
    "#     pass"
   ]
  },
  {
   "cell_type": "code",
   "execution_count": 863,
   "metadata": {},
   "outputs": [],
   "source": [
    "# 0.0s\n",
    "if export_opt == 'y':\n",
    "    grp14_6.to_excel(os.path.join(df4_fold, f'STD_BD42_14_RE_BRKWN_RT_{today_date_dtl}.xlsx'), index=False)\n",
    "else:\n",
    "    pass"
   ]
  },
  {
   "cell_type": "markdown",
   "metadata": {},
   "source": [
    "### [🔺] 4.2.15 STD_BD42_15_VHCL_ERSR_CYCL"
   ]
  },
  {
   "cell_type": "code",
   "execution_count": null,
   "metadata": {},
   "outputs": [],
   "source": []
  },
  {
   "cell_type": "markdown",
   "metadata": {},
   "source": [
    "### [🔺] 4.3.16 STD_BD43_16_EXHST_GAS_EXCS"
   ]
  },
  {
   "cell_type": "code",
   "execution_count": 864,
   "metadata": {},
   "outputs": [
    {
     "data": {
      "text/plain": [
       "((22468, 70), (1336, 70), (1354, 70))"
      ]
     },
     "execution_count": 864,
     "metadata": {},
     "output_type": "execute_result"
    }
   ],
   "source": [
    "srt8_jt1n.shape, srt8_jt2n.shape, srt8_jt3n.shape"
   ]
  },
  {
   "cell_type": "code",
   "execution_count": 865,
   "metadata": {},
   "outputs": [
    {
     "data": {
      "text/html": [
       "<div>\n",
       "<style scoped>\n",
       "    .dataframe tbody tr th:only-of-type {\n",
       "        vertical-align: middle;\n",
       "    }\n",
       "\n",
       "    .dataframe tbody tr th {\n",
       "        vertical-align: top;\n",
       "    }\n",
       "\n",
       "    .dataframe thead th {\n",
       "        text-align: right;\n",
       "    }\n",
       "</style>\n",
       "<table border=\"1\" class=\"dataframe\">\n",
       "  <thead>\n",
       "    <tr style=\"text-align: right;\">\n",
       "      <th></th>\n",
       "      <th>초과1</th>\n",
       "      <th>초과2</th>\n",
       "      <th>초과3</th>\n",
       "    </tr>\n",
       "  </thead>\n",
       "  <tbody>\n",
       "    <tr>\n",
       "      <th>0</th>\n",
       "      <td>17.00</td>\n",
       "      <td>6.00</td>\n",
       "      <td>4.00</td>\n",
       "    </tr>\n",
       "    <tr>\n",
       "      <th>1</th>\n",
       "      <td>17.00</td>\n",
       "      <td>6.00</td>\n",
       "      <td>4.00</td>\n",
       "    </tr>\n",
       "    <tr>\n",
       "      <th>2</th>\n",
       "      <td>17.00</td>\n",
       "      <td>6.00</td>\n",
       "      <td>4.00</td>\n",
       "    </tr>\n",
       "    <tr>\n",
       "      <th>3</th>\n",
       "      <td>10.00</td>\n",
       "      <td>18.00</td>\n",
       "      <td>15.00</td>\n",
       "    </tr>\n",
       "    <tr>\n",
       "      <th>4</th>\n",
       "      <td>14.00</td>\n",
       "      <td>NaN</td>\n",
       "      <td>NaN</td>\n",
       "    </tr>\n",
       "  </tbody>\n",
       "</table>\n",
       "</div>"
      ],
      "text/plain": [
       "    초과1   초과2   초과3\n",
       "0 17.00  6.00  4.00\n",
       "1 17.00  6.00  4.00\n",
       "2 17.00  6.00  4.00\n",
       "3 10.00 18.00 15.00\n",
       "4 14.00   NaN   NaN"
      ]
     },
     "execution_count": 865,
     "metadata": {},
     "output_type": "execute_result"
    }
   ],
   "source": [
    "srt16_1 = srt8_jt1n.copy()\n",
    "srt16_1['초과1'] = srt16_1['무부하매연측정치1'] - srt16_1['무부하매연허용치1']\n",
    "srt16_1['초과2'] = srt16_1['무부하매연측정치2'] - srt16_1['무부하매연허용치2']\n",
    "srt16_1['초과3'] = srt16_1['무부하매연측정치3'] - srt16_1['무부하매연허용치3']\n",
    "srt16_1[['초과1', '초과2', '초과3']].head()"
   ]
  },
  {
   "cell_type": "code",
   "execution_count": null,
   "metadata": {},
   "outputs": [],
   "source": []
  },
  {
   "cell_type": "code",
   "execution_count": null,
   "metadata": {},
   "outputs": [],
   "source": []
  },
  {
   "cell_type": "markdown",
   "metadata": {},
   "source": [
    "### [❌] 4.3.17 STD_BD43_17_OVHUL_FUEL"
   ]
  },
  {
   "cell_type": "code",
   "execution_count": null,
   "metadata": {},
   "outputs": [],
   "source": []
  },
  {
   "cell_type": "markdown",
   "metadata": {},
   "source": [
    "### [🔺] 4.3.18 STD_BD43_18_CRSH_BRKWN"
   ]
  },
  {
   "cell_type": "code",
   "execution_count": 866,
   "metadata": {},
   "outputs": [
    {
     "data": {
      "text/plain": [
       "((22468, 70), (1336, 70), (1354, 70), (2208, 70))"
      ]
     },
     "execution_count": 866,
     "metadata": {},
     "output_type": "execute_result"
    }
   ],
   "source": [
    "srt8_jt1n.shape, srt8_jt2n.shape, srt8_jt3n.shape, srt8_jt4n.shape"
   ]
  },
  {
   "cell_type": "code",
   "execution_count": 867,
   "metadata": {},
   "outputs": [
    {
     "data": {
      "text/plain": [
       "((22468, 70), (1336, 70), (1354, 70), (2208, 70))"
      ]
     },
     "execution_count": 867,
     "metadata": {},
     "output_type": "execute_result"
    }
   ],
   "source": [
    "srt18_jt1n = srt8_jt1n.copy()\n",
    "srt18_jt2n = srt8_jt2n.copy()\n",
    "srt18_jt3n = srt8_jt3n.copy()\n",
    "srt18_jt4n = srt8_jt4n.copy()\n",
    "srt18_jt1n.shape, srt18_jt2n.shape, srt18_jt3n.shape, srt18_jt4n.shape"
   ]
  },
  {
   "cell_type": "code",
   "execution_count": 868,
   "metadata": {},
   "outputs": [
    {
     "data": {
      "text/plain": [
       "Index(['차량번호', '차대번호', '점검일자', '전문정비사업소명', '정비접수번호', '정비내용', '정비부품명', '제원관리번호',\n",
       "       '연식', '차종', '용도', '법정동코드', '배출가스등급', '연료', '제작사명', '차종유형', '차명',\n",
       "       '자동차형식', '엔진형식', '총중량', '배기량', '엔진출력', '시도명', '시군구명', '일련번호', '중량',\n",
       "       '엔진배기량', '제작일자', '최초등록일', '전문정비사업자코드', '정비여부', '시도코드', '시군구코드', '상세일자',\n",
       "       '교환유무', '점검조정유무', '분해탈착유무', '정비불가능유무', '생성일자', '생성자명', '최종수정일자',\n",
       "       '최종수정자명', '전문정비사업자_시도명', '전문정비사업자_시군구명', '전문정비사업자_시도코드',\n",
       "       '전문정비사업자_시군구코드', '검사일자', '주행거리', '검사종류', '검사방법', '검사판정', '무부하매연측정치1',\n",
       "       '무부하매연허용치1', '무부하매연판정1', '무부하매연측정치2', '무부하매연허용치2', '무부하매연판정2',\n",
       "       '무부하매연측정치3', '무부하매연허용치3', '무부하매연판정3', '무부하매연측정치4', '무부하매연허용치4',\n",
       "       '무부하매연판정4', '무부하매연측정치5', '무부하매연허용치5', '무부하매연판정5', '무부하매연측정치6',\n",
       "       '무부하매연허용치6', '무부하매연판정6', '정기정밀구분'],\n",
       "      dtype='object')"
      ]
     },
     "execution_count": 868,
     "metadata": {},
     "output_type": "execute_result"
    }
   ],
   "source": [
    "srt18_jt1n.columns"
   ]
  },
  {
   "cell_type": "code",
   "execution_count": 916,
   "metadata": {},
   "outputs": [],
   "source": [
    "def func18_grp(df):\n",
    "    grp = df.groupby(['정비내용', '정비부품명'], dropna=False)['차량번호'].count().reset_index()\n",
    "    grp = grp.rename(columns={'차량번호':'정비건수'})\n",
    "    grp = grp.sort_values('정비건수', ascending=False).reset_index(drop=True)\n",
    "    # grp.loc[grp.shape[0], ['정비내용', '정비건수']] = ['합계', grp['정비건수'].sum()]\n",
    "    return grp"
   ]
  },
  {
   "cell_type": "code",
   "execution_count": 917,
   "metadata": {},
   "outputs": [],
   "source": [
    "for i, one in enumerate([srt18_jt1n, srt18_jt2n, srt18_jt3n, srt18_jt4n]):\n",
    "    globals()[f'grp18_{i+1}'] = func18_grp(one)"
   ]
  },
  {
   "cell_type": "code",
   "execution_count": 918,
   "metadata": {},
   "outputs": [
    {
     "data": {
      "text/html": [
       "<div>\n",
       "<style scoped>\n",
       "    .dataframe tbody tr th:only-of-type {\n",
       "        vertical-align: middle;\n",
       "    }\n",
       "\n",
       "    .dataframe tbody tr th {\n",
       "        vertical-align: top;\n",
       "    }\n",
       "\n",
       "    .dataframe thead th {\n",
       "        text-align: right;\n",
       "    }\n",
       "</style>\n",
       "<table border=\"1\" class=\"dataframe\">\n",
       "  <thead>\n",
       "    <tr style=\"text-align: right;\">\n",
       "      <th></th>\n",
       "      <th>정비내용</th>\n",
       "      <th>정비부품명</th>\n",
       "      <th>정비건수</th>\n",
       "    </tr>\n",
       "  </thead>\n",
       "  <tbody>\n",
       "    <tr>\n",
       "      <th>30</th>\n",
       "      <td>연료증발가스방지장치</td>\n",
       "      <td>정화조절밸브(PurgeControlValve)</td>\n",
       "      <td>89</td>\n",
       "    </tr>\n",
       "    <tr>\n",
       "      <th>31</th>\n",
       "      <td>엔진계통</td>\n",
       "      <td>기화기(믹서포함)</td>\n",
       "      <td>82</td>\n",
       "    </tr>\n",
       "    <tr>\n",
       "      <th>32</th>\n",
       "      <td>점화계통</td>\n",
       "      <td>점화플러그</td>\n",
       "      <td>78</td>\n",
       "    </tr>\n",
       "    <tr>\n",
       "      <th>33</th>\n",
       "      <td>점화계통</td>\n",
       "      <td>배전기(Distributor)</td>\n",
       "      <td>76</td>\n",
       "    </tr>\n",
       "    <tr>\n",
       "      <th>34</th>\n",
       "      <td>점화계통</td>\n",
       "      <td>점화배선</td>\n",
       "      <td>76</td>\n",
       "    </tr>\n",
       "  </tbody>\n",
       "</table>\n",
       "</div>"
      ],
      "text/plain": [
       "          정비내용                      정비부품명  정비건수\n",
       "30  연료증발가스방지장치  정화조절밸브(PurgeControlValve)    89\n",
       "31        엔진계통                  기화기(믹서포함)    82\n",
       "32        점화계통                      점화플러그    78\n",
       "33        점화계통           배전기(Distributor)    76\n",
       "34        점화계통                       점화배선    76"
      ]
     },
     "execution_count": 918,
     "metadata": {},
     "output_type": "execute_result"
    }
   ],
   "source": [
    "grp18_1.tail()"
   ]
  },
  {
   "cell_type": "code",
   "execution_count": 872,
   "metadata": {},
   "outputs": [],
   "source": [
    "# grp18_1 = srt18_jt1n.groupby(['정비내용', '정비부품명'], dropna=False)['차량번호'].count().reset_index()\n",
    "# grp18_1 = grp18_1.rename(columns={'차량번호':'정비건수'})\n",
    "# grp18_1.loc[grp18_1.shape[0], ['정비내용', '정비건수']] = ['합계', grp18_1['정비건수'].sum()]\n",
    "# display(grp18_1.tail())\n",
    "# print()\n",
    "\n",
    "# grp18_2 = srt18_jt2n.groupby(['정비내용', '정비부품명'], dropna=False)['차량번호'].count().reset_index()\n",
    "# grp18_2 = grp18_2.rename(columns={'차량번호':'정비건수'})\n",
    "# grp18_2.loc[grp18_2.shape[0], ['정비내용', '정비건수']] = ['합계', grp18_2['정비건수'].sum()]\n",
    "# display(grp18_2.tail())\n",
    "# print()\n",
    "\n",
    "# grp18_3 = srt18_jt3n.groupby(['정비내용', '정비부품명'], dropna=False)['차량번호'].count().reset_index()\n",
    "# grp18_3 = grp18_3.rename(columns={'차량번호':'정비건수'})\n",
    "# grp18_3.loc[grp18_3.shape[0], ['정비내용', '정비건수']] = ['합계', grp18_3['정비건수'].sum()]\n",
    "# display(grp18_3.tail())\n",
    "# print()\n",
    "\n",
    "# grp18_4 = srt18_jt4n.groupby(['정비내용', '정비부품명'], dropna=False)['차량번호'].count().reset_index()\n",
    "# grp18_4 = grp18_4.rename(columns={'차량번호':'정비건수'})\n",
    "# grp18_4.loc[grp18_4.shape[0], ['정비내용', '정비건수']] = ['합계', grp18_4['정비건수'].sum()]\n",
    "# display(grp18_4.tail())\n",
    "# print()"
   ]
  },
  {
   "cell_type": "code",
   "execution_count": 919,
   "metadata": {},
   "outputs": [],
   "source": [
    "grp18_1['불합격내역'] = '매연'\n",
    "grp18_2['불합격내역'] = 'CO'\n",
    "grp18_3['불합격내역'] = 'HC'\n",
    "grp18_4['불합격내역'] = 'NOx'"
   ]
  },
  {
   "cell_type": "code",
   "execution_count": 920,
   "metadata": {},
   "outputs": [
    {
     "data": {
      "text/html": [
       "<div>\n",
       "<style scoped>\n",
       "    .dataframe tbody tr th:only-of-type {\n",
       "        vertical-align: middle;\n",
       "    }\n",
       "\n",
       "    .dataframe tbody tr th {\n",
       "        vertical-align: top;\n",
       "    }\n",
       "\n",
       "    .dataframe thead th {\n",
       "        text-align: right;\n",
       "    }\n",
       "</style>\n",
       "<table border=\"1\" class=\"dataframe\">\n",
       "  <thead>\n",
       "    <tr style=\"text-align: right;\">\n",
       "      <th></th>\n",
       "      <th>정비내용</th>\n",
       "      <th>정비부품명</th>\n",
       "      <th>정비건수</th>\n",
       "      <th>불합격내역</th>\n",
       "    </tr>\n",
       "  </thead>\n",
       "  <tbody>\n",
       "    <tr>\n",
       "      <th>135</th>\n",
       "      <td>배출가스전환장치</td>\n",
       "      <td>매연여과장치(DPF)</td>\n",
       "      <td>11</td>\n",
       "      <td>NOx</td>\n",
       "    </tr>\n",
       "    <tr>\n",
       "      <th>136</th>\n",
       "      <td>엔진계통</td>\n",
       "      <td>연료분사펌프(조속기조정,봉인)</td>\n",
       "      <td>10</td>\n",
       "      <td>NOx</td>\n",
       "    </tr>\n",
       "    <tr>\n",
       "      <th>137</th>\n",
       "      <td>엔진계통</td>\n",
       "      <td>노즐(디젤인젝터포함)</td>\n",
       "      <td>10</td>\n",
       "      <td>NOx</td>\n",
       "    </tr>\n",
       "    <tr>\n",
       "      <th>138</th>\n",
       "      <td>흡기계통</td>\n",
       "      <td>과급기</td>\n",
       "      <td>10</td>\n",
       "      <td>NOx</td>\n",
       "    </tr>\n",
       "    <tr>\n",
       "      <th>139</th>\n",
       "      <td>연료증발가스방지장치</td>\n",
       "      <td>정화조절밸브(PurgeControlValve)</td>\n",
       "      <td>8</td>\n",
       "      <td>NOx</td>\n",
       "    </tr>\n",
       "  </tbody>\n",
       "</table>\n",
       "</div>"
      ],
      "text/plain": [
       "           정비내용                      정비부품명  정비건수 불합격내역\n",
       "135    배출가스전환장치                매연여과장치(DPF)    11   NOx\n",
       "136        엔진계통           연료분사펌프(조속기조정,봉인)    10   NOx\n",
       "137        엔진계통                노즐(디젤인젝터포함)    10   NOx\n",
       "138        흡기계통                        과급기    10   NOx\n",
       "139  연료증발가스방지장치  정화조절밸브(PurgeControlValve)     8   NOx"
      ]
     },
     "execution_count": 920,
     "metadata": {},
     "output_type": "execute_result"
    }
   ],
   "source": [
    "grp18 = pd.concat([grp18_1, grp18_2, grp18_3, grp18_4], ignore_index=True)\n",
    "grp18.tail()"
   ]
  },
  {
   "cell_type": "code",
   "execution_count": 921,
   "metadata": {},
   "outputs": [
    {
     "data": {
      "text/plain": [
       "Index(['정비내용', '정비부품명', '정비건수', '불합격내역'], dtype='object')"
      ]
     },
     "execution_count": 921,
     "metadata": {},
     "output_type": "execute_result"
    }
   ],
   "source": [
    "grp18.columns"
   ]
  },
  {
   "cell_type": "markdown",
   "metadata": {},
   "source": [
    "##### [출력] STD_BD43_18_CRSH_BRKWN "
   ]
  },
  {
   "cell_type": "code",
   "execution_count": 873,
   "metadata": {},
   "outputs": [
    {
     "data": {
      "text/plain": [
       "'20240119_AM_104633'"
      ]
     },
     "execution_count": 873,
     "metadata": {},
     "output_type": "execute_result"
    }
   ],
   "source": [
    "today_date_dtl = datetime.today().strftime('%Y%m%d_%p_%I%M%S')\n",
    "today_date_dtl"
   ]
  },
  {
   "cell_type": "code",
   "execution_count": null,
   "metadata": {},
   "outputs": [],
   "source": [
    "# STD_BD43_18_CRSH_BRKWN = grp18[[\n",
    "#     '정비내용',\n",
    "#     '정비부품명',\n",
    "#     '정비건수',\n",
    "#     '불합격내역',\n",
    "# ]]\n",
    "# grp18_dict = {\n",
    "#     '정비내용':'OVHUL_CN',\n",
    "#     '정비부품명':'OVHUL_CMPNT_NM',\n",
    "#     '정비건수':'OVHUL_NOCS',\n",
    "#     '불합격내역':'FAIL_BRKWN',\n",
    "# }\n",
    "# STD_BD43_18_CRSH_BRKWN = STD_BD43_18_CRSH_BRKWN.rename(columns=grp18_dict)\n",
    "# STD_BD43_18_CRSH_BRKWN['LOAD_DT'] = datetime.today().strftime('%Y%m%d')\n",
    "# print(STD_BD43_18_CRSH_BRKWN.columns)\n",
    "\n",
    "# if export_opt == 'y':\n",
    "#     STD_BD43_18_CRSH_BRKWN.to_csv(os.path.join(df4_fold, f'STD_BD43_18_CRSH_BRKWN_{today_date_dtl}.csv'), index=False)\n",
    "#     print('STD_BD43_18_CRSH_BRKWN 출력 완료.')\n",
    "# else:\n",
    "#     pass"
   ]
  },
  {
   "cell_type": "code",
   "execution_count": 874,
   "metadata": {},
   "outputs": [],
   "source": [
    "if export_opt == 'y':\n",
    "    with pd.ExcelWriter(os.path.join(df4_fold, f'STD_BD43_18_CRSH_BRKWN_{today_date_dtl}.xlsx')) as writer:\n",
    "        grp18_1.to_excel(writer, sheet_name='판정1_매연', index=False)\n",
    "        grp18_2.to_excel(writer, sheet_name='판정1_CO', index=False)\n",
    "        grp18_3.to_excel(writer, sheet_name='판정2_HC', index=False)\n",
    "        grp18_4.to_excel(writer, sheet_name='판정3_NOx', index=False)\n",
    "else:\n",
    "    pass"
   ]
  },
  {
   "cell_type": "markdown",
   "metadata": {},
   "source": [
    "### [❌] 4.3.19 STD_BD43_19_OVHUL_BRKWN"
   ]
  },
  {
   "cell_type": "code",
   "execution_count": null,
   "metadata": {},
   "outputs": [],
   "source": []
  },
  {
   "cell_type": "markdown",
   "metadata": {},
   "source": [
    "### [🔺] 4.3.20 STD_BD43_20_PRPT_OVHUL_YRIDNW"
   ]
  },
  {
   "cell_type": "code",
   "execution_count": 875,
   "metadata": {},
   "outputs": [
    {
     "data": {
      "text/plain": [
       "((22468, 70), (1336, 70), (1354, 70), (2208, 70))"
      ]
     },
     "execution_count": 875,
     "metadata": {},
     "output_type": "execute_result"
    }
   ],
   "source": [
    "srt8_jt1n.shape, srt8_jt2n.shape, srt8_jt3n.shape, srt8_jt4n.shape"
   ]
  },
  {
   "cell_type": "code",
   "execution_count": 876,
   "metadata": {},
   "outputs": [
    {
     "data": {
      "text/plain": [
       "((22468, 70), (1336, 70), (1354, 70), (2208, 70))"
      ]
     },
     "execution_count": 876,
     "metadata": {},
     "output_type": "execute_result"
    }
   ],
   "source": [
    "srt20_jt1n = srt8_jt1n.copy()\n",
    "srt20_jt2n = srt8_jt2n.copy()\n",
    "srt20_jt3n = srt8_jt3n.copy()\n",
    "srt20_jt4n = srt8_jt4n.copy()\n",
    "srt20_jt1n.shape, srt20_jt2n.shape, srt20_jt3n.shape, srt20_jt4n.shape"
   ]
  },
  {
   "cell_type": "code",
   "execution_count": 877,
   "metadata": {},
   "outputs": [
    {
     "data": {
      "text/plain": [
       "True"
      ]
     },
     "execution_count": 877,
     "metadata": {},
     "output_type": "execute_result"
    }
   ],
   "source": [
    "check_col20 = '연식'\n",
    "check_col20 in srt20_jt1n.columns"
   ]
  },
  {
   "cell_type": "code",
   "execution_count": 878,
   "metadata": {},
   "outputs": [
    {
     "data": {
      "text/plain": [
       "(0, 0, 0, 0)"
      ]
     },
     "execution_count": 878,
     "metadata": {},
     "output_type": "execute_result"
    }
   ],
   "source": [
    "srt20_jt1n[check_col20].isnull().sum(), srt20_jt2n[check_col20].isnull().sum(), srt20_jt3n[check_col20].isnull().sum(), srt20_jt4n[check_col20].isnull().sum()"
   ]
  },
  {
   "cell_type": "code",
   "execution_count": 922,
   "metadata": {},
   "outputs": [],
   "source": [
    "def func20_grp(df):\n",
    "    grp = df.groupby([check_col20, '정비내용', '정비부품명'], dropna=False)['차량번호'].count().reset_index()\n",
    "    grp = grp.rename(columns={'차량번호':'정비건수'})\n",
    "    grp = grp.sort_values(['정비내용', '정비부품명', check_col20, '정비건수'], ascending=[False, False, True, False])\n",
    "    # grp.loc[grp.shape[0], [check_col20, '정비건수']] = ['합계', grp['정비건수'].sum()]\n",
    "    return grp"
   ]
  },
  {
   "cell_type": "code",
   "execution_count": 923,
   "metadata": {},
   "outputs": [],
   "source": [
    "for i, one in enumerate([srt20_jt1n, srt20_jt2n, srt20_jt3n, srt20_jt4n]):\n",
    "    globals()[f'grp20_{i+1}'] = func20_grp(one)"
   ]
  },
  {
   "cell_type": "code",
   "execution_count": 924,
   "metadata": {},
   "outputs": [
    {
     "data": {
      "text/html": [
       "<div>\n",
       "<style scoped>\n",
       "    .dataframe tbody tr th:only-of-type {\n",
       "        vertical-align: middle;\n",
       "    }\n",
       "\n",
       "    .dataframe tbody tr th {\n",
       "        vertical-align: top;\n",
       "    }\n",
       "\n",
       "    .dataframe thead th {\n",
       "        text-align: right;\n",
       "    }\n",
       "</style>\n",
       "<table border=\"1\" class=\"dataframe\">\n",
       "  <thead>\n",
       "    <tr style=\"text-align: right;\">\n",
       "      <th></th>\n",
       "      <th>연식</th>\n",
       "      <th>정비내용</th>\n",
       "      <th>정비부품명</th>\n",
       "      <th>정비건수</th>\n",
       "    </tr>\n",
       "  </thead>\n",
       "  <tbody>\n",
       "    <tr>\n",
       "      <th>10</th>\n",
       "      <td>1988.00</td>\n",
       "      <td>흡기계통</td>\n",
       "      <td>에어크리너</td>\n",
       "      <td>1</td>\n",
       "    </tr>\n",
       "    <tr>\n",
       "      <th>16</th>\n",
       "      <td>1989.00</td>\n",
       "      <td>흡기계통</td>\n",
       "      <td>에어크리너</td>\n",
       "      <td>2</td>\n",
       "    </tr>\n",
       "    <tr>\n",
       "      <th>29</th>\n",
       "      <td>1990.00</td>\n",
       "      <td>흡기계통</td>\n",
       "      <td>에어크리너</td>\n",
       "      <td>8</td>\n",
       "    </tr>\n",
       "    <tr>\n",
       "      <th>41</th>\n",
       "      <td>1991.00</td>\n",
       "      <td>흡기계통</td>\n",
       "      <td>에어크리너</td>\n",
       "      <td>8</td>\n",
       "    </tr>\n",
       "    <tr>\n",
       "      <th>58</th>\n",
       "      <td>1992.00</td>\n",
       "      <td>흡기계통</td>\n",
       "      <td>에어크리너</td>\n",
       "      <td>16</td>\n",
       "    </tr>\n",
       "  </tbody>\n",
       "</table>\n",
       "</div>"
      ],
      "text/plain": [
       "        연식  정비내용  정비부품명  정비건수\n",
       "10 1988.00  흡기계통  에어크리너     1\n",
       "16 1989.00  흡기계통  에어크리너     2\n",
       "29 1990.00  흡기계통  에어크리너     8\n",
       "41 1991.00  흡기계통  에어크리너     8\n",
       "58 1992.00  흡기계통  에어크리너    16"
      ]
     },
     "execution_count": 924,
     "metadata": {},
     "output_type": "execute_result"
    }
   ],
   "source": [
    "grp20_1.head()"
   ]
  },
  {
   "cell_type": "code",
   "execution_count": 925,
   "metadata": {},
   "outputs": [
    {
     "data": {
      "text/html": [
       "<div>\n",
       "<style scoped>\n",
       "    .dataframe tbody tr th:only-of-type {\n",
       "        vertical-align: middle;\n",
       "    }\n",
       "\n",
       "    .dataframe tbody tr th {\n",
       "        vertical-align: top;\n",
       "    }\n",
       "\n",
       "    .dataframe thead th {\n",
       "        text-align: right;\n",
       "    }\n",
       "</style>\n",
       "<table border=\"1\" class=\"dataframe\">\n",
       "  <thead>\n",
       "    <tr style=\"text-align: right;\">\n",
       "      <th></th>\n",
       "      <th>연식</th>\n",
       "      <th>정비내용</th>\n",
       "      <th>정비부품명</th>\n",
       "      <th>정비건수</th>\n",
       "    </tr>\n",
       "  </thead>\n",
       "  <tbody>\n",
       "    <tr>\n",
       "      <th>582</th>\n",
       "      <td>2009.00</td>\n",
       "      <td>NaN</td>\n",
       "      <td>NaN</td>\n",
       "      <td>7</td>\n",
       "    </tr>\n",
       "    <tr>\n",
       "      <th>617</th>\n",
       "      <td>2010.00</td>\n",
       "      <td>NaN</td>\n",
       "      <td>NaN</td>\n",
       "      <td>10</td>\n",
       "    </tr>\n",
       "    <tr>\n",
       "      <th>652</th>\n",
       "      <td>2011.00</td>\n",
       "      <td>NaN</td>\n",
       "      <td>NaN</td>\n",
       "      <td>4</td>\n",
       "    </tr>\n",
       "    <tr>\n",
       "      <th>687</th>\n",
       "      <td>2012.00</td>\n",
       "      <td>NaN</td>\n",
       "      <td>NaN</td>\n",
       "      <td>1</td>\n",
       "    </tr>\n",
       "    <tr>\n",
       "      <th>756</th>\n",
       "      <td>2014.00</td>\n",
       "      <td>NaN</td>\n",
       "      <td>NaN</td>\n",
       "      <td>7</td>\n",
       "    </tr>\n",
       "  </tbody>\n",
       "</table>\n",
       "</div>"
      ],
      "text/plain": [
       "         연식 정비내용 정비부품명  정비건수\n",
       "582 2009.00  NaN   NaN     7\n",
       "617 2010.00  NaN   NaN    10\n",
       "652 2011.00  NaN   NaN     4\n",
       "687 2012.00  NaN   NaN     1\n",
       "756 2014.00  NaN   NaN     7"
      ]
     },
     "execution_count": 925,
     "metadata": {},
     "output_type": "execute_result"
    }
   ],
   "source": [
    "grp20_1.tail()"
   ]
  },
  {
   "cell_type": "code",
   "execution_count": 883,
   "metadata": {},
   "outputs": [],
   "source": [
    "# grp20_1 = srt8_jt1n.groupby([check_col20, '정비내용', '정비부품명'], dropna=False)['차량번호'].count().reset_index()\n",
    "# grp20_1 = grp20_1.rename(columns={'차량번호':'정비건수'})\n",
    "# grp20_1.loc[grp20_1.shape[0], [check_col20, '정비건수']] = ['합계', grp20_1['정비건수'].sum()]\n",
    "# grp20_1 = grp20_1.sort_values([check_col20, '정비건수'], ascending=[True, False])\n",
    "# display(grp20_1.tail())\n",
    "# print()\n",
    "# grp20_2 = srt8_jt2n.groupby([check_col20, '정비내용', '정비부품명'], dropna=False)['차량번호'].count().reset_index()\n",
    "# grp20_2 = grp20_2.rename(columns={'차량번호':'정비건수'})\n",
    "# grp20_2.loc[grp20_2.shape[0], [check_col20, '정비건수']] = ['합계', grp20_2['정비건수'].sum()]\n",
    "# grp20_2 = grp20_2.sort_values([check_col20, '정비건수'], ascending=[True, False])\n",
    "# display(grp20_2.tail())\n",
    "# print()\n",
    "# grp20_3 = srt8_jt3n.groupby([check_col20, '정비내용', '정비부품명'], dropna=False)['차량번호'].count().reset_index()\n",
    "# grp20_3 = grp20_3.rename(columns={'차량번호':'정비건수'})\n",
    "# grp20_3.loc[grp20_3.shape[0], [check_col20, '정비건수']] = ['합계', grp20_3['정비건수'].sum()]\n",
    "# grp20_3 = grp20_3.sort_values([check_col20, '정비건수'], ascending=[True, False])\n",
    "# display(grp20_3.tail())\n",
    "# print()\n",
    "# grp20_4 = srt8_jt4n.groupby([check_col20, '정비내용', '정비부품명'], dropna=False)['차량번호'].count().reset_index()\n",
    "# grp20_4 = grp20_4.rename(columns={'차량번호':'정비건수'})\n",
    "# grp20_4.loc[grp20_4.shape[0], [check_col20, '정비건수']] = ['합계', grp20_4['정비건수'].sum()]\n",
    "# grp20_4 = grp20_4.sort_values([check_col20, '정비건수'], ascending=[True, False])\n",
    "# display(grp20_4.tail())\n",
    "# print()"
   ]
  },
  {
   "cell_type": "code",
   "execution_count": 926,
   "metadata": {},
   "outputs": [],
   "source": [
    "grp20_1['불합격내역'] = '매연'\n",
    "grp20_2['불합격내역'] = 'CO'\n",
    "grp20_3['불합격내역'] = 'HC'\n",
    "grp20_4['불합격내역'] = 'NOx'"
   ]
  },
  {
   "cell_type": "code",
   "execution_count": 927,
   "metadata": {},
   "outputs": [
    {
     "data": {
      "text/html": [
       "<div>\n",
       "<style scoped>\n",
       "    .dataframe tbody tr th:only-of-type {\n",
       "        vertical-align: middle;\n",
       "    }\n",
       "\n",
       "    .dataframe tbody tr th {\n",
       "        vertical-align: top;\n",
       "    }\n",
       "\n",
       "    .dataframe thead th {\n",
       "        text-align: right;\n",
       "    }\n",
       "</style>\n",
       "<table border=\"1\" class=\"dataframe\">\n",
       "  <thead>\n",
       "    <tr style=\"text-align: right;\">\n",
       "      <th></th>\n",
       "      <th>연식</th>\n",
       "      <th>정비내용</th>\n",
       "      <th>정비부품명</th>\n",
       "      <th>정비건수</th>\n",
       "      <th>불합격내역</th>\n",
       "    </tr>\n",
       "  </thead>\n",
       "  <tbody>\n",
       "    <tr>\n",
       "      <th>2305</th>\n",
       "      <td>2000.00</td>\n",
       "      <td>NaN</td>\n",
       "      <td>NaN</td>\n",
       "      <td>4</td>\n",
       "      <td>NOx</td>\n",
       "    </tr>\n",
       "    <tr>\n",
       "      <th>2306</th>\n",
       "      <td>2001.00</td>\n",
       "      <td>NaN</td>\n",
       "      <td>NaN</td>\n",
       "      <td>1</td>\n",
       "      <td>NOx</td>\n",
       "    </tr>\n",
       "    <tr>\n",
       "      <th>2307</th>\n",
       "      <td>2002.00</td>\n",
       "      <td>NaN</td>\n",
       "      <td>NaN</td>\n",
       "      <td>5</td>\n",
       "      <td>NOx</td>\n",
       "    </tr>\n",
       "    <tr>\n",
       "      <th>2308</th>\n",
       "      <td>2003.00</td>\n",
       "      <td>NaN</td>\n",
       "      <td>NaN</td>\n",
       "      <td>1</td>\n",
       "      <td>NOx</td>\n",
       "    </tr>\n",
       "    <tr>\n",
       "      <th>2309</th>\n",
       "      <td>2004.00</td>\n",
       "      <td>NaN</td>\n",
       "      <td>NaN</td>\n",
       "      <td>1</td>\n",
       "      <td>NOx</td>\n",
       "    </tr>\n",
       "  </tbody>\n",
       "</table>\n",
       "</div>"
      ],
      "text/plain": [
       "          연식 정비내용 정비부품명  정비건수 불합격내역\n",
       "2305 2000.00  NaN   NaN     4   NOx\n",
       "2306 2001.00  NaN   NaN     1   NOx\n",
       "2307 2002.00  NaN   NaN     5   NOx\n",
       "2308 2003.00  NaN   NaN     1   NOx\n",
       "2309 2004.00  NaN   NaN     1   NOx"
      ]
     },
     "execution_count": 927,
     "metadata": {},
     "output_type": "execute_result"
    }
   ],
   "source": [
    "grp20 = pd.concat([grp20_1, grp20_2, grp20_3, grp20_4], ignore_index=True)\n",
    "grp20.tail()"
   ]
  },
  {
   "cell_type": "code",
   "execution_count": 928,
   "metadata": {},
   "outputs": [
    {
     "data": {
      "text/plain": [
       "Index(['연식', '정비내용', '정비부품명', '정비건수', '불합격내역'], dtype='object')"
      ]
     },
     "execution_count": 928,
     "metadata": {},
     "output_type": "execute_result"
    }
   ],
   "source": [
    "grp20.columns"
   ]
  },
  {
   "cell_type": "markdown",
   "metadata": {},
   "source": [
    "##### [출력] STD_BD43_20_PRPT_OVHUL_YRIDNW "
   ]
  },
  {
   "cell_type": "code",
   "execution_count": 884,
   "metadata": {},
   "outputs": [
    {
     "data": {
      "text/plain": [
       "'20240119_AM_104633'"
      ]
     },
     "execution_count": 884,
     "metadata": {},
     "output_type": "execute_result"
    }
   ],
   "source": [
    "today_date_dtl = datetime.today().strftime('%Y%m%d_%p_%I%M%S')\n",
    "today_date_dtl"
   ]
  },
  {
   "cell_type": "code",
   "execution_count": null,
   "metadata": {},
   "outputs": [],
   "source": [
    "# STD_BD43_20_PRPT_OVHUL_YRIDNW = grp20[[\n",
    "#     '연식', \n",
    "#     '정비내용',\n",
    "#     '정비부품명',\n",
    "#     '정비건수',\n",
    "#     '불합격내역',\n",
    "# ]]\n",
    "# grp20_dict = {\n",
    "#     '연식':'YRIDNW', \n",
    "#     '정비내용':'OVHUL_CN',\n",
    "#     '정비부품명':'OVHUL_CMPNT_NM',\n",
    "#     '정비건수':'OVHUL_NOCS',\n",
    "#     '불합격내역':'FAIL_BRKWN',\n",
    "# }\n",
    "# STD_BD43_20_PRPT_OVHUL_YRIDNW = STD_BD43_20_PRPT_OVHUL_YRIDNW.rename(columns=grp20_dict)\n",
    "# STD_BD43_20_PRPT_OVHUL_YRIDNW['LOAD_DT'] = datetime.today().strftime('%Y%m%d')\n",
    "# print(STD_BD43_20_PRPT_OVHUL_YRIDNW.columns)\n",
    "\n",
    "# if export_opt == 'y':\n",
    "#     STD_BD43_20_PRPT_OVHUL_YRIDNW.to_csv(os.path.join(df4_fold, f'STD_BD43_20_PRPT_OVHUL_YRIDNW_{today_date_dtl}.csv'), index=False)\n",
    "#     print('STD_BD43_20_PRPT_OVHUL_YRIDNW 출력 완료.')\n",
    "# else:\n",
    "#     pass"
   ]
  },
  {
   "cell_type": "code",
   "execution_count": 885,
   "metadata": {},
   "outputs": [],
   "source": [
    "if export_opt == 'y':\n",
    "    with pd.ExcelWriter(os.path.join(df4_fold, f'STD_BD43_20_PRPT_OVHUL_YRIDNW_{today_date_dtl}.xlsx')) as writer:\n",
    "        grp20_1.to_excel(writer, sheet_name='판정1_매연', index=False)\n",
    "        grp20_2.to_excel(writer, sheet_name='판정1_CO', index=False)\n",
    "        grp20_3.to_excel(writer, sheet_name='판정2_HC', index=False)\n",
    "        grp20_4.to_excel(writer, sheet_name='판정3_NOx', index=False)\n",
    "else:\n",
    "    pass"
   ]
  },
  {
   "cell_type": "markdown",
   "metadata": {},
   "source": [
    "### [🔺] 4.3.21 STD_BD43_21_PRPT_OVHUL_DRVNG"
   ]
  },
  {
   "cell_type": "code",
   "execution_count": 886,
   "metadata": {},
   "outputs": [
    {
     "data": {
      "text/plain": [
       "((22468, 70), (1336, 70), (1354, 70), (2208, 70))"
      ]
     },
     "execution_count": 886,
     "metadata": {},
     "output_type": "execute_result"
    }
   ],
   "source": [
    "srt8_jt1n.shape, srt8_jt2n.shape, srt8_jt3n.shape, srt8_jt4n.shape"
   ]
  },
  {
   "cell_type": "code",
   "execution_count": 887,
   "metadata": {},
   "outputs": [
    {
     "data": {
      "text/plain": [
       "True"
      ]
     },
     "execution_count": 887,
     "metadata": {},
     "output_type": "execute_result"
    }
   ],
   "source": [
    "check_col21 = '주행거리'\n",
    "check_col21 in srt8_jt1n.columns"
   ]
  },
  {
   "cell_type": "code",
   "execution_count": 888,
   "metadata": {},
   "outputs": [
    {
     "data": {
      "text/plain": [
       "(0, 0, 0, 0)"
      ]
     },
     "execution_count": 888,
     "metadata": {},
     "output_type": "execute_result"
    }
   ],
   "source": [
    "srt8_jt1n[check_col21].isnull().sum(), srt8_jt2n[check_col21].isnull().sum(), srt8_jt3n[check_col21].isnull().sum(), srt8_jt4n[check_col21].isnull().sum()"
   ]
  },
  {
   "cell_type": "code",
   "execution_count": 889,
   "metadata": {},
   "outputs": [
    {
     "name": "stdout",
     "output_type": "stream",
     "text": [
      "count    22468.00\n",
      "mean    220427.29\n",
      "std     112613.32\n",
      "min      -9999.00\n",
      "25%     154825.00\n",
      "50%     204247.00\n",
      "75%     269067.00\n",
      "max     993791.00\n",
      "Name: 주행거리, dtype: float64\n",
      "\n",
      "count     1336.00\n",
      "mean    196139.64\n",
      "std      91135.40\n",
      "min          1.00\n",
      "25%     128817.50\n",
      "50%     186742.00\n",
      "75%     248980.75\n",
      "max     658976.00\n",
      "Name: 주행거리, dtype: float64\n",
      "\n",
      "count     1354.00\n",
      "mean    213014.21\n",
      "std      97079.81\n",
      "min      -9999.00\n",
      "25%     143188.00\n",
      "50%     203295.00\n",
      "75%     277210.00\n",
      "max     658976.00\n",
      "Name: 주행거리, dtype: float64\n",
      "\n",
      "count     2208.00\n",
      "mean    220270.98\n",
      "std     102752.37\n",
      "min      -9999.00\n",
      "25%     152598.75\n",
      "50%     205566.00\n",
      "75%     274482.00\n",
      "max     666518.00\n",
      "Name: 주행거리, dtype: float64\n",
      "\n"
     ]
    }
   ],
   "source": [
    "# 주행거리 범위 : -9999 ~ 3447611\n",
    "print(srt8_jt1n[check_col21].describe())\n",
    "print()\n",
    "print(srt8_jt2n[check_col21].describe())\n",
    "print()\n",
    "print(srt8_jt3n[check_col21].describe())\n",
    "print()\n",
    "print(srt8_jt4n[check_col21].describe())\n",
    "print()"
   ]
  },
  {
   "cell_type": "markdown",
   "metadata": {},
   "source": [
    "#### 전처리\n",
    "- 주행거리 음수 -> 0으로 수정\n",
    "- 주행거리 구간으로 지정\n",
    "    - 주행거리 범위 : -9999 ~ 3447611\n",
    "    - 구간(1년 주행거리 기준) : 1만3천 단위로 구분( 국가통계포털 일일평균 주행거리 참고(2022 기준) )"
   ]
  },
  {
   "cell_type": "code",
   "execution_count": 890,
   "metadata": {},
   "outputs": [
    {
     "data": {
      "text/plain": [
       "((22468, 70), (1336, 70), (1354, 70), (2208, 70))"
      ]
     },
     "execution_count": 890,
     "metadata": {},
     "output_type": "execute_result"
    }
   ],
   "source": [
    "srt21_jt1n = srt8_jt1n.copy()\n",
    "srt21_jt2n = srt8_jt2n.copy()\n",
    "srt21_jt3n = srt8_jt3n.copy()\n",
    "srt21_jt4n = srt8_jt4n.copy()\n",
    "srt21_jt1n.shape, srt21_jt2n.shape, srt21_jt3n.shape, srt21_jt4n.shape"
   ]
  },
  {
   "cell_type": "code",
   "execution_count": 891,
   "metadata": {},
   "outputs": [],
   "source": [
    "# print(srt21_jt1n.loc[srt21_jt1n[check_col21] < 0].shape)\n",
    "# print()\n",
    "# srt21_jt1n.loc[srt21_jt1n[check_col21] < 0, check_col21] = 0\n",
    "# print(srt21_jt1n[check_col21].describe())\n",
    "# print()\n",
    "# num21_1 = math.ceil(srt21_jt1n[check_col21].max() / 13000)\n",
    "# print(num21_1)\n",
    "# print()\n",
    "# div = 13000\n",
    "# for i in range(num21_1):\n",
    "#     srt21_jt1n.loc[(srt21_jt1n[check_col21] >= i*div) & (srt21_jt1n[check_col21] < (i+1)*div), check_col21 + '_구분'] = f'{i*div:,}km이상 {(i+1)*div:,}km미만'\n",
    "#     srt21_jt1n.loc[(srt21_jt1n[check_col21] >= i*div) & (srt21_jt1n[check_col21] < (i+1)*div), check_col21 + '_구분번호'] = i\n",
    "\n",
    "# print(srt21_jt1n[check_col21 + '_구분'].unique())\n",
    "# print(srt21_jt1n[check_col21 + '_구분번호'].unique())\n",
    "# len(srt21_jt1n[check_col21 + '_구분번호'].unique())"
   ]
  },
  {
   "cell_type": "code",
   "execution_count": 892,
   "metadata": {},
   "outputs": [],
   "source": [
    "def func21(df):\n",
    "    div = 13000\n",
    "    col = '주행거리'\n",
    "    df.loc[df[col] < 0, col] = 0\n",
    "    num = math.ceil(df[col].max() / div)\n",
    "    for i in range(num):\n",
    "        df.loc[(df[col] >= i*div) & (df[col] < (i+1)*div), [col + '_구분번호', col + '_구분']] = [i, f'{i*div:,}km이상 {(i+1)*div:,}km미만']\n",
    "    return df"
   ]
  },
  {
   "cell_type": "code",
   "execution_count": 893,
   "metadata": {},
   "outputs": [],
   "source": [
    "for one in [srt21_jt1n, srt21_jt2n, srt21_jt3n, srt21_jt4n]:\n",
    "    one = func21(one)"
   ]
  },
  {
   "cell_type": "markdown",
   "metadata": {},
   "source": [
    "#### 분석"
   ]
  },
  {
   "cell_type": "code",
   "execution_count": 929,
   "metadata": {},
   "outputs": [],
   "source": [
    "def func21_grp(df):\n",
    "    grp = df.groupby(['주행거리_구분번호', '주행거리_구분', '정비내용', '정비부품명'], dropna=False)['차량번호'].count().reset_index()\n",
    "    grp = grp.rename(columns={'차량번호':'정비건수'})\n",
    "    grp = grp.sort_values(['정비내용', '정비부품명', '주행거리_구분번호'], ascending=[False, False, True])\n",
    "    # grp.loc[grp.shape[0], ['주행거리_구분', '정비건수']] = ['합계', grp['정비건수'].sum()]\n",
    "    grp = grp.drop('주행거리_구분번호', axis=1)\n",
    "    return grp"
   ]
  },
  {
   "cell_type": "code",
   "execution_count": 930,
   "metadata": {},
   "outputs": [],
   "source": [
    "for i, one in enumerate([srt21_jt1n, srt21_jt2n, srt21_jt3n, srt21_jt4n]):\n",
    "    globals()[f'grp21_{i+1}'] = func21_grp(one)"
   ]
  },
  {
   "cell_type": "code",
   "execution_count": 931,
   "metadata": {},
   "outputs": [
    {
     "data": {
      "text/html": [
       "<div>\n",
       "<style scoped>\n",
       "    .dataframe tbody tr th:only-of-type {\n",
       "        vertical-align: middle;\n",
       "    }\n",
       "\n",
       "    .dataframe tbody tr th {\n",
       "        vertical-align: top;\n",
       "    }\n",
       "\n",
       "    .dataframe thead th {\n",
       "        text-align: right;\n",
       "    }\n",
       "</style>\n",
       "<table border=\"1\" class=\"dataframe\">\n",
       "  <thead>\n",
       "    <tr style=\"text-align: right;\">\n",
       "      <th></th>\n",
       "      <th>주행거리_구분</th>\n",
       "      <th>정비내용</th>\n",
       "      <th>정비부품명</th>\n",
       "      <th>정비건수</th>\n",
       "    </tr>\n",
       "  </thead>\n",
       "  <tbody>\n",
       "    <tr>\n",
       "      <th>1039</th>\n",
       "      <td>403,000km이상 416,000km미만</td>\n",
       "      <td>NaN</td>\n",
       "      <td>NaN</td>\n",
       "      <td>2</td>\n",
       "    </tr>\n",
       "    <tr>\n",
       "      <th>1059</th>\n",
       "      <td>416,000km이상 429,000km미만</td>\n",
       "      <td>NaN</td>\n",
       "      <td>NaN</td>\n",
       "      <td>1</td>\n",
       "    </tr>\n",
       "    <tr>\n",
       "      <th>1110</th>\n",
       "      <td>468,000km이상 481,000km미만</td>\n",
       "      <td>NaN</td>\n",
       "      <td>NaN</td>\n",
       "      <td>1</td>\n",
       "    </tr>\n",
       "    <tr>\n",
       "      <th>1133</th>\n",
       "      <td>494,000km이상 507,000km미만</td>\n",
       "      <td>NaN</td>\n",
       "      <td>NaN</td>\n",
       "      <td>1</td>\n",
       "    </tr>\n",
       "    <tr>\n",
       "      <th>1322</th>\n",
       "      <td>806,000km이상 819,000km미만</td>\n",
       "      <td>NaN</td>\n",
       "      <td>NaN</td>\n",
       "      <td>1</td>\n",
       "    </tr>\n",
       "  </tbody>\n",
       "</table>\n",
       "</div>"
      ],
      "text/plain": [
       "                      주행거리_구분 정비내용 정비부품명  정비건수\n",
       "1039  403,000km이상 416,000km미만  NaN   NaN     2\n",
       "1059  416,000km이상 429,000km미만  NaN   NaN     1\n",
       "1110  468,000km이상 481,000km미만  NaN   NaN     1\n",
       "1133  494,000km이상 507,000km미만  NaN   NaN     1\n",
       "1322  806,000km이상 819,000km미만  NaN   NaN     1"
      ]
     },
     "metadata": {},
     "output_type": "display_data"
    },
    {
     "data": {
      "text/html": [
       "<div>\n",
       "<style scoped>\n",
       "    .dataframe tbody tr th:only-of-type {\n",
       "        vertical-align: middle;\n",
       "    }\n",
       "\n",
       "    .dataframe tbody tr th {\n",
       "        vertical-align: top;\n",
       "    }\n",
       "\n",
       "    .dataframe thead th {\n",
       "        text-align: right;\n",
       "    }\n",
       "</style>\n",
       "<table border=\"1\" class=\"dataframe\">\n",
       "  <thead>\n",
       "    <tr style=\"text-align: right;\">\n",
       "      <th></th>\n",
       "      <th>주행거리_구분</th>\n",
       "      <th>정비내용</th>\n",
       "      <th>정비부품명</th>\n",
       "      <th>정비건수</th>\n",
       "    </tr>\n",
       "  </thead>\n",
       "  <tbody>\n",
       "    <tr>\n",
       "      <th>273</th>\n",
       "      <td>208,000km이상 221,000km미만</td>\n",
       "      <td>NaN</td>\n",
       "      <td>NaN</td>\n",
       "      <td>1</td>\n",
       "    </tr>\n",
       "    <tr>\n",
       "      <th>341</th>\n",
       "      <td>234,000km이상 247,000km미만</td>\n",
       "      <td>NaN</td>\n",
       "      <td>NaN</td>\n",
       "      <td>1</td>\n",
       "    </tr>\n",
       "    <tr>\n",
       "      <th>355</th>\n",
       "      <td>247,000km이상 260,000km미만</td>\n",
       "      <td>NaN</td>\n",
       "      <td>NaN</td>\n",
       "      <td>1</td>\n",
       "    </tr>\n",
       "    <tr>\n",
       "      <th>372</th>\n",
       "      <td>260,000km이상 273,000km미만</td>\n",
       "      <td>NaN</td>\n",
       "      <td>NaN</td>\n",
       "      <td>2</td>\n",
       "    </tr>\n",
       "    <tr>\n",
       "      <th>424</th>\n",
       "      <td>299,000km이상 312,000km미만</td>\n",
       "      <td>NaN</td>\n",
       "      <td>NaN</td>\n",
       "      <td>2</td>\n",
       "    </tr>\n",
       "  </tbody>\n",
       "</table>\n",
       "</div>"
      ],
      "text/plain": [
       "                     주행거리_구분 정비내용 정비부품명  정비건수\n",
       "273  208,000km이상 221,000km미만  NaN   NaN     1\n",
       "341  234,000km이상 247,000km미만  NaN   NaN     1\n",
       "355  247,000km이상 260,000km미만  NaN   NaN     1\n",
       "372  260,000km이상 273,000km미만  NaN   NaN     2\n",
       "424  299,000km이상 312,000km미만  NaN   NaN     2"
      ]
     },
     "metadata": {},
     "output_type": "display_data"
    },
    {
     "data": {
      "text/html": [
       "<div>\n",
       "<style scoped>\n",
       "    .dataframe tbody tr th:only-of-type {\n",
       "        vertical-align: middle;\n",
       "    }\n",
       "\n",
       "    .dataframe tbody tr th {\n",
       "        vertical-align: top;\n",
       "    }\n",
       "\n",
       "    .dataframe thead th {\n",
       "        text-align: right;\n",
       "    }\n",
       "</style>\n",
       "<table border=\"1\" class=\"dataframe\">\n",
       "  <thead>\n",
       "    <tr style=\"text-align: right;\">\n",
       "      <th></th>\n",
       "      <th>주행거리_구분</th>\n",
       "      <th>정비내용</th>\n",
       "      <th>정비부품명</th>\n",
       "      <th>정비건수</th>\n",
       "    </tr>\n",
       "  </thead>\n",
       "  <tbody>\n",
       "    <tr>\n",
       "      <th>250</th>\n",
       "      <td>195,000km이상 208,000km미만</td>\n",
       "      <td>NaN</td>\n",
       "      <td>NaN</td>\n",
       "      <td>2</td>\n",
       "    </tr>\n",
       "    <tr>\n",
       "      <th>323</th>\n",
       "      <td>234,000km이상 247,000km미만</td>\n",
       "      <td>NaN</td>\n",
       "      <td>NaN</td>\n",
       "      <td>1</td>\n",
       "    </tr>\n",
       "    <tr>\n",
       "      <th>339</th>\n",
       "      <td>247,000km이상 260,000km미만</td>\n",
       "      <td>NaN</td>\n",
       "      <td>NaN</td>\n",
       "      <td>1</td>\n",
       "    </tr>\n",
       "    <tr>\n",
       "      <th>355</th>\n",
       "      <td>260,000km이상 273,000km미만</td>\n",
       "      <td>NaN</td>\n",
       "      <td>NaN</td>\n",
       "      <td>1</td>\n",
       "    </tr>\n",
       "    <tr>\n",
       "      <th>438</th>\n",
       "      <td>299,000km이상 312,000km미만</td>\n",
       "      <td>NaN</td>\n",
       "      <td>NaN</td>\n",
       "      <td>2</td>\n",
       "    </tr>\n",
       "  </tbody>\n",
       "</table>\n",
       "</div>"
      ],
      "text/plain": [
       "                     주행거리_구분 정비내용 정비부품명  정비건수\n",
       "250  195,000km이상 208,000km미만  NaN   NaN     2\n",
       "323  234,000km이상 247,000km미만  NaN   NaN     1\n",
       "339  247,000km이상 260,000km미만  NaN   NaN     1\n",
       "355  260,000km이상 273,000km미만  NaN   NaN     1\n",
       "438  299,000km이상 312,000km미만  NaN   NaN     2"
      ]
     },
     "metadata": {},
     "output_type": "display_data"
    },
    {
     "data": {
      "text/html": [
       "<div>\n",
       "<style scoped>\n",
       "    .dataframe tbody tr th:only-of-type {\n",
       "        vertical-align: middle;\n",
       "    }\n",
       "\n",
       "    .dataframe tbody tr th {\n",
       "        vertical-align: top;\n",
       "    }\n",
       "\n",
       "    .dataframe thead th {\n",
       "        text-align: right;\n",
       "    }\n",
       "</style>\n",
       "<table border=\"1\" class=\"dataframe\">\n",
       "  <thead>\n",
       "    <tr style=\"text-align: right;\">\n",
       "      <th></th>\n",
       "      <th>주행거리_구분</th>\n",
       "      <th>정비내용</th>\n",
       "      <th>정비부품명</th>\n",
       "      <th>정비건수</th>\n",
       "    </tr>\n",
       "  </thead>\n",
       "  <tbody>\n",
       "    <tr>\n",
       "      <th>339</th>\n",
       "      <td>221,000km이상 234,000km미만</td>\n",
       "      <td>NaN</td>\n",
       "      <td>NaN</td>\n",
       "      <td>1</td>\n",
       "    </tr>\n",
       "    <tr>\n",
       "      <th>403</th>\n",
       "      <td>247,000km이상 260,000km미만</td>\n",
       "      <td>NaN</td>\n",
       "      <td>NaN</td>\n",
       "      <td>1</td>\n",
       "    </tr>\n",
       "    <tr>\n",
       "      <th>422</th>\n",
       "      <td>260,000km이상 273,000km미만</td>\n",
       "      <td>NaN</td>\n",
       "      <td>NaN</td>\n",
       "      <td>2</td>\n",
       "    </tr>\n",
       "    <tr>\n",
       "      <th>457</th>\n",
       "      <td>273,000km이상 286,000km미만</td>\n",
       "      <td>NaN</td>\n",
       "      <td>NaN</td>\n",
       "      <td>1</td>\n",
       "    </tr>\n",
       "    <tr>\n",
       "      <th>603</th>\n",
       "      <td>403,000km이상 416,000km미만</td>\n",
       "      <td>NaN</td>\n",
       "      <td>NaN</td>\n",
       "      <td>3</td>\n",
       "    </tr>\n",
       "  </tbody>\n",
       "</table>\n",
       "</div>"
      ],
      "text/plain": [
       "                     주행거리_구분 정비내용 정비부품명  정비건수\n",
       "339  221,000km이상 234,000km미만  NaN   NaN     1\n",
       "403  247,000km이상 260,000km미만  NaN   NaN     1\n",
       "422  260,000km이상 273,000km미만  NaN   NaN     2\n",
       "457  273,000km이상 286,000km미만  NaN   NaN     1\n",
       "603  403,000km이상 416,000km미만  NaN   NaN     3"
      ]
     },
     "metadata": {},
     "output_type": "display_data"
    }
   ],
   "source": [
    "display(grp21_1.tail())\n",
    "display(grp21_2.tail())\n",
    "display(grp21_3.tail())\n",
    "display(grp21_4.tail())"
   ]
  },
  {
   "cell_type": "code",
   "execution_count": 897,
   "metadata": {},
   "outputs": [],
   "source": [
    "# grp21_1 = srt21_jt1n.groupby(['주행거리_구분번호', '주행거리_구분', '정비내용', '정비부품명'], dropna=False)['차량번호'].count().reset_index()\n",
    "# grp21_1 = grp21_1.rename(columns={'차량번호':'정비건수'})\n",
    "# grp21_1.loc[grp21_1.shape[0], ['주행거리_구분번호', '정비건수']] = ['합계', grp21_1['정비건수'].sum()]\n",
    "# grp21_1 = grp21_1.drop('주행거리_구분번호', axis=1)\n",
    "# display(grp21_1.tail())\n",
    "# print()\n",
    "\n",
    "# grp21_2 = srt21_jt2n.groupby(['주행거리_구분번호', '주행거리_구분', '정비내용', '정비부품명'], dropna=False)['차량번호'].count().reset_index()\n",
    "# grp21_2 = grp21_2.rename(columns={'차량번호':'정비건수'})\n",
    "# grp21_2.loc[grp21_2.shape[0], ['주행거리_구분번호', '정비건수']] = ['합계', grp21_2['정비건수'].sum()]\n",
    "# grp21_2 = grp21_2.drop('주행거리_구분번호', axis=1)\n",
    "# display(grp21_2.tail())\n",
    "# print()\n",
    "\n",
    "# grp21_3 = srt21_jt3n.groupby(['주행거리_구분번호', '주행거리_구분', '정비내용', '정비부품명'], dropna=False)['차량번호'].count().reset_index()\n",
    "# grp21_3 = grp21_3.rename(columns={'차량번호':'정비건수'})\n",
    "# grp21_3.loc[grp21_3.shape[0], ['주행거리_구분번호', '정비건수']] = ['합계', grp21_3['정비건수'].sum()]\n",
    "# grp21_3 = grp21_3.drop('주행거리_구분번호', axis=1)\n",
    "# display(grp21_3.tail())\n",
    "# print()\n",
    "\n",
    "# grp21_4 = srt21_jt4n.groupby(['주행거리_구분번호', '주행거리_구분', '정비내용', '정비부품명'], dropna=False)['차량번호'].count().reset_index()\n",
    "# grp21_4 = grp21_4.rename(columns={'차량번호':'정비건수'})\n",
    "# grp21_4.loc[grp21_4.shape[0], ['주행거리_구분번호', '정비건수']] = ['합계', grp21_4['정비건수'].sum()]\n",
    "# grp21_4 = grp21_4.drop('주행거리_구분번호', axis=1)\n",
    "# display(grp21_4.tail())\n",
    "# print()"
   ]
  },
  {
   "cell_type": "code",
   "execution_count": 932,
   "metadata": {},
   "outputs": [],
   "source": [
    "grp21_1['불합격내역'] = '매연'\n",
    "grp21_2['불합격내역'] = 'CO'\n",
    "grp21_3['불합격내역'] = 'HC'\n",
    "grp21_4['불합격내역'] = 'NOx'"
   ]
  },
  {
   "cell_type": "code",
   "execution_count": 933,
   "metadata": {},
   "outputs": [
    {
     "data": {
      "text/html": [
       "<div>\n",
       "<style scoped>\n",
       "    .dataframe tbody tr th:only-of-type {\n",
       "        vertical-align: middle;\n",
       "    }\n",
       "\n",
       "    .dataframe tbody tr th {\n",
       "        vertical-align: top;\n",
       "    }\n",
       "\n",
       "    .dataframe thead th {\n",
       "        text-align: right;\n",
       "    }\n",
       "</style>\n",
       "<table border=\"1\" class=\"dataframe\">\n",
       "  <thead>\n",
       "    <tr style=\"text-align: right;\">\n",
       "      <th></th>\n",
       "      <th>주행거리_구분</th>\n",
       "      <th>정비내용</th>\n",
       "      <th>정비부품명</th>\n",
       "      <th>정비건수</th>\n",
       "      <th>불합격내역</th>\n",
       "    </tr>\n",
       "  </thead>\n",
       "  <tbody>\n",
       "    <tr>\n",
       "      <th>3175</th>\n",
       "      <td>221,000km이상 234,000km미만</td>\n",
       "      <td>NaN</td>\n",
       "      <td>NaN</td>\n",
       "      <td>1</td>\n",
       "      <td>NOx</td>\n",
       "    </tr>\n",
       "    <tr>\n",
       "      <th>3176</th>\n",
       "      <td>247,000km이상 260,000km미만</td>\n",
       "      <td>NaN</td>\n",
       "      <td>NaN</td>\n",
       "      <td>1</td>\n",
       "      <td>NOx</td>\n",
       "    </tr>\n",
       "    <tr>\n",
       "      <th>3177</th>\n",
       "      <td>260,000km이상 273,000km미만</td>\n",
       "      <td>NaN</td>\n",
       "      <td>NaN</td>\n",
       "      <td>2</td>\n",
       "      <td>NOx</td>\n",
       "    </tr>\n",
       "    <tr>\n",
       "      <th>3178</th>\n",
       "      <td>273,000km이상 286,000km미만</td>\n",
       "      <td>NaN</td>\n",
       "      <td>NaN</td>\n",
       "      <td>1</td>\n",
       "      <td>NOx</td>\n",
       "    </tr>\n",
       "    <tr>\n",
       "      <th>3179</th>\n",
       "      <td>403,000km이상 416,000km미만</td>\n",
       "      <td>NaN</td>\n",
       "      <td>NaN</td>\n",
       "      <td>3</td>\n",
       "      <td>NOx</td>\n",
       "    </tr>\n",
       "  </tbody>\n",
       "</table>\n",
       "</div>"
      ],
      "text/plain": [
       "                      주행거리_구분 정비내용 정비부품명  정비건수 불합격내역\n",
       "3175  221,000km이상 234,000km미만  NaN   NaN     1   NOx\n",
       "3176  247,000km이상 260,000km미만  NaN   NaN     1   NOx\n",
       "3177  260,000km이상 273,000km미만  NaN   NaN     2   NOx\n",
       "3178  273,000km이상 286,000km미만  NaN   NaN     1   NOx\n",
       "3179  403,000km이상 416,000km미만  NaN   NaN     3   NOx"
      ]
     },
     "execution_count": 933,
     "metadata": {},
     "output_type": "execute_result"
    }
   ],
   "source": [
    "grp21 = pd.concat([grp21_1, grp21_2, grp21_3, grp21_4], ignore_index=True)\n",
    "grp21.tail()"
   ]
  },
  {
   "cell_type": "code",
   "execution_count": 934,
   "metadata": {},
   "outputs": [
    {
     "data": {
      "text/plain": [
       "Index(['주행거리_구분', '정비내용', '정비부품명', '정비건수', '불합격내역'], dtype='object')"
      ]
     },
     "execution_count": 934,
     "metadata": {},
     "output_type": "execute_result"
    }
   ],
   "source": [
    "grp21.columns"
   ]
  },
  {
   "cell_type": "markdown",
   "metadata": {},
   "source": [
    "##### [출력] STD_BD43_21_PRPT_OVHUL_DRVNG "
   ]
  },
  {
   "cell_type": "code",
   "execution_count": 898,
   "metadata": {},
   "outputs": [
    {
     "data": {
      "text/plain": [
       "'20240119_AM_104634'"
      ]
     },
     "execution_count": 898,
     "metadata": {},
     "output_type": "execute_result"
    }
   ],
   "source": [
    "today_date_dtl = datetime.today().strftime('%Y%m%d_%p_%I%M%S')\n",
    "today_date_dtl"
   ]
  },
  {
   "cell_type": "code",
   "execution_count": null,
   "metadata": {},
   "outputs": [],
   "source": [
    "# STD_BD43_21_PRPT_OVHUL_DRVNG = grp21[[\n",
    "#     '주행거리_구분', \n",
    "#     '정비내용',\n",
    "#     '정비부품명',\n",
    "#     '정비건수',\n",
    "#     '불합격내역',\n",
    "# ]]\n",
    "# grp21_dict = {\n",
    "#     '주행거리_구분':'DRVNG_DSTNC_SE',\n",
    "#     '정비내용':'OVHUL_CN',\n",
    "#     '정비부품명':'OVHUL_CMPNT_NM',\n",
    "#     '정비건수':'OVHUL_NOCS',\n",
    "#     '불합격내역':'FAIL_BRKWN',\n",
    "# }\n",
    "# STD_BD43_21_PRPT_OVHUL_DRVNG = STD_BD43_21_PRPT_OVHUL_DRVNG.rename(columns=grp21_dict)\n",
    "# STD_BD43_21_PRPT_OVHUL_DRVNG['LOAD_DT'] = datetime.today().strftime('%Y%m%d')\n",
    "# print(STD_BD43_21_PRPT_OVHUL_DRVNG.columns)\n",
    "\n",
    "# if export_opt == 'y':\n",
    "#     STD_BD43_21_PRPT_OVHUL_DRVNG.to_csv(os.path.join(df4_fold, f'STD_BD43_21_PRPT_OVHUL_DRVNG_{today_date_dtl}.csv'), index=False)\n",
    "#     print('STD_BD43_21_PRPT_OVHUL_DRVNG 출력 완료.')\n",
    "# else:\n",
    "#     pass"
   ]
  },
  {
   "cell_type": "code",
   "execution_count": 899,
   "metadata": {},
   "outputs": [],
   "source": [
    "if export_opt == 'y':\n",
    "    with pd.ExcelWriter(os.path.join(df4_fold, f'STD_BD43_21_PRPT_OVHUL_DRVNG_{today_date_dtl}.xlsx')) as writer:\n",
    "        grp21_1.to_excel(writer, sheet_name='판정1_매연', index=False)\n",
    "        grp21_2.to_excel(writer, sheet_name='판정1_CO', index=False)\n",
    "        grp21_3.to_excel(writer, sheet_name='판정2_HC', index=False)\n",
    "        grp21_4.to_excel(writer, sheet_name='판정3_NOx', index=False)\n",
    "else:\n",
    "    pass"
   ]
  },
  {
   "cell_type": "markdown",
   "metadata": {},
   "source": [
    "### [❌] 4.3.22 STD_BD43_22_PRPT_OVHUL_MNFCTR"
   ]
  },
  {
   "cell_type": "code",
   "execution_count": 900,
   "metadata": {},
   "outputs": [],
   "source": [
    "# 제작사명 결측값이 너무 많음"
   ]
  },
  {
   "cell_type": "code",
   "execution_count": 901,
   "metadata": {},
   "outputs": [
    {
     "data": {
      "text/plain": [
       "((22468, 70), (1336, 70), (1354, 70), (2208, 70))"
      ]
     },
     "execution_count": 901,
     "metadata": {},
     "output_type": "execute_result"
    }
   ],
   "source": [
    "srt22_jt1n = srt8_jt1n.copy()\n",
    "srt22_jt2n = srt8_jt2n.copy()\n",
    "srt22_jt3n = srt8_jt3n.copy()\n",
    "srt22_jt4n = srt8_jt4n.copy()\n",
    "srt22_jt1n.shape, srt22_jt2n.shape, srt22_jt3n.shape, srt22_jt4n.shape"
   ]
  },
  {
   "cell_type": "code",
   "execution_count": 902,
   "metadata": {},
   "outputs": [
    {
     "data": {
      "text/plain": [
       "True"
      ]
     },
     "execution_count": 902,
     "metadata": {},
     "output_type": "execute_result"
    }
   ],
   "source": [
    "check_col22 = '제작사명'\n",
    "check_col22 in srt22_jt1n.columns"
   ]
  },
  {
   "cell_type": "code",
   "execution_count": 903,
   "metadata": {},
   "outputs": [
    {
     "data": {
      "text/plain": [
       "(22141, 1324, 1351, 2195)"
      ]
     },
     "execution_count": 903,
     "metadata": {},
     "output_type": "execute_result"
    }
   ],
   "source": [
    "srt22_jt1n[check_col22].isnull().sum(), srt22_jt2n[check_col22].isnull().sum(), srt22_jt3n[check_col22].isnull().sum(), srt22_jt4n[check_col22].isnull().sum()"
   ]
  },
  {
   "cell_type": "markdown",
   "metadata": {},
   "source": [
    "### [❌] 4.3.23 STD_BD43_23_PRPT_OVHUL_ENLF_CYCL"
   ]
  },
  {
   "cell_type": "code",
   "execution_count": null,
   "metadata": {},
   "outputs": [],
   "source": []
  },
  {
   "cell_type": "markdown",
   "metadata": {},
   "source": [
    "# 과제4 코드 end"
   ]
  }
 ],
 "metadata": {
  "interpreter": {
   "hash": "569b4317022eb29baeafb3d0f1f739310808ea28ce83ca127a35db1c01070585"
  },
  "kernelspec": {
   "display_name": "Python 3.9.12 ('base')",
   "language": "python",
   "name": "python3"
  },
  "language_info": {
   "codemirror_mode": {
    "name": "ipython",
    "version": 3
   },
   "file_extension": ".py",
   "mimetype": "text/x-python",
   "name": "python",
   "nbconvert_exporter": "python",
   "pygments_lexer": "ipython3",
   "version": "3.11.5"
  }
 },
 "nbformat": 4,
 "nbformat_minor": 2
}
