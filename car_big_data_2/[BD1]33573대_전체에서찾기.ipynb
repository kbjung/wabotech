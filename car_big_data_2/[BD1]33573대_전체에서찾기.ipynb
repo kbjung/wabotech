{
 "cells": [
  {
   "cell_type": "code",
   "execution_count": 1,
   "metadata": {},
   "outputs": [],
   "source": [
    "import pandas as pd\n",
    "import os\n",
    "import numpy as np"
   ]
  },
  {
   "cell_type": "code",
   "execution_count": 2,
   "metadata": {},
   "outputs": [],
   "source": [
    "ods_fold = 'D:/data/big2/ODS'"
   ]
  },
  {
   "cell_type": "code",
   "execution_count": 4,
   "metadata": {},
   "outputs": [],
   "source": [
    "# about 12m 22s\n",
    "df = pd.read_csv(os.path.join(ods_fold, '[ODS]등록정보&제원정보(말소제거)(2022.12.29).csv'), low_memory=False, encoding='cp949')"
   ]
  },
  {
   "cell_type": "code",
   "execution_count": 5,
   "metadata": {},
   "outputs": [
    {
     "data": {
      "text/plain": [
       "Index(['차량관리번호', '차량등록번호', '본거지법정동코드', '소유자구분', '차종_등록정보', '용도', '미정1_x',\n",
       "       '현재회원번호', '미정2_x', '미정3_x', '차대번호', '최초등록일자', '차량연식', '차량제작일자',\n",
       "       '배출가스검사유효일자', '제원관리번호', '배출가스인증번호', '배출가스등급', '저공해조치YN(미사용)', '저공해조치종류',\n",
       "       '저공해조치구조변경YN', '미정4', '차량등록번호숫자정보', '차량말소YN', '미정5', '최초회원번호', '취득일자',\n",
       "       '취득금액', '미정6', '생성일시_등록정보', '수정일시_등록정보', '미정7', '차명', '차종_제원정보', '차종분류',\n",
       "       '차종유형(소분류)', '자동차형식', '제작사명', '연료', '엔진형식', '공차중량', '총중량', '적재중량',\n",
       "       '엔진출력', '배기량', '승차인원', '차량길이', '차량너비', '차량높이', '원산지명', '미정1_y', '삭제YN',\n",
       "       '승인일자', '구동형식', '변속기종류', '미정2_y', '생성일시_제원정보', '수정일시_제원정보', '미정3_y'],\n",
       "      dtype='object')"
      ]
     },
     "execution_count": 5,
     "metadata": {},
     "output_type": "execute_result"
    }
   ],
   "source": [
    "df.columns"
   ]
  },
  {
   "cell_type": "code",
   "execution_count": 9,
   "metadata": {},
   "outputs": [],
   "source": [
    "df = df[['차량관리번호', '차량등록번호', '본거지법정동코드', '소유자구분', '차종_등록정보', '용도', \n",
    "       '현재회원번호', '차대번호', '최초등록일자', '차량연식', '차량제작일자',\n",
    "       '배출가스검사유효일자', '제원관리번호', '배출가스인증번호', '배출가스등급', '저공해조치YN(미사용)', '저공해조치종류',\n",
    "       '저공해조치구조변경YN', '차량등록번호숫자정보', '차량말소YN', '최초회원번호', '취득일자',\n",
    "       '취득금액', '생성일시_등록정보', '수정일시_등록정보', '차명', '차종_제원정보', '차종분류',\n",
    "       '차종유형(소분류)', '자동차형식', '제작사명', '연료', '엔진형식', '공차중량', '총중량', '적재중량',\n",
    "       '엔진출력', '배기량', '승차인원', '차량길이', '차량너비', '차량높이', '원산지명', '삭제YN',\n",
    "       '승인일자', '구동형식', '변속기종류', '생성일시_제원정보', '수정일시_제원정보',]]"
   ]
  },
  {
   "cell_type": "code",
   "execution_count": 6,
   "metadata": {},
   "outputs": [],
   "source": [
    "# 차량 3대 검색\n",
    "# 차대번호 : SALLDBFJ72A641318, SALLDVA573A665747, SALLDVB574A685946\n",
    "# 차량번호 : 57수5213, 07구6299, 54머4304\n",
    "# 제원관리번호 : 00031108000271315, 00034113000021317, 00031123000161317\n",
    "# 차명 : 랜지로버 디펜더, LANDROVER DEFENDER, LANDROVER DEFENDER\n",
    "# 엔진형식 : 15P, 15P, 15P"
   ]
  },
  {
   "cell_type": "code",
   "execution_count": 10,
   "metadata": {},
   "outputs": [
    {
     "data": {
      "text/plain": [
       "(1, 49)"
      ]
     },
     "execution_count": 10,
     "metadata": {},
     "output_type": "execute_result"
    }
   ],
   "source": [
    "df[df['자동차형식'] == 'LDBFJ'].shape"
   ]
  },
  {
   "cell_type": "code",
   "execution_count": 11,
   "metadata": {},
   "outputs": [
    {
     "data": {
      "text/plain": [
       "(1, 49)"
      ]
     },
     "execution_count": 11,
     "metadata": {},
     "output_type": "execute_result"
    }
   ],
   "source": [
    "df[df['자동차형식'] == 'LDVA5'].shape"
   ]
  },
  {
   "cell_type": "code",
   "execution_count": 12,
   "metadata": {},
   "outputs": [
    {
     "data": {
      "text/plain": [
       "(3, 49)"
      ]
     },
     "execution_count": 12,
     "metadata": {},
     "output_type": "execute_result"
    }
   ],
   "source": [
    "df[df['자동차형식'] == 'LDVB5'].shape"
   ]
  },
  {
   "cell_type": "code",
   "execution_count": 13,
   "metadata": {},
   "outputs": [
    {
     "data": {
      "text/plain": [
       "3"
      ]
     },
     "execution_count": 13,
     "metadata": {},
     "output_type": "execute_result"
    }
   ],
   "source": [
    "forms = ['LDBFJ', 'LDVA5', 'LDVB5']\n",
    "len(forms)"
   ]
  },
  {
   "cell_type": "code",
   "execution_count": 14,
   "metadata": {},
   "outputs": [
    {
     "data": {
      "text/plain": [
       "(5, 49)"
      ]
     },
     "execution_count": 14,
     "metadata": {},
     "output_type": "execute_result"
    }
   ],
   "source": [
    "total = pd.DataFrame()\n",
    "for one in forms:\n",
    "    temp = df[df['자동차형식'] == one].reset_index(drop=True)\n",
    "    total = pd.concat([total, temp], ignore_index=False)\n",
    "total.shape"
   ]
  },
  {
   "cell_type": "code",
   "execution_count": 15,
   "metadata": {},
   "outputs": [],
   "source": [
    "# about 2s\n",
    "total.to_excel('analysis2/4등급_데이터_점검/[샘플]전체등급_자동차형식_검색.xlsx', index=False)"
   ]
  },
  {
   "cell_type": "code",
   "execution_count": null,
   "metadata": {},
   "outputs": [],
   "source": []
  }
 ],
 "metadata": {
  "kernelspec": {
   "display_name": "base",
   "language": "python",
   "name": "python3"
  },
  "language_info": {
   "codemirror_mode": {
    "name": "ipython",
    "version": 3
   },
   "file_extension": ".py",
   "mimetype": "text/x-python",
   "name": "python",
   "nbconvert_exporter": "python",
   "pygments_lexer": "ipython3",
   "version": "3.9.13 (main, Aug 25 2022, 23:51:50) [MSC v.1916 64 bit (AMD64)]"
  },
  "orig_nbformat": 4,
  "vscode": {
   "interpreter": {
    "hash": "ad2bdc8ecc057115af97d19610ffacc2b4e99fae6737bb82f5d7fb13d2f2c186"
   }
  }
 },
 "nbformat": 4,
 "nbformat_minor": 2
}
