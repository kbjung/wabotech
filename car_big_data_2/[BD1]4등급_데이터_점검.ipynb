{
 "cells": [
  {
   "attachments": {},
   "cell_type": "markdown",
   "metadata": {},
   "source": [
    "# Library"
   ]
  },
  {
   "cell_type": "code",
   "execution_count": 1,
   "metadata": {},
   "outputs": [],
   "source": [
    "import pandas as pd\n",
    "import os\n",
    "import numpy as np\n",
    "from tqdm import tqdm"
   ]
  },
  {
   "attachments": {},
   "cell_type": "markdown",
   "metadata": {},
   "source": [
    "# [로드]"
   ]
  },
  {
   "cell_type": "code",
   "execution_count": 2,
   "metadata": {},
   "outputs": [],
   "source": [
    "fold = 'D:/data/big2/BD1_4등급_데이터_점검1'\n",
    "ods_fold = 'D:/data/big2/ODS'"
   ]
  },
  {
   "cell_type": "code",
   "execution_count": 3,
   "metadata": {},
   "outputs": [],
   "source": [
    "file_name = '검증요청_33573.xlsx'\n",
    "path = os.path.join(fold, file_name)"
   ]
  },
  {
   "cell_type": "code",
   "execution_count": 4,
   "metadata": {},
   "outputs": [
    {
     "name": "stdout",
     "output_type": "stream",
     "text": [
      "<class 'pandas.core.frame.DataFrame'>\n",
      "Int64Index: 33573 entries, 82 to 702221\n",
      "Data columns (total 28 columns):\n",
      " #   Column  Non-Null Count  Dtype  \n",
      "---  ------  --------------  -----  \n",
      " 0   차대번호    33573 non-null  object \n",
      " 1   차량번호    33573 non-null  object \n",
      " 2   제원관리번호  33573 non-null  object \n",
      " 3   차종      33573 non-null  object \n",
      " 4   용도      33573 non-null  object \n",
      " 5   최초등록일   33573 non-null  int64  \n",
      " 6   연식      33573 non-null  int64  \n",
      " 7   제작일자    33571 non-null  float64\n",
      " 8   검사유효일   33572 non-null  float64\n",
      " 9   인증번호    32978 non-null  object \n",
      " 10  등급      33573 non-null  int64  \n",
      " 11  차명      33573 non-null  object \n",
      " 12  차종분류    33573 non-null  object \n",
      " 13  차종유형    33573 non-null  object \n",
      " 14  자동차형식   33573 non-null  object \n",
      " 15  제작사명    33571 non-null  object \n",
      " 16  연료      33573 non-null  object \n",
      " 17  엔진형식    33573 non-null  object \n",
      " 18  총중량     33573 non-null  int64  \n",
      " 19  적재중량    33376 non-null  float64\n",
      " 20  엔진출력    33573 non-null  int64  \n",
      " 21  배기량     33573 non-null  int64  \n",
      " 22  법정동코드   33573 non-null  int64  \n",
      " 23  시도명     33573 non-null  object \n",
      " 24  시군구명    33573 non-null  object \n",
      " 25  소유자구분   33573 non-null  object \n",
      " 26  말소여부    33573 non-null  object \n",
      " 27  일치유무    33573 non-null  object \n",
      "dtypes: float64(3), int64(7), object(18)\n",
      "memory usage: 7.4+ MB\n"
     ]
    }
   ],
   "source": [
    "# about \n",
    "df = pd.read_excel(path, index_col=0, skiprows=[0])\n",
    "df.info()"
   ]
  },
  {
   "cell_type": "code",
   "execution_count": 5,
   "metadata": {},
   "outputs": [
    {
     "data": {
      "text/plain": [
       "Index(['차대번호', '차량번호', '제원관리번호', '차종', '용도', '최초등록일', '연식', '제작일자', '검사유효일',\n",
       "       '인증번호', '등급', '차명', '차종분류', '차종유형', '자동차형식', '제작사명', '연료', '엔진형식',\n",
       "       '총중량', '적재중량', '엔진출력', '배기량', '법정동코드', '시도명', '시군구명', '소유자구분', '말소여부',\n",
       "       '일치유무'],\n",
       "      dtype='object')"
      ]
     },
     "execution_count": 5,
     "metadata": {},
     "output_type": "execute_result"
    }
   ],
   "source": [
    "df.columns"
   ]
  },
  {
   "cell_type": "code",
   "execution_count": 6,
   "metadata": {},
   "outputs": [
    {
     "data": {
      "text/plain": [
       "33573"
      ]
     },
     "execution_count": 6,
     "metadata": {},
     "output_type": "execute_result"
    }
   ],
   "source": [
    "len(df['차대번호'].unique())"
   ]
  },
  {
   "cell_type": "code",
   "execution_count": 7,
   "metadata": {},
   "outputs": [
    {
     "name": "stdout",
     "output_type": "stream",
     "text": [
      "<class 'pandas.core.frame.DataFrame'>\n",
      "RangeIndex: 33573 entries, 0 to 33572\n",
      "Data columns (total 28 columns):\n",
      " #   Column  Non-Null Count  Dtype  \n",
      "---  ------  --------------  -----  \n",
      " 0   차대번호    33573 non-null  object \n",
      " 1   차량번호    33573 non-null  object \n",
      " 2   제원관리번호  33573 non-null  object \n",
      " 3   차종      33573 non-null  object \n",
      " 4   용도      33573 non-null  object \n",
      " 5   최초등록일   33573 non-null  int64  \n",
      " 6   연식      33573 non-null  int64  \n",
      " 7   제작일자    33571 non-null  float64\n",
      " 8   검사유효일   33572 non-null  float64\n",
      " 9   인증번호    32978 non-null  object \n",
      " 10  등급      33573 non-null  int64  \n",
      " 11  차명      33573 non-null  object \n",
      " 12  차종분류    33573 non-null  object \n",
      " 13  차종유형    33573 non-null  object \n",
      " 14  자동차형식   33573 non-null  object \n",
      " 15  제작사명    33571 non-null  object \n",
      " 16  연료      33573 non-null  object \n",
      " 17  엔진형식    33573 non-null  object \n",
      " 18  총중량     33573 non-null  int64  \n",
      " 19  적재중량    33376 non-null  float64\n",
      " 20  엔진출력    33573 non-null  int64  \n",
      " 21  배기량     33573 non-null  int64  \n",
      " 22  법정동코드   33573 non-null  int64  \n",
      " 23  시도명     33573 non-null  object \n",
      " 24  시군구명    33573 non-null  object \n",
      " 25  소유자구분   33573 non-null  object \n",
      " 26  말소여부    33573 non-null  object \n",
      " 27  일치유무    33573 non-null  object \n",
      "dtypes: float64(3), int64(7), object(18)\n",
      "memory usage: 7.2+ MB\n"
     ]
    }
   ],
   "source": [
    "df = df.reset_index(drop=True)\n",
    "df.info()"
   ]
  },
  {
   "attachments": {},
   "cell_type": "markdown",
   "metadata": {},
   "source": [
    "## [출력] 첫줄 제거, 인덱스 초기화"
   ]
  },
  {
   "cell_type": "code",
   "execution_count": 7,
   "metadata": {},
   "outputs": [],
   "source": [
    "df.to_csv(os.path.join(fold, '검증요청_33573(수정).csv'), index=False, encoding='cp949')"
   ]
  },
  {
   "attachments": {},
   "cell_type": "markdown",
   "metadata": {},
   "source": [
    "## [로드] 검증요청 파일"
   ]
  },
  {
   "cell_type": "code",
   "execution_count": 3,
   "metadata": {},
   "outputs": [],
   "source": [
    "df = pd.read_csv(os.path.join(fold, '검증요청_33573(수정).csv'), encoding='cp949')"
   ]
  },
  {
   "cell_type": "code",
   "execution_count": 4,
   "metadata": {},
   "outputs": [
    {
     "name": "stdout",
     "output_type": "stream",
     "text": [
      "<class 'pandas.core.frame.DataFrame'>\n",
      "RangeIndex: 33573 entries, 0 to 33572\n",
      "Data columns (total 28 columns):\n",
      " #   Column  Non-Null Count  Dtype  \n",
      "---  ------  --------------  -----  \n",
      " 0   차대번호    33573 non-null  object \n",
      " 1   차량번호    33573 non-null  object \n",
      " 2   제원관리번호  33573 non-null  object \n",
      " 3   차종      33573 non-null  object \n",
      " 4   용도      33573 non-null  object \n",
      " 5   최초등록일   33573 non-null  int64  \n",
      " 6   연식      33573 non-null  int64  \n",
      " 7   제작일자    33571 non-null  float64\n",
      " 8   검사유효일   33572 non-null  float64\n",
      " 9   인증번호    32978 non-null  object \n",
      " 10  등급      33573 non-null  int64  \n",
      " 11  차명      33573 non-null  object \n",
      " 12  차종분류    33573 non-null  object \n",
      " 13  차종유형    33573 non-null  object \n",
      " 14  자동차형식   33573 non-null  object \n",
      " 15  제작사명    33571 non-null  object \n",
      " 16  연료      33573 non-null  object \n",
      " 17  엔진형식    33573 non-null  object \n",
      " 18  총중량     33573 non-null  int64  \n",
      " 19  적재중량    33376 non-null  float64\n",
      " 20  엔진출력    33573 non-null  int64  \n",
      " 21  배기량     33573 non-null  int64  \n",
      " 22  법정동코드   33573 non-null  int64  \n",
      " 23  시도명     33573 non-null  object \n",
      " 24  시군구명    33573 non-null  object \n",
      " 25  소유자구분   33573 non-null  object \n",
      " 26  말소여부    33573 non-null  object \n",
      " 27  일치유무    33573 non-null  object \n",
      "dtypes: float64(3), int64(7), object(18)\n",
      "memory usage: 7.2+ MB\n"
     ]
    }
   ],
   "source": [
    "df.info()"
   ]
  },
  {
   "cell_type": "code",
   "execution_count": 5,
   "metadata": {},
   "outputs": [
    {
     "data": {
      "text/html": [
       "<div>\n",
       "<style scoped>\n",
       "    .dataframe tbody tr th:only-of-type {\n",
       "        vertical-align: middle;\n",
       "    }\n",
       "\n",
       "    .dataframe tbody tr th {\n",
       "        vertical-align: top;\n",
       "    }\n",
       "\n",
       "    .dataframe thead th {\n",
       "        text-align: right;\n",
       "    }\n",
       "</style>\n",
       "<table border=\"1\" class=\"dataframe\">\n",
       "  <thead>\n",
       "    <tr style=\"text-align: right;\">\n",
       "      <th></th>\n",
       "      <th>차대번호</th>\n",
       "      <th>차량번호</th>\n",
       "      <th>제원관리번호</th>\n",
       "      <th>차종</th>\n",
       "      <th>용도</th>\n",
       "      <th>최초등록일</th>\n",
       "      <th>연식</th>\n",
       "      <th>제작일자</th>\n",
       "      <th>검사유효일</th>\n",
       "      <th>인증번호</th>\n",
       "      <th>...</th>\n",
       "      <th>총중량</th>\n",
       "      <th>적재중량</th>\n",
       "      <th>엔진출력</th>\n",
       "      <th>배기량</th>\n",
       "      <th>법정동코드</th>\n",
       "      <th>시도명</th>\n",
       "      <th>시군구명</th>\n",
       "      <th>소유자구분</th>\n",
       "      <th>말소여부</th>\n",
       "      <th>일치유무</th>\n",
       "    </tr>\n",
       "  </thead>\n",
       "  <tbody>\n",
       "    <tr>\n",
       "      <th>0</th>\n",
       "      <td>KNAJE55538K488660</td>\n",
       "      <td>31어4928</td>\n",
       "      <td>A0110003400501207</td>\n",
       "      <td>승용</td>\n",
       "      <td>자가용</td>\n",
       "      <td>20080118</td>\n",
       "      <td>2008</td>\n",
       "      <td>20071009.0</td>\n",
       "      <td>20160305.0</td>\n",
       "      <td>6MY-KM-14-61</td>\n",
       "      <td>...</td>\n",
       "      <td>1960</td>\n",
       "      <td>0.0</td>\n",
       "      <td>151</td>\n",
       "      <td>1991</td>\n",
       "      <td>1154510200</td>\n",
       "      <td>서울특별시</td>\n",
       "      <td>금천구</td>\n",
       "      <td>주민</td>\n",
       "      <td>N</td>\n",
       "      <td>N</td>\n",
       "    </tr>\n",
       "    <tr>\n",
       "      <th>1</th>\n",
       "      <td>KMHSJ81VP8U264640</td>\n",
       "      <td>45수2247</td>\n",
       "      <td>A0810006800831207</td>\n",
       "      <td>승용</td>\n",
       "      <td>자가용</td>\n",
       "      <td>20070907</td>\n",
       "      <td>2008</td>\n",
       "      <td>20070821.0</td>\n",
       "      <td>20110906.0</td>\n",
       "      <td>6MY-HD-24-100</td>\n",
       "      <td>...</td>\n",
       "      <td>2345</td>\n",
       "      <td>0.0</td>\n",
       "      <td>151</td>\n",
       "      <td>1991</td>\n",
       "      <td>4825010200</td>\n",
       "      <td>경상남도</td>\n",
       "      <td>김해시</td>\n",
       "      <td>법인</td>\n",
       "      <td>N</td>\n",
       "      <td>N</td>\n",
       "    </tr>\n",
       "    <tr>\n",
       "      <th>2</th>\n",
       "      <td>KMHSJ81VP9U437824</td>\n",
       "      <td>57우7716</td>\n",
       "      <td>A0810006801411208</td>\n",
       "      <td>승용</td>\n",
       "      <td>자가용</td>\n",
       "      <td>20081007</td>\n",
       "      <td>2009</td>\n",
       "      <td>20080919.0</td>\n",
       "      <td>20201006.0</td>\n",
       "      <td>7MY-HD-14-57</td>\n",
       "      <td>...</td>\n",
       "      <td>2345</td>\n",
       "      <td>0.0</td>\n",
       "      <td>151</td>\n",
       "      <td>1991</td>\n",
       "      <td>4812112700</td>\n",
       "      <td>경상남도</td>\n",
       "      <td>창원시 의창구</td>\n",
       "      <td>주민</td>\n",
       "      <td>N</td>\n",
       "      <td>N</td>\n",
       "    </tr>\n",
       "    <tr>\n",
       "      <th>3</th>\n",
       "      <td>KMHJN81VP7U714285</td>\n",
       "      <td>24도2516</td>\n",
       "      <td>A0810006301201206</td>\n",
       "      <td>승용</td>\n",
       "      <td>자가용</td>\n",
       "      <td>20070713</td>\n",
       "      <td>2007</td>\n",
       "      <td>20070521.0</td>\n",
       "      <td>20190712.0</td>\n",
       "      <td>5MY-HD-24-59</td>\n",
       "      <td>...</td>\n",
       "      <td>1965</td>\n",
       "      <td>0.0</td>\n",
       "      <td>146</td>\n",
       "      <td>1991</td>\n",
       "      <td>4480025026</td>\n",
       "      <td>충청남도</td>\n",
       "      <td>홍성군</td>\n",
       "      <td>주민</td>\n",
       "      <td>N</td>\n",
       "      <td>N</td>\n",
       "    </tr>\n",
       "    <tr>\n",
       "      <th>4</th>\n",
       "      <td>KMJWA37JBBU348189</td>\n",
       "      <td>71소8695</td>\n",
       "      <td>A0810007402962210</td>\n",
       "      <td>승합</td>\n",
       "      <td>자가용</td>\n",
       "      <td>20110318</td>\n",
       "      <td>2011</td>\n",
       "      <td>20110303.0</td>\n",
       "      <td>20200317.0</td>\n",
       "      <td>7MY-HD-14-46</td>\n",
       "      <td>...</td>\n",
       "      <td>2990</td>\n",
       "      <td>0.0</td>\n",
       "      <td>174</td>\n",
       "      <td>2497</td>\n",
       "      <td>4374040022</td>\n",
       "      <td>충청북도</td>\n",
       "      <td>영동군</td>\n",
       "      <td>주민</td>\n",
       "      <td>N</td>\n",
       "      <td>N</td>\n",
       "    </tr>\n",
       "  </tbody>\n",
       "</table>\n",
       "<p>5 rows × 28 columns</p>\n",
       "</div>"
      ],
      "text/plain": [
       "                차대번호     차량번호             제원관리번호  차종   용도     최초등록일    연식  \\\n",
       "0  KNAJE55538K488660  31어4928  A0110003400501207  승용  자가용  20080118  2008   \n",
       "1  KMHSJ81VP8U264640  45수2247  A0810006800831207  승용  자가용  20070907  2008   \n",
       "2  KMHSJ81VP9U437824  57우7716  A0810006801411208  승용  자가용  20081007  2009   \n",
       "3  KMHJN81VP7U714285  24도2516  A0810006301201206  승용  자가용  20070713  2007   \n",
       "4  KMJWA37JBBU348189  71소8695  A0810007402962210  승합  자가용  20110318  2011   \n",
       "\n",
       "         제작일자       검사유효일           인증번호  ...   총중량 적재중량 엔진출력   배기량  \\\n",
       "0  20071009.0  20160305.0   6MY-KM-14-61  ...  1960  0.0  151  1991   \n",
       "1  20070821.0  20110906.0  6MY-HD-24-100  ...  2345  0.0  151  1991   \n",
       "2  20080919.0  20201006.0   7MY-HD-14-57  ...  2345  0.0  151  1991   \n",
       "3  20070521.0  20190712.0   5MY-HD-24-59  ...  1965  0.0  146  1991   \n",
       "4  20110303.0  20200317.0   7MY-HD-14-46  ...  2990  0.0  174  2497   \n",
       "\n",
       "        법정동코드    시도명     시군구명 소유자구분  말소여부  일치유무  \n",
       "0  1154510200  서울특별시      금천구    주민     N     N  \n",
       "1  4825010200   경상남도      김해시    법인     N     N  \n",
       "2  4812112700   경상남도  창원시 의창구    주민     N     N  \n",
       "3  4480025026   충청남도      홍성군    주민     N     N  \n",
       "4  4374040022   충청북도      영동군    주민     N     N  \n",
       "\n",
       "[5 rows x 28 columns]"
      ]
     },
     "execution_count": 5,
     "metadata": {},
     "output_type": "execute_result"
    }
   ],
   "source": [
    "df.head()"
   ]
  },
  {
   "attachments": {},
   "cell_type": "markdown",
   "metadata": {},
   "source": [
    "### [로드] 4등급 차량 리스트 양식"
   ]
  },
  {
   "cell_type": "code",
   "execution_count": 13,
   "metadata": {},
   "outputs": [],
   "source": [
    "re1 = pd.read_csv(os.path.join(fold, '4등급_차량_리스트_양식_1_result.csv'), low_memory=False, encoding='cp949')\n",
    "re2 = pd.read_csv(os.path.join(fold, '4등급_차량_리스트_양식_2_result.csv'), low_memory=False, encoding='cp949')"
   ]
  },
  {
   "cell_type": "code",
   "execution_count": 14,
   "metadata": {},
   "outputs": [
    {
     "data": {
      "text/plain": [
       "(1502235, 28)"
      ]
     },
     "execution_count": 14,
     "metadata": {},
     "output_type": "execute_result"
    }
   ],
   "source": [
    "re = pd.concat([re1, re2], ignore_index=True)\n",
    "re.shape"
   ]
  },
  {
   "attachments": {},
   "cell_type": "markdown",
   "metadata": {},
   "source": [
    "#### [출력] 통합 4등급 차량 리스트 양식"
   ]
  },
  {
   "cell_type": "code",
   "execution_count": 9,
   "metadata": {},
   "outputs": [],
   "source": [
    "# about \n",
    "re.to_csv(os.path.join(fold, '4등급_차량_리스트_양식_result.csv'), index=False ,encoding='cp949')"
   ]
  },
  {
   "cell_type": "code",
   "execution_count": 62,
   "metadata": {},
   "outputs": [
    {
     "data": {
      "text/plain": [
       "array(['휘발유', '경유', 'LPG(액화석유가스)', '기타연료', '알코올', 'CNG(압축천연가스)'],\n",
       "      dtype=object)"
      ]
     },
     "execution_count": 62,
     "metadata": {},
     "output_type": "execute_result"
    }
   ],
   "source": [
    "re['연료'].unique()"
   ]
  },
  {
   "attachments": {},
   "cell_type": "markdown",
   "metadata": {},
   "source": [
    "## [로드] 4등급 차량 리스트"
   ]
  },
  {
   "cell_type": "code",
   "execution_count": 5,
   "metadata": {},
   "outputs": [],
   "source": [
    "# about 11s\n",
    "re = pd.read_csv(os.path.join(fold, '4등급_차량_리스트_양식_result.csv'), encoding='cp949', low_memory=False)"
   ]
  },
  {
   "attachments": {},
   "cell_type": "markdown",
   "metadata": {},
   "source": [
    "# 차량 현황 파악"
   ]
  },
  {
   "cell_type": "code",
   "execution_count": 6,
   "metadata": {},
   "outputs": [
    {
     "data": {
      "text/plain": [
       "Index(['차대번호', '차량번호', '제원관리번호', '차종', '용도', '최초등록일', '연식', '제작일자', '검사유효일',\n",
       "       '인증번호', '등급', '차명', '차종분류', '차종유형', '자동차형식', '제작사명', '연료', '엔진형식',\n",
       "       '총중량', '적재중량', '엔진출력', '배기량', '법정동코드', '시도명', '시군구명', '소유자구분', '말소여부',\n",
       "       '일치유무'],\n",
       "      dtype='object')"
      ]
     },
     "execution_count": 6,
     "metadata": {},
     "output_type": "execute_result"
    }
   ],
   "source": [
    "re.columns"
   ]
  },
  {
   "cell_type": "code",
   "execution_count": 7,
   "metadata": {},
   "outputs": [
    {
     "data": {
      "text/plain": [
       "'KMHCG41BP1U238906'"
      ]
     },
     "execution_count": 7,
     "metadata": {},
     "output_type": "execute_result"
    }
   ],
   "source": [
    "re.loc[0, '차대번호']"
   ]
  },
  {
   "cell_type": "code",
   "execution_count": 8,
   "metadata": {},
   "outputs": [
    {
     "data": {
      "text/plain": [
       "'1'"
      ]
     },
     "execution_count": 8,
     "metadata": {},
     "output_type": "execute_result"
    }
   ],
   "source": [
    "re.loc[0, '차대번호'][9]"
   ]
  },
  {
   "cell_type": "code",
   "execution_count": 9,
   "metadata": {},
   "outputs": [
    {
     "data": {
      "text/html": [
       "<div>\n",
       "<style scoped>\n",
       "    .dataframe tbody tr th:only-of-type {\n",
       "        vertical-align: middle;\n",
       "    }\n",
       "\n",
       "    .dataframe tbody tr th {\n",
       "        vertical-align: top;\n",
       "    }\n",
       "\n",
       "    .dataframe thead th {\n",
       "        text-align: right;\n",
       "    }\n",
       "</style>\n",
       "<table border=\"1\" class=\"dataframe\">\n",
       "  <thead>\n",
       "    <tr style=\"text-align: right;\">\n",
       "      <th></th>\n",
       "      <th>차대번호</th>\n",
       "      <th>vin10</th>\n",
       "    </tr>\n",
       "  </thead>\n",
       "  <tbody>\n",
       "    <tr>\n",
       "      <th>0</th>\n",
       "      <td>KMHCG41BP1U238906</td>\n",
       "      <td>1</td>\n",
       "    </tr>\n",
       "    <tr>\n",
       "      <th>1</th>\n",
       "      <td>KNAMM816BBS461795</td>\n",
       "      <td>B</td>\n",
       "    </tr>\n",
       "    <tr>\n",
       "      <th>2</th>\n",
       "      <td>KPACE4AB19P052332</td>\n",
       "      <td>9</td>\n",
       "    </tr>\n",
       "    <tr>\n",
       "      <th>3</th>\n",
       "      <td>KPBNE2A91XP006247</td>\n",
       "      <td>X</td>\n",
       "    </tr>\n",
       "    <tr>\n",
       "      <th>4</th>\n",
       "      <td>KNAKU815BAA068990</td>\n",
       "      <td>A</td>\n",
       "    </tr>\n",
       "  </tbody>\n",
       "</table>\n",
       "</div>"
      ],
      "text/plain": [
       "                차대번호 vin10\n",
       "0  KMHCG41BP1U238906     1\n",
       "1  KNAMM816BBS461795     B\n",
       "2  KPACE4AB19P052332     9\n",
       "3  KPBNE2A91XP006247     X\n",
       "4  KNAKU815BAA068990     A"
      ]
     },
     "execution_count": 9,
     "metadata": {},
     "output_type": "execute_result"
    }
   ],
   "source": [
    "re['vin10']  = re['차대번호'].str[9]\n",
    "re[['차대번호', 'vin10']].head()"
   ]
  },
  {
   "cell_type": "code",
   "execution_count": 10,
   "metadata": {},
   "outputs": [
    {
     "data": {
      "text/plain": [
       "0"
      ]
     },
     "execution_count": 10,
     "metadata": {},
     "output_type": "execute_result"
    }
   ],
   "source": [
    "re['vin10'].isnull().sum()"
   ]
  },
  {
   "cell_type": "code",
   "execution_count": 11,
   "metadata": {},
   "outputs": [
    {
     "data": {
      "text/plain": [
       "dtype('O')"
      ]
     },
     "execution_count": 11,
     "metadata": {},
     "output_type": "execute_result"
    }
   ],
   "source": [
    "re['vin10'].dtype"
   ]
  },
  {
   "cell_type": "code",
   "execution_count": 12,
   "metadata": {},
   "outputs": [],
   "source": [
    "vin10_dict = {'M':1991, 'N':1992, 'P':1993, 'R':1994, 'S':1995, 'T':1996, 'V':1997, 'W':1998, 'X':1999, 'Y':2000, '1':2001, '2':2002, '3':2003, '4':2004, '5':2005, '6':2006, '7':2007, '8':2008, '9':2009, 'A':2010, 'B':2011, 'C':2012, 'D':2013, 'E':2014, 'F':2015, 'G':2016, 'H':2017, 'J':2018, 'K':2019, 'L':2020}"
   ]
  },
  {
   "cell_type": "code",
   "execution_count": 13,
   "metadata": {},
   "outputs": [
    {
     "data": {
      "text/html": [
       "<div>\n",
       "<style scoped>\n",
       "    .dataframe tbody tr th:only-of-type {\n",
       "        vertical-align: middle;\n",
       "    }\n",
       "\n",
       "    .dataframe tbody tr th {\n",
       "        vertical-align: top;\n",
       "    }\n",
       "\n",
       "    .dataframe thead th {\n",
       "        text-align: right;\n",
       "    }\n",
       "</style>\n",
       "<table border=\"1\" class=\"dataframe\">\n",
       "  <thead>\n",
       "    <tr style=\"text-align: right;\">\n",
       "      <th></th>\n",
       "      <th>차대번호</th>\n",
       "      <th>vin10</th>\n",
       "      <th>vin_year</th>\n",
       "    </tr>\n",
       "  </thead>\n",
       "  <tbody>\n",
       "    <tr>\n",
       "      <th>0</th>\n",
       "      <td>KMHCG41BP1U238906</td>\n",
       "      <td>1</td>\n",
       "      <td>2001.0</td>\n",
       "    </tr>\n",
       "    <tr>\n",
       "      <th>1</th>\n",
       "      <td>KNAMM816BBS461795</td>\n",
       "      <td>B</td>\n",
       "      <td>2011.0</td>\n",
       "    </tr>\n",
       "    <tr>\n",
       "      <th>2</th>\n",
       "      <td>KPACE4AB19P052332</td>\n",
       "      <td>9</td>\n",
       "      <td>2009.0</td>\n",
       "    </tr>\n",
       "    <tr>\n",
       "      <th>3</th>\n",
       "      <td>KPBNE2A91XP006247</td>\n",
       "      <td>X</td>\n",
       "      <td>1999.0</td>\n",
       "    </tr>\n",
       "    <tr>\n",
       "      <th>4</th>\n",
       "      <td>KNAKU815BAA068990</td>\n",
       "      <td>A</td>\n",
       "      <td>2010.0</td>\n",
       "    </tr>\n",
       "  </tbody>\n",
       "</table>\n",
       "</div>"
      ],
      "text/plain": [
       "                차대번호 vin10  vin_year\n",
       "0  KMHCG41BP1U238906     1    2001.0\n",
       "1  KNAMM816BBS461795     B    2011.0\n",
       "2  KPACE4AB19P052332     9    2009.0\n",
       "3  KPBNE2A91XP006247     X    1999.0\n",
       "4  KNAKU815BAA068990     A    2010.0"
      ]
     },
     "execution_count": 13,
     "metadata": {},
     "output_type": "execute_result"
    }
   ],
   "source": [
    "re['vin_year'] = re['vin10'].map(vin10_dict)\n",
    "re[['차대번호', 'vin10', 'vin_year']].head()"
   ]
  },
  {
   "cell_type": "code",
   "execution_count": 14,
   "metadata": {},
   "outputs": [
    {
     "data": {
      "text/plain": [
       "경유             1153813\n",
       "휘발유             322983\n",
       "LPG(액화석유가스)      25400\n",
       "기타연료                37\n",
       "알코올                  1\n",
       "CNG(압축천연가스)          1\n",
       "Name: 연료, dtype: int64"
      ]
     },
     "execution_count": 14,
     "metadata": {},
     "output_type": "execute_result"
    }
   ],
   "source": [
    "re['연료'].value_counts(dropna=False)"
   ]
  },
  {
   "attachments": {},
   "cell_type": "markdown",
   "metadata": {},
   "source": [
    "## 경유차만 추출"
   ]
  },
  {
   "cell_type": "code",
   "execution_count": 15,
   "metadata": {},
   "outputs": [
    {
     "data": {
      "text/plain": [
       "(1153813, 30)"
      ]
     },
     "execution_count": 15,
     "metadata": {},
     "output_type": "execute_result"
    }
   ],
   "source": [
    "re1 = re[re['연료'] == '경유'].reset_index(drop=True)\n",
    "re1.shape"
   ]
  },
  {
   "attachments": {},
   "cell_type": "markdown",
   "metadata": {},
   "source": [
    "## [로드] 등록정보&제원정보"
   ]
  },
  {
   "cell_type": "code",
   "execution_count": 24,
   "metadata": {},
   "outputs": [
    {
     "data": {
      "text/plain": [
       "Index(['차량관리번호', '차량등록번호', '본거지법정동코드', '소유자구분', '차종_등록정보', '용도', '현재회원번호',\n",
       "       '차대번호', '최초등록일자', '차량연식', '차량제작일자', '배출가스검사유효일자', '제원관리번호', '배출가스인증번호',\n",
       "       '배출가스등급', '저공해조치YN(미사용)', '저공해조치종류', '저공해조치구조변경YN', '차량등록번호숫자정보',\n",
       "       '차량말소YN', '최초회원번호', '취득일자', '취득금액', '생성일시_등록정보', '수정일시_등록정보', '차명',\n",
       "       '차종_제원정보', '차종분류', '차종유형(소분류)', '자동차형식', '제작사명', '연료', '엔진형식', '공차중량',\n",
       "       '총중량', '적재중량', '엔진출력', '배기량', '승차인원', '차량길이', '차량너비', '차량높이', '원산지명',\n",
       "       '삭제YN', '승인일자', '구동형식', '변속기종류', '생성일시_제원정보', '수정일시_제원정보'],\n",
       "      dtype='object')"
      ]
     },
     "execution_count": 24,
     "metadata": {},
     "output_type": "execute_result"
    }
   ],
   "source": [
    "# about 7m 12s\n",
    "cs = pd.read_csv(os.path.join(ods_fold, '[ODS]등록정보&제원정보(말소제거)(2022.12.29).csv'), low_memory=False, encoding='cp949')\n",
    "cs.columns"
   ]
  },
  {
   "cell_type": "code",
   "execution_count": 25,
   "metadata": {},
   "outputs": [
    {
     "data": {
      "text/plain": [
       "(25693532, 25692512)"
      ]
     },
     "execution_count": 25,
     "metadata": {},
     "output_type": "execute_result"
    }
   ],
   "source": [
    "# about 15s\n",
    "cs.shape[0], len(cs['차대번호'].unique())"
   ]
  },
  {
   "cell_type": "code",
   "execution_count": 26,
   "metadata": {},
   "outputs": [
    {
     "data": {
      "text/plain": [
       "(1900, 2023)"
      ]
     },
     "execution_count": 26,
     "metadata": {},
     "output_type": "execute_result"
    }
   ],
   "source": [
    "cs['차량연식'].min(), cs['차량연식'].max()"
   ]
  },
  {
   "cell_type": "code",
   "execution_count": 27,
   "metadata": {},
   "outputs": [
    {
     "data": {
      "text/plain": [
       "array(['5', 'X', 'T5', '4', '3', 'T4', 'T3', '2', '1', 'T2'], dtype=object)"
      ]
     },
     "execution_count": 27,
     "metadata": {},
     "output_type": "execute_result"
    }
   ],
   "source": [
    "cs['배출가스등급'].unique()"
   ]
  },
  {
   "cell_type": "code",
   "execution_count": 28,
   "metadata": {},
   "outputs": [
    {
     "data": {
      "text/plain": [
       "2     10960244\n",
       "3      8623130\n",
       "1      2771395\n",
       "4      1511214\n",
       "5      1154733\n",
       "X       288966\n",
       "T2      247483\n",
       "T3      136301\n",
       "T4          37\n",
       "T5          29\n",
       "Name: 배출가스등급, dtype: int64"
      ]
     },
     "execution_count": 28,
     "metadata": {},
     "output_type": "execute_result"
    }
   ],
   "source": [
    "cs['배출가스등급'].value_counts(dropna=True)"
   ]
  },
  {
   "attachments": {},
   "cell_type": "markdown",
   "metadata": {},
   "source": [
    "### 3, 5등급 등록&제원 정보 추출"
   ]
  },
  {
   "cell_type": "code",
   "execution_count": 56,
   "metadata": {},
   "outputs": [
    {
     "data": {
      "text/plain": [
       "((8759431, 49), (1154762, 49))"
      ]
     },
     "execution_count": 56,
     "metadata": {},
     "output_type": "execute_result"
    }
   ],
   "source": [
    "csg3 = cs[(cs['배출가스등급'] == 'T3') | (cs['배출가스등급'] == '3')].reset_index(drop=True)\n",
    "csg5 = cs[(cs['배출가스등급'] == 'T5') | (cs['배출가스등급'] == '5')].reset_index(drop=True)\n",
    "csg3.shape, csg5.shape"
   ]
  },
  {
   "cell_type": "code",
   "execution_count": 57,
   "metadata": {},
   "outputs": [
    {
     "data": {
      "text/plain": [
       "((8759393, 49), (1154724, 49))"
      ]
     },
     "execution_count": 57,
     "metadata": {},
     "output_type": "execute_result"
    }
   ],
   "source": [
    "# 중복 차대 제거\n",
    "csg3 = csg3.sort_values(['최초등록일자', '배출가스검사유효일자'], ascending=[False, False]).drop_duplicates(subset='차대번호').reset_index(drop=True)\n",
    "csg5 = csg5.sort_values(['최초등록일자', '배출가스검사유효일자'], ascending=[False, False]).drop_duplicates(subset='차대번호').reset_index(drop=True)\n",
    "csg3.shape, csg5.shape"
   ]
  },
  {
   "attachments": {},
   "cell_type": "markdown",
   "metadata": {},
   "source": [
    "### 4등급 등록&제원정보 추출"
   ]
  },
  {
   "cell_type": "code",
   "execution_count": 29,
   "metadata": {},
   "outputs": [
    {
     "data": {
      "text/plain": [
       "(1511251, 49)"
      ]
     },
     "execution_count": 29,
     "metadata": {},
     "output_type": "execute_result"
    }
   ],
   "source": [
    "# 4등급 차량 추출\n",
    "cs1 = cs[(cs['배출가스등급'] == 'T4') | (cs['배출가스등급'] == '4')].reset_index(drop=True)\n",
    "cs1.shape"
   ]
  },
  {
   "cell_type": "code",
   "execution_count": 30,
   "metadata": {},
   "outputs": [
    {
     "data": {
      "text/plain": [
       "1511211"
      ]
     },
     "execution_count": 30,
     "metadata": {},
     "output_type": "execute_result"
    }
   ],
   "source": [
    "len(cs1['차대번호'].unique())"
   ]
  },
  {
   "cell_type": "code",
   "execution_count": 31,
   "metadata": {},
   "outputs": [
    {
     "data": {
      "text/plain": [
       "(1511211, 49)"
      ]
     },
     "execution_count": 31,
     "metadata": {},
     "output_type": "execute_result"
    }
   ],
   "source": [
    "# 중복 차대번호 제거\n",
    "cs2 = cs1.sort_values(['최초등록일자', '배출가스검사유효일자'], ascending=[False, False]).drop_duplicates(subset='차대번호').reset_index(drop=True)\n",
    "cs2.shape"
   ]
  },
  {
   "cell_type": "code",
   "execution_count": 32,
   "metadata": {},
   "outputs": [],
   "source": [
    "tot = re1.merge(cs2, on='차대번호', how='left')"
   ]
  },
  {
   "cell_type": "code",
   "execution_count": 33,
   "metadata": {},
   "outputs": [
    {
     "data": {
      "text/plain": [
       "(1153813, 78)"
      ]
     },
     "execution_count": 33,
     "metadata": {},
     "output_type": "execute_result"
    }
   ],
   "source": [
    "tot.shape"
   ]
  },
  {
   "cell_type": "code",
   "execution_count": 34,
   "metadata": {},
   "outputs": [
    {
     "data": {
      "text/plain": [
       "Index(['차대번호', '차량번호', '제원관리번호_x', '차종', '용도_x', '최초등록일', '연식', '제작일자',\n",
       "       '검사유효일', '인증번호', '등급', '차명_x', '차종분류_x', '차종유형', '자동차형식_x', '제작사명_x',\n",
       "       '연료_x', '엔진형식_x', '총중량_x', '적재중량_x', '엔진출력_x', '배기량_x', '법정동코드', '시도명',\n",
       "       '시군구명', '소유자구분_x', '말소여부', '일치유무', 'vin10', 'vin_year', '차량관리번호',\n",
       "       '차량등록번호', '본거지법정동코드', '소유자구분_y', '차종_등록정보', '용도_y', '현재회원번호', '최초등록일자',\n",
       "       '차량연식', '차량제작일자', '배출가스검사유효일자', '제원관리번호_y', '배출가스인증번호', '배출가스등급',\n",
       "       '저공해조치YN(미사용)', '저공해조치종류', '저공해조치구조변경YN', '차량등록번호숫자정보', '차량말소YN',\n",
       "       '최초회원번호', '취득일자', '취득금액', '생성일시_등록정보', '수정일시_등록정보', '차명_y', '차종_제원정보',\n",
       "       '차종분류_y', '차종유형(소분류)', '자동차형식_y', '제작사명_y', '연료_y', '엔진형식_y', '공차중량',\n",
       "       '총중량_y', '적재중량_y', '엔진출력_y', '배기량_y', '승차인원', '차량길이', '차량너비', '차량높이',\n",
       "       '원산지명', '삭제YN', '승인일자', '구동형식', '변속기종류', '생성일시_제원정보', '수정일시_제원정보'],\n",
       "      dtype='object')"
      ]
     },
     "execution_count": 34,
     "metadata": {},
     "output_type": "execute_result"
    }
   ],
   "source": [
    "tot.columns"
   ]
  },
  {
   "cell_type": "code",
   "execution_count": 35,
   "metadata": {},
   "outputs": [],
   "source": [
    "tot = tot[['차대번호', '차량번호', '제원관리번호_x', '차종', '용도_x', '최초등록일', '연식', '제작일자',\n",
    "       '검사유효일', '인증번호', '등급', '차명_x', '차종분류_x', '차종유형', '자동차형식_x', '제작사명_x',\n",
    "       '연료_x', '엔진형식_x', '총중량_x', '적재중량_x', '엔진출력_x', '배기량_x', '법정동코드', '시도명',\n",
    "       '시군구명', '소유자구분_x', '말소여부', '일치유무', 'vin10', 'vin_year', '차량관리번호',\n",
    "       '차량등록번호', '본거지법정동코드', '차종_등록정보', '현재회원번호', '최초등록일자',\n",
    "       '차량연식', '차량제작일자', '배출가스검사유효일자', '배출가스인증번호', '배출가스등급',\n",
    "       '저공해조치YN(미사용)', '저공해조치종류', '저공해조치구조변경YN', '차량등록번호숫자정보', '차량말소YN',\n",
    "       '최초회원번호', '취득일자', '취득금액', '생성일시_등록정보', '수정일시_등록정보','차종_제원정보',\n",
    "       '차종유형(소분류)', '공차중량', '승차인원', '차량길이', '차량너비', '차량높이', '원산지명', '삭제YN', \n",
    "       '승인일자', '구동형식', '변속기종류', '생성일시_제원정보', '수정일시_제원정보']]"
   ]
  },
  {
   "cell_type": "code",
   "execution_count": 36,
   "metadata": {},
   "outputs": [
    {
     "data": {
      "text/plain": [
       "Index(['차대번호', '차량번호', '제원관리번호_x', '차종', '용도_x', '최초등록일', '연식', '제작일자',\n",
       "       '검사유효일', '인증번호', '등급', '차명_x', '차종분류_x', '차종유형', '자동차형식_x', '제작사명_x',\n",
       "       '연료_x', '엔진형식_x', '총중량_x', '적재중량_x', '엔진출력_x', '배기량_x', '법정동코드', '시도명',\n",
       "       '시군구명', '소유자구분_x', '말소여부', '일치유무', 'vin10', 'vin_year', '차량관리번호',\n",
       "       '차량등록번호', '본거지법정동코드', '차종_등록정보', '현재회원번호', '최초등록일자', '차량연식', '차량제작일자',\n",
       "       '배출가스검사유효일자', '배출가스인증번호', '배출가스등급', '저공해조치YN(미사용)', '저공해조치종류',\n",
       "       '저공해조치구조변경YN', '차량등록번호숫자정보', '차량말소YN', '최초회원번호', '취득일자', '취득금액',\n",
       "       '생성일시_등록정보', '수정일시_등록정보', '차종_제원정보', '차종유형(소분류)', '공차중량', '승차인원',\n",
       "       '차량길이', '차량너비', '차량높이', '원산지명', '삭제YN', '승인일자', '구동형식', '변속기종류',\n",
       "       '생성일시_제원정보', '수정일시_제원정보'],\n",
       "      dtype='object')"
      ]
     },
     "execution_count": 36,
     "metadata": {},
     "output_type": "execute_result"
    }
   ],
   "source": [
    "tot.columns"
   ]
  },
  {
   "cell_type": "code",
   "execution_count": 37,
   "metadata": {},
   "outputs": [],
   "source": [
    "tot.columns = ['차대번호', '차량번호', '제원관리번호', '차종', '용도', '최초등록일', '연식', '제작일자',\n",
    "       '검사유효일', '인증번호', '등급', '차명', '차종분류', '차종유형', '자동차형식', '제작사명',\n",
    "       '연료', '엔진형식', '총중량', '적재중량', '엔진출력', '배기량', '법정동코드', '시도명',\n",
    "       '시군구명', '소유자구분', '말소여부', '일치유무', 'vin10', 'vin_year', '차량관리번호',\n",
    "       '차량등록번호', '본거지법정동코드', '차종_등록정보', '현재회원번호', '최초등록일자', '차량연식', '차량제작일자',\n",
    "       '배출가스검사유효일자', '배출가스인증번호', '배출가스등급', '저공해조치YN(미사용)', '저공해조치종류',\n",
    "       '저공해조치구조변경YN', '차량등록번호숫자정보', '차량말소YN', '최초회원번호', '취득일자', '취득금액',\n",
    "       '생성일시_등록정보', '수정일시_등록정보', '차종_제원정보', '차종유형(소분류)', '공차중량', '승차인원',\n",
    "       '차량길이', '차량너비', '차량높이', '원산지명', '삭제YN', '승인일자', '구동형식', '변속기종류',\n",
    "       '생성일시_제원정보', '수정일시_제원정보']"
   ]
  },
  {
   "cell_type": "code",
   "execution_count": 38,
   "metadata": {},
   "outputs": [
    {
     "data": {
      "text/plain": [
       "Index(['차대번호', '차량번호', '제원관리번호', '차종', '용도', '최초등록일', '연식', '제작일자', '검사유효일',\n",
       "       '인증번호', '등급', '차명', '차종분류', '차종유형', '자동차형식', '제작사명', '연료', '엔진형식',\n",
       "       '총중량', '적재중량', '엔진출력', '배기량', '법정동코드', '시도명', '시군구명', '소유자구분', '말소여부',\n",
       "       '일치유무', 'vin10', 'vin_year', '차량관리번호', '차량등록번호', '본거지법정동코드', '차종_등록정보',\n",
       "       '현재회원번호', '최초등록일자', '차량연식', '차량제작일자', '배출가스검사유효일자', '배출가스인증번호',\n",
       "       '배출가스등급', '저공해조치YN(미사용)', '저공해조치종류', '저공해조치구조변경YN', '차량등록번호숫자정보',\n",
       "       '차량말소YN', '최초회원번호', '취득일자', '취득금액', '생성일시_등록정보', '수정일시_등록정보', '차종_제원정보',\n",
       "       '차종유형(소분류)', '공차중량', '승차인원', '차량길이', '차량너비', '차량높이', '원산지명', '삭제YN',\n",
       "       '승인일자', '구동형식', '변속기종류', '생성일시_제원정보', '수정일시_제원정보'],\n",
       "      dtype='object')"
      ]
     },
     "execution_count": 38,
     "metadata": {},
     "output_type": "execute_result"
    }
   ],
   "source": [
    "tot.columns"
   ]
  },
  {
   "cell_type": "code",
   "execution_count": 39,
   "metadata": {},
   "outputs": [
    {
     "data": {
      "text/plain": [
       "206"
      ]
     },
     "execution_count": 39,
     "metadata": {},
     "output_type": "execute_result"
    }
   ],
   "source": [
    "len(tot['배출가스인증번호'].unique())"
   ]
  },
  {
   "cell_type": "code",
   "execution_count": 40,
   "metadata": {},
   "outputs": [],
   "source": [
    "# nan 값 문자열로 변환\n",
    "tot['배출가스인증번호'] = tot['배출가스인증번호'].astype('str')"
   ]
  },
  {
   "cell_type": "code",
   "execution_count": 41,
   "metadata": {},
   "outputs": [
    {
     "data": {
      "text/plain": [
       "배출가스인증번호\n",
       "4MY-AD-20          29\n",
       "4MY-DC-33           7\n",
       "4MY-PA-06          13\n",
       "5MY-AD-13-06      348\n",
       "5MY-AD-13-07      118\n",
       "                ...  \n",
       "FMY-VTK-14-2       86\n",
       "FMY-VTK-14-3       76\n",
       "FMY-VTK-14-4       49\n",
       "TY87-배K-03          1\n",
       "nan             46800\n",
       "Name: 차대번호, Length: 206, dtype: int64"
      ]
     },
     "execution_count": 41,
     "metadata": {},
     "output_type": "execute_result"
    }
   ],
   "source": [
    "tot.groupby(['배출가스인증번호'])['차대번호'].count()"
   ]
  },
  {
   "attachments": {},
   "cell_type": "markdown",
   "metadata": {},
   "source": [
    "### [출력] 차량리스트 배인번호별 통계, 샘플"
   ]
  },
  {
   "cell_type": "code",
   "execution_count": 58,
   "metadata": {},
   "outputs": [
    {
     "name": "stderr",
     "output_type": "stream",
     "text": [
      "100%|██████████| 206/206 [00:59<00:00,  3.44it/s]\n"
     ]
    }
   ],
   "source": [
    "# about 59s\n",
    "for one in tqdm(tot['배출가스인증번호'].unique()):\n",
    "    temp = tot[tot['배출가스인증번호'] == one].reset_index(drop=True)\n",
    "    cary = temp['차량연식'].unique()\n",
    "    viny = temp['vin_year'].unique()\n",
    "    temp.to_csv(f'analysis2/4등급_데이터_점검/gas_nm/{one}_샘플.csv', index=False, encoding='cp949')\n",
    "\n",
    "    sta = pd.DataFrame({'차량연식':[temp['차량연식'].min(), temp['차량연식'].max()], 'vin10자리_연식':[temp['vin_year'].min(), temp['vin_year'].max()]}, index=['min', 'max'])\n",
    "    sta_sample1 = pd.Series(cary)\n",
    "    sta_sample2 = pd.Series(viny)\n",
    "    sta_sample = pd.concat([sta_sample1, sta_sample2], axis=1)\n",
    "    sta_sample.columns = ['차량연식', 'vin10자리_연식']\n",
    "    with pd.ExcelWriter(f'analysis2/4등급_데이터_점검/gas_nm/{one}_연식_통계.xlsx') as writer:\n",
    "        sta.to_excel(writer, sheet_name='통계')\n",
    "        sta_sample.to_excel(writer, sheet_name='샘플', index=False)"
   ]
  },
  {
   "cell_type": "code",
   "execution_count": 59,
   "metadata": {},
   "outputs": [
    {
     "data": {
      "text/plain": [
       "array([2010., 2009., 2012., 2011., 2008.,   nan, 2013., 1994.])"
      ]
     },
     "execution_count": 59,
     "metadata": {},
     "output_type": "execute_result"
    }
   ],
   "source": [
    "tot[tot['배출가스인증번호'] == '7MY-HD-14-68']['vin_year'].unique()"
   ]
  },
  {
   "attachments": {},
   "cell_type": "markdown",
   "metadata": {},
   "source": [
    "#### test"
   ]
  },
  {
   "cell_type": "code",
   "execution_count": 60,
   "metadata": {},
   "outputs": [],
   "source": [
    "temp = tot[tot['배출가스인증번호'] == '5MY-HD-24-59'].reset_index(drop=True)"
   ]
  },
  {
   "cell_type": "code",
   "execution_count": 61,
   "metadata": {},
   "outputs": [],
   "source": [
    "cary = temp['차량연식'].unique()\n",
    "viny = temp['vin_year'].unique()\n",
    "\n",
    "sta = pd.DataFrame({'차량연식':[temp['차량연식'].min(), temp['차량연식'].max()], 'vin10자리_연식':[temp['vin_year'].min(), temp['vin_year'].max()]}, index=['min', 'max'])\n",
    "sta_sample1 = pd.Series(cary)\n",
    "sta_sample2 = pd.Series(viny)\n",
    "sta_sample = pd.concat([sta_sample1, sta_sample2], axis=1)\n",
    "sta_sample.columns = ['차량연식', 'vin10자리_연식']"
   ]
  },
  {
   "cell_type": "code",
   "execution_count": 62,
   "metadata": {},
   "outputs": [
    {
     "data": {
      "text/html": [
       "<div>\n",
       "<style scoped>\n",
       "    .dataframe tbody tr th:only-of-type {\n",
       "        vertical-align: middle;\n",
       "    }\n",
       "\n",
       "    .dataframe tbody tr th {\n",
       "        vertical-align: top;\n",
       "    }\n",
       "\n",
       "    .dataframe thead th {\n",
       "        text-align: right;\n",
       "    }\n",
       "</style>\n",
       "<table border=\"1\" class=\"dataframe\">\n",
       "  <thead>\n",
       "    <tr style=\"text-align: right;\">\n",
       "      <th></th>\n",
       "      <th>차량연식</th>\n",
       "      <th>vin10자리_연식</th>\n",
       "    </tr>\n",
       "  </thead>\n",
       "  <tbody>\n",
       "    <tr>\n",
       "      <th>min</th>\n",
       "      <td>2006.0</td>\n",
       "      <td>2006.0</td>\n",
       "    </tr>\n",
       "    <tr>\n",
       "      <th>max</th>\n",
       "      <td>2018.0</td>\n",
       "      <td>2018.0</td>\n",
       "    </tr>\n",
       "  </tbody>\n",
       "</table>\n",
       "</div>"
      ],
      "text/plain": [
       "       차량연식  vin10자리_연식\n",
       "min  2006.0      2006.0\n",
       "max  2018.0      2018.0"
      ]
     },
     "execution_count": 62,
     "metadata": {},
     "output_type": "execute_result"
    }
   ],
   "source": [
    "sta"
   ]
  },
  {
   "cell_type": "code",
   "execution_count": 63,
   "metadata": {},
   "outputs": [
    {
     "data": {
      "text/plain": [
       "0    2007.0\n",
       "1    2006.0\n",
       "2    2015.0\n",
       "3    2018.0\n",
       "dtype: float64"
      ]
     },
     "execution_count": 63,
     "metadata": {},
     "output_type": "execute_result"
    }
   ],
   "source": [
    "sta_sample1"
   ]
  },
  {
   "cell_type": "code",
   "execution_count": 64,
   "metadata": {},
   "outputs": [
    {
     "data": {
      "text/html": [
       "<div>\n",
       "<style scoped>\n",
       "    .dataframe tbody tr th:only-of-type {\n",
       "        vertical-align: middle;\n",
       "    }\n",
       "\n",
       "    .dataframe tbody tr th {\n",
       "        vertical-align: top;\n",
       "    }\n",
       "\n",
       "    .dataframe thead th {\n",
       "        text-align: right;\n",
       "    }\n",
       "</style>\n",
       "<table border=\"1\" class=\"dataframe\">\n",
       "  <thead>\n",
       "    <tr style=\"text-align: right;\">\n",
       "      <th></th>\n",
       "      <th>차량연식</th>\n",
       "      <th>vin10자리_연식</th>\n",
       "    </tr>\n",
       "  </thead>\n",
       "  <tbody>\n",
       "    <tr>\n",
       "      <th>0</th>\n",
       "      <td>2007.0</td>\n",
       "      <td>2007.0</td>\n",
       "    </tr>\n",
       "    <tr>\n",
       "      <th>1</th>\n",
       "      <td>2006.0</td>\n",
       "      <td>2006.0</td>\n",
       "    </tr>\n",
       "    <tr>\n",
       "      <th>2</th>\n",
       "      <td>2015.0</td>\n",
       "      <td>2015.0</td>\n",
       "    </tr>\n",
       "    <tr>\n",
       "      <th>3</th>\n",
       "      <td>2018.0</td>\n",
       "      <td>2018.0</td>\n",
       "    </tr>\n",
       "  </tbody>\n",
       "</table>\n",
       "</div>"
      ],
      "text/plain": [
       "     차량연식  vin10자리_연식\n",
       "0  2007.0      2007.0\n",
       "1  2006.0      2006.0\n",
       "2  2015.0      2015.0\n",
       "3  2018.0      2018.0"
      ]
     },
     "execution_count": 64,
     "metadata": {},
     "output_type": "execute_result"
    }
   ],
   "source": [
    "sta_sample"
   ]
  },
  {
   "attachments": {},
   "cell_type": "markdown",
   "metadata": {},
   "source": [
    "## 배출가스인증번호 3, 5등급에 존재 유무"
   ]
  },
  {
   "cell_type": "code",
   "execution_count": 136,
   "metadata": {},
   "outputs": [
    {
     "name": "stderr",
     "output_type": "stream",
     "text": [
      "100%|██████████| 206/206 [00:15<00:00, 12.99it/s]\n"
     ]
    },
    {
     "data": {
      "text/plain": [
       "(206, 206, 206, 206, 206)"
      ]
     },
     "execution_count": 136,
     "metadata": {},
     "output_type": "execute_result"
    }
   ],
   "source": [
    "# about 16s\n",
    "gas3 = csg3['배출가스인증번호'].unique()\n",
    "gas5 = csg5['배출가스인증번호'].unique()\n",
    "\n",
    "gasnm_list = []\n",
    "gas3_jud_list = []\n",
    "gas5_jud_list = []\n",
    "gas3_num_car_list = []\n",
    "gas5_num_car_list = []\n",
    "\n",
    "for one in tqdm(tot['배출가스인증번호'].unique()):\n",
    "    if one in gas3:\n",
    "        gas3_jud_list.append('Y')\n",
    "        n3 = csg3[csg3['배출가스인증번호'] == one].shape[0]\n",
    "        gas3_num_car_list.append(n3)\n",
    "    else:\n",
    "        gas3_jud_list.append('N')\n",
    "        gas3_num_car_list.append(0)\n",
    "    if one in gas5:\n",
    "        gas5_jud_list.append('Y')\n",
    "        n5 = csg5[csg5['배출가스인증번호'] == one].shape[0]\n",
    "        gas5_num_car_list.append(n5)\n",
    "    else:\n",
    "        gas5_jud_list.append('N')\n",
    "        gas5_num_car_list.append(0)\n",
    "    gasnm_list.append(one)\n",
    "len(gasnm_list), len(gas3_jud_list), len(gas3_num_car_list), len(gas5_num_car_list), len(gas5_jud_list)"
   ]
  },
  {
   "cell_type": "code",
   "execution_count": 137,
   "metadata": {},
   "outputs": [
    {
     "data": {
      "text/plain": [
       "False"
      ]
     },
     "execution_count": 137,
     "metadata": {},
     "output_type": "execute_result"
    }
   ],
   "source": [
    "'9MY-KM-14-41' in gas3"
   ]
  },
  {
   "cell_type": "code",
   "execution_count": 138,
   "metadata": {},
   "outputs": [
    {
     "data": {
      "text/plain": [
       "True"
      ]
     },
     "execution_count": 138,
     "metadata": {},
     "output_type": "execute_result"
    }
   ],
   "source": [
    "'9MY-KM-14-41' in gas5"
   ]
  },
  {
   "cell_type": "code",
   "execution_count": 139,
   "metadata": {},
   "outputs": [
    {
     "data": {
      "text/html": [
       "<div>\n",
       "<style scoped>\n",
       "    .dataframe tbody tr th:only-of-type {\n",
       "        vertical-align: middle;\n",
       "    }\n",
       "\n",
       "    .dataframe tbody tr th {\n",
       "        vertical-align: top;\n",
       "    }\n",
       "\n",
       "    .dataframe thead th {\n",
       "        text-align: right;\n",
       "    }\n",
       "</style>\n",
       "<table border=\"1\" class=\"dataframe\">\n",
       "  <thead>\n",
       "    <tr style=\"text-align: right;\">\n",
       "      <th></th>\n",
       "      <th>배출가스인증번호</th>\n",
       "      <th>3등급에_존재</th>\n",
       "      <th>5등급에_존재</th>\n",
       "      <th>3등급에_존재_차량_대수</th>\n",
       "      <th>5등급에_존재_차량_대수</th>\n",
       "    </tr>\n",
       "  </thead>\n",
       "  <tbody>\n",
       "    <tr>\n",
       "      <th>0</th>\n",
       "      <td>9MY-KM-14-41</td>\n",
       "      <td>N</td>\n",
       "      <td>Y</td>\n",
       "      <td>0</td>\n",
       "      <td>36</td>\n",
       "    </tr>\n",
       "    <tr>\n",
       "      <th>1</th>\n",
       "      <td>7MY-SY-14-60</td>\n",
       "      <td>N</td>\n",
       "      <td>N</td>\n",
       "      <td>0</td>\n",
       "      <td>0</td>\n",
       "    </tr>\n",
       "    <tr>\n",
       "      <th>2</th>\n",
       "      <td>nan</td>\n",
       "      <td>N</td>\n",
       "      <td>N</td>\n",
       "      <td>0</td>\n",
       "      <td>0</td>\n",
       "    </tr>\n",
       "    <tr>\n",
       "      <th>3</th>\n",
       "      <td>7MY-HD-14-47</td>\n",
       "      <td>N</td>\n",
       "      <td>N</td>\n",
       "      <td>0</td>\n",
       "      <td>0</td>\n",
       "    </tr>\n",
       "    <tr>\n",
       "      <th>4</th>\n",
       "      <td>6MY-KM-14-61</td>\n",
       "      <td>N</td>\n",
       "      <td>N</td>\n",
       "      <td>0</td>\n",
       "      <td>0</td>\n",
       "    </tr>\n",
       "  </tbody>\n",
       "</table>\n",
       "</div>"
      ],
      "text/plain": [
       "       배출가스인증번호 3등급에_존재 5등급에_존재  3등급에_존재_차량_대수  5등급에_존재_차량_대수\n",
       "0  9MY-KM-14-41       N       Y              0             36\n",
       "1  7MY-SY-14-60       N       N              0              0\n",
       "2           nan       N       N              0              0\n",
       "3  7MY-HD-14-47       N       N              0              0\n",
       "4  6MY-KM-14-61       N       N              0              0"
      ]
     },
     "execution_count": 139,
     "metadata": {},
     "output_type": "execute_result"
    }
   ],
   "source": [
    "gas35_jud_df = pd.DataFrame({'배출가스인증번호': gasnm_list, '3등급에_존재':gas3_jud_list, '5등급에_존재':gas5_jud_list, '3등급에_존재_차량_대수':gas3_num_car_list, '5등급에_존재_차량_대수':gas5_num_car_list})\n",
    "gas35_jud_df.head()"
   ]
  },
  {
   "cell_type": "code",
   "execution_count": 140,
   "metadata": {},
   "outputs": [
    {
     "data": {
      "text/plain": [
       "(206, 5)"
      ]
     },
     "execution_count": 140,
     "metadata": {},
     "output_type": "execute_result"
    }
   ],
   "source": [
    "gas35_jud_df.shape"
   ]
  },
  {
   "cell_type": "code",
   "execution_count": 141,
   "metadata": {},
   "outputs": [
    {
     "data": {
      "text/html": [
       "<div>\n",
       "<style scoped>\n",
       "    .dataframe tbody tr th:only-of-type {\n",
       "        vertical-align: middle;\n",
       "    }\n",
       "\n",
       "    .dataframe tbody tr th {\n",
       "        vertical-align: top;\n",
       "    }\n",
       "\n",
       "    .dataframe thead th {\n",
       "        text-align: right;\n",
       "    }\n",
       "</style>\n",
       "<table border=\"1\" class=\"dataframe\">\n",
       "  <thead>\n",
       "    <tr style=\"text-align: right;\">\n",
       "      <th></th>\n",
       "      <th>배출가스인증번호</th>\n",
       "      <th>차대번호</th>\n",
       "    </tr>\n",
       "  </thead>\n",
       "  <tbody>\n",
       "    <tr>\n",
       "      <th>0</th>\n",
       "      <td>4MY-AD-20</td>\n",
       "      <td>29</td>\n",
       "    </tr>\n",
       "    <tr>\n",
       "      <th>1</th>\n",
       "      <td>4MY-DC-33</td>\n",
       "      <td>7</td>\n",
       "    </tr>\n",
       "    <tr>\n",
       "      <th>2</th>\n",
       "      <td>4MY-PA-06</td>\n",
       "      <td>13</td>\n",
       "    </tr>\n",
       "    <tr>\n",
       "      <th>3</th>\n",
       "      <td>5MY-AD-13-06</td>\n",
       "      <td>348</td>\n",
       "    </tr>\n",
       "    <tr>\n",
       "      <th>4</th>\n",
       "      <td>5MY-AD-13-07</td>\n",
       "      <td>118</td>\n",
       "    </tr>\n",
       "  </tbody>\n",
       "</table>\n",
       "</div>"
      ],
      "text/plain": [
       "       배출가스인증번호  차대번호\n",
       "0     4MY-AD-20    29\n",
       "1     4MY-DC-33     7\n",
       "2     4MY-PA-06    13\n",
       "3  5MY-AD-13-06   348\n",
       "4  5MY-AD-13-07   118"
      ]
     },
     "execution_count": 141,
     "metadata": {},
     "output_type": "execute_result"
    }
   ],
   "source": [
    "g4_gasnm_grp = tot.groupby(['배출가스인증번호'], as_index=False)['차대번호'].count()\n",
    "g4_gasnm_grp.head()"
   ]
  },
  {
   "cell_type": "code",
   "execution_count": 142,
   "metadata": {},
   "outputs": [
    {
     "data": {
      "text/plain": [
       "(206, 2)"
      ]
     },
     "execution_count": 142,
     "metadata": {},
     "output_type": "execute_result"
    }
   ],
   "source": [
    "g4_gasnm_grp.shape"
   ]
  },
  {
   "cell_type": "code",
   "execution_count": 143,
   "metadata": {},
   "outputs": [
    {
     "name": "stderr",
     "output_type": "stream",
     "text": [
      "100%|██████████| 206/206 [00:16<00:00, 12.65it/s]\n"
     ]
    },
    {
     "data": {
      "text/plain": [
       "(206, 206, 206)"
      ]
     },
     "execution_count": 143,
     "metadata": {},
     "output_type": "execute_result"
    }
   ],
   "source": [
    "# about 59s\n",
    "gasnm_list = []\n",
    "car_y_list = []\n",
    "vin10_y_list = []\n",
    "for one in tqdm(tot['배출가스인증번호'].unique()):\n",
    "    temp = tot[tot['배출가스인증번호'] == one].reset_index(drop=True)\n",
    "    try:\n",
    "        cary_min = int(temp['차량연식'].min())\n",
    "        cary_max = int(temp['차량연식'].max())\n",
    "    except:\n",
    "        cary_min = temp['차량연식'].min()\n",
    "        cary_max = temp['차량연식'].max()\n",
    "\n",
    "    car_y_list.append(f'{cary_min}-{cary_max}')\n",
    "    try:\n",
    "        vin10y_min = int(temp['vin_year'].min())\n",
    "        vin10y_max = int(temp['vin_year'].max())\n",
    "    except:\n",
    "        vin10y_min = temp['vin_year'].min()\n",
    "        vin10y_max = temp['vin_year'].max()\n",
    "    vin10_y_list.append(f'{vin10y_min}-{vin10y_max}')\n",
    "    \n",
    "    gasnm_list.append(one)\n",
    "len(gasnm_list), len(car_y_list), len(vin10_y_list)"
   ]
  },
  {
   "cell_type": "code",
   "execution_count": 144,
   "metadata": {},
   "outputs": [
    {
     "data": {
      "text/plain": [
       "(206, 3)"
      ]
     },
     "execution_count": 144,
     "metadata": {},
     "output_type": "execute_result"
    }
   ],
   "source": [
    "year_df = pd.DataFrame({'배출가스인증번호':gasnm_list, '차량연식_범위':car_y_list, 'vin10자리연식_범위':vin10_y_list})\n",
    "year_df.shape"
   ]
  },
  {
   "cell_type": "code",
   "execution_count": 145,
   "metadata": {},
   "outputs": [
    {
     "data": {
      "text/html": [
       "<div>\n",
       "<style scoped>\n",
       "    .dataframe tbody tr th:only-of-type {\n",
       "        vertical-align: middle;\n",
       "    }\n",
       "\n",
       "    .dataframe tbody tr th {\n",
       "        vertical-align: top;\n",
       "    }\n",
       "\n",
       "    .dataframe thead th {\n",
       "        text-align: right;\n",
       "    }\n",
       "</style>\n",
       "<table border=\"1\" class=\"dataframe\">\n",
       "  <thead>\n",
       "    <tr style=\"text-align: right;\">\n",
       "      <th></th>\n",
       "      <th>배출가스인증번호</th>\n",
       "      <th>차량연식_범위</th>\n",
       "      <th>vin10자리연식_범위</th>\n",
       "    </tr>\n",
       "  </thead>\n",
       "  <tbody>\n",
       "    <tr>\n",
       "      <th>0</th>\n",
       "      <td>9MY-KM-14-41</td>\n",
       "      <td>2007-2011</td>\n",
       "      <td>2008-2011</td>\n",
       "    </tr>\n",
       "    <tr>\n",
       "      <th>1</th>\n",
       "      <td>7MY-SY-14-60</td>\n",
       "      <td>2008-2011</td>\n",
       "      <td>2008-2011</td>\n",
       "    </tr>\n",
       "    <tr>\n",
       "      <th>2</th>\n",
       "      <td>nan</td>\n",
       "      <td>1989-2018</td>\n",
       "      <td>1996-2018</td>\n",
       "    </tr>\n",
       "    <tr>\n",
       "      <th>3</th>\n",
       "      <td>7MY-HD-14-47</td>\n",
       "      <td>2008-2012</td>\n",
       "      <td>2008-2012</td>\n",
       "    </tr>\n",
       "    <tr>\n",
       "      <th>4</th>\n",
       "      <td>6MY-KM-14-61</td>\n",
       "      <td>2006-2010</td>\n",
       "      <td>2006-2010</td>\n",
       "    </tr>\n",
       "  </tbody>\n",
       "</table>\n",
       "</div>"
      ],
      "text/plain": [
       "       배출가스인증번호    차량연식_범위 vin10자리연식_범위\n",
       "0  9MY-KM-14-41  2007-2011    2008-2011\n",
       "1  7MY-SY-14-60  2008-2011    2008-2011\n",
       "2           nan  1989-2018    1996-2018\n",
       "3  7MY-HD-14-47  2008-2012    2008-2012\n",
       "4  6MY-KM-14-61  2006-2010    2006-2010"
      ]
     },
     "execution_count": 145,
     "metadata": {},
     "output_type": "execute_result"
    }
   ],
   "source": [
    "year_df.head()"
   ]
  },
  {
   "cell_type": "code",
   "execution_count": 146,
   "metadata": {},
   "outputs": [
    {
     "data": {
      "text/plain": [
       "(206, 4)"
      ]
     },
     "execution_count": 146,
     "metadata": {},
     "output_type": "execute_result"
    }
   ],
   "source": [
    "g4_gasnm_info1 = g4_gasnm_grp.merge(year_df, on='배출가스인증번호', how='left')\n",
    "g4_gasnm_info1.shape"
   ]
  },
  {
   "cell_type": "code",
   "execution_count": 147,
   "metadata": {},
   "outputs": [
    {
     "data": {
      "text/html": [
       "<div>\n",
       "<style scoped>\n",
       "    .dataframe tbody tr th:only-of-type {\n",
       "        vertical-align: middle;\n",
       "    }\n",
       "\n",
       "    .dataframe tbody tr th {\n",
       "        vertical-align: top;\n",
       "    }\n",
       "\n",
       "    .dataframe thead th {\n",
       "        text-align: right;\n",
       "    }\n",
       "</style>\n",
       "<table border=\"1\" class=\"dataframe\">\n",
       "  <thead>\n",
       "    <tr style=\"text-align: right;\">\n",
       "      <th></th>\n",
       "      <th>배출가스인증번호</th>\n",
       "      <th>차대번호</th>\n",
       "      <th>차량연식_범위</th>\n",
       "      <th>vin10자리연식_범위</th>\n",
       "    </tr>\n",
       "  </thead>\n",
       "  <tbody>\n",
       "    <tr>\n",
       "      <th>0</th>\n",
       "      <td>4MY-AD-20</td>\n",
       "      <td>29</td>\n",
       "      <td>2006-2006</td>\n",
       "      <td>2006-2006</td>\n",
       "    </tr>\n",
       "    <tr>\n",
       "      <th>1</th>\n",
       "      <td>4MY-DC-33</td>\n",
       "      <td>7</td>\n",
       "      <td>2007-2007</td>\n",
       "      <td>2007-2007</td>\n",
       "    </tr>\n",
       "    <tr>\n",
       "      <th>2</th>\n",
       "      <td>4MY-PA-06</td>\n",
       "      <td>13</td>\n",
       "      <td>2005-2006</td>\n",
       "      <td>2005-2006</td>\n",
       "    </tr>\n",
       "    <tr>\n",
       "      <th>3</th>\n",
       "      <td>5MY-AD-13-06</td>\n",
       "      <td>348</td>\n",
       "      <td>2005-2007</td>\n",
       "      <td>2005-2007</td>\n",
       "    </tr>\n",
       "    <tr>\n",
       "      <th>4</th>\n",
       "      <td>5MY-AD-13-07</td>\n",
       "      <td>118</td>\n",
       "      <td>2006-2007</td>\n",
       "      <td>2006-2007</td>\n",
       "    </tr>\n",
       "  </tbody>\n",
       "</table>\n",
       "</div>"
      ],
      "text/plain": [
       "       배출가스인증번호  차대번호    차량연식_범위 vin10자리연식_범위\n",
       "0     4MY-AD-20    29  2006-2006    2006-2006\n",
       "1     4MY-DC-33     7  2007-2007    2007-2007\n",
       "2     4MY-PA-06    13  2005-2006    2005-2006\n",
       "3  5MY-AD-13-06   348  2005-2007    2005-2007\n",
       "4  5MY-AD-13-07   118  2006-2007    2006-2007"
      ]
     },
     "execution_count": 147,
     "metadata": {},
     "output_type": "execute_result"
    }
   ],
   "source": [
    "g4_gasnm_info1.head()"
   ]
  },
  {
   "cell_type": "code",
   "execution_count": 148,
   "metadata": {},
   "outputs": [
    {
     "data": {
      "text/plain": [
       "(206, 8)"
      ]
     },
     "execution_count": 148,
     "metadata": {},
     "output_type": "execute_result"
    }
   ],
   "source": [
    "g4_gasnm_info2 = g4_gasnm_info1.merge(gas35_jud_df, on='배출가스인증번호', how='left')\n",
    "g4_gasnm_info2.shape"
   ]
  },
  {
   "cell_type": "code",
   "execution_count": 149,
   "metadata": {},
   "outputs": [
    {
     "data": {
      "text/html": [
       "<div>\n",
       "<style scoped>\n",
       "    .dataframe tbody tr th:only-of-type {\n",
       "        vertical-align: middle;\n",
       "    }\n",
       "\n",
       "    .dataframe tbody tr th {\n",
       "        vertical-align: top;\n",
       "    }\n",
       "\n",
       "    .dataframe thead th {\n",
       "        text-align: right;\n",
       "    }\n",
       "</style>\n",
       "<table border=\"1\" class=\"dataframe\">\n",
       "  <thead>\n",
       "    <tr style=\"text-align: right;\">\n",
       "      <th></th>\n",
       "      <th>배출가스인증번호</th>\n",
       "      <th>차대번호</th>\n",
       "      <th>차량연식_범위</th>\n",
       "      <th>vin10자리연식_범위</th>\n",
       "      <th>3등급에_존재</th>\n",
       "      <th>5등급에_존재</th>\n",
       "      <th>3등급에_존재_차량_대수</th>\n",
       "      <th>5등급에_존재_차량_대수</th>\n",
       "    </tr>\n",
       "  </thead>\n",
       "  <tbody>\n",
       "    <tr>\n",
       "      <th>0</th>\n",
       "      <td>4MY-AD-20</td>\n",
       "      <td>29</td>\n",
       "      <td>2006-2006</td>\n",
       "      <td>2006-2006</td>\n",
       "      <td>N</td>\n",
       "      <td>N</td>\n",
       "      <td>0</td>\n",
       "      <td>0</td>\n",
       "    </tr>\n",
       "    <tr>\n",
       "      <th>1</th>\n",
       "      <td>4MY-DC-33</td>\n",
       "      <td>7</td>\n",
       "      <td>2007-2007</td>\n",
       "      <td>2007-2007</td>\n",
       "      <td>N</td>\n",
       "      <td>Y</td>\n",
       "      <td>0</td>\n",
       "      <td>1502</td>\n",
       "    </tr>\n",
       "    <tr>\n",
       "      <th>2</th>\n",
       "      <td>4MY-PA-06</td>\n",
       "      <td>13</td>\n",
       "      <td>2005-2006</td>\n",
       "      <td>2005-2006</td>\n",
       "      <td>N</td>\n",
       "      <td>N</td>\n",
       "      <td>0</td>\n",
       "      <td>0</td>\n",
       "    </tr>\n",
       "    <tr>\n",
       "      <th>3</th>\n",
       "      <td>5MY-AD-13-06</td>\n",
       "      <td>348</td>\n",
       "      <td>2005-2007</td>\n",
       "      <td>2005-2007</td>\n",
       "      <td>N</td>\n",
       "      <td>N</td>\n",
       "      <td>0</td>\n",
       "      <td>0</td>\n",
       "    </tr>\n",
       "    <tr>\n",
       "      <th>4</th>\n",
       "      <td>5MY-AD-13-07</td>\n",
       "      <td>118</td>\n",
       "      <td>2006-2007</td>\n",
       "      <td>2006-2007</td>\n",
       "      <td>Y</td>\n",
       "      <td>N</td>\n",
       "      <td>119</td>\n",
       "      <td>0</td>\n",
       "    </tr>\n",
       "  </tbody>\n",
       "</table>\n",
       "</div>"
      ],
      "text/plain": [
       "       배출가스인증번호  차대번호    차량연식_범위 vin10자리연식_범위 3등급에_존재 5등급에_존재  3등급에_존재_차량_대수  \\\n",
       "0     4MY-AD-20    29  2006-2006    2006-2006       N       N              0   \n",
       "1     4MY-DC-33     7  2007-2007    2007-2007       N       Y              0   \n",
       "2     4MY-PA-06    13  2005-2006    2005-2006       N       N              0   \n",
       "3  5MY-AD-13-06   348  2005-2007    2005-2007       N       N              0   \n",
       "4  5MY-AD-13-07   118  2006-2007    2006-2007       Y       N            119   \n",
       "\n",
       "   5등급에_존재_차량_대수  \n",
       "0              0  \n",
       "1           1502  \n",
       "2              0  \n",
       "3              0  \n",
       "4              0  "
      ]
     },
     "execution_count": 149,
     "metadata": {},
     "output_type": "execute_result"
    }
   ],
   "source": [
    "g4_gasnm_info2.head()"
   ]
  },
  {
   "attachments": {},
   "cell_type": "markdown",
   "metadata": {},
   "source": [
    "### [출력] 차량리스트 배인번호별 통계02"
   ]
  },
  {
   "cell_type": "code",
   "execution_count": 151,
   "metadata": {},
   "outputs": [],
   "source": [
    "g4_gasnm_info2.to_excel('analysis2/4등급_데이터_점검/[통계][배출가스인증번호별]4등급_차량리스트04.xlsx', index=False)"
   ]
  },
  {
   "attachments": {},
   "cell_type": "markdown",
   "metadata": {},
   "source": [
    "## 배인번호별 추가 컬럼\n",
    "- 제작사, 엔진형식, 3등급에 존재 차량대수, 5등급에 존재 차량 대수, DPF 유무"
   ]
  },
  {
   "attachments": {},
   "cell_type": "markdown",
   "metadata": {},
   "source": [
    "### [로드] euro4"
   ]
  },
  {
   "cell_type": "code",
   "execution_count": 128,
   "metadata": {},
   "outputs": [
    {
     "data": {
      "text/html": [
       "<div>\n",
       "<style scoped>\n",
       "    .dataframe tbody tr th:only-of-type {\n",
       "        vertical-align: middle;\n",
       "    }\n",
       "\n",
       "    .dataframe tbody tr th {\n",
       "        vertical-align: top;\n",
       "    }\n",
       "\n",
       "    .dataframe thead th {\n",
       "        text-align: right;\n",
       "    }\n",
       "</style>\n",
       "<table border=\"1\" class=\"dataframe\">\n",
       "  <thead>\n",
       "    <tr style=\"text-align: right;\">\n",
       "      <th></th>\n",
       "      <th>배출가스인증번호</th>\n",
       "      <th>DPF유무</th>\n",
       "    </tr>\n",
       "  </thead>\n",
       "  <tbody>\n",
       "    <tr>\n",
       "      <th>0</th>\n",
       "      <td>5MY-HD-24-59</td>\n",
       "      <td>유</td>\n",
       "    </tr>\n",
       "    <tr>\n",
       "      <th>1</th>\n",
       "      <td>6MY-HD-24-100</td>\n",
       "      <td>유</td>\n",
       "    </tr>\n",
       "    <tr>\n",
       "      <th>2</th>\n",
       "      <td>7MY-HD-24-57</td>\n",
       "      <td>무</td>\n",
       "    </tr>\n",
       "    <tr>\n",
       "      <th>3</th>\n",
       "      <td>7MY-HD-13-58</td>\n",
       "      <td>유</td>\n",
       "    </tr>\n",
       "    <tr>\n",
       "      <th>4</th>\n",
       "      <td>5MY-HD-24-35</td>\n",
       "      <td>무</td>\n",
       "    </tr>\n",
       "    <tr>\n",
       "      <th>...</th>\n",
       "      <td>...</td>\n",
       "      <td>...</td>\n",
       "    </tr>\n",
       "    <tr>\n",
       "      <th>77</th>\n",
       "      <td>8MY-FK-14-1</td>\n",
       "      <td>유</td>\n",
       "    </tr>\n",
       "    <tr>\n",
       "      <th>78</th>\n",
       "      <td>8MY-FK-14-2</td>\n",
       "      <td>유</td>\n",
       "    </tr>\n",
       "    <tr>\n",
       "      <th>79</th>\n",
       "      <td>5MY-HB-14-1</td>\n",
       "      <td>유</td>\n",
       "    </tr>\n",
       "    <tr>\n",
       "      <th>80</th>\n",
       "      <td>5MY-HB-14-4</td>\n",
       "      <td>유</td>\n",
       "    </tr>\n",
       "    <tr>\n",
       "      <th>81</th>\n",
       "      <td>8MY-HB-14-1</td>\n",
       "      <td>유</td>\n",
       "    </tr>\n",
       "  </tbody>\n",
       "</table>\n",
       "<p>82 rows × 2 columns</p>\n",
       "</div>"
      ],
      "text/plain": [
       "         배출가스인증번호 DPF유무\n",
       "0    5MY-HD-24-59     유\n",
       "1   6MY-HD-24-100     유\n",
       "2    7MY-HD-24-57     무\n",
       "3    7MY-HD-13-58     유\n",
       "4    5MY-HD-24-35     무\n",
       "..            ...   ...\n",
       "77    8MY-FK-14-1     유\n",
       "78    8MY-FK-14-2     유\n",
       "79    5MY-HB-14-1     유\n",
       "80    5MY-HB-14-4     유\n",
       "81    8MY-HB-14-1     유\n",
       "\n",
       "[82 rows x 2 columns]"
      ]
     },
     "execution_count": 128,
     "metadata": {},
     "output_type": "execute_result"
    }
   ],
   "source": [
    "euro = pd.read_excel(os.path.join('D:/data/big2', 'dpf.xlsx'))\n",
    "euro"
   ]
  },
  {
   "cell_type": "code",
   "execution_count": 132,
   "metadata": {},
   "outputs": [
    {
     "data": {
      "text/plain": [
       "무    857439\n",
       "유    296374\n",
       "Name: DPF유무, dtype: int64"
      ]
     },
     "execution_count": 132,
     "metadata": {},
     "output_type": "execute_result"
    }
   ],
   "source": [
    "tot1 = tot.merge(euro, on='배출가스인증번호', how='left')\n",
    "tot1['DPF유무'] = tot1['DPF유무'].fillna('무')\n",
    "tot1['DPF유무'].value_counts(dropna=True)"
   ]
  },
  {
   "cell_type": "code",
   "execution_count": 187,
   "metadata": {},
   "outputs": [
    {
     "data": {
      "text/plain": [
       "(1153813, 66)"
      ]
     },
     "execution_count": 187,
     "metadata": {},
     "output_type": "execute_result"
    }
   ],
   "source": [
    "tot1.shape"
   ]
  },
  {
   "cell_type": "code",
   "execution_count": 133,
   "metadata": {},
   "outputs": [
    {
     "data": {
      "text/plain": [
       "Index(['차대번호', '차량번호', '제원관리번호', '차종', '용도', '최초등록일', '연식', '제작일자', '검사유효일',\n",
       "       '인증번호', '등급', '차명', '차종분류', '차종유형', '자동차형식', '제작사명', '연료', '엔진형식',\n",
       "       '총중량', '적재중량', '엔진출력', '배기량', '법정동코드', '시도명', '시군구명', '소유자구분', '말소여부',\n",
       "       '일치유무', 'vin10', 'vin_year', '차량관리번호', '차량등록번호', '본거지법정동코드', '차종_등록정보',\n",
       "       '현재회원번호', '최초등록일자', '차량연식', '차량제작일자', '배출가스검사유효일자', '배출가스인증번호',\n",
       "       '배출가스등급', '저공해조치YN(미사용)', '저공해조치종류', '저공해조치구조변경YN', '차량등록번호숫자정보',\n",
       "       '차량말소YN', '최초회원번호', '취득일자', '취득금액', '생성일시_등록정보', '수정일시_등록정보', '차종_제원정보',\n",
       "       '차종유형(소분류)', '공차중량', '승차인원', '차량길이', '차량너비', '차량높이', '원산지명', '삭제YN',\n",
       "       '승인일자', '구동형식', '변속기종류', '생성일시_제원정보', '수정일시_제원정보', 'DPF유무'],\n",
       "      dtype='object')"
      ]
     },
     "execution_count": 133,
     "metadata": {},
     "output_type": "execute_result"
    }
   ],
   "source": [
    "tot1.columns"
   ]
  },
  {
   "cell_type": "code",
   "execution_count": 135,
   "metadata": {},
   "outputs": [
    {
     "name": "stderr",
     "output_type": "stream",
     "text": [
      "100%|██████████| 206/206 [00:23<00:00,  8.82it/s]\n"
     ]
    }
   ],
   "source": [
    "# about\n",
    "for one in tqdm(tot1['배출가스인증번호'].unique()):\n",
    "    temp = tot1[tot1['배출가스인증번호'] == one]\n",
    "    s1 = pd.Series(temp['제작사명'].unique())\n",
    "    s2 = pd.Series(temp['엔진형식'].unique())\n",
    "    s3 = pd.Series(temp['DPF유무'].unique())\n",
    "    ss = pd.concat([s1, s2, s3], axis=1)\n",
    "    ss.to_excel(f'analysis2/4등급_데이터_점검/gas_nm/[통계]{one}_제작사_엔진형식_DPF유무.xlsx', index=False)"
   ]
  },
  {
   "cell_type": "code",
   "execution_count": 182,
   "metadata": {},
   "outputs": [
    {
     "name": "stderr",
     "output_type": "stream",
     "text": [
      "100%|██████████| 206/206 [00:16<00:00, 12.66it/s]\n"
     ]
    },
    {
     "data": {
      "text/plain": [
       "(1070, 11)"
      ]
     },
     "execution_count": 182,
     "metadata": {},
     "output_type": "execute_result"
    }
   ],
   "source": [
    "# about 16s\n",
    "total_ss = pd.DataFrame()\n",
    "for one in tqdm(g4_gasnm_info2['배출가스인증번호'].unique()):\n",
    "    s1 = g4_gasnm_info2[g4_gasnm_info2['배출가스인증번호'] == one]\n",
    "    temp = tot1[tot1['배출가스인증번호'] == one]\n",
    "    s2 = pd.DataFrame(temp['제작사명'].dropna().unique())\n",
    "    s3 = pd.DataFrame(temp['엔진형식'].dropna().unique())\n",
    "    s4 = pd.DataFrame(temp['DPF유무'].dropna().unique())\n",
    "    ss = pd.concat([s1, s2, s3, s4], axis=1)\n",
    "    total_ss = pd.concat([total_ss, ss], ignore_index=True)\n",
    "total_ss.shape"
   ]
  },
  {
   "cell_type": "code",
   "execution_count": 183,
   "metadata": {},
   "outputs": [
    {
     "data": {
      "text/html": [
       "<div>\n",
       "<style scoped>\n",
       "    .dataframe tbody tr th:only-of-type {\n",
       "        vertical-align: middle;\n",
       "    }\n",
       "\n",
       "    .dataframe tbody tr th {\n",
       "        vertical-align: top;\n",
       "    }\n",
       "\n",
       "    .dataframe thead th {\n",
       "        text-align: right;\n",
       "    }\n",
       "</style>\n",
       "<table border=\"1\" class=\"dataframe\">\n",
       "  <thead>\n",
       "    <tr style=\"text-align: right;\">\n",
       "      <th></th>\n",
       "      <th>배출가스인증번호</th>\n",
       "      <th>차대번호</th>\n",
       "      <th>차량연식_범위</th>\n",
       "      <th>vin10자리연식_범위</th>\n",
       "      <th>3등급에_존재</th>\n",
       "      <th>5등급에_존재</th>\n",
       "      <th>3등급에_존재_차량_대수</th>\n",
       "      <th>5등급에_존재_차량_대수</th>\n",
       "      <th>0</th>\n",
       "      <th>0</th>\n",
       "      <th>0</th>\n",
       "    </tr>\n",
       "  </thead>\n",
       "  <tbody>\n",
       "    <tr>\n",
       "      <th>0</th>\n",
       "      <td>4MY-AD-20</td>\n",
       "      <td>29.0</td>\n",
       "      <td>2006-2006</td>\n",
       "      <td>2006-2006</td>\n",
       "      <td>N</td>\n",
       "      <td>N</td>\n",
       "      <td>0.0</td>\n",
       "      <td>0.0</td>\n",
       "      <td>아우디폭스바겐코리아(주)</td>\n",
       "      <td>BMK</td>\n",
       "      <td>무</td>\n",
       "    </tr>\n",
       "    <tr>\n",
       "      <th>1</th>\n",
       "      <td>4MY-DC-33</td>\n",
       "      <td>7.0</td>\n",
       "      <td>2007-2007</td>\n",
       "      <td>2007-2007</td>\n",
       "      <td>N</td>\n",
       "      <td>Y</td>\n",
       "      <td>0.0</td>\n",
       "      <td>1502.0</td>\n",
       "      <td>NaN</td>\n",
       "      <td>NaN</td>\n",
       "      <td>NaN</td>\n",
       "    </tr>\n",
       "    <tr>\n",
       "      <th>2</th>\n",
       "      <td>NaN</td>\n",
       "      <td>NaN</td>\n",
       "      <td>NaN</td>\n",
       "      <td>NaN</td>\n",
       "      <td>NaN</td>\n",
       "      <td>NaN</td>\n",
       "      <td>NaN</td>\n",
       "      <td>NaN</td>\n",
       "      <td>타타대우상용차(주)</td>\n",
       "      <td>DV11</td>\n",
       "      <td>무</td>\n",
       "    </tr>\n",
       "    <tr>\n",
       "      <th>3</th>\n",
       "      <td>4MY-PA-06</td>\n",
       "      <td>13.0</td>\n",
       "      <td>2005-2006</td>\n",
       "      <td>2005-2006</td>\n",
       "      <td>N</td>\n",
       "      <td>N</td>\n",
       "      <td>0.0</td>\n",
       "      <td>0.0</td>\n",
       "      <td>NaN</td>\n",
       "      <td>NaN</td>\n",
       "      <td>NaN</td>\n",
       "    </tr>\n",
       "    <tr>\n",
       "      <th>4</th>\n",
       "      <td>NaN</td>\n",
       "      <td>NaN</td>\n",
       "      <td>NaN</td>\n",
       "      <td>NaN</td>\n",
       "      <td>NaN</td>\n",
       "      <td>NaN</td>\n",
       "      <td>NaN</td>\n",
       "      <td>NaN</td>\n",
       "      <td>(주)볼보자동차코리아</td>\n",
       "      <td>204D</td>\n",
       "      <td>무</td>\n",
       "    </tr>\n",
       "  </tbody>\n",
       "</table>\n",
       "</div>"
      ],
      "text/plain": [
       "    배출가스인증번호  차대번호    차량연식_범위 vin10자리연식_범위 3등급에_존재 5등급에_존재  3등급에_존재_차량_대수  \\\n",
       "0  4MY-AD-20  29.0  2006-2006    2006-2006       N       N            0.0   \n",
       "1  4MY-DC-33   7.0  2007-2007    2007-2007       N       Y            0.0   \n",
       "2        NaN   NaN        NaN          NaN     NaN     NaN            NaN   \n",
       "3  4MY-PA-06  13.0  2005-2006    2005-2006       N       N            0.0   \n",
       "4        NaN   NaN        NaN          NaN     NaN     NaN            NaN   \n",
       "\n",
       "   5등급에_존재_차량_대수              0     0    0  \n",
       "0            0.0  아우디폭스바겐코리아(주)   BMK    무  \n",
       "1         1502.0            NaN   NaN  NaN  \n",
       "2            NaN     타타대우상용차(주)  DV11    무  \n",
       "3            0.0            NaN   NaN  NaN  \n",
       "4            NaN    (주)볼보자동차코리아  204D    무  "
      ]
     },
     "execution_count": 183,
     "metadata": {},
     "output_type": "execute_result"
    }
   ],
   "source": [
    "total_ss.head()"
   ]
  },
  {
   "cell_type": "code",
   "execution_count": 184,
   "metadata": {},
   "outputs": [
    {
     "data": {
      "text/html": [
       "<div>\n",
       "<style scoped>\n",
       "    .dataframe tbody tr th:only-of-type {\n",
       "        vertical-align: middle;\n",
       "    }\n",
       "\n",
       "    .dataframe tbody tr th {\n",
       "        vertical-align: top;\n",
       "    }\n",
       "\n",
       "    .dataframe thead th {\n",
       "        text-align: right;\n",
       "    }\n",
       "</style>\n",
       "<table border=\"1\" class=\"dataframe\">\n",
       "  <thead>\n",
       "    <tr style=\"text-align: right;\">\n",
       "      <th></th>\n",
       "      <th>배출가스인증번호</th>\n",
       "      <th>차대번호</th>\n",
       "      <th>차량연식_범위</th>\n",
       "      <th>vin10자리연식_범위</th>\n",
       "      <th>3등급에_존재</th>\n",
       "      <th>5등급에_존재</th>\n",
       "      <th>3등급에_존재_차량_대수</th>\n",
       "      <th>5등급에_존재_차량_대수</th>\n",
       "      <th>0</th>\n",
       "      <th>0</th>\n",
       "      <th>0</th>\n",
       "    </tr>\n",
       "  </thead>\n",
       "  <tbody>\n",
       "    <tr>\n",
       "      <th>1065</th>\n",
       "      <td>NaN</td>\n",
       "      <td>NaN</td>\n",
       "      <td>NaN</td>\n",
       "      <td>NaN</td>\n",
       "      <td>NaN</td>\n",
       "      <td>NaN</td>\n",
       "      <td>NaN</td>\n",
       "      <td>NaN</td>\n",
       "      <td>NaN</td>\n",
       "      <td>642 993</td>\n",
       "      <td>NaN</td>\n",
       "    </tr>\n",
       "    <tr>\n",
       "      <th>1066</th>\n",
       "      <td>NaN</td>\n",
       "      <td>NaN</td>\n",
       "      <td>NaN</td>\n",
       "      <td>NaN</td>\n",
       "      <td>NaN</td>\n",
       "      <td>NaN</td>\n",
       "      <td>NaN</td>\n",
       "      <td>NaN</td>\n",
       "      <td>NaN</td>\n",
       "      <td>C12</td>\n",
       "      <td>NaN</td>\n",
       "    </tr>\n",
       "    <tr>\n",
       "      <th>1067</th>\n",
       "      <td>NaN</td>\n",
       "      <td>NaN</td>\n",
       "      <td>NaN</td>\n",
       "      <td>NaN</td>\n",
       "      <td>NaN</td>\n",
       "      <td>NaN</td>\n",
       "      <td>NaN</td>\n",
       "      <td>NaN</td>\n",
       "      <td>NaN</td>\n",
       "      <td>M9R</td>\n",
       "      <td>NaN</td>\n",
       "    </tr>\n",
       "    <tr>\n",
       "      <th>1068</th>\n",
       "      <td>NaN</td>\n",
       "      <td>NaN</td>\n",
       "      <td>NaN</td>\n",
       "      <td>NaN</td>\n",
       "      <td>NaN</td>\n",
       "      <td>NaN</td>\n",
       "      <td>NaN</td>\n",
       "      <td>NaN</td>\n",
       "      <td>NaN</td>\n",
       "      <td>Z20S</td>\n",
       "      <td>NaN</td>\n",
       "    </tr>\n",
       "    <tr>\n",
       "      <th>1069</th>\n",
       "      <td>NaN</td>\n",
       "      <td>NaN</td>\n",
       "      <td>NaN</td>\n",
       "      <td>NaN</td>\n",
       "      <td>NaN</td>\n",
       "      <td>NaN</td>\n",
       "      <td>NaN</td>\n",
       "      <td>NaN</td>\n",
       "      <td>NaN</td>\n",
       "      <td>D2676 LOH02</td>\n",
       "      <td>NaN</td>\n",
       "    </tr>\n",
       "  </tbody>\n",
       "</table>\n",
       "</div>"
      ],
      "text/plain": [
       "     배출가스인증번호  차대번호 차량연식_범위 vin10자리연식_범위 3등급에_존재 5등급에_존재  3등급에_존재_차량_대수  \\\n",
       "1065      NaN   NaN     NaN          NaN     NaN     NaN            NaN   \n",
       "1066      NaN   NaN     NaN          NaN     NaN     NaN            NaN   \n",
       "1067      NaN   NaN     NaN          NaN     NaN     NaN            NaN   \n",
       "1068      NaN   NaN     NaN          NaN     NaN     NaN            NaN   \n",
       "1069      NaN   NaN     NaN          NaN     NaN     NaN            NaN   \n",
       "\n",
       "      5등급에_존재_차량_대수    0            0    0  \n",
       "1065            NaN  NaN      642 993  NaN  \n",
       "1066            NaN  NaN          C12  NaN  \n",
       "1067            NaN  NaN          M9R  NaN  \n",
       "1068            NaN  NaN         Z20S  NaN  \n",
       "1069            NaN  NaN  D2676 LOH02  NaN  "
      ]
     },
     "execution_count": 184,
     "metadata": {},
     "output_type": "execute_result"
    }
   ],
   "source": [
    "total_ss.tail()"
   ]
  },
  {
   "cell_type": "code",
   "execution_count": 185,
   "metadata": {},
   "outputs": [],
   "source": [
    "total_ss.to_excel('analysis2/4등급_데이터_점검/gas_nm/[통계][배출가스인증번호별]4등급_차량리스트06.xlsx', index=False)"
   ]
  },
  {
   "attachments": {},
   "cell_type": "markdown",
   "metadata": {},
   "source": [
    "### 4등급 점검 파일 분리 출력"
   ]
  },
  {
   "cell_type": "code",
   "execution_count": 188,
   "metadata": {},
   "outputs": [
    {
     "data": {
      "text/plain": [
       "(1153813, 66)"
      ]
     },
     "execution_count": 188,
     "metadata": {},
     "output_type": "execute_result"
    }
   ],
   "source": [
    "tot1.shape"
   ]
  },
  {
   "cell_type": "code",
   "execution_count": 189,
   "metadata": {},
   "outputs": [
    {
     "data": {
      "text/plain": [
       "'D:/data/big2/BD1_4등급_데이터_점검1'"
      ]
     },
     "execution_count": 189,
     "metadata": {},
     "output_type": "execute_result"
    }
   ],
   "source": [
    "fold"
   ]
  },
  {
   "cell_type": "code",
   "execution_count": 190,
   "metadata": {},
   "outputs": [
    {
     "data": {
      "text/plain": [
       "Index(['차대번호', '차량번호', '제원관리번호', '차종', '용도', '최초등록일', '연식', '제작일자', '검사유효일',\n",
       "       '인증번호', '등급', '차명', '차종분류', '차종유형', '자동차형식', '제작사명', '연료', '엔진형식',\n",
       "       '총중량', '적재중량', '엔진출력', '배기량', '법정동코드', '시도명', '시군구명', '소유자구분', '말소여부',\n",
       "       '일치유무', 'vin10', 'vin_year', '차량관리번호', '차량등록번호', '본거지법정동코드', '차종_등록정보',\n",
       "       '현재회원번호', '최초등록일자', '차량연식', '차량제작일자', '배출가스검사유효일자', '배출가스인증번호',\n",
       "       '배출가스등급', '저공해조치YN(미사용)', '저공해조치종류', '저공해조치구조변경YN', '차량등록번호숫자정보',\n",
       "       '차량말소YN', '최초회원번호', '취득일자', '취득금액', '생성일시_등록정보', '수정일시_등록정보', '차종_제원정보',\n",
       "       '차종유형(소분류)', '공차중량', '승차인원', '차량길이', '차량너비', '차량높이', '원산지명', '삭제YN',\n",
       "       '승인일자', '구동형식', '변속기종류', '생성일시_제원정보', '수정일시_제원정보', 'DPF유무'],\n",
       "      dtype='object')"
      ]
     },
     "execution_count": 190,
     "metadata": {},
     "output_type": "execute_result"
    }
   ],
   "source": [
    "tot1.columns"
   ]
  },
  {
   "cell_type": "code",
   "execution_count": 192,
   "metadata": {},
   "outputs": [],
   "source": [
    "# about 19m 48s\n",
    "tot1.iloc[:550000].to_excel(os.path.join(fold, '4등급_차량리스트01.xlsx'), index=False)\n",
    "tot1.iloc[550000:].to_excel(os.path.join(fold, '4등급_차량리스트02.xlsx'), index=False)"
   ]
  },
  {
   "cell_type": "code",
   "execution_count": null,
   "metadata": {},
   "outputs": [],
   "source": [
    "# about \n",
    "tot1.iloc[:550000].to_csv(os.path.join(fold, '4등급_차량리스트01.csv'), index=False)\n",
    "tot1.iloc[550000:].to_csv(os.path.join(fold, '4등급_차량리스트02.csv'), index=False)"
   ]
  },
  {
   "attachments": {},
   "cell_type": "markdown",
   "metadata": {},
   "source": [
    "# 1\\. 3등급 차량으로 유추되는 다수의 차량 확인\n",
    "- 인증번호 : 8MY-KM-13\n",
    "- 사용 데이터 : ODS \"CEG_EMIS_CERTI_VEH_MIG(배출가스 인증 자동차정보)\""
   ]
  },
  {
   "attachments": {},
   "cell_type": "markdown",
   "metadata": {},
   "source": [
    "## [로드] CEG_EMIS_CERTI_VEH_MIG(배출가스 인증 자동차정보)"
   ]
  },
  {
   "cell_type": "code",
   "execution_count": 9,
   "metadata": {},
   "outputs": [
    {
     "name": "stdout",
     "output_type": "stream",
     "text": [
      "<class 'pandas.core.frame.DataFrame'>\n",
      "RangeIndex: 109269 entries, 0 to 109268\n",
      "Data columns (total 25 columns):\n",
      " #   Column           Non-Null Count   Dtype  \n",
      "---  ------           --------------   -----  \n",
      " 0   EMIS_CRTCNO      109269 non-null  object \n",
      " 1   EMIS_CRTC_SNO    109269 non-null  int64  \n",
      " 2   VHCL_SNO         109269 non-null  object \n",
      " 3   VHCNM            109241 non-null  object \n",
      " 4   CAR_FRM          109181 non-null  object \n",
      " 5   VIN              72498 non-null   object \n",
      " 6   EMIS_VHCTY       84041 non-null   object \n",
      " 7   VHCL_YRIDNW      104332 non-null  float64\n",
      " 8   DRV_FRM          91142 non-null   object \n",
      " 9   PURPS            96950 non-null   object \n",
      " 10  GEARBOX_KND      108853 non-null  object \n",
      " 11  EMPV_WGHT        109166 non-null  object \n",
      " 12  TOT_WGHT         109027 non-null  object \n",
      " 13  EGINTY           108279 non-null  object \n",
      " 14  DSPLVL           108249 non-null  float64\n",
      " 15  FUEL             108746 non-null  object \n",
      " 16  EGINPWR          99675 non-null   object \n",
      " 17  VHCL_LT_INFO     102659 non-null  object \n",
      " 18  VHCL_WH_INFO     102662 non-null  object \n",
      " 19  VHCL_HG_INFO     102660 non-null  object \n",
      " 20  TKCAR_NMPR_INFO  82499 non-null   object \n",
      " 21  TIRE_MG_PRE_DTL  76202 non-null   object \n",
      " 22  TIRE_MG_RR_DTL   76172 non-null   object \n",
      " 23  RECP_FILE_NM     109265 non-null  object \n",
      " 24  STRE_DE          109265 non-null  object \n",
      "dtypes: float64(2), int64(1), object(22)\n",
      "memory usage: 20.8+ MB\n"
     ]
    }
   ],
   "source": [
    "ods_fold = 'D:/data/big2/ODS'\n",
    "name = 'CEG_EMIS_CERTI_VEH_MIG'\n",
    "file_name = f'ODS_{name}.csv'\n",
    "ods_path = os.path.join(ods_fold, file_name)\n",
    "\n",
    "emis = pd.read_csv(ods_path, low_memory=False)\n",
    "emis.info()"
   ]
  },
  {
   "attachments": {},
   "cell_type": "markdown",
   "metadata": {},
   "source": [
    "### [로드] 컬럼명"
   ]
  },
  {
   "cell_type": "code",
   "execution_count": 10,
   "metadata": {},
   "outputs": [
    {
     "data": {
      "text/html": [
       "<div>\n",
       "<style scoped>\n",
       "    .dataframe tbody tr th:only-of-type {\n",
       "        vertical-align: middle;\n",
       "    }\n",
       "\n",
       "    .dataframe tbody tr th {\n",
       "        vertical-align: top;\n",
       "    }\n",
       "\n",
       "    .dataframe thead th {\n",
       "        text-align: right;\n",
       "    }\n",
       "</style>\n",
       "<table border=\"1\" class=\"dataframe\">\n",
       "  <thead>\n",
       "    <tr style=\"text-align: right;\">\n",
       "      <th></th>\n",
       "      <th>컬럼</th>\n",
       "      <th>내용</th>\n",
       "    </tr>\n",
       "  </thead>\n",
       "  <tbody>\n",
       "    <tr>\n",
       "      <th>0</th>\n",
       "      <td>EMIS_VHCTY</td>\n",
       "      <td>배출가스 차종</td>\n",
       "    </tr>\n",
       "    <tr>\n",
       "      <th>1</th>\n",
       "      <td>EMPV_WGHT</td>\n",
       "      <td>공차중량</td>\n",
       "    </tr>\n",
       "    <tr>\n",
       "      <th>2</th>\n",
       "      <td>PURPS</td>\n",
       "      <td>용도</td>\n",
       "    </tr>\n",
       "    <tr>\n",
       "      <th>3</th>\n",
       "      <td>EMIS_CRTCNO</td>\n",
       "      <td>배출가스 인증번호</td>\n",
       "    </tr>\n",
       "    <tr>\n",
       "      <th>4</th>\n",
       "      <td>EMIS_CRTC_SNO</td>\n",
       "      <td>배출가스 인증 일련번호</td>\n",
       "    </tr>\n",
       "    <tr>\n",
       "      <th>5</th>\n",
       "      <td>DSPLVL</td>\n",
       "      <td>배기량</td>\n",
       "    </tr>\n",
       "    <tr>\n",
       "      <th>6</th>\n",
       "      <td>DRV_FRM</td>\n",
       "      <td>구동 형식</td>\n",
       "    </tr>\n",
       "    <tr>\n",
       "      <th>7</th>\n",
       "      <td>FUEL</td>\n",
       "      <td>연료</td>\n",
       "    </tr>\n",
       "    <tr>\n",
       "      <th>8</th>\n",
       "      <td>EGINTY</td>\n",
       "      <td>엔진형식</td>\n",
       "    </tr>\n",
       "    <tr>\n",
       "      <th>9</th>\n",
       "      <td>EGINPWR</td>\n",
       "      <td>엔진출력</td>\n",
       "    </tr>\n",
       "    <tr>\n",
       "      <th>10</th>\n",
       "      <td>VIN</td>\n",
       "      <td>차대번호</td>\n",
       "    </tr>\n",
       "    <tr>\n",
       "      <th>11</th>\n",
       "      <td>TKCAR_NMPR_INFO</td>\n",
       "      <td>승차 인원 정보</td>\n",
       "    </tr>\n",
       "    <tr>\n",
       "      <th>12</th>\n",
       "      <td>GEARBOX_KND</td>\n",
       "      <td>변속기 종류</td>\n",
       "    </tr>\n",
       "    <tr>\n",
       "      <th>13</th>\n",
       "      <td>STRE_DE</td>\n",
       "      <td>저장 일자</td>\n",
       "    </tr>\n",
       "    <tr>\n",
       "      <th>14</th>\n",
       "      <td>VHCL_LT_INFO</td>\n",
       "      <td>차량 길이 정보</td>\n",
       "    </tr>\n",
       "    <tr>\n",
       "      <th>15</th>\n",
       "      <td>VHCL_WH_INFO</td>\n",
       "      <td>차량 너비 정보</td>\n",
       "    </tr>\n",
       "    <tr>\n",
       "      <th>16</th>\n",
       "      <td>VHCL_HG_INFO</td>\n",
       "      <td>차량 높이 정보</td>\n",
       "    </tr>\n",
       "    <tr>\n",
       "      <th>17</th>\n",
       "      <td>VHCL_YRIDNW</td>\n",
       "      <td>차량 연식</td>\n",
       "    </tr>\n",
       "    <tr>\n",
       "      <th>18</th>\n",
       "      <td>VHCL_SNO</td>\n",
       "      <td>차량 일련번호</td>\n",
       "    </tr>\n",
       "    <tr>\n",
       "      <th>19</th>\n",
       "      <td>VHCNM</td>\n",
       "      <td>차명</td>\n",
       "    </tr>\n",
       "    <tr>\n",
       "      <th>20</th>\n",
       "      <td>TOT_WGHT</td>\n",
       "      <td>총 중량</td>\n",
       "    </tr>\n",
       "    <tr>\n",
       "      <th>21</th>\n",
       "      <td>CAR_FRM</td>\n",
       "      <td>자동차 형식</td>\n",
       "    </tr>\n",
       "    <tr>\n",
       "      <th>22</th>\n",
       "      <td>TIRE_MG_PRE_DTL</td>\n",
       "      <td>미정</td>\n",
       "    </tr>\n",
       "    <tr>\n",
       "      <th>23</th>\n",
       "      <td>TIRE_MG_RR_DTL</td>\n",
       "      <td>미정</td>\n",
       "    </tr>\n",
       "    <tr>\n",
       "      <th>24</th>\n",
       "      <td>RECP_FILE_NM</td>\n",
       "      <td>미정</td>\n",
       "    </tr>\n",
       "  </tbody>\n",
       "</table>\n",
       "</div>"
      ],
      "text/plain": [
       "                 컬럼            내용\n",
       "0        EMIS_VHCTY       배출가스 차종\n",
       "1         EMPV_WGHT          공차중량\n",
       "2             PURPS            용도\n",
       "3       EMIS_CRTCNO     배출가스 인증번호\n",
       "4     EMIS_CRTC_SNO  배출가스 인증 일련번호\n",
       "5            DSPLVL           배기량\n",
       "6           DRV_FRM         구동 형식\n",
       "7              FUEL            연료\n",
       "8            EGINTY          엔진형식\n",
       "9           EGINPWR          엔진출력\n",
       "10              VIN          차대번호\n",
       "11  TKCAR_NMPR_INFO      승차 인원 정보\n",
       "12      GEARBOX_KND        변속기 종류\n",
       "13          STRE_DE         저장 일자\n",
       "14     VHCL_LT_INFO      차량 길이 정보\n",
       "15     VHCL_WH_INFO      차량 너비 정보\n",
       "16     VHCL_HG_INFO      차량 높이 정보\n",
       "17      VHCL_YRIDNW         차량 연식\n",
       "18         VHCL_SNO       차량 일련번호\n",
       "19            VHCNM            차명\n",
       "20         TOT_WGHT          총 중량\n",
       "21          CAR_FRM        자동차 형식\n",
       "22  TIRE_MG_PRE_DTL            미정\n",
       "23   TIRE_MG_RR_DTL            미정\n",
       "24     RECP_FILE_NM            미정"
      ]
     },
     "execution_count": 10,
     "metadata": {},
     "output_type": "execute_result"
    }
   ],
   "source": [
    "col_fold = 'analysis/ODSvsSTD'\n",
    "file_name = f'[정제][ODS]{name}.xlsx'\n",
    "col_path = os.path.join(col_fold, file_name)\n",
    "\n",
    "col = pd.read_excel(col_path, sheet_name='ODS_col')\n",
    "col"
   ]
  },
  {
   "attachments": {},
   "cell_type": "markdown",
   "metadata": {},
   "source": [
    "### 컬럼명 한글화"
   ]
  },
  {
   "cell_type": "code",
   "execution_count": 11,
   "metadata": {},
   "outputs": [
    {
     "data": {
      "text/plain": [
       "{'EMIS_VHCTY': '배출가스 차종',\n",
       " 'EMPV_WGHT': '공차중량',\n",
       " 'PURPS': '용도',\n",
       " 'EMIS_CRTCNO': '배출가스 인증번호',\n",
       " 'EMIS_CRTC_SNO': '배출가스 인증 일련번호'}"
      ]
     },
     "execution_count": 11,
     "metadata": {},
     "output_type": "execute_result"
    }
   ],
   "source": [
    "col_dict = {a:b for a, b in zip(col['컬럼'], col['내용'])}\n",
    "dict(list(col_dict.items())[:5])"
   ]
  },
  {
   "cell_type": "code",
   "execution_count": 12,
   "metadata": {},
   "outputs": [
    {
     "data": {
      "text/plain": [
       "['배출가스 인증번호',\n",
       " '배출가스 인증 일련번호',\n",
       " '차량 일련번호',\n",
       " '차명',\n",
       " '자동차 형식',\n",
       " '차대번호',\n",
       " '배출가스 차종',\n",
       " '차량 연식',\n",
       " '구동 형식',\n",
       " '용도',\n",
       " '변속기 종류',\n",
       " '공차중량',\n",
       " '총 중량',\n",
       " '엔진형식',\n",
       " '배기량',\n",
       " '연료',\n",
       " '엔진출력',\n",
       " '차량 길이 정보',\n",
       " '차량 너비 정보',\n",
       " '차량 높이 정보',\n",
       " '승차 인원 정보',\n",
       " '미정',\n",
       " '미정',\n",
       " '미정',\n",
       " '저장 일자']"
      ]
     },
     "execution_count": 12,
     "metadata": {},
     "output_type": "execute_result"
    }
   ],
   "source": [
    "col_list = [col_dict[x] for x in emis.columns]\n",
    "col_list"
   ]
  },
  {
   "cell_type": "code",
   "execution_count": 13,
   "metadata": {},
   "outputs": [
    {
     "name": "stdout",
     "output_type": "stream",
     "text": [
      "<class 'pandas.core.frame.DataFrame'>\n",
      "RangeIndex: 109269 entries, 0 to 109268\n",
      "Data columns (total 25 columns):\n",
      " #   Column        Non-Null Count   Dtype  \n",
      "---  ------        --------------   -----  \n",
      " 0   배출가스 인증번호     109269 non-null  object \n",
      " 1   배출가스 인증 일련번호  109269 non-null  int64  \n",
      " 2   차량 일련번호       109269 non-null  object \n",
      " 3   차명            109241 non-null  object \n",
      " 4   자동차 형식        109181 non-null  object \n",
      " 5   차대번호          72498 non-null   object \n",
      " 6   배출가스 차종       84041 non-null   object \n",
      " 7   차량 연식         104332 non-null  float64\n",
      " 8   구동 형식         91142 non-null   object \n",
      " 9   용도            96950 non-null   object \n",
      " 10  변속기 종류        108853 non-null  object \n",
      " 11  공차중량          109166 non-null  object \n",
      " 12  총 중량          109027 non-null  object \n",
      " 13  엔진형식          108279 non-null  object \n",
      " 14  배기량           108249 non-null  float64\n",
      " 15  연료            108746 non-null  object \n",
      " 16  엔진출력          99675 non-null   object \n",
      " 17  차량 길이 정보      102659 non-null  object \n",
      " 18  차량 너비 정보      102662 non-null  object \n",
      " 19  차량 높이 정보      102660 non-null  object \n",
      " 20  승차 인원 정보      82499 non-null   object \n",
      " 21  미정            76202 non-null   object \n",
      " 22  미정            76172 non-null   object \n",
      " 23  미정            109265 non-null  object \n",
      " 24  저장 일자         109265 non-null  object \n",
      "dtypes: float64(2), int64(1), object(22)\n",
      "memory usage: 20.8+ MB\n"
     ]
    }
   ],
   "source": [
    "emis.columns = col_list\n",
    "emis.info()"
   ]
  },
  {
   "attachments": {},
   "cell_type": "markdown",
   "metadata": {},
   "source": [
    "## 해당 인증번호 정보 확인\n",
    "- 인증번호 : 8MY-KM-13 (❌)\n",
    "    - 8MY-KM-13 포함한 1개만 존재\n",
    "- 인증번호 : 8MY-KM-13-19 (⭕)"
   ]
  },
  {
   "cell_type": "code",
   "execution_count": 14,
   "metadata": {},
   "outputs": [
    {
     "data": {
      "text/html": [
       "<div>\n",
       "<style scoped>\n",
       "    .dataframe tbody tr th:only-of-type {\n",
       "        vertical-align: middle;\n",
       "    }\n",
       "\n",
       "    .dataframe tbody tr th {\n",
       "        vertical-align: top;\n",
       "    }\n",
       "\n",
       "    .dataframe thead th {\n",
       "        text-align: right;\n",
       "    }\n",
       "</style>\n",
       "<table border=\"1\" class=\"dataframe\">\n",
       "  <thead>\n",
       "    <tr style=\"text-align: right;\">\n",
       "      <th></th>\n",
       "      <th>배출가스 인증번호</th>\n",
       "      <th>배출가스 인증 일련번호</th>\n",
       "      <th>차량 일련번호</th>\n",
       "      <th>차명</th>\n",
       "      <th>자동차 형식</th>\n",
       "      <th>차대번호</th>\n",
       "      <th>배출가스 차종</th>\n",
       "      <th>차량 연식</th>\n",
       "      <th>구동 형식</th>\n",
       "      <th>용도</th>\n",
       "      <th>...</th>\n",
       "      <th>연료</th>\n",
       "      <th>엔진출력</th>\n",
       "      <th>차량 길이 정보</th>\n",
       "      <th>차량 너비 정보</th>\n",
       "      <th>차량 높이 정보</th>\n",
       "      <th>승차 인원 정보</th>\n",
       "      <th>미정</th>\n",
       "      <th>미정</th>\n",
       "      <th>미정</th>\n",
       "      <th>저장 일자</th>\n",
       "    </tr>\n",
       "  </thead>\n",
       "  <tbody>\n",
       "  </tbody>\n",
       "</table>\n",
       "<p>0 rows × 25 columns</p>\n",
       "</div>"
      ],
      "text/plain": [
       "Empty DataFrame\n",
       "Columns: [배출가스 인증번호, 배출가스 인증 일련번호, 차량 일련번호, 차명, 자동차 형식, 차대번호, 배출가스 차종, 차량 연식, 구동 형식, 용도, 변속기 종류, 공차중량, 총 중량, 엔진형식, 배기량, 연료, 엔진출력, 차량 길이 정보, 차량 너비 정보, 차량 높이 정보, 승차 인원 정보, 미정, 미정, 미정, 저장 일자]\n",
       "Index: []\n",
       "\n",
       "[0 rows x 25 columns]"
      ]
     },
     "execution_count": 14,
     "metadata": {},
     "output_type": "execute_result"
    }
   ],
   "source": [
    "emis[emis['배출가스 인증번호'] == '8MY-KM-13']"
   ]
  },
  {
   "cell_type": "code",
   "execution_count": 15,
   "metadata": {},
   "outputs": [
    {
     "data": {
      "text/html": [
       "<div>\n",
       "<style scoped>\n",
       "    .dataframe tbody tr th:only-of-type {\n",
       "        vertical-align: middle;\n",
       "    }\n",
       "\n",
       "    .dataframe tbody tr th {\n",
       "        vertical-align: top;\n",
       "    }\n",
       "\n",
       "    .dataframe thead th {\n",
       "        text-align: right;\n",
       "    }\n",
       "</style>\n",
       "<table border=\"1\" class=\"dataframe\">\n",
       "  <thead>\n",
       "    <tr style=\"text-align: right;\">\n",
       "      <th></th>\n",
       "      <th>배출가스 인증번호</th>\n",
       "      <th>배출가스 인증 일련번호</th>\n",
       "      <th>차량 일련번호</th>\n",
       "      <th>차명</th>\n",
       "      <th>자동차 형식</th>\n",
       "      <th>차대번호</th>\n",
       "      <th>배출가스 차종</th>\n",
       "      <th>차량 연식</th>\n",
       "      <th>구동 형식</th>\n",
       "      <th>용도</th>\n",
       "      <th>...</th>\n",
       "      <th>연료</th>\n",
       "      <th>엔진출력</th>\n",
       "      <th>차량 길이 정보</th>\n",
       "      <th>차량 너비 정보</th>\n",
       "      <th>차량 높이 정보</th>\n",
       "      <th>승차 인원 정보</th>\n",
       "      <th>미정</th>\n",
       "      <th>미정</th>\n",
       "      <th>미정</th>\n",
       "      <th>저장 일자</th>\n",
       "    </tr>\n",
       "  </thead>\n",
       "  <tbody>\n",
       "    <tr>\n",
       "      <th>3603</th>\n",
       "      <td>8MY-KM-13-19</td>\n",
       "      <td>0</td>\n",
       "      <td>000</td>\n",
       "      <td>봉고1톤초장축 수퍼캡</td>\n",
       "      <td>PU1.0-29D-L6-SE-2W5M</td>\n",
       "      <td>NaN</td>\n",
       "      <td>FM</td>\n",
       "      <td>NaN</td>\n",
       "      <td>NaN</td>\n",
       "      <td>NaN</td>\n",
       "      <td>...</td>\n",
       "      <td>DS</td>\n",
       "      <td>126</td>\n",
       "      <td>NaN</td>\n",
       "      <td>NaN</td>\n",
       "      <td>NaN</td>\n",
       "      <td>NaN</td>\n",
       "      <td>NaN</td>\n",
       "      <td>NaN</td>\n",
       "      <td>초기데이터</td>\n",
       "      <td>19/06/28</td>\n",
       "    </tr>\n",
       "  </tbody>\n",
       "</table>\n",
       "<p>1 rows × 25 columns</p>\n",
       "</div>"
      ],
      "text/plain": [
       "         배출가스 인증번호  배출가스 인증 일련번호 차량 일련번호           차명                자동차 형식  \\\n",
       "3603  8MY-KM-13-19             0     000  봉고1톤초장축 수퍼캡  PU1.0-29D-L6-SE-2W5M   \n",
       "\n",
       "     차대번호 배출가스 차종  차량 연식 구동 형식   용도  ...  연료 엔진출력 차량 길이 정보 차량 너비 정보  차량 높이 정보  \\\n",
       "3603  NaN      FM    NaN   NaN  NaN  ...  DS  126      NaN      NaN       NaN   \n",
       "\n",
       "     승차 인원 정보   미정   미정     미정     저장 일자  \n",
       "3603      NaN  NaN  NaN  초기데이터  19/06/28  \n",
       "\n",
       "[1 rows x 25 columns]"
      ]
     },
     "execution_count": 15,
     "metadata": {},
     "output_type": "execute_result"
    }
   ],
   "source": [
    "emis[emis['배출가스 인증번호'] == '8MY-KM-13-19']"
   ]
  },
  {
   "cell_type": "code",
   "execution_count": 16,
   "metadata": {},
   "outputs": [
    {
     "name": "stdout",
     "output_type": "stream",
     "text": [
      "8MY-KM-13-19\n"
     ]
    }
   ],
   "source": [
    "emis_no = '8MY-KM-13'\n",
    "for one in emis['배출가스 인증번호']:\n",
    "    if emis_no in one:\n",
    "        print(one)"
   ]
  },
  {
   "attachments": {},
   "cell_type": "markdown",
   "metadata": {},
   "source": [
    "### [로드] 등록정보&제원정보"
   ]
  },
  {
   "cell_type": "code",
   "execution_count": 9,
   "metadata": {},
   "outputs": [
    {
     "ename": "",
     "evalue": "",
     "output_type": "error",
     "traceback": [
      "\u001b[1;31mCanceled future for execute_request message before replies were done"
     ]
    },
    {
     "ename": "",
     "evalue": "",
     "output_type": "error",
     "traceback": [
      "\u001b[1;31m현재 셀 또는 이전 셀에서 코드를 실행하는 동안 Kernel이 충돌했습니다. 셀의 코드를 검토하여 오류의 가능한 원인을 식별하세요. 자세한 내용을 보려면 <a href='https://aka.ms/vscodeJupyterKernelCrash'> 여기 </a> 를 클릭하세요. 자세한 내용은 Jupyter <a href='command:jupyter.viewOutput'>로그</a>를 참조하세요."
     ]
    }
   ],
   "source": [
    "# about \n",
    "file_name = '[ODS]등록정보&제원정보(말소제거)(한글컬럼)(2022.12.29).csv'\n",
    "car_path = os.path.join(ods_fold, file_name)\n",
    "car = pd.read_csv(car_path, low_memory=False, encoding='cp949')\n",
    "car.info()"
   ]
  },
  {
   "attachments": {},
   "cell_type": "markdown",
   "metadata": {},
   "source": [
    "### [로드] [G4]등록정보&제원정보"
   ]
  },
  {
   "cell_type": "code",
   "execution_count": 3,
   "metadata": {},
   "outputs": [
    {
     "name": "stdout",
     "output_type": "stream",
     "text": [
      "<class 'pandas.core.frame.DataFrame'>\n",
      "RangeIndex: 1511139 entries, 0 to 1511138\n",
      "Data columns (total 49 columns):\n",
      " #   Column        Non-Null Count    Dtype  \n",
      "---  ------        --------------    -----  \n",
      " 0   차량관리번호        1511139 non-null  object \n",
      " 1   차량등록번호        1511139 non-null  object \n",
      " 2   본거지법정동코드      1511139 non-null  int64  \n",
      " 3   소유자구분         1511139 non-null  object \n",
      " 4   차종_등록정보       1511137 non-null  object \n",
      " 5   용도            1511139 non-null  object \n",
      " 6   현재회원번호        1510300 non-null  object \n",
      " 7   차대번호          1511139 non-null  object \n",
      " 8   최초등록일자        1511139 non-null  int64  \n",
      " 9   차량연식          1511139 non-null  int64  \n",
      " 10  차량제작일자        1342367 non-null  float64\n",
      " 11  배출가스검사유효일자    1511127 non-null  float64\n",
      " 12  제원관리번호        1511139 non-null  object \n",
      " 13  배출가스인증번호      1387441 non-null  object \n",
      " 14  배출가스등급        1511139 non-null  object \n",
      " 15  저공해조치YN(미사용)  1510984 non-null  object \n",
      " 16  저공해조치종류       189 non-null      float64\n",
      " 17  저공해조치구조변경YN   1511139 non-null  object \n",
      " 18  차량등록번호숫자정보    1511139 non-null  int64  \n",
      " 19  차량말소YN        1511139 non-null  object \n",
      " 20  최초회원번호        1506484 non-null  object \n",
      " 21  취득일자          1417927 non-null  object \n",
      " 22  취득금액          1436738 non-null  float64\n",
      " 23  생성일시_등록정보     1511139 non-null  object \n",
      " 24  수정일시_등록정보     914957 non-null   object \n",
      " 25  차명            1511139 non-null  object \n",
      " 26  차종_제원정보       1511139 non-null  object \n",
      " 27  차종분류          1511139 non-null  object \n",
      " 28  차종유형(소분류)     1511139 non-null  object \n",
      " 29  자동차형식         1510611 non-null  object \n",
      " 30  제작사명          1501112 non-null  object \n",
      " 31  연료            1511068 non-null  object \n",
      " 32  엔진형식          1509138 non-null  object \n",
      " 33  공차중량          0 non-null        float64\n",
      " 34  총중량           1511114 non-null  float64\n",
      " 35  적재중량          1510602 non-null  float64\n",
      " 36  엔진출력          1510511 non-null  float64\n",
      " 37  배기량           1511128 non-null  float64\n",
      " 38  승차인원          1511139 non-null  float64\n",
      " 39  차량길이          1511064 non-null  float64\n",
      " 40  차량너비          1511064 non-null  float64\n",
      " 41  차량높이          1511062 non-null  float64\n",
      " 42  원산지명          1492014 non-null  object \n",
      " 43  삭제YN          1511139 non-null  object \n",
      " 44  승인일자          1510592 non-null  object \n",
      " 45  구동형식          47 non-null       float64\n",
      " 46  변속기종류         1510979 non-null  object \n",
      " 47  생성일시_제원정보     1511139 non-null  object \n",
      " 48  수정일시_제원정보     497 non-null      object \n",
      "dtypes: float64(14), int64(4), object(31)\n",
      "memory usage: 564.9+ MB\n"
     ]
    }
   ],
   "source": [
    "# about 30s\n",
    "file_name = '[ODS][G4]등록정보&제원정보(말소제거)(중복차대제거)(한글컬럼)(2022.12.29).csv'\n",
    "car_path = os.path.join(ods_fold, file_name)\n",
    "car4 = pd.read_csv(car_path, low_memory=False)\n",
    "car4.info()"
   ]
  },
  {
   "cell_type": "code",
   "execution_count": 4,
   "metadata": {},
   "outputs": [
    {
     "data": {
      "text/plain": [
       "Index(['차량관리번호', '차량등록번호', '본거지법정동코드', '소유자구분', '차종_등록정보', '용도', '현재회원번호',\n",
       "       '차대번호', '최초등록일자', '차량연식', '차량제작일자', '배출가스검사유효일자', '제원관리번호', '배출가스인증번호',\n",
       "       '배출가스등급', '저공해조치YN(미사용)', '저공해조치종류', '저공해조치구조변경YN', '차량등록번호숫자정보',\n",
       "       '차량말소YN', '최초회원번호', '취득일자', '취득금액', '생성일시_등록정보', '수정일시_등록정보', '차명',\n",
       "       '차종_제원정보', '차종분류', '차종유형(소분류)', '자동차형식', '제작사명', '연료', '엔진형식', '공차중량',\n",
       "       '총중량', '적재중량', '엔진출력', '배기량', '승차인원', '차량길이', '차량너비', '차량높이', '원산지명',\n",
       "       '삭제YN', '승인일자', '구동형식', '변속기종류', '생성일시_제원정보', '수정일시_제원정보'],\n",
       "      dtype='object')"
      ]
     },
     "execution_count": 4,
     "metadata": {},
     "output_type": "execute_result"
    }
   ],
   "source": [
    "car4.columns"
   ]
  },
  {
   "cell_type": "code",
   "execution_count": 127,
   "metadata": {},
   "outputs": [
    {
     "data": {
      "text/plain": [
       "(92265, 49)"
      ]
     },
     "execution_count": 127,
     "metadata": {},
     "output_type": "execute_result"
    }
   ],
   "source": [
    "emis_no = '8MY-KM-13-19'\n",
    "cond1 = car4[car4['배출가스인증번호'] == emis_no]\n",
    "cond1.shape"
   ]
  },
  {
   "cell_type": "code",
   "execution_count": 128,
   "metadata": {},
   "outputs": [
    {
     "data": {
      "text/plain": [
       "array(['봉고Ⅲ 1톤', '봉고Ⅲ 4륜구동', '봉고Ⅲ 운교차', '평강봉고Ⅲ렉커', '삼오봉고홈로리', '삼오봉고4륜홈로리',\n",
       "       '봉고Ⅲ 냉동차', '봉고Ⅲ 내장차', '봉고Ⅲ 일반덤프', '봉고Ⅲ 플러스내장차', '봉고Ⅲ 보냉차',\n",
       "       '봉고Ⅲ 파워게이트', '봉고Ⅲ 3방덤프', '봉고Ⅲ 워크스루밴', '봉고Ⅲ 윙바디', '봉고Ⅲ 홈로리',\n",
       "       '봉고Ⅲ 플러스냉동차', '봉고Ⅲ 냉장차', '봉고Ⅲ 다용도탑차', '봉고Ⅲ 활어수송차', '봉고Ⅲ 냉온장차',\n",
       "       '수성 봉고3 언더리프트', '삼오봉고탱크로리', '봉고Ⅲ활어수송차', '고호1.0톤이삿짐사다리차',\n",
       "       '평강봉고렉커4륜', '드림사다리차', '호룡 엘리카 고가사다리차', '봉고Ⅲ크레인', '평강이삿짐사다리차',\n",
       "       '대진홈로리', '드림 사다리차', '천하 사다리차', '평강봉고렉커', '에코다목적방제차', '봉고Ⅲ 원박스냉동차',\n",
       "       '금강홈로리', 'KJM렉커', '다산고소작업차', '동아홈로리', '한아방제차', '라헬4륜내장탑차',\n",
       "       '반도크레인탑차', '동해10M고소작업차-0801', '에스알중계차'], dtype=object)"
      ]
     },
     "execution_count": 128,
     "metadata": {},
     "output_type": "execute_result"
    }
   ],
   "source": [
    "car4[car4['배출가스인증번호'] == emis_no]['차명'].unique()"
   ]
  },
  {
   "cell_type": "code",
   "execution_count": 41,
   "metadata": {},
   "outputs": [
    {
     "data": {
      "text/plain": [
       "(55824, 49)"
      ]
     },
     "execution_count": 41,
     "metadata": {},
     "output_type": "execute_result"
    }
   ],
   "source": [
    "car4[(car4['배출가스인증번호'] == emis_no) & (car4['차명'] == '봉고Ⅲ 1톤')].shape"
   ]
  },
  {
   "cell_type": "code",
   "execution_count": 42,
   "metadata": {},
   "outputs": [
    {
     "data": {
      "text/plain": [
       "(92265, 1)"
      ]
     },
     "execution_count": 42,
     "metadata": {},
     "output_type": "execute_result"
    }
   ],
   "source": [
    "emis_no = '8MY-KM-13'\n",
    "temp = []\n",
    "for one in car4['배출가스인증번호']:\n",
    "    if emis_no in str(one):\n",
    "        temp.append(one)\n",
    "len(temp), len(set(temp))"
   ]
  },
  {
   "cell_type": "code",
   "execution_count": 59,
   "metadata": {},
   "outputs": [
    {
     "data": {
      "text/plain": [
       "array(['KNCSE01428K315472', 'KNCSE03429K378300', 'KNCSE26458K323877', ...,\n",
       "       'KNCSE03428K293267', 'KNCSE06438K293750', 'KNCSE26458K293991'],\n",
       "      dtype=object)"
      ]
     },
     "execution_count": 59,
     "metadata": {},
     "output_type": "execute_result"
    }
   ],
   "source": [
    "cond1['차대번호'].unique()"
   ]
  },
  {
   "attachments": {},
   "cell_type": "markdown",
   "metadata": {},
   "source": [
    "### [로드] [G3]등록정보&제원정보"
   ]
  },
  {
   "cell_type": "code",
   "execution_count": 129,
   "metadata": {},
   "outputs": [
    {
     "name": "stdout",
     "output_type": "stream",
     "text": [
      "<class 'pandas.core.frame.DataFrame'>\n",
      "RangeIndex: 8759209 entries, 0 to 8759208\n",
      "Data columns (total 49 columns):\n",
      " #   Column        Dtype  \n",
      "---  ------        -----  \n",
      " 0   차량관리번호        object \n",
      " 1   차량등록번호        object \n",
      " 2   본거지법정동코드      int64  \n",
      " 3   소유자구분         object \n",
      " 4   차종_등록정보       object \n",
      " 5   용도            object \n",
      " 6   현재회원번호        object \n",
      " 7   차대번호          object \n",
      " 8   최초등록일자        int64  \n",
      " 9   차량연식          int64  \n",
      " 10  차량제작일자        float64\n",
      " 11  배출가스검사유효일자    float64\n",
      " 12  제원관리번호        object \n",
      " 13  배출가스인증번호      object \n",
      " 14  배출가스등급        object \n",
      " 15  저공해조치YN(미사용)  object \n",
      " 16  저공해조치종류       float64\n",
      " 17  저공해조치구조변경YN   object \n",
      " 18  차량등록번호숫자정보    int64  \n",
      " 19  차량말소YN        object \n",
      " 20  최초회원번호        object \n",
      " 21  취득일자          float64\n",
      " 22  취득금액          float64\n",
      " 23  생성일시_등록정보     object \n",
      " 24  수정일시_등록정보     object \n",
      " 25  차명            object \n",
      " 26  차종_제원정보       object \n",
      " 27  차종분류          object \n",
      " 28  차종유형(소분류)     object \n",
      " 29  자동차형식         object \n",
      " 30  제작사명          object \n",
      " 31  연료            object \n",
      " 32  엔진형식          object \n",
      " 33  공차중량          float64\n",
      " 34  총중량           float64\n",
      " 35  적재중량          float64\n",
      " 36  엔진출력          float64\n",
      " 37  배기량           float64\n",
      " 38  승차인원          float64\n",
      " 39  차량길이          float64\n",
      " 40  차량너비          float64\n",
      " 41  차량높이          float64\n",
      " 42  원산지명          object \n",
      " 43  삭제YN          object \n",
      " 44  승인일자          float64\n",
      " 45  구동형식          float64\n",
      " 46  변속기종류         object \n",
      " 47  생성일시_제원정보     object \n",
      " 48  수정일시_제원정보     object \n",
      "dtypes: float64(16), int64(4), object(29)\n",
      "memory usage: 3.2+ GB\n"
     ]
    }
   ],
   "source": [
    "# about 2m 10s\n",
    "file_name = '[ODS][G3]등록정보&제원정보(말소제거)(중복차대제거)(한글컬럼)(2022.12.29).csv'\n",
    "car_path = os.path.join(ods_fold, file_name)\n",
    "car3 = pd.read_csv(car_path, low_memory=False)\n",
    "car3.info()"
   ]
  },
  {
   "cell_type": "code",
   "execution_count": 130,
   "metadata": {},
   "outputs": [
    {
     "data": {
      "text/plain": [
       "(4790, 49)"
      ]
     },
     "execution_count": 130,
     "metadata": {},
     "output_type": "execute_result"
    }
   ],
   "source": [
    "emis_no = '8MY-KM-13-19'\n",
    "cond2 = car3[car3['배출가스인증번호'] == emis_no]\n",
    "cond2.shape"
   ]
  },
  {
   "cell_type": "code",
   "execution_count": 131,
   "metadata": {},
   "outputs": [
    {
     "data": {
      "text/plain": [
       "array(['봉고Ⅲ 1톤', '봉고Ⅲ 파워게이트'], dtype=object)"
      ]
     },
     "execution_count": 131,
     "metadata": {},
     "output_type": "execute_result"
    }
   ],
   "source": [
    "cond2['차명'].unique()"
   ]
  },
  {
   "cell_type": "code",
   "execution_count": 132,
   "metadata": {},
   "outputs": [
    {
     "data": {
      "text/plain": [
       "(4600, 49)"
      ]
     },
     "execution_count": 132,
     "metadata": {},
     "output_type": "execute_result"
    }
   ],
   "source": [
    "car3[(car3['배출가스인증번호'] == emis_no) & (car3['차명'] == '봉고Ⅲ 1톤')].shape"
   ]
  },
  {
   "cell_type": "code",
   "execution_count": 60,
   "metadata": {},
   "outputs": [
    {
     "data": {
      "text/plain": [
       "array(['KNCSJZ74AAK481682', 'KNFSE04429K373147', 'KNCSGX74BBK538164', ...,\n",
       "       'KN90J4MDD9AZ00006', 'KNFSE04429K349821', 'KNFSE04429K349853'],\n",
       "      dtype=object)"
      ]
     },
     "execution_count": 60,
     "metadata": {},
     "output_type": "execute_result"
    }
   ],
   "source": [
    "cond2['차대번호'].unique()"
   ]
  },
  {
   "attachments": {},
   "cell_type": "markdown",
   "metadata": {},
   "source": [
    "### [로드] 정기검사"
   ]
  },
  {
   "attachments": {},
   "cell_type": "markdown",
   "metadata": {},
   "source": [
    "#### columns"
   ]
  },
  {
   "cell_type": "code",
   "execution_count": 89,
   "metadata": {},
   "outputs": [],
   "source": [
    "name = 'TB_JGT_HIS'\n",
    "file_name = f'[정제]{name}.xlsx'\n",
    "col_exc = pd.read_excel(f'analysis/ODSvsSTD/{file_name}', sheet_name='ODS_col')"
   ]
  },
  {
   "cell_type": "code",
   "execution_count": 90,
   "metadata": {},
   "outputs": [
    {
     "data": {
      "text/html": [
       "<div>\n",
       "<style scoped>\n",
       "    .dataframe tbody tr th:only-of-type {\n",
       "        vertical-align: middle;\n",
       "    }\n",
       "\n",
       "    .dataframe tbody tr th {\n",
       "        vertical-align: top;\n",
       "    }\n",
       "\n",
       "    .dataframe thead th {\n",
       "        text-align: right;\n",
       "    }\n",
       "</style>\n",
       "<table border=\"1\" class=\"dataframe\">\n",
       "  <thead>\n",
       "    <tr style=\"text-align: right;\">\n",
       "      <th></th>\n",
       "      <th>컬럼</th>\n",
       "      <th>내용</th>\n",
       "    </tr>\n",
       "  </thead>\n",
       "  <tbody>\n",
       "    <tr>\n",
       "      <th>0</th>\n",
       "      <td>CAR_FUEL_NM</td>\n",
       "      <td>사용연료</td>\n",
       "    </tr>\n",
       "    <tr>\n",
       "      <th>1</th>\n",
       "      <td>CAR_MILE</td>\n",
       "      <td>주행거리</td>\n",
       "    </tr>\n",
       "    <tr>\n",
       "      <th>2</th>\n",
       "      <td>CAR_NM</td>\n",
       "      <td>차명</td>\n",
       "    </tr>\n",
       "    <tr>\n",
       "      <th>3</th>\n",
       "      <td>CAR_REG_NO</td>\n",
       "      <td>차량번호</td>\n",
       "    </tr>\n",
       "    <tr>\n",
       "      <th>4</th>\n",
       "      <td>CAR_SER_NO</td>\n",
       "      <td>차대번호</td>\n",
       "    </tr>\n",
       "    <tr>\n",
       "      <th>...</th>\n",
       "      <td>...</td>\n",
       "      <td>...</td>\n",
       "    </tr>\n",
       "    <tr>\n",
       "      <th>58</th>\n",
       "      <td>FUN_CHKR_NM</td>\n",
       "      <td>미정</td>\n",
       "    </tr>\n",
       "    <tr>\n",
       "      <th>59</th>\n",
       "      <td>SMO_CHKR_NM</td>\n",
       "      <td>미정</td>\n",
       "    </tr>\n",
       "    <tr>\n",
       "      <th>60</th>\n",
       "      <td>MNG_CHKR_NM</td>\n",
       "      <td>미정</td>\n",
       "    </tr>\n",
       "    <tr>\n",
       "      <th>61</th>\n",
       "      <td>DT_GUBUN</td>\n",
       "      <td>미정</td>\n",
       "    </tr>\n",
       "    <tr>\n",
       "      <th>62</th>\n",
       "      <td>FILE_NM</td>\n",
       "      <td>미정</td>\n",
       "    </tr>\n",
       "  </tbody>\n",
       "</table>\n",
       "<p>63 rows × 2 columns</p>\n",
       "</div>"
      ],
      "text/plain": [
       "             컬럼    내용\n",
       "0   CAR_FUEL_NM  사용연료\n",
       "1      CAR_MILE  주행거리\n",
       "2        CAR_NM    차명\n",
       "3    CAR_REG_NO  차량번호\n",
       "4    CAR_SER_NO  차대번호\n",
       "..          ...   ...\n",
       "58  FUN_CHKR_NM    미정\n",
       "59  SMO_CHKR_NM    미정\n",
       "60  MNG_CHKR_NM    미정\n",
       "61     DT_GUBUN    미정\n",
       "62      FILE_NM    미정\n",
       "\n",
       "[63 rows x 2 columns]"
      ]
     },
     "execution_count": 90,
     "metadata": {},
     "output_type": "execute_result"
    }
   ],
   "source": [
    "col_exc"
   ]
  },
  {
   "cell_type": "code",
   "execution_count": 91,
   "metadata": {},
   "outputs": [
    {
     "data": {
      "text/plain": [
       "['사용연료',\n",
       " '주행거리',\n",
       " '차명',\n",
       " '차량번호',\n",
       " '차대번호',\n",
       " '차종',\n",
       " '차량연식',\n",
       " '검사방법',\n",
       " '이산화탄소값',\n",
       " '최대출력허용치',\n",
       " '최대출력측정값',\n",
       " '엔진형식',\n",
       " '검사접수번호',\n",
       " '정기검사일자',\n",
       " '검사종류',\n",
       " '검사소명',\n",
       " '검사판정시각',\n",
       " '정기검사판정',\n",
       " '산소값',\n",
       " '재검사기간',\n",
       " '무부하매연판정1',\n",
       " '무부하매연판정2',\n",
       " '무부하매연판정3',\n",
       " '무부하매연판정4',\n",
       " '무부하매연판정5',\n",
       " '무부하매연판정6',\n",
       " '무부하매연허용치1',\n",
       " '무부하매연허용치2',\n",
       " '무부하매연허용치3',\n",
       " '무부하매연허용치4',\n",
       " '무부하매연허용치5',\n",
       " '무부하매연허용치6',\n",
       " '무부하매연측정치1',\n",
       " '무부하매연측정치2',\n",
       " '무부하매연측정치3',\n",
       " '무부하매연측정치4',\n",
       " '무부하매연측정치5',\n",
       " '무부하매연측정치6',\n",
       " '차량용도',\n",
       " '미정',\n",
       " '미정',\n",
       " '미정',\n",
       " '미정',\n",
       " '미정',\n",
       " '미정',\n",
       " '미정',\n",
       " '미정',\n",
       " '미정',\n",
       " '미정',\n",
       " '미정',\n",
       " '미정',\n",
       " '미정',\n",
       " '미정',\n",
       " '미정',\n",
       " '미정',\n",
       " '미정',\n",
       " '미정',\n",
       " '미정',\n",
       " '미정',\n",
       " '미정',\n",
       " '미정',\n",
       " '미정',\n",
       " '미정']"
      ]
     },
     "execution_count": 91,
     "metadata": {},
     "output_type": "execute_result"
    }
   ],
   "source": [
    "col_exc['내용'].to_list()"
   ]
  },
  {
   "cell_type": "code",
   "execution_count": 92,
   "metadata": {},
   "outputs": [
    {
     "data": {
      "text/html": [
       "<div>\n",
       "<style scoped>\n",
       "    .dataframe tbody tr th:only-of-type {\n",
       "        vertical-align: middle;\n",
       "    }\n",
       "\n",
       "    .dataframe tbody tr th {\n",
       "        vertical-align: top;\n",
       "    }\n",
       "\n",
       "    .dataframe thead th {\n",
       "        text-align: right;\n",
       "    }\n",
       "</style>\n",
       "<table border=\"1\" class=\"dataframe\">\n",
       "  <thead>\n",
       "    <tr style=\"text-align: right;\">\n",
       "      <th></th>\n",
       "      <th>컬럼</th>\n",
       "      <th>내용</th>\n",
       "    </tr>\n",
       "  </thead>\n",
       "  <tbody>\n",
       "    <tr>\n",
       "      <th>0</th>\n",
       "      <td>CAR_FUEL_NM</td>\n",
       "      <td>사용연료</td>\n",
       "    </tr>\n",
       "    <tr>\n",
       "      <th>1</th>\n",
       "      <td>CAR_MILE</td>\n",
       "      <td>주행거리</td>\n",
       "    </tr>\n",
       "    <tr>\n",
       "      <th>2</th>\n",
       "      <td>CAR_NM</td>\n",
       "      <td>차명</td>\n",
       "    </tr>\n",
       "    <tr>\n",
       "      <th>3</th>\n",
       "      <td>CAR_REG_NO</td>\n",
       "      <td>차량번호</td>\n",
       "    </tr>\n",
       "    <tr>\n",
       "      <th>4</th>\n",
       "      <td>CAR_SER_NO</td>\n",
       "      <td>차대번호</td>\n",
       "    </tr>\n",
       "    <tr>\n",
       "      <th>5</th>\n",
       "      <td>CAR_TYPE_NM</td>\n",
       "      <td>차종</td>\n",
       "    </tr>\n",
       "    <tr>\n",
       "      <th>6</th>\n",
       "      <td>CAR_YEAR</td>\n",
       "      <td>차량연식</td>\n",
       "    </tr>\n",
       "    <tr>\n",
       "      <th>7</th>\n",
       "      <td>CHK_METHOD</td>\n",
       "      <td>검사방법</td>\n",
       "    </tr>\n",
       "    <tr>\n",
       "      <th>8</th>\n",
       "      <td>CO2_VAL</td>\n",
       "      <td>이산화탄소값</td>\n",
       "    </tr>\n",
       "    <tr>\n",
       "      <th>9</th>\n",
       "      <td>ENGINE_TOR_LIM</td>\n",
       "      <td>최대출력허용치</td>\n",
       "    </tr>\n",
       "    <tr>\n",
       "      <th>10</th>\n",
       "      <td>ENGINE_TOR_VAL</td>\n",
       "      <td>최대출력측정값</td>\n",
       "    </tr>\n",
       "    <tr>\n",
       "      <th>11</th>\n",
       "      <td>ENGINE_TYPE</td>\n",
       "      <td>엔진형식</td>\n",
       "    </tr>\n",
       "    <tr>\n",
       "      <th>12</th>\n",
       "      <td>JEBSU_NO</td>\n",
       "      <td>검사접수번호</td>\n",
       "    </tr>\n",
       "    <tr>\n",
       "      <th>13</th>\n",
       "      <td>JG_CHK_DATE</td>\n",
       "      <td>정기검사일자</td>\n",
       "    </tr>\n",
       "    <tr>\n",
       "      <th>14</th>\n",
       "      <td>JG_CHK_TYPE</td>\n",
       "      <td>검사종류</td>\n",
       "    </tr>\n",
       "    <tr>\n",
       "      <th>15</th>\n",
       "      <td>JG_ORG_NM</td>\n",
       "      <td>검사소명</td>\n",
       "    </tr>\n",
       "    <tr>\n",
       "      <th>16</th>\n",
       "      <td>JUDGE_DATE</td>\n",
       "      <td>검사판정시각</td>\n",
       "    </tr>\n",
       "    <tr>\n",
       "      <th>17</th>\n",
       "      <td>JUDGE_YN</td>\n",
       "      <td>정기검사판정</td>\n",
       "    </tr>\n",
       "    <tr>\n",
       "      <th>18</th>\n",
       "      <td>O2_VAL</td>\n",
       "      <td>산소값</td>\n",
       "    </tr>\n",
       "    <tr>\n",
       "      <th>19</th>\n",
       "      <td>RE_CHK_DATE</td>\n",
       "      <td>재검사기간</td>\n",
       "    </tr>\n",
       "    <tr>\n",
       "      <th>20</th>\n",
       "      <td>UNLOAD_SMO_JUDGE1</td>\n",
       "      <td>무부하매연판정1</td>\n",
       "    </tr>\n",
       "    <tr>\n",
       "      <th>21</th>\n",
       "      <td>UNLOAD_SMO_JUDGE2</td>\n",
       "      <td>무부하매연판정2</td>\n",
       "    </tr>\n",
       "    <tr>\n",
       "      <th>22</th>\n",
       "      <td>UNLOAD_SMO_JUDGE3</td>\n",
       "      <td>무부하매연판정3</td>\n",
       "    </tr>\n",
       "    <tr>\n",
       "      <th>23</th>\n",
       "      <td>UNLOAD_SMO_JUDGE4</td>\n",
       "      <td>무부하매연판정4</td>\n",
       "    </tr>\n",
       "    <tr>\n",
       "      <th>24</th>\n",
       "      <td>UNLOAD_SMO_JUDGE5</td>\n",
       "      <td>무부하매연판정5</td>\n",
       "    </tr>\n",
       "    <tr>\n",
       "      <th>25</th>\n",
       "      <td>UNLOAD_SMO_JUDGE6</td>\n",
       "      <td>무부하매연판정6</td>\n",
       "    </tr>\n",
       "    <tr>\n",
       "      <th>26</th>\n",
       "      <td>UNLOAD_SMO_LIM1</td>\n",
       "      <td>무부하매연허용치1</td>\n",
       "    </tr>\n",
       "    <tr>\n",
       "      <th>27</th>\n",
       "      <td>UNLOAD_SMO_LIM2</td>\n",
       "      <td>무부하매연허용치2</td>\n",
       "    </tr>\n",
       "    <tr>\n",
       "      <th>28</th>\n",
       "      <td>UNLOAD_SMO_LIM3</td>\n",
       "      <td>무부하매연허용치3</td>\n",
       "    </tr>\n",
       "    <tr>\n",
       "      <th>29</th>\n",
       "      <td>UNLOAD_SMO_LIM4</td>\n",
       "      <td>무부하매연허용치4</td>\n",
       "    </tr>\n",
       "    <tr>\n",
       "      <th>30</th>\n",
       "      <td>UNLOAD_SMO_LIM5</td>\n",
       "      <td>무부하매연허용치5</td>\n",
       "    </tr>\n",
       "    <tr>\n",
       "      <th>31</th>\n",
       "      <td>UNLOAD_SMO_LIM6</td>\n",
       "      <td>무부하매연허용치6</td>\n",
       "    </tr>\n",
       "    <tr>\n",
       "      <th>32</th>\n",
       "      <td>UNLOAD_SMO_VAL1</td>\n",
       "      <td>무부하매연측정치1</td>\n",
       "    </tr>\n",
       "    <tr>\n",
       "      <th>33</th>\n",
       "      <td>UNLOAD_SMO_VAL2</td>\n",
       "      <td>무부하매연측정치2</td>\n",
       "    </tr>\n",
       "    <tr>\n",
       "      <th>34</th>\n",
       "      <td>UNLOAD_SMO_VAL3</td>\n",
       "      <td>무부하매연측정치3</td>\n",
       "    </tr>\n",
       "    <tr>\n",
       "      <th>35</th>\n",
       "      <td>UNLOAD_SMO_VAL4</td>\n",
       "      <td>무부하매연측정치4</td>\n",
       "    </tr>\n",
       "    <tr>\n",
       "      <th>36</th>\n",
       "      <td>UNLOAD_SMO_VAL5</td>\n",
       "      <td>무부하매연측정치5</td>\n",
       "    </tr>\n",
       "    <tr>\n",
       "      <th>37</th>\n",
       "      <td>UNLOAD_SMO_VAL6</td>\n",
       "      <td>무부하매연측정치6</td>\n",
       "    </tr>\n",
       "    <tr>\n",
       "      <th>38</th>\n",
       "      <td>USAGE</td>\n",
       "      <td>차량용도</td>\n",
       "    </tr>\n",
       "  </tbody>\n",
       "</table>\n",
       "</div>"
      ],
      "text/plain": [
       "                   컬럼         내용\n",
       "0         CAR_FUEL_NM       사용연료\n",
       "1            CAR_MILE       주행거리\n",
       "2              CAR_NM         차명\n",
       "3          CAR_REG_NO       차량번호\n",
       "4          CAR_SER_NO       차대번호\n",
       "5         CAR_TYPE_NM         차종\n",
       "6            CAR_YEAR       차량연식\n",
       "7          CHK_METHOD       검사방법\n",
       "8             CO2_VAL     이산화탄소값\n",
       "9      ENGINE_TOR_LIM    최대출력허용치\n",
       "10     ENGINE_TOR_VAL    최대출력측정값\n",
       "11        ENGINE_TYPE       엔진형식\n",
       "12           JEBSU_NO     검사접수번호\n",
       "13        JG_CHK_DATE     정기검사일자\n",
       "14        JG_CHK_TYPE       검사종류\n",
       "15          JG_ORG_NM       검사소명\n",
       "16         JUDGE_DATE     검사판정시각\n",
       "17           JUDGE_YN     정기검사판정\n",
       "18             O2_VAL        산소값\n",
       "19        RE_CHK_DATE      재검사기간\n",
       "20  UNLOAD_SMO_JUDGE1   무부하매연판정1\n",
       "21  UNLOAD_SMO_JUDGE2   무부하매연판정2\n",
       "22  UNLOAD_SMO_JUDGE3   무부하매연판정3\n",
       "23  UNLOAD_SMO_JUDGE4   무부하매연판정4\n",
       "24  UNLOAD_SMO_JUDGE5   무부하매연판정5\n",
       "25  UNLOAD_SMO_JUDGE6   무부하매연판정6\n",
       "26    UNLOAD_SMO_LIM1  무부하매연허용치1\n",
       "27    UNLOAD_SMO_LIM2  무부하매연허용치2\n",
       "28    UNLOAD_SMO_LIM3  무부하매연허용치3\n",
       "29    UNLOAD_SMO_LIM4  무부하매연허용치4\n",
       "30    UNLOAD_SMO_LIM5  무부하매연허용치5\n",
       "31    UNLOAD_SMO_LIM6  무부하매연허용치6\n",
       "32    UNLOAD_SMO_VAL1  무부하매연측정치1\n",
       "33    UNLOAD_SMO_VAL2  무부하매연측정치2\n",
       "34    UNLOAD_SMO_VAL3  무부하매연측정치3\n",
       "35    UNLOAD_SMO_VAL4  무부하매연측정치4\n",
       "36    UNLOAD_SMO_VAL5  무부하매연측정치5\n",
       "37    UNLOAD_SMO_VAL6  무부하매연측정치6\n",
       "38              USAGE       차량용도"
      ]
     },
     "execution_count": 92,
     "metadata": {},
     "output_type": "execute_result"
    }
   ],
   "source": [
    "col_exc = col_exc.loc[:38]\n",
    "col_exc"
   ]
  },
  {
   "cell_type": "code",
   "execution_count": 93,
   "metadata": {},
   "outputs": [
    {
     "data": {
      "text/plain": [
       "['CAR_FUEL_NM',\n",
       " 'CAR_MILE',\n",
       " 'CAR_NM',\n",
       " 'CAR_REG_NO',\n",
       " 'CAR_SER_NO',\n",
       " 'CAR_TYPE_NM',\n",
       " 'CAR_YEAR',\n",
       " 'CHK_METHOD',\n",
       " 'CO2_VAL',\n",
       " 'ENGINE_TOR_LIM',\n",
       " 'ENGINE_TOR_VAL',\n",
       " 'ENGINE_TYPE',\n",
       " 'JEBSU_NO',\n",
       " 'JG_CHK_DATE',\n",
       " 'JG_CHK_TYPE',\n",
       " 'JG_ORG_NM',\n",
       " 'JUDGE_DATE',\n",
       " 'JUDGE_YN',\n",
       " 'O2_VAL',\n",
       " 'RE_CHK_DATE',\n",
       " 'UNLOAD_SMO_JUDGE1',\n",
       " 'UNLOAD_SMO_JUDGE2',\n",
       " 'UNLOAD_SMO_JUDGE3',\n",
       " 'UNLOAD_SMO_JUDGE4',\n",
       " 'UNLOAD_SMO_JUDGE5',\n",
       " 'UNLOAD_SMO_JUDGE6',\n",
       " 'UNLOAD_SMO_LIM1',\n",
       " 'UNLOAD_SMO_LIM2',\n",
       " 'UNLOAD_SMO_LIM3',\n",
       " 'UNLOAD_SMO_LIM4',\n",
       " 'UNLOAD_SMO_LIM5',\n",
       " 'UNLOAD_SMO_LIM6',\n",
       " 'UNLOAD_SMO_VAL1',\n",
       " 'UNLOAD_SMO_VAL2',\n",
       " 'UNLOAD_SMO_VAL3',\n",
       " 'UNLOAD_SMO_VAL4',\n",
       " 'UNLOAD_SMO_VAL5',\n",
       " 'UNLOAD_SMO_VAL6',\n",
       " 'USAGE']"
      ]
     },
     "execution_count": 93,
     "metadata": {},
     "output_type": "execute_result"
    }
   ],
   "source": [
    "col = col_exc['컬럼'].to_list()\n",
    "col"
   ]
  },
  {
   "cell_type": "code",
   "execution_count": 94,
   "metadata": {},
   "outputs": [
    {
     "data": {
      "text/plain": [
       "['사용연료',\n",
       " '주행거리',\n",
       " '차명',\n",
       " '차량번호',\n",
       " '차대번호',\n",
       " '차종',\n",
       " '차량연식',\n",
       " '검사방법',\n",
       " '이산화탄소값',\n",
       " '최대출력허용치',\n",
       " '최대출력측정값',\n",
       " '엔진형식',\n",
       " '검사접수번호',\n",
       " '정기검사일자',\n",
       " '검사종류',\n",
       " '검사소명',\n",
       " '검사판정시각',\n",
       " '정기검사판정',\n",
       " '산소값',\n",
       " '재검사기간',\n",
       " '무부하매연판정1',\n",
       " '무부하매연판정2',\n",
       " '무부하매연판정3',\n",
       " '무부하매연판정4',\n",
       " '무부하매연판정5',\n",
       " '무부하매연판정6',\n",
       " '무부하매연허용치1',\n",
       " '무부하매연허용치2',\n",
       " '무부하매연허용치3',\n",
       " '무부하매연허용치4',\n",
       " '무부하매연허용치5',\n",
       " '무부하매연허용치6',\n",
       " '무부하매연측정치1',\n",
       " '무부하매연측정치2',\n",
       " '무부하매연측정치3',\n",
       " '무부하매연측정치4',\n",
       " '무부하매연측정치5',\n",
       " '무부하매연측정치6',\n",
       " '차량용도']"
      ]
     },
     "execution_count": 94,
     "metadata": {},
     "output_type": "execute_result"
    }
   ],
   "source": [
    "# 필요한 컬럼만 추출\n",
    "sel_col = col_exc['내용'].to_list()\n",
    "sel_col"
   ]
  },
  {
   "attachments": {},
   "cell_type": "markdown",
   "metadata": {},
   "source": [
    "#### [로드] 정기검사"
   ]
  },
  {
   "cell_type": "code",
   "execution_count": 97,
   "metadata": {},
   "outputs": [
    {
     "name": "stdout",
     "output_type": "stream",
     "text": [
      "<class 'pandas.core.frame.DataFrame'>\n",
      "RangeIndex: 22006426 entries, 0 to 22006425\n",
      "Data columns (total 39 columns):\n",
      " #   Column             Dtype  \n",
      "---  ------             -----  \n",
      " 0   JG_ORG_NM          object \n",
      " 1   JG_CHK_DATE        int64  \n",
      " 2   JG_CHK_TYPE        object \n",
      " 3   JEBSU_NO           object \n",
      " 4   CAR_REG_NO         object \n",
      " 5   CAR_SER_NO         object \n",
      " 6   CAR_NM             object \n",
      " 7   CAR_TYPE_NM        object \n",
      " 8   USAGE              object \n",
      " 9   CAR_YEAR           int64  \n",
      " 10  CAR_FUEL_NM        object \n",
      " 11  CAR_MILE           object \n",
      " 12  ENGINE_TYPE        object \n",
      " 13  CHK_METHOD         object \n",
      " 14  UNLOAD_SMO_VAL1    float64\n",
      " 15  UNLOAD_SMO_LIM1    float64\n",
      " 16  UNLOAD_SMO_JUDGE1  object \n",
      " 17  UNLOAD_SMO_VAL2    float64\n",
      " 18  UNLOAD_SMO_LIM2    float64\n",
      " 19  UNLOAD_SMO_JUDGE2  object \n",
      " 20  UNLOAD_SMO_VAL3    float64\n",
      " 21  UNLOAD_SMO_LIM3    float64\n",
      " 22  UNLOAD_SMO_JUDGE3  object \n",
      " 23  UNLOAD_SMO_VAL4    float64\n",
      " 24  UNLOAD_SMO_LIM4    float64\n",
      " 25  UNLOAD_SMO_JUDGE4  object \n",
      " 26  UNLOAD_SMO_VAL5    float64\n",
      " 27  UNLOAD_SMO_LIM5    float64\n",
      " 28  UNLOAD_SMO_JUDGE5  object \n",
      " 29  UNLOAD_SMO_VAL6    float64\n",
      " 30  UNLOAD_SMO_LIM6    float64\n",
      " 31  UNLOAD_SMO_JUDGE6  object \n",
      " 32  CO2_VAL            float64\n",
      " 33  ENGINE_TOR_LIM     float64\n",
      " 34  ENGINE_TOR_VAL     float64\n",
      " 35  O2_VAL             float64\n",
      " 36  JUDGE_YN           object \n",
      " 37  RE_CHK_DATE        object \n",
      " 38  JUDGE_DATE         object \n",
      "dtypes: float64(16), int64(2), object(21)\n",
      "memory usage: 6.4+ GB\n"
     ]
    }
   ],
   "source": [
    "# about 5m\n",
    "file_name = f'ODS_{name}.csv'\n",
    "ins = pd.read_csv(os.path.join(ods_fold, file_name), usecols=col, low_memory=False)\n",
    "ins.info()"
   ]
  },
  {
   "cell_type": "code",
   "execution_count": 98,
   "metadata": {},
   "outputs": [
    {
     "name": "stdout",
     "output_type": "stream",
     "text": [
      "<class 'pandas.core.frame.DataFrame'>\n",
      "RangeIndex: 22006426 entries, 0 to 22006425\n",
      "Data columns (total 39 columns):\n",
      " #   Column             Dtype  \n",
      "---  ------             -----  \n",
      " 0   CAR_FUEL_NM        object \n",
      " 1   CAR_MILE           object \n",
      " 2   CAR_NM             object \n",
      " 3   CAR_REG_NO         object \n",
      " 4   CAR_SER_NO         object \n",
      " 5   CAR_TYPE_NM        object \n",
      " 6   CAR_YEAR           int64  \n",
      " 7   CHK_METHOD         object \n",
      " 8   CO2_VAL            float64\n",
      " 9   ENGINE_TOR_LIM     float64\n",
      " 10  ENGINE_TOR_VAL     float64\n",
      " 11  ENGINE_TYPE        object \n",
      " 12  JEBSU_NO           object \n",
      " 13  JG_CHK_DATE        int64  \n",
      " 14  JG_CHK_TYPE        object \n",
      " 15  JG_ORG_NM          object \n",
      " 16  JUDGE_DATE         object \n",
      " 17  JUDGE_YN           object \n",
      " 18  O2_VAL             float64\n",
      " 19  RE_CHK_DATE        object \n",
      " 20  UNLOAD_SMO_JUDGE1  object \n",
      " 21  UNLOAD_SMO_JUDGE2  object \n",
      " 22  UNLOAD_SMO_JUDGE3  object \n",
      " 23  UNLOAD_SMO_JUDGE4  object \n",
      " 24  UNLOAD_SMO_JUDGE5  object \n",
      " 25  UNLOAD_SMO_JUDGE6  object \n",
      " 26  UNLOAD_SMO_LIM1    float64\n",
      " 27  UNLOAD_SMO_LIM2    float64\n",
      " 28  UNLOAD_SMO_LIM3    float64\n",
      " 29  UNLOAD_SMO_LIM4    float64\n",
      " 30  UNLOAD_SMO_LIM5    float64\n",
      " 31  UNLOAD_SMO_LIM6    float64\n",
      " 32  UNLOAD_SMO_VAL1    float64\n",
      " 33  UNLOAD_SMO_VAL2    float64\n",
      " 34  UNLOAD_SMO_VAL3    float64\n",
      " 35  UNLOAD_SMO_VAL4    float64\n",
      " 36  UNLOAD_SMO_VAL5    float64\n",
      " 37  UNLOAD_SMO_VAL6    float64\n",
      " 38  USAGE              object \n",
      "dtypes: float64(16), int64(2), object(21)\n",
      "memory usage: 6.4+ GB\n"
     ]
    }
   ],
   "source": [
    "ins = ins[col]\n",
    "ins.info()"
   ]
  },
  {
   "cell_type": "code",
   "execution_count": 99,
   "metadata": {},
   "outputs": [],
   "source": [
    "ins.columns = sel_col"
   ]
  },
  {
   "cell_type": "code",
   "execution_count": 100,
   "metadata": {},
   "outputs": [
    {
     "data": {
      "text/plain": [
       "Index(['사용연료', '주행거리', '차명', '차량번호', '차대번호', '차종', '차량연식', '검사방법', '이산화탄소값',\n",
       "       '최대출력허용치', '최대출력측정값', '엔진형식', '검사접수번호', '정기검사일자', '검사종류', '검사소명',\n",
       "       '검사판정시각', '정기검사판정', '산소값', '재검사기간', '무부하매연판정1', '무부하매연판정2', '무부하매연판정3',\n",
       "       '무부하매연판정4', '무부하매연판정5', '무부하매연판정6', '무부하매연허용치1', '무부하매연허용치2',\n",
       "       '무부하매연허용치3', '무부하매연허용치4', '무부하매연허용치5', '무부하매연허용치6', '무부하매연측정치1',\n",
       "       '무부하매연측정치2', '무부하매연측정치3', '무부하매연측정치4', '무부하매연측정치5', '무부하매연측정치6',\n",
       "       '차량용도'],\n",
       "      dtype='object')"
      ]
     },
     "execution_count": 100,
     "metadata": {},
     "output_type": "execute_result"
    }
   ],
   "source": [
    "ins.columns"
   ]
  },
  {
   "cell_type": "code",
   "execution_count": 101,
   "metadata": {},
   "outputs": [],
   "source": [
    "ins.columns = ['사용연료', '주행거리', '차명', '차량번호', '차대번호', '차종', '차량연식', '검사방법', '이산화탄소값', '최대출력허용치',\n",
    "       '최대출력측정값', '엔진형식', '검사접수번호', '검사일자', '검사종류', '검사소명', '검사판정시각',\n",
    "       '검사판정', '산소값', '재검사기간', '무부하매연판정1', '무부하매연판정2', '무부하매연판정3',\n",
    "       '무부하매연판정4', '무부하매연판정5', '무부하매연판정6', '무부하매연허용치1', '무부하매연허용치2',\n",
    "       '무부하매연허용치3', '무부하매연허용치4', '무부하매연허용치5', '무부하매연허용치6', '무부하매연측정치1',\n",
    "       '무부하매연측정치2', '무부하매연측정치3', '무부하매연측정치4', '무부하매연측정치5', '무부하매연측정치6',\n",
    "       '차량용도']\n",
    "ins['정기정밀'] = '정기'"
   ]
  },
  {
   "cell_type": "code",
   "execution_count": 102,
   "metadata": {},
   "outputs": [],
   "source": [
    "pd.options.display.float_format = '{:.2f}'.format"
   ]
  },
  {
   "cell_type": "code",
   "execution_count": 103,
   "metadata": {},
   "outputs": [
    {
     "data": {
      "text/plain": [
       "count   22006426.00\n",
       "mean    20203268.21\n",
       "std        11150.50\n",
       "min     20190102.00\n",
       "25%     20191007.00\n",
       "50%     20200710.00\n",
       "75%     20210924.00\n",
       "max     20230102.00\n",
       "Name: 검사일자, dtype: float64"
      ]
     },
     "execution_count": 103,
     "metadata": {},
     "output_type": "execute_result"
    }
   ],
   "source": [
    "ins['검사일자'].describe()"
   ]
  },
  {
   "attachments": {},
   "cell_type": "markdown",
   "metadata": {},
   "source": [
    "### [로드] 정밀검사"
   ]
  },
  {
   "attachments": {},
   "cell_type": "markdown",
   "metadata": {},
   "source": [
    "#### columns"
   ]
  },
  {
   "cell_type": "code",
   "execution_count": 104,
   "metadata": {},
   "outputs": [],
   "source": [
    "name = 'TB_EET_HIS_ME'\n",
    "file_name = f'[정제]{name}.xlsx'\n",
    "col_exc = pd.read_excel(f'analysis/ODSvsSTD/{file_name}', sheet_name='ODS_col')"
   ]
  },
  {
   "cell_type": "code",
   "execution_count": 105,
   "metadata": {},
   "outputs": [
    {
     "data": {
      "text/html": [
       "<div>\n",
       "<style scoped>\n",
       "    .dataframe tbody tr th:only-of-type {\n",
       "        vertical-align: middle;\n",
       "    }\n",
       "\n",
       "    .dataframe tbody tr th {\n",
       "        vertical-align: top;\n",
       "    }\n",
       "\n",
       "    .dataframe thead th {\n",
       "        text-align: right;\n",
       "    }\n",
       "</style>\n",
       "<table border=\"1\" class=\"dataframe\">\n",
       "  <thead>\n",
       "    <tr style=\"text-align: right;\">\n",
       "      <th></th>\n",
       "      <th>컬럼</th>\n",
       "      <th>내용</th>\n",
       "    </tr>\n",
       "  </thead>\n",
       "  <tbody>\n",
       "    <tr>\n",
       "      <th>0</th>\n",
       "      <td>CAR_FUEL_NM</td>\n",
       "      <td>사용연료</td>\n",
       "    </tr>\n",
       "    <tr>\n",
       "      <th>1</th>\n",
       "      <td>CAR_MILE</td>\n",
       "      <td>주행거리</td>\n",
       "    </tr>\n",
       "    <tr>\n",
       "      <th>2</th>\n",
       "      <td>CAR_NM</td>\n",
       "      <td>차명</td>\n",
       "    </tr>\n",
       "    <tr>\n",
       "      <th>3</th>\n",
       "      <td>CAR_REG_NO</td>\n",
       "      <td>차량번호</td>\n",
       "    </tr>\n",
       "    <tr>\n",
       "      <th>4</th>\n",
       "      <td>CAR_SER_NO</td>\n",
       "      <td>차대번호</td>\n",
       "    </tr>\n",
       "    <tr>\n",
       "      <th>...</th>\n",
       "      <td>...</td>\n",
       "      <td>...</td>\n",
       "    </tr>\n",
       "    <tr>\n",
       "      <th>70</th>\n",
       "      <td>DELETE_GBN</td>\n",
       "      <td>미정</td>\n",
       "    </tr>\n",
       "    <tr>\n",
       "      <th>71</th>\n",
       "      <td>DELETE_REASON1</td>\n",
       "      <td>미정</td>\n",
       "    </tr>\n",
       "    <tr>\n",
       "      <th>72</th>\n",
       "      <td>DELETE_REASON2</td>\n",
       "      <td>미정</td>\n",
       "    </tr>\n",
       "    <tr>\n",
       "      <th>73</th>\n",
       "      <td>DELETE_REASON3</td>\n",
       "      <td>미정</td>\n",
       "    </tr>\n",
       "    <tr>\n",
       "      <th>74</th>\n",
       "      <td>DELETE_REASON4</td>\n",
       "      <td>미정</td>\n",
       "    </tr>\n",
       "  </tbody>\n",
       "</table>\n",
       "<p>75 rows × 2 columns</p>\n",
       "</div>"
      ],
      "text/plain": [
       "                컬럼    내용\n",
       "0      CAR_FUEL_NM  사용연료\n",
       "1         CAR_MILE  주행거리\n",
       "2           CAR_NM    차명\n",
       "3       CAR_REG_NO  차량번호\n",
       "4       CAR_SER_NO  차대번호\n",
       "..             ...   ...\n",
       "70      DELETE_GBN    미정\n",
       "71  DELETE_REASON1    미정\n",
       "72  DELETE_REASON2    미정\n",
       "73  DELETE_REASON3    미정\n",
       "74  DELETE_REASON4    미정\n",
       "\n",
       "[75 rows x 2 columns]"
      ]
     },
     "execution_count": 105,
     "metadata": {},
     "output_type": "execute_result"
    }
   ],
   "source": [
    "col_exc"
   ]
  },
  {
   "cell_type": "code",
   "execution_count": 106,
   "metadata": {},
   "outputs": [
    {
     "data": {
      "text/html": [
       "<div>\n",
       "<style scoped>\n",
       "    .dataframe tbody tr th:only-of-type {\n",
       "        vertical-align: middle;\n",
       "    }\n",
       "\n",
       "    .dataframe tbody tr th {\n",
       "        vertical-align: top;\n",
       "    }\n",
       "\n",
       "    .dataframe thead th {\n",
       "        text-align: right;\n",
       "    }\n",
       "</style>\n",
       "<table border=\"1\" class=\"dataframe\">\n",
       "  <thead>\n",
       "    <tr style=\"text-align: right;\">\n",
       "      <th></th>\n",
       "      <th>컬럼</th>\n",
       "      <th>내용</th>\n",
       "    </tr>\n",
       "  </thead>\n",
       "  <tbody>\n",
       "    <tr>\n",
       "      <th>0</th>\n",
       "      <td>CAR_FUEL_NM</td>\n",
       "      <td>사용연료</td>\n",
       "    </tr>\n",
       "    <tr>\n",
       "      <th>1</th>\n",
       "      <td>CAR_MILE</td>\n",
       "      <td>주행거리</td>\n",
       "    </tr>\n",
       "    <tr>\n",
       "      <th>2</th>\n",
       "      <td>CAR_NM</td>\n",
       "      <td>차명</td>\n",
       "    </tr>\n",
       "    <tr>\n",
       "      <th>3</th>\n",
       "      <td>CAR_REG_NO</td>\n",
       "      <td>차량번호</td>\n",
       "    </tr>\n",
       "    <tr>\n",
       "      <th>4</th>\n",
       "      <td>CAR_SER_NO</td>\n",
       "      <td>차대번호</td>\n",
       "    </tr>\n",
       "    <tr>\n",
       "      <th>5</th>\n",
       "      <td>CAR_TYPE_NM</td>\n",
       "      <td>차종</td>\n",
       "    </tr>\n",
       "    <tr>\n",
       "      <th>6</th>\n",
       "      <td>CAR_YEAR</td>\n",
       "      <td>차량연식</td>\n",
       "    </tr>\n",
       "    <tr>\n",
       "      <th>7</th>\n",
       "      <td>CMB_SMO_CHK_REG_NO</td>\n",
       "      <td>정밀검사 검사소코드</td>\n",
       "    </tr>\n",
       "    <tr>\n",
       "      <th>8</th>\n",
       "      <td>CO2_VAL</td>\n",
       "      <td>이산화탄소값</td>\n",
       "    </tr>\n",
       "    <tr>\n",
       "      <th>9</th>\n",
       "      <td>ENGINE_TOR_LIM</td>\n",
       "      <td>최대출력허용치</td>\n",
       "    </tr>\n",
       "    <tr>\n",
       "      <th>10</th>\n",
       "      <td>ENGINE_TOR_VAL</td>\n",
       "      <td>최대출력측정값</td>\n",
       "    </tr>\n",
       "    <tr>\n",
       "      <th>11</th>\n",
       "      <td>ENGINE_TYPE</td>\n",
       "      <td>엔진형식</td>\n",
       "    </tr>\n",
       "    <tr>\n",
       "      <th>12</th>\n",
       "      <td>O2_VAL</td>\n",
       "      <td>산소값</td>\n",
       "    </tr>\n",
       "    <tr>\n",
       "      <th>13</th>\n",
       "      <td>RE_INS_DATE2</td>\n",
       "      <td>재검사기간</td>\n",
       "    </tr>\n",
       "    <tr>\n",
       "      <th>14</th>\n",
       "      <td>SMO_CHK_DATE</td>\n",
       "      <td>정밀검사일자</td>\n",
       "    </tr>\n",
       "    <tr>\n",
       "      <th>15</th>\n",
       "      <td>SMO_CHK_JUDGE_YN</td>\n",
       "      <td>정밀검사판정</td>\n",
       "    </tr>\n",
       "    <tr>\n",
       "      <th>16</th>\n",
       "      <td>SMO_CHK_METHOD</td>\n",
       "      <td>정밀검사측정방법</td>\n",
       "    </tr>\n",
       "    <tr>\n",
       "      <th>17</th>\n",
       "      <td>SMO_CHK_ORG_NM</td>\n",
       "      <td>정밀검사소명</td>\n",
       "    </tr>\n",
       "    <tr>\n",
       "      <th>18</th>\n",
       "      <td>SMO_CHK_REG_NO</td>\n",
       "      <td>정밀검사접수번호</td>\n",
       "    </tr>\n",
       "    <tr>\n",
       "      <th>19</th>\n",
       "      <td>SMO_CHK_TYPE</td>\n",
       "      <td>정밀검사종류</td>\n",
       "    </tr>\n",
       "    <tr>\n",
       "      <th>20</th>\n",
       "      <td>SMO_CLOCK_INFO</td>\n",
       "      <td>정밀검사시각정보</td>\n",
       "    </tr>\n",
       "    <tr>\n",
       "      <th>21</th>\n",
       "      <td>UNLOAD_SMO_JUDGE1</td>\n",
       "      <td>무부하매연판정1</td>\n",
       "    </tr>\n",
       "    <tr>\n",
       "      <th>22</th>\n",
       "      <td>UNLOAD_SMO_JUDGE2</td>\n",
       "      <td>무부하매연판정2</td>\n",
       "    </tr>\n",
       "    <tr>\n",
       "      <th>23</th>\n",
       "      <td>UNLOAD_SMO_JUDGE3</td>\n",
       "      <td>무부하매연판정3</td>\n",
       "    </tr>\n",
       "    <tr>\n",
       "      <th>24</th>\n",
       "      <td>UNLOAD_SMO_JUDGE4</td>\n",
       "      <td>무부하매연판정4</td>\n",
       "    </tr>\n",
       "    <tr>\n",
       "      <th>25</th>\n",
       "      <td>UNLOAD_SMO_JUDGE5</td>\n",
       "      <td>무부하매연판정5</td>\n",
       "    </tr>\n",
       "    <tr>\n",
       "      <th>26</th>\n",
       "      <td>UNLOAD_SMO_JUDGE6</td>\n",
       "      <td>무부하매연판정6</td>\n",
       "    </tr>\n",
       "    <tr>\n",
       "      <th>27</th>\n",
       "      <td>UNLOAD_SMO_LIM1</td>\n",
       "      <td>무부하매연허용치1</td>\n",
       "    </tr>\n",
       "    <tr>\n",
       "      <th>28</th>\n",
       "      <td>UNLOAD_SMO_LIM2</td>\n",
       "      <td>무부하매연허용치2</td>\n",
       "    </tr>\n",
       "    <tr>\n",
       "      <th>29</th>\n",
       "      <td>UNLOAD_SMO_LIM3</td>\n",
       "      <td>무부하매연허용치3</td>\n",
       "    </tr>\n",
       "    <tr>\n",
       "      <th>30</th>\n",
       "      <td>UNLOAD_SMO_LIM4</td>\n",
       "      <td>무부하매연허용치4</td>\n",
       "    </tr>\n",
       "    <tr>\n",
       "      <th>31</th>\n",
       "      <td>UNLOAD_SMO_LIM5</td>\n",
       "      <td>무부하매연허용치5</td>\n",
       "    </tr>\n",
       "    <tr>\n",
       "      <th>32</th>\n",
       "      <td>UNLOAD_SMO_LIM6</td>\n",
       "      <td>무부하매연허용치6</td>\n",
       "    </tr>\n",
       "    <tr>\n",
       "      <th>33</th>\n",
       "      <td>UNLOAD_SMO_VAL1</td>\n",
       "      <td>무부하매연측정치1</td>\n",
       "    </tr>\n",
       "    <tr>\n",
       "      <th>34</th>\n",
       "      <td>UNLOAD_SMO_VAL2</td>\n",
       "      <td>무부하매연측정치2</td>\n",
       "    </tr>\n",
       "    <tr>\n",
       "      <th>35</th>\n",
       "      <td>UNLOAD_SMO_VAL3</td>\n",
       "      <td>무부하매연측정치3</td>\n",
       "    </tr>\n",
       "    <tr>\n",
       "      <th>36</th>\n",
       "      <td>UNLOAD_SMO_VAL4</td>\n",
       "      <td>무부하매연측정치4</td>\n",
       "    </tr>\n",
       "    <tr>\n",
       "      <th>37</th>\n",
       "      <td>UNLOAD_SMO_VAL5</td>\n",
       "      <td>무부하매연측정치5</td>\n",
       "    </tr>\n",
       "    <tr>\n",
       "      <th>38</th>\n",
       "      <td>UNLOAD_SMO_VAL6</td>\n",
       "      <td>무부하매연측정치6</td>\n",
       "    </tr>\n",
       "    <tr>\n",
       "      <th>39</th>\n",
       "      <td>USAGE</td>\n",
       "      <td>차량용도</td>\n",
       "    </tr>\n",
       "    <tr>\n",
       "      <th>40</th>\n",
       "      <td>SMO_CHK_EXP_DATE</td>\n",
       "      <td>정밀검사유효기간</td>\n",
       "    </tr>\n",
       "  </tbody>\n",
       "</table>\n",
       "</div>"
      ],
      "text/plain": [
       "                    컬럼          내용\n",
       "0          CAR_FUEL_NM        사용연료\n",
       "1             CAR_MILE        주행거리\n",
       "2               CAR_NM          차명\n",
       "3           CAR_REG_NO        차량번호\n",
       "4           CAR_SER_NO        차대번호\n",
       "5          CAR_TYPE_NM          차종\n",
       "6             CAR_YEAR        차량연식\n",
       "7   CMB_SMO_CHK_REG_NO  정밀검사 검사소코드\n",
       "8              CO2_VAL      이산화탄소값\n",
       "9       ENGINE_TOR_LIM     최대출력허용치\n",
       "10      ENGINE_TOR_VAL     최대출력측정값\n",
       "11         ENGINE_TYPE        엔진형식\n",
       "12              O2_VAL         산소값\n",
       "13        RE_INS_DATE2       재검사기간\n",
       "14        SMO_CHK_DATE      정밀검사일자\n",
       "15    SMO_CHK_JUDGE_YN      정밀검사판정\n",
       "16      SMO_CHK_METHOD    정밀검사측정방법\n",
       "17      SMO_CHK_ORG_NM      정밀검사소명\n",
       "18      SMO_CHK_REG_NO    정밀검사접수번호\n",
       "19        SMO_CHK_TYPE      정밀검사종류\n",
       "20      SMO_CLOCK_INFO    정밀검사시각정보\n",
       "21   UNLOAD_SMO_JUDGE1    무부하매연판정1\n",
       "22   UNLOAD_SMO_JUDGE2    무부하매연판정2\n",
       "23   UNLOAD_SMO_JUDGE3    무부하매연판정3\n",
       "24   UNLOAD_SMO_JUDGE4    무부하매연판정4\n",
       "25   UNLOAD_SMO_JUDGE5    무부하매연판정5\n",
       "26   UNLOAD_SMO_JUDGE6    무부하매연판정6\n",
       "27     UNLOAD_SMO_LIM1   무부하매연허용치1\n",
       "28     UNLOAD_SMO_LIM2   무부하매연허용치2\n",
       "29     UNLOAD_SMO_LIM3   무부하매연허용치3\n",
       "30     UNLOAD_SMO_LIM4   무부하매연허용치4\n",
       "31     UNLOAD_SMO_LIM5   무부하매연허용치5\n",
       "32     UNLOAD_SMO_LIM6   무부하매연허용치6\n",
       "33     UNLOAD_SMO_VAL1   무부하매연측정치1\n",
       "34     UNLOAD_SMO_VAL2   무부하매연측정치2\n",
       "35     UNLOAD_SMO_VAL3   무부하매연측정치3\n",
       "36     UNLOAD_SMO_VAL4   무부하매연측정치4\n",
       "37     UNLOAD_SMO_VAL5   무부하매연측정치5\n",
       "38     UNLOAD_SMO_VAL6   무부하매연측정치6\n",
       "39               USAGE        차량용도\n",
       "40    SMO_CHK_EXP_DATE    정밀검사유효기간"
      ]
     },
     "execution_count": 106,
     "metadata": {},
     "output_type": "execute_result"
    }
   ],
   "source": [
    "col_exc = col_exc.loc[:40]\n",
    "col_exc"
   ]
  },
  {
   "cell_type": "code",
   "execution_count": 107,
   "metadata": {},
   "outputs": [
    {
     "data": {
      "text/plain": [
       "['CAR_FUEL_NM',\n",
       " 'CAR_MILE',\n",
       " 'CAR_NM',\n",
       " 'CAR_REG_NO',\n",
       " 'CAR_SER_NO',\n",
       " 'CAR_TYPE_NM',\n",
       " 'CAR_YEAR',\n",
       " 'CMB_SMO_CHK_REG_NO',\n",
       " 'CO2_VAL',\n",
       " 'ENGINE_TOR_LIM',\n",
       " 'ENGINE_TOR_VAL',\n",
       " 'ENGINE_TYPE',\n",
       " 'O2_VAL',\n",
       " 'RE_INS_DATE2',\n",
       " 'SMO_CHK_DATE',\n",
       " 'SMO_CHK_JUDGE_YN',\n",
       " 'SMO_CHK_METHOD',\n",
       " 'SMO_CHK_ORG_NM',\n",
       " 'SMO_CHK_REG_NO',\n",
       " 'SMO_CHK_TYPE',\n",
       " 'SMO_CLOCK_INFO',\n",
       " 'UNLOAD_SMO_JUDGE1',\n",
       " 'UNLOAD_SMO_JUDGE2',\n",
       " 'UNLOAD_SMO_JUDGE3',\n",
       " 'UNLOAD_SMO_JUDGE4',\n",
       " 'UNLOAD_SMO_JUDGE5',\n",
       " 'UNLOAD_SMO_JUDGE6',\n",
       " 'UNLOAD_SMO_LIM1',\n",
       " 'UNLOAD_SMO_LIM2',\n",
       " 'UNLOAD_SMO_LIM3',\n",
       " 'UNLOAD_SMO_LIM4',\n",
       " 'UNLOAD_SMO_LIM5',\n",
       " 'UNLOAD_SMO_LIM6',\n",
       " 'UNLOAD_SMO_VAL1',\n",
       " 'UNLOAD_SMO_VAL2',\n",
       " 'UNLOAD_SMO_VAL3',\n",
       " 'UNLOAD_SMO_VAL4',\n",
       " 'UNLOAD_SMO_VAL5',\n",
       " 'UNLOAD_SMO_VAL6',\n",
       " 'USAGE',\n",
       " 'SMO_CHK_EXP_DATE']"
      ]
     },
     "execution_count": 107,
     "metadata": {},
     "output_type": "execute_result"
    }
   ],
   "source": [
    "col = col_exc['컬럼'].to_list()\n",
    "col"
   ]
  },
  {
   "cell_type": "code",
   "execution_count": 108,
   "metadata": {},
   "outputs": [
    {
     "data": {
      "text/plain": [
       "['사용연료',\n",
       " '주행거리',\n",
       " '차명',\n",
       " '차량번호',\n",
       " '차대번호',\n",
       " '차종',\n",
       " '차량연식',\n",
       " '정밀검사 검사소코드',\n",
       " '이산화탄소값',\n",
       " '최대출력허용치',\n",
       " '최대출력측정값',\n",
       " '엔진형식',\n",
       " '산소값',\n",
       " '재검사기간',\n",
       " '정밀검사일자',\n",
       " '정밀검사판정',\n",
       " '정밀검사측정방법',\n",
       " '정밀검사소명',\n",
       " '정밀검사접수번호',\n",
       " '정밀검사종류',\n",
       " '정밀검사시각정보',\n",
       " '무부하매연판정1',\n",
       " '무부하매연판정2',\n",
       " '무부하매연판정3',\n",
       " '무부하매연판정4',\n",
       " '무부하매연판정5',\n",
       " '무부하매연판정6',\n",
       " '무부하매연허용치1',\n",
       " '무부하매연허용치2',\n",
       " '무부하매연허용치3',\n",
       " '무부하매연허용치4',\n",
       " '무부하매연허용치5',\n",
       " '무부하매연허용치6',\n",
       " '무부하매연측정치1',\n",
       " '무부하매연측정치2',\n",
       " '무부하매연측정치3',\n",
       " '무부하매연측정치4',\n",
       " '무부하매연측정치5',\n",
       " '무부하매연측정치6',\n",
       " '차량용도',\n",
       " '정밀검사유효기간']"
      ]
     },
     "execution_count": 108,
     "metadata": {},
     "output_type": "execute_result"
    }
   ],
   "source": [
    "# 필요한 컬럼만 추출\n",
    "sel_col = col_exc['내용'].to_list()\n",
    "sel_col"
   ]
  },
  {
   "attachments": {},
   "cell_type": "markdown",
   "metadata": {},
   "source": [
    "#### [로드] 정밀검사"
   ]
  },
  {
   "cell_type": "code",
   "execution_count": 109,
   "metadata": {},
   "outputs": [
    {
     "name": "stdout",
     "output_type": "stream",
     "text": [
      "<class 'pandas.core.frame.DataFrame'>\n",
      "RangeIndex: 28682228 entries, 0 to 28682227\n",
      "Data columns (total 41 columns):\n",
      " #   Column              Dtype  \n",
      "---  ------              -----  \n",
      " 0   SMO_CHK_ORG_NM      object \n",
      " 1   SMO_CHK_DATE        int64  \n",
      " 2   SMO_CHK_TYPE        object \n",
      " 3   SMO_CHK_REG_NO      object \n",
      " 4   CAR_REG_NO          object \n",
      " 5   CAR_SER_NO          object \n",
      " 6   CAR_NM              object \n",
      " 7   CAR_TYPE_NM         object \n",
      " 8   USAGE               object \n",
      " 9   CAR_YEAR            int64  \n",
      " 10  CAR_FUEL_NM         object \n",
      " 11  CAR_MILE            float64\n",
      " 12  ENGINE_TYPE         object \n",
      " 13  SMO_CHK_EXP_DATE    float64\n",
      " 14  SMO_CHK_METHOD      object \n",
      " 15  UNLOAD_SMO_VAL1     float64\n",
      " 16  UNLOAD_SMO_LIM1     float64\n",
      " 17  UNLOAD_SMO_JUDGE1   object \n",
      " 18  UNLOAD_SMO_VAL2     float64\n",
      " 19  UNLOAD_SMO_LIM2     float64\n",
      " 20  UNLOAD_SMO_JUDGE2   object \n",
      " 21  UNLOAD_SMO_VAL3     float64\n",
      " 22  UNLOAD_SMO_LIM3     float64\n",
      " 23  UNLOAD_SMO_JUDGE3   object \n",
      " 24  UNLOAD_SMO_VAL4     float64\n",
      " 25  UNLOAD_SMO_LIM4     float64\n",
      " 26  UNLOAD_SMO_JUDGE4   object \n",
      " 27  UNLOAD_SMO_VAL5     float64\n",
      " 28  UNLOAD_SMO_LIM5     float64\n",
      " 29  UNLOAD_SMO_JUDGE5   object \n",
      " 30  CO2_VAL             float64\n",
      " 31  ENGINE_TOR_LIM      float64\n",
      " 32  ENGINE_TOR_VAL      float64\n",
      " 33  O2_VAL              float64\n",
      " 34  SMO_CHK_JUDGE_YN    object \n",
      " 35  RE_INS_DATE2        object \n",
      " 36  SMO_CLOCK_INFO      object \n",
      " 37  CMB_SMO_CHK_REG_NO  object \n",
      " 38  UNLOAD_SMO_VAL6     float64\n",
      " 39  UNLOAD_SMO_LIM6     float64\n",
      " 40  UNLOAD_SMO_JUDGE6   object \n",
      "dtypes: float64(18), int64(2), object(21)\n",
      "memory usage: 8.8+ GB\n"
     ]
    }
   ],
   "source": [
    "# about 8m 44s\n",
    "file_name = f'ODS_{name}.csv'\n",
    "dins = pd.read_csv(os.path.join(ods_fold, file_name), usecols=col, low_memory=False)\n",
    "dins.info()"
   ]
  },
  {
   "cell_type": "code",
   "execution_count": 110,
   "metadata": {},
   "outputs": [
    {
     "name": "stdout",
     "output_type": "stream",
     "text": [
      "<class 'pandas.core.frame.DataFrame'>\n",
      "RangeIndex: 28682228 entries, 0 to 28682227\n",
      "Data columns (total 41 columns):\n",
      " #   Column              Dtype  \n",
      "---  ------              -----  \n",
      " 0   CAR_FUEL_NM         object \n",
      " 1   CAR_MILE            float64\n",
      " 2   CAR_NM              object \n",
      " 3   CAR_REG_NO          object \n",
      " 4   CAR_SER_NO          object \n",
      " 5   CAR_TYPE_NM         object \n",
      " 6   CAR_YEAR            int64  \n",
      " 7   CMB_SMO_CHK_REG_NO  object \n",
      " 8   CO2_VAL             float64\n",
      " 9   ENGINE_TOR_LIM      float64\n",
      " 10  ENGINE_TOR_VAL      float64\n",
      " 11  ENGINE_TYPE         object \n",
      " 12  O2_VAL              float64\n",
      " 13  RE_INS_DATE2        object \n",
      " 14  SMO_CHK_DATE        int64  \n",
      " 15  SMO_CHK_JUDGE_YN    object \n",
      " 16  SMO_CHK_METHOD      object \n",
      " 17  SMO_CHK_ORG_NM      object \n",
      " 18  SMO_CHK_REG_NO      object \n",
      " 19  SMO_CHK_TYPE        object \n",
      " 20  SMO_CLOCK_INFO      object \n",
      " 21  UNLOAD_SMO_JUDGE1   object \n",
      " 22  UNLOAD_SMO_JUDGE2   object \n",
      " 23  UNLOAD_SMO_JUDGE3   object \n",
      " 24  UNLOAD_SMO_JUDGE4   object \n",
      " 25  UNLOAD_SMO_JUDGE5   object \n",
      " 26  UNLOAD_SMO_JUDGE6   object \n",
      " 27  UNLOAD_SMO_LIM1     float64\n",
      " 28  UNLOAD_SMO_LIM2     float64\n",
      " 29  UNLOAD_SMO_LIM3     float64\n",
      " 30  UNLOAD_SMO_LIM4     float64\n",
      " 31  UNLOAD_SMO_LIM5     float64\n",
      " 32  UNLOAD_SMO_LIM6     float64\n",
      " 33  UNLOAD_SMO_VAL1     float64\n",
      " 34  UNLOAD_SMO_VAL2     float64\n",
      " 35  UNLOAD_SMO_VAL3     float64\n",
      " 36  UNLOAD_SMO_VAL4     float64\n",
      " 37  UNLOAD_SMO_VAL5     float64\n",
      " 38  UNLOAD_SMO_VAL6     float64\n",
      " 39  USAGE               object \n",
      " 40  SMO_CHK_EXP_DATE    float64\n",
      "dtypes: float64(18), int64(2), object(21)\n",
      "memory usage: 8.8+ GB\n"
     ]
    }
   ],
   "source": [
    "dins = dins[col]\n",
    "dins.info()"
   ]
  },
  {
   "cell_type": "code",
   "execution_count": 111,
   "metadata": {},
   "outputs": [],
   "source": [
    "dins.columns = sel_col"
   ]
  },
  {
   "cell_type": "code",
   "execution_count": 112,
   "metadata": {},
   "outputs": [
    {
     "data": {
      "text/plain": [
       "Index(['사용연료', '주행거리', '차명', '차량번호', '차대번호', '차종', '차량연식', '정밀검사 검사소코드',\n",
       "       '이산화탄소값', '최대출력허용치', '최대출력측정값', '엔진형식', '산소값', '재검사기간', '정밀검사일자',\n",
       "       '정밀검사판정', '정밀검사측정방법', '정밀검사소명', '정밀검사접수번호', '정밀검사종류', '정밀검사시각정보',\n",
       "       '무부하매연판정1', '무부하매연판정2', '무부하매연판정3', '무부하매연판정4', '무부하매연판정5', '무부하매연판정6',\n",
       "       '무부하매연허용치1', '무부하매연허용치2', '무부하매연허용치3', '무부하매연허용치4', '무부하매연허용치5',\n",
       "       '무부하매연허용치6', '무부하매연측정치1', '무부하매연측정치2', '무부하매연측정치3', '무부하매연측정치4',\n",
       "       '무부하매연측정치5', '무부하매연측정치6', '차량용도', '정밀검사유효기간'],\n",
       "      dtype='object')"
      ]
     },
     "execution_count": 112,
     "metadata": {},
     "output_type": "execute_result"
    }
   ],
   "source": [
    "dins.columns"
   ]
  },
  {
   "cell_type": "code",
   "execution_count": 113,
   "metadata": {},
   "outputs": [],
   "source": [
    "dins = dins[['사용연료', '주행거리', '차명', '차량번호', '차대번호', '차종', '차량연식', '정밀검사측정방법', '이산화탄소값',\n",
    "       '최대출력허용치', '최대출력측정값', '엔진형식', '정밀검사접수번호', '정밀검사일자', '정밀검사종류', '정밀검사소명', '정밀검사시각정보', '정밀검사판정', \n",
    "       '산소값', '재검사기간',  '무부하매연판정1', '무부하매연판정2', '무부하매연판정3', '무부하매연판정4', '무부하매연판정5', '무부하매연판정6', '무부하매연허용치1',\n",
    "       '무부하매연허용치2', '무부하매연허용치3', '무부하매연허용치4', '무부하매연허용치5', '무부하매연허용치6',\n",
    "       '무부하매연측정치1', '무부하매연측정치2', '무부하매연측정치3', '무부하매연측정치4', '무부하매연측정치5',\n",
    "       '무부하매연측정치6', '차량용도']]"
   ]
  },
  {
   "cell_type": "code",
   "execution_count": 114,
   "metadata": {},
   "outputs": [
    {
     "data": {
      "text/plain": [
       "39"
      ]
     },
     "execution_count": 114,
     "metadata": {},
     "output_type": "execute_result"
    }
   ],
   "source": [
    "len(dins.columns)"
   ]
  },
  {
   "cell_type": "code",
   "execution_count": 115,
   "metadata": {},
   "outputs": [],
   "source": [
    "dins.columns = ['사용연료', '주행거리', '차명', '차량번호', '차대번호', '차종', '차량연식', '검사방법', '이산화탄소값', '최대출력허용치',\n",
    "       '최대출력측정값', '엔진형식', '검사접수번호', '검사일자', '검사종류', '검사소명', '검사판정시각',\n",
    "       '검사판정', '산소값', '재검사기간', '무부하매연판정1', '무부하매연판정2', '무부하매연판정3',\n",
    "       '무부하매연판정4', '무부하매연판정5', '무부하매연판정6', '무부하매연허용치1', '무부하매연허용치2',\n",
    "       '무부하매연허용치3', '무부하매연허용치4', '무부하매연허용치5', '무부하매연허용치6', '무부하매연측정치1',\n",
    "       '무부하매연측정치2', '무부하매연측정치3', '무부하매연측정치4', '무부하매연측정치5', '무부하매연측정치6',\n",
    "       '차량용도']"
   ]
  },
  {
   "cell_type": "code",
   "execution_count": 116,
   "metadata": {},
   "outputs": [],
   "source": [
    "dins['정기정밀'] = '정밀'"
   ]
  },
  {
   "cell_type": "code",
   "execution_count": 117,
   "metadata": {},
   "outputs": [
    {
     "data": {
      "text/plain": [
       "count   28682228.00\n",
       "mean    20207111.54\n",
       "std        10853.16\n",
       "min     20190102.00\n",
       "25%     20200409.00\n",
       "50%     20210319.00\n",
       "75%     20220127.00\n",
       "max     20230107.00\n",
       "Name: 검사일자, dtype: float64"
      ]
     },
     "execution_count": 117,
     "metadata": {},
     "output_type": "execute_result"
    }
   ],
   "source": [
    "dins['검사일자'].describe()"
   ]
  },
  {
   "cell_type": "code",
   "execution_count": 118,
   "metadata": {},
   "outputs": [
    {
     "data": {
      "text/plain": [
       "(40, 40)"
      ]
     },
     "execution_count": 118,
     "metadata": {},
     "output_type": "execute_result"
    }
   ],
   "source": [
    "len(ins.columns), len(dins.columns)"
   ]
  },
  {
   "cell_type": "code",
   "execution_count": 119,
   "metadata": {},
   "outputs": [
    {
     "data": {
      "text/plain": [
       "((22006426, 40), (28682228, 40))"
      ]
     },
     "execution_count": 119,
     "metadata": {},
     "output_type": "execute_result"
    }
   ],
   "source": [
    "ins.shape, dins.shape"
   ]
  },
  {
   "cell_type": "code",
   "execution_count": 135,
   "metadata": {},
   "outputs": [
    {
     "data": {
      "text/plain": [
       "Index(['사용연료', '주행거리', '차명', '차량번호', '차대번호', '차종', '차량연식', '검사방법', '이산화탄소값',\n",
       "       '최대출력허용치', '최대출력측정값', '엔진형식', '검사접수번호', '검사일자', '검사종류', '검사소명',\n",
       "       '검사판정시각', '검사판정', '산소값', '재검사기간', '무부하매연판정1', '무부하매연판정2', '무부하매연판정3',\n",
       "       '무부하매연판정4', '무부하매연판정5', '무부하매연판정6', '무부하매연허용치1', '무부하매연허용치2',\n",
       "       '무부하매연허용치3', '무부하매연허용치4', '무부하매연허용치5', '무부하매연허용치6', '무부하매연측정치1',\n",
       "       '무부하매연측정치2', '무부하매연측정치3', '무부하매연측정치4', '무부하매연측정치5', '무부하매연측정치6', '차량용도',\n",
       "       '정기정밀'],\n",
       "      dtype='object')"
      ]
     },
     "execution_count": 135,
     "metadata": {},
     "output_type": "execute_result"
    }
   ],
   "source": [
    "ins.columns"
   ]
  },
  {
   "cell_type": "code",
   "execution_count": 139,
   "metadata": {},
   "outputs": [
    {
     "data": {
      "text/plain": [
       "array(['무부하검사(급가속)', '무부하검사(TSI)', '무부하검사(정지가동)'], dtype=object)"
      ]
     },
     "execution_count": 139,
     "metadata": {},
     "output_type": "execute_result"
    }
   ],
   "source": [
    "ins['검사방법'].unique()"
   ]
  },
  {
   "cell_type": "code",
   "execution_count": 136,
   "metadata": {},
   "outputs": [
    {
     "data": {
      "text/plain": [
       "Index(['사용연료', '주행거리', '차명', '차량번호', '차대번호', '차종', '차량연식', '검사방법', '이산화탄소값',\n",
       "       '최대출력허용치', '최대출력측정값', '엔진형식', '검사접수번호', '검사일자', '검사종류', '검사소명',\n",
       "       '검사판정시각', '검사판정', '산소값', '재검사기간', '무부하매연판정1', '무부하매연판정2', '무부하매연판정3',\n",
       "       '무부하매연판정4', '무부하매연판정5', '무부하매연판정6', '무부하매연허용치1', '무부하매연허용치2',\n",
       "       '무부하매연허용치3', '무부하매연허용치4', '무부하매연허용치5', '무부하매연허용치6', '무부하매연측정치1',\n",
       "       '무부하매연측정치2', '무부하매연측정치3', '무부하매연측정치4', '무부하매연측정치5', '무부하매연측정치6', '차량용도',\n",
       "       '정기정밀'],\n",
       "      dtype='object')"
      ]
     },
     "execution_count": 136,
     "metadata": {},
     "output_type": "execute_result"
    }
   ],
   "source": [
    "dins.columns"
   ]
  },
  {
   "cell_type": "code",
   "execution_count": 133,
   "metadata": {},
   "outputs": [
    {
     "data": {
      "text/plain": [
       "Index(['차량관리번호', '차량등록번호', '본거지법정동코드', '소유자구분', '차종_등록정보', '용도', '현재회원번호',\n",
       "       '차대번호', '최초등록일자', '차량연식', '차량제작일자', '배출가스검사유효일자', '제원관리번호', '배출가스인증번호',\n",
       "       '배출가스등급', '저공해조치YN(미사용)', '저공해조치종류', '저공해조치구조변경YN', '차량등록번호숫자정보',\n",
       "       '차량말소YN', '최초회원번호', '취득일자', '취득금액', '생성일시_등록정보', '수정일시_등록정보', '차명',\n",
       "       '차종_제원정보', '차종분류', '차종유형(소분류)', '자동차형식', '제작사명', '연료', '엔진형식', '공차중량',\n",
       "       '총중량', '적재중량', '엔진출력', '배기량', '승차인원', '차량길이', '차량너비', '차량높이', '원산지명',\n",
       "       '삭제YN', '승인일자', '구동형식', '변속기종류', '생성일시_제원정보', '수정일시_제원정보'],\n",
       "      dtype='object')"
      ]
     },
     "execution_count": 133,
     "metadata": {},
     "output_type": "execute_result"
    }
   ],
   "source": [
    "cond1.columns"
   ]
  },
  {
   "cell_type": "code",
   "execution_count": 134,
   "metadata": {},
   "outputs": [
    {
     "data": {
      "text/plain": [
       "Index(['차량관리번호', '차량등록번호', '본거지법정동코드', '소유자구분', '차종_등록정보', '용도', '현재회원번호',\n",
       "       '차대번호', '최초등록일자', '차량연식', '차량제작일자', '배출가스검사유효일자', '제원관리번호', '배출가스인증번호',\n",
       "       '배출가스등급', '저공해조치YN(미사용)', '저공해조치종류', '저공해조치구조변경YN', '차량등록번호숫자정보',\n",
       "       '차량말소YN', '최초회원번호', '취득일자', '취득금액', '생성일시_등록정보', '수정일시_등록정보', '차명',\n",
       "       '차종_제원정보', '차종분류', '차종유형(소분류)', '자동차형식', '제작사명', '연료', '엔진형식', '공차중량',\n",
       "       '총중량', '적재중량', '엔진출력', '배기량', '승차인원', '차량길이', '차량너비', '차량높이', '원산지명',\n",
       "       '삭제YN', '승인일자', '구동형식', '변속기종류', '생성일시_제원정보', '수정일시_제원정보'],\n",
       "      dtype='object')"
      ]
     },
     "execution_count": 134,
     "metadata": {},
     "output_type": "execute_result"
    }
   ],
   "source": [
    "cond2.columns"
   ]
  },
  {
   "cell_type": "code",
   "execution_count": 137,
   "metadata": {},
   "outputs": [],
   "source": [
    "icond1 = cond1.merge(ins, on='차대번호', how='left') # 4등급 정기검사 매칭\n",
    "dcond1 = cond1.merge(dins, on='차대번호', how='left') # 4등급 정밀검사 매칭"
   ]
  },
  {
   "cell_type": "code",
   "execution_count": 138,
   "metadata": {},
   "outputs": [
    {
     "data": {
      "text/plain": [
       "((193063, 88), (21040, 88), (180091, 88), (41083, 88))"
      ]
     },
     "execution_count": 138,
     "metadata": {},
     "output_type": "execute_result"
    }
   ],
   "source": [
    "# 4등급 \n",
    "icond1Y = icond1[icond1['무부하매연판정1'] == 'Y'].reset_index(drop=True) # 정기 매연검사 합격\n",
    "icond1N = icond1[icond1['무부하매연판정1'] == 'N'].reset_index(drop=True) # 정기 매연검사 불합격\n",
    "dcond1Y = dcond1[dcond1['무부하매연판정1'] == 'Y'].reset_index(drop=True) # 정밀 매연검사 합격\n",
    "dcond1N = dcond1[dcond1['무부하매연판정1'] == 'N'].reset_index(drop=True) # 정밀 매연검사 불합격\n",
    "icond1Y.shape, icond1N.shape, dcond1Y.shape, dcond1N.shape"
   ]
  },
  {
   "cell_type": "code",
   "execution_count": 141,
   "metadata": {},
   "outputs": [
    {
     "data": {
      "text/html": [
       "<div>\n",
       "<style scoped>\n",
       "    .dataframe tbody tr th:only-of-type {\n",
       "        vertical-align: middle;\n",
       "    }\n",
       "\n",
       "    .dataframe tbody tr th {\n",
       "        vertical-align: top;\n",
       "    }\n",
       "\n",
       "    .dataframe thead th {\n",
       "        text-align: right;\n",
       "    }\n",
       "</style>\n",
       "<table border=\"1\" class=\"dataframe\">\n",
       "  <thead>\n",
       "    <tr style=\"text-align: right;\">\n",
       "      <th></th>\n",
       "      <th></th>\n",
       "      <th>mean</th>\n",
       "      <th>min</th>\n",
       "      <th>max</th>\n",
       "    </tr>\n",
       "    <tr>\n",
       "      <th>제원관리번호</th>\n",
       "      <th>자동차형식</th>\n",
       "      <th></th>\n",
       "      <th></th>\n",
       "      <th></th>\n",
       "    </tr>\n",
       "  </thead>\n",
       "  <tbody>\n",
       "    <tr>\n",
       "      <th>00034427000113118</th>\n",
       "      <th>SED45J-BF</th>\n",
       "      <td>5.75</td>\n",
       "      <td>0.00</td>\n",
       "      <td>15.00</td>\n",
       "    </tr>\n",
       "    <tr>\n",
       "      <th>2P810000500003108</th>\n",
       "      <th>HKVAN-K1BX3</th>\n",
       "      <td>13.75</td>\n",
       "      <td>10.00</td>\n",
       "      <td>17.00</td>\n",
       "    </tr>\n",
       "    <tr>\n",
       "      <th>A0110003111783107</th>\n",
       "      <th>SEL13F8-RTSS</th>\n",
       "      <td>23.00</td>\n",
       "      <td>23.00</td>\n",
       "      <td>23.00</td>\n",
       "    </tr>\n",
       "    <tr>\n",
       "      <th>A0110003111803107</th>\n",
       "      <th>SEL12F8-RTSS-E</th>\n",
       "      <td>9.00</td>\n",
       "      <td>8.00</td>\n",
       "      <td>10.00</td>\n",
       "    </tr>\n",
       "    <tr>\n",
       "      <th>A0110003112043107</th>\n",
       "      <th>SEL13F8-PRTSS</th>\n",
       "      <td>4.33</td>\n",
       "      <td>0.00</td>\n",
       "      <td>10.00</td>\n",
       "    </tr>\n",
       "    <tr>\n",
       "      <th>...</th>\n",
       "      <th>...</th>\n",
       "      <td>...</td>\n",
       "      <td>...</td>\n",
       "      <td>...</td>\n",
       "    </tr>\n",
       "    <tr>\n",
       "      <th>B7F10004500004108</th>\n",
       "      <th>KJM1.0BKP-BW2</th>\n",
       "      <td>4.50</td>\n",
       "      <td>0.00</td>\n",
       "      <td>8.00</td>\n",
       "    </tr>\n",
       "    <tr>\n",
       "      <th>B7M10000700004108</th>\n",
       "      <th>SR-100</th>\n",
       "      <td>5.00</td>\n",
       "      <td>1.00</td>\n",
       "      <td>10.00</td>\n",
       "    </tr>\n",
       "    <tr>\n",
       "      <th>B7Y10000700004108</th>\n",
       "      <th>DAP-120</th>\n",
       "      <td>8.09</td>\n",
       "      <td>0.00</td>\n",
       "      <td>20.00</td>\n",
       "    </tr>\n",
       "    <tr>\n",
       "      <th>B9P10000900004108</th>\n",
       "      <th>DLC24-TS</th>\n",
       "      <td>9.51</td>\n",
       "      <td>0.00</td>\n",
       "      <td>25.00</td>\n",
       "    </tr>\n",
       "    <tr>\n",
       "      <th>BAE10000400004108</th>\n",
       "      <th>CHL-25M</th>\n",
       "      <td>9.09</td>\n",
       "      <td>0.00</td>\n",
       "      <td>24.00</td>\n",
       "    </tr>\n",
       "  </tbody>\n",
       "</table>\n",
       "<p>475 rows × 3 columns</p>\n",
       "</div>"
      ],
      "text/plain": [
       "                                  mean   min   max\n",
       "제원관리번호            자동차형식                           \n",
       "00034427000113118 SED45J-BF       5.75  0.00 15.00\n",
       "2P810000500003108 HKVAN-K1BX3    13.75 10.00 17.00\n",
       "A0110003111783107 SEL13F8-RTSS   23.00 23.00 23.00\n",
       "A0110003111803107 SEL12F8-RTSS-E  9.00  8.00 10.00\n",
       "A0110003112043107 SEL13F8-PRTSS   4.33  0.00 10.00\n",
       "...                                ...   ...   ...\n",
       "B7F10004500004108 KJM1.0BKP-BW2   4.50  0.00  8.00\n",
       "B7M10000700004108 SR-100          5.00  1.00 10.00\n",
       "B7Y10000700004108 DAP-120         8.09  0.00 20.00\n",
       "B9P10000900004108 DLC24-TS        9.51  0.00 25.00\n",
       "BAE10000400004108 CHL-25M         9.09  0.00 24.00\n",
       "\n",
       "[475 rows x 3 columns]"
      ]
     },
     "execution_count": 141,
     "metadata": {},
     "output_type": "execute_result"
    }
   ],
   "source": [
    "icond1Y.groupby(['제원관리번호', '자동차형식'])['무부하매연측정치1'].agg(['mean', 'min', 'max'])"
   ]
  },
  {
   "cell_type": "code",
   "execution_count": 142,
   "metadata": {},
   "outputs": [
    {
     "data": {
      "text/html": [
       "<div>\n",
       "<style scoped>\n",
       "    .dataframe tbody tr th:only-of-type {\n",
       "        vertical-align: middle;\n",
       "    }\n",
       "\n",
       "    .dataframe tbody tr th {\n",
       "        vertical-align: top;\n",
       "    }\n",
       "\n",
       "    .dataframe thead tr th {\n",
       "        text-align: left;\n",
       "    }\n",
       "\n",
       "    .dataframe thead tr:last-of-type th {\n",
       "        text-align: right;\n",
       "    }\n",
       "</style>\n",
       "<table border=\"1\" class=\"dataframe\">\n",
       "  <thead>\n",
       "    <tr>\n",
       "      <th></th>\n",
       "      <th></th>\n",
       "      <th>mean</th>\n",
       "      <th>min</th>\n",
       "      <th>max</th>\n",
       "    </tr>\n",
       "    <tr>\n",
       "      <th></th>\n",
       "      <th>검사방법</th>\n",
       "      <th>무부하검사(급가속)</th>\n",
       "      <th>무부하검사(급가속)</th>\n",
       "      <th>무부하검사(급가속)</th>\n",
       "    </tr>\n",
       "    <tr>\n",
       "      <th>제원관리번호</th>\n",
       "      <th>자동차형식</th>\n",
       "      <th></th>\n",
       "      <th></th>\n",
       "      <th></th>\n",
       "    </tr>\n",
       "  </thead>\n",
       "  <tbody>\n",
       "    <tr>\n",
       "      <th>00034427000113118</th>\n",
       "      <th>SED45J-BF</th>\n",
       "      <td>5.75</td>\n",
       "      <td>0.00</td>\n",
       "      <td>15.00</td>\n",
       "    </tr>\n",
       "    <tr>\n",
       "      <th>2P810000500003108</th>\n",
       "      <th>HKVAN-K1BX3</th>\n",
       "      <td>13.75</td>\n",
       "      <td>10.00</td>\n",
       "      <td>17.00</td>\n",
       "    </tr>\n",
       "    <tr>\n",
       "      <th>A0110003111783107</th>\n",
       "      <th>SEL13F8-RTSS</th>\n",
       "      <td>23.00</td>\n",
       "      <td>23.00</td>\n",
       "      <td>23.00</td>\n",
       "    </tr>\n",
       "    <tr>\n",
       "      <th>A0110003111803107</th>\n",
       "      <th>SEL12F8-RTSS-E</th>\n",
       "      <td>9.00</td>\n",
       "      <td>8.00</td>\n",
       "      <td>10.00</td>\n",
       "    </tr>\n",
       "    <tr>\n",
       "      <th>A0110003112043107</th>\n",
       "      <th>SEL13F8-PRTSS</th>\n",
       "      <td>4.33</td>\n",
       "      <td>0.00</td>\n",
       "      <td>10.00</td>\n",
       "    </tr>\n",
       "    <tr>\n",
       "      <th>...</th>\n",
       "      <th>...</th>\n",
       "      <td>...</td>\n",
       "      <td>...</td>\n",
       "      <td>...</td>\n",
       "    </tr>\n",
       "    <tr>\n",
       "      <th>B7F10004500004108</th>\n",
       "      <th>KJM1.0BKP-BW2</th>\n",
       "      <td>4.50</td>\n",
       "      <td>0.00</td>\n",
       "      <td>8.00</td>\n",
       "    </tr>\n",
       "    <tr>\n",
       "      <th>B7M10000700004108</th>\n",
       "      <th>SR-100</th>\n",
       "      <td>5.00</td>\n",
       "      <td>1.00</td>\n",
       "      <td>10.00</td>\n",
       "    </tr>\n",
       "    <tr>\n",
       "      <th>B7Y10000700004108</th>\n",
       "      <th>DAP-120</th>\n",
       "      <td>8.09</td>\n",
       "      <td>0.00</td>\n",
       "      <td>20.00</td>\n",
       "    </tr>\n",
       "    <tr>\n",
       "      <th>B9P10000900004108</th>\n",
       "      <th>DLC24-TS</th>\n",
       "      <td>9.51</td>\n",
       "      <td>0.00</td>\n",
       "      <td>25.00</td>\n",
       "    </tr>\n",
       "    <tr>\n",
       "      <th>BAE10000400004108</th>\n",
       "      <th>CHL-25M</th>\n",
       "      <td>9.09</td>\n",
       "      <td>0.00</td>\n",
       "      <td>24.00</td>\n",
       "    </tr>\n",
       "  </tbody>\n",
       "</table>\n",
       "<p>475 rows × 3 columns</p>\n",
       "</div>"
      ],
      "text/plain": [
       "                                       mean        min        max\n",
       "검사방법                             무부하검사(급가속) 무부하검사(급가속) 무부하검사(급가속)\n",
       "제원관리번호            자동차형식                                          \n",
       "00034427000113118 SED45J-BF            5.75       0.00      15.00\n",
       "2P810000500003108 HKVAN-K1BX3         13.75      10.00      17.00\n",
       "A0110003111783107 SEL13F8-RTSS        23.00      23.00      23.00\n",
       "A0110003111803107 SEL12F8-RTSS-E       9.00       8.00      10.00\n",
       "A0110003112043107 SEL13F8-PRTSS        4.33       0.00      10.00\n",
       "...                                     ...        ...        ...\n",
       "B7F10004500004108 KJM1.0BKP-BW2        4.50       0.00       8.00\n",
       "B7M10000700004108 SR-100               5.00       1.00      10.00\n",
       "B7Y10000700004108 DAP-120              8.09       0.00      20.00\n",
       "B9P10000900004108 DLC24-TS             9.51       0.00      25.00\n",
       "BAE10000400004108 CHL-25M              9.09       0.00      24.00\n",
       "\n",
       "[475 rows x 3 columns]"
      ]
     },
     "execution_count": 142,
     "metadata": {},
     "output_type": "execute_result"
    }
   ],
   "source": [
    "icond1Y.groupby(['제원관리번호', '자동차형식', '검사방법'])['무부하매연측정치1'].agg(['mean', 'min', 'max']).unstack()"
   ]
  },
  {
   "cell_type": "code",
   "execution_count": null,
   "metadata": {},
   "outputs": [],
   "source": []
  },
  {
   "cell_type": "code",
   "execution_count": 143,
   "metadata": {},
   "outputs": [
    {
     "data": {
      "text/html": [
       "<div>\n",
       "<style scoped>\n",
       "    .dataframe tbody tr th:only-of-type {\n",
       "        vertical-align: middle;\n",
       "    }\n",
       "\n",
       "    .dataframe tbody tr th {\n",
       "        vertical-align: top;\n",
       "    }\n",
       "\n",
       "    .dataframe thead th {\n",
       "        text-align: right;\n",
       "    }\n",
       "</style>\n",
       "<table border=\"1\" class=\"dataframe\">\n",
       "  <thead>\n",
       "    <tr style=\"text-align: right;\">\n",
       "      <th></th>\n",
       "      <th></th>\n",
       "      <th>mean</th>\n",
       "      <th>min</th>\n",
       "      <th>max</th>\n",
       "    </tr>\n",
       "    <tr>\n",
       "      <th>제원관리번호</th>\n",
       "      <th>자동차형식</th>\n",
       "      <th></th>\n",
       "      <th></th>\n",
       "      <th></th>\n",
       "    </tr>\n",
       "  </thead>\n",
       "  <tbody>\n",
       "    <tr>\n",
       "      <th>A0110003112083107</th>\n",
       "      <th>SEL12F8-RTS-FRP</th>\n",
       "      <td>70.50</td>\n",
       "      <td>52.00</td>\n",
       "      <td>89.00</td>\n",
       "    </tr>\n",
       "    <tr>\n",
       "      <th>A0110003112193107</th>\n",
       "      <th>SES15F8-DP</th>\n",
       "      <td>59.00</td>\n",
       "      <td>24.00</td>\n",
       "      <td>94.00</td>\n",
       "    </tr>\n",
       "    <tr>\n",
       "      <th>A0110003112693107</th>\n",
       "      <th>SES42J-A</th>\n",
       "      <td>365.30</td>\n",
       "      <td>47.00</td>\n",
       "      <td>999.90</td>\n",
       "    </tr>\n",
       "    <tr>\n",
       "      <th>A0110003112733107</th>\n",
       "      <th>SES42J-AF</th>\n",
       "      <td>37.67</td>\n",
       "      <td>34.00</td>\n",
       "      <td>45.00</td>\n",
       "    </tr>\n",
       "    <tr>\n",
       "      <th>A0110003112853107</th>\n",
       "      <th>SEK42J-A</th>\n",
       "      <td>50.54</td>\n",
       "      <td>25.00</td>\n",
       "      <td>99.00</td>\n",
       "    </tr>\n",
       "    <tr>\n",
       "      <th>...</th>\n",
       "      <th>...</th>\n",
       "      <td>...</td>\n",
       "      <td>...</td>\n",
       "      <td>...</td>\n",
       "    </tr>\n",
       "    <tr>\n",
       "      <th>B7B10003100003208</th>\n",
       "      <th>KK-HR1750-2</th>\n",
       "      <td>77.00</td>\n",
       "      <td>77.00</td>\n",
       "      <td>77.00</td>\n",
       "    </tr>\n",
       "    <tr>\n",
       "      <th>B7F10004500004108</th>\n",
       "      <th>KJM1.0BKP-BW2</th>\n",
       "      <td>33.00</td>\n",
       "      <td>33.00</td>\n",
       "      <td>33.00</td>\n",
       "    </tr>\n",
       "    <tr>\n",
       "      <th>B7Y10000700004108</th>\n",
       "      <th>DAP-120</th>\n",
       "      <td>27.00</td>\n",
       "      <td>27.00</td>\n",
       "      <td>27.00</td>\n",
       "    </tr>\n",
       "    <tr>\n",
       "      <th>B9P10000900004108</th>\n",
       "      <th>DLC24-TS</th>\n",
       "      <td>71.25</td>\n",
       "      <td>67.00</td>\n",
       "      <td>78.00</td>\n",
       "    </tr>\n",
       "    <tr>\n",
       "      <th>BAE10000400004108</th>\n",
       "      <th>CHL-25M</th>\n",
       "      <td>65.67</td>\n",
       "      <td>54.00</td>\n",
       "      <td>72.00</td>\n",
       "    </tr>\n",
       "  </tbody>\n",
       "</table>\n",
       "<p>366 rows × 3 columns</p>\n",
       "</div>"
      ],
      "text/plain": [
       "                                    mean   min    max\n",
       "제원관리번호            자동차형식                              \n",
       "A0110003112083107 SEL12F8-RTS-FRP  70.50 52.00  89.00\n",
       "A0110003112193107 SES15F8-DP       59.00 24.00  94.00\n",
       "A0110003112693107 SES42J-A        365.30 47.00 999.90\n",
       "A0110003112733107 SES42J-AF        37.67 34.00  45.00\n",
       "A0110003112853107 SEK42J-A         50.54 25.00  99.00\n",
       "...                                  ...   ...    ...\n",
       "B7B10003100003208 KK-HR1750-2      77.00 77.00  77.00\n",
       "B7F10004500004108 KJM1.0BKP-BW2    33.00 33.00  33.00\n",
       "B7Y10000700004108 DAP-120          27.00 27.00  27.00\n",
       "B9P10000900004108 DLC24-TS         71.25 67.00  78.00\n",
       "BAE10000400004108 CHL-25M          65.67 54.00  72.00\n",
       "\n",
       "[366 rows x 3 columns]"
      ]
     },
     "execution_count": 143,
     "metadata": {},
     "output_type": "execute_result"
    }
   ],
   "source": [
    "icond1N.groupby(['제원관리번호', '자동차형식'])['무부하매연측정치1'].agg(['mean', 'min', 'max'])"
   ]
  },
  {
   "cell_type": "code",
   "execution_count": 144,
   "metadata": {},
   "outputs": [
    {
     "data": {
      "text/html": [
       "<div>\n",
       "<style scoped>\n",
       "    .dataframe tbody tr th:only-of-type {\n",
       "        vertical-align: middle;\n",
       "    }\n",
       "\n",
       "    .dataframe tbody tr th {\n",
       "        vertical-align: top;\n",
       "    }\n",
       "\n",
       "    .dataframe thead tr th {\n",
       "        text-align: left;\n",
       "    }\n",
       "\n",
       "    .dataframe thead tr:last-of-type th {\n",
       "        text-align: right;\n",
       "    }\n",
       "</style>\n",
       "<table border=\"1\" class=\"dataframe\">\n",
       "  <thead>\n",
       "    <tr>\n",
       "      <th></th>\n",
       "      <th></th>\n",
       "      <th>mean</th>\n",
       "      <th>min</th>\n",
       "      <th>max</th>\n",
       "    </tr>\n",
       "    <tr>\n",
       "      <th></th>\n",
       "      <th>검사방법</th>\n",
       "      <th>무부하검사(급가속)</th>\n",
       "      <th>무부하검사(급가속)</th>\n",
       "      <th>무부하검사(급가속)</th>\n",
       "    </tr>\n",
       "    <tr>\n",
       "      <th>제원관리번호</th>\n",
       "      <th>자동차형식</th>\n",
       "      <th></th>\n",
       "      <th></th>\n",
       "      <th></th>\n",
       "    </tr>\n",
       "  </thead>\n",
       "  <tbody>\n",
       "    <tr>\n",
       "      <th>A0110003112083107</th>\n",
       "      <th>SEL12F8-RTS-FRP</th>\n",
       "      <td>70.50</td>\n",
       "      <td>52.00</td>\n",
       "      <td>89.00</td>\n",
       "    </tr>\n",
       "    <tr>\n",
       "      <th>A0110003112193107</th>\n",
       "      <th>SES15F8-DP</th>\n",
       "      <td>59.00</td>\n",
       "      <td>24.00</td>\n",
       "      <td>94.00</td>\n",
       "    </tr>\n",
       "    <tr>\n",
       "      <th>A0110003112693107</th>\n",
       "      <th>SES42J-A</th>\n",
       "      <td>365.30</td>\n",
       "      <td>47.00</td>\n",
       "      <td>999.90</td>\n",
       "    </tr>\n",
       "    <tr>\n",
       "      <th>A0110003112733107</th>\n",
       "      <th>SES42J-AF</th>\n",
       "      <td>37.67</td>\n",
       "      <td>34.00</td>\n",
       "      <td>45.00</td>\n",
       "    </tr>\n",
       "    <tr>\n",
       "      <th>A0110003112853107</th>\n",
       "      <th>SEK42J-A</th>\n",
       "      <td>50.54</td>\n",
       "      <td>25.00</td>\n",
       "      <td>99.00</td>\n",
       "    </tr>\n",
       "    <tr>\n",
       "      <th>...</th>\n",
       "      <th>...</th>\n",
       "      <td>...</td>\n",
       "      <td>...</td>\n",
       "      <td>...</td>\n",
       "    </tr>\n",
       "    <tr>\n",
       "      <th>B7B10003100003208</th>\n",
       "      <th>KK-HR1750-2</th>\n",
       "      <td>77.00</td>\n",
       "      <td>77.00</td>\n",
       "      <td>77.00</td>\n",
       "    </tr>\n",
       "    <tr>\n",
       "      <th>B7F10004500004108</th>\n",
       "      <th>KJM1.0BKP-BW2</th>\n",
       "      <td>33.00</td>\n",
       "      <td>33.00</td>\n",
       "      <td>33.00</td>\n",
       "    </tr>\n",
       "    <tr>\n",
       "      <th>B7Y10000700004108</th>\n",
       "      <th>DAP-120</th>\n",
       "      <td>27.00</td>\n",
       "      <td>27.00</td>\n",
       "      <td>27.00</td>\n",
       "    </tr>\n",
       "    <tr>\n",
       "      <th>B9P10000900004108</th>\n",
       "      <th>DLC24-TS</th>\n",
       "      <td>71.25</td>\n",
       "      <td>67.00</td>\n",
       "      <td>78.00</td>\n",
       "    </tr>\n",
       "    <tr>\n",
       "      <th>BAE10000400004108</th>\n",
       "      <th>CHL-25M</th>\n",
       "      <td>65.67</td>\n",
       "      <td>54.00</td>\n",
       "      <td>72.00</td>\n",
       "    </tr>\n",
       "  </tbody>\n",
       "</table>\n",
       "<p>366 rows × 3 columns</p>\n",
       "</div>"
      ],
      "text/plain": [
       "                                        mean        min        max\n",
       "검사방법                              무부하검사(급가속) 무부하검사(급가속) 무부하검사(급가속)\n",
       "제원관리번호            자동차형식                                           \n",
       "A0110003112083107 SEL12F8-RTS-FRP      70.50      52.00      89.00\n",
       "A0110003112193107 SES15F8-DP           59.00      24.00      94.00\n",
       "A0110003112693107 SES42J-A            365.30      47.00     999.90\n",
       "A0110003112733107 SES42J-AF            37.67      34.00      45.00\n",
       "A0110003112853107 SEK42J-A             50.54      25.00      99.00\n",
       "...                                      ...        ...        ...\n",
       "B7B10003100003208 KK-HR1750-2          77.00      77.00      77.00\n",
       "B7F10004500004108 KJM1.0BKP-BW2        33.00      33.00      33.00\n",
       "B7Y10000700004108 DAP-120              27.00      27.00      27.00\n",
       "B9P10000900004108 DLC24-TS             71.25      67.00      78.00\n",
       "BAE10000400004108 CHL-25M              65.67      54.00      72.00\n",
       "\n",
       "[366 rows x 3 columns]"
      ]
     },
     "execution_count": 144,
     "metadata": {},
     "output_type": "execute_result"
    }
   ],
   "source": [
    "icond1N.groupby(['제원관리번호', '자동차형식', '검사방법'])['무부하매연측정치1'].agg(['mean', 'min', 'max']).unstack()"
   ]
  },
  {
   "cell_type": "code",
   "execution_count": null,
   "metadata": {},
   "outputs": [],
   "source": []
  },
  {
   "cell_type": "code",
   "execution_count": 145,
   "metadata": {},
   "outputs": [
    {
     "data": {
      "text/html": [
       "<div>\n",
       "<style scoped>\n",
       "    .dataframe tbody tr th:only-of-type {\n",
       "        vertical-align: middle;\n",
       "    }\n",
       "\n",
       "    .dataframe tbody tr th {\n",
       "        vertical-align: top;\n",
       "    }\n",
       "\n",
       "    .dataframe thead th {\n",
       "        text-align: right;\n",
       "    }\n",
       "</style>\n",
       "<table border=\"1\" class=\"dataframe\">\n",
       "  <thead>\n",
       "    <tr style=\"text-align: right;\">\n",
       "      <th></th>\n",
       "      <th></th>\n",
       "      <th>mean</th>\n",
       "      <th>min</th>\n",
       "      <th>max</th>\n",
       "    </tr>\n",
       "    <tr>\n",
       "      <th>제원관리번호</th>\n",
       "      <th>자동차형식</th>\n",
       "      <th></th>\n",
       "      <th></th>\n",
       "      <th></th>\n",
       "    </tr>\n",
       "  </thead>\n",
       "  <tbody>\n",
       "    <tr>\n",
       "      <th>00034101000013116</th>\n",
       "      <th>SET42K-DRV</th>\n",
       "      <td>10.60</td>\n",
       "      <td>4.00</td>\n",
       "      <td>14.00</td>\n",
       "    </tr>\n",
       "    <tr>\n",
       "      <th>00034101000023116</th>\n",
       "      <th>SET42K-DRV</th>\n",
       "      <td>3.25</td>\n",
       "      <td>0.00</td>\n",
       "      <td>8.00</td>\n",
       "    </tr>\n",
       "    <tr>\n",
       "      <th>A0110003111493107</th>\n",
       "      <th>SEE12HB8</th>\n",
       "      <td>4.20</td>\n",
       "      <td>0.00</td>\n",
       "      <td>9.00</td>\n",
       "    </tr>\n",
       "    <tr>\n",
       "      <th>A0110003111753107</th>\n",
       "      <th>SEL12F8-RTS</th>\n",
       "      <td>1.67</td>\n",
       "      <td>0.00</td>\n",
       "      <td>5.00</td>\n",
       "    </tr>\n",
       "    <tr>\n",
       "      <th>A0110003111783107</th>\n",
       "      <th>SEL13F8-RTSS</th>\n",
       "      <td>6.72</td>\n",
       "      <td>1.00</td>\n",
       "      <td>19.00</td>\n",
       "    </tr>\n",
       "    <tr>\n",
       "      <th>...</th>\n",
       "      <th>...</th>\n",
       "      <td>...</td>\n",
       "      <td>...</td>\n",
       "      <td>...</td>\n",
       "    </tr>\n",
       "    <tr>\n",
       "      <th>B7M10000700004108</th>\n",
       "      <th>SR-100</th>\n",
       "      <td>3.67</td>\n",
       "      <td>1.00</td>\n",
       "      <td>6.00</td>\n",
       "    </tr>\n",
       "    <tr>\n",
       "      <th>B7Y10000700004108</th>\n",
       "      <th>DAP-120</th>\n",
       "      <td>9.50</td>\n",
       "      <td>6.00</td>\n",
       "      <td>15.00</td>\n",
       "    </tr>\n",
       "    <tr>\n",
       "      <th>B9P10000900004108</th>\n",
       "      <th>DLC24-TS</th>\n",
       "      <td>7.72</td>\n",
       "      <td>0.00</td>\n",
       "      <td>20.00</td>\n",
       "    </tr>\n",
       "    <tr>\n",
       "      <th>B9P10001100004108</th>\n",
       "      <th>DLC24N-TS</th>\n",
       "      <td>9.43</td>\n",
       "      <td>5.00</td>\n",
       "      <td>14.00</td>\n",
       "    </tr>\n",
       "    <tr>\n",
       "      <th>BAE10000400004108</th>\n",
       "      <th>CHL-25M</th>\n",
       "      <td>8.61</td>\n",
       "      <td>0.00</td>\n",
       "      <td>19.00</td>\n",
       "    </tr>\n",
       "  </tbody>\n",
       "</table>\n",
       "<p>477 rows × 3 columns</p>\n",
       "</div>"
      ],
      "text/plain": [
       "                                mean  min   max\n",
       "제원관리번호            자동차형식                        \n",
       "00034101000013116 SET42K-DRV   10.60 4.00 14.00\n",
       "00034101000023116 SET42K-DRV    3.25 0.00  8.00\n",
       "A0110003111493107 SEE12HB8      4.20 0.00  9.00\n",
       "A0110003111753107 SEL12F8-RTS   1.67 0.00  5.00\n",
       "A0110003111783107 SEL13F8-RTSS  6.72 1.00 19.00\n",
       "...                              ...  ...   ...\n",
       "B7M10000700004108 SR-100        3.67 1.00  6.00\n",
       "B7Y10000700004108 DAP-120       9.50 6.00 15.00\n",
       "B9P10000900004108 DLC24-TS      7.72 0.00 20.00\n",
       "B9P10001100004108 DLC24N-TS     9.43 5.00 14.00\n",
       "BAE10000400004108 CHL-25M       8.61 0.00 19.00\n",
       "\n",
       "[477 rows x 3 columns]"
      ]
     },
     "execution_count": 145,
     "metadata": {},
     "output_type": "execute_result"
    }
   ],
   "source": [
    "dcond1Y.groupby(['제원관리번호', '자동차형식'])['무부하매연측정치1'].agg(['mean', 'min', 'max'])"
   ]
  },
  {
   "cell_type": "code",
   "execution_count": 146,
   "metadata": {},
   "outputs": [
    {
     "data": {
      "text/html": [
       "<div>\n",
       "<style scoped>\n",
       "    .dataframe tbody tr th:only-of-type {\n",
       "        vertical-align: middle;\n",
       "    }\n",
       "\n",
       "    .dataframe tbody tr th {\n",
       "        vertical-align: top;\n",
       "    }\n",
       "\n",
       "    .dataframe thead tr th {\n",
       "        text-align: left;\n",
       "    }\n",
       "\n",
       "    .dataframe thead tr:last-of-type th {\n",
       "        text-align: right;\n",
       "    }\n",
       "</style>\n",
       "<table border=\"1\" class=\"dataframe\">\n",
       "  <thead>\n",
       "    <tr>\n",
       "      <th></th>\n",
       "      <th></th>\n",
       "      <th colspan=\"3\" halign=\"left\">mean</th>\n",
       "      <th colspan=\"3\" halign=\"left\">min</th>\n",
       "      <th colspan=\"3\" halign=\"left\">max</th>\n",
       "    </tr>\n",
       "    <tr>\n",
       "      <th></th>\n",
       "      <th>검사방법</th>\n",
       "      <th>무부하검사(급가속)</th>\n",
       "      <th>부하검사(KD-147)</th>\n",
       "      <th>부하검사(LUG DOWN)</th>\n",
       "      <th>무부하검사(급가속)</th>\n",
       "      <th>부하검사(KD-147)</th>\n",
       "      <th>부하검사(LUG DOWN)</th>\n",
       "      <th>무부하검사(급가속)</th>\n",
       "      <th>부하검사(KD-147)</th>\n",
       "      <th>부하검사(LUG DOWN)</th>\n",
       "    </tr>\n",
       "    <tr>\n",
       "      <th>제원관리번호</th>\n",
       "      <th>자동차형식</th>\n",
       "      <th></th>\n",
       "      <th></th>\n",
       "      <th></th>\n",
       "      <th></th>\n",
       "      <th></th>\n",
       "      <th></th>\n",
       "      <th></th>\n",
       "      <th></th>\n",
       "      <th></th>\n",
       "    </tr>\n",
       "  </thead>\n",
       "  <tbody>\n",
       "    <tr>\n",
       "      <th>00034101000013116</th>\n",
       "      <th>SET42K-DRV</th>\n",
       "      <td>NaN</td>\n",
       "      <td>10.60</td>\n",
       "      <td>NaN</td>\n",
       "      <td>NaN</td>\n",
       "      <td>4.00</td>\n",
       "      <td>NaN</td>\n",
       "      <td>NaN</td>\n",
       "      <td>14.00</td>\n",
       "      <td>NaN</td>\n",
       "    </tr>\n",
       "    <tr>\n",
       "      <th>00034101000023116</th>\n",
       "      <th>SET42K-DRV</th>\n",
       "      <td>NaN</td>\n",
       "      <td>3.25</td>\n",
       "      <td>NaN</td>\n",
       "      <td>NaN</td>\n",
       "      <td>0.00</td>\n",
       "      <td>NaN</td>\n",
       "      <td>NaN</td>\n",
       "      <td>8.00</td>\n",
       "      <td>NaN</td>\n",
       "    </tr>\n",
       "    <tr>\n",
       "      <th>A0110003111493107</th>\n",
       "      <th>SEE12HB8</th>\n",
       "      <td>NaN</td>\n",
       "      <td>4.20</td>\n",
       "      <td>NaN</td>\n",
       "      <td>NaN</td>\n",
       "      <td>0.00</td>\n",
       "      <td>NaN</td>\n",
       "      <td>NaN</td>\n",
       "      <td>9.00</td>\n",
       "      <td>NaN</td>\n",
       "    </tr>\n",
       "    <tr>\n",
       "      <th>A0110003111753107</th>\n",
       "      <th>SEL12F8-RTS</th>\n",
       "      <td>NaN</td>\n",
       "      <td>1.67</td>\n",
       "      <td>NaN</td>\n",
       "      <td>NaN</td>\n",
       "      <td>0.00</td>\n",
       "      <td>NaN</td>\n",
       "      <td>NaN</td>\n",
       "      <td>5.00</td>\n",
       "      <td>NaN</td>\n",
       "    </tr>\n",
       "    <tr>\n",
       "      <th>A0110003111783107</th>\n",
       "      <th>SEL13F8-RTSS</th>\n",
       "      <td>NaN</td>\n",
       "      <td>6.72</td>\n",
       "      <td>NaN</td>\n",
       "      <td>NaN</td>\n",
       "      <td>1.00</td>\n",
       "      <td>NaN</td>\n",
       "      <td>NaN</td>\n",
       "      <td>19.00</td>\n",
       "      <td>NaN</td>\n",
       "    </tr>\n",
       "    <tr>\n",
       "      <th>...</th>\n",
       "      <th>...</th>\n",
       "      <td>...</td>\n",
       "      <td>...</td>\n",
       "      <td>...</td>\n",
       "      <td>...</td>\n",
       "      <td>...</td>\n",
       "      <td>...</td>\n",
       "      <td>...</td>\n",
       "      <td>...</td>\n",
       "      <td>...</td>\n",
       "    </tr>\n",
       "    <tr>\n",
       "      <th>B7M10000700004108</th>\n",
       "      <th>SR-100</th>\n",
       "      <td>NaN</td>\n",
       "      <td>3.67</td>\n",
       "      <td>NaN</td>\n",
       "      <td>NaN</td>\n",
       "      <td>1.00</td>\n",
       "      <td>NaN</td>\n",
       "      <td>NaN</td>\n",
       "      <td>6.00</td>\n",
       "      <td>NaN</td>\n",
       "    </tr>\n",
       "    <tr>\n",
       "      <th>B7Y10000700004108</th>\n",
       "      <th>DAP-120</th>\n",
       "      <td>NaN</td>\n",
       "      <td>8.00</td>\n",
       "      <td>11.00</td>\n",
       "      <td>NaN</td>\n",
       "      <td>6.00</td>\n",
       "      <td>7.00</td>\n",
       "      <td>NaN</td>\n",
       "      <td>10.00</td>\n",
       "      <td>15.00</td>\n",
       "    </tr>\n",
       "    <tr>\n",
       "      <th>B9P10000900004108</th>\n",
       "      <th>DLC24-TS</th>\n",
       "      <td>NaN</td>\n",
       "      <td>7.35</td>\n",
       "      <td>10.67</td>\n",
       "      <td>NaN</td>\n",
       "      <td>0.00</td>\n",
       "      <td>0.00</td>\n",
       "      <td>NaN</td>\n",
       "      <td>15.00</td>\n",
       "      <td>20.00</td>\n",
       "    </tr>\n",
       "    <tr>\n",
       "      <th>B9P10001100004108</th>\n",
       "      <th>DLC24N-TS</th>\n",
       "      <td>NaN</td>\n",
       "      <td>8.20</td>\n",
       "      <td>12.50</td>\n",
       "      <td>NaN</td>\n",
       "      <td>5.00</td>\n",
       "      <td>11.00</td>\n",
       "      <td>NaN</td>\n",
       "      <td>14.00</td>\n",
       "      <td>14.00</td>\n",
       "    </tr>\n",
       "    <tr>\n",
       "      <th>BAE10000400004108</th>\n",
       "      <th>CHL-25M</th>\n",
       "      <td>NaN</td>\n",
       "      <td>7.80</td>\n",
       "      <td>16.67</td>\n",
       "      <td>NaN</td>\n",
       "      <td>0.00</td>\n",
       "      <td>14.00</td>\n",
       "      <td>NaN</td>\n",
       "      <td>14.00</td>\n",
       "      <td>19.00</td>\n",
       "    </tr>\n",
       "  </tbody>\n",
       "</table>\n",
       "<p>477 rows × 9 columns</p>\n",
       "</div>"
      ],
      "text/plain": [
       "                                     mean                              \\\n",
       "검사방법                           무부하검사(급가속) 부하검사(KD-147) 부하검사(LUG DOWN)   \n",
       "제원관리번호            자동차형식                                                 \n",
       "00034101000013116 SET42K-DRV          NaN        10.60            NaN   \n",
       "00034101000023116 SET42K-DRV          NaN         3.25            NaN   \n",
       "A0110003111493107 SEE12HB8            NaN         4.20            NaN   \n",
       "A0110003111753107 SEL12F8-RTS         NaN         1.67            NaN   \n",
       "A0110003111783107 SEL13F8-RTSS        NaN         6.72            NaN   \n",
       "...                                   ...          ...            ...   \n",
       "B7M10000700004108 SR-100              NaN         3.67            NaN   \n",
       "B7Y10000700004108 DAP-120             NaN         8.00          11.00   \n",
       "B9P10000900004108 DLC24-TS            NaN         7.35          10.67   \n",
       "B9P10001100004108 DLC24N-TS           NaN         8.20          12.50   \n",
       "BAE10000400004108 CHL-25M             NaN         7.80          16.67   \n",
       "\n",
       "                                      min                              \\\n",
       "검사방법                           무부하검사(급가속) 부하검사(KD-147) 부하검사(LUG DOWN)   \n",
       "제원관리번호            자동차형식                                                 \n",
       "00034101000013116 SET42K-DRV          NaN         4.00            NaN   \n",
       "00034101000023116 SET42K-DRV          NaN         0.00            NaN   \n",
       "A0110003111493107 SEE12HB8            NaN         0.00            NaN   \n",
       "A0110003111753107 SEL12F8-RTS         NaN         0.00            NaN   \n",
       "A0110003111783107 SEL13F8-RTSS        NaN         1.00            NaN   \n",
       "...                                   ...          ...            ...   \n",
       "B7M10000700004108 SR-100              NaN         1.00            NaN   \n",
       "B7Y10000700004108 DAP-120             NaN         6.00           7.00   \n",
       "B9P10000900004108 DLC24-TS            NaN         0.00           0.00   \n",
       "B9P10001100004108 DLC24N-TS           NaN         5.00          11.00   \n",
       "BAE10000400004108 CHL-25M             NaN         0.00          14.00   \n",
       "\n",
       "                                      max                              \n",
       "검사방법                           무부하검사(급가속) 부하검사(KD-147) 부하검사(LUG DOWN)  \n",
       "제원관리번호            자동차형식                                                \n",
       "00034101000013116 SET42K-DRV          NaN        14.00            NaN  \n",
       "00034101000023116 SET42K-DRV          NaN         8.00            NaN  \n",
       "A0110003111493107 SEE12HB8            NaN         9.00            NaN  \n",
       "A0110003111753107 SEL12F8-RTS         NaN         5.00            NaN  \n",
       "A0110003111783107 SEL13F8-RTSS        NaN        19.00            NaN  \n",
       "...                                   ...          ...            ...  \n",
       "B7M10000700004108 SR-100              NaN         6.00            NaN  \n",
       "B7Y10000700004108 DAP-120             NaN        10.00          15.00  \n",
       "B9P10000900004108 DLC24-TS            NaN        15.00          20.00  \n",
       "B9P10001100004108 DLC24N-TS           NaN        14.00          14.00  \n",
       "BAE10000400004108 CHL-25M             NaN        14.00          19.00  \n",
       "\n",
       "[477 rows x 9 columns]"
      ]
     },
     "execution_count": 146,
     "metadata": {},
     "output_type": "execute_result"
    }
   ],
   "source": [
    "dcond1Y.groupby(['제원관리번호', '자동차형식', '검사방법'])['무부하매연측정치1'].agg(['mean', 'min', 'max']).unstack()"
   ]
  },
  {
   "cell_type": "code",
   "execution_count": null,
   "metadata": {},
   "outputs": [],
   "source": []
  },
  {
   "cell_type": "code",
   "execution_count": 147,
   "metadata": {},
   "outputs": [
    {
     "data": {
      "text/html": [
       "<div>\n",
       "<style scoped>\n",
       "    .dataframe tbody tr th:only-of-type {\n",
       "        vertical-align: middle;\n",
       "    }\n",
       "\n",
       "    .dataframe tbody tr th {\n",
       "        vertical-align: top;\n",
       "    }\n",
       "\n",
       "    .dataframe thead th {\n",
       "        text-align: right;\n",
       "    }\n",
       "</style>\n",
       "<table border=\"1\" class=\"dataframe\">\n",
       "  <thead>\n",
       "    <tr style=\"text-align: right;\">\n",
       "      <th></th>\n",
       "      <th></th>\n",
       "      <th>mean</th>\n",
       "      <th>min</th>\n",
       "      <th>max</th>\n",
       "    </tr>\n",
       "    <tr>\n",
       "      <th>제원관리번호</th>\n",
       "      <th>자동차형식</th>\n",
       "      <th></th>\n",
       "      <th></th>\n",
       "      <th></th>\n",
       "    </tr>\n",
       "  </thead>\n",
       "  <tbody>\n",
       "    <tr>\n",
       "      <th>00034101000013116</th>\n",
       "      <th>SET42K-DRV</th>\n",
       "      <td>72.00</td>\n",
       "      <td>72.00</td>\n",
       "      <td>72.00</td>\n",
       "    </tr>\n",
       "    <tr>\n",
       "      <th>A0110003111783107</th>\n",
       "      <th>SEL13F8-RTSS</th>\n",
       "      <td>50.33</td>\n",
       "      <td>27.00</td>\n",
       "      <td>92.00</td>\n",
       "    </tr>\n",
       "    <tr>\n",
       "      <th>A0110003112043107</th>\n",
       "      <th>SEL13F8-PRTSS</th>\n",
       "      <td>45.00</td>\n",
       "      <td>45.00</td>\n",
       "      <td>45.00</td>\n",
       "    </tr>\n",
       "    <tr>\n",
       "      <th>A0110003112113107</th>\n",
       "      <th>SEL13F8-WB</th>\n",
       "      <td>62.00</td>\n",
       "      <td>62.00</td>\n",
       "      <td>62.00</td>\n",
       "    </tr>\n",
       "    <tr>\n",
       "      <th>A0110003112123107</th>\n",
       "      <th>SEL12F8-WB-HYD</th>\n",
       "      <td>43.00</td>\n",
       "      <td>37.00</td>\n",
       "      <td>49.00</td>\n",
       "    </tr>\n",
       "    <tr>\n",
       "      <th>...</th>\n",
       "      <th>...</th>\n",
       "      <td>...</td>\n",
       "      <td>...</td>\n",
       "      <td>...</td>\n",
       "    </tr>\n",
       "    <tr>\n",
       "      <th>B7310001300004108</th>\n",
       "      <th>ECO-GED800</th>\n",
       "      <td>19.00</td>\n",
       "      <td>19.00</td>\n",
       "      <td>19.00</td>\n",
       "    </tr>\n",
       "    <tr>\n",
       "      <th>B7B10003100003208</th>\n",
       "      <th>KK-HR1750-2</th>\n",
       "      <td>55.00</td>\n",
       "      <td>55.00</td>\n",
       "      <td>55.00</td>\n",
       "    </tr>\n",
       "    <tr>\n",
       "      <th>B7Y10000700004108</th>\n",
       "      <th>DAP-120</th>\n",
       "      <td>52.00</td>\n",
       "      <td>43.00</td>\n",
       "      <td>67.00</td>\n",
       "    </tr>\n",
       "    <tr>\n",
       "      <th>B9P10000900004108</th>\n",
       "      <th>DLC24-TS</th>\n",
       "      <td>45.47</td>\n",
       "      <td>16.00</td>\n",
       "      <td>90.00</td>\n",
       "    </tr>\n",
       "    <tr>\n",
       "      <th>BAE10000400004108</th>\n",
       "      <th>CHL-25M</th>\n",
       "      <td>34.00</td>\n",
       "      <td>17.00</td>\n",
       "      <td>75.00</td>\n",
       "    </tr>\n",
       "  </tbody>\n",
       "</table>\n",
       "<p>438 rows × 3 columns</p>\n",
       "</div>"
      ],
      "text/plain": [
       "                                  mean   min   max\n",
       "제원관리번호            자동차형식                           \n",
       "00034101000013116 SET42K-DRV     72.00 72.00 72.00\n",
       "A0110003111783107 SEL13F8-RTSS   50.33 27.00 92.00\n",
       "A0110003112043107 SEL13F8-PRTSS  45.00 45.00 45.00\n",
       "A0110003112113107 SEL13F8-WB     62.00 62.00 62.00\n",
       "A0110003112123107 SEL12F8-WB-HYD 43.00 37.00 49.00\n",
       "...                                ...   ...   ...\n",
       "B7310001300004108 ECO-GED800     19.00 19.00 19.00\n",
       "B7B10003100003208 KK-HR1750-2    55.00 55.00 55.00\n",
       "B7Y10000700004108 DAP-120        52.00 43.00 67.00\n",
       "B9P10000900004108 DLC24-TS       45.47 16.00 90.00\n",
       "BAE10000400004108 CHL-25M        34.00 17.00 75.00\n",
       "\n",
       "[438 rows x 3 columns]"
      ]
     },
     "execution_count": 147,
     "metadata": {},
     "output_type": "execute_result"
    }
   ],
   "source": [
    "dcond1N.groupby(['제원관리번호', '자동차형식'])['무부하매연측정치1'].agg(['mean', 'min', 'max'])"
   ]
  },
  {
   "cell_type": "code",
   "execution_count": 148,
   "metadata": {},
   "outputs": [
    {
     "data": {
      "text/html": [
       "<div>\n",
       "<style scoped>\n",
       "    .dataframe tbody tr th:only-of-type {\n",
       "        vertical-align: middle;\n",
       "    }\n",
       "\n",
       "    .dataframe tbody tr th {\n",
       "        vertical-align: top;\n",
       "    }\n",
       "\n",
       "    .dataframe thead tr th {\n",
       "        text-align: left;\n",
       "    }\n",
       "\n",
       "    .dataframe thead tr:last-of-type th {\n",
       "        text-align: right;\n",
       "    }\n",
       "</style>\n",
       "<table border=\"1\" class=\"dataframe\">\n",
       "  <thead>\n",
       "    <tr>\n",
       "      <th></th>\n",
       "      <th></th>\n",
       "      <th colspan=\"3\" halign=\"left\">mean</th>\n",
       "      <th colspan=\"3\" halign=\"left\">min</th>\n",
       "      <th colspan=\"3\" halign=\"left\">max</th>\n",
       "    </tr>\n",
       "    <tr>\n",
       "      <th></th>\n",
       "      <th>검사방법</th>\n",
       "      <th>무부하검사(급가속)</th>\n",
       "      <th>부하검사(KD-147)</th>\n",
       "      <th>부하검사(LUG DOWN)</th>\n",
       "      <th>무부하검사(급가속)</th>\n",
       "      <th>부하검사(KD-147)</th>\n",
       "      <th>부하검사(LUG DOWN)</th>\n",
       "      <th>무부하검사(급가속)</th>\n",
       "      <th>부하검사(KD-147)</th>\n",
       "      <th>부하검사(LUG DOWN)</th>\n",
       "    </tr>\n",
       "    <tr>\n",
       "      <th>제원관리번호</th>\n",
       "      <th>자동차형식</th>\n",
       "      <th></th>\n",
       "      <th></th>\n",
       "      <th></th>\n",
       "      <th></th>\n",
       "      <th></th>\n",
       "      <th></th>\n",
       "      <th></th>\n",
       "      <th></th>\n",
       "      <th></th>\n",
       "    </tr>\n",
       "  </thead>\n",
       "  <tbody>\n",
       "    <tr>\n",
       "      <th>00034101000013116</th>\n",
       "      <th>SET42K-DRV</th>\n",
       "      <td>NaN</td>\n",
       "      <td>72.00</td>\n",
       "      <td>NaN</td>\n",
       "      <td>NaN</td>\n",
       "      <td>72.00</td>\n",
       "      <td>NaN</td>\n",
       "      <td>NaN</td>\n",
       "      <td>72.00</td>\n",
       "      <td>NaN</td>\n",
       "    </tr>\n",
       "    <tr>\n",
       "      <th>A0110003111783107</th>\n",
       "      <th>SEL13F8-RTSS</th>\n",
       "      <td>NaN</td>\n",
       "      <td>50.33</td>\n",
       "      <td>NaN</td>\n",
       "      <td>NaN</td>\n",
       "      <td>27.00</td>\n",
       "      <td>NaN</td>\n",
       "      <td>NaN</td>\n",
       "      <td>92.00</td>\n",
       "      <td>NaN</td>\n",
       "    </tr>\n",
       "    <tr>\n",
       "      <th>A0110003112043107</th>\n",
       "      <th>SEL13F8-PRTSS</th>\n",
       "      <td>NaN</td>\n",
       "      <td>45.00</td>\n",
       "      <td>NaN</td>\n",
       "      <td>NaN</td>\n",
       "      <td>45.00</td>\n",
       "      <td>NaN</td>\n",
       "      <td>NaN</td>\n",
       "      <td>45.00</td>\n",
       "      <td>NaN</td>\n",
       "    </tr>\n",
       "    <tr>\n",
       "      <th>A0110003112113107</th>\n",
       "      <th>SEL13F8-WB</th>\n",
       "      <td>NaN</td>\n",
       "      <td>62.00</td>\n",
       "      <td>NaN</td>\n",
       "      <td>NaN</td>\n",
       "      <td>62.00</td>\n",
       "      <td>NaN</td>\n",
       "      <td>NaN</td>\n",
       "      <td>62.00</td>\n",
       "      <td>NaN</td>\n",
       "    </tr>\n",
       "    <tr>\n",
       "      <th>A0110003112123107</th>\n",
       "      <th>SEL12F8-WB-HYD</th>\n",
       "      <td>NaN</td>\n",
       "      <td>43.00</td>\n",
       "      <td>NaN</td>\n",
       "      <td>NaN</td>\n",
       "      <td>37.00</td>\n",
       "      <td>NaN</td>\n",
       "      <td>NaN</td>\n",
       "      <td>49.00</td>\n",
       "      <td>NaN</td>\n",
       "    </tr>\n",
       "    <tr>\n",
       "      <th>...</th>\n",
       "      <th>...</th>\n",
       "      <td>...</td>\n",
       "      <td>...</td>\n",
       "      <td>...</td>\n",
       "      <td>...</td>\n",
       "      <td>...</td>\n",
       "      <td>...</td>\n",
       "      <td>...</td>\n",
       "      <td>...</td>\n",
       "      <td>...</td>\n",
       "    </tr>\n",
       "    <tr>\n",
       "      <th>B7310001300004108</th>\n",
       "      <th>ECO-GED800</th>\n",
       "      <td>NaN</td>\n",
       "      <td>19.00</td>\n",
       "      <td>NaN</td>\n",
       "      <td>NaN</td>\n",
       "      <td>19.00</td>\n",
       "      <td>NaN</td>\n",
       "      <td>NaN</td>\n",
       "      <td>19.00</td>\n",
       "      <td>NaN</td>\n",
       "    </tr>\n",
       "    <tr>\n",
       "      <th>B7B10003100003208</th>\n",
       "      <th>KK-HR1750-2</th>\n",
       "      <td>NaN</td>\n",
       "      <td>55.00</td>\n",
       "      <td>NaN</td>\n",
       "      <td>NaN</td>\n",
       "      <td>55.00</td>\n",
       "      <td>NaN</td>\n",
       "      <td>NaN</td>\n",
       "      <td>55.00</td>\n",
       "      <td>NaN</td>\n",
       "    </tr>\n",
       "    <tr>\n",
       "      <th>B7Y10000700004108</th>\n",
       "      <th>DAP-120</th>\n",
       "      <td>NaN</td>\n",
       "      <td>67.00</td>\n",
       "      <td>44.50</td>\n",
       "      <td>NaN</td>\n",
       "      <td>67.00</td>\n",
       "      <td>43.00</td>\n",
       "      <td>NaN</td>\n",
       "      <td>67.00</td>\n",
       "      <td>46.00</td>\n",
       "    </tr>\n",
       "    <tr>\n",
       "      <th>B9P10000900004108</th>\n",
       "      <th>DLC24-TS</th>\n",
       "      <td>NaN</td>\n",
       "      <td>43.40</td>\n",
       "      <td>52.86</td>\n",
       "      <td>NaN</td>\n",
       "      <td>16.00</td>\n",
       "      <td>25.00</td>\n",
       "      <td>NaN</td>\n",
       "      <td>90.00</td>\n",
       "      <td>89.00</td>\n",
       "    </tr>\n",
       "    <tr>\n",
       "      <th>BAE10000400004108</th>\n",
       "      <th>CHL-25M</th>\n",
       "      <td>NaN</td>\n",
       "      <td>34.42</td>\n",
       "      <td>29.00</td>\n",
       "      <td>NaN</td>\n",
       "      <td>17.00</td>\n",
       "      <td>29.00</td>\n",
       "      <td>NaN</td>\n",
       "      <td>75.00</td>\n",
       "      <td>29.00</td>\n",
       "    </tr>\n",
       "  </tbody>\n",
       "</table>\n",
       "<p>438 rows × 9 columns</p>\n",
       "</div>"
      ],
      "text/plain": [
       "                                       mean                              \\\n",
       "검사방법                             무부하검사(급가속) 부하검사(KD-147) 부하검사(LUG DOWN)   \n",
       "제원관리번호            자동차형식                                                   \n",
       "00034101000013116 SET42K-DRV            NaN        72.00            NaN   \n",
       "A0110003111783107 SEL13F8-RTSS          NaN        50.33            NaN   \n",
       "A0110003112043107 SEL13F8-PRTSS         NaN        45.00            NaN   \n",
       "A0110003112113107 SEL13F8-WB            NaN        62.00            NaN   \n",
       "A0110003112123107 SEL12F8-WB-HYD        NaN        43.00            NaN   \n",
       "...                                     ...          ...            ...   \n",
       "B7310001300004108 ECO-GED800            NaN        19.00            NaN   \n",
       "B7B10003100003208 KK-HR1750-2           NaN        55.00            NaN   \n",
       "B7Y10000700004108 DAP-120               NaN        67.00          44.50   \n",
       "B9P10000900004108 DLC24-TS              NaN        43.40          52.86   \n",
       "BAE10000400004108 CHL-25M               NaN        34.42          29.00   \n",
       "\n",
       "                                        min                              \\\n",
       "검사방법                             무부하검사(급가속) 부하검사(KD-147) 부하검사(LUG DOWN)   \n",
       "제원관리번호            자동차형식                                                   \n",
       "00034101000013116 SET42K-DRV            NaN        72.00            NaN   \n",
       "A0110003111783107 SEL13F8-RTSS          NaN        27.00            NaN   \n",
       "A0110003112043107 SEL13F8-PRTSS         NaN        45.00            NaN   \n",
       "A0110003112113107 SEL13F8-WB            NaN        62.00            NaN   \n",
       "A0110003112123107 SEL12F8-WB-HYD        NaN        37.00            NaN   \n",
       "...                                     ...          ...            ...   \n",
       "B7310001300004108 ECO-GED800            NaN        19.00            NaN   \n",
       "B7B10003100003208 KK-HR1750-2           NaN        55.00            NaN   \n",
       "B7Y10000700004108 DAP-120               NaN        67.00          43.00   \n",
       "B9P10000900004108 DLC24-TS              NaN        16.00          25.00   \n",
       "BAE10000400004108 CHL-25M               NaN        17.00          29.00   \n",
       "\n",
       "                                        max                              \n",
       "검사방법                             무부하검사(급가속) 부하검사(KD-147) 부하검사(LUG DOWN)  \n",
       "제원관리번호            자동차형식                                                  \n",
       "00034101000013116 SET42K-DRV            NaN        72.00            NaN  \n",
       "A0110003111783107 SEL13F8-RTSS          NaN        92.00            NaN  \n",
       "A0110003112043107 SEL13F8-PRTSS         NaN        45.00            NaN  \n",
       "A0110003112113107 SEL13F8-WB            NaN        62.00            NaN  \n",
       "A0110003112123107 SEL12F8-WB-HYD        NaN        49.00            NaN  \n",
       "...                                     ...          ...            ...  \n",
       "B7310001300004108 ECO-GED800            NaN        19.00            NaN  \n",
       "B7B10003100003208 KK-HR1750-2           NaN        55.00            NaN  \n",
       "B7Y10000700004108 DAP-120               NaN        67.00          46.00  \n",
       "B9P10000900004108 DLC24-TS              NaN        90.00          89.00  \n",
       "BAE10000400004108 CHL-25M               NaN        75.00          29.00  \n",
       "\n",
       "[438 rows x 9 columns]"
      ]
     },
     "execution_count": 148,
     "metadata": {},
     "output_type": "execute_result"
    }
   ],
   "source": [
    "dcond1N.groupby(['제원관리번호', '자동차형식', '검사방법'])['무부하매연측정치1'].agg(['mean', 'min', 'max']).unstack()"
   ]
  },
  {
   "cell_type": "code",
   "execution_count": null,
   "metadata": {},
   "outputs": [],
   "source": []
  },
  {
   "cell_type": "code",
   "execution_count": 152,
   "metadata": {},
   "outputs": [],
   "source": [
    "icond2 = cond2.merge(ins, on='차대번호', how='left') # 3등급 정기검사 매칭\n",
    "dcond2 = cond2.merge(dins, on='차대번호', how='left') # 3등급 정밀검사 매칭"
   ]
  },
  {
   "cell_type": "code",
   "execution_count": 153,
   "metadata": {},
   "outputs": [
    {
     "data": {
      "text/plain": [
       "((8064, 88), (1000, 88), (10737, 88), (2210, 88))"
      ]
     },
     "execution_count": 153,
     "metadata": {},
     "output_type": "execute_result"
    }
   ],
   "source": [
    "# 3등급 \n",
    "icond2Y = icond2[icond2['무부하매연판정1'] == 'Y'].reset_index(drop=True) # 정기 매연검사 합격\n",
    "icond2N = icond2[icond2['무부하매연판정1'] == 'N'].reset_index(drop=True) # 정기 매연검사 불합격\n",
    "dcond2Y = dcond2[dcond2['무부하매연판정1'] == 'Y'].reset_index(drop=True) # 정밀 매연검사 합격\n",
    "dcond2N = dcond2[dcond2['무부하매연판정1'] == 'N'].reset_index(drop=True) # 정밀 매연검사 불합격\n",
    "icond2Y.shape, icond2N.shape, dcond2Y.shape, dcond2N.shape"
   ]
  },
  {
   "cell_type": "code",
   "execution_count": 154,
   "metadata": {},
   "outputs": [
    {
     "data": {
      "text/html": [
       "<div>\n",
       "<style scoped>\n",
       "    .dataframe tbody tr th:only-of-type {\n",
       "        vertical-align: middle;\n",
       "    }\n",
       "\n",
       "    .dataframe tbody tr th {\n",
       "        vertical-align: top;\n",
       "    }\n",
       "\n",
       "    .dataframe thead th {\n",
       "        text-align: right;\n",
       "    }\n",
       "</style>\n",
       "<table border=\"1\" class=\"dataframe\">\n",
       "  <thead>\n",
       "    <tr style=\"text-align: right;\">\n",
       "      <th></th>\n",
       "      <th></th>\n",
       "      <th>mean</th>\n",
       "      <th>min</th>\n",
       "      <th>max</th>\n",
       "    </tr>\n",
       "    <tr>\n",
       "      <th>제원관리번호</th>\n",
       "      <th>자동차형식</th>\n",
       "      <th></th>\n",
       "      <th></th>\n",
       "      <th></th>\n",
       "    </tr>\n",
       "  </thead>\n",
       "  <tbody>\n",
       "    <tr>\n",
       "      <th>A0110003116493108</th>\n",
       "      <th>SEL42K-PGT-2</th>\n",
       "      <td>10.20</td>\n",
       "      <td>0.00</td>\n",
       "      <td>25.00</td>\n",
       "    </tr>\n",
       "    <tr>\n",
       "      <th>A0110003117113109</th>\n",
       "      <th>PUL4AA-L</th>\n",
       "      <td>9.56</td>\n",
       "      <td>0.00</td>\n",
       "      <td>25.00</td>\n",
       "    </tr>\n",
       "    <tr>\n",
       "      <th>A0110003117193109</th>\n",
       "      <th>PUE4BA</th>\n",
       "      <td>9.11</td>\n",
       "      <td>0.00</td>\n",
       "      <td>25.00</td>\n",
       "    </tr>\n",
       "    <tr>\n",
       "      <th>A0110003117863109</th>\n",
       "      <th>PUL4AA-PGT-2</th>\n",
       "      <td>8.14</td>\n",
       "      <td>0.00</td>\n",
       "      <td>25.00</td>\n",
       "    </tr>\n",
       "    <tr>\n",
       "      <th>A0110003118303110</th>\n",
       "      <th>PUS4BB</th>\n",
       "      <td>11.00</td>\n",
       "      <td>11.00</td>\n",
       "      <td>11.00</td>\n",
       "    </tr>\n",
       "    <tr>\n",
       "      <th>A0110003119653111</th>\n",
       "      <th>PUK4BC</th>\n",
       "      <td>10.00</td>\n",
       "      <td>0.00</td>\n",
       "      <td>23.00</td>\n",
       "    </tr>\n",
       "  </tbody>\n",
       "</table>\n",
       "</div>"
      ],
      "text/plain": [
       "                                mean   min   max\n",
       "제원관리번호            자동차형식                         \n",
       "A0110003116493108 SEL42K-PGT-2 10.20  0.00 25.00\n",
       "A0110003117113109 PUL4AA-L      9.56  0.00 25.00\n",
       "A0110003117193109 PUE4BA        9.11  0.00 25.00\n",
       "A0110003117863109 PUL4AA-PGT-2  8.14  0.00 25.00\n",
       "A0110003118303110 PUS4BB       11.00 11.00 11.00\n",
       "A0110003119653111 PUK4BC       10.00  0.00 23.00"
      ]
     },
     "execution_count": 154,
     "metadata": {},
     "output_type": "execute_result"
    }
   ],
   "source": [
    "icond2Y.groupby(['제원관리번호', '자동차형식'])['무부하매연측정치1'].agg(['mean', 'min', 'max'])"
   ]
  },
  {
   "cell_type": "code",
   "execution_count": 155,
   "metadata": {},
   "outputs": [
    {
     "data": {
      "text/html": [
       "<div>\n",
       "<style scoped>\n",
       "    .dataframe tbody tr th:only-of-type {\n",
       "        vertical-align: middle;\n",
       "    }\n",
       "\n",
       "    .dataframe tbody tr th {\n",
       "        vertical-align: top;\n",
       "    }\n",
       "\n",
       "    .dataframe thead tr th {\n",
       "        text-align: left;\n",
       "    }\n",
       "\n",
       "    .dataframe thead tr:last-of-type th {\n",
       "        text-align: right;\n",
       "    }\n",
       "</style>\n",
       "<table border=\"1\" class=\"dataframe\">\n",
       "  <thead>\n",
       "    <tr>\n",
       "      <th></th>\n",
       "      <th></th>\n",
       "      <th>mean</th>\n",
       "      <th>min</th>\n",
       "      <th>max</th>\n",
       "    </tr>\n",
       "    <tr>\n",
       "      <th></th>\n",
       "      <th>검사방법</th>\n",
       "      <th>무부하검사(급가속)</th>\n",
       "      <th>무부하검사(급가속)</th>\n",
       "      <th>무부하검사(급가속)</th>\n",
       "    </tr>\n",
       "    <tr>\n",
       "      <th>제원관리번호</th>\n",
       "      <th>자동차형식</th>\n",
       "      <th></th>\n",
       "      <th></th>\n",
       "      <th></th>\n",
       "    </tr>\n",
       "  </thead>\n",
       "  <tbody>\n",
       "    <tr>\n",
       "      <th>A0110003116493108</th>\n",
       "      <th>SEL42K-PGT-2</th>\n",
       "      <td>10.20</td>\n",
       "      <td>0.00</td>\n",
       "      <td>25.00</td>\n",
       "    </tr>\n",
       "    <tr>\n",
       "      <th>A0110003117113109</th>\n",
       "      <th>PUL4AA-L</th>\n",
       "      <td>9.56</td>\n",
       "      <td>0.00</td>\n",
       "      <td>25.00</td>\n",
       "    </tr>\n",
       "    <tr>\n",
       "      <th>A0110003117193109</th>\n",
       "      <th>PUE4BA</th>\n",
       "      <td>9.11</td>\n",
       "      <td>0.00</td>\n",
       "      <td>25.00</td>\n",
       "    </tr>\n",
       "    <tr>\n",
       "      <th>A0110003117863109</th>\n",
       "      <th>PUL4AA-PGT-2</th>\n",
       "      <td>8.14</td>\n",
       "      <td>0.00</td>\n",
       "      <td>25.00</td>\n",
       "    </tr>\n",
       "    <tr>\n",
       "      <th>A0110003118303110</th>\n",
       "      <th>PUS4BB</th>\n",
       "      <td>11.00</td>\n",
       "      <td>11.00</td>\n",
       "      <td>11.00</td>\n",
       "    </tr>\n",
       "    <tr>\n",
       "      <th>A0110003119653111</th>\n",
       "      <th>PUK4BC</th>\n",
       "      <td>10.00</td>\n",
       "      <td>0.00</td>\n",
       "      <td>23.00</td>\n",
       "    </tr>\n",
       "  </tbody>\n",
       "</table>\n",
       "</div>"
      ],
      "text/plain": [
       "                                     mean        min        max\n",
       "검사방법                           무부하검사(급가속) 무부하검사(급가속) 무부하검사(급가속)\n",
       "제원관리번호            자동차형식                                        \n",
       "A0110003116493108 SEL42K-PGT-2      10.20       0.00      25.00\n",
       "A0110003117113109 PUL4AA-L           9.56       0.00      25.00\n",
       "A0110003117193109 PUE4BA             9.11       0.00      25.00\n",
       "A0110003117863109 PUL4AA-PGT-2       8.14       0.00      25.00\n",
       "A0110003118303110 PUS4BB            11.00      11.00      11.00\n",
       "A0110003119653111 PUK4BC            10.00       0.00      23.00"
      ]
     },
     "execution_count": 155,
     "metadata": {},
     "output_type": "execute_result"
    }
   ],
   "source": [
    "icond2Y.groupby(['제원관리번호', '자동차형식', '검사방법'])['무부하매연측정치1'].agg(['mean', 'min', 'max']).unstack()"
   ]
  },
  {
   "cell_type": "code",
   "execution_count": null,
   "metadata": {},
   "outputs": [],
   "source": []
  },
  {
   "cell_type": "code",
   "execution_count": 156,
   "metadata": {},
   "outputs": [
    {
     "data": {
      "text/html": [
       "<div>\n",
       "<style scoped>\n",
       "    .dataframe tbody tr th:only-of-type {\n",
       "        vertical-align: middle;\n",
       "    }\n",
       "\n",
       "    .dataframe tbody tr th {\n",
       "        vertical-align: top;\n",
       "    }\n",
       "\n",
       "    .dataframe thead th {\n",
       "        text-align: right;\n",
       "    }\n",
       "</style>\n",
       "<table border=\"1\" class=\"dataframe\">\n",
       "  <thead>\n",
       "    <tr style=\"text-align: right;\">\n",
       "      <th></th>\n",
       "      <th></th>\n",
       "      <th>mean</th>\n",
       "      <th>min</th>\n",
       "      <th>max</th>\n",
       "    </tr>\n",
       "    <tr>\n",
       "      <th>제원관리번호</th>\n",
       "      <th>자동차형식</th>\n",
       "      <th></th>\n",
       "      <th></th>\n",
       "      <th></th>\n",
       "    </tr>\n",
       "  </thead>\n",
       "  <tbody>\n",
       "    <tr>\n",
       "      <th>A0110003116493108</th>\n",
       "      <th>SEL42K-PGT-2</th>\n",
       "      <td>41.65</td>\n",
       "      <td>26.00</td>\n",
       "      <td>72.00</td>\n",
       "    </tr>\n",
       "    <tr>\n",
       "      <th>A0110003117113109</th>\n",
       "      <th>PUL4AA-L</th>\n",
       "      <td>50.82</td>\n",
       "      <td>21.00</td>\n",
       "      <td>999.90</td>\n",
       "    </tr>\n",
       "    <tr>\n",
       "      <th>A0110003117193109</th>\n",
       "      <th>PUE4BA</th>\n",
       "      <td>51.18</td>\n",
       "      <td>22.00</td>\n",
       "      <td>999.90</td>\n",
       "    </tr>\n",
       "    <tr>\n",
       "      <th>A0110003117863109</th>\n",
       "      <th>PUL4AA-PGT-2</th>\n",
       "      <td>47.57</td>\n",
       "      <td>28.00</td>\n",
       "      <td>93.00</td>\n",
       "    </tr>\n",
       "  </tbody>\n",
       "</table>\n",
       "</div>"
      ],
      "text/plain": [
       "                                mean   min    max\n",
       "제원관리번호            자동차형식                          \n",
       "A0110003116493108 SEL42K-PGT-2 41.65 26.00  72.00\n",
       "A0110003117113109 PUL4AA-L     50.82 21.00 999.90\n",
       "A0110003117193109 PUE4BA       51.18 22.00 999.90\n",
       "A0110003117863109 PUL4AA-PGT-2 47.57 28.00  93.00"
      ]
     },
     "execution_count": 156,
     "metadata": {},
     "output_type": "execute_result"
    }
   ],
   "source": [
    "icond2N.groupby(['제원관리번호', '자동차형식'])['무부하매연측정치1'].agg(['mean', 'min', 'max'])"
   ]
  },
  {
   "cell_type": "code",
   "execution_count": 157,
   "metadata": {},
   "outputs": [
    {
     "data": {
      "text/html": [
       "<div>\n",
       "<style scoped>\n",
       "    .dataframe tbody tr th:only-of-type {\n",
       "        vertical-align: middle;\n",
       "    }\n",
       "\n",
       "    .dataframe tbody tr th {\n",
       "        vertical-align: top;\n",
       "    }\n",
       "\n",
       "    .dataframe thead tr th {\n",
       "        text-align: left;\n",
       "    }\n",
       "\n",
       "    .dataframe thead tr:last-of-type th {\n",
       "        text-align: right;\n",
       "    }\n",
       "</style>\n",
       "<table border=\"1\" class=\"dataframe\">\n",
       "  <thead>\n",
       "    <tr>\n",
       "      <th></th>\n",
       "      <th></th>\n",
       "      <th>mean</th>\n",
       "      <th>min</th>\n",
       "      <th>max</th>\n",
       "    </tr>\n",
       "    <tr>\n",
       "      <th></th>\n",
       "      <th>검사방법</th>\n",
       "      <th>무부하검사(급가속)</th>\n",
       "      <th>무부하검사(급가속)</th>\n",
       "      <th>무부하검사(급가속)</th>\n",
       "    </tr>\n",
       "    <tr>\n",
       "      <th>제원관리번호</th>\n",
       "      <th>자동차형식</th>\n",
       "      <th></th>\n",
       "      <th></th>\n",
       "      <th></th>\n",
       "    </tr>\n",
       "  </thead>\n",
       "  <tbody>\n",
       "    <tr>\n",
       "      <th>A0110003116493108</th>\n",
       "      <th>SEL42K-PGT-2</th>\n",
       "      <td>41.65</td>\n",
       "      <td>26.00</td>\n",
       "      <td>72.00</td>\n",
       "    </tr>\n",
       "    <tr>\n",
       "      <th>A0110003117113109</th>\n",
       "      <th>PUL4AA-L</th>\n",
       "      <td>50.82</td>\n",
       "      <td>21.00</td>\n",
       "      <td>999.90</td>\n",
       "    </tr>\n",
       "    <tr>\n",
       "      <th>A0110003117193109</th>\n",
       "      <th>PUE4BA</th>\n",
       "      <td>51.18</td>\n",
       "      <td>22.00</td>\n",
       "      <td>999.90</td>\n",
       "    </tr>\n",
       "    <tr>\n",
       "      <th>A0110003117863109</th>\n",
       "      <th>PUL4AA-PGT-2</th>\n",
       "      <td>47.57</td>\n",
       "      <td>28.00</td>\n",
       "      <td>93.00</td>\n",
       "    </tr>\n",
       "  </tbody>\n",
       "</table>\n",
       "</div>"
      ],
      "text/plain": [
       "                                     mean        min        max\n",
       "검사방법                           무부하검사(급가속) 무부하검사(급가속) 무부하검사(급가속)\n",
       "제원관리번호            자동차형식                                        \n",
       "A0110003116493108 SEL42K-PGT-2      41.65      26.00      72.00\n",
       "A0110003117113109 PUL4AA-L          50.82      21.00     999.90\n",
       "A0110003117193109 PUE4BA            51.18      22.00     999.90\n",
       "A0110003117863109 PUL4AA-PGT-2      47.57      28.00      93.00"
      ]
     },
     "execution_count": 157,
     "metadata": {},
     "output_type": "execute_result"
    }
   ],
   "source": [
    "icond2N.groupby(['제원관리번호', '자동차형식', '검사방법'])['무부하매연측정치1'].agg(['mean', 'min', 'max']).unstack()"
   ]
  },
  {
   "cell_type": "code",
   "execution_count": null,
   "metadata": {},
   "outputs": [],
   "source": []
  },
  {
   "cell_type": "code",
   "execution_count": 158,
   "metadata": {},
   "outputs": [
    {
     "data": {
      "text/html": [
       "<div>\n",
       "<style scoped>\n",
       "    .dataframe tbody tr th:only-of-type {\n",
       "        vertical-align: middle;\n",
       "    }\n",
       "\n",
       "    .dataframe tbody tr th {\n",
       "        vertical-align: top;\n",
       "    }\n",
       "\n",
       "    .dataframe thead th {\n",
       "        text-align: right;\n",
       "    }\n",
       "</style>\n",
       "<table border=\"1\" class=\"dataframe\">\n",
       "  <thead>\n",
       "    <tr style=\"text-align: right;\">\n",
       "      <th></th>\n",
       "      <th></th>\n",
       "      <th>mean</th>\n",
       "      <th>min</th>\n",
       "      <th>max</th>\n",
       "    </tr>\n",
       "    <tr>\n",
       "      <th>제원관리번호</th>\n",
       "      <th>자동차형식</th>\n",
       "      <th></th>\n",
       "      <th></th>\n",
       "      <th></th>\n",
       "    </tr>\n",
       "  </thead>\n",
       "  <tbody>\n",
       "    <tr>\n",
       "      <th>A0110003116493108</th>\n",
       "      <th>SEL42K-PGT-2</th>\n",
       "      <td>7.05</td>\n",
       "      <td>0.00</td>\n",
       "      <td>15.00</td>\n",
       "    </tr>\n",
       "    <tr>\n",
       "      <th>A0110003117113109</th>\n",
       "      <th>PUL4AA-L</th>\n",
       "      <td>7.01</td>\n",
       "      <td>0.00</td>\n",
       "      <td>19.00</td>\n",
       "    </tr>\n",
       "    <tr>\n",
       "      <th>A0110003117193109</th>\n",
       "      <th>PUE4BA</th>\n",
       "      <td>6.33</td>\n",
       "      <td>0.00</td>\n",
       "      <td>15.00</td>\n",
       "    </tr>\n",
       "    <tr>\n",
       "      <th>A0110003117863109</th>\n",
       "      <th>PUL4AA-PGT-2</th>\n",
       "      <td>7.50</td>\n",
       "      <td>0.00</td>\n",
       "      <td>15.00</td>\n",
       "    </tr>\n",
       "    <tr>\n",
       "      <th>A0110003118303110</th>\n",
       "      <th>PUS4BB</th>\n",
       "      <td>8.00</td>\n",
       "      <td>0.00</td>\n",
       "      <td>14.00</td>\n",
       "    </tr>\n",
       "    <tr>\n",
       "      <th>A0110003119653111</th>\n",
       "      <th>PUK4BC</th>\n",
       "      <td>5.78</td>\n",
       "      <td>0.00</td>\n",
       "      <td>13.00</td>\n",
       "    </tr>\n",
       "  </tbody>\n",
       "</table>\n",
       "</div>"
      ],
      "text/plain": [
       "                                mean  min   max\n",
       "제원관리번호            자동차형식                        \n",
       "A0110003116493108 SEL42K-PGT-2  7.05 0.00 15.00\n",
       "A0110003117113109 PUL4AA-L      7.01 0.00 19.00\n",
       "A0110003117193109 PUE4BA        6.33 0.00 15.00\n",
       "A0110003117863109 PUL4AA-PGT-2  7.50 0.00 15.00\n",
       "A0110003118303110 PUS4BB        8.00 0.00 14.00\n",
       "A0110003119653111 PUK4BC        5.78 0.00 13.00"
      ]
     },
     "execution_count": 158,
     "metadata": {},
     "output_type": "execute_result"
    }
   ],
   "source": [
    "dcond2Y.groupby(['제원관리번호', '자동차형식'])['무부하매연측정치1'].agg(['mean', 'min', 'max'])"
   ]
  },
  {
   "cell_type": "code",
   "execution_count": 159,
   "metadata": {},
   "outputs": [
    {
     "data": {
      "text/html": [
       "<div>\n",
       "<style scoped>\n",
       "    .dataframe tbody tr th:only-of-type {\n",
       "        vertical-align: middle;\n",
       "    }\n",
       "\n",
       "    .dataframe tbody tr th {\n",
       "        vertical-align: top;\n",
       "    }\n",
       "\n",
       "    .dataframe thead tr th {\n",
       "        text-align: left;\n",
       "    }\n",
       "\n",
       "    .dataframe thead tr:last-of-type th {\n",
       "        text-align: right;\n",
       "    }\n",
       "</style>\n",
       "<table border=\"1\" class=\"dataframe\">\n",
       "  <thead>\n",
       "    <tr>\n",
       "      <th></th>\n",
       "      <th></th>\n",
       "      <th colspan=\"2\" halign=\"left\">mean</th>\n",
       "      <th colspan=\"2\" halign=\"left\">min</th>\n",
       "      <th colspan=\"2\" halign=\"left\">max</th>\n",
       "    </tr>\n",
       "    <tr>\n",
       "      <th></th>\n",
       "      <th>검사방법</th>\n",
       "      <th>부하검사(KD-147)</th>\n",
       "      <th>부하검사(LUG DOWN)</th>\n",
       "      <th>부하검사(KD-147)</th>\n",
       "      <th>부하검사(LUG DOWN)</th>\n",
       "      <th>부하검사(KD-147)</th>\n",
       "      <th>부하검사(LUG DOWN)</th>\n",
       "    </tr>\n",
       "    <tr>\n",
       "      <th>제원관리번호</th>\n",
       "      <th>자동차형식</th>\n",
       "      <th></th>\n",
       "      <th></th>\n",
       "      <th></th>\n",
       "      <th></th>\n",
       "      <th></th>\n",
       "      <th></th>\n",
       "    </tr>\n",
       "  </thead>\n",
       "  <tbody>\n",
       "    <tr>\n",
       "      <th>A0110003116493108</th>\n",
       "      <th>SEL42K-PGT-2</th>\n",
       "      <td>7.05</td>\n",
       "      <td>NaN</td>\n",
       "      <td>0.00</td>\n",
       "      <td>NaN</td>\n",
       "      <td>15.00</td>\n",
       "      <td>NaN</td>\n",
       "    </tr>\n",
       "    <tr>\n",
       "      <th>A0110003117113109</th>\n",
       "      <th>PUL4AA-L</th>\n",
       "      <td>7.01</td>\n",
       "      <td>11.67</td>\n",
       "      <td>0.00</td>\n",
       "      <td>5.00</td>\n",
       "      <td>15.00</td>\n",
       "      <td>19.00</td>\n",
       "    </tr>\n",
       "    <tr>\n",
       "      <th>A0110003117193109</th>\n",
       "      <th>PUE4BA</th>\n",
       "      <td>6.33</td>\n",
       "      <td>NaN</td>\n",
       "      <td>0.00</td>\n",
       "      <td>NaN</td>\n",
       "      <td>15.00</td>\n",
       "      <td>NaN</td>\n",
       "    </tr>\n",
       "    <tr>\n",
       "      <th>A0110003117863109</th>\n",
       "      <th>PUL4AA-PGT-2</th>\n",
       "      <td>7.50</td>\n",
       "      <td>NaN</td>\n",
       "      <td>0.00</td>\n",
       "      <td>NaN</td>\n",
       "      <td>15.00</td>\n",
       "      <td>NaN</td>\n",
       "    </tr>\n",
       "    <tr>\n",
       "      <th>A0110003118303110</th>\n",
       "      <th>PUS4BB</th>\n",
       "      <td>8.00</td>\n",
       "      <td>NaN</td>\n",
       "      <td>0.00</td>\n",
       "      <td>NaN</td>\n",
       "      <td>14.00</td>\n",
       "      <td>NaN</td>\n",
       "    </tr>\n",
       "    <tr>\n",
       "      <th>A0110003119653111</th>\n",
       "      <th>PUK4BC</th>\n",
       "      <td>5.78</td>\n",
       "      <td>NaN</td>\n",
       "      <td>0.00</td>\n",
       "      <td>NaN</td>\n",
       "      <td>13.00</td>\n",
       "      <td>NaN</td>\n",
       "    </tr>\n",
       "  </tbody>\n",
       "</table>\n",
       "</div>"
      ],
      "text/plain": [
       "                                       mean                         min  \\\n",
       "검사방법                           부하검사(KD-147) 부하검사(LUG DOWN) 부하검사(KD-147)   \n",
       "제원관리번호            자동차형식                                                   \n",
       "A0110003116493108 SEL42K-PGT-2         7.05            NaN         0.00   \n",
       "A0110003117113109 PUL4AA-L             7.01          11.67         0.00   \n",
       "A0110003117193109 PUE4BA               6.33            NaN         0.00   \n",
       "A0110003117863109 PUL4AA-PGT-2         7.50            NaN         0.00   \n",
       "A0110003118303110 PUS4BB               8.00            NaN         0.00   \n",
       "A0110003119653111 PUK4BC               5.78            NaN         0.00   \n",
       "\n",
       "                                                       max                 \n",
       "검사방법                           부하검사(LUG DOWN) 부하검사(KD-147) 부하검사(LUG DOWN)  \n",
       "제원관리번호            자동차형식                                                    \n",
       "A0110003116493108 SEL42K-PGT-2            NaN        15.00            NaN  \n",
       "A0110003117113109 PUL4AA-L               5.00        15.00          19.00  \n",
       "A0110003117193109 PUE4BA                  NaN        15.00            NaN  \n",
       "A0110003117863109 PUL4AA-PGT-2            NaN        15.00            NaN  \n",
       "A0110003118303110 PUS4BB                  NaN        14.00            NaN  \n",
       "A0110003119653111 PUK4BC                  NaN        13.00            NaN  "
      ]
     },
     "execution_count": 159,
     "metadata": {},
     "output_type": "execute_result"
    }
   ],
   "source": [
    "dcond2Y.groupby(['제원관리번호', '자동차형식', '검사방법'])['무부하매연측정치1'].agg(['mean', 'min', 'max']).unstack()"
   ]
  },
  {
   "cell_type": "code",
   "execution_count": null,
   "metadata": {},
   "outputs": [],
   "source": []
  },
  {
   "cell_type": "code",
   "execution_count": 160,
   "metadata": {},
   "outputs": [
    {
     "data": {
      "text/html": [
       "<div>\n",
       "<style scoped>\n",
       "    .dataframe tbody tr th:only-of-type {\n",
       "        vertical-align: middle;\n",
       "    }\n",
       "\n",
       "    .dataframe tbody tr th {\n",
       "        vertical-align: top;\n",
       "    }\n",
       "\n",
       "    .dataframe thead th {\n",
       "        text-align: right;\n",
       "    }\n",
       "</style>\n",
       "<table border=\"1\" class=\"dataframe\">\n",
       "  <thead>\n",
       "    <tr style=\"text-align: right;\">\n",
       "      <th></th>\n",
       "      <th></th>\n",
       "      <th>mean</th>\n",
       "      <th>min</th>\n",
       "      <th>max</th>\n",
       "    </tr>\n",
       "    <tr>\n",
       "      <th>제원관리번호</th>\n",
       "      <th>자동차형식</th>\n",
       "      <th></th>\n",
       "      <th></th>\n",
       "      <th></th>\n",
       "    </tr>\n",
       "  </thead>\n",
       "  <tbody>\n",
       "    <tr>\n",
       "      <th>A0110003116493108</th>\n",
       "      <th>SEL42K-PGT-2</th>\n",
       "      <td>42.79</td>\n",
       "      <td>16.00</td>\n",
       "      <td>94.00</td>\n",
       "    </tr>\n",
       "    <tr>\n",
       "      <th>A0110003117113109</th>\n",
       "      <th>PUL4AA-L</th>\n",
       "      <td>33.18</td>\n",
       "      <td>16.00</td>\n",
       "      <td>100.00</td>\n",
       "    </tr>\n",
       "    <tr>\n",
       "      <th>A0110003117193109</th>\n",
       "      <th>PUE4BA</th>\n",
       "      <td>29.24</td>\n",
       "      <td>16.00</td>\n",
       "      <td>99.00</td>\n",
       "    </tr>\n",
       "    <tr>\n",
       "      <th>A0110003117863109</th>\n",
       "      <th>PUL4AA-PGT-2</th>\n",
       "      <td>35.96</td>\n",
       "      <td>16.00</td>\n",
       "      <td>86.00</td>\n",
       "    </tr>\n",
       "    <tr>\n",
       "      <th>A0110003119653111</th>\n",
       "      <th>PUK4BC</th>\n",
       "      <td>26.33</td>\n",
       "      <td>17.00</td>\n",
       "      <td>45.00</td>\n",
       "    </tr>\n",
       "  </tbody>\n",
       "</table>\n",
       "</div>"
      ],
      "text/plain": [
       "                                mean   min    max\n",
       "제원관리번호            자동차형식                          \n",
       "A0110003116493108 SEL42K-PGT-2 42.79 16.00  94.00\n",
       "A0110003117113109 PUL4AA-L     33.18 16.00 100.00\n",
       "A0110003117193109 PUE4BA       29.24 16.00  99.00\n",
       "A0110003117863109 PUL4AA-PGT-2 35.96 16.00  86.00\n",
       "A0110003119653111 PUK4BC       26.33 17.00  45.00"
      ]
     },
     "execution_count": 160,
     "metadata": {},
     "output_type": "execute_result"
    }
   ],
   "source": [
    "dcond2N.groupby(['제원관리번호', '자동차형식'])['무부하매연측정치1'].agg(['mean', 'min', 'max'])"
   ]
  },
  {
   "cell_type": "code",
   "execution_count": 161,
   "metadata": {},
   "outputs": [
    {
     "data": {
      "text/html": [
       "<div>\n",
       "<style scoped>\n",
       "    .dataframe tbody tr th:only-of-type {\n",
       "        vertical-align: middle;\n",
       "    }\n",
       "\n",
       "    .dataframe tbody tr th {\n",
       "        vertical-align: top;\n",
       "    }\n",
       "\n",
       "    .dataframe thead tr th {\n",
       "        text-align: left;\n",
       "    }\n",
       "\n",
       "    .dataframe thead tr:last-of-type th {\n",
       "        text-align: right;\n",
       "    }\n",
       "</style>\n",
       "<table border=\"1\" class=\"dataframe\">\n",
       "  <thead>\n",
       "    <tr>\n",
       "      <th></th>\n",
       "      <th></th>\n",
       "      <th>mean</th>\n",
       "      <th>min</th>\n",
       "      <th>max</th>\n",
       "    </tr>\n",
       "    <tr>\n",
       "      <th></th>\n",
       "      <th>검사방법</th>\n",
       "      <th>부하검사(KD-147)</th>\n",
       "      <th>부하검사(KD-147)</th>\n",
       "      <th>부하검사(KD-147)</th>\n",
       "    </tr>\n",
       "    <tr>\n",
       "      <th>제원관리번호</th>\n",
       "      <th>자동차형식</th>\n",
       "      <th></th>\n",
       "      <th></th>\n",
       "      <th></th>\n",
       "    </tr>\n",
       "  </thead>\n",
       "  <tbody>\n",
       "    <tr>\n",
       "      <th>A0110003116493108</th>\n",
       "      <th>SEL42K-PGT-2</th>\n",
       "      <td>42.79</td>\n",
       "      <td>16.00</td>\n",
       "      <td>94.00</td>\n",
       "    </tr>\n",
       "    <tr>\n",
       "      <th>A0110003117113109</th>\n",
       "      <th>PUL4AA-L</th>\n",
       "      <td>33.18</td>\n",
       "      <td>16.00</td>\n",
       "      <td>100.00</td>\n",
       "    </tr>\n",
       "    <tr>\n",
       "      <th>A0110003117193109</th>\n",
       "      <th>PUE4BA</th>\n",
       "      <td>29.24</td>\n",
       "      <td>16.00</td>\n",
       "      <td>99.00</td>\n",
       "    </tr>\n",
       "    <tr>\n",
       "      <th>A0110003117863109</th>\n",
       "      <th>PUL4AA-PGT-2</th>\n",
       "      <td>35.96</td>\n",
       "      <td>16.00</td>\n",
       "      <td>86.00</td>\n",
       "    </tr>\n",
       "    <tr>\n",
       "      <th>A0110003119653111</th>\n",
       "      <th>PUK4BC</th>\n",
       "      <td>26.33</td>\n",
       "      <td>17.00</td>\n",
       "      <td>45.00</td>\n",
       "    </tr>\n",
       "  </tbody>\n",
       "</table>\n",
       "</div>"
      ],
      "text/plain": [
       "                                       mean          min          max\n",
       "검사방법                           부하검사(KD-147) 부하검사(KD-147) 부하검사(KD-147)\n",
       "제원관리번호            자동차형식                                              \n",
       "A0110003116493108 SEL42K-PGT-2        42.79        16.00        94.00\n",
       "A0110003117113109 PUL4AA-L            33.18        16.00       100.00\n",
       "A0110003117193109 PUE4BA              29.24        16.00        99.00\n",
       "A0110003117863109 PUL4AA-PGT-2        35.96        16.00        86.00\n",
       "A0110003119653111 PUK4BC              26.33        17.00        45.00"
      ]
     },
     "execution_count": 161,
     "metadata": {},
     "output_type": "execute_result"
    }
   ],
   "source": [
    "dcond2N.groupby(['제원관리번호', '자동차형식', '검사방법'])['무부하매연측정치1'].agg(['mean', 'min', 'max']).unstack()"
   ]
  },
  {
   "cell_type": "code",
   "execution_count": null,
   "metadata": {},
   "outputs": [],
   "source": []
  },
  {
   "cell_type": "code",
   "execution_count": null,
   "metadata": {},
   "outputs": [],
   "source": [
    "tins = pd.concat([ins, dins], ignore_index=True)"
   ]
  },
  {
   "cell_type": "code",
   "execution_count": 47,
   "metadata": {},
   "outputs": [
    {
     "data": {
      "text/plain": [
       "(22044208, 40)"
      ]
     },
     "execution_count": 47,
     "metadata": {},
     "output_type": "execute_result"
    }
   ],
   "source": [
    "# about 3m 1s\n",
    "tins_m = tins.sort_values('검사일자', ascending=False).drop_duplicates(subset=['차대번호']).reset_index(drop=True)\n",
    "tins_m.shape"
   ]
  },
  {
   "cell_type": "code",
   "execution_count": 48,
   "metadata": {},
   "outputs": [],
   "source": [
    "tins_m = tins_m[['차대번호', '검사방법', '검사종류', '검사판정', '무부하매연판정1', '무부하매연판정2', '무부하매연판정3',\n",
    "       '무부하매연판정4', '무부하매연판정5', '무부하매연판정6', '무부하매연허용치1', '무부하매연허용치2',\n",
    "       '무부하매연허용치3', '무부하매연허용치4', '무부하매연허용치5', '무부하매연허용치6', '무부하매연측정치1',\n",
    "       '무부하매연측정치2', '무부하매연측정치3', '무부하매연측정치4', '무부하매연측정치5', '무부하매연측정치6', '정기정밀'\n",
    "       ]]"
   ]
  },
  {
   "cell_type": "code",
   "execution_count": 49,
   "metadata": {},
   "outputs": [],
   "source": [
    "# about 1m 4s\n",
    "tcond1 = cond1.merge(tins_m, on='차대번호', how='left')\n",
    "tcond2 = cond2.merge(tins_m, on='차대번호', how='left')"
   ]
  },
  {
   "cell_type": "code",
   "execution_count": 50,
   "metadata": {},
   "outputs": [
    {
     "data": {
      "text/plain": [
       "((92265, 71), (4790, 71))"
      ]
     },
     "execution_count": 50,
     "metadata": {},
     "output_type": "execute_result"
    }
   ],
   "source": [
    "tcond1.shape, tcond2.shape"
   ]
  },
  {
   "cell_type": "code",
   "execution_count": 51,
   "metadata": {},
   "outputs": [
    {
     "data": {
      "text/plain": [
       "차량관리번호           0\n",
       "차량등록번호           0\n",
       "본거지법정동코드         0\n",
       "소유자구분            0\n",
       "차종_등록정보          0\n",
       "             ...  \n",
       "무부하매연측정치3    76400\n",
       "무부하매연측정치4    76400\n",
       "무부하매연측정치5    76400\n",
       "무부하매연측정치6    76433\n",
       "정기정밀          2910\n",
       "Length: 71, dtype: int64"
      ]
     },
     "execution_count": 51,
     "metadata": {},
     "output_type": "execute_result"
    }
   ],
   "source": [
    "tcond1.isnull().sum()"
   ]
  },
  {
   "cell_type": "code",
   "execution_count": 52,
   "metadata": {},
   "outputs": [
    {
     "data": {
      "text/plain": [
       "차량관리번호          0\n",
       "차량등록번호          0\n",
       "본거지법정동코드        0\n",
       "소유자구분           0\n",
       "차종_등록정보         0\n",
       "             ... \n",
       "무부하매연측정치3    3905\n",
       "무부하매연측정치4    3905\n",
       "무부하매연측정치5    3905\n",
       "무부하매연측정치6    3906\n",
       "정기정밀          171\n",
       "Length: 71, dtype: int64"
      ]
     },
     "execution_count": 52,
     "metadata": {},
     "output_type": "execute_result"
    }
   ],
   "source": [
    "tcond2.isnull().sum()"
   ]
  },
  {
   "cell_type": "code",
   "execution_count": null,
   "metadata": {},
   "outputs": [],
   "source": []
  },
  {
   "attachments": {},
   "cell_type": "markdown",
   "metadata": {},
   "source": [
    "### 최신 정기&정밀 데이터 정보 추가"
   ]
  },
  {
   "attachments": {},
   "cell_type": "markdown",
   "metadata": {},
   "source": [
    "#### 최신 데이터만 남기기\n",
    "- ins(정기검사) : '정기검사일자' 기준 정렬\n",
    "- dins(정밀검사) : '정밀검사일자' 기준 정렬"
   ]
  },
  {
   "cell_type": "code",
   "execution_count": null,
   "metadata": {},
   "outputs": [],
   "source": []
  },
  {
   "attachments": {},
   "cell_type": "markdown",
   "metadata": {},
   "source": [
    "# 2\\. 오류부적합 차량 확인\n",
    "- 18대 차량의 전체 정기, 정밀 검사 데이터\n",
    "- \"자동차 등록정보\"의 '구조변경여부'"
   ]
  },
  {
   "cell_type": "code",
   "execution_count": 5,
   "metadata": {},
   "outputs": [
    {
     "data": {
      "text/plain": [
       "(18, 49)"
      ]
     },
     "execution_count": 5,
     "metadata": {},
     "output_type": "execute_result"
    }
   ],
   "source": [
    "# about 53s\n",
    "sort_car4 = car4[(car4['차대번호'] == 'KNADA2322JS052345') | (car4['차대번호'] == 'KL90E3ADDPKZ00001') | (car4['차대번호'] == '119213302764다') | (car4['차대번호'] == '2J4FY29P6NJ557922') |\n",
    "               (car4['차대번호'] == '1J4FY19P2VP499580') | (car4['차대번호'] == '119111200133') | (car4['차대번호'] == '1J4FY29P0SP273538') | (car4['차대번호'] == '1J4FY19P8VP531416') |\n",
    "               (car4['차대번호'] == '4TAVN13D6RZ211218') | (car4['차대번호'] == 'KN3SAP2T2JK000655') | (car4['차대번호'] == '1J4FY19PXVP480887') | (car4['차대번호'] == 'WDB2010241F648322') |\n",
    "               (car4['차대번호'] == '1J4FY19P8VP480886') | (car4['차대번호'] == '1J4FY19P6VP499582') | (car4['차대번호'] == 'SALLPAMM4XA423884') | (car4['차대번호'] == '1J4FY19P4VP531431') |\n",
    "               (car4['차대번호'] == 'KLAPM69P1LB214595') | (car4['차대번호'] == 'KL3K8CGFA5K000018')\n",
    "              ].sort_values('차대번호').reset_index(drop=True)\n",
    "sort_car4.shape"
   ]
  },
  {
   "attachments": {},
   "cell_type": "markdown",
   "metadata": {},
   "source": [
    "## [출력] 18대 등록&제원 정보"
   ]
  },
  {
   "cell_type": "code",
   "execution_count": 7,
   "metadata": {},
   "outputs": [],
   "source": [
    "sort_car4.to_excel('analysis2/[BD1]18대_등록&제원정보.xlsx', index=False)"
   ]
  },
  {
   "cell_type": "code",
   "execution_count": 120,
   "metadata": {},
   "outputs": [
    {
     "data": {
      "text/plain": [
       "(9, 40)"
      ]
     },
     "execution_count": 120,
     "metadata": {},
     "output_type": "execute_result"
    }
   ],
   "source": [
    "# about 53s\n",
    "sort_ins = ins[(ins['차대번호'] == 'KNADA2322JS052345') | (ins['차대번호'] == 'KL90E3ADDPKZ00001') | (ins['차대번호'] == '119213302764다') | (ins['차대번호'] == '2J4FY29P6NJ557922') |\n",
    "               (ins['차대번호'] == '1J4FY19P2VP499580') | (ins['차대번호'] == '119111200133') | (ins['차대번호'] == '1J4FY29P0SP273538') | (ins['차대번호'] == '1J4FY19P8VP531416') |\n",
    "               (ins['차대번호'] == '4TAVN13D6RZ211218') | (ins['차대번호'] == 'KN3SAP2T2JK000655') | (ins['차대번호'] == '1J4FY19PXVP480887') | (ins['차대번호'] == 'WDB2010241F648322') |\n",
    "               (ins['차대번호'] == '1J4FY19P8VP480886') | (ins['차대번호'] == '1J4FY19P6VP499582') | (ins['차대번호'] == 'SALLPAMM4XA423884') | (ins['차대번호'] == '1J4FY19P4VP531431') |\n",
    "               (ins['차대번호'] == 'KLAPM69P1LB214595') | (ins['차대번호'] == 'KL3K8CGFA5K000018')\n",
    "              ].sort_values('차대번호').reset_index(drop=True)\n",
    "sort_ins.shape"
   ]
  },
  {
   "cell_type": "code",
   "execution_count": 121,
   "metadata": {},
   "outputs": [
    {
     "data": {
      "text/plain": [
       "(17, 40)"
      ]
     },
     "execution_count": 121,
     "metadata": {},
     "output_type": "execute_result"
    }
   ],
   "source": [
    "# about 1m 14s\n",
    "sort_dins = dins[(dins['차대번호'] == 'KNADA2322JS052345') | (dins['차대번호'] == 'KL90E3ADDPKZ00001') | (dins['차대번호'] == '119213302764다') | (dins['차대번호'] == '2J4FY29P6NJ557922') |\n",
    "               (dins['차대번호'] == '1J4FY19P2VP499580') | (dins['차대번호'] == '119111200133') | (dins['차대번호'] == '1J4FY29P0SP273538') | (dins['차대번호'] == '1J4FY19P8VP531416') |\n",
    "               (dins['차대번호'] == '4TAVN13D6RZ211218') | (dins['차대번호'] == 'KN3SAP2T2JK000655') | (dins['차대번호'] == '1J4FY19PXVP480887') | (dins['차대번호'] == 'WDB2010241F648322') |\n",
    "               (dins['차대번호'] == '1J4FY19P8VP480886') | (dins['차대번호'] == '1J4FY19P6VP499582') | (dins['차대번호'] == 'SALLPAMM4XA423884') | (dins['차대번호'] == '1J4FY19P4VP531431') |\n",
    "               (dins['차대번호'] == 'KLAPM69P1LB214595') | (dins['차대번호'] == 'KL3K8CGFA5K000018')\n",
    "              ].sort_values('차대번호').reset_index(drop=True)\n",
    "sort_dins.shape"
   ]
  },
  {
   "cell_type": "code",
   "execution_count": 122,
   "metadata": {},
   "outputs": [
    {
     "ename": "NameError",
     "evalue": "name 'tins' is not defined",
     "output_type": "error",
     "traceback": [
      "\u001b[1;31m---------------------------------------------------------------------------\u001b[0m",
      "\u001b[1;31mNameError\u001b[0m                                 Traceback (most recent call last)",
      "\u001b[1;32m~\\AppData\\Local\\Temp\\ipykernel_20376\\3602411739.py\u001b[0m in \u001b[0;36m<module>\u001b[1;34m\u001b[0m\n\u001b[0;32m      1\u001b[0m \u001b[1;31m# about 3m\u001b[0m\u001b[1;33m\u001b[0m\u001b[1;33m\u001b[0m\u001b[0m\n\u001b[1;32m----> 2\u001b[1;33m total_sort = tins[(tins['차대번호'] == 'KNADA2322JS052345') | (tins['차대번호'] == 'KL90E3ADDPKZ00001') | (tins['차대번호'] == '119213302764다') | (tins['차대번호'] == '2J4FY29P6NJ557922') |\n\u001b[0m\u001b[0;32m      3\u001b[0m                \u001b[1;33m(\u001b[0m\u001b[0mtins\u001b[0m\u001b[1;33m[\u001b[0m\u001b[1;34m'차대번호'\u001b[0m\u001b[1;33m]\u001b[0m \u001b[1;33m==\u001b[0m \u001b[1;34m'1J4FY19P2VP499580'\u001b[0m\u001b[1;33m)\u001b[0m \u001b[1;33m|\u001b[0m \u001b[1;33m(\u001b[0m\u001b[0mtins\u001b[0m\u001b[1;33m[\u001b[0m\u001b[1;34m'차대번호'\u001b[0m\u001b[1;33m]\u001b[0m \u001b[1;33m==\u001b[0m \u001b[1;34m'119111200133'\u001b[0m\u001b[1;33m)\u001b[0m \u001b[1;33m|\u001b[0m \u001b[1;33m(\u001b[0m\u001b[0mtins\u001b[0m\u001b[1;33m[\u001b[0m\u001b[1;34m'차대번호'\u001b[0m\u001b[1;33m]\u001b[0m \u001b[1;33m==\u001b[0m \u001b[1;34m'1J4FY29P0SP273538'\u001b[0m\u001b[1;33m)\u001b[0m \u001b[1;33m|\u001b[0m \u001b[1;33m(\u001b[0m\u001b[0mtins\u001b[0m\u001b[1;33m[\u001b[0m\u001b[1;34m'차대번호'\u001b[0m\u001b[1;33m]\u001b[0m \u001b[1;33m==\u001b[0m \u001b[1;34m'1J4FY19P8VP531416'\u001b[0m\u001b[1;33m)\u001b[0m \u001b[1;33m|\u001b[0m\u001b[1;33m\u001b[0m\u001b[1;33m\u001b[0m\u001b[0m\n\u001b[0;32m      4\u001b[0m                \u001b[1;33m(\u001b[0m\u001b[0mtins\u001b[0m\u001b[1;33m[\u001b[0m\u001b[1;34m'차대번호'\u001b[0m\u001b[1;33m]\u001b[0m \u001b[1;33m==\u001b[0m \u001b[1;34m'4TAVN13D6RZ211218'\u001b[0m\u001b[1;33m)\u001b[0m \u001b[1;33m|\u001b[0m \u001b[1;33m(\u001b[0m\u001b[0mtins\u001b[0m\u001b[1;33m[\u001b[0m\u001b[1;34m'차대번호'\u001b[0m\u001b[1;33m]\u001b[0m \u001b[1;33m==\u001b[0m \u001b[1;34m'KN3SAP2T2JK000655'\u001b[0m\u001b[1;33m)\u001b[0m \u001b[1;33m|\u001b[0m \u001b[1;33m(\u001b[0m\u001b[0mtins\u001b[0m\u001b[1;33m[\u001b[0m\u001b[1;34m'차대번호'\u001b[0m\u001b[1;33m]\u001b[0m \u001b[1;33m==\u001b[0m \u001b[1;34m'1J4FY19PXVP480887'\u001b[0m\u001b[1;33m)\u001b[0m \u001b[1;33m|\u001b[0m \u001b[1;33m(\u001b[0m\u001b[0mtins\u001b[0m\u001b[1;33m[\u001b[0m\u001b[1;34m'차대번호'\u001b[0m\u001b[1;33m]\u001b[0m \u001b[1;33m==\u001b[0m \u001b[1;34m'WDB2010241F648322'\u001b[0m\u001b[1;33m)\u001b[0m \u001b[1;33m|\u001b[0m\u001b[1;33m\u001b[0m\u001b[1;33m\u001b[0m\u001b[0m\n\u001b[0;32m      5\u001b[0m                \u001b[1;33m(\u001b[0m\u001b[0mtins\u001b[0m\u001b[1;33m[\u001b[0m\u001b[1;34m'차대번호'\u001b[0m\u001b[1;33m]\u001b[0m \u001b[1;33m==\u001b[0m \u001b[1;34m'1J4FY19P8VP480886'\u001b[0m\u001b[1;33m)\u001b[0m \u001b[1;33m|\u001b[0m \u001b[1;33m(\u001b[0m\u001b[0mtins\u001b[0m\u001b[1;33m[\u001b[0m\u001b[1;34m'차대번호'\u001b[0m\u001b[1;33m]\u001b[0m \u001b[1;33m==\u001b[0m \u001b[1;34m'1J4FY19P6VP499582'\u001b[0m\u001b[1;33m)\u001b[0m \u001b[1;33m|\u001b[0m \u001b[1;33m(\u001b[0m\u001b[0mtins\u001b[0m\u001b[1;33m[\u001b[0m\u001b[1;34m'차대번호'\u001b[0m\u001b[1;33m]\u001b[0m \u001b[1;33m==\u001b[0m \u001b[1;34m'SALLPAMM4XA423884'\u001b[0m\u001b[1;33m)\u001b[0m \u001b[1;33m|\u001b[0m \u001b[1;33m(\u001b[0m\u001b[0mtins\u001b[0m\u001b[1;33m[\u001b[0m\u001b[1;34m'차대번호'\u001b[0m\u001b[1;33m]\u001b[0m \u001b[1;33m==\u001b[0m \u001b[1;34m'1J4FY19P4VP531431'\u001b[0m\u001b[1;33m)\u001b[0m \u001b[1;33m|\u001b[0m\u001b[1;33m\u001b[0m\u001b[1;33m\u001b[0m\u001b[0m\n",
      "\u001b[1;31mNameError\u001b[0m: name 'tins' is not defined"
     ]
    }
   ],
   "source": [
    "# about 3m \n",
    "total_sort = tins[(tins['차대번호'] == 'KNADA2322JS052345') | (tins['차대번호'] == 'KL90E3ADDPKZ00001') | (tins['차대번호'] == '119213302764다') | (tins['차대번호'] == '2J4FY29P6NJ557922') |\n",
    "               (tins['차대번호'] == '1J4FY19P2VP499580') | (tins['차대번호'] == '119111200133') | (tins['차대번호'] == '1J4FY29P0SP273538') | (tins['차대번호'] == '1J4FY19P8VP531416') |\n",
    "               (tins['차대번호'] == '4TAVN13D6RZ211218') | (tins['차대번호'] == 'KN3SAP2T2JK000655') | (tins['차대번호'] == '1J4FY19PXVP480887') | (tins['차대번호'] == 'WDB2010241F648322') |\n",
    "               (tins['차대번호'] == '1J4FY19P8VP480886') | (tins['차대번호'] == '1J4FY19P6VP499582') | (tins['차대번호'] == 'SALLPAMM4XA423884') | (tins['차대번호'] == '1J4FY19P4VP531431') |\n",
    "               (tins['차대번호'] == 'KLAPM69P1LB214595') | (tins['차대번호'] == 'KL3K8CGFA5K000018')\n",
    "              ].sort_values('차대번호').reset_index(drop=True)\n",
    "total_sort.shape"
   ]
  },
  {
   "cell_type": "code",
   "execution_count": 83,
   "metadata": {},
   "outputs": [
    {
     "data": {
      "text/plain": [
       "Index(['차대번호', '사용연료', '주행거리', '차명', '차량번호', '차종', '차량연식', '검사방법', '이산화탄소값',\n",
       "       '최대출력허용치', '최대출력측정값', '엔진형식', '검사접수번호', '검사일자', '검사종류', '검사소명',\n",
       "       '검사판정시각', '검사판정', '산소값', '재검사기간', '무부하매연판정1', '무부하매연판정2', '무부하매연판정3',\n",
       "       '무부하매연판정4', '무부하매연판정5', '무부하매연판정6', '무부하매연허용치1', '무부하매연허용치2',\n",
       "       '무부하매연허용치3', '무부하매연허용치4', '무부하매연허용치5', '무부하매연허용치6', '무부하매연측정치1',\n",
       "       '무부하매연측정치2', '무부하매연측정치3', '무부하매연측정치4', '무부하매연측정치5', '무부하매연측정치6', '차량용도',\n",
       "       '정기정밀'],\n",
       "      dtype='object')"
      ]
     },
     "execution_count": 83,
     "metadata": {},
     "output_type": "execute_result"
    }
   ],
   "source": [
    "sort_ins.columns"
   ]
  },
  {
   "cell_type": "code",
   "execution_count": 76,
   "metadata": {},
   "outputs": [
    {
     "data": {
      "text/plain": [
       "Index(['사용연료', '주행거리', '차명', '차량번호', '차대번호', '차종', '차량연식', '검사방법', '이산화탄소값',\n",
       "       '최대출력허용치', '최대출력측정값', '엔진형식', '검사접수번호', '검사일자', '검사종류', '검사소명',\n",
       "       '검사판정시각', '검사판정', '산소값', '재검사기간', '무부하매연판정1', '무부하매연판정2', '무부하매연판정3',\n",
       "       '무부하매연판정4', '무부하매연판정5', '무부하매연판정6', '무부하매연허용치1', '무부하매연허용치2',\n",
       "       '무부하매연허용치3', '무부하매연허용치4', '무부하매연허용치5', '무부하매연허용치6', '무부하매연측정치1',\n",
       "       '무부하매연측정치2', '무부하매연측정치3', '무부하매연측정치4', '무부하매연측정치5', '무부하매연측정치6', '차량용도',\n",
       "       '정기정밀'],\n",
       "      dtype='object')"
      ]
     },
     "execution_count": 76,
     "metadata": {},
     "output_type": "execute_result"
    }
   ],
   "source": [
    "total_sort.columns"
   ]
  },
  {
   "cell_type": "code",
   "execution_count": 77,
   "metadata": {},
   "outputs": [],
   "source": [
    "temp = car4[['차대번호', '저공해조치구조변경YN']]"
   ]
  },
  {
   "cell_type": "code",
   "execution_count": 78,
   "metadata": {},
   "outputs": [
    {
     "data": {
      "text/plain": [
       "(26, 41)"
      ]
     },
     "execution_count": 78,
     "metadata": {},
     "output_type": "execute_result"
    }
   ],
   "source": [
    "total_sort = total_sort.merge(temp, on='차대번호', how='left')\n",
    "total_sort.shape"
   ]
  },
  {
   "cell_type": "code",
   "execution_count": 86,
   "metadata": {},
   "outputs": [
    {
     "data": {
      "text/plain": [
       "(49, 40)"
      ]
     },
     "execution_count": 86,
     "metadata": {},
     "output_type": "execute_result"
    }
   ],
   "source": [
    "total_sort = pd.concat([sort_ins, sort_dins], ignore_index=True)\n",
    "total_sort.shape"
   ]
  },
  {
   "attachments": {},
   "cell_type": "markdown",
   "metadata": {},
   "source": [
    "# 3\\. 33,573대 검증"
   ]
  },
  {
   "cell_type": "code",
   "execution_count": 9,
   "metadata": {},
   "outputs": [
    {
     "data": {
      "text/plain": [
       "Index(['차대번호', '차량번호', '제원관리번호', '차종', '용도', '최초등록일', '연식', '제작일자', '검사유효일',\n",
       "       '인증번호', '등급', '차명', '차종분류', '차종유형', '자동차형식', '제작사명', '연료', '엔진형식',\n",
       "       '총중량', '적재중량', '엔진출력', '배기량', '법정동코드', '시도명', '시군구명', '소유자구분', '말소여부',\n",
       "       '일치유무'],\n",
       "      dtype='object')"
      ]
     },
     "execution_count": 9,
     "metadata": {},
     "output_type": "execute_result"
    }
   ],
   "source": [
    "df.columns"
   ]
  },
  {
   "cell_type": "code",
   "execution_count": 18,
   "metadata": {},
   "outputs": [
    {
     "data": {
      "text/plain": [
       "Index(['차대번호', '차량번호', '제원관리번호', '차종', '용도', '최초등록일', '연식', '제작일자', '검사유효일',\n",
       "       '인증번호', '등급', '차명', '차종분류', '차종유형', '자동차형식', '제작사명', '연료', '엔진형식',\n",
       "       '총중량', '적재중량', '엔진출력', '배기량', '법정동코드', '시도명', '시군구명', '소유자구분', '말소여부',\n",
       "       '일치유무'],\n",
       "      dtype='object')"
      ]
     },
     "execution_count": 18,
     "metadata": {},
     "output_type": "execute_result"
    }
   ],
   "source": [
    "tlist.columns"
   ]
  },
  {
   "cell_type": "code",
   "execution_count": 11,
   "metadata": {},
   "outputs": [
    {
     "data": {
      "text/plain": [
       "((33573, 28), 2213)"
      ]
     },
     "execution_count": 11,
     "metadata": {},
     "output_type": "execute_result"
    }
   ],
   "source": [
    "df.shape, len(df['제원관리번호'].unique())"
   ]
  },
  {
   "cell_type": "code",
   "execution_count": 19,
   "metadata": {},
   "outputs": [
    {
     "data": {
      "text/plain": [
       "((1077937, 28), 5481)"
      ]
     },
     "execution_count": 19,
     "metadata": {},
     "output_type": "execute_result"
    }
   ],
   "source": [
    "tlist.shape, len(tlist['제원관리번호'].unique())"
   ]
  },
  {
   "cell_type": "code",
   "execution_count": 20,
   "metadata": {},
   "outputs": [
    {
     "data": {
      "text/plain": [
       "1649"
      ]
     },
     "execution_count": 20,
     "metadata": {},
     "output_type": "execute_result"
    }
   ],
   "source": [
    "len(set(df['제원관리번호']) & set(tlist['제원관리번호']))"
   ]
  },
  {
   "cell_type": "code",
   "execution_count": 22,
   "metadata": {},
   "outputs": [],
   "source": [
    "del list"
   ]
  },
  {
   "cell_type": "code",
   "execution_count": 64,
   "metadata": {},
   "outputs": [
    {
     "data": {
      "text/plain": [
       "1649"
      ]
     },
     "execution_count": 64,
     "metadata": {},
     "output_type": "execute_result"
    }
   ],
   "source": [
    "temp = list(set(df['제원관리번호']) & set(tlist['제원관리번호']))\n",
    "len(temp)"
   ]
  },
  {
   "cell_type": "code",
   "execution_count": 65,
   "metadata": {},
   "outputs": [
    {
     "data": {
      "text/plain": [
       "29138"
      ]
     },
     "execution_count": 65,
     "metadata": {},
     "output_type": "execute_result"
    }
   ],
   "source": [
    "match_idx1 = []\n",
    "for i, one in enumerate(df['제원관리번호'].to_list()):\n",
    "    if one in temp:\n",
    "        match_idx1.append(i)\n",
    "len(match_idx1)"
   ]
  },
  {
   "cell_type": "code",
   "execution_count": 66,
   "metadata": {},
   "outputs": [
    {
     "data": {
      "text/plain": [
       "(29138, 28)"
      ]
     },
     "execution_count": 66,
     "metadata": {},
     "output_type": "execute_result"
    }
   ],
   "source": [
    "# about \n",
    "temp1 = df.loc[match_idx1]\n",
    "temp1.shape"
   ]
  },
  {
   "cell_type": "code",
   "execution_count": 67,
   "metadata": {},
   "outputs": [
    {
     "data": {
      "text/plain": [
       "(33573, 28)"
      ]
     },
     "execution_count": 67,
     "metadata": {},
     "output_type": "execute_result"
    }
   ],
   "source": [
    "df.shape"
   ]
  },
  {
   "cell_type": "code",
   "execution_count": 68,
   "metadata": {},
   "outputs": [
    {
     "data": {
      "text/plain": [
       "4435"
      ]
     },
     "execution_count": 68,
     "metadata": {},
     "output_type": "execute_result"
    }
   ],
   "source": [
    "not_match_idx1 = []\n",
    "for i in range(33573):\n",
    "    if i not in match_idx1:\n",
    "        not_match_idx1.append(i)\n",
    "len(not_match_idx1)"
   ]
  },
  {
   "cell_type": "code",
   "execution_count": 69,
   "metadata": {},
   "outputs": [
    {
     "data": {
      "text/plain": [
       "(4435, 28)"
      ]
     },
     "execution_count": 69,
     "metadata": {},
     "output_type": "execute_result"
    }
   ],
   "source": [
    "temp2 = df.loc[not_match_idx1]\n",
    "temp2.shape"
   ]
  },
  {
   "cell_type": "code",
   "execution_count": null,
   "metadata": {},
   "outputs": [],
   "source": []
  },
  {
   "cell_type": "code",
   "execution_count": 70,
   "metadata": {},
   "outputs": [
    {
     "data": {
      "text/plain": [
       "((33573, 28), 1894)"
      ]
     },
     "execution_count": 70,
     "metadata": {},
     "output_type": "execute_result"
    }
   ],
   "source": [
    "df.shape, len(df['자동차형식'].unique())"
   ]
  },
  {
   "cell_type": "code",
   "execution_count": 71,
   "metadata": {},
   "outputs": [
    {
     "data": {
      "text/plain": [
       "((1077937, 28), 4952)"
      ]
     },
     "execution_count": 71,
     "metadata": {},
     "output_type": "execute_result"
    }
   ],
   "source": [
    "tlist.shape, len(tlist['자동차형식'].unique())"
   ]
  },
  {
   "cell_type": "code",
   "execution_count": 72,
   "metadata": {},
   "outputs": [
    {
     "data": {
      "text/plain": [
       "1563"
      ]
     },
     "execution_count": 72,
     "metadata": {},
     "output_type": "execute_result"
    }
   ],
   "source": [
    "len(set(df['자동차형식']) & set(tlist['자동차형식']))"
   ]
  },
  {
   "cell_type": "code",
   "execution_count": 73,
   "metadata": {},
   "outputs": [
    {
     "data": {
      "text/plain": [
       "1563"
      ]
     },
     "execution_count": 73,
     "metadata": {},
     "output_type": "execute_result"
    }
   ],
   "source": [
    "temp = list(set(df['자동차형식']) & set(tlist['자동차형식']))\n",
    "len(temp)"
   ]
  },
  {
   "cell_type": "code",
   "execution_count": 74,
   "metadata": {},
   "outputs": [
    {
     "data": {
      "text/plain": [
       "30579"
      ]
     },
     "execution_count": 74,
     "metadata": {},
     "output_type": "execute_result"
    }
   ],
   "source": [
    "match_idx2 = []\n",
    "for i, one in enumerate(df['자동차형식'].to_list()):\n",
    "    if one in temp:\n",
    "        match_idx2.append(i)\n",
    "len(match_idx2)"
   ]
  },
  {
   "cell_type": "code",
   "execution_count": 75,
   "metadata": {},
   "outputs": [
    {
     "data": {
      "text/plain": [
       "(30579, 28)"
      ]
     },
     "execution_count": 75,
     "metadata": {},
     "output_type": "execute_result"
    }
   ],
   "source": [
    "temp3 = df.loc[match_idx2]\n",
    "temp3.shape"
   ]
  },
  {
   "cell_type": "code",
   "execution_count": 76,
   "metadata": {},
   "outputs": [
    {
     "data": {
      "text/plain": [
       "(33573, 28)"
      ]
     },
     "execution_count": 76,
     "metadata": {},
     "output_type": "execute_result"
    }
   ],
   "source": [
    "df.shape"
   ]
  },
  {
   "cell_type": "code",
   "execution_count": 77,
   "metadata": {},
   "outputs": [
    {
     "data": {
      "text/plain": [
       "2994"
      ]
     },
     "execution_count": 77,
     "metadata": {},
     "output_type": "execute_result"
    }
   ],
   "source": [
    "not_match_idx2 = []\n",
    "for i in range(33573):\n",
    "    if i not in match_idx2:\n",
    "        not_match_idx2.append(i)\n",
    "len(not_match_idx2)"
   ]
  },
  {
   "cell_type": "code",
   "execution_count": 78,
   "metadata": {},
   "outputs": [
    {
     "data": {
      "text/plain": [
       "(2994, 28)"
      ]
     },
     "execution_count": 78,
     "metadata": {},
     "output_type": "execute_result"
    }
   ],
   "source": [
    "temp4 = df.loc[not_match_idx2]\n",
    "temp4.shape"
   ]
  },
  {
   "cell_type": "code",
   "execution_count": 79,
   "metadata": {},
   "outputs": [
    {
     "data": {
      "text/plain": [
       "set()"
      ]
     },
     "execution_count": 79,
     "metadata": {},
     "output_type": "execute_result"
    }
   ],
   "source": [
    "set(temp1['제원관리번호']) & set(temp2['제원관리번호'])"
   ]
  },
  {
   "cell_type": "code",
   "execution_count": 80,
   "metadata": {},
   "outputs": [
    {
     "data": {
      "text/plain": [
       "set()"
      ]
     },
     "execution_count": 80,
     "metadata": {},
     "output_type": "execute_result"
    }
   ],
   "source": [
    "set(temp3['자동차형식']) & set(temp4['자동차형식'])"
   ]
  },
  {
   "cell_type": "code",
   "execution_count": null,
   "metadata": {},
   "outputs": [],
   "source": []
  },
  {
   "cell_type": "code",
   "execution_count": 85,
   "metadata": {},
   "outputs": [
    {
     "data": {
      "text/plain": [
       "29138"
      ]
     },
     "execution_count": 85,
     "metadata": {},
     "output_type": "execute_result"
    }
   ],
   "source": [
    "idx1_3 = list(set(match_idx1) & set(match_idx2))\n",
    "len(idx1_3)"
   ]
  },
  {
   "cell_type": "code",
   "execution_count": 86,
   "metadata": {},
   "outputs": [
    {
     "data": {
      "text/plain": [
       "2994"
      ]
     },
     "execution_count": 86,
     "metadata": {},
     "output_type": "execute_result"
    }
   ],
   "source": [
    "idx2_4 = list(set(not_match_idx1) & set(not_match_idx2))\n",
    "len(idx2_4)"
   ]
  },
  {
   "cell_type": "code",
   "execution_count": 87,
   "metadata": {},
   "outputs": [
    {
     "data": {
      "text/plain": [
       "((29138, 28), (2994, 28))"
      ]
     },
     "execution_count": 87,
     "metadata": {},
     "output_type": "execute_result"
    }
   ],
   "source": [
    "temp1_3 = df.loc[idx1_3]\n",
    "temp2_4 = df.loc[idx2_4]\n",
    "temp1_3.shape, temp2_4.shape"
   ]
  },
  {
   "attachments": {},
   "cell_type": "markdown",
   "metadata": {},
   "source": [
    "### [출력]"
   ]
  },
  {
   "cell_type": "code",
   "execution_count": null,
   "metadata": {},
   "outputs": [],
   "source": [
    "# about 2m\n",
    "g4dc_fold = 'C:/Users/kbjung/Documents/GitHub/wabotech/car_big_data_2/analysis2/4등급_데이터_점검'\n",
    "file_name = '[BD1]4등급_데이터_점검(8MY-KM-13-19).xlsx'\n",
    "g4dc_path = os.path.join(g4dc_fold, file_name)\n",
    "with pd.ExcelWriter(g4dc_path) as writer:\n",
    "    emis[emis['배출가스 인증번호'] == '8MY-KM-13-19'].to_excel(writer, sheet_name='배출가스인증 자동차정보', index=False)\n",
    "    tcond1.to_excel(writer, sheet_name='4등급', index=False)\n",
    "    tcond2.to_excel(writer, sheet_name='3등급', index=False)"
   ]
  },
  {
   "cell_type": "code",
   "execution_count": 165,
   "metadata": {},
   "outputs": [],
   "source": [
    "g4dc_fold = 'C:/Users/kbjung/Documents/GitHub/wabotech/car_big_data_2/analysis2/4등급_데이터_점검'\n",
    "file_name = '[BD1]4등급_데이터_점검(8MY-KM-13-19)2.xlsx'\n",
    "g4dc_path = os.path.join(g4dc_fold, file_name)\n",
    "with pd.ExcelWriter(g4dc_path) as writer:\n",
    "    icond1Y.groupby(['제원관리번호', '자동차형식'])['차대번호'].count().to_excel(writer, sheet_name='4등급_정기_대수')\n",
    "    icond1Y.groupby(['제원관리번호', '자동차형식'])['무부하매연측정치1'].agg(['mean', 'min', 'max']).to_excel(writer, sheet_name='4등급_정기_합격')\n",
    "\n",
    "    icond1Y.groupby(['제원관리번호', '자동차형식', '검사방법'])['차대번호'].count().unstack().to_excel(writer, sheet_name='4등급_정기_합격_검사방법_대수')\n",
    "    icond1Y.groupby(['제원관리번호', '자동차형식', '검사방법'])['무부하매연측정치1'].agg(['mean', 'min', 'max']).unstack().to_excel(writer, sheet_name='4등급_정기_합격_검사방법')\n",
    "\n",
    "    icond1N.groupby(['제원관리번호', '자동차형식'])['차대번호'].count().to_excel(writer, sheet_name='4등급_정기_불합격_대수')\n",
    "    icond1N.groupby(['제원관리번호', '자동차형식'])['무부하매연측정치1'].agg(['mean', 'min', 'max']).to_excel(writer, sheet_name='4등급_정기_불합격')\n",
    "\n",
    "    icond1N.groupby(['제원관리번호', '자동차형식', '검사방법'])['차대번호'].count().unstack().to_excel(writer, sheet_name='4등급_정기_불합격_검사방법_대수')\n",
    "    icond1N.groupby(['제원관리번호', '자동차형식', '검사방법'])['무부하매연측정치1'].agg(['mean', 'min', 'max']).unstack().to_excel(writer, sheet_name='4등급_정기_불합격_검사방법')\n",
    "\n",
    "    dcond1Y.groupby(['제원관리번호', '자동차형식'])['차대번호'].count().to_excel(writer, sheet_name='4등급_정밀_합격_대수')\n",
    "    dcond1Y.groupby(['제원관리번호', '자동차형식'])['무부하매연측정치1'].agg(['mean', 'min', 'max']).to_excel(writer, sheet_name='4등급_정밀_합격')\n",
    "\n",
    "    dcond1Y.groupby(['제원관리번호', '자동차형식', '검사방법'])['차대번호'].count().unstack().to_excel(writer, sheet_name='4등급_정밀_합격_검사방법_대수')\n",
    "    dcond1Y.groupby(['제원관리번호', '자동차형식', '검사방법'])['무부하매연측정치1'].agg(['mean', 'min', 'max']).unstack().to_excel(writer, sheet_name='4등급_정밀_합격_검사방법')\n",
    "\n",
    "    dcond1N.groupby(['제원관리번호', '자동차형식'])['차대번호'].count().to_excel(writer, sheet_name='4등급_정밀_불합격_대수')\n",
    "    dcond1N.groupby(['제원관리번호', '자동차형식'])['무부하매연측정치1'].agg(['mean', 'min', 'max']).to_excel(writer, sheet_name='4등급_정밀_불합격')\n",
    "\n",
    "    dcond1N.groupby(['제원관리번호', '자동차형식', '검사방법'])['차대번호'].count().unstack().to_excel(writer, sheet_name='4등급_정밀_불합격_검사방법_대수')\n",
    "    dcond1N.groupby(['제원관리번호', '자동차형식', '검사방법'])['무부하매연측정치1'].agg(['mean', 'min', 'max']).unstack().to_excel(writer, sheet_name='4등급_정밀_불합격_검사방법')"
   ]
  },
  {
   "cell_type": "code",
   "execution_count": 164,
   "metadata": {},
   "outputs": [],
   "source": [
    "g4dc_fold = 'C:/Users/kbjung/Documents/GitHub/wabotech/car_big_data_2/analysis2/4등급_데이터_점검'\n",
    "file_name = '[BD1]3등급_데이터_점검(8MY-KM-13-19).xlsx'\n",
    "g4dc_path = os.path.join(g4dc_fold, file_name)\n",
    "with pd.ExcelWriter(g4dc_path) as writer:\n",
    "    icond2Y.groupby(['제원관리번호', '자동차형식'])['차대번호'].count().to_excel(writer, sheet_name='3등급_정기_대수')\n",
    "    icond2Y.groupby(['제원관리번호', '자동차형식'])['무부하매연측정치1'].agg(['mean', 'min', 'max']).to_excel(writer, sheet_name='3등급_정기_합격')\n",
    "\n",
    "    icond2Y.groupby(['제원관리번호', '자동차형식', '검사방법'])['차대번호'].count().unstack().to_excel(writer, sheet_name='3등급_정기_합격_검사방법_대수')\n",
    "    icond2Y.groupby(['제원관리번호', '자동차형식', '검사방법'])['무부하매연측정치1'].agg(['mean', 'min', 'max']).unstack().to_excel(writer, sheet_name='3등급_정기_합격_검사방법')\n",
    "\n",
    "    icond2N.groupby(['제원관리번호', '자동차형식'])['차대번호'].count().to_excel(writer, sheet_name='3등급_정기_불합격_대수')\n",
    "    icond2N.groupby(['제원관리번호', '자동차형식'])['무부하매연측정치1'].agg(['mean', 'min', 'max']).to_excel(writer, sheet_name='3등급_정기_불합격')\n",
    "\n",
    "    icond2N.groupby(['제원관리번호', '자동차형식', '검사방법'])['차대번호'].count().unstack().to_excel(writer, sheet_name='3등급_정기_불합격_검사방법_대수')\n",
    "    icond2N.groupby(['제원관리번호', '자동차형식', '검사방법'])['무부하매연측정치1'].agg(['mean', 'min', 'max']).unstack().to_excel(writer, sheet_name='3등급_정기_불합격_검사방법')\n",
    "\n",
    "    dcond2Y.groupby(['제원관리번호', '자동차형식'])['차대번호'].count().to_excel(writer, sheet_name='3등급_정밀_합격_대수')\n",
    "    dcond2Y.groupby(['제원관리번호', '자동차형식'])['무부하매연측정치1'].agg(['mean', 'min', 'max']).to_excel(writer, sheet_name='3등급_정밀_합격')\n",
    "\n",
    "    dcond2Y.groupby(['제원관리번호', '자동차형식', '검사방법'])['차대번호'].count().unstack().to_excel(writer, sheet_name='3등급_정밀_합격_검사방법_대수')\n",
    "    dcond2Y.groupby(['제원관리번호', '자동차형식', '검사방법'])['무부하매연측정치1'].agg(['mean', 'min', 'max']).unstack().to_excel(writer, sheet_name='3등급_정밀_합격_검사방법')\n",
    "\n",
    "    dcond2N.groupby(['제원관리번호', '자동차형식'])['차대번호'].count().to_excel(writer, sheet_name='3등급_정밀_불합격_대수')\n",
    "    dcond2N.groupby(['제원관리번호', '자동차형식'])['무부하매연측정치1'].agg(['mean', 'min', 'max']).to_excel(writer, sheet_name='3등급_정밀_불합격')\n",
    "\n",
    "    dcond2N.groupby(['제원관리번호', '자동차형식', '검사방법'])['차대번호'].count().unstack().to_excel(writer, sheet_name='3등급_정밀_불합격_검사방법_대수')\n",
    "    dcond2N.groupby(['제원관리번호', '자동차형식', '검사방법'])['무부하매연측정치1'].agg(['mean', 'min', 'max']).unstack().to_excel(writer, sheet_name='3등급_정밀_불합격_검사방법')"
   ]
  },
  {
   "cell_type": "code",
   "execution_count": 80,
   "metadata": {},
   "outputs": [],
   "source": [
    "# about 1m 43s\n",
    "g4dc_fold = 'C:/Users/kbjung/Documents/GitHub/wabotech/car_big_data_2/analysis2/4등급_데이터_점검'\n",
    "file_name = '[BD1]오류부적합.xlsx'\n",
    "g4dc_path = os.path.join(g4dc_fold, file_name)\n",
    "with pd.ExcelWriter(g4dc_path) as writer2:\n",
    "    total_sort.to_excel(writer2, sheet_name='오류부적합', index=False)"
   ]
  },
  {
   "cell_type": "code",
   "execution_count": 88,
   "metadata": {},
   "outputs": [],
   "source": [
    "# about 46s\n",
    "g4dc_fold = 'C:/Users/kbjung/Documents/GitHub/wabotech/car_big_data_2/analysis2/4등급_데이터_점검'\n",
    "file_name = '[BD1]4등급_33573대_검증.xlsx'\n",
    "g4dc_path = os.path.join(g4dc_fold, file_name)\n",
    "with pd.ExcelWriter(g4dc_path) as writer3:\n",
    "    temp1.to_excel(writer3, sheet_name='제원관리번호_매칭', index=False)\n",
    "    temp2.to_excel(writer3, sheet_name='제원관리번호_미매칭', index=False)\n",
    "    temp3.to_excel(writer3, sheet_name='자동차형식_매칭', index=False)\n",
    "    temp4.to_excel(writer3, sheet_name='자동차형식_미매칭', index=False)\n",
    "    temp1_3.to_excel(writer3, sheet_name='매칭교집합', index=False)\n",
    "    temp2_4.to_excel(writer3, sheet_name='미매칭교집합', index=False)"
   ]
  },
  {
   "attachments": {},
   "cell_type": "markdown",
   "metadata": {},
   "source": [
    "# KENCIS 배출가스인증정보"
   ]
  },
  {
   "attachments": {},
   "cell_type": "markdown",
   "metadata": {},
   "source": [
    "## 국내 파일 병합"
   ]
  },
  {
   "cell_type": "code",
   "execution_count": 16,
   "metadata": {},
   "outputs": [],
   "source": [
    "ken_fold = 'D:/data/big2/BD1_4등급_데이터_점검1/kencis'"
   ]
  },
  {
   "cell_type": "code",
   "execution_count": 17,
   "metadata": {},
   "outputs": [
    {
     "data": {
      "text/plain": [
       "(8814, 13)"
      ]
     },
     "execution_count": 17,
     "metadata": {},
     "output_type": "execute_result"
    }
   ],
   "source": [
    "ken = pd.DataFrame()\n",
    "for i in range(11, 38):\n",
    "    file_name = f'공공데이터개방_목록 ({i}).xls'\n",
    "    temp = pd.read_excel(os.path.join(ken_fold, file_name))\n",
    "    ken = pd.concat([ken, temp], ignore_index=True)\n",
    "ken.shape"
   ]
  },
  {
   "cell_type": "code",
   "execution_count": 18,
   "metadata": {},
   "outputs": [
    {
     "data": {
      "text/html": [
       "<div>\n",
       "<style scoped>\n",
       "    .dataframe tbody tr th:only-of-type {\n",
       "        vertical-align: middle;\n",
       "    }\n",
       "\n",
       "    .dataframe tbody tr th {\n",
       "        vertical-align: top;\n",
       "    }\n",
       "\n",
       "    .dataframe thead th {\n",
       "        text-align: right;\n",
       "    }\n",
       "</style>\n",
       "<table border=\"1\" class=\"dataframe\">\n",
       "  <thead>\n",
       "    <tr style=\"text-align: right;\">\n",
       "      <th></th>\n",
       "      <th>번호</th>\n",
       "      <th>업체명</th>\n",
       "      <th>차종</th>\n",
       "      <th>차명</th>\n",
       "      <th>형식</th>\n",
       "      <th>사용연료</th>\n",
       "      <th>인증구분</th>\n",
       "      <th>배출가스\\n인증번호</th>\n",
       "      <th>배출가스\\n인증일</th>\n",
       "      <th>소음\\n인증번호</th>\n",
       "      <th>소음\\n인증일</th>\n",
       "      <th>배출가스\\n허용기준</th>\n",
       "      <th>소음\\n허용기준</th>\n",
       "    </tr>\n",
       "  </thead>\n",
       "  <tbody>\n",
       "    <tr>\n",
       "      <th>0</th>\n",
       "      <td>1</td>\n",
       "      <td>르노코리아자동차(주)</td>\n",
       "      <td>승용1</td>\n",
       "      <td>SM7</td>\n",
       "      <td>E2V23-4A</td>\n",
       "      <td>휘발유(Gasoline)</td>\n",
       "      <td>신규인증</td>\n",
       "      <td>6MY-SM-14-41</td>\n",
       "      <td>2006-06-28</td>\n",
       "      <td>6SM-GS-14-41</td>\n",
       "      <td>2006-06-28</td>\n",
       "      <td>NaN</td>\n",
       "      <td>NaN</td>\n",
       "    </tr>\n",
       "    <tr>\n",
       "      <th>1</th>\n",
       "      <td>2</td>\n",
       "      <td>르노코리아자동차(주)</td>\n",
       "      <td>승용1</td>\n",
       "      <td>SM7</td>\n",
       "      <td>E2V23-4B</td>\n",
       "      <td>휘발유(Gasoline)</td>\n",
       "      <td>신규인증</td>\n",
       "      <td>6MY-SM-14-41</td>\n",
       "      <td>2006-06-28</td>\n",
       "      <td>6SM-GS-14-41</td>\n",
       "      <td>2006-06-28</td>\n",
       "      <td>NaN</td>\n",
       "      <td>NaN</td>\n",
       "    </tr>\n",
       "    <tr>\n",
       "      <th>2</th>\n",
       "      <td>3</td>\n",
       "      <td>르노코리아자동차(주)</td>\n",
       "      <td>승용1</td>\n",
       "      <td>SM7</td>\n",
       "      <td>E2V35-4A</td>\n",
       "      <td>휘발유(Gasoline)</td>\n",
       "      <td>신규인증</td>\n",
       "      <td>6MY-SM-14-40</td>\n",
       "      <td>2006-06-28</td>\n",
       "      <td>6SM-GS-14-40</td>\n",
       "      <td>2006-06-28</td>\n",
       "      <td>NaN</td>\n",
       "      <td>NaN</td>\n",
       "    </tr>\n",
       "    <tr>\n",
       "      <th>3</th>\n",
       "      <td>4</td>\n",
       "      <td>현대자동차(주)</td>\n",
       "      <td>화물(대형)</td>\n",
       "      <td>현대천연가스암롤트럭</td>\n",
       "      <td>HD16CT-6CA2-MHC</td>\n",
       "      <td>압축천연가스(CNG)</td>\n",
       "      <td>신규인증</td>\n",
       "      <td></td>\n",
       "      <td>NaN</td>\n",
       "      <td>5HD-CS-23-66-1</td>\n",
       "      <td>2006-06-12</td>\n",
       "      <td>NaN</td>\n",
       "      <td>NaN</td>\n",
       "    </tr>\n",
       "    <tr>\n",
       "      <th>4</th>\n",
       "      <td>5</td>\n",
       "      <td>르노코리아자동차(주)</td>\n",
       "      <td>승용1</td>\n",
       "      <td>SM3</td>\n",
       "      <td>N1Q16-4A</td>\n",
       "      <td>휘발유(Gasoline)</td>\n",
       "      <td>신규인증</td>\n",
       "      <td>6MY-SM-14-16</td>\n",
       "      <td>2006-05-02</td>\n",
       "      <td>6SM-GS-14-16</td>\n",
       "      <td>2006-05-02</td>\n",
       "      <td>NaN</td>\n",
       "      <td>NaN</td>\n",
       "    </tr>\n",
       "  </tbody>\n",
       "</table>\n",
       "</div>"
      ],
      "text/plain": [
       "  번호          업체명      차종          차명               형식           사용연료  인증구분  \\\n",
       "0  1  르노코리아자동차(주)     승용1         SM7         E2V23-4A  휘발유(Gasoline)  신규인증   \n",
       "1  2  르노코리아자동차(주)     승용1         SM7         E2V23-4B  휘발유(Gasoline)  신규인증   \n",
       "2  3  르노코리아자동차(주)     승용1         SM7         E2V35-4A  휘발유(Gasoline)  신규인증   \n",
       "3  4     현대자동차(주)  화물(대형)  현대천연가스암롤트럭  HD16CT-6CA2-MHC    압축천연가스(CNG)  신규인증   \n",
       "4  5  르노코리아자동차(주)     승용1         SM3         N1Q16-4A  휘발유(Gasoline)  신규인증   \n",
       "\n",
       "     배출가스\\n인증번호   배출가스\\n인증일        소음\\n인증번호     소음\\n인증일 배출가스\\n허용기준 소음\\n허용기준  \n",
       "0  6MY-SM-14-41  2006-06-28    6SM-GS-14-41  2006-06-28        NaN      NaN  \n",
       "1  6MY-SM-14-41  2006-06-28    6SM-GS-14-41  2006-06-28        NaN      NaN  \n",
       "2  6MY-SM-14-40  2006-06-28    6SM-GS-14-40  2006-06-28        NaN      NaN  \n",
       "3                       NaN  5HD-CS-23-66-1  2006-06-12        NaN      NaN  \n",
       "4  6MY-SM-14-16  2006-05-02    6SM-GS-14-16  2006-05-02        NaN      NaN  "
      ]
     },
     "execution_count": 18,
     "metadata": {},
     "output_type": "execute_result"
    }
   ],
   "source": [
    "ken.head()"
   ]
  },
  {
   "cell_type": "code",
   "execution_count": 19,
   "metadata": {},
   "outputs": [
    {
     "data": {
      "text/plain": [
       "Index(['번호', '업체명', '차종', '차명', '형식', '사용연료', '인증구분', '배출가스\\n인증번호',\n",
       "       '배출가스\\n인증일', '소음\\n인증번호', '소음\\n인증일', '배출가스\\n허용기준', '소음\\n허용기준'],\n",
       "      dtype='object')"
      ]
     },
     "execution_count": 19,
     "metadata": {},
     "output_type": "execute_result"
    }
   ],
   "source": [
    "ken.columns"
   ]
  },
  {
   "cell_type": "code",
   "execution_count": 20,
   "metadata": {},
   "outputs": [],
   "source": [
    "ken.columns = ['번호', '업체명', '차종', '차명', '형식', '사용연료', '인증구분', '배출가스인증번호',\n",
    "       '배출가스인증일', '소음인증번호', '소음인증일', '배출가스허용기준', '소음허용기준']"
   ]
  },
  {
   "cell_type": "code",
   "execution_count": 45,
   "metadata": {},
   "outputs": [
    {
     "data": {
      "text/plain": [
       "경유(Diesel)             4463\n",
       "휘발유(Gasoline)          3115\n",
       "액화석유가스(LPG)             705\n",
       "압축천연가스(CNG)             244\n",
       "NaN                     140\n",
       "휘발유-하이브리드(G-Hybrid)      72\n",
       "전기(EV)                   71\n",
       "수소전기                      3\n",
       "경유-하이브리드(D-Hybrid)        1\n",
       "Name: 사용연료, dtype: int64"
      ]
     },
     "execution_count": 45,
     "metadata": {},
     "output_type": "execute_result"
    }
   ],
   "source": [
    "ken['사용연료'].value_counts(dropna=False)"
   ]
  },
  {
   "cell_type": "code",
   "execution_count": 46,
   "metadata": {},
   "outputs": [
    {
     "data": {
      "text/plain": [
       "(4463, 13)"
      ]
     },
     "execution_count": 46,
     "metadata": {},
     "output_type": "execute_result"
    }
   ],
   "source": [
    "ken_d = ken[ken['사용연료'] == '경유(Diesel)'].reset_index(drop=True)\n",
    "ken_d.shape"
   ]
  },
  {
   "cell_type": "code",
   "execution_count": 107,
   "metadata": {},
   "outputs": [],
   "source": [
    "ken_d = ken_d[['업체명', '차종', '차명', '형식', '사용연료', '인증구분', '배출가스인증번호',\n",
    "       '배출가스인증일', '소음인증번호', '소음인증일', '배출가스허용기준', '소음허용기준']]"
   ]
  },
  {
   "attachments": {},
   "cell_type": "markdown",
   "metadata": {},
   "source": [
    "### [출력] KENCIS 국내 배출가스인증 정보 "
   ]
  },
  {
   "cell_type": "code",
   "execution_count": 108,
   "metadata": {},
   "outputs": [],
   "source": [
    "ken_d.to_excel(os.path.join(ken_fold, 'KENCIS_국내_경유_인증정보.xlsx'), index=False)"
   ]
  },
  {
   "attachments": {},
   "cell_type": "markdown",
   "metadata": {},
   "source": [
    "### [로드] KENCIS 국내 배출가스인증정보"
   ]
  },
  {
   "cell_type": "code",
   "execution_count": null,
   "metadata": {},
   "outputs": [],
   "source": [
    "# ken_d = pd.read_excel(os.path.join(ken_fold, 'KENCIS_국내_경유_인증정보.xlsx'))"
   ]
  },
  {
   "attachments": {},
   "cell_type": "markdown",
   "metadata": {},
   "source": [
    "### [로드] KENCIS 해외 배출가스인증정보"
   ]
  },
  {
   "cell_type": "code",
   "execution_count": 50,
   "metadata": {},
   "outputs": [],
   "source": [
    "ken_d2 = pd.read_excel(os.path.join(ken_fold, 'KENCIS_해외_경유_인증정보.xlsx'))"
   ]
  },
  {
   "cell_type": "code",
   "execution_count": 98,
   "metadata": {},
   "outputs": [
    {
     "data": {
      "text/plain": [
       "Index(['업체명', '차종', '차명', '형식', '사용연료', '인증구분', '배출가스\\n인증번호', '배출가스\\n인증일',\n",
       "       '소음\\n인증번호', '소음\\n인증일', '배출가스\\n허용기준', '소음\\n허용기준'],\n",
       "      dtype='object')"
      ]
     },
     "execution_count": 98,
     "metadata": {},
     "output_type": "execute_result"
    }
   ],
   "source": [
    "ken_d2.columns"
   ]
  },
  {
   "cell_type": "code",
   "execution_count": 106,
   "metadata": {},
   "outputs": [],
   "source": [
    "ken_d2.columns = ['업체명', '차종', '차명', '형식', '사용연료', '인증구분', '배출가스인증번호', '배출가스인증일',\n",
    "       '소음인증번호', '소음인증일', '배출가스허용기준', '소음허용기준']"
   ]
  },
  {
   "cell_type": "code",
   "execution_count": 109,
   "metadata": {},
   "outputs": [
    {
     "data": {
      "text/plain": [
       "((4463, 12), (11519, 12))"
      ]
     },
     "execution_count": 109,
     "metadata": {},
     "output_type": "execute_result"
    }
   ],
   "source": [
    "ken_d.shape, ken_d2.shape"
   ]
  },
  {
   "cell_type": "code",
   "execution_count": 110,
   "metadata": {},
   "outputs": [
    {
     "data": {
      "text/plain": [
       "0       2006-02-03\n",
       "1       2007-09-20\n",
       "2       2007-09-20\n",
       "3       2007-09-20\n",
       "4       2007-09-20\n",
       "           ...    \n",
       "4458    2018-07-02\n",
       "4459    2018-07-02\n",
       "4460    2018-07-02\n",
       "4461    2018-07-02\n",
       "4462    2018-07-02\n",
       "Name: 배출가스인증일, Length: 4463, dtype: object"
      ]
     },
     "execution_count": 110,
     "metadata": {},
     "output_type": "execute_result"
    }
   ],
   "source": [
    "ken_d['배출가스인증일']"
   ]
  },
  {
   "cell_type": "code",
   "execution_count": 112,
   "metadata": {},
   "outputs": [
    {
     "data": {
      "text/plain": [
       "0        2006-04-24\n",
       "1        2006-01-06\n",
       "2        2006-01-06\n",
       "3        2007-01-04\n",
       "4        2007-11-30\n",
       "            ...    \n",
       "11514    2023-01-09\n",
       "11515    2023-01-09\n",
       "11516    2023-01-09\n",
       "11517    2023-01-09\n",
       "11518    2023-01-09\n",
       "Name: 배출가스인증일, Length: 11519, dtype: object"
      ]
     },
     "execution_count": 112,
     "metadata": {},
     "output_type": "execute_result"
    }
   ],
   "source": [
    "ken_d2['배출가스인증일']"
   ]
  },
  {
   "cell_type": "code",
   "execution_count": 113,
   "metadata": {},
   "outputs": [
    {
     "data": {
      "text/plain": [
       "(15982, 12)"
      ]
     },
     "execution_count": 113,
     "metadata": {},
     "output_type": "execute_result"
    }
   ],
   "source": [
    "kencis = pd.concat([ken_d, ken_d2], ignore_index=True)\n",
    "kencis.shape"
   ]
  },
  {
   "cell_type": "code",
   "execution_count": 114,
   "metadata": {},
   "outputs": [
    {
     "data": {
      "text/html": [
       "<div>\n",
       "<style scoped>\n",
       "    .dataframe tbody tr th:only-of-type {\n",
       "        vertical-align: middle;\n",
       "    }\n",
       "\n",
       "    .dataframe tbody tr th {\n",
       "        vertical-align: top;\n",
       "    }\n",
       "\n",
       "    .dataframe thead th {\n",
       "        text-align: right;\n",
       "    }\n",
       "</style>\n",
       "<table border=\"1\" class=\"dataframe\">\n",
       "  <thead>\n",
       "    <tr style=\"text-align: right;\">\n",
       "      <th></th>\n",
       "      <th>업체명</th>\n",
       "      <th>차종</th>\n",
       "      <th>차명</th>\n",
       "      <th>형식</th>\n",
       "      <th>사용연료</th>\n",
       "      <th>인증구분</th>\n",
       "      <th>배출가스인증번호</th>\n",
       "      <th>배출가스인증일</th>\n",
       "      <th>소음인증번호</th>\n",
       "      <th>소음인증일</th>\n",
       "      <th>배출가스허용기준</th>\n",
       "      <th>소음허용기준</th>\n",
       "    </tr>\n",
       "  </thead>\n",
       "  <tbody>\n",
       "    <tr>\n",
       "      <th>0</th>\n",
       "      <td>르노코리아자동차(주)</td>\n",
       "      <td>승용1</td>\n",
       "      <td>SM3</td>\n",
       "      <td>N1K15-4M</td>\n",
       "      <td>경유(Diesel)</td>\n",
       "      <td>신규인증</td>\n",
       "      <td>5MY-SM-24-33</td>\n",
       "      <td>2006-02-03</td>\n",
       "      <td>5SM-DS-24-33</td>\n",
       "      <td>2006-02-03</td>\n",
       "      <td>NaN</td>\n",
       "      <td>NaN</td>\n",
       "    </tr>\n",
       "    <tr>\n",
       "      <th>1</th>\n",
       "      <td>현대자동차(주)</td>\n",
       "      <td>승용(중형)</td>\n",
       "      <td>그랜드스타렉스 2.5디젤 11인</td>\n",
       "      <td>TQ-25D11-E4-5A</td>\n",
       "      <td>경유(Diesel)</td>\n",
       "      <td>신규인증</td>\n",
       "      <td>7MY-HD-14-46</td>\n",
       "      <td>2007-09-20</td>\n",
       "      <td>7HD-DS-24-09</td>\n",
       "      <td>2007-04-12</td>\n",
       "      <td>NaN</td>\n",
       "      <td>NaN</td>\n",
       "    </tr>\n",
       "    <tr>\n",
       "      <th>2</th>\n",
       "      <td>현대자동차(주)</td>\n",
       "      <td>승용(중형)</td>\n",
       "      <td>그랜드스타렉스 2.5디젤 11인</td>\n",
       "      <td>TQ-25D11-E4-5M</td>\n",
       "      <td>경유(Diesel)</td>\n",
       "      <td>신규인증</td>\n",
       "      <td>7MY-HD-14-46</td>\n",
       "      <td>2007-09-20</td>\n",
       "      <td>7HD-DS-24-09</td>\n",
       "      <td>2007-04-12</td>\n",
       "      <td>NaN</td>\n",
       "      <td>NaN</td>\n",
       "    </tr>\n",
       "    <tr>\n",
       "      <th>3</th>\n",
       "      <td>현대자동차(주)</td>\n",
       "      <td>승용(중형)</td>\n",
       "      <td>그랜드스타렉스 2.5디젤 12인</td>\n",
       "      <td>TQ-25D12-E4-5A</td>\n",
       "      <td>경유(Diesel)</td>\n",
       "      <td>신규인증</td>\n",
       "      <td>7MY-HD-14-46</td>\n",
       "      <td>2007-09-20</td>\n",
       "      <td>7HD-DS-24-09</td>\n",
       "      <td>2007-04-12</td>\n",
       "      <td>NaN</td>\n",
       "      <td>NaN</td>\n",
       "    </tr>\n",
       "    <tr>\n",
       "      <th>4</th>\n",
       "      <td>현대자동차(주)</td>\n",
       "      <td>승용(중형)</td>\n",
       "      <td>그랜드스타렉스 2.5디젤 12인</td>\n",
       "      <td>TQ-25D12-E4-5M</td>\n",
       "      <td>경유(Diesel)</td>\n",
       "      <td>신규인증</td>\n",
       "      <td>7MY-HD-14-46</td>\n",
       "      <td>2007-09-20</td>\n",
       "      <td>7HD-DS-24-09</td>\n",
       "      <td>2007-04-12</td>\n",
       "      <td>NaN</td>\n",
       "      <td>NaN</td>\n",
       "    </tr>\n",
       "  </tbody>\n",
       "</table>\n",
       "</div>"
      ],
      "text/plain": [
       "           업체명      차종                 차명              형식        사용연료  인증구분  \\\n",
       "0  르노코리아자동차(주)     승용1                SM3        N1K15-4M  경유(Diesel)  신규인증   \n",
       "1     현대자동차(주)  승용(중형)  그랜드스타렉스 2.5디젤 11인  TQ-25D11-E4-5A  경유(Diesel)  신규인증   \n",
       "2     현대자동차(주)  승용(중형)  그랜드스타렉스 2.5디젤 11인  TQ-25D11-E4-5M  경유(Diesel)  신규인증   \n",
       "3     현대자동차(주)  승용(중형)  그랜드스타렉스 2.5디젤 12인  TQ-25D12-E4-5A  경유(Diesel)  신규인증   \n",
       "4     현대자동차(주)  승용(중형)  그랜드스타렉스 2.5디젤 12인  TQ-25D12-E4-5M  경유(Diesel)  신규인증   \n",
       "\n",
       "       배출가스인증번호     배출가스인증일        소음인증번호       소음인증일 배출가스허용기준 소음허용기준  \n",
       "0  5MY-SM-24-33  2006-02-03  5SM-DS-24-33  2006-02-03      NaN    NaN  \n",
       "1  7MY-HD-14-46  2007-09-20  7HD-DS-24-09  2007-04-12      NaN    NaN  \n",
       "2  7MY-HD-14-46  2007-09-20  7HD-DS-24-09  2007-04-12      NaN    NaN  \n",
       "3  7MY-HD-14-46  2007-09-20  7HD-DS-24-09  2007-04-12      NaN    NaN  \n",
       "4  7MY-HD-14-46  2007-09-20  7HD-DS-24-09  2007-04-12      NaN    NaN  "
      ]
     },
     "execution_count": 114,
     "metadata": {},
     "output_type": "execute_result"
    }
   ],
   "source": [
    "kencis.head()"
   ]
  },
  {
   "cell_type": "code",
   "execution_count": 115,
   "metadata": {},
   "outputs": [
    {
     "name": "stderr",
     "output_type": "stream",
     "text": [
      "100%|██████████| 206/206 [00:00<00:00, 56167.63it/s]\n"
     ]
    },
    {
     "data": {
      "text/plain": [
       "(206, 206)"
      ]
     },
     "execution_count": 115,
     "metadata": {},
     "output_type": "execute_result"
    }
   ],
   "source": [
    "kg = kencis['배출가스인증번호'].unique()\n",
    "gasnm_list = []\n",
    "inc_list = []\n",
    "for one in tqdm(tot['배출가스인증번호'].unique()):\n",
    "    if one in kg:\n",
    "        inc_list.append('Y')\n",
    "    else:\n",
    "        inc_list.append('N')\n",
    "    gasnm_list.append(one)\n",
    "len(gasnm_list), len(inc_list)"
   ]
  },
  {
   "cell_type": "code",
   "execution_count": 116,
   "metadata": {},
   "outputs": [
    {
     "data": {
      "text/html": [
       "<div>\n",
       "<style scoped>\n",
       "    .dataframe tbody tr th:only-of-type {\n",
       "        vertical-align: middle;\n",
       "    }\n",
       "\n",
       "    .dataframe tbody tr th {\n",
       "        vertical-align: top;\n",
       "    }\n",
       "\n",
       "    .dataframe thead th {\n",
       "        text-align: right;\n",
       "    }\n",
       "</style>\n",
       "<table border=\"1\" class=\"dataframe\">\n",
       "  <thead>\n",
       "    <tr style=\"text-align: right;\">\n",
       "      <th></th>\n",
       "      <th>배출가스인증번호</th>\n",
       "      <th>KENCIS와_매칭여부</th>\n",
       "    </tr>\n",
       "  </thead>\n",
       "  <tbody>\n",
       "    <tr>\n",
       "      <th>0</th>\n",
       "      <td>9MY-KM-14-41</td>\n",
       "      <td>Y</td>\n",
       "    </tr>\n",
       "    <tr>\n",
       "      <th>1</th>\n",
       "      <td>7MY-SY-14-60</td>\n",
       "      <td>N</td>\n",
       "    </tr>\n",
       "    <tr>\n",
       "      <th>2</th>\n",
       "      <td>nan</td>\n",
       "      <td>N</td>\n",
       "    </tr>\n",
       "    <tr>\n",
       "      <th>3</th>\n",
       "      <td>7MY-HD-14-47</td>\n",
       "      <td>Y</td>\n",
       "    </tr>\n",
       "    <tr>\n",
       "      <th>4</th>\n",
       "      <td>6MY-KM-14-61</td>\n",
       "      <td>N</td>\n",
       "    </tr>\n",
       "    <tr>\n",
       "      <th>...</th>\n",
       "      <td>...</td>\n",
       "      <td>...</td>\n",
       "    </tr>\n",
       "    <tr>\n",
       "      <th>201</th>\n",
       "      <td>8MY-SH-0M-24</td>\n",
       "      <td>N</td>\n",
       "    </tr>\n",
       "    <tr>\n",
       "      <th>202</th>\n",
       "      <td>7MY-JW-0M-24</td>\n",
       "      <td>N</td>\n",
       "    </tr>\n",
       "    <tr>\n",
       "      <th>203</th>\n",
       "      <td>8MY-CR-0M-24</td>\n",
       "      <td>N</td>\n",
       "    </tr>\n",
       "    <tr>\n",
       "      <th>204</th>\n",
       "      <td>TY87-배K-03</td>\n",
       "      <td>N</td>\n",
       "    </tr>\n",
       "    <tr>\n",
       "      <th>205</th>\n",
       "      <td>8MY-FM-0M-24</td>\n",
       "      <td>N</td>\n",
       "    </tr>\n",
       "  </tbody>\n",
       "</table>\n",
       "<p>206 rows × 2 columns</p>\n",
       "</div>"
      ],
      "text/plain": [
       "         배출가스인증번호 KENCIS와_매칭여부\n",
       "0    9MY-KM-14-41            Y\n",
       "1    7MY-SY-14-60            N\n",
       "2             nan            N\n",
       "3    7MY-HD-14-47            Y\n",
       "4    6MY-KM-14-61            N\n",
       "..            ...          ...\n",
       "201  8MY-SH-0M-24            N\n",
       "202  7MY-JW-0M-24            N\n",
       "203  8MY-CR-0M-24            N\n",
       "204    TY87-배K-03            N\n",
       "205  8MY-FM-0M-24            N\n",
       "\n",
       "[206 rows x 2 columns]"
      ]
     },
     "execution_count": 116,
     "metadata": {},
     "output_type": "execute_result"
    }
   ],
   "source": [
    "k_df = pd.DataFrame({'배출가스인증번호':gasnm_list, 'KENCIS와_매칭여부':inc_list})\n",
    "k_df"
   ]
  },
  {
   "cell_type": "code",
   "execution_count": 117,
   "metadata": {},
   "outputs": [
    {
     "data": {
      "text/plain": [
       "Index(['배출가스인증번호', '차대번호', '차량연식_범위', 'vin10자리연식_범위', '3등급에_존재', '5등급에_존재'], dtype='object')"
      ]
     },
     "execution_count": 117,
     "metadata": {},
     "output_type": "execute_result"
    }
   ],
   "source": [
    "g4_gasnm_info2.columns"
   ]
  },
  {
   "cell_type": "code",
   "execution_count": 118,
   "metadata": {},
   "outputs": [
    {
     "data": {
      "text/html": [
       "<div>\n",
       "<style scoped>\n",
       "    .dataframe tbody tr th:only-of-type {\n",
       "        vertical-align: middle;\n",
       "    }\n",
       "\n",
       "    .dataframe tbody tr th {\n",
       "        vertical-align: top;\n",
       "    }\n",
       "\n",
       "    .dataframe thead th {\n",
       "        text-align: right;\n",
       "    }\n",
       "</style>\n",
       "<table border=\"1\" class=\"dataframe\">\n",
       "  <thead>\n",
       "    <tr style=\"text-align: right;\">\n",
       "      <th></th>\n",
       "      <th>배출가스인증번호</th>\n",
       "      <th>차대번호</th>\n",
       "      <th>차량연식_범위</th>\n",
       "      <th>vin10자리연식_범위</th>\n",
       "      <th>3등급에_존재</th>\n",
       "      <th>5등급에_존재</th>\n",
       "    </tr>\n",
       "  </thead>\n",
       "  <tbody>\n",
       "    <tr>\n",
       "      <th>0</th>\n",
       "      <td>4MY-AD-20</td>\n",
       "      <td>29</td>\n",
       "      <td>2006-2006</td>\n",
       "      <td>2006-2006</td>\n",
       "      <td>N</td>\n",
       "      <td>N</td>\n",
       "    </tr>\n",
       "    <tr>\n",
       "      <th>1</th>\n",
       "      <td>4MY-DC-33</td>\n",
       "      <td>7</td>\n",
       "      <td>2007-2007</td>\n",
       "      <td>2007-2007</td>\n",
       "      <td>N</td>\n",
       "      <td>Y</td>\n",
       "    </tr>\n",
       "    <tr>\n",
       "      <th>2</th>\n",
       "      <td>4MY-PA-06</td>\n",
       "      <td>13</td>\n",
       "      <td>2005-2006</td>\n",
       "      <td>2005-2006</td>\n",
       "      <td>N</td>\n",
       "      <td>N</td>\n",
       "    </tr>\n",
       "    <tr>\n",
       "      <th>3</th>\n",
       "      <td>5MY-AD-13-06</td>\n",
       "      <td>348</td>\n",
       "      <td>2005-2007</td>\n",
       "      <td>2005-2007</td>\n",
       "      <td>N</td>\n",
       "      <td>N</td>\n",
       "    </tr>\n",
       "    <tr>\n",
       "      <th>4</th>\n",
       "      <td>5MY-AD-13-07</td>\n",
       "      <td>118</td>\n",
       "      <td>2006-2007</td>\n",
       "      <td>2006-2007</td>\n",
       "      <td>Y</td>\n",
       "      <td>N</td>\n",
       "    </tr>\n",
       "  </tbody>\n",
       "</table>\n",
       "</div>"
      ],
      "text/plain": [
       "       배출가스인증번호  차대번호    차량연식_범위 vin10자리연식_범위 3등급에_존재 5등급에_존재\n",
       "0     4MY-AD-20    29  2006-2006    2006-2006       N       N\n",
       "1     4MY-DC-33     7  2007-2007    2007-2007       N       Y\n",
       "2     4MY-PA-06    13  2005-2006    2005-2006       N       N\n",
       "3  5MY-AD-13-06   348  2005-2007    2005-2007       N       N\n",
       "4  5MY-AD-13-07   118  2006-2007    2006-2007       Y       N"
      ]
     },
     "execution_count": 118,
     "metadata": {},
     "output_type": "execute_result"
    }
   ],
   "source": [
    "g4_gasnm_info2.head()"
   ]
  },
  {
   "cell_type": "code",
   "execution_count": 119,
   "metadata": {},
   "outputs": [
    {
     "data": {
      "text/plain": [
       "(206, 7)"
      ]
     },
     "execution_count": 119,
     "metadata": {},
     "output_type": "execute_result"
    }
   ],
   "source": [
    "g4_gasnm_info3 = g4_gasnm_info2.merge(k_df, on='배출가스인증번호', how='left')\n",
    "g4_gasnm_info3.shape"
   ]
  },
  {
   "cell_type": "code",
   "execution_count": 120,
   "metadata": {},
   "outputs": [
    {
     "data": {
      "text/html": [
       "<div>\n",
       "<style scoped>\n",
       "    .dataframe tbody tr th:only-of-type {\n",
       "        vertical-align: middle;\n",
       "    }\n",
       "\n",
       "    .dataframe tbody tr th {\n",
       "        vertical-align: top;\n",
       "    }\n",
       "\n",
       "    .dataframe thead th {\n",
       "        text-align: right;\n",
       "    }\n",
       "</style>\n",
       "<table border=\"1\" class=\"dataframe\">\n",
       "  <thead>\n",
       "    <tr style=\"text-align: right;\">\n",
       "      <th></th>\n",
       "      <th>배출가스인증번호</th>\n",
       "      <th>차대번호</th>\n",
       "      <th>차량연식_범위</th>\n",
       "      <th>vin10자리연식_범위</th>\n",
       "      <th>3등급에_존재</th>\n",
       "      <th>5등급에_존재</th>\n",
       "      <th>KENCIS와_매칭여부</th>\n",
       "    </tr>\n",
       "  </thead>\n",
       "  <tbody>\n",
       "    <tr>\n",
       "      <th>0</th>\n",
       "      <td>4MY-AD-20</td>\n",
       "      <td>29</td>\n",
       "      <td>2006-2006</td>\n",
       "      <td>2006-2006</td>\n",
       "      <td>N</td>\n",
       "      <td>N</td>\n",
       "      <td>N</td>\n",
       "    </tr>\n",
       "    <tr>\n",
       "      <th>1</th>\n",
       "      <td>4MY-DC-33</td>\n",
       "      <td>7</td>\n",
       "      <td>2007-2007</td>\n",
       "      <td>2007-2007</td>\n",
       "      <td>N</td>\n",
       "      <td>Y</td>\n",
       "      <td>N</td>\n",
       "    </tr>\n",
       "    <tr>\n",
       "      <th>2</th>\n",
       "      <td>4MY-PA-06</td>\n",
       "      <td>13</td>\n",
       "      <td>2005-2006</td>\n",
       "      <td>2005-2006</td>\n",
       "      <td>N</td>\n",
       "      <td>N</td>\n",
       "      <td>N</td>\n",
       "    </tr>\n",
       "    <tr>\n",
       "      <th>3</th>\n",
       "      <td>5MY-AD-13-06</td>\n",
       "      <td>348</td>\n",
       "      <td>2005-2007</td>\n",
       "      <td>2005-2007</td>\n",
       "      <td>N</td>\n",
       "      <td>N</td>\n",
       "      <td>N</td>\n",
       "    </tr>\n",
       "    <tr>\n",
       "      <th>4</th>\n",
       "      <td>5MY-AD-13-07</td>\n",
       "      <td>118</td>\n",
       "      <td>2006-2007</td>\n",
       "      <td>2006-2007</td>\n",
       "      <td>Y</td>\n",
       "      <td>N</td>\n",
       "      <td>N</td>\n",
       "    </tr>\n",
       "  </tbody>\n",
       "</table>\n",
       "</div>"
      ],
      "text/plain": [
       "       배출가스인증번호  차대번호    차량연식_범위 vin10자리연식_범위 3등급에_존재 5등급에_존재 KENCIS와_매칭여부\n",
       "0     4MY-AD-20    29  2006-2006    2006-2006       N       N            N\n",
       "1     4MY-DC-33     7  2007-2007    2007-2007       N       Y            N\n",
       "2     4MY-PA-06    13  2005-2006    2005-2006       N       N            N\n",
       "3  5MY-AD-13-06   348  2005-2007    2005-2007       N       N            N\n",
       "4  5MY-AD-13-07   118  2006-2007    2006-2007       Y       N            N"
      ]
     },
     "execution_count": 120,
     "metadata": {},
     "output_type": "execute_result"
    }
   ],
   "source": [
    "g4_gasnm_info3.head()"
   ]
  },
  {
   "attachments": {},
   "cell_type": "markdown",
   "metadata": {},
   "source": [
    "#### [출력] 차량리스트 배인번호별 통계 출력3"
   ]
  },
  {
   "cell_type": "code",
   "execution_count": 121,
   "metadata": {},
   "outputs": [],
   "source": [
    "g4_gasnm_info3.to_excel('analysis2/4등급_데이터_점검/[통계][배출가스인증번호별]4등급_차량리스트03.xlsx', index=False)"
   ]
  },
  {
   "cell_type": "code",
   "execution_count": 122,
   "metadata": {},
   "outputs": [
    {
     "data": {
      "text/plain": [
       "(34,)"
      ]
     },
     "execution_count": 122,
     "metadata": {},
     "output_type": "execute_result"
    }
   ],
   "source": [
    "g4_gasnm_info3.loc[g4_gasnm_info3['KENCIS와_매칭여부'] == 'Y', '배출가스인증번호'].shape"
   ]
  },
  {
   "cell_type": "code",
   "execution_count": 123,
   "metadata": {},
   "outputs": [
    {
     "data": {
      "text/plain": [
       "29     6MY-AD-14-10\n",
       "34     6MY-GK-14-01\n",
       "43     6MY-KM-14-57\n",
       "50     6MY-MK-14-13\n",
       "56     7MY-AD-13-06\n",
       "66     7MY-DC-23-69\n",
       "67     7MY-DC-23-70\n",
       "71     7MY-DC-24-72\n",
       "75     7MY-DW-13-07\n",
       "81     7MY-HD-14-45\n",
       "82     7MY-HD-14-46\n",
       "83     7MY-HD-14-47\n",
       "89     7MY-HD-24-28\n",
       "90     7MY-HD-24-29\n",
       "91     7MY-HD-24-30\n",
       "92     7MY-HD-24-31\n",
       "105    7MY-KM-14-63\n",
       "107    7MY-KM-14-65\n",
       "110    7MY-MK-14-04\n",
       "116    7MY-PA-13-11\n",
       "118     7MY-PA-14-1\n",
       "125    7MY-SM-14-36\n",
       "128    7MY-SY-14-24\n",
       "147    8MY-DC-23-27\n",
       "148    8MY-DC-24-12\n",
       "170    8MY-KM-14-21\n",
       "171    8MY-KM-14-29\n",
       "190    9MY-HD-14-21\n",
       "191     9MY-JL-14-4\n",
       "192    9MY-KM-14-41\n",
       "200    FMY-VTK-14-1\n",
       "201    FMY-VTK-14-2\n",
       "202    FMY-VTK-14-3\n",
       "203    FMY-VTK-14-4\n",
       "Name: 배출가스인증번호, dtype: object"
      ]
     },
     "execution_count": 123,
     "metadata": {},
     "output_type": "execute_result"
    }
   ],
   "source": [
    "g4_gasnm_info3.loc[g4_gasnm_info3['KENCIS와_매칭여부'] == 'Y', '배출가스인증번호']"
   ]
  },
  {
   "cell_type": "code",
   "execution_count": 124,
   "metadata": {},
   "outputs": [
    {
     "data": {
      "text/plain": [
       "(857, 12)"
      ]
     },
     "execution_count": 124,
     "metadata": {},
     "output_type": "execute_result"
    }
   ],
   "source": [
    "sort_kencis = pd.DataFrame()\n",
    "for one in g4_gasnm_info3.loc[g4_gasnm_info3['KENCIS와_매칭여부'] == 'Y', '배출가스인증번호']:\n",
    "    temp = kencis[kencis['배출가스인증번호'] == one].reset_index(drop=True)\n",
    "    sort_kencis = pd.concat([sort_kencis, temp], ignore_index=True)\n",
    "sort_kencis.shape"
   ]
  },
  {
   "attachments": {},
   "cell_type": "markdown",
   "metadata": {},
   "source": [
    "## 점검2 3번 배인번호 없는 4등급 경유 차량 확인방법\n",
    "- KENCIS 인증 자료로 동일한 자동차형식으로 매칭"
   ]
  },
  {
   "cell_type": "code",
   "execution_count": null,
   "metadata": {},
   "outputs": [],
   "source": []
  },
  {
   "attachments": {},
   "cell_type": "markdown",
   "metadata": {},
   "source": [
    "# 코드 마지막"
   ]
  }
 ],
 "metadata": {
  "kernelspec": {
   "display_name": "base",
   "language": "python",
   "name": "python3"
  },
  "language_info": {
   "codemirror_mode": {
    "name": "ipython",
    "version": 3
   },
   "file_extension": ".py",
   "mimetype": "text/x-python",
   "name": "python",
   "nbconvert_exporter": "python",
   "pygments_lexer": "ipython3",
   "version": "3.9.13"
  },
  "orig_nbformat": 4,
  "vscode": {
   "interpreter": {
    "hash": "ad2bdc8ecc057115af97d19610ffacc2b4e99fae6737bb82f5d7fb13d2f2c186"
   }
  }
 },
 "nbformat": 4,
 "nbformat_minor": 2
}
