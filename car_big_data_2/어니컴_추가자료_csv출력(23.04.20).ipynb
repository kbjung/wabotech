{
 "cells": [
  {
   "attachments": {},
   "cell_type": "markdown",
   "metadata": {},
   "source": [
    "# Library"
   ]
  },
  {
   "cell_type": "code",
   "execution_count": 3,
   "metadata": {},
   "outputs": [],
   "source": [
    "import pandas as pd\n",
    "import os\n",
    "import math\n",
    "from tqdm import tqdm\n",
    "from datetime import datetime"
   ]
  },
  {
   "cell_type": "code",
   "execution_count": 2,
   "metadata": {},
   "outputs": [],
   "source": [
    "# 소수점 옵션\n",
    "pd.options.display.float_format = '{:.2f}'.format\n",
    "# pd.reset_option('display.float_format')"
   ]
  },
  {
   "attachments": {},
   "cell_type": "markdown",
   "metadata": {},
   "source": [
    "# fold"
   ]
  },
  {
   "cell_type": "code",
   "execution_count": 5,
   "metadata": {},
   "outputs": [],
   "source": [
    "raw_fold = 'D:/data/big2/BD1/raw'"
   ]
  },
  {
   "attachments": {},
   "cell_type": "markdown",
   "metadata": {},
   "source": [
    "# dsv to csv"
   ]
  },
  {
   "attachments": {},
   "cell_type": "markdown",
   "metadata": {},
   "source": [
    "## STD_CEG_CAR_CONF_CHG_MIG_230420"
   ]
  },
  {
   "cell_type": "code",
   "execution_count": 3,
   "metadata": {},
   "outputs": [
    {
     "name": "stderr",
     "output_type": "stream",
     "text": [
      "C:\\Users\\kbjung\\AppData\\Local\\Temp\\ipykernel_12788\\1058226554.py:1: DtypeWarning: Columns (1) have mixed types. Specify dtype option on import or set low_memory=False.\n",
      "  df = pd.read_csv(os.path.join(raw_fold, file_name), sep='|')\n"
     ]
    }
   ],
   "source": [
    "# about 13.6s\n",
    "name = 'STD_CEG_CAR_CONF_CHG_MIG_230420'\n",
    "file_name = f'{name}.dsv'\n",
    "df = pd.read_csv(os.path.join(raw_fold, file_name), sep='|')"
   ]
  },
  {
   "cell_type": "code",
   "execution_count": 4,
   "metadata": {},
   "outputs": [
    {
     "name": "stdout",
     "output_type": "stream",
     "text": [
      "<class 'pandas.core.frame.DataFrame'>\n",
      "RangeIndex: 2564738 entries, 0 to 2564737\n",
      "Data columns (total 16 columns):\n",
      " #   Column                 Dtype  \n",
      "---  ------                 -----  \n",
      " 0   CRT_DT                 object \n",
      " 1   DRVE_AFMUL             object \n",
      " 2   GEARBOX_KND            object \n",
      " 3   MOLIT_LINK_FILE_NM     object \n",
      " 4   STRCT_CHG_YMD          int64  \n",
      " 5   STRCT_CHG_SPEC         object \n",
      " 6   STRCT_CHG_DTL_SPEC     object \n",
      " 7   STRCT_CHG_DTL_SPEC_CD  object \n",
      " 8   STRCT_CHG_INSPOF_NM    object \n",
      " 9   STRCT_CHG_SE           object \n",
      " 10  STRCT_CHG_SE_CD        object \n",
      " 11  MDFCN_DT               float64\n",
      " 12  USER_ID                object \n",
      " 13  VHCL_MNG_NO            object \n",
      " 14  VHRNO                  object \n",
      " 15  VIN                    object \n",
      "dtypes: float64(1), int64(1), object(14)\n",
      "memory usage: 313.1+ MB\n"
     ]
    }
   ],
   "source": [
    "df.info()"
   ]
  },
  {
   "cell_type": "code",
   "execution_count": 5,
   "metadata": {},
   "outputs": [
    {
     "data": {
      "text/html": [
       "<div>\n",
       "<style scoped>\n",
       "    .dataframe tbody tr th:only-of-type {\n",
       "        vertical-align: middle;\n",
       "    }\n",
       "\n",
       "    .dataframe tbody tr th {\n",
       "        vertical-align: top;\n",
       "    }\n",
       "\n",
       "    .dataframe thead th {\n",
       "        text-align: right;\n",
       "    }\n",
       "</style>\n",
       "<table border=\"1\" class=\"dataframe\">\n",
       "  <thead>\n",
       "    <tr style=\"text-align: right;\">\n",
       "      <th></th>\n",
       "      <th>CRT_DT</th>\n",
       "      <th>DRVE_AFMUL</th>\n",
       "      <th>GEARBOX_KND</th>\n",
       "      <th>MOLIT_LINK_FILE_NM</th>\n",
       "      <th>STRCT_CHG_YMD</th>\n",
       "      <th>STRCT_CHG_SPEC</th>\n",
       "      <th>STRCT_CHG_DTL_SPEC</th>\n",
       "      <th>STRCT_CHG_DTL_SPEC_CD</th>\n",
       "      <th>STRCT_CHG_INSPOF_NM</th>\n",
       "      <th>STRCT_CHG_SE</th>\n",
       "      <th>STRCT_CHG_SE_CD</th>\n",
       "      <th>MDFCN_DT</th>\n",
       "      <th>USER_ID</th>\n",
       "      <th>VHCL_MNG_NO</th>\n",
       "      <th>VHRNO</th>\n",
       "      <th>VIN</th>\n",
       "    </tr>\n",
       "  </thead>\n",
       "  <tbody>\n",
       "    <tr>\n",
       "      <th>0</th>\n",
       "      <td>19/06/20</td>\n",
       "      <td>NaN</td>\n",
       "      <td>M</td>\n",
       "      <td>20190619_EARLY_DATA</td>\n",
       "      <td>19780926</td>\n",
       "      <td>탱크로리구변</td>\n",
       "      <td>NaN</td>\n",
       "      <td>NaN</td>\n",
       "      <td>NaN</td>\n",
       "      <td>물품적재장치</td>\n",
       "      <td>6</td>\n",
       "      <td>NaN</td>\n",
       "      <td>SYSTEM</td>\n",
       "      <td>03781228812-01</td>\n",
       "      <td>서울8라3077</td>\n",
       "      <td>03781228812</td>\n",
       "    </tr>\n",
       "    <tr>\n",
       "      <th>1</th>\n",
       "      <td>19/06/20</td>\n",
       "      <td>NaN</td>\n",
       "      <td>M</td>\n",
       "      <td>20190619_EARLY_DATA</td>\n",
       "      <td>19780928</td>\n",
       "      <td>탱크로리구변</td>\n",
       "      <td>NaN</td>\n",
       "      <td>NaN</td>\n",
       "      <td>NaN</td>\n",
       "      <td>물품적재장치</td>\n",
       "      <td>6</td>\n",
       "      <td>NaN</td>\n",
       "      <td>SYSTEM</td>\n",
       "      <td>03781230159-01</td>\n",
       "      <td>서울7나5894</td>\n",
       "      <td>03781230159</td>\n",
       "    </tr>\n",
       "    <tr>\n",
       "      <th>2</th>\n",
       "      <td>19/06/20</td>\n",
       "      <td>NaN</td>\n",
       "      <td>M</td>\n",
       "      <td>20190619_EARLY_DATA</td>\n",
       "      <td>19781002</td>\n",
       "      <td>탱크로리구변</td>\n",
       "      <td>NaN</td>\n",
       "      <td>NaN</td>\n",
       "      <td>NaN</td>\n",
       "      <td>물품적재장치</td>\n",
       "      <td>6</td>\n",
       "      <td>NaN</td>\n",
       "      <td>SYSTEM</td>\n",
       "      <td>03781229694-01</td>\n",
       "      <td>서울7나5910</td>\n",
       "      <td>03781229694</td>\n",
       "    </tr>\n",
       "    <tr>\n",
       "      <th>3</th>\n",
       "      <td>19/06/20</td>\n",
       "      <td>NaN</td>\n",
       "      <td>M</td>\n",
       "      <td>20190619_EARLY_DATA</td>\n",
       "      <td>19781019</td>\n",
       "      <td>탱크로리구변</td>\n",
       "      <td>NaN</td>\n",
       "      <td>NaN</td>\n",
       "      <td>NaN</td>\n",
       "      <td>물품적재장치</td>\n",
       "      <td>6</td>\n",
       "      <td>NaN</td>\n",
       "      <td>SYSTEM</td>\n",
       "      <td>03781227715-01</td>\n",
       "      <td>서울8라2197</td>\n",
       "      <td>03781227715</td>\n",
       "    </tr>\n",
       "    <tr>\n",
       "      <th>4</th>\n",
       "      <td>19/06/20</td>\n",
       "      <td>NaN</td>\n",
       "      <td>M</td>\n",
       "      <td>20190619_EARLY_DATA</td>\n",
       "      <td>19781030</td>\n",
       "      <td>카고에서 탱크로 구변</td>\n",
       "      <td>NaN</td>\n",
       "      <td>NaN</td>\n",
       "      <td>NaN</td>\n",
       "      <td>물품적재장치</td>\n",
       "      <td>6</td>\n",
       "      <td>NaN</td>\n",
       "      <td>SYSTEM</td>\n",
       "      <td>03781201355-01</td>\n",
       "      <td>경기8다4041</td>\n",
       "      <td>03781201355</td>\n",
       "    </tr>\n",
       "  </tbody>\n",
       "</table>\n",
       "</div>"
      ],
      "text/plain": [
       "     CRT_DT DRVE_AFMUL GEARBOX_KND   MOLIT_LINK_FILE_NM  STRCT_CHG_YMD  \\\n",
       "0  19/06/20        NaN           M  20190619_EARLY_DATA       19780926   \n",
       "1  19/06/20        NaN           M  20190619_EARLY_DATA       19780928   \n",
       "2  19/06/20        NaN           M  20190619_EARLY_DATA       19781002   \n",
       "3  19/06/20        NaN           M  20190619_EARLY_DATA       19781019   \n",
       "4  19/06/20        NaN           M  20190619_EARLY_DATA       19781030   \n",
       "\n",
       "  STRCT_CHG_SPEC STRCT_CHG_DTL_SPEC STRCT_CHG_DTL_SPEC_CD STRCT_CHG_INSPOF_NM  \\\n",
       "0         탱크로리구변                NaN                   NaN                 NaN   \n",
       "1         탱크로리구변                NaN                   NaN                 NaN   \n",
       "2         탱크로리구변                NaN                   NaN                 NaN   \n",
       "3         탱크로리구변                NaN                   NaN                 NaN   \n",
       "4    카고에서 탱크로 구변                NaN                   NaN                 NaN   \n",
       "\n",
       "  STRCT_CHG_SE STRCT_CHG_SE_CD  MDFCN_DT USER_ID     VHCL_MNG_NO     VHRNO  \\\n",
       "0       물품적재장치               6       NaN  SYSTEM  03781228812-01  서울8라3077   \n",
       "1       물품적재장치               6       NaN  SYSTEM  03781230159-01  서울7나5894   \n",
       "2       물품적재장치               6       NaN  SYSTEM  03781229694-01  서울7나5910   \n",
       "3       물품적재장치               6       NaN  SYSTEM  03781227715-01  서울8라2197   \n",
       "4       물품적재장치               6       NaN  SYSTEM  03781201355-01  경기8다4041   \n",
       "\n",
       "           VIN  \n",
       "0  03781228812  \n",
       "1  03781230159  \n",
       "2  03781229694  \n",
       "3  03781227715  \n",
       "4  03781201355  "
      ]
     },
     "execution_count": 5,
     "metadata": {},
     "output_type": "execute_result"
    }
   ],
   "source": [
    "df.head()"
   ]
  },
  {
   "attachments": {},
   "cell_type": "markdown",
   "metadata": {},
   "source": [
    "### csv"
   ]
  },
  {
   "cell_type": "code",
   "execution_count": 6,
   "metadata": {},
   "outputs": [],
   "source": [
    "# about 44.1s\n",
    "file_name = f'{name}.csv'\n",
    "df.to_csv(os.path.join(raw_fold, file_name), index=False)"
   ]
  },
  {
   "attachments": {},
   "cell_type": "markdown",
   "metadata": {},
   "source": [
    "## CEG_CAR_HISTORY_MIG_230420"
   ]
  },
  {
   "cell_type": "code",
   "execution_count": 3,
   "metadata": {},
   "outputs": [
    {
     "name": "stderr",
     "output_type": "stream",
     "text": [
      "C:\\Users\\kbjung\\AppData\\Local\\Temp\\ipykernel_11772\\4258192127.py:4: DtypeWarning: Columns (3,9,10,11,12,19,20,21,23,27,29,30,32) have mixed types. Specify dtype option on import or set low_memory=False.\n",
      "  df = pd.read_csv(os.path.join(raw_fold, file_name), sep='|')\n"
     ]
    }
   ],
   "source": [
    "# about 22m 17.9s\n",
    "name = 'CEG_CAR_HISTORY_MIG_230420'\n",
    "file_name = f'{name}.dsv'\n",
    "df = pd.read_csv(os.path.join(raw_fold, file_name), sep='|')"
   ]
  },
  {
   "cell_type": "code",
   "execution_count": 4,
   "metadata": {},
   "outputs": [
    {
     "name": "stdout",
     "output_type": "stream",
     "text": [
      "<class 'pandas.core.frame.DataFrame'>\n",
      "RangeIndex: 50044248 entries, 0 to 50044247\n",
      "Data columns (total 34 columns):\n",
      " #   Column              Dtype  \n",
      "---  ------              -----  \n",
      " 0   VHMNO               object \n",
      " 1   PRCS_SNO            object \n",
      " 2   CHNG_DE             float64\n",
      " 3   CHNG_SE_CD          object \n",
      " 4   VHRNO               object \n",
      " 5   BSPL_LEDO_CD        float64\n",
      " 6   OWNR_SE             object \n",
      " 7   VHCTY               object \n",
      " 8   PURPS               object \n",
      " 9   NOW_OWNR_NM         object \n",
      " 10  NOW_MBERNO          object \n",
      " 11  BSPL_ADRS           object \n",
      " 12  OWNR_ADRS           object \n",
      " 13  VIN                 object \n",
      " 14  FST_REG_DE          float64\n",
      " 15  VHCL_YRIDNW         int64  \n",
      " 16  VHCL_MNFCT_DE       float64\n",
      " 17  EMIS_INSP_EFCT_DE   float64\n",
      " 18  SRCMNNO             object \n",
      " 19  EMIS_CRTCNO         object \n",
      " 20  EMIS_GRD            object \n",
      " 21  LEM_YN              object \n",
      " 22  LEM_KND             float64\n",
      " 23  LEM_STRCHG_YN       object \n",
      " 24  BSPL_ZIP            float64\n",
      " 25  VHRNO_NUM_INFO      int64  \n",
      " 26  VHCL_ERSR_YN        object \n",
      " 27  ACQS_DE             object \n",
      " 28  ACQS_AMT            float64\n",
      " 29  RMK                 object \n",
      " 30  MOLIT_LINK_FILE_NM  object \n",
      " 31  CRTN_DT             object \n",
      " 32  UPDT_DT             object \n",
      " 33  USER_ID             object \n",
      "dtypes: float64(8), int64(2), object(24)\n",
      "memory usage: 12.7+ GB\n"
     ]
    }
   ],
   "source": [
    "df.info()"
   ]
  },
  {
   "cell_type": "code",
   "execution_count": 5,
   "metadata": {},
   "outputs": [
    {
     "data": {
      "text/html": [
       "<div>\n",
       "<style scoped>\n",
       "    .dataframe tbody tr th:only-of-type {\n",
       "        vertical-align: middle;\n",
       "    }\n",
       "\n",
       "    .dataframe tbody tr th {\n",
       "        vertical-align: top;\n",
       "    }\n",
       "\n",
       "    .dataframe thead th {\n",
       "        text-align: right;\n",
       "    }\n",
       "</style>\n",
       "<table border=\"1\" class=\"dataframe\">\n",
       "  <thead>\n",
       "    <tr style=\"text-align: right;\">\n",
       "      <th></th>\n",
       "      <th>VHMNO</th>\n",
       "      <th>PRCS_SNO</th>\n",
       "      <th>CHNG_DE</th>\n",
       "      <th>CHNG_SE_CD</th>\n",
       "      <th>VHRNO</th>\n",
       "      <th>BSPL_LEDO_CD</th>\n",
       "      <th>OWNR_SE</th>\n",
       "      <th>VHCTY</th>\n",
       "      <th>PURPS</th>\n",
       "      <th>NOW_OWNR_NM</th>\n",
       "      <th>...</th>\n",
       "      <th>BSPL_ZIP</th>\n",
       "      <th>VHRNO_NUM_INFO</th>\n",
       "      <th>VHCL_ERSR_YN</th>\n",
       "      <th>ACQS_DE</th>\n",
       "      <th>ACQS_AMT</th>\n",
       "      <th>RMK</th>\n",
       "      <th>MOLIT_LINK_FILE_NM</th>\n",
       "      <th>CRTN_DT</th>\n",
       "      <th>UPDT_DT</th>\n",
       "      <th>USER_ID</th>\n",
       "    </tr>\n",
       "  </thead>\n",
       "  <tbody>\n",
       "    <tr>\n",
       "      <th>0</th>\n",
       "      <td>1G1F76E01J4121141-01</td>\n",
       "      <td>20190319170247470050401</td>\n",
       "      <td>20190319.0</td>\n",
       "      <td>CEGO</td>\n",
       "      <td>49마2725</td>\n",
       "      <td>4.812512e+09</td>\n",
       "      <td>R</td>\n",
       "      <td>P</td>\n",
       "      <td>P</td>\n",
       "      <td>NaN</td>\n",
       "      <td>...</td>\n",
       "      <td>NaN</td>\n",
       "      <td>492725</td>\n",
       "      <td>N</td>\n",
       "      <td>NaN</td>\n",
       "      <td>NaN</td>\n",
       "      <td>190319_DB위원회요청_1등급확정</td>\n",
       "      <td>NaN</td>\n",
       "      <td>19/03/19</td>\n",
       "      <td>NaN</td>\n",
       "      <td>SYSTEM</td>\n",
       "    </tr>\n",
       "    <tr>\n",
       "      <th>1</th>\n",
       "      <td>1G1F76E01J4121155-01</td>\n",
       "      <td>20190319170247470047403</td>\n",
       "      <td>20190319.0</td>\n",
       "      <td>CEGO</td>\n",
       "      <td>17고2413</td>\n",
       "      <td>3.020012e+09</td>\n",
       "      <td>R</td>\n",
       "      <td>P</td>\n",
       "      <td>P</td>\n",
       "      <td>NaN</td>\n",
       "      <td>...</td>\n",
       "      <td>NaN</td>\n",
       "      <td>172413</td>\n",
       "      <td>N</td>\n",
       "      <td>NaN</td>\n",
       "      <td>NaN</td>\n",
       "      <td>190319_DB위원회요청_1등급확정</td>\n",
       "      <td>NaN</td>\n",
       "      <td>19/03/19</td>\n",
       "      <td>NaN</td>\n",
       "      <td>SYSTEM</td>\n",
       "    </tr>\n",
       "    <tr>\n",
       "      <th>2</th>\n",
       "      <td>1G1F76E01J4121186-01</td>\n",
       "      <td>20190319170247470050625</td>\n",
       "      <td>20190319.0</td>\n",
       "      <td>CEGO</td>\n",
       "      <td>42보9269</td>\n",
       "      <td>2.820010e+09</td>\n",
       "      <td>R</td>\n",
       "      <td>P</td>\n",
       "      <td>P</td>\n",
       "      <td>NaN</td>\n",
       "      <td>...</td>\n",
       "      <td>NaN</td>\n",
       "      <td>429269</td>\n",
       "      <td>N</td>\n",
       "      <td>NaN</td>\n",
       "      <td>NaN</td>\n",
       "      <td>190319_DB위원회요청_1등급확정</td>\n",
       "      <td>NaN</td>\n",
       "      <td>19/03/19</td>\n",
       "      <td>NaN</td>\n",
       "      <td>SYSTEM</td>\n",
       "    </tr>\n",
       "    <tr>\n",
       "      <th>3</th>\n",
       "      <td>1G1F76E01J4121222-01</td>\n",
       "      <td>20190319170247470048594</td>\n",
       "      <td>20190319.0</td>\n",
       "      <td>CEGO</td>\n",
       "      <td>32주6567</td>\n",
       "      <td>1.126010e+09</td>\n",
       "      <td>R</td>\n",
       "      <td>P</td>\n",
       "      <td>P</td>\n",
       "      <td>NaN</td>\n",
       "      <td>...</td>\n",
       "      <td>NaN</td>\n",
       "      <td>326567</td>\n",
       "      <td>N</td>\n",
       "      <td>NaN</td>\n",
       "      <td>NaN</td>\n",
       "      <td>190319_DB위원회요청_1등급확정</td>\n",
       "      <td>NaN</td>\n",
       "      <td>19/03/19</td>\n",
       "      <td>NaN</td>\n",
       "      <td>SYSTEM</td>\n",
       "    </tr>\n",
       "    <tr>\n",
       "      <th>4</th>\n",
       "      <td>1G1F76E01J4121303-01</td>\n",
       "      <td>20190319170247470047614</td>\n",
       "      <td>20190319.0</td>\n",
       "      <td>CEGO</td>\n",
       "      <td>60로8573</td>\n",
       "      <td>4.136011e+09</td>\n",
       "      <td>R</td>\n",
       "      <td>P</td>\n",
       "      <td>P</td>\n",
       "      <td>NaN</td>\n",
       "      <td>...</td>\n",
       "      <td>NaN</td>\n",
       "      <td>608573</td>\n",
       "      <td>N</td>\n",
       "      <td>NaN</td>\n",
       "      <td>NaN</td>\n",
       "      <td>190319_DB위원회요청_1등급확정</td>\n",
       "      <td>NaN</td>\n",
       "      <td>19/03/19</td>\n",
       "      <td>NaN</td>\n",
       "      <td>SYSTEM</td>\n",
       "    </tr>\n",
       "  </tbody>\n",
       "</table>\n",
       "<p>5 rows × 34 columns</p>\n",
       "</div>"
      ],
      "text/plain": [
       "                  VHMNO                 PRCS_SNO     CHNG_DE CHNG_SE_CD  \\\n",
       "0  1G1F76E01J4121141-01  20190319170247470050401  20190319.0       CEGO   \n",
       "1  1G1F76E01J4121155-01  20190319170247470047403  20190319.0       CEGO   \n",
       "2  1G1F76E01J4121186-01  20190319170247470050625  20190319.0       CEGO   \n",
       "3  1G1F76E01J4121222-01  20190319170247470048594  20190319.0       CEGO   \n",
       "4  1G1F76E01J4121303-01  20190319170247470047614  20190319.0       CEGO   \n",
       "\n",
       "     VHRNO  BSPL_LEDO_CD OWNR_SE VHCTY PURPS NOW_OWNR_NM  ... BSPL_ZIP  \\\n",
       "0  49마2725  4.812512e+09       R     P     P         NaN  ...      NaN   \n",
       "1  17고2413  3.020012e+09       R     P     P         NaN  ...      NaN   \n",
       "2  42보9269  2.820010e+09       R     P     P         NaN  ...      NaN   \n",
       "3  32주6567  1.126010e+09       R     P     P         NaN  ...      NaN   \n",
       "4  60로8573  4.136011e+09       R     P     P         NaN  ...      NaN   \n",
       "\n",
       "  VHRNO_NUM_INFO VHCL_ERSR_YN ACQS_DE  ACQS_AMT                   RMK  \\\n",
       "0         492725            N     NaN       NaN  190319_DB위원회요청_1등급확정   \n",
       "1         172413            N     NaN       NaN  190319_DB위원회요청_1등급확정   \n",
       "2         429269            N     NaN       NaN  190319_DB위원회요청_1등급확정   \n",
       "3         326567            N     NaN       NaN  190319_DB위원회요청_1등급확정   \n",
       "4         608573            N     NaN       NaN  190319_DB위원회요청_1등급확정   \n",
       "\n",
       "   MOLIT_LINK_FILE_NM   CRTN_DT UPDT_DT USER_ID  \n",
       "0                 NaN  19/03/19     NaN  SYSTEM  \n",
       "1                 NaN  19/03/19     NaN  SYSTEM  \n",
       "2                 NaN  19/03/19     NaN  SYSTEM  \n",
       "3                 NaN  19/03/19     NaN  SYSTEM  \n",
       "4                 NaN  19/03/19     NaN  SYSTEM  \n",
       "\n",
       "[5 rows x 34 columns]"
      ]
     },
     "execution_count": 5,
     "metadata": {},
     "output_type": "execute_result"
    }
   ],
   "source": [
    "df.head()"
   ]
  },
  {
   "attachments": {},
   "cell_type": "markdown",
   "metadata": {},
   "source": [
    "### csv"
   ]
  },
  {
   "cell_type": "code",
   "execution_count": 8,
   "metadata": {},
   "outputs": [],
   "source": [
    "per = 10000000"
   ]
  },
  {
   "cell_type": "code",
   "execution_count": 9,
   "metadata": {},
   "outputs": [
    {
     "data": {
      "text/plain": [
       "7"
      ]
     },
     "execution_count": 9,
     "metadata": {},
     "output_type": "execute_result"
    }
   ],
   "source": [
    "num = math.ceil(df.shape[0] / per) + 1\n",
    "num"
   ]
  },
  {
   "cell_type": "code",
   "execution_count": 10,
   "metadata": {},
   "outputs": [],
   "source": [
    "# about 21m 42.6s\n",
    "for i in range(1, num):\n",
    "    file_name = f'{name}_{i:0>2}.csv'\n",
    "    df.iloc[per*(i-1):per*i].to_csv(os.path.join(raw_fold, file_name), index=False)"
   ]
  },
  {
   "cell_type": "code",
   "execution_count": 11,
   "metadata": {},
   "outputs": [],
   "source": [
    "# about 21m 9.8s\n",
    "file_name = f'{name}.csv'\n",
    "df.to_csv(os.path.join(raw_fold, file_name), index=False)"
   ]
  },
  {
   "attachments": {},
   "cell_type": "markdown",
   "metadata": {},
   "source": [
    "# 로드"
   ]
  },
  {
   "cell_type": "code",
   "execution_count": 6,
   "metadata": {},
   "outputs": [
    {
     "name": "stderr",
     "output_type": "stream",
     "text": [
      "C:\\Users\\kbjung\\AppData\\Local\\Temp\\ipykernel_4252\\3621646371.py:4: DtypeWarning: Columns (1) have mixed types. Specify dtype option on import or set low_memory=False.\n",
      "  std = pd.read_csv(os.path.join(raw_fold, file_name))\n"
     ]
    }
   ],
   "source": [
    "# about 13.7s\n",
    "# 구조변경 테이블(추정)\n",
    "name = 'STD_CEG_CAR_CONF_CHG_MIG_230420'\n",
    "file_name = f'{name}.csv'\n",
    "std = pd.read_csv(os.path.join(raw_fold, file_name))"
   ]
  },
  {
   "cell_type": "code",
   "execution_count": 7,
   "metadata": {},
   "outputs": [
    {
     "name": "stdout",
     "output_type": "stream",
     "text": [
      "<class 'pandas.core.frame.DataFrame'>\n",
      "RangeIndex: 2564738 entries, 0 to 2564737\n",
      "Data columns (total 16 columns):\n",
      " #   Column                 Dtype  \n",
      "---  ------                 -----  \n",
      " 0   CRT_DT                 object \n",
      " 1   DRVE_AFMUL             object \n",
      " 2   GEARBOX_KND            object \n",
      " 3   MOLIT_LINK_FILE_NM     object \n",
      " 4   STRCT_CHG_YMD          int64  \n",
      " 5   STRCT_CHG_SPEC         object \n",
      " 6   STRCT_CHG_DTL_SPEC     object \n",
      " 7   STRCT_CHG_DTL_SPEC_CD  object \n",
      " 8   STRCT_CHG_INSPOF_NM    object \n",
      " 9   STRCT_CHG_SE           object \n",
      " 10  STRCT_CHG_SE_CD        object \n",
      " 11  MDFCN_DT               float64\n",
      " 12  USER_ID                object \n",
      " 13  VHCL_MNG_NO            object \n",
      " 14  VHRNO                  object \n",
      " 15  VIN                    object \n",
      "dtypes: float64(1), int64(1), object(14)\n",
      "memory usage: 313.1+ MB\n"
     ]
    }
   ],
   "source": [
    "std.info()"
   ]
  },
  {
   "cell_type": "code",
   "execution_count": 8,
   "metadata": {},
   "outputs": [
    {
     "data": {
      "text/html": [
       "<div>\n",
       "<style scoped>\n",
       "    .dataframe tbody tr th:only-of-type {\n",
       "        vertical-align: middle;\n",
       "    }\n",
       "\n",
       "    .dataframe tbody tr th {\n",
       "        vertical-align: top;\n",
       "    }\n",
       "\n",
       "    .dataframe thead th {\n",
       "        text-align: right;\n",
       "    }\n",
       "</style>\n",
       "<table border=\"1\" class=\"dataframe\">\n",
       "  <thead>\n",
       "    <tr style=\"text-align: right;\">\n",
       "      <th></th>\n",
       "      <th>CRT_DT</th>\n",
       "      <th>DRVE_AFMUL</th>\n",
       "      <th>GEARBOX_KND</th>\n",
       "      <th>MOLIT_LINK_FILE_NM</th>\n",
       "      <th>STRCT_CHG_YMD</th>\n",
       "      <th>STRCT_CHG_SPEC</th>\n",
       "      <th>STRCT_CHG_DTL_SPEC</th>\n",
       "      <th>STRCT_CHG_DTL_SPEC_CD</th>\n",
       "      <th>STRCT_CHG_INSPOF_NM</th>\n",
       "      <th>STRCT_CHG_SE</th>\n",
       "      <th>STRCT_CHG_SE_CD</th>\n",
       "      <th>MDFCN_DT</th>\n",
       "      <th>USER_ID</th>\n",
       "      <th>VHCL_MNG_NO</th>\n",
       "      <th>VHRNO</th>\n",
       "      <th>VIN</th>\n",
       "    </tr>\n",
       "  </thead>\n",
       "  <tbody>\n",
       "    <tr>\n",
       "      <th>0</th>\n",
       "      <td>19/06/20</td>\n",
       "      <td>NaN</td>\n",
       "      <td>M</td>\n",
       "      <td>20190619_EARLY_DATA</td>\n",
       "      <td>19780926</td>\n",
       "      <td>탱크로리구변</td>\n",
       "      <td>NaN</td>\n",
       "      <td>NaN</td>\n",
       "      <td>NaN</td>\n",
       "      <td>물품적재장치</td>\n",
       "      <td>6</td>\n",
       "      <td>NaN</td>\n",
       "      <td>SYSTEM</td>\n",
       "      <td>03781228812-01</td>\n",
       "      <td>서울8라3077</td>\n",
       "      <td>03781228812</td>\n",
       "    </tr>\n",
       "    <tr>\n",
       "      <th>1</th>\n",
       "      <td>19/06/20</td>\n",
       "      <td>NaN</td>\n",
       "      <td>M</td>\n",
       "      <td>20190619_EARLY_DATA</td>\n",
       "      <td>19780928</td>\n",
       "      <td>탱크로리구변</td>\n",
       "      <td>NaN</td>\n",
       "      <td>NaN</td>\n",
       "      <td>NaN</td>\n",
       "      <td>물품적재장치</td>\n",
       "      <td>6</td>\n",
       "      <td>NaN</td>\n",
       "      <td>SYSTEM</td>\n",
       "      <td>03781230159-01</td>\n",
       "      <td>서울7나5894</td>\n",
       "      <td>03781230159</td>\n",
       "    </tr>\n",
       "    <tr>\n",
       "      <th>2</th>\n",
       "      <td>19/06/20</td>\n",
       "      <td>NaN</td>\n",
       "      <td>M</td>\n",
       "      <td>20190619_EARLY_DATA</td>\n",
       "      <td>19781002</td>\n",
       "      <td>탱크로리구변</td>\n",
       "      <td>NaN</td>\n",
       "      <td>NaN</td>\n",
       "      <td>NaN</td>\n",
       "      <td>물품적재장치</td>\n",
       "      <td>6</td>\n",
       "      <td>NaN</td>\n",
       "      <td>SYSTEM</td>\n",
       "      <td>03781229694-01</td>\n",
       "      <td>서울7나5910</td>\n",
       "      <td>03781229694</td>\n",
       "    </tr>\n",
       "    <tr>\n",
       "      <th>3</th>\n",
       "      <td>19/06/20</td>\n",
       "      <td>NaN</td>\n",
       "      <td>M</td>\n",
       "      <td>20190619_EARLY_DATA</td>\n",
       "      <td>19781019</td>\n",
       "      <td>탱크로리구변</td>\n",
       "      <td>NaN</td>\n",
       "      <td>NaN</td>\n",
       "      <td>NaN</td>\n",
       "      <td>물품적재장치</td>\n",
       "      <td>6</td>\n",
       "      <td>NaN</td>\n",
       "      <td>SYSTEM</td>\n",
       "      <td>03781227715-01</td>\n",
       "      <td>서울8라2197</td>\n",
       "      <td>03781227715</td>\n",
       "    </tr>\n",
       "    <tr>\n",
       "      <th>4</th>\n",
       "      <td>19/06/20</td>\n",
       "      <td>NaN</td>\n",
       "      <td>M</td>\n",
       "      <td>20190619_EARLY_DATA</td>\n",
       "      <td>19781030</td>\n",
       "      <td>카고에서 탱크로 구변</td>\n",
       "      <td>NaN</td>\n",
       "      <td>NaN</td>\n",
       "      <td>NaN</td>\n",
       "      <td>물품적재장치</td>\n",
       "      <td>6</td>\n",
       "      <td>NaN</td>\n",
       "      <td>SYSTEM</td>\n",
       "      <td>03781201355-01</td>\n",
       "      <td>경기8다4041</td>\n",
       "      <td>03781201355</td>\n",
       "    </tr>\n",
       "  </tbody>\n",
       "</table>\n",
       "</div>"
      ],
      "text/plain": [
       "     CRT_DT DRVE_AFMUL GEARBOX_KND   MOLIT_LINK_FILE_NM  STRCT_CHG_YMD  \\\n",
       "0  19/06/20        NaN           M  20190619_EARLY_DATA       19780926   \n",
       "1  19/06/20        NaN           M  20190619_EARLY_DATA       19780928   \n",
       "2  19/06/20        NaN           M  20190619_EARLY_DATA       19781002   \n",
       "3  19/06/20        NaN           M  20190619_EARLY_DATA       19781019   \n",
       "4  19/06/20        NaN           M  20190619_EARLY_DATA       19781030   \n",
       "\n",
       "  STRCT_CHG_SPEC STRCT_CHG_DTL_SPEC STRCT_CHG_DTL_SPEC_CD STRCT_CHG_INSPOF_NM  \\\n",
       "0         탱크로리구변                NaN                   NaN                 NaN   \n",
       "1         탱크로리구변                NaN                   NaN                 NaN   \n",
       "2         탱크로리구변                NaN                   NaN                 NaN   \n",
       "3         탱크로리구변                NaN                   NaN                 NaN   \n",
       "4    카고에서 탱크로 구변                NaN                   NaN                 NaN   \n",
       "\n",
       "  STRCT_CHG_SE STRCT_CHG_SE_CD  MDFCN_DT USER_ID     VHCL_MNG_NO     VHRNO  \\\n",
       "0       물품적재장치               6       NaN  SYSTEM  03781228812-01  서울8라3077   \n",
       "1       물품적재장치               6       NaN  SYSTEM  03781230159-01  서울7나5894   \n",
       "2       물품적재장치               6       NaN  SYSTEM  03781229694-01  서울7나5910   \n",
       "3       물품적재장치               6       NaN  SYSTEM  03781227715-01  서울8라2197   \n",
       "4       물품적재장치               6       NaN  SYSTEM  03781201355-01  경기8다4041   \n",
       "\n",
       "           VIN  \n",
       "0  03781228812  \n",
       "1  03781230159  \n",
       "2  03781229694  \n",
       "3  03781227715  \n",
       "4  03781201355  "
      ]
     },
     "execution_count": 8,
     "metadata": {},
     "output_type": "execute_result"
    }
   ],
   "source": [
    "std.head()"
   ]
  },
  {
   "cell_type": "code",
   "execution_count": 9,
   "metadata": {},
   "outputs": [
    {
     "data": {
      "text/plain": [
       "CRT_DT                         0\n",
       "DRVE_AFMUL               2531904\n",
       "GEARBOX_KND                  536\n",
       "MOLIT_LINK_FILE_NM             0\n",
       "STRCT_CHG_YMD                  0\n",
       "STRCT_CHG_SPEC               408\n",
       "STRCT_CHG_DTL_SPEC        534166\n",
       "STRCT_CHG_DTL_SPEC_CD     340724\n",
       "STRCT_CHG_INSPOF_NM        57756\n",
       "STRCT_CHG_SE                 660\n",
       "STRCT_CHG_SE_CD             1172\n",
       "MDFCN_DT                 2564738\n",
       "USER_ID                        0\n",
       "VHCL_MNG_NO                    0\n",
       "VHRNO                          0\n",
       "VIN                            0\n",
       "dtype: int64"
      ]
     },
     "execution_count": 9,
     "metadata": {},
     "output_type": "execute_result"
    }
   ],
   "source": [
    "std.isnull().sum()"
   ]
  },
  {
   "cell_type": "code",
   "execution_count": 10,
   "metadata": {},
   "outputs": [
    {
     "data": {
      "text/plain": [
       "Index(['CRT_DT', 'DRVE_AFMUL', 'GEARBOX_KND', 'MOLIT_LINK_FILE_NM',\n",
       "       'STRCT_CHG_YMD', 'STRCT_CHG_SPEC', 'STRCT_CHG_DTL_SPEC',\n",
       "       'STRCT_CHG_DTL_SPEC_CD', 'STRCT_CHG_INSPOF_NM', 'STRCT_CHG_SE',\n",
       "       'STRCT_CHG_SE_CD', 'MDFCN_DT', 'USER_ID', 'VHCL_MNG_NO', 'VHRNO',\n",
       "       'VIN'],\n",
       "      dtype='object')"
      ]
     },
     "execution_count": 10,
     "metadata": {},
     "output_type": "execute_result"
    }
   ],
   "source": [
    "std.columns"
   ]
  },
  {
   "cell_type": "code",
   "execution_count": 14,
   "metadata": {},
   "outputs": [],
   "source": [
    "# 컬럼 한글화\n",
    "col_dict = {\n",
    "    'CRT_DT':'생성일시',\n",
    "    'DRVE_AFMUL':'구동방식',\n",
    "    'GEARBOX_KND':'변속기종류',\n",
    "    'MOLIT_LINK_FILE_NM':'미정',\n",
    "    'STRCT_CHG_YMD':'구조변경일자',\n",
    "    'STRCT_CHG_SPEC':'미정',\n",
    "    'STRCT_CHG_DTL_SPEC':'미정',\n",
    "    'STRCT_CHG_DTL_SPEC_CD':'미정',\n",
    "    'STRCT_CHG_INSPOF_NM':'미정',\n",
    "    'STRCT_CHG_SE':'미정',\n",
    "    'STRCT_CHG_SE_CD':'미정',\n",
    "    'MDFCN_DT':'수정일시',\n",
    "    'USER_ID':'사용자ID',\n",
    "    'VHCL_MNG_NO':'차량관리번호',\n",
    "    'VHRNO':'자동차등록정보',\n",
    "    'VIN':'차대번호',\n",
    "    }"
   ]
  },
  {
   "cell_type": "code",
   "execution_count": null,
   "metadata": {},
   "outputs": [],
   "source": [
    "# about \n",
    "name = 'CEG_CAR_HISTORY_MIG_230420'\n",
    "file_name = f'{name}.csv'\n",
    "his = pd.read_csv(os.path.join(raw_fold, file_name))"
   ]
  },
  {
   "cell_type": "code",
   "execution_count": null,
   "metadata": {},
   "outputs": [],
   "source": []
  },
  {
   "attachments": {},
   "cell_type": "markdown",
   "metadata": {},
   "source": [
    "# 코드 마지막"
   ]
  }
 ],
 "metadata": {
  "kernelspec": {
   "display_name": "base",
   "language": "python",
   "name": "python3"
  },
  "language_info": {
   "codemirror_mode": {
    "name": "ipython",
    "version": 3
   },
   "file_extension": ".py",
   "mimetype": "text/x-python",
   "name": "python",
   "nbconvert_exporter": "python",
   "pygments_lexer": "ipython3",
   "version": "3.9.13"
  },
  "orig_nbformat": 4
 },
 "nbformat": 4,
 "nbformat_minor": 2
}
