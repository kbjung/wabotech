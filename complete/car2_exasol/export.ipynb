{
 "cells": [
  {
   "cell_type": "markdown",
   "id": "5c092f22-4f5e-43cf-a6b6-419de79303d9",
   "metadata": {},
   "source": [
    "# Library"
   ]
  },
  {
   "cell_type": "code",
   "execution_count": 1,
   "id": "5785fbb2-bb58-4dfc-92fb-93f37fe1f2ba",
   "metadata": {
    "tags": []
   },
   "outputs": [],
   "source": [
    "import pandas as pd\n",
    "import pyexasol\n",
    "import os\n",
    "import datetime\n",
    "from tqdm import tqdm\n",
    "import time"
   ]
  },
  {
   "cell_type": "markdown",
   "id": "a35f1fd7",
   "metadata": {},
   "source": [
    "# Fold"
   ]
  },
  {
   "cell_type": "code",
   "execution_count": 2,
   "id": "e1b7b98a",
   "metadata": {},
   "outputs": [],
   "source": [
    "std_fold = 'D:/data/big2/STD'"
   ]
  },
  {
   "cell_type": "markdown",
   "id": "0a24ab93-9416-4fad-9858-1f081abdb9b3",
   "metadata": {
    "tags": []
   },
   "source": [
    "# insider db"
   ]
  },
  {
   "cell_type": "code",
   "execution_count": 3,
   "id": "e07dcf0d-0bea-4b22-b2c7-1616fbba2902",
   "metadata": {
    "tags": []
   },
   "outputs": [],
   "source": [
    "# wd = pyexasol.connect(dsn='172.29.135.35/F99FAB2444F86051A9A467F6313FAAB48AF7C4760663430958E3B89A9DC53361:8563', user='sys', password='exasol', compression=True, schema='VSYSD')\n",
    "# we = pyexasol.connect(dsn='172.29.135.35/F99FAB2444F86051A9A467F6313FAAB48AF7C4760663430958E3B89A9DC53361:8563', user='sys', password='exasol', compression=True, schema='VSYSE')"
   ]
  },
  {
   "cell_type": "markdown",
   "id": "a90e70f9",
   "metadata": {},
   "source": [
    "# exasol db"
   ]
  },
  {
   "cell_type": "code",
   "execution_count": 4,
   "id": "834b49ee",
   "metadata": {},
   "outputs": [],
   "source": [
    "# ws = pyexasol.connect(dsn='dev.openankus.org:8563', user='sys', password='djslzja', compression=True, schema='VSYS')\n",
    "wd = pyexasol.connect(dsn='dev.openankus.org:8563', user='sys', password='djslzja', compression=True, schema='VSYSD')\n",
    "we = pyexasol.connect(dsn='dev.openankus.org:8563', user='sys', password='djslzja', compression=True, schema='VSYSE')"
   ]
  },
  {
   "cell_type": "markdown",
   "id": "2f661ba7-9597-4275-a486-24e2c48491fe",
   "metadata": {},
   "source": [
    "## file export"
   ]
  },
  {
   "cell_type": "code",
   "execution_count": 6,
   "id": "8d954573-8ecb-4e79-9d0b-1f028db9ce59",
   "metadata": {
    "tags": []
   },
   "outputs": [
    {
     "data": {
      "text/plain": [
       "50"
      ]
     },
     "execution_count": 6,
     "metadata": {},
     "output_type": "execute_result"
    }
   ],
   "source": [
    "table_list = ['STD_BD_CAR_CURSTT', 'STD_BD_CAR_CURSTT_MOD', 'STD_BD_CAR_CURSTT_MOD2', 'STD_BD_CAR_CURSTT_MOD2_4RD_INS', 'STD_BD_CAR_CURSTT_MOD_4RD_INS', 'STD_BD_CAR_PRET', 'STD_BD_CAR_REG_MKCNT', 'STD_BD_DAT_FUEL_CAR_DEC', \n",
    "              'STD_BD_DAT_GRD4_CAR_CURSTT', 'STD_BD_DAT_GRD4_CERT_NO_RVW', 'STD_BD_DAT_GRD4_DTL_INFO', 'STD_BD_DAT_GRD4_EXHST_MASS_CURSTT', 'STD_BD_DAT_GRD4_EXHST_MSS_CURSTT', 'STD_BD_DAT_GRD4_MEVLU', 'STD_BD_DAT_GRD4_MLSFC', \n",
    "              'STD_BD_DAT_GRD4_SI', 'STD_BD_DAT_GRD5_REDUC_BIZ', 'STD_BD_DAT_GRD_CURSTT', 'STD_BD_DAT_LEM_SELCT', 'STD_BD_DAT_RUN_LMT_CURSTT', 'STD_BD_DAT_SELCT_PNT_CURSTT', 'STD_BD_ECO_CAR_PRET', 'STD_BD_ERSR_RSLT', \n",
    "              'STD_BD_FUEL_GRD_VHCL_CURSTT_PRET', 'STD_BD_GRD4_CAR_CURSTT', 'STD_BD_GRD4_CAR_CURSTT_TOT', 'STD_BD_GRD4_DS_CRRLTN_CFFCNT', 'STD_BD_GRD4_ELPDSRC_CURSTT', 'STD_BD_GRD4_EXHST_GAS_MSS', 'STD_BD_GRD4_EXHST_GAS_MSS_TOT', \n",
    "              'STD_BD_GRD4_LEM_PRIO_ORD_SELCT_CURSTT', 'STD_BD_GRD4_MLSFC_RSLT', 'STD_BD_GRD4_RESULT', 'STD_BD_GRD4_RGN_CURSTT', 'STD_BD_GRD4_RGN_CURSTT_MOD', 'STD_BD_GRD4_SI', 'STD_BD_GRD5_DS_CRRLTN_CFFCNT', 'STD_BD_GRD5_ELPDSRC', \n",
    "              'STD_BD_GRD5_ELPDSRC_CURSTT', 'STD_BD_GRD5_LEM_N', 'STD_BD_GRD5_LEM_N_MOD', 'STD_BD_GRD5_LEM_PRIO_ORD_SELCT_CURSTT', 'STD_BD_GRD5_LMT_NOCS', 'STD_BD_HYBRD_CAR_PRET', 'STD_BD_KOSIS', 'STD_BD_ORDITM_DSCL_CURSTT', \n",
    "              'STD_BD_SEASON_CRDN_NOCS_CURSTT', 'STD_BD_SEASON_DSCL_RGN_CURSTT', 'STD_BD_SEASON_DY_AVRG_CRDN_NOCS', 'STD_BD_TB_MAPDATA']\n",
    "len(table_list)"
   ]
  },
  {
   "cell_type": "code",
   "execution_count": 7,
   "id": "6befe293-c7cb-4b1e-9c0f-7d5075dd7900",
   "metadata": {
    "tags": []
   },
   "outputs": [
    {
     "data": {
      "text/plain": [
       "50"
      ]
     },
     "execution_count": 7,
     "metadata": {},
     "output_type": "execute_result"
    }
   ],
   "source": [
    "len(set(table_list))"
   ]
  },
  {
   "cell_type": "code",
   "execution_count": 9,
   "id": "d412f5cd-308d-431e-a1a9-b77e46f1f75f",
   "metadata": {
    "tags": []
   },
   "outputs": [
    {
     "name": "stderr",
     "output_type": "stream",
     "text": [
      "  0%|          | 0/50 [00:00<?, ?it/s]/home/svradm/miniconda3/lib/python3.8/site-packages/pyexasol/callback.py:42: DtypeWarning: Columns (7) have mixed types. Specify dtype option on import or set low_memory=False.\n",
      "  return pandas.read_csv(pipe, skip_blank_lines=False, **kwargs)\n",
      "  2%|▏         | 1/50 [03:38<2:58:11, 218.20s/it]"
     ]
    },
    {
     "name": "stdout",
     "output_type": "stream",
     "text": [
      "STD_BD_CAR_CURSTT.csv 출력완료\n"
     ]
    },
    {
     "name": "stderr",
     "output_type": "stream",
     "text": [
      "  4%|▍         | 2/50 [03:40<1:12:55, 91.16s/it] "
     ]
    },
    {
     "name": "stdout",
     "output_type": "stream",
     "text": [
      "STD_BD_CAR_CURSTT_MOD.csv 출력완료\n"
     ]
    },
    {
     "name": "stderr",
     "output_type": "stream",
     "text": [
      "  6%|▌         | 3/50 [03:41<39:12, 50.05s/it]  "
     ]
    },
    {
     "name": "stdout",
     "output_type": "stream",
     "text": [
      "STD_BD_CAR_CURSTT_MOD2.csv 출력완료\n"
     ]
    },
    {
     "name": "stderr",
     "output_type": "stream",
     "text": [
      "  8%|▊         | 4/50 [03:42<23:34, 30.75s/it]"
     ]
    },
    {
     "name": "stdout",
     "output_type": "stream",
     "text": [
      "STD_BD_CAR_CURSTT_MOD2_4RD_INS.csv 출력완료\n"
     ]
    },
    {
     "name": "stderr",
     "output_type": "stream",
     "text": [
      " 10%|█         | 5/50 [03:43<15:02, 20.05s/it]"
     ]
    },
    {
     "name": "stdout",
     "output_type": "stream",
     "text": [
      "STD_BD_CAR_CURSTT_MOD_4RD_INS.csv 출력완료\n"
     ]
    },
    {
     "name": "stderr",
     "output_type": "stream",
     "text": [
      " 12%|█▏        | 6/50 [03:44<09:58, 13.59s/it]"
     ]
    },
    {
     "name": "stdout",
     "output_type": "stream",
     "text": [
      "STD_BD_CAR_PRET.csv 출력완료\n"
     ]
    },
    {
     "name": "stderr",
     "output_type": "stream",
     "text": [
      " 14%|█▍        | 7/50 [03:45<06:49,  9.52s/it]"
     ]
    },
    {
     "name": "stdout",
     "output_type": "stream",
     "text": [
      "STD_BD_CAR_REG_MKCNT.csv 출력완료\n"
     ]
    },
    {
     "name": "stderr",
     "output_type": "stream",
     "text": [
      " 16%|█▌        | 8/50 [03:47<04:47,  6.84s/it]"
     ]
    },
    {
     "name": "stdout",
     "output_type": "stream",
     "text": [
      "STD_BD_DAT_FUEL_CAR_DEC.csv 출력완료\n"
     ]
    },
    {
     "name": "stderr",
     "output_type": "stream",
     "text": [
      " 18%|█▊        | 9/50 [03:50<03:52,  5.67s/it]"
     ]
    },
    {
     "name": "stdout",
     "output_type": "stream",
     "text": [
      "STD_BD_DAT_GRD4_CAR_CURSTT.csv 출력완료\n"
     ]
    },
    {
     "name": "stderr",
     "output_type": "stream",
     "text": [
      " 20%|██        | 10/50 [03:51<02:50,  4.26s/it]"
     ]
    },
    {
     "name": "stdout",
     "output_type": "stream",
     "text": [
      "STD_BD_DAT_GRD4_CERT_NO_RVW.csv 출력완료\n"
     ]
    },
    {
     "name": "stderr",
     "output_type": "stream",
     "text": [
      "/home/svradm/miniconda3/lib/python3.8/site-packages/pyexasol/callback.py:42: DtypeWarning: Columns (10,11,13,14) have mixed types. Specify dtype option on import or set low_memory=False.\n",
      "  return pandas.read_csv(pipe, skip_blank_lines=False, **kwargs)\n",
      " 22%|██▏       | 11/50 [04:11<05:55,  9.12s/it]"
     ]
    },
    {
     "name": "stdout",
     "output_type": "stream",
     "text": [
      "STD_BD_DAT_GRD4_DTL_INFO.csv 출력완료\n"
     ]
    },
    {
     "name": "stderr",
     "output_type": "stream",
     "text": [
      " 24%|██▍       | 12/50 [04:12<04:17,  6.78s/it]"
     ]
    },
    {
     "name": "stdout",
     "output_type": "stream",
     "text": [
      "STD_BD_DAT_GRD4_EXHST_MASS_CURSTT.csv 출력완료\n"
     ]
    },
    {
     "name": "stderr",
     "output_type": "stream",
     "text": [
      " 26%|██▌       | 13/50 [04:14<03:09,  5.11s/it]"
     ]
    },
    {
     "name": "stdout",
     "output_type": "stream",
     "text": [
      "STD_BD_DAT_GRD4_EXHST_MSS_CURSTT.csv 출력완료\n"
     ]
    },
    {
     "name": "stderr",
     "output_type": "stream",
     "text": [
      " 28%|██▊       | 14/50 [04:15<02:22,  3.94s/it]"
     ]
    },
    {
     "name": "stdout",
     "output_type": "stream",
     "text": [
      "STD_BD_DAT_GRD4_MEVLU.csv 출력완료\n"
     ]
    },
    {
     "name": "stderr",
     "output_type": "stream",
     "text": [
      " 30%|███       | 15/50 [04:16<01:49,  3.12s/it]"
     ]
    },
    {
     "name": "stdout",
     "output_type": "stream",
     "text": [
      "STD_BD_DAT_GRD4_MLSFC.csv 출력완료\n"
     ]
    },
    {
     "name": "stderr",
     "output_type": "stream",
     "text": [
      " 32%|███▏      | 16/50 [04:17<01:25,  2.52s/it]"
     ]
    },
    {
     "name": "stdout",
     "output_type": "stream",
     "text": [
      "STD_BD_DAT_GRD4_SI.csv 출력완료\n"
     ]
    },
    {
     "name": "stderr",
     "output_type": "stream",
     "text": [
      " 34%|███▍      | 17/50 [04:18<01:08,  2.08s/it]"
     ]
    },
    {
     "name": "stdout",
     "output_type": "stream",
     "text": [
      "STD_BD_DAT_GRD5_REDUC_BIZ.csv 출력완료\n"
     ]
    },
    {
     "name": "stderr",
     "output_type": "stream",
     "text": [
      " 36%|███▌      | 18/50 [04:21<01:12,  2.26s/it]"
     ]
    },
    {
     "name": "stdout",
     "output_type": "stream",
     "text": [
      "STD_BD_DAT_GRD_CURSTT.csv 출력완료\n"
     ]
    },
    {
     "name": "stderr",
     "output_type": "stream",
     "text": [
      " 38%|███▊      | 19/50 [04:22<00:59,  1.91s/it]"
     ]
    },
    {
     "name": "stdout",
     "output_type": "stream",
     "text": [
      "STD_BD_DAT_LEM_SELCT.csv 출력완료\n"
     ]
    },
    {
     "name": "stderr",
     "output_type": "stream",
     "text": [
      " 40%|████      | 20/50 [04:23<00:50,  1.69s/it]"
     ]
    },
    {
     "name": "stdout",
     "output_type": "stream",
     "text": [
      "STD_BD_DAT_RUN_LMT_CURSTT.csv 출력완료\n"
     ]
    },
    {
     "name": "stderr",
     "output_type": "stream",
     "text": [
      " 42%|████▏     | 21/50 [04:24<00:43,  1.51s/it]"
     ]
    },
    {
     "name": "stdout",
     "output_type": "stream",
     "text": [
      "STD_BD_DAT_SELCT_PNT_CURSTT.csv 출력완료\n"
     ]
    },
    {
     "name": "stderr",
     "output_type": "stream",
     "text": [
      " 44%|████▍     | 22/50 [04:25<00:39,  1.40s/it]"
     ]
    },
    {
     "name": "stdout",
     "output_type": "stream",
     "text": [
      "STD_BD_ECO_CAR_PRET.csv 출력완료\n"
     ]
    },
    {
     "name": "stderr",
     "output_type": "stream",
     "text": [
      " 46%|████▌     | 23/50 [04:57<04:44, 10.52s/it]"
     ]
    },
    {
     "name": "stdout",
     "output_type": "stream",
     "text": [
      "STD_BD_ERSR_RSLT.csv 출력완료\n"
     ]
    },
    {
     "name": "stderr",
     "output_type": "stream",
     "text": [
      " 48%|████▊     | 24/50 [04:59<03:21,  7.74s/it]"
     ]
    },
    {
     "name": "stdout",
     "output_type": "stream",
     "text": [
      "STD_BD_FUEL_GRD_VHCL_CURSTT_PRET.csv 출력완료\n"
     ]
    },
    {
     "name": "stderr",
     "output_type": "stream",
     "text": [
      "/home/svradm/miniconda3/lib/python3.8/site-packages/pyexasol/callback.py:42: DtypeWarning: Columns (3,16) have mixed types. Specify dtype option on import or set low_memory=False.\n",
      "  return pandas.read_csv(pipe, skip_blank_lines=False, **kwargs)\n",
      " 50%|█████     | 25/50 [05:22<05:12, 12.50s/it]"
     ]
    },
    {
     "name": "stdout",
     "output_type": "stream",
     "text": [
      "STD_BD_GRD4_CAR_CURSTT.csv 출력완료\n"
     ]
    },
    {
     "name": "stderr",
     "output_type": "stream",
     "text": [
      " 52%|█████▏    | 26/50 [05:23<03:38,  9.11s/it]"
     ]
    },
    {
     "name": "stdout",
     "output_type": "stream",
     "text": [
      "STD_BD_GRD4_CAR_CURSTT_TOT.csv 출력완료\n"
     ]
    },
    {
     "name": "stderr",
     "output_type": "stream",
     "text": [
      " 54%|█████▍    | 27/50 [05:24<02:34,  6.71s/it]"
     ]
    },
    {
     "name": "stdout",
     "output_type": "stream",
     "text": [
      "STD_BD_GRD4_DS_CRRLTN_CFFCNT.csv 출력완료\n"
     ]
    },
    {
     "name": "stderr",
     "output_type": "stream",
     "text": [
      " 56%|█████▌    | 28/50 [05:36<02:59,  8.14s/it]"
     ]
    },
    {
     "name": "stdout",
     "output_type": "stream",
     "text": [
      "STD_BD_GRD4_ELPDSRC_CURSTT.csv 출력완료\n"
     ]
    },
    {
     "name": "stderr",
     "output_type": "stream",
     "text": [
      "/home/svradm/miniconda3/lib/python3.8/site-packages/pyexasol/callback.py:42: DtypeWarning: Columns (4,29) have mixed types. Specify dtype option on import or set low_memory=False.\n",
      "  return pandas.read_csv(pipe, skip_blank_lines=False, **kwargs)\n",
      " 58%|█████▊    | 29/50 [06:31<07:45, 22.16s/it]"
     ]
    },
    {
     "name": "stdout",
     "output_type": "stream",
     "text": [
      "STD_BD_GRD4_EXHST_GAS_MSS.csv 출력완료\n"
     ]
    },
    {
     "name": "stderr",
     "output_type": "stream",
     "text": [
      " 60%|██████    | 30/50 [06:32<05:17, 15.88s/it]"
     ]
    },
    {
     "name": "stdout",
     "output_type": "stream",
     "text": [
      "STD_BD_GRD4_EXHST_GAS_MSS_TOT.csv 출력완료\n"
     ]
    },
    {
     "name": "stderr",
     "output_type": "stream",
     "text": [
      " 62%|██████▏   | 31/50 [06:48<05:04, 16.04s/it]"
     ]
    },
    {
     "name": "stdout",
     "output_type": "stream",
     "text": [
      "STD_BD_GRD4_LEM_PRIO_ORD_SELCT_CURSTT.csv 출력완료\n"
     ]
    },
    {
     "name": "stderr",
     "output_type": "stream",
     "text": [
      "/home/svradm/miniconda3/lib/python3.8/site-packages/pyexasol/callback.py:42: DtypeWarning: Columns (11) have mixed types. Specify dtype option on import or set low_memory=False.\n",
      "  return pandas.read_csv(pipe, skip_blank_lines=False, **kwargs)\n",
      " 64%|██████▍   | 32/50 [07:02<04:37, 15.40s/it]"
     ]
    },
    {
     "name": "stdout",
     "output_type": "stream",
     "text": [
      "STD_BD_GRD4_MLSFC_RSLT.csv 출력완료\n"
     ]
    },
    {
     "name": "stderr",
     "output_type": "stream",
     "text": [
      "/home/svradm/miniconda3/lib/python3.8/site-packages/pyexasol/callback.py:42: DtypeWarning: Columns (18,25,27) have mixed types. Specify dtype option on import or set low_memory=False.\n",
      "  return pandas.read_csv(pipe, skip_blank_lines=False, **kwargs)\n",
      " 66%|██████▌   | 33/50 [07:35<05:52, 20.72s/it]"
     ]
    },
    {
     "name": "stdout",
     "output_type": "stream",
     "text": [
      "STD_BD_GRD4_RESULT.csv 출력완료\n"
     ]
    },
    {
     "name": "stderr",
     "output_type": "stream",
     "text": [
      " 68%|██████▊   | 34/50 [07:37<03:58, 14.88s/it]"
     ]
    },
    {
     "name": "stdout",
     "output_type": "stream",
     "text": [
      "STD_BD_GRD4_RGN_CURSTT.csv 출력완료\n"
     ]
    },
    {
     "name": "stderr",
     "output_type": "stream",
     "text": [
      " 70%|███████   | 35/50 [07:38<02:41, 10.75s/it]"
     ]
    },
    {
     "name": "stdout",
     "output_type": "stream",
     "text": [
      "STD_BD_GRD4_RGN_CURSTT_MOD.csv 출력완료\n"
     ]
    },
    {
     "name": "stderr",
     "output_type": "stream",
     "text": [
      " 72%|███████▏  | 36/50 [07:49<02:30, 10.77s/it]"
     ]
    },
    {
     "name": "stdout",
     "output_type": "stream",
     "text": [
      "STD_BD_GRD4_SI.csv 출력완료\n"
     ]
    },
    {
     "name": "stderr",
     "output_type": "stream",
     "text": [
      " 74%|███████▍  | 37/50 [07:50<01:42,  7.87s/it]"
     ]
    },
    {
     "name": "stdout",
     "output_type": "stream",
     "text": [
      "STD_BD_GRD5_DS_CRRLTN_CFFCNT.csv 출력완료\n"
     ]
    },
    {
     "name": "stderr",
     "output_type": "stream",
     "text": [
      " 76%|███████▌  | 38/50 [07:51<01:10,  5.84s/it]"
     ]
    },
    {
     "name": "stdout",
     "output_type": "stream",
     "text": [
      "STD_BD_GRD5_ELPDSRC.csv 출력완료\n"
     ]
    },
    {
     "name": "stderr",
     "output_type": "stream",
     "text": [
      " 78%|███████▊  | 39/50 [07:52<00:48,  4.40s/it]"
     ]
    },
    {
     "name": "stdout",
     "output_type": "stream",
     "text": [
      "STD_BD_GRD5_ELPDSRC_CURSTT.csv 출력완료\n"
     ]
    },
    {
     "name": "stderr",
     "output_type": "stream",
     "text": [
      " 80%|████████  | 40/50 [07:53<00:34,  3.43s/it]"
     ]
    },
    {
     "name": "stdout",
     "output_type": "stream",
     "text": [
      "STD_BD_GRD5_LEM_N.csv 출력완료\n"
     ]
    },
    {
     "name": "stderr",
     "output_type": "stream",
     "text": [
      " 82%|████████▏ | 41/50 [07:54<00:24,  2.74s/it]"
     ]
    },
    {
     "name": "stdout",
     "output_type": "stream",
     "text": [
      "STD_BD_GRD5_LEM_N_MOD.csv 출력완료\n"
     ]
    },
    {
     "name": "stderr",
     "output_type": "stream",
     "text": [
      "/home/svradm/miniconda3/lib/python3.8/site-packages/pyexasol/callback.py:42: DtypeWarning: Columns (9) have mixed types. Specify dtype option on import or set low_memory=False.\n",
      "  return pandas.read_csv(pipe, skip_blank_lines=False, **kwargs)\n",
      " 84%|████████▍ | 42/50 [08:08<00:49,  6.20s/it]"
     ]
    },
    {
     "name": "stdout",
     "output_type": "stream",
     "text": [
      "STD_BD_GRD5_LEM_PRIO_ORD_SELCT_CURSTT.csv 출력완료\n"
     ]
    },
    {
     "name": "stderr",
     "output_type": "stream",
     "text": [
      " 86%|████████▌ | 43/50 [08:11<00:35,  5.07s/it]"
     ]
    },
    {
     "name": "stdout",
     "output_type": "stream",
     "text": [
      "STD_BD_GRD5_LMT_NOCS.csv 출력완료\n"
     ]
    },
    {
     "name": "stderr",
     "output_type": "stream",
     "text": [
      " 88%|████████▊ | 44/50 [08:12<00:23,  3.88s/it]"
     ]
    },
    {
     "name": "stdout",
     "output_type": "stream",
     "text": [
      "STD_BD_HYBRD_CAR_PRET.csv 출력완료\n"
     ]
    },
    {
     "name": "stderr",
     "output_type": "stream",
     "text": [
      " 90%|█████████ | 45/50 [08:13<00:15,  3.03s/it]"
     ]
    },
    {
     "name": "stdout",
     "output_type": "stream",
     "text": [
      "STD_BD_KOSIS.csv 출력완료\n"
     ]
    },
    {
     "name": "stderr",
     "output_type": "stream",
     "text": [
      " 92%|█████████▏| 46/50 [08:15<00:10,  2.60s/it]"
     ]
    },
    {
     "name": "stdout",
     "output_type": "stream",
     "text": [
      "STD_BD_ORDITM_DSCL_CURSTT.csv 출력완료\n"
     ]
    },
    {
     "name": "stderr",
     "output_type": "stream",
     "text": [
      " 94%|█████████▍| 47/50 [08:22<00:12,  4.01s/it]"
     ]
    },
    {
     "name": "stdout",
     "output_type": "stream",
     "text": [
      "STD_BD_SEASON_CRDN_NOCS_CURSTT.csv 출력완료\n"
     ]
    },
    {
     "name": "stderr",
     "output_type": "stream",
     "text": [
      " 96%|█████████▌| 48/50 [08:30<00:10,  5.12s/it]"
     ]
    },
    {
     "name": "stdout",
     "output_type": "stream",
     "text": [
      "STD_BD_SEASON_DSCL_RGN_CURSTT.csv 출력완료\n"
     ]
    },
    {
     "name": "stderr",
     "output_type": "stream",
     "text": [
      " 98%|█████████▊| 49/50 [08:31<00:03,  3.93s/it]"
     ]
    },
    {
     "name": "stdout",
     "output_type": "stream",
     "text": [
      "STD_BD_SEASON_DY_AVRG_CRDN_NOCS.csv 출력완료\n"
     ]
    },
    {
     "name": "stderr",
     "output_type": "stream",
     "text": [
      "100%|██████████| 50/50 [08:32<00:00, 10.25s/it]"
     ]
    },
    {
     "name": "stdout",
     "output_type": "stream",
     "text": [
      "STD_BD_TB_MAPDATA.csv 출력완료\n"
     ]
    },
    {
     "name": "stderr",
     "output_type": "stream",
     "text": [
      "\n"
     ]
    }
   ],
   "source": [
    "for table_name in tqdm(table_list):\n",
    "    df = we.export_to_pandas(f\"SELECT * from {table_name};\")\n",
    "    df.to_csv(table_name + '.csv', index=False)\n",
    "    print(f'{table_name}.csv 출력완료')"
   ]
  },
  {
   "cell_type": "markdown",
   "id": "a8d58b2f",
   "metadata": {},
   "source": [
    "## file export"
   ]
  },
  {
   "cell_type": "code",
   "execution_count": 5,
   "id": "a74f3e03",
   "metadata": {},
   "outputs": [
    {
     "data": {
      "text/plain": [
       "2"
      ]
     },
     "execution_count": 5,
     "metadata": {},
     "output_type": "execute_result"
    }
   ],
   "source": [
    "table_list = [\n",
    "    'STD_CEG_CAR_MIG', \n",
    "    'STD_CEG_CAR_SRC_MIG', \n",
    "    ]\n",
    "len(table_list)"
   ]
  },
  {
   "cell_type": "code",
   "execution_count": 6,
   "id": "0010d9a3",
   "metadata": {},
   "outputs": [
    {
     "data": {
      "text/plain": [
       "2"
      ]
     },
     "execution_count": 6,
     "metadata": {},
     "output_type": "execute_result"
    }
   ],
   "source": [
    "len(set(table_list))"
   ]
  },
  {
   "cell_type": "code",
   "execution_count": 7,
   "id": "f0104ce2",
   "metadata": {},
   "outputs": [
    {
     "data": {
      "text/plain": [
       "'20230821'"
      ]
     },
     "execution_count": 7,
     "metadata": {},
     "output_type": "execute_result"
    }
   ],
   "source": [
    "today_date = datetime.datetime.today().strftime(\"%Y%m%d\")\n",
    "today_date"
   ]
  },
  {
   "cell_type": "code",
   "execution_count": 9,
   "id": "bdf05caa",
   "metadata": {},
   "outputs": [
    {
     "name": "stderr",
     "output_type": "stream",
     "text": [
      "  0%|          | 0/2 [00:00<?, ?it/s]C:\\Users\\kbjung\\AppData\\Roaming\\Python\\Python39\\site-packages\\pyexasol\\callback.py:42: DtypeWarning: Columns (1,8,9,11,18,25,27,28) have mixed types. Specify dtype option on import or set low_memory=False.\n",
      "  return pandas.read_csv(pipe, skip_blank_lines=False, **kwargs)\n",
      " 50%|█████     | 1/2 [16:23<16:23, 983.17s/it]"
     ]
    },
    {
     "name": "stdout",
     "output_type": "stream",
     "text": [
      "STD_CEG_CAR_MIG(20230821).csv 출력완료\n"
     ]
    },
    {
     "name": "stderr",
     "output_type": "stream",
     "text": [
      "C:\\Users\\kbjung\\AppData\\Roaming\\Python\\Python39\\site-packages\\pyexasol\\callback.py:42: DtypeWarning: Columns (1) have mixed types. Specify dtype option on import or set low_memory=False.\n",
      "  return pandas.read_csv(pipe, skip_blank_lines=False, **kwargs)\n",
      "100%|██████████| 2/2 [16:41<00:00, 500.91s/it]"
     ]
    },
    {
     "name": "stdout",
     "output_type": "stream",
     "text": [
      "STD_CEG_CAR_SRC_MIG(20230821).csv 출력완료\n",
      "\n",
      "코드 수행시간 : 0:16:41\n"
     ]
    },
    {
     "name": "stderr",
     "output_type": "stream",
     "text": [
      "\n"
     ]
    }
   ],
   "source": [
    "# 16m 41s\n",
    "start_time = time.time()\n",
    "for table_name in tqdm(table_list):\n",
    "    df = wd.export_to_pandas(f\"SELECT * from {table_name};\")\n",
    "    file_name = table_name + f'({today_date}).csv'\n",
    "    df.to_csv(os.path.join(std_fold, file_name), index=False)\n",
    "    print(f'{file_name} 출력완료')\n",
    "print()\n",
    "sec = time.time() - start_time\n",
    "print('코드 수행시간 : ' + str(datetime.timedelta(seconds=sec)).split('.')[0])"
   ]
  },
  {
   "cell_type": "code",
   "execution_count": 4,
   "id": "12c96cc2",
   "metadata": {},
   "outputs": [
    {
     "data": {
      "text/plain": [
       "1"
      ]
     },
     "execution_count": 4,
     "metadata": {},
     "output_type": "execute_result"
    }
   ],
   "source": [
    "table_list = [\n",
    "    'STD_TB_EET_HIS_ME', \n",
    "    ]\n",
    "len(table_list)"
   ]
  },
  {
   "cell_type": "code",
   "execution_count": 5,
   "id": "3a3a43aa",
   "metadata": {},
   "outputs": [
    {
     "data": {
      "text/plain": [
       "'20230825'"
      ]
     },
     "execution_count": 5,
     "metadata": {},
     "output_type": "execute_result"
    }
   ],
   "source": [
    "today_date = datetime.datetime.today().strftime(\"%Y%m%d\")\n",
    "today_date"
   ]
  },
  {
   "cell_type": "code",
   "execution_count": 6,
   "id": "404928ae",
   "metadata": {},
   "outputs": [
    {
     "name": "stderr",
     "output_type": "stream",
     "text": [
      "  0%|          | 0/1 [00:00<?, ?it/s]"
     ]
    },
    {
     "name": "stderr",
     "output_type": "stream",
     "text": [
      "100%|██████████| 1/1 [10:30<00:00, 630.48s/it]"
     ]
    },
    {
     "name": "stdout",
     "output_type": "stream",
     "text": [
      "STD_TB_EET_HIS_ME(20230825).csv 출력완료\n",
      "\n",
      "코드 수행시간 : 0:10:30\n"
     ]
    },
    {
     "name": "stderr",
     "output_type": "stream",
     "text": [
      "\n"
     ]
    }
   ],
   "source": [
    "# 10m 30s\n",
    "start_time = time.time()\n",
    "for table_name in tqdm(table_list):\n",
    "    df = wd.export_to_pandas(f\"SELECT VIN, PRCINSP_JGMT, PREC_NLOD_SMO_MSTVL1, PREC_NLOD_SMO_JT_YN1, PREC_NLOD_SMO_PRMVL1, PRCINSP_MSRMT_MTHD_CD, PRCINSP_KND_CD, PRCINSP_YMD from {table_name};\")\n",
    "    file_name = table_name + f'({today_date}).csv'\n",
    "    df.to_csv(os.path.join(std_fold, file_name), index=False)\n",
    "    print(f'{file_name} 출력완료')\n",
    "print()\n",
    "sec = time.time() - start_time\n",
    "print('코드 수행시간 : ' + str(datetime.timedelta(seconds=sec)).split('.')[0])"
   ]
  },
  {
   "cell_type": "markdown",
   "id": "ad6d054d",
   "metadata": {},
   "source": [
    "# file check"
   ]
  },
  {
   "cell_type": "code",
   "execution_count": 5,
   "id": "b2694621",
   "metadata": {},
   "outputs": [
    {
     "data": {
      "text/plain": [
       "\"\\n'STD_BD_DAT_FUEL_CAR_DEC',\\n'STD_BD_DAT_GRD4_CAR_CURSTT',\\n'STD_BD_DAT_GRD4_CERT_NO_RVW',\\n'STD_BD_DAT_GRD4_DTL_INFO',\\n'STD_BD_DAT_GRD4_EXHST_MASS_CURSTT',\\n'STD_BD_DAT_GRD4_EXHST_MSS_CURSTT',\\n'STD_BD_DAT_GRD4_MEVLU',\\n'STD_BD_DAT_GRD4_MLSFC',\\n'STD_BD_DAT_GRD4_SI',\\n'STD_BD_DAT_GRD5_REDUC_BIZ',\\n'STD_BD_DAT_GRD_CURSTT',\\n'STD_BD_DAT_LEM_SELCT',\\n'STD_BD_DAT_RUN_LMT_CURSTT',\\n'STD_BD_DAT_SELCT_PNT_CURSTT',\\n\""
      ]
     },
     "execution_count": 5,
     "metadata": {},
     "output_type": "execute_result"
    }
   ],
   "source": [
    "\"\"\"\n",
    "'STD_BD_DAT_FUEL_CAR_DEC',\n",
    "'STD_BD_DAT_GRD4_CAR_CURSTT',\n",
    "'STD_BD_DAT_GRD4_CERT_NO_RVW',\n",
    "'STD_BD_DAT_GRD4_DTL_INFO',\n",
    "'STD_BD_DAT_GRD4_EXHST_MASS_CURSTT',\n",
    "'STD_BD_DAT_GRD4_EXHST_MSS_CURSTT',\n",
    "'STD_BD_DAT_GRD4_MEVLU',\n",
    "'STD_BD_DAT_GRD4_MLSFC',\n",
    "'STD_BD_DAT_GRD4_SI',\n",
    "'STD_BD_DAT_GRD5_REDUC_BIZ',\n",
    "'STD_BD_DAT_GRD_CURSTT',\n",
    "'STD_BD_DAT_LEM_SELCT',\n",
    "'STD_BD_DAT_RUN_LMT_CURSTT',\n",
    "'STD_BD_DAT_SELCT_PNT_CURSTT',\n",
    "\"\"\""
   ]
  },
  {
   "cell_type": "code",
   "execution_count": 7,
   "id": "671bfd71",
   "metadata": {},
   "outputs": [
    {
     "name": "stdout",
     "output_type": "stream",
     "text": [
      "<class 'pandas.core.frame.DataFrame'>\n",
      "RangeIndex: 266112 entries, 0 to 266111\n",
      "Data columns (total 15 columns):\n",
      " #   Column               Non-Null Count   Dtype  \n",
      "---  ------               --------------   -----  \n",
      " 0   IDX                  266112 non-null  int64  \n",
      " 1   YR                   266112 non-null  int64  \n",
      " 2   MM                   266112 non-null  int64  \n",
      " 3   CTPV                 266112 non-null  object \n",
      " 4   SGG                  266112 non-null  object \n",
      " 5   FUEL_CD              266112 non-null  object \n",
      " 6   VHCTY_CD             266112 non-null  object \n",
      " 7   VHCTY_TY             266112 non-null  object \n",
      " 8   PURPS_CD2            266112 non-null  object \n",
      " 9   VHCL_MKCNT           266112 non-null  float64\n",
      " 10  DEC_RT               266112 non-null  float64\n",
      " 11  RDCDVC_EXTRNS_MKCNT  266112 non-null  float64\n",
      " 12  RDCDVC_UNAT_MKCNT    266112 non-null  float64\n",
      " 13  ELPDSRC_MKCNT        266112 non-null  float64\n",
      " 14  LOAD_DT              266112 non-null  int64  \n",
      "dtypes: float64(5), int64(4), object(6)\n",
      "memory usage: 30.5+ MB\n"
     ]
    }
   ],
   "source": [
    "table_name = 'STD_BD_DAT_GRD4_CAR_CURSTT'\n",
    "df = we.export_to_pandas(f\"SELECT * from {table_name};\")\n",
    "df.info()"
   ]
  },
  {
   "cell_type": "code",
   "execution_count": 8,
   "id": "1c41d0c5",
   "metadata": {},
   "outputs": [
    {
     "data": {
      "text/html": [
       "<div>\n",
       "<style scoped>\n",
       "    .dataframe tbody tr th:only-of-type {\n",
       "        vertical-align: middle;\n",
       "    }\n",
       "\n",
       "    .dataframe tbody tr th {\n",
       "        vertical-align: top;\n",
       "    }\n",
       "\n",
       "    .dataframe thead th {\n",
       "        text-align: right;\n",
       "    }\n",
       "</style>\n",
       "<table border=\"1\" class=\"dataframe\">\n",
       "  <thead>\n",
       "    <tr style=\"text-align: right;\">\n",
       "      <th></th>\n",
       "      <th>IDX</th>\n",
       "      <th>YR</th>\n",
       "      <th>MM</th>\n",
       "      <th>CTPV</th>\n",
       "      <th>SGG</th>\n",
       "      <th>FUEL_CD</th>\n",
       "      <th>VHCTY_CD</th>\n",
       "      <th>VHCTY_TY</th>\n",
       "      <th>PURPS_CD2</th>\n",
       "      <th>VHCL_MKCNT</th>\n",
       "      <th>DEC_RT</th>\n",
       "      <th>RDCDVC_EXTRNS_MKCNT</th>\n",
       "      <th>RDCDVC_UNAT_MKCNT</th>\n",
       "      <th>ELPDSRC_MKCNT</th>\n",
       "      <th>LOAD_DT</th>\n",
       "    </tr>\n",
       "  </thead>\n",
       "  <tbody>\n",
       "    <tr>\n",
       "      <th>0</th>\n",
       "      <td>3496</td>\n",
       "      <td>2022</td>\n",
       "      <td>6</td>\n",
       "      <td>강원특별자치도</td>\n",
       "      <td>삼척시</td>\n",
       "      <td>LPG(액화석유가스)</td>\n",
       "      <td>승용</td>\n",
       "      <td>소형</td>\n",
       "      <td>개인용</td>\n",
       "      <td>1.0</td>\n",
       "      <td>0.0</td>\n",
       "      <td>0.0</td>\n",
       "      <td>1.0</td>\n",
       "      <td>0.0</td>\n",
       "      <td>20230808</td>\n",
       "    </tr>\n",
       "    <tr>\n",
       "      <th>1</th>\n",
       "      <td>3497</td>\n",
       "      <td>2022</td>\n",
       "      <td>3</td>\n",
       "      <td>강원특별자치도</td>\n",
       "      <td>삼척시</td>\n",
       "      <td>LPG(액화석유가스)</td>\n",
       "      <td>승용</td>\n",
       "      <td>소형</td>\n",
       "      <td>영업용</td>\n",
       "      <td>0.0</td>\n",
       "      <td>0.0</td>\n",
       "      <td>0.0</td>\n",
       "      <td>0.0</td>\n",
       "      <td>0.0</td>\n",
       "      <td>20230808</td>\n",
       "    </tr>\n",
       "    <tr>\n",
       "      <th>2</th>\n",
       "      <td>3498</td>\n",
       "      <td>2022</td>\n",
       "      <td>4</td>\n",
       "      <td>강원특별자치도</td>\n",
       "      <td>삼척시</td>\n",
       "      <td>LPG(액화석유가스)</td>\n",
       "      <td>승용</td>\n",
       "      <td>소형</td>\n",
       "      <td>영업용</td>\n",
       "      <td>0.0</td>\n",
       "      <td>0.0</td>\n",
       "      <td>0.0</td>\n",
       "      <td>0.0</td>\n",
       "      <td>0.0</td>\n",
       "      <td>20230808</td>\n",
       "    </tr>\n",
       "    <tr>\n",
       "      <th>3</th>\n",
       "      <td>3499</td>\n",
       "      <td>2022</td>\n",
       "      <td>5</td>\n",
       "      <td>강원특별자치도</td>\n",
       "      <td>삼척시</td>\n",
       "      <td>LPG(액화석유가스)</td>\n",
       "      <td>승용</td>\n",
       "      <td>소형</td>\n",
       "      <td>영업용</td>\n",
       "      <td>0.0</td>\n",
       "      <td>0.0</td>\n",
       "      <td>0.0</td>\n",
       "      <td>0.0</td>\n",
       "      <td>0.0</td>\n",
       "      <td>20230808</td>\n",
       "    </tr>\n",
       "    <tr>\n",
       "      <th>4</th>\n",
       "      <td>3500</td>\n",
       "      <td>2022</td>\n",
       "      <td>6</td>\n",
       "      <td>강원특별자치도</td>\n",
       "      <td>삼척시</td>\n",
       "      <td>LPG(액화석유가스)</td>\n",
       "      <td>승용</td>\n",
       "      <td>소형</td>\n",
       "      <td>영업용</td>\n",
       "      <td>0.0</td>\n",
       "      <td>0.0</td>\n",
       "      <td>0.0</td>\n",
       "      <td>0.0</td>\n",
       "      <td>0.0</td>\n",
       "      <td>20230808</td>\n",
       "    </tr>\n",
       "  </tbody>\n",
       "</table>\n",
       "</div>"
      ],
      "text/plain": [
       "    IDX    YR  MM     CTPV  SGG      FUEL_CD VHCTY_CD VHCTY_TY PURPS_CD2   \n",
       "0  3496  2022   6  강원특별자치도  삼척시  LPG(액화석유가스)       승용       소형       개인용  \\\n",
       "1  3497  2022   3  강원특별자치도  삼척시  LPG(액화석유가스)       승용       소형       영업용   \n",
       "2  3498  2022   4  강원특별자치도  삼척시  LPG(액화석유가스)       승용       소형       영업용   \n",
       "3  3499  2022   5  강원특별자치도  삼척시  LPG(액화석유가스)       승용       소형       영업용   \n",
       "4  3500  2022   6  강원특별자치도  삼척시  LPG(액화석유가스)       승용       소형       영업용   \n",
       "\n",
       "   VHCL_MKCNT  DEC_RT  RDCDVC_EXTRNS_MKCNT  RDCDVC_UNAT_MKCNT  ELPDSRC_MKCNT   \n",
       "0         1.0     0.0                  0.0                1.0            0.0  \\\n",
       "1         0.0     0.0                  0.0                0.0            0.0   \n",
       "2         0.0     0.0                  0.0                0.0            0.0   \n",
       "3         0.0     0.0                  0.0                0.0            0.0   \n",
       "4         0.0     0.0                  0.0                0.0            0.0   \n",
       "\n",
       "    LOAD_DT  \n",
       "0  20230808  \n",
       "1  20230808  \n",
       "2  20230808  \n",
       "3  20230808  \n",
       "4  20230808  "
      ]
     },
     "execution_count": 8,
     "metadata": {},
     "output_type": "execute_result"
    }
   ],
   "source": [
    "df.head()"
   ]
  },
  {
   "cell_type": "code",
   "execution_count": 12,
   "id": "9d93bf9f",
   "metadata": {},
   "outputs": [
    {
     "data": {
      "text/plain": [
       "1382741.0"
      ]
     },
     "execution_count": 12,
     "metadata": {},
     "output_type": "execute_result"
    }
   ],
   "source": [
    "df.loc[df['MM'] == 6, 'VHCL_MKCNT'].sum()"
   ]
  },
  {
   "cell_type": "code",
   "execution_count": 13,
   "id": "4eec1c21",
   "metadata": {},
   "outputs": [
    {
     "name": "stderr",
     "output_type": "stream",
     "text": [
      "C:\\Users\\kbjung\\AppData\\Roaming\\Python\\Python39\\site-packages\\pyexasol\\callback.py:42: DtypeWarning: Columns (11,12,14,15) have mixed types. Specify dtype option on import or set low_memory=False.\n",
      "  return pandas.read_csv(pipe, skip_blank_lines=False, **kwargs)\n"
     ]
    },
    {
     "name": "stdout",
     "output_type": "stream",
     "text": [
      "<class 'pandas.core.frame.DataFrame'>\n",
      "RangeIndex: 1906799 entries, 0 to 1906798\n",
      "Data columns (total 19 columns):\n",
      " #   Column           Dtype  \n",
      "---  ------           -----  \n",
      " 0   IDX              int64  \n",
      " 1   VHRNO            object \n",
      " 2   VIN              object \n",
      " 3   GRD4_MLSFC       object \n",
      " 4   VHCTY_CD         object \n",
      " 5   VHCTY_TY         object \n",
      " 6   PURPS_CD2        object \n",
      " 7   FUEL_CD          object \n",
      " 8   CTPV             object \n",
      " 9   SGG              object \n",
      " 10  YRIDNW           int64  \n",
      " 11  DPF_MNTNG_YN     object \n",
      " 12  RDCDVC_KND       object \n",
      " 13  FRST_REG_YMD     float64\n",
      " 14  ELPDSRC_APLY_YN  object \n",
      " 15  ELPDSRC_STTS_CD  object \n",
      " 16  CHNG_DE          float64\n",
      " 17  VHCL_ERSR_YN     object \n",
      " 18  LOAD_DT          int64  \n",
      "dtypes: float64(2), int64(3), object(14)\n",
      "memory usage: 276.4+ MB\n"
     ]
    }
   ],
   "source": [
    "table_name = 'STD_BD_DAT_GRD4_DTL_INFO'\n",
    "df = we.export_to_pandas(f\"SELECT * from {table_name};\")\n",
    "df.info()"
   ]
  },
  {
   "cell_type": "code",
   "execution_count": 14,
   "id": "1cc7e796",
   "metadata": {},
   "outputs": [
    {
     "data": {
      "text/plain": [
       "VHCL_ERSR_YN\n",
       "N    1390266\n",
       "Y     516533\n",
       "Name: count, dtype: int64"
      ]
     },
     "execution_count": 14,
     "metadata": {},
     "output_type": "execute_result"
    }
   ],
   "source": [
    "df['VHCL_ERSR_YN'].value_counts(dropna=False)"
   ]
  },
  {
   "cell_type": "code",
   "execution_count": 15,
   "id": "bebb39c3",
   "metadata": {},
   "outputs": [
    {
     "name": "stdout",
     "output_type": "stream",
     "text": [
      "<class 'pandas.core.frame.DataFrame'>\n",
      "RangeIndex: 8298 entries, 0 to 8297\n",
      "Data columns (total 14 columns):\n",
      " #   Column     Non-Null Count  Dtype  \n",
      "---  ------     --------------  -----  \n",
      " 0   IDX        8298 non-null   int64  \n",
      " 1   FUEL_CD    8298 non-null   object \n",
      " 2   CTPV       8298 non-null   object \n",
      " 3   SGG        8298 non-null   object \n",
      " 4   VHCTY_CD   8298 non-null   object \n",
      " 5   VHCTY_TY   8298 non-null   object \n",
      " 6   PURPS_CD2  8298 non-null   object \n",
      " 7   A_MKCNT    5066 non-null   float64\n",
      " 8   B_MKCNT    3788 non-null   float64\n",
      " 9   C_MKCNT    3332 non-null   float64\n",
      " 10  D_MKCNT    779 non-null    float64\n",
      " 11  X_MKCNT    3367 non-null   float64\n",
      " 12  YR         8298 non-null   int64  \n",
      " 13  LOAD_DT    8298 non-null   int64  \n",
      "dtypes: float64(5), int64(3), object(6)\n",
      "memory usage: 907.7+ KB\n"
     ]
    }
   ],
   "source": [
    "table_name = 'STD_BD_DAT_GRD4_MLSFC'\n",
    "df = we.export_to_pandas(f\"SELECT * from {table_name};\")\n",
    "df.info()"
   ]
  },
  {
   "cell_type": "code",
   "execution_count": 16,
   "id": "5ead5f70",
   "metadata": {},
   "outputs": [
    {
     "data": {
      "text/plain": [
       "array([2022], dtype=int64)"
      ]
     },
     "execution_count": 16,
     "metadata": {},
     "output_type": "execute_result"
    }
   ],
   "source": [
    "df['YR'].unique()"
   ]
  },
  {
   "cell_type": "code",
   "execution_count": 19,
   "id": "426427e6",
   "metadata": {},
   "outputs": [
    {
     "data": {
      "text/plain": [
       "1382741.0"
      ]
     },
     "execution_count": 19,
     "metadata": {},
     "output_type": "execute_result"
    }
   ],
   "source": [
    "df[['A_MKCNT', 'B_MKCNT', 'C_MKCNT', 'D_MKCNT', 'X_MKCNT']].sum().sum()"
   ]
  },
  {
   "cell_type": "code",
   "execution_count": 20,
   "id": "3beecacf",
   "metadata": {},
   "outputs": [
    {
     "name": "stdout",
     "output_type": "stream",
     "text": [
      "<class 'pandas.core.frame.DataFrame'>\n",
      "RangeIndex: 212160 entries, 0 to 212159\n",
      "Data columns (total 13 columns):\n",
      " #   Column            Non-Null Count   Dtype  \n",
      "---  ------            --------------   -----  \n",
      " 0   IDX               212160 non-null  int64  \n",
      " 1   CTPV              212160 non-null  object \n",
      " 2   YR                212160 non-null  int64  \n",
      " 3   MM                212160 non-null  int64  \n",
      " 4   EXHST_GAS_GRD_CD  212160 non-null  int64  \n",
      " 5   FUEL_CD           212160 non-null  object \n",
      " 6   VHCTY_CD          212160 non-null  object \n",
      " 7   VHCTY_TY          212160 non-null  object \n",
      " 8   PURPS_CD2         212160 non-null  object \n",
      " 9   VHCL_MKCNT        212160 non-null  float64\n",
      " 10  ERSR_MKCNT        212160 non-null  float64\n",
      " 11  YR_FUEL_VHCL_RT   212160 non-null  float64\n",
      " 12  LOAD_DT           212160 non-null  int64  \n",
      "dtypes: float64(3), int64(5), object(5)\n",
      "memory usage: 21.0+ MB\n"
     ]
    }
   ],
   "source": [
    "table_name = 'STD_BD_DAT_GRD_CURSTT'\n",
    "df = we.export_to_pandas(f\"SELECT * from {table_name};\")\n",
    "df.info()"
   ]
  },
  {
   "cell_type": "code",
   "execution_count": 21,
   "id": "c3562d0c",
   "metadata": {},
   "outputs": [
    {
     "data": {
      "text/plain": [
       "array([2022], dtype=int64)"
      ]
     },
     "execution_count": 21,
     "metadata": {},
     "output_type": "execute_result"
    }
   ],
   "source": [
    "df['YR'].unique()"
   ]
  },
  {
   "cell_type": "code",
   "execution_count": 23,
   "id": "d9754f7f",
   "metadata": {},
   "outputs": [
    {
     "data": {
      "text/plain": [
       "array([ 9, 10, 11, 12], dtype=int64)"
      ]
     },
     "execution_count": 23,
     "metadata": {},
     "output_type": "execute_result"
    }
   ],
   "source": [
    "df['MM'].unique()"
   ]
  },
  {
   "cell_type": "code",
   "execution_count": 24,
   "id": "63ccbd65",
   "metadata": {},
   "outputs": [
    {
     "data": {
      "text/plain": [
       "24767013.0"
      ]
     },
     "execution_count": 24,
     "metadata": {},
     "output_type": "execute_result"
    }
   ],
   "source": [
    "df.loc[df['MM'] == 12, 'VHCL_MKCNT'].sum()"
   ]
  },
  {
   "cell_type": "code",
   "execution_count": 25,
   "id": "77934df5",
   "metadata": {},
   "outputs": [
    {
     "name": "stdout",
     "output_type": "stream",
     "text": [
      "<class 'pandas.core.frame.DataFrame'>\n",
      "RangeIndex: 1224 entries, 0 to 1223\n",
      "Data columns (total 18 columns):\n",
      " #   Column            Non-Null Count  Dtype  \n",
      "---  ------            --------------  -----  \n",
      " 0   IDX               1224 non-null   int64  \n",
      " 1   YR                1224 non-null   int64  \n",
      " 2   QRT               1224 non-null   int64  \n",
      " 3   EXHST_GAS_GRD_CD  1224 non-null   object \n",
      " 4   FUEL_CD           1224 non-null   object \n",
      " 5   LPG_MKCNT         96 non-null     float64\n",
      " 6   LPG_PRET          312 non-null    float64\n",
      " 7   LPG_PRET_BSPLN    312 non-null    float64\n",
      " 8   LPG_PRET_AKM      312 non-null    float64\n",
      " 9   DSL_MKCNT         96 non-null     float64\n",
      " 10  DSL_PRET          312 non-null    float64\n",
      " 11  DSL_PRET_BSPLN    312 non-null    float64\n",
      " 12  DSL_PRET_AKM      312 non-null    float64\n",
      " 13  GSL_MKCNT         96 non-null     float64\n",
      " 14  GSL_PRET          312 non-null    float64\n",
      " 15  GSL_PRET_BSPLN    312 non-null    float64\n",
      " 16  GSL_PRET_AKM      312 non-null    float64\n",
      " 17  LOAD_DT           1224 non-null   int64  \n",
      "dtypes: float64(12), int64(4), object(2)\n",
      "memory usage: 172.2+ KB\n"
     ]
    }
   ],
   "source": [
    "table_name = 'STD_BD_DAT_FUEL_CAR_DEC'\n",
    "df = we.export_to_pandas(f\"SELECT * from {table_name};\")\n",
    "df.info()"
   ]
  },
  {
   "cell_type": "code",
   "execution_count": 26,
   "id": "f5a791c3",
   "metadata": {},
   "outputs": [
    {
     "data": {
      "text/plain": [
       "array([2019, 2020, 2021, 2022, 2023, 2024, 2025, 2026, 2027, 2028, 2029,\n",
       "       2030, 2031, 2032, 2033, 2034, 2035], dtype=int64)"
      ]
     },
     "execution_count": 26,
     "metadata": {},
     "output_type": "execute_result"
    }
   ],
   "source": [
    "df['YR'].unique()"
   ]
  },
  {
   "cell_type": "code",
   "execution_count": 28,
   "id": "3f7d48c3",
   "metadata": {},
   "outputs": [
    {
     "data": {
      "text/plain": [
       "array([1, 2, 3, 4], dtype=int64)"
      ]
     },
     "execution_count": 28,
     "metadata": {},
     "output_type": "execute_result"
    }
   ],
   "source": [
    "df['QRT'].unique()"
   ]
  },
  {
   "cell_type": "code",
   "execution_count": 29,
   "id": "1cf2deb2",
   "metadata": {},
   "outputs": [
    {
     "data": {
      "text/plain": [
       "LPG_MKCNT     1805025.0\n",
       "DSL_MKCNT     9339671.0\n",
       "GSL_MKCNT    11885042.0\n",
       "dtype: float64"
      ]
     },
     "execution_count": 29,
     "metadata": {},
     "output_type": "execute_result"
    }
   ],
   "source": [
    "df.loc[(df['YR'] == 2022) & (df['QRT'] == 4), ['LPG_MKCNT', 'DSL_MKCNT', 'GSL_MKCNT']].sum()"
   ]
  },
  {
   "cell_type": "code",
   "execution_count": 30,
   "id": "ae47590e",
   "metadata": {},
   "outputs": [
    {
     "data": {
      "text/plain": [
       "23029738.0"
      ]
     },
     "execution_count": 30,
     "metadata": {},
     "output_type": "execute_result"
    }
   ],
   "source": [
    "df.loc[(df['YR'] == 2022) & (df['QRT'] == 4), ['LPG_MKCNT', 'DSL_MKCNT', 'GSL_MKCNT']].sum().sum()"
   ]
  },
  {
   "cell_type": "markdown",
   "id": "cb3f4d48",
   "metadata": {},
   "source": [
    "## 본거지 법정동 코드"
   ]
  },
  {
   "cell_type": "code",
   "execution_count": 5,
   "id": "ee71bb0a",
   "metadata": {},
   "outputs": [
    {
     "data": {
      "text/plain": [
       "1"
      ]
     },
     "execution_count": 5,
     "metadata": {},
     "output_type": "execute_result"
    }
   ],
   "source": [
    "table_list = [\n",
    "    'STD_BJCD_INFO', \n",
    "    ]\n",
    "len(table_list)"
   ]
  },
  {
   "cell_type": "code",
   "execution_count": 6,
   "id": "4651b44e",
   "metadata": {},
   "outputs": [
    {
     "data": {
      "text/plain": [
       "1"
      ]
     },
     "execution_count": 6,
     "metadata": {},
     "output_type": "execute_result"
    }
   ],
   "source": [
    "len(set(table_list))"
   ]
  },
  {
   "cell_type": "code",
   "execution_count": 7,
   "id": "8c9be1e2",
   "metadata": {},
   "outputs": [
    {
     "data": {
      "text/plain": [
       "'20230904'"
      ]
     },
     "execution_count": 7,
     "metadata": {},
     "output_type": "execute_result"
    }
   ],
   "source": [
    "today_date = datetime.datetime.today().strftime(\"%Y%m%d\")\n",
    "today_date"
   ]
  },
  {
   "cell_type": "code",
   "execution_count": 8,
   "id": "6e6eec4a",
   "metadata": {},
   "outputs": [
    {
     "name": "stderr",
     "output_type": "stream",
     "text": [
      "  0%|          | 0/1 [00:00<?, ?it/s]"
     ]
    },
    {
     "name": "stderr",
     "output_type": "stream",
     "text": [
      "100%|██████████| 1/1 [00:01<00:00,  1.91s/it]"
     ]
    },
    {
     "name": "stdout",
     "output_type": "stream",
     "text": [
      "STD_BJCD_INFO(20230904).csv 출력완료\n",
      "\n",
      "코드 수행시간 : 0:00:01\n"
     ]
    },
    {
     "name": "stderr",
     "output_type": "stream",
     "text": [
      "\n"
     ]
    }
   ],
   "source": [
    "# 16m 41s\n",
    "start_time = time.time()\n",
    "for table_name in tqdm(table_list):\n",
    "    df = wd.export_to_pandas(f\"SELECT * from {table_name};\")\n",
    "    file_name = table_name + f'({today_date}).csv'\n",
    "    df.to_csv(os.path.join(std_fold, file_name), index=False)\n",
    "    print(f'{file_name} 출력완료')\n",
    "print()\n",
    "sec = time.time() - start_time\n",
    "print('코드 수행시간 : ' + str(datetime.timedelta(seconds=sec)).split('.')[0])"
   ]
  },
  {
   "cell_type": "markdown",
   "id": "b59fc47a-7468-4ec8-99c5-a129fc0c5c5f",
   "metadata": {},
   "source": [
    "# Code End"
   ]
  }
 ],
 "metadata": {
  "kernelspec": {
   "display_name": "Python 3 (ipykernel)",
   "language": "python",
   "name": "python3"
  },
  "language_info": {
   "codemirror_mode": {
    "name": "ipython",
    "version": 3
   },
   "file_extension": ".py",
   "mimetype": "text/x-python",
   "name": "python",
   "nbconvert_exporter": "python",
   "pygments_lexer": "ipython3",
   "version": "3.9.13"
  }
 },
 "nbformat": 4,
 "nbformat_minor": 5
}
