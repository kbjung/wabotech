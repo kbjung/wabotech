{
 "cells": [
  {
   "attachments": {},
   "cell_type": "markdown",
   "metadata": {},
   "source": [
    "# Library\n"
   ]
  },
  {
   "cell_type": "code",
   "execution_count": 1,
   "metadata": {},
   "outputs": [],
   "source": [
    "import pandas as pd\n",
    "import numpy as np\n",
    "import os\n",
    "from tqdm import tqdm\n",
    "from datetime import datetime"
   ]
  },
  {
   "cell_type": "code",
   "execution_count": 2,
   "metadata": {},
   "outputs": [],
   "source": [
    "# 소수점 옵션\n",
    "pd.options.display.float_format = '{:.5f}'.format\n",
    "# pd.reset_option('display.float_format')"
   ]
  },
  {
   "attachments": {},
   "cell_type": "markdown",
   "metadata": {},
   "source": [
    "# fold path"
   ]
  },
  {
   "cell_type": "code",
   "execution_count": 3,
   "metadata": {},
   "outputs": [],
   "source": [
    "drive = 'D'"
   ]
  },
  {
   "cell_type": "code",
   "execution_count": 4,
   "metadata": {},
   "outputs": [],
   "source": [
    "ods_fold = f'{drive}:/data/big2/ODS'\n",
    "big2_fold = f'{drive}:/data/big2'\n",
    "analysis_fold = f'{drive}:/data/big2/BD3/an'\n",
    "raw_fold = f'{drive}:/data/big2/BD3/raw'\n",
    "df_fold = f'{drive}:/data/big2/BD3/df'"
   ]
  },
  {
   "attachments": {},
   "cell_type": "markdown",
   "metadata": {},
   "source": [
    "# Load(❌)"
   ]
  },
  {
   "attachments": {},
   "cell_type": "markdown",
   "metadata": {},
   "source": [
    "## 등록&제원정보(4등급) result (1일평균주행거리 추가)"
   ]
  },
  {
   "cell_type": "code",
   "execution_count": 5,
   "metadata": {},
   "outputs": [
    {
     "name": "stdout",
     "output_type": "stream",
     "text": [
      "<class 'pandas.core.frame.DataFrame'>\n",
      "RangeIndex: 1502235 entries, 0 to 1502234\n",
      "Data columns (total 40 columns):\n",
      " #   Column      Non-Null Count    Dtype  \n",
      "---  ------      --------------    -----  \n",
      " 0   차대번호        1502235 non-null  object \n",
      " 1   차량번호        1502235 non-null  object \n",
      " 2   제원관리번호      1502235 non-null  object \n",
      " 3   차종          1502235 non-null  object \n",
      " 4   용도          1502235 non-null  object \n",
      " 5   최초등록일       1502235 non-null  int64  \n",
      " 6   연식          1502235 non-null  int64  \n",
      " 7   제작일자        1335178 non-null  float64\n",
      " 8   검사유효일       1502223 non-null  float64\n",
      " 9   배출가스인증번호    1384783 non-null  object \n",
      " 10  등급          1502235 non-null  int64  \n",
      " 11  차명          1502235 non-null  object \n",
      " 12  차종분류        1502235 non-null  object \n",
      " 13  차종유형        1502235 non-null  object \n",
      " 14  자동차형식       1501958 non-null  object \n",
      " 15  제작사명        1492590 non-null  object \n",
      " 16  연료          1502235 non-null  object \n",
      " 17  엔진형식        1500400 non-null  object \n",
      " 18  총중량         1502234 non-null  float64\n",
      " 19  적재중량        1501728 non-null  float64\n",
      " 20  엔진출력        1501882 non-null  object \n",
      " 21  배기량         1502231 non-null  float64\n",
      " 22  법정동코드       1502235 non-null  int64  \n",
      " 23  시도명         1502235 non-null  object \n",
      " 24  시군구명        1502235 non-null  object \n",
      " 25  소유자구분       1502235 non-null  object \n",
      " 26  말소여부        1502235 non-null  object \n",
      " 27  일치유무        1153813 non-null  object \n",
      " 28  인증번호 수정 유무  1151141 non-null  object \n",
      " 29  배인번호_수정     1153813 non-null  object \n",
      " 30  등급_수정       1502235 non-null  float64\n",
      " 31  DPF유무_수정    1153813 non-null  object \n",
      " 32  배출가스        1151141 non-null  object \n",
      " 33  등급2         1151141 non-null  object \n",
      " 34  DPF         1144315 non-null  object \n",
      " 35  비고          46494 non-null    object \n",
      " 36  Grade       1497711 non-null  object \n",
      " 37  차령          1502235 non-null  int64  \n",
      " 38  시군구명_수정     1502235 non-null  object \n",
      " 39  1일평균주행거리    1502235 non-null  float64\n",
      "dtypes: float64(7), int64(5), object(28)\n",
      "memory usage: 458.4+ MB\n"
     ]
    }
   ],
   "source": [
    "# about 17.7s\n",
    "name = '4등급_차량_리스트_양식_result(전체)_Grade_추가_1일평균주행거리_추가(2023.04.19_PM.02.25.59)'\n",
    "file_name = f'{name}.csv'\n",
    "g4 = pd.read_csv(os.path.join(ods_fold, file_name), low_memory=False)\n",
    "g4.info()"
   ]
  },
  {
   "cell_type": "code",
   "execution_count": 6,
   "metadata": {},
   "outputs": [
    {
     "data": {
      "text/plain": [
       "Index(['차대번호', '차량번호', '제원관리번호', '차종', '용도', '최초등록일', '연식', '제작일자', '검사유효일',\n",
       "       '배출가스인증번호', '등급', '차명', '차종분류', '차종유형', '자동차형식', '제작사명', '연료', '엔진형식',\n",
       "       '총중량', '적재중량', '엔진출력', '배기량', '법정동코드', '시도명', '시군구명', '소유자구분', '말소여부',\n",
       "       '일치유무', '인증번호 수정 유무', '배인번호_수정', '등급_수정', 'DPF유무_수정', '배출가스', '등급2',\n",
       "       'DPF', '비고', 'Grade', '차령', '시군구명_수정', '1일평균주행거리'],\n",
       "      dtype='object')"
      ]
     },
     "execution_count": 6,
     "metadata": {},
     "output_type": "execute_result"
    }
   ],
   "source": [
    "g4.columns"
   ]
  },
  {
   "cell_type": "code",
   "execution_count": 7,
   "metadata": {},
   "outputs": [
    {
     "data": {
      "text/plain": [
       "(1502235, 33)"
      ]
     },
     "execution_count": 7,
     "metadata": {},
     "output_type": "execute_result"
    }
   ],
   "source": [
    "g4 = g4.drop(['일치유무', '인증번호 수정 유무', '배출가스', '등급2', 'DPF', '비고', '차령'], axis=1)\n",
    "g4.shape"
   ]
  },
  {
   "attachments": {},
   "cell_type": "markdown",
   "metadata": {},
   "source": [
    "### 등급 수정\n",
    "- 5등급으로 수정\n",
    "    - 배인번호_수정 : 4MY-DB-04, 24개\n",
    "    - 배인번호_수정 : 4MY-DB-03, 9개"
   ]
  },
  {
   "cell_type": "code",
   "execution_count": 8,
   "metadata": {},
   "outputs": [
    {
     "data": {
      "text/plain": [
       "(24, 33)"
      ]
     },
     "execution_count": 8,
     "metadata": {},
     "output_type": "execute_result"
    }
   ],
   "source": [
    "g4.loc[g4['배인번호_수정'] == '4MY-DB-04'].shape"
   ]
  },
  {
   "cell_type": "code",
   "execution_count": 9,
   "metadata": {},
   "outputs": [
    {
     "data": {
      "text/plain": [
       "array([4.])"
      ]
     },
     "execution_count": 9,
     "metadata": {},
     "output_type": "execute_result"
    }
   ],
   "source": [
    "g4.loc[g4['배인번호_수정'] == '4MY-DB-04', '등급_수정'].unique()"
   ]
  },
  {
   "cell_type": "code",
   "execution_count": 10,
   "metadata": {},
   "outputs": [],
   "source": [
    "g4.loc[g4['배인번호_수정'] == '4MY-DB-04', '등급_수정'] = 5"
   ]
  },
  {
   "cell_type": "code",
   "execution_count": 11,
   "metadata": {},
   "outputs": [
    {
     "data": {
      "text/plain": [
       "array([5.])"
      ]
     },
     "execution_count": 11,
     "metadata": {},
     "output_type": "execute_result"
    }
   ],
   "source": [
    "g4.loc[g4['배인번호_수정'] == '4MY-DB-04', '등급_수정'].unique()"
   ]
  },
  {
   "cell_type": "code",
   "execution_count": 12,
   "metadata": {},
   "outputs": [
    {
     "data": {
      "text/plain": [
       "(9, 33)"
      ]
     },
     "execution_count": 12,
     "metadata": {},
     "output_type": "execute_result"
    }
   ],
   "source": [
    "g4.loc[g4['배인번호_수정'] == '4MY-DB-03'].shape"
   ]
  },
  {
   "cell_type": "code",
   "execution_count": 13,
   "metadata": {},
   "outputs": [
    {
     "data": {
      "text/plain": [
       "array([4.])"
      ]
     },
     "execution_count": 13,
     "metadata": {},
     "output_type": "execute_result"
    }
   ],
   "source": [
    "g4.loc[g4['배인번호_수정'] == '4MY-DB-03', '등급_수정'].unique()"
   ]
  },
  {
   "cell_type": "code",
   "execution_count": 14,
   "metadata": {},
   "outputs": [],
   "source": [
    "g4.loc[g4['배인번호_수정'] == '4MY-DB-03', '등급_수정'] = 5"
   ]
  },
  {
   "cell_type": "code",
   "execution_count": 15,
   "metadata": {},
   "outputs": [
    {
     "data": {
      "text/plain": [
       "array([5.])"
      ]
     },
     "execution_count": 15,
     "metadata": {},
     "output_type": "execute_result"
    }
   ],
   "source": [
    "g4.loc[g4['배인번호_수정'] == '4MY-DB-03', '등급_수정'].unique()"
   ]
  },
  {
   "cell_type": "code",
   "execution_count": 16,
   "metadata": {},
   "outputs": [
    {
     "data": {
      "text/plain": [
       "등급_수정\n",
       "4.00000    1497678\n",
       "3.00000       4397\n",
       "5.00000        160\n",
       "Name: count, dtype: int64"
      ]
     },
     "execution_count": 16,
     "metadata": {},
     "output_type": "execute_result"
    }
   ],
   "source": [
    "g4['등급_수정'].value_counts(dropna=False)"
   ]
  },
  {
   "attachments": {},
   "cell_type": "markdown",
   "metadata": {},
   "source": [
    "## 등록&제원정보(5등급)"
   ]
  },
  {
   "cell_type": "code",
   "execution_count": 17,
   "metadata": {},
   "outputs": [
    {
     "name": "stdout",
     "output_type": "stream",
     "text": [
      "<class 'pandas.core.frame.DataFrame'>\n",
      "RangeIndex: 2378648 entries, 0 to 2378647\n",
      "Data columns (total 49 columns):\n",
      " #   Column        Dtype  \n",
      "---  ------        -----  \n",
      " 0   차량관리번호        object \n",
      " 1   차량등록번호        object \n",
      " 2   본거지법정동코드      int64  \n",
      " 3   소유자구분         object \n",
      " 4   차종_등록정보       object \n",
      " 5   용도            object \n",
      " 6   현재회원번호        object \n",
      " 7   차대번호          object \n",
      " 8   최초등록일자        int64  \n",
      " 9   차량연식          int64  \n",
      " 10  차량제작일자        float64\n",
      " 11  배출가스검사유효일자    float64\n",
      " 12  제원관리번호        object \n",
      " 13  배출가스인증번호      object \n",
      " 14  배출가스등급        object \n",
      " 15  저공해조치YN(미사용)  object \n",
      " 16  저공해조치종류       float64\n",
      " 17  저공해조치구조변경YN   object \n",
      " 18  차량등록번호숫자정보    int64  \n",
      " 19  차량말소YN        object \n",
      " 20  최초회원번호        object \n",
      " 21  취득일자          float64\n",
      " 22  취득금액          float64\n",
      " 23  생성일시_등록정보     object \n",
      " 24  수정일시_등록정보     object \n",
      " 25  차명            object \n",
      " 26  차종_제원정보       object \n",
      " 27  차종분류          object \n",
      " 28  차종유형(소분류)     object \n",
      " 29  자동차형식         object \n",
      " 30  제작사명          object \n",
      " 31  연료            object \n",
      " 32  엔진형식          object \n",
      " 33  공차중량          float64\n",
      " 34  총중량           float64\n",
      " 35  적재중량          float64\n",
      " 36  엔진출력          float64\n",
      " 37  배기량           float64\n",
      " 38  승차인원          float64\n",
      " 39  차량길이          float64\n",
      " 40  차량너비          float64\n",
      " 41  차량높이          float64\n",
      " 42  원산지명          object \n",
      " 43  삭제YN          object \n",
      " 44  승인일자          object \n",
      " 45  구동형식          float64\n",
      " 46  변속기종류         object \n",
      " 47  생성일시_제원정보     object \n",
      " 48  수정일시_제원정보     object \n",
      "dtypes: float64(15), int64(4), object(30)\n",
      "memory usage: 889.2+ MB\n"
     ]
    }
   ],
   "source": [
    "# about 37.6s\n",
    "name = '[ODS][G5]등록정보&제원정보(2022.12.28)'\n",
    "file_name = f'{name}.csv'\n",
    "g5 = pd.read_csv(os.path.join(ods_fold, file_name), low_memory=False, encoding='cp949')\n",
    "g5.info()"
   ]
  },
  {
   "attachments": {},
   "cell_type": "markdown",
   "metadata": {},
   "source": [
    "## 정기, 정밀검사"
   ]
  },
  {
   "cell_type": "code",
   "execution_count": 18,
   "metadata": {},
   "outputs": [
    {
     "name": "stdout",
     "output_type": "stream",
     "text": [
      "<class 'pandas.core.frame.DataFrame'>\n",
      "RangeIndex: 50688654 entries, 0 to 50688653\n",
      "Data columns (total 35 columns):\n",
      " #   Column     Dtype  \n",
      "---  ------     -----  \n",
      " 0   사용연료       object \n",
      " 1   주행거리       object \n",
      " 2   차명         object \n",
      " 3   차량번호       object \n",
      " 4   차대번호       object \n",
      " 5   차종         object \n",
      " 6   차량연식       int64  \n",
      " 7   엔진형식       object \n",
      " 8   검사방법       object \n",
      " 9   검사일자       int64  \n",
      " 10  검사종류       object \n",
      " 11  검사판정시각     object \n",
      " 12  검사판정       object \n",
      " 13  산소값        float64\n",
      " 14  이산화탄소값     float64\n",
      " 15  무부하매연판정1   object \n",
      " 16  무부하매연판정2   object \n",
      " 17  무부하매연판정3   object \n",
      " 18  무부하매연판정4   object \n",
      " 19  무부하매연판정5   object \n",
      " 20  무부하매연판정6   object \n",
      " 21  무부하매연허용치1  float64\n",
      " 22  무부하매연허용치2  float64\n",
      " 23  무부하매연허용치3  float64\n",
      " 24  무부하매연허용치4  float64\n",
      " 25  무부하매연허용치5  float64\n",
      " 26  무부하매연허용치6  float64\n",
      " 27  무부하매연측정치1  float64\n",
      " 28  무부하매연측정치2  float64\n",
      " 29  무부하매연측정치3  float64\n",
      " 30  무부하매연측정치4  float64\n",
      " 31  무부하매연측정치5  float64\n",
      " 32  무부하매연측정치6  float64\n",
      " 33  검사유효기간     object \n",
      " 34  정기정밀       object \n",
      "dtypes: float64(14), int64(2), object(19)\n",
      "memory usage: 13.2+ GB\n"
     ]
    }
   ],
   "source": [
    "# about 7m 35.4s\n",
    "name = '[ODS]정기&정밀검사(2022.12.28)'\n",
    "file_name = f'{name}.csv'\n",
    "ins = pd.read_csv(os.path.join(ods_fold, file_name), low_memory=False, encoding='cp949', usecols=['차대번호', '주행거리', '검사일자', '검사방법', '검사종류', '검사판정', '무부하매연판정1', '무부하매연판정2', '무부하매연판정3', '무부하매연측정치1', '무부하매연측정치2', '무부하매연측정치3'])\n",
    "ins.info()"
   ]
  },
  {
   "attachments": {},
   "cell_type": "markdown",
   "metadata": {},
   "source": [
    "## 노후차 조기폐차 관리정보 수도권"
   ]
  },
  {
   "cell_type": "code",
   "execution_count": 19,
   "metadata": {},
   "outputs": [
    {
     "name": "stdout",
     "output_type": "stream",
     "text": [
      "<class 'pandas.core.frame.DataFrame'>\n",
      "RangeIndex: 5 entries, 0 to 4\n",
      "Data columns (total 2 columns):\n",
      " #   Column      Non-Null Count  Dtype \n",
      "---  ------      --------------  ----- \n",
      " 0   차대번호        5 non-null      object\n",
      " 1   조기폐차최종승인YN  3 non-null      object\n",
      "dtypes: object(2)\n",
      "memory usage: 208.0+ bytes\n"
     ]
    }
   ],
   "source": [
    "# about 18.8s\n",
    "name = '[ODS]노후차_조기폐차_관리정보_수도권(2022.12.28)'\n",
    "file_name = f'{name}.csv'\n",
    "aea = pd.read_csv(os.path.join(ods_fold, file_name), low_memory=False, encoding='cp949', usecols=['차대번호', '조기폐차최종승인YN'], nrows=5)\n",
    "# aea = pd.read_csv(os.path.join(ods_fold, file_name), low_memory=False, encoding='cp949', nrows=5)\n",
    "aea.info()"
   ]
  },
  {
   "attachments": {},
   "cell_type": "markdown",
   "metadata": {},
   "source": [
    "## 노후차 조기폐차 관리정보 수도권 외"
   ]
  },
  {
   "cell_type": "code",
   "execution_count": 20,
   "metadata": {},
   "outputs": [
    {
     "name": "stdout",
     "output_type": "stream",
     "text": [
      "<class 'pandas.core.frame.DataFrame'>\n",
      "RangeIndex: 291353 entries, 0 to 291352\n",
      "Data columns (total 2 columns):\n",
      " #   Column      Non-Null Count   Dtype \n",
      "---  ------      --------------   ----- \n",
      " 0   차대번호        291353 non-null  object\n",
      " 1   조기폐차최종승인YN  128589 non-null  object\n",
      "dtypes: object(2)\n",
      "memory usage: 4.4+ MB\n"
     ]
    }
   ],
   "source": [
    "# about 5.2s\n",
    "name = '[ODS]노후차_조기폐차_관리정보_수도권외(2022.12.28)'\n",
    "file_name = f'{name}.csv'\n",
    "lgv = pd.read_csv(os.path.join(ods_fold, file_name), low_memory=False, encoding='cp949', usecols=['차대번호', '조기폐차최종승인YN'])\n",
    "lgv.info()"
   ]
  },
  {
   "attachments": {},
   "cell_type": "markdown",
   "metadata": {},
   "source": [
    "## 저감장치 부착이력"
   ]
  },
  {
   "cell_type": "code",
   "execution_count": 21,
   "metadata": {},
   "outputs": [
    {
     "name": "stdout",
     "output_type": "stream",
     "text": [
      "<class 'pandas.core.frame.DataFrame'>\n",
      "RangeIndex: 810777 entries, 0 to 810776\n",
      "Data columns (total 3 columns):\n",
      " #   Column  Non-Null Count   Dtype \n",
      "---  ------  --------------   ----- \n",
      " 0   차대번호    810777 non-null  object\n",
      " 1   저감장치구분  810777 non-null  object\n",
      " 2   장치일련번호  682711 non-null  object\n",
      "dtypes: object(3)\n",
      "memory usage: 18.6+ MB\n"
     ]
    }
   ],
   "source": [
    "# about 2.3s\n",
    "name = '[ODS]저감장치부착이력(2022.12.28)'\n",
    "file_name = f'{name}.csv'\n",
    "# att = pd.read_csv(os.path.join(ods_fold, file_name), low_memory=False, encoding='cp949', nrows=5)\n",
    "att = pd.read_csv(os.path.join(ods_fold, file_name), low_memory=False, encoding='cp949', usecols=['차대번호', '저감장치구분', '장치일련번호'])\n",
    "att.info()"
   ]
  },
  {
   "cell_type": "code",
   "execution_count": 22,
   "metadata": {},
   "outputs": [
    {
     "data": {
      "text/html": [
       "<div>\n",
       "<style scoped>\n",
       "    .dataframe tbody tr th:only-of-type {\n",
       "        vertical-align: middle;\n",
       "    }\n",
       "\n",
       "    .dataframe tbody tr th {\n",
       "        vertical-align: top;\n",
       "    }\n",
       "\n",
       "    .dataframe thead th {\n",
       "        text-align: right;\n",
       "    }\n",
       "</style>\n",
       "<table border=\"1\" class=\"dataframe\">\n",
       "  <thead>\n",
       "    <tr style=\"text-align: right;\">\n",
       "      <th></th>\n",
       "      <th>차대번호</th>\n",
       "      <th>저감장치구분</th>\n",
       "      <th>장치일련번호</th>\n",
       "    </tr>\n",
       "  </thead>\n",
       "  <tbody>\n",
       "    <tr>\n",
       "      <th>810772</th>\n",
       "      <td>KNHMB76136S060237</td>\n",
       "      <td>1종</td>\n",
       "      <td>D2000196</td>\n",
       "    </tr>\n",
       "    <tr>\n",
       "      <th>810773</th>\n",
       "      <td>KMHWP81HP4U600383</td>\n",
       "      <td>1종</td>\n",
       "      <td>JL10024</td>\n",
       "    </tr>\n",
       "    <tr>\n",
       "      <th>810774</th>\n",
       "      <td>KMHSH81WP7U170166</td>\n",
       "      <td>1종</td>\n",
       "      <td>JL10030</td>\n",
       "    </tr>\n",
       "    <tr>\n",
       "      <th>810775</th>\n",
       "      <td>KMHSD81VP4U844689</td>\n",
       "      <td>1종</td>\n",
       "      <td>D2000363</td>\n",
       "    </tr>\n",
       "    <tr>\n",
       "      <th>810776</th>\n",
       "      <td>KNAJC52437A713806</td>\n",
       "      <td>1종</td>\n",
       "      <td>D2000106</td>\n",
       "    </tr>\n",
       "  </tbody>\n",
       "</table>\n",
       "</div>"
      ],
      "text/plain": [
       "                     차대번호 저감장치구분    장치일련번호\n",
       "810772  KNHMB76136S060237     1종  D2000196\n",
       "810773  KMHWP81HP4U600383     1종   JL10024\n",
       "810774  KMHSH81WP7U170166     1종   JL10030\n",
       "810775  KMHSD81VP4U844689     1종  D2000363\n",
       "810776  KNAJC52437A713806     1종  D2000106"
      ]
     },
     "execution_count": 22,
     "metadata": {},
     "output_type": "execute_result"
    }
   ],
   "source": [
    "att.tail()"
   ]
  },
  {
   "attachments": {},
   "cell_type": "markdown",
   "metadata": {},
   "source": [
    "## 저감장치 인증등록번호(eff)"
   ]
  },
  {
   "cell_type": "code",
   "execution_count": 23,
   "metadata": {},
   "outputs": [
    {
     "name": "stdout",
     "output_type": "stream",
     "text": [
      "<class 'pandas.core.frame.DataFrame'>\n",
      "RangeIndex: 111071 entries, 0 to 111070\n",
      "Data columns (total 6 columns):\n",
      " #   Column    Non-Null Count   Dtype  \n",
      "---  ------    --------------   -----  \n",
      " 0   저감장치      111071 non-null  object \n",
      " 1   배출가스인증번호  111071 non-null  object \n",
      " 2   장치일련번호    111071 non-null  object \n",
      " 3   장치인증번호    303 non-null     object \n",
      " 4   장치구분      261 non-null     object \n",
      " 5   저감효율      303 non-null     float64\n",
      "dtypes: float64(1), object(5)\n",
      "memory usage: 5.1+ MB\n"
     ]
    }
   ],
   "source": [
    "# about 2.3s\n",
    "name = '저감장치_효율(2022.12.28)'\n",
    "file_name = f'{name}.csv'\n",
    "# att = pd.read_csv(os.path.join(ods_fold, file_name), low_memory=False, encoding='cp949', nrows=5)\n",
    "eff = pd.read_csv(os.path.join(ods_fold, file_name), low_memory=False, encoding='cp949')\n",
    "eff.info()"
   ]
  },
  {
   "cell_type": "code",
   "execution_count": 24,
   "metadata": {},
   "outputs": [
    {
     "data": {
      "text/html": [
       "<div>\n",
       "<style scoped>\n",
       "    .dataframe tbody tr th:only-of-type {\n",
       "        vertical-align: middle;\n",
       "    }\n",
       "\n",
       "    .dataframe tbody tr th {\n",
       "        vertical-align: top;\n",
       "    }\n",
       "\n",
       "    .dataframe thead th {\n",
       "        text-align: right;\n",
       "    }\n",
       "</style>\n",
       "<table border=\"1\" class=\"dataframe\">\n",
       "  <thead>\n",
       "    <tr style=\"text-align: right;\">\n",
       "      <th></th>\n",
       "      <th>저감장치</th>\n",
       "      <th>배출가스인증번호</th>\n",
       "      <th>장치일련번호</th>\n",
       "      <th>장치인증번호</th>\n",
       "      <th>장치구분</th>\n",
       "      <th>저감효율</th>\n",
       "    </tr>\n",
       "  </thead>\n",
       "  <tbody>\n",
       "    <tr>\n",
       "      <th>742</th>\n",
       "      <td>DPF</td>\n",
       "      <td>2MY-HD-07</td>\n",
       "      <td>2024</td>\n",
       "      <td>FF1-HK-01</td>\n",
       "      <td>복합대형</td>\n",
       "      <td>95.20000</td>\n",
       "    </tr>\n",
       "    <tr>\n",
       "      <th>6936</th>\n",
       "      <td>DPF</td>\n",
       "      <td>3MY-HD-06</td>\n",
       "      <td>1050</td>\n",
       "      <td>BF1-IJ-01</td>\n",
       "      <td>복합소형</td>\n",
       "      <td>98.20000</td>\n",
       "    </tr>\n",
       "    <tr>\n",
       "      <th>6937</th>\n",
       "      <td>DPF</td>\n",
       "      <td>3MY-HD-06</td>\n",
       "      <td>1069</td>\n",
       "      <td>CF1-FT-01</td>\n",
       "      <td>복합소형</td>\n",
       "      <td>98.80000</td>\n",
       "    </tr>\n",
       "    <tr>\n",
       "      <th>6938</th>\n",
       "      <td>DPF</td>\n",
       "      <td>3MY-HD-06</td>\n",
       "      <td>1515</td>\n",
       "      <td>7F1-CE-01</td>\n",
       "      <td>복합중형</td>\n",
       "      <td>92.00000</td>\n",
       "    </tr>\n",
       "    <tr>\n",
       "      <th>6939</th>\n",
       "      <td>DPF</td>\n",
       "      <td>3MY-HD-06</td>\n",
       "      <td>1526</td>\n",
       "      <td>BF1-IJ-01</td>\n",
       "      <td>복합소형</td>\n",
       "      <td>98.20000</td>\n",
       "    </tr>\n",
       "  </tbody>\n",
       "</table>\n",
       "</div>"
      ],
      "text/plain": [
       "     저감장치   배출가스인증번호 장치일련번호     장치인증번호  장치구분     저감효율\n",
       "742   DPF  2MY-HD-07   2024  FF1-HK-01  복합대형 95.20000\n",
       "6936  DPF  3MY-HD-06   1050  BF1-IJ-01  복합소형 98.20000\n",
       "6937  DPF  3MY-HD-06   1069  CF1-FT-01  복합소형 98.80000\n",
       "6938  DPF  3MY-HD-06   1515  7F1-CE-01  복합중형 92.00000\n",
       "6939  DPF  3MY-HD-06   1526  BF1-IJ-01  복합소형 98.20000"
      ]
     },
     "execution_count": 24,
     "metadata": {},
     "output_type": "execute_result"
    }
   ],
   "source": [
    "eff.loc[eff['장치인증번호'].isnull() == False].head()"
   ]
  },
  {
   "cell_type": "code",
   "execution_count": 25,
   "metadata": {},
   "outputs": [
    {
     "data": {
      "text/plain": [
       "98.8"
      ]
     },
     "execution_count": 25,
     "metadata": {},
     "output_type": "execute_result"
    }
   ],
   "source": [
    "eff['저감효율'].max()"
   ]
  },
  {
   "attachments": {},
   "cell_type": "markdown",
   "metadata": {},
   "source": [
    "## 4, 5등급 검사 비교"
   ]
  },
  {
   "cell_type": "code",
   "execution_count": 26,
   "metadata": {},
   "outputs": [
    {
     "name": "stdout",
     "output_type": "stream",
     "text": [
      "<class 'pandas.core.frame.DataFrame'>\n",
      "RangeIndex: 3185932 entries, 0 to 3185931\n",
      "Data columns (total 10 columns):\n",
      " #   Column    Dtype  \n",
      "---  ------    -----  \n",
      " 0   배출가스등급    object \n",
      " 1   차대번호      object \n",
      " 2   최신검사일자    int64  \n",
      " 3   최신주행거리    float64\n",
      " 4   이전검사일자    float64\n",
      " 5   이전주행거리    float64\n",
      " 6   검사일자차이    float64\n",
      " 7   주행거리차이    float64\n",
      " 8   최신경과기간    int64  \n",
      " 9   일일평균주행거리  float64\n",
      "dtypes: float64(6), int64(2), object(2)\n",
      "memory usage: 243.1+ MB\n"
     ]
    }
   ],
   "source": [
    "# about 7.7s\n",
    "name = '45등급 검사비교3'\n",
    "file_name = f'{name}.csv'\n",
    "chk = pd.read_csv(os.path.join(ods_fold, file_name), low_memory=False, encoding='cp949')\n",
    "chk.info()"
   ]
  },
  {
   "cell_type": "code",
   "execution_count": 27,
   "metadata": {},
   "outputs": [
    {
     "data": {
      "text/html": [
       "<div>\n",
       "<style scoped>\n",
       "    .dataframe tbody tr th:only-of-type {\n",
       "        vertical-align: middle;\n",
       "    }\n",
       "\n",
       "    .dataframe tbody tr th {\n",
       "        vertical-align: top;\n",
       "    }\n",
       "\n",
       "    .dataframe thead th {\n",
       "        text-align: right;\n",
       "    }\n",
       "</style>\n",
       "<table border=\"1\" class=\"dataframe\">\n",
       "  <thead>\n",
       "    <tr style=\"text-align: right;\">\n",
       "      <th></th>\n",
       "      <th>배출가스등급</th>\n",
       "      <th>차대번호</th>\n",
       "      <th>최신검사일자</th>\n",
       "      <th>최신주행거리</th>\n",
       "      <th>이전검사일자</th>\n",
       "      <th>이전주행거리</th>\n",
       "      <th>검사일자차이</th>\n",
       "      <th>주행거리차이</th>\n",
       "      <th>최신경과기간</th>\n",
       "      <th>일일평균주행거리</th>\n",
       "    </tr>\n",
       "  </thead>\n",
       "  <tbody>\n",
       "    <tr>\n",
       "      <th>0</th>\n",
       "      <td>4</td>\n",
       "      <td>119213301753다</td>\n",
       "      <td>20220407</td>\n",
       "      <td>128563.00000</td>\n",
       "      <td>20200409.00000</td>\n",
       "      <td>128272.00000</td>\n",
       "      <td>728.00000</td>\n",
       "      <td>291.00000</td>\n",
       "      <td>393</td>\n",
       "      <td>0.39973</td>\n",
       "    </tr>\n",
       "    <tr>\n",
       "      <th>1</th>\n",
       "      <td>4</td>\n",
       "      <td>119213302021</td>\n",
       "      <td>20220920</td>\n",
       "      <td>338000.00000</td>\n",
       "      <td>NaN</td>\n",
       "      <td>NaN</td>\n",
       "      <td>NaN</td>\n",
       "      <td>NaN</td>\n",
       "      <td>227</td>\n",
       "      <td>NaN</td>\n",
       "    </tr>\n",
       "    <tr>\n",
       "      <th>2</th>\n",
       "      <td>4</td>\n",
       "      <td>119213302036</td>\n",
       "      <td>20210310</td>\n",
       "      <td>208364.00000</td>\n",
       "      <td>20210309.00000</td>\n",
       "      <td>208364.00000</td>\n",
       "      <td>1.00000</td>\n",
       "      <td>0.00000</td>\n",
       "      <td>786</td>\n",
       "      <td>0.00000</td>\n",
       "    </tr>\n",
       "    <tr>\n",
       "      <th>3</th>\n",
       "      <td>4</td>\n",
       "      <td>119213302045</td>\n",
       "      <td>20201223</td>\n",
       "      <td>94103.00000</td>\n",
       "      <td>20190114.00000</td>\n",
       "      <td>93977.00000</td>\n",
       "      <td>709.00000</td>\n",
       "      <td>126.00000</td>\n",
       "      <td>863</td>\n",
       "      <td>0.17772</td>\n",
       "    </tr>\n",
       "    <tr>\n",
       "      <th>4</th>\n",
       "      <td>4</td>\n",
       "      <td>119213302046</td>\n",
       "      <td>20210719</td>\n",
       "      <td>163026.00000</td>\n",
       "      <td>NaN</td>\n",
       "      <td>NaN</td>\n",
       "      <td>NaN</td>\n",
       "      <td>NaN</td>\n",
       "      <td>655</td>\n",
       "      <td>NaN</td>\n",
       "    </tr>\n",
       "  </tbody>\n",
       "</table>\n",
       "</div>"
      ],
      "text/plain": [
       "  배출가스등급           차대번호    최신검사일자       최신주행거리         이전검사일자       이전주행거리   \n",
       "0      4  119213301753다  20220407 128563.00000 20200409.00000 128272.00000  \\\n",
       "1      4   119213302021  20220920 338000.00000            NaN          NaN   \n",
       "2      4   119213302036  20210310 208364.00000 20210309.00000 208364.00000   \n",
       "3      4   119213302045  20201223  94103.00000 20190114.00000  93977.00000   \n",
       "4      4   119213302046  20210719 163026.00000            NaN          NaN   \n",
       "\n",
       "     검사일자차이    주행거리차이  최신경과기간  일일평균주행거리  \n",
       "0 728.00000 291.00000     393   0.39973  \n",
       "1       NaN       NaN     227       NaN  \n",
       "2   1.00000   0.00000     786   0.00000  \n",
       "3 709.00000 126.00000     863   0.17772  \n",
       "4       NaN       NaN     655       NaN  "
      ]
     },
     "execution_count": 27,
     "metadata": {},
     "output_type": "execute_result"
    }
   ],
   "source": [
    "chk.head()"
   ]
  },
  {
   "cell_type": "code",
   "execution_count": 28,
   "metadata": {},
   "outputs": [
    {
     "data": {
      "text/plain": [
       "주행거리차이    832398\n",
       "최신경과기간         0\n",
       "dtype: int64"
      ]
     },
     "execution_count": 28,
     "metadata": {},
     "output_type": "execute_result"
    }
   ],
   "source": [
    "chk[['주행거리차이', '최신경과기간']].isnull().sum()"
   ]
  },
  {
   "attachments": {},
   "cell_type": "markdown",
   "metadata": {},
   "source": [
    "## 차명_연료_매칭"
   ]
  },
  {
   "cell_type": "code",
   "execution_count": 29,
   "metadata": {},
   "outputs": [
    {
     "name": "stdout",
     "output_type": "stream",
     "text": [
      "<class 'pandas.core.frame.DataFrame'>\n",
      "RangeIndex: 216 entries, 0 to 215\n",
      "Data columns (total 2 columns):\n",
      " #   Column  Non-Null Count  Dtype \n",
      "---  ------  --------------  ----- \n",
      " 0   차명      216 non-null    object\n",
      " 1   연료      216 non-null    object\n",
      "dtypes: object(2)\n",
      "memory usage: 3.5+ KB\n"
     ]
    }
   ],
   "source": [
    "# about 0.6s\n",
    "name = '차명_연료_매칭_2023.03.03_AM.11.12.03'\n",
    "file_name = f'{name}.xlsx'\n",
    "fuel = pd.read_excel(os.path.join(big2_fold, file_name))\n",
    "fuel.info()"
   ]
  },
  {
   "attachments": {},
   "cell_type": "markdown",
   "metadata": {},
   "source": [
    "## 법정동 코드"
   ]
  },
  {
   "cell_type": "code",
   "execution_count": 30,
   "metadata": {},
   "outputs": [
    {
     "name": "stdout",
     "output_type": "stream",
     "text": [
      "<class 'pandas.core.frame.DataFrame'>\n",
      "RangeIndex: 46342 entries, 0 to 46341\n",
      "Data columns (total 3 columns):\n",
      " #   Column  Non-Null Count  Dtype \n",
      "---  ------  --------------  ----- \n",
      " 0   법정동코드   46342 non-null  int64 \n",
      " 1   시도      46342 non-null  object\n",
      " 2   시구군     46319 non-null  object\n",
      "dtypes: int64(1), object(2)\n",
      "memory usage: 1.1+ MB\n"
     ]
    }
   ],
   "source": [
    "# about 5.6s\n",
    "name = '법정동코드_2022.10.14(수정2023.05.04)'\n",
    "file_name = f'{name}.xlsx'\n",
    "code = pd.read_excel(os.path.join(big2_fold, file_name), usecols=['법정동코드', '시도', '시구군'])\n",
    "code.info()"
   ]
  },
  {
   "cell_type": "code",
   "execution_count": 31,
   "metadata": {},
   "outputs": [
    {
     "data": {
      "text/html": [
       "<div>\n",
       "<style scoped>\n",
       "    .dataframe tbody tr th:only-of-type {\n",
       "        vertical-align: middle;\n",
       "    }\n",
       "\n",
       "    .dataframe tbody tr th {\n",
       "        vertical-align: top;\n",
       "    }\n",
       "\n",
       "    .dataframe thead th {\n",
       "        text-align: right;\n",
       "    }\n",
       "</style>\n",
       "<table border=\"1\" class=\"dataframe\">\n",
       "  <thead>\n",
       "    <tr style=\"text-align: right;\">\n",
       "      <th></th>\n",
       "      <th>법정동코드</th>\n",
       "      <th>시도</th>\n",
       "      <th>시구군</th>\n",
       "    </tr>\n",
       "  </thead>\n",
       "  <tbody>\n",
       "    <tr>\n",
       "      <th>0</th>\n",
       "      <td>1100000000</td>\n",
       "      <td>서울특별시</td>\n",
       "      <td>NaN</td>\n",
       "    </tr>\n",
       "    <tr>\n",
       "      <th>1</th>\n",
       "      <td>1111000000</td>\n",
       "      <td>서울특별시</td>\n",
       "      <td>종로구</td>\n",
       "    </tr>\n",
       "    <tr>\n",
       "      <th>2</th>\n",
       "      <td>1111010100</td>\n",
       "      <td>서울특별시</td>\n",
       "      <td>종로구</td>\n",
       "    </tr>\n",
       "    <tr>\n",
       "      <th>3</th>\n",
       "      <td>1111010200</td>\n",
       "      <td>서울특별시</td>\n",
       "      <td>종로구</td>\n",
       "    </tr>\n",
       "    <tr>\n",
       "      <th>4</th>\n",
       "      <td>1111010300</td>\n",
       "      <td>서울특별시</td>\n",
       "      <td>종로구</td>\n",
       "    </tr>\n",
       "  </tbody>\n",
       "</table>\n",
       "</div>"
      ],
      "text/plain": [
       "        법정동코드     시도  시구군\n",
       "0  1100000000  서울특별시  NaN\n",
       "1  1111000000  서울특별시  종로구\n",
       "2  1111010100  서울특별시  종로구\n",
       "3  1111010200  서울특별시  종로구\n",
       "4  1111010300  서울특별시  종로구"
      ]
     },
     "execution_count": 31,
     "metadata": {},
     "output_type": "execute_result"
    }
   ],
   "source": [
    "code.head()"
   ]
  },
  {
   "cell_type": "code",
   "execution_count": 32,
   "metadata": {},
   "outputs": [
    {
     "data": {
      "text/html": [
       "<div>\n",
       "<style scoped>\n",
       "    .dataframe tbody tr th:only-of-type {\n",
       "        vertical-align: middle;\n",
       "    }\n",
       "\n",
       "    .dataframe tbody tr th {\n",
       "        vertical-align: top;\n",
       "    }\n",
       "\n",
       "    .dataframe thead th {\n",
       "        text-align: right;\n",
       "    }\n",
       "</style>\n",
       "<table border=\"1\" class=\"dataframe\">\n",
       "  <thead>\n",
       "    <tr style=\"text-align: right;\">\n",
       "      <th></th>\n",
       "      <th>본거지법정동코드</th>\n",
       "      <th>시도</th>\n",
       "      <th>시구군</th>\n",
       "    </tr>\n",
       "  </thead>\n",
       "  <tbody>\n",
       "    <tr>\n",
       "      <th>0</th>\n",
       "      <td>1100000000</td>\n",
       "      <td>서울특별시</td>\n",
       "      <td>NaN</td>\n",
       "    </tr>\n",
       "    <tr>\n",
       "      <th>1</th>\n",
       "      <td>1111000000</td>\n",
       "      <td>서울특별시</td>\n",
       "      <td>종로구</td>\n",
       "    </tr>\n",
       "    <tr>\n",
       "      <th>2</th>\n",
       "      <td>1111010100</td>\n",
       "      <td>서울특별시</td>\n",
       "      <td>종로구</td>\n",
       "    </tr>\n",
       "    <tr>\n",
       "      <th>3</th>\n",
       "      <td>1111010200</td>\n",
       "      <td>서울특별시</td>\n",
       "      <td>종로구</td>\n",
       "    </tr>\n",
       "    <tr>\n",
       "      <th>4</th>\n",
       "      <td>1111010300</td>\n",
       "      <td>서울특별시</td>\n",
       "      <td>종로구</td>\n",
       "    </tr>\n",
       "  </tbody>\n",
       "</table>\n",
       "</div>"
      ],
      "text/plain": [
       "     본거지법정동코드     시도  시구군\n",
       "0  1100000000  서울특별시  NaN\n",
       "1  1111000000  서울특별시  종로구\n",
       "2  1111010100  서울특별시  종로구\n",
       "3  1111010200  서울특별시  종로구\n",
       "4  1111010300  서울특별시  종로구"
      ]
     },
     "execution_count": 32,
     "metadata": {},
     "output_type": "execute_result"
    }
   ],
   "source": [
    "code = code.rename(columns={'법정동코드':'본거지법정동코드'})\n",
    "code.head()"
   ]
  },
  {
   "attachments": {},
   "cell_type": "markdown",
   "metadata": {},
   "source": [
    "# 전처리(❌)"
   ]
  },
  {
   "attachments": {},
   "cell_type": "markdown",
   "metadata": {},
   "source": [
    "## 검사 정보 필요 데이터만 추출(insm)"
   ]
  },
  {
   "cell_type": "code",
   "execution_count": 33,
   "metadata": {},
   "outputs": [
    {
     "data": {
      "text/plain": [
       "Index(['사용연료', '주행거리', '차명', '차량번호', '차대번호', '차종', '차량연식', '엔진형식', '검사방법',\n",
       "       '검사일자', '검사종류', '검사판정시각', '검사판정', '산소값', '이산화탄소값', '무부하매연판정1',\n",
       "       '무부하매연판정2', '무부하매연판정3', '무부하매연판정4', '무부하매연판정5', '무부하매연판정6', '무부하매연허용치1',\n",
       "       '무부하매연허용치2', '무부하매연허용치3', '무부하매연허용치4', '무부하매연허용치5', '무부하매연허용치6',\n",
       "       '무부하매연측정치1', '무부하매연측정치2', '무부하매연측정치3', '무부하매연측정치4', '무부하매연측정치5',\n",
       "       '무부하매연측정치6', '검사유효기간', '정기정밀'],\n",
       "      dtype='object')"
      ]
     },
     "execution_count": 33,
     "metadata": {},
     "output_type": "execute_result"
    }
   ],
   "source": [
    "ins.columns"
   ]
  },
  {
   "cell_type": "code",
   "execution_count": 34,
   "metadata": {},
   "outputs": [
    {
     "data": {
      "text/plain": [
       "(50688654, 35)"
      ]
     },
     "execution_count": 34,
     "metadata": {},
     "output_type": "execute_result"
    }
   ],
   "source": [
    "ins.shape"
   ]
  },
  {
   "cell_type": "code",
   "execution_count": 35,
   "metadata": {},
   "outputs": [
    {
     "data": {
      "text/plain": [
       "(50688654, 12)"
      ]
     },
     "execution_count": 35,
     "metadata": {},
     "output_type": "execute_result"
    }
   ],
   "source": [
    "insm = ins[['차대번호', '주행거리', '검사일자', '검사방법', '검사종류', '검사판정', '무부하매연판정1', '무부하매연판정2', '무부하매연판정3', '무부하매연측정치1', '무부하매연측정치2', '무부하매연측정치3']]\n",
    "insm.shape"
   ]
  },
  {
   "cell_type": "code",
   "execution_count": 36,
   "metadata": {},
   "outputs": [
    {
     "data": {
      "text/plain": [
       "(22044208, 12)"
      ]
     },
     "execution_count": 36,
     "metadata": {},
     "output_type": "execute_result"
    }
   ],
   "source": [
    "# about 36.5s\n",
    "insm = insm.sort_values('검사일자', ascending=False).reset_index(drop=True)\n",
    "insm = insm.drop_duplicates(['차대번호']).reset_index(drop=True)\n",
    "insm.shape"
   ]
  },
  {
   "attachments": {},
   "cell_type": "markdown",
   "metadata": {},
   "source": [
    "## 말소 차량 제거(gm)"
   ]
  },
  {
   "cell_type": "code",
   "execution_count": 37,
   "metadata": {},
   "outputs": [
    {
     "data": {
      "text/plain": [
       "Index(['차대번호', '차량번호', '제원관리번호', '차종', '용도', '최초등록일', '연식', '제작일자', '검사유효일',\n",
       "       '배출가스인증번호', '등급', '차명', '차종분류', '차종유형', '자동차형식', '제작사명', '연료', '엔진형식',\n",
       "       '총중량', '적재중량', '엔진출력', '배기량', '법정동코드', '시도명', '시군구명', '소유자구분', '말소여부',\n",
       "       '배인번호_수정', '등급_수정', 'DPF유무_수정', 'Grade', '시군구명_수정', '1일평균주행거리'],\n",
       "      dtype='object')"
      ]
     },
     "execution_count": 37,
     "metadata": {},
     "output_type": "execute_result"
    }
   ],
   "source": [
    "g4.columns"
   ]
  },
  {
   "cell_type": "code",
   "execution_count": 38,
   "metadata": {},
   "outputs": [
    {
     "data": {
      "text/plain": [
       "말소여부\n",
       "N    1502235\n",
       "Name: count, dtype: int64"
      ]
     },
     "execution_count": 38,
     "metadata": {},
     "output_type": "execute_result"
    }
   ],
   "source": [
    "g4['말소여부'].value_counts(dropna=False)"
   ]
  },
  {
   "cell_type": "code",
   "execution_count": 39,
   "metadata": {},
   "outputs": [
    {
     "data": {
      "text/plain": [
       "(1502235, 33)"
      ]
     },
     "execution_count": 39,
     "metadata": {},
     "output_type": "execute_result"
    }
   ],
   "source": [
    "gm4 = g4.loc[g4['말소여부'] == 'N'].reset_index(drop=True)\n",
    "gm4.shape"
   ]
  },
  {
   "cell_type": "code",
   "execution_count": 40,
   "metadata": {},
   "outputs": [
    {
     "data": {
      "text/plain": [
       "차량말소YN\n",
       "Y    1223886\n",
       "N    1154762\n",
       "Name: count, dtype: int64"
      ]
     },
     "execution_count": 40,
     "metadata": {},
     "output_type": "execute_result"
    }
   ],
   "source": [
    "g5['차량말소YN'].value_counts(dropna=False)"
   ]
  },
  {
   "cell_type": "code",
   "execution_count": 41,
   "metadata": {},
   "outputs": [
    {
     "data": {
      "text/plain": [
       "(1154762, 49)"
      ]
     },
     "execution_count": 41,
     "metadata": {},
     "output_type": "execute_result"
    }
   ],
   "source": [
    "gm5 = g5.loc[g5['차량말소YN'] == 'N'].reset_index(drop=True)\n",
    "gm5.shape"
   ]
  },
  {
   "attachments": {},
   "cell_type": "markdown",
   "metadata": {},
   "source": [
    "## [❌] result 4등급만 추출"
   ]
  },
  {
   "cell_type": "code",
   "execution_count": 42,
   "metadata": {},
   "outputs": [
    {
     "data": {
      "text/plain": [
       "등급_수정\n",
       "4.00000    1497678\n",
       "3.00000       4397\n",
       "5.00000        160\n",
       "Name: count, dtype: int64"
      ]
     },
     "execution_count": 42,
     "metadata": {},
     "output_type": "execute_result"
    }
   ],
   "source": [
    "gm4['등급_수정'].value_counts(dropna=False)"
   ]
  },
  {
   "cell_type": "code",
   "execution_count": 43,
   "metadata": {},
   "outputs": [],
   "source": [
    "# gm4 = gm4.loc[gm4['등급_수정'] == 4].reset_index(drop=True)\n",
    "# gm4.shape"
   ]
  },
  {
   "cell_type": "code",
   "execution_count": 44,
   "metadata": {},
   "outputs": [
    {
     "data": {
      "text/plain": [
       "연료\n",
       "경유             1153813\n",
       "휘발유             323019\n",
       "LPG(액화석유가스)      25400\n",
       "알코올                  1\n",
       "기타연료                 1\n",
       "CNG(압축천연가스)          1\n",
       "Name: count, dtype: int64"
      ]
     },
     "execution_count": 44,
     "metadata": {},
     "output_type": "execute_result"
    }
   ],
   "source": [
    "gm4['연료'].value_counts(dropna=False)"
   ]
  },
  {
   "cell_type": "code",
   "execution_count": 45,
   "metadata": {},
   "outputs": [],
   "source": [
    "# gm4 = gm4.loc[gm4['연료'] == '경유'].reset_index(drop=True)\n",
    "# gm4.shape"
   ]
  },
  {
   "attachments": {},
   "cell_type": "markdown",
   "metadata": {},
   "source": [
    "## 필수 컬럼만 추출"
   ]
  },
  {
   "cell_type": "code",
   "execution_count": 46,
   "metadata": {},
   "outputs": [
    {
     "data": {
      "text/plain": [
       "Index(['차대번호', '차량번호', '제원관리번호', '차종', '용도', '최초등록일', '연식', '제작일자', '검사유효일',\n",
       "       '배출가스인증번호', '등급', '차명', '차종분류', '차종유형', '자동차형식', '제작사명', '연료', '엔진형식',\n",
       "       '총중량', '적재중량', '엔진출력', '배기량', '법정동코드', '시도명', '시군구명', '소유자구분', '말소여부',\n",
       "       '배인번호_수정', '등급_수정', 'DPF유무_수정', 'Grade', '시군구명_수정', '1일평균주행거리'],\n",
       "      dtype='object')"
      ]
     },
     "execution_count": 46,
     "metadata": {},
     "output_type": "execute_result"
    }
   ],
   "source": [
    "gm4.columns"
   ]
  },
  {
   "cell_type": "code",
   "execution_count": 47,
   "metadata": {},
   "outputs": [
    {
     "data": {
      "text/plain": [
       "array(['승용', '특수', '승합', '화물'], dtype=object)"
      ]
     },
     "execution_count": 47,
     "metadata": {},
     "output_type": "execute_result"
    }
   ],
   "source": [
    "gm4['차종'].unique()"
   ]
  },
  {
   "cell_type": "code",
   "execution_count": 48,
   "metadata": {},
   "outputs": [
    {
     "data": {
      "text/plain": [
       "Index(['차량관리번호', '차량등록번호', '본거지법정동코드', '소유자구분', '차종_등록정보', '용도', '현재회원번호',\n",
       "       '차대번호', '최초등록일자', '차량연식', '차량제작일자', '배출가스검사유효일자', '제원관리번호', '배출가스인증번호',\n",
       "       '배출가스등급', '저공해조치YN(미사용)', '저공해조치종류', '저공해조치구조변경YN', '차량등록번호숫자정보',\n",
       "       '차량말소YN', '최초회원번호', '취득일자', '취득금액', '생성일시_등록정보', '수정일시_등록정보', '차명',\n",
       "       '차종_제원정보', '차종분류', '차종유형(소분류)', '자동차형식', '제작사명', '연료', '엔진형식', '공차중량',\n",
       "       '총중량', '적재중량', '엔진출력', '배기량', '승차인원', '차량길이', '차량너비', '차량높이', '원산지명',\n",
       "       '삭제YN', '승인일자', '구동형식', '변속기종류', '생성일시_제원정보', '수정일시_제원정보'],\n",
       "      dtype='object')"
      ]
     },
     "execution_count": 48,
     "metadata": {},
     "output_type": "execute_result"
    }
   ],
   "source": [
    "gm5.columns"
   ]
  },
  {
   "cell_type": "code",
   "execution_count": 49,
   "metadata": {},
   "outputs": [
    {
     "data": {
      "text/plain": [
       "array(['소형', '경형', '중형', '대형'], dtype=object)"
      ]
     },
     "execution_count": 49,
     "metadata": {},
     "output_type": "execute_result"
    }
   ],
   "source": [
    "gm5['차종유형(소분류)'].unique()"
   ]
  },
  {
   "cell_type": "code",
   "execution_count": 50,
   "metadata": {},
   "outputs": [
    {
     "data": {
      "text/plain": [
       "(1154762, 14)"
      ]
     },
     "execution_count": 50,
     "metadata": {},
     "output_type": "execute_result"
    }
   ],
   "source": [
    "gm5 = gm5[['차량등록번호', '본거지법정동코드', '차대번호', '제원관리번호', '배출가스인증번호', '배출가스등급', '용도', '차명', '차종_제원정보', '차종유형(소분류)', '연료', '배기량', '총중량', '차량연식']]\n",
    "gm5.shape"
   ]
  },
  {
   "attachments": {},
   "cell_type": "markdown",
   "metadata": {},
   "source": [
    "## 연료 결측, 기타연료 확인"
   ]
  },
  {
   "cell_type": "code",
   "execution_count": 51,
   "metadata": {},
   "outputs": [
    {
     "data": {
      "text/plain": [
       "연료\n",
       "경유             1153813\n",
       "휘발유             323019\n",
       "LPG(액화석유가스)      25400\n",
       "알코올                  1\n",
       "기타연료                 1\n",
       "CNG(압축천연가스)          1\n",
       "Name: count, dtype: int64"
      ]
     },
     "execution_count": 51,
     "metadata": {},
     "output_type": "execute_result"
    }
   ],
   "source": [
    "gm4['연료'].value_counts(dropna=False)"
   ]
  },
  {
   "cell_type": "code",
   "execution_count": 52,
   "metadata": {},
   "outputs": [
    {
     "data": {
      "text/plain": [
       "연료\n",
       "경유             1124215\n",
       "휘발유              30051\n",
       "LPG(액화석유가스)        436\n",
       "NaN                 29\n",
       "기타연료                25\n",
       "CNG(압축천연가스)          5\n",
       "알코올                  1\n",
       "Name: count, dtype: int64"
      ]
     },
     "execution_count": 52,
     "metadata": {},
     "output_type": "execute_result"
    }
   ],
   "source": [
    "gm5['연료'].value_counts(dropna=False)"
   ]
  },
  {
   "cell_type": "code",
   "execution_count": 53,
   "metadata": {},
   "outputs": [
    {
     "data": {
      "text/plain": [
       "{'BENZ S500': '휘발유',\n",
       " 'BMW': '휘발유',\n",
       " 'BMW 3-SERIES': '휘발유',\n",
       " 'BMW 318I': '휘발유',\n",
       " 'BMW 325CI': '휘발유',\n",
       " 'BMW 325I': '휘발유',\n",
       " 'BMW 325i': '휘발유',\n",
       " 'BMW 328I': '휘발유',\n",
       " 'BMW 525I': '휘발유',\n",
       " 'BMW 528I': '휘발유',\n",
       " 'BMW 530I': '휘발유',\n",
       " 'BMW 5SERIES': '휘발유',\n",
       " 'BMW 750Li': '휘발유',\n",
       " 'BMW X3': '휘발유',\n",
       " 'BMW X5': '휘발유',\n",
       " 'BMW Z3': '휘발유',\n",
       " 'BMW530I': '휘발유',\n",
       " 'BUICK CENTURY': '휘발유',\n",
       " 'BUICK LESABRE': '휘발유',\n",
       " 'BUICK TERRAZA': '휘발유',\n",
       " 'CADILLAC CTS': '휘발유',\n",
       " 'CHEVROLET IMPALA': '휘발유',\n",
       " 'CHEVROLET PRIZM': '휘발유',\n",
       " 'CHRYSLER': '휘발유',\n",
       " 'CHRYSLER 300 LTD': '휘발유',\n",
       " 'CHRYSLER 300C': '경유',\n",
       " 'CHRYSLER HEMI AWD': '휘발유',\n",
       " 'CHRYSLER PT CRUISER': '휘발유',\n",
       " 'CHRYSLER TOWN & COUNTRY(7)': '휘발유',\n",
       " 'CIELO': '휘발유',\n",
       " 'CORSICA': '휘발유',\n",
       " 'COUGAR': '휘발유',\n",
       " 'DODGE CALIBER': '휘발유',\n",
       " 'DODGE CARAVAN': '휘발유',\n",
       " 'DODGE CHARGER': '휘발유',\n",
       " 'DODGE DAKOTA': '휘발유',\n",
       " 'DODGE DURANGO': '휘발유',\n",
       " 'DODGE GRAND CARAVAN': '휘발유',\n",
       " 'DODGE NEON SXT': '휘발유',\n",
       " 'EF소나타': '휘발유',\n",
       " 'ESCORT': '휘발유',\n",
       " 'FIREBIRD': '휘발유',\n",
       " 'FORD ESCAPE': '휘발유',\n",
       " 'FORD EXPEDITION': '휘발유',\n",
       " 'FORD EXPEDITION(8)': '휘발유',\n",
       " 'FORD EXPLORER': '휘발유',\n",
       " 'FORD FOCUS': '휘발유',\n",
       " 'FORD FREESTYLE(7)': '휘발유',\n",
       " 'FORD FUSION': '휘발유',\n",
       " 'FORD MUSTANG': '휘발유',\n",
       " 'FORD RANGER XLT': '경유',\n",
       " 'FORD WINDSTAR': '휘발유',\n",
       " 'G.M.C': '휘발유',\n",
       " 'G20': '휘발유',\n",
       " 'GMC': '휘발유',\n",
       " 'GMC JIMMY': '휘발유',\n",
       " 'GMC SIERRA': '휘발유',\n",
       " 'HONDA ACCORD': '휘발유',\n",
       " 'HONDA CR-V': '휘발유',\n",
       " 'HONDA CR-V EX': '휘발유',\n",
       " 'HONDA PILOT': '휘발유',\n",
       " 'HYUNDAI PRESTO': '휘발유',\n",
       " 'HYUNDAI SONATA': '휘발유',\n",
       " 'HYUNDAI/SONATA': '휘발유',\n",
       " 'INFINITI G37S': '휘발유',\n",
       " 'JAGUAR X-TYPE': '휘발유',\n",
       " 'JEEP GRAND CHEROKEE': '휘발유',\n",
       " 'JEEP LIBERTY': '휘발유',\n",
       " 'JEEP PATRIOT': '경유',\n",
       " 'KIA OPTIMA': '휘발유',\n",
       " 'KIA SEDONA': '휘발유',\n",
       " 'LEXUS ES330': '휘발유',\n",
       " 'LEXUS ES350': '휘발유',\n",
       " 'LEXUS LS430': '휘발유',\n",
       " 'LEXUS RS330': '휘발유',\n",
       " 'LEXUS RX330': '휘발유',\n",
       " 'LINCOLN MKX': '휘발유',\n",
       " 'MAZDA MAZDA6': '휘발유',\n",
       " 'MAZDA SENTA': '휘발유',\n",
       " 'MERCEDES BENZ': '휘발유',\n",
       " 'MERCEDES-BENZ': '휘발유',\n",
       " 'MERCEDES-BENZ CLS 550': '경유',\n",
       " 'MERCEDES-BENZ E-350': '휘발유',\n",
       " 'MERCEDES-BENZ E-CLASS': '휘발유',\n",
       " 'MERCEDES-BENZ R-CLASS 3500': '경유',\n",
       " 'MERCEDES-BENZ S 500': '휘발유',\n",
       " 'MERCEDES-BENZ S65': '경유',\n",
       " 'MERCURY MILAN': '휘발유',\n",
       " 'NEW 그랜저XG': '휘발유',\n",
       " 'NISSAN MURANO': '휘발유',\n",
       " 'NISSAN ROGUE 3.5': '휘발유',\n",
       " 'NISSAN XTERRA': '휘발유',\n",
       " 'OLDSMOBILE BRAVADA': '휘발유',\n",
       " 'OLDSMOBILESILHOUET': '휘발유',\n",
       " 'PLYMOUTH': '휘발유',\n",
       " 'PONTIAC SUNBIRD': '휘발유',\n",
       " 'PONTIAC VIBE': '휘발유',\n",
       " 'PONTIAC VIBE BASE': '휘발유',\n",
       " 'PORSCHE': '휘발유',\n",
       " 'ROYALE': '휘발유',\n",
       " 'ROYALSALON': '휘발유',\n",
       " 'RX7': '휘발유',\n",
       " 'SANTAFE': '휘발유',\n",
       " 'SEPHIA': '휘발유',\n",
       " 'SILHOUET': '휘발유',\n",
       " 'SPORTAGE': '휘발유',\n",
       " 'STAREX': '휘발유',\n",
       " 'SUNDANCE': '휘발유',\n",
       " 'TAURUS': '휘발유',\n",
       " 'TOYOTA 4-RUNNER': '경유',\n",
       " 'TOYOTA AVALON': '휘발유',\n",
       " 'TOYOTA CAMRY하이브리드': '휘발유 하이브리드',\n",
       " 'TOYOTA COROLLA': '휘발유',\n",
       " 'TOYOTA ESTIIM': '휘발유',\n",
       " 'TOYOTA MATRIX': '휘발유',\n",
       " 'TOYOTA SIENNA': '휘발유',\n",
       " 'TOYOTA SR-5': '휘발유',\n",
       " 'VISION': '휘발유',\n",
       " 'VOLKSWAGEN JETTA': '휘발유',\n",
       " 'VOLVO 7G1': '휘발유',\n",
       " 'VOLVO 960': '휘발유',\n",
       " 'VOLVO S60': '휘발유',\n",
       " 'VOLVO S80': '휘발유',\n",
       " 'VOLVO T5': '휘발유',\n",
       " 'VOLVO XC60': '휘발유',\n",
       " 'VOLVO XC90': '휘발유',\n",
       " '구급차(도요다)': '경유',\n",
       " '그랜저2.0': '휘발유',\n",
       " '그랜저XG300L': '휘발유',\n",
       " '기아마스타': '경유',\n",
       " '뉴복사담프': '경유',\n",
       " '뉴비틀2.0': '휘발유',\n",
       " '닛산실비아2.0': '휘발유',\n",
       " '닛산씨마그로리아': '휘발유',\n",
       " '다임24KL에틸렌글리콜트레일러': '무동력',\n",
       " '다찌람밴': '휘발유',\n",
       " '대우11톤카고': '경유',\n",
       " '대우11톤카고트럭': '경유',\n",
       " '대우8톤카고': '경유',\n",
       " '대흥저상트레일러': '무동력',\n",
       " '도오다': '휘발유',\n",
       " '도요다MR2': '휘발유',\n",
       " '도요다세라': '휘발유',\n",
       " '도요다슈프라': '휘발유',\n",
       " '도요다웨곤엠브란스': '경유',\n",
       " '도요다코로나': '휘발유',\n",
       " '도요다크라운': '휘발유',\n",
       " '도요다크라운로얄싸롱': '휘발유',\n",
       " '도요타 프리우스(하이브리드)': '휘발유 하이브리드',\n",
       " '라비타(LAVITA)': '휘발유',\n",
       " '로얄살롱': '휘발유',\n",
       " '로얄살롱2.0AT': '휘발유',\n",
       " '르망': '휘발유',\n",
       " '르망펜타-5': '휘발유',\n",
       " '링컨MARK7': '경유',\n",
       " '맥스디젤삼방': '경유',\n",
       " '머큐리 세이블': '경유',\n",
       " '벤즈 230E': '휘발유',\n",
       " '벤즈230E': '휘발유',\n",
       " '벤츠 C300': '휘발유',\n",
       " '벤츠190E': '휘발유',\n",
       " '벤츠C280': '휘발유',\n",
       " '벤츠E230': '휘발유',\n",
       " '벤츠S320': '휘발유',\n",
       " '복사14': '휘발유',\n",
       " '브리샤2': '휘발유',\n",
       " '블루버드': '휘발유',\n",
       " '사파리': '휘발유',\n",
       " '새턴': '휘발유',\n",
       " '새한2.5톤카고': '경유',\n",
       " '새한버스': '경유',\n",
       " '셀리카-GT': '휘발유',\n",
       " '소나타': '휘발유',\n",
       " '소나타1800오토매틱': '휘발유',\n",
       " '수프라': '휘발유',\n",
       " '스텔라': '휘발유',\n",
       " '스텔라1.6CXL': '휘발유',\n",
       " '스텔라오토매틱': '휘발유',\n",
       " '시보레': '휘발유',\n",
       " '시보레카베리아': '휘발유',\n",
       " '쏘나타': '휘발유',\n",
       " '아시아AM707중형버스': '경유',\n",
       " '아큐라': '휘발유',\n",
       " '에스페로': '휘발유',\n",
       " '에어스트림탐지견수송트레일러': '무동력',\n",
       " '엑셀': '휘발유',\n",
       " '엑셀운전교습용차량': '휘발유',\n",
       " '원흥식 트럭': '경유',\n",
       " '인타담프': '경유',\n",
       " '일산 육륜': '경유',\n",
       " '제설차': '경유',\n",
       " '지프': '경유',\n",
       " '체로키': '휘발유',\n",
       " '캐피탈': '휘발유',\n",
       " '캠리': '휘발유',\n",
       " '코르시카': '휘발유',\n",
       " '코우거': '휘발유',\n",
       " '코티나디럭스': '휘발유',\n",
       " '코티나마크IV': '휘발유',\n",
       " '크로마터보i.e': '휘발유',\n",
       " '티코(TICO)': '휘발유',\n",
       " '포니': '휘발유',\n",
       " '포니2': '휘발유',\n",
       " '포니2-L.P.G': 'LPG(액화석유가스)',\n",
       " '포니2-LPG': 'LPG(액화석유가스)',\n",
       " '포르쉐': '휘발유',\n",
       " '프레스토오토매틱': '휘발유',\n",
       " '프레스토오토메틱': '휘발유',\n",
       " '프리무스': '휘발유 하이브리드',\n",
       " '한원40A콤비콘테이너트레일러': '무동력',\n",
       " '한원40피트구즈넥트레일러': '무동력',\n",
       " '현대3톤트럭': '경유',\n",
       " '현대리어엔진버스': '경유',\n",
       " '현대포터': '경유',\n",
       " '혼다 CR-V': '경유',\n",
       " '홍성캠핑트레일러': '무동력'}"
      ]
     },
     "execution_count": 53,
     "metadata": {},
     "output_type": "execute_result"
    }
   ],
   "source": [
    "fuel_dict = {a:b for a, b in fuel.values}\n",
    "fuel_dict"
   ]
  },
  {
   "cell_type": "code",
   "execution_count": 54,
   "metadata": {},
   "outputs": [],
   "source": [
    "# for one in gm4.loc[((gm4['연료'].isnull() == True) | (gm4['연료'] == '기타연료')), '차명'].unique():\n",
    "#     gm4.loc[((gm4['연료'].isnull() == True) | (gm4['연료'] == '기타연료')) & (gm4['차명'] == one), '연료'] = fuel_dict[one]"
   ]
  },
  {
   "cell_type": "code",
   "execution_count": 55,
   "metadata": {},
   "outputs": [],
   "source": [
    "for one in gm5.loc[((gm5['연료'].isnull() == True) | (gm5['연료'] == '기타연료')), '차명'].unique():\n",
    "    gm5.loc[((gm5['연료'].isnull() == True) | (gm5['연료'] == '기타연료')) & (gm5['차명'] == one), '연료'] = fuel_dict[one]"
   ]
  },
  {
   "cell_type": "code",
   "execution_count": 56,
   "metadata": {},
   "outputs": [
    {
     "data": {
      "text/plain": [
       "연료\n",
       "경유             1153813\n",
       "휘발유             323019\n",
       "LPG(액화석유가스)      25400\n",
       "알코올                  1\n",
       "기타연료                 1\n",
       "CNG(압축천연가스)          1\n",
       "Name: count, dtype: int64"
      ]
     },
     "execution_count": 56,
     "metadata": {},
     "output_type": "execute_result"
    }
   ],
   "source": [
    "gm4['연료'].value_counts(dropna=False)"
   ]
  },
  {
   "cell_type": "code",
   "execution_count": 57,
   "metadata": {},
   "outputs": [
    {
     "data": {
      "text/plain": [
       "연료\n",
       "경유             1124238\n",
       "휘발유              30075\n",
       "LPG(액화석유가스)        438\n",
       "무동력                  5\n",
       "CNG(압축천연가스)          5\n",
       "알코올                  1\n",
       "Name: count, dtype: int64"
      ]
     },
     "execution_count": 57,
     "metadata": {},
     "output_type": "execute_result"
    }
   ],
   "source": [
    "gm5['연료'].value_counts(dropna=False)"
   ]
  },
  {
   "attachments": {},
   "cell_type": "markdown",
   "metadata": {},
   "source": [
    "## 조기폐차 정보 추가"
   ]
  },
  {
   "attachments": {},
   "cell_type": "markdown",
   "metadata": {},
   "source": [
    "### 조기폐차 정보 병합(early)\n",
    "- 조기폐차최종승인YN :Y"
   ]
  },
  {
   "cell_type": "code",
   "execution_count": 58,
   "metadata": {},
   "outputs": [
    {
     "data": {
      "text/plain": [
       "조기폐차최종승인YN\n",
       "Y      3\n",
       "NaN    2\n",
       "Name: count, dtype: int64"
      ]
     },
     "execution_count": 58,
     "metadata": {},
     "output_type": "execute_result"
    }
   ],
   "source": [
    "aea['조기폐차최종승인YN'].value_counts(dropna=False)"
   ]
  },
  {
   "cell_type": "code",
   "execution_count": 59,
   "metadata": {},
   "outputs": [
    {
     "data": {
      "text/plain": [
       "조기폐차최종승인YN\n",
       "NaN    162764\n",
       "Y      128585\n",
       "N           4\n",
       "Name: count, dtype: int64"
      ]
     },
     "execution_count": 59,
     "metadata": {},
     "output_type": "execute_result"
    }
   ],
   "source": [
    "lgv['조기폐차최종승인YN'].value_counts(dropna=False)"
   ]
  },
  {
   "cell_type": "code",
   "execution_count": 60,
   "metadata": {},
   "outputs": [
    {
     "data": {
      "text/plain": [
       "(3, 2)"
      ]
     },
     "execution_count": 60,
     "metadata": {},
     "output_type": "execute_result"
    }
   ],
   "source": [
    "aeam = aea.loc[aea['조기폐차최종승인YN'] == 'Y'].reset_index(drop=True)\n",
    "aeam.shape"
   ]
  },
  {
   "cell_type": "code",
   "execution_count": 61,
   "metadata": {},
   "outputs": [
    {
     "data": {
      "text/plain": [
       "(128585, 2)"
      ]
     },
     "execution_count": 61,
     "metadata": {},
     "output_type": "execute_result"
    }
   ],
   "source": [
    "lgvm = lgv.loc[lgv['조기폐차최종승인YN'] == 'Y'].reset_index(drop=True)\n",
    "lgvm.shape"
   ]
  },
  {
   "cell_type": "code",
   "execution_count": 62,
   "metadata": {},
   "outputs": [
    {
     "data": {
      "text/plain": [
       "(128588, 2)"
      ]
     },
     "execution_count": 62,
     "metadata": {},
     "output_type": "execute_result"
    }
   ],
   "source": [
    "early = pd.concat([aeam, lgvm], ignore_index=True)\n",
    "early.shape"
   ]
  },
  {
   "cell_type": "code",
   "execution_count": 63,
   "metadata": {},
   "outputs": [
    {
     "data": {
      "text/plain": [
       "Index(['차대번호', '조기폐차최종승인YN'], dtype='object')"
      ]
     },
     "execution_count": 63,
     "metadata": {},
     "output_type": "execute_result"
    }
   ],
   "source": [
    "early.columns"
   ]
  },
  {
   "cell_type": "code",
   "execution_count": 64,
   "metadata": {},
   "outputs": [
    {
     "data": {
      "text/plain": [
       "128567"
      ]
     },
     "execution_count": 64,
     "metadata": {},
     "output_type": "execute_result"
    }
   ],
   "source": [
    "len(early['차대번호'].unique())"
   ]
  },
  {
   "cell_type": "code",
   "execution_count": 65,
   "metadata": {},
   "outputs": [
    {
     "data": {
      "text/plain": [
       "(128567, 2)"
      ]
     },
     "execution_count": 65,
     "metadata": {},
     "output_type": "execute_result"
    }
   ],
   "source": [
    "early1 = early.drop_duplicates('차대번호')\n",
    "early1.shape"
   ]
  },
  {
   "cell_type": "code",
   "execution_count": 66,
   "metadata": {},
   "outputs": [],
   "source": [
    "# # about \n",
    "# name = '[ODS]등록정보&제원정보(2022.12.28)'\n",
    "# file_name = f'{name}.csv'\n",
    "# smig = pd.read_csv(os.path.join(ods_fold, file_name), low_memory=False, encoding='cp949', usecols=['차대번호', '본거지법정동코드'])\n",
    "# smig.info()"
   ]
  },
  {
   "cell_type": "code",
   "execution_count": 67,
   "metadata": {},
   "outputs": [],
   "source": [
    "# len(smig['차대번호'].unique())"
   ]
  },
  {
   "cell_type": "code",
   "execution_count": 68,
   "metadata": {},
   "outputs": [],
   "source": [
    "# smig['본거지법정동코드'].isnull().sum()"
   ]
  },
  {
   "cell_type": "code",
   "execution_count": 69,
   "metadata": {},
   "outputs": [],
   "source": [
    "# smig1 = smig.drop_duplicates('차대번호')\n",
    "# smig1.shape"
   ]
  },
  {
   "cell_type": "code",
   "execution_count": 70,
   "metadata": {},
   "outputs": [],
   "source": [
    "# early1.shape"
   ]
  },
  {
   "cell_type": "code",
   "execution_count": 71,
   "metadata": {},
   "outputs": [],
   "source": [
    "# early2 = early1.merge(smig1, on='차대번호', how='left')\n",
    "# early2.shape"
   ]
  },
  {
   "cell_type": "code",
   "execution_count": 72,
   "metadata": {},
   "outputs": [],
   "source": [
    "# early2.columns"
   ]
  },
  {
   "cell_type": "code",
   "execution_count": 73,
   "metadata": {},
   "outputs": [],
   "source": [
    "# early2 = early2.rename(columns={'차대번호':'VIN', '조기폐차최종승인YN':'ELPDSRC_LAST_APRV_YN', '본거지법정동코드':'BSPL_STDG_CD'})\n",
    "# early2.columns"
   ]
  },
  {
   "cell_type": "code",
   "execution_count": 74,
   "metadata": {},
   "outputs": [],
   "source": [
    "# # about\n",
    "# early2.to_csv(os.path.join(ods_fold, '노후차_조기폐차_관리정보.csv'), index=False, encoding='cp949')"
   ]
  },
  {
   "attachments": {},
   "cell_type": "markdown",
   "metadata": {},
   "source": [
    "### 4등급에 추가"
   ]
  },
  {
   "cell_type": "code",
   "execution_count": 75,
   "metadata": {},
   "outputs": [
    {
     "data": {
      "text/plain": [
       "(1502235, 33)"
      ]
     },
     "execution_count": 75,
     "metadata": {},
     "output_type": "execute_result"
    }
   ],
   "source": [
    "gm4.shape"
   ]
  },
  {
   "cell_type": "code",
   "execution_count": 76,
   "metadata": {},
   "outputs": [
    {
     "data": {
      "text/plain": [
       "(1502235, 34)"
      ]
     },
     "execution_count": 76,
     "metadata": {},
     "output_type": "execute_result"
    }
   ],
   "source": [
    "gm4 = gm4.merge(early1, on='차대번호', how='left')\n",
    "gm4.shape"
   ]
  },
  {
   "attachments": {},
   "cell_type": "markdown",
   "metadata": {},
   "source": [
    "### 5등급에 추가"
   ]
  },
  {
   "cell_type": "code",
   "execution_count": 77,
   "metadata": {},
   "outputs": [
    {
     "data": {
      "text/plain": [
       "(1154762, 14)"
      ]
     },
     "execution_count": 77,
     "metadata": {},
     "output_type": "execute_result"
    }
   ],
   "source": [
    "gm5.shape"
   ]
  },
  {
   "cell_type": "code",
   "execution_count": 78,
   "metadata": {},
   "outputs": [
    {
     "data": {
      "text/plain": [
       "(1154762, 15)"
      ]
     },
     "execution_count": 78,
     "metadata": {},
     "output_type": "execute_result"
    }
   ],
   "source": [
    "gm5 = gm5.merge(early1, on='차대번호', how='left')\n",
    "gm5.shape"
   ]
  },
  {
   "attachments": {},
   "cell_type": "markdown",
   "metadata": {},
   "source": [
    "## 저감장치 부착이력 정보 추가"
   ]
  },
  {
   "attachments": {},
   "cell_type": "markdown",
   "metadata": {},
   "source": [
    "### 저감장치구분 정리\n",
    "- 1종 : DPF\n",
    "- 1종+SCR : PM-NOx저감장치"
   ]
  },
  {
   "cell_type": "code",
   "execution_count": 79,
   "metadata": {},
   "outputs": [
    {
     "data": {
      "text/plain": [
       "Index(['차대번호', '저감장치구분', '장치일련번호'], dtype='object')"
      ]
     },
     "execution_count": 79,
     "metadata": {},
     "output_type": "execute_result"
    }
   ],
   "source": [
    "att.columns"
   ]
  },
  {
   "cell_type": "code",
   "execution_count": 80,
   "metadata": {},
   "outputs": [
    {
     "data": {
      "text/html": [
       "<div>\n",
       "<style scoped>\n",
       "    .dataframe tbody tr th:only-of-type {\n",
       "        vertical-align: middle;\n",
       "    }\n",
       "\n",
       "    .dataframe tbody tr th {\n",
       "        vertical-align: top;\n",
       "    }\n",
       "\n",
       "    .dataframe thead th {\n",
       "        text-align: right;\n",
       "    }\n",
       "</style>\n",
       "<table border=\"1\" class=\"dataframe\">\n",
       "  <thead>\n",
       "    <tr style=\"text-align: right;\">\n",
       "      <th></th>\n",
       "      <th>차대번호</th>\n",
       "      <th>저감장치구분</th>\n",
       "      <th>장치일련번호</th>\n",
       "    </tr>\n",
       "  </thead>\n",
       "  <tbody>\n",
       "    <tr>\n",
       "      <th>0</th>\n",
       "      <td>410031134778</td>\n",
       "      <td>엔진개조</td>\n",
       "      <td>NaN</td>\n",
       "    </tr>\n",
       "    <tr>\n",
       "      <th>1</th>\n",
       "      <td>KN3HDP3362K807243</td>\n",
       "      <td>엔진개조</td>\n",
       "      <td>NaN</td>\n",
       "    </tr>\n",
       "    <tr>\n",
       "      <th>2</th>\n",
       "      <td>KMCGB17FPVC120970</td>\n",
       "      <td>엔진개조</td>\n",
       "      <td>NaN</td>\n",
       "    </tr>\n",
       "    <tr>\n",
       "      <th>3</th>\n",
       "      <td>KMFXKD7BP2U583397</td>\n",
       "      <td>엔진개조</td>\n",
       "      <td>NaN</td>\n",
       "    </tr>\n",
       "    <tr>\n",
       "      <th>4</th>\n",
       "      <td>KMFXKS7BP2U560254</td>\n",
       "      <td>엔진개조</td>\n",
       "      <td>NaN</td>\n",
       "    </tr>\n",
       "  </tbody>\n",
       "</table>\n",
       "</div>"
      ],
      "text/plain": [
       "                차대번호 저감장치구분 장치일련번호\n",
       "0       410031134778   엔진개조    NaN\n",
       "1  KN3HDP3362K807243   엔진개조    NaN\n",
       "2  KMCGB17FPVC120970   엔진개조    NaN\n",
       "3  KMFXKD7BP2U583397   엔진개조    NaN\n",
       "4  KMFXKS7BP2U560254   엔진개조    NaN"
      ]
     },
     "execution_count": 80,
     "metadata": {},
     "output_type": "execute_result"
    }
   ],
   "source": [
    "att.head()"
   ]
  },
  {
   "cell_type": "code",
   "execution_count": 81,
   "metadata": {},
   "outputs": [
    {
     "data": {
      "text/html": [
       "<div>\n",
       "<style scoped>\n",
       "    .dataframe tbody tr th:only-of-type {\n",
       "        vertical-align: middle;\n",
       "    }\n",
       "\n",
       "    .dataframe tbody tr th {\n",
       "        vertical-align: top;\n",
       "    }\n",
       "\n",
       "    .dataframe thead th {\n",
       "        text-align: right;\n",
       "    }\n",
       "</style>\n",
       "<table border=\"1\" class=\"dataframe\">\n",
       "  <thead>\n",
       "    <tr style=\"text-align: right;\">\n",
       "      <th></th>\n",
       "      <th>차대번호</th>\n",
       "      <th>저감장치구분</th>\n",
       "      <th>장치일련번호</th>\n",
       "    </tr>\n",
       "  </thead>\n",
       "  <tbody>\n",
       "    <tr>\n",
       "      <th>48</th>\n",
       "      <td>KMJWWH7BPVU002963</td>\n",
       "      <td>엔진개조</td>\n",
       "      <td>084X2-0255</td>\n",
       "    </tr>\n",
       "    <tr>\n",
       "      <th>442</th>\n",
       "      <td>KMJFD37APTU320665</td>\n",
       "      <td>엔진개조</td>\n",
       "      <td>084X2-0365</td>\n",
       "    </tr>\n",
       "    <tr>\n",
       "      <th>682</th>\n",
       "      <td>KMFFD37BPYU477367</td>\n",
       "      <td>3종</td>\n",
       "      <td>P1C0026</td>\n",
       "    </tr>\n",
       "    <tr>\n",
       "      <th>683</th>\n",
       "      <td>KMJTK18BP4C006045</td>\n",
       "      <td>1종</td>\n",
       "      <td>H3C011</td>\n",
       "    </tr>\n",
       "    <tr>\n",
       "      <th>684</th>\n",
       "      <td>KL2UR52BDYP017806</td>\n",
       "      <td>1종</td>\n",
       "      <td>H3C029</td>\n",
       "    </tr>\n",
       "  </tbody>\n",
       "</table>\n",
       "</div>"
      ],
      "text/plain": [
       "                  차대번호 저감장치구분      장치일련번호\n",
       "48   KMJWWH7BPVU002963   엔진개조  084X2-0255\n",
       "442  KMJFD37APTU320665   엔진개조  084X2-0365\n",
       "682  KMFFD37BPYU477367     3종     P1C0026\n",
       "683  KMJTK18BP4C006045     1종      H3C011\n",
       "684  KL2UR52BDYP017806     1종      H3C029"
      ]
     },
     "execution_count": 81,
     "metadata": {},
     "output_type": "execute_result"
    }
   ],
   "source": [
    "att.loc[att['장치일련번호'].isnull() == False].head()"
   ]
  },
  {
   "cell_type": "code",
   "execution_count": 82,
   "metadata": {},
   "outputs": [
    {
     "data": {
      "text/plain": [
       "Index(['저감장치', '배출가스인증번호', '장치일련번호', '장치인증번호', '장치구분', '저감효율'], dtype='object')"
      ]
     },
     "execution_count": 82,
     "metadata": {},
     "output_type": "execute_result"
    }
   ],
   "source": [
    "eff.columns"
   ]
  },
  {
   "cell_type": "code",
   "execution_count": 83,
   "metadata": {},
   "outputs": [
    {
     "data": {
      "text/html": [
       "<div>\n",
       "<style scoped>\n",
       "    .dataframe tbody tr th:only-of-type {\n",
       "        vertical-align: middle;\n",
       "    }\n",
       "\n",
       "    .dataframe tbody tr th {\n",
       "        vertical-align: top;\n",
       "    }\n",
       "\n",
       "    .dataframe thead th {\n",
       "        text-align: right;\n",
       "    }\n",
       "</style>\n",
       "<table border=\"1\" class=\"dataframe\">\n",
       "  <thead>\n",
       "    <tr style=\"text-align: right;\">\n",
       "      <th></th>\n",
       "      <th>저감장치</th>\n",
       "      <th>배출가스인증번호</th>\n",
       "      <th>장치일련번호</th>\n",
       "      <th>장치인증번호</th>\n",
       "      <th>장치구분</th>\n",
       "      <th>저감효율</th>\n",
       "    </tr>\n",
       "  </thead>\n",
       "  <tbody>\n",
       "    <tr>\n",
       "      <th>0</th>\n",
       "      <td>DPF</td>\n",
       "      <td>1MY-HD-52</td>\n",
       "      <td>1006497</td>\n",
       "      <td>NaN</td>\n",
       "      <td>NaN</td>\n",
       "      <td>NaN</td>\n",
       "    </tr>\n",
       "    <tr>\n",
       "      <th>1</th>\n",
       "      <td>DPF</td>\n",
       "      <td>1MY-HD-52</td>\n",
       "      <td>ALS1500456</td>\n",
       "      <td>NaN</td>\n",
       "      <td>NaN</td>\n",
       "      <td>NaN</td>\n",
       "    </tr>\n",
       "    <tr>\n",
       "      <th>2</th>\n",
       "      <td>DPF</td>\n",
       "      <td>1MY-HD-52</td>\n",
       "      <td>C254982</td>\n",
       "      <td>NaN</td>\n",
       "      <td>NaN</td>\n",
       "      <td>NaN</td>\n",
       "    </tr>\n",
       "    <tr>\n",
       "      <th>3</th>\n",
       "      <td>DPF</td>\n",
       "      <td>1MY-HD-52</td>\n",
       "      <td>DLL060113B13</td>\n",
       "      <td>NaN</td>\n",
       "      <td>NaN</td>\n",
       "      <td>NaN</td>\n",
       "    </tr>\n",
       "    <tr>\n",
       "      <th>4</th>\n",
       "      <td>DPF</td>\n",
       "      <td>1MY-HD-52</td>\n",
       "      <td>H180403-050</td>\n",
       "      <td>NaN</td>\n",
       "      <td>NaN</td>\n",
       "      <td>NaN</td>\n",
       "    </tr>\n",
       "  </tbody>\n",
       "</table>\n",
       "</div>"
      ],
      "text/plain": [
       "  저감장치   배출가스인증번호        장치일련번호 장치인증번호 장치구분  저감효율\n",
       "0  DPF  1MY-HD-52       1006497    NaN  NaN   NaN\n",
       "1  DPF  1MY-HD-52    ALS1500456    NaN  NaN   NaN\n",
       "2  DPF  1MY-HD-52       C254982    NaN  NaN   NaN\n",
       "3  DPF  1MY-HD-52  DLL060113B13    NaN  NaN   NaN\n",
       "4  DPF  1MY-HD-52   H180403-050    NaN  NaN   NaN"
      ]
     },
     "execution_count": 83,
     "metadata": {},
     "output_type": "execute_result"
    }
   ],
   "source": [
    "eff.head()"
   ]
  },
  {
   "cell_type": "code",
   "execution_count": 84,
   "metadata": {},
   "outputs": [
    {
     "data": {
      "text/plain": [
       "array([nan, '복합대형', '복합소형', '복합중형', '대형', '중형', '소형'], dtype=object)"
      ]
     },
     "execution_count": 84,
     "metadata": {},
     "output_type": "execute_result"
    }
   ],
   "source": [
    "eff['장치구분'].unique()"
   ]
  },
  {
   "cell_type": "code",
   "execution_count": 85,
   "metadata": {},
   "outputs": [
    {
     "data": {
      "text/plain": [
       "저감장치구분\n",
       "1종        294602\n",
       "엔진개조      198590\n",
       "2종        156370\n",
       "3종        148308\n",
       "엔진교체        8528\n",
       "1종+SCR      2304\n",
       "삼원촉매        2075\n",
       "Name: count, dtype: int64"
      ]
     },
     "execution_count": 85,
     "metadata": {},
     "output_type": "execute_result"
    }
   ],
   "source": [
    "att['저감장치구분'].value_counts(dropna=False)"
   ]
  },
  {
   "cell_type": "code",
   "execution_count": 86,
   "metadata": {},
   "outputs": [
    {
     "data": {
      "text/plain": [
       "(810777, 3)"
      ]
     },
     "execution_count": 86,
     "metadata": {},
     "output_type": "execute_result"
    }
   ],
   "source": [
    "att.shape"
   ]
  },
  {
   "cell_type": "code",
   "execution_count": 87,
   "metadata": {},
   "outputs": [
    {
     "data": {
      "text/plain": [
       "Index(['차대번호', '저감장치구분', '장치일련번호'], dtype='object')"
      ]
     },
     "execution_count": 87,
     "metadata": {},
     "output_type": "execute_result"
    }
   ],
   "source": [
    "att.columns"
   ]
  },
  {
   "cell_type": "code",
   "execution_count": 88,
   "metadata": {},
   "outputs": [
    {
     "data": {
      "text/plain": [
       "(810777, 3)"
      ]
     },
     "execution_count": 88,
     "metadata": {},
     "output_type": "execute_result"
    }
   ],
   "source": [
    "att.loc[att['저감장치구분'] == '1종', '저감장치'] = 'DPF'\n",
    "att.loc[att['저감장치구분'] == '1종+SCR', '저감장치'] = 'PM-NOx저감장치'\n",
    "attm = att[['차대번호', '저감장치', '장치일련번호']]\n",
    "attm.shape"
   ]
  },
  {
   "attachments": {},
   "cell_type": "markdown",
   "metadata": {},
   "source": [
    "### 4등급에 추가"
   ]
  },
  {
   "cell_type": "code",
   "execution_count": 89,
   "metadata": {},
   "outputs": [
    {
     "data": {
      "text/plain": [
       "(1502235, 36)"
      ]
     },
     "execution_count": 89,
     "metadata": {},
     "output_type": "execute_result"
    }
   ],
   "source": [
    "gm4 = gm4.merge(attm, on='차대번호', how='left')\n",
    "gm4.shape"
   ]
  },
  {
   "attachments": {},
   "cell_type": "markdown",
   "metadata": {},
   "source": [
    "### 5등급에 추가"
   ]
  },
  {
   "cell_type": "code",
   "execution_count": 90,
   "metadata": {},
   "outputs": [
    {
     "data": {
      "text/plain": [
       "(1154991, 17)"
      ]
     },
     "execution_count": 90,
     "metadata": {},
     "output_type": "execute_result"
    }
   ],
   "source": [
    "gm5 = gm5.merge(attm, on='차대번호', how='left')\n",
    "gm5.shape"
   ]
  },
  {
   "cell_type": "code",
   "execution_count": 91,
   "metadata": {},
   "outputs": [
    {
     "data": {
      "text/html": [
       "<div>\n",
       "<style scoped>\n",
       "    .dataframe tbody tr th:only-of-type {\n",
       "        vertical-align: middle;\n",
       "    }\n",
       "\n",
       "    .dataframe tbody tr th {\n",
       "        vertical-align: top;\n",
       "    }\n",
       "\n",
       "    .dataframe thead th {\n",
       "        text-align: right;\n",
       "    }\n",
       "</style>\n",
       "<table border=\"1\" class=\"dataframe\">\n",
       "  <thead>\n",
       "    <tr style=\"text-align: right;\">\n",
       "      <th></th>\n",
       "      <th>차량등록번호</th>\n",
       "      <th>본거지법정동코드</th>\n",
       "      <th>차대번호</th>\n",
       "      <th>제원관리번호</th>\n",
       "      <th>배출가스인증번호</th>\n",
       "      <th>배출가스등급</th>\n",
       "      <th>용도</th>\n",
       "      <th>차명</th>\n",
       "      <th>차종_제원정보</th>\n",
       "      <th>차종유형(소분류)</th>\n",
       "      <th>연료</th>\n",
       "      <th>배기량</th>\n",
       "      <th>총중량</th>\n",
       "      <th>차량연식</th>\n",
       "      <th>조기폐차최종승인YN</th>\n",
       "      <th>저감장치</th>\n",
       "      <th>장치일련번호</th>\n",
       "    </tr>\n",
       "  </thead>\n",
       "  <tbody>\n",
       "    <tr>\n",
       "      <th>0</th>\n",
       "      <td>서울1나4019</td>\n",
       "      <td>1165010700</td>\n",
       "      <td>10762211742</td>\n",
       "      <td>10004800000000</td>\n",
       "      <td>NaN</td>\n",
       "      <td>5</td>\n",
       "      <td>자가용</td>\n",
       "      <td>포니</td>\n",
       "      <td>승용</td>\n",
       "      <td>소형</td>\n",
       "      <td>휘발유</td>\n",
       "      <td>1238.00000</td>\n",
       "      <td>1145.00000</td>\n",
       "      <td>1976</td>\n",
       "      <td>NaN</td>\n",
       "      <td>NaN</td>\n",
       "      <td>NaN</td>\n",
       "    </tr>\n",
       "    <tr>\n",
       "      <th>1</th>\n",
       "      <td>대구1다1476</td>\n",
       "      <td>2711010500</td>\n",
       "      <td>KG68T122688*</td>\n",
       "      <td>30220100010946</td>\n",
       "      <td>NaN</td>\n",
       "      <td>5</td>\n",
       "      <td>자가용</td>\n",
       "      <td>퍼브리카</td>\n",
       "      <td>승용</td>\n",
       "      <td>경형</td>\n",
       "      <td>휘발유</td>\n",
       "      <td>790.00000</td>\n",
       "      <td>840.00000</td>\n",
       "      <td>1968</td>\n",
       "      <td>NaN</td>\n",
       "      <td>NaN</td>\n",
       "      <td>NaN</td>\n",
       "    </tr>\n",
       "    <tr>\n",
       "      <th>2</th>\n",
       "      <td>인천1마8052</td>\n",
       "      <td>2820010300</td>\n",
       "      <td>10762211783</td>\n",
       "      <td>10004800000000</td>\n",
       "      <td>NaN</td>\n",
       "      <td>5</td>\n",
       "      <td>자가용</td>\n",
       "      <td>포니</td>\n",
       "      <td>승용</td>\n",
       "      <td>소형</td>\n",
       "      <td>휘발유</td>\n",
       "      <td>1238.00000</td>\n",
       "      <td>1145.00000</td>\n",
       "      <td>1976</td>\n",
       "      <td>NaN</td>\n",
       "      <td>NaN</td>\n",
       "      <td>NaN</td>\n",
       "    </tr>\n",
       "    <tr>\n",
       "      <th>3</th>\n",
       "      <td>87로9835</td>\n",
       "      <td>4213011200</td>\n",
       "      <td>PN71C018511000000</td>\n",
       "      <td>30321400001063</td>\n",
       "      <td>NaN</td>\n",
       "      <td>5</td>\n",
       "      <td>자가용</td>\n",
       "      <td>JAM담프</td>\n",
       "      <td>화물</td>\n",
       "      <td>중형</td>\n",
       "      <td>경유</td>\n",
       "      <td>7255.00000</td>\n",
       "      <td>11115.00000</td>\n",
       "      <td>1971</td>\n",
       "      <td>NaN</td>\n",
       "      <td>NaN</td>\n",
       "      <td>NaN</td>\n",
       "    </tr>\n",
       "    <tr>\n",
       "      <th>4</th>\n",
       "      <td>경남1러3590</td>\n",
       "      <td>4812110500</td>\n",
       "      <td>KMHLA11FPGU060639</td>\n",
       "      <td>30381300100968</td>\n",
       "      <td>NaN</td>\n",
       "      <td>5</td>\n",
       "      <td>자가용</td>\n",
       "      <td>포니엑셀</td>\n",
       "      <td>승용</td>\n",
       "      <td>소형</td>\n",
       "      <td>휘발유</td>\n",
       "      <td>1298.00000</td>\n",
       "      <td>1135.00000</td>\n",
       "      <td>1986</td>\n",
       "      <td>NaN</td>\n",
       "      <td>NaN</td>\n",
       "      <td>NaN</td>\n",
       "    </tr>\n",
       "  </tbody>\n",
       "</table>\n",
       "</div>"
      ],
      "text/plain": [
       "     차량등록번호    본거지법정동코드               차대번호          제원관리번호 배출가스인증번호 배출가스등급   \n",
       "0  서울1나4019  1165010700        10762211742  10004800000000      NaN      5  \\\n",
       "1  대구1다1476  2711010500       KG68T122688*  30220100010946      NaN      5   \n",
       "2  인천1마8052  2820010300        10762211783  10004800000000      NaN      5   \n",
       "3   87로9835  4213011200  PN71C018511000000  30321400001063      NaN      5   \n",
       "4  경남1러3590  4812110500  KMHLA11FPGU060639  30381300100968      NaN      5   \n",
       "\n",
       "    용도     차명 차종_제원정보 차종유형(소분류)   연료        배기량         총중량  차량연식 조기폐차최종승인YN   \n",
       "0  자가용     포니      승용        소형  휘발유 1238.00000  1145.00000  1976        NaN  \\\n",
       "1  자가용   퍼브리카      승용        경형  휘발유  790.00000   840.00000  1968        NaN   \n",
       "2  자가용     포니      승용        소형  휘발유 1238.00000  1145.00000  1976        NaN   \n",
       "3  자가용  JAM담프      화물        중형   경유 7255.00000 11115.00000  1971        NaN   \n",
       "4  자가용   포니엑셀      승용        소형  휘발유 1298.00000  1135.00000  1986        NaN   \n",
       "\n",
       "  저감장치 장치일련번호  \n",
       "0  NaN    NaN  \n",
       "1  NaN    NaN  \n",
       "2  NaN    NaN  \n",
       "3  NaN    NaN  \n",
       "4  NaN    NaN  "
      ]
     },
     "execution_count": 91,
     "metadata": {},
     "output_type": "execute_result"
    }
   ],
   "source": [
    "gm5.head()"
   ]
  },
  {
   "cell_type": "code",
   "execution_count": 92,
   "metadata": {},
   "outputs": [
    {
     "data": {
      "text/html": [
       "<div>\n",
       "<style scoped>\n",
       "    .dataframe tbody tr th:only-of-type {\n",
       "        vertical-align: middle;\n",
       "    }\n",
       "\n",
       "    .dataframe tbody tr th {\n",
       "        vertical-align: top;\n",
       "    }\n",
       "\n",
       "    .dataframe thead th {\n",
       "        text-align: right;\n",
       "    }\n",
       "</style>\n",
       "<table border=\"1\" class=\"dataframe\">\n",
       "  <thead>\n",
       "    <tr style=\"text-align: right;\">\n",
       "      <th></th>\n",
       "      <th>저감장치</th>\n",
       "      <th>배출가스인증번호</th>\n",
       "      <th>장치일련번호</th>\n",
       "      <th>장치인증번호</th>\n",
       "      <th>장치구분</th>\n",
       "      <th>저감효율</th>\n",
       "    </tr>\n",
       "  </thead>\n",
       "  <tbody>\n",
       "    <tr>\n",
       "      <th>0</th>\n",
       "      <td>DPF</td>\n",
       "      <td>1MY-HD-52</td>\n",
       "      <td>1006497</td>\n",
       "      <td>NaN</td>\n",
       "      <td>NaN</td>\n",
       "      <td>NaN</td>\n",
       "    </tr>\n",
       "    <tr>\n",
       "      <th>1</th>\n",
       "      <td>DPF</td>\n",
       "      <td>1MY-HD-52</td>\n",
       "      <td>ALS1500456</td>\n",
       "      <td>NaN</td>\n",
       "      <td>NaN</td>\n",
       "      <td>NaN</td>\n",
       "    </tr>\n",
       "    <tr>\n",
       "      <th>2</th>\n",
       "      <td>DPF</td>\n",
       "      <td>1MY-HD-52</td>\n",
       "      <td>C254982</td>\n",
       "      <td>NaN</td>\n",
       "      <td>NaN</td>\n",
       "      <td>NaN</td>\n",
       "    </tr>\n",
       "    <tr>\n",
       "      <th>3</th>\n",
       "      <td>DPF</td>\n",
       "      <td>1MY-HD-52</td>\n",
       "      <td>DLL060113B13</td>\n",
       "      <td>NaN</td>\n",
       "      <td>NaN</td>\n",
       "      <td>NaN</td>\n",
       "    </tr>\n",
       "    <tr>\n",
       "      <th>4</th>\n",
       "      <td>DPF</td>\n",
       "      <td>1MY-HD-52</td>\n",
       "      <td>H180403-050</td>\n",
       "      <td>NaN</td>\n",
       "      <td>NaN</td>\n",
       "      <td>NaN</td>\n",
       "    </tr>\n",
       "  </tbody>\n",
       "</table>\n",
       "</div>"
      ],
      "text/plain": [
       "  저감장치   배출가스인증번호        장치일련번호 장치인증번호 장치구분  저감효율\n",
       "0  DPF  1MY-HD-52       1006497    NaN  NaN   NaN\n",
       "1  DPF  1MY-HD-52    ALS1500456    NaN  NaN   NaN\n",
       "2  DPF  1MY-HD-52       C254982    NaN  NaN   NaN\n",
       "3  DPF  1MY-HD-52  DLL060113B13    NaN  NaN   NaN\n",
       "4  DPF  1MY-HD-52   H180403-050    NaN  NaN   NaN"
      ]
     },
     "execution_count": 92,
     "metadata": {},
     "output_type": "execute_result"
    }
   ],
   "source": [
    "eff.head()"
   ]
  },
  {
   "cell_type": "code",
   "execution_count": 93,
   "metadata": {},
   "outputs": [
    {
     "data": {
      "text/plain": [
       "(1156523, 18)"
      ]
     },
     "execution_count": 93,
     "metadata": {},
     "output_type": "execute_result"
    }
   ],
   "source": [
    "gm5 = gm5.merge(eff[['장치일련번호', '저감효율']], on='장치일련번호', how='left')\n",
    "gm5.shape"
   ]
  },
  {
   "cell_type": "code",
   "execution_count": 94,
   "metadata": {},
   "outputs": [
    {
     "data": {
      "text/plain": [
       "장치일련번호     965716\n",
       "저감효율      1156122\n",
       "dtype: int64"
      ]
     },
     "execution_count": 94,
     "metadata": {},
     "output_type": "execute_result"
    }
   ],
   "source": [
    "gm5[['장치일련번호', '저감효율']].isnull().sum()"
   ]
  },
  {
   "attachments": {},
   "cell_type": "markdown",
   "metadata": {},
   "source": [
    "## 5등급 주행거리 추가"
   ]
  },
  {
   "cell_type": "code",
   "execution_count": 95,
   "metadata": {},
   "outputs": [
    {
     "data": {
      "text/html": [
       "<div>\n",
       "<style scoped>\n",
       "    .dataframe tbody tr th:only-of-type {\n",
       "        vertical-align: middle;\n",
       "    }\n",
       "\n",
       "    .dataframe tbody tr th {\n",
       "        vertical-align: top;\n",
       "    }\n",
       "\n",
       "    .dataframe thead th {\n",
       "        text-align: right;\n",
       "    }\n",
       "</style>\n",
       "<table border=\"1\" class=\"dataframe\">\n",
       "  <thead>\n",
       "    <tr style=\"text-align: right;\">\n",
       "      <th></th>\n",
       "      <th>배출가스등급</th>\n",
       "      <th>차대번호</th>\n",
       "      <th>최신검사일자</th>\n",
       "      <th>최신주행거리</th>\n",
       "      <th>이전검사일자</th>\n",
       "      <th>이전주행거리</th>\n",
       "      <th>검사일자차이</th>\n",
       "      <th>주행거리차이</th>\n",
       "      <th>최신경과기간</th>\n",
       "      <th>일일평균주행거리</th>\n",
       "    </tr>\n",
       "  </thead>\n",
       "  <tbody>\n",
       "    <tr>\n",
       "      <th>0</th>\n",
       "      <td>4</td>\n",
       "      <td>119213301753다</td>\n",
       "      <td>20220407</td>\n",
       "      <td>128563.00000</td>\n",
       "      <td>20200409.00000</td>\n",
       "      <td>128272.00000</td>\n",
       "      <td>728.00000</td>\n",
       "      <td>291.00000</td>\n",
       "      <td>393</td>\n",
       "      <td>0.39973</td>\n",
       "    </tr>\n",
       "    <tr>\n",
       "      <th>1</th>\n",
       "      <td>4</td>\n",
       "      <td>119213302021</td>\n",
       "      <td>20220920</td>\n",
       "      <td>338000.00000</td>\n",
       "      <td>NaN</td>\n",
       "      <td>NaN</td>\n",
       "      <td>NaN</td>\n",
       "      <td>NaN</td>\n",
       "      <td>227</td>\n",
       "      <td>NaN</td>\n",
       "    </tr>\n",
       "    <tr>\n",
       "      <th>2</th>\n",
       "      <td>4</td>\n",
       "      <td>119213302036</td>\n",
       "      <td>20210310</td>\n",
       "      <td>208364.00000</td>\n",
       "      <td>20210309.00000</td>\n",
       "      <td>208364.00000</td>\n",
       "      <td>1.00000</td>\n",
       "      <td>0.00000</td>\n",
       "      <td>786</td>\n",
       "      <td>0.00000</td>\n",
       "    </tr>\n",
       "    <tr>\n",
       "      <th>3</th>\n",
       "      <td>4</td>\n",
       "      <td>119213302045</td>\n",
       "      <td>20201223</td>\n",
       "      <td>94103.00000</td>\n",
       "      <td>20190114.00000</td>\n",
       "      <td>93977.00000</td>\n",
       "      <td>709.00000</td>\n",
       "      <td>126.00000</td>\n",
       "      <td>863</td>\n",
       "      <td>0.17772</td>\n",
       "    </tr>\n",
       "    <tr>\n",
       "      <th>4</th>\n",
       "      <td>4</td>\n",
       "      <td>119213302046</td>\n",
       "      <td>20210719</td>\n",
       "      <td>163026.00000</td>\n",
       "      <td>NaN</td>\n",
       "      <td>NaN</td>\n",
       "      <td>NaN</td>\n",
       "      <td>NaN</td>\n",
       "      <td>655</td>\n",
       "      <td>NaN</td>\n",
       "    </tr>\n",
       "  </tbody>\n",
       "</table>\n",
       "</div>"
      ],
      "text/plain": [
       "  배출가스등급           차대번호    최신검사일자       최신주행거리         이전검사일자       이전주행거리   \n",
       "0      4  119213301753다  20220407 128563.00000 20200409.00000 128272.00000  \\\n",
       "1      4   119213302021  20220920 338000.00000            NaN          NaN   \n",
       "2      4   119213302036  20210310 208364.00000 20210309.00000 208364.00000   \n",
       "3      4   119213302045  20201223  94103.00000 20190114.00000  93977.00000   \n",
       "4      4   119213302046  20210719 163026.00000            NaN          NaN   \n",
       "\n",
       "     검사일자차이    주행거리차이  최신경과기간  일일평균주행거리  \n",
       "0 728.00000 291.00000     393   0.39973  \n",
       "1       NaN       NaN     227       NaN  \n",
       "2   1.00000   0.00000     786   0.00000  \n",
       "3 709.00000 126.00000     863   0.17772  \n",
       "4       NaN       NaN     655       NaN  "
      ]
     },
     "execution_count": 95,
     "metadata": {},
     "output_type": "execute_result"
    }
   ],
   "source": [
    "chk.head()"
   ]
  },
  {
   "cell_type": "code",
   "execution_count": 96,
   "metadata": {},
   "outputs": [
    {
     "data": {
      "text/plain": [
       "count    2353534.00000\n",
       "mean          28.34192\n",
       "std        13401.45618\n",
       "min     -8711446.00000\n",
       "25%           10.58155\n",
       "50%           23.20845\n",
       "75%           41.34668\n",
       "max      4400144.00000\n",
       "Name: 일일평균주행거리, dtype: float64"
      ]
     },
     "execution_count": 96,
     "metadata": {},
     "output_type": "execute_result"
    }
   ],
   "source": [
    "chk['일일평균주행거리'].describe()"
   ]
  },
  {
   "cell_type": "code",
   "execution_count": 97,
   "metadata": {},
   "outputs": [
    {
     "data": {
      "text/plain": [
       "832398"
      ]
     },
     "execution_count": 97,
     "metadata": {},
     "output_type": "execute_result"
    }
   ],
   "source": [
    "chk['일일평균주행거리'].isnull().sum()"
   ]
  },
  {
   "cell_type": "code",
   "execution_count": 98,
   "metadata": {},
   "outputs": [
    {
     "data": {
      "text/plain": [
       "(221016, 10)"
      ]
     },
     "execution_count": 98,
     "metadata": {},
     "output_type": "execute_result"
    }
   ],
   "source": [
    "chk[chk['일일평균주행거리'] > 69.5].shape"
   ]
  },
  {
   "cell_type": "code",
   "execution_count": 99,
   "metadata": {},
   "outputs": [
    {
     "data": {
      "text/plain": [
       "(81113, 10)"
      ]
     },
     "execution_count": 99,
     "metadata": {},
     "output_type": "execute_result"
    }
   ],
   "source": [
    "chk[(chk['일일평균주행거리'] > 2640) | (chk['일일평균주행거리'] <= 0)].shape"
   ]
  },
  {
   "attachments": {},
   "cell_type": "markdown",
   "metadata": {},
   "source": [
    "### 일일주행거리 이상치 제거\n",
    "- 2640 초과\n",
    "- 0이하"
   ]
  },
  {
   "cell_type": "code",
   "execution_count": 100,
   "metadata": {},
   "outputs": [
    {
     "data": {
      "text/plain": [
       "(2272421, 10)"
      ]
     },
     "execution_count": 100,
     "metadata": {},
     "output_type": "execute_result"
    }
   ],
   "source": [
    "chkm = chk[(chk['일일평균주행거리'] <= 2640) & (chk['일일평균주행거리'] > 0)].reset_index(drop=True)\n",
    "chkm.shape"
   ]
  },
  {
   "cell_type": "code",
   "execution_count": 101,
   "metadata": {},
   "outputs": [
    {
     "data": {
      "text/plain": [
       "dtype('float64')"
      ]
     },
     "execution_count": 101,
     "metadata": {},
     "output_type": "execute_result"
    }
   ],
   "source": [
    "chk['일일평균주행거리'].dtype"
   ]
  },
  {
   "attachments": {},
   "cell_type": "markdown",
   "metadata": {},
   "source": [
    "### 1년주행거리 계산(chk)"
   ]
  },
  {
   "cell_type": "code",
   "execution_count": 102,
   "metadata": {},
   "outputs": [
    {
     "data": {
      "text/html": [
       "<div>\n",
       "<style scoped>\n",
       "    .dataframe tbody tr th:only-of-type {\n",
       "        vertical-align: middle;\n",
       "    }\n",
       "\n",
       "    .dataframe tbody tr th {\n",
       "        vertical-align: top;\n",
       "    }\n",
       "\n",
       "    .dataframe thead th {\n",
       "        text-align: right;\n",
       "    }\n",
       "</style>\n",
       "<table border=\"1\" class=\"dataframe\">\n",
       "  <thead>\n",
       "    <tr style=\"text-align: right;\">\n",
       "      <th></th>\n",
       "      <th>배출가스등급</th>\n",
       "      <th>차대번호</th>\n",
       "      <th>최신검사일자</th>\n",
       "      <th>최신주행거리</th>\n",
       "      <th>이전검사일자</th>\n",
       "      <th>이전주행거리</th>\n",
       "      <th>검사일자차이</th>\n",
       "      <th>주행거리차이</th>\n",
       "      <th>최신경과기간</th>\n",
       "      <th>일일평균주행거리</th>\n",
       "      <th>연간주행거리</th>\n",
       "    </tr>\n",
       "  </thead>\n",
       "  <tbody>\n",
       "    <tr>\n",
       "      <th>0</th>\n",
       "      <td>4</td>\n",
       "      <td>119213301753다</td>\n",
       "      <td>20220407</td>\n",
       "      <td>128563.00000</td>\n",
       "      <td>20200409.00000</td>\n",
       "      <td>128272.00000</td>\n",
       "      <td>728.00000</td>\n",
       "      <td>291.00000</td>\n",
       "      <td>393</td>\n",
       "      <td>0.39973</td>\n",
       "      <td>145.89973</td>\n",
       "    </tr>\n",
       "    <tr>\n",
       "      <th>1</th>\n",
       "      <td>4</td>\n",
       "      <td>119213302045</td>\n",
       "      <td>20201223</td>\n",
       "      <td>94103.00000</td>\n",
       "      <td>20190114.00000</td>\n",
       "      <td>93977.00000</td>\n",
       "      <td>709.00000</td>\n",
       "      <td>126.00000</td>\n",
       "      <td>863</td>\n",
       "      <td>0.17772</td>\n",
       "      <td>64.86601</td>\n",
       "    </tr>\n",
       "    <tr>\n",
       "      <th>2</th>\n",
       "      <td>4</td>\n",
       "      <td>119213302056다</td>\n",
       "      <td>20210614</td>\n",
       "      <td>234307.00000</td>\n",
       "      <td>20190530.00000</td>\n",
       "      <td>232388.00000</td>\n",
       "      <td>746.00000</td>\n",
       "      <td>1919.00000</td>\n",
       "      <td>690</td>\n",
       "      <td>2.57239</td>\n",
       "      <td>938.92091</td>\n",
       "    </tr>\n",
       "    <tr>\n",
       "      <th>3</th>\n",
       "      <td>4</td>\n",
       "      <td>119213302105</td>\n",
       "      <td>20220614</td>\n",
       "      <td>143374.00000</td>\n",
       "      <td>20200616.00000</td>\n",
       "      <td>141830.00000</td>\n",
       "      <td>728.00000</td>\n",
       "      <td>1544.00000</td>\n",
       "      <td>325</td>\n",
       "      <td>2.12088</td>\n",
       "      <td>774.12088</td>\n",
       "    </tr>\n",
       "    <tr>\n",
       "      <th>4</th>\n",
       "      <td>4</td>\n",
       "      <td>119213302118다</td>\n",
       "      <td>20210621</td>\n",
       "      <td>140409.00000</td>\n",
       "      <td>20190520.00000</td>\n",
       "      <td>139441.00000</td>\n",
       "      <td>763.00000</td>\n",
       "      <td>968.00000</td>\n",
       "      <td>683</td>\n",
       "      <td>1.26868</td>\n",
       "      <td>463.06684</td>\n",
       "    </tr>\n",
       "  </tbody>\n",
       "</table>\n",
       "</div>"
      ],
      "text/plain": [
       "  배출가스등급           차대번호    최신검사일자       최신주행거리         이전검사일자       이전주행거리   \n",
       "0      4  119213301753다  20220407 128563.00000 20200409.00000 128272.00000  \\\n",
       "1      4   119213302045  20201223  94103.00000 20190114.00000  93977.00000   \n",
       "2      4  119213302056다  20210614 234307.00000 20190530.00000 232388.00000   \n",
       "3      4   119213302105  20220614 143374.00000 20200616.00000 141830.00000   \n",
       "4      4  119213302118다  20210621 140409.00000 20190520.00000 139441.00000   \n",
       "\n",
       "     검사일자차이     주행거리차이  최신경과기간  일일평균주행거리    연간주행거리  \n",
       "0 728.00000  291.00000     393   0.39973 145.89973  \n",
       "1 709.00000  126.00000     863   0.17772  64.86601  \n",
       "2 746.00000 1919.00000     690   2.57239 938.92091  \n",
       "3 728.00000 1544.00000     325   2.12088 774.12088  \n",
       "4 763.00000  968.00000     683   1.26868 463.06684  "
      ]
     },
     "execution_count": 102,
     "metadata": {},
     "output_type": "execute_result"
    }
   ],
   "source": [
    "chkm['연간주행거리'] = chkm['일일평균주행거리'] * 365\n",
    "chkm.head()"
   ]
  },
  {
   "cell_type": "code",
   "execution_count": 103,
   "metadata": {},
   "outputs": [
    {
     "data": {
      "text/plain": [
       "count   2272421.00000\n",
       "mean      13464.00435\n",
       "std       27220.63595\n",
       "min           0.31547\n",
       "25%        4298.13984\n",
       "50%        8790.72704\n",
       "75%       15356.54545\n",
       "max      963576.33285\n",
       "Name: 연간주행거리, dtype: float64"
      ]
     },
     "execution_count": 103,
     "metadata": {},
     "output_type": "execute_result"
    }
   ],
   "source": [
    "chkm['연간주행거리'].describe()"
   ]
  },
  {
   "cell_type": "code",
   "execution_count": 104,
   "metadata": {},
   "outputs": [
    {
     "data": {
      "text/html": [
       "<div>\n",
       "<style scoped>\n",
       "    .dataframe tbody tr th:only-of-type {\n",
       "        vertical-align: middle;\n",
       "    }\n",
       "\n",
       "    .dataframe tbody tr th {\n",
       "        vertical-align: top;\n",
       "    }\n",
       "\n",
       "    .dataframe thead th {\n",
       "        text-align: right;\n",
       "    }\n",
       "</style>\n",
       "<table border=\"1\" class=\"dataframe\">\n",
       "  <thead>\n",
       "    <tr style=\"text-align: right;\">\n",
       "      <th></th>\n",
       "      <th>배출가스등급</th>\n",
       "      <th>차대번호</th>\n",
       "      <th>최신검사일자</th>\n",
       "      <th>최신주행거리</th>\n",
       "      <th>이전검사일자</th>\n",
       "      <th>이전주행거리</th>\n",
       "      <th>검사일자차이</th>\n",
       "      <th>주행거리차이</th>\n",
       "      <th>최신경과기간</th>\n",
       "      <th>일일평균주행거리</th>\n",
       "      <th>연간주행거리</th>\n",
       "    </tr>\n",
       "  </thead>\n",
       "  <tbody>\n",
       "  </tbody>\n",
       "</table>\n",
       "</div>"
      ],
      "text/plain": [
       "Empty DataFrame\n",
       "Columns: [배출가스등급, 차대번호, 최신검사일자, 최신주행거리, 이전검사일자, 이전주행거리, 검사일자차이, 주행거리차이, 최신경과기간, 일일평균주행거리, 연간주행거리]\n",
       "Index: []"
      ]
     },
     "execution_count": 104,
     "metadata": {},
     "output_type": "execute_result"
    }
   ],
   "source": [
    "chkm[chkm['연간주행거리'] == np.inf]"
   ]
  },
  {
   "cell_type": "code",
   "execution_count": 105,
   "metadata": {},
   "outputs": [
    {
     "data": {
      "text/html": [
       "<div>\n",
       "<style scoped>\n",
       "    .dataframe tbody tr th:only-of-type {\n",
       "        vertical-align: middle;\n",
       "    }\n",
       "\n",
       "    .dataframe tbody tr th {\n",
       "        vertical-align: top;\n",
       "    }\n",
       "\n",
       "    .dataframe thead th {\n",
       "        text-align: right;\n",
       "    }\n",
       "</style>\n",
       "<table border=\"1\" class=\"dataframe\">\n",
       "  <thead>\n",
       "    <tr style=\"text-align: right;\">\n",
       "      <th></th>\n",
       "      <th>배출가스등급</th>\n",
       "      <th>차대번호</th>\n",
       "      <th>최신검사일자</th>\n",
       "      <th>최신주행거리</th>\n",
       "      <th>이전검사일자</th>\n",
       "      <th>이전주행거리</th>\n",
       "      <th>검사일자차이</th>\n",
       "      <th>주행거리차이</th>\n",
       "      <th>최신경과기간</th>\n",
       "      <th>일일평균주행거리</th>\n",
       "      <th>연간주행거리</th>\n",
       "    </tr>\n",
       "  </thead>\n",
       "  <tbody>\n",
       "  </tbody>\n",
       "</table>\n",
       "</div>"
      ],
      "text/plain": [
       "Empty DataFrame\n",
       "Columns: [배출가스등급, 차대번호, 최신검사일자, 최신주행거리, 이전검사일자, 이전주행거리, 검사일자차이, 주행거리차이, 최신경과기간, 일일평균주행거리, 연간주행거리]\n",
       "Index: []"
      ]
     },
     "execution_count": 105,
     "metadata": {},
     "output_type": "execute_result"
    }
   ],
   "source": [
    "chkm[chkm['연간주행거리'] == -np.inf]"
   ]
  },
  {
   "cell_type": "code",
   "execution_count": 106,
   "metadata": {},
   "outputs": [
    {
     "data": {
      "text/html": [
       "<div>\n",
       "<style scoped>\n",
       "    .dataframe tbody tr th:only-of-type {\n",
       "        vertical-align: middle;\n",
       "    }\n",
       "\n",
       "    .dataframe tbody tr th {\n",
       "        vertical-align: top;\n",
       "    }\n",
       "\n",
       "    .dataframe thead th {\n",
       "        text-align: right;\n",
       "    }\n",
       "</style>\n",
       "<table border=\"1\" class=\"dataframe\">\n",
       "  <thead>\n",
       "    <tr style=\"text-align: right;\">\n",
       "      <th></th>\n",
       "      <th>배출가스등급</th>\n",
       "      <th>차대번호</th>\n",
       "      <th>최신검사일자</th>\n",
       "      <th>최신주행거리</th>\n",
       "      <th>이전검사일자</th>\n",
       "      <th>이전주행거리</th>\n",
       "      <th>검사일자차이</th>\n",
       "      <th>주행거리차이</th>\n",
       "      <th>최신경과기간</th>\n",
       "      <th>일일평균주행거리</th>\n",
       "      <th>연간주행거리</th>\n",
       "    </tr>\n",
       "  </thead>\n",
       "  <tbody>\n",
       "  </tbody>\n",
       "</table>\n",
       "</div>"
      ],
      "text/plain": [
       "Empty DataFrame\n",
       "Columns: [배출가스등급, 차대번호, 최신검사일자, 최신주행거리, 이전검사일자, 이전주행거리, 검사일자차이, 주행거리차이, 최신경과기간, 일일평균주행거리, 연간주행거리]\n",
       "Index: []"
      ]
     },
     "execution_count": 106,
     "metadata": {},
     "output_type": "execute_result"
    }
   ],
   "source": [
    "chkm[chkm['검사일자차이'] == 0]"
   ]
  },
  {
   "cell_type": "code",
   "execution_count": 107,
   "metadata": {},
   "outputs": [
    {
     "data": {
      "text/plain": [
       "이전검사일자    0\n",
       "이전주행거리    0\n",
       "dtype: int64"
      ]
     },
     "execution_count": 107,
     "metadata": {},
     "output_type": "execute_result"
    }
   ],
   "source": [
    "chkm[['이전검사일자', '이전주행거리']].isnull().sum()"
   ]
  },
  {
   "cell_type": "code",
   "execution_count": 108,
   "metadata": {},
   "outputs": [
    {
     "data": {
      "text/html": [
       "<div>\n",
       "<style scoped>\n",
       "    .dataframe tbody tr th:only-of-type {\n",
       "        vertical-align: middle;\n",
       "    }\n",
       "\n",
       "    .dataframe tbody tr th {\n",
       "        vertical-align: top;\n",
       "    }\n",
       "\n",
       "    .dataframe thead th {\n",
       "        text-align: right;\n",
       "    }\n",
       "</style>\n",
       "<table border=\"1\" class=\"dataframe\">\n",
       "  <thead>\n",
       "    <tr style=\"text-align: right;\">\n",
       "      <th></th>\n",
       "      <th>배출가스등급</th>\n",
       "      <th>차대번호</th>\n",
       "      <th>최신검사일자</th>\n",
       "      <th>최신주행거리</th>\n",
       "      <th>이전검사일자</th>\n",
       "      <th>이전주행거리</th>\n",
       "      <th>검사일자차이</th>\n",
       "      <th>주행거리차이</th>\n",
       "      <th>최신경과기간</th>\n",
       "      <th>일일평균주행거리</th>\n",
       "      <th>연간주행거리</th>\n",
       "    </tr>\n",
       "  </thead>\n",
       "  <tbody>\n",
       "  </tbody>\n",
       "</table>\n",
       "</div>"
      ],
      "text/plain": [
       "Empty DataFrame\n",
       "Columns: [배출가스등급, 차대번호, 최신검사일자, 최신주행거리, 이전검사일자, 이전주행거리, 검사일자차이, 주행거리차이, 최신경과기간, 일일평균주행거리, 연간주행거리]\n",
       "Index: []"
      ]
     },
     "execution_count": 108,
     "metadata": {},
     "output_type": "execute_result"
    }
   ],
   "source": [
    "chkm[chkm['이전검사일자'].isnull() == True]"
   ]
  },
  {
   "cell_type": "code",
   "execution_count": 109,
   "metadata": {},
   "outputs": [
    {
     "data": {
      "text/plain": [
       "배출가스등급\n",
       "4     1239180\n",
       "5     1033201\n",
       "T5         22\n",
       "T4         18\n",
       "Name: count, dtype: int64"
      ]
     },
     "execution_count": 109,
     "metadata": {},
     "output_type": "execute_result"
    }
   ],
   "source": [
    "chkm['배출가스등급'].value_counts(dropna=False)"
   ]
  },
  {
   "cell_type": "code",
   "execution_count": 110,
   "metadata": {},
   "outputs": [
    {
     "data": {
      "text/plain": [
       "Series([], Name: count, dtype: int64)"
      ]
     },
     "execution_count": 110,
     "metadata": {},
     "output_type": "execute_result"
    }
   ],
   "source": [
    "chkm.loc[chkm['이전검사일자'].isnull() == True, '배출가스등급'].value_counts(dropna=False)"
   ]
  },
  {
   "cell_type": "code",
   "execution_count": 111,
   "metadata": {},
   "outputs": [
    {
     "data": {
      "text/plain": [
       "(0, 11)"
      ]
     },
     "execution_count": 111,
     "metadata": {},
     "output_type": "execute_result"
    }
   ],
   "source": [
    "chkm[(chkm['배출가스등급'] == '4') & (chkm['검사일자차이'] == 0)].shape"
   ]
  },
  {
   "cell_type": "code",
   "execution_count": 112,
   "metadata": {},
   "outputs": [
    {
     "data": {
      "text/plain": [
       "(0, 11)"
      ]
     },
     "execution_count": 112,
     "metadata": {},
     "output_type": "execute_result"
    }
   ],
   "source": [
    "chkm[(chkm['배출가스등급'] == '5') & (chkm['검사일자차이'] == 0)].shape"
   ]
  },
  {
   "cell_type": "code",
   "execution_count": 113,
   "metadata": {},
   "outputs": [
    {
     "data": {
      "text/plain": [
       "배출가스등급\n",
       "4     1239180\n",
       "5     1033201\n",
       "T5         22\n",
       "T4         18\n",
       "Name: count, dtype: int64"
      ]
     },
     "execution_count": 113,
     "metadata": {},
     "output_type": "execute_result"
    }
   ],
   "source": [
    "chkm['배출가스등급'].value_counts(dropna=False)"
   ]
  },
  {
   "cell_type": "code",
   "execution_count": 114,
   "metadata": {},
   "outputs": [
    {
     "data": {
      "text/plain": [
       "(1239198, 3)"
      ]
     },
     "execution_count": 114,
     "metadata": {},
     "output_type": "execute_result"
    }
   ],
   "source": [
    "chkm4 = chkm.loc[(chkm['배출가스등급'] == '4') | (chkm['배출가스등급'] == 'T4'), ['차대번호', '연간주행거리', '최신경과기간']].reset_index(drop=True)\n",
    "chkm4.shape"
   ]
  },
  {
   "cell_type": "code",
   "execution_count": 115,
   "metadata": {},
   "outputs": [
    {
     "data": {
      "text/plain": [
       "(1033223, 3)"
      ]
     },
     "execution_count": 115,
     "metadata": {},
     "output_type": "execute_result"
    }
   ],
   "source": [
    "chkm5 = chkm.loc[(chkm['배출가스등급'] == '5') | (chkm['배출가스등급'] == 'T5'), ['차대번호', '연간주행거리', '최신경과기간']].reset_index(drop=True)\n",
    "chkm5.shape"
   ]
  },
  {
   "cell_type": "code",
   "execution_count": 116,
   "metadata": {},
   "outputs": [
    {
     "data": {
      "text/plain": [
       "(1502235, 36)"
      ]
     },
     "execution_count": 116,
     "metadata": {},
     "output_type": "execute_result"
    }
   ],
   "source": [
    "gm4.shape"
   ]
  },
  {
   "cell_type": "code",
   "execution_count": 117,
   "metadata": {},
   "outputs": [
    {
     "data": {
      "text/plain": [
       "Index(['차대번호', '차량번호', '제원관리번호', '차종', '용도', '최초등록일', '연식', '제작일자', '검사유효일',\n",
       "       '배출가스인증번호', '등급', '차명', '차종분류', '차종유형', '자동차형식', '제작사명', '연료', '엔진형식',\n",
       "       '총중량', '적재중량', '엔진출력', '배기량', '법정동코드', '시도명', '시군구명', '소유자구분', '말소여부',\n",
       "       '배인번호_수정', '등급_수정', 'DPF유무_수정', 'Grade', '시군구명_수정', '1일평균주행거리',\n",
       "       '조기폐차최종승인YN', '저감장치', '장치일련번호'],\n",
       "      dtype='object')"
      ]
     },
     "execution_count": 117,
     "metadata": {},
     "output_type": "execute_result"
    }
   ],
   "source": [
    "gm4.columns"
   ]
  },
  {
   "cell_type": "code",
   "execution_count": 118,
   "metadata": {},
   "outputs": [
    {
     "data": {
      "text/plain": [
       "(1502235, 38)"
      ]
     },
     "execution_count": 118,
     "metadata": {},
     "output_type": "execute_result"
    }
   ],
   "source": [
    "gm4 = gm4.merge(chkm4, on='차대번호', how='left')\n",
    "gm4.shape"
   ]
  },
  {
   "cell_type": "code",
   "execution_count": 119,
   "metadata": {},
   "outputs": [
    {
     "data": {
      "text/plain": [
       "(1156523, 18)"
      ]
     },
     "execution_count": 119,
     "metadata": {},
     "output_type": "execute_result"
    }
   ],
   "source": [
    "gm5.shape"
   ]
  },
  {
   "cell_type": "code",
   "execution_count": 120,
   "metadata": {},
   "outputs": [
    {
     "data": {
      "text/plain": [
       "(1156523, 20)"
      ]
     },
     "execution_count": 120,
     "metadata": {},
     "output_type": "execute_result"
    }
   ],
   "source": [
    "gm5 = gm5.merge(chkm5, on='차대번호', how='left')\n",
    "gm5.shape"
   ]
  },
  {
   "attachments": {},
   "cell_type": "markdown",
   "metadata": {},
   "source": [
    "## 지역 추가(code)"
   ]
  },
  {
   "cell_type": "code",
   "execution_count": 121,
   "metadata": {},
   "outputs": [
    {
     "data": {
      "text/plain": [
       "Index(['차대번호', '차량번호', '제원관리번호', '차종', '용도', '최초등록일', '연식', '제작일자', '검사유효일',\n",
       "       '배출가스인증번호', '등급', '차명', '차종분류', '차종유형', '자동차형식', '제작사명', '연료', '엔진형식',\n",
       "       '총중량', '적재중량', '엔진출력', '배기량', '법정동코드', '시도명', '시군구명', '소유자구분', '말소여부',\n",
       "       '배인번호_수정', '등급_수정', 'DPF유무_수정', 'Grade', '시군구명_수정', '1일평균주행거리',\n",
       "       '조기폐차최종승인YN', '저감장치', '장치일련번호', '연간주행거리', '최신경과기간'],\n",
       "      dtype='object')"
      ]
     },
     "execution_count": 121,
     "metadata": {},
     "output_type": "execute_result"
    }
   ],
   "source": [
    "gm4.columns"
   ]
  },
  {
   "cell_type": "code",
   "execution_count": 122,
   "metadata": {},
   "outputs": [],
   "source": [
    "# gm4 = gm4.merge(code, on='본거지법정동코드', how='left')\n",
    "# gm4.shape"
   ]
  },
  {
   "cell_type": "code",
   "execution_count": 123,
   "metadata": {},
   "outputs": [],
   "source": [
    "# gm4[['시도명', '시군구명_수정']].isnull().sum()"
   ]
  },
  {
   "cell_type": "code",
   "execution_count": 124,
   "metadata": {},
   "outputs": [],
   "source": [
    "# gm4.loc[gm4['시구군'].isnull() == True]"
   ]
  },
  {
   "cell_type": "code",
   "execution_count": 125,
   "metadata": {},
   "outputs": [
    {
     "data": {
      "text/plain": [
       "Index(['차량등록번호', '본거지법정동코드', '차대번호', '제원관리번호', '배출가스인증번호', '배출가스등급', '용도',\n",
       "       '차명', '차종_제원정보', '차종유형(소분류)', '연료', '배기량', '총중량', '차량연식', '조기폐차최종승인YN',\n",
       "       '저감장치', '장치일련번호', '저감효율', '연간주행거리', '최신경과기간'],\n",
       "      dtype='object')"
      ]
     },
     "execution_count": 125,
     "metadata": {},
     "output_type": "execute_result"
    }
   ],
   "source": [
    "gm5.columns"
   ]
  },
  {
   "cell_type": "code",
   "execution_count": 126,
   "metadata": {},
   "outputs": [
    {
     "data": {
      "text/plain": [
       "(1156523, 22)"
      ]
     },
     "execution_count": 126,
     "metadata": {},
     "output_type": "execute_result"
    }
   ],
   "source": [
    "gm5 = gm5.merge(code, on='본거지법정동코드', how='left')\n",
    "gm5.shape"
   ]
  },
  {
   "cell_type": "code",
   "execution_count": 127,
   "metadata": {},
   "outputs": [
    {
     "data": {
      "text/plain": [
       "시도      0\n",
       "시구군    21\n",
       "dtype: int64"
      ]
     },
     "execution_count": 127,
     "metadata": {},
     "output_type": "execute_result"
    }
   ],
   "source": [
    "gm5[['시도', '시구군']].isnull().sum()"
   ]
  },
  {
   "cell_type": "code",
   "execution_count": 128,
   "metadata": {},
   "outputs": [
    {
     "data": {
      "text/plain": [
       "(21, 22)"
      ]
     },
     "execution_count": 128,
     "metadata": {},
     "output_type": "execute_result"
    }
   ],
   "source": [
    "gm5.loc[gm5['시구군'].isnull() == True].shape"
   ]
  },
  {
   "cell_type": "code",
   "execution_count": 129,
   "metadata": {},
   "outputs": [
    {
     "data": {
      "text/plain": [
       "100       영등포구\n",
       "101        정선군\n",
       "102         중구\n",
       "103        경산시\n",
       "104    전주시 덕진구\n",
       "105        양평군\n",
       "Name: 시구군, dtype: object"
      ]
     },
     "execution_count": 129,
     "metadata": {},
     "output_type": "execute_result"
    }
   ],
   "source": [
    "gm5.loc[100:105, '시구군']"
   ]
  },
  {
   "cell_type": "code",
   "execution_count": 130,
   "metadata": {},
   "outputs": [],
   "source": [
    "gm5['시구군'] = gm5['시구군'].str.split(' ').str[0]"
   ]
  },
  {
   "cell_type": "code",
   "execution_count": 131,
   "metadata": {},
   "outputs": [
    {
     "data": {
      "text/plain": [
       "100    영등포구\n",
       "101     정선군\n",
       "102      중구\n",
       "103     경산시\n",
       "104     전주시\n",
       "105     양평군\n",
       "Name: 시구군, dtype: object"
      ]
     },
     "execution_count": 131,
     "metadata": {},
     "output_type": "execute_result"
    }
   ],
   "source": [
    "gm5.loc[100:105, '시구군']"
   ]
  },
  {
   "attachments": {},
   "cell_type": "markdown",
   "metadata": {},
   "source": [
    "### 주행거리 수정\n",
    "- 오류 확인\n",
    "    - nan\n",
    "    - 음수, 0"
   ]
  },
  {
   "cell_type": "code",
   "execution_count": 132,
   "metadata": {},
   "outputs": [
    {
     "data": {
      "text/plain": [
       "420078"
      ]
     },
     "execution_count": 132,
     "metadata": {},
     "output_type": "execute_result"
    }
   ],
   "source": [
    "gm4['연간주행거리'].isnull().sum()"
   ]
  },
  {
   "cell_type": "code",
   "execution_count": 133,
   "metadata": {},
   "outputs": [
    {
     "data": {
      "text/plain": [
       "0"
      ]
     },
     "execution_count": 133,
     "metadata": {},
     "output_type": "execute_result"
    }
   ],
   "source": [
    "gm4['연간주행거리'] = gm4['연간주행거리'].fillna(0)\n",
    "gm4['연간주행거리'].isnull().sum()"
   ]
  },
  {
   "cell_type": "code",
   "execution_count": 134,
   "metadata": {},
   "outputs": [
    {
     "data": {
      "text/plain": [
       "522876"
      ]
     },
     "execution_count": 134,
     "metadata": {},
     "output_type": "execute_result"
    }
   ],
   "source": [
    "gm5['연간주행거리'].isnull().sum()"
   ]
  },
  {
   "cell_type": "code",
   "execution_count": 135,
   "metadata": {},
   "outputs": [
    {
     "data": {
      "text/plain": [
       "0"
      ]
     },
     "execution_count": 135,
     "metadata": {},
     "output_type": "execute_result"
    }
   ],
   "source": [
    "gm5['연간주행거리'] = gm5['연간주행거리'].fillna(0)\n",
    "gm5['연간주행거리'].isnull().sum()"
   ]
  },
  {
   "cell_type": "code",
   "execution_count": 136,
   "metadata": {},
   "outputs": [
    {
     "data": {
      "text/plain": [
       "(420078, 38)"
      ]
     },
     "execution_count": 136,
     "metadata": {},
     "output_type": "execute_result"
    }
   ],
   "source": [
    "gm4.loc[gm4['연간주행거리'] <= 0].shape"
   ]
  },
  {
   "cell_type": "code",
   "execution_count": 137,
   "metadata": {},
   "outputs": [
    {
     "data": {
      "text/plain": [
       "(522876, 22)"
      ]
     },
     "execution_count": 137,
     "metadata": {},
     "output_type": "execute_result"
    }
   ],
   "source": [
    "gm5.loc[gm5['연간주행거리'] <= 0].shape"
   ]
  },
  {
   "cell_type": "code",
   "execution_count": 138,
   "metadata": {},
   "outputs": [
    {
     "data": {
      "text/plain": [
       "Index(['차대번호', '차량번호', '제원관리번호', '차종', '용도', '최초등록일', '연식', '제작일자', '검사유효일',\n",
       "       '배출가스인증번호', '등급', '차명', '차종분류', '차종유형', '자동차형식', '제작사명', '연료', '엔진형식',\n",
       "       '총중량', '적재중량', '엔진출력', '배기량', '법정동코드', '시도명', '시군구명', '소유자구분', '말소여부',\n",
       "       '배인번호_수정', '등급_수정', 'DPF유무_수정', 'Grade', '시군구명_수정', '1일평균주행거리',\n",
       "       '조기폐차최종승인YN', '저감장치', '장치일련번호', '연간주행거리', '최신경과기간'],\n",
       "      dtype='object')"
      ]
     },
     "execution_count": 138,
     "metadata": {},
     "output_type": "execute_result"
    }
   ],
   "source": [
    "gm4.columns"
   ]
  },
  {
   "cell_type": "code",
   "execution_count": 139,
   "metadata": {},
   "outputs": [
    {
     "data": {
      "text/plain": [
       "Index(['차량등록번호', '본거지법정동코드', '차대번호', '제원관리번호', '배출가스인증번호', '배출가스등급', '용도',\n",
       "       '차명', '차종_제원정보', '차종유형(소분류)', '연료', '배기량', '총중량', '차량연식', '조기폐차최종승인YN',\n",
       "       '저감장치', '장치일련번호', '저감효율', '연간주행거리', '최신경과기간', '시도', '시구군'],\n",
       "      dtype='object')"
      ]
     },
     "execution_count": 139,
     "metadata": {},
     "output_type": "execute_result"
    }
   ],
   "source": [
    "gm5.columns"
   ]
  },
  {
   "cell_type": "code",
   "execution_count": 140,
   "metadata": {},
   "outputs": [
    {
     "data": {
      "text/plain": [
       "Index(['차량등록번호', '본거지법정동코드', '차대번호', '제원관리번호', '배출가스인증번호', '배출가스등급', '용도',\n",
       "       '차명', '차종', '차종유형', '연료', '배기량', '총중량', '차량연식', '조기폐차최종승인YN', '저감장치',\n",
       "       '장치일련번호', '저감효율', '연간주행거리', '최신경과기간', '시도', '시구군'],\n",
       "      dtype='object')"
      ]
     },
     "execution_count": 140,
     "metadata": {},
     "output_type": "execute_result"
    }
   ],
   "source": [
    "# gm4 = gm4.rename(columns={'차종_제원정보':'차종'})\n",
    "gm5 = gm5.rename(columns={'차종_제원정보':'차종', '차종유형(소분류)':'차종유형'})\n",
    "gm5.columns"
   ]
  },
  {
   "attachments": {},
   "cell_type": "markdown",
   "metadata": {},
   "source": [
    "#### 주행거리 0이하 데이터프레임 분리"
   ]
  },
  {
   "cell_type": "code",
   "execution_count": 141,
   "metadata": {},
   "outputs": [
    {
     "data": {
      "text/plain": [
       "((1082157, 38), (420078, 38))"
      ]
     },
     "execution_count": 141,
     "metadata": {},
     "output_type": "execute_result"
    }
   ],
   "source": [
    "gm4y = gm4.loc[gm4['연간주행거리'] > 0].reset_index(drop=True)\n",
    "gm4n = gm4.loc[gm4['연간주행거리'] <= 0].reset_index(drop=True)\n",
    "gm4y.shape, gm4n.shape"
   ]
  },
  {
   "cell_type": "code",
   "execution_count": 142,
   "metadata": {},
   "outputs": [
    {
     "data": {
      "text/plain": [
       "((633647, 22), (522876, 22))"
      ]
     },
     "execution_count": 142,
     "metadata": {},
     "output_type": "execute_result"
    }
   ],
   "source": [
    "gm5y = gm5.loc[gm5['연간주행거리'] > 0].reset_index(drop=True)\n",
    "gm5n = gm5.loc[gm5['연간주행거리'] <= 0].reset_index(drop=True)\n",
    "gm5y.shape, gm5n.shape"
   ]
  },
  {
   "attachments": {},
   "cell_type": "markdown",
   "metadata": {},
   "source": [
    "#### KOSIS 데이터로 수정"
   ]
  },
  {
   "cell_type": "code",
   "execution_count": 143,
   "metadata": {},
   "outputs": [
    {
     "name": "stdout",
     "output_type": "stream",
     "text": [
      "<class 'pandas.core.frame.DataFrame'>\n",
      "RangeIndex: 1230 entries, 0 to 1229\n",
      "Data columns (total 4 columns):\n",
      " #   Column  Non-Null Count  Dtype  \n",
      "---  ------  --------------  -----  \n",
      " 0   시도명     1230 non-null   object \n",
      " 1   시군구명    1230 non-null   object \n",
      " 2   차종      1230 non-null   object \n",
      " 3   전체      1230 non-null   float64\n",
      "dtypes: float64(1), object(3)\n",
      "memory usage: 38.6+ KB\n"
     ]
    }
   ],
   "source": [
    "# about 0.2s\n",
    "name = '용도별_차종별_시군구별_자동차1일평균주행거리(2021)'\n",
    "file_name = f'{name}.xlsx'\n",
    "kos = pd.read_excel(os.path.join(ods_fold, file_name))\n",
    "kos.info()"
   ]
  },
  {
   "cell_type": "code",
   "execution_count": 144,
   "metadata": {},
   "outputs": [
    {
     "data": {
      "text/html": [
       "<div>\n",
       "<style scoped>\n",
       "    .dataframe tbody tr th:only-of-type {\n",
       "        vertical-align: middle;\n",
       "    }\n",
       "\n",
       "    .dataframe tbody tr th {\n",
       "        vertical-align: top;\n",
       "    }\n",
       "\n",
       "    .dataframe thead th {\n",
       "        text-align: right;\n",
       "    }\n",
       "</style>\n",
       "<table border=\"1\" class=\"dataframe\">\n",
       "  <thead>\n",
       "    <tr style=\"text-align: right;\">\n",
       "      <th></th>\n",
       "      <th>시도</th>\n",
       "      <th>시구군</th>\n",
       "      <th>차종</th>\n",
       "      <th>1일평균주행거리</th>\n",
       "    </tr>\n",
       "  </thead>\n",
       "  <tbody>\n",
       "    <tr>\n",
       "      <th>0</th>\n",
       "      <td>서울특별시</td>\n",
       "      <td>소계</td>\n",
       "      <td>합계</td>\n",
       "      <td>36.60000</td>\n",
       "    </tr>\n",
       "    <tr>\n",
       "      <th>1</th>\n",
       "      <td>서울특별시</td>\n",
       "      <td>소계</td>\n",
       "      <td>승용</td>\n",
       "      <td>33.90000</td>\n",
       "    </tr>\n",
       "    <tr>\n",
       "      <th>2</th>\n",
       "      <td>서울특별시</td>\n",
       "      <td>소계</td>\n",
       "      <td>승합</td>\n",
       "      <td>48.30000</td>\n",
       "    </tr>\n",
       "    <tr>\n",
       "      <th>3</th>\n",
       "      <td>서울특별시</td>\n",
       "      <td>소계</td>\n",
       "      <td>화물</td>\n",
       "      <td>54.40000</td>\n",
       "    </tr>\n",
       "    <tr>\n",
       "      <th>4</th>\n",
       "      <td>서울특별시</td>\n",
       "      <td>소계</td>\n",
       "      <td>특수</td>\n",
       "      <td>49.30000</td>\n",
       "    </tr>\n",
       "  </tbody>\n",
       "</table>\n",
       "</div>"
      ],
      "text/plain": [
       "      시도 시구군  차종  1일평균주행거리\n",
       "0  서울특별시  소계  합계  36.60000\n",
       "1  서울특별시  소계  승용  33.90000\n",
       "2  서울특별시  소계  승합  48.30000\n",
       "3  서울특별시  소계  화물  54.40000\n",
       "4  서울특별시  소계  특수  49.30000"
      ]
     },
     "execution_count": 144,
     "metadata": {},
     "output_type": "execute_result"
    }
   ],
   "source": [
    "kos = kos.rename(columns={'시도명':'시도', '시군구명':'시구군', '전체':'1일평균주행거리'})\n",
    "kos.head()"
   ]
  },
  {
   "cell_type": "code",
   "execution_count": 145,
   "metadata": {},
   "outputs": [
    {
     "data": {
      "text/html": [
       "<div>\n",
       "<style scoped>\n",
       "    .dataframe tbody tr th:only-of-type {\n",
       "        vertical-align: middle;\n",
       "    }\n",
       "\n",
       "    .dataframe tbody tr th {\n",
       "        vertical-align: top;\n",
       "    }\n",
       "\n",
       "    .dataframe thead th {\n",
       "        text-align: right;\n",
       "    }\n",
       "</style>\n",
       "<table border=\"1\" class=\"dataframe\">\n",
       "  <thead>\n",
       "    <tr style=\"text-align: right;\">\n",
       "      <th></th>\n",
       "      <th>시도</th>\n",
       "      <th>시구군</th>\n",
       "      <th>차종</th>\n",
       "      <th>1일평균주행거리</th>\n",
       "    </tr>\n",
       "  </thead>\n",
       "  <tbody>\n",
       "    <tr>\n",
       "      <th>0</th>\n",
       "      <td>서울특별시</td>\n",
       "      <td>NaN</td>\n",
       "      <td>합계</td>\n",
       "      <td>36.60000</td>\n",
       "    </tr>\n",
       "    <tr>\n",
       "      <th>1</th>\n",
       "      <td>서울특별시</td>\n",
       "      <td>NaN</td>\n",
       "      <td>승용</td>\n",
       "      <td>33.90000</td>\n",
       "    </tr>\n",
       "    <tr>\n",
       "      <th>2</th>\n",
       "      <td>서울특별시</td>\n",
       "      <td>NaN</td>\n",
       "      <td>승합</td>\n",
       "      <td>48.30000</td>\n",
       "    </tr>\n",
       "    <tr>\n",
       "      <th>3</th>\n",
       "      <td>서울특별시</td>\n",
       "      <td>NaN</td>\n",
       "      <td>화물</td>\n",
       "      <td>54.40000</td>\n",
       "    </tr>\n",
       "    <tr>\n",
       "      <th>4</th>\n",
       "      <td>서울특별시</td>\n",
       "      <td>NaN</td>\n",
       "      <td>특수</td>\n",
       "      <td>49.30000</td>\n",
       "    </tr>\n",
       "  </tbody>\n",
       "</table>\n",
       "</div>"
      ],
      "text/plain": [
       "      시도  시구군  차종  1일평균주행거리\n",
       "0  서울특별시  NaN  합계  36.60000\n",
       "1  서울특별시  NaN  승용  33.90000\n",
       "2  서울특별시  NaN  승합  48.30000\n",
       "3  서울특별시  NaN  화물  54.40000\n",
       "4  서울특별시  NaN  특수  49.30000"
      ]
     },
     "execution_count": 145,
     "metadata": {},
     "output_type": "execute_result"
    }
   ],
   "source": [
    "kos.loc[kos['시구군'] == '소계', '시구군'] = np.nan\n",
    "kos.head()"
   ]
  },
  {
   "cell_type": "code",
   "execution_count": 146,
   "metadata": {},
   "outputs": [
    {
     "data": {
      "text/html": [
       "<div>\n",
       "<style scoped>\n",
       "    .dataframe tbody tr th:only-of-type {\n",
       "        vertical-align: middle;\n",
       "    }\n",
       "\n",
       "    .dataframe tbody tr th {\n",
       "        vertical-align: top;\n",
       "    }\n",
       "\n",
       "    .dataframe thead th {\n",
       "        text-align: right;\n",
       "    }\n",
       "</style>\n",
       "<table border=\"1\" class=\"dataframe\">\n",
       "  <thead>\n",
       "    <tr style=\"text-align: right;\">\n",
       "      <th></th>\n",
       "      <th>시도</th>\n",
       "      <th>시구군</th>\n",
       "      <th>차종</th>\n",
       "      <th>1일평균주행거리</th>\n",
       "    </tr>\n",
       "  </thead>\n",
       "  <tbody>\n",
       "    <tr>\n",
       "      <th>1225</th>\n",
       "      <td>제주특별자치도</td>\n",
       "      <td>서귀포시</td>\n",
       "      <td>합계</td>\n",
       "      <td>35.10000</td>\n",
       "    </tr>\n",
       "    <tr>\n",
       "      <th>1226</th>\n",
       "      <td>제주특별자치도</td>\n",
       "      <td>서귀포시</td>\n",
       "      <td>승용</td>\n",
       "      <td>36.10000</td>\n",
       "    </tr>\n",
       "    <tr>\n",
       "      <th>1227</th>\n",
       "      <td>제주특별자치도</td>\n",
       "      <td>서귀포시</td>\n",
       "      <td>승합</td>\n",
       "      <td>37.20000</td>\n",
       "    </tr>\n",
       "    <tr>\n",
       "      <th>1228</th>\n",
       "      <td>제주특별자치도</td>\n",
       "      <td>서귀포시</td>\n",
       "      <td>화물</td>\n",
       "      <td>32.50000</td>\n",
       "    </tr>\n",
       "    <tr>\n",
       "      <th>1229</th>\n",
       "      <td>제주특별자치도</td>\n",
       "      <td>서귀포시</td>\n",
       "      <td>특수</td>\n",
       "      <td>38.40000</td>\n",
       "    </tr>\n",
       "  </tbody>\n",
       "</table>\n",
       "</div>"
      ],
      "text/plain": [
       "           시도   시구군  차종  1일평균주행거리\n",
       "1225  제주특별자치도  서귀포시  합계  35.10000\n",
       "1226  제주특별자치도  서귀포시  승용  36.10000\n",
       "1227  제주특별자치도  서귀포시  승합  37.20000\n",
       "1228  제주특별자치도  서귀포시  화물  32.50000\n",
       "1229  제주특별자치도  서귀포시  특수  38.40000"
      ]
     },
     "execution_count": 146,
     "metadata": {},
     "output_type": "execute_result"
    }
   ],
   "source": [
    "kos.tail()"
   ]
  },
  {
   "cell_type": "code",
   "execution_count": 147,
   "metadata": {},
   "outputs": [
    {
     "data": {
      "text/plain": [
       "(420078, 38)"
      ]
     },
     "execution_count": 147,
     "metadata": {},
     "output_type": "execute_result"
    }
   ],
   "source": [
    "gm4n.shape"
   ]
  },
  {
   "cell_type": "code",
   "execution_count": 148,
   "metadata": {},
   "outputs": [
    {
     "data": {
      "text/plain": [
       "array(['승용', '특수', '승합', '화물'], dtype=object)"
      ]
     },
     "execution_count": 148,
     "metadata": {},
     "output_type": "execute_result"
    }
   ],
   "source": [
    "gm4n['차종'].unique()"
   ]
  },
  {
   "cell_type": "code",
   "execution_count": 149,
   "metadata": {},
   "outputs": [
    {
     "data": {
      "text/plain": [
       "0"
      ]
     },
     "execution_count": 149,
     "metadata": {},
     "output_type": "execute_result"
    }
   ],
   "source": [
    "gm4n['1일평균주행거리'].isnull().sum()"
   ]
  },
  {
   "cell_type": "code",
   "execution_count": 150,
   "metadata": {},
   "outputs": [
    {
     "data": {
      "text/plain": [
       "(0, 38)"
      ]
     },
     "execution_count": 150,
     "metadata": {},
     "output_type": "execute_result"
    }
   ],
   "source": [
    "gm4n[gm4n['1일평균주행거리'] <= 0].shape"
   ]
  },
  {
   "cell_type": "code",
   "execution_count": 151,
   "metadata": {},
   "outputs": [
    {
     "data": {
      "text/plain": [
       "(420078, 38)"
      ]
     },
     "execution_count": 151,
     "metadata": {},
     "output_type": "execute_result"
    }
   ],
   "source": [
    "gm4n[gm4n['연간주행거리'] <= 0].shape"
   ]
  },
  {
   "cell_type": "code",
   "execution_count": 152,
   "metadata": {},
   "outputs": [],
   "source": [
    "# 연간주행거리가 kosis 1일평균주행거리 * 365\n",
    "gm4n['연간주행거리'] = gm4n['1일평균주행거리'] * 365"
   ]
  },
  {
   "cell_type": "code",
   "execution_count": 153,
   "metadata": {},
   "outputs": [
    {
     "data": {
      "text/plain": [
       "(0, 38)"
      ]
     },
     "execution_count": 153,
     "metadata": {},
     "output_type": "execute_result"
    }
   ],
   "source": [
    "gm4n[gm4n['연간주행거리'] <= 0].shape"
   ]
  },
  {
   "cell_type": "code",
   "execution_count": 154,
   "metadata": {},
   "outputs": [
    {
     "data": {
      "text/plain": [
       "Index(['차대번호', '차량번호', '제원관리번호', '차종', '용도', '최초등록일', '연식', '제작일자', '검사유효일',\n",
       "       '배출가스인증번호', '등급', '차명', '차종분류', '차종유형', '자동차형식', '제작사명', '연료', '엔진형식',\n",
       "       '총중량', '적재중량', '엔진출력', '배기량', '법정동코드', '시도명', '시군구명', '소유자구분', '말소여부',\n",
       "       '배인번호_수정', '등급_수정', 'DPF유무_수정', 'Grade', '시군구명_수정', '1일평균주행거리',\n",
       "       '조기폐차최종승인YN', '저감장치', '장치일련번호', '연간주행거리', '최신경과기간'],\n",
       "      dtype='object')"
      ]
     },
     "execution_count": 154,
     "metadata": {},
     "output_type": "execute_result"
    }
   ],
   "source": [
    "gm4n.columns"
   ]
  },
  {
   "cell_type": "code",
   "execution_count": 155,
   "metadata": {},
   "outputs": [
    {
     "data": {
      "text/plain": [
       "(522876, 22)"
      ]
     },
     "execution_count": 155,
     "metadata": {},
     "output_type": "execute_result"
    }
   ],
   "source": [
    "gm5n.shape"
   ]
  },
  {
   "cell_type": "code",
   "execution_count": 156,
   "metadata": {},
   "outputs": [
    {
     "data": {
      "text/plain": [
       "(522876, 23)"
      ]
     },
     "execution_count": 156,
     "metadata": {},
     "output_type": "execute_result"
    }
   ],
   "source": [
    "gm5n = gm5n.merge(kos, on=['시도', '시구군', '차종'], how='left')\n",
    "gm5n.shape"
   ]
  },
  {
   "cell_type": "code",
   "execution_count": 157,
   "metadata": {},
   "outputs": [
    {
     "data": {
      "text/plain": [
       "4197"
      ]
     },
     "execution_count": 157,
     "metadata": {},
     "output_type": "execute_result"
    }
   ],
   "source": [
    "gm5n['1일평균주행거리'].isnull().sum()"
   ]
  },
  {
   "cell_type": "code",
   "execution_count": 158,
   "metadata": {},
   "outputs": [],
   "source": [
    "# about 3m 55.6s\n",
    "for one, two in gm5n.loc[gm5n['1일평균주행거리'].isnull() == True, ['시도', '차종']].values:\n",
    "    gm5n.loc[(gm5n['1일평균주행거리'].isnull() == True) & (gm5n['시도'] == one) & (gm5n['차종'] == two), '1일평균주행거리'] = kos.loc[(kos['시도'] == one) & (kos['차종'] == two), '1일평균주행거리'].values[0]"
   ]
  },
  {
   "cell_type": "code",
   "execution_count": 159,
   "metadata": {},
   "outputs": [
    {
     "data": {
      "text/plain": [
       "0"
      ]
     },
     "execution_count": 159,
     "metadata": {},
     "output_type": "execute_result"
    }
   ],
   "source": [
    "gm5n['1일평균주행거리'].isnull().sum()"
   ]
  },
  {
   "cell_type": "code",
   "execution_count": 160,
   "metadata": {},
   "outputs": [
    {
     "data": {
      "text/plain": [
       "count   522876.00000\n",
       "mean        46.36355\n",
       "std         13.96188\n",
       "min          7.80000\n",
       "25%         36.40000\n",
       "50%         45.30000\n",
       "75%         53.50000\n",
       "max        269.00000\n",
       "Name: 1일평균주행거리, dtype: float64"
      ]
     },
     "execution_count": 160,
     "metadata": {},
     "output_type": "execute_result"
    }
   ],
   "source": [
    "gm5n['1일평균주행거리'].describe()"
   ]
  },
  {
   "cell_type": "code",
   "execution_count": 161,
   "metadata": {},
   "outputs": [
    {
     "data": {
      "text/plain": [
       "(0, 23)"
      ]
     },
     "execution_count": 161,
     "metadata": {},
     "output_type": "execute_result"
    }
   ],
   "source": [
    "gm5n.loc[gm5n['1일평균주행거리'] <= 0].shape"
   ]
  },
  {
   "cell_type": "code",
   "execution_count": 162,
   "metadata": {},
   "outputs": [
    {
     "data": {
      "text/plain": [
       "(522876, 23)"
      ]
     },
     "execution_count": 162,
     "metadata": {},
     "output_type": "execute_result"
    }
   ],
   "source": [
    "gm5n.loc[gm5n['연간주행거리'] <= 0].shape"
   ]
  },
  {
   "cell_type": "code",
   "execution_count": 163,
   "metadata": {},
   "outputs": [],
   "source": [
    "gm5n['연간주행거리'] = gm5n['1일평균주행거리'] * 365"
   ]
  },
  {
   "cell_type": "code",
   "execution_count": 164,
   "metadata": {},
   "outputs": [
    {
     "data": {
      "text/plain": [
       "(0, 23)"
      ]
     },
     "execution_count": 164,
     "metadata": {},
     "output_type": "execute_result"
    }
   ],
   "source": [
    "gm5n.loc[gm5n['연간주행거리'] <= 0].shape"
   ]
  },
  {
   "cell_type": "code",
   "execution_count": 165,
   "metadata": {},
   "outputs": [
    {
     "data": {
      "text/plain": [
       "(1502235, 38)"
      ]
     },
     "execution_count": 165,
     "metadata": {},
     "output_type": "execute_result"
    }
   ],
   "source": [
    "gm4 = pd.concat([gm4y, gm4n], ignore_index=True)\n",
    "gm4.shape"
   ]
  },
  {
   "cell_type": "code",
   "execution_count": 166,
   "metadata": {},
   "outputs": [
    {
     "data": {
      "text/plain": [
       "(1156523, 23)"
      ]
     },
     "execution_count": 166,
     "metadata": {},
     "output_type": "execute_result"
    }
   ],
   "source": [
    "gm5 = pd.concat([gm5y, gm5n], ignore_index=True)\n",
    "gm5.shape"
   ]
  },
  {
   "cell_type": "code",
   "execution_count": 167,
   "metadata": {},
   "outputs": [
    {
     "data": {
      "text/plain": [
       "(0, 633647)"
      ]
     },
     "execution_count": 167,
     "metadata": {},
     "output_type": "execute_result"
    }
   ],
   "source": [
    "gm4['1일평균주행거리'].isnull().sum(), gm5['1일평균주행거리'].isnull().sum()"
   ]
  },
  {
   "cell_type": "code",
   "execution_count": 168,
   "metadata": {},
   "outputs": [
    {
     "data": {
      "text/plain": [
       "(0, 38)"
      ]
     },
     "execution_count": 168,
     "metadata": {},
     "output_type": "execute_result"
    }
   ],
   "source": [
    "gm4.loc[gm4['연간주행거리'] <= 0].shape"
   ]
  },
  {
   "cell_type": "code",
   "execution_count": 169,
   "metadata": {},
   "outputs": [
    {
     "data": {
      "text/plain": [
       "(0, 23)"
      ]
     },
     "execution_count": 169,
     "metadata": {},
     "output_type": "execute_result"
    }
   ],
   "source": [
    "gm5.loc[gm5['연간주행거리'] <= 0].shape"
   ]
  },
  {
   "cell_type": "code",
   "execution_count": 170,
   "metadata": {},
   "outputs": [
    {
     "data": {
      "text/plain": [
       "Index(['차대번호', '차량번호', '제원관리번호', '차종', '용도', '최초등록일', '연식', '제작일자', '검사유효일',\n",
       "       '배출가스인증번호', '등급', '차명', '차종분류', '차종유형', '자동차형식', '제작사명', '연료', '엔진형식',\n",
       "       '총중량', '적재중량', '엔진출력', '배기량', '법정동코드', '시도명', '시군구명', '소유자구분', '말소여부',\n",
       "       '배인번호_수정', '등급_수정', 'DPF유무_수정', 'Grade', '시군구명_수정', '1일평균주행거리',\n",
       "       '조기폐차최종승인YN', '저감장치', '장치일련번호', '연간주행거리', '최신경과기간'],\n",
       "      dtype='object')"
      ]
     },
     "execution_count": 170,
     "metadata": {},
     "output_type": "execute_result"
    }
   ],
   "source": [
    "gm4.columns"
   ]
  },
  {
   "cell_type": "code",
   "execution_count": 171,
   "metadata": {},
   "outputs": [
    {
     "data": {
      "text/plain": [
       "Index(['차량등록번호', '본거지법정동코드', '차대번호', '제원관리번호', '배출가스인증번호', '배출가스등급', '용도',\n",
       "       '차명', '차종', '차종유형', '연료', '배기량', '총중량', '차량연식', '조기폐차최종승인YN', '저감장치',\n",
       "       '장치일련번호', '저감효율', '연간주행거리', '최신경과기간', '시도', '시구군', '1일평균주행거리'],\n",
       "      dtype='object')"
      ]
     },
     "execution_count": 171,
     "metadata": {},
     "output_type": "execute_result"
    }
   ],
   "source": [
    "gm5.columns"
   ]
  },
  {
   "cell_type": "code",
   "execution_count": 172,
   "metadata": {},
   "outputs": [
    {
     "data": {
      "text/plain": [
       "(0, 0)"
      ]
     },
     "execution_count": 172,
     "metadata": {},
     "output_type": "execute_result"
    }
   ],
   "source": [
    "gm4['연간주행거리'].isnull().sum(), gm5['연간주행거리'].isnull().sum()"
   ]
  },
  {
   "cell_type": "code",
   "execution_count": 173,
   "metadata": {},
   "outputs": [],
   "source": [
    "# gm4 = gm4.drop('1일평균주행거리', axis=1)\n",
    "# gm5 = gm5.drop('1일평균주행거리', axis=1)"
   ]
  },
  {
   "cell_type": "code",
   "execution_count": 174,
   "metadata": {},
   "outputs": [],
   "source": [
    "# gm5.columns"
   ]
  },
  {
   "attachments": {},
   "cell_type": "markdown",
   "metadata": {},
   "source": [
    "## 매연 값 수정"
   ]
  },
  {
   "cell_type": "code",
   "execution_count": 175,
   "metadata": {},
   "outputs": [
    {
     "data": {
      "text/plain": [
       "조기폐차최종승인YN\n",
       "NaN    1502235\n",
       "Name: count, dtype: int64"
      ]
     },
     "execution_count": 175,
     "metadata": {},
     "output_type": "execute_result"
    }
   ],
   "source": [
    "gm4['조기폐차최종승인YN'].value_counts(dropna=False)"
   ]
  },
  {
   "cell_type": "code",
   "execution_count": 176,
   "metadata": {},
   "outputs": [
    {
     "data": {
      "text/plain": [
       "(1502235, 38)"
      ]
     },
     "execution_count": 176,
     "metadata": {},
     "output_type": "execute_result"
    }
   ],
   "source": [
    "gm4.shape"
   ]
  },
  {
   "attachments": {},
   "cell_type": "markdown",
   "metadata": {},
   "source": [
    "### 4등급에 검사정보 추가(insm)"
   ]
  },
  {
   "cell_type": "code",
   "execution_count": 177,
   "metadata": {},
   "outputs": [
    {
     "data": {
      "text/plain": [
       "Index(['차대번호', '주행거리', '검사일자', '검사방법', '검사종류', '검사판정', '무부하매연판정1', '무부하매연판정2',\n",
       "       '무부하매연판정3', '무부하매연측정치1', '무부하매연측정치2', '무부하매연측정치3'],\n",
       "      dtype='object')"
      ]
     },
     "execution_count": 177,
     "metadata": {},
     "output_type": "execute_result"
    }
   ],
   "source": [
    "insm.columns"
   ]
  },
  {
   "cell_type": "code",
   "execution_count": 178,
   "metadata": {},
   "outputs": [
    {
     "data": {
      "text/plain": [
       "((22044208, 12), 22044208)"
      ]
     },
     "execution_count": 178,
     "metadata": {},
     "output_type": "execute_result"
    }
   ],
   "source": [
    "insm.shape, len(insm['차대번호'].unique())"
   ]
  },
  {
   "cell_type": "code",
   "execution_count": 179,
   "metadata": {},
   "outputs": [
    {
     "data": {
      "text/plain": [
       "(1502235, 49)"
      ]
     },
     "execution_count": 179,
     "metadata": {},
     "output_type": "execute_result"
    }
   ],
   "source": [
    "# about 30.7s\n",
    "gm4 = gm4.merge(insm, on='차대번호', how='left')\n",
    "gm4.shape"
   ]
  },
  {
   "cell_type": "code",
   "execution_count": 180,
   "metadata": {},
   "outputs": [
    {
     "data": {
      "text/plain": [
       "Index(['차대번호', '차량번호', '제원관리번호', '차종', '용도', '최초등록일', '연식', '제작일자', '검사유효일',\n",
       "       '배출가스인증번호', '등급', '차명', '차종분류', '차종유형', '자동차형식', '제작사명', '연료', '엔진형식',\n",
       "       '총중량', '적재중량', '엔진출력', '배기량', '법정동코드', '시도명', '시군구명', '소유자구분', '말소여부',\n",
       "       '배인번호_수정', '등급_수정', 'DPF유무_수정', 'Grade', '시군구명_수정', '1일평균주행거리',\n",
       "       '조기폐차최종승인YN', '저감장치', '장치일련번호', '연간주행거리', '최신경과기간', '주행거리', '검사일자',\n",
       "       '검사방법', '검사종류', '검사판정', '무부하매연판정1', '무부하매연판정2', '무부하매연판정3', '무부하매연측정치1',\n",
       "       '무부하매연측정치2', '무부하매연측정치3'],\n",
       "      dtype='object')"
      ]
     },
     "execution_count": 180,
     "metadata": {},
     "output_type": "execute_result"
    }
   ],
   "source": [
    "gm4.columns"
   ]
  },
  {
   "attachments": {},
   "cell_type": "markdown",
   "metadata": {},
   "source": [
    "### 5등급에 검사정보 추가(insm)"
   ]
  },
  {
   "cell_type": "code",
   "execution_count": 181,
   "metadata": {},
   "outputs": [
    {
     "data": {
      "text/plain": [
       "조기폐차최종승인YN\n",
       "NaN    1142818\n",
       "Y        13705\n",
       "Name: count, dtype: int64"
      ]
     },
     "execution_count": 181,
     "metadata": {},
     "output_type": "execute_result"
    }
   ],
   "source": [
    "gm5['조기폐차최종승인YN'].value_counts(dropna=False)"
   ]
  },
  {
   "cell_type": "code",
   "execution_count": 182,
   "metadata": {},
   "outputs": [
    {
     "data": {
      "text/plain": [
       "저감장치\n",
       "NaN           1011987\n",
       "DPF            142739\n",
       "PM-NOx저감장치       1797\n",
       "Name: count, dtype: int64"
      ]
     },
     "execution_count": 182,
     "metadata": {},
     "output_type": "execute_result"
    }
   ],
   "source": [
    "gm5['저감장치'].value_counts(dropna=False)"
   ]
  },
  {
   "cell_type": "code",
   "execution_count": 183,
   "metadata": {},
   "outputs": [
    {
     "data": {
      "text/plain": [
       "(1156523, 23)"
      ]
     },
     "execution_count": 183,
     "metadata": {},
     "output_type": "execute_result"
    }
   ],
   "source": [
    "gm5.shape"
   ]
  },
  {
   "cell_type": "code",
   "execution_count": 184,
   "metadata": {},
   "outputs": [
    {
     "data": {
      "text/plain": [
       "(1156523, 34)"
      ]
     },
     "execution_count": 184,
     "metadata": {},
     "output_type": "execute_result"
    }
   ],
   "source": [
    "# about \n",
    "gm5 = gm5.merge(insm, on='차대번호', how='left')\n",
    "gm5.shape"
   ]
  },
  {
   "cell_type": "code",
   "execution_count": 185,
   "metadata": {},
   "outputs": [
    {
     "data": {
      "text/plain": [
       "Index(['차량등록번호', '본거지법정동코드', '차대번호', '제원관리번호', '배출가스인증번호', '배출가스등급', '용도',\n",
       "       '차명', '차종', '차종유형', '연료', '배기량', '총중량', '차량연식', '조기폐차최종승인YN', '저감장치',\n",
       "       '장치일련번호', '저감효율', '연간주행거리', '최신경과기간', '시도', '시구군', '1일평균주행거리', '주행거리',\n",
       "       '검사일자', '검사방법', '검사종류', '검사판정', '무부하매연판정1', '무부하매연판정2', '무부하매연판정3',\n",
       "       '무부하매연측정치1', '무부하매연측정치2', '무부하매연측정치3'],\n",
       "      dtype='object')"
      ]
     },
     "execution_count": 185,
     "metadata": {},
     "output_type": "execute_result"
    }
   ],
   "source": [
    "gm5.columns"
   ]
  },
  {
   "attachments": {},
   "cell_type": "markdown",
   "metadata": {},
   "source": [
    "## 등급 수정\n",
    "- 5등급으로 수정\n",
    "    - '배인번호_수정' == '4MY-DB-04' : 24개\n",
    "    - '배인번호_수정' == '4MY-DB-03' : 9개"
   ]
  },
  {
   "cell_type": "code",
   "execution_count": 186,
   "metadata": {},
   "outputs": [
    {
     "data": {
      "text/plain": [
       "등급_수정\n",
       "4.00000    1497678\n",
       "3.00000       4397\n",
       "5.00000        160\n",
       "Name: count, dtype: int64"
      ]
     },
     "execution_count": 186,
     "metadata": {},
     "output_type": "execute_result"
    }
   ],
   "source": [
    "gm4['등급_수정'].value_counts(dropna=False)"
   ]
  },
  {
   "cell_type": "code",
   "execution_count": 187,
   "metadata": {},
   "outputs": [
    {
     "data": {
      "text/plain": [
       "(24, 49)"
      ]
     },
     "execution_count": 187,
     "metadata": {},
     "output_type": "execute_result"
    }
   ],
   "source": [
    "gm4.loc[gm4['배인번호_수정'] == '4MY-DB-04'].shape"
   ]
  },
  {
   "cell_type": "code",
   "execution_count": 188,
   "metadata": {},
   "outputs": [
    {
     "data": {
      "text/plain": [
       "array([5.])"
      ]
     },
     "execution_count": 188,
     "metadata": {},
     "output_type": "execute_result"
    }
   ],
   "source": [
    "gm4.loc[gm4['배인번호_수정'] == '4MY-DB-04', '등급_수정'].unique()"
   ]
  },
  {
   "cell_type": "code",
   "execution_count": 189,
   "metadata": {},
   "outputs": [],
   "source": [
    "gm4.loc[gm4['배인번호_수정'] == '4MY-DB-04', '등급_수정'] = 5"
   ]
  },
  {
   "cell_type": "code",
   "execution_count": 190,
   "metadata": {},
   "outputs": [
    {
     "data": {
      "text/plain": [
       "array([5.])"
      ]
     },
     "execution_count": 190,
     "metadata": {},
     "output_type": "execute_result"
    }
   ],
   "source": [
    "gm4.loc[gm4['배인번호_수정'] == '4MY-DB-04', '등급_수정'].unique()"
   ]
  },
  {
   "cell_type": "code",
   "execution_count": 191,
   "metadata": {},
   "outputs": [
    {
     "data": {
      "text/plain": [
       "(9, 49)"
      ]
     },
     "execution_count": 191,
     "metadata": {},
     "output_type": "execute_result"
    }
   ],
   "source": [
    "gm4.loc[gm4['배인번호_수정'] == '4MY-DB-03'].shape"
   ]
  },
  {
   "cell_type": "code",
   "execution_count": 192,
   "metadata": {},
   "outputs": [
    {
     "data": {
      "text/plain": [
       "array([5.])"
      ]
     },
     "execution_count": 192,
     "metadata": {},
     "output_type": "execute_result"
    }
   ],
   "source": [
    "gm4.loc[gm4['배인번호_수정'] == '4MY-DB-03', '등급_수정'].unique()"
   ]
  },
  {
   "cell_type": "code",
   "execution_count": 193,
   "metadata": {},
   "outputs": [],
   "source": [
    "gm4.loc[gm4['배인번호_수정'] == '4MY-DB-03', '등급_수정'] = 5"
   ]
  },
  {
   "cell_type": "code",
   "execution_count": 194,
   "metadata": {},
   "outputs": [
    {
     "data": {
      "text/plain": [
       "array([5.])"
      ]
     },
     "execution_count": 194,
     "metadata": {},
     "output_type": "execute_result"
    }
   ],
   "source": [
    "gm4.loc[gm4['배인번호_수정'] == '4MY-DB-03', '등급_수정'].unique()"
   ]
  },
  {
   "cell_type": "code",
   "execution_count": 195,
   "metadata": {},
   "outputs": [
    {
     "data": {
      "text/plain": [
       "등급_수정\n",
       "4.00000    1497678\n",
       "3.00000       4397\n",
       "5.00000        160\n",
       "Name: count, dtype: int64"
      ]
     },
     "execution_count": 195,
     "metadata": {},
     "output_type": "execute_result"
    }
   ],
   "source": [
    "gm4['등급_수정'].value_counts(dropna=False)"
   ]
  },
  {
   "attachments": {},
   "cell_type": "markdown",
   "metadata": {},
   "source": [
    "### 6MY-HD-14-64 DPF장착으로 수정"
   ]
  },
  {
   "cell_type": "code",
   "execution_count": 196,
   "metadata": {},
   "outputs": [
    {
     "data": {
      "text/plain": [
       "DPF유무_수정\n",
       "확인불가    4088\n",
       "Name: count, dtype: int64"
      ]
     },
     "execution_count": 196,
     "metadata": {},
     "output_type": "execute_result"
    }
   ],
   "source": [
    "gm4.loc[gm4['배인번호_수정'] == '6MY-HD-14-64', 'DPF유무_수정'].value_counts(dropna=False)"
   ]
  },
  {
   "cell_type": "code",
   "execution_count": 197,
   "metadata": {},
   "outputs": [],
   "source": [
    "gm4.loc[gm4['배인번호_수정'] == '6MY-HD-14-64', 'DPF유무_수정'] = '유'"
   ]
  },
  {
   "cell_type": "code",
   "execution_count": 198,
   "metadata": {},
   "outputs": [
    {
     "data": {
      "text/plain": [
       "DPF유무_수정\n",
       "유    4088\n",
       "Name: count, dtype: int64"
      ]
     },
     "execution_count": 198,
     "metadata": {},
     "output_type": "execute_result"
    }
   ],
   "source": [
    "gm4.loc[gm4['배인번호_수정'] == '6MY-HD-14-64', 'DPF유무_수정'].value_counts(dropna=False)"
   ]
  },
  {
   "attachments": {},
   "cell_type": "markdown",
   "metadata": {},
   "source": [
    "## 운행제한 이력 병합"
   ]
  },
  {
   "attachments": {},
   "cell_type": "markdown",
   "metadata": {},
   "source": [
    "### [로드] 운행제한 이력여부(limit)"
   ]
  },
  {
   "cell_type": "code",
   "execution_count": 199,
   "metadata": {},
   "outputs": [
    {
     "name": "stdout",
     "output_type": "stream",
     "text": [
      "<class 'pandas.core.frame.DataFrame'>\n",
      "RangeIndex: 1225025 entries, 0 to 1225024\n",
      "Data columns (total 5 columns):\n",
      " #   Column         Non-Null Count    Dtype  \n",
      "---  ------         --------------    -----  \n",
      " 0   차대번호           1225025 non-null  object \n",
      " 1   비상시및계절제단속발령건수  1204906 non-null  float64\n",
      " 2   비상시및계절제단속발령YN  1204906 non-null  object \n",
      " 3   운행제한단속정보건수     85594 non-null    float64\n",
      " 4   운행제한단속정보YN     85594 non-null    object \n",
      "dtypes: float64(2), object(3)\n",
      "memory usage: 46.7+ MB\n"
     ]
    }
   ],
   "source": [
    "# about 2.1s\n",
    "name = '운행제한 테이블 비교'\n",
    "file_name = f'{name}.csv'\n",
    "limit = pd.read_csv(os.path.join(ods_fold, file_name), low_memory=False, encoding='cp949')\n",
    "limit.info()"
   ]
  },
  {
   "cell_type": "code",
   "execution_count": 200,
   "metadata": {},
   "outputs": [
    {
     "data": {
      "text/html": [
       "<div>\n",
       "<style scoped>\n",
       "    .dataframe tbody tr th:only-of-type {\n",
       "        vertical-align: middle;\n",
       "    }\n",
       "\n",
       "    .dataframe tbody tr th {\n",
       "        vertical-align: top;\n",
       "    }\n",
       "\n",
       "    .dataframe thead th {\n",
       "        text-align: right;\n",
       "    }\n",
       "</style>\n",
       "<table border=\"1\" class=\"dataframe\">\n",
       "  <thead>\n",
       "    <tr style=\"text-align: right;\">\n",
       "      <th></th>\n",
       "      <th>차대번호</th>\n",
       "      <th>비상시및계절제단속발령건수</th>\n",
       "      <th>비상시및계절제단속발령YN</th>\n",
       "      <th>운행제한단속정보건수</th>\n",
       "      <th>운행제한단속정보YN</th>\n",
       "    </tr>\n",
       "  </thead>\n",
       "  <tbody>\n",
       "    <tr>\n",
       "      <th>0</th>\n",
       "      <td>KMFGA17PP6C043413</td>\n",
       "      <td>478.00000</td>\n",
       "      <td>Y</td>\n",
       "      <td>NaN</td>\n",
       "      <td>NaN</td>\n",
       "    </tr>\n",
       "    <tr>\n",
       "      <th>1</th>\n",
       "      <td>KMHSD81VP4U728742</td>\n",
       "      <td>15.00000</td>\n",
       "      <td>Y</td>\n",
       "      <td>NaN</td>\n",
       "      <td>NaN</td>\n",
       "    </tr>\n",
       "    <tr>\n",
       "      <th>2</th>\n",
       "      <td>KNAJE55185K044770</td>\n",
       "      <td>148.00000</td>\n",
       "      <td>Y</td>\n",
       "      <td>NaN</td>\n",
       "      <td>NaN</td>\n",
       "    </tr>\n",
       "    <tr>\n",
       "      <th>3</th>\n",
       "      <td>KL3K9AEA12K000208</td>\n",
       "      <td>149.00000</td>\n",
       "      <td>Y</td>\n",
       "      <td>NaN</td>\n",
       "      <td>NaN</td>\n",
       "    </tr>\n",
       "    <tr>\n",
       "      <th>4</th>\n",
       "      <td>KMHMJ81VP5U257815</td>\n",
       "      <td>108.00000</td>\n",
       "      <td>Y</td>\n",
       "      <td>NaN</td>\n",
       "      <td>NaN</td>\n",
       "    </tr>\n",
       "  </tbody>\n",
       "</table>\n",
       "</div>"
      ],
      "text/plain": [
       "                차대번호  비상시및계절제단속발령건수 비상시및계절제단속발령YN  운행제한단속정보건수 운행제한단속정보YN\n",
       "0  KMFGA17PP6C043413      478.00000             Y         NaN        NaN\n",
       "1  KMHSD81VP4U728742       15.00000             Y         NaN        NaN\n",
       "2  KNAJE55185K044770      148.00000             Y         NaN        NaN\n",
       "3  KL3K9AEA12K000208      149.00000             Y         NaN        NaN\n",
       "4  KMHMJ81VP5U257815      108.00000             Y         NaN        NaN"
      ]
     },
     "execution_count": 200,
     "metadata": {},
     "output_type": "execute_result"
    }
   ],
   "source": [
    "limit.head()"
   ]
  },
  {
   "cell_type": "code",
   "execution_count": 201,
   "metadata": {},
   "outputs": [
    {
     "data": {
      "text/plain": [
       "1225025"
      ]
     },
     "execution_count": 201,
     "metadata": {},
     "output_type": "execute_result"
    }
   ],
   "source": [
    "len(limit['차대번호'].unique())"
   ]
  },
  {
   "cell_type": "code",
   "execution_count": 202,
   "metadata": {},
   "outputs": [
    {
     "data": {
      "text/plain": [
       "차대번호                   0\n",
       "비상시및계절제단속발령건수      20119\n",
       "비상시및계절제단속발령YN      20119\n",
       "운행제한단속정보건수       1139431\n",
       "운행제한단속정보YN       1139431\n",
       "dtype: int64"
      ]
     },
     "execution_count": 202,
     "metadata": {},
     "output_type": "execute_result"
    }
   ],
   "source": [
    "limit.isnull().sum()"
   ]
  },
  {
   "attachments": {},
   "cell_type": "markdown",
   "metadata": {},
   "source": [
    "### [로드] 비상시 및 계절제 단속발령(slimit)"
   ]
  },
  {
   "cell_type": "code",
   "execution_count": 203,
   "metadata": {},
   "outputs": [
    {
     "name": "stdout",
     "output_type": "stream",
     "text": [
      "<class 'pandas.core.frame.DataFrame'>\n",
      "RangeIndex: 1204906 entries, 0 to 1204905\n",
      "Data columns (total 5 columns):\n",
      " #   Column     Non-Null Count    Dtype \n",
      "---  ------     --------------    ----- \n",
      " 0   차대번호       1204906 non-null  object\n",
      " 1   계절제1차단속YN  148281 non-null   object\n",
      " 2   계절제2차단속YN  672107 non-null   object\n",
      " 3   계절제3차단속YN  589160 non-null   object\n",
      " 4   비상시단속YN    397477 non-null   object\n",
      "dtypes: object(5)\n",
      "memory usage: 46.0+ MB\n"
     ]
    }
   ],
   "source": [
    "# about 1.8s\n",
    "name = '비상시 및 계절제 단속발령 적발YN(2023.05.26)'\n",
    "file_name = f'{name}.csv'\n",
    "slimit = pd.read_csv(os.path.join(raw_fold, file_name), low_memory=False)\n",
    "slimit.info()"
   ]
  },
  {
   "cell_type": "code",
   "execution_count": 204,
   "metadata": {},
   "outputs": [
    {
     "data": {
      "text/html": [
       "<div>\n",
       "<style scoped>\n",
       "    .dataframe tbody tr th:only-of-type {\n",
       "        vertical-align: middle;\n",
       "    }\n",
       "\n",
       "    .dataframe tbody tr th {\n",
       "        vertical-align: top;\n",
       "    }\n",
       "\n",
       "    .dataframe thead th {\n",
       "        text-align: right;\n",
       "    }\n",
       "</style>\n",
       "<table border=\"1\" class=\"dataframe\">\n",
       "  <thead>\n",
       "    <tr style=\"text-align: right;\">\n",
       "      <th></th>\n",
       "      <th>차대번호</th>\n",
       "      <th>계절제1차단속YN</th>\n",
       "      <th>계절제2차단속YN</th>\n",
       "      <th>계절제3차단속YN</th>\n",
       "      <th>비상시단속YN</th>\n",
       "    </tr>\n",
       "  </thead>\n",
       "  <tbody>\n",
       "    <tr>\n",
       "      <th>0</th>\n",
       "      <td>KNAJC52486A529516</td>\n",
       "      <td>NaN</td>\n",
       "      <td>Y</td>\n",
       "      <td>Y</td>\n",
       "      <td>Y</td>\n",
       "    </tr>\n",
       "    <tr>\n",
       "      <th>1</th>\n",
       "      <td>KMHSH81WP6U032973</td>\n",
       "      <td>NaN</td>\n",
       "      <td>Y</td>\n",
       "      <td>NaN</td>\n",
       "      <td>NaN</td>\n",
       "    </tr>\n",
       "    <tr>\n",
       "      <th>2</th>\n",
       "      <td>KN3SAX2T2VK070838</td>\n",
       "      <td>NaN</td>\n",
       "      <td>NaN</td>\n",
       "      <td>NaN</td>\n",
       "      <td>NaN</td>\n",
       "    </tr>\n",
       "    <tr>\n",
       "      <th>3</th>\n",
       "      <td>KMFXKS7BPYU375064</td>\n",
       "      <td>NaN</td>\n",
       "      <td>NaN</td>\n",
       "      <td>Y</td>\n",
       "      <td>NaN</td>\n",
       "    </tr>\n",
       "    <tr>\n",
       "      <th>4</th>\n",
       "      <td>KNAJC52182A077207</td>\n",
       "      <td>NaN</td>\n",
       "      <td>NaN</td>\n",
       "      <td>NaN</td>\n",
       "      <td>NaN</td>\n",
       "    </tr>\n",
       "  </tbody>\n",
       "</table>\n",
       "</div>"
      ],
      "text/plain": [
       "                차대번호 계절제1차단속YN 계절제2차단속YN 계절제3차단속YN 비상시단속YN\n",
       "0  KNAJC52486A529516       NaN         Y         Y       Y\n",
       "1  KMHSH81WP6U032973       NaN         Y       NaN     NaN\n",
       "2  KN3SAX2T2VK070838       NaN       NaN       NaN     NaN\n",
       "3  KMFXKS7BPYU375064       NaN       NaN         Y     NaN\n",
       "4  KNAJC52182A077207       NaN       NaN       NaN     NaN"
      ]
     },
     "execution_count": 204,
     "metadata": {},
     "output_type": "execute_result"
    }
   ],
   "source": [
    "slimit.head()"
   ]
  },
  {
   "attachments": {},
   "cell_type": "markdown",
   "metadata": {},
   "source": [
    "### 병합"
   ]
  },
  {
   "cell_type": "code",
   "execution_count": 205,
   "metadata": {},
   "outputs": [
    {
     "data": {
      "text/plain": [
       "(1502235, 53)"
      ]
     },
     "execution_count": 205,
     "metadata": {},
     "output_type": "execute_result"
    }
   ],
   "source": [
    "gm4 = gm4.merge(limit, on='차대번호', how='left')\n",
    "gm4.shape"
   ]
  },
  {
   "cell_type": "code",
   "execution_count": 206,
   "metadata": {},
   "outputs": [
    {
     "data": {
      "text/plain": [
       "(1502235, 57)"
      ]
     },
     "execution_count": 206,
     "metadata": {},
     "output_type": "execute_result"
    }
   ],
   "source": [
    "gm4 = gm4.merge(slimit, on='차대번호', how='left')\n",
    "gm4.shape"
   ]
  },
  {
   "cell_type": "code",
   "execution_count": 207,
   "metadata": {},
   "outputs": [
    {
     "data": {
      "text/plain": [
       "Index(['차대번호', '차량번호', '제원관리번호', '차종', '용도', '최초등록일', '연식', '제작일자', '검사유효일',\n",
       "       '배출가스인증번호', '등급', '차명', '차종분류', '차종유형', '자동차형식', '제작사명', '연료', '엔진형식',\n",
       "       '총중량', '적재중량', '엔진출력', '배기량', '법정동코드', '시도명', '시군구명', '소유자구분', '말소여부',\n",
       "       '배인번호_수정', '등급_수정', 'DPF유무_수정', 'Grade', '시군구명_수정', '1일평균주행거리',\n",
       "       '조기폐차최종승인YN', '저감장치', '장치일련번호', '연간주행거리', '최신경과기간', '주행거리', '검사일자',\n",
       "       '검사방법', '검사종류', '검사판정', '무부하매연판정1', '무부하매연판정2', '무부하매연판정3', '무부하매연측정치1',\n",
       "       '무부하매연측정치2', '무부하매연측정치3', '비상시및계절제단속발령건수', '비상시및계절제단속발령YN',\n",
       "       '운행제한단속정보건수', '운행제한단속정보YN', '계절제1차단속YN', '계절제2차단속YN', '계절제3차단속YN',\n",
       "       '비상시단속YN'],\n",
       "      dtype='object')"
      ]
     },
     "execution_count": 207,
     "metadata": {},
     "output_type": "execute_result"
    }
   ],
   "source": [
    "gm4.columns"
   ]
  },
  {
   "cell_type": "code",
   "execution_count": 208,
   "metadata": {},
   "outputs": [
    {
     "data": {
      "text/plain": [
       "(1156523, 38)"
      ]
     },
     "execution_count": 208,
     "metadata": {},
     "output_type": "execute_result"
    }
   ],
   "source": [
    "gm5 = gm5.merge(limit, on='차대번호', how='left')\n",
    "gm5.shape"
   ]
  },
  {
   "cell_type": "code",
   "execution_count": 209,
   "metadata": {},
   "outputs": [
    {
     "data": {
      "text/plain": [
       "(1156523, 42)"
      ]
     },
     "execution_count": 209,
     "metadata": {},
     "output_type": "execute_result"
    }
   ],
   "source": [
    "gm5 = gm5.merge(slimit, on='차대번호', how='left')\n",
    "gm5.shape"
   ]
  },
  {
   "cell_type": "code",
   "execution_count": 210,
   "metadata": {},
   "outputs": [
    {
     "data": {
      "text/plain": [
       "Index(['차량등록번호', '본거지법정동코드', '차대번호', '제원관리번호', '배출가스인증번호', '배출가스등급', '용도',\n",
       "       '차명', '차종', '차종유형', '연료', '배기량', '총중량', '차량연식', '조기폐차최종승인YN', '저감장치',\n",
       "       '장치일련번호', '저감효율', '연간주행거리', '최신경과기간', '시도', '시구군', '1일평균주행거리', '주행거리',\n",
       "       '검사일자', '검사방법', '검사종류', '검사판정', '무부하매연판정1', '무부하매연판정2', '무부하매연판정3',\n",
       "       '무부하매연측정치1', '무부하매연측정치2', '무부하매연측정치3', '비상시및계절제단속발령건수', '비상시및계절제단속발령YN',\n",
       "       '운행제한단속정보건수', '운행제한단속정보YN', '계절제1차단속YN', '계절제2차단속YN', '계절제3차단속YN',\n",
       "       '비상시단속YN'],\n",
       "      dtype='object')"
      ]
     },
     "execution_count": 210,
     "metadata": {},
     "output_type": "execute_result"
    }
   ],
   "source": [
    "gm5.columns"
   ]
  },
  {
   "attachments": {},
   "cell_type": "markdown",
   "metadata": {},
   "source": [
    "#### 출력"
   ]
  },
  {
   "cell_type": "code",
   "execution_count": 211,
   "metadata": {},
   "outputs": [],
   "source": [
    "# about 37.6s\n",
    "gm4.to_csv(os.path.join(ods_fold, 'BD3_3_4등급_전처리완료.csv'), index=False, encoding='cp949')"
   ]
  },
  {
   "cell_type": "code",
   "execution_count": 212,
   "metadata": {},
   "outputs": [],
   "source": [
    "# about 18.8s\n",
    "gm5.to_csv(os.path.join(ods_fold, 'BD3_3_5등급_전처리완료.csv'), index=False, encoding='cp949')"
   ]
  },
  {
   "attachments": {},
   "cell_type": "markdown",
   "metadata": {},
   "source": [
    "# [로드] 전처리 완료"
   ]
  },
  {
   "cell_type": "code",
   "execution_count": 5,
   "metadata": {},
   "outputs": [
    {
     "name": "stdout",
     "output_type": "stream",
     "text": [
      "<class 'pandas.core.frame.DataFrame'>\n",
      "RangeIndex: 1502235 entries, 0 to 1502234\n",
      "Data columns (total 57 columns):\n",
      " #   Column         Non-Null Count    Dtype  \n",
      "---  ------         --------------    -----  \n",
      " 0   차대번호           1502235 non-null  object \n",
      " 1   차량번호           1502235 non-null  object \n",
      " 2   제원관리번호         1502235 non-null  object \n",
      " 3   차종             1502235 non-null  object \n",
      " 4   용도             1502235 non-null  object \n",
      " 5   최초등록일          1502235 non-null  int64  \n",
      " 6   연식             1502235 non-null  int64  \n",
      " 7   제작일자           1335178 non-null  float64\n",
      " 8   검사유효일          1502223 non-null  float64\n",
      " 9   배출가스인증번호       1384783 non-null  object \n",
      " 10  등급             1502235 non-null  int64  \n",
      " 11  차명             1502235 non-null  object \n",
      " 12  차종분류           1502235 non-null  object \n",
      " 13  차종유형           1502235 non-null  object \n",
      " 14  자동차형식          1501958 non-null  object \n",
      " 15  제작사명           1492590 non-null  object \n",
      " 16  연료             1502235 non-null  object \n",
      " 17  엔진형식           1500400 non-null  object \n",
      " 18  총중량            1502234 non-null  float64\n",
      " 19  적재중량           1501728 non-null  float64\n",
      " 20  엔진출력           1501882 non-null  object \n",
      " 21  배기량            1502231 non-null  float64\n",
      " 22  법정동코드          1502235 non-null  int64  \n",
      " 23  시도명            1502235 non-null  object \n",
      " 24  시군구명           1502235 non-null  object \n",
      " 25  소유자구분          1502235 non-null  object \n",
      " 26  말소여부           1502235 non-null  object \n",
      " 27  배인번호_수정        1153813 non-null  object \n",
      " 28  등급_수정          1502235 non-null  float64\n",
      " 29  DPF유무_수정       1153813 non-null  object \n",
      " 30  Grade          1497711 non-null  object \n",
      " 31  시군구명_수정        1502235 non-null  object \n",
      " 32  1일평균주행거리       1502235 non-null  float64\n",
      " 33  조기폐차최종승인YN     0 non-null        float64\n",
      " 34  저감장치           33 non-null       object \n",
      " 35  장치일련번호         35 non-null       object \n",
      " 36  연간주행거리         1502235 non-null  float64\n",
      " 37  최신경과기간         1148507 non-null  float64\n",
      " 38  주행거리           1187811 non-null  float64\n",
      " 39  검사일자           1187943 non-null  float64\n",
      " 40  검사방법           1187943 non-null  object \n",
      " 41  검사종류           1187943 non-null  object \n",
      " 42  검사판정           1187943 non-null  object \n",
      " 43  무부하매연판정1       1178171 non-null  object \n",
      " 44  무부하매연판정2       100095 non-null   object \n",
      " 45  무부하매연판정3       99194 non-null    object \n",
      " 46  무부하매연측정치1      1178175 non-null  float64\n",
      " 47  무부하매연측정치2      423337 non-null   float64\n",
      " 48  무부하매연측정치3      389276 non-null   float64\n",
      " 49  비상시및계절제단속발령건수  53 non-null       float64\n",
      " 50  비상시및계절제단속발령YN  53 non-null       object \n",
      " 51  운행제한단속정보건수     138 non-null      float64\n",
      " 52  운행제한단속정보YN     138 non-null      object \n",
      " 53  계절제1차단속YN      11 non-null       object \n",
      " 54  계절제2차단속YN      31 non-null       object \n",
      " 55  계절제3차단속YN      6 non-null        object \n",
      " 56  비상시단속YN        8 non-null        object \n",
      "dtypes: float64(17), int64(4), object(36)\n",
      "memory usage: 653.3+ MB\n"
     ]
    }
   ],
   "source": [
    "# # about 23.5s\n",
    "# name = 'BD3_3_4등급_전처리완료'\n",
    "# file_name = f'{name}.csv'\n",
    "# gm4 = pd.read_csv(os.path.join(ods_fold, file_name), low_memory=False, encoding='cp949')\n",
    "# gm4.info()"
   ]
  },
  {
   "cell_type": "code",
   "execution_count": 6,
   "metadata": {},
   "outputs": [
    {
     "name": "stdout",
     "output_type": "stream",
     "text": [
      "<class 'pandas.core.frame.DataFrame'>\n",
      "RangeIndex: 1156523 entries, 0 to 1156522\n",
      "Data columns (total 42 columns):\n",
      " #   Column         Non-Null Count    Dtype  \n",
      "---  ------         --------------    -----  \n",
      " 0   차량등록번호         1156523 non-null  object \n",
      " 1   본거지법정동코드       1156523 non-null  int64  \n",
      " 2   차대번호           1156523 non-null  object \n",
      " 3   제원관리번호         1156523 non-null  object \n",
      " 4   배출가스인증번호       544272 non-null   object \n",
      " 5   배출가스등급         1156523 non-null  object \n",
      " 6   용도             1156523 non-null  object \n",
      " 7   차명             1156522 non-null  object \n",
      " 8   차종             1156523 non-null  object \n",
      " 9   차종유형           1156523 non-null  object \n",
      " 10  연료             1156523 non-null  object \n",
      " 11  배기량            1156521 non-null  float64\n",
      " 12  총중량            1156522 non-null  float64\n",
      " 13  차량연식           1156523 non-null  int64  \n",
      " 14  조기폐차최종승인YN     13705 non-null    object \n",
      " 15  저감장치           144536 non-null   object \n",
      " 16  장치일련번호         190807 non-null   object \n",
      " 17  저감효율           401 non-null      float64\n",
      " 18  연간주행거리         1156523 non-null  float64\n",
      " 19  최신경과기간         770931 non-null   float64\n",
      " 20  시도             1156523 non-null  object \n",
      " 21  시구군            1156502 non-null  object \n",
      " 22  1일평균주행거리       521553 non-null   float64\n",
      " 23  주행거리           770879 non-null   float64\n",
      " 24  검사일자           771146 non-null   float64\n",
      " 25  검사방법           771146 non-null   object \n",
      " 26  검사종류           771146 non-null   object \n",
      " 27  검사판정           771146 non-null   object \n",
      " 28  무부하매연판정1       764278 non-null   object \n",
      " 29  무부하매연판정2       113922 non-null   object \n",
      " 30  무부하매연판정3       113586 non-null   object \n",
      " 31  무부하매연측정치1      764289 non-null   float64\n",
      " 32  무부하매연측정치2      262282 non-null   float64\n",
      " 33  무부하매연측정치3      239416 non-null   float64\n",
      " 34  비상시및계절제단속발령건수  774924 non-null   float64\n",
      " 35  비상시및계절제단속발령YN  774924 non-null   object \n",
      " 36  운행제한단속정보건수     49265 non-null    float64\n",
      " 37  운행제한단속정보YN     49265 non-null    object \n",
      " 38  계절제1차단속YN      78729 non-null    object \n",
      " 39  계절제2차단속YN      429055 non-null   object \n",
      " 40  계절제3차단속YN      504166 non-null   object \n",
      " 41  비상시단속YN        325850 non-null   object \n",
      "dtypes: float64(13), int64(2), object(27)\n",
      "memory usage: 370.6+ MB\n"
     ]
    }
   ],
   "source": [
    "# # about 9.0s\n",
    "# name = 'BD3_3_5등급_전처리완료'\n",
    "# file_name = f'{name}.csv'\n",
    "# gm5 = pd.read_csv(os.path.join(ods_fold, file_name), low_memory=False, encoding='cp949')\n",
    "# gm5.info()"
   ]
  },
  {
   "attachments": {},
   "cell_type": "markdown",
   "metadata": {},
   "source": [
    "### 배번별 DPF 장치일련번호 확인\n",
    "- 저감장치 효율확인\n",
    "- 미장착 차량 장착 가능한 저감장치 확인"
   ]
  },
  {
   "attachments": {},
   "cell_type": "markdown",
   "metadata": {},
   "source": [
    "#### 4등급 경유차 추출(gm4d)"
   ]
  },
  {
   "cell_type": "code",
   "execution_count": 213,
   "metadata": {},
   "outputs": [
    {
     "data": {
      "text/plain": [
       "연료\n",
       "경유             1153813\n",
       "휘발유             323019\n",
       "LPG(액화석유가스)      25400\n",
       "알코올                  1\n",
       "기타연료                 1\n",
       "CNG(압축천연가스)          1\n",
       "Name: count, dtype: int64"
      ]
     },
     "execution_count": 213,
     "metadata": {},
     "output_type": "execute_result"
    }
   ],
   "source": [
    "gm4['연료'].value_counts(dropna=False)"
   ]
  },
  {
   "cell_type": "code",
   "execution_count": 214,
   "metadata": {},
   "outputs": [
    {
     "data": {
      "text/plain": [
       "등급_수정\n",
       "4.00000    1497678\n",
       "3.00000       4397\n",
       "5.00000        160\n",
       "Name: count, dtype: int64"
      ]
     },
     "execution_count": 214,
     "metadata": {},
     "output_type": "execute_result"
    }
   ],
   "source": [
    "gm4['등급_수정'].value_counts(dropna=False)"
   ]
  },
  {
   "cell_type": "code",
   "execution_count": 215,
   "metadata": {},
   "outputs": [
    {
     "data": {
      "text/plain": [
       "(1149256, 57)"
      ]
     },
     "execution_count": 215,
     "metadata": {},
     "output_type": "execute_result"
    }
   ],
   "source": [
    "gm4d = gm4.loc[(gm4['연료'] == '경유') & (gm4['등급_수정'] == 4)].reset_index(drop=True)\n",
    "gm4d.shape"
   ]
  },
  {
   "cell_type": "code",
   "execution_count": 216,
   "metadata": {},
   "outputs": [
    {
     "data": {
      "text/plain": [
       "(352979, 57)"
      ]
     },
     "execution_count": 216,
     "metadata": {},
     "output_type": "execute_result"
    }
   ],
   "source": [
    "gm4r = gm4.loc[(gm4['연료'] != '경유') | (gm4['등급_수정'] != 4)].reset_index(drop=True)\n",
    "gm4r.shape"
   ]
  },
  {
   "attachments": {},
   "cell_type": "markdown",
   "metadata": {},
   "source": [
    "#### 5등급 경유차 추출(gm5d)"
   ]
  },
  {
   "cell_type": "code",
   "execution_count": 217,
   "metadata": {},
   "outputs": [
    {
     "data": {
      "text/plain": [
       "연료\n",
       "경유             1125999\n",
       "휘발유              30075\n",
       "LPG(액화석유가스)        438\n",
       "무동력                  5\n",
       "CNG(압축천연가스)          5\n",
       "알코올                  1\n",
       "Name: count, dtype: int64"
      ]
     },
     "execution_count": 217,
     "metadata": {},
     "output_type": "execute_result"
    }
   ],
   "source": [
    "gm5['연료'].value_counts(dropna=False)"
   ]
  },
  {
   "cell_type": "code",
   "execution_count": 218,
   "metadata": {},
   "outputs": [
    {
     "data": {
      "text/plain": [
       "(1125999, 42)"
      ]
     },
     "execution_count": 218,
     "metadata": {},
     "output_type": "execute_result"
    }
   ],
   "source": [
    "gm5d = gm5.loc[gm5['연료'] == '경유'].reset_index(drop=True)\n",
    "gm5d.shape"
   ]
  },
  {
   "cell_type": "code",
   "execution_count": 219,
   "metadata": {},
   "outputs": [
    {
     "data": {
      "text/plain": [
       "(30524, 42)"
      ]
     },
     "execution_count": 219,
     "metadata": {},
     "output_type": "execute_result"
    }
   ],
   "source": [
    "gm5r = gm5.loc[gm5['연료'] != '경유'].reset_index(drop=True)\n",
    "gm5r.shape"
   ]
  },
  {
   "cell_type": "code",
   "execution_count": 220,
   "metadata": {},
   "outputs": [
    {
     "data": {
      "text/plain": [
       "Index(['차량등록번호', '본거지법정동코드', '차대번호', '제원관리번호', '배출가스인증번호', '배출가스등급', '용도',\n",
       "       '차명', '차종', '차종유형', '연료', '배기량', '총중량', '차량연식', '조기폐차최종승인YN', '저감장치',\n",
       "       '장치일련번호', '저감효율', '연간주행거리', '최신경과기간', '시도', '시구군', '1일평균주행거리', '주행거리',\n",
       "       '검사일자', '검사방법', '검사종류', '검사판정', '무부하매연판정1', '무부하매연판정2', '무부하매연판정3',\n",
       "       '무부하매연측정치1', '무부하매연측정치2', '무부하매연측정치3', '비상시및계절제단속발령건수', '비상시및계절제단속발령YN',\n",
       "       '운행제한단속정보건수', '운행제한단속정보YN', '계절제1차단속YN', '계절제2차단속YN', '계절제3차단속YN',\n",
       "       '비상시단속YN'],\n",
       "      dtype='object')"
      ]
     },
     "execution_count": 220,
     "metadata": {},
     "output_type": "execute_result"
    }
   ],
   "source": [
    "gm5d.columns"
   ]
  },
  {
   "cell_type": "code",
   "execution_count": 614,
   "metadata": {},
   "outputs": [],
   "source": [
    "# low_no = gm5d.loc[(gm5d['저감장치'].isnull() == False) & (gm5d['배출가스인증번호'].isnull() == False) & ((gm5d['조기폐차최종승인YN'].isnull() == True)), ['차대번호', '배출가스인증번호', '저감장치', '장치일련번호']].reset_index(drop=True)\n",
    "# low_no.shape"
   ]
  },
  {
   "cell_type": "code",
   "execution_count": 213,
   "metadata": {},
   "outputs": [],
   "source": [
    "# low_stat = low_no.groupby(['저감장치', '배출가스인증번호', '장치일련번호'])['차대번호'].count().reset_index()\n",
    "# low_stat"
   ]
  },
  {
   "cell_type": "code",
   "execution_count": 214,
   "metadata": {},
   "outputs": [],
   "source": [
    "# low_stat.to_excel(os.path.join(analysis_fold, '통계_저감장치_배번_장치일련번호.xlsx'), index=False)"
   ]
  },
  {
   "attachments": {},
   "cell_type": "markdown",
   "metadata": {},
   "source": [
    "#### 배번별 통계"
   ]
  },
  {
   "cell_type": "code",
   "execution_count": 215,
   "metadata": {},
   "outputs": [],
   "source": [
    "# def flat_cols(df):\n",
    "#     df.columns = ['/'.join(x) for x in df.columns.to_flat_index()]\n",
    "#     return df"
   ]
  },
  {
   "cell_type": "code",
   "execution_count": 216,
   "metadata": {},
   "outputs": [],
   "source": [
    "# gm4d.columns"
   ]
  },
  {
   "cell_type": "code",
   "execution_count": 217,
   "metadata": {},
   "outputs": [],
   "source": [
    "# emis_stat_g4 = gm4d.groupby(['연료', '배출가스인증번호', '검사종류', '검사방법', '검사판정'], as_index=False).agg({'차대번호':'count', '무부하매연측정치1':['mean', 'min', 'max'], '무부하매연측정치2':['mean', 'min', 'max'], '무부하매연측정치3':['mean', 'min', 'max']}).pipe(flat_cols)\n",
    "# emis_stat_g4 = emis_stat_g4.rename(columns={'연료/':'연료', '배출가스인증번호/':'배출가스인증번호', '검사종류/':'검사종류', '검사방법/':'검사방법', '검사판정/':'검사판정'})\n",
    "# emis_stat_g4"
   ]
  },
  {
   "cell_type": "code",
   "execution_count": 218,
   "metadata": {},
   "outputs": [],
   "source": [
    "# emis_stat_g4.columns"
   ]
  },
  {
   "cell_type": "code",
   "execution_count": 219,
   "metadata": {},
   "outputs": [],
   "source": [
    "# # 출력\n",
    "# # about 0.6s\n",
    "# emis_stat_g4.to_excel(os.path.join(analysis_fold, '통계_4등급_연료_배번별_매연.xlsx'), index=False)"
   ]
  },
  {
   "cell_type": "code",
   "execution_count": 220,
   "metadata": {},
   "outputs": [],
   "source": [
    "# emis_stat_g5 = gm5d.groupby(['연료', '배출가스인증번호', '검사종류', '검사방법', '검사판정'], as_index=False).agg({'차대번호':'count', '무부하매연측정치1':['mean', 'min', 'max'], '무부하매연측정치2':['mean', 'min', 'max'], '무부하매연측정치3':['mean', 'min', 'max']}).pipe(flat_cols)\n",
    "# emis_stat_g5 = emis_stat_g5.rename(columns={'연료/':'연료', '배출가스인증번호/':'배출가스인증번호', '검사종류/':'검사종류', '검사방법/':'검사방법', '검사판정/':'검사판정'})\n",
    "# emis_stat_g5"
   ]
  },
  {
   "cell_type": "code",
   "execution_count": 221,
   "metadata": {},
   "outputs": [],
   "source": [
    "# # 출력\n",
    "# # about 0.3s\n",
    "# emis_stat_g5.to_excel(os.path.join(analysis_fold, '통계_5등급_연료_배번별_매연.xlsx'), index=False)"
   ]
  },
  {
   "cell_type": "code",
   "execution_count": 222,
   "metadata": {},
   "outputs": [],
   "source": [
    "# gm4d.columns"
   ]
  },
  {
   "cell_type": "code",
   "execution_count": 223,
   "metadata": {},
   "outputs": [],
   "source": [
    "# gm4d[['무부하매연측정치1', '무부하매연측정치2', '무부하매연측정치3']].isnull().sum()"
   ]
  },
  {
   "cell_type": "code",
   "execution_count": 224,
   "metadata": {},
   "outputs": [],
   "source": [
    "# gm5d[['무부하매연측정치1', '무부하매연측정치2', '무부하매연측정치3']].isnull().sum()"
   ]
  },
  {
   "cell_type": "code",
   "execution_count": 225,
   "metadata": {},
   "outputs": [],
   "source": [
    "# emis_stat_g4.columns"
   ]
  },
  {
   "cell_type": "code",
   "execution_count": 226,
   "metadata": {},
   "outputs": [],
   "source": [
    "# emis_stat_g5.columns"
   ]
  },
  {
   "attachments": {},
   "cell_type": "markdown",
   "metadata": {},
   "source": [
    "### 매연값는 없는 df만 추출"
   ]
  },
  {
   "cell_type": "code",
   "execution_count": 227,
   "metadata": {},
   "outputs": [],
   "source": [
    "# emis_stat_g4.loc[(emis_stat_g4['연료'] == '경유') & (emis_stat_g4['배출가스인증번호'] == '5MY-KM-24-17') & (emis_stat_g4['검사판정'] == 'Y'), ['검사종류', '검사방법', '무부하매연측정치1/mean']]"
   ]
  },
  {
   "attachments": {},
   "cell_type": "markdown",
   "metadata": {},
   "source": [
    "#### 무부하매연측정치1 결측값 처리(❌)"
   ]
  },
  {
   "cell_type": "code",
   "execution_count": 228,
   "metadata": {},
   "outputs": [],
   "source": [
    "# gm4d['무부하매연측정치1'].isnull().sum()"
   ]
  },
  {
   "cell_type": "code",
   "execution_count": 229,
   "metadata": {},
   "outputs": [],
   "source": [
    "# gm4dy = gm4d.loc[gm4d['무부하매연측정치1'].isnull() == False].reset_index(drop=True)\n",
    "# gm4dn = gm4d.loc[gm4d['무부하매연측정치1'].isnull() == True].reset_index(drop=True)\n",
    "# gm4dy.shape, gm4dn.shape"
   ]
  },
  {
   "cell_type": "code",
   "execution_count": 230,
   "metadata": {},
   "outputs": [],
   "source": [
    "# emis_stat_g4.columns"
   ]
  },
  {
   "cell_type": "code",
   "execution_count": 231,
   "metadata": {},
   "outputs": [],
   "source": [
    "# gm4dn.columns"
   ]
  },
  {
   "cell_type": "code",
   "execution_count": 232,
   "metadata": {},
   "outputs": [],
   "source": [
    "# emis_stat_g4.shape"
   ]
  },
  {
   "cell_type": "code",
   "execution_count": 233,
   "metadata": {},
   "outputs": [],
   "source": [
    "# emis_stat_g4d = emis_stat_g4.loc[(emis_stat_g4['연료'] == '경유') & (emis_stat_g4['검사판정'] == 'Y') & (emis_stat_g4['차대번호/count'] > 1000)].reset_index(drop=True)\n",
    "# emis_stat_g4d.shape"
   ]
  },
  {
   "cell_type": "code",
   "execution_count": 234,
   "metadata": {},
   "outputs": [],
   "source": [
    "# emis_stat_g5d = emis_stat_g5.loc[(emis_stat_g5['연료'] == '경유') & (emis_stat_g5['검사판정'] == 'Y') & (emis_stat_g5['차대번호/count'] > 1000)].reset_index(drop=True)\n",
    "# emis_stat_g5d.shape"
   ]
  },
  {
   "cell_type": "code",
   "execution_count": 235,
   "metadata": {},
   "outputs": [],
   "source": [
    "# gm4dn['무부하매연측정치1'].isnull().sum()"
   ]
  },
  {
   "cell_type": "code",
   "execution_count": 236,
   "metadata": {},
   "outputs": [],
   "source": [
    "# gm4dn = gm4dn.merge(emis_stat_g4d[['배출가스인증번호', '검사종류', '검사방법', '무부하매연측정치1/mean']], on=['배출가스인증번호', '검사종류', '검사방법'], how='left')\n",
    "# gm4dn['무부하매연측정치1/mean'].isnull().sum()"
   ]
  },
  {
   "cell_type": "code",
   "execution_count": 237,
   "metadata": {},
   "outputs": [],
   "source": [
    "# gm4dn.columns"
   ]
  },
  {
   "cell_type": "code",
   "execution_count": 64,
   "metadata": {},
   "outputs": [
    {
     "data": {
      "text/plain": [
       "Index(['차량등록번호', '본거지법정동코드', '차대번호', '제원관리번호', '배출가스인증번호', '배출가스등급', '차명',\n",
       "       '차종', '연료', '배기량', '조기폐차최종승인YN', '저감장치', '연간주행거리', '시도', '시구군', '검사일자',\n",
       "       '검사방법', '검사종류', '검사판정', '무부하매연판정1', '무부하매연판정2', '무부하매연판정3', '무부하매연측정치1',\n",
       "       '무부하매연측정치2', '무부하매연측정치3'],\n",
       "      dtype='object')"
      ]
     },
     "execution_count": 64,
     "metadata": {},
     "output_type": "execute_result"
    }
   ],
   "source": [
    "# gm4dn = gm4dn[['차량등록번호', '본거지법정동코드', '차대번호', '제원관리번호', '배출가스인증번호', '배출가스등급', '차명',\n",
    "#        '차종', '연료', '배기량', '조기폐차최종승인YN', '저감장치', '연간주행거리', '시도', '시구군', '검사일자',\n",
    "#        '검사방법', '검사종류', '검사판정', '무부하매연판정1', '무부하매연판정2', '무부하매연판정3', '무부하매연측정치1/mean',\n",
    "#        '무부하매연측정치2', '무부하매연측정치3', '무부하매연측정치1']]\n",
    "# gm4dn = gm4dn.drop('무부하매연측정치1', axis=1)\n",
    "# gm4dn = gm4dn.rename(columns={'무부하매연측정치1/mean':'무부하매연측정치1'})\n",
    "# gm4dn.columns"
   ]
  },
  {
   "cell_type": "code",
   "execution_count": 65,
   "metadata": {},
   "outputs": [
    {
     "data": {
      "text/plain": [
       "(1152703, 25)"
      ]
     },
     "execution_count": 65,
     "metadata": {},
     "output_type": "execute_result"
    }
   ],
   "source": [
    "# gm4d = pd.concat([gm4dy, gm4dn], ignore_index=True)\n",
    "# gm4d.shape"
   ]
  },
  {
   "cell_type": "code",
   "execution_count": 66,
   "metadata": {},
   "outputs": [
    {
     "data": {
      "text/plain": [
       "30152"
      ]
     },
     "execution_count": 66,
     "metadata": {},
     "output_type": "execute_result"
    }
   ],
   "source": [
    "# gm4d['무부하매연측정치1'].isnull().sum()"
   ]
  },
  {
   "cell_type": "code",
   "execution_count": 72,
   "metadata": {},
   "outputs": [
    {
     "data": {
      "text/plain": [
       "(1124471, 25)"
      ]
     },
     "execution_count": 72,
     "metadata": {},
     "output_type": "execute_result"
    }
   ],
   "source": [
    "# gm5d.shape"
   ]
  },
  {
   "cell_type": "code",
   "execution_count": 71,
   "metadata": {},
   "outputs": [
    {
     "data": {
      "text/plain": [
       "((706278, 25), (418193, 25))"
      ]
     },
     "execution_count": 71,
     "metadata": {},
     "output_type": "execute_result"
    }
   ],
   "source": [
    "# gm5dy = gm5d.loc[gm5d['무부하매연측정치1'].isnull() == False].reset_index(drop=True)\n",
    "# gm5dn = gm5d.loc[gm5d['무부하매연측정치1'].isnull() == True].reset_index(drop=True)\n",
    "# gm5dy.shape, gm5dn.shape"
   ]
  },
  {
   "cell_type": "code",
   "execution_count": 69,
   "metadata": {},
   "outputs": [
    {
     "data": {
      "text/plain": [
       "418193"
      ]
     },
     "execution_count": 69,
     "metadata": {},
     "output_type": "execute_result"
    }
   ],
   "source": [
    "# gm5d['무부하매연측정치1'].isnull().sum()"
   ]
  },
  {
   "cell_type": "code",
   "execution_count": 73,
   "metadata": {},
   "outputs": [
    {
     "data": {
      "text/plain": [
       "415813"
      ]
     },
     "execution_count": 73,
     "metadata": {},
     "output_type": "execute_result"
    }
   ],
   "source": [
    "# gm5dn = gm5dn.merge(emis_stat_g5d[['배출가스인증번호', '검사종류', '검사방법', '무부하매연측정치1/mean']], on=['배출가스인증번호', '검사종류', '검사방법'], how='left')\n",
    "# gm5dn['무부하매연측정치1/mean'].isnull().sum()"
   ]
  },
  {
   "cell_type": "code",
   "execution_count": 74,
   "metadata": {},
   "outputs": [
    {
     "data": {
      "text/plain": [
       "Index(['차량등록번호', '본거지법정동코드', '차대번호', '제원관리번호', '배출가스인증번호', '배출가스등급', '차명',\n",
       "       '차종', '연료', '배기량', '조기폐차최종승인YN', '저감장치', '연간주행거리', '시도', '시구군', '검사일자',\n",
       "       '검사방법', '검사종류', '검사판정', '무부하매연판정1', '무부하매연판정2', '무부하매연판정3', '무부하매연측정치1',\n",
       "       '무부하매연측정치2', '무부하매연측정치3'],\n",
       "      dtype='object')"
      ]
     },
     "execution_count": 74,
     "metadata": {},
     "output_type": "execute_result"
    }
   ],
   "source": [
    "# gm5dn = gm5dn[['차량등록번호', '본거지법정동코드', '차대번호', '제원관리번호', '배출가스인증번호', '배출가스등급', '차명',\n",
    "#        '차종', '연료', '배기량', '조기폐차최종승인YN', '저감장치', '연간주행거리', '시도', '시구군', '검사일자',\n",
    "#        '검사방법', '검사종류', '검사판정', '무부하매연판정1', '무부하매연판정2', '무부하매연판정3', '무부하매연측정치1/mean',\n",
    "#        '무부하매연측정치2', '무부하매연측정치3', '무부하매연측정치1']]\n",
    "# gm5dn = gm5dn.drop('무부하매연측정치1', axis=1)\n",
    "# gm5dn = gm5dn.rename(columns={'무부하매연측정치1/mean':'무부하매연측정치1'})\n",
    "# gm5dn.columns"
   ]
  },
  {
   "cell_type": "code",
   "execution_count": 75,
   "metadata": {},
   "outputs": [
    {
     "data": {
      "text/plain": [
       "(1124471, 25)"
      ]
     },
     "execution_count": 75,
     "metadata": {},
     "output_type": "execute_result"
    }
   ],
   "source": [
    "# gm5d = pd.concat([gm5dy, gm5dn], ignore_index=True)\n",
    "# gm5d.shape"
   ]
  },
  {
   "cell_type": "code",
   "execution_count": 17,
   "metadata": {},
   "outputs": [
    {
     "data": {
      "text/plain": [
       "362108"
      ]
     },
     "execution_count": 17,
     "metadata": {},
     "output_type": "execute_result"
    }
   ],
   "source": [
    "gm5d['무부하매연측정치1'].isnull().sum()"
   ]
  },
  {
   "attachments": {},
   "cell_type": "markdown",
   "metadata": {},
   "source": [
    "#### 무부하매연측정치2 결측값 처리(❌)"
   ]
  },
  {
   "cell_type": "code",
   "execution_count": 77,
   "metadata": {},
   "outputs": [
    {
     "data": {
      "text/plain": [
       "789268"
      ]
     },
     "execution_count": 77,
     "metadata": {},
     "output_type": "execute_result"
    }
   ],
   "source": [
    "# gm4d['무부하매연측정치2'].isnull().sum()"
   ]
  },
  {
   "cell_type": "code",
   "execution_count": 78,
   "metadata": {},
   "outputs": [
    {
     "data": {
      "text/plain": [
       "((363435, 25), (789268, 25))"
      ]
     },
     "execution_count": 78,
     "metadata": {},
     "output_type": "execute_result"
    }
   ],
   "source": [
    "# gm4dy = gm4d.loc[gm4d['무부하매연측정치2'].isnull() == False].reset_index(drop=True)\n",
    "# gm4dn = gm4d.loc[gm4d['무부하매연측정치2'].isnull() == True].reset_index(drop=True)\n",
    "# gm4dy.shape, gm4dn.shape"
   ]
  },
  {
   "cell_type": "code",
   "execution_count": 79,
   "metadata": {},
   "outputs": [
    {
     "data": {
      "text/plain": [
       "789268"
      ]
     },
     "execution_count": 79,
     "metadata": {},
     "output_type": "execute_result"
    }
   ],
   "source": [
    "# gm4dn['무부하매연측정치2'].isnull().sum()"
   ]
  },
  {
   "cell_type": "code",
   "execution_count": 80,
   "metadata": {},
   "outputs": [
    {
     "data": {
      "text/plain": [
       "289247"
      ]
     },
     "execution_count": 80,
     "metadata": {},
     "output_type": "execute_result"
    }
   ],
   "source": [
    "# gm4dn = gm4dn.merge(emis_stat_g4d[['배출가스인증번호', '검사종류', '검사방법', '무부하매연측정치2/mean']], on=['배출가스인증번호', '검사종류', '검사방법'], how='left')\n",
    "# gm4dn['무부하매연측정치2/mean'].isnull().sum()"
   ]
  },
  {
   "cell_type": "code",
   "execution_count": 81,
   "metadata": {},
   "outputs": [
    {
     "data": {
      "text/plain": [
       "Index(['차량등록번호', '본거지법정동코드', '차대번호', '제원관리번호', '배출가스인증번호', '배출가스등급', '차명',\n",
       "       '차종', '연료', '배기량', '조기폐차최종승인YN', '저감장치', '연간주행거리', '시도', '시구군', '검사일자',\n",
       "       '검사방법', '검사종류', '검사판정', '무부하매연판정1', '무부하매연판정2', '무부하매연판정3', '무부하매연측정치1',\n",
       "       '무부하매연측정치2', '무부하매연측정치3', '무부하매연측정치2/mean'],\n",
       "      dtype='object')"
      ]
     },
     "execution_count": 81,
     "metadata": {},
     "output_type": "execute_result"
    }
   ],
   "source": [
    "# gm4dn.columns"
   ]
  },
  {
   "cell_type": "code",
   "execution_count": 82,
   "metadata": {},
   "outputs": [
    {
     "data": {
      "text/plain": [
       "Index(['차량등록번호', '본거지법정동코드', '차대번호', '제원관리번호', '배출가스인증번호', '배출가스등급', '차명',\n",
       "       '차종', '연료', '배기량', '조기폐차최종승인YN', '저감장치', '연간주행거리', '시도', '시구군', '검사일자',\n",
       "       '검사방법', '검사종류', '검사판정', '무부하매연판정1', '무부하매연판정2', '무부하매연판정3', '무부하매연측정치1',\n",
       "       '무부하매연측정치2', '무부하매연측정치3'],\n",
       "      dtype='object')"
      ]
     },
     "execution_count": 82,
     "metadata": {},
     "output_type": "execute_result"
    }
   ],
   "source": [
    "# gm4dn = gm4dn[['차량등록번호', '본거지법정동코드', '차대번호', '제원관리번호', '배출가스인증번호', '배출가스등급', '차명',\n",
    "#        '차종', '연료', '배기량', '조기폐차최종승인YN', '저감장치', '연간주행거리', '시도', '시구군', '검사일자',\n",
    "#        '검사방법', '검사종류', '검사판정', '무부하매연판정1', '무부하매연판정2', '무부하매연판정3', \n",
    "#        '무부하매연측정치1', '무부하매연측정치2/mean', '무부하매연측정치3', '무부하매연측정치2']]\n",
    "# gm4dn = gm4dn.drop('무부하매연측정치2', axis=1)\n",
    "# gm4dn = gm4dn.rename(columns={'무부하매연측정치2/mean':'무부하매연측정치2'})\n",
    "# gm4dn.columns"
   ]
  },
  {
   "cell_type": "code",
   "execution_count": 83,
   "metadata": {},
   "outputs": [
    {
     "data": {
      "text/plain": [
       "(1152703, 25)"
      ]
     },
     "execution_count": 83,
     "metadata": {},
     "output_type": "execute_result"
    }
   ],
   "source": [
    "# gm4d = pd.concat([gm4dy, gm4dn], ignore_index=True)\n",
    "# gm4d.shape"
   ]
  },
  {
   "cell_type": "code",
   "execution_count": 84,
   "metadata": {},
   "outputs": [
    {
     "data": {
      "text/plain": [
       "289247"
      ]
     },
     "execution_count": 84,
     "metadata": {},
     "output_type": "execute_result"
    }
   ],
   "source": [
    "# gm4d['무부하매연측정치2'].isnull().sum()"
   ]
  },
  {
   "cell_type": "code",
   "execution_count": 85,
   "metadata": {},
   "outputs": [
    {
     "data": {
      "text/plain": [
       "(1124471, 25)"
      ]
     },
     "execution_count": 85,
     "metadata": {},
     "output_type": "execute_result"
    }
   ],
   "source": [
    "# gm5d.shape"
   ]
  },
  {
   "cell_type": "code",
   "execution_count": 86,
   "metadata": {},
   "outputs": [
    {
     "data": {
      "text/plain": [
       "((237036, 25), (887435, 25))"
      ]
     },
     "execution_count": 86,
     "metadata": {},
     "output_type": "execute_result"
    }
   ],
   "source": [
    "# gm5dy = gm5d.loc[gm5d['무부하매연측정치2'].isnull() == False].reset_index(drop=True)\n",
    "# gm5dn = gm5d.loc[gm5d['무부하매연측정치2'].isnull() == True].reset_index(drop=True)\n",
    "# gm5dy.shape, gm5dn.shape"
   ]
  },
  {
   "cell_type": "code",
   "execution_count": 87,
   "metadata": {},
   "outputs": [
    {
     "data": {
      "text/plain": [
       "887435"
      ]
     },
     "execution_count": 87,
     "metadata": {},
     "output_type": "execute_result"
    }
   ],
   "source": [
    "# gm5d['무부하매연측정치2'].isnull().sum()"
   ]
  },
  {
   "cell_type": "code",
   "execution_count": 88,
   "metadata": {},
   "outputs": [
    {
     "data": {
      "text/plain": [
       "751470"
      ]
     },
     "execution_count": 88,
     "metadata": {},
     "output_type": "execute_result"
    }
   ],
   "source": [
    "# gm5dn = gm5dn.merge(emis_stat_g5d[['배출가스인증번호', '검사종류', '검사방법', '무부하매연측정치2/mean']], on=['배출가스인증번호', '검사종류', '검사방법'], how='left')\n",
    "# gm5dn['무부하매연측정치2/mean'].isnull().sum()"
   ]
  },
  {
   "cell_type": "code",
   "execution_count": 89,
   "metadata": {},
   "outputs": [
    {
     "data": {
      "text/plain": [
       "Index(['차량등록번호', '본거지법정동코드', '차대번호', '제원관리번호', '배출가스인증번호', '배출가스등급', '차명',\n",
       "       '차종', '연료', '배기량', '조기폐차최종승인YN', '저감장치', '연간주행거리', '시도', '시구군', '검사일자',\n",
       "       '검사방법', '검사종류', '검사판정', '무부하매연판정1', '무부하매연판정2', '무부하매연판정3', '무부하매연측정치1',\n",
       "       '무부하매연측정치2', '무부하매연측정치3'],\n",
       "      dtype='object')"
      ]
     },
     "execution_count": 89,
     "metadata": {},
     "output_type": "execute_result"
    }
   ],
   "source": [
    "# gm5dn = gm5dn[['차량등록번호', '본거지법정동코드', '차대번호', '제원관리번호', '배출가스인증번호', '배출가스등급', '차명',\n",
    "#        '차종', '연료', '배기량', '조기폐차최종승인YN', '저감장치', '연간주행거리', '시도', '시구군', '검사일자',\n",
    "#        '검사방법', '검사종류', '검사판정', '무부하매연판정1', '무부하매연판정2', '무부하매연판정3', \n",
    "#        '무부하매연측정치1', '무부하매연측정치2/mean', '무부하매연측정치3', '무부하매연측정치2']]\n",
    "# gm5dn = gm5dn.drop('무부하매연측정치2', axis=1)\n",
    "# gm5dn = gm5dn.rename(columns={'무부하매연측정치2/mean':'무부하매연측정치2'})\n",
    "# gm5dn.columns"
   ]
  },
  {
   "cell_type": "code",
   "execution_count": 90,
   "metadata": {},
   "outputs": [
    {
     "data": {
      "text/plain": [
       "(1124471, 25)"
      ]
     },
     "execution_count": 90,
     "metadata": {},
     "output_type": "execute_result"
    }
   ],
   "source": [
    "# gm5d = pd.concat([gm5dy, gm5dn], ignore_index=True)\n",
    "# gm5d.shape"
   ]
  },
  {
   "cell_type": "code",
   "execution_count": 91,
   "metadata": {},
   "outputs": [
    {
     "data": {
      "text/plain": [
       "751470"
      ]
     },
     "execution_count": 91,
     "metadata": {},
     "output_type": "execute_result"
    }
   ],
   "source": [
    "# gm5d['무부하매연측정치2'].isnull().sum()"
   ]
  },
  {
   "attachments": {},
   "cell_type": "markdown",
   "metadata": {},
   "source": [
    "#### 무부하매연측정치3 결측값 처리(❌)"
   ]
  },
  {
   "cell_type": "code",
   "execution_count": 92,
   "metadata": {},
   "outputs": [
    {
     "data": {
      "text/plain": [
       "824003"
      ]
     },
     "execution_count": 92,
     "metadata": {},
     "output_type": "execute_result"
    }
   ],
   "source": [
    "# gm4d['무부하매연측정치3'].isnull().sum()"
   ]
  },
  {
   "cell_type": "code",
   "execution_count": 93,
   "metadata": {},
   "outputs": [
    {
     "data": {
      "text/plain": [
       "((328700, 25), (824003, 25))"
      ]
     },
     "execution_count": 93,
     "metadata": {},
     "output_type": "execute_result"
    }
   ],
   "source": [
    "# gm4dy = gm4d.loc[gm4d['무부하매연측정치3'].isnull() == False].reset_index(drop=True)\n",
    "# gm4dn = gm4d.loc[gm4d['무부하매연측정치3'].isnull() == True].reset_index(drop=True)\n",
    "# gm4dy.shape, gm4dn.shape"
   ]
  },
  {
   "cell_type": "code",
   "execution_count": 94,
   "metadata": {},
   "outputs": [
    {
     "data": {
      "text/plain": [
       "824003"
      ]
     },
     "execution_count": 94,
     "metadata": {},
     "output_type": "execute_result"
    }
   ],
   "source": [
    "# gm4dn['무부하매연측정치3'].isnull().sum()"
   ]
  },
  {
   "cell_type": "code",
   "execution_count": 95,
   "metadata": {},
   "outputs": [
    {
     "data": {
      "text/plain": [
       "300605"
      ]
     },
     "execution_count": 95,
     "metadata": {},
     "output_type": "execute_result"
    }
   ],
   "source": [
    "# gm4dn = gm4dn.merge(emis_stat_g4d[['배출가스인증번호', '검사종류', '검사방법', '무부하매연측정치3/mean']], on=['배출가스인증번호', '검사종류', '검사방법'], how='left')\n",
    "# gm4dn['무부하매연측정치3/mean'].isnull().sum()"
   ]
  },
  {
   "cell_type": "code",
   "execution_count": 96,
   "metadata": {},
   "outputs": [
    {
     "data": {
      "text/plain": [
       "Index(['차량등록번호', '본거지법정동코드', '차대번호', '제원관리번호', '배출가스인증번호', '배출가스등급', '차명',\n",
       "       '차종', '연료', '배기량', '조기폐차최종승인YN', '저감장치', '연간주행거리', '시도', '시구군', '검사일자',\n",
       "       '검사방법', '검사종류', '검사판정', '무부하매연판정1', '무부하매연판정2', '무부하매연판정3', '무부하매연측정치1',\n",
       "       '무부하매연측정치2', '무부하매연측정치3', '무부하매연측정치3/mean'],\n",
       "      dtype='object')"
      ]
     },
     "execution_count": 96,
     "metadata": {},
     "output_type": "execute_result"
    }
   ],
   "source": [
    "# gm4dn.columns"
   ]
  },
  {
   "cell_type": "code",
   "execution_count": 97,
   "metadata": {},
   "outputs": [
    {
     "data": {
      "text/plain": [
       "Index(['차량등록번호', '본거지법정동코드', '차대번호', '제원관리번호', '배출가스인증번호', '배출가스등급', '차명',\n",
       "       '차종', '연료', '배기량', '조기폐차최종승인YN', '저감장치', '연간주행거리', '시도', '시구군', '검사일자',\n",
       "       '검사방법', '검사종류', '검사판정', '무부하매연판정1', '무부하매연판정2', '무부하매연판정3', '무부하매연측정치1',\n",
       "       '무부하매연측정치2', '무부하매연측정치3'],\n",
       "      dtype='object')"
      ]
     },
     "execution_count": 97,
     "metadata": {},
     "output_type": "execute_result"
    }
   ],
   "source": [
    "# gm4dn = gm4dn[['차량등록번호', '본거지법정동코드', '차대번호', '제원관리번호', '배출가스인증번호', '배출가스등급', '차명',\n",
    "#        '차종', '연료', '배기량', '조기폐차최종승인YN', '저감장치', '연간주행거리', '시도', '시구군', '검사일자',\n",
    "#        '검사방법', '검사종류', '검사판정', '무부하매연판정1', '무부하매연판정2', '무부하매연판정3', \n",
    "#        '무부하매연측정치1', '무부하매연측정치2', '무부하매연측정치3/mean', '무부하매연측정치3']]\n",
    "# gm4dn = gm4dn.drop('무부하매연측정치3', axis=1)\n",
    "# gm4dn = gm4dn.rename(columns={'무부하매연측정치3/mean':'무부하매연측정치3'})\n",
    "# gm4dn.columns"
   ]
  },
  {
   "cell_type": "code",
   "execution_count": 98,
   "metadata": {},
   "outputs": [
    {
     "data": {
      "text/plain": [
       "(1152703, 25)"
      ]
     },
     "execution_count": 98,
     "metadata": {},
     "output_type": "execute_result"
    }
   ],
   "source": [
    "# gm4d = pd.concat([gm4dy, gm4dn], ignore_index=True)\n",
    "# gm4d.shape"
   ]
  },
  {
   "cell_type": "code",
   "execution_count": 99,
   "metadata": {},
   "outputs": [
    {
     "data": {
      "text/plain": [
       "300605"
      ]
     },
     "execution_count": 99,
     "metadata": {},
     "output_type": "execute_result"
    }
   ],
   "source": [
    "# gm4d['무부하매연측정치3'].isnull().sum()"
   ]
  },
  {
   "cell_type": "code",
   "execution_count": 100,
   "metadata": {},
   "outputs": [
    {
     "data": {
      "text/plain": [
       "(1124471, 25)"
      ]
     },
     "execution_count": 100,
     "metadata": {},
     "output_type": "execute_result"
    }
   ],
   "source": [
    "# gm5d.shape"
   ]
  },
  {
   "cell_type": "code",
   "execution_count": 101,
   "metadata": {},
   "outputs": [
    {
     "data": {
      "text/plain": [
       "((217546, 25), (906925, 25))"
      ]
     },
     "execution_count": 101,
     "metadata": {},
     "output_type": "execute_result"
    }
   ],
   "source": [
    "# gm5dy = gm5d.loc[gm5d['무부하매연측정치3'].isnull() == False].reset_index(drop=True)\n",
    "# gm5dn = gm5d.loc[gm5d['무부하매연측정치3'].isnull() == True].reset_index(drop=True)\n",
    "# gm5dy.shape, gm5dn.shape"
   ]
  },
  {
   "cell_type": "code",
   "execution_count": 102,
   "metadata": {},
   "outputs": [
    {
     "data": {
      "text/plain": [
       "906925"
      ]
     },
     "execution_count": 102,
     "metadata": {},
     "output_type": "execute_result"
    }
   ],
   "source": [
    "# gm5d['무부하매연측정치3'].isnull().sum()"
   ]
  },
  {
   "cell_type": "code",
   "execution_count": 103,
   "metadata": {},
   "outputs": [
    {
     "data": {
      "text/plain": [
       "764348"
      ]
     },
     "execution_count": 103,
     "metadata": {},
     "output_type": "execute_result"
    }
   ],
   "source": [
    "# gm5dn = gm5dn.merge(emis_stat_g5d[['배출가스인증번호', '검사종류', '검사방법', '무부하매연측정치3/mean']], on=['배출가스인증번호', '검사종류', '검사방법'], how='left')\n",
    "# gm5dn['무부하매연측정치3/mean'].isnull().sum()"
   ]
  },
  {
   "cell_type": "code",
   "execution_count": 105,
   "metadata": {},
   "outputs": [
    {
     "data": {
      "text/plain": [
       "Index(['차량등록번호', '본거지법정동코드', '차대번호', '제원관리번호', '배출가스인증번호', '배출가스등급', '차명',\n",
       "       '차종', '연료', '배기량', '조기폐차최종승인YN', '저감장치', '연간주행거리', '시도', '시구군', '검사일자',\n",
       "       '검사방법', '검사종류', '검사판정', '무부하매연판정1', '무부하매연판정2', '무부하매연판정3', '무부하매연측정치1',\n",
       "       '무부하매연측정치2', '무부하매연측정치3'],\n",
       "      dtype='object')"
      ]
     },
     "execution_count": 105,
     "metadata": {},
     "output_type": "execute_result"
    }
   ],
   "source": [
    "# gm5dn = gm5dn[['차량등록번호', '본거지법정동코드', '차대번호', '제원관리번호', '배출가스인증번호', '배출가스등급', '차명',\n",
    "#        '차종', '연료', '배기량', '조기폐차최종승인YN', '저감장치', '연간주행거리', '시도', '시구군', '검사일자',\n",
    "#        '검사방법', '검사종류', '검사판정', '무부하매연판정1', '무부하매연판정2', '무부하매연판정3', \n",
    "#        '무부하매연측정치1', '무부하매연측정치2', '무부하매연측정치3/mean', '무부하매연측정치3']]\n",
    "# gm5dn = gm5dn.drop('무부하매연측정치3', axis=1)\n",
    "# gm5dn = gm5dn.rename(columns={'무부하매연측정치3/mean':'무부하매연측정치3'})\n",
    "# gm5dn.columns"
   ]
  },
  {
   "cell_type": "code",
   "execution_count": 106,
   "metadata": {},
   "outputs": [
    {
     "data": {
      "text/plain": [
       "(1124471, 25)"
      ]
     },
     "execution_count": 106,
     "metadata": {},
     "output_type": "execute_result"
    }
   ],
   "source": [
    "# gm5d = pd.concat([gm5dy, gm5dn], ignore_index=True)\n",
    "# gm5d.shape"
   ]
  },
  {
   "cell_type": "code",
   "execution_count": 107,
   "metadata": {},
   "outputs": [
    {
     "data": {
      "text/plain": [
       "764348"
      ]
     },
     "execution_count": 107,
     "metadata": {},
     "output_type": "execute_result"
    }
   ],
   "source": [
    "# gm5d['무부하매연측정치3'].isnull().sum()"
   ]
  },
  {
   "attachments": {},
   "cell_type": "markdown",
   "metadata": {},
   "source": [
    "#### 출력"
   ]
  },
  {
   "cell_type": "code",
   "execution_count": 111,
   "metadata": {},
   "outputs": [
    {
     "data": {
      "text/plain": [
       "((1152703, 25), (1124471, 25))"
      ]
     },
     "execution_count": 111,
     "metadata": {},
     "output_type": "execute_result"
    }
   ],
   "source": [
    "# gm4d.shape, gm5d.shape"
   ]
  },
  {
   "cell_type": "code",
   "execution_count": 112,
   "metadata": {},
   "outputs": [],
   "source": [
    "# # about 25.6s\n",
    "# gm4d.to_csv(os.path.join(ods_fold, 'BD3_3_저공해조치_우선차량선별_4등급_매연결측치처리.csv'), index=False)\n",
    "# gm5d.to_csv(os.path.join(ods_fold, 'BD3_3_저공해조치_우선차량선별_5등급_매연결측치처리.csv'), index=False)"
   ]
  },
  {
   "attachments": {},
   "cell_type": "markdown",
   "metadata": {},
   "source": [
    "# 분석"
   ]
  },
  {
   "attachments": {},
   "cell_type": "markdown",
   "metadata": {},
   "source": [
    "## 경제적 타당성 평가\n",
    "- 환경이익 계산"
   ]
  },
  {
   "attachments": {},
   "cell_type": "markdown",
   "metadata": {},
   "source": [
    "### 4등급 환경이익\n",
    "- 고려사항\n",
    "    - 조기폐차\n",
    "- '조기폐차최종승인YN' = N 인 차량이 조기폐차 했을 경우 환경이익 계산"
   ]
  },
  {
   "cell_type": "code",
   "execution_count": 221,
   "metadata": {},
   "outputs": [
    {
     "data": {
      "text/plain": [
       "((1149256, 57), (1125999, 42))"
      ]
     },
     "execution_count": 221,
     "metadata": {},
     "output_type": "execute_result"
    }
   ],
   "source": [
    "gm4d.shape, gm5d.shape"
   ]
  },
  {
   "cell_type": "code",
   "execution_count": 222,
   "metadata": {},
   "outputs": [
    {
     "data": {
      "text/plain": [
       "Index(['차대번호', '차량번호', '제원관리번호', '차종', '용도', '최초등록일', '연식', '제작일자', '검사유효일',\n",
       "       '배출가스인증번호', '등급', '차명', '차종분류', '차종유형', '자동차형식', '제작사명', '연료', '엔진형식',\n",
       "       '총중량', '적재중량', '엔진출력', '배기량', '법정동코드', '시도명', '시군구명', '소유자구분', '말소여부',\n",
       "       '배인번호_수정', '등급_수정', 'DPF유무_수정', 'Grade', '시군구명_수정', '1일평균주행거리',\n",
       "       '조기폐차최종승인YN', '저감장치', '장치일련번호', '연간주행거리', '최신경과기간', '주행거리', '검사일자',\n",
       "       '검사방법', '검사종류', '검사판정', '무부하매연판정1', '무부하매연판정2', '무부하매연판정3', '무부하매연측정치1',\n",
       "       '무부하매연측정치2', '무부하매연측정치3', '비상시및계절제단속발령건수', '비상시및계절제단속발령YN',\n",
       "       '운행제한단속정보건수', '운행제한단속정보YN', '계절제1차단속YN', '계절제2차단속YN', '계절제3차단속YN',\n",
       "       '비상시단속YN'],\n",
       "      dtype='object')"
      ]
     },
     "execution_count": 222,
     "metadata": {},
     "output_type": "execute_result"
    }
   ],
   "source": [
    "gm4d.columns"
   ]
  },
  {
   "cell_type": "code",
   "execution_count": 223,
   "metadata": {},
   "outputs": [
    {
     "data": {
      "text/plain": [
       "0"
      ]
     },
     "execution_count": 223,
     "metadata": {},
     "output_type": "execute_result"
    }
   ],
   "source": [
    "gm4d['1일평균주행거리'].isnull().sum()"
   ]
  },
  {
   "cell_type": "code",
   "execution_count": 224,
   "metadata": {},
   "outputs": [
    {
     "data": {
      "text/plain": [
       "조기폐차최종승인YN\n",
       "NaN    1149256\n",
       "Name: count, dtype: int64"
      ]
     },
     "execution_count": 224,
     "metadata": {},
     "output_type": "execute_result"
    }
   ],
   "source": [
    "gm4d['조기폐차최종승인YN'].value_counts(dropna=False)"
   ]
  },
  {
   "cell_type": "code",
   "execution_count": 225,
   "metadata": {},
   "outputs": [
    {
     "data": {
      "text/plain": [
       "저감장치\n",
       "NaN           1149224\n",
       "DPF                31\n",
       "PM-NOx저감장치          1\n",
       "Name: count, dtype: int64"
      ]
     },
     "execution_count": 225,
     "metadata": {},
     "output_type": "execute_result"
    }
   ],
   "source": [
    "gm4d['저감장치'].value_counts(dropna=False)"
   ]
  },
  {
   "cell_type": "code",
   "execution_count": 226,
   "metadata": {},
   "outputs": [],
   "source": [
    "# gm4d[(gm4d['저감장치'] == 'DPF') | (gm4d['저감장치'] == 'PM-NOx저감장치')].reset_index(drop=True).to_excel(os.path.join(analysis_fold, '샘플_4등급_저감장치.xlsx'), index=False)"
   ]
  },
  {
   "cell_type": "code",
   "execution_count": 227,
   "metadata": {},
   "outputs": [
    {
     "data": {
      "text/plain": [
       "array(['무부하검사(급가속)', '부하검사(KD-147)', '부하검사(LUG DOWN)', '부하검사(ASM-Idling)',\n",
       "       '무부하검사(정지가동)', nan], dtype=object)"
      ]
     },
     "execution_count": 227,
     "metadata": {},
     "output_type": "execute_result"
    }
   ],
   "source": [
    "gm4d['검사방법'].unique()"
   ]
  },
  {
   "cell_type": "code",
   "execution_count": 228,
   "metadata": {},
   "outputs": [
    {
     "data": {
      "text/plain": [
       "0"
      ]
     },
     "execution_count": 228,
     "metadata": {},
     "output_type": "execute_result"
    }
   ],
   "source": [
    "gm4d['배기량'].isnull().sum()"
   ]
  },
  {
   "cell_type": "code",
   "execution_count": 229,
   "metadata": {},
   "outputs": [
    {
     "data": {
      "text/plain": [
       "무부하매연측정치1     31152\n",
       "무부하매연측정치2    784919\n",
       "무부하매연측정치3    818173\n",
       "dtype: int64"
      ]
     },
     "execution_count": 229,
     "metadata": {},
     "output_type": "execute_result"
    }
   ],
   "source": [
    "gm4d[['무부하매연측정치1', '무부하매연측정치2', '무부하매연측정치3']].isnull().sum()"
   ]
  },
  {
   "cell_type": "code",
   "execution_count": 230,
   "metadata": {},
   "outputs": [
    {
     "data": {
      "text/plain": [
       "0"
      ]
     },
     "execution_count": 230,
     "metadata": {},
     "output_type": "execute_result"
    }
   ],
   "source": [
    "gm4d['연간주행거리'].isnull().sum()"
   ]
  },
  {
   "cell_type": "code",
   "execution_count": 231,
   "metadata": {},
   "outputs": [
    {
     "name": "stderr",
     "output_type": "stream",
     "text": [
      "100%|██████████| 1149256/1149256 [00:04<00:00, 248603.64it/s]\n"
     ]
    }
   ],
   "source": [
    "# about 4.8s\n",
    "kg_list = []\n",
    "for method, one, two, three, distance, cc in tqdm(gm4d[['검사방법', '무부하매연측정치1', '무부하매연측정치2', '무부하매연측정치3', '연간주행거리', '배기량']].values):\n",
    "    cc = cc/1000\n",
    "    if method == '무부하검사(급가속)' or method == '무부하검사(정지가동)':\n",
    "        if pd.isna(one) == False and pd.isna(two) == False and pd.isna(three) == False:\n",
    "            emis = (one + two + three) / 3\n",
    "        elif pd.isna(one) == False and pd.isna(two) == True and pd.isna(three) == True:\n",
    "            emis = one\n",
    "        else:\n",
    "            emis = np.nan\n",
    "    elif method == '부하검사(KD-147)':\n",
    "        if pd.isna(one) == False:\n",
    "            emis = one\n",
    "        else:\n",
    "            emis = np.nan\n",
    "    elif method == '부하검사(ASM-Idling)':\n",
    "        if pd.isna(one) == False:\n",
    "            emis = one\n",
    "        else:\n",
    "            emis = np.nan\n",
    "    else:\n",
    "        emis = np.nan\n",
    "    mgkm = (0.0126*(emis**2) + 2.665*emis +3.03) * ( (0.4229*0.001*cc**2 - 1.022*0.001*cc + 1.59)/60 ) * 1/2.16\n",
    "    kg = mgkm * distance * 10**(-6)\n",
    "    kg_list.append(kg)"
   ]
  },
  {
   "cell_type": "code",
   "execution_count": 232,
   "metadata": {},
   "outputs": [
    {
     "data": {
      "text/plain": [
       "1149256"
      ]
     },
     "execution_count": 232,
     "metadata": {},
     "output_type": "execute_result"
    }
   ],
   "source": [
    "len(kg_list)"
   ]
  },
  {
   "cell_type": "code",
   "execution_count": 233,
   "metadata": {},
   "outputs": [
    {
     "data": {
      "text/plain": [
       "[nan,\n",
       " nan,\n",
       " nan,\n",
       " 0.004390036644435732,\n",
       " 0.49940475543845614,\n",
       " 1.6933574534725049,\n",
       " 3.9331967625793163,\n",
       " 0.011500760847896576,\n",
       " 0.0004930210214883195,\n",
       " nan]"
      ]
     },
     "execution_count": 233,
     "metadata": {},
     "output_type": "execute_result"
    }
   ],
   "source": [
    "kg_list[:10]"
   ]
  },
  {
   "cell_type": "code",
   "execution_count": 234,
   "metadata": {},
   "outputs": [
    {
     "data": {
      "text/plain": [
       "Index(['차대번호', '차량번호', '제원관리번호', '차종', '용도', '최초등록일', '연식', '제작일자', '검사유효일',\n",
       "       '배출가스인증번호', '등급', '차명', '차종분류', '차종유형', '자동차형식', '제작사명', '연료', '엔진형식',\n",
       "       '총중량', '적재중량', '엔진출력', '배기량', '법정동코드', '시도명', '시군구명', '소유자구분', '말소여부',\n",
       "       '배인번호_수정', '등급_수정', 'DPF유무_수정', 'Grade', '시군구명_수정', '1일평균주행거리',\n",
       "       '조기폐차최종승인YN', '저감장치', '장치일련번호', '연간주행거리', '최신경과기간', '주행거리', '검사일자',\n",
       "       '검사방법', '검사종류', '검사판정', '무부하매연판정1', '무부하매연판정2', '무부하매연판정3', '무부하매연측정치1',\n",
       "       '무부하매연측정치2', '무부하매연측정치3', '비상시및계절제단속발령건수', '비상시및계절제단속발령YN',\n",
       "       '운행제한단속정보건수', '운행제한단속정보YN', '계절제1차단속YN', '계절제2차단속YN', '계절제3차단속YN',\n",
       "       '비상시단속YN', '연간배출량'],\n",
       "      dtype='object')"
      ]
     },
     "execution_count": 234,
     "metadata": {},
     "output_type": "execute_result"
    }
   ],
   "source": [
    "gm4d['연간배출량'] = kg_list\n",
    "gm4d.columns"
   ]
  },
  {
   "cell_type": "code",
   "execution_count": 235,
   "metadata": {},
   "outputs": [
    {
     "data": {
      "text/plain": [
       "count   1043102.00000\n",
       "mean          2.80439\n",
       "std        2661.45722\n",
       "min           0.00000\n",
       "25%           0.00056\n",
       "50%           0.00169\n",
       "75%           0.00437\n",
       "max     2716450.04120\n",
       "Name: 연간배출량, dtype: float64"
      ]
     },
     "execution_count": 235,
     "metadata": {},
     "output_type": "execute_result"
    }
   ],
   "source": [
    "gm4d['연간배출량'].describe()"
   ]
  },
  {
   "cell_type": "code",
   "execution_count": 236,
   "metadata": {},
   "outputs": [
    {
     "data": {
      "text/plain": [
       "106154"
      ]
     },
     "execution_count": 236,
     "metadata": {},
     "output_type": "execute_result"
    }
   ],
   "source": [
    "gm4d['연간배출량'].isnull().sum()"
   ]
  },
  {
   "cell_type": "code",
   "execution_count": 237,
   "metadata": {},
   "outputs": [
    {
     "data": {
      "text/plain": [
       "(106154, 58)"
      ]
     },
     "execution_count": 237,
     "metadata": {},
     "output_type": "execute_result"
    }
   ],
   "source": [
    "gm4d[(gm4d['연간배출량'].isnull()) | (gm4d['연간배출량'] == np.inf) | (gm4d['연간배출량'] == -np.inf)].shape"
   ]
  },
  {
   "cell_type": "code",
   "execution_count": 238,
   "metadata": {},
   "outputs": [
    {
     "data": {
      "text/plain": [
       "(1149256, 58)"
      ]
     },
     "execution_count": 238,
     "metadata": {},
     "output_type": "execute_result"
    }
   ],
   "source": [
    "gm4d.shape"
   ]
  },
  {
   "cell_type": "code",
   "execution_count": 239,
   "metadata": {},
   "outputs": [
    {
     "data": {
      "text/plain": [
       "0         NaN\n",
       "1         NaN\n",
       "2         NaN\n",
       "3     1.09658\n",
       "4   124.74563\n",
       "Name: 연간환경이익, dtype: float64"
      ]
     },
     "execution_count": 239,
     "metadata": {},
     "output_type": "execute_result"
    }
   ],
   "source": [
    "# 연간환경이익\n",
    "gm4d['연간환경이익'] = gm4d['연간배출량'] * (117009*0.33 + 174967*0.33 + 451284*0.34) / 1000\n",
    "gm4d['연간환경이익'].head()"
   ]
  },
  {
   "cell_type": "code",
   "execution_count": 240,
   "metadata": {},
   "outputs": [
    {
     "data": {
      "text/plain": [
       "0         NaN\n",
       "1         NaN\n",
       "2         NaN\n",
       "3     3.28974\n",
       "4   374.23690\n",
       "Name: 환경이익, dtype: float64"
      ]
     },
     "execution_count": 240,
     "metadata": {},
     "output_type": "execute_result"
    }
   ],
   "source": [
    "gm4d['환경이익'] = gm4d['연간환경이익'] * 3\n",
    "gm4d['환경이익'].head()"
   ]
  },
  {
   "attachments": {},
   "cell_type": "markdown",
   "metadata": {},
   "source": [
    "### 4등급 지원비용"
   ]
  },
  {
   "cell_type": "code",
   "execution_count": 241,
   "metadata": {},
   "outputs": [
    {
     "data": {
      "text/plain": [
       "Index(['차대번호', '차량번호', '제원관리번호', '차종', '용도', '최초등록일', '연식', '제작일자', '검사유효일',\n",
       "       '배출가스인증번호', '등급', '차명', '차종분류', '차종유형', '자동차형식', '제작사명', '연료', '엔진형식',\n",
       "       '총중량', '적재중량', '엔진출력', '배기량', '법정동코드', '시도명', '시군구명', '소유자구분', '말소여부',\n",
       "       '배인번호_수정', '등급_수정', 'DPF유무_수정', 'Grade', '시군구명_수정', '1일평균주행거리',\n",
       "       '조기폐차최종승인YN', '저감장치', '장치일련번호', '연간주행거리', '최신경과기간', '주행거리', '검사일자',\n",
       "       '검사방법', '검사종류', '검사판정', '무부하매연판정1', '무부하매연판정2', '무부하매연판정3', '무부하매연측정치1',\n",
       "       '무부하매연측정치2', '무부하매연측정치3', '비상시및계절제단속발령건수', '비상시및계절제단속발령YN',\n",
       "       '운행제한단속정보건수', '운행제한단속정보YN', '계절제1차단속YN', '계절제2차단속YN', '계절제3차단속YN',\n",
       "       '비상시단속YN', '연간배출량', '연간환경이익', '환경이익'],\n",
       "      dtype='object')"
      ]
     },
     "execution_count": 241,
     "metadata": {},
     "output_type": "execute_result"
    }
   ],
   "source": [
    "gm4d.columns"
   ]
  },
  {
   "cell_type": "code",
   "execution_count": 242,
   "metadata": {},
   "outputs": [
    {
     "data": {
      "text/plain": [
       "array(['승용', '특수', '승합', '화물'], dtype=object)"
      ]
     },
     "execution_count": 242,
     "metadata": {},
     "output_type": "execute_result"
    }
   ],
   "source": [
    "gm4d['차종'].unique()"
   ]
  },
  {
   "cell_type": "code",
   "execution_count": 243,
   "metadata": {},
   "outputs": [
    {
     "data": {
      "text/plain": [
       "array(['일반', '다목적', '견인', '기타', '일반형-카고', '특수용도형-특수용도형', '덤프', '특수', '밴',\n",
       "       '특수작업형', '구난', '특수용도형-탱크로리', '일반형-픽업', '특수용도형-피견인'], dtype=object)"
      ]
     },
     "execution_count": 243,
     "metadata": {},
     "output_type": "execute_result"
    }
   ],
   "source": [
    "gm4d['차종분류'].unique()"
   ]
  },
  {
   "cell_type": "code",
   "execution_count": 244,
   "metadata": {},
   "outputs": [
    {
     "data": {
      "text/plain": [
       "array(['대형', '중형', '소형', '경형'], dtype=object)"
      ]
     },
     "execution_count": 244,
     "metadata": {},
     "output_type": "execute_result"
    }
   ],
   "source": [
    "gm4d['차종유형'].unique()"
   ]
  },
  {
   "cell_type": "code",
   "execution_count": 245,
   "metadata": {},
   "outputs": [
    {
     "name": "stderr",
     "output_type": "stream",
     "text": [
      "100%|██████████| 1149256/1149256 [00:01<00:00, 609110.62it/s]\n"
     ]
    }
   ],
   "source": [
    "# 단위 : 천원\n",
    "cash_list = []\n",
    "for weight, cc in tqdm(gm4d[['총중량', '배기량']].values):\n",
    "    if weight < 3500:\n",
    "        cash = 3000\n",
    "    elif weight >= 3500:\n",
    "        if cc <= 3500:\n",
    "            cash = 4400\n",
    "        elif 3500< cc <= 5500:\n",
    "            cash = 7500\n",
    "        elif 5500< cc <= 7500:\n",
    "            cash = 11000\n",
    "        elif 7500 < cc:\n",
    "            cash = 30000\n",
    "    else:\n",
    "        cash = np.nan\n",
    "    cash_list.append(cash)"
   ]
  },
  {
   "cell_type": "code",
   "execution_count": 246,
   "metadata": {},
   "outputs": [
    {
     "data": {
      "text/plain": [
       "1149256"
      ]
     },
     "execution_count": 246,
     "metadata": {},
     "output_type": "execute_result"
    }
   ],
   "source": [
    "len(cash_list)"
   ]
  },
  {
   "cell_type": "code",
   "execution_count": 247,
   "metadata": {},
   "outputs": [
    {
     "data": {
      "text/plain": [
       "[3000, 3000, 3000, 3000, 3000, 3000, 3000, 3000, 3000, 3000]"
      ]
     },
     "execution_count": 247,
     "metadata": {},
     "output_type": "execute_result"
    }
   ],
   "source": [
    "cash_list[:10]"
   ]
  },
  {
   "cell_type": "code",
   "execution_count": 248,
   "metadata": {},
   "outputs": [],
   "source": [
    "gm4d['지원비용'] = cash_list"
   ]
  },
  {
   "attachments": {},
   "cell_type": "markdown",
   "metadata": {},
   "source": [
    "### 4등급 경제적 타당성 계산"
   ]
  },
  {
   "cell_type": "code",
   "execution_count": 249,
   "metadata": {},
   "outputs": [],
   "source": [
    "gm4d['경제적타당성'] = gm4d['환경이익'] / gm4d['지원비용']"
   ]
  },
  {
   "cell_type": "code",
   "execution_count": 250,
   "metadata": {},
   "outputs": [
    {
     "data": {
      "text/plain": [
       "count   1043102.00000\n",
       "mean          0.70020\n",
       "std         664.80178\n",
       "min           0.00000\n",
       "25%           0.00014\n",
       "50%           0.00042\n",
       "75%           0.00108\n",
       "max      678538.36142\n",
       "Name: 경제적타당성, dtype: float64"
      ]
     },
     "execution_count": 250,
     "metadata": {},
     "output_type": "execute_result"
    }
   ],
   "source": [
    "gm4d['경제적타당성'].describe()"
   ]
  },
  {
   "cell_type": "code",
   "execution_count": 251,
   "metadata": {},
   "outputs": [
    {
     "data": {
      "text/plain": [
       "3   0.00110\n",
       "4   0.12475\n",
       "5   0.42298\n",
       "6   0.98247\n",
       "7   0.00287\n",
       "Name: 경제적타당성, dtype: float64"
      ]
     },
     "execution_count": 251,
     "metadata": {},
     "output_type": "execute_result"
    }
   ],
   "source": [
    "gm4d.loc[gm4d['경제적타당성'].isnull() == False, '경제적타당성'].head()"
   ]
  },
  {
   "cell_type": "code",
   "execution_count": 252,
   "metadata": {},
   "outputs": [
    {
     "data": {
      "text/plain": [
       "(11797,)"
      ]
     },
     "execution_count": 252,
     "metadata": {},
     "output_type": "execute_result"
    }
   ],
   "source": [
    "gm4d.loc[gm4d['경제적타당성'] >= 1, '경제적타당성'].shape"
   ]
  },
  {
   "cell_type": "code",
   "execution_count": 253,
   "metadata": {},
   "outputs": [
    {
     "data": {
      "text/plain": [
       "(1149256, 62)"
      ]
     },
     "execution_count": 253,
     "metadata": {},
     "output_type": "execute_result"
    }
   ],
   "source": [
    "gm4d.shape"
   ]
  },
  {
   "cell_type": "code",
   "execution_count": 254,
   "metadata": {},
   "outputs": [
    {
     "data": {
      "text/plain": [
       "(1025121,)"
      ]
     },
     "execution_count": 254,
     "metadata": {},
     "output_type": "execute_result"
    }
   ],
   "source": [
    "gm4d.loc[gm4d['경제적타당성'] < 0.5, '경제적타당성'].shape"
   ]
  },
  {
   "cell_type": "code",
   "execution_count": 255,
   "metadata": {},
   "outputs": [
    {
     "data": {
      "text/plain": [
       "(6184,)"
      ]
     },
     "execution_count": 255,
     "metadata": {},
     "output_type": "execute_result"
    }
   ],
   "source": [
    "gm4d.loc[(gm4d['경제적타당성'] >= 0.5) & (gm4d['경제적타당성'] < 1), '경제적타당성'].shape"
   ]
  },
  {
   "cell_type": "code",
   "execution_count": 256,
   "metadata": {},
   "outputs": [
    {
     "data": {
      "text/plain": [
       "(6302,)"
      ]
     },
     "execution_count": 256,
     "metadata": {},
     "output_type": "execute_result"
    }
   ],
   "source": [
    "gm4d.loc[(gm4d['경제적타당성'] >= 1) & (gm4d['경제적타당성'] < 1.5), '경제적타당성'].shape"
   ]
  },
  {
   "cell_type": "code",
   "execution_count": 257,
   "metadata": {},
   "outputs": [
    {
     "data": {
      "text/plain": [
       "(2844,)"
      ]
     },
     "execution_count": 257,
     "metadata": {},
     "output_type": "execute_result"
    }
   ],
   "source": [
    "gm4d.loc[(gm4d['경제적타당성'] >= 1.5) & (gm4d['경제적타당성'] < 2), '경제적타당성'].shape"
   ]
  },
  {
   "cell_type": "code",
   "execution_count": 258,
   "metadata": {},
   "outputs": [
    {
     "data": {
      "text/plain": [
       "(2651,)"
      ]
     },
     "execution_count": 258,
     "metadata": {},
     "output_type": "execute_result"
    }
   ],
   "source": [
    "gm4d.loc[gm4d['경제적타당성'] >= 2, '경제적타당성'].shape"
   ]
  },
  {
   "attachments": {},
   "cell_type": "markdown",
   "metadata": {},
   "source": [
    "#### 조기폐차 Y 경제적 타당성 수정\n",
    "- 조기폐차한 차량은 이미 존재하지 않기에 대한 경제적 타당성은 없음."
   ]
  },
  {
   "cell_type": "code",
   "execution_count": 259,
   "metadata": {},
   "outputs": [
    {
     "data": {
      "text/plain": [
       "조기폐차최종승인YN\n",
       "NaN    1149256\n",
       "Name: count, dtype: int64"
      ]
     },
     "execution_count": 259,
     "metadata": {},
     "output_type": "execute_result"
    }
   ],
   "source": [
    "gm4d['조기폐차최종승인YN'].value_counts(dropna=False)"
   ]
  },
  {
   "attachments": {},
   "cell_type": "markdown",
   "metadata": {},
   "source": [
    "### 마지막 검사부터 경과일"
   ]
  },
  {
   "cell_type": "code",
   "execution_count": 260,
   "metadata": {},
   "outputs": [
    {
     "data": {
      "text/plain": [
       "Index(['차대번호', '차량번호', '제원관리번호', '차종', '용도', '최초등록일', '연식', '제작일자', '검사유효일',\n",
       "       '배출가스인증번호', '등급', '차명', '차종분류', '차종유형', '자동차형식', '제작사명', '연료', '엔진형식',\n",
       "       '총중량', '적재중량', '엔진출력', '배기량', '법정동코드', '시도명', '시군구명', '소유자구분', '말소여부',\n",
       "       '배인번호_수정', '등급_수정', 'DPF유무_수정', 'Grade', '시군구명_수정', '1일평균주행거리',\n",
       "       '조기폐차최종승인YN', '저감장치', '장치일련번호', '연간주행거리', '최신경과기간', '주행거리', '검사일자',\n",
       "       '검사방법', '검사종류', '검사판정', '무부하매연판정1', '무부하매연판정2', '무부하매연판정3', '무부하매연측정치1',\n",
       "       '무부하매연측정치2', '무부하매연측정치3', '비상시및계절제단속발령건수', '비상시및계절제단속발령YN',\n",
       "       '운행제한단속정보건수', '운행제한단속정보YN', '계절제1차단속YN', '계절제2차단속YN', '계절제3차단속YN',\n",
       "       '비상시단속YN', '연간배출량', '연간환경이익', '환경이익', '지원비용', '경제적타당성'],\n",
       "      dtype='object')"
      ]
     },
     "execution_count": 260,
     "metadata": {},
     "output_type": "execute_result"
    }
   ],
   "source": [
    "gm4d.columns"
   ]
  },
  {
   "cell_type": "code",
   "execution_count": 261,
   "metadata": {},
   "outputs": [
    {
     "data": {
      "text/plain": [
       "0   472.00000\n",
       "1   410.00000\n",
       "2   510.00000\n",
       "3   325.00000\n",
       "4   415.00000\n",
       "Name: 최신경과기간, dtype: float64"
      ]
     },
     "execution_count": 261,
     "metadata": {},
     "output_type": "execute_result"
    }
   ],
   "source": [
    "gm4d['최신경과기간'].head()"
   ]
  },
  {
   "cell_type": "code",
   "execution_count": 262,
   "metadata": {},
   "outputs": [
    {
     "data": {
      "text/plain": [
       "(952136,)"
      ]
     },
     "execution_count": 262,
     "metadata": {},
     "output_type": "execute_result"
    }
   ],
   "source": [
    "gm4d.loc[gm4d['최신경과기간'] < 365*2, '최신경과기간'].shape"
   ]
  },
  {
   "cell_type": "code",
   "execution_count": 263,
   "metadata": {},
   "outputs": [
    {
     "data": {
      "text/plain": [
       "Index(['차대번호', '차량번호', '제원관리번호', '차종', '용도', '최초등록일', '연식', '제작일자', '검사유효일',\n",
       "       '배출가스인증번호', '등급', '차명', '차종분류', '차종유형', '자동차형식', '제작사명', '연료', '엔진형식',\n",
       "       '총중량', '적재중량', '엔진출력', '배기량', '법정동코드', '시도명', '시군구명', '소유자구분', '말소여부',\n",
       "       '배인번호_수정', '등급_수정', 'DPF유무_수정', 'Grade', '시군구명_수정', '1일평균주행거리',\n",
       "       '조기폐차최종승인YN', '저감장치', '장치일련번호', '연간주행거리', '최신경과기간', '주행거리', '검사일자',\n",
       "       '검사방법', '검사종류', '검사판정', '무부하매연판정1', '무부하매연판정2', '무부하매연판정3', '무부하매연측정치1',\n",
       "       '무부하매연측정치2', '무부하매연측정치3', '비상시및계절제단속발령건수', '비상시및계절제단속발령YN',\n",
       "       '운행제한단속정보건수', '운행제한단속정보YN', '계절제1차단속YN', '계절제2차단속YN', '계절제3차단속YN',\n",
       "       '비상시단속YN', '연간배출량', '연간환경이익', '환경이익', '지원비용', '경제적타당성'],\n",
       "      dtype='object')"
      ]
     },
     "execution_count": 263,
     "metadata": {},
     "output_type": "execute_result"
    }
   ],
   "source": [
    "gm4d.columns"
   ]
  },
  {
   "attachments": {},
   "cell_type": "markdown",
   "metadata": {},
   "source": [
    "### 4등급 경유 지역별 경제적 타당성 평가 1점이상 차량"
   ]
  },
  {
   "cell_type": "code",
   "execution_count": 264,
   "metadata": {},
   "outputs": [
    {
     "data": {
      "text/html": [
       "<div>\n",
       "<style scoped>\n",
       "    .dataframe tbody tr th:only-of-type {\n",
       "        vertical-align: middle;\n",
       "    }\n",
       "\n",
       "    .dataframe tbody tr th {\n",
       "        vertical-align: top;\n",
       "    }\n",
       "\n",
       "    .dataframe thead th {\n",
       "        text-align: right;\n",
       "    }\n",
       "</style>\n",
       "<table border=\"1\" class=\"dataframe\">\n",
       "  <thead>\n",
       "    <tr style=\"text-align: right;\">\n",
       "      <th></th>\n",
       "      <th>시도명</th>\n",
       "      <th>차대번호</th>\n",
       "    </tr>\n",
       "  </thead>\n",
       "  <tbody>\n",
       "    <tr>\n",
       "      <th>0</th>\n",
       "      <td>강원도</td>\n",
       "      <td>60</td>\n",
       "    </tr>\n",
       "    <tr>\n",
       "      <th>1</th>\n",
       "      <td>경기도</td>\n",
       "      <td>3718</td>\n",
       "    </tr>\n",
       "    <tr>\n",
       "      <th>2</th>\n",
       "      <td>경상남도</td>\n",
       "      <td>693</td>\n",
       "    </tr>\n",
       "    <tr>\n",
       "      <th>3</th>\n",
       "      <td>경상북도</td>\n",
       "      <td>537</td>\n",
       "    </tr>\n",
       "    <tr>\n",
       "      <th>4</th>\n",
       "      <td>광주광역시</td>\n",
       "      <td>285</td>\n",
       "    </tr>\n",
       "    <tr>\n",
       "      <th>5</th>\n",
       "      <td>대구광역시</td>\n",
       "      <td>347</td>\n",
       "    </tr>\n",
       "    <tr>\n",
       "      <th>6</th>\n",
       "      <td>대전광역시</td>\n",
       "      <td>542</td>\n",
       "    </tr>\n",
       "    <tr>\n",
       "      <th>7</th>\n",
       "      <td>부산광역시</td>\n",
       "      <td>300</td>\n",
       "    </tr>\n",
       "    <tr>\n",
       "      <th>8</th>\n",
       "      <td>서울특별시</td>\n",
       "      <td>1746</td>\n",
       "    </tr>\n",
       "    <tr>\n",
       "      <th>9</th>\n",
       "      <td>세종특별자치시</td>\n",
       "      <td>146</td>\n",
       "    </tr>\n",
       "    <tr>\n",
       "      <th>10</th>\n",
       "      <td>울산광역시</td>\n",
       "      <td>278</td>\n",
       "    </tr>\n",
       "    <tr>\n",
       "      <th>11</th>\n",
       "      <td>인천광역시</td>\n",
       "      <td>736</td>\n",
       "    </tr>\n",
       "    <tr>\n",
       "      <th>12</th>\n",
       "      <td>전라남도</td>\n",
       "      <td>350</td>\n",
       "    </tr>\n",
       "    <tr>\n",
       "      <th>13</th>\n",
       "      <td>전라북도</td>\n",
       "      <td>410</td>\n",
       "    </tr>\n",
       "    <tr>\n",
       "      <th>14</th>\n",
       "      <td>제주특별자치도</td>\n",
       "      <td>30</td>\n",
       "    </tr>\n",
       "    <tr>\n",
       "      <th>15</th>\n",
       "      <td>충청남도</td>\n",
       "      <td>1002</td>\n",
       "    </tr>\n",
       "    <tr>\n",
       "      <th>16</th>\n",
       "      <td>충청북도</td>\n",
       "      <td>617</td>\n",
       "    </tr>\n",
       "  </tbody>\n",
       "</table>\n",
       "</div>"
      ],
      "text/plain": [
       "        시도명  차대번호\n",
       "0       강원도    60\n",
       "1       경기도  3718\n",
       "2      경상남도   693\n",
       "3      경상북도   537\n",
       "4     광주광역시   285\n",
       "5     대구광역시   347\n",
       "6     대전광역시   542\n",
       "7     부산광역시   300\n",
       "8     서울특별시  1746\n",
       "9   세종특별자치시   146\n",
       "10    울산광역시   278\n",
       "11    인천광역시   736\n",
       "12     전라남도   350\n",
       "13     전라북도   410\n",
       "14  제주특별자치도    30\n",
       "15     충청남도  1002\n",
       "16     충청북도   617"
      ]
     },
     "execution_count": 264,
     "metadata": {},
     "output_type": "execute_result"
    }
   ],
   "source": [
    "gm4d.loc[gm4d['경제적타당성'] >= 1].groupby('시도명')['차대번호'].count().reset_index()"
   ]
  },
  {
   "cell_type": "code",
   "execution_count": 265,
   "metadata": {},
   "outputs": [],
   "source": [
    "# gm4d.loc[gm4d['경제적타당성'] >= 1].groupby('시도명')['차대번호'].count().reset_index().to_excel(os.path.join(analysis_fold, '통계_4등급_경유_지역별_경제적타당성1점이상_차량현황.xlsx'), index=False)"
   ]
  },
  {
   "attachments": {},
   "cell_type": "markdown",
   "metadata": {},
   "source": [
    "### 4등급 경유 지역별 최신검사 경과기간 3년이상 차량"
   ]
  },
  {
   "cell_type": "code",
   "execution_count": 266,
   "metadata": {},
   "outputs": [
    {
     "data": {
      "text/html": [
       "<div>\n",
       "<style scoped>\n",
       "    .dataframe tbody tr th:only-of-type {\n",
       "        vertical-align: middle;\n",
       "    }\n",
       "\n",
       "    .dataframe tbody tr th {\n",
       "        vertical-align: top;\n",
       "    }\n",
       "\n",
       "    .dataframe thead th {\n",
       "        text-align: right;\n",
       "    }\n",
       "</style>\n",
       "<table border=\"1\" class=\"dataframe\">\n",
       "  <thead>\n",
       "    <tr style=\"text-align: right;\">\n",
       "      <th></th>\n",
       "      <th>시도명</th>\n",
       "      <th>차대번호</th>\n",
       "    </tr>\n",
       "  </thead>\n",
       "  <tbody>\n",
       "    <tr>\n",
       "      <th>0</th>\n",
       "      <td>강원도</td>\n",
       "      <td>77</td>\n",
       "    </tr>\n",
       "    <tr>\n",
       "      <th>1</th>\n",
       "      <td>경기도</td>\n",
       "      <td>509</td>\n",
       "    </tr>\n",
       "    <tr>\n",
       "      <th>2</th>\n",
       "      <td>경상남도</td>\n",
       "      <td>157</td>\n",
       "    </tr>\n",
       "    <tr>\n",
       "      <th>3</th>\n",
       "      <td>경상북도</td>\n",
       "      <td>195</td>\n",
       "    </tr>\n",
       "    <tr>\n",
       "      <th>4</th>\n",
       "      <td>광주광역시</td>\n",
       "      <td>78</td>\n",
       "    </tr>\n",
       "    <tr>\n",
       "      <th>5</th>\n",
       "      <td>대구광역시</td>\n",
       "      <td>67</td>\n",
       "    </tr>\n",
       "    <tr>\n",
       "      <th>6</th>\n",
       "      <td>대전광역시</td>\n",
       "      <td>47</td>\n",
       "    </tr>\n",
       "    <tr>\n",
       "      <th>7</th>\n",
       "      <td>부산광역시</td>\n",
       "      <td>70</td>\n",
       "    </tr>\n",
       "    <tr>\n",
       "      <th>8</th>\n",
       "      <td>서울특별시</td>\n",
       "      <td>144</td>\n",
       "    </tr>\n",
       "    <tr>\n",
       "      <th>9</th>\n",
       "      <td>세종특별자치시</td>\n",
       "      <td>12</td>\n",
       "    </tr>\n",
       "    <tr>\n",
       "      <th>10</th>\n",
       "      <td>울산광역시</td>\n",
       "      <td>28</td>\n",
       "    </tr>\n",
       "    <tr>\n",
       "      <th>11</th>\n",
       "      <td>인천광역시</td>\n",
       "      <td>81</td>\n",
       "    </tr>\n",
       "    <tr>\n",
       "      <th>12</th>\n",
       "      <td>전라남도</td>\n",
       "      <td>148</td>\n",
       "    </tr>\n",
       "    <tr>\n",
       "      <th>13</th>\n",
       "      <td>전라북도</td>\n",
       "      <td>146</td>\n",
       "    </tr>\n",
       "    <tr>\n",
       "      <th>14</th>\n",
       "      <td>제주특별자치도</td>\n",
       "      <td>54</td>\n",
       "    </tr>\n",
       "    <tr>\n",
       "      <th>15</th>\n",
       "      <td>충청남도</td>\n",
       "      <td>213</td>\n",
       "    </tr>\n",
       "    <tr>\n",
       "      <th>16</th>\n",
       "      <td>충청북도</td>\n",
       "      <td>113</td>\n",
       "    </tr>\n",
       "  </tbody>\n",
       "</table>\n",
       "</div>"
      ],
      "text/plain": [
       "        시도명  차대번호\n",
       "0       강원도    77\n",
       "1       경기도   509\n",
       "2      경상남도   157\n",
       "3      경상북도   195\n",
       "4     광주광역시    78\n",
       "5     대구광역시    67\n",
       "6     대전광역시    47\n",
       "7     부산광역시    70\n",
       "8     서울특별시   144\n",
       "9   세종특별자치시    12\n",
       "10    울산광역시    28\n",
       "11    인천광역시    81\n",
       "12     전라남도   148\n",
       "13     전라북도   146\n",
       "14  제주특별자치도    54\n",
       "15     충청남도   213\n",
       "16     충청북도   113"
      ]
     },
     "execution_count": 266,
     "metadata": {},
     "output_type": "execute_result"
    }
   ],
   "source": [
    "gm4d.loc[gm4d['최신경과기간'] >= 365*3].groupby('시도명')['차대번호'].count().reset_index()"
   ]
  },
  {
   "cell_type": "code",
   "execution_count": 267,
   "metadata": {},
   "outputs": [],
   "source": [
    "# gm4d.loc[gm4d['최신경과기간'] >= 365*3].groupby('시도명')['차대번호'].count().reset_index().to_excel(os.path.join(analysis_fold, '통계_4등급_경유_지역별_최신검사경과기간3년이상_차량현황.xlsx'), index=False)"
   ]
  },
  {
   "attachments": {},
   "cell_type": "markdown",
   "metadata": {},
   "source": [
    "### 4등급 경유차 지역별 운행제한 현황"
   ]
  },
  {
   "cell_type": "code",
   "execution_count": 268,
   "metadata": {},
   "outputs": [
    {
     "data": {
      "text/html": [
       "<div>\n",
       "<style scoped>\n",
       "    .dataframe tbody tr th:only-of-type {\n",
       "        vertical-align: middle;\n",
       "    }\n",
       "\n",
       "    .dataframe tbody tr th {\n",
       "        vertical-align: top;\n",
       "    }\n",
       "\n",
       "    .dataframe thead th {\n",
       "        text-align: right;\n",
       "    }\n",
       "</style>\n",
       "<table border=\"1\" class=\"dataframe\">\n",
       "  <thead>\n",
       "    <tr style=\"text-align: right;\">\n",
       "      <th></th>\n",
       "      <th>시도명</th>\n",
       "      <th>차대번호</th>\n",
       "    </tr>\n",
       "  </thead>\n",
       "  <tbody>\n",
       "    <tr>\n",
       "      <th>0</th>\n",
       "      <td>강원도</td>\n",
       "      <td>4</td>\n",
       "    </tr>\n",
       "    <tr>\n",
       "      <th>1</th>\n",
       "      <td>경기도</td>\n",
       "      <td>61</td>\n",
       "    </tr>\n",
       "    <tr>\n",
       "      <th>2</th>\n",
       "      <td>경상남도</td>\n",
       "      <td>3</td>\n",
       "    </tr>\n",
       "    <tr>\n",
       "      <th>3</th>\n",
       "      <td>경상북도</td>\n",
       "      <td>3</td>\n",
       "    </tr>\n",
       "    <tr>\n",
       "      <th>4</th>\n",
       "      <td>광주광역시</td>\n",
       "      <td>2</td>\n",
       "    </tr>\n",
       "    <tr>\n",
       "      <th>5</th>\n",
       "      <td>대구광역시</td>\n",
       "      <td>4</td>\n",
       "    </tr>\n",
       "    <tr>\n",
       "      <th>6</th>\n",
       "      <td>부산광역시</td>\n",
       "      <td>2</td>\n",
       "    </tr>\n",
       "    <tr>\n",
       "      <th>7</th>\n",
       "      <td>서울특별시</td>\n",
       "      <td>34</td>\n",
       "    </tr>\n",
       "    <tr>\n",
       "      <th>8</th>\n",
       "      <td>울산광역시</td>\n",
       "      <td>1</td>\n",
       "    </tr>\n",
       "    <tr>\n",
       "      <th>9</th>\n",
       "      <td>인천광역시</td>\n",
       "      <td>11</td>\n",
       "    </tr>\n",
       "    <tr>\n",
       "      <th>10</th>\n",
       "      <td>전라남도</td>\n",
       "      <td>3</td>\n",
       "    </tr>\n",
       "    <tr>\n",
       "      <th>11</th>\n",
       "      <td>전라북도</td>\n",
       "      <td>3</td>\n",
       "    </tr>\n",
       "    <tr>\n",
       "      <th>12</th>\n",
       "      <td>충청남도</td>\n",
       "      <td>3</td>\n",
       "    </tr>\n",
       "    <tr>\n",
       "      <th>13</th>\n",
       "      <td>충청북도</td>\n",
       "      <td>4</td>\n",
       "    </tr>\n",
       "  </tbody>\n",
       "</table>\n",
       "</div>"
      ],
      "text/plain": [
       "      시도명  차대번호\n",
       "0     강원도     4\n",
       "1     경기도    61\n",
       "2    경상남도     3\n",
       "3    경상북도     3\n",
       "4   광주광역시     2\n",
       "5   대구광역시     4\n",
       "6   부산광역시     2\n",
       "7   서울특별시    34\n",
       "8   울산광역시     1\n",
       "9   인천광역시    11\n",
       "10   전라남도     3\n",
       "11   전라북도     3\n",
       "12   충청남도     3\n",
       "13   충청북도     4"
      ]
     },
     "execution_count": 268,
     "metadata": {},
     "output_type": "execute_result"
    }
   ],
   "source": [
    "gm4d.loc[gm4d['운행제한단속정보YN'] == 'Y'].groupby('시도명')['차대번호'].count().reset_index()"
   ]
  },
  {
   "cell_type": "code",
   "execution_count": 269,
   "metadata": {},
   "outputs": [],
   "source": [
    "# gm4d.loc[gm4d['운행제한단속정보YN'] == 'Y'].groupby('시도명')['차대번호'].count().reset_index().to_excel(os.path.join(analysis_fold, '통계_4등급_경유_지역별_운행제한_차량현황.xlsx'), index=False)"
   ]
  },
  {
   "attachments": {},
   "cell_type": "markdown",
   "metadata": {},
   "source": [
    "### 4등급 경유차 지역별 우선차량 선별 샘플"
   ]
  },
  {
   "cell_type": "code",
   "execution_count": 270,
   "metadata": {},
   "outputs": [
    {
     "data": {
      "text/html": [
       "<div>\n",
       "<style scoped>\n",
       "    .dataframe tbody tr th:only-of-type {\n",
       "        vertical-align: middle;\n",
       "    }\n",
       "\n",
       "    .dataframe tbody tr th {\n",
       "        vertical-align: top;\n",
       "    }\n",
       "\n",
       "    .dataframe thead th {\n",
       "        text-align: right;\n",
       "    }\n",
       "</style>\n",
       "<table border=\"1\" class=\"dataframe\">\n",
       "  <thead>\n",
       "    <tr style=\"text-align: right;\">\n",
       "      <th></th>\n",
       "      <th>시도명</th>\n",
       "      <th>차대번호</th>\n",
       "    </tr>\n",
       "  </thead>\n",
       "  <tbody>\n",
       "    <tr>\n",
       "      <th>0</th>\n",
       "      <td>충청북도</td>\n",
       "      <td>1</td>\n",
       "    </tr>\n",
       "  </tbody>\n",
       "</table>\n",
       "</div>"
      ],
      "text/plain": [
       "    시도명  차대번호\n",
       "0  충청북도     1"
      ]
     },
     "execution_count": 270,
     "metadata": {},
     "output_type": "execute_result"
    }
   ],
   "source": [
    "# gm4d.loc[(gm4d['경제적타당성'] >= 1) & (gm4d['최신경과기간'] >= 365*3) & (gm4d['운행제한단속정보YN'] == 'Y')].groupby('시도명')['차대번호'].count().reset_index()\n",
    "gm4d.loc[(gm4d['최신경과기간'] >= 365*3) & (gm4d['운행제한단속정보YN'] == 'Y')].groupby('시도명')['차대번호'].count().reset_index()"
   ]
  },
  {
   "cell_type": "code",
   "execution_count": 271,
   "metadata": {},
   "outputs": [],
   "source": [
    "# gm4d.loc[(gm4d['경제적타당성'] >= 1) & (gm4d['최신경과기간'] >= 365*3) & (gm4d['운행제한단속정보YN'] == 'Y')].groupby('시도명')['차대번호'].count().reset_index().to_excel(os.path.join(analysis_fold, '샘플_4등급경유차_우선차량선별(1, 3, Y).xlsx'), index=False)"
   ]
  },
  {
   "attachments": {},
   "cell_type": "markdown",
   "metadata": {},
   "source": [
    "### 검사 수검율"
   ]
  },
  {
   "cell_type": "code",
   "execution_count": 334,
   "metadata": {},
   "outputs": [
    {
     "data": {
      "text/plain": [
       "314292"
      ]
     },
     "execution_count": 334,
     "metadata": {},
     "output_type": "execute_result"
    }
   ],
   "source": [
    "gm4['검사일자'].isnull().sum()"
   ]
  },
  {
   "cell_type": "code",
   "execution_count": 335,
   "metadata": {},
   "outputs": [
    {
     "data": {
      "text/plain": [
       "count    1187943.00000\n",
       "mean    20216893.35524\n",
       "std         5937.63447\n",
       "min     20190102.00000\n",
       "25%     20211022.00000\n",
       "50%     20220324.00000\n",
       "75%     20220727.00000\n",
       "max     20230107.00000\n",
       "Name: 검사일자, dtype: float64"
      ]
     },
     "execution_count": 335,
     "metadata": {},
     "output_type": "execute_result"
    }
   ],
   "source": [
    "gm4['검사일자'].describe()"
   ]
  },
  {
   "cell_type": "code",
   "execution_count": 336,
   "metadata": {},
   "outputs": [
    {
     "data": {
      "text/plain": [
       "((1502235, 57), 1502213)"
      ]
     },
     "execution_count": 336,
     "metadata": {},
     "output_type": "execute_result"
    }
   ],
   "source": [
    "gm4.shape, len(gm4['차대번호'].unique())"
   ]
  },
  {
   "cell_type": "code",
   "execution_count": 337,
   "metadata": {},
   "outputs": [
    {
     "data": {
      "text/plain": [
       "(1139516,)"
      ]
     },
     "execution_count": 337,
     "metadata": {},
     "output_type": "execute_result"
    }
   ],
   "source": [
    "gm4.loc[gm4['검사일자'] >= 20210101, '차대번호'].shape"
   ]
  },
  {
   "cell_type": "code",
   "execution_count": 338,
   "metadata": {},
   "outputs": [
    {
     "data": {
      "text/plain": [
       "(48427,)"
      ]
     },
     "execution_count": 338,
     "metadata": {},
     "output_type": "execute_result"
    }
   ],
   "source": [
    "gm4.loc[(gm4['검사일자'] < 20210101) & (gm4['검사일자'] >= 20180101), '차대번호'].shape"
   ]
  },
  {
   "cell_type": "code",
   "execution_count": 339,
   "metadata": {},
   "outputs": [
    {
     "data": {
      "text/plain": [
       "(0,)"
      ]
     },
     "execution_count": 339,
     "metadata": {},
     "output_type": "execute_result"
    }
   ],
   "source": [
    "gm4.loc[(gm4['검사일자'] < 20180101) & (gm4['검사일자'] >= 20130101), '차대번호'].shape"
   ]
  },
  {
   "cell_type": "code",
   "execution_count": 340,
   "metadata": {},
   "outputs": [
    {
     "data": {
      "text/plain": [
       "(0,)"
      ]
     },
     "execution_count": 340,
     "metadata": {},
     "output_type": "execute_result"
    }
   ],
   "source": [
    "gm4.loc[gm4['검사일자'] < 20130101, '차대번호'].shape"
   ]
  },
  {
   "cell_type": "code",
   "execution_count": 341,
   "metadata": {},
   "outputs": [],
   "source": [
    "gm4.loc[gm4['검사일자'] >= 20210101, '수검일자구분'] = 'div1'\n",
    "gm4.loc[(gm4['검사일자'] < 20210101) & (gm4['검사일자'] >= 20180101), '수검일자구분'] = 'div2'\n",
    "gm4.loc[(gm4['검사일자'] < 20180101) & (gm4['검사일자'] >= 20130101), '수검일자구분'] = 'div3'\n",
    "gm4.loc[gm4['검사일자'] < 20130101, '수검일자구분'] = 'div4'"
   ]
  },
  {
   "cell_type": "code",
   "execution_count": 342,
   "metadata": {},
   "outputs": [
    {
     "data": {
      "text/html": [
       "<div>\n",
       "<style scoped>\n",
       "    .dataframe tbody tr th:only-of-type {\n",
       "        vertical-align: middle;\n",
       "    }\n",
       "\n",
       "    .dataframe tbody tr th {\n",
       "        vertical-align: top;\n",
       "    }\n",
       "\n",
       "    .dataframe thead th {\n",
       "        text-align: right;\n",
       "    }\n",
       "</style>\n",
       "<table border=\"1\" class=\"dataframe\">\n",
       "  <thead>\n",
       "    <tr style=\"text-align: right;\">\n",
       "      <th>연료</th>\n",
       "      <th>CNG(압축천연가스)</th>\n",
       "      <th>LPG(액화석유가스)</th>\n",
       "      <th>경유</th>\n",
       "      <th>기타연료</th>\n",
       "      <th>알코올</th>\n",
       "      <th>휘발유</th>\n",
       "    </tr>\n",
       "    <tr>\n",
       "      <th>수검일자구분</th>\n",
       "      <th></th>\n",
       "      <th></th>\n",
       "      <th></th>\n",
       "      <th></th>\n",
       "      <th></th>\n",
       "      <th></th>\n",
       "    </tr>\n",
       "  </thead>\n",
       "  <tbody>\n",
       "    <tr>\n",
       "      <th>div1</th>\n",
       "      <td>1.00000</td>\n",
       "      <td>3755.00000</td>\n",
       "      <td>1087019.00000</td>\n",
       "      <td>1.00000</td>\n",
       "      <td>1.00000</td>\n",
       "      <td>48739.00000</td>\n",
       "    </tr>\n",
       "    <tr>\n",
       "      <th>div2</th>\n",
       "      <td>NaN</td>\n",
       "      <td>146.00000</td>\n",
       "      <td>44157.00000</td>\n",
       "      <td>NaN</td>\n",
       "      <td>NaN</td>\n",
       "      <td>4124.00000</td>\n",
       "    </tr>\n",
       "    <tr>\n",
       "      <th>NaN</th>\n",
       "      <td>NaN</td>\n",
       "      <td>21499.00000</td>\n",
       "      <td>22637.00000</td>\n",
       "      <td>NaN</td>\n",
       "      <td>NaN</td>\n",
       "      <td>270156.00000</td>\n",
       "    </tr>\n",
       "  </tbody>\n",
       "</table>\n",
       "</div>"
      ],
      "text/plain": [
       "연료      CNG(압축천연가스)  LPG(액화석유가스)            경유    기타연료     알코올          휘발유\n",
       "수검일자구분                                                                     \n",
       "div1        1.00000   3755.00000 1087019.00000 1.00000 1.00000  48739.00000\n",
       "div2            NaN    146.00000   44157.00000     NaN     NaN   4124.00000\n",
       "NaN             NaN  21499.00000   22637.00000     NaN     NaN 270156.00000"
      ]
     },
     "execution_count": 342,
     "metadata": {},
     "output_type": "execute_result"
    }
   ],
   "source": [
    "num_of_inscar = gm4.groupby(['수검일자구분', '연료'], dropna=False)['차대번호'].count().unstack()\n",
    "num_of_inscar"
   ]
  },
  {
   "cell_type": "code",
   "execution_count": 343,
   "metadata": {},
   "outputs": [
    {
     "data": {
      "text/plain": [
       "Index(['CNG(압축천연가스)', 'LPG(액화석유가스)', '경유', '기타연료', '알코올', '휘발유'], dtype='object', name='연료')"
      ]
     },
     "execution_count": 343,
     "metadata": {},
     "output_type": "execute_result"
    }
   ],
   "source": [
    "num_of_inscar.columns"
   ]
  },
  {
   "cell_type": "code",
   "execution_count": 344,
   "metadata": {},
   "outputs": [
    {
     "data": {
      "text/html": [
       "<div>\n",
       "<style scoped>\n",
       "    .dataframe tbody tr th:only-of-type {\n",
       "        vertical-align: middle;\n",
       "    }\n",
       "\n",
       "    .dataframe tbody tr th {\n",
       "        vertical-align: top;\n",
       "    }\n",
       "\n",
       "    .dataframe thead th {\n",
       "        text-align: right;\n",
       "    }\n",
       "</style>\n",
       "<table border=\"1\" class=\"dataframe\">\n",
       "  <thead>\n",
       "    <tr style=\"text-align: right;\">\n",
       "      <th></th>\n",
       "      <th>수검일자구분</th>\n",
       "      <th>경유</th>\n",
       "    </tr>\n",
       "  </thead>\n",
       "  <tbody>\n",
       "    <tr>\n",
       "      <th>0</th>\n",
       "      <td>div1</td>\n",
       "      <td>1087019.00000</td>\n",
       "    </tr>\n",
       "    <tr>\n",
       "      <th>1</th>\n",
       "      <td>div2</td>\n",
       "      <td>44157.00000</td>\n",
       "    </tr>\n",
       "    <tr>\n",
       "      <th>2</th>\n",
       "      <td>NaN</td>\n",
       "      <td>22637.00000</td>\n",
       "    </tr>\n",
       "  </tbody>\n",
       "</table>\n",
       "</div>"
      ],
      "text/plain": [
       "  수검일자구분            경유\n",
       "0   div1 1087019.00000\n",
       "1   div2   44157.00000\n",
       "2    NaN   22637.00000"
      ]
     },
     "execution_count": 344,
     "metadata": {},
     "output_type": "execute_result"
    }
   ],
   "source": [
    "num_of_inscar['경유'].reset_index()"
   ]
  },
  {
   "cell_type": "code",
   "execution_count": 345,
   "metadata": {},
   "outputs": [],
   "source": [
    "text_list = ['전체차량대수', '최근 2년 정기/정밀검사 수검차량(2021.01. ~ 2022.12.)', '2~5년 이내 정기/정밀검사 수검차량(2018.01. ~ 2020.12.)', '5~10년 이내 정기/정밀검사 수검차량(2013.01. ~ 2017.12.)', '10년 이전 정기/정밀검사 수검차량( ~ 2012.12.)', '검사기록이 없는 차량', '정기/정밀검사 수검차량 비율', '정기/정밀검사 미수검차량 비율']\n",
    "fuel_dict = {'구분':text_list}\n",
    "for fuel in num_of_inscar.columns:\n",
    "    temp = num_of_inscar[fuel].reset_index()\n",
    "    num_list = [np.nan] * len(text_list)\n",
    "    for one in temp['수검일자구분']:\n",
    "        if one == 'div1':\n",
    "            num_list[1] = temp.loc[temp['수검일자구분'] == one, fuel].values[0]\n",
    "        elif one == 'div2':\n",
    "            num_list[2] = temp.loc[temp['수검일자구분'] == one, fuel].values[0]\n",
    "        elif one == 'div3':\n",
    "            num_list[3] = temp.loc[temp['수검일자구분'] == one, fuel].values[0]\n",
    "        elif one == 'div4':\n",
    "            num_list[4] = temp.loc[temp['수검일자구분'] == one, fuel].values[0]\n",
    "        else:\n",
    "            num_list[5] = temp.loc[temp['수검일자구분'].isnull() == True, fuel].values[0]\n",
    "\n",
    "    num_list[0] = np.nansum(num_list)\n",
    "    num_list[6] = num_list[1] / num_list[0] * 100\n",
    "    num_list[7] = 100 - num_list[6]\n",
    "    fuel_dict[fuel] = num_list"
   ]
  },
  {
   "cell_type": "code",
   "execution_count": 346,
   "metadata": {},
   "outputs": [
    {
     "data": {
      "text/plain": [
       "{'구분': ['전체차량대수',\n",
       "  '최근 2년 정기/정밀검사 수검차량(2021.01. ~ 2022.12.)',\n",
       "  '2~5년 이내 정기/정밀검사 수검차량(2018.01. ~ 2020.12.)',\n",
       "  '5~10년 이내 정기/정밀검사 수검차량(2013.01. ~ 2017.12.)',\n",
       "  '10년 이전 정기/정밀검사 수검차량( ~ 2012.12.)',\n",
       "  '검사기록이 없는 차량',\n",
       "  '정기/정밀검사 수검차량 비율',\n",
       "  '정기/정밀검사 미수검차량 비율'],\n",
       " 'CNG(압축천연가스)': [1.0, 1.0, nan, nan, nan, nan, 100.0, 0.0],\n",
       " 'LPG(액화석유가스)': [25400.0,\n",
       "  3755.0,\n",
       "  146.0,\n",
       "  nan,\n",
       "  nan,\n",
       "  21499.0,\n",
       "  14.783464566929133,\n",
       "  85.21653543307087],\n",
       " '경유': [1153813.0,\n",
       "  1087019.0,\n",
       "  44157.0,\n",
       "  nan,\n",
       "  nan,\n",
       "  22637.0,\n",
       "  94.21102032998415,\n",
       "  5.7889796700158485],\n",
       " '기타연료': [1.0, 1.0, nan, nan, nan, nan, 100.0, 0.0],\n",
       " '알코올': [1.0, 1.0, nan, nan, nan, nan, 100.0, 0.0],\n",
       " '휘발유': [323019.0,\n",
       "  48739.0,\n",
       "  4124.0,\n",
       "  nan,\n",
       "  nan,\n",
       "  270156.0,\n",
       "  15.088586120321096,\n",
       "  84.9114138796789]}"
      ]
     },
     "execution_count": 346,
     "metadata": {},
     "output_type": "execute_result"
    }
   ],
   "source": [
    "fuel_dict"
   ]
  },
  {
   "cell_type": "code",
   "execution_count": 347,
   "metadata": {},
   "outputs": [
    {
     "data": {
      "text/plain": [
       "(1502235, 58)"
      ]
     },
     "execution_count": 347,
     "metadata": {},
     "output_type": "execute_result"
    }
   ],
   "source": [
    "gm4.shape"
   ]
  },
  {
   "cell_type": "code",
   "execution_count": 348,
   "metadata": {},
   "outputs": [
    {
     "data": {
      "text/html": [
       "<div>\n",
       "<style scoped>\n",
       "    .dataframe tbody tr th:only-of-type {\n",
       "        vertical-align: middle;\n",
       "    }\n",
       "\n",
       "    .dataframe tbody tr th {\n",
       "        vertical-align: top;\n",
       "    }\n",
       "\n",
       "    .dataframe thead th {\n",
       "        text-align: right;\n",
       "    }\n",
       "</style>\n",
       "<table border=\"1\" class=\"dataframe\">\n",
       "  <thead>\n",
       "    <tr style=\"text-align: right;\">\n",
       "      <th></th>\n",
       "      <th>구분</th>\n",
       "      <th>CNG(압축천연가스)</th>\n",
       "      <th>LPG(액화석유가스)</th>\n",
       "      <th>경유</th>\n",
       "      <th>기타연료</th>\n",
       "      <th>알코올</th>\n",
       "      <th>휘발유</th>\n",
       "    </tr>\n",
       "  </thead>\n",
       "  <tbody>\n",
       "    <tr>\n",
       "      <th>0</th>\n",
       "      <td>전체차량대수</td>\n",
       "      <td>1.00000</td>\n",
       "      <td>25400.00000</td>\n",
       "      <td>1153813.00000</td>\n",
       "      <td>1.00000</td>\n",
       "      <td>1.00000</td>\n",
       "      <td>323019.00000</td>\n",
       "    </tr>\n",
       "    <tr>\n",
       "      <th>1</th>\n",
       "      <td>최근 2년 정기/정밀검사 수검차량(2021.01. ~ 2022.12.)</td>\n",
       "      <td>1.00000</td>\n",
       "      <td>3755.00000</td>\n",
       "      <td>1087019.00000</td>\n",
       "      <td>1.00000</td>\n",
       "      <td>1.00000</td>\n",
       "      <td>48739.00000</td>\n",
       "    </tr>\n",
       "    <tr>\n",
       "      <th>2</th>\n",
       "      <td>2~5년 이내 정기/정밀검사 수검차량(2018.01. ~ 2020.12.)</td>\n",
       "      <td>NaN</td>\n",
       "      <td>146.00000</td>\n",
       "      <td>44157.00000</td>\n",
       "      <td>NaN</td>\n",
       "      <td>NaN</td>\n",
       "      <td>4124.00000</td>\n",
       "    </tr>\n",
       "    <tr>\n",
       "      <th>3</th>\n",
       "      <td>5~10년 이내 정기/정밀검사 수검차량(2013.01. ~ 2017.12.)</td>\n",
       "      <td>NaN</td>\n",
       "      <td>NaN</td>\n",
       "      <td>NaN</td>\n",
       "      <td>NaN</td>\n",
       "      <td>NaN</td>\n",
       "      <td>NaN</td>\n",
       "    </tr>\n",
       "    <tr>\n",
       "      <th>4</th>\n",
       "      <td>10년 이전 정기/정밀검사 수검차량( ~ 2012.12.)</td>\n",
       "      <td>NaN</td>\n",
       "      <td>NaN</td>\n",
       "      <td>NaN</td>\n",
       "      <td>NaN</td>\n",
       "      <td>NaN</td>\n",
       "      <td>NaN</td>\n",
       "    </tr>\n",
       "    <tr>\n",
       "      <th>5</th>\n",
       "      <td>검사기록이 없는 차량</td>\n",
       "      <td>NaN</td>\n",
       "      <td>21499.00000</td>\n",
       "      <td>22637.00000</td>\n",
       "      <td>NaN</td>\n",
       "      <td>NaN</td>\n",
       "      <td>270156.00000</td>\n",
       "    </tr>\n",
       "    <tr>\n",
       "      <th>6</th>\n",
       "      <td>정기/정밀검사 수검차량 비율</td>\n",
       "      <td>100.00000</td>\n",
       "      <td>14.78346</td>\n",
       "      <td>94.21102</td>\n",
       "      <td>100.00000</td>\n",
       "      <td>100.00000</td>\n",
       "      <td>15.08859</td>\n",
       "    </tr>\n",
       "    <tr>\n",
       "      <th>7</th>\n",
       "      <td>정기/정밀검사 미수검차량 비율</td>\n",
       "      <td>0.00000</td>\n",
       "      <td>85.21654</td>\n",
       "      <td>5.78898</td>\n",
       "      <td>0.00000</td>\n",
       "      <td>0.00000</td>\n",
       "      <td>84.91141</td>\n",
       "    </tr>\n",
       "  </tbody>\n",
       "</table>\n",
       "</div>"
      ],
      "text/plain": [
       "                                           구분  CNG(압축천연가스)  LPG(액화석유가스)   \n",
       "0                                      전체차량대수      1.00000  25400.00000  \\\n",
       "1     최근 2년 정기/정밀검사 수검차량(2021.01. ~ 2022.12.)      1.00000   3755.00000   \n",
       "2   2~5년 이내 정기/정밀검사 수검차량(2018.01. ~ 2020.12.)          NaN    146.00000   \n",
       "3  5~10년 이내 정기/정밀검사 수검차량(2013.01. ~ 2017.12.)          NaN          NaN   \n",
       "4            10년 이전 정기/정밀검사 수검차량( ~ 2012.12.)          NaN          NaN   \n",
       "5                                 검사기록이 없는 차량          NaN  21499.00000   \n",
       "6                             정기/정밀검사 수검차량 비율    100.00000     14.78346   \n",
       "7                            정기/정밀검사 미수검차량 비율      0.00000     85.21654   \n",
       "\n",
       "             경유      기타연료       알코올          휘발유  \n",
       "0 1153813.00000   1.00000   1.00000 323019.00000  \n",
       "1 1087019.00000   1.00000   1.00000  48739.00000  \n",
       "2   44157.00000       NaN       NaN   4124.00000  \n",
       "3           NaN       NaN       NaN          NaN  \n",
       "4           NaN       NaN       NaN          NaN  \n",
       "5   22637.00000       NaN       NaN 270156.00000  \n",
       "6      94.21102 100.00000 100.00000     15.08859  \n",
       "7       5.78898   0.00000   0.00000     84.91141  "
      ]
     },
     "execution_count": 348,
     "metadata": {},
     "output_type": "execute_result"
    }
   ],
   "source": [
    "ins_chk4 = pd.DataFrame(fuel_dict)\n",
    "ins_chk4"
   ]
  },
  {
   "attachments": {},
   "cell_type": "markdown",
   "metadata": {},
   "source": [
    "#### 4등급 수검률 출력"
   ]
  },
  {
   "cell_type": "code",
   "execution_count": 349,
   "metadata": {},
   "outputs": [],
   "source": [
    "# # 수검율 출력\n",
    "# ins_chk4.to_excel(os.path.join(analysis_fold, f'통계_4등급_연료별_수검률.xlsx'), index=False)"
   ]
  },
  {
   "attachments": {},
   "cell_type": "markdown",
   "metadata": {},
   "source": [
    "#### 출력"
   ]
  },
  {
   "cell_type": "code",
   "execution_count": 350,
   "metadata": {},
   "outputs": [
    {
     "data": {
      "text/plain": [
       "'2023.06.08_PM.05.13.59'"
      ]
     },
     "execution_count": 350,
     "metadata": {},
     "output_type": "execute_result"
    }
   ],
   "source": [
    "today_date = datetime.today().strftime(\"%Y.%m.%d_%p.%I.%M.%S\")\n",
    "today_date"
   ]
  },
  {
   "attachments": {},
   "cell_type": "markdown",
   "metadata": {},
   "source": [
    "##### 보관용"
   ]
  },
  {
   "cell_type": "code",
   "execution_count": 351,
   "metadata": {},
   "outputs": [],
   "source": [
    "# # 출력 [보관용]4등급_경유차_경제적타당성평가_검사경과기간_운행제한이력 csv\n",
    "# # about 58.1s\n",
    "# name = '4등급_경유차_경제적타당성평가_검사경과기간_운행제한이력'\n",
    "# gm4d.to_csv(os.path.join(ods_fold, f'{name}.csv'), index=False, encoding='cp949')"
   ]
  },
  {
   "cell_type": "code",
   "execution_count": 352,
   "metadata": {},
   "outputs": [],
   "source": [
    "# f'{name}.csv'"
   ]
  },
  {
   "attachments": {},
   "cell_type": "markdown",
   "metadata": {},
   "source": [
    "##### 제출용"
   ]
  },
  {
   "cell_type": "code",
   "execution_count": 353,
   "metadata": {},
   "outputs": [
    {
     "data": {
      "text/plain": [
       "Index(['차대번호', '차량번호', '제원관리번호', '차종', '용도', '최초등록일', '연식', '제작일자', '검사유효일',\n",
       "       '배출가스인증번호', '등급', '차명', '차종분류', '차종유형', '자동차형식', '제작사명', '연료', '엔진형식',\n",
       "       '총중량', '적재중량', '엔진출력', '배기량', '법정동코드', '시도명', '시군구명', '소유자구분', '말소여부',\n",
       "       '배인번호_수정', '등급_수정', 'DPF유무_수정', 'Grade', '시군구명_수정', '1일평균주행거리',\n",
       "       '조기폐차최종승인YN', '저감장치', '장치일련번호', '연간주행거리', '최신경과기간', '주행거리', '검사일자',\n",
       "       '검사방법', '검사종류', '검사판정', '무부하매연판정1', '무부하매연판정2', '무부하매연판정3', '무부하매연측정치1',\n",
       "       '무부하매연측정치2', '무부하매연측정치3', '비상시및계절제단속발령건수', '비상시및계절제단속발령YN',\n",
       "       '운행제한단속정보건수', '운행제한단속정보YN', '계절제1차단속YN', '계절제2차단속YN', '계절제3차단속YN',\n",
       "       '비상시단속YN', '연간배출량', '연간환경이익', '환경이익', '지원비용', '경제적타당성'],\n",
       "      dtype='object')"
      ]
     },
     "execution_count": 353,
     "metadata": {},
     "output_type": "execute_result"
    }
   ],
   "source": [
    "gm4d.columns"
   ]
  },
  {
   "cell_type": "code",
   "execution_count": 354,
   "metadata": {},
   "outputs": [
    {
     "data": {
      "text/plain": [
       "array([4.])"
      ]
     },
     "execution_count": 354,
     "metadata": {},
     "output_type": "execute_result"
    }
   ],
   "source": [
    "gm4d['등급_수정'].unique()"
   ]
  },
  {
   "cell_type": "code",
   "execution_count": 355,
   "metadata": {},
   "outputs": [],
   "source": [
    "col = [\n",
    "        '차대번호', \n",
    "        '법정동코드', \n",
    "        '용도', \n",
    "        '연식',\n",
    "        '차종', \n",
    "        '차종유형', \n",
    "        '연료', \n",
    "        '저감장치',\n",
    "        '경제적타당성', \n",
    "        '최신경과기간', \n",
    "        '운행제한단속정보YN',\n",
    "        '배인번호_수정', \n",
    "        '등급_수정', \n",
    "        'DPF유무_수정',\n",
    "    ]\n",
    "df4 = gm4d[col]"
   ]
  },
  {
   "cell_type": "code",
   "execution_count": 356,
   "metadata": {},
   "outputs": [
    {
     "data": {
      "text/plain": [
       "(1149256, 14)"
      ]
     },
     "execution_count": 356,
     "metadata": {},
     "output_type": "execute_result"
    }
   ],
   "source": [
    "df4.shape"
   ]
  },
  {
   "cell_type": "code",
   "execution_count": 357,
   "metadata": {},
   "outputs": [],
   "source": [
    "chc_col = {\n",
    "    '차대번호':'VIN', \n",
    "    '차량번호':'VHRNO', \n",
    "    '제원관리번호':'MANG_MNG_NO', \n",
    "    '차종':'VHCTY_CD', \n",
    "    '용도':'PURPS_CD2', \n",
    "    '연식':'YRIDNW', \n",
    "    '제작일자':'FBCTN_YMD', \n",
    "    '차명':'VHCNM', \n",
    "    '차종유형':'VHCTY_TY', \n",
    "    '자동차형식':'CAR_FRM', \n",
    "    '연료':'FUEL_CD', \n",
    "    '엔진형식':'EGIN_TY',\n",
    "    '총중량':'TOTL_WGHT', \n",
    "    '배기량':'DSPLVL', \n",
    "    '법정동코드':'STDG_CD', \n",
    "    '시도명':'CTPV_NM', \n",
    "    '시군구명':'SGG_NM', \n",
    "    '말소여부':'ERSR_YN',\n",
    "    '배인번호_수정':'EXHST_GAS_CERT_NO_MOD', \n",
    "    '등급_수정':'EXHST_GAS_GRD_CD_MOD', \n",
    "    'DPF유무_수정':'DPF_MNTNG_YN', \n",
    "    '조기폐차최종승인YN':'ELPDSRC_LAST_APRV_YN', \n",
    "    '저감장치':'RDCDVC',\n",
    "    '최신경과기간':'RCNT_INSP_ELPSD_WHL', \n",
    "    '경제적타당성':'ECO_VLDT', \n",
    "    '운행제한단속정보YN':'RUN_LMT_CRDN_YN',\n",
    "}"
   ]
  },
  {
   "cell_type": "code",
   "execution_count": 358,
   "metadata": {},
   "outputs": [
    {
     "data": {
      "text/plain": [
       "Index(['VIN', 'STDG_CD', 'PURPS_CD2', 'YRIDNW', 'VHCTY_CD', 'VHCTY_TY',\n",
       "       'FUEL_CD', 'RDCDVC', 'ECO_VLDT', 'RCNT_INSP_ELPSD_WHL',\n",
       "       'RUN_LMT_CRDN_YN', 'EXHST_GAS_CERT_NO_MOD', 'EXHST_GAS_GRD_CD_MOD',\n",
       "       'DPF_MNTNG_YN'],\n",
       "      dtype='object')"
      ]
     },
     "execution_count": 358,
     "metadata": {},
     "output_type": "execute_result"
    }
   ],
   "source": [
    "df4 = df4.rename(columns=chc_col)\n",
    "df4.columns"
   ]
  },
  {
   "cell_type": "code",
   "execution_count": 359,
   "metadata": {},
   "outputs": [
    {
     "data": {
      "text/plain": [
       "FUEL_CD\n",
       "경유    1149256\n",
       "Name: count, dtype: int64"
      ]
     },
     "execution_count": 359,
     "metadata": {},
     "output_type": "execute_result"
    }
   ],
   "source": [
    "df4['FUEL_CD'].value_counts(dropna=False)"
   ]
  },
  {
   "cell_type": "code",
   "execution_count": 360,
   "metadata": {},
   "outputs": [
    {
     "data": {
      "text/plain": [
       "'2023.06.08_PM.05.14.01'"
      ]
     },
     "execution_count": 360,
     "metadata": {},
     "output_type": "execute_result"
    }
   ],
   "source": [
    "today_date = datetime.today().strftime(\"%Y.%m.%d_%p.%I.%M.%S\")\n",
    "today_date"
   ]
  },
  {
   "cell_type": "code",
   "execution_count": 361,
   "metadata": {},
   "outputs": [],
   "source": [
    "# # about 13.4s\n",
    "# df4.to_csv(os.path.join(df_fold, f'BD3-3_4등급_경유차_경제적타당성_최신검사경과기간_운행제한이력.csv'), index=False)"
   ]
  },
  {
   "cell_type": "code",
   "execution_count": 362,
   "metadata": {},
   "outputs": [],
   "source": [
    "# # 출력 [제출용]4등급_경유차_경제적타당성평가_검사경과기간_운행제한이력\n",
    "# # about 15m 17.1s\n",
    "# n = 500000\n",
    "# name = '[제출]4등급_경유차_경제적타당성평가_검사경과기간_운행제한이력'\n",
    "# df4.iloc[:n].to_excel(os.path.join(ods_fold, f'{name}01({today_date}).xlsx'), index=False)\n",
    "# df4.iloc[n:].to_excel(os.path.join(ods_fold, f'{name}02({today_date}).xlsx'), index=False)"
   ]
  },
  {
   "attachments": {},
   "cell_type": "markdown",
   "metadata": {},
   "source": [
    "#### 출력(4등급 result 원본)"
   ]
  },
  {
   "attachments": {},
   "cell_type": "markdown",
   "metadata": {},
   "source": [
    "##### 보관용"
   ]
  },
  {
   "cell_type": "code",
   "execution_count": 363,
   "metadata": {},
   "outputs": [
    {
     "data": {
      "text/plain": [
       "((1149256, 62), (352979, 57))"
      ]
     },
     "execution_count": 363,
     "metadata": {},
     "output_type": "execute_result"
    }
   ],
   "source": [
    "gm4d.shape, gm4r.shape"
   ]
  },
  {
   "cell_type": "code",
   "execution_count": 364,
   "metadata": {},
   "outputs": [
    {
     "data": {
      "text/plain": [
       "1502235"
      ]
     },
     "execution_count": 364,
     "metadata": {},
     "output_type": "execute_result"
    }
   ],
   "source": [
    "gm4d.shape[0] + gm4r.shape[0]"
   ]
  },
  {
   "cell_type": "code",
   "execution_count": 365,
   "metadata": {},
   "outputs": [
    {
     "data": {
      "text/plain": [
       "(1502235, 62)"
      ]
     },
     "execution_count": 365,
     "metadata": {},
     "output_type": "execute_result"
    }
   ],
   "source": [
    "gt4 = pd.concat([gm4d, gm4r], ignore_index=True)\n",
    "gt4.shape"
   ]
  },
  {
   "cell_type": "code",
   "execution_count": 366,
   "metadata": {},
   "outputs": [
    {
     "data": {
      "text/plain": [
       "Index(['차대번호', '차량번호', '제원관리번호', '차종', '용도', '최초등록일', '연식', '제작일자', '검사유효일',\n",
       "       '배출가스인증번호', '등급', '차명', '차종분류', '차종유형', '자동차형식', '제작사명', '연료', '엔진형식',\n",
       "       '총중량', '적재중량', '엔진출력', '배기량', '법정동코드', '시도명', '시군구명', '소유자구분', '말소여부',\n",
       "       '배인번호_수정', '등급_수정', 'DPF유무_수정', 'Grade', '시군구명_수정', '1일평균주행거리',\n",
       "       '조기폐차최종승인YN', '저감장치', '장치일련번호', '연간주행거리', '최신경과기간', '주행거리', '검사일자',\n",
       "       '검사방법', '검사종류', '검사판정', '무부하매연판정1', '무부하매연판정2', '무부하매연판정3', '무부하매연측정치1',\n",
       "       '무부하매연측정치2', '무부하매연측정치3', '비상시및계절제단속발령건수', '비상시및계절제단속발령YN',\n",
       "       '운행제한단속정보건수', '운행제한단속정보YN', '계절제1차단속YN', '계절제2차단속YN', '계절제3차단속YN',\n",
       "       '비상시단속YN', '연간배출량', '연간환경이익', '환경이익', '지원비용', '경제적타당성'],\n",
       "      dtype='object')"
      ]
     },
     "execution_count": 366,
     "metadata": {},
     "output_type": "execute_result"
    }
   ],
   "source": [
    "gt4.columns"
   ]
  },
  {
   "cell_type": "code",
   "execution_count": 367,
   "metadata": {},
   "outputs": [
    {
     "data": {
      "text/plain": [
       "'2023.06.08_PM.05.14.03'"
      ]
     },
     "execution_count": 367,
     "metadata": {},
     "output_type": "execute_result"
    }
   ],
   "source": [
    "today_date = datetime.today().strftime(\"%Y.%m.%d_%p.%I.%M.%S\")\n",
    "today_date"
   ]
  },
  {
   "cell_type": "code",
   "execution_count": 368,
   "metadata": {},
   "outputs": [],
   "source": [
    "# # 출력 [보관용]result_경제적타당성평가_검사경과기간_운행제한이력.csv\n",
    "# # about 40.2s\n",
    "# name = 'result_경제적타당성평가_검사경과기간_운행제한이력'\n",
    "# gt4.to_csv(os.path.join(ods_fold, f'{name}.csv'), index=False, encoding='cp949')"
   ]
  },
  {
   "cell_type": "code",
   "execution_count": 369,
   "metadata": {},
   "outputs": [],
   "source": [
    "# f'{name}.csv'"
   ]
  },
  {
   "attachments": {},
   "cell_type": "markdown",
   "metadata": {},
   "source": [
    "##### 제출용"
   ]
  },
  {
   "cell_type": "code",
   "execution_count": 370,
   "metadata": {},
   "outputs": [
    {
     "data": {
      "text/plain": [
       "(1502235, 62)"
      ]
     },
     "execution_count": 370,
     "metadata": {},
     "output_type": "execute_result"
    }
   ],
   "source": [
    "gt4.shape"
   ]
  },
  {
   "cell_type": "code",
   "execution_count": 371,
   "metadata": {},
   "outputs": [
    {
     "data": {
      "text/plain": [
       "'2023.06.08_PM.05.14.04'"
      ]
     },
     "execution_count": 371,
     "metadata": {},
     "output_type": "execute_result"
    }
   ],
   "source": [
    "today_date = datetime.today().strftime(\"%Y.%m.%d_%p.%I.%M.%S\")\n",
    "today_date"
   ]
  },
  {
   "cell_type": "code",
   "execution_count": 104,
   "metadata": {},
   "outputs": [],
   "source": [
    "# # 출력 [제출용]result_경유차_경제적타당성평가_검사경과기간_운행제한이력\n",
    "# # about 19m 34.1s\n",
    "# n = 800000\n",
    "# name = '[제출]result_경제적타당성평가_검사경과기간_운행제한이력'\n",
    "# gt4[col].iloc[:n].to_excel(os.path.join(ods_fold, f'{name}01({today_date}).xlsx'), index=False)\n",
    "# gt4[col].iloc[n:].to_excel(os.path.join(ods_fold, f'{name}02({today_date}).xlsx'), index=False)"
   ]
  },
  {
   "attachments": {},
   "cell_type": "markdown",
   "metadata": {},
   "source": [
    "### 5등급 환경이익\n",
    "- 고려사항\n",
    "    - 조기폐차, 저감장치 부착"
   ]
  },
  {
   "cell_type": "code",
   "execution_count": 272,
   "metadata": {},
   "outputs": [
    {
     "data": {
      "text/plain": [
       "Index(['차량등록번호', '본거지법정동코드', '차대번호', '제원관리번호', '배출가스인증번호', '배출가스등급', '용도',\n",
       "       '차명', '차종', '차종유형', '연료', '배기량', '총중량', '차량연식', '조기폐차최종승인YN', '저감장치',\n",
       "       '장치일련번호', '저감효율', '연간주행거리', '최신경과기간', '시도', '시구군', '1일평균주행거리', '주행거리',\n",
       "       '검사일자', '검사방법', '검사종류', '검사판정', '무부하매연판정1', '무부하매연판정2', '무부하매연판정3',\n",
       "       '무부하매연측정치1', '무부하매연측정치2', '무부하매연측정치3', '비상시및계절제단속발령건수', '비상시및계절제단속발령YN',\n",
       "       '운행제한단속정보건수', '운행제한단속정보YN', '계절제1차단속YN', '계절제2차단속YN', '계절제3차단속YN',\n",
       "       '비상시단속YN'],\n",
       "      dtype='object')"
      ]
     },
     "execution_count": 272,
     "metadata": {},
     "output_type": "execute_result"
    }
   ],
   "source": [
    "gm5d.columns"
   ]
  },
  {
   "cell_type": "code",
   "execution_count": 273,
   "metadata": {},
   "outputs": [
    {
     "data": {
      "text/plain": [
       "0"
      ]
     },
     "execution_count": 273,
     "metadata": {},
     "output_type": "execute_result"
    }
   ],
   "source": [
    "gm5d['연간주행거리'].isnull().sum()"
   ]
  },
  {
   "cell_type": "code",
   "execution_count": 274,
   "metadata": {},
   "outputs": [
    {
     "data": {
      "text/plain": [
       "조기폐차최종승인YN\n",
       "NaN    1112295\n",
       "Y        13704\n",
       "Name: count, dtype: int64"
      ]
     },
     "execution_count": 274,
     "metadata": {},
     "output_type": "execute_result"
    }
   ],
   "source": [
    "gm5d['조기폐차최종승인YN'].value_counts(dropna=False)"
   ]
  },
  {
   "cell_type": "code",
   "execution_count": 275,
   "metadata": {},
   "outputs": [
    {
     "data": {
      "text/plain": [
       "저감장치\n",
       "NaN           981465\n",
       "DPF           142737\n",
       "PM-NOx저감장치      1797\n",
       "Name: count, dtype: int64"
      ]
     },
     "execution_count": 275,
     "metadata": {},
     "output_type": "execute_result"
    }
   ],
   "source": [
    "gm5d['저감장치'].value_counts(dropna=False)"
   ]
  },
  {
   "cell_type": "code",
   "execution_count": 276,
   "metadata": {},
   "outputs": [
    {
     "data": {
      "text/plain": [
       "array(['무부하검사(급가속)', '무부하검사(정지가동)', '부하검사(LUG DOWN)', '부하검사(KD-147)',\n",
       "       '무부하검사(TSI)', '부하검사(ASM-Idling)', nan], dtype=object)"
      ]
     },
     "execution_count": 276,
     "metadata": {},
     "output_type": "execute_result"
    }
   ],
   "source": [
    "gm5d['검사방법'].unique()"
   ]
  },
  {
   "cell_type": "code",
   "execution_count": 277,
   "metadata": {},
   "outputs": [
    {
     "data": {
      "text/plain": [
       "1"
      ]
     },
     "execution_count": 277,
     "metadata": {},
     "output_type": "execute_result"
    }
   ],
   "source": [
    "gm5d['배기량'].isnull().sum()"
   ]
  },
  {
   "cell_type": "code",
   "execution_count": 278,
   "metadata": {},
   "outputs": [
    {
     "data": {
      "text/plain": [
       "무부하매연측정치1    362108\n",
       "무부하매연측정치2    864111\n",
       "무부하매연측정치3    886977\n",
       "dtype: int64"
      ]
     },
     "execution_count": 278,
     "metadata": {},
     "output_type": "execute_result"
    }
   ],
   "source": [
    "gm5d[['무부하매연측정치1', '무부하매연측정치2', '무부하매연측정치3']].isnull().sum()"
   ]
  },
  {
   "cell_type": "code",
   "execution_count": 279,
   "metadata": {},
   "outputs": [
    {
     "data": {
      "text/plain": [
       "(1125999, 42)"
      ]
     },
     "execution_count": 279,
     "metadata": {},
     "output_type": "execute_result"
    }
   ],
   "source": [
    "gm5d.shape"
   ]
  },
  {
   "cell_type": "code",
   "execution_count": 280,
   "metadata": {},
   "outputs": [
    {
     "data": {
      "text/plain": [
       "Index(['차량등록번호', '본거지법정동코드', '차대번호', '제원관리번호', '배출가스인증번호', '배출가스등급', '용도',\n",
       "       '차명', '차종', '차종유형', '연료', '배기량', '총중량', '차량연식', '조기폐차최종승인YN', '저감장치',\n",
       "       '장치일련번호', '저감효율', '연간주행거리', '최신경과기간', '시도', '시구군', '1일평균주행거리', '주행거리',\n",
       "       '검사일자', '검사방법', '검사종류', '검사판정', '무부하매연판정1', '무부하매연판정2', '무부하매연판정3',\n",
       "       '무부하매연측정치1', '무부하매연측정치2', '무부하매연측정치3', '비상시및계절제단속발령건수', '비상시및계절제단속발령YN',\n",
       "       '운행제한단속정보건수', '운행제한단속정보YN', '계절제1차단속YN', '계절제2차단속YN', '계절제3차단속YN',\n",
       "       '비상시단속YN'],\n",
       "      dtype='object')"
      ]
     },
     "execution_count": 280,
     "metadata": {},
     "output_type": "execute_result"
    }
   ],
   "source": [
    "gm5d.columns"
   ]
  },
  {
   "cell_type": "code",
   "execution_count": 281,
   "metadata": {},
   "outputs": [
    {
     "data": {
      "text/html": [
       "<div>\n",
       "<style scoped>\n",
       "    .dataframe tbody tr th:only-of-type {\n",
       "        vertical-align: middle;\n",
       "    }\n",
       "\n",
       "    .dataframe tbody tr th {\n",
       "        vertical-align: top;\n",
       "    }\n",
       "\n",
       "    .dataframe thead th {\n",
       "        text-align: right;\n",
       "    }\n",
       "</style>\n",
       "<table border=\"1\" class=\"dataframe\">\n",
       "  <thead>\n",
       "    <tr style=\"text-align: right;\">\n",
       "      <th></th>\n",
       "      <th>저감장치</th>\n",
       "      <th>배출가스인증번호</th>\n",
       "      <th>장치일련번호</th>\n",
       "      <th>장치인증번호</th>\n",
       "      <th>장치구분</th>\n",
       "      <th>저감효율</th>\n",
       "    </tr>\n",
       "  </thead>\n",
       "  <tbody>\n",
       "    <tr>\n",
       "      <th>0</th>\n",
       "      <td>DPF</td>\n",
       "      <td>1MY-HD-52</td>\n",
       "      <td>1006497</td>\n",
       "      <td>NaN</td>\n",
       "      <td>NaN</td>\n",
       "      <td>NaN</td>\n",
       "    </tr>\n",
       "    <tr>\n",
       "      <th>1</th>\n",
       "      <td>DPF</td>\n",
       "      <td>1MY-HD-52</td>\n",
       "      <td>ALS1500456</td>\n",
       "      <td>NaN</td>\n",
       "      <td>NaN</td>\n",
       "      <td>NaN</td>\n",
       "    </tr>\n",
       "    <tr>\n",
       "      <th>2</th>\n",
       "      <td>DPF</td>\n",
       "      <td>1MY-HD-52</td>\n",
       "      <td>C254982</td>\n",
       "      <td>NaN</td>\n",
       "      <td>NaN</td>\n",
       "      <td>NaN</td>\n",
       "    </tr>\n",
       "    <tr>\n",
       "      <th>3</th>\n",
       "      <td>DPF</td>\n",
       "      <td>1MY-HD-52</td>\n",
       "      <td>DLL060113B13</td>\n",
       "      <td>NaN</td>\n",
       "      <td>NaN</td>\n",
       "      <td>NaN</td>\n",
       "    </tr>\n",
       "    <tr>\n",
       "      <th>4</th>\n",
       "      <td>DPF</td>\n",
       "      <td>1MY-HD-52</td>\n",
       "      <td>H180403-050</td>\n",
       "      <td>NaN</td>\n",
       "      <td>NaN</td>\n",
       "      <td>NaN</td>\n",
       "    </tr>\n",
       "  </tbody>\n",
       "</table>\n",
       "</div>"
      ],
      "text/plain": [
       "  저감장치   배출가스인증번호        장치일련번호 장치인증번호 장치구분  저감효율\n",
       "0  DPF  1MY-HD-52       1006497    NaN  NaN   NaN\n",
       "1  DPF  1MY-HD-52    ALS1500456    NaN  NaN   NaN\n",
       "2  DPF  1MY-HD-52       C254982    NaN  NaN   NaN\n",
       "3  DPF  1MY-HD-52  DLL060113B13    NaN  NaN   NaN\n",
       "4  DPF  1MY-HD-52   H180403-050    NaN  NaN   NaN"
      ]
     },
     "execution_count": 281,
     "metadata": {},
     "output_type": "execute_result"
    }
   ],
   "source": [
    "eff.head()"
   ]
  },
  {
   "cell_type": "code",
   "execution_count": 282,
   "metadata": {},
   "outputs": [
    {
     "data": {
      "text/html": [
       "<div>\n",
       "<style scoped>\n",
       "    .dataframe tbody tr th:only-of-type {\n",
       "        vertical-align: middle;\n",
       "    }\n",
       "\n",
       "    .dataframe tbody tr th {\n",
       "        vertical-align: top;\n",
       "    }\n",
       "\n",
       "    .dataframe thead th {\n",
       "        text-align: right;\n",
       "    }\n",
       "</style>\n",
       "<table border=\"1\" class=\"dataframe\">\n",
       "  <thead>\n",
       "    <tr style=\"text-align: right;\">\n",
       "      <th></th>\n",
       "      <th>저감장치</th>\n",
       "      <th>배출가스인증번호</th>\n",
       "      <th>장치일련번호</th>\n",
       "      <th>장치인증번호</th>\n",
       "      <th>장치구분</th>\n",
       "      <th>저감효율</th>\n",
       "    </tr>\n",
       "  </thead>\n",
       "  <tbody>\n",
       "    <tr>\n",
       "      <th>14574</th>\n",
       "      <td>DPF</td>\n",
       "      <td>3MY-HD-09</td>\n",
       "      <td>983</td>\n",
       "      <td>CF1-FT-01</td>\n",
       "      <td>복합소형</td>\n",
       "      <td>98.80000</td>\n",
       "    </tr>\n",
       "    <tr>\n",
       "      <th>24291</th>\n",
       "      <td>DPF</td>\n",
       "      <td>3MY-HD-14</td>\n",
       "      <td>1330</td>\n",
       "      <td>CF1-FT-01</td>\n",
       "      <td>복합소형</td>\n",
       "      <td>98.80000</td>\n",
       "    </tr>\n",
       "    <tr>\n",
       "      <th>58177</th>\n",
       "      <td>DPF</td>\n",
       "      <td>4MY-HD-56</td>\n",
       "      <td>1473</td>\n",
       "      <td>CF1-FT-01</td>\n",
       "      <td>복합소형</td>\n",
       "      <td>98.80000</td>\n",
       "    </tr>\n",
       "    <tr>\n",
       "      <th>91220</th>\n",
       "      <td>DPF</td>\n",
       "      <td>YMY-HD-46</td>\n",
       "      <td>1910</td>\n",
       "      <td>BF1-HK-01</td>\n",
       "      <td>복합소형</td>\n",
       "      <td>98.80000</td>\n",
       "    </tr>\n",
       "    <tr>\n",
       "      <th>28541</th>\n",
       "      <td>DPF</td>\n",
       "      <td>3MY-HD-15</td>\n",
       "      <td>2022</td>\n",
       "      <td>BF1-HK-01</td>\n",
       "      <td>복합소형</td>\n",
       "      <td>98.80000</td>\n",
       "    </tr>\n",
       "  </tbody>\n",
       "</table>\n",
       "</div>"
      ],
      "text/plain": [
       "      저감장치   배출가스인증번호 장치일련번호     장치인증번호  장치구분     저감효율\n",
       "14574  DPF  3MY-HD-09    983  CF1-FT-01  복합소형 98.80000\n",
       "24291  DPF  3MY-HD-14   1330  CF1-FT-01  복합소형 98.80000\n",
       "58177  DPF  4MY-HD-56   1473  CF1-FT-01  복합소형 98.80000\n",
       "91220  DPF  YMY-HD-46   1910  BF1-HK-01  복합소형 98.80000\n",
       "28541  DPF  3MY-HD-15   2022  BF1-HK-01  복합소형 98.80000"
      ]
     },
     "execution_count": 282,
     "metadata": {},
     "output_type": "execute_result"
    }
   ],
   "source": [
    "eff = eff.sort_values('저감효율', ascending=False)\n",
    "eff.head()"
   ]
  },
  {
   "cell_type": "code",
   "execution_count": 283,
   "metadata": {},
   "outputs": [
    {
     "data": {
      "text/plain": [
       "(111071, 6)"
      ]
     },
     "execution_count": 283,
     "metadata": {},
     "output_type": "execute_result"
    }
   ],
   "source": [
    "eff.shape"
   ]
  },
  {
   "cell_type": "code",
   "execution_count": 284,
   "metadata": {},
   "outputs": [
    {
     "data": {
      "text/plain": [
       "(279, 6)"
      ]
     },
     "execution_count": 284,
     "metadata": {},
     "output_type": "execute_result"
    }
   ],
   "source": [
    "effm = eff.drop_duplicates(['배출가스인증번호', '저감효율']).reset_index(drop=True)\n",
    "effm.shape"
   ]
  },
  {
   "cell_type": "code",
   "execution_count": 285,
   "metadata": {},
   "outputs": [
    {
     "data": {
      "text/html": [
       "<div>\n",
       "<style scoped>\n",
       "    .dataframe tbody tr th:only-of-type {\n",
       "        vertical-align: middle;\n",
       "    }\n",
       "\n",
       "    .dataframe tbody tr th {\n",
       "        vertical-align: top;\n",
       "    }\n",
       "\n",
       "    .dataframe thead th {\n",
       "        text-align: right;\n",
       "    }\n",
       "</style>\n",
       "<table border=\"1\" class=\"dataframe\">\n",
       "  <thead>\n",
       "    <tr style=\"text-align: right;\">\n",
       "      <th></th>\n",
       "      <th>저감장치</th>\n",
       "      <th>배출가스인증번호</th>\n",
       "      <th>장치일련번호</th>\n",
       "      <th>장치인증번호</th>\n",
       "      <th>장치구분</th>\n",
       "      <th>저감효율</th>\n",
       "    </tr>\n",
       "  </thead>\n",
       "  <tbody>\n",
       "    <tr>\n",
       "      <th>0</th>\n",
       "      <td>DPF</td>\n",
       "      <td>3MY-HD-09</td>\n",
       "      <td>983</td>\n",
       "      <td>CF1-FT-01</td>\n",
       "      <td>복합소형</td>\n",
       "      <td>98.80000</td>\n",
       "    </tr>\n",
       "    <tr>\n",
       "      <th>1</th>\n",
       "      <td>DPF</td>\n",
       "      <td>3MY-HD-14</td>\n",
       "      <td>1330</td>\n",
       "      <td>CF1-FT-01</td>\n",
       "      <td>복합소형</td>\n",
       "      <td>98.80000</td>\n",
       "    </tr>\n",
       "    <tr>\n",
       "      <th>2</th>\n",
       "      <td>DPF</td>\n",
       "      <td>4MY-HD-56</td>\n",
       "      <td>1473</td>\n",
       "      <td>CF1-FT-01</td>\n",
       "      <td>복합소형</td>\n",
       "      <td>98.80000</td>\n",
       "    </tr>\n",
       "    <tr>\n",
       "      <th>3</th>\n",
       "      <td>DPF</td>\n",
       "      <td>YMY-HD-46</td>\n",
       "      <td>1910</td>\n",
       "      <td>BF1-HK-01</td>\n",
       "      <td>복합소형</td>\n",
       "      <td>98.80000</td>\n",
       "    </tr>\n",
       "    <tr>\n",
       "      <th>4</th>\n",
       "      <td>DPF</td>\n",
       "      <td>3MY-HD-15</td>\n",
       "      <td>2022</td>\n",
       "      <td>BF1-HK-01</td>\n",
       "      <td>복합소형</td>\n",
       "      <td>98.80000</td>\n",
       "    </tr>\n",
       "  </tbody>\n",
       "</table>\n",
       "</div>"
      ],
      "text/plain": [
       "  저감장치   배출가스인증번호 장치일련번호     장치인증번호  장치구분     저감효율\n",
       "0  DPF  3MY-HD-09    983  CF1-FT-01  복합소형 98.80000\n",
       "1  DPF  3MY-HD-14   1330  CF1-FT-01  복합소형 98.80000\n",
       "2  DPF  4MY-HD-56   1473  CF1-FT-01  복합소형 98.80000\n",
       "3  DPF  YMY-HD-46   1910  BF1-HK-01  복합소형 98.80000\n",
       "4  DPF  3MY-HD-15   2022  BF1-HK-01  복합소형 98.80000"
      ]
     },
     "execution_count": 285,
     "metadata": {},
     "output_type": "execute_result"
    }
   ],
   "source": [
    "effm.head()"
   ]
  },
  {
   "cell_type": "code",
   "execution_count": 286,
   "metadata": {},
   "outputs": [
    {
     "data": {
      "text/plain": [
       "장치구분    107\n",
       "저감효율     86\n",
       "dtype: int64"
      ]
     },
     "execution_count": 286,
     "metadata": {},
     "output_type": "execute_result"
    }
   ],
   "source": [
    "effm[['장치구분', '저감효율']].isnull().sum()"
   ]
  },
  {
   "cell_type": "code",
   "execution_count": 287,
   "metadata": {},
   "outputs": [
    {
     "data": {
      "text/plain": [
       "98.8"
      ]
     },
     "execution_count": 287,
     "metadata": {},
     "output_type": "execute_result"
    }
   ],
   "source": [
    "effm.loc[effm['배출가스인증번호'] == '3MY-HD-09', '저감효율'].values[0]"
   ]
  },
  {
   "cell_type": "code",
   "execution_count": 288,
   "metadata": {},
   "outputs": [
    {
     "name": "stderr",
     "output_type": "stream",
     "text": [
      "100%|██████████| 1125999/1125999 [04:37<00:00, 4052.87it/s]\n"
     ]
    }
   ],
   "source": [
    "# about 4m 37.0s\n",
    "kg_early_list= []\n",
    "kg_dpf_list= []\n",
    "dpf_div_list = []\n",
    "# rate = 0.988\n",
    "for early, dpf, method, one, two, three, distance, cc, emisno in tqdm(gm5d[['조기폐차최종승인YN', '저감장치', '검사방법', '무부하매연측정치1', '무부하매연측정치2', '무부하매연측정치3', '연간주행거리', '배기량', '배출가스인증번호']].values):\n",
    "    cc = cc/1000\n",
    "    if pd.isna(early) == True and pd.isna(dpf) == True: # 조기폐차 N, DPF 장착 N\n",
    "        try:\n",
    "            ch_rate = effm.loc[effm['배출가스인증번호'] == emisno, '저감효율'].values[0]\n",
    "            dpf_div = effm.loc[effm['배출가스인증번호'] == emisno, '장치구분'].values[0]\n",
    "            if pd.isna(ch_rate) == False: # 저감효율 존재\n",
    "                rate = ch_rate\n",
    "            else:\n",
    "                rate = 1\n",
    "        except:\n",
    "            rate = 1\n",
    "            dpf_div = np.nan\n",
    "        \n",
    "        if method == '무부하검사(급가속)' or method == '무부하검사(정지가동)':\n",
    "            if pd.isna(one) == False and pd.isna(two) == False and pd.isna(three) == False:\n",
    "                emis = (one + two + three) / 3\n",
    "            elif pd.isna(one) == False and pd.isna(two) == True and pd.isna(three) == True:\n",
    "                emis = one\n",
    "            else:\n",
    "                emis = np.nan\n",
    "        elif method == '부하검사(KD-147)':\n",
    "            if pd.isna(one) == False:\n",
    "                emis = one\n",
    "            else:\n",
    "                emis = np.nan\n",
    "        elif method == '부하검사(ASM-Idling)':\n",
    "            if pd.isna(one) == False:\n",
    "                emis = one\n",
    "            else:\n",
    "                emis = np.nan\n",
    "        else:\n",
    "            emis = np.nan\n",
    "        mgkm = (0.0126*(emis**2) + 2.665*emis +3.03) * ( (0.4229*0.001*cc**2 - 1.022*0.001*cc + 1.59)/60 ) * 1/2.16\n",
    "        mgkm_dpf = (0.0126*((emis*rate)**2) + 2.665*(emis*rate) +3.03) * ( (0.4229*0.001*cc**2 - 1.022*0.001*cc + 1.59)/60 ) * 1/2.16\n",
    "        kg = mgkm * distance * 10**(-6)\n",
    "        kg_dpf = mgkm_dpf * distance * 10**(-6)\n",
    "        kg_early_list.append(kg)\n",
    "        kg_dpf_list.append(kg_dpf)\n",
    "        dpf_div_list.append(dpf_div)\n",
    "\n",
    "    elif pd.isna(early) == True and pd.isna(dpf) == False: # 조기폐차 N, DPF 장착 Y\n",
    "        if method == '무부하검사(급가속)' or method == '무부하검사(정지가동)':\n",
    "            if pd.isna(one) == False and pd.isna(two) == False and pd.isna(three) == False:\n",
    "                emis = (one + two + three) / 3\n",
    "            elif pd.isna(one) == False and pd.isna(two) == True and pd.isna(three) == True:\n",
    "                emis = one\n",
    "            else:\n",
    "                emis = np.nan\n",
    "        elif method == '부하검사(KD-147)':\n",
    "            if pd.isna(one) == False:\n",
    "                emis = one\n",
    "            else:\n",
    "                emis = np.nan\n",
    "        elif method == '부하검사(ASM-Idling)':\n",
    "            if pd.isna(one) == False:\n",
    "                emis = one\n",
    "            else:\n",
    "                emis = np.nan\n",
    "        else:\n",
    "            emis = np.nan\n",
    "        mgkm = (0.0126*(emis**2) + 2.665*emis +3.03) * ( (0.4229*0.001*cc**2 - 1.022*0.001*cc + 1.59)/60 ) * 1/2.16\n",
    "        kg = mgkm * distance * 10**(-6)\n",
    "        kg_early_list.append(kg)\n",
    "        kg_dpf_list.append(np.nan)\n",
    "        dpf_div_list.append(np.nan)\n",
    "    else:\n",
    "        kg_early_list.append(np.nan)\n",
    "        kg_dpf_list.append(np.nan)\n",
    "        dpf_div_list.append(np.nan)"
   ]
  },
  {
   "cell_type": "code",
   "execution_count": 289,
   "metadata": {},
   "outputs": [
    {
     "data": {
      "text/plain": [
       "(1125999, 42)"
      ]
     },
     "execution_count": 289,
     "metadata": {},
     "output_type": "execute_result"
    }
   ],
   "source": [
    "gm5d.shape"
   ]
  },
  {
   "cell_type": "code",
   "execution_count": 290,
   "metadata": {},
   "outputs": [
    {
     "data": {
      "text/plain": [
       "(1125999, 1125999, 1125999)"
      ]
     },
     "execution_count": 290,
     "metadata": {},
     "output_type": "execute_result"
    }
   ],
   "source": [
    "len(kg_early_list), len(kg_dpf_list), len(dpf_div_list)"
   ]
  },
  {
   "cell_type": "code",
   "execution_count": 291,
   "metadata": {},
   "outputs": [
    {
     "data": {
      "text/plain": [
       "[0.6351938122061297,\n",
       " 1.198124753667781e-05,\n",
       " 1.4950924262216627e-06,\n",
       " 0.00019871972129629627,\n",
       " nan,\n",
       " 0.006917406222163649,\n",
       " 0.006033451250095614,\n",
       " 7.1899355215114054e-06,\n",
       " 0.004999611330821188,\n",
       " 0.0036533416472775346]"
      ]
     },
     "execution_count": 291,
     "metadata": {},
     "output_type": "execute_result"
    }
   ],
   "source": [
    "kg_early_list[:10]"
   ]
  },
  {
   "cell_type": "code",
   "execution_count": 292,
   "metadata": {},
   "outputs": [
    {
     "data": {
      "text/plain": [
       "[0.6351938122061297,\n",
       " 1.198124753667781e-05,\n",
       " 1.4950924262216627e-06,\n",
       " 0.00019871972129629627,\n",
       " nan,\n",
       " 0.006917406222163649,\n",
       " 0.006033451250095614,\n",
       " 7.1899355215114054e-06,\n",
       " 0.004999611330821188,\n",
       " 0.0036533416472775346]"
      ]
     },
     "execution_count": 292,
     "metadata": {},
     "output_type": "execute_result"
    }
   ],
   "source": [
    "kg_dpf_list[:10]"
   ]
  },
  {
   "cell_type": "code",
   "execution_count": 293,
   "metadata": {},
   "outputs": [
    {
     "data": {
      "text/plain": [
       "[nan, nan, nan, nan, nan, nan, nan, nan, nan, nan]"
      ]
     },
     "execution_count": 293,
     "metadata": {},
     "output_type": "execute_result"
    }
   ],
   "source": [
    "dpf_div_list[:10]"
   ]
  },
  {
   "cell_type": "code",
   "execution_count": 294,
   "metadata": {},
   "outputs": [
    {
     "data": {
      "text/plain": [
       "Index(['차량등록번호', '본거지법정동코드', '차대번호', '제원관리번호', '배출가스인증번호', '배출가스등급', '용도',\n",
       "       '차명', '차종', '차종유형', '연료', '배기량', '총중량', '차량연식', '조기폐차최종승인YN', '저감장치',\n",
       "       '장치일련번호', '저감효율', '연간주행거리', '최신경과기간', '시도', '시구군', '1일평균주행거리', '주행거리',\n",
       "       '검사일자', '검사방법', '검사종류', '검사판정', '무부하매연판정1', '무부하매연판정2', '무부하매연판정3',\n",
       "       '무부하매연측정치1', '무부하매연측정치2', '무부하매연측정치3', '비상시및계절제단속발령건수', '비상시및계절제단속발령YN',\n",
       "       '운행제한단속정보건수', '운행제한단속정보YN', '계절제1차단속YN', '계절제2차단속YN', '계절제3차단속YN',\n",
       "       '비상시단속YN', '연간배출량_조기폐차', '연간배출량_DPF', '장치구분'],\n",
       "      dtype='object')"
      ]
     },
     "execution_count": 294,
     "metadata": {},
     "output_type": "execute_result"
    }
   ],
   "source": [
    "gm5d['연간배출량_조기폐차'] = kg_early_list\n",
    "gm5d['연간배출량_DPF'] = kg_dpf_list\n",
    "gm5d['장치구분'] = dpf_div_list\n",
    "gm5d.columns"
   ]
  },
  {
   "cell_type": "code",
   "execution_count": 295,
   "metadata": {},
   "outputs": [
    {
     "data": {
      "text/plain": [
       "(717384, 45)"
      ]
     },
     "execution_count": 295,
     "metadata": {},
     "output_type": "execute_result"
    }
   ],
   "source": [
    "gm5d.loc[gm5d['연간배출량_조기폐차'] != gm5d['연간배출량_DPF']].shape"
   ]
  },
  {
   "cell_type": "code",
   "execution_count": 296,
   "metadata": {},
   "outputs": [
    {
     "data": {
      "text/plain": [
       "(1125999, 45)"
      ]
     },
     "execution_count": 296,
     "metadata": {},
     "output_type": "execute_result"
    }
   ],
   "source": [
    "gm5d.shape"
   ]
  },
  {
   "cell_type": "code",
   "execution_count": 297,
   "metadata": {},
   "outputs": [
    {
     "data": {
      "text/plain": [
       "0   158.66420\n",
       "1     0.00299\n",
       "2     0.00037\n",
       "3     0.04964\n",
       "4         NaN\n",
       "Name: 연간환경이익_조기폐차, dtype: float64"
      ]
     },
     "execution_count": 297,
     "metadata": {},
     "output_type": "execute_result"
    }
   ],
   "source": [
    "# 연간환경이익_조기폐차\n",
    "gm5d['연간환경이익_조기폐차'] = gm5d['연간배출량_조기폐차'] * (117009*0.33 + 174967*0.33 + 451284*0.34) / 1000\n",
    "gm5d['연간환경이익_조기폐차'].head()"
   ]
  },
  {
   "cell_type": "code",
   "execution_count": 298,
   "metadata": {},
   "outputs": [
    {
     "data": {
      "text/plain": [
       "0   158.66420\n",
       "1     0.00299\n",
       "2     0.00037\n",
       "3     0.04964\n",
       "4         NaN\n",
       "Name: 연간환경이익_DPF, dtype: float64"
      ]
     },
     "execution_count": 298,
     "metadata": {},
     "output_type": "execute_result"
    }
   ],
   "source": [
    "# 연간환경이익_DPF\n",
    "gm5d['연간환경이익_DPF'] = gm5d['연간배출량_DPF'] * (117009*0.33 + 174967*0.33 + 451284*0.34) / 1000\n",
    "gm5d['연간환경이익_DPF'].head()"
   ]
  },
  {
   "cell_type": "code",
   "execution_count": 299,
   "metadata": {},
   "outputs": [
    {
     "data": {
      "text/html": [
       "<div>\n",
       "<style scoped>\n",
       "    .dataframe tbody tr th:only-of-type {\n",
       "        vertical-align: middle;\n",
       "    }\n",
       "\n",
       "    .dataframe tbody tr th {\n",
       "        vertical-align: top;\n",
       "    }\n",
       "\n",
       "    .dataframe thead th {\n",
       "        text-align: right;\n",
       "    }\n",
       "</style>\n",
       "<table border=\"1\" class=\"dataframe\">\n",
       "  <thead>\n",
       "    <tr style=\"text-align: right;\">\n",
       "      <th></th>\n",
       "      <th>환경이익_조기폐차</th>\n",
       "      <th>환경이익_DPF</th>\n",
       "    </tr>\n",
       "  </thead>\n",
       "  <tbody>\n",
       "    <tr>\n",
       "      <th>0</th>\n",
       "      <td>475.99260</td>\n",
       "      <td>475.99260</td>\n",
       "    </tr>\n",
       "    <tr>\n",
       "      <th>1</th>\n",
       "      <td>0.00898</td>\n",
       "      <td>0.00898</td>\n",
       "    </tr>\n",
       "    <tr>\n",
       "      <th>2</th>\n",
       "      <td>0.00112</td>\n",
       "      <td>0.00112</td>\n",
       "    </tr>\n",
       "    <tr>\n",
       "      <th>3</th>\n",
       "      <td>0.14891</td>\n",
       "      <td>0.14891</td>\n",
       "    </tr>\n",
       "    <tr>\n",
       "      <th>4</th>\n",
       "      <td>NaN</td>\n",
       "      <td>NaN</td>\n",
       "    </tr>\n",
       "  </tbody>\n",
       "</table>\n",
       "</div>"
      ],
      "text/plain": [
       "   환경이익_조기폐차  환경이익_DPF\n",
       "0  475.99260 475.99260\n",
       "1    0.00898   0.00898\n",
       "2    0.00112   0.00112\n",
       "3    0.14891   0.14891\n",
       "4        NaN       NaN"
      ]
     },
     "execution_count": 299,
     "metadata": {},
     "output_type": "execute_result"
    }
   ],
   "source": [
    "gm5d['환경이익_조기폐차'] = gm5d['연간환경이익_조기폐차'] * 3\n",
    "gm5d['환경이익_DPF'] = gm5d['연간환경이익_DPF'] * 3\n",
    "gm5d[['환경이익_조기폐차', '환경이익_DPF']].head()"
   ]
  },
  {
   "attachments": {},
   "cell_type": "markdown",
   "metadata": {},
   "source": [
    "### 5등급 지원비용"
   ]
  },
  {
   "cell_type": "code",
   "execution_count": 300,
   "metadata": {},
   "outputs": [
    {
     "name": "stderr",
     "output_type": "stream",
     "text": [
      "100%|██████████| 1125999/1125999 [00:01<00:00, 588564.41it/s]\n"
     ]
    }
   ],
   "source": [
    "# 조기폐차(단위 : 천원)\n",
    "cash_list = []\n",
    "for weight, cc in tqdm(gm5d[['총중량', '배기량']].values):\n",
    "    if weight < 3500:\n",
    "        cash = 3000\n",
    "    elif weight >= 3500:\n",
    "        if cc <= 3500:\n",
    "            cash = 4400\n",
    "        elif 3500< cc <= 5500:\n",
    "            cash = 7500\n",
    "        elif 5500< cc <= 7500:\n",
    "            cash = 11000\n",
    "        elif 7500 < cc:\n",
    "            cash = 30000\n",
    "    else:\n",
    "        cash = np.nan\n",
    "    cash_list.append(cash)"
   ]
  },
  {
   "cell_type": "code",
   "execution_count": 301,
   "metadata": {},
   "outputs": [
    {
     "data": {
      "text/plain": [
       "[7500, 11000, 3000, 4400, 11000, 11000, 11000, 11000, 4400, 7500]"
      ]
     },
     "execution_count": 301,
     "metadata": {},
     "output_type": "execute_result"
    }
   ],
   "source": [
    "cash_list[:10]"
   ]
  },
  {
   "cell_type": "code",
   "execution_count": 302,
   "metadata": {},
   "outputs": [],
   "source": [
    "gm5d['지원비용_조기폐차'] = cash_list"
   ]
  },
  {
   "cell_type": "code",
   "execution_count": 303,
   "metadata": {},
   "outputs": [
    {
     "data": {
      "text/plain": [
       "array(['화물', '특수', '승합', '승용'], dtype=object)"
      ]
     },
     "execution_count": 303,
     "metadata": {},
     "output_type": "execute_result"
    }
   ],
   "source": [
    "gm5d['차종'].unique()"
   ]
  },
  {
   "cell_type": "code",
   "execution_count": 304,
   "metadata": {},
   "outputs": [
    {
     "data": {
      "text/plain": [
       "array([nan, '복합소형', '복합대형', '복합중형', '대형'], dtype=object)"
      ]
     },
     "execution_count": 304,
     "metadata": {},
     "output_type": "execute_result"
    }
   ],
   "source": [
    "gm5d['장치구분'].unique()"
   ]
  },
  {
   "cell_type": "code",
   "execution_count": 305,
   "metadata": {},
   "outputs": [
    {
     "name": "stderr",
     "output_type": "stream",
     "text": [
      "100%|██████████| 1125999/1125999 [00:02<00:00, 555833.30it/s]\n"
     ]
    }
   ],
   "source": [
    "# DPF(단위 : 천원)\n",
    "dpf_profit_y_list = []\n",
    "for type, one, weight, cc in tqdm(gm5d[['차종', '장치구분', '총중량', '배기량']].values):\n",
    "    if one == '자연대형':\n",
    "        profit = 3987\n",
    "    elif one == '자연중형':\n",
    "        profit = 3658\n",
    "    elif one == '복합대형':\n",
    "        profit = 5876\n",
    "    elif one == '복합중형':\n",
    "        profit = 4137\n",
    "    elif one == '복합소형':\n",
    "        if type == '승합':\n",
    "            profit = 2461\n",
    "        elif type == '화물':\n",
    "            profit = 2532\n",
    "        else:\n",
    "            profit = 2532\n",
    "    else:\n",
    "        profit = np.nan\n",
    "    dpf_profit_y_list.append(profit)"
   ]
  },
  {
   "cell_type": "code",
   "execution_count": 306,
   "metadata": {},
   "outputs": [
    {
     "data": {
      "text/plain": [
       "1125999"
      ]
     },
     "execution_count": 306,
     "metadata": {},
     "output_type": "execute_result"
    }
   ],
   "source": [
    "len(dpf_profit_y_list)"
   ]
  },
  {
   "cell_type": "code",
   "execution_count": 307,
   "metadata": {},
   "outputs": [
    {
     "data": {
      "text/plain": [
       "[nan, nan, nan, nan, nan, nan, nan, nan, nan, nan]"
      ]
     },
     "execution_count": 307,
     "metadata": {},
     "output_type": "execute_result"
    }
   ],
   "source": [
    "dpf_profit_y_list[:10]"
   ]
  },
  {
   "cell_type": "code",
   "execution_count": 308,
   "metadata": {},
   "outputs": [],
   "source": [
    "gm5d['지원비용_DPF'] = dpf_profit_y_list"
   ]
  },
  {
   "cell_type": "code",
   "execution_count": 309,
   "metadata": {},
   "outputs": [
    {
     "data": {
      "text/plain": [
       "Index(['차량등록번호', '본거지법정동코드', '차대번호', '제원관리번호', '배출가스인증번호', '배출가스등급', '용도',\n",
       "       '차명', '차종', '차종유형', '연료', '배기량', '총중량', '차량연식', '조기폐차최종승인YN', '저감장치',\n",
       "       '장치일련번호', '저감효율', '연간주행거리', '최신경과기간', '시도', '시구군', '1일평균주행거리', '주행거리',\n",
       "       '검사일자', '검사방법', '검사종류', '검사판정', '무부하매연판정1', '무부하매연판정2', '무부하매연판정3',\n",
       "       '무부하매연측정치1', '무부하매연측정치2', '무부하매연측정치3', '비상시및계절제단속발령건수', '비상시및계절제단속발령YN',\n",
       "       '운행제한단속정보건수', '운행제한단속정보YN', '계절제1차단속YN', '계절제2차단속YN', '계절제3차단속YN',\n",
       "       '비상시단속YN', '연간배출량_조기폐차', '연간배출량_DPF', '장치구분', '연간환경이익_조기폐차',\n",
       "       '연간환경이익_DPF', '환경이익_조기폐차', '환경이익_DPF', '지원비용_조기폐차', '지원비용_DPF'],\n",
       "      dtype='object')"
      ]
     },
     "execution_count": 309,
     "metadata": {},
     "output_type": "execute_result"
    }
   ],
   "source": [
    "gm5d.columns"
   ]
  },
  {
   "cell_type": "code",
   "execution_count": 310,
   "metadata": {},
   "outputs": [
    {
     "data": {
      "text/plain": [
       "(1125999, 51)"
      ]
     },
     "execution_count": 310,
     "metadata": {},
     "output_type": "execute_result"
    }
   ],
   "source": [
    "gm5d.loc[gm5d['지원비용_조기폐차'] != gm5d['지원비용_DPF']].shape"
   ]
  },
  {
   "attachments": {},
   "cell_type": "markdown",
   "metadata": {},
   "source": [
    "### 5등급 경제적 타당성 계산"
   ]
  },
  {
   "cell_type": "code",
   "execution_count": 311,
   "metadata": {},
   "outputs": [],
   "source": [
    "gm5d['경제적타당성_조기폐차'] = gm5d['환경이익_조기폐차'] / gm5d['지원비용_조기폐차']\n",
    "gm5d['경제적타당성_DPF'] = gm5d['환경이익_DPF'] / gm5d['지원비용_DPF']"
   ]
  },
  {
   "cell_type": "code",
   "execution_count": 312,
   "metadata": {},
   "outputs": [
    {
     "data": {
      "text/plain": [
       "count   624357.00000\n",
       "mean         0.01913\n",
       "std          0.19650\n",
       "min          0.00000\n",
       "25%          0.00013\n",
       "50%          0.00049\n",
       "75%          0.00134\n",
       "max         59.39004\n",
       "Name: 경제적타당성_조기폐차, dtype: float64"
      ]
     },
     "execution_count": 312,
     "metadata": {},
     "output_type": "execute_result"
    }
   ],
   "source": [
    "gm5d['경제적타당성_조기폐차'].describe()"
   ]
  },
  {
   "cell_type": "code",
   "execution_count": 313,
   "metadata": {},
   "outputs": [
    {
     "data": {
      "text/plain": [
       "count   159778.00000\n",
       "mean        44.12107\n",
       "std        831.82118\n",
       "min          0.00000\n",
       "25%          0.02462\n",
       "50%          0.21364\n",
       "75%          0.87465\n",
       "max     106740.78838\n",
       "Name: 경제적타당성_DPF, dtype: float64"
      ]
     },
     "execution_count": 313,
     "metadata": {},
     "output_type": "execute_result"
    }
   ],
   "source": [
    "gm5d['경제적타당성_DPF'].describe()"
   ]
  },
  {
   "cell_type": "code",
   "execution_count": 314,
   "metadata": {},
   "outputs": [
    {
     "data": {
      "text/plain": [
       "0   0.06347\n",
       "1   0.00000\n",
       "2   0.00000\n",
       "3   0.00003\n",
       "5   0.00047\n",
       "Name: 경제적타당성_조기폐차, dtype: float64"
      ]
     },
     "execution_count": 314,
     "metadata": {},
     "output_type": "execute_result"
    }
   ],
   "source": [
    "gm5d.loc[gm5d['경제적타당성_조기폐차'].isnull() == False, '경제적타당성_조기폐차'].head()"
   ]
  },
  {
   "cell_type": "code",
   "execution_count": 315,
   "metadata": {},
   "outputs": [
    {
     "data": {
      "text/plain": [
       "100   0.00002\n",
       "105   0.14801\n",
       "173   5.20189\n",
       "177   6.78639\n",
       "246   2.12407\n",
       "Name: 경제적타당성_DPF, dtype: float64"
      ]
     },
     "execution_count": 315,
     "metadata": {},
     "output_type": "execute_result"
    }
   ],
   "source": [
    "gm5d.loc[gm5d['경제적타당성_DPF'].isnull() == False, '경제적타당성_DPF'].head()"
   ]
  },
  {
   "cell_type": "code",
   "execution_count": 316,
   "metadata": {},
   "outputs": [
    {
     "data": {
      "text/plain": [
       "(5857,)"
      ]
     },
     "execution_count": 316,
     "metadata": {},
     "output_type": "execute_result"
    }
   ],
   "source": [
    "gm5d.loc[gm5d['경제적타당성_조기폐차'] >= 1, '경제적타당성_조기폐차'].shape"
   ]
  },
  {
   "cell_type": "code",
   "execution_count": 317,
   "metadata": {},
   "outputs": [
    {
     "data": {
      "text/plain": [
       "(615624,)"
      ]
     },
     "execution_count": 317,
     "metadata": {},
     "output_type": "execute_result"
    }
   ],
   "source": [
    "gm5d.loc[gm5d['경제적타당성_조기폐차'] < 0.5, '경제적타당성_조기폐차'].shape"
   ]
  },
  {
   "cell_type": "code",
   "execution_count": 318,
   "metadata": {},
   "outputs": [
    {
     "data": {
      "text/plain": [
       "(2876,)"
      ]
     },
     "execution_count": 318,
     "metadata": {},
     "output_type": "execute_result"
    }
   ],
   "source": [
    "gm5d.loc[(gm5d['경제적타당성_조기폐차'] >= 0.5) & (gm5d['경제적타당성_조기폐차'] < 1), '경제적타당성_조기폐차'].shape"
   ]
  },
  {
   "cell_type": "code",
   "execution_count": 319,
   "metadata": {},
   "outputs": [
    {
     "data": {
      "text/plain": [
       "(4747,)"
      ]
     },
     "execution_count": 319,
     "metadata": {},
     "output_type": "execute_result"
    }
   ],
   "source": [
    "gm5d.loc[(gm5d['경제적타당성_조기폐차'] >= 1) & (gm5d['경제적타당성_조기폐차'] < 1.5), '경제적타당성_조기폐차'].shape"
   ]
  },
  {
   "cell_type": "code",
   "execution_count": 320,
   "metadata": {},
   "outputs": [
    {
     "data": {
      "text/plain": [
       "(629,)"
      ]
     },
     "execution_count": 320,
     "metadata": {},
     "output_type": "execute_result"
    }
   ],
   "source": [
    "gm5d.loc[(gm5d['경제적타당성_조기폐차'] >= 1.5) & (gm5d['경제적타당성_조기폐차'] < 2), '경제적타당성_조기폐차'].shape"
   ]
  },
  {
   "cell_type": "code",
   "execution_count": 321,
   "metadata": {},
   "outputs": [
    {
     "data": {
      "text/plain": [
       "(481,)"
      ]
     },
     "execution_count": 321,
     "metadata": {},
     "output_type": "execute_result"
    }
   ],
   "source": [
    "gm5d.loc[gm5d['경제적타당성_조기폐차'] >= 2, '경제적타당성_조기폐차'].shape"
   ]
  },
  {
   "cell_type": "code",
   "execution_count": 322,
   "metadata": {},
   "outputs": [
    {
     "data": {
      "text/plain": [
       "(104249,)"
      ]
     },
     "execution_count": 322,
     "metadata": {},
     "output_type": "execute_result"
    }
   ],
   "source": [
    "gm5d.loc[gm5d['경제적타당성_DPF'] < 0.5, '경제적타당성_DPF'].shape"
   ]
  },
  {
   "cell_type": "code",
   "execution_count": 323,
   "metadata": {},
   "outputs": [
    {
     "data": {
      "text/plain": [
       "(18950,)"
      ]
     },
     "execution_count": 323,
     "metadata": {},
     "output_type": "execute_result"
    }
   ],
   "source": [
    "gm5d.loc[(gm5d['경제적타당성_DPF'] >= 0.5) & (gm5d['경제적타당성_DPF'] < 1), '경제적타당성_DPF'].shape"
   ]
  },
  {
   "cell_type": "code",
   "execution_count": 324,
   "metadata": {},
   "outputs": [
    {
     "data": {
      "text/plain": [
       "(9249,)"
      ]
     },
     "execution_count": 324,
     "metadata": {},
     "output_type": "execute_result"
    }
   ],
   "source": [
    "gm5d.loc[(gm5d['경제적타당성_DPF'] >= 1) & (gm5d['경제적타당성_DPF'] < 1.5), '경제적타당성_DPF'].shape"
   ]
  },
  {
   "cell_type": "code",
   "execution_count": 325,
   "metadata": {},
   "outputs": [
    {
     "data": {
      "text/plain": [
       "(5871,)"
      ]
     },
     "execution_count": 325,
     "metadata": {},
     "output_type": "execute_result"
    }
   ],
   "source": [
    "gm5d.loc[(gm5d['경제적타당성_DPF'] >= 1.5) & (gm5d['경제적타당성_DPF'] < 2), '경제적타당성_DPF'].shape"
   ]
  },
  {
   "cell_type": "code",
   "execution_count": 326,
   "metadata": {},
   "outputs": [
    {
     "data": {
      "text/plain": [
       "(21459,)"
      ]
     },
     "execution_count": 326,
     "metadata": {},
     "output_type": "execute_result"
    }
   ],
   "source": [
    "gm5d.loc[gm5d['경제적타당성_DPF'] >= 2, '경제적타당성_DPF'].shape"
   ]
  },
  {
   "attachments": {},
   "cell_type": "markdown",
   "metadata": {},
   "source": [
    "#### 조기폐차 Y 경제적 타당성 수정\n",
    "- 조기폐차한 차량은 존재하지 않음으로 경제적 타당성이 없음."
   ]
  },
  {
   "cell_type": "code",
   "execution_count": 327,
   "metadata": {},
   "outputs": [
    {
     "data": {
      "text/plain": [
       "조기폐차최종승인YN\n",
       "NaN    1112295\n",
       "Y        13704\n",
       "Name: count, dtype: int64"
      ]
     },
     "execution_count": 327,
     "metadata": {},
     "output_type": "execute_result"
    }
   ],
   "source": [
    "gm5d['조기폐차최종승인YN'].value_counts(dropna=False)"
   ]
  },
  {
   "cell_type": "code",
   "execution_count": 328,
   "metadata": {},
   "outputs": [],
   "source": [
    "gm5d.loc[gm5d['조기폐차최종승인YN'] == 'Y', ['경제적타당성_조기폐차', '경제적타당성_DPF']] = np.nan, np.nan"
   ]
  },
  {
   "cell_type": "code",
   "execution_count": 329,
   "metadata": {},
   "outputs": [
    {
     "data": {
      "text/plain": [
       "(5857,)"
      ]
     },
     "execution_count": 329,
     "metadata": {},
     "output_type": "execute_result"
    }
   ],
   "source": [
    "gm5d.loc[gm5d['경제적타당성_조기폐차'] >= 1, '경제적타당성_조기폐차'].shape"
   ]
  },
  {
   "cell_type": "code",
   "execution_count": 330,
   "metadata": {},
   "outputs": [
    {
     "data": {
      "text/plain": [
       "(36579,)"
      ]
     },
     "execution_count": 330,
     "metadata": {},
     "output_type": "execute_result"
    }
   ],
   "source": [
    "gm5d.loc[gm5d['경제적타당성_DPF'] >= 1, '경제적타당성_DPF'].shape"
   ]
  },
  {
   "attachments": {},
   "cell_type": "markdown",
   "metadata": {},
   "source": [
    "### 마지막 검사부터 경과일"
   ]
  },
  {
   "cell_type": "code",
   "execution_count": 331,
   "metadata": {},
   "outputs": [
    {
     "data": {
      "text/plain": [
       "Index(['차량등록번호', '본거지법정동코드', '차대번호', '제원관리번호', '배출가스인증번호', '배출가스등급', '용도',\n",
       "       '차명', '차종', '차종유형', '연료', '배기량', '총중량', '차량연식', '조기폐차최종승인YN', '저감장치',\n",
       "       '장치일련번호', '저감효율', '연간주행거리', '최신경과기간', '시도', '시구군', '1일평균주행거리', '주행거리',\n",
       "       '검사일자', '검사방법', '검사종류', '검사판정', '무부하매연판정1', '무부하매연판정2', '무부하매연판정3',\n",
       "       '무부하매연측정치1', '무부하매연측정치2', '무부하매연측정치3', '비상시및계절제단속발령건수', '비상시및계절제단속발령YN',\n",
       "       '운행제한단속정보건수', '운행제한단속정보YN', '계절제1차단속YN', '계절제2차단속YN', '계절제3차단속YN',\n",
       "       '비상시단속YN', '연간배출량_조기폐차', '연간배출량_DPF', '장치구분', '연간환경이익_조기폐차',\n",
       "       '연간환경이익_DPF', '환경이익_조기폐차', '환경이익_DPF', '지원비용_조기폐차', '지원비용_DPF',\n",
       "       '경제적타당성_조기폐차', '경제적타당성_DPF'],\n",
       "      dtype='object')"
      ]
     },
     "execution_count": 331,
     "metadata": {},
     "output_type": "execute_result"
    }
   ],
   "source": [
    "gm5d.columns"
   ]
  },
  {
   "cell_type": "code",
   "execution_count": 332,
   "metadata": {},
   "outputs": [
    {
     "data": {
      "text/plain": [
       "0   374.00000\n",
       "1   773.00000\n",
       "2   442.00000\n",
       "3   329.00000\n",
       "4   240.00000\n",
       "Name: 최신경과기간, dtype: float64"
      ]
     },
     "execution_count": 332,
     "metadata": {},
     "output_type": "execute_result"
    }
   ],
   "source": [
    "gm5d['최신경과기간'].head()"
   ]
  },
  {
   "cell_type": "code",
   "execution_count": 333,
   "metadata": {},
   "outputs": [
    {
     "data": {
      "text/plain": [
       "(548362,)"
      ]
     },
     "execution_count": 333,
     "metadata": {},
     "output_type": "execute_result"
    }
   ],
   "source": [
    "gm5d.loc[gm5d['최신경과기간'] < 365*2, '최신경과기간'].shape"
   ]
  },
  {
   "attachments": {},
   "cell_type": "markdown",
   "metadata": {},
   "source": [
    "### 운행제한 이력여부"
   ]
  },
  {
   "cell_type": "code",
   "execution_count": 372,
   "metadata": {},
   "outputs": [
    {
     "data": {
      "text/plain": [
       "Index(['차량등록번호', '본거지법정동코드', '차대번호', '제원관리번호', '배출가스인증번호', '배출가스등급', '용도',\n",
       "       '차명', '차종', '차종유형', '연료', '배기량', '총중량', '차량연식', '조기폐차최종승인YN', '저감장치',\n",
       "       '장치일련번호', '저감효율', '연간주행거리', '최신경과기간', '시도', '시구군', '1일평균주행거리', '주행거리',\n",
       "       '검사일자', '검사방법', '검사종류', '검사판정', '무부하매연판정1', '무부하매연판정2', '무부하매연판정3',\n",
       "       '무부하매연측정치1', '무부하매연측정치2', '무부하매연측정치3', '비상시및계절제단속발령건수', '비상시및계절제단속발령YN',\n",
       "       '운행제한단속정보건수', '운행제한단속정보YN', '계절제1차단속YN', '계절제2차단속YN', '계절제3차단속YN',\n",
       "       '비상시단속YN'],\n",
       "      dtype='object')"
      ]
     },
     "execution_count": 372,
     "metadata": {},
     "output_type": "execute_result"
    }
   ],
   "source": [
    "gm5.columns"
   ]
  },
  {
   "cell_type": "code",
   "execution_count": 373,
   "metadata": {},
   "outputs": [
    {
     "data": {
      "text/plain": [
       "Index(['차량등록번호', '본거지법정동코드', '차대번호', '제원관리번호', '배출가스인증번호', '배출가스등급', '용도',\n",
       "       '차명', '차종', '차종유형', '연료', '배기량', '총중량', '차량연식', '조기폐차최종승인YN', '저감장치',\n",
       "       '장치일련번호', '저감효율', '연간주행거리', '최신경과기간', '시도', '시구군', '1일평균주행거리', '주행거리',\n",
       "       '검사일자', '검사방법', '검사종류', '검사판정', '무부하매연판정1', '무부하매연판정2', '무부하매연판정3',\n",
       "       '무부하매연측정치1', '무부하매연측정치2', '무부하매연측정치3', '비상시및계절제단속발령건수', '비상시및계절제단속발령YN',\n",
       "       '운행제한단속정보건수', '운행제한단속정보YN', '계절제1차단속YN', '계절제2차단속YN', '계절제3차단속YN',\n",
       "       '비상시단속YN', '연간배출량_조기폐차', '연간배출량_DPF', '장치구분', '연간환경이익_조기폐차',\n",
       "       '연간환경이익_DPF', '환경이익_조기폐차', '환경이익_DPF', '지원비용_조기폐차', '지원비용_DPF',\n",
       "       '경제적타당성_조기폐차', '경제적타당성_DPF'],\n",
       "      dtype='object')"
      ]
     },
     "execution_count": 373,
     "metadata": {},
     "output_type": "execute_result"
    }
   ],
   "source": [
    "gm5d.columns"
   ]
  },
  {
   "cell_type": "code",
   "execution_count": 374,
   "metadata": {},
   "outputs": [
    {
     "data": {
      "text/html": [
       "<div>\n",
       "<style scoped>\n",
       "    .dataframe tbody tr th:only-of-type {\n",
       "        vertical-align: middle;\n",
       "    }\n",
       "\n",
       "    .dataframe tbody tr th {\n",
       "        vertical-align: top;\n",
       "    }\n",
       "\n",
       "    .dataframe thead th {\n",
       "        text-align: right;\n",
       "    }\n",
       "</style>\n",
       "<table border=\"1\" class=\"dataframe\">\n",
       "  <thead>\n",
       "    <tr style=\"text-align: right;\">\n",
       "      <th></th>\n",
       "      <th>차량등록번호</th>\n",
       "      <th>시도</th>\n",
       "      <th>시구군</th>\n",
       "      <th>경제적타당성_조기폐차</th>\n",
       "      <th>경제적타당성_DPF</th>\n",
       "      <th>운행제한단속정보YN</th>\n",
       "    </tr>\n",
       "  </thead>\n",
       "  <tbody>\n",
       "    <tr>\n",
       "      <th>9108</th>\n",
       "      <td>84주2720</td>\n",
       "      <td>경상남도</td>\n",
       "      <td>창원시</td>\n",
       "      <td>2.60406</td>\n",
       "      <td>NaN</td>\n",
       "      <td>NaN</td>\n",
       "    </tr>\n",
       "    <tr>\n",
       "      <th>17297</th>\n",
       "      <td>충남80가6117</td>\n",
       "      <td>충청남도</td>\n",
       "      <td>아산시</td>\n",
       "      <td>1.16218</td>\n",
       "      <td>105281.30499</td>\n",
       "      <td>NaN</td>\n",
       "    </tr>\n",
       "    <tr>\n",
       "      <th>58109</th>\n",
       "      <td>57로5519</td>\n",
       "      <td>경기도</td>\n",
       "      <td>파주시</td>\n",
       "      <td>1.15460</td>\n",
       "      <td>NaN</td>\n",
       "      <td>NaN</td>\n",
       "    </tr>\n",
       "    <tr>\n",
       "      <th>75664</th>\n",
       "      <td>74로5125</td>\n",
       "      <td>대전광역시</td>\n",
       "      <td>유성구</td>\n",
       "      <td>1.11411</td>\n",
       "      <td>11543.88800</td>\n",
       "      <td>NaN</td>\n",
       "    </tr>\n",
       "    <tr>\n",
       "      <th>77858</th>\n",
       "      <td>03노1666</td>\n",
       "      <td>서울특별시</td>\n",
       "      <td>관악구</td>\n",
       "      <td>1.92619</td>\n",
       "      <td>20064.60208</td>\n",
       "      <td>Y</td>\n",
       "    </tr>\n",
       "  </tbody>\n",
       "</table>\n",
       "</div>"
      ],
      "text/plain": [
       "          차량등록번호     시도  시구군  경제적타당성_조기폐차   경제적타당성_DPF 운행제한단속정보YN\n",
       "9108     84주2720   경상남도  창원시      2.60406          NaN        NaN\n",
       "17297  충남80가6117   충청남도  아산시      1.16218 105281.30499        NaN\n",
       "58109    57로5519    경기도  파주시      1.15460          NaN        NaN\n",
       "75664    74로5125  대전광역시  유성구      1.11411  11543.88800        NaN\n",
       "77858    03노1666  서울특별시  관악구      1.92619  20064.60208          Y"
      ]
     },
     "execution_count": 374,
     "metadata": {},
     "output_type": "execute_result"
    }
   ],
   "source": [
    "gm5d.loc[(gm5d['경제적타당성_조기폐차'] >= 1) & (gm5d['경제적타당성_조기폐차'] < 3), ['차량등록번호', '시도', '시구군', '경제적타당성_조기폐차', '경제적타당성_DPF', '운행제한단속정보YN']].head()"
   ]
  },
  {
   "attachments": {},
   "cell_type": "markdown",
   "metadata": {},
   "source": [
    "### 5등급 경유 지역별 경제적 타당성 평가 1점이상 차량"
   ]
  },
  {
   "cell_type": "code",
   "execution_count": 375,
   "metadata": {},
   "outputs": [
    {
     "data": {
      "text/html": [
       "<div>\n",
       "<style scoped>\n",
       "    .dataframe tbody tr th:only-of-type {\n",
       "        vertical-align: middle;\n",
       "    }\n",
       "\n",
       "    .dataframe tbody tr th {\n",
       "        vertical-align: top;\n",
       "    }\n",
       "\n",
       "    .dataframe thead th {\n",
       "        text-align: right;\n",
       "    }\n",
       "</style>\n",
       "<table border=\"1\" class=\"dataframe\">\n",
       "  <thead>\n",
       "    <tr style=\"text-align: right;\">\n",
       "      <th></th>\n",
       "      <th>시도</th>\n",
       "      <th>차대번호</th>\n",
       "    </tr>\n",
       "  </thead>\n",
       "  <tbody>\n",
       "    <tr>\n",
       "      <th>0</th>\n",
       "      <td>강원도</td>\n",
       "      <td>31</td>\n",
       "    </tr>\n",
       "    <tr>\n",
       "      <th>1</th>\n",
       "      <td>경기도</td>\n",
       "      <td>1920</td>\n",
       "    </tr>\n",
       "    <tr>\n",
       "      <th>2</th>\n",
       "      <td>경상남도</td>\n",
       "      <td>463</td>\n",
       "    </tr>\n",
       "    <tr>\n",
       "      <th>3</th>\n",
       "      <td>경상북도</td>\n",
       "      <td>240</td>\n",
       "    </tr>\n",
       "    <tr>\n",
       "      <th>4</th>\n",
       "      <td>광주광역시</td>\n",
       "      <td>133</td>\n",
       "    </tr>\n",
       "    <tr>\n",
       "      <th>5</th>\n",
       "      <td>대구광역시</td>\n",
       "      <td>124</td>\n",
       "    </tr>\n",
       "    <tr>\n",
       "      <th>6</th>\n",
       "      <td>대전광역시</td>\n",
       "      <td>300</td>\n",
       "    </tr>\n",
       "    <tr>\n",
       "      <th>7</th>\n",
       "      <td>부산광역시</td>\n",
       "      <td>162</td>\n",
       "    </tr>\n",
       "    <tr>\n",
       "      <th>8</th>\n",
       "      <td>서울특별시</td>\n",
       "      <td>931</td>\n",
       "    </tr>\n",
       "    <tr>\n",
       "      <th>9</th>\n",
       "      <td>세종특별자치시</td>\n",
       "      <td>43</td>\n",
       "    </tr>\n",
       "    <tr>\n",
       "      <th>10</th>\n",
       "      <td>울산광역시</td>\n",
       "      <td>157</td>\n",
       "    </tr>\n",
       "    <tr>\n",
       "      <th>11</th>\n",
       "      <td>인천광역시</td>\n",
       "      <td>435</td>\n",
       "    </tr>\n",
       "    <tr>\n",
       "      <th>12</th>\n",
       "      <td>전라남도</td>\n",
       "      <td>147</td>\n",
       "    </tr>\n",
       "    <tr>\n",
       "      <th>13</th>\n",
       "      <td>전라북도</td>\n",
       "      <td>171</td>\n",
       "    </tr>\n",
       "    <tr>\n",
       "      <th>14</th>\n",
       "      <td>제주특별자치도</td>\n",
       "      <td>13</td>\n",
       "    </tr>\n",
       "    <tr>\n",
       "      <th>15</th>\n",
       "      <td>충청남도</td>\n",
       "      <td>410</td>\n",
       "    </tr>\n",
       "    <tr>\n",
       "      <th>16</th>\n",
       "      <td>충청북도</td>\n",
       "      <td>177</td>\n",
       "    </tr>\n",
       "  </tbody>\n",
       "</table>\n",
       "</div>"
      ],
      "text/plain": [
       "         시도  차대번호\n",
       "0       강원도    31\n",
       "1       경기도  1920\n",
       "2      경상남도   463\n",
       "3      경상북도   240\n",
       "4     광주광역시   133\n",
       "5     대구광역시   124\n",
       "6     대전광역시   300\n",
       "7     부산광역시   162\n",
       "8     서울특별시   931\n",
       "9   세종특별자치시    43\n",
       "10    울산광역시   157\n",
       "11    인천광역시   435\n",
       "12     전라남도   147\n",
       "13     전라북도   171\n",
       "14  제주특별자치도    13\n",
       "15     충청남도   410\n",
       "16     충청북도   177"
      ]
     },
     "execution_count": 375,
     "metadata": {},
     "output_type": "execute_result"
    }
   ],
   "source": [
    "gm5d.loc[gm5d['경제적타당성_조기폐차'] >= 1].groupby('시도')['차대번호'].count().reset_index()"
   ]
  },
  {
   "cell_type": "code",
   "execution_count": 376,
   "metadata": {},
   "outputs": [],
   "source": [
    "# gm5d.loc[gm5d['경제적타당성_조기폐차'] >= 1].groupby('시도')['차대번호'].count().reset_index().to_excel(os.path.join(analysis_fold, '통계_5등급_경유_지역별_경제적타당성1점이상_차량현황.xlsx'), index=False)"
   ]
  },
  {
   "attachments": {},
   "cell_type": "markdown",
   "metadata": {},
   "source": [
    "### 5등급 경유 지역별 최신검사 경과기간 3년이상 차량"
   ]
  },
  {
   "cell_type": "code",
   "execution_count": 377,
   "metadata": {},
   "outputs": [
    {
     "data": {
      "text/html": [
       "<div>\n",
       "<style scoped>\n",
       "    .dataframe tbody tr th:only-of-type {\n",
       "        vertical-align: middle;\n",
       "    }\n",
       "\n",
       "    .dataframe tbody tr th {\n",
       "        vertical-align: top;\n",
       "    }\n",
       "\n",
       "    .dataframe thead th {\n",
       "        text-align: right;\n",
       "    }\n",
       "</style>\n",
       "<table border=\"1\" class=\"dataframe\">\n",
       "  <thead>\n",
       "    <tr style=\"text-align: right;\">\n",
       "      <th></th>\n",
       "      <th>시도</th>\n",
       "      <th>차대번호</th>\n",
       "    </tr>\n",
       "  </thead>\n",
       "  <tbody>\n",
       "    <tr>\n",
       "      <th>0</th>\n",
       "      <td>강원도</td>\n",
       "      <td>291</td>\n",
       "    </tr>\n",
       "    <tr>\n",
       "      <th>1</th>\n",
       "      <td>경기도</td>\n",
       "      <td>4216</td>\n",
       "    </tr>\n",
       "    <tr>\n",
       "      <th>2</th>\n",
       "      <td>경상남도</td>\n",
       "      <td>733</td>\n",
       "    </tr>\n",
       "    <tr>\n",
       "      <th>3</th>\n",
       "      <td>경상북도</td>\n",
       "      <td>926</td>\n",
       "    </tr>\n",
       "    <tr>\n",
       "      <th>4</th>\n",
       "      <td>광주광역시</td>\n",
       "      <td>229</td>\n",
       "    </tr>\n",
       "    <tr>\n",
       "      <th>5</th>\n",
       "      <td>대구광역시</td>\n",
       "      <td>568</td>\n",
       "    </tr>\n",
       "    <tr>\n",
       "      <th>6</th>\n",
       "      <td>대전광역시</td>\n",
       "      <td>348</td>\n",
       "    </tr>\n",
       "    <tr>\n",
       "      <th>7</th>\n",
       "      <td>부산광역시</td>\n",
       "      <td>477</td>\n",
       "    </tr>\n",
       "    <tr>\n",
       "      <th>8</th>\n",
       "      <td>서울특별시</td>\n",
       "      <td>1697</td>\n",
       "    </tr>\n",
       "    <tr>\n",
       "      <th>9</th>\n",
       "      <td>세종특별자치시</td>\n",
       "      <td>70</td>\n",
       "    </tr>\n",
       "    <tr>\n",
       "      <th>10</th>\n",
       "      <td>울산광역시</td>\n",
       "      <td>232</td>\n",
       "    </tr>\n",
       "    <tr>\n",
       "      <th>11</th>\n",
       "      <td>인천광역시</td>\n",
       "      <td>770</td>\n",
       "    </tr>\n",
       "    <tr>\n",
       "      <th>12</th>\n",
       "      <td>전라남도</td>\n",
       "      <td>704</td>\n",
       "    </tr>\n",
       "    <tr>\n",
       "      <th>13</th>\n",
       "      <td>전라북도</td>\n",
       "      <td>449</td>\n",
       "    </tr>\n",
       "    <tr>\n",
       "      <th>14</th>\n",
       "      <td>제주특별자치도</td>\n",
       "      <td>86</td>\n",
       "    </tr>\n",
       "    <tr>\n",
       "      <th>15</th>\n",
       "      <td>충청남도</td>\n",
       "      <td>989</td>\n",
       "    </tr>\n",
       "    <tr>\n",
       "      <th>16</th>\n",
       "      <td>충청북도</td>\n",
       "      <td>732</td>\n",
       "    </tr>\n",
       "  </tbody>\n",
       "</table>\n",
       "</div>"
      ],
      "text/plain": [
       "         시도  차대번호\n",
       "0       강원도   291\n",
       "1       경기도  4216\n",
       "2      경상남도   733\n",
       "3      경상북도   926\n",
       "4     광주광역시   229\n",
       "5     대구광역시   568\n",
       "6     대전광역시   348\n",
       "7     부산광역시   477\n",
       "8     서울특별시  1697\n",
       "9   세종특별자치시    70\n",
       "10    울산광역시   232\n",
       "11    인천광역시   770\n",
       "12     전라남도   704\n",
       "13     전라북도   449\n",
       "14  제주특별자치도    86\n",
       "15     충청남도   989\n",
       "16     충청북도   732"
      ]
     },
     "execution_count": 377,
     "metadata": {},
     "output_type": "execute_result"
    }
   ],
   "source": [
    "gm5d.loc[gm5d['최신경과기간'] >= 365*3].groupby('시도')['차대번호'].count().reset_index()"
   ]
  },
  {
   "cell_type": "code",
   "execution_count": 378,
   "metadata": {},
   "outputs": [],
   "source": [
    "# gm5d.loc[gm5d['최신경과기간'] >= 365*3].groupby('시도')['차대번호'].count().reset_index().to_excel(os.path.join(analysis_fold, '통계_5등급_경유_지역별_최신검사경과기간3년이상_차량현황.xlsx'), index=False)"
   ]
  },
  {
   "attachments": {},
   "cell_type": "markdown",
   "metadata": {},
   "source": [
    "### 5등급 경유차 지역별 운행제한 현황"
   ]
  },
  {
   "cell_type": "code",
   "execution_count": 379,
   "metadata": {},
   "outputs": [
    {
     "data": {
      "text/html": [
       "<div>\n",
       "<style scoped>\n",
       "    .dataframe tbody tr th:only-of-type {\n",
       "        vertical-align: middle;\n",
       "    }\n",
       "\n",
       "    .dataframe tbody tr th {\n",
       "        vertical-align: top;\n",
       "    }\n",
       "\n",
       "    .dataframe thead th {\n",
       "        text-align: right;\n",
       "    }\n",
       "</style>\n",
       "<table border=\"1\" class=\"dataframe\">\n",
       "  <thead>\n",
       "    <tr style=\"text-align: right;\">\n",
       "      <th></th>\n",
       "      <th>시도</th>\n",
       "      <th>차대번호</th>\n",
       "    </tr>\n",
       "  </thead>\n",
       "  <tbody>\n",
       "    <tr>\n",
       "      <th>0</th>\n",
       "      <td>강원도</td>\n",
       "      <td>883</td>\n",
       "    </tr>\n",
       "    <tr>\n",
       "      <th>1</th>\n",
       "      <td>경기도</td>\n",
       "      <td>9809</td>\n",
       "    </tr>\n",
       "    <tr>\n",
       "      <th>2</th>\n",
       "      <td>경상남도</td>\n",
       "      <td>1107</td>\n",
       "    </tr>\n",
       "    <tr>\n",
       "      <th>3</th>\n",
       "      <td>경상북도</td>\n",
       "      <td>1284</td>\n",
       "    </tr>\n",
       "    <tr>\n",
       "      <th>4</th>\n",
       "      <td>광주광역시</td>\n",
       "      <td>417</td>\n",
       "    </tr>\n",
       "    <tr>\n",
       "      <th>5</th>\n",
       "      <td>대구광역시</td>\n",
       "      <td>543</td>\n",
       "    </tr>\n",
       "    <tr>\n",
       "      <th>6</th>\n",
       "      <td>대전광역시</td>\n",
       "      <td>588</td>\n",
       "    </tr>\n",
       "    <tr>\n",
       "      <th>7</th>\n",
       "      <td>부산광역시</td>\n",
       "      <td>1002</td>\n",
       "    </tr>\n",
       "    <tr>\n",
       "      <th>8</th>\n",
       "      <td>서울특별시</td>\n",
       "      <td>23746</td>\n",
       "    </tr>\n",
       "    <tr>\n",
       "      <th>9</th>\n",
       "      <td>세종특별자치시</td>\n",
       "      <td>95</td>\n",
       "    </tr>\n",
       "    <tr>\n",
       "      <th>10</th>\n",
       "      <td>울산광역시</td>\n",
       "      <td>287</td>\n",
       "    </tr>\n",
       "    <tr>\n",
       "      <th>11</th>\n",
       "      <td>인천광역시</td>\n",
       "      <td>5211</td>\n",
       "    </tr>\n",
       "    <tr>\n",
       "      <th>12</th>\n",
       "      <td>전라남도</td>\n",
       "      <td>1007</td>\n",
       "    </tr>\n",
       "    <tr>\n",
       "      <th>13</th>\n",
       "      <td>전라북도</td>\n",
       "      <td>1042</td>\n",
       "    </tr>\n",
       "    <tr>\n",
       "      <th>14</th>\n",
       "      <td>제주특별자치도</td>\n",
       "      <td>130</td>\n",
       "    </tr>\n",
       "    <tr>\n",
       "      <th>15</th>\n",
       "      <td>충청남도</td>\n",
       "      <td>1237</td>\n",
       "    </tr>\n",
       "    <tr>\n",
       "      <th>16</th>\n",
       "      <td>충청북도</td>\n",
       "      <td>877</td>\n",
       "    </tr>\n",
       "  </tbody>\n",
       "</table>\n",
       "</div>"
      ],
      "text/plain": [
       "         시도   차대번호\n",
       "0       강원도    883\n",
       "1       경기도   9809\n",
       "2      경상남도   1107\n",
       "3      경상북도   1284\n",
       "4     광주광역시    417\n",
       "5     대구광역시    543\n",
       "6     대전광역시    588\n",
       "7     부산광역시   1002\n",
       "8     서울특별시  23746\n",
       "9   세종특별자치시     95\n",
       "10    울산광역시    287\n",
       "11    인천광역시   5211\n",
       "12     전라남도   1007\n",
       "13     전라북도   1042\n",
       "14  제주특별자치도    130\n",
       "15     충청남도   1237\n",
       "16     충청북도    877"
      ]
     },
     "execution_count": 379,
     "metadata": {},
     "output_type": "execute_result"
    }
   ],
   "source": [
    "gm5d.loc[gm5d['운행제한단속정보YN'] == 'Y'].groupby('시도')['차대번호'].count().reset_index()"
   ]
  },
  {
   "cell_type": "code",
   "execution_count": 380,
   "metadata": {},
   "outputs": [],
   "source": [
    "# gm5d.loc[gm5d['운행제한단속정보YN'] == 'Y'].groupby('시도')['차대번호'].count().reset_index().to_excel(os.path.join(analysis_fold, '통계_5등급_경유_지역별_운행제한_차량현황.xlsx'), index=False)"
   ]
  },
  {
   "cell_type": "code",
   "execution_count": 381,
   "metadata": {},
   "outputs": [
    {
     "data": {
      "text/plain": [
       "Index(['차량등록번호', '본거지법정동코드', '차대번호', '제원관리번호', '배출가스인증번호', '배출가스등급', '용도',\n",
       "       '차명', '차종', '차종유형', '연료', '배기량', '총중량', '차량연식', '조기폐차최종승인YN', '저감장치',\n",
       "       '장치일련번호', '저감효율', '연간주행거리', '최신경과기간', '시도', '시구군', '1일평균주행거리', '주행거리',\n",
       "       '검사일자', '검사방법', '검사종류', '검사판정', '무부하매연판정1', '무부하매연판정2', '무부하매연판정3',\n",
       "       '무부하매연측정치1', '무부하매연측정치2', '무부하매연측정치3', '비상시및계절제단속발령건수', '비상시및계절제단속발령YN',\n",
       "       '운행제한단속정보건수', '운행제한단속정보YN', '계절제1차단속YN', '계절제2차단속YN', '계절제3차단속YN',\n",
       "       '비상시단속YN', '연간배출량_조기폐차', '연간배출량_DPF', '장치구분', '연간환경이익_조기폐차',\n",
       "       '연간환경이익_DPF', '환경이익_조기폐차', '환경이익_DPF', '지원비용_조기폐차', '지원비용_DPF',\n",
       "       '경제적타당성_조기폐차', '경제적타당성_DPF'],\n",
       "      dtype='object')"
      ]
     },
     "execution_count": 381,
     "metadata": {},
     "output_type": "execute_result"
    }
   ],
   "source": [
    "gm5d.columns"
   ]
  },
  {
   "cell_type": "code",
   "execution_count": 382,
   "metadata": {},
   "outputs": [
    {
     "data": {
      "text/plain": [
       "Index(['차량등록번호', '본거지법정동코드', '차대번호', '제원관리번호', '배출가스인증번호', '배출가스등급', '용도',\n",
       "       '차명', '차종', '차종유형', '연료', '배기량', '총중량', '차량연식', '조기폐차최종승인YN', '저감장치',\n",
       "       '장치일련번호', '저감효율', '연간주행거리', '최신경과기간', '시도', '시구군', '1일평균주행거리', '주행거리',\n",
       "       '검사일자', '검사방법', '검사종류', '검사판정', '무부하매연판정1', '무부하매연판정2', '무부하매연판정3',\n",
       "       '무부하매연측정치1', '무부하매연측정치2', '무부하매연측정치3', '비상시및계절제단속발령건수', '비상시및계절제단속발령YN',\n",
       "       '운행제한단속정보건수', '운행제한단속정보YN', '계절제1차단속YN', '계절제2차단속YN', '계절제3차단속YN',\n",
       "       '비상시단속YN'],\n",
       "      dtype='object')"
      ]
     },
     "execution_count": 382,
     "metadata": {},
     "output_type": "execute_result"
    }
   ],
   "source": [
    "gm5r.columns"
   ]
  },
  {
   "cell_type": "code",
   "execution_count": 383,
   "metadata": {},
   "outputs": [
    {
     "data": {
      "text/plain": [
       "(1156523, 42)"
      ]
     },
     "execution_count": 383,
     "metadata": {},
     "output_type": "execute_result"
    }
   ],
   "source": [
    "gm5.shape"
   ]
  },
  {
   "cell_type": "code",
   "execution_count": 384,
   "metadata": {},
   "outputs": [
    {
     "data": {
      "text/plain": [
       "(1156523, 53)"
      ]
     },
     "execution_count": 384,
     "metadata": {},
     "output_type": "execute_result"
    }
   ],
   "source": [
    "gt5 = pd.concat([gm5d, gm5r], ignore_index=True)\n",
    "gt5.shape"
   ]
  },
  {
   "cell_type": "code",
   "execution_count": 385,
   "metadata": {},
   "outputs": [
    {
     "data": {
      "text/plain": [
       "Index(['차량등록번호', '본거지법정동코드', '차대번호', '제원관리번호', '배출가스인증번호', '배출가스등급', '용도',\n",
       "       '차명', '차종', '차종유형', '연료', '배기량', '총중량', '차량연식', '조기폐차최종승인YN', '저감장치',\n",
       "       '장치일련번호', '저감효율', '연간주행거리', '최신경과기간', '시도', '시구군', '1일평균주행거리', '주행거리',\n",
       "       '검사일자', '검사방법', '검사종류', '검사판정', '무부하매연판정1', '무부하매연판정2', '무부하매연판정3',\n",
       "       '무부하매연측정치1', '무부하매연측정치2', '무부하매연측정치3', '비상시및계절제단속발령건수', '비상시및계절제단속발령YN',\n",
       "       '운행제한단속정보건수', '운행제한단속정보YN', '계절제1차단속YN', '계절제2차단속YN', '계절제3차단속YN',\n",
       "       '비상시단속YN', '연간배출량_조기폐차', '연간배출량_DPF', '장치구분', '연간환경이익_조기폐차',\n",
       "       '연간환경이익_DPF', '환경이익_조기폐차', '환경이익_DPF', '지원비용_조기폐차', '지원비용_DPF',\n",
       "       '경제적타당성_조기폐차', '경제적타당성_DPF'],\n",
       "      dtype='object')"
      ]
     },
     "execution_count": 385,
     "metadata": {},
     "output_type": "execute_result"
    }
   ],
   "source": [
    "gt5.columns"
   ]
  },
  {
   "attachments": {},
   "cell_type": "markdown",
   "metadata": {},
   "source": [
    "### 5등급 지역별 운행제한 현황"
   ]
  },
  {
   "cell_type": "code",
   "execution_count": 386,
   "metadata": {},
   "outputs": [
    {
     "data": {
      "text/html": [
       "<div>\n",
       "<style scoped>\n",
       "    .dataframe tbody tr th:only-of-type {\n",
       "        vertical-align: middle;\n",
       "    }\n",
       "\n",
       "    .dataframe tbody tr th {\n",
       "        vertical-align: top;\n",
       "    }\n",
       "\n",
       "    .dataframe thead th {\n",
       "        text-align: right;\n",
       "    }\n",
       "</style>\n",
       "<table border=\"1\" class=\"dataframe\">\n",
       "  <thead>\n",
       "    <tr style=\"text-align: right;\">\n",
       "      <th></th>\n",
       "      <th>시도</th>\n",
       "      <th>차대번호</th>\n",
       "    </tr>\n",
       "  </thead>\n",
       "  <tbody>\n",
       "    <tr>\n",
       "      <th>0</th>\n",
       "      <td>강원도</td>\n",
       "      <td>883</td>\n",
       "    </tr>\n",
       "    <tr>\n",
       "      <th>1</th>\n",
       "      <td>경기도</td>\n",
       "      <td>9809</td>\n",
       "    </tr>\n",
       "    <tr>\n",
       "      <th>2</th>\n",
       "      <td>경상남도</td>\n",
       "      <td>1107</td>\n",
       "    </tr>\n",
       "    <tr>\n",
       "      <th>3</th>\n",
       "      <td>경상북도</td>\n",
       "      <td>1284</td>\n",
       "    </tr>\n",
       "    <tr>\n",
       "      <th>4</th>\n",
       "      <td>광주광역시</td>\n",
       "      <td>417</td>\n",
       "    </tr>\n",
       "    <tr>\n",
       "      <th>5</th>\n",
       "      <td>대구광역시</td>\n",
       "      <td>543</td>\n",
       "    </tr>\n",
       "    <tr>\n",
       "      <th>6</th>\n",
       "      <td>대전광역시</td>\n",
       "      <td>588</td>\n",
       "    </tr>\n",
       "    <tr>\n",
       "      <th>7</th>\n",
       "      <td>부산광역시</td>\n",
       "      <td>1002</td>\n",
       "    </tr>\n",
       "    <tr>\n",
       "      <th>8</th>\n",
       "      <td>서울특별시</td>\n",
       "      <td>23746</td>\n",
       "    </tr>\n",
       "    <tr>\n",
       "      <th>9</th>\n",
       "      <td>세종특별자치시</td>\n",
       "      <td>95</td>\n",
       "    </tr>\n",
       "    <tr>\n",
       "      <th>10</th>\n",
       "      <td>울산광역시</td>\n",
       "      <td>287</td>\n",
       "    </tr>\n",
       "    <tr>\n",
       "      <th>11</th>\n",
       "      <td>인천광역시</td>\n",
       "      <td>5211</td>\n",
       "    </tr>\n",
       "    <tr>\n",
       "      <th>12</th>\n",
       "      <td>전라남도</td>\n",
       "      <td>1007</td>\n",
       "    </tr>\n",
       "    <tr>\n",
       "      <th>13</th>\n",
       "      <td>전라북도</td>\n",
       "      <td>1042</td>\n",
       "    </tr>\n",
       "    <tr>\n",
       "      <th>14</th>\n",
       "      <td>제주특별자치도</td>\n",
       "      <td>130</td>\n",
       "    </tr>\n",
       "    <tr>\n",
       "      <th>15</th>\n",
       "      <td>충청남도</td>\n",
       "      <td>1237</td>\n",
       "    </tr>\n",
       "    <tr>\n",
       "      <th>16</th>\n",
       "      <td>충청북도</td>\n",
       "      <td>877</td>\n",
       "    </tr>\n",
       "  </tbody>\n",
       "</table>\n",
       "</div>"
      ],
      "text/plain": [
       "         시도   차대번호\n",
       "0       강원도    883\n",
       "1       경기도   9809\n",
       "2      경상남도   1107\n",
       "3      경상북도   1284\n",
       "4     광주광역시    417\n",
       "5     대구광역시    543\n",
       "6     대전광역시    588\n",
       "7     부산광역시   1002\n",
       "8     서울특별시  23746\n",
       "9   세종특별자치시     95\n",
       "10    울산광역시    287\n",
       "11    인천광역시   5211\n",
       "12     전라남도   1007\n",
       "13     전라북도   1042\n",
       "14  제주특별자치도    130\n",
       "15     충청남도   1237\n",
       "16     충청북도    877"
      ]
     },
     "execution_count": 386,
     "metadata": {},
     "output_type": "execute_result"
    }
   ],
   "source": [
    "gt5.loc[gt5['운행제한단속정보YN'] == 'Y'].groupby('시도')['차대번호'].count().reset_index()"
   ]
  },
  {
   "cell_type": "code",
   "execution_count": 387,
   "metadata": {},
   "outputs": [],
   "source": [
    "# # excel\n",
    "# gm5.loc[gm5['운행제한단속정보YN'] == 'Y'].groupby('시도')['차대번호'].count().reset_index().to_excel(os.path.join(analysis_fold, '통계_5등급_지역별_운행제한현황.xlsx'), index=False)"
   ]
  },
  {
   "cell_type": "code",
   "execution_count": 388,
   "metadata": {},
   "outputs": [
    {
     "data": {
      "text/plain": [
       "Index(['차량등록번호', '본거지법정동코드', '차대번호', '제원관리번호', '배출가스인증번호', '배출가스등급', '용도',\n",
       "       '차명', '차종', '차종유형', '연료', '배기량', '총중량', '차량연식', '조기폐차최종승인YN', '저감장치',\n",
       "       '장치일련번호', '저감효율', '연간주행거리', '최신경과기간', '시도', '시구군', '1일평균주행거리', '주행거리',\n",
       "       '검사일자', '검사방법', '검사종류', '검사판정', '무부하매연판정1', '무부하매연판정2', '무부하매연판정3',\n",
       "       '무부하매연측정치1', '무부하매연측정치2', '무부하매연측정치3', '비상시및계절제단속발령건수', '비상시및계절제단속발령YN',\n",
       "       '운행제한단속정보건수', '운행제한단속정보YN', '계절제1차단속YN', '계절제2차단속YN', '계절제3차단속YN',\n",
       "       '비상시단속YN'],\n",
       "      dtype='object')"
      ]
     },
     "execution_count": 388,
     "metadata": {},
     "output_type": "execute_result"
    }
   ],
   "source": [
    "gm5.columns"
   ]
  },
  {
   "attachments": {},
   "cell_type": "markdown",
   "metadata": {},
   "source": [
    "### 5등급 지역별 우선차량 선별 샘플"
   ]
  },
  {
   "cell_type": "code",
   "execution_count": 389,
   "metadata": {},
   "outputs": [
    {
     "data": {
      "text/plain": [
       "Index(['차량등록번호', '본거지법정동코드', '차대번호', '제원관리번호', '배출가스인증번호', '배출가스등급', '용도',\n",
       "       '차명', '차종', '차종유형', '연료', '배기량', '총중량', '차량연식', '조기폐차최종승인YN', '저감장치',\n",
       "       '장치일련번호', '저감효율', '연간주행거리', '최신경과기간', '시도', '시구군', '1일평균주행거리', '주행거리',\n",
       "       '검사일자', '검사방법', '검사종류', '검사판정', '무부하매연판정1', '무부하매연판정2', '무부하매연판정3',\n",
       "       '무부하매연측정치1', '무부하매연측정치2', '무부하매연측정치3', '비상시및계절제단속발령건수', '비상시및계절제단속발령YN',\n",
       "       '운행제한단속정보건수', '운행제한단속정보YN', '계절제1차단속YN', '계절제2차단속YN', '계절제3차단속YN',\n",
       "       '비상시단속YN', '연간배출량_조기폐차', '연간배출량_DPF', '장치구분', '연간환경이익_조기폐차',\n",
       "       '연간환경이익_DPF', '환경이익_조기폐차', '환경이익_DPF', '지원비용_조기폐차', '지원비용_DPF',\n",
       "       '경제적타당성_조기폐차', '경제적타당성_DPF'],\n",
       "      dtype='object')"
      ]
     },
     "execution_count": 389,
     "metadata": {},
     "output_type": "execute_result"
    }
   ],
   "source": [
    "gm5d.columns"
   ]
  },
  {
   "cell_type": "code",
   "execution_count": 390,
   "metadata": {},
   "outputs": [
    {
     "data": {
      "text/html": [
       "<div>\n",
       "<style scoped>\n",
       "    .dataframe tbody tr th:only-of-type {\n",
       "        vertical-align: middle;\n",
       "    }\n",
       "\n",
       "    .dataframe tbody tr th {\n",
       "        vertical-align: top;\n",
       "    }\n",
       "\n",
       "    .dataframe thead th {\n",
       "        text-align: right;\n",
       "    }\n",
       "</style>\n",
       "<table border=\"1\" class=\"dataframe\">\n",
       "  <thead>\n",
       "    <tr style=\"text-align: right;\">\n",
       "      <th></th>\n",
       "      <th>시도</th>\n",
       "      <th>차대번호</th>\n",
       "    </tr>\n",
       "  </thead>\n",
       "  <tbody>\n",
       "    <tr>\n",
       "      <th>0</th>\n",
       "      <td>강원도</td>\n",
       "      <td>1</td>\n",
       "    </tr>\n",
       "    <tr>\n",
       "      <th>1</th>\n",
       "      <td>경기도</td>\n",
       "      <td>18</td>\n",
       "    </tr>\n",
       "    <tr>\n",
       "      <th>2</th>\n",
       "      <td>경상북도</td>\n",
       "      <td>4</td>\n",
       "    </tr>\n",
       "    <tr>\n",
       "      <th>3</th>\n",
       "      <td>대구광역시</td>\n",
       "      <td>3</td>\n",
       "    </tr>\n",
       "    <tr>\n",
       "      <th>4</th>\n",
       "      <td>대전광역시</td>\n",
       "      <td>2</td>\n",
       "    </tr>\n",
       "    <tr>\n",
       "      <th>5</th>\n",
       "      <td>부산광역시</td>\n",
       "      <td>1</td>\n",
       "    </tr>\n",
       "    <tr>\n",
       "      <th>6</th>\n",
       "      <td>서울특별시</td>\n",
       "      <td>31</td>\n",
       "    </tr>\n",
       "    <tr>\n",
       "      <th>7</th>\n",
       "      <td>세종특별자치시</td>\n",
       "      <td>1</td>\n",
       "    </tr>\n",
       "    <tr>\n",
       "      <th>8</th>\n",
       "      <td>인천광역시</td>\n",
       "      <td>28</td>\n",
       "    </tr>\n",
       "    <tr>\n",
       "      <th>9</th>\n",
       "      <td>전라남도</td>\n",
       "      <td>2</td>\n",
       "    </tr>\n",
       "    <tr>\n",
       "      <th>10</th>\n",
       "      <td>전라북도</td>\n",
       "      <td>2</td>\n",
       "    </tr>\n",
       "    <tr>\n",
       "      <th>11</th>\n",
       "      <td>충청남도</td>\n",
       "      <td>4</td>\n",
       "    </tr>\n",
       "    <tr>\n",
       "      <th>12</th>\n",
       "      <td>충청북도</td>\n",
       "      <td>2</td>\n",
       "    </tr>\n",
       "  </tbody>\n",
       "</table>\n",
       "</div>"
      ],
      "text/plain": [
       "         시도  차대번호\n",
       "0       강원도     1\n",
       "1       경기도    18\n",
       "2      경상북도     4\n",
       "3     대구광역시     3\n",
       "4     대전광역시     2\n",
       "5     부산광역시     1\n",
       "6     서울특별시    31\n",
       "7   세종특별자치시     1\n",
       "8     인천광역시    28\n",
       "9      전라남도     2\n",
       "10     전라북도     2\n",
       "11     충청남도     4\n",
       "12     충청북도     2"
      ]
     },
     "execution_count": 390,
     "metadata": {},
     "output_type": "execute_result"
    }
   ],
   "source": [
    "gm5d.loc[((gm5d['경제적타당성_조기폐차'] >= 1) | (gm5d['경제적타당성_DPF'] >= 1)) & (gm5d['운행제한단속정보YN'] == 'Y') & (gm5d['최신경과기간'] >= 365*3)].groupby('시도')['차대번호'].count().reset_index()"
   ]
  },
  {
   "cell_type": "code",
   "execution_count": 391,
   "metadata": {},
   "outputs": [],
   "source": [
    "# gm5d.loc[((gm5d['경제적타당성_조기폐차'] >= 1) | (gm5d['경제적타당성_DPF'] >= 1)) & (gm5d['최신경과기간'] >= 365*3) & (gm5d['운행제한단속정보YN'] == 'Y')].groupby('시도')['차대번호'].count().reset_index().to_excel(os.path.join(analysis_fold, '샘플_5등급경유차_우선차량선별(1, 3, Y).xlsx'), index=False)"
   ]
  },
  {
   "attachments": {},
   "cell_type": "markdown",
   "metadata": {},
   "source": [
    "### 5등급 수검율"
   ]
  },
  {
   "cell_type": "code",
   "execution_count": 392,
   "metadata": {},
   "outputs": [
    {
     "data": {
      "text/plain": [
       "385377"
      ]
     },
     "execution_count": 392,
     "metadata": {},
     "output_type": "execute_result"
    }
   ],
   "source": [
    "gm5['검사일자'].isnull().sum()"
   ]
  },
  {
   "cell_type": "code",
   "execution_count": 393,
   "metadata": {},
   "outputs": [
    {
     "data": {
      "text/plain": [
       "count     771146.00000\n",
       "mean    20214164.61346\n",
       "std         9288.66707\n",
       "min     20190102.00000\n",
       "25%     20210614.00000\n",
       "50%     20220228.00000\n",
       "75%     20220721.00000\n",
       "max     20230107.00000\n",
       "Name: 검사일자, dtype: float64"
      ]
     },
     "execution_count": 393,
     "metadata": {},
     "output_type": "execute_result"
    }
   ],
   "source": [
    "gm5['검사일자'].describe()"
   ]
  },
  {
   "cell_type": "code",
   "execution_count": 394,
   "metadata": {},
   "outputs": [
    {
     "data": {
      "text/plain": [
       "((1156523, 42), 1154724)"
      ]
     },
     "execution_count": 394,
     "metadata": {},
     "output_type": "execute_result"
    }
   ],
   "source": [
    "gm5.shape, len(gm5['차대번호'].unique())"
   ]
  },
  {
   "cell_type": "code",
   "execution_count": 395,
   "metadata": {},
   "outputs": [
    {
     "data": {
      "text/plain": [
       "(641893,)"
      ]
     },
     "execution_count": 395,
     "metadata": {},
     "output_type": "execute_result"
    }
   ],
   "source": [
    "gm5.loc[gm5['검사일자'] >= 20210101, '차대번호'].shape"
   ]
  },
  {
   "cell_type": "code",
   "execution_count": 396,
   "metadata": {},
   "outputs": [
    {
     "data": {
      "text/plain": [
       "(129253,)"
      ]
     },
     "execution_count": 396,
     "metadata": {},
     "output_type": "execute_result"
    }
   ],
   "source": [
    "gm5.loc[(gm5['검사일자'] < 20210101) & (gm5['검사일자'] >= 20180101), '차대번호'].shape"
   ]
  },
  {
   "cell_type": "code",
   "execution_count": 397,
   "metadata": {},
   "outputs": [
    {
     "data": {
      "text/plain": [
       "(0,)"
      ]
     },
     "execution_count": 397,
     "metadata": {},
     "output_type": "execute_result"
    }
   ],
   "source": [
    "gm5.loc[(gm5['검사일자'] < 20180101) & (gm5['검사일자'] >= 20130101), '차대번호'].shape"
   ]
  },
  {
   "cell_type": "code",
   "execution_count": 398,
   "metadata": {},
   "outputs": [
    {
     "data": {
      "text/plain": [
       "(0,)"
      ]
     },
     "execution_count": 398,
     "metadata": {},
     "output_type": "execute_result"
    }
   ],
   "source": [
    "gm5.loc[gm5['검사일자'] < 20130101, '차대번호'].shape"
   ]
  },
  {
   "cell_type": "code",
   "execution_count": 399,
   "metadata": {},
   "outputs": [],
   "source": [
    "gm5.loc[gm5['검사일자'] >= 20210101, '수검일자구분'] = 'div1'\n",
    "gm5.loc[(gm5['검사일자'] < 20210101) & (gm5['검사일자'] >= 20180101), '수검일자구분'] = 'div2'\n",
    "gm5.loc[(gm5['검사일자'] < 20180101) & (gm5['검사일자'] >= 20130101), '수검일자구분'] = 'div3'\n",
    "gm5.loc[gm5['검사일자'] < 20130101, '수검일자구분'] = 'div4'"
   ]
  },
  {
   "cell_type": "code",
   "execution_count": 400,
   "metadata": {},
   "outputs": [
    {
     "data": {
      "text/html": [
       "<div>\n",
       "<style scoped>\n",
       "    .dataframe tbody tr th:only-of-type {\n",
       "        vertical-align: middle;\n",
       "    }\n",
       "\n",
       "    .dataframe tbody tr th {\n",
       "        vertical-align: top;\n",
       "    }\n",
       "\n",
       "    .dataframe thead th {\n",
       "        text-align: right;\n",
       "    }\n",
       "</style>\n",
       "<table border=\"1\" class=\"dataframe\">\n",
       "  <thead>\n",
       "    <tr style=\"text-align: right;\">\n",
       "      <th>연료</th>\n",
       "      <th>CNG(압축천연가스)</th>\n",
       "      <th>LPG(액화석유가스)</th>\n",
       "      <th>경유</th>\n",
       "      <th>무동력</th>\n",
       "      <th>알코올</th>\n",
       "      <th>휘발유</th>\n",
       "    </tr>\n",
       "    <tr>\n",
       "      <th>수검일자구분</th>\n",
       "      <th></th>\n",
       "      <th></th>\n",
       "      <th></th>\n",
       "      <th></th>\n",
       "      <th></th>\n",
       "      <th></th>\n",
       "    </tr>\n",
       "  </thead>\n",
       "  <tbody>\n",
       "    <tr>\n",
       "      <th>div1</th>\n",
       "      <td>2.00000</td>\n",
       "      <td>2.00000</td>\n",
       "      <td>641546.00000</td>\n",
       "      <td>4.00000</td>\n",
       "      <td>NaN</td>\n",
       "      <td>339.00000</td>\n",
       "    </tr>\n",
       "    <tr>\n",
       "      <th>div2</th>\n",
       "      <td>NaN</td>\n",
       "      <td>2.00000</td>\n",
       "      <td>129189.00000</td>\n",
       "      <td>NaN</td>\n",
       "      <td>NaN</td>\n",
       "      <td>62.00000</td>\n",
       "    </tr>\n",
       "    <tr>\n",
       "      <th>NaN</th>\n",
       "      <td>3.00000</td>\n",
       "      <td>434.00000</td>\n",
       "      <td>355264.00000</td>\n",
       "      <td>1.00000</td>\n",
       "      <td>1.00000</td>\n",
       "      <td>29674.00000</td>\n",
       "    </tr>\n",
       "  </tbody>\n",
       "</table>\n",
       "</div>"
      ],
      "text/plain": [
       "연료      CNG(압축천연가스)  LPG(액화석유가스)           경유     무동력     알코올         휘발유\n",
       "수검일자구분                                                                   \n",
       "div1        2.00000      2.00000 641546.00000 4.00000     NaN   339.00000\n",
       "div2            NaN      2.00000 129189.00000     NaN     NaN    62.00000\n",
       "NaN         3.00000    434.00000 355264.00000 1.00000 1.00000 29674.00000"
      ]
     },
     "execution_count": 400,
     "metadata": {},
     "output_type": "execute_result"
    }
   ],
   "source": [
    "num_of_inscar = gm5.groupby(['수검일자구분', '연료'], dropna=False)['차대번호'].count().unstack()\n",
    "num_of_inscar"
   ]
  },
  {
   "cell_type": "code",
   "execution_count": 401,
   "metadata": {},
   "outputs": [
    {
     "data": {
      "text/plain": [
       "Index(['CNG(압축천연가스)', 'LPG(액화석유가스)', '경유', '무동력', '알코올', '휘발유'], dtype='object', name='연료')"
      ]
     },
     "execution_count": 401,
     "metadata": {},
     "output_type": "execute_result"
    }
   ],
   "source": [
    "num_of_inscar.columns"
   ]
  },
  {
   "cell_type": "code",
   "execution_count": 402,
   "metadata": {},
   "outputs": [
    {
     "data": {
      "text/html": [
       "<div>\n",
       "<style scoped>\n",
       "    .dataframe tbody tr th:only-of-type {\n",
       "        vertical-align: middle;\n",
       "    }\n",
       "\n",
       "    .dataframe tbody tr th {\n",
       "        vertical-align: top;\n",
       "    }\n",
       "\n",
       "    .dataframe thead th {\n",
       "        text-align: right;\n",
       "    }\n",
       "</style>\n",
       "<table border=\"1\" class=\"dataframe\">\n",
       "  <thead>\n",
       "    <tr style=\"text-align: right;\">\n",
       "      <th></th>\n",
       "      <th>수검일자구분</th>\n",
       "      <th>경유</th>\n",
       "    </tr>\n",
       "  </thead>\n",
       "  <tbody>\n",
       "    <tr>\n",
       "      <th>0</th>\n",
       "      <td>div1</td>\n",
       "      <td>641546.00000</td>\n",
       "    </tr>\n",
       "    <tr>\n",
       "      <th>1</th>\n",
       "      <td>div2</td>\n",
       "      <td>129189.00000</td>\n",
       "    </tr>\n",
       "    <tr>\n",
       "      <th>2</th>\n",
       "      <td>NaN</td>\n",
       "      <td>355264.00000</td>\n",
       "    </tr>\n",
       "  </tbody>\n",
       "</table>\n",
       "</div>"
      ],
      "text/plain": [
       "  수검일자구분           경유\n",
       "0   div1 641546.00000\n",
       "1   div2 129189.00000\n",
       "2    NaN 355264.00000"
      ]
     },
     "execution_count": 402,
     "metadata": {},
     "output_type": "execute_result"
    }
   ],
   "source": [
    "num_of_inscar['경유'].reset_index()"
   ]
  },
  {
   "cell_type": "code",
   "execution_count": 403,
   "metadata": {},
   "outputs": [],
   "source": [
    "text_list = ['전체차량대수', '최근 2년 정기/정밀검사 수검차량(2021.01. ~ 2022.12.)', '2~5년 이내 정기/정밀검사 수검차량(2018.01. ~ 2020.12.)', '5~10년 이내 정기/정밀검사 수검차량(2013.01. ~ 2017.12.)', '10년 이전 정기/정밀검사 수검차량( ~ 2012.12.)', '검사기록이 없는 차량', '정기/정밀검사 수검차량 비율', '정기/정밀검사 미수검차량 비율']\n",
    "fuel_dict = {'구분':text_list}\n",
    "for fuel in num_of_inscar.columns:\n",
    "    temp = num_of_inscar[fuel].reset_index()\n",
    "    num_list = [np.nan] * len(text_list)\n",
    "    for one in temp['수검일자구분']:\n",
    "        if one == 'div1':\n",
    "            num_list[1] = temp.loc[temp['수검일자구분'] == one, fuel].values[0]\n",
    "        elif one == 'div2':\n",
    "            num_list[2] = temp.loc[temp['수검일자구분'] == one, fuel].values[0]\n",
    "        elif one == 'div3':\n",
    "            num_list[3] = temp.loc[temp['수검일자구분'] == one, fuel].values[0]\n",
    "        elif one == 'div4':\n",
    "            num_list[4] = temp.loc[temp['수검일자구분'] == one, fuel].values[0]\n",
    "        else:\n",
    "            num_list[5] = temp.loc[temp['수검일자구분'].isnull() == True, fuel].values[0]\n",
    "\n",
    "    num_list[0] = np.nansum(num_list)\n",
    "    num_list[6] = num_list[1] / num_list[0] * 100\n",
    "    if np.isnan(num_list[6]) != True:\n",
    "        num_list[7] = 100 - num_list[6]\n",
    "    else:\n",
    "        num_list[7] = 100\n",
    "    fuel_dict[fuel] = num_list"
   ]
  },
  {
   "cell_type": "code",
   "execution_count": 404,
   "metadata": {},
   "outputs": [
    {
     "data": {
      "text/plain": [
       "{'구분': ['전체차량대수',\n",
       "  '최근 2년 정기/정밀검사 수검차량(2021.01. ~ 2022.12.)',\n",
       "  '2~5년 이내 정기/정밀검사 수검차량(2018.01. ~ 2020.12.)',\n",
       "  '5~10년 이내 정기/정밀검사 수검차량(2013.01. ~ 2017.12.)',\n",
       "  '10년 이전 정기/정밀검사 수검차량( ~ 2012.12.)',\n",
       "  '검사기록이 없는 차량',\n",
       "  '정기/정밀검사 수검차량 비율',\n",
       "  '정기/정밀검사 미수검차량 비율'],\n",
       " 'CNG(압축천연가스)': [5.0, 2.0, nan, nan, nan, 3.0, 40.0, 60.0],\n",
       " 'LPG(액화석유가스)': [438.0,\n",
       "  2.0,\n",
       "  2.0,\n",
       "  nan,\n",
       "  nan,\n",
       "  434.0,\n",
       "  0.45662100456621,\n",
       "  99.54337899543378],\n",
       " '경유': [1125999.0,\n",
       "  641546.0,\n",
       "  129189.0,\n",
       "  nan,\n",
       "  nan,\n",
       "  355264.0,\n",
       "  56.97571667470397,\n",
       "  43.02428332529603],\n",
       " '무동력': [5.0, 4.0, nan, nan, nan, 1.0, 80.0, 20.0],\n",
       " '알코올': [1.0, nan, nan, nan, nan, 1.0, nan, 100],\n",
       " '휘발유': [30075.0,\n",
       "  339.0,\n",
       "  62.0,\n",
       "  nan,\n",
       "  nan,\n",
       "  29674.0,\n",
       "  1.1271820448877805,\n",
       "  98.87281795511223]}"
      ]
     },
     "execution_count": 404,
     "metadata": {},
     "output_type": "execute_result"
    }
   ],
   "source": [
    "fuel_dict"
   ]
  },
  {
   "cell_type": "code",
   "execution_count": 405,
   "metadata": {},
   "outputs": [
    {
     "data": {
      "text/plain": [
       "(1156523, 43)"
      ]
     },
     "execution_count": 405,
     "metadata": {},
     "output_type": "execute_result"
    }
   ],
   "source": [
    "gm5.shape"
   ]
  },
  {
   "cell_type": "code",
   "execution_count": 406,
   "metadata": {},
   "outputs": [
    {
     "data": {
      "text/html": [
       "<div>\n",
       "<style scoped>\n",
       "    .dataframe tbody tr th:only-of-type {\n",
       "        vertical-align: middle;\n",
       "    }\n",
       "\n",
       "    .dataframe tbody tr th {\n",
       "        vertical-align: top;\n",
       "    }\n",
       "\n",
       "    .dataframe thead th {\n",
       "        text-align: right;\n",
       "    }\n",
       "</style>\n",
       "<table border=\"1\" class=\"dataframe\">\n",
       "  <thead>\n",
       "    <tr style=\"text-align: right;\">\n",
       "      <th></th>\n",
       "      <th>구분</th>\n",
       "      <th>CNG(압축천연가스)</th>\n",
       "      <th>LPG(액화석유가스)</th>\n",
       "      <th>경유</th>\n",
       "      <th>무동력</th>\n",
       "      <th>알코올</th>\n",
       "      <th>휘발유</th>\n",
       "    </tr>\n",
       "  </thead>\n",
       "  <tbody>\n",
       "    <tr>\n",
       "      <th>0</th>\n",
       "      <td>전체차량대수</td>\n",
       "      <td>5.00000</td>\n",
       "      <td>438.00000</td>\n",
       "      <td>1125999.00000</td>\n",
       "      <td>5.00000</td>\n",
       "      <td>1.00000</td>\n",
       "      <td>30075.00000</td>\n",
       "    </tr>\n",
       "    <tr>\n",
       "      <th>1</th>\n",
       "      <td>최근 2년 정기/정밀검사 수검차량(2021.01. ~ 2022.12.)</td>\n",
       "      <td>2.00000</td>\n",
       "      <td>2.00000</td>\n",
       "      <td>641546.00000</td>\n",
       "      <td>4.00000</td>\n",
       "      <td>NaN</td>\n",
       "      <td>339.00000</td>\n",
       "    </tr>\n",
       "    <tr>\n",
       "      <th>2</th>\n",
       "      <td>2~5년 이내 정기/정밀검사 수검차량(2018.01. ~ 2020.12.)</td>\n",
       "      <td>NaN</td>\n",
       "      <td>2.00000</td>\n",
       "      <td>129189.00000</td>\n",
       "      <td>NaN</td>\n",
       "      <td>NaN</td>\n",
       "      <td>62.00000</td>\n",
       "    </tr>\n",
       "    <tr>\n",
       "      <th>3</th>\n",
       "      <td>5~10년 이내 정기/정밀검사 수검차량(2013.01. ~ 2017.12.)</td>\n",
       "      <td>NaN</td>\n",
       "      <td>NaN</td>\n",
       "      <td>NaN</td>\n",
       "      <td>NaN</td>\n",
       "      <td>NaN</td>\n",
       "      <td>NaN</td>\n",
       "    </tr>\n",
       "    <tr>\n",
       "      <th>4</th>\n",
       "      <td>10년 이전 정기/정밀검사 수검차량( ~ 2012.12.)</td>\n",
       "      <td>NaN</td>\n",
       "      <td>NaN</td>\n",
       "      <td>NaN</td>\n",
       "      <td>NaN</td>\n",
       "      <td>NaN</td>\n",
       "      <td>NaN</td>\n",
       "    </tr>\n",
       "    <tr>\n",
       "      <th>5</th>\n",
       "      <td>검사기록이 없는 차량</td>\n",
       "      <td>3.00000</td>\n",
       "      <td>434.00000</td>\n",
       "      <td>355264.00000</td>\n",
       "      <td>1.00000</td>\n",
       "      <td>1.00000</td>\n",
       "      <td>29674.00000</td>\n",
       "    </tr>\n",
       "    <tr>\n",
       "      <th>6</th>\n",
       "      <td>정기/정밀검사 수검차량 비율</td>\n",
       "      <td>40.00000</td>\n",
       "      <td>0.45662</td>\n",
       "      <td>56.97572</td>\n",
       "      <td>80.00000</td>\n",
       "      <td>NaN</td>\n",
       "      <td>1.12718</td>\n",
       "    </tr>\n",
       "    <tr>\n",
       "      <th>7</th>\n",
       "      <td>정기/정밀검사 미수검차량 비율</td>\n",
       "      <td>60.00000</td>\n",
       "      <td>99.54338</td>\n",
       "      <td>43.02428</td>\n",
       "      <td>20.00000</td>\n",
       "      <td>100.00000</td>\n",
       "      <td>98.87282</td>\n",
       "    </tr>\n",
       "  </tbody>\n",
       "</table>\n",
       "</div>"
      ],
      "text/plain": [
       "                                           구분  CNG(압축천연가스)  LPG(액화석유가스)   \n",
       "0                                      전체차량대수      5.00000    438.00000  \\\n",
       "1     최근 2년 정기/정밀검사 수검차량(2021.01. ~ 2022.12.)      2.00000      2.00000   \n",
       "2   2~5년 이내 정기/정밀검사 수검차량(2018.01. ~ 2020.12.)          NaN      2.00000   \n",
       "3  5~10년 이내 정기/정밀검사 수검차량(2013.01. ~ 2017.12.)          NaN          NaN   \n",
       "4            10년 이전 정기/정밀검사 수검차량( ~ 2012.12.)          NaN          NaN   \n",
       "5                                 검사기록이 없는 차량      3.00000    434.00000   \n",
       "6                             정기/정밀검사 수검차량 비율     40.00000      0.45662   \n",
       "7                            정기/정밀검사 미수검차량 비율     60.00000     99.54338   \n",
       "\n",
       "             경유      무동력       알코올         휘발유  \n",
       "0 1125999.00000  5.00000   1.00000 30075.00000  \n",
       "1  641546.00000  4.00000       NaN   339.00000  \n",
       "2  129189.00000      NaN       NaN    62.00000  \n",
       "3           NaN      NaN       NaN         NaN  \n",
       "4           NaN      NaN       NaN         NaN  \n",
       "5  355264.00000  1.00000   1.00000 29674.00000  \n",
       "6      56.97572 80.00000       NaN     1.12718  \n",
       "7      43.02428 20.00000 100.00000    98.87282  "
      ]
     },
     "execution_count": 406,
     "metadata": {},
     "output_type": "execute_result"
    }
   ],
   "source": [
    "ins_chk5 = pd.DataFrame(fuel_dict)\n",
    "ins_chk5"
   ]
  },
  {
   "attachments": {},
   "cell_type": "markdown",
   "metadata": {},
   "source": [
    "#### 5등급 수검율 출력"
   ]
  },
  {
   "cell_type": "code",
   "execution_count": 407,
   "metadata": {},
   "outputs": [],
   "source": [
    "# # 수검율 출력\n",
    "# ins_chk5.to_excel(os.path.join(analysis_fold, '통계_5등급_연료별_수검률.xlsx'), index=False)"
   ]
  },
  {
   "attachments": {},
   "cell_type": "markdown",
   "metadata": {},
   "source": [
    "#### 출력"
   ]
  },
  {
   "cell_type": "code",
   "execution_count": 408,
   "metadata": {},
   "outputs": [
    {
     "data": {
      "text/plain": [
       "'2023.06.08_PM.05.14.13'"
      ]
     },
     "execution_count": 408,
     "metadata": {},
     "output_type": "execute_result"
    }
   ],
   "source": [
    "today_date = datetime.today().strftime(\"%Y.%m.%d_%p.%I.%M.%S\")\n",
    "today_date"
   ]
  },
  {
   "attachments": {},
   "cell_type": "markdown",
   "metadata": {},
   "source": [
    "##### 보관용"
   ]
  },
  {
   "cell_type": "code",
   "execution_count": 409,
   "metadata": {},
   "outputs": [],
   "source": [
    "# # 출력 [보관용]5등급_경유차_경제적타당성평가_검사경과기간_운행제한이력 csv\n",
    "# # about 30.2s\n",
    "# name = '5등급_경유차_경제적타당성평가_검사경과기간_운행제한이력'\n",
    "# gm5d.to_csv(os.path.join(ods_fold, f'{name}.csv'), index=False)"
   ]
  },
  {
   "cell_type": "code",
   "execution_count": 410,
   "metadata": {},
   "outputs": [],
   "source": [
    "# f'{name}.csv'"
   ]
  },
  {
   "attachments": {},
   "cell_type": "markdown",
   "metadata": {},
   "source": [
    "##### 제출용"
   ]
  },
  {
   "cell_type": "code",
   "execution_count": 411,
   "metadata": {},
   "outputs": [
    {
     "data": {
      "text/plain": [
       "(1125999, 53)"
      ]
     },
     "execution_count": 411,
     "metadata": {},
     "output_type": "execute_result"
    }
   ],
   "source": [
    "gm5d.shape"
   ]
  },
  {
   "cell_type": "code",
   "execution_count": 412,
   "metadata": {},
   "outputs": [
    {
     "data": {
      "text/plain": [
       "Index(['차량등록번호', '본거지법정동코드', '차대번호', '제원관리번호', '배출가스인증번호', '배출가스등급', '용도',\n",
       "       '차명', '차종', '차종유형', '연료', '배기량', '총중량', '차량연식', '조기폐차최종승인YN', '저감장치',\n",
       "       '장치일련번호', '저감효율', '연간주행거리', '최신경과기간', '시도', '시구군', '1일평균주행거리', '주행거리',\n",
       "       '검사일자', '검사방법', '검사종류', '검사판정', '무부하매연판정1', '무부하매연판정2', '무부하매연판정3',\n",
       "       '무부하매연측정치1', '무부하매연측정치2', '무부하매연측정치3', '비상시및계절제단속발령건수', '비상시및계절제단속발령YN',\n",
       "       '운행제한단속정보건수', '운행제한단속정보YN', '계절제1차단속YN', '계절제2차단속YN', '계절제3차단속YN',\n",
       "       '비상시단속YN', '연간배출량_조기폐차', '연간배출량_DPF', '장치구분', '연간환경이익_조기폐차',\n",
       "       '연간환경이익_DPF', '환경이익_조기폐차', '환경이익_DPF', '지원비용_조기폐차', '지원비용_DPF',\n",
       "       '경제적타당성_조기폐차', '경제적타당성_DPF'],\n",
       "      dtype='object')"
      ]
     },
     "execution_count": 412,
     "metadata": {},
     "output_type": "execute_result"
    }
   ],
   "source": [
    "gm5d.columns"
   ]
  },
  {
   "cell_type": "code",
   "execution_count": 413,
   "metadata": {},
   "outputs": [
    {
     "data": {
      "text/plain": [
       "(1125999, 12)"
      ]
     },
     "execution_count": 413,
     "metadata": {},
     "output_type": "execute_result"
    }
   ],
   "source": [
    "col = [\n",
    "        '차대번호', \n",
    "        '본거지법정동코드', \n",
    "        '용도', \n",
    "        '차량연식',\n",
    "        '차종', \n",
    "        '차종유형', \n",
    "        '연료', \n",
    "        '저감장치', \n",
    "        '경제적타당성_조기폐차', \n",
    "        '경제적타당성_DPF', \n",
    "        '최신경과기간', \n",
    "        '운행제한단속정보YN', \n",
    "    ]\n",
    "df5 = gm5d[col]\n",
    "df5.shape"
   ]
  },
  {
   "cell_type": "code",
   "execution_count": 414,
   "metadata": {},
   "outputs": [],
   "source": [
    "chc_col = {\n",
    "    '차량등록번호':'VHRNO', \n",
    "    '본거지법정동코드':'BSPL_STDG_CD', \n",
    "    '차대번호':'VIN', \n",
    "    '제원관리번호':'MANG_MNG_NO', \n",
    "    '용도':'PURPS_CD2',\n",
    "    '배출가스인증번호':'EXHST_GAS_CERT_NO', \n",
    "    '배출가스등급':'EXHST_GAS_GRD_CD', \n",
    "    '차명':'VHCNM',\n",
    "    '차종':'VHCTY_CD', \n",
    "    '차량연식':'YRIDNW',\n",
    "    '차종유형':'VHCTY_TY', \n",
    "    '연료':'FUEL_CD', \n",
    "    '배기량':'DSPLVL', \n",
    "    '총중량':'TOTL_WGHT', \n",
    "    '조기폐차최종승인YN':'ELPDSRC_LAST_APRV_YN', \n",
    "    '저감장치':'RDCDVC', \n",
    "    '시도':'CTPV', \n",
    "    '시구군':'SGG', \n",
    "    '경제적타당성_조기폐차':'ECO_VLDT_ELPDSRC', \n",
    "    '경제적타당성_DPF':'ECO_VLDT_DPF', \n",
    "    '최신경과기간':'RCNT_INSP_ELPSD_WHL', \n",
    "    '운행제한단속정보YN':'RUN_LMT_CRDN_YN', \n",
    "}"
   ]
  },
  {
   "cell_type": "code",
   "execution_count": 415,
   "metadata": {},
   "outputs": [
    {
     "data": {
      "text/plain": [
       "Index(['VIN', 'BSPL_STDG_CD', 'PURPS_CD2', 'YRIDNW', 'VHCTY_CD', 'VHCTY_TY',\n",
       "       'FUEL_CD', 'RDCDVC', 'ECO_VLDT_ELPDSRC', 'ECO_VLDT_DPF',\n",
       "       'RCNT_INSP_ELPSD_WHL', 'RUN_LMT_CRDN_YN'],\n",
       "      dtype='object')"
      ]
     },
     "execution_count": 415,
     "metadata": {},
     "output_type": "execute_result"
    }
   ],
   "source": [
    "df5 = df5.rename(columns=chc_col)\n",
    "df5.columns"
   ]
  },
  {
   "cell_type": "code",
   "execution_count": 416,
   "metadata": {},
   "outputs": [
    {
     "data": {
      "text/plain": [
       "'2023.06.08_PM.05.14.15'"
      ]
     },
     "execution_count": 416,
     "metadata": {},
     "output_type": "execute_result"
    }
   ],
   "source": [
    "today_date = datetime.today().strftime(\"%Y.%m.%d_%p.%I.%M.%S\")\n",
    "today_date"
   ]
  },
  {
   "cell_type": "code",
   "execution_count": 417,
   "metadata": {},
   "outputs": [],
   "source": [
    "# # about 8.6s\n",
    "# df5.to_csv(os.path.join(df_fold, f'BD3-3_5등급_경유차_경제적타당성_최신검사경과기간_운행제한이력.csv'), index=False)"
   ]
  },
  {
   "cell_type": "code",
   "execution_count": 418,
   "metadata": {},
   "outputs": [],
   "source": [
    "# # 출력 [제출용]5등급_경유차_경제적타당성평가_검사경과기간_운행제한이력\n",
    "# # about 9m 6.6s\n",
    "# n = 500000\n",
    "# name = '[제출]5등급_경유차_경제적타당성평가_검사경과기간_운행제한이력'\n",
    "# df5.iloc[:n].to_excel(os.path.join(ods_fold, f'{name}01({today_date}).xlsx'), index=False)\n",
    "# df5.iloc[n:].to_excel(os.path.join(ods_fold, f'{name}02({today_date}).xlsx'), index=False)"
   ]
  },
  {
   "attachments": {},
   "cell_type": "markdown",
   "metadata": {},
   "source": [
    "#### 출력 5등급 차량 전체"
   ]
  },
  {
   "cell_type": "code",
   "execution_count": 419,
   "metadata": {},
   "outputs": [
    {
     "data": {
      "text/plain": [
       "(1156523, 43)"
      ]
     },
     "execution_count": 419,
     "metadata": {},
     "output_type": "execute_result"
    }
   ],
   "source": [
    "gm5.shape"
   ]
  },
  {
   "cell_type": "code",
   "execution_count": 420,
   "metadata": {},
   "outputs": [
    {
     "data": {
      "text/plain": [
       "(1156523, 53)"
      ]
     },
     "execution_count": 420,
     "metadata": {},
     "output_type": "execute_result"
    }
   ],
   "source": [
    "gt5.shape"
   ]
  },
  {
   "cell_type": "code",
   "execution_count": 421,
   "metadata": {},
   "outputs": [
    {
     "data": {
      "text/plain": [
       "'2023.06.08_PM.05.14.16'"
      ]
     },
     "execution_count": 421,
     "metadata": {},
     "output_type": "execute_result"
    }
   ],
   "source": [
    "today_date = datetime.today().strftime(\"%Y.%m.%d_%p.%I.%M.%S\")\n",
    "today_date"
   ]
  },
  {
   "cell_type": "code",
   "execution_count": 422,
   "metadata": {},
   "outputs": [],
   "source": [
    "# # 출력 [보관용]5등급_경제적타당성평가_검사경과기간_운행제한이력 csv\n",
    "# # about 37.6s\n",
    "# name = '5등급_경제적타당성평가_검사경과기간_운행제한이력'\n",
    "# gt5.to_csv(os.path.join(ods_fold, f'{name}({today_date}).csv'), index=False, encoding='cp949')"
   ]
  },
  {
   "attachments": {},
   "cell_type": "markdown",
   "metadata": {},
   "source": [
    "##### 제출용"
   ]
  },
  {
   "cell_type": "code",
   "execution_count": 424,
   "metadata": {},
   "outputs": [
    {
     "data": {
      "text/plain": [
       "'2023.06.08_PM.05.14.17'"
      ]
     },
     "execution_count": 424,
     "metadata": {},
     "output_type": "execute_result"
    }
   ],
   "source": [
    "today_date = datetime.today().strftime(\"%Y.%m.%d_%p.%I.%M.%S\")\n",
    "today_date"
   ]
  },
  {
   "cell_type": "code",
   "execution_count": 423,
   "metadata": {},
   "outputs": [],
   "source": [
    "# # 출력 [제출용]5등급_경제적타당성평가_검사경과기간_운행제한이력\n",
    "# # about 14m 23.5s\n",
    "# n = 500000\n",
    "# name = '[제출]5등급_경제적타당성평가_검사경과기간_운행제한이력'\n",
    "# gt5[col].iloc[:n].to_excel(os.path.join(ods_fold, f'{name}01({today_date}).xlsx'), index=False)\n",
    "# gt5[col].iloc[n:].to_excel(os.path.join(ods_fold, f'{name}02({today_date}).xlsx'), index=False)"
   ]
  },
  {
   "attachments": {},
   "cell_type": "markdown",
   "metadata": {},
   "source": [
    "## 가중치 설정을 위한 상관계수 확인\n",
    "- 이슈\n",
    "    - 운행제한단속정보YN\n",
    "        - Y : 1\n",
    "        - N : 0\n",
    "    - 상관계수 음수 존재\n",
    "        - 각 컬럼별 합계로 활용(자기자신 제외한 상관계수 합계는 음수가 나와서, 모두 1을 더해줌.)\n",
    "- 확인사항(최이사님)\n",
    "    - 연료 : 경유와 휘발유/LPG로 분리하여 계산"
   ]
  },
  {
   "cell_type": "code",
   "execution_count": 425,
   "metadata": {},
   "outputs": [
    {
     "data": {
      "text/plain": [
       "Index(['차대번호', '차량번호', '제원관리번호', '차종', '용도', '최초등록일', '연식', '제작일자', '검사유효일',\n",
       "       '배출가스인증번호', '등급', '차명', '차종분류', '차종유형', '자동차형식', '제작사명', '연료', '엔진형식',\n",
       "       '총중량', '적재중량', '엔진출력', '배기량', '법정동코드', '시도명', '시군구명', '소유자구분', '말소여부',\n",
       "       '배인번호_수정', '등급_수정', 'DPF유무_수정', 'Grade', '시군구명_수정', '1일평균주행거리',\n",
       "       '조기폐차최종승인YN', '저감장치', '장치일련번호', '연간주행거리', '최신경과기간', '주행거리', '검사일자',\n",
       "       '검사방법', '검사종류', '검사판정', '무부하매연판정1', '무부하매연판정2', '무부하매연판정3', '무부하매연측정치1',\n",
       "       '무부하매연측정치2', '무부하매연측정치3', '비상시및계절제단속발령건수', '비상시및계절제단속발령YN',\n",
       "       '운행제한단속정보건수', '운행제한단속정보YN', '계절제1차단속YN', '계절제2차단속YN', '계절제3차단속YN',\n",
       "       '비상시단속YN', '연간배출량', '연간환경이익', '환경이익', '지원비용', '경제적타당성'],\n",
       "      dtype='object')"
      ]
     },
     "execution_count": 425,
     "metadata": {},
     "output_type": "execute_result"
    }
   ],
   "source": [
    "gt4.columns"
   ]
  },
  {
   "cell_type": "code",
   "execution_count": 426,
   "metadata": {},
   "outputs": [
    {
     "data": {
      "text/plain": [
       "(1502235, 62)"
      ]
     },
     "execution_count": 426,
     "metadata": {},
     "output_type": "execute_result"
    }
   ],
   "source": [
    "gt4.shape"
   ]
  },
  {
   "cell_type": "code",
   "execution_count": 427,
   "metadata": {},
   "outputs": [
    {
     "data": {
      "text/plain": [
       "Index(['차량등록번호', '본거지법정동코드', '차대번호', '제원관리번호', '배출가스인증번호', '배출가스등급', '용도',\n",
       "       '차명', '차종', '차종유형', '연료', '배기량', '총중량', '차량연식', '조기폐차최종승인YN', '저감장치',\n",
       "       '장치일련번호', '저감효율', '연간주행거리', '최신경과기간', '시도', '시구군', '1일평균주행거리', '주행거리',\n",
       "       '검사일자', '검사방법', '검사종류', '검사판정', '무부하매연판정1', '무부하매연판정2', '무부하매연판정3',\n",
       "       '무부하매연측정치1', '무부하매연측정치2', '무부하매연측정치3', '비상시및계절제단속발령건수', '비상시및계절제단속발령YN',\n",
       "       '운행제한단속정보건수', '운행제한단속정보YN', '계절제1차단속YN', '계절제2차단속YN', '계절제3차단속YN',\n",
       "       '비상시단속YN', '연간배출량_조기폐차', '연간배출량_DPF', '장치구분', '연간환경이익_조기폐차',\n",
       "       '연간환경이익_DPF', '환경이익_조기폐차', '환경이익_DPF', '지원비용_조기폐차', '지원비용_DPF',\n",
       "       '경제적타당성_조기폐차', '경제적타당성_DPF'],\n",
       "      dtype='object')"
      ]
     },
     "execution_count": 427,
     "metadata": {},
     "output_type": "execute_result"
    }
   ],
   "source": [
    "gt5.columns"
   ]
  },
  {
   "cell_type": "code",
   "execution_count": 428,
   "metadata": {},
   "outputs": [
    {
     "data": {
      "text/plain": [
       "(1156523, 53)"
      ]
     },
     "execution_count": 428,
     "metadata": {},
     "output_type": "execute_result"
    }
   ],
   "source": [
    "gt5.shape"
   ]
  },
  {
   "attachments": {},
   "cell_type": "markdown",
   "metadata": {},
   "source": [
    "### 운행제한단속정보YN 숫자 변환"
   ]
  },
  {
   "cell_type": "code",
   "execution_count": 429,
   "metadata": {},
   "outputs": [
    {
     "data": {
      "text/plain": [
       "운행제한단속정보YN\n",
       "NaN    1502097\n",
       "Y          138\n",
       "Name: count, dtype: int64"
      ]
     },
     "execution_count": 429,
     "metadata": {},
     "output_type": "execute_result"
    }
   ],
   "source": [
    "gt4['운행제한단속정보YN'].value_counts(dropna=False)"
   ]
  },
  {
   "cell_type": "code",
   "execution_count": 430,
   "metadata": {},
   "outputs": [],
   "source": [
    "gt4.loc[gt4['운행제한단속정보YN'] == 'Y', '운행제한단속정보'] = 1\n",
    "gt4.loc[gt4['운행제한단속정보YN'] != 'Y', '운행제한단속정보'] = 0"
   ]
  },
  {
   "cell_type": "code",
   "execution_count": 431,
   "metadata": {},
   "outputs": [
    {
     "data": {
      "text/plain": [
       "운행제한단속정보\n",
       "0.00000    1502097\n",
       "1.00000        138\n",
       "Name: count, dtype: int64"
      ]
     },
     "execution_count": 431,
     "metadata": {},
     "output_type": "execute_result"
    }
   ],
   "source": [
    "gt4['운행제한단속정보'].value_counts(dropna=False)"
   ]
  },
  {
   "cell_type": "code",
   "execution_count": 432,
   "metadata": {},
   "outputs": [
    {
     "data": {
      "text/plain": [
       "운행제한단속정보YN\n",
       "NaN    1107258\n",
       "Y        49265\n",
       "Name: count, dtype: int64"
      ]
     },
     "execution_count": 432,
     "metadata": {},
     "output_type": "execute_result"
    }
   ],
   "source": [
    "gt5['운행제한단속정보YN'].value_counts(dropna=False)"
   ]
  },
  {
   "cell_type": "code",
   "execution_count": 433,
   "metadata": {},
   "outputs": [],
   "source": [
    "gt5.loc[gt5['운행제한단속정보YN'] == 'Y', '운행제한단속정보'] = 1\n",
    "gt5.loc[gt5['운행제한단속정보YN'] != 'Y', '운행제한단속정보'] = 0"
   ]
  },
  {
   "cell_type": "code",
   "execution_count": 434,
   "metadata": {},
   "outputs": [
    {
     "data": {
      "text/plain": [
       "운행제한단속정보\n",
       "0.00000    1107258\n",
       "1.00000      49265\n",
       "Name: count, dtype: int64"
      ]
     },
     "execution_count": 434,
     "metadata": {},
     "output_type": "execute_result"
    }
   ],
   "source": [
    "gt5['운행제한단속정보'].value_counts(dropna=False)"
   ]
  },
  {
   "attachments": {},
   "cell_type": "markdown",
   "metadata": {},
   "source": [
    "### 상관계수 계산"
   ]
  },
  {
   "cell_type": "code",
   "execution_count": 435,
   "metadata": {},
   "outputs": [
    {
     "data": {
      "text/html": [
       "<div>\n",
       "<style scoped>\n",
       "    .dataframe tbody tr th:only-of-type {\n",
       "        vertical-align: middle;\n",
       "    }\n",
       "\n",
       "    .dataframe tbody tr th {\n",
       "        vertical-align: top;\n",
       "    }\n",
       "\n",
       "    .dataframe thead th {\n",
       "        text-align: right;\n",
       "    }\n",
       "</style>\n",
       "<table border=\"1\" class=\"dataframe\">\n",
       "  <thead>\n",
       "    <tr style=\"text-align: right;\">\n",
       "      <th></th>\n",
       "      <th>index</th>\n",
       "      <th>무부하매연측정치1</th>\n",
       "      <th>주행거리</th>\n",
       "      <th>최신경과기간</th>\n",
       "      <th>운행제한단속정보</th>\n",
       "      <th>지원비용</th>\n",
       "    </tr>\n",
       "  </thead>\n",
       "  <tbody>\n",
       "    <tr>\n",
       "      <th>0</th>\n",
       "      <td>무부하매연측정치1</td>\n",
       "      <td>1.00000</td>\n",
       "      <td>0.00998</td>\n",
       "      <td>-0.04019</td>\n",
       "      <td>0.00336</td>\n",
       "      <td>-0.03731</td>\n",
       "    </tr>\n",
       "    <tr>\n",
       "      <th>1</th>\n",
       "      <td>주행거리</td>\n",
       "      <td>0.00998</td>\n",
       "      <td>1.00000</td>\n",
       "      <td>-0.07140</td>\n",
       "      <td>0.01338</td>\n",
       "      <td>0.38203</td>\n",
       "    </tr>\n",
       "    <tr>\n",
       "      <th>2</th>\n",
       "      <td>최신경과기간</td>\n",
       "      <td>-0.04019</td>\n",
       "      <td>-0.07140</td>\n",
       "      <td>1.00000</td>\n",
       "      <td>-0.00235</td>\n",
       "      <td>-0.06403</td>\n",
       "    </tr>\n",
       "    <tr>\n",
       "      <th>3</th>\n",
       "      <td>운행제한단속정보</td>\n",
       "      <td>0.00336</td>\n",
       "      <td>0.01338</td>\n",
       "      <td>-0.00235</td>\n",
       "      <td>1.00000</td>\n",
       "      <td>0.01216</td>\n",
       "    </tr>\n",
       "    <tr>\n",
       "      <th>4</th>\n",
       "      <td>지원비용</td>\n",
       "      <td>-0.03731</td>\n",
       "      <td>0.38203</td>\n",
       "      <td>-0.06403</td>\n",
       "      <td>0.01216</td>\n",
       "      <td>1.00000</td>\n",
       "    </tr>\n",
       "  </tbody>\n",
       "</table>\n",
       "</div>"
      ],
      "text/plain": [
       "       index  무부하매연측정치1     주행거리   최신경과기간  운행제한단속정보     지원비용\n",
       "0  무부하매연측정치1    1.00000  0.00998 -0.04019   0.00336 -0.03731\n",
       "1       주행거리    0.00998  1.00000 -0.07140   0.01338  0.38203\n",
       "2     최신경과기간   -0.04019 -0.07140  1.00000  -0.00235 -0.06403\n",
       "3   운행제한단속정보    0.00336  0.01338 -0.00235   1.00000  0.01216\n",
       "4       지원비용   -0.03731  0.38203 -0.06403   0.01216  1.00000"
      ]
     },
     "execution_count": 435,
     "metadata": {},
     "output_type": "execute_result"
    }
   ],
   "source": [
    "g4_corr = gt4[['무부하매연측정치1', '주행거리', '최신경과기간', '운행제한단속정보', '지원비용']].corr().reset_index()\n",
    "g4_corr"
   ]
  },
  {
   "cell_type": "code",
   "execution_count": 436,
   "metadata": {},
   "outputs": [
    {
     "data": {
      "text/plain": [
       "index        무부하매연측정치1주행거리최신경과기간운행제한단속정보지원비용\n",
       "무부하매연측정치1                            0.93584\n",
       "주행거리                                 1.33398\n",
       "최신경과기간                               0.82203\n",
       "운행제한단속정보                             1.02655\n",
       "지원비용                                 1.29284\n",
       "dtype: object"
      ]
     },
     "execution_count": 436,
     "metadata": {},
     "output_type": "execute_result"
    }
   ],
   "source": [
    "g4_corr.sum()"
   ]
  },
  {
   "cell_type": "code",
   "execution_count": 791,
   "metadata": {},
   "outputs": [
    {
     "data": {
      "text/plain": [
       "무부하매연측정치1   0.93275\n",
       "주행거리        1.33940\n",
       "dtype: object"
      ]
     },
     "execution_count": 791,
     "metadata": {},
     "output_type": "execute_result"
    }
   ],
   "source": [
    "g4_corr.sum()[['무부하매연측정치1', '주행거리']]"
   ]
  },
  {
   "cell_type": "code",
   "execution_count": 792,
   "metadata": {},
   "outputs": [],
   "source": [
    "a1, a2, a3, a4, a5 = g4_corr.sum()[['무부하매연측정치1', '주행거리', '최신경과기간', '운행제한단속정보', '지원비용']]"
   ]
  },
  {
   "cell_type": "code",
   "execution_count": 793,
   "metadata": {},
   "outputs": [],
   "source": [
    "s1 = a1 + a2 + a3 + a4 + a5"
   ]
  },
  {
   "cell_type": "code",
   "execution_count": 794,
   "metadata": {},
   "outputs": [
    {
     "data": {
      "text/plain": [
       "(0.17192741888966054,\n",
       " 0.24688175507649995,\n",
       " 0.15281015800981063,\n",
       " 0.18919807209678963,\n",
       " 0.23918259592723914)"
      ]
     },
     "execution_count": 794,
     "metadata": {},
     "output_type": "execute_result"
    }
   ],
   "source": [
    "a1/s1, a2/s1, a3/s1, a4/s1, a5/s1"
   ]
  },
  {
   "cell_type": "code",
   "execution_count": 795,
   "metadata": {},
   "outputs": [
    {
     "data": {
      "text/html": [
       "<div>\n",
       "<style scoped>\n",
       "    .dataframe tbody tr th:only-of-type {\n",
       "        vertical-align: middle;\n",
       "    }\n",
       "\n",
       "    .dataframe tbody tr th {\n",
       "        vertical-align: top;\n",
       "    }\n",
       "\n",
       "    .dataframe thead th {\n",
       "        text-align: right;\n",
       "    }\n",
       "</style>\n",
       "<table border=\"1\" class=\"dataframe\">\n",
       "  <thead>\n",
       "    <tr style=\"text-align: right;\">\n",
       "      <th></th>\n",
       "      <th>무부하매연측정치1</th>\n",
       "      <th>주행거리</th>\n",
       "      <th>최신경과기간</th>\n",
       "      <th>운행제한단속정보</th>\n",
       "      <th>지원비용_조기폐차</th>\n",
       "      <th>지원비용_DPF</th>\n",
       "    </tr>\n",
       "  </thead>\n",
       "  <tbody>\n",
       "    <tr>\n",
       "      <th>무부하매연측정치1</th>\n",
       "      <td>1.00000</td>\n",
       "      <td>-0.00793</td>\n",
       "      <td>0.06056</td>\n",
       "      <td>-0.05263</td>\n",
       "      <td>-0.07663</td>\n",
       "      <td>0.01006</td>\n",
       "    </tr>\n",
       "    <tr>\n",
       "      <th>주행거리</th>\n",
       "      <td>-0.00793</td>\n",
       "      <td>1.00000</td>\n",
       "      <td>-0.00685</td>\n",
       "      <td>0.01692</td>\n",
       "      <td>0.06069</td>\n",
       "      <td>0.07283</td>\n",
       "    </tr>\n",
       "    <tr>\n",
       "      <th>최신경과기간</th>\n",
       "      <td>0.06056</td>\n",
       "      <td>-0.00685</td>\n",
       "      <td>1.00000</td>\n",
       "      <td>0.05193</td>\n",
       "      <td>-0.01688</td>\n",
       "      <td>-0.03320</td>\n",
       "    </tr>\n",
       "    <tr>\n",
       "      <th>운행제한단속정보</th>\n",
       "      <td>-0.05263</td>\n",
       "      <td>0.01692</td>\n",
       "      <td>0.05193</td>\n",
       "      <td>1.00000</td>\n",
       "      <td>0.11668</td>\n",
       "      <td>-0.00633</td>\n",
       "    </tr>\n",
       "    <tr>\n",
       "      <th>지원비용_조기폐차</th>\n",
       "      <td>-0.07663</td>\n",
       "      <td>0.06069</td>\n",
       "      <td>-0.01688</td>\n",
       "      <td>0.11668</td>\n",
       "      <td>1.00000</td>\n",
       "      <td>0.04404</td>\n",
       "    </tr>\n",
       "    <tr>\n",
       "      <th>지원비용_DPF</th>\n",
       "      <td>0.01006</td>\n",
       "      <td>0.07283</td>\n",
       "      <td>-0.03320</td>\n",
       "      <td>-0.00633</td>\n",
       "      <td>0.04404</td>\n",
       "      <td>1.00000</td>\n",
       "    </tr>\n",
       "  </tbody>\n",
       "</table>\n",
       "</div>"
      ],
      "text/plain": [
       "           무부하매연측정치1     주행거리   최신경과기간  운행제한단속정보  지원비용_조기폐차  지원비용_DPF\n",
       "무부하매연측정치1    1.00000 -0.00793  0.06056  -0.05263   -0.07663   0.01006\n",
       "주행거리        -0.00793  1.00000 -0.00685   0.01692    0.06069   0.07283\n",
       "최신경과기간       0.06056 -0.00685  1.00000   0.05193   -0.01688  -0.03320\n",
       "운행제한단속정보    -0.05263  0.01692  0.05193   1.00000    0.11668  -0.00633\n",
       "지원비용_조기폐차   -0.07663  0.06069 -0.01688   0.11668    1.00000   0.04404\n",
       "지원비용_DPF     0.01006  0.07283 -0.03320  -0.00633    0.04404   1.00000"
      ]
     },
     "execution_count": 795,
     "metadata": {},
     "output_type": "execute_result"
    }
   ],
   "source": [
    "g5_corr = gt5[['무부하매연측정치1', '주행거리', '최신경과기간', '운행제한단속정보', '지원비용_조기폐차', '지원비용_DPF']].corr()\n",
    "g5_corr"
   ]
  },
  {
   "cell_type": "code",
   "execution_count": 796,
   "metadata": {},
   "outputs": [
    {
     "data": {
      "text/plain": [
       "무부하매연측정치1   0.93342\n",
       "주행거리        1.13567\n",
       "최신경과기간      1.05557\n",
       "운행제한단속정보    1.12658\n",
       "지원비용_조기폐차   1.12790\n",
       "지원비용_DPF    1.08740\n",
       "dtype: float64"
      ]
     },
     "execution_count": 796,
     "metadata": {},
     "output_type": "execute_result"
    }
   ],
   "source": [
    "g5_corr.sum()"
   ]
  },
  {
   "cell_type": "code",
   "execution_count": 797,
   "metadata": {},
   "outputs": [],
   "source": [
    "b1, b2, b3, b4, b5, b6 = g5_corr.sum()[['무부하매연측정치1', '주행거리', '최신경과기간', '운행제한단속정보', '지원비용_조기폐차', '지원비용_DPF']]\n",
    "s2 = b1 + b2 + b3 + b4 + b5 + b6"
   ]
  },
  {
   "cell_type": "code",
   "execution_count": 798,
   "metadata": {},
   "outputs": [
    {
     "data": {
      "text/plain": [
       "(0.1443468312476814,\n",
       " 0.1756220402271776,\n",
       " 0.16323572349927734,\n",
       " 0.17421678923812794,\n",
       " 0.17442043025104642,\n",
       " 0.1681581855366892)"
      ]
     },
     "execution_count": 798,
     "metadata": {},
     "output_type": "execute_result"
    }
   ],
   "source": [
    "b1/s2, b2/s2, b3/s2, b4/s2, b5/s2, b6/s2"
   ]
  },
  {
   "attachments": {},
   "cell_type": "markdown",
   "metadata": {},
   "source": [
    "### 연료별로 분리"
   ]
  },
  {
   "attachments": {},
   "cell_type": "markdown",
   "metadata": {},
   "source": [
    "#### 4등급 연료별로 분리하여 계산"
   ]
  },
  {
   "cell_type": "code",
   "execution_count": 437,
   "metadata": {},
   "outputs": [
    {
     "data": {
      "text/plain": [
       "연료\n",
       "경유             1153813\n",
       "휘발유             323019\n",
       "LPG(액화석유가스)      25400\n",
       "알코올                  1\n",
       "기타연료                 1\n",
       "CNG(압축천연가스)          1\n",
       "Name: count, dtype: int64"
      ]
     },
     "execution_count": 437,
     "metadata": {},
     "output_type": "execute_result"
    }
   ],
   "source": [
    "gt4['연료'].value_counts(dropna=False)"
   ]
  },
  {
   "cell_type": "code",
   "execution_count": 438,
   "metadata": {},
   "outputs": [
    {
     "data": {
      "text/plain": [
       "(348419, 63)"
      ]
     },
     "execution_count": 438,
     "metadata": {},
     "output_type": "execute_result"
    }
   ],
   "source": [
    "g4_gl = gt4.loc[(gt4['연료'] == '휘발유') | (gt4['연료'] == 'LPG(액화석유가스)')].reset_index(drop=True)\n",
    "g4_gl.shape"
   ]
  },
  {
   "cell_type": "code",
   "execution_count": 439,
   "metadata": {},
   "outputs": [
    {
     "data": {
      "text/plain": [
       "(1153813, 63)"
      ]
     },
     "execution_count": 439,
     "metadata": {},
     "output_type": "execute_result"
    }
   ],
   "source": [
    "g4_d = gt4.loc[gt4['연료'] == '경유'].reset_index(drop=True)\n",
    "g4_d.shape"
   ]
  },
  {
   "attachments": {},
   "cell_type": "markdown",
   "metadata": {},
   "source": [
    "#### 4등급 휘발유, LPG"
   ]
  },
  {
   "cell_type": "code",
   "execution_count": 253,
   "metadata": {},
   "outputs": [
    {
     "data": {
      "text/plain": [
       "Index(['차대번호', '차량번호', '제원관리번호', '차종', '용도', '최초등록일', '연식', '제작일자', '검사유효일',\n",
       "       '배출가스인증번호', '등급', '차명', '차종분류', '차종유형', '자동차형식', '제작사명', '연료', '엔진형식',\n",
       "       '총중량', '적재중량', '엔진출력', '배기량', '법정동코드', '시도명', '시군구명', '소유자구분', '말소여부',\n",
       "       '배인번호_수정', '등급_수정', 'DPF유무_수정', 'Grade', '시군구명_수정', '1일평균주행거리',\n",
       "       '조기폐차최종승인YN', '저감장치', '장치일련번호', '연간주행거리', '최신경과기간', '주행거리', '검사일자',\n",
       "       '검사방법', '검사종류', '검사판정', '무부하매연판정1', '무부하매연판정2', '무부하매연판정3', '무부하매연측정치1',\n",
       "       '무부하매연측정치2', '무부하매연측정치3', '비상시및계절제단속발령건수', '비상시및계절제단속발령YN',\n",
       "       '운행제한단속정보건수', '운행제한단속정보YN', '계절제1차단속YN', '계절제2차단속YN', '계절제3차단속YN',\n",
       "       '비상시단속YN', '연간배출량', '연간환경이익', '환경이익', '지원비용', '경제적타당성', '운행제한단속정보'],\n",
       "      dtype='object')"
      ]
     },
     "execution_count": 253,
     "metadata": {},
     "output_type": "execute_result"
    }
   ],
   "source": [
    "g4_gl.columns"
   ]
  },
  {
   "cell_type": "code",
   "execution_count": 254,
   "metadata": {},
   "outputs": [
    {
     "data": {
      "text/plain": [
       "(348419, 63)"
      ]
     },
     "execution_count": 254,
     "metadata": {},
     "output_type": "execute_result"
    }
   ],
   "source": [
    "g4_gl.shape"
   ]
  },
  {
   "cell_type": "code",
   "execution_count": 255,
   "metadata": {},
   "outputs": [],
   "source": [
    "col = ['무부하매연측정치1', '무부하매연측정치2', '무부하매연측정치3', '주행거리', '최신경과기간', '운행제한단속정보', '지원비용']"
   ]
  },
  {
   "cell_type": "code",
   "execution_count": 615,
   "metadata": {},
   "outputs": [
    {
     "data": {
      "text/plain": [
       "무부하매연측정치1    float64\n",
       "무부하매연측정치2    float64\n",
       "무부하매연측정치3    float64\n",
       "주행거리          object\n",
       "최신경과기간       float64\n",
       "운행제한단속정보     float64\n",
       "지원비용         float64\n",
       "dtype: object"
      ]
     },
     "execution_count": 615,
     "metadata": {},
     "output_type": "execute_result"
    }
   ],
   "source": [
    "g4_gl[col].dtypes"
   ]
  },
  {
   "cell_type": "code",
   "execution_count": 616,
   "metadata": {},
   "outputs": [],
   "source": [
    "g4_gl['주행거리'] = g4_gl['주행거리'].astype('float')"
   ]
  },
  {
   "cell_type": "code",
   "execution_count": 617,
   "metadata": {},
   "outputs": [
    {
     "data": {
      "text/plain": [
       "무부하매연측정치1    292747\n",
       "무부하매연측정치2    292756\n",
       "무부하매연측정치3    292757\n",
       "주행거리         291674\n",
       "최신경과기간       291656\n",
       "운행제한단속정보          0\n",
       "지원비용         348419\n",
       "dtype: int64"
      ]
     },
     "execution_count": 617,
     "metadata": {},
     "output_type": "execute_result"
    }
   ],
   "source": [
    "g4_gl[col].isnull().sum()"
   ]
  },
  {
   "cell_type": "code",
   "execution_count": 618,
   "metadata": {},
   "outputs": [
    {
     "data": {
      "text/plain": [
       "무부하매연측정치1    0\n",
       "무부하매연측정치2    0\n",
       "무부하매연측정치3    0\n",
       "주행거리         0\n",
       "최신경과기간       0\n",
       "운행제한단속정보     0\n",
       "지원비용         0\n",
       "dtype: int64"
      ]
     },
     "execution_count": 618,
     "metadata": {},
     "output_type": "execute_result"
    }
   ],
   "source": [
    "# nan 값 0으로 채우기\n",
    "g4_gl[col] = g4_gl[col].fillna(0)\n",
    "g4_gl[col].isnull().sum()"
   ]
  },
  {
   "cell_type": "code",
   "execution_count": 619,
   "metadata": {},
   "outputs": [
    {
     "data": {
      "text/html": [
       "<div>\n",
       "<style scoped>\n",
       "    .dataframe tbody tr th:only-of-type {\n",
       "        vertical-align: middle;\n",
       "    }\n",
       "\n",
       "    .dataframe tbody tr th {\n",
       "        vertical-align: top;\n",
       "    }\n",
       "\n",
       "    .dataframe thead th {\n",
       "        text-align: right;\n",
       "    }\n",
       "</style>\n",
       "<table border=\"1\" class=\"dataframe\">\n",
       "  <thead>\n",
       "    <tr style=\"text-align: right;\">\n",
       "      <th></th>\n",
       "      <th>무부하매연측정치1</th>\n",
       "      <th>무부하매연측정치2</th>\n",
       "      <th>무부하매연측정치3</th>\n",
       "      <th>주행거리</th>\n",
       "      <th>최신경과기간</th>\n",
       "      <th>운행제한단속정보</th>\n",
       "      <th>지원비용</th>\n",
       "    </tr>\n",
       "  </thead>\n",
       "  <tbody>\n",
       "    <tr>\n",
       "      <th>무부하매연측정치1</th>\n",
       "      <td>1.00000</td>\n",
       "      <td>0.11624</td>\n",
       "      <td>0.29743</td>\n",
       "      <td>0.30767</td>\n",
       "      <td>0.29995</td>\n",
       "      <td>NaN</td>\n",
       "      <td>NaN</td>\n",
       "    </tr>\n",
       "    <tr>\n",
       "      <th>무부하매연측정치2</th>\n",
       "      <td>0.11624</td>\n",
       "      <td>1.00000</td>\n",
       "      <td>0.09807</td>\n",
       "      <td>0.11314</td>\n",
       "      <td>0.10682</td>\n",
       "      <td>NaN</td>\n",
       "      <td>NaN</td>\n",
       "    </tr>\n",
       "    <tr>\n",
       "      <th>무부하매연측정치3</th>\n",
       "      <td>0.29743</td>\n",
       "      <td>0.09807</td>\n",
       "      <td>1.00000</td>\n",
       "      <td>0.59718</td>\n",
       "      <td>0.57118</td>\n",
       "      <td>NaN</td>\n",
       "      <td>NaN</td>\n",
       "    </tr>\n",
       "    <tr>\n",
       "      <th>주행거리</th>\n",
       "      <td>0.30767</td>\n",
       "      <td>0.11314</td>\n",
       "      <td>0.59718</td>\n",
       "      <td>1.00000</td>\n",
       "      <td>0.78471</td>\n",
       "      <td>NaN</td>\n",
       "      <td>NaN</td>\n",
       "    </tr>\n",
       "    <tr>\n",
       "      <th>최신경과기간</th>\n",
       "      <td>0.29995</td>\n",
       "      <td>0.10682</td>\n",
       "      <td>0.57118</td>\n",
       "      <td>0.78471</td>\n",
       "      <td>1.00000</td>\n",
       "      <td>NaN</td>\n",
       "      <td>NaN</td>\n",
       "    </tr>\n",
       "    <tr>\n",
       "      <th>운행제한단속정보</th>\n",
       "      <td>NaN</td>\n",
       "      <td>NaN</td>\n",
       "      <td>NaN</td>\n",
       "      <td>NaN</td>\n",
       "      <td>NaN</td>\n",
       "      <td>NaN</td>\n",
       "      <td>NaN</td>\n",
       "    </tr>\n",
       "    <tr>\n",
       "      <th>지원비용</th>\n",
       "      <td>NaN</td>\n",
       "      <td>NaN</td>\n",
       "      <td>NaN</td>\n",
       "      <td>NaN</td>\n",
       "      <td>NaN</td>\n",
       "      <td>NaN</td>\n",
       "      <td>NaN</td>\n",
       "    </tr>\n",
       "  </tbody>\n",
       "</table>\n",
       "</div>"
      ],
      "text/plain": [
       "           무부하매연측정치1  무부하매연측정치2  무부하매연측정치3    주행거리  최신경과기간  운행제한단속정보  지원비용\n",
       "무부하매연측정치1    1.00000    0.11624    0.29743 0.30767 0.29995       NaN   NaN\n",
       "무부하매연측정치2    0.11624    1.00000    0.09807 0.11314 0.10682       NaN   NaN\n",
       "무부하매연측정치3    0.29743    0.09807    1.00000 0.59718 0.57118       NaN   NaN\n",
       "주행거리         0.30767    0.11314    0.59718 1.00000 0.78471       NaN   NaN\n",
       "최신경과기간       0.29995    0.10682    0.57118 0.78471 1.00000       NaN   NaN\n",
       "운행제한단속정보         NaN        NaN        NaN     NaN     NaN       NaN   NaN\n",
       "지원비용             NaN        NaN        NaN     NaN     NaN       NaN   NaN"
      ]
     },
     "execution_count": 619,
     "metadata": {},
     "output_type": "execute_result"
    }
   ],
   "source": [
    "g4_gl_corr = g4_gl[col].corr()\n",
    "g4_gl_corr"
   ]
  },
  {
   "cell_type": "code",
   "execution_count": 620,
   "metadata": {},
   "outputs": [
    {
     "data": {
      "text/plain": [
       "무부하매연측정치1   2.02129\n",
       "무부하매연측정치2   1.43427\n",
       "무부하매연측정치3   2.56385\n",
       "주행거리        2.80269\n",
       "최신경과기간      2.76266\n",
       "운행제한단속정보    0.00000\n",
       "지원비용        0.00000\n",
       "dtype: float64"
      ]
     },
     "execution_count": 620,
     "metadata": {},
     "output_type": "execute_result"
    }
   ],
   "source": [
    "g4_gl_corr.sum()[col]"
   ]
  },
  {
   "cell_type": "code",
   "execution_count": 621,
   "metadata": {},
   "outputs": [
    {
     "data": {
      "text/plain": [
       "(0.14879086729295987,\n",
       " 0.10557946586587084,\n",
       " 0.18872993889628017,\n",
       " 0.20631153570182142,\n",
       " 0.20336448844900556,\n",
       " 0.07361185189703108,\n",
       " 0.07361185189703108)"
      ]
     },
     "execution_count": 621,
     "metadata": {},
     "output_type": "execute_result"
    }
   ],
   "source": [
    "c1, c2, c3, c4, c5, c6, c7 = g4_gl_corr.sum()[col]\n",
    "c6 += 1\n",
    "c7 += 1\n",
    "sc1 = c1 + c2 + c3 + c4 + c5 + c6 + c7\n",
    "w1, w2, w3, w4, w5, w6, w7 = c1/sc1, c2/sc1, c3/sc1, c4/sc1, c5/sc1, c6/sc1, c7/sc1\n",
    "w1, w2, w3, w4, w5, w6, w7"
   ]
  },
  {
   "cell_type": "code",
   "execution_count": 622,
   "metadata": {},
   "outputs": [
    {
     "data": {
      "text/plain": [
       "(1.0, 1.0)"
      ]
     },
     "execution_count": 622,
     "metadata": {},
     "output_type": "execute_result"
    }
   ],
   "source": [
    "c6, c7"
   ]
  },
  {
   "cell_type": "code",
   "execution_count": 623,
   "metadata": {},
   "outputs": [
    {
     "data": {
      "text/plain": [
       "0"
      ]
     },
     "execution_count": 623,
     "metadata": {},
     "output_type": "execute_result"
    }
   ],
   "source": [
    "g4_gl['선별포인트'] = w1 * g4_gl['무부하매연측정치1'] + w2 * g4_gl['무부하매연측정치2'] + w3 * g4_gl['무부하매연측정치3'] + w4 * g4_gl['주행거리'] + w5 * g4_gl['최신경과기간'] + w6 * g4_gl['운행제한단속정보'] + w7 * g4_gl['지원비용']\n",
    "g4_gl['선별포인트'].isnull().sum()"
   ]
  },
  {
   "cell_type": "code",
   "execution_count": 703,
   "metadata": {},
   "outputs": [
    {
     "data": {
      "text/html": [
       "<div>\n",
       "<style scoped>\n",
       "    .dataframe tbody tr th:only-of-type {\n",
       "        vertical-align: middle;\n",
       "    }\n",
       "\n",
       "    .dataframe tbody tr th {\n",
       "        vertical-align: top;\n",
       "    }\n",
       "\n",
       "    .dataframe thead th {\n",
       "        text-align: right;\n",
       "    }\n",
       "</style>\n",
       "<table border=\"1\" class=\"dataframe\">\n",
       "  <thead>\n",
       "    <tr style=\"text-align: right;\">\n",
       "      <th></th>\n",
       "      <th>차량번호</th>\n",
       "      <th>차종</th>\n",
       "      <th>선별포인트</th>\n",
       "    </tr>\n",
       "  </thead>\n",
       "  <tbody>\n",
       "    <tr>\n",
       "      <th>47159</th>\n",
       "      <td>41나5563</td>\n",
       "      <td>승용</td>\n",
       "      <td>468031.31398</td>\n",
       "    </tr>\n",
       "    <tr>\n",
       "      <th>13082</th>\n",
       "      <td>29라6398</td>\n",
       "      <td>승용</td>\n",
       "      <td>422426.56236</td>\n",
       "    </tr>\n",
       "    <tr>\n",
       "      <th>32697</th>\n",
       "      <td>경남34가6095</td>\n",
       "      <td>승용</td>\n",
       "      <td>391035.16226</td>\n",
       "    </tr>\n",
       "    <tr>\n",
       "      <th>28310</th>\n",
       "      <td>50오4682</td>\n",
       "      <td>승용</td>\n",
       "      <td>380358.38316</td>\n",
       "    </tr>\n",
       "    <tr>\n",
       "      <th>150182</th>\n",
       "      <td>04우0871</td>\n",
       "      <td>승용</td>\n",
       "      <td>345478.86913</td>\n",
       "    </tr>\n",
       "    <tr>\n",
       "      <th>28439</th>\n",
       "      <td>29수3170</td>\n",
       "      <td>승용</td>\n",
       "      <td>311942.11487</td>\n",
       "    </tr>\n",
       "    <tr>\n",
       "      <th>120106</th>\n",
       "      <td>51가0373</td>\n",
       "      <td>승용</td>\n",
       "      <td>305625.55672</td>\n",
       "    </tr>\n",
       "    <tr>\n",
       "      <th>3137</th>\n",
       "      <td>27누2063</td>\n",
       "      <td>승용</td>\n",
       "      <td>304995.19642</td>\n",
       "    </tr>\n",
       "    <tr>\n",
       "      <th>1776</th>\n",
       "      <td>39로7739</td>\n",
       "      <td>승용</td>\n",
       "      <td>303559.13772</td>\n",
       "    </tr>\n",
       "    <tr>\n",
       "      <th>34582</th>\n",
       "      <td>46소7211</td>\n",
       "      <td>승용</td>\n",
       "      <td>299683.86016</td>\n",
       "    </tr>\n",
       "  </tbody>\n",
       "</table>\n",
       "</div>"
      ],
      "text/plain": [
       "             차량번호  차종        선별포인트\n",
       "47159     41나5563  승용 468031.31398\n",
       "13082     29라6398  승용 422426.56236\n",
       "32697   경남34가6095  승용 391035.16226\n",
       "28310     50오4682  승용 380358.38316\n",
       "150182    04우0871  승용 345478.86913\n",
       "28439     29수3170  승용 311942.11487\n",
       "120106    51가0373  승용 305625.55672\n",
       "3137      27누2063  승용 304995.19642\n",
       "1776      39로7739  승용 303559.13772\n",
       "34582     46소7211  승용 299683.86016"
      ]
     },
     "execution_count": 703,
     "metadata": {},
     "output_type": "execute_result"
    }
   ],
   "source": [
    "g4_gl.sort_values('선별포인트', ascending=False)[['차량번호', '차종', '선별포인트']].head(10)"
   ]
  },
  {
   "cell_type": "code",
   "execution_count": 677,
   "metadata": {},
   "outputs": [
    {
     "data": {
      "text/plain": [
       "count   348419.00000\n",
       "mean      5591.94997\n",
       "std      14513.65373\n",
       "min          0.00000\n",
       "25%          0.00000\n",
       "50%          0.00000\n",
       "75%          0.00000\n",
       "max     468031.31398\n",
       "Name: 선별포인트, dtype: float64"
      ]
     },
     "execution_count": 677,
     "metadata": {},
     "output_type": "execute_result"
    }
   ],
   "source": [
    "g4_gl['선별포인트'].describe()"
   ]
  },
  {
   "cell_type": "code",
   "execution_count": 685,
   "metadata": {},
   "outputs": [
    {
     "data": {
      "image/png": "[encoded data removed]",
      "text/plain": [
       "<Figure size 640x480 with 1 Axes>"
      ]
     },
     "metadata": {},
     "output_type": "display_data"
    }
   ],
   "source": [
    "g4_gl['선별포인트'].hist();"
   ]
  },
  {
   "attachments": {},
   "cell_type": "markdown",
   "metadata": {},
   "source": [
    "##### [출력]"
   ]
  },
  {
   "cell_type": "code",
   "execution_count": 256,
   "metadata": {},
   "outputs": [
    {
     "data": {
      "text/plain": [
       "Index(['차대번호', '차량번호', '제원관리번호', '차종', '용도', '최초등록일', '연식', '제작일자', '검사유효일',\n",
       "       '배출가스인증번호', '등급', '차명', '차종분류', '차종유형', '자동차형식', '제작사명', '연료', '엔진형식',\n",
       "       '총중량', '적재중량', '엔진출력', '배기량', '법정동코드', '시도명', '시군구명', '소유자구분', '말소여부',\n",
       "       '배인번호_수정', '등급_수정', 'DPF유무_수정', 'Grade', '시군구명_수정', '1일평균주행거리',\n",
       "       '조기폐차최종승인YN', '저감장치', '장치일련번호', '연간주행거리', '최신경과기간', '주행거리', '검사일자',\n",
       "       '검사방법', '검사종류', '검사판정', '무부하매연판정1', '무부하매연판정2', '무부하매연판정3', '무부하매연측정치1',\n",
       "       '무부하매연측정치2', '무부하매연측정치3', '비상시및계절제단속발령건수', '비상시및계절제단속발령YN',\n",
       "       '운행제한단속정보건수', '운행제한단속정보YN', '계절제1차단속YN', '계절제2차단속YN', '계절제3차단속YN',\n",
       "       '비상시단속YN', '연간배출량', '연간환경이익', '환경이익', '지원비용', '경제적타당성', '운행제한단속정보'],\n",
       "      dtype='object')"
      ]
     },
     "execution_count": 256,
     "metadata": {},
     "output_type": "execute_result"
    }
   ],
   "source": [
    "g4_gl.columns"
   ]
  },
  {
   "attachments": {},
   "cell_type": "markdown",
   "metadata": {},
   "source": [
    "#### 4등급 경유"
   ]
  },
  {
   "cell_type": "code",
   "execution_count": 440,
   "metadata": {},
   "outputs": [
    {
     "data": {
      "text/plain": [
       "Index(['차대번호', '차량번호', '제원관리번호', '차종', '용도', '최초등록일', '연식', '제작일자', '검사유효일',\n",
       "       '배출가스인증번호', '등급', '차명', '차종분류', '차종유형', '자동차형식', '제작사명', '연료', '엔진형식',\n",
       "       '총중량', '적재중량', '엔진출력', '배기량', '법정동코드', '시도명', '시군구명', '소유자구분', '말소여부',\n",
       "       '배인번호_수정', '등급_수정', 'DPF유무_수정', 'Grade', '시군구명_수정', '1일평균주행거리',\n",
       "       '조기폐차최종승인YN', '저감장치', '장치일련번호', '연간주행거리', '최신경과기간', '주행거리', '검사일자',\n",
       "       '검사방법', '검사종류', '검사판정', '무부하매연판정1', '무부하매연판정2', '무부하매연판정3', '무부하매연측정치1',\n",
       "       '무부하매연측정치2', '무부하매연측정치3', '비상시및계절제단속발령건수', '비상시및계절제단속발령YN',\n",
       "       '운행제한단속정보건수', '운행제한단속정보YN', '계절제1차단속YN', '계절제2차단속YN', '계절제3차단속YN',\n",
       "       '비상시단속YN', '연간배출량', '연간환경이익', '환경이익', '지원비용', '경제적타당성', '운행제한단속정보'],\n",
       "      dtype='object')"
      ]
     },
     "execution_count": 440,
     "metadata": {},
     "output_type": "execute_result"
    }
   ],
   "source": [
    "g4_d.columns"
   ]
  },
  {
   "cell_type": "code",
   "execution_count": 441,
   "metadata": {},
   "outputs": [
    {
     "data": {
      "text/plain": [
       "(1153813, 63)"
      ]
     },
     "execution_count": 441,
     "metadata": {},
     "output_type": "execute_result"
    }
   ],
   "source": [
    "g4_d.shape"
   ]
  },
  {
   "attachments": {},
   "cell_type": "markdown",
   "metadata": {},
   "source": [
    "##### 검사일자 존재 여부로 분리"
   ]
  },
  {
   "cell_type": "code",
   "execution_count": 442,
   "metadata": {},
   "outputs": [
    {
     "data": {
      "text/plain": [
       "22637"
      ]
     },
     "execution_count": 442,
     "metadata": {},
     "output_type": "execute_result"
    }
   ],
   "source": [
    "g4_d['검사일자'].isnull().sum()"
   ]
  },
  {
   "cell_type": "code",
   "execution_count": 443,
   "metadata": {},
   "outputs": [
    {
     "data": {
      "text/plain": [
       "(1153813,)"
      ]
     },
     "execution_count": 443,
     "metadata": {},
     "output_type": "execute_result"
    }
   ],
   "source": [
    "tidx = g4_d.index\n",
    "tidx.shape"
   ]
  },
  {
   "cell_type": "code",
   "execution_count": 444,
   "metadata": {},
   "outputs": [
    {
     "data": {
      "text/plain": [
       "(1074168, 79645)"
      ]
     },
     "execution_count": 444,
     "metadata": {},
     "output_type": "execute_result"
    }
   ],
   "source": [
    "idx2 = g4_d.loc[(g4_d['검사일자'].isnull() == True) | (g4_d['최신경과기간'] > 760)].index\n",
    "idx1 = set(tidx) - set(idx2)\n",
    "len(idx1), len(idx2)"
   ]
  },
  {
   "cell_type": "code",
   "execution_count": 445,
   "metadata": {},
   "outputs": [
    {
     "data": {
      "text/plain": [
       "((1074168, 63), (79645, 63))"
      ]
     },
     "execution_count": 445,
     "metadata": {},
     "output_type": "execute_result"
    }
   ],
   "source": [
    "g4_dy = g4_d.loc[list(idx1)].reset_index(drop=True)\n",
    "g4_dn = g4_d.loc[idx2].reset_index(drop=True)\n",
    "g4_dy.shape, g4_dn.shape"
   ]
  },
  {
   "cell_type": "code",
   "execution_count": 446,
   "metadata": {},
   "outputs": [
    {
     "data": {
      "text/plain": [
       "1153813"
      ]
     },
     "execution_count": 446,
     "metadata": {},
     "output_type": "execute_result"
    }
   ],
   "source": [
    "g4_dy.shape[0] + g4_dn.shape[0]"
   ]
  },
  {
   "attachments": {},
   "cell_type": "markdown",
   "metadata": {},
   "source": [
    "##### 1일평균주행거리 존재 여부로 df 분리"
   ]
  },
  {
   "cell_type": "code",
   "execution_count": 447,
   "metadata": {},
   "outputs": [
    {
     "data": {
      "text/plain": [
       "Index(['차대번호', '차량번호', '제원관리번호', '차종', '용도', '최초등록일', '연식', '제작일자', '검사유효일',\n",
       "       '배출가스인증번호', '등급', '차명', '차종분류', '차종유형', '자동차형식', '제작사명', '연료', '엔진형식',\n",
       "       '총중량', '적재중량', '엔진출력', '배기량', '법정동코드', '시도명', '시군구명', '소유자구분', '말소여부',\n",
       "       '배인번호_수정', '등급_수정', 'DPF유무_수정', 'Grade', '시군구명_수정', '1일평균주행거리',\n",
       "       '조기폐차최종승인YN', '저감장치', '장치일련번호', '연간주행거리', '최신경과기간', '주행거리', '검사일자',\n",
       "       '검사방법', '검사종류', '검사판정', '무부하매연판정1', '무부하매연판정2', '무부하매연판정3', '무부하매연측정치1',\n",
       "       '무부하매연측정치2', '무부하매연측정치3', '비상시및계절제단속발령건수', '비상시및계절제단속발령YN',\n",
       "       '운행제한단속정보건수', '운행제한단속정보YN', '계절제1차단속YN', '계절제2차단속YN', '계절제3차단속YN',\n",
       "       '비상시단속YN', '연간배출량', '연간환경이익', '환경이익', '지원비용', '경제적타당성', '운행제한단속정보'],\n",
       "      dtype='object')"
      ]
     },
     "execution_count": 447,
     "metadata": {},
     "output_type": "execute_result"
    }
   ],
   "source": [
    "g4_dy.columns"
   ]
  },
  {
   "cell_type": "code",
   "execution_count": 448,
   "metadata": {},
   "outputs": [
    {
     "data": {
      "text/plain": [
       "0"
      ]
     },
     "execution_count": 448,
     "metadata": {},
     "output_type": "execute_result"
    }
   ],
   "source": [
    "g4_dy['1일평균주행거리'].isnull().sum()"
   ]
  },
  {
   "cell_type": "code",
   "execution_count": 449,
   "metadata": {},
   "outputs": [
    {
     "data": {
      "text/plain": [
       "0   3.00000\n",
       "1   3.00000\n",
       "2   3.00000\n",
       "3   3.00000\n",
       "4   3.00000\n",
       "Name: 지원비용_백만원, dtype: float64"
      ]
     },
     "execution_count": 449,
     "metadata": {},
     "output_type": "execute_result"
    }
   ],
   "source": [
    "g4_dy['지원비용_백만원'] = g4_dy['지원비용'] / 1000\n",
    "g4_dy['지원비용_백만원'].head()"
   ]
  },
  {
   "cell_type": "code",
   "execution_count": 450,
   "metadata": {},
   "outputs": [],
   "source": [
    "col = ['무부하매연측정치1', '1일평균주행거리', '최신경과기간', '운행제한단속정보', '지원비용_백만원']"
   ]
  },
  {
   "cell_type": "code",
   "execution_count": 451,
   "metadata": {},
   "outputs": [
    {
     "data": {
      "text/plain": [
       "무부하매연측정치1    float64\n",
       "1일평균주행거리     float64\n",
       "최신경과기간       float64\n",
       "운행제한단속정보     float64\n",
       "지원비용_백만원     float64\n",
       "dtype: object"
      ]
     },
     "execution_count": 451,
     "metadata": {},
     "output_type": "execute_result"
    }
   ],
   "source": [
    "g4_dy[col].dtypes"
   ]
  },
  {
   "cell_type": "code",
   "execution_count": 452,
   "metadata": {},
   "outputs": [],
   "source": [
    "# g4_d['주행거리'] = g4_d['주행거리'].astype('float')"
   ]
  },
  {
   "cell_type": "code",
   "execution_count": 453,
   "metadata": {},
   "outputs": [
    {
     "data": {
      "text/plain": [
       "무부하매연측정치1     8270\n",
       "1일평균주행거리         0\n",
       "최신경과기간       99618\n",
       "운행제한단속정보         0\n",
       "지원비용_백만원      4231\n",
       "dtype: int64"
      ]
     },
     "execution_count": 453,
     "metadata": {},
     "output_type": "execute_result"
    }
   ],
   "source": [
    "g4_dy[col].isnull().sum()"
   ]
  },
  {
   "cell_type": "code",
   "execution_count": 454,
   "metadata": {},
   "outputs": [
    {
     "data": {
      "text/html": [
       "<div>\n",
       "<style scoped>\n",
       "    .dataframe tbody tr th:only-of-type {\n",
       "        vertical-align: middle;\n",
       "    }\n",
       "\n",
       "    .dataframe tbody tr th {\n",
       "        vertical-align: top;\n",
       "    }\n",
       "\n",
       "    .dataframe thead th {\n",
       "        text-align: right;\n",
       "    }\n",
       "</style>\n",
       "<table border=\"1\" class=\"dataframe\">\n",
       "  <thead>\n",
       "    <tr style=\"text-align: right;\">\n",
       "      <th></th>\n",
       "      <th>무부하매연측정치1</th>\n",
       "      <th>1일평균주행거리</th>\n",
       "      <th>최신경과기간</th>\n",
       "      <th>운행제한단속정보</th>\n",
       "      <th>지원비용_백만원</th>\n",
       "    </tr>\n",
       "  </thead>\n",
       "  <tbody>\n",
       "    <tr>\n",
       "      <th>무부하매연측정치1</th>\n",
       "      <td>1.00000</td>\n",
       "      <td>0.00373</td>\n",
       "      <td>-0.03079</td>\n",
       "      <td>0.00301</td>\n",
       "      <td>-0.03842</td>\n",
       "    </tr>\n",
       "    <tr>\n",
       "      <th>1일평균주행거리</th>\n",
       "      <td>0.00373</td>\n",
       "      <td>1.00000</td>\n",
       "      <td>-0.17472</td>\n",
       "      <td>0.00605</td>\n",
       "      <td>0.33225</td>\n",
       "    </tr>\n",
       "    <tr>\n",
       "      <th>최신경과기간</th>\n",
       "      <td>-0.03079</td>\n",
       "      <td>-0.17472</td>\n",
       "      <td>1.00000</td>\n",
       "      <td>-0.00216</td>\n",
       "      <td>-0.06824</td>\n",
       "    </tr>\n",
       "    <tr>\n",
       "      <th>운행제한단속정보</th>\n",
       "      <td>0.00301</td>\n",
       "      <td>0.00605</td>\n",
       "      <td>-0.00216</td>\n",
       "      <td>1.00000</td>\n",
       "      <td>0.01204</td>\n",
       "    </tr>\n",
       "    <tr>\n",
       "      <th>지원비용_백만원</th>\n",
       "      <td>-0.03842</td>\n",
       "      <td>0.33225</td>\n",
       "      <td>-0.06824</td>\n",
       "      <td>0.01204</td>\n",
       "      <td>1.00000</td>\n",
       "    </tr>\n",
       "  </tbody>\n",
       "</table>\n",
       "</div>"
      ],
      "text/plain": [
       "           무부하매연측정치1  1일평균주행거리   최신경과기간  운행제한단속정보  지원비용_백만원\n",
       "무부하매연측정치1    1.00000   0.00373 -0.03079   0.00301  -0.03842\n",
       "1일평균주행거리     0.00373   1.00000 -0.17472   0.00605   0.33225\n",
       "최신경과기간      -0.03079  -0.17472  1.00000  -0.00216  -0.06824\n",
       "운행제한단속정보     0.00301   0.00605 -0.00216   1.00000   0.01204\n",
       "지원비용_백만원    -0.03842   0.33225 -0.06824   0.01204   1.00000"
      ]
     },
     "execution_count": 454,
     "metadata": {},
     "output_type": "execute_result"
    }
   ],
   "source": [
    "g4_dy_corr = g4_dy[col].corr()\n",
    "g4_dy_corr"
   ]
  },
  {
   "cell_type": "code",
   "execution_count": 455,
   "metadata": {},
   "outputs": [
    {
     "data": {
      "text/plain": [
       "무부하매연측정치1   0.93753\n",
       "1일평균주행거리    1.16732\n",
       "최신경과기간      0.72408\n",
       "운행제한단속정보    1.01894\n",
       "지원비용_백만원    1.23764\n",
       "dtype: float64"
      ]
     },
     "execution_count": 455,
     "metadata": {},
     "output_type": "execute_result"
    }
   ],
   "source": [
    "g4_dy_corr.sum()[col]"
   ]
  },
  {
   "cell_type": "code",
   "execution_count": 456,
   "metadata": {},
   "outputs": [
    {
     "data": {
      "text/plain": [
       "(0.18435397124490188,\n",
       " 0.229537525440729,\n",
       " 0.14238162434807072,\n",
       " 0.2003619797403315,\n",
       " 0.24336489922596696)"
      ]
     },
     "execution_count": 456,
     "metadata": {},
     "output_type": "execute_result"
    }
   ],
   "source": [
    "c1, c2, c3, c4, c5 = g4_dy_corr.sum()[col]\n",
    "sc1 = c1 + c2 + c3 + c4 + c5\n",
    "w1, w2, w3, w4, w5 = c1/sc1, c2/sc1, c3/sc1, c4/sc1, c5/sc1\n",
    "w1, w2, w3, w4, w5"
   ]
  },
  {
   "cell_type": "code",
   "execution_count": 457,
   "metadata": {},
   "outputs": [
    {
     "data": {
      "text/plain": [
       "110941"
      ]
     },
     "execution_count": 457,
     "metadata": {},
     "output_type": "execute_result"
    }
   ],
   "source": [
    "g4_dy['선별포인트'] = w1 * g4_dy['무부하매연측정치1'] + w2 * g4_dy['1일평균주행거리'] + w3 * g4_dy['최신경과기간'] + w4 * g4_dy['운행제한단속정보'] + w5 * g4_dy['지원비용_백만원']\n",
    "g4_dy['선별포인트'].isnull().sum()"
   ]
  },
  {
   "cell_type": "code",
   "execution_count": 458,
   "metadata": {},
   "outputs": [
    {
     "data": {
      "text/html": [
       "<div>\n",
       "<style scoped>\n",
       "    .dataframe tbody tr th:only-of-type {\n",
       "        vertical-align: middle;\n",
       "    }\n",
       "\n",
       "    .dataframe tbody tr th {\n",
       "        vertical-align: top;\n",
       "    }\n",
       "\n",
       "    .dataframe thead th {\n",
       "        text-align: right;\n",
       "    }\n",
       "</style>\n",
       "<table border=\"1\" class=\"dataframe\">\n",
       "  <thead>\n",
       "    <tr style=\"text-align: right;\">\n",
       "      <th></th>\n",
       "      <th>차량번호</th>\n",
       "      <th>차종</th>\n",
       "      <th>선별포인트</th>\n",
       "    </tr>\n",
       "  </thead>\n",
       "  <tbody>\n",
       "    <tr>\n",
       "      <th>9606</th>\n",
       "      <td>26우5272</td>\n",
       "      <td>승용</td>\n",
       "      <td>296.05499</td>\n",
       "    </tr>\n",
       "    <tr>\n",
       "      <th>21668</th>\n",
       "      <td>39조2545</td>\n",
       "      <td>승용</td>\n",
       "      <td>288.72433</td>\n",
       "    </tr>\n",
       "    <tr>\n",
       "      <th>661128</th>\n",
       "      <td>부산98사2337</td>\n",
       "      <td>특수</td>\n",
       "      <td>157.35717</td>\n",
       "    </tr>\n",
       "    <tr>\n",
       "      <th>869365</th>\n",
       "      <td>98수6552</td>\n",
       "      <td>특수</td>\n",
       "      <td>156.76794</td>\n",
       "    </tr>\n",
       "    <tr>\n",
       "      <th>966047</th>\n",
       "      <td>98누1812</td>\n",
       "      <td>특수</td>\n",
       "      <td>153.79906</td>\n",
       "    </tr>\n",
       "    <tr>\n",
       "      <th>663952</th>\n",
       "      <td>부산98바8235</td>\n",
       "      <td>특수</td>\n",
       "      <td>152.29149</td>\n",
       "    </tr>\n",
       "    <tr>\n",
       "      <th>867747</th>\n",
       "      <td>부산99바7560</td>\n",
       "      <td>특수</td>\n",
       "      <td>150.52285</td>\n",
       "    </tr>\n",
       "    <tr>\n",
       "      <th>968740</th>\n",
       "      <td>98러1013</td>\n",
       "      <td>특수</td>\n",
       "      <td>150.38068</td>\n",
       "    </tr>\n",
       "    <tr>\n",
       "      <th>28763</th>\n",
       "      <td>충북98바5337</td>\n",
       "      <td>특수</td>\n",
       "      <td>149.69988</td>\n",
       "    </tr>\n",
       "    <tr>\n",
       "      <th>817802</th>\n",
       "      <td>부산98사9903</td>\n",
       "      <td>특수</td>\n",
       "      <td>149.59366</td>\n",
       "    </tr>\n",
       "  </tbody>\n",
       "</table>\n",
       "</div>"
      ],
      "text/plain": [
       "             차량번호  차종     선별포인트\n",
       "9606      26우5272  승용 296.05499\n",
       "21668     39조2545  승용 288.72433\n",
       "661128  부산98사2337  특수 157.35717\n",
       "869365    98수6552  특수 156.76794\n",
       "966047    98누1812  특수 153.79906\n",
       "663952  부산98바8235  특수 152.29149\n",
       "867747  부산99바7560  특수 150.52285\n",
       "968740    98러1013  특수 150.38068\n",
       "28763   충북98바5337  특수 149.69988\n",
       "817802  부산98사9903  특수 149.59366"
      ]
     },
     "execution_count": 458,
     "metadata": {},
     "output_type": "execute_result"
    }
   ],
   "source": [
    "g4_dy.sort_values('선별포인트', ascending=False)[['차량번호', '차종', '선별포인트']].head(10)"
   ]
  },
  {
   "cell_type": "code",
   "execution_count": 459,
   "metadata": {},
   "outputs": [
    {
     "data": {
      "text/plain": [
       "count   963227.00000\n",
       "mean        68.70770\n",
       "std         22.42735\n",
       "min         21.63587\n",
       "25%         51.56745\n",
       "50%         67.56385\n",
       "75%         84.52498\n",
       "max        296.05499\n",
       "Name: 선별포인트, dtype: float64"
      ]
     },
     "execution_count": 459,
     "metadata": {},
     "output_type": "execute_result"
    }
   ],
   "source": [
    "g4_dy['선별포인트'].describe()"
   ]
  },
  {
   "cell_type": "code",
   "execution_count": 460,
   "metadata": {},
   "outputs": [
    {
     "data": {
      "image/png": "[encoded data removed]",
      "text/plain": [
       "<Figure size 640x480 with 1 Axes>"
      ]
     },
     "metadata": {},
     "output_type": "display_data"
    }
   ],
   "source": [
    "g4_dy['선별포인트'].hist();"
   ]
  },
  {
   "attachments": {},
   "cell_type": "markdown",
   "metadata": {},
   "source": [
    "##### [출력]"
   ]
  },
  {
   "cell_type": "code",
   "execution_count": 461,
   "metadata": {},
   "outputs": [
    {
     "data": {
      "text/plain": [
       "Index(['차대번호', '차량번호', '제원관리번호', '차종', '용도', '최초등록일', '연식', '제작일자', '검사유효일',\n",
       "       '배출가스인증번호', '등급', '차명', '차종분류', '차종유형', '자동차형식', '제작사명', '연료', '엔진형식',\n",
       "       '총중량', '적재중량', '엔진출력', '배기량', '법정동코드', '시도명', '시군구명', '소유자구분', '말소여부',\n",
       "       '배인번호_수정', '등급_수정', 'DPF유무_수정', 'Grade', '시군구명_수정', '1일평균주행거리',\n",
       "       '조기폐차최종승인YN', '저감장치', '장치일련번호', '연간주행거리', '최신경과기간', '주행거리', '검사일자',\n",
       "       '검사방법', '검사종류', '검사판정', '무부하매연판정1', '무부하매연판정2', '무부하매연판정3', '무부하매연측정치1',\n",
       "       '무부하매연측정치2', '무부하매연측정치3', '비상시및계절제단속발령건수', '비상시및계절제단속발령YN',\n",
       "       '운행제한단속정보건수', '운행제한단속정보YN', '계절제1차단속YN', '계절제2차단속YN', '계절제3차단속YN',\n",
       "       '비상시단속YN', '연간배출량', '연간환경이익', '환경이익', '지원비용', '경제적타당성', '운행제한단속정보',\n",
       "       '지원비용_백만원', '선별포인트'],\n",
       "      dtype='object')"
      ]
     },
     "execution_count": 461,
     "metadata": {},
     "output_type": "execute_result"
    }
   ],
   "source": [
    "g4_dy.columns"
   ]
  },
  {
   "cell_type": "code",
   "execution_count": null,
   "metadata": {},
   "outputs": [],
   "source": []
  },
  {
   "cell_type": "code",
   "execution_count": null,
   "metadata": {},
   "outputs": [],
   "source": []
  },
  {
   "attachments": {},
   "cell_type": "markdown",
   "metadata": {},
   "source": [
    "#### 5등급 연료별로 분리"
   ]
  },
  {
   "cell_type": "code",
   "execution_count": 462,
   "metadata": {},
   "outputs": [
    {
     "data": {
      "text/plain": [
       "Index(['차량등록번호', '본거지법정동코드', '차대번호', '제원관리번호', '배출가스인증번호', '배출가스등급', '용도',\n",
       "       '차명', '차종', '차종유형', '연료', '배기량', '총중량', '차량연식', '조기폐차최종승인YN', '저감장치',\n",
       "       '장치일련번호', '저감효율', '연간주행거리', '최신경과기간', '시도', '시구군', '1일평균주행거리', '주행거리',\n",
       "       '검사일자', '검사방법', '검사종류', '검사판정', '무부하매연판정1', '무부하매연판정2', '무부하매연판정3',\n",
       "       '무부하매연측정치1', '무부하매연측정치2', '무부하매연측정치3', '비상시및계절제단속발령건수', '비상시및계절제단속발령YN',\n",
       "       '운행제한단속정보건수', '운행제한단속정보YN', '계절제1차단속YN', '계절제2차단속YN', '계절제3차단속YN',\n",
       "       '비상시단속YN', '연간배출량_조기폐차', '연간배출량_DPF', '장치구분', '연간환경이익_조기폐차',\n",
       "       '연간환경이익_DPF', '환경이익_조기폐차', '환경이익_DPF', '지원비용_조기폐차', '지원비용_DPF',\n",
       "       '경제적타당성_조기폐차', '경제적타당성_DPF', '운행제한단속정보'],\n",
       "      dtype='object')"
      ]
     },
     "execution_count": 462,
     "metadata": {},
     "output_type": "execute_result"
    }
   ],
   "source": [
    "gt5.columns"
   ]
  },
  {
   "cell_type": "code",
   "execution_count": 463,
   "metadata": {},
   "outputs": [
    {
     "data": {
      "text/plain": [
       "연료\n",
       "경유             1125999\n",
       "휘발유              30075\n",
       "LPG(액화석유가스)        438\n",
       "무동력                  5\n",
       "CNG(압축천연가스)          5\n",
       "알코올                  1\n",
       "Name: count, dtype: int64"
      ]
     },
     "execution_count": 463,
     "metadata": {},
     "output_type": "execute_result"
    }
   ],
   "source": [
    "gt5['연료'].value_counts(dropna=False)"
   ]
  },
  {
   "cell_type": "code",
   "execution_count": 464,
   "metadata": {},
   "outputs": [
    {
     "data": {
      "text/plain": [
       "(30513, 54)"
      ]
     },
     "execution_count": 464,
     "metadata": {},
     "output_type": "execute_result"
    }
   ],
   "source": [
    "g5_gl = gt5.loc[(gt5['연료'] == '휘발유') | (gt5['연료'] == 'LPG(액화석유가스)')].reset_index(drop=True)\n",
    "g5_gl.shape"
   ]
  },
  {
   "cell_type": "code",
   "execution_count": 465,
   "metadata": {},
   "outputs": [
    {
     "data": {
      "text/plain": [
       "(1125999, 54)"
      ]
     },
     "execution_count": 465,
     "metadata": {},
     "output_type": "execute_result"
    }
   ],
   "source": [
    "g5_d = gt5.loc[gt5['연료'] == '경유'].reset_index(drop=True)\n",
    "g5_d.shape"
   ]
  },
  {
   "attachments": {},
   "cell_type": "markdown",
   "metadata": {},
   "source": [
    "#### 5등급 휘발유, LPG"
   ]
  },
  {
   "cell_type": "code",
   "execution_count": 650,
   "metadata": {},
   "outputs": [
    {
     "data": {
      "text/plain": [
       "Index(['차량등록번호', '본거지법정동코드', '차대번호', '제원관리번호', '배출가스인증번호', '배출가스등급', '용도',\n",
       "       '차명', '차종', '차종유형', '연료', '배기량', '총중량', '차량연식', '조기폐차최종승인YN', '저감장치',\n",
       "       '장치일련번호', '저감효율', '연간주행거리', '최신경과기간', '시도', '시구군', '1일평균주행거리', '주행거리',\n",
       "       '검사일자', '검사방법', '검사종류', '검사판정', '무부하매연판정1', '무부하매연판정2', '무부하매연판정3',\n",
       "       '무부하매연측정치1', '무부하매연측정치2', '무부하매연측정치3', '비상시및계절제단속발령건수', '비상시및계절제단속발령YN',\n",
       "       '운행제한단속정보건수', '운행제한단속정보YN', '계절제1차단속YN', '계절제2차단속YN', '계절제3차단속YN',\n",
       "       '비상시단속YN', '연간배출량_조기폐차', '연간배출량_DPF', '장치구분', '연간환경이익_조기폐차',\n",
       "       '연간환경이익_DPF', '환경이익_조기폐차', '환경이익_DPF', '지원비용_조기폐차', '지원비용_DPF',\n",
       "       '경제적타당성_조기폐차', '경제적타당성_DPF', '운행제한단속정보'],\n",
       "      dtype='object')"
      ]
     },
     "execution_count": 650,
     "metadata": {},
     "output_type": "execute_result"
    }
   ],
   "source": [
    "g5_gl.columns"
   ]
  },
  {
   "cell_type": "code",
   "execution_count": 651,
   "metadata": {},
   "outputs": [
    {
     "data": {
      "text/plain": [
       "(30513, 54)"
      ]
     },
     "execution_count": 651,
     "metadata": {},
     "output_type": "execute_result"
    }
   ],
   "source": [
    "g5_gl.shape"
   ]
  },
  {
   "cell_type": "code",
   "execution_count": 652,
   "metadata": {},
   "outputs": [],
   "source": [
    "col = ['무부하매연측정치1', '무부하매연측정치2', '무부하매연측정치3', '주행거리', '최신경과기간', '운행제한단속정보', '지원비용_조기폐차', '지원비용_DPF']"
   ]
  },
  {
   "cell_type": "code",
   "execution_count": 653,
   "metadata": {},
   "outputs": [
    {
     "data": {
      "text/plain": [
       "무부하매연측정치1    float64\n",
       "무부하매연측정치2    float64\n",
       "무부하매연측정치3    float64\n",
       "주행거리          object\n",
       "최신경과기간       float64\n",
       "운행제한단속정보     float64\n",
       "지원비용_조기폐차    float64\n",
       "지원비용_DPF     float64\n",
       "dtype: object"
      ]
     },
     "execution_count": 653,
     "metadata": {},
     "output_type": "execute_result"
    }
   ],
   "source": [
    "g5_gl[col].dtypes"
   ]
  },
  {
   "cell_type": "code",
   "execution_count": 654,
   "metadata": {},
   "outputs": [],
   "source": [
    "g5_gl['주행거리'] = g5_gl['주행거리'].astype('float')"
   ]
  },
  {
   "cell_type": "code",
   "execution_count": 655,
   "metadata": {},
   "outputs": [
    {
     "data": {
      "text/plain": [
       "무부하매연측정치1    30119\n",
       "무부하매연측정치2    30122\n",
       "무부하매연측정치3    30122\n",
       "주행거리         30109\n",
       "최신경과기간       30108\n",
       "운행제한단속정보         0\n",
       "지원비용_조기폐차    30513\n",
       "지원비용_DPF     30513\n",
       "dtype: int64"
      ]
     },
     "execution_count": 655,
     "metadata": {},
     "output_type": "execute_result"
    }
   ],
   "source": [
    "g5_gl[col].isnull().sum()"
   ]
  },
  {
   "cell_type": "code",
   "execution_count": 656,
   "metadata": {},
   "outputs": [
    {
     "data": {
      "text/plain": [
       "무부하매연측정치1    0\n",
       "무부하매연측정치2    0\n",
       "무부하매연측정치3    0\n",
       "주행거리         0\n",
       "최신경과기간       0\n",
       "운행제한단속정보     0\n",
       "지원비용_조기폐차    0\n",
       "지원비용_DPF     0\n",
       "dtype: int64"
      ]
     },
     "execution_count": 656,
     "metadata": {},
     "output_type": "execute_result"
    }
   ],
   "source": [
    "# nan 값 0으로 채우기\n",
    "g5_gl[col] = g5_gl[col].fillna(0)\n",
    "g5_gl[col].isnull().sum()"
   ]
  },
  {
   "cell_type": "code",
   "execution_count": 657,
   "metadata": {},
   "outputs": [
    {
     "data": {
      "text/html": [
       "<div>\n",
       "<style scoped>\n",
       "    .dataframe tbody tr th:only-of-type {\n",
       "        vertical-align: middle;\n",
       "    }\n",
       "\n",
       "    .dataframe tbody tr th {\n",
       "        vertical-align: top;\n",
       "    }\n",
       "\n",
       "    .dataframe thead th {\n",
       "        text-align: right;\n",
       "    }\n",
       "</style>\n",
       "<table border=\"1\" class=\"dataframe\">\n",
       "  <thead>\n",
       "    <tr style=\"text-align: right;\">\n",
       "      <th></th>\n",
       "      <th>무부하매연측정치1</th>\n",
       "      <th>무부하매연측정치2</th>\n",
       "      <th>무부하매연측정치3</th>\n",
       "      <th>주행거리</th>\n",
       "      <th>최신경과기간</th>\n",
       "      <th>운행제한단속정보</th>\n",
       "      <th>지원비용_조기폐차</th>\n",
       "      <th>지원비용_DPF</th>\n",
       "    </tr>\n",
       "  </thead>\n",
       "  <tbody>\n",
       "    <tr>\n",
       "      <th>무부하매연측정치1</th>\n",
       "      <td>1.00000</td>\n",
       "      <td>0.51933</td>\n",
       "      <td>0.01154</td>\n",
       "      <td>0.35682</td>\n",
       "      <td>0.42965</td>\n",
       "      <td>NaN</td>\n",
       "      <td>NaN</td>\n",
       "      <td>NaN</td>\n",
       "    </tr>\n",
       "    <tr>\n",
       "      <th>무부하매연측정치2</th>\n",
       "      <td>0.51933</td>\n",
       "      <td>1.00000</td>\n",
       "      <td>0.03928</td>\n",
       "      <td>0.48293</td>\n",
       "      <td>0.54117</td>\n",
       "      <td>NaN</td>\n",
       "      <td>NaN</td>\n",
       "      <td>NaN</td>\n",
       "    </tr>\n",
       "    <tr>\n",
       "      <th>무부하매연측정치3</th>\n",
       "      <td>0.01154</td>\n",
       "      <td>0.03928</td>\n",
       "      <td>1.00000</td>\n",
       "      <td>0.14144</td>\n",
       "      <td>0.17294</td>\n",
       "      <td>NaN</td>\n",
       "      <td>NaN</td>\n",
       "      <td>NaN</td>\n",
       "    </tr>\n",
       "    <tr>\n",
       "      <th>주행거리</th>\n",
       "      <td>0.35682</td>\n",
       "      <td>0.48293</td>\n",
       "      <td>0.14144</td>\n",
       "      <td>1.00000</td>\n",
       "      <td>0.63082</td>\n",
       "      <td>NaN</td>\n",
       "      <td>NaN</td>\n",
       "      <td>NaN</td>\n",
       "    </tr>\n",
       "    <tr>\n",
       "      <th>최신경과기간</th>\n",
       "      <td>0.42965</td>\n",
       "      <td>0.54117</td>\n",
       "      <td>0.17294</td>\n",
       "      <td>0.63082</td>\n",
       "      <td>1.00000</td>\n",
       "      <td>NaN</td>\n",
       "      <td>NaN</td>\n",
       "      <td>NaN</td>\n",
       "    </tr>\n",
       "    <tr>\n",
       "      <th>운행제한단속정보</th>\n",
       "      <td>NaN</td>\n",
       "      <td>NaN</td>\n",
       "      <td>NaN</td>\n",
       "      <td>NaN</td>\n",
       "      <td>NaN</td>\n",
       "      <td>NaN</td>\n",
       "      <td>NaN</td>\n",
       "      <td>NaN</td>\n",
       "    </tr>\n",
       "    <tr>\n",
       "      <th>지원비용_조기폐차</th>\n",
       "      <td>NaN</td>\n",
       "      <td>NaN</td>\n",
       "      <td>NaN</td>\n",
       "      <td>NaN</td>\n",
       "      <td>NaN</td>\n",
       "      <td>NaN</td>\n",
       "      <td>NaN</td>\n",
       "      <td>NaN</td>\n",
       "    </tr>\n",
       "    <tr>\n",
       "      <th>지원비용_DPF</th>\n",
       "      <td>NaN</td>\n",
       "      <td>NaN</td>\n",
       "      <td>NaN</td>\n",
       "      <td>NaN</td>\n",
       "      <td>NaN</td>\n",
       "      <td>NaN</td>\n",
       "      <td>NaN</td>\n",
       "      <td>NaN</td>\n",
       "    </tr>\n",
       "  </tbody>\n",
       "</table>\n",
       "</div>"
      ],
      "text/plain": [
       "           무부하매연측정치1  무부하매연측정치2  무부하매연측정치3    주행거리  최신경과기간  운행제한단속정보   \n",
       "무부하매연측정치1    1.00000    0.51933    0.01154 0.35682 0.42965       NaN  \\\n",
       "무부하매연측정치2    0.51933    1.00000    0.03928 0.48293 0.54117       NaN   \n",
       "무부하매연측정치3    0.01154    0.03928    1.00000 0.14144 0.17294       NaN   \n",
       "주행거리         0.35682    0.48293    0.14144 1.00000 0.63082       NaN   \n",
       "최신경과기간       0.42965    0.54117    0.17294 0.63082 1.00000       NaN   \n",
       "운행제한단속정보         NaN        NaN        NaN     NaN     NaN       NaN   \n",
       "지원비용_조기폐차        NaN        NaN        NaN     NaN     NaN       NaN   \n",
       "지원비용_DPF         NaN        NaN        NaN     NaN     NaN       NaN   \n",
       "\n",
       "           지원비용_조기폐차  지원비용_DPF  \n",
       "무부하매연측정치1        NaN       NaN  \n",
       "무부하매연측정치2        NaN       NaN  \n",
       "무부하매연측정치3        NaN       NaN  \n",
       "주행거리             NaN       NaN  \n",
       "최신경과기간           NaN       NaN  \n",
       "운행제한단속정보         NaN       NaN  \n",
       "지원비용_조기폐차        NaN       NaN  \n",
       "지원비용_DPF         NaN       NaN  "
      ]
     },
     "execution_count": 657,
     "metadata": {},
     "output_type": "execute_result"
    }
   ],
   "source": [
    "g5_gl_corr = g5_gl[col].corr()\n",
    "g5_gl_corr"
   ]
  },
  {
   "cell_type": "code",
   "execution_count": 658,
   "metadata": {},
   "outputs": [
    {
     "data": {
      "text/plain": [
       "무부하매연측정치1   2.31733\n",
       "무부하매연측정치2   2.58271\n",
       "무부하매연측정치3   1.36520\n",
       "주행거리        2.61201\n",
       "최신경과기간      2.77458\n",
       "운행제한단속정보    0.00000\n",
       "지원비용_조기폐차   0.00000\n",
       "지원비용_DPF    0.00000\n",
       "dtype: float64"
      ]
     },
     "execution_count": 658,
     "metadata": {},
     "output_type": "execute_result"
    }
   ],
   "source": [
    "g5_gl_corr.sum()[col]"
   ]
  },
  {
   "cell_type": "code",
   "execution_count": 659,
   "metadata": {},
   "outputs": [
    {
     "data": {
      "text/plain": [
       "(0.15815992095559206,\n",
       " 0.17627200910555246,\n",
       " 0.09317613199353551,\n",
       " 0.1782718886900713,\n",
       " 0.18936743411457607,\n",
       " 0.0682508717135575,\n",
       " 0.0682508717135575,\n",
       " 0.0682508717135575)"
      ]
     },
     "execution_count": 659,
     "metadata": {},
     "output_type": "execute_result"
    }
   ],
   "source": [
    "c1, c2, c3, c4, c5, c6, c7, c8 = g5_gl_corr.sum()[col]\n",
    "c6 += 1\n",
    "c7 += 1\n",
    "c8 += 1\n",
    "sc1 = c1 + c2 + c3 + c4 + c5 + c6 + c7 + c8\n",
    "w1, w2, w3, w4, w5, w6, w7, w8 = c1/sc1, c2/sc1, c3/sc1, c4/sc1, c5/sc1, c6/sc1, c7/sc1, c8/sc1\n",
    "w1, w2, w3, w4, w5, w6, w7, w8"
   ]
  },
  {
   "cell_type": "code",
   "execution_count": 660,
   "metadata": {},
   "outputs": [
    {
     "data": {
      "text/plain": [
       "(1.0, 1.0, 1.0)"
      ]
     },
     "execution_count": 660,
     "metadata": {},
     "output_type": "execute_result"
    }
   ],
   "source": [
    "c6, c7, c8"
   ]
  },
  {
   "cell_type": "code",
   "execution_count": 661,
   "metadata": {},
   "outputs": [
    {
     "data": {
      "text/plain": [
       "0"
      ]
     },
     "execution_count": 661,
     "metadata": {},
     "output_type": "execute_result"
    }
   ],
   "source": [
    "g5_gl['선별포인트'] = w1 * g5_gl['무부하매연측정치1'] + w2 * g5_gl['무부하매연측정치2'] + w3 * g5_gl['무부하매연측정치3'] + w4 * g5_gl['주행거리'] + w5 * g5_gl['최신경과기간'] + w6 * g5_gl['운행제한단속정보'] + w7 * g5_gl['지원비용_조기폐차'] + w8 * g5_gl['지원비용_DPF']\n",
    "g5_gl['선별포인트'].isnull().sum()"
   ]
  },
  {
   "cell_type": "code",
   "execution_count": 701,
   "metadata": {},
   "outputs": [
    {
     "data": {
      "text/html": [
       "<div>\n",
       "<style scoped>\n",
       "    .dataframe tbody tr th:only-of-type {\n",
       "        vertical-align: middle;\n",
       "    }\n",
       "\n",
       "    .dataframe tbody tr th {\n",
       "        vertical-align: top;\n",
       "    }\n",
       "\n",
       "    .dataframe thead th {\n",
       "        text-align: right;\n",
       "    }\n",
       "</style>\n",
       "<table border=\"1\" class=\"dataframe\">\n",
       "  <thead>\n",
       "    <tr style=\"text-align: right;\">\n",
       "      <th></th>\n",
       "      <th>차량등록번호</th>\n",
       "      <th>차종</th>\n",
       "      <th>선별포인트</th>\n",
       "    </tr>\n",
       "  </thead>\n",
       "  <tbody>\n",
       "    <tr>\n",
       "      <th>97</th>\n",
       "      <td>96조3787</td>\n",
       "      <td>화물</td>\n",
       "      <td>301389.43872</td>\n",
       "    </tr>\n",
       "    <tr>\n",
       "      <th>186</th>\n",
       "      <td>부산8마7157</td>\n",
       "      <td>화물</td>\n",
       "      <td>160510.37412</td>\n",
       "    </tr>\n",
       "    <tr>\n",
       "      <th>238</th>\n",
       "      <td>서울34너5731</td>\n",
       "      <td>승용</td>\n",
       "      <td>134111.54159</td>\n",
       "    </tr>\n",
       "    <tr>\n",
       "      <th>16763</th>\n",
       "      <td>99저4802</td>\n",
       "      <td>특수</td>\n",
       "      <td>96457.67168</td>\n",
       "    </tr>\n",
       "    <tr>\n",
       "      <th>30363</th>\n",
       "      <td>02더1817</td>\n",
       "      <td>승용</td>\n",
       "      <td>89371.35494</td>\n",
       "    </tr>\n",
       "    <tr>\n",
       "      <th>78</th>\n",
       "      <td>10노6118</td>\n",
       "      <td>승용</td>\n",
       "      <td>86222.17691</td>\n",
       "    </tr>\n",
       "    <tr>\n",
       "      <th>273</th>\n",
       "      <td>14보2748</td>\n",
       "      <td>승용</td>\n",
       "      <td>73538.52782</td>\n",
       "    </tr>\n",
       "    <tr>\n",
       "      <th>129</th>\n",
       "      <td>45모5972</td>\n",
       "      <td>승용</td>\n",
       "      <td>70038.56683</td>\n",
       "    </tr>\n",
       "    <tr>\n",
       "      <th>181</th>\n",
       "      <td>10거8325</td>\n",
       "      <td>승용</td>\n",
       "      <td>68396.48072</td>\n",
       "    </tr>\n",
       "    <tr>\n",
       "      <th>81</th>\n",
       "      <td>43가3948</td>\n",
       "      <td>승용</td>\n",
       "      <td>67429.98989</td>\n",
       "    </tr>\n",
       "  </tbody>\n",
       "</table>\n",
       "</div>"
      ],
      "text/plain": [
       "          차량등록번호  차종        선별포인트\n",
       "97       96조3787  화물 301389.43872\n",
       "186     부산8마7157  화물 160510.37412\n",
       "238    서울34너5731  승용 134111.54159\n",
       "16763    99저4802  특수  96457.67168\n",
       "30363    02더1817  승용  89371.35494\n",
       "78       10노6118  승용  86222.17691\n",
       "273      14보2748  승용  73538.52782\n",
       "129      45모5972  승용  70038.56683\n",
       "181      10거8325  승용  68396.48072\n",
       "81       43가3948  승용  67429.98989"
      ]
     },
     "execution_count": 701,
     "metadata": {},
     "output_type": "execute_result"
    }
   ],
   "source": [
    "g5_gl.sort_values('선별포인트', ascending=False)[['차량등록번호', '차종', '선별포인트']].head(10)"
   ]
  },
  {
   "cell_type": "code",
   "execution_count": 688,
   "metadata": {},
   "outputs": [
    {
     "data": {
      "text/plain": [
       "count    30513.00000\n",
       "mean       334.32582\n",
       "std       3888.55654\n",
       "min          0.00000\n",
       "25%          0.00000\n",
       "50%          0.00000\n",
       "75%          0.00000\n",
       "max     301389.43872\n",
       "Name: 선별포인트, dtype: float64"
      ]
     },
     "execution_count": 688,
     "metadata": {},
     "output_type": "execute_result"
    }
   ],
   "source": [
    "g5_gl['선별포인트'].describe()"
   ]
  },
  {
   "cell_type": "code",
   "execution_count": 690,
   "metadata": {},
   "outputs": [
    {
     "data": {
      "image/png": "[encoded data removed]",
      "text/plain": [
       "<Figure size 640x480 with 1 Axes>"
      ]
     },
     "metadata": {},
     "output_type": "display_data"
    }
   ],
   "source": [
    "g5_gl['선별포인트'].hist();"
   ]
  },
  {
   "attachments": {},
   "cell_type": "markdown",
   "metadata": {},
   "source": [
    "##### [출력]"
   ]
  },
  {
   "cell_type": "code",
   "execution_count": 697,
   "metadata": {},
   "outputs": [
    {
     "data": {
      "text/plain": [
       "Index(['차량등록번호', '본거지법정동코드', '차대번호', '제원관리번호', '배출가스인증번호', '배출가스등급', '용도',\n",
       "       '차명', '차종', '차종유형', '연료', '배기량', '총중량', '차량연식', '조기폐차최종승인YN', '저감장치',\n",
       "       '장치일련번호', '저감효율', '연간주행거리', '최신경과기간', '시도', '시구군', '1일평균주행거리', '주행거리',\n",
       "       '검사일자', '검사방법', '검사종류', '검사판정', '무부하매연판정1', '무부하매연판정2', '무부하매연판정3',\n",
       "       '무부하매연측정치1', '무부하매연측정치2', '무부하매연측정치3', '비상시및계절제단속발령건수', '비상시및계절제단속발령YN',\n",
       "       '운행제한단속정보건수', '운행제한단속정보YN', '계절제1차단속YN', '계절제2차단속YN', '계절제3차단속YN',\n",
       "       '비상시단속YN', '연간배출량_조기폐차', '연간배출량_DPF', '장치구분', '연간환경이익_조기폐차',\n",
       "       '연간환경이익_DPF', '환경이익_조기폐차', '환경이익_DPF', '지원비용_조기폐차', '지원비용_DPF',\n",
       "       '경제적타당성_조기폐차', '경제적타당성_DPF', '운행제한단속정보', '선별포인트'],\n",
       "      dtype='object')"
      ]
     },
     "execution_count": 697,
     "metadata": {},
     "output_type": "execute_result"
    }
   ],
   "source": [
    "g5_gl.columns"
   ]
  },
  {
   "cell_type": "code",
   "execution_count": null,
   "metadata": {},
   "outputs": [],
   "source": []
  },
  {
   "cell_type": "code",
   "execution_count": null,
   "metadata": {},
   "outputs": [],
   "source": []
  },
  {
   "attachments": {},
   "cell_type": "markdown",
   "metadata": {},
   "source": [
    "#### 5등급 경유"
   ]
  },
  {
   "cell_type": "code",
   "execution_count": 466,
   "metadata": {},
   "outputs": [
    {
     "data": {
      "text/plain": [
       "Index(['차량등록번호', '본거지법정동코드', '차대번호', '제원관리번호', '배출가스인증번호', '배출가스등급', '용도',\n",
       "       '차명', '차종', '차종유형', '연료', '배기량', '총중량', '차량연식', '조기폐차최종승인YN', '저감장치',\n",
       "       '장치일련번호', '저감효율', '연간주행거리', '최신경과기간', '시도', '시구군', '1일평균주행거리', '주행거리',\n",
       "       '검사일자', '검사방법', '검사종류', '검사판정', '무부하매연판정1', '무부하매연판정2', '무부하매연판정3',\n",
       "       '무부하매연측정치1', '무부하매연측정치2', '무부하매연측정치3', '비상시및계절제단속발령건수', '비상시및계절제단속발령YN',\n",
       "       '운행제한단속정보건수', '운행제한단속정보YN', '계절제1차단속YN', '계절제2차단속YN', '계절제3차단속YN',\n",
       "       '비상시단속YN', '연간배출량_조기폐차', '연간배출량_DPF', '장치구분', '연간환경이익_조기폐차',\n",
       "       '연간환경이익_DPF', '환경이익_조기폐차', '환경이익_DPF', '지원비용_조기폐차', '지원비용_DPF',\n",
       "       '경제적타당성_조기폐차', '경제적타당성_DPF', '운행제한단속정보'],\n",
       "      dtype='object')"
      ]
     },
     "execution_count": 466,
     "metadata": {},
     "output_type": "execute_result"
    }
   ],
   "source": [
    "g5_d.columns"
   ]
  },
  {
   "cell_type": "code",
   "execution_count": 467,
   "metadata": {},
   "outputs": [
    {
     "data": {
      "text/plain": [
       "(1125999, 54)"
      ]
     },
     "execution_count": 467,
     "metadata": {},
     "output_type": "execute_result"
    }
   ],
   "source": [
    "g5_d.shape"
   ]
  },
  {
   "attachments": {},
   "cell_type": "markdown",
   "metadata": {},
   "source": [
    "##### 검사기록 존재 여부로 분리\n",
    "- 검사일자 존재 여부\n",
    "- 검사일자 365 * 2 + 30 = 760(일) 초과"
   ]
  },
  {
   "cell_type": "code",
   "execution_count": 468,
   "metadata": {},
   "outputs": [
    {
     "data": {
      "text/plain": [
       "355264"
      ]
     },
     "execution_count": 468,
     "metadata": {},
     "output_type": "execute_result"
    }
   ],
   "source": [
    "g5_d['검사일자'].isnull().sum()"
   ]
  },
  {
   "cell_type": "code",
   "execution_count": 469,
   "metadata": {},
   "outputs": [
    {
     "data": {
      "text/plain": [
       "(1125999,)"
      ]
     },
     "execution_count": 469,
     "metadata": {},
     "output_type": "execute_result"
    }
   ],
   "source": [
    "tidx = g5_d.index\n",
    "tidx.shape"
   ]
  },
  {
   "cell_type": "code",
   "execution_count": 470,
   "metadata": {},
   "outputs": [
    {
     "data": {
      "text/plain": [
       "(696951, 429048)"
      ]
     },
     "execution_count": 470,
     "metadata": {},
     "output_type": "execute_result"
    }
   ],
   "source": [
    "idx2 = g5_d.loc[(g5_d['검사일자'].isnull() == True) | (g5_d['최신경과기간'] > 760)].index\n",
    "idx1 = set(tidx) - set(idx2)\n",
    "len(idx1), len(idx2)"
   ]
  },
  {
   "cell_type": "code",
   "execution_count": 471,
   "metadata": {},
   "outputs": [
    {
     "data": {
      "text/plain": [
       "((696951, 54), (429048, 54))"
      ]
     },
     "execution_count": 471,
     "metadata": {},
     "output_type": "execute_result"
    }
   ],
   "source": [
    "g5_dy = g5_d.loc[list(idx1)].reset_index(drop=True)\n",
    "g5_dn = g5_d.loc[idx2].reset_index(drop=True)\n",
    "g5_dy.shape, g5_dn.shape"
   ]
  },
  {
   "cell_type": "code",
   "execution_count": 472,
   "metadata": {},
   "outputs": [
    {
     "data": {
      "text/plain": [
       "1125999"
      ]
     },
     "execution_count": 472,
     "metadata": {},
     "output_type": "execute_result"
    }
   ],
   "source": [
    "g5_dy.shape[0] + g5_dn.shape[0]"
   ]
  },
  {
   "attachments": {},
   "cell_type": "markdown",
   "metadata": {},
   "source": [
    "##### 연간주행거리 존재 여부로 분리"
   ]
  },
  {
   "cell_type": "code",
   "execution_count": 473,
   "metadata": {},
   "outputs": [
    {
     "data": {
      "text/plain": [
       "0"
      ]
     },
     "execution_count": 473,
     "metadata": {},
     "output_type": "execute_result"
    }
   ],
   "source": [
    "g5_dy['연간주행거리'].isnull().sum()"
   ]
  },
  {
   "cell_type": "code",
   "execution_count": 474,
   "metadata": {},
   "outputs": [
    {
     "data": {
      "text/plain": [
       "count   696951.00000\n",
       "mean     12806.35979\n",
       "std      28495.28857\n",
       "min          0.31547\n",
       "25%       3668.96104\n",
       "50%       8817.09497\n",
       "75%      14125.50000\n",
       "max     960840.79730\n",
       "Name: 연간주행거리, dtype: float64"
      ]
     },
     "execution_count": 474,
     "metadata": {},
     "output_type": "execute_result"
    }
   ],
   "source": [
    "g5_dy['연간주행거리'].describe()"
   ]
  },
  {
   "cell_type": "code",
   "execution_count": 475,
   "metadata": {},
   "outputs": [
    {
     "data": {
      "text/plain": [
       "2409     960840.79730\n",
       "478379   960407.96247\n",
       "256891   959340.06579\n",
       "503860   958777.04774\n",
       "213294   958105.08186\n",
       "270744   957453.94410\n",
       "368576   955819.73684\n",
       "523095   953002.66892\n",
       "406989   951604.21348\n",
       "172690   949738.15375\n",
       "Name: 연간주행거리, dtype: float64"
      ]
     },
     "execution_count": 475,
     "metadata": {},
     "output_type": "execute_result"
    }
   ],
   "source": [
    "g5_dy.sort_values(['연간주행거리'], ascending=False)['연간주행거리'].head(10)"
   ]
  },
  {
   "cell_type": "code",
   "execution_count": 476,
   "metadata": {},
   "outputs": [
    {
     "data": {
      "text/plain": [
       "0"
      ]
     },
     "execution_count": 476,
     "metadata": {},
     "output_type": "execute_result"
    }
   ],
   "source": [
    "g5_dy['1일평균주행거리'] = g5_dy['연간주행거리'] / 365\n",
    "g5_dy['1일평균주행거리'].isnull().sum()"
   ]
  },
  {
   "cell_type": "code",
   "execution_count": 477,
   "metadata": {},
   "outputs": [
    {
     "data": {
      "text/plain": [
       "count   696951.00000\n",
       "mean        35.08592\n",
       "std         78.06928\n",
       "min          0.00086\n",
       "25%         10.05195\n",
       "50%         24.15642\n",
       "75%         38.70000\n",
       "max       2632.44054\n",
       "Name: 1일평균주행거리, dtype: float64"
      ]
     },
     "execution_count": 477,
     "metadata": {},
     "output_type": "execute_result"
    }
   ],
   "source": [
    "g5_dy['1일평균주행거리'].describe()"
   ]
  },
  {
   "cell_type": "code",
   "execution_count": 478,
   "metadata": {},
   "outputs": [],
   "source": [
    "g5_dy['지원비용_조기폐차_백만원'] = g5_dy['지원비용_조기폐차'] / 1000\n",
    "g5_dy['지원비용_DPF_백만원'] = g5_dy['지원비용_DPF'] / 1000"
   ]
  },
  {
   "cell_type": "code",
   "execution_count": 479,
   "metadata": {},
   "outputs": [
    {
     "data": {
      "text/html": [
       "<div>\n",
       "<style scoped>\n",
       "    .dataframe tbody tr th:only-of-type {\n",
       "        vertical-align: middle;\n",
       "    }\n",
       "\n",
       "    .dataframe tbody tr th {\n",
       "        vertical-align: top;\n",
       "    }\n",
       "\n",
       "    .dataframe thead th {\n",
       "        text-align: right;\n",
       "    }\n",
       "</style>\n",
       "<table border=\"1\" class=\"dataframe\">\n",
       "  <thead>\n",
       "    <tr style=\"text-align: right;\">\n",
       "      <th></th>\n",
       "      <th>지원비용_조기폐차_백만원</th>\n",
       "      <th>지원비용_DPF_백만원</th>\n",
       "    </tr>\n",
       "  </thead>\n",
       "  <tbody>\n",
       "    <tr>\n",
       "      <th>0</th>\n",
       "      <td>7.50000</td>\n",
       "      <td>NaN</td>\n",
       "    </tr>\n",
       "    <tr>\n",
       "      <th>1</th>\n",
       "      <td>3.00000</td>\n",
       "      <td>NaN</td>\n",
       "    </tr>\n",
       "    <tr>\n",
       "      <th>2</th>\n",
       "      <td>4.40000</td>\n",
       "      <td>NaN</td>\n",
       "    </tr>\n",
       "    <tr>\n",
       "      <th>3</th>\n",
       "      <td>11.00000</td>\n",
       "      <td>NaN</td>\n",
       "    </tr>\n",
       "    <tr>\n",
       "      <th>4</th>\n",
       "      <td>11.00000</td>\n",
       "      <td>NaN</td>\n",
       "    </tr>\n",
       "  </tbody>\n",
       "</table>\n",
       "</div>"
      ],
      "text/plain": [
       "   지원비용_조기폐차_백만원  지원비용_DPF_백만원\n",
       "0        7.50000           NaN\n",
       "1        3.00000           NaN\n",
       "2        4.40000           NaN\n",
       "3       11.00000           NaN\n",
       "4       11.00000           NaN"
      ]
     },
     "execution_count": 479,
     "metadata": {},
     "output_type": "execute_result"
    }
   ],
   "source": [
    "g5_dy[['지원비용_조기폐차_백만원', '지원비용_DPF_백만원']].head()"
   ]
  },
  {
   "cell_type": "code",
   "execution_count": 480,
   "metadata": {},
   "outputs": [
    {
     "data": {
      "text/plain": [
       "count   559579.00000\n",
       "mean       388.53572\n",
       "std        159.59380\n",
       "min        125.00000\n",
       "25%        262.00000\n",
       "50%        375.00000\n",
       "75%        505.00000\n",
       "max        760.00000\n",
       "Name: 최신경과기간, dtype: float64"
      ]
     },
     "execution_count": 480,
     "metadata": {},
     "output_type": "execute_result"
    }
   ],
   "source": [
    "g5_dy['최신경과기간'].describe()"
   ]
  },
  {
   "cell_type": "code",
   "execution_count": 481,
   "metadata": {},
   "outputs": [
    {
     "data": {
      "text/plain": [
       "count   696951.00000\n",
       "mean        35.08592\n",
       "std         78.06928\n",
       "min          0.00086\n",
       "25%         10.05195\n",
       "50%         24.15642\n",
       "75%         38.70000\n",
       "max       2632.44054\n",
       "Name: 1일평균주행거리, dtype: float64"
      ]
     },
     "execution_count": 481,
     "metadata": {},
     "output_type": "execute_result"
    }
   ],
   "source": [
    "g5_dy['1일평균주행거리'].describe()"
   ]
  },
  {
   "cell_type": "code",
   "execution_count": 482,
   "metadata": {},
   "outputs": [
    {
     "data": {
      "text/plain": [
       "(2204, 56)"
      ]
     },
     "execution_count": 482,
     "metadata": {},
     "output_type": "execute_result"
    }
   ],
   "source": [
    "g5_dy[g5_dy['1일평균주행거리'] > 500].shape"
   ]
  },
  {
   "cell_type": "code",
   "execution_count": 483,
   "metadata": {},
   "outputs": [],
   "source": [
    "col = ['무부하매연측정치1', '1일평균주행거리', '최신경과기간', '운행제한단속정보', '지원비용_조기폐차_백만원', '지원비용_DPF_백만원']"
   ]
  },
  {
   "cell_type": "code",
   "execution_count": 484,
   "metadata": {},
   "outputs": [
    {
     "data": {
      "text/plain": [
       "무부하매연측정치1        float64\n",
       "1일평균주행거리         float64\n",
       "최신경과기간           float64\n",
       "운행제한단속정보         float64\n",
       "지원비용_조기폐차_백만원    float64\n",
       "지원비용_DPF_백만원     float64\n",
       "dtype: object"
      ]
     },
     "execution_count": 484,
     "metadata": {},
     "output_type": "execute_result"
    }
   ],
   "source": [
    "g5_dy[col].dtypes"
   ]
  },
  {
   "cell_type": "code",
   "execution_count": 485,
   "metadata": {},
   "outputs": [],
   "source": [
    "# g5_d['주행거리'] = g5_d['주행거리'].astype('float')"
   ]
  },
  {
   "cell_type": "code",
   "execution_count": 486,
   "metadata": {},
   "outputs": [
    {
     "data": {
      "text/plain": [
       "무부하매연측정치1          5983\n",
       "1일평균주행거리              0\n",
       "최신경과기간           137372\n",
       "운행제한단속정보              0\n",
       "지원비용_조기폐차_백만원         0\n",
       "지원비용_DPF_백만원     525170\n",
       "dtype: int64"
      ]
     },
     "execution_count": 486,
     "metadata": {},
     "output_type": "execute_result"
    }
   ],
   "source": [
    "g5_dy[col].isnull().sum()"
   ]
  },
  {
   "cell_type": "code",
   "execution_count": 487,
   "metadata": {},
   "outputs": [],
   "source": [
    "# # nan 값 0으로 채우기\n",
    "# g5_dy[col] = g5_dy[col].fillna(0)\n",
    "# g5_dy[col].isnull().sum()"
   ]
  },
  {
   "cell_type": "code",
   "execution_count": 488,
   "metadata": {},
   "outputs": [
    {
     "data": {
      "text/html": [
       "<div>\n",
       "<style scoped>\n",
       "    .dataframe tbody tr th:only-of-type {\n",
       "        vertical-align: middle;\n",
       "    }\n",
       "\n",
       "    .dataframe tbody tr th {\n",
       "        vertical-align: top;\n",
       "    }\n",
       "\n",
       "    .dataframe thead th {\n",
       "        text-align: right;\n",
       "    }\n",
       "</style>\n",
       "<table border=\"1\" class=\"dataframe\">\n",
       "  <thead>\n",
       "    <tr style=\"text-align: right;\">\n",
       "      <th></th>\n",
       "      <th>무부하매연측정치1</th>\n",
       "      <th>1일평균주행거리</th>\n",
       "      <th>최신경과기간</th>\n",
       "      <th>운행제한단속정보</th>\n",
       "      <th>지원비용_조기폐차_백만원</th>\n",
       "      <th>지원비용_DPF_백만원</th>\n",
       "    </tr>\n",
       "  </thead>\n",
       "  <tbody>\n",
       "    <tr>\n",
       "      <th>무부하매연측정치1</th>\n",
       "      <td>1.00000</td>\n",
       "      <td>-0.03760</td>\n",
       "      <td>-0.00216</td>\n",
       "      <td>-0.05587</td>\n",
       "      <td>-0.08208</td>\n",
       "      <td>0.00656</td>\n",
       "    </tr>\n",
       "    <tr>\n",
       "      <th>1일평균주행거리</th>\n",
       "      <td>-0.03760</td>\n",
       "      <td>1.00000</td>\n",
       "      <td>0.00433</td>\n",
       "      <td>0.07537</td>\n",
       "      <td>0.18860</td>\n",
       "      <td>0.01462</td>\n",
       "    </tr>\n",
       "    <tr>\n",
       "      <th>최신경과기간</th>\n",
       "      <td>-0.00216</td>\n",
       "      <td>0.00433</td>\n",
       "      <td>1.00000</td>\n",
       "      <td>-0.00737</td>\n",
       "      <td>-0.11007</td>\n",
       "      <td>-0.06013</td>\n",
       "    </tr>\n",
       "    <tr>\n",
       "      <th>운행제한단속정보</th>\n",
       "      <td>-0.05587</td>\n",
       "      <td>0.07537</td>\n",
       "      <td>-0.00737</td>\n",
       "      <td>1.00000</td>\n",
       "      <td>0.13506</td>\n",
       "      <td>-0.00050</td>\n",
       "    </tr>\n",
       "    <tr>\n",
       "      <th>지원비용_조기폐차_백만원</th>\n",
       "      <td>-0.08208</td>\n",
       "      <td>0.18860</td>\n",
       "      <td>-0.11007</td>\n",
       "      <td>0.13506</td>\n",
       "      <td>1.00000</td>\n",
       "      <td>0.08144</td>\n",
       "    </tr>\n",
       "    <tr>\n",
       "      <th>지원비용_DPF_백만원</th>\n",
       "      <td>0.00656</td>\n",
       "      <td>0.01462</td>\n",
       "      <td>-0.06013</td>\n",
       "      <td>-0.00050</td>\n",
       "      <td>0.08144</td>\n",
       "      <td>1.00000</td>\n",
       "    </tr>\n",
       "  </tbody>\n",
       "</table>\n",
       "</div>"
      ],
      "text/plain": [
       "               무부하매연측정치1  1일평균주행거리   최신경과기간  운행제한단속정보  지원비용_조기폐차_백만원   \n",
       "무부하매연측정치1        1.00000  -0.03760 -0.00216  -0.05587       -0.08208  \\\n",
       "1일평균주행거리        -0.03760   1.00000  0.00433   0.07537        0.18860   \n",
       "최신경과기간          -0.00216   0.00433  1.00000  -0.00737       -0.11007   \n",
       "운행제한단속정보        -0.05587   0.07537 -0.00737   1.00000        0.13506   \n",
       "지원비용_조기폐차_백만원   -0.08208   0.18860 -0.11007   0.13506        1.00000   \n",
       "지원비용_DPF_백만원     0.00656   0.01462 -0.06013  -0.00050        0.08144   \n",
       "\n",
       "               지원비용_DPF_백만원  \n",
       "무부하매연측정치1           0.00656  \n",
       "1일평균주행거리            0.01462  \n",
       "최신경과기간             -0.06013  \n",
       "운행제한단속정보           -0.00050  \n",
       "지원비용_조기폐차_백만원       0.08144  \n",
       "지원비용_DPF_백만원        1.00000  "
      ]
     },
     "execution_count": 488,
     "metadata": {},
     "output_type": "execute_result"
    }
   ],
   "source": [
    "g5_dy_corr = g5_dy[col].corr()\n",
    "g5_dy_corr"
   ]
  },
  {
   "cell_type": "code",
   "execution_count": 489,
   "metadata": {},
   "outputs": [
    {
     "data": {
      "text/plain": [
       "무부하매연측정치1       0.82885\n",
       "1일평균주행거리        1.24531\n",
       "최신경과기간          0.82461\n",
       "운행제한단속정보        1.14668\n",
       "지원비용_조기폐차_백만원   1.21294\n",
       "지원비용_DPF_백만원    1.04199\n",
       "dtype: float64"
      ]
     },
     "execution_count": 489,
     "metadata": {},
     "output_type": "execute_result"
    }
   ],
   "source": [
    "g5_dy_corr.sum()[col]"
   ]
  },
  {
   "cell_type": "code",
   "execution_count": 490,
   "metadata": {},
   "outputs": [
    {
     "data": {
      "text/plain": [
       "(0.1315554192548675,\n",
       " 0.19765687345747376,\n",
       " 0.13088232647202966,\n",
       " 0.18200181510039404,\n",
       " 0.1925185605234286,\n",
       " 0.16538500519180635)"
      ]
     },
     "execution_count": 490,
     "metadata": {},
     "output_type": "execute_result"
    }
   ],
   "source": [
    "c1, c2, c3, c4, c5, c6 = g5_dy_corr.sum()[col]\n",
    "sc1 = c1 + c2 + c3 + c4 + c5 + c6\n",
    "w1, w2, w3, w4, w5, w6 = c1/sc1, c2/sc1, c3/sc1, c4/sc1, c5/sc1, c6/sc1\n",
    "w1, w2, w3, w4, w5, w6"
   ]
  },
  {
   "cell_type": "code",
   "execution_count": 491,
   "metadata": {},
   "outputs": [
    {
     "data": {
      "text/plain": [
       "546269"
      ]
     },
     "execution_count": 491,
     "metadata": {},
     "output_type": "execute_result"
    }
   ],
   "source": [
    "g5_dy['선별포인트'] = w1 * g5_dy['무부하매연측정치1'] + w2 * g5_dy['1일평균주행거리'] + w3 * g5_dy['최신경과기간'] + w4 * g5_dy['운행제한단속정보'] + w5 * g5_dy['지원비용_조기폐차_백만원'] + w6 * g5_dy['지원비용_DPF_백만원']\n",
    "g5_dy['선별포인트'].isnull().sum()"
   ]
  },
  {
   "cell_type": "code",
   "execution_count": 492,
   "metadata": {},
   "outputs": [
    {
     "data": {
      "text/html": [
       "<div>\n",
       "<style scoped>\n",
       "    .dataframe tbody tr th:only-of-type {\n",
       "        vertical-align: middle;\n",
       "    }\n",
       "\n",
       "    .dataframe tbody tr th {\n",
       "        vertical-align: top;\n",
       "    }\n",
       "\n",
       "    .dataframe thead th {\n",
       "        text-align: right;\n",
       "    }\n",
       "</style>\n",
       "<table border=\"1\" class=\"dataframe\">\n",
       "  <thead>\n",
       "    <tr style=\"text-align: right;\">\n",
       "      <th></th>\n",
       "      <th>차량등록번호</th>\n",
       "      <th>차종</th>\n",
       "      <th>선별포인트</th>\n",
       "    </tr>\n",
       "  </thead>\n",
       "  <tbody>\n",
       "    <tr>\n",
       "      <th>213294</th>\n",
       "      <td>34오1091</td>\n",
       "      <td>승용</td>\n",
       "      <td>590.51127</td>\n",
       "    </tr>\n",
       "    <tr>\n",
       "      <th>323834</th>\n",
       "      <td>부산91바2292</td>\n",
       "      <td>화물</td>\n",
       "      <td>590.12122</td>\n",
       "    </tr>\n",
       "    <tr>\n",
       "      <th>478379</th>\n",
       "      <td>88오5703</td>\n",
       "      <td>화물</td>\n",
       "      <td>582.08247</td>\n",
       "    </tr>\n",
       "    <tr>\n",
       "      <th>304328</th>\n",
       "      <td>27러5929</td>\n",
       "      <td>승용</td>\n",
       "      <td>576.03212</td>\n",
       "    </tr>\n",
       "    <tr>\n",
       "      <th>345945</th>\n",
       "      <td>96저1682</td>\n",
       "      <td>화물</td>\n",
       "      <td>574.30353</td>\n",
       "    </tr>\n",
       "    <tr>\n",
       "      <th>520319</th>\n",
       "      <td>87저7052</td>\n",
       "      <td>화물</td>\n",
       "      <td>567.97145</td>\n",
       "    </tr>\n",
       "    <tr>\n",
       "      <th>45659</th>\n",
       "      <td>96노9629</td>\n",
       "      <td>화물</td>\n",
       "      <td>566.64513</td>\n",
       "    </tr>\n",
       "    <tr>\n",
       "      <th>270744</th>\n",
       "      <td>96로7463</td>\n",
       "      <td>화물</td>\n",
       "      <td>563.84354</td>\n",
       "    </tr>\n",
       "    <tr>\n",
       "      <th>325938</th>\n",
       "      <td>96주6266</td>\n",
       "      <td>화물</td>\n",
       "      <td>560.45483</td>\n",
       "    </tr>\n",
       "    <tr>\n",
       "      <th>541817</th>\n",
       "      <td>89서3951</td>\n",
       "      <td>화물</td>\n",
       "      <td>557.05935</td>\n",
       "    </tr>\n",
       "  </tbody>\n",
       "</table>\n",
       "</div>"
      ],
      "text/plain": [
       "           차량등록번호  차종     선별포인트\n",
       "213294    34오1091  승용 590.51127\n",
       "323834  부산91바2292  화물 590.12122\n",
       "478379    88오5703  화물 582.08247\n",
       "304328    27러5929  승용 576.03212\n",
       "345945    96저1682  화물 574.30353\n",
       "520319    87저7052  화물 567.97145\n",
       "45659     96노9629  화물 566.64513\n",
       "270744    96로7463  화물 563.84354\n",
       "325938    96주6266  화물 560.45483\n",
       "541817    89서3951  화물 557.05935"
      ]
     },
     "execution_count": 492,
     "metadata": {},
     "output_type": "execute_result"
    }
   ],
   "source": [
    "g5_dy.sort_values('선별포인트', ascending=False)[['차량등록번호', '차종', '선별포인트']].head(10)"
   ]
  },
  {
   "cell_type": "code",
   "execution_count": 493,
   "metadata": {},
   "outputs": [
    {
     "data": {
      "text/plain": [
       "count   150682.00000\n",
       "mean        58.80561\n",
       "std         26.30668\n",
       "min         17.51115\n",
       "25%         41.33889\n",
       "50%         55.91708\n",
       "75%         73.51006\n",
       "max        590.51127\n",
       "Name: 선별포인트, dtype: float64"
      ]
     },
     "execution_count": 493,
     "metadata": {},
     "output_type": "execute_result"
    }
   ],
   "source": [
    "g5_dy['선별포인트'].describe()"
   ]
  },
  {
   "cell_type": "code",
   "execution_count": 494,
   "metadata": {},
   "outputs": [
    {
     "data": {
      "image/png": "[encoded data removed]",
      "text/plain": [
       "<Figure size 640x480 with 1 Axes>"
      ]
     },
     "metadata": {},
     "output_type": "display_data"
    }
   ],
   "source": [
    "g5_dy['선별포인트'].hist();"
   ]
  },
  {
   "cell_type": "code",
   "execution_count": 495,
   "metadata": {},
   "outputs": [
    {
     "data": {
      "text/plain": [
       "(148604, 57)"
      ]
     },
     "execution_count": 495,
     "metadata": {},
     "output_type": "execute_result"
    }
   ],
   "source": [
    "g5_dy[g5_dy['선별포인트'] < 110].shape"
   ]
  },
  {
   "cell_type": "code",
   "execution_count": 496,
   "metadata": {},
   "outputs": [
    {
     "data": {
      "text/plain": [
       "<AxesSubplot:>"
      ]
     },
     "execution_count": 496,
     "metadata": {},
     "output_type": "execute_result"
    },
    {
     "data": {
      "image/png": "[encoded data removed]",
      "text/plain": [
       "<Figure size 640x480 with 1 Axes>"
      ]
     },
     "metadata": {},
     "output_type": "display_data"
    }
   ],
   "source": [
    "g5_dy.loc[g5_dy['선별포인트'] < 110, '선별포인트'].hist()"
   ]
  },
  {
   "attachments": {},
   "cell_type": "markdown",
   "metadata": {},
   "source": [
    "##### [출력]"
   ]
  },
  {
   "cell_type": "code",
   "execution_count": 497,
   "metadata": {},
   "outputs": [
    {
     "data": {
      "text/plain": [
       "Index(['차량등록번호', '본거지법정동코드', '차대번호', '제원관리번호', '배출가스인증번호', '배출가스등급', '용도',\n",
       "       '차명', '차종', '차종유형', '연료', '배기량', '총중량', '차량연식', '조기폐차최종승인YN', '저감장치',\n",
       "       '장치일련번호', '저감효율', '연간주행거리', '최신경과기간', '시도', '시구군', '1일평균주행거리', '주행거리',\n",
       "       '검사일자', '검사방법', '검사종류', '검사판정', '무부하매연판정1', '무부하매연판정2', '무부하매연판정3',\n",
       "       '무부하매연측정치1', '무부하매연측정치2', '무부하매연측정치3', '비상시및계절제단속발령건수', '비상시및계절제단속발령YN',\n",
       "       '운행제한단속정보건수', '운행제한단속정보YN', '계절제1차단속YN', '계절제2차단속YN', '계절제3차단속YN',\n",
       "       '비상시단속YN', '연간배출량_조기폐차', '연간배출량_DPF', '장치구분', '연간환경이익_조기폐차',\n",
       "       '연간환경이익_DPF', '환경이익_조기폐차', '환경이익_DPF', '지원비용_조기폐차', '지원비용_DPF',\n",
       "       '경제적타당성_조기폐차', '경제적타당성_DPF', '운행제한단속정보'],\n",
       "      dtype='object')"
      ]
     },
     "execution_count": 497,
     "metadata": {},
     "output_type": "execute_result"
    }
   ],
   "source": [
    "g5_d.columns"
   ]
  },
  {
   "attachments": {},
   "cell_type": "markdown",
   "metadata": {},
   "source": [
    "# code end"
   ]
  }
 ],
 "metadata": {
  "kernelspec": {
   "display_name": "base",
   "language": "python",
   "name": "python3"
  },
  "language_info": {
   "codemirror_mode": {
    "name": "ipython",
    "version": 3
   },
   "file_extension": ".py",
   "mimetype": "text/x-python",
   "name": "python",
   "nbconvert_exporter": "python",
   "pygments_lexer": "ipython3",
   "version": "3.9.13"
  },
  "orig_nbformat": 4,
  "vscode": {
   "interpreter": {
    "hash": "ad2bdc8ecc057115af97d19610ffacc2b4e99fae6737bb82f5d7fb13d2f2c186"
   }
  }
 },
 "nbformat": 4,
 "nbformat_minor": 2
}
