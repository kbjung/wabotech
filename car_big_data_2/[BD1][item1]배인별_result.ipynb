{
 "cells": [
  {
   "attachments": {},
   "cell_type": "markdown",
   "metadata": {},
   "source": [
    "# Library\n"
   ]
  },
  {
   "cell_type": "code",
   "execution_count": 1,
   "metadata": {},
   "outputs": [],
   "source": [
    "import pandas as pd\n",
    "import numpy as np\n",
    "import os\n",
    "from tqdm import tqdm\n",
    "from datetime import datetime\n",
    "from glob import glob"
   ]
  },
  {
   "cell_type": "code",
   "execution_count": 42,
   "metadata": {},
   "outputs": [],
   "source": [
    "# 소수점 옵션\n",
    "pd.options.display.float_format = '{:.2f}'.format\n",
    "# pd.reset_option('display.float_format')"
   ]
  },
  {
   "attachments": {},
   "cell_type": "markdown",
   "metadata": {},
   "source": [
    "# fold path"
   ]
  },
  {
   "cell_type": "code",
   "execution_count": 128,
   "metadata": {},
   "outputs": [],
   "source": [
    "raw_fold = 'D:/data/big2/BD1/raw'\n",
    "ods_fold = 'D:/data/big2/ODS'\n",
    "sample_fold = 'D:/data/big2/BD1/sample'\n",
    "analysis_fold = 'D:/data/big2/BD1/an'"
   ]
  },
  {
   "attachments": {},
   "cell_type": "markdown",
   "metadata": {},
   "source": [
    "# Load"
   ]
  },
  {
   "attachments": {},
   "cell_type": "markdown",
   "metadata": {},
   "source": [
    "## 4등급 경유 result"
   ]
  },
  {
   "cell_type": "code",
   "execution_count": 26,
   "metadata": {},
   "outputs": [
    {
     "name": "stdout",
     "output_type": "stream",
     "text": [
      "<class 'pandas.core.frame.DataFrame'>\n",
      "RangeIndex: 1153813 entries, 0 to 1153812\n",
      "Data columns (total 31 columns):\n",
      " #   Column    Non-Null Count    Dtype  \n",
      "---  ------    --------------    -----  \n",
      " 0   차대번호      1153813 non-null  object \n",
      " 1   차량번호      1153813 non-null  object \n",
      " 2   제원관리번호    1153813 non-null  object \n",
      " 3   차종_원본     1153813 non-null  object \n",
      " 4   용도        1153813 non-null  object \n",
      " 5   최초등록일     1153813 non-null  int64  \n",
      " 6   연식        1153813 non-null  int64  \n",
      " 7   제작일자      1153809 non-null  float64\n",
      " 8   검사유효일     1153810 non-null  float64\n",
      " 9   배출가스인증번호  1146663 non-null  object \n",
      " 10  등급        1153813 non-null  int64  \n",
      " 11  차명        1153813 non-null  object \n",
      " 12  차종분류      1153813 non-null  object \n",
      " 13  차종유형      1153813 non-null  object \n",
      " 14  자동차형식     1153812 non-null  object \n",
      " 15  제작사명      1153795 non-null  object \n",
      " 16  연료        1153813 non-null  object \n",
      " 17  엔진형식      1153813 non-null  object \n",
      " 18  총중량       1153813 non-null  int64  \n",
      " 19  적재중량      1153589 non-null  float64\n",
      " 20  엔진출력      1153811 non-null  float64\n",
      " 21  배기량       1153813 non-null  int64  \n",
      " 22  법정동코드     1153813 non-null  int64  \n",
      " 23  시도명       1153813 non-null  object \n",
      " 24  시군구명      1153813 non-null  object \n",
      " 25  소유자구분     1153813 non-null  object \n",
      " 26  말소여부      1153813 non-null  object \n",
      " 27  일치유무      1153813 non-null  object \n",
      " 28  배인번호_수정   1153813 non-null  object \n",
      " 29  등급_수정     1153813 non-null  int64  \n",
      " 30  DPF유무_수정  1153813 non-null  object \n",
      "dtypes: float64(4), int64(7), object(20)\n",
      "memory usage: 272.9+ MB\n"
     ]
    }
   ],
   "source": [
    "# about 12s\n",
    "name = '병합_4등급_차량_리스트_양식_result_최종(2023.03.20)'\n",
    "file_name = f'{name}.csv'\n",
    "result = pd.read_csv(os.path.join(raw_fold, file_name), low_memory=False, encoding='cp949')\n",
    "result.info()"
   ]
  },
  {
   "cell_type": "code",
   "execution_count": 27,
   "metadata": {},
   "outputs": [
    {
     "data": {
      "text/plain": [
       "Index(['차대번호', '차량번호', '제원관리번호', '차종_원본', '용도', '최초등록일', '연식', '제작일자', '검사유효일',\n",
       "       '배출가스인증번호', '등급', '차명', '차종분류', '차종유형', '자동차형식', '제작사명', '연료', '엔진형식',\n",
       "       '총중량', '적재중량', '엔진출력', '배기량', '법정동코드', '시도명', '시군구명', '소유자구분', '말소여부',\n",
       "       '일치유무', '배인번호_수정', '등급_수정', 'DPF유무_수정'],\n",
       "      dtype='object')"
      ]
     },
     "execution_count": 27,
     "metadata": {},
     "output_type": "execute_result"
    }
   ],
   "source": [
    "result.columns"
   ]
  },
  {
   "cell_type": "code",
   "execution_count": 28,
   "metadata": {},
   "outputs": [
    {
     "data": {
      "text/plain": [
       "4    1153813\n",
       "Name: 등급, dtype: int64"
      ]
     },
     "execution_count": 28,
     "metadata": {},
     "output_type": "execute_result"
    }
   ],
   "source": [
    "result['등급'].value_counts(dropna=False)"
   ]
  },
  {
   "cell_type": "code",
   "execution_count": 29,
   "metadata": {},
   "outputs": [
    {
     "data": {
      "text/plain": [
       "경유    1153813\n",
       "Name: 연료, dtype: int64"
      ]
     },
     "execution_count": 29,
     "metadata": {},
     "output_type": "execute_result"
    }
   ],
   "source": [
    "result['연료'].value_counts(dropna=False)"
   ]
  },
  {
   "cell_type": "code",
   "execution_count": 30,
   "metadata": {},
   "outputs": [
    {
     "data": {
      "text/plain": [
       "N    1153813\n",
       "Name: 말소여부, dtype: int64"
      ]
     },
     "execution_count": 30,
     "metadata": {},
     "output_type": "execute_result"
    }
   ],
   "source": [
    "result['말소여부'].value_counts(dropna=False)"
   ]
  },
  {
   "cell_type": "code",
   "execution_count": 31,
   "metadata": {},
   "outputs": [
    {
     "data": {
      "text/plain": [
       "배인번호_수정     0\n",
       "등급_수정       0\n",
       "DPF유무_수정    0\n",
       "dtype: int64"
      ]
     },
     "execution_count": 31,
     "metadata": {},
     "output_type": "execute_result"
    }
   ],
   "source": [
    "result[['배인번호_수정', '등급_수정', 'DPF유무_수정']].isnull().sum()"
   ]
  },
  {
   "attachments": {},
   "cell_type": "markdown",
   "metadata": {},
   "source": [
    "## 검증된 배인번호 파일"
   ]
  },
  {
   "cell_type": "code",
   "execution_count": 142,
   "metadata": {},
   "outputs": [
    {
     "name": "stdout",
     "output_type": "stream",
     "text": [
      "<class 'pandas.core.frame.DataFrame'>\n",
      "RangeIndex: 174 entries, 0 to 173\n",
      "Data columns (total 8 columns):\n",
      " #   Column      Non-Null Count  Dtype  \n",
      "---  ------      --------------  -----  \n",
      " 0   제작사         174 non-null    object \n",
      " 1   배출가스 인증번호   173 non-null    object \n",
      " 2   차명          172 non-null    object \n",
      " 3   Result1     173 non-null    float64\n",
      " 4   Result2     173 non-null    float64\n",
      " 5   검증 후 차량 대수  174 non-null    int64  \n",
      " 6   DPF장착여부     173 non-null    object \n",
      " 7   배출가스 등급     173 non-null    float64\n",
      "dtypes: float64(3), int64(1), object(4)\n",
      "memory usage: 11.0+ KB\n"
     ]
    }
   ],
   "source": [
    "name = '[BD1] 4등급 검증 결과 정리(23.03.20)'\n",
    "file_name = f'{name}.xlsx'\n",
    "check = pd.read_excel(os.path.join(raw_fold, file_name))\n",
    "check.info()"
   ]
  },
  {
   "attachments": {},
   "cell_type": "markdown",
   "metadata": {},
   "source": [
    "## 정기&정밀검사 최신"
   ]
  },
  {
   "cell_type": "code",
   "execution_count": 25,
   "metadata": {},
   "outputs": [
    {
     "name": "stdout",
     "output_type": "stream",
     "text": [
      "<class 'pandas.core.frame.DataFrame'>\n",
      "RangeIndex: 22044208 entries, 0 to 22044207\n",
      "Data columns (total 42 columns):\n",
      " #   Column     Dtype  \n",
      "---  ------     -----  \n",
      " 0   사용연료       object \n",
      " 1   주행거리       object \n",
      " 2   차명         object \n",
      " 3   차량번호       object \n",
      " 4   차대번호       object \n",
      " 5   차종         object \n",
      " 6   차량연식       int64  \n",
      " 7   엔진형식       object \n",
      " 8   검사방법       object \n",
      " 9   검사일자       int64  \n",
      " 10  검사종류       object \n",
      " 11  검사판정시각     object \n",
      " 12  검사판정       object \n",
      " 13  산소값        float64\n",
      " 14  이산화탄소값     float64\n",
      " 15  무부하매연판정1   object \n",
      " 16  무부하매연판정2   object \n",
      " 17  무부하매연판정3   object \n",
      " 18  무부하매연판정4   object \n",
      " 19  무부하매연판정5   object \n",
      " 20  무부하매연판정6   object \n",
      " 21  무부하매연허용치1  float64\n",
      " 22  무부하매연허용치2  float64\n",
      " 23  무부하매연허용치3  float64\n",
      " 24  무부하매연허용치4  float64\n",
      " 25  무부하매연허용치5  float64\n",
      " 26  무부하매연허용치6  float64\n",
      " 27  무부하매연측정치1  float64\n",
      " 28  무부하매연측정치2  float64\n",
      " 29  무부하매연측정치3  float64\n",
      " 30  무부하매연측정치4  float64\n",
      " 31  무부하매연측정치5  float64\n",
      " 32  무부하매연측정치6  float64\n",
      " 33  차량용도       object \n",
      " 34  최대출력허용치    float64\n",
      " 35  최대출력측정값    float64\n",
      " 36  검사접수번호     object \n",
      " 37  검사소명       object \n",
      " 38  재검사기간      object \n",
      " 39  정기정밀       object \n",
      " 40  검사 검사소코드   object \n",
      " 41  검사유효기간     float64\n",
      "dtypes: float64(17), int64(2), object(23)\n",
      "memory usage: 6.9+ GB\n"
     ]
    }
   ],
   "source": [
    "# about 4m 21s\n",
    "name = '[ODS]정기&정밀검사(최신검사만)(2022.12.28)'\n",
    "file_name = f'{name}.csv'\n",
    "tin = pd.read_csv(os.path.join(ods_fold, file_name), low_memory=False)\n",
    "tin.info()"
   ]
  },
  {
   "attachments": {},
   "cell_type": "markdown",
   "metadata": {},
   "source": [
    "# 전처리"
   ]
  },
  {
   "attachments": {},
   "cell_type": "markdown",
   "metadata": {},
   "source": [
    "## result와 정기&정밀 검사 파일 병합"
   ]
  },
  {
   "cell_type": "code",
   "execution_count": 37,
   "metadata": {},
   "outputs": [
    {
     "data": {
      "text/plain": [
       "(1153813, 72)"
      ]
     },
     "execution_count": 37,
     "metadata": {},
     "output_type": "execute_result"
    }
   ],
   "source": [
    "# about 45s\n",
    "df = result.merge(tin, on='차대번호', how='left')\n",
    "df.shape"
   ]
  },
  {
   "cell_type": "code",
   "execution_count": 38,
   "metadata": {},
   "outputs": [
    {
     "data": {
      "text/plain": [
       "Index(['차대번호', '차량번호_x', '제원관리번호', '차종_원본', '용도', '최초등록일', '연식', '제작일자',\n",
       "       '검사유효일', '배출가스인증번호', '등급', '차명_x', '차종분류', '차종유형', '자동차형식', '제작사명',\n",
       "       '연료', '엔진형식_x', '총중량', '적재중량', '엔진출력', '배기량', '법정동코드', '시도명', '시군구명',\n",
       "       '소유자구분', '말소여부', '일치유무', '배인번호_수정', '등급_수정', 'DPF유무_수정', '사용연료', '주행거리',\n",
       "       '차명_y', '차량번호_y', '차종', '차량연식', '엔진형식_y', '검사방법', '검사일자', '검사종류',\n",
       "       '검사판정시각', '검사판정', '산소값', '이산화탄소값', '무부하매연판정1', '무부하매연판정2', '무부하매연판정3',\n",
       "       '무부하매연판정4', '무부하매연판정5', '무부하매연판정6', '무부하매연허용치1', '무부하매연허용치2',\n",
       "       '무부하매연허용치3', '무부하매연허용치4', '무부하매연허용치5', '무부하매연허용치6', '무부하매연측정치1',\n",
       "       '무부하매연측정치2', '무부하매연측정치3', '무부하매연측정치4', '무부하매연측정치5', '무부하매연측정치6', '차량용도',\n",
       "       '최대출력허용치', '최대출력측정값', '검사접수번호', '검사소명', '재검사기간', '정기정밀', '검사 검사소코드',\n",
       "       '검사유효기간'],\n",
       "      dtype='object')"
      ]
     },
     "execution_count": 38,
     "metadata": {},
     "output_type": "execute_result"
    }
   ],
   "source": [
    "df.columns"
   ]
  },
  {
   "cell_type": "code",
   "execution_count": 39,
   "metadata": {},
   "outputs": [
    {
     "data": {
      "text/plain": [
       "Index(['차대번호', '차량번호', '제원관리번호', '차종', '용도', '최초등록일', '연식', '제작일자', '검사유효일',\n",
       "       '배출가스인증번호', '등급', '차명', '차종분류', '차종유형', '자동차형식', '제작사명', '연료', '엔진형식',\n",
       "       '총중량', '적재중량', '엔진출력', '배기량', '법정동코드', '시도명', '시군구명', '소유자구분', '말소여부',\n",
       "       '일치유무', '배인번호_수정', '등급_수정', 'DPF유무_수정', '주행거리', '차량연식', '검사방법', '검사일자',\n",
       "       '검사종류', '검사판정시각', '검사판정', '산소값', '이산화탄소값', '무부하매연판정1', '무부하매연판정2',\n",
       "       '무부하매연판정3', '무부하매연판정4', '무부하매연판정5', '무부하매연판정6', '무부하매연허용치1',\n",
       "       '무부하매연허용치2', '무부하매연허용치3', '무부하매연허용치4', '무부하매연허용치5', '무부하매연허용치6',\n",
       "       '무부하매연측정치1', '무부하매연측정치2', '무부하매연측정치3', '무부하매연측정치4', '무부하매연측정치5',\n",
       "       '무부하매연측정치6', '정기정밀'],\n",
       "      dtype='object')"
      ]
     },
     "execution_count": 39,
     "metadata": {},
     "output_type": "execute_result"
    }
   ],
   "source": [
    "df = df[['차대번호', '차량번호_x', '제원관리번호', '차종_원본', '용도', '최초등록일', '연식', '제작일자', '검사유효일', '배출가스인증번호', '등급', '차명_x', '차종분류', '차종유형', '자동차형식', '제작사명',\n",
    "         '연료', '엔진형식_x', '총중량', '적재중량', '엔진출력', '배기량', '법정동코드', '시도명', '시군구명', '소유자구분', '말소여부', '일치유무', '배인번호_수정', '등급_수정', 'DPF유무_수정', \n",
    "         '주행거리', '차량연식', '검사방법', '검사일자', '검사종류', '검사판정시각', '검사판정', \n",
    "         '산소값', '이산화탄소값', \n",
    "         '무부하매연판정1', '무부하매연판정2', '무부하매연판정3', '무부하매연판정4', '무부하매연판정5', '무부하매연판정6', \n",
    "         '무부하매연허용치1', '무부하매연허용치2', '무부하매연허용치3', '무부하매연허용치4', '무부하매연허용치5', '무부하매연허용치6', \n",
    "         '무부하매연측정치1', '무부하매연측정치2', '무부하매연측정치3', '무부하매연측정치4', '무부하매연측정치5', '무부하매연측정치6', \n",
    "         '정기정밀']]\n",
    "df = df.rename(columns={'차량번호_x':'차량번호', '차명_x':'차명', '엔진형식_x':'엔진형식', '차종_원본':'차종'})\n",
    "df.columns"
   ]
  },
  {
   "cell_type": "code",
   "execution_count": 40,
   "metadata": {},
   "outputs": [
    {
     "data": {
      "text/plain": [
       "(1153813, 59)"
      ]
     },
     "execution_count": 40,
     "metadata": {},
     "output_type": "execute_result"
    }
   ],
   "source": [
    "df.shape"
   ]
  },
  {
   "cell_type": "code",
   "execution_count": 43,
   "metadata": {},
   "outputs": [
    {
     "data": {
      "text/plain": [
       "count    1131176.00\n",
       "mean    20217027.32\n",
       "std         5869.66\n",
       "min     20190102.00\n",
       "25%     20211028.00\n",
       "50%     20220329.00\n",
       "75%     20220729.00\n",
       "max     20230107.00\n",
       "Name: 검사일자, dtype: float64"
      ]
     },
     "execution_count": 43,
     "metadata": {},
     "output_type": "execute_result"
    }
   ],
   "source": [
    "df['검사일자'].describe()"
   ]
  },
  {
   "attachments": {},
   "cell_type": "markdown",
   "metadata": {},
   "source": [
    "### [출력] result와 정기&정밀(최신검사)"
   ]
  },
  {
   "cell_type": "code",
   "execution_count": 44,
   "metadata": {},
   "outputs": [],
   "source": [
    "# about 28s\n",
    "df.to_csv(os.path.join(raw_fold, '병합_result(4등급_경유)&정기&정밀(최신검사).csv'), index=False, encoding='cp949')"
   ]
  },
  {
   "attachments": {},
   "cell_type": "markdown",
   "metadata": {},
   "source": [
    "## str 타입으로 변경\n",
    "- 배인번호_수정\n",
    "- 엔진형식\n",
    "- 검사판정"
   ]
  },
  {
   "cell_type": "code",
   "execution_count": 46,
   "metadata": {},
   "outputs": [
    {
     "data": {
      "text/plain": [
       "배인번호_수정        0\n",
       "자동차형식          1\n",
       "엔진형식           0\n",
       "검사판정       22637\n",
       "dtype: int64"
      ]
     },
     "execution_count": 46,
     "metadata": {},
     "output_type": "execute_result"
    }
   ],
   "source": [
    "df[['배인번호_수정', '자동차형식', '엔진형식', '검사판정']].isnull().sum()"
   ]
  },
  {
   "cell_type": "code",
   "execution_count": 47,
   "metadata": {},
   "outputs": [],
   "source": [
    "df['배인번호_수정'] = df['배인번호_수정'].astype('str')\n",
    "df['자동차형식'] = df['자동차형식'].astype('str')\n",
    "df['엔진형식'] = df['엔진형식'].astype('str')\n",
    "df['검사판정'] = df['검사판정'].astype('str')"
   ]
  },
  {
   "cell_type": "code",
   "execution_count": 48,
   "metadata": {},
   "outputs": [
    {
     "data": {
      "text/plain": [
       "배인번호_수정    0\n",
       "자동차형식      0\n",
       "엔진형식       0\n",
       "검사판정       0\n",
       "dtype: int64"
      ]
     },
     "execution_count": 48,
     "metadata": {},
     "output_type": "execute_result"
    }
   ],
   "source": [
    "df[['배인번호_수정', '자동차형식', '엔진형식', '검사판정']].isnull().sum()"
   ]
  },
  {
   "attachments": {},
   "cell_type": "markdown",
   "metadata": {},
   "source": [
    "## 차대번호 10자리 연식"
   ]
  },
  {
   "cell_type": "code",
   "execution_count": 53,
   "metadata": {},
   "outputs": [],
   "source": [
    "df1 = df.copy()"
   ]
  },
  {
   "cell_type": "code",
   "execution_count": 55,
   "metadata": {},
   "outputs": [],
   "source": [
    "df1['vin10'] = df1['차대번호'].str[9]"
   ]
  },
  {
   "cell_type": "code",
   "execution_count": 56,
   "metadata": {},
   "outputs": [],
   "source": [
    "vin10_dict = {'J':1988, 'K':1989, 'L':1990, 'M':1991, 'N':1992, 'P':1993, 'R':1994, 'S':1995, 'T':1996, 'V':1997, 'W':1998, 'X':1999, 'Y':2000, '1':2001, '2':2002, '3':2003, '4':2004, '5':2005, '6':2006, '7':2007, '8':2008, '9':2009, 'A':2010, 'B':2011, 'C':2012, 'D':2013, 'E':2014, 'F':2015, 'G':2016, 'H':2017}"
   ]
  },
  {
   "cell_type": "code",
   "execution_count": 57,
   "metadata": {},
   "outputs": [],
   "source": [
    "df1['vin10_year'] = df1['vin10'].map(vin10_dict, na_action='ignore')"
   ]
  },
  {
   "attachments": {},
   "cell_type": "markdown",
   "metadata": {},
   "source": [
    "## check 파일 정리"
   ]
  },
  {
   "cell_type": "code",
   "execution_count": 143,
   "metadata": {},
   "outputs": [
    {
     "data": {
      "text/html": [
       "<div>\n",
       "<style scoped>\n",
       "    .dataframe tbody tr th:only-of-type {\n",
       "        vertical-align: middle;\n",
       "    }\n",
       "\n",
       "    .dataframe tbody tr th {\n",
       "        vertical-align: top;\n",
       "    }\n",
       "\n",
       "    .dataframe thead th {\n",
       "        text-align: right;\n",
       "    }\n",
       "</style>\n",
       "<table border=\"1\" class=\"dataframe\">\n",
       "  <thead>\n",
       "    <tr style=\"text-align: right;\">\n",
       "      <th></th>\n",
       "      <th>제작사</th>\n",
       "      <th>배출가스 인증번호</th>\n",
       "      <th>차명</th>\n",
       "      <th>Result1</th>\n",
       "      <th>Result2</th>\n",
       "      <th>검증 후 차량 대수</th>\n",
       "      <th>DPF장착여부</th>\n",
       "      <th>배출가스 등급</th>\n",
       "    </tr>\n",
       "  </thead>\n",
       "  <tbody>\n",
       "    <tr>\n",
       "      <th>0</th>\n",
       "      <td>현대자동차(주)</td>\n",
       "      <td>3MY-HD-14</td>\n",
       "      <td>포터Ⅱ(PORTERⅡ)</td>\n",
       "      <td>0.00</td>\n",
       "      <td>8.00</td>\n",
       "      <td>8</td>\n",
       "      <td>N</td>\n",
       "      <td>5.00</td>\n",
       "    </tr>\n",
       "    <tr>\n",
       "      <th>1</th>\n",
       "      <td>현대자동차(주)</td>\n",
       "      <td>3MY-HD-15</td>\n",
       "      <td>포터Ⅱ(PORTERⅡ)</td>\n",
       "      <td>0.00</td>\n",
       "      <td>1.00</td>\n",
       "      <td>1</td>\n",
       "      <td>N</td>\n",
       "      <td>5.00</td>\n",
       "    </tr>\n",
       "    <tr>\n",
       "      <th>2</th>\n",
       "      <td>아우디폭스바겐코리아(주)</td>\n",
       "      <td>4MY-AD-20</td>\n",
       "      <td>아우디 A6 3.0 TDI Quattro</td>\n",
       "      <td>29.00</td>\n",
       "      <td>1.00</td>\n",
       "      <td>30</td>\n",
       "      <td>N</td>\n",
       "      <td>4.00</td>\n",
       "    </tr>\n",
       "    <tr>\n",
       "      <th>3</th>\n",
       "      <td>자일대우상용차 주식회사</td>\n",
       "      <td>4MY-DB-03</td>\n",
       "      <td>BX212</td>\n",
       "      <td>9.00</td>\n",
       "      <td>0.00</td>\n",
       "      <td>9</td>\n",
       "      <td>N</td>\n",
       "      <td>4.00</td>\n",
       "    </tr>\n",
       "    <tr>\n",
       "      <th>4</th>\n",
       "      <td>자일대우상용차 주식회사</td>\n",
       "      <td>4MY-DB-04</td>\n",
       "      <td>BS106</td>\n",
       "      <td>24.00</td>\n",
       "      <td>0.00</td>\n",
       "      <td>24</td>\n",
       "      <td>N</td>\n",
       "      <td>4.00</td>\n",
       "    </tr>\n",
       "  </tbody>\n",
       "</table>\n",
       "</div>"
      ],
      "text/plain": [
       "             제작사  배출가스 인증번호                      차명  Result1  Result2  \\\n",
       "0       현대자동차(주)  3MY-HD-14            포터Ⅱ(PORTERⅡ)     0.00     8.00   \n",
       "1       현대자동차(주)  3MY-HD-15            포터Ⅱ(PORTERⅡ)     0.00     1.00   \n",
       "2  아우디폭스바겐코리아(주)  4MY-AD-20  아우디 A6 3.0 TDI Quattro    29.00     1.00   \n",
       "3   자일대우상용차 주식회사  4MY-DB-03                   BX212     9.00     0.00   \n",
       "4   자일대우상용차 주식회사  4MY-DB-04                   BS106    24.00     0.00   \n",
       "\n",
       "   검증 후 차량 대수 DPF장착여부  배출가스 등급  \n",
       "0           8       N     5.00  \n",
       "1           1       N     5.00  \n",
       "2          30       N     4.00  \n",
       "3           9       N     4.00  \n",
       "4          24       N     4.00  "
      ]
     },
     "execution_count": 143,
     "metadata": {},
     "output_type": "execute_result"
    }
   ],
   "source": [
    "check.head()"
   ]
  },
  {
   "cell_type": "code",
   "execution_count": 144,
   "metadata": {},
   "outputs": [
    {
     "data": {
      "text/html": [
       "<div>\n",
       "<style scoped>\n",
       "    .dataframe tbody tr th:only-of-type {\n",
       "        vertical-align: middle;\n",
       "    }\n",
       "\n",
       "    .dataframe tbody tr th {\n",
       "        vertical-align: top;\n",
       "    }\n",
       "\n",
       "    .dataframe thead th {\n",
       "        text-align: right;\n",
       "    }\n",
       "</style>\n",
       "<table border=\"1\" class=\"dataframe\">\n",
       "  <thead>\n",
       "    <tr style=\"text-align: right;\">\n",
       "      <th></th>\n",
       "      <th>제작사</th>\n",
       "      <th>배출가스 인증번호</th>\n",
       "      <th>차명</th>\n",
       "      <th>Result1</th>\n",
       "      <th>Result2</th>\n",
       "      <th>검증 후 차량 대수</th>\n",
       "      <th>DPF장착여부</th>\n",
       "      <th>배출가스 등급</th>\n",
       "    </tr>\n",
       "  </thead>\n",
       "  <tbody>\n",
       "    <tr>\n",
       "      <th>169</th>\n",
       "      <td>볼보트럭코리아(주)</td>\n",
       "      <td>FMY-VTK-14-4</td>\n",
       "      <td>FH 트랙터</td>\n",
       "      <td>0.00</td>\n",
       "      <td>49.00</td>\n",
       "      <td>49</td>\n",
       "      <td>Y</td>\n",
       "      <td>3.00</td>\n",
       "    </tr>\n",
       "    <tr>\n",
       "      <th>170</th>\n",
       "      <td>미기입</td>\n",
       "      <td>확인안됨</td>\n",
       "      <td>코란도KJ</td>\n",
       "      <td>0.00</td>\n",
       "      <td>1.00</td>\n",
       "      <td>1</td>\n",
       "      <td>N</td>\n",
       "      <td>5.00</td>\n",
       "    </tr>\n",
       "    <tr>\n",
       "      <th>171</th>\n",
       "      <td>미기입</td>\n",
       "      <td>확인안됨</td>\n",
       "      <td>기아뉴복사17</td>\n",
       "      <td>0.00</td>\n",
       "      <td>1.00</td>\n",
       "      <td>1</td>\n",
       "      <td>N</td>\n",
       "      <td>5.00</td>\n",
       "    </tr>\n",
       "    <tr>\n",
       "      <th>172</th>\n",
       "      <td>미기입</td>\n",
       "      <td>확인안됨</td>\n",
       "      <td>NaN</td>\n",
       "      <td>3.00</td>\n",
       "      <td>6656.00</td>\n",
       "      <td>6659</td>\n",
       "      <td>알수없음</td>\n",
       "      <td>4.00</td>\n",
       "    </tr>\n",
       "    <tr>\n",
       "      <th>173</th>\n",
       "      <td>합계</td>\n",
       "      <td>NaN</td>\n",
       "      <td>NaN</td>\n",
       "      <td>NaN</td>\n",
       "      <td>NaN</td>\n",
       "      <td>1153813</td>\n",
       "      <td>NaN</td>\n",
       "      <td>NaN</td>\n",
       "    </tr>\n",
       "  </tbody>\n",
       "</table>\n",
       "</div>"
      ],
      "text/plain": [
       "            제작사     배출가스 인증번호       차명  Result1  Result2  검증 후 차량 대수 DPF장착여부  \\\n",
       "169  볼보트럭코리아(주)  FMY-VTK-14-4   FH 트랙터     0.00    49.00          49       Y   \n",
       "170         미기입          확인안됨    코란도KJ     0.00     1.00           1       N   \n",
       "171         미기입          확인안됨  기아뉴복사17     0.00     1.00           1       N   \n",
       "172         미기입          확인안됨      NaN     3.00  6656.00        6659    알수없음   \n",
       "173          합계           NaN      NaN      NaN      NaN     1153813     NaN   \n",
       "\n",
       "     배출가스 등급  \n",
       "169     3.00  \n",
       "170     5.00  \n",
       "171     5.00  \n",
       "172     4.00  \n",
       "173      NaN  "
      ]
     },
     "execution_count": 144,
     "metadata": {},
     "output_type": "execute_result"
    }
   ],
   "source": [
    "check.tail()"
   ]
  },
  {
   "cell_type": "code",
   "execution_count": 145,
   "metadata": {},
   "outputs": [
    {
     "data": {
      "text/html": [
       "<div>\n",
       "<style scoped>\n",
       "    .dataframe tbody tr th:only-of-type {\n",
       "        vertical-align: middle;\n",
       "    }\n",
       "\n",
       "    .dataframe tbody tr th {\n",
       "        vertical-align: top;\n",
       "    }\n",
       "\n",
       "    .dataframe thead th {\n",
       "        text-align: right;\n",
       "    }\n",
       "</style>\n",
       "<table border=\"1\" class=\"dataframe\">\n",
       "  <thead>\n",
       "    <tr style=\"text-align: right;\">\n",
       "      <th></th>\n",
       "      <th>제작사</th>\n",
       "      <th>배출가스 인증번호</th>\n",
       "      <th>차명</th>\n",
       "      <th>Result1</th>\n",
       "      <th>Result2</th>\n",
       "      <th>검증 후 차량 대수</th>\n",
       "      <th>DPF장착여부</th>\n",
       "      <th>배출가스 등급</th>\n",
       "    </tr>\n",
       "  </thead>\n",
       "  <tbody>\n",
       "    <tr>\n",
       "      <th>165</th>\n",
       "      <td>자일대우상용차 주식회사</td>\n",
       "      <td>FMY-DB-14-54</td>\n",
       "      <td>BH090</td>\n",
       "      <td>13.00</td>\n",
       "      <td>0.00</td>\n",
       "      <td>13</td>\n",
       "      <td>Y</td>\n",
       "      <td>3.00</td>\n",
       "    </tr>\n",
       "    <tr>\n",
       "      <th>166</th>\n",
       "      <td>볼보트럭코리아(주)</td>\n",
       "      <td>FMY-VTK-14-1</td>\n",
       "      <td>FH 트랙터</td>\n",
       "      <td>0.00</td>\n",
       "      <td>1780.00</td>\n",
       "      <td>1780</td>\n",
       "      <td>Y</td>\n",
       "      <td>3.00</td>\n",
       "    </tr>\n",
       "    <tr>\n",
       "      <th>167</th>\n",
       "      <td>볼보트럭코리아(주)</td>\n",
       "      <td>FMY-VTK-14-2</td>\n",
       "      <td>FM 카고</td>\n",
       "      <td>0.00</td>\n",
       "      <td>87.00</td>\n",
       "      <td>87</td>\n",
       "      <td>Y</td>\n",
       "      <td>3.00</td>\n",
       "    </tr>\n",
       "    <tr>\n",
       "      <th>168</th>\n",
       "      <td>볼보트럭코리아(주)</td>\n",
       "      <td>FMY-VTK-14-3</td>\n",
       "      <td>FL 카고</td>\n",
       "      <td>0.00</td>\n",
       "      <td>76.00</td>\n",
       "      <td>76</td>\n",
       "      <td>Y</td>\n",
       "      <td>3.00</td>\n",
       "    </tr>\n",
       "    <tr>\n",
       "      <th>169</th>\n",
       "      <td>볼보트럭코리아(주)</td>\n",
       "      <td>FMY-VTK-14-4</td>\n",
       "      <td>FH 트랙터</td>\n",
       "      <td>0.00</td>\n",
       "      <td>49.00</td>\n",
       "      <td>49</td>\n",
       "      <td>Y</td>\n",
       "      <td>3.00</td>\n",
       "    </tr>\n",
       "  </tbody>\n",
       "</table>\n",
       "</div>"
      ],
      "text/plain": [
       "              제작사     배출가스 인증번호      차명  Result1  Result2  검증 후 차량 대수 DPF장착여부  \\\n",
       "165  자일대우상용차 주식회사  FMY-DB-14-54   BH090    13.00     0.00          13       Y   \n",
       "166    볼보트럭코리아(주)  FMY-VTK-14-1  FH 트랙터     0.00  1780.00        1780       Y   \n",
       "167    볼보트럭코리아(주)  FMY-VTK-14-2   FM 카고     0.00    87.00          87       Y   \n",
       "168    볼보트럭코리아(주)  FMY-VTK-14-3   FL 카고     0.00    76.00          76       Y   \n",
       "169    볼보트럭코리아(주)  FMY-VTK-14-4  FH 트랙터     0.00    49.00          49       Y   \n",
       "\n",
       "     배출가스 등급  \n",
       "165     3.00  \n",
       "166     3.00  \n",
       "167     3.00  \n",
       "168     3.00  \n",
       "169     3.00  "
      ]
     },
     "execution_count": 145,
     "metadata": {},
     "output_type": "execute_result"
    }
   ],
   "source": [
    "check1 = check.iloc[:170]\n",
    "check1.tail()"
   ]
  },
  {
   "cell_type": "code",
   "execution_count": 146,
   "metadata": {},
   "outputs": [
    {
     "data": {
      "text/plain": [
       "(170, 8)"
      ]
     },
     "execution_count": 146,
     "metadata": {},
     "output_type": "execute_result"
    }
   ],
   "source": [
    "check1.shape"
   ]
  },
  {
   "attachments": {},
   "cell_type": "markdown",
   "metadata": {},
   "source": [
    "# 배출가스 인증번호별 분석\n",
    "- issue\n",
    "    - 배인번호 없음 : 9MY-KM-14-22\n",
    "        - 차명 : 쏘렌토\n",
    "        - 등급변경 : 3 -> 4\n",
    "        - 아직 보류"
   ]
  },
  {
   "attachments": {},
   "cell_type": "markdown",
   "metadata": {},
   "source": [
    "## [로드] 배인번호 파일"
   ]
  },
  {
   "cell_type": "code",
   "execution_count": 25,
   "metadata": {},
   "outputs": [],
   "source": [
    "# 5MY-BK-14-07\n",
    "# 6MY-BK-13-08\n",
    "# 6MY-MK-14-02\n",
    "# 5MY-HD-24-35"
   ]
  },
  {
   "cell_type": "code",
   "execution_count": 26,
   "metadata": {},
   "outputs": [],
   "source": [
    "# 에러\n",
    "# [해결] 6MK-DK-14-1 : 잘못된 배인번호 -> 6MY-DK-14-1로 수정\n",
    "# [해결] 7MY-DB-23-40 : 샘플 없음 -> 조건문 설정\n",
    "# [해결] FMY-DB-14-54 : 전부 차대번호10자리 연식과 연식 다른 문제 -> 조건문 설정\n",
    "# [해결] 7MY-DB-23-40 : 샘플 없음 -> 조건문 설정"
   ]
  },
  {
   "cell_type": "code",
   "execution_count": 170,
   "metadata": {},
   "outputs": [],
   "source": [
    "test_df = pd.DataFrame()"
   ]
  },
  {
   "cell_type": "code",
   "execution_count": 171,
   "metadata": {},
   "outputs": [
    {
     "data": {
      "text/plain": [
       "(219, 61)"
      ]
     },
     "execution_count": 171,
     "metadata": {},
     "output_type": "execute_result"
    }
   ],
   "source": [
    "emis_no = '5MY-BK-14-07'\n",
    "gas_df = df1.loc[df1['배인번호_수정'] == emis_no]\n",
    "gas_df.shape"
   ]
  },
  {
   "attachments": {},
   "cell_type": "markdown",
   "metadata": {},
   "source": [
    "### 전처리\n",
    "- 제거\n",
    "    - 차대번호 17자리 아닌 샘플\n",
    "    - 차대번호 10자리와 차량연식이 다른 샘플"
   ]
  },
  {
   "attachments": {},
   "cell_type": "markdown",
   "metadata": {},
   "source": [
    "#### [출력] 차대번호17자리 아닌 샘플"
   ]
  },
  {
   "cell_type": "code",
   "execution_count": 172,
   "metadata": {},
   "outputs": [
    {
     "data": {
      "text/plain": [
       "((219, 61), (0, 61))"
      ]
     },
     "execution_count": 172,
     "metadata": {},
     "output_type": "execute_result"
    }
   ],
   "source": [
    "gas_df_vin17_y = gas_df[(gas_df['차대번호'].str.len() == 17)].reset_index(drop=True)\n",
    "gas_df_vin17_n = gas_df[(gas_df['차대번호'].str.len() != 17)].reset_index(drop=True)\n",
    "gas_df_vin17_y.shape, gas_df_vin17_n.shape"
   ]
  },
  {
   "cell_type": "code",
   "execution_count": 173,
   "metadata": {},
   "outputs": [],
   "source": [
    "# gas_df_vin17_n.to_excel(os.path.join(emis_sample_fold, f'샘플_차대번호17자리아닌_{emis_no}.xlsx'), index=False)"
   ]
  },
  {
   "attachments": {},
   "cell_type": "markdown",
   "metadata": {},
   "source": [
    "#### [출력] 차대번호10자리 연도와 차량연식 다른 샘플"
   ]
  },
  {
   "cell_type": "code",
   "execution_count": 174,
   "metadata": {},
   "outputs": [
    {
     "data": {
      "text/plain": [
       "((219, 61), (0, 61))"
      ]
     },
     "execution_count": 174,
     "metadata": {},
     "output_type": "execute_result"
    }
   ],
   "source": [
    "gas_df_vin17_y_vin10_year_y = gas_df_vin17_y[gas_df_vin17_y['vin10_year'] == gas_df_vin17_y['연식']].reset_index(drop=True)\n",
    "gas_df_vin17_y_vin10_year_n = gas_df_vin17_y[gas_df_vin17_y['vin10_year'] != gas_df_vin17_y['연식']].reset_index(drop=True)\n",
    "gas_df_vin17_y_vin10_year_y.shape, gas_df_vin17_y_vin10_year_n.shape"
   ]
  },
  {
   "cell_type": "code",
   "execution_count": 175,
   "metadata": {},
   "outputs": [],
   "source": [
    "# gas_df_vin17_y_vin10_year_n.to_excel(os.path.join(emis_sample_fold, f'샘플_차대번호17자리_차량연식다른_{emis_no}.xlsx'), index=False)"
   ]
  },
  {
   "attachments": {},
   "cell_type": "markdown",
   "metadata": {},
   "source": [
    "### 분석\n",
    "- 제원관리번호별, 자동차형식별, 엔진형식별, 검사판정별 무부하매연측정치1 통계"
   ]
  },
  {
   "cell_type": "code",
   "execution_count": 176,
   "metadata": {},
   "outputs": [
    {
     "data": {
      "text/plain": [
       "dtype('float64')"
      ]
     },
     "execution_count": 176,
     "metadata": {},
     "output_type": "execute_result"
    }
   ],
   "source": [
    "gas_df_vin17_y_vin10_year_y['무부하매연측정치1'].dtype"
   ]
  },
  {
   "cell_type": "code",
   "execution_count": 177,
   "metadata": {},
   "outputs": [
    {
     "data": {
      "text/plain": [
       "15"
      ]
     },
     "execution_count": 177,
     "metadata": {},
     "output_type": "execute_result"
    }
   ],
   "source": [
    "gas_df_vin17_y_vin10_year_y['무부하매연측정치1'].isnull().sum()"
   ]
  },
  {
   "cell_type": "code",
   "execution_count": 178,
   "metadata": {},
   "outputs": [],
   "source": [
    "def flat_cols(df):\n",
    "    df.columns = ['/'.join(x) for x in df.columns.to_flat_index()]\n",
    "    return df"
   ]
  },
  {
   "cell_type": "code",
   "execution_count": 179,
   "metadata": {},
   "outputs": [],
   "source": [
    "g = gas_df_vin17_y_vin10_year_y.groupby(['제작사명', '배인번호_수정', '제원관리번호', '자동차형식', '엔진형식', '검사판정'], dropna=False, ).agg({'차대번호':'count', '무부하매연측정치1':['mean', 'min', 'max']}).pipe(flat_cols).round(2).reset_index()\n",
    "g = g.rename(columns={'배인번호_수정':'배출가스인증번호', '차대번호/count':'대수', '무부하매연측정치1/mean':'mean', '무부하매연측정치1/min':'min', '무부하매연측정치1/max':'max'})"
   ]
  },
  {
   "cell_type": "code",
   "execution_count": 180,
   "metadata": {},
   "outputs": [
    {
     "data": {
      "text/html": [
       "<div>\n",
       "<style scoped>\n",
       "    .dataframe tbody tr th:only-of-type {\n",
       "        vertical-align: middle;\n",
       "    }\n",
       "\n",
       "    .dataframe tbody tr th {\n",
       "        vertical-align: top;\n",
       "    }\n",
       "\n",
       "    .dataframe thead th {\n",
       "        text-align: right;\n",
       "    }\n",
       "</style>\n",
       "<table border=\"1\" class=\"dataframe\">\n",
       "  <thead>\n",
       "    <tr style=\"text-align: right;\">\n",
       "      <th></th>\n",
       "      <th>제작사명</th>\n",
       "      <th>배출가스인증번호</th>\n",
       "      <th>제원관리번호</th>\n",
       "      <th>자동차형식</th>\n",
       "      <th>엔진형식</th>\n",
       "      <th>검사판정</th>\n",
       "      <th>대수</th>\n",
       "      <th>mean</th>\n",
       "      <th>min</th>\n",
       "      <th>max</th>\n",
       "    </tr>\n",
       "  </thead>\n",
       "  <tbody>\n",
       "    <tr>\n",
       "      <th>0</th>\n",
       "      <td>비엠더블유코리아(주)</td>\n",
       "      <td>5MY-BK-14-07</td>\n",
       "      <td>120001600041305</td>\n",
       "      <td>X3 3.0d</td>\n",
       "      <td>306D3</td>\n",
       "      <td>N</td>\n",
       "      <td>1</td>\n",
       "      <td>1.00</td>\n",
       "      <td>1.00</td>\n",
       "      <td>1.00</td>\n",
       "    </tr>\n",
       "    <tr>\n",
       "      <th>1</th>\n",
       "      <td>비엠더블유코리아(주)</td>\n",
       "      <td>5MY-BK-14-07</td>\n",
       "      <td>120001600041305</td>\n",
       "      <td>X3 3.0d</td>\n",
       "      <td>306D3</td>\n",
       "      <td>Y</td>\n",
       "      <td>114</td>\n",
       "      <td>1.68</td>\n",
       "      <td>0.00</td>\n",
       "      <td>34.00</td>\n",
       "    </tr>\n",
       "    <tr>\n",
       "      <th>2</th>\n",
       "      <td>비엠더블유코리아(주)</td>\n",
       "      <td>5MY-BK-14-07</td>\n",
       "      <td>120001600041305</td>\n",
       "      <td>X3 3.0d</td>\n",
       "      <td>306D3</td>\n",
       "      <td>nan</td>\n",
       "      <td>10</td>\n",
       "      <td>NaN</td>\n",
       "      <td>NaN</td>\n",
       "      <td>NaN</td>\n",
       "    </tr>\n",
       "    <tr>\n",
       "      <th>3</th>\n",
       "      <td>비엠더블유코리아(주)</td>\n",
       "      <td>5MY-BK-14-07</td>\n",
       "      <td>120001600051307</td>\n",
       "      <td>X3 3.0d</td>\n",
       "      <td>306D3</td>\n",
       "      <td>N</td>\n",
       "      <td>1</td>\n",
       "      <td>NaN</td>\n",
       "      <td>NaN</td>\n",
       "      <td>NaN</td>\n",
       "    </tr>\n",
       "    <tr>\n",
       "      <th>4</th>\n",
       "      <td>비엠더블유코리아(주)</td>\n",
       "      <td>5MY-BK-14-07</td>\n",
       "      <td>120001600051307</td>\n",
       "      <td>X3 3.0d</td>\n",
       "      <td>306D3</td>\n",
       "      <td>Y</td>\n",
       "      <td>80</td>\n",
       "      <td>3.15</td>\n",
       "      <td>0.00</td>\n",
       "      <td>38.00</td>\n",
       "    </tr>\n",
       "  </tbody>\n",
       "</table>\n",
       "</div>"
      ],
      "text/plain": [
       "          제작사명      배출가스인증번호            제원관리번호    자동차형식   엔진형식 검사판정   대수  \\\n",
       "0  비엠더블유코리아(주)  5MY-BK-14-07  120001600041305   X3 3.0d  306D3    N    1   \n",
       "1  비엠더블유코리아(주)  5MY-BK-14-07  120001600041305   X3 3.0d  306D3    Y  114   \n",
       "2  비엠더블유코리아(주)  5MY-BK-14-07  120001600041305   X3 3.0d  306D3  nan   10   \n",
       "3  비엠더블유코리아(주)  5MY-BK-14-07  120001600051307   X3 3.0d  306D3    N    1   \n",
       "4  비엠더블유코리아(주)  5MY-BK-14-07  120001600051307   X3 3.0d  306D3    Y   80   \n",
       "\n",
       "   mean  min   max  \n",
       "0  1.00 1.00  1.00  \n",
       "1  1.68 0.00 34.00  \n",
       "2   NaN  NaN   NaN  \n",
       "3   NaN  NaN   NaN  \n",
       "4  3.15 0.00 38.00  "
      ]
     },
     "execution_count": 180,
     "metadata": {},
     "output_type": "execute_result"
    }
   ],
   "source": [
    "g.head()"
   ]
  },
  {
   "cell_type": "code",
   "execution_count": 181,
   "metadata": {},
   "outputs": [],
   "source": [
    "concat_two = pd.DataFrame()\n",
    "for two in g['제원관리번호'].unique():\n",
    "    for three in g['엔진형식'].unique():\n",
    "        temp = g[(g['제원관리번호'] == two) & (g['엔진형식'] == three)].copy()\n",
    "        temp['엔진형식/sum'] = temp['대수'].sum()\n",
    "        temp['검사판정비율'] = temp['대수'] / temp['엔진형식/sum']\n",
    "        concat_two = pd.concat([concat_two, temp], ignore_index=True)"
   ]
  },
  {
   "cell_type": "code",
   "execution_count": 182,
   "metadata": {},
   "outputs": [
    {
     "data": {
      "text/html": [
       "<div>\n",
       "<style scoped>\n",
       "    .dataframe tbody tr th:only-of-type {\n",
       "        vertical-align: middle;\n",
       "    }\n",
       "\n",
       "    .dataframe tbody tr th {\n",
       "        vertical-align: top;\n",
       "    }\n",
       "\n",
       "    .dataframe thead th {\n",
       "        text-align: right;\n",
       "    }\n",
       "</style>\n",
       "<table border=\"1\" class=\"dataframe\">\n",
       "  <thead>\n",
       "    <tr style=\"text-align: right;\">\n",
       "      <th></th>\n",
       "      <th>제작사명</th>\n",
       "      <th>배출가스인증번호</th>\n",
       "      <th>제원관리번호</th>\n",
       "      <th>자동차형식</th>\n",
       "      <th>엔진형식</th>\n",
       "      <th>검사판정</th>\n",
       "      <th>대수</th>\n",
       "      <th>mean</th>\n",
       "      <th>min</th>\n",
       "      <th>max</th>\n",
       "      <th>엔진형식/sum</th>\n",
       "      <th>검사판정비율</th>\n",
       "    </tr>\n",
       "  </thead>\n",
       "  <tbody>\n",
       "    <tr>\n",
       "      <th>0</th>\n",
       "      <td>비엠더블유코리아(주)</td>\n",
       "      <td>5MY-BK-14-07</td>\n",
       "      <td>120001600041305</td>\n",
       "      <td>X3 3.0d</td>\n",
       "      <td>306D3</td>\n",
       "      <td>N</td>\n",
       "      <td>1</td>\n",
       "      <td>1.00</td>\n",
       "      <td>1.00</td>\n",
       "      <td>1.00</td>\n",
       "      <td>125</td>\n",
       "      <td>0.01</td>\n",
       "    </tr>\n",
       "    <tr>\n",
       "      <th>1</th>\n",
       "      <td>비엠더블유코리아(주)</td>\n",
       "      <td>5MY-BK-14-07</td>\n",
       "      <td>120001600041305</td>\n",
       "      <td>X3 3.0d</td>\n",
       "      <td>306D3</td>\n",
       "      <td>Y</td>\n",
       "      <td>114</td>\n",
       "      <td>1.68</td>\n",
       "      <td>0.00</td>\n",
       "      <td>34.00</td>\n",
       "      <td>125</td>\n",
       "      <td>0.91</td>\n",
       "    </tr>\n",
       "    <tr>\n",
       "      <th>2</th>\n",
       "      <td>비엠더블유코리아(주)</td>\n",
       "      <td>5MY-BK-14-07</td>\n",
       "      <td>120001600041305</td>\n",
       "      <td>X3 3.0d</td>\n",
       "      <td>306D3</td>\n",
       "      <td>nan</td>\n",
       "      <td>10</td>\n",
       "      <td>NaN</td>\n",
       "      <td>NaN</td>\n",
       "      <td>NaN</td>\n",
       "      <td>125</td>\n",
       "      <td>0.08</td>\n",
       "    </tr>\n",
       "    <tr>\n",
       "      <th>3</th>\n",
       "      <td>비엠더블유코리아(주)</td>\n",
       "      <td>5MY-BK-14-07</td>\n",
       "      <td>120001600051307</td>\n",
       "      <td>X3 3.0d</td>\n",
       "      <td>306D3</td>\n",
       "      <td>N</td>\n",
       "      <td>1</td>\n",
       "      <td>NaN</td>\n",
       "      <td>NaN</td>\n",
       "      <td>NaN</td>\n",
       "      <td>85</td>\n",
       "      <td>0.01</td>\n",
       "    </tr>\n",
       "    <tr>\n",
       "      <th>4</th>\n",
       "      <td>비엠더블유코리아(주)</td>\n",
       "      <td>5MY-BK-14-07</td>\n",
       "      <td>120001600051307</td>\n",
       "      <td>X3 3.0d</td>\n",
       "      <td>306D3</td>\n",
       "      <td>Y</td>\n",
       "      <td>80</td>\n",
       "      <td>3.15</td>\n",
       "      <td>0.00</td>\n",
       "      <td>38.00</td>\n",
       "      <td>85</td>\n",
       "      <td>0.94</td>\n",
       "    </tr>\n",
       "    <tr>\n",
       "      <th>5</th>\n",
       "      <td>비엠더블유코리아(주)</td>\n",
       "      <td>5MY-BK-14-07</td>\n",
       "      <td>120001600051307</td>\n",
       "      <td>X3 3.0d</td>\n",
       "      <td>306D3</td>\n",
       "      <td>nan</td>\n",
       "      <td>4</td>\n",
       "      <td>NaN</td>\n",
       "      <td>NaN</td>\n",
       "      <td>NaN</td>\n",
       "      <td>85</td>\n",
       "      <td>0.05</td>\n",
       "    </tr>\n",
       "    <tr>\n",
       "      <th>6</th>\n",
       "      <td>비엠더블유코리아(주)</td>\n",
       "      <td>5MY-BK-14-07</td>\n",
       "      <td>120001600081307</td>\n",
       "      <td>X3 3.0d</td>\n",
       "      <td>306D3</td>\n",
       "      <td>Y</td>\n",
       "      <td>8</td>\n",
       "      <td>4.62</td>\n",
       "      <td>0.00</td>\n",
       "      <td>14.00</td>\n",
       "      <td>8</td>\n",
       "      <td>1.00</td>\n",
       "    </tr>\n",
       "    <tr>\n",
       "      <th>7</th>\n",
       "      <td>자기인증면제차량</td>\n",
       "      <td>5MY-BK-14-07</td>\n",
       "      <td>31125000171315</td>\n",
       "      <td>X3 3.0d</td>\n",
       "      <td>306D3</td>\n",
       "      <td>Y</td>\n",
       "      <td>1</td>\n",
       "      <td>1.00</td>\n",
       "      <td>1.00</td>\n",
       "      <td>1.00</td>\n",
       "      <td>1</td>\n",
       "      <td>1.00</td>\n",
       "    </tr>\n",
       "  </tbody>\n",
       "</table>\n",
       "</div>"
      ],
      "text/plain": [
       "          제작사명      배출가스인증번호            제원관리번호    자동차형식   엔진형식 검사판정   대수  \\\n",
       "0  비엠더블유코리아(주)  5MY-BK-14-07  120001600041305   X3 3.0d  306D3    N    1   \n",
       "1  비엠더블유코리아(주)  5MY-BK-14-07  120001600041305   X3 3.0d  306D3    Y  114   \n",
       "2  비엠더블유코리아(주)  5MY-BK-14-07  120001600041305   X3 3.0d  306D3  nan   10   \n",
       "3  비엠더블유코리아(주)  5MY-BK-14-07  120001600051307   X3 3.0d  306D3    N    1   \n",
       "4  비엠더블유코리아(주)  5MY-BK-14-07  120001600051307   X3 3.0d  306D3    Y   80   \n",
       "5  비엠더블유코리아(주)  5MY-BK-14-07  120001600051307   X3 3.0d  306D3  nan    4   \n",
       "6  비엠더블유코리아(주)  5MY-BK-14-07  120001600081307   X3 3.0d  306D3    Y    8   \n",
       "7     자기인증면제차량  5MY-BK-14-07   31125000171315   X3 3.0d  306D3    Y    1   \n",
       "\n",
       "   mean  min   max  엔진형식/sum  검사판정비율  \n",
       "0  1.00 1.00  1.00       125    0.01  \n",
       "1  1.68 0.00 34.00       125    0.91  \n",
       "2   NaN  NaN   NaN       125    0.08  \n",
       "3   NaN  NaN   NaN        85    0.01  \n",
       "4  3.15 0.00 38.00        85    0.94  \n",
       "5   NaN  NaN   NaN        85    0.05  \n",
       "6  4.62 0.00 14.00         8    1.00  \n",
       "7  1.00 1.00  1.00         1    1.00  "
      ]
     },
     "execution_count": 182,
     "metadata": {},
     "output_type": "execute_result"
    }
   ],
   "source": [
    "concat_two"
   ]
  },
  {
   "cell_type": "code",
   "execution_count": 183,
   "metadata": {},
   "outputs": [],
   "source": [
    "test_df = pd.concat([test_df, concat_two], ignore_index=True)"
   ]
  },
  {
   "cell_type": "code",
   "execution_count": 184,
   "metadata": {},
   "outputs": [
    {
     "data": {
      "text/html": [
       "<div>\n",
       "<style scoped>\n",
       "    .dataframe tbody tr th:only-of-type {\n",
       "        vertical-align: middle;\n",
       "    }\n",
       "\n",
       "    .dataframe tbody tr th {\n",
       "        vertical-align: top;\n",
       "    }\n",
       "\n",
       "    .dataframe thead th {\n",
       "        text-align: right;\n",
       "    }\n",
       "</style>\n",
       "<table border=\"1\" class=\"dataframe\">\n",
       "  <thead>\n",
       "    <tr style=\"text-align: right;\">\n",
       "      <th></th>\n",
       "      <th>제작사명</th>\n",
       "      <th>배출가스인증번호</th>\n",
       "      <th>제원관리번호</th>\n",
       "      <th>자동차형식</th>\n",
       "      <th>엔진형식</th>\n",
       "      <th>검사판정</th>\n",
       "      <th>대수</th>\n",
       "      <th>mean</th>\n",
       "      <th>min</th>\n",
       "      <th>max</th>\n",
       "      <th>엔진형식/sum</th>\n",
       "      <th>검사판정비율</th>\n",
       "    </tr>\n",
       "  </thead>\n",
       "  <tbody>\n",
       "    <tr>\n",
       "      <th>0</th>\n",
       "      <td>비엠더블유코리아(주)</td>\n",
       "      <td>5MY-BK-14-07</td>\n",
       "      <td>120001600041305</td>\n",
       "      <td>X3 3.0d</td>\n",
       "      <td>306D3</td>\n",
       "      <td>N</td>\n",
       "      <td>1</td>\n",
       "      <td>1.00</td>\n",
       "      <td>1.00</td>\n",
       "      <td>1.00</td>\n",
       "      <td>125</td>\n",
       "      <td>0.01</td>\n",
       "    </tr>\n",
       "    <tr>\n",
       "      <th>1</th>\n",
       "      <td>비엠더블유코리아(주)</td>\n",
       "      <td>5MY-BK-14-07</td>\n",
       "      <td>120001600041305</td>\n",
       "      <td>X3 3.0d</td>\n",
       "      <td>306D3</td>\n",
       "      <td>Y</td>\n",
       "      <td>114</td>\n",
       "      <td>1.68</td>\n",
       "      <td>0.00</td>\n",
       "      <td>34.00</td>\n",
       "      <td>125</td>\n",
       "      <td>0.91</td>\n",
       "    </tr>\n",
       "    <tr>\n",
       "      <th>2</th>\n",
       "      <td>비엠더블유코리아(주)</td>\n",
       "      <td>5MY-BK-14-07</td>\n",
       "      <td>120001600041305</td>\n",
       "      <td>X3 3.0d</td>\n",
       "      <td>306D3</td>\n",
       "      <td>nan</td>\n",
       "      <td>10</td>\n",
       "      <td>NaN</td>\n",
       "      <td>NaN</td>\n",
       "      <td>NaN</td>\n",
       "      <td>125</td>\n",
       "      <td>0.08</td>\n",
       "    </tr>\n",
       "    <tr>\n",
       "      <th>3</th>\n",
       "      <td>비엠더블유코리아(주)</td>\n",
       "      <td>5MY-BK-14-07</td>\n",
       "      <td>120001600051307</td>\n",
       "      <td>X3 3.0d</td>\n",
       "      <td>306D3</td>\n",
       "      <td>N</td>\n",
       "      <td>1</td>\n",
       "      <td>NaN</td>\n",
       "      <td>NaN</td>\n",
       "      <td>NaN</td>\n",
       "      <td>85</td>\n",
       "      <td>0.01</td>\n",
       "    </tr>\n",
       "    <tr>\n",
       "      <th>4</th>\n",
       "      <td>비엠더블유코리아(주)</td>\n",
       "      <td>5MY-BK-14-07</td>\n",
       "      <td>120001600051307</td>\n",
       "      <td>X3 3.0d</td>\n",
       "      <td>306D3</td>\n",
       "      <td>Y</td>\n",
       "      <td>80</td>\n",
       "      <td>3.15</td>\n",
       "      <td>0.00</td>\n",
       "      <td>38.00</td>\n",
       "      <td>85</td>\n",
       "      <td>0.94</td>\n",
       "    </tr>\n",
       "    <tr>\n",
       "      <th>5</th>\n",
       "      <td>비엠더블유코리아(주)</td>\n",
       "      <td>5MY-BK-14-07</td>\n",
       "      <td>120001600051307</td>\n",
       "      <td>X3 3.0d</td>\n",
       "      <td>306D3</td>\n",
       "      <td>nan</td>\n",
       "      <td>4</td>\n",
       "      <td>NaN</td>\n",
       "      <td>NaN</td>\n",
       "      <td>NaN</td>\n",
       "      <td>85</td>\n",
       "      <td>0.05</td>\n",
       "    </tr>\n",
       "    <tr>\n",
       "      <th>6</th>\n",
       "      <td>비엠더블유코리아(주)</td>\n",
       "      <td>5MY-BK-14-07</td>\n",
       "      <td>120001600081307</td>\n",
       "      <td>X3 3.0d</td>\n",
       "      <td>306D3</td>\n",
       "      <td>Y</td>\n",
       "      <td>8</td>\n",
       "      <td>4.62</td>\n",
       "      <td>0.00</td>\n",
       "      <td>14.00</td>\n",
       "      <td>8</td>\n",
       "      <td>1.00</td>\n",
       "    </tr>\n",
       "    <tr>\n",
       "      <th>7</th>\n",
       "      <td>자기인증면제차량</td>\n",
       "      <td>5MY-BK-14-07</td>\n",
       "      <td>31125000171315</td>\n",
       "      <td>X3 3.0d</td>\n",
       "      <td>306D3</td>\n",
       "      <td>Y</td>\n",
       "      <td>1</td>\n",
       "      <td>1.00</td>\n",
       "      <td>1.00</td>\n",
       "      <td>1.00</td>\n",
       "      <td>1</td>\n",
       "      <td>1.00</td>\n",
       "    </tr>\n",
       "  </tbody>\n",
       "</table>\n",
       "</div>"
      ],
      "text/plain": [
       "          제작사명      배출가스인증번호            제원관리번호    자동차형식   엔진형식 검사판정   대수  \\\n",
       "0  비엠더블유코리아(주)  5MY-BK-14-07  120001600041305   X3 3.0d  306D3    N    1   \n",
       "1  비엠더블유코리아(주)  5MY-BK-14-07  120001600041305   X3 3.0d  306D3    Y  114   \n",
       "2  비엠더블유코리아(주)  5MY-BK-14-07  120001600041305   X3 3.0d  306D3  nan   10   \n",
       "3  비엠더블유코리아(주)  5MY-BK-14-07  120001600051307   X3 3.0d  306D3    N    1   \n",
       "4  비엠더블유코리아(주)  5MY-BK-14-07  120001600051307   X3 3.0d  306D3    Y   80   \n",
       "5  비엠더블유코리아(주)  5MY-BK-14-07  120001600051307   X3 3.0d  306D3  nan    4   \n",
       "6  비엠더블유코리아(주)  5MY-BK-14-07  120001600081307   X3 3.0d  306D3    Y    8   \n",
       "7     자기인증면제차량  5MY-BK-14-07   31125000171315   X3 3.0d  306D3    Y    1   \n",
       "\n",
       "   mean  min   max  엔진형식/sum  검사판정비율  \n",
       "0  1.00 1.00  1.00       125    0.01  \n",
       "1  1.68 0.00 34.00       125    0.91  \n",
       "2   NaN  NaN   NaN       125    0.08  \n",
       "3   NaN  NaN   NaN        85    0.01  \n",
       "4  3.15 0.00 38.00        85    0.94  \n",
       "5   NaN  NaN   NaN        85    0.05  \n",
       "6  4.62 0.00 14.00         8    1.00  \n",
       "7  1.00 1.00  1.00         1    1.00  "
      ]
     },
     "execution_count": 184,
     "metadata": {},
     "output_type": "execute_result"
    }
   ],
   "source": [
    "test_df"
   ]
  },
  {
   "attachments": {},
   "cell_type": "markdown",
   "metadata": {},
   "source": [
    "#### [출력] 제번별, 자동차형식별, 엔진형식별 검사판정별 무부하매연측정치1 통계"
   ]
  },
  {
   "cell_type": "code",
   "execution_count": 185,
   "metadata": {},
   "outputs": [
    {
     "data": {
      "text/plain": [
       "'D:/data/big2/BD1/an'"
      ]
     },
     "execution_count": 185,
     "metadata": {},
     "output_type": "execute_result"
    }
   ],
   "source": [
    "analysis_fold"
   ]
  },
  {
   "cell_type": "code",
   "execution_count": 186,
   "metadata": {},
   "outputs": [],
   "source": [
    "# g.to_excel(os.path.join(analysis_fold, f'통계_제번별_차형식별_엔진형식별_검사판정별_무부하매연측정치1_{emis_no}.xlsx'))"
   ]
  },
  {
   "attachments": {},
   "cell_type": "markdown",
   "metadata": {},
   "source": [
    "## [출력] 배인번호별 분석3"
   ]
  },
  {
   "cell_type": "code",
   "execution_count": 187,
   "metadata": {},
   "outputs": [],
   "source": [
    "def flat_cols(df):\n",
    "    df.columns = ['/'.join(x) for x in df.columns.to_flat_index()]\n",
    "    return df"
   ]
  },
  {
   "cell_type": "code",
   "execution_count": 188,
   "metadata": {},
   "outputs": [],
   "source": [
    "# gas_nm_list = check_df['배출가스인증번호'].unique()\n",
    "# len(gas_nm_list)"
   ]
  },
  {
   "cell_type": "code",
   "execution_count": 189,
   "metadata": {},
   "outputs": [
    {
     "data": {
      "text/plain": [
       "Index(['제작사', '배출가스 인증번호', '차명', 'Result1', 'Result2', '검증 후 차량 대수', 'DPF장착여부',\n",
       "       '배출가스 등급'],\n",
       "      dtype='object')"
      ]
     },
     "execution_count": 189,
     "metadata": {},
     "output_type": "execute_result"
    }
   ],
   "source": [
    "check1.columns"
   ]
  },
  {
   "cell_type": "code",
   "execution_count": 190,
   "metadata": {},
   "outputs": [
    {
     "data": {
      "text/plain": [
       "170"
      ]
     },
     "execution_count": 190,
     "metadata": {},
     "output_type": "execute_result"
    }
   ],
   "source": [
    "gas_nm_list = check1['배출가스 인증번호'].unique()\n",
    "len(gas_nm_list)"
   ]
  },
  {
   "cell_type": "code",
   "execution_count": 191,
   "metadata": {},
   "outputs": [
    {
     "data": {
      "text/plain": [
       "array(['3MY-HD-14', '3MY-HD-15', '4MY-AD-20', '4MY-DB-03', '4MY-DB-04'],\n",
       "      dtype=object)"
      ]
     },
     "execution_count": 191,
     "metadata": {},
     "output_type": "execute_result"
    }
   ],
   "source": [
    "gas_nm_list[:5]"
   ]
  },
  {
   "cell_type": "code",
   "execution_count": 150,
   "metadata": {},
   "outputs": [],
   "source": [
    "# productor_dict = {\n",
    "#     'HD':'현대자동차(주)', \n",
    "#     'AD':'아우디폭스바겐코리아(주)', \n",
    "#     'PP':'아우디폭스바겐코리아(주)', \n",
    "#     'DB':'자일대우상용차 주식회사',\n",
    "#     'DK':'다임러트럭코리아(주)', \n",
    "#     'DK':'에프씨에이코리아(주)', \n",
    "#     'KM':'기아자동차(주)', \n",
    "#     'PA':'(주)볼보자동차코리아', \n",
    "#     'BK':'비엠더블유코리아(주)',\n",
    "#     'HB':'한불모터스(주)', \n",
    "#     'SK':'스카니아코리아그룹(주)', \n",
    "#     'SY':'쌍용자동차(주)', \n",
    "#     'VTK':'볼보트럭코리아(주)', \n",
    "#     'DC':'타타대우상용차(주)', \n",
    "#     'DW':'한국지엠주식회사', \n",
    "#     'GK':'지엠아시아퍼시픽지역본부 주식회사', \n",
    "#     'MK':'메르세데스벤츠코리아(주)', \n",
    "#     'MT':'만트럭버스코리아(주)', \n",
    "#     'SM':'르노삼성자동차(주)', \n",
    "#     'FK':'포드세일즈서비스코리아(유)', \n",
    "#     'JL':'(주)재규어랜드로버코리아', \n",
    "#     }"
   ]
  },
  {
   "attachments": {},
   "cell_type": "markdown",
   "metadata": {},
   "source": [
    "### issue"
   ]
  },
  {
   "cell_type": "code",
   "execution_count": 151,
   "metadata": {},
   "outputs": [],
   "source": [
    "# [BD1] 4등급 검증 결과 정리.xlsx 파일\n",
    "    # [해결] 6MK-DK-14-1 : 잘못된 배인번호 -> 6MY-DK-14-1로 수정\n",
    "    # [해결] 7MY-DB-23-40 : 샘플 없음 -> 조건문 설정\n",
    "    # FMY-DB-14-54 : 전부 차대번호10자리 연식과 연식 다른 문제 -> 조건문 설정\n",
    "    # 7MY-DB-23-40 : "
   ]
  },
  {
   "cell_type": "code",
   "execution_count": 192,
   "metadata": {},
   "outputs": [
    {
     "name": "stderr",
     "output_type": "stream",
     "text": [
      "100%|██████████| 170/170 [00:34<00:00,  4.98it/s]\n"
     ]
    }
   ],
   "source": [
    "# 12m 11s\n",
    "total_gas_df_vin17_n = pd.DataFrame()\n",
    "total_gas_df_vin17_y_vin10_year_n = pd.DataFrame()\n",
    "total_g_df = pd.DataFrame()\n",
    "\n",
    "for one in tqdm(gas_nm_list):\n",
    "    # 배인번호별 df\n",
    "    gas_df = df1.loc[df1['배인번호_수정'] == str(one)].reset_index(drop=True)\n",
    "\n",
    "    try:\n",
    "        # [출력] 차대번호 17자리 아닌 샘플\n",
    "        gas_df_vin17_y = gas_df[(gas_df['차대번호'].str.len() == 17)].reset_index(drop=True)\n",
    "        gas_df_vin17_n = gas_df[(gas_df['차대번호'].str.len() != 17)].reset_index(drop=True)\n",
    "        gas_df_vin17_n.to_excel(os.path.join(sample_fold, f'샘플_차대번호17자리아닌_{one}.xlsx'), index=False)\n",
    "        # 종합 - 17자리 아닌 샘플\n",
    "        total_gas_df_vin17_n = pd.concat([total_gas_df_vin17_n, gas_df_vin17_n], ignore_index=True)\n",
    "\n",
    "        # [출력] 차대번호 연식과 차량연식 다른 샘플\n",
    "        gas_df_vin17_y_vin10_year_y = gas_df_vin17_y[gas_df_vin17_y['vin10_year'] == gas_df_vin17_y['연식']].reset_index(drop=True)\n",
    "        gas_df_vin17_y_vin10_year_n = gas_df_vin17_y[gas_df_vin17_y['vin10_year'] != gas_df_vin17_y['연식']].reset_index(drop=True)\n",
    "        gas_df_vin17_y_vin10_year_n.to_excel(os.path.join(sample_fold, f'샘플_차대번호17자리_차량연식다른_{one}.xlsx'), index=False)\n",
    "        # 종합 - 연식다른 샘플\n",
    "        total_gas_df_vin17_y_vin10_year_n = pd.concat([total_gas_df_vin17_y_vin10_year_n, gas_df_vin17_y_vin10_year_n], ignore_index=True)\n",
    "\n",
    "        # 제번별, 차형식별, 엔진형식별, 검사판정별 무부하매연측정치1 통계\n",
    "        g = gas_df_vin17_y_vin10_year_y.groupby(['제작사명', '배인번호_수정', '제원관리번호', '자동차형식', '엔진형식', '검사판정'], dropna=False).agg({'차대번호':'count', '무부하매연측정치1':['mean', 'min', 'max']}).pipe(flat_cols).round(2).reset_index()\n",
    "        g = g.rename(columns={'배인번호_수정':'배출가스인증번호', '차대번호/count':'대수', '무부하매연측정치1/mean':'mean', '무부하매연측정치1/min':'min', '무부하매연측정치1/max':'max'})\n",
    "        # 하나의 배인번호에서 제번별 엔진형식별 비율 계산\n",
    "        concat_two = pd.DataFrame()\n",
    "        for two in g['제원관리번호'].unique():\n",
    "            for three in g['엔진형식'].unique():\n",
    "                temp = g[(g['제원관리번호'] == two) & (g['엔진형식'] == three)].copy()\n",
    "                temp['엔진형식/sum'] = temp['대수'].sum()\n",
    "                temp['검사판정비율'] = temp['대수'] / temp['엔진형식/sum']\n",
    "                concat_two = pd.concat([concat_two, temp], ignore_index=True)\n",
    "        # 종합 - 통계\n",
    "        total_g_df = pd.concat([total_g_df, concat_two], ignore_index=True)\n",
    "    except:\n",
    "        print(f'오류 배인번호 : {one}')\n",
    "\n",
    "# 12m 11s"
   ]
  },
  {
   "cell_type": "code",
   "execution_count": 193,
   "metadata": {},
   "outputs": [
    {
     "data": {
      "text/html": [
       "<div>\n",
       "<style scoped>\n",
       "    .dataframe tbody tr th:only-of-type {\n",
       "        vertical-align: middle;\n",
       "    }\n",
       "\n",
       "    .dataframe tbody tr th {\n",
       "        vertical-align: top;\n",
       "    }\n",
       "\n",
       "    .dataframe thead th {\n",
       "        text-align: right;\n",
       "    }\n",
       "</style>\n",
       "<table border=\"1\" class=\"dataframe\">\n",
       "  <thead>\n",
       "    <tr style=\"text-align: right;\">\n",
       "      <th></th>\n",
       "      <th>제작사명</th>\n",
       "      <th>배출가스인증번호</th>\n",
       "      <th>제원관리번호</th>\n",
       "      <th>자동차형식</th>\n",
       "      <th>엔진형식</th>\n",
       "      <th>검사판정</th>\n",
       "      <th>대수</th>\n",
       "      <th>mean</th>\n",
       "      <th>min</th>\n",
       "      <th>max</th>\n",
       "      <th>엔진형식/sum</th>\n",
       "      <th>검사판정비율</th>\n",
       "    </tr>\n",
       "  </thead>\n",
       "  <tbody>\n",
       "    <tr>\n",
       "      <th>0</th>\n",
       "      <td>자기인증면제차량</td>\n",
       "      <td>3MY-HD-14</td>\n",
       "      <td>34427000043219</td>\n",
       "      <td>HR-6SD4FKM6-2</td>\n",
       "      <td>D4BH</td>\n",
       "      <td>N</td>\n",
       "      <td>1</td>\n",
       "      <td>16.00</td>\n",
       "      <td>16.00</td>\n",
       "      <td>16.00</td>\n",
       "      <td>1</td>\n",
       "      <td>1.00</td>\n",
       "    </tr>\n",
       "    <tr>\n",
       "      <th>1</th>\n",
       "      <td>자기인증면제차량</td>\n",
       "      <td>3MY-HD-14</td>\n",
       "      <td>34427000083119</td>\n",
       "      <td>ZCD7</td>\n",
       "      <td>D4BH</td>\n",
       "      <td>Y</td>\n",
       "      <td>1</td>\n",
       "      <td>4.00</td>\n",
       "      <td>4.00</td>\n",
       "      <td>4.00</td>\n",
       "      <td>1</td>\n",
       "      <td>1.00</td>\n",
       "    </tr>\n",
       "    <tr>\n",
       "      <th>2</th>\n",
       "      <td>자기인증면제차량</td>\n",
       "      <td>3MY-HD-14</td>\n",
       "      <td>34427000083218</td>\n",
       "      <td>HR-6SD4FKM6-2</td>\n",
       "      <td>D4BH</td>\n",
       "      <td>N</td>\n",
       "      <td>1</td>\n",
       "      <td>13.00</td>\n",
       "      <td>13.00</td>\n",
       "      <td>13.00</td>\n",
       "      <td>1</td>\n",
       "      <td>1.00</td>\n",
       "    </tr>\n",
       "    <tr>\n",
       "      <th>3</th>\n",
       "      <td>자기인증면제차량</td>\n",
       "      <td>3MY-HD-14</td>\n",
       "      <td>34427000093118</td>\n",
       "      <td>ZSN7H</td>\n",
       "      <td>D4BH</td>\n",
       "      <td>Y</td>\n",
       "      <td>1</td>\n",
       "      <td>6.00</td>\n",
       "      <td>6.00</td>\n",
       "      <td>6.00</td>\n",
       "      <td>1</td>\n",
       "      <td>1.00</td>\n",
       "    </tr>\n",
       "    <tr>\n",
       "      <th>4</th>\n",
       "      <td>자기인증면제차량</td>\n",
       "      <td>3MY-HD-14</td>\n",
       "      <td>34427000093119</td>\n",
       "      <td>ZSN7</td>\n",
       "      <td>D4BH</td>\n",
       "      <td>Y</td>\n",
       "      <td>1</td>\n",
       "      <td>6.00</td>\n",
       "      <td>6.00</td>\n",
       "      <td>6.00</td>\n",
       "      <td>1</td>\n",
       "      <td>1.00</td>\n",
       "    </tr>\n",
       "  </tbody>\n",
       "</table>\n",
       "</div>"
      ],
      "text/plain": [
       "       제작사명   배출가스인증번호           제원관리번호          자동차형식  엔진형식 검사판정  대수  mean  \\\n",
       "0  자기인증면제차량  3MY-HD-14  34427000043219   HR-6SD4FKM6-2  D4BH    N   1 16.00   \n",
       "1  자기인증면제차량  3MY-HD-14  34427000083119            ZCD7  D4BH    Y   1  4.00   \n",
       "2  자기인증면제차량  3MY-HD-14  34427000083218   HR-6SD4FKM6-2  D4BH    N   1 13.00   \n",
       "3  자기인증면제차량  3MY-HD-14  34427000093118           ZSN7H  D4BH    Y   1  6.00   \n",
       "4  자기인증면제차량  3MY-HD-14  34427000093119            ZSN7  D4BH    Y   1  6.00   \n",
       "\n",
       "    min   max  엔진형식/sum  검사판정비율  \n",
       "0 16.00 16.00         1    1.00  \n",
       "1  4.00  4.00         1    1.00  \n",
       "2 13.00 13.00         1    1.00  \n",
       "3  6.00  6.00         1    1.00  \n",
       "4  6.00  6.00         1    1.00  "
      ]
     },
     "execution_count": 193,
     "metadata": {},
     "output_type": "execute_result"
    }
   ],
   "source": [
    "total_g_df.head()"
   ]
  },
  {
   "cell_type": "code",
   "execution_count": 194,
   "metadata": {},
   "outputs": [
    {
     "data": {
      "text/plain": [
       "((10, 61), (546, 61), (8963, 12))"
      ]
     },
     "execution_count": 194,
     "metadata": {},
     "output_type": "execute_result"
    }
   ],
   "source": [
    "total_gas_df_vin17_n.shape, total_gas_df_vin17_y_vin10_year_n.shape, total_g_df.shape"
   ]
  },
  {
   "cell_type": "code",
   "execution_count": 195,
   "metadata": {},
   "outputs": [
    {
     "data": {
      "text/plain": [
       "'2023.03.21_PM.03.34.22'"
      ]
     },
     "execution_count": 195,
     "metadata": {},
     "output_type": "execute_result"
    }
   ],
   "source": [
    "today_date = datetime.today().strftime(\"%Y.%m.%d_%p.%I.%M.%S\")\n",
    "today_date"
   ]
  },
  {
   "cell_type": "code",
   "execution_count": 196,
   "metadata": {},
   "outputs": [
    {
     "data": {
      "text/plain": [
       "'D:/data/big2/BD1/sample'"
      ]
     },
     "execution_count": 196,
     "metadata": {},
     "output_type": "execute_result"
    }
   ],
   "source": [
    "sample_fold"
   ]
  },
  {
   "cell_type": "code",
   "execution_count": 197,
   "metadata": {},
   "outputs": [],
   "source": [
    "# about 0s\n",
    "total_gas_df_vin17_n.to_excel(os.path.join(sample_fold, f'통합_샘플_차대번호17자리아닌_{today_date}.xlsx'), index=False)"
   ]
  },
  {
   "cell_type": "code",
   "execution_count": 198,
   "metadata": {},
   "outputs": [],
   "source": [
    "# about 0s\n",
    "total_gas_df_vin17_y_vin10_year_n.to_excel(os.path.join(sample_fold, f'통합_샘플_차대번호17자리_차량연식다른_{today_date}.xlsx'), index=False)"
   ]
  },
  {
   "cell_type": "code",
   "execution_count": 199,
   "metadata": {},
   "outputs": [
    {
     "data": {
      "text/plain": [
       "'D:/data/big2/BD1/an'"
      ]
     },
     "execution_count": 199,
     "metadata": {},
     "output_type": "execute_result"
    }
   ],
   "source": [
    "analysis_fold"
   ]
  },
  {
   "cell_type": "code",
   "execution_count": 200,
   "metadata": {},
   "outputs": [],
   "source": [
    "# about 2s\n",
    "total_g_df.to_excel(os.path.join(analysis_fold, f'통합3_통계_제번별_차형식별_엔진형식별_검사판정별_무부하매연측정치1_{today_date}.xlsx'), index=False)"
   ]
  },
  {
   "attachments": {},
   "cell_type": "markdown",
   "metadata": {},
   "source": [
    "# code end"
   ]
  }
 ],
 "metadata": {
  "kernelspec": {
   "display_name": "base",
   "language": "python",
   "name": "python3"
  },
  "language_info": {
   "codemirror_mode": {
    "name": "ipython",
    "version": 3
   },
   "file_extension": ".py",
   "mimetype": "text/x-python",
   "name": "python",
   "nbconvert_exporter": "python",
   "pygments_lexer": "ipython3",
   "version": "3.9.13"
  },
  "orig_nbformat": 4,
  "vscode": {
   "interpreter": {
    "hash": "ad2bdc8ecc057115af97d19610ffacc2b4e99fae6737bb82f5d7fb13d2f2c186"
   }
  }
 },
 "nbformat": 4,
 "nbformat_minor": 2
}
