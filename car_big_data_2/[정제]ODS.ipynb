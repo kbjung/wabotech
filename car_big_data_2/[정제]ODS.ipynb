{
 "cells": [
  {
   "attachments": {},
   "cell_type": "markdown",
   "metadata": {},
   "source": [
    "# Library"
   ]
  },
  {
   "cell_type": "code",
   "execution_count": 3,
   "metadata": {},
   "outputs": [],
   "source": [
    "import pandas as pd\n",
    "import numpy as np\n",
    "from tqdm import tqdm\n",
    "import os, re"
   ]
  },
  {
   "attachments": {},
   "cell_type": "markdown",
   "metadata": {},
   "source": [
    "# fold path"
   ]
  },
  {
   "cell_type": "code",
   "execution_count": 4,
   "metadata": {},
   "outputs": [],
   "source": [
    "ods_fold = 'D:/data/big2/ODS'\n",
    "col_fold = 'C:/Users/kbjung/Documents/GitHub/wabotech/car_big_data_2/analysis/ODSvsSTD'\n",
    "issue_disclosure_fold = 'D:/data/big2/ODS/ODS_N_IS_ISSUE_DISCLOSURE'"
   ]
  },
  {
   "cell_type": "code",
   "execution_count": 5,
   "metadata": {},
   "outputs": [],
   "source": [
    "# 소수점 옵션\n",
    "pd.options.display.float_format = '{:.2f}'.format\n",
    "# pd.reset_option('display.float_format')"
   ]
  },
  {
   "attachments": {},
   "cell_type": "markdown",
   "metadata": {},
   "source": [
    "# 1\\. 등록정보(ODS_CEG_CAR_MIG)"
   ]
  },
  {
   "cell_type": "code",
   "execution_count": 4,
   "metadata": {},
   "outputs": [],
   "source": [
    "load_col_dtypes = {'VHMNO':'str', 'VHRNO':'str', 'BSPL_LEDO_CD':'int64', 'OWNR_SE':'str', 'VHCTY':'str', 'PURPS':'str', 'NOW_OWNR_NM':'str', 'NOW_MBERNO':'str', 'BSPL_ADRS':'str', \n",
    " 'OWNR_ADRS':'str', 'VIN':'str', 'FST_REG_DE':'int64', 'VHCL_YRIDNW':'int64', 'VHCL_MNFCT_DE':'str', 'EMIS_INSP_EFCT_DE':'float64', 'SRCMNNO':'str', 'EMIS_CRTCNO':'str', \n",
    " 'EMIS_GRD':'str', 'LEM_YN':'str', 'LEM_KND':'float64', 'LEM_STRCHG_YN':'str', 'BSPL_ZIP':'float64', 'VHRNO_NUM_INFO':'int64', 'VHCL_ERSR_YN':'str', 'FST_OWNR_NM':'str',\n",
    " 'FST_MBERNO':'str', 'ACQS_DE':'str', 'ACQS_AMT':'float64', 'RMK':'str', 'CRTN_DT':'str', 'UPDT_DT':'str', 'USER_ID':'str'}"
   ]
  },
  {
   "cell_type": "code",
   "execution_count": 5,
   "metadata": {},
   "outputs": [
    {
     "name": "stdout",
     "output_type": "stream",
     "text": [
      "<class 'pandas.core.frame.DataFrame'>\n",
      "RangeIndex: 29534047 entries, 0 to 29534046\n",
      "Data columns (total 32 columns):\n",
      " #   Column             Dtype  \n",
      "---  ------             -----  \n",
      " 0   VHMNO              object \n",
      " 1   VHRNO              object \n",
      " 2   BSPL_LEDO_CD       int64  \n",
      " 3   OWNR_SE            object \n",
      " 4   VHCTY              object \n",
      " 5   PURPS              object \n",
      " 6   NOW_OWNR_NM        object \n",
      " 7   NOW_MBERNO         object \n",
      " 8   BSPL_ADRS          object \n",
      " 9   OWNR_ADRS          object \n",
      " 10  VIN                object \n",
      " 11  FST_REG_DE         int64  \n",
      " 12  VHCL_YRIDNW        int64  \n",
      " 13  VHCL_MNFCT_DE      object \n",
      " 14  EMIS_INSP_EFCT_DE  float64\n",
      " 15  SRCMNNO            object \n",
      " 16  EMIS_CRTCNO        object \n",
      " 17  EMIS_GRD           object \n",
      " 18  LEM_YN             object \n",
      " 19  LEM_KND            float64\n",
      " 20  LEM_STRCHG_YN      object \n",
      " 21  BSPL_ZIP           float64\n",
      " 22  VHRNO_NUM_INFO     int64  \n",
      " 23  VHCL_ERSR_YN       object \n",
      " 24  FST_OWNR_NM        object \n",
      " 25  FST_MBERNO         object \n",
      " 26  ACQS_DE            object \n",
      " 27  ACQS_AMT           float64\n",
      " 28  RMK                object \n",
      " 29  CRTN_DT            object \n",
      " 30  UPDT_DT            object \n",
      " 31  USER_ID            object \n",
      "dtypes: float64(4), int64(4), object(24)\n",
      "memory usage: 7.0+ GB\n"
     ]
    }
   ],
   "source": [
    "# about 9m 45s\n",
    "# usecols 지정, dtype 지정 : 9m 27s\n",
    "name = 'CEG_CAR_MIG'\n",
    "file_name = f'ODS_{name}.csv'\n",
    "df = pd.read_csv(os.path.join(ods_fold, file_name), low_memory=False, usecols=load_col_dtypes.keys(), dtype=load_col_dtypes)\n",
    "df.info()"
   ]
  },
  {
   "cell_type": "code",
   "execution_count": 6,
   "metadata": {},
   "outputs": [
    {
     "data": {
      "text/plain": [
       "Index(['차량관리번호', '차량등록번호', '본거지법정동코드', '소유자구분', '차종', '용도', '미정', '현재회원번호',\n",
       "       '미정', '미정', '차대번호', '최초등록일자', '차량연식', '차량제작일자', '배출가스검사유효일자', '제원관리번호',\n",
       "       '배출가스인증번호', '배출가스등급', '저공해조치YN(미사용)', '저공해조치종류', '저공해조치구조변경YN', '미정',\n",
       "       '차량등록번호숫자정보', '차량말소YN', '미정', '최초회원번호', '취득일자', '취득금액', '미정', '생성일시',\n",
       "       '수정일시', '미정'],\n",
       "      dtype='object')"
      ]
     },
     "execution_count": 6,
     "metadata": {},
     "output_type": "execute_result"
    }
   ],
   "source": [
    "file_name = f'[정제]{name}.xlsx'\n",
    "col_df = pd.read_excel(os.path.join(col_fold, file_name), sheet_name='ODS_col')\n",
    "col_dict = {a:b for a,b in col_df[['컬럼', '내용']].values}\n",
    "df.columns = [col_dict[x] for x in df.columns]\n",
    "df.columns"
   ]
  },
  {
   "attachments": {},
   "cell_type": "markdown",
   "metadata": {},
   "source": [
    "## [로드] 정기&정밀(최신검사만)"
   ]
  },
  {
   "cell_type": "code",
   "execution_count": 31,
   "metadata": {},
   "outputs": [
    {
     "name": "stdout",
     "output_type": "stream",
     "text": [
      "<class 'pandas.core.frame.DataFrame'>\n",
      "RangeIndex: 22044208 entries, 0 to 22044207\n",
      "Data columns (total 42 columns):\n",
      " #   Column     Dtype  \n",
      "---  ------     -----  \n",
      " 0   사용연료       object \n",
      " 1   주행거리       object \n",
      " 2   차명         object \n",
      " 3   차량번호       object \n",
      " 4   차대번호       object \n",
      " 5   차종         object \n",
      " 6   차량연식       int64  \n",
      " 7   엔진형식       object \n",
      " 8   검사방법       object \n",
      " 9   검사일자       int64  \n",
      " 10  검사종류       object \n",
      " 11  검사판정시각     object \n",
      " 12  검사판정       object \n",
      " 13  산소값        float64\n",
      " 14  이산화탄소값     float64\n",
      " 15  무부하매연판정1   object \n",
      " 16  무부하매연판정2   object \n",
      " 17  무부하매연판정3   object \n",
      " 18  무부하매연판정4   object \n",
      " 19  무부하매연판정5   object \n",
      " 20  무부하매연판정6   object \n",
      " 21  무부하매연허용치1  float64\n",
      " 22  무부하매연허용치2  float64\n",
      " 23  무부하매연허용치3  float64\n",
      " 24  무부하매연허용치4  float64\n",
      " 25  무부하매연허용치5  float64\n",
      " 26  무부하매연허용치6  float64\n",
      " 27  무부하매연측정치1  float64\n",
      " 28  무부하매연측정치2  float64\n",
      " 29  무부하매연측정치3  float64\n",
      " 30  무부하매연측정치4  float64\n",
      " 31  무부하매연측정치5  float64\n",
      " 32  무부하매연측정치6  float64\n",
      " 33  차량용도       object \n",
      " 34  최대출력허용치    float64\n",
      " 35  최대출력측정값    float64\n",
      " 36  검사접수번호     object \n",
      " 37  검사소명       object \n",
      " 38  재검사기간      object \n",
      " 39  정기정밀       object \n",
      " 40  검사 검사소코드   object \n",
      " 41  검사유효기간     float64\n",
      "dtypes: float64(17), int64(2), object(23)\n",
      "memory usage: 6.9+ GB\n"
     ]
    }
   ],
   "source": [
    "# about 4m 33s\n",
    "tin = pd.read_csv(os.path.join(ods_fold, '[ODS]정기&정밀검사(최신검사만)(2022.12.28).csv'), low_memory=False)\n",
    "tin.info()"
   ]
  },
  {
   "cell_type": "code",
   "execution_count": 8,
   "metadata": {},
   "outputs": [
    {
     "data": {
      "text/plain": [
       "Index(['사용연료', '주행거리', '차명', '차량번호', '차대번호', '차종', '차량연식', '엔진형식', '검사방법',\n",
       "       '검사일자', '검사종류', '검사판정시각', '검사판정', '산소값', '이산화탄소값', '무부하매연판정1',\n",
       "       '무부하매연판정2', '무부하매연판정3', '무부하매연판정4', '무부하매연판정5', '무부하매연판정6', '무부하매연허용치1',\n",
       "       '무부하매연허용치2', '무부하매연허용치3', '무부하매연허용치4', '무부하매연허용치5', '무부하매연허용치6',\n",
       "       '무부하매연측정치1', '무부하매연측정치2', '무부하매연측정치3', '무부하매연측정치4', '무부하매연측정치5',\n",
       "       '무부하매연측정치6', '차량용도', '최대출력허용치', '최대출력측정값', '검사접수번호', '검사소명', '재검사기간',\n",
       "       '정기정밀', '검사 검사소코드', '검사유효기간'],\n",
       "      dtype='object')"
      ]
     },
     "execution_count": 8,
     "metadata": {},
     "output_type": "execute_result"
    }
   ],
   "source": [
    "tin.columns"
   ]
  },
  {
   "attachments": {},
   "cell_type": "markdown",
   "metadata": {},
   "source": [
    "## 차량등록번호"
   ]
  },
  {
   "cell_type": "code",
   "execution_count": 9,
   "metadata": {},
   "outputs": [
    {
     "data": {
      "text/plain": [
       "(29534047, 32)"
      ]
     },
     "execution_count": 9,
     "metadata": {},
     "output_type": "execute_result"
    }
   ],
   "source": [
    "df.shape"
   ]
  },
  {
   "cell_type": "code",
   "execution_count": 10,
   "metadata": {},
   "outputs": [
    {
     "data": {
      "text/plain": [
       "0"
      ]
     },
     "execution_count": 10,
     "metadata": {},
     "output_type": "execute_result"
    }
   ],
   "source": [
    "# 결측치 확인\n",
    "df['차량등록번호'].isnull().sum()"
   ]
  },
  {
   "cell_type": "code",
   "execution_count": 11,
   "metadata": {},
   "outputs": [
    {
     "name": "stderr",
     "output_type": "stream",
     "text": [
      "100%|██████████| 29534047/29534047 [00:34<00:00, 852037.22it/s]\n"
     ]
    },
    {
     "data": {
      "text/plain": [
       "1"
      ]
     },
     "execution_count": 11,
     "metadata": {},
     "output_type": "execute_result"
    }
   ],
   "source": [
    "p1 = re.compile('[가-힣]{2}[0-9]{1,2}[가-힣]{1}[0-9]{4}')\n",
    "p2 = re.compile('[0-9]{2,3}[가-힣]{1}[0-9]{4}')\n",
    "wrong_vhrno_list = []\n",
    "for one in tqdm(df['차량등록번호']):\n",
    "    if not p1.search(str(one)) and not p2.search(str(one)):\n",
    "        wrong_vhrno_list.append(one)\n",
    "len(wrong_vhrno_list)"
   ]
  },
  {
   "cell_type": "code",
   "execution_count": 12,
   "metadata": {},
   "outputs": [
    {
     "data": {
      "text/plain": [
       "['서울703**575']"
      ]
     },
     "execution_count": 12,
     "metadata": {},
     "output_type": "execute_result"
    }
   ],
   "source": [
    "wrong_vhrno_list"
   ]
  },
  {
   "cell_type": "code",
   "execution_count": 17,
   "metadata": {},
   "outputs": [
    {
     "data": {
      "text/html": [
       "<div>\n",
       "<style scoped>\n",
       "    .dataframe tbody tr th:only-of-type {\n",
       "        vertical-align: middle;\n",
       "    }\n",
       "\n",
       "    .dataframe tbody tr th {\n",
       "        vertical-align: top;\n",
       "    }\n",
       "\n",
       "    .dataframe thead th {\n",
       "        text-align: right;\n",
       "    }\n",
       "</style>\n",
       "<table border=\"1\" class=\"dataframe\">\n",
       "  <thead>\n",
       "    <tr style=\"text-align: right;\">\n",
       "      <th></th>\n",
       "      <th>차대번호</th>\n",
       "      <th>배출가스등급</th>\n",
       "    </tr>\n",
       "  </thead>\n",
       "  <tbody>\n",
       "    <tr>\n",
       "      <th>12072</th>\n",
       "      <td>03821215031</td>\n",
       "      <td>5</td>\n",
       "    </tr>\n",
       "  </tbody>\n",
       "</table>\n",
       "</div>"
      ],
      "text/plain": [
       "              차대번호 배출가스등급\n",
       "12072  03821215031      5"
      ]
     },
     "execution_count": 17,
     "metadata": {},
     "output_type": "execute_result"
    }
   ],
   "source": [
    "df.loc[df['차량등록번호'] == '서울703**575', ['차대번호', '배출가스등급']]"
   ]
  },
  {
   "cell_type": "code",
   "execution_count": 19,
   "metadata": {},
   "outputs": [
    {
     "data": {
      "text/plain": [
       "(29534047, 73)"
      ]
     },
     "execution_count": 19,
     "metadata": {},
     "output_type": "execute_result"
    }
   ],
   "source": [
    "# about 7m 12s\n",
    "total = df.merge(tin, on='차대번호', how='left')\n",
    "total.shape"
   ]
  },
  {
   "cell_type": "code",
   "execution_count": 20,
   "metadata": {},
   "outputs": [
    {
     "data": {
      "text/plain": [
       "12072    NaN\n",
       "Name: 차량번호, dtype: object"
      ]
     },
     "execution_count": 20,
     "metadata": {},
     "output_type": "execute_result"
    }
   ],
   "source": [
    "total.loc[total['차대번호'] == '03821215031', '차량번호']"
   ]
  },
  {
   "attachments": {},
   "cell_type": "markdown",
   "metadata": {},
   "source": [
    "## 본거지 법정동 코드"
   ]
  },
  {
   "cell_type": "code",
   "execution_count": 13,
   "metadata": {},
   "outputs": [
    {
     "data": {
      "text/plain": [
       "0"
      ]
     },
     "execution_count": 13,
     "metadata": {},
     "output_type": "execute_result"
    }
   ],
   "source": [
    "df['본거지법정동코드'].isnull().sum()"
   ]
  },
  {
   "cell_type": "code",
   "execution_count": 12,
   "metadata": {},
   "outputs": [
    {
     "name": "stderr",
     "output_type": "stream",
     "text": [
      "100%|██████████| 29534047/29534047 [00:18<00:00, 1625711.43it/s]\n"
     ]
    },
    {
     "data": {
      "text/plain": [
       "0"
      ]
     },
     "execution_count": 12,
     "metadata": {},
     "output_type": "execute_result"
    }
   ],
   "source": [
    "wrong_localcode_list = []\n",
    "for one in tqdm(df['본거지법정동코드']):\n",
    "    if len(str(one)) != 10:\n",
    "        wrong_localcode_list.append(one)\n",
    "len(wrong_localcode_list)"
   ]
  },
  {
   "cell_type": "code",
   "execution_count": 13,
   "metadata": {},
   "outputs": [
    {
     "name": "stderr",
     "output_type": "stream",
     "text": [
      "100%|██████████| 29534047/29534047 [00:26<00:00, 1117989.31it/s]\n"
     ]
    },
    {
     "data": {
      "text/plain": [
       "0"
      ]
     },
     "execution_count": 13,
     "metadata": {},
     "output_type": "execute_result"
    }
   ],
   "source": [
    "p = re.compile('[0-9]{10}')\n",
    "wrong_localcode_list = []\n",
    "for one in tqdm(df['본거지법정동코드']):\n",
    "    if not p.search(str(one)):\n",
    "        wrong_localcode_list.append(one)\n",
    "len(wrong_localcode_list)"
   ]
  },
  {
   "attachments": {},
   "cell_type": "markdown",
   "metadata": {},
   "source": [
    "## 배출가스검사유효일자"
   ]
  },
  {
   "cell_type": "code",
   "execution_count": 29,
   "metadata": {},
   "outputs": [
    {
     "data": {
      "text/plain": [
       "0   19850225.00\n",
       "1   19760706.00\n",
       "2           NaN\n",
       "3   20191220.00\n",
       "4   19930227.00\n",
       "Name: 배출가스검사유효일자, dtype: float64"
      ]
     },
     "execution_count": 29,
     "metadata": {},
     "output_type": "execute_result"
    }
   ],
   "source": [
    "df['배출가스검사유효일자'].head()"
   ]
  },
  {
   "cell_type": "code",
   "execution_count": 30,
   "metadata": {},
   "outputs": [
    {
     "data": {
      "text/plain": [
       "635"
      ]
     },
     "execution_count": 30,
     "metadata": {},
     "output_type": "execute_result"
    }
   ],
   "source": [
    "df['배출가스검사유효일자'].isnull().sum()"
   ]
  },
  {
   "cell_type": "code",
   "execution_count": 31,
   "metadata": {},
   "outputs": [
    {
     "data": {
      "text/plain": [
       "635"
      ]
     },
     "execution_count": 31,
     "metadata": {},
     "output_type": "execute_result"
    }
   ],
   "source": [
    "null_idx = df[df['배출가스검사유효일자'].isnull() == True].index\n",
    "len(null_idx)"
   ]
  },
  {
   "cell_type": "code",
   "execution_count": 32,
   "metadata": {},
   "outputs": [
    {
     "name": "stderr",
     "output_type": "stream",
     "text": [
      "29534047it [00:32, 905707.47it/s]\n"
     ]
    },
    {
     "data": {
      "text/plain": [
       "637"
      ]
     },
     "execution_count": 32,
     "metadata": {},
     "output_type": "execute_result"
    }
   ],
   "source": [
    "p = re.compile('[0-9]{8}[.][0]')\n",
    "wrong_gascheckdate_idx = []\n",
    "for i, one in tqdm(enumerate(df['배출가스검사유효일자'].to_list())):\n",
    "    if not p.search(str(one)):\n",
    "        wrong_gascheckdate_idx.append(i)\n",
    "len(wrong_gascheckdate_idx)"
   ]
  },
  {
   "cell_type": "code",
   "execution_count": 33,
   "metadata": {},
   "outputs": [
    {
     "data": {
      "text/plain": [
       "{4124, 15938}"
      ]
     },
     "execution_count": 33,
     "metadata": {},
     "output_type": "execute_result"
    }
   ],
   "source": [
    "set(wrong_gascheckdate_idx) - set(null_idx)"
   ]
  },
  {
   "cell_type": "code",
   "execution_count": 34,
   "metadata": {},
   "outputs": [
    {
     "data": {
      "text/plain": [
       "15938   1990604.00\n",
       "4124    1990118.00\n",
       "Name: 배출가스검사유효일자, dtype: float64"
      ]
     },
     "execution_count": 34,
     "metadata": {},
     "output_type": "execute_result"
    }
   ],
   "source": [
    "df.loc[list(set(wrong_gascheckdate_idx) - set(null_idx)), '배출가스검사유효일자']"
   ]
  },
  {
   "cell_type": "code",
   "execution_count": 35,
   "metadata": {},
   "outputs": [
    {
     "data": {
      "text/html": [
       "<div>\n",
       "<style scoped>\n",
       "    .dataframe tbody tr th:only-of-type {\n",
       "        vertical-align: middle;\n",
       "    }\n",
       "\n",
       "    .dataframe tbody tr th {\n",
       "        vertical-align: top;\n",
       "    }\n",
       "\n",
       "    .dataframe thead th {\n",
       "        text-align: right;\n",
       "    }\n",
       "</style>\n",
       "<table border=\"1\" class=\"dataframe\">\n",
       "  <thead>\n",
       "    <tr style=\"text-align: right;\">\n",
       "      <th></th>\n",
       "      <th>배출가스검사유효일자</th>\n",
       "      <th>차량연식</th>\n",
       "      <th>배출가스인증번호</th>\n",
       "    </tr>\n",
       "  </thead>\n",
       "  <tbody>\n",
       "    <tr>\n",
       "      <th>15938</th>\n",
       "      <td>1990604.00</td>\n",
       "      <td>1983</td>\n",
       "      <td>NaN</td>\n",
       "    </tr>\n",
       "    <tr>\n",
       "      <th>4124</th>\n",
       "      <td>1990118.00</td>\n",
       "      <td>1979</td>\n",
       "      <td>NaN</td>\n",
       "    </tr>\n",
       "  </tbody>\n",
       "</table>\n",
       "</div>"
      ],
      "text/plain": [
       "       배출가스검사유효일자  차량연식 배출가스인증번호\n",
       "15938  1990604.00  1983      NaN\n",
       "4124   1990118.00  1979      NaN"
      ]
     },
     "execution_count": 35,
     "metadata": {},
     "output_type": "execute_result"
    }
   ],
   "source": [
    "df.loc[list(set(wrong_gascheckdate_idx) - set(null_idx)), ['배출가스검사유효일자', '차량연식', '배출가스인증번호']]"
   ]
  },
  {
   "cell_type": "code",
   "execution_count": 36,
   "metadata": {},
   "outputs": [
    {
     "data": {
      "text/html": [
       "<div>\n",
       "<style scoped>\n",
       "    .dataframe tbody tr th:only-of-type {\n",
       "        vertical-align: middle;\n",
       "    }\n",
       "\n",
       "    .dataframe tbody tr th {\n",
       "        vertical-align: top;\n",
       "    }\n",
       "\n",
       "    .dataframe thead th {\n",
       "        text-align: right;\n",
       "    }\n",
       "</style>\n",
       "<table border=\"1\" class=\"dataframe\">\n",
       "  <thead>\n",
       "    <tr style=\"text-align: right;\">\n",
       "      <th></th>\n",
       "      <th>차대번호</th>\n",
       "      <th>배출가스검사유효일자</th>\n",
       "      <th>차량연식</th>\n",
       "      <th>배출가스인증번호</th>\n",
       "    </tr>\n",
       "  </thead>\n",
       "  <tbody>\n",
       "    <tr>\n",
       "      <th>2</th>\n",
       "      <td>10762211783</td>\n",
       "      <td>NaN</td>\n",
       "      <td>1976</td>\n",
       "      <td>NaN</td>\n",
       "    </tr>\n",
       "    <tr>\n",
       "      <th>8</th>\n",
       "      <td>10762211682</td>\n",
       "      <td>NaN</td>\n",
       "      <td>1976</td>\n",
       "      <td>NaN</td>\n",
       "    </tr>\n",
       "    <tr>\n",
       "      <th>10</th>\n",
       "      <td>10762212246</td>\n",
       "      <td>NaN</td>\n",
       "      <td>1976</td>\n",
       "      <td>NaN</td>\n",
       "    </tr>\n",
       "    <tr>\n",
       "      <th>47</th>\n",
       "      <td>10762213150</td>\n",
       "      <td>NaN</td>\n",
       "      <td>1976</td>\n",
       "      <td>NaN</td>\n",
       "    </tr>\n",
       "    <tr>\n",
       "      <th>52</th>\n",
       "      <td>03761307405</td>\n",
       "      <td>NaN</td>\n",
       "      <td>1976</td>\n",
       "      <td>NaN</td>\n",
       "    </tr>\n",
       "    <tr>\n",
       "      <th>...</th>\n",
       "      <td>...</td>\n",
       "      <td>...</td>\n",
       "      <td>...</td>\n",
       "      <td>...</td>\n",
       "    </tr>\n",
       "    <tr>\n",
       "      <th>8087297</th>\n",
       "      <td>KNAKU815BAA058010</td>\n",
       "      <td>NaN</td>\n",
       "      <td>2010</td>\n",
       "      <td>9MY-KM-14-22</td>\n",
       "    </tr>\n",
       "    <tr>\n",
       "      <th>8251095</th>\n",
       "      <td>KMFZCY7JAAU616346</td>\n",
       "      <td>NaN</td>\n",
       "      <td>2010</td>\n",
       "      <td>7MY-HD-14-68</td>\n",
       "    </tr>\n",
       "    <tr>\n",
       "      <th>20922089</th>\n",
       "      <td>KMHK4815GJU081024</td>\n",
       "      <td>NaN</td>\n",
       "      <td>2018</td>\n",
       "      <td>HMY-HD-14-31</td>\n",
       "    </tr>\n",
       "    <tr>\n",
       "      <th>26101534</th>\n",
       "      <td>KNANE81BBMS034872</td>\n",
       "      <td>NaN</td>\n",
       "      <td>2021</td>\n",
       "      <td>JMY-KM-14-29</td>\n",
       "    </tr>\n",
       "    <tr>\n",
       "      <th>28249951</th>\n",
       "      <td>KPADM4AE1NP167376</td>\n",
       "      <td>NaN</td>\n",
       "      <td>2022</td>\n",
       "      <td>NaN</td>\n",
       "    </tr>\n",
       "  </tbody>\n",
       "</table>\n",
       "<p>635 rows × 4 columns</p>\n",
       "</div>"
      ],
      "text/plain": [
       "                       차대번호  배출가스검사유효일자  차량연식      배출가스인증번호\n",
       "2               10762211783         NaN  1976           NaN\n",
       "8               10762211682         NaN  1976           NaN\n",
       "10              10762212246         NaN  1976           NaN\n",
       "47              10762213150         NaN  1976           NaN\n",
       "52              03761307405         NaN  1976           NaN\n",
       "...                     ...         ...   ...           ...\n",
       "8087297   KNAKU815BAA058010         NaN  2010  9MY-KM-14-22\n",
       "8251095   KMFZCY7JAAU616346         NaN  2010  7MY-HD-14-68\n",
       "20922089  KMHK4815GJU081024         NaN  2018  HMY-HD-14-31\n",
       "26101534  KNANE81BBMS034872         NaN  2021  JMY-KM-14-29\n",
       "28249951  KPADM4AE1NP167376         NaN  2022           NaN\n",
       "\n",
       "[635 rows x 4 columns]"
      ]
     },
     "execution_count": 36,
     "metadata": {},
     "output_type": "execute_result"
    }
   ],
   "source": [
    "df.loc[null_idx, ['차대번호', '배출가스검사유효일자', '차량연식', '배출가스인증번호']]"
   ]
  },
  {
   "cell_type": "code",
   "execution_count": 62,
   "metadata": {},
   "outputs": [
    {
     "data": {
      "text/html": [
       "<div>\n",
       "<style scoped>\n",
       "    .dataframe tbody tr th:only-of-type {\n",
       "        vertical-align: middle;\n",
       "    }\n",
       "\n",
       "    .dataframe tbody tr th {\n",
       "        vertical-align: top;\n",
       "    }\n",
       "\n",
       "    .dataframe thead th {\n",
       "        text-align: right;\n",
       "    }\n",
       "</style>\n",
       "<table border=\"1\" class=\"dataframe\">\n",
       "  <thead>\n",
       "    <tr style=\"text-align: right;\">\n",
       "      <th></th>\n",
       "      <th>차대번호</th>\n",
       "      <th>배출가스검사유효일자</th>\n",
       "      <th>차량연식</th>\n",
       "      <th>배출가스인증번호</th>\n",
       "    </tr>\n",
       "  </thead>\n",
       "  <tbody>\n",
       "    <tr>\n",
       "      <th>609</th>\n",
       "      <td>KN70T108794</td>\n",
       "      <td>NaN</td>\n",
       "      <td>1970</td>\n",
       "      <td>NaN</td>\n",
       "    </tr>\n",
       "    <tr>\n",
       "      <th>612</th>\n",
       "      <td>03741224560</td>\n",
       "      <td>NaN</td>\n",
       "      <td>1974</td>\n",
       "      <td>NaN</td>\n",
       "    </tr>\n",
       "    <tr>\n",
       "      <th>627</th>\n",
       "      <td>03762203442</td>\n",
       "      <td>NaN</td>\n",
       "      <td>1976</td>\n",
       "      <td>NaN</td>\n",
       "    </tr>\n",
       "    <tr>\n",
       "      <th>630</th>\n",
       "      <td>03761204481</td>\n",
       "      <td>NaN</td>\n",
       "      <td>1976</td>\n",
       "      <td>NaN</td>\n",
       "    </tr>\n",
       "    <tr>\n",
       "      <th>658</th>\n",
       "      <td>10772229897</td>\n",
       "      <td>NaN</td>\n",
       "      <td>1977</td>\n",
       "      <td>NaN</td>\n",
       "    </tr>\n",
       "    <tr>\n",
       "      <th>669</th>\n",
       "      <td>10782210234</td>\n",
       "      <td>NaN</td>\n",
       "      <td>1978</td>\n",
       "      <td>NaN</td>\n",
       "    </tr>\n",
       "    <tr>\n",
       "      <th>699</th>\n",
       "      <td>10772217991</td>\n",
       "      <td>NaN</td>\n",
       "      <td>1977</td>\n",
       "      <td>NaN</td>\n",
       "    </tr>\n",
       "    <tr>\n",
       "      <th>706</th>\n",
       "      <td>03771214587</td>\n",
       "      <td>NaN</td>\n",
       "      <td>1977</td>\n",
       "      <td>NaN</td>\n",
       "    </tr>\n",
       "    <tr>\n",
       "      <th>748</th>\n",
       "      <td>KG70C206172000000</td>\n",
       "      <td>NaN</td>\n",
       "      <td>1976</td>\n",
       "      <td>NaN</td>\n",
       "    </tr>\n",
       "    <tr>\n",
       "      <th>749</th>\n",
       "      <td>03742123119</td>\n",
       "      <td>NaN</td>\n",
       "      <td>1974</td>\n",
       "      <td>NaN</td>\n",
       "    </tr>\n",
       "  </tbody>\n",
       "</table>\n",
       "</div>"
      ],
      "text/plain": [
       "                  차대번호  배출가스검사유효일자  차량연식 배출가스인증번호\n",
       "609        KN70T108794         NaN  1970      NaN\n",
       "612        03741224560         NaN  1974      NaN\n",
       "627        03762203442         NaN  1976      NaN\n",
       "630        03761204481         NaN  1976      NaN\n",
       "658        10772229897         NaN  1977      NaN\n",
       "669        10782210234         NaN  1978      NaN\n",
       "699        10772217991         NaN  1977      NaN\n",
       "706        03771214587         NaN  1977      NaN\n",
       "748  KG70C206172000000         NaN  1976      NaN\n",
       "749        03742123119         NaN  1974      NaN"
      ]
     },
     "execution_count": 62,
     "metadata": {},
     "output_type": "execute_result"
    }
   ],
   "source": [
    "df.loc[null_idx, ['차대번호', '배출가스검사유효일자', '차량연식', '배출가스인증번호']].iloc[50:60]"
   ]
  },
  {
   "cell_type": "code",
   "execution_count": 72,
   "metadata": {},
   "outputs": [
    {
     "data": {
      "text/plain": [
       "749   NaN\n",
       "Name: 검사유효기간, dtype: float64"
      ]
     },
     "execution_count": 72,
     "metadata": {},
     "output_type": "execute_result"
    }
   ],
   "source": [
    "total.loc[total['차대번호'] == '03742123119', '검사유효기간']"
   ]
  },
  {
   "cell_type": "code",
   "execution_count": 22,
   "metadata": {},
   "outputs": [
    {
     "data": {
      "text/plain": [
       "17"
      ]
     },
     "execution_count": 22,
     "metadata": {},
     "output_type": "execute_result"
    }
   ],
   "source": [
    "len('KMHK4815GJU081024')"
   ]
  },
  {
   "cell_type": "code",
   "execution_count": 23,
   "metadata": {},
   "outputs": [
    {
     "data": {
      "text/plain": [
       "차대번호            0\n",
       "배출가스검사유효일자    635\n",
       "차량연식            0\n",
       "배출가스인증번호      540\n",
       "dtype: int64"
      ]
     },
     "execution_count": 23,
     "metadata": {},
     "output_type": "execute_result"
    }
   ],
   "source": [
    "df.loc[null_idx, ['차대번호', '배출가스검사유효일자', '차량연식', '배출가스인증번호']].isnull().sum()"
   ]
  },
  {
   "attachments": {},
   "cell_type": "markdown",
   "metadata": {},
   "source": [
    "## [로드] 정기검사"
   ]
  },
  {
   "cell_type": "code",
   "execution_count": 24,
   "metadata": {},
   "outputs": [
    {
     "name": "stdout",
     "output_type": "stream",
     "text": [
      "<class 'pandas.core.frame.DataFrame'>\n",
      "RangeIndex: 22006426 entries, 0 to 22006425\n",
      "Data columns (total 39 columns):\n",
      " #   Column     Dtype  \n",
      "---  ------     -----  \n",
      " 0   사용연료       object \n",
      " 1   주행거리       object \n",
      " 2   차명         object \n",
      " 3   차량번호       object \n",
      " 4   차대번호       object \n",
      " 5   차종         object \n",
      " 6   차량연식       int64  \n",
      " 7   엔진형식       object \n",
      " 8   검사방법       object \n",
      " 9   검사일자       int64  \n",
      " 10  검사종류       object \n",
      " 11  검사판정시각     object \n",
      " 12  검사판정       object \n",
      " 13  산소값        float64\n",
      " 14  이산화탄소값     float64\n",
      " 15  무부하매연판정1   object \n",
      " 16  무부하매연판정2   object \n",
      " 17  무부하매연판정3   object \n",
      " 18  무부하매연판정4   object \n",
      " 19  무부하매연판정5   object \n",
      " 20  무부하매연판정6   object \n",
      " 21  무부하매연허용치1  float64\n",
      " 22  무부하매연허용치2  float64\n",
      " 23  무부하매연허용치3  float64\n",
      " 24  무부하매연허용치4  float64\n",
      " 25  무부하매연허용치5  float64\n",
      " 26  무부하매연허용치6  float64\n",
      " 27  무부하매연측정치1  float64\n",
      " 28  무부하매연측정치2  float64\n",
      " 29  무부하매연측정치3  float64\n",
      " 30  무부하매연측정치4  float64\n",
      " 31  무부하매연측정치5  float64\n",
      " 32  무부하매연측정치6  float64\n",
      " 33  차량용도       object \n",
      " 34  최대출력허용치    float64\n",
      " 35  최대출력측정값    float64\n",
      " 36  검사접수번호     object \n",
      " 37  검사소명       object \n",
      " 38  재검사기간      object \n",
      "dtypes: float64(16), int64(2), object(21)\n",
      "memory usage: 6.4+ GB\n"
     ]
    }
   ],
   "source": [
    "# about 3m 34s\n",
    "file_name = '[ODS]정기검사(2022.12.28).csv'\n",
    "ins = pd.read_csv(os.path.join(ods_fold, file_name), low_memory=False)\n",
    "ins.info()"
   ]
  },
  {
   "cell_type": "code",
   "execution_count": 25,
   "metadata": {},
   "outputs": [
    {
     "data": {
      "text/plain": [
       "0    20190102\n",
       "1    20190102\n",
       "2    20190102\n",
       "3    20190102\n",
       "4    20190102\n",
       "Name: 검사일자, dtype: int64"
      ]
     },
     "execution_count": 25,
     "metadata": {},
     "output_type": "execute_result"
    }
   ],
   "source": [
    "ins['검사일자'].head()"
   ]
  },
  {
   "cell_type": "code",
   "execution_count": 26,
   "metadata": {},
   "outputs": [
    {
     "data": {
      "text/plain": [
       "18083379    20220124\n",
       "Name: 검사일자, dtype: int64"
      ]
     },
     "execution_count": 26,
     "metadata": {},
     "output_type": "execute_result"
    }
   ],
   "source": [
    "ins.loc[ins['차대번호'] == 'KMHK4815GJU081024', '검사일자']"
   ]
  },
  {
   "attachments": {},
   "cell_type": "markdown",
   "metadata": {},
   "source": [
    "## 배출가스 인증번호"
   ]
  },
  {
   "cell_type": "code",
   "execution_count": 27,
   "metadata": {},
   "outputs": [
    {
     "data": {
      "text/plain": [
       "3414724"
      ]
     },
     "execution_count": 27,
     "metadata": {},
     "output_type": "execute_result"
    }
   ],
   "source": [
    "df['배출가스인증번호'].isnull().sum()"
   ]
  },
  {
   "attachments": {},
   "cell_type": "markdown",
   "metadata": {},
   "source": [
    "## 차종"
   ]
  },
  {
   "cell_type": "code",
   "execution_count": null,
   "metadata": {},
   "outputs": [],
   "source": [
    "df.isnull().sum()"
   ]
  },
  {
   "cell_type": "code",
   "execution_count": 9,
   "metadata": {},
   "outputs": [
    {
     "data": {
      "text/plain": [
       "array(['P', 'T', 'V', 'S', nan], dtype=object)"
      ]
     },
     "execution_count": 9,
     "metadata": {},
     "output_type": "execute_result"
    }
   ],
   "source": [
    "df['차종'].unique()"
   ]
  },
  {
   "cell_type": "code",
   "execution_count": 11,
   "metadata": {},
   "outputs": [
    {
     "data": {
      "text/plain": [
       "6257     20110100000000\n",
       "7271     10000700110000\n",
       "21694    10011400290003\n",
       "26839    10000700500000\n",
       "37972    10002200270001\n",
       "Name: 제원관리번호, dtype: object"
      ]
     },
     "execution_count": 11,
     "metadata": {},
     "output_type": "execute_result"
    }
   ],
   "source": [
    "df.loc[df['차종'].isnull() == True, '제원관리번호'].head()"
   ]
  },
  {
   "attachments": {},
   "cell_type": "markdown",
   "metadata": {},
   "source": [
    "### [로드] 등록&제원정보"
   ]
  },
  {
   "cell_type": "code",
   "execution_count": 19,
   "metadata": {},
   "outputs": [
    {
     "data": {
      "text/plain": [
       "(29534047, 49)"
      ]
     },
     "execution_count": 19,
     "metadata": {},
     "output_type": "execute_result"
    }
   ],
   "source": [
    "# about 9m 24s\n",
    "file_name = '[ODS]등록정보&제원정보(2022.12.28).csv'\n",
    "tdf = pd.read_csv(os.path.join(ods_fold, file_name), encoding='cp949', low_memory=False)\n",
    "tdf.shape"
   ]
  },
  {
   "cell_type": "code",
   "execution_count": 40,
   "metadata": {},
   "outputs": [
    {
     "data": {
      "text/html": [
       "<div>\n",
       "<style scoped>\n",
       "    .dataframe tbody tr th:only-of-type {\n",
       "        vertical-align: middle;\n",
       "    }\n",
       "\n",
       "    .dataframe tbody tr th {\n",
       "        vertical-align: top;\n",
       "    }\n",
       "\n",
       "    .dataframe thead th {\n",
       "        text-align: right;\n",
       "    }\n",
       "</style>\n",
       "<table border=\"1\" class=\"dataframe\">\n",
       "  <thead>\n",
       "    <tr style=\"text-align: right;\">\n",
       "      <th></th>\n",
       "      <th>차대번호</th>\n",
       "      <th>배출가스인증번호</th>\n",
       "      <th>자동차형식</th>\n",
       "      <th>엔진형식</th>\n",
       "      <th>차명</th>\n",
       "      <th>차량연식</th>\n",
       "    </tr>\n",
       "  </thead>\n",
       "  <tbody>\n",
       "    <tr>\n",
       "      <th>29534031</th>\n",
       "      <td>KNMA4B2RMPP005538</td>\n",
       "      <td>NaN</td>\n",
       "      <td>T4W13-4D</td>\n",
       "      <td>H5H</td>\n",
       "      <td>SM6</td>\n",
       "      <td>2023</td>\n",
       "    </tr>\n",
       "    <tr>\n",
       "      <th>29534036</th>\n",
       "      <td>KMHJE811BPU100088</td>\n",
       "      <td>NaN</td>\n",
       "      <td>NX4H51BD-E8DF-G5A</td>\n",
       "      <td>G4FT</td>\n",
       "      <td>투싼 하이브리드(TUCSON HYBRID)</td>\n",
       "      <td>2023</td>\n",
       "    </tr>\n",
       "    <tr>\n",
       "      <th>29534037</th>\n",
       "      <td>KMHJE811BPU100230</td>\n",
       "      <td>NaN</td>\n",
       "      <td>NX4H51BD-E8DO-G5A</td>\n",
       "      <td>G4FT</td>\n",
       "      <td>투싼 하이브리드(TUCSON HYBRID)</td>\n",
       "      <td>2023</td>\n",
       "    </tr>\n",
       "    <tr>\n",
       "      <th>29534038</th>\n",
       "      <td>KMHJE811BPU100378</td>\n",
       "      <td>NaN</td>\n",
       "      <td>NX4H51BD-E9DO-G5A</td>\n",
       "      <td>G4FT</td>\n",
       "      <td>투싼 하이브리드(TUCSON HYBRID)</td>\n",
       "      <td>2023</td>\n",
       "    </tr>\n",
       "    <tr>\n",
       "      <th>29534039</th>\n",
       "      <td>KMHJE811BPU100494</td>\n",
       "      <td>NaN</td>\n",
       "      <td>NX4H51BD-E8DF-G5A</td>\n",
       "      <td>G4FT</td>\n",
       "      <td>투싼 하이브리드(TUCSON HYBRID)</td>\n",
       "      <td>2023</td>\n",
       "    </tr>\n",
       "    <tr>\n",
       "      <th>29534040</th>\n",
       "      <td>KMHJE811BPU100592</td>\n",
       "      <td>NaN</td>\n",
       "      <td>NX4H51BD-E8DF-G5A</td>\n",
       "      <td>G4FT</td>\n",
       "      <td>투싼 하이브리드(TUCSON HYBRID)</td>\n",
       "      <td>2023</td>\n",
       "    </tr>\n",
       "    <tr>\n",
       "      <th>29534041</th>\n",
       "      <td>KMHL241JBPA060768</td>\n",
       "      <td>NaN</td>\n",
       "      <td>DNJBH-G7-G5A</td>\n",
       "      <td>G4NR</td>\n",
       "      <td>쏘나타 하이브리드 (SONATA HYBRID)</td>\n",
       "      <td>2023</td>\n",
       "    </tr>\n",
       "    <tr>\n",
       "      <th>29534042</th>\n",
       "      <td>KMHL241JBPA060809</td>\n",
       "      <td>NaN</td>\n",
       "      <td>DNJBH-G7-G5A</td>\n",
       "      <td>G4NR</td>\n",
       "      <td>쏘나타 하이브리드 (SONATA HYBRID)</td>\n",
       "      <td>2023</td>\n",
       "    </tr>\n",
       "    <tr>\n",
       "      <th>29534043</th>\n",
       "      <td>KMHL241JBPA060817</td>\n",
       "      <td>NaN</td>\n",
       "      <td>DNJBH-G7-G5A</td>\n",
       "      <td>G4NR</td>\n",
       "      <td>쏘나타 하이브리드 (SONATA HYBRID)</td>\n",
       "      <td>2023</td>\n",
       "    </tr>\n",
       "    <tr>\n",
       "      <th>29534046</th>\n",
       "      <td>KMHL3412BPA299998</td>\n",
       "      <td>NaN</td>\n",
       "      <td>DN3BF-VS9-G3A</td>\n",
       "      <td>G4FP</td>\n",
       "      <td>쏘나타(SONATA)</td>\n",
       "      <td>2023</td>\n",
       "    </tr>\n",
       "  </tbody>\n",
       "</table>\n",
       "</div>"
      ],
      "text/plain": [
       "                       차대번호 배출가스인증번호              자동차형식  엔진형식  \\\n",
       "29534031  KNMA4B2RMPP005538      NaN           T4W13-4D   H5H   \n",
       "29534036  KMHJE811BPU100088      NaN  NX4H51BD-E8DF-G5A  G4FT   \n",
       "29534037  KMHJE811BPU100230      NaN  NX4H51BD-E8DO-G5A  G4FT   \n",
       "29534038  KMHJE811BPU100378      NaN  NX4H51BD-E9DO-G5A  G4FT   \n",
       "29534039  KMHJE811BPU100494      NaN  NX4H51BD-E8DF-G5A  G4FT   \n",
       "29534040  KMHJE811BPU100592      NaN  NX4H51BD-E8DF-G5A  G4FT   \n",
       "29534041  KMHL241JBPA060768      NaN       DNJBH-G7-G5A  G4NR   \n",
       "29534042  KMHL241JBPA060809      NaN       DNJBH-G7-G5A  G4NR   \n",
       "29534043  KMHL241JBPA060817      NaN       DNJBH-G7-G5A  G4NR   \n",
       "29534046  KMHL3412BPA299998      NaN      DN3BF-VS9-G3A  G4FP   \n",
       "\n",
       "                                 차명  차량연식  \n",
       "29534031                        SM6  2023  \n",
       "29534036    투싼 하이브리드(TUCSON HYBRID)  2023  \n",
       "29534037    투싼 하이브리드(TUCSON HYBRID)  2023  \n",
       "29534038    투싼 하이브리드(TUCSON HYBRID)  2023  \n",
       "29534039    투싼 하이브리드(TUCSON HYBRID)  2023  \n",
       "29534040    투싼 하이브리드(TUCSON HYBRID)  2023  \n",
       "29534041  쏘나타 하이브리드 (SONATA HYBRID)  2023  \n",
       "29534042  쏘나타 하이브리드 (SONATA HYBRID)  2023  \n",
       "29534043  쏘나타 하이브리드 (SONATA HYBRID)  2023  \n",
       "29534046                쏘나타(SONATA)  2023  "
      ]
     },
     "execution_count": 40,
     "metadata": {},
     "output_type": "execute_result"
    }
   ],
   "source": [
    "tdf.loc[tdf['배출가스인증번호'].isnull() == True, ['차대번호', '배출가스인증번호', '자동차형식', '엔진형식', '차명', '차량연식']].tail(10)"
   ]
  },
  {
   "cell_type": "code",
   "execution_count": 33,
   "metadata": {},
   "outputs": [
    {
     "data": {
      "text/plain": [
       "배출가스인증번호   차량연식  차명   \n",
       "LMY-HD-08  1988  엑셀       25\n",
       "           1987  엑셀        6\n",
       "KMY-HD-02  1987  엑셀        1\n",
       "           1988  엑셀        1\n",
       "           1989  엑셀        1\n",
       "KMY-HD-04  1992  EXCEL     1\n",
       "LMY-HD-08  1989  엑셀        1\n",
       "dtype: int64"
      ]
     },
     "execution_count": 33,
     "metadata": {},
     "output_type": "execute_result"
    }
   ],
   "source": [
    "tdf.loc[tdf['자동차형식'] == 'FX-2', ['배출가스인증번호', '차량연식', '차명']].value_counts()"
   ]
  },
  {
   "cell_type": "code",
   "execution_count": 42,
   "metadata": {},
   "outputs": [
    {
     "data": {
      "text/plain": [
       "배출가스인증번호      차량연식  차명                      \n",
       "KMY-KM-14-81  2020  K5                          24414\n",
       "LMY-HD-14-62  2021  투싼(TUCSON)                  23281\n",
       "MMY-KM-14-36  2022  스포티지                        21174\n",
       "LMY-HD-14-62  2022  투싼(TUCSON)                  20925\n",
       "KMY-KM-14-81  2021  K5                          15056\n",
       "JMY-KM-14-57  2022  스포티지                        12525\n",
       "KMY-HD-14-56  2021  쏘나타(SONATA)                 10923\n",
       "              2022  쏘나타(SONATA)                  9652\n",
       "KMY-KM-14-81  2022  K5                           9458\n",
       "KMY-HD-14-56  2020  쏘나타(SONATA)                  9007\n",
       "NMY-KM-14-11  2023  셀토스                          8869\n",
       "HMY-HD-14-31  2021  코나(KONA)                     7682\n",
       "LMY-HD-14-76  2022  코나(KONA)                     2485\n",
       "              2023  코나(KONA)                     2351\n",
       "LMY-HD-14-33  2021  아반떼 N 라인(AVANTE N Line)      1613\n",
       "MMY-KM-14-36  2023  스포티지                         1350\n",
       "JMY-HD-14-48  2021  투싼(TUCSON)                   1070\n",
       "LMY-HD-14-62  2023  투싼(TUCSON)                    918\n",
       "LMY-HD-14-33  2023  아반떼 N 라인 (AVANTE N Line)      324\n",
       "              2022  아반떼 N 라인 (AVANTE N Line)      292\n",
       "HMY-HD-14-31  2022  코나(KONA)                      201\n",
       "KMY-HD-14-56  2023  쏘나타(SONATA)                    74\n",
       "dtype: int64"
      ]
     },
     "execution_count": 42,
     "metadata": {},
     "output_type": "execute_result"
    }
   ],
   "source": [
    "tdf.loc[tdf['엔진형식'] == 'G4FP', ['배출가스인증번호', '차량연식', '차명']].value_counts()"
   ]
  },
  {
   "attachments": {},
   "cell_type": "markdown",
   "metadata": {},
   "source": [
    "## 차종"
   ]
  },
  {
   "cell_type": "code",
   "execution_count": 44,
   "metadata": {},
   "outputs": [
    {
     "data": {
      "text/plain": [
       "14"
      ]
     },
     "execution_count": 44,
     "metadata": {},
     "output_type": "execute_result"
    }
   ],
   "source": [
    "tdf['차종_등록정보'].isnull().sum()"
   ]
  },
  {
   "cell_type": "code",
   "execution_count": 45,
   "metadata": {},
   "outputs": [
    {
     "data": {
      "text/plain": [
       "array(['승용', '화물', '승합', '특수', nan], dtype=object)"
      ]
     },
     "execution_count": 45,
     "metadata": {},
     "output_type": "execute_result"
    }
   ],
   "source": [
    "tdf['차종_등록정보'].unique()"
   ]
  },
  {
   "cell_type": "code",
   "execution_count": 48,
   "metadata": {},
   "outputs": [
    {
     "data": {
      "text/html": [
       "<div>\n",
       "<style scoped>\n",
       "    .dataframe tbody tr th:only-of-type {\n",
       "        vertical-align: middle;\n",
       "    }\n",
       "\n",
       "    .dataframe tbody tr th {\n",
       "        vertical-align: top;\n",
       "    }\n",
       "\n",
       "    .dataframe thead th {\n",
       "        text-align: right;\n",
       "    }\n",
       "</style>\n",
       "<table border=\"1\" class=\"dataframe\">\n",
       "  <thead>\n",
       "    <tr style=\"text-align: right;\">\n",
       "      <th></th>\n",
       "      <th>차명</th>\n",
       "      <th>차종_등록정보</th>\n",
       "      <th>차종분류</th>\n",
       "    </tr>\n",
       "  </thead>\n",
       "  <tbody>\n",
       "    <tr>\n",
       "      <th>6257</th>\n",
       "      <td>유니목1200</td>\n",
       "      <td>NaN</td>\n",
       "      <td>특수용도형-특수용도형</td>\n",
       "    </tr>\n",
       "    <tr>\n",
       "      <th>7271</th>\n",
       "      <td>타이탄디젤14</td>\n",
       "      <td>NaN</td>\n",
       "      <td>일반형-카고</td>\n",
       "    </tr>\n",
       "    <tr>\n",
       "      <th>21694</th>\n",
       "      <td>봉고킹캡</td>\n",
       "      <td>NaN</td>\n",
       "      <td>일반형-카고</td>\n",
       "    </tr>\n",
       "    <tr>\n",
       "      <th>26839</th>\n",
       "      <td>슈퍼타이탄디젤14척(2.5톤)</td>\n",
       "      <td>NaN</td>\n",
       "      <td>일반형-카고</td>\n",
       "    </tr>\n",
       "    <tr>\n",
       "      <th>37972</th>\n",
       "      <td>로얄프린스1.5</td>\n",
       "      <td>NaN</td>\n",
       "      <td>일반</td>\n",
       "    </tr>\n",
       "    <tr>\n",
       "      <th>38473</th>\n",
       "      <td>그레이스살롱</td>\n",
       "      <td>NaN</td>\n",
       "      <td>일반</td>\n",
       "    </tr>\n",
       "    <tr>\n",
       "      <th>43509</th>\n",
       "      <td>봉고킹캡</td>\n",
       "      <td>NaN</td>\n",
       "      <td>일반형-카고</td>\n",
       "    </tr>\n",
       "    <tr>\n",
       "      <th>47889</th>\n",
       "      <td>포니2-1400픽업컨버터블탑</td>\n",
       "      <td>NaN</td>\n",
       "      <td>일반형-픽업</td>\n",
       "    </tr>\n",
       "    <tr>\n",
       "      <th>60693</th>\n",
       "      <td>베스타3밴</td>\n",
       "      <td>NaN</td>\n",
       "      <td>밴</td>\n",
       "    </tr>\n",
       "    <tr>\n",
       "      <th>62028</th>\n",
       "      <td>점보타이탄2.5톤더블캡</td>\n",
       "      <td>NaN</td>\n",
       "      <td>일반형-카고</td>\n",
       "    </tr>\n",
       "    <tr>\n",
       "      <th>66818</th>\n",
       "      <td>그레이스살롱</td>\n",
       "      <td>NaN</td>\n",
       "      <td>일반</td>\n",
       "    </tr>\n",
       "    <tr>\n",
       "      <th>73040</th>\n",
       "      <td>포터슈퍼캡</td>\n",
       "      <td>NaN</td>\n",
       "      <td>일반형-카고</td>\n",
       "    </tr>\n",
       "    <tr>\n",
       "      <th>84902</th>\n",
       "      <td>그랜저2.4</td>\n",
       "      <td>NaN</td>\n",
       "      <td>일반</td>\n",
       "    </tr>\n",
       "    <tr>\n",
       "      <th>87436</th>\n",
       "      <td>그랜저2.4</td>\n",
       "      <td>NaN</td>\n",
       "      <td>일반</td>\n",
       "    </tr>\n",
       "  </tbody>\n",
       "</table>\n",
       "</div>"
      ],
      "text/plain": [
       "                     차명 차종_등록정보         차종분류\n",
       "6257            유니목1200     NaN  특수용도형-특수용도형\n",
       "7271            타이탄디젤14     NaN       일반형-카고\n",
       "21694              봉고킹캡     NaN       일반형-카고\n",
       "26839  슈퍼타이탄디젤14척(2.5톤)     NaN       일반형-카고\n",
       "37972          로얄프린스1.5     NaN           일반\n",
       "38473            그레이스살롱     NaN           일반\n",
       "43509              봉고킹캡     NaN       일반형-카고\n",
       "47889   포니2-1400픽업컨버터블탑     NaN       일반형-픽업\n",
       "60693             베스타3밴     NaN            밴\n",
       "62028      점보타이탄2.5톤더블캡     NaN       일반형-카고\n",
       "66818            그레이스살롱     NaN           일반\n",
       "73040             포터슈퍼캡     NaN       일반형-카고\n",
       "84902            그랜저2.4     NaN           일반\n",
       "87436            그랜저2.4     NaN           일반"
      ]
     },
     "execution_count": 48,
     "metadata": {},
     "output_type": "execute_result"
    }
   ],
   "source": [
    "tdf.loc[tdf['차종_등록정보'].isnull() == True, ['차명', '차종_등록정보', '차종분류']]"
   ]
  },
  {
   "attachments": {},
   "cell_type": "markdown",
   "metadata": {},
   "source": [
    "## 차량 제작 일자"
   ]
  },
  {
   "cell_type": "code",
   "execution_count": 49,
   "metadata": {},
   "outputs": [
    {
     "data": {
      "text/plain": [
       "424546"
      ]
     },
     "execution_count": 49,
     "metadata": {},
     "output_type": "execute_result"
    }
   ],
   "source": [
    "tdf['차량제작일자'].isnull().sum()"
   ]
  },
  {
   "cell_type": "code",
   "execution_count": 52,
   "metadata": {},
   "outputs": [
    {
     "data": {
      "text/plain": [
       "count   29109501.00\n",
       "mean    20133035.32\n",
       "std        62241.75\n",
       "min        11212.00\n",
       "25%     20090924.00\n",
       "50%     20140829.00\n",
       "75%     20180908.00\n",
       "max     20221227.00\n",
       "Name: 차량제작일자, dtype: float64"
      ]
     },
     "execution_count": 52,
     "metadata": {},
     "output_type": "execute_result"
    }
   ],
   "source": [
    "tdf['차량제작일자'].describe()"
   ]
  },
  {
   "cell_type": "code",
   "execution_count": 53,
   "metadata": {},
   "outputs": [
    {
     "data": {
      "text/html": [
       "<div>\n",
       "<style scoped>\n",
       "    .dataframe tbody tr th:only-of-type {\n",
       "        vertical-align: middle;\n",
       "    }\n",
       "\n",
       "    .dataframe tbody tr th {\n",
       "        vertical-align: top;\n",
       "    }\n",
       "\n",
       "    .dataframe thead th {\n",
       "        text-align: right;\n",
       "    }\n",
       "</style>\n",
       "<table border=\"1\" class=\"dataframe\">\n",
       "  <thead>\n",
       "    <tr style=\"text-align: right;\">\n",
       "      <th></th>\n",
       "      <th>차량제작일자</th>\n",
       "      <th>차량연식</th>\n",
       "    </tr>\n",
       "  </thead>\n",
       "  <tbody>\n",
       "    <tr>\n",
       "      <th>0</th>\n",
       "      <td>NaN</td>\n",
       "      <td>1976</td>\n",
       "    </tr>\n",
       "    <tr>\n",
       "      <th>1</th>\n",
       "      <td>NaN</td>\n",
       "      <td>1968</td>\n",
       "    </tr>\n",
       "    <tr>\n",
       "      <th>2</th>\n",
       "      <td>NaN</td>\n",
       "      <td>1976</td>\n",
       "    </tr>\n",
       "    <tr>\n",
       "      <th>3</th>\n",
       "      <td>NaN</td>\n",
       "      <td>1971</td>\n",
       "    </tr>\n",
       "    <tr>\n",
       "      <th>4</th>\n",
       "      <td>NaN</td>\n",
       "      <td>1986</td>\n",
       "    </tr>\n",
       "  </tbody>\n",
       "</table>\n",
       "</div>"
      ],
      "text/plain": [
       "   차량제작일자  차량연식\n",
       "0     NaN  1976\n",
       "1     NaN  1968\n",
       "2     NaN  1976\n",
       "3     NaN  1971\n",
       "4     NaN  1986"
      ]
     },
     "execution_count": 53,
     "metadata": {},
     "output_type": "execute_result"
    }
   ],
   "source": [
    "tdf.loc[tdf['차량제작일자'].isnull() == True, ['차량제작일자', '차량연식']].head()"
   ]
  },
  {
   "cell_type": "code",
   "execution_count": 55,
   "metadata": {},
   "outputs": [],
   "source": [
    "tdf['차량제작일자'] = tdf['차량제작일자'].astype(str)"
   ]
  },
  {
   "cell_type": "code",
   "execution_count": 58,
   "metadata": {},
   "outputs": [
    {
     "data": {
      "text/plain": [
       "29534042    20221222.0\n",
       "29534043    20221222.0\n",
       "29534044    20221209.0\n",
       "29534045    20221216.0\n",
       "29534046    20221219.0\n",
       "Name: 차량제작일자, dtype: object"
      ]
     },
     "execution_count": 58,
     "metadata": {},
     "output_type": "execute_result"
    }
   ],
   "source": [
    "tdf['차량제작일자'].tail()"
   ]
  },
  {
   "cell_type": "code",
   "execution_count": 59,
   "metadata": {},
   "outputs": [
    {
     "data": {
      "text/plain": [
       "(424560, 49)"
      ]
     },
     "execution_count": 59,
     "metadata": {},
     "output_type": "execute_result"
    }
   ],
   "source": [
    "tdf.loc[tdf['차량제작일자'].str.len() != 10].shape"
   ]
  },
  {
   "cell_type": "code",
   "execution_count": 62,
   "metadata": {},
   "outputs": [
    {
     "data": {
      "text/plain": [
       "21685676          nan\n",
       "21712859          nan\n",
       "22655861          nan\n",
       "23415596          nan\n",
       "28698925    2020101.0\n",
       "Name: 차량제작일자, dtype: object"
      ]
     },
     "execution_count": 62,
     "metadata": {},
     "output_type": "execute_result"
    }
   ],
   "source": [
    "tdf.loc[tdf['차량제작일자'].str.len() != 10, '차량제작일자'].tail()"
   ]
  },
  {
   "cell_type": "code",
   "execution_count": 65,
   "metadata": {},
   "outputs": [
    {
     "name": "stderr",
     "output_type": "stream",
     "text": [
      "29534047it [00:14, 2067135.81it/s]\n"
     ]
    },
    {
     "data": {
      "text/plain": [
       "424546"
      ]
     },
     "execution_count": 65,
     "metadata": {},
     "output_type": "execute_result"
    }
   ],
   "source": [
    "nan_idx = []\n",
    "for i, one in tqdm(enumerate(tdf['차량제작일자'].to_list())):\n",
    "    if str(one) == 'nan':\n",
    "        nan_idx.append(i)\n",
    "len(nan_idx)"
   ]
  },
  {
   "cell_type": "code",
   "execution_count": 66,
   "metadata": {},
   "outputs": [
    {
     "name": "stderr",
     "output_type": "stream",
     "text": [
      "29534047it [00:16, 1765138.99it/s]\n"
     ]
    },
    {
     "data": {
      "text/plain": [
       "424560"
      ]
     },
     "execution_count": 66,
     "metadata": {},
     "output_type": "execute_result"
    }
   ],
   "source": [
    "error_idx = []\n",
    "for i, one in tqdm(enumerate(tdf['차량제작일자'].to_list())):\n",
    "    if len(str(one)) != 10:\n",
    "        error_idx.append(i)\n",
    "len(error_idx)"
   ]
  },
  {
   "cell_type": "code",
   "execution_count": 67,
   "metadata": {},
   "outputs": [
    {
     "data": {
      "text/plain": [
       "14"
      ]
     },
     "execution_count": 67,
     "metadata": {},
     "output_type": "execute_result"
    }
   ],
   "source": [
    "len(set(error_idx) - set(nan_idx))"
   ]
  },
  {
   "cell_type": "code",
   "execution_count": 70,
   "metadata": {},
   "outputs": [
    {
     "data": {
      "text/html": [
       "<div>\n",
       "<style scoped>\n",
       "    .dataframe tbody tr th:only-of-type {\n",
       "        vertical-align: middle;\n",
       "    }\n",
       "\n",
       "    .dataframe tbody tr th {\n",
       "        vertical-align: top;\n",
       "    }\n",
       "\n",
       "    .dataframe thead th {\n",
       "        text-align: right;\n",
       "    }\n",
       "</style>\n",
       "<table border=\"1\" class=\"dataframe\">\n",
       "  <thead>\n",
       "    <tr style=\"text-align: right;\">\n",
       "      <th></th>\n",
       "      <th>차량제작일자</th>\n",
       "      <th>차량연식</th>\n",
       "    </tr>\n",
       "  </thead>\n",
       "  <tbody>\n",
       "    <tr>\n",
       "      <th>17678839</th>\n",
       "      <td>2160221.0</td>\n",
       "      <td>2016</td>\n",
       "    </tr>\n",
       "    <tr>\n",
       "      <th>1492297</th>\n",
       "      <td>11212.0</td>\n",
       "      <td>2002</td>\n",
       "    </tr>\n",
       "    <tr>\n",
       "      <th>3291562</th>\n",
       "      <td>50226.0</td>\n",
       "      <td>2005</td>\n",
       "    </tr>\n",
       "    <tr>\n",
       "      <th>858730</th>\n",
       "      <td>7770707.0</td>\n",
       "      <td>1999</td>\n",
       "    </tr>\n",
       "    <tr>\n",
       "      <th>5554988</th>\n",
       "      <td>70814.0</td>\n",
       "      <td>2008</td>\n",
       "    </tr>\n",
       "    <tr>\n",
       "      <th>28698925</th>\n",
       "      <td>2020101.0</td>\n",
       "      <td>2022</td>\n",
       "    </tr>\n",
       "    <tr>\n",
       "      <th>12484270</th>\n",
       "      <td>2130128.0</td>\n",
       "      <td>2013</td>\n",
       "    </tr>\n",
       "    <tr>\n",
       "      <th>1233232</th>\n",
       "      <td>2210413.0</td>\n",
       "      <td>2001</td>\n",
       "    </tr>\n",
       "    <tr>\n",
       "      <th>201553</th>\n",
       "      <td>9910501.0</td>\n",
       "      <td>1991</td>\n",
       "    </tr>\n",
       "    <tr>\n",
       "      <th>453521</th>\n",
       "      <td>9950407.0</td>\n",
       "      <td>1995</td>\n",
       "    </tr>\n",
       "    <tr>\n",
       "      <th>8915729</th>\n",
       "      <td>2100819.0</td>\n",
       "      <td>2010</td>\n",
       "    </tr>\n",
       "    <tr>\n",
       "      <th>21051863</th>\n",
       "      <td>261217.0</td>\n",
       "      <td>2018</td>\n",
       "    </tr>\n",
       "    <tr>\n",
       "      <th>9209788</th>\n",
       "      <td>101110.0</td>\n",
       "      <td>2011</td>\n",
       "    </tr>\n",
       "    <tr>\n",
       "      <th>2076989</th>\n",
       "      <td>30204.0</td>\n",
       "      <td>2003</td>\n",
       "    </tr>\n",
       "  </tbody>\n",
       "</table>\n",
       "</div>"
      ],
      "text/plain": [
       "             차량제작일자  차량연식\n",
       "17678839  2160221.0  2016\n",
       "1492297     11212.0  2002\n",
       "3291562     50226.0  2005\n",
       "858730    7770707.0  1999\n",
       "5554988     70814.0  2008\n",
       "28698925  2020101.0  2022\n",
       "12484270  2130128.0  2013\n",
       "1233232   2210413.0  2001\n",
       "201553    9910501.0  1991\n",
       "453521    9950407.0  1995\n",
       "8915729   2100819.0  2010\n",
       "21051863   261217.0  2018\n",
       "9209788    101110.0  2011\n",
       "2076989     30204.0  2003"
      ]
     },
     "execution_count": 70,
     "metadata": {},
     "output_type": "execute_result"
    }
   ],
   "source": [
    "tdf.loc[list(set(error_idx) - set(nan_idx)), ['차량제작일자', '차량연식']]"
   ]
  },
  {
   "cell_type": "code",
   "execution_count": 71,
   "metadata": {},
   "outputs": [
    {
     "data": {
      "text/html": [
       "<div>\n",
       "<style scoped>\n",
       "    .dataframe tbody tr th:only-of-type {\n",
       "        vertical-align: middle;\n",
       "    }\n",
       "\n",
       "    .dataframe tbody tr th {\n",
       "        vertical-align: top;\n",
       "    }\n",
       "\n",
       "    .dataframe thead th {\n",
       "        text-align: right;\n",
       "    }\n",
       "</style>\n",
       "<table border=\"1\" class=\"dataframe\">\n",
       "  <thead>\n",
       "    <tr style=\"text-align: right;\">\n",
       "      <th></th>\n",
       "      <th>차량제작일자</th>\n",
       "      <th>차량연식</th>\n",
       "    </tr>\n",
       "  </thead>\n",
       "  <tbody>\n",
       "    <tr>\n",
       "      <th>0</th>\n",
       "      <td>nan</td>\n",
       "      <td>1976</td>\n",
       "    </tr>\n",
       "    <tr>\n",
       "      <th>1</th>\n",
       "      <td>nan</td>\n",
       "      <td>1968</td>\n",
       "    </tr>\n",
       "    <tr>\n",
       "      <th>2</th>\n",
       "      <td>nan</td>\n",
       "      <td>1976</td>\n",
       "    </tr>\n",
       "    <tr>\n",
       "      <th>3</th>\n",
       "      <td>nan</td>\n",
       "      <td>1971</td>\n",
       "    </tr>\n",
       "    <tr>\n",
       "      <th>4</th>\n",
       "      <td>nan</td>\n",
       "      <td>1986</td>\n",
       "    </tr>\n",
       "  </tbody>\n",
       "</table>\n",
       "</div>"
      ],
      "text/plain": [
       "  차량제작일자  차량연식\n",
       "0    nan  1976\n",
       "1    nan  1968\n",
       "2    nan  1976\n",
       "3    nan  1971\n",
       "4    nan  1986"
      ]
     },
     "execution_count": 71,
     "metadata": {},
     "output_type": "execute_result"
    }
   ],
   "source": [
    "tdf.loc[nan_idx, ['차량제작일자', '차량연식']].head()"
   ]
  },
  {
   "cell_type": "code",
   "execution_count": 12,
   "metadata": {},
   "outputs": [
    {
     "data": {
      "text/html": [
       "<div>\n",
       "<style scoped>\n",
       "    .dataframe tbody tr th:only-of-type {\n",
       "        vertical-align: middle;\n",
       "    }\n",
       "\n",
       "    .dataframe tbody tr th {\n",
       "        vertical-align: top;\n",
       "    }\n",
       "\n",
       "    .dataframe thead th {\n",
       "        text-align: right;\n",
       "    }\n",
       "</style>\n",
       "<table border=\"1\" class=\"dataframe\">\n",
       "  <thead>\n",
       "    <tr style=\"text-align: right;\">\n",
       "      <th></th>\n",
       "      <th>차량제작일자</th>\n",
       "      <th>차량연식</th>\n",
       "    </tr>\n",
       "  </thead>\n",
       "  <tbody>\n",
       "    <tr>\n",
       "      <th>530017</th>\n",
       "      <td>1996 308</td>\n",
       "      <td>1996</td>\n",
       "    </tr>\n",
       "  </tbody>\n",
       "</table>\n",
       "</div>"
      ],
      "text/plain": [
       "          차량제작일자  차량연식\n",
       "530017  1996 308  1996"
      ]
     },
     "execution_count": 12,
     "metadata": {},
     "output_type": "execute_result"
    }
   ],
   "source": [
    "df.loc[df['차량제작일자'] == '1996 308', ['차량제작일자', '차량연식']]"
   ]
  },
  {
   "attachments": {},
   "cell_type": "markdown",
   "metadata": {},
   "source": [
    "## 차량 연식"
   ]
  },
  {
   "cell_type": "code",
   "execution_count": 72,
   "metadata": {},
   "outputs": [
    {
     "data": {
      "text/plain": [
       "0"
      ]
     },
     "execution_count": 72,
     "metadata": {},
     "output_type": "execute_result"
    }
   ],
   "source": [
    "df['차량연식'].isnull().sum()"
   ]
  },
  {
   "cell_type": "code",
   "execution_count": 73,
   "metadata": {},
   "outputs": [
    {
     "data": {
      "text/plain": [
       "0"
      ]
     },
     "execution_count": 73,
     "metadata": {},
     "output_type": "execute_result"
    }
   ],
   "source": [
    "p = re.compile('[0-9]')\n",
    "count = 0\n",
    "if one in df['차량연식']:\n",
    "    if not p.search(str(one)):\n",
    "        count += 1\n",
    "count"
   ]
  },
  {
   "attachments": {},
   "cell_type": "markdown",
   "metadata": {},
   "source": [
    "## 차량 말소 YN"
   ]
  },
  {
   "cell_type": "code",
   "execution_count": 74,
   "metadata": {},
   "outputs": [
    {
     "data": {
      "text/plain": [
       "0"
      ]
     },
     "execution_count": 74,
     "metadata": {},
     "output_type": "execute_result"
    }
   ],
   "source": [
    "df['차량말소YN'].isnull().sum()"
   ]
  },
  {
   "cell_type": "code",
   "execution_count": 75,
   "metadata": {},
   "outputs": [
    {
     "data": {
      "text/plain": [
       "N    25693532\n",
       "Y     3840515\n",
       "Name: 차량말소YN, dtype: int64"
      ]
     },
     "execution_count": 75,
     "metadata": {},
     "output_type": "execute_result"
    }
   ],
   "source": [
    "df['차량말소YN'].value_counts(dropna=True)"
   ]
  },
  {
   "attachments": {},
   "cell_type": "markdown",
   "metadata": {},
   "source": [
    "## 차대번호"
   ]
  },
  {
   "cell_type": "code",
   "execution_count": 76,
   "metadata": {},
   "outputs": [
    {
     "data": {
      "text/plain": [
       "0"
      ]
     },
     "execution_count": 76,
     "metadata": {},
     "output_type": "execute_result"
    }
   ],
   "source": [
    "df['차대번호'].isnull().sum()"
   ]
  },
  {
   "cell_type": "code",
   "execution_count": 10,
   "metadata": {},
   "outputs": [
    {
     "data": {
      "text/plain": [
       "{7, 8, 9, 10, 11, 12, 13, 14, 15, 16, 17, 18}"
      ]
     },
     "execution_count": 10,
     "metadata": {},
     "output_type": "execute_result"
    }
   ],
   "source": [
    "vin_temp = df['차대번호'].str.len()\n",
    "set(vin_temp.unique())"
   ]
  },
  {
   "cell_type": "code",
   "execution_count": 12,
   "metadata": {},
   "outputs": [
    {
     "name": "stdout",
     "output_type": "stream",
     "text": [
      "차대번호 길이 : 7\n",
      "(1,)\n"
     ]
    },
    {
     "data": {
      "text/plain": [
       "4476    2EJ1684\n",
       "Name: 차대번호, dtype: object"
      ]
     },
     "metadata": {},
     "output_type": "display_data"
    },
    {
     "name": "stdout",
     "output_type": "stream",
     "text": [
      "\n",
      "차대번호 길이 : 8\n",
      "(4,)\n"
     ]
    },
    {
     "data": {
      "text/plain": [
       "10312     14072632\n",
       "19219     S2159974\n",
       "64281     TX000402\n",
       "666792    KPO42337\n",
       "Name: 차대번호, dtype: object"
      ]
     },
     "metadata": {},
     "output_type": "display_data"
    },
    {
     "name": "stdout",
     "output_type": "stream",
     "text": [
      "\n",
      "차대번호 길이 : 9\n",
      "(29,)\n"
     ]
    },
    {
     "data": {
      "text/plain": [
       "72       CN71G6168\n",
       "209      CN45C1971\n",
       "322      CN67C4394\n",
       "1102     CN55C6054\n",
       "25958    H50B11136\n",
       "Name: 차대번호, dtype: object"
      ]
     },
     "metadata": {},
     "output_type": "display_data"
    },
    {
     "name": "stdout",
     "output_type": "stream",
     "text": [
      "\n",
      "차대번호 길이 : 10\n",
      "(79,)\n"
     ]
    },
    {
     "data": {
      "text/plain": [
       "161     PN71C02663\n",
       "360     SL68806025\n",
       "458     SL70C05607\n",
       "1709    3781255420\n",
       "4124    0379134909\n",
       "Name: 차대번호, dtype: object"
      ]
     },
     "metadata": {},
     "output_type": "display_data"
    },
    {
     "name": "stdout",
     "output_type": "stream",
     "text": [
      "\n",
      "차대번호 길이 : 11\n",
      "(23395,)\n"
     ]
    },
    {
     "data": {
      "text/plain": [
       "0    10762211742\n",
       "2    10762211783\n",
       "5    03761205193\n",
       "6    10762211439\n",
       "7    10762211752\n",
       "Name: 차대번호, dtype: object"
      ]
     },
     "metadata": {},
     "output_type": "display_data"
    },
    {
     "name": "stdout",
     "output_type": "stream",
     "text": [
      "\n",
      "차대번호 길이 : 12\n",
      "(11250,)\n"
     ]
    },
    {
     "data": {
      "text/plain": [
       "1      KG68T122688*\n",
       "109    SL71CD059152\n",
       "160    KG55C1518794\n",
       "254    SL67CD028030\n",
       "271    CN-62-T-2213\n",
       "Name: 차대번호, dtype: object"
      ]
     },
     "metadata": {},
     "output_type": "display_data"
    },
    {
     "name": "stdout",
     "output_type": "stream",
     "text": [
      "\n",
      "차대번호 길이 : 13\n",
      "(411,)\n"
     ]
    },
    {
     "data": {
      "text/plain": [
       "412     00KG70T136619\n",
       "624     02-76-1153834\n",
       "1323    03772204197대기\n",
       "2041    09681200250대구\n",
       "4600    0379221213671\n",
       "Name: 차대번호, dtype: object"
      ]
     },
     "metadata": {},
     "output_type": "display_data"
    },
    {
     "name": "stdout",
     "output_type": "stream",
     "text": [
      "\n",
      "차대번호 길이 : 14\n",
      "(157,)\n"
     ]
    },
    {
     "data": {
      "text/plain": [
       "133    SL-64-C-014539\n",
       "228    KB-43-C-005729\n",
       "316    KW-67-C-003837\n",
       "317    KB-67-C-030837\n",
       "503    SL71C000054364\n",
       "Name: 차대번호, dtype: object"
      ]
     },
     "metadata": {},
     "output_type": "display_data"
    },
    {
     "name": "stdout",
     "output_type": "stream",
     "text": [
      "\n",
      "차대번호 길이 : 15\n",
      "(400,)\n"
     ]
    },
    {
     "data": {
      "text/plain": [
       "130    03731211223EOWL\n",
       "222    03741225978EORL\n",
       "320    KB-63-T-021391*\n",
       "354    03751234220EORL\n",
       "952    03772129684EORL\n",
       "Name: 차대번호, dtype: object"
      ]
     },
     "metadata": {},
     "output_type": "display_data"
    },
    {
     "name": "stdout",
     "output_type": "stream",
     "text": [
      "\n",
      "차대번호 길이 : 16\n",
      "(701,)\n"
     ]
    },
    {
     "data": {
      "text/plain": [
       "173    10742257663EOGUS\n",
       "362    00000JN69C003565\n",
       "582    10751169605EOGUS\n",
       "759    10772218362EOGUS\n",
       "769    10772218689EOGUS\n",
       "Name: 차대번호, dtype: object"
      ]
     },
     "metadata": {},
     "output_type": "display_data"
    },
    {
     "name": "stdout",
     "output_type": "stream",
     "text": [
      "\n",
      "차대번호 길이 : 17\n",
      "(29497619,)\n"
     ]
    },
    {
     "data": {
      "text/plain": [
       "3     PN71C018511000000\n",
       "4     KMHLA11FPGU060639\n",
       "9     SL67C000000027766\n",
       "44    000000KG701300199\n",
       "80    000000SL44C003630\n",
       "Name: 차대번호, dtype: object"
      ]
     },
     "metadata": {},
     "output_type": "display_data"
    },
    {
     "name": "stdout",
     "output_type": "stream",
     "text": [
      "\n",
      "차대번호 길이 : 18\n",
      "(1,)\n"
     ]
    },
    {
     "data": {
      "text/plain": [
       "613675    KMFLA19JPTC1098071\n",
       "Name: 차대번호, dtype: object"
      ]
     },
     "metadata": {},
     "output_type": "display_data"
    },
    {
     "name": "stdout",
     "output_type": "stream",
     "text": [
      "\n"
     ]
    },
    {
     "data": {
      "text/plain": [
       "29534047"
      ]
     },
     "execution_count": 12,
     "metadata": {},
     "output_type": "execute_result"
    }
   ],
   "source": [
    "count = 0\n",
    "for one in set(vin_temp.unique()):\n",
    "    temp = df.loc[df['차대번호'].str.len() == one, '차대번호']\n",
    "    count += temp.shape[0]\n",
    "    print(f'차대번호 길이 : {one}')\n",
    "    print(temp.shape)\n",
    "    display(temp.head())\n",
    "    print()\n",
    "count"
   ]
  },
  {
   "cell_type": "code",
   "execution_count": 13,
   "metadata": {},
   "outputs": [
    {
     "data": {
      "text/plain": [
       "0"
      ]
     },
     "execution_count": 13,
     "metadata": {},
     "output_type": "execute_result"
    }
   ],
   "source": [
    "len_17_wrong_text_idx = []\n",
    "p = re.compile('[ㄱ-ㅎ|ㅏ-ㅣ|가-힣]')\n",
    "for i, one in enumerate(df['차대번호']):\n",
    "    if len(str(one)) == 17 and p.search(str(one)):\n",
    "        len_17_wrong_text_idx.append(i)\n",
    "len(len_17_wrong_text_idx)"
   ]
  },
  {
   "cell_type": "code",
   "execution_count": null,
   "metadata": {},
   "outputs": [],
   "source": [
    "df.loc[len_17_wrong_text_idx, '차대번호'].head()"
   ]
  },
  {
   "attachments": {},
   "cell_type": "markdown",
   "metadata": {},
   "source": [
    "## 제원관리번호"
   ]
  },
  {
   "cell_type": "code",
   "execution_count": 14,
   "metadata": {},
   "outputs": [
    {
     "data": {
      "text/plain": [
       "0"
      ]
     },
     "execution_count": 14,
     "metadata": {},
     "output_type": "execute_result"
    }
   ],
   "source": [
    "df['제원관리번호'].isnull().sum()"
   ]
  },
  {
   "cell_type": "code",
   "execution_count": 15,
   "metadata": {},
   "outputs": [
    {
     "data": {
      "text/plain": [
       "0    10004800000000\n",
       "1    30220100010946\n",
       "2    10004800000000\n",
       "3    30321400001063\n",
       "4    30381300100968\n",
       "Name: 제원관리번호, dtype: object"
      ]
     },
     "execution_count": 15,
     "metadata": {},
     "output_type": "execute_result"
    }
   ],
   "source": [
    "df['제원관리번호'].head()"
   ]
  },
  {
   "cell_type": "code",
   "execution_count": 16,
   "metadata": {},
   "outputs": [
    {
     "data": {
      "text/plain": [
       "array([14, 17], dtype=int64)"
      ]
     },
     "execution_count": 16,
     "metadata": {},
     "output_type": "execute_result"
    }
   ],
   "source": [
    "temp = df['제원관리번호'].str.len()\n",
    "temp.unique()"
   ]
  },
  {
   "cell_type": "code",
   "execution_count": 17,
   "metadata": {},
   "outputs": [
    {
     "data": {
      "text/plain": [
       "(1998450,)"
      ]
     },
     "execution_count": 17,
     "metadata": {},
     "output_type": "execute_result"
    }
   ],
   "source": [
    "df.loc[df['제원관리번호'].str.len() == 14, '제원관리번호'].shape"
   ]
  },
  {
   "cell_type": "code",
   "execution_count": 18,
   "metadata": {},
   "outputs": [
    {
     "data": {
      "text/plain": [
       "0    10004800000000\n",
       "1    30220100010946\n",
       "2    10004800000000\n",
       "3    30321400001063\n",
       "4    30381300100968\n",
       "Name: 제원관리번호, dtype: object"
      ]
     },
     "execution_count": 18,
     "metadata": {},
     "output_type": "execute_result"
    }
   ],
   "source": [
    "df.loc[df['제원관리번호'].str.len() == 14, '제원관리번호'].head()"
   ]
  },
  {
   "cell_type": "code",
   "execution_count": 82,
   "metadata": {},
   "outputs": [
    {
     "data": {
      "text/plain": [
       "(27535597,)"
      ]
     },
     "execution_count": 82,
     "metadata": {},
     "output_type": "execute_result"
    }
   ],
   "source": [
    "df.loc[df['제원관리번호'].str.len() == 17, '제원관리번호'].shape"
   ]
  },
  {
   "cell_type": "code",
   "execution_count": 83,
   "metadata": {},
   "outputs": [
    {
     "data": {
      "text/plain": [
       "33     00034313000053303\n",
       "64     00034717000033303\n",
       "107    00032709000020003\n",
       "178    00034113000441104\n",
       "194    00034314000023303\n",
       "Name: 제원관리번호, dtype: object"
      ]
     },
     "execution_count": 83,
     "metadata": {},
     "output_type": "execute_result"
    }
   ],
   "source": [
    "df.loc[df['제원관리번호'].str.len() == 17, '제원관리번호'].head()"
   ]
  },
  {
   "cell_type": "code",
   "execution_count": 84,
   "metadata": {},
   "outputs": [
    {
     "data": {
      "text/plain": [
       "0"
      ]
     },
     "execution_count": 84,
     "metadata": {},
     "output_type": "execute_result"
    }
   ],
   "source": [
    "error_idx = []\n",
    "p = re.compile('[가-힣]')\n",
    "for i, one in enumerate(df['제원관리번호']):\n",
    "    if p.search(str(one)):\n",
    "        error_idx.append(i)\n",
    "len(error_idx)"
   ]
  },
  {
   "attachments": {},
   "cell_type": "markdown",
   "metadata": {},
   "source": [
    "## 배출가스 등급"
   ]
  },
  {
   "cell_type": "code",
   "execution_count": 9,
   "metadata": {},
   "outputs": [
    {
     "data": {
      "text/plain": [
       "32"
      ]
     },
     "execution_count": 9,
     "metadata": {},
     "output_type": "execute_result"
    }
   ],
   "source": [
    "df['배출가스등급'].isnull().sum()"
   ]
  },
  {
   "cell_type": "code",
   "execution_count": 10,
   "metadata": {},
   "outputs": [
    {
     "data": {
      "text/html": [
       "<div>\n",
       "<style scoped>\n",
       "    .dataframe tbody tr th:only-of-type {\n",
       "        vertical-align: middle;\n",
       "    }\n",
       "\n",
       "    .dataframe tbody tr th {\n",
       "        vertical-align: top;\n",
       "    }\n",
       "\n",
       "    .dataframe thead th {\n",
       "        text-align: right;\n",
       "    }\n",
       "</style>\n",
       "<table border=\"1\" class=\"dataframe\">\n",
       "  <thead>\n",
       "    <tr style=\"text-align: right;\">\n",
       "      <th></th>\n",
       "      <th>차종</th>\n",
       "      <th>차량연식</th>\n",
       "    </tr>\n",
       "  </thead>\n",
       "  <tbody>\n",
       "    <tr>\n",
       "      <th>6371951</th>\n",
       "      <td>P</td>\n",
       "      <td>2009</td>\n",
       "    </tr>\n",
       "    <tr>\n",
       "      <th>6388290</th>\n",
       "      <td>P</td>\n",
       "      <td>2009</td>\n",
       "    </tr>\n",
       "    <tr>\n",
       "      <th>6423602</th>\n",
       "      <td>P</td>\n",
       "      <td>2009</td>\n",
       "    </tr>\n",
       "    <tr>\n",
       "      <th>6433596</th>\n",
       "      <td>P</td>\n",
       "      <td>2009</td>\n",
       "    </tr>\n",
       "    <tr>\n",
       "      <th>6443163</th>\n",
       "      <td>P</td>\n",
       "      <td>2009</td>\n",
       "    </tr>\n",
       "  </tbody>\n",
       "</table>\n",
       "</div>"
      ],
      "text/plain": [
       "        차종  차량연식\n",
       "6371951  P  2009\n",
       "6388290  P  2009\n",
       "6423602  P  2009\n",
       "6433596  P  2009\n",
       "6443163  P  2009"
      ]
     },
     "execution_count": 10,
     "metadata": {},
     "output_type": "execute_result"
    }
   ],
   "source": [
    "df.loc[df['배출가스등급'].isnull() == True, ['차종', '차량연식']].head()"
   ]
  },
  {
   "cell_type": "code",
   "execution_count": 11,
   "metadata": {},
   "outputs": [
    {
     "data": {
      "text/html": [
       "<div>\n",
       "<style scoped>\n",
       "    .dataframe tbody tr th:only-of-type {\n",
       "        vertical-align: middle;\n",
       "    }\n",
       "\n",
       "    .dataframe tbody tr th {\n",
       "        vertical-align: top;\n",
       "    }\n",
       "\n",
       "    .dataframe thead th {\n",
       "        text-align: right;\n",
       "    }\n",
       "</style>\n",
       "<table border=\"1\" class=\"dataframe\">\n",
       "  <thead>\n",
       "    <tr style=\"text-align: right;\">\n",
       "      <th></th>\n",
       "      <th>차종</th>\n",
       "      <th>차량연식</th>\n",
       "    </tr>\n",
       "  </thead>\n",
       "  <tbody>\n",
       "    <tr>\n",
       "      <th>7233033</th>\n",
       "      <td>P</td>\n",
       "      <td>2009</td>\n",
       "    </tr>\n",
       "    <tr>\n",
       "      <th>7286470</th>\n",
       "      <td>P</td>\n",
       "      <td>2009</td>\n",
       "    </tr>\n",
       "    <tr>\n",
       "      <th>7308340</th>\n",
       "      <td>P</td>\n",
       "      <td>2009</td>\n",
       "    </tr>\n",
       "    <tr>\n",
       "      <th>7359054</th>\n",
       "      <td>P</td>\n",
       "      <td>2009</td>\n",
       "    </tr>\n",
       "    <tr>\n",
       "      <th>7419773</th>\n",
       "      <td>P</td>\n",
       "      <td>2009</td>\n",
       "    </tr>\n",
       "  </tbody>\n",
       "</table>\n",
       "</div>"
      ],
      "text/plain": [
       "        차종  차량연식\n",
       "7233033  P  2009\n",
       "7286470  P  2009\n",
       "7308340  P  2009\n",
       "7359054  P  2009\n",
       "7419773  P  2009"
      ]
     },
     "execution_count": 11,
     "metadata": {},
     "output_type": "execute_result"
    }
   ],
   "source": [
    "df.loc[df['배출가스등급'].isnull() == True, ['차종', '차량연식']].tail()"
   ]
  },
  {
   "cell_type": "code",
   "execution_count": 14,
   "metadata": {},
   "outputs": [
    {
     "data": {
      "text/html": [
       "<div>\n",
       "<style scoped>\n",
       "    .dataframe tbody tr th:only-of-type {\n",
       "        vertical-align: middle;\n",
       "    }\n",
       "\n",
       "    .dataframe tbody tr th {\n",
       "        vertical-align: top;\n",
       "    }\n",
       "\n",
       "    .dataframe thead th {\n",
       "        text-align: right;\n",
       "    }\n",
       "</style>\n",
       "<table border=\"1\" class=\"dataframe\">\n",
       "  <thead>\n",
       "    <tr style=\"text-align: right;\">\n",
       "      <th></th>\n",
       "      <th>제원관리번호</th>\n",
       "      <th>차종_등록정보</th>\n",
       "      <th>차량연식</th>\n",
       "      <th>연료</th>\n",
       "    </tr>\n",
       "  </thead>\n",
       "  <tbody>\n",
       "    <tr>\n",
       "      <th>6371951</th>\n",
       "      <td>A0110003200611408</td>\n",
       "      <td>승용</td>\n",
       "      <td>2009</td>\n",
       "      <td>휘발유</td>\n",
       "    </tr>\n",
       "    <tr>\n",
       "      <th>6388290</th>\n",
       "      <td>A0110003200611408</td>\n",
       "      <td>승용</td>\n",
       "      <td>2009</td>\n",
       "      <td>휘발유</td>\n",
       "    </tr>\n",
       "    <tr>\n",
       "      <th>6423602</th>\n",
       "      <td>A0110003200611408</td>\n",
       "      <td>승용</td>\n",
       "      <td>2009</td>\n",
       "      <td>휘발유</td>\n",
       "    </tr>\n",
       "    <tr>\n",
       "      <th>6433596</th>\n",
       "      <td>A0110003200611408</td>\n",
       "      <td>승용</td>\n",
       "      <td>2009</td>\n",
       "      <td>휘발유</td>\n",
       "    </tr>\n",
       "    <tr>\n",
       "      <th>6443163</th>\n",
       "      <td>A0110003200611408</td>\n",
       "      <td>승용</td>\n",
       "      <td>2009</td>\n",
       "      <td>휘발유</td>\n",
       "    </tr>\n",
       "  </tbody>\n",
       "</table>\n",
       "</div>"
      ],
      "text/plain": [
       "                    제원관리번호 차종_등록정보  차량연식   연료\n",
       "6371951  A0110003200611408      승용  2009  휘발유\n",
       "6388290  A0110003200611408      승용  2009  휘발유\n",
       "6423602  A0110003200611408      승용  2009  휘발유\n",
       "6433596  A0110003200611408      승용  2009  휘발유\n",
       "6443163  A0110003200611408      승용  2009  휘발유"
      ]
     },
     "execution_count": 14,
     "metadata": {},
     "output_type": "execute_result"
    }
   ],
   "source": [
    "tdf.loc[tdf['배출가스등급'].isnull() == True, ['제원관리번호', '차종_등록정보', '차량연식', '연료']].head()"
   ]
  },
  {
   "cell_type": "code",
   "execution_count": 17,
   "metadata": {},
   "outputs": [
    {
     "data": {
      "text/plain": [
       "6371951    NaN\n",
       "6388290    NaN\n",
       "6423602    NaN\n",
       "6433596    NaN\n",
       "6443163    NaN\n",
       "6490573    NaN\n",
       "6511542    NaN\n",
       "6581976    NaN\n",
       "6708567    NaN\n",
       "6751967    NaN\n",
       "6820551    NaN\n",
       "6899089    NaN\n",
       "6908881    NaN\n",
       "6980361    NaN\n",
       "7180758    NaN\n",
       "7209206    NaN\n",
       "7220856    NaN\n",
       "7233033    NaN\n",
       "7359054    NaN\n",
       "Name: 배출가스등급, dtype: object"
      ]
     },
     "execution_count": 17,
     "metadata": {},
     "output_type": "execute_result"
    }
   ],
   "source": [
    "df.loc[(df['제원관리번호'] == 'A0110003200611408') & (df['배출가스등급'].isnull() == True), '배출가스등급']"
   ]
  },
  {
   "attachments": {},
   "cell_type": "markdown",
   "metadata": {},
   "source": [
    "# 2\\. [로드] 제원정보(ODS_CEG_CAR_SRC_MIG)"
   ]
  },
  {
   "cell_type": "code",
   "execution_count": 6,
   "metadata": {},
   "outputs": [
    {
     "name": "stdout",
     "output_type": "stream",
     "text": [
      "<class 'pandas.core.frame.DataFrame'>\n",
      "RangeIndex: 545374 entries, 0 to 545373\n",
      "Data columns (total 28 columns):\n",
      " #   Column       Non-Null Count   Dtype  \n",
      "---  ------       --------------   -----  \n",
      " 0   SRCMNNO      545374 non-null  object \n",
      " 1   VHCNM        545272 non-null  object \n",
      " 2   VHCTY        545370 non-null  object \n",
      " 3   VHCTY_CL     531367 non-null  object \n",
      " 4   VHCTY_TY     531332 non-null  object \n",
      " 5   CAR_FRM      516295 non-null  object \n",
      " 6   MKR_NM       529017 non-null  object \n",
      " 7   FUEL         503254 non-null  object \n",
      " 8   EGINTY       494157 non-null  object \n",
      " 9   EMPV_WGHT    0 non-null       float64\n",
      " 10  TOT_WGHT     541702 non-null  float64\n",
      " 11  CRYNG_WGHT   446181 non-null  float64\n",
      " 12  EGINPWR      471948 non-null  float64\n",
      " 13  DSPLVL       510521 non-null  float64\n",
      " 14  TKCAR_NMPR   545313 non-null  float64\n",
      " 15  VHCL_LT      514786 non-null  float64\n",
      " 16  VHCL_WH      514799 non-null  float64\n",
      " 17  VHCL_HG      514732 non-null  float64\n",
      " 18  PLOR_NM      540392 non-null  object \n",
      " 19  REPCAR_NM    0 non-null       float64\n",
      " 20  DELE_YN      545374 non-null  object \n",
      " 21  CNFRM_DE     532881 non-null  object \n",
      " 22  DRV_FRM      114619 non-null  object \n",
      " 23  GEARBOX_KND  540165 non-null  object \n",
      " 24  RMK          1 non-null       object \n",
      " 25  CRTN_DT      545374 non-null  object \n",
      " 26  UPDT_DT      14578 non-null   object \n",
      " 27  USER_ID      545374 non-null  object \n",
      "dtypes: float64(10), object(18)\n",
      "memory usage: 116.5+ MB\n"
     ]
    }
   ],
   "source": [
    "# about 5s\n",
    "name = 'CEG_CAR_SRC_MIG'\n",
    "file_name = f'ODS_{name}.csv'\n",
    "src = pd.read_csv(os.path.join(ods_fold, file_name), low_memory=False)\n",
    "src.info()"
   ]
  },
  {
   "cell_type": "code",
   "execution_count": 7,
   "metadata": {},
   "outputs": [
    {
     "data": {
      "text/plain": [
       "Index(['제원관리번호', '차명', '차종', '차종분류', '차종유형(소분류)', '자동차형식', '제작사명', '연료',\n",
       "       '엔진형식', '공차중량', '총중량', '적재중량', '엔진출력', '배기량', '승차인원', '차량길이', '차량너비',\n",
       "       '차량높이', '원산지명', '미정', '삭제YN', '승인일자', '구동형식', '변속기종류', '미정', '생성일시',\n",
       "       '수정일시', '미정'],\n",
       "      dtype='object')"
      ]
     },
     "execution_count": 7,
     "metadata": {},
     "output_type": "execute_result"
    }
   ],
   "source": [
    "file_name = f'[정제]{name}.xlsx'\n",
    "col_df = pd.read_excel(os.path.join(col_fold, file_name), sheet_name='ODS_col')\n",
    "col_dict = {a:b for a,b in col_df[['컬럼', '내용']].values}\n",
    "src.columns = [col_dict[x] for x in src.columns]\n",
    "src.columns"
   ]
  },
  {
   "attachments": {},
   "cell_type": "markdown",
   "metadata": {},
   "source": [
    "## 총 중량"
   ]
  },
  {
   "cell_type": "code",
   "execution_count": 8,
   "metadata": {},
   "outputs": [
    {
     "data": {
      "text/plain": [
       "count   541702.00\n",
       "mean     10034.74\n",
       "std      12666.19\n",
       "min          0.00\n",
       "25%       1795.00\n",
       "50%       3135.00\n",
       "75%      15055.00\n",
       "max     936130.00\n",
       "Name: 총중량, dtype: float64"
      ]
     },
     "execution_count": 8,
     "metadata": {},
     "output_type": "execute_result"
    }
   ],
   "source": [
    "src['총중량'].describe()"
   ]
  },
  {
   "cell_type": "code",
   "execution_count": 9,
   "metadata": {},
   "outputs": [
    {
     "data": {
      "text/html": [
       "<div>\n",
       "<style scoped>\n",
       "    .dataframe tbody tr th:only-of-type {\n",
       "        vertical-align: middle;\n",
       "    }\n",
       "\n",
       "    .dataframe tbody tr th {\n",
       "        vertical-align: top;\n",
       "    }\n",
       "\n",
       "    .dataframe thead th {\n",
       "        text-align: right;\n",
       "    }\n",
       "</style>\n",
       "<table border=\"1\" class=\"dataframe\">\n",
       "  <thead>\n",
       "    <tr style=\"text-align: right;\">\n",
       "      <th></th>\n",
       "      <th>자동차형식</th>\n",
       "      <th>엔진형식</th>\n",
       "    </tr>\n",
       "  </thead>\n",
       "  <tbody>\n",
       "    <tr>\n",
       "      <th>78</th>\n",
       "      <td>NaN</td>\n",
       "      <td>NaN</td>\n",
       "    </tr>\n",
       "    <tr>\n",
       "      <th>108</th>\n",
       "      <td>0</td>\n",
       "      <td>0</td>\n",
       "    </tr>\n",
       "    <tr>\n",
       "      <th>114</th>\n",
       "      <td>0</td>\n",
       "      <td>0</td>\n",
       "    </tr>\n",
       "    <tr>\n",
       "      <th>122</th>\n",
       "      <td>0</td>\n",
       "      <td>NaN</td>\n",
       "    </tr>\n",
       "    <tr>\n",
       "      <th>124</th>\n",
       "      <td>0</td>\n",
       "      <td>NaN</td>\n",
       "    </tr>\n",
       "    <tr>\n",
       "      <th>126</th>\n",
       "      <td>0</td>\n",
       "      <td>NaN</td>\n",
       "    </tr>\n",
       "    <tr>\n",
       "      <th>127</th>\n",
       "      <td>0</td>\n",
       "      <td>NaN</td>\n",
       "    </tr>\n",
       "    <tr>\n",
       "      <th>282</th>\n",
       "      <td>0</td>\n",
       "      <td>NaN</td>\n",
       "    </tr>\n",
       "    <tr>\n",
       "      <th>903</th>\n",
       "      <td>0</td>\n",
       "      <td>NaN</td>\n",
       "    </tr>\n",
       "    <tr>\n",
       "      <th>1081</th>\n",
       "      <td>BH-G38T-A2</td>\n",
       "      <td>G6DA</td>\n",
       "    </tr>\n",
       "    <tr>\n",
       "      <th>1380</th>\n",
       "      <td>0</td>\n",
       "      <td>NaN</td>\n",
       "    </tr>\n",
       "    <tr>\n",
       "      <th>1565</th>\n",
       "      <td>0</td>\n",
       "      <td>NaN</td>\n",
       "    </tr>\n",
       "    <tr>\n",
       "      <th>1654</th>\n",
       "      <td>0</td>\n",
       "      <td>0</td>\n",
       "    </tr>\n",
       "    <tr>\n",
       "      <th>1658</th>\n",
       "      <td>0</td>\n",
       "      <td>0</td>\n",
       "    </tr>\n",
       "    <tr>\n",
       "      <th>1888</th>\n",
       "      <td>NaN</td>\n",
       "      <td>NaN</td>\n",
       "    </tr>\n",
       "    <tr>\n",
       "      <th>2077</th>\n",
       "      <td>0</td>\n",
       "      <td>NaN</td>\n",
       "    </tr>\n",
       "    <tr>\n",
       "      <th>2080</th>\n",
       "      <td>0</td>\n",
       "      <td>NaN</td>\n",
       "    </tr>\n",
       "    <tr>\n",
       "      <th>2081</th>\n",
       "      <td>0</td>\n",
       "      <td>NaN</td>\n",
       "    </tr>\n",
       "    <tr>\n",
       "      <th>2082</th>\n",
       "      <td>0</td>\n",
       "      <td>NaN</td>\n",
       "    </tr>\n",
       "    <tr>\n",
       "      <th>2083</th>\n",
       "      <td>0</td>\n",
       "      <td>NaN</td>\n",
       "    </tr>\n",
       "  </tbody>\n",
       "</table>\n",
       "</div>"
      ],
      "text/plain": [
       "           자동차형식  엔진형식\n",
       "78           NaN   NaN\n",
       "108            0     0\n",
       "114            0     0\n",
       "122            0   NaN\n",
       "124            0   NaN\n",
       "126            0   NaN\n",
       "127            0   NaN\n",
       "282            0   NaN\n",
       "903            0   NaN\n",
       "1081  BH-G38T-A2  G6DA\n",
       "1380           0   NaN\n",
       "1565           0   NaN\n",
       "1654           0     0\n",
       "1658           0     0\n",
       "1888         NaN   NaN\n",
       "2077           0   NaN\n",
       "2080           0   NaN\n",
       "2081           0   NaN\n",
       "2082           0   NaN\n",
       "2083           0   NaN"
      ]
     },
     "execution_count": 9,
     "metadata": {},
     "output_type": "execute_result"
    }
   ],
   "source": [
    "src.loc[src['총중량'].isnull() == True, ['자동차형식', '엔진형식']].head(20)"
   ]
  },
  {
   "cell_type": "code",
   "execution_count": 10,
   "metadata": {},
   "outputs": [
    {
     "data": {
      "text/html": [
       "<div>\n",
       "<style scoped>\n",
       "    .dataframe tbody tr th:only-of-type {\n",
       "        vertical-align: middle;\n",
       "    }\n",
       "\n",
       "    .dataframe tbody tr th {\n",
       "        vertical-align: top;\n",
       "    }\n",
       "\n",
       "    .dataframe thead th {\n",
       "        text-align: right;\n",
       "    }\n",
       "</style>\n",
       "<table border=\"1\" class=\"dataframe\">\n",
       "  <thead>\n",
       "    <tr style=\"text-align: right;\">\n",
       "      <th></th>\n",
       "      <th>자동차형식</th>\n",
       "      <th>엔진형식</th>\n",
       "      <th>총중량</th>\n",
       "    </tr>\n",
       "  </thead>\n",
       "  <tbody>\n",
       "    <tr>\n",
       "      <th>1081</th>\n",
       "      <td>BH-G38T-A2</td>\n",
       "      <td>G6DA</td>\n",
       "      <td>NaN</td>\n",
       "    </tr>\n",
       "    <tr>\n",
       "      <th>152612</th>\n",
       "      <td>BH-G38T-A2</td>\n",
       "      <td>G6DA</td>\n",
       "      <td>2135.00</td>\n",
       "    </tr>\n",
       "    <tr>\n",
       "      <th>207047</th>\n",
       "      <td>BH-G38T-A2</td>\n",
       "      <td>G6DA</td>\n",
       "      <td>2135.00</td>\n",
       "    </tr>\n",
       "    <tr>\n",
       "      <th>209767</th>\n",
       "      <td>BH-G38T-A2</td>\n",
       "      <td>G6DA</td>\n",
       "      <td>2135.00</td>\n",
       "    </tr>\n",
       "    <tr>\n",
       "      <th>344750</th>\n",
       "      <td>BH-G38T-A2</td>\n",
       "      <td>G6DA</td>\n",
       "      <td>2135.00</td>\n",
       "    </tr>\n",
       "    <tr>\n",
       "      <th>350148</th>\n",
       "      <td>BH-G38T-A2</td>\n",
       "      <td>G6DA</td>\n",
       "      <td>2135.00</td>\n",
       "    </tr>\n",
       "    <tr>\n",
       "      <th>369175</th>\n",
       "      <td>BH-G38T-A2</td>\n",
       "      <td>G6DA</td>\n",
       "      <td>2135.00</td>\n",
       "    </tr>\n",
       "  </tbody>\n",
       "</table>\n",
       "</div>"
      ],
      "text/plain": [
       "             자동차형식  엔진형식     총중량\n",
       "1081    BH-G38T-A2  G6DA     NaN\n",
       "152612  BH-G38T-A2  G6DA 2135.00\n",
       "207047  BH-G38T-A2  G6DA 2135.00\n",
       "209767  BH-G38T-A2  G6DA 2135.00\n",
       "344750  BH-G38T-A2  G6DA 2135.00\n",
       "350148  BH-G38T-A2  G6DA 2135.00\n",
       "369175  BH-G38T-A2  G6DA 2135.00"
      ]
     },
     "execution_count": 10,
     "metadata": {},
     "output_type": "execute_result"
    }
   ],
   "source": [
    "src.loc[src['자동차형식'] == 'BH-G38T-A2', ['자동차형식', '엔진형식','총중량']]"
   ]
  },
  {
   "attachments": {},
   "cell_type": "markdown",
   "metadata": {},
   "source": [
    "## 차종 유형(소분류)"
   ]
  },
  {
   "cell_type": "code",
   "execution_count": 28,
   "metadata": {},
   "outputs": [
    {
     "data": {
      "text/plain": [
       "array(['L', 'M', 'S', 'C', nan], dtype=object)"
      ]
     },
     "execution_count": 28,
     "metadata": {},
     "output_type": "execute_result"
    }
   ],
   "source": [
    "src['차종유형(소분류)'].unique()"
   ]
  },
  {
   "cell_type": "code",
   "execution_count": 19,
   "metadata": {},
   "outputs": [
    {
     "name": "stdout",
     "output_type": "stream",
     "text": [
      "                자동차형식 차종유형(소분류)\n",
      "2547  HDH-25-LST 1978       NaN\n",
      "       자동차형식 차종유형(소분류)\n",
      "3555    1973       NaN\n",
      "699001  1973        소형\n",
      "               자동차형식 차종유형(소분류)\n",
      "104415  ALSA1830L/SE       NaN\n",
      "104621  ALSA1830L/SE       NaN\n",
      "105668  ALSA1830L/SE       NaN\n",
      "113391  ALSA1830L/SE       NaN\n",
      "               자동차형식 차종유형(소분류)\n",
      "104415  ALSA1830L/SE       NaN\n",
      "104621  ALSA1830L/SE       NaN\n",
      "105668  ALSA1830L/SE       NaN\n",
      "113391  ALSA1830L/SE       NaN\n",
      "               자동차형식 차종유형(소분류)\n",
      "104415  ALSA1830L/SE       NaN\n",
      "104621  ALSA1830L/SE       NaN\n",
      "105668  ALSA1830L/SE       NaN\n",
      "113391  ALSA1830L/SE       NaN\n",
      "              자동차형식 차종유형(소분류)\n",
      "55996   HEC-F2-2500        대형\n",
      "60893   HEC-F2-2500        대형\n",
      "88667   HEC-F2-2500        대형\n",
      "88720   HEC-F2-2500        대형\n",
      "90012   HEC-F2-2500        대형\n",
      "...             ...       ...\n",
      "569846  HEC-F2-2500        대형\n",
      "570803  HEC-F2-2500        대형\n",
      "571814  HEC-F2-2500        대형\n",
      "614951  HEC-F2-2500        대형\n",
      "710290  HEC-F2-2500        대형\n",
      "\n",
      "[183 rows x 2 columns]\n",
      "               자동차형식 차종유형(소분류)\n",
      "104415  ALSA1830L/SE       NaN\n",
      "104621  ALSA1830L/SE       NaN\n",
      "105668  ALSA1830L/SE       NaN\n",
      "113391  ALSA1830L/SE       NaN\n",
      "               자동차형식 차종유형(소분류)\n",
      "126973  SKI-DMT-6000        중형\n",
      "127191  SKI-DMT-6000        중형\n",
      "128632  SKI-DMT-6000       NaN\n",
      "129638  SKI-DMT-6000       NaN\n",
      "129838  SKI-DMT-6000        중형\n",
      "               자동차형식 차종유형(소분류)\n",
      "126973  SKI-DMT-6000        중형\n",
      "127191  SKI-DMT-6000        중형\n",
      "128632  SKI-DMT-6000       NaN\n",
      "129638  SKI-DMT-6000       NaN\n",
      "129838  SKI-DMT-6000        중형\n"
     ]
    }
   ],
   "source": [
    "temp = tdf.loc[tdf['차종유형(소분류)'].isnull() == True, '자동차형식']\n",
    "for one in temp:\n",
    "    tp = tdf.loc[tdf['자동차형식'] == one, ['자동차형식', '차종유형(소분류)']]\n",
    "    if tp.shape[0] != 0:\n",
    "        print(tp)"
   ]
  },
  {
   "cell_type": "code",
   "execution_count": 20,
   "metadata": {},
   "outputs": [],
   "source": [
    "temp = tdf.loc[tdf['차종유형(소분류)'].isnull() == True, '엔진형식']\n",
    "for one in temp:\n",
    "    tp = tdf.loc[tdf['엔진형식'] == one, ['엔진형식', '차종유형(소분류)']]\n",
    "    if tp.shape[0] != 0:\n",
    "        print(tp)"
   ]
  },
  {
   "attachments": {},
   "cell_type": "markdown",
   "metadata": {},
   "source": [
    "## 차종분류"
   ]
  },
  {
   "cell_type": "code",
   "execution_count": 34,
   "metadata": {},
   "outputs": [
    {
     "data": {
      "text/plain": [
       "array(['특수용도형-특수용도형', '특수', '특수용도형-피견인', '일반', '다목적', '밴', '일반형-픽업',\n",
       "       '일반형-카고', '기타', '견인', '특수작업형', '특수용도형-탱크로리', '덤프', '구난', '승용겸화물',\n",
       "       '특수용도형', nan], dtype=object)"
      ]
     },
     "execution_count": 34,
     "metadata": {},
     "output_type": "execute_result"
    }
   ],
   "source": [
    "src['차종분류'].unique()"
   ]
  },
  {
   "cell_type": "code",
   "execution_count": 35,
   "metadata": {},
   "outputs": [
    {
     "data": {
      "text/plain": [
       "14007"
      ]
     },
     "execution_count": 35,
     "metadata": {},
     "output_type": "execute_result"
    }
   ],
   "source": [
    "src['차종분류'].isnull().sum()"
   ]
  },
  {
   "cell_type": "code",
   "execution_count": 47,
   "metadata": {},
   "outputs": [
    {
     "data": {
      "text/html": [
       "<div>\n",
       "<style scoped>\n",
       "    .dataframe tbody tr th:only-of-type {\n",
       "        vertical-align: middle;\n",
       "    }\n",
       "\n",
       "    .dataframe tbody tr th {\n",
       "        vertical-align: top;\n",
       "    }\n",
       "\n",
       "    .dataframe thead th {\n",
       "        text-align: right;\n",
       "    }\n",
       "</style>\n",
       "<table border=\"1\" class=\"dataframe\">\n",
       "  <thead>\n",
       "    <tr style=\"text-align: right;\">\n",
       "      <th></th>\n",
       "      <th>제원관리번호</th>\n",
       "      <th>차종분류</th>\n",
       "      <th>차종</th>\n",
       "      <th>차명</th>\n",
       "    </tr>\n",
       "  </thead>\n",
       "  <tbody>\n",
       "    <tr>\n",
       "      <th>545114</th>\n",
       "      <td>A0350008620033022</td>\n",
       "      <td>NaN</td>\n",
       "      <td>T</td>\n",
       "      <td>구쎈</td>\n",
       "    </tr>\n",
       "    <tr>\n",
       "      <th>545115</th>\n",
       "      <td>A0350008620043022</td>\n",
       "      <td>NaN</td>\n",
       "      <td>T</td>\n",
       "      <td>구쎈</td>\n",
       "    </tr>\n",
       "    <tr>\n",
       "      <th>545116</th>\n",
       "      <td>A0350008620053022</td>\n",
       "      <td>NaN</td>\n",
       "      <td>T</td>\n",
       "      <td>구쎈</td>\n",
       "    </tr>\n",
       "    <tr>\n",
       "      <th>545117</th>\n",
       "      <td>A0350008620063022</td>\n",
       "      <td>NaN</td>\n",
       "      <td>T</td>\n",
       "      <td>구쎈</td>\n",
       "    </tr>\n",
       "    <tr>\n",
       "      <th>545118</th>\n",
       "      <td>A0350008620073022</td>\n",
       "      <td>NaN</td>\n",
       "      <td>T</td>\n",
       "      <td>구쎈</td>\n",
       "    </tr>\n",
       "  </tbody>\n",
       "</table>\n",
       "</div>"
      ],
      "text/plain": [
       "                   제원관리번호 차종분류 차종  차명\n",
       "545114  A0350008620033022  NaN  T  구쎈\n",
       "545115  A0350008620043022  NaN  T  구쎈\n",
       "545116  A0350008620053022  NaN  T  구쎈\n",
       "545117  A0350008620063022  NaN  T  구쎈\n",
       "545118  A0350008620073022  NaN  T  구쎈"
      ]
     },
     "execution_count": 47,
     "metadata": {},
     "output_type": "execute_result"
    }
   ],
   "source": [
    "src.loc[src['차종분류'].isnull() == True, ['제원관리번호', '차종분류', '차종', '차명']].tail()"
   ]
  },
  {
   "cell_type": "code",
   "execution_count": 102,
   "metadata": {},
   "outputs": [
    {
     "data": {
      "text/plain": [
       "array(['T', 'V', 'P', 'S', nan], dtype=object)"
      ]
     },
     "execution_count": 102,
     "metadata": {},
     "output_type": "execute_result"
    }
   ],
   "source": [
    "src['차종'].unique()"
   ]
  },
  {
   "cell_type": "code",
   "execution_count": 86,
   "metadata": {},
   "outputs": [
    {
     "data": {
      "text/plain": [
       "array(['일반', '일반형-카고', '특수용도형-특수용도형', '특수용도형-피견인', '덤프', '구난', '특수작업형',\n",
       "       '기타', '다목적', '견인', '밴', '일반형-픽업', '승용겸화물', '특수용도형-탱크로리', '특수',\n",
       "       '특수용도형', nan], dtype=object)"
      ]
     },
     "execution_count": 86,
     "metadata": {},
     "output_type": "execute_result"
    }
   ],
   "source": [
    "df['차종분류'].unique()"
   ]
  },
  {
   "cell_type": "code",
   "execution_count": 87,
   "metadata": {},
   "outputs": [
    {
     "data": {
      "text/plain": [
       "21"
      ]
     },
     "execution_count": 87,
     "metadata": {},
     "output_type": "execute_result"
    }
   ],
   "source": [
    "df['차종분류'].isnull().sum()"
   ]
  },
  {
   "cell_type": "code",
   "execution_count": 41,
   "metadata": {},
   "outputs": [
    {
     "data": {
      "text/plain": [
       "Index(['차량관리번호', '차량등록번호', '본거지법정동코드', '소유자구분', '차종', '용도', '미정', '현재회원번호',\n",
       "       '미정', '미정', '차대번호', '최초등록일자', '차량연식', '차량제작일자', '배출가스검사유효일자', '제원관리번호',\n",
       "       '배출가스인증번호', '배출가스등급', '저공해조치YN(미사용)', '저공해조치종류', '저공해조치구조변경YN', '미정',\n",
       "       '차량등록번호숫자정보', '차량말소YN', '미정', '최초회원번호', '취득일자', '취득금액', '미정', '생성일시',\n",
       "       '수정일시', '미정'],\n",
       "      dtype='object')"
      ]
     },
     "execution_count": 41,
     "metadata": {},
     "output_type": "execute_result"
    }
   ],
   "source": [
    "df.columns"
   ]
  },
  {
   "cell_type": "code",
   "execution_count": 52,
   "metadata": {},
   "outputs": [
    {
     "data": {
      "text/plain": [
       "Series([], Name: 차종, dtype: object)"
      ]
     },
     "execution_count": 52,
     "metadata": {},
     "output_type": "execute_result"
    }
   ],
   "source": [
    "df.loc[df['제원관리번호'] == 'A0350008620073022', '차종']"
   ]
  },
  {
   "attachments": {},
   "cell_type": "markdown",
   "metadata": {},
   "source": [
    "## 차종"
   ]
  },
  {
   "cell_type": "code",
   "execution_count": 112,
   "metadata": {},
   "outputs": [
    {
     "data": {
      "text/plain": [
       "array(['T', 'V', 'P', 'S', nan], dtype=object)"
      ]
     },
     "execution_count": 112,
     "metadata": {},
     "output_type": "execute_result"
    }
   ],
   "source": [
    "src['차종'].unique()"
   ]
  },
  {
   "cell_type": "code",
   "execution_count": 113,
   "metadata": {},
   "outputs": [
    {
     "data": {
      "text/plain": [
       "4"
      ]
     },
     "execution_count": 113,
     "metadata": {},
     "output_type": "execute_result"
    }
   ],
   "source": [
    "src['차종'].isnull().sum()"
   ]
  },
  {
   "cell_type": "code",
   "execution_count": 114,
   "metadata": {},
   "outputs": [
    {
     "data": {
      "text/html": [
       "<div>\n",
       "<style scoped>\n",
       "    .dataframe tbody tr th:only-of-type {\n",
       "        vertical-align: middle;\n",
       "    }\n",
       "\n",
       "    .dataframe tbody tr th {\n",
       "        vertical-align: top;\n",
       "    }\n",
       "\n",
       "    .dataframe thead th {\n",
       "        text-align: right;\n",
       "    }\n",
       "</style>\n",
       "<table border=\"1\" class=\"dataframe\">\n",
       "  <thead>\n",
       "    <tr style=\"text-align: right;\">\n",
       "      <th></th>\n",
       "      <th>제원관리번호</th>\n",
       "      <th>차종분류</th>\n",
       "    </tr>\n",
       "  </thead>\n",
       "  <tbody>\n",
       "    <tr>\n",
       "      <th>67558</th>\n",
       "      <td>30110100002329</td>\n",
       "      <td>NaN</td>\n",
       "    </tr>\n",
       "    <tr>\n",
       "      <th>171109</th>\n",
       "      <td>30210100000056</td>\n",
       "      <td>NaN</td>\n",
       "    </tr>\n",
       "    <tr>\n",
       "      <th>275351</th>\n",
       "      <td>30220100000001</td>\n",
       "      <td>NaN</td>\n",
       "    </tr>\n",
       "    <tr>\n",
       "      <th>318490</th>\n",
       "      <td>30110100002328</td>\n",
       "      <td>NaN</td>\n",
       "    </tr>\n",
       "  </tbody>\n",
       "</table>\n",
       "</div>"
      ],
      "text/plain": [
       "                제원관리번호 차종분류\n",
       "67558   30110100002329  NaN\n",
       "171109  30210100000056  NaN\n",
       "275351  30220100000001  NaN\n",
       "318490  30110100002328  NaN"
      ]
     },
     "execution_count": 114,
     "metadata": {},
     "output_type": "execute_result"
    }
   ],
   "source": [
    "src.loc[src['차종'].isnull() == True, ['제원관리번호' ,'차종분류']]"
   ]
  },
  {
   "cell_type": "code",
   "execution_count": 122,
   "metadata": {},
   "outputs": [
    {
     "data": {
      "text/plain": [
       "14"
      ]
     },
     "execution_count": 122,
     "metadata": {},
     "output_type": "execute_result"
    }
   ],
   "source": [
    "df['차종'].isnull().sum()"
   ]
  },
  {
   "cell_type": "code",
   "execution_count": 128,
   "metadata": {},
   "outputs": [
    {
     "data": {
      "text/html": [
       "<div>\n",
       "<style scoped>\n",
       "    .dataframe tbody tr th:only-of-type {\n",
       "        vertical-align: middle;\n",
       "    }\n",
       "\n",
       "    .dataframe tbody tr th {\n",
       "        vertical-align: top;\n",
       "    }\n",
       "\n",
       "    .dataframe thead th {\n",
       "        text-align: right;\n",
       "    }\n",
       "</style>\n",
       "<table border=\"1\" class=\"dataframe\">\n",
       "  <thead>\n",
       "    <tr style=\"text-align: right;\">\n",
       "      <th></th>\n",
       "      <th>제원관리번호</th>\n",
       "      <th>차종</th>\n",
       "    </tr>\n",
       "  </thead>\n",
       "  <tbody>\n",
       "  </tbody>\n",
       "</table>\n",
       "</div>"
      ],
      "text/plain": [
       "Empty DataFrame\n",
       "Columns: [제원관리번호, 차종]\n",
       "Index: []"
      ]
     },
     "metadata": {},
     "output_type": "display_data"
    },
    {
     "data": {
      "text/html": [
       "<div>\n",
       "<style scoped>\n",
       "    .dataframe tbody tr th:only-of-type {\n",
       "        vertical-align: middle;\n",
       "    }\n",
       "\n",
       "    .dataframe tbody tr th {\n",
       "        vertical-align: top;\n",
       "    }\n",
       "\n",
       "    .dataframe thead th {\n",
       "        text-align: right;\n",
       "    }\n",
       "</style>\n",
       "<table border=\"1\" class=\"dataframe\">\n",
       "  <thead>\n",
       "    <tr style=\"text-align: right;\">\n",
       "      <th></th>\n",
       "      <th>제원관리번호</th>\n",
       "      <th>차종</th>\n",
       "    </tr>\n",
       "  </thead>\n",
       "  <tbody>\n",
       "  </tbody>\n",
       "</table>\n",
       "</div>"
      ],
      "text/plain": [
       "Empty DataFrame\n",
       "Columns: [제원관리번호, 차종]\n",
       "Index: []"
      ]
     },
     "metadata": {},
     "output_type": "display_data"
    },
    {
     "data": {
      "text/html": [
       "<div>\n",
       "<style scoped>\n",
       "    .dataframe tbody tr th:only-of-type {\n",
       "        vertical-align: middle;\n",
       "    }\n",
       "\n",
       "    .dataframe tbody tr th {\n",
       "        vertical-align: top;\n",
       "    }\n",
       "\n",
       "    .dataframe thead th {\n",
       "        text-align: right;\n",
       "    }\n",
       "</style>\n",
       "<table border=\"1\" class=\"dataframe\">\n",
       "  <thead>\n",
       "    <tr style=\"text-align: right;\">\n",
       "      <th></th>\n",
       "      <th>제원관리번호</th>\n",
       "      <th>차종</th>\n",
       "    </tr>\n",
       "  </thead>\n",
       "  <tbody>\n",
       "  </tbody>\n",
       "</table>\n",
       "</div>"
      ],
      "text/plain": [
       "Empty DataFrame\n",
       "Columns: [제원관리번호, 차종]\n",
       "Index: []"
      ]
     },
     "metadata": {},
     "output_type": "display_data"
    },
    {
     "data": {
      "text/html": [
       "<div>\n",
       "<style scoped>\n",
       "    .dataframe tbody tr th:only-of-type {\n",
       "        vertical-align: middle;\n",
       "    }\n",
       "\n",
       "    .dataframe tbody tr th {\n",
       "        vertical-align: top;\n",
       "    }\n",
       "\n",
       "    .dataframe thead th {\n",
       "        text-align: right;\n",
       "    }\n",
       "</style>\n",
       "<table border=\"1\" class=\"dataframe\">\n",
       "  <thead>\n",
       "    <tr style=\"text-align: right;\">\n",
       "      <th></th>\n",
       "      <th>제원관리번호</th>\n",
       "      <th>차종</th>\n",
       "    </tr>\n",
       "  </thead>\n",
       "  <tbody>\n",
       "  </tbody>\n",
       "</table>\n",
       "</div>"
      ],
      "text/plain": [
       "Empty DataFrame\n",
       "Columns: [제원관리번호, 차종]\n",
       "Index: []"
      ]
     },
     "metadata": {},
     "output_type": "display_data"
    }
   ],
   "source": [
    "for one in src.loc[src['차종'].isnull() == True, ['제원관리번호' ,'차종분류']]['제원관리번호'].values:\n",
    "    display(df.loc[df['제원관리번호'] == one, ['제원관리번호', '차종']])"
   ]
  },
  {
   "cell_type": "code",
   "execution_count": 130,
   "metadata": {},
   "outputs": [
    {
     "data": {
      "text/html": [
       "<div>\n",
       "<style scoped>\n",
       "    .dataframe tbody tr th:only-of-type {\n",
       "        vertical-align: middle;\n",
       "    }\n",
       "\n",
       "    .dataframe tbody tr th {\n",
       "        vertical-align: top;\n",
       "    }\n",
       "\n",
       "    .dataframe thead th {\n",
       "        text-align: right;\n",
       "    }\n",
       "</style>\n",
       "<table border=\"1\" class=\"dataframe\">\n",
       "  <thead>\n",
       "    <tr style=\"text-align: right;\">\n",
       "      <th></th>\n",
       "      <th>제원관리번호</th>\n",
       "      <th>차종_등록정보</th>\n",
       "      <th>차종_제원정보</th>\n",
       "    </tr>\n",
       "  </thead>\n",
       "  <tbody>\n",
       "  </tbody>\n",
       "</table>\n",
       "</div>"
      ],
      "text/plain": [
       "Empty DataFrame\n",
       "Columns: [제원관리번호, 차종_등록정보, 차종_제원정보]\n",
       "Index: []"
      ]
     },
     "metadata": {},
     "output_type": "display_data"
    },
    {
     "data": {
      "text/html": [
       "<div>\n",
       "<style scoped>\n",
       "    .dataframe tbody tr th:only-of-type {\n",
       "        vertical-align: middle;\n",
       "    }\n",
       "\n",
       "    .dataframe tbody tr th {\n",
       "        vertical-align: top;\n",
       "    }\n",
       "\n",
       "    .dataframe thead th {\n",
       "        text-align: right;\n",
       "    }\n",
       "</style>\n",
       "<table border=\"1\" class=\"dataframe\">\n",
       "  <thead>\n",
       "    <tr style=\"text-align: right;\">\n",
       "      <th></th>\n",
       "      <th>제원관리번호</th>\n",
       "      <th>차종_등록정보</th>\n",
       "      <th>차종_제원정보</th>\n",
       "    </tr>\n",
       "  </thead>\n",
       "  <tbody>\n",
       "  </tbody>\n",
       "</table>\n",
       "</div>"
      ],
      "text/plain": [
       "Empty DataFrame\n",
       "Columns: [제원관리번호, 차종_등록정보, 차종_제원정보]\n",
       "Index: []"
      ]
     },
     "metadata": {},
     "output_type": "display_data"
    },
    {
     "data": {
      "text/html": [
       "<div>\n",
       "<style scoped>\n",
       "    .dataframe tbody tr th:only-of-type {\n",
       "        vertical-align: middle;\n",
       "    }\n",
       "\n",
       "    .dataframe tbody tr th {\n",
       "        vertical-align: top;\n",
       "    }\n",
       "\n",
       "    .dataframe thead th {\n",
       "        text-align: right;\n",
       "    }\n",
       "</style>\n",
       "<table border=\"1\" class=\"dataframe\">\n",
       "  <thead>\n",
       "    <tr style=\"text-align: right;\">\n",
       "      <th></th>\n",
       "      <th>제원관리번호</th>\n",
       "      <th>차종_등록정보</th>\n",
       "      <th>차종_제원정보</th>\n",
       "    </tr>\n",
       "  </thead>\n",
       "  <tbody>\n",
       "  </tbody>\n",
       "</table>\n",
       "</div>"
      ],
      "text/plain": [
       "Empty DataFrame\n",
       "Columns: [제원관리번호, 차종_등록정보, 차종_제원정보]\n",
       "Index: []"
      ]
     },
     "metadata": {},
     "output_type": "display_data"
    },
    {
     "data": {
      "text/html": [
       "<div>\n",
       "<style scoped>\n",
       "    .dataframe tbody tr th:only-of-type {\n",
       "        vertical-align: middle;\n",
       "    }\n",
       "\n",
       "    .dataframe tbody tr th {\n",
       "        vertical-align: top;\n",
       "    }\n",
       "\n",
       "    .dataframe thead th {\n",
       "        text-align: right;\n",
       "    }\n",
       "</style>\n",
       "<table border=\"1\" class=\"dataframe\">\n",
       "  <thead>\n",
       "    <tr style=\"text-align: right;\">\n",
       "      <th></th>\n",
       "      <th>제원관리번호</th>\n",
       "      <th>차종_등록정보</th>\n",
       "      <th>차종_제원정보</th>\n",
       "    </tr>\n",
       "  </thead>\n",
       "  <tbody>\n",
       "  </tbody>\n",
       "</table>\n",
       "</div>"
      ],
      "text/plain": [
       "Empty DataFrame\n",
       "Columns: [제원관리번호, 차종_등록정보, 차종_제원정보]\n",
       "Index: []"
      ]
     },
     "metadata": {},
     "output_type": "display_data"
    }
   ],
   "source": [
    "for one in src.loc[src['차종'].isnull() == True, ['제원관리번호' ,'차종분류']]['제원관리번호'].values:\n",
    "    display(tdf.loc[tdf['제원관리번호'] == one, ['제원관리번호', '차종_등록정보', '차종_제원정보']])"
   ]
  },
  {
   "attachments": {},
   "cell_type": "markdown",
   "metadata": {},
   "source": [
    "## 차명"
   ]
  },
  {
   "cell_type": "code",
   "execution_count": 125,
   "metadata": {},
   "outputs": [
    {
     "data": {
      "text/plain": [
       "102"
      ]
     },
     "execution_count": 125,
     "metadata": {},
     "output_type": "execute_result"
    }
   ],
   "source": [
    "src['차명'].isnull().sum()"
   ]
  },
  {
   "cell_type": "code",
   "execution_count": 136,
   "metadata": {},
   "outputs": [
    {
     "data": {
      "text/html": [
       "<div>\n",
       "<style scoped>\n",
       "    .dataframe tbody tr th:only-of-type {\n",
       "        vertical-align: middle;\n",
       "    }\n",
       "\n",
       "    .dataframe tbody tr th {\n",
       "        vertical-align: top;\n",
       "    }\n",
       "\n",
       "    .dataframe thead th {\n",
       "        text-align: right;\n",
       "    }\n",
       "</style>\n",
       "<table border=\"1\" class=\"dataframe\">\n",
       "  <thead>\n",
       "    <tr style=\"text-align: right;\">\n",
       "      <th></th>\n",
       "      <th>자동차형식</th>\n",
       "      <th>엔진형식</th>\n",
       "      <th>차명</th>\n",
       "    </tr>\n",
       "    <tr>\n",
       "      <th>SRCMNNO</th>\n",
       "      <th></th>\n",
       "      <th></th>\n",
       "      <th></th>\n",
       "    </tr>\n",
       "  </thead>\n",
       "  <tbody>\n",
       "    <tr>\n",
       "      <th>30432000000014</th>\n",
       "      <td>NaN</td>\n",
       "      <td>NaN</td>\n",
       "      <td>NaN</td>\n",
       "    </tr>\n",
       "    <tr>\n",
       "      <th>30451600000004</th>\n",
       "      <td>NaN</td>\n",
       "      <td>NaN</td>\n",
       "      <td>NaN</td>\n",
       "    </tr>\n",
       "    <tr>\n",
       "      <th>30451600000007</th>\n",
       "      <td>NaN</td>\n",
       "      <td>10831268192</td>\n",
       "      <td>NaN</td>\n",
       "    </tr>\n",
       "    <tr>\n",
       "      <th>30451600000008</th>\n",
       "      <td>NaN</td>\n",
       "      <td>XA014091</td>\n",
       "      <td>NaN</td>\n",
       "    </tr>\n",
       "    <tr>\n",
       "      <th>30220100001103</th>\n",
       "      <td>NaN</td>\n",
       "      <td>NaN</td>\n",
       "      <td>NaN</td>\n",
       "    </tr>\n",
       "    <tr>\n",
       "      <th>30481800000001</th>\n",
       "      <td>NaN</td>\n",
       "      <td>G15CF</td>\n",
       "      <td>NaN</td>\n",
       "    </tr>\n",
       "    <tr>\n",
       "      <th>30460300000009</th>\n",
       "      <td>NaN</td>\n",
       "      <td>NaN</td>\n",
       "      <td>NaN</td>\n",
       "    </tr>\n",
       "    <tr>\n",
       "      <th>30462500000000</th>\n",
       "      <td>NaN</td>\n",
       "      <td>NaN</td>\n",
       "      <td>NaN</td>\n",
       "    </tr>\n",
       "    <tr>\n",
       "      <th>30110100002429</th>\n",
       "      <td>NaN</td>\n",
       "      <td>01801300465</td>\n",
       "      <td>NaN</td>\n",
       "    </tr>\n",
       "    <tr>\n",
       "      <th>30112200002000</th>\n",
       "      <td>NaN</td>\n",
       "      <td>NaN</td>\n",
       "      <td>NaN</td>\n",
       "    </tr>\n",
       "    <tr>\n",
       "      <th>30432400000002</th>\n",
       "      <td>NaN</td>\n",
       "      <td>5s</td>\n",
       "      <td>NaN</td>\n",
       "    </tr>\n",
       "    <tr>\n",
       "      <th>30432500001025</th>\n",
       "      <td>w-90</td>\n",
       "      <td>NaN</td>\n",
       "      <td>NaN</td>\n",
       "    </tr>\n",
       "    <tr>\n",
       "      <th>30432700000001</th>\n",
       "      <td>NaN</td>\n",
       "      <td>NaN</td>\n",
       "      <td>NaN</td>\n",
       "    </tr>\n",
       "    <tr>\n",
       "      <th>30112600000011</th>\n",
       "      <td>NaN</td>\n",
       "      <td>5F</td>\n",
       "      <td>NaN</td>\n",
       "    </tr>\n",
       "    <tr>\n",
       "      <th>30461400000002</th>\n",
       "      <td>NaN</td>\n",
       "      <td>NaN</td>\n",
       "      <td>NaN</td>\n",
       "    </tr>\n",
       "    <tr>\n",
       "      <th>30461400000007</th>\n",
       "      <td>NaN</td>\n",
       "      <td>NaN</td>\n",
       "      <td>NaN</td>\n",
       "    </tr>\n",
       "    <tr>\n",
       "      <th>30431200000008</th>\n",
       "      <td>NaN</td>\n",
       "      <td>NaN</td>\n",
       "      <td>NaN</td>\n",
       "    </tr>\n",
       "    <tr>\n",
       "      <th>99934103044871203</th>\n",
       "      <td>0</td>\n",
       "      <td>0</td>\n",
       "      <td>NaN</td>\n",
       "    </tr>\n",
       "    <tr>\n",
       "      <th>30111800000007</th>\n",
       "      <td>NaN</td>\n",
       "      <td>NaN</td>\n",
       "      <td>NaN</td>\n",
       "    </tr>\n",
       "    <tr>\n",
       "      <th>30411200000051</th>\n",
       "      <td>NaN</td>\n",
       "      <td>d2156hm</td>\n",
       "      <td>NaN</td>\n",
       "    </tr>\n",
       "    <tr>\n",
       "      <th>30311100000966</th>\n",
       "      <td>NaN</td>\n",
       "      <td>NaN</td>\n",
       "      <td>NaN</td>\n",
       "    </tr>\n",
       "    <tr>\n",
       "      <th>30462500000003</th>\n",
       "      <td>NaN</td>\n",
       "      <td>02674303223</td>\n",
       "      <td>NaN</td>\n",
       "    </tr>\n",
       "    <tr>\n",
       "      <th>30462600000000</th>\n",
       "      <td>NaN</td>\n",
       "      <td>015998</td>\n",
       "      <td>NaN</td>\n",
       "    </tr>\n",
       "    <tr>\n",
       "      <th>30470100000000</th>\n",
       "      <td>NaN</td>\n",
       "      <td>NaN</td>\n",
       "      <td>NaN</td>\n",
       "    </tr>\n",
       "    <tr>\n",
       "      <th>30412400000009</th>\n",
       "      <td>NaN</td>\n",
       "      <td>NaN</td>\n",
       "      <td>NaN</td>\n",
       "    </tr>\n",
       "    <tr>\n",
       "      <th>30420700000060</th>\n",
       "      <td>NaN</td>\n",
       "      <td>g4aj</td>\n",
       "      <td>NaN</td>\n",
       "    </tr>\n",
       "    <tr>\n",
       "      <th>30421400000035</th>\n",
       "      <td>NaN</td>\n",
       "      <td>04584100041강</td>\n",
       "      <td>NaN</td>\n",
       "    </tr>\n",
       "    <tr>\n",
       "      <th>30112600000072</th>\n",
       "      <td>104-941</td>\n",
       "      <td>104.941</td>\n",
       "      <td>NaN</td>\n",
       "    </tr>\n",
       "    <tr>\n",
       "      <th>30282400000006</th>\n",
       "      <td>NaN</td>\n",
       "      <td>01861100304</td>\n",
       "      <td>NaN</td>\n",
       "    </tr>\n",
       "    <tr>\n",
       "      <th>30412900002072</th>\n",
       "      <td>쓰바루웨곤 4WD</td>\n",
       "      <td>015998</td>\n",
       "      <td>NaN</td>\n",
       "    </tr>\n",
       "  </tbody>\n",
       "</table>\n",
       "</div>"
      ],
      "text/plain": [
       "                       자동차형식          엔진형식   차명\n",
       "SRCMNNO                                        \n",
       "30432000000014           NaN           NaN  NaN\n",
       "30451600000004           NaN           NaN  NaN\n",
       "30451600000007           NaN   10831268192  NaN\n",
       "30451600000008           NaN      XA014091  NaN\n",
       "30220100001103           NaN           NaN  NaN\n",
       "30481800000001           NaN         G15CF  NaN\n",
       "30460300000009           NaN           NaN  NaN\n",
       "30462500000000           NaN           NaN  NaN\n",
       "30110100002429           NaN   01801300465  NaN\n",
       "30112200002000           NaN           NaN  NaN\n",
       "30432400000002           NaN            5s  NaN\n",
       "30432500001025          w-90           NaN  NaN\n",
       "30432700000001           NaN           NaN  NaN\n",
       "30112600000011           NaN            5F  NaN\n",
       "30461400000002           NaN           NaN  NaN\n",
       "30461400000007           NaN           NaN  NaN\n",
       "30431200000008           NaN           NaN  NaN\n",
       "99934103044871203          0             0  NaN\n",
       "30111800000007           NaN           NaN  NaN\n",
       "30411200000051           NaN       d2156hm  NaN\n",
       "30311100000966           NaN           NaN  NaN\n",
       "30462500000003           NaN   02674303223  NaN\n",
       "30462600000000           NaN        015998  NaN\n",
       "30470100000000           NaN           NaN  NaN\n",
       "30412400000009           NaN           NaN  NaN\n",
       "30420700000060           NaN          g4aj  NaN\n",
       "30421400000035           NaN  04584100041강  NaN\n",
       "30112600000072       104-941       104.941  NaN\n",
       "30282400000006           NaN   01861100304  NaN\n",
       "30412900002072     쓰바루웨곤 4WD        015998  NaN"
      ]
     },
     "execution_count": 136,
     "metadata": {},
     "output_type": "execute_result"
    }
   ],
   "source": [
    "src.loc[src['차명'].isnull() == True, ['자동차형식', '엔진형식', '차명']].head(30)"
   ]
  },
  {
   "cell_type": "code",
   "execution_count": 134,
   "metadata": {},
   "outputs": [
    {
     "data": {
      "text/html": [
       "<div>\n",
       "<style scoped>\n",
       "    .dataframe tbody tr th:only-of-type {\n",
       "        vertical-align: middle;\n",
       "    }\n",
       "\n",
       "    .dataframe tbody tr th {\n",
       "        vertical-align: top;\n",
       "    }\n",
       "\n",
       "    .dataframe thead th {\n",
       "        text-align: right;\n",
       "    }\n",
       "</style>\n",
       "<table border=\"1\" class=\"dataframe\">\n",
       "  <thead>\n",
       "    <tr style=\"text-align: right;\">\n",
       "      <th></th>\n",
       "      <th>자동차형식</th>\n",
       "      <th>엔진형식</th>\n",
       "      <th>차명</th>\n",
       "    </tr>\n",
       "  </thead>\n",
       "  <tbody>\n",
       "    <tr>\n",
       "      <th>517100</th>\n",
       "      <td>104-941</td>\n",
       "      <td>104.941</td>\n",
       "      <td>벤즈C280</td>\n",
       "    </tr>\n",
       "    <tr>\n",
       "      <th>1878718</th>\n",
       "      <td>104-941</td>\n",
       "      <td>112 920</td>\n",
       "      <td>벤츠C280</td>\n",
       "    </tr>\n",
       "  </tbody>\n",
       "</table>\n",
       "</div>"
      ],
      "text/plain": [
       "           자동차형식     엔진형식      차명\n",
       "517100   104-941  104.941  벤즈C280\n",
       "1878718  104-941  112 920  벤츠C280"
      ]
     },
     "execution_count": 134,
     "metadata": {},
     "output_type": "execute_result"
    }
   ],
   "source": [
    "df.loc[df['자동차형식'] == '104-941', ['자동차형식', '엔진형식', '차명']]"
   ]
  },
  {
   "cell_type": "code",
   "execution_count": 137,
   "metadata": {},
   "outputs": [
    {
     "data": {
      "text/html": [
       "<div>\n",
       "<style scoped>\n",
       "    .dataframe tbody tr th:only-of-type {\n",
       "        vertical-align: middle;\n",
       "    }\n",
       "\n",
       "    .dataframe tbody tr th {\n",
       "        vertical-align: top;\n",
       "    }\n",
       "\n",
       "    .dataframe thead th {\n",
       "        text-align: right;\n",
       "    }\n",
       "</style>\n",
       "<table border=\"1\" class=\"dataframe\">\n",
       "  <thead>\n",
       "    <tr style=\"text-align: right;\">\n",
       "      <th></th>\n",
       "      <th>자동차형식</th>\n",
       "      <th>엔진형식</th>\n",
       "      <th>차명</th>\n",
       "    </tr>\n",
       "  </thead>\n",
       "  <tbody>\n",
       "    <tr>\n",
       "      <th>1171</th>\n",
       "      <td>TM19</td>\n",
       "      <td>G15CF</td>\n",
       "      <td>르망</td>\n",
       "    </tr>\n",
       "    <tr>\n",
       "      <th>1355</th>\n",
       "      <td>TM19</td>\n",
       "      <td>G15CF</td>\n",
       "      <td>르망</td>\n",
       "    </tr>\n",
       "    <tr>\n",
       "      <th>1972</th>\n",
       "      <td>TM19</td>\n",
       "      <td>G15CF</td>\n",
       "      <td>르망</td>\n",
       "    </tr>\n",
       "    <tr>\n",
       "      <th>3418</th>\n",
       "      <td>TM19</td>\n",
       "      <td>G15CF</td>\n",
       "      <td>르망</td>\n",
       "    </tr>\n",
       "    <tr>\n",
       "      <th>4413</th>\n",
       "      <td>TA19</td>\n",
       "      <td>G15CF</td>\n",
       "      <td>르망오토</td>\n",
       "    </tr>\n",
       "    <tr>\n",
       "      <th>...</th>\n",
       "      <td>...</td>\n",
       "      <td>...</td>\n",
       "      <td>...</td>\n",
       "    </tr>\n",
       "    <tr>\n",
       "      <th>1009310</th>\n",
       "      <td>TF19</td>\n",
       "      <td>G15CF</td>\n",
       "      <td>대우 르망</td>\n",
       "    </tr>\n",
       "    <tr>\n",
       "      <th>1087713</th>\n",
       "      <td>TM19</td>\n",
       "      <td>G15CF</td>\n",
       "      <td>르망</td>\n",
       "    </tr>\n",
       "    <tr>\n",
       "      <th>2082125</th>\n",
       "      <td>TF19E</td>\n",
       "      <td>G15CF</td>\n",
       "      <td>대우 르망</td>\n",
       "    </tr>\n",
       "    <tr>\n",
       "      <th>2310856</th>\n",
       "      <td>TF19</td>\n",
       "      <td>G15CF</td>\n",
       "      <td>LEMANS</td>\n",
       "    </tr>\n",
       "    <tr>\n",
       "      <th>2538514</th>\n",
       "      <td>TF19</td>\n",
       "      <td>G15CF</td>\n",
       "      <td>르망</td>\n",
       "    </tr>\n",
       "  </tbody>\n",
       "</table>\n",
       "<p>3321 rows × 3 columns</p>\n",
       "</div>"
      ],
      "text/plain": [
       "         자동차형식   엔진형식      차명\n",
       "1171      TM19  G15CF      르망\n",
       "1355      TM19  G15CF      르망\n",
       "1972      TM19  G15CF      르망\n",
       "3418      TM19  G15CF      르망\n",
       "4413      TA19  G15CF    르망오토\n",
       "...        ...    ...     ...\n",
       "1009310   TF19  G15CF   대우 르망\n",
       "1087713   TM19  G15CF      르망\n",
       "2082125  TF19E  G15CF   대우 르망\n",
       "2310856   TF19  G15CF  LEMANS\n",
       "2538514   TF19  G15CF      르망\n",
       "\n",
       "[3321 rows x 3 columns]"
      ]
     },
     "execution_count": 137,
     "metadata": {},
     "output_type": "execute_result"
    }
   ],
   "source": [
    "df.loc[df['엔진형식'] == 'G15CF', ['자동차형식', '엔진형식', '차명']]"
   ]
  },
  {
   "cell_type": "code",
   "execution_count": 132,
   "metadata": {},
   "outputs": [
    {
     "data": {
      "text/plain": [
       "23"
      ]
     },
     "execution_count": 132,
     "metadata": {},
     "output_type": "execute_result"
    }
   ],
   "source": [
    "df['차명'].isnull().sum()"
   ]
  },
  {
   "attachments": {},
   "cell_type": "markdown",
   "metadata": {},
   "source": [
    "## 제작사 명"
   ]
  },
  {
   "cell_type": "code",
   "execution_count": 11,
   "metadata": {},
   "outputs": [
    {
     "data": {
      "text/plain": [
       "16357"
      ]
     },
     "execution_count": 11,
     "metadata": {},
     "output_type": "execute_result"
    }
   ],
   "source": [
    "src['제작사명'].isnull().sum()"
   ]
  },
  {
   "cell_type": "code",
   "execution_count": 12,
   "metadata": {},
   "outputs": [
    {
     "data": {
      "text/plain": [
       "['(주) 두성특장차',\n",
       " '자기인증면제차량',\n",
       " 'SOFA차량',\n",
       " '한국토요타자동차(주)',\n",
       " '현대자동차(주)',\n",
       " '닛산',\n",
       " 'BMW AG',\n",
       " '자일대우상용차 주식회사',\n",
       " '(주)참존임포트',\n",
       " '한국특장차(주)',\n",
       " '스카니아코리아그룹(주)',\n",
       " '타타대우상용차(주)',\n",
       " '주식회사 천하',\n",
       " '아우라(AURA)',\n",
       " '정우정공 (주)',\n",
       " '원모터스(One motors)',\n",
       " '기아자동차(주)',\n",
       " '미니앤컴팩(mini&compact)',\n",
       " '와우모터스',\n",
       " '홍성일',\n",
       " '에스알(S.R)모터스',\n",
       " '이명환',\n",
       " '세하(SEHA)',\n",
       " '(주)인피니코리아',\n",
       " '오토포럼',\n",
       " '스타자동차매매상사',\n",
       " '최영훈',\n",
       " '(주)노바모터스',\n",
       " '조인수입차',\n",
       " '(주)신광테크놀러지',\n",
       " '쌍용자동차(주)',\n",
       " '한국상용트럭(주)',\n",
       " '(주)한성특장',\n",
       " '아우디폭스바겐코리아(주)',\n",
       " '(주)한국쓰리축',\n",
       " '(주)새한에어서스펜션',\n",
       " '모터프로',\n",
       " '한신특장',\n",
       " '명성정공',\n",
       " '뉴클락모터스',\n",
       " '한남상사',\n",
       " '더블유모터스컴퍼니',\n",
       " '현대',\n",
       " '한국특장기술(주)',\n",
       " nan,\n",
       " '(주)수산특장',\n",
       " '대우자동차(주)',\n",
       " '(주)스타텍',\n",
       " '케이에이치특장(주)',\n",
       " '(유)동양특장차',\n",
       " '(주)함코',\n",
       " '(유)삼능기계',\n",
       " '동우특장차(주)',\n",
       " '(주)알텍',\n",
       " '미래특장차(주)',\n",
       " '금양기전',\n",
       " '삼성상용차(주)',\n",
       " '지엠코리아(주)',\n",
       " '아시아자동차공업(주)',\n",
       " '**기타**',\n",
       " '(주)진도',\n",
       " 'TOYOTA',\n",
       " 'MAZDA',\n",
       " '건민특장 주식회사',\n",
       " '디와이(주) 익산공장',\n",
       " '(주)한국그린피아',\n",
       " '(주)포멕특장',\n",
       " '(주)한중특장',\n",
       " '대우중공업(주)',\n",
       " '대양중공업(주)',\n",
       " '이텍산업 주식회사',\n",
       " '메리트특장차주식회사',\n",
       " '태산냉동 주식회사',\n",
       " '(주)동해기계항공',\n",
       " '(주)유로카라반',\n",
       " '(주)한국토미',\n",
       " '도쿄모터스',\n",
       " '주식회사 에타',\n",
       " '엔에스티네트웍스(주)',\n",
       " '(주)삼호정공',\n",
       " '(주)디에프에스모터스',\n",
       " '다임러트럭코리아(주)',\n",
       " '(주)우성특장',\n",
       " '탱크코리아(주)',\n",
       " '동아자동차',\n",
       " '진명자동차써비스(주)',\n",
       " '경일중공업(주)',\n",
       " '한국정밀기술(주)',\n",
       " '두성기계공업(주)',\n",
       " '한국쓰리축공업(주)',\n",
       " '다임러크라이슬러(주)',\n",
       " 'GM',\n",
       " '혼다',\n",
       " '-',\n",
       " '포르쉐',\n",
       " '대구산업',\n",
       " '에스알(주)',\n",
       " '(주)한국메리트특장',\n",
       " '코리아리모엔터프라이즈',\n",
       " '한국특장 (주)',\n",
       " '카고텍코리아(주)',\n",
       " '정부쓰리축',\n",
       " '이안모터스',\n",
       " '진도특장차(주)',\n",
       " 'MITSUBISHI',\n",
       " '대산물산(주)',\n",
       " 'I&M',\n",
       " 'SSR.Corporation.korea',\n",
       " '나비',\n",
       " '(주)콜모터스',\n",
       " '아이럭셔리모터스',\n",
       " '세화통운(주)',\n",
       " 'K.B기프트',\n",
       " '(주)오토니드모터스',\n",
       " '영서무역',\n",
       " '사브',\n",
       " '비엠더블유코리아(주)',\n",
       " '(주)기아정기',\n",
       " '서울차량공업(주)',\n",
       " '이레FRP산업',\n",
       " '(주) 고호산업',\n",
       " '유럽자동차판매(주)',\n",
       " '르노삼성자동차(주)',\n",
       " '대구기자재',\n",
       " '(주)티브이알코리아',\n",
       " '(주)에버나인',\n",
       " '이상은',\n",
       " '바탕무역',\n",
       " '자라넷',\n",
       " '주식회사 씨엔에스티',\n",
       " '에프씨에이코리아(주)',\n",
       " '렉스피아튜닝',\n",
       " '한국닛산(주)',\n",
       " '주식회사 광림기업',\n",
       " '(주)블루버드엔터프라이즈',\n",
       " '아우디',\n",
       " '재규어',\n",
       " '(주)한원모터스',\n",
       " '한국지엠주식회사',\n",
       " '대흥중공업(주)',\n",
       " 'BENZ',\n",
       " 'FORD',\n",
       " '도요다',\n",
       " '덕산특장기공사',\n",
       " '지엠아시아퍼시픽지역본부 주식회사',\n",
       " '거화',\n",
       " '한성자동차(주)',\n",
       " '볼보',\n",
       " '주식회사 평강비아이엠(B.I.M)',\n",
       " '신흥정공(주)',\n",
       " '아이씨피(주)',\n",
       " '메르세데스벤츠코리아(주)',\n",
       " '(주)덕진이엔씨',\n",
       " '(주)미래하이텍',\n",
       " '(주)화이어텍',\n",
       " '오토라인',\n",
       " '김신애',\n",
       " '채숙',\n",
       " '지월카써비스',\n",
       " '1급 번영모터스',\n",
       " '조진남',\n",
       " '박연호',\n",
       " '한철민',\n",
       " '(주)코리아인터링크',\n",
       " '영원과학(주)',\n",
       " '크린매스터세리통상',\n",
       " 'KWON CHUNG SUK',\n",
       " '박미정',\n",
       " '(주)애니씰드',\n",
       " '이주호',\n",
       " '(재)세계평화통일가정연합선교회',\n",
       " '신정개발특장차 주식회사',\n",
       " '스카이',\n",
       " '(주)티엔엘대한물류',\n",
       " '유로아이오토(주)',\n",
       " 'GUD Car',\n",
       " '더에스라인모터스(주)',\n",
       " '제너럴트레이딩',\n",
       " '(주)삼한에스모터스',\n",
       " '금창수산',\n",
       " '(주)비오에프인베스트먼트',\n",
       " '김영아',\n",
       " '(주)애드로드',\n",
       " '배윤미',\n",
       " '박미화',\n",
       " '양희영',\n",
       " '벨지움투자개발코리아(주)',\n",
       " '랏로드커스텀',\n",
       " '(주)강남산업기계공업',\n",
       " '(유)디앤씨',\n",
       " '주식회사 한서정공',\n",
       " '에스 모터스',\n",
       " '(주) 삼오특장자동차',\n",
       " '주식회사 보고',\n",
       " '신영특장엠엔씨(주)',\n",
       " '(주)수산씨에스엠',\n",
       " '크라이슬러',\n",
       " '현대정공(주)',\n",
       " '신성엔지니어링',\n",
       " '(주)지원테크',\n",
       " '(주)드림티엔에스',\n",
       " '남영코리아화이어트럭(주)',\n",
       " '삼성중공업',\n",
       " '수정특장차(주)',\n",
       " '(주)뉴테크특장',\n",
       " '일성산업',\n",
       " '광림특장공업(주)',\n",
       " '(유)대원오토',\n",
       " '어시스트유에스에이아이엔씨',\n",
       " '고재선',\n",
       " '조영미',\n",
       " '도양국제상사',\n",
       " 'SM MOTORS',\n",
       " '월드모터스',\n",
       " '에덴자동차(EDEN AUTO)',\n",
       " '국제자동차',\n",
       " '오션모터스',\n",
       " '호미은자동차',\n",
       " '포드세일즈서비스코리아(유)',\n",
       " '보령',\n",
       " '영광무역',\n",
       " '네오자동차(NEO AUTO COMPANY)',\n",
       " '씨네툴스 (CINETOOLS)',\n",
       " '(주)지너스인터내셔날',\n",
       " 'COPART INTERNATIONAL',\n",
       " '이선아',\n",
       " '(주)삼정산업',\n",
       " '엠에스모터스',\n",
       " '(주)그립스아이앤씨',\n",
       " '(주)대신정공',\n",
       " '수림정공',\n",
       " '선진정공(주)',\n",
       " '진일엔지니어링 주식회사',\n",
       " '(주) 에이엠특장',\n",
       " '(주)동양특장',\n",
       " '(주)다복특장',\n",
       " '(주)에버다임',\n",
       " '광림특장차 주식회사',\n",
       " '대지정공(주)',\n",
       " '로젠바워',\n",
       " '(주)신인천정공',\n",
       " '정우정공(주)',\n",
       " '하나무역',\n",
       " '삼영무역',\n",
       " '혼다코리아(주)',\n",
       " '우림특장산업',\n",
       " '디제이(DJ)상사',\n",
       " '대우조선',\n",
       " '대신특장산업',\n",
       " '볼보트럭코리아(주)',\n",
       " '(주) 골드밴',\n",
       " '(주)하이랜더알브이',\n",
       " '(주)밴텍디엔씨',\n",
       " '(주)한빛특장',\n",
       " '(주)성안특장',\n",
       " '청호활어특장',\n",
       " '앵글러스마린',\n",
       " '큐브텍',\n",
       " '임규택',\n",
       " 'AZENDA(아젠다)',\n",
       " '이진욱',\n",
       " '송지영',\n",
       " '디멕스인터내셔널',\n",
       " '캠트코리아',\n",
       " '(주)대진정공',\n",
       " '카트레이드',\n",
       " '광진통운(주)',\n",
       " '아스타모터스',\n",
       " '애플모터스',\n",
       " '(주)광림',\n",
       " '세진트레일러 주식회사',\n",
       " '부커셰링코리아 (주)',\n",
       " '남영자동차공업(주)',\n",
       " '삼일자동차(주)',\n",
       " '광림특장차(주)',\n",
       " '(주)앤비엔텍',\n",
       " '이석훈',\n",
       " '제트아이서비스',\n",
       " '이안 알브이 인터내셔날',\n",
       " '주식회사 케이시엠모터스',\n",
       " '(주)대아엔지니어링',\n",
       " '다이하쯔',\n",
       " '티와이모터스(주)',\n",
       " '레드라인컨버젼',\n",
       " '골프M',\n",
       " 'IMC',\n",
       " '제이케이트레이딩(JK Trading)',\n",
       " 'GT MOTORS',\n",
       " '(주)수림텔레콤',\n",
       " '이튼케이주식회사',\n",
       " '김대유',\n",
       " 'SUNGAM PRINTING EQUIPMENT(여행과 캠핑)',\n",
       " '(주) 오텍',\n",
       " '중앙특장기술(주)',\n",
       " '에스오디(주)',\n",
       " '세화자동차',\n",
       " '주식회사 유아이테크',\n",
       " '반도산업(주)',\n",
       " '(주)나노메딕스',\n",
       " '백진석',\n",
       " '(주)화인특장',\n",
       " '(주) 닛시산업',\n",
       " '주식회사 제일모빌',\n",
       " '오토트레이더',\n",
       " '카네이션(CARNATION)',\n",
       " '신한국특장 주식회사',\n",
       " '에스디 원(SD one)',\n",
       " '(주)케이원캠핑',\n",
       " '우리캠핑',\n",
       " '한빛테크원(주)',\n",
       " '(주) 메인모터스',\n",
       " '재이(Jay)Motors',\n",
       " '한불모터스(주)',\n",
       " '(주)볼보자동차코리아',\n",
       " '이규선',\n",
       " '하순임',\n",
       " '김명진',\n",
       " '(주)아성자동차정비',\n",
       " '프로스퍼인터내셔날코리아',\n",
       " '박정미',\n",
       " '이근철',\n",
       " '박동빈',\n",
       " '(사)한국스포츠피싱협회',\n",
       " '김갑순',\n",
       " '김승태',\n",
       " '(주)엘케이오토',\n",
       " '박혜림',\n",
       " '형제마린',\n",
       " 'JAKO(자코)',\n",
       " '홍원태',\n",
       " '에스앤알모터스(주)',\n",
       " '이재호',\n",
       " '이성인',\n",
       " '삼성물산(주)',\n",
       " '렉스오토갤러리(주)',\n",
       " '(주)영광화학',\n",
       " '두일테크',\n",
       " '김용담',\n",
       " '삼성장재',\n",
       " '이기용',\n",
       " '송미호,이상곤',\n",
       " '김남규',\n",
       " 'MJ모터스',\n",
       " '이진하',\n",
       " '(주)컨피던스모터스',\n",
       " 'FIAT',\n",
       " '(주)대한',\n",
       " '(주)한성티앤아이',\n",
       " '(주)삼번',\n",
       " '(주)우리특장',\n",
       " '(주)에프엠케이',\n",
       " '박계현',\n",
       " '(주)삼부',\n",
       " '지우특장산업',\n",
       " '주식회사 코지캠퍼',\n",
       " '차캐드',\n",
       " '(주)에바다',\n",
       " '경기특장개발(주)',\n",
       " '(주)동일이앤시',\n",
       " '(주)에프원텍',\n",
       " '(주)패밀리카라반',\n",
       " '본모빌',\n",
       " '신진자동차',\n",
       " '새한자동차',\n",
       " '광운자동차(주)',\n",
       " '(주)엠제이모터스',\n",
       " '최종관',\n",
       " '(주)성진',\n",
       " '주식회사 와이제이캠핑카',\n",
       " '(주)오톡션',\n",
       " '포르쉐코리아 주식회사',\n",
       " '(주)재규어랜드로버코리아',\n",
       " '퍼시픽 코치웍 코리아',\n",
       " '(주)신화플러스',\n",
       " '뉴한라산업',\n",
       " 'W motors',\n",
       " '(주)오토젠',\n",
       " '(주)동문기업',\n",
       " '(주)마노',\n",
       " '한일무역',\n",
       " '정연마린테크',\n",
       " '알브이모터스코리아(주)',\n",
       " '정통특장(주)',\n",
       " '(주)지안캠핑카',\n",
       " '대성정공',\n",
       " '주식회사 서광특장',\n",
       " '지인모터스',\n",
       " '오토씨앤티',\n",
       " '수성특장(주)',\n",
       " '오메가특장',\n",
       " '엠지엠트레이딩(주)',\n",
       " '에코필드 유한회사',\n",
       " '주식회사 카셈(KASEM Co.,Ltd)',\n",
       " '유엘피 주식회사',\n",
       " '세종상사',\n",
       " '한국항공우주연구원',\n",
       " '(주)애드터치',\n",
       " '듀오탑',\n",
       " 'HB모터스',\n",
       " 'ACI C&T(에이씨아이)',\n",
       " '신호특장공업주식회사',\n",
       " '고려에스티엠(주)',\n",
       " '(주)에어트립',\n",
       " '폭스바겐',\n",
       " '창림모아츠(주)',\n",
       " '(주)뉴삼진캐딜락',\n",
       " '나르미모터스(주)',\n",
       " '주식회사 신화특장차',\n",
       " 'Kocyigit Ahmet Muhammed',\n",
       " '이제이피코리아(주)',\n",
       " '(주)남동무역',\n",
       " '영일특장(주)',\n",
       " '(주) 두성하-드텍',\n",
       " '(주) 송림모터스',\n",
       " '(주) 동문기업',\n",
       " '(주)성창자동차',\n",
       " '한국텍(주)',\n",
       " '인터제이디',\n",
       " '(주)호룡',\n",
       " 'IGNITION (이그니션)',\n",
       " '(주)노블레스 모터스',\n",
       " '대흥특장정공 (주)',\n",
       " '(주) 진화이앤씨',\n",
       " '(주)산요자코',\n",
       " '로쏘꼬모인터내셔널',\n",
       " '엠파이어할리',\n",
       " '(주)대양특장',\n",
       " '(주)모터뱅크',\n",
       " 'YJ RV KOREA',\n",
       " '(주)와풀',\n",
       " '와이제이(YJ)',\n",
       " '대한예수교장로회평강제일교회',\n",
       " '대경특장(주)',\n",
       " 'KNC 정공',\n",
       " '피케이임포트카(주)',\n",
       " '(주)에스에스모터스',\n",
       " '최혜선',\n",
       " '(주)우주',\n",
       " '이보라',\n",
       " '아우토니드',\n",
       " 'SUBARU',\n",
       " '아이모터스',\n",
       " '신우정비공업사',\n",
       " '새한마린',\n",
       " '동우특장기공사',\n",
       " '한북특장(주)',\n",
       " '(주) 스타코',\n",
       " 'NFS Corp',\n",
       " 'ALFA ROMEO',\n",
       " '(주)영일에프알피산업',\n",
       " '(주)에드윈알브이',\n",
       " '유에스 밀리터리 세일즈 주식회사',\n",
       " '한국상용차(주)',\n",
       " '한국특장(주)',\n",
       " '(주)창조인프라',\n",
       " '고려특장(주)',\n",
       " '주식회사 제이앤제이인터내셔널',\n",
       " '(주)태경이엔지',\n",
       " '오션레포츠',\n",
       " '보성정공(주)',\n",
       " '(주)알브이투크루즈',\n",
       " '채순석',\n",
       " '(주)진보',\n",
       " '클라임코리아(주)',\n",
       " '박근택',\n",
       " '제이에스이엔지',\n",
       " '세화자동차주식회사',\n",
       " '(주)도로오토모티브',\n",
       " '만트럭버스코리아(주)',\n",
       " '(주)투데이모터스',\n",
       " '김효기',\n",
       " '주식회사 테미스',\n",
       " '이엔피시컨버젼 주식회사',\n",
       " '주식회사 신두리특장',\n",
       " '후소특장차(주)',\n",
       " 'D.K MARINE',\n",
       " '윤호식',\n",
       " '한라산업',\n",
       " '(주)피엔소프트',\n",
       " '(주)모네타엠앤티',\n",
       " '디에이치케이',\n",
       " '엠엔디유',\n",
       " '유엔아이인터내셔날',\n",
       " '김상태',\n",
       " '빅토이모터스',\n",
       " '카앤조이',\n",
       " '바스코리아',\n",
       " '(주) 빌텍',\n",
       " '(주) 리츠 모터스',\n",
       " '저먼카라반(주)',\n",
       " '가고파이원특장',\n",
       " '동아특장공업사',\n",
       " '마린시트메탈',\n",
       " '나비스타인터내셔날',\n",
       " '주식회사 힐링코리아',\n",
       " 'LMC GmbH',\n",
       " '주식회사 바울글로벌',\n",
       " '주식회사 선롱버스코리아',\n",
       " '(주)부원이엔티트레이딩',\n",
       " '현대자동차온양점',\n",
       " '스즈키',\n",
       " '(주)동호아이앤씨',\n",
       " '유로카파트앤모터스',\n",
       " '(주)천우자동차',\n",
       " '이원철',\n",
       " '한주무역',\n",
       " '(주)보보스모터스',\n",
       " '볼란테(VOLANTE)',\n",
       " '골드코퍼레이션',\n",
       " '김지영',\n",
       " 'B N I 커뮤니케이션',\n",
       " '(주) 케이앤제이모터스',\n",
       " 'RSSS.net',\n",
       " '유비통상(주)',\n",
       " '(주)씨앤진도',\n",
       " '다나특장',\n",
       " '제일세흥(주)',\n",
       " '카라반라이프(주)',\n",
       " '(주)다산중공업',\n",
       " '(주)클라비스 (clavis)',\n",
       " '락락모터스(주)',\n",
       " '스카니아',\n",
       " 'Citroen',\n",
       " '(주)세정모터스',\n",
       " '하나시스템',\n",
       " '굿데이리무진',\n",
       " '(주)델타링크아시아',\n",
       " 'SHM',\n",
       " '임태랑',\n",
       " '삼우중공업(주)',\n",
       " '(주)케이원모터스',\n",
       " '미림공업사',\n",
       " '서덕환',\n",
       " '극동유화(주) 고진모터 임포츠',\n",
       " '(주)승신',\n",
       " '흥국정공 (주)',\n",
       " 'VIPS MOTORS',\n",
       " '(주)맥스리무진',\n",
       " '신일중공업(주)',\n",
       " '엠원무역',\n",
       " 'SH캠핑',\n",
       " '삼화리모',\n",
       " '(주)일진아이앤티',\n",
       " '(주)로스오토웍스',\n",
       " '주식회사 스페이스',\n",
       " '(주)저먼오토모빌지엠비에이치',\n",
       " '라테크(주)',\n",
       " '웨스턴할리우드',\n",
       " '정립 특수자동차 트레일러',\n",
       " '소드(주)',\n",
       " '(주)벨루스앤로쿠스',\n",
       " '오희영',\n",
       " '신씨네인테리어',\n",
       " '유영란',\n",
       " '(주)한국포장',\n",
       " 'LEE KEVIN JUNESUK (이준석)',\n",
       " '카라반클럽코리아',\n",
       " '고문자',\n",
       " 'JS TRADE',\n",
       " '(주) 피벗모터스',\n",
       " '(주)알에스모터스',\n",
       " 'Joy s RV AMERICA',\n",
       " 'YI HYON CHOL',\n",
       " '이희연',\n",
       " '송영철',\n",
       " '공보길',\n",
       " '베레쉬트오토모빌',\n",
       " '히스콤',\n",
       " '박성수',\n",
       " '이교석',\n",
       " 'S. Y Motors',\n",
       " '표사이먼',\n",
       " '금호타이어(주)',\n",
       " '김태상',\n",
       " '김성환',\n",
       " '카써스(주)',\n",
       " '팀-인터네셔날',\n",
       " '(주)에스엔제이프렌차이즈',\n",
       " '유성인더스트리얼컴퍼니',\n",
       " '(주)서정로지스틱스',\n",
       " 'LK trade',\n",
       " '(주)KAB',\n",
       " '원진(주)',\n",
       " '(주)지엠케이',\n",
       " '(주)일진정공',\n",
       " '세종S.E.M',\n",
       " '광림히아브상사',\n",
       " '타임 모터스(주)',\n",
       " '승전자동차(주)',\n",
       " '유창경',\n",
       " '(주)성일특장',\n",
       " '원천특장공업주식회사',\n",
       " '(주)매직캔',\n",
       " '오토구루피',\n",
       " '좌동정비공업사2',\n",
       " '마르퀴스모터스(주)',\n",
       " '지에이치케이(주)',\n",
       " '(주)카부티끄아이보',\n",
       " '오토피아',\n",
       " '지인인터내셔널&지인모터스',\n",
       " '(주)얼바인인베스트먼트그룹',\n",
       " '(주)디엔앰트레이딩',\n",
       " 'BICMOTORS',\n",
       " '주식회사 셀코',\n",
       " '신제일정공(주)',\n",
       " '부광모터스(주)',\n",
       " '화성특장차량(주)',\n",
       " '(주)뉴딜알브이',\n",
       " '(주)엠트랜드',\n",
       " '제이앤와이모터스',\n",
       " '현대역삼역판매대리점',\n",
       " '베스텍모터 (주)',\n",
       " '골드금융거래(주)',\n",
       " '(주)카라반클럽코리아',\n",
       " '(주)한국차체',\n",
       " 'HAHM TAIK SOO',\n",
       " '(주) 에스와이오토프라자',\n",
       " '씨엑스씨 주식회사',\n",
       " '정원특장(주)',\n",
       " '(주)삼성특장',\n",
       " '동양자동차공업(주)',\n",
       " '(주)온세특장',\n",
       " '케이티트레이딩(KT TRADING)',\n",
       " '(주)밴텍캠핑카',\n",
       " '주식회사 원모터스코리아',\n",
       " '(주)에임하이글로벌',\n",
       " '(주)익스클루시브모터스',\n",
       " '아우토펠릭스',\n",
       " '지럭스',\n",
       " 'ACARS',\n",
       " '짐캐리 주식회사',\n",
       " '이성해',\n",
       " '피노코리아',\n",
       " '영진자동차무역상사',\n",
       " '(주)에이시에이서울',\n",
       " '(주)신안특장',\n",
       " '알빙코리아',\n",
       " '주식회사 트랜스테크',\n",
       " '리라모터스',\n",
       " '(주) 궁전특수자동차',\n",
       " '(주)가이젠캠핑카',\n",
       " '대광특장정비',\n",
       " '(주) 제일트라마',\n",
       " '가나무역',\n",
       " 'JG 모터파크',\n",
       " '와이디모터스',\n",
       " 'B.S.K 오토모빌',\n",
       " '서진모터스',\n",
       " '진모터스',\n",
       " '(주)위너모터스',\n",
       " 'KT 모터스',\n",
       " '블루트레이딩',\n",
       " '동우인더스(주)',\n",
       " '코팩테크노',\n",
       " '제일종합무역(주)',\n",
       " '주식회사 키친파이브',\n",
       " '(주)신성특수',\n",
       " '(주)스파코',\n",
       " '샐비지앤개러지',\n",
       " '(주)휠라이프',\n",
       " '퍼플코퍼레이션',\n",
       " 'HMI',\n",
       " '송주영',\n",
       " '(주)씨앤피모터스',\n",
       " '(주)원오토박스',\n",
       " '디앨 주식회사',\n",
       " '유일 FMC',\n",
       " '성화기술산업 (주)',\n",
       " '(주)오토퀸',\n",
       " '뷰스트너',\n",
       " '(주)코윈',\n",
       " '(주)위더스지',\n",
       " '한특사료차',\n",
       " '(주)희성양행',\n",
       " '더 유니코',\n",
       " '모터라인(Motor Line)',\n",
       " '오아시스',\n",
       " '뱅캘',\n",
       " '(주)유라시아모터스앤레인보우',\n",
       " '대한특장자동차',\n",
       " '(주)우양',\n",
       " 'LOTUS',\n",
       " '해강(주)',\n",
       " '신아특장',\n",
       " '아치해운(주)',\n",
       " '(주)국제엑스포통상',\n",
       " '유니코',\n",
       " '지엠씨(GMC)코리아',\n",
       " '대우버스(주)',\n",
       " '(주)스타카라반',\n",
       " '보현모터스(주)',\n",
       " '(주)에핑헴튼앤컴퍼니',\n",
       " '(주)서범',\n",
       " '케이트',\n",
       " '라인트레이딩',\n",
       " '현대하이모터스',\n",
       " '삼진',\n",
       " '평화특장',\n",
       " '(주)지톤그룹',\n",
       " '암코모터스(주)',\n",
       " '김정환',\n",
       " '(주) 쿠즈플러스',\n",
       " '윤승호',\n",
       " '김태진',\n",
       " '(주)더블유엠',\n",
       " '(주)한국특장',\n",
       " '(주)에이제이월드',\n",
       " '(주)에코카',\n",
       " '카올넷',\n",
       " '(주)파이어스',\n",
       " '씨제이대한통운(주)',\n",
       " '계백자동차(주)',\n",
       " '한아에스에스(주)',\n",
       " '(주)부원로드텍',\n",
       " '고준',\n",
       " '김혜영',\n",
       " '(주)중부특장',\n",
       " 'ROVER',\n",
       " '에스제이원(주)',\n",
       " '(주)아울자동차',\n",
       " '(주)부산정비사업소',\n",
       " '(주)서보테크',\n",
       " '(주)제이엠모터스',\n",
       " 'TRD',\n",
       " '(주)준앤드케이시시',\n",
       " '의료법인 희연의료재단',\n",
       " '에이앤디모터스',\n",
       " '(주)이움인터네셔널',\n",
       " '홍도찬',\n",
       " '수정인터내셔날',\n",
       " '피케이앤에스에이치모터스(주)',\n",
       " 'Excel Sky Korea',\n",
       " '천일자동차매매상사',\n",
       " '대우자동차판매(주)',\n",
       " '울산해광산업',\n",
       " '일동상사',\n",
       " '트루모터스',\n",
       " '(주)카멜리아코리아',\n",
       " '좋은차좋은가격',\n",
       " '한국후3축',\n",
       " '(주)에이원텍',\n",
       " '(주)글로벌오디피',\n",
       " '대창발전차',\n",
       " '(주)진우에스엠씨',\n",
       " '(주)성진테크',\n",
       " '(주)원제로소프트',\n",
       " '본바겐코리아',\n",
       " 'K&G MOTORS',\n",
       " '(주)한특모터스',\n",
       " '(주)부성특장',\n",
       " '위크캠프',\n",
       " '(주)케이지비고려골든박스',\n",
       " 'JK다원모터스',\n",
       " '조인 인터네셔날',\n",
       " '강원정공',\n",
       " '신영특장차(주)',\n",
       " '(주)영일서브씨',\n",
       " '(주)디엠에이씨코퍼레이션',\n",
       " '해광산업사',\n",
       " 'FERRARI',\n",
       " '주식회사 남동모터스',\n",
       " '(유)엠코파워스포츠',\n",
       " '주식회사 유니캠프',\n",
       " '(주)씨벤모터스',\n",
       " '(주)제이프로비젼',\n",
       " '사람과자동차',\n",
       " '엔씨피',\n",
       " '맥아상사',\n",
       " '임항규',\n",
       " '(주)유브이아이씨',\n",
       " '오토모바일',\n",
       " '(주)이원모터스',\n",
       " '(주)태경',\n",
       " '(주) 케이.에이.비',\n",
       " '나인특장자동차정비(주)',\n",
       " '동일석유(주)',\n",
       " '(주)이건',\n",
       " '(주)상전정공',\n",
       " '(주)동도특장차',\n",
       " '통진특장공업(주)',\n",
       " '동아탑정비공업사',\n",
       " '(주)알브이트레일러',\n",
       " '유창에스테크(주)',\n",
       " '태극자동차공업사',\n",
       " '(주)무빙애드',\n",
       " '(합자)평화산업',\n",
       " '부커구이어',\n",
       " '대한특장',\n",
       " '(주)엠아이에스',\n",
       " '유한회사비케이모터스',\n",
       " '우진교역',\n",
       " '데니지',\n",
       " '(주)씨제이테크',\n",
       " '(주)대동특장차',\n",
       " '(주)우림엔지니어링',\n",
       " '(주)우진산전 오창공장',\n",
       " '(주)리안오토(RIAN AUTO)',\n",
       " '터보모터스',\n",
       " '(주)디엠이엔지',\n",
       " 'KASAN ENGINEERING',\n",
       " '형제특장 주식회사',\n",
       " '티엔티원',\n",
       " 'EU오토모바일',\n",
       " '오숙희',\n",
       " '아베모터스',\n",
       " '(주)차앤드사람',\n",
       " '변선은',\n",
       " '김지훈',\n",
       " '주식회사 앤코래',\n",
       " 'ICMAX(AUTO)',\n",
       " '(주)반켈이엔씨',\n",
       " '와이알 모비벅스',\n",
       " '(주)에이엠티코리아',\n",
       " '인천광역시소방안전본부',\n",
       " '(주)휴네이처',\n",
       " 'KOSAC상사',\n",
       " '주식회사 우성자동차종합상사',\n",
       " '성진무역',\n",
       " '(주)비젼에이',\n",
       " '(주)안전기업',\n",
       " '준이엔지',\n",
       " '쎄븐모터스(주)',\n",
       " '(주) 유라시아통상',\n",
       " '아성무역(주)',\n",
       " '엘앤제이컨설턴트',\n",
       " '(주)GS글로벌',\n",
       " '니시쇼오토',\n",
       " '싸이언트레이딩',\n",
       " '제이앤더블유모터스(주)',\n",
       " '(주) 티티엠모터스',\n",
       " '(주) 오토액심',\n",
       " '(주)히사시컴퍼니',\n",
       " '플러스원',\n",
       " '월드트레이딩',\n",
       " '대한',\n",
       " '(주)대한씨앤티',\n",
       " '경원모터스',\n",
       " '다낭모터스',\n",
       " '(주)지브이티',\n",
       " '뉴오토네이션',\n",
       " '투인(TO IN)모터스',\n",
       " '준정무역',\n",
       " '첸들러오토갤러리',\n",
       " '(주)비투윈',\n",
       " '윌러모터스',\n",
       " '윤정준',\n",
       " '주영인터내셔널',\n",
       " '권혁래',\n",
       " '라임오토',\n",
       " '엘에스전선(주)',\n",
       " '(주)에어스트림 투유',\n",
       " '(주)엠티이엔지',\n",
       " '(주) 드림관리공사',\n",
       " '처비웨이코리아(주)',\n",
       " '한국바우텍(주)',\n",
       " '엠지쿱(MG. COOP)',\n",
       " '(주)아산홀딩스',\n",
       " '호성',\n",
       " '주식회사 대일특장',\n",
       " '엠제이모터스 주식회사',\n",
       " '다니엘특장',\n",
       " '신흥공업(주)',\n",
       " '다임폴라특장(주)',\n",
       " '(주)성우모터스',\n",
       " '(주) 윌트비',\n",
       " 'JS인터네셔널',\n",
       " '브루엄 빕스 코리아',\n",
       " '모터비즈',\n",
       " '투맨특장',\n",
       " '(주)유일이앤티',\n",
       " '(주)제이엔자동차',\n",
       " '정선영',\n",
       " 'SJ 모터스',\n",
       " '윌쏘나코리아 유한회사',\n",
       " '아우토빌',\n",
       " '(주)자유락',\n",
       " '삼부특장',\n",
       " 'HS모터스',\n",
       " '(주)씨티앤티',\n",
       " 'EVS CO.',\n",
       " '(주)브이이엔에스',\n",
       " '김나라',\n",
       " '현대FRP',\n",
       " '(주)경원기계',\n",
       " '세아수입차(주)',\n",
       " '(주)굿모닝특장',\n",
       " '에스에이치오토스(주)',\n",
       " '동아특장차',\n",
       " '한국디지텍',\n",
       " '(주) 성보테크니칼',\n",
       " '메디벤 (주)',\n",
       " '현대시멘트(주)',\n",
       " '(주)라이모자동차판매',\n",
       " '오로금속(주)',\n",
       " '케이씨(주)',\n",
       " '(주)코니코스',\n",
       " '지엠월드모터스(주)',\n",
       " '(주)제이티엔케이서울',\n",
       " '전난희',\n",
       " '티앤비공인중개사사무소',\n",
       " '(주)케이엠티씨',\n",
       " '에스와이인터내셔널',\n",
       " '장혁준',\n",
       " '자동차와 미래',\n",
       " 'T.D 모터스',\n",
       " 'H4K MOTORS',\n",
       " 'Freightliner',\n",
       " '이베코',\n",
       " '타버트',\n",
       " 'VISION MOTORS',\n",
       " '심경보',\n",
       " '제일F.R.P산업',\n",
       " '(주) 티더블유에프에스',\n",
       " '카라반모터스',\n",
       " '(주)더밴',\n",
       " '랜드로버',\n",
       " '신진기공(주)',\n",
       " '박현기',\n",
       " '한정철',\n",
       " '이창수',\n",
       " '박필호',\n",
       " '서홍기',\n",
       " '조웅',\n",
       " '박경태',\n",
       " '김효철',\n",
       " '김철민',\n",
       " '박태성',\n",
       " '강민헌',\n",
       " '이병훈',\n",
       " '에스모터스',\n",
       " '옥토기업(주)',\n",
       " 'KOAM-CAROS CORP',\n",
       " '카체인지에이원(주)(영업소)',\n",
       " '서광교역',\n",
       " '카스토리',\n",
       " '더밸류코리아',\n",
       " '스피드코프레이션(주)',\n",
       " 'BMK International',\n",
       " '(주) 유로엠모터스코리아',\n",
       " '(주)한국캐스보로',\n",
       " '(주)필오토',\n",
       " '서울특별시소방재난본부',\n",
       " '예스모터',\n",
       " '한웰(Hanwell)',\n",
       " '(주)이씨엠트레이딩',\n",
       " '제이코리아',\n",
       " '한신코퍼레이션',\n",
       " '일공일',\n",
       " '동이무역상사',\n",
       " '(주)오토갤럭시명품관',\n",
       " '(주)비엔비코리아',\n",
       " '에스케이모터스',\n",
       " '(주)에스티앤홀딩스',\n",
       " '대산특장',\n",
       " '씨엔라인',\n",
       " '볼보트럭',\n",
       " '우진공업(주)',\n",
       " '에프스카이',\n",
       " '동진특장',\n",
       " '(주)에이엔디오토모빌',\n",
       " '후소특장(주)',\n",
       " '(주)명류당',\n",
       " '(주)동구크레인',\n",
       " '대한테크닉스(주)',\n",
       " '(주)카스메카트로닉스',\n",
       " '세아특장',\n",
       " '대형모터스',\n",
       " '정우산기',\n",
       " '경북종합특장',\n",
       " '사자인터내셔널',\n",
       " '유로모빌(주)',\n",
       " '에프엔비',\n",
       " '부커셰링코리아(주)',\n",
       " '케이에이29트레이딩',\n",
       " 'JJ',\n",
       " '전복길',\n",
       " '유니크',\n",
       " 'MOTOR STAR INTERNATIONAL',\n",
       " '진.한복연구소',\n",
       " '(주) 금강엔터프라이즈',\n",
       " '매직부엌가구',\n",
       " '싸운드웨이브',\n",
       " '문화상사',\n",
       " 'OPEL',\n",
       " '(주)오엠케이',\n",
       " 'BLU M Trading. co',\n",
       " '카이로스 캠핑카',\n",
       " '다나인터내셔널',\n",
       " '(주)아티테크',\n",
       " '일신해운(주)',\n",
       " '황토모터스',\n",
       " '이헌일',\n",
       " '더스타모터스',\n",
       " '남영중기',\n",
       " '박경애',\n",
       " '해동정공',\n",
       " '태영공업',\n",
       " '에스유(SU)무역',\n",
       " '이범봉',\n",
       " '김민수',\n",
       " ...]"
      ]
     },
     "execution_count": 12,
     "metadata": {},
     "output_type": "execute_result"
    }
   ],
   "source": [
    "list(src['제작사명'].unique())"
   ]
  },
  {
   "cell_type": "code",
   "execution_count": 13,
   "metadata": {},
   "outputs": [
    {
     "data": {
      "text/html": [
       "<div>\n",
       "<style scoped>\n",
       "    .dataframe tbody tr th:only-of-type {\n",
       "        vertical-align: middle;\n",
       "    }\n",
       "\n",
       "    .dataframe tbody tr th {\n",
       "        vertical-align: top;\n",
       "    }\n",
       "\n",
       "    .dataframe thead th {\n",
       "        text-align: right;\n",
       "    }\n",
       "</style>\n",
       "<table border=\"1\" class=\"dataframe\">\n",
       "  <thead>\n",
       "    <tr style=\"text-align: right;\">\n",
       "      <th></th>\n",
       "      <th>차명</th>\n",
       "      <th>자동차형식</th>\n",
       "      <th>엔진형식</th>\n",
       "      <th>제작사명</th>\n",
       "    </tr>\n",
       "  </thead>\n",
       "  <tbody>\n",
       "    <tr>\n",
       "      <th>357</th>\n",
       "      <td>벤츠300E</td>\n",
       "      <td>124 030</td>\n",
       "      <td>103 983</td>\n",
       "      <td>NaN</td>\n",
       "    </tr>\n",
       "    <tr>\n",
       "      <th>358</th>\n",
       "      <td>벤즈200</td>\n",
       "      <td>NaN</td>\n",
       "      <td>10292010047640</td>\n",
       "      <td>NaN</td>\n",
       "    </tr>\n",
       "    <tr>\n",
       "      <th>359</th>\n",
       "      <td>벤츠300E</td>\n",
       "      <td>124 030</td>\n",
       "      <td>103 983</td>\n",
       "      <td>NaN</td>\n",
       "    </tr>\n",
       "    <tr>\n",
       "      <th>361</th>\n",
       "      <td>벤츠S320</td>\n",
       "      <td>140 033</td>\n",
       "      <td>104 994</td>\n",
       "      <td>NaN</td>\n",
       "    </tr>\n",
       "    <tr>\n",
       "      <th>362</th>\n",
       "      <td>볼보</td>\n",
       "      <td>740GL</td>\n",
       "      <td>B200E</td>\n",
       "      <td>NaN</td>\n",
       "    </tr>\n",
       "    <tr>\n",
       "      <th>363</th>\n",
       "      <td>머큐리세이블</td>\n",
       "      <td>MSV3-27C</td>\n",
       "      <td>MSV3</td>\n",
       "      <td>NaN</td>\n",
       "    </tr>\n",
       "    <tr>\n",
       "      <th>364</th>\n",
       "      <td>아우디A62.0E</td>\n",
       "      <td>4A</td>\n",
       "      <td>ABK</td>\n",
       "      <td>NaN</td>\n",
       "    </tr>\n",
       "    <tr>\n",
       "      <th>365</th>\n",
       "      <td>BMW</td>\n",
       "      <td>318I</td>\n",
       "      <td>184S1</td>\n",
       "      <td>NaN</td>\n",
       "    </tr>\n",
       "    <tr>\n",
       "      <th>367</th>\n",
       "      <td>랜드크루사</td>\n",
       "      <td>NaN</td>\n",
       "      <td>3F0117036</td>\n",
       "      <td>NaN</td>\n",
       "    </tr>\n",
       "    <tr>\n",
       "      <th>376</th>\n",
       "      <td>BMW318i</td>\n",
       "      <td>318IA</td>\n",
       "      <td>184S1</td>\n",
       "      <td>NaN</td>\n",
       "    </tr>\n",
       "  </tbody>\n",
       "</table>\n",
       "</div>"
      ],
      "text/plain": [
       "            차명     자동차형식            엔진형식 제작사명\n",
       "357     벤츠300E   124 030         103 983  NaN\n",
       "358      벤즈200       NaN  10292010047640  NaN\n",
       "359     벤츠300E   124 030         103 983  NaN\n",
       "361     벤츠S320   140 033         104 994  NaN\n",
       "362         볼보     740GL           B200E  NaN\n",
       "363     머큐리세이블  MSV3-27C            MSV3  NaN\n",
       "364  아우디A62.0E        4A             ABK  NaN\n",
       "365        BMW      318I           184S1  NaN\n",
       "367      랜드크루사       NaN       3F0117036  NaN\n",
       "376    BMW318i     318IA           184S1  NaN"
      ]
     },
     "execution_count": 13,
     "metadata": {},
     "output_type": "execute_result"
    }
   ],
   "source": [
    "src.loc[src['제작사명'].isnull() == True, ['차명', '자동차형식', '엔진형식', '제작사명']].head(10)"
   ]
  },
  {
   "cell_type": "code",
   "execution_count": 14,
   "metadata": {},
   "outputs": [
    {
     "data": {
      "text/plain": [
       "(16357, 4)"
      ]
     },
     "execution_count": 14,
     "metadata": {},
     "output_type": "execute_result"
    }
   ],
   "source": [
    "src.loc[src['제작사명'].isnull() == True, ['차명', '자동차형식', '엔진형식', '제작사명']].shape"
   ]
  },
  {
   "cell_type": "code",
   "execution_count": 15,
   "metadata": {},
   "outputs": [
    {
     "data": {
      "text/plain": [
       "차명          57\n",
       "자동차형식     5331\n",
       "엔진형식      4164\n",
       "제작사명     16357\n",
       "dtype: int64"
      ]
     },
     "execution_count": 15,
     "metadata": {},
     "output_type": "execute_result"
    }
   ],
   "source": [
    "src.loc[src['제작사명'].isnull() == True, ['차명', '자동차형식', '엔진형식', '제작사명']].isnull().sum()"
   ]
  },
  {
   "cell_type": "code",
   "execution_count": 16,
   "metadata": {},
   "outputs": [
    {
     "data": {
      "text/plain": [
       "array([nan, '-', '**기타**', '다임러크라이슬러(주)', 'BENZ', '메르세데스벤츠코리아(주)',\n",
       "       '자기인증면제차량', '(주) 송림모터스', '유럽자동차판매(주)', '선인관리 (주)'], dtype=object)"
      ]
     },
     "execution_count": 16,
     "metadata": {},
     "output_type": "execute_result"
    }
   ],
   "source": [
    "src.loc[src['차명'] == '벤츠300E', '제작사명'].unique()"
   ]
  },
  {
   "cell_type": "code",
   "execution_count": 17,
   "metadata": {},
   "outputs": [
    {
     "data": {
      "text/plain": [
       "array([nan, '볼보', '**기타**'], dtype=object)"
      ]
     },
     "execution_count": 17,
     "metadata": {},
     "output_type": "execute_result"
    }
   ],
   "source": [
    "src.loc[src['자동차형식'] == '740GL', '제작사명'].unique()"
   ]
  },
  {
   "cell_type": "code",
   "execution_count": 20,
   "metadata": {},
   "outputs": [
    {
     "data": {
      "text/html": [
       "<div>\n",
       "<style scoped>\n",
       "    .dataframe tbody tr th:only-of-type {\n",
       "        vertical-align: middle;\n",
       "    }\n",
       "\n",
       "    .dataframe tbody tr th {\n",
       "        vertical-align: top;\n",
       "    }\n",
       "\n",
       "    .dataframe thead th {\n",
       "        text-align: right;\n",
       "    }\n",
       "</style>\n",
       "<table border=\"1\" class=\"dataframe\">\n",
       "  <thead>\n",
       "    <tr style=\"text-align: right;\">\n",
       "      <th></th>\n",
       "      <th>제작사명</th>\n",
       "      <th>차명</th>\n",
       "    </tr>\n",
       "  </thead>\n",
       "  <tbody>\n",
       "    <tr>\n",
       "      <th>364</th>\n",
       "      <td>NaN</td>\n",
       "      <td>아우디A62.0E</td>\n",
       "    </tr>\n",
       "    <tr>\n",
       "      <th>7008</th>\n",
       "      <td>**기타**</td>\n",
       "      <td>아우디</td>\n",
       "    </tr>\n",
       "    <tr>\n",
       "      <th>16637</th>\n",
       "      <td>**기타**</td>\n",
       "      <td>아우디A62.8QUATTRO</td>\n",
       "    </tr>\n",
       "    <tr>\n",
       "      <th>17439</th>\n",
       "      <td>**기타**</td>\n",
       "      <td>아우디90</td>\n",
       "    </tr>\n",
       "    <tr>\n",
       "      <th>23171</th>\n",
       "      <td>아우디</td>\n",
       "      <td>아우디A62.4</td>\n",
       "    </tr>\n",
       "    <tr>\n",
       "      <th>...</th>\n",
       "      <td>...</td>\n",
       "      <td>...</td>\n",
       "    </tr>\n",
       "    <tr>\n",
       "      <th>344340</th>\n",
       "      <td>-</td>\n",
       "      <td>아우디A62.6E</td>\n",
       "    </tr>\n",
       "    <tr>\n",
       "      <th>386618</th>\n",
       "      <td>NaN</td>\n",
       "      <td>도요다코로나</td>\n",
       "    </tr>\n",
       "    <tr>\n",
       "      <th>396152</th>\n",
       "      <td>NaN</td>\n",
       "      <td>AUDI2.8CABRIOLET</td>\n",
       "    </tr>\n",
       "    <tr>\n",
       "      <th>403299</th>\n",
       "      <td>NaN</td>\n",
       "      <td>아우디A62.8E</td>\n",
       "    </tr>\n",
       "    <tr>\n",
       "      <th>407463</th>\n",
       "      <td>**기타**</td>\n",
       "      <td>아우디A61.8</td>\n",
       "    </tr>\n",
       "  </tbody>\n",
       "</table>\n",
       "<p>61 rows × 2 columns</p>\n",
       "</div>"
      ],
      "text/plain": [
       "          제작사명                차명\n",
       "364        NaN         아우디A62.0E\n",
       "7008    **기타**               아우디\n",
       "16637   **기타**   아우디A62.8QUATTRO\n",
       "17439   **기타**             아우디90\n",
       "23171      아우디          아우디A62.4\n",
       "...        ...               ...\n",
       "344340       -         아우디A62.6E\n",
       "386618     NaN            도요다코로나\n",
       "396152     NaN  AUDI2.8CABRIOLET\n",
       "403299     NaN         아우디A62.8E\n",
       "407463  **기타**          아우디A61.8\n",
       "\n",
       "[61 rows x 2 columns]"
      ]
     },
     "execution_count": 20,
     "metadata": {},
     "output_type": "execute_result"
    }
   ],
   "source": [
    "src.loc[src['자동차형식'] == '4A', ['제작사명', '차명']]"
   ]
  },
  {
   "cell_type": "code",
   "execution_count": 21,
   "metadata": {},
   "outputs": [
    {
     "data": {
      "text/plain": [
       "array([nan, '**기타**', '아우디', '자기인증면제차량', '극동유화(주) 고진모터 임포츠',\n",
       "       '(주) 아이엠씨트레이딩', '-'], dtype=object)"
      ]
     },
     "execution_count": 21,
     "metadata": {},
     "output_type": "execute_result"
    }
   ],
   "source": [
    "src.loc[src['자동차형식'] == '4A', '제작사명'].unique()"
   ]
  },
  {
   "attachments": {},
   "cell_type": "markdown",
   "metadata": {},
   "source": [
    "## 제원관리번호"
   ]
  },
  {
   "cell_type": "code",
   "execution_count": 21,
   "metadata": {},
   "outputs": [
    {
     "data": {
      "text/plain": [
       "0"
      ]
     },
     "execution_count": 21,
     "metadata": {},
     "output_type": "execute_result"
    }
   ],
   "source": [
    "src['제원관리번호'].isnull().sum()"
   ]
  },
  {
   "cell_type": "code",
   "execution_count": 22,
   "metadata": {},
   "outputs": [
    {
     "data": {
      "text/plain": [
       "(73894,)"
      ]
     },
     "execution_count": 22,
     "metadata": {},
     "output_type": "execute_result"
    }
   ],
   "source": [
    "src.loc[src['제원관리번호'].str.len() == 14, '제원관리번호'].shape"
   ]
  },
  {
   "cell_type": "code",
   "execution_count": 23,
   "metadata": {},
   "outputs": [
    {
     "data": {
      "text/plain": [
       "95     20446900000000\n",
       "96     20447300000000\n",
       "356    30111100000069\n",
       "357    30111100000072\n",
       "358    30111100000073\n",
       "Name: 제원관리번호, dtype: object"
      ]
     },
     "execution_count": 23,
     "metadata": {},
     "output_type": "execute_result"
    }
   ],
   "source": [
    "src.loc[src['제원관리번호'].str.len() == 14, '제원관리번호'].head()"
   ]
  },
  {
   "cell_type": "code",
   "execution_count": 24,
   "metadata": {},
   "outputs": [
    {
     "data": {
      "text/plain": [
       "(471456,)"
      ]
     },
     "execution_count": 24,
     "metadata": {},
     "output_type": "execute_result"
    }
   ],
   "source": [
    "src.loc[src['제원관리번호'].str.len() == 17, '제원관리번호'].shape"
   ]
  },
  {
   "cell_type": "code",
   "execution_count": 18,
   "metadata": {},
   "outputs": [
    {
     "data": {
      "text/plain": [
       "0"
      ]
     },
     "execution_count": 18,
     "metadata": {},
     "output_type": "execute_result"
    }
   ],
   "source": [
    "error_idx = []\n",
    "p = re.compile('[가-힣]')\n",
    "for i, one in enumerate(src['제원관리번호']):\n",
    "    if p.search(str(one)):\n",
    "        error_idx.append(i)\n",
    "len(error_idx)"
   ]
  },
  {
   "attachments": {},
   "cell_type": "markdown",
   "metadata": {},
   "source": [
    "## 자동차 형식"
   ]
  },
  {
   "cell_type": "code",
   "execution_count": 11,
   "metadata": {},
   "outputs": [
    {
     "data": {
      "text/plain": [
       "29079"
      ]
     },
     "execution_count": 11,
     "metadata": {},
     "output_type": "execute_result"
    }
   ],
   "source": [
    "src['자동차형식'].isnull().sum()"
   ]
  },
  {
   "cell_type": "code",
   "execution_count": 12,
   "metadata": {},
   "outputs": [
    {
     "data": {
      "text/html": [
       "<div>\n",
       "<style scoped>\n",
       "    .dataframe tbody tr th:only-of-type {\n",
       "        vertical-align: middle;\n",
       "    }\n",
       "\n",
       "    .dataframe tbody tr th {\n",
       "        vertical-align: top;\n",
       "    }\n",
       "\n",
       "    .dataframe thead th {\n",
       "        text-align: right;\n",
       "    }\n",
       "</style>\n",
       "<table border=\"1\" class=\"dataframe\">\n",
       "  <thead>\n",
       "    <tr style=\"text-align: right;\">\n",
       "      <th></th>\n",
       "      <th>제원관리번호</th>\n",
       "      <th>자동차형식</th>\n",
       "      <th>차명</th>\n",
       "      <th>차량연식</th>\n",
       "    </tr>\n",
       "  </thead>\n",
       "  <tbody>\n",
       "    <tr>\n",
       "      <th>29528902</th>\n",
       "      <td>99932714016771222</td>\n",
       "      <td>NaN</td>\n",
       "      <td>K5</td>\n",
       "      <td>2022</td>\n",
       "    </tr>\n",
       "  </tbody>\n",
       "</table>\n",
       "</div>"
      ],
      "text/plain": [
       "                     제원관리번호 자동차형식  차명  차량연식\n",
       "29528902  99932714016771222   NaN  K5  2022"
      ]
     },
     "execution_count": 12,
     "metadata": {},
     "output_type": "execute_result"
    }
   ],
   "source": [
    "tdf.loc[(tdf['자동차형식'].isnull() == True) & (tdf['차명'] == 'K5'), ['제원관리번호', '자동차형식', '차명', '차량연식']]"
   ]
  },
  {
   "cell_type": "code",
   "execution_count": 13,
   "metadata": {},
   "outputs": [
    {
     "data": {
      "text/plain": [
       "자동차형식       제원관리번호           \n",
       "DL32BA-A7   A0110006900001219    1\n",
       "JFS6BC-LS6  A0110005802041216    1\n",
       "JFS6BA-TE   A0110005800671215    1\n",
       "JFS6BB-GE   A0110005801451215    1\n",
       "JFS6BB-L    A0110005801421215    1\n",
       "                                ..\n",
       "JF1BH-L6    A0110005803321219    1\n",
       "JF1BH-L7    A0110005803331219    1\n",
       "JF1BH-L8    A0110005803341219    1\n",
       "JF1BH-P6    A0110005803381219    1\n",
       "TF49BG-SE   A0110004701501214    1\n",
       "Length: 878, dtype: int64"
      ]
     },
     "execution_count": 13,
     "metadata": {},
     "output_type": "execute_result"
    }
   ],
   "source": [
    "src.loc[src['차명'] == 'K5', ['자동차형식', '제원관리번호']].value_counts()"
   ]
  },
  {
   "cell_type": "code",
   "execution_count": 14,
   "metadata": {},
   "outputs": [
    {
     "data": {
      "text/plain": [
       "24376836    2020\n",
       "24378878    2020\n",
       "24422716    2020\n",
       "24431872    2020\n",
       "24440310    2020\n",
       "            ... \n",
       "25922052    2020\n",
       "25922053    2020\n",
       "25947527    2020\n",
       "26018539    2020\n",
       "26059602    2020\n",
       "Name: 차량연식, Length: 350, dtype: int64"
      ]
     },
     "execution_count": 14,
     "metadata": {},
     "output_type": "execute_result"
    }
   ],
   "source": [
    "tdf.loc[tdf['제원관리번호'] == 'A0110006900001219', '차량연식']"
   ]
  },
  {
   "cell_type": "code",
   "execution_count": 15,
   "metadata": {},
   "outputs": [
    {
     "data": {
      "text/html": [
       "<div>\n",
       "<style scoped>\n",
       "    .dataframe tbody tr th:only-of-type {\n",
       "        vertical-align: middle;\n",
       "    }\n",
       "\n",
       "    .dataframe tbody tr th {\n",
       "        vertical-align: top;\n",
       "    }\n",
       "\n",
       "    .dataframe thead th {\n",
       "        text-align: right;\n",
       "    }\n",
       "</style>\n",
       "<table border=\"1\" class=\"dataframe\">\n",
       "  <thead>\n",
       "    <tr style=\"text-align: right;\">\n",
       "      <th></th>\n",
       "      <th>제원관리번호</th>\n",
       "      <th>자동차형식</th>\n",
       "      <th>차명</th>\n",
       "      <th>차량연식</th>\n",
       "    </tr>\n",
       "  </thead>\n",
       "  <tbody>\n",
       "    <tr>\n",
       "      <th>29528902</th>\n",
       "      <td>99932714016771222</td>\n",
       "      <td>NaN</td>\n",
       "      <td>K5</td>\n",
       "      <td>2022</td>\n",
       "    </tr>\n",
       "  </tbody>\n",
       "</table>\n",
       "</div>"
      ],
      "text/plain": [
       "                     제원관리번호 자동차형식  차명  차량연식\n",
       "29528902  99932714016771222   NaN  K5  2022"
      ]
     },
     "execution_count": 15,
     "metadata": {},
     "output_type": "execute_result"
    }
   ],
   "source": [
    "tdf.loc[(tdf['자동차형식'].isnull() == True) & (tdf['차명'] == 'K5'), ['제원관리번호', '자동차형식', '차명', '차량연식']]"
   ]
  },
  {
   "cell_type": "code",
   "execution_count": 16,
   "metadata": {},
   "outputs": [
    {
     "data": {
      "text/plain": [
       "자동차형식           차량연식\n",
       "TF-1N6AB-1      2011    56353\n",
       "TF-5T5AB-1      2011    26452\n",
       "TF-1B1-S        2012    21709\n",
       "TF-8B1J-L93     2013    20208\n",
       "TF-9B1G-92      2013    20078\n",
       "                        ...  \n",
       "DL3ABC-LV8-G3A  2022        1\n",
       "TF-5T5AB-1      2010        1\n",
       "TF-1N6MB-1      2011        1\n",
       "JFS6AC-L6       2017        1\n",
       "JFS6AF-L6       2018        1\n",
       "Length: 478, dtype: int64"
      ]
     },
     "execution_count": 16,
     "metadata": {},
     "output_type": "execute_result"
    }
   ],
   "source": [
    "tdf.loc[tdf['차명'] == 'K5', ['자동차형식', '차량연식']].value_counts()"
   ]
  },
  {
   "cell_type": "code",
   "execution_count": 17,
   "metadata": {},
   "outputs": [
    {
     "data": {
      "text/plain": [
       "자동차형식            차량연식\n",
       "JF6BL-X-G5A      2022    3500\n",
       "DL3ABC-G7-G3A    2022    3265\n",
       "DL3ABC-S8-G3A    2022    3134\n",
       "DL32BC-C9-G3A    2022    2679\n",
       "DL3BBC-G7-G5A    2022    2634\n",
       "DL32BC-D9-G3A    2022    2314\n",
       "DL3BBC-F6-G5A    2022    1971\n",
       "DL3ABC-G8-G3A    2022    1772\n",
       "DL3ABC-S7-G3A    2022    1770\n",
       "DL3ABC-T8-G3A    2022    1477\n",
       "DL32BC-D8-G3A    2022    1191\n",
       "DL3ABC-L7-G3A    2022    1018\n",
       "DL32BC-B9-G3A    2022     988\n",
       "DL32BC-DV9-G3A   2022     892\n",
       "DL3ABC-TV8-G3A   2022     628\n",
       "DL32BC-C8-G3A    2022     496\n",
       "DL32BC-B8-G3A    2022     493\n",
       "DL3BBC-A7-G5A    2022     312\n",
       "DL3BBC-B7-G5A    2022     294\n",
       "DL3ABC-SV8-G3A   2022     286\n",
       "DL3BBC-C8-G5A    2022     276\n",
       "DL32BC-CV9-G3A   2022     223\n",
       "DL3BBC-CV8-G5A   2022     137\n",
       "DL32BC-A7-G3A    2022     115\n",
       "DL3ABC-L8-G3A    2022      80\n",
       "DL3ABC-SV7-G3A   2022      75\n",
       "DL3ABC-GV7-G3A   2022      64\n",
       "DL3ABC-GV8-G3A   2022      49\n",
       "DL32BC-BV9-G3A   2022      37\n",
       "DL32BC-A9-G3A    2022      34\n",
       "DL3BBC-E7-G5A    2022      20\n",
       "DL3BBC-D7-G5A    2022      15\n",
       "DL3BBC-F28-G5A   2022      15\n",
       "DL3BBC-F2V8-G5A  2022       8\n",
       "DL3ABC-LV8-G3A   2022       1\n",
       "dtype: int64"
      ]
     },
     "execution_count": 17,
     "metadata": {},
     "output_type": "execute_result"
    }
   ],
   "source": [
    "tdf.loc[(tdf['차명'] == 'K5') & (tdf['차량연식'] == 2022), ['자동차형식', '차량연식']].value_counts()"
   ]
  },
  {
   "attachments": {},
   "cell_type": "markdown",
   "metadata": {},
   "source": [
    "## 연료"
   ]
  },
  {
   "cell_type": "code",
   "execution_count": 15,
   "metadata": {},
   "outputs": [
    {
     "data": {
      "text/plain": [
       "DS     269767\n",
       "GS     213823\n",
       "NaN     42120\n",
       "CN       7192\n",
       "LP       4804\n",
       "GH       3780\n",
       "EV       1720\n",
       "OT       1583\n",
       "DH        319\n",
       "CH        105\n",
       "HD         78\n",
       "LN         23\n",
       "LH         19\n",
       "KS         18\n",
       "AC         13\n",
       "SH         10\n",
       "Name: 연료, dtype: int64"
      ]
     },
     "execution_count": 15,
     "metadata": {},
     "output_type": "execute_result"
    }
   ],
   "source": [
    "src['연료'].value_counts(dropna=False)"
   ]
  },
  {
   "cell_type": "code",
   "execution_count": 16,
   "metadata": {},
   "outputs": [
    {
     "data": {
      "text/plain": [
       "array([nan, '경유', '휘발유', 'CNG(압축천연가스)', '휘발유 하이브리드', 'LPG(액화석유가스)',\n",
       "       '기타연료', '알코올', '전기', '태양열', 'CNG 하이브리드', '등유', '경유 하이브리드',\n",
       "       'LPG 하이브리드', '수소', 'LNG(액화천연가스)'], dtype=object)"
      ]
     },
     "execution_count": 16,
     "metadata": {},
     "output_type": "execute_result"
    }
   ],
   "source": [
    "use_dict = {'DS':'경유', 'GS':'휘발유', 'CN':'CNG(압축천연가스)', 'GH':'휘발유 하이브리드', 'LP':'LPG(액화석유가스)', 'OT':'기타연료', 'AC':'알코올', 'EV':'전기', 'SH':'태양열', 'CH':'CNG 하이브리드',\n",
    "       'KS':'등유', 'DH':'경유 하이브리드', 'LH':'LPG 하이브리드', 'HD':'수소', 'LN':'LNG(액화천연가스)', 'PH':'플러그인 하이브리드', 'X':'무동력'}\n",
    "src['연료'] = src['연료'].map(use_dict)\n",
    "src['연료'].unique()"
   ]
  },
  {
   "cell_type": "code",
   "execution_count": 17,
   "metadata": {},
   "outputs": [
    {
     "data": {
      "text/plain": [
       "경유             269767\n",
       "휘발유            213823\n",
       "NaN             42120\n",
       "CNG(압축천연가스)      7192\n",
       "LPG(액화석유가스)      4804\n",
       "휘발유 하이브리드        3780\n",
       "전기               1720\n",
       "기타연료             1583\n",
       "경유 하이브리드          319\n",
       "CNG 하이브리드         105\n",
       "수소                 78\n",
       "LNG(액화천연가스)        23\n",
       "LPG 하이브리드          19\n",
       "등유                 18\n",
       "알코올                13\n",
       "태양열                10\n",
       "Name: 연료, dtype: int64"
      ]
     },
     "execution_count": 17,
     "metadata": {},
     "output_type": "execute_result"
    }
   ],
   "source": [
    "src['연료'].value_counts(dropna=False)"
   ]
  },
  {
   "cell_type": "code",
   "execution_count": 27,
   "metadata": {},
   "outputs": [
    {
     "data": {
      "text/plain": [
       "제원관리번호        0\n",
       "연료        42120\n",
       "차명           27\n",
       "자동차형식      2841\n",
       "엔진형식      19159\n",
       "dtype: int64"
      ]
     },
     "execution_count": 27,
     "metadata": {},
     "output_type": "execute_result"
    }
   ],
   "source": [
    "src.loc[src['연료'].isnull() == True, ['제원관리번호', '연료', '차명', '자동차형식', '엔진형식']].isnull().sum()"
   ]
  },
  {
   "cell_type": "code",
   "execution_count": 22,
   "metadata": {},
   "outputs": [
    {
     "data": {
      "text/html": [
       "<div>\n",
       "<style scoped>\n",
       "    .dataframe tbody tr th:only-of-type {\n",
       "        vertical-align: middle;\n",
       "    }\n",
       "\n",
       "    .dataframe tbody tr th {\n",
       "        vertical-align: top;\n",
       "    }\n",
       "\n",
       "    .dataframe thead th {\n",
       "        text-align: right;\n",
       "    }\n",
       "</style>\n",
       "<table border=\"1\" class=\"dataframe\">\n",
       "  <thead>\n",
       "    <tr style=\"text-align: right;\">\n",
       "      <th></th>\n",
       "      <th>제원관리번호</th>\n",
       "      <th>연료</th>\n",
       "      <th>차명</th>\n",
       "      <th>자동차형식</th>\n",
       "      <th>엔진형식</th>\n",
       "    </tr>\n",
       "  </thead>\n",
       "  <tbody>\n",
       "    <tr>\n",
       "      <th>0</th>\n",
       "      <td>B0710004800013305</td>\n",
       "      <td>NaN</td>\n",
       "      <td>두성26.2㎥벌크 트레일러</td>\n",
       "      <td>DS-BS2L-262A</td>\n",
       "      <td>-</td>\n",
       "    </tr>\n",
       "    <tr>\n",
       "      <th>1</th>\n",
       "      <td>B0710004900013305</td>\n",
       "      <td>NaN</td>\n",
       "      <td>두성38.1㎥벌크 트레일러</td>\n",
       "      <td>DS-BS3L-381A</td>\n",
       "      <td>-</td>\n",
       "    </tr>\n",
       "    <tr>\n",
       "      <th>2</th>\n",
       "      <td>B0710005000013306</td>\n",
       "      <td>NaN</td>\n",
       "      <td>두성41㎥벌크 트레일러</td>\n",
       "      <td>DS-BS4L-410A</td>\n",
       "      <td>-</td>\n",
       "    </tr>\n",
       "    <tr>\n",
       "      <th>3</th>\n",
       "      <td>B0710005300013305</td>\n",
       "      <td>NaN</td>\n",
       "      <td>두성25.8톤코일트레일러</td>\n",
       "      <td>DS-LS0A-258A</td>\n",
       "      <td>-</td>\n",
       "    </tr>\n",
       "    <tr>\n",
       "      <th>4</th>\n",
       "      <td>B0710005400013305</td>\n",
       "      <td>NaN</td>\n",
       "      <td>두성25.8톤리프팅코일트레일러</td>\n",
       "      <td>DS-LS0A-258B</td>\n",
       "      <td>-</td>\n",
       "    </tr>\n",
       "  </tbody>\n",
       "</table>\n",
       "</div>"
      ],
      "text/plain": [
       "              제원관리번호   연료                차명         자동차형식 엔진형식\n",
       "0  B0710004800013305  NaN    두성26.2㎥벌크 트레일러  DS-BS2L-262A    -\n",
       "1  B0710004900013305  NaN    두성38.1㎥벌크 트레일러  DS-BS3L-381A    -\n",
       "2  B0710005000013306  NaN      두성41㎥벌크 트레일러  DS-BS4L-410A    -\n",
       "3  B0710005300013305  NaN     두성25.8톤코일트레일러  DS-LS0A-258A    -\n",
       "4  B0710005400013305  NaN  두성25.8톤리프팅코일트레일러  DS-LS0A-258B    -"
      ]
     },
     "execution_count": 22,
     "metadata": {},
     "output_type": "execute_result"
    }
   ],
   "source": [
    "src.loc[src['연료'].isnull() == True, ['제원관리번호', '연료', '차명', '자동차형식', '엔진형식']].head()"
   ]
  },
  {
   "cell_type": "code",
   "execution_count": 6,
   "metadata": {},
   "outputs": [],
   "source": [
    "temp = tdf.loc[tdf['연료'].isnull() == True, '차대번호']"
   ]
  },
  {
   "cell_type": "code",
   "execution_count": 8,
   "metadata": {},
   "outputs": [
    {
     "name": "stdout",
     "output_type": "stream",
     "text": [
      "                 차대번호 사용연료\n",
      "20559969  KG69C151977  NaN\n",
      "                차대번호 사용연료\n",
      "8368801  PN53C100440  NaN\n",
      "                차대번호 사용연료\n",
      "5284462  02734200016  NaN\n",
      "                 차대번호 사용연료\n",
      "20725224  02704204188  NaN\n",
      "                차대번호 사용연료\n",
      "5495337  PN71C020664   경유\n",
      "                 차대번호 사용연료\n",
      "15559169  02714202543  NaN\n",
      "                 차대번호 사용연료\n",
      "13035879  02734201013  NaN\n",
      "                 차대번호 사용연료\n",
      "14972685  02734201015  NaN\n",
      "                 차대번호 사용연료\n",
      "10723519  02734201006  NaN\n",
      "                차대번호 사용연료\n",
      "2523520  02734201016  NaN\n",
      "                 차대번호 사용연료\n",
      "15187492  02734204317  NaN\n",
      "                 차대번호 사용연료\n",
      "15257455  02734203365  NaN\n",
      "                 차대번호 사용연료\n",
      "18011551  02714201146  NaN\n",
      "                       차대번호 사용연료\n",
      "16106451  KN9ENBZTZVDZ00001  NaN\n",
      "                      차대번호 사용연료\n",
      "8238273  KN9ENAZTZ2HZ00001  NaN\n",
      "                차대번호 사용연료\n",
      "21971662  PN71C02663  NaN\n",
      "                 차대번호 사용연료\n",
      "17724672  SL55C040306   경유\n",
      "                 차대번호 사용연료\n",
      "20794743  SL67S060500  NaN\n",
      "                 차대번호 사용연료\n",
      "15210569  SL69S060516  NaN\n",
      "                       차대번호 사용연료\n",
      "13024841  KN9EN8XTZXSZ00001  NaN\n",
      "                차대번호 사용연료\n",
      "9542259  02734201984  NaN\n",
      "                 차대번호 사용연료\n",
      "13515341  02734206609  NaN\n",
      "                차대번호 사용연료\n",
      "7754482  02734203425  NaN\n",
      "                 차대번호 사용연료\n",
      "14921593  02734202059  NaN\n",
      "                 차대번호 사용연료\n",
      "21628092  02734202062  NaN\n",
      "                차대번호 사용연료\n",
      "2072847  SL67C026639   경유\n",
      "                     차대번호 사용연료\n",
      "264208  00000000CN67C4065   경유\n",
      "                 차대번호 사용연료\n",
      "19029492  SL69C065824   경유\n",
      "                차대번호 사용연료\n",
      "9644978  KG68C152902  NaN\n",
      "                 차대번호 사용연료\n",
      "21943711  13684251719  NaN\n",
      "                차대번호 사용연료\n",
      "6264054  KG70S151261  NaN\n",
      "                 차대번호 사용연료\n",
      "21496744  KG69C151975  NaN\n",
      "                 차대번호 사용연료\n",
      "11128227  KG69C151979  NaN\n",
      "                 차대번호 사용연료\n",
      "21109040  KG69C151984  NaN\n"
     ]
    },
    {
     "ename": "KeyboardInterrupt",
     "evalue": "",
     "output_type": "error",
     "traceback": [
      "\u001b[1;31m---------------------------------------------------------------------------\u001b[0m",
      "\u001b[1;31mKeyboardInterrupt\u001b[0m                         Traceback (most recent call last)",
      "\u001b[1;32m~\\AppData\\Local\\Temp\\ipykernel_24052\\3988474622.py\u001b[0m in \u001b[0;36m<module>\u001b[1;34m\u001b[0m\n\u001b[0;32m      1\u001b[0m \u001b[1;32mfor\u001b[0m \u001b[0mone\u001b[0m \u001b[1;32min\u001b[0m \u001b[0mtemp\u001b[0m\u001b[1;33m:\u001b[0m\u001b[1;33m\u001b[0m\u001b[1;33m\u001b[0m\u001b[0m\n\u001b[1;32m----> 2\u001b[1;33m     \u001b[0mtp\u001b[0m \u001b[1;33m=\u001b[0m \u001b[0mtin\u001b[0m\u001b[1;33m.\u001b[0m\u001b[0mloc\u001b[0m\u001b[1;33m[\u001b[0m\u001b[0mtin\u001b[0m\u001b[1;33m[\u001b[0m\u001b[1;34m'차대번호'\u001b[0m\u001b[1;33m]\u001b[0m \u001b[1;33m==\u001b[0m \u001b[0mone\u001b[0m\u001b[1;33m,\u001b[0m \u001b[1;33m[\u001b[0m\u001b[1;34m'차대번호'\u001b[0m\u001b[1;33m,\u001b[0m \u001b[1;34m'사용연료'\u001b[0m\u001b[1;33m]\u001b[0m\u001b[1;33m]\u001b[0m\u001b[1;33m\u001b[0m\u001b[1;33m\u001b[0m\u001b[0m\n\u001b[0m\u001b[0;32m      3\u001b[0m     \u001b[1;32mif\u001b[0m \u001b[0mtp\u001b[0m\u001b[1;33m.\u001b[0m\u001b[0mshape\u001b[0m\u001b[1;33m[\u001b[0m\u001b[1;36m0\u001b[0m\u001b[1;33m]\u001b[0m \u001b[1;33m!=\u001b[0m \u001b[1;36m0\u001b[0m\u001b[1;33m:\u001b[0m\u001b[1;33m\u001b[0m\u001b[1;33m\u001b[0m\u001b[0m\n\u001b[0;32m      4\u001b[0m         \u001b[0mprint\u001b[0m\u001b[1;33m(\u001b[0m\u001b[0mtp\u001b[0m\u001b[1;33m)\u001b[0m\u001b[1;33m\u001b[0m\u001b[1;33m\u001b[0m\u001b[0m\n",
      "\u001b[1;32m~\\AppData\\Roaming\\Python\\Python39\\site-packages\\pandas\\core\\ops\\common.py\u001b[0m in \u001b[0;36mnew_method\u001b[1;34m(self, other)\u001b[0m\n\u001b[0;32m     70\u001b[0m         \u001b[0mother\u001b[0m \u001b[1;33m=\u001b[0m \u001b[0mitem_from_zerodim\u001b[0m\u001b[1;33m(\u001b[0m\u001b[0mother\u001b[0m\u001b[1;33m)\u001b[0m\u001b[1;33m\u001b[0m\u001b[1;33m\u001b[0m\u001b[0m\n\u001b[0;32m     71\u001b[0m \u001b[1;33m\u001b[0m\u001b[0m\n\u001b[1;32m---> 72\u001b[1;33m         \u001b[1;32mreturn\u001b[0m \u001b[0mmethod\u001b[0m\u001b[1;33m(\u001b[0m\u001b[0mself\u001b[0m\u001b[1;33m,\u001b[0m \u001b[0mother\u001b[0m\u001b[1;33m)\u001b[0m\u001b[1;33m\u001b[0m\u001b[1;33m\u001b[0m\u001b[0m\n\u001b[0m\u001b[0;32m     73\u001b[0m \u001b[1;33m\u001b[0m\u001b[0m\n\u001b[0;32m     74\u001b[0m     \u001b[1;32mreturn\u001b[0m \u001b[0mnew_method\u001b[0m\u001b[1;33m\u001b[0m\u001b[1;33m\u001b[0m\u001b[0m\n",
      "\u001b[1;32m~\\AppData\\Roaming\\Python\\Python39\\site-packages\\pandas\\core\\arraylike.py\u001b[0m in \u001b[0;36m__eq__\u001b[1;34m(self, other)\u001b[0m\n\u001b[0;32m     40\u001b[0m     \u001b[1;33m@\u001b[0m\u001b[0munpack_zerodim_and_defer\u001b[0m\u001b[1;33m(\u001b[0m\u001b[1;34m\"__eq__\"\u001b[0m\u001b[1;33m)\u001b[0m\u001b[1;33m\u001b[0m\u001b[1;33m\u001b[0m\u001b[0m\n\u001b[0;32m     41\u001b[0m     \u001b[1;32mdef\u001b[0m \u001b[0m__eq__\u001b[0m\u001b[1;33m(\u001b[0m\u001b[0mself\u001b[0m\u001b[1;33m,\u001b[0m \u001b[0mother\u001b[0m\u001b[1;33m)\u001b[0m\u001b[1;33m:\u001b[0m\u001b[1;33m\u001b[0m\u001b[1;33m\u001b[0m\u001b[0m\n\u001b[1;32m---> 42\u001b[1;33m         \u001b[1;32mreturn\u001b[0m \u001b[0mself\u001b[0m\u001b[1;33m.\u001b[0m\u001b[0m_cmp_method\u001b[0m\u001b[1;33m(\u001b[0m\u001b[0mother\u001b[0m\u001b[1;33m,\u001b[0m \u001b[0moperator\u001b[0m\u001b[1;33m.\u001b[0m\u001b[0meq\u001b[0m\u001b[1;33m)\u001b[0m\u001b[1;33m\u001b[0m\u001b[1;33m\u001b[0m\u001b[0m\n\u001b[0m\u001b[0;32m     43\u001b[0m \u001b[1;33m\u001b[0m\u001b[0m\n\u001b[0;32m     44\u001b[0m     \u001b[1;33m@\u001b[0m\u001b[0munpack_zerodim_and_defer\u001b[0m\u001b[1;33m(\u001b[0m\u001b[1;34m\"__ne__\"\u001b[0m\u001b[1;33m)\u001b[0m\u001b[1;33m\u001b[0m\u001b[1;33m\u001b[0m\u001b[0m\n",
      "\u001b[1;32m~\\AppData\\Roaming\\Python\\Python39\\site-packages\\pandas\\core\\series.py\u001b[0m in \u001b[0;36m_cmp_method\u001b[1;34m(self, other, op)\u001b[0m\n\u001b[0;32m   6241\u001b[0m \u001b[1;33m\u001b[0m\u001b[0m\n\u001b[0;32m   6242\u001b[0m         \u001b[1;32mwith\u001b[0m \u001b[0mnp\u001b[0m\u001b[1;33m.\u001b[0m\u001b[0merrstate\u001b[0m\u001b[1;33m(\u001b[0m\u001b[0mall\u001b[0m\u001b[1;33m=\u001b[0m\u001b[1;34m\"ignore\"\u001b[0m\u001b[1;33m)\u001b[0m\u001b[1;33m:\u001b[0m\u001b[1;33m\u001b[0m\u001b[1;33m\u001b[0m\u001b[0m\n\u001b[1;32m-> 6243\u001b[1;33m             \u001b[0mres_values\u001b[0m \u001b[1;33m=\u001b[0m \u001b[0mops\u001b[0m\u001b[1;33m.\u001b[0m\u001b[0mcomparison_op\u001b[0m\u001b[1;33m(\u001b[0m\u001b[0mlvalues\u001b[0m\u001b[1;33m,\u001b[0m \u001b[0mrvalues\u001b[0m\u001b[1;33m,\u001b[0m \u001b[0mop\u001b[0m\u001b[1;33m)\u001b[0m\u001b[1;33m\u001b[0m\u001b[1;33m\u001b[0m\u001b[0m\n\u001b[0m\u001b[0;32m   6244\u001b[0m \u001b[1;33m\u001b[0m\u001b[0m\n\u001b[0;32m   6245\u001b[0m         \u001b[1;32mreturn\u001b[0m \u001b[0mself\u001b[0m\u001b[1;33m.\u001b[0m\u001b[0m_construct_result\u001b[0m\u001b[1;33m(\u001b[0m\u001b[0mres_values\u001b[0m\u001b[1;33m,\u001b[0m \u001b[0mname\u001b[0m\u001b[1;33m=\u001b[0m\u001b[0mres_name\u001b[0m\u001b[1;33m)\u001b[0m\u001b[1;33m\u001b[0m\u001b[1;33m\u001b[0m\u001b[0m\n",
      "\u001b[1;32m~\\AppData\\Roaming\\Python\\Python39\\site-packages\\pandas\\core\\ops\\array_ops.py\u001b[0m in \u001b[0;36mcomparison_op\u001b[1;34m(left, right, op)\u001b[0m\n\u001b[0;32m    285\u001b[0m \u001b[1;33m\u001b[0m\u001b[0m\n\u001b[0;32m    286\u001b[0m     \u001b[1;32melif\u001b[0m \u001b[0mis_object_dtype\u001b[0m\u001b[1;33m(\u001b[0m\u001b[0mlvalues\u001b[0m\u001b[1;33m.\u001b[0m\u001b[0mdtype\u001b[0m\u001b[1;33m)\u001b[0m \u001b[1;32mor\u001b[0m \u001b[0misinstance\u001b[0m\u001b[1;33m(\u001b[0m\u001b[0mrvalues\u001b[0m\u001b[1;33m,\u001b[0m \u001b[0mstr\u001b[0m\u001b[1;33m)\u001b[0m\u001b[1;33m:\u001b[0m\u001b[1;33m\u001b[0m\u001b[1;33m\u001b[0m\u001b[0m\n\u001b[1;32m--> 287\u001b[1;33m         \u001b[0mres_values\u001b[0m \u001b[1;33m=\u001b[0m \u001b[0mcomp_method_OBJECT_ARRAY\u001b[0m\u001b[1;33m(\u001b[0m\u001b[0mop\u001b[0m\u001b[1;33m,\u001b[0m \u001b[0mlvalues\u001b[0m\u001b[1;33m,\u001b[0m \u001b[0mrvalues\u001b[0m\u001b[1;33m)\u001b[0m\u001b[1;33m\u001b[0m\u001b[1;33m\u001b[0m\u001b[0m\n\u001b[0m\u001b[0;32m    288\u001b[0m \u001b[1;33m\u001b[0m\u001b[0m\n\u001b[0;32m    289\u001b[0m     \u001b[1;32melse\u001b[0m\u001b[1;33m:\u001b[0m\u001b[1;33m\u001b[0m\u001b[1;33m\u001b[0m\u001b[0m\n",
      "\u001b[1;32m~\\AppData\\Roaming\\Python\\Python39\\site-packages\\pandas\\core\\ops\\array_ops.py\u001b[0m in \u001b[0;36mcomp_method_OBJECT_ARRAY\u001b[1;34m(op, x, y)\u001b[0m\n\u001b[0;32m     74\u001b[0m     \u001b[1;32melse\u001b[0m\u001b[1;33m:\u001b[0m\u001b[1;33m\u001b[0m\u001b[1;33m\u001b[0m\u001b[0m\n\u001b[0;32m     75\u001b[0m         \u001b[0mresult\u001b[0m \u001b[1;33m=\u001b[0m \u001b[0mlibops\u001b[0m\u001b[1;33m.\u001b[0m\u001b[0mscalar_compare\u001b[0m\u001b[1;33m(\u001b[0m\u001b[0mx\u001b[0m\u001b[1;33m.\u001b[0m\u001b[0mravel\u001b[0m\u001b[1;33m(\u001b[0m\u001b[1;33m)\u001b[0m\u001b[1;33m,\u001b[0m \u001b[0my\u001b[0m\u001b[1;33m,\u001b[0m \u001b[0mop\u001b[0m\u001b[1;33m)\u001b[0m\u001b[1;33m\u001b[0m\u001b[1;33m\u001b[0m\u001b[0m\n\u001b[1;32m---> 76\u001b[1;33m     \u001b[1;32mreturn\u001b[0m \u001b[0mresult\u001b[0m\u001b[1;33m.\u001b[0m\u001b[0mreshape\u001b[0m\u001b[1;33m(\u001b[0m\u001b[0mx\u001b[0m\u001b[1;33m.\u001b[0m\u001b[0mshape\u001b[0m\u001b[1;33m)\u001b[0m\u001b[1;33m\u001b[0m\u001b[1;33m\u001b[0m\u001b[0m\n\u001b[0m\u001b[0;32m     77\u001b[0m \u001b[1;33m\u001b[0m\u001b[0m\n\u001b[0;32m     78\u001b[0m \u001b[1;33m\u001b[0m\u001b[0m\n",
      "\u001b[1;31mKeyboardInterrupt\u001b[0m: "
     ]
    }
   ],
   "source": [
    "for one in temp:\n",
    "    tp = tin.loc[tin['차대번호'] == one, ['차대번호', '사용연료']]\n",
    "    if tp.shape[0] != 0:\n",
    "        print(tp)"
   ]
  },
  {
   "cell_type": "code",
   "execution_count": 9,
   "metadata": {},
   "outputs": [
    {
     "data": {
      "text/plain": [
       "67    30311100000072\n",
       "Name: 제원관리번호, dtype: object"
      ]
     },
     "execution_count": 9,
     "metadata": {},
     "output_type": "execute_result"
    }
   ],
   "source": [
    "tdf.loc[tdf['차대번호'] == 'PN71C020664', '제원관리번호']"
   ]
  },
  {
   "cell_type": "code",
   "execution_count": 30,
   "metadata": {},
   "outputs": [
    {
     "ename": "KeyError",
     "evalue": "'제원관리번호'",
     "output_type": "error",
     "traceback": [
      "\u001b[1;31m---------------------------------------------------------------------------\u001b[0m",
      "\u001b[1;31mKeyError\u001b[0m                                  Traceback (most recent call last)",
      "\u001b[1;32m~\\AppData\\Roaming\\Python\\Python39\\site-packages\\pandas\\core\\indexes\\base.py\u001b[0m in \u001b[0;36mget_loc\u001b[1;34m(self, key, method, tolerance)\u001b[0m\n\u001b[0;32m   3802\u001b[0m             \u001b[1;32mtry\u001b[0m\u001b[1;33m:\u001b[0m\u001b[1;33m\u001b[0m\u001b[1;33m\u001b[0m\u001b[0m\n\u001b[1;32m-> 3803\u001b[1;33m                 \u001b[1;32mreturn\u001b[0m \u001b[0mself\u001b[0m\u001b[1;33m.\u001b[0m\u001b[0m_engine\u001b[0m\u001b[1;33m.\u001b[0m\u001b[0mget_loc\u001b[0m\u001b[1;33m(\u001b[0m\u001b[0mcasted_key\u001b[0m\u001b[1;33m)\u001b[0m\u001b[1;33m\u001b[0m\u001b[1;33m\u001b[0m\u001b[0m\n\u001b[0m\u001b[0;32m   3804\u001b[0m             \u001b[1;32mexcept\u001b[0m \u001b[0mKeyError\u001b[0m \u001b[1;32mas\u001b[0m \u001b[0merr\u001b[0m\u001b[1;33m:\u001b[0m\u001b[1;33m\u001b[0m\u001b[1;33m\u001b[0m\u001b[0m\n",
      "\u001b[1;32m~\\AppData\\Roaming\\Python\\Python39\\site-packages\\pandas\\_libs\\index.pyx\u001b[0m in \u001b[0;36mpandas._libs.index.IndexEngine.get_loc\u001b[1;34m()\u001b[0m\n",
      "\u001b[1;32m~\\AppData\\Roaming\\Python\\Python39\\site-packages\\pandas\\_libs\\index.pyx\u001b[0m in \u001b[0;36mpandas._libs.index.IndexEngine.get_loc\u001b[1;34m()\u001b[0m\n",
      "\u001b[1;32mpandas\\_libs\\hashtable_class_helper.pxi\u001b[0m in \u001b[0;36mpandas._libs.hashtable.PyObjectHashTable.get_item\u001b[1;34m()\u001b[0m\n",
      "\u001b[1;32mpandas\\_libs\\hashtable_class_helper.pxi\u001b[0m in \u001b[0;36mpandas._libs.hashtable.PyObjectHashTable.get_item\u001b[1;34m()\u001b[0m\n",
      "\u001b[1;31mKeyError\u001b[0m: '제원관리번호'",
      "\nThe above exception was the direct cause of the following exception:\n",
      "\u001b[1;31mKeyError\u001b[0m                                  Traceback (most recent call last)",
      "\u001b[1;32m~\\AppData\\Local\\Temp\\ipykernel_16640\\1073617347.py\u001b[0m in \u001b[0;36m<module>\u001b[1;34m\u001b[0m\n\u001b[1;32m----> 1\u001b[1;33m \u001b[0mtin\u001b[0m\u001b[1;33m.\u001b[0m\u001b[0mloc\u001b[0m\u001b[1;33m[\u001b[0m\u001b[0mtin\u001b[0m\u001b[1;33m[\u001b[0m\u001b[1;34m'제원관리번호'\u001b[0m\u001b[1;33m]\u001b[0m \u001b[1;33m==\u001b[0m \u001b[1;34m'30111100000076'\u001b[0m\u001b[1;33m,\u001b[0m \u001b[1;34m'사용연료'\u001b[0m\u001b[1;33m]\u001b[0m\u001b[1;33m\u001b[0m\u001b[1;33m\u001b[0m\u001b[0m\n\u001b[0m",
      "\u001b[1;32m~\\AppData\\Roaming\\Python\\Python39\\site-packages\\pandas\\core\\frame.py\u001b[0m in \u001b[0;36m__getitem__\u001b[1;34m(self, key)\u001b[0m\n\u001b[0;32m   3803\u001b[0m             \u001b[1;32mif\u001b[0m \u001b[0mself\u001b[0m\u001b[1;33m.\u001b[0m\u001b[0mcolumns\u001b[0m\u001b[1;33m.\u001b[0m\u001b[0mnlevels\u001b[0m \u001b[1;33m>\u001b[0m \u001b[1;36m1\u001b[0m\u001b[1;33m:\u001b[0m\u001b[1;33m\u001b[0m\u001b[1;33m\u001b[0m\u001b[0m\n\u001b[0;32m   3804\u001b[0m                 \u001b[1;32mreturn\u001b[0m \u001b[0mself\u001b[0m\u001b[1;33m.\u001b[0m\u001b[0m_getitem_multilevel\u001b[0m\u001b[1;33m(\u001b[0m\u001b[0mkey\u001b[0m\u001b[1;33m)\u001b[0m\u001b[1;33m\u001b[0m\u001b[1;33m\u001b[0m\u001b[0m\n\u001b[1;32m-> 3805\u001b[1;33m             \u001b[0mindexer\u001b[0m \u001b[1;33m=\u001b[0m \u001b[0mself\u001b[0m\u001b[1;33m.\u001b[0m\u001b[0mcolumns\u001b[0m\u001b[1;33m.\u001b[0m\u001b[0mget_loc\u001b[0m\u001b[1;33m(\u001b[0m\u001b[0mkey\u001b[0m\u001b[1;33m)\u001b[0m\u001b[1;33m\u001b[0m\u001b[1;33m\u001b[0m\u001b[0m\n\u001b[0m\u001b[0;32m   3806\u001b[0m             \u001b[1;32mif\u001b[0m \u001b[0mis_integer\u001b[0m\u001b[1;33m(\u001b[0m\u001b[0mindexer\u001b[0m\u001b[1;33m)\u001b[0m\u001b[1;33m:\u001b[0m\u001b[1;33m\u001b[0m\u001b[1;33m\u001b[0m\u001b[0m\n\u001b[0;32m   3807\u001b[0m                 \u001b[0mindexer\u001b[0m \u001b[1;33m=\u001b[0m \u001b[1;33m[\u001b[0m\u001b[0mindexer\u001b[0m\u001b[1;33m]\u001b[0m\u001b[1;33m\u001b[0m\u001b[1;33m\u001b[0m\u001b[0m\n",
      "\u001b[1;32m~\\AppData\\Roaming\\Python\\Python39\\site-packages\\pandas\\core\\indexes\\base.py\u001b[0m in \u001b[0;36mget_loc\u001b[1;34m(self, key, method, tolerance)\u001b[0m\n\u001b[0;32m   3803\u001b[0m                 \u001b[1;32mreturn\u001b[0m \u001b[0mself\u001b[0m\u001b[1;33m.\u001b[0m\u001b[0m_engine\u001b[0m\u001b[1;33m.\u001b[0m\u001b[0mget_loc\u001b[0m\u001b[1;33m(\u001b[0m\u001b[0mcasted_key\u001b[0m\u001b[1;33m)\u001b[0m\u001b[1;33m\u001b[0m\u001b[1;33m\u001b[0m\u001b[0m\n\u001b[0;32m   3804\u001b[0m             \u001b[1;32mexcept\u001b[0m \u001b[0mKeyError\u001b[0m \u001b[1;32mas\u001b[0m \u001b[0merr\u001b[0m\u001b[1;33m:\u001b[0m\u001b[1;33m\u001b[0m\u001b[1;33m\u001b[0m\u001b[0m\n\u001b[1;32m-> 3805\u001b[1;33m                 \u001b[1;32mraise\u001b[0m \u001b[0mKeyError\u001b[0m\u001b[1;33m(\u001b[0m\u001b[0mkey\u001b[0m\u001b[1;33m)\u001b[0m \u001b[1;32mfrom\u001b[0m \u001b[0merr\u001b[0m\u001b[1;33m\u001b[0m\u001b[1;33m\u001b[0m\u001b[0m\n\u001b[0m\u001b[0;32m   3806\u001b[0m             \u001b[1;32mexcept\u001b[0m \u001b[0mTypeError\u001b[0m\u001b[1;33m:\u001b[0m\u001b[1;33m\u001b[0m\u001b[1;33m\u001b[0m\u001b[0m\n\u001b[0;32m   3807\u001b[0m                 \u001b[1;31m# If we have a listlike key, _check_indexing_error will raise\u001b[0m\u001b[1;33m\u001b[0m\u001b[1;33m\u001b[0m\u001b[0m\n",
      "\u001b[1;31mKeyError\u001b[0m: '제원관리번호'"
     ]
    }
   ],
   "source": [
    "tin.loc[tin['차대번호'] == '30111100000076', '사용연료']"
   ]
  },
  {
   "cell_type": "code",
   "execution_count": 10,
   "metadata": {},
   "outputs": [
    {
     "data": {
      "text/html": [
       "<div>\n",
       "<style scoped>\n",
       "    .dataframe tbody tr th:only-of-type {\n",
       "        vertical-align: middle;\n",
       "    }\n",
       "\n",
       "    .dataframe tbody tr th {\n",
       "        vertical-align: top;\n",
       "    }\n",
       "\n",
       "    .dataframe thead th {\n",
       "        text-align: right;\n",
       "    }\n",
       "</style>\n",
       "<table border=\"1\" class=\"dataframe\">\n",
       "  <thead>\n",
       "    <tr style=\"text-align: right;\">\n",
       "      <th></th>\n",
       "      <th>제원관리번호</th>\n",
       "      <th>연료</th>\n",
       "      <th>차명</th>\n",
       "      <th>자동차형식</th>\n",
       "      <th>엔진형식</th>\n",
       "    </tr>\n",
       "  </thead>\n",
       "  <tbody>\n",
       "    <tr>\n",
       "      <th>16</th>\n",
       "      <td>30411200000060</td>\n",
       "      <td>NaN</td>\n",
       "      <td>트레라</td>\n",
       "      <td>NaN</td>\n",
       "      <td>NaN</td>\n",
       "    </tr>\n",
       "    <tr>\n",
       "      <th>17</th>\n",
       "      <td>30441300000012</td>\n",
       "      <td>NaN</td>\n",
       "      <td>트레일러</td>\n",
       "      <td>NaN</td>\n",
       "      <td>NaN</td>\n",
       "    </tr>\n",
       "    <tr>\n",
       "      <th>29</th>\n",
       "      <td>30310100000044</td>\n",
       "      <td>NaN</td>\n",
       "      <td>도큐트레일러</td>\n",
       "      <td>TCE203</td>\n",
       "      <td>NaN</td>\n",
       "    </tr>\n",
       "    <tr>\n",
       "      <th>34</th>\n",
       "      <td>30481400000064</td>\n",
       "      <td>NaN</td>\n",
       "      <td>콘테이너샤시트레일러</td>\n",
       "      <td>FT20CCCA</td>\n",
       "      <td>NaN</td>\n",
       "    </tr>\n",
       "    <tr>\n",
       "      <th>37</th>\n",
       "      <td>30230100001371</td>\n",
       "      <td>NaN</td>\n",
       "      <td>트레일러</td>\n",
       "      <td>NaN</td>\n",
       "      <td>NaN</td>\n",
       "    </tr>\n",
       "  </tbody>\n",
       "</table>\n",
       "</div>"
      ],
      "text/plain": [
       "            제원관리번호   연료          차명     자동차형식 엔진형식\n",
       "16  30411200000060  NaN         트레라       NaN  NaN\n",
       "17  30441300000012  NaN        트레일러       NaN  NaN\n",
       "29  30310100000044  NaN      도큐트레일러    TCE203  NaN\n",
       "34  30481400000064  NaN  콘테이너샤시트레일러  FT20CCCA  NaN\n",
       "37  30230100001371  NaN        트레일러       NaN  NaN"
      ]
     },
     "execution_count": 10,
     "metadata": {},
     "output_type": "execute_result"
    }
   ],
   "source": [
    "tdf.loc[tdf['연료'].isnull() == True, ['제원관리번호', '연료', '차명', '자동차형식', '엔진형식']].head()"
   ]
  },
  {
   "cell_type": "code",
   "execution_count": 11,
   "metadata": {},
   "outputs": [
    {
     "name": "stdout",
     "output_type": "stream",
     "text": [
      "      자동차형식    연료\n",
      "29   TCE203   NaN\n",
      "614  TCE203   NaN\n",
      "615  TCE203   NaN\n",
      "616  TCE203  기타연료\n",
      "617  TCE203   NaN\n",
      "618  TCE203  기타연료\n",
      "       자동차형식   연료\n",
      "34  FT20CCCA  NaN\n",
      "     자동차형식   연료\n",
      "19  HT252T   경유\n",
      "20  HT252T   경유\n",
      "21  HT252T   경유\n",
      "22  HT252T   경유\n",
      "25  HT252T   경유\n",
      "27  HT252T   경유\n",
      "28  HT252T   경유\n",
      "61  HT252T  NaN\n",
      "62  HT252T   경유\n",
      "63  HT252T   경유\n",
      "      자동차형식   연료\n",
      "68  TLE402L  NaN\n",
      "      자동차형식   연료\n",
      "186    1942  NaN\n",
      "11932  1942   경유\n",
      "     자동차형식   연료\n",
      "254     카고  NaN\n",
      "9854    카고  NaN\n",
      "    자동차형식   연료\n",
      "276    66  NaN\n",
      "     자동차형식   연료\n",
      "445  CS20C  NaN\n",
      "446  CS20C  NaN\n",
      "447  CS20C  NaN\n"
     ]
    },
    {
     "ename": "KeyboardInterrupt",
     "evalue": "",
     "output_type": "error",
     "traceback": [
      "\u001b[1;31m---------------------------------------------------------------------------\u001b[0m",
      "\u001b[1;31mKeyboardInterrupt\u001b[0m                         Traceback (most recent call last)",
      "\u001b[1;32m~\\AppData\\Local\\Temp\\ipykernel_24052\\4100508306.py\u001b[0m in \u001b[0;36m<module>\u001b[1;34m\u001b[0m\n\u001b[0;32m      1\u001b[0m \u001b[0mtemp\u001b[0m \u001b[1;33m=\u001b[0m \u001b[0mtdf\u001b[0m\u001b[1;33m.\u001b[0m\u001b[0mloc\u001b[0m\u001b[1;33m[\u001b[0m\u001b[0mtdf\u001b[0m\u001b[1;33m[\u001b[0m\u001b[1;34m'연료'\u001b[0m\u001b[1;33m]\u001b[0m\u001b[1;33m.\u001b[0m\u001b[0misnull\u001b[0m\u001b[1;33m(\u001b[0m\u001b[1;33m)\u001b[0m \u001b[1;33m==\u001b[0m \u001b[1;32mTrue\u001b[0m\u001b[1;33m,\u001b[0m \u001b[1;34m'자동차형식'\u001b[0m\u001b[1;33m]\u001b[0m\u001b[1;33m\u001b[0m\u001b[1;33m\u001b[0m\u001b[0m\n\u001b[0;32m      2\u001b[0m \u001b[1;32mfor\u001b[0m \u001b[0mone\u001b[0m \u001b[1;32min\u001b[0m \u001b[0mtemp\u001b[0m\u001b[1;33m:\u001b[0m\u001b[1;33m\u001b[0m\u001b[1;33m\u001b[0m\u001b[0m\n\u001b[1;32m----> 3\u001b[1;33m     \u001b[0mtp\u001b[0m \u001b[1;33m=\u001b[0m \u001b[0mtdf\u001b[0m\u001b[1;33m.\u001b[0m\u001b[0mloc\u001b[0m\u001b[1;33m[\u001b[0m\u001b[0mtdf\u001b[0m\u001b[1;33m[\u001b[0m\u001b[1;34m'자동차형식'\u001b[0m\u001b[1;33m]\u001b[0m \u001b[1;33m==\u001b[0m \u001b[0mone\u001b[0m\u001b[1;33m,\u001b[0m \u001b[1;33m[\u001b[0m\u001b[1;34m'자동차형식'\u001b[0m\u001b[1;33m,\u001b[0m \u001b[1;34m'연료'\u001b[0m\u001b[1;33m]\u001b[0m\u001b[1;33m]\u001b[0m\u001b[1;33m\u001b[0m\u001b[1;33m\u001b[0m\u001b[0m\n\u001b[0m\u001b[0;32m      4\u001b[0m     \u001b[1;32mif\u001b[0m \u001b[0mtp\u001b[0m\u001b[1;33m.\u001b[0m\u001b[0mshape\u001b[0m\u001b[1;33m[\u001b[0m\u001b[1;36m0\u001b[0m\u001b[1;33m]\u001b[0m \u001b[1;33m!=\u001b[0m \u001b[1;36m0\u001b[0m\u001b[1;33m:\u001b[0m\u001b[1;33m\u001b[0m\u001b[1;33m\u001b[0m\u001b[0m\n\u001b[0;32m      5\u001b[0m         \u001b[0mprint\u001b[0m\u001b[1;33m(\u001b[0m\u001b[0mtp\u001b[0m\u001b[1;33m)\u001b[0m\u001b[1;33m\u001b[0m\u001b[1;33m\u001b[0m\u001b[0m\n",
      "\u001b[1;32m~\\AppData\\Roaming\\Python\\Python39\\site-packages\\pandas\\core\\indexing.py\u001b[0m in \u001b[0;36m__getitem__\u001b[1;34m(self, key)\u001b[0m\n\u001b[0;32m   1065\u001b[0m             \u001b[1;32mif\u001b[0m \u001b[0mself\u001b[0m\u001b[1;33m.\u001b[0m\u001b[0m_is_scalar_access\u001b[0m\u001b[1;33m(\u001b[0m\u001b[0mkey\u001b[0m\u001b[1;33m)\u001b[0m\u001b[1;33m:\u001b[0m\u001b[1;33m\u001b[0m\u001b[1;33m\u001b[0m\u001b[0m\n\u001b[0;32m   1066\u001b[0m                 \u001b[1;32mreturn\u001b[0m \u001b[0mself\u001b[0m\u001b[1;33m.\u001b[0m\u001b[0mobj\u001b[0m\u001b[1;33m.\u001b[0m\u001b[0m_get_value\u001b[0m\u001b[1;33m(\u001b[0m\u001b[1;33m*\u001b[0m\u001b[0mkey\u001b[0m\u001b[1;33m,\u001b[0m \u001b[0mtakeable\u001b[0m\u001b[1;33m=\u001b[0m\u001b[0mself\u001b[0m\u001b[1;33m.\u001b[0m\u001b[0m_takeable\u001b[0m\u001b[1;33m)\u001b[0m\u001b[1;33m\u001b[0m\u001b[1;33m\u001b[0m\u001b[0m\n\u001b[1;32m-> 1067\u001b[1;33m             \u001b[1;32mreturn\u001b[0m \u001b[0mself\u001b[0m\u001b[1;33m.\u001b[0m\u001b[0m_getitem_tuple\u001b[0m\u001b[1;33m(\u001b[0m\u001b[0mkey\u001b[0m\u001b[1;33m)\u001b[0m\u001b[1;33m\u001b[0m\u001b[1;33m\u001b[0m\u001b[0m\n\u001b[0m\u001b[0;32m   1068\u001b[0m         \u001b[1;32melse\u001b[0m\u001b[1;33m:\u001b[0m\u001b[1;33m\u001b[0m\u001b[1;33m\u001b[0m\u001b[0m\n\u001b[0;32m   1069\u001b[0m             \u001b[1;31m# we by definition only have the 0th axis\u001b[0m\u001b[1;33m\u001b[0m\u001b[1;33m\u001b[0m\u001b[0m\n",
      "\u001b[1;32m~\\AppData\\Roaming\\Python\\Python39\\site-packages\\pandas\\core\\indexing.py\u001b[0m in \u001b[0;36m_getitem_tuple\u001b[1;34m(self, tup)\u001b[0m\n\u001b[0;32m   1254\u001b[0m             \u001b[1;32mreturn\u001b[0m \u001b[0mself\u001b[0m\u001b[1;33m.\u001b[0m\u001b[0m_multi_take\u001b[0m\u001b[1;33m(\u001b[0m\u001b[0mtup\u001b[0m\u001b[1;33m)\u001b[0m\u001b[1;33m\u001b[0m\u001b[1;33m\u001b[0m\u001b[0m\n\u001b[0;32m   1255\u001b[0m \u001b[1;33m\u001b[0m\u001b[0m\n\u001b[1;32m-> 1256\u001b[1;33m         \u001b[1;32mreturn\u001b[0m \u001b[0mself\u001b[0m\u001b[1;33m.\u001b[0m\u001b[0m_getitem_tuple_same_dim\u001b[0m\u001b[1;33m(\u001b[0m\u001b[0mtup\u001b[0m\u001b[1;33m)\u001b[0m\u001b[1;33m\u001b[0m\u001b[1;33m\u001b[0m\u001b[0m\n\u001b[0m\u001b[0;32m   1257\u001b[0m \u001b[1;33m\u001b[0m\u001b[0m\n\u001b[0;32m   1258\u001b[0m     \u001b[1;32mdef\u001b[0m \u001b[0m_get_label\u001b[0m\u001b[1;33m(\u001b[0m\u001b[0mself\u001b[0m\u001b[1;33m,\u001b[0m \u001b[0mlabel\u001b[0m\u001b[1;33m,\u001b[0m \u001b[0maxis\u001b[0m\u001b[1;33m:\u001b[0m \u001b[0mint\u001b[0m\u001b[1;33m)\u001b[0m\u001b[1;33m:\u001b[0m\u001b[1;33m\u001b[0m\u001b[1;33m\u001b[0m\u001b[0m\n",
      "\u001b[1;32m~\\AppData\\Roaming\\Python\\Python39\\site-packages\\pandas\\core\\indexing.py\u001b[0m in \u001b[0;36m_getitem_tuple_same_dim\u001b[1;34m(self, tup)\u001b[0m\n\u001b[0;32m    922\u001b[0m                 \u001b[1;32mcontinue\u001b[0m\u001b[1;33m\u001b[0m\u001b[1;33m\u001b[0m\u001b[0m\n\u001b[0;32m    923\u001b[0m \u001b[1;33m\u001b[0m\u001b[0m\n\u001b[1;32m--> 924\u001b[1;33m             \u001b[0mretval\u001b[0m \u001b[1;33m=\u001b[0m \u001b[0mgetattr\u001b[0m\u001b[1;33m(\u001b[0m\u001b[0mretval\u001b[0m\u001b[1;33m,\u001b[0m \u001b[0mself\u001b[0m\u001b[1;33m.\u001b[0m\u001b[0mname\u001b[0m\u001b[1;33m)\u001b[0m\u001b[1;33m.\u001b[0m\u001b[0m_getitem_axis\u001b[0m\u001b[1;33m(\u001b[0m\u001b[0mkey\u001b[0m\u001b[1;33m,\u001b[0m \u001b[0maxis\u001b[0m\u001b[1;33m=\u001b[0m\u001b[0mi\u001b[0m\u001b[1;33m)\u001b[0m\u001b[1;33m\u001b[0m\u001b[1;33m\u001b[0m\u001b[0m\n\u001b[0m\u001b[0;32m    925\u001b[0m             \u001b[1;31m# We should never have retval.ndim < self.ndim, as that should\u001b[0m\u001b[1;33m\u001b[0m\u001b[1;33m\u001b[0m\u001b[0m\n\u001b[0;32m    926\u001b[0m             \u001b[1;31m#  be handled by the _getitem_lowerdim call above.\u001b[0m\u001b[1;33m\u001b[0m\u001b[1;33m\u001b[0m\u001b[0m\n",
      "\u001b[1;32m~\\AppData\\Roaming\\Python\\Python39\\site-packages\\pandas\\core\\indexing.py\u001b[0m in \u001b[0;36m_getitem_axis\u001b[1;34m(self, key, axis)\u001b[0m\n\u001b[0;32m   1290\u001b[0m             \u001b[1;32mreturn\u001b[0m \u001b[0mself\u001b[0m\u001b[1;33m.\u001b[0m\u001b[0m_get_slice_axis\u001b[0m\u001b[1;33m(\u001b[0m\u001b[0mkey\u001b[0m\u001b[1;33m,\u001b[0m \u001b[0maxis\u001b[0m\u001b[1;33m=\u001b[0m\u001b[0maxis\u001b[0m\u001b[1;33m)\u001b[0m\u001b[1;33m\u001b[0m\u001b[1;33m\u001b[0m\u001b[0m\n\u001b[0;32m   1291\u001b[0m         \u001b[1;32melif\u001b[0m \u001b[0mcom\u001b[0m\u001b[1;33m.\u001b[0m\u001b[0mis_bool_indexer\u001b[0m\u001b[1;33m(\u001b[0m\u001b[0mkey\u001b[0m\u001b[1;33m)\u001b[0m\u001b[1;33m:\u001b[0m\u001b[1;33m\u001b[0m\u001b[1;33m\u001b[0m\u001b[0m\n\u001b[1;32m-> 1292\u001b[1;33m             \u001b[1;32mreturn\u001b[0m \u001b[0mself\u001b[0m\u001b[1;33m.\u001b[0m\u001b[0m_getbool_axis\u001b[0m\u001b[1;33m(\u001b[0m\u001b[0mkey\u001b[0m\u001b[1;33m,\u001b[0m \u001b[0maxis\u001b[0m\u001b[1;33m=\u001b[0m\u001b[0maxis\u001b[0m\u001b[1;33m)\u001b[0m\u001b[1;33m\u001b[0m\u001b[1;33m\u001b[0m\u001b[0m\n\u001b[0m\u001b[0;32m   1293\u001b[0m         \u001b[1;32melif\u001b[0m \u001b[0mis_list_like_indexer\u001b[0m\u001b[1;33m(\u001b[0m\u001b[0mkey\u001b[0m\u001b[1;33m)\u001b[0m\u001b[1;33m:\u001b[0m\u001b[1;33m\u001b[0m\u001b[1;33m\u001b[0m\u001b[0m\n\u001b[0;32m   1294\u001b[0m \u001b[1;33m\u001b[0m\u001b[0m\n",
      "\u001b[1;32m~\\AppData\\Roaming\\Python\\Python39\\site-packages\\pandas\\core\\indexing.py\u001b[0m in \u001b[0;36m_getbool_axis\u001b[1;34m(self, key, axis)\u001b[0m\n\u001b[0;32m   1090\u001b[0m         \u001b[0mlabels\u001b[0m \u001b[1;33m=\u001b[0m \u001b[0mself\u001b[0m\u001b[1;33m.\u001b[0m\u001b[0mobj\u001b[0m\u001b[1;33m.\u001b[0m\u001b[0m_get_axis\u001b[0m\u001b[1;33m(\u001b[0m\u001b[0maxis\u001b[0m\u001b[1;33m)\u001b[0m\u001b[1;33m\u001b[0m\u001b[1;33m\u001b[0m\u001b[0m\n\u001b[0;32m   1091\u001b[0m         \u001b[0mkey\u001b[0m \u001b[1;33m=\u001b[0m \u001b[0mcheck_bool_indexer\u001b[0m\u001b[1;33m(\u001b[0m\u001b[0mlabels\u001b[0m\u001b[1;33m,\u001b[0m \u001b[0mkey\u001b[0m\u001b[1;33m)\u001b[0m\u001b[1;33m\u001b[0m\u001b[1;33m\u001b[0m\u001b[0m\n\u001b[1;32m-> 1092\u001b[1;33m         \u001b[0minds\u001b[0m \u001b[1;33m=\u001b[0m \u001b[0mkey\u001b[0m\u001b[1;33m.\u001b[0m\u001b[0mnonzero\u001b[0m\u001b[1;33m(\u001b[0m\u001b[1;33m)\u001b[0m\u001b[1;33m[\u001b[0m\u001b[1;36m0\u001b[0m\u001b[1;33m]\u001b[0m\u001b[1;33m\u001b[0m\u001b[1;33m\u001b[0m\u001b[0m\n\u001b[0m\u001b[0;32m   1093\u001b[0m         \u001b[1;32mreturn\u001b[0m \u001b[0mself\u001b[0m\u001b[1;33m.\u001b[0m\u001b[0mobj\u001b[0m\u001b[1;33m.\u001b[0m\u001b[0m_take_with_is_copy\u001b[0m\u001b[1;33m(\u001b[0m\u001b[0minds\u001b[0m\u001b[1;33m,\u001b[0m \u001b[0maxis\u001b[0m\u001b[1;33m=\u001b[0m\u001b[0maxis\u001b[0m\u001b[1;33m)\u001b[0m\u001b[1;33m\u001b[0m\u001b[1;33m\u001b[0m\u001b[0m\n\u001b[0;32m   1094\u001b[0m \u001b[1;33m\u001b[0m\u001b[0m\n",
      "\u001b[1;31mKeyboardInterrupt\u001b[0m: "
     ]
    }
   ],
   "source": [
    "temp = tdf.loc[tdf['연료'].isnull() == True, '자동차형식']\n",
    "for one in temp:\n",
    "    tp = tdf.loc[tdf['자동차형식'] == one, ['자동차형식', '연료']]\n",
    "    if tp.shape[0] != 0:\n",
    "        print(tp)"
   ]
  },
  {
   "cell_type": "code",
   "execution_count": 13,
   "metadata": {},
   "outputs": [
    {
     "name": "stdout",
     "output_type": "stream",
     "text": [
      "       엔진형식   연료\n",
      "133   DA640   경유\n",
      "174   DA640   경유\n",
      "183   DA640  NaN\n",
      "3932  DA640   경유\n",
      "                엔진형식   연료\n",
      "254   10-78-11-64609  NaN\n",
      "9854  10-78-11-64609  NaN\n",
      "          엔진형식   연료\n",
      "276  077801946  NaN\n"
     ]
    },
    {
     "ename": "KeyboardInterrupt",
     "evalue": "",
     "output_type": "error",
     "traceback": [
      "\u001b[1;31m---------------------------------------------------------------------------\u001b[0m",
      "\u001b[1;31mKeyboardInterrupt\u001b[0m                         Traceback (most recent call last)",
      "\u001b[1;32m~\\AppData\\Local\\Temp\\ipykernel_24052\\3593991776.py\u001b[0m in \u001b[0;36m<module>\u001b[1;34m\u001b[0m\n\u001b[0;32m      1\u001b[0m \u001b[0mtemp\u001b[0m \u001b[1;33m=\u001b[0m \u001b[0mtdf\u001b[0m\u001b[1;33m.\u001b[0m\u001b[0mloc\u001b[0m\u001b[1;33m[\u001b[0m\u001b[0mtdf\u001b[0m\u001b[1;33m[\u001b[0m\u001b[1;34m'연료'\u001b[0m\u001b[1;33m]\u001b[0m\u001b[1;33m.\u001b[0m\u001b[0misnull\u001b[0m\u001b[1;33m(\u001b[0m\u001b[1;33m)\u001b[0m \u001b[1;33m==\u001b[0m \u001b[1;32mTrue\u001b[0m\u001b[1;33m,\u001b[0m \u001b[1;34m'엔진형식'\u001b[0m\u001b[1;33m]\u001b[0m\u001b[1;33m\u001b[0m\u001b[1;33m\u001b[0m\u001b[0m\n\u001b[0;32m      2\u001b[0m \u001b[1;32mfor\u001b[0m \u001b[0mone\u001b[0m \u001b[1;32min\u001b[0m \u001b[0mtemp\u001b[0m\u001b[1;33m:\u001b[0m\u001b[1;33m\u001b[0m\u001b[1;33m\u001b[0m\u001b[0m\n\u001b[1;32m----> 3\u001b[1;33m     \u001b[0mtp\u001b[0m \u001b[1;33m=\u001b[0m \u001b[0mtdf\u001b[0m\u001b[1;33m.\u001b[0m\u001b[0mloc\u001b[0m\u001b[1;33m[\u001b[0m\u001b[0mtdf\u001b[0m\u001b[1;33m[\u001b[0m\u001b[1;34m'엔진형식'\u001b[0m\u001b[1;33m]\u001b[0m \u001b[1;33m==\u001b[0m \u001b[0mone\u001b[0m\u001b[1;33m,\u001b[0m \u001b[1;33m[\u001b[0m\u001b[1;34m'엔진형식'\u001b[0m\u001b[1;33m,\u001b[0m \u001b[1;34m'연료'\u001b[0m\u001b[1;33m]\u001b[0m\u001b[1;33m]\u001b[0m\u001b[1;33m\u001b[0m\u001b[1;33m\u001b[0m\u001b[0m\n\u001b[0m\u001b[0;32m      4\u001b[0m     \u001b[1;32mif\u001b[0m \u001b[0mtp\u001b[0m\u001b[1;33m.\u001b[0m\u001b[0mshape\u001b[0m\u001b[1;33m[\u001b[0m\u001b[1;36m0\u001b[0m\u001b[1;33m]\u001b[0m \u001b[1;33m!=\u001b[0m \u001b[1;36m0\u001b[0m\u001b[1;33m:\u001b[0m\u001b[1;33m\u001b[0m\u001b[1;33m\u001b[0m\u001b[0m\n\u001b[0;32m      5\u001b[0m         \u001b[0mprint\u001b[0m\u001b[1;33m(\u001b[0m\u001b[0mtp\u001b[0m\u001b[1;33m)\u001b[0m\u001b[1;33m\u001b[0m\u001b[1;33m\u001b[0m\u001b[0m\n",
      "\u001b[1;32m~\\AppData\\Roaming\\Python\\Python39\\site-packages\\pandas\\core\\ops\\common.py\u001b[0m in \u001b[0;36mnew_method\u001b[1;34m(self, other)\u001b[0m\n\u001b[0;32m     70\u001b[0m         \u001b[0mother\u001b[0m \u001b[1;33m=\u001b[0m \u001b[0mitem_from_zerodim\u001b[0m\u001b[1;33m(\u001b[0m\u001b[0mother\u001b[0m\u001b[1;33m)\u001b[0m\u001b[1;33m\u001b[0m\u001b[1;33m\u001b[0m\u001b[0m\n\u001b[0;32m     71\u001b[0m \u001b[1;33m\u001b[0m\u001b[0m\n\u001b[1;32m---> 72\u001b[1;33m         \u001b[1;32mreturn\u001b[0m \u001b[0mmethod\u001b[0m\u001b[1;33m(\u001b[0m\u001b[0mself\u001b[0m\u001b[1;33m,\u001b[0m \u001b[0mother\u001b[0m\u001b[1;33m)\u001b[0m\u001b[1;33m\u001b[0m\u001b[1;33m\u001b[0m\u001b[0m\n\u001b[0m\u001b[0;32m     73\u001b[0m \u001b[1;33m\u001b[0m\u001b[0m\n\u001b[0;32m     74\u001b[0m     \u001b[1;32mreturn\u001b[0m \u001b[0mnew_method\u001b[0m\u001b[1;33m\u001b[0m\u001b[1;33m\u001b[0m\u001b[0m\n",
      "\u001b[1;32m~\\AppData\\Roaming\\Python\\Python39\\site-packages\\pandas\\core\\arraylike.py\u001b[0m in \u001b[0;36m__eq__\u001b[1;34m(self, other)\u001b[0m\n\u001b[0;32m     40\u001b[0m     \u001b[1;33m@\u001b[0m\u001b[0munpack_zerodim_and_defer\u001b[0m\u001b[1;33m(\u001b[0m\u001b[1;34m\"__eq__\"\u001b[0m\u001b[1;33m)\u001b[0m\u001b[1;33m\u001b[0m\u001b[1;33m\u001b[0m\u001b[0m\n\u001b[0;32m     41\u001b[0m     \u001b[1;32mdef\u001b[0m \u001b[0m__eq__\u001b[0m\u001b[1;33m(\u001b[0m\u001b[0mself\u001b[0m\u001b[1;33m,\u001b[0m \u001b[0mother\u001b[0m\u001b[1;33m)\u001b[0m\u001b[1;33m:\u001b[0m\u001b[1;33m\u001b[0m\u001b[1;33m\u001b[0m\u001b[0m\n\u001b[1;32m---> 42\u001b[1;33m         \u001b[1;32mreturn\u001b[0m \u001b[0mself\u001b[0m\u001b[1;33m.\u001b[0m\u001b[0m_cmp_method\u001b[0m\u001b[1;33m(\u001b[0m\u001b[0mother\u001b[0m\u001b[1;33m,\u001b[0m \u001b[0moperator\u001b[0m\u001b[1;33m.\u001b[0m\u001b[0meq\u001b[0m\u001b[1;33m)\u001b[0m\u001b[1;33m\u001b[0m\u001b[1;33m\u001b[0m\u001b[0m\n\u001b[0m\u001b[0;32m     43\u001b[0m \u001b[1;33m\u001b[0m\u001b[0m\n\u001b[0;32m     44\u001b[0m     \u001b[1;33m@\u001b[0m\u001b[0munpack_zerodim_and_defer\u001b[0m\u001b[1;33m(\u001b[0m\u001b[1;34m\"__ne__\"\u001b[0m\u001b[1;33m)\u001b[0m\u001b[1;33m\u001b[0m\u001b[1;33m\u001b[0m\u001b[0m\n",
      "\u001b[1;32m~\\AppData\\Roaming\\Python\\Python39\\site-packages\\pandas\\core\\series.py\u001b[0m in \u001b[0;36m_cmp_method\u001b[1;34m(self, other, op)\u001b[0m\n\u001b[0;32m   6241\u001b[0m \u001b[1;33m\u001b[0m\u001b[0m\n\u001b[0;32m   6242\u001b[0m         \u001b[1;32mwith\u001b[0m \u001b[0mnp\u001b[0m\u001b[1;33m.\u001b[0m\u001b[0merrstate\u001b[0m\u001b[1;33m(\u001b[0m\u001b[0mall\u001b[0m\u001b[1;33m=\u001b[0m\u001b[1;34m\"ignore\"\u001b[0m\u001b[1;33m)\u001b[0m\u001b[1;33m:\u001b[0m\u001b[1;33m\u001b[0m\u001b[1;33m\u001b[0m\u001b[0m\n\u001b[1;32m-> 6243\u001b[1;33m             \u001b[0mres_values\u001b[0m \u001b[1;33m=\u001b[0m \u001b[0mops\u001b[0m\u001b[1;33m.\u001b[0m\u001b[0mcomparison_op\u001b[0m\u001b[1;33m(\u001b[0m\u001b[0mlvalues\u001b[0m\u001b[1;33m,\u001b[0m \u001b[0mrvalues\u001b[0m\u001b[1;33m,\u001b[0m \u001b[0mop\u001b[0m\u001b[1;33m)\u001b[0m\u001b[1;33m\u001b[0m\u001b[1;33m\u001b[0m\u001b[0m\n\u001b[0m\u001b[0;32m   6244\u001b[0m \u001b[1;33m\u001b[0m\u001b[0m\n\u001b[0;32m   6245\u001b[0m         \u001b[1;32mreturn\u001b[0m \u001b[0mself\u001b[0m\u001b[1;33m.\u001b[0m\u001b[0m_construct_result\u001b[0m\u001b[1;33m(\u001b[0m\u001b[0mres_values\u001b[0m\u001b[1;33m,\u001b[0m \u001b[0mname\u001b[0m\u001b[1;33m=\u001b[0m\u001b[0mres_name\u001b[0m\u001b[1;33m)\u001b[0m\u001b[1;33m\u001b[0m\u001b[1;33m\u001b[0m\u001b[0m\n",
      "\u001b[1;32m~\\AppData\\Roaming\\Python\\Python39\\site-packages\\pandas\\core\\ops\\array_ops.py\u001b[0m in \u001b[0;36mcomparison_op\u001b[1;34m(left, right, op)\u001b[0m\n\u001b[0;32m    285\u001b[0m \u001b[1;33m\u001b[0m\u001b[0m\n\u001b[0;32m    286\u001b[0m     \u001b[1;32melif\u001b[0m \u001b[0mis_object_dtype\u001b[0m\u001b[1;33m(\u001b[0m\u001b[0mlvalues\u001b[0m\u001b[1;33m.\u001b[0m\u001b[0mdtype\u001b[0m\u001b[1;33m)\u001b[0m \u001b[1;32mor\u001b[0m \u001b[0misinstance\u001b[0m\u001b[1;33m(\u001b[0m\u001b[0mrvalues\u001b[0m\u001b[1;33m,\u001b[0m \u001b[0mstr\u001b[0m\u001b[1;33m)\u001b[0m\u001b[1;33m:\u001b[0m\u001b[1;33m\u001b[0m\u001b[1;33m\u001b[0m\u001b[0m\n\u001b[1;32m--> 287\u001b[1;33m         \u001b[0mres_values\u001b[0m \u001b[1;33m=\u001b[0m \u001b[0mcomp_method_OBJECT_ARRAY\u001b[0m\u001b[1;33m(\u001b[0m\u001b[0mop\u001b[0m\u001b[1;33m,\u001b[0m \u001b[0mlvalues\u001b[0m\u001b[1;33m,\u001b[0m \u001b[0mrvalues\u001b[0m\u001b[1;33m)\u001b[0m\u001b[1;33m\u001b[0m\u001b[1;33m\u001b[0m\u001b[0m\n\u001b[0m\u001b[0;32m    288\u001b[0m \u001b[1;33m\u001b[0m\u001b[0m\n\u001b[0;32m    289\u001b[0m     \u001b[1;32melse\u001b[0m\u001b[1;33m:\u001b[0m\u001b[1;33m\u001b[0m\u001b[1;33m\u001b[0m\u001b[0m\n",
      "\u001b[1;32m~\\AppData\\Roaming\\Python\\Python39\\site-packages\\pandas\\core\\ops\\array_ops.py\u001b[0m in \u001b[0;36mcomp_method_OBJECT_ARRAY\u001b[1;34m(op, x, y)\u001b[0m\n\u001b[0;32m     74\u001b[0m     \u001b[1;32melse\u001b[0m\u001b[1;33m:\u001b[0m\u001b[1;33m\u001b[0m\u001b[1;33m\u001b[0m\u001b[0m\n\u001b[0;32m     75\u001b[0m         \u001b[0mresult\u001b[0m \u001b[1;33m=\u001b[0m \u001b[0mlibops\u001b[0m\u001b[1;33m.\u001b[0m\u001b[0mscalar_compare\u001b[0m\u001b[1;33m(\u001b[0m\u001b[0mx\u001b[0m\u001b[1;33m.\u001b[0m\u001b[0mravel\u001b[0m\u001b[1;33m(\u001b[0m\u001b[1;33m)\u001b[0m\u001b[1;33m,\u001b[0m \u001b[0my\u001b[0m\u001b[1;33m,\u001b[0m \u001b[0mop\u001b[0m\u001b[1;33m)\u001b[0m\u001b[1;33m\u001b[0m\u001b[1;33m\u001b[0m\u001b[0m\n\u001b[1;32m---> 76\u001b[1;33m     \u001b[1;32mreturn\u001b[0m \u001b[0mresult\u001b[0m\u001b[1;33m.\u001b[0m\u001b[0mreshape\u001b[0m\u001b[1;33m(\u001b[0m\u001b[0mx\u001b[0m\u001b[1;33m.\u001b[0m\u001b[0mshape\u001b[0m\u001b[1;33m)\u001b[0m\u001b[1;33m\u001b[0m\u001b[1;33m\u001b[0m\u001b[0m\n\u001b[0m\u001b[0;32m     77\u001b[0m \u001b[1;33m\u001b[0m\u001b[0m\n\u001b[0;32m     78\u001b[0m \u001b[1;33m\u001b[0m\u001b[0m\n",
      "\u001b[1;31mKeyboardInterrupt\u001b[0m: "
     ]
    }
   ],
   "source": [
    "temp = tdf.loc[tdf['연료'].isnull() == True, '엔진형식']\n",
    "for one in temp:\n",
    "    tp = tdf.loc[tdf['엔진형식'] == one, ['엔진형식', '연료']]\n",
    "    if tp.shape[0] != 0:\n",
    "        print(tp)"
   ]
  },
  {
   "cell_type": "code",
   "execution_count": null,
   "metadata": {},
   "outputs": [],
   "source": []
  },
  {
   "cell_type": "code",
   "execution_count": null,
   "metadata": {},
   "outputs": [],
   "source": []
  },
  {
   "attachments": {},
   "cell_type": "markdown",
   "metadata": {},
   "source": [
    "## 엔진형식"
   ]
  },
  {
   "cell_type": "code",
   "execution_count": 139,
   "metadata": {},
   "outputs": [
    {
     "data": {
      "text/plain": [
       "51217"
      ]
     },
     "execution_count": 139,
     "metadata": {},
     "output_type": "execute_result"
    }
   ],
   "source": [
    "src['엔진형식'].isnull().sum()"
   ]
  },
  {
   "cell_type": "code",
   "execution_count": 140,
   "metadata": {},
   "outputs": [
    {
     "data": {
      "text/html": [
       "<div>\n",
       "<style scoped>\n",
       "    .dataframe tbody tr th:only-of-type {\n",
       "        vertical-align: middle;\n",
       "    }\n",
       "\n",
       "    .dataframe tbody tr th {\n",
       "        vertical-align: top;\n",
       "    }\n",
       "\n",
       "    .dataframe thead th {\n",
       "        text-align: right;\n",
       "    }\n",
       "</style>\n",
       "<table border=\"1\" class=\"dataframe\">\n",
       "  <thead>\n",
       "    <tr style=\"text-align: right;\">\n",
       "      <th></th>\n",
       "      <th>엔진형식</th>\n",
       "      <th>차명</th>\n",
       "      <th>자동차형식</th>\n",
       "    </tr>\n",
       "  </thead>\n",
       "  <tbody>\n",
       "    <tr>\n",
       "      <th>1</th>\n",
       "      <td>NaN</td>\n",
       "      <td>퍼브리카</td>\n",
       "      <td>UP26LV</td>\n",
       "    </tr>\n",
       "    <tr>\n",
       "      <th>8</th>\n",
       "      <td>NaN</td>\n",
       "      <td>코티나  디럭스</td>\n",
       "      <td>NaN</td>\n",
       "    </tr>\n",
       "    <tr>\n",
       "      <th>16</th>\n",
       "      <td>NaN</td>\n",
       "      <td>트레라</td>\n",
       "      <td>NaN</td>\n",
       "    </tr>\n",
       "    <tr>\n",
       "      <th>17</th>\n",
       "      <td>NaN</td>\n",
       "      <td>트레일러</td>\n",
       "      <td>NaN</td>\n",
       "    </tr>\n",
       "    <tr>\n",
       "      <th>18</th>\n",
       "      <td>NaN</td>\n",
       "      <td>미스비시샤시(세미트레일러)</td>\n",
       "      <td>MS2301</td>\n",
       "    </tr>\n",
       "    <tr>\n",
       "      <th>...</th>\n",
       "      <td>...</td>\n",
       "      <td>...</td>\n",
       "      <td>...</td>\n",
       "    </tr>\n",
       "    <tr>\n",
       "      <th>29532644</th>\n",
       "      <td>NaN</td>\n",
       "      <td>씨티인터내셔널캠핑트레일러</td>\n",
       "      <td>FOCUS470-1800</td>\n",
       "    </tr>\n",
       "    <tr>\n",
       "      <th>29532813</th>\n",
       "      <td>NaN</td>\n",
       "      <td>씨티인터내셔널캠핑트레일러</td>\n",
       "      <td>FOCUS470-1800</td>\n",
       "    </tr>\n",
       "    <tr>\n",
       "      <th>29533150</th>\n",
       "      <td>NaN</td>\n",
       "      <td>MAZDA 2</td>\n",
       "      <td>NaN</td>\n",
       "    </tr>\n",
       "    <tr>\n",
       "      <th>29533362</th>\n",
       "      <td>NaN</td>\n",
       "      <td>BMW 3 SERIES 2020</td>\n",
       "      <td>NaN</td>\n",
       "    </tr>\n",
       "    <tr>\n",
       "      <th>29533577</th>\n",
       "      <td>NaN</td>\n",
       "      <td>NaN</td>\n",
       "      <td>NaN</td>\n",
       "    </tr>\n",
       "  </tbody>\n",
       "</table>\n",
       "<p>96152 rows × 3 columns</p>\n",
       "</div>"
      ],
      "text/plain": [
       "         엔진형식                 차명          자동차형식\n",
       "1         NaN               퍼브리카         UP26LV\n",
       "8         NaN           코티나  디럭스            NaN\n",
       "16        NaN                트레라            NaN\n",
       "17        NaN               트레일러            NaN\n",
       "18        NaN     미스비시샤시(세미트레일러)         MS2301\n",
       "...       ...                ...            ...\n",
       "29532644  NaN      씨티인터내셔널캠핑트레일러  FOCUS470-1800\n",
       "29532813  NaN      씨티인터내셔널캠핑트레일러  FOCUS470-1800\n",
       "29533150  NaN            MAZDA 2            NaN\n",
       "29533362  NaN  BMW 3 SERIES 2020            NaN\n",
       "29533577  NaN                NaN            NaN\n",
       "\n",
       "[96152 rows x 3 columns]"
      ]
     },
     "execution_count": 140,
     "metadata": {},
     "output_type": "execute_result"
    }
   ],
   "source": [
    "tdf.loc[tdf['엔진형식'].isnull() == True, ['엔진형식', '차명', '자동차형식']]"
   ]
  },
  {
   "cell_type": "code",
   "execution_count": 142,
   "metadata": {},
   "outputs": [
    {
     "data": {
      "text/html": [
       "<div>\n",
       "<style scoped>\n",
       "    .dataframe tbody tr th:only-of-type {\n",
       "        vertical-align: middle;\n",
       "    }\n",
       "\n",
       "    .dataframe tbody tr th {\n",
       "        vertical-align: top;\n",
       "    }\n",
       "\n",
       "    .dataframe thead th {\n",
       "        text-align: right;\n",
       "    }\n",
       "</style>\n",
       "<table border=\"1\" class=\"dataframe\">\n",
       "  <thead>\n",
       "    <tr style=\"text-align: right;\">\n",
       "      <th></th>\n",
       "      <th>엔진형식</th>\n",
       "      <th>차명</th>\n",
       "      <th>자동차형식</th>\n",
       "    </tr>\n",
       "  </thead>\n",
       "  <tbody>\n",
       "    <tr>\n",
       "      <th>29530529</th>\n",
       "      <td>NaN</td>\n",
       "      <td>모두베스트메이크폴딩캠핑트레일러</td>\n",
       "      <td>BM.PALACE</td>\n",
       "    </tr>\n",
       "    <tr>\n",
       "      <th>29530530</th>\n",
       "      <td>NaN</td>\n",
       "      <td>차캐드캠핑트레일러</td>\n",
       "      <td>TR300HW</td>\n",
       "    </tr>\n",
       "    <tr>\n",
       "      <th>29530531</th>\n",
       "      <td>NaN</td>\n",
       "      <td>차캐드캠핑트레일러</td>\n",
       "      <td>tr300</td>\n",
       "    </tr>\n",
       "    <tr>\n",
       "      <th>29530532</th>\n",
       "      <td>NaN</td>\n",
       "      <td>차캐드캠핑트레일러</td>\n",
       "      <td>tr300</td>\n",
       "    </tr>\n",
       "    <tr>\n",
       "      <th>29531066</th>\n",
       "      <td>NaN</td>\n",
       "      <td>SUBARU TREZIA 2012</td>\n",
       "      <td>NaN</td>\n",
       "    </tr>\n",
       "    <tr>\n",
       "      <th>29531184</th>\n",
       "      <td>NaN</td>\n",
       "      <td>LEXUS ES</td>\n",
       "      <td>NaN</td>\n",
       "    </tr>\n",
       "    <tr>\n",
       "      <th>29531206</th>\n",
       "      <td>NaN</td>\n",
       "      <td>투데이40피트콤비컨테이너운송트레일러</td>\n",
       "      <td>TDMCBCC4-DB21S</td>\n",
       "    </tr>\n",
       "    <tr>\n",
       "      <th>29531304</th>\n",
       "      <td>NaN</td>\n",
       "      <td>MAZDA 2</td>\n",
       "      <td>NaN</td>\n",
       "    </tr>\n",
       "    <tr>\n",
       "      <th>29532154</th>\n",
       "      <td>NaN</td>\n",
       "      <td>JEEP CHEROKEE 2022</td>\n",
       "      <td>NaN</td>\n",
       "    </tr>\n",
       "    <tr>\n",
       "      <th>29532169</th>\n",
       "      <td>NaN</td>\n",
       "      <td>FORD FUSION 2017</td>\n",
       "      <td>NaN</td>\n",
       "    </tr>\n",
       "    <tr>\n",
       "      <th>29532170</th>\n",
       "      <td>NaN</td>\n",
       "      <td>FORD FUSION</td>\n",
       "      <td>NaN</td>\n",
       "    </tr>\n",
       "    <tr>\n",
       "      <th>29532347</th>\n",
       "      <td>NaN</td>\n",
       "      <td>VOLKSWAGEN JETTA 2020</td>\n",
       "      <td>NaN</td>\n",
       "    </tr>\n",
       "    <tr>\n",
       "      <th>29532641</th>\n",
       "      <td>NaN</td>\n",
       "      <td>에어밴이동홍보트레일러</td>\n",
       "      <td>L2040WT</td>\n",
       "    </tr>\n",
       "    <tr>\n",
       "      <th>29532642</th>\n",
       "      <td>NaN</td>\n",
       "      <td>마차캠핑트레일러</td>\n",
       "      <td>MC-580</td>\n",
       "    </tr>\n",
       "    <tr>\n",
       "      <th>29532643</th>\n",
       "      <td>NaN</td>\n",
       "      <td>씨티인터내셔널캠핑트레일러</td>\n",
       "      <td>FOCUS470-1800</td>\n",
       "    </tr>\n",
       "    <tr>\n",
       "      <th>29532644</th>\n",
       "      <td>NaN</td>\n",
       "      <td>씨티인터내셔널캠핑트레일러</td>\n",
       "      <td>FOCUS470-1800</td>\n",
       "    </tr>\n",
       "    <tr>\n",
       "      <th>29532813</th>\n",
       "      <td>NaN</td>\n",
       "      <td>씨티인터내셔널캠핑트레일러</td>\n",
       "      <td>FOCUS470-1800</td>\n",
       "    </tr>\n",
       "    <tr>\n",
       "      <th>29533150</th>\n",
       "      <td>NaN</td>\n",
       "      <td>MAZDA 2</td>\n",
       "      <td>NaN</td>\n",
       "    </tr>\n",
       "    <tr>\n",
       "      <th>29533362</th>\n",
       "      <td>NaN</td>\n",
       "      <td>BMW 3 SERIES 2020</td>\n",
       "      <td>NaN</td>\n",
       "    </tr>\n",
       "    <tr>\n",
       "      <th>29533577</th>\n",
       "      <td>NaN</td>\n",
       "      <td>NaN</td>\n",
       "      <td>NaN</td>\n",
       "    </tr>\n",
       "  </tbody>\n",
       "</table>\n",
       "</div>"
      ],
      "text/plain": [
       "         엔진형식                     차명           자동차형식\n",
       "29530529  NaN       모두베스트메이크폴딩캠핑트레일러       BM.PALACE\n",
       "29530530  NaN              차캐드캠핑트레일러         TR300HW\n",
       "29530531  NaN              차캐드캠핑트레일러           tr300\n",
       "29530532  NaN              차캐드캠핑트레일러           tr300\n",
       "29531066  NaN     SUBARU TREZIA 2012             NaN\n",
       "29531184  NaN               LEXUS ES             NaN\n",
       "29531206  NaN    투데이40피트콤비컨테이너운송트레일러  TDMCBCC4-DB21S\n",
       "29531304  NaN                MAZDA 2             NaN\n",
       "29532154  NaN     JEEP CHEROKEE 2022             NaN\n",
       "29532169  NaN       FORD FUSION 2017             NaN\n",
       "29532170  NaN            FORD FUSION             NaN\n",
       "29532347  NaN  VOLKSWAGEN JETTA 2020             NaN\n",
       "29532641  NaN            에어밴이동홍보트레일러         L2040WT\n",
       "29532642  NaN               마차캠핑트레일러          MC-580\n",
       "29532643  NaN          씨티인터내셔널캠핑트레일러   FOCUS470-1800\n",
       "29532644  NaN          씨티인터내셔널캠핑트레일러   FOCUS470-1800\n",
       "29532813  NaN          씨티인터내셔널캠핑트레일러   FOCUS470-1800\n",
       "29533150  NaN                MAZDA 2             NaN\n",
       "29533362  NaN      BMW 3 SERIES 2020             NaN\n",
       "29533577  NaN                    NaN             NaN"
      ]
     },
     "execution_count": 142,
     "metadata": {},
     "output_type": "execute_result"
    }
   ],
   "source": [
    "tdf.loc[tdf['엔진형식'].isnull() == True, ['엔진형식', '차명', '자동차형식']].tail(20)"
   ]
  },
  {
   "cell_type": "code",
   "execution_count": 44,
   "metadata": {},
   "outputs": [
    {
     "data": {
      "text/html": [
       "<div>\n",
       "<style scoped>\n",
       "    .dataframe tbody tr th:only-of-type {\n",
       "        vertical-align: middle;\n",
       "    }\n",
       "\n",
       "    .dataframe tbody tr th {\n",
       "        vertical-align: top;\n",
       "    }\n",
       "\n",
       "    .dataframe thead th {\n",
       "        text-align: right;\n",
       "    }\n",
       "</style>\n",
       "<table border=\"1\" class=\"dataframe\">\n",
       "  <thead>\n",
       "    <tr style=\"text-align: right;\">\n",
       "      <th></th>\n",
       "      <th>엔진형식</th>\n",
       "      <th>차명</th>\n",
       "      <th>자동차형식</th>\n",
       "    </tr>\n",
       "  </thead>\n",
       "  <tbody>\n",
       "    <tr>\n",
       "      <th>4072</th>\n",
       "      <td>NaN</td>\n",
       "      <td>새한2.5톤카고</td>\n",
       "      <td>TLD54</td>\n",
       "    </tr>\n",
       "    <tr>\n",
       "      <th>4084</th>\n",
       "      <td>NaN</td>\n",
       "      <td>새한2.5톤카고</td>\n",
       "      <td>TLD54</td>\n",
       "    </tr>\n",
       "    <tr>\n",
       "      <th>4096</th>\n",
       "      <td>NaN</td>\n",
       "      <td>현대26톤평판트레일러</td>\n",
       "      <td>HTC-5B</td>\n",
       "    </tr>\n",
       "    <tr>\n",
       "      <th>4098</th>\n",
       "      <td>NaN</td>\n",
       "      <td>현대26톤평판트레일러</td>\n",
       "      <td>HTC-5B</td>\n",
       "    </tr>\n",
       "    <tr>\n",
       "      <th>4099</th>\n",
       "      <td>NaN</td>\n",
       "      <td>콘테이너샤시콤바인</td>\n",
       "      <td>HDH-40-CCC-35SS</td>\n",
       "    </tr>\n",
       "    <tr>\n",
       "      <th>4136</th>\n",
       "      <td>NaN</td>\n",
       "      <td>현대35톤평판트레일러</td>\n",
       "      <td>HTC-5</td>\n",
       "    </tr>\n",
       "    <tr>\n",
       "      <th>4138</th>\n",
       "      <td>NaN</td>\n",
       "      <td>현대35톤평판트레일러</td>\n",
       "      <td>HTC-5</td>\n",
       "    </tr>\n",
       "    <tr>\n",
       "      <th>4140</th>\n",
       "      <td>NaN</td>\n",
       "      <td>현대35톤평판트레일러</td>\n",
       "      <td>HTC-5</td>\n",
       "    </tr>\n",
       "    <tr>\n",
       "      <th>4141</th>\n",
       "      <td>NaN</td>\n",
       "      <td>스트리크트레일러샤시</td>\n",
       "      <td>NaN</td>\n",
       "    </tr>\n",
       "    <tr>\n",
       "      <th>4199</th>\n",
       "      <td>NaN</td>\n",
       "      <td>스트리크트레일러샤시</td>\n",
       "      <td>NaN</td>\n",
       "    </tr>\n",
       "  </tbody>\n",
       "</table>\n",
       "</div>"
      ],
      "text/plain": [
       "     엔진형식           차명            자동차형식\n",
       "4072  NaN     새한2.5톤카고            TLD54\n",
       "4084  NaN     새한2.5톤카고            TLD54\n",
       "4096  NaN  현대26톤평판트레일러           HTC-5B\n",
       "4098  NaN  현대26톤평판트레일러           HTC-5B\n",
       "4099  NaN    콘테이너샤시콤바인  HDH-40-CCC-35SS\n",
       "4136  NaN  현대35톤평판트레일러            HTC-5\n",
       "4138  NaN  현대35톤평판트레일러            HTC-5\n",
       "4140  NaN  현대35톤평판트레일러            HTC-5\n",
       "4141  NaN   스트리크트레일러샤시              NaN\n",
       "4199  NaN   스트리크트레일러샤시              NaN"
      ]
     },
     "execution_count": 44,
     "metadata": {},
     "output_type": "execute_result"
    }
   ],
   "source": [
    "tdf.loc[tdf['엔진형식'].isnull() == True, ['엔진형식', '차명', '자동차형식']].iloc[800:810]"
   ]
  },
  {
   "cell_type": "code",
   "execution_count": 143,
   "metadata": {},
   "outputs": [
    {
     "data": {
      "text/html": [
       "<div>\n",
       "<style scoped>\n",
       "    .dataframe tbody tr th:only-of-type {\n",
       "        vertical-align: middle;\n",
       "    }\n",
       "\n",
       "    .dataframe tbody tr th {\n",
       "        vertical-align: top;\n",
       "    }\n",
       "\n",
       "    .dataframe thead th {\n",
       "        text-align: right;\n",
       "    }\n",
       "</style>\n",
       "<table border=\"1\" class=\"dataframe\">\n",
       "  <thead>\n",
       "    <tr style=\"text-align: right;\">\n",
       "      <th></th>\n",
       "      <th>엔진형식</th>\n",
       "      <th>차명</th>\n",
       "      <th>자동차형식</th>\n",
       "    </tr>\n",
       "  </thead>\n",
       "  <tbody>\n",
       "    <tr>\n",
       "      <th>24424020</th>\n",
       "      <td>NaN</td>\n",
       "      <td>LEXUS ES</td>\n",
       "      <td>NaN</td>\n",
       "    </tr>\n",
       "    <tr>\n",
       "      <th>27631663</th>\n",
       "      <td>2GR</td>\n",
       "      <td>LEXUS ES</td>\n",
       "      <td>ES350</td>\n",
       "    </tr>\n",
       "    <tr>\n",
       "      <th>29531184</th>\n",
       "      <td>NaN</td>\n",
       "      <td>LEXUS ES</td>\n",
       "      <td>NaN</td>\n",
       "    </tr>\n",
       "  </tbody>\n",
       "</table>\n",
       "</div>"
      ],
      "text/plain": [
       "         엔진형식        차명  자동차형식\n",
       "24424020  NaN  LEXUS ES    NaN\n",
       "27631663  2GR  LEXUS ES  ES350\n",
       "29531184  NaN  LEXUS ES    NaN"
      ]
     },
     "execution_count": 143,
     "metadata": {},
     "output_type": "execute_result"
    }
   ],
   "source": [
    "tdf.loc[tdf['차명'] == 'LEXUS ES', ['엔진형식', '차명', '자동차형식']]"
   ]
  },
  {
   "attachments": {},
   "cell_type": "markdown",
   "metadata": {},
   "source": [
    "# 3\\. 배출가스 인증정보"
   ]
  },
  {
   "cell_type": "code",
   "execution_count": 6,
   "metadata": {},
   "outputs": [
    {
     "name": "stdout",
     "output_type": "stream",
     "text": [
      "<class 'pandas.core.frame.DataFrame'>\n",
      "RangeIndex: 79725 entries, 0 to 79724\n",
      "Data columns (total 23 columns):\n",
      " #   Column                 Non-Null Count  Dtype  \n",
      "---  ------                 --------------  -----  \n",
      " 0   EMIS_CRTCNO            79725 non-null  object \n",
      " 1   EMIS_CRTC_SNO          79725 non-null  int64  \n",
      " 2   EMIS_CRTC_1_SE         79725 non-null  object \n",
      " 3   EMIS_CRTC_2_SE         79436 non-null  object \n",
      " 4   DMSTC_INCM_MKR_SE      79038 non-null  object \n",
      " 5   EMIS_VHCTY             79519 non-null  object \n",
      " 6   FUEL                   79493 non-null  object \n",
      " 7   SAME_VHCTY_TY          9155 non-null   object \n",
      " 8   EMIS_CRTC_DE           79670 non-null  float64\n",
      " 9   MKR_NM                 78956 non-null  object \n",
      " 10  MNFCT_NM               79554 non-null  object \n",
      " 11  PLOR_NM                29928 non-null  object \n",
      " 12  EMIS_CRTC_STUS         79681 non-null  float64\n",
      " 13  EMIS_CRTC_UNAVBL_DE    361 non-null    float64\n",
      " 14  EMIS_CRTC_UNAVBL_RESN  45 non-null     object \n",
      " 15  ORGCAR_SRCMNNO         60648 non-null  object \n",
      " 16  REPCAR_EMIS_CRTCNO     26100 non-null  object \n",
      " 17  REPCAR_VIN             55697 non-null  object \n",
      " 18  EMIS_PERM_STDR_CD      17746 non-null  object \n",
      " 19  EMIS_GRD               23923 non-null  object \n",
      " 20  RECP_FILE_NM           79707 non-null  object \n",
      " 21  STRE_DE                79715 non-null  object \n",
      " 22  SRCMNNO                0 non-null      float64\n",
      "dtypes: float64(4), int64(1), object(18)\n",
      "memory usage: 14.0+ MB\n"
     ]
    }
   ],
   "source": [
    "name = 'CEG_EMIS_CERTI_MIG'\n",
    "file_name = f'ODS_{name}.csv'\n",
    "emis_certi_mig = pd.read_csv(os.path.join(ods_fold, file_name), low_memory=False)\n",
    "emis_certi_mig.info()"
   ]
  },
  {
   "cell_type": "code",
   "execution_count": 7,
   "metadata": {},
   "outputs": [
    {
     "data": {
      "text/plain": [
       "Index(['배출가스인증번호', '배출가스 인증 일련번호', '배출가스 인증 1 구분', '배출가스 인증 2 구분',\n",
       "       '국내 수입 제작사 구분', '배출가스 차종', '연료', '동일 차종 유형', '배출가스 인증 일자', '제작사 명',\n",
       "       '제조사 명', '원산지 명', '배출가스 인증 상태', '배출가스 인증 무효 일자', '배출가스 인증 무효 사유',\n",
       "       '기본차 제원관리번호', '대표차 배출가스 인증번호', '대표차 차대번호', '배출가스 허용 기준 코드', '배출가스 등급',\n",
       "       '미정', '저장 일자', '미정'],\n",
       "      dtype='object')"
      ]
     },
     "execution_count": 7,
     "metadata": {},
     "output_type": "execute_result"
    }
   ],
   "source": [
    "file_name = f'[정제]{name}.xlsx'\n",
    "col_df = pd.read_excel(os.path.join(col_fold, file_name), sheet_name='ODS_col')\n",
    "col_dict = {a:b for a,b in col_df[['컬럼', '내용']].values}\n",
    "emis_certi_mig.columns = [col_dict[x] for x in emis_certi_mig.columns]\n",
    "emis_certi_mig.columns"
   ]
  },
  {
   "cell_type": "code",
   "execution_count": 8,
   "metadata": {},
   "outputs": [],
   "source": [
    "emis_certi_mig1 = emis_certi_mig[['배출가스인증번호', '배출가스 인증 일련번호', '배출가스 인증 1 구분', '배출가스 인증 2 구분',\n",
    "       '국내 수입 제작사 구분', '배출가스 차종', '연료', '동일 차종 유형', '배출가스 인증 일자', '제작사 명',\n",
    "       '제조사 명', '원산지 명', '배출가스 인증 상태', '배출가스 인증 무효 일자', '배출가스 인증 무효 사유',\n",
    "       '기본차 제원관리번호', '대표차 배출가스 인증번호', '대표차 차대번호', '배출가스 허용 기준 코드', '배출가스 등급',\n",
    "       '저장 일자']]"
   ]
  },
  {
   "cell_type": "code",
   "execution_count": 15,
   "metadata": {},
   "outputs": [
    {
     "data": {
      "text/html": [
       "<div>\n",
       "<style scoped>\n",
       "    .dataframe tbody tr th:only-of-type {\n",
       "        vertical-align: middle;\n",
       "    }\n",
       "\n",
       "    .dataframe tbody tr th {\n",
       "        vertical-align: top;\n",
       "    }\n",
       "\n",
       "    .dataframe thead th {\n",
       "        text-align: right;\n",
       "    }\n",
       "</style>\n",
       "<table border=\"1\" class=\"dataframe\">\n",
       "  <thead>\n",
       "    <tr style=\"text-align: right;\">\n",
       "      <th></th>\n",
       "      <th>컬럼명</th>\n",
       "      <th>내용</th>\n",
       "    </tr>\n",
       "  </thead>\n",
       "  <tbody>\n",
       "    <tr>\n",
       "      <th>0</th>\n",
       "      <td>STRE_DE</td>\n",
       "      <td>저장 일자</td>\n",
       "    </tr>\n",
       "    <tr>\n",
       "      <th>1</th>\n",
       "      <td>MKR_NM</td>\n",
       "      <td>제작사 명</td>\n",
       "    </tr>\n",
       "    <tr>\n",
       "      <th>2</th>\n",
       "      <td>FUEL</td>\n",
       "      <td>연료</td>\n",
       "    </tr>\n",
       "    <tr>\n",
       "      <th>3</th>\n",
       "      <td>EMIS_CRTC_DE</td>\n",
       "      <td>배출가스 인증 일자</td>\n",
       "    </tr>\n",
       "    <tr>\n",
       "      <th>4</th>\n",
       "      <td>EMIS_CRTCNO</td>\n",
       "      <td>배출가스인증번호</td>\n",
       "    </tr>\n",
       "    <tr>\n",
       "      <th>5</th>\n",
       "      <td>EMIS_PERM_STDR_CD</td>\n",
       "      <td>배출가스 허용 기준 코드</td>\n",
       "    </tr>\n",
       "    <tr>\n",
       "      <th>6</th>\n",
       "      <td>EMIS_VHCTY</td>\n",
       "      <td>배출가스 차종</td>\n",
       "    </tr>\n",
       "    <tr>\n",
       "      <th>7</th>\n",
       "      <td>EMIS_CRTC_UNAVBL_RESN</td>\n",
       "      <td>배출가스 인증 무효 사유</td>\n",
       "    </tr>\n",
       "    <tr>\n",
       "      <th>8</th>\n",
       "      <td>EMIS_CRTC_2_SE</td>\n",
       "      <td>배출가스 인증 2 구분</td>\n",
       "    </tr>\n",
       "    <tr>\n",
       "      <th>9</th>\n",
       "      <td>EMIS_CRTC_STUS</td>\n",
       "      <td>배출가스 인증 상태</td>\n",
       "    </tr>\n",
       "    <tr>\n",
       "      <th>10</th>\n",
       "      <td>EMIS_CRTC_SNO</td>\n",
       "      <td>배출가스 인증 일련번호</td>\n",
       "    </tr>\n",
       "    <tr>\n",
       "      <th>11</th>\n",
       "      <td>EMIS_CRTC_UNAVBL_DE</td>\n",
       "      <td>배출가스 인증 무효 일자</td>\n",
       "    </tr>\n",
       "    <tr>\n",
       "      <th>12</th>\n",
       "      <td>EMIS_CRTC_1_SE</td>\n",
       "      <td>배출가스 인증 1 구분</td>\n",
       "    </tr>\n",
       "    <tr>\n",
       "      <th>13</th>\n",
       "      <td>EMIS_GRD</td>\n",
       "      <td>배출가스 등급</td>\n",
       "    </tr>\n",
       "    <tr>\n",
       "      <th>14</th>\n",
       "      <td>SAME_VHCTY_TY</td>\n",
       "      <td>동일 차종 유형</td>\n",
       "    </tr>\n",
       "    <tr>\n",
       "      <th>15</th>\n",
       "      <td>REPCAR_VIN</td>\n",
       "      <td>대표차 차대번호</td>\n",
       "    </tr>\n",
       "    <tr>\n",
       "      <th>16</th>\n",
       "      <td>REPCAR_EMIS_CRTCNO</td>\n",
       "      <td>대표차 배출가스 인증번호</td>\n",
       "    </tr>\n",
       "    <tr>\n",
       "      <th>17</th>\n",
       "      <td>ORGCAR_SRCMNNO</td>\n",
       "      <td>기본차 제원관리번호</td>\n",
       "    </tr>\n",
       "    <tr>\n",
       "      <th>18</th>\n",
       "      <td>DMSTC_INCM_MKR_SE</td>\n",
       "      <td>국내 수입 제작사 구분</td>\n",
       "    </tr>\n",
       "    <tr>\n",
       "      <th>19</th>\n",
       "      <td>MNFCT_NM</td>\n",
       "      <td>제조사 명</td>\n",
       "    </tr>\n",
       "    <tr>\n",
       "      <th>20</th>\n",
       "      <td>PLOR_NM</td>\n",
       "      <td>원산지 명</td>\n",
       "    </tr>\n",
       "    <tr>\n",
       "      <th>21</th>\n",
       "      <td>RECP_FILE_NM</td>\n",
       "      <td>미정</td>\n",
       "    </tr>\n",
       "    <tr>\n",
       "      <th>22</th>\n",
       "      <td>SRCMNNO</td>\n",
       "      <td>미정</td>\n",
       "    </tr>\n",
       "  </tbody>\n",
       "</table>\n",
       "</div>"
      ],
      "text/plain": [
       "                      컬럼명             내용\n",
       "0                 STRE_DE          저장 일자\n",
       "1                  MKR_NM          제작사 명\n",
       "2                    FUEL             연료\n",
       "3            EMIS_CRTC_DE     배출가스 인증 일자\n",
       "4             EMIS_CRTCNO       배출가스인증번호\n",
       "5       EMIS_PERM_STDR_CD  배출가스 허용 기준 코드\n",
       "6              EMIS_VHCTY        배출가스 차종\n",
       "7   EMIS_CRTC_UNAVBL_RESN  배출가스 인증 무효 사유\n",
       "8          EMIS_CRTC_2_SE   배출가스 인증 2 구분\n",
       "9          EMIS_CRTC_STUS     배출가스 인증 상태\n",
       "10          EMIS_CRTC_SNO   배출가스 인증 일련번호\n",
       "11    EMIS_CRTC_UNAVBL_DE  배출가스 인증 무효 일자\n",
       "12         EMIS_CRTC_1_SE   배출가스 인증 1 구분\n",
       "13               EMIS_GRD        배출가스 등급\n",
       "14          SAME_VHCTY_TY       동일 차종 유형\n",
       "15             REPCAR_VIN       대표차 차대번호\n",
       "16     REPCAR_EMIS_CRTCNO  대표차 배출가스 인증번호\n",
       "17         ORGCAR_SRCMNNO     기본차 제원관리번호\n",
       "18      DMSTC_INCM_MKR_SE   국내 수입 제작사 구분\n",
       "19               MNFCT_NM          제조사 명\n",
       "20                PLOR_NM          원산지 명\n",
       "21           RECP_FILE_NM             미정\n",
       "22                SRCMNNO             미정"
      ]
     },
     "execution_count": 15,
     "metadata": {},
     "output_type": "execute_result"
    }
   ],
   "source": [
    "col = pd.DataFrame(col_dict, index=['내용']).T.reset_index()\n",
    "col.columns = ['컬럼명', '내용']\n",
    "col"
   ]
  },
  {
   "cell_type": "code",
   "execution_count": 20,
   "metadata": {},
   "outputs": [
    {
     "data": {
      "text/html": [
       "<div>\n",
       "<style scoped>\n",
       "    .dataframe tbody tr th:only-of-type {\n",
       "        vertical-align: middle;\n",
       "    }\n",
       "\n",
       "    .dataframe tbody tr th {\n",
       "        vertical-align: top;\n",
       "    }\n",
       "\n",
       "    .dataframe thead th {\n",
       "        text-align: right;\n",
       "    }\n",
       "</style>\n",
       "<table border=\"1\" class=\"dataframe\">\n",
       "  <thead>\n",
       "    <tr style=\"text-align: right;\">\n",
       "      <th></th>\n",
       "      <th>내용</th>\n",
       "      <th>결측 값</th>\n",
       "    </tr>\n",
       "  </thead>\n",
       "  <tbody>\n",
       "    <tr>\n",
       "      <th>0</th>\n",
       "      <td>배출가스인증번호</td>\n",
       "      <td>0</td>\n",
       "    </tr>\n",
       "    <tr>\n",
       "      <th>1</th>\n",
       "      <td>배출가스 인증 일련번호</td>\n",
       "      <td>0</td>\n",
       "    </tr>\n",
       "    <tr>\n",
       "      <th>2</th>\n",
       "      <td>배출가스 인증 1 구분</td>\n",
       "      <td>0</td>\n",
       "    </tr>\n",
       "    <tr>\n",
       "      <th>3</th>\n",
       "      <td>배출가스 인증 2 구분</td>\n",
       "      <td>289</td>\n",
       "    </tr>\n",
       "    <tr>\n",
       "      <th>4</th>\n",
       "      <td>국내 수입 제작사 구분</td>\n",
       "      <td>687</td>\n",
       "    </tr>\n",
       "    <tr>\n",
       "      <th>5</th>\n",
       "      <td>배출가스 차종</td>\n",
       "      <td>206</td>\n",
       "    </tr>\n",
       "    <tr>\n",
       "      <th>6</th>\n",
       "      <td>연료</td>\n",
       "      <td>232</td>\n",
       "    </tr>\n",
       "    <tr>\n",
       "      <th>7</th>\n",
       "      <td>동일 차종 유형</td>\n",
       "      <td>70570</td>\n",
       "    </tr>\n",
       "    <tr>\n",
       "      <th>8</th>\n",
       "      <td>배출가스 인증 일자</td>\n",
       "      <td>55</td>\n",
       "    </tr>\n",
       "    <tr>\n",
       "      <th>9</th>\n",
       "      <td>제작사 명</td>\n",
       "      <td>769</td>\n",
       "    </tr>\n",
       "    <tr>\n",
       "      <th>10</th>\n",
       "      <td>제조사 명</td>\n",
       "      <td>171</td>\n",
       "    </tr>\n",
       "    <tr>\n",
       "      <th>11</th>\n",
       "      <td>원산지 명</td>\n",
       "      <td>49797</td>\n",
       "    </tr>\n",
       "    <tr>\n",
       "      <th>12</th>\n",
       "      <td>배출가스 인증 상태</td>\n",
       "      <td>44</td>\n",
       "    </tr>\n",
       "    <tr>\n",
       "      <th>13</th>\n",
       "      <td>배출가스 인증 무효 일자</td>\n",
       "      <td>79364</td>\n",
       "    </tr>\n",
       "    <tr>\n",
       "      <th>14</th>\n",
       "      <td>배출가스 인증 무효 사유</td>\n",
       "      <td>79680</td>\n",
       "    </tr>\n",
       "    <tr>\n",
       "      <th>15</th>\n",
       "      <td>기본차 제원관리번호</td>\n",
       "      <td>19077</td>\n",
       "    </tr>\n",
       "    <tr>\n",
       "      <th>16</th>\n",
       "      <td>대표차 배출가스 인증번호</td>\n",
       "      <td>53625</td>\n",
       "    </tr>\n",
       "    <tr>\n",
       "      <th>17</th>\n",
       "      <td>대표차 차대번호</td>\n",
       "      <td>24028</td>\n",
       "    </tr>\n",
       "    <tr>\n",
       "      <th>18</th>\n",
       "      <td>배출가스 허용 기준 코드</td>\n",
       "      <td>61979</td>\n",
       "    </tr>\n",
       "    <tr>\n",
       "      <th>19</th>\n",
       "      <td>배출가스 등급</td>\n",
       "      <td>55802</td>\n",
       "    </tr>\n",
       "    <tr>\n",
       "      <th>20</th>\n",
       "      <td>저장 일자</td>\n",
       "      <td>10</td>\n",
       "    </tr>\n",
       "  </tbody>\n",
       "</table>\n",
       "</div>"
      ],
      "text/plain": [
       "               내용   결측 값\n",
       "0        배출가스인증번호      0\n",
       "1    배출가스 인증 일련번호      0\n",
       "2    배출가스 인증 1 구분      0\n",
       "3    배출가스 인증 2 구분    289\n",
       "4    국내 수입 제작사 구분    687\n",
       "5         배출가스 차종    206\n",
       "6              연료    232\n",
       "7        동일 차종 유형  70570\n",
       "8      배출가스 인증 일자     55\n",
       "9           제작사 명    769\n",
       "10          제조사 명    171\n",
       "11          원산지 명  49797\n",
       "12     배출가스 인증 상태     44\n",
       "13  배출가스 인증 무효 일자  79364\n",
       "14  배출가스 인증 무효 사유  79680\n",
       "15     기본차 제원관리번호  19077\n",
       "16  대표차 배출가스 인증번호  53625\n",
       "17       대표차 차대번호  24028\n",
       "18  배출가스 허용 기준 코드  61979\n",
       "19        배출가스 등급  55802\n",
       "20          저장 일자     10"
      ]
     },
     "execution_count": 20,
     "metadata": {},
     "output_type": "execute_result"
    }
   ],
   "source": [
    "nul = emis_certi_mig1.isnull().sum().reset_index()\n",
    "nul.columns = ['내용', '결측 값']\n",
    "nul"
   ]
  },
  {
   "cell_type": "code",
   "execution_count": 22,
   "metadata": {},
   "outputs": [
    {
     "data": {
      "text/html": [
       "<div>\n",
       "<style scoped>\n",
       "    .dataframe tbody tr th:only-of-type {\n",
       "        vertical-align: middle;\n",
       "    }\n",
       "\n",
       "    .dataframe tbody tr th {\n",
       "        vertical-align: top;\n",
       "    }\n",
       "\n",
       "    .dataframe thead th {\n",
       "        text-align: right;\n",
       "    }\n",
       "</style>\n",
       "<table border=\"1\" class=\"dataframe\">\n",
       "  <thead>\n",
       "    <tr style=\"text-align: right;\">\n",
       "      <th></th>\n",
       "      <th>컬럼명</th>\n",
       "      <th>내용</th>\n",
       "      <th>결측 값</th>\n",
       "    </tr>\n",
       "  </thead>\n",
       "  <tbody>\n",
       "    <tr>\n",
       "      <th>0</th>\n",
       "      <td>STRE_DE</td>\n",
       "      <td>저장 일자</td>\n",
       "      <td>10.00</td>\n",
       "    </tr>\n",
       "    <tr>\n",
       "      <th>1</th>\n",
       "      <td>MKR_NM</td>\n",
       "      <td>제작사 명</td>\n",
       "      <td>769.00</td>\n",
       "    </tr>\n",
       "    <tr>\n",
       "      <th>2</th>\n",
       "      <td>FUEL</td>\n",
       "      <td>연료</td>\n",
       "      <td>232.00</td>\n",
       "    </tr>\n",
       "    <tr>\n",
       "      <th>3</th>\n",
       "      <td>EMIS_CRTC_DE</td>\n",
       "      <td>배출가스 인증 일자</td>\n",
       "      <td>55.00</td>\n",
       "    </tr>\n",
       "    <tr>\n",
       "      <th>4</th>\n",
       "      <td>EMIS_CRTCNO</td>\n",
       "      <td>배출가스인증번호</td>\n",
       "      <td>0.00</td>\n",
       "    </tr>\n",
       "    <tr>\n",
       "      <th>5</th>\n",
       "      <td>EMIS_PERM_STDR_CD</td>\n",
       "      <td>배출가스 허용 기준 코드</td>\n",
       "      <td>61979.00</td>\n",
       "    </tr>\n",
       "    <tr>\n",
       "      <th>6</th>\n",
       "      <td>EMIS_VHCTY</td>\n",
       "      <td>배출가스 차종</td>\n",
       "      <td>206.00</td>\n",
       "    </tr>\n",
       "    <tr>\n",
       "      <th>7</th>\n",
       "      <td>EMIS_CRTC_UNAVBL_RESN</td>\n",
       "      <td>배출가스 인증 무효 사유</td>\n",
       "      <td>79680.00</td>\n",
       "    </tr>\n",
       "    <tr>\n",
       "      <th>8</th>\n",
       "      <td>EMIS_CRTC_2_SE</td>\n",
       "      <td>배출가스 인증 2 구분</td>\n",
       "      <td>289.00</td>\n",
       "    </tr>\n",
       "    <tr>\n",
       "      <th>9</th>\n",
       "      <td>EMIS_CRTC_STUS</td>\n",
       "      <td>배출가스 인증 상태</td>\n",
       "      <td>44.00</td>\n",
       "    </tr>\n",
       "    <tr>\n",
       "      <th>10</th>\n",
       "      <td>EMIS_CRTC_SNO</td>\n",
       "      <td>배출가스 인증 일련번호</td>\n",
       "      <td>0.00</td>\n",
       "    </tr>\n",
       "    <tr>\n",
       "      <th>11</th>\n",
       "      <td>EMIS_CRTC_UNAVBL_DE</td>\n",
       "      <td>배출가스 인증 무효 일자</td>\n",
       "      <td>79364.00</td>\n",
       "    </tr>\n",
       "    <tr>\n",
       "      <th>12</th>\n",
       "      <td>EMIS_CRTC_1_SE</td>\n",
       "      <td>배출가스 인증 1 구분</td>\n",
       "      <td>0.00</td>\n",
       "    </tr>\n",
       "    <tr>\n",
       "      <th>13</th>\n",
       "      <td>EMIS_GRD</td>\n",
       "      <td>배출가스 등급</td>\n",
       "      <td>55802.00</td>\n",
       "    </tr>\n",
       "    <tr>\n",
       "      <th>14</th>\n",
       "      <td>SAME_VHCTY_TY</td>\n",
       "      <td>동일 차종 유형</td>\n",
       "      <td>70570.00</td>\n",
       "    </tr>\n",
       "    <tr>\n",
       "      <th>15</th>\n",
       "      <td>REPCAR_VIN</td>\n",
       "      <td>대표차 차대번호</td>\n",
       "      <td>24028.00</td>\n",
       "    </tr>\n",
       "    <tr>\n",
       "      <th>16</th>\n",
       "      <td>REPCAR_EMIS_CRTCNO</td>\n",
       "      <td>대표차 배출가스 인증번호</td>\n",
       "      <td>53625.00</td>\n",
       "    </tr>\n",
       "    <tr>\n",
       "      <th>17</th>\n",
       "      <td>ORGCAR_SRCMNNO</td>\n",
       "      <td>기본차 제원관리번호</td>\n",
       "      <td>19077.00</td>\n",
       "    </tr>\n",
       "    <tr>\n",
       "      <th>18</th>\n",
       "      <td>DMSTC_INCM_MKR_SE</td>\n",
       "      <td>국내 수입 제작사 구분</td>\n",
       "      <td>687.00</td>\n",
       "    </tr>\n",
       "    <tr>\n",
       "      <th>19</th>\n",
       "      <td>MNFCT_NM</td>\n",
       "      <td>제조사 명</td>\n",
       "      <td>171.00</td>\n",
       "    </tr>\n",
       "    <tr>\n",
       "      <th>20</th>\n",
       "      <td>PLOR_NM</td>\n",
       "      <td>원산지 명</td>\n",
       "      <td>49797.00</td>\n",
       "    </tr>\n",
       "    <tr>\n",
       "      <th>21</th>\n",
       "      <td>RECP_FILE_NM</td>\n",
       "      <td>미정</td>\n",
       "      <td>NaN</td>\n",
       "    </tr>\n",
       "    <tr>\n",
       "      <th>22</th>\n",
       "      <td>SRCMNNO</td>\n",
       "      <td>미정</td>\n",
       "      <td>NaN</td>\n",
       "    </tr>\n",
       "  </tbody>\n",
       "</table>\n",
       "</div>"
      ],
      "text/plain": [
       "                      컬럼명             내용     결측 값\n",
       "0                 STRE_DE          저장 일자    10.00\n",
       "1                  MKR_NM          제작사 명   769.00\n",
       "2                    FUEL             연료   232.00\n",
       "3            EMIS_CRTC_DE     배출가스 인증 일자    55.00\n",
       "4             EMIS_CRTCNO       배출가스인증번호     0.00\n",
       "5       EMIS_PERM_STDR_CD  배출가스 허용 기준 코드 61979.00\n",
       "6              EMIS_VHCTY        배출가스 차종   206.00\n",
       "7   EMIS_CRTC_UNAVBL_RESN  배출가스 인증 무효 사유 79680.00\n",
       "8          EMIS_CRTC_2_SE   배출가스 인증 2 구분   289.00\n",
       "9          EMIS_CRTC_STUS     배출가스 인증 상태    44.00\n",
       "10          EMIS_CRTC_SNO   배출가스 인증 일련번호     0.00\n",
       "11    EMIS_CRTC_UNAVBL_DE  배출가스 인증 무효 일자 79364.00\n",
       "12         EMIS_CRTC_1_SE   배출가스 인증 1 구분     0.00\n",
       "13               EMIS_GRD        배출가스 등급 55802.00\n",
       "14          SAME_VHCTY_TY       동일 차종 유형 70570.00\n",
       "15             REPCAR_VIN       대표차 차대번호 24028.00\n",
       "16     REPCAR_EMIS_CRTCNO  대표차 배출가스 인증번호 53625.00\n",
       "17         ORGCAR_SRCMNNO     기본차 제원관리번호 19077.00\n",
       "18      DMSTC_INCM_MKR_SE   국내 수입 제작사 구분   687.00\n",
       "19               MNFCT_NM          제조사 명   171.00\n",
       "20                PLOR_NM          원산지 명 49797.00\n",
       "21           RECP_FILE_NM             미정      NaN\n",
       "22                SRCMNNO             미정      NaN"
      ]
     },
     "execution_count": 22,
     "metadata": {},
     "output_type": "execute_result"
    }
   ],
   "source": [
    "col2 = col.merge(nul, on='내용', how='left')\n",
    "col2"
   ]
  },
  {
   "attachments": {},
   "cell_type": "markdown",
   "metadata": {},
   "source": [
    "# 4\\. 배출가스 인증시험"
   ]
  },
  {
   "cell_type": "code",
   "execution_count": 23,
   "metadata": {},
   "outputs": [
    {
     "name": "stdout",
     "output_type": "stream",
     "text": [
      "<class 'pandas.core.frame.DataFrame'>\n",
      "RangeIndex: 86406 entries, 0 to 86405\n",
      "Data columns (total 23 columns):\n",
      " #   Column                  Non-Null Count  Dtype  \n",
      "---  ------                  --------------  -----  \n",
      " 0   EMIS_CRTCNO             86406 non-null  object \n",
      " 1   EMIS_CRTC_SNO           86406 non-null  int64  \n",
      " 2   EMIS_TEST_MOD_VAL       85442 non-null  object \n",
      " 3   CO_PERM_STDR_VAL        16761 non-null  float64\n",
      " 4   CO_TEST_RSLT            17868 non-null  float64\n",
      " 5   NMOG_PERM_STDR_VAL      43 non-null     float64\n",
      " 6   NMOG_TEST_RSLT          3116 non-null   float64\n",
      " 7   NMHC_PERM_STDR_VAL      20 non-null     float64\n",
      " 8   NMHC_TEST_RSLT          268 non-null    float64\n",
      " 9   HC_PERM_STDR_VAL        12176 non-null  float64\n",
      " 10  HC_TEST_RSLT            12236 non-null  float64\n",
      " 11  NOX_PERM_STDR_VAL       13893 non-null  float64\n",
      " 12  NOX_TEST_RSLT           16856 non-null  float64\n",
      " 13  NMOG_NOX_PERM_STDR_VAL  4229 non-null   float64\n",
      " 14  NMOG_NOX_TEST_RSLT      4783 non-null   float64\n",
      " 15  HC_NOX_PERM_STDR_VAL    8513 non-null   float64\n",
      " 16  HC_NOX_TEST_RSLT        8548 non-null   float64\n",
      " 17  PM_PERM_STDR_VAL        2770 non-null   float64\n",
      " 18  PM_TEST_RSLT            6460 non-null   float64\n",
      " 19  PN_PERM_STDR_VAL        1978 non-null   float64\n",
      " 20  PN_TEST_RSLT            0 non-null      float64\n",
      " 21  RECP_FILE_NM            86406 non-null  object \n",
      " 22  STRE_DE                 86406 non-null  object \n",
      "dtypes: float64(18), int64(1), object(4)\n",
      "memory usage: 15.2+ MB\n"
     ]
    }
   ],
   "source": [
    "name = 'CEG_EMIS_CERTI_TEST_MIG'\n",
    "file_name = f'ODS_{name}.csv'\n",
    "emis_certi_test_mig = pd.read_csv(os.path.join(ods_fold, file_name), low_memory=False)\n",
    "emis_certi_test_mig.info()"
   ]
  },
  {
   "cell_type": "code",
   "execution_count": 24,
   "metadata": {},
   "outputs": [
    {
     "data": {
      "text/plain": [
       "Index(['배출가스 인증번호', '배출가스 인증 일련번호', '배출가스 시험 모드 값', '일산화탄소 허용 기준 값',\n",
       "       '일산화탄소 시험 결과', '탄화수소1 허용 기준 값', '탄화수소1 시험 결과', '탄화수소2 허용 기준 값',\n",
       "       '탄화수소2 시험 결과', '탄화수소3 허용 기준 값', '탄화수소3 시험 결과', '질소산화물 허용 기준 값',\n",
       "       '질소산화물 시험 결과', '탄화수소1 질소산화물 허용 기준 값', '탄화수소1 질소산화물 시험 결과',\n",
       "       '탄화수소3 질소산화물 허용 기준 값', '탄화수소3 질소산화물 시험 결과', '입자상물질 허용 기준 값',\n",
       "       '입자상물질 시험 결과', '입자개수 허용 기준 값', '입자개수 시험 결과', '미정', '미정'],\n",
       "      dtype='object')"
      ]
     },
     "execution_count": 24,
     "metadata": {},
     "output_type": "execute_result"
    }
   ],
   "source": [
    "file_name = f'[정제]{name}.xlsx'\n",
    "col_df = pd.read_excel(os.path.join(col_fold, file_name), sheet_name='ODS_col')\n",
    "col_dict = {a:b for a,b in col_df[['컬럼', '내용']].values}\n",
    "emis_certi_test_mig.columns = [col_dict[x] for x in emis_certi_test_mig.columns]\n",
    "emis_certi_test_mig.columns"
   ]
  },
  {
   "cell_type": "code",
   "execution_count": 25,
   "metadata": {},
   "outputs": [],
   "source": [
    "emis_certi_test_mig1 = emis_certi_test_mig[['배출가스 인증번호', '배출가스 인증 일련번호', '배출가스 시험 모드 값', '일산화탄소 허용 기준 값',\n",
    "       '일산화탄소 시험 결과', '탄화수소1 허용 기준 값', '탄화수소1 시험 결과', '탄화수소2 허용 기준 값',\n",
    "       '탄화수소2 시험 결과', '탄화수소3 허용 기준 값', '탄화수소3 시험 결과', '질소산화물 허용 기준 값',\n",
    "       '질소산화물 시험 결과', '탄화수소1 질소산화물 허용 기준 값', '탄화수소1 질소산화물 시험 결과',\n",
    "       '탄화수소3 질소산화물 허용 기준 값', '탄화수소3 질소산화물 시험 결과', '입자상물질 허용 기준 값',\n",
    "       '입자상물질 시험 결과', '입자개수 허용 기준 값', '입자개수 시험 결과']]"
   ]
  },
  {
   "cell_type": "code",
   "execution_count": 26,
   "metadata": {},
   "outputs": [
    {
     "data": {
      "text/plain": [
       "배출가스 인증번호                  0\n",
       "배출가스 인증 일련번호               0\n",
       "배출가스 시험 모드 값             964\n",
       "일산화탄소 허용 기준 값          69645\n",
       "일산화탄소 시험 결과            68538\n",
       "탄화수소1 허용 기준 값          86363\n",
       "탄화수소1 시험 결과            83290\n",
       "탄화수소2 허용 기준 값          86386\n",
       "탄화수소2 시험 결과            86138\n",
       "탄화수소3 허용 기준 값          74230\n",
       "탄화수소3 시험 결과            74170\n",
       "질소산화물 허용 기준 값          72513\n",
       "질소산화물 시험 결과            69550\n",
       "탄화수소1 질소산화물 허용 기준 값    82177\n",
       "탄화수소1 질소산화물 시험 결과      81623\n",
       "탄화수소3 질소산화물 허용 기준 값    77893\n",
       "탄화수소3 질소산화물 시험 결과      77858\n",
       "입자상물질 허용 기준 값          83636\n",
       "입자상물질 시험 결과            79946\n",
       "입자개수 허용 기준 값           84428\n",
       "입자개수 시험 결과             86406\n",
       "dtype: int64"
      ]
     },
     "execution_count": 26,
     "metadata": {},
     "output_type": "execute_result"
    }
   ],
   "source": [
    "emis_certi_test_mig1.isnull().sum()"
   ]
  },
  {
   "cell_type": "code",
   "execution_count": 27,
   "metadata": {},
   "outputs": [
    {
     "data": {
      "text/html": [
       "<div>\n",
       "<style scoped>\n",
       "    .dataframe tbody tr th:only-of-type {\n",
       "        vertical-align: middle;\n",
       "    }\n",
       "\n",
       "    .dataframe tbody tr th {\n",
       "        vertical-align: top;\n",
       "    }\n",
       "\n",
       "    .dataframe thead th {\n",
       "        text-align: right;\n",
       "    }\n",
       "</style>\n",
       "<table border=\"1\" class=\"dataframe\">\n",
       "  <thead>\n",
       "    <tr style=\"text-align: right;\">\n",
       "      <th></th>\n",
       "      <th>컬럼명</th>\n",
       "      <th>내용</th>\n",
       "      <th>결측 값</th>\n",
       "    </tr>\n",
       "  </thead>\n",
       "  <tbody>\n",
       "    <tr>\n",
       "      <th>0</th>\n",
       "      <td>PN_PERM_STDR_VAL</td>\n",
       "      <td>입자개수 허용 기준 값</td>\n",
       "      <td>84428.00</td>\n",
       "    </tr>\n",
       "    <tr>\n",
       "      <th>1</th>\n",
       "      <td>NOX_PERM_STDR_VAL</td>\n",
       "      <td>질소산화물 허용 기준 값</td>\n",
       "      <td>72513.00</td>\n",
       "    </tr>\n",
       "    <tr>\n",
       "      <th>2</th>\n",
       "      <td>PM_PERM_STDR_VAL</td>\n",
       "      <td>입자상물질 허용 기준 값</td>\n",
       "      <td>83636.00</td>\n",
       "    </tr>\n",
       "    <tr>\n",
       "      <th>3</th>\n",
       "      <td>NOX_TEST_RSLT</td>\n",
       "      <td>질소산화물 시험 결과</td>\n",
       "      <td>69550.00</td>\n",
       "    </tr>\n",
       "    <tr>\n",
       "      <th>4</th>\n",
       "      <td>PN_TEST_RSLT</td>\n",
       "      <td>입자개수 시험 결과</td>\n",
       "      <td>86406.00</td>\n",
       "    </tr>\n",
       "    <tr>\n",
       "      <th>5</th>\n",
       "      <td>CO_PERM_STDR_VAL</td>\n",
       "      <td>일산화탄소 허용 기준 값</td>\n",
       "      <td>69645.00</td>\n",
       "    </tr>\n",
       "    <tr>\n",
       "      <th>6</th>\n",
       "      <td>CO_TEST_RSLT</td>\n",
       "      <td>일산화탄소 시험 결과</td>\n",
       "      <td>68538.00</td>\n",
       "    </tr>\n",
       "    <tr>\n",
       "      <th>7</th>\n",
       "      <td>EMIS_CRTCNO</td>\n",
       "      <td>배출가스 인증번호</td>\n",
       "      <td>0.00</td>\n",
       "    </tr>\n",
       "    <tr>\n",
       "      <th>8</th>\n",
       "      <td>EMIS_CRTC_SNO</td>\n",
       "      <td>배출가스 인증 일련번호</td>\n",
       "      <td>0.00</td>\n",
       "    </tr>\n",
       "    <tr>\n",
       "      <th>9</th>\n",
       "      <td>EMIS_TEST_MOD_VAL</td>\n",
       "      <td>배출가스 시험 모드 값</td>\n",
       "      <td>964.00</td>\n",
       "    </tr>\n",
       "    <tr>\n",
       "      <th>10</th>\n",
       "      <td>HC_PERM_STDR_VAL</td>\n",
       "      <td>탄화수소3 허용 기준 값</td>\n",
       "      <td>74230.00</td>\n",
       "    </tr>\n",
       "    <tr>\n",
       "      <th>11</th>\n",
       "      <td>HC_NOX_PERM_STDR_VAL</td>\n",
       "      <td>탄화수소3 질소산화물 허용 기준 값</td>\n",
       "      <td>77893.00</td>\n",
       "    </tr>\n",
       "    <tr>\n",
       "      <th>12</th>\n",
       "      <td>HC_NOX_TEST_RSLT</td>\n",
       "      <td>탄화수소3 질소산화물 시험 결과</td>\n",
       "      <td>77858.00</td>\n",
       "    </tr>\n",
       "    <tr>\n",
       "      <th>13</th>\n",
       "      <td>HC_TEST_RSLT</td>\n",
       "      <td>탄화수소3 시험 결과</td>\n",
       "      <td>74170.00</td>\n",
       "    </tr>\n",
       "    <tr>\n",
       "      <th>14</th>\n",
       "      <td>NMHC_PERM_STDR_VAL</td>\n",
       "      <td>탄화수소2 허용 기준 값</td>\n",
       "      <td>86386.00</td>\n",
       "    </tr>\n",
       "    <tr>\n",
       "      <th>15</th>\n",
       "      <td>NMHC_TEST_RSLT</td>\n",
       "      <td>탄화수소2 시험 결과</td>\n",
       "      <td>86138.00</td>\n",
       "    </tr>\n",
       "    <tr>\n",
       "      <th>16</th>\n",
       "      <td>NMOG_PERM_STDR_VAL</td>\n",
       "      <td>탄화수소1 허용 기준 값</td>\n",
       "      <td>86363.00</td>\n",
       "    </tr>\n",
       "    <tr>\n",
       "      <th>17</th>\n",
       "      <td>NMOG_NOX_PERM_STDR_VAL</td>\n",
       "      <td>탄화수소1 질소산화물 허용 기준 값</td>\n",
       "      <td>82177.00</td>\n",
       "    </tr>\n",
       "    <tr>\n",
       "      <th>18</th>\n",
       "      <td>NMOG_NOX_TEST_RSLT</td>\n",
       "      <td>탄화수소1 질소산화물 시험 결과</td>\n",
       "      <td>81623.00</td>\n",
       "    </tr>\n",
       "    <tr>\n",
       "      <th>19</th>\n",
       "      <td>NMOG_TEST_RSLT</td>\n",
       "      <td>탄화수소1 시험 결과</td>\n",
       "      <td>83290.00</td>\n",
       "    </tr>\n",
       "    <tr>\n",
       "      <th>20</th>\n",
       "      <td>PM_TEST_RSLT</td>\n",
       "      <td>입자상물질 시험 결과</td>\n",
       "      <td>79946.00</td>\n",
       "    </tr>\n",
       "    <tr>\n",
       "      <th>21</th>\n",
       "      <td>RECP_FILE_NM</td>\n",
       "      <td>미정</td>\n",
       "      <td>NaN</td>\n",
       "    </tr>\n",
       "    <tr>\n",
       "      <th>22</th>\n",
       "      <td>STRE_DE</td>\n",
       "      <td>미정</td>\n",
       "      <td>NaN</td>\n",
       "    </tr>\n",
       "  </tbody>\n",
       "</table>\n",
       "</div>"
      ],
      "text/plain": [
       "                       컬럼명                   내용     결측 값\n",
       "0         PN_PERM_STDR_VAL         입자개수 허용 기준 값 84428.00\n",
       "1        NOX_PERM_STDR_VAL        질소산화물 허용 기준 값 72513.00\n",
       "2         PM_PERM_STDR_VAL        입자상물질 허용 기준 값 83636.00\n",
       "3            NOX_TEST_RSLT          질소산화물 시험 결과 69550.00\n",
       "4             PN_TEST_RSLT           입자개수 시험 결과 86406.00\n",
       "5         CO_PERM_STDR_VAL        일산화탄소 허용 기준 값 69645.00\n",
       "6             CO_TEST_RSLT          일산화탄소 시험 결과 68538.00\n",
       "7              EMIS_CRTCNO            배출가스 인증번호     0.00\n",
       "8            EMIS_CRTC_SNO         배출가스 인증 일련번호     0.00\n",
       "9        EMIS_TEST_MOD_VAL         배출가스 시험 모드 값   964.00\n",
       "10        HC_PERM_STDR_VAL        탄화수소3 허용 기준 값 74230.00\n",
       "11    HC_NOX_PERM_STDR_VAL  탄화수소3 질소산화물 허용 기준 값 77893.00\n",
       "12        HC_NOX_TEST_RSLT    탄화수소3 질소산화물 시험 결과 77858.00\n",
       "13            HC_TEST_RSLT          탄화수소3 시험 결과 74170.00\n",
       "14      NMHC_PERM_STDR_VAL        탄화수소2 허용 기준 값 86386.00\n",
       "15          NMHC_TEST_RSLT          탄화수소2 시험 결과 86138.00\n",
       "16      NMOG_PERM_STDR_VAL        탄화수소1 허용 기준 값 86363.00\n",
       "17  NMOG_NOX_PERM_STDR_VAL  탄화수소1 질소산화물 허용 기준 값 82177.00\n",
       "18      NMOG_NOX_TEST_RSLT    탄화수소1 질소산화물 시험 결과 81623.00\n",
       "19          NMOG_TEST_RSLT          탄화수소1 시험 결과 83290.00\n",
       "20            PM_TEST_RSLT          입자상물질 시험 결과 79946.00\n",
       "21            RECP_FILE_NM                   미정      NaN\n",
       "22                 STRE_DE                   미정      NaN"
      ]
     },
     "execution_count": 27,
     "metadata": {},
     "output_type": "execute_result"
    }
   ],
   "source": [
    "col = pd.DataFrame(col_dict, index=['내용']).T.reset_index()\n",
    "col.columns = ['컬럼명', '내용']\n",
    "nul = emis_certi_test_mig1.isnull().sum().reset_index()\n",
    "nul.columns = ['내용', '결측 값']\n",
    "col2 = col.merge(nul, on='내용', how='left')\n",
    "col2"
   ]
  },
  {
   "attachments": {},
   "cell_type": "markdown",
   "metadata": {},
   "source": [
    "# 5\\. 배출가스인증 자동차정보"
   ]
  },
  {
   "cell_type": "code",
   "execution_count": 102,
   "metadata": {},
   "outputs": [
    {
     "name": "stdout",
     "output_type": "stream",
     "text": [
      "<class 'pandas.core.frame.DataFrame'>\n",
      "RangeIndex: 86406 entries, 0 to 86405\n",
      "Data columns (total 23 columns):\n",
      " #   Column               Non-Null Count  Dtype  \n",
      "---  ------               --------------  -----  \n",
      " 0   배출가스 인증번호            86406 non-null  object \n",
      " 1   배출가스 인증 일련번호         86406 non-null  int64  \n",
      " 2   배출가스 시험 모드 값         85442 non-null  object \n",
      " 3   일산화탄소 허용 기준 값        16761 non-null  float64\n",
      " 4   일산화탄소 시험 결과          17868 non-null  float64\n",
      " 5   탄화수소1 허용 기준 값        43 non-null     float64\n",
      " 6   탄화수소1 시험 결과          3116 non-null   float64\n",
      " 7   탄화수소2 허용 기준 값        20 non-null     float64\n",
      " 8   탄화수소2 시험 결과          268 non-null    float64\n",
      " 9   탄화수소3 허용 기준 값        12176 non-null  float64\n",
      " 10  탄화수소3 시험 결과          12236 non-null  float64\n",
      " 11  질소산화물 허용 기준 값        13893 non-null  float64\n",
      " 12  질소산화물 시험 결과          16856 non-null  float64\n",
      " 13  탄화수소1 질소산화물 허용 기준 값  4229 non-null   float64\n",
      " 14  탄화수소1 질소산화물 시험 결과    4783 non-null   float64\n",
      " 15  탄화수소3 질소산화물 허용 기준 값  8513 non-null   float64\n",
      " 16  탄화수소3 질소산화물 시험 결과    8548 non-null   float64\n",
      " 17  입자상물질 허용 기준 값        2770 non-null   float64\n",
      " 18  입자상물질 시험 결과          6460 non-null   float64\n",
      " 19  입자개수 허용 기준 값         1978 non-null   float64\n",
      " 20  입자개수 시험 결과           0 non-null      float64\n",
      " 21  미정                   86406 non-null  object \n",
      " 22  미정                   86406 non-null  object \n",
      "dtypes: float64(18), int64(1), object(4)\n",
      "memory usage: 15.2+ MB\n"
     ]
    }
   ],
   "source": [
    "name = 'CEG_EMIS_CERTI_VEH_MIG'\n",
    "file_name = f'ODS_{name}.csv'\n",
    "emis_certi_veh_mig = pd.read_csv(os.path.join(ods_fold, file_name), low_memory=False)\n",
    "emis_certi_test_mig.info()"
   ]
  },
  {
   "cell_type": "code",
   "execution_count": 103,
   "metadata": {},
   "outputs": [
    {
     "data": {
      "text/plain": [
       "Index(['배출가스 인증번호', '배출가스 인증 일련번호', '차량 일련번호', '차명', '자동차 형식', '차대번호',\n",
       "       '배출가스 차종', '차량 연식', '구동 형식', '용도', '변속기 종류', '공차중량', '총 중량', '엔진형식',\n",
       "       '배기량', '연료', '엔진출력', '차량 길이 정보', '차량 너비 정보', '차량 높이 정보', '승차 인원 정보',\n",
       "       '미정', '미정', '미정', '저장 일자'],\n",
       "      dtype='object')"
      ]
     },
     "execution_count": 103,
     "metadata": {},
     "output_type": "execute_result"
    }
   ],
   "source": [
    "file_name = f'[정제]{name}.xlsx'\n",
    "col_df = pd.read_excel(os.path.join(col_fold, file_name), sheet_name='ODS_col')\n",
    "col_dict = {a:b for a,b in col_df[['컬럼', '내용']].values}\n",
    "emis_certi_veh_mig.columns = [col_dict[x] for x in emis_certi_veh_mig.columns]\n",
    "emis_certi_veh_mig.columns"
   ]
  },
  {
   "cell_type": "code",
   "execution_count": 104,
   "metadata": {},
   "outputs": [],
   "source": [
    "emis_certi_veh_mig1 = emis_certi_veh_mig[['배출가스 인증번호', '배출가스 인증 일련번호', '차량 일련번호', '차명', '자동차 형식', '차대번호',\n",
    "       '배출가스 차종', '차량 연식', '구동 형식', '용도', '변속기 종류', '공차중량', '총 중량', '엔진형식',\n",
    "       '배기량', '연료', '엔진출력', '차량 길이 정보', '차량 너비 정보', '차량 높이 정보', '승차 인원 정보',\n",
    "       '저장 일자']]"
   ]
  },
  {
   "cell_type": "code",
   "execution_count": 105,
   "metadata": {},
   "outputs": [
    {
     "data": {
      "text/plain": [
       "배출가스 인증번호           0\n",
       "배출가스 인증 일련번호        0\n",
       "차량 일련번호             0\n",
       "차명                 28\n",
       "자동차 형식             88\n",
       "차대번호            36771\n",
       "배출가스 차종         25228\n",
       "차량 연식            4937\n",
       "구동 형식           18127\n",
       "용도              12319\n",
       "변속기 종류            416\n",
       "공차중량              103\n",
       "총 중량              242\n",
       "엔진형식              990\n",
       "배기량              1020\n",
       "연료                523\n",
       "엔진출력             9594\n",
       "차량 길이 정보         6610\n",
       "차량 너비 정보         6607\n",
       "차량 높이 정보         6609\n",
       "승차 인원 정보        26770\n",
       "저장 일자               4\n",
       "dtype: int64"
      ]
     },
     "execution_count": 105,
     "metadata": {},
     "output_type": "execute_result"
    }
   ],
   "source": [
    "emis_certi_veh_mig1.isnull().sum()"
   ]
  },
  {
   "cell_type": "code",
   "execution_count": 106,
   "metadata": {},
   "outputs": [
    {
     "data": {
      "text/html": [
       "<div>\n",
       "<style scoped>\n",
       "    .dataframe tbody tr th:only-of-type {\n",
       "        vertical-align: middle;\n",
       "    }\n",
       "\n",
       "    .dataframe tbody tr th {\n",
       "        vertical-align: top;\n",
       "    }\n",
       "\n",
       "    .dataframe thead th {\n",
       "        text-align: right;\n",
       "    }\n",
       "</style>\n",
       "<table border=\"1\" class=\"dataframe\">\n",
       "  <thead>\n",
       "    <tr style=\"text-align: right;\">\n",
       "      <th></th>\n",
       "      <th>컬럼명</th>\n",
       "      <th>내용</th>\n",
       "      <th>결측 값</th>\n",
       "    </tr>\n",
       "  </thead>\n",
       "  <tbody>\n",
       "    <tr>\n",
       "      <th>0</th>\n",
       "      <td>EMIS_VHCTY</td>\n",
       "      <td>배출가스 차종</td>\n",
       "      <td>25228.00</td>\n",
       "    </tr>\n",
       "    <tr>\n",
       "      <th>1</th>\n",
       "      <td>EMPV_WGHT</td>\n",
       "      <td>공차중량</td>\n",
       "      <td>103.00</td>\n",
       "    </tr>\n",
       "    <tr>\n",
       "      <th>2</th>\n",
       "      <td>PURPS</td>\n",
       "      <td>용도</td>\n",
       "      <td>12319.00</td>\n",
       "    </tr>\n",
       "    <tr>\n",
       "      <th>3</th>\n",
       "      <td>EMIS_CRTCNO</td>\n",
       "      <td>배출가스 인증번호</td>\n",
       "      <td>0.00</td>\n",
       "    </tr>\n",
       "    <tr>\n",
       "      <th>4</th>\n",
       "      <td>EMIS_CRTC_SNO</td>\n",
       "      <td>배출가스 인증 일련번호</td>\n",
       "      <td>0.00</td>\n",
       "    </tr>\n",
       "    <tr>\n",
       "      <th>5</th>\n",
       "      <td>DSPLVL</td>\n",
       "      <td>배기량</td>\n",
       "      <td>1020.00</td>\n",
       "    </tr>\n",
       "    <tr>\n",
       "      <th>6</th>\n",
       "      <td>DRV_FRM</td>\n",
       "      <td>구동 형식</td>\n",
       "      <td>18127.00</td>\n",
       "    </tr>\n",
       "    <tr>\n",
       "      <th>7</th>\n",
       "      <td>FUEL</td>\n",
       "      <td>연료</td>\n",
       "      <td>523.00</td>\n",
       "    </tr>\n",
       "    <tr>\n",
       "      <th>8</th>\n",
       "      <td>EGINTY</td>\n",
       "      <td>엔진형식</td>\n",
       "      <td>990.00</td>\n",
       "    </tr>\n",
       "    <tr>\n",
       "      <th>9</th>\n",
       "      <td>EGINPWR</td>\n",
       "      <td>엔진출력</td>\n",
       "      <td>9594.00</td>\n",
       "    </tr>\n",
       "    <tr>\n",
       "      <th>10</th>\n",
       "      <td>VIN</td>\n",
       "      <td>차대번호</td>\n",
       "      <td>36771.00</td>\n",
       "    </tr>\n",
       "    <tr>\n",
       "      <th>11</th>\n",
       "      <td>TKCAR_NMPR_INFO</td>\n",
       "      <td>승차 인원 정보</td>\n",
       "      <td>26770.00</td>\n",
       "    </tr>\n",
       "    <tr>\n",
       "      <th>12</th>\n",
       "      <td>GEARBOX_KND</td>\n",
       "      <td>변속기 종류</td>\n",
       "      <td>416.00</td>\n",
       "    </tr>\n",
       "    <tr>\n",
       "      <th>13</th>\n",
       "      <td>STRE_DE</td>\n",
       "      <td>저장 일자</td>\n",
       "      <td>4.00</td>\n",
       "    </tr>\n",
       "    <tr>\n",
       "      <th>14</th>\n",
       "      <td>VHCL_LT_INFO</td>\n",
       "      <td>차량 길이 정보</td>\n",
       "      <td>6610.00</td>\n",
       "    </tr>\n",
       "    <tr>\n",
       "      <th>15</th>\n",
       "      <td>VHCL_WH_INFO</td>\n",
       "      <td>차량 너비 정보</td>\n",
       "      <td>6607.00</td>\n",
       "    </tr>\n",
       "    <tr>\n",
       "      <th>16</th>\n",
       "      <td>VHCL_HG_INFO</td>\n",
       "      <td>차량 높이 정보</td>\n",
       "      <td>6609.00</td>\n",
       "    </tr>\n",
       "    <tr>\n",
       "      <th>17</th>\n",
       "      <td>VHCL_YRIDNW</td>\n",
       "      <td>차량 연식</td>\n",
       "      <td>4937.00</td>\n",
       "    </tr>\n",
       "    <tr>\n",
       "      <th>18</th>\n",
       "      <td>VHCL_SNO</td>\n",
       "      <td>차량 일련번호</td>\n",
       "      <td>0.00</td>\n",
       "    </tr>\n",
       "    <tr>\n",
       "      <th>19</th>\n",
       "      <td>VHCNM</td>\n",
       "      <td>차명</td>\n",
       "      <td>28.00</td>\n",
       "    </tr>\n",
       "    <tr>\n",
       "      <th>20</th>\n",
       "      <td>TOT_WGHT</td>\n",
       "      <td>총 중량</td>\n",
       "      <td>242.00</td>\n",
       "    </tr>\n",
       "    <tr>\n",
       "      <th>21</th>\n",
       "      <td>CAR_FRM</td>\n",
       "      <td>자동차 형식</td>\n",
       "      <td>88.00</td>\n",
       "    </tr>\n",
       "    <tr>\n",
       "      <th>22</th>\n",
       "      <td>TIRE_MG_PRE_DTL</td>\n",
       "      <td>미정</td>\n",
       "      <td>NaN</td>\n",
       "    </tr>\n",
       "    <tr>\n",
       "      <th>23</th>\n",
       "      <td>TIRE_MG_RR_DTL</td>\n",
       "      <td>미정</td>\n",
       "      <td>NaN</td>\n",
       "    </tr>\n",
       "    <tr>\n",
       "      <th>24</th>\n",
       "      <td>RECP_FILE_NM</td>\n",
       "      <td>미정</td>\n",
       "      <td>NaN</td>\n",
       "    </tr>\n",
       "  </tbody>\n",
       "</table>\n",
       "</div>"
      ],
      "text/plain": [
       "                컬럼명            내용     결측 값\n",
       "0        EMIS_VHCTY       배출가스 차종 25228.00\n",
       "1         EMPV_WGHT          공차중량   103.00\n",
       "2             PURPS            용도 12319.00\n",
       "3       EMIS_CRTCNO     배출가스 인증번호     0.00\n",
       "4     EMIS_CRTC_SNO  배출가스 인증 일련번호     0.00\n",
       "5            DSPLVL           배기량  1020.00\n",
       "6           DRV_FRM         구동 형식 18127.00\n",
       "7              FUEL            연료   523.00\n",
       "8            EGINTY          엔진형식   990.00\n",
       "9           EGINPWR          엔진출력  9594.00\n",
       "10              VIN          차대번호 36771.00\n",
       "11  TKCAR_NMPR_INFO      승차 인원 정보 26770.00\n",
       "12      GEARBOX_KND        변속기 종류   416.00\n",
       "13          STRE_DE         저장 일자     4.00\n",
       "14     VHCL_LT_INFO      차량 길이 정보  6610.00\n",
       "15     VHCL_WH_INFO      차량 너비 정보  6607.00\n",
       "16     VHCL_HG_INFO      차량 높이 정보  6609.00\n",
       "17      VHCL_YRIDNW         차량 연식  4937.00\n",
       "18         VHCL_SNO       차량 일련번호     0.00\n",
       "19            VHCNM            차명    28.00\n",
       "20         TOT_WGHT          총 중량   242.00\n",
       "21          CAR_FRM        자동차 형식    88.00\n",
       "22  TIRE_MG_PRE_DTL            미정      NaN\n",
       "23   TIRE_MG_RR_DTL            미정      NaN\n",
       "24     RECP_FILE_NM            미정      NaN"
      ]
     },
     "metadata": {},
     "output_type": "display_data"
    }
   ],
   "source": [
    "col = pd.DataFrame(col_dict, index=['내용']).T.reset_index()\n",
    "col.columns = ['컬럼명', '내용']\n",
    "nul = emis_certi_veh_mig1.isnull().sum().reset_index()\n",
    "nul.columns = ['내용', '결측 값']\n",
    "col2 = col.merge(nul, on='내용', how='left')\n",
    "display(col2)"
   ]
  },
  {
   "attachments": {},
   "cell_type": "markdown",
   "metadata": {},
   "source": [
    "# 6\\. 제작차 배출 허용 기준 "
   ]
  },
  {
   "cell_type": "code",
   "execution_count": 33,
   "metadata": {},
   "outputs": [
    {
     "name": "stdout",
     "output_type": "stream",
     "text": [
      "<class 'pandas.core.frame.DataFrame'>\n",
      "RangeIndex: 1212 entries, 0 to 1211\n",
      "Data columns (total 21 columns):\n",
      " #   Column                  Non-Null Count  Dtype  \n",
      "---  ------                  --------------  -----  \n",
      " 0   EMIS_PERM_STDR_CD       1212 non-null   int64  \n",
      " 1   EMIS_PERM_STDR_SML_SE   1212 non-null   object \n",
      " 2   FUEL_GRP                1212 non-null   int64  \n",
      " 3   EMIS_VHCTY              1212 non-null   object \n",
      " 4   TEST_BGIN_WGHT          1212 non-null   object \n",
      " 5   TEST_END_WGHT           1212 non-null   object \n",
      " 6   APLI_DE                 1212 non-null   object \n",
      " 7   EMIS_TEST_MOD_VAL       1212 non-null   object \n",
      " 8   CO_PERM_STDR_VAL        1182 non-null   float64\n",
      " 9   NMOG_PERM_STDR_VAL      212 non-null    float64\n",
      " 10  NMHC_PERM_STDR_VAL      374 non-null    float64\n",
      " 11  HC_PERM_STDR_VAL        125 non-null    float64\n",
      " 12  NOX_PERM_STDR_VAL       884 non-null    float64\n",
      " 13  NMOG_NOX_PERM_STDR_VAL  328 non-null    float64\n",
      " 14  HC_NOX_PERM_STDR_VAL    151 non-null    float64\n",
      " 15  PM_PERM_STDR_VAL        651 non-null    float64\n",
      " 16  PN_PERM_STDR_VAL        64 non-null     float64\n",
      " 17  EMIS_PERM_STDR_SE       1212 non-null   int64  \n",
      " 18  EMIS_GRD_USE_YN         1066 non-null   object \n",
      " 19  EMIS_GRD                1066 non-null   float64\n",
      " 20  EMIS_PERM_STDR_LEVL     1056 non-null   object \n",
      "dtypes: float64(10), int64(3), object(8)\n",
      "memory usage: 199.0+ KB\n"
     ]
    }
   ],
   "source": [
    "name = 'CEG_EMIS_STD_MIG'\n",
    "file_name = f'ODS_{name}.csv'\n",
    "emis_std_mig = pd.read_csv(os.path.join(ods_fold, file_name), low_memory=False)\n",
    "emis_std_mig.info()"
   ]
  },
  {
   "cell_type": "code",
   "execution_count": 34,
   "metadata": {},
   "outputs": [
    {
     "data": {
      "text/plain": [
       "Index(['배출가스 허용 기준 코드', '배출가스 허용 기준 소 구분', '연료 그룹', '배출가스 차종', '시험 시작 중량',\n",
       "       '시험 끝 중량', '적용 일자', '배출가스 시험 모드 값', '일산화탄소 허용 기준 값', '탄화수소1 허용 기준 값',\n",
       "       '탄화수소2 허용 기준 값', '탄화수소3 허용기준 값', '질소산화물 허용 기준 값', '탄화수소1 질소산화물 허용 기준 값',\n",
       "       '탄화수소3 질소산화물 허용 기준 값', '입자상물질 허용 기준 값', '입자개수 허용 기준 값', '배출가스 허용 기준 구분',\n",
       "       '배출가스 등급 사용 YN', '배출가스 등급', '배출가스 허용 기준 수준'],\n",
       "      dtype='object')"
      ]
     },
     "execution_count": 34,
     "metadata": {},
     "output_type": "execute_result"
    }
   ],
   "source": [
    "file_name = f'[정제]{name}.xlsx'\n",
    "col_df = pd.read_excel(os.path.join(col_fold, file_name), sheet_name='ODS_col')\n",
    "col_dict = {a:b for a,b in col_df[['컬럼', '내용']].values}\n",
    "emis_std_mig.columns = [col_dict[x] for x in emis_std_mig.columns]\n",
    "emis_std_mig.columns"
   ]
  },
  {
   "cell_type": "code",
   "execution_count": 35,
   "metadata": {},
   "outputs": [],
   "source": [
    "emis_std_mig1 = emis_std_mig[['배출가스 허용 기준 코드', '배출가스 허용 기준 소 구분', '연료 그룹', '배출가스 차종', '시험 시작 중량',\n",
    "       '시험 끝 중량', '적용 일자', '배출가스 시험 모드 값', '일산화탄소 허용 기준 값', '탄화수소1 허용 기준 값',\n",
    "       '탄화수소2 허용 기준 값', '탄화수소3 허용기준 값', '질소산화물 허용 기준 값', '탄화수소1 질소산화물 허용 기준 값',\n",
    "       '탄화수소3 질소산화물 허용 기준 값', '입자상물질 허용 기준 값', '입자개수 허용 기준 값', '배출가스 허용 기준 구분',\n",
    "       '배출가스 등급 사용 YN', '배출가스 등급', '배출가스 허용 기준 수준']]"
   ]
  },
  {
   "cell_type": "code",
   "execution_count": 36,
   "metadata": {},
   "outputs": [
    {
     "data": {
      "text/plain": [
       "배출가스 허용 기준 코드             0\n",
       "배출가스 허용 기준 소 구분           0\n",
       "연료 그룹                     0\n",
       "배출가스 차종                   0\n",
       "시험 시작 중량                  0\n",
       "시험 끝 중량                   0\n",
       "적용 일자                     0\n",
       "배출가스 시험 모드 값              0\n",
       "일산화탄소 허용 기준 값            30\n",
       "탄화수소1 허용 기준 값          1000\n",
       "탄화수소2 허용 기준 값           838\n",
       "탄화수소3 허용기준 값           1087\n",
       "질소산화물 허용 기준 값           328\n",
       "탄화수소1 질소산화물 허용 기준 값     884\n",
       "탄화수소3 질소산화물 허용 기준 값    1061\n",
       "입자상물질 허용 기준 값           561\n",
       "입자개수 허용 기준 값           1148\n",
       "배출가스 허용 기준 구분             0\n",
       "배출가스 등급 사용 YN           146\n",
       "배출가스 등급                 146\n",
       "배출가스 허용 기준 수준           156\n",
       "dtype: int64"
      ]
     },
     "execution_count": 36,
     "metadata": {},
     "output_type": "execute_result"
    }
   ],
   "source": [
    "emis_std_mig1.isnull().sum()"
   ]
  },
  {
   "cell_type": "code",
   "execution_count": 37,
   "metadata": {},
   "outputs": [
    {
     "data": {
      "text/html": [
       "<div>\n",
       "<style scoped>\n",
       "    .dataframe tbody tr th:only-of-type {\n",
       "        vertical-align: middle;\n",
       "    }\n",
       "\n",
       "    .dataframe tbody tr th {\n",
       "        vertical-align: top;\n",
       "    }\n",
       "\n",
       "    .dataframe thead th {\n",
       "        text-align: right;\n",
       "    }\n",
       "</style>\n",
       "<table border=\"1\" class=\"dataframe\">\n",
       "  <thead>\n",
       "    <tr style=\"text-align: right;\">\n",
       "      <th></th>\n",
       "      <th>컬럼명</th>\n",
       "      <th>내용</th>\n",
       "      <th>결측 값</th>\n",
       "    </tr>\n",
       "  </thead>\n",
       "  <tbody>\n",
       "    <tr>\n",
       "      <th>0</th>\n",
       "      <td>APLI_DE</td>\n",
       "      <td>적용 일자</td>\n",
       "      <td>0</td>\n",
       "    </tr>\n",
       "    <tr>\n",
       "      <th>1</th>\n",
       "      <td>TEST_END_WGHT</td>\n",
       "      <td>시험 끝 중량</td>\n",
       "      <td>0</td>\n",
       "    </tr>\n",
       "    <tr>\n",
       "      <th>2</th>\n",
       "      <td>TEST_BGIN_WGHT</td>\n",
       "      <td>시험 시작 중량</td>\n",
       "      <td>0</td>\n",
       "    </tr>\n",
       "    <tr>\n",
       "      <th>3</th>\n",
       "      <td>PN_PERM_STDR_VAL</td>\n",
       "      <td>입자개수 허용 기준 값</td>\n",
       "      <td>1148</td>\n",
       "    </tr>\n",
       "    <tr>\n",
       "      <th>4</th>\n",
       "      <td>PM_PERM_STDR_VAL</td>\n",
       "      <td>입자상물질 허용 기준 값</td>\n",
       "      <td>561</td>\n",
       "    </tr>\n",
       "    <tr>\n",
       "      <th>5</th>\n",
       "      <td>CO_PERM_STDR_VAL</td>\n",
       "      <td>일산화탄소 허용 기준 값</td>\n",
       "      <td>30</td>\n",
       "    </tr>\n",
       "    <tr>\n",
       "      <th>6</th>\n",
       "      <td>NMOG_PERM_STDR_VAL</td>\n",
       "      <td>탄화수소1 허용 기준 값</td>\n",
       "      <td>1000</td>\n",
       "    </tr>\n",
       "    <tr>\n",
       "      <th>7</th>\n",
       "      <td>NOX_PERM_STDR_VAL</td>\n",
       "      <td>질소산화물 허용 기준 값</td>\n",
       "      <td>328</td>\n",
       "    </tr>\n",
       "    <tr>\n",
       "      <th>8</th>\n",
       "      <td>EMIS_GRD</td>\n",
       "      <td>배출가스 등급</td>\n",
       "      <td>146</td>\n",
       "    </tr>\n",
       "    <tr>\n",
       "      <th>9</th>\n",
       "      <td>EMIS_GRD_USE_YN</td>\n",
       "      <td>배출가스 등급 사용 YN</td>\n",
       "      <td>146</td>\n",
       "    </tr>\n",
       "    <tr>\n",
       "      <th>10</th>\n",
       "      <td>EMIS_PERM_STDR_CD</td>\n",
       "      <td>배출가스 허용 기준 코드</td>\n",
       "      <td>0</td>\n",
       "    </tr>\n",
       "    <tr>\n",
       "      <th>11</th>\n",
       "      <td>EMIS_PERM_STDR_LEVL</td>\n",
       "      <td>배출가스 허용 기준 수준</td>\n",
       "      <td>156</td>\n",
       "    </tr>\n",
       "    <tr>\n",
       "      <th>12</th>\n",
       "      <td>EMIS_PERM_STDR_SE</td>\n",
       "      <td>배출가스 허용 기준 구분</td>\n",
       "      <td>0</td>\n",
       "    </tr>\n",
       "    <tr>\n",
       "      <th>13</th>\n",
       "      <td>EMIS_VHCTY</td>\n",
       "      <td>배출가스 차종</td>\n",
       "      <td>0</td>\n",
       "    </tr>\n",
       "    <tr>\n",
       "      <th>14</th>\n",
       "      <td>EMIS_TEST_MOD_VAL</td>\n",
       "      <td>배출가스 시험 모드 값</td>\n",
       "      <td>0</td>\n",
       "    </tr>\n",
       "    <tr>\n",
       "      <th>15</th>\n",
       "      <td>EMIS_PERM_STDR_SML_SE</td>\n",
       "      <td>배출가스 허용 기준 소 구분</td>\n",
       "      <td>0</td>\n",
       "    </tr>\n",
       "    <tr>\n",
       "      <th>16</th>\n",
       "      <td>FUEL_GRP</td>\n",
       "      <td>연료 그룹</td>\n",
       "      <td>0</td>\n",
       "    </tr>\n",
       "    <tr>\n",
       "      <th>17</th>\n",
       "      <td>HC_NOX_PERM_STDR_VAL</td>\n",
       "      <td>탄화수소3 질소산화물 허용 기준 값</td>\n",
       "      <td>1061</td>\n",
       "    </tr>\n",
       "    <tr>\n",
       "      <th>18</th>\n",
       "      <td>HC_PERM_STDR_VAL</td>\n",
       "      <td>탄화수소3 허용기준 값</td>\n",
       "      <td>1087</td>\n",
       "    </tr>\n",
       "    <tr>\n",
       "      <th>19</th>\n",
       "      <td>NMHC_PERM_STDR_VAL</td>\n",
       "      <td>탄화수소2 허용 기준 값</td>\n",
       "      <td>838</td>\n",
       "    </tr>\n",
       "    <tr>\n",
       "      <th>20</th>\n",
       "      <td>NMOG_NOX_PERM_STDR_VAL</td>\n",
       "      <td>탄화수소1 질소산화물 허용 기준 값</td>\n",
       "      <td>884</td>\n",
       "    </tr>\n",
       "  </tbody>\n",
       "</table>\n",
       "</div>"
      ],
      "text/plain": [
       "                       컬럼명                   내용  결측 값\n",
       "0                  APLI_DE                적용 일자     0\n",
       "1            TEST_END_WGHT              시험 끝 중량     0\n",
       "2           TEST_BGIN_WGHT             시험 시작 중량     0\n",
       "3         PN_PERM_STDR_VAL         입자개수 허용 기준 값  1148\n",
       "4         PM_PERM_STDR_VAL        입자상물질 허용 기준 값   561\n",
       "5         CO_PERM_STDR_VAL        일산화탄소 허용 기준 값    30\n",
       "6       NMOG_PERM_STDR_VAL        탄화수소1 허용 기준 값  1000\n",
       "7        NOX_PERM_STDR_VAL        질소산화물 허용 기준 값   328\n",
       "8                 EMIS_GRD              배출가스 등급   146\n",
       "9          EMIS_GRD_USE_YN        배출가스 등급 사용 YN   146\n",
       "10       EMIS_PERM_STDR_CD        배출가스 허용 기준 코드     0\n",
       "11     EMIS_PERM_STDR_LEVL        배출가스 허용 기준 수준   156\n",
       "12       EMIS_PERM_STDR_SE        배출가스 허용 기준 구분     0\n",
       "13              EMIS_VHCTY              배출가스 차종     0\n",
       "14       EMIS_TEST_MOD_VAL         배출가스 시험 모드 값     0\n",
       "15   EMIS_PERM_STDR_SML_SE      배출가스 허용 기준 소 구분     0\n",
       "16                FUEL_GRP                연료 그룹     0\n",
       "17    HC_NOX_PERM_STDR_VAL  탄화수소3 질소산화물 허용 기준 값  1061\n",
       "18        HC_PERM_STDR_VAL         탄화수소3 허용기준 값  1087\n",
       "19      NMHC_PERM_STDR_VAL        탄화수소2 허용 기준 값   838\n",
       "20  NMOG_NOX_PERM_STDR_VAL  탄화수소1 질소산화물 허용 기준 값   884"
      ]
     },
     "execution_count": 37,
     "metadata": {},
     "output_type": "execute_result"
    }
   ],
   "source": [
    "col = pd.DataFrame(col_dict, index=['내용']).T.reset_index()\n",
    "col.columns = ['컬럼명', '내용']\n",
    "nul = emis_std_mig1.isnull().sum().reset_index()\n",
    "nul.columns = ['내용', '결측 값']\n",
    "col2 = col.merge(nul, on='내용', how='left')\n",
    "col2"
   ]
  },
  {
   "attachments": {},
   "cell_type": "markdown",
   "metadata": {},
   "source": [
    "# 7\\. 대표차명"
   ]
  },
  {
   "cell_type": "code",
   "execution_count": 38,
   "metadata": {},
   "outputs": [
    {
     "name": "stdout",
     "output_type": "stream",
     "text": [
      "<class 'pandas.core.frame.DataFrame'>\n",
      "RangeIndex: 1541 entries, 0 to 1540\n",
      "Data columns (total 7 columns):\n",
      " #   Column     Non-Null Count  Dtype \n",
      "---  ------     --------------  ----- \n",
      " 0   REPCAR_NM  1541 non-null   object\n",
      " 1   MKR_NM     1541 non-null   object\n",
      " 2   PLOR_NM    1541 non-null   object\n",
      " 3   RMK        90 non-null     object\n",
      " 4   CRTN_DT    90 non-null     object\n",
      " 5   UPDT_DT    6 non-null      object\n",
      " 6   USER_ID    1541 non-null   object\n",
      "dtypes: object(7)\n",
      "memory usage: 84.4+ KB\n"
     ]
    }
   ],
   "source": [
    "name = 'CEG_STD_CAR_MIG'\n",
    "file_name = f'ODS_{name}.csv'\n",
    "std_car_mig = pd.read_csv(os.path.join(ods_fold, file_name), low_memory=False)\n",
    "std_car_mig.info()"
   ]
  },
  {
   "cell_type": "code",
   "execution_count": 39,
   "metadata": {},
   "outputs": [
    {
     "data": {
      "text/plain": [
       "Index(['대표차 명', '제작사 명', '원산지 명', '비고', '생성 일시', '수정 일시', '사용자 아이디'], dtype='object')"
      ]
     },
     "execution_count": 39,
     "metadata": {},
     "output_type": "execute_result"
    }
   ],
   "source": [
    "file_name = f'[정제]{name}.xlsx'\n",
    "col_df = pd.read_excel(os.path.join(col_fold, file_name), sheet_name='ODS_col')\n",
    "col_dict = {a:b for a,b in col_df[['컬럼', '내용']].values}\n",
    "std_car_mig.columns = [col_dict[x] for x in std_car_mig.columns]\n",
    "std_car_mig.columns"
   ]
  },
  {
   "cell_type": "code",
   "execution_count": 40,
   "metadata": {},
   "outputs": [],
   "source": [
    "std_car_mig1 = std_car_mig[['대표차 명', '제작사 명', '원산지 명', '비고', '생성 일시', '수정 일시', '사용자 아이디']]"
   ]
  },
  {
   "cell_type": "code",
   "execution_count": 41,
   "metadata": {},
   "outputs": [
    {
     "data": {
      "text/plain": [
       "대표차 명         0\n",
       "제작사 명         0\n",
       "원산지 명         0\n",
       "비고         1451\n",
       "생성 일시      1451\n",
       "수정 일시      1535\n",
       "사용자 아이디       0\n",
       "dtype: int64"
      ]
     },
     "execution_count": 41,
     "metadata": {},
     "output_type": "execute_result"
    }
   ],
   "source": [
    "std_car_mig1.isnull().sum()"
   ]
  },
  {
   "cell_type": "code",
   "execution_count": 42,
   "metadata": {},
   "outputs": [
    {
     "data": {
      "text/html": [
       "<div>\n",
       "<style scoped>\n",
       "    .dataframe tbody tr th:only-of-type {\n",
       "        vertical-align: middle;\n",
       "    }\n",
       "\n",
       "    .dataframe tbody tr th {\n",
       "        vertical-align: top;\n",
       "    }\n",
       "\n",
       "    .dataframe thead th {\n",
       "        text-align: right;\n",
       "    }\n",
       "</style>\n",
       "<table border=\"1\" class=\"dataframe\">\n",
       "  <thead>\n",
       "    <tr style=\"text-align: right;\">\n",
       "      <th></th>\n",
       "      <th>컬럼명</th>\n",
       "      <th>내용</th>\n",
       "      <th>결측 값</th>\n",
       "    </tr>\n",
       "  </thead>\n",
       "  <tbody>\n",
       "    <tr>\n",
       "      <th>0</th>\n",
       "      <td>USER_ID</td>\n",
       "      <td>사용자 아이디</td>\n",
       "      <td>0</td>\n",
       "    </tr>\n",
       "    <tr>\n",
       "      <th>1</th>\n",
       "      <td>UPDT_DT</td>\n",
       "      <td>수정 일시</td>\n",
       "      <td>1535</td>\n",
       "    </tr>\n",
       "    <tr>\n",
       "      <th>2</th>\n",
       "      <td>RMK</td>\n",
       "      <td>비고</td>\n",
       "      <td>1451</td>\n",
       "    </tr>\n",
       "    <tr>\n",
       "      <th>3</th>\n",
       "      <td>REPCAR_NM</td>\n",
       "      <td>대표차 명</td>\n",
       "      <td>0</td>\n",
       "    </tr>\n",
       "    <tr>\n",
       "      <th>4</th>\n",
       "      <td>PLOR_NM</td>\n",
       "      <td>원산지 명</td>\n",
       "      <td>0</td>\n",
       "    </tr>\n",
       "    <tr>\n",
       "      <th>5</th>\n",
       "      <td>MKR_NM</td>\n",
       "      <td>제작사 명</td>\n",
       "      <td>0</td>\n",
       "    </tr>\n",
       "    <tr>\n",
       "      <th>6</th>\n",
       "      <td>CRTN_DT</td>\n",
       "      <td>생성 일시</td>\n",
       "      <td>1451</td>\n",
       "    </tr>\n",
       "  </tbody>\n",
       "</table>\n",
       "</div>"
      ],
      "text/plain": [
       "         컬럼명       내용  결측 값\n",
       "0    USER_ID  사용자 아이디     0\n",
       "1    UPDT_DT    수정 일시  1535\n",
       "2        RMK       비고  1451\n",
       "3  REPCAR_NM    대표차 명     0\n",
       "4    PLOR_NM    원산지 명     0\n",
       "5     MKR_NM    제작사 명     0\n",
       "6    CRTN_DT    생성 일시  1451"
      ]
     },
     "execution_count": 42,
     "metadata": {},
     "output_type": "execute_result"
    }
   ],
   "source": [
    "col = pd.DataFrame(col_dict, index=['내용']).T.reset_index()\n",
    "col.columns = ['컬럼명', '내용']\n",
    "nul = std_car_mig1.isnull().sum().reset_index()\n",
    "nul.columns = ['내용', '결측 값']\n",
    "col2 = col.merge(nul, on='내용', how='left')\n",
    "col2"
   ]
  },
  {
   "attachments": {},
   "cell_type": "markdown",
   "metadata": {},
   "source": [
    "# 8\\. 저감장치 클리닝 상세 정보"
   ]
  },
  {
   "cell_type": "code",
   "execution_count": 43,
   "metadata": {},
   "outputs": [
    {
     "name": "stdout",
     "output_type": "stream",
     "text": [
      "<class 'pandas.core.frame.DataFrame'>\n",
      "RangeIndex: 896011 entries, 0 to 896010\n",
      "Data columns (total 59 columns):\n",
      " #   Column                  Non-Null Count   Dtype  \n",
      "---  ------                  --------------   -----  \n",
      " 0   REDUC_REG_NO            896002 non-null  float64\n",
      " 1   CLNING_MNGT_NO          896011 non-null  int64  \n",
      " 2   MKR_CD                  45588 non-null   object \n",
      " 3   CLNING_DE               896009 non-null  float64\n",
      " 4   CLNING_KND              896007 non-null  object \n",
      " 5   CLNING_CST              896010 non-null  float64\n",
      " 6   CLNING_ENTRPS_NM        896007 non-null  object \n",
      " 7   DRVNG_DSTNC             896007 non-null  object \n",
      " 8   CLNING_PRGRE_STUS       896011 non-null  object \n",
      " 9   SBSIDY_TRGT_YN          896010 non-null  object \n",
      " 10  SBSIDY_TRGT_EXCLU_RESN  33 non-null      object \n",
      " 11  LOCGOV_CNFRM_DE         718007 non-null  float64\n",
      " 12  LOCGOV_CNFRMR_NM        718007 non-null  object \n",
      " 13  MKR_PAPE_ATT_YN         896011 non-null  object \n",
      " 14  SBSIDY_PYMT_DCSN_DE     709105 non-null  float64\n",
      " 15  SBSIDY_PYMT_IDNTFR_NM   709105 non-null  object \n",
      " 16  CTNT                    234831 non-null  float64\n",
      " 17  CLNING_BTRC_TRGT_YN     896011 non-null  object \n",
      " 18  CLNING_BTRC_RESN        0 non-null       float64\n",
      " 19  INPT_DE                 896011 non-null  int64  \n",
      " 20  RETR_NM                 892585 non-null  object \n",
      " 21  LST_CHNG_DE             895651 non-null  object \n",
      " 22  LST_EDIR_NM             889084 non-null  object \n",
      " 23  CLNING_LST_DE           0 non-null       float64\n",
      " 24  CLNING_WHL_SE           730760 non-null  object \n",
      " 25  CLNING_RMND_SBSIDY      736732 non-null  float64\n",
      " 26  BF_SMO_DNSTY            896010 non-null  object \n",
      " 27  PST_SMO_DNSTY           896010 non-null  object \n",
      " 28  BF_VENTL_PSSR           896010 non-null  object \n",
      " 29  PST_VENTL_PSSR          896010 non-null  object \n",
      " 30  CLNING_RQEST_GRP_NO     714994 non-null  float64\n",
      " 31  SBSIDY_RQT_DE           714994 non-null  float64\n",
      " 32  SBSIDY_APLICT_NM        714994 non-null  object \n",
      " 33  CLNING_PYMT_DE          709105 non-null  float64\n",
      " 34  CLNING_BIZ_YR           268 non-null     float64\n",
      " 35  CLNING_PYMT_YN          709594 non-null  object \n",
      " 36  CLNING_GRNTY_WHL_SE     896001 non-null  object \n",
      " 37  CLNING_REC_CNT_ELPSD    608995 non-null  object \n",
      " 38  INST_ID                 896009 non-null  float64\n",
      " 39  CLNING_SPEL_RESN_RESN   234957 non-null  object \n",
      " 40  CLNING_ETC_SPEL_RESN    12040 non-null   object \n",
      " 41  RCPT_LOCGOV_CD          51140 non-null   object \n",
      " 42  NOW_VHRNO               0 non-null       float64\n",
      " 43  STRCHG_DE               51140 non-null   float64\n",
      " 44  RMK                     3 non-null       object \n",
      " 45  CLNING_WHL_ETC_SE       42948 non-null   object \n",
      " 46  CHK_YN                  9443 non-null    object \n",
      " 47  CHK_YN1                 9436 non-null    object \n",
      " 48  EXCA_YR                 10837 non-null   float64\n",
      " 49  EXCA_DE                 10837 non-null   float64\n",
      " 50  EXCA_YN                 10837 non-null   object \n",
      " 51  EXCA_ETC                130 non-null     object \n",
      " 52  ASOC_RQT_YN             896008 non-null  object \n",
      " 53  CHG_EQUIP_SER_NO        664308 non-null  object \n",
      " 54  M_CHK_PLAN_MONTH        664310 non-null  float64\n",
      " 55  ATT_LGCLFL              78686 non-null   object \n",
      " 56  ATT_PHYSCL              78686 non-null   object \n",
      " 57  DELETE_YN               0 non-null       float64\n",
      " 58  DELETE_REASON           0 non-null       float64\n",
      "dtypes: float64(21), int64(2), object(36)\n",
      "memory usage: 403.3+ MB\n"
     ]
    }
   ],
   "source": [
    "name = 'DLM_TB_ERP_CLEANING_DTL'\n",
    "file_name = f'ODS_{name}.csv'\n",
    "cleaning_dtl = pd.read_csv(os.path.join(ods_fold, file_name), low_memory=False)\n",
    "cleaning_dtl.info()"
   ]
  },
  {
   "cell_type": "code",
   "execution_count": 44,
   "metadata": {},
   "outputs": [
    {
     "data": {
      "text/plain": [
       "Index(['저감등록번호', '미정', '미정', '클리닝일자', '클리닝종류', '미정', '클리닝업체명', '주행거리',\n",
       "       '클리닝진행상태', '보조금대상YN', '미정', '미정', '미정', '미정', '미정', '미정', '미정', '미정',\n",
       "       '미정', '미정', '미정', '미정', '미정', '미정', '미정', '미정', '전매연농도', '후매연농도',\n",
       "       '전배기압력', '후배기압력', '미정', '미정', '미정', '미정', '미정', '미정', '클리닝보증기간구분', '미정',\n",
       "       '미정', '미정', '미정', '미정', '미정', '미정', '미정', '미정', '미정', '미정', '미정', '미정',\n",
       "       '미정', '미정', '미정', '미정', '미정', '미정', '미정', '미정', '미정'],\n",
       "      dtype='object')"
      ]
     },
     "execution_count": 44,
     "metadata": {},
     "output_type": "execute_result"
    }
   ],
   "source": [
    "file_name = f'[정제]{name}.xlsx'\n",
    "col_df = pd.read_excel(os.path.join(col_fold, file_name), sheet_name='ODS_col')\n",
    "col_dict = {a:b for a,b in col_df[['컬럼', '내용']].values}\n",
    "cleaning_dtl.columns = [col_dict[x] for x in cleaning_dtl.columns]\n",
    "cleaning_dtl.columns"
   ]
  },
  {
   "cell_type": "code",
   "execution_count": 45,
   "metadata": {},
   "outputs": [],
   "source": [
    "cleaning_dtl1 = cleaning_dtl[['저감등록번호', '클리닝일자', '클리닝종류', '클리닝업체명', '주행거리', \n",
    "                              '클리닝진행상태', '보조금대상YN', '전매연농도', '후매연농도', '전배기압력', '후배기압력', '클리닝보증기간구분']]"
   ]
  },
  {
   "cell_type": "code",
   "execution_count": 46,
   "metadata": {},
   "outputs": [
    {
     "data": {
      "text/plain": [
       "저감등록번호        9\n",
       "클리닝일자         2\n",
       "클리닝종류         4\n",
       "클리닝업체명        4\n",
       "주행거리          4\n",
       "클리닝진행상태       0\n",
       "보조금대상YN       1\n",
       "전매연농도         1\n",
       "후매연농도         1\n",
       "전배기압력         1\n",
       "후배기압력         1\n",
       "클리닝보증기간구분    10\n",
       "dtype: int64"
      ]
     },
     "execution_count": 46,
     "metadata": {},
     "output_type": "execute_result"
    }
   ],
   "source": [
    "cleaning_dtl1.isnull().sum()"
   ]
  },
  {
   "cell_type": "code",
   "execution_count": 47,
   "metadata": {},
   "outputs": [
    {
     "data": {
      "text/html": [
       "<div>\n",
       "<style scoped>\n",
       "    .dataframe tbody tr th:only-of-type {\n",
       "        vertical-align: middle;\n",
       "    }\n",
       "\n",
       "    .dataframe tbody tr th {\n",
       "        vertical-align: top;\n",
       "    }\n",
       "\n",
       "    .dataframe thead th {\n",
       "        text-align: right;\n",
       "    }\n",
       "</style>\n",
       "<table border=\"1\" class=\"dataframe\">\n",
       "  <thead>\n",
       "    <tr style=\"text-align: right;\">\n",
       "      <th></th>\n",
       "      <th>컬럼명</th>\n",
       "      <th>내용</th>\n",
       "      <th>결측 값</th>\n",
       "    </tr>\n",
       "  </thead>\n",
       "  <tbody>\n",
       "    <tr>\n",
       "      <th>0</th>\n",
       "      <td>CLNING_GRNTY_WHL_SE</td>\n",
       "      <td>클리닝보증기간구분</td>\n",
       "      <td>10.00</td>\n",
       "    </tr>\n",
       "    <tr>\n",
       "      <th>1</th>\n",
       "      <td>CLNING_KND</td>\n",
       "      <td>클리닝종류</td>\n",
       "      <td>4.00</td>\n",
       "    </tr>\n",
       "    <tr>\n",
       "      <th>2</th>\n",
       "      <td>CLNING_ENTRPS_NM</td>\n",
       "      <td>클리닝업체명</td>\n",
       "      <td>4.00</td>\n",
       "    </tr>\n",
       "    <tr>\n",
       "      <th>3</th>\n",
       "      <td>CLNING_DE</td>\n",
       "      <td>클리닝일자</td>\n",
       "      <td>2.00</td>\n",
       "    </tr>\n",
       "    <tr>\n",
       "      <th>4</th>\n",
       "      <td>SBSIDY_TRGT_YN</td>\n",
       "      <td>보조금대상YN</td>\n",
       "      <td>1.00</td>\n",
       "    </tr>\n",
       "    <tr>\n",
       "      <th>5</th>\n",
       "      <td>BF_SMO_DNSTY</td>\n",
       "      <td>전매연농도</td>\n",
       "      <td>1.00</td>\n",
       "    </tr>\n",
       "    <tr>\n",
       "      <th>6</th>\n",
       "      <td>BF_VENTL_PSSR</td>\n",
       "      <td>전배기압력</td>\n",
       "      <td>1.00</td>\n",
       "    </tr>\n",
       "    <tr>\n",
       "      <th>7</th>\n",
       "      <td>REDUC_REG_NO</td>\n",
       "      <td>저감등록번호</td>\n",
       "      <td>9.00</td>\n",
       "    </tr>\n",
       "    <tr>\n",
       "      <th>8</th>\n",
       "      <td>PST_VENTL_PSSR</td>\n",
       "      <td>후배기압력</td>\n",
       "      <td>1.00</td>\n",
       "    </tr>\n",
       "    <tr>\n",
       "      <th>9</th>\n",
       "      <td>CLNING_PRGRE_STUS</td>\n",
       "      <td>클리닝진행상태</td>\n",
       "      <td>0.00</td>\n",
       "    </tr>\n",
       "    <tr>\n",
       "      <th>10</th>\n",
       "      <td>DRVNG_DSTNC</td>\n",
       "      <td>주행거리</td>\n",
       "      <td>4.00</td>\n",
       "    </tr>\n",
       "    <tr>\n",
       "      <th>11</th>\n",
       "      <td>PST_SMO_DNSTY</td>\n",
       "      <td>후매연농도</td>\n",
       "      <td>1.00</td>\n",
       "    </tr>\n",
       "    <tr>\n",
       "      <th>12</th>\n",
       "      <td>CLNING_MNGT_NO</td>\n",
       "      <td>미정</td>\n",
       "      <td>NaN</td>\n",
       "    </tr>\n",
       "    <tr>\n",
       "      <th>13</th>\n",
       "      <td>MKR_CD</td>\n",
       "      <td>미정</td>\n",
       "      <td>NaN</td>\n",
       "    </tr>\n",
       "    <tr>\n",
       "      <th>14</th>\n",
       "      <td>CLNING_CST</td>\n",
       "      <td>미정</td>\n",
       "      <td>NaN</td>\n",
       "    </tr>\n",
       "    <tr>\n",
       "      <th>15</th>\n",
       "      <td>SBSIDY_TRGT_EXCLU_RESN</td>\n",
       "      <td>미정</td>\n",
       "      <td>NaN</td>\n",
       "    </tr>\n",
       "    <tr>\n",
       "      <th>16</th>\n",
       "      <td>LOCGOV_CNFRM_DE</td>\n",
       "      <td>미정</td>\n",
       "      <td>NaN</td>\n",
       "    </tr>\n",
       "    <tr>\n",
       "      <th>17</th>\n",
       "      <td>LOCGOV_CNFRMR_NM</td>\n",
       "      <td>미정</td>\n",
       "      <td>NaN</td>\n",
       "    </tr>\n",
       "    <tr>\n",
       "      <th>18</th>\n",
       "      <td>MKR_PAPE_ATT_YN</td>\n",
       "      <td>미정</td>\n",
       "      <td>NaN</td>\n",
       "    </tr>\n",
       "    <tr>\n",
       "      <th>19</th>\n",
       "      <td>SBSIDY_PYMT_DCSN_DE</td>\n",
       "      <td>미정</td>\n",
       "      <td>NaN</td>\n",
       "    </tr>\n",
       "    <tr>\n",
       "      <th>20</th>\n",
       "      <td>SBSIDY_PYMT_IDNTFR_NM</td>\n",
       "      <td>미정</td>\n",
       "      <td>NaN</td>\n",
       "    </tr>\n",
       "    <tr>\n",
       "      <th>21</th>\n",
       "      <td>CTNT</td>\n",
       "      <td>미정</td>\n",
       "      <td>NaN</td>\n",
       "    </tr>\n",
       "    <tr>\n",
       "      <th>22</th>\n",
       "      <td>CLNING_BTRC_TRGT_YN</td>\n",
       "      <td>미정</td>\n",
       "      <td>NaN</td>\n",
       "    </tr>\n",
       "    <tr>\n",
       "      <th>23</th>\n",
       "      <td>CLNING_BTRC_RESN</td>\n",
       "      <td>미정</td>\n",
       "      <td>NaN</td>\n",
       "    </tr>\n",
       "    <tr>\n",
       "      <th>24</th>\n",
       "      <td>INPT_DE</td>\n",
       "      <td>미정</td>\n",
       "      <td>NaN</td>\n",
       "    </tr>\n",
       "    <tr>\n",
       "      <th>25</th>\n",
       "      <td>RETR_NM</td>\n",
       "      <td>미정</td>\n",
       "      <td>NaN</td>\n",
       "    </tr>\n",
       "    <tr>\n",
       "      <th>26</th>\n",
       "      <td>LST_CHNG_DE</td>\n",
       "      <td>미정</td>\n",
       "      <td>NaN</td>\n",
       "    </tr>\n",
       "    <tr>\n",
       "      <th>27</th>\n",
       "      <td>LST_EDIR_NM</td>\n",
       "      <td>미정</td>\n",
       "      <td>NaN</td>\n",
       "    </tr>\n",
       "    <tr>\n",
       "      <th>28</th>\n",
       "      <td>CLNING_LST_DE</td>\n",
       "      <td>미정</td>\n",
       "      <td>NaN</td>\n",
       "    </tr>\n",
       "    <tr>\n",
       "      <th>29</th>\n",
       "      <td>CLNING_WHL_SE</td>\n",
       "      <td>미정</td>\n",
       "      <td>NaN</td>\n",
       "    </tr>\n",
       "    <tr>\n",
       "      <th>30</th>\n",
       "      <td>CLNING_RMND_SBSIDY</td>\n",
       "      <td>미정</td>\n",
       "      <td>NaN</td>\n",
       "    </tr>\n",
       "    <tr>\n",
       "      <th>31</th>\n",
       "      <td>CLNING_RQEST_GRP_NO</td>\n",
       "      <td>미정</td>\n",
       "      <td>NaN</td>\n",
       "    </tr>\n",
       "    <tr>\n",
       "      <th>32</th>\n",
       "      <td>SBSIDY_RQT_DE</td>\n",
       "      <td>미정</td>\n",
       "      <td>NaN</td>\n",
       "    </tr>\n",
       "    <tr>\n",
       "      <th>33</th>\n",
       "      <td>SBSIDY_APLICT_NM</td>\n",
       "      <td>미정</td>\n",
       "      <td>NaN</td>\n",
       "    </tr>\n",
       "    <tr>\n",
       "      <th>34</th>\n",
       "      <td>CLNING_PYMT_DE</td>\n",
       "      <td>미정</td>\n",
       "      <td>NaN</td>\n",
       "    </tr>\n",
       "    <tr>\n",
       "      <th>35</th>\n",
       "      <td>CLNING_BIZ_YR</td>\n",
       "      <td>미정</td>\n",
       "      <td>NaN</td>\n",
       "    </tr>\n",
       "    <tr>\n",
       "      <th>36</th>\n",
       "      <td>CLNING_PYMT_YN</td>\n",
       "      <td>미정</td>\n",
       "      <td>NaN</td>\n",
       "    </tr>\n",
       "    <tr>\n",
       "      <th>37</th>\n",
       "      <td>CLNING_REC_CNT_ELPSD</td>\n",
       "      <td>미정</td>\n",
       "      <td>NaN</td>\n",
       "    </tr>\n",
       "    <tr>\n",
       "      <th>38</th>\n",
       "      <td>INST_ID</td>\n",
       "      <td>미정</td>\n",
       "      <td>NaN</td>\n",
       "    </tr>\n",
       "    <tr>\n",
       "      <th>39</th>\n",
       "      <td>CLNING_SPEL_RESN_RESN</td>\n",
       "      <td>미정</td>\n",
       "      <td>NaN</td>\n",
       "    </tr>\n",
       "    <tr>\n",
       "      <th>40</th>\n",
       "      <td>CLNING_ETC_SPEL_RESN</td>\n",
       "      <td>미정</td>\n",
       "      <td>NaN</td>\n",
       "    </tr>\n",
       "    <tr>\n",
       "      <th>41</th>\n",
       "      <td>RCPT_LOCGOV_CD</td>\n",
       "      <td>미정</td>\n",
       "      <td>NaN</td>\n",
       "    </tr>\n",
       "    <tr>\n",
       "      <th>42</th>\n",
       "      <td>NOW_VHRNO</td>\n",
       "      <td>미정</td>\n",
       "      <td>NaN</td>\n",
       "    </tr>\n",
       "    <tr>\n",
       "      <th>43</th>\n",
       "      <td>STRCHG_DE</td>\n",
       "      <td>미정</td>\n",
       "      <td>NaN</td>\n",
       "    </tr>\n",
       "    <tr>\n",
       "      <th>44</th>\n",
       "      <td>RMK</td>\n",
       "      <td>미정</td>\n",
       "      <td>NaN</td>\n",
       "    </tr>\n",
       "    <tr>\n",
       "      <th>45</th>\n",
       "      <td>CLNING_WHL_ETC_SE</td>\n",
       "      <td>미정</td>\n",
       "      <td>NaN</td>\n",
       "    </tr>\n",
       "    <tr>\n",
       "      <th>46</th>\n",
       "      <td>CHK_YN</td>\n",
       "      <td>미정</td>\n",
       "      <td>NaN</td>\n",
       "    </tr>\n",
       "    <tr>\n",
       "      <th>47</th>\n",
       "      <td>CHK_YN1</td>\n",
       "      <td>미정</td>\n",
       "      <td>NaN</td>\n",
       "    </tr>\n",
       "    <tr>\n",
       "      <th>48</th>\n",
       "      <td>EXCA_YR</td>\n",
       "      <td>미정</td>\n",
       "      <td>NaN</td>\n",
       "    </tr>\n",
       "    <tr>\n",
       "      <th>49</th>\n",
       "      <td>EXCA_DE</td>\n",
       "      <td>미정</td>\n",
       "      <td>NaN</td>\n",
       "    </tr>\n",
       "    <tr>\n",
       "      <th>50</th>\n",
       "      <td>EXCA_YN</td>\n",
       "      <td>미정</td>\n",
       "      <td>NaN</td>\n",
       "    </tr>\n",
       "    <tr>\n",
       "      <th>51</th>\n",
       "      <td>EXCA_ETC</td>\n",
       "      <td>미정</td>\n",
       "      <td>NaN</td>\n",
       "    </tr>\n",
       "    <tr>\n",
       "      <th>52</th>\n",
       "      <td>ASOC_RQT_YN</td>\n",
       "      <td>미정</td>\n",
       "      <td>NaN</td>\n",
       "    </tr>\n",
       "    <tr>\n",
       "      <th>53</th>\n",
       "      <td>CHG_EQUIP_SER_NO</td>\n",
       "      <td>미정</td>\n",
       "      <td>NaN</td>\n",
       "    </tr>\n",
       "    <tr>\n",
       "      <th>54</th>\n",
       "      <td>M_CHK_PLAN_MONTH</td>\n",
       "      <td>미정</td>\n",
       "      <td>NaN</td>\n",
       "    </tr>\n",
       "    <tr>\n",
       "      <th>55</th>\n",
       "      <td>ATT_LGCLFL</td>\n",
       "      <td>미정</td>\n",
       "      <td>NaN</td>\n",
       "    </tr>\n",
       "    <tr>\n",
       "      <th>56</th>\n",
       "      <td>ATT_PHYSCL</td>\n",
       "      <td>미정</td>\n",
       "      <td>NaN</td>\n",
       "    </tr>\n",
       "    <tr>\n",
       "      <th>57</th>\n",
       "      <td>DELETE_YN</td>\n",
       "      <td>미정</td>\n",
       "      <td>NaN</td>\n",
       "    </tr>\n",
       "    <tr>\n",
       "      <th>58</th>\n",
       "      <td>DELETE_REASON</td>\n",
       "      <td>미정</td>\n",
       "      <td>NaN</td>\n",
       "    </tr>\n",
       "  </tbody>\n",
       "</table>\n",
       "</div>"
      ],
      "text/plain": [
       "                       컬럼명         내용  결측 값\n",
       "0      CLNING_GRNTY_WHL_SE  클리닝보증기간구분 10.00\n",
       "1               CLNING_KND      클리닝종류  4.00\n",
       "2         CLNING_ENTRPS_NM     클리닝업체명  4.00\n",
       "3                CLNING_DE      클리닝일자  2.00\n",
       "4           SBSIDY_TRGT_YN    보조금대상YN  1.00\n",
       "5             BF_SMO_DNSTY      전매연농도  1.00\n",
       "6            BF_VENTL_PSSR      전배기압력  1.00\n",
       "7             REDUC_REG_NO     저감등록번호  9.00\n",
       "8           PST_VENTL_PSSR      후배기압력  1.00\n",
       "9        CLNING_PRGRE_STUS    클리닝진행상태  0.00\n",
       "10             DRVNG_DSTNC       주행거리  4.00\n",
       "11           PST_SMO_DNSTY      후매연농도  1.00\n",
       "12          CLNING_MNGT_NO         미정   NaN\n",
       "13                  MKR_CD         미정   NaN\n",
       "14              CLNING_CST         미정   NaN\n",
       "15  SBSIDY_TRGT_EXCLU_RESN         미정   NaN\n",
       "16         LOCGOV_CNFRM_DE         미정   NaN\n",
       "17        LOCGOV_CNFRMR_NM         미정   NaN\n",
       "18         MKR_PAPE_ATT_YN         미정   NaN\n",
       "19     SBSIDY_PYMT_DCSN_DE         미정   NaN\n",
       "20   SBSIDY_PYMT_IDNTFR_NM         미정   NaN\n",
       "21                    CTNT         미정   NaN\n",
       "22     CLNING_BTRC_TRGT_YN         미정   NaN\n",
       "23        CLNING_BTRC_RESN         미정   NaN\n",
       "24                 INPT_DE         미정   NaN\n",
       "25                 RETR_NM         미정   NaN\n",
       "26             LST_CHNG_DE         미정   NaN\n",
       "27             LST_EDIR_NM         미정   NaN\n",
       "28           CLNING_LST_DE         미정   NaN\n",
       "29           CLNING_WHL_SE         미정   NaN\n",
       "30      CLNING_RMND_SBSIDY         미정   NaN\n",
       "31     CLNING_RQEST_GRP_NO         미정   NaN\n",
       "32           SBSIDY_RQT_DE         미정   NaN\n",
       "33        SBSIDY_APLICT_NM         미정   NaN\n",
       "34          CLNING_PYMT_DE         미정   NaN\n",
       "35           CLNING_BIZ_YR         미정   NaN\n",
       "36          CLNING_PYMT_YN         미정   NaN\n",
       "37    CLNING_REC_CNT_ELPSD         미정   NaN\n",
       "38                 INST_ID         미정   NaN\n",
       "39   CLNING_SPEL_RESN_RESN         미정   NaN\n",
       "40    CLNING_ETC_SPEL_RESN         미정   NaN\n",
       "41          RCPT_LOCGOV_CD         미정   NaN\n",
       "42               NOW_VHRNO         미정   NaN\n",
       "43               STRCHG_DE         미정   NaN\n",
       "44                     RMK         미정   NaN\n",
       "45       CLNING_WHL_ETC_SE         미정   NaN\n",
       "46                  CHK_YN         미정   NaN\n",
       "47                 CHK_YN1         미정   NaN\n",
       "48                 EXCA_YR         미정   NaN\n",
       "49                 EXCA_DE         미정   NaN\n",
       "50                 EXCA_YN         미정   NaN\n",
       "51                EXCA_ETC         미정   NaN\n",
       "52             ASOC_RQT_YN         미정   NaN\n",
       "53        CHG_EQUIP_SER_NO         미정   NaN\n",
       "54        M_CHK_PLAN_MONTH         미정   NaN\n",
       "55              ATT_LGCLFL         미정   NaN\n",
       "56              ATT_PHYSCL         미정   NaN\n",
       "57               DELETE_YN         미정   NaN\n",
       "58           DELETE_REASON         미정   NaN"
      ]
     },
     "execution_count": 47,
     "metadata": {},
     "output_type": "execute_result"
    }
   ],
   "source": [
    "col = pd.DataFrame(col_dict, index=['내용']).T.reset_index()\n",
    "col.columns = ['컬럼명', '내용']\n",
    "nul = cleaning_dtl1.isnull().sum().reset_index()\n",
    "nul.columns = ['내용', '결측 값']\n",
    "col2 = col.merge(nul, on='내용', how='left')\n",
    "col2"
   ]
  },
  {
   "attachments": {},
   "cell_type": "markdown",
   "metadata": {},
   "source": [
    "# 9\\. 사후관리 사후점검"
   ]
  },
  {
   "cell_type": "code",
   "execution_count": 48,
   "metadata": {},
   "outputs": [
    {
     "name": "stdout",
     "output_type": "stream",
     "text": [
      "<class 'pandas.core.frame.DataFrame'>\n",
      "RangeIndex: 64951 entries, 0 to 64950\n",
      "Data columns (total 40 columns):\n",
      " #   Column               Non-Null Count  Dtype  \n",
      "---  ------               --------------  -----  \n",
      " 0   CHK_RCPT_NO          64951 non-null  int64  \n",
      " 1   REDUC_REG_NO         64951 non-null  int64  \n",
      " 2   RCPT_DE              45629 non-null  float64\n",
      " 3   CHK_DE               64951 non-null  int64  \n",
      " 4   CHK_ODR              50015 non-null  object \n",
      " 5   RCPT_SIGNGU          64885 non-null  object \n",
      " 6   EXTRNS_REMDEL_STUS   64951 non-null  object \n",
      " 7   SLF_DGNSS_DVICE      64569 non-null  object \n",
      " 8   FUEL_SPLORE_PICK     50276 non-null  object \n",
      " 9   PLLTN_DNSTY_MEASUVL  62121 non-null  object \n",
      " 10  SMO_CO_VAL           210 non-null    object \n",
      " 11  SMO_HC_VAL           169 non-null    float64\n",
      " 12  CHK_RSLT             64890 non-null  object \n",
      " 13  DIRTN_MTTR           11070 non-null  object \n",
      " 14  RCPT_RESN_01_YN      1109 non-null   object \n",
      " 15  RCPT_RESN_02_YN      43 non-null     object \n",
      " 16  RCPT_RESN_03_YN      6 non-null      object \n",
      " 17  RCPT_RESN_04_YN      6 non-null      object \n",
      " 18  RCPT_RESN_05_YN      10 non-null     object \n",
      " 19  RCPT_RESN_06_YN      4 non-null      object \n",
      " 20  RCPT_RESN_07_YN      4 non-null      object \n",
      " 21  RCPT_RESN_08_YN      0 non-null      float64\n",
      " 22  RCPT_RESN_09_YN      5 non-null      object \n",
      " 23  RCPT_RESN_10_YN      290 non-null    object \n",
      " 24  RCPT_RESN_11_YN      344 non-null    object \n",
      " 25  RCPT_ETC_RESN        287 non-null    object \n",
      " 26  BPLC_ADRS            21739 non-null  object \n",
      " 27  BPLC_TELNO           34020 non-null  object \n",
      " 28  BPLC_RPRSTV_NM       36498 non-null  object \n",
      " 29  REG_INST_CD          64888 non-null  object \n",
      " 30  INPT_DE              42770 non-null  float64\n",
      " 31  RETR_NM              42700 non-null  object \n",
      " 32  LST_CHNG_DE          42873 non-null  object \n",
      " 33  LST_EDIR_NM          42733 non-null  object \n",
      " 34  TRTMNT_MTTR_1_YN     48 non-null     object \n",
      " 35  TRTMNT_MTTR_2_YN     71 non-null     object \n",
      " 36  TRTMNT_MTTR_3_YN     1744 non-null   object \n",
      " 37  TRTMNT_MTTR_4_YN     137 non-null    object \n",
      " 38  TRTMNT_DTLS          1697 non-null   object \n",
      " 39  RETR_ID              71 non-null     object \n",
      "dtypes: float64(4), int64(3), object(33)\n",
      "memory usage: 19.8+ MB\n"
     ]
    }
   ],
   "source": [
    "name = 'DLM_TB_ERP_CLEAN_SCREEN'\n",
    "file_name = f'ODS_{name}.csv'\n",
    "clean_screen = pd.read_csv(os.path.join(ods_fold, file_name), low_memory=False)\n",
    "clean_screen.info()"
   ]
  },
  {
   "cell_type": "code",
   "execution_count": 49,
   "metadata": {},
   "outputs": [
    {
     "data": {
      "text/plain": [
       "Index(['미정', '저감등록번호', '미정', '점검일자', '점검차수', '미정', '부착개조상태', '미정', '미정',\n",
       "       '오염농도측정값', '미정', '미정', '점검결과', '지시사항', '미정', '미정', '미정', '미정', '미정',\n",
       "       '미정', '미정', '미정', '미정', '미정', '미정', '미정', '미정', '미정', '미정', '미정', '미정',\n",
       "       '미정', '미정', '미정', '미정', '미정', '미정', '미정', '조치내역', '미정'],\n",
       "      dtype='object')"
      ]
     },
     "execution_count": 49,
     "metadata": {},
     "output_type": "execute_result"
    }
   ],
   "source": [
    "file_name = f'[정제]{name}.xlsx'\n",
    "col_df = pd.read_excel(os.path.join(col_fold, file_name), sheet_name='ODS_col')\n",
    "col_dict = {a:b for a,b in col_df[['컬럼', '내용']].values}\n",
    "clean_screen.columns = [col_dict[x] for x in clean_screen.columns]\n",
    "clean_screen.columns"
   ]
  },
  {
   "cell_type": "code",
   "execution_count": 50,
   "metadata": {},
   "outputs": [],
   "source": [
    "clean_screen1 = clean_screen[['저감등록번호', '점검일자', '점검차수', '부착개조상태', '오염농도측정값', '점검결과', '지시사항', '조치내역']]"
   ]
  },
  {
   "cell_type": "code",
   "execution_count": 51,
   "metadata": {},
   "outputs": [
    {
     "data": {
      "text/plain": [
       "저감등록번호         0\n",
       "점검일자           0\n",
       "점검차수       14936\n",
       "부착개조상태         0\n",
       "오염농도측정값     2830\n",
       "점검결과          61\n",
       "지시사항       53881\n",
       "조치내역       63254\n",
       "dtype: int64"
      ]
     },
     "execution_count": 51,
     "metadata": {},
     "output_type": "execute_result"
    }
   ],
   "source": [
    "clean_screen1.isnull().sum()"
   ]
  },
  {
   "cell_type": "code",
   "execution_count": 52,
   "metadata": {},
   "outputs": [
    {
     "data": {
      "text/html": [
       "<div>\n",
       "<style scoped>\n",
       "    .dataframe tbody tr th:only-of-type {\n",
       "        vertical-align: middle;\n",
       "    }\n",
       "\n",
       "    .dataframe tbody tr th {\n",
       "        vertical-align: top;\n",
       "    }\n",
       "\n",
       "    .dataframe thead th {\n",
       "        text-align: right;\n",
       "    }\n",
       "</style>\n",
       "<table border=\"1\" class=\"dataframe\">\n",
       "  <thead>\n",
       "    <tr style=\"text-align: right;\">\n",
       "      <th></th>\n",
       "      <th>컬럼명</th>\n",
       "      <th>내용</th>\n",
       "      <th>결측 값</th>\n",
       "    </tr>\n",
       "  </thead>\n",
       "  <tbody>\n",
       "    <tr>\n",
       "      <th>0</th>\n",
       "      <td>CHK_DE</td>\n",
       "      <td>점검일자</td>\n",
       "      <td>0.00</td>\n",
       "    </tr>\n",
       "    <tr>\n",
       "      <th>1</th>\n",
       "      <td>CHK_ODR</td>\n",
       "      <td>점검차수</td>\n",
       "      <td>14936.00</td>\n",
       "    </tr>\n",
       "    <tr>\n",
       "      <th>2</th>\n",
       "      <td>TRTMNT_DTLS</td>\n",
       "      <td>조치내역</td>\n",
       "      <td>63254.00</td>\n",
       "    </tr>\n",
       "    <tr>\n",
       "      <th>3</th>\n",
       "      <td>DIRTN_MTTR</td>\n",
       "      <td>지시사항</td>\n",
       "      <td>53881.00</td>\n",
       "    </tr>\n",
       "    <tr>\n",
       "      <th>4</th>\n",
       "      <td>PLLTN_DNSTY_MEASUVL</td>\n",
       "      <td>오염농도측정값</td>\n",
       "      <td>2830.00</td>\n",
       "    </tr>\n",
       "    <tr>\n",
       "      <th>5</th>\n",
       "      <td>REDUC_REG_NO</td>\n",
       "      <td>저감등록번호</td>\n",
       "      <td>0.00</td>\n",
       "    </tr>\n",
       "    <tr>\n",
       "      <th>6</th>\n",
       "      <td>CHK_RSLT</td>\n",
       "      <td>점검결과</td>\n",
       "      <td>61.00</td>\n",
       "    </tr>\n",
       "    <tr>\n",
       "      <th>7</th>\n",
       "      <td>EXTRNS_REMDEL_STUS</td>\n",
       "      <td>부착개조상태</td>\n",
       "      <td>0.00</td>\n",
       "    </tr>\n",
       "    <tr>\n",
       "      <th>8</th>\n",
       "      <td>CHK_RCPT_NO</td>\n",
       "      <td>미정</td>\n",
       "      <td>NaN</td>\n",
       "    </tr>\n",
       "    <tr>\n",
       "      <th>9</th>\n",
       "      <td>RCPT_DE</td>\n",
       "      <td>미정</td>\n",
       "      <td>NaN</td>\n",
       "    </tr>\n",
       "    <tr>\n",
       "      <th>10</th>\n",
       "      <td>RCPT_SIGNGU</td>\n",
       "      <td>미정</td>\n",
       "      <td>NaN</td>\n",
       "    </tr>\n",
       "    <tr>\n",
       "      <th>11</th>\n",
       "      <td>SLF_DGNSS_DVICE</td>\n",
       "      <td>미정</td>\n",
       "      <td>NaN</td>\n",
       "    </tr>\n",
       "    <tr>\n",
       "      <th>12</th>\n",
       "      <td>FUEL_SPLORE_PICK</td>\n",
       "      <td>미정</td>\n",
       "      <td>NaN</td>\n",
       "    </tr>\n",
       "    <tr>\n",
       "      <th>13</th>\n",
       "      <td>SMO_CO_VAL</td>\n",
       "      <td>미정</td>\n",
       "      <td>NaN</td>\n",
       "    </tr>\n",
       "    <tr>\n",
       "      <th>14</th>\n",
       "      <td>SMO_HC_VAL</td>\n",
       "      <td>미정</td>\n",
       "      <td>NaN</td>\n",
       "    </tr>\n",
       "    <tr>\n",
       "      <th>15</th>\n",
       "      <td>RCPT_RESN_01_YN</td>\n",
       "      <td>미정</td>\n",
       "      <td>NaN</td>\n",
       "    </tr>\n",
       "    <tr>\n",
       "      <th>16</th>\n",
       "      <td>RCPT_RESN_02_YN</td>\n",
       "      <td>미정</td>\n",
       "      <td>NaN</td>\n",
       "    </tr>\n",
       "    <tr>\n",
       "      <th>17</th>\n",
       "      <td>RCPT_RESN_03_YN</td>\n",
       "      <td>미정</td>\n",
       "      <td>NaN</td>\n",
       "    </tr>\n",
       "    <tr>\n",
       "      <th>18</th>\n",
       "      <td>RCPT_RESN_04_YN</td>\n",
       "      <td>미정</td>\n",
       "      <td>NaN</td>\n",
       "    </tr>\n",
       "    <tr>\n",
       "      <th>19</th>\n",
       "      <td>RCPT_RESN_05_YN</td>\n",
       "      <td>미정</td>\n",
       "      <td>NaN</td>\n",
       "    </tr>\n",
       "    <tr>\n",
       "      <th>20</th>\n",
       "      <td>RCPT_RESN_06_YN</td>\n",
       "      <td>미정</td>\n",
       "      <td>NaN</td>\n",
       "    </tr>\n",
       "    <tr>\n",
       "      <th>21</th>\n",
       "      <td>RCPT_RESN_07_YN</td>\n",
       "      <td>미정</td>\n",
       "      <td>NaN</td>\n",
       "    </tr>\n",
       "    <tr>\n",
       "      <th>22</th>\n",
       "      <td>RCPT_RESN_08_YN</td>\n",
       "      <td>미정</td>\n",
       "      <td>NaN</td>\n",
       "    </tr>\n",
       "    <tr>\n",
       "      <th>23</th>\n",
       "      <td>RCPT_RESN_09_YN</td>\n",
       "      <td>미정</td>\n",
       "      <td>NaN</td>\n",
       "    </tr>\n",
       "    <tr>\n",
       "      <th>24</th>\n",
       "      <td>RCPT_RESN_10_YN</td>\n",
       "      <td>미정</td>\n",
       "      <td>NaN</td>\n",
       "    </tr>\n",
       "    <tr>\n",
       "      <th>25</th>\n",
       "      <td>RCPT_RESN_11_YN</td>\n",
       "      <td>미정</td>\n",
       "      <td>NaN</td>\n",
       "    </tr>\n",
       "    <tr>\n",
       "      <th>26</th>\n",
       "      <td>RCPT_ETC_RESN</td>\n",
       "      <td>미정</td>\n",
       "      <td>NaN</td>\n",
       "    </tr>\n",
       "    <tr>\n",
       "      <th>27</th>\n",
       "      <td>BPLC_ADRS</td>\n",
       "      <td>미정</td>\n",
       "      <td>NaN</td>\n",
       "    </tr>\n",
       "    <tr>\n",
       "      <th>28</th>\n",
       "      <td>BPLC_TELNO</td>\n",
       "      <td>미정</td>\n",
       "      <td>NaN</td>\n",
       "    </tr>\n",
       "    <tr>\n",
       "      <th>29</th>\n",
       "      <td>BPLC_RPRSTV_NM</td>\n",
       "      <td>미정</td>\n",
       "      <td>NaN</td>\n",
       "    </tr>\n",
       "    <tr>\n",
       "      <th>30</th>\n",
       "      <td>REG_INST_CD</td>\n",
       "      <td>미정</td>\n",
       "      <td>NaN</td>\n",
       "    </tr>\n",
       "    <tr>\n",
       "      <th>31</th>\n",
       "      <td>INPT_DE</td>\n",
       "      <td>미정</td>\n",
       "      <td>NaN</td>\n",
       "    </tr>\n",
       "    <tr>\n",
       "      <th>32</th>\n",
       "      <td>RETR_NM</td>\n",
       "      <td>미정</td>\n",
       "      <td>NaN</td>\n",
       "    </tr>\n",
       "    <tr>\n",
       "      <th>33</th>\n",
       "      <td>LST_CHNG_DE</td>\n",
       "      <td>미정</td>\n",
       "      <td>NaN</td>\n",
       "    </tr>\n",
       "    <tr>\n",
       "      <th>34</th>\n",
       "      <td>LST_EDIR_NM</td>\n",
       "      <td>미정</td>\n",
       "      <td>NaN</td>\n",
       "    </tr>\n",
       "    <tr>\n",
       "      <th>35</th>\n",
       "      <td>TRTMNT_MTTR_1_YN</td>\n",
       "      <td>미정</td>\n",
       "      <td>NaN</td>\n",
       "    </tr>\n",
       "    <tr>\n",
       "      <th>36</th>\n",
       "      <td>TRTMNT_MTTR_2_YN</td>\n",
       "      <td>미정</td>\n",
       "      <td>NaN</td>\n",
       "    </tr>\n",
       "    <tr>\n",
       "      <th>37</th>\n",
       "      <td>TRTMNT_MTTR_3_YN</td>\n",
       "      <td>미정</td>\n",
       "      <td>NaN</td>\n",
       "    </tr>\n",
       "    <tr>\n",
       "      <th>38</th>\n",
       "      <td>TRTMNT_MTTR_4_YN</td>\n",
       "      <td>미정</td>\n",
       "      <td>NaN</td>\n",
       "    </tr>\n",
       "    <tr>\n",
       "      <th>39</th>\n",
       "      <td>RETR_ID</td>\n",
       "      <td>미정</td>\n",
       "      <td>NaN</td>\n",
       "    </tr>\n",
       "  </tbody>\n",
       "</table>\n",
       "</div>"
      ],
      "text/plain": [
       "                    컬럼명       내용     결측 값\n",
       "0                CHK_DE     점검일자     0.00\n",
       "1               CHK_ODR     점검차수 14936.00\n",
       "2           TRTMNT_DTLS     조치내역 63254.00\n",
       "3            DIRTN_MTTR     지시사항 53881.00\n",
       "4   PLLTN_DNSTY_MEASUVL  오염농도측정값  2830.00\n",
       "5          REDUC_REG_NO   저감등록번호     0.00\n",
       "6              CHK_RSLT     점검결과    61.00\n",
       "7    EXTRNS_REMDEL_STUS   부착개조상태     0.00\n",
       "8           CHK_RCPT_NO       미정      NaN\n",
       "9               RCPT_DE       미정      NaN\n",
       "10          RCPT_SIGNGU       미정      NaN\n",
       "11      SLF_DGNSS_DVICE       미정      NaN\n",
       "12     FUEL_SPLORE_PICK       미정      NaN\n",
       "13           SMO_CO_VAL       미정      NaN\n",
       "14           SMO_HC_VAL       미정      NaN\n",
       "15      RCPT_RESN_01_YN       미정      NaN\n",
       "16      RCPT_RESN_02_YN       미정      NaN\n",
       "17      RCPT_RESN_03_YN       미정      NaN\n",
       "18      RCPT_RESN_04_YN       미정      NaN\n",
       "19      RCPT_RESN_05_YN       미정      NaN\n",
       "20      RCPT_RESN_06_YN       미정      NaN\n",
       "21      RCPT_RESN_07_YN       미정      NaN\n",
       "22      RCPT_RESN_08_YN       미정      NaN\n",
       "23      RCPT_RESN_09_YN       미정      NaN\n",
       "24      RCPT_RESN_10_YN       미정      NaN\n",
       "25      RCPT_RESN_11_YN       미정      NaN\n",
       "26        RCPT_ETC_RESN       미정      NaN\n",
       "27            BPLC_ADRS       미정      NaN\n",
       "28           BPLC_TELNO       미정      NaN\n",
       "29       BPLC_RPRSTV_NM       미정      NaN\n",
       "30          REG_INST_CD       미정      NaN\n",
       "31              INPT_DE       미정      NaN\n",
       "32              RETR_NM       미정      NaN\n",
       "33          LST_CHNG_DE       미정      NaN\n",
       "34          LST_EDIR_NM       미정      NaN\n",
       "35     TRTMNT_MTTR_1_YN       미정      NaN\n",
       "36     TRTMNT_MTTR_2_YN       미정      NaN\n",
       "37     TRTMNT_MTTR_3_YN       미정      NaN\n",
       "38     TRTMNT_MTTR_4_YN       미정      NaN\n",
       "39              RETR_ID       미정      NaN"
      ]
     },
     "execution_count": 52,
     "metadata": {},
     "output_type": "execute_result"
    }
   ],
   "source": [
    "col = pd.DataFrame(col_dict, index=['내용']).T.reset_index()\n",
    "col.columns = ['컬럼명', '내용']\n",
    "nul = clean_screen1.isnull().sum().reset_index()\n",
    "nul.columns = ['내용', '결측 값']\n",
    "col2 = col.merge(nul, on='내용', how='left')\n",
    "col2"
   ]
  },
  {
   "attachments": {},
   "cell_type": "markdown",
   "metadata": {},
   "source": [
    "# 10\\. 노후차 조기폐차 관리정보(수도권)"
   ]
  },
  {
   "cell_type": "code",
   "execution_count": 39,
   "metadata": {},
   "outputs": [
    {
     "name": "stdout",
     "output_type": "stream",
     "text": [
      "<class 'pandas.core.frame.DataFrame'>\n",
      "RangeIndex: 770311 entries, 0 to 770310\n",
      "Columns: 177 entries, ELPDSRC_MNGT_NO to PFMINPC_ELPDSRC_GNRLZ_RESN\n",
      "dtypes: float64(56), int64(3), object(118)\n",
      "memory usage: 1.0+ GB\n"
     ]
    }
   ],
   "source": [
    "name = 'DLM_TB_ERP_EARLY_ERASE_AEA'\n",
    "file_name = f'ODS_{name}.csv'\n",
    "early_aea = pd.read_csv(os.path.join(ods_fold, file_name), low_memory=False)\n",
    "early_aea.info()"
   ]
  },
  {
   "cell_type": "code",
   "execution_count": 40,
   "metadata": {},
   "outputs": [
    {
     "data": {
      "text/plain": [
       "Index(['미정', '조기폐차상태코드', '저감장치구분', '미정', '미정', '미정', '미정', '미정', '미정', '미정',\n",
       "       ...\n",
       "       '미정', '미정', '미정', '미정', '미정', '미정', '미정', '미정', '미정', '미정'],\n",
       "      dtype='object', length=177)"
      ]
     },
     "execution_count": 40,
     "metadata": {},
     "output_type": "execute_result"
    }
   ],
   "source": [
    "file_name = f'[정제]{name}.xlsx'\n",
    "col_df = pd.read_excel(os.path.join(col_fold, file_name), sheet_name='ODS_col')\n",
    "col_dict = {a:b for a,b in col_df[['컬럼', '내용']].values}\n",
    "early_aea.columns = [col_dict[x] for x in early_aea.columns]\n",
    "early_aea.columns"
   ]
  },
  {
   "cell_type": "code",
   "execution_count": 42,
   "metadata": {},
   "outputs": [
    {
     "data": {
      "text/html": [
       "<div>\n",
       "<style scoped>\n",
       "    .dataframe tbody tr th:only-of-type {\n",
       "        vertical-align: middle;\n",
       "    }\n",
       "\n",
       "    .dataframe tbody tr th {\n",
       "        vertical-align: top;\n",
       "    }\n",
       "\n",
       "    .dataframe thead th {\n",
       "        text-align: right;\n",
       "    }\n",
       "</style>\n",
       "<table border=\"1\" class=\"dataframe\">\n",
       "  <thead>\n",
       "    <tr style=\"text-align: right;\">\n",
       "      <th></th>\n",
       "      <th>차대번호</th>\n",
       "      <th>저감장치구분</th>\n",
       "      <th>차량등록번호</th>\n",
       "      <th>조기폐차최종승인YN</th>\n",
       "      <th>조기폐차상태코드</th>\n",
       "      <th>말소일자</th>\n",
       "      <th>접수시도</th>\n",
       "      <th>저감장치미개발(부착불가)여부</th>\n",
       "      <th>폐차등록주행거리</th>\n",
       "    </tr>\n",
       "  </thead>\n",
       "  <tbody>\n",
       "    <tr>\n",
       "      <th>0</th>\n",
       "      <td>KMYKF17APRU074823</td>\n",
       "      <td>조기폐차</td>\n",
       "      <td>73부5582</td>\n",
       "      <td>Y</td>\n",
       "      <td>Y</td>\n",
       "      <td>20100317.00</td>\n",
       "      <td>인천시</td>\n",
       "      <td>NaN</td>\n",
       "      <td>234306.00</td>\n",
       "    </tr>\n",
       "    <tr>\n",
       "      <th>1</th>\n",
       "      <td>KMFFE17APSU290436</td>\n",
       "      <td>조기폐차</td>\n",
       "      <td>93소6048</td>\n",
       "      <td>NaN</td>\n",
       "      <td>B</td>\n",
       "      <td>NaN</td>\n",
       "      <td>인천시</td>\n",
       "      <td>NaN</td>\n",
       "      <td>401697.00</td>\n",
       "    </tr>\n",
       "    <tr>\n",
       "      <th>2</th>\n",
       "      <td>KMJWWH7BPXU115199</td>\n",
       "      <td>조기폐차</td>\n",
       "      <td>경기74도2843</td>\n",
       "      <td>Y</td>\n",
       "      <td>Y</td>\n",
       "      <td>20100310.00</td>\n",
       "      <td>경기도</td>\n",
       "      <td>NaN</td>\n",
       "      <td>70216.00</td>\n",
       "    </tr>\n",
       "    <tr>\n",
       "      <th>3</th>\n",
       "      <td>KPDHADMD1XP166822</td>\n",
       "      <td>조기폐차</td>\n",
       "      <td>39다9380</td>\n",
       "      <td>NaN</td>\n",
       "      <td>D</td>\n",
       "      <td>NaN</td>\n",
       "      <td>경기도</td>\n",
       "      <td>NaN</td>\n",
       "      <td>164840.00</td>\n",
       "    </tr>\n",
       "    <tr>\n",
       "      <th>4</th>\n",
       "      <td>KMFXKD7BPYU393462</td>\n",
       "      <td>조기폐차</td>\n",
       "      <td>서울85도4906</td>\n",
       "      <td>Y</td>\n",
       "      <td>Y</td>\n",
       "      <td>20100310.00</td>\n",
       "      <td>서울시</td>\n",
       "      <td>NaN</td>\n",
       "      <td>119789.00</td>\n",
       "    </tr>\n",
       "  </tbody>\n",
       "</table>\n",
       "</div>"
      ],
      "text/plain": [
       "                차대번호 저감장치구분     차량등록번호 조기폐차최종승인YN 조기폐차상태코드        말소일자 접수시도  \\\n",
       "0  KMYKF17APRU074823   조기폐차    73부5582          Y        Y 20100317.00  인천시   \n",
       "1  KMFFE17APSU290436   조기폐차    93소6048        NaN        B         NaN  인천시   \n",
       "2  KMJWWH7BPXU115199   조기폐차  경기74도2843          Y        Y 20100310.00  경기도   \n",
       "3  KPDHADMD1XP166822   조기폐차    39다9380        NaN        D         NaN  경기도   \n",
       "4  KMFXKD7BPYU393462   조기폐차  서울85도4906          Y        Y 20100310.00  서울시   \n",
       "\n",
       "  저감장치미개발(부착불가)여부  폐차등록주행거리  \n",
       "0             NaN 234306.00  \n",
       "1             NaN 401697.00  \n",
       "2             NaN  70216.00  \n",
       "3             NaN 164840.00  \n",
       "4             NaN 119789.00  "
      ]
     },
     "execution_count": 42,
     "metadata": {},
     "output_type": "execute_result"
    }
   ],
   "source": [
    "early_aea[['차대번호', '저감장치구분', '차량등록번호', '조기폐차최종승인YN', '조기폐차상태코드', '말소일자', '접수시도', '저감장치미개발(부착불가)여부', '폐차등록주행거리']].head()"
   ]
  },
  {
   "cell_type": "code",
   "execution_count": 6,
   "metadata": {},
   "outputs": [
    {
     "name": "stdout",
     "output_type": "stream",
     "text": [
      "<class 'pandas.core.frame.DataFrame'>\n",
      "RangeIndex: 770311 entries, 0 to 770310\n",
      "Data columns (total 2 columns):\n",
      " #   Column  Non-Null Count   Dtype \n",
      "---  ------  --------------   ----- \n",
      " 0   차대번호    770311 non-null  object\n",
      " 1   저감장치구분  770311 non-null  object\n",
      "dtypes: object(2)\n",
      "memory usage: 11.8+ MB\n"
     ]
    }
   ],
   "source": [
    "early_aea1 = early_aea[['차대번호', '저감장치구분']]\n",
    "early_aea1.info()"
   ]
  },
  {
   "attachments": {},
   "cell_type": "markdown",
   "metadata": {},
   "source": [
    "## 차대번호"
   ]
  },
  {
   "cell_type": "code",
   "execution_count": 9,
   "metadata": {},
   "outputs": [
    {
     "data": {
      "text/plain": [
       "1633"
      ]
     },
     "execution_count": 9,
     "metadata": {},
     "output_type": "execute_result"
    }
   ],
   "source": [
    "len_not_17_idx = []\n",
    "len_not_17 = []\n",
    "for i, one in enumerate(early_aea1['차대번호']):\n",
    "    if len(str(one)) != 17:\n",
    "        len_not_17_idx.append(i)\n",
    "        len_not_17.append(len(str(one)))\n",
    "len(len_not_17_idx)"
   ]
  },
  {
   "cell_type": "code",
   "execution_count": 10,
   "metadata": {},
   "outputs": [
    {
     "data": {
      "text/plain": [
       "{3, 5, 6, 7, 8, 9, 10, 11, 12, 13, 14, 15, 16, 18, 20, 27}"
      ]
     },
     "execution_count": 10,
     "metadata": {},
     "output_type": "execute_result"
    }
   ],
   "source": [
    "set(len_not_17)"
   ]
  },
  {
   "cell_type": "code",
   "execution_count": 11,
   "metadata": {},
   "outputs": [
    {
     "data": {
      "text/plain": [
       "(1633, 2)"
      ]
     },
     "execution_count": 11,
     "metadata": {},
     "output_type": "execute_result"
    }
   ],
   "source": [
    "len_not_17_temp = early_aea1.loc[len_not_17_idx]\n",
    "len_not_17_temp.shape"
   ]
  },
  {
   "cell_type": "code",
   "execution_count": 12,
   "metadata": {},
   "outputs": [],
   "source": [
    "len_not_17_temp['len_vin'] = len_not_17"
   ]
  },
  {
   "cell_type": "code",
   "execution_count": 19,
   "metadata": {},
   "outputs": [
    {
     "data": {
      "text/html": [
       "<div>\n",
       "<style scoped>\n",
       "    .dataframe tbody tr th:only-of-type {\n",
       "        vertical-align: middle;\n",
       "    }\n",
       "\n",
       "    .dataframe tbody tr th {\n",
       "        vertical-align: top;\n",
       "    }\n",
       "\n",
       "    .dataframe thead th {\n",
       "        text-align: right;\n",
       "    }\n",
       "</style>\n",
       "<table border=\"1\" class=\"dataframe\">\n",
       "  <thead>\n",
       "    <tr style=\"text-align: right;\">\n",
       "      <th></th>\n",
       "      <th>차대번호</th>\n",
       "      <th>저감장치구분</th>\n",
       "      <th>len_vin</th>\n",
       "    </tr>\n",
       "  </thead>\n",
       "  <tbody>\n",
       "    <tr>\n",
       "      <th>67445</th>\n",
       "      <td>ㅎㄻㅎ</td>\n",
       "      <td>조기폐차</td>\n",
       "      <td>3</td>\n",
       "    </tr>\n",
       "    <tr>\n",
       "      <th>734831</th>\n",
       "      <td>107</td>\n",
       "      <td>조기폐차</td>\n",
       "      <td>3</td>\n",
       "    </tr>\n",
       "    <tr>\n",
       "      <th>738014</th>\n",
       "      <td>107</td>\n",
       "      <td>조기폐차</td>\n",
       "      <td>3</td>\n",
       "    </tr>\n",
       "  </tbody>\n",
       "</table>\n",
       "</div>"
      ],
      "text/plain": [
       "       차대번호 저감장치구분  len_vin\n",
       "67445   ㅎㄻㅎ   조기폐차        3\n",
       "734831  107   조기폐차        3\n",
       "738014  107   조기폐차        3"
      ]
     },
     "metadata": {},
     "output_type": "display_data"
    },
    {
     "data": {
      "text/html": [
       "<div>\n",
       "<style scoped>\n",
       "    .dataframe tbody tr th:only-of-type {\n",
       "        vertical-align: middle;\n",
       "    }\n",
       "\n",
       "    .dataframe tbody tr th {\n",
       "        vertical-align: top;\n",
       "    }\n",
       "\n",
       "    .dataframe thead th {\n",
       "        text-align: right;\n",
       "    }\n",
       "</style>\n",
       "<table border=\"1\" class=\"dataframe\">\n",
       "  <thead>\n",
       "    <tr style=\"text-align: right;\">\n",
       "      <th></th>\n",
       "      <th>차대번호</th>\n",
       "      <th>저감장치구분</th>\n",
       "      <th>len_vin</th>\n",
       "    </tr>\n",
       "  </thead>\n",
       "  <tbody>\n",
       "    <tr>\n",
       "      <th>396107</th>\n",
       "      <td>02153</td>\n",
       "      <td>조기폐차</td>\n",
       "      <td>5</td>\n",
       "    </tr>\n",
       "    <tr>\n",
       "      <th>434612</th>\n",
       "      <td>00045</td>\n",
       "      <td>조기폐차</td>\n",
       "      <td>5</td>\n",
       "    </tr>\n",
       "    <tr>\n",
       "      <th>435322</th>\n",
       "      <td>03631</td>\n",
       "      <td>조기폐차</td>\n",
       "      <td>5</td>\n",
       "    </tr>\n",
       "    <tr>\n",
       "      <th>579437</th>\n",
       "      <td>03529</td>\n",
       "      <td>조기폐차</td>\n",
       "      <td>5</td>\n",
       "    </tr>\n",
       "    <tr>\n",
       "      <th>640721</th>\n",
       "      <td>03480</td>\n",
       "      <td>조기폐차</td>\n",
       "      <td>5</td>\n",
       "    </tr>\n",
       "  </tbody>\n",
       "</table>\n",
       "</div>"
      ],
      "text/plain": [
       "         차대번호 저감장치구분  len_vin\n",
       "396107  02153   조기폐차        5\n",
       "434612  00045   조기폐차        5\n",
       "435322  03631   조기폐차        5\n",
       "579437  03529   조기폐차        5\n",
       "640721  03480   조기폐차        5"
      ]
     },
     "metadata": {},
     "output_type": "display_data"
    },
    {
     "data": {
      "text/html": [
       "<div>\n",
       "<style scoped>\n",
       "    .dataframe tbody tr th:only-of-type {\n",
       "        vertical-align: middle;\n",
       "    }\n",
       "\n",
       "    .dataframe tbody tr th {\n",
       "        vertical-align: top;\n",
       "    }\n",
       "\n",
       "    .dataframe thead th {\n",
       "        text-align: right;\n",
       "    }\n",
       "</style>\n",
       "<table border=\"1\" class=\"dataframe\">\n",
       "  <thead>\n",
       "    <tr style=\"text-align: right;\">\n",
       "      <th></th>\n",
       "      <th>차대번호</th>\n",
       "      <th>저감장치구분</th>\n",
       "      <th>len_vin</th>\n",
       "    </tr>\n",
       "  </thead>\n",
       "  <tbody>\n",
       "    <tr>\n",
       "      <th>394137</th>\n",
       "      <td>000661</td>\n",
       "      <td>조기폐차</td>\n",
       "      <td>6</td>\n",
       "    </tr>\n",
       "    <tr>\n",
       "      <th>399563</th>\n",
       "      <td>000663</td>\n",
       "      <td>조기폐차</td>\n",
       "      <td>6</td>\n",
       "    </tr>\n",
       "    <tr>\n",
       "      <th>400239</th>\n",
       "      <td>006721</td>\n",
       "      <td>조기폐차</td>\n",
       "      <td>6</td>\n",
       "    </tr>\n",
       "    <tr>\n",
       "      <th>434428</th>\n",
       "      <td>006948</td>\n",
       "      <td>조기폐차</td>\n",
       "      <td>6</td>\n",
       "    </tr>\n",
       "    <tr>\n",
       "      <th>435160</th>\n",
       "      <td>103843</td>\n",
       "      <td>조기폐차</td>\n",
       "      <td>6</td>\n",
       "    </tr>\n",
       "  </tbody>\n",
       "</table>\n",
       "</div>"
      ],
      "text/plain": [
       "          차대번호 저감장치구분  len_vin\n",
       "394137  000661   조기폐차        6\n",
       "399563  000663   조기폐차        6\n",
       "400239  006721   조기폐차        6\n",
       "434428  006948   조기폐차        6\n",
       "435160  103843   조기폐차        6"
      ]
     },
     "metadata": {},
     "output_type": "display_data"
    },
    {
     "data": {
      "text/html": [
       "<div>\n",
       "<style scoped>\n",
       "    .dataframe tbody tr th:only-of-type {\n",
       "        vertical-align: middle;\n",
       "    }\n",
       "\n",
       "    .dataframe tbody tr th {\n",
       "        vertical-align: top;\n",
       "    }\n",
       "\n",
       "    .dataframe thead th {\n",
       "        text-align: right;\n",
       "    }\n",
       "</style>\n",
       "<table border=\"1\" class=\"dataframe\">\n",
       "  <thead>\n",
       "    <tr style=\"text-align: right;\">\n",
       "      <th></th>\n",
       "      <th>차대번호</th>\n",
       "      <th>저감장치구분</th>\n",
       "      <th>len_vin</th>\n",
       "    </tr>\n",
       "  </thead>\n",
       "  <tbody>\n",
       "    <tr>\n",
       "      <th>389955</th>\n",
       "      <td>3BY0509</td>\n",
       "      <td>조기폐차</td>\n",
       "      <td>7</td>\n",
       "    </tr>\n",
       "    <tr>\n",
       "      <th>466284</th>\n",
       "      <td>3CY0194</td>\n",
       "      <td>조기폐차</td>\n",
       "      <td>7</td>\n",
       "    </tr>\n",
       "    <tr>\n",
       "      <th>479660</th>\n",
       "      <td>3EY0293</td>\n",
       "      <td>조기폐차</td>\n",
       "      <td>7</td>\n",
       "    </tr>\n",
       "    <tr>\n",
       "      <th>480380</th>\n",
       "      <td>3EY0185</td>\n",
       "      <td>조기폐차</td>\n",
       "      <td>7</td>\n",
       "    </tr>\n",
       "    <tr>\n",
       "      <th>543605</th>\n",
       "      <td>3EY0293</td>\n",
       "      <td>조기폐차</td>\n",
       "      <td>7</td>\n",
       "    </tr>\n",
       "  </tbody>\n",
       "</table>\n",
       "</div>"
      ],
      "text/plain": [
       "           차대번호 저감장치구분  len_vin\n",
       "389955  3BY0509   조기폐차        7\n",
       "466284  3CY0194   조기폐차        7\n",
       "479660  3EY0293   조기폐차        7\n",
       "480380  3EY0185   조기폐차        7\n",
       "543605  3EY0293   조기폐차        7"
      ]
     },
     "metadata": {},
     "output_type": "display_data"
    },
    {
     "data": {
      "text/html": [
       "<div>\n",
       "<style scoped>\n",
       "    .dataframe tbody tr th:only-of-type {\n",
       "        vertical-align: middle;\n",
       "    }\n",
       "\n",
       "    .dataframe tbody tr th {\n",
       "        vertical-align: top;\n",
       "    }\n",
       "\n",
       "    .dataframe thead th {\n",
       "        text-align: right;\n",
       "    }\n",
       "</style>\n",
       "<table border=\"1\" class=\"dataframe\">\n",
       "  <thead>\n",
       "    <tr style=\"text-align: right;\">\n",
       "      <th></th>\n",
       "      <th>차대번호</th>\n",
       "      <th>저감장치구분</th>\n",
       "      <th>len_vin</th>\n",
       "    </tr>\n",
       "  </thead>\n",
       "  <tbody>\n",
       "    <tr>\n",
       "      <th>467742</th>\n",
       "      <td>34492468</td>\n",
       "      <td>조기폐차</td>\n",
       "      <td>8</td>\n",
       "    </tr>\n",
       "    <tr>\n",
       "      <th>516284</th>\n",
       "      <td>75101571</td>\n",
       "      <td>조기폐차</td>\n",
       "      <td>8</td>\n",
       "    </tr>\n",
       "    <tr>\n",
       "      <th>524627</th>\n",
       "      <td>DCP32022</td>\n",
       "      <td>조기폐차</td>\n",
       "      <td>8</td>\n",
       "    </tr>\n",
       "    <tr>\n",
       "      <th>601256</th>\n",
       "      <td>71-02860</td>\n",
       "      <td>조기폐차</td>\n",
       "      <td>8</td>\n",
       "    </tr>\n",
       "    <tr>\n",
       "      <th>613591</th>\n",
       "      <td>75101571</td>\n",
       "      <td>조기폐차</td>\n",
       "      <td>8</td>\n",
       "    </tr>\n",
       "  </tbody>\n",
       "</table>\n",
       "</div>"
      ],
      "text/plain": [
       "            차대번호 저감장치구분  len_vin\n",
       "467742  34492468   조기폐차        8\n",
       "516284  75101571   조기폐차        8\n",
       "524627  DCP32022   조기폐차        8\n",
       "601256  71-02860   조기폐차        8\n",
       "613591  75101571   조기폐차        8"
      ]
     },
     "metadata": {},
     "output_type": "display_data"
    },
    {
     "data": {
      "text/html": [
       "<div>\n",
       "<style scoped>\n",
       "    .dataframe tbody tr th:only-of-type {\n",
       "        vertical-align: middle;\n",
       "    }\n",
       "\n",
       "    .dataframe tbody tr th {\n",
       "        vertical-align: top;\n",
       "    }\n",
       "\n",
       "    .dataframe thead th {\n",
       "        text-align: right;\n",
       "    }\n",
       "</style>\n",
       "<table border=\"1\" class=\"dataframe\">\n",
       "  <thead>\n",
       "    <tr style=\"text-align: right;\">\n",
       "      <th></th>\n",
       "      <th>차대번호</th>\n",
       "      <th>저감장치구분</th>\n",
       "      <th>len_vin</th>\n",
       "    </tr>\n",
       "  </thead>\n",
       "  <tbody>\n",
       "    <tr>\n",
       "      <th>383754</th>\n",
       "      <td>71-102017</td>\n",
       "      <td>조기폐차</td>\n",
       "      <td>9</td>\n",
       "    </tr>\n",
       "    <tr>\n",
       "      <th>400248</th>\n",
       "      <td>71-100155</td>\n",
       "      <td>조기폐차</td>\n",
       "      <td>9</td>\n",
       "    </tr>\n",
       "    <tr>\n",
       "      <th>433757</th>\n",
       "      <td>71-100207</td>\n",
       "      <td>조기폐차</td>\n",
       "      <td>9</td>\n",
       "    </tr>\n",
       "    <tr>\n",
       "      <th>433853</th>\n",
       "      <td>71-108611</td>\n",
       "      <td>조기폐차</td>\n",
       "      <td>9</td>\n",
       "    </tr>\n",
       "    <tr>\n",
       "      <th>434072</th>\n",
       "      <td>71-105137</td>\n",
       "      <td>조기폐차</td>\n",
       "      <td>9</td>\n",
       "    </tr>\n",
       "  </tbody>\n",
       "</table>\n",
       "</div>"
      ],
      "text/plain": [
       "             차대번호 저감장치구분  len_vin\n",
       "383754  71-102017   조기폐차        9\n",
       "400248  71-100155   조기폐차        9\n",
       "433757  71-100207   조기폐차        9\n",
       "433853  71-108611   조기폐차        9\n",
       "434072  71-105137   조기폐차        9"
      ]
     },
     "metadata": {},
     "output_type": "display_data"
    },
    {
     "data": {
      "text/html": [
       "<div>\n",
       "<style scoped>\n",
       "    .dataframe tbody tr th:only-of-type {\n",
       "        vertical-align: middle;\n",
       "    }\n",
       "\n",
       "    .dataframe tbody tr th {\n",
       "        vertical-align: top;\n",
       "    }\n",
       "\n",
       "    .dataframe thead th {\n",
       "        text-align: right;\n",
       "    }\n",
       "</style>\n",
       "<table border=\"1\" class=\"dataframe\">\n",
       "  <thead>\n",
       "    <tr style=\"text-align: right;\">\n",
       "      <th></th>\n",
       "      <th>차대번호</th>\n",
       "      <th>저감장치구분</th>\n",
       "      <th>len_vin</th>\n",
       "    </tr>\n",
       "  </thead>\n",
       "  <tbody>\n",
       "    <tr>\n",
       "      <th>373838</th>\n",
       "      <td>대구-06다6828</td>\n",
       "      <td>조기폐차</td>\n",
       "      <td>10</td>\n",
       "    </tr>\n",
       "    <tr>\n",
       "      <th>378620</th>\n",
       "      <td>인천-06사8001</td>\n",
       "      <td>조기폐차</td>\n",
       "      <td>10</td>\n",
       "    </tr>\n",
       "    <tr>\n",
       "      <th>399706</th>\n",
       "      <td>DCP32II306</td>\n",
       "      <td>조기폐차</td>\n",
       "      <td>10</td>\n",
       "    </tr>\n",
       "    <tr>\n",
       "      <th>410462</th>\n",
       "      <td>DCP32II364</td>\n",
       "      <td>조기폐차</td>\n",
       "      <td>10</td>\n",
       "    </tr>\n",
       "    <tr>\n",
       "      <th>424949</th>\n",
       "      <td>SWC1004001</td>\n",
       "      <td>조기폐차</td>\n",
       "      <td>10</td>\n",
       "    </tr>\n",
       "  </tbody>\n",
       "</table>\n",
       "</div>"
      ],
      "text/plain": [
       "              차대번호 저감장치구분  len_vin\n",
       "373838  대구-06다6828   조기폐차       10\n",
       "378620  인천-06사8001   조기폐차       10\n",
       "399706  DCP32II306   조기폐차       10\n",
       "410462  DCP32II364   조기폐차       10\n",
       "424949  SWC1004001   조기폐차       10"
      ]
     },
     "metadata": {},
     "output_type": "display_data"
    },
    {
     "data": {
      "text/html": [
       "<div>\n",
       "<style scoped>\n",
       "    .dataframe tbody tr th:only-of-type {\n",
       "        vertical-align: middle;\n",
       "    }\n",
       "\n",
       "    .dataframe tbody tr th {\n",
       "        vertical-align: top;\n",
       "    }\n",
       "\n",
       "    .dataframe thead th {\n",
       "        text-align: right;\n",
       "    }\n",
       "</style>\n",
       "<table border=\"1\" class=\"dataframe\">\n",
       "  <thead>\n",
       "    <tr style=\"text-align: right;\">\n",
       "      <th></th>\n",
       "      <th>차대번호</th>\n",
       "      <th>저감장치구분</th>\n",
       "      <th>len_vin</th>\n",
       "    </tr>\n",
       "  </thead>\n",
       "  <tbody>\n",
       "    <tr>\n",
       "      <th>3433</th>\n",
       "      <td>01791201544</td>\n",
       "      <td>조기폐차</td>\n",
       "      <td>11</td>\n",
       "    </tr>\n",
       "    <tr>\n",
       "      <th>123915</th>\n",
       "      <td>02854307313</td>\n",
       "      <td>조기폐차</td>\n",
       "      <td>11</td>\n",
       "    </tr>\n",
       "    <tr>\n",
       "      <th>427871</th>\n",
       "      <td>서울-06-다8543</td>\n",
       "      <td>조기폐차</td>\n",
       "      <td>11</td>\n",
       "    </tr>\n",
       "    <tr>\n",
       "      <th>462062</th>\n",
       "      <td>CPC181-0036</td>\n",
       "      <td>조기폐차</td>\n",
       "      <td>11</td>\n",
       "    </tr>\n",
       "    <tr>\n",
       "      <th>469364</th>\n",
       "      <td>JFS-12H-020</td>\n",
       "      <td>조기폐차</td>\n",
       "      <td>11</td>\n",
       "    </tr>\n",
       "  </tbody>\n",
       "</table>\n",
       "</div>"
      ],
      "text/plain": [
       "               차대번호 저감장치구분  len_vin\n",
       "3433    01791201544   조기폐차       11\n",
       "123915  02854307313   조기폐차       11\n",
       "427871  서울-06-다8543   조기폐차       11\n",
       "462062  CPC181-0036   조기폐차       11\n",
       "469364  JFS-12H-020   조기폐차       11"
      ]
     },
     "metadata": {},
     "output_type": "display_data"
    },
    {
     "data": {
      "text/html": [
       "<div>\n",
       "<style scoped>\n",
       "    .dataframe tbody tr th:only-of-type {\n",
       "        vertical-align: middle;\n",
       "    }\n",
       "\n",
       "    .dataframe tbody tr th {\n",
       "        vertical-align: top;\n",
       "    }\n",
       "\n",
       "    .dataframe thead th {\n",
       "        text-align: right;\n",
       "    }\n",
       "</style>\n",
       "<table border=\"1\" class=\"dataframe\">\n",
       "  <thead>\n",
       "    <tr style=\"text-align: right;\">\n",
       "      <th></th>\n",
       "      <th>차대번호</th>\n",
       "      <th>저감장치구분</th>\n",
       "      <th>len_vin</th>\n",
       "    </tr>\n",
       "  </thead>\n",
       "  <tbody>\n",
       "    <tr>\n",
       "      <th>161</th>\n",
       "      <td>410034232324</td>\n",
       "      <td>조기폐차</td>\n",
       "      <td>12</td>\n",
       "    </tr>\n",
       "    <tr>\n",
       "      <th>829</th>\n",
       "      <td>410034231684</td>\n",
       "      <td>조기폐차</td>\n",
       "      <td>12</td>\n",
       "    </tr>\n",
       "    <tr>\n",
       "      <th>840</th>\n",
       "      <td>410244336324</td>\n",
       "      <td>조기폐차</td>\n",
       "      <td>12</td>\n",
       "    </tr>\n",
       "    <tr>\n",
       "      <th>1806</th>\n",
       "      <td>410042131523</td>\n",
       "      <td>조기폐차</td>\n",
       "      <td>12</td>\n",
       "    </tr>\n",
       "    <tr>\n",
       "      <th>2695</th>\n",
       "      <td>280034207074</td>\n",
       "      <td>조기폐차</td>\n",
       "      <td>12</td>\n",
       "    </tr>\n",
       "  </tbody>\n",
       "</table>\n",
       "</div>"
      ],
      "text/plain": [
       "              차대번호 저감장치구분  len_vin\n",
       "161   410034232324   조기폐차       12\n",
       "829   410034231684   조기폐차       12\n",
       "840   410244336324   조기폐차       12\n",
       "1806  410042131523   조기폐차       12\n",
       "2695  280034207074   조기폐차       12"
      ]
     },
     "metadata": {},
     "output_type": "display_data"
    },
    {
     "data": {
      "text/html": [
       "<div>\n",
       "<style scoped>\n",
       "    .dataframe tbody tr th:only-of-type {\n",
       "        vertical-align: middle;\n",
       "    }\n",
       "\n",
       "    .dataframe tbody tr th {\n",
       "        vertical-align: top;\n",
       "    }\n",
       "\n",
       "    .dataframe thead th {\n",
       "        text-align: right;\n",
       "    }\n",
       "</style>\n",
       "<table border=\"1\" class=\"dataframe\">\n",
       "  <thead>\n",
       "    <tr style=\"text-align: right;\">\n",
       "      <th></th>\n",
       "      <th>차대번호</th>\n",
       "      <th>저감장치구분</th>\n",
       "      <th>len_vin</th>\n",
       "    </tr>\n",
       "  </thead>\n",
       "  <tbody>\n",
       "    <tr>\n",
       "      <th>72815</th>\n",
       "      <td>280042106607인</td>\n",
       "      <td>조기폐차</td>\n",
       "      <td>13</td>\n",
       "    </tr>\n",
       "    <tr>\n",
       "      <th>96026</th>\n",
       "      <td>419424300173수</td>\n",
       "      <td>조기폐차</td>\n",
       "      <td>13</td>\n",
       "    </tr>\n",
       "    <tr>\n",
       "      <th>385170</th>\n",
       "      <td>FV145JML02411</td>\n",
       "      <td>조기폐차</td>\n",
       "      <td>13</td>\n",
       "    </tr>\n",
       "    <tr>\n",
       "      <th>389722</th>\n",
       "      <td>FV413J-A20371</td>\n",
       "      <td>조기폐차</td>\n",
       "      <td>13</td>\n",
       "    </tr>\n",
       "    <tr>\n",
       "      <th>400310</th>\n",
       "      <td>FV413J-A20206</td>\n",
       "      <td>조기폐차</td>\n",
       "      <td>13</td>\n",
       "    </tr>\n",
       "  </tbody>\n",
       "</table>\n",
       "</div>"
      ],
      "text/plain": [
       "                 차대번호 저감장치구분  len_vin\n",
       "72815   280042106607인   조기폐차       13\n",
       "96026   419424300173수   조기폐차       13\n",
       "385170  FV145JML02411   조기폐차       13\n",
       "389722  FV413J-A20371   조기폐차       13\n",
       "400310  FV413J-A20206   조기폐차       13"
      ]
     },
     "metadata": {},
     "output_type": "display_data"
    },
    {
     "data": {
      "text/html": [
       "<div>\n",
       "<style scoped>\n",
       "    .dataframe tbody tr th:only-of-type {\n",
       "        vertical-align: middle;\n",
       "    }\n",
       "\n",
       "    .dataframe tbody tr th {\n",
       "        vertical-align: top;\n",
       "    }\n",
       "\n",
       "    .dataframe thead th {\n",
       "        text-align: right;\n",
       "    }\n",
       "</style>\n",
       "<table border=\"1\" class=\"dataframe\">\n",
       "  <thead>\n",
       "    <tr style=\"text-align: right;\">\n",
       "      <th></th>\n",
       "      <th>차대번호</th>\n",
       "      <th>저감장치구분</th>\n",
       "      <th>len_vin</th>\n",
       "    </tr>\n",
       "  </thead>\n",
       "  <tbody>\n",
       "    <tr>\n",
       "      <th>47313</th>\n",
       "      <td>KPBLC1YP097817</td>\n",
       "      <td>조기폐차</td>\n",
       "      <td>14</td>\n",
       "    </tr>\n",
       "    <tr>\n",
       "      <th>384197</th>\n",
       "      <td>FV415JML005461</td>\n",
       "      <td>조기폐차</td>\n",
       "      <td>14</td>\n",
       "    </tr>\n",
       "    <tr>\n",
       "      <th>384394</th>\n",
       "      <td>FV415JML101821</td>\n",
       "      <td>조기폐차</td>\n",
       "      <td>14</td>\n",
       "    </tr>\n",
       "    <tr>\n",
       "      <th>384601</th>\n",
       "      <td>FV415JML007179</td>\n",
       "      <td>조기폐차</td>\n",
       "      <td>14</td>\n",
       "    </tr>\n",
       "    <tr>\n",
       "      <th>384856</th>\n",
       "      <td>FV415JML100114</td>\n",
       "      <td>조기폐차</td>\n",
       "      <td>14</td>\n",
       "    </tr>\n",
       "  </tbody>\n",
       "</table>\n",
       "</div>"
      ],
      "text/plain": [
       "                  차대번호 저감장치구분  len_vin\n",
       "47313   KPBLC1YP097817   조기폐차       14\n",
       "384197  FV415JML005461   조기폐차       14\n",
       "384394  FV415JML101821   조기폐차       14\n",
       "384601  FV415JML007179   조기폐차       14\n",
       "384856  FV415JML100114   조기폐차       14"
      ]
     },
     "metadata": {},
     "output_type": "display_data"
    },
    {
     "data": {
      "text/html": [
       "<div>\n",
       "<style scoped>\n",
       "    .dataframe tbody tr th:only-of-type {\n",
       "        vertical-align: middle;\n",
       "    }\n",
       "\n",
       "    .dataframe tbody tr th {\n",
       "        vertical-align: top;\n",
       "    }\n",
       "\n",
       "    .dataframe thead th {\n",
       "        text-align: right;\n",
       "    }\n",
       "</style>\n",
       "<table border=\"1\" class=\"dataframe\">\n",
       "  <thead>\n",
       "    <tr style=\"text-align: right;\">\n",
       "      <th></th>\n",
       "      <th>차대번호</th>\n",
       "      <th>저감장치구분</th>\n",
       "      <th>len_vin</th>\n",
       "    </tr>\n",
       "  </thead>\n",
       "  <tbody>\n",
       "    <tr>\n",
       "      <th>378221</th>\n",
       "      <td>FV415JML-100879</td>\n",
       "      <td>조기폐차</td>\n",
       "      <td>15</td>\n",
       "    </tr>\n",
       "    <tr>\n",
       "      <th>384766</th>\n",
       "      <td>FV415JML-005368</td>\n",
       "      <td>조기폐차</td>\n",
       "      <td>15</td>\n",
       "    </tr>\n",
       "    <tr>\n",
       "      <th>392514</th>\n",
       "      <td>FV415JML-102042</td>\n",
       "      <td>조기폐차</td>\n",
       "      <td>15</td>\n",
       "    </tr>\n",
       "    <tr>\n",
       "      <th>392585</th>\n",
       "      <td>FV415JML-100622</td>\n",
       "      <td>조기폐차</td>\n",
       "      <td>15</td>\n",
       "    </tr>\n",
       "    <tr>\n",
       "      <th>392982</th>\n",
       "      <td>FV415JML-101172</td>\n",
       "      <td>조기폐차</td>\n",
       "      <td>15</td>\n",
       "    </tr>\n",
       "  </tbody>\n",
       "</table>\n",
       "</div>"
      ],
      "text/plain": [
       "                   차대번호 저감장치구분  len_vin\n",
       "378221  FV415JML-100879   조기폐차       15\n",
       "384766  FV415JML-005368   조기폐차       15\n",
       "392514  FV415JML-102042   조기폐차       15\n",
       "392585  FV415JML-100622   조기폐차       15\n",
       "392982  FV415JML-101172   조기폐차       15"
      ]
     },
     "metadata": {},
     "output_type": "display_data"
    },
    {
     "data": {
      "text/html": [
       "<div>\n",
       "<style scoped>\n",
       "    .dataframe tbody tr th:only-of-type {\n",
       "        vertical-align: middle;\n",
       "    }\n",
       "\n",
       "    .dataframe tbody tr th {\n",
       "        vertical-align: top;\n",
       "    }\n",
       "\n",
       "    .dataframe thead th {\n",
       "        text-align: right;\n",
       "    }\n",
       "</style>\n",
       "<table border=\"1\" class=\"dataframe\">\n",
       "  <thead>\n",
       "    <tr style=\"text-align: right;\">\n",
       "      <th></th>\n",
       "      <th>차대번호</th>\n",
       "      <th>저감장치구분</th>\n",
       "      <th>len_vin</th>\n",
       "    </tr>\n",
       "  </thead>\n",
       "  <tbody>\n",
       "    <tr>\n",
       "      <th>39322</th>\n",
       "      <td>KPAEA4MDXP173236</td>\n",
       "      <td>조기폐차</td>\n",
       "      <td>16</td>\n",
       "    </tr>\n",
       "    <tr>\n",
       "      <th>64704</th>\n",
       "      <td>KNAMA75131S15976</td>\n",
       "      <td>조기폐차</td>\n",
       "      <td>16</td>\n",
       "    </tr>\n",
       "    <tr>\n",
       "      <th>68120</th>\n",
       "      <td>KMHMH81VP2U12928</td>\n",
       "      <td>조기폐차</td>\n",
       "      <td>16</td>\n",
       "    </tr>\n",
       "    <tr>\n",
       "      <th>105067</th>\n",
       "      <td>41-94-342-80868수</td>\n",
       "      <td>조기폐차</td>\n",
       "      <td>16</td>\n",
       "    </tr>\n",
       "    <tr>\n",
       "      <th>116078</th>\n",
       "      <td>KMFWVH7HP6U70128</td>\n",
       "      <td>조기폐차</td>\n",
       "      <td>16</td>\n",
       "    </tr>\n",
       "  </tbody>\n",
       "</table>\n",
       "</div>"
      ],
      "text/plain": [
       "                    차대번호 저감장치구분  len_vin\n",
       "39322   KPAEA4MDXP173236   조기폐차       16\n",
       "64704   KNAMA75131S15976   조기폐차       16\n",
       "68120   KMHMH81VP2U12928   조기폐차       16\n",
       "105067  41-94-342-80868수   조기폐차       16\n",
       "116078  KMFWVH7HP6U70128   조기폐차       16"
      ]
     },
     "metadata": {},
     "output_type": "display_data"
    },
    {
     "data": {
      "text/html": [
       "<div>\n",
       "<style scoped>\n",
       "    .dataframe tbody tr th:only-of-type {\n",
       "        vertical-align: middle;\n",
       "    }\n",
       "\n",
       "    .dataframe tbody tr th {\n",
       "        vertical-align: top;\n",
       "    }\n",
       "\n",
       "    .dataframe thead th {\n",
       "        text-align: right;\n",
       "    }\n",
       "</style>\n",
       "<table border=\"1\" class=\"dataframe\">\n",
       "  <thead>\n",
       "    <tr style=\"text-align: right;\">\n",
       "      <th></th>\n",
       "      <th>차대번호</th>\n",
       "      <th>저감장치구분</th>\n",
       "      <th>len_vin</th>\n",
       "    </tr>\n",
       "  </thead>\n",
       "  <tbody>\n",
       "    <tr>\n",
       "      <th>86205</th>\n",
       "      <td>KN90J4MDDD7HZ00003</td>\n",
       "      <td>조기폐차</td>\n",
       "      <td>18</td>\n",
       "    </tr>\n",
       "    <tr>\n",
       "      <th>392494</th>\n",
       "      <td>KNRB4AMAZVC-001262</td>\n",
       "      <td>조기폐차</td>\n",
       "      <td>18</td>\n",
       "    </tr>\n",
       "    <tr>\n",
       "      <th>399496</th>\n",
       "      <td>KL3RG58D32K-000320</td>\n",
       "      <td>조기폐차</td>\n",
       "      <td>18</td>\n",
       "    </tr>\n",
       "    <tr>\n",
       "      <th>399525</th>\n",
       "      <td>KNRB4AMA-ZVC001150</td>\n",
       "      <td>조기폐차</td>\n",
       "      <td>18</td>\n",
       "    </tr>\n",
       "    <tr>\n",
       "      <th>410297</th>\n",
       "      <td>KNRB4AMAZSC-000225</td>\n",
       "      <td>조기폐차</td>\n",
       "      <td>18</td>\n",
       "    </tr>\n",
       "  </tbody>\n",
       "</table>\n",
       "</div>"
      ],
      "text/plain": [
       "                      차대번호 저감장치구분  len_vin\n",
       "86205   KN90J4MDDD7HZ00003   조기폐차       18\n",
       "392494  KNRB4AMAZVC-001262   조기폐차       18\n",
       "399496  KL3RG58D32K-000320   조기폐차       18\n",
       "399525  KNRB4AMA-ZVC001150   조기폐차       18\n",
       "410297  KNRB4AMAZSC-000225   조기폐차       18"
      ]
     },
     "metadata": {},
     "output_type": "display_data"
    },
    {
     "data": {
      "text/html": [
       "<div>\n",
       "<style scoped>\n",
       "    .dataframe tbody tr th:only-of-type {\n",
       "        vertical-align: middle;\n",
       "    }\n",
       "\n",
       "    .dataframe tbody tr th {\n",
       "        vertical-align: top;\n",
       "    }\n",
       "\n",
       "    .dataframe thead th {\n",
       "        text-align: right;\n",
       "    }\n",
       "</style>\n",
       "<table border=\"1\" class=\"dataframe\">\n",
       "  <thead>\n",
       "    <tr style=\"text-align: right;\">\n",
       "      <th></th>\n",
       "      <th>차대번호</th>\n",
       "      <th>저감장치구분</th>\n",
       "      <th>len_vin</th>\n",
       "    </tr>\n",
       "  </thead>\n",
       "  <tbody>\n",
       "    <tr>\n",
       "      <th>733361</th>\n",
       "      <td>SM510HWS=06M0-000023</td>\n",
       "      <td>조기폐차</td>\n",
       "      <td>20</td>\n",
       "    </tr>\n",
       "  </tbody>\n",
       "</table>\n",
       "</div>"
      ],
      "text/plain": [
       "                        차대번호 저감장치구분  len_vin\n",
       "733361  SM510HWS=06M0-000023   조기폐차       20"
      ]
     },
     "metadata": {},
     "output_type": "display_data"
    },
    {
     "data": {
      "text/html": [
       "<div>\n",
       "<style scoped>\n",
       "    .dataframe tbody tr th:only-of-type {\n",
       "        vertical-align: middle;\n",
       "    }\n",
       "\n",
       "    .dataframe tbody tr th {\n",
       "        vertical-align: top;\n",
       "    }\n",
       "\n",
       "    .dataframe thead th {\n",
       "        text-align: right;\n",
       "    }\n",
       "</style>\n",
       "<table border=\"1\" class=\"dataframe\">\n",
       "  <thead>\n",
       "    <tr style=\"text-align: right;\">\n",
       "      <th></th>\n",
       "      <th>차대번호</th>\n",
       "      <th>저감장치구분</th>\n",
       "      <th>len_vin</th>\n",
       "    </tr>\n",
       "  </thead>\n",
       "  <tbody>\n",
       "    <tr>\n",
       "      <th>711014</th>\n",
       "      <td>서울06자6935(KNRB46MAZVC003654</td>\n",
       "      <td>조기폐차</td>\n",
       "      <td>27</td>\n",
       "    </tr>\n",
       "    <tr>\n",
       "      <th>726383</th>\n",
       "      <td>서울06자6935(KNRB46MAZVC003654</td>\n",
       "      <td>조기폐차</td>\n",
       "      <td>27</td>\n",
       "    </tr>\n",
       "  </tbody>\n",
       "</table>\n",
       "</div>"
      ],
      "text/plain": [
       "                               차대번호 저감장치구분  len_vin\n",
       "711014  서울06자6935(KNRB46MAZVC003654   조기폐차       27\n",
       "726383  서울06자6935(KNRB46MAZVC003654   조기폐차       27"
      ]
     },
     "metadata": {},
     "output_type": "display_data"
    }
   ],
   "source": [
    "for one in set(len_not_17):\n",
    "    display(len_not_17_temp[len_not_17_temp['len_vin'] == one].head())"
   ]
  },
  {
   "cell_type": "code",
   "execution_count": 21,
   "metadata": {},
   "outputs": [
    {
     "data": {
      "text/plain": [
       "0"
      ]
     },
     "execution_count": 21,
     "metadata": {},
     "output_type": "execute_result"
    }
   ],
   "source": [
    "len_17_wrong_text_idx = []\n",
    "p = re.compile('[ㄱ-ㅎ|ㅏ-ㅣ|가-힣]')\n",
    "for i, one in enumerate(early_aea1['차대번호']):\n",
    "    if len(str(one)) == 17 and p.search(str(one)):\n",
    "        len_17_wrong_text_idx.append(i)\n",
    "len(len_17_wrong_text_idx)"
   ]
  },
  {
   "attachments": {},
   "cell_type": "markdown",
   "metadata": {},
   "source": [
    "## 저감장치구분"
   ]
  },
  {
   "cell_type": "code",
   "execution_count": 22,
   "metadata": {},
   "outputs": [
    {
     "data": {
      "text/plain": [
       "array(['조기폐차'], dtype=object)"
      ]
     },
     "execution_count": 22,
     "metadata": {},
     "output_type": "execute_result"
    }
   ],
   "source": [
    "early_aea1['저감장치구분'].unique()"
   ]
  },
  {
   "attachments": {},
   "cell_type": "markdown",
   "metadata": {},
   "source": [
    "# 11\\. 노후차 조기폐차 관리정보(수도권 외)"
   ]
  },
  {
   "cell_type": "code",
   "execution_count": 43,
   "metadata": {},
   "outputs": [
    {
     "name": "stdout",
     "output_type": "stream",
     "text": [
      "<class 'pandas.core.frame.DataFrame'>\n",
      "RangeIndex: 291353 entries, 0 to 291352\n",
      "Columns: 170 entries, ELPDSRC_MNGT_NO to PFMINPC_ELPDSRC_GNRLZ_RESN\n",
      "dtypes: float64(71), int64(4), object(95)\n",
      "memory usage: 377.9+ MB\n"
     ]
    }
   ],
   "source": [
    "name = 'DLM_TB_ERP_EARLY_ERASE_LGV'\n",
    "file_name = f'ODS_{name}.csv'\n",
    "early_lgv = pd.read_csv(os.path.join(ods_fold, file_name), low_memory=False)\n",
    "early_lgv.info()"
   ]
  },
  {
   "cell_type": "code",
   "execution_count": 44,
   "metadata": {},
   "outputs": [
    {
     "data": {
      "text/plain": [
       "Index(['미정', '조기폐차상태코드', '저감장치구분', '미정', '미정', '미정', '미정', '미정', '미정', '미정',\n",
       "       ...\n",
       "       '미정', '미정', '미정', '미정', '미정', '미정', '미정', '미정', '미정', '미정'],\n",
       "      dtype='object', length=170)"
      ]
     },
     "execution_count": 44,
     "metadata": {},
     "output_type": "execute_result"
    }
   ],
   "source": [
    "file_name = f'[정제]{name}.xlsx'\n",
    "col_df = pd.read_excel(os.path.join(col_fold, file_name), sheet_name='ODS_col')\n",
    "col_dict = {a:b for a,b in col_df[['컬럼', '내용']].values}\n",
    "early_lgv.columns = [col_dict[x] for x in early_lgv.columns]\n",
    "early_lgv.columns"
   ]
  },
  {
   "cell_type": "code",
   "execution_count": 45,
   "metadata": {},
   "outputs": [
    {
     "data": {
      "text/html": [
       "<div>\n",
       "<style scoped>\n",
       "    .dataframe tbody tr th:only-of-type {\n",
       "        vertical-align: middle;\n",
       "    }\n",
       "\n",
       "    .dataframe tbody tr th {\n",
       "        vertical-align: top;\n",
       "    }\n",
       "\n",
       "    .dataframe thead th {\n",
       "        text-align: right;\n",
       "    }\n",
       "</style>\n",
       "<table border=\"1\" class=\"dataframe\">\n",
       "  <thead>\n",
       "    <tr style=\"text-align: right;\">\n",
       "      <th></th>\n",
       "      <th>차대번호</th>\n",
       "      <th>저감장치구분</th>\n",
       "      <th>차량등록번호</th>\n",
       "      <th>조기폐차최종승인YN</th>\n",
       "      <th>조기폐차상태코드</th>\n",
       "      <th>말소일자</th>\n",
       "      <th>접수시도</th>\n",
       "      <th>저감장치 부착불가 여부</th>\n",
       "      <th>폐차등록주행거리</th>\n",
       "    </tr>\n",
       "  </thead>\n",
       "  <tbody>\n",
       "    <tr>\n",
       "      <th>0</th>\n",
       "      <td>KNAJE55136K177805</td>\n",
       "      <td>조기폐차</td>\n",
       "      <td>60다6989</td>\n",
       "      <td>Y</td>\n",
       "      <td>Y</td>\n",
       "      <td>20210316.00</td>\n",
       "      <td>강원도</td>\n",
       "      <td>N</td>\n",
       "      <td>200356.00</td>\n",
       "    </tr>\n",
       "    <tr>\n",
       "      <th>1</th>\n",
       "      <td>KMHSD81VP4U723925</td>\n",
       "      <td>조기폐차</td>\n",
       "      <td>50모3406</td>\n",
       "      <td>Y</td>\n",
       "      <td>Y</td>\n",
       "      <td>20210317.00</td>\n",
       "      <td>강원도</td>\n",
       "      <td>Y</td>\n",
       "      <td>235898.00</td>\n",
       "    </tr>\n",
       "    <tr>\n",
       "      <th>2</th>\n",
       "      <td>KMHSD81VP4U657262</td>\n",
       "      <td>조기폐차</td>\n",
       "      <td>35마2904</td>\n",
       "      <td>Y</td>\n",
       "      <td>Y</td>\n",
       "      <td>20210409.00</td>\n",
       "      <td>강원도</td>\n",
       "      <td>N</td>\n",
       "      <td>313465.00</td>\n",
       "    </tr>\n",
       "    <tr>\n",
       "      <th>3</th>\n",
       "      <td>KN3HRP4N35K087584</td>\n",
       "      <td>조기폐차</td>\n",
       "      <td>95저3210</td>\n",
       "      <td>Y</td>\n",
       "      <td>Y</td>\n",
       "      <td>20210312.00</td>\n",
       "      <td>강원도</td>\n",
       "      <td>Y</td>\n",
       "      <td>159242.00</td>\n",
       "    </tr>\n",
       "    <tr>\n",
       "      <th>4</th>\n",
       "      <td>KN3HDP3363K918987</td>\n",
       "      <td>조기폐차</td>\n",
       "      <td>강원80구4284</td>\n",
       "      <td>Y</td>\n",
       "      <td>Y</td>\n",
       "      <td>20210304.00</td>\n",
       "      <td>강원도</td>\n",
       "      <td>Y</td>\n",
       "      <td>150566.00</td>\n",
       "    </tr>\n",
       "  </tbody>\n",
       "</table>\n",
       "</div>"
      ],
      "text/plain": [
       "                차대번호 저감장치구분     차량등록번호 조기폐차최종승인YN 조기폐차상태코드        말소일자 접수시도  \\\n",
       "0  KNAJE55136K177805   조기폐차    60다6989          Y        Y 20210316.00  강원도   \n",
       "1  KMHSD81VP4U723925   조기폐차    50모3406          Y        Y 20210317.00  강원도   \n",
       "2  KMHSD81VP4U657262   조기폐차    35마2904          Y        Y 20210409.00  강원도   \n",
       "3  KN3HRP4N35K087584   조기폐차    95저3210          Y        Y 20210312.00  강원도   \n",
       "4  KN3HDP3363K918987   조기폐차  강원80구4284          Y        Y 20210304.00  강원도   \n",
       "\n",
       "  저감장치 부착불가 여부  폐차등록주행거리  \n",
       "0            N 200356.00  \n",
       "1            Y 235898.00  \n",
       "2            N 313465.00  \n",
       "3            Y 159242.00  \n",
       "4            Y 150566.00  "
      ]
     },
     "execution_count": 45,
     "metadata": {},
     "output_type": "execute_result"
    }
   ],
   "source": [
    "early_lgv[['차대번호', '저감장치구분', '차량등록번호', '조기폐차최종승인YN', '조기폐차상태코드', '말소일자', '접수시도', '저감장치 부착불가 여부', '폐차등록주행거리']].head()"
   ]
  },
  {
   "cell_type": "code",
   "execution_count": 25,
   "metadata": {},
   "outputs": [
    {
     "name": "stdout",
     "output_type": "stream",
     "text": [
      "<class 'pandas.core.frame.DataFrame'>\n",
      "RangeIndex: 291353 entries, 0 to 291352\n",
      "Data columns (total 2 columns):\n",
      " #   Column  Non-Null Count   Dtype \n",
      "---  ------  --------------   ----- \n",
      " 0   차대번호    291353 non-null  object\n",
      " 1   저감장치구분  291353 non-null  object\n",
      "dtypes: object(2)\n",
      "memory usage: 4.4+ MB\n"
     ]
    }
   ],
   "source": [
    "early_lgv1 = early_lgv[['차대번호', '저감장치구분']]\n",
    "early_lgv1.info()"
   ]
  },
  {
   "attachments": {},
   "cell_type": "markdown",
   "metadata": {},
   "source": [
    "## 차대번호"
   ]
  },
  {
   "cell_type": "code",
   "execution_count": 26,
   "metadata": {},
   "outputs": [
    {
     "data": {
      "text/plain": [
       "1153"
      ]
     },
     "execution_count": 26,
     "metadata": {},
     "output_type": "execute_result"
    }
   ],
   "source": [
    "len_not_17_idx = []\n",
    "len_not_17 = []\n",
    "for i, one in enumerate(early_lgv1['차대번호']):\n",
    "    if len(str(one)) != 17:\n",
    "        len_not_17_idx.append(i)\n",
    "        len_not_17.append(len(str(one)))\n",
    "len(len_not_17_idx)"
   ]
  },
  {
   "cell_type": "code",
   "execution_count": 27,
   "metadata": {},
   "outputs": [
    {
     "data": {
      "text/plain": [
       "{4, 5, 6, 7, 8, 9, 10, 11, 12, 13, 14, 15, 16, 18, 19, 20}"
      ]
     },
     "execution_count": 27,
     "metadata": {},
     "output_type": "execute_result"
    }
   ],
   "source": [
    "set(len_not_17)"
   ]
  },
  {
   "cell_type": "code",
   "execution_count": 28,
   "metadata": {},
   "outputs": [
    {
     "data": {
      "text/plain": [
       "(1153, 2)"
      ]
     },
     "execution_count": 28,
     "metadata": {},
     "output_type": "execute_result"
    }
   ],
   "source": [
    "len_not_17_temp = early_lgv1.loc[len_not_17_idx]\n",
    "len_not_17_temp.shape"
   ]
  },
  {
   "cell_type": "code",
   "execution_count": 29,
   "metadata": {},
   "outputs": [],
   "source": [
    "len_not_17_temp['len_vin'] = len_not_17"
   ]
  },
  {
   "cell_type": "code",
   "execution_count": 30,
   "metadata": {},
   "outputs": [
    {
     "data": {
      "text/html": [
       "<div>\n",
       "<style scoped>\n",
       "    .dataframe tbody tr th:only-of-type {\n",
       "        vertical-align: middle;\n",
       "    }\n",
       "\n",
       "    .dataframe tbody tr th {\n",
       "        vertical-align: top;\n",
       "    }\n",
       "\n",
       "    .dataframe thead th {\n",
       "        text-align: right;\n",
       "    }\n",
       "</style>\n",
       "<table border=\"1\" class=\"dataframe\">\n",
       "  <thead>\n",
       "    <tr style=\"text-align: right;\">\n",
       "      <th></th>\n",
       "      <th>차대번호</th>\n",
       "      <th>저감장치구분</th>\n",
       "      <th>len_vin</th>\n",
       "    </tr>\n",
       "  </thead>\n",
       "  <tbody>\n",
       "    <tr>\n",
       "      <th>212626</th>\n",
       "      <td>0192</td>\n",
       "      <td>조기폐차</td>\n",
       "      <td>4</td>\n",
       "    </tr>\n",
       "  </tbody>\n",
       "</table>\n",
       "</div>"
      ],
      "text/plain": [
       "        차대번호 저감장치구분  len_vin\n",
       "212626  0192   조기폐차        4"
      ]
     },
     "metadata": {},
     "output_type": "display_data"
    },
    {
     "data": {
      "text/html": [
       "<div>\n",
       "<style scoped>\n",
       "    .dataframe tbody tr th:only-of-type {\n",
       "        vertical-align: middle;\n",
       "    }\n",
       "\n",
       "    .dataframe tbody tr th {\n",
       "        vertical-align: top;\n",
       "    }\n",
       "\n",
       "    .dataframe thead th {\n",
       "        text-align: right;\n",
       "    }\n",
       "</style>\n",
       "<table border=\"1\" class=\"dataframe\">\n",
       "  <thead>\n",
       "    <tr style=\"text-align: right;\">\n",
       "      <th></th>\n",
       "      <th>차대번호</th>\n",
       "      <th>저감장치구분</th>\n",
       "      <th>len_vin</th>\n",
       "    </tr>\n",
       "  </thead>\n",
       "  <tbody>\n",
       "    <tr>\n",
       "      <th>191537</th>\n",
       "      <td>01132</td>\n",
       "      <td>조기폐차</td>\n",
       "      <td>5</td>\n",
       "    </tr>\n",
       "    <tr>\n",
       "      <th>197204</th>\n",
       "      <td>03120</td>\n",
       "      <td>조기폐차</td>\n",
       "      <td>5</td>\n",
       "    </tr>\n",
       "    <tr>\n",
       "      <th>246037</th>\n",
       "      <td>00342</td>\n",
       "      <td>조기폐차</td>\n",
       "      <td>5</td>\n",
       "    </tr>\n",
       "    <tr>\n",
       "      <th>265160</th>\n",
       "      <td>74102</td>\n",
       "      <td>조기폐차</td>\n",
       "      <td>5</td>\n",
       "    </tr>\n",
       "  </tbody>\n",
       "</table>\n",
       "</div>"
      ],
      "text/plain": [
       "         차대번호 저감장치구분  len_vin\n",
       "191537  01132   조기폐차        5\n",
       "197204  03120   조기폐차        5\n",
       "246037  00342   조기폐차        5\n",
       "265160  74102   조기폐차        5"
      ]
     },
     "metadata": {},
     "output_type": "display_data"
    },
    {
     "data": {
      "text/html": [
       "<div>\n",
       "<style scoped>\n",
       "    .dataframe tbody tr th:only-of-type {\n",
       "        vertical-align: middle;\n",
       "    }\n",
       "\n",
       "    .dataframe tbody tr th {\n",
       "        vertical-align: top;\n",
       "    }\n",
       "\n",
       "    .dataframe thead th {\n",
       "        text-align: right;\n",
       "    }\n",
       "</style>\n",
       "<table border=\"1\" class=\"dataframe\">\n",
       "  <thead>\n",
       "    <tr style=\"text-align: right;\">\n",
       "      <th></th>\n",
       "      <th>차대번호</th>\n",
       "      <th>저감장치구분</th>\n",
       "      <th>len_vin</th>\n",
       "    </tr>\n",
       "  </thead>\n",
       "  <tbody>\n",
       "    <tr>\n",
       "      <th>184253</th>\n",
       "      <td>000189</td>\n",
       "      <td>조기폐차</td>\n",
       "      <td>6</td>\n",
       "    </tr>\n",
       "    <tr>\n",
       "      <th>184790</th>\n",
       "      <td>002568</td>\n",
       "      <td>조기폐차</td>\n",
       "      <td>6</td>\n",
       "    </tr>\n",
       "    <tr>\n",
       "      <th>186893</th>\n",
       "      <td>002218</td>\n",
       "      <td>조기폐차</td>\n",
       "      <td>6</td>\n",
       "    </tr>\n",
       "    <tr>\n",
       "      <th>191734</th>\n",
       "      <td>000584</td>\n",
       "      <td>조기폐차</td>\n",
       "      <td>6</td>\n",
       "    </tr>\n",
       "    <tr>\n",
       "      <th>192246</th>\n",
       "      <td>004381</td>\n",
       "      <td>조기폐차</td>\n",
       "      <td>6</td>\n",
       "    </tr>\n",
       "  </tbody>\n",
       "</table>\n",
       "</div>"
      ],
      "text/plain": [
       "          차대번호 저감장치구분  len_vin\n",
       "184253  000189   조기폐차        6\n",
       "184790  002568   조기폐차        6\n",
       "186893  002218   조기폐차        6\n",
       "191734  000584   조기폐차        6\n",
       "192246  004381   조기폐차        6"
      ]
     },
     "metadata": {},
     "output_type": "display_data"
    },
    {
     "data": {
      "text/html": [
       "<div>\n",
       "<style scoped>\n",
       "    .dataframe tbody tr th:only-of-type {\n",
       "        vertical-align: middle;\n",
       "    }\n",
       "\n",
       "    .dataframe tbody tr th {\n",
       "        vertical-align: top;\n",
       "    }\n",
       "\n",
       "    .dataframe thead th {\n",
       "        text-align: right;\n",
       "    }\n",
       "</style>\n",
       "<table border=\"1\" class=\"dataframe\">\n",
       "  <thead>\n",
       "    <tr style=\"text-align: right;\">\n",
       "      <th></th>\n",
       "      <th>차대번호</th>\n",
       "      <th>저감장치구분</th>\n",
       "      <th>len_vin</th>\n",
       "    </tr>\n",
       "  </thead>\n",
       "  <tbody>\n",
       "    <tr>\n",
       "      <th>78510</th>\n",
       "      <td>3EY0232</td>\n",
       "      <td>조기폐차</td>\n",
       "      <td>7</td>\n",
       "    </tr>\n",
       "    <tr>\n",
       "      <th>121515</th>\n",
       "      <td>3EY0155</td>\n",
       "      <td>조기폐차</td>\n",
       "      <td>7</td>\n",
       "    </tr>\n",
       "    <tr>\n",
       "      <th>136344</th>\n",
       "      <td>3AY0155</td>\n",
       "      <td>조기폐차</td>\n",
       "      <td>7</td>\n",
       "    </tr>\n",
       "    <tr>\n",
       "      <th>137030</th>\n",
       "      <td>3EY0092</td>\n",
       "      <td>조기폐차</td>\n",
       "      <td>7</td>\n",
       "    </tr>\n",
       "    <tr>\n",
       "      <th>159471</th>\n",
       "      <td>3CY0281</td>\n",
       "      <td>조기폐차</td>\n",
       "      <td>7</td>\n",
       "    </tr>\n",
       "  </tbody>\n",
       "</table>\n",
       "</div>"
      ],
      "text/plain": [
       "           차대번호 저감장치구분  len_vin\n",
       "78510   3EY0232   조기폐차        7\n",
       "121515  3EY0155   조기폐차        7\n",
       "136344  3AY0155   조기폐차        7\n",
       "137030  3EY0092   조기폐차        7\n",
       "159471  3CY0281   조기폐차        7"
      ]
     },
     "metadata": {},
     "output_type": "display_data"
    },
    {
     "data": {
      "text/html": [
       "<div>\n",
       "<style scoped>\n",
       "    .dataframe tbody tr th:only-of-type {\n",
       "        vertical-align: middle;\n",
       "    }\n",
       "\n",
       "    .dataframe tbody tr th {\n",
       "        vertical-align: top;\n",
       "    }\n",
       "\n",
       "    .dataframe thead th {\n",
       "        text-align: right;\n",
       "    }\n",
       "</style>\n",
       "<table border=\"1\" class=\"dataframe\">\n",
       "  <thead>\n",
       "    <tr style=\"text-align: right;\">\n",
       "      <th></th>\n",
       "      <th>차대번호</th>\n",
       "      <th>저감장치구분</th>\n",
       "      <th>len_vin</th>\n",
       "    </tr>\n",
       "  </thead>\n",
       "  <tbody>\n",
       "    <tr>\n",
       "      <th>136345</th>\n",
       "      <td>DCP36070</td>\n",
       "      <td>조기폐차</td>\n",
       "      <td>8</td>\n",
       "    </tr>\n",
       "    <tr>\n",
       "      <th>159470</th>\n",
       "      <td>DCP32101</td>\n",
       "      <td>조기폐차</td>\n",
       "      <td>8</td>\n",
       "    </tr>\n",
       "    <tr>\n",
       "      <th>162641</th>\n",
       "      <td>DCP32176</td>\n",
       "      <td>조기폐차</td>\n",
       "      <td>8</td>\n",
       "    </tr>\n",
       "    <tr>\n",
       "      <th>163583</th>\n",
       "      <td>DCP36073</td>\n",
       "      <td>조기폐차</td>\n",
       "      <td>8</td>\n",
       "    </tr>\n",
       "    <tr>\n",
       "      <th>165518</th>\n",
       "      <td>DCP32281</td>\n",
       "      <td>조기폐차</td>\n",
       "      <td>8</td>\n",
       "    </tr>\n",
       "  </tbody>\n",
       "</table>\n",
       "</div>"
      ],
      "text/plain": [
       "            차대번호 저감장치구분  len_vin\n",
       "136345  DCP36070   조기폐차        8\n",
       "159470  DCP32101   조기폐차        8\n",
       "162641  DCP32176   조기폐차        8\n",
       "163583  DCP36073   조기폐차        8\n",
       "165518  DCP32281   조기폐차        8"
      ]
     },
     "metadata": {},
     "output_type": "display_data"
    },
    {
     "data": {
      "text/html": [
       "<div>\n",
       "<style scoped>\n",
       "    .dataframe tbody tr th:only-of-type {\n",
       "        vertical-align: middle;\n",
       "    }\n",
       "\n",
       "    .dataframe tbody tr th {\n",
       "        vertical-align: top;\n",
       "    }\n",
       "\n",
       "    .dataframe thead th {\n",
       "        text-align: right;\n",
       "    }\n",
       "</style>\n",
       "<table border=\"1\" class=\"dataframe\">\n",
       "  <thead>\n",
       "    <tr style=\"text-align: right;\">\n",
       "      <th></th>\n",
       "      <th>차대번호</th>\n",
       "      <th>저감장치구분</th>\n",
       "      <th>len_vin</th>\n",
       "    </tr>\n",
       "  </thead>\n",
       "  <tbody>\n",
       "    <tr>\n",
       "      <th>158360</th>\n",
       "      <td>DCP430044</td>\n",
       "      <td>조기폐차</td>\n",
       "      <td>9</td>\n",
       "    </tr>\n",
       "    <tr>\n",
       "      <th>159074</th>\n",
       "      <td>DCP430040</td>\n",
       "      <td>조기폐차</td>\n",
       "      <td>9</td>\n",
       "    </tr>\n",
       "    <tr>\n",
       "      <th>162193</th>\n",
       "      <td>DCP26M009</td>\n",
       "      <td>조기폐차</td>\n",
       "      <td>9</td>\n",
       "    </tr>\n",
       "    <tr>\n",
       "      <th>162264</th>\n",
       "      <td>75-108719</td>\n",
       "      <td>조기폐차</td>\n",
       "      <td>9</td>\n",
       "    </tr>\n",
       "    <tr>\n",
       "      <th>162642</th>\n",
       "      <td>75-101770</td>\n",
       "      <td>조기폐차</td>\n",
       "      <td>9</td>\n",
       "    </tr>\n",
       "  </tbody>\n",
       "</table>\n",
       "</div>"
      ],
      "text/plain": [
       "             차대번호 저감장치구분  len_vin\n",
       "158360  DCP430044   조기폐차        9\n",
       "159074  DCP430040   조기폐차        9\n",
       "162193  DCP26M009   조기폐차        9\n",
       "162264  75-108719   조기폐차        9\n",
       "162642  75-101770   조기폐차        9"
      ]
     },
     "metadata": {},
     "output_type": "display_data"
    },
    {
     "data": {
      "text/html": [
       "<div>\n",
       "<style scoped>\n",
       "    .dataframe tbody tr th:only-of-type {\n",
       "        vertical-align: middle;\n",
       "    }\n",
       "\n",
       "    .dataframe tbody tr th {\n",
       "        vertical-align: top;\n",
       "    }\n",
       "\n",
       "    .dataframe thead th {\n",
       "        text-align: right;\n",
       "    }\n",
       "</style>\n",
       "<table border=\"1\" class=\"dataframe\">\n",
       "  <thead>\n",
       "    <tr style=\"text-align: right;\">\n",
       "      <th></th>\n",
       "      <th>차대번호</th>\n",
       "      <th>저감장치구분</th>\n",
       "      <th>len_vin</th>\n",
       "    </tr>\n",
       "  </thead>\n",
       "  <tbody>\n",
       "    <tr>\n",
       "      <th>123959</th>\n",
       "      <td>DCP36Ⅲ0103</td>\n",
       "      <td>조기폐차</td>\n",
       "      <td>10</td>\n",
       "    </tr>\n",
       "    <tr>\n",
       "      <th>163902</th>\n",
       "      <td>충북-06고5195</td>\n",
       "      <td>조기폐차</td>\n",
       "      <td>10</td>\n",
       "    </tr>\n",
       "    <tr>\n",
       "      <th>164507</th>\n",
       "      <td>PX362S-001</td>\n",
       "      <td>조기폐차</td>\n",
       "      <td>10</td>\n",
       "    </tr>\n",
       "    <tr>\n",
       "      <th>165384</th>\n",
       "      <td>대구-15-5775</td>\n",
       "      <td>조기폐차</td>\n",
       "      <td>10</td>\n",
       "    </tr>\n",
       "    <tr>\n",
       "      <th>169789</th>\n",
       "      <td>대구-06다6607</td>\n",
       "      <td>조기폐차</td>\n",
       "      <td>10</td>\n",
       "    </tr>\n",
       "  </tbody>\n",
       "</table>\n",
       "</div>"
      ],
      "text/plain": [
       "              차대번호 저감장치구분  len_vin\n",
       "123959  DCP36Ⅲ0103   조기폐차       10\n",
       "163902  충북-06고5195   조기폐차       10\n",
       "164507  PX362S-001   조기폐차       10\n",
       "165384  대구-15-5775   조기폐차       10\n",
       "169789  대구-06다6607   조기폐차       10"
      ]
     },
     "metadata": {},
     "output_type": "display_data"
    },
    {
     "data": {
      "text/html": [
       "<div>\n",
       "<style scoped>\n",
       "    .dataframe tbody tr th:only-of-type {\n",
       "        vertical-align: middle;\n",
       "    }\n",
       "\n",
       "    .dataframe tbody tr th {\n",
       "        vertical-align: top;\n",
       "    }\n",
       "\n",
       "    .dataframe thead th {\n",
       "        text-align: right;\n",
       "    }\n",
       "</style>\n",
       "<table border=\"1\" class=\"dataframe\">\n",
       "  <thead>\n",
       "    <tr style=\"text-align: right;\">\n",
       "      <th></th>\n",
       "      <th>차대번호</th>\n",
       "      <th>저감장치구분</th>\n",
       "      <th>len_vin</th>\n",
       "    </tr>\n",
       "  </thead>\n",
       "  <tbody>\n",
       "    <tr>\n",
       "      <th>16804</th>\n",
       "      <td>01794201627</td>\n",
       "      <td>조기폐차</td>\n",
       "      <td>11</td>\n",
       "    </tr>\n",
       "    <tr>\n",
       "      <th>16805</th>\n",
       "      <td>03784280493</td>\n",
       "      <td>조기폐차</td>\n",
       "      <td>11</td>\n",
       "    </tr>\n",
       "    <tr>\n",
       "      <th>77465</th>\n",
       "      <td>11811200528</td>\n",
       "      <td>조기폐차</td>\n",
       "      <td>11</td>\n",
       "    </tr>\n",
       "    <tr>\n",
       "      <th>117665</th>\n",
       "      <td>15TDF002100</td>\n",
       "      <td>조기폐차</td>\n",
       "      <td>11</td>\n",
       "    </tr>\n",
       "    <tr>\n",
       "      <th>128093</th>\n",
       "      <td>01884300027</td>\n",
       "      <td>조기폐차</td>\n",
       "      <td>11</td>\n",
       "    </tr>\n",
       "  </tbody>\n",
       "</table>\n",
       "</div>"
      ],
      "text/plain": [
       "               차대번호 저감장치구분  len_vin\n",
       "16804   01794201627   조기폐차       11\n",
       "16805   03784280493   조기폐차       11\n",
       "77465   11811200528   조기폐차       11\n",
       "117665  15TDF002100   조기폐차       11\n",
       "128093  01884300027   조기폐차       11"
      ]
     },
     "metadata": {},
     "output_type": "display_data"
    },
    {
     "data": {
      "text/html": [
       "<div>\n",
       "<style scoped>\n",
       "    .dataframe tbody tr th:only-of-type {\n",
       "        vertical-align: middle;\n",
       "    }\n",
       "\n",
       "    .dataframe tbody tr th {\n",
       "        vertical-align: top;\n",
       "    }\n",
       "\n",
       "    .dataframe thead th {\n",
       "        text-align: right;\n",
       "    }\n",
       "</style>\n",
       "<table border=\"1\" class=\"dataframe\">\n",
       "  <thead>\n",
       "    <tr style=\"text-align: right;\">\n",
       "      <th></th>\n",
       "      <th>차대번호</th>\n",
       "      <th>저감장치구분</th>\n",
       "      <th>len_vin</th>\n",
       "    </tr>\n",
       "  </thead>\n",
       "  <tbody>\n",
       "    <tr>\n",
       "      <th>1088</th>\n",
       "      <td>280042206955</td>\n",
       "      <td>조기폐차</td>\n",
       "      <td>12</td>\n",
       "    </tr>\n",
       "    <tr>\n",
       "      <th>3421</th>\n",
       "      <td>450234314000</td>\n",
       "      <td>조기폐차</td>\n",
       "      <td>12</td>\n",
       "    </tr>\n",
       "    <tr>\n",
       "      <th>3520</th>\n",
       "      <td>410242235846</td>\n",
       "      <td>조기폐차</td>\n",
       "      <td>12</td>\n",
       "    </tr>\n",
       "    <tr>\n",
       "      <th>3553</th>\n",
       "      <td>450234213980</td>\n",
       "      <td>조기폐차</td>\n",
       "      <td>12</td>\n",
       "    </tr>\n",
       "    <tr>\n",
       "      <th>3899</th>\n",
       "      <td>410042232878</td>\n",
       "      <td>조기폐차</td>\n",
       "      <td>12</td>\n",
       "    </tr>\n",
       "  </tbody>\n",
       "</table>\n",
       "</div>"
      ],
      "text/plain": [
       "              차대번호 저감장치구분  len_vin\n",
       "1088  280042206955   조기폐차       12\n",
       "3421  450234314000   조기폐차       12\n",
       "3520  410242235846   조기폐차       12\n",
       "3553  450234213980   조기폐차       12\n",
       "3899  410042232878   조기폐차       12"
      ]
     },
     "metadata": {},
     "output_type": "display_data"
    },
    {
     "data": {
      "text/html": [
       "<div>\n",
       "<style scoped>\n",
       "    .dataframe tbody tr th:only-of-type {\n",
       "        vertical-align: middle;\n",
       "    }\n",
       "\n",
       "    .dataframe tbody tr th {\n",
       "        vertical-align: top;\n",
       "    }\n",
       "\n",
       "    .dataframe thead th {\n",
       "        text-align: right;\n",
       "    }\n",
       "</style>\n",
       "<table border=\"1\" class=\"dataframe\">\n",
       "  <thead>\n",
       "    <tr style=\"text-align: right;\">\n",
       "      <th></th>\n",
       "      <th>차대번호</th>\n",
       "      <th>저감장치구분</th>\n",
       "      <th>len_vin</th>\n",
       "    </tr>\n",
       "  </thead>\n",
       "  <tbody>\n",
       "    <tr>\n",
       "      <th>75014</th>\n",
       "      <td>280042207136인</td>\n",
       "      <td>조기폐차</td>\n",
       "      <td>13</td>\n",
       "    </tr>\n",
       "    <tr>\n",
       "      <th>134382</th>\n",
       "      <td>D435861D37023</td>\n",
       "      <td>조기폐차</td>\n",
       "      <td>13</td>\n",
       "    </tr>\n",
       "    <tr>\n",
       "      <th>154701</th>\n",
       "      <td>449534309311공</td>\n",
       "      <td>조기폐차</td>\n",
       "      <td>13</td>\n",
       "    </tr>\n",
       "    <tr>\n",
       "      <th>164303</th>\n",
       "      <td>MPC55BL16-028</td>\n",
       "      <td>조기폐차</td>\n",
       "      <td>13</td>\n",
       "    </tr>\n",
       "    <tr>\n",
       "      <th>167766</th>\n",
       "      <td>D53582HD37163</td>\n",
       "      <td>조기폐차</td>\n",
       "      <td>13</td>\n",
       "    </tr>\n",
       "  </tbody>\n",
       "</table>\n",
       "</div>"
      ],
      "text/plain": [
       "                 차대번호 저감장치구분  len_vin\n",
       "75014   280042207136인   조기폐차       13\n",
       "134382  D435861D37023   조기폐차       13\n",
       "154701  449534309311공   조기폐차       13\n",
       "164303  MPC55BL16-028   조기폐차       13\n",
       "167766  D53582HD37163   조기폐차       13"
      ]
     },
     "metadata": {},
     "output_type": "display_data"
    },
    {
     "data": {
      "text/html": [
       "<div>\n",
       "<style scoped>\n",
       "    .dataframe tbody tr th:only-of-type {\n",
       "        vertical-align: middle;\n",
       "    }\n",
       "\n",
       "    .dataframe tbody tr th {\n",
       "        vertical-align: top;\n",
       "    }\n",
       "\n",
       "    .dataframe thead th {\n",
       "        text-align: right;\n",
       "    }\n",
       "</style>\n",
       "<table border=\"1\" class=\"dataframe\">\n",
       "  <thead>\n",
       "    <tr style=\"text-align: right;\">\n",
       "      <th></th>\n",
       "      <th>차대번호</th>\n",
       "      <th>저감장치구분</th>\n",
       "      <th>len_vin</th>\n",
       "    </tr>\n",
       "  </thead>\n",
       "  <tbody>\n",
       "    <tr>\n",
       "      <th>103200</th>\n",
       "      <td>FV415JML102060</td>\n",
       "      <td>조기폐차</td>\n",
       "      <td>14</td>\n",
       "    </tr>\n",
       "    <tr>\n",
       "      <th>116425</th>\n",
       "      <td>FV415JML-02389</td>\n",
       "      <td>조기폐차</td>\n",
       "      <td>14</td>\n",
       "    </tr>\n",
       "    <tr>\n",
       "      <th>116759</th>\n",
       "      <td>FV415JML-01889</td>\n",
       "      <td>조기폐차</td>\n",
       "      <td>14</td>\n",
       "    </tr>\n",
       "    <tr>\n",
       "      <th>119405</th>\n",
       "      <td>FV45JML-005992</td>\n",
       "      <td>조기폐차</td>\n",
       "      <td>14</td>\n",
       "    </tr>\n",
       "    <tr>\n",
       "      <th>120045</th>\n",
       "      <td>FV415JML-02074</td>\n",
       "      <td>조기폐차</td>\n",
       "      <td>14</td>\n",
       "    </tr>\n",
       "  </tbody>\n",
       "</table>\n",
       "</div>"
      ],
      "text/plain": [
       "                  차대번호 저감장치구분  len_vin\n",
       "103200  FV415JML102060   조기폐차       14\n",
       "116425  FV415JML-02389   조기폐차       14\n",
       "116759  FV415JML-01889   조기폐차       14\n",
       "119405  FV45JML-005992   조기폐차       14\n",
       "120045  FV415JML-02074   조기폐차       14"
      ]
     },
     "metadata": {},
     "output_type": "display_data"
    },
    {
     "data": {
      "text/html": [
       "<div>\n",
       "<style scoped>\n",
       "    .dataframe tbody tr th:only-of-type {\n",
       "        vertical-align: middle;\n",
       "    }\n",
       "\n",
       "    .dataframe tbody tr th {\n",
       "        vertical-align: top;\n",
       "    }\n",
       "\n",
       "    .dataframe thead th {\n",
       "        text-align: right;\n",
       "    }\n",
       "</style>\n",
       "<table border=\"1\" class=\"dataframe\">\n",
       "  <thead>\n",
       "    <tr style=\"text-align: right;\">\n",
       "      <th></th>\n",
       "      <th>차대번호</th>\n",
       "      <th>저감장치구분</th>\n",
       "      <th>len_vin</th>\n",
       "    </tr>\n",
       "  </thead>\n",
       "  <tbody>\n",
       "    <tr>\n",
       "      <th>25159</th>\n",
       "      <td>KPAKAD12P311802</td>\n",
       "      <td>조기폐차</td>\n",
       "      <td>15</td>\n",
       "    </tr>\n",
       "    <tr>\n",
       "      <th>54351</th>\n",
       "      <td>KMFWVHP6U696210</td>\n",
       "      <td>조기폐차</td>\n",
       "      <td>15</td>\n",
       "    </tr>\n",
       "    <tr>\n",
       "      <th>114317</th>\n",
       "      <td>FV415JML-003864</td>\n",
       "      <td>조기폐차</td>\n",
       "      <td>15</td>\n",
       "    </tr>\n",
       "    <tr>\n",
       "      <th>116695</th>\n",
       "      <td>FV415JML-007303</td>\n",
       "      <td>조기폐차</td>\n",
       "      <td>15</td>\n",
       "    </tr>\n",
       "    <tr>\n",
       "      <th>116760</th>\n",
       "      <td>FV415JML-004781</td>\n",
       "      <td>조기폐차</td>\n",
       "      <td>15</td>\n",
       "    </tr>\n",
       "  </tbody>\n",
       "</table>\n",
       "</div>"
      ],
      "text/plain": [
       "                   차대번호 저감장치구분  len_vin\n",
       "25159   KPAKAD12P311802   조기폐차       15\n",
       "54351   KMFWVHP6U696210   조기폐차       15\n",
       "114317  FV415JML-003864   조기폐차       15\n",
       "116695  FV415JML-007303   조기폐차       15\n",
       "116760  FV415JML-004781   조기폐차       15"
      ]
     },
     "metadata": {},
     "output_type": "display_data"
    },
    {
     "data": {
      "text/html": [
       "<div>\n",
       "<style scoped>\n",
       "    .dataframe tbody tr th:only-of-type {\n",
       "        vertical-align: middle;\n",
       "    }\n",
       "\n",
       "    .dataframe tbody tr th {\n",
       "        vertical-align: top;\n",
       "    }\n",
       "\n",
       "    .dataframe thead th {\n",
       "        text-align: right;\n",
       "    }\n",
       "</style>\n",
       "<table border=\"1\" class=\"dataframe\">\n",
       "  <thead>\n",
       "    <tr style=\"text-align: right;\">\n",
       "      <th></th>\n",
       "      <th>차대번호</th>\n",
       "      <th>저감장치구분</th>\n",
       "      <th>len_vin</th>\n",
       "    </tr>\n",
       "  </thead>\n",
       "  <tbody>\n",
       "    <tr>\n",
       "      <th>9146</th>\n",
       "      <td>XLEP840014453260</td>\n",
       "      <td>조기폐차</td>\n",
       "      <td>16</td>\n",
       "    </tr>\n",
       "    <tr>\n",
       "      <th>21162</th>\n",
       "      <td>KPAKA4D13P338347</td>\n",
       "      <td>조기폐차</td>\n",
       "      <td>16</td>\n",
       "    </tr>\n",
       "    <tr>\n",
       "      <th>38845</th>\n",
       "      <td>KNAFD52424372154</td>\n",
       "      <td>조기폐차</td>\n",
       "      <td>16</td>\n",
       "    </tr>\n",
       "    <tr>\n",
       "      <th>38940</th>\n",
       "      <td>KPBF2AD12P047564</td>\n",
       "      <td>조기폐차</td>\n",
       "      <td>16</td>\n",
       "    </tr>\n",
       "    <tr>\n",
       "      <th>67185</th>\n",
       "      <td>KMFXKSBP2U623023</td>\n",
       "      <td>조기폐차</td>\n",
       "      <td>16</td>\n",
       "    </tr>\n",
       "  </tbody>\n",
       "</table>\n",
       "</div>"
      ],
      "text/plain": [
       "                   차대번호 저감장치구분  len_vin\n",
       "9146   XLEP840014453260   조기폐차       16\n",
       "21162  KPAKA4D13P338347   조기폐차       16\n",
       "38845  KNAFD52424372154   조기폐차       16\n",
       "38940  KPBF2AD12P047564   조기폐차       16\n",
       "67185  KMFXKSBP2U623023   조기폐차       16"
      ]
     },
     "metadata": {},
     "output_type": "display_data"
    },
    {
     "data": {
      "text/html": [
       "<div>\n",
       "<style scoped>\n",
       "    .dataframe tbody tr th:only-of-type {\n",
       "        vertical-align: middle;\n",
       "    }\n",
       "\n",
       "    .dataframe tbody tr th {\n",
       "        vertical-align: top;\n",
       "    }\n",
       "\n",
       "    .dataframe thead th {\n",
       "        text-align: right;\n",
       "    }\n",
       "</style>\n",
       "<table border=\"1\" class=\"dataframe\">\n",
       "  <thead>\n",
       "    <tr style=\"text-align: right;\">\n",
       "      <th></th>\n",
       "      <th>차대번호</th>\n",
       "      <th>저감장치구분</th>\n",
       "      <th>len_vin</th>\n",
       "    </tr>\n",
       "  </thead>\n",
       "  <tbody>\n",
       "    <tr>\n",
       "      <th>120009</th>\n",
       "      <td>DTW015L1-75-108215</td>\n",
       "      <td>조기폐차</td>\n",
       "      <td>18</td>\n",
       "    </tr>\n",
       "    <tr>\n",
       "      <th>143860</th>\n",
       "      <td>KL3MA45D1TK-001094</td>\n",
       "      <td>조기폐차</td>\n",
       "      <td>18</td>\n",
       "    </tr>\n",
       "    <tr>\n",
       "      <th>144951</th>\n",
       "      <td>AU745L-6-71-102583</td>\n",
       "      <td>조기폐차</td>\n",
       "      <td>18</td>\n",
       "    </tr>\n",
       "    <tr>\n",
       "      <th>168513</th>\n",
       "      <td>KL3MD45DIVK-000450</td>\n",
       "      <td>조기폐차</td>\n",
       "      <td>18</td>\n",
       "    </tr>\n",
       "    <tr>\n",
       "      <th>168740</th>\n",
       "      <td>KL3MC45M1XK-000275</td>\n",
       "      <td>조기폐차</td>\n",
       "      <td>18</td>\n",
       "    </tr>\n",
       "  </tbody>\n",
       "</table>\n",
       "</div>"
      ],
      "text/plain": [
       "                      차대번호 저감장치구분  len_vin\n",
       "120009  DTW015L1-75-108215   조기폐차       18\n",
       "143860  KL3MA45D1TK-001094   조기폐차       18\n",
       "144951  AU745L-6-71-102583   조기폐차       18\n",
       "168513  KL3MD45DIVK-000450   조기폐차       18\n",
       "168740  KL3MC45M1XK-000275   조기폐차       18"
      ]
     },
     "metadata": {},
     "output_type": "display_data"
    },
    {
     "data": {
      "text/html": [
       "<div>\n",
       "<style scoped>\n",
       "    .dataframe tbody tr th:only-of-type {\n",
       "        vertical-align: middle;\n",
       "    }\n",
       "\n",
       "    .dataframe tbody tr th {\n",
       "        vertical-align: top;\n",
       "    }\n",
       "\n",
       "    .dataframe thead th {\n",
       "        text-align: right;\n",
       "    }\n",
       "</style>\n",
       "<table border=\"1\" class=\"dataframe\">\n",
       "  <thead>\n",
       "    <tr style=\"text-align: right;\">\n",
       "      <th></th>\n",
       "      <th>차대번호</th>\n",
       "      <th>저감장치구분</th>\n",
       "      <th>len_vin</th>\n",
       "    </tr>\n",
       "  </thead>\n",
       "  <tbody>\n",
       "    <tr>\n",
       "      <th>173706</th>\n",
       "      <td>kKL3MA45D1YK-003471</td>\n",
       "      <td>조기폐차</td>\n",
       "      <td>19</td>\n",
       "    </tr>\n",
       "    <tr>\n",
       "      <th>192435</th>\n",
       "      <td>KL3MC 45M1VK 000482</td>\n",
       "      <td>조기폐차</td>\n",
       "      <td>19</td>\n",
       "    </tr>\n",
       "    <tr>\n",
       "      <th>270315</th>\n",
       "      <td>KMCDB 18YPVC 105027</td>\n",
       "      <td>조기폐차</td>\n",
       "      <td>19</td>\n",
       "    </tr>\n",
       "    <tr>\n",
       "      <th>273184</th>\n",
       "      <td>KMCMCDH19SP2C020162</td>\n",
       "      <td>조기폐차</td>\n",
       "      <td>19</td>\n",
       "    </tr>\n",
       "  </tbody>\n",
       "</table>\n",
       "</div>"
      ],
      "text/plain": [
       "                       차대번호 저감장치구분  len_vin\n",
       "173706  kKL3MA45D1YK-003471   조기폐차       19\n",
       "192435  KL3MC 45M1VK 000482   조기폐차       19\n",
       "270315  KMCDB 18YPVC 105027   조기폐차       19\n",
       "273184  KMCMCDH19SP2C020162   조기폐차       19"
      ]
     },
     "metadata": {},
     "output_type": "display_data"
    },
    {
     "data": {
      "text/html": [
       "<div>\n",
       "<style scoped>\n",
       "    .dataframe tbody tr th:only-of-type {\n",
       "        vertical-align: middle;\n",
       "    }\n",
       "\n",
       "    .dataframe tbody tr th {\n",
       "        vertical-align: top;\n",
       "    }\n",
       "\n",
       "    .dataframe thead th {\n",
       "        text-align: right;\n",
       "    }\n",
       "</style>\n",
       "<table border=\"1\" class=\"dataframe\">\n",
       "  <thead>\n",
       "    <tr style=\"text-align: right;\">\n",
       "      <th></th>\n",
       "      <th>차대번호</th>\n",
       "      <th>저감장치구분</th>\n",
       "      <th>len_vin</th>\n",
       "    </tr>\n",
       "  </thead>\n",
       "  <tbody>\n",
       "    <tr>\n",
       "      <th>199239</th>\n",
       "      <td>KL3K4MVA1212K-000106</td>\n",
       "      <td>조기폐차</td>\n",
       "      <td>20</td>\n",
       "    </tr>\n",
       "  </tbody>\n",
       "</table>\n",
       "</div>"
      ],
      "text/plain": [
       "                        차대번호 저감장치구분  len_vin\n",
       "199239  KL3K4MVA1212K-000106   조기폐차       20"
      ]
     },
     "metadata": {},
     "output_type": "display_data"
    }
   ],
   "source": [
    "for one in set(len_not_17):\n",
    "    display(len_not_17_temp[len_not_17_temp['len_vin'] == one].head())"
   ]
  },
  {
   "cell_type": "code",
   "execution_count": 31,
   "metadata": {},
   "outputs": [
    {
     "data": {
      "text/plain": [
       "0"
      ]
     },
     "execution_count": 31,
     "metadata": {},
     "output_type": "execute_result"
    }
   ],
   "source": [
    "len_17_wrong_text_idx = []\n",
    "p = re.compile('[ㄱ-ㅎ|ㅏ-ㅣ|가-힣]')\n",
    "for i, one in enumerate(early_lgv1['차대번호']):\n",
    "    if len(str(one)) == 17 and p.search(str(one)):\n",
    "        len_17_wrong_text_idx.append(i)\n",
    "len(len_17_wrong_text_idx)"
   ]
  },
  {
   "attachments": {},
   "cell_type": "markdown",
   "metadata": {},
   "source": [
    "## 저감장치 구분"
   ]
  },
  {
   "cell_type": "code",
   "execution_count": 32,
   "metadata": {},
   "outputs": [
    {
     "data": {
      "text/plain": [
       "array(['조기폐차'], dtype=object)"
      ]
     },
     "execution_count": 32,
     "metadata": {},
     "output_type": "execute_result"
    }
   ],
   "source": [
    "early_lgv1['저감장치구분'].unique()"
   ]
  },
  {
   "attachments": {},
   "cell_type": "markdown",
   "metadata": {},
   "source": [
    "# 12\\. 사후관리 무상점검 정보"
   ]
  },
  {
   "cell_type": "code",
   "execution_count": 53,
   "metadata": {},
   "outputs": [
    {
     "name": "stdout",
     "output_type": "stream",
     "text": [
      "<class 'pandas.core.frame.DataFrame'>\n",
      "RangeIndex: 629 entries, 0 to 628\n",
      "Data columns (total 41 columns):\n",
      " #   Column                  Non-Null Count  Dtype  \n",
      "---  ------                  --------------  -----  \n",
      " 0   CHK_MNGT_NO             629 non-null    int64  \n",
      " 1   REDUC_REG_NO            628 non-null    float64\n",
      " 2   VHRNO                   629 non-null    object \n",
      " 3   VIN                     628 non-null    object \n",
      " 4   MKR_CD                  629 non-null    object \n",
      " 5   RCPT_LOCGOV_CD          628 non-null    object \n",
      " 6   PRGRE_STUS              629 non-null    object \n",
      " 7   USER_ZIP                629 non-null    object \n",
      " 8   USER_1_ADRS             629 non-null    object \n",
      " 9   USER_2_ADRS             629 non-null    object \n",
      " 10  USER_TELNO              629 non-null    object \n",
      " 11  CHK_DE                  629 non-null    int64  \n",
      " 12  CHK_CST                 628 non-null    float64\n",
      " 13  CHK_ENTRPS_NM           629 non-null    object \n",
      " 14  BF_DRVNG_DSTNC          628 non-null    float64\n",
      " 15  AFTR_DRVNG_DSTNC        629 non-null    int64  \n",
      " 16  INST_ID                 0 non-null      float64\n",
      " 17  INPT_DE                 629 non-null    int64  \n",
      " 18  RETR_NM                 629 non-null    object \n",
      " 19  SBSIDY_TRGT_YN          628 non-null    object \n",
      " 20  SBSIDY_TRGT_EXCLU_RESN  8 non-null      object \n",
      " 21  LOCGOV_CNFRM_DE         628 non-null    float64\n",
      " 22  LOCGOV_CNFRMR_NM        628 non-null    object \n",
      " 23  LOCGOV_INPT_DE          628 non-null    float64\n",
      " 24  CLNING_RQEST_GRP_NO     620 non-null    float64\n",
      " 25  SBSIDY_RQT_DE           620 non-null    float64\n",
      " 26  SBSIDY_APLICT_NM        620 non-null    object \n",
      " 27  SBSIDY_RQT_INPT_DE      620 non-null    float64\n",
      " 28  SBSIDY_PYMT_DE          620 non-null    float64\n",
      " 29  SBSIDY_BIZ_YR           0 non-null      float64\n",
      " 30  SBSIDY_PYMT_YN          620 non-null    object \n",
      " 31  SBSIDY_PYMT_DCSN_DE     620 non-null    float64\n",
      " 32  SBSIDY_PYMT_IDNTFR_NM   620 non-null    object \n",
      " 33  SBSIDY_PYMT_REG_DE      620 non-null    float64\n",
      " 34  LST_CHNG_DE             629 non-null    object \n",
      " 35  LST_EDIR_NM             626 non-null    object \n",
      " 36  FUEL_SMO                0 non-null      float64\n",
      " 37  COST_YEAR               0 non-null      float64\n",
      " 38  COST_DATE               0 non-null      float64\n",
      " 39  COST_TYPE               0 non-null      float64\n",
      " 40  COST_NOTE               0 non-null      float64\n",
      "dtypes: float64(18), int64(4), object(19)\n",
      "memory usage: 201.6+ KB\n"
     ]
    }
   ],
   "source": [
    "name = 'DLM_TB_ERP_FREE_INSPEC'\n",
    "file_name = f'ODS_{name}.csv'\n",
    "free_inspec = pd.read_csv(os.path.join(ods_fold, file_name), low_memory=False)\n",
    "free_inspec.info()"
   ]
  },
  {
   "cell_type": "code",
   "execution_count": 54,
   "metadata": {},
   "outputs": [
    {
     "data": {
      "text/plain": [
       "Index(['미정', '저감등록번호', '차량등록번호', '차대번호', '미정', '미정', '무상점검진행상태', '미정', '미정',\n",
       "       '미정', '미정', '점검일자', '미정', '점검업체명', '미정', '이후주행거리', '미정', '미정', '미정',\n",
       "       '보조금대상YN', '미정', '미정', '미정', '미정', '미정', '미정', '미정', '미정', '미정', '미정',\n",
       "       '미정', '미정', '미정', '미정', '미정', '미정', '미정', '미정', '미정', '미정', '미정'],\n",
       "      dtype='object')"
      ]
     },
     "execution_count": 54,
     "metadata": {},
     "output_type": "execute_result"
    }
   ],
   "source": [
    "file_name = f'[정제]{name}.xlsx'\n",
    "col_df = pd.read_excel(os.path.join(col_fold, file_name), sheet_name='ODS_col')\n",
    "col_dict = {a:b for a,b in col_df[['컬럼', '내용']].values}\n",
    "free_inspec.columns = [col_dict[x] for x in free_inspec.columns]\n",
    "free_inspec.columns"
   ]
  },
  {
   "cell_type": "code",
   "execution_count": 55,
   "metadata": {},
   "outputs": [],
   "source": [
    "free_inspec1 = free_inspec[['저감등록번호', '차량등록번호', '차대번호', '무상점검진행상태', '점검일자', '점검업체명', '이후주행거리', '보조금대상YN']]"
   ]
  },
  {
   "cell_type": "code",
   "execution_count": 56,
   "metadata": {},
   "outputs": [
    {
     "data": {
      "text/plain": [
       "저감등록번호      1\n",
       "차량등록번호      0\n",
       "차대번호        1\n",
       "무상점검진행상태    0\n",
       "점검일자        0\n",
       "점검업체명       0\n",
       "이후주행거리      0\n",
       "보조금대상YN     1\n",
       "dtype: int64"
      ]
     },
     "execution_count": 56,
     "metadata": {},
     "output_type": "execute_result"
    }
   ],
   "source": [
    "free_inspec1.isnull().sum()"
   ]
  },
  {
   "cell_type": "code",
   "execution_count": 57,
   "metadata": {},
   "outputs": [
    {
     "data": {
      "text/html": [
       "<div>\n",
       "<style scoped>\n",
       "    .dataframe tbody tr th:only-of-type {\n",
       "        vertical-align: middle;\n",
       "    }\n",
       "\n",
       "    .dataframe tbody tr th {\n",
       "        vertical-align: top;\n",
       "    }\n",
       "\n",
       "    .dataframe thead th {\n",
       "        text-align: right;\n",
       "    }\n",
       "</style>\n",
       "<table border=\"1\" class=\"dataframe\">\n",
       "  <thead>\n",
       "    <tr style=\"text-align: right;\">\n",
       "      <th></th>\n",
       "      <th>컬럼명</th>\n",
       "      <th>내용</th>\n",
       "      <th>결측 값</th>\n",
       "    </tr>\n",
       "  </thead>\n",
       "  <tbody>\n",
       "    <tr>\n",
       "      <th>0</th>\n",
       "      <td>VHRNO</td>\n",
       "      <td>차량등록번호</td>\n",
       "      <td>0.00</td>\n",
       "    </tr>\n",
       "    <tr>\n",
       "      <th>1</th>\n",
       "      <td>VIN</td>\n",
       "      <td>차대번호</td>\n",
       "      <td>1.00</td>\n",
       "    </tr>\n",
       "    <tr>\n",
       "      <th>2</th>\n",
       "      <td>SBSIDY_TRGT_YN</td>\n",
       "      <td>보조금대상YN</td>\n",
       "      <td>1.00</td>\n",
       "    </tr>\n",
       "    <tr>\n",
       "      <th>3</th>\n",
       "      <td>CHK_ENTRPS_NM</td>\n",
       "      <td>점검업체명</td>\n",
       "      <td>0.00</td>\n",
       "    </tr>\n",
       "    <tr>\n",
       "      <th>4</th>\n",
       "      <td>CHK_DE</td>\n",
       "      <td>점검일자</td>\n",
       "      <td>0.00</td>\n",
       "    </tr>\n",
       "    <tr>\n",
       "      <th>5</th>\n",
       "      <td>AFTR_DRVNG_DSTNC</td>\n",
       "      <td>이후주행거리</td>\n",
       "      <td>0.00</td>\n",
       "    </tr>\n",
       "    <tr>\n",
       "      <th>6</th>\n",
       "      <td>PRGRE_STUS</td>\n",
       "      <td>무상점검진행상태</td>\n",
       "      <td>0.00</td>\n",
       "    </tr>\n",
       "    <tr>\n",
       "      <th>7</th>\n",
       "      <td>REDUC_REG_NO</td>\n",
       "      <td>저감등록번호</td>\n",
       "      <td>1.00</td>\n",
       "    </tr>\n",
       "    <tr>\n",
       "      <th>8</th>\n",
       "      <td>CHK_MNGT_NO</td>\n",
       "      <td>미정</td>\n",
       "      <td>NaN</td>\n",
       "    </tr>\n",
       "    <tr>\n",
       "      <th>9</th>\n",
       "      <td>MKR_CD</td>\n",
       "      <td>미정</td>\n",
       "      <td>NaN</td>\n",
       "    </tr>\n",
       "    <tr>\n",
       "      <th>10</th>\n",
       "      <td>RCPT_LOCGOV_CD</td>\n",
       "      <td>미정</td>\n",
       "      <td>NaN</td>\n",
       "    </tr>\n",
       "    <tr>\n",
       "      <th>11</th>\n",
       "      <td>USER_ZIP</td>\n",
       "      <td>미정</td>\n",
       "      <td>NaN</td>\n",
       "    </tr>\n",
       "    <tr>\n",
       "      <th>12</th>\n",
       "      <td>USER_1_ADRS</td>\n",
       "      <td>미정</td>\n",
       "      <td>NaN</td>\n",
       "    </tr>\n",
       "    <tr>\n",
       "      <th>13</th>\n",
       "      <td>USER_2_ADRS</td>\n",
       "      <td>미정</td>\n",
       "      <td>NaN</td>\n",
       "    </tr>\n",
       "    <tr>\n",
       "      <th>14</th>\n",
       "      <td>USER_TELNO</td>\n",
       "      <td>미정</td>\n",
       "      <td>NaN</td>\n",
       "    </tr>\n",
       "    <tr>\n",
       "      <th>15</th>\n",
       "      <td>CHK_CST</td>\n",
       "      <td>미정</td>\n",
       "      <td>NaN</td>\n",
       "    </tr>\n",
       "    <tr>\n",
       "      <th>16</th>\n",
       "      <td>BF_DRVNG_DSTNC</td>\n",
       "      <td>미정</td>\n",
       "      <td>NaN</td>\n",
       "    </tr>\n",
       "    <tr>\n",
       "      <th>17</th>\n",
       "      <td>INST_ID</td>\n",
       "      <td>미정</td>\n",
       "      <td>NaN</td>\n",
       "    </tr>\n",
       "    <tr>\n",
       "      <th>18</th>\n",
       "      <td>INPT_DE</td>\n",
       "      <td>미정</td>\n",
       "      <td>NaN</td>\n",
       "    </tr>\n",
       "    <tr>\n",
       "      <th>19</th>\n",
       "      <td>RETR_NM</td>\n",
       "      <td>미정</td>\n",
       "      <td>NaN</td>\n",
       "    </tr>\n",
       "    <tr>\n",
       "      <th>20</th>\n",
       "      <td>SBSIDY_TRGT_EXCLU_RESN</td>\n",
       "      <td>미정</td>\n",
       "      <td>NaN</td>\n",
       "    </tr>\n",
       "    <tr>\n",
       "      <th>21</th>\n",
       "      <td>LOCGOV_CNFRM_DE</td>\n",
       "      <td>미정</td>\n",
       "      <td>NaN</td>\n",
       "    </tr>\n",
       "    <tr>\n",
       "      <th>22</th>\n",
       "      <td>LOCGOV_CNFRMR_NM</td>\n",
       "      <td>미정</td>\n",
       "      <td>NaN</td>\n",
       "    </tr>\n",
       "    <tr>\n",
       "      <th>23</th>\n",
       "      <td>LOCGOV_INPT_DE</td>\n",
       "      <td>미정</td>\n",
       "      <td>NaN</td>\n",
       "    </tr>\n",
       "    <tr>\n",
       "      <th>24</th>\n",
       "      <td>CLNING_RQEST_GRP_NO</td>\n",
       "      <td>미정</td>\n",
       "      <td>NaN</td>\n",
       "    </tr>\n",
       "    <tr>\n",
       "      <th>25</th>\n",
       "      <td>SBSIDY_RQT_DE</td>\n",
       "      <td>미정</td>\n",
       "      <td>NaN</td>\n",
       "    </tr>\n",
       "    <tr>\n",
       "      <th>26</th>\n",
       "      <td>SBSIDY_APLICT_NM</td>\n",
       "      <td>미정</td>\n",
       "      <td>NaN</td>\n",
       "    </tr>\n",
       "    <tr>\n",
       "      <th>27</th>\n",
       "      <td>SBSIDY_RQT_INPT_DE</td>\n",
       "      <td>미정</td>\n",
       "      <td>NaN</td>\n",
       "    </tr>\n",
       "    <tr>\n",
       "      <th>28</th>\n",
       "      <td>SBSIDY_PYMT_DE</td>\n",
       "      <td>미정</td>\n",
       "      <td>NaN</td>\n",
       "    </tr>\n",
       "    <tr>\n",
       "      <th>29</th>\n",
       "      <td>SBSIDY_BIZ_YR</td>\n",
       "      <td>미정</td>\n",
       "      <td>NaN</td>\n",
       "    </tr>\n",
       "    <tr>\n",
       "      <th>30</th>\n",
       "      <td>SBSIDY_PYMT_YN</td>\n",
       "      <td>미정</td>\n",
       "      <td>NaN</td>\n",
       "    </tr>\n",
       "    <tr>\n",
       "      <th>31</th>\n",
       "      <td>SBSIDY_PYMT_DCSN_DE</td>\n",
       "      <td>미정</td>\n",
       "      <td>NaN</td>\n",
       "    </tr>\n",
       "    <tr>\n",
       "      <th>32</th>\n",
       "      <td>SBSIDY_PYMT_IDNTFR_NM</td>\n",
       "      <td>미정</td>\n",
       "      <td>NaN</td>\n",
       "    </tr>\n",
       "    <tr>\n",
       "      <th>33</th>\n",
       "      <td>SBSIDY_PYMT_REG_DE</td>\n",
       "      <td>미정</td>\n",
       "      <td>NaN</td>\n",
       "    </tr>\n",
       "    <tr>\n",
       "      <th>34</th>\n",
       "      <td>LST_CHNG_DE</td>\n",
       "      <td>미정</td>\n",
       "      <td>NaN</td>\n",
       "    </tr>\n",
       "    <tr>\n",
       "      <th>35</th>\n",
       "      <td>LST_EDIR_NM</td>\n",
       "      <td>미정</td>\n",
       "      <td>NaN</td>\n",
       "    </tr>\n",
       "    <tr>\n",
       "      <th>36</th>\n",
       "      <td>FUEL_SMO</td>\n",
       "      <td>미정</td>\n",
       "      <td>NaN</td>\n",
       "    </tr>\n",
       "    <tr>\n",
       "      <th>37</th>\n",
       "      <td>COST_YEAR</td>\n",
       "      <td>미정</td>\n",
       "      <td>NaN</td>\n",
       "    </tr>\n",
       "    <tr>\n",
       "      <th>38</th>\n",
       "      <td>COST_DATE</td>\n",
       "      <td>미정</td>\n",
       "      <td>NaN</td>\n",
       "    </tr>\n",
       "    <tr>\n",
       "      <th>39</th>\n",
       "      <td>COST_TYPE</td>\n",
       "      <td>미정</td>\n",
       "      <td>NaN</td>\n",
       "    </tr>\n",
       "    <tr>\n",
       "      <th>40</th>\n",
       "      <td>COST_NOTE</td>\n",
       "      <td>미정</td>\n",
       "      <td>NaN</td>\n",
       "    </tr>\n",
       "  </tbody>\n",
       "</table>\n",
       "</div>"
      ],
      "text/plain": [
       "                       컬럼명        내용  결측 값\n",
       "0                    VHRNO    차량등록번호  0.00\n",
       "1                      VIN      차대번호  1.00\n",
       "2           SBSIDY_TRGT_YN   보조금대상YN  1.00\n",
       "3            CHK_ENTRPS_NM     점검업체명  0.00\n",
       "4                   CHK_DE      점검일자  0.00\n",
       "5         AFTR_DRVNG_DSTNC    이후주행거리  0.00\n",
       "6               PRGRE_STUS  무상점검진행상태  0.00\n",
       "7             REDUC_REG_NO    저감등록번호  1.00\n",
       "8              CHK_MNGT_NO        미정   NaN\n",
       "9                   MKR_CD        미정   NaN\n",
       "10          RCPT_LOCGOV_CD        미정   NaN\n",
       "11                USER_ZIP        미정   NaN\n",
       "12             USER_1_ADRS        미정   NaN\n",
       "13             USER_2_ADRS        미정   NaN\n",
       "14              USER_TELNO        미정   NaN\n",
       "15                 CHK_CST        미정   NaN\n",
       "16          BF_DRVNG_DSTNC        미정   NaN\n",
       "17                 INST_ID        미정   NaN\n",
       "18                 INPT_DE        미정   NaN\n",
       "19                 RETR_NM        미정   NaN\n",
       "20  SBSIDY_TRGT_EXCLU_RESN        미정   NaN\n",
       "21         LOCGOV_CNFRM_DE        미정   NaN\n",
       "22        LOCGOV_CNFRMR_NM        미정   NaN\n",
       "23          LOCGOV_INPT_DE        미정   NaN\n",
       "24     CLNING_RQEST_GRP_NO        미정   NaN\n",
       "25           SBSIDY_RQT_DE        미정   NaN\n",
       "26        SBSIDY_APLICT_NM        미정   NaN\n",
       "27      SBSIDY_RQT_INPT_DE        미정   NaN\n",
       "28          SBSIDY_PYMT_DE        미정   NaN\n",
       "29           SBSIDY_BIZ_YR        미정   NaN\n",
       "30          SBSIDY_PYMT_YN        미정   NaN\n",
       "31     SBSIDY_PYMT_DCSN_DE        미정   NaN\n",
       "32   SBSIDY_PYMT_IDNTFR_NM        미정   NaN\n",
       "33      SBSIDY_PYMT_REG_DE        미정   NaN\n",
       "34             LST_CHNG_DE        미정   NaN\n",
       "35             LST_EDIR_NM        미정   NaN\n",
       "36                FUEL_SMO        미정   NaN\n",
       "37               COST_YEAR        미정   NaN\n",
       "38               COST_DATE        미정   NaN\n",
       "39               COST_TYPE        미정   NaN\n",
       "40               COST_NOTE        미정   NaN"
      ]
     },
     "execution_count": 57,
     "metadata": {},
     "output_type": "execute_result"
    }
   ],
   "source": [
    "col = pd.DataFrame(col_dict, index=['내용']).T.reset_index()\n",
    "col.columns = ['컬럼명', '내용']\n",
    "nul = free_inspec1.isnull().sum().reset_index()\n",
    "nul.columns = ['내용', '결측 값']\n",
    "col2 = col.merge(nul, on='내용', how='left')\n",
    "col2"
   ]
  },
  {
   "attachments": {},
   "cell_type": "markdown",
   "metadata": {},
   "source": [
    "# 13\\. 저감장치 인증등록번호"
   ]
  },
  {
   "cell_type": "code",
   "execution_count": 58,
   "metadata": {},
   "outputs": [
    {
     "name": "stdout",
     "output_type": "stream",
     "text": [
      "<class 'pandas.core.frame.DataFrame'>\n",
      "RangeIndex: 1961 entries, 0 to 1960\n",
      "Data columns (total 32 columns):\n",
      " #   Column                     Non-Null Count  Dtype  \n",
      "---  ------                     --------------  -----  \n",
      " 0   SEQ_NO                     1961 non-null   int64  \n",
      " 1   MKR_CD                     1961 non-null   object \n",
      " 2   CRTC_MODL_NO               1961 non-null   object \n",
      " 3   RDCDVC_SE                  1961 non-null   object \n",
      " 4   RDCDVC_KND                 1291 non-null   object \n",
      " 5   REDUC_VHCTY_SE             1589 non-null   object \n",
      " 6   SBSIDY_AMT                 1961 non-null   object \n",
      " 7   SBSIDY_SLFBDN_AMT          1020 non-null   float64\n",
      " 8   SBSIDY_BIZ_YR              1953 non-null   float64\n",
      " 9   TDMS_SBSIDY_AMT            869 non-null    float64\n",
      " 10  LWBCT_SBSIDY_AMT           1134 non-null   float64\n",
      " 11  LWBCT_TDMS_SBSIDY_AMT      869 non-null    float64\n",
      " 12  CRTC_MODL_KND              1309 non-null   object \n",
      " 13  PFMCRTC_RSLT_INPT_DE       669 non-null    float64\n",
      " 14  PFMCRTC_RSLT_RETR_NM       669 non-null    object \n",
      " 15  PFMCRTC_VENTL_TMPR_VAL     752 non-null    float64\n",
      " 16  PFMCRTC_VENTL_TMPR_1_STDR  752 non-null    float64\n",
      " 17  PFMCRTC_VENTL_TMPR_2_STDR  752 non-null    float64\n",
      " 18  PFMCRTC_VENTL_PSSR_VAL     439 non-null    float64\n",
      " 19  PFMCRTC_VENTL_PSSR_1_STDR  439 non-null    float64\n",
      " 20  PFMCRTC_VENTL_PSSR_2_STDR  439 non-null    float64\n",
      " 21  RDCDVC_EGIN_NM             1816 non-null   object \n",
      " 22  PM_REDUC_EFCNY             1199 non-null   float64\n",
      " 23  REG_DE                     897 non-null    float64\n",
      " 24  REGR_NM                    897 non-null    object \n",
      " 25  LST_CHNG_DT                333 non-null    object \n",
      " 26  LST_EDIR_NM                527 non-null    object \n",
      " 27  PM_LST_REDUC_EFCNY         1199 non-null   float64\n",
      " 28  JEWEL_VAL                  0 non-null      float64\n",
      " 29  SCRAP_VAL                  0 non-null      float64\n",
      " 30  EX_VAL                     0 non-null      float64\n",
      " 31  LST_CHNG_DE                238 non-null    object \n",
      "dtypes: float64(18), int64(1), object(13)\n",
      "memory usage: 490.4+ KB\n"
     ]
    }
   ],
   "source": [
    "name = 'DLM_TB_ERP_RED_TYPE'\n",
    "file_name = f'ODS_{name}.csv'\n",
    "red_type = pd.read_csv(os.path.join(ods_fold, file_name), low_memory=False)\n",
    "red_type.info()"
   ]
  },
  {
   "cell_type": "code",
   "execution_count": 59,
   "metadata": {},
   "outputs": [
    {
     "data": {
      "text/plain": [
       "Index(['일련번호', '미정', '인증모델번호', '미정', '미정', '저감차종구분', '미정', '미정', '미정', '미정',\n",
       "       '미정', '미정', '인증모델종류', '미정', '미정', '성능인증배기온도값', '성능인증배기온도1기준',\n",
       "       '성능인증배기온도2기준', '성능인증배기압력값', '성능인증배기압력1기준', '성능인증배기압력2기준', '저감장치엔진명',\n",
       "       '미정', '미정', '미정', '미정', '미정', 'PM최종저감효율', '미정', '미정', '미정', '미정'],\n",
       "      dtype='object')"
      ]
     },
     "execution_count": 59,
     "metadata": {},
     "output_type": "execute_result"
    }
   ],
   "source": [
    "file_name = f'[정제]{name}.xlsx'\n",
    "col_df = pd.read_excel(os.path.join(col_fold, file_name), sheet_name='ODS_col')\n",
    "col_dict = {a:b for a,b in col_df[['컬럼', '내용']].values}\n",
    "red_type.columns = [col_dict[x] for x in red_type.columns]\n",
    "red_type.columns"
   ]
  },
  {
   "cell_type": "code",
   "execution_count": 60,
   "metadata": {},
   "outputs": [],
   "source": [
    "red_type1 = red_type[['일련번호', '인증모델번호', '저감차종구분', '인증모델종류', '성능인증배기온도값', \n",
    "                      '성능인증배기온도1기준', '성능인증배기온도2기준', '성능인증배기압력값', '성능인증배기압력1기준', '성능인증배기압력2기준', '저감장치엔진명', 'PM최종저감효율']]"
   ]
  },
  {
   "cell_type": "code",
   "execution_count": 61,
   "metadata": {},
   "outputs": [
    {
     "data": {
      "text/plain": [
       "일련번호              0\n",
       "인증모델번호            0\n",
       "저감차종구분          372\n",
       "인증모델종류          652\n",
       "성능인증배기온도값      1209\n",
       "성능인증배기온도1기준    1209\n",
       "성능인증배기온도2기준    1209\n",
       "성능인증배기압력값      1522\n",
       "성능인증배기압력1기준    1522\n",
       "성능인증배기압력2기준    1522\n",
       "저감장치엔진명         145\n",
       "PM최종저감효율        762\n",
       "dtype: int64"
      ]
     },
     "execution_count": 61,
     "metadata": {},
     "output_type": "execute_result"
    }
   ],
   "source": [
    "red_type1.isnull().sum()"
   ]
  },
  {
   "cell_type": "code",
   "execution_count": 62,
   "metadata": {},
   "outputs": [
    {
     "data": {
      "text/html": [
       "<div>\n",
       "<style scoped>\n",
       "    .dataframe tbody tr th:only-of-type {\n",
       "        vertical-align: middle;\n",
       "    }\n",
       "\n",
       "    .dataframe tbody tr th {\n",
       "        vertical-align: top;\n",
       "    }\n",
       "\n",
       "    .dataframe thead th {\n",
       "        text-align: right;\n",
       "    }\n",
       "</style>\n",
       "<table border=\"1\" class=\"dataframe\">\n",
       "  <thead>\n",
       "    <tr style=\"text-align: right;\">\n",
       "      <th></th>\n",
       "      <th>컬럼명</th>\n",
       "      <th>내용</th>\n",
       "      <th>결측 값</th>\n",
       "    </tr>\n",
       "  </thead>\n",
       "  <tbody>\n",
       "    <tr>\n",
       "      <th>0</th>\n",
       "      <td>REDUC_VHCTY_SE</td>\n",
       "      <td>저감차종구분</td>\n",
       "      <td>372.00</td>\n",
       "    </tr>\n",
       "    <tr>\n",
       "      <th>1</th>\n",
       "      <td>SEQ_NO</td>\n",
       "      <td>일련번호</td>\n",
       "      <td>0.00</td>\n",
       "    </tr>\n",
       "    <tr>\n",
       "      <th>2</th>\n",
       "      <td>RDCDVC_EGIN_NM</td>\n",
       "      <td>저감장치엔진명</td>\n",
       "      <td>145.00</td>\n",
       "    </tr>\n",
       "    <tr>\n",
       "      <th>3</th>\n",
       "      <td>PM_LST_REDUC_EFCNY</td>\n",
       "      <td>PM최종저감효율</td>\n",
       "      <td>762.00</td>\n",
       "    </tr>\n",
       "    <tr>\n",
       "      <th>4</th>\n",
       "      <td>PFMCRTC_VENTL_TMPR_VAL</td>\n",
       "      <td>성능인증배기온도값</td>\n",
       "      <td>1209.00</td>\n",
       "    </tr>\n",
       "    <tr>\n",
       "      <th>5</th>\n",
       "      <td>CRTC_MODL_KND</td>\n",
       "      <td>인증모델종류</td>\n",
       "      <td>652.00</td>\n",
       "    </tr>\n",
       "    <tr>\n",
       "      <th>6</th>\n",
       "      <td>PFMCRTC_VENTL_TMPR_1_STDR</td>\n",
       "      <td>성능인증배기온도1기준</td>\n",
       "      <td>1209.00</td>\n",
       "    </tr>\n",
       "    <tr>\n",
       "      <th>7</th>\n",
       "      <td>PFMCRTC_VENTL_PSSR_VAL</td>\n",
       "      <td>성능인증배기압력값</td>\n",
       "      <td>1522.00</td>\n",
       "    </tr>\n",
       "    <tr>\n",
       "      <th>8</th>\n",
       "      <td>PFMCRTC_VENTL_PSSR_2_STDR</td>\n",
       "      <td>성능인증배기압력2기준</td>\n",
       "      <td>1522.00</td>\n",
       "    </tr>\n",
       "    <tr>\n",
       "      <th>9</th>\n",
       "      <td>CRTC_MODL_NO</td>\n",
       "      <td>인증모델번호</td>\n",
       "      <td>0.00</td>\n",
       "    </tr>\n",
       "    <tr>\n",
       "      <th>10</th>\n",
       "      <td>PFMCRTC_VENTL_PSSR_1_STDR</td>\n",
       "      <td>성능인증배기압력1기준</td>\n",
       "      <td>1522.00</td>\n",
       "    </tr>\n",
       "    <tr>\n",
       "      <th>11</th>\n",
       "      <td>PFMCRTC_VENTL_TMPR_2_STDR</td>\n",
       "      <td>성능인증배기온도2기준</td>\n",
       "      <td>1209.00</td>\n",
       "    </tr>\n",
       "    <tr>\n",
       "      <th>12</th>\n",
       "      <td>MKR_CD</td>\n",
       "      <td>미정</td>\n",
       "      <td>NaN</td>\n",
       "    </tr>\n",
       "    <tr>\n",
       "      <th>13</th>\n",
       "      <td>RDCDVC_SE</td>\n",
       "      <td>미정</td>\n",
       "      <td>NaN</td>\n",
       "    </tr>\n",
       "    <tr>\n",
       "      <th>14</th>\n",
       "      <td>RDCDVC_KND</td>\n",
       "      <td>미정</td>\n",
       "      <td>NaN</td>\n",
       "    </tr>\n",
       "    <tr>\n",
       "      <th>15</th>\n",
       "      <td>SBSIDY_AMT</td>\n",
       "      <td>미정</td>\n",
       "      <td>NaN</td>\n",
       "    </tr>\n",
       "    <tr>\n",
       "      <th>16</th>\n",
       "      <td>SBSIDY_SLFBDN_AMT</td>\n",
       "      <td>미정</td>\n",
       "      <td>NaN</td>\n",
       "    </tr>\n",
       "    <tr>\n",
       "      <th>17</th>\n",
       "      <td>SBSIDY_BIZ_YR</td>\n",
       "      <td>미정</td>\n",
       "      <td>NaN</td>\n",
       "    </tr>\n",
       "    <tr>\n",
       "      <th>18</th>\n",
       "      <td>TDMS_SBSIDY_AMT</td>\n",
       "      <td>미정</td>\n",
       "      <td>NaN</td>\n",
       "    </tr>\n",
       "    <tr>\n",
       "      <th>19</th>\n",
       "      <td>LWBCT_SBSIDY_AMT</td>\n",
       "      <td>미정</td>\n",
       "      <td>NaN</td>\n",
       "    </tr>\n",
       "    <tr>\n",
       "      <th>20</th>\n",
       "      <td>LWBCT_TDMS_SBSIDY_AMT</td>\n",
       "      <td>미정</td>\n",
       "      <td>NaN</td>\n",
       "    </tr>\n",
       "    <tr>\n",
       "      <th>21</th>\n",
       "      <td>PFMCRTC_RSLT_INPT_DE</td>\n",
       "      <td>미정</td>\n",
       "      <td>NaN</td>\n",
       "    </tr>\n",
       "    <tr>\n",
       "      <th>22</th>\n",
       "      <td>PFMCRTC_RSLT_RETR_NM</td>\n",
       "      <td>미정</td>\n",
       "      <td>NaN</td>\n",
       "    </tr>\n",
       "    <tr>\n",
       "      <th>23</th>\n",
       "      <td>PM_REDUC_EFCNY</td>\n",
       "      <td>미정</td>\n",
       "      <td>NaN</td>\n",
       "    </tr>\n",
       "    <tr>\n",
       "      <th>24</th>\n",
       "      <td>REG_DE</td>\n",
       "      <td>미정</td>\n",
       "      <td>NaN</td>\n",
       "    </tr>\n",
       "    <tr>\n",
       "      <th>25</th>\n",
       "      <td>REGR_NM</td>\n",
       "      <td>미정</td>\n",
       "      <td>NaN</td>\n",
       "    </tr>\n",
       "    <tr>\n",
       "      <th>26</th>\n",
       "      <td>LST_CHNG_DT</td>\n",
       "      <td>미정</td>\n",
       "      <td>NaN</td>\n",
       "    </tr>\n",
       "    <tr>\n",
       "      <th>27</th>\n",
       "      <td>LST_EDIR_NM</td>\n",
       "      <td>미정</td>\n",
       "      <td>NaN</td>\n",
       "    </tr>\n",
       "    <tr>\n",
       "      <th>28</th>\n",
       "      <td>JEWEL_VAL</td>\n",
       "      <td>미정</td>\n",
       "      <td>NaN</td>\n",
       "    </tr>\n",
       "    <tr>\n",
       "      <th>29</th>\n",
       "      <td>SCRAP_VAL</td>\n",
       "      <td>미정</td>\n",
       "      <td>NaN</td>\n",
       "    </tr>\n",
       "    <tr>\n",
       "      <th>30</th>\n",
       "      <td>EX_VAL</td>\n",
       "      <td>미정</td>\n",
       "      <td>NaN</td>\n",
       "    </tr>\n",
       "    <tr>\n",
       "      <th>31</th>\n",
       "      <td>LST_CHNG_DE</td>\n",
       "      <td>미정</td>\n",
       "      <td>NaN</td>\n",
       "    </tr>\n",
       "  </tbody>\n",
       "</table>\n",
       "</div>"
      ],
      "text/plain": [
       "                          컬럼명           내용    결측 값\n",
       "0              REDUC_VHCTY_SE       저감차종구분  372.00\n",
       "1                      SEQ_NO         일련번호    0.00\n",
       "2              RDCDVC_EGIN_NM      저감장치엔진명  145.00\n",
       "3          PM_LST_REDUC_EFCNY     PM최종저감효율  762.00\n",
       "4      PFMCRTC_VENTL_TMPR_VAL    성능인증배기온도값 1209.00\n",
       "5               CRTC_MODL_KND       인증모델종류  652.00\n",
       "6   PFMCRTC_VENTL_TMPR_1_STDR  성능인증배기온도1기준 1209.00\n",
       "7      PFMCRTC_VENTL_PSSR_VAL    성능인증배기압력값 1522.00\n",
       "8   PFMCRTC_VENTL_PSSR_2_STDR  성능인증배기압력2기준 1522.00\n",
       "9                CRTC_MODL_NO       인증모델번호    0.00\n",
       "10  PFMCRTC_VENTL_PSSR_1_STDR  성능인증배기압력1기준 1522.00\n",
       "11  PFMCRTC_VENTL_TMPR_2_STDR  성능인증배기온도2기준 1209.00\n",
       "12                     MKR_CD           미정     NaN\n",
       "13                  RDCDVC_SE           미정     NaN\n",
       "14                 RDCDVC_KND           미정     NaN\n",
       "15                 SBSIDY_AMT           미정     NaN\n",
       "16          SBSIDY_SLFBDN_AMT           미정     NaN\n",
       "17              SBSIDY_BIZ_YR           미정     NaN\n",
       "18            TDMS_SBSIDY_AMT           미정     NaN\n",
       "19           LWBCT_SBSIDY_AMT           미정     NaN\n",
       "20      LWBCT_TDMS_SBSIDY_AMT           미정     NaN\n",
       "21       PFMCRTC_RSLT_INPT_DE           미정     NaN\n",
       "22       PFMCRTC_RSLT_RETR_NM           미정     NaN\n",
       "23             PM_REDUC_EFCNY           미정     NaN\n",
       "24                     REG_DE           미정     NaN\n",
       "25                    REGR_NM           미정     NaN\n",
       "26                LST_CHNG_DT           미정     NaN\n",
       "27                LST_EDIR_NM           미정     NaN\n",
       "28                  JEWEL_VAL           미정     NaN\n",
       "29                  SCRAP_VAL           미정     NaN\n",
       "30                     EX_VAL           미정     NaN\n",
       "31                LST_CHNG_DE           미정     NaN"
      ]
     },
     "execution_count": 62,
     "metadata": {},
     "output_type": "execute_result"
    }
   ],
   "source": [
    "col = pd.DataFrame(col_dict, index=['내용']).T.reset_index()\n",
    "col.columns = ['컬럼명', '내용']\n",
    "nul = red_type1.isnull().sum().reset_index()\n",
    "nul.columns = ['내용', '결측 값']\n",
    "col2 = col.merge(nul, on='내용', how='left')\n",
    "col2"
   ]
  },
  {
   "attachments": {},
   "cell_type": "markdown",
   "metadata": {},
   "source": [
    "# 14\\. 저감사업 성능유지 확인검사"
   ]
  },
  {
   "cell_type": "code",
   "execution_count": 22,
   "metadata": {},
   "outputs": [
    {
     "name": "stdout",
     "output_type": "stream",
     "text": [
      "<class 'pandas.core.frame.DataFrame'>\n",
      "RangeIndex: 418131 entries, 0 to 418130\n",
      "Data columns (total 65 columns):\n",
      " #   Column                       Non-Null Count   Dtype  \n",
      "---  ------                       --------------   -----  \n",
      " 0   REDUC_REG_NO                 418117 non-null  float64\n",
      " 1   PFMCFINPC_NO                 418131 non-null  object \n",
      " 2   VHRNO                        418131 non-null  object \n",
      " 3   VIN                          418131 non-null  object \n",
      " 4   PFMCFINPC_DE                 418131 non-null  int64  \n",
      " 5   STRCHG_DE                    418116 non-null  float64\n",
      " 6   RCPT_LOCGOV_CD               418116 non-null  object \n",
      " 7   INSPOF_CD                    418130 non-null  object \n",
      " 8   FILE_NM                      346629 non-null  object \n",
      " 9   NTJDMT_RESN                  418119 non-null  object \n",
      " 10  DRVNG_TMPR_DISTRB_JDGMNT     418058 non-null  object \n",
      " 11  PFMCFINPC_SMO_DNSTY          401461 non-null  float64\n",
      " 12  PFMCFINPC_EGINPWR            415979 non-null  object \n",
      " 13  INSP_KND                     415979 non-null  object \n",
      " 14  INSP_SCAL_SE                 415905 non-null  object \n",
      " 15  INSP_CST                     399475 non-null  float64\n",
      " 16  CNFRMR_NM                    408319 non-null  object \n",
      " 17  PFMCFINPC_GNRLZ_JDGMNT       417140 non-null  object \n",
      " 18  SMO_CND_JDGMNT               416681 non-null  object \n",
      " 19  CRTC_MODL_NO                 418115 non-null  object \n",
      " 20  MKR_CD                       418116 non-null  object \n",
      " 21  CRTC_CND_INSP_REG_YN         418131 non-null  object \n",
      " 22  CRTC_CND_INSP_REGR_NM        370548 non-null  object \n",
      " 23  CRTC_CND_INSP_REG_DE         371087 non-null  float64\n",
      " 24  RETR_NM                      418131 non-null  object \n",
      " 25  INPT_DE                      418130 non-null  float64\n",
      " 26  LST_CHNG_DT                  371259 non-null  object \n",
      " 27  LST_EDIR_NM                  367111 non-null  object \n",
      " 28  RDCDVC_SE                    418116 non-null  object \n",
      " 29  RDCDVC_KND                   418096 non-null  object \n",
      " 30  VHCNM                        418111 non-null  object \n",
      " 31  VHCL_YRIDNW                  418116 non-null  float64\n",
      " 32  EGINTY                       417893 non-null  object \n",
      " 33  FST_REG_DE                   418102 non-null  float64\n",
      " 34  CRTC_TMPR_STDR               54613 non-null   object \n",
      " 35  CRTC_TMPR_PROVS_ACML_DISTRB  60705 non-null   float64\n",
      " 36  STDR_ACML_DISTRB_PROVS_TMPR  52870 non-null   float64\n",
      " 37  CRTC_PSSR_STDR               322435 non-null  object \n",
      " 38  CRTC_PSSR_PROVS_ACML_DISTRB  325485 non-null  float64\n",
      " 39  STDR_ACML_DISTRB_PROVS_PSSR  317621 non-null  float64\n",
      " 40  INSPOF_NM                    54304 non-null   object \n",
      " 41  FILE_BAK_YN                  97420 non-null   object \n",
      " 42  RINSP_CNT                    417328 non-null  float64\n",
      " 43  IMPPRTY_RESN                 298387 non-null  object \n",
      " 44  EXCS_RT                      298491 non-null  float64\n",
      " 45  OWNR_NM                      352772 non-null  object \n",
      " 46  OWNR_1_ADRS                  345172 non-null  object \n",
      " 47  OWNR_2_ADRS                  401 non-null     object \n",
      " 48  OWNR_TELNO                   159833 non-null  object \n",
      " 49  OWNR_BTHDY                   983 non-null     object \n",
      " 50  INSPOF_RPRSTV_NM             198 non-null     object \n",
      " 51  FILE_EXTPR_NM                293455 non-null  object \n",
      " 52  PFMINPC_CST_PYMT_CNFRM_DE    308435 non-null  float64\n",
      " 53  PFMINPC_CST_PYMT_APRR_NM     308432 non-null  object \n",
      " 54  PFMINPC_CST_CNFRM_YN         418131 non-null  object \n",
      " 55  PFMINPC_CST_PYMT_DE          307059 non-null  float64\n",
      " 56  PFMINPC_CST_PYMT_BIZ_YR      308435 non-null  float64\n",
      " 57  INSP_TM_INFO                 85932 non-null   object \n",
      " 58  CTNT                         3 non-null       object \n",
      " 59  INSP_IMPPRTY_TRTMNT_REG_DE   18677 non-null   float64\n",
      " 60  INSP_IMPPRTY_TRTMNT_YN       418131 non-null  object \n",
      " 61  DVICE_AS_TRTMNT_DE           18677 non-null   float64\n",
      " 62  DVICE_AS_TRTMNT_DTL          18677 non-null   object \n",
      " 63  INSP_IMPPRTY_RESN            18677 non-null   object \n",
      " 64  PFMCFINPC_DE_CHNG_RESN       47 non-null      object \n",
      "dtypes: float64(19), int64(1), object(45)\n",
      "memory usage: 207.4+ MB\n"
     ]
    }
   ],
   "source": [
    "# about 10s\n",
    "name = 'DLM_TB_PFM_FILE'\n",
    "file_name = f'ODS_{name}.csv'\n",
    "pfm = pd.read_csv(os.path.join(ods_fold, file_name), low_memory=False)\n",
    "pfm.info()"
   ]
  },
  {
   "cell_type": "code",
   "execution_count": 23,
   "metadata": {},
   "outputs": [
    {
     "data": {
      "text/plain": [
       "Index(['저감등록번호', '성능확인검사번호', '차량등록번호', '차대번호', '성능확인검사일자', '미정', '미정', '미정',\n",
       "       '미정', '미정', '미정', '성능확인검사매연농도', '미정', '검사종류', '미정', '미정', '미정',\n",
       "       '성능확인검사종합판정', '매연조건판정', '미정', '미정', '미정', '미정', '미정', '미정', '미정', '미정',\n",
       "       '미정', '미정', '미정', '미정', '미정', '미정', '미정', '미정', '미정', '미정', '미정', '미정',\n",
       "       '미정', '검사소명', '미정', '미정', '미정', '미정', '미정', '미정', '미정', '미정', '미정',\n",
       "       '미정', '미정', '미정', '미정', '미정', '미정', '미정', '미정', '미정', '미정', '미정', '미정',\n",
       "       '미정', '미정', '미정'],\n",
       "      dtype='object')"
      ]
     },
     "execution_count": 23,
     "metadata": {},
     "output_type": "execute_result"
    }
   ],
   "source": [
    "file_name = f'[정제]{name}.xlsx'\n",
    "col_df = pd.read_excel(os.path.join(col_fold, file_name), sheet_name='ODS_col')\n",
    "col_dict = {a:b for a,b in col_df[['컬럼', '내용']].values}\n",
    "pfm.columns = [col_dict[x] for x in pfm.columns]\n",
    "pfm.columns"
   ]
  },
  {
   "attachments": {},
   "cell_type": "markdown",
   "metadata": {},
   "source": [
    "## 검사종류"
   ]
  },
  {
   "cell_type": "code",
   "execution_count": 24,
   "metadata": {},
   "outputs": [],
   "source": [
    "pfm1 = pfm[['차대번호', '검사종류']]"
   ]
  },
  {
   "cell_type": "code",
   "execution_count": 25,
   "metadata": {},
   "outputs": [
    {
     "data": {
      "text/plain": [
       "(418131, 2)"
      ]
     },
     "execution_count": 25,
     "metadata": {},
     "output_type": "execute_result"
    }
   ],
   "source": [
    "pfm1.shape"
   ]
  },
  {
   "cell_type": "code",
   "execution_count": 26,
   "metadata": {},
   "outputs": [
    {
     "data": {
      "text/html": [
       "<div>\n",
       "<style scoped>\n",
       "    .dataframe tbody tr th:only-of-type {\n",
       "        vertical-align: middle;\n",
       "    }\n",
       "\n",
       "    .dataframe tbody tr th {\n",
       "        vertical-align: top;\n",
       "    }\n",
       "\n",
       "    .dataframe thead th {\n",
       "        text-align: right;\n",
       "    }\n",
       "</style>\n",
       "<table border=\"1\" class=\"dataframe\">\n",
       "  <thead>\n",
       "    <tr style=\"text-align: right;\">\n",
       "      <th></th>\n",
       "      <th>차대번호</th>\n",
       "      <th>검사종류</th>\n",
       "    </tr>\n",
       "  </thead>\n",
       "  <tbody>\n",
       "    <tr>\n",
       "      <th>0</th>\n",
       "      <td>KL3XD70C1TK000302</td>\n",
       "      <td>부하</td>\n",
       "    </tr>\n",
       "    <tr>\n",
       "      <th>1</th>\n",
       "      <td>KL3YD58C1VK000409</td>\n",
       "      <td>부하</td>\n",
       "    </tr>\n",
       "    <tr>\n",
       "      <th>2</th>\n",
       "      <td>KL5UW63JD4P000123</td>\n",
       "      <td>부하</td>\n",
       "    </tr>\n",
       "    <tr>\n",
       "      <th>3</th>\n",
       "      <td>KMCCE19VPTC100083</td>\n",
       "      <td>부하</td>\n",
       "    </tr>\n",
       "    <tr>\n",
       "      <th>4</th>\n",
       "      <td>KMCGC17FPWC001053</td>\n",
       "      <td>부하</td>\n",
       "    </tr>\n",
       "  </tbody>\n",
       "</table>\n",
       "</div>"
      ],
      "text/plain": [
       "                차대번호 검사종류\n",
       "0  KL3XD70C1TK000302   부하\n",
       "1  KL3YD58C1VK000409   부하\n",
       "2  KL5UW63JD4P000123   부하\n",
       "3  KMCCE19VPTC100083   부하\n",
       "4  KMCGC17FPWC001053   부하"
      ]
     },
     "execution_count": 26,
     "metadata": {},
     "output_type": "execute_result"
    }
   ],
   "source": [
    "pfm1.head()"
   ]
  },
  {
   "cell_type": "code",
   "execution_count": 27,
   "metadata": {},
   "outputs": [
    {
     "data": {
      "text/plain": [
       "array(['부하', '부하검사(KD-147)', '부하검사(LUG DOWN)', '무부하', '무부하검사(급가속)', nan],\n",
       "      dtype=object)"
      ]
     },
     "execution_count": 27,
     "metadata": {},
     "output_type": "execute_result"
    }
   ],
   "source": [
    "pfm1['검사종류'].unique()"
   ]
  },
  {
   "cell_type": "code",
   "execution_count": 28,
   "metadata": {},
   "outputs": [
    {
     "data": {
      "text/plain": [
       "차대번호       0\n",
       "검사종류    2152\n",
       "dtype: int64"
      ]
     },
     "execution_count": 28,
     "metadata": {},
     "output_type": "execute_result"
    }
   ],
   "source": [
    "pfm1.isnull().sum()"
   ]
  },
  {
   "cell_type": "code",
   "execution_count": 29,
   "metadata": {},
   "outputs": [],
   "source": [
    "temp = pfm1.loc[pfm1['검사종류'].isnull() == True, '차대번호'].to_list()"
   ]
  },
  {
   "cell_type": "code",
   "execution_count": 32,
   "metadata": {},
   "outputs": [
    {
     "data": {
      "text/plain": [
       "Index(['사용연료', '주행거리', '차명', '차량번호', '차대번호', '차종', '차량연식', '엔진형식', '검사방법',\n",
       "       '검사일자', '검사종류', '검사판정시각', '검사판정', '산소값', '이산화탄소값', '무부하매연판정1',\n",
       "       '무부하매연판정2', '무부하매연판정3', '무부하매연판정4', '무부하매연판정5', '무부하매연판정6', '무부하매연허용치1',\n",
       "       '무부하매연허용치2', '무부하매연허용치3', '무부하매연허용치4', '무부하매연허용치5', '무부하매연허용치6',\n",
       "       '무부하매연측정치1', '무부하매연측정치2', '무부하매연측정치3', '무부하매연측정치4', '무부하매연측정치5',\n",
       "       '무부하매연측정치6', '차량용도', '최대출력허용치', '최대출력측정값', '검사접수번호', '검사소명', '재검사기간',\n",
       "       '정기정밀', '검사 검사소코드', '검사유효기간'],\n",
       "      dtype='object')"
      ]
     },
     "execution_count": 32,
     "metadata": {},
     "output_type": "execute_result"
    }
   ],
   "source": [
    "tin.columns"
   ]
  },
  {
   "cell_type": "code",
   "execution_count": 33,
   "metadata": {},
   "outputs": [
    {
     "data": {
      "text/plain": [
       "array(['부하검사(ASM-Idling)', '부하검사(KD-147)', '무부하검사(급가속)', '부하검사(LUG DOWN)',\n",
       "       '무부하검사(TSI)', '무부하검사(정지가동)', '부하검사(ASM2525)'], dtype=object)"
      ]
     },
     "execution_count": 33,
     "metadata": {},
     "output_type": "execute_result"
    }
   ],
   "source": [
    "tin['검사방법'].unique()"
   ]
  },
  {
   "cell_type": "code",
   "execution_count": 38,
   "metadata": {},
   "outputs": [
    {
     "data": {
      "text/plain": [
       "1514"
      ]
     },
     "execution_count": 38,
     "metadata": {},
     "output_type": "execute_result"
    }
   ],
   "source": [
    "# about 42m 8s\n",
    "# count : 1514\n",
    "count = 0\n",
    "for one in temp:\n",
    "    tp = tin.loc[tin['차대번호'] == one]\n",
    "    if tp.shape[0] != 0 :\n",
    "        count += 1\n",
    "count"
   ]
  },
  {
   "cell_type": "code",
   "execution_count": 37,
   "metadata": {},
   "outputs": [
    {
     "data": {
      "text/html": [
       "<div>\n",
       "<style scoped>\n",
       "    .dataframe tbody tr th:only-of-type {\n",
       "        vertical-align: middle;\n",
       "    }\n",
       "\n",
       "    .dataframe tbody tr th {\n",
       "        vertical-align: top;\n",
       "    }\n",
       "\n",
       "    .dataframe thead th {\n",
       "        text-align: right;\n",
       "    }\n",
       "</style>\n",
       "<table border=\"1\" class=\"dataframe\">\n",
       "  <thead>\n",
       "    <tr style=\"text-align: right;\">\n",
       "      <th></th>\n",
       "      <th>차대번호</th>\n",
       "      <th>검사방법</th>\n",
       "    </tr>\n",
       "  </thead>\n",
       "  <tbody>\n",
       "    <tr>\n",
       "      <th>12563769</th>\n",
       "      <td>KMFLA19AP4C050122</td>\n",
       "      <td>부하검사(LUG DOWN)</td>\n",
       "    </tr>\n",
       "  </tbody>\n",
       "</table>\n",
       "</div>"
      ],
      "text/plain": [
       "                       차대번호            검사방법\n",
       "12563769  KMFLA19AP4C050122  부하검사(LUG DOWN)"
      ]
     },
     "metadata": {},
     "output_type": "display_data"
    },
    {
     "data": {
      "text/html": [
       "<div>\n",
       "<style scoped>\n",
       "    .dataframe tbody tr th:only-of-type {\n",
       "        vertical-align: middle;\n",
       "    }\n",
       "\n",
       "    .dataframe tbody tr th {\n",
       "        vertical-align: top;\n",
       "    }\n",
       "\n",
       "    .dataframe thead th {\n",
       "        text-align: right;\n",
       "    }\n",
       "</style>\n",
       "<table border=\"1\" class=\"dataframe\">\n",
       "  <thead>\n",
       "    <tr style=\"text-align: right;\">\n",
       "      <th></th>\n",
       "      <th>차대번호</th>\n",
       "      <th>검사방법</th>\n",
       "    </tr>\n",
       "  </thead>\n",
       "  <tbody>\n",
       "    <tr>\n",
       "      <th>7017834</th>\n",
       "      <td>KMFWVH7HP2U474391</td>\n",
       "      <td>무부하검사(정지가동)</td>\n",
       "    </tr>\n",
       "  </tbody>\n",
       "</table>\n",
       "</div>"
      ],
      "text/plain": [
       "                      차대번호         검사방법\n",
       "7017834  KMFWVH7HP2U474391  무부하검사(정지가동)"
      ]
     },
     "metadata": {},
     "output_type": "display_data"
    },
    {
     "data": {
      "text/html": [
       "<div>\n",
       "<style scoped>\n",
       "    .dataframe tbody tr th:only-of-type {\n",
       "        vertical-align: middle;\n",
       "    }\n",
       "\n",
       "    .dataframe tbody tr th {\n",
       "        vertical-align: top;\n",
       "    }\n",
       "\n",
       "    .dataframe thead th {\n",
       "        text-align: right;\n",
       "    }\n",
       "</style>\n",
       "<table border=\"1\" class=\"dataframe\">\n",
       "  <thead>\n",
       "    <tr style=\"text-align: right;\">\n",
       "      <th></th>\n",
       "      <th>차대번호</th>\n",
       "      <th>검사방법</th>\n",
       "    </tr>\n",
       "  </thead>\n",
       "  <tbody>\n",
       "    <tr>\n",
       "      <th>7170848</th>\n",
       "      <td>44-99-343-94818</td>\n",
       "      <td>부하검사(LUG DOWN)</td>\n",
       "    </tr>\n",
       "  </tbody>\n",
       "</table>\n",
       "</div>"
      ],
      "text/plain": [
       "                    차대번호            검사방법\n",
       "7170848  44-99-343-94818  부하검사(LUG DOWN)"
      ]
     },
     "metadata": {},
     "output_type": "display_data"
    },
    {
     "data": {
      "text/html": [
       "<div>\n",
       "<style scoped>\n",
       "    .dataframe tbody tr th:only-of-type {\n",
       "        vertical-align: middle;\n",
       "    }\n",
       "\n",
       "    .dataframe tbody tr th {\n",
       "        vertical-align: top;\n",
       "    }\n",
       "\n",
       "    .dataframe thead th {\n",
       "        text-align: right;\n",
       "    }\n",
       "</style>\n",
       "<table border=\"1\" class=\"dataframe\">\n",
       "  <thead>\n",
       "    <tr style=\"text-align: right;\">\n",
       "      <th></th>\n",
       "      <th>차대번호</th>\n",
       "      <th>검사방법</th>\n",
       "    </tr>\n",
       "  </thead>\n",
       "  <tbody>\n",
       "    <tr>\n",
       "      <th>21762234</th>\n",
       "      <td>KL3PD62C1YK000028</td>\n",
       "      <td>무부하검사(급가속)</td>\n",
       "    </tr>\n",
       "  </tbody>\n",
       "</table>\n",
       "</div>"
      ],
      "text/plain": [
       "                       차대번호        검사방법\n",
       "21762234  KL3PD62C1YK000028  무부하검사(급가속)"
      ]
     },
     "metadata": {},
     "output_type": "display_data"
    },
    {
     "data": {
      "text/html": [
       "<div>\n",
       "<style scoped>\n",
       "    .dataframe tbody tr th:only-of-type {\n",
       "        vertical-align: middle;\n",
       "    }\n",
       "\n",
       "    .dataframe tbody tr th {\n",
       "        vertical-align: top;\n",
       "    }\n",
       "\n",
       "    .dataframe thead th {\n",
       "        text-align: right;\n",
       "    }\n",
       "</style>\n",
       "<table border=\"1\" class=\"dataframe\">\n",
       "  <thead>\n",
       "    <tr style=\"text-align: right;\">\n",
       "      <th></th>\n",
       "      <th>차대번호</th>\n",
       "      <th>검사방법</th>\n",
       "    </tr>\n",
       "  </thead>\n",
       "  <tbody>\n",
       "    <tr>\n",
       "      <th>21221131</th>\n",
       "      <td>KMFXKS7BPWU184963</td>\n",
       "      <td>부하검사(KD-147)</td>\n",
       "    </tr>\n",
       "  </tbody>\n",
       "</table>\n",
       "</div>"
      ],
      "text/plain": [
       "                       차대번호          검사방법\n",
       "21221131  KMFXKS7BPWU184963  부하검사(KD-147)"
      ]
     },
     "metadata": {},
     "output_type": "display_data"
    },
    {
     "data": {
      "text/html": [
       "<div>\n",
       "<style scoped>\n",
       "    .dataframe tbody tr th:only-of-type {\n",
       "        vertical-align: middle;\n",
       "    }\n",
       "\n",
       "    .dataframe tbody tr th {\n",
       "        vertical-align: top;\n",
       "    }\n",
       "\n",
       "    .dataframe thead th {\n",
       "        text-align: right;\n",
       "    }\n",
       "</style>\n",
       "<table border=\"1\" class=\"dataframe\">\n",
       "  <thead>\n",
       "    <tr style=\"text-align: right;\">\n",
       "      <th></th>\n",
       "      <th>차대번호</th>\n",
       "      <th>검사방법</th>\n",
       "    </tr>\n",
       "  </thead>\n",
       "  <tbody>\n",
       "    <tr>\n",
       "      <th>7035364</th>\n",
       "      <td>KMFLA19RPVC117945</td>\n",
       "      <td>무부하검사(급가속)</td>\n",
       "    </tr>\n",
       "  </tbody>\n",
       "</table>\n",
       "</div>"
      ],
      "text/plain": [
       "                      차대번호        검사방법\n",
       "7035364  KMFLA19RPVC117945  무부하검사(급가속)"
      ]
     },
     "metadata": {},
     "output_type": "display_data"
    }
   ],
   "source": [
    "n = 0\n",
    "for one in temp:\n",
    "    tp = tin.loc[tin['차대번호'] == one]\n",
    "    if tp.shape[0] != 0 and n <= 5:\n",
    "        display(tp[['차대번호', '검사방법']])\n",
    "        n += 1\n",
    "    elif n > 5:\n",
    "        break"
   ]
  },
  {
   "cell_type": "code",
   "execution_count": null,
   "metadata": {},
   "outputs": [],
   "source": []
  },
  {
   "attachments": {},
   "cell_type": "markdown",
   "metadata": {},
   "source": [
    "# 15\\. 운행제한 발령정보"
   ]
  },
  {
   "cell_type": "code",
   "execution_count": 63,
   "metadata": {},
   "outputs": [
    {
     "name": "stdout",
     "output_type": "stream",
     "text": [
      "<class 'pandas.core.frame.DataFrame'>\n",
      "RangeIndex: 1785 entries, 0 to 1784\n",
      "Data columns (total 16 columns):\n",
      " #   Column              Non-Null Count  Dtype  \n",
      "---  ------              --------------  -----  \n",
      " 0   GNFD_NO             1785 non-null   int64  \n",
      " 1   RPST_GNFD_NO        1785 non-null   int64  \n",
      " 2   DNSTY_STDR_ID       1785 non-null   object \n",
      " 3   TY_STDR_ID          1785 non-null   object \n",
      " 4   GNFD_NM             1785 non-null   object \n",
      " 5   GNFD_EXEC_CND_FLAG  1785 non-null   object \n",
      " 6   GNFD_EXEC_RESRV_DT  1784 non-null   object \n",
      " 7   BEFT_ESTBS_ID       0 non-null      float64\n",
      " 8   DC                  1785 non-null   object \n",
      " 9   GNFD_EXC_FLAG       1785 non-null   object \n",
      " 10  HMPG_INDIC_YN       1785 non-null   object \n",
      " 11  LCINFO_API_YN       1785 non-null   object \n",
      " 12  REG_ID              1785 non-null   object \n",
      " 13  REG_DT              1785 non-null   object \n",
      " 14  UPDT_ID             1652 non-null   object \n",
      " 15  UPDT_DT             1652 non-null   object \n",
      "dtypes: float64(1), int64(2), object(13)\n",
      "memory usage: 223.2+ KB\n"
     ]
    }
   ],
   "source": [
    "# about 0s\n",
    "name = 'N_IS_ISSUE'\n",
    "file_name = f'ODS_{name}.csv'\n",
    "issue = pd.read_csv(os.path.join(ods_fold, file_name), low_memory=False)\n",
    "issue.info()"
   ]
  },
  {
   "cell_type": "code",
   "execution_count": 64,
   "metadata": {},
   "outputs": [
    {
     "data": {
      "text/plain": [
       "Index(['발령 번호', '미정', '농도기준 발령구분', '유형 구분', '미정', '미정', '미정', '미정', '미정', '미정',\n",
       "       '미정', '미정', '미정', '미정', '미정', '수정 일시'],\n",
       "      dtype='object')"
      ]
     },
     "execution_count": 64,
     "metadata": {},
     "output_type": "execute_result"
    }
   ],
   "source": [
    "file_name = f'[정제]{name}.xlsx'\n",
    "col_df = pd.read_excel(os.path.join(col_fold, file_name), sheet_name='ODS_col')\n",
    "col_dict = {a:b for a,b in col_df[['컬럼', '내용']].values}\n",
    "issue.columns = [col_dict[x] for x in issue.columns]\n",
    "issue.columns"
   ]
  },
  {
   "cell_type": "code",
   "execution_count": 65,
   "metadata": {},
   "outputs": [],
   "source": [
    "issue1 = issue[['유형 구분', '농도기준 발령구분', '발령 번호']]"
   ]
  },
  {
   "cell_type": "code",
   "execution_count": 66,
   "metadata": {},
   "outputs": [
    {
     "data": {
      "text/plain": [
       "유형 구분        0\n",
       "농도기준 발령구분    0\n",
       "발령 번호        0\n",
       "dtype: int64"
      ]
     },
     "execution_count": 66,
     "metadata": {},
     "output_type": "execute_result"
    }
   ],
   "source": [
    "issue1.isnull().sum()"
   ]
  },
  {
   "attachments": {},
   "cell_type": "markdown",
   "metadata": {},
   "source": [
    "## 유형 구분"
   ]
  },
  {
   "cell_type": "code",
   "execution_count": 67,
   "metadata": {},
   "outputs": [
    {
     "data": {
      "text/plain": [
       "array(['T002', 'T001'], dtype=object)"
      ]
     },
     "execution_count": 67,
     "metadata": {},
     "output_type": "execute_result"
    }
   ],
   "source": [
    "issue1['유형 구분'].unique()"
   ]
  },
  {
   "attachments": {},
   "cell_type": "markdown",
   "metadata": {},
   "source": [
    "## 농도기준 발령구분"
   ]
  },
  {
   "cell_type": "code",
   "execution_count": 68,
   "metadata": {},
   "outputs": [
    {
     "data": {
      "text/plain": [
       "array(['C012', 'C011'], dtype=object)"
      ]
     },
     "execution_count": 68,
     "metadata": {},
     "output_type": "execute_result"
    }
   ],
   "source": [
    "issue1['농도기준 발령구분'].unique()"
   ]
  },
  {
   "attachments": {},
   "cell_type": "markdown",
   "metadata": {},
   "source": [
    "## 발령 번호"
   ]
  },
  {
   "cell_type": "code",
   "execution_count": 69,
   "metadata": {},
   "outputs": [
    {
     "data": {
      "text/plain": [
       "array([2142, 2143, 2227, ..., 2139, 2140, 2141], dtype=int64)"
      ]
     },
     "execution_count": 69,
     "metadata": {},
     "output_type": "execute_result"
    }
   ],
   "source": [
    "issue1['발령 번호'].unique()"
   ]
  },
  {
   "cell_type": "code",
   "execution_count": 70,
   "metadata": {},
   "outputs": [
    {
     "data": {
      "text/plain": [
       "count   1785.00\n",
       "mean    1552.90\n",
       "std      691.88\n",
       "min        1.00\n",
       "25%     1020.00\n",
       "50%     1525.00\n",
       "75%     2171.00\n",
       "max     2653.00\n",
       "Name: 발령 번호, dtype: float64"
      ]
     },
     "execution_count": 70,
     "metadata": {},
     "output_type": "execute_result"
    }
   ],
   "source": [
    "issue1['발령 번호'].describe()"
   ]
  },
  {
   "cell_type": "code",
   "execution_count": 72,
   "metadata": {},
   "outputs": [
    {
     "data": {
      "text/html": [
       "<div>\n",
       "<style scoped>\n",
       "    .dataframe tbody tr th:only-of-type {\n",
       "        vertical-align: middle;\n",
       "    }\n",
       "\n",
       "    .dataframe tbody tr th {\n",
       "        vertical-align: top;\n",
       "    }\n",
       "\n",
       "    .dataframe thead th {\n",
       "        text-align: right;\n",
       "    }\n",
       "</style>\n",
       "<table border=\"1\" class=\"dataframe\">\n",
       "  <thead>\n",
       "    <tr style=\"text-align: right;\">\n",
       "      <th></th>\n",
       "      <th>유형 구분</th>\n",
       "      <th>농도기준 발령구분</th>\n",
       "      <th>발령 번호</th>\n",
       "    </tr>\n",
       "  </thead>\n",
       "  <tbody>\n",
       "    <tr>\n",
       "      <th>1534</th>\n",
       "      <td>T001</td>\n",
       "      <td>C011</td>\n",
       "      <td>1</td>\n",
       "    </tr>\n",
       "    <tr>\n",
       "      <th>1536</th>\n",
       "      <td>T001</td>\n",
       "      <td>C011</td>\n",
       "      <td>21</td>\n",
       "    </tr>\n",
       "    <tr>\n",
       "      <th>1537</th>\n",
       "      <td>T001</td>\n",
       "      <td>C012</td>\n",
       "      <td>41</td>\n",
       "    </tr>\n",
       "    <tr>\n",
       "      <th>1538</th>\n",
       "      <td>T001</td>\n",
       "      <td>C012</td>\n",
       "      <td>42</td>\n",
       "    </tr>\n",
       "    <tr>\n",
       "      <th>1535</th>\n",
       "      <td>T001</td>\n",
       "      <td>C012</td>\n",
       "      <td>43</td>\n",
       "    </tr>\n",
       "  </tbody>\n",
       "</table>\n",
       "</div>"
      ],
      "text/plain": [
       "     유형 구분 농도기준 발령구분  발령 번호\n",
       "1534  T001      C011      1\n",
       "1536  T001      C011     21\n",
       "1537  T001      C012     41\n",
       "1538  T001      C012     42\n",
       "1535  T001      C012     43"
      ]
     },
     "execution_count": 72,
     "metadata": {},
     "output_type": "execute_result"
    }
   ],
   "source": [
    "issue1[issue1['발령 번호'] < 1000].sort_values('발령 번호').head()"
   ]
  },
  {
   "attachments": {},
   "cell_type": "markdown",
   "metadata": {},
   "source": [
    "# 16\\. 비상시 및 계절제 단속발령"
   ]
  },
  {
   "cell_type": "code",
   "execution_count": 74,
   "metadata": {},
   "outputs": [
    {
     "name": "stdout",
     "output_type": "stream",
     "text": [
      "<class 'pandas.core.frame.DataFrame'>\n",
      "RangeIndex: 5727752 entries, 0 to 5727751\n",
      "Data columns (total 25 columns):\n",
      " #   Column              Dtype \n",
      "---  ------              ----- \n",
      " 0   REGLT_NO            int64 \n",
      " 1   GNFD_NO             int64 \n",
      " 2   REG_SIDO_CD         int64 \n",
      " 3   REG_SIGNGU_CD       int64 \n",
      " 4   REGLT_AREA_CD       int64 \n",
      " 5   TFCLNE_ID           object\n",
      " 6   DISCL_DEHMS         int64 \n",
      " 7   VHMNO               object\n",
      " 8   VIN                 object\n",
      " 9   VHRNO               object\n",
      " 10  FILE_NM             object\n",
      " 11  FILE_CURS_NM        object\n",
      " 12  ORG_FILE_CURS_NM    object\n",
      " 13  THUMB_FILE_CURS_NM  object\n",
      " 14  DTL_FILE_CURS_NM    object\n",
      " 15  REG_ID              object\n",
      " 16  REG_DT              object\n",
      " 17  EXCLU_REG_DT        object\n",
      " 18  RDCDVC_YN           object\n",
      " 19  BSN_YN              object\n",
      " 20  RWMR_YN             object\n",
      " 21  DSPN_YN             object\n",
      " 22  RQT_YN              object\n",
      " 23  UNDEVT_YN           object\n",
      " 24  SND_YN              object\n",
      "dtypes: int64(6), object(19)\n",
      "memory usage: 1.1+ GB\n"
     ]
    }
   ],
   "source": [
    "# about 1m 35s\n",
    "name = 'N_IS_ISSUE_DISCLOSURE'\n",
    "file_name = f'ODS_{name}_10.txt'\n",
    "issue_dis = pd.read_table(os.path.join(issue_disclosure_fold, file_name), low_memory=False)\n",
    "issue_dis.info()"
   ]
  },
  {
   "cell_type": "code",
   "execution_count": 76,
   "metadata": {},
   "outputs": [
    {
     "data": {
      "text/plain": [
       "Index(['미정', '발령 번호', '미정', '미정', '운행제한 단속 발령대상 지역코드', '미정', '적발 일자시각',\n",
       "       '차량관리번호', '차대번호', '차량등록번호', '미정', '미정', '미정', '미정', '미정', '미정', '미정',\n",
       "       '미정', '미정', '미정', '미정', '미정', '미정', '미정', '미정'],\n",
       "      dtype='object')"
      ]
     },
     "execution_count": 76,
     "metadata": {},
     "output_type": "execute_result"
    }
   ],
   "source": [
    "file_name = f'[정제]{name}.xlsx'\n",
    "col_df = pd.read_excel(os.path.join(col_fold, file_name), sheet_name='ODS_col')\n",
    "col_dict = {a:b for a,b in col_df[['컬럼', '내용']].values}\n",
    "issue_dis.columns = [col_dict[x] for x in issue_dis.columns]\n",
    "issue_dis.columns"
   ]
  },
  {
   "cell_type": "code",
   "execution_count": 77,
   "metadata": {},
   "outputs": [],
   "source": [
    "issue_dis1 = issue_dis[['차량관리번호', '차대번호', '차량등록번호', '발령 번호']]"
   ]
  },
  {
   "attachments": {},
   "cell_type": "markdown",
   "metadata": {},
   "source": [
    "## 차량관리번호"
   ]
  },
  {
   "cell_type": "code",
   "execution_count": 78,
   "metadata": {},
   "outputs": [
    {
     "data": {
      "text/plain": [
       "array(['KMCVK17PP6C035326-01', 'KMHSJ81WP6U005551-01',\n",
       "       'KMHMH81VP7U302554-01', ..., 'KMFLA19RPYC011042-01',\n",
       "       'KPAKA4AD15P386365-01', 'KNAJC52183A087705-01'], dtype=object)"
      ]
     },
     "execution_count": 78,
     "metadata": {},
     "output_type": "execute_result"
    }
   ],
   "source": [
    "issue_dis1['차량관리번호'].unique()"
   ]
  },
  {
   "cell_type": "code",
   "execution_count": 86,
   "metadata": {},
   "outputs": [
    {
     "data": {
      "text/plain": [
       "16146"
      ]
     },
     "execution_count": 86,
     "metadata": {},
     "output_type": "execute_result"
    }
   ],
   "source": [
    "wrong_text_idx = []\n",
    "p = re.compile('[A-Z0-9][-][0-9]')\n",
    "for i, one in enumerate(issue_dis1['차량관리번호']):\n",
    "    if not p.search(str(one)):\n",
    "        wrong_text_idx.append(i)\n",
    "len(wrong_text_idx)"
   ]
  },
  {
   "cell_type": "code",
   "execution_count": 87,
   "metadata": {},
   "outputs": [
    {
     "data": {
      "text/plain": [
       "499     4799경북86아2461\n",
       "501       119990러4522\n",
       "521       489997너9624\n",
       "1089    4599전북83사1074\n",
       "1231    4199경기93자2547\n",
       "Name: 차량관리번호, dtype: object"
      ]
     },
     "execution_count": 87,
     "metadata": {},
     "output_type": "execute_result"
    }
   ],
   "source": [
    "issue_dis1.loc[wrong_text_idx, '차량관리번호'].head()"
   ]
  },
  {
   "cell_type": "code",
   "execution_count": 88,
   "metadata": {},
   "outputs": [
    {
     "data": {
      "text/plain": [
       "5725665      119990머4206\n",
       "5726202    2899인천98사2015\n",
       "5726267    2699부산90아2280\n",
       "5726427    4199경기71바7387\n",
       "5727607    2699부산90바3923\n",
       "Name: 차량관리번호, dtype: object"
      ]
     },
     "execution_count": 88,
     "metadata": {},
     "output_type": "execute_result"
    }
   ],
   "source": [
    "issue_dis1.loc[wrong_text_idx, '차량관리번호'].tail()"
   ]
  },
  {
   "attachments": {},
   "cell_type": "markdown",
   "metadata": {},
   "source": [
    "## 차대번호"
   ]
  },
  {
   "cell_type": "code",
   "execution_count": 79,
   "metadata": {},
   "outputs": [
    {
     "data": {
      "text/plain": [
       "{9, 11, 12, 13, 14, 15, 16, 17}"
      ]
     },
     "execution_count": 79,
     "metadata": {},
     "output_type": "execute_result"
    }
   ],
   "source": [
    "vin_temp = issue_dis1['차대번호'].str.len()\n",
    "set(vin_temp.unique())"
   ]
  },
  {
   "cell_type": "code",
   "execution_count": 80,
   "metadata": {},
   "outputs": [
    {
     "name": "stdout",
     "output_type": "stream",
     "text": [
      "차대번호 길이 : 9\n",
      "(8,)\n"
     ]
    },
    {
     "data": {
      "text/plain": [
       "159194     CN67C4394\n",
       "340630     CN67C4394\n",
       "551553     CN67C4394\n",
       "1404140    CN67C4394\n",
       "4307042    CN67C4394\n",
       "Name: 차대번호, dtype: object"
      ]
     },
     "metadata": {},
     "output_type": "display_data"
    },
    {
     "name": "stdout",
     "output_type": "stream",
     "text": [
      "\n",
      "차대번호 길이 : 11\n",
      "(393,)\n"
     ]
    },
    {
     "data": {
      "text/plain": [
       "108003    01891200094\n",
       "112162    08804360250\n",
       "133678    KN67C003987\n",
       "160737    SL44C011395\n",
       "172081    01861321189\n",
       "Name: 차대번호, dtype: object"
      ]
     },
     "metadata": {},
     "output_type": "display_data"
    },
    {
     "name": "stdout",
     "output_type": "stream",
     "text": [
      "\n",
      "차대번호 길이 : 12\n",
      "(16366,)\n"
     ]
    },
    {
     "data": {
      "text/plain": [
       "2490    440234311761\n",
       "2572    450142213511\n",
       "2731    410234337309\n",
       "3109    280134207824\n",
       "3737    410234338387\n",
       "Name: 차대번호, dtype: object"
      ]
     },
     "metadata": {},
     "output_type": "display_data"
    },
    {
     "name": "stdout",
     "output_type": "stream",
     "text": [
      "\n",
      "차대번호 길이 : 13\n",
      "(276,)\n"
     ]
    },
    {
     "data": {
      "text/plain": [
       "11334    419934399677하\n",
       "11992    419934399677하\n",
       "19681    419934399677하\n",
       "34330    440132211882공\n",
       "58892    419934299445수\n",
       "Name: 차대번호, dtype: object"
      ]
     },
     "metadata": {},
     "output_type": "display_data"
    },
    {
     "name": "stdout",
     "output_type": "stream",
     "text": [
      "\n",
      "차대번호 길이 : 14\n",
      "(3,)\n"
     ]
    },
    {
     "data": {
      "text/plain": [
       "2068026    21019046300155\n",
       "2560209    21019046300155\n",
       "2563710    21019046300155\n",
       "Name: 차대번호, dtype: object"
      ]
     },
     "metadata": {},
     "output_type": "display_data"
    },
    {
     "name": "stdout",
     "output_type": "stream",
     "text": [
      "\n",
      "차대번호 길이 : 15\n",
      "(210,)\n"
     ]
    },
    {
     "data": {
      "text/plain": [
       "44583     44-99-343-94818\n",
       "100084    41-98-343-98311\n",
       "159209    44-00-343-10285\n",
       "229908    29-00-433-01845\n",
       "338215    41-97-242-97888\n",
       "Name: 차대번호, dtype: object"
      ]
     },
     "metadata": {},
     "output_type": "display_data"
    },
    {
     "name": "stdout",
     "output_type": "stream",
     "text": [
      "\n",
      "차대번호 길이 : 16\n",
      "(63,)\n"
     ]
    },
    {
     "data": {
      "text/plain": [
       "42204     42-94-322-00002태\n",
       "109783    KN3HD3353K946676\n",
       "277958    44-94-343-09254공\n",
       "385918    48-00-342-35197창\n",
       "630131    44-94-343-09254공\n",
       "Name: 차대번호, dtype: object"
      ]
     },
     "metadata": {},
     "output_type": "display_data"
    },
    {
     "name": "stdout",
     "output_type": "stream",
     "text": [
      "\n",
      "차대번호 길이 : 17\n",
      "(5710433,)\n"
     ]
    },
    {
     "data": {
      "text/plain": [
       "0    KMCVK17PP6C035326\n",
       "1    KMHSJ81WP6U005551\n",
       "2    KMHMH81VP7U302554\n",
       "3    YV2JS02C17A642968\n",
       "4    KMFLA18EP7C024211\n",
       "Name: 차대번호, dtype: object"
      ]
     },
     "metadata": {},
     "output_type": "display_data"
    },
    {
     "name": "stdout",
     "output_type": "stream",
     "text": [
      "\n"
     ]
    },
    {
     "data": {
      "text/plain": [
       "5727752"
      ]
     },
     "execution_count": 80,
     "metadata": {},
     "output_type": "execute_result"
    }
   ],
   "source": [
    "count = 0\n",
    "for one in set(vin_temp.unique()):\n",
    "    temp = issue_dis1.loc[issue_dis1['차대번호'].str.len() == one, '차대번호']\n",
    "    count += temp.shape[0]\n",
    "    print(f'차대번호 길이 : {one}')\n",
    "    print(temp.shape)\n",
    "    display(temp.head())\n",
    "    print()\n",
    "count"
   ]
  },
  {
   "cell_type": "code",
   "execution_count": 81,
   "metadata": {},
   "outputs": [
    {
     "data": {
      "text/plain": [
       "0"
      ]
     },
     "execution_count": 81,
     "metadata": {},
     "output_type": "execute_result"
    }
   ],
   "source": [
    "len_17_wrong_text_idx = []\n",
    "p = re.compile('[ㄱ-ㅎ|ㅏ-ㅣ|가-힣]')\n",
    "for i, one in enumerate(issue_dis1['차대번호']):\n",
    "    if len(str(one)) == 17 and p.search(str(one)):\n",
    "        len_17_wrong_text_idx.append(i)\n",
    "len(len_17_wrong_text_idx)"
   ]
  },
  {
   "cell_type": "code",
   "execution_count": 82,
   "metadata": {},
   "outputs": [
    {
     "data": {
      "text/plain": [
       "Series([], Name: 차대번호, dtype: object)"
      ]
     },
     "execution_count": 82,
     "metadata": {},
     "output_type": "execute_result"
    }
   ],
   "source": [
    "issue_dis1.loc[len_17_wrong_text_idx, '차대번호'].head()"
   ]
  },
  {
   "cell_type": "code",
   "execution_count": null,
   "metadata": {},
   "outputs": [],
   "source": []
  },
  {
   "attachments": {},
   "cell_type": "markdown",
   "metadata": {},
   "source": [
    "## 차량등록번호"
   ]
  },
  {
   "cell_type": "code",
   "execution_count": 83,
   "metadata": {},
   "outputs": [
    {
     "data": {
      "text/plain": [
       "array(['92보8509', '37나2483', '43저9028', ..., '87루9080', '89가6066',\n",
       "       '05다1127'], dtype=object)"
      ]
     },
     "execution_count": 83,
     "metadata": {},
     "output_type": "execute_result"
    }
   ],
   "source": [
    "issue_dis1['차량등록번호'].unique()"
   ]
  },
  {
   "cell_type": "code",
   "execution_count": 84,
   "metadata": {},
   "outputs": [
    {
     "data": {
      "text/plain": [
       "0"
      ]
     },
     "execution_count": 84,
     "metadata": {},
     "output_type": "execute_result"
    }
   ],
   "source": [
    "issue_dis1['차량등록번호'].isnull().sum()"
   ]
  },
  {
   "cell_type": "code",
   "execution_count": 85,
   "metadata": {},
   "outputs": [
    {
     "name": "stderr",
     "output_type": "stream",
     "text": [
      "100%|██████████| 5727752/5727752 [00:07<00:00, 797652.57it/s]\n"
     ]
    },
    {
     "data": {
      "text/plain": [
       "0"
      ]
     },
     "execution_count": 85,
     "metadata": {},
     "output_type": "execute_result"
    }
   ],
   "source": [
    "p1 = re.compile('[가-힣]{2}[0-9]{1,2}[가-힣]{1}[0-9]{4}')\n",
    "p2 = re.compile('[0-9]{2,3}[가-힣]{1}[0-9]{4}')\n",
    "wrong_vhrno_list = []\n",
    "for one in tqdm(issue_dis1['차량등록번호']):\n",
    "    if not p1.search(str(one)) and not p2.search(str(one)):\n",
    "        wrong_vhrno_list.append(one)\n",
    "len(wrong_vhrno_list)"
   ]
  },
  {
   "attachments": {},
   "cell_type": "markdown",
   "metadata": {},
   "source": [
    "## 발령 번호"
   ]
  },
  {
   "cell_type": "code",
   "execution_count": 91,
   "metadata": {},
   "outputs": [
    {
     "data": {
      "text/plain": [
       "count   5727752.00\n",
       "mean       2506.78\n",
       "std         109.98\n",
       "min        2342.00\n",
       "25%        2411.00\n",
       "50%        2438.00\n",
       "75%        2614.00\n",
       "max        2666.00\n",
       "Name: 발령 번호, dtype: float64"
      ]
     },
     "execution_count": 91,
     "metadata": {},
     "output_type": "execute_result"
    }
   ],
   "source": [
    "issue_dis1['발령 번호'].describe()"
   ]
  },
  {
   "attachments": {},
   "cell_type": "markdown",
   "metadata": {},
   "source": [
    "# 17\\. 운행제한 단속정보"
   ]
  },
  {
   "cell_type": "code",
   "execution_count": 5,
   "metadata": {},
   "outputs": [
    {
     "name": "stdout",
     "output_type": "stream",
     "text": [
      "<class 'pandas.core.frame.DataFrame'>\n",
      "RangeIndex: 3090035 entries, 0 to 3090034\n",
      "Data columns (total 17 columns):\n",
      " #   Column              Dtype \n",
      "---  ------              ----- \n",
      " 0   NO                  int64 \n",
      " 1   ODR_YM              int64 \n",
      " 2   REG_SIDO_CD         int64 \n",
      " 3   REG_SIGNGU_CD       int64 \n",
      " 4   DISCL_TY            object\n",
      " 5   REGLT_AREA_CD       int64 \n",
      " 6   TFCLNE_ID           object\n",
      " 7   DISCL_DEHMS         int64 \n",
      " 8   VHMNO               object\n",
      " 9   VIN                 object\n",
      " 10  VHRNO               object\n",
      " 11  FILE_NM             object\n",
      " 12  ORG_FILE_CURS_NM    object\n",
      " 13  THUMB_FILE_CURS_NM  object\n",
      " 14  DTL_FILE_CURS_NM    object\n",
      " 15  REG_ID              object\n",
      " 16  REG_DT              object\n",
      "dtypes: int64(6), object(11)\n",
      "memory usage: 400.8+ MB\n"
     ]
    }
   ],
   "source": [
    "# about \n",
    "name = 'N_US_DISCLOSURE'\n",
    "file_name = f'ODS_{name}.csv'\n",
    "ld_ckeck = pd.read_csv(os.path.join(ods_fold, file_name), low_memory=False)\n",
    "ld_ckeck.info()"
   ]
  },
  {
   "cell_type": "code",
   "execution_count": 6,
   "metadata": {},
   "outputs": [
    {
     "data": {
      "text/plain": [
       "Index(['미정', '미정', '미정', '미정', '적발유형', '단속지역코드', '미정', '적발일시', '차량관리번호',\n",
       "       '차대번호', '차량등록번호', '미정', '미정', '미정', '미정', '미정', '미정'],\n",
       "      dtype='object')"
      ]
     },
     "execution_count": 6,
     "metadata": {},
     "output_type": "execute_result"
    }
   ],
   "source": [
    "file_name = f'[정제]{name}.xlsx'\n",
    "col_df = pd.read_excel(os.path.join(col_fold, file_name), sheet_name='ODS_col')\n",
    "col_dict = {a:b for a,b in col_df[['컬럼', '내용']].values}\n",
    "ld_ckeck.columns = [col_dict[x] for x in ld_ckeck.columns]\n",
    "ld_ckeck.columns"
   ]
  },
  {
   "cell_type": "code",
   "execution_count": 8,
   "metadata": {},
   "outputs": [],
   "source": [
    "ld_ckeck = ld_ckeck[['차대번호', '차량등록번호', '적발유형', '차량관리번호']]"
   ]
  },
  {
   "cell_type": "code",
   "execution_count": 9,
   "metadata": {},
   "outputs": [
    {
     "data": {
      "text/plain": [
       "(3090035, 4)"
      ]
     },
     "execution_count": 9,
     "metadata": {},
     "output_type": "execute_result"
    }
   ],
   "source": [
    "ld_ckeck.shape"
   ]
  },
  {
   "attachments": {},
   "cell_type": "markdown",
   "metadata": {},
   "source": [
    "## 차대번호"
   ]
  },
  {
   "cell_type": "code",
   "execution_count": 10,
   "metadata": {},
   "outputs": [
    {
     "data": {
      "text/plain": [
       "0"
      ]
     },
     "execution_count": 10,
     "metadata": {},
     "output_type": "execute_result"
    }
   ],
   "source": [
    "ld_ckeck['차대번호'].isnull().sum()"
   ]
  },
  {
   "cell_type": "code",
   "execution_count": 11,
   "metadata": {},
   "outputs": [
    {
     "data": {
      "text/plain": [
       "{9, 11, 12, 13, 15, 16, 17}"
      ]
     },
     "execution_count": 11,
     "metadata": {},
     "output_type": "execute_result"
    }
   ],
   "source": [
    "vin_temp = ld_ckeck['차대번호'].str.len()\n",
    "set(vin_temp.unique())"
   ]
  },
  {
   "cell_type": "code",
   "execution_count": 12,
   "metadata": {},
   "outputs": [
    {
     "name": "stdout",
     "output_type": "stream",
     "text": [
      "차대번호 길이 : 9\n",
      "(2,)\n"
     ]
    },
    {
     "data": {
      "text/plain": [
       "1104414    CN67C4394\n",
       "1325228    CN67C4394\n",
       "Name: 차대번호, dtype: object"
      ]
     },
     "metadata": {},
     "output_type": "display_data"
    },
    {
     "name": "stdout",
     "output_type": "stream",
     "text": [
      "\n",
      "차대번호 길이 : 11\n",
      "(805,)\n"
     ]
    },
    {
     "data": {
      "text/plain": [
       "158720    10771222554\n",
       "256294    10814246954\n",
       "269095    10814246954\n",
       "461701    10792126524\n",
       "545140    13831219384\n",
       "Name: 차대번호, dtype: object"
      ]
     },
     "metadata": {},
     "output_type": "display_data"
    },
    {
     "name": "stdout",
     "output_type": "stream",
     "text": [
      "\n",
      "차대번호 길이 : 12\n",
      "(4857,)\n"
     ]
    },
    {
     "data": {
      "text/plain": [
       "13032    410234235453\n",
       "20348    280242208140\n",
       "22192    410242138063\n",
       "22615    410242138063\n",
       "22747    439534203271\n",
       "Name: 차대번호, dtype: object"
      ]
     },
     "metadata": {},
     "output_type": "display_data"
    },
    {
     "name": "stdout",
     "output_type": "stream",
     "text": [
      "\n",
      "차대번호 길이 : 13\n",
      "(294,)\n"
     ]
    },
    {
     "data": {
      "text/plain": [
       "275611    469234300007순\n",
       "276935    469234300007순\n",
       "276992    469234300007순\n",
       "277731    469234300007순\n",
       "280729    469234300007순\n",
       "Name: 차대번호, dtype: object"
      ]
     },
     "metadata": {},
     "output_type": "display_data"
    },
    {
     "name": "stdout",
     "output_type": "stream",
     "text": [
      "\n",
      "차대번호 길이 : 15\n",
      "(16,)\n"
     ]
    },
    {
     "data": {
      "text/plain": [
       "334763     29-00-433-01845\n",
       "763530     29-00-433-01845\n",
       "1009927    29-00-433-01845\n",
       "1210317    29-00-433-01845\n",
       "1258557    29-00-433-01845\n",
       "Name: 차대번호, dtype: object"
      ]
     },
     "metadata": {},
     "output_type": "display_data"
    },
    {
     "name": "stdout",
     "output_type": "stream",
     "text": [
      "\n",
      "차대번호 길이 : 16\n",
      "(32,)\n"
     ]
    },
    {
     "data": {
      "text/plain": [
       "623329    YV2J4CF34A585755\n",
       "761206    YV2J4CF34A585755\n",
       "761818    YV2J4CF34A585755\n",
       "822010    YV2J4CF34A585755\n",
       "822765    YV2J4CF34A585755\n",
       "Name: 차대번호, dtype: object"
      ]
     },
     "metadata": {},
     "output_type": "display_data"
    },
    {
     "name": "stdout",
     "output_type": "stream",
     "text": [
      "\n",
      "차대번호 길이 : 17\n",
      "(3084029,)\n"
     ]
    },
    {
     "data": {
      "text/plain": [
       "0    KPBFA2AD12P021974\n",
       "1    KMHNN81XP2U038507\n",
       "2    KMFZCD7JP5U094049\n",
       "3    KMFWVH7HP4U579325\n",
       "4    KNAMA75433S411400\n",
       "Name: 차대번호, dtype: object"
      ]
     },
     "metadata": {},
     "output_type": "display_data"
    },
    {
     "name": "stdout",
     "output_type": "stream",
     "text": [
      "\n"
     ]
    },
    {
     "data": {
      "text/plain": [
       "3090035"
      ]
     },
     "execution_count": 12,
     "metadata": {},
     "output_type": "execute_result"
    }
   ],
   "source": [
    "count = 0\n",
    "for one in set(vin_temp.unique()):\n",
    "    temp = ld_ckeck.loc[ld_ckeck['차대번호'].str.len() == one, '차대번호']\n",
    "    count += temp.shape[0]\n",
    "    print(f'차대번호 길이 : {one}')\n",
    "    print(temp.shape)\n",
    "    display(temp.head())\n",
    "    print()\n",
    "count"
   ]
  },
  {
   "cell_type": "code",
   "execution_count": 13,
   "metadata": {},
   "outputs": [
    {
     "data": {
      "text/plain": [
       "0"
      ]
     },
     "execution_count": 13,
     "metadata": {},
     "output_type": "execute_result"
    }
   ],
   "source": [
    "len_17_wrong_text_idx = []\n",
    "p = re.compile('[ㄱ-ㅎ|ㅏ-ㅣ|가-힣]')\n",
    "for i, one in enumerate(ld_ckeck['차대번호']):\n",
    "    if len(str(one)) == 17 and p.search(str(one)):\n",
    "        len_17_wrong_text_idx.append(i)\n",
    "len(len_17_wrong_text_idx)"
   ]
  },
  {
   "cell_type": "code",
   "execution_count": 14,
   "metadata": {},
   "outputs": [
    {
     "data": {
      "text/plain": [
       "Series([], Name: 차대번호, dtype: object)"
      ]
     },
     "execution_count": 14,
     "metadata": {},
     "output_type": "execute_result"
    }
   ],
   "source": [
    "ld_ckeck.loc[len_17_wrong_text_idx, '차대번호'].head()"
   ]
  },
  {
   "attachments": {},
   "cell_type": "markdown",
   "metadata": {},
   "source": [
    "## 차량등록번호"
   ]
  },
  {
   "cell_type": "code",
   "execution_count": 15,
   "metadata": {},
   "outputs": [
    {
     "data": {
      "text/plain": [
       "array(['29다5775', '14도9561', '80루1945', ..., '12도4921', '80고2805',\n",
       "       '59버4907'], dtype=object)"
      ]
     },
     "execution_count": 15,
     "metadata": {},
     "output_type": "execute_result"
    }
   ],
   "source": [
    "ld_ckeck['차량등록번호'].unique()"
   ]
  },
  {
   "cell_type": "code",
   "execution_count": 16,
   "metadata": {},
   "outputs": [
    {
     "data": {
      "text/plain": [
       "0"
      ]
     },
     "execution_count": 16,
     "metadata": {},
     "output_type": "execute_result"
    }
   ],
   "source": [
    "ld_ckeck['차량등록번호'].isnull().sum()"
   ]
  },
  {
   "cell_type": "code",
   "execution_count": 17,
   "metadata": {},
   "outputs": [
    {
     "name": "stderr",
     "output_type": "stream",
     "text": [
      "100%|██████████| 3090035/3090035 [00:03<00:00, 909274.58it/s]\n"
     ]
    },
    {
     "data": {
      "text/plain": [
       "0"
      ]
     },
     "execution_count": 17,
     "metadata": {},
     "output_type": "execute_result"
    }
   ],
   "source": [
    "p1 = re.compile('[가-힣]{2}[0-9]{1,2}[가-힣]{1}[0-9]{4}')\n",
    "p2 = re.compile('[0-9]{2,3}[가-힣]{1}[0-9]{4}')\n",
    "wrong_vhrno_list = []\n",
    "for one in tqdm(ld_ckeck['차량등록번호']):\n",
    "    if not p1.search(str(one)) and not p2.search(str(one)):\n",
    "        wrong_vhrno_list.append(one)\n",
    "len(wrong_vhrno_list)"
   ]
  },
  {
   "attachments": {},
   "cell_type": "markdown",
   "metadata": {},
   "source": [
    "## 적발유형"
   ]
  },
  {
   "cell_type": "code",
   "execution_count": 18,
   "metadata": {},
   "outputs": [
    {
     "data": {
      "text/plain": [
       "array(['S'], dtype=object)"
      ]
     },
     "execution_count": 18,
     "metadata": {},
     "output_type": "execute_result"
    }
   ],
   "source": [
    "ld_ckeck['적발유형'].unique()"
   ]
  },
  {
   "cell_type": "code",
   "execution_count": 19,
   "metadata": {},
   "outputs": [
    {
     "data": {
      "text/plain": [
       "0"
      ]
     },
     "execution_count": 19,
     "metadata": {},
     "output_type": "execute_result"
    }
   ],
   "source": [
    "ld_ckeck['적발유형'].isnull().sum()"
   ]
  },
  {
   "attachments": {},
   "cell_type": "markdown",
   "metadata": {},
   "source": [
    "## 차량관리번호"
   ]
  },
  {
   "cell_type": "code",
   "execution_count": 20,
   "metadata": {},
   "outputs": [
    {
     "data": {
      "text/plain": [
       "array(['KPBFA2AD12P021974-01', 'KMHNN81XP2U038507-01',\n",
       "       'KMFZCD7JP5U094049-01', ..., 'KNAJC52183A118702-01',\n",
       "       'KN3HNP6D34K015249-01', 'KMHSD81VP5U008579-01'], dtype=object)"
      ]
     },
     "execution_count": 20,
     "metadata": {},
     "output_type": "execute_result"
    }
   ],
   "source": [
    "ld_ckeck['차량관리번호'].unique()"
   ]
  },
  {
   "cell_type": "code",
   "execution_count": 22,
   "metadata": {},
   "outputs": [
    {
     "data": {
      "text/plain": [
       "0"
      ]
     },
     "execution_count": 22,
     "metadata": {},
     "output_type": "execute_result"
    }
   ],
   "source": [
    "ld_ckeck['차량관리번호'].isnull().sum()"
   ]
  },
  {
   "cell_type": "code",
   "execution_count": 23,
   "metadata": {},
   "outputs": [
    {
     "data": {
      "text/plain": [
       "17"
      ]
     },
     "execution_count": 23,
     "metadata": {},
     "output_type": "execute_result"
    }
   ],
   "source": [
    "len('KPBFA2AD12P021974')"
   ]
  },
  {
   "cell_type": "code",
   "execution_count": 24,
   "metadata": {},
   "outputs": [
    {
     "data": {
      "text/plain": [
       "13824"
      ]
     },
     "execution_count": 24,
     "metadata": {},
     "output_type": "execute_result"
    }
   ],
   "source": [
    "wrong_text_idx = []\n",
    "p = re.compile('[A-Z0-9][-][0-9]')\n",
    "for i, one in enumerate(ld_ckeck['차량관리번호']):\n",
    "    if not p.search(str(one)):\n",
    "        wrong_text_idx.append(i)\n",
    "len(wrong_text_idx)"
   ]
  },
  {
   "cell_type": "code",
   "execution_count": 25,
   "metadata": {},
   "outputs": [
    {
     "data": {
      "text/plain": [
       "721     1199서울85바9660\n",
       "753     1199서울85바9660\n",
       "918       289987가5059\n",
       "1026    1199서울85바9660\n",
       "1196    1199서울85바9660\n",
       "Name: 차량관리번호, dtype: object"
      ]
     },
     "execution_count": 25,
     "metadata": {},
     "output_type": "execute_result"
    }
   ],
   "source": [
    "ld_ckeck.loc[wrong_text_idx, '차량관리번호'].head()"
   ]
  },
  {
   "cell_type": "code",
   "execution_count": 26,
   "metadata": {},
   "outputs": [
    {
     "data": {
      "text/plain": [
       "3088277    4199경기89아2105\n",
       "3089107    4199경기89아2105\n",
       "3089185    4199경기89아2105\n",
       "3089646    4199경기89아2105\n",
       "3089961    4199경기89아2105\n",
       "Name: 차량관리번호, dtype: object"
      ]
     },
     "execution_count": 26,
     "metadata": {},
     "output_type": "execute_result"
    }
   ],
   "source": [
    "ld_ckeck.loc[wrong_text_idx, '차량관리번호'].tail()"
   ]
  },
  {
   "attachments": {},
   "cell_type": "markdown",
   "metadata": {},
   "source": [
    "# 18\\. 정밀검사 검사정보"
   ]
  },
  {
   "cell_type": "code",
   "execution_count": null,
   "metadata": {},
   "outputs": [
    {
     "name": "stdout",
     "output_type": "stream",
     "text": [
      "<class 'pandas.core.frame.DataFrame'>\n",
      "RangeIndex: 28682228 entries, 0 to 28682227\n",
      "Data columns (total 75 columns):\n",
      " #   Column                 Dtype  \n",
      "---  ------                 -----  \n",
      " 0   SMO_CHK_ORG_NM         object \n",
      " 1   SMO_CHK_DATE           int64  \n",
      " 2   SMO_CHK_TYPE           object \n",
      " 3   SMO_CHK_REG_NO         object \n",
      " 4   CAR_REG_NO             object \n",
      " 5   CAR_SER_NO             object \n",
      " 6   CAR_SPEC_REG_NO        object \n",
      " 7   CAR_NM                 object \n",
      " 8   CAR_TYPE_NM            object \n",
      " 9   USAGE                  object \n",
      " 10  CAR_YEAR               int64  \n",
      " 11  CAR_FUEL_NM            object \n",
      " 12  CAR_MILE               float64\n",
      " 13  CAR_LENGTH             float64\n",
      " 14  CAR_WIDTH              float64\n",
      " 15  CAR_HEIGHT             float64\n",
      " 16  ENGINE_TYPE            object \n",
      " 17  ENGINE_CAPACITY        float64\n",
      " 18  ENGINE_POWER           object \n",
      " 19  CAR_WEIGHT             float64\n",
      " 20  TOT_WEIGHT             float64\n",
      " 21  CAR_PASSENGER          float64\n",
      " 22  CONT                   object \n",
      " 23  FIRST_REG_DATE         int64  \n",
      " 24  SMO_CHK_EXP_DATE       float64\n",
      " 25  SMO_FUN_CHK_JUDGE_YN   object \n",
      " 26  SMO_FUN_CHK_FAIL_ITEM  object \n",
      " 27  SMO_CHK_METHOD         object \n",
      " 28  UNLOAD_SMO_VAL1        float64\n",
      " 29  UNLOAD_SMO_LIM1        float64\n",
      " 30  UNLOAD_SMO_JUDGE1      object \n",
      " 31  UNLOAD_SMO_VAL2        float64\n",
      " 32  UNLOAD_SMO_LIM2        float64\n",
      " 33  UNLOAD_SMO_JUDGE2      object \n",
      " 34  UNLOAD_SMO_VAL3        float64\n",
      " 35  UNLOAD_SMO_LIM3        float64\n",
      " 36  UNLOAD_SMO_JUDGE3      object \n",
      " 37  UNLOAD_SMO_VAL4        float64\n",
      " 38  UNLOAD_SMO_LIM4        float64\n",
      " 39  UNLOAD_SMO_JUDGE4      object \n",
      " 40  UNLOAD_SMO_VAL5        float64\n",
      " 41  UNLOAD_SMO_LIM5        float64\n",
      " 42  UNLOAD_SMO_JUDGE5      object \n",
      " 43  CO2_VAL                float64\n",
      " 44  ENGINE_TOR_LIM         float64\n",
      " 45  ENGINE_TOR_VAL         float64\n",
      " 46  O2_VAL                 float64\n",
      " 47  AIR_TEMPERATURE        float64\n",
      " 48  AIR_PRESSURE           float64\n",
      " 49  SMO_CHK_JUDGE_YN       object \n",
      " 50  RE_INS_DATE2           object \n",
      " 51  SMO_CHK_EXP_DATE2      object \n",
      " 52  SMO_FUN_CHK_REC_NM     object \n",
      " 53  SMO_CHK_REC_NM         object \n",
      " 54  SMO_CHK_ORG_OWNER_NM   object \n",
      " 55  ETC_CONT1              float64\n",
      " 56  ETC_CONT2              float64\n",
      " 57  ETC_CONT3              float64\n",
      " 58  ETC_CONT4              float64\n",
      " 59  ETC_CONT5              float64\n",
      " 60  SRC_TBL                float64\n",
      " 61  SMO_CLOCK_INFO         object \n",
      " 62  CMB_SMO_CHK_REG_NO     object \n",
      " 63  JOB_DATE               int64  \n",
      " 64  UNLOAD_SMO_VAL6        float64\n",
      " 65  UNLOAD_SMO_LIM6        float64\n",
      " 66  UNLOAD_SMO_JUDGE6      object \n",
      " 67  FILE_NM                object \n",
      " 68  MAKE_REG_DATE          float64\n",
      " 69  DATA_GBN               object \n",
      " 70  DELETE_GBN             object \n",
      " 71  DELETE_REASON1         float64\n",
      " 72  DELETE_REASON2         object \n",
      " 73  DELETE_REASON3         object \n",
      " 74  DELETE_REASON4         float64\n",
      "dtypes: float64(36), int64(4), object(35)\n",
      "memory usage: 16.0+ GB\n"
     ]
    }
   ],
   "source": [
    "# about 11m 14s\n",
    "name = 'TB_EET_HIS_ME'\n",
    "file_name = f'ODS_{name}.csv'\n",
    "his_me = pd.read_csv(os.path.join(ods_fold, file_name), low_memory=False)\n",
    "his_me.info()"
   ]
  },
  {
   "cell_type": "code",
   "execution_count": null,
   "metadata": {},
   "outputs": [
    {
     "data": {
      "text/plain": [
       "Index(['정밀검사소명', '정밀검사일자', '정밀검사종류', '정밀검사접수번호', '차량번호', '차대번호', '미정', '차명',\n",
       "       '차종', '차량용도', '차량연식', '사용연료', '주행거리', '미정', '미정', '미정', '엔진형식', '미정',\n",
       "       '미정', '미정', '미정', '미정', '미정', '미정', '정밀검사유효기간', '미정', '미정', '정밀검사측정방법',\n",
       "       '무부하매연측정치1', '무부하매연허용치1', '무부하매연판정1', '무부하매연측정치2', '무부하매연허용치2',\n",
       "       '무부하매연판정2', '무부하매연측정치3', '무부하매연허용치3', '무부하매연판정3', '무부하매연측정치4',\n",
       "       '무부하매연허용치4', '무부하매연판정4', '무부하매연측정치5', '무부하매연허용치5', '무부하매연판정5', '이산화탄소값',\n",
       "       '최대출력허용치', '최대출력측정값', '산소값', '미정', '미정', '정밀검사판정', '재검사기간', '미정', '미정',\n",
       "       '미정', '미정', '미정', '미정', '미정', '미정', '미정', '미정', '정밀검사시각정보',\n",
       "       '정밀검사 검사소코드', '미정', '무부하매연측정치6', '무부하매연허용치6', '무부하매연판정6', '미정', '미정',\n",
       "       '미정', '미정', '미정', '미정', '미정', '미정'],\n",
       "      dtype='object')"
      ]
     },
     "execution_count": 6,
     "metadata": {},
     "output_type": "execute_result"
    }
   ],
   "source": [
    "file_name = f'[정제]{name}.xlsx'\n",
    "col_df = pd.read_excel(os.path.join(col_fold, file_name), sheet_name='ODS_col')\n",
    "col_dict = {a:b for a,b in col_df[['컬럼', '내용']].values}\n",
    "his_me.columns = [col_dict[x] for x in his_me.columns]\n",
    "his_me.columns"
   ]
  },
  {
   "cell_type": "code",
   "execution_count": null,
   "metadata": {},
   "outputs": [
    {
     "data": {
      "text/plain": [
       "array(['경유', '휘발유', '휘발유(무연)', '엘피지', '하이브리드(휘발유+전기)', '하이브리드(LPG+전기)',\n",
       "       '휘발유(유연)', '하이브리드(경유+전기)', '기타연료', 'LNG', 'CNG', nan], dtype=object)"
      ]
     },
     "execution_count": 7,
     "metadata": {},
     "output_type": "execute_result"
    }
   ],
   "source": [
    "his_me['사용연료'].unique()"
   ]
  },
  {
   "cell_type": "code",
   "execution_count": 6,
   "metadata": {},
   "outputs": [
    {
     "name": "stdout",
     "output_type": "stream",
     "text": [
      "<class 'pandas.core.frame.DataFrame'>\n",
      "RangeIndex: 28682228 entries, 0 to 28682227\n",
      "Data columns (total 41 columns):\n",
      " #   Column     Dtype  \n",
      "---  ------     -----  \n",
      " 0   사용연료       object \n",
      " 1   주행거리       float64\n",
      " 2   차명         object \n",
      " 3   차량번호       object \n",
      " 4   차대번호       object \n",
      " 5   차종         object \n",
      " 6   차량연식       int64  \n",
      " 7   엔진형식       object \n",
      " 8   검사방법       object \n",
      " 9   검사일자       int64  \n",
      " 10  검사종류       object \n",
      " 11  검사판정시각     object \n",
      " 12  검사판정       object \n",
      " 13  산소값        float64\n",
      " 14  이산화탄소값     float64\n",
      " 15  무부하매연판정1   object \n",
      " 16  무부하매연판정2   object \n",
      " 17  무부하매연판정3   object \n",
      " 18  무부하매연판정4   object \n",
      " 19  무부하매연판정5   object \n",
      " 20  무부하매연판정6   object \n",
      " 21  무부하매연허용치1  float64\n",
      " 22  무부하매연허용치2  float64\n",
      " 23  무부하매연허용치3  float64\n",
      " 24  무부하매연허용치4  float64\n",
      " 25  무부하매연허용치5  float64\n",
      " 26  무부하매연허용치6  float64\n",
      " 27  무부하매연측정치1  float64\n",
      " 28  무부하매연측정치2  float64\n",
      " 29  무부하매연측정치3  float64\n",
      " 30  무부하매연측정치4  float64\n",
      " 31  무부하매연측정치5  float64\n",
      " 32  무부하매연측정치6  float64\n",
      " 33  차량용도       object \n",
      " 34  최대출력허용치    float64\n",
      " 35  최대출력측정값    float64\n",
      " 36  검사접수번호     object \n",
      " 37  검사소명       object \n",
      " 38  재검사기간      object \n",
      " 39  검사 검사소코드   object \n",
      " 40  검사유효기간     float64\n",
      "dtypes: float64(18), int64(2), object(21)\n",
      "memory usage: 8.8+ GB\n"
     ]
    }
   ],
   "source": [
    "# about 5m 48s\n",
    "name = '[ODS]정밀검사(2022.12.28)'\n",
    "file_name = f'{name}.csv'\n",
    "dins = pd.read_csv(os.path.join(ods_fold, file_name), low_memory=False)\n",
    "dins.info()"
   ]
  },
  {
   "cell_type": "code",
   "execution_count": 7,
   "metadata": {},
   "outputs": [
    {
     "data": {
      "text/plain": [
       "Index(['사용연료', '주행거리', '차명', '차량번호', '차대번호', '차종', '차량연식', '엔진형식', '검사방법',\n",
       "       '검사일자', '검사종류', '검사판정시각', '검사판정', '산소값', '이산화탄소값', '무부하매연판정1',\n",
       "       '무부하매연판정2', '무부하매연판정3', '무부하매연판정4', '무부하매연판정5', '무부하매연판정6', '무부하매연허용치1',\n",
       "       '무부하매연허용치2', '무부하매연허용치3', '무부하매연허용치4', '무부하매연허용치5', '무부하매연허용치6',\n",
       "       '무부하매연측정치1', '무부하매연측정치2', '무부하매연측정치3', '무부하매연측정치4', '무부하매연측정치5',\n",
       "       '무부하매연측정치6', '차량용도', '최대출력허용치', '최대출력측정값', '검사접수번호', '검사소명', '재검사기간',\n",
       "       '검사 검사소코드', '검사유효기간'],\n",
       "      dtype='object')"
      ]
     },
     "execution_count": 7,
     "metadata": {},
     "output_type": "execute_result"
    }
   ],
   "source": [
    "dins.columns"
   ]
  },
  {
   "cell_type": "markdown",
   "metadata": {},
   "source": [
    "## 사용연료"
   ]
  },
  {
   "cell_type": "code",
   "execution_count": 12,
   "metadata": {},
   "outputs": [
    {
     "data": {
      "text/plain": [
       "array(['경유', '휘발유', '휘발유(무연)', '엘피지', '하이브리드(휘발유+전기)', '하이브리드(LPG+전기)',\n",
       "       '휘발유(유연)', '하이브리드(경유+전기)', '기타연료', 'LNG', 'CNG', nan], dtype=object)"
      ]
     },
     "execution_count": 12,
     "metadata": {},
     "output_type": "execute_result"
    }
   ],
   "source": [
    "dins['사용연료'].unique()"
   ]
  },
  {
   "cell_type": "code",
   "execution_count": 13,
   "metadata": {},
   "outputs": [
    {
     "data": {
      "text/html": [
       "<div>\n",
       "<style scoped>\n",
       "    .dataframe tbody tr th:only-of-type {\n",
       "        vertical-align: middle;\n",
       "    }\n",
       "\n",
       "    .dataframe tbody tr th {\n",
       "        vertical-align: top;\n",
       "    }\n",
       "\n",
       "    .dataframe thead th {\n",
       "        text-align: right;\n",
       "    }\n",
       "</style>\n",
       "<table border=\"1\" class=\"dataframe\">\n",
       "  <thead>\n",
       "    <tr style=\"text-align: right;\">\n",
       "      <th></th>\n",
       "      <th>사용연료</th>\n",
       "      <th>차명</th>\n",
       "    </tr>\n",
       "  </thead>\n",
       "  <tbody>\n",
       "    <tr>\n",
       "      <th>16129609</th>\n",
       "      <td>NaN</td>\n",
       "      <td>SM3</td>\n",
       "    </tr>\n",
       "  </tbody>\n",
       "</table>\n",
       "</div>"
      ],
      "text/plain": [
       "         사용연료   차명\n",
       "16129609  NaN  SM3"
      ]
     },
     "execution_count": 13,
     "metadata": {},
     "output_type": "execute_result"
    }
   ],
   "source": [
    "dins.loc[dins['사용연료'].isnull() == True, ['사용연료', '차명']].head()"
   ]
  },
  {
   "cell_type": "code",
   "execution_count": 8,
   "metadata": {},
   "outputs": [
    {
     "data": {
      "text/html": [
       "<div>\n",
       "<style scoped>\n",
       "    .dataframe tbody tr th:only-of-type {\n",
       "        vertical-align: middle;\n",
       "    }\n",
       "\n",
       "    .dataframe tbody tr th {\n",
       "        vertical-align: top;\n",
       "    }\n",
       "\n",
       "    .dataframe thead th {\n",
       "        text-align: right;\n",
       "    }\n",
       "</style>\n",
       "<table border=\"1\" class=\"dataframe\">\n",
       "  <thead>\n",
       "    <tr style=\"text-align: right;\">\n",
       "      <th></th>\n",
       "      <th>사용연료</th>\n",
       "      <th>차명</th>\n",
       "    </tr>\n",
       "  </thead>\n",
       "  <tbody>\n",
       "  </tbody>\n",
       "</table>\n",
       "</div>"
      ],
      "text/plain": [
       "Empty DataFrame\n",
       "Columns: [사용연료, 차명]\n",
       "Index: []"
      ]
     },
     "execution_count": 8,
     "metadata": {},
     "output_type": "execute_result"
    }
   ],
   "source": [
    "dins.loc[dins['사용연료'].isnull() == True, ['사용연료', '차명']].iloc[50:60]"
   ]
  },
  {
   "cell_type": "code",
   "execution_count": 25,
   "metadata": {},
   "outputs": [
    {
     "data": {
      "text/html": [
       "<div>\n",
       "<style scoped>\n",
       "    .dataframe tbody tr th:only-of-type {\n",
       "        vertical-align: middle;\n",
       "    }\n",
       "\n",
       "    .dataframe tbody tr th {\n",
       "        vertical-align: top;\n",
       "    }\n",
       "\n",
       "    .dataframe thead th {\n",
       "        text-align: right;\n",
       "    }\n",
       "</style>\n",
       "<table border=\"1\" class=\"dataframe\">\n",
       "  <thead>\n",
       "    <tr style=\"text-align: right;\">\n",
       "      <th></th>\n",
       "      <th>사용연료</th>\n",
       "      <th>차대번호</th>\n",
       "      <th>엔진형식</th>\n",
       "    </tr>\n",
       "  </thead>\n",
       "  <tbody>\n",
       "    <tr>\n",
       "      <th>16129609</th>\n",
       "      <td>NaN</td>\n",
       "      <td>KNMC4C2HMDP139016</td>\n",
       "      <td>H4MD</td>\n",
       "    </tr>\n",
       "  </tbody>\n",
       "</table>\n",
       "</div>"
      ],
      "text/plain": [
       "         사용연료               차대번호  엔진형식\n",
       "16129609  NaN  KNMC4C2HMDP139016  H4MD"
      ]
     },
     "execution_count": 25,
     "metadata": {},
     "output_type": "execute_result"
    }
   ],
   "source": [
    "dins.loc[dins['사용연료'].isnull() == True, ['사용연료', '차대번호', '엔진형식']]"
   ]
  },
  {
   "cell_type": "code",
   "execution_count": 20,
   "metadata": {},
   "outputs": [
    {
     "data": {
      "text/html": [
       "<div>\n",
       "<style scoped>\n",
       "    .dataframe tbody tr th:only-of-type {\n",
       "        vertical-align: middle;\n",
       "    }\n",
       "\n",
       "    .dataframe tbody tr th {\n",
       "        vertical-align: top;\n",
       "    }\n",
       "\n",
       "    .dataframe thead th {\n",
       "        text-align: right;\n",
       "    }\n",
       "</style>\n",
       "<table border=\"1\" class=\"dataframe\">\n",
       "  <thead>\n",
       "    <tr style=\"text-align: right;\">\n",
       "      <th></th>\n",
       "      <th>차대번호</th>\n",
       "      <th>사용연료</th>\n",
       "    </tr>\n",
       "  </thead>\n",
       "  <tbody>\n",
       "  </tbody>\n",
       "</table>\n",
       "</div>"
      ],
      "text/plain": [
       "Empty DataFrame\n",
       "Columns: [차대번호, 사용연료]\n",
       "Index: []"
      ]
     },
     "execution_count": 20,
     "metadata": {},
     "output_type": "execute_result"
    }
   ],
   "source": [
    "ins.loc[ins['차대번호'] == 'KNMC4C2HMDP139016', ['차대번호', '사용연료']]"
   ]
  },
  {
   "cell_type": "code",
   "execution_count": 22,
   "metadata": {},
   "outputs": [
    {
     "data": {
      "text/html": [
       "<div>\n",
       "<style scoped>\n",
       "    .dataframe tbody tr th:only-of-type {\n",
       "        vertical-align: middle;\n",
       "    }\n",
       "\n",
       "    .dataframe tbody tr th {\n",
       "        vertical-align: top;\n",
       "    }\n",
       "\n",
       "    .dataframe thead th {\n",
       "        text-align: right;\n",
       "    }\n",
       "</style>\n",
       "<table border=\"1\" class=\"dataframe\">\n",
       "  <thead>\n",
       "    <tr style=\"text-align: right;\">\n",
       "      <th></th>\n",
       "      <th>차대번호</th>\n",
       "      <th>사용연료</th>\n",
       "    </tr>\n",
       "  </thead>\n",
       "  <tbody>\n",
       "    <tr>\n",
       "      <th>15699395</th>\n",
       "      <td>KNMC4C2HMDP139016</td>\n",
       "      <td>NaN</td>\n",
       "    </tr>\n",
       "  </tbody>\n",
       "</table>\n",
       "</div>"
      ],
      "text/plain": [
       "                       차대번호 사용연료\n",
       "15699395  KNMC4C2HMDP139016  NaN"
      ]
     },
     "execution_count": 22,
     "metadata": {},
     "output_type": "execute_result"
    }
   ],
   "source": [
    "tin.loc[tin['차대번호'] == 'KNMC4C2HMDP139016', ['차대번호', '사용연료']]"
   ]
  },
  {
   "cell_type": "code",
   "execution_count": 23,
   "metadata": {},
   "outputs": [
    {
     "data": {
      "text/html": [
       "<div>\n",
       "<style scoped>\n",
       "    .dataframe tbody tr th:only-of-type {\n",
       "        vertical-align: middle;\n",
       "    }\n",
       "\n",
       "    .dataframe tbody tr th {\n",
       "        vertical-align: top;\n",
       "    }\n",
       "\n",
       "    .dataframe thead th {\n",
       "        text-align: right;\n",
       "    }\n",
       "</style>\n",
       "<table border=\"1\" class=\"dataframe\">\n",
       "  <thead>\n",
       "    <tr style=\"text-align: right;\">\n",
       "      <th></th>\n",
       "      <th>차대번호</th>\n",
       "      <th>제원관리번호</th>\n",
       "      <th>연료</th>\n",
       "    </tr>\n",
       "  </thead>\n",
       "  <tbody>\n",
       "    <tr>\n",
       "      <th>12605884</th>\n",
       "      <td>KNMC4C2HMDP139016</td>\n",
       "      <td>A0410000600091212</td>\n",
       "      <td>휘발유</td>\n",
       "    </tr>\n",
       "  </tbody>\n",
       "</table>\n",
       "</div>"
      ],
      "text/plain": [
       "                       차대번호             제원관리번호   연료\n",
       "12605884  KNMC4C2HMDP139016  A0410000600091212  휘발유"
      ]
     },
     "execution_count": 23,
     "metadata": {},
     "output_type": "execute_result"
    }
   ],
   "source": [
    "tdf.loc[tdf['차대번호'] == 'KNMC4C2HMDP139016', ['차대번호', '제원관리번호', '연료']]"
   ]
  },
  {
   "cell_type": "code",
   "execution_count": 26,
   "metadata": {},
   "outputs": [
    {
     "data": {
      "text/html": [
       "<div>\n",
       "<style scoped>\n",
       "    .dataframe tbody tr th:only-of-type {\n",
       "        vertical-align: middle;\n",
       "    }\n",
       "\n",
       "    .dataframe tbody tr th {\n",
       "        vertical-align: top;\n",
       "    }\n",
       "\n",
       "    .dataframe thead th {\n",
       "        text-align: right;\n",
       "    }\n",
       "</style>\n",
       "<table border=\"1\" class=\"dataframe\">\n",
       "  <thead>\n",
       "    <tr style=\"text-align: right;\">\n",
       "      <th></th>\n",
       "      <th>차대번호</th>\n",
       "      <th>제원관리번호</th>\n",
       "      <th>연료</th>\n",
       "      <th>엔진형식</th>\n",
       "    </tr>\n",
       "  </thead>\n",
       "  <tbody>\n",
       "    <tr>\n",
       "      <th>11737503</th>\n",
       "      <td>KNMC4C2HMDP129948</td>\n",
       "      <td>A0410000600091212</td>\n",
       "      <td>휘발유</td>\n",
       "      <td>H4MD</td>\n",
       "    </tr>\n",
       "    <tr>\n",
       "      <th>11738257</th>\n",
       "      <td>KNMC4C2HMDP129937</td>\n",
       "      <td>A0410000600091212</td>\n",
       "      <td>휘발유</td>\n",
       "      <td>H4MD</td>\n",
       "    </tr>\n",
       "    <tr>\n",
       "      <th>11738347</th>\n",
       "      <td>KNMC4C2HMDP130344</td>\n",
       "      <td>A0410000600091212</td>\n",
       "      <td>휘발유</td>\n",
       "      <td>H4MD</td>\n",
       "    </tr>\n",
       "    <tr>\n",
       "      <th>11738355</th>\n",
       "      <td>KNMC4C2HMDP129938</td>\n",
       "      <td>A0410000600091212</td>\n",
       "      <td>휘발유</td>\n",
       "      <td>H4MD</td>\n",
       "    </tr>\n",
       "    <tr>\n",
       "      <th>11739835</th>\n",
       "      <td>KNMC4C2HMDP129929</td>\n",
       "      <td>A0410000600091212</td>\n",
       "      <td>휘발유</td>\n",
       "      <td>H4MD</td>\n",
       "    </tr>\n",
       "    <tr>\n",
       "      <th>...</th>\n",
       "      <td>...</td>\n",
       "      <td>...</td>\n",
       "      <td>...</td>\n",
       "      <td>...</td>\n",
       "    </tr>\n",
       "    <tr>\n",
       "      <th>28722354</th>\n",
       "      <td>KNMC4C2HMEP151205</td>\n",
       "      <td>99934125271161222</td>\n",
       "      <td>휘발유</td>\n",
       "      <td>H4MD</td>\n",
       "    </tr>\n",
       "    <tr>\n",
       "      <th>28816489</th>\n",
       "      <td>KNMC4C2HMFP173142</td>\n",
       "      <td>99934125271861222</td>\n",
       "      <td>휘발유</td>\n",
       "      <td>H4MD</td>\n",
       "    </tr>\n",
       "    <tr>\n",
       "      <th>29021910</th>\n",
       "      <td>KNMC4C2HMFP171689</td>\n",
       "      <td>9993411b112341222</td>\n",
       "      <td>휘발유</td>\n",
       "      <td>H4MD</td>\n",
       "    </tr>\n",
       "    <tr>\n",
       "      <th>29206036</th>\n",
       "      <td>KNMC4C2HMGP198834</td>\n",
       "      <td>9993411b117651222</td>\n",
       "      <td>휘발유</td>\n",
       "      <td>H4MD</td>\n",
       "    </tr>\n",
       "    <tr>\n",
       "      <th>29323698</th>\n",
       "      <td>KNMC4C2HMEP147369</td>\n",
       "      <td>99934703028491222</td>\n",
       "      <td>휘발유</td>\n",
       "      <td>H4MD</td>\n",
       "    </tr>\n",
       "  </tbody>\n",
       "</table>\n",
       "<p>78890 rows × 4 columns</p>\n",
       "</div>"
      ],
      "text/plain": [
       "                       차대번호             제원관리번호   연료  엔진형식\n",
       "11737503  KNMC4C2HMDP129948  A0410000600091212  휘발유  H4MD\n",
       "11738257  KNMC4C2HMDP129937  A0410000600091212  휘발유  H4MD\n",
       "11738347  KNMC4C2HMDP130344  A0410000600091212  휘발유  H4MD\n",
       "11738355  KNMC4C2HMDP129938  A0410000600091212  휘발유  H4MD\n",
       "11739835  KNMC4C2HMDP129929  A0410000600091212  휘발유  H4MD\n",
       "...                     ...                ...  ...   ...\n",
       "28722354  KNMC4C2HMEP151205  99934125271161222  휘발유  H4MD\n",
       "28816489  KNMC4C2HMFP173142  99934125271861222  휘발유  H4MD\n",
       "29021910  KNMC4C2HMFP171689  9993411b112341222  휘발유  H4MD\n",
       "29206036  KNMC4C2HMGP198834  9993411b117651222  휘발유  H4MD\n",
       "29323698  KNMC4C2HMEP147369  99934703028491222  휘발유  H4MD\n",
       "\n",
       "[78890 rows x 4 columns]"
      ]
     },
     "execution_count": 26,
     "metadata": {},
     "output_type": "execute_result"
    }
   ],
   "source": [
    "tdf.loc[tdf['엔진형식'] == 'H4MD', ['차대번호', '제원관리번호', '연료', '엔진형식']]"
   ]
  },
  {
   "cell_type": "markdown",
   "metadata": {},
   "source": [
    "## 차명"
   ]
  },
  {
   "cell_type": "code",
   "execution_count": 9,
   "metadata": {},
   "outputs": [
    {
     "data": {
      "text/plain": [
       "0"
      ]
     },
     "execution_count": 9,
     "metadata": {},
     "output_type": "execute_result"
    }
   ],
   "source": [
    "dins['차명'].isnull().sum()"
   ]
  },
  {
   "cell_type": "markdown",
   "metadata": {},
   "source": [
    "## 차량번호"
   ]
  },
  {
   "cell_type": "code",
   "execution_count": 10,
   "metadata": {},
   "outputs": [
    {
     "data": {
      "text/plain": [
       "0"
      ]
     },
     "execution_count": 10,
     "metadata": {},
     "output_type": "execute_result"
    }
   ],
   "source": [
    "dins['차량번호'].isnull().sum()"
   ]
  },
  {
   "cell_type": "code",
   "execution_count": 11,
   "metadata": {},
   "outputs": [
    {
     "data": {
      "text/plain": [
       "array(['90거4483', '58오7606', '35로2372', ..., '62조5474', '58다1021',\n",
       "       '61너7414'], dtype=object)"
      ]
     },
     "execution_count": 11,
     "metadata": {},
     "output_type": "execute_result"
    }
   ],
   "source": [
    "dins['차량번호'].unique()"
   ]
  },
  {
   "cell_type": "code",
   "execution_count": 12,
   "metadata": {},
   "outputs": [
    {
     "name": "stderr",
     "output_type": "stream",
     "text": [
      "100%|██████████| 28682228/28682228 [00:35<00:00, 801902.14it/s]\n"
     ]
    },
    {
     "data": {
      "text/plain": [
       "204"
      ]
     },
     "execution_count": 12,
     "metadata": {},
     "output_type": "execute_result"
    }
   ],
   "source": [
    "p1 = re.compile('[가-힣]{2}[0-9]{1,2}[가-힣]{1}[0-9]{4}')\n",
    "p2 = re.compile('[0-9]{2,3}[가-힣]{1}[0-9]{4}')\n",
    "wrong_vhrno_list = []\n",
    "for one in tqdm(dins['차량번호']):\n",
    "    if not p1.search(str(one)) and not p2.search(str(one)):\n",
    "        wrong_vhrno_list.append(one)\n",
    "len(wrong_vhrno_list)"
   ]
  },
  {
   "cell_type": "code",
   "execution_count": 13,
   "metadata": {},
   "outputs": [
    {
     "data": {
      "text/plain": [
       "['#6부2822', '#6부2822', '#6부2822', '#6부2822', '#6가8769']"
      ]
     },
     "execution_count": 13,
     "metadata": {},
     "output_type": "execute_result"
    }
   ],
   "source": [
    "wrong_vhrno_list[:5]"
   ]
  },
  {
   "cell_type": "code",
   "execution_count": 14,
   "metadata": {},
   "outputs": [
    {
     "data": {
      "text/plain": [
       "['#0거0682', '#0거0682', '#0거0682', '#0거0682', '#0거0682']"
      ]
     },
     "execution_count": 14,
     "metadata": {},
     "output_type": "execute_result"
    }
   ],
   "source": [
    "wrong_vhrno_list[-5:]"
   ]
  },
  {
   "cell_type": "markdown",
   "metadata": {},
   "source": [
    "## 차대번호"
   ]
  },
  {
   "cell_type": "code",
   "execution_count": 15,
   "metadata": {},
   "outputs": [
    {
     "data": {
      "text/plain": [
       "{10, 11, 12, 13, 14, 15, 16, 17}"
      ]
     },
     "execution_count": 15,
     "metadata": {},
     "output_type": "execute_result"
    }
   ],
   "source": [
    "vin_temp = dins['차대번호'].str.len()\n",
    "set(vin_temp.unique())"
   ]
  },
  {
   "cell_type": "code",
   "execution_count": 16,
   "metadata": {},
   "outputs": [
    {
     "name": "stdout",
     "output_type": "stream",
     "text": [
      "차대번호 길이 : 10\n",
      "(3,)\n"
     ]
    },
    {
     "data": {
      "text/plain": [
       "7399569     1162127346\n",
       "22917565    1162127346\n",
       "26691669    1332942254\n",
       "Name: 차대번호, dtype: object"
      ]
     },
     "metadata": {},
     "output_type": "display_data"
    },
    {
     "name": "stdout",
     "output_type": "stream",
     "text": [
      "\n",
      "차대번호 길이 : 11\n",
      "(495,)\n"
     ]
    },
    {
     "data": {
      "text/plain": [
       "149419    01901321587\n",
       "171339    01911322533\n",
       "223673    01894100061\n",
       "236602    03904300818\n",
       "283596    01901321837\n",
       "Name: 차대번호, dtype: object"
      ]
     },
     "metadata": {},
     "output_type": "display_data"
    },
    {
     "name": "stdout",
     "output_type": "stream",
     "text": [
      "\n",
      "차대번호 길이 : 12\n",
      "(12076,)\n"
     ]
    },
    {
     "data": {
      "text/plain": [
       "4920    449834294423\n",
       "4986    410234238119\n",
       "5787    280134207758\n",
       "8821    410234335293\n",
       "8958    410244238001\n",
       "Name: 차대번호, dtype: object"
      ]
     },
     "metadata": {},
     "output_type": "display_data"
    },
    {
     "name": "stdout",
     "output_type": "stream",
     "text": [
      "\n",
      "차대번호 길이 : 13\n",
      "(267,)\n"
     ]
    },
    {
     "data": {
      "text/plain": [
       "160243    469234300006순\n",
       "173628    469234300006순\n",
       "295919    419011199203타\n",
       "297004    419011199203타\n",
       "381429    119213301087다\n",
       "Name: 차대번호, dtype: object"
      ]
     },
     "metadata": {},
     "output_type": "display_data"
    },
    {
     "name": "stdout",
     "output_type": "stream",
     "text": [
      "\n",
      "차대번호 길이 : 14\n",
      "(18,)\n"
     ]
    },
    {
     "data": {
      "text/plain": [
       "2441830    119111200007대서\n",
       "3900856    119034200158대서\n",
       "3987619    119111200141대서\n",
       "6368742    21891130315401\n",
       "6372214    21891130315401\n",
       "Name: 차대번호, dtype: object"
      ]
     },
     "metadata": {},
     "output_type": "display_data"
    },
    {
     "name": "stdout",
     "output_type": "stream",
     "text": [
      "\n",
      "차대번호 길이 : 15\n",
      "(170,)\n"
     ]
    },
    {
     "data": {
      "text/plain": [
       "64041     09794220023EORN\n",
       "335407    8HR58235C660267\n",
       "591156    41-97-443-97364\n",
       "606745    41-00-113-37851\n",
       "614801    41-00-113-37851\n",
       "Name: 차대번호, dtype: object"
      ]
     },
     "metadata": {},
     "output_type": "display_data"
    },
    {
     "name": "stdout",
     "output_type": "stream",
     "text": [
      "\n",
      "차대번호 길이 : 16\n",
      "(283,)\n"
     ]
    },
    {
     "data": {
      "text/plain": [
       "504      KNAFH22139A00852\n",
       "12842    VF36D3FYF8L00078\n",
       "29941    KMHSD81VP3U43335\n",
       "41691    KMHSD81VP3U43335\n",
       "93137    KMHDN41BP5U61314\n",
       "Name: 차대번호, dtype: object"
      ]
     },
     "metadata": {},
     "output_type": "display_data"
    },
    {
     "name": "stdout",
     "output_type": "stream",
     "text": [
      "\n",
      "차대번호 길이 : 17\n",
      "(28668916,)\n"
     ]
    },
    {
     "data": {
      "text/plain": [
       "0    KNCSJY76BDK832102\n",
       "1    KMHFB41BBBA559634\n",
       "2    KMHGB41AP9U047697\n",
       "3    KNAPC813BBK099365\n",
       "4    KMHFF41EBBA002301\n",
       "Name: 차대번호, dtype: object"
      ]
     },
     "metadata": {},
     "output_type": "display_data"
    },
    {
     "name": "stdout",
     "output_type": "stream",
     "text": [
      "\n"
     ]
    },
    {
     "data": {
      "text/plain": [
       "28682228"
      ]
     },
     "execution_count": 16,
     "metadata": {},
     "output_type": "execute_result"
    }
   ],
   "source": [
    "count = 0\n",
    "for one in set(vin_temp.unique()):\n",
    "    temp = dins.loc[dins['차대번호'].str.len() == one, '차대번호']\n",
    "    count += temp.shape[0]\n",
    "    print(f'차대번호 길이 : {one}')\n",
    "    print(temp.shape)\n",
    "    display(temp.head())\n",
    "    print()\n",
    "count"
   ]
  },
  {
   "cell_type": "code",
   "execution_count": 17,
   "metadata": {},
   "outputs": [
    {
     "data": {
      "text/plain": [
       "0"
      ]
     },
     "execution_count": 17,
     "metadata": {},
     "output_type": "execute_result"
    }
   ],
   "source": [
    "len_17_wrong_text_idx = []\n",
    "p = re.compile('[ㄱ-ㅎ|ㅏ-ㅣ|가-힣]')\n",
    "for i, one in enumerate(dins['차대번호']):\n",
    "    if len(str(one)) == 17 and p.search(str(one)):\n",
    "        len_17_wrong_text_idx.append(i)\n",
    "len(len_17_wrong_text_idx)"
   ]
  },
  {
   "cell_type": "code",
   "execution_count": 18,
   "metadata": {},
   "outputs": [
    {
     "data": {
      "text/plain": [
       "Series([], Name: 차대번호, dtype: object)"
      ]
     },
     "execution_count": 18,
     "metadata": {},
     "output_type": "execute_result"
    }
   ],
   "source": [
    "dins.loc[len_17_wrong_text_idx, '차대번호'].head()"
   ]
  },
  {
   "cell_type": "markdown",
   "metadata": {},
   "source": [
    "## 차종"
   ]
  },
  {
   "cell_type": "code",
   "execution_count": 19,
   "metadata": {},
   "outputs": [
    {
     "data": {
      "text/plain": [
       "0"
      ]
     },
     "execution_count": 19,
     "metadata": {},
     "output_type": "execute_result"
    }
   ],
   "source": [
    "dins['차종'].isnull().sum()"
   ]
  },
  {
   "cell_type": "code",
   "execution_count": 20,
   "metadata": {},
   "outputs": [
    {
     "data": {
      "text/plain": [
       "array(['화물차일반형소형', '승용차일반형대형', '승용차다목적형중형', '화물차일반형중형', '승합차일반형중형',\n",
       "       '승용차일반형경형', '승용차다목적형대형', '승용차일반형소형', '승용차일반형중형', '화물차밴형소형',\n",
       "       '승합차일반형경형', '화물차일반형대형', '화물차덤프형소형', '승용차기타형중형', '화물차특수용도형소형',\n",
       "       '특수차특수작업형소형', '화물차특수용도형중형', '화물차특수용도형대형', '특수차특수작업형중형', '승용차기타형대형',\n",
       "       '화물차밴형중형', '승용차겸화물형경형', '승합차일반형대형', '승합차특수형중형', '화물차일반형경형',\n",
       "       '화물차밴형경형', '특수차견인형대형', '화물차덤프형중형', '특수차구난형중형', '특수차구난형소형',\n",
       "       '특수차특수작업형대형', '화물차덤프형대형', '화물차탱크로리형대형', '화물차특수용도형경형', '특수차구난형대형',\n",
       "       '화물차탱크로리형중형', '승용차겸화물형대형', '승용차다목적형경형', '승합차특수형대형', '승용차기타형경형',\n",
       "       '승용차다목적형소형', '특수차견인형소형', '승합차일반형소형', '승용차겸화물형중형', '승용차기타형소형',\n",
       "       '특수차특수작업형경형', '승합차특수형소형', '특수차견인형중형', '승합차특수형경형', '화물차덤프형경형',\n",
       "       '화물차탱크로리형경형', '승용차겸화물형소형', '화물차밴형대형', '화물차탱크로리형소형', '특수차특수용도형대형',\n",
       "       '특수차특수용도형중형', '특수차특수용도형소형', '특수차특수용도형경형'], dtype=object)"
      ]
     },
     "execution_count": 20,
     "metadata": {},
     "output_type": "execute_result"
    }
   ],
   "source": [
    "dins['차종'].unique()"
   ]
  },
  {
   "cell_type": "code",
   "execution_count": null,
   "metadata": {},
   "outputs": [],
   "source": [
    "# '승용차일반형경형',\n",
    "# '승용차일반형소형',\n",
    "# '승용차일반형중형',\n",
    "# '승용차일반형대형',\n",
    "\n",
    "# '승용차겸화물형경형',\n",
    "# '승용차겸화물형소형',\n",
    "# '승용차겸화물형중형',\n",
    "# '승용차겸화물형대형',\n",
    "\n",
    "# '승용차다목적형경형',\n",
    "# '승용차다목적형소형',\n",
    "# '승용차다목적형중형',\n",
    "# '승용차다목적형대형',\n",
    "\n",
    "# '승용차기타형경형',\n",
    "# '승용차기타형소형',\n",
    "# '승용차기타형중형',\n",
    "# '승용차기타형대형',"
   ]
  },
  {
   "cell_type": "code",
   "execution_count": null,
   "metadata": {},
   "outputs": [],
   "source": [
    "# '승합차일반형경형',\n",
    "# '승합차일반형소형',\n",
    "# '승합차일반형중형',\n",
    "# '승합차일반형대형',\n",
    "\n",
    "# '승합차특수형경형',\n",
    "# '승합차특수형소형',\n",
    "# '승합차특수형중형',\n",
    "# '승합차특수형대형',"
   ]
  },
  {
   "cell_type": "code",
   "execution_count": null,
   "metadata": {},
   "outputs": [],
   "source": [
    "# '화물차일반형경형',\n",
    "# '화물차일반형소형',\n",
    "# '화물차일반형중형',\n",
    "# '화물차일반형대형',\n",
    "\n",
    "# '화물차밴형경형',\n",
    "# '화물차밴형소형',\n",
    "# '화물차밴형중형',\n",
    "# '화물차밴형대형',\n",
    "\n",
    "# '화물차덤프형경형',\n",
    "# '화물차덤프형소형',\n",
    "# '화물차덤프형중형',\n",
    "# '화물차덤프형대형',\n",
    "\n",
    "# '화물차탱크로리형경형',\n",
    "# '화물차탱크로리형소형',\n",
    "# '화물차탱크로리형중형',\n",
    "# '화물차탱크로리형대형',\n",
    "\n",
    "# '화물차피견인형저상형',\n",
    "# '화물차피견인형고상형',\n",
    "# '화물차피견인형샷시형',\n",
    "# '화물차피견인형적재함형',\n",
    "# '화물차피견인형기타형',\n",
    "\n",
    "# '화물차특수용도형경형',\n",
    "# '화물차특수용도형소형',\n",
    "# '화물차특수용도형중형',\n",
    "# '화물차특수용도형대형',"
   ]
  },
  {
   "cell_type": "code",
   "execution_count": null,
   "metadata": {},
   "outputs": [],
   "source": [
    "# '특수차특수작업형경형',\n",
    "# '특수차특수작업형소형',\n",
    "# '특수차특수작업형중형',\n",
    "# '특수차특수작업형대형',\n",
    "\n",
    "# '특수차구난형소형',\n",
    "# '특수차구난형중형',\n",
    "# '특수차구난형대형',\n",
    "\n",
    "# '특수차견인형소형',\n",
    "# '특수차견인형중형',\n",
    "# '특수차견인형대형',\n",
    "\n",
    "# '특수차특수용도형경형',\n",
    "# '특수차특수용도형소형',\n",
    "# '특수차특수용도형중형',\n",
    "# '특수차특수용도형대형',"
   ]
  },
  {
   "cell_type": "markdown",
   "metadata": {},
   "source": [
    "## 차량연식"
   ]
  },
  {
   "cell_type": "code",
   "execution_count": 21,
   "metadata": {},
   "outputs": [
    {
     "data": {
      "text/plain": [
       "0"
      ]
     },
     "execution_count": 21,
     "metadata": {},
     "output_type": "execute_result"
    }
   ],
   "source": [
    "dins['차량연식'].isnull().sum()"
   ]
  },
  {
   "cell_type": "code",
   "execution_count": 22,
   "metadata": {},
   "outputs": [
    {
     "data": {
      "text/plain": [
       "count   28682228.00\n",
       "mean        2011.18\n",
       "std            4.54\n",
       "min         1936.00\n",
       "25%         2008.00\n",
       "50%         2012.00\n",
       "75%         2015.00\n",
       "max         2022.00\n",
       "Name: 차량연식, dtype: float64"
      ]
     },
     "execution_count": 22,
     "metadata": {},
     "output_type": "execute_result"
    }
   ],
   "source": [
    "dins['차량연식'].describe()"
   ]
  },
  {
   "cell_type": "code",
   "execution_count": 23,
   "metadata": {},
   "outputs": [
    {
     "data": {
      "text/plain": [
       "0    2013\n",
       "1    2011\n",
       "2    2009\n",
       "3    2011\n",
       "4    2011\n",
       "Name: 차량연식, dtype: int64"
      ]
     },
     "execution_count": 23,
     "metadata": {},
     "output_type": "execute_result"
    }
   ],
   "source": [
    "dins['차량연식'].head()"
   ]
  },
  {
   "cell_type": "code",
   "execution_count": 24,
   "metadata": {},
   "outputs": [
    {
     "data": {
      "text/plain": [
       "0"
      ]
     },
     "execution_count": 24,
     "metadata": {},
     "output_type": "execute_result"
    }
   ],
   "source": [
    "count = 0\n",
    "for one in dins['차량연식']:\n",
    "    if len(str(one)) != 4:\n",
    "        count += 1\n",
    "count"
   ]
  },
  {
   "cell_type": "markdown",
   "metadata": {},
   "source": [
    "## 엔진형식"
   ]
  },
  {
   "cell_type": "code",
   "execution_count": 27,
   "metadata": {},
   "outputs": [
    {
     "data": {
      "text/plain": [
       "382"
      ]
     },
     "execution_count": 27,
     "metadata": {},
     "output_type": "execute_result"
    }
   ],
   "source": [
    "dins['엔진형식'].isnull().sum()"
   ]
  },
  {
   "cell_type": "code",
   "execution_count": 28,
   "metadata": {},
   "outputs": [
    {
     "data": {
      "text/html": [
       "<div>\n",
       "<style scoped>\n",
       "    .dataframe tbody tr th:only-of-type {\n",
       "        vertical-align: middle;\n",
       "    }\n",
       "\n",
       "    .dataframe tbody tr th {\n",
       "        vertical-align: top;\n",
       "    }\n",
       "\n",
       "    .dataframe thead th {\n",
       "        text-align: right;\n",
       "    }\n",
       "</style>\n",
       "<table border=\"1\" class=\"dataframe\">\n",
       "  <thead>\n",
       "    <tr style=\"text-align: right;\">\n",
       "      <th></th>\n",
       "      <th>엔진형식</th>\n",
       "      <th>차대번호</th>\n",
       "    </tr>\n",
       "  </thead>\n",
       "  <tbody>\n",
       "    <tr>\n",
       "      <th>152905</th>\n",
       "      <td>NaN</td>\n",
       "      <td>KN90J5MFDAHZ00006</td>\n",
       "    </tr>\n",
       "    <tr>\n",
       "      <th>310843</th>\n",
       "      <td>NaN</td>\n",
       "      <td>KLACM19F1JB044969</td>\n",
       "    </tr>\n",
       "    <tr>\n",
       "      <th>545422</th>\n",
       "      <td>NaN</td>\n",
       "      <td>KN3SAP8Y14K021785</td>\n",
       "    </tr>\n",
       "    <tr>\n",
       "      <th>646382</th>\n",
       "      <td>NaN</td>\n",
       "      <td>JTJHF10UX10187515</td>\n",
       "    </tr>\n",
       "    <tr>\n",
       "      <th>653870</th>\n",
       "      <td>NaN</td>\n",
       "      <td>KMHWF35V3YA287902</td>\n",
       "    </tr>\n",
       "  </tbody>\n",
       "</table>\n",
       "</div>"
      ],
      "text/plain": [
       "       엔진형식               차대번호\n",
       "152905  NaN  KN90J5MFDAHZ00006\n",
       "310843  NaN  KLACM19F1JB044969\n",
       "545422  NaN  KN3SAP8Y14K021785\n",
       "646382  NaN  JTJHF10UX10187515\n",
       "653870  NaN  KMHWF35V3YA287902"
      ]
     },
     "execution_count": 28,
     "metadata": {},
     "output_type": "execute_result"
    }
   ],
   "source": [
    "dins.loc[dins['엔진형식'].isnull() == True, ['엔진형식', '차대번호']].head()"
   ]
  },
  {
   "cell_type": "code",
   "execution_count": 29,
   "metadata": {},
   "outputs": [
    {
     "data": {
      "text/html": [
       "<div>\n",
       "<style scoped>\n",
       "    .dataframe tbody tr th:only-of-type {\n",
       "        vertical-align: middle;\n",
       "    }\n",
       "\n",
       "    .dataframe tbody tr th {\n",
       "        vertical-align: top;\n",
       "    }\n",
       "\n",
       "    .dataframe thead th {\n",
       "        text-align: right;\n",
       "    }\n",
       "</style>\n",
       "<table border=\"1\" class=\"dataframe\">\n",
       "  <thead>\n",
       "    <tr style=\"text-align: right;\">\n",
       "      <th></th>\n",
       "      <th>차대번호</th>\n",
       "      <th>제원관리번호</th>\n",
       "      <th>엔진형식</th>\n",
       "    </tr>\n",
       "  </thead>\n",
       "  <tbody>\n",
       "    <tr>\n",
       "      <th>8708926</th>\n",
       "      <td>KN90J5MFDAHZ00006</td>\n",
       "      <td>A0810005008583209</td>\n",
       "      <td>D4GA</td>\n",
       "    </tr>\n",
       "  </tbody>\n",
       "</table>\n",
       "</div>"
      ],
      "text/plain": [
       "                      차대번호             제원관리번호  엔진형식\n",
       "8708926  KN90J5MFDAHZ00006  A0810005008583209  D4GA"
      ]
     },
     "execution_count": 29,
     "metadata": {},
     "output_type": "execute_result"
    }
   ],
   "source": [
    "tdf.loc[tdf['차대번호'] == 'KN90J5MFDAHZ00006', ['차대번호', '제원관리번호', '엔진형식']]"
   ]
  },
  {
   "attachments": {},
   "cell_type": "markdown",
   "metadata": {},
   "source": [
    "## 정밀검사일자"
   ]
  },
  {
   "cell_type": "code",
   "execution_count": 27,
   "metadata": {},
   "outputs": [
    {
     "data": {
      "text/plain": [
       "Index(['사용연료', '주행거리', '차명', '차량번호', '차대번호', '차종', '차량연식', '엔진형식', '검사방법',\n",
       "       '검사일자', '검사종류', '검사판정시각', '검사판정', '산소값', '이산화탄소값', '무부하매연판정1',\n",
       "       '무부하매연판정2', '무부하매연판정3', '무부하매연판정4', '무부하매연판정5', '무부하매연판정6', '무부하매연허용치1',\n",
       "       '무부하매연허용치2', '무부하매연허용치3', '무부하매연허용치4', '무부하매연허용치5', '무부하매연허용치6',\n",
       "       '무부하매연측정치1', '무부하매연측정치2', '무부하매연측정치3', '무부하매연측정치4', '무부하매연측정치5',\n",
       "       '무부하매연측정치6', '차량용도', '최대출력허용치', '최대출력측정값', '검사접수번호', '검사소명', '재검사기간',\n",
       "       '검사 검사소코드', '검사유효기간'],\n",
       "      dtype='object')"
      ]
     },
     "execution_count": 27,
     "metadata": {},
     "output_type": "execute_result"
    }
   ],
   "source": [
    "dins.columns"
   ]
  },
  {
   "cell_type": "code",
   "execution_count": 28,
   "metadata": {},
   "outputs": [
    {
     "data": {
      "text/plain": [
       "0"
      ]
     },
     "execution_count": 28,
     "metadata": {},
     "output_type": "execute_result"
    }
   ],
   "source": [
    "dins['검사일자'].isnull().sum()"
   ]
  },
  {
   "cell_type": "code",
   "execution_count": 29,
   "metadata": {},
   "outputs": [
    {
     "data": {
      "text/plain": [
       "array([20190102, 20190103, 20190104, ..., 20230105, 20230106, 20230107],\n",
       "      dtype=int64)"
      ]
     },
     "execution_count": 29,
     "metadata": {},
     "output_type": "execute_result"
    }
   ],
   "source": [
    "dins['검사일자'].unique()"
   ]
  },
  {
   "cell_type": "code",
   "execution_count": 30,
   "metadata": {},
   "outputs": [
    {
     "data": {
      "text/plain": [
       "0"
      ]
     },
     "execution_count": 30,
     "metadata": {},
     "output_type": "execute_result"
    }
   ],
   "source": [
    "count = 0\n",
    "for one in dins['검사일자']:\n",
    "    if len(str(one)) != 8:\n",
    "        count += 1\n",
    "count"
   ]
  },
  {
   "attachments": {},
   "cell_type": "markdown",
   "metadata": {},
   "source": [
    "## 정밀검사측정방법"
   ]
  },
  {
   "cell_type": "code",
   "execution_count": 31,
   "metadata": {},
   "outputs": [
    {
     "data": {
      "text/plain": [
       "0"
      ]
     },
     "execution_count": 31,
     "metadata": {},
     "output_type": "execute_result"
    }
   ],
   "source": [
    "dins['검사방법'].isnull().sum()"
   ]
  },
  {
   "cell_type": "code",
   "execution_count": 144,
   "metadata": {},
   "outputs": [
    {
     "data": {
      "text/plain": [
       "array(['부하검사(KD-147)', '부하검사(ASM-Idling)', '무부하검사(급가속)', '부하검사(LUG DOWN)',\n",
       "       '무부하검사(TSI)', '무부하검사(정지가동)', '부하검사(ASM2525)'], dtype=object)"
      ]
     },
     "execution_count": 144,
     "metadata": {},
     "output_type": "execute_result"
    }
   ],
   "source": [
    "dins['검사방법'].unique()"
   ]
  },
  {
   "attachments": {},
   "cell_type": "markdown",
   "metadata": {},
   "source": [
    "## 정밀검사종류"
   ]
  },
  {
   "cell_type": "code",
   "execution_count": 33,
   "metadata": {},
   "outputs": [
    {
     "data": {
      "text/plain": [
       "0"
      ]
     },
     "execution_count": 33,
     "metadata": {},
     "output_type": "execute_result"
    }
   ],
   "source": [
    "dins['검사종류'].isnull().sum()"
   ]
  },
  {
   "cell_type": "code",
   "execution_count": 34,
   "metadata": {},
   "outputs": [
    {
     "data": {
      "text/plain": [
       "array(['종합검사', '2부재검사(종합)', '종합검사(경과)', '1부재검사(종합)'], dtype=object)"
      ]
     },
     "execution_count": 34,
     "metadata": {},
     "output_type": "execute_result"
    }
   ],
   "source": [
    "dins['검사종류'].unique()"
   ]
  },
  {
   "attachments": {},
   "cell_type": "markdown",
   "metadata": {},
   "source": [
    "# 19\\. 저감장치 부착AS"
   ]
  },
  {
   "cell_type": "code",
   "execution_count": 63,
   "metadata": {},
   "outputs": [
    {
     "name": "stdout",
     "output_type": "stream",
     "text": [
      "<class 'pandas.core.frame.DataFrame'>\n",
      "RangeIndex: 20838 entries, 0 to 20837\n",
      "Data columns (total 16 columns):\n",
      " #   Column           Non-Null Count  Dtype  \n",
      "---  ------           --------------  -----  \n",
      " 0   ERP_REG_NO       20838 non-null  int64  \n",
      " 1   AS_DATE          20838 non-null  int64  \n",
      " 2   AS_CONT          20838 non-null  object \n",
      " 3   AS_REASON        20461 non-null  object \n",
      " 4   AS_MONEY         20838 non-null  int64  \n",
      " 5   AS_MONEY_METHOD  19037 non-null  object \n",
      " 6   CAR_REG_NO       20838 non-null  object \n",
      " 7   CAR_SER_NO       20833 non-null  object \n",
      " 8   ATT_DATE         19454 non-null  float64\n",
      " 9   MAKER_ORG_CD     20838 non-null  object \n",
      " 10  CONF_CHG_DATE    7960 non-null   float64\n",
      " 11  ETC_CONT1        20838 non-null  int64  \n",
      " 12  ETC_CONT2        0 non-null      float64\n",
      " 13  ETC_CONT3        0 non-null      float64\n",
      " 14  REC_DATE         0 non-null      float64\n",
      " 15  REC_NM           0 non-null      float64\n",
      "dtypes: float64(6), int64(4), object(6)\n",
      "memory usage: 2.5+ MB\n"
     ]
    }
   ],
   "source": [
    "name = 'TB_ERP_ATT_AS'\n",
    "file_name = f'ODS_{name}.csv'\n",
    "att_as = pd.read_csv(os.path.join(ods_fold, file_name), low_memory=False)\n",
    "att_as.info()"
   ]
  },
  {
   "cell_type": "code",
   "execution_count": 64,
   "metadata": {},
   "outputs": [
    {
     "data": {
      "text/plain": [
       "Index(['저감등록번호', 'AS 일자', 'AS 횟수', 'AS 사유', '미정', '미정', '미정', '차대번호', '미정',\n",
       "       '미정', '미정', '미정', '미정', '미정', '미정', '미정'],\n",
       "      dtype='object')"
      ]
     },
     "execution_count": 64,
     "metadata": {},
     "output_type": "execute_result"
    }
   ],
   "source": [
    "file_name = f'[정제]{name}.xlsx'\n",
    "col_df = pd.read_excel(os.path.join(col_fold, file_name), sheet_name='ODS_col')\n",
    "col_dict = {a:b for a,b in col_df[['컬럼', '내용']].values}\n",
    "att_as.columns = [col_dict[x] for x in att_as.columns]\n",
    "att_as.columns"
   ]
  },
  {
   "cell_type": "code",
   "execution_count": 65,
   "metadata": {},
   "outputs": [],
   "source": [
    "att_as1 = att_as[['저감등록번호', 'AS 일자', 'AS 횟수', 'AS 사유', '차대번호']]"
   ]
  },
  {
   "cell_type": "code",
   "execution_count": 66,
   "metadata": {},
   "outputs": [
    {
     "data": {
      "text/plain": [
       "저감등록번호      0\n",
       "AS 일자       0\n",
       "AS 횟수       0\n",
       "AS 사유     377\n",
       "차대번호        5\n",
       "dtype: int64"
      ]
     },
     "execution_count": 66,
     "metadata": {},
     "output_type": "execute_result"
    }
   ],
   "source": [
    "att_as1.isnull().sum()"
   ]
  },
  {
   "cell_type": "code",
   "execution_count": 67,
   "metadata": {},
   "outputs": [
    {
     "data": {
      "text/html": [
       "<div>\n",
       "<style scoped>\n",
       "    .dataframe tbody tr th:only-of-type {\n",
       "        vertical-align: middle;\n",
       "    }\n",
       "\n",
       "    .dataframe tbody tr th {\n",
       "        vertical-align: top;\n",
       "    }\n",
       "\n",
       "    .dataframe thead th {\n",
       "        text-align: right;\n",
       "    }\n",
       "</style>\n",
       "<table border=\"1\" class=\"dataframe\">\n",
       "  <thead>\n",
       "    <tr style=\"text-align: right;\">\n",
       "      <th></th>\n",
       "      <th>컬럼명</th>\n",
       "      <th>내용</th>\n",
       "      <th>결측 값</th>\n",
       "    </tr>\n",
       "  </thead>\n",
       "  <tbody>\n",
       "    <tr>\n",
       "      <th>0</th>\n",
       "      <td>CAR_SER_NO</td>\n",
       "      <td>차대번호</td>\n",
       "      <td>5.00</td>\n",
       "    </tr>\n",
       "    <tr>\n",
       "      <th>1</th>\n",
       "      <td>ERP_REG_NO</td>\n",
       "      <td>저감등록번호</td>\n",
       "      <td>0.00</td>\n",
       "    </tr>\n",
       "    <tr>\n",
       "      <th>2</th>\n",
       "      <td>AS_REASON</td>\n",
       "      <td>AS 사유</td>\n",
       "      <td>377.00</td>\n",
       "    </tr>\n",
       "    <tr>\n",
       "      <th>3</th>\n",
       "      <td>AS_DATE</td>\n",
       "      <td>AS 일자</td>\n",
       "      <td>0.00</td>\n",
       "    </tr>\n",
       "    <tr>\n",
       "      <th>4</th>\n",
       "      <td>AS_CONT</td>\n",
       "      <td>AS 횟수</td>\n",
       "      <td>0.00</td>\n",
       "    </tr>\n",
       "    <tr>\n",
       "      <th>5</th>\n",
       "      <td>AS_MONEY</td>\n",
       "      <td>미정</td>\n",
       "      <td>NaN</td>\n",
       "    </tr>\n",
       "    <tr>\n",
       "      <th>6</th>\n",
       "      <td>AS_MONEY_METHOD</td>\n",
       "      <td>미정</td>\n",
       "      <td>NaN</td>\n",
       "    </tr>\n",
       "    <tr>\n",
       "      <th>7</th>\n",
       "      <td>CAR_REG_NO</td>\n",
       "      <td>미정</td>\n",
       "      <td>NaN</td>\n",
       "    </tr>\n",
       "    <tr>\n",
       "      <th>8</th>\n",
       "      <td>ATT_DATE</td>\n",
       "      <td>미정</td>\n",
       "      <td>NaN</td>\n",
       "    </tr>\n",
       "    <tr>\n",
       "      <th>9</th>\n",
       "      <td>MAKER_ORG_CD</td>\n",
       "      <td>미정</td>\n",
       "      <td>NaN</td>\n",
       "    </tr>\n",
       "    <tr>\n",
       "      <th>10</th>\n",
       "      <td>CONF_CHG_DATE</td>\n",
       "      <td>미정</td>\n",
       "      <td>NaN</td>\n",
       "    </tr>\n",
       "    <tr>\n",
       "      <th>11</th>\n",
       "      <td>ETC_CONT1</td>\n",
       "      <td>미정</td>\n",
       "      <td>NaN</td>\n",
       "    </tr>\n",
       "    <tr>\n",
       "      <th>12</th>\n",
       "      <td>ETC_CONT2</td>\n",
       "      <td>미정</td>\n",
       "      <td>NaN</td>\n",
       "    </tr>\n",
       "    <tr>\n",
       "      <th>13</th>\n",
       "      <td>ETC_CONT3</td>\n",
       "      <td>미정</td>\n",
       "      <td>NaN</td>\n",
       "    </tr>\n",
       "    <tr>\n",
       "      <th>14</th>\n",
       "      <td>REC_DATE</td>\n",
       "      <td>미정</td>\n",
       "      <td>NaN</td>\n",
       "    </tr>\n",
       "    <tr>\n",
       "      <th>15</th>\n",
       "      <td>REC_NM</td>\n",
       "      <td>미정</td>\n",
       "      <td>NaN</td>\n",
       "    </tr>\n",
       "  </tbody>\n",
       "</table>\n",
       "</div>"
      ],
      "text/plain": [
       "                컬럼명      내용   결측 값\n",
       "0        CAR_SER_NO    차대번호   5.00\n",
       "1        ERP_REG_NO  저감등록번호   0.00\n",
       "2         AS_REASON   AS 사유 377.00\n",
       "3           AS_DATE   AS 일자   0.00\n",
       "4           AS_CONT   AS 횟수   0.00\n",
       "5          AS_MONEY      미정    NaN\n",
       "6   AS_MONEY_METHOD      미정    NaN\n",
       "7        CAR_REG_NO      미정    NaN\n",
       "8          ATT_DATE      미정    NaN\n",
       "9      MAKER_ORG_CD      미정    NaN\n",
       "10    CONF_CHG_DATE      미정    NaN\n",
       "11        ETC_CONT1      미정    NaN\n",
       "12        ETC_CONT2      미정    NaN\n",
       "13        ETC_CONT3      미정    NaN\n",
       "14         REC_DATE      미정    NaN\n",
       "15           REC_NM      미정    NaN"
      ]
     },
     "execution_count": 67,
     "metadata": {},
     "output_type": "execute_result"
    }
   ],
   "source": [
    "col = pd.DataFrame(col_dict, index=['내용']).T.reset_index()\n",
    "col.columns = ['컬럼명', '내용']\n",
    "nul = att_as1.isnull().sum().reset_index()\n",
    "nul.columns = ['내용', '결측 값']\n",
    "col2 = col.merge(nul, on='내용', how='left')\n",
    "col2"
   ]
  },
  {
   "attachments": {},
   "cell_type": "markdown",
   "metadata": {},
   "source": [
    "# 20\\. 저감장치 부착이력"
   ]
  },
  {
   "cell_type": "code",
   "execution_count": 93,
   "metadata": {},
   "outputs": [
    {
     "name": "stdout",
     "output_type": "stream",
     "text": [
      "<class 'pandas.core.frame.DataFrame'>\n",
      "RangeIndex: 810777 entries, 0 to 810776\n",
      "Columns: 103 entries, ERP_REG_NO to THREE_WAY_CATALYST_RETURN_YN\n",
      "dtypes: float64(32), int64(3), object(68)\n",
      "memory usage: 637.1+ MB\n"
     ]
    }
   ],
   "source": [
    "# about 17s\n",
    "name = 'TB_ERP_ATT_HIS'\n",
    "file_name = f'ODS_{name}.csv'\n",
    "att = pd.read_csv(os.path.join(ods_fold, file_name), low_memory=False)\n",
    "att.info()"
   ]
  },
  {
   "cell_type": "code",
   "execution_count": 94,
   "metadata": {},
   "outputs": [
    {
     "data": {
      "text/plain": [
       "Index(['저감등록번호', '미정', '미정', '차량번호', '미정', '차대번호', '미정', '미정', '미정', '미정',\n",
       "       ...\n",
       "       '미정', '미정', '미정', '미정', '미정', '미정', '미정', '미정', '미정', '삼원촉매장치반납여부'],\n",
       "      dtype='object', length=103)"
      ]
     },
     "execution_count": 94,
     "metadata": {},
     "output_type": "execute_result"
    }
   ],
   "source": [
    "file_name = f'[정제]{name}.xlsx'\n",
    "col_df = pd.read_excel(os.path.join(col_fold, file_name), sheet_name='ODS_col')\n",
    "col_dict = {a:b for a,b in col_df[['컬럼', '내용']].values}\n",
    "att.columns = [col_dict[x] for x in att.columns]\n",
    "att.columns"
   ]
  },
  {
   "cell_type": "code",
   "execution_count": 95,
   "metadata": {},
   "outputs": [],
   "source": [
    "att = att[['저감장치종류', '차량번호', '차대번호', '저감장치구분']]"
   ]
  },
  {
   "cell_type": "code",
   "execution_count": 96,
   "metadata": {},
   "outputs": [
    {
     "data": {
      "text/plain": [
       "저감장치종류    223879\n",
       "차량번호           0\n",
       "차대번호           0\n",
       "저감장치구분         0\n",
       "dtype: int64"
      ]
     },
     "execution_count": 96,
     "metadata": {},
     "output_type": "execute_result"
    }
   ],
   "source": [
    "att.isnull().sum()"
   ]
  },
  {
   "attachments": {},
   "cell_type": "markdown",
   "metadata": {},
   "source": [
    "## 저감장치종류"
   ]
  },
  {
   "cell_type": "code",
   "execution_count": 97,
   "metadata": {},
   "outputs": [
    {
     "data": {
      "text/plain": [
       "array([nan, 'DOC', '자연대형', '자연중형', '복합중형', 'pDPF', '복합대형', '중형', '복합소형',\n",
       "       '소형', '자연대형+SCR', '대형'], dtype=object)"
      ]
     },
     "execution_count": 97,
     "metadata": {},
     "output_type": "execute_result"
    }
   ],
   "source": [
    "att['저감장치종류'].unique()"
   ]
  },
  {
   "attachments": {},
   "cell_type": "markdown",
   "metadata": {},
   "source": [
    "## 차량번호"
   ]
  },
  {
   "cell_type": "code",
   "execution_count": 98,
   "metadata": {},
   "outputs": [
    {
     "data": {
      "text/plain": [
       "array(['경기81라6983', '서울83고6732', '인천83가2144', ..., '52구6335', '02모2923',\n",
       "       '28주7293'], dtype=object)"
      ]
     },
     "execution_count": 98,
     "metadata": {},
     "output_type": "execute_result"
    }
   ],
   "source": [
    "att['차량번호'].unique()"
   ]
  },
  {
   "cell_type": "code",
   "execution_count": 99,
   "metadata": {},
   "outputs": [
    {
     "name": "stderr",
     "output_type": "stream",
     "text": [
      "100%|██████████| 810777/810777 [00:00<00:00, 887545.84it/s]\n"
     ]
    },
    {
     "data": {
      "text/plain": [
       "178"
      ]
     },
     "execution_count": 99,
     "metadata": {},
     "output_type": "execute_result"
    }
   ],
   "source": [
    "p1 = re.compile('[가-힣]{2}[0-9]{1,2}[가-힣]{1}[0-9]{4}')\n",
    "p2 = re.compile('[0-9]{2,3}[가-힣]{1}[0-9]{4}')\n",
    "wrong_vhrno_list = []\n",
    "for one in tqdm(att['차량번호']):\n",
    "    if not p1.search(str(one)) and not p2.search(str(one)):\n",
    "        wrong_vhrno_list.append(one)\n",
    "len(wrong_vhrno_list)"
   ]
  },
  {
   "cell_type": "code",
   "execution_count": 100,
   "metadata": {},
   "outputs": [
    {
     "data": {
      "text/plain": [
       "['28-4221', '14-1887', '경기사4859', '서울04-9105', '서울15-8916']"
      ]
     },
     "execution_count": 100,
     "metadata": {},
     "output_type": "execute_result"
    }
   ],
   "source": [
    "wrong_vhrno_list[:5]"
   ]
  },
  {
   "cell_type": "code",
   "execution_count": 101,
   "metadata": {},
   "outputs": [
    {
     "data": {
      "text/plain": [
       "['제주04-1524', '강원04-3821', '강원04-4056', '제주04-1350', '제주04-2467']"
      ]
     },
     "execution_count": 101,
     "metadata": {},
     "output_type": "execute_result"
    }
   ],
   "source": [
    "wrong_vhrno_list[-5:]"
   ]
  },
  {
   "attachments": {},
   "cell_type": "markdown",
   "metadata": {},
   "source": [
    "## 차대번호"
   ]
  },
  {
   "cell_type": "code",
   "execution_count": 102,
   "metadata": {},
   "outputs": [
    {
     "data": {
      "text/plain": [
       "{1, 2, 3, 4, 5, 6, 7, 8, 9, 10, 11, 12, 13, 14, 15, 16, 17, 18, 19, 20}"
      ]
     },
     "execution_count": 102,
     "metadata": {},
     "output_type": "execute_result"
    }
   ],
   "source": [
    "vin_temp = att['차대번호'].str.len()\n",
    "set(vin_temp.unique())"
   ]
  },
  {
   "cell_type": "code",
   "execution_count": 104,
   "metadata": {},
   "outputs": [
    {
     "name": "stdout",
     "output_type": "stream",
     "text": [
      "차대번호 길이 : 1\n",
      "(4,)\n"
     ]
    },
    {
     "data": {
      "text/plain": [
       "431711    0\n",
       "431713    0\n",
       "431714    0\n",
       "431715    0\n",
       "Name: 차대번호, dtype: object"
      ]
     },
     "metadata": {},
     "output_type": "display_data"
    },
    {
     "name": "stdout",
     "output_type": "stream",
     "text": [
      "\n",
      "차대번호 길이 : 2\n",
      "(1,)\n"
     ]
    },
    {
     "data": {
      "text/plain": [
       "701124    78\n",
       "Name: 차대번호, dtype: object"
      ]
     },
     "metadata": {},
     "output_type": "display_data"
    },
    {
     "name": "stdout",
     "output_type": "stream",
     "text": [
      "\n",
      "차대번호 길이 : 3\n",
      "(3,)\n"
     ]
    },
    {
     "data": {
      "text/plain": [
       "774028    534\n",
       "785768    675\n",
       "791828    138\n",
       "Name: 차대번호, dtype: object"
      ]
     },
     "metadata": {},
     "output_type": "display_data"
    },
    {
     "name": "stdout",
     "output_type": "stream",
     "text": [
      "\n",
      "차대번호 길이 : 4\n",
      "(23,)\n"
     ]
    },
    {
     "data": {
      "text/plain": [
       "671607    0549\n",
       "671798    0072\n",
       "676660    0220\n",
       "681477    5836\n",
       "682817    0841\n",
       "Name: 차대번호, dtype: object"
      ]
     },
     "metadata": {},
     "output_type": "display_data"
    },
    {
     "name": "stdout",
     "output_type": "stream",
     "text": [
      "\n",
      "차대번호 길이 : 5\n",
      "(25,)\n"
     ]
    },
    {
     "data": {
      "text/plain": [
       "677751    00036\n",
       "685815    02077\n",
       "692454    02709\n",
       "701548    01472\n",
       "703096    01233\n",
       "Name: 차대번호, dtype: object"
      ]
     },
     "metadata": {},
     "output_type": "display_data"
    },
    {
     "name": "stdout",
     "output_type": "stream",
     "text": [
      "\n",
      "차대번호 길이 : 6\n",
      "(54,)\n"
     ]
    },
    {
     "data": {
      "text/plain": [
       "672593    D25S-3\n",
       "678658    006633\n",
       "679974    113846\n",
       "683014    102214\n",
       "683064    100147\n",
       "Name: 차대번호, dtype: object"
      ]
     },
     "metadata": {},
     "output_type": "display_data"
    },
    {
     "name": "stdout",
     "output_type": "stream",
     "text": [
      "\n",
      "차대번호 길이 : 7\n",
      "(212,)\n"
     ]
    },
    {
     "data": {
      "text/plain": [
       "668415    5821639\n",
       "677407    AFY2329\n",
       "677987    DCP-55Z\n",
       "678373    AFY0537\n",
       "678550    AFY2333\n",
       "Name: 차대번호, dtype: object"
      ]
     },
     "metadata": {},
     "output_type": "display_data"
    },
    {
     "name": "stdout",
     "output_type": "stream",
     "text": [
      "\n",
      "차대번호 길이 : 8\n",
      "(1533,)\n"
     ]
    },
    {
     "data": {
      "text/plain": [
       "667419    7MK01416\n",
       "667476    7MK00947\n",
       "667505    8PF00860\n",
       "667508    7MK01992\n",
       "667561    7LK01495\n",
       "Name: 차대번호, dtype: object"
      ]
     },
     "metadata": {},
     "output_type": "display_data"
    },
    {
     "name": "stdout",
     "output_type": "stream",
     "text": [
      "\n",
      "차대번호 길이 : 9\n",
      "(1276,)\n"
     ]
    },
    {
     "data": {
      "text/plain": [
       "667652    경기04도4798\n",
       "667787    D50S01499\n",
       "667788    D70S02053\n",
       "667851    D50S00860\n",
       "668158    D70S01276\n",
       "Name: 차대번호, dtype: object"
      ]
     },
     "metadata": {},
     "output_type": "display_data"
    },
    {
     "name": "stdout",
     "output_type": "stream",
     "text": [
      "\n",
      "차대번호 길이 : 10\n",
      "(2751,)\n"
     ]
    },
    {
     "data": {
      "text/plain": [
       "430057    KM948-ACS2\n",
       "579089    KMYKR17DPW\n",
       "667383    D25S3-4763\n",
       "667384    D20S3-1050\n",
       "667394    D70S-00463\n",
       "Name: 차대번호, dtype: object"
      ]
     },
     "metadata": {},
     "output_type": "display_data"
    },
    {
     "name": "stdout",
     "output_type": "stream",
     "text": [
      "\n",
      "차대번호 길이 : 11\n",
      "(988,)\n"
     ]
    },
    {
     "data": {
      "text/plain": [
       "55362     03804201933\n",
       "181838    01901200126\n",
       "667563    D35S-201357\n",
       "667838    D45S-200763\n",
       "668009    EC55BY31752\n",
       "Name: 차대번호, dtype: object"
      ]
     },
     "metadata": {},
     "output_type": "display_data"
    },
    {
     "name": "stdout",
     "output_type": "stream",
     "text": [
      "\n",
      "차대번호 길이 : 12\n",
      "(2859,)\n"
     ]
    },
    {
     "data": {
      "text/plain": [
       "0      410031134778\n",
       "337    440234211947\n",
       "721    440134211203\n",
       "722    440234212017\n",
       "789    440134211256\n",
       "Name: 차대번호, dtype: object"
      ]
     },
     "metadata": {},
     "output_type": "display_data"
    },
    {
     "name": "stdout",
     "output_type": "stream",
     "text": [
      "\n",
      "차대번호 길이 : 13\n",
      "(197,)\n"
     ]
    },
    {
     "data": {
      "text/plain": [
       "26297    410234338157의\n",
       "26620    289942206555인\n",
       "35365    419921235615수\n",
       "77845    439934303858하\n",
       "77848    410034331936하\n",
       "Name: 차대번호, dtype: object"
      ]
     },
     "metadata": {},
     "output_type": "display_data"
    },
    {
     "name": "stdout",
     "output_type": "stream",
     "text": [
      "\n",
      "차대번호 길이 : 14\n",
      "(441,)\n"
     ]
    },
    {
     "data": {
      "text/plain": [
       "2367      서울85다4595-9999\n",
       "130691    119134310174대서\n",
       "650410    KPNAG5SA000035\n",
       "668813    FA20DT70100071\n",
       "668897    SL55-VGP-31202\n",
       "Name: 차대번호, dtype: object"
      ]
     },
     "metadata": {},
     "output_type": "display_data"
    },
    {
     "name": "stdout",
     "output_type": "stream",
     "text": [
      "\n",
      "차대번호 길이 : 15\n",
      "(310,)\n"
     ]
    },
    {
     "data": {
      "text/plain": [
       "372     44-99-342-94761\n",
       "450     44-99-342-94760\n",
       "650     44-99-342-94759\n",
       "1019    41-00-441-32723\n",
       "1096    29-97-441-01268\n",
       "Name: 차대번호, dtype: object"
      ]
     },
     "metadata": {},
     "output_type": "display_data"
    },
    {
     "name": "stdout",
     "output_type": "stream",
     "text": [
      "\n",
      "차대번호 길이 : 16\n",
      "(541,)\n"
     ]
    },
    {
     "data": {
      "text/plain": [
       "26622     41-02-343-36552의\n",
       "32044     KNCS0323XS457044\n",
       "73412     11-95-331-25702라\n",
       "77846     KN3SA8Y21K013748\n",
       "129874    KNCSD112YS478021\n",
       "Name: 차대번호, dtype: object"
      ]
     },
     "metadata": {},
     "output_type": "display_data"
    },
    {
     "name": "stdout",
     "output_type": "stream",
     "text": [
      "\n",
      "차대번호 길이 : 17\n",
      "(799419,)\n"
     ]
    },
    {
     "data": {
      "text/plain": [
       "1    KN3HDP3362K807243\n",
       "2    KMCGB17FPVC120970\n",
       "3    KMFXKD7BP2U583397\n",
       "4    KMFXKS7BP2U560254\n",
       "5    KMFXKD7BP1U546347\n",
       "Name: 차대번호, dtype: object"
      ]
     },
     "metadata": {},
     "output_type": "display_data"
    },
    {
     "name": "stdout",
     "output_type": "stream",
     "text": [
      "\n",
      "차대번호 길이 : 18\n",
      "(26,)\n"
     ]
    },
    {
     "data": {
      "text/plain": [
       "373705    KN3HAP53SE1K767295\n",
       "388186    KMJFD337BPXU447650\n",
       "390180    KMJWWH7BBPXU150080\n",
       "391258    KN2DPM531XK003234S\n",
       "392282    KMJWWH7BPVU0037049\n",
       "Name: 차대번호, dtype: object"
      ]
     },
     "metadata": {},
     "output_type": "display_data"
    },
    {
     "name": "stdout",
     "output_type": "stream",
     "text": [
      "\n",
      "차대번호 길이 : 19\n",
      "(109,)\n"
     ]
    },
    {
     "data": {
      "text/plain": [
       "438213    KMJFD3737BPYU462313\n",
       "763682    CMP450D-1067-6877KF\n",
       "763734    CMP570D-0651-6882KF\n",
       "764362    CMP230D-2817-6874KF\n",
       "764958    CMP230D-4244-6874KF\n",
       "Name: 차대번호, dtype: object"
      ]
     },
     "metadata": {},
     "output_type": "display_data"
    },
    {
     "name": "stdout",
     "output_type": "stream",
     "text": [
      "\n",
      "차대번호 길이 : 20\n",
      "(5,)\n"
     ]
    },
    {
     "data": {
      "text/plain": [
       "774983    FX70D-FA50DT60400022\n",
       "776283    PF3DPAHLTHFRHDDPDF13\n",
       "791827    CMMP230D-1182-6874KF\n",
       "798169    FX50D-FA50DT60400025\n",
       "798481    FX70D-FA50T-60900014\n",
       "Name: 차대번호, dtype: object"
      ]
     },
     "metadata": {},
     "output_type": "display_data"
    },
    {
     "name": "stdout",
     "output_type": "stream",
     "text": [
      "\n"
     ]
    },
    {
     "data": {
      "text/plain": [
       "810777"
      ]
     },
     "execution_count": 104,
     "metadata": {},
     "output_type": "execute_result"
    }
   ],
   "source": [
    "count = 0\n",
    "for one in set(vin_temp.unique()):\n",
    "    temp = att.loc[att['차대번호'].str.len() == one, '차대번호']\n",
    "    count += temp.shape[0]\n",
    "    print(f'차대번호 길이 : {one}')\n",
    "    print(temp.shape)\n",
    "    display(temp.head())\n",
    "    print()\n",
    "count"
   ]
  },
  {
   "cell_type": "code",
   "execution_count": 105,
   "metadata": {},
   "outputs": [
    {
     "data": {
      "text/plain": [
       "0"
      ]
     },
     "execution_count": 105,
     "metadata": {},
     "output_type": "execute_result"
    }
   ],
   "source": [
    "len_17_wrong_text_idx = []\n",
    "p = re.compile('[ㄱ-ㅎ|ㅏ-ㅣ|가-힣]')\n",
    "for i, one in enumerate(att['차대번호']):\n",
    "    if len(str(one)) == 17 and p.search(str(one)):\n",
    "        len_17_wrong_text_idx.append(i)\n",
    "len(len_17_wrong_text_idx)"
   ]
  },
  {
   "cell_type": "code",
   "execution_count": 106,
   "metadata": {},
   "outputs": [
    {
     "data": {
      "text/plain": [
       "Series([], Name: 차대번호, dtype: object)"
      ]
     },
     "execution_count": 106,
     "metadata": {},
     "output_type": "execute_result"
    }
   ],
   "source": [
    "att.loc[len_17_wrong_text_idx, '차대번호'].head()"
   ]
  },
  {
   "attachments": {},
   "cell_type": "markdown",
   "metadata": {},
   "source": [
    "## 저감장치구분"
   ]
  },
  {
   "cell_type": "code",
   "execution_count": 107,
   "metadata": {},
   "outputs": [
    {
     "data": {
      "text/plain": [
       "array(['엔진개조', '3종', '1종', '2종', '1종+SCR', '엔진교체', '삼원촉매'], dtype=object)"
      ]
     },
     "execution_count": 107,
     "metadata": {},
     "output_type": "execute_result"
    }
   ],
   "source": [
    "att['저감장치구분'].unique()"
   ]
  },
  {
   "attachments": {},
   "cell_type": "markdown",
   "metadata": {},
   "source": [
    "# 21\\. 요소수 정보"
   ]
  },
  {
   "cell_type": "code",
   "execution_count": 68,
   "metadata": {},
   "outputs": [
    {
     "name": "stdout",
     "output_type": "stream",
     "text": [
      "<class 'pandas.core.frame.DataFrame'>\n",
      "RangeIndex: 80 entries, 0 to 79\n",
      "Data columns (total 7 columns):\n",
      " #   Column        Non-Null Count  Dtype \n",
      "---  ------        --------------  ----- \n",
      " 0   ERP_REG_NO    80 non-null     int64 \n",
      " 1   CAR_REG_NO    80 non-null     object\n",
      " 2   CAR_SER_NO    80 non-null     object\n",
      " 3   REC_DATE      80 non-null     int64 \n",
      " 4   REC_NM        80 non-null     object\n",
      " 5   LAS_CHG_DATE  80 non-null     object\n",
      " 6   LAS_CHG_NM    80 non-null     object\n",
      "dtypes: int64(2), object(5)\n",
      "memory usage: 4.5+ KB\n"
     ]
    }
   ],
   "source": [
    "name = 'TB_ERP_UREAWATER'\n",
    "file_name = f'ODS_{name}.csv'\n",
    "ureawater = pd.read_csv(os.path.join(ods_fold, file_name), low_memory=False)\n",
    "ureawater.info()"
   ]
  },
  {
   "cell_type": "code",
   "execution_count": 69,
   "metadata": {},
   "outputs": [
    {
     "data": {
      "text/plain": [
       "Index(['저감등록번호', '차량번호', '차대번호', '미정', '미정', '미정', '미정'], dtype='object')"
      ]
     },
     "execution_count": 69,
     "metadata": {},
     "output_type": "execute_result"
    }
   ],
   "source": [
    "file_name = f'[정제]{name}.xlsx'\n",
    "col_df = pd.read_excel(os.path.join(col_fold, file_name), sheet_name='ODS_col')\n",
    "col_dict = {a:b for a,b in col_df[['컬럼', '내용']].values}\n",
    "ureawater.columns = [col_dict[x] for x in ureawater.columns]\n",
    "ureawater.columns"
   ]
  },
  {
   "cell_type": "code",
   "execution_count": 70,
   "metadata": {},
   "outputs": [],
   "source": [
    "ureawater1 = ureawater[['저감등록번호', '차량번호', '차대번호']]"
   ]
  },
  {
   "cell_type": "code",
   "execution_count": 71,
   "metadata": {},
   "outputs": [
    {
     "data": {
      "text/plain": [
       "저감등록번호    0\n",
       "차량번호      0\n",
       "차대번호      0\n",
       "dtype: int64"
      ]
     },
     "execution_count": 71,
     "metadata": {},
     "output_type": "execute_result"
    }
   ],
   "source": [
    "ureawater1.isnull().sum()"
   ]
  },
  {
   "cell_type": "code",
   "execution_count": 72,
   "metadata": {},
   "outputs": [
    {
     "data": {
      "text/html": [
       "<div>\n",
       "<style scoped>\n",
       "    .dataframe tbody tr th:only-of-type {\n",
       "        vertical-align: middle;\n",
       "    }\n",
       "\n",
       "    .dataframe tbody tr th {\n",
       "        vertical-align: top;\n",
       "    }\n",
       "\n",
       "    .dataframe thead th {\n",
       "        text-align: right;\n",
       "    }\n",
       "</style>\n",
       "<table border=\"1\" class=\"dataframe\">\n",
       "  <thead>\n",
       "    <tr style=\"text-align: right;\">\n",
       "      <th></th>\n",
       "      <th>컬럼명</th>\n",
       "      <th>내용</th>\n",
       "      <th>결측 값</th>\n",
       "    </tr>\n",
       "  </thead>\n",
       "  <tbody>\n",
       "    <tr>\n",
       "      <th>0</th>\n",
       "      <td>CAR_SER_NO</td>\n",
       "      <td>차대번호</td>\n",
       "      <td>0.00</td>\n",
       "    </tr>\n",
       "    <tr>\n",
       "      <th>1</th>\n",
       "      <td>ERP_REG_NO</td>\n",
       "      <td>저감등록번호</td>\n",
       "      <td>0.00</td>\n",
       "    </tr>\n",
       "    <tr>\n",
       "      <th>2</th>\n",
       "      <td>CAR_REG_NO</td>\n",
       "      <td>차량번호</td>\n",
       "      <td>0.00</td>\n",
       "    </tr>\n",
       "    <tr>\n",
       "      <th>3</th>\n",
       "      <td>REC_DATE</td>\n",
       "      <td>미정</td>\n",
       "      <td>NaN</td>\n",
       "    </tr>\n",
       "    <tr>\n",
       "      <th>4</th>\n",
       "      <td>REC_NM</td>\n",
       "      <td>미정</td>\n",
       "      <td>NaN</td>\n",
       "    </tr>\n",
       "    <tr>\n",
       "      <th>5</th>\n",
       "      <td>LAS_CHG_DATE</td>\n",
       "      <td>미정</td>\n",
       "      <td>NaN</td>\n",
       "    </tr>\n",
       "    <tr>\n",
       "      <th>6</th>\n",
       "      <td>LAS_CHG_NM</td>\n",
       "      <td>미정</td>\n",
       "      <td>NaN</td>\n",
       "    </tr>\n",
       "  </tbody>\n",
       "</table>\n",
       "</div>"
      ],
      "text/plain": [
       "            컬럼명      내용  결측 값\n",
       "0    CAR_SER_NO    차대번호  0.00\n",
       "1    ERP_REG_NO  저감등록번호  0.00\n",
       "2    CAR_REG_NO    차량번호  0.00\n",
       "3      REC_DATE      미정   NaN\n",
       "4        REC_NM      미정   NaN\n",
       "5  LAS_CHG_DATE      미정   NaN\n",
       "6    LAS_CHG_NM      미정   NaN"
      ]
     },
     "execution_count": 72,
     "metadata": {},
     "output_type": "execute_result"
    }
   ],
   "source": [
    "col = pd.DataFrame(col_dict, index=['내용']).T.reset_index()\n",
    "col.columns = ['컬럼명', '내용']\n",
    "nul = ureawater1.isnull().sum().reset_index()\n",
    "nul.columns = ['내용', '결측 값']\n",
    "col2 = col.merge(nul, on='내용', how='left')\n",
    "col2"
   ]
  },
  {
   "attachments": {},
   "cell_type": "markdown",
   "metadata": {},
   "source": [
    "# 22\\. 요소수 상세정보"
   ]
  },
  {
   "cell_type": "code",
   "execution_count": 73,
   "metadata": {},
   "outputs": [
    {
     "name": "stdout",
     "output_type": "stream",
     "text": [
      "<class 'pandas.core.frame.DataFrame'>\n",
      "RangeIndex: 155 entries, 0 to 154\n",
      "Data columns (total 14 columns):\n",
      " #   Column                  Non-Null Count  Dtype  \n",
      "---  ------                  --------------  -----  \n",
      " 0   ERP_REG_NO              155 non-null    int64  \n",
      " 1   UREAWATER_CHK_STS       155 non-null    object \n",
      " 2   UREAWATER_LITER         155 non-null    int64  \n",
      " 3   REMAIN_UREAWATER_LITER  155 non-null    int64  \n",
      " 4   UREAWATER_MONEY         155 non-null    int64  \n",
      " 5   REMAIN_UREAWATER_MONEY  155 non-null    int64  \n",
      " 6   UREAWATER_COUNT         155 non-null    int64  \n",
      " 7   UREAWATER_DATE          155 non-null    int64  \n",
      " 8   UREAWATER_NM            155 non-null    object \n",
      " 9   LAS_CHG_DATE            155 non-null    object \n",
      " 10  LAS_CHG_NM              155 non-null    object \n",
      " 11  UREAWATER_FINAL_DATE    125 non-null    float64\n",
      " 12  UREAWATER_FINAL_NM      125 non-null    object \n",
      " 13  RETURN_REASON           30 non-null     object \n",
      "dtypes: float64(1), int64(7), object(6)\n",
      "memory usage: 17.1+ KB\n"
     ]
    }
   ],
   "source": [
    "name = 'TB_ERP_UREAWATER_DTL'\n",
    "file_name = f'ODS_{name}.csv'\n",
    "ureawater_dtl = pd.read_csv(os.path.join(ods_fold, file_name), low_memory=False)\n",
    "ureawater_dtl.info()"
   ]
  },
  {
   "cell_type": "code",
   "execution_count": 74,
   "metadata": {},
   "outputs": [
    {
     "data": {
      "text/plain": [
       "Index(['저감등록번호', '요소수보충진행상태', '요소수보충리터', '요소수보충잔여리터', '요소수보충비용', '요소수보충잔여비용',\n",
       "       '요소수보충횟수', '요소수보충일자', '미정', '미정', '미정', '미정', '미정', '미정'],\n",
       "      dtype='object')"
      ]
     },
     "execution_count": 74,
     "metadata": {},
     "output_type": "execute_result"
    }
   ],
   "source": [
    "file_name = f'[정제]{name}.xlsx'\n",
    "col_df = pd.read_excel(os.path.join(col_fold, file_name), sheet_name='ODS_col')\n",
    "col_dict = {a:b for a,b in col_df[['컬럼', '내용']].values}\n",
    "ureawater_dtl.columns = [col_dict[x] for x in ureawater_dtl.columns]\n",
    "ureawater_dtl.columns"
   ]
  },
  {
   "cell_type": "code",
   "execution_count": 75,
   "metadata": {},
   "outputs": [],
   "source": [
    "ureawater_dtl1 = ureawater_dtl[['저감등록번호', '요소수보충진행상태', '요소수보충리터', '요소수보충잔여리터', '요소수보충비용', '요소수보충잔여비용', '요소수보충횟수', '요소수보충일자']]"
   ]
  },
  {
   "cell_type": "code",
   "execution_count": 76,
   "metadata": {},
   "outputs": [
    {
     "data": {
      "text/plain": [
       "저감등록번호       0\n",
       "요소수보충진행상태    0\n",
       "요소수보충리터      0\n",
       "요소수보충잔여리터    0\n",
       "요소수보충비용      0\n",
       "요소수보충잔여비용    0\n",
       "요소수보충횟수      0\n",
       "요소수보충일자      0\n",
       "dtype: int64"
      ]
     },
     "execution_count": 76,
     "metadata": {},
     "output_type": "execute_result"
    }
   ],
   "source": [
    "ureawater_dtl1.isnull().sum()"
   ]
  },
  {
   "cell_type": "code",
   "execution_count": 77,
   "metadata": {},
   "outputs": [
    {
     "data": {
      "text/html": [
       "<div>\n",
       "<style scoped>\n",
       "    .dataframe tbody tr th:only-of-type {\n",
       "        vertical-align: middle;\n",
       "    }\n",
       "\n",
       "    .dataframe tbody tr th {\n",
       "        vertical-align: top;\n",
       "    }\n",
       "\n",
       "    .dataframe thead th {\n",
       "        text-align: right;\n",
       "    }\n",
       "</style>\n",
       "<table border=\"1\" class=\"dataframe\">\n",
       "  <thead>\n",
       "    <tr style=\"text-align: right;\">\n",
       "      <th></th>\n",
       "      <th>컬럼명</th>\n",
       "      <th>내용</th>\n",
       "      <th>결측 값</th>\n",
       "    </tr>\n",
       "  </thead>\n",
       "  <tbody>\n",
       "    <tr>\n",
       "      <th>0</th>\n",
       "      <td>ERP_REG_NO</td>\n",
       "      <td>저감등록번호</td>\n",
       "      <td>0.00</td>\n",
       "    </tr>\n",
       "    <tr>\n",
       "      <th>1</th>\n",
       "      <td>REMAIN_UREAWATER_MONEY</td>\n",
       "      <td>요소수보충잔여비용</td>\n",
       "      <td>0.00</td>\n",
       "    </tr>\n",
       "    <tr>\n",
       "      <th>2</th>\n",
       "      <td>UREAWATER_CHK_STS</td>\n",
       "      <td>요소수보충진행상태</td>\n",
       "      <td>0.00</td>\n",
       "    </tr>\n",
       "    <tr>\n",
       "      <th>3</th>\n",
       "      <td>UREAWATER_DATE</td>\n",
       "      <td>요소수보충일자</td>\n",
       "      <td>0.00</td>\n",
       "    </tr>\n",
       "    <tr>\n",
       "      <th>4</th>\n",
       "      <td>REMAIN_UREAWATER_LITER</td>\n",
       "      <td>요소수보충잔여리터</td>\n",
       "      <td>0.00</td>\n",
       "    </tr>\n",
       "    <tr>\n",
       "      <th>5</th>\n",
       "      <td>UREAWATER_MONEY</td>\n",
       "      <td>요소수보충비용</td>\n",
       "      <td>0.00</td>\n",
       "    </tr>\n",
       "    <tr>\n",
       "      <th>6</th>\n",
       "      <td>UREAWATER_LITER</td>\n",
       "      <td>요소수보충리터</td>\n",
       "      <td>0.00</td>\n",
       "    </tr>\n",
       "    <tr>\n",
       "      <th>7</th>\n",
       "      <td>UREAWATER_COUNT</td>\n",
       "      <td>요소수보충횟수</td>\n",
       "      <td>0.00</td>\n",
       "    </tr>\n",
       "    <tr>\n",
       "      <th>8</th>\n",
       "      <td>UREAWATER_NM</td>\n",
       "      <td>미정</td>\n",
       "      <td>NaN</td>\n",
       "    </tr>\n",
       "    <tr>\n",
       "      <th>9</th>\n",
       "      <td>LAS_CHG_DATE</td>\n",
       "      <td>미정</td>\n",
       "      <td>NaN</td>\n",
       "    </tr>\n",
       "    <tr>\n",
       "      <th>10</th>\n",
       "      <td>LAS_CHG_NM</td>\n",
       "      <td>미정</td>\n",
       "      <td>NaN</td>\n",
       "    </tr>\n",
       "    <tr>\n",
       "      <th>11</th>\n",
       "      <td>UREAWATER_FINAL_DATE</td>\n",
       "      <td>미정</td>\n",
       "      <td>NaN</td>\n",
       "    </tr>\n",
       "    <tr>\n",
       "      <th>12</th>\n",
       "      <td>UREAWATER_FINAL_NM</td>\n",
       "      <td>미정</td>\n",
       "      <td>NaN</td>\n",
       "    </tr>\n",
       "    <tr>\n",
       "      <th>13</th>\n",
       "      <td>RETURN_REASON</td>\n",
       "      <td>미정</td>\n",
       "      <td>NaN</td>\n",
       "    </tr>\n",
       "  </tbody>\n",
       "</table>\n",
       "</div>"
      ],
      "text/plain": [
       "                       컬럼명         내용  결측 값\n",
       "0               ERP_REG_NO     저감등록번호  0.00\n",
       "1   REMAIN_UREAWATER_MONEY  요소수보충잔여비용  0.00\n",
       "2        UREAWATER_CHK_STS  요소수보충진행상태  0.00\n",
       "3           UREAWATER_DATE    요소수보충일자  0.00\n",
       "4   REMAIN_UREAWATER_LITER  요소수보충잔여리터  0.00\n",
       "5          UREAWATER_MONEY    요소수보충비용  0.00\n",
       "6          UREAWATER_LITER    요소수보충리터  0.00\n",
       "7          UREAWATER_COUNT    요소수보충횟수  0.00\n",
       "8             UREAWATER_NM         미정   NaN\n",
       "9             LAS_CHG_DATE         미정   NaN\n",
       "10              LAS_CHG_NM         미정   NaN\n",
       "11    UREAWATER_FINAL_DATE         미정   NaN\n",
       "12      UREAWATER_FINAL_NM         미정   NaN\n",
       "13           RETURN_REASON         미정   NaN"
      ]
     },
     "execution_count": 77,
     "metadata": {},
     "output_type": "execute_result"
    }
   ],
   "source": [
    "col = pd.DataFrame(col_dict, index=['내용']).T.reset_index()\n",
    "col.columns = ['컬럼명', '내용']\n",
    "nul = ureawater_dtl1.isnull().sum().reset_index()\n",
    "nul.columns = ['내용', '결측 값']\n",
    "col2 = col.merge(nul, on='내용', how='left')\n",
    "col2"
   ]
  },
  {
   "attachments": {},
   "cell_type": "markdown",
   "metadata": {},
   "source": [
    "# 23\\. 전문정비"
   ]
  },
  {
   "cell_type": "code",
   "execution_count": 78,
   "metadata": {},
   "outputs": [
    {
     "name": "stdout",
     "output_type": "stream",
     "text": [
      "<class 'pandas.core.frame.DataFrame'>\n",
      "RangeIndex: 54617 entries, 0 to 54616\n",
      "Data columns (total 42 columns):\n",
      " #   Column              Non-Null Count  Dtype  \n",
      "---  ------              --------------  -----  \n",
      " 0   REPAIR_ORG_NM       54617 non-null  object \n",
      " 1   CAR_REG_NO          54617 non-null  object \n",
      " 2   CAR_SER_NO          51051 non-null  object \n",
      " 3   REPAIR_DATE         54617 non-null  int64  \n",
      " 4   REPAIR_REG_NO       54617 non-null  int64  \n",
      " 5   RE_SMO_CHK_REG_NO   54617 non-null  object \n",
      " 6   CAR_NM              54615 non-null  object \n",
      " 7   CAR_YEAR            54615 non-null  float64\n",
      " 8   CAR_OWNER_NM        54615 non-null  object \n",
      " 9   OFFICE_NM           25670 non-null  object \n",
      " 10  REPAIR_NM           54617 non-null  object \n",
      " 11  CAR_FUEL_NM         54615 non-null  object \n",
      " 12  FIRST_REG_DATE      25669 non-null  object \n",
      " 13  CAR_MILE            54617 non-null  float64\n",
      " 14  REPAIR_COST         54617 non-null  object \n",
      " 15  WAR_REPAIR_YN       54617 non-null  object \n",
      " 16  RE_INS_DATE         54615 non-null  object \n",
      " 17  WAR_DATE            27093 non-null  object \n",
      " 18  WAR_KM              54617 non-null  object \n",
      " 19  REPAIR_COMMENT      33864 non-null  object \n",
      " 20  LOAD_CO             53884 non-null  object \n",
      " 21  LOAD_HC             53886 non-null  object \n",
      " 22  LOAD_NOX            53883 non-null  object \n",
      " 23  LOAD_SMOKE          53941 non-null  object \n",
      " 24  LOAD_TORK           53819 non-null  object \n",
      " 25  UNLOAD_CO           53870 non-null  object \n",
      " 26  UNLOAD_HC           53871 non-null  object \n",
      " 27  UNLOAD_SMOKE        50992 non-null  object \n",
      " 28  UNLOAD_NAM          28484 non-null  object \n",
      " 29  REPAIR_COMMENT_ETC  28510 non-null  object \n",
      " 30  REC_DATE            0 non-null      float64\n",
      " 31  REC_NM              0 non-null      float64\n",
      " 32  LAS_CHG_DATE        0 non-null      float64\n",
      " 33  LAS_CHG_NM          0 non-null      float64\n",
      " 34  ETC_CONT1           0 non-null      float64\n",
      " 35  ETC_CONT2           0 non-null      float64\n",
      " 36  ETC_CONT3           0 non-null      float64\n",
      " 37  ETC_CONT4           0 non-null      float64\n",
      " 38  ETC_CONT5           0 non-null      float64\n",
      " 39  SRC_TBL             54617 non-null  object \n",
      " 40  FILE_NM             8689 non-null   object \n",
      " 41  JOB_DATE            8689 non-null   float64\n",
      "dtypes: float64(12), int64(2), object(28)\n",
      "memory usage: 17.5+ MB\n"
     ]
    }
   ],
   "source": [
    "# about 34s\n",
    "name = 'TB_ERR_RES'\n",
    "file_name = f'ODS_{name}.csv'\n",
    "res = pd.read_csv(os.path.join(ods_fold, file_name), low_memory=False)\n",
    "res.info()"
   ]
  },
  {
   "cell_type": "code",
   "execution_count": 79,
   "metadata": {},
   "outputs": [
    {
     "data": {
      "text/plain": [
       "Index(['전문정비업소명', '차량등록번호', '차대번호', '전문정비일', '전문정비접수번호', '정밀재검사접수번호', '미정',\n",
       "       '미정', '미정', '미정', '미정', '미정', '미정', '주행거리', '미정', '미정', '미정', '미정',\n",
       "       '미정', '미정', '부하일산화탄소측정치', '부하탄화수소측정치', '부하질소산화물측정치', '부하매연측정치',\n",
       "       '부하토크측정치', '무부하일산화탄소', '무부하탄화수소', '무부하매연측정치', '무부하공기과잉률', '미정', '미정',\n",
       "       '미정', '미정', '미정', '미정', '미정', '미정', '미정', '미정', '미정', '미정', '미정'],\n",
       "      dtype='object')"
      ]
     },
     "execution_count": 79,
     "metadata": {},
     "output_type": "execute_result"
    }
   ],
   "source": [
    "file_name = f'[정제]{name}.xlsx'\n",
    "col_df = pd.read_excel(os.path.join(col_fold, file_name), sheet_name='ODS_col')\n",
    "col_dict = {a:b for a,b in col_df[['컬럼', '내용']].values}\n",
    "res.columns = [col_dict[x] for x in res.columns]\n",
    "res.columns"
   ]
  },
  {
   "cell_type": "code",
   "execution_count": 80,
   "metadata": {},
   "outputs": [],
   "source": [
    "res = res['전문정비일']"
   ]
  },
  {
   "cell_type": "code",
   "execution_count": 81,
   "metadata": {},
   "outputs": [
    {
     "data": {
      "text/plain": [
       "count      54617.00\n",
       "mean    20083896.95\n",
       "std        16435.80\n",
       "min     20060727.00\n",
       "25%     20070801.00\n",
       "50%     20080507.00\n",
       "75%     20091109.00\n",
       "max     20121010.00\n",
       "Name: 전문정비일, dtype: float64"
      ]
     },
     "execution_count": 81,
     "metadata": {},
     "output_type": "execute_result"
    }
   ],
   "source": [
    "res.describe()"
   ]
  },
  {
   "cell_type": "code",
   "execution_count": 82,
   "metadata": {},
   "outputs": [
    {
     "data": {
      "text/plain": [
       "0    20070516\n",
       "1    20070516\n",
       "2    20070516\n",
       "3    20070516\n",
       "4    20070516\n",
       "Name: 전문정비일, dtype: int64"
      ]
     },
     "execution_count": 82,
     "metadata": {},
     "output_type": "execute_result"
    }
   ],
   "source": [
    "res.head()"
   ]
  },
  {
   "cell_type": "code",
   "execution_count": 83,
   "metadata": {},
   "outputs": [
    {
     "data": {
      "text/plain": [
       "0"
      ]
     },
     "execution_count": 83,
     "metadata": {},
     "output_type": "execute_result"
    }
   ],
   "source": [
    "res.isnull().sum()"
   ]
  },
  {
   "cell_type": "code",
   "execution_count": 85,
   "metadata": {},
   "outputs": [
    {
     "name": "stdout",
     "output_type": "stream",
     "text": [
      "REPAIR_DATE\n"
     ]
    }
   ],
   "source": [
    "for k, v in col_dict.items():\n",
    "    if v == '전문정비일':\n",
    "        print(k)"
   ]
  },
  {
   "attachments": {},
   "cell_type": "markdown",
   "metadata": {},
   "source": [
    "# 24\\. 전문정비상세"
   ]
  },
  {
   "cell_type": "code",
   "execution_count": 86,
   "metadata": {},
   "outputs": [
    {
     "name": "stdout",
     "output_type": "stream",
     "text": [
      "<class 'pandas.core.frame.DataFrame'>\n",
      "RangeIndex: 106818 entries, 0 to 106817\n",
      "Data columns (total 24 columns):\n",
      " #   Column             Non-Null Count   Dtype  \n",
      "---  ------             --------------   -----  \n",
      " 0   REPAIR_ORG_NM      106818 non-null  object \n",
      " 1   CAR_REG_NO         106818 non-null  object \n",
      " 2   CAR_SER_NO         94670 non-null   object \n",
      " 3   REPAIR_DATE        106818 non-null  int64  \n",
      " 4   REPAIR_REG_NO      106818 non-null  int64  \n",
      " 5   RE_SMO_CHK_REG_NO  0 non-null       float64\n",
      " 6   REPAIR_PART_CD     106817 non-null  object \n",
      " 7   REPAIR_CONT_CD     106817 non-null  object \n",
      " 8   REPAIR_PART1_YN    106818 non-null  object \n",
      " 9   REPAIR_PART2_YN    106818 non-null  object \n",
      " 10  REPAIR_PART3_YN    106818 non-null  object \n",
      " 11  REPAIR_PART4_YN    106818 non-null  object \n",
      " 12  REC_DATE           0 non-null       float64\n",
      " 13  REC_NM             0 non-null       float64\n",
      " 14  LAS_CHG_DATE       0 non-null       float64\n",
      " 15  LAS_CHG_NM         0 non-null       float64\n",
      " 16  ETC_CONT1          0 non-null       float64\n",
      " 17  ETC_CONT2          0 non-null       float64\n",
      " 18  ETC_CONT3          0 non-null       float64\n",
      " 19  ETC_CONT4          0 non-null       float64\n",
      " 20  ETC_CONT5          0 non-null       float64\n",
      " 21  SRC_TBL            106818 non-null  object \n",
      " 22  FILE_NM            15622 non-null   object \n",
      " 23  JOB_DATE           15860 non-null   float64\n",
      "dtypes: float64(11), int64(2), object(11)\n",
      "memory usage: 19.6+ MB\n"
     ]
    }
   ],
   "source": [
    "name = 'TB_ERR_RES_DET'\n",
    "file_name = f'ODS_{name}.csv'\n",
    "res_det = pd.read_csv(os.path.join(ods_fold, file_name), low_memory=False)\n",
    "res_det.info()"
   ]
  },
  {
   "cell_type": "code",
   "execution_count": 87,
   "metadata": {},
   "outputs": [
    {
     "data": {
      "text/plain": [
       "Index(['전문정비업소명', '차량번호', '차대번호', '전문정비일', '전문정비접수번호', '정밀재검사접수번호', '정비부품코드',\n",
       "       '정비내용코드', '미정', '미정', '미정', '미정', '미정', '미정', '미정', '미정', '미정', '미정',\n",
       "       '미정', '미정', '미정', '미정', '미정', '미정'],\n",
       "      dtype='object')"
      ]
     },
     "execution_count": 87,
     "metadata": {},
     "output_type": "execute_result"
    }
   ],
   "source": [
    "file_name = f'[정제]{name}.xlsx'\n",
    "col_df = pd.read_excel(os.path.join(col_fold, file_name), sheet_name='ODS_col')\n",
    "col_dict = {a:b for a,b in col_df[['컬럼', '내용']].values}\n",
    "res_det.columns = [col_dict[x] for x in res_det.columns]\n",
    "res_det.columns"
   ]
  },
  {
   "cell_type": "code",
   "execution_count": 88,
   "metadata": {},
   "outputs": [],
   "source": [
    "res_det1 = res_det[['전문정비업소명', '차량번호', '차대번호', '전문정비일', '전문정비접수번호', '정밀재검사접수번호', '정비부품코드', '정비내용코드']]"
   ]
  },
  {
   "cell_type": "code",
   "execution_count": 89,
   "metadata": {},
   "outputs": [
    {
     "data": {
      "text/plain": [
       "전문정비업소명           0\n",
       "차량번호              0\n",
       "차대번호          12148\n",
       "전문정비일             0\n",
       "전문정비접수번호          0\n",
       "정밀재검사접수번호    106818\n",
       "정비부품코드            1\n",
       "정비내용코드            1\n",
       "dtype: int64"
      ]
     },
     "execution_count": 89,
     "metadata": {},
     "output_type": "execute_result"
    }
   ],
   "source": [
    "res_det1.isnull().sum()"
   ]
  },
  {
   "cell_type": "code",
   "execution_count": 90,
   "metadata": {},
   "outputs": [
    {
     "data": {
      "text/html": [
       "<div>\n",
       "<style scoped>\n",
       "    .dataframe tbody tr th:only-of-type {\n",
       "        vertical-align: middle;\n",
       "    }\n",
       "\n",
       "    .dataframe tbody tr th {\n",
       "        vertical-align: top;\n",
       "    }\n",
       "\n",
       "    .dataframe thead th {\n",
       "        text-align: right;\n",
       "    }\n",
       "</style>\n",
       "<table border=\"1\" class=\"dataframe\">\n",
       "  <thead>\n",
       "    <tr style=\"text-align: right;\">\n",
       "      <th></th>\n",
       "      <th>컬럼명</th>\n",
       "      <th>내용</th>\n",
       "      <th>결측 값</th>\n",
       "    </tr>\n",
       "  </thead>\n",
       "  <tbody>\n",
       "    <tr>\n",
       "      <th>0</th>\n",
       "      <td>CAR_REG_NO</td>\n",
       "      <td>차량번호</td>\n",
       "      <td>0.00</td>\n",
       "    </tr>\n",
       "    <tr>\n",
       "      <th>1</th>\n",
       "      <td>CAR_SER_NO</td>\n",
       "      <td>차대번호</td>\n",
       "      <td>12148.00</td>\n",
       "    </tr>\n",
       "    <tr>\n",
       "      <th>2</th>\n",
       "      <td>RE_SMO_CHK_REG_NO</td>\n",
       "      <td>정밀재검사접수번호</td>\n",
       "      <td>106818.00</td>\n",
       "    </tr>\n",
       "    <tr>\n",
       "      <th>3</th>\n",
       "      <td>REPAIR_REG_NO</td>\n",
       "      <td>전문정비접수번호</td>\n",
       "      <td>0.00</td>\n",
       "    </tr>\n",
       "    <tr>\n",
       "      <th>4</th>\n",
       "      <td>REPAIR_DATE</td>\n",
       "      <td>전문정비일</td>\n",
       "      <td>0.00</td>\n",
       "    </tr>\n",
       "    <tr>\n",
       "      <th>5</th>\n",
       "      <td>REPAIR_ORG_NM</td>\n",
       "      <td>전문정비업소명</td>\n",
       "      <td>0.00</td>\n",
       "    </tr>\n",
       "    <tr>\n",
       "      <th>6</th>\n",
       "      <td>REPAIR_PART_CD</td>\n",
       "      <td>정비부품코드</td>\n",
       "      <td>1.00</td>\n",
       "    </tr>\n",
       "    <tr>\n",
       "      <th>7</th>\n",
       "      <td>REPAIR_CONT_CD</td>\n",
       "      <td>정비내용코드</td>\n",
       "      <td>1.00</td>\n",
       "    </tr>\n",
       "    <tr>\n",
       "      <th>8</th>\n",
       "      <td>REPAIR_PART1_YN</td>\n",
       "      <td>미정</td>\n",
       "      <td>NaN</td>\n",
       "    </tr>\n",
       "    <tr>\n",
       "      <th>9</th>\n",
       "      <td>REPAIR_PART2_YN</td>\n",
       "      <td>미정</td>\n",
       "      <td>NaN</td>\n",
       "    </tr>\n",
       "    <tr>\n",
       "      <th>10</th>\n",
       "      <td>REPAIR_PART3_YN</td>\n",
       "      <td>미정</td>\n",
       "      <td>NaN</td>\n",
       "    </tr>\n",
       "    <tr>\n",
       "      <th>11</th>\n",
       "      <td>REPAIR_PART4_YN</td>\n",
       "      <td>미정</td>\n",
       "      <td>NaN</td>\n",
       "    </tr>\n",
       "    <tr>\n",
       "      <th>12</th>\n",
       "      <td>REC_DATE</td>\n",
       "      <td>미정</td>\n",
       "      <td>NaN</td>\n",
       "    </tr>\n",
       "    <tr>\n",
       "      <th>13</th>\n",
       "      <td>REC_NM</td>\n",
       "      <td>미정</td>\n",
       "      <td>NaN</td>\n",
       "    </tr>\n",
       "    <tr>\n",
       "      <th>14</th>\n",
       "      <td>LAS_CHG_DATE</td>\n",
       "      <td>미정</td>\n",
       "      <td>NaN</td>\n",
       "    </tr>\n",
       "    <tr>\n",
       "      <th>15</th>\n",
       "      <td>LAS_CHG_NM</td>\n",
       "      <td>미정</td>\n",
       "      <td>NaN</td>\n",
       "    </tr>\n",
       "    <tr>\n",
       "      <th>16</th>\n",
       "      <td>ETC_CONT1</td>\n",
       "      <td>미정</td>\n",
       "      <td>NaN</td>\n",
       "    </tr>\n",
       "    <tr>\n",
       "      <th>17</th>\n",
       "      <td>ETC_CONT2</td>\n",
       "      <td>미정</td>\n",
       "      <td>NaN</td>\n",
       "    </tr>\n",
       "    <tr>\n",
       "      <th>18</th>\n",
       "      <td>ETC_CONT3</td>\n",
       "      <td>미정</td>\n",
       "      <td>NaN</td>\n",
       "    </tr>\n",
       "    <tr>\n",
       "      <th>19</th>\n",
       "      <td>ETC_CONT4</td>\n",
       "      <td>미정</td>\n",
       "      <td>NaN</td>\n",
       "    </tr>\n",
       "    <tr>\n",
       "      <th>20</th>\n",
       "      <td>ETC_CONT5</td>\n",
       "      <td>미정</td>\n",
       "      <td>NaN</td>\n",
       "    </tr>\n",
       "    <tr>\n",
       "      <th>21</th>\n",
       "      <td>SRC_TBL</td>\n",
       "      <td>미정</td>\n",
       "      <td>NaN</td>\n",
       "    </tr>\n",
       "    <tr>\n",
       "      <th>22</th>\n",
       "      <td>FILE_NM</td>\n",
       "      <td>미정</td>\n",
       "      <td>NaN</td>\n",
       "    </tr>\n",
       "    <tr>\n",
       "      <th>23</th>\n",
       "      <td>JOB_DATE</td>\n",
       "      <td>미정</td>\n",
       "      <td>NaN</td>\n",
       "    </tr>\n",
       "  </tbody>\n",
       "</table>\n",
       "</div>"
      ],
      "text/plain": [
       "                  컬럼명         내용      결측 값\n",
       "0          CAR_REG_NO       차량번호      0.00\n",
       "1          CAR_SER_NO       차대번호  12148.00\n",
       "2   RE_SMO_CHK_REG_NO  정밀재검사접수번호 106818.00\n",
       "3       REPAIR_REG_NO   전문정비접수번호      0.00\n",
       "4         REPAIR_DATE      전문정비일      0.00\n",
       "5       REPAIR_ORG_NM    전문정비업소명      0.00\n",
       "6      REPAIR_PART_CD     정비부품코드      1.00\n",
       "7      REPAIR_CONT_CD     정비내용코드      1.00\n",
       "8     REPAIR_PART1_YN         미정       NaN\n",
       "9     REPAIR_PART2_YN         미정       NaN\n",
       "10    REPAIR_PART3_YN         미정       NaN\n",
       "11    REPAIR_PART4_YN         미정       NaN\n",
       "12           REC_DATE         미정       NaN\n",
       "13             REC_NM         미정       NaN\n",
       "14       LAS_CHG_DATE         미정       NaN\n",
       "15         LAS_CHG_NM         미정       NaN\n",
       "16          ETC_CONT1         미정       NaN\n",
       "17          ETC_CONT2         미정       NaN\n",
       "18          ETC_CONT3         미정       NaN\n",
       "19          ETC_CONT4         미정       NaN\n",
       "20          ETC_CONT5         미정       NaN\n",
       "21            SRC_TBL         미정       NaN\n",
       "22            FILE_NM         미정       NaN\n",
       "23           JOB_DATE         미정       NaN"
      ]
     },
     "execution_count": 90,
     "metadata": {},
     "output_type": "execute_result"
    }
   ],
   "source": [
    "col = pd.DataFrame(col_dict, index=['내용']).T.reset_index()\n",
    "col.columns = ['컬럼명', '내용']\n",
    "nul = res_det1.isnull().sum().reset_index()\n",
    "nul.columns = ['내용', '결측 값']\n",
    "col2 = col.merge(nul, on='내용', how='left')\n",
    "col2"
   ]
  },
  {
   "attachments": {},
   "cell_type": "markdown",
   "metadata": {},
   "source": [
    "# 25\\. 정기검사 검사정보"
   ]
  },
  {
   "cell_type": "code",
   "execution_count": 39,
   "metadata": {},
   "outputs": [
    {
     "name": "stdout",
     "output_type": "stream",
     "text": [
      "<class 'pandas.core.frame.DataFrame'>\n",
      "RangeIndex: 22006426 entries, 0 to 22006425\n",
      "Data columns (total 63 columns):\n",
      " #   Column             Dtype  \n",
      "---  ------             -----  \n",
      " 0   JG_ORG_NM          object \n",
      " 1   JG_CHK_DATE        int64  \n",
      " 2   JG_CHK_TYPE        object \n",
      " 3   JEBSU_NO           object \n",
      " 4   TO_JEBSU_NO        object \n",
      " 5   CAR_REG_NO         object \n",
      " 6   CAR_SER_NO         object \n",
      " 7   CAR_TYPE           object \n",
      " 8   CAR_NM             object \n",
      " 9   CAR_TYPE_NM        object \n",
      " 10  USAGE              object \n",
      " 11  CAR_YEAR           int64  \n",
      " 12  CAR_FUEL_NM        object \n",
      " 13  CAR_MILE           object \n",
      " 14  CAR_LENGTH         float64\n",
      " 15  CAR_WIDTH          float64\n",
      " 16  CAR_HEIGHT         float64\n",
      " 17  ENGINE_TYPE        object \n",
      " 18  ENGINE_CAPACITY    float64\n",
      " 19  ENGINE_POWER       object \n",
      " 20  CAR_WEIGHT         float64\n",
      " 21  TOT_WEIGHT         float64\n",
      " 22  CAR_PASSENGER      float64\n",
      " 23  CONT               float64\n",
      " 24  FIRST_REG_DATE     int64  \n",
      " 25  MAKE_DATE          float64\n",
      " 26  EXP_DATE           float64\n",
      " 27  FUN_JUDGE_YN       float64\n",
      " 28  FUN_FAIL_ITEM      float64\n",
      " 29  CHK_METHOD         object \n",
      " 30  UNLOAD_SMO_VAL1    float64\n",
      " 31  UNLOAD_SMO_LIM1    float64\n",
      " 32  UNLOAD_SMO_JUDGE1  object \n",
      " 33  UNLOAD_SMO_VAL2    float64\n",
      " 34  UNLOAD_SMO_LIM2    float64\n",
      " 35  UNLOAD_SMO_JUDGE2  object \n",
      " 36  UNLOAD_SMO_VAL3    float64\n",
      " 37  UNLOAD_SMO_LIM3    float64\n",
      " 38  UNLOAD_SMO_JUDGE3  object \n",
      " 39  UNLOAD_SMO_VAL4    float64\n",
      " 40  UNLOAD_SMO_LIM4    float64\n",
      " 41  UNLOAD_SMO_JUDGE4  object \n",
      " 42  UNLOAD_SMO_VAL5    float64\n",
      " 43  UNLOAD_SMO_LIM5    float64\n",
      " 44  UNLOAD_SMO_JUDGE5  object \n",
      " 45  UNLOAD_SMO_VAL6    float64\n",
      " 46  UNLOAD_SMO_LIM6    float64\n",
      " 47  UNLOAD_SMO_JUDGE6  object \n",
      " 48  CO2_VAL            float64\n",
      " 49  ENGINE_TOR_LIM     float64\n",
      " 50  ENGINE_TOR_VAL     float64\n",
      " 51  O2_VAL             float64\n",
      " 52  AIR_TEMPER         float64\n",
      " 53  AIR_PRESS          float64\n",
      " 54  JUDGE_YN           object \n",
      " 55  RE_CHK_DATE        object \n",
      " 56  CHK_EXP_DATE       object \n",
      " 57  FUN_CHKR_NM        object \n",
      " 58  SMO_CHKR_NM        object \n",
      " 59  MNG_CHKR_NM        object \n",
      " 60  JUDGE_DATE         object \n",
      " 61  DT_GUBUN           object \n",
      " 62  FILE_NM            object \n",
      "dtypes: float64(30), int64(3), object(30)\n",
      "memory usage: 10.3+ GB\n"
     ]
    }
   ],
   "source": [
    "# about 3m 27s\n",
    "name = 'TB_JGT_HIS'\n",
    "file_name = f'ODS_{name}.csv'\n",
    "his = pd.read_csv(os.path.join(ods_fold, file_name), low_memory=False)\n",
    "his.info()"
   ]
  },
  {
   "cell_type": "code",
   "execution_count": 40,
   "metadata": {},
   "outputs": [
    {
     "data": {
      "text/plain": [
       "3"
      ]
     },
     "execution_count": 40,
     "metadata": {},
     "output_type": "execute_result"
    }
   ],
   "source": [
    "his['EXP_DATE'].isnull().sum()"
   ]
  },
  {
   "cell_type": "code",
   "execution_count": 5,
   "metadata": {},
   "outputs": [
    {
     "data": {
      "text/plain": [
       "Index(['검사소명', '정기검사일자', '검사종류', '검사접수번호', '미정', '차량번호', '차대번호', '미정', '차명',\n",
       "       '차종', '차량용도', '차량연식', '사용연료', '주행거리', '미정', '미정', '미정', '엔진형식', '미정',\n",
       "       '미정', '미정', '미정', '미정', '미정', '미정', '미정', '미정', '미정', '미정', '검사방법',\n",
       "       '무부하매연측정치1', '무부하매연허용치1', '무부하매연판정1', '무부하매연측정치2', '무부하매연허용치2',\n",
       "       '무부하매연판정2', '무부하매연측정치3', '무부하매연허용치3', '무부하매연판정3', '무부하매연측정치4',\n",
       "       '무부하매연허용치4', '무부하매연판정4', '무부하매연측정치5', '무부하매연허용치5', '무부하매연판정5',\n",
       "       '무부하매연측정치6', '무부하매연허용치6', '무부하매연판정6', '이산화탄소값', '최대출력허용치', '최대출력측정값',\n",
       "       '산소값', '미정', '미정', '정기검사판정', '재검사기간', '미정', '미정', '미정', '미정', '검사판정시각',\n",
       "       '미정', '미정'],\n",
       "      dtype='object')"
      ]
     },
     "execution_count": 5,
     "metadata": {},
     "output_type": "execute_result"
    }
   ],
   "source": [
    "file_name = f'[정제]{name}.xlsx'\n",
    "col_df = pd.read_excel(os.path.join(col_fold, file_name), sheet_name='ODS_col')\n",
    "col_dict = {a:b for a,b in col_df[['컬럼', '내용']].values}\n",
    "his.columns = [col_dict[x] for x in his.columns]\n",
    "his.columns"
   ]
  },
  {
   "cell_type": "code",
   "execution_count": 6,
   "metadata": {},
   "outputs": [
    {
     "data": {
      "text/plain": [
       "array(['경유', '휘발유(무연)', '엘피지', '휘발유', 'CNG', '하이브리드(휘발유+전기)',\n",
       "       '하이브리드(LPG+전기)', '전기', nan, '기타연료', '하이브리드(CNG+전기)', 'HE(수소전기)',\n",
       "       '하이브리드(경유+전기)', '휘발유(유연)', 'LNG', '태양열'], dtype=object)"
      ]
     },
     "execution_count": 6,
     "metadata": {},
     "output_type": "execute_result"
    }
   ],
   "source": [
    "his['사용연료'].unique()"
   ]
  },
  {
   "cell_type": "code",
   "execution_count": 7,
   "metadata": {},
   "outputs": [
    {
     "data": {
      "text/plain": [
       "검사소명            0\n",
       "정기검사일자          0\n",
       "검사종류            0\n",
       "검사접수번호          0\n",
       "미정              0\n",
       "           ...   \n",
       "미정        3344722\n",
       "미정        3216631\n",
       "검사판정시각          0\n",
       "미정              0\n",
       "미정             62\n",
       "Length: 63, dtype: int64"
      ]
     },
     "execution_count": 7,
     "metadata": {},
     "output_type": "execute_result"
    }
   ],
   "source": [
    "his.isnull().sum()"
   ]
  },
  {
   "cell_type": "code",
   "execution_count": 11,
   "metadata": {},
   "outputs": [
    {
     "data": {
      "text/plain": [
       "0"
      ]
     },
     "execution_count": 11,
     "metadata": {},
     "output_type": "execute_result"
    }
   ],
   "source": [
    "his['차대번호'].isnull().sum()"
   ]
  },
  {
   "cell_type": "code",
   "execution_count": 12,
   "metadata": {},
   "outputs": [
    {
     "data": {
      "text/html": [
       "<div>\n",
       "<style scoped>\n",
       "    .dataframe tbody tr th:only-of-type {\n",
       "        vertical-align: middle;\n",
       "    }\n",
       "\n",
       "    .dataframe tbody tr th {\n",
       "        vertical-align: top;\n",
       "    }\n",
       "\n",
       "    .dataframe thead th {\n",
       "        text-align: right;\n",
       "    }\n",
       "</style>\n",
       "<table border=\"1\" class=\"dataframe\">\n",
       "  <thead>\n",
       "    <tr style=\"text-align: right;\">\n",
       "      <th></th>\n",
       "      <th>index</th>\n",
       "      <th>0</th>\n",
       "    </tr>\n",
       "  </thead>\n",
       "  <tbody>\n",
       "    <tr>\n",
       "      <th>0</th>\n",
       "      <td>검사소명</td>\n",
       "      <td>0</td>\n",
       "    </tr>\n",
       "    <tr>\n",
       "      <th>1</th>\n",
       "      <td>정기검사일자</td>\n",
       "      <td>0</td>\n",
       "    </tr>\n",
       "    <tr>\n",
       "      <th>2</th>\n",
       "      <td>검사종류</td>\n",
       "      <td>0</td>\n",
       "    </tr>\n",
       "    <tr>\n",
       "      <th>3</th>\n",
       "      <td>검사접수번호</td>\n",
       "      <td>0</td>\n",
       "    </tr>\n",
       "    <tr>\n",
       "      <th>4</th>\n",
       "      <td>미정</td>\n",
       "      <td>0</td>\n",
       "    </tr>\n",
       "    <tr>\n",
       "      <th>...</th>\n",
       "      <td>...</td>\n",
       "      <td>...</td>\n",
       "    </tr>\n",
       "    <tr>\n",
       "      <th>58</th>\n",
       "      <td>미정</td>\n",
       "      <td>3344722</td>\n",
       "    </tr>\n",
       "    <tr>\n",
       "      <th>59</th>\n",
       "      <td>미정</td>\n",
       "      <td>3216631</td>\n",
       "    </tr>\n",
       "    <tr>\n",
       "      <th>60</th>\n",
       "      <td>검사판정시각</td>\n",
       "      <td>0</td>\n",
       "    </tr>\n",
       "    <tr>\n",
       "      <th>61</th>\n",
       "      <td>미정</td>\n",
       "      <td>0</td>\n",
       "    </tr>\n",
       "    <tr>\n",
       "      <th>62</th>\n",
       "      <td>미정</td>\n",
       "      <td>62</td>\n",
       "    </tr>\n",
       "  </tbody>\n",
       "</table>\n",
       "<p>63 rows × 2 columns</p>\n",
       "</div>"
      ],
      "text/plain": [
       "     index        0\n",
       "0     검사소명        0\n",
       "1   정기검사일자        0\n",
       "2     검사종류        0\n",
       "3   검사접수번호        0\n",
       "4       미정        0\n",
       "..     ...      ...\n",
       "58      미정  3344722\n",
       "59      미정  3216631\n",
       "60  검사판정시각        0\n",
       "61      미정        0\n",
       "62      미정       62\n",
       "\n",
       "[63 rows x 2 columns]"
      ]
     },
     "execution_count": 12,
     "metadata": {},
     "output_type": "execute_result"
    }
   ],
   "source": [
    "his.isnull().sum().reset_index()"
   ]
  },
  {
   "cell_type": "code",
   "execution_count": 8,
   "metadata": {},
   "outputs": [
    {
     "name": "stdout",
     "output_type": "stream",
     "text": [
      "<class 'pandas.core.frame.DataFrame'>\n",
      "RangeIndex: 22006426 entries, 0 to 22006425\n",
      "Data columns (total 39 columns):\n",
      " #   Column     Dtype  \n",
      "---  ------     -----  \n",
      " 0   사용연료       object \n",
      " 1   주행거리       object \n",
      " 2   차명         object \n",
      " 3   차량번호       object \n",
      " 4   차대번호       object \n",
      " 5   차종         object \n",
      " 6   차량연식       int64  \n",
      " 7   엔진형식       object \n",
      " 8   검사방법       object \n",
      " 9   검사일자       int64  \n",
      " 10  검사종류       object \n",
      " 11  검사판정시각     object \n",
      " 12  검사판정       object \n",
      " 13  산소값        float64\n",
      " 14  이산화탄소값     float64\n",
      " 15  무부하매연판정1   object \n",
      " 16  무부하매연판정2   object \n",
      " 17  무부하매연판정3   object \n",
      " 18  무부하매연판정4   object \n",
      " 19  무부하매연판정5   object \n",
      " 20  무부하매연판정6   object \n",
      " 21  무부하매연허용치1  float64\n",
      " 22  무부하매연허용치2  float64\n",
      " 23  무부하매연허용치3  float64\n",
      " 24  무부하매연허용치4  float64\n",
      " 25  무부하매연허용치5  float64\n",
      " 26  무부하매연허용치6  float64\n",
      " 27  무부하매연측정치1  float64\n",
      " 28  무부하매연측정치2  float64\n",
      " 29  무부하매연측정치3  float64\n",
      " 30  무부하매연측정치4  float64\n",
      " 31  무부하매연측정치5  float64\n",
      " 32  무부하매연측정치6  float64\n",
      " 33  차량용도       object \n",
      " 34  최대출력허용치    float64\n",
      " 35  최대출력측정값    float64\n",
      " 36  검사접수번호     object \n",
      " 37  검사소명       object \n",
      " 38  재검사기간      object \n",
      "dtypes: float64(16), int64(2), object(21)\n",
      "memory usage: 6.4+ GB\n"
     ]
    }
   ],
   "source": [
    "# about 3m 27s\n",
    "name = '[ODS]정기검사(2022.12.28)'\n",
    "file_name = f'{name}.csv'\n",
    "ins = pd.read_csv(os.path.join(ods_fold, file_name), low_memory=False)\n",
    "ins.info()"
   ]
  },
  {
   "cell_type": "code",
   "execution_count": 9,
   "metadata": {},
   "outputs": [
    {
     "data": {
      "text/plain": [
       "Index(['사용연료', '주행거리', '차명', '차량번호', '차대번호', '차종', '차량연식', '엔진형식', '검사방법',\n",
       "       '검사일자', '검사종류', '검사판정시각', '검사판정', '산소값', '이산화탄소값', '무부하매연판정1',\n",
       "       '무부하매연판정2', '무부하매연판정3', '무부하매연판정4', '무부하매연판정5', '무부하매연판정6', '무부하매연허용치1',\n",
       "       '무부하매연허용치2', '무부하매연허용치3', '무부하매연허용치4', '무부하매연허용치5', '무부하매연허용치6',\n",
       "       '무부하매연측정치1', '무부하매연측정치2', '무부하매연측정치3', '무부하매연측정치4', '무부하매연측정치5',\n",
       "       '무부하매연측정치6', '차량용도', '최대출력허용치', '최대출력측정값', '검사접수번호', '검사소명', '재검사기간'],\n",
       "      dtype='object')"
      ]
     },
     "execution_count": 9,
     "metadata": {},
     "output_type": "execute_result"
    }
   ],
   "source": [
    "ins.columns"
   ]
  },
  {
   "cell_type": "code",
   "execution_count": 10,
   "metadata": {},
   "outputs": [
    {
     "data": {
      "text/plain": [
       "사용연료           166418\n",
       "주행거리            36446\n",
       "차명                  0\n",
       "차량번호                0\n",
       "차대번호                0\n",
       "차종                  0\n",
       "차량연식                0\n",
       "엔진형식            60820\n",
       "검사방법                0\n",
       "검사일자                0\n",
       "검사종류                0\n",
       "검사판정시각              0\n",
       "검사판정                0\n",
       "산소값          15533038\n",
       "이산화탄소값       14435107\n",
       "무부하매연판정1      1543914\n",
       "무부하매연판정2     14375306\n",
       "무부하매연판정3     14375352\n",
       "무부하매연판정4     15971432\n",
       "무부하매연판정5     15971432\n",
       "무부하매연판정6     15971442\n",
       "무부하매연허용치1     1543914\n",
       "무부하매연허용치2    14375306\n",
       "무부하매연허용치3    14375352\n",
       "무부하매연허용치4    15971432\n",
       "무부하매연허용치5    15971432\n",
       "무부하매연허용치6    15971442\n",
       "무부하매연측정치1     1543914\n",
       "무부하매연측정치2    14375306\n",
       "무부하매연측정치3    14375306\n",
       "무부하매연측정치4    15971432\n",
       "무부하매연측정치5    15971432\n",
       "무부하매연측정치6    15971432\n",
       "차량용도                0\n",
       "최대출력허용치      22006426\n",
       "최대출력측정값      22006426\n",
       "검사접수번호              0\n",
       "검사소명                0\n",
       "재검사기간               0\n",
       "dtype: int64"
      ]
     },
     "execution_count": 10,
     "metadata": {},
     "output_type": "execute_result"
    }
   ],
   "source": [
    "ins.isnull().sum()"
   ]
  },
  {
   "cell_type": "markdown",
   "metadata": {},
   "source": [
    "## 사용연료"
   ]
  },
  {
   "cell_type": "code",
   "execution_count": null,
   "metadata": {},
   "outputs": [
    {
     "data": {
      "text/plain": [
       "array(['경유', '휘발유(무연)', '엘피지', '휘발유', 'CNG', '하이브리드(휘발유+전기)',\n",
       "       '하이브리드(LPG+전기)', '전기', nan, '기타연료', '하이브리드(CNG+전기)', 'HE(수소전기)',\n",
       "       '하이브리드(경유+전기)', '휘발유(유연)', 'LNG', '태양열'], dtype=object)"
      ]
     },
     "metadata": {},
     "output_type": "display_data"
    }
   ],
   "source": [
    "ins['사용연료'].unique()"
   ]
  },
  {
   "cell_type": "code",
   "execution_count": null,
   "metadata": {},
   "outputs": [
    {
     "data": {
      "text/html": [
       "<div>\n",
       "<style scoped>\n",
       "    .dataframe tbody tr th:only-of-type {\n",
       "        vertical-align: middle;\n",
       "    }\n",
       "\n",
       "    .dataframe tbody tr th {\n",
       "        vertical-align: top;\n",
       "    }\n",
       "\n",
       "    .dataframe thead th {\n",
       "        text-align: right;\n",
       "    }\n",
       "</style>\n",
       "<table border=\"1\" class=\"dataframe\">\n",
       "  <thead>\n",
       "    <tr style=\"text-align: right;\">\n",
       "      <th></th>\n",
       "      <th>사용연료</th>\n",
       "      <th>차명</th>\n",
       "    </tr>\n",
       "  </thead>\n",
       "  <tbody>\n",
       "    <tr>\n",
       "      <th>399</th>\n",
       "      <td>NaN</td>\n",
       "      <td>한특20피트컨테이너샤시</td>\n",
       "    </tr>\n",
       "    <tr>\n",
       "      <th>414</th>\n",
       "      <td>NaN</td>\n",
       "      <td>인정20톤로우베드트레일러</td>\n",
       "    </tr>\n",
       "    <tr>\n",
       "      <th>755</th>\n",
       "      <td>NaN</td>\n",
       "      <td>한특40피트컨테이너샤시</td>\n",
       "    </tr>\n",
       "    <tr>\n",
       "      <th>1109</th>\n",
       "      <td>NaN</td>\n",
       "      <td>인정32㎥벌크트레일러</td>\n",
       "    </tr>\n",
       "    <tr>\n",
       "      <th>1175</th>\n",
       "      <td>NaN</td>\n",
       "      <td>JY카고트레일러</td>\n",
       "    </tr>\n",
       "  </tbody>\n",
       "</table>\n",
       "</div>"
      ],
      "text/plain": [
       "     사용연료             차명\n",
       "399   NaN   한특20피트컨테이너샤시\n",
       "414   NaN  인정20톤로우베드트레일러\n",
       "755   NaN   한특40피트컨테이너샤시\n",
       "1109  NaN    인정32㎥벌크트레일러\n",
       "1175  NaN       JY카고트레일러"
      ]
     },
     "metadata": {},
     "output_type": "display_data"
    }
   ],
   "source": [
    "ins.loc[ins['사용연료'].isnull() == True, ['사용연료', '차명']].head()"
   ]
  },
  {
   "cell_type": "code",
   "execution_count": null,
   "metadata": {},
   "outputs": [
    {
     "data": {
      "text/html": [
       "<div>\n",
       "<style scoped>\n",
       "    .dataframe tbody tr th:only-of-type {\n",
       "        vertical-align: middle;\n",
       "    }\n",
       "\n",
       "    .dataframe tbody tr th {\n",
       "        vertical-align: top;\n",
       "    }\n",
       "\n",
       "    .dataframe thead th {\n",
       "        text-align: right;\n",
       "    }\n",
       "</style>\n",
       "<table border=\"1\" class=\"dataframe\">\n",
       "  <thead>\n",
       "    <tr style=\"text-align: right;\">\n",
       "      <th></th>\n",
       "      <th>사용연료</th>\n",
       "      <th>차명</th>\n",
       "    </tr>\n",
       "  </thead>\n",
       "  <tbody>\n",
       "    <tr>\n",
       "      <th>16080</th>\n",
       "      <td>NaN</td>\n",
       "      <td>한특15M슬라이드 사이드티핑 평판트레일러</td>\n",
       "    </tr>\n",
       "    <tr>\n",
       "      <th>16175</th>\n",
       "      <td>NaN</td>\n",
       "      <td>두성40피트평판트레일러</td>\n",
       "    </tr>\n",
       "    <tr>\n",
       "      <th>16324</th>\n",
       "      <td>NaN</td>\n",
       "      <td>대한평판트레일러</td>\n",
       "    </tr>\n",
       "    <tr>\n",
       "      <th>16390</th>\n",
       "      <td>NaN</td>\n",
       "      <td>케스보러 콤비트레일러</td>\n",
       "    </tr>\n",
       "    <tr>\n",
       "      <th>16395</th>\n",
       "      <td>NaN</td>\n",
       "      <td>현대20/40피트콤보샤시</td>\n",
       "    </tr>\n",
       "    <tr>\n",
       "      <th>16439</th>\n",
       "      <td>NaN</td>\n",
       "      <td>한특15M슬라이드 사이드티핑 평판트레일러</td>\n",
       "    </tr>\n",
       "    <tr>\n",
       "      <th>16780</th>\n",
       "      <td>NaN</td>\n",
       "      <td>미래40피트콤비네이션콘테이너샤시</td>\n",
       "    </tr>\n",
       "    <tr>\n",
       "      <th>16824</th>\n",
       "      <td>NaN</td>\n",
       "      <td>우주슬라이딩평판트레일러</td>\n",
       "    </tr>\n",
       "    <tr>\n",
       "      <th>16969</th>\n",
       "      <td>NaN</td>\n",
       "      <td>대흥가변식저상트레일러</td>\n",
       "    </tr>\n",
       "    <tr>\n",
       "      <th>17356</th>\n",
       "      <td>NaN</td>\n",
       "      <td>현대차량 수송트레일러</td>\n",
       "    </tr>\n",
       "  </tbody>\n",
       "</table>\n",
       "</div>"
      ],
      "text/plain": [
       "      사용연료                      차명\n",
       "16080  NaN  한특15M슬라이드 사이드티핑 평판트레일러\n",
       "16175  NaN            두성40피트평판트레일러\n",
       "16324  NaN                대한평판트레일러\n",
       "16390  NaN             케스보러 콤비트레일러\n",
       "16395  NaN           현대20/40피트콤보샤시\n",
       "16439  NaN  한특15M슬라이드 사이드티핑 평판트레일러\n",
       "16780  NaN       미래40피트콤비네이션콘테이너샤시\n",
       "16824  NaN            우주슬라이딩평판트레일러\n",
       "16969  NaN             대흥가변식저상트레일러\n",
       "17356  NaN             현대차량 수송트레일러"
      ]
     },
     "metadata": {},
     "output_type": "display_data"
    }
   ],
   "source": [
    "ins.loc[ins['사용연료'].isnull() == True, ['사용연료', '차명']].iloc[50:60]"
   ]
  },
  {
   "cell_type": "markdown",
   "metadata": {},
   "source": [
    "## 차명"
   ]
  },
  {
   "cell_type": "code",
   "execution_count": null,
   "metadata": {},
   "outputs": [
    {
     "data": {
      "text/plain": [
       "0"
      ]
     },
     "metadata": {},
     "output_type": "display_data"
    }
   ],
   "source": [
    "ins['차명'].isnull().sum()"
   ]
  },
  {
   "cell_type": "markdown",
   "metadata": {},
   "source": [
    "## 차량번호"
   ]
  },
  {
   "cell_type": "code",
   "execution_count": null,
   "metadata": {},
   "outputs": [
    {
     "data": {
      "text/plain": [
       "0"
      ]
     },
     "metadata": {},
     "output_type": "display_data"
    }
   ],
   "source": [
    "ins['차량번호'].isnull().sum()"
   ]
  },
  {
   "cell_type": "code",
   "execution_count": null,
   "metadata": {},
   "outputs": [
    {
     "data": {
      "text/plain": [
       "array(['86마9529', '10주0782', '28호4612', ..., '22부1779', '48가4902',\n",
       "       '28오6600'], dtype=object)"
      ]
     },
     "metadata": {},
     "output_type": "display_data"
    }
   ],
   "source": [
    "ins['차량번호'].unique()"
   ]
  },
  {
   "cell_type": "code",
   "execution_count": null,
   "metadata": {},
   "outputs": [
    {
     "name": "stderr",
     "output_type": "stream",
     "text": [
      "100%|██████████| 22006426/22006426 [00:27<00:00, 791943.15it/s]\n"
     ]
    },
    {
     "data": {
      "text/plain": [
       "312"
      ]
     },
     "metadata": {},
     "output_type": "display_data"
    }
   ],
   "source": [
    "p1 = re.compile('[가-힣]{2}[0-9]{1,2}[가-힣]{1}[0-9]{4}')\n",
    "p2 = re.compile('[0-9]{2,3}[가-힣]{1}[0-9]{4}')\n",
    "wrong_vhrno_list = []\n",
    "for one in tqdm(ins['차량번호']):\n",
    "    if not p1.search(str(one)) and not p2.search(str(one)):\n",
    "        wrong_vhrno_list.append(one)\n",
    "len(wrong_vhrno_list)"
   ]
  },
  {
   "cell_type": "code",
   "execution_count": null,
   "metadata": {},
   "outputs": [
    {
     "data": {
      "text/plain": [
       "['#4조2591', '#5러4748', '#8나1304', '#8나1304', '#5러4748']"
      ]
     },
     "metadata": {},
     "output_type": "display_data"
    }
   ],
   "source": [
    "wrong_vhrno_list[:5]"
   ]
  },
  {
   "cell_type": "code",
   "execution_count": null,
   "metadata": {},
   "outputs": [
    {
     "data": {
      "text/plain": [
       "['#0두0223', '#0두0223', '#0두0223', '#0두0223', '#0두0223']"
      ]
     },
     "metadata": {},
     "output_type": "display_data"
    }
   ],
   "source": [
    "wrong_vhrno_list[-5:]"
   ]
  },
  {
   "cell_type": "markdown",
   "metadata": {},
   "source": [
    "## 차대번호"
   ]
  },
  {
   "cell_type": "code",
   "execution_count": null,
   "metadata": {},
   "outputs": [
    {
     "data": {
      "text/plain": [
       "{9, 10, 11, 12, 13, 14, 15, 16, 17}"
      ]
     },
     "metadata": {},
     "output_type": "display_data"
    }
   ],
   "source": [
    "vin_temp = ins['차대번호'].str.len()\n",
    "set(vin_temp.unique())"
   ]
  },
  {
   "cell_type": "code",
   "execution_count": null,
   "metadata": {},
   "outputs": [
    {
     "name": "stdout",
     "output_type": "stream",
     "text": [
      "차대번호 길이 : 9\n",
      "(10,)\n"
     ]
    },
    {
     "data": {
      "text/plain": [
       "1801869     CN67C4394\n",
       "5139662     CN67C4394\n",
       "7746532     410133836\n",
       "9076446     CN67C4394\n",
       "11788799    CN67C4394\n",
       "Name: 차대번호, dtype: object"
      ]
     },
     "metadata": {},
     "output_type": "display_data"
    },
    {
     "name": "stdout",
     "output_type": "stream",
     "text": [
      "\n",
      "차대번호 길이 : 10\n",
      "(4,)\n"
     ]
    },
    {
     "data": {
      "text/plain": [
       "431260      PN71C02663\n",
       "5403985     0384200247\n",
       "5406660     0384200247\n",
       "16505232    0384200247\n",
       "Name: 차대번호, dtype: object"
      ]
     },
     "metadata": {},
     "output_type": "display_data"
    },
    {
     "name": "stdout",
     "output_type": "stream",
     "text": [
      "\n",
      "차대번호 길이 : 11\n",
      "(2361,)\n"
     ]
    },
    {
     "data": {
      "text/plain": [
       "8848     03794281708\n",
       "20931    SL65C018549\n",
       "44515    03441290865\n",
       "57847    13824280013\n",
       "72681    KB42C005456\n",
       "Name: 차대번호, dtype: object"
      ]
     },
     "metadata": {},
     "output_type": "display_data"
    },
    {
     "name": "stdout",
     "output_type": "stream",
     "text": [
      "\n",
      "차대번호 길이 : 12\n",
      "(18354,)\n"
     ]
    },
    {
     "data": {
      "text/plain": [
       "28      280134307741\n",
       "29      280134307741\n",
       "1451    459934212800\n",
       "2056    280234309255\n",
       "2551    119511314745\n",
       "Name: 차대번호, dtype: object"
      ]
     },
     "metadata": {},
     "output_type": "display_data"
    },
    {
     "name": "stdout",
     "output_type": "stream",
     "text": [
      "\n",
      "차대번호 길이 : 13\n",
      "(366,)\n"
     ]
    },
    {
     "data": {
      "text/plain": [
       "66211     449534309321공\n",
       "83033     119213302179다\n",
       "222382    440234312451홍\n",
       "224294    440034310731홍\n",
       "285371    12884200042대구\n",
       "Name: 차대번호, dtype: object"
      ]
     },
     "metadata": {},
     "output_type": "display_data"
    },
    {
     "name": "stdout",
     "output_type": "stream",
     "text": [
      "\n",
      "차대번호 길이 : 14\n",
      "(49,)\n"
     ]
    },
    {
     "data": {
      "text/plain": [
       "552115     119034200158대서\n",
       "582482     SL-67-C-031396\n",
       "759291     07901201490대전주\n",
       "1016366    21019046300155\n",
       "1019801    21019046300155\n",
       "Name: 차대번호, dtype: object"
      ]
     },
     "metadata": {},
     "output_type": "display_data"
    },
    {
     "name": "stdout",
     "output_type": "stream",
     "text": [
      "\n",
      "차대번호 길이 : 15\n",
      "(229,)\n"
     ]
    },
    {
     "data": {
      "text/plain": [
       "189796    45-02-342-13802\n",
       "261708    44-98-342-94358\n",
       "296621    41-98-342-98049\n",
       "298578    43-02-342-04566\n",
       "298579    43-02-342-04566\n",
       "Name: 차대번호, dtype: object"
      ]
     },
     "metadata": {},
     "output_type": "display_data"
    },
    {
     "name": "stdout",
     "output_type": "stream",
     "text": [
      "\n",
      "차대번호 길이 : 16\n",
      "(245,)\n"
     ]
    },
    {
     "data": {
      "text/plain": [
       "204150    KLYKA84D7C289437\n",
       "346928    KMHDC51DP9163835\n",
       "358233    11-94-342-10012가\n",
       "358234    11-94-342-10012가\n",
       "374613    KMHBU51D9U891793\n",
       "Name: 차대번호, dtype: object"
      ]
     },
     "metadata": {},
     "output_type": "display_data"
    },
    {
     "name": "stdout",
     "output_type": "stream",
     "text": [
      "\n",
      "차대번호 길이 : 17\n",
      "(21984808,)\n"
     ]
    },
    {
     "data": {
      "text/plain": [
       "0    KNCWJX76AGK038342\n",
       "1    KMHFF41CBDA233234\n",
       "2    KNAGN418BFA579667\n",
       "3    KNFSTZ76AJK245830\n",
       "4    KMFWBX7KBJU977503\n",
       "Name: 차대번호, dtype: object"
      ]
     },
     "metadata": {},
     "output_type": "display_data"
    },
    {
     "name": "stdout",
     "output_type": "stream",
     "text": [
      "\n"
     ]
    },
    {
     "data": {
      "text/plain": [
       "22006426"
      ]
     },
     "metadata": {},
     "output_type": "display_data"
    }
   ],
   "source": [
    "count = 0\n",
    "for one in set(vin_temp.unique()):\n",
    "    temp = ins.loc[ins['차대번호'].str.len() == one, '차대번호']\n",
    "    count += temp.shape[0]\n",
    "    print(f'차대번호 길이 : {one}')\n",
    "    print(temp.shape)\n",
    "    display(temp.head())\n",
    "    print()\n",
    "count"
   ]
  },
  {
   "cell_type": "code",
   "execution_count": null,
   "metadata": {},
   "outputs": [
    {
     "data": {
      "text/plain": [
       "0"
      ]
     },
     "metadata": {},
     "output_type": "display_data"
    }
   ],
   "source": [
    "len_17_wrong_text_idx = []\n",
    "p = re.compile('[ㄱ-ㅎ|ㅏ-ㅣ|가-힣]')\n",
    "for i, one in enumerate(ins['차대번호']):\n",
    "    if len(str(one)) == 17 and p.search(str(one)):\n",
    "        len_17_wrong_text_idx.append(i)\n",
    "len(len_17_wrong_text_idx)"
   ]
  },
  {
   "cell_type": "code",
   "execution_count": null,
   "metadata": {},
   "outputs": [
    {
     "data": {
      "text/plain": [
       "Series([], Name: 차대번호, dtype: object)"
      ]
     },
     "metadata": {},
     "output_type": "display_data"
    }
   ],
   "source": [
    "ins.loc[len_17_wrong_text_idx, '차대번호'].head()"
   ]
  },
  {
   "cell_type": "markdown",
   "metadata": {},
   "source": [
    "## 차종"
   ]
  },
  {
   "cell_type": "code",
   "execution_count": null,
   "metadata": {},
   "outputs": [
    {
     "data": {
      "text/plain": [
       "0"
      ]
     },
     "metadata": {},
     "output_type": "display_data"
    }
   ],
   "source": [
    "ins['차종'].isnull().sum()"
   ]
  },
  {
   "cell_type": "code",
   "execution_count": null,
   "metadata": {},
   "outputs": [
    {
     "data": {
      "text/plain": [
       "array(['화물차일반형중형', '승용차일반형대형', '승용차일반형중형', '화물차특수용도형소형', '화물차밴형소형',\n",
       "       '화물차일반형소형', '승용차다목적형대형', '승용차일반형경형', '승합차일반형중형', '특수차특수작업형소형',\n",
       "       '승용차기타형중형', '화물차일반형대형', '화물차특수용도형대형', '승용차기타형대형', '승용차다목적형중형',\n",
       "       '승용차일반형소형', '승합차일반형대형', '화물차밴형경형', '화물차일반형경형', '특수차구난형소형',\n",
       "       '특수차견인형대형', '화물차밴형중형', '화물차덤프형대형', '화물차덤프형소형', '특수차특수작업형중형',\n",
       "       '화물차특수용도형중형', '화물차덤프형중형', '승합차특수형중형', '승합차일반형경형', '화물차피견인형적재함형',\n",
       "       '화물차탱크로리형대형', '화물차피견인형저상형', '승용차겸화물형경형', '화물차특수용도형경형',\n",
       "       '화물차탱크로리형중형', '특수차특수작업형대형', '화물차피견인형샷시형', '승용차다목적형소형', '승용차겸화물형대형',\n",
       "       '특수차구난형대형', '특수차구난형중형', '화물차피견인형고상형', '승합차일반형소형', '특수차견인형소형',\n",
       "       '화물차탱크로리형경형', '승합차특수형대형', '화물차피견인형기타형', '승합차특수형소형', '화물차탱크로리형소형',\n",
       "       '승합차특수형경형', '특수차특수작업형경형', '화물차밴형대형', '특수차견인형중형', '승용차기타형경형',\n",
       "       '승용차기타형소형', '승용차겸화물형소형', '화물차덤프형경형', '승용차겸화물형중형', '특수차특수용도형중형',\n",
       "       '특수차특수용도형소형', '특수차특수용도형대형', '특수차특수용도형경형', '승용차다목적형경형'],\n",
       "      dtype=object)"
      ]
     },
     "metadata": {},
     "output_type": "display_data"
    }
   ],
   "source": [
    "ins['차종'].unique()"
   ]
  },
  {
   "cell_type": "code",
   "execution_count": null,
   "metadata": {},
   "outputs": [],
   "source": [
    "# '승용차일반형경형',\n",
    "# '승용차일반형소형',\n",
    "# '승용차일반형중형',\n",
    "# '승용차일반형대형',\n",
    "\n",
    "# '승용차겸화물형경형',\n",
    "# '승용차겸화물형소형',\n",
    "# '승용차겸화물형중형',\n",
    "# '승용차겸화물형대형',\n",
    "\n",
    "# '승용차다목적형경형',\n",
    "# '승용차다목적형소형',\n",
    "# '승용차다목적형중형',\n",
    "# '승용차다목적형대형',\n",
    "\n",
    "# '승용차기타형경형',\n",
    "# '승용차기타형소형',\n",
    "# '승용차기타형중형',\n",
    "# '승용차기타형대형',"
   ]
  },
  {
   "cell_type": "code",
   "execution_count": null,
   "metadata": {},
   "outputs": [],
   "source": [
    "# '승합차일반형경형',\n",
    "# '승합차일반형소형',\n",
    "# '승합차일반형중형',\n",
    "# '승합차일반형대형',\n",
    "\n",
    "# '승합차특수형경형',\n",
    "# '승합차특수형소형',\n",
    "# '승합차특수형중형',\n",
    "# '승합차특수형대형',"
   ]
  },
  {
   "cell_type": "code",
   "execution_count": null,
   "metadata": {},
   "outputs": [],
   "source": [
    "# '화물차일반형경형',\n",
    "# '화물차일반형소형',\n",
    "# '화물차일반형중형',\n",
    "# '화물차일반형대형',\n",
    "\n",
    "# '화물차밴형경형',\n",
    "# '화물차밴형소형',\n",
    "# '화물차밴형중형',\n",
    "# '화물차밴형대형',\n",
    "\n",
    "# '화물차덤프형경형',\n",
    "# '화물차덤프형소형',\n",
    "# '화물차덤프형중형',\n",
    "# '화물차덤프형대형',\n",
    "\n",
    "# '화물차탱크로리형경형',\n",
    "# '화물차탱크로리형소형',\n",
    "# '화물차탱크로리형중형',\n",
    "# '화물차탱크로리형대형',\n",
    "\n",
    "# '화물차피견인형저상형',\n",
    "# '화물차피견인형고상형',\n",
    "# '화물차피견인형샷시형',\n",
    "# '화물차피견인형적재함형',\n",
    "# '화물차피견인형기타형',\n",
    "\n",
    "# '화물차특수용도형경형',\n",
    "# '화물차특수용도형소형',\n",
    "# '화물차특수용도형중형',\n",
    "# '화물차특수용도형대형',"
   ]
  },
  {
   "cell_type": "code",
   "execution_count": null,
   "metadata": {},
   "outputs": [],
   "source": [
    "# '특수차특수작업형경형',\n",
    "# '특수차특수작업형소형',\n",
    "# '특수차특수작업형중형',\n",
    "# '특수차특수작업형대형',\n",
    "\n",
    "# '특수차구난형소형',\n",
    "# '특수차구난형중형',\n",
    "# '특수차구난형대형',\n",
    "\n",
    "# '특수차견인형소형',\n",
    "# '특수차견인형중형',\n",
    "# '특수차견인형대형',\n",
    "\n",
    "# '특수차특수용도형경형',\n",
    "# '특수차특수용도형소형',\n",
    "# '특수차특수용도형중형',\n",
    "# '특수차특수용도형대형',"
   ]
  },
  {
   "cell_type": "markdown",
   "metadata": {},
   "source": [
    "## 차량연식"
   ]
  },
  {
   "cell_type": "code",
   "execution_count": null,
   "metadata": {},
   "outputs": [
    {
     "data": {
      "text/plain": [
       "0"
      ]
     },
     "metadata": {},
     "output_type": "display_data"
    }
   ],
   "source": [
    "ins['차량연식'].isnull().sum()"
   ]
  },
  {
   "cell_type": "code",
   "execution_count": null,
   "metadata": {},
   "outputs": [
    {
     "data": {
      "text/plain": [
       "count   22006426.00\n",
       "mean        2013.37\n",
       "std            5.59\n",
       "min         1904.00\n",
       "25%         2010.00\n",
       "50%         2015.00\n",
       "75%         2018.00\n",
       "max         2023.00\n",
       "Name: 차량연식, dtype: float64"
      ]
     },
     "metadata": {},
     "output_type": "display_data"
    }
   ],
   "source": [
    "ins['차량연식'].describe()"
   ]
  },
  {
   "cell_type": "code",
   "execution_count": null,
   "metadata": {},
   "outputs": [
    {
     "data": {
      "text/plain": [
       "0    2016\n",
       "1    2013\n",
       "2    2015\n",
       "3    2018\n",
       "4    2018\n",
       "Name: 차량연식, dtype: int64"
      ]
     },
     "metadata": {},
     "output_type": "display_data"
    }
   ],
   "source": [
    "ins['차량연식'].head()"
   ]
  },
  {
   "cell_type": "code",
   "execution_count": null,
   "metadata": {},
   "outputs": [
    {
     "data": {
      "text/plain": [
       "0"
      ]
     },
     "metadata": {},
     "output_type": "display_data"
    }
   ],
   "source": [
    "count = 0\n",
    "for one in ins['차량연식']:\n",
    "    if len(str(one)) != 4:\n",
    "        count += 1\n",
    "count"
   ]
  },
  {
   "cell_type": "markdown",
   "metadata": {},
   "source": [
    "## 검사방법"
   ]
  },
  {
   "cell_type": "code",
   "execution_count": null,
   "metadata": {},
   "outputs": [
    {
     "data": {
      "text/plain": [
       "0"
      ]
     },
     "metadata": {},
     "output_type": "display_data"
    }
   ],
   "source": [
    "ins['검사방법'].isnull().sum()"
   ]
  },
  {
   "cell_type": "code",
   "execution_count": null,
   "metadata": {},
   "outputs": [
    {
     "data": {
      "text/plain": [
       "array(['무부하검사(급가속)', '무부하검사(TSI)', '무부하검사(정지가동)'], dtype=object)"
      ]
     },
     "metadata": {},
     "output_type": "display_data"
    }
   ],
   "source": [
    "ins['검사방법'].unique()"
   ]
  },
  {
   "cell_type": "markdown",
   "metadata": {},
   "source": [
    "## 엔진형식"
   ]
  },
  {
   "cell_type": "code",
   "execution_count": null,
   "metadata": {},
   "outputs": [
    {
     "data": {
      "text/plain": [
       "60820"
      ]
     },
     "metadata": {},
     "output_type": "display_data"
    }
   ],
   "source": [
    "ins['엔진형식'].isnull().sum()"
   ]
  },
  {
   "cell_type": "code",
   "execution_count": null,
   "metadata": {},
   "outputs": [
    {
     "data": {
      "text/html": [
       "<div>\n",
       "<style scoped>\n",
       "    .dataframe tbody tr th:only-of-type {\n",
       "        vertical-align: middle;\n",
       "    }\n",
       "\n",
       "    .dataframe tbody tr th {\n",
       "        vertical-align: top;\n",
       "    }\n",
       "\n",
       "    .dataframe thead th {\n",
       "        text-align: right;\n",
       "    }\n",
       "</style>\n",
       "<table border=\"1\" class=\"dataframe\">\n",
       "  <thead>\n",
       "    <tr style=\"text-align: right;\">\n",
       "      <th></th>\n",
       "      <th>엔진형식</th>\n",
       "      <th>차명</th>\n",
       "    </tr>\n",
       "  </thead>\n",
       "  <tbody>\n",
       "    <tr>\n",
       "      <th>399</th>\n",
       "      <td>NaN</td>\n",
       "      <td>한특20피트컨테이너샤시</td>\n",
       "    </tr>\n",
       "    <tr>\n",
       "      <th>414</th>\n",
       "      <td>NaN</td>\n",
       "      <td>인정20톤로우베드트레일러</td>\n",
       "    </tr>\n",
       "    <tr>\n",
       "      <th>755</th>\n",
       "      <td>NaN</td>\n",
       "      <td>한특40피트컨테이너샤시</td>\n",
       "    </tr>\n",
       "    <tr>\n",
       "      <th>1569</th>\n",
       "      <td>NaN</td>\n",
       "      <td>케스보러 콤비트레일러</td>\n",
       "    </tr>\n",
       "    <tr>\n",
       "      <th>2586</th>\n",
       "      <td>NaN</td>\n",
       "      <td>한특40피트콤비네이션샤시</td>\n",
       "    </tr>\n",
       "  </tbody>\n",
       "</table>\n",
       "</div>"
      ],
      "text/plain": [
       "     엔진형식             차명\n",
       "399   NaN   한특20피트컨테이너샤시\n",
       "414   NaN  인정20톤로우베드트레일러\n",
       "755   NaN   한특40피트컨테이너샤시\n",
       "1569  NaN    케스보러 콤비트레일러\n",
       "2586  NaN  한특40피트콤비네이션샤시"
      ]
     },
     "metadata": {},
     "output_type": "display_data"
    }
   ],
   "source": [
    "ins.loc[ins['엔진형식'].isnull() == True, ['엔진형식', '차명']].head()"
   ]
  },
  {
   "cell_type": "code",
   "execution_count": null,
   "metadata": {},
   "outputs": [],
   "source": []
  },
  {
   "cell_type": "markdown",
   "metadata": {},
   "source": [
    "## 정기검사일자"
   ]
  },
  {
   "cell_type": "code",
   "execution_count": null,
   "metadata": {},
   "outputs": [
    {
     "data": {
      "text/plain": [
       "Index(['사용연료', '주행거리', '차명', '차량번호', '차대번호', '차종', '차량연식', '엔진형식', '검사방법',\n",
       "       '검사일자', '검사종류', '검사판정시각', '검사판정', '산소값', '이산화탄소값', '무부하매연판정1',\n",
       "       '무부하매연판정2', '무부하매연판정3', '무부하매연판정4', '무부하매연판정5', '무부하매연판정6', '무부하매연허용치1',\n",
       "       '무부하매연허용치2', '무부하매연허용치3', '무부하매연허용치4', '무부하매연허용치5', '무부하매연허용치6',\n",
       "       '무부하매연측정치1', '무부하매연측정치2', '무부하매연측정치3', '무부하매연측정치4', '무부하매연측정치5',\n",
       "       '무부하매연측정치6', '차량용도', '최대출력허용치', '최대출력측정값', '검사접수번호', '검사소명', '재검사기간'],\n",
       "      dtype='object')"
      ]
     },
     "metadata": {},
     "output_type": "display_data"
    }
   ],
   "source": [
    "ins.columns"
   ]
  },
  {
   "cell_type": "code",
   "execution_count": null,
   "metadata": {},
   "outputs": [
    {
     "data": {
      "text/plain": [
       "0"
      ]
     },
     "metadata": {},
     "output_type": "display_data"
    }
   ],
   "source": [
    "ins['검사일자'].isnull().sum()"
   ]
  },
  {
   "cell_type": "code",
   "execution_count": null,
   "metadata": {},
   "outputs": [
    {
     "data": {
      "text/plain": [
       "array([20190102, 20190103, 20190104, ..., 20221230, 20221231, 20230102],\n",
       "      dtype=int64)"
      ]
     },
     "metadata": {},
     "output_type": "display_data"
    }
   ],
   "source": [
    "ins['검사일자'].unique()"
   ]
  },
  {
   "cell_type": "code",
   "execution_count": null,
   "metadata": {},
   "outputs": [
    {
     "data": {
      "text/plain": [
       "0"
      ]
     },
     "metadata": {},
     "output_type": "display_data"
    }
   ],
   "source": [
    "count = 0\n",
    "for one in ins['검사일자']:\n",
    "    if len(str(one)) != 8:\n",
    "        count += 1\n",
    "count"
   ]
  },
  {
   "cell_type": "markdown",
   "metadata": {},
   "source": [
    "## 검사종류"
   ]
  },
  {
   "cell_type": "code",
   "execution_count": null,
   "metadata": {},
   "outputs": [
    {
     "data": {
      "text/plain": [
       "0"
      ]
     },
     "metadata": {},
     "output_type": "display_data"
    }
   ],
   "source": [
    "ins['검사종류'].isnull().sum()"
   ]
  },
  {
   "cell_type": "code",
   "execution_count": null,
   "metadata": {},
   "outputs": [
    {
     "data": {
      "text/plain": [
       "array(['정기검사', '재검사(1부재검사)', '정기(경과)검사', '재검사(2부재검사)'], dtype=object)"
      ]
     },
     "metadata": {},
     "output_type": "display_data"
    }
   ],
   "source": [
    "ins['검사종류'].unique()"
   ]
  },
  {
   "attachments": {},
   "cell_type": "markdown",
   "metadata": {},
   "source": [
    "# 26\\. 정기검사 검사소정보"
   ]
  },
  {
   "cell_type": "code",
   "execution_count": 91,
   "metadata": {},
   "outputs": [
    {
     "name": "stdout",
     "output_type": "stream",
     "text": [
      "<class 'pandas.core.frame.DataFrame'>\n",
      "RangeIndex: 1961 entries, 0 to 1960\n",
      "Data columns (total 4 columns):\n",
      " #   Column    Non-Null Count  Dtype \n",
      "---  ------    --------------  ----- \n",
      " 0   VIO_CD    1961 non-null   object\n",
      " 1   VIO_NM    1961 non-null   object\n",
      " 2   VIO_TYPE  1961 non-null   int64 \n",
      " 3   SIDO_NM   1961 non-null   object\n",
      "dtypes: int64(1), object(3)\n",
      "memory usage: 61.4+ KB\n"
     ]
    }
   ],
   "source": [
    "name = 'TB_JGT_VIO'\n",
    "file_name = f'ODS_{name}.csv'\n",
    "jgt_vio = pd.read_csv(os.path.join(ods_fold, file_name), low_memory=False)\n",
    "jgt_vio.info()"
   ]
  },
  {
   "cell_type": "code",
   "execution_count": 92,
   "metadata": {},
   "outputs": [
    {
     "data": {
      "text/plain": [
       "Index(['검사소코드', '검사소명', '검사소구분', '시도명'], dtype='object')"
      ]
     },
     "execution_count": 92,
     "metadata": {},
     "output_type": "execute_result"
    }
   ],
   "source": [
    "file_name = f'[정제]{name}.xlsx'\n",
    "col_df = pd.read_excel(os.path.join(col_fold, file_name), sheet_name='ODS_col')\n",
    "col_dict = {a:b for a,b in col_df[['컬럼', '내용']].values}\n",
    "jgt_vio.columns = [col_dict[x] for x in jgt_vio.columns]\n",
    "jgt_vio.columns"
   ]
  },
  {
   "cell_type": "code",
   "execution_count": 93,
   "metadata": {},
   "outputs": [],
   "source": [
    "jgt_vio1 = jgt_vio[['검사소코드', '검사소명', '검사소구분', '시도명']]"
   ]
  },
  {
   "cell_type": "code",
   "execution_count": 94,
   "metadata": {},
   "outputs": [
    {
     "data": {
      "text/plain": [
       "검사소코드    0\n",
       "검사소명     0\n",
       "검사소구분    0\n",
       "시도명      0\n",
       "dtype: int64"
      ]
     },
     "execution_count": 94,
     "metadata": {},
     "output_type": "execute_result"
    }
   ],
   "source": [
    "jgt_vio1.isnull().sum()"
   ]
  },
  {
   "cell_type": "code",
   "execution_count": 95,
   "metadata": {},
   "outputs": [
    {
     "data": {
      "text/html": [
       "<div>\n",
       "<style scoped>\n",
       "    .dataframe tbody tr th:only-of-type {\n",
       "        vertical-align: middle;\n",
       "    }\n",
       "\n",
       "    .dataframe tbody tr th {\n",
       "        vertical-align: top;\n",
       "    }\n",
       "\n",
       "    .dataframe thead th {\n",
       "        text-align: right;\n",
       "    }\n",
       "</style>\n",
       "<table border=\"1\" class=\"dataframe\">\n",
       "  <thead>\n",
       "    <tr style=\"text-align: right;\">\n",
       "      <th></th>\n",
       "      <th>컬럼명</th>\n",
       "      <th>내용</th>\n",
       "      <th>결측 값</th>\n",
       "    </tr>\n",
       "  </thead>\n",
       "  <tbody>\n",
       "    <tr>\n",
       "      <th>0</th>\n",
       "      <td>SIDO_NM</td>\n",
       "      <td>시도명</td>\n",
       "      <td>0</td>\n",
       "    </tr>\n",
       "    <tr>\n",
       "      <th>1</th>\n",
       "      <td>VIO_TYPE</td>\n",
       "      <td>검사소구분</td>\n",
       "      <td>0</td>\n",
       "    </tr>\n",
       "    <tr>\n",
       "      <th>2</th>\n",
       "      <td>VIO_CD</td>\n",
       "      <td>검사소코드</td>\n",
       "      <td>0</td>\n",
       "    </tr>\n",
       "    <tr>\n",
       "      <th>3</th>\n",
       "      <td>VIO_NM</td>\n",
       "      <td>검사소명</td>\n",
       "      <td>0</td>\n",
       "    </tr>\n",
       "  </tbody>\n",
       "</table>\n",
       "</div>"
      ],
      "text/plain": [
       "        컬럼명     내용  결측 값\n",
       "0   SIDO_NM    시도명     0\n",
       "1  VIO_TYPE  검사소구분     0\n",
       "2    VIO_CD  검사소코드     0\n",
       "3    VIO_NM   검사소명     0"
      ]
     },
     "execution_count": 95,
     "metadata": {},
     "output_type": "execute_result"
    }
   ],
   "source": [
    "col = pd.DataFrame(col_dict, index=['내용']).T.reset_index()\n",
    "col.columns = ['컬럼명', '내용']\n",
    "nul = jgt_vio1.isnull().sum().reset_index()\n",
    "nul.columns = ['내용', '결측 값']\n",
    "col2 = col.merge(nul, on='내용', how='left')\n",
    "col2"
   ]
  },
  {
   "attachments": {},
   "cell_type": "markdown",
   "metadata": {},
   "source": [
    "# 27\\. 자동차 검사소정보"
   ]
  },
  {
   "cell_type": "code",
   "execution_count": 96,
   "metadata": {},
   "outputs": [
    {
     "name": "stdout",
     "output_type": "stream",
     "text": [
      "<class 'pandas.core.frame.DataFrame'>\n",
      "RangeIndex: 1045 entries, 0 to 1044\n",
      "Data columns (total 28 columns):\n",
      " #   Column      Non-Null Count  Dtype  \n",
      "---  ------      --------------  -----  \n",
      " 0   VIO_CD      1045 non-null   object \n",
      " 1   VIO_NM      1045 non-null   object \n",
      " 2   VIO_TYPE    1045 non-null   int64  \n",
      " 3   RECV_DATE   134 non-null    float64\n",
      " 4   CONF_DATE   134 non-null    float64\n",
      " 5   BIZ_YN      1045 non-null   object \n",
      " 6   J_YN        1044 non-null   object \n",
      " 7   G_YN        219 non-null    object \n",
      " 8   S_YN        353 non-null    object \n",
      " 9   H_YN        387 non-null    object \n",
      " 10  SIDO_CD     1045 non-null   int64  \n",
      " 11  SIGUNGU_CD  1043 non-null   float64\n",
      " 12  SIDO_NM     1045 non-null   object \n",
      " 13  SIGUNGU_NM  1044 non-null   object \n",
      " 14  TEL_NO      435 non-null    object \n",
      " 15  POST_NO     428 non-null    object \n",
      " 16  ADDR1       1045 non-null   object \n",
      " 17  ADDR2       217 non-null    object \n",
      " 18  X_COORD     1045 non-null   int64  \n",
      " 19  Y_COORD     1045 non-null   int64  \n",
      " 20  ORG_ID      317 non-null    object \n",
      " 21  DO_VIO_CD   37 non-null     object \n",
      " 22  KECO_S_YN   1022 non-null   object \n",
      " 23  REC_DATE    1045 non-null   object \n",
      " 24  REC_NM      1045 non-null   object \n",
      " 25  CHG_DATE    1045 non-null   object \n",
      " 26  CHG_NM      1045 non-null   object \n",
      " 27  T_YN        24 non-null     object \n",
      "dtypes: float64(3), int64(4), object(21)\n",
      "memory usage: 228.7+ KB\n"
     ]
    }
   ],
   "source": [
    "name = 'TB_MECAR_VIO'\n",
    "file_name = f'ODS_{name}.csv'\n",
    "mecar_vio = pd.read_csv(os.path.join(ods_fold, file_name), low_memory=False)\n",
    "mecar_vio.info()"
   ]
  },
  {
   "cell_type": "code",
   "execution_count": 97,
   "metadata": {},
   "outputs": [
    {
     "data": {
      "text/plain": [
       "Index(['검사소코드', '검사소명', '검사소구분', '미정', '미정', '미정', '미정', '미정', '미정', '미정',\n",
       "       '미정', '미정', '시도명', '미정', '미정', '미정', '미정', '미정', '미정', '미정', '미정', '미정',\n",
       "       '미정', '미정', '미정', '미정', '미정', '미정'],\n",
       "      dtype='object')"
      ]
     },
     "execution_count": 97,
     "metadata": {},
     "output_type": "execute_result"
    }
   ],
   "source": [
    "file_name = f'[정제]{name}.xlsx'\n",
    "col_df = pd.read_excel(os.path.join(col_fold, file_name), sheet_name='ODS_col')\n",
    "col_dict = {a:b for a,b in col_df[['컬럼', '내용']].values}\n",
    "mecar_vio.columns = [col_dict[x] for x in mecar_vio.columns]\n",
    "mecar_vio.columns"
   ]
  },
  {
   "cell_type": "code",
   "execution_count": 98,
   "metadata": {},
   "outputs": [],
   "source": [
    "mecar_vio1 = mecar_vio[['검사소코드', '검사소명', '검사소구분', '시도명']]"
   ]
  },
  {
   "cell_type": "code",
   "execution_count": 99,
   "metadata": {},
   "outputs": [
    {
     "data": {
      "text/plain": [
       "검사소코드    0\n",
       "검사소명     0\n",
       "검사소구분    0\n",
       "시도명      0\n",
       "dtype: int64"
      ]
     },
     "execution_count": 99,
     "metadata": {},
     "output_type": "execute_result"
    }
   ],
   "source": [
    "mecar_vio1.isnull().sum()"
   ]
  },
  {
   "cell_type": "code",
   "execution_count": 100,
   "metadata": {},
   "outputs": [
    {
     "data": {
      "text/html": [
       "<div>\n",
       "<style scoped>\n",
       "    .dataframe tbody tr th:only-of-type {\n",
       "        vertical-align: middle;\n",
       "    }\n",
       "\n",
       "    .dataframe tbody tr th {\n",
       "        vertical-align: top;\n",
       "    }\n",
       "\n",
       "    .dataframe thead th {\n",
       "        text-align: right;\n",
       "    }\n",
       "</style>\n",
       "<table border=\"1\" class=\"dataframe\">\n",
       "  <thead>\n",
       "    <tr style=\"text-align: right;\">\n",
       "      <th></th>\n",
       "      <th>컬럼명</th>\n",
       "      <th>내용</th>\n",
       "      <th>결측 값</th>\n",
       "    </tr>\n",
       "  </thead>\n",
       "  <tbody>\n",
       "    <tr>\n",
       "      <th>0</th>\n",
       "      <td>VIO_NM</td>\n",
       "      <td>검사소명</td>\n",
       "      <td>0.00</td>\n",
       "    </tr>\n",
       "    <tr>\n",
       "      <th>1</th>\n",
       "      <td>VIO_CD</td>\n",
       "      <td>검사소코드</td>\n",
       "      <td>0.00</td>\n",
       "    </tr>\n",
       "    <tr>\n",
       "      <th>2</th>\n",
       "      <td>SIDO_NM</td>\n",
       "      <td>시도명</td>\n",
       "      <td>0.00</td>\n",
       "    </tr>\n",
       "    <tr>\n",
       "      <th>3</th>\n",
       "      <td>VIO_TYPE</td>\n",
       "      <td>검사소구분</td>\n",
       "      <td>0.00</td>\n",
       "    </tr>\n",
       "    <tr>\n",
       "      <th>4</th>\n",
       "      <td>RECV_DATE</td>\n",
       "      <td>미정</td>\n",
       "      <td>NaN</td>\n",
       "    </tr>\n",
       "    <tr>\n",
       "      <th>5</th>\n",
       "      <td>CONF_DATE</td>\n",
       "      <td>미정</td>\n",
       "      <td>NaN</td>\n",
       "    </tr>\n",
       "    <tr>\n",
       "      <th>6</th>\n",
       "      <td>BIZ_YN</td>\n",
       "      <td>미정</td>\n",
       "      <td>NaN</td>\n",
       "    </tr>\n",
       "    <tr>\n",
       "      <th>7</th>\n",
       "      <td>J_YN</td>\n",
       "      <td>미정</td>\n",
       "      <td>NaN</td>\n",
       "    </tr>\n",
       "    <tr>\n",
       "      <th>8</th>\n",
       "      <td>G_YN</td>\n",
       "      <td>미정</td>\n",
       "      <td>NaN</td>\n",
       "    </tr>\n",
       "    <tr>\n",
       "      <th>9</th>\n",
       "      <td>S_YN</td>\n",
       "      <td>미정</td>\n",
       "      <td>NaN</td>\n",
       "    </tr>\n",
       "    <tr>\n",
       "      <th>10</th>\n",
       "      <td>H_YN</td>\n",
       "      <td>미정</td>\n",
       "      <td>NaN</td>\n",
       "    </tr>\n",
       "    <tr>\n",
       "      <th>11</th>\n",
       "      <td>SIDO_CD</td>\n",
       "      <td>미정</td>\n",
       "      <td>NaN</td>\n",
       "    </tr>\n",
       "    <tr>\n",
       "      <th>12</th>\n",
       "      <td>SIGUNGU_CD</td>\n",
       "      <td>미정</td>\n",
       "      <td>NaN</td>\n",
       "    </tr>\n",
       "    <tr>\n",
       "      <th>13</th>\n",
       "      <td>SIGUNGU_NM</td>\n",
       "      <td>미정</td>\n",
       "      <td>NaN</td>\n",
       "    </tr>\n",
       "    <tr>\n",
       "      <th>14</th>\n",
       "      <td>TEL_NO</td>\n",
       "      <td>미정</td>\n",
       "      <td>NaN</td>\n",
       "    </tr>\n",
       "    <tr>\n",
       "      <th>15</th>\n",
       "      <td>POST_NO</td>\n",
       "      <td>미정</td>\n",
       "      <td>NaN</td>\n",
       "    </tr>\n",
       "    <tr>\n",
       "      <th>16</th>\n",
       "      <td>ADDR1</td>\n",
       "      <td>미정</td>\n",
       "      <td>NaN</td>\n",
       "    </tr>\n",
       "    <tr>\n",
       "      <th>17</th>\n",
       "      <td>ADDR2</td>\n",
       "      <td>미정</td>\n",
       "      <td>NaN</td>\n",
       "    </tr>\n",
       "    <tr>\n",
       "      <th>18</th>\n",
       "      <td>X_COORD</td>\n",
       "      <td>미정</td>\n",
       "      <td>NaN</td>\n",
       "    </tr>\n",
       "    <tr>\n",
       "      <th>19</th>\n",
       "      <td>Y_COORD</td>\n",
       "      <td>미정</td>\n",
       "      <td>NaN</td>\n",
       "    </tr>\n",
       "    <tr>\n",
       "      <th>20</th>\n",
       "      <td>ORG_ID</td>\n",
       "      <td>미정</td>\n",
       "      <td>NaN</td>\n",
       "    </tr>\n",
       "    <tr>\n",
       "      <th>21</th>\n",
       "      <td>DO_VIO_CD</td>\n",
       "      <td>미정</td>\n",
       "      <td>NaN</td>\n",
       "    </tr>\n",
       "    <tr>\n",
       "      <th>22</th>\n",
       "      <td>KECO_S_YN</td>\n",
       "      <td>미정</td>\n",
       "      <td>NaN</td>\n",
       "    </tr>\n",
       "    <tr>\n",
       "      <th>23</th>\n",
       "      <td>REC_DATE</td>\n",
       "      <td>미정</td>\n",
       "      <td>NaN</td>\n",
       "    </tr>\n",
       "    <tr>\n",
       "      <th>24</th>\n",
       "      <td>REC_NM</td>\n",
       "      <td>미정</td>\n",
       "      <td>NaN</td>\n",
       "    </tr>\n",
       "    <tr>\n",
       "      <th>25</th>\n",
       "      <td>CHG_DATE</td>\n",
       "      <td>미정</td>\n",
       "      <td>NaN</td>\n",
       "    </tr>\n",
       "    <tr>\n",
       "      <th>26</th>\n",
       "      <td>CHG_NM</td>\n",
       "      <td>미정</td>\n",
       "      <td>NaN</td>\n",
       "    </tr>\n",
       "    <tr>\n",
       "      <th>27</th>\n",
       "      <td>T_YN</td>\n",
       "      <td>미정</td>\n",
       "      <td>NaN</td>\n",
       "    </tr>\n",
       "  </tbody>\n",
       "</table>\n",
       "</div>"
      ],
      "text/plain": [
       "           컬럼명     내용  결측 값\n",
       "0       VIO_NM   검사소명  0.00\n",
       "1       VIO_CD  검사소코드  0.00\n",
       "2      SIDO_NM    시도명  0.00\n",
       "3     VIO_TYPE  검사소구분  0.00\n",
       "4    RECV_DATE     미정   NaN\n",
       "5    CONF_DATE     미정   NaN\n",
       "6       BIZ_YN     미정   NaN\n",
       "7         J_YN     미정   NaN\n",
       "8         G_YN     미정   NaN\n",
       "9         S_YN     미정   NaN\n",
       "10        H_YN     미정   NaN\n",
       "11     SIDO_CD     미정   NaN\n",
       "12  SIGUNGU_CD     미정   NaN\n",
       "13  SIGUNGU_NM     미정   NaN\n",
       "14      TEL_NO     미정   NaN\n",
       "15     POST_NO     미정   NaN\n",
       "16       ADDR1     미정   NaN\n",
       "17       ADDR2     미정   NaN\n",
       "18     X_COORD     미정   NaN\n",
       "19     Y_COORD     미정   NaN\n",
       "20      ORG_ID     미정   NaN\n",
       "21   DO_VIO_CD     미정   NaN\n",
       "22   KECO_S_YN     미정   NaN\n",
       "23    REC_DATE     미정   NaN\n",
       "24      REC_NM     미정   NaN\n",
       "25    CHG_DATE     미정   NaN\n",
       "26      CHG_NM     미정   NaN\n",
       "27        T_YN     미정   NaN"
      ]
     },
     "execution_count": 100,
     "metadata": {},
     "output_type": "execute_result"
    }
   ],
   "source": [
    "col = pd.DataFrame(col_dict, index=['내용']).T.reset_index()\n",
    "col.columns = ['컬럼명', '내용']\n",
    "nul = mecar_vio1.isnull().sum().reset_index()\n",
    "nul.columns = ['내용', '결측 값']\n",
    "col2 = col.merge(nul, on='내용', how='left')\n",
    "col2"
   ]
  },
  {
   "attachments": {},
   "cell_type": "markdown",
   "metadata": {},
   "source": [
    "# 28\\. RSD 수시점검"
   ]
  },
  {
   "cell_type": "code",
   "execution_count": 115,
   "metadata": {},
   "outputs": [
    {
     "name": "stdout",
     "output_type": "stream",
     "text": [
      "<class 'pandas.core.frame.DataFrame'>\n",
      "RangeIndex: 13318300 entries, 0 to 13318299\n",
      "Data columns (total 74 columns):\n",
      " #   Column             Dtype  \n",
      "---  ------             -----  \n",
      " 0   IDX                int64  \n",
      " 1   UNIT               object \n",
      " 2   SITECODE           object \n",
      " 3   CAR_REG_NO         object \n",
      " 4   CAR_SER_NO         object \n",
      " 5   RSD_DATE           int64  \n",
      " 6   RSD_TIME           object \n",
      " 7   CO                 float64\n",
      " 8   PPMHC              float64\n",
      " 9   PPMNO              float64\n",
      " 10  CAR_NM             object \n",
      " 11  USAGE              object \n",
      " 12  CAR_TYPE_NM        object \n",
      " 13  CAR_YEAR           int64  \n",
      " 14  CAR_FUEL_NM        object \n",
      " 15  CAR_WEIGHT         int64  \n",
      " 16  TOT_WEIGHT         int64  \n",
      " 17  ENGINE_CAPACITY    float64\n",
      " 18  ENGINE_POWER       object \n",
      " 19  FIRST_REG_DATE     int64  \n",
      " 20  MAKE_REG_DATE      object \n",
      " 21  SMO_CHK_EXP_DATE   int64  \n",
      " 22  SPEED              float64\n",
      " 23  ACCEL              float64\n",
      " 24  VSP                float64\n",
      " 25  UVSMOKE            float64\n",
      " 26  FILE_NM            object \n",
      " 27  IRSMOKE            float64\n",
      " 28  SMO_CHK_METHOD     object \n",
      " 29  UNLOAD_SMO_LIM1    float64\n",
      " 30  UNLOAD_SMO_VAL1    float64\n",
      " 31  UNLOAD_SMO_LIM2    float64\n",
      " 32  UNLOAD_SMO_VAL2    float64\n",
      " 33  UNLOAD_SMO_LIM3    float64\n",
      " 34  UNLOAD_SMO_VAL3    float64\n",
      " 35  UNLOAD_SMO_LIM4    float64\n",
      " 36  UNLOAD_SMO_VAL4    float64\n",
      " 37  UNLOAD_SMO_LIM5    float64\n",
      " 38  UNLOAD_SMO_VAL5    float64\n",
      " 39  UNLOAD_SMO_LIM6    float64\n",
      " 40  UNLOAD_SMO_VAL6    float64\n",
      " 41  SIDO               object \n",
      " 42  SIGUNGU            object \n",
      " 43  REG_REGION         object \n",
      " 44  RSD_MONTH          int64  \n",
      " 45  RSD_FILE_NM        object \n",
      " 46  STD_TAG            int64  \n",
      " 47  USAGE_EX           object \n",
      " 48  CAR_TYPE_CD        float64\n",
      " 49  USAGE_CD           int64  \n",
      " 50  CAR_FUEL_CD        object \n",
      " 51  SMO_CHK_CD         object \n",
      " 52  STD_TAG2           int64  \n",
      " 53  IMAGENAME          object \n",
      " 54  LAST_CHK_EXP_DATE  float64\n",
      " 55  PPMHCHEX           int64  \n",
      " 56  SAMPLES            int64  \n",
      " 57  REC_DATE           float64\n",
      " 58  CONF_YN            object \n",
      " 59  CONF_FLAG          object \n",
      " 60  SELECTION_DATE     object \n",
      " 61  SELECTION_USER     object \n",
      " 62  CONFIRM_DATE       object \n",
      " 63  CONFIRM_USER       object \n",
      " 64  SIDO_CD            float64\n",
      " 65  SIGUNGU_CD         float64\n",
      " 66  SIDO_NM            object \n",
      " 67  SIGUNGU_NM         object \n",
      " 68  GE_CHK             object \n",
      " 69  ENGINE_TYPE        object \n",
      " 70  SRC_REG_NO         object \n",
      " 71  OPACITYMAX         float64\n",
      " 72  UNIT_GB            int64  \n",
      " 73  PPM_NO2            float64\n",
      "dtypes: float64(28), int64(14), object(32)\n",
      "memory usage: 7.3+ GB\n"
     ]
    }
   ],
   "source": [
    "# about 4m 5s\n",
    "name = 'TB_RSD_FINAL'\n",
    "file_name = f'ODS_{name}.csv'\n",
    "rsd = pd.read_csv(os.path.join(ods_fold, file_name), low_memory=False)\n",
    "rsd.info()"
   ]
  },
  {
   "cell_type": "code",
   "execution_count": 116,
   "metadata": {},
   "outputs": [
    {
     "data": {
      "text/plain": [
       "Index(['미정', '장비코드', '측정위치코드', '차량번호', '차대번호', '측정일자', '측정시각', '일산화탄소측정치',\n",
       "       'HC측정치', 'NOX측정치', '미정', '미정', '미정', '모델연도', '차량연료', '공차중량', '미정', '미정',\n",
       "       '미정', '미정', '미정', '미정', '차량현재속도', '엑셀', 'VSP', '매연측정치', '미정', 'IRSMOKE',\n",
       "       '미정', '미정', '미정', '미정', '미정', '미정', '미정', '미정', '미정', '미정', '미정', '미정',\n",
       "       '미정', '미정', '미정', '미정', '미정', '미정', '미정', '용도명칭', '미정', '미정', '미정',\n",
       "       '미정', '미정', '미정', '미정', 'PPMHCHEX', '미정', '미정', '미정', '미정', '미정', '미정',\n",
       "       '미정', '미정', '미정', '미정', '법정동 시도명', '법정동시군구명', '과다구분', '엔진형식', '미정',\n",
       "       '최대 불투명도(매연측정값)', '측정기구분', 'PPM_NO2'],\n",
       "      dtype='object')"
      ]
     },
     "execution_count": 116,
     "metadata": {},
     "output_type": "execute_result"
    }
   ],
   "source": [
    "file_name = f'[정제]{name}.xlsx'\n",
    "col_df = pd.read_excel(os.path.join(col_fold, file_name), sheet_name='ODS_col')\n",
    "col_dict = {a:b for a,b in col_df[['컬럼', '내용']].values}\n",
    "rsd.columns = [col_dict[x] for x in rsd.columns]\n",
    "rsd.columns"
   ]
  },
  {
   "cell_type": "code",
   "execution_count": 117,
   "metadata": {},
   "outputs": [],
   "source": [
    "rsd = rsd[['차량연료', '차량번호', '차대번호', '공차중량', '모델연도', '측정일자']]"
   ]
  },
  {
   "cell_type": "code",
   "execution_count": 118,
   "metadata": {},
   "outputs": [
    {
     "data": {
      "text/plain": [
       "차량연료    0\n",
       "차량번호    0\n",
       "차대번호    0\n",
       "공차중량    0\n",
       "모델연도    0\n",
       "측정일자    0\n",
       "dtype: int64"
      ]
     },
     "execution_count": 118,
     "metadata": {},
     "output_type": "execute_result"
    }
   ],
   "source": [
    "rsd.isnull().sum()"
   ]
  },
  {
   "attachments": {},
   "cell_type": "markdown",
   "metadata": {},
   "source": [
    "## 차량연료"
   ]
  },
  {
   "cell_type": "code",
   "execution_count": 119,
   "metadata": {},
   "outputs": [
    {
     "data": {
      "text/plain": [
       "array(['엘피지', '경유', '휘발유(무연)', '휘발유', 'CNG', '하이브리드(LPG+전기)',\n",
       "       '하이브리드(휘발유+전기)', '휘발유(유연)', 'LNG', '하이브리드(CNG+전기)'], dtype=object)"
      ]
     },
     "execution_count": 119,
     "metadata": {},
     "output_type": "execute_result"
    }
   ],
   "source": [
    "rsd['차량연료'].unique()"
   ]
  },
  {
   "cell_type": "code",
   "execution_count": 120,
   "metadata": {},
   "outputs": [
    {
     "data": {
      "text/plain": [
       "10"
      ]
     },
     "execution_count": 120,
     "metadata": {},
     "output_type": "execute_result"
    }
   ],
   "source": [
    "len(rsd['차량연료'].unique())"
   ]
  },
  {
   "attachments": {},
   "cell_type": "markdown",
   "metadata": {},
   "source": [
    "## 차량번호"
   ]
  },
  {
   "cell_type": "code",
   "execution_count": 121,
   "metadata": {},
   "outputs": [
    {
     "data": {
      "text/plain": [
       "0"
      ]
     },
     "execution_count": 121,
     "metadata": {},
     "output_type": "execute_result"
    }
   ],
   "source": [
    "rsd['차량번호'].isnull().sum()"
   ]
  },
  {
   "cell_type": "code",
   "execution_count": 122,
   "metadata": {},
   "outputs": [
    {
     "data": {
      "text/plain": [
       "array(['인천33구3715', '인천33구6342', '인천33노3293', ..., '96거6566', '96고7246',\n",
       "       '96더9690'], dtype=object)"
      ]
     },
     "execution_count": 122,
     "metadata": {},
     "output_type": "execute_result"
    }
   ],
   "source": [
    "rsd['차량번호'].unique()"
   ]
  },
  {
   "cell_type": "code",
   "execution_count": 123,
   "metadata": {},
   "outputs": [
    {
     "name": "stderr",
     "output_type": "stream",
     "text": [
      "100%|██████████| 13318300/13318300 [00:17<00:00, 759725.24it/s]\n"
     ]
    },
    {
     "data": {
      "text/plain": [
       "0"
      ]
     },
     "execution_count": 123,
     "metadata": {},
     "output_type": "execute_result"
    }
   ],
   "source": [
    "p1 = re.compile('[가-힣]{2}[0-9]{1,2}[가-힣]{1}[0-9]{4}')\n",
    "p2 = re.compile('[0-9]{2,3}[가-힣]{1}[0-9]{4}')\n",
    "wrong_vhrno_list = []\n",
    "for one in tqdm(rsd['차량번호']):\n",
    "    if not p1.search(str(one)) and not p2.search(str(one)):\n",
    "        wrong_vhrno_list.append(one)\n",
    "len(wrong_vhrno_list)"
   ]
  },
  {
   "cell_type": "code",
   "execution_count": 124,
   "metadata": {},
   "outputs": [
    {
     "data": {
      "text/plain": [
       "[]"
      ]
     },
     "execution_count": 124,
     "metadata": {},
     "output_type": "execute_result"
    }
   ],
   "source": [
    "wrong_vhrno_list[:5]"
   ]
  },
  {
   "cell_type": "code",
   "execution_count": 125,
   "metadata": {},
   "outputs": [
    {
     "data": {
      "text/plain": [
       "[]"
      ]
     },
     "execution_count": 125,
     "metadata": {},
     "output_type": "execute_result"
    }
   ],
   "source": [
    "wrong_vhrno_list[-5:]"
   ]
  },
  {
   "attachments": {},
   "cell_type": "markdown",
   "metadata": {},
   "source": [
    "## 차대번호"
   ]
  },
  {
   "cell_type": "code",
   "execution_count": 126,
   "metadata": {},
   "outputs": [
    {
     "data": {
      "text/plain": [
       "{11, 12, 13, 14, 15, 16, 17}"
      ]
     },
     "execution_count": 126,
     "metadata": {},
     "output_type": "execute_result"
    }
   ],
   "source": [
    "vin_temp = rsd['차대번호'].str.len()\n",
    "set(vin_temp.unique())"
   ]
  },
  {
   "cell_type": "code",
   "execution_count": 127,
   "metadata": {},
   "outputs": [
    {
     "name": "stdout",
     "output_type": "stream",
     "text": [
      "차대번호 길이 : 11\n",
      "(40,)\n"
     ]
    },
    {
     "data": {
      "text/plain": [
       "52833     01901322053\n",
       "63676     01901321653\n",
       "215588    01861321295\n",
       "238416    01861321295\n",
       "814190    WFY11275737\n",
       "Name: 차대번호, dtype: object"
      ]
     },
     "metadata": {},
     "output_type": "display_data"
    },
    {
     "name": "stdout",
     "output_type": "stream",
     "text": [
      "\n",
      "차대번호 길이 : 12\n",
      "(1646,)\n"
     ]
    },
    {
     "data": {
      "text/plain": [
       "9708     110011326311\n",
       "10059    410234336364\n",
       "10198    439934203900\n",
       "13234    119211312391\n",
       "14843    410234337409\n",
       "Name: 차대번호, dtype: object"
      ]
     },
     "metadata": {},
     "output_type": "display_data"
    },
    {
     "name": "stdout",
     "output_type": "stream",
     "text": [
      "\n",
      "차대번호 길이 : 13\n",
      "(36,)\n"
     ]
    },
    {
     "data": {
      "text/plain": [
       "68024      01911322525대서\n",
       "141851     2602342 05544\n",
       "1133852    119313304433다\n",
       "1197474    119411209943다\n",
       "1316387    SXM10~0031945\n",
       "Name: 차대번호, dtype: object"
      ]
     },
     "metadata": {},
     "output_type": "display_data"
    },
    {
     "name": "stdout",
     "output_type": "stream",
     "text": [
      "\n",
      "차대번호 길이 : 14\n",
      "(2,)\n"
     ]
    },
    {
     "data": {
      "text/plain": [
       "502771     119111310127대서\n",
       "3610688    119111200141대서\n",
       "Name: 차대번호, dtype: object"
      ]
     },
     "metadata": {},
     "output_type": "display_data"
    },
    {
     "name": "stdout",
     "output_type": "stream",
     "text": [
      "\n",
      "차대번호 길이 : 15\n",
      "(33,)\n"
     ]
    },
    {
     "data": {
      "text/plain": [
       "590348    11-96-113-22926\n",
       "648158    29-98-113-02664\n",
       "769261    KL90A3AHG7ZC002\n",
       "807044    11-97-113-29992\n",
       "807703    11-97-112-25165\n",
       "Name: 차대번호, dtype: object"
      ]
     },
     "metadata": {},
     "output_type": "display_data"
    },
    {
     "name": "stdout",
     "output_type": "stream",
     "text": [
      "\n",
      "차대번호 길이 : 16\n",
      "(149,)\n"
     ]
    },
    {
     "data": {
      "text/plain": [
       "12771     KNMC4C2HM7069548\n",
       "17500     KNAK518BBT954434\n",
       "103316    KNAK518BBT954434\n",
       "113795    KMJFD37B1K518060\n",
       "183906    KNAFH22139A00852\n",
       "Name: 차대번호, dtype: object"
      ]
     },
     "metadata": {},
     "output_type": "display_data"
    },
    {
     "name": "stdout",
     "output_type": "stream",
     "text": [
      "\n",
      "차대번호 길이 : 17\n",
      "(13316394,)\n"
     ]
    },
    {
     "data": {
      "text/plain": [
       "0    KMHEN41MP2A794772\n",
       "1    KMHNN81XP3U088490\n",
       "2    KMJWWH7VPYU276950\n",
       "3    KMHCG41GP1U298190\n",
       "4    KMHSC81VP1U190763\n",
       "Name: 차대번호, dtype: object"
      ]
     },
     "metadata": {},
     "output_type": "display_data"
    },
    {
     "name": "stdout",
     "output_type": "stream",
     "text": [
      "\n"
     ]
    },
    {
     "data": {
      "text/plain": [
       "13318300"
      ]
     },
     "execution_count": 127,
     "metadata": {},
     "output_type": "execute_result"
    }
   ],
   "source": [
    "count = 0\n",
    "for one in set(vin_temp.unique()):\n",
    "    temp = rsd.loc[rsd['차대번호'].str.len() == one, '차대번호']\n",
    "    count += temp.shape[0]\n",
    "    print(f'차대번호 길이 : {one}')\n",
    "    print(temp.shape)\n",
    "    display(temp.head())\n",
    "    print()\n",
    "count"
   ]
  },
  {
   "cell_type": "code",
   "execution_count": 128,
   "metadata": {},
   "outputs": [
    {
     "data": {
      "text/plain": [
       "0"
      ]
     },
     "execution_count": 128,
     "metadata": {},
     "output_type": "execute_result"
    }
   ],
   "source": [
    "len_17_wrong_text_idx = []\n",
    "p = re.compile('[ㄱ-ㅎ|ㅏ-ㅣ|가-힣]')\n",
    "for i, one in enumerate(rsd['차대번호']):\n",
    "    if len(str(one)) == 17 and p.search(str(one)):\n",
    "        len_17_wrong_text_idx.append(i)\n",
    "len(len_17_wrong_text_idx)"
   ]
  },
  {
   "cell_type": "code",
   "execution_count": 129,
   "metadata": {},
   "outputs": [
    {
     "data": {
      "text/plain": [
       "Series([], Name: 차대번호, dtype: object)"
      ]
     },
     "execution_count": 129,
     "metadata": {},
     "output_type": "execute_result"
    }
   ],
   "source": [
    "rsd.loc[len_17_wrong_text_idx, '차대번호'].head()"
   ]
  },
  {
   "attachments": {},
   "cell_type": "markdown",
   "metadata": {},
   "source": [
    "## 공차중량"
   ]
  },
  {
   "cell_type": "code",
   "execution_count": 130,
   "metadata": {},
   "outputs": [
    {
     "data": {
      "text/plain": [
       "0    1435\n",
       "1    2115\n",
       "2    1835\n",
       "3    1015\n",
       "4    1645\n",
       "Name: 공차중량, dtype: int64"
      ]
     },
     "execution_count": 130,
     "metadata": {},
     "output_type": "execute_result"
    }
   ],
   "source": [
    "rsd['공차중량'].head()"
   ]
  },
  {
   "cell_type": "code",
   "execution_count": 131,
   "metadata": {},
   "outputs": [
    {
     "data": {
      "text/plain": [
       "count   13318300.00\n",
       "mean        1704.95\n",
       "std          764.29\n",
       "min            0.00\n",
       "25%         1445.00\n",
       "50%         1640.00\n",
       "75%         1905.00\n",
       "max        35110.00\n",
       "Name: 공차중량, dtype: float64"
      ]
     },
     "execution_count": 131,
     "metadata": {},
     "output_type": "execute_result"
    }
   ],
   "source": [
    "rsd['공차중량'].describe()"
   ]
  },
  {
   "attachments": {},
   "cell_type": "markdown",
   "metadata": {},
   "source": [
    "## 모델연도"
   ]
  },
  {
   "cell_type": "code",
   "execution_count": 132,
   "metadata": {},
   "outputs": [
    {
     "data": {
      "text/plain": [
       "0    2002\n",
       "1    2003\n",
       "2    2000\n",
       "3    2001\n",
       "4    2001\n",
       "Name: 모델연도, dtype: int64"
      ]
     },
     "execution_count": 132,
     "metadata": {},
     "output_type": "execute_result"
    }
   ],
   "source": [
    "rsd['모델연도'].head()"
   ]
  },
  {
   "cell_type": "code",
   "execution_count": 133,
   "metadata": {},
   "outputs": [
    {
     "data": {
      "text/plain": [
       "count   13318300.00\n",
       "mean        2012.87\n",
       "std            5.07\n",
       "min         1960.00\n",
       "25%         2010.00\n",
       "50%         2014.00\n",
       "75%         2017.00\n",
       "max         2023.00\n",
       "Name: 모델연도, dtype: float64"
      ]
     },
     "execution_count": 133,
     "metadata": {},
     "output_type": "execute_result"
    }
   ],
   "source": [
    "rsd['모델연도'].describe()"
   ]
  },
  {
   "attachments": {},
   "cell_type": "markdown",
   "metadata": {},
   "source": [
    "## 측정일자"
   ]
  },
  {
   "cell_type": "code",
   "execution_count": 134,
   "metadata": {},
   "outputs": [
    {
     "data": {
      "text/plain": [
       "0    20130304\n",
       "1    20130304\n",
       "2    20130304\n",
       "3    20130304\n",
       "4    20130304\n",
       "Name: 측정일자, dtype: int64"
      ]
     },
     "execution_count": 134,
     "metadata": {},
     "output_type": "execute_result"
    }
   ],
   "source": [
    "rsd['측정일자'].head()"
   ]
  },
  {
   "cell_type": "code",
   "execution_count": 135,
   "metadata": {},
   "outputs": [
    {
     "data": {
      "text/plain": [
       "count   13318300.00\n",
       "mean    20182459.99\n",
       "std        28027.56\n",
       "min     20130304.00\n",
       "25%     20160714.00\n",
       "50%     20190302.00\n",
       "75%     20210228.00\n",
       "max     20221222.00\n",
       "Name: 측정일자, dtype: float64"
      ]
     },
     "execution_count": 135,
     "metadata": {},
     "output_type": "execute_result"
    }
   ],
   "source": [
    "rsd['측정일자'].describe()"
   ]
  },
  {
   "cell_type": "markdown",
   "metadata": {},
   "source": [
    "# 코드 마지막"
   ]
  }
 ],
 "metadata": {
  "kernelspec": {
   "display_name": "base",
   "language": "python",
   "name": "python3"
  },
  "language_info": {
   "codemirror_mode": {
    "name": "ipython",
    "version": 3
   },
   "file_extension": ".py",
   "mimetype": "text/x-python",
   "name": "python",
   "nbconvert_exporter": "python",
   "pygments_lexer": "ipython3",
   "version": "3.9.13"
  },
  "orig_nbformat": 4,
  "vscode": {
   "interpreter": {
    "hash": "ad2bdc8ecc057115af97d19610ffacc2b4e99fae6737bb82f5d7fb13d2f2c186"
   }
  }
 },
 "nbformat": 4,
 "nbformat_minor": 2
}
