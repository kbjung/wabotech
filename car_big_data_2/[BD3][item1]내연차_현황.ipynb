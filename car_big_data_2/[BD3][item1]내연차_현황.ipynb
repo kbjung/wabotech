{
 "cells": [
  {
   "attachments": {},
   "cell_type": "markdown",
   "metadata": {},
   "source": [
    "# Library\n"
   ]
  },
  {
   "cell_type": "code",
   "execution_count": 94,
   "metadata": {},
   "outputs": [],
   "source": [
    "import pandas as pd\n",
    "import numpy as np\n",
    "import os\n",
    "from tqdm import tqdm\n",
    "from datetime import datetime"
   ]
  },
  {
   "cell_type": "code",
   "execution_count": 2,
   "metadata": {},
   "outputs": [],
   "source": [
    "# 소수점 옵션\n",
    "pd.options.display.float_format = '{:.2f}'.format\n",
    "# pd.reset_option('display.float_format')"
   ]
  },
  {
   "attachments": {},
   "cell_type": "markdown",
   "metadata": {},
   "source": [
    "# fold path"
   ]
  },
  {
   "cell_type": "code",
   "execution_count": 3,
   "metadata": {},
   "outputs": [],
   "source": [
    "drive = 'D'"
   ]
  },
  {
   "cell_type": "code",
   "execution_count": 32,
   "metadata": {},
   "outputs": [],
   "source": [
    "ods_fold = f'{drive}:/data/big2/ODS'\n",
    "big2_fold = f'{drive}:/data/big2'\n",
    "analysis_fold = f'{drive}:/data/big2/BD3/an'"
   ]
  },
  {
   "attachments": {},
   "cell_type": "markdown",
   "metadata": {},
   "source": [
    "# Load"
   ]
  },
  {
   "attachments": {},
   "cell_type": "markdown",
   "metadata": {},
   "source": [
    "## 등록&제원정보"
   ]
  },
  {
   "cell_type": "code",
   "execution_count": 37,
   "metadata": {},
   "outputs": [
    {
     "name": "stdout",
     "output_type": "stream",
     "text": [
      "<class 'pandas.core.frame.DataFrame'>\n",
      "RangeIndex: 1898816 entries, 0 to 1898815\n",
      "Data columns (total 49 columns):\n",
      " #   Column        Dtype  \n",
      "---  ------        -----  \n",
      " 0   차량관리번호        object \n",
      " 1   차량등록번호        object \n",
      " 2   본거지법정동코드      int64  \n",
      " 3   소유자구분         object \n",
      " 4   차종_등록정보       object \n",
      " 5   용도            object \n",
      " 6   현재회원번호        object \n",
      " 7   차대번호          object \n",
      " 8   최초등록일자        int64  \n",
      " 9   차량연식          int64  \n",
      " 10  차량제작일자        float64\n",
      " 11  배출가스검사유효일자    float64\n",
      " 12  제원관리번호        object \n",
      " 13  배출가스인증번호      object \n",
      " 14  배출가스등급        object \n",
      " 15  저공해조치YN(미사용)  object \n",
      " 16  저공해조치종류       float64\n",
      " 17  저공해조치구조변경YN   object \n",
      " 18  차량등록번호숫자정보    int64  \n",
      " 19  차량말소YN        object \n",
      " 20  최초회원번호        object \n",
      " 21  취득일자          object \n",
      " 22  취득금액          float64\n",
      " 23  생성일시_등록정보     object \n",
      " 24  수정일시_등록정보     object \n",
      " 25  차명            object \n",
      " 26  차종_제원정보       object \n",
      " 27  차종분류          object \n",
      " 28  차종유형(소분류)     object \n",
      " 29  자동차형식         object \n",
      " 30  제작사명          object \n",
      " 31  연료            object \n",
      " 32  엔진형식          object \n",
      " 33  공차중량          float64\n",
      " 34  총중량           float64\n",
      " 35  적재중량          float64\n",
      " 36  엔진출력          float64\n",
      " 37  배기량           float64\n",
      " 38  승차인원          float64\n",
      " 39  차량길이          float64\n",
      " 40  차량너비          float64\n",
      " 41  차량높이          float64\n",
      " 42  원산지명          object \n",
      " 43  삭제YN          object \n",
      " 44  승인일자          object \n",
      " 45  구동형식          float64\n",
      " 46  변속기종류         object \n",
      " 47  생성일시_제원정보     object \n",
      " 48  수정일시_제원정보     object \n",
      "dtypes: float64(14), int64(4), object(31)\n",
      "memory usage: 709.9+ MB\n"
     ]
    }
   ],
   "source": [
    "# about \n",
    "name = '[ODS]등록정보&제원정보(2022.12.28)'\n",
    "file_name = f'{name}.csv'\n",
    "car = pd.read_csv(os.path.join(ods_fold, file_name), low_memory=False, encoding='cp949')\n",
    "car.info()"
   ]
  },
  {
   "attachments": {},
   "cell_type": "markdown",
   "metadata": {},
   "source": [
    "## 노후차 조기폐차 관리정보 수도권"
   ]
  },
  {
   "cell_type": "code",
   "execution_count": 8,
   "metadata": {},
   "outputs": [
    {
     "name": "stdout",
     "output_type": "stream",
     "text": [
      "<class 'pandas.core.frame.DataFrame'>\n",
      "RangeIndex: 770311 entries, 0 to 770310\n",
      "Columns: 177 entries, ELPDSRC_MNGT_NO to PFMINPC_ELPDSRC_GNRLZ_RESN\n",
      "dtypes: float64(56), int64(3), object(118)\n",
      "memory usage: 1.0+ GB\n"
     ]
    }
   ],
   "source": [
    "# about 42.0s\n",
    "name = '[ODS]노후차_조기폐차_관리정보_수도권(2022.12.28)'\n",
    "file_name = f'{name}.csv'\n",
    "aea = pd.read_csv(os.path.join(ods_fold, file_name), low_memory=False, encoding='cp949')\n",
    "aea.info()"
   ]
  },
  {
   "cell_type": "code",
   "execution_count": 92,
   "metadata": {},
   "outputs": [
    {
     "data": {
      "text/plain": [
       "['ELPDSRC_MNGT_NO',\n",
       " '조기폐차상태코드',\n",
       " '저감장치구분',\n",
       " 'INST_ID_CD',\n",
       " 'OWNR_NM',\n",
       " 'USER_BIZRNO',\n",
       " 'USER_TELNO',\n",
       " 'FXNUM',\n",
       " 'USER_ZIP',\n",
       " 'USER_1_ADRS',\n",
       " 'USER_2_ADRS',\n",
       " '접수시도',\n",
       " 'RCPT_SIGNGU',\n",
       " '차량등록번호',\n",
       " '차대번호',\n",
       " 'VHCL_YRIDNW',\n",
       " 'EGINCTY',\n",
       " 'VHCL_PSCP',\n",
       " 'VHCL_WGHT',\n",
       " 'TOT_WGHT',\n",
       " 'CRYNG_WGHT',\n",
       " 'VHCNM',\n",
       " 'VHCL_FRM',\n",
       " 'VHCTY',\n",
       " 'VHCL_PURPS',\n",
       " 'FST_REG_DE',\n",
       " '폐차등록주행거리',\n",
       " 'SCRCAR_ERA_DRVNG_DSTNC',\n",
       " 'VHCL_FUEL',\n",
       " 'PRCINSP_DE',\n",
       " 'INSPOF_NM',\n",
       " 'PRCINSP_JDGMNT_YN',\n",
       " 'PRCINSP_RSLT_VAL',\n",
       " 'PRCINSP_JDGMNT_STDR_VAL',\n",
       " 'RCPT_DE',\n",
       " 'INPT_DE',\n",
       " 'RETR_NM',\n",
       " 'SBSIDY_TRGT_YN',\n",
       " 'ELPDSRC_TRGT_1_AT',\n",
       " 'ELPDSRC_TRGT_2_AT',\n",
       " 'ELPDSRC_TRGT_3_AT',\n",
       " 'ELPDSRC_TRGT_4_AT',\n",
       " 'ELPDSRC_TRGT_5_AT',\n",
       " 'ELPDSRC_TRGT_6_AT',\n",
       " 'ELPDSRC_TRGT_7_AT',\n",
       " 'ELPDSRC_TRGT_CNFRM_REG_DE',\n",
       " 'ELPDSRC_TRGT_CNFRM_REGR_NM',\n",
       " 'PYMT_CNFRM_YN',\n",
       " 'EXPC_SPRT_AMT',\n",
       " 'DCIS_SPRT_AMT',\n",
       " 'SBSIDY_UNPAY_RESN',\n",
       " 'SBSIDY_RQEST_DE',\n",
       " 'SBSIDY_RQEST_REGR_NM',\n",
       " 'DOC_CNFRM_NO',\n",
       " 'DOC_OUTT_DE',\n",
       " 'INSP_RQT_SIWA_MTHD',\n",
       " 'INSP_RQT_DE',\n",
       " 'INSP_RQT_TM',\n",
       " 'VRSC_ENTRPS_NM',\n",
       " 'AGENT_ZIP',\n",
       " 'AGENT_1_ADRS',\n",
       " 'AGENT_2_ADRS',\n",
       " 'AGENT_TELNO',\n",
       " 'AGENT_CRTC_NO',\n",
       " 'INSP_RQT_REG_DE',\n",
       " 'INSP_RQT_REGR_NM',\n",
       " 'PFMINPC_DE',\n",
       " 'PFMINPC_1_ITM',\n",
       " 'PFMINPC_2_ITM',\n",
       " 'PFMINPC_3_ITM',\n",
       " 'PFMINPC_4_ITM',\n",
       " 'PFMINPC_5_ITM',\n",
       " 'PFMINPC_ETC_ITM',\n",
       " 'PFMINPC_ITM_ETC_CMPNT_NM',\n",
       " 'PFMINPC_FILE_ATT_YN',\n",
       " 'PFMINPC_ELPDSRC_YN',\n",
       " 'PFMINPC_ELPDSRC_IMPSBL_RESN',\n",
       " 'PFMINPC_REG_DE',\n",
       " 'PFMINPC_REGR_NM',\n",
       " 'PFMINPC_PAPE_OUTT_DE',\n",
       " 'TRTMNT_DE',\n",
       " '말소일자',\n",
       " 'NCAR_PUCH_PLAN_DE',\n",
       " 'NCAR_PUCH_PLAN_VHCL_NM',\n",
       " 'SCRCAR_ENTRPS_NM',\n",
       " 'SCRCAR_ENTRPS_ZIP',\n",
       " 'SCRCAR_ENTRPS_1_ADRS',\n",
       " 'SCRCAR_ENTRPS_2_ADRS',\n",
       " 'ELPDSRC_ATT_FILE_1_YN',\n",
       " 'ELPDSRC_ATT_FILE_2_YN',\n",
       " 'ELPDSRC_ATT_FILE_3_YN',\n",
       " 'ELPDSRC_REG_DE',\n",
       " 'ELPDSRC_REGR_NM',\n",
       " '조기폐차최종승인YN',\n",
       " 'ELPDSRC_LST_UNAP_RESN',\n",
       " 'SBSIDY_PYMT_DE',\n",
       " 'SBSIDY_BIZ_YR',\n",
       " 'ELPDSRC_LST_CNFRM_DE',\n",
       " 'ELPDSRC_LST_APRR_NM',\n",
       " 'LST_CHNG_DE',\n",
       " 'LST_EDIR_NM',\n",
       " 'LWBCT_YN',\n",
       " 'NOW_VHRNO',\n",
       " 'ELPDSRC_ATT_FILE_4_YN',\n",
       " 'BANK_NM',\n",
       " 'BANK_ACC_NO',\n",
       " 'PRCINSP_SE',\n",
       " 'RCPT_LOCGOV_CD',\n",
       " 'RPRSTV_NM',\n",
       " 'BIZCND',\n",
       " 'TYPBIZ',\n",
       " 'EMAIL',\n",
       " 'RCPT_SE',\n",
       " 'INSP_SE',\n",
       " 'ELPDSRC_TRGT_AT_ETC_RESN',\n",
       " 'HST_MNGT_NO',\n",
       " 'CTNT',\n",
       " 'VHCTY_SE',\n",
       " 'ELPDSRC_GRP',\n",
       " 'BTHDY',\n",
       " 'JURIRNO',\n",
       " 'STDR_YM',\n",
       " 'STDR_AMT',\n",
       " 'WHL_EXCS_CNFRM_DE',\n",
       " 'WHL_EXCS_APRR_NM',\n",
       " 'MNFCT_DE',\n",
       " 'OLD_SIDO',\n",
       " 'OLD_SIGNGU',\n",
       " 'OLD_RCPT_LOCGOV_CD',\n",
       " 'OLD_1_ADRS',\n",
       " 'OLD_2_ADRS',\n",
       " 'OLD_VHCL_PURPS',\n",
       " 'BAI_ID',\n",
       " 'ADITOR_NM',\n",
       " 'REG_NO',\n",
       " 'RQEST_ARVL_DE',\n",
       " 'RQEST_ARVL_YN',\n",
       " 'BIL_CNFRMR_NM',\n",
       " 'ADD_AMT',\n",
       " 'SAMNS_CNFRM',\n",
       " 'ADD_RQEST_ARVL_YN',\n",
       " 'ADD_RQEST_ARVL_DE',\n",
       " 'ADD_RQEST_CNFRMR_NM',\n",
       " 'ATT_PAPE_CNFRM_AT',\n",
       " 'BEF_STUS_CD',\n",
       " 'WAREHOUSING_DE',\n",
       " 'WAREHOUSING_YN',\n",
       " '저감장치 미개발(부착불가)여부',\n",
       " 'MNTNG_IMPR_AMT',\n",
       " 'ELPDSRC_ATT_FILE_5_YN',\n",
       " 'ELPDSRC_VRSC_INST_NO',\n",
       " 'SMAL_BUSIN_YN',\n",
       " 'INPT_MTHD_FLAG',\n",
       " 'ELPDSRC_ATT_FILE_7_YN',\n",
       " 'STNDRD',\n",
       " 'ENGINE_RPM',\n",
       " 'MAKER',\n",
       " 'CAR_GRADE',\n",
       " 'AID_RJCT_DE',\n",
       " 'IMG_LGCLFL1',\n",
       " 'IMG_PHYSCL1',\n",
       " 'IMG_LGCLFL2',\n",
       " 'IMG_PHYSCL2',\n",
       " 'IMG_LGCLFL3',\n",
       " 'IMG_PHYSCL3',\n",
       " 'IMG_LGCLFL4',\n",
       " 'IMG_PHYSCL4',\n",
       " 'PRE_SCRAP_CAR_YN',\n",
       " 'DEP_YN',\n",
       " 'VIRT_ACC_NO',\n",
       " 'ELCTY_HYDRO_CAR_ADD_AMT',\n",
       " 'PFMINPC_ITSL_APPRNC',\n",
       " 'PFMINPC_BUFFER_DVICE',\n",
       " 'PFMINPC_WINDOW',\n",
       " 'PFMINPC_TIRE',\n",
       " 'PFMINPC_ASSMI_DEVICE',\n",
       " 'PFMINPC_ELPDSRC_GNRLZ_RESN']"
      ]
     },
     "execution_count": 92,
     "metadata": {},
     "output_type": "execute_result"
    }
   ],
   "source": [
    "aea.columns.to_list()"
   ]
  },
  {
   "attachments": {},
   "cell_type": "markdown",
   "metadata": {},
   "source": [
    "## 노후차 조기폐차 관리정보 수도권 외"
   ]
  },
  {
   "cell_type": "code",
   "execution_count": 9,
   "metadata": {},
   "outputs": [
    {
     "name": "stdout",
     "output_type": "stream",
     "text": [
      "<class 'pandas.core.frame.DataFrame'>\n",
      "RangeIndex: 291353 entries, 0 to 291352\n",
      "Columns: 170 entries, ELPDSRC_MNGT_NO to PFMINPC_ELPDSRC_GNRLZ_RESN\n",
      "dtypes: float64(71), int64(4), object(95)\n",
      "memory usage: 377.9+ MB\n"
     ]
    }
   ],
   "source": [
    "# about 11.6s\n",
    "name = '[ODS]노후차_조기폐차_관리정보_수도권외(2022.12.28)'\n",
    "file_name = f'{name}.csv'\n",
    "lgv = pd.read_csv(os.path.join(ods_fold, file_name), low_memory=False, encoding='cp949')\n",
    "lgv.info()"
   ]
  },
  {
   "cell_type": "code",
   "execution_count": 93,
   "metadata": {},
   "outputs": [
    {
     "data": {
      "text/plain": [
       "['ELPDSRC_MNGT_NO',\n",
       " '조기폐차상태코드',\n",
       " '저감장치구분',\n",
       " 'INST_ID_CD',\n",
       " 'OWNR_NM',\n",
       " 'USER_BIZRNO',\n",
       " 'USER_TELNO',\n",
       " 'FXNUM',\n",
       " 'USER_ZIP',\n",
       " 'USER_1_ADRS',\n",
       " 'USER_2_ADRS',\n",
       " '접수시도',\n",
       " 'RCPT_SIGNGU',\n",
       " '차량등록번호',\n",
       " '차대번호',\n",
       " 'VHCL_YRIDNW',\n",
       " 'EGINCTY',\n",
       " 'VHCL_PSCP',\n",
       " 'VHCL_WGHT',\n",
       " 'TOT_WGHT',\n",
       " 'CRYNG_WGHT',\n",
       " 'VHCNM',\n",
       " 'VHCL_FRM',\n",
       " 'VHCTY',\n",
       " 'VHCL_PURPS',\n",
       " 'FST_REG_DE',\n",
       " '폐차등록주행거리',\n",
       " 'SCRCAR_ERA_DRVNG_DSTNC',\n",
       " 'VHCL_FUEL',\n",
       " 'PRCINSP_DE',\n",
       " 'INSPOF_NM',\n",
       " 'PRCINSP_JDGMNT_YN',\n",
       " 'PRCINSP_RSLT_VAL',\n",
       " 'PRCINSP_JDGMNT_STDR_VAL',\n",
       " 'RCPT_DE',\n",
       " 'INPT_DE',\n",
       " 'RETR_NM',\n",
       " 'SBSIDY_TRGT_YN',\n",
       " 'ELPDSRC_TRGT_1_AT',\n",
       " 'ELPDSRC_TRGT_2_AT',\n",
       " 'ELPDSRC_TRGT_3_AT',\n",
       " 'ELPDSRC_TRGT_4_AT',\n",
       " 'ELPDSRC_TRGT_5_AT',\n",
       " 'ELPDSRC_TRGT_6_AT',\n",
       " 'ELPDSRC_TRGT_7_AT',\n",
       " 'ELPDSRC_TRGT_CNFRM_REG_DE',\n",
       " 'ELPDSRC_TRGT_CNFRM_REGR_NM',\n",
       " 'PYMT_CNFRM_YN',\n",
       " 'EXPC_SPRT_AMT',\n",
       " 'DCIS_SPRT_AMT',\n",
       " 'SBSIDY_UNPAY_RESN',\n",
       " 'SBSIDY_RQEST_DE',\n",
       " 'SBSIDY_RQEST_REGR_NM',\n",
       " 'DOC_CNFRM_NO',\n",
       " 'DOC_OUTT_DE',\n",
       " 'INSP_RQT_SIWA_MTHD',\n",
       " 'INSP_RQT_DE',\n",
       " 'INSP_RQT_TM',\n",
       " 'VRSC_ENTRPS_NM',\n",
       " 'AGENT_ZIP',\n",
       " 'AGENT_1_ADRS',\n",
       " 'AGENT_2_ADRS',\n",
       " 'AGENT_TELNO',\n",
       " 'AGENT_CRTC_NO',\n",
       " 'INSP_RQT_REG_DE',\n",
       " 'INSP_RQT_REGR_NM',\n",
       " 'PFMINPC_DE',\n",
       " 'PFMINPC_1_ITM',\n",
       " 'PFMINPC_2_ITM',\n",
       " 'PFMINPC_3_ITM',\n",
       " 'PFMINPC_4_ITM',\n",
       " 'PFMINPC_5_ITM',\n",
       " 'PFMINPC_ETC_ITM',\n",
       " 'PFMINPC_ITM_ETC_CMPNT_NM',\n",
       " 'PFMINPC_FILE_ATT_YN',\n",
       " 'PFMINPC_ELPDSRC_YN',\n",
       " 'PFMINPC_ELPDSRC_IMPSBL_RESN',\n",
       " 'PFMINPC_REG_DE',\n",
       " 'PFMINPC_REGR_NM',\n",
       " 'PFMINPC_PAPE_OUTT_DE',\n",
       " 'TRTMNT_DE',\n",
       " '말소일자',\n",
       " 'NCAR_PUCH_PLAN_DE',\n",
       " 'NCAR_PUCH_PLAN_VHCL_NM',\n",
       " 'SCRCAR_ENTRPS_NM',\n",
       " 'SCRCAR_ENTRPS_ZIP',\n",
       " 'SCRCAR_ENTRPS_1_ADRS',\n",
       " 'SCRCAR_ENTRPS_2_ADRS',\n",
       " 'ELPDSRC_ATT_FILE_1_YN',\n",
       " 'ELPDSRC_ATT_FILE_2_YN',\n",
       " 'ELPDSRC_ATT_FILE_3_YN',\n",
       " 'ELPDSRC_REG_DE',\n",
       " 'ELPDSRC_REGR_NM',\n",
       " '조기폐차최종승인YN',\n",
       " 'ELPDSRC_LST_UNAP_RESN',\n",
       " 'SBSIDY_PYMT_DE',\n",
       " 'SBSIDY_BIZ_YR',\n",
       " 'ELPDSRC_LST_CNFRM_DE',\n",
       " 'ELPDSRC_LST_APRR_NM',\n",
       " 'LST_CHNG_DE',\n",
       " 'LST_EDIR_NM',\n",
       " 'LWBCT_YN',\n",
       " 'NOW_VHRNO',\n",
       " 'ELPDSRC_ATT_FILE_4_YN',\n",
       " 'BANK_NM',\n",
       " 'BANK_ACC_NO',\n",
       " 'PRCINSP_SE',\n",
       " 'RCPT_LOCGOV_CD',\n",
       " 'RPRSTV_NM',\n",
       " 'BIZCND',\n",
       " 'TYPBIZ',\n",
       " 'EMAIL',\n",
       " 'RCPT_SE',\n",
       " 'INSP_SE',\n",
       " 'ELPDSRC_TRGT_AT_ETC_RESN',\n",
       " 'HST_MNGT_NO',\n",
       " 'CTNT',\n",
       " 'VHCTY_SE',\n",
       " 'ELPDSRC_GRP',\n",
       " 'BTHDY',\n",
       " 'JURIRNO',\n",
       " 'STDR_YM',\n",
       " 'STDR_AMT',\n",
       " 'WHL_EXCS_CNFRM_DE',\n",
       " 'WHL_EXCS_APRR_NM',\n",
       " 'MNFCT_DE',\n",
       " 'OLD_SIDO',\n",
       " 'OLD_SIGNGU',\n",
       " 'OLD_RCPT_LOCGOV_CD',\n",
       " 'OLD_1_ADRS',\n",
       " 'OLD_2_ADRS',\n",
       " 'OLD_VHCL_PURPS',\n",
       " 'BAI_ID',\n",
       " 'ADITOR_NM',\n",
       " 'REG_NO',\n",
       " 'RQEST_ARVL_DE',\n",
       " 'RQEST_ARVL_YN',\n",
       " 'BIL_CNFRMR_NM',\n",
       " 'ADD_AMT',\n",
       " 'SAMNS_CNFRM',\n",
       " 'ADD_RQEST_ARVL_YN',\n",
       " 'ADD_RQEST_ARVL_DE',\n",
       " 'ADD_RQEST_CNFRMR_NM',\n",
       " 'ATT_PAPE_CNFRM_AT',\n",
       " 'BEF_STUS_CD',\n",
       " 'WAREHOUSING_DE',\n",
       " 'WAREHOUSING_YN',\n",
       " '저감장치 부착불가 여부',\n",
       " 'MNTNG_IMPR_AMT',\n",
       " 'ELPDSRC_ATT_FILE_5_YN',\n",
       " 'SMAL_BUSIN_YN',\n",
       " 'INPT_MTHD_FLAG',\n",
       " 'ELPDSRC_ATT_FILE_7_YN',\n",
       " 'AID_RJCT_DE',\n",
       " 'IMG_LGCLFL1',\n",
       " 'IMG_PHYSCL1',\n",
       " 'IMG_LGCLFL2',\n",
       " 'IMG_PHYSCL2',\n",
       " 'IMG_LGCLFL3',\n",
       " 'IMG_PHYSCL3',\n",
       " 'IMG_LGCLFL4',\n",
       " 'IMG_PHYSCL4',\n",
       " 'PRE_SCRAP_CAR_YN',\n",
       " 'ELCTY_HYDRO_CAR_ADD_AMT',\n",
       " 'PFMINPC_ITSL_APPRNC',\n",
       " 'PFMINPC_BUFFER_DVICE',\n",
       " 'PFMINPC_WINDOW',\n",
       " 'PFMINPC_TIRE',\n",
       " 'PFMINPC_ASSMI_DEVICE',\n",
       " 'PFMINPC_ELPDSRC_GNRLZ_RESN']"
      ]
     },
     "execution_count": 93,
     "metadata": {},
     "output_type": "execute_result"
    }
   ],
   "source": [
    "lgv.columns.to_list()"
   ]
  },
  {
   "attachments": {},
   "cell_type": "markdown",
   "metadata": {},
   "source": [
    "## 법정동 코드"
   ]
  },
  {
   "cell_type": "code",
   "execution_count": 48,
   "metadata": {},
   "outputs": [
    {
     "name": "stdout",
     "output_type": "stream",
     "text": [
      "<class 'pandas.core.frame.DataFrame'>\n",
      "RangeIndex: 46341 entries, 0 to 46340\n",
      "Data columns (total 9 columns):\n",
      " #   Column    Non-Null Count  Dtype  \n",
      "---  ------    --------------  -----  \n",
      " 0   법정동코드     46341 non-null  int64  \n",
      " 1   시도        46341 non-null  object \n",
      " 2   시구군       46318 non-null  object \n",
      " 3   읍면동       45848 non-null  object \n",
      " 4   리         33682 non-null  object \n",
      " 5   지역3       0 non-null      float64\n",
      " 6   폐지여부      46341 non-null  object \n",
      " 7   대기관리권역    46341 non-null  object \n",
      " 8   대기관리권역YN  46335 non-null  object \n",
      "dtypes: float64(1), int64(1), object(7)\n",
      "memory usage: 3.2+ MB\n"
     ]
    }
   ],
   "source": [
    "# about 0.6s\n",
    "name = '법정동코드_2022.10.14(수정2023.05.04)'\n",
    "file_name = f'{name}.xlsx'\n",
    "code = pd.read_excel(os.path.join(big2_fold, file_name))\n",
    "code.info()"
   ]
  },
  {
   "cell_type": "code",
   "execution_count": 49,
   "metadata": {},
   "outputs": [
    {
     "data": {
      "text/html": [
       "<div>\n",
       "<style scoped>\n",
       "    .dataframe tbody tr th:only-of-type {\n",
       "        vertical-align: middle;\n",
       "    }\n",
       "\n",
       "    .dataframe tbody tr th {\n",
       "        vertical-align: top;\n",
       "    }\n",
       "\n",
       "    .dataframe thead th {\n",
       "        text-align: right;\n",
       "    }\n",
       "</style>\n",
       "<table border=\"1\" class=\"dataframe\">\n",
       "  <thead>\n",
       "    <tr style=\"text-align: right;\">\n",
       "      <th></th>\n",
       "      <th>법정동코드</th>\n",
       "      <th>시도</th>\n",
       "      <th>시구군</th>\n",
       "      <th>읍면동</th>\n",
       "      <th>리</th>\n",
       "      <th>지역3</th>\n",
       "      <th>폐지여부</th>\n",
       "      <th>대기관리권역</th>\n",
       "      <th>대기관리권역YN</th>\n",
       "    </tr>\n",
       "  </thead>\n",
       "  <tbody>\n",
       "    <tr>\n",
       "      <th>0</th>\n",
       "      <td>1100000000</td>\n",
       "      <td>서울</td>\n",
       "      <td>NaN</td>\n",
       "      <td>NaN</td>\n",
       "      <td>NaN</td>\n",
       "      <td>NaN</td>\n",
       "      <td>존재</td>\n",
       "      <td>수도권</td>\n",
       "      <td>Y</td>\n",
       "    </tr>\n",
       "    <tr>\n",
       "      <th>1</th>\n",
       "      <td>1111000000</td>\n",
       "      <td>서울</td>\n",
       "      <td>종로구</td>\n",
       "      <td>NaN</td>\n",
       "      <td>NaN</td>\n",
       "      <td>NaN</td>\n",
       "      <td>존재</td>\n",
       "      <td>수도권</td>\n",
       "      <td>Y</td>\n",
       "    </tr>\n",
       "    <tr>\n",
       "      <th>2</th>\n",
       "      <td>1111010100</td>\n",
       "      <td>서울</td>\n",
       "      <td>종로구</td>\n",
       "      <td>청운동</td>\n",
       "      <td>NaN</td>\n",
       "      <td>NaN</td>\n",
       "      <td>존재</td>\n",
       "      <td>수도권</td>\n",
       "      <td>Y</td>\n",
       "    </tr>\n",
       "    <tr>\n",
       "      <th>3</th>\n",
       "      <td>1111010200</td>\n",
       "      <td>서울</td>\n",
       "      <td>종로구</td>\n",
       "      <td>신교동</td>\n",
       "      <td>NaN</td>\n",
       "      <td>NaN</td>\n",
       "      <td>존재</td>\n",
       "      <td>수도권</td>\n",
       "      <td>Y</td>\n",
       "    </tr>\n",
       "    <tr>\n",
       "      <th>4</th>\n",
       "      <td>1111010300</td>\n",
       "      <td>서울</td>\n",
       "      <td>종로구</td>\n",
       "      <td>궁정동</td>\n",
       "      <td>NaN</td>\n",
       "      <td>NaN</td>\n",
       "      <td>존재</td>\n",
       "      <td>수도권</td>\n",
       "      <td>Y</td>\n",
       "    </tr>\n",
       "  </tbody>\n",
       "</table>\n",
       "</div>"
      ],
      "text/plain": [
       "        법정동코드  시도  시구군  읍면동    리  지역3 폐지여부 대기관리권역 대기관리권역YN\n",
       "0  1100000000  서울  NaN  NaN  NaN  NaN   존재    수도권        Y\n",
       "1  1111000000  서울  종로구  NaN  NaN  NaN   존재    수도권        Y\n",
       "2  1111010100  서울  종로구  청운동  NaN  NaN   존재    수도권        Y\n",
       "3  1111010200  서울  종로구  신교동  NaN  NaN   존재    수도권        Y\n",
       "4  1111010300  서울  종로구  궁정동  NaN  NaN   존재    수도권        Y"
      ]
     },
     "execution_count": 49,
     "metadata": {},
     "output_type": "execute_result"
    }
   ],
   "source": [
    "code.head()"
   ]
  },
  {
   "cell_type": "code",
   "execution_count": 50,
   "metadata": {},
   "outputs": [
    {
     "data": {
      "text/html": [
       "<div>\n",
       "<style scoped>\n",
       "    .dataframe tbody tr th:only-of-type {\n",
       "        vertical-align: middle;\n",
       "    }\n",
       "\n",
       "    .dataframe tbody tr th {\n",
       "        vertical-align: top;\n",
       "    }\n",
       "\n",
       "    .dataframe thead th {\n",
       "        text-align: right;\n",
       "    }\n",
       "</style>\n",
       "<table border=\"1\" class=\"dataframe\">\n",
       "  <thead>\n",
       "    <tr style=\"text-align: right;\">\n",
       "      <th></th>\n",
       "      <th>본거지법정동코드</th>\n",
       "      <th>시도</th>\n",
       "      <th>시구군</th>\n",
       "      <th>읍면동</th>\n",
       "      <th>리</th>\n",
       "      <th>지역3</th>\n",
       "      <th>폐지여부</th>\n",
       "      <th>대기관리권역</th>\n",
       "      <th>대기관리권역YN</th>\n",
       "    </tr>\n",
       "  </thead>\n",
       "  <tbody>\n",
       "    <tr>\n",
       "      <th>0</th>\n",
       "      <td>1100000000</td>\n",
       "      <td>서울</td>\n",
       "      <td>NaN</td>\n",
       "      <td>NaN</td>\n",
       "      <td>NaN</td>\n",
       "      <td>NaN</td>\n",
       "      <td>존재</td>\n",
       "      <td>수도권</td>\n",
       "      <td>Y</td>\n",
       "    </tr>\n",
       "    <tr>\n",
       "      <th>1</th>\n",
       "      <td>1111000000</td>\n",
       "      <td>서울</td>\n",
       "      <td>종로구</td>\n",
       "      <td>NaN</td>\n",
       "      <td>NaN</td>\n",
       "      <td>NaN</td>\n",
       "      <td>존재</td>\n",
       "      <td>수도권</td>\n",
       "      <td>Y</td>\n",
       "    </tr>\n",
       "    <tr>\n",
       "      <th>2</th>\n",
       "      <td>1111010100</td>\n",
       "      <td>서울</td>\n",
       "      <td>종로구</td>\n",
       "      <td>청운동</td>\n",
       "      <td>NaN</td>\n",
       "      <td>NaN</td>\n",
       "      <td>존재</td>\n",
       "      <td>수도권</td>\n",
       "      <td>Y</td>\n",
       "    </tr>\n",
       "    <tr>\n",
       "      <th>3</th>\n",
       "      <td>1111010200</td>\n",
       "      <td>서울</td>\n",
       "      <td>종로구</td>\n",
       "      <td>신교동</td>\n",
       "      <td>NaN</td>\n",
       "      <td>NaN</td>\n",
       "      <td>존재</td>\n",
       "      <td>수도권</td>\n",
       "      <td>Y</td>\n",
       "    </tr>\n",
       "    <tr>\n",
       "      <th>4</th>\n",
       "      <td>1111010300</td>\n",
       "      <td>서울</td>\n",
       "      <td>종로구</td>\n",
       "      <td>궁정동</td>\n",
       "      <td>NaN</td>\n",
       "      <td>NaN</td>\n",
       "      <td>존재</td>\n",
       "      <td>수도권</td>\n",
       "      <td>Y</td>\n",
       "    </tr>\n",
       "  </tbody>\n",
       "</table>\n",
       "</div>"
      ],
      "text/plain": [
       "     본거지법정동코드  시도  시구군  읍면동    리  지역3 폐지여부 대기관리권역 대기관리권역YN\n",
       "0  1100000000  서울  NaN  NaN  NaN  NaN   존재    수도권        Y\n",
       "1  1111000000  서울  종로구  NaN  NaN  NaN   존재    수도권        Y\n",
       "2  1111010100  서울  종로구  청운동  NaN  NaN   존재    수도권        Y\n",
       "3  1111010200  서울  종로구  신교동  NaN  NaN   존재    수도권        Y\n",
       "4  1111010300  서울  종로구  궁정동  NaN  NaN   존재    수도권        Y"
      ]
     },
     "execution_count": 50,
     "metadata": {},
     "output_type": "execute_result"
    }
   ],
   "source": [
    "code = code.rename(columns={'법정동코드':'본거지법정동코드'})\n",
    "code.head()"
   ]
  },
  {
   "attachments": {},
   "cell_type": "markdown",
   "metadata": {},
   "source": [
    "## 차명_연료_매칭"
   ]
  },
  {
   "cell_type": "code",
   "execution_count": 60,
   "metadata": {},
   "outputs": [
    {
     "name": "stdout",
     "output_type": "stream",
     "text": [
      "<class 'pandas.core.frame.DataFrame'>\n",
      "RangeIndex: 216 entries, 0 to 215\n",
      "Data columns (total 2 columns):\n",
      " #   Column  Non-Null Count  Dtype \n",
      "---  ------  --------------  ----- \n",
      " 0   차명      216 non-null    object\n",
      " 1   연료      216 non-null    object\n",
      "dtypes: object(2)\n",
      "memory usage: 3.5+ KB\n"
     ]
    }
   ],
   "source": [
    "# about 0.1s\n",
    "name = '차명_연료_매칭_2023.03.03_AM.11.12.03'\n",
    "file_name = f'{name}.xlsx'\n",
    "fuel = pd.read_excel(os.path.join(big2_fold, file_name))\n",
    "fuel.info()"
   ]
  },
  {
   "cell_type": "code",
   "execution_count": 61,
   "metadata": {},
   "outputs": [
    {
     "data": {
      "text/html": [
       "<div>\n",
       "<style scoped>\n",
       "    .dataframe tbody tr th:only-of-type {\n",
       "        vertical-align: middle;\n",
       "    }\n",
       "\n",
       "    .dataframe tbody tr th {\n",
       "        vertical-align: top;\n",
       "    }\n",
       "\n",
       "    .dataframe thead th {\n",
       "        text-align: right;\n",
       "    }\n",
       "</style>\n",
       "<table border=\"1\" class=\"dataframe\">\n",
       "  <thead>\n",
       "    <tr style=\"text-align: right;\">\n",
       "      <th></th>\n",
       "      <th>차명</th>\n",
       "      <th>연료</th>\n",
       "    </tr>\n",
       "  </thead>\n",
       "  <tbody>\n",
       "    <tr>\n",
       "      <th>0</th>\n",
       "      <td>BENZ S500</td>\n",
       "      <td>휘발유</td>\n",
       "    </tr>\n",
       "    <tr>\n",
       "      <th>1</th>\n",
       "      <td>BMW</td>\n",
       "      <td>휘발유</td>\n",
       "    </tr>\n",
       "    <tr>\n",
       "      <th>2</th>\n",
       "      <td>BMW 3-SERIES</td>\n",
       "      <td>휘발유</td>\n",
       "    </tr>\n",
       "    <tr>\n",
       "      <th>3</th>\n",
       "      <td>BMW 318I</td>\n",
       "      <td>휘발유</td>\n",
       "    </tr>\n",
       "    <tr>\n",
       "      <th>4</th>\n",
       "      <td>BMW 325CI</td>\n",
       "      <td>휘발유</td>\n",
       "    </tr>\n",
       "  </tbody>\n",
       "</table>\n",
       "</div>"
      ],
      "text/plain": [
       "             차명   연료\n",
       "0     BENZ S500  휘발유\n",
       "1           BMW  휘발유\n",
       "2  BMW 3-SERIES  휘발유\n",
       "3      BMW 318I  휘발유\n",
       "4     BMW 325CI  휘발유"
      ]
     },
     "execution_count": 61,
     "metadata": {},
     "output_type": "execute_result"
    }
   ],
   "source": [
    "fuel.head()"
   ]
  },
  {
   "attachments": {},
   "cell_type": "markdown",
   "metadata": {},
   "source": [
    "# 전처리"
   ]
  },
  {
   "attachments": {},
   "cell_type": "markdown",
   "metadata": {},
   "source": [
    "## 말소 차량 제거"
   ]
  },
  {
   "cell_type": "code",
   "execution_count": 40,
   "metadata": {},
   "outputs": [
    {
     "data": {
      "text/plain": [
       "N    1511251\n",
       "Y     387565\n",
       "Name: 차량말소YN, dtype: int64"
      ]
     },
     "execution_count": 40,
     "metadata": {},
     "output_type": "execute_result"
    }
   ],
   "source": [
    "g4['차량말소YN'].value_counts(dropna=False)"
   ]
  },
  {
   "cell_type": "code",
   "execution_count": 41,
   "metadata": {},
   "outputs": [
    {
     "data": {
      "text/plain": [
       "(1511251, 49)"
      ]
     },
     "execution_count": 41,
     "metadata": {},
     "output_type": "execute_result"
    }
   ],
   "source": [
    "gm4 = g4.loc[g4['차량말소YN'] == 'N'].reset_index(drop=True)\n",
    "gm4.shape"
   ]
  },
  {
   "cell_type": "code",
   "execution_count": 42,
   "metadata": {},
   "outputs": [
    {
     "data": {
      "text/plain": [
       "Index(['차량관리번호', '차량등록번호', '본거지법정동코드', '소유자구분', '차종_등록정보', '용도', '현재회원번호',\n",
       "       '차대번호', '최초등록일자', '차량연식', '차량제작일자', '배출가스검사유효일자', '제원관리번호', '배출가스인증번호',\n",
       "       '배출가스등급', '저공해조치YN(미사용)', '저공해조치종류', '저공해조치구조변경YN', '차량등록번호숫자정보',\n",
       "       '차량말소YN', '최초회원번호', '취득일자', '취득금액', '생성일시_등록정보', '수정일시_등록정보', '차명',\n",
       "       '차종_제원정보', '차종분류', '차종유형(소분류)', '자동차형식', '제작사명', '연료', '엔진형식', '공차중량',\n",
       "       '총중량', '적재중량', '엔진출력', '배기량', '승차인원', '차량길이', '차량너비', '차량높이', '원산지명',\n",
       "       '삭제YN', '승인일자', '구동형식', '변속기종류', '생성일시_제원정보', '수정일시_제원정보'],\n",
       "      dtype='object')"
      ]
     },
     "execution_count": 42,
     "metadata": {},
     "output_type": "execute_result"
    }
   ],
   "source": [
    "gm4.columns"
   ]
  },
  {
   "cell_type": "code",
   "execution_count": 43,
   "metadata": {},
   "outputs": [
    {
     "data": {
      "text/plain": [
       "(1511251, 49)"
      ]
     },
     "execution_count": 43,
     "metadata": {},
     "output_type": "execute_result"
    }
   ],
   "source": [
    "gm4.shape"
   ]
  },
  {
   "attachments": {},
   "cell_type": "markdown",
   "metadata": {},
   "source": [
    "## 시도, 시구군 정보 부착"
   ]
  },
  {
   "cell_type": "code",
   "execution_count": 51,
   "metadata": {},
   "outputs": [
    {
     "data": {
      "text/plain": [
       "(1511251, 57)"
      ]
     },
     "execution_count": 51,
     "metadata": {},
     "output_type": "execute_result"
    }
   ],
   "source": [
    "dfg4 = gm4.merge(code, on='본거지법정동코드', how='left')\n",
    "dfg4.shape"
   ]
  },
  {
   "cell_type": "code",
   "execution_count": 52,
   "metadata": {},
   "outputs": [
    {
     "data": {
      "text/plain": [
       "시도     0\n",
       "시구군    5\n",
       "dtype: int64"
      ]
     },
     "execution_count": 52,
     "metadata": {},
     "output_type": "execute_result"
    }
   ],
   "source": [
    "dfg4[['시도', '시구군']].isnull().sum()"
   ]
  },
  {
   "cell_type": "code",
   "execution_count": 54,
   "metadata": {},
   "outputs": [
    {
     "data": {
      "text/html": [
       "<div>\n",
       "<style scoped>\n",
       "    .dataframe tbody tr th:only-of-type {\n",
       "        vertical-align: middle;\n",
       "    }\n",
       "\n",
       "    .dataframe tbody tr th {\n",
       "        vertical-align: top;\n",
       "    }\n",
       "\n",
       "    .dataframe thead th {\n",
       "        text-align: right;\n",
       "    }\n",
       "</style>\n",
       "<table border=\"1\" class=\"dataframe\">\n",
       "  <thead>\n",
       "    <tr style=\"text-align: right;\">\n",
       "      <th></th>\n",
       "      <th>본거지법정동코드</th>\n",
       "      <th>시도</th>\n",
       "      <th>시구군</th>\n",
       "    </tr>\n",
       "  </thead>\n",
       "  <tbody>\n",
       "    <tr>\n",
       "      <th>25785</th>\n",
       "      <td>3611000000</td>\n",
       "      <td>세종</td>\n",
       "      <td>NaN</td>\n",
       "    </tr>\n",
       "    <tr>\n",
       "      <th>66828</th>\n",
       "      <td>3611000000</td>\n",
       "      <td>세종</td>\n",
       "      <td>NaN</td>\n",
       "    </tr>\n",
       "    <tr>\n",
       "      <th>157322</th>\n",
       "      <td>3611000000</td>\n",
       "      <td>세종</td>\n",
       "      <td>NaN</td>\n",
       "    </tr>\n",
       "    <tr>\n",
       "      <th>175651</th>\n",
       "      <td>3611000000</td>\n",
       "      <td>세종</td>\n",
       "      <td>NaN</td>\n",
       "    </tr>\n",
       "    <tr>\n",
       "      <th>269793</th>\n",
       "      <td>3611000000</td>\n",
       "      <td>세종</td>\n",
       "      <td>NaN</td>\n",
       "    </tr>\n",
       "  </tbody>\n",
       "</table>\n",
       "</div>"
      ],
      "text/plain": [
       "          본거지법정동코드  시도  시구군\n",
       "25785   3611000000  세종  NaN\n",
       "66828   3611000000  세종  NaN\n",
       "157322  3611000000  세종  NaN\n",
       "175651  3611000000  세종  NaN\n",
       "269793  3611000000  세종  NaN"
      ]
     },
     "execution_count": 54,
     "metadata": {},
     "output_type": "execute_result"
    }
   ],
   "source": [
    "dfg4.loc[dfg4['시구군'].isnull() == True, ['본거지법정동코드', '시도', '시구군']]"
   ]
  },
  {
   "attachments": {},
   "cell_type": "markdown",
   "metadata": {},
   "source": [
    "## 연료 결측, 기타연료 수정"
   ]
  },
  {
   "cell_type": "code",
   "execution_count": 71,
   "metadata": {},
   "outputs": [
    {
     "data": {
      "text/plain": [
       "{'BENZ S500': '휘발유',\n",
       " 'BMW': '휘발유',\n",
       " 'BMW 3-SERIES': '휘발유',\n",
       " 'BMW 318I': '휘발유',\n",
       " 'BMW 325CI': '휘발유',\n",
       " 'BMW 325I': '휘발유',\n",
       " 'BMW 325i': '휘발유',\n",
       " 'BMW 328I': '휘발유',\n",
       " 'BMW 525I': '휘발유',\n",
       " 'BMW 528I': '휘발유',\n",
       " 'BMW 530I': '휘발유',\n",
       " 'BMW 5SERIES': '휘발유',\n",
       " 'BMW 750Li': '휘발유',\n",
       " 'BMW X3': '휘발유',\n",
       " 'BMW X5': '휘발유',\n",
       " 'BMW Z3': '휘발유',\n",
       " 'BMW530I': '휘발유',\n",
       " 'BUICK CENTURY': '휘발유',\n",
       " 'BUICK LESABRE': '휘발유',\n",
       " 'BUICK TERRAZA': '휘발유',\n",
       " 'CADILLAC CTS': '휘발유',\n",
       " 'CHEVROLET IMPALA': '휘발유',\n",
       " 'CHEVROLET PRIZM': '휘발유',\n",
       " 'CHRYSLER': '휘발유',\n",
       " 'CHRYSLER 300 LTD': '휘발유',\n",
       " 'CHRYSLER 300C': '경유',\n",
       " 'CHRYSLER HEMI AWD': '휘발유',\n",
       " 'CHRYSLER PT CRUISER': '휘발유',\n",
       " 'CHRYSLER TOWN & COUNTRY(7)': '휘발유',\n",
       " 'CIELO': '휘발유',\n",
       " 'CORSICA': '휘발유',\n",
       " 'COUGAR': '휘발유',\n",
       " 'DODGE CALIBER': '휘발유',\n",
       " 'DODGE CARAVAN': '휘발유',\n",
       " 'DODGE CHARGER': '휘발유',\n",
       " 'DODGE DAKOTA': '휘발유',\n",
       " 'DODGE DURANGO': '휘발유',\n",
       " 'DODGE GRAND CARAVAN': '휘발유',\n",
       " 'DODGE NEON SXT': '휘발유',\n",
       " 'EF소나타': '휘발유',\n",
       " 'ESCORT': '휘발유',\n",
       " 'FIREBIRD': '휘발유',\n",
       " 'FORD ESCAPE': '휘발유',\n",
       " 'FORD EXPEDITION': '휘발유',\n",
       " 'FORD EXPEDITION(8)': '휘발유',\n",
       " 'FORD EXPLORER': '휘발유',\n",
       " 'FORD FOCUS': '휘발유',\n",
       " 'FORD FREESTYLE(7)': '휘발유',\n",
       " 'FORD FUSION': '휘발유',\n",
       " 'FORD MUSTANG': '휘발유',\n",
       " 'FORD RANGER XLT': '경유',\n",
       " 'FORD WINDSTAR': '휘발유',\n",
       " 'G.M.C': '휘발유',\n",
       " 'G20': '휘발유',\n",
       " 'GMC': '휘발유',\n",
       " 'GMC JIMMY': '휘발유',\n",
       " 'GMC SIERRA': '휘발유',\n",
       " 'HONDA ACCORD': '휘발유',\n",
       " 'HONDA CR-V': '휘발유',\n",
       " 'HONDA CR-V EX': '휘발유',\n",
       " 'HONDA PILOT': '휘발유',\n",
       " 'HYUNDAI PRESTO': '휘발유',\n",
       " 'HYUNDAI SONATA': '휘발유',\n",
       " 'HYUNDAI/SONATA': '휘발유',\n",
       " 'INFINITI G37S': '휘발유',\n",
       " 'JAGUAR X-TYPE': '휘발유',\n",
       " 'JEEP GRAND CHEROKEE': '휘발유',\n",
       " 'JEEP LIBERTY': '휘발유',\n",
       " 'JEEP PATRIOT': '경유',\n",
       " 'KIA OPTIMA': '휘발유',\n",
       " 'KIA SEDONA': '휘발유',\n",
       " 'LEXUS ES330': '휘발유',\n",
       " 'LEXUS ES350': '휘발유',\n",
       " 'LEXUS LS430': '휘발유',\n",
       " 'LEXUS RS330': '휘발유',\n",
       " 'LEXUS RX330': '휘발유',\n",
       " 'LINCOLN MKX': '휘발유',\n",
       " 'MAZDA MAZDA6': '휘발유',\n",
       " 'MAZDA SENTA': '휘발유',\n",
       " 'MERCEDES BENZ': '휘발유',\n",
       " 'MERCEDES-BENZ': '휘발유',\n",
       " 'MERCEDES-BENZ CLS 550': '경유',\n",
       " 'MERCEDES-BENZ E-350': '휘발유',\n",
       " 'MERCEDES-BENZ E-CLASS': '휘발유',\n",
       " 'MERCEDES-BENZ R-CLASS 3500': '경유',\n",
       " 'MERCEDES-BENZ S 500': '휘발유',\n",
       " 'MERCEDES-BENZ S65': '경유',\n",
       " 'MERCURY MILAN': '휘발유',\n",
       " 'NEW 그랜저XG': '휘발유',\n",
       " 'NISSAN MURANO': '휘발유',\n",
       " 'NISSAN ROGUE 3.5': '휘발유',\n",
       " 'NISSAN XTERRA': '휘발유',\n",
       " 'OLDSMOBILE BRAVADA': '휘발유',\n",
       " 'OLDSMOBILESILHOUET': '휘발유',\n",
       " 'PLYMOUTH': '휘발유',\n",
       " 'PONTIAC SUNBIRD': '휘발유',\n",
       " 'PONTIAC VIBE': '휘발유',\n",
       " 'PONTIAC VIBE BASE': '휘발유',\n",
       " 'PORSCHE': '휘발유',\n",
       " 'ROYALE': '휘발유',\n",
       " 'ROYALSALON': '휘발유',\n",
       " 'RX7': '휘발유',\n",
       " 'SANTAFE': '휘발유',\n",
       " 'SEPHIA': '휘발유',\n",
       " 'SILHOUET': '휘발유',\n",
       " 'SPORTAGE': '휘발유',\n",
       " 'STAREX': '휘발유',\n",
       " 'SUNDANCE': '휘발유',\n",
       " 'TAURUS': '휘발유',\n",
       " 'TOYOTA 4-RUNNER': '경유',\n",
       " 'TOYOTA AVALON': '휘발유',\n",
       " 'TOYOTA CAMRY하이브리드': '휘발유 하이브리드',\n",
       " 'TOYOTA COROLLA': '휘발유',\n",
       " 'TOYOTA ESTIIM': '휘발유',\n",
       " 'TOYOTA MATRIX': '휘발유',\n",
       " 'TOYOTA SIENNA': '휘발유',\n",
       " 'TOYOTA SR-5': '휘발유',\n",
       " 'VISION': '휘발유',\n",
       " 'VOLKSWAGEN JETTA': '휘발유',\n",
       " 'VOLVO 7G1': '휘발유',\n",
       " 'VOLVO 960': '휘발유',\n",
       " 'VOLVO S60': '휘발유',\n",
       " 'VOLVO S80': '휘발유',\n",
       " 'VOLVO T5': '휘발유',\n",
       " 'VOLVO XC60': '휘발유',\n",
       " 'VOLVO XC90': '휘발유',\n",
       " '구급차(도요다)': '경유',\n",
       " '그랜저2.0': '휘발유',\n",
       " '그랜저XG300L': '휘발유',\n",
       " '기아마스타': '경유',\n",
       " '뉴복사담프': '경유',\n",
       " '뉴비틀2.0': '휘발유',\n",
       " '닛산실비아2.0': '휘발유',\n",
       " '닛산씨마그로리아': '휘발유',\n",
       " '다임24KL에틸렌글리콜트레일러': '무동력',\n",
       " '다찌람밴': '휘발유',\n",
       " '대우11톤카고': '경유',\n",
       " '대우11톤카고트럭': '경유',\n",
       " '대우8톤카고': '경유',\n",
       " '대흥저상트레일러': '무동력',\n",
       " '도오다': '휘발유',\n",
       " '도요다MR2': '휘발유',\n",
       " '도요다세라': '휘발유',\n",
       " '도요다슈프라': '휘발유',\n",
       " '도요다웨곤엠브란스': '경유',\n",
       " '도요다코로나': '휘발유',\n",
       " '도요다크라운': '휘발유',\n",
       " '도요다크라운로얄싸롱': '휘발유',\n",
       " '도요타 프리우스(하이브리드)': '휘발유 하이브리드',\n",
       " '라비타(LAVITA)': '휘발유',\n",
       " '로얄살롱': '휘발유',\n",
       " '로얄살롱2.0AT': '휘발유',\n",
       " '르망': '휘발유',\n",
       " '르망펜타-5': '휘발유',\n",
       " '링컨MARK7': '경유',\n",
       " '맥스디젤삼방': '경유',\n",
       " '머큐리 세이블': '경유',\n",
       " '벤즈 230E': '휘발유',\n",
       " '벤즈230E': '휘발유',\n",
       " '벤츠 C300': '휘발유',\n",
       " '벤츠190E': '휘발유',\n",
       " '벤츠C280': '휘발유',\n",
       " '벤츠E230': '휘발유',\n",
       " '벤츠S320': '휘발유',\n",
       " '복사14': '휘발유',\n",
       " '브리샤2': '휘발유',\n",
       " '블루버드': '휘발유',\n",
       " '사파리': '휘발유',\n",
       " '새턴': '휘발유',\n",
       " '새한2.5톤카고': '경유',\n",
       " '새한버스': '경유',\n",
       " '셀리카-GT': '휘발유',\n",
       " '소나타': '휘발유',\n",
       " '소나타1800오토매틱': '휘발유',\n",
       " '수프라': '휘발유',\n",
       " '스텔라': '휘발유',\n",
       " '스텔라1.6CXL': '휘발유',\n",
       " '스텔라오토매틱': '휘발유',\n",
       " '시보레': '휘발유',\n",
       " '시보레카베리아': '휘발유',\n",
       " '쏘나타': '휘발유',\n",
       " '아시아AM707중형버스': '경유',\n",
       " '아큐라': '휘발유',\n",
       " '에스페로': '휘발유',\n",
       " '에어스트림탐지견수송트레일러': '무동력',\n",
       " '엑셀': '휘발유',\n",
       " '엑셀운전교습용차량': '휘발유',\n",
       " '원흥식 트럭': '경유',\n",
       " '인타담프': '경유',\n",
       " '일산 육륜': '경유',\n",
       " '제설차': '경유',\n",
       " '지프': '경유',\n",
       " '체로키': '휘발유',\n",
       " '캐피탈': '휘발유',\n",
       " '캠리': '휘발유',\n",
       " '코르시카': '휘발유',\n",
       " '코우거': '휘발유',\n",
       " '코티나디럭스': '휘발유',\n",
       " '코티나마크IV': '휘발유',\n",
       " '크로마터보i.e': '휘발유',\n",
       " '티코(TICO)': '휘발유',\n",
       " '포니': '휘발유',\n",
       " '포니2': '휘발유',\n",
       " '포니2-L.P.G': 'LPG(액화석유가스)',\n",
       " '포니2-LPG': 'LPG(액화석유가스)',\n",
       " '포르쉐': '휘발유',\n",
       " '프레스토오토매틱': '휘발유',\n",
       " '프레스토오토메틱': '휘발유',\n",
       " '프리무스': '휘발유 하이브리드',\n",
       " '한원40A콤비콘테이너트레일러': '무동력',\n",
       " '한원40피트구즈넥트레일러': '무동력',\n",
       " '현대3톤트럭': '경유',\n",
       " '현대리어엔진버스': '경유',\n",
       " '현대포터': '경유',\n",
       " '혼다 CR-V': '경유',\n",
       " '홍성캠핑트레일러': '무동력'}"
      ]
     },
     "execution_count": 71,
     "metadata": {},
     "output_type": "execute_result"
    }
   ],
   "source": [
    "fuel_dict = {a:b for a, b in fuel.values}\n",
    "fuel_dict"
   ]
  },
  {
   "cell_type": "code",
   "execution_count": 65,
   "metadata": {},
   "outputs": [
    {
     "data": {
      "text/plain": [
       "array(['스텔라오토매틱', '엑셀', '프레스토오토매틱', '엑셀운전교습용차량', '캐피탈', '크로마터보i.e', '체로키',\n",
       "       '벤츠190E', '쏘나타', '코우거', '시보레', '에스페로', '사파리', '티코(TICO)', '새턴',\n",
       "       '지프', '포르쉐', '시보레카베리아', '블루버드', '벤츠C280', '벤츠E230', '코르시카', '프리무스',\n",
       "       '아큐라', '벤츠S320', '에어스트림탐지견수송트레일러', '수프라'], dtype=object)"
      ]
     },
     "execution_count": 65,
     "metadata": {},
     "output_type": "execute_result"
    }
   ],
   "source": [
    "dfg4.loc[((dfg4['연료'].isnull() == True) | (dfg4['연료'] == '기타연료')), '차명'].unique()"
   ]
  },
  {
   "cell_type": "code",
   "execution_count": 72,
   "metadata": {},
   "outputs": [],
   "source": [
    "for one in dfg4.loc[((dfg4['연료'].isnull() == True) | (dfg4['연료'] == '기타연료')), '차명'].unique():\n",
    "    dfg4.loc[((dfg4['연료'].isnull() == True) | (dfg4['연료'] == '기타연료')) & (dfg4['차명'] == one), '연료'] = fuel_dict[one]"
   ]
  },
  {
   "cell_type": "code",
   "execution_count": 73,
   "metadata": {},
   "outputs": [
    {
     "data": {
      "text/plain": [
       "경유             1152703\n",
       "휘발유             332454\n",
       "LPG(액화석유가스)      26090\n",
       "알코올                  1\n",
       "휘발유 하이브리드            1\n",
       "CNG(압축천연가스)          1\n",
       "무동력                  1\n",
       "Name: 연료, dtype: int64"
      ]
     },
     "execution_count": 73,
     "metadata": {},
     "output_type": "execute_result"
    }
   ],
   "source": [
    "dfg4['연료'].value_counts(dropna=False)"
   ]
  },
  {
   "attachments": {},
   "cell_type": "markdown",
   "metadata": {},
   "source": [
    "# 분석"
   ]
  },
  {
   "cell_type": "code",
   "execution_count": 88,
   "metadata": {},
   "outputs": [
    {
     "data": {
      "text/html": [
       "<div>\n",
       "<style scoped>\n",
       "    .dataframe tbody tr th:only-of-type {\n",
       "        vertical-align: middle;\n",
       "    }\n",
       "\n",
       "    .dataframe tbody tr th {\n",
       "        vertical-align: top;\n",
       "    }\n",
       "\n",
       "    .dataframe thead th {\n",
       "        text-align: right;\n",
       "    }\n",
       "</style>\n",
       "<table border=\"1\" class=\"dataframe\">\n",
       "  <thead>\n",
       "    <tr style=\"text-align: right;\">\n",
       "      <th></th>\n",
       "      <th>대기관리권역YN</th>\n",
       "      <th>N</th>\n",
       "      <th>Y</th>\n",
       "    </tr>\n",
       "    <tr>\n",
       "      <th>대기관리권역</th>\n",
       "      <th>시도</th>\n",
       "      <th></th>\n",
       "      <th></th>\n",
       "    </tr>\n",
       "  </thead>\n",
       "  <tbody>\n",
       "    <tr>\n",
       "      <th rowspan=\"2\" valign=\"top\">그 외</th>\n",
       "      <th>강원</th>\n",
       "      <td>56329.00</td>\n",
       "      <td>NaN</td>\n",
       "    </tr>\n",
       "    <tr>\n",
       "      <th>제주</th>\n",
       "      <td>26652.00</td>\n",
       "      <td>NaN</td>\n",
       "    </tr>\n",
       "    <tr>\n",
       "      <th rowspan=\"2\" valign=\"top\">남부권</th>\n",
       "      <th>광주</th>\n",
       "      <td>NaN</td>\n",
       "      <td>39363.00</td>\n",
       "    </tr>\n",
       "    <tr>\n",
       "      <th>전남</th>\n",
       "      <td>44122.00</td>\n",
       "      <td>41944.00</td>\n",
       "    </tr>\n",
       "    <tr>\n",
       "      <th rowspan=\"5\" valign=\"top\">동남권</th>\n",
       "      <th>경남</th>\n",
       "      <td>41503.00</td>\n",
       "      <td>75269.00</td>\n",
       "    </tr>\n",
       "    <tr>\n",
       "      <th>경북</th>\n",
       "      <td>53241.00</td>\n",
       "      <td>63699.00</td>\n",
       "    </tr>\n",
       "    <tr>\n",
       "      <th>대구</th>\n",
       "      <td>NaN</td>\n",
       "      <td>69055.00</td>\n",
       "    </tr>\n",
       "    <tr>\n",
       "      <th>부산</th>\n",
       "      <td>NaN</td>\n",
       "      <td>76791.00</td>\n",
       "    </tr>\n",
       "    <tr>\n",
       "      <th>울산</th>\n",
       "      <td>NaN</td>\n",
       "      <td>32487.00</td>\n",
       "    </tr>\n",
       "    <tr>\n",
       "      <th rowspan=\"3\" valign=\"top\">수도권</th>\n",
       "      <th>경기</th>\n",
       "      <td>10093.00</td>\n",
       "      <td>352324.00</td>\n",
       "    </tr>\n",
       "    <tr>\n",
       "      <th>서울</th>\n",
       "      <td>NaN</td>\n",
       "      <td>178540.00</td>\n",
       "    </tr>\n",
       "    <tr>\n",
       "      <th>인천</th>\n",
       "      <td>1292.00</td>\n",
       "      <td>79399.00</td>\n",
       "    </tr>\n",
       "    <tr>\n",
       "      <th rowspan=\"5\" valign=\"top\">중부권</th>\n",
       "      <th>대전</th>\n",
       "      <td>NaN</td>\n",
       "      <td>41638.00</td>\n",
       "    </tr>\n",
       "    <tr>\n",
       "      <th>세종</th>\n",
       "      <td>NaN</td>\n",
       "      <td>8075.00</td>\n",
       "    </tr>\n",
       "    <tr>\n",
       "      <th>전북</th>\n",
       "      <td>33505.00</td>\n",
       "      <td>39412.00</td>\n",
       "    </tr>\n",
       "    <tr>\n",
       "      <th>충남</th>\n",
       "      <td>2844.00</td>\n",
       "      <td>82650.00</td>\n",
       "    </tr>\n",
       "    <tr>\n",
       "      <th>충북</th>\n",
       "      <td>11061.00</td>\n",
       "      <td>49962.00</td>\n",
       "    </tr>\n",
       "  </tbody>\n",
       "</table>\n",
       "</div>"
      ],
      "text/plain": [
       "대기관리권역YN         N         Y\n",
       "대기관리권역 시도                   \n",
       "그 외    강원 56329.00       NaN\n",
       "       제주 26652.00       NaN\n",
       "남부권    광주      NaN  39363.00\n",
       "       전남 44122.00  41944.00\n",
       "동남권    경남 41503.00  75269.00\n",
       "       경북 53241.00  63699.00\n",
       "       대구      NaN  69055.00\n",
       "       부산      NaN  76791.00\n",
       "       울산      NaN  32487.00\n",
       "수도권    경기 10093.00 352324.00\n",
       "       서울      NaN 178540.00\n",
       "       인천  1292.00  79399.00\n",
       "중부권    대전      NaN  41638.00\n",
       "       세종      NaN   8075.00\n",
       "       전북 33505.00  39412.00\n",
       "       충남  2844.00  82650.00\n",
       "       충북 11061.00  49962.00"
      ]
     },
     "execution_count": 88,
     "metadata": {},
     "output_type": "execute_result"
    }
   ],
   "source": [
    "# 내연기관차\n",
    "stat = dfg4.loc[dfg4['연료'] != '무동력'].groupby(['대기관리권역', '시도', '대기관리권역YN'])['차대번호'].count().unstack()\n",
    "stat"
   ]
  },
  {
   "attachments": {},
   "cell_type": "markdown",
   "metadata": {},
   "source": [
    "## [출력]대기관리권역별 4등급(말소 제거) 차량 현황"
   ]
  },
  {
   "cell_type": "code",
   "execution_count": 89,
   "metadata": {},
   "outputs": [
    {
     "data": {
      "text/plain": [
       "'2023.05.04_AM.09.31.27'"
      ]
     },
     "execution_count": 89,
     "metadata": {},
     "output_type": "execute_result"
    }
   ],
   "source": [
    "today_date = datetime.today().strftime(\"%Y.%m.%d_%p.%I.%M.%S\")\n",
    "today_date"
   ]
  },
  {
   "cell_type": "code",
   "execution_count": 90,
   "metadata": {},
   "outputs": [],
   "source": [
    "stat.to_excel(os.path.join(analysis_fold, f'통계_4등급_내연기관차_대기관리권역별({today_date}).xlsx'))"
   ]
  },
  {
   "attachments": {},
   "cell_type": "markdown",
   "metadata": {},
   "source": [
    "# code end"
   ]
  }
 ],
 "metadata": {
  "kernelspec": {
   "display_name": "base",
   "language": "python",
   "name": "python3"
  },
  "language_info": {
   "codemirror_mode": {
    "name": "ipython",
    "version": 3
   },
   "file_extension": ".py",
   "mimetype": "text/x-python",
   "name": "python",
   "nbconvert_exporter": "python",
   "pygments_lexer": "ipython3",
   "version": "3.9.13"
  },
  "orig_nbformat": 4,
  "vscode": {
   "interpreter": {
    "hash": "ad2bdc8ecc057115af97d19610ffacc2b4e99fae6737bb82f5d7fb13d2f2c186"
   }
  }
 },
 "nbformat": 4,
 "nbformat_minor": 2
}
