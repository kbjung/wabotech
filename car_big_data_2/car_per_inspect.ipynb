{
 "cells": [
  {
   "attachments": {},
   "cell_type": "markdown",
   "metadata": {},
   "source": [
    "# 정기검사"
   ]
  },
  {
   "attachments": {},
   "cell_type": "markdown",
   "metadata": {},
   "source": [
    "# Library"
   ]
  },
  {
   "cell_type": "code",
   "execution_count": 2,
   "metadata": {},
   "outputs": [],
   "source": [
    "import pandas as pd\n",
    "import numpy as np\n",
    "from tqdm import tqdm\n",
    "import re"
   ]
  },
  {
   "cell_type": "code",
   "execution_count": 11,
   "metadata": {},
   "outputs": [
    {
     "name": "stdout",
     "output_type": "stream",
     "text": [
      "<class 'pandas.core.frame.DataFrame'>\n",
      "RangeIndex: 62 entries, 0 to 61\n",
      "Data columns (total 1 columns):\n",
      " #   Column  Non-Null Count  Dtype \n",
      "---  ------  --------------  ----- \n",
      " 0   col     62 non-null     object\n",
      "dtypes: object(1)\n",
      "memory usage: 624.0+ bytes\n"
     ]
    }
   ],
   "source": [
    "col = pd.read_excel('data/220819_정기검사_컬럼명.xlsx')\n",
    "col.info()"
   ]
  },
  {
   "cell_type": "code",
   "execution_count": 12,
   "metadata": {},
   "outputs": [
    {
     "data": {
      "text/plain": [
       "0        검사소명\n",
       "1      정기검사일자\n",
       "2        검사종류\n",
       "3      검사접수번호\n",
       "4      통합접수번호\n",
       "       ...   \n",
       "57      관능검사원\n",
       "58    배출가스검사원\n",
       "59      책임검사원\n",
       "60    검사 판정시간\n",
       "61     자료구분코드\n",
       "Name: col, Length: 62, dtype: object"
      ]
     },
     "execution_count": 12,
     "metadata": {},
     "output_type": "execute_result"
    }
   ],
   "source": [
    "col['col']"
   ]
  },
  {
   "cell_type": "code",
   "execution_count": 13,
   "metadata": {},
   "outputs": [
    {
     "name": "stdout",
     "output_type": "stream",
     "text": [
      "<class 'pandas.core.frame.DataFrame'>\n",
      "RangeIndex: 796614 entries, 0 to 796613\n",
      "Data columns (total 62 columns):\n",
      " #   Column        Non-Null Count   Dtype  \n",
      "---  ------        --------------   -----  \n",
      " 0   검사소명          796614 non-null  object \n",
      " 1   정기검사일자        796614 non-null  int64  \n",
      " 2   검사종류          796614 non-null  object \n",
      " 3   검사접수번호        796614 non-null  object \n",
      " 4   통합접수번호        796614 non-null  object \n",
      " 5   차량번호          796614 non-null  object \n",
      " 6   차대번호          796614 non-null  object \n",
      " 7   차량형식번호        796614 non-null  object \n",
      " 8   차명            796614 non-null  object \n",
      " 9   차종            796614 non-null  object \n",
      " 10  차량용도          796614 non-null  object \n",
      " 11  차량연식          796614 non-null  int64  \n",
      " 12  차량연료          787770 non-null  object \n",
      " 13  주행거리          795049 non-null  float64\n",
      " 14  차량길이          796614 non-null  int64  \n",
      " 15  차량너비          796614 non-null  int64  \n",
      " 16  차량높이          796614 non-null  int64  \n",
      " 17  엔진형식          793439 non-null  object \n",
      " 18  배기량           788793 non-null  float64\n",
      " 19  엔진출력          796614 non-null  object \n",
      " 20  차량중량          796613 non-null  float64\n",
      " 21  총중량           796614 non-null  int64  \n",
      " 22  정원            796611 non-null  float64\n",
      " 23  비고            0 non-null       float64\n",
      " 24  최초등록일자        796614 non-null  int64  \n",
      " 25  제작일자          794689 non-null  float64\n",
      " 26  검사전 유효기간 만료일  796614 non-null  int64  \n",
      " 27  관능검사판정        0 non-null       float64\n",
      " 28  관능부적합항목       0 non-null       float64\n",
      " 29  검사방법          796614 non-null  object \n",
      " 30  무부하매연측정치1     721619 non-null  float64\n",
      " 31  무부하매연허용치1     721619 non-null  float64\n",
      " 32  무부하매연판정1      721619 non-null  object \n",
      " 33  무부하매연측정치2     269477 non-null  float64\n",
      " 34  무부하매연허용치2     269477 non-null  float64\n",
      " 35  무부하매연판정2      269477 non-null  object \n",
      " 36  무부하매연측정치3     269477 non-null  float64\n",
      " 37  무부하매연허용치3     269475 non-null  float64\n",
      " 38  무부하매연판정3      269475 non-null  object \n",
      " 39  무부하매연측정치4     217140 non-null  float64\n",
      " 40  무부하매연허용치4     217140 non-null  float64\n",
      " 41  무부하매연판정4      217140 non-null  object \n",
      " 42  무부하매연측정치5     217140 non-null  float64\n",
      " 43  무부하매연허용치5     217140 non-null  float64\n",
      " 44  무부하매연판정5      217140 non-null  object \n",
      " 45  무부하매연측정치6     217140 non-null  float64\n",
      " 46  무부하매연허용치6     217140 non-null  float64\n",
      " 47  무부하매연판정6      217140 non-null  object \n",
      " 48  이산화탄소값        268721 non-null  float64\n",
      " 49  최대출력허용치       0 non-null       float64\n",
      " 50  최대출력측정값       0 non-null       float64\n",
      " 51  산소값           228967 non-null  float64\n",
      " 52  공기온도          0 non-null       float64\n",
      " 53  공기압력          0 non-null       float64\n",
      " 54  검사판정          796614 non-null  object \n",
      " 55  재검사기간         796614 non-null  object \n",
      " 56  검사후 갱신유효기간    796614 non-null  object \n",
      " 57  관능검사원         739778 non-null  object \n",
      " 58  배출가스검사원       737711 non-null  object \n",
      " 59  책임검사원         743526 non-null  object \n",
      " 60  검사 판정시간       796614 non-null  object \n",
      " 61  자료구분코드        796614 non-null  object \n",
      "dtypes: float64(26), int64(8), object(28)\n",
      "memory usage: 376.8+ MB\n"
     ]
    }
   ],
   "source": [
    "df = pd.read_table('data/220819_정기검사.txt', names=col['col'], encoding='cp949')\n",
    "df.info()"
   ]
  },
  {
   "cell_type": "code",
   "execution_count": 14,
   "metadata": {},
   "outputs": [
    {
     "data": {
      "text/plain": [
       "Index(['검사소명', '정기검사일자', '검사종류', '검사접수번호', '통합접수번호', '차량번호', '차대번호', '차량형식번호',\n",
       "       '차명', '차종', '차량용도', '차량연식', '차량연료', '주행거리', '차량길이', '차량너비', '차량높이',\n",
       "       '엔진형식', '배기량', '엔진출력', '차량중량', '총중량', '정원', '비고', '최초등록일자', '제작일자',\n",
       "       '검사전 유효기간 만료일', '관능검사판정', '관능부적합항목', '검사방법', '무부하매연측정치1', '무부하매연허용치1',\n",
       "       '무부하매연판정1', '무부하매연측정치2', '무부하매연허용치2', '무부하매연판정2', '무부하매연측정치3',\n",
       "       '무부하매연허용치3', '무부하매연판정3', '무부하매연측정치4', '무부하매연허용치4', '무부하매연판정4',\n",
       "       '무부하매연측정치5', '무부하매연허용치5', '무부하매연판정5', '무부하매연측정치6', '무부하매연허용치6',\n",
       "       '무부하매연판정6', '이산화탄소값', '최대출력허용치', '최대출력측정값', '산소값', '공기온도', '공기압력',\n",
       "       '검사판정', '재검사기간', '검사후 갱신유효기간', '관능검사원', '배출가스검사원', '책임검사원', '검사 판정시간',\n",
       "       '자료구분코드'],\n",
       "      dtype='object')"
      ]
     },
     "execution_count": 14,
     "metadata": {},
     "output_type": "execute_result"
    }
   ],
   "source": [
    "df.columns"
   ]
  },
  {
   "cell_type": "code",
   "execution_count": 15,
   "metadata": {},
   "outputs": [],
   "source": [
    "# csv 출력\n",
    "df.to_csv('data/220819_정기검사.csv', encoding='cp949', index=False)\n",
    "# 24.2s"
   ]
  },
  {
   "cell_type": "code",
   "execution_count": 16,
   "metadata": {},
   "outputs": [
    {
     "data": {
      "text/html": [
       "<div>\n",
       "<style scoped>\n",
       "    .dataframe tbody tr th:only-of-type {\n",
       "        vertical-align: middle;\n",
       "    }\n",
       "\n",
       "    .dataframe tbody tr th {\n",
       "        vertical-align: top;\n",
       "    }\n",
       "\n",
       "    .dataframe thead th {\n",
       "        text-align: right;\n",
       "    }\n",
       "</style>\n",
       "<table border=\"1\" class=\"dataframe\">\n",
       "  <thead>\n",
       "    <tr style=\"text-align: right;\">\n",
       "      <th></th>\n",
       "      <th>index</th>\n",
       "      <th>0</th>\n",
       "    </tr>\n",
       "  </thead>\n",
       "  <tbody>\n",
       "    <tr>\n",
       "      <th>0</th>\n",
       "      <td>검사소명</td>\n",
       "      <td>0</td>\n",
       "    </tr>\n",
       "    <tr>\n",
       "      <th>1</th>\n",
       "      <td>정기검사일자</td>\n",
       "      <td>0</td>\n",
       "    </tr>\n",
       "    <tr>\n",
       "      <th>2</th>\n",
       "      <td>검사종류</td>\n",
       "      <td>0</td>\n",
       "    </tr>\n",
       "    <tr>\n",
       "      <th>3</th>\n",
       "      <td>검사접수번호</td>\n",
       "      <td>0</td>\n",
       "    </tr>\n",
       "    <tr>\n",
       "      <th>4</th>\n",
       "      <td>통합접수번호</td>\n",
       "      <td>0</td>\n",
       "    </tr>\n",
       "  </tbody>\n",
       "</table>\n",
       "</div>"
      ],
      "text/plain": [
       "    index  0\n",
       "0    검사소명  0\n",
       "1  정기검사일자  0\n",
       "2    검사종류  0\n",
       "3  검사접수번호  0\n",
       "4  통합접수번호  0"
      ]
     },
     "execution_count": 16,
     "metadata": {},
     "output_type": "execute_result"
    }
   ],
   "source": [
    "info_df = df.isnull().sum().reset_index()\n",
    "info_df.head()"
   ]
  },
  {
   "attachments": {},
   "cell_type": "markdown",
   "metadata": {},
   "source": [
    "# 데이터 로드"
   ]
  },
  {
   "cell_type": "code",
   "execution_count": 17,
   "metadata": {},
   "outputs": [],
   "source": [
    "df = pd.read_csv('data/220819_정기검사.csv', encoding='cp949')"
   ]
  },
  {
   "attachments": {},
   "cell_type": "markdown",
   "metadata": {},
   "source": [
    "## 기본 확인"
   ]
  },
  {
   "cell_type": "code",
   "execution_count": 18,
   "metadata": {},
   "outputs": [
    {
     "name": "stdout",
     "output_type": "stream",
     "text": [
      "<class 'pandas.core.frame.DataFrame'>\n",
      "RangeIndex: 796614 entries, 0 to 796613\n",
      "Data columns (total 62 columns):\n",
      " #   Column        Non-Null Count   Dtype  \n",
      "---  ------        --------------   -----  \n",
      " 0   검사소명          796614 non-null  object \n",
      " 1   정기검사일자        796614 non-null  int64  \n",
      " 2   검사종류          796614 non-null  object \n",
      " 3   검사접수번호        796614 non-null  object \n",
      " 4   통합접수번호        796614 non-null  object \n",
      " 5   차량번호          796614 non-null  object \n",
      " 6   차대번호          796614 non-null  object \n",
      " 7   차량형식번호        796614 non-null  object \n",
      " 8   차명            796614 non-null  object \n",
      " 9   차종            796614 non-null  object \n",
      " 10  차량용도          796614 non-null  object \n",
      " 11  차량연식          796614 non-null  int64  \n",
      " 12  차량연료          787770 non-null  object \n",
      " 13  주행거리          795049 non-null  float64\n",
      " 14  차량길이          796614 non-null  int64  \n",
      " 15  차량너비          796614 non-null  int64  \n",
      " 16  차량높이          796614 non-null  int64  \n",
      " 17  엔진형식          793439 non-null  object \n",
      " 18  배기량           788793 non-null  float64\n",
      " 19  엔진출력          796614 non-null  object \n",
      " 20  차량중량          796613 non-null  float64\n",
      " 21  총중량           796614 non-null  int64  \n",
      " 22  정원            796611 non-null  float64\n",
      " 23  비고            0 non-null       float64\n",
      " 24  최초등록일자        796614 non-null  int64  \n",
      " 25  제작일자          794689 non-null  float64\n",
      " 26  검사전 유효기간 만료일  796614 non-null  int64  \n",
      " 27  관능검사판정        0 non-null       float64\n",
      " 28  관능부적합항목       0 non-null       float64\n",
      " 29  검사방법          796614 non-null  object \n",
      " 30  무부하매연측정치1     721619 non-null  float64\n",
      " 31  무부하매연허용치1     721619 non-null  float64\n",
      " 32  무부하매연판정1      721619 non-null  object \n",
      " 33  무부하매연측정치2     269477 non-null  float64\n",
      " 34  무부하매연허용치2     269477 non-null  float64\n",
      " 35  무부하매연판정2      269477 non-null  object \n",
      " 36  무부하매연측정치3     269477 non-null  float64\n",
      " 37  무부하매연허용치3     269475 non-null  float64\n",
      " 38  무부하매연판정3      269475 non-null  object \n",
      " 39  무부하매연측정치4     217140 non-null  float64\n",
      " 40  무부하매연허용치4     217140 non-null  float64\n",
      " 41  무부하매연판정4      217140 non-null  object \n",
      " 42  무부하매연측정치5     217140 non-null  float64\n",
      " 43  무부하매연허용치5     217140 non-null  float64\n",
      " 44  무부하매연판정5      217140 non-null  object \n",
      " 45  무부하매연측정치6     217140 non-null  float64\n",
      " 46  무부하매연허용치6     217140 non-null  float64\n",
      " 47  무부하매연판정6      217140 non-null  object \n",
      " 48  이산화탄소값        268721 non-null  float64\n",
      " 49  최대출력허용치       0 non-null       float64\n",
      " 50  최대출력측정값       0 non-null       float64\n",
      " 51  산소값           228967 non-null  float64\n",
      " 52  공기온도          0 non-null       float64\n",
      " 53  공기압력          0 non-null       float64\n",
      " 54  검사판정          796614 non-null  object \n",
      " 55  재검사기간         796614 non-null  object \n",
      " 56  검사후 갱신유효기간    796614 non-null  object \n",
      " 57  관능검사원         739778 non-null  object \n",
      " 58  배출가스검사원       737711 non-null  object \n",
      " 59  책임검사원         743526 non-null  object \n",
      " 60  검사 판정시간       796614 non-null  object \n",
      " 61  자료구분코드        796614 non-null  object \n",
      "dtypes: float64(26), int64(8), object(28)\n",
      "memory usage: 376.8+ MB\n"
     ]
    }
   ],
   "source": [
    "df.info()"
   ]
  },
  {
   "cell_type": "code",
   "execution_count": 19,
   "metadata": {},
   "outputs": [],
   "source": [
    "# null 값 있는 컬럼\n",
    "# 12\t차량연료\t8844\n",
    "# 13\t주행거리\t1565\n",
    "# 17\t엔진형식\t3175\n",
    "# 18\t배기량\t7821\n",
    "# 20\t차량중량\t1\n",
    "# 22\t정원\t3\n",
    "# 23\t비고\t796614\n",
    "# 25\t제작일자\t1925\n",
    "# 27\t관능검사판정\t796614\n",
    "# 28\t관능부적합항목\t796614\n",
    "# 30\t무부하매연측정치1\t74995\n",
    "# 31\t무부하매연허용치1\t74995\n",
    "# 32\t무부하매연판정1\t74995\n",
    "# 33\t무부하매연측정치2\t527137\n",
    "# 34\t무부하매연허용치2\t527137\n",
    "# 35\t무부하매연판정2\t527137\n",
    "# 36\t무부하매연측정치3\t527137\n",
    "# 37\t무부하매연허용치3\t527139\n",
    "# 38\t무부하매연판정3\t527139\n",
    "# 39\t무부하매연측정치4\t579474\n",
    "# 40\t무부하매연허용치4\t579474\n",
    "# 41\t무부하매연판정4\t579474\n",
    "# 42\t무부하매연측정치5\t579474\n",
    "# 43\t무부하매연허용치5\t579474\n",
    "# 44\t무부하매연판정5\t579474\n",
    "# 45\t무부하매연측정치6\t579474\n",
    "# 46\t무부하매연허용치6\t579474\n",
    "# 47\t무부하매연판정6\t579474\n",
    "# 48\t이산화탄소값\t527893\n",
    "# 49\t최대출력허용치\t796614\n",
    "# 50\t최대출력측정값\t796614\n",
    "# 51\t산소값\t567647\n",
    "# 52\t공기온도\t796614\n",
    "# 53\t공기압력\t796614\n",
    "# 57\t관능검사원\t56836\n",
    "# 58\t배출가스검사원\t58903\n",
    "# 59\t책임검사원\t53088"
   ]
  },
  {
   "cell_type": "code",
   "execution_count": 20,
   "metadata": {},
   "outputs": [
    {
     "data": {
      "text/html": [
       "<div>\n",
       "<style scoped>\n",
       "    .dataframe tbody tr th:only-of-type {\n",
       "        vertical-align: middle;\n",
       "    }\n",
       "\n",
       "    .dataframe tbody tr th {\n",
       "        vertical-align: top;\n",
       "    }\n",
       "\n",
       "    .dataframe thead th {\n",
       "        text-align: right;\n",
       "    }\n",
       "</style>\n",
       "<table border=\"1\" class=\"dataframe\">\n",
       "  <thead>\n",
       "    <tr style=\"text-align: right;\">\n",
       "      <th></th>\n",
       "      <th>index</th>\n",
       "      <th>0</th>\n",
       "    </tr>\n",
       "  </thead>\n",
       "  <tbody>\n",
       "    <tr>\n",
       "      <th>5</th>\n",
       "      <td>차량번호</td>\n",
       "      <td>0</td>\n",
       "    </tr>\n",
       "    <tr>\n",
       "      <th>6</th>\n",
       "      <td>차대번호</td>\n",
       "      <td>0</td>\n",
       "    </tr>\n",
       "    <tr>\n",
       "      <th>7</th>\n",
       "      <td>차량형식번호</td>\n",
       "      <td>0</td>\n",
       "    </tr>\n",
       "    <tr>\n",
       "      <th>8</th>\n",
       "      <td>차명</td>\n",
       "      <td>0</td>\n",
       "    </tr>\n",
       "    <tr>\n",
       "      <th>9</th>\n",
       "      <td>차종</td>\n",
       "      <td>0</td>\n",
       "    </tr>\n",
       "    <tr>\n",
       "      <th>10</th>\n",
       "      <td>차량용도</td>\n",
       "      <td>0</td>\n",
       "    </tr>\n",
       "    <tr>\n",
       "      <th>11</th>\n",
       "      <td>차량연식</td>\n",
       "      <td>0</td>\n",
       "    </tr>\n",
       "    <tr>\n",
       "      <th>12</th>\n",
       "      <td>차량연료</td>\n",
       "      <td>8844</td>\n",
       "    </tr>\n",
       "    <tr>\n",
       "      <th>13</th>\n",
       "      <td>주행거리</td>\n",
       "      <td>1565</td>\n",
       "    </tr>\n",
       "    <tr>\n",
       "      <th>14</th>\n",
       "      <td>차량길이</td>\n",
       "      <td>0</td>\n",
       "    </tr>\n",
       "  </tbody>\n",
       "</table>\n",
       "</div>"
      ],
      "text/plain": [
       "     index     0\n",
       "5     차량번호     0\n",
       "6     차대번호     0\n",
       "7   차량형식번호     0\n",
       "8       차명     0\n",
       "9       차종     0\n",
       "10    차량용도     0\n",
       "11    차량연식     0\n",
       "12    차량연료  8844\n",
       "13    주행거리  1565\n",
       "14    차량길이     0"
      ]
     },
     "execution_count": 20,
     "metadata": {},
     "output_type": "execute_result"
    }
   ],
   "source": [
    "info_df[5:15]"
   ]
  },
  {
   "cell_type": "code",
   "execution_count": 21,
   "metadata": {},
   "outputs": [
    {
     "data": {
      "text/html": [
       "<div>\n",
       "<style scoped>\n",
       "    .dataframe tbody tr th:only-of-type {\n",
       "        vertical-align: middle;\n",
       "    }\n",
       "\n",
       "    .dataframe tbody tr th {\n",
       "        vertical-align: top;\n",
       "    }\n",
       "\n",
       "    .dataframe thead th {\n",
       "        text-align: right;\n",
       "    }\n",
       "</style>\n",
       "<table border=\"1\" class=\"dataframe\">\n",
       "  <thead>\n",
       "    <tr style=\"text-align: right;\">\n",
       "      <th></th>\n",
       "      <th>index</th>\n",
       "      <th>0</th>\n",
       "    </tr>\n",
       "  </thead>\n",
       "  <tbody>\n",
       "    <tr>\n",
       "      <th>15</th>\n",
       "      <td>차량너비</td>\n",
       "      <td>0</td>\n",
       "    </tr>\n",
       "    <tr>\n",
       "      <th>16</th>\n",
       "      <td>차량높이</td>\n",
       "      <td>0</td>\n",
       "    </tr>\n",
       "    <tr>\n",
       "      <th>17</th>\n",
       "      <td>엔진형식</td>\n",
       "      <td>3175</td>\n",
       "    </tr>\n",
       "    <tr>\n",
       "      <th>18</th>\n",
       "      <td>배기량</td>\n",
       "      <td>7821</td>\n",
       "    </tr>\n",
       "    <tr>\n",
       "      <th>19</th>\n",
       "      <td>엔진출력</td>\n",
       "      <td>0</td>\n",
       "    </tr>\n",
       "    <tr>\n",
       "      <th>20</th>\n",
       "      <td>차량중량</td>\n",
       "      <td>1</td>\n",
       "    </tr>\n",
       "    <tr>\n",
       "      <th>21</th>\n",
       "      <td>총중량</td>\n",
       "      <td>0</td>\n",
       "    </tr>\n",
       "    <tr>\n",
       "      <th>22</th>\n",
       "      <td>정원</td>\n",
       "      <td>3</td>\n",
       "    </tr>\n",
       "    <tr>\n",
       "      <th>23</th>\n",
       "      <td>비고</td>\n",
       "      <td>796614</td>\n",
       "    </tr>\n",
       "    <tr>\n",
       "      <th>24</th>\n",
       "      <td>최초등록일자</td>\n",
       "      <td>0</td>\n",
       "    </tr>\n",
       "  </tbody>\n",
       "</table>\n",
       "</div>"
      ],
      "text/plain": [
       "     index       0\n",
       "15    차량너비       0\n",
       "16    차량높이       0\n",
       "17    엔진형식    3175\n",
       "18     배기량    7821\n",
       "19    엔진출력       0\n",
       "20    차량중량       1\n",
       "21     총중량       0\n",
       "22      정원       3\n",
       "23      비고  796614\n",
       "24  최초등록일자       0"
      ]
     },
     "execution_count": 21,
     "metadata": {},
     "output_type": "execute_result"
    }
   ],
   "source": [
    "info_df[15:25]"
   ]
  },
  {
   "cell_type": "code",
   "execution_count": 22,
   "metadata": {},
   "outputs": [
    {
     "data": {
      "text/html": [
       "<div>\n",
       "<style scoped>\n",
       "    .dataframe tbody tr th:only-of-type {\n",
       "        vertical-align: middle;\n",
       "    }\n",
       "\n",
       "    .dataframe tbody tr th {\n",
       "        vertical-align: top;\n",
       "    }\n",
       "\n",
       "    .dataframe thead th {\n",
       "        text-align: right;\n",
       "    }\n",
       "</style>\n",
       "<table border=\"1\" class=\"dataframe\">\n",
       "  <thead>\n",
       "    <tr style=\"text-align: right;\">\n",
       "      <th></th>\n",
       "      <th>index</th>\n",
       "      <th>0</th>\n",
       "    </tr>\n",
       "  </thead>\n",
       "  <tbody>\n",
       "    <tr>\n",
       "      <th>25</th>\n",
       "      <td>제작일자</td>\n",
       "      <td>1925</td>\n",
       "    </tr>\n",
       "    <tr>\n",
       "      <th>26</th>\n",
       "      <td>검사전 유효기간 만료일</td>\n",
       "      <td>0</td>\n",
       "    </tr>\n",
       "    <tr>\n",
       "      <th>27</th>\n",
       "      <td>관능검사판정</td>\n",
       "      <td>796614</td>\n",
       "    </tr>\n",
       "    <tr>\n",
       "      <th>28</th>\n",
       "      <td>관능부적합항목</td>\n",
       "      <td>796614</td>\n",
       "    </tr>\n",
       "    <tr>\n",
       "      <th>29</th>\n",
       "      <td>검사방법</td>\n",
       "      <td>0</td>\n",
       "    </tr>\n",
       "    <tr>\n",
       "      <th>30</th>\n",
       "      <td>무부하매연측정치1</td>\n",
       "      <td>74995</td>\n",
       "    </tr>\n",
       "    <tr>\n",
       "      <th>31</th>\n",
       "      <td>무부하매연허용치1</td>\n",
       "      <td>74995</td>\n",
       "    </tr>\n",
       "    <tr>\n",
       "      <th>32</th>\n",
       "      <td>무부하매연판정1</td>\n",
       "      <td>74995</td>\n",
       "    </tr>\n",
       "    <tr>\n",
       "      <th>33</th>\n",
       "      <td>무부하매연측정치2</td>\n",
       "      <td>527137</td>\n",
       "    </tr>\n",
       "    <tr>\n",
       "      <th>34</th>\n",
       "      <td>무부하매연허용치2</td>\n",
       "      <td>527137</td>\n",
       "    </tr>\n",
       "  </tbody>\n",
       "</table>\n",
       "</div>"
      ],
      "text/plain": [
       "           index       0\n",
       "25          제작일자    1925\n",
       "26  검사전 유효기간 만료일       0\n",
       "27        관능검사판정  796614\n",
       "28       관능부적합항목  796614\n",
       "29          검사방법       0\n",
       "30     무부하매연측정치1   74995\n",
       "31     무부하매연허용치1   74995\n",
       "32      무부하매연판정1   74995\n",
       "33     무부하매연측정치2  527137\n",
       "34     무부하매연허용치2  527137"
      ]
     },
     "execution_count": 22,
     "metadata": {},
     "output_type": "execute_result"
    }
   ],
   "source": [
    "info_df[25:35]"
   ]
  },
  {
   "cell_type": "code",
   "execution_count": 23,
   "metadata": {},
   "outputs": [
    {
     "data": {
      "text/html": [
       "<div>\n",
       "<style scoped>\n",
       "    .dataframe tbody tr th:only-of-type {\n",
       "        vertical-align: middle;\n",
       "    }\n",
       "\n",
       "    .dataframe tbody tr th {\n",
       "        vertical-align: top;\n",
       "    }\n",
       "\n",
       "    .dataframe thead th {\n",
       "        text-align: right;\n",
       "    }\n",
       "</style>\n",
       "<table border=\"1\" class=\"dataframe\">\n",
       "  <thead>\n",
       "    <tr style=\"text-align: right;\">\n",
       "      <th></th>\n",
       "      <th>index</th>\n",
       "      <th>0</th>\n",
       "    </tr>\n",
       "  </thead>\n",
       "  <tbody>\n",
       "    <tr>\n",
       "      <th>35</th>\n",
       "      <td>무부하매연판정2</td>\n",
       "      <td>527137</td>\n",
       "    </tr>\n",
       "    <tr>\n",
       "      <th>36</th>\n",
       "      <td>무부하매연측정치3</td>\n",
       "      <td>527137</td>\n",
       "    </tr>\n",
       "    <tr>\n",
       "      <th>37</th>\n",
       "      <td>무부하매연허용치3</td>\n",
       "      <td>527139</td>\n",
       "    </tr>\n",
       "    <tr>\n",
       "      <th>38</th>\n",
       "      <td>무부하매연판정3</td>\n",
       "      <td>527139</td>\n",
       "    </tr>\n",
       "    <tr>\n",
       "      <th>39</th>\n",
       "      <td>무부하매연측정치4</td>\n",
       "      <td>579474</td>\n",
       "    </tr>\n",
       "    <tr>\n",
       "      <th>40</th>\n",
       "      <td>무부하매연허용치4</td>\n",
       "      <td>579474</td>\n",
       "    </tr>\n",
       "    <tr>\n",
       "      <th>41</th>\n",
       "      <td>무부하매연판정4</td>\n",
       "      <td>579474</td>\n",
       "    </tr>\n",
       "    <tr>\n",
       "      <th>42</th>\n",
       "      <td>무부하매연측정치5</td>\n",
       "      <td>579474</td>\n",
       "    </tr>\n",
       "    <tr>\n",
       "      <th>43</th>\n",
       "      <td>무부하매연허용치5</td>\n",
       "      <td>579474</td>\n",
       "    </tr>\n",
       "    <tr>\n",
       "      <th>44</th>\n",
       "      <td>무부하매연판정5</td>\n",
       "      <td>579474</td>\n",
       "    </tr>\n",
       "  </tbody>\n",
       "</table>\n",
       "</div>"
      ],
      "text/plain": [
       "        index       0\n",
       "35   무부하매연판정2  527137\n",
       "36  무부하매연측정치3  527137\n",
       "37  무부하매연허용치3  527139\n",
       "38   무부하매연판정3  527139\n",
       "39  무부하매연측정치4  579474\n",
       "40  무부하매연허용치4  579474\n",
       "41   무부하매연판정4  579474\n",
       "42  무부하매연측정치5  579474\n",
       "43  무부하매연허용치5  579474\n",
       "44   무부하매연판정5  579474"
      ]
     },
     "execution_count": 23,
     "metadata": {},
     "output_type": "execute_result"
    }
   ],
   "source": [
    "info_df[35:45]"
   ]
  },
  {
   "cell_type": "code",
   "execution_count": 24,
   "metadata": {},
   "outputs": [
    {
     "data": {
      "text/html": [
       "<div>\n",
       "<style scoped>\n",
       "    .dataframe tbody tr th:only-of-type {\n",
       "        vertical-align: middle;\n",
       "    }\n",
       "\n",
       "    .dataframe tbody tr th {\n",
       "        vertical-align: top;\n",
       "    }\n",
       "\n",
       "    .dataframe thead th {\n",
       "        text-align: right;\n",
       "    }\n",
       "</style>\n",
       "<table border=\"1\" class=\"dataframe\">\n",
       "  <thead>\n",
       "    <tr style=\"text-align: right;\">\n",
       "      <th></th>\n",
       "      <th>index</th>\n",
       "      <th>0</th>\n",
       "    </tr>\n",
       "  </thead>\n",
       "  <tbody>\n",
       "    <tr>\n",
       "      <th>45</th>\n",
       "      <td>무부하매연측정치6</td>\n",
       "      <td>579474</td>\n",
       "    </tr>\n",
       "    <tr>\n",
       "      <th>46</th>\n",
       "      <td>무부하매연허용치6</td>\n",
       "      <td>579474</td>\n",
       "    </tr>\n",
       "    <tr>\n",
       "      <th>47</th>\n",
       "      <td>무부하매연판정6</td>\n",
       "      <td>579474</td>\n",
       "    </tr>\n",
       "    <tr>\n",
       "      <th>48</th>\n",
       "      <td>이산화탄소값</td>\n",
       "      <td>527893</td>\n",
       "    </tr>\n",
       "    <tr>\n",
       "      <th>49</th>\n",
       "      <td>최대출력허용치</td>\n",
       "      <td>796614</td>\n",
       "    </tr>\n",
       "    <tr>\n",
       "      <th>50</th>\n",
       "      <td>최대출력측정값</td>\n",
       "      <td>796614</td>\n",
       "    </tr>\n",
       "    <tr>\n",
       "      <th>51</th>\n",
       "      <td>산소값</td>\n",
       "      <td>567647</td>\n",
       "    </tr>\n",
       "    <tr>\n",
       "      <th>52</th>\n",
       "      <td>공기온도</td>\n",
       "      <td>796614</td>\n",
       "    </tr>\n",
       "    <tr>\n",
       "      <th>53</th>\n",
       "      <td>공기압력</td>\n",
       "      <td>796614</td>\n",
       "    </tr>\n",
       "    <tr>\n",
       "      <th>54</th>\n",
       "      <td>검사판정</td>\n",
       "      <td>0</td>\n",
       "    </tr>\n",
       "  </tbody>\n",
       "</table>\n",
       "</div>"
      ],
      "text/plain": [
       "        index       0\n",
       "45  무부하매연측정치6  579474\n",
       "46  무부하매연허용치6  579474\n",
       "47   무부하매연판정6  579474\n",
       "48     이산화탄소값  527893\n",
       "49    최대출력허용치  796614\n",
       "50    최대출력측정값  796614\n",
       "51        산소값  567647\n",
       "52       공기온도  796614\n",
       "53       공기압력  796614\n",
       "54       검사판정       0"
      ]
     },
     "execution_count": 24,
     "metadata": {},
     "output_type": "execute_result"
    }
   ],
   "source": [
    "info_df[45:55]"
   ]
  },
  {
   "cell_type": "code",
   "execution_count": 25,
   "metadata": {},
   "outputs": [
    {
     "data": {
      "text/html": [
       "<div>\n",
       "<style scoped>\n",
       "    .dataframe tbody tr th:only-of-type {\n",
       "        vertical-align: middle;\n",
       "    }\n",
       "\n",
       "    .dataframe tbody tr th {\n",
       "        vertical-align: top;\n",
       "    }\n",
       "\n",
       "    .dataframe thead th {\n",
       "        text-align: right;\n",
       "    }\n",
       "</style>\n",
       "<table border=\"1\" class=\"dataframe\">\n",
       "  <thead>\n",
       "    <tr style=\"text-align: right;\">\n",
       "      <th></th>\n",
       "      <th>index</th>\n",
       "      <th>0</th>\n",
       "    </tr>\n",
       "  </thead>\n",
       "  <tbody>\n",
       "    <tr>\n",
       "      <th>55</th>\n",
       "      <td>재검사기간</td>\n",
       "      <td>0</td>\n",
       "    </tr>\n",
       "    <tr>\n",
       "      <th>56</th>\n",
       "      <td>검사후 갱신유효기간</td>\n",
       "      <td>0</td>\n",
       "    </tr>\n",
       "    <tr>\n",
       "      <th>57</th>\n",
       "      <td>관능검사원</td>\n",
       "      <td>56836</td>\n",
       "    </tr>\n",
       "    <tr>\n",
       "      <th>58</th>\n",
       "      <td>배출가스검사원</td>\n",
       "      <td>58903</td>\n",
       "    </tr>\n",
       "    <tr>\n",
       "      <th>59</th>\n",
       "      <td>책임검사원</td>\n",
       "      <td>53088</td>\n",
       "    </tr>\n",
       "    <tr>\n",
       "      <th>60</th>\n",
       "      <td>검사 판정시간</td>\n",
       "      <td>0</td>\n",
       "    </tr>\n",
       "    <tr>\n",
       "      <th>61</th>\n",
       "      <td>자료구분코드</td>\n",
       "      <td>0</td>\n",
       "    </tr>\n",
       "  </tbody>\n",
       "</table>\n",
       "</div>"
      ],
      "text/plain": [
       "         index      0\n",
       "55       재검사기간      0\n",
       "56  검사후 갱신유효기간      0\n",
       "57       관능검사원  56836\n",
       "58     배출가스검사원  58903\n",
       "59       책임검사원  53088\n",
       "60     검사 판정시간      0\n",
       "61      자료구분코드      0"
      ]
     },
     "execution_count": 25,
     "metadata": {},
     "output_type": "execute_result"
    }
   ],
   "source": [
    "info_df[55:]"
   ]
  },
  {
   "cell_type": "code",
   "execution_count": 26,
   "metadata": {},
   "outputs": [
    {
     "data": {
      "text/html": [
       "<div>\n",
       "<style scoped>\n",
       "    .dataframe tbody tr th:only-of-type {\n",
       "        vertical-align: middle;\n",
       "    }\n",
       "\n",
       "    .dataframe tbody tr th {\n",
       "        vertical-align: top;\n",
       "    }\n",
       "\n",
       "    .dataframe thead th {\n",
       "        text-align: right;\n",
       "    }\n",
       "</style>\n",
       "<table border=\"1\" class=\"dataframe\">\n",
       "  <thead>\n",
       "    <tr style=\"text-align: right;\">\n",
       "      <th></th>\n",
       "      <th>index</th>\n",
       "      <th>0</th>\n",
       "    </tr>\n",
       "  </thead>\n",
       "  <tbody>\n",
       "    <tr>\n",
       "      <th>12</th>\n",
       "      <td>차량연료</td>\n",
       "      <td>8844</td>\n",
       "    </tr>\n",
       "    <tr>\n",
       "      <th>13</th>\n",
       "      <td>주행거리</td>\n",
       "      <td>1565</td>\n",
       "    </tr>\n",
       "    <tr>\n",
       "      <th>17</th>\n",
       "      <td>엔진형식</td>\n",
       "      <td>3175</td>\n",
       "    </tr>\n",
       "    <tr>\n",
       "      <th>18</th>\n",
       "      <td>배기량</td>\n",
       "      <td>7821</td>\n",
       "    </tr>\n",
       "    <tr>\n",
       "      <th>20</th>\n",
       "      <td>차량중량</td>\n",
       "      <td>1</td>\n",
       "    </tr>\n",
       "    <tr>\n",
       "      <th>22</th>\n",
       "      <td>정원</td>\n",
       "      <td>3</td>\n",
       "    </tr>\n",
       "    <tr>\n",
       "      <th>23</th>\n",
       "      <td>비고</td>\n",
       "      <td>796614</td>\n",
       "    </tr>\n",
       "    <tr>\n",
       "      <th>25</th>\n",
       "      <td>제작일자</td>\n",
       "      <td>1925</td>\n",
       "    </tr>\n",
       "    <tr>\n",
       "      <th>27</th>\n",
       "      <td>관능검사판정</td>\n",
       "      <td>796614</td>\n",
       "    </tr>\n",
       "    <tr>\n",
       "      <th>28</th>\n",
       "      <td>관능부적합항목</td>\n",
       "      <td>796614</td>\n",
       "    </tr>\n",
       "    <tr>\n",
       "      <th>30</th>\n",
       "      <td>무부하매연측정치1</td>\n",
       "      <td>74995</td>\n",
       "    </tr>\n",
       "    <tr>\n",
       "      <th>31</th>\n",
       "      <td>무부하매연허용치1</td>\n",
       "      <td>74995</td>\n",
       "    </tr>\n",
       "    <tr>\n",
       "      <th>32</th>\n",
       "      <td>무부하매연판정1</td>\n",
       "      <td>74995</td>\n",
       "    </tr>\n",
       "    <tr>\n",
       "      <th>33</th>\n",
       "      <td>무부하매연측정치2</td>\n",
       "      <td>527137</td>\n",
       "    </tr>\n",
       "    <tr>\n",
       "      <th>34</th>\n",
       "      <td>무부하매연허용치2</td>\n",
       "      <td>527137</td>\n",
       "    </tr>\n",
       "    <tr>\n",
       "      <th>35</th>\n",
       "      <td>무부하매연판정2</td>\n",
       "      <td>527137</td>\n",
       "    </tr>\n",
       "    <tr>\n",
       "      <th>36</th>\n",
       "      <td>무부하매연측정치3</td>\n",
       "      <td>527137</td>\n",
       "    </tr>\n",
       "    <tr>\n",
       "      <th>37</th>\n",
       "      <td>무부하매연허용치3</td>\n",
       "      <td>527139</td>\n",
       "    </tr>\n",
       "    <tr>\n",
       "      <th>38</th>\n",
       "      <td>무부하매연판정3</td>\n",
       "      <td>527139</td>\n",
       "    </tr>\n",
       "    <tr>\n",
       "      <th>39</th>\n",
       "      <td>무부하매연측정치4</td>\n",
       "      <td>579474</td>\n",
       "    </tr>\n",
       "    <tr>\n",
       "      <th>40</th>\n",
       "      <td>무부하매연허용치4</td>\n",
       "      <td>579474</td>\n",
       "    </tr>\n",
       "    <tr>\n",
       "      <th>41</th>\n",
       "      <td>무부하매연판정4</td>\n",
       "      <td>579474</td>\n",
       "    </tr>\n",
       "    <tr>\n",
       "      <th>42</th>\n",
       "      <td>무부하매연측정치5</td>\n",
       "      <td>579474</td>\n",
       "    </tr>\n",
       "    <tr>\n",
       "      <th>43</th>\n",
       "      <td>무부하매연허용치5</td>\n",
       "      <td>579474</td>\n",
       "    </tr>\n",
       "    <tr>\n",
       "      <th>44</th>\n",
       "      <td>무부하매연판정5</td>\n",
       "      <td>579474</td>\n",
       "    </tr>\n",
       "    <tr>\n",
       "      <th>45</th>\n",
       "      <td>무부하매연측정치6</td>\n",
       "      <td>579474</td>\n",
       "    </tr>\n",
       "    <tr>\n",
       "      <th>46</th>\n",
       "      <td>무부하매연허용치6</td>\n",
       "      <td>579474</td>\n",
       "    </tr>\n",
       "    <tr>\n",
       "      <th>47</th>\n",
       "      <td>무부하매연판정6</td>\n",
       "      <td>579474</td>\n",
       "    </tr>\n",
       "    <tr>\n",
       "      <th>48</th>\n",
       "      <td>이산화탄소값</td>\n",
       "      <td>527893</td>\n",
       "    </tr>\n",
       "    <tr>\n",
       "      <th>49</th>\n",
       "      <td>최대출력허용치</td>\n",
       "      <td>796614</td>\n",
       "    </tr>\n",
       "    <tr>\n",
       "      <th>50</th>\n",
       "      <td>최대출력측정값</td>\n",
       "      <td>796614</td>\n",
       "    </tr>\n",
       "    <tr>\n",
       "      <th>51</th>\n",
       "      <td>산소값</td>\n",
       "      <td>567647</td>\n",
       "    </tr>\n",
       "    <tr>\n",
       "      <th>52</th>\n",
       "      <td>공기온도</td>\n",
       "      <td>796614</td>\n",
       "    </tr>\n",
       "    <tr>\n",
       "      <th>53</th>\n",
       "      <td>공기압력</td>\n",
       "      <td>796614</td>\n",
       "    </tr>\n",
       "    <tr>\n",
       "      <th>57</th>\n",
       "      <td>관능검사원</td>\n",
       "      <td>56836</td>\n",
       "    </tr>\n",
       "    <tr>\n",
       "      <th>58</th>\n",
       "      <td>배출가스검사원</td>\n",
       "      <td>58903</td>\n",
       "    </tr>\n",
       "    <tr>\n",
       "      <th>59</th>\n",
       "      <td>책임검사원</td>\n",
       "      <td>53088</td>\n",
       "    </tr>\n",
       "  </tbody>\n",
       "</table>\n",
       "</div>"
      ],
      "text/plain": [
       "        index       0\n",
       "12       차량연료    8844\n",
       "13       주행거리    1565\n",
       "17       엔진형식    3175\n",
       "18        배기량    7821\n",
       "20       차량중량       1\n",
       "22         정원       3\n",
       "23         비고  796614\n",
       "25       제작일자    1925\n",
       "27     관능검사판정  796614\n",
       "28    관능부적합항목  796614\n",
       "30  무부하매연측정치1   74995\n",
       "31  무부하매연허용치1   74995\n",
       "32   무부하매연판정1   74995\n",
       "33  무부하매연측정치2  527137\n",
       "34  무부하매연허용치2  527137\n",
       "35   무부하매연판정2  527137\n",
       "36  무부하매연측정치3  527137\n",
       "37  무부하매연허용치3  527139\n",
       "38   무부하매연판정3  527139\n",
       "39  무부하매연측정치4  579474\n",
       "40  무부하매연허용치4  579474\n",
       "41   무부하매연판정4  579474\n",
       "42  무부하매연측정치5  579474\n",
       "43  무부하매연허용치5  579474\n",
       "44   무부하매연판정5  579474\n",
       "45  무부하매연측정치6  579474\n",
       "46  무부하매연허용치6  579474\n",
       "47   무부하매연판정6  579474\n",
       "48     이산화탄소값  527893\n",
       "49    최대출력허용치  796614\n",
       "50    최대출력측정값  796614\n",
       "51        산소값  567647\n",
       "52       공기온도  796614\n",
       "53       공기압력  796614\n",
       "57      관능검사원   56836\n",
       "58    배출가스검사원   58903\n",
       "59      책임검사원   53088"
      ]
     },
     "execution_count": 26,
     "metadata": {},
     "output_type": "execute_result"
    }
   ],
   "source": [
    "info_df[info_df[0] != 0]"
   ]
  },
  {
   "attachments": {},
   "cell_type": "markdown",
   "metadata": {},
   "source": [
    "## 0\\. 검사소명"
   ]
  },
  {
   "cell_type": "code",
   "execution_count": 27,
   "metadata": {},
   "outputs": [
    {
     "data": {
      "text/plain": [
       "0"
      ]
     },
     "execution_count": 27,
     "metadata": {},
     "output_type": "execute_result"
    }
   ],
   "source": [
    "df.iloc[:, 0].isnull().sum()"
   ]
  },
  {
   "cell_type": "code",
   "execution_count": 28,
   "metadata": {},
   "outputs": [
    {
     "data": {
      "text/plain": [
       "array(['의정부자동차검사소', '경주자동차검사소', '구미자동차검사소', ..., '(주)베스트원종합정비',\n",
       "       '평화탑자동차정비㈜', '서울공업사'], dtype=object)"
      ]
     },
     "execution_count": 28,
     "metadata": {},
     "output_type": "execute_result"
    }
   ],
   "source": [
    "df.iloc[:, 0].unique()"
   ]
  },
  {
   "cell_type": "code",
   "execution_count": 29,
   "metadata": {},
   "outputs": [
    {
     "data": {
      "text/plain": [
       "춘천자동차검사소               5544\n",
       "성산자동차검사소               4882\n",
       "제주자동차검사소               4767\n",
       "원주자동차검사소               4619\n",
       "강남자동차검사소               4130\n",
       "                       ... \n",
       "TS모바일자동차검사소(대형)           1\n",
       "동일자동차공업(주)-용인시            1\n",
       "서군위현대서비스                  1\n",
       "테스트_명원기업                  1\n",
       "안산출장_동안산서비스기아오토큐(주)       1\n",
       "Name: 검사소명, Length: 1904, dtype: int64"
      ]
     },
     "execution_count": 29,
     "metadata": {},
     "output_type": "execute_result"
    }
   ],
   "source": [
    "df.iloc[:, 0].value_counts()"
   ]
  },
  {
   "attachments": {},
   "cell_type": "markdown",
   "metadata": {},
   "source": [
    "## 1\\. 정기검사일자 "
   ]
  },
  {
   "cell_type": "code",
   "execution_count": 30,
   "metadata": {},
   "outputs": [
    {
     "data": {
      "text/plain": [
       "0"
      ]
     },
     "execution_count": 30,
     "metadata": {},
     "output_type": "execute_result"
    }
   ],
   "source": [
    "df.iloc[:, 1].isnull().sum()"
   ]
  },
  {
   "cell_type": "code",
   "execution_count": 31,
   "metadata": {},
   "outputs": [
    {
     "data": {
      "text/plain": [
       "0    20220630\n",
       "1    20220630\n",
       "2    20220630\n",
       "3    20220630\n",
       "4    20220630\n",
       "Name: 정기검사일자, dtype: int64"
      ]
     },
     "execution_count": 31,
     "metadata": {},
     "output_type": "execute_result"
    }
   ],
   "source": [
    "df.iloc[:5, 1]"
   ]
  },
  {
   "attachments": {},
   "cell_type": "markdown",
   "metadata": {},
   "source": [
    "## 2\\. 검사종류 "
   ]
  },
  {
   "cell_type": "code",
   "execution_count": 32,
   "metadata": {},
   "outputs": [
    {
     "data": {
      "text/plain": [
       "0"
      ]
     },
     "execution_count": 32,
     "metadata": {},
     "output_type": "execute_result"
    }
   ],
   "source": [
    "df.iloc[:, 2].isnull().sum()"
   ]
  },
  {
   "cell_type": "code",
   "execution_count": 33,
   "metadata": {},
   "outputs": [
    {
     "data": {
      "text/plain": [
       "0    재검사(1부재검사)\n",
       "1    재검사(1부재검사)\n",
       "2    재검사(1부재검사)\n",
       "3    재검사(1부재검사)\n",
       "4    재검사(1부재검사)\n",
       "Name: 검사종류, dtype: object"
      ]
     },
     "execution_count": 33,
     "metadata": {},
     "output_type": "execute_result"
    }
   ],
   "source": [
    "df.iloc[:5, 2]"
   ]
  },
  {
   "attachments": {},
   "cell_type": "markdown",
   "metadata": {},
   "source": [
    "## 3\\. 검사접수번호 "
   ]
  },
  {
   "cell_type": "code",
   "execution_count": 34,
   "metadata": {},
   "outputs": [
    {
     "data": {
      "text/plain": [
       "0"
      ]
     },
     "execution_count": 34,
     "metadata": {},
     "output_type": "execute_result"
    }
   ],
   "source": [
    "df.iloc[:, 3].isnull().sum()"
   ]
  },
  {
   "cell_type": "code",
   "execution_count": 35,
   "metadata": {},
   "outputs": [
    {
     "data": {
      "text/plain": [
       "0    41402022063000832\n",
       "1    47802022063000662\n",
       "2    47402022063000442\n",
       "3    45602022063000192\n",
       "4    118c2022063000672\n",
       "Name: 검사접수번호, dtype: object"
      ]
     },
     "execution_count": 35,
     "metadata": {},
     "output_type": "execute_result"
    }
   ],
   "source": [
    "df.iloc[:5, 3]"
   ]
  },
  {
   "attachments": {},
   "cell_type": "markdown",
   "metadata": {},
   "source": [
    "## 4\\. 통합접수번호 "
   ]
  },
  {
   "cell_type": "code",
   "execution_count": 36,
   "metadata": {},
   "outputs": [
    {
     "data": {
      "text/plain": [
       "0"
      ]
     },
     "execution_count": 36,
     "metadata": {},
     "output_type": "execute_result"
    }
   ],
   "source": [
    "df.iloc[:, 4].isnull().sum()"
   ]
  },
  {
   "cell_type": "code",
   "execution_count": 37,
   "metadata": {},
   "outputs": [
    {
     "data": {
      "text/plain": [
       "0    41402022063000831\n",
       "1    47802022063000651\n",
       "2    47402022063000441\n",
       "3    45602022063000191\n",
       "4    118c2022063000671\n",
       "Name: 통합접수번호, dtype: object"
      ]
     },
     "execution_count": 37,
     "metadata": {},
     "output_type": "execute_result"
    }
   ],
   "source": [
    "df.iloc[:5, 4]"
   ]
  },
  {
   "attachments": {},
   "cell_type": "markdown",
   "metadata": {},
   "source": [
    "## 5\\. 차량번호 "
   ]
  },
  {
   "cell_type": "code",
   "execution_count": 38,
   "metadata": {},
   "outputs": [
    {
     "data": {
      "text/plain": [
       "0"
      ]
     },
     "execution_count": 38,
     "metadata": {},
     "output_type": "execute_result"
    }
   ],
   "source": [
    "df.iloc[:, 5].isnull().sum()"
   ]
  },
  {
   "cell_type": "code",
   "execution_count": 39,
   "metadata": {},
   "outputs": [
    {
     "data": {
      "text/plain": [
       "0    서울31자5948\n",
       "1      70두1683\n",
       "2      58수6175\n",
       "3     721루3838\n",
       "4    서울32사1214\n",
       "Name: 차량번호, dtype: object"
      ]
     },
     "execution_count": 39,
     "metadata": {},
     "output_type": "execute_result"
    }
   ],
   "source": [
    "df.iloc[:5, 5]"
   ]
  },
  {
   "attachments": {},
   "cell_type": "markdown",
   "metadata": {},
   "source": [
    "## 6\\. 차대번호 "
   ]
  },
  {
   "cell_type": "code",
   "execution_count": 40,
   "metadata": {},
   "outputs": [
    {
     "data": {
      "text/plain": [
       "0    KMHF341NBLA368601\n",
       "1    KMJWA37KAEU613836\n",
       "2    KMHS581BBKU058970\n",
       "3    KNHMB76138S208448\n",
       "4    KMHK281GFKU047528\n",
       "Name: 차대번호, dtype: object"
      ]
     },
     "execution_count": 40,
     "metadata": {},
     "output_type": "execute_result"
    }
   ],
   "source": [
    "df.iloc[:5, 6]"
   ]
  },
  {
   "cell_type": "code",
   "execution_count": 41,
   "metadata": {},
   "outputs": [],
   "source": [
    "df2 = df.copy()"
   ]
  },
  {
   "cell_type": "code",
   "execution_count": 42,
   "metadata": {},
   "outputs": [
    {
     "data": {
      "text/plain": [
       "0"
      ]
     },
     "execution_count": 42,
     "metadata": {},
     "output_type": "execute_result"
    }
   ],
   "source": [
    "df2.iloc[:, 6].isnull().sum()"
   ]
  },
  {
   "cell_type": "code",
   "execution_count": 43,
   "metadata": {},
   "outputs": [
    {
     "data": {
      "text/plain": [
       "KNAF141BEKA809682    224\n",
       "KNAG741BBLA043588    137\n",
       "KMHLM41ABMU021533    123\n",
       "KNAG741BBLA043661    100\n",
       "KMHFF41CBBA040345     11\n",
       "                    ... \n",
       "KMHGM412BJU292442      1\n",
       "KPBGH2AE1JP026386      1\n",
       "KMFWBX7KBKU093434      1\n",
       "KNHMF37ABKS584325      1\n",
       "KPACA4AN1EP200174      1\n",
       "Name: 차대번호, Length: 698811, dtype: int64"
      ]
     },
     "execution_count": 43,
     "metadata": {},
     "output_type": "execute_result"
    }
   ],
   "source": [
    "df2.iloc[:, 6].value_counts()"
   ]
  },
  {
   "cell_type": "code",
   "execution_count": 44,
   "metadata": {},
   "outputs": [
    {
     "data": {
      "text/html": [
       "<div>\n",
       "<style scoped>\n",
       "    .dataframe tbody tr th:only-of-type {\n",
       "        vertical-align: middle;\n",
       "    }\n",
       "\n",
       "    .dataframe tbody tr th {\n",
       "        vertical-align: top;\n",
       "    }\n",
       "\n",
       "    .dataframe thead th {\n",
       "        text-align: right;\n",
       "    }\n",
       "</style>\n",
       "<table border=\"1\" class=\"dataframe\">\n",
       "  <thead>\n",
       "    <tr style=\"text-align: right;\">\n",
       "      <th></th>\n",
       "      <th>차대번호</th>\n",
       "      <th>개수</th>\n",
       "    </tr>\n",
       "  </thead>\n",
       "  <tbody>\n",
       "    <tr>\n",
       "      <th>0</th>\n",
       "      <td>KNAF141BEKA809682</td>\n",
       "      <td>224</td>\n",
       "    </tr>\n",
       "    <tr>\n",
       "      <th>1</th>\n",
       "      <td>KNAG741BBLA043588</td>\n",
       "      <td>137</td>\n",
       "    </tr>\n",
       "    <tr>\n",
       "      <th>2</th>\n",
       "      <td>KMHLM41ABMU021533</td>\n",
       "      <td>123</td>\n",
       "    </tr>\n",
       "    <tr>\n",
       "      <th>3</th>\n",
       "      <td>KNAG741BBLA043661</td>\n",
       "      <td>100</td>\n",
       "    </tr>\n",
       "    <tr>\n",
       "      <th>4</th>\n",
       "      <td>KMHFF41CBBA040345</td>\n",
       "      <td>11</td>\n",
       "    </tr>\n",
       "  </tbody>\n",
       "</table>\n",
       "</div>"
      ],
      "text/plain": [
       "                차대번호   개수\n",
       "0  KNAF141BEKA809682  224\n",
       "1  KNAG741BBLA043588  137\n",
       "2  KMHLM41ABMU021533  123\n",
       "3  KNAG741BBLA043661  100\n",
       "4  KMHFF41CBBA040345   11"
      ]
     },
     "execution_count": 44,
     "metadata": {},
     "output_type": "execute_result"
    }
   ],
   "source": [
    "dup_vin_df = df2.iloc[:, 6].value_counts().reset_index()\n",
    "dup_vin_df.columns = ['차대번호', '개수']\n",
    "dup_vin_df.head()"
   ]
  },
  {
   "cell_type": "code",
   "execution_count": 45,
   "metadata": {},
   "outputs": [
    {
     "data": {
      "text/plain": [
       "(698811, 2)"
      ]
     },
     "execution_count": 45,
     "metadata": {},
     "output_type": "execute_result"
    }
   ],
   "source": [
    "dup_vin_df.shape"
   ]
  },
  {
   "cell_type": "code",
   "execution_count": 46,
   "metadata": {},
   "outputs": [
    {
     "data": {
      "text/plain": [
       "224"
      ]
     },
     "execution_count": 46,
     "metadata": {},
     "output_type": "execute_result"
    }
   ],
   "source": [
    "max(dup_vin_df['개수'])"
   ]
  },
  {
   "cell_type": "code",
   "execution_count": 47,
   "metadata": {},
   "outputs": [
    {
     "data": {
      "text/plain": [
       "(94399, 2)"
      ]
     },
     "execution_count": 47,
     "metadata": {},
     "output_type": "execute_result"
    }
   ],
   "source": [
    "# 중복 차대번호 추출\n",
    "dup_vin_df2 = dup_vin_df[dup_vin_df['개수'] > 1].reset_index(drop=True)\n",
    "dup_vin_df2.shape"
   ]
  },
  {
   "cell_type": "code",
   "execution_count": 48,
   "metadata": {},
   "outputs": [
    {
     "data": {
      "text/plain": [
       "0    KNAF141BEKA809682\n",
       "1    KNAG741BBLA043588\n",
       "2    KMHLM41ABMU021533\n",
       "3    KNAG741BBLA043661\n",
       "4    KMHFF41CBBA040345\n",
       "Name: 차대번호, dtype: object"
      ]
     },
     "execution_count": 48,
     "metadata": {},
     "output_type": "execute_result"
    }
   ],
   "source": [
    "dup_vin_df2['차대번호'].head()"
   ]
  },
  {
   "attachments": {},
   "cell_type": "markdown",
   "metadata": {},
   "source": [
    "### 차대 번호 정상 확인"
   ]
  },
  {
   "cell_type": "code",
   "execution_count": 49,
   "metadata": {},
   "outputs": [
    {
     "name": "stderr",
     "output_type": "stream",
     "text": [
      "796614it [00:00, 1337355.63it/s]\n"
     ]
    },
    {
     "data": {
      "text/plain": [
       "{11, 12, 13, 14, 15, 16, 17}"
      ]
     },
     "execution_count": 49,
     "metadata": {},
     "output_type": "execute_result"
    }
   ],
   "source": [
    "# 차대번호 길이 종류 확인\n",
    "len_vin = []\n",
    "for i, one in tqdm(enumerate(df2.iloc[:, 6].to_numpy())):\n",
    "    len_vin.append(len(str(one)))\n",
    "set(len_vin)"
   ]
  },
  {
   "cell_type": "code",
   "execution_count": 50,
   "metadata": {},
   "outputs": [
    {
     "data": {
      "text/plain": [
       "array([17, 11, 12, 13, 16, 15, 14], dtype=int64)"
      ]
     },
     "execution_count": 50,
     "metadata": {},
     "output_type": "execute_result"
    }
   ],
   "source": [
    "df2['VIN_length'] = [ len(one) for one in df2['차대번호'] ]\n",
    "df2['VIN_length'].unique()"
   ]
  },
  {
   "cell_type": "code",
   "execution_count": 51,
   "metadata": {},
   "outputs": [],
   "source": [
    "IOQ = []\n",
    "for one in df2['차대번호']:\n",
    "    if ('I' in one) or ('O' in one) or ('Q' in one):\n",
    "        IOQ.append('Y')\n",
    "    else:\n",
    "        IOQ.append('N')\n",
    "df2['IOQ'] = IOQ"
   ]
  },
  {
   "cell_type": "code",
   "execution_count": 52,
   "metadata": {},
   "outputs": [
    {
     "data": {
      "text/plain": [
       "array(['N', 'Y'], dtype=object)"
      ]
     },
     "execution_count": 52,
     "metadata": {},
     "output_type": "execute_result"
    }
   ],
   "source": [
    "df2['IOQ'].unique()"
   ]
  },
  {
   "cell_type": "code",
   "execution_count": 53,
   "metadata": {},
   "outputs": [
    {
     "data": {
      "text/plain": [
       "VIN_length  IOQ\n",
       "11          N          91\n",
       "12          N         538\n",
       "13          N          16\n",
       "14          N           3\n",
       "15          N           7\n",
       "16          N           6\n",
       "17          N      795807\n",
       "            Y         146\n",
       "Name: 차대번호, dtype: int64"
      ]
     },
     "execution_count": 53,
     "metadata": {},
     "output_type": "execute_result"
    }
   ],
   "source": [
    "df2.groupby(['VIN_length', 'IOQ'])['차대번호'].count()"
   ]
  },
  {
   "cell_type": "code",
   "execution_count": 54,
   "metadata": {},
   "outputs": [],
   "source": [
    "V_I_dict = df2.groupby(['VIN_length', 'IOQ'])['차대번호'].groups"
   ]
  },
  {
   "cell_type": "code",
   "execution_count": 55,
   "metadata": {},
   "outputs": [
    {
     "data": {
      "text/html": [
       "<div>\n",
       "<style scoped>\n",
       "    .dataframe tbody tr th:only-of-type {\n",
       "        vertical-align: middle;\n",
       "    }\n",
       "\n",
       "    .dataframe tbody tr th {\n",
       "        vertical-align: top;\n",
       "    }\n",
       "\n",
       "    .dataframe thead th {\n",
       "        text-align: right;\n",
       "    }\n",
       "</style>\n",
       "<table border=\"1\" class=\"dataframe\">\n",
       "  <thead>\n",
       "    <tr style=\"text-align: right;\">\n",
       "      <th></th>\n",
       "      <th>VIN_length</th>\n",
       "      <th>IOQ</th>\n",
       "      <th>차대번호</th>\n",
       "    </tr>\n",
       "  </thead>\n",
       "  <tbody>\n",
       "    <tr>\n",
       "      <th>0</th>\n",
       "      <td>11</td>\n",
       "      <td>N</td>\n",
       "      <td>91</td>\n",
       "    </tr>\n",
       "    <tr>\n",
       "      <th>1</th>\n",
       "      <td>12</td>\n",
       "      <td>N</td>\n",
       "      <td>538</td>\n",
       "    </tr>\n",
       "    <tr>\n",
       "      <th>2</th>\n",
       "      <td>13</td>\n",
       "      <td>N</td>\n",
       "      <td>16</td>\n",
       "    </tr>\n",
       "    <tr>\n",
       "      <th>3</th>\n",
       "      <td>14</td>\n",
       "      <td>N</td>\n",
       "      <td>3</td>\n",
       "    </tr>\n",
       "    <tr>\n",
       "      <th>4</th>\n",
       "      <td>15</td>\n",
       "      <td>N</td>\n",
       "      <td>7</td>\n",
       "    </tr>\n",
       "    <tr>\n",
       "      <th>5</th>\n",
       "      <td>16</td>\n",
       "      <td>N</td>\n",
       "      <td>6</td>\n",
       "    </tr>\n",
       "    <tr>\n",
       "      <th>6</th>\n",
       "      <td>17</td>\n",
       "      <td>N</td>\n",
       "      <td>795807</td>\n",
       "    </tr>\n",
       "    <tr>\n",
       "      <th>7</th>\n",
       "      <td>17</td>\n",
       "      <td>Y</td>\n",
       "      <td>146</td>\n",
       "    </tr>\n",
       "  </tbody>\n",
       "</table>\n",
       "</div>"
      ],
      "text/plain": [
       "   VIN_length IOQ    차대번호\n",
       "0          11   N      91\n",
       "1          12   N     538\n",
       "2          13   N      16\n",
       "3          14   N       3\n",
       "4          15   N       7\n",
       "5          16   N       6\n",
       "6          17   N  795807\n",
       "7          17   Y     146"
      ]
     },
     "execution_count": 55,
     "metadata": {},
     "output_type": "execute_result"
    }
   ],
   "source": [
    "g = df2.groupby(['VIN_length', 'IOQ'], as_index=False)['차대번호'].count()\n",
    "V_I_df = g.sort_values(['VIN_length', 'IOQ'], ascending=[True, True])\n",
    "V_I_df"
   ]
  },
  {
   "cell_type": "code",
   "execution_count": 56,
   "metadata": {},
   "outputs": [
    {
     "name": "stdout",
     "output_type": "stream",
     "text": [
      "[VIN_length : 11, \"IOQ\"포함 : N]\n",
      "예시)\n",
      "162     10814246108\n",
      "2266    03814203246\n",
      "4089    03814206368\n",
      "Name: 차대번호, dtype: object\n",
      "\n",
      "[VIN_length : 12, \"IOQ\"포함 : N]\n",
      "예시)\n",
      "1020     319831135221\n",
      "12218    410234337645\n",
      "17190    440234212537\n",
      "Name: 차대번호, dtype: object\n",
      "\n",
      "[VIN_length : 13, \"IOQ\"포함 : N]\n",
      "예시)\n",
      "29363     469435586357순\n",
      "31457     469435586357순\n",
      "120374    419234320947인\n",
      "Name: 차대번호, dtype: object\n",
      "\n",
      "[VIN_length : 14, \"IOQ\"포함 : N]\n",
      "예시)\n",
      "230928    CB-42-C-000626\n",
      "245753    CB-42-C-000626\n",
      "671675    SL-68-C-035568\n",
      "Name: 차대번호, dtype: object\n",
      "\n",
      "[VIN_length : 15, \"IOQ\"포함 : N]\n",
      "예시)\n",
      "118271    48-93-343-00001\n",
      "249456    41-98-343-98490\n",
      "519853    26-98-343-04457\n",
      "Name: 차대번호, dtype: object\n",
      "\n",
      "[VIN_length : 16, \"IOQ\"포함 : N]\n",
      "예시)\n",
      "84525     44-00-343-10407홍\n",
      "184587    KN92J5CFD3MZ0001\n",
      "201504    41-01-343-33584수\n",
      "Name: 차대번호, dtype: object\n",
      "\n",
      "[VIN_length : 17, \"IOQ\"포함 : N]\n",
      "예시)\n",
      "0    KMHF341NBLA368601\n",
      "1    KMJWA37KAEU613836\n",
      "2    KMHS581BBKU058970\n",
      "Name: 차대번호, dtype: object\n",
      "\n",
      "[VIN_length : 17, \"IOQ\"포함 : Y]\n",
      "예시)\n",
      "4091     KR1PVHHXORB100234\n",
      "10563    YV2ASWOC57A647211\n",
      "13133    YV2ASWOC57A647211\n",
      "Name: 차대번호, dtype: object\n",
      "\n"
     ]
    }
   ],
   "source": [
    "for v in range(10, 18):\n",
    "    for i in ['N', 'Y']:\n",
    "        try:\n",
    "            idx = V_I_dict[(v, i)]\n",
    "            print(f'[VIN_length : {v}, \"IOQ\"포함 : {i}]')\n",
    "            print('예시)')\n",
    "            print(df2.iloc[idx[:3], 6])\n",
    "            print()\n",
    "        except:\n",
    "            pass"
   ]
  },
  {
   "cell_type": "markdown",
   "metadata": {},
   "source": [
    "##### [출력]번호길이, IOQ포함 통계"
   ]
  },
  {
   "cell_type": "code",
   "execution_count": 57,
   "metadata": {},
   "outputs": [],
   "source": [
    "V_I_df.to_csv('analysis/[정기검사][차대번호]번호길이_IOQ포함_통계.csv', index=False, encoding='cp949')"
   ]
  },
  {
   "cell_type": "markdown",
   "metadata": {},
   "source": [
    "#### WMI 코드 분류 제작사 통계"
   ]
  },
  {
   "cell_type": "code",
   "execution_count": 58,
   "metadata": {},
   "outputs": [
    {
     "name": "stdout",
     "output_type": "stream",
     "text": [
      "<class 'pandas.core.frame.DataFrame'>\n",
      "RangeIndex: 690 entries, 0 to 689\n",
      "Data columns (total 8 columns):\n",
      " #   Column         Non-Null Count  Dtype  \n",
      "---  ------         --------------  -----  \n",
      " 0   WMI            690 non-null    object \n",
      " 1   MF CODE        690 non-null    object \n",
      " 2   Identifier     690 non-null    object \n",
      " 3   Manufacturer   690 non-null    object \n",
      " 4   Country        688 non-null    object \n",
      " 5   Vehicle Types  249 non-null    object \n",
      " 6   Description    54 non-null     object \n",
      " 7   참고             0 non-null      float64\n",
      "dtypes: float64(1), object(7)\n",
      "memory usage: 43.2+ KB\n"
     ]
    }
   ],
   "source": [
    "wmi = pd.read_excel('data/20190730_WMI CODE.xlsx', sheet_name='WMI CODE')\n",
    "wmi.info()"
   ]
  },
  {
   "cell_type": "code",
   "execution_count": 59,
   "metadata": {},
   "outputs": [
    {
     "data": {
      "text/plain": [
       "0    KMHF341NBLA368601\n",
       "1    KMJWA37KAEU613836\n",
       "2    KMHS581BBKU058970\n",
       "3    KNHMB76138S208448\n",
       "4    KMHK281GFKU047528\n",
       "Name: 차대번호, dtype: object"
      ]
     },
     "execution_count": 59,
     "metadata": {},
     "output_type": "execute_result"
    }
   ],
   "source": [
    "df2['차대번호'].head()"
   ]
  },
  {
   "cell_type": "code",
   "execution_count": 60,
   "metadata": {},
   "outputs": [],
   "source": [
    "df2['wmi'] = df2['차대번호'].str[:3]"
   ]
  },
  {
   "cell_type": "code",
   "execution_count": 61,
   "metadata": {},
   "outputs": [
    {
     "data": {
      "text/plain": [
       "0    KMH\n",
       "1    KMJ\n",
       "2    KMH\n",
       "3    KNH\n",
       "4    KMH\n",
       "Name: wmi, dtype: object"
      ]
     },
     "execution_count": 61,
     "metadata": {},
     "output_type": "execute_result"
    }
   ],
   "source": [
    "df2['wmi'].head()"
   ]
  },
  {
   "cell_type": "code",
   "execution_count": 62,
   "metadata": {},
   "outputs": [
    {
     "data": {
      "text/html": [
       "<div>\n",
       "<style scoped>\n",
       "    .dataframe tbody tr th:only-of-type {\n",
       "        vertical-align: middle;\n",
       "    }\n",
       "\n",
       "    .dataframe tbody tr th {\n",
       "        vertical-align: top;\n",
       "    }\n",
       "\n",
       "    .dataframe thead th {\n",
       "        text-align: right;\n",
       "    }\n",
       "</style>\n",
       "<table border=\"1\" class=\"dataframe\">\n",
       "  <thead>\n",
       "    <tr style=\"text-align: right;\">\n",
       "      <th></th>\n",
       "      <th>차대번호</th>\n",
       "      <th>wmi</th>\n",
       "      <th>WMI</th>\n",
       "    </tr>\n",
       "  </thead>\n",
       "  <tbody>\n",
       "    <tr>\n",
       "      <th>0</th>\n",
       "      <td>KMHF341NBLA368601</td>\n",
       "      <td>KMH</td>\n",
       "      <td>KMH</td>\n",
       "    </tr>\n",
       "    <tr>\n",
       "      <th>1</th>\n",
       "      <td>KMJWA37KAEU613836</td>\n",
       "      <td>KMJ</td>\n",
       "      <td>KMJ</td>\n",
       "    </tr>\n",
       "    <tr>\n",
       "      <th>2</th>\n",
       "      <td>KMHS581BBKU058970</td>\n",
       "      <td>KMH</td>\n",
       "      <td>KMH</td>\n",
       "    </tr>\n",
       "    <tr>\n",
       "      <th>3</th>\n",
       "      <td>KNHMB76138S208448</td>\n",
       "      <td>KNH</td>\n",
       "      <td>KNH</td>\n",
       "    </tr>\n",
       "    <tr>\n",
       "      <th>4</th>\n",
       "      <td>KMHK281GFKU047528</td>\n",
       "      <td>KMH</td>\n",
       "      <td>KMH</td>\n",
       "    </tr>\n",
       "  </tbody>\n",
       "</table>\n",
       "</div>"
      ],
      "text/plain": [
       "                차대번호  wmi  WMI\n",
       "0  KMHF341NBLA368601  KMH  KMH\n",
       "1  KMJWA37KAEU613836  KMJ  KMJ\n",
       "2  KMHS581BBKU058970  KMH  KMH\n",
       "3  KNHMB76138S208448  KNH  KNH\n",
       "4  KMHK281GFKU047528  KMH  KMH"
      ]
     },
     "execution_count": 62,
     "metadata": {},
     "output_type": "execute_result"
    }
   ],
   "source": [
    "df2 = df2.merge(wmi, left_on='wmi', right_on='WMI', how='left')\n",
    "df2[['차대번호', 'wmi', 'WMI']].head()"
   ]
  },
  {
   "cell_type": "code",
   "execution_count": 63,
   "metadata": {},
   "outputs": [
    {
     "data": {
      "text/plain": [
       "(796614, 73)"
      ]
     },
     "execution_count": 63,
     "metadata": {},
     "output_type": "execute_result"
    }
   ],
   "source": [
    "df2.shape"
   ]
  },
  {
   "cell_type": "code",
   "execution_count": 64,
   "metadata": {},
   "outputs": [
    {
     "data": {
      "text/html": [
       "<div>\n",
       "<style scoped>\n",
       "    .dataframe tbody tr th:only-of-type {\n",
       "        vertical-align: middle;\n",
       "    }\n",
       "\n",
       "    .dataframe tbody tr th {\n",
       "        vertical-align: top;\n",
       "    }\n",
       "\n",
       "    .dataframe thead th {\n",
       "        text-align: right;\n",
       "    }\n",
       "</style>\n",
       "<table border=\"1\" class=\"dataframe\">\n",
       "  <thead>\n",
       "    <tr style=\"text-align: right;\">\n",
       "      <th></th>\n",
       "      <th>차대번호</th>\n",
       "      <th>wmi</th>\n",
       "      <th>WMI</th>\n",
       "      <th>Manufacturer</th>\n",
       "    </tr>\n",
       "  </thead>\n",
       "  <tbody>\n",
       "    <tr>\n",
       "      <th>0</th>\n",
       "      <td>KMHF341NBLA368601</td>\n",
       "      <td>KMH</td>\n",
       "      <td>KMH</td>\n",
       "      <td>Hyundai</td>\n",
       "    </tr>\n",
       "    <tr>\n",
       "      <th>1</th>\n",
       "      <td>KMJWA37KAEU613836</td>\n",
       "      <td>KMJ</td>\n",
       "      <td>KMJ</td>\n",
       "      <td>Hyundai</td>\n",
       "    </tr>\n",
       "    <tr>\n",
       "      <th>2</th>\n",
       "      <td>KMHS581BBKU058970</td>\n",
       "      <td>KMH</td>\n",
       "      <td>KMH</td>\n",
       "      <td>Hyundai</td>\n",
       "    </tr>\n",
       "    <tr>\n",
       "      <th>3</th>\n",
       "      <td>KNHMB76138S208448</td>\n",
       "      <td>KNH</td>\n",
       "      <td>KNH</td>\n",
       "      <td>Kia</td>\n",
       "    </tr>\n",
       "    <tr>\n",
       "      <th>4</th>\n",
       "      <td>KMHK281GFKU047528</td>\n",
       "      <td>KMH</td>\n",
       "      <td>KMH</td>\n",
       "      <td>Hyundai</td>\n",
       "    </tr>\n",
       "  </tbody>\n",
       "</table>\n",
       "</div>"
      ],
      "text/plain": [
       "                차대번호  wmi  WMI Manufacturer\n",
       "0  KMHF341NBLA368601  KMH  KMH      Hyundai\n",
       "1  KMJWA37KAEU613836  KMJ  KMJ      Hyundai\n",
       "2  KMHS581BBKU058970  KMH  KMH      Hyundai\n",
       "3  KNHMB76138S208448  KNH  KNH          Kia\n",
       "4  KMHK281GFKU047528  KMH  KMH      Hyundai"
      ]
     },
     "execution_count": 64,
     "metadata": {},
     "output_type": "execute_result"
    }
   ],
   "source": [
    "df2[['차대번호', 'wmi', 'WMI', 'Manufacturer']].head()"
   ]
  },
  {
   "cell_type": "code",
   "execution_count": 65,
   "metadata": {},
   "outputs": [
    {
     "data": {
      "text/plain": [
       "0"
      ]
     },
     "execution_count": 65,
     "metadata": {},
     "output_type": "execute_result"
    }
   ],
   "source": [
    "df2.iloc[:, 6].isnull().sum()"
   ]
  },
  {
   "attachments": {},
   "cell_type": "markdown",
   "metadata": {},
   "source": [
    "##### 차대번호 길이 조건 전부 포함"
   ]
  },
  {
   "cell_type": "code",
   "execution_count": 66,
   "metadata": {},
   "outputs": [],
   "source": [
    "# 총 샘플 수 : 796614"
   ]
  },
  {
   "cell_type": "code",
   "execution_count": 67,
   "metadata": {},
   "outputs": [
    {
     "name": "stdout",
     "output_type": "stream",
     "text": [
      "<class 'pandas.core.series.Series'>\n",
      "Int64Index: 796614 entries, 0 to 796613\n",
      "Series name: WMI\n",
      "Non-Null Count   Dtype \n",
      "--------------   ----- \n",
      "703101 non-null  object\n",
      "dtypes: object(1)\n",
      "memory usage: 12.2+ MB\n"
     ]
    }
   ],
   "source": [
    "# 차대번호 길이 조건 전부 포함\n",
    "df2['WMI'].info()"
   ]
  },
  {
   "cell_type": "code",
   "execution_count": 68,
   "metadata": {},
   "outputs": [
    {
     "data": {
      "text/html": [
       "<div>\n",
       "<style scoped>\n",
       "    .dataframe tbody tr th:only-of-type {\n",
       "        vertical-align: middle;\n",
       "    }\n",
       "\n",
       "    .dataframe tbody tr th {\n",
       "        vertical-align: top;\n",
       "    }\n",
       "\n",
       "    .dataframe thead th {\n",
       "        text-align: right;\n",
       "    }\n",
       "</style>\n",
       "<table border=\"1\" class=\"dataframe\">\n",
       "  <thead>\n",
       "    <tr style=\"text-align: right;\">\n",
       "      <th></th>\n",
       "      <th>차량번호</th>\n",
       "      <th>차대번호</th>\n",
       "      <th>wmi</th>\n",
       "      <th>WMI</th>\n",
       "      <th>Identifier</th>\n",
       "    </tr>\n",
       "  </thead>\n",
       "  <tbody>\n",
       "    <tr>\n",
       "      <th>0</th>\n",
       "      <td>서울31자5948</td>\n",
       "      <td>KMHF341NBLA368601</td>\n",
       "      <td>KMH</td>\n",
       "      <td>KMH</td>\n",
       "      <td>Hyundai</td>\n",
       "    </tr>\n",
       "    <tr>\n",
       "      <th>1</th>\n",
       "      <td>70두1683</td>\n",
       "      <td>KMJWA37KAEU613836</td>\n",
       "      <td>KMJ</td>\n",
       "      <td>KMJ</td>\n",
       "      <td>Hyundai</td>\n",
       "    </tr>\n",
       "    <tr>\n",
       "      <th>2</th>\n",
       "      <td>58수6175</td>\n",
       "      <td>KMHS581BBKU058970</td>\n",
       "      <td>KMH</td>\n",
       "      <td>KMH</td>\n",
       "      <td>Hyundai</td>\n",
       "    </tr>\n",
       "    <tr>\n",
       "      <th>3</th>\n",
       "      <td>721루3838</td>\n",
       "      <td>KNHMB76138S208448</td>\n",
       "      <td>KNH</td>\n",
       "      <td>KNH</td>\n",
       "      <td>Kia</td>\n",
       "    </tr>\n",
       "    <tr>\n",
       "      <th>4</th>\n",
       "      <td>서울32사1214</td>\n",
       "      <td>KMHK281GFKU047528</td>\n",
       "      <td>KMH</td>\n",
       "      <td>KMH</td>\n",
       "      <td>Hyundai</td>\n",
       "    </tr>\n",
       "  </tbody>\n",
       "</table>\n",
       "</div>"
      ],
      "text/plain": [
       "        차량번호               차대번호  wmi  WMI Identifier\n",
       "0  서울31자5948  KMHF341NBLA368601  KMH  KMH    Hyundai\n",
       "1    70두1683  KMJWA37KAEU613836  KMJ  KMJ    Hyundai\n",
       "2    58수6175  KMHS581BBKU058970  KMH  KMH    Hyundai\n",
       "3   721루3838  KNHMB76138S208448  KNH  KNH        Kia\n",
       "4  서울32사1214  KMHK281GFKU047528  KMH  KMH    Hyundai"
      ]
     },
     "execution_count": 68,
     "metadata": {},
     "output_type": "execute_result"
    }
   ],
   "source": [
    "# wmi 코드와 매칭되는 데이터\n",
    "nor_iden = df2.loc[df2['WMI'].isnull() == False, ['차량번호', '차대번호', 'wmi', 'WMI', 'Identifier']]\n",
    "nor_iden.head()"
   ]
  },
  {
   "cell_type": "code",
   "execution_count": 69,
   "metadata": {},
   "outputs": [
    {
     "data": {
      "text/plain": [
       "(703101, 5)"
      ]
     },
     "execution_count": 69,
     "metadata": {},
     "output_type": "execute_result"
    }
   ],
   "source": [
    "# WMI 코드와 매칭되는 샘플 수 : 703101\n",
    "nor_iden.shape"
   ]
  },
  {
   "cell_type": "code",
   "execution_count": 70,
   "metadata": {},
   "outputs": [
    {
     "data": {
      "text/plain": [
       "158"
      ]
     },
     "execution_count": 70,
     "metadata": {},
     "output_type": "execute_result"
    }
   ],
   "source": [
    "# wmi 유니크 개수 : 158\n",
    "len(nor_iden['wmi'].unique())"
   ]
  },
  {
   "cell_type": "code",
   "execution_count": 71,
   "metadata": {},
   "outputs": [
    {
     "data": {
      "text/plain": [
       "71"
      ]
     },
     "execution_count": 71,
     "metadata": {},
     "output_type": "execute_result"
    }
   ],
   "source": [
    "# 제작사 유니크 개수 : 71\n",
    "len(nor_iden['Identifier'].unique())"
   ]
  },
  {
   "cell_type": "code",
   "execution_count": 72,
   "metadata": {},
   "outputs": [
    {
     "data": {
      "text/html": [
       "<div>\n",
       "<style scoped>\n",
       "    .dataframe tbody tr th:only-of-type {\n",
       "        vertical-align: middle;\n",
       "    }\n",
       "\n",
       "    .dataframe tbody tr th {\n",
       "        vertical-align: top;\n",
       "    }\n",
       "\n",
       "    .dataframe thead th {\n",
       "        text-align: right;\n",
       "    }\n",
       "</style>\n",
       "<table border=\"1\" class=\"dataframe\">\n",
       "  <thead>\n",
       "    <tr style=\"text-align: right;\">\n",
       "      <th></th>\n",
       "      <th>차량번호</th>\n",
       "      <th>차대번호</th>\n",
       "      <th>wmi</th>\n",
       "      <th>WMI</th>\n",
       "      <th>Identifier</th>\n",
       "    </tr>\n",
       "  </thead>\n",
       "  <tbody>\n",
       "    <tr>\n",
       "      <th>13</th>\n",
       "      <td>96라7037</td>\n",
       "      <td>KMCXNS7BP2U608528</td>\n",
       "      <td>KMC</td>\n",
       "      <td>NaN</td>\n",
       "      <td>NaN</td>\n",
       "    </tr>\n",
       "    <tr>\n",
       "      <th>14</th>\n",
       "      <td>41나7328</td>\n",
       "      <td>KPBFA2AF14P139901</td>\n",
       "      <td>KPB</td>\n",
       "      <td>NaN</td>\n",
       "      <td>NaN</td>\n",
       "    </tr>\n",
       "    <tr>\n",
       "      <th>28</th>\n",
       "      <td>85가5294</td>\n",
       "      <td>KLTBC6AH19K000069</td>\n",
       "      <td>KLT</td>\n",
       "      <td>NaN</td>\n",
       "      <td>NaN</td>\n",
       "    </tr>\n",
       "    <tr>\n",
       "      <th>29</th>\n",
       "      <td>32누3490</td>\n",
       "      <td>KPBGA2AE1JP028617</td>\n",
       "      <td>KPB</td>\n",
       "      <td>NaN</td>\n",
       "      <td>NaN</td>\n",
       "    </tr>\n",
       "    <tr>\n",
       "      <th>46</th>\n",
       "      <td>05누5796</td>\n",
       "      <td>KPBKJ2AE1GP111063</td>\n",
       "      <td>KPB</td>\n",
       "      <td>NaN</td>\n",
       "      <td>NaN</td>\n",
       "    </tr>\n",
       "  </tbody>\n",
       "</table>\n",
       "</div>"
      ],
      "text/plain": [
       "       차량번호               차대번호  wmi  WMI Identifier\n",
       "13  96라7037  KMCXNS7BP2U608528  KMC  NaN        NaN\n",
       "14  41나7328  KPBFA2AF14P139901  KPB  NaN        NaN\n",
       "28  85가5294  KLTBC6AH19K000069  KLT  NaN        NaN\n",
       "29  32누3490  KPBGA2AE1JP028617  KPB  NaN        NaN\n",
       "46  05누5796  KPBKJ2AE1GP111063  KPB  NaN        NaN"
      ]
     },
     "execution_count": 72,
     "metadata": {},
     "output_type": "execute_result"
    }
   ],
   "source": [
    "# wmi 코드와 매칭 안되는 데이터\n",
    "error_iden = df2.loc[df2['WMI'].isnull() == True, ['차량번호', '차대번호', 'wmi', 'WMI', 'Identifier']]\n",
    "error_iden.head()"
   ]
  },
  {
   "cell_type": "code",
   "execution_count": 73,
   "metadata": {},
   "outputs": [
    {
     "data": {
      "text/plain": [
       "(93513, 5)"
      ]
     },
     "execution_count": 73,
     "metadata": {},
     "output_type": "execute_result"
    }
   ],
   "source": [
    "# wmi 코드 매칭 안되는 샘플 수 : 93513\n",
    "error_iden.shape"
   ]
  },
  {
   "cell_type": "code",
   "execution_count": 74,
   "metadata": {},
   "outputs": [
    {
     "data": {
      "text/plain": [
       "299"
      ]
     },
     "execution_count": 74,
     "metadata": {},
     "output_type": "execute_result"
    }
   ],
   "source": [
    "len(error_iden['wmi'].unique())"
   ]
  },
  {
   "cell_type": "markdown",
   "metadata": {},
   "source": [
    "###### [출력]오류 wmi코드 예시"
   ]
  },
  {
   "cell_type": "code",
   "execution_count": 75,
   "metadata": {},
   "outputs": [],
   "source": [
    "error_iden.to_excel('analysis/[정기검사][차대번호]오류_WMI코드_데이터예시.xlsx',index=False, encoding='cp949')"
   ]
  },
  {
   "cell_type": "code",
   "execution_count": 76,
   "metadata": {},
   "outputs": [
    {
     "data": {
      "text/html": [
       "<div>\n",
       "<style scoped>\n",
       "    .dataframe tbody tr th:only-of-type {\n",
       "        vertical-align: middle;\n",
       "    }\n",
       "\n",
       "    .dataframe tbody tr th {\n",
       "        vertical-align: top;\n",
       "    }\n",
       "\n",
       "    .dataframe thead th {\n",
       "        text-align: right;\n",
       "    }\n",
       "</style>\n",
       "<table border=\"1\" class=\"dataframe\">\n",
       "  <thead>\n",
       "    <tr style=\"text-align: right;\">\n",
       "      <th></th>\n",
       "      <th>Identifier</th>\n",
       "      <th>차대번호</th>\n",
       "    </tr>\n",
       "  </thead>\n",
       "  <tbody>\n",
       "    <tr>\n",
       "      <th>23</th>\n",
       "      <td>Hyundai</td>\n",
       "      <td>348754</td>\n",
       "    </tr>\n",
       "    <tr>\n",
       "      <th>30</th>\n",
       "      <td>Kia</td>\n",
       "      <td>211861</td>\n",
       "    </tr>\n",
       "    <tr>\n",
       "      <th>59</th>\n",
       "      <td>SsangYong</td>\n",
       "      <td>29957</td>\n",
       "    </tr>\n",
       "    <tr>\n",
       "      <th>52</th>\n",
       "      <td>Renault Samsung</td>\n",
       "      <td>26276</td>\n",
       "    </tr>\n",
       "    <tr>\n",
       "      <th>19</th>\n",
       "      <td>GM Daewoo</td>\n",
       "      <td>13591</td>\n",
       "    </tr>\n",
       "    <tr>\n",
       "      <th>...</th>\n",
       "      <td>...</td>\n",
       "      <td>...</td>\n",
       "    </tr>\n",
       "    <tr>\n",
       "      <th>48</th>\n",
       "      <td>Pontiac</td>\n",
       "      <td>2</td>\n",
       "    </tr>\n",
       "    <tr>\n",
       "      <th>67</th>\n",
       "      <td>Xingyue Group</td>\n",
       "      <td>1</td>\n",
       "    </tr>\n",
       "    <tr>\n",
       "      <th>12</th>\n",
       "      <td>Daimler</td>\n",
       "      <td>1</td>\n",
       "    </tr>\n",
       "    <tr>\n",
       "      <th>6</th>\n",
       "      <td>CAMI</td>\n",
       "      <td>1</td>\n",
       "    </tr>\n",
       "    <tr>\n",
       "      <th>0</th>\n",
       "      <td>Alfa Romeo</td>\n",
       "      <td>1</td>\n",
       "    </tr>\n",
       "  </tbody>\n",
       "</table>\n",
       "<p>71 rows × 2 columns</p>\n",
       "</div>"
      ],
      "text/plain": [
       "         Identifier    차대번호\n",
       "23          Hyundai  348754\n",
       "30              Kia  211861\n",
       "59        SsangYong   29957\n",
       "52  Renault Samsung   26276\n",
       "19        GM Daewoo   13591\n",
       "..              ...     ...\n",
       "48          Pontiac       2\n",
       "67    Xingyue Group       1\n",
       "12          Daimler       1\n",
       "6              CAMI       1\n",
       "0        Alfa Romeo       1\n",
       "\n",
       "[71 rows x 2 columns]"
      ]
     },
     "execution_count": 76,
     "metadata": {},
     "output_type": "execute_result"
    }
   ],
   "source": [
    "# wmi 코드와 매칭되는 데이터 통계\n",
    "nor_iden_group = nor_iden.groupby(['Identifier'], as_index=False)['차대번호'].count().sort_values('차대번호', ascending=False)\n",
    "nor_iden_group"
   ]
  },
  {
   "cell_type": "markdown",
   "metadata": {},
   "source": [
    "###### [출력]제작사별 통계"
   ]
  },
  {
   "cell_type": "code",
   "execution_count": 77,
   "metadata": {},
   "outputs": [],
   "source": [
    "nor_iden_group.to_excel('analysis/[정기검사][차대번호]제작사별_통계.xlsx', index=False, encoding='cp949')"
   ]
  },
  {
   "attachments": {},
   "cell_type": "markdown",
   "metadata": {},
   "source": [
    "##### 차대번호 정상"
   ]
  },
  {
   "cell_type": "code",
   "execution_count": 78,
   "metadata": {},
   "outputs": [],
   "source": [
    "# - 길이 17자리, IOQ 문자 미포함\n",
    "# - 차대번호 개수(정상 WMI 코드) : 795807"
   ]
  },
  {
   "cell_type": "code",
   "execution_count": 79,
   "metadata": {},
   "outputs": [
    {
     "data": {
      "text/html": [
       "<div>\n",
       "<style scoped>\n",
       "    .dataframe tbody tr th:only-of-type {\n",
       "        vertical-align: middle;\n",
       "    }\n",
       "\n",
       "    .dataframe tbody tr th {\n",
       "        vertical-align: top;\n",
       "    }\n",
       "\n",
       "    .dataframe thead th {\n",
       "        text-align: right;\n",
       "    }\n",
       "</style>\n",
       "<table border=\"1\" class=\"dataframe\">\n",
       "  <thead>\n",
       "    <tr style=\"text-align: right;\">\n",
       "      <th></th>\n",
       "      <th>검사소명</th>\n",
       "      <th>정기검사일자</th>\n",
       "      <th>검사종류</th>\n",
       "      <th>검사접수번호</th>\n",
       "      <th>통합접수번호</th>\n",
       "      <th>차량번호</th>\n",
       "      <th>차대번호</th>\n",
       "      <th>차량형식번호</th>\n",
       "      <th>차명</th>\n",
       "      <th>차종</th>\n",
       "      <th>...</th>\n",
       "      <th>IOQ</th>\n",
       "      <th>wmi</th>\n",
       "      <th>WMI</th>\n",
       "      <th>MF CODE</th>\n",
       "      <th>Identifier</th>\n",
       "      <th>Manufacturer</th>\n",
       "      <th>Country</th>\n",
       "      <th>Vehicle Types</th>\n",
       "      <th>Description</th>\n",
       "      <th>참고</th>\n",
       "    </tr>\n",
       "  </thead>\n",
       "  <tbody>\n",
       "    <tr>\n",
       "      <th>0</th>\n",
       "      <td>의정부자동차검사소</td>\n",
       "      <td>20220630</td>\n",
       "      <td>재검사(1부재검사)</td>\n",
       "      <td>41402022063000832</td>\n",
       "      <td>41402022063000831</td>\n",
       "      <td>서울31자5948</td>\n",
       "      <td>KMHF341NBLA368601</td>\n",
       "      <td>A0810012000201319</td>\n",
       "      <td>그랜저(GRANDEUR)</td>\n",
       "      <td>승용차일반형대형</td>\n",
       "      <td>...</td>\n",
       "      <td>N</td>\n",
       "      <td>KMH</td>\n",
       "      <td>KMH</td>\n",
       "      <td>HYUN</td>\n",
       "      <td>Hyundai</td>\n",
       "      <td>Hyundai</td>\n",
       "      <td>Korea</td>\n",
       "      <td>Passenger &amp; multi-purpose vehicle</td>\n",
       "      <td>NaN</td>\n",
       "      <td>NaN</td>\n",
       "    </tr>\n",
       "    <tr>\n",
       "      <th>1</th>\n",
       "      <td>경주자동차검사소</td>\n",
       "      <td>20220630</td>\n",
       "      <td>재검사(1부재검사)</td>\n",
       "      <td>47802022063000662</td>\n",
       "      <td>47802022063000651</td>\n",
       "      <td>70두1683</td>\n",
       "      <td>KMJWA37KAEU613836</td>\n",
       "      <td>A0810007404712213</td>\n",
       "      <td>그랜드 스타렉스(GRAND STAREX)</td>\n",
       "      <td>승합차일반형중형</td>\n",
       "      <td>...</td>\n",
       "      <td>N</td>\n",
       "      <td>KMJ</td>\n",
       "      <td>KMJ</td>\n",
       "      <td>HYUN</td>\n",
       "      <td>Hyundai</td>\n",
       "      <td>Hyundai</td>\n",
       "      <td>Korea</td>\n",
       "      <td>Commercial vehicle &amp; bus</td>\n",
       "      <td>NaN</td>\n",
       "      <td>NaN</td>\n",
       "    </tr>\n",
       "    <tr>\n",
       "      <th>2</th>\n",
       "      <td>구미자동차검사소</td>\n",
       "      <td>20220630</td>\n",
       "      <td>재검사(1부재검사)</td>\n",
       "      <td>47402022063000442</td>\n",
       "      <td>47402022063000441</td>\n",
       "      <td>58수6175</td>\n",
       "      <td>KMHS581BBKU058970</td>\n",
       "      <td>A0810011400291218</td>\n",
       "      <td>싼타페(SANTAFE)</td>\n",
       "      <td>승용차다목적형중형</td>\n",
       "      <td>...</td>\n",
       "      <td>N</td>\n",
       "      <td>KMH</td>\n",
       "      <td>KMH</td>\n",
       "      <td>HYUN</td>\n",
       "      <td>Hyundai</td>\n",
       "      <td>Hyundai</td>\n",
       "      <td>Korea</td>\n",
       "      <td>Passenger &amp; multi-purpose vehicle</td>\n",
       "      <td>NaN</td>\n",
       "      <td>NaN</td>\n",
       "    </tr>\n",
       "    <tr>\n",
       "      <th>3</th>\n",
       "      <td>정읍자동차검사소</td>\n",
       "      <td>20220630</td>\n",
       "      <td>재검사(1부재검사)</td>\n",
       "      <td>45602022063000192</td>\n",
       "      <td>45602022063000191</td>\n",
       "      <td>721루3838</td>\n",
       "      <td>KNHMB76138S208448</td>\n",
       "      <td>A0110003600422207</td>\n",
       "      <td>그랜드 카니발</td>\n",
       "      <td>승합차일반형중형</td>\n",
       "      <td>...</td>\n",
       "      <td>N</td>\n",
       "      <td>KNH</td>\n",
       "      <td>KNH</td>\n",
       "      <td>KIA</td>\n",
       "      <td>Kia</td>\n",
       "      <td>Kia</td>\n",
       "      <td>Korea</td>\n",
       "      <td>Bus</td>\n",
       "      <td>NaN</td>\n",
       "      <td>NaN</td>\n",
       "    </tr>\n",
       "    <tr>\n",
       "      <th>4</th>\n",
       "      <td>구로출장_봉천자동차정비공업</td>\n",
       "      <td>20220630</td>\n",
       "      <td>재검사(1부재검사)</td>\n",
       "      <td>118c2022063000672</td>\n",
       "      <td>118c2022063000671</td>\n",
       "      <td>서울32사1214</td>\n",
       "      <td>KMHK281GFKU047528</td>\n",
       "      <td>A0810010900301218</td>\n",
       "      <td>코나 일렉트릭 (KONA ELECTRIC)</td>\n",
       "      <td>승용차다목적형중형</td>\n",
       "      <td>...</td>\n",
       "      <td>N</td>\n",
       "      <td>KMH</td>\n",
       "      <td>KMH</td>\n",
       "      <td>HYUN</td>\n",
       "      <td>Hyundai</td>\n",
       "      <td>Hyundai</td>\n",
       "      <td>Korea</td>\n",
       "      <td>Passenger &amp; multi-purpose vehicle</td>\n",
       "      <td>NaN</td>\n",
       "      <td>NaN</td>\n",
       "    </tr>\n",
       "  </tbody>\n",
       "</table>\n",
       "<p>5 rows × 73 columns</p>\n",
       "</div>"
      ],
      "text/plain": [
       "             검사소명    정기검사일자        검사종류             검사접수번호             통합접수번호  \\\n",
       "0       의정부자동차검사소  20220630  재검사(1부재검사)  41402022063000832  41402022063000831   \n",
       "1        경주자동차검사소  20220630  재검사(1부재검사)  47802022063000662  47802022063000651   \n",
       "2        구미자동차검사소  20220630  재검사(1부재검사)  47402022063000442  47402022063000441   \n",
       "3        정읍자동차검사소  20220630  재검사(1부재검사)  45602022063000192  45602022063000191   \n",
       "4  구로출장_봉천자동차정비공업  20220630  재검사(1부재검사)  118c2022063000672  118c2022063000671   \n",
       "\n",
       "        차량번호               차대번호             차량형식번호                       차명  \\\n",
       "0  서울31자5948  KMHF341NBLA368601  A0810012000201319            그랜저(GRANDEUR)   \n",
       "1    70두1683  KMJWA37KAEU613836  A0810007404712213   그랜드 스타렉스(GRAND STAREX)   \n",
       "2    58수6175  KMHS581BBKU058970  A0810011400291218             싼타페(SANTAFE)   \n",
       "3   721루3838  KNHMB76138S208448  A0110003600422207                  그랜드 카니발   \n",
       "4  서울32사1214  KMHK281GFKU047528  A0810010900301218  코나 일렉트릭 (KONA ELECTRIC)   \n",
       "\n",
       "          차종  ... IOQ  wmi  WMI  MF CODE  Identifier  Manufacturer  Country  \\\n",
       "0   승용차일반형대형  ...   N  KMH  KMH     HYUN     Hyundai       Hyundai    Korea   \n",
       "1   승합차일반형중형  ...   N  KMJ  KMJ     HYUN     Hyundai       Hyundai    Korea   \n",
       "2  승용차다목적형중형  ...   N  KMH  KMH     HYUN     Hyundai       Hyundai    Korea   \n",
       "3   승합차일반형중형  ...   N  KNH  KNH      KIA         Kia           Kia    Korea   \n",
       "4  승용차다목적형중형  ...   N  KMH  KMH     HYUN     Hyundai       Hyundai    Korea   \n",
       "\n",
       "                       Vehicle Types  Description  참고  \n",
       "0  Passenger & multi-purpose vehicle          NaN NaN  \n",
       "1           Commercial vehicle & bus          NaN NaN  \n",
       "2  Passenger & multi-purpose vehicle          NaN NaN  \n",
       "3                                Bus          NaN NaN  \n",
       "4  Passenger & multi-purpose vehicle          NaN NaN  \n",
       "\n",
       "[5 rows x 73 columns]"
      ]
     },
     "execution_count": 79,
     "metadata": {},
     "output_type": "execute_result"
    }
   ],
   "source": [
    "nor_vin = df2.loc[(df2['VIN_length'] == 17) & (df2['IOQ'] == 'N')]\n",
    "nor_vin.head()"
   ]
  },
  {
   "cell_type": "code",
   "execution_count": 80,
   "metadata": {},
   "outputs": [
    {
     "data": {
      "text/plain": [
       "(795807, 73)"
      ]
     },
     "execution_count": 80,
     "metadata": {},
     "output_type": "execute_result"
    }
   ],
   "source": [
    "nor_vin.shape"
   ]
  },
  {
   "cell_type": "code",
   "execution_count": 81,
   "metadata": {},
   "outputs": [
    {
     "data": {
      "text/plain": [
       "(703060, 73)"
      ]
     },
     "execution_count": 81,
     "metadata": {},
     "output_type": "execute_result"
    }
   ],
   "source": [
    "# wmi 코드와 매칭된 데이터\n",
    "nor_iden_by_nor_vin = nor_vin.loc[nor_vin['WMI'].isnull() == False]\n",
    "nor_iden_by_nor_vin.shape"
   ]
  },
  {
   "cell_type": "code",
   "execution_count": 82,
   "metadata": {},
   "outputs": [
    {
     "data": {
      "text/plain": [
       "(92747, 73)"
      ]
     },
     "execution_count": 82,
     "metadata": {},
     "output_type": "execute_result"
    }
   ],
   "source": [
    "# wmi 코드와 매칭안된 데이터\n",
    "nor_vin.loc[nor_vin['WMI'].isnull() == True].shape"
   ]
  },
  {
   "cell_type": "code",
   "execution_count": 83,
   "metadata": {},
   "outputs": [
    {
     "data": {
      "text/plain": [
       "71"
      ]
     },
     "execution_count": 83,
     "metadata": {},
     "output_type": "execute_result"
    }
   ],
   "source": [
    "# wmi 코드와 매칭된 데이터, 제작사 유니크 값\n",
    "len(nor_iden_by_nor_vin['Identifier'].unique())"
   ]
  },
  {
   "cell_type": "code",
   "execution_count": 84,
   "metadata": {},
   "outputs": [
    {
     "data": {
      "text/plain": [
       "157"
      ]
     },
     "execution_count": 84,
     "metadata": {},
     "output_type": "execute_result"
    }
   ],
   "source": [
    "# wmi 코드와 매칭된 데이터, wmi 유니크 값\n",
    "len(nor_iden_by_nor_vin['WMI'].unique())"
   ]
  },
  {
   "cell_type": "code",
   "execution_count": 85,
   "metadata": {},
   "outputs": [
    {
     "data": {
      "text/html": [
       "<div>\n",
       "<style scoped>\n",
       "    .dataframe tbody tr th:only-of-type {\n",
       "        vertical-align: middle;\n",
       "    }\n",
       "\n",
       "    .dataframe tbody tr th {\n",
       "        vertical-align: top;\n",
       "    }\n",
       "\n",
       "    .dataframe thead th {\n",
       "        text-align: right;\n",
       "    }\n",
       "</style>\n",
       "<table border=\"1\" class=\"dataframe\">\n",
       "  <thead>\n",
       "    <tr style=\"text-align: right;\">\n",
       "      <th></th>\n",
       "      <th>Identifier</th>\n",
       "      <th>차대번호</th>\n",
       "    </tr>\n",
       "  </thead>\n",
       "  <tbody>\n",
       "    <tr>\n",
       "      <th>23</th>\n",
       "      <td>Hyundai</td>\n",
       "      <td>348752</td>\n",
       "    </tr>\n",
       "    <tr>\n",
       "      <th>30</th>\n",
       "      <td>Kia</td>\n",
       "      <td>211860</td>\n",
       "    </tr>\n",
       "    <tr>\n",
       "      <th>59</th>\n",
       "      <td>SsangYong</td>\n",
       "      <td>29954</td>\n",
       "    </tr>\n",
       "    <tr>\n",
       "      <th>52</th>\n",
       "      <td>Renault Samsung</td>\n",
       "      <td>26276</td>\n",
       "    </tr>\n",
       "    <tr>\n",
       "      <th>19</th>\n",
       "      <td>GM Daewoo</td>\n",
       "      <td>13589</td>\n",
       "    </tr>\n",
       "    <tr>\n",
       "      <th>...</th>\n",
       "      <td>...</td>\n",
       "      <td>...</td>\n",
       "    </tr>\n",
       "    <tr>\n",
       "      <th>48</th>\n",
       "      <td>Pontiac</td>\n",
       "      <td>2</td>\n",
       "    </tr>\n",
       "    <tr>\n",
       "      <th>67</th>\n",
       "      <td>Xingyue Group</td>\n",
       "      <td>1</td>\n",
       "    </tr>\n",
       "    <tr>\n",
       "      <th>12</th>\n",
       "      <td>Daimler</td>\n",
       "      <td>1</td>\n",
       "    </tr>\n",
       "    <tr>\n",
       "      <th>6</th>\n",
       "      <td>CAMI</td>\n",
       "      <td>1</td>\n",
       "    </tr>\n",
       "    <tr>\n",
       "      <th>0</th>\n",
       "      <td>Alfa Romeo</td>\n",
       "      <td>1</td>\n",
       "    </tr>\n",
       "  </tbody>\n",
       "</table>\n",
       "<p>71 rows × 2 columns</p>\n",
       "</div>"
      ],
      "text/plain": [
       "         Identifier    차대번호\n",
       "23          Hyundai  348752\n",
       "30              Kia  211860\n",
       "59        SsangYong   29954\n",
       "52  Renault Samsung   26276\n",
       "19        GM Daewoo   13589\n",
       "..              ...     ...\n",
       "48          Pontiac       2\n",
       "67    Xingyue Group       1\n",
       "12          Daimler       1\n",
       "6              CAMI       1\n",
       "0        Alfa Romeo       1\n",
       "\n",
       "[71 rows x 2 columns]"
      ]
     },
     "execution_count": 85,
     "metadata": {},
     "output_type": "execute_result"
    }
   ],
   "source": [
    "# wmi 코드와 매칭된 데이터 통계\n",
    "nor_iden_by_nor_vin_group = nor_iden_by_nor_vin.groupby('Identifier', as_index=False)['차대번호'].count().sort_values('차대번호', ascending=False)\n",
    "nor_iden_by_nor_vin_group"
   ]
  },
  {
   "cell_type": "markdown",
   "metadata": {},
   "source": [
    "###### [출력]제작사별 통계(정상차대번호)"
   ]
  },
  {
   "cell_type": "code",
   "execution_count": 86,
   "metadata": {},
   "outputs": [],
   "source": [
    "nor_iden_by_nor_vin_group.to_excel('analysis/[정기검사][차대번호]제작사별_통계(정상차대번호).xlsx', encoding='cp949')"
   ]
  },
  {
   "attachments": {},
   "cell_type": "markdown",
   "metadata": {},
   "source": [
    "## 7\\. 차량형식번호 "
   ]
  },
  {
   "cell_type": "code",
   "execution_count": 87,
   "metadata": {},
   "outputs": [
    {
     "data": {
      "text/plain": [
       "0"
      ]
     },
     "execution_count": 87,
     "metadata": {},
     "output_type": "execute_result"
    }
   ],
   "source": [
    "df.iloc[:, 7].isnull().sum()"
   ]
  },
  {
   "cell_type": "code",
   "execution_count": 88,
   "metadata": {},
   "outputs": [
    {
     "data": {
      "text/plain": [
       "0    A0810012000201319\n",
       "1    A0810007404712213\n",
       "2    A0810011400291218\n",
       "3    A0110003600422207\n",
       "4    A0810010900301218\n",
       "Name: 차량형식번호, dtype: object"
      ]
     },
     "execution_count": 88,
     "metadata": {},
     "output_type": "execute_result"
    }
   ],
   "source": [
    "df.iloc[:5, 7]"
   ]
  },
  {
   "attachments": {},
   "cell_type": "markdown",
   "metadata": {},
   "source": [
    "## 8\\. 차명 "
   ]
  },
  {
   "cell_type": "code",
   "execution_count": 89,
   "metadata": {},
   "outputs": [
    {
     "data": {
      "text/plain": [
       "0"
      ]
     },
     "execution_count": 89,
     "metadata": {},
     "output_type": "execute_result"
    }
   ],
   "source": [
    "df.iloc[:, 8].isnull().sum()"
   ]
  },
  {
   "cell_type": "code",
   "execution_count": 90,
   "metadata": {},
   "outputs": [
    {
     "data": {
      "text/plain": [
       "0              그랜저(GRANDEUR)\n",
       "1     그랜드 스타렉스(GRAND STAREX)\n",
       "2               싼타페(SANTAFE)\n",
       "3                    그랜드 카니발\n",
       "4    코나 일렉트릭 (KONA ELECTRIC)\n",
       "Name: 차명, dtype: object"
      ]
     },
     "execution_count": 90,
     "metadata": {},
     "output_type": "execute_result"
    }
   ],
   "source": [
    "df.iloc[:5, 8]"
   ]
  },
  {
   "attachments": {},
   "cell_type": "markdown",
   "metadata": {},
   "source": [
    "## 9\\. 차종 "
   ]
  },
  {
   "cell_type": "code",
   "execution_count": 91,
   "metadata": {},
   "outputs": [
    {
     "data": {
      "text/plain": [
       "0"
      ]
     },
     "execution_count": 91,
     "metadata": {},
     "output_type": "execute_result"
    }
   ],
   "source": [
    "df.iloc[:, 9].isnull().sum()"
   ]
  },
  {
   "cell_type": "code",
   "execution_count": 92,
   "metadata": {},
   "outputs": [
    {
     "data": {
      "text/plain": [
       "0     승용차일반형대형\n",
       "1     승합차일반형중형\n",
       "2    승용차다목적형중형\n",
       "3     승합차일반형중형\n",
       "4    승용차다목적형중형\n",
       "Name: 차종, dtype: object"
      ]
     },
     "execution_count": 92,
     "metadata": {},
     "output_type": "execute_result"
    }
   ],
   "source": [
    "df.iloc[:5, 9]"
   ]
  },
  {
   "cell_type": "code",
   "execution_count": 93,
   "metadata": {},
   "outputs": [
    {
     "data": {
      "text/plain": [
       "array(['승용차일반형대형', '승합차일반형중형', '승용차다목적형중형', '화물차일반형소형', '화물차특수용도형중형',\n",
       "       '승용차다목적형대형', '화물차일반형중형', '승용차일반형중형', '승용차일반형경형', '화물차일반형대형',\n",
       "       '화물차밴형소형', '승용차기타형대형', '화물차특수용도형소형', '화물차덤프형소형', '승용차기타형중형',\n",
       "       '승합차일반형대형', '승용차겸화물형경형', '화물차일반형경형', '화물차특수용도형대형', '승용차일반형소형',\n",
       "       '화물차특수용도형경형', '승합차특수형중형', '화물차피견인형적재함형', '화물차피견인형샷시형',\n",
       "       '화물차피견인형고상형', '화물차피견인형저상형', '화물차밴형경형', '승합차일반형경형', '승용차기타형경형',\n",
       "       '화물차밴형중형', '특수차특수용도형중형', '화물차덤프형대형', '특수차특수용도형소형', '특수차견인형대형',\n",
       "       '화물차탱크로리형대형', '화물차덤프형중형', '특수차구난형중형', '특수차특수용도형대형', '화물차탱크로리형중형',\n",
       "       '특수차구난형소형', '특수차구난형대형', '승합차일반형소형', '승합차특수형경형', '승용차겸화물형대형',\n",
       "       '승합차특수형대형', '화물차피견인형기타형', '승합차특수형소형', '승용차다목적형소형', '특수차견인형소형',\n",
       "       '화물차덤프형경형', '특수차특수용도형경형', '화물차밴형대형', '화물차탱크로리형경형', '화물차탱크로리형소형',\n",
       "       '특수차견인형중형'], dtype=object)"
      ]
     },
     "execution_count": 93,
     "metadata": {},
     "output_type": "execute_result"
    }
   ],
   "source": [
    "df['차종'].unique()"
   ]
  },
  {
   "cell_type": "code",
   "execution_count": 94,
   "metadata": {},
   "outputs": [
    {
     "data": {
      "text/html": [
       "<div>\n",
       "<style scoped>\n",
       "    .dataframe tbody tr th:only-of-type {\n",
       "        vertical-align: middle;\n",
       "    }\n",
       "\n",
       "    .dataframe tbody tr th {\n",
       "        vertical-align: top;\n",
       "    }\n",
       "\n",
       "    .dataframe thead th {\n",
       "        text-align: right;\n",
       "    }\n",
       "</style>\n",
       "<table border=\"1\" class=\"dataframe\">\n",
       "  <thead>\n",
       "    <tr style=\"text-align: right;\">\n",
       "      <th></th>\n",
       "      <th>검사종류</th>\n",
       "      <th>제작일자</th>\n",
       "      <th>차명</th>\n",
       "      <th>차종</th>\n",
       "      <th>차량용도</th>\n",
       "      <th>검사방법</th>\n",
       "    </tr>\n",
       "  </thead>\n",
       "  <tbody>\n",
       "    <tr>\n",
       "      <th>5</th>\n",
       "      <td>재검사(2부재검사)</td>\n",
       "      <td>20140722.0</td>\n",
       "      <td>포터Ⅱ (PORTERⅡ)</td>\n",
       "      <td>화물차일반형소형</td>\n",
       "      <td>자가용</td>\n",
       "      <td>무부하검사(급가속)</td>\n",
       "    </tr>\n",
       "    <tr>\n",
       "      <th>7</th>\n",
       "      <td>재검사(1부재검사)</td>\n",
       "      <td>20190429.0</td>\n",
       "      <td>봉고Ⅲ 1톤</td>\n",
       "      <td>화물차일반형소형</td>\n",
       "      <td>자가용</td>\n",
       "      <td>무부하검사(급가속)</td>\n",
       "    </tr>\n",
       "    <tr>\n",
       "      <th>8</th>\n",
       "      <td>재검사(2부재검사)</td>\n",
       "      <td>20140722.0</td>\n",
       "      <td>포터Ⅱ (PORTERⅡ)</td>\n",
       "      <td>화물차일반형소형</td>\n",
       "      <td>자가용</td>\n",
       "      <td>무부하검사(급가속)</td>\n",
       "    </tr>\n",
       "    <tr>\n",
       "      <th>13</th>\n",
       "      <td>재검사(2부재검사)</td>\n",
       "      <td>20020721.0</td>\n",
       "      <td>포터초장축수퍼캡냉동탑차</td>\n",
       "      <td>화물차특수용도형중형</td>\n",
       "      <td>자가용</td>\n",
       "      <td>무부하검사(급가속)</td>\n",
       "    </tr>\n",
       "    <tr>\n",
       "      <th>16</th>\n",
       "      <td>재검사(1부재검사)</td>\n",
       "      <td>20080523.0</td>\n",
       "      <td>이-마이티</td>\n",
       "      <td>화물차일반형중형</td>\n",
       "      <td>자가용</td>\n",
       "      <td>무부하검사(급가속)</td>\n",
       "    </tr>\n",
       "    <tr>\n",
       "      <th>...</th>\n",
       "      <td>...</td>\n",
       "      <td>...</td>\n",
       "      <td>...</td>\n",
       "      <td>...</td>\n",
       "      <td>...</td>\n",
       "      <td>...</td>\n",
       "    </tr>\n",
       "    <tr>\n",
       "      <th>796592</th>\n",
       "      <td>재검사(2부재검사)</td>\n",
       "      <td>20061026.0</td>\n",
       "      <td>액티언스포츠</td>\n",
       "      <td>화물차일반형소형</td>\n",
       "      <td>자가용</td>\n",
       "      <td>무부하검사(급가속)</td>\n",
       "    </tr>\n",
       "    <tr>\n",
       "      <th>796596</th>\n",
       "      <td>재검사(1부재검사)</td>\n",
       "      <td>20011109.0</td>\n",
       "      <td>석영사료운반차</td>\n",
       "      <td>화물차특수용도형대형</td>\n",
       "      <td>자가용</td>\n",
       "      <td>무부하검사(급가속)</td>\n",
       "    </tr>\n",
       "    <tr>\n",
       "      <th>796598</th>\n",
       "      <td>재검사(2부재검사)</td>\n",
       "      <td>20091222.0</td>\n",
       "      <td>봉고Ⅲ 1톤</td>\n",
       "      <td>화물차일반형소형</td>\n",
       "      <td>자가용</td>\n",
       "      <td>무부하검사(급가속)</td>\n",
       "    </tr>\n",
       "    <tr>\n",
       "      <th>796601</th>\n",
       "      <td>재검사(1부재검사)</td>\n",
       "      <td>20210504.0</td>\n",
       "      <td>봉고Ⅲ 플러스냉동차</td>\n",
       "      <td>화물차특수용도형소형</td>\n",
       "      <td>영업용</td>\n",
       "      <td>무부하검사(급가속)</td>\n",
       "    </tr>\n",
       "    <tr>\n",
       "      <th>796602</th>\n",
       "      <td>재검사(2부재검사)</td>\n",
       "      <td>20210222.0</td>\n",
       "      <td>한국상용6.5톤카고트럭</td>\n",
       "      <td>화물차일반형대형</td>\n",
       "      <td>영업용</td>\n",
       "      <td>무부하검사(급가속)</td>\n",
       "    </tr>\n",
       "  </tbody>\n",
       "</table>\n",
       "<p>273986 rows × 6 columns</p>\n",
       "</div>"
      ],
      "text/plain": [
       "              검사종류        제작일자             차명          차종 차량용도        검사방법\n",
       "5       재검사(2부재검사)  20140722.0  포터Ⅱ (PORTERⅡ)    화물차일반형소형  자가용  무부하검사(급가속)\n",
       "7       재검사(1부재검사)  20190429.0         봉고Ⅲ 1톤    화물차일반형소형  자가용  무부하검사(급가속)\n",
       "8       재검사(2부재검사)  20140722.0  포터Ⅱ (PORTERⅡ)    화물차일반형소형  자가용  무부하검사(급가속)\n",
       "13      재검사(2부재검사)  20020721.0   포터초장축수퍼캡냉동탑차  화물차특수용도형중형  자가용  무부하검사(급가속)\n",
       "16      재검사(1부재검사)  20080523.0          이-마이티    화물차일반형중형  자가용  무부하검사(급가속)\n",
       "...            ...         ...            ...         ...  ...         ...\n",
       "796592  재검사(2부재검사)  20061026.0         액티언스포츠    화물차일반형소형  자가용  무부하검사(급가속)\n",
       "796596  재검사(1부재검사)  20011109.0        석영사료운반차  화물차특수용도형대형  자가용  무부하검사(급가속)\n",
       "796598  재검사(2부재검사)  20091222.0         봉고Ⅲ 1톤    화물차일반형소형  자가용  무부하검사(급가속)\n",
       "796601  재검사(1부재검사)  20210504.0     봉고Ⅲ 플러스냉동차  화물차특수용도형소형  영업용  무부하검사(급가속)\n",
       "796602  재검사(2부재검사)  20210222.0   한국상용6.5톤카고트럭    화물차일반형대형  영업용  무부하검사(급가속)\n",
       "\n",
       "[273986 rows x 6 columns]"
      ]
     },
     "execution_count": 94,
     "metadata": {},
     "output_type": "execute_result"
    }
   ],
   "source": [
    "df.loc[df['차종'].str.contains('화물차'), ['검사종류', '제작일자', '차명', '차종', '차량용도', '검사방법']]"
   ]
  },
  {
   "attachments": {},
   "cell_type": "markdown",
   "metadata": {},
   "source": [
    "## 10\\. 차량용도 "
   ]
  },
  {
   "cell_type": "code",
   "execution_count": 95,
   "metadata": {},
   "outputs": [
    {
     "data": {
      "text/plain": [
       "0"
      ]
     },
     "execution_count": 95,
     "metadata": {},
     "output_type": "execute_result"
    }
   ],
   "source": [
    "df.iloc[:, 10].isnull().sum()"
   ]
  },
  {
   "cell_type": "code",
   "execution_count": 96,
   "metadata": {},
   "outputs": [
    {
     "data": {
      "text/plain": [
       "0    개인택시\n",
       "1     자가용\n",
       "2     자가용\n",
       "3     자가용\n",
       "4    개인택시\n",
       "Name: 차량용도, dtype: object"
      ]
     },
     "execution_count": 96,
     "metadata": {},
     "output_type": "execute_result"
    }
   ],
   "source": [
    "df.iloc[:5, 10]"
   ]
  },
  {
   "cell_type": "code",
   "execution_count": 97,
   "metadata": {},
   "outputs": [
    {
     "data": {
      "text/plain": [
       "array(['개인택시', '자가용', '영업용', '관용'], dtype=object)"
      ]
     },
     "execution_count": 97,
     "metadata": {},
     "output_type": "execute_result"
    }
   ],
   "source": [
    "df['차량용도'].unique()"
   ]
  },
  {
   "attachments": {},
   "cell_type": "markdown",
   "metadata": {},
   "source": [
    "## 11\\. 차량연식 "
   ]
  },
  {
   "cell_type": "code",
   "execution_count": 98,
   "metadata": {},
   "outputs": [
    {
     "data": {
      "text/plain": [
       "0"
      ]
     },
     "execution_count": 98,
     "metadata": {},
     "output_type": "execute_result"
    }
   ],
   "source": [
    "df.iloc[:, 11].isnull().sum()"
   ]
  },
  {
   "cell_type": "code",
   "execution_count": 99,
   "metadata": {},
   "outputs": [
    {
     "data": {
      "text/plain": [
       "0    2020\n",
       "1    2014\n",
       "2    2019\n",
       "3    2008\n",
       "4    2019\n",
       "Name: 차량연식, dtype: int64"
      ]
     },
     "execution_count": 99,
     "metadata": {},
     "output_type": "execute_result"
    }
   ],
   "source": [
    "df.iloc[:5, 11]"
   ]
  },
  {
   "attachments": {},
   "cell_type": "markdown",
   "metadata": {},
   "source": [
    "## 12\\. 차량연료 "
   ]
  },
  {
   "cell_type": "code",
   "execution_count": 100,
   "metadata": {},
   "outputs": [
    {
     "data": {
      "text/plain": [
       "8844"
      ]
     },
     "execution_count": 100,
     "metadata": {},
     "output_type": "execute_result"
    }
   ],
   "source": [
    "df.iloc[:, 12].isnull().sum()"
   ]
  },
  {
   "cell_type": "code",
   "execution_count": 101,
   "metadata": {},
   "outputs": [
    {
     "data": {
      "text/plain": [
       "0    엘피지\n",
       "1     경유\n",
       "2     경유\n",
       "3     경유\n",
       "4     전기\n",
       "Name: 차량연료, dtype: object"
      ]
     },
     "execution_count": 101,
     "metadata": {},
     "output_type": "execute_result"
    }
   ],
   "source": [
    "df.iloc[:5, 12]"
   ]
  },
  {
   "cell_type": "code",
   "execution_count": 102,
   "metadata": {},
   "outputs": [
    {
     "data": {
      "text/plain": [
       "경유               452065\n",
       "휘발유(무연)          175488\n",
       "휘발유               61336\n",
       "엘피지               57342\n",
       "하이브리드(휘발유+전기)     19797\n",
       "전기                15291\n",
       "CNG                5772\n",
       "하이브리드(LPG+전기)       276\n",
       "HE(수소전기)            138\n",
       "기타연료                115\n",
       "하이브리드(경유+전기)         77\n",
       "하이브리드(CNG+전기)        65\n",
       "LNG                   4\n",
       "휘발유(유연)               3\n",
       "태양열                   1\n",
       "Name: 차량연료, dtype: int64"
      ]
     },
     "execution_count": 102,
     "metadata": {},
     "output_type": "execute_result"
    }
   ],
   "source": [
    "df.iloc[:, 12].value_counts()"
   ]
  },
  {
   "cell_type": "code",
   "execution_count": 103,
   "metadata": {},
   "outputs": [
    {
     "data": {
      "text/plain": [
       "0"
      ]
     },
     "execution_count": 103,
     "metadata": {},
     "output_type": "execute_result"
    }
   ],
   "source": [
    "df.iloc[:, 0].isnull().sum()"
   ]
  },
  {
   "attachments": {},
   "cell_type": "markdown",
   "metadata": {},
   "source": [
    "## 13\\. 주행거리 "
   ]
  },
  {
   "cell_type": "code",
   "execution_count": 104,
   "metadata": {},
   "outputs": [
    {
     "data": {
      "text/plain": [
       "1565"
      ]
     },
     "execution_count": 104,
     "metadata": {},
     "output_type": "execute_result"
    }
   ],
   "source": [
    "df.iloc[:, 13].isnull().sum()"
   ]
  },
  {
   "cell_type": "code",
   "execution_count": 105,
   "metadata": {},
   "outputs": [
    {
     "data": {
      "text/plain": [
       "0    128017.0\n",
       "1    158871.0\n",
       "2     81656.0\n",
       "3    208298.0\n",
       "4    197829.0\n",
       "Name: 주행거리, dtype: float64"
      ]
     },
     "execution_count": 105,
     "metadata": {},
     "output_type": "execute_result"
    }
   ],
   "source": [
    "df.iloc[:5, 13\n",
    "\n",
    "]"
   ]
  },
  {
   "attachments": {},
   "cell_type": "markdown",
   "metadata": {},
   "source": [
    "## 14\\. 차량길이"
   ]
  },
  {
   "cell_type": "code",
   "execution_count": 106,
   "metadata": {},
   "outputs": [
    {
     "data": {
      "text/plain": [
       "0    4990\n",
       "1    5125\n",
       "2    4770\n",
       "3    5130\n",
       "4    4180\n",
       "Name: 차량길이, dtype: int64"
      ]
     },
     "execution_count": 106,
     "metadata": {},
     "output_type": "execute_result"
    }
   ],
   "source": [
    "df.iloc[:5, 14]"
   ]
  },
  {
   "attachments": {},
   "cell_type": "markdown",
   "metadata": {},
   "source": [
    "## 15\\. 차량너비 "
   ]
  },
  {
   "cell_type": "code",
   "execution_count": 107,
   "metadata": {},
   "outputs": [
    {
     "data": {
      "text/plain": [
       "0    1875\n",
       "1    1920\n",
       "2    1890\n",
       "3    1985\n",
       "4    1800\n",
       "Name: 차량너비, dtype: int64"
      ]
     },
     "execution_count": 107,
     "metadata": {},
     "output_type": "execute_result"
    }
   ],
   "source": [
    "df.iloc[:5, 15]"
   ]
  },
  {
   "attachments": {},
   "cell_type": "markdown",
   "metadata": {},
   "source": [
    "## 16\\. 차량높이 "
   ]
  },
  {
   "cell_type": "code",
   "execution_count": 108,
   "metadata": {},
   "outputs": [
    {
     "data": {
      "text/plain": [
       "0    1480\n",
       "1    1925\n",
       "2    1680\n",
       "3    1830\n",
       "4    1570\n",
       "Name: 차량높이, dtype: int64"
      ]
     },
     "execution_count": 108,
     "metadata": {},
     "output_type": "execute_result"
    }
   ],
   "source": [
    "df.iloc[:5, 16]"
   ]
  },
  {
   "attachments": {},
   "cell_type": "markdown",
   "metadata": {},
   "source": [
    "## 17\\. 엔진형식 "
   ]
  },
  {
   "cell_type": "code",
   "execution_count": 109,
   "metadata": {},
   "outputs": [
    {
     "data": {
      "text/plain": [
       "0    L6DB\n",
       "1    D4CB\n",
       "2    D4HA\n",
       "3      J3\n",
       "4    EM16\n",
       "Name: 엔진형식, dtype: object"
      ]
     },
     "execution_count": 109,
     "metadata": {},
     "output_type": "execute_result"
    }
   ],
   "source": [
    "df.iloc[:5, 17]"
   ]
  },
  {
   "attachments": {},
   "cell_type": "markdown",
   "metadata": {},
   "source": [
    "## 18\\. 배기량 "
   ]
  },
  {
   "cell_type": "code",
   "execution_count": 110,
   "metadata": {},
   "outputs": [
    {
     "data": {
      "text/plain": [
       "0    2999.0\n",
       "1    2497.0\n",
       "2    1995.0\n",
       "3    2902.0\n",
       "4     180.0\n",
       "Name: 배기량, dtype: float64"
      ]
     },
     "execution_count": 110,
     "metadata": {},
     "output_type": "execute_result"
    }
   ],
   "source": [
    "df.iloc[:5, 18]"
   ]
  },
  {
   "attachments": {},
   "cell_type": "markdown",
   "metadata": {},
   "source": [
    "## 19\\. 엔진출력 "
   ]
  },
  {
   "cell_type": "code",
   "execution_count": 111,
   "metadata": {},
   "outputs": [
    {
     "data": {
      "text/plain": [
       "0    235/6000\n",
       "1    140/3800\n",
       "2    186/4000\n",
       "3    170/3700\n",
       "4    150/3800\n",
       "Name: 엔진출력, dtype: object"
      ]
     },
     "execution_count": 111,
     "metadata": {},
     "output_type": "execute_result"
    }
   ],
   "source": [
    "df.iloc[:5, 19]"
   ]
  },
  {
   "attachments": {},
   "cell_type": "markdown",
   "metadata": {},
   "source": [
    "## 20\\. 차량중량 "
   ]
  },
  {
   "cell_type": "code",
   "execution_count": 112,
   "metadata": {},
   "outputs": [
    {
     "data": {
      "text/plain": [
       "0    1640.0\n",
       "1    2185.0\n",
       "2    1810.0\n",
       "3    2220.0\n",
       "4    1685.0\n",
       "Name: 차량중량, dtype: float64"
      ]
     },
     "execution_count": 112,
     "metadata": {},
     "output_type": "execute_result"
    }
   ],
   "source": [
    "df.iloc[:5, 20]"
   ]
  },
  {
   "attachments": {},
   "cell_type": "markdown",
   "metadata": {},
   "source": [
    "## 21\\. 총중량 "
   ]
  },
  {
   "cell_type": "code",
   "execution_count": 113,
   "metadata": {},
   "outputs": [
    {
     "data": {
      "text/plain": [
       "0    1965\n",
       "1    2965\n",
       "2    2135\n",
       "3    2935\n",
       "4    2010\n",
       "Name: 총중량, dtype: int64"
      ]
     },
     "execution_count": 113,
     "metadata": {},
     "output_type": "execute_result"
    }
   ],
   "source": [
    "df.iloc[:5, 21]"
   ]
  },
  {
   "attachments": {},
   "cell_type": "markdown",
   "metadata": {},
   "source": [
    "## 22\\. 정원"
   ]
  },
  {
   "cell_type": "code",
   "execution_count": 114,
   "metadata": {},
   "outputs": [
    {
     "data": {
      "text/plain": [
       "0     5.0\n",
       "1    12.0\n",
       "2     5.0\n",
       "3    11.0\n",
       "4     5.0\n",
       "Name: 정원, dtype: float64"
      ]
     },
     "execution_count": 114,
     "metadata": {},
     "output_type": "execute_result"
    }
   ],
   "source": [
    "df.iloc[:5, 22]"
   ]
  },
  {
   "attachments": {},
   "cell_type": "markdown",
   "metadata": {},
   "source": [
    "## 23\\. 비고 "
   ]
  },
  {
   "cell_type": "code",
   "execution_count": 115,
   "metadata": {},
   "outputs": [
    {
     "data": {
      "text/plain": [
       "0   NaN\n",
       "1   NaN\n",
       "2   NaN\n",
       "3   NaN\n",
       "4   NaN\n",
       "Name: 비고, dtype: float64"
      ]
     },
     "execution_count": 115,
     "metadata": {},
     "output_type": "execute_result"
    }
   ],
   "source": [
    "df.iloc[:5, 23]"
   ]
  },
  {
   "cell_type": "code",
   "execution_count": 116,
   "metadata": {},
   "outputs": [
    {
     "data": {
      "text/plain": [
       "array([nan])"
      ]
     },
     "execution_count": 116,
     "metadata": {},
     "output_type": "execute_result"
    }
   ],
   "source": [
    "df.iloc[:, 23].unique()"
   ]
  },
  {
   "attachments": {},
   "cell_type": "markdown",
   "metadata": {},
   "source": [
    "## 24\\. 최초등록일자 "
   ]
  },
  {
   "cell_type": "code",
   "execution_count": 117,
   "metadata": {},
   "outputs": [
    {
     "data": {
      "text/plain": [
       "0    20200626\n",
       "1    20131205\n",
       "2    20180712\n",
       "3    20071115\n",
       "4    20190717\n",
       "Name: 최초등록일자, dtype: int64"
      ]
     },
     "execution_count": 117,
     "metadata": {},
     "output_type": "execute_result"
    }
   ],
   "source": [
    "df.iloc[:5, 24]"
   ]
  },
  {
   "attachments": {},
   "cell_type": "markdown",
   "metadata": {},
   "source": [
    "## 25\\. 제작일자 "
   ]
  },
  {
   "cell_type": "code",
   "execution_count": 118,
   "metadata": {},
   "outputs": [
    {
     "data": {
      "text/plain": [
       "0    20200622.0\n",
       "1    20131130.0\n",
       "2    20180703.0\n",
       "3    20070905.0\n",
       "4    20190626.0\n",
       "Name: 제작일자, dtype: float64"
      ]
     },
     "execution_count": 118,
     "metadata": {},
     "output_type": "execute_result"
    }
   ],
   "source": [
    "df.iloc[:5, 25]"
   ]
  },
  {
   "cell_type": "code",
   "execution_count": 119,
   "metadata": {},
   "outputs": [
    {
     "data": {
      "text/plain": [
       "1925"
      ]
     },
     "execution_count": 119,
     "metadata": {},
     "output_type": "execute_result"
    }
   ],
   "source": [
    "df.iloc[:, 25].isnull().sum()"
   ]
  },
  {
   "cell_type": "code",
   "execution_count": 120,
   "metadata": {},
   "outputs": [
    {
     "data": {
      "text/html": [
       "<div>\n",
       "<style scoped>\n",
       "    .dataframe tbody tr th:only-of-type {\n",
       "        vertical-align: middle;\n",
       "    }\n",
       "\n",
       "    .dataframe tbody tr th {\n",
       "        vertical-align: top;\n",
       "    }\n",
       "\n",
       "    .dataframe thead th {\n",
       "        text-align: right;\n",
       "    }\n",
       "</style>\n",
       "<table border=\"1\" class=\"dataframe\">\n",
       "  <thead>\n",
       "    <tr style=\"text-align: right;\">\n",
       "      <th></th>\n",
       "      <th>차대번호</th>\n",
       "      <th>제작일자</th>\n",
       "    </tr>\n",
       "  </thead>\n",
       "  <tbody>\n",
       "    <tr>\n",
       "      <th>456</th>\n",
       "      <td>KMHJF31KPTU334445</td>\n",
       "      <td>NaN</td>\n",
       "    </tr>\n",
       "    <tr>\n",
       "      <th>1512</th>\n",
       "      <td>KMHMF11FPSU085571</td>\n",
       "      <td>NaN</td>\n",
       "    </tr>\n",
       "    <tr>\n",
       "      <th>2626</th>\n",
       "      <td>KNCSB1125TS703543</td>\n",
       "      <td>NaN</td>\n",
       "    </tr>\n",
       "    <tr>\n",
       "      <th>3084</th>\n",
       "      <td>KMFMA19HPSU027208</td>\n",
       "      <td>NaN</td>\n",
       "    </tr>\n",
       "    <tr>\n",
       "      <th>3504</th>\n",
       "      <td>KMFLA19JPTC102343</td>\n",
       "      <td>NaN</td>\n",
       "    </tr>\n",
       "  </tbody>\n",
       "</table>\n",
       "</div>"
      ],
      "text/plain": [
       "                   차대번호  제작일자\n",
       "456   KMHJF31KPTU334445   NaN\n",
       "1512  KMHMF11FPSU085571   NaN\n",
       "2626  KNCSB1125TS703543   NaN\n",
       "3084  KMFMA19HPSU027208   NaN\n",
       "3504  KMFLA19JPTC102343   NaN"
      ]
     },
     "execution_count": 120,
     "metadata": {},
     "output_type": "execute_result"
    }
   ],
   "source": [
    "df.loc[df['제작일자'].isnull() == True, ['차대번호', '제작일자']].head()"
   ]
  },
  {
   "cell_type": "code",
   "execution_count": 121,
   "metadata": {},
   "outputs": [
    {
     "data": {
      "text/plain": [
       "(1925, 2)"
      ]
     },
     "execution_count": 121,
     "metadata": {},
     "output_type": "execute_result"
    }
   ],
   "source": [
    "df.loc[df['제작일자'].isnull() == True, ['차대번호', '제작일자']].shape"
   ]
  },
  {
   "cell_type": "code",
   "execution_count": 122,
   "metadata": {},
   "outputs": [],
   "source": [
    "temp = df.loc[df['제작일자'].isnull() == True, ['차대번호', '제작일자']]"
   ]
  },
  {
   "cell_type": "code",
   "execution_count": 123,
   "metadata": {},
   "outputs": [
    {
     "data": {
      "text/plain": [
       "1824"
      ]
     },
     "execution_count": 123,
     "metadata": {},
     "output_type": "execute_result"
    }
   ],
   "source": [
    "# 제작일자 null 값 샘플 중 차대번호(17자리, IOQ 제외)인 데이터\n",
    "idx25 = []\n",
    "for i, one in enumerate(temp['차대번호']):\n",
    "    if (len(one) == 17) and ('I' not in one) and ('O' not in one) and ('Q' not in one):\n",
    "        idx25.append(temp.index[i])\n",
    "len(idx25)"
   ]
  },
  {
   "cell_type": "code",
   "execution_count": 124,
   "metadata": {},
   "outputs": [
    {
     "data": {
      "text/html": [
       "<div>\n",
       "<style scoped>\n",
       "    .dataframe tbody tr th:only-of-type {\n",
       "        vertical-align: middle;\n",
       "    }\n",
       "\n",
       "    .dataframe tbody tr th {\n",
       "        vertical-align: top;\n",
       "    }\n",
       "\n",
       "    .dataframe thead th {\n",
       "        text-align: right;\n",
       "    }\n",
       "</style>\n",
       "<table border=\"1\" class=\"dataframe\">\n",
       "  <thead>\n",
       "    <tr style=\"text-align: right;\">\n",
       "      <th></th>\n",
       "      <th>차대번호</th>\n",
       "      <th>차량번호</th>\n",
       "      <th>차량연식</th>\n",
       "      <th>최초등록일자</th>\n",
       "      <th>제작일자</th>\n",
       "      <th>비고</th>\n",
       "    </tr>\n",
       "  </thead>\n",
       "  <tbody>\n",
       "    <tr>\n",
       "      <th>456</th>\n",
       "      <td>KMHJF31KPTU334445</td>\n",
       "      <td>23더6026</td>\n",
       "      <td>1996</td>\n",
       "      <td>19960614</td>\n",
       "      <td>NaN</td>\n",
       "      <td>NaN</td>\n",
       "    </tr>\n",
       "    <tr>\n",
       "      <th>1512</th>\n",
       "      <td>KMHMF11FPSU085571</td>\n",
       "      <td>강원3도5405</td>\n",
       "      <td>1995</td>\n",
       "      <td>19950601</td>\n",
       "      <td>NaN</td>\n",
       "      <td>NaN</td>\n",
       "    </tr>\n",
       "    <tr>\n",
       "      <th>2626</th>\n",
       "      <td>KNCSB1125TS703543</td>\n",
       "      <td>강원80다2062</td>\n",
       "      <td>1996</td>\n",
       "      <td>19960704</td>\n",
       "      <td>NaN</td>\n",
       "      <td>NaN</td>\n",
       "    </tr>\n",
       "    <tr>\n",
       "      <th>3084</th>\n",
       "      <td>KMFMA19HPSU027208</td>\n",
       "      <td>96라9641</td>\n",
       "      <td>1995</td>\n",
       "      <td>19950928</td>\n",
       "      <td>NaN</td>\n",
       "      <td>NaN</td>\n",
       "    </tr>\n",
       "    <tr>\n",
       "      <th>3504</th>\n",
       "      <td>KMFLA19JPTC102343</td>\n",
       "      <td>92무0426</td>\n",
       "      <td>1996</td>\n",
       "      <td>19960216</td>\n",
       "      <td>NaN</td>\n",
       "      <td>NaN</td>\n",
       "    </tr>\n",
       "  </tbody>\n",
       "</table>\n",
       "</div>"
      ],
      "text/plain": [
       "                   차대번호       차량번호  차량연식    최초등록일자  제작일자  비고\n",
       "456   KMHJF31KPTU334445    23더6026  1996  19960614   NaN NaN\n",
       "1512  KMHMF11FPSU085571   강원3도5405  1995  19950601   NaN NaN\n",
       "2626  KNCSB1125TS703543  강원80다2062  1996  19960704   NaN NaN\n",
       "3084  KMFMA19HPSU027208    96라9641  1995  19950928   NaN NaN\n",
       "3504  KMFLA19JPTC102343    92무0426  1996  19960216   NaN NaN"
      ]
     },
     "execution_count": 124,
     "metadata": {},
     "output_type": "execute_result"
    }
   ],
   "source": [
    "df.loc[idx25, ['차대번호', '차량번호', '차량연식', '최초등록일자', '제작일자', '비고']].head()"
   ]
  },
  {
   "cell_type": "code",
   "execution_count": 125,
   "metadata": {},
   "outputs": [
    {
     "data": {
      "text/plain": [
       "'T'"
      ]
     },
     "execution_count": 125,
     "metadata": {},
     "output_type": "execute_result"
    }
   ],
   "source": [
    "df.loc[idx25[0], '차대번호'][9]"
   ]
  },
  {
   "attachments": {},
   "cell_type": "markdown",
   "metadata": {},
   "source": [
    "## 26\\. 검사전 유효기간 만료일"
   ]
  },
  {
   "cell_type": "code",
   "execution_count": 126,
   "metadata": {},
   "outputs": [
    {
     "data": {
      "text/plain": [
       "0    20220625\n",
       "1    20220604\n",
       "2    20220711\n",
       "3    20220627\n",
       "4    20220716\n",
       "Name: 검사전 유효기간 만료일, dtype: int64"
      ]
     },
     "execution_count": 126,
     "metadata": {},
     "output_type": "execute_result"
    }
   ],
   "source": [
    "df.iloc[:5, 26]"
   ]
  },
  {
   "attachments": {},
   "cell_type": "markdown",
   "metadata": {},
   "source": [
    "## 27\\. 관능검사판정"
   ]
  },
  {
   "cell_type": "code",
   "execution_count": 127,
   "metadata": {},
   "outputs": [
    {
     "data": {
      "text/plain": [
       "0   NaN\n",
       "1   NaN\n",
       "2   NaN\n",
       "3   NaN\n",
       "4   NaN\n",
       "Name: 관능검사판정, dtype: float64"
      ]
     },
     "execution_count": 127,
     "metadata": {},
     "output_type": "execute_result"
    }
   ],
   "source": [
    "df.iloc[:5, 27]"
   ]
  },
  {
   "cell_type": "code",
   "execution_count": 129,
   "metadata": {},
   "outputs": [
    {
     "data": {
      "text/plain": [
       "array([nan])"
      ]
     },
     "execution_count": 129,
     "metadata": {},
     "output_type": "execute_result"
    }
   ],
   "source": [
    "df.iloc[:5, 27].unique()"
   ]
  },
  {
   "attachments": {},
   "cell_type": "markdown",
   "metadata": {},
   "source": [
    "## 28\\. 관능부적합항목"
   ]
  },
  {
   "cell_type": "code",
   "execution_count": 128,
   "metadata": {},
   "outputs": [
    {
     "data": {
      "text/plain": [
       "0   NaN\n",
       "1   NaN\n",
       "2   NaN\n",
       "3   NaN\n",
       "4   NaN\n",
       "Name: 관능부적합항목, dtype: float64"
      ]
     },
     "execution_count": 128,
     "metadata": {},
     "output_type": "execute_result"
    }
   ],
   "source": [
    "df.iloc[:5, 28]"
   ]
  },
  {
   "cell_type": "code",
   "execution_count": 130,
   "metadata": {},
   "outputs": [
    {
     "data": {
      "text/plain": [
       "array([nan])"
      ]
     },
     "execution_count": 130,
     "metadata": {},
     "output_type": "execute_result"
    }
   ],
   "source": [
    "df.iloc[:5, 28].unique()"
   ]
  },
  {
   "attachments": {},
   "cell_type": "markdown",
   "metadata": {},
   "source": [
    "## 29\\. 검사방법"
   ]
  },
  {
   "cell_type": "code",
   "execution_count": 131,
   "metadata": {},
   "outputs": [
    {
     "data": {
      "text/plain": [
       "0    무부하검사(정지가동)\n",
       "1     무부하검사(급가속)\n",
       "2     무부하검사(급가속)\n",
       "3     무부하검사(급가속)\n",
       "4    무부하검사(정지가동)\n",
       "Name: 검사방법, dtype: object"
      ]
     },
     "execution_count": 131,
     "metadata": {},
     "output_type": "execute_result"
    }
   ],
   "source": [
    "df.iloc[:5, 29]"
   ]
  },
  {
   "cell_type": "code",
   "execution_count": 132,
   "metadata": {},
   "outputs": [
    {
     "data": {
      "text/plain": [
       "array(['무부하검사(정지가동)', '무부하검사(급가속)', '무부하검사(TSI)'], dtype=object)"
      ]
     },
     "execution_count": 132,
     "metadata": {},
     "output_type": "execute_result"
    }
   ],
   "source": [
    "df.iloc[:, 29].unique()"
   ]
  },
  {
   "attachments": {},
   "cell_type": "markdown",
   "metadata": {},
   "source": [
    "## 30\\. 무부하매연측정치1"
   ]
  },
  {
   "cell_type": "code",
   "execution_count": 133,
   "metadata": {},
   "outputs": [
    {
     "data": {
      "text/plain": [
       "0    NaN\n",
       "1    0.0\n",
       "2    0.0\n",
       "3    0.0\n",
       "4    NaN\n",
       "Name: 무부하매연측정치1, dtype: float64"
      ]
     },
     "execution_count": 133,
     "metadata": {},
     "output_type": "execute_result"
    }
   ],
   "source": [
    "df.iloc[:5, 30]"
   ]
  },
  {
   "cell_type": "code",
   "execution_count": 184,
   "metadata": {},
   "outputs": [
    {
     "data": {
      "text/plain": [
       "array([     nan, 0.00e+00, 2.00e+00, 1.70e+01, 1.00e+00, 1.20e+01,\n",
       "       1.00e+01, 1.00e-02, 1.00e-01, 1.20e-01, 5.00e-01, 1.70e-01,\n",
       "       4.00e-01, 3.00e-02, 1.40e-01, 2.00e-02, 3.00e-01, 2.00e-01,\n",
       "       3.10e-01, 4.80e-01, 5.40e-01, 3.00e+00, 5.30e+01, 4.30e+01,\n",
       "       3.30e+01, 2.30e+01, 7.00e+00, 8.00e+00, 5.00e+00, 4.00e+00,\n",
       "       1.40e+01, 1.10e+01, 9.00e+00, 6.00e-02, 4.00e-02, 7.00e-02,\n",
       "       5.00e-02, 8.00e-01, 1.50e-01, 1.80e-01, 9.00e-02, 1.60e-01,\n",
       "       2.10e-01, 2.80e-01, 8.00e-02, 6.00e+01, 3.50e+01, 1.90e-01,\n",
       "       4.40e-01, 2.00e+01, 2.40e-01, 2.50e-01, 1.10e-01, 4.90e-01,\n",
       "       5.80e-01, 2.20e-01, 3.90e-01, 4.60e-01, 7.00e-01, 5.30e-01,\n",
       "       3.00e+01, 2.10e+01, 3.30e-01, 6.90e-01, 6.00e-01, 3.50e-01,\n",
       "       3.80e-01, 2.80e+01, 1.17e+00, 1.40e+00, 5.10e-01, 9.30e-01,\n",
       "       6.00e+00, 3.40e+01, 2.70e-01, 5.90e-01, 1.30e-01, 2.90e+01,\n",
       "       9.00e-01, 5.60e-01, 7.10e-01, 2.20e+01, 7.20e-01, 9.10e-01,\n",
       "       1.69e+00, 1.90e+00, 5.20e-01, 2.90e-01, 8.50e+01, 2.98e+00,\n",
       "       2.30e-01, 2.81e+00, 5.80e+01, 4.70e-01, 6.60e+00, 4.00e+01,\n",
       "       1.30e+01, 1.80e+01, 2.40e+01, 7.20e+01, 3.60e+01, 4.10e+01,\n",
       "       2.50e+01, 1.90e+01, 1.60e+01, 4.40e+01, 1.50e+01, 2.60e+01,\n",
       "       8.00e+01, 6.20e+01, 3.10e+01, 3.90e+01, 4.70e+01, 4.60e+01,\n",
       "       8.10e+01, 7.50e+01, 6.70e+01, 3.70e+01, 3.80e+01, 5.20e+01,\n",
       "       5.50e+01, 3.20e+01, 6.20e-01, 2.70e+01, 4.50e+01, 7.60e+01,\n",
       "       8.30e+01, 8.90e+01, 7.40e+01, 8.20e+01, 6.50e+01, 6.30e+01,\n",
       "       7.80e+01, 6.10e+01, 4.20e+01, 8.60e+01, 4.90e+01, 5.40e+01,\n",
       "       5.90e+01, 4.80e+01, 5.10e+01, 9.80e+01, 9.30e+01, 7.30e+01,\n",
       "       6.60e+01, 5.60e+01, 6.40e+01, 7.10e+01, 9.40e+01, 7.00e+01,\n",
       "       5.00e+01, 8.80e-01, 2.60e-01, 3.70e-01, 7.70e+01, 6.90e+01,\n",
       "       5.70e-01, 2.75e+00, 5.70e+01, 3.60e-01, 4.20e-01, 4.10e-01,\n",
       "       8.40e+01, 8.70e-01, 5.50e-01, 6.40e-01, 9.60e+01, 9.90e+01,\n",
       "       1.30e+00, 7.90e-01, 9.70e+01, 4.30e-01, 9.70e-01, 4.40e+00,\n",
       "       8.80e+01, 8.40e-01, 6.70e+00, 6.60e-01, 7.90e+01, 9.20e+01,\n",
       "       1.20e+00, 8.30e-01, 7.40e-01, 8.70e+01, 8.10e-01, 9.10e+01,\n",
       "       9.00e+01, 8.60e-01, 6.80e-01, 1.15e+00, 6.10e-01, 6.80e+01,\n",
       "       1.50e+00, 3.40e+00, 9.40e-01, 9.50e-01, 2.70e+00, 2.19e+00,\n",
       "       8.20e+00, 3.40e-01, 4.50e-01, 9.90e-01, 6.30e-01, 9.60e-01,\n",
       "       3.20e-01, 7.60e-01, 2.20e+00, 7.50e-01, 1.00e+02, 1.14e+00,\n",
       "       1.26e+02, 7.71e+00, 1.60e+00, 4.80e+00, 1.10e+00, 1.12e+00,\n",
       "       1.70e+00, 9.80e-01, 6.70e-01, 6.50e-01, 3.10e+00, 4.70e+00,\n",
       "       9.90e+00, 1.53e+00, 1.11e+00, 1.80e+00, 9.50e+01, 3.80e+00,\n",
       "       9.50e+00, 4.50e+00, 2.50e+00, 7.50e+00, 1.18e+00, 2.57e+00,\n",
       "       7.30e-01, 3.60e+00, 1.27e+00, 1.23e+00, 8.50e-01, 3.70e+00,\n",
       "       8.90e-01, 9.20e-01, 2.76e+00, 2.53e+00, 2.42e+00, 1.05e+00,\n",
       "       3.20e+00, 3.55e+00, 2.18e+00, 1.04e+02, 1.03e+02, 8.50e+00,\n",
       "       7.80e-01, 1.43e+00, 2.36e+00, 2.17e+00, 5.40e+00, 4.90e+00,\n",
       "       1.13e+00, 2.40e+00, 4.20e+00, 1.26e+00, 1.57e+00, 1.33e+00,\n",
       "       7.70e-01, 1.34e+00, 1.35e+00, 1.03e+00, 2.10e+00, 5.10e+00,\n",
       "       8.20e-01, 2.30e+00, 5.60e+00, 5.84e+00, 9.80e+00, 4.66e+00,\n",
       "       5.70e+00, 1.01e+00, 1.86e+00, 1.07e+00, 5.07e+00, 7.70e+00,\n",
       "       2.60e+00, 1.21e+02, 9.30e+00, 1.68e+00, 4.60e+00, 6.10e+00,\n",
       "       6.40e+00, 8.10e+00, 1.19e+00, 1.92e+00, 1.09e+00, 4.95e+00,\n",
       "       1.28e+00, 3.14e+00, 3.90e+00, 1.16e+00, 6.09e+00, 4.04e+00,\n",
       "       1.04e+00, 3.79e+00, 4.37e+00, 1.06e+00, 2.79e+00, 2.87e+00,\n",
       "       9.60e+00, 3.30e+00, 1.52e+00, 3.34e+00, 2.86e+00, 3.50e+00,\n",
       "       1.82e+00, 1.62e+00, 4.14e+00, 1.31e+00, 1.99e+00, 6.98e+00,\n",
       "       2.64e+00, 3.22e+00, 4.88e+00, 1.55e+00, 6.51e+00, 2.90e+00,\n",
       "       2.33e+00, 1.48e+00, 1.24e+00, 2.80e+00, 2.95e+00, 1.37e+00,\n",
       "       2.43e+00, 1.08e+00, 1.21e+00, 5.80e+00, 1.41e+00, 1.16e+02,\n",
       "       2.03e+00, 6.35e+00, 2.25e+00, 1.10e+02, 6.30e+00, 6.03e+00,\n",
       "       4.10e+00, 3.95e+00, 1.49e+00, 5.46e+00, 8.30e+00, 6.95e+00,\n",
       "       5.30e+00, 9.82e+00, 5.50e+00, 1.22e+00, 1.56e+00, 1.38e+00,\n",
       "       1.84e+00, 6.50e+00, 3.37e+00, 3.84e+00, 6.91e+00, 4.30e+00,\n",
       "       7.44e+00, 8.70e+00, 9.17e+00, 7.98e+00, 1.39e+00, 2.44e+00])"
      ]
     },
     "execution_count": 184,
     "metadata": {},
     "output_type": "execute_result"
    }
   ],
   "source": [
    "df.iloc[:, 30].unique()"
   ]
  },
  {
   "attachments": {},
   "cell_type": "markdown",
   "metadata": {},
   "source": [
    "## 31\\. 무부하매연허용치1"
   ]
  },
  {
   "cell_type": "code",
   "execution_count": 134,
   "metadata": {},
   "outputs": [
    {
     "data": {
      "text/plain": [
       "0    NaN\n",
       "1    0.0\n",
       "2    0.0\n",
       "3    0.0\n",
       "4    NaN\n",
       "Name: 무부하매연허용치1, dtype: float64"
      ]
     },
     "execution_count": 134,
     "metadata": {},
     "output_type": "execute_result"
    }
   ],
   "source": [
    "df.iloc[:5, 31]"
   ]
  },
  {
   "cell_type": "code",
   "execution_count": 185,
   "metadata": {},
   "outputs": [
    {
     "data": {
      "text/plain": [
       "array([ nan,  0. , 25. ,  1. , 15. , 50. , 45. , 60. ,  2.5,  1.2, 10. ,\n",
       "       20. ,  4.5, 35. , 55. , 40. , 65. , 30. ])"
      ]
     },
     "execution_count": 185,
     "metadata": {},
     "output_type": "execute_result"
    }
   ],
   "source": [
    "df.iloc[:, 31].unique()"
   ]
  },
  {
   "attachments": {},
   "cell_type": "markdown",
   "metadata": {},
   "source": [
    "## 32\\. 무부하매연판정1"
   ]
  },
  {
   "cell_type": "code",
   "execution_count": 136,
   "metadata": {},
   "outputs": [
    {
     "data": {
      "text/plain": [
       "0    NaN\n",
       "1      Y\n",
       "2      Y\n",
       "3      Y\n",
       "4    NaN\n",
       "Name: 무부하매연판정1, dtype: object"
      ]
     },
     "execution_count": 136,
     "metadata": {},
     "output_type": "execute_result"
    }
   ],
   "source": [
    "df.iloc[:5, 32]"
   ]
  },
  {
   "cell_type": "code",
   "execution_count": 186,
   "metadata": {},
   "outputs": [
    {
     "data": {
      "text/plain": [
       "array([nan, 'Y', 'N'], dtype=object)"
      ]
     },
     "execution_count": 186,
     "metadata": {},
     "output_type": "execute_result"
    }
   ],
   "source": [
    "df.iloc[:, 32].unique()"
   ]
  },
  {
   "attachments": {},
   "cell_type": "markdown",
   "metadata": {},
   "source": [
    "## 33\\. 무부하매연측정치2"
   ]
  },
  {
   "cell_type": "code",
   "execution_count": 188,
   "metadata": {},
   "outputs": [
    {
     "data": {
      "text/plain": [
       "0   NaN\n",
       "1   NaN\n",
       "2   NaN\n",
       "3   NaN\n",
       "4   NaN\n",
       "Name: 무부하매연측정치2, dtype: float64"
      ]
     },
     "execution_count": 188,
     "metadata": {},
     "output_type": "execute_result"
    }
   ],
   "source": [
    "df.iloc[:5, 33]"
   ]
  },
  {
   "cell_type": "code",
   "execution_count": 189,
   "metadata": {},
   "outputs": [
    {
     "data": {
      "text/plain": [
       "array([      nan, 2.000e+00, 2.100e+01, 5.800e+01, 0.000e+00, 1.000e+00,\n",
       "       4.000e+00, 3.200e+01, 5.000e+00, 2.900e+01, 7.000e+00, 2.200e+01,\n",
       "       3.400e+01, 1.600e+01, 4.900e+01, 3.000e+00, 6.500e+01, 2.060e+02,\n",
       "       1.200e+01, 9.000e+00, 3.800e+01, 6.000e+00, 6.800e+01, 1.400e+01,\n",
       "       1.020e+02, 1.100e+01, 4.200e+01, 6.300e+01, 1.900e+01, 2.000e+01,\n",
       "       2.800e+01, 1.300e+01, 1.500e+01, 2.600e+01, 1.240e+02, 3.500e+01,\n",
       "       8.000e+00, 2.440e+02, 7.400e+01, 1.000e+01, 5.000e+01, 6.000e+01,\n",
       "       6.600e+01, 1.700e+01, 4.400e+01, 1.060e+02, 4.800e+01, 7.500e+01,\n",
       "       4.000e+01, 7.100e+01, 6.100e+01, 6.010e+02, 1.800e+01, 9.000e+01,\n",
       "       1.140e+02, 5.200e+01, 1.550e+02, 3.900e+01, 2.400e+01, 1.500e+02,\n",
       "       3.300e+01, 3.100e+01, 5.700e+01, 2.500e+01, 1.400e+02, 3.000e+01,\n",
       "       8.200e+01, 7.700e+01, 1.920e+02, 2.190e+02, 1.090e+02, 1.410e+02,\n",
       "       2.300e+01, 8.100e+01, 1.860e+02, 9.300e+01, 2.700e+01, 1.190e+02,\n",
       "       9.100e+01, 8.400e+01, 5.400e+01, 4.100e+01, 8.700e+01, 3.700e+01,\n",
       "       5.900e+01, 6.700e+01, 6.200e+01, 5.600e+01, 1.170e+02, 1.320e+02,\n",
       "       1.100e+02, 8.500e+01, 3.600e+01, 1.230e+02, 7.000e+01, 2.350e+02,\n",
       "       1.836e+03, 4.300e+01, 5.500e+01, 1.730e+02, 1.200e+02, 4.600e+01,\n",
       "       6.400e+01, 1.130e+02, 4.500e+01, 1.760e+02, 1.950e+02, 1.900e+02,\n",
       "       1.910e+02, 8.300e+01, 7.200e+01, 8.000e+01, 2.990e+02, 1.180e+02,\n",
       "       1.030e+02, 2.700e+02, 9.200e+01, 8.600e+01, 7.300e+01, 6.900e+01,\n",
       "       1.080e+02, 9.900e+01, 2.680e+02, 1.050e+02, 1.120e+02, 4.700e+01,\n",
       "       1.110e+02, 9.600e+01, 9.400e+01, 1.370e+02, 5.100e+01, 4.000e+02,\n",
       "       1.525e+03, 7.800e+01, 2.070e+02, 1.070e+02, 7.900e+01, 8.800e+01,\n",
       "       5.300e+01, 1.040e+02, 8.900e+01, 8.240e+02, 1.880e+02, 2.600e+02,\n",
       "       3.360e+02, 1.840e+02, 1.220e+02, 2.250e+02, 2.180e+02, 1.470e+02,\n",
       "       1.160e+02, 1.150e+02, 7.600e+01, 1.720e+02, 2.400e+02, 5.300e+02,\n",
       "       2.430e+02, 2.380e+02, 1.348e+03, 2.370e+02, 3.110e+02, 6.490e+02,\n",
       "       3.500e+02, 1.280e+02, 5.040e+02, 1.970e+02, 1.870e+02, 3.320e+02,\n",
       "       1.600e+02, 1.650e+02, 2.170e+02, 2.200e+02, 2.100e+02, 1.670e+02,\n",
       "       1.010e+02, 1.490e+02, 1.250e+02, 7.090e+02, 2.040e+02, 1.460e+02,\n",
       "       2.930e+02, 1.290e+02, 9.700e+01, 1.310e+02, 1.780e+02, 3.860e+02,\n",
       "       5.220e+02, 1.740e+02, 1.710e+02, 1.420e+02, 6.510e+02, 9.800e+01,\n",
       "       1.210e+02, 2.650e+02, 1.830e+02, 1.570e+02, 1.510e+02, 3.720e+02,\n",
       "       2.520e+02, 2.410e+02, 9.500e+01, 1.690e+02, 1.800e+02, 2.270e+02,\n",
       "       4.200e+02, 9.590e+02, 2.130e+02, 2.920e+02, 1.000e+02, 9.300e+02,\n",
       "       1.960e+02, 2.160e+02, 1.980e+02, 3.740e+02, 2.320e+02, 4.580e+02,\n",
       "       2.460e+02, 7.380e+02, 2.050e+02, 2.090e+02, 1.990e+02, 1.640e+02,\n",
       "       2.890e+02, 1.890e+02, 1.610e+02, 2.150e+02, 2.280e+02, 1.930e+02,\n",
       "       3.910e+02, 4.820e+02, 2.900e+02, 1.590e+02, 1.630e+02, 2.620e+02,\n",
       "       3.450e+02, 1.430e+02, 6.960e+02, 3.440e+02, 7.720e+02, 3.820e+02,\n",
       "       1.350e+02, 2.580e+02, 1.440e+02, 1.770e+02, 3.227e+03, 2.120e+02,\n",
       "       2.110e+02, 4.470e+02, 1.820e+02, 1.380e+02, 2.800e+02, 5.490e+02,\n",
       "       5.740e+02, 3.980e+02, 3.780e+02, 2.310e+02, 1.330e+02, 1.360e+02,\n",
       "       2.630e+02, 2.640e+02, 9.900e+02, 2.730e+02, 1.390e+02, 2.330e+02,\n",
       "       8.350e+02, 3.080e+02, 1.580e+02, 4.970e+02, 2.670e+02, 7.060e+02,\n",
       "       1.480e+02, 2.020e+02, 1.790e+02, 4.350e+02, 2.240e+02, 6.050e+02,\n",
       "       6.890e+02, 3.590e+02, 5.640e+02, 3.180e+02, 2.030e+02, 3.920e+02,\n",
       "       6.320e+02, 1.940e+02, 4.740e+02, 1.006e+03, 4.660e+02, 1.560e+02,\n",
       "       4.620e+02, 3.020e+02, 6.160e+02, 1.340e+02, 1.300e+02, 1.520e+02,\n",
       "       1.810e+02, 3.640e+02, 3.210e+02, 2.010e+02, 4.230e+02, 1.060e+03,\n",
       "       1.540e+02, 1.015e+03, 1.750e+02, 8.310e+02, 6.280e+02, 4.760e+02,\n",
       "       1.620e+02, 6.020e+02, 2.780e+02, 3.730e+02, 2.210e+02, 1.530e+02,\n",
       "       1.260e+02, 3.010e+02, 3.250e+02, 1.270e+02, 2.590e+02, 3.270e+03,\n",
       "       3.130e+02, 3.930e+02, 3.190e+02, 1.739e+03, 3.240e+02, 1.450e+02,\n",
       "       3.880e+02, 5.500e+02, 3.070e+02, 2.540e+02, 1.867e+03, 3.670e+02,\n",
       "       2.300e+02, 3.200e+02, 1.168e+03, 2.490e+02, 4.270e+02, 2.560e+02,\n",
       "       2.690e+02, 2.910e+02, 3.350e+02, 3.770e+02, 2.220e+02, 3.290e+02,\n",
       "       3.530e+02, 2.480e+02, 6.120e+02, 6.940e+02, 2.000e+02, 9.400e+02,\n",
       "       1.850e+02, 5.520e+02, 2.870e+02, 5.340e+02, 2.740e+02, 2.970e+02,\n",
       "       2.080e+02, 3.260e+02, 3.810e+02, 2.500e+02, 9.080e+02, 4.550e+02,\n",
       "       3.490e+02, 2.420e+02, 2.550e+02, 3.690e+02, 4.560e+02, 3.660e+02,\n",
       "       3.090e+02, 3.760e+02, 8.430e+02, 3.560e+02, 2.570e+02, 3.680e+02,\n",
       "       4.290e+02, 2.140e+02, 2.390e+02, 5.880e+02, 5.630e+02, 1.059e+03,\n",
       "       2.230e+02, 4.960e+02, 2.530e+02, 4.650e+02, 4.240e+02, 9.420e+02,\n",
       "       1.660e+02, 8.770e+02, 2.610e+02, 8.030e+02, 3.830e+02, 3.970e+02,\n",
       "       7.470e+02, 7.240e+02, 2.960e+02, 4.410e+02, 3.430e+02, 5.180e+02,\n",
       "       1.998e+03, 1.533e+03, 3.990e+02, 6.390e+02, 3.950e+02, 4.900e+02,\n",
       "       3.300e+02, 2.274e+03, 1.700e+02, 1.054e+03, 4.110e+02, 5.720e+02,\n",
       "       2.850e+02, 3.710e+02, 4.630e+02, 1.680e+02, 5.080e+02, 2.002e+03,\n",
       "       1.072e+03, 3.940e+02, 7.360e+02, 3.220e+02, 2.710e+02, 4.030e+02,\n",
       "       7.310e+02, 2.750e+02, 4.600e+02, 8.290e+02, 3.330e+02, 3.050e+02,\n",
       "       2.770e+02, 2.830e+02, 2.940e+02, 2.810e+02, 1.216e+03, 3.650e+02,\n",
       "       8.600e+02, 3.480e+02, 3.700e+02, 3.580e+02, 3.060e+02, 6.220e+02,\n",
       "       2.820e+02, 2.790e+02, 1.071e+03, 6.150e+02, 1.048e+03, 2.095e+03,\n",
       "       6.980e+02, 2.450e+02, 4.480e+02, 2.880e+02, 1.036e+03, 9.270e+02,\n",
       "       3.410e+02, 2.340e+02, 5.480e+02, 2.290e+02, 6.580e+02, 2.470e+02,\n",
       "       1.846e+03, 5.310e+02, 1.013e+03, 4.340e+02, 5.990e+02, 2.510e+02,\n",
       "       5.870e+02, 5.950e+02, 1.136e+03, 3.630e+02, 5.600e+02, 5.380e+02,\n",
       "       2.260e+02, 8.420e+02, 1.682e+03, 4.404e+03, 8.050e+02, 4.750e+02,\n",
       "       1.505e+03, 4.220e+02, 8.750e+02, 3.120e+02, 4.090e+02, 3.280e+02,\n",
       "       4.210e+02, 3.160e+02, 5.370e+02, 3.150e+02, 1.361e+03, 2.162e+03,\n",
       "       3.850e+02, 9.060e+02, 4.460e+02, 8.500e+02, 3.960e+02, 3.100e+02,\n",
       "       2.980e+02, 4.590e+02, 2.660e+02, 3.440e+03, 3.390e+02, 3.800e+02,\n",
       "       3.470e+02, 3.750e+02, 3.340e+02, 6.410e+02, 4.840e+02, 3.570e+02,\n",
       "       3.600e+02, 3.821e+03, 3.380e+02, 1.049e+03, 8.100e+02, 1.244e+03,\n",
       "       4.320e+02, 3.140e+02, 3.400e+02, 3.370e+02, 7.970e+02, 4.310e+02,\n",
       "       6.470e+02, 4.080e+02, 2.720e+02, 8.110e+02, 8.720e+02, 4.250e+02,\n",
       "       1.037e+03, 8.000e+02, 5.020e+02, 4.670e+02, 6.630e+02, 5.550e+02,\n",
       "       9.190e+02, 5.280e+02, 7.730e+02, 7.640e+02, 3.070e+03, 4.360e+02,\n",
       "       3.310e+02, 8.890e+02, 4.770e+02, 2.760e+02, 5.840e+02, 1.074e+03,\n",
       "       3.610e+02, 4.800e+02, 2.350e+03, 1.340e+03, 4.490e+02, 4.190e+02,\n",
       "       4.830e+02, 6.110e+02, 4.140e+02, 2.950e+02, 5.430e+02, 3.620e+02,\n",
       "       3.540e+02, 1.098e+03, 8.580e+02, 1.473e+03, 3.230e+02, 4.980e+02,\n",
       "       6.260e+02, 3.270e+02, 4.510e+02, 2.088e+03, 3.900e+02, 5.230e+02,\n",
       "       2.469e+03, 5.820e+02, 1.819e+03, 4.990e+02, 1.113e+03, 1.158e+03,\n",
       "       8.170e+02, 7.740e+02, 4.400e+02, 6.850e+02, 4.940e+02, 5.070e+02,\n",
       "       7.900e+02, 2.360e+02, 5.000e+02, 3.790e+02, 1.139e+03, 6.350e+02,\n",
       "       6.240e+02, 3.890e+02, 1.068e+03, 5.920e+02, 5.330e+02, 3.170e+02,\n",
       "       5.560e+02, 4.380e+02, 5.700e+02, 4.420e+02, 9.999e+03, 4.850e+02,\n",
       "       2.840e+02, 8.150e+02, 6.290e+02, 1.100e+03, 3.510e+02, 5.530e+02,\n",
       "       8.490e+02, 4.450e+02, 5.170e+02, 1.455e+03, 4.640e+02, 4.860e+02,\n",
       "       5.320e+02, 3.550e+02, 7.169e+03, 6.330e+02, 5.210e+02, 4.370e+02,\n",
       "       1.586e+03, 1.141e+03, 1.284e+03, 6.080e+02, 7.860e+02, 8.080e+02,\n",
       "       3.840e+02, 7.130e+02, 7.300e+02, 9.810e+02, 5.060e+02, 3.460e+02,\n",
       "       1.034e+03, 4.930e+02, 3.000e+02, 7.190e+02, 4.180e+02, 6.430e+02,\n",
       "       8.590e+02, 7.590e+02, 4.300e+02, 4.050e+02, 7.120e+02, 5.850e+02,\n",
       "       4.430e+02, 9.770e+02, 9.110e+02, 3.040e+02, 4.730e+02, 1.081e+03,\n",
       "       6.780e+02, 2.610e+03, 9.880e+02, 6.570e+02, 5.260e+02, 5.900e+02,\n",
       "       1.104e+03, 7.480e+02, 7.570e+02, 1.405e+03, 5.940e+02, 6.720e+02,\n",
       "       5.540e+02, 2.093e+03, 4.440e+02, 5.150e+02, 5.270e+02, 1.245e+03,\n",
       "       4.020e+02, 6.270e+02, 1.280e+03, 6.380e+02, 5.620e+02, 4.500e+02,\n",
       "       9.550e+02, 1.144e+03, 1.227e+03, 8.440e+02, 6.680e+02, 7.070e+02,\n",
       "       8.620e+02, 9.600e+02, 3.420e+02, 7.080e+02, 1.185e+03, 4.610e+02,\n",
       "       8.130e+02, 7.170e+02, 1.181e+03, 4.894e+03, 7.660e+02, 6.600e+02,\n",
       "       2.991e+03, 1.035e+03, 7.000e+02, 7.832e+03])"
      ]
     },
     "execution_count": 189,
     "metadata": {},
     "output_type": "execute_result"
    }
   ],
   "source": [
    "df.iloc[:, 33].unique()"
   ]
  },
  {
   "attachments": {},
   "cell_type": "markdown",
   "metadata": {},
   "source": [
    "## 34\\. 무부하매연허용치2"
   ]
  },
  {
   "cell_type": "code",
   "execution_count": 139,
   "metadata": {},
   "outputs": [
    {
     "data": {
      "text/plain": [
       "0   NaN\n",
       "1   NaN\n",
       "2   NaN\n",
       "3   NaN\n",
       "4   NaN\n",
       "Name: 무부하매연허용치2, dtype: float64"
      ]
     },
     "execution_count": 139,
     "metadata": {},
     "output_type": "execute_result"
    }
   ],
   "source": [
    "df.iloc[:5, 34]"
   ]
  },
  {
   "cell_type": "code",
   "execution_count": 190,
   "metadata": {},
   "outputs": [
    {
     "data": {
      "text/plain": [
       "array([  nan,  150.,  120.,  400.,  220.,    0., 1200.])"
      ]
     },
     "execution_count": 190,
     "metadata": {},
     "output_type": "execute_result"
    }
   ],
   "source": [
    "df.iloc[:, 34].unique()"
   ]
  },
  {
   "attachments": {},
   "cell_type": "markdown",
   "metadata": {},
   "source": [
    "## 35\\. 무부하매연판정2"
   ]
  },
  {
   "cell_type": "code",
   "execution_count": 141,
   "metadata": {},
   "outputs": [
    {
     "data": {
      "text/plain": [
       "0    NaN\n",
       "1    NaN\n",
       "2    NaN\n",
       "3    NaN\n",
       "4    NaN\n",
       "Name: 무부하매연판정2, dtype: object"
      ]
     },
     "execution_count": 141,
     "metadata": {},
     "output_type": "execute_result"
    }
   ],
   "source": [
    "df.iloc[:5, 35]"
   ]
  },
  {
   "cell_type": "code",
   "execution_count": 191,
   "metadata": {},
   "outputs": [
    {
     "data": {
      "text/plain": [
       "array([nan, 'Y', 'N'], dtype=object)"
      ]
     },
     "execution_count": 191,
     "metadata": {},
     "output_type": "execute_result"
    }
   ],
   "source": [
    "df.iloc[:, 35].unique()"
   ]
  },
  {
   "attachments": {},
   "cell_type": "markdown",
   "metadata": {},
   "source": [
    "## 36\\. 무부하매연측정치3"
   ]
  },
  {
   "cell_type": "code",
   "execution_count": 143,
   "metadata": {},
   "outputs": [
    {
     "data": {
      "text/plain": [
       "0   NaN\n",
       "1   NaN\n",
       "2   NaN\n",
       "3   NaN\n",
       "4   NaN\n",
       "Name: 무부하매연측정치3, dtype: float64"
      ]
     },
     "execution_count": 143,
     "metadata": {},
     "output_type": "execute_result"
    }
   ],
   "source": [
    "df.iloc[:5, 36]"
   ]
  },
  {
   "cell_type": "code",
   "execution_count": 192,
   "metadata": {},
   "outputs": [
    {
     "data": {
      "text/plain": [
       "array([ nan, 1.01, 1.22, 1.  , 1.02, 1.06, 0.99, 1.03, 1.05, 1.08, 1.04,\n",
       "       1.1 , 1.07, 1.09, 0.95, 0.  , 0.94, 0.98, 0.92, 1.24, 1.15, 1.16,\n",
       "       1.21, 1.13, 1.52, 1.74, 1.48, 1.11, 1.12, 0.97, 1.14, 2.  , 1.18,\n",
       "       1.37, 0.96, 0.91, 0.93, 1.46, 1.49, 1.32, 1.29, 1.23, 2.5 , 1.2 ,\n",
       "       1.19, 1.53, 1.5 , 1.63, 1.3 , 0.87, 1.69, 0.88, 1.17, 1.6 , 1.27,\n",
       "       1.51, 1.25, 1.81, 0.9 , 1.33, 1.31, 1.59, 0.83, 1.28, 1.4 , 1.95,\n",
       "       0.86, 1.43, 1.83, 1.58, 1.45, 1.26, 1.44, 1.76, 1.38, 1.56, 2.12,\n",
       "       3.  , 1.66, 0.3 , 1.82, 1.36, 1.35, 2.32, 0.75, 2.47, 1.94, 0.78,\n",
       "       1.7 , 0.79, 1.85, 1.55, 1.34, 2.44, 1.42, 1.9 , 0.74, 1.75, 1.77,\n",
       "       1.99, 1.84, 2.07, 1.41, 1.54, 1.39, 0.77, 0.7 , 0.85, 2.08, 0.66,\n",
       "       0.41, 1.57, 0.5 , 1.67, 1.71, 2.09, 2.05, 2.16, 1.65, 0.81, 1.87,\n",
       "       2.17, 0.82, 1.64, 0.84, 0.67, 2.34, 0.76, 1.47, 0.63, 1.89, 1.97,\n",
       "       0.89, 2.26, 1.73, 1.96, 0.51, 0.56, 1.62, 1.78, 1.72, 2.43, 1.88,\n",
       "       1.61, 1.68, 0.72, 2.18, 0.8 , 0.42, 1.92, 2.74, 0.68, 2.11, 0.65,\n",
       "       2.41, 2.2 , 2.37, 0.52, 1.93, 2.04, 0.73, 2.06, 1.98, 1.79, 0.1 ,\n",
       "       2.13, 0.71, 2.36, 2.85, 0.69, 2.9 , 2.49, 0.6 , 1.91, 2.1 , 0.28,\n",
       "       2.01, 2.03, 2.21, 2.27, 2.96, 1.8 , 0.21, 2.19, 2.28, 2.48])"
      ]
     },
     "execution_count": 192,
     "metadata": {},
     "output_type": "execute_result"
    }
   ],
   "source": [
    "df.iloc[:, 36].unique()"
   ]
  },
  {
   "attachments": {},
   "cell_type": "markdown",
   "metadata": {},
   "source": [
    "## 37\\. 무부하매연허용치3"
   ]
  },
  {
   "cell_type": "code",
   "execution_count": 145,
   "metadata": {},
   "outputs": [
    {
     "data": {
      "text/plain": [
       "0   NaN\n",
       "1   NaN\n",
       "2   NaN\n",
       "3   NaN\n",
       "4   NaN\n",
       "Name: 무부하매연허용치3, dtype: float64"
      ]
     },
     "execution_count": 145,
     "metadata": {},
     "output_type": "execute_result"
    }
   ],
   "source": [
    "df.iloc[:5, 37]"
   ]
  },
  {
   "cell_type": "code",
   "execution_count": 193,
   "metadata": {},
   "outputs": [
    {
     "data": {
      "text/plain": [
       "array([ nan, 0.1 , 0.  , 0.15, 0.2 ])"
      ]
     },
     "execution_count": 193,
     "metadata": {},
     "output_type": "execute_result"
    }
   ],
   "source": [
    "df.iloc[:, 37].unique()"
   ]
  },
  {
   "attachments": {},
   "cell_type": "markdown",
   "metadata": {},
   "source": [
    "## 38\\. 무부하매연판정3"
   ]
  },
  {
   "cell_type": "code",
   "execution_count": 147,
   "metadata": {},
   "outputs": [
    {
     "data": {
      "text/plain": [
       "0    NaN\n",
       "1    NaN\n",
       "2    NaN\n",
       "3    NaN\n",
       "4    NaN\n",
       "Name: 무부하매연판정3, dtype: object"
      ]
     },
     "execution_count": 147,
     "metadata": {},
     "output_type": "execute_result"
    }
   ],
   "source": [
    "df.iloc[:5, 38]"
   ]
  },
  {
   "cell_type": "code",
   "execution_count": 194,
   "metadata": {},
   "outputs": [
    {
     "data": {
      "text/plain": [
       "array([nan, 'Y', 'N'], dtype=object)"
      ]
     },
     "execution_count": 194,
     "metadata": {},
     "output_type": "execute_result"
    }
   ],
   "source": [
    "df.iloc[:, 38].unique()"
   ]
  },
  {
   "attachments": {},
   "cell_type": "markdown",
   "metadata": {},
   "source": [
    "## 39\\. 무부하매연측정치4"
   ]
  },
  {
   "cell_type": "code",
   "execution_count": 149,
   "metadata": {},
   "outputs": [
    {
     "data": {
      "text/plain": [
       "0   NaN\n",
       "1   NaN\n",
       "2   NaN\n",
       "3   NaN\n",
       "4   NaN\n",
       "Name: 무부하매연측정치4, dtype: float64"
      ]
     },
     "execution_count": 149,
     "metadata": {},
     "output_type": "execute_result"
    }
   ],
   "source": [
    "df.iloc[:5, 39]"
   ]
  },
  {
   "cell_type": "code",
   "execution_count": 195,
   "metadata": {},
   "outputs": [
    {
     "data": {
      "text/plain": [
       "array([  nan,  0.  ,  0.2 ,  0.01,  0.1 ,  0.04,  7.23,  0.07,  0.03,\n",
       "        0.4 ,  0.15,  0.6 ,  0.06,  0.09,  0.13,  0.3 ,  0.35,  0.17,\n",
       "        0.8 ,  1.  ,  0.74,  0.21,  0.5 ,  0.7 ,  0.11,  0.43,  0.02,\n",
       "        0.93,  0.49,  0.05,  0.08,  0.34,  0.29,  0.33,  0.22,  0.84,\n",
       "        0.9 ,  0.27,  0.25,  0.18,  0.12,  0.39,  0.36,  0.56,  0.69,\n",
       "        0.14,  0.42,  0.71,  0.24,  0.23,  0.92,  1.3 ,  0.53,  0.59,\n",
       "        0.37,  0.28,  0.41,  0.46,  0.48,  1.5 ,  0.61,  0.19,  0.51,\n",
       "        1.47,  0.32,  0.31,  2.7 ,  8.86,  0.44,  0.47,  0.26,  1.12,\n",
       "        0.68,  1.8 ,  0.73,  0.16,  0.45,  1.99,  0.83,  0.96,  1.2 ,\n",
       "        0.62,  0.57,  0.63,  0.82,  4.05,  0.55,  1.63,  0.75,  0.66,\n",
       "        1.56,  2.5 ,  0.65,  6.  ,  0.81,  0.54,  0.38,  0.67,  1.4 ,\n",
       "        0.91,  1.37,  0.87,  1.6 ,  1.1 ,  1.34,  0.98,  1.85,  1.7 ,\n",
       "        0.58,  0.79,  1.14,  0.86,  4.2 ,  0.78,  7.86,  0.52,  4.7 ,\n",
       "        5.04,  2.  ,  1.65,  0.94,  0.95,  2.3 ,  0.97,  1.02,  0.72,\n",
       "        0.85,  8.8 ,  6.39,  0.88,  9.9 ,  3.3 ,  0.64,  5.9 ,  5.  ,\n",
       "       10.  ,  1.78,  1.07,  1.15,  1.39,  7.3 ,  3.17,  7.2 ,  1.16,\n",
       "        7.  ,  5.5 ,  3.6 ,  1.41,  0.89,  9.1 ,  0.76,  3.02,  3.05,\n",
       "        3.2 ,  2.41,  3.1 ,  3.32,  0.99,  5.4 ,  7.5 ,  0.77,  8.6 ,\n",
       "        5.3 ,  1.05,  1.18,  5.83,  2.1 ,  1.57,  1.54,  6.66,  1.01,\n",
       "        1.52,  1.62,  1.24,  5.58,  3.7 ,  1.19,  1.29,  1.35,  8.68,\n",
       "        6.7 ,  4.3 ,  9.97,  1.46,  3.5 ,  6.4 ,  2.8 ,  2.2 ,  1.53,\n",
       "        1.49,  1.9 ,  4.99,  2.9 ,  1.08,  3.62,  4.95,  1.31,  2.6 ,\n",
       "        2.92,  4.4 ,  1.17,  2.4 ,  1.27,  1.55,  2.06,  5.68,  1.83,\n",
       "        4.5 ,  1.13,  1.04,  2.32,  1.45,  2.85,  2.54,  2.88,  5.2 ,\n",
       "        1.09,  4.51,  2.29,  9.5 ,  8.5 ,  1.32,  7.6 ,  8.1 ,  9.6 ,\n",
       "        3.9 ,  5.8 ,  2.33,  3.63,  3.  ,  1.43,  8.4 ,  1.26,  9.2 ,\n",
       "        2.61,  3.4 ,  7.7 ,  3.8 ,  6.1 ,  7.4 ,  3.22,  1.48,  4.1 ,\n",
       "        1.98,  5.1 ,  4.07,  1.86,  1.88,  1.84,  6.62,  1.79,  1.68,\n",
       "        9.7 ,  4.6 ,  1.23,  3.51,  4.  ])"
      ]
     },
     "execution_count": 195,
     "metadata": {},
     "output_type": "execute_result"
    }
   ],
   "source": [
    "df.iloc[:, 39].unique()"
   ]
  },
  {
   "attachments": {},
   "cell_type": "markdown",
   "metadata": {},
   "source": [
    "## 40\\. 무부하매연허용치4"
   ]
  },
  {
   "cell_type": "code",
   "execution_count": 151,
   "metadata": {},
   "outputs": [
    {
     "data": {
      "text/plain": [
       "0   NaN\n",
       "1   NaN\n",
       "2   NaN\n",
       "3   NaN\n",
       "4   NaN\n",
       "Name: 무부하매연허용치4, dtype: float64"
      ]
     },
     "execution_count": 151,
     "metadata": {},
     "output_type": "execute_result"
    }
   ],
   "source": [
    "df.iloc[:5, 40]"
   ]
  },
  {
   "cell_type": "code",
   "execution_count": 196,
   "metadata": {},
   "outputs": [
    {
     "data": {
      "text/plain": [
       "array([nan, 1. , 1.2, 2.5, 4.5, 0. ])"
      ]
     },
     "execution_count": 196,
     "metadata": {},
     "output_type": "execute_result"
    }
   ],
   "source": [
    "df.iloc[:, 40].unique()"
   ]
  },
  {
   "attachments": {},
   "cell_type": "markdown",
   "metadata": {},
   "source": [
    "## 41\\. 무부하매연판정4"
   ]
  },
  {
   "cell_type": "code",
   "execution_count": 153,
   "metadata": {},
   "outputs": [
    {
     "data": {
      "text/plain": [
       "0    NaN\n",
       "1    NaN\n",
       "2    NaN\n",
       "3    NaN\n",
       "4    NaN\n",
       "Name: 무부하매연판정4, dtype: object"
      ]
     },
     "execution_count": 153,
     "metadata": {},
     "output_type": "execute_result"
    }
   ],
   "source": [
    "df.iloc[:5, 41]"
   ]
  },
  {
   "cell_type": "code",
   "execution_count": 197,
   "metadata": {},
   "outputs": [
    {
     "data": {
      "text/plain": [
       "array([nan, 'Y', 'N'], dtype=object)"
      ]
     },
     "execution_count": 197,
     "metadata": {},
     "output_type": "execute_result"
    }
   ],
   "source": [
    "df.iloc[:, 41].unique()"
   ]
  },
  {
   "attachments": {},
   "cell_type": "markdown",
   "metadata": {},
   "source": [
    "## 42\\. 무부하매연측정치5"
   ]
  },
  {
   "cell_type": "code",
   "execution_count": 155,
   "metadata": {},
   "outputs": [
    {
     "data": {
      "text/plain": [
       "0   NaN\n",
       "1   NaN\n",
       "2   NaN\n",
       "3   NaN\n",
       "4   NaN\n",
       "Name: 무부하매연측정치5, dtype: float64"
      ]
     },
     "execution_count": 155,
     "metadata": {},
     "output_type": "execute_result"
    }
   ],
   "source": [
    "df.iloc[:5, 42]"
   ]
  },
  {
   "cell_type": "code",
   "execution_count": 198,
   "metadata": {},
   "outputs": [
    {
     "data": {
      "text/plain": [
       "array([      nan, 5.000e+00, 0.000e+00, 3.000e+00, 1.000e+00, 7.000e+00,\n",
       "       2.300e+01, 2.200e+01, 2.900e+01, 2.000e+00, 6.000e+00, 3.100e+01,\n",
       "       5.830e+02, 3.500e+01, 1.200e+01, 5.300e+01, 9.000e+00, 2.130e+02,\n",
       "       1.000e+01, 1.900e+01, 4.000e+00, 2.100e+01, 2.400e+01, 6.100e+01,\n",
       "       1.700e+01, 1.400e+01, 1.100e+01, 5.600e+01, 4.000e+01, 1.500e+01,\n",
       "       3.400e+01, 5.900e+01, 6.500e+01, 4.300e+01, 2.600e+01, 1.180e+02,\n",
       "       8.000e+00, 1.800e+01, 4.100e+01, 2.000e+01, 1.190e+02, 1.300e+01,\n",
       "       6.600e+01, 1.600e+01, 3.000e+01, 7.900e+01, 1.070e+02, 1.100e+02,\n",
       "       1.340e+02, 5.100e+01, 4.400e+01, 9.600e+01, 3.700e+01, 1.020e+02,\n",
       "       6.400e+01, 3.600e+01, 3.300e+01, 8.100e+01, 1.770e+02, 1.260e+02,\n",
       "       2.500e+01, 5.400e+01, 8.600e+01, 4.900e+01, 7.000e+01, 6.700e+01,\n",
       "       5.800e+01, 4.600e+01, 3.800e+01, 6.200e+01, 6.300e+01, 2.700e+01,\n",
       "       7.100e+01, 1.000e+02, 3.900e+01, 1.860e+02, 7.700e+01, 6.000e+01,\n",
       "       6.800e+01, 1.440e+02, 1.834e+03, 7.500e+01, 1.270e+02, 9.000e+01,\n",
       "       9.100e+01, 2.800e+01, 3.200e+01, 7.800e+01, 9.300e+01, 1.140e+02,\n",
       "       4.700e+01, 2.790e+02, 1.080e+02, 4.800e+01, 1.490e+02, 1.040e+02,\n",
       "       9.700e+01, 8.500e+01, 1.700e+02, 4.200e+01, 1.280e+02, 1.990e+02,\n",
       "       9.200e+01, 7.600e+01, 5.200e+01, 8.000e+01, 5.500e+01, 1.170e+02,\n",
       "       1.150e+02, 1.200e+02, 1.460e+02, 1.130e+02, 5.000e+01, 1.120e+02,\n",
       "       7.200e+01, 6.900e+01, 1.060e+02, 8.800e+01, 2.610e+02, 4.500e+01,\n",
       "       7.300e+01, 8.200e+01, 1.160e+02, 2.520e+02, 1.430e+02, 2.020e+02,\n",
       "       1.220e+02, 8.400e+01, 9.400e+01, 2.220e+02, 3.770e+02, 1.630e+02,\n",
       "       1.210e+02, 1.090e+02, 5.700e+01, 2.150e+02, 1.650e+02, 8.300e+01,\n",
       "       1.780e+02, 2.620e+02, 8.900e+01, 1.290e+02, 1.390e+02, 2.270e+02,\n",
       "       1.330e+02, 1.110e+02, 8.700e+01, 5.770e+02, 1.890e+02, 1.580e+02,\n",
       "       1.010e+02, 2.170e+02, 2.010e+02, 1.570e+02, 1.030e+02, 4.650e+02,\n",
       "       5.820e+02, 1.590e+02, 1.520e+02, 1.540e+02, 1.050e+02, 1.310e+02,\n",
       "       1.810e+02, 9.500e+01, 7.400e+01, 2.860e+02, 1.950e+02, 2.670e+02,\n",
       "       2.930e+02, 2.050e+02, 2.110e+02, 2.550e+02, 3.010e+02, 1.720e+02,\n",
       "       2.040e+02, 1.930e+02, 1.350e+02, 3.201e+03, 1.250e+02, 1.360e+02,\n",
       "       1.710e+02, 9.900e+01, 1.900e+02, 6.230e+02, 8.180e+02, 1.830e+02,\n",
       "       1.530e+02, 9.800e+01, 2.120e+02, 2.070e+02, 4.440e+02, 5.450e+02,\n",
       "       2.080e+02, 1.230e+02, 1.320e+02, 4.070e+02, 4.820e+02, 1.808e+03,\n",
       "       1.420e+02, 2.480e+02, 1.400e+02, 1.850e+02, 4.690e+02, 2.420e+02,\n",
       "       6.140e+02, 7.140e+02, 1.840e+02, 1.730e+02, 1.880e+02, 5.920e+02,\n",
       "       2.540e+02, 1.240e+02, 2.300e+02, 1.715e+03, 4.610e+02, 1.300e+02,\n",
       "       1.620e+02, 2.700e+02, 1.610e+02, 1.480e+02, 3.310e+03, 3.620e+02,\n",
       "       3.020e+02, 2.340e+02, 5.320e+02, 7.560e+02, 2.060e+02, 2.190e+02,\n",
       "       1.870e+02, 2.180e+02, 2.140e+02, 2.260e+02, 2.100e+02, 3.220e+02,\n",
       "       2.160e+02, 1.146e+03, 2.000e+02, 2.200e+02, 2.090e+02, 6.200e+02,\n",
       "       6.660e+02, 3.690e+02, 5.230e+02, 2.800e+02, 1.690e+02, 1.102e+03,\n",
       "       1.600e+02, 1.410e+02, 3.650e+02, 1.760e+02, 3.928e+03, 5.060e+02,\n",
       "       1.640e+02, 6.270e+02, 1.560e+02, 1.940e+02, 1.500e+02, 2.490e+02,\n",
       "       4.480e+02, 5.700e+02, 1.510e+02, 1.660e+02, 2.970e+02, 3.250e+02,\n",
       "       7.830e+02, 1.960e+02, 1.380e+02, 2.440e+02, 3.260e+02, 1.550e+02,\n",
       "       1.970e+02, 6.470e+02, 2.630e+02, 1.800e+02, 2.380e+02, 1.470e+02,\n",
       "       2.470e+02, 3.810e+02, 2.230e+02, 2.210e+02, 3.130e+02, 5.740e+02,\n",
       "       2.940e+02, 2.760e+02, 2.030e+02, 1.750e+02, 1.370e+02, 1.740e+02,\n",
       "       2.500e+02, 2.686e+03, 2.920e+02, 3.990e+02, 1.670e+02, 1.790e+02,\n",
       "       1.820e+02, 3.160e+02, 1.053e+03, 1.680e+02, 3.080e+02, 3.360e+02,\n",
       "       2.250e+02, 3.640e+02, 4.750e+02, 2.370e+02, 5.810e+02, 2.850e+02,\n",
       "       1.192e+03, 4.590e+02, 3.940e+02, 1.022e+03, 2.280e+02, 1.980e+02,\n",
       "       1.910e+02, 3.580e+02, 8.230e+02, 3.860e+02, 4.500e+02, 2.350e+02,\n",
       "       2.560e+02, 8.430e+02, 3.890e+02, 2.320e+02, 3.490e+02, 2.530e+02,\n",
       "       4.050e+02, 3.460e+02, 5.310e+02, 2.310e+02, 1.450e+02, 2.990e+02,\n",
       "       2.460e+02, 8.000e+02, 4.450e+02, 2.960e+02, 1.658e+03, 3.530e+02,\n",
       "       3.290e+02, 5.140e+02, 2.980e+02, 2.400e+02, 3.870e+02, 5.690e+02,\n",
       "       1.920e+02, 2.900e+02, 2.510e+02, 5.800e+02, 3.440e+02, 1.071e+03,\n",
       "       2.411e+03, 3.700e+02, 1.418e+03, 4.560e+02, 5.980e+02, 3.190e+02,\n",
       "       3.900e+02, 1.073e+03, 3.100e+02, 2.810e+02, 4.430e+02, 2.600e+02,\n",
       "       4.200e+02, 2.410e+02, 4.170e+02, 2.590e+02, 4.810e+02, 2.750e+02,\n",
       "       4.130e+02, 2.690e+02, 3.510e+02, 4.520e+02, 8.020e+02, 3.070e+02,\n",
       "       4.000e+02, 2.430e+02, 7.430e+02, 5.540e+02, 3.170e+02, 1.867e+03,\n",
       "       2.290e+02, 6.350e+02, 3.830e+02, 8.030e+02, 5.300e+02, 2.950e+02,\n",
       "       7.950e+02, 4.090e+02, 7.730e+02, 3.200e+02, 2.390e+02, 8.550e+02,\n",
       "       2.360e+02, 9.999e+03, 2.820e+02, 5.090e+02, 3.710e+02, 5.470e+02,\n",
       "       7.460e+02, 8.870e+02, 3.390e+02, 3.280e+02, 4.300e+02, 7.400e+02,\n",
       "       3.120e+02, 3.210e+02, 8.350e+02, 3.920e+02, 2.680e+02, 1.076e+03,\n",
       "       3.930e+02, 3.380e+02, 2.757e+03, 3.480e+02, 4.570e+02, 2.910e+02,\n",
       "       2.240e+02, 2.710e+02, 4.240e+02, 2.570e+02, 5.790e+02, 3.470e+02,\n",
       "       3.500e+02, 3.180e+02, 4.710e+02, 5.840e+02, 5.590e+02, 6.510e+02,\n",
       "       4.870e+02, 4.150e+02, 8.980e+02, 3.790e+02, 4.850e+02, 1.065e+03,\n",
       "       6.080e+02, 5.850e+02, 3.630e+02, 4.210e+02, 2.880e+02, 2.330e+02,\n",
       "       3.090e+02, 5.650e+02, 4.620e+02, 1.400e+03, 2.660e+02, 2.830e+02,\n",
       "       1.004e+03, 7.180e+02, 4.350e+02, 7.940e+02, 3.560e+02, 5.610e+02,\n",
       "       4.190e+02, 2.354e+03, 3.150e+02, 7.702e+03, 3.520e+02])"
      ]
     },
     "execution_count": 198,
     "metadata": {},
     "output_type": "execute_result"
    }
   ],
   "source": [
    "df.iloc[:, 42].unique()"
   ]
  },
  {
   "attachments": {},
   "cell_type": "markdown",
   "metadata": {},
   "source": [
    "## 43\\. 무부하매연허용치5"
   ]
  },
  {
   "cell_type": "code",
   "execution_count": 157,
   "metadata": {},
   "outputs": [
    {
     "data": {
      "text/plain": [
       "0   NaN\n",
       "1   NaN\n",
       "2   NaN\n",
       "3   NaN\n",
       "4   NaN\n",
       "Name: 무부하매연측정치5, dtype: float64"
      ]
     },
     "execution_count": 157,
     "metadata": {},
     "output_type": "execute_result"
    }
   ],
   "source": [
    "df.iloc[:5, 42]"
   ]
  },
  {
   "cell_type": "code",
   "execution_count": 199,
   "metadata": {},
   "outputs": [
    {
     "data": {
      "text/plain": [
       "array([      nan, 5.000e+00, 0.000e+00, 3.000e+00, 1.000e+00, 7.000e+00,\n",
       "       2.300e+01, 2.200e+01, 2.900e+01, 2.000e+00, 6.000e+00, 3.100e+01,\n",
       "       5.830e+02, 3.500e+01, 1.200e+01, 5.300e+01, 9.000e+00, 2.130e+02,\n",
       "       1.000e+01, 1.900e+01, 4.000e+00, 2.100e+01, 2.400e+01, 6.100e+01,\n",
       "       1.700e+01, 1.400e+01, 1.100e+01, 5.600e+01, 4.000e+01, 1.500e+01,\n",
       "       3.400e+01, 5.900e+01, 6.500e+01, 4.300e+01, 2.600e+01, 1.180e+02,\n",
       "       8.000e+00, 1.800e+01, 4.100e+01, 2.000e+01, 1.190e+02, 1.300e+01,\n",
       "       6.600e+01, 1.600e+01, 3.000e+01, 7.900e+01, 1.070e+02, 1.100e+02,\n",
       "       1.340e+02, 5.100e+01, 4.400e+01, 9.600e+01, 3.700e+01, 1.020e+02,\n",
       "       6.400e+01, 3.600e+01, 3.300e+01, 8.100e+01, 1.770e+02, 1.260e+02,\n",
       "       2.500e+01, 5.400e+01, 8.600e+01, 4.900e+01, 7.000e+01, 6.700e+01,\n",
       "       5.800e+01, 4.600e+01, 3.800e+01, 6.200e+01, 6.300e+01, 2.700e+01,\n",
       "       7.100e+01, 1.000e+02, 3.900e+01, 1.860e+02, 7.700e+01, 6.000e+01,\n",
       "       6.800e+01, 1.440e+02, 1.834e+03, 7.500e+01, 1.270e+02, 9.000e+01,\n",
       "       9.100e+01, 2.800e+01, 3.200e+01, 7.800e+01, 9.300e+01, 1.140e+02,\n",
       "       4.700e+01, 2.790e+02, 1.080e+02, 4.800e+01, 1.490e+02, 1.040e+02,\n",
       "       9.700e+01, 8.500e+01, 1.700e+02, 4.200e+01, 1.280e+02, 1.990e+02,\n",
       "       9.200e+01, 7.600e+01, 5.200e+01, 8.000e+01, 5.500e+01, 1.170e+02,\n",
       "       1.150e+02, 1.200e+02, 1.460e+02, 1.130e+02, 5.000e+01, 1.120e+02,\n",
       "       7.200e+01, 6.900e+01, 1.060e+02, 8.800e+01, 2.610e+02, 4.500e+01,\n",
       "       7.300e+01, 8.200e+01, 1.160e+02, 2.520e+02, 1.430e+02, 2.020e+02,\n",
       "       1.220e+02, 8.400e+01, 9.400e+01, 2.220e+02, 3.770e+02, 1.630e+02,\n",
       "       1.210e+02, 1.090e+02, 5.700e+01, 2.150e+02, 1.650e+02, 8.300e+01,\n",
       "       1.780e+02, 2.620e+02, 8.900e+01, 1.290e+02, 1.390e+02, 2.270e+02,\n",
       "       1.330e+02, 1.110e+02, 8.700e+01, 5.770e+02, 1.890e+02, 1.580e+02,\n",
       "       1.010e+02, 2.170e+02, 2.010e+02, 1.570e+02, 1.030e+02, 4.650e+02,\n",
       "       5.820e+02, 1.590e+02, 1.520e+02, 1.540e+02, 1.050e+02, 1.310e+02,\n",
       "       1.810e+02, 9.500e+01, 7.400e+01, 2.860e+02, 1.950e+02, 2.670e+02,\n",
       "       2.930e+02, 2.050e+02, 2.110e+02, 2.550e+02, 3.010e+02, 1.720e+02,\n",
       "       2.040e+02, 1.930e+02, 1.350e+02, 3.201e+03, 1.250e+02, 1.360e+02,\n",
       "       1.710e+02, 9.900e+01, 1.900e+02, 6.230e+02, 8.180e+02, 1.830e+02,\n",
       "       1.530e+02, 9.800e+01, 2.120e+02, 2.070e+02, 4.440e+02, 5.450e+02,\n",
       "       2.080e+02, 1.230e+02, 1.320e+02, 4.070e+02, 4.820e+02, 1.808e+03,\n",
       "       1.420e+02, 2.480e+02, 1.400e+02, 1.850e+02, 4.690e+02, 2.420e+02,\n",
       "       6.140e+02, 7.140e+02, 1.840e+02, 1.730e+02, 1.880e+02, 5.920e+02,\n",
       "       2.540e+02, 1.240e+02, 2.300e+02, 1.715e+03, 4.610e+02, 1.300e+02,\n",
       "       1.620e+02, 2.700e+02, 1.610e+02, 1.480e+02, 3.310e+03, 3.620e+02,\n",
       "       3.020e+02, 2.340e+02, 5.320e+02, 7.560e+02, 2.060e+02, 2.190e+02,\n",
       "       1.870e+02, 2.180e+02, 2.140e+02, 2.260e+02, 2.100e+02, 3.220e+02,\n",
       "       2.160e+02, 1.146e+03, 2.000e+02, 2.200e+02, 2.090e+02, 6.200e+02,\n",
       "       6.660e+02, 3.690e+02, 5.230e+02, 2.800e+02, 1.690e+02, 1.102e+03,\n",
       "       1.600e+02, 1.410e+02, 3.650e+02, 1.760e+02, 3.928e+03, 5.060e+02,\n",
       "       1.640e+02, 6.270e+02, 1.560e+02, 1.940e+02, 1.500e+02, 2.490e+02,\n",
       "       4.480e+02, 5.700e+02, 1.510e+02, 1.660e+02, 2.970e+02, 3.250e+02,\n",
       "       7.830e+02, 1.960e+02, 1.380e+02, 2.440e+02, 3.260e+02, 1.550e+02,\n",
       "       1.970e+02, 6.470e+02, 2.630e+02, 1.800e+02, 2.380e+02, 1.470e+02,\n",
       "       2.470e+02, 3.810e+02, 2.230e+02, 2.210e+02, 3.130e+02, 5.740e+02,\n",
       "       2.940e+02, 2.760e+02, 2.030e+02, 1.750e+02, 1.370e+02, 1.740e+02,\n",
       "       2.500e+02, 2.686e+03, 2.920e+02, 3.990e+02, 1.670e+02, 1.790e+02,\n",
       "       1.820e+02, 3.160e+02, 1.053e+03, 1.680e+02, 3.080e+02, 3.360e+02,\n",
       "       2.250e+02, 3.640e+02, 4.750e+02, 2.370e+02, 5.810e+02, 2.850e+02,\n",
       "       1.192e+03, 4.590e+02, 3.940e+02, 1.022e+03, 2.280e+02, 1.980e+02,\n",
       "       1.910e+02, 3.580e+02, 8.230e+02, 3.860e+02, 4.500e+02, 2.350e+02,\n",
       "       2.560e+02, 8.430e+02, 3.890e+02, 2.320e+02, 3.490e+02, 2.530e+02,\n",
       "       4.050e+02, 3.460e+02, 5.310e+02, 2.310e+02, 1.450e+02, 2.990e+02,\n",
       "       2.460e+02, 8.000e+02, 4.450e+02, 2.960e+02, 1.658e+03, 3.530e+02,\n",
       "       3.290e+02, 5.140e+02, 2.980e+02, 2.400e+02, 3.870e+02, 5.690e+02,\n",
       "       1.920e+02, 2.900e+02, 2.510e+02, 5.800e+02, 3.440e+02, 1.071e+03,\n",
       "       2.411e+03, 3.700e+02, 1.418e+03, 4.560e+02, 5.980e+02, 3.190e+02,\n",
       "       3.900e+02, 1.073e+03, 3.100e+02, 2.810e+02, 4.430e+02, 2.600e+02,\n",
       "       4.200e+02, 2.410e+02, 4.170e+02, 2.590e+02, 4.810e+02, 2.750e+02,\n",
       "       4.130e+02, 2.690e+02, 3.510e+02, 4.520e+02, 8.020e+02, 3.070e+02,\n",
       "       4.000e+02, 2.430e+02, 7.430e+02, 5.540e+02, 3.170e+02, 1.867e+03,\n",
       "       2.290e+02, 6.350e+02, 3.830e+02, 8.030e+02, 5.300e+02, 2.950e+02,\n",
       "       7.950e+02, 4.090e+02, 7.730e+02, 3.200e+02, 2.390e+02, 8.550e+02,\n",
       "       2.360e+02, 9.999e+03, 2.820e+02, 5.090e+02, 3.710e+02, 5.470e+02,\n",
       "       7.460e+02, 8.870e+02, 3.390e+02, 3.280e+02, 4.300e+02, 7.400e+02,\n",
       "       3.120e+02, 3.210e+02, 8.350e+02, 3.920e+02, 2.680e+02, 1.076e+03,\n",
       "       3.930e+02, 3.380e+02, 2.757e+03, 3.480e+02, 4.570e+02, 2.910e+02,\n",
       "       2.240e+02, 2.710e+02, 4.240e+02, 2.570e+02, 5.790e+02, 3.470e+02,\n",
       "       3.500e+02, 3.180e+02, 4.710e+02, 5.840e+02, 5.590e+02, 6.510e+02,\n",
       "       4.870e+02, 4.150e+02, 8.980e+02, 3.790e+02, 4.850e+02, 1.065e+03,\n",
       "       6.080e+02, 5.850e+02, 3.630e+02, 4.210e+02, 2.880e+02, 2.330e+02,\n",
       "       3.090e+02, 5.650e+02, 4.620e+02, 1.400e+03, 2.660e+02, 2.830e+02,\n",
       "       1.004e+03, 7.180e+02, 4.350e+02, 7.940e+02, 3.560e+02, 5.610e+02,\n",
       "       4.190e+02, 2.354e+03, 3.150e+02, 7.702e+03, 3.520e+02])"
      ]
     },
     "execution_count": 199,
     "metadata": {},
     "output_type": "execute_result"
    }
   ],
   "source": [
    "df.iloc[:, 42].unique()"
   ]
  },
  {
   "attachments": {},
   "cell_type": "markdown",
   "metadata": {},
   "source": [
    "## 44\\. 무부하매연판정5"
   ]
  },
  {
   "cell_type": "code",
   "execution_count": 159,
   "metadata": {},
   "outputs": [
    {
     "data": {
      "text/plain": [
       "0    NaN\n",
       "1    NaN\n",
       "2    NaN\n",
       "3    NaN\n",
       "4    NaN\n",
       "Name: 무부하매연판정5, dtype: object"
      ]
     },
     "execution_count": 159,
     "metadata": {},
     "output_type": "execute_result"
    }
   ],
   "source": [
    "df.iloc[:5, 44]"
   ]
  },
  {
   "cell_type": "code",
   "execution_count": 200,
   "metadata": {},
   "outputs": [
    {
     "data": {
      "text/plain": [
       "array([nan, 'Y', 'N'], dtype=object)"
      ]
     },
     "execution_count": 200,
     "metadata": {},
     "output_type": "execute_result"
    }
   ],
   "source": [
    "df.iloc[:, 44].unique()"
   ]
  },
  {
   "attachments": {},
   "cell_type": "markdown",
   "metadata": {},
   "source": [
    "## 45\\. 무부하매연측정치6"
   ]
  },
  {
   "cell_type": "code",
   "execution_count": 161,
   "metadata": {},
   "outputs": [
    {
     "data": {
      "text/plain": [
       "0   NaN\n",
       "1   NaN\n",
       "2   NaN\n",
       "3   NaN\n",
       "4   NaN\n",
       "Name: 무부하매연측정치6, dtype: float64"
      ]
     },
     "execution_count": 161,
     "metadata": {},
     "output_type": "execute_result"
    }
   ],
   "source": [
    "df.iloc[:5, 45]"
   ]
  },
  {
   "cell_type": "code",
   "execution_count": 201,
   "metadata": {},
   "outputs": [
    {
     "data": {
      "text/plain": [
       "array([ nan, 0.99, 1.  , 1.01, 1.03, 1.02, 0.79, 1.05, 1.07, 0.98, 1.1 ,\n",
       "       1.04, 1.06, 0.95, 1.08, 0.97, 0.91, 0.9 , 1.09, 0.96, 0.92, 1.52,\n",
       "       1.17, 1.18, 0.94, 1.12, 0.83, 1.31, 1.11, 0.93, 1.64, 1.15, 2.49,\n",
       "       0.8 , 1.19, 1.16, 2.5 , 1.36, 1.14, 1.29, 1.8 , 0.5 , 1.25, 1.2 ,\n",
       "       1.53, 0.88, 2.44, 1.13, 0.74, 0.89, 0.86, 1.32, 0.75, 1.23, 0.76,\n",
       "       0.81, 0.68, 0.82, 1.22, 0.69, 2.03, 1.4 , 0.7 , 1.26, 0.84, 1.97,\n",
       "       1.99, 1.67, 1.87, 1.69, 0.78, 1.28, 1.6 , 1.3 , 1.46, 1.43, 1.45,\n",
       "       1.21, 1.33, 0.52, 0.72, 1.62, 1.35, 2.07, 0.85, 1.41, 1.56, 1.68,\n",
       "       1.95, 1.65, 0.73, 1.24, 0.57, 2.62, 3.  , 0.87, 1.27, 0.77, 2.53,\n",
       "       1.51, 1.34, 1.93, 1.37, 1.42, 1.38, 2.99, 2.  , 1.54, 1.39, 0.63,\n",
       "       2.59, 2.08, 2.36, 2.15])"
      ]
     },
     "execution_count": 201,
     "metadata": {},
     "output_type": "execute_result"
    }
   ],
   "source": [
    "df.iloc[:, 45].unique()"
   ]
  },
  {
   "attachments": {},
   "cell_type": "markdown",
   "metadata": {},
   "source": [
    "## 46\\. 무부하매연허용치6"
   ]
  },
  {
   "cell_type": "code",
   "execution_count": 163,
   "metadata": {},
   "outputs": [
    {
     "data": {
      "text/plain": [
       "0   NaN\n",
       "1   NaN\n",
       "2   NaN\n",
       "3   NaN\n",
       "4   NaN\n",
       "Name: 무부하매연허용치6, dtype: float64"
      ]
     },
     "execution_count": 163,
     "metadata": {},
     "output_type": "execute_result"
    }
   ],
   "source": [
    "df.iloc[:5, 46]"
   ]
  },
  {
   "cell_type": "code",
   "execution_count": 202,
   "metadata": {},
   "outputs": [
    {
     "data": {
      "text/plain": [
       "array([ nan, 0.1 , 0.15, 0.2 , 0.  ])"
      ]
     },
     "execution_count": 202,
     "metadata": {},
     "output_type": "execute_result"
    }
   ],
   "source": [
    "df.iloc[:, 46].unique()"
   ]
  },
  {
   "attachments": {},
   "cell_type": "markdown",
   "metadata": {},
   "source": [
    "## 47\\. 무부하매연판정6"
   ]
  },
  {
   "cell_type": "code",
   "execution_count": 165,
   "metadata": {},
   "outputs": [
    {
     "data": {
      "text/plain": [
       "0    NaN\n",
       "1    NaN\n",
       "2    NaN\n",
       "3    NaN\n",
       "4    NaN\n",
       "Name: 무부하매연판정6, dtype: object"
      ]
     },
     "execution_count": 165,
     "metadata": {},
     "output_type": "execute_result"
    }
   ],
   "source": [
    "df.iloc[:5, 47]"
   ]
  },
  {
   "cell_type": "code",
   "execution_count": 203,
   "metadata": {},
   "outputs": [
    {
     "data": {
      "text/plain": [
       "array([nan, 'Y', 'N'], dtype=object)"
      ]
     },
     "execution_count": 203,
     "metadata": {},
     "output_type": "execute_result"
    }
   ],
   "source": [
    "df.iloc[:, 47].unique()"
   ]
  },
  {
   "attachments": {},
   "cell_type": "markdown",
   "metadata": {},
   "source": [
    "## 48\\. 이산화탄소값"
   ]
  },
  {
   "cell_type": "code",
   "execution_count": 167,
   "metadata": {},
   "outputs": [
    {
     "data": {
      "text/plain": [
       "0   NaN\n",
       "1   NaN\n",
       "2   NaN\n",
       "3   NaN\n",
       "4   NaN\n",
       "Name: 이산화탄소값, dtype: float64"
      ]
     },
     "execution_count": 167,
     "metadata": {},
     "output_type": "execute_result"
    }
   ],
   "source": [
    "df.iloc[:5, 48]"
   ]
  },
  {
   "cell_type": "code",
   "execution_count": 204,
   "metadata": {},
   "outputs": [
    {
     "data": {
      "text/plain": [
       "array([  nan, 14.2 , 11.8 , ...,  0.73,  4.86,  6.55])"
      ]
     },
     "execution_count": 204,
     "metadata": {},
     "output_type": "execute_result"
    }
   ],
   "source": [
    "df.iloc[:, 48].unique()"
   ]
  },
  {
   "attachments": {},
   "cell_type": "markdown",
   "metadata": {},
   "source": [
    "## 49\\. 최대출력허용치"
   ]
  },
  {
   "cell_type": "code",
   "execution_count": 169,
   "metadata": {},
   "outputs": [
    {
     "data": {
      "text/plain": [
       "0   NaN\n",
       "1   NaN\n",
       "2   NaN\n",
       "3   NaN\n",
       "4   NaN\n",
       "Name: 최대출력허용치, dtype: float64"
      ]
     },
     "execution_count": 169,
     "metadata": {},
     "output_type": "execute_result"
    }
   ],
   "source": [
    "df.iloc[:5, 49]"
   ]
  },
  {
   "cell_type": "code",
   "execution_count": 205,
   "metadata": {},
   "outputs": [
    {
     "data": {
      "text/plain": [
       "array([nan])"
      ]
     },
     "execution_count": 205,
     "metadata": {},
     "output_type": "execute_result"
    }
   ],
   "source": [
    "df.iloc[:, 49].unique()"
   ]
  },
  {
   "attachments": {},
   "cell_type": "markdown",
   "metadata": {},
   "source": [
    "## 50\\. 최대출력측정값"
   ]
  },
  {
   "cell_type": "code",
   "execution_count": 171,
   "metadata": {},
   "outputs": [
    {
     "data": {
      "text/plain": [
       "0   NaN\n",
       "1   NaN\n",
       "2   NaN\n",
       "3   NaN\n",
       "4   NaN\n",
       "Name: 최대출력측정값, dtype: float64"
      ]
     },
     "execution_count": 171,
     "metadata": {},
     "output_type": "execute_result"
    }
   ],
   "source": [
    "df.iloc[:5, 50]"
   ]
  },
  {
   "cell_type": "code",
   "execution_count": 206,
   "metadata": {},
   "outputs": [
    {
     "data": {
      "text/plain": [
       "array([nan])"
      ]
     },
     "execution_count": 206,
     "metadata": {},
     "output_type": "execute_result"
    }
   ],
   "source": [
    "df.iloc[:, 50].unique()"
   ]
  },
  {
   "attachments": {},
   "cell_type": "markdown",
   "metadata": {},
   "source": [
    "## 51\\. 산소값"
   ]
  },
  {
   "cell_type": "code",
   "execution_count": 173,
   "metadata": {},
   "outputs": [
    {
     "data": {
      "text/plain": [
       "0   NaN\n",
       "1   NaN\n",
       "2   NaN\n",
       "3   NaN\n",
       "4   NaN\n",
       "Name: 산소값, dtype: float64"
      ]
     },
     "execution_count": 173,
     "metadata": {},
     "output_type": "execute_result"
    }
   ],
   "source": [
    "df.iloc[:5, 51]"
   ]
  },
  {
   "cell_type": "code",
   "execution_count": 207,
   "metadata": {},
   "outputs": [
    {
     "data": {
      "text/plain": [
       "array([  nan,  0.2 ,  3.9 , ...,  3.51, 19.44, 18.84])"
      ]
     },
     "execution_count": 207,
     "metadata": {},
     "output_type": "execute_result"
    }
   ],
   "source": [
    "df.iloc[:, 51].unique()"
   ]
  },
  {
   "attachments": {},
   "cell_type": "markdown",
   "metadata": {},
   "source": [
    "## 52\\. 공기온도"
   ]
  },
  {
   "cell_type": "code",
   "execution_count": 175,
   "metadata": {},
   "outputs": [
    {
     "data": {
      "text/plain": [
       "0   NaN\n",
       "1   NaN\n",
       "2   NaN\n",
       "3   NaN\n",
       "4   NaN\n",
       "Name: 공기온도, dtype: float64"
      ]
     },
     "execution_count": 175,
     "metadata": {},
     "output_type": "execute_result"
    }
   ],
   "source": [
    "df.iloc[:5, 52]"
   ]
  },
  {
   "cell_type": "code",
   "execution_count": 208,
   "metadata": {},
   "outputs": [
    {
     "data": {
      "text/plain": [
       "array([nan])"
      ]
     },
     "execution_count": 208,
     "metadata": {},
     "output_type": "execute_result"
    }
   ],
   "source": [
    "df.iloc[:, 52].unique()"
   ]
  },
  {
   "attachments": {},
   "cell_type": "markdown",
   "metadata": {},
   "source": [
    "## 53\\. 공기압력"
   ]
  },
  {
   "cell_type": "code",
   "execution_count": 177,
   "metadata": {},
   "outputs": [
    {
     "data": {
      "text/plain": [
       "0   NaN\n",
       "1   NaN\n",
       "2   NaN\n",
       "3   NaN\n",
       "4   NaN\n",
       "Name: 공기압력, dtype: float64"
      ]
     },
     "execution_count": 177,
     "metadata": {},
     "output_type": "execute_result"
    }
   ],
   "source": [
    "df.iloc[:5, 53]"
   ]
  },
  {
   "cell_type": "code",
   "execution_count": 209,
   "metadata": {},
   "outputs": [
    {
     "data": {
      "text/plain": [
       "array([nan])"
      ]
     },
     "execution_count": 209,
     "metadata": {},
     "output_type": "execute_result"
    }
   ],
   "source": [
    "df.iloc[:, 53].unique()"
   ]
  },
  {
   "attachments": {},
   "cell_type": "markdown",
   "metadata": {},
   "source": [
    "## 54\\. 검사판정"
   ]
  },
  {
   "cell_type": "code",
   "execution_count": 179,
   "metadata": {},
   "outputs": [
    {
     "data": {
      "text/plain": [
       "0    Y\n",
       "1    Y\n",
       "2    Y\n",
       "3    N\n",
       "4    Y\n",
       "Name: 검사판정, dtype: object"
      ]
     },
     "execution_count": 179,
     "metadata": {},
     "output_type": "execute_result"
    }
   ],
   "source": [
    "df.iloc[:5, 54]"
   ]
  },
  {
   "cell_type": "code",
   "execution_count": 210,
   "metadata": {},
   "outputs": [
    {
     "data": {
      "text/plain": [
       "array(['Y', 'N'], dtype=object)"
      ]
     },
     "execution_count": 210,
     "metadata": {},
     "output_type": "execute_result"
    }
   ],
   "source": [
    "df.iloc[:, 54].unique()"
   ]
  },
  {
   "attachments": {},
   "cell_type": "markdown",
   "metadata": {},
   "source": [
    "## 55\\. 재검사기간"
   ]
  },
  {
   "cell_type": "code",
   "execution_count": 148,
   "metadata": {},
   "outputs": [
    {
     "data": {
      "text/plain": [
       "0    20220630~20220805\n",
       "1    20220630~20220715\n",
       "2    20220630~20220821\n",
       "3    20220630~20220807\n",
       "4    20220630~20220826\n",
       "Name: 재검사기간, dtype: object"
      ]
     },
     "execution_count": 148,
     "metadata": {},
     "output_type": "execute_result"
    }
   ],
   "source": [
    "df.iloc[:5, 55]"
   ]
  },
  {
   "attachments": {},
   "cell_type": "markdown",
   "metadata": {},
   "source": [
    "## 56\\. 검사후 갱신유효기간"
   ]
  },
  {
   "cell_type": "code",
   "execution_count": 149,
   "metadata": {},
   "outputs": [
    {
     "data": {
      "text/plain": [
       "0    20220626~20230625\n",
       "1    20220605~20221204\n",
       "2    20220712~20240711\n",
       "3    20220628~20221227\n",
       "4    20220717~20230716\n",
       "Name: 검사후 갱신유효기간, dtype: object"
      ]
     },
     "execution_count": 149,
     "metadata": {},
     "output_type": "execute_result"
    }
   ],
   "source": [
    "df.iloc[:5, 56]"
   ]
  },
  {
   "attachments": {},
   "cell_type": "markdown",
   "metadata": {},
   "source": [
    "## 57\\. 관능검사원"
   ]
  },
  {
   "cell_type": "code",
   "execution_count": 150,
   "metadata": {},
   "outputs": [
    {
     "data": {
      "text/plain": [
       "0    최지훈\n",
       "1    김영수\n",
       "2    허진우\n",
       "3    정광영\n",
       "4    김경호\n",
       "Name: 관능검사원, dtype: object"
      ]
     },
     "execution_count": 150,
     "metadata": {},
     "output_type": "execute_result"
    }
   ],
   "source": [
    "df.iloc[:5, 57]"
   ]
  },
  {
   "attachments": {},
   "cell_type": "markdown",
   "metadata": {},
   "source": [
    "## 58\\. 배출가스검사원"
   ]
  },
  {
   "cell_type": "code",
   "execution_count": 151,
   "metadata": {},
   "outputs": [
    {
     "data": {
      "text/plain": [
       "0    장정우\n",
       "1    김동현\n",
       "2    이건호\n",
       "3    정광영\n",
       "4    이기태\n",
       "Name: 배출가스검사원, dtype: object"
      ]
     },
     "execution_count": 151,
     "metadata": {},
     "output_type": "execute_result"
    }
   ],
   "source": [
    "df.iloc[:5, 58]"
   ]
  },
  {
   "attachments": {},
   "cell_type": "markdown",
   "metadata": {},
   "source": [
    "## 59\\. 책임검사원"
   ]
  },
  {
   "cell_type": "code",
   "execution_count": 152,
   "metadata": {},
   "outputs": [
    {
     "data": {
      "text/plain": [
       "0    박기열\n",
       "1    이준석\n",
       "2    박주하\n",
       "3    김동윤\n",
       "4    이광구\n",
       "Name: 책임검사원, dtype: object"
      ]
     },
     "execution_count": 152,
     "metadata": {},
     "output_type": "execute_result"
    }
   ],
   "source": [
    "df.iloc[:5, 59]"
   ]
  },
  {
   "attachments": {},
   "cell_type": "markdown",
   "metadata": {},
   "source": [
    "## 60\\. 검사 판정시간"
   ]
  },
  {
   "cell_type": "code",
   "execution_count": 153,
   "metadata": {},
   "outputs": [
    {
     "data": {
      "text/plain": [
       "0    20220701 11:08:49\n",
       "1    20220701 09:26:26\n",
       "2    20220701 15:05:16\n",
       "3    20220701 16:57:36\n",
       "4    20220701 15:53:50\n",
       "Name: 검사 판정시간, dtype: object"
      ]
     },
     "execution_count": 153,
     "metadata": {},
     "output_type": "execute_result"
    }
   ],
   "source": [
    "df.iloc[:5, 60]"
   ]
  },
  {
   "attachments": {},
   "cell_type": "markdown",
   "metadata": {},
   "source": [
    "## 61\\. 자료구분코드"
   ]
  },
  {
   "cell_type": "code",
   "execution_count": 181,
   "metadata": {},
   "outputs": [
    {
     "data": {
      "text/plain": [
       "0    D\n",
       "1    D\n",
       "2    D\n",
       "3    D\n",
       "4    D\n",
       "Name: 자료구분코드, dtype: object"
      ]
     },
     "execution_count": 181,
     "metadata": {},
     "output_type": "execute_result"
    }
   ],
   "source": [
    "df.iloc[:5, 61]"
   ]
  },
  {
   "cell_type": "code",
   "execution_count": 211,
   "metadata": {},
   "outputs": [
    {
     "data": {
      "text/plain": [
       "array(['D'], dtype=object)"
      ]
     },
     "execution_count": 211,
     "metadata": {},
     "output_type": "execute_result"
    }
   ],
   "source": [
    "df.iloc[:, 61].unique()"
   ]
  },
  {
   "cell_type": "markdown",
   "metadata": {},
   "source": [
    "# 코드 마지막"
   ]
  }
 ],
 "metadata": {
  "kernelspec": {
   "display_name": "base",
   "language": "python",
   "name": "python3"
  },
  "language_info": {
   "codemirror_mode": {
    "name": "ipython",
    "version": 3
   },
   "file_extension": ".py",
   "mimetype": "text/x-python",
   "name": "python",
   "nbconvert_exporter": "python",
   "pygments_lexer": "ipython3",
   "version": "3.9.13"
  },
  "orig_nbformat": 4,
  "vscode": {
   "interpreter": {
    "hash": "ad2bdc8ecc057115af97d19610ffacc2b4e99fae6737bb82f5d7fb13d2f2c186"
   }
  }
 },
 "nbformat": 4,
 "nbformat_minor": 2
}
