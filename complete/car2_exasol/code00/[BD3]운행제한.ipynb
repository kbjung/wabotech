{
 "cells": [
  {
   "attachments": {},
   "cell_type": "markdown",
   "metadata": {},
   "source": [
    "# Library"
   ]
  },
  {
   "cell_type": "code",
   "execution_count": 1,
   "metadata": {},
   "outputs": [],
   "source": [
    "import pandas as pd\n",
    "import numpy as np\n",
    "import os"
   ]
  },
  {
   "attachments": {},
   "cell_type": "markdown",
   "metadata": {},
   "source": [
    "# folder"
   ]
  },
  {
   "cell_type": "code",
   "execution_count": 2,
   "metadata": {},
   "outputs": [],
   "source": [
    "ods_fold = 'D:/data/big2/ODS'"
   ]
  },
  {
   "attachments": {},
   "cell_type": "markdown",
   "metadata": {},
   "source": [
    "# load"
   ]
  },
  {
   "attachments": {},
   "cell_type": "markdown",
   "metadata": {},
   "source": [
    "## N_IS_PENALTY(비상시 및 계절제 - 행정처분)"
   ]
  },
  {
   "cell_type": "code",
   "execution_count": 43,
   "metadata": {},
   "outputs": [],
   "source": [
    "# 영문컬럼 : 'GNFD_NO', 'REGLT_DE', 'VHMNO', 'VIN', 'VHRNO', 'LST_RQST_DT', 'REG_ID', 'REG_DT', 'SND_YN', 'REGLT_NO', 'SMTM_GNFD_EXCLU_YN', 'BASIC_YN', 'BASIC_OVER_YN' \n",
    "# 한글컬럼 : '발령번호', '등록LOT_DE', '차량관리번호', '차대번호', '자동차등록번호', 'LST요청일시', '등록ID', '등록일시', '송신_YN', '등록LOT번호', '동시발령EXCLU여부', 'BASIC여부', 'BASIC_OVER여부'\n",
    "# 필요컬럼\n",
    "    # 영문컬럼 : 'VIN', 'REGLT_DE', 'REGLT_NO'\n",
    "    # 한글컬럼 : '차대번호', '등록LOT_DE', '등록LOT번호'"
   ]
  },
  {
   "cell_type": "code",
   "execution_count": 44,
   "metadata": {},
   "outputs": [
    {
     "name": "stdout",
     "output_type": "stream",
     "text": [
      "<class 'pandas.core.frame.DataFrame'>\n",
      "RangeIndex: 10790105 entries, 0 to 10790104\n",
      "Data columns (total 3 columns):\n",
      " #   Column    Dtype \n",
      "---  ------    ----- \n",
      " 0   REGLT_DE  int64 \n",
      " 1   VIN       object\n",
      " 2   REGLT_NO  int64 \n",
      "dtypes: int64(2), object(1)\n",
      "memory usage: 247.0+ MB\n"
     ]
    }
   ],
   "source": [
    "# about 18.6s\n",
    "name = 'n_is_penalty'\n",
    "file_name = f'{name}.csv'\n",
    "isp = pd.read_csv(os.path.join(ods_fold, file_name), low_memory=False, sep='|', usecols=['VIN', 'REGLT_DE', 'REGLT_NO'])\n",
    "isp.info()"
   ]
  },
  {
   "cell_type": "code",
   "execution_count": 45,
   "metadata": {},
   "outputs": [
    {
     "data": {
      "text/plain": [
       "Index(['REGLT_DE', 'VIN', 'REGLT_NO'], dtype='object')"
      ]
     },
     "execution_count": 45,
     "metadata": {},
     "output_type": "execute_result"
    }
   ],
   "source": [
    "isp.columns"
   ]
  },
  {
   "cell_type": "code",
   "execution_count": 46,
   "metadata": {},
   "outputs": [
    {
     "name": "stdout",
     "output_type": "stream",
     "text": [
      "<class 'pandas.core.frame.DataFrame'>\n",
      "RangeIndex: 13 entries, 0 to 12\n",
      "Data columns (total 2 columns):\n",
      " #   Column  Non-Null Count  Dtype \n",
      "---  ------  --------------  ----- \n",
      " 0   영문      13 non-null     object\n",
      " 1   한글      13 non-null     object\n",
      "dtypes: object(2)\n",
      "memory usage: 336.0+ bytes\n"
     ]
    }
   ],
   "source": [
    "# about 0.4s\n",
    "name = '[컬럼명]운행제한테이블(2023.06.13)'\n",
    "file_name = f'{name}.xlsx'\n",
    "isp_col = pd.read_excel(os.path.join(ods_fold, file_name), sheet_name='N_IS_PENALTY')\n",
    "isp_col.info()"
   ]
  },
  {
   "cell_type": "code",
   "execution_count": 47,
   "metadata": {},
   "outputs": [
    {
     "data": {
      "text/plain": [
       "{'GNFD_NO': '발령번호',\n",
       " 'REGLT_DE': '등록LOT_DE',\n",
       " 'VHMNO': '차량관리번호',\n",
       " 'VIN': '차대번호',\n",
       " 'VHRNO': '자동차등록번호',\n",
       " 'LST_RQST_DT': 'LST요청일시',\n",
       " 'REG_ID': '등록ID',\n",
       " 'REG_DT': '등록일시',\n",
       " 'SND_YN': '송신_YN',\n",
       " 'REGLT_NO': '등록LOT번호',\n",
       " 'SMTM_GNFD_EXCLU_YN': '동시발령EXCLU여부',\n",
       " 'BASIC_YN': 'BASIC여부',\n",
       " 'BASIC_OVER_YN': 'BASIC_OVER여부'}"
      ]
     },
     "execution_count": 47,
     "metadata": {},
     "output_type": "execute_result"
    }
   ],
   "source": [
    "isp_dict = {a:b for a, b in isp_col[['영문', '한글']].values}\n",
    "isp_dict"
   ]
  },
  {
   "cell_type": "code",
   "execution_count": 48,
   "metadata": {},
   "outputs": [
    {
     "data": {
      "text/plain": [
       "Index(['등록LOT_DE', '차대번호', '등록LOT번호'], dtype='object')"
      ]
     },
     "execution_count": 48,
     "metadata": {},
     "output_type": "execute_result"
    }
   ],
   "source": [
    "isp = isp.rename(columns=isp_dict)\n",
    "isp.columns"
   ]
  },
  {
   "cell_type": "code",
   "execution_count": 49,
   "metadata": {},
   "outputs": [
    {
     "data": {
      "text/html": [
       "<div>\n",
       "<style scoped>\n",
       "    .dataframe tbody tr th:only-of-type {\n",
       "        vertical-align: middle;\n",
       "    }\n",
       "\n",
       "    .dataframe tbody tr th {\n",
       "        vertical-align: top;\n",
       "    }\n",
       "\n",
       "    .dataframe thead th {\n",
       "        text-align: right;\n",
       "    }\n",
       "</style>\n",
       "<table border=\"1\" class=\"dataframe\">\n",
       "  <thead>\n",
       "    <tr style=\"text-align: right;\">\n",
       "      <th></th>\n",
       "      <th>등록LOT_DE</th>\n",
       "      <th>차대번호</th>\n",
       "      <th>등록LOT번호</th>\n",
       "    </tr>\n",
       "  </thead>\n",
       "  <tbody>\n",
       "    <tr>\n",
       "      <th>0</th>\n",
       "      <td>20191210</td>\n",
       "      <td>KNAMA75434S611987</td>\n",
       "      <td>40995</td>\n",
       "    </tr>\n",
       "    <tr>\n",
       "      <th>1</th>\n",
       "      <td>20191210</td>\n",
       "      <td>KMFZCD7HP4U038442</td>\n",
       "      <td>40828</td>\n",
       "    </tr>\n",
       "    <tr>\n",
       "      <th>2</th>\n",
       "      <td>20191210</td>\n",
       "      <td>KMHSC81VP3U462149</td>\n",
       "      <td>40676</td>\n",
       "    </tr>\n",
       "    <tr>\n",
       "      <th>3</th>\n",
       "      <td>20191210</td>\n",
       "      <td>KNHMB76136S013714</td>\n",
       "      <td>40683</td>\n",
       "    </tr>\n",
       "    <tr>\n",
       "      <th>4</th>\n",
       "      <td>20191210</td>\n",
       "      <td>KNAJC52135A353826</td>\n",
       "      <td>42850</td>\n",
       "    </tr>\n",
       "  </tbody>\n",
       "</table>\n",
       "</div>"
      ],
      "text/plain": [
       "   등록LOT_DE               차대번호  등록LOT번호\n",
       "0  20191210  KNAMA75434S611987    40995\n",
       "1  20191210  KMFZCD7HP4U038442    40828\n",
       "2  20191210  KMHSC81VP3U462149    40676\n",
       "3  20191210  KNHMB76136S013714    40683\n",
       "4  20191210  KNAJC52135A353826    42850"
      ]
     },
     "execution_count": 49,
     "metadata": {},
     "output_type": "execute_result"
    }
   ],
   "source": [
    "isp.head()"
   ]
  },
  {
   "cell_type": "code",
   "execution_count": 50,
   "metadata": {},
   "outputs": [
    {
     "data": {
      "text/plain": [
       "((10790105, 3), 678526)"
      ]
     },
     "execution_count": 50,
     "metadata": {},
     "output_type": "execute_result"
    }
   ],
   "source": [
    "isp.shape, len(isp['차대번호'].unique())"
   ]
  },
  {
   "cell_type": "code",
   "execution_count": 51,
   "metadata": {},
   "outputs": [
    {
     "data": {
      "text/plain": [
       "10790105"
      ]
     },
     "execution_count": 51,
     "metadata": {},
     "output_type": "execute_result"
    }
   ],
   "source": [
    "len(isp['등록LOT번호'].unique())"
   ]
  },
  {
   "attachments": {},
   "cell_type": "markdown",
   "metadata": {},
   "source": [
    "## N_IS_ISSUE_DISCLOSURE(비상시 및 계절제 단속발령)"
   ]
  },
  {
   "cell_type": "code",
   "execution_count": null,
   "metadata": {},
   "outputs": [],
   "source": [
    "# 영문컬럼 : 'REGLT_NO', 'GNFD_NO', 'REG_SIDO_CD', 'REG_SIGNGU_CD', 'REGLT_AREA_CD', 'TFCLNE_ID', 'DISCL_DEHMS', 'VHMNO', 'VIN', 'VHRNO', 'FILE_NM', 'FILE_CURS_NM', 'ORG_FILE_CURS_NM', 'THUMB_FILE_CURS_NM', 'DTL_FILE_CURS_NM', 'REG_ID', 'REG_DT', 'EXCLU_REG_DT', 'RDCDVC_YN', 'BSN_YN', 'RWMR_YN', 'DSPN_YN', 'RQT_YN', 'UNDEVT_YN', 'SND_YN'\n",
    "# 한글컬럼 : '등록LOT번호', '발령번호', '등록시도코드', '등록시군구코드', '운행제한단속발령대상 지역코드', 'TFCLNE_ID', '적발일자시각', '차량관리번호', '차대번호', '차량등록번호', '파일명', '파일경로명', '원본파일경로명', '썸네일파일경로명', '상세파일경로명', '등록ID', '등록일시', 'EXCLU등록일시', '저감장치여부', '영업여부', '보훈여부', 'DSPN여부', 'RQT여부', '미개발여부', '발송여부'\n",
    "# 필요컬럼\n",
    "    # 영문컬럼 : 'REGLT_NO', 'REG_SIDO_CD', 'REG_SIGNGU_CD', 'DISCL_DEHMS', 'VIN'\n",
    "    # 한글컬럼 : '등록LOT번호', '등록시도코드', '등록시군구코드', '적발일자시각', '차대번호'"
   ]
  },
  {
   "cell_type": "code",
   "execution_count": 52,
   "metadata": {},
   "outputs": [
    {
     "name": "stdout",
     "output_type": "stream",
     "text": [
      "<class 'pandas.core.frame.DataFrame'>\n",
      "RangeIndex: 32271175 entries, 0 to 32271174\n",
      "Data columns (total 5 columns):\n",
      " #   Column         Dtype \n",
      "---  ------         ----- \n",
      " 0   REGLT_NO       int64 \n",
      " 1   REG_SIDO_CD    int64 \n",
      " 2   REG_SIGNGU_CD  int64 \n",
      " 3   DISCL_DEHMS    int64 \n",
      " 4   VIN            object\n",
      "dtypes: int64(4), object(1)\n",
      "memory usage: 1.2+ GB\n"
     ]
    }
   ],
   "source": [
    "# about 3m 25.5s\n",
    "name = 'ODS_N_IS_ISSUE_DISCLOSURE_1'\n",
    "file_name = f'{name}.csv'\n",
    "isd1 = pd.read_csv(os.path.join(ods_fold, file_name), low_memory=False, usecols=['REGLT_NO', 'REG_SIDO_CD', 'REG_SIGNGU_CD', 'DISCL_DEHMS', 'VIN'])\n",
    "isd1.info()"
   ]
  },
  {
   "cell_type": "code",
   "execution_count": 57,
   "metadata": {},
   "outputs": [
    {
     "name": "stdout",
     "output_type": "stream",
     "text": [
      "<class 'pandas.core.frame.DataFrame'>\n",
      "RangeIndex: 49241446 entries, 0 to 49241445\n",
      "Data columns (total 5 columns):\n",
      " #   Column         Dtype \n",
      "---  ------         ----- \n",
      " 0   REGLT_NO       int64 \n",
      " 1   REG_SIDO_CD    int64 \n",
      " 2   REG_SIGNGU_CD  int64 \n",
      " 3   DISCL_DEHMS    int64 \n",
      " 4   VIN            object\n",
      "dtypes: int64(4), object(1)\n",
      "memory usage: 1.8+ GB\n"
     ]
    }
   ],
   "source": [
    "# about 5m 12.3s\n",
    "name = 'ODS_N_IS_ISSUE_DISCLOSURE_2'\n",
    "file_name = f'{name}.csv'\n",
    "isd2 = pd.read_csv(os.path.join(ods_fold, file_name), low_memory=False, usecols=['REGLT_NO', 'REG_SIDO_CD', 'REG_SIGNGU_CD', 'DISCL_DEHMS', 'VIN'])\n",
    "isd2.info()"
   ]
  },
  {
   "cell_type": "code",
   "execution_count": 26,
   "metadata": {},
   "outputs": [
    {
     "data": {
      "text/plain": [
       "Index(['REGLT_NO', 'GNFD_NO', 'REG_SIDO_CD', 'REG_SIGNGU_CD', 'REGLT_AREA_CD',\n",
       "       'TFCLNE_ID', 'DISCL_DEHMS', 'VHMNO', 'VIN', 'VHRNO', 'FILE_NM',\n",
       "       'FILE_CURS_NM', 'ORG_FILE_CURS_NM', 'THUMB_FILE_CURS_NM',\n",
       "       'DTL_FILE_CURS_NM', 'REG_ID', 'REG_DT', 'EXCLU_REG_DT', 'RDCDVC_YN',\n",
       "       'BSN_YN', 'RWMR_YN', 'DSPN_YN', 'RQT_YN', 'UNDEVT_YN', 'SND_YN'],\n",
       "      dtype='object')"
      ]
     },
     "execution_count": 26,
     "metadata": {},
     "output_type": "execute_result"
    }
   ],
   "source": [
    "isd1.columns"
   ]
  },
  {
   "cell_type": "code",
   "execution_count": 53,
   "metadata": {},
   "outputs": [
    {
     "name": "stdout",
     "output_type": "stream",
     "text": [
      "<class 'pandas.core.frame.DataFrame'>\n",
      "RangeIndex: 25 entries, 0 to 24\n",
      "Data columns (total 2 columns):\n",
      " #   Column  Non-Null Count  Dtype \n",
      "---  ------  --------------  ----- \n",
      " 0   영문      25 non-null     object\n",
      " 1   한글      25 non-null     object\n",
      "dtypes: object(2)\n",
      "memory usage: 528.0+ bytes\n"
     ]
    }
   ],
   "source": [
    "# about 0.4s\n",
    "name = '[컬럼명]N_IS_ISSUE_DISCLOSURE'\n",
    "file_name = f'{name}.xlsx'\n",
    "isd_col = pd.read_excel(os.path.join(ods_fold, file_name), sheet_name='ods_col')\n",
    "isd_col.info()"
   ]
  },
  {
   "cell_type": "code",
   "execution_count": 54,
   "metadata": {},
   "outputs": [
    {
     "data": {
      "text/plain": [
       "{'DISCL_DEHMS': '적발일자시각',\n",
       " 'REGLT_AREA_CD': '운행제한단속발령대상지역코드',\n",
       " 'VHMNO': '차량관리번호',\n",
       " 'VIN': '차대번호',\n",
       " 'VHRNO': '차량등록번호',\n",
       " 'GNFD_NO': '발령번호',\n",
       " 'REGLT_NO': '등록LOT번호',\n",
       " 'REG_SIDO_CD': '등록시도코드',\n",
       " 'REG_SIGNGU_CD': '등록시군구코드',\n",
       " 'TFCLNE_ID': 'TFCLNE_ID',\n",
       " 'FILE_NM': '파일명',\n",
       " 'FILE_CURS_NM': '파일경로명',\n",
       " 'ORG_FILE_CURS_NM': '원본파일경로명',\n",
       " 'THUMB_FILE_CURS_NM': '썸네일파일경로명',\n",
       " 'DTL_FILE_CURS_NM': '상세파일경로명',\n",
       " 'REG_ID': '등록ID',\n",
       " 'REG_DT': '등록일시',\n",
       " 'EXCLU_REG_DT': 'EXCLU등록일시',\n",
       " 'RDCDVC_YN': '저감장치여부',\n",
       " 'BSN_YN': '영업여부',\n",
       " 'RWMR_YN': '보훈여부',\n",
       " 'DSPN_YN': 'DSPN여부',\n",
       " 'RQT_YN': 'RQT여부',\n",
       " 'UNDEVT_YN': '미개발여부',\n",
       " 'SND_YN': '발송여부'}"
      ]
     },
     "execution_count": 54,
     "metadata": {},
     "output_type": "execute_result"
    }
   ],
   "source": [
    "isd_dict = {a:b for a, b in isd_col[['영문', '한글']].values}\n",
    "isd_dict"
   ]
  },
  {
   "cell_type": "code",
   "execution_count": 55,
   "metadata": {},
   "outputs": [
    {
     "data": {
      "text/plain": [
       "Index(['등록LOT번호', '등록시도코드', '등록시군구코드', '적발일자시각', '차대번호'], dtype='object')"
      ]
     },
     "execution_count": 55,
     "metadata": {},
     "output_type": "execute_result"
    }
   ],
   "source": [
    "isd1 = isd1.rename(columns=isd_dict)\n",
    "isd1.columns"
   ]
  },
  {
   "cell_type": "code",
   "execution_count": 58,
   "metadata": {},
   "outputs": [
    {
     "data": {
      "text/plain": [
       "Index(['등록LOT번호', '등록시도코드', '등록시군구코드', '적발일자시각', '차대번호'], dtype='object')"
      ]
     },
     "execution_count": 58,
     "metadata": {},
     "output_type": "execute_result"
    }
   ],
   "source": [
    "isd2 = isd2.rename(columns=isd_dict)\n",
    "isd2.columns"
   ]
  },
  {
   "cell_type": "code",
   "execution_count": 56,
   "metadata": {},
   "outputs": [
    {
     "data": {
      "text/html": [
       "<div>\n",
       "<style scoped>\n",
       "    .dataframe tbody tr th:only-of-type {\n",
       "        vertical-align: middle;\n",
       "    }\n",
       "\n",
       "    .dataframe tbody tr th {\n",
       "        vertical-align: top;\n",
       "    }\n",
       "\n",
       "    .dataframe thead th {\n",
       "        text-align: right;\n",
       "    }\n",
       "</style>\n",
       "<table border=\"1\" class=\"dataframe\">\n",
       "  <thead>\n",
       "    <tr style=\"text-align: right;\">\n",
       "      <th></th>\n",
       "      <th>등록LOT번호</th>\n",
       "      <th>등록시도코드</th>\n",
       "      <th>등록시군구코드</th>\n",
       "      <th>적발일자시각</th>\n",
       "      <th>차대번호</th>\n",
       "    </tr>\n",
       "  </thead>\n",
       "  <tbody>\n",
       "    <tr>\n",
       "      <th>0</th>\n",
       "      <td>54793831</td>\n",
       "      <td>41</td>\n",
       "      <td>190</td>\n",
       "      <td>20220425193202</td>\n",
       "      <td>KMFXKS7BP3U657943</td>\n",
       "    </tr>\n",
       "    <tr>\n",
       "      <th>1</th>\n",
       "      <td>54793839</td>\n",
       "      <td>41</td>\n",
       "      <td>190</td>\n",
       "      <td>20220425192830</td>\n",
       "      <td>KNAMA75432S388470</td>\n",
       "    </tr>\n",
       "    <tr>\n",
       "      <th>2</th>\n",
       "      <td>54793843</td>\n",
       "      <td>28</td>\n",
       "      <td>237</td>\n",
       "      <td>20220425192658</td>\n",
       "      <td>KNGDNM9N14K178854</td>\n",
       "    </tr>\n",
       "    <tr>\n",
       "      <th>3</th>\n",
       "      <td>54795717</td>\n",
       "      <td>41</td>\n",
       "      <td>130</td>\n",
       "      <td>20220425201503</td>\n",
       "      <td>KMFGA17PP7C072098</td>\n",
       "    </tr>\n",
       "    <tr>\n",
       "      <th>4</th>\n",
       "      <td>54793837</td>\n",
       "      <td>41</td>\n",
       "      <td>190</td>\n",
       "      <td>20220425190532</td>\n",
       "      <td>KPBSH3AB18P082348</td>\n",
       "    </tr>\n",
       "  </tbody>\n",
       "</table>\n",
       "</div>"
      ],
      "text/plain": [
       "    등록LOT번호  등록시도코드  등록시군구코드          적발일자시각               차대번호\n",
       "0  54793831      41      190  20220425193202  KMFXKS7BP3U657943\n",
       "1  54793839      41      190  20220425192830  KNAMA75432S388470\n",
       "2  54793843      28      237  20220425192658  KNGDNM9N14K178854\n",
       "3  54795717      41      130  20220425201503  KMFGA17PP7C072098\n",
       "4  54793837      41      190  20220425190532  KPBSH3AB18P082348"
      ]
     },
     "execution_count": 56,
     "metadata": {},
     "output_type": "execute_result"
    }
   ],
   "source": [
    "isd1.head()"
   ]
  },
  {
   "cell_type": "code",
   "execution_count": 59,
   "metadata": {},
   "outputs": [
    {
     "data": {
      "text/html": [
       "<div>\n",
       "<style scoped>\n",
       "    .dataframe tbody tr th:only-of-type {\n",
       "        vertical-align: middle;\n",
       "    }\n",
       "\n",
       "    .dataframe tbody tr th {\n",
       "        vertical-align: top;\n",
       "    }\n",
       "\n",
       "    .dataframe thead th {\n",
       "        text-align: right;\n",
       "    }\n",
       "</style>\n",
       "<table border=\"1\" class=\"dataframe\">\n",
       "  <thead>\n",
       "    <tr style=\"text-align: right;\">\n",
       "      <th></th>\n",
       "      <th>등록LOT번호</th>\n",
       "      <th>등록시도코드</th>\n",
       "      <th>등록시군구코드</th>\n",
       "      <th>적발일자시각</th>\n",
       "      <th>차대번호</th>\n",
       "    </tr>\n",
       "  </thead>\n",
       "  <tbody>\n",
       "    <tr>\n",
       "      <th>0</th>\n",
       "      <td>19890</td>\n",
       "      <td>11</td>\n",
       "      <td>350</td>\n",
       "      <td>20191210202357</td>\n",
       "      <td>KMHMG81VP5U257794</td>\n",
       "    </tr>\n",
       "    <tr>\n",
       "      <th>1</th>\n",
       "      <td>39000</td>\n",
       "      <td>41</td>\n",
       "      <td>210</td>\n",
       "      <td>20191210202349</td>\n",
       "      <td>KNAMC75136S062407</td>\n",
       "    </tr>\n",
       "    <tr>\n",
       "      <th>2</th>\n",
       "      <td>19892</td>\n",
       "      <td>41</td>\n",
       "      <td>360</td>\n",
       "      <td>20191210202333</td>\n",
       "      <td>KNAJE55136K140658</td>\n",
       "    </tr>\n",
       "    <tr>\n",
       "      <th>3</th>\n",
       "      <td>19889</td>\n",
       "      <td>41</td>\n",
       "      <td>610</td>\n",
       "      <td>20191210202330</td>\n",
       "      <td>KNAJC52134A283624</td>\n",
       "    </tr>\n",
       "    <tr>\n",
       "      <th>4</th>\n",
       "      <td>19191</td>\n",
       "      <td>11</td>\n",
       "      <td>500</td>\n",
       "      <td>20191210202327</td>\n",
       "      <td>KN4HNW6DM5K098136</td>\n",
       "    </tr>\n",
       "  </tbody>\n",
       "</table>\n",
       "</div>"
      ],
      "text/plain": [
       "   등록LOT번호  등록시도코드  등록시군구코드          적발일자시각               차대번호\n",
       "0    19890      11      350  20191210202357  KMHMG81VP5U257794\n",
       "1    39000      41      210  20191210202349  KNAMC75136S062407\n",
       "2    19892      41      360  20191210202333  KNAJE55136K140658\n",
       "3    19889      41      610  20191210202330  KNAJC52134A283624\n",
       "4    19191      11      500  20191210202327  KN4HNW6DM5K098136"
      ]
     },
     "execution_count": 59,
     "metadata": {},
     "output_type": "execute_result"
    }
   ],
   "source": [
    "isd2.head()"
   ]
  },
  {
   "cell_type": "code",
   "execution_count": 60,
   "metadata": {},
   "outputs": [
    {
     "data": {
      "text/plain": [
       "(81512621, 5)"
      ]
     },
     "execution_count": 60,
     "metadata": {},
     "output_type": "execute_result"
    }
   ],
   "source": [
    "isd = pd.concat([isd1, isd2], ignore_index=True)\n",
    "isd.shape"
   ]
  },
  {
   "attachments": {},
   "cell_type": "markdown",
   "metadata": {},
   "source": [
    "### [출력] 비상시 및 계절제 단속발령(필수)"
   ]
  },
  {
   "cell_type": "code",
   "execution_count": 61,
   "metadata": {},
   "outputs": [],
   "source": [
    "# 3m 30.3s\n",
    "isd.to_csv(os.path.join(ods_fold, '비상시_및_계절제_단속발령(일부).csv'), index=False)"
   ]
  },
  {
   "attachments": {},
   "cell_type": "markdown",
   "metadata": {},
   "source": [
    "## N_US_PENALTY(상시 운행제한 - 행정처분)"
   ]
  },
  {
   "cell_type": "code",
   "execution_count": null,
   "metadata": {},
   "outputs": [],
   "source": [
    "# 영문컬럼 : 'ODR_YM', 'REGLT_YM', 'VHMNO', 'VIN', 'VHRNO', 'REGLT_CNT', 'LSMTH_REGLT_CNT', 'LSMTH_BF_MM_CNT', 'LST_RQST_DT', 'REG_ID', 'REG_DT', 'SND_YN', 'NO'\n",
    "# 한글컬럼 : '차수연월', '등록LOT연월', '차량관리번호', '차대번호', '자동차등록번호', '등록LOT수', 'LSMTH등록LOT수', 'LSMTH이전월수', 'LST요청일시', '등록ID', '등록일시', '송신여부', '번호'\n",
    "# 필요컬럼\n",
    "    # 영문컬럼 : 'VIN', 'REG_DT', 'NO'\n",
    "    # 한글컬럼 : '차대번호', '등록일시', '번호'"
   ]
  },
  {
   "cell_type": "code",
   "execution_count": 23,
   "metadata": {},
   "outputs": [
    {
     "name": "stdout",
     "output_type": "stream",
     "text": [
      "<class 'pandas.core.frame.DataFrame'>\n",
      "RangeIndex: 443309 entries, 0 to 443308\n",
      "Data columns (total 13 columns):\n",
      " #   Column           Non-Null Count   Dtype  \n",
      "---  ------           --------------   -----  \n",
      " 0   ODR_YM           443309 non-null  int64  \n",
      " 1   REGLT_YM         443309 non-null  int64  \n",
      " 2   VHMNO            443309 non-null  object \n",
      " 3   VIN              443309 non-null  object \n",
      " 4   VHRNO            443309 non-null  object \n",
      " 5   REGLT_CNT        443309 non-null  int64  \n",
      " 6   LSMTH_REGLT_CNT  443309 non-null  int64  \n",
      " 7   LSMTH_BF_MM_CNT  443309 non-null  int64  \n",
      " 8   LST_RQST_DT      0 non-null       float64\n",
      " 9   REG_ID           443309 non-null  object \n",
      " 10  REG_DT           443309 non-null  object \n",
      " 11  SND_YN           443309 non-null  object \n",
      " 12  NO               443309 non-null  int64  \n",
      "dtypes: float64(1), int64(6), object(6)\n",
      "memory usage: 44.0+ MB\n"
     ]
    }
   ],
   "source": [
    "# about 1.2s\n",
    "name = 'n_us_penalty'\n",
    "file_name = f'{name}.csv'\n",
    "usp = pd.read_csv(os.path.join(ods_fold, file_name), low_memory=False, sep='|')\n",
    "usp.info()"
   ]
  },
  {
   "cell_type": "code",
   "execution_count": 24,
   "metadata": {},
   "outputs": [
    {
     "data": {
      "text/plain": [
       "Index(['ODR_YM', 'REGLT_YM', 'VHMNO', 'VIN', 'VHRNO', 'REGLT_CNT',\n",
       "       'LSMTH_REGLT_CNT', 'LSMTH_BF_MM_CNT', 'LST_RQST_DT', 'REG_ID', 'REG_DT',\n",
       "       'SND_YN', 'NO'],\n",
       "      dtype='object')"
      ]
     },
     "execution_count": 24,
     "metadata": {},
     "output_type": "execute_result"
    }
   ],
   "source": [
    "usp.columns"
   ]
  },
  {
   "cell_type": "code",
   "execution_count": 13,
   "metadata": {},
   "outputs": [
    {
     "name": "stdout",
     "output_type": "stream",
     "text": [
      "<class 'pandas.core.frame.DataFrame'>\n",
      "RangeIndex: 13 entries, 0 to 12\n",
      "Data columns (total 2 columns):\n",
      " #   Column  Non-Null Count  Dtype \n",
      "---  ------  --------------  ----- \n",
      " 0   영문      13 non-null     object\n",
      " 1   한글      13 non-null     object\n",
      "dtypes: object(2)\n",
      "memory usage: 336.0+ bytes\n"
     ]
    }
   ],
   "source": [
    "# about 0.4s\n",
    "name = '[컬럼명]운행제한테이블(2023.06.13)'\n",
    "file_name = f'{name}.xlsx'\n",
    "usp_col = pd.read_excel(os.path.join(ods_fold, file_name), sheet_name='N_US_PENALTY')\n",
    "usp_col.info()"
   ]
  },
  {
   "cell_type": "code",
   "execution_count": 15,
   "metadata": {},
   "outputs": [
    {
     "data": {
      "text/plain": [
       "{'ODR_YM': '차수연월',\n",
       " 'REGLT_YM': '등록LOT연월',\n",
       " 'VHMNO': '차량관리번호',\n",
       " 'VIN': '차대번호',\n",
       " 'VHRNO': '자동차등록번호',\n",
       " 'REGLT_CNT': '등록LOT수',\n",
       " 'LSMTH_REGLT_CNT': 'LSMTH등록LOT수',\n",
       " 'LSMTH_BF_MM_CNT': 'LSMTH이전월수',\n",
       " 'LST_RQST_DT': 'LST요청일시',\n",
       " 'REG_ID': '등록ID',\n",
       " 'REG_DT': '등록일시',\n",
       " 'SND_YN': '송신_YN',\n",
       " 'NO': '번호'}"
      ]
     },
     "execution_count": 15,
     "metadata": {},
     "output_type": "execute_result"
    }
   ],
   "source": [
    "usp_dict = {a:b for a, b in usp_col[['영문', '한글']].values}\n",
    "usp_dict"
   ]
  },
  {
   "cell_type": "code",
   "execution_count": 16,
   "metadata": {},
   "outputs": [
    {
     "data": {
      "text/plain": [
       "Index(['차수연월', '등록LOT연월', '차량관리번호', '차대번호', '자동차등록번호', '등록LOT수', 'LSMTH등록LOT수',\n",
       "       'LSMTH이전월수', 'LST요청일시', '등록ID', '등록일시', '송신_YN', '번호'],\n",
       "      dtype='object')"
      ]
     },
     "execution_count": 16,
     "metadata": {},
     "output_type": "execute_result"
    }
   ],
   "source": [
    "usp = usp.rename(columns=usp_dict)\n",
    "usp.columns"
   ]
  },
  {
   "attachments": {},
   "cell_type": "markdown",
   "metadata": {},
   "source": [
    "# an"
   ]
  },
  {
   "attachments": {},
   "cell_type": "markdown",
   "metadata": {},
   "source": [
    "## N_IS(비상시 및 계절제)"
   ]
  },
  {
   "cell_type": "code",
   "execution_count": 62,
   "metadata": {},
   "outputs": [
    {
     "data": {
      "text/plain": [
       "Index(['등록LOT_DE', '차대번호', '등록LOT번호'], dtype='object')"
      ]
     },
     "execution_count": 62,
     "metadata": {},
     "output_type": "execute_result"
    }
   ],
   "source": [
    "isp.columns"
   ]
  },
  {
   "cell_type": "code",
   "execution_count": 63,
   "metadata": {},
   "outputs": [
    {
     "data": {
      "text/plain": [
       "Index(['등록LOT번호', '등록시도코드', '등록시군구코드', '적발일자시각', '차대번호'], dtype='object')"
      ]
     },
     "execution_count": 63,
     "metadata": {},
     "output_type": "execute_result"
    }
   ],
   "source": [
    "isd.columns"
   ]
  },
  {
   "cell_type": "code",
   "execution_count": 64,
   "metadata": {},
   "outputs": [
    {
     "data": {
      "text/plain": [
       "((10790105, 3), (81512621, 5))"
      ]
     },
     "execution_count": 64,
     "metadata": {},
     "output_type": "execute_result"
    }
   ],
   "source": [
    "isp.shape, isd.shape"
   ]
  },
  {
   "cell_type": "code",
   "execution_count": 65,
   "metadata": {},
   "outputs": [
    {
     "data": {
      "text/plain": [
       "81512621"
      ]
     },
     "execution_count": 65,
     "metadata": {},
     "output_type": "execute_result"
    }
   ],
   "source": [
    "len(isd['등록LOT번호'].unique())"
   ]
  },
  {
   "cell_type": "code",
   "execution_count": 67,
   "metadata": {},
   "outputs": [
    {
     "data": {
      "text/plain": [
       "8945915"
      ]
     },
     "execution_count": 67,
     "metadata": {},
     "output_type": "execute_result"
    }
   ],
   "source": [
    "len(set(isp['등록LOT번호']) & set(isd['등록LOT번호']))\n",
    "# 8,945,915"
   ]
  },
  {
   "cell_type": "code",
   "execution_count": null,
   "metadata": {},
   "outputs": [],
   "source": []
  },
  {
   "attachments": {},
   "cell_type": "markdown",
   "metadata": {},
   "source": [
    "# code end"
   ]
  }
 ],
 "metadata": {
  "kernelspec": {
   "display_name": "base",
   "language": "python",
   "name": "python3"
  },
  "language_info": {
   "codemirror_mode": {
    "name": "ipython",
    "version": 3
   },
   "file_extension": ".py",
   "mimetype": "text/x-python",
   "name": "python",
   "nbconvert_exporter": "python",
   "pygments_lexer": "ipython3",
   "version": "3.9.13"
  },
  "orig_nbformat": 4
 },
 "nbformat": 4,
 "nbformat_minor": 2
}
