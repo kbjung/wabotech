{
 "cells": [
  {
   "attachments": {},
   "cell_type": "markdown",
   "metadata": {},
   "source": [
    "# Library"
   ]
  },
  {
   "cell_type": "code",
   "execution_count": 1,
   "metadata": {},
   "outputs": [],
   "source": [
    "import pandas as pd\n",
    "import os, datetime\n",
    "import numpy as np\n",
    "from tqdm import tqdm"
   ]
  },
  {
   "attachments": {},
   "cell_type": "markdown",
   "metadata": {},
   "source": [
    "# File Load\n",
    "- [병합]4등급_차량_리스트_양식_result\n",
    "- [배인번호]업체확인_리스트"
   ]
  },
  {
   "cell_type": "code",
   "execution_count": 2,
   "metadata": {},
   "outputs": [],
   "source": [
    "fold = 'D:/data/big2/BD1_4등급_데이터_점검1'"
   ]
  },
  {
   "attachments": {},
   "cell_type": "markdown",
   "metadata": {},
   "source": [
    "## 4등급_차량_리스트_양식_result"
   ]
  },
  {
   "cell_type": "code",
   "execution_count": 8,
   "metadata": {},
   "outputs": [],
   "source": [
    "# about 10s\n",
    "file_name = '4등급_차량_리스트_양식_result.csv'\n",
    "df = pd.read_csv(os.path.join(fold, file_name), encoding='cp949', low_memory=False)"
   ]
  },
  {
   "cell_type": "code",
   "execution_count": 9,
   "metadata": {},
   "outputs": [
    {
     "data": {
      "text/plain": [
       "Index(['차대번호', '차량번호', '제원관리번호', '차종', '용도', '최초등록일', '연식', '제작일자', '검사유효일',\n",
       "       '인증번호', '등급', '차명', '차종분류', '차종유형', '자동차형식', '제작사명', '연료', '엔진형식',\n",
       "       '총중량', '적재중량', '엔진출력', '배기량', '법정동코드', '시도명', '시군구명', '소유자구분', '말소여부',\n",
       "       '일치유무'],\n",
       "      dtype='object')"
      ]
     },
     "execution_count": 9,
     "metadata": {},
     "output_type": "execute_result"
    }
   ],
   "source": [
    "df.columns"
   ]
  },
  {
   "cell_type": "code",
   "execution_count": 13,
   "metadata": {},
   "outputs": [
    {
     "data": {
      "text/plain": [
       "(1502235, 28)"
      ]
     },
     "execution_count": 13,
     "metadata": {},
     "output_type": "execute_result"
    }
   ],
   "source": [
    "df.shape"
   ]
  },
  {
   "cell_type": "code",
   "execution_count": 23,
   "metadata": {},
   "outputs": [
    {
     "data": {
      "text/plain": [
       "Index(['차대번호', '차량번호', '제원관리번호', '차종', '용도', '최초등록일', '연식', '제작일자', '검사유효일',\n",
       "       '배출가스인증번호', '등급', '차명', '차종분류', '차종유형', '자동차형식', '제작사명', '연료', '엔진형식',\n",
       "       '총중량', '적재중량', '엔진출력', '배기량', '법정동코드', '시도명', '시군구명', '소유자구분', '말소여부',\n",
       "       '일치유무'],\n",
       "      dtype='object')"
      ]
     },
     "execution_count": 23,
     "metadata": {},
     "output_type": "execute_result"
    }
   ],
   "source": [
    "df = df.rename(columns={'인증번호':'배출가스인증번호'})\n",
    "df.columns"
   ]
  },
  {
   "attachments": {},
   "cell_type": "markdown",
   "metadata": {},
   "source": [
    "## [배인번호]업체확인_리스트"
   ]
  },
  {
   "cell_type": "code",
   "execution_count": 11,
   "metadata": {},
   "outputs": [],
   "source": [
    "file_name = '배인번호_업체확인_리스트(2023.03.06).xlsx'\n",
    "mod = pd.read_excel(os.path.join(fold, file_name), sheet_name='확인')"
   ]
  },
  {
   "cell_type": "code",
   "execution_count": 14,
   "metadata": {},
   "outputs": [
    {
     "data": {
      "text/plain": [
       "(3522, 11)"
      ]
     },
     "execution_count": 14,
     "metadata": {},
     "output_type": "execute_result"
    }
   ],
   "source": [
    "mod.shape"
   ]
  },
  {
   "cell_type": "code",
   "execution_count": 15,
   "metadata": {},
   "outputs": [
    {
     "data": {
      "text/plain": [
       "Index(['차대번호', '차량번호', '제원관리번호', '차종', '용도', '최초등록일', '연식', '제작일자', '검사유효일',\n",
       "       '인증번호', '등급', '차명', '차종분류', '차종유형', '자동차형식', '제작사명', '연료', '엔진형식',\n",
       "       '총중량', '적재중량', '엔진출력', '배기량', '법정동코드', '시도명', '시군구명', '소유자구분', '말소여부',\n",
       "       '일치유무'],\n",
       "      dtype='object')"
      ]
     },
     "execution_count": 15,
     "metadata": {},
     "output_type": "execute_result"
    }
   ],
   "source": [
    "df.columns"
   ]
  },
  {
   "cell_type": "code",
   "execution_count": 16,
   "metadata": {},
   "outputs": [],
   "source": [
    "# 매칭조건 컬럼 : '배출가스인증번호', '자동차형식', '엔진형식'\n",
    "# 수정할 컬럼 : '배출가스인증번호', '등급', 'DPF유무'"
   ]
  },
  {
   "cell_type": "code",
   "execution_count": 17,
   "metadata": {},
   "outputs": [
    {
     "data": {
      "text/plain": [
       "Index(['등급(현재)', '등급(수정)', '배인번호(현재)', '배인번호(수정)', '차명', '제작사', '자동차형식',\n",
       "       '엔진형식', 'DPF유무(현재)', 'DPF유무(수정)', '기타'],\n",
       "      dtype='object')"
      ]
     },
     "execution_count": 17,
     "metadata": {},
     "output_type": "execute_result"
    }
   ],
   "source": [
    "mod.columns"
   ]
  },
  {
   "cell_type": "code",
   "execution_count": 18,
   "metadata": {},
   "outputs": [
    {
     "data": {
      "text/html": [
       "<div>\n",
       "<style scoped>\n",
       "    .dataframe tbody tr th:only-of-type {\n",
       "        vertical-align: middle;\n",
       "    }\n",
       "\n",
       "    .dataframe tbody tr th {\n",
       "        vertical-align: top;\n",
       "    }\n",
       "\n",
       "    .dataframe thead th {\n",
       "        text-align: right;\n",
       "    }\n",
       "</style>\n",
       "<table border=\"1\" class=\"dataframe\">\n",
       "  <thead>\n",
       "    <tr style=\"text-align: right;\">\n",
       "      <th></th>\n",
       "      <th>등급(현재)</th>\n",
       "      <th>등급(수정)</th>\n",
       "      <th>배인번호(현재)</th>\n",
       "      <th>배인번호(수정)</th>\n",
       "      <th>차명</th>\n",
       "      <th>제작사</th>\n",
       "      <th>자동차형식</th>\n",
       "      <th>엔진형식</th>\n",
       "      <th>DPF유무(현재)</th>\n",
       "      <th>DPF유무(수정)</th>\n",
       "      <th>기타</th>\n",
       "    </tr>\n",
       "  </thead>\n",
       "  <tbody>\n",
       "    <tr>\n",
       "      <th>0</th>\n",
       "      <td>4</td>\n",
       "      <td>4</td>\n",
       "      <td>7MY-SM-14-36</td>\n",
       "      <td>7MY-SM-14-36</td>\n",
       "      <td>QM5</td>\n",
       "      <td>르노삼성자동차(주)</td>\n",
       "      <td>H1D20-VC-0-11</td>\n",
       "      <td>M9R</td>\n",
       "      <td>유</td>\n",
       "      <td>유</td>\n",
       "      <td>Euro4 기준에 맞춰 개발된 차량</td>\n",
       "    </tr>\n",
       "    <tr>\n",
       "      <th>1</th>\n",
       "      <td>4</td>\n",
       "      <td>4</td>\n",
       "      <td>7MY-SM-14-36</td>\n",
       "      <td>7MY-SM-14-36</td>\n",
       "      <td>QM5</td>\n",
       "      <td>르노삼성자동차(주)</td>\n",
       "      <td>H1D20-VC-0-12</td>\n",
       "      <td>M9R</td>\n",
       "      <td>유</td>\n",
       "      <td>유</td>\n",
       "      <td>Euro4 기준에 맞춰 개발된 차량</td>\n",
       "    </tr>\n",
       "    <tr>\n",
       "      <th>2</th>\n",
       "      <td>4</td>\n",
       "      <td>4</td>\n",
       "      <td>7MY-SM-14-36</td>\n",
       "      <td>7MY-SM-14-36</td>\n",
       "      <td>QM5</td>\n",
       "      <td>르노삼성자동차(주)</td>\n",
       "      <td>H1D20-VC-0-21</td>\n",
       "      <td>M9R</td>\n",
       "      <td>유</td>\n",
       "      <td>유</td>\n",
       "      <td>Euro4 기준에 맞춰 개발된 차량</td>\n",
       "    </tr>\n",
       "    <tr>\n",
       "      <th>3</th>\n",
       "      <td>4</td>\n",
       "      <td>4</td>\n",
       "      <td>7MY-SM-14-36</td>\n",
       "      <td>7MY-SM-14-36</td>\n",
       "      <td>QM5</td>\n",
       "      <td>르노삼성자동차(주)</td>\n",
       "      <td>H1D20-VC-0-22</td>\n",
       "      <td>M9R</td>\n",
       "      <td>유</td>\n",
       "      <td>유</td>\n",
       "      <td>Euro4 기준에 맞춰 개발된 차량</td>\n",
       "    </tr>\n",
       "    <tr>\n",
       "      <th>4</th>\n",
       "      <td>4</td>\n",
       "      <td>4</td>\n",
       "      <td>7MY-SM-14-36</td>\n",
       "      <td>7MY-SM-14-36</td>\n",
       "      <td>QM5</td>\n",
       "      <td>르노삼성자동차(주)</td>\n",
       "      <td>H1D20-VC-0-31</td>\n",
       "      <td>M9R</td>\n",
       "      <td>유</td>\n",
       "      <td>유</td>\n",
       "      <td>Euro4 기준에 맞춰 개발된 차량</td>\n",
       "    </tr>\n",
       "  </tbody>\n",
       "</table>\n",
       "</div>"
      ],
      "text/plain": [
       "   등급(현재)  등급(수정)      배인번호(현재)      배인번호(수정)   차명         제작사          자동차형식  \\\n",
       "0       4       4  7MY-SM-14-36  7MY-SM-14-36  QM5  르노삼성자동차(주)  H1D20-VC-0-11   \n",
       "1       4       4  7MY-SM-14-36  7MY-SM-14-36  QM5  르노삼성자동차(주)  H1D20-VC-0-12   \n",
       "2       4       4  7MY-SM-14-36  7MY-SM-14-36  QM5  르노삼성자동차(주)  H1D20-VC-0-21   \n",
       "3       4       4  7MY-SM-14-36  7MY-SM-14-36  QM5  르노삼성자동차(주)  H1D20-VC-0-22   \n",
       "4       4       4  7MY-SM-14-36  7MY-SM-14-36  QM5  르노삼성자동차(주)  H1D20-VC-0-31   \n",
       "\n",
       "  엔진형식 DPF유무(현재) DPF유무(수정)                   기타  \n",
       "0  M9R         유         유  Euro4 기준에 맞춰 개발된 차량  \n",
       "1  M9R         유         유  Euro4 기준에 맞춰 개발된 차량  \n",
       "2  M9R         유         유  Euro4 기준에 맞춰 개발된 차량  \n",
       "3  M9R         유         유  Euro4 기준에 맞춰 개발된 차량  \n",
       "4  M9R         유         유  Euro4 기준에 맞춰 개발된 차량  "
      ]
     },
     "execution_count": 18,
     "metadata": {},
     "output_type": "execute_result"
    }
   ],
   "source": [
    "mod.head()"
   ]
  },
  {
   "cell_type": "code",
   "execution_count": 19,
   "metadata": {},
   "outputs": [
    {
     "data": {
      "text/html": [
       "<div>\n",
       "<style scoped>\n",
       "    .dataframe tbody tr th:only-of-type {\n",
       "        vertical-align: middle;\n",
       "    }\n",
       "\n",
       "    .dataframe tbody tr th {\n",
       "        vertical-align: top;\n",
       "    }\n",
       "\n",
       "    .dataframe thead th {\n",
       "        text-align: right;\n",
       "    }\n",
       "</style>\n",
       "<table border=\"1\" class=\"dataframe\">\n",
       "  <thead>\n",
       "    <tr style=\"text-align: right;\">\n",
       "      <th></th>\n",
       "      <th>등급(현재)</th>\n",
       "      <th>등급(수정)</th>\n",
       "      <th>배인번호(현재)</th>\n",
       "      <th>배인번호(수정)</th>\n",
       "      <th>차명</th>\n",
       "      <th>제작사</th>\n",
       "      <th>자동차형식</th>\n",
       "      <th>엔진형식</th>\n",
       "      <th>DPF유무(현재)</th>\n",
       "      <th>DPF유무(수정)</th>\n",
       "      <th>기타</th>\n",
       "    </tr>\n",
       "  </thead>\n",
       "  <tbody>\n",
       "    <tr>\n",
       "      <th>29</th>\n",
       "      <td>4</td>\n",
       "      <td>4</td>\n",
       "      <td>7MY-MT-24-01</td>\n",
       "      <td>7MY-MT-24-01</td>\n",
       "      <td>만 트랙터</td>\n",
       "      <td>만트럭버스코리아(주)</td>\n",
       "      <td>TGA26.4806X4BLS</td>\n",
       "      <td>D2676LF01</td>\n",
       "      <td>무</td>\n",
       "      <td>무</td>\n",
       "      <td>유로 4 배출가스 기준 엔진 장착된 경유 차량</td>\n",
       "    </tr>\n",
       "    <tr>\n",
       "      <th>30</th>\n",
       "      <td>4</td>\n",
       "      <td>4</td>\n",
       "      <td>7MY-MT-24-01</td>\n",
       "      <td>7MY-MT-24-01</td>\n",
       "      <td>만 트랙터</td>\n",
       "      <td>만트럭버스코리아(주)</td>\n",
       "      <td>TGA28.4806X2-2BLS</td>\n",
       "      <td>D2676LF01</td>\n",
       "      <td>무</td>\n",
       "      <td>무</td>\n",
       "      <td>유로 4 배출가스 기준 엔진 장착된 경유 차량</td>\n",
       "    </tr>\n",
       "    <tr>\n",
       "      <th>31</th>\n",
       "      <td>4</td>\n",
       "      <td>4</td>\n",
       "      <td>7MY-MT-24-01</td>\n",
       "      <td>7MY-MT-24-01</td>\n",
       "      <td>만 트랙터</td>\n",
       "      <td>만트럭버스코리아(주)</td>\n",
       "      <td>TGX26.4806X4BLS</td>\n",
       "      <td>D2676LF05</td>\n",
       "      <td>무</td>\n",
       "      <td>무</td>\n",
       "      <td>유로 4 배출가스 기준 엔진 장착된 경유 차량</td>\n",
       "    </tr>\n",
       "    <tr>\n",
       "      <th>32</th>\n",
       "      <td>4</td>\n",
       "      <td>4</td>\n",
       "      <td>7MY-MT-24-01</td>\n",
       "      <td>7MY-MT-24-01</td>\n",
       "      <td>만 트랙터</td>\n",
       "      <td>만트럭버스코리아(주)</td>\n",
       "      <td>TGX28.4806X2-2BLS</td>\n",
       "      <td>D2676LF05</td>\n",
       "      <td>무</td>\n",
       "      <td>무</td>\n",
       "      <td>유로 4 배출가스 기준 엔진 장착된 경유 차량</td>\n",
       "    </tr>\n",
       "  </tbody>\n",
       "</table>\n",
       "</div>"
      ],
      "text/plain": [
       "    등급(현재)  등급(수정)      배인번호(현재)      배인번호(수정)     차명          제작사  \\\n",
       "29       4       4  7MY-MT-24-01  7MY-MT-24-01  만 트랙터  만트럭버스코리아(주)   \n",
       "30       4       4  7MY-MT-24-01  7MY-MT-24-01  만 트랙터  만트럭버스코리아(주)   \n",
       "31       4       4  7MY-MT-24-01  7MY-MT-24-01  만 트랙터  만트럭버스코리아(주)   \n",
       "32       4       4  7MY-MT-24-01  7MY-MT-24-01  만 트랙터  만트럭버스코리아(주)   \n",
       "\n",
       "                자동차형식       엔진형식 DPF유무(현재) DPF유무(수정)  \\\n",
       "29    TGA26.4806X4BLS  D2676LF01         무         무   \n",
       "30  TGA28.4806X2-2BLS  D2676LF01         무         무   \n",
       "31    TGX26.4806X4BLS  D2676LF05         무         무   \n",
       "32  TGX28.4806X2-2BLS  D2676LF05         무         무   \n",
       "\n",
       "                           기타  \n",
       "29  유로 4 배출가스 기준 엔진 장착된 경유 차량  \n",
       "30  유로 4 배출가스 기준 엔진 장착된 경유 차량  \n",
       "31  유로 4 배출가스 기준 엔진 장착된 경유 차량  \n",
       "32  유로 4 배출가스 기준 엔진 장착된 경유 차량  "
      ]
     },
     "execution_count": 19,
     "metadata": {},
     "output_type": "execute_result"
    }
   ],
   "source": [
    "mod[mod['배인번호(수정)'] == '7MY-MT-24-01']"
   ]
  },
  {
   "cell_type": "code",
   "execution_count": 20,
   "metadata": {},
   "outputs": [
    {
     "data": {
      "text/plain": [
       "array(['TGA26.4806X4BLS', 'TGA28.4806X2-2BLS', 'TGX26.4806X4BLS',\n",
       "       'TGX28.4806X2-2BLS'], dtype=object)"
      ]
     },
     "execution_count": 20,
     "metadata": {},
     "output_type": "execute_result"
    }
   ],
   "source": [
    "mod.loc[mod['배인번호(수정)'] == '7MY-MT-24-01', '자동차형식'].unique()"
   ]
  },
  {
   "cell_type": "code",
   "execution_count": 21,
   "metadata": {},
   "outputs": [
    {
     "data": {
      "text/plain": [
       "array(['D2676LF01', 'D2676LF05'], dtype=object)"
      ]
     },
     "execution_count": 21,
     "metadata": {},
     "output_type": "execute_result"
    }
   ],
   "source": [
    "mod.loc[mod['배인번호(수정)'] == '7MY-MT-24-01', '엔진형식'].unique()"
   ]
  },
  {
   "cell_type": "code",
   "execution_count": 24,
   "metadata": {},
   "outputs": [
    {
     "data": {
      "text/plain": [
       "array(['TGX28.4806X2-2BLS', 'TGA26.4806X4BLS', 'TGA28.4806X2-2BLS',\n",
       "       'TGX26.4806X4BLS'], dtype=object)"
      ]
     },
     "execution_count": 24,
     "metadata": {},
     "output_type": "execute_result"
    }
   ],
   "source": [
    "df.loc[df['배출가스인증번호'] == '7MY-MT-24-01', '자동차형식'].unique()"
   ]
  },
  {
   "cell_type": "code",
   "execution_count": 26,
   "metadata": {},
   "outputs": [
    {
     "data": {
      "text/plain": [
       "array(['D2676LF05', 'D2676LF01'], dtype=object)"
      ]
     },
     "execution_count": 26,
     "metadata": {},
     "output_type": "execute_result"
    }
   ],
   "source": [
    "df.loc[df['배출가스인증번호'] == '7MY-MT-24-01', '엔진형식'].unique()"
   ]
  },
  {
   "attachments": {},
   "cell_type": "markdown",
   "metadata": {},
   "source": [
    "# 수정사항 반영"
   ]
  },
  {
   "cell_type": "code",
   "execution_count": 15,
   "metadata": {},
   "outputs": [],
   "source": [
    "# 매칭조건 컬럼 : '배출가스인증번호', '자동차형식', '엔진형식'\n",
    "# 수정할 컬럼 : '배출가스인증번호', '등급', 'DPF유무'"
   ]
  },
  {
   "cell_type": "code",
   "execution_count": 16,
   "metadata": {},
   "outputs": [],
   "source": [
    "# 확인 샘플\n",
    "# 수정\n",
    "# '등급', 배출가스인증번호, 차명, 제작사명, 자동차형식, 엔진형식, 'DPF유무'\n",
    "# 전 : 4, 4MY-DC-33, 대우11.5톤장축카고트럭(DPF), 타타대우상용차(주), K9ARF5, DV11, 무\n",
    "# 후 : 5, 6MY-DC-23-17(적용X), 대우11.5톤장축카고트럭(DPF), 타타대우상용차(주), K9ARF5, DV11, 유"
   ]
  },
  {
   "cell_type": "code",
   "execution_count": 28,
   "metadata": {},
   "outputs": [
    {
     "data": {
      "text/html": [
       "<div>\n",
       "<style scoped>\n",
       "    .dataframe tbody tr th:only-of-type {\n",
       "        vertical-align: middle;\n",
       "    }\n",
       "\n",
       "    .dataframe tbody tr th {\n",
       "        vertical-align: top;\n",
       "    }\n",
       "\n",
       "    .dataframe thead th {\n",
       "        text-align: right;\n",
       "    }\n",
       "</style>\n",
       "<table border=\"1\" class=\"dataframe\">\n",
       "  <thead>\n",
       "    <tr style=\"text-align: right;\">\n",
       "      <th></th>\n",
       "      <th>배출가스인증번호</th>\n",
       "      <th>등급</th>\n",
       "      <th>차명</th>\n",
       "      <th>자동차형식</th>\n",
       "      <th>제작사명</th>\n",
       "      <th>엔진형식</th>\n",
       "    </tr>\n",
       "  </thead>\n",
       "  <tbody>\n",
       "    <tr>\n",
       "      <th>0</th>\n",
       "      <td>XMY-HD-48</td>\n",
       "      <td>4</td>\n",
       "      <td>베르나</td>\n",
       "      <td>LC4-15DM-1</td>\n",
       "      <td>현대자동차(주)</td>\n",
       "      <td>G4EC</td>\n",
       "    </tr>\n",
       "    <tr>\n",
       "      <th>1</th>\n",
       "      <td>9MY-KM-14-41</td>\n",
       "      <td>4</td>\n",
       "      <td>카니발</td>\n",
       "      <td>VQS96BB-G</td>\n",
       "      <td>기아자동차(주)</td>\n",
       "      <td>D4HB</td>\n",
       "    </tr>\n",
       "    <tr>\n",
       "      <th>2</th>\n",
       "      <td>7MY-SY-14-60</td>\n",
       "      <td>4</td>\n",
       "      <td>액티언스포츠</td>\n",
       "      <td>Q5D20A2-008D</td>\n",
       "      <td>쌍용자동차(주)</td>\n",
       "      <td>664951</td>\n",
       "    </tr>\n",
       "    <tr>\n",
       "      <th>3</th>\n",
       "      <td>NaN</td>\n",
       "      <td>4</td>\n",
       "      <td>체어맨</td>\n",
       "      <td>W-GA32-5</td>\n",
       "      <td>쌍용자동차(주)</td>\n",
       "      <td>162</td>\n",
       "    </tr>\n",
       "    <tr>\n",
       "      <th>4</th>\n",
       "      <td>9MY-KM-14-22</td>\n",
       "      <td>4</td>\n",
       "      <td>쏘렌토</td>\n",
       "      <td>XM75BA-S</td>\n",
       "      <td>기아자동차(주)</td>\n",
       "      <td>D4HA</td>\n",
       "    </tr>\n",
       "    <tr>\n",
       "      <th>5</th>\n",
       "      <td>NaN</td>\n",
       "      <td>4</td>\n",
       "      <td>프라이드</td>\n",
       "      <td>B3-23LX</td>\n",
       "      <td>기아자동차(주)</td>\n",
       "      <td>B3</td>\n",
       "    </tr>\n",
       "  </tbody>\n",
       "</table>\n",
       "</div>"
      ],
      "text/plain": [
       "       배출가스인증번호  등급      차명         자동차형식      제작사명    엔진형식\n",
       "0     XMY-HD-48   4     베르나    LC4-15DM-1  현대자동차(주)    G4EC\n",
       "1  9MY-KM-14-41   4     카니발     VQS96BB-G  기아자동차(주)    D4HB\n",
       "2  7MY-SY-14-60   4  액티언스포츠  Q5D20A2-008D  쌍용자동차(주)  664951\n",
       "3           NaN   4     체어맨      W-GA32-5  쌍용자동차(주)     162\n",
       "4  9MY-KM-14-22   4     쏘렌토      XM75BA-S  기아자동차(주)    D4HA\n",
       "5           NaN   4    프라이드       B3-23LX  기아자동차(주)      B3"
      ]
     },
     "execution_count": 28,
     "metadata": {},
     "output_type": "execute_result"
    }
   ],
   "source": [
    "df.loc[:5, ['배출가스인증번호', '등급', '차명', '자동차형식', '제작사명', '엔진형식']]"
   ]
  },
  {
   "cell_type": "code",
   "execution_count": 29,
   "metadata": {},
   "outputs": [
    {
     "data": {
      "text/html": [
       "<div>\n",
       "<style scoped>\n",
       "    .dataframe tbody tr th:only-of-type {\n",
       "        vertical-align: middle;\n",
       "    }\n",
       "\n",
       "    .dataframe tbody tr th {\n",
       "        vertical-align: top;\n",
       "    }\n",
       "\n",
       "    .dataframe thead th {\n",
       "        text-align: right;\n",
       "    }\n",
       "</style>\n",
       "<table border=\"1\" class=\"dataframe\">\n",
       "  <thead>\n",
       "    <tr style=\"text-align: right;\">\n",
       "      <th></th>\n",
       "      <th>배출가스인증번호</th>\n",
       "      <th>등급</th>\n",
       "      <th>차명</th>\n",
       "      <th>자동차형식</th>\n",
       "      <th>제작사명</th>\n",
       "      <th>엔진형식</th>\n",
       "    </tr>\n",
       "  </thead>\n",
       "  <tbody>\n",
       "    <tr>\n",
       "      <th>98172</th>\n",
       "      <td>4MY-DC-33</td>\n",
       "      <td>4</td>\n",
       "      <td>대우11.5톤장축카고트럭(DPF)</td>\n",
       "      <td>K9ARF5</td>\n",
       "      <td>타타대우상용차(주)</td>\n",
       "      <td>DV11</td>\n",
       "    </tr>\n",
       "    <tr>\n",
       "      <th>127271</th>\n",
       "      <td>4MY-DC-33</td>\n",
       "      <td>4</td>\n",
       "      <td>대우11.5톤장축카고트럭(DPF)</td>\n",
       "      <td>K9ARF5</td>\n",
       "      <td>타타대우상용차(주)</td>\n",
       "      <td>DV11</td>\n",
       "    </tr>\n",
       "    <tr>\n",
       "      <th>212515</th>\n",
       "      <td>4MY-DC-33</td>\n",
       "      <td>4</td>\n",
       "      <td>대우11.5톤장축카고트럭(DPF)</td>\n",
       "      <td>K9ARF5</td>\n",
       "      <td>타타대우상용차(주)</td>\n",
       "      <td>DV11</td>\n",
       "    </tr>\n",
       "    <tr>\n",
       "      <th>220527</th>\n",
       "      <td>4MY-DC-33</td>\n",
       "      <td>4</td>\n",
       "      <td>대우11.5톤장축카고트럭(DPF)</td>\n",
       "      <td>K9ARF5</td>\n",
       "      <td>타타대우상용차(주)</td>\n",
       "      <td>DV11</td>\n",
       "    </tr>\n",
       "    <tr>\n",
       "      <th>455562</th>\n",
       "      <td>4MY-DC-33</td>\n",
       "      <td>4</td>\n",
       "      <td>대우11.5톤장축카고트럭(DPF)</td>\n",
       "      <td>K9ARF5</td>\n",
       "      <td>타타대우상용차(주)</td>\n",
       "      <td>DV11</td>\n",
       "    </tr>\n",
       "    <tr>\n",
       "      <th>630759</th>\n",
       "      <td>4MY-DC-33</td>\n",
       "      <td>4</td>\n",
       "      <td>대우11.5톤장축카고트럭(DPF)</td>\n",
       "      <td>K9ARF5</td>\n",
       "      <td>타타대우상용차(주)</td>\n",
       "      <td>DV11</td>\n",
       "    </tr>\n",
       "    <tr>\n",
       "      <th>928757</th>\n",
       "      <td>4MY-DC-33</td>\n",
       "      <td>4</td>\n",
       "      <td>대우11.5톤장축카고트럭(DPF)</td>\n",
       "      <td>K9ARF5</td>\n",
       "      <td>타타대우상용차(주)</td>\n",
       "      <td>DV11</td>\n",
       "    </tr>\n",
       "  </tbody>\n",
       "</table>\n",
       "</div>"
      ],
      "text/plain": [
       "         배출가스인증번호  등급                  차명   자동차형식        제작사명  엔진형식\n",
       "98172   4MY-DC-33   4  대우11.5톤장축카고트럭(DPF)  K9ARF5  타타대우상용차(주)  DV11\n",
       "127271  4MY-DC-33   4  대우11.5톤장축카고트럭(DPF)  K9ARF5  타타대우상용차(주)  DV11\n",
       "212515  4MY-DC-33   4  대우11.5톤장축카고트럭(DPF)  K9ARF5  타타대우상용차(주)  DV11\n",
       "220527  4MY-DC-33   4  대우11.5톤장축카고트럭(DPF)  K9ARF5  타타대우상용차(주)  DV11\n",
       "455562  4MY-DC-33   4  대우11.5톤장축카고트럭(DPF)  K9ARF5  타타대우상용차(주)  DV11\n",
       "630759  4MY-DC-33   4  대우11.5톤장축카고트럭(DPF)  K9ARF5  타타대우상용차(주)  DV11\n",
       "928757  4MY-DC-33   4  대우11.5톤장축카고트럭(DPF)  K9ARF5  타타대우상용차(주)  DV11"
      ]
     },
     "execution_count": 29,
     "metadata": {},
     "output_type": "execute_result"
    }
   ],
   "source": [
    "df.loc[df['배출가스인증번호'] == '4MY-DC-33', ['배출가스인증번호', '등급', '차명', '자동차형식', '제작사명', '엔진형식']]"
   ]
  },
  {
   "cell_type": "code",
   "execution_count": 19,
   "metadata": {},
   "outputs": [],
   "source": [
    "# 확인 샘플\n",
    "# 수정\n",
    "# 등급, 배출가스인증번호, 차명, 제작사명, 자동차형식, 엔진형식, 'DPF유무'\n",
    "# 전 : 4, 7MY-MT-24-01, 만 트랙터, 만트럭버스코리아(주), TGA28.4806X2-2BLS, D2676LF05, 무\n",
    "# 후 : 4, 7MY-MT-24-01, 만 트랙터, 만트럭버스코리아(주), TGA28.4806X2-2BLS, D2676LF05, 유"
   ]
  },
  {
   "cell_type": "code",
   "execution_count": 30,
   "metadata": {},
   "outputs": [
    {
     "data": {
      "text/html": [
       "<div>\n",
       "<style scoped>\n",
       "    .dataframe tbody tr th:only-of-type {\n",
       "        vertical-align: middle;\n",
       "    }\n",
       "\n",
       "    .dataframe tbody tr th {\n",
       "        vertical-align: top;\n",
       "    }\n",
       "\n",
       "    .dataframe thead th {\n",
       "        text-align: right;\n",
       "    }\n",
       "</style>\n",
       "<table border=\"1\" class=\"dataframe\">\n",
       "  <thead>\n",
       "    <tr style=\"text-align: right;\">\n",
       "      <th></th>\n",
       "      <th>배출가스인증번호</th>\n",
       "      <th>등급</th>\n",
       "      <th>차명</th>\n",
       "      <th>자동차형식</th>\n",
       "      <th>제작사명</th>\n",
       "      <th>엔진형식</th>\n",
       "    </tr>\n",
       "  </thead>\n",
       "  <tbody>\n",
       "    <tr>\n",
       "      <th>3164</th>\n",
       "      <td>7MY-MT-24-01</td>\n",
       "      <td>4</td>\n",
       "      <td>만 트랙터</td>\n",
       "      <td>TGX28.4806X2-2BLS</td>\n",
       "      <td>만트럭버스코리아(주)</td>\n",
       "      <td>D2676LF05</td>\n",
       "    </tr>\n",
       "    <tr>\n",
       "      <th>4739</th>\n",
       "      <td>7MY-MT-24-01</td>\n",
       "      <td>4</td>\n",
       "      <td>만 트랙터</td>\n",
       "      <td>TGX28.4806X2-2BLS</td>\n",
       "      <td>만트럭버스코리아(주)</td>\n",
       "      <td>D2676LF05</td>\n",
       "    </tr>\n",
       "    <tr>\n",
       "      <th>38915</th>\n",
       "      <td>7MY-MT-24-01</td>\n",
       "      <td>4</td>\n",
       "      <td>만 트랙터</td>\n",
       "      <td>TGX28.4806X2-2BLS</td>\n",
       "      <td>만트럭버스코리아(주)</td>\n",
       "      <td>D2676LF05</td>\n",
       "    </tr>\n",
       "    <tr>\n",
       "      <th>40371</th>\n",
       "      <td>7MY-MT-24-01</td>\n",
       "      <td>4</td>\n",
       "      <td>만 트랙터</td>\n",
       "      <td>TGX28.4806X2-2BLS</td>\n",
       "      <td>만트럭버스코리아(주)</td>\n",
       "      <td>D2676LF05</td>\n",
       "    </tr>\n",
       "    <tr>\n",
       "      <th>42900</th>\n",
       "      <td>7MY-MT-24-01</td>\n",
       "      <td>4</td>\n",
       "      <td>만 트랙터</td>\n",
       "      <td>TGX28.4806X2-2BLS</td>\n",
       "      <td>만트럭버스코리아(주)</td>\n",
       "      <td>D2676LF05</td>\n",
       "    </tr>\n",
       "    <tr>\n",
       "      <th>...</th>\n",
       "      <td>...</td>\n",
       "      <td>...</td>\n",
       "      <td>...</td>\n",
       "      <td>...</td>\n",
       "      <td>...</td>\n",
       "      <td>...</td>\n",
       "    </tr>\n",
       "    <tr>\n",
       "      <th>1478414</th>\n",
       "      <td>7MY-MT-24-01</td>\n",
       "      <td>4</td>\n",
       "      <td>만 트랙터</td>\n",
       "      <td>TGX28.4806X2-2BLS</td>\n",
       "      <td>만트럭버스코리아(주)</td>\n",
       "      <td>D2676LF05</td>\n",
       "    </tr>\n",
       "    <tr>\n",
       "      <th>1482306</th>\n",
       "      <td>7MY-MT-24-01</td>\n",
       "      <td>4</td>\n",
       "      <td>만 트랙터</td>\n",
       "      <td>TGX28.4806X2-2BLS</td>\n",
       "      <td>만트럭버스코리아(주)</td>\n",
       "      <td>D2676LF05</td>\n",
       "    </tr>\n",
       "    <tr>\n",
       "      <th>1491339</th>\n",
       "      <td>7MY-MT-24-01</td>\n",
       "      <td>4</td>\n",
       "      <td>만 트랙터</td>\n",
       "      <td>TGX28.4806X2-2BLS</td>\n",
       "      <td>만트럭버스코리아(주)</td>\n",
       "      <td>D2676LF05</td>\n",
       "    </tr>\n",
       "    <tr>\n",
       "      <th>1493197</th>\n",
       "      <td>7MY-MT-24-01</td>\n",
       "      <td>4</td>\n",
       "      <td>만 트랙터</td>\n",
       "      <td>TGX28.4806X2-2BLS</td>\n",
       "      <td>만트럭버스코리아(주)</td>\n",
       "      <td>D2676LF05</td>\n",
       "    </tr>\n",
       "    <tr>\n",
       "      <th>1501861</th>\n",
       "      <td>7MY-MT-24-01</td>\n",
       "      <td>4</td>\n",
       "      <td>만 트랙터</td>\n",
       "      <td>TGX28.4806X2-2BLS</td>\n",
       "      <td>만트럭버스코리아(주)</td>\n",
       "      <td>D2676LF05</td>\n",
       "    </tr>\n",
       "  </tbody>\n",
       "</table>\n",
       "<p>293 rows × 6 columns</p>\n",
       "</div>"
      ],
      "text/plain": [
       "             배출가스인증번호  등급     차명              자동차형식         제작사명       엔진형식\n",
       "3164     7MY-MT-24-01   4  만 트랙터  TGX28.4806X2-2BLS  만트럭버스코리아(주)  D2676LF05\n",
       "4739     7MY-MT-24-01   4  만 트랙터  TGX28.4806X2-2BLS  만트럭버스코리아(주)  D2676LF05\n",
       "38915    7MY-MT-24-01   4  만 트랙터  TGX28.4806X2-2BLS  만트럭버스코리아(주)  D2676LF05\n",
       "40371    7MY-MT-24-01   4  만 트랙터  TGX28.4806X2-2BLS  만트럭버스코리아(주)  D2676LF05\n",
       "42900    7MY-MT-24-01   4  만 트랙터  TGX28.4806X2-2BLS  만트럭버스코리아(주)  D2676LF05\n",
       "...               ...  ..    ...                ...          ...        ...\n",
       "1478414  7MY-MT-24-01   4  만 트랙터  TGX28.4806X2-2BLS  만트럭버스코리아(주)  D2676LF05\n",
       "1482306  7MY-MT-24-01   4  만 트랙터  TGX28.4806X2-2BLS  만트럭버스코리아(주)  D2676LF05\n",
       "1491339  7MY-MT-24-01   4  만 트랙터  TGX28.4806X2-2BLS  만트럭버스코리아(주)  D2676LF05\n",
       "1493197  7MY-MT-24-01   4  만 트랙터  TGX28.4806X2-2BLS  만트럭버스코리아(주)  D2676LF05\n",
       "1501861  7MY-MT-24-01   4  만 트랙터  TGX28.4806X2-2BLS  만트럭버스코리아(주)  D2676LF05\n",
       "\n",
       "[293 rows x 6 columns]"
      ]
     },
     "execution_count": 30,
     "metadata": {},
     "output_type": "execute_result"
    }
   ],
   "source": [
    "df.loc[df['배출가스인증번호'] == '7MY-MT-24-01', ['배출가스인증번호', '등급', '차명', '자동차형식', '제작사명', '엔진형식']]"
   ]
  },
  {
   "cell_type": "code",
   "execution_count": 31,
   "metadata": {},
   "outputs": [],
   "source": [
    "df['제작사확인_DPF유무'] = np.nan\n",
    "df['확인유무'] = np.nan\n",
    "df['비고'] = np.nan"
   ]
  },
  {
   "cell_type": "code",
   "execution_count": 33,
   "metadata": {},
   "outputs": [
    {
     "data": {
      "text/html": [
       "<div>\n",
       "<style scoped>\n",
       "    .dataframe tbody tr th:only-of-type {\n",
       "        vertical-align: middle;\n",
       "    }\n",
       "\n",
       "    .dataframe tbody tr th {\n",
       "        vertical-align: top;\n",
       "    }\n",
       "\n",
       "    .dataframe thead th {\n",
       "        text-align: right;\n",
       "    }\n",
       "</style>\n",
       "<table border=\"1\" class=\"dataframe\">\n",
       "  <thead>\n",
       "    <tr style=\"text-align: right;\">\n",
       "      <th></th>\n",
       "      <th>배출가스인증번호</th>\n",
       "      <th>등급</th>\n",
       "      <th>차명</th>\n",
       "      <th>자동차형식</th>\n",
       "      <th>제작사명</th>\n",
       "      <th>엔진형식</th>\n",
       "      <th>제작사확인_DPF유무</th>\n",
       "      <th>확인유무</th>\n",
       "      <th>비고</th>\n",
       "    </tr>\n",
       "  </thead>\n",
       "  <tbody>\n",
       "    <tr>\n",
       "      <th>0</th>\n",
       "      <td>XMY-HD-48</td>\n",
       "      <td>4</td>\n",
       "      <td>베르나</td>\n",
       "      <td>LC4-15DM-1</td>\n",
       "      <td>현대자동차(주)</td>\n",
       "      <td>G4EC</td>\n",
       "      <td>NaN</td>\n",
       "      <td>NaN</td>\n",
       "      <td>NaN</td>\n",
       "    </tr>\n",
       "    <tr>\n",
       "      <th>1</th>\n",
       "      <td>9MY-KM-14-41</td>\n",
       "      <td>4</td>\n",
       "      <td>카니발</td>\n",
       "      <td>VQS96BB-G</td>\n",
       "      <td>기아자동차(주)</td>\n",
       "      <td>D4HB</td>\n",
       "      <td>NaN</td>\n",
       "      <td>NaN</td>\n",
       "      <td>NaN</td>\n",
       "    </tr>\n",
       "    <tr>\n",
       "      <th>2</th>\n",
       "      <td>7MY-SY-14-60</td>\n",
       "      <td>4</td>\n",
       "      <td>액티언스포츠</td>\n",
       "      <td>Q5D20A2-008D</td>\n",
       "      <td>쌍용자동차(주)</td>\n",
       "      <td>664951</td>\n",
       "      <td>NaN</td>\n",
       "      <td>NaN</td>\n",
       "      <td>NaN</td>\n",
       "    </tr>\n",
       "    <tr>\n",
       "      <th>3</th>\n",
       "      <td>NaN</td>\n",
       "      <td>4</td>\n",
       "      <td>체어맨</td>\n",
       "      <td>W-GA32-5</td>\n",
       "      <td>쌍용자동차(주)</td>\n",
       "      <td>162</td>\n",
       "      <td>NaN</td>\n",
       "      <td>NaN</td>\n",
       "      <td>NaN</td>\n",
       "    </tr>\n",
       "    <tr>\n",
       "      <th>4</th>\n",
       "      <td>9MY-KM-14-22</td>\n",
       "      <td>4</td>\n",
       "      <td>쏘렌토</td>\n",
       "      <td>XM75BA-S</td>\n",
       "      <td>기아자동차(주)</td>\n",
       "      <td>D4HA</td>\n",
       "      <td>NaN</td>\n",
       "      <td>NaN</td>\n",
       "      <td>NaN</td>\n",
       "    </tr>\n",
       "  </tbody>\n",
       "</table>\n",
       "</div>"
      ],
      "text/plain": [
       "       배출가스인증번호  등급      차명         자동차형식      제작사명    엔진형식  제작사확인_DPF유무  \\\n",
       "0     XMY-HD-48   4     베르나    LC4-15DM-1  현대자동차(주)    G4EC          NaN   \n",
       "1  9MY-KM-14-41   4     카니발     VQS96BB-G  기아자동차(주)    D4HB          NaN   \n",
       "2  7MY-SY-14-60   4  액티언스포츠  Q5D20A2-008D  쌍용자동차(주)  664951          NaN   \n",
       "3           NaN   4     체어맨      W-GA32-5  쌍용자동차(주)     162          NaN   \n",
       "4  9MY-KM-14-22   4     쏘렌토      XM75BA-S  기아자동차(주)    D4HA          NaN   \n",
       "\n",
       "   확인유무  비고  \n",
       "0   NaN NaN  \n",
       "1   NaN NaN  \n",
       "2   NaN NaN  \n",
       "3   NaN NaN  \n",
       "4   NaN NaN  "
      ]
     },
     "execution_count": 33,
     "metadata": {},
     "output_type": "execute_result"
    }
   ],
   "source": [
    "df[['배출가스인증번호', '등급', '차명', '자동차형식', '제작사명', '엔진형식', '제작사확인_DPF유무', '확인유무', '비고']].head()"
   ]
  },
  {
   "cell_type": "code",
   "execution_count": 34,
   "metadata": {},
   "outputs": [
    {
     "name": "stdout",
     "output_type": "stream",
     "text": [
      "XMY-HD-48 4 LC4-15DM-1 현대자동차(주)\n",
      "9MY-KM-14-41 4 VQS96BB-G 기아자동차(주)\n",
      "7MY-SY-14-60 4 Q5D20A2-008D 쌍용자동차(주)\n",
      "nan 4 W-GA32-5 쌍용자동차(주)\n",
      "9MY-KM-14-22 4 XM75BA-S 기아자동차(주)\n"
     ]
    }
   ],
   "source": [
    "count = 0\n",
    "for one, two, three, four in df[['배출가스인증번호', '등급', '자동차형식', '제작사명']].values:\n",
    "    print(one, two, three, four)\n",
    "    count += 1\n",
    "    if count == 5:\n",
    "        break"
   ]
  },
  {
   "attachments": {},
   "cell_type": "markdown",
   "metadata": {},
   "source": [
    "## 수정 적용"
   ]
  },
  {
   "cell_type": "code",
   "execution_count": 35,
   "metadata": {},
   "outputs": [
    {
     "data": {
      "text/plain": [
       "3522"
      ]
     },
     "execution_count": 35,
     "metadata": {},
     "output_type": "execute_result"
    }
   ],
   "source": [
    "pick_mod = mod[['등급(수정)', '배인번호(현재)', '배인번호(수정)', '자동차형식', '엔진형식', 'DPF유무(수정)']].values\n",
    "len(pick_mod)"
   ]
  },
  {
   "cell_type": "code",
   "execution_count": 36,
   "metadata": {},
   "outputs": [
    {
     "data": {
      "text/plain": [
       "array([[4, '7MY-SM-14-36', '7MY-SM-14-36', 'H1D20-VC-0-11', 'M9R', '유'],\n",
       "       [4, '7MY-SM-14-36', '7MY-SM-14-36', 'H1D20-VC-0-12', 'M9R', '유'],\n",
       "       [4, '7MY-SM-14-36', '7MY-SM-14-36', 'H1D20-VC-0-21', 'M9R', '유'],\n",
       "       [4, '7MY-SM-14-36', '7MY-SM-14-36', 'H1D20-VC-0-22', 'M9R', '유'],\n",
       "       [4, '7MY-SM-14-36', '7MY-SM-14-36', 'H1D20-VC-0-31', 'M9R', '유']],\n",
       "      dtype=object)"
      ]
     },
     "execution_count": 36,
     "metadata": {},
     "output_type": "execute_result"
    }
   ],
   "source": [
    "pick_mod[:5]"
   ]
  },
  {
   "cell_type": "code",
   "execution_count": 37,
   "metadata": {},
   "outputs": [
    {
     "data": {
      "text/plain": [
       "array([[4, '7MY-AD-14-04', '7MY-AD-14-04', '4F', 'BPP', '유'],\n",
       "       [4, '8MY-AD-14-03', '8MY-AD-14-03', '5N', 'CBA', '유'],\n",
       "       [4, '8MY-AD-14-09', '8MY-AD-14-09', '3C', 'CBB', '유'],\n",
       "       [4, '8MY-AD-14-09', '8MY-AD-14-09', '3CC', 'CBB', '유'],\n",
       "       [4, '9MY-AD-14-04', '9MY-AD-14-04', '8R', 'CAH', '유']],\n",
       "      dtype=object)"
      ]
     },
     "execution_count": 37,
     "metadata": {},
     "output_type": "execute_result"
    }
   ],
   "source": [
    "pick_mod[-5:]"
   ]
  },
  {
   "cell_type": "code",
   "execution_count": 38,
   "metadata": {},
   "outputs": [
    {
     "name": "stderr",
     "output_type": "stream",
     "text": [
      "100%|██████████| 3522/3522 [14:20<00:00,  4.09it/s]\n"
     ]
    }
   ],
   "source": [
    "# about 5m 1s\n",
    "# for m_grade, p_emis, m_emis, car_form, engine_form, m_dpf in tqdm(zip(mod['등급(수정)'], mod['배인번호(현재)'], mod['배인번호(수정)'], mod['자동차형식'], mod['엔진형식'], mod['DPF유무(수정)'])):\n",
    "for m_grade, p_emis, m_emis, car_form, engine_form, m_dpf in tqdm(pick_mod):\n",
    "    df.loc[(df['배출가스인증번호'] == p_emis) & (df['자동차형식'] == car_form) & (df['엔진형식'] == engine_form), ['등급', '제작사확인_DPF유무', '확인유무']] = [m_grade, m_dpf, 'Y']"
   ]
  },
  {
   "cell_type": "code",
   "execution_count": 40,
   "metadata": {},
   "outputs": [
    {
     "data": {
      "text/html": [
       "<div>\n",
       "<style scoped>\n",
       "    .dataframe tbody tr th:only-of-type {\n",
       "        vertical-align: middle;\n",
       "    }\n",
       "\n",
       "    .dataframe tbody tr th {\n",
       "        vertical-align: top;\n",
       "    }\n",
       "\n",
       "    .dataframe thead th {\n",
       "        text-align: right;\n",
       "    }\n",
       "</style>\n",
       "<table border=\"1\" class=\"dataframe\">\n",
       "  <thead>\n",
       "    <tr style=\"text-align: right;\">\n",
       "      <th></th>\n",
       "      <th>배출가스인증번호</th>\n",
       "      <th>등급</th>\n",
       "      <th>차명</th>\n",
       "      <th>자동차형식</th>\n",
       "      <th>제작사명</th>\n",
       "      <th>엔진형식</th>\n",
       "      <th>제작사확인_DPF유무</th>\n",
       "      <th>확인유무</th>\n",
       "      <th>비고</th>\n",
       "    </tr>\n",
       "  </thead>\n",
       "  <tbody>\n",
       "    <tr>\n",
       "      <th>98172</th>\n",
       "      <td>4MY-DC-33</td>\n",
       "      <td>5</td>\n",
       "      <td>대우11.5톤장축카고트럭(DPF)</td>\n",
       "      <td>K9ARF5</td>\n",
       "      <td>타타대우상용차(주)</td>\n",
       "      <td>DV11</td>\n",
       "      <td>유</td>\n",
       "      <td>Y</td>\n",
       "      <td>NaN</td>\n",
       "    </tr>\n",
       "    <tr>\n",
       "      <th>127271</th>\n",
       "      <td>4MY-DC-33</td>\n",
       "      <td>5</td>\n",
       "      <td>대우11.5톤장축카고트럭(DPF)</td>\n",
       "      <td>K9ARF5</td>\n",
       "      <td>타타대우상용차(주)</td>\n",
       "      <td>DV11</td>\n",
       "      <td>유</td>\n",
       "      <td>Y</td>\n",
       "      <td>NaN</td>\n",
       "    </tr>\n",
       "    <tr>\n",
       "      <th>212515</th>\n",
       "      <td>4MY-DC-33</td>\n",
       "      <td>5</td>\n",
       "      <td>대우11.5톤장축카고트럭(DPF)</td>\n",
       "      <td>K9ARF5</td>\n",
       "      <td>타타대우상용차(주)</td>\n",
       "      <td>DV11</td>\n",
       "      <td>유</td>\n",
       "      <td>Y</td>\n",
       "      <td>NaN</td>\n",
       "    </tr>\n",
       "    <tr>\n",
       "      <th>220527</th>\n",
       "      <td>4MY-DC-33</td>\n",
       "      <td>5</td>\n",
       "      <td>대우11.5톤장축카고트럭(DPF)</td>\n",
       "      <td>K9ARF5</td>\n",
       "      <td>타타대우상용차(주)</td>\n",
       "      <td>DV11</td>\n",
       "      <td>유</td>\n",
       "      <td>Y</td>\n",
       "      <td>NaN</td>\n",
       "    </tr>\n",
       "    <tr>\n",
       "      <th>455562</th>\n",
       "      <td>4MY-DC-33</td>\n",
       "      <td>5</td>\n",
       "      <td>대우11.5톤장축카고트럭(DPF)</td>\n",
       "      <td>K9ARF5</td>\n",
       "      <td>타타대우상용차(주)</td>\n",
       "      <td>DV11</td>\n",
       "      <td>유</td>\n",
       "      <td>Y</td>\n",
       "      <td>NaN</td>\n",
       "    </tr>\n",
       "    <tr>\n",
       "      <th>630759</th>\n",
       "      <td>4MY-DC-33</td>\n",
       "      <td>5</td>\n",
       "      <td>대우11.5톤장축카고트럭(DPF)</td>\n",
       "      <td>K9ARF5</td>\n",
       "      <td>타타대우상용차(주)</td>\n",
       "      <td>DV11</td>\n",
       "      <td>유</td>\n",
       "      <td>Y</td>\n",
       "      <td>NaN</td>\n",
       "    </tr>\n",
       "    <tr>\n",
       "      <th>928757</th>\n",
       "      <td>4MY-DC-33</td>\n",
       "      <td>5</td>\n",
       "      <td>대우11.5톤장축카고트럭(DPF)</td>\n",
       "      <td>K9ARF5</td>\n",
       "      <td>타타대우상용차(주)</td>\n",
       "      <td>DV11</td>\n",
       "      <td>유</td>\n",
       "      <td>Y</td>\n",
       "      <td>NaN</td>\n",
       "    </tr>\n",
       "  </tbody>\n",
       "</table>\n",
       "</div>"
      ],
      "text/plain": [
       "         배출가스인증번호  등급                  차명   자동차형식        제작사명  엔진형식  \\\n",
       "98172   4MY-DC-33   5  대우11.5톤장축카고트럭(DPF)  K9ARF5  타타대우상용차(주)  DV11   \n",
       "127271  4MY-DC-33   5  대우11.5톤장축카고트럭(DPF)  K9ARF5  타타대우상용차(주)  DV11   \n",
       "212515  4MY-DC-33   5  대우11.5톤장축카고트럭(DPF)  K9ARF5  타타대우상용차(주)  DV11   \n",
       "220527  4MY-DC-33   5  대우11.5톤장축카고트럭(DPF)  K9ARF5  타타대우상용차(주)  DV11   \n",
       "455562  4MY-DC-33   5  대우11.5톤장축카고트럭(DPF)  K9ARF5  타타대우상용차(주)  DV11   \n",
       "630759  4MY-DC-33   5  대우11.5톤장축카고트럭(DPF)  K9ARF5  타타대우상용차(주)  DV11   \n",
       "928757  4MY-DC-33   5  대우11.5톤장축카고트럭(DPF)  K9ARF5  타타대우상용차(주)  DV11   \n",
       "\n",
       "       제작사확인_DPF유무 확인유무  비고  \n",
       "98172            유    Y NaN  \n",
       "127271           유    Y NaN  \n",
       "212515           유    Y NaN  \n",
       "220527           유    Y NaN  \n",
       "455562           유    Y NaN  \n",
       "630759           유    Y NaN  \n",
       "928757           유    Y NaN  "
      ]
     },
     "execution_count": 40,
     "metadata": {},
     "output_type": "execute_result"
    }
   ],
   "source": [
    "df.loc[df['배출가스인증번호'] == '4MY-DC-33', ['배출가스인증번호', '등급', '차명', '자동차형식', '제작사명', '엔진형식', '제작사확인_DPF유무', '확인유무', '비고']]"
   ]
  },
  {
   "cell_type": "code",
   "execution_count": 50,
   "metadata": {},
   "outputs": [
    {
     "data": {
      "text/html": [
       "<div>\n",
       "<style scoped>\n",
       "    .dataframe tbody tr th:only-of-type {\n",
       "        vertical-align: middle;\n",
       "    }\n",
       "\n",
       "    .dataframe tbody tr th {\n",
       "        vertical-align: top;\n",
       "    }\n",
       "\n",
       "    .dataframe thead th {\n",
       "        text-align: right;\n",
       "    }\n",
       "</style>\n",
       "<table border=\"1\" class=\"dataframe\">\n",
       "  <thead>\n",
       "    <tr style=\"text-align: right;\">\n",
       "      <th></th>\n",
       "      <th>배출가스인증번호</th>\n",
       "      <th>등급</th>\n",
       "      <th>차명</th>\n",
       "      <th>자동차형식</th>\n",
       "      <th>제작사명</th>\n",
       "      <th>엔진형식</th>\n",
       "      <th>제작사확인_DPF유무</th>\n",
       "      <th>확인유무</th>\n",
       "      <th>비고</th>\n",
       "    </tr>\n",
       "  </thead>\n",
       "  <tbody>\n",
       "    <tr>\n",
       "      <th>1613</th>\n",
       "      <td>9MY-AD-14-04</td>\n",
       "      <td>4</td>\n",
       "      <td>Q5 2.0 TDI quattro</td>\n",
       "      <td>8R</td>\n",
       "      <td>아우디폭스바겐코리아(주)</td>\n",
       "      <td>CAH</td>\n",
       "      <td>유</td>\n",
       "      <td>Y</td>\n",
       "      <td>NaN</td>\n",
       "    </tr>\n",
       "    <tr>\n",
       "      <th>3168</th>\n",
       "      <td>9MY-AD-14-04</td>\n",
       "      <td>4</td>\n",
       "      <td>Q5 2.0 TDI quattro</td>\n",
       "      <td>8R</td>\n",
       "      <td>아우디폭스바겐코리아(주)</td>\n",
       "      <td>CAH</td>\n",
       "      <td>유</td>\n",
       "      <td>Y</td>\n",
       "      <td>NaN</td>\n",
       "    </tr>\n",
       "    <tr>\n",
       "      <th>3637</th>\n",
       "      <td>9MY-AD-14-04</td>\n",
       "      <td>4</td>\n",
       "      <td>Q5 2.0 TDI quattro</td>\n",
       "      <td>8R</td>\n",
       "      <td>아우디폭스바겐코리아(주)</td>\n",
       "      <td>CAH</td>\n",
       "      <td>유</td>\n",
       "      <td>Y</td>\n",
       "      <td>NaN</td>\n",
       "    </tr>\n",
       "    <tr>\n",
       "      <th>5370</th>\n",
       "      <td>9MY-AD-14-04</td>\n",
       "      <td>4</td>\n",
       "      <td>Q5 2.0 TDI quattro</td>\n",
       "      <td>8R</td>\n",
       "      <td>아우디폭스바겐코리아(주)</td>\n",
       "      <td>CAH</td>\n",
       "      <td>유</td>\n",
       "      <td>Y</td>\n",
       "      <td>NaN</td>\n",
       "    </tr>\n",
       "    <tr>\n",
       "      <th>6497</th>\n",
       "      <td>9MY-AD-14-04</td>\n",
       "      <td>4</td>\n",
       "      <td>Q5 2.0 TDI quattro</td>\n",
       "      <td>8R</td>\n",
       "      <td>아우디폭스바겐코리아(주)</td>\n",
       "      <td>CAH</td>\n",
       "      <td>유</td>\n",
       "      <td>Y</td>\n",
       "      <td>NaN</td>\n",
       "    </tr>\n",
       "    <tr>\n",
       "      <th>...</th>\n",
       "      <td>...</td>\n",
       "      <td>...</td>\n",
       "      <td>...</td>\n",
       "      <td>...</td>\n",
       "      <td>...</td>\n",
       "      <td>...</td>\n",
       "      <td>...</td>\n",
       "      <td>...</td>\n",
       "      <td>...</td>\n",
       "    </tr>\n",
       "    <tr>\n",
       "      <th>1497242</th>\n",
       "      <td>9MY-AD-14-04</td>\n",
       "      <td>4</td>\n",
       "      <td>Q5 2.0 TDI quattro</td>\n",
       "      <td>8R</td>\n",
       "      <td>아우디폭스바겐코리아(주)</td>\n",
       "      <td>CAH</td>\n",
       "      <td>유</td>\n",
       "      <td>Y</td>\n",
       "      <td>NaN</td>\n",
       "    </tr>\n",
       "    <tr>\n",
       "      <th>1497314</th>\n",
       "      <td>9MY-AD-14-04</td>\n",
       "      <td>4</td>\n",
       "      <td>Q5 2.0 TDI Quattro</td>\n",
       "      <td>8R</td>\n",
       "      <td>아우디폭스바겐코리아(주)</td>\n",
       "      <td>CAH</td>\n",
       "      <td>유</td>\n",
       "      <td>Y</td>\n",
       "      <td>NaN</td>\n",
       "    </tr>\n",
       "    <tr>\n",
       "      <th>1498580</th>\n",
       "      <td>9MY-AD-14-04</td>\n",
       "      <td>4</td>\n",
       "      <td>Q5 2.0 TDI Quattro</td>\n",
       "      <td>8R</td>\n",
       "      <td>아우디폭스바겐코리아(주)</td>\n",
       "      <td>CAH</td>\n",
       "      <td>유</td>\n",
       "      <td>Y</td>\n",
       "      <td>NaN</td>\n",
       "    </tr>\n",
       "    <tr>\n",
       "      <th>1499715</th>\n",
       "      <td>9MY-AD-14-04</td>\n",
       "      <td>4</td>\n",
       "      <td>Q5 2.0 TDI quattro</td>\n",
       "      <td>8R</td>\n",
       "      <td>아우디폭스바겐코리아(주)</td>\n",
       "      <td>CAH</td>\n",
       "      <td>유</td>\n",
       "      <td>Y</td>\n",
       "      <td>NaN</td>\n",
       "    </tr>\n",
       "    <tr>\n",
       "      <th>1500891</th>\n",
       "      <td>9MY-AD-14-04</td>\n",
       "      <td>4</td>\n",
       "      <td>Q5 2.0 TDI quattro</td>\n",
       "      <td>8R</td>\n",
       "      <td>아우디폭스바겐코리아(주)</td>\n",
       "      <td>CAH</td>\n",
       "      <td>유</td>\n",
       "      <td>Y</td>\n",
       "      <td>NaN</td>\n",
       "    </tr>\n",
       "  </tbody>\n",
       "</table>\n",
       "<p>976 rows × 9 columns</p>\n",
       "</div>"
      ],
      "text/plain": [
       "             배출가스인증번호  등급                  차명 자동차형식           제작사명 엔진형식  \\\n",
       "1613     9MY-AD-14-04   4  Q5 2.0 TDI quattro    8R  아우디폭스바겐코리아(주)  CAH   \n",
       "3168     9MY-AD-14-04   4  Q5 2.0 TDI quattro    8R  아우디폭스바겐코리아(주)  CAH   \n",
       "3637     9MY-AD-14-04   4  Q5 2.0 TDI quattro    8R  아우디폭스바겐코리아(주)  CAH   \n",
       "5370     9MY-AD-14-04   4  Q5 2.0 TDI quattro    8R  아우디폭스바겐코리아(주)  CAH   \n",
       "6497     9MY-AD-14-04   4  Q5 2.0 TDI quattro    8R  아우디폭스바겐코리아(주)  CAH   \n",
       "...               ...  ..                 ...   ...            ...  ...   \n",
       "1497242  9MY-AD-14-04   4  Q5 2.0 TDI quattro    8R  아우디폭스바겐코리아(주)  CAH   \n",
       "1497314  9MY-AD-14-04   4  Q5 2.0 TDI Quattro    8R  아우디폭스바겐코리아(주)  CAH   \n",
       "1498580  9MY-AD-14-04   4  Q5 2.0 TDI Quattro    8R  아우디폭스바겐코리아(주)  CAH   \n",
       "1499715  9MY-AD-14-04   4  Q5 2.0 TDI quattro    8R  아우디폭스바겐코리아(주)  CAH   \n",
       "1500891  9MY-AD-14-04   4  Q5 2.0 TDI quattro    8R  아우디폭스바겐코리아(주)  CAH   \n",
       "\n",
       "        제작사확인_DPF유무 확인유무  비고  \n",
       "1613              유    Y NaN  \n",
       "3168              유    Y NaN  \n",
       "3637              유    Y NaN  \n",
       "5370              유    Y NaN  \n",
       "6497              유    Y NaN  \n",
       "...             ...  ...  ..  \n",
       "1497242           유    Y NaN  \n",
       "1497314           유    Y NaN  \n",
       "1498580           유    Y NaN  \n",
       "1499715           유    Y NaN  \n",
       "1500891           유    Y NaN  \n",
       "\n",
       "[976 rows x 9 columns]"
      ]
     },
     "execution_count": 50,
     "metadata": {},
     "output_type": "execute_result"
    }
   ],
   "source": [
    "df.loc[df['배출가스인증번호'] == '9MY-AD-14-04', ['배출가스인증번호', '등급', '차명', '자동차형식', '제작사명', '엔진형식', '제작사확인_DPF유무', '확인유무', '비고']]"
   ]
  },
  {
   "cell_type": "code",
   "execution_count": 42,
   "metadata": {},
   "outputs": [],
   "source": [
    "# df.loc[df['배출가스인증번호'] == '7MY-MT-24-01', ['배출가스인증번호', '등급', '차명_x', '자동차형식', '제작사명', '엔진형식_x', 'DPF유무', '제작사확인_DPF유무', '확인유무', '비고']].head()"
   ]
  },
  {
   "cell_type": "code",
   "execution_count": 45,
   "metadata": {},
   "outputs": [
    {
     "data": {
      "text/plain": [
       "(1502235, 31)"
      ]
     },
     "execution_count": 45,
     "metadata": {},
     "output_type": "execute_result"
    }
   ],
   "source": [
    "df.shape"
   ]
  },
  {
   "cell_type": "code",
   "execution_count": 44,
   "metadata": {},
   "outputs": [
    {
     "data": {
      "text/html": [
       "<div>\n",
       "<style scoped>\n",
       "    .dataframe tbody tr th:only-of-type {\n",
       "        vertical-align: middle;\n",
       "    }\n",
       "\n",
       "    .dataframe tbody tr th {\n",
       "        vertical-align: top;\n",
       "    }\n",
       "\n",
       "    .dataframe thead th {\n",
       "        text-align: right;\n",
       "    }\n",
       "</style>\n",
       "<table border=\"1\" class=\"dataframe\">\n",
       "  <thead>\n",
       "    <tr style=\"text-align: right;\">\n",
       "      <th></th>\n",
       "      <th>배출가스인증번호</th>\n",
       "      <th>등급</th>\n",
       "      <th>차명</th>\n",
       "      <th>자동차형식</th>\n",
       "      <th>제작사명</th>\n",
       "      <th>엔진형식</th>\n",
       "      <th>제작사확인_DPF유무</th>\n",
       "      <th>확인유무</th>\n",
       "      <th>비고</th>\n",
       "    </tr>\n",
       "  </thead>\n",
       "  <tbody>\n",
       "    <tr>\n",
       "      <th>0</th>\n",
       "      <td>XMY-HD-48</td>\n",
       "      <td>4</td>\n",
       "      <td>베르나</td>\n",
       "      <td>LC4-15DM-1</td>\n",
       "      <td>현대자동차(주)</td>\n",
       "      <td>G4EC</td>\n",
       "      <td>NaN</td>\n",
       "      <td>NaN</td>\n",
       "      <td>NaN</td>\n",
       "    </tr>\n",
       "    <tr>\n",
       "      <th>1</th>\n",
       "      <td>9MY-KM-14-41</td>\n",
       "      <td>4</td>\n",
       "      <td>카니발</td>\n",
       "      <td>VQS96BB-G</td>\n",
       "      <td>기아자동차(주)</td>\n",
       "      <td>D4HB</td>\n",
       "      <td>무</td>\n",
       "      <td>Y</td>\n",
       "      <td>NaN</td>\n",
       "    </tr>\n",
       "    <tr>\n",
       "      <th>2</th>\n",
       "      <td>7MY-SY-14-60</td>\n",
       "      <td>4</td>\n",
       "      <td>액티언스포츠</td>\n",
       "      <td>Q5D20A2-008D</td>\n",
       "      <td>쌍용자동차(주)</td>\n",
       "      <td>664951</td>\n",
       "      <td>NaN</td>\n",
       "      <td>NaN</td>\n",
       "      <td>NaN</td>\n",
       "    </tr>\n",
       "    <tr>\n",
       "      <th>3</th>\n",
       "      <td>NaN</td>\n",
       "      <td>4</td>\n",
       "      <td>체어맨</td>\n",
       "      <td>W-GA32-5</td>\n",
       "      <td>쌍용자동차(주)</td>\n",
       "      <td>162</td>\n",
       "      <td>NaN</td>\n",
       "      <td>NaN</td>\n",
       "      <td>NaN</td>\n",
       "    </tr>\n",
       "    <tr>\n",
       "      <th>4</th>\n",
       "      <td>9MY-KM-14-22</td>\n",
       "      <td>4</td>\n",
       "      <td>쏘렌토</td>\n",
       "      <td>XM75BA-S</td>\n",
       "      <td>기아자동차(주)</td>\n",
       "      <td>D4HA</td>\n",
       "      <td>무</td>\n",
       "      <td>Y</td>\n",
       "      <td>NaN</td>\n",
       "    </tr>\n",
       "    <tr>\n",
       "      <th>5</th>\n",
       "      <td>NaN</td>\n",
       "      <td>4</td>\n",
       "      <td>프라이드</td>\n",
       "      <td>B3-23LX</td>\n",
       "      <td>기아자동차(주)</td>\n",
       "      <td>B3</td>\n",
       "      <td>NaN</td>\n",
       "      <td>NaN</td>\n",
       "      <td>NaN</td>\n",
       "    </tr>\n",
       "  </tbody>\n",
       "</table>\n",
       "</div>"
      ],
      "text/plain": [
       "       배출가스인증번호  등급      차명         자동차형식      제작사명    엔진형식 제작사확인_DPF유무 확인유무  \\\n",
       "0     XMY-HD-48   4     베르나    LC4-15DM-1  현대자동차(주)    G4EC         NaN  NaN   \n",
       "1  9MY-KM-14-41   4     카니발     VQS96BB-G  기아자동차(주)    D4HB           무    Y   \n",
       "2  7MY-SY-14-60   4  액티언스포츠  Q5D20A2-008D  쌍용자동차(주)  664951         NaN  NaN   \n",
       "3           NaN   4     체어맨      W-GA32-5  쌍용자동차(주)     162         NaN  NaN   \n",
       "4  9MY-KM-14-22   4     쏘렌토      XM75BA-S  기아자동차(주)    D4HA           무    Y   \n",
       "5           NaN   4    프라이드       B3-23LX  기아자동차(주)      B3         NaN  NaN   \n",
       "\n",
       "   비고  \n",
       "0 NaN  \n",
       "1 NaN  \n",
       "2 NaN  \n",
       "3 NaN  \n",
       "4 NaN  \n",
       "5 NaN  "
      ]
     },
     "execution_count": 44,
     "metadata": {},
     "output_type": "execute_result"
    }
   ],
   "source": [
    "# df.loc[:5, ['배출가스인증번호', '등급', '차명', '자동차형식', '제작사명', '엔진형식', '제작사확인_DPF유무', '확인유무', '비고']]"
   ]
  },
  {
   "attachments": {},
   "cell_type": "markdown",
   "metadata": {},
   "source": [
    "## 배인번호별 통계"
   ]
  },
  {
   "cell_type": "code",
   "execution_count": 49,
   "metadata": {},
   "outputs": [
    {
     "data": {
      "text/plain": [
       "배출가스인증번호  차명          제작사명          자동차형식     엔진형식      제작사확인_DPF유무  확인유무\n",
       "          도요다크라운로얄싸롱  NaN           MS122     NaN       NaN          NaN      1\n",
       "          랭글러2.5L     NaN           TJ        53008403  NaN          NaN      1\n",
       "          랭글러짚        NaN           SAHARA    MX        NaN          NaN      1\n",
       "          벤즈 230E     NaN           NaN       NaN       NaN          NaN      1\n",
       "          벤츠300SEL    자기인증면제차량      126 025   103.981   NaN          NaN      1\n",
       "                                                                             ..\n",
       "NaN       휘가로         모인모터하우스       FK10      MA10      NaN          NaN      1\n",
       "                      자기인증면제차량      E-FK10    MA10      NaN          NaN      1\n",
       "                                    FK10      MA10      NaN          NaN      1\n",
       "          히노카고트럭      스카니아코리아그룹(주)  FD8JLUA   J08EUR    NaN          NaN     25\n",
       "          히노활어트럭      스카니아코리아그룹(주)  FD8JLUAF  J08EUR    NaN          NaN      5\n",
       "Name: 차대번호, Length: 11221, dtype: int64"
      ]
     },
     "execution_count": 49,
     "metadata": {},
     "output_type": "execute_result"
    }
   ],
   "source": [
    "df.groupby(['배출가스인증번호', '차명', '제작사명', '자동차형식', '엔진형식', '제작사확인_DPF유무', '확인유무'], dropna=False)['차대번호'].count()"
   ]
  },
  {
   "attachments": {},
   "cell_type": "markdown",
   "metadata": {},
   "source": [
    "### [출력] 배인번호별 통계"
   ]
  },
  {
   "cell_type": "code",
   "execution_count": 29,
   "metadata": {},
   "outputs": [],
   "source": [
    "# df.groupby(['배출가스인증번호', '제작사확인_DPF유무', '확인유무'], dropna=False)['차대번호'].count().to_excel('analysis2/DPF현행화/배인번호별_제작사확인DPF유무_확인유무.xlsx')"
   ]
  },
  {
   "attachments": {},
   "cell_type": "markdown",
   "metadata": {},
   "source": [
    "# [출력] 수정파일"
   ]
  },
  {
   "cell_type": "code",
   "execution_count": 30,
   "metadata": {},
   "outputs": [
    {
     "data": {
      "text/plain": [
       "'D:/data/big2/BD1_4등급_데이터_점검1'"
      ]
     },
     "execution_count": 30,
     "metadata": {},
     "output_type": "execute_result"
    }
   ],
   "source": [
    "fold"
   ]
  },
  {
   "cell_type": "code",
   "execution_count": 31,
   "metadata": {},
   "outputs": [
    {
     "data": {
      "text/plain": [
       "'2023.02.21'"
      ]
     },
     "execution_count": 31,
     "metadata": {},
     "output_type": "execute_result"
    }
   ],
   "source": [
    "today_date = datetime.datetime.today().strftime(\"%Y.%m.%d_%p.%H.%M.%S\")\n",
    "today_date"
   ]
  },
  {
   "cell_type": "code",
   "execution_count": 32,
   "metadata": {},
   "outputs": [],
   "source": [
    "# about 32s\n",
    "df.to_csv(os.path.join(fold, f'4등급_차량_리스트_양식_result(수정)({today_date}).csv'), index=False, encoding='cp949')"
   ]
  },
  {
   "cell_type": "code",
   "execution_count": 33,
   "metadata": {},
   "outputs": [],
   "source": [
    "# about 32s\n",
    "df.iloc[:580000].to_csv(os.path.join(fold, f'4등급_차량_리스트_양식_result(수정)({today_date})01.csv'), index=False, encoding='cp949')\n",
    "df.iloc[580000:].to_csv(os.path.join(fold, f'4등급_차량_리스트_양식_result(수정)({today_date})02.csv'), index=False, encoding='cp949')"
   ]
  },
  {
   "cell_type": "code",
   "execution_count": 34,
   "metadata": {},
   "outputs": [],
   "source": [
    "# # about 18m 25s\n",
    "# df.iloc[:580000].to_excel(os.path.join(fold, '4등급_차량_리스트_양식_result(수정)(2023.02.09)01.xlsx'), index=False)\n",
    "# df.iloc[580000:].to_excel(os.path.join(fold, '4등급_차량_리스트_양식_result(수정)(2023.02.09)02.xlsx'), index=False)"
   ]
  },
  {
   "attachments": {},
   "cell_type": "markdown",
   "metadata": {},
   "source": [
    "# CODE End"
   ]
  }
 ],
 "metadata": {
  "kernelspec": {
   "display_name": "base",
   "language": "python",
   "name": "python3"
  },
  "language_info": {
   "codemirror_mode": {
    "name": "ipython",
    "version": 3
   },
   "file_extension": ".py",
   "mimetype": "text/x-python",
   "name": "python",
   "nbconvert_exporter": "python",
   "pygments_lexer": "ipython3",
   "version": "3.9.13"
  },
  "orig_nbformat": 4,
  "vscode": {
   "interpreter": {
    "hash": "ad2bdc8ecc057115af97d19610ffacc2b4e99fae6737bb82f5d7fb13d2f2c186"
   }
  }
 },
 "nbformat": 4,
 "nbformat_minor": 2
}
