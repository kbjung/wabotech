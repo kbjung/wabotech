{
 "cells": [
  {
   "attachments": {},
   "cell_type": "markdown",
   "metadata": {},
   "source": [
    "# Library"
   ]
  },
  {
   "cell_type": "code",
   "execution_count": 1,
   "metadata": {},
   "outputs": [],
   "source": [
    "import pandas as pd\n",
    "import numpy as np\n",
    "from tqdm import tqdm\n",
    "import os"
   ]
  },
  {
   "attachments": {},
   "cell_type": "markdown",
   "metadata": {},
   "source": [
    "# [Load] 230206_RH_4등급DB세분류_인증번호변경 건_v1.2"
   ]
  },
  {
   "cell_type": "code",
   "execution_count": 2,
   "metadata": {},
   "outputs": [],
   "source": [
    "fold = 'D:/data/big2/4등급_배인번호_재확인'"
   ]
  },
  {
   "cell_type": "code",
   "execution_count": 10,
   "metadata": {},
   "outputs": [],
   "source": [
    "file_name = '4등급DB세분류_인증번호변경 건_2302091522.csv'\n",
    "df = pd.read_csv(os.path.join(fold, file_name), encoding='cp949', low_memory=False)"
   ]
  },
  {
   "cell_type": "code",
   "execution_count": 11,
   "metadata": {},
   "outputs": [
    {
     "name": "stdout",
     "output_type": "stream",
     "text": [
      "<class 'pandas.core.frame.DataFrame'>\n",
      "RangeIndex: 61417 entries, 0 to 61416\n",
      "Data columns (total 31 columns):\n",
      " #   Column     Non-Null Count  Dtype  \n",
      "---  ------     --------------  -----  \n",
      " 0   등급(현재)     61417 non-null  object \n",
      " 1   말소(현재)     61417 non-null  object \n",
      " 2   인증번호(현재)   61417 non-null  object \n",
      " 3   인증번호(변경전)  2368 non-null   object \n",
      " 4   인증번호(변경후)  61417 non-null  object \n",
      " 5   차대번호       61417 non-null  object \n",
      " 6   차량번호       61417 non-null  object \n",
      " 7   제원관리번호     61417 non-null  object \n",
      " 8   차종         61417 non-null  object \n",
      " 9   용도         61417 non-null  object \n",
      " 10  최초등록일      61417 non-null  int64  \n",
      " 11  연식         61417 non-null  int64  \n",
      " 12  제작일자       25286 non-null  float64\n",
      " 13  검사유효일      61415 non-null  float64\n",
      " 14  등급         61417 non-null  object \n",
      " 15  차명         61417 non-null  object \n",
      " 16  차종분류       61417 non-null  object \n",
      " 17  차종유형       61417 non-null  object \n",
      " 18  자동차형식      61410 non-null  object \n",
      " 19  제작사명       60375 non-null  object \n",
      " 20  연료         61417 non-null  object \n",
      " 21  엔진형식       61151 non-null  object \n",
      " 22  총중량        61417 non-null  object \n",
      " 23  적재중량       61395 non-null  float64\n",
      " 24  엔진출력       61329 non-null  float64\n",
      " 25  배기량        61417 non-null  int64  \n",
      " 26  법정동코드      61417 non-null  int64  \n",
      " 27  시도명        61417 non-null  object \n",
      " 28  시군구명       61417 non-null  object \n",
      " 29  소유자구분      61417 non-null  object \n",
      " 30  말소여부       61417 non-null  object \n",
      "dtypes: float64(4), int64(4), object(23)\n",
      "memory usage: 14.5+ MB\n"
     ]
    }
   ],
   "source": [
    "# 14.5+ MB\n",
    "# low_memory=False, 14.5+ MB\n",
    "df.info()"
   ]
  },
  {
   "cell_type": "code",
   "execution_count": 12,
   "metadata": {},
   "outputs": [
    {
     "data": {
      "text/plain": [
       "0     2960\n",
       "1     2920\n",
       "2     2960\n",
       "3    15455\n",
       "4    15455\n",
       "Name: 총중량, dtype: object"
      ]
     },
     "execution_count": 12,
     "metadata": {},
     "output_type": "execute_result"
    }
   ],
   "source": [
    "df.iloc[:5, 22]"
   ]
  },
  {
   "attachments": {},
   "cell_type": "markdown",
   "metadata": {},
   "source": [
    "# Check data"
   ]
  },
  {
   "attachments": {},
   "cell_type": "markdown",
   "metadata": {},
   "source": [
    "## 기초"
   ]
  },
  {
   "cell_type": "code",
   "execution_count": 13,
   "metadata": {},
   "outputs": [
    {
     "data": {
      "text/plain": [
       "등급(현재)           0\n",
       "말소(현재)           0\n",
       "인증번호(현재)         0\n",
       "인증번호(변경전)    59049\n",
       "인증번호(변경후)        0\n",
       "차대번호             0\n",
       "차량번호             0\n",
       "제원관리번호           0\n",
       "차종               0\n",
       "용도               0\n",
       "최초등록일            0\n",
       "연식               0\n",
       "제작일자         36131\n",
       "검사유효일            2\n",
       "등급               0\n",
       "차명               0\n",
       "차종분류             0\n",
       "차종유형             0\n",
       "자동차형식            7\n",
       "제작사명          1042\n",
       "연료               0\n",
       "엔진형식           266\n",
       "총중량              0\n",
       "적재중량            22\n",
       "엔진출력            88\n",
       "배기량              0\n",
       "법정동코드            0\n",
       "시도명              0\n",
       "시군구명             0\n",
       "소유자구분            0\n",
       "말소여부             0\n",
       "dtype: int64"
      ]
     },
     "execution_count": 13,
     "metadata": {},
     "output_type": "execute_result"
    }
   ],
   "source": [
    "df.isnull().sum()"
   ]
  },
  {
   "cell_type": "code",
   "execution_count": 21,
   "metadata": {},
   "outputs": [
    {
     "data": {
      "text/plain": [
       "4     60714\n",
       "5       679\n",
       "3        12\n",
       "T4       12\n",
       "Name: 등급(현재), dtype: int64"
      ]
     },
     "execution_count": 21,
     "metadata": {},
     "output_type": "execute_result"
    }
   ],
   "source": [
    "df['등급(현재)'].value_counts(dropna=False)"
   ]
  },
  {
   "cell_type": "code",
   "execution_count": 22,
   "metadata": {},
   "outputs": [
    {
     "data": {
      "text/plain": [
       "4     60714\n",
       "5       678\n",
       "T4       13\n",
       "3        12\n",
       "Name: 등급, dtype: int64"
      ]
     },
     "execution_count": 22,
     "metadata": {},
     "output_type": "execute_result"
    }
   ],
   "source": [
    "df['등급'].value_counts(dropna=False)"
   ]
  },
  {
   "cell_type": "code",
   "execution_count": 15,
   "metadata": {},
   "outputs": [
    {
     "data": {
      "text/plain": [
       "N    59353\n",
       "Y     2064\n",
       "Name: 말소(현재), dtype: int64"
      ]
     },
     "execution_count": 15,
     "metadata": {},
     "output_type": "execute_result"
    }
   ],
   "source": [
    "df['말소(현재)'].value_counts(dropna=False)"
   ]
  },
  {
   "cell_type": "code",
   "execution_count": 16,
   "metadata": {},
   "outputs": [
    {
     "data": {
      "text/plain": [
       "N     61416\n",
       "주민        1\n",
       "Name: 말소여부, dtype: int64"
      ]
     },
     "execution_count": 16,
     "metadata": {},
     "output_type": "execute_result"
    }
   ],
   "source": [
    "df['말소여부'].value_counts(dropna=False)"
   ]
  },
  {
   "attachments": {},
   "cell_type": "markdown",
   "metadata": {},
   "source": [
    "### 말소여부 이상치\n",
    "- '주민' 값 존재\n",
    "    - '제작사명' 값부터 하나씩 오른쪽 열로 밀림"
   ]
  },
  {
   "cell_type": "code",
   "execution_count": 17,
   "metadata": {},
   "outputs": [
    {
     "data": {
      "text/html": [
       "<div>\n",
       "<style scoped>\n",
       "    .dataframe tbody tr th:only-of-type {\n",
       "        vertical-align: middle;\n",
       "    }\n",
       "\n",
       "    .dataframe tbody tr th {\n",
       "        vertical-align: top;\n",
       "    }\n",
       "\n",
       "    .dataframe thead th {\n",
       "        text-align: right;\n",
       "    }\n",
       "</style>\n",
       "<table border=\"1\" class=\"dataframe\">\n",
       "  <thead>\n",
       "    <tr style=\"text-align: right;\">\n",
       "      <th></th>\n",
       "      <th>등급(현재)</th>\n",
       "      <th>말소(현재)</th>\n",
       "      <th>인증번호(현재)</th>\n",
       "      <th>인증번호(변경전)</th>\n",
       "      <th>인증번호(변경후)</th>\n",
       "      <th>차대번호</th>\n",
       "      <th>차량번호</th>\n",
       "      <th>제원관리번호</th>\n",
       "      <th>차종</th>\n",
       "      <th>용도</th>\n",
       "      <th>...</th>\n",
       "      <th>엔진형식</th>\n",
       "      <th>총중량</th>\n",
       "      <th>적재중량</th>\n",
       "      <th>엔진출력</th>\n",
       "      <th>배기량</th>\n",
       "      <th>법정동코드</th>\n",
       "      <th>시도명</th>\n",
       "      <th>시군구명</th>\n",
       "      <th>소유자구분</th>\n",
       "      <th>말소여부</th>\n",
       "    </tr>\n",
       "  </thead>\n",
       "  <tbody>\n",
       "    <tr>\n",
       "      <th>14783</th>\n",
       "      <td>4</td>\n",
       "      <td>N</td>\n",
       "      <td>7MY-HD-14-68</td>\n",
       "      <td>NaN</td>\n",
       "      <td>7MY-HD-14-68</td>\n",
       "      <td>KN94J4MCDCHZ00003</td>\n",
       "      <td>인천83배1254</td>\n",
       "      <td>A0810006211533112</td>\n",
       "      <td>화물</td>\n",
       "      <td>영업용</td>\n",
       "      <td>...</td>\n",
       "      <td>DS</td>\n",
       "      <td>D4CB</td>\n",
       "      <td>3140.0</td>\n",
       "      <td>1000.0</td>\n",
       "      <td>133</td>\n",
       "      <td>2497</td>\n",
       "      <td>2818510400</td>\n",
       "      <td>인천광역시</td>\n",
       "      <td>연수구</td>\n",
       "      <td>주민</td>\n",
       "    </tr>\n",
       "  </tbody>\n",
       "</table>\n",
       "<p>1 rows × 31 columns</p>\n",
       "</div>"
      ],
      "text/plain": [
       "      등급(현재) 말소(현재)      인증번호(현재) 인증번호(변경전)     인증번호(변경후)               차대번호  \\\n",
       "14783      4      N  7MY-HD-14-68       NaN  7MY-HD-14-68  KN94J4MCDCHZ00003   \n",
       "\n",
       "            차량번호             제원관리번호  차종   용도  ...  엔진형식   총중량    적재중량    엔진출력  \\\n",
       "14783  인천83배1254  A0810006211533112  화물  영업용  ...    DS  D4CB  3140.0  1000.0   \n",
       "\n",
       "       배기량 법정동코드         시도명   시군구명 소유자구분 말소여부  \n",
       "14783  133  2497  2818510400  인천광역시   연수구   주민  \n",
       "\n",
       "[1 rows x 31 columns]"
      ]
     },
     "execution_count": 17,
     "metadata": {},
     "output_type": "execute_result"
    }
   ],
   "source": [
    "df[df['말소여부'] == '주민']"
   ]
  },
  {
   "cell_type": "code",
   "execution_count": 20,
   "metadata": {},
   "outputs": [
    {
     "data": {
      "text/html": [
       "<div>\n",
       "<style scoped>\n",
       "    .dataframe tbody tr th:only-of-type {\n",
       "        vertical-align: middle;\n",
       "    }\n",
       "\n",
       "    .dataframe tbody tr th {\n",
       "        vertical-align: top;\n",
       "    }\n",
       "\n",
       "    .dataframe thead th {\n",
       "        text-align: right;\n",
       "    }\n",
       "</style>\n",
       "<table border=\"1\" class=\"dataframe\">\n",
       "  <thead>\n",
       "    <tr style=\"text-align: right;\">\n",
       "      <th></th>\n",
       "      <th>자동차형식</th>\n",
       "      <th>제작사명</th>\n",
       "      <th>연료</th>\n",
       "      <th>엔진형식</th>\n",
       "      <th>총중량</th>\n",
       "      <th>적재중량</th>\n",
       "      <th>엔진출력</th>\n",
       "      <th>배기량</th>\n",
       "      <th>법정동코드</th>\n",
       "      <th>시도명</th>\n",
       "      <th>시군구명</th>\n",
       "      <th>소유자구분</th>\n",
       "      <th>말소여부</th>\n",
       "    </tr>\n",
       "  </thead>\n",
       "  <tbody>\n",
       "    <tr>\n",
       "      <th>14783</th>\n",
       "      <td>HR-3NDSJKA-E521</td>\n",
       "      <td>NaN</td>\n",
       "      <td>현대자동차(주)</td>\n",
       "      <td>DS</td>\n",
       "      <td>D4CB</td>\n",
       "      <td>3140.0</td>\n",
       "      <td>1000.0</td>\n",
       "      <td>133</td>\n",
       "      <td>2497</td>\n",
       "      <td>2818510400</td>\n",
       "      <td>인천광역시</td>\n",
       "      <td>연수구</td>\n",
       "      <td>주민</td>\n",
       "    </tr>\n",
       "  </tbody>\n",
       "</table>\n",
       "</div>"
      ],
      "text/plain": [
       "                 자동차형식 제작사명        연료 엔진형식   총중량    적재중량    엔진출력  배기량  법정동코드  \\\n",
       "14783  HR-3NDSJKA-E521  NaN  현대자동차(주)   DS  D4CB  3140.0  1000.0  133   2497   \n",
       "\n",
       "              시도명   시군구명 소유자구분 말소여부  \n",
       "14783  2818510400  인천광역시   연수구   주민  "
      ]
     },
     "execution_count": 20,
     "metadata": {},
     "output_type": "execute_result"
    }
   ],
   "source": [
    "df.loc[df['말소여부'] == '주민', '자동차형식':]"
   ]
  },
  {
   "cell_type": "code",
   "execution_count": 24,
   "metadata": {},
   "outputs": [
    {
     "data": {
      "text/plain": [
       "(2065, 31)"
      ]
     },
     "execution_count": 24,
     "metadata": {},
     "output_type": "execute_result"
    }
   ],
   "source": [
    "df[df['말소(현재)'] != df['말소여부']].shape"
   ]
  },
  {
   "cell_type": "code",
   "execution_count": 25,
   "metadata": {},
   "outputs": [
    {
     "data": {
      "text/html": [
       "<div>\n",
       "<style scoped>\n",
       "    .dataframe tbody tr th:only-of-type {\n",
       "        vertical-align: middle;\n",
       "    }\n",
       "\n",
       "    .dataframe tbody tr th {\n",
       "        vertical-align: top;\n",
       "    }\n",
       "\n",
       "    .dataframe thead th {\n",
       "        text-align: right;\n",
       "    }\n",
       "</style>\n",
       "<table border=\"1\" class=\"dataframe\">\n",
       "  <thead>\n",
       "    <tr style=\"text-align: right;\">\n",
       "      <th></th>\n",
       "      <th>등급(현재)</th>\n",
       "      <th>말소(현재)</th>\n",
       "      <th>인증번호(현재)</th>\n",
       "      <th>인증번호(변경전)</th>\n",
       "      <th>인증번호(변경후)</th>\n",
       "      <th>차대번호</th>\n",
       "      <th>차량번호</th>\n",
       "      <th>제원관리번호</th>\n",
       "      <th>차종</th>\n",
       "      <th>용도</th>\n",
       "      <th>...</th>\n",
       "      <th>엔진형식</th>\n",
       "      <th>총중량</th>\n",
       "      <th>적재중량</th>\n",
       "      <th>엔진출력</th>\n",
       "      <th>배기량</th>\n",
       "      <th>법정동코드</th>\n",
       "      <th>시도명</th>\n",
       "      <th>시군구명</th>\n",
       "      <th>소유자구분</th>\n",
       "      <th>말소여부</th>\n",
       "    </tr>\n",
       "  </thead>\n",
       "  <tbody>\n",
       "    <tr>\n",
       "      <th>0</th>\n",
       "      <td>4</td>\n",
       "      <td>Y</td>\n",
       "      <td>9MY-KM-14-41</td>\n",
       "      <td>7MY-KM-14-64</td>\n",
       "      <td>9MY-KM-14-41</td>\n",
       "      <td>KNHMB76438S237203</td>\n",
       "      <td>74마6376</td>\n",
       "      <td>A0110003600592207</td>\n",
       "      <td>승합</td>\n",
       "      <td>자가용</td>\n",
       "      <td>...</td>\n",
       "      <td>J3</td>\n",
       "      <td>2960</td>\n",
       "      <td>0.0</td>\n",
       "      <td>192.0</td>\n",
       "      <td>2902</td>\n",
       "      <td>2915510900</td>\n",
       "      <td>광주광역시</td>\n",
       "      <td>남구</td>\n",
       "      <td>주민</td>\n",
       "      <td>N</td>\n",
       "    </tr>\n",
       "    <tr>\n",
       "      <th>9</th>\n",
       "      <td>4</td>\n",
       "      <td>Y</td>\n",
       "      <td>7MY-DB-23-43</td>\n",
       "      <td>7MY-DB-23-43</td>\n",
       "      <td>7MY-DB-24-43</td>\n",
       "      <td>KL5UF65RD8P000124</td>\n",
       "      <td>75구9173</td>\n",
       "      <td>A0210003100712307</td>\n",
       "      <td>승합</td>\n",
       "      <td>자가용</td>\n",
       "      <td>...</td>\n",
       "      <td>DV11</td>\n",
       "      <td>15455</td>\n",
       "      <td>0.0</td>\n",
       "      <td>430.0</td>\n",
       "      <td>10964</td>\n",
       "      <td>4146110800</td>\n",
       "      <td>경기도</td>\n",
       "      <td>용인시 처인구</td>\n",
       "      <td>주민</td>\n",
       "      <td>N</td>\n",
       "    </tr>\n",
       "    <tr>\n",
       "      <th>11</th>\n",
       "      <td>4</td>\n",
       "      <td>Y</td>\n",
       "      <td>7MY-DB-23-43</td>\n",
       "      <td>7MY-DB-23-43</td>\n",
       "      <td>7MY-DB-24-43</td>\n",
       "      <td>KL5UF65RD8P000130</td>\n",
       "      <td>76거4382</td>\n",
       "      <td>A0210003100712307</td>\n",
       "      <td>승합</td>\n",
       "      <td>자가용</td>\n",
       "      <td>...</td>\n",
       "      <td>DV11</td>\n",
       "      <td>15455</td>\n",
       "      <td>0.0</td>\n",
       "      <td>430.0</td>\n",
       "      <td>10964</td>\n",
       "      <td>4480025026</td>\n",
       "      <td>충청남도</td>\n",
       "      <td>홍성군</td>\n",
       "      <td>주민</td>\n",
       "      <td>N</td>\n",
       "    </tr>\n",
       "    <tr>\n",
       "      <th>16</th>\n",
       "      <td>4</td>\n",
       "      <td>Y</td>\n",
       "      <td>7MY-DB-24-43</td>\n",
       "      <td>7MY-DB-23-43</td>\n",
       "      <td>7MY-DB-24-43</td>\n",
       "      <td>KL5UF65RD8P000177</td>\n",
       "      <td>72노0245</td>\n",
       "      <td>A0210003100712307</td>\n",
       "      <td>승합</td>\n",
       "      <td>자가용</td>\n",
       "      <td>...</td>\n",
       "      <td>DV11</td>\n",
       "      <td>15455</td>\n",
       "      <td>0.0</td>\n",
       "      <td>430.0</td>\n",
       "      <td>10964</td>\n",
       "      <td>4311312000</td>\n",
       "      <td>충청북도</td>\n",
       "      <td>청주시 흥덕구</td>\n",
       "      <td>법인</td>\n",
       "      <td>N</td>\n",
       "    </tr>\n",
       "    <tr>\n",
       "      <th>20</th>\n",
       "      <td>4</td>\n",
       "      <td>Y</td>\n",
       "      <td>7MY-DB-23-43</td>\n",
       "      <td>7MY-DB-23-43</td>\n",
       "      <td>7MY-DB-24-43</td>\n",
       "      <td>KL5UF65RD8P000220</td>\n",
       "      <td>74버5529</td>\n",
       "      <td>A0210003100712307</td>\n",
       "      <td>승합</td>\n",
       "      <td>자가용</td>\n",
       "      <td>...</td>\n",
       "      <td>DV11</td>\n",
       "      <td>15455</td>\n",
       "      <td>0.0</td>\n",
       "      <td>430.0</td>\n",
       "      <td>10964</td>\n",
       "      <td>2818510400</td>\n",
       "      <td>인천광역시</td>\n",
       "      <td>연수구</td>\n",
       "      <td>주민</td>\n",
       "      <td>N</td>\n",
       "    </tr>\n",
       "    <tr>\n",
       "      <th>...</th>\n",
       "      <td>...</td>\n",
       "      <td>...</td>\n",
       "      <td>...</td>\n",
       "      <td>...</td>\n",
       "      <td>...</td>\n",
       "      <td>...</td>\n",
       "      <td>...</td>\n",
       "      <td>...</td>\n",
       "      <td>...</td>\n",
       "      <td>...</td>\n",
       "      <td>...</td>\n",
       "      <td>...</td>\n",
       "      <td>...</td>\n",
       "      <td>...</td>\n",
       "      <td>...</td>\n",
       "      <td>...</td>\n",
       "      <td>...</td>\n",
       "      <td>...</td>\n",
       "      <td>...</td>\n",
       "      <td>...</td>\n",
       "      <td>...</td>\n",
       "    </tr>\n",
       "    <tr>\n",
       "      <th>61275</th>\n",
       "      <td>4</td>\n",
       "      <td>Y</td>\n",
       "      <td>5MY-PA-14-17</td>\n",
       "      <td>NaN</td>\n",
       "      <td>5MY-PA-14-17</td>\n",
       "      <td>YV1RS714062538408</td>\n",
       "      <td>10오6614</td>\n",
       "      <td>9.20E+14</td>\n",
       "      <td>승용</td>\n",
       "      <td>자가용</td>\n",
       "      <td>...</td>\n",
       "      <td>D5244T</td>\n",
       "      <td>1940</td>\n",
       "      <td>0.0</td>\n",
       "      <td>185.0</td>\n",
       "      <td>2401</td>\n",
       "      <td>1162010200</td>\n",
       "      <td>서울특별시</td>\n",
       "      <td>관악구</td>\n",
       "      <td>주민</td>\n",
       "      <td>N</td>\n",
       "    </tr>\n",
       "    <tr>\n",
       "      <th>61276</th>\n",
       "      <td>4</td>\n",
       "      <td>Y</td>\n",
       "      <td>5MY-PA-14-17</td>\n",
       "      <td>NaN</td>\n",
       "      <td>5MY-PA-14-17</td>\n",
       "      <td>YV1RS714062538480</td>\n",
       "      <td>02로0919</td>\n",
       "      <td>9.20E+14</td>\n",
       "      <td>승용</td>\n",
       "      <td>자가용</td>\n",
       "      <td>...</td>\n",
       "      <td>D5244T</td>\n",
       "      <td>1940</td>\n",
       "      <td>0.0</td>\n",
       "      <td>185.0</td>\n",
       "      <td>2401</td>\n",
       "      <td>4127310100</td>\n",
       "      <td>경기도</td>\n",
       "      <td>안산시 단원구</td>\n",
       "      <td>주민</td>\n",
       "      <td>N</td>\n",
       "    </tr>\n",
       "    <tr>\n",
       "      <th>61279</th>\n",
       "      <td>4</td>\n",
       "      <td>Y</td>\n",
       "      <td>5MY-PA-14-17</td>\n",
       "      <td>NaN</td>\n",
       "      <td>5MY-PA-14-17</td>\n",
       "      <td>YV1RS714062545028</td>\n",
       "      <td>41무1909</td>\n",
       "      <td>9.20E+14</td>\n",
       "      <td>승용</td>\n",
       "      <td>자가용</td>\n",
       "      <td>...</td>\n",
       "      <td>D5244T</td>\n",
       "      <td>1940</td>\n",
       "      <td>0.0</td>\n",
       "      <td>185.0</td>\n",
       "      <td>2401</td>\n",
       "      <td>1144010700</td>\n",
       "      <td>서울특별시</td>\n",
       "      <td>마포구</td>\n",
       "      <td>법인</td>\n",
       "      <td>N</td>\n",
       "    </tr>\n",
       "    <tr>\n",
       "      <th>61285</th>\n",
       "      <td>4</td>\n",
       "      <td>Y</td>\n",
       "      <td>5MY-PA-14-17</td>\n",
       "      <td>NaN</td>\n",
       "      <td>5MY-PA-14-17</td>\n",
       "      <td>YV1RS714062552057</td>\n",
       "      <td>41보6233</td>\n",
       "      <td>9.20E+14</td>\n",
       "      <td>승용</td>\n",
       "      <td>자가용</td>\n",
       "      <td>...</td>\n",
       "      <td>D5244T</td>\n",
       "      <td>1940</td>\n",
       "      <td>0.0</td>\n",
       "      <td>185.0</td>\n",
       "      <td>2401</td>\n",
       "      <td>2714010200</td>\n",
       "      <td>대구광역시</td>\n",
       "      <td>동구</td>\n",
       "      <td>주민</td>\n",
       "      <td>N</td>\n",
       "    </tr>\n",
       "    <tr>\n",
       "      <th>61289</th>\n",
       "      <td>4</td>\n",
       "      <td>Y</td>\n",
       "      <td>5MY-PA-14-17</td>\n",
       "      <td>NaN</td>\n",
       "      <td>5MY-PA-14-17</td>\n",
       "      <td>YV1RS714062552240</td>\n",
       "      <td>41루8331</td>\n",
       "      <td>9.20E+14</td>\n",
       "      <td>승용</td>\n",
       "      <td>자가용</td>\n",
       "      <td>...</td>\n",
       "      <td>D5244T</td>\n",
       "      <td>1940</td>\n",
       "      <td>0.0</td>\n",
       "      <td>185.0</td>\n",
       "      <td>2401</td>\n",
       "      <td>4311112400</td>\n",
       "      <td>충청북도</td>\n",
       "      <td>청주시 상당구</td>\n",
       "      <td>주민</td>\n",
       "      <td>N</td>\n",
       "    </tr>\n",
       "  </tbody>\n",
       "</table>\n",
       "<p>2065 rows × 31 columns</p>\n",
       "</div>"
      ],
      "text/plain": [
       "      등급(현재) 말소(현재)      인증번호(현재)     인증번호(변경전)     인증번호(변경후)  \\\n",
       "0          4      Y  9MY-KM-14-41  7MY-KM-14-64  9MY-KM-14-41   \n",
       "9          4      Y  7MY-DB-23-43  7MY-DB-23-43  7MY-DB-24-43   \n",
       "11         4      Y  7MY-DB-23-43  7MY-DB-23-43  7MY-DB-24-43   \n",
       "16         4      Y  7MY-DB-24-43  7MY-DB-23-43  7MY-DB-24-43   \n",
       "20         4      Y  7MY-DB-23-43  7MY-DB-23-43  7MY-DB-24-43   \n",
       "...      ...    ...           ...           ...           ...   \n",
       "61275      4      Y  5MY-PA-14-17           NaN  5MY-PA-14-17   \n",
       "61276      4      Y  5MY-PA-14-17           NaN  5MY-PA-14-17   \n",
       "61279      4      Y  5MY-PA-14-17           NaN  5MY-PA-14-17   \n",
       "61285      4      Y  5MY-PA-14-17           NaN  5MY-PA-14-17   \n",
       "61289      4      Y  5MY-PA-14-17           NaN  5MY-PA-14-17   \n",
       "\n",
       "                    차대번호     차량번호             제원관리번호  차종   용도  ...    엔진형식  \\\n",
       "0      KNHMB76438S237203  74마6376  A0110003600592207  승합  자가용  ...      J3   \n",
       "9      KL5UF65RD8P000124  75구9173  A0210003100712307  승합  자가용  ...    DV11   \n",
       "11     KL5UF65RD8P000130  76거4382  A0210003100712307  승합  자가용  ...    DV11   \n",
       "16     KL5UF65RD8P000177  72노0245  A0210003100712307  승합  자가용  ...    DV11   \n",
       "20     KL5UF65RD8P000220  74버5529  A0210003100712307  승합  자가용  ...    DV11   \n",
       "...                  ...      ...                ...  ..  ...  ...     ...   \n",
       "61275  YV1RS714062538408  10오6614           9.20E+14  승용  자가용  ...  D5244T   \n",
       "61276  YV1RS714062538480  02로0919           9.20E+14  승용  자가용  ...  D5244T   \n",
       "61279  YV1RS714062545028  41무1909           9.20E+14  승용  자가용  ...  D5244T   \n",
       "61285  YV1RS714062552057  41보6233           9.20E+14  승용  자가용  ...  D5244T   \n",
       "61289  YV1RS714062552240  41루8331           9.20E+14  승용  자가용  ...  D5244T   \n",
       "\n",
       "         총중량  적재중량   엔진출력    배기량       법정동코드    시도명     시군구명 소유자구분 말소여부  \n",
       "0       2960   0.0  192.0   2902  2915510900  광주광역시       남구    주민    N  \n",
       "9      15455   0.0  430.0  10964  4146110800    경기도  용인시 처인구    주민    N  \n",
       "11     15455   0.0  430.0  10964  4480025026   충청남도      홍성군    주민    N  \n",
       "16     15455   0.0  430.0  10964  4311312000   충청북도  청주시 흥덕구    법인    N  \n",
       "20     15455   0.0  430.0  10964  2818510400  인천광역시      연수구    주민    N  \n",
       "...      ...   ...    ...    ...         ...    ...      ...   ...  ...  \n",
       "61275   1940   0.0  185.0   2401  1162010200  서울특별시      관악구    주민    N  \n",
       "61276   1940   0.0  185.0   2401  4127310100    경기도  안산시 단원구    주민    N  \n",
       "61279   1940   0.0  185.0   2401  1144010700  서울특별시      마포구    법인    N  \n",
       "61285   1940   0.0  185.0   2401  2714010200  대구광역시       동구    주민    N  \n",
       "61289   1940   0.0  185.0   2401  4311112400   충청북도  청주시 상당구    주민    N  \n",
       "\n",
       "[2065 rows x 31 columns]"
      ]
     },
     "execution_count": 25,
     "metadata": {},
     "output_type": "execute_result"
    }
   ],
   "source": [
    "df[df['말소(현재)'] != df['말소여부']]"
   ]
  },
  {
   "cell_type": "code",
   "execution_count": null,
   "metadata": {},
   "outputs": [],
   "source": []
  }
 ],
 "metadata": {
  "kernelspec": {
   "display_name": "base",
   "language": "python",
   "name": "python3"
  },
  "language_info": {
   "codemirror_mode": {
    "name": "ipython",
    "version": 3
   },
   "file_extension": ".py",
   "mimetype": "text/x-python",
   "name": "python",
   "nbconvert_exporter": "python",
   "pygments_lexer": "ipython3",
   "version": "3.9.13"
  },
  "orig_nbformat": 4,
  "vscode": {
   "interpreter": {
    "hash": "ad2bdc8ecc057115af97d19610ffacc2b4e99fae6737bb82f5d7fb13d2f2c186"
   }
  }
 },
 "nbformat": 4,
 "nbformat_minor": 2
}
