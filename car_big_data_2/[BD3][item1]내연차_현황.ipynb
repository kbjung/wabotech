{
 "cells": [
  {
   "attachments": {},
   "cell_type": "markdown",
   "metadata": {},
   "source": [
    "# Library\n"
   ]
  },
  {
   "cell_type": "code",
   "execution_count": 1,
   "metadata": {},
   "outputs": [],
   "source": [
    "import pandas as pd\n",
    "import numpy as np\n",
    "import os\n",
    "from tqdm import tqdm\n",
    "from datetime import datetime"
   ]
  },
  {
   "cell_type": "code",
   "execution_count": 2,
   "metadata": {},
   "outputs": [],
   "source": [
    "# 소수점 옵션\n",
    "pd.options.display.float_format = '{:.2f}'.format\n",
    "# pd.reset_option('display.float_format')"
   ]
  },
  {
   "attachments": {},
   "cell_type": "markdown",
   "metadata": {},
   "source": [
    "# fold path"
   ]
  },
  {
   "cell_type": "code",
   "execution_count": 3,
   "metadata": {},
   "outputs": [],
   "source": [
    "drive = 'D'"
   ]
  },
  {
   "cell_type": "code",
   "execution_count": 4,
   "metadata": {},
   "outputs": [],
   "source": [
    "ods_fold = f'{drive}:/data/big2/ODS'\n",
    "big2_fold = f'{drive}:/data/big2'\n",
    "raw_fold = f'{drive}:/data/big2/BD3/raw'\n",
    "analysis_fold = f'{drive}:/data/big2/BD3/an'\n",
    "df_fold = f'{drive}:/data/big2/BD3/df'"
   ]
  },
  {
   "attachments": {},
   "cell_type": "markdown",
   "metadata": {},
   "source": [
    "# Load"
   ]
  },
  {
   "attachments": {},
   "cell_type": "markdown",
   "metadata": {},
   "source": [
    "## 등록&제원정보"
   ]
  },
  {
   "cell_type": "code",
   "execution_count": 6,
   "metadata": {},
   "outputs": [],
   "source": [
    "# about 8m 53.6s\n",
    "name = '[ODS]등록정보&제원정보(2022.12.28)'\n",
    "file_name = f'{name}.csv'\n",
    "car = pd.read_csv(os.path.join(ods_fold, file_name), low_memory=False, encoding='cp949')\n",
    "car.info()"
   ]
  },
  {
   "attachments": {},
   "cell_type": "markdown",
   "metadata": {},
   "source": [
    "## 등록&제원정보(5등급)"
   ]
  },
  {
   "cell_type": "code",
   "execution_count": 5,
   "metadata": {},
   "outputs": [
    {
     "name": "stdout",
     "output_type": "stream",
     "text": [
      "<class 'pandas.core.frame.DataFrame'>\n",
      "RangeIndex: 2378648 entries, 0 to 2378647\n",
      "Data columns (total 49 columns):\n",
      " #   Column        Dtype  \n",
      "---  ------        -----  \n",
      " 0   차량관리번호        object \n",
      " 1   차량등록번호        object \n",
      " 2   본거지법정동코드      int64  \n",
      " 3   소유자구분         object \n",
      " 4   차종_등록정보       object \n",
      " 5   용도            object \n",
      " 6   현재회원번호        object \n",
      " 7   차대번호          object \n",
      " 8   최초등록일자        int64  \n",
      " 9   차량연식          int64  \n",
      " 10  차량제작일자        float64\n",
      " 11  배출가스검사유효일자    float64\n",
      " 12  제원관리번호        object \n",
      " 13  배출가스인증번호      object \n",
      " 14  배출가스등급        object \n",
      " 15  저공해조치YN(미사용)  object \n",
      " 16  저공해조치종류       float64\n",
      " 17  저공해조치구조변경YN   object \n",
      " 18  차량등록번호숫자정보    int64  \n",
      " 19  차량말소YN        object \n",
      " 20  최초회원번호        object \n",
      " 21  취득일자          float64\n",
      " 22  취득금액          float64\n",
      " 23  생성일시_등록정보     object \n",
      " 24  수정일시_등록정보     object \n",
      " 25  차명            object \n",
      " 26  차종_제원정보       object \n",
      " 27  차종분류          object \n",
      " 28  차종유형(소분류)     object \n",
      " 29  자동차형식         object \n",
      " 30  제작사명          object \n",
      " 31  연료            object \n",
      " 32  엔진형식          object \n",
      " 33  공차중량          float64\n",
      " 34  총중량           float64\n",
      " 35  적재중량          float64\n",
      " 36  엔진출력          float64\n",
      " 37  배기량           float64\n",
      " 38  승차인원          float64\n",
      " 39  차량길이          float64\n",
      " 40  차량너비          float64\n",
      " 41  차량높이          float64\n",
      " 42  원산지명          object \n",
      " 43  삭제YN          object \n",
      " 44  승인일자          object \n",
      " 45  구동형식          float64\n",
      " 46  변속기종류         object \n",
      " 47  생성일시_제원정보     object \n",
      " 48  수정일시_제원정보     object \n",
      "dtypes: float64(15), int64(4), object(30)\n",
      "memory usage: 889.2+ MB\n"
     ]
    }
   ],
   "source": [
    "# about 37.6s\n",
    "name = '[ODS][G5]등록정보&제원정보(2022.12.28)'\n",
    "file_name = f'{name}.csv'\n",
    "g5 = pd.read_csv(os.path.join(ods_fold, file_name), low_memory=False, encoding='cp949')\n",
    "g5.info()"
   ]
  },
  {
   "attachments": {},
   "cell_type": "markdown",
   "metadata": {},
   "source": [
    "## 노후차 조기폐차 관리정보 수도권"
   ]
  },
  {
   "cell_type": "code",
   "execution_count": 6,
   "metadata": {},
   "outputs": [
    {
     "name": "stdout",
     "output_type": "stream",
     "text": [
      "<class 'pandas.core.frame.DataFrame'>\n",
      "RangeIndex: 770311 entries, 0 to 770310\n",
      "Data columns (total 4 columns):\n",
      " #   Column      Non-Null Count   Dtype  \n",
      "---  ------      --------------   -----  \n",
      " 0   조기폐차상태코드    770311 non-null  object \n",
      " 1   차대번호        770311 non-null  object \n",
      " 2   말소일자        684061 non-null  float64\n",
      " 3   조기폐차최종승인YN  680625 non-null  object \n",
      "dtypes: float64(1), object(3)\n",
      "memory usage: 23.5+ MB\n"
     ]
    }
   ],
   "source": [
    "# about 42.0s\n",
    "name = '[ODS]노후차_조기폐차_관리정보_수도권(2022.12.28)'\n",
    "file_name = f'{name}.csv'\n",
    "aea = pd.read_csv(os.path.join(ods_fold, file_name), low_memory=False, encoding='cp949', usecols=['차대번호', '말소일자', '조기폐차최종승인YN', '조기폐차상태코드'])\n",
    "aea.info()"
   ]
  },
  {
   "attachments": {},
   "cell_type": "markdown",
   "metadata": {},
   "source": [
    "## 노후차 조기폐차 관리정보 수도권 외"
   ]
  },
  {
   "cell_type": "code",
   "execution_count": 7,
   "metadata": {},
   "outputs": [
    {
     "name": "stdout",
     "output_type": "stream",
     "text": [
      "<class 'pandas.core.frame.DataFrame'>\n",
      "RangeIndex: 291353 entries, 0 to 291352\n",
      "Data columns (total 4 columns):\n",
      " #   Column      Non-Null Count   Dtype  \n",
      "---  ------      --------------   -----  \n",
      " 0   조기폐차상태코드    291353 non-null  object \n",
      " 1   차대번호        291353 non-null  object \n",
      " 2   말소일자        134151 non-null  float64\n",
      " 3   조기폐차최종승인YN  128589 non-null  object \n",
      "dtypes: float64(1), object(3)\n",
      "memory usage: 8.9+ MB\n"
     ]
    }
   ],
   "source": [
    "# about 11.6s\n",
    "name = '[ODS]노후차_조기폐차_관리정보_수도권외(2022.12.28)'\n",
    "file_name = f'{name}.csv'\n",
    "lgv = pd.read_csv(os.path.join(ods_fold, file_name), low_memory=False, encoding='cp949', usecols=['차대번호', '말소일자', '조기폐차최종승인YN', '조기폐차상태코드'])\n",
    "lgv.info()"
   ]
  },
  {
   "attachments": {},
   "cell_type": "markdown",
   "metadata": {},
   "source": [
    "## 저감장치 부착이력"
   ]
  },
  {
   "cell_type": "code",
   "execution_count": 8,
   "metadata": {},
   "outputs": [
    {
     "name": "stdout",
     "output_type": "stream",
     "text": [
      "<class 'pandas.core.frame.DataFrame'>\n",
      "RangeIndex: 810777 entries, 0 to 810776\n",
      "Data columns (total 16 columns):\n",
      " #   Column      Non-Null Count   Dtype  \n",
      "---  ------      --------------   -----  \n",
      " 0   저감장치종류      586898 non-null  object \n",
      " 1   PM최종저감효율    84460 non-null   float64\n",
      " 2   TDMS부착여부    204951 non-null  object \n",
      " 3   구조변경일자      810777 non-null  int64  \n",
      " 4   부착업체명       801632 non-null  object \n",
      " 5   부착일자        810775 non-null  float64\n",
      " 6   탈거승인일       178 non-null     float64\n",
      " 7   차량번호        810777 non-null  object \n",
      " 8   차대번호        810777 non-null  object \n",
      " 9   주행거리        796828 non-null  float64\n",
      " 10  저감장치반납여부    326030 non-null  object \n",
      " 11  저감장치구분      810777 non-null  object \n",
      " 12  저감등록번호      810777 non-null  int64  \n",
      " 13  재장착확인일자     441 non-null     float64\n",
      " 14  장치일련번호      682711 non-null  object \n",
      " 15  삼원촉매장치반납여부  13694 non-null   object \n",
      "dtypes: float64(5), int64(2), object(9)\n",
      "memory usage: 99.0+ MB\n"
     ]
    }
   ],
   "source": [
    "# about 4.4s\n",
    "name = '[ODS]저감장치부착이력(2022.12.28)'\n",
    "file_name = f'{name}.csv'\n",
    "att = pd.read_csv(os.path.join(ods_fold, file_name), low_memory=False, encoding='cp949')\n",
    "att.info()"
   ]
  },
  {
   "attachments": {},
   "cell_type": "markdown",
   "metadata": {},
   "source": [
    "## 법정동 코드"
   ]
  },
  {
   "cell_type": "code",
   "execution_count": 9,
   "metadata": {},
   "outputs": [
    {
     "name": "stdout",
     "output_type": "stream",
     "text": [
      "<class 'pandas.core.frame.DataFrame'>\n",
      "RangeIndex: 46342 entries, 0 to 46341\n",
      "Data columns (total 9 columns):\n",
      " #   Column    Non-Null Count  Dtype  \n",
      "---  ------    --------------  -----  \n",
      " 0   법정동코드     46342 non-null  int64  \n",
      " 1   시도        46342 non-null  object \n",
      " 2   시구군       46319 non-null  object \n",
      " 3   읍면동       45849 non-null  object \n",
      " 4   리         33682 non-null  object \n",
      " 5   지역3       0 non-null      float64\n",
      " 6   폐지여부      46342 non-null  object \n",
      " 7   대기관리권역    46342 non-null  object \n",
      " 8   대기관리권역YN  46337 non-null  object \n",
      "dtypes: float64(1), int64(1), object(7)\n",
      "memory usage: 3.2+ MB\n"
     ]
    }
   ],
   "source": [
    "# about 5.6s\n",
    "name = '법정동코드_2022.10.14(수정2023.05.04)'\n",
    "file_name = f'{name}.xlsx'\n",
    "code = pd.read_excel(os.path.join(big2_fold, file_name))\n",
    "code.info()"
   ]
  },
  {
   "cell_type": "code",
   "execution_count": 10,
   "metadata": {},
   "outputs": [
    {
     "data": {
      "text/html": [
       "<div>\n",
       "<style scoped>\n",
       "    .dataframe tbody tr th:only-of-type {\n",
       "        vertical-align: middle;\n",
       "    }\n",
       "\n",
       "    .dataframe tbody tr th {\n",
       "        vertical-align: top;\n",
       "    }\n",
       "\n",
       "    .dataframe thead th {\n",
       "        text-align: right;\n",
       "    }\n",
       "</style>\n",
       "<table border=\"1\" class=\"dataframe\">\n",
       "  <thead>\n",
       "    <tr style=\"text-align: right;\">\n",
       "      <th></th>\n",
       "      <th>법정동코드</th>\n",
       "      <th>시도</th>\n",
       "      <th>시구군</th>\n",
       "      <th>읍면동</th>\n",
       "      <th>리</th>\n",
       "      <th>지역3</th>\n",
       "      <th>폐지여부</th>\n",
       "      <th>대기관리권역</th>\n",
       "      <th>대기관리권역YN</th>\n",
       "    </tr>\n",
       "  </thead>\n",
       "  <tbody>\n",
       "    <tr>\n",
       "      <th>0</th>\n",
       "      <td>1100000000</td>\n",
       "      <td>서울특별시</td>\n",
       "      <td>NaN</td>\n",
       "      <td>NaN</td>\n",
       "      <td>NaN</td>\n",
       "      <td>NaN</td>\n",
       "      <td>존재</td>\n",
       "      <td>수도권</td>\n",
       "      <td>Y</td>\n",
       "    </tr>\n",
       "    <tr>\n",
       "      <th>1</th>\n",
       "      <td>1111000000</td>\n",
       "      <td>서울특별시</td>\n",
       "      <td>종로구</td>\n",
       "      <td>NaN</td>\n",
       "      <td>NaN</td>\n",
       "      <td>NaN</td>\n",
       "      <td>존재</td>\n",
       "      <td>수도권</td>\n",
       "      <td>Y</td>\n",
       "    </tr>\n",
       "    <tr>\n",
       "      <th>2</th>\n",
       "      <td>1111010100</td>\n",
       "      <td>서울특별시</td>\n",
       "      <td>종로구</td>\n",
       "      <td>청운동</td>\n",
       "      <td>NaN</td>\n",
       "      <td>NaN</td>\n",
       "      <td>존재</td>\n",
       "      <td>수도권</td>\n",
       "      <td>Y</td>\n",
       "    </tr>\n",
       "    <tr>\n",
       "      <th>3</th>\n",
       "      <td>1111010200</td>\n",
       "      <td>서울특별시</td>\n",
       "      <td>종로구</td>\n",
       "      <td>신교동</td>\n",
       "      <td>NaN</td>\n",
       "      <td>NaN</td>\n",
       "      <td>존재</td>\n",
       "      <td>수도권</td>\n",
       "      <td>Y</td>\n",
       "    </tr>\n",
       "    <tr>\n",
       "      <th>4</th>\n",
       "      <td>1111010300</td>\n",
       "      <td>서울특별시</td>\n",
       "      <td>종로구</td>\n",
       "      <td>궁정동</td>\n",
       "      <td>NaN</td>\n",
       "      <td>NaN</td>\n",
       "      <td>존재</td>\n",
       "      <td>수도권</td>\n",
       "      <td>Y</td>\n",
       "    </tr>\n",
       "  </tbody>\n",
       "</table>\n",
       "</div>"
      ],
      "text/plain": [
       "        법정동코드     시도  시구군  읍면동    리  지역3 폐지여부 대기관리권역 대기관리권역YN\n",
       "0  1100000000  서울특별시  NaN  NaN  NaN  NaN   존재    수도권        Y\n",
       "1  1111000000  서울특별시  종로구  NaN  NaN  NaN   존재    수도권        Y\n",
       "2  1111010100  서울특별시  종로구  청운동  NaN  NaN   존재    수도권        Y\n",
       "3  1111010200  서울특별시  종로구  신교동  NaN  NaN   존재    수도권        Y\n",
       "4  1111010300  서울특별시  종로구  궁정동  NaN  NaN   존재    수도권        Y"
      ]
     },
     "execution_count": 10,
     "metadata": {},
     "output_type": "execute_result"
    }
   ],
   "source": [
    "code.head()"
   ]
  },
  {
   "cell_type": "code",
   "execution_count": 11,
   "metadata": {},
   "outputs": [
    {
     "data": {
      "text/html": [
       "<div>\n",
       "<style scoped>\n",
       "    .dataframe tbody tr th:only-of-type {\n",
       "        vertical-align: middle;\n",
       "    }\n",
       "\n",
       "    .dataframe tbody tr th {\n",
       "        vertical-align: top;\n",
       "    }\n",
       "\n",
       "    .dataframe thead th {\n",
       "        text-align: right;\n",
       "    }\n",
       "</style>\n",
       "<table border=\"1\" class=\"dataframe\">\n",
       "  <thead>\n",
       "    <tr style=\"text-align: right;\">\n",
       "      <th></th>\n",
       "      <th>본거지법정동코드</th>\n",
       "      <th>시도</th>\n",
       "      <th>시구군</th>\n",
       "      <th>읍면동</th>\n",
       "      <th>리</th>\n",
       "      <th>지역3</th>\n",
       "      <th>폐지여부</th>\n",
       "      <th>대기관리권역</th>\n",
       "      <th>대기관리권역YN</th>\n",
       "    </tr>\n",
       "  </thead>\n",
       "  <tbody>\n",
       "    <tr>\n",
       "      <th>0</th>\n",
       "      <td>1100000000</td>\n",
       "      <td>서울특별시</td>\n",
       "      <td>NaN</td>\n",
       "      <td>NaN</td>\n",
       "      <td>NaN</td>\n",
       "      <td>NaN</td>\n",
       "      <td>존재</td>\n",
       "      <td>수도권</td>\n",
       "      <td>Y</td>\n",
       "    </tr>\n",
       "    <tr>\n",
       "      <th>1</th>\n",
       "      <td>1111000000</td>\n",
       "      <td>서울특별시</td>\n",
       "      <td>종로구</td>\n",
       "      <td>NaN</td>\n",
       "      <td>NaN</td>\n",
       "      <td>NaN</td>\n",
       "      <td>존재</td>\n",
       "      <td>수도권</td>\n",
       "      <td>Y</td>\n",
       "    </tr>\n",
       "    <tr>\n",
       "      <th>2</th>\n",
       "      <td>1111010100</td>\n",
       "      <td>서울특별시</td>\n",
       "      <td>종로구</td>\n",
       "      <td>청운동</td>\n",
       "      <td>NaN</td>\n",
       "      <td>NaN</td>\n",
       "      <td>존재</td>\n",
       "      <td>수도권</td>\n",
       "      <td>Y</td>\n",
       "    </tr>\n",
       "    <tr>\n",
       "      <th>3</th>\n",
       "      <td>1111010200</td>\n",
       "      <td>서울특별시</td>\n",
       "      <td>종로구</td>\n",
       "      <td>신교동</td>\n",
       "      <td>NaN</td>\n",
       "      <td>NaN</td>\n",
       "      <td>존재</td>\n",
       "      <td>수도권</td>\n",
       "      <td>Y</td>\n",
       "    </tr>\n",
       "    <tr>\n",
       "      <th>4</th>\n",
       "      <td>1111010300</td>\n",
       "      <td>서울특별시</td>\n",
       "      <td>종로구</td>\n",
       "      <td>궁정동</td>\n",
       "      <td>NaN</td>\n",
       "      <td>NaN</td>\n",
       "      <td>존재</td>\n",
       "      <td>수도권</td>\n",
       "      <td>Y</td>\n",
       "    </tr>\n",
       "  </tbody>\n",
       "</table>\n",
       "</div>"
      ],
      "text/plain": [
       "     본거지법정동코드     시도  시구군  읍면동    리  지역3 폐지여부 대기관리권역 대기관리권역YN\n",
       "0  1100000000  서울특별시  NaN  NaN  NaN  NaN   존재    수도권        Y\n",
       "1  1111000000  서울특별시  종로구  NaN  NaN  NaN   존재    수도권        Y\n",
       "2  1111010100  서울특별시  종로구  청운동  NaN  NaN   존재    수도권        Y\n",
       "3  1111010200  서울특별시  종로구  신교동  NaN  NaN   존재    수도권        Y\n",
       "4  1111010300  서울특별시  종로구  궁정동  NaN  NaN   존재    수도권        Y"
      ]
     },
     "execution_count": 11,
     "metadata": {},
     "output_type": "execute_result"
    }
   ],
   "source": [
    "code = code.rename(columns={'법정동코드':'본거지법정동코드'})\n",
    "code.head()"
   ]
  },
  {
   "attachments": {},
   "cell_type": "markdown",
   "metadata": {},
   "source": [
    "## 차명_연료_매칭"
   ]
  },
  {
   "cell_type": "code",
   "execution_count": 12,
   "metadata": {},
   "outputs": [
    {
     "name": "stdout",
     "output_type": "stream",
     "text": [
      "<class 'pandas.core.frame.DataFrame'>\n",
      "RangeIndex: 216 entries, 0 to 215\n",
      "Data columns (total 2 columns):\n",
      " #   Column  Non-Null Count  Dtype \n",
      "---  ------  --------------  ----- \n",
      " 0   차명      216 non-null    object\n",
      " 1   연료      216 non-null    object\n",
      "dtypes: object(2)\n",
      "memory usage: 3.5+ KB\n"
     ]
    }
   ],
   "source": [
    "# about 0.1s\n",
    "name = '차명_연료_매칭_2023.03.03_AM.11.12.03'\n",
    "file_name = f'{name}.xlsx'\n",
    "fuel = pd.read_excel(os.path.join(big2_fold, file_name))\n",
    "fuel.info()"
   ]
  },
  {
   "cell_type": "code",
   "execution_count": 13,
   "metadata": {},
   "outputs": [
    {
     "data": {
      "text/html": [
       "<div>\n",
       "<style scoped>\n",
       "    .dataframe tbody tr th:only-of-type {\n",
       "        vertical-align: middle;\n",
       "    }\n",
       "\n",
       "    .dataframe tbody tr th {\n",
       "        vertical-align: top;\n",
       "    }\n",
       "\n",
       "    .dataframe thead th {\n",
       "        text-align: right;\n",
       "    }\n",
       "</style>\n",
       "<table border=\"1\" class=\"dataframe\">\n",
       "  <thead>\n",
       "    <tr style=\"text-align: right;\">\n",
       "      <th></th>\n",
       "      <th>차명</th>\n",
       "      <th>연료</th>\n",
       "    </tr>\n",
       "  </thead>\n",
       "  <tbody>\n",
       "    <tr>\n",
       "      <th>0</th>\n",
       "      <td>BENZ S500</td>\n",
       "      <td>휘발유</td>\n",
       "    </tr>\n",
       "    <tr>\n",
       "      <th>1</th>\n",
       "      <td>BMW</td>\n",
       "      <td>휘발유</td>\n",
       "    </tr>\n",
       "    <tr>\n",
       "      <th>2</th>\n",
       "      <td>BMW 3-SERIES</td>\n",
       "      <td>휘발유</td>\n",
       "    </tr>\n",
       "    <tr>\n",
       "      <th>3</th>\n",
       "      <td>BMW 318I</td>\n",
       "      <td>휘발유</td>\n",
       "    </tr>\n",
       "    <tr>\n",
       "      <th>4</th>\n",
       "      <td>BMW 325CI</td>\n",
       "      <td>휘발유</td>\n",
       "    </tr>\n",
       "  </tbody>\n",
       "</table>\n",
       "</div>"
      ],
      "text/plain": [
       "             차명   연료\n",
       "0     BENZ S500  휘발유\n",
       "1           BMW  휘발유\n",
       "2  BMW 3-SERIES  휘발유\n",
       "3      BMW 318I  휘발유\n",
       "4     BMW 325CI  휘발유"
      ]
     },
     "execution_count": 13,
     "metadata": {},
     "output_type": "execute_result"
    }
   ],
   "source": [
    "fuel.head()"
   ]
  },
  {
   "attachments": {},
   "cell_type": "markdown",
   "metadata": {},
   "source": [
    "## 운행제한 단속 정보"
   ]
  },
  {
   "cell_type": "code",
   "execution_count": 14,
   "metadata": {},
   "outputs": [
    {
     "name": "stdout",
     "output_type": "stream",
     "text": [
      "<class 'pandas.core.frame.DataFrame'>\n",
      "RangeIndex: 1225025 entries, 0 to 1225024\n",
      "Data columns (total 5 columns):\n",
      " #   Column         Non-Null Count    Dtype  \n",
      "---  ------         --------------    -----  \n",
      " 0   차대번호           1225025 non-null  object \n",
      " 1   비상시및계절제단속발령건수  1204906 non-null  float64\n",
      " 2   비상시및계절제단속발령YN  1204906 non-null  object \n",
      " 3   운행제한단속정보건수     85594 non-null    float64\n",
      " 4   운행제한단속정보YN     85594 non-null    object \n",
      "dtypes: float64(2), object(3)\n",
      "memory usage: 46.7+ MB\n"
     ]
    }
   ],
   "source": [
    "# about \n",
    "name = '운행제한 테이블 비교'\n",
    "file_name = f'{name}.csv'\n",
    "limit = pd.read_csv(os.path.join(raw_fold, file_name), encoding='cp949')\n",
    "limit.info()"
   ]
  },
  {
   "cell_type": "code",
   "execution_count": 15,
   "metadata": {},
   "outputs": [
    {
     "data": {
      "text/html": [
       "<div>\n",
       "<style scoped>\n",
       "    .dataframe tbody tr th:only-of-type {\n",
       "        vertical-align: middle;\n",
       "    }\n",
       "\n",
       "    .dataframe tbody tr th {\n",
       "        vertical-align: top;\n",
       "    }\n",
       "\n",
       "    .dataframe thead th {\n",
       "        text-align: right;\n",
       "    }\n",
       "</style>\n",
       "<table border=\"1\" class=\"dataframe\">\n",
       "  <thead>\n",
       "    <tr style=\"text-align: right;\">\n",
       "      <th></th>\n",
       "      <th>차대번호</th>\n",
       "      <th>비상시및계절제단속발령건수</th>\n",
       "      <th>비상시및계절제단속발령YN</th>\n",
       "      <th>운행제한단속정보건수</th>\n",
       "      <th>운행제한단속정보YN</th>\n",
       "    </tr>\n",
       "  </thead>\n",
       "  <tbody>\n",
       "    <tr>\n",
       "      <th>81</th>\n",
       "      <td>KMFDA18TP5C003672</td>\n",
       "      <td>450.00</td>\n",
       "      <td>Y</td>\n",
       "      <td>1.00</td>\n",
       "      <td>Y</td>\n",
       "    </tr>\n",
       "    <tr>\n",
       "      <th>109</th>\n",
       "      <td>YV2JS02CX6A619834</td>\n",
       "      <td>62.00</td>\n",
       "      <td>Y</td>\n",
       "      <td>81.00</td>\n",
       "      <td>Y</td>\n",
       "    </tr>\n",
       "    <tr>\n",
       "      <th>134</th>\n",
       "      <td>KMHSJ81WP6U077230</td>\n",
       "      <td>16.00</td>\n",
       "      <td>Y</td>\n",
       "      <td>1.00</td>\n",
       "      <td>Y</td>\n",
       "    </tr>\n",
       "    <tr>\n",
       "      <th>181</th>\n",
       "      <td>KMFLA18EP7C020349</td>\n",
       "      <td>1858.00</td>\n",
       "      <td>Y</td>\n",
       "      <td>183.00</td>\n",
       "      <td>Y</td>\n",
       "    </tr>\n",
       "    <tr>\n",
       "      <th>186</th>\n",
       "      <td>KMFGA17PP7C057641</td>\n",
       "      <td>223.00</td>\n",
       "      <td>Y</td>\n",
       "      <td>8.00</td>\n",
       "      <td>Y</td>\n",
       "    </tr>\n",
       "  </tbody>\n",
       "</table>\n",
       "</div>"
      ],
      "text/plain": [
       "                  차대번호  비상시및계절제단속발령건수 비상시및계절제단속발령YN  운행제한단속정보건수 운행제한단속정보YN\n",
       "81   KMFDA18TP5C003672         450.00             Y        1.00          Y\n",
       "109  YV2JS02CX6A619834          62.00             Y       81.00          Y\n",
       "134  KMHSJ81WP6U077230          16.00             Y        1.00          Y\n",
       "181  KMFLA18EP7C020349        1858.00             Y      183.00          Y\n",
       "186  KMFGA17PP7C057641         223.00             Y        8.00          Y"
      ]
     },
     "execution_count": 15,
     "metadata": {},
     "output_type": "execute_result"
    }
   ],
   "source": [
    "limit.loc[limit['운행제한단속정보건수'].isnull() == False].head()"
   ]
  },
  {
   "attachments": {},
   "cell_type": "markdown",
   "metadata": {},
   "source": [
    "### 5등급 차량 데이터에 운행제한 적발건수 정보 추가\n",
    "- 차대번호, 차종_등록정보, 차종유형, 운행제한단속정보건수"
   ]
  },
  {
   "cell_type": "code",
   "execution_count": 16,
   "metadata": {},
   "outputs": [
    {
     "data": {
      "text/plain": [
       "(29534047, 49)"
      ]
     },
     "execution_count": 16,
     "metadata": {},
     "output_type": "execute_result"
    }
   ],
   "source": [
    "car.shape"
   ]
  },
  {
   "cell_type": "code",
   "execution_count": 17,
   "metadata": {},
   "outputs": [
    {
     "data": {
      "text/plain": [
       "Index(['차량관리번호', '차량등록번호', '본거지법정동코드', '소유자구분', '차종_등록정보', '용도', '현재회원번호',\n",
       "       '차대번호', '최초등록일자', '차량연식', '차량제작일자', '배출가스검사유효일자', '제원관리번호', '배출가스인증번호',\n",
       "       '배출가스등급', '저공해조치YN(미사용)', '저공해조치종류', '저공해조치구조변경YN', '차량등록번호숫자정보',\n",
       "       '차량말소YN', '최초회원번호', '취득일자', '취득금액', '생성일시_등록정보', '수정일시_등록정보', '차명',\n",
       "       '차종_제원정보', '차종분류', '차종유형(소분류)', '자동차형식', '제작사명', '연료', '엔진형식', '공차중량',\n",
       "       '총중량', '적재중량', '엔진출력', '배기량', '승차인원', '차량길이', '차량너비', '차량높이', '원산지명',\n",
       "       '삭제YN', '승인일자', '구동형식', '변속기종류', '생성일시_제원정보', '수정일시_제원정보'],\n",
       "      dtype='object')"
      ]
     },
     "execution_count": 17,
     "metadata": {},
     "output_type": "execute_result"
    }
   ],
   "source": [
    "car.columns"
   ]
  },
  {
   "cell_type": "code",
   "execution_count": 18,
   "metadata": {},
   "outputs": [
    {
     "data": {
      "text/plain": [
       "차량말소YN\n",
       "N    25693532\n",
       "Y     3840515\n",
       "Name: count, dtype: int64"
      ]
     },
     "execution_count": 18,
     "metadata": {},
     "output_type": "execute_result"
    }
   ],
   "source": [
    "car['차량말소YN'].value_counts(dropna=False)"
   ]
  },
  {
   "cell_type": "code",
   "execution_count": 19,
   "metadata": {},
   "outputs": [
    {
     "data": {
      "text/plain": [
       "(25693532, 5)"
      ]
     },
     "execution_count": 19,
     "metadata": {},
     "output_type": "execute_result"
    }
   ],
   "source": [
    "# about 56.3s\n",
    "car_limit = car.loc[car['차량말소YN'] == 'N', ['차대번호', '본거지법정동코드', '차종_등록정보', '차종유형(소분류)']].merge(limit[['차대번호', '운행제한단속정보건수']], on='차대번호', how='left')\n",
    "car_limit.shape"
   ]
  },
  {
   "cell_type": "code",
   "execution_count": 20,
   "metadata": {},
   "outputs": [
    {
     "data": {
      "text/plain": [
       "25643877"
      ]
     },
     "execution_count": 20,
     "metadata": {},
     "output_type": "execute_result"
    }
   ],
   "source": [
    "car_limit['운행제한단속정보건수'].isnull().sum()"
   ]
  },
  {
   "cell_type": "code",
   "execution_count": 22,
   "metadata": {},
   "outputs": [],
   "source": [
    "chc_dict = {\n",
    "    '본거지법정동코드':'BSPL_STDG_CD', \n",
    "    '차대번호':'VIN', \n",
    "    '차종_등록정보':'VHCTY_CD',\n",
    "    '차종유형(소분류)':'VHCTY_TY', \n",
    "    '연료':'FUEL_CD',\n",
    "    '차량말소YN':'VHCL_ERSR_YN', \n",
    "    '조기폐차최종승인YN':'ELPDSRC_LAST_APRV_YN', \n",
    "    '운행제한단속정보건수':'RUN_LMT_CRDN_INFO_NOCS',\n",
    "}"
   ]
  },
  {
   "cell_type": "code",
   "execution_count": 23,
   "metadata": {},
   "outputs": [
    {
     "data": {
      "text/plain": [
       "Index(['VIN', 'BSPL_STDG_CD', 'VHCTY_CD', 'VHCTY_TY',\n",
       "       'RUN_LMT_CRDN_INFO_NOCS'],\n",
       "      dtype='object')"
      ]
     },
     "execution_count": 23,
     "metadata": {},
     "output_type": "execute_result"
    }
   ],
   "source": [
    "car_limit = car_limit.rename(columns=chc_dict)\n",
    "car_limit.columns"
   ]
  },
  {
   "cell_type": "code",
   "execution_count": 24,
   "metadata": {},
   "outputs": [],
   "source": [
    "# about \n",
    "car_limit.to_csv(os.path.join(df_fold, '운행제한단속건수.csv'), index=False)"
   ]
  },
  {
   "cell_type": "code",
   "execution_count": null,
   "metadata": {},
   "outputs": [],
   "source": []
  },
  {
   "cell_type": "code",
   "execution_count": 16,
   "metadata": {},
   "outputs": [
    {
     "data": {
      "text/plain": [
       "1225025"
      ]
     },
     "execution_count": 16,
     "metadata": {},
     "output_type": "execute_result"
    }
   ],
   "source": [
    "len(limit['차대번호'].unique())"
   ]
  },
  {
   "cell_type": "code",
   "execution_count": 17,
   "metadata": {},
   "outputs": [
    {
     "data": {
      "text/plain": [
       "(1225025, 2)"
      ]
     },
     "execution_count": 17,
     "metadata": {},
     "output_type": "execute_result"
    }
   ],
   "source": [
    "limit = limit[['차대번호', '운행제한단속정보YN']]\n",
    "limit.shape"
   ]
  },
  {
   "cell_type": "code",
   "execution_count": 18,
   "metadata": {},
   "outputs": [
    {
     "data": {
      "text/plain": [
       "Index(['차대번호', '운행제한단속YN'], dtype='object')"
      ]
     },
     "execution_count": 18,
     "metadata": {},
     "output_type": "execute_result"
    }
   ],
   "source": [
    "limit = limit.rename(columns={'운행제한단속정보YN':'운행제한단속YN'})\n",
    "limit.columns"
   ]
  },
  {
   "attachments": {},
   "cell_type": "markdown",
   "metadata": {},
   "source": [
    "## 비상시 및 계절제 단속 정보"
   ]
  },
  {
   "cell_type": "code",
   "execution_count": 19,
   "metadata": {},
   "outputs": [
    {
     "name": "stdout",
     "output_type": "stream",
     "text": [
      "<class 'pandas.core.frame.DataFrame'>\n",
      "RangeIndex: 1204906 entries, 0 to 1204905\n",
      "Data columns (total 5 columns):\n",
      " #   Column     Non-Null Count    Dtype \n",
      "---  ------     --------------    ----- \n",
      " 0   차대번호       1204906 non-null  object\n",
      " 1   계절제1차단속YN  148281 non-null   object\n",
      " 2   계절제2차단속YN  672107 non-null   object\n",
      " 3   계절제3차단속YN  589160 non-null   object\n",
      " 4   비상시단속YN    397477 non-null   object\n",
      "dtypes: object(5)\n",
      "memory usage: 46.0+ MB\n"
     ]
    }
   ],
   "source": [
    "# about 2.4s\n",
    "name = '비상시 및 계절제 단속발령 적발YN(2023.05.26)'\n",
    "file_name = f'{name}.csv'\n",
    "slimit = pd.read_csv(os.path.join(raw_fold, file_name))\n",
    "slimit.info()"
   ]
  },
  {
   "cell_type": "code",
   "execution_count": 20,
   "metadata": {},
   "outputs": [],
   "source": [
    "slimitm = slimit.copy()"
   ]
  },
  {
   "attachments": {},
   "cell_type": "markdown",
   "metadata": {},
   "source": [
    "# 전처리"
   ]
  },
  {
   "attachments": {},
   "cell_type": "markdown",
   "metadata": {},
   "source": [
    "## 말소 차량 제거(❌)"
   ]
  },
  {
   "cell_type": "code",
   "execution_count": 28,
   "metadata": {},
   "outputs": [
    {
     "data": {
      "text/plain": [
       "차량말소YN\n",
       "N    25693532\n",
       "Y     3840515\n",
       "Name: count, dtype: int64"
      ]
     },
     "execution_count": 28,
     "metadata": {},
     "output_type": "execute_result"
    }
   ],
   "source": [
    "car['차량말소YN'].value_counts(dropna=False)"
   ]
  },
  {
   "cell_type": "code",
   "execution_count": 29,
   "metadata": {},
   "outputs": [
    {
     "data": {
      "text/plain": [
       "(29534047, 49)"
      ]
     },
     "execution_count": 29,
     "metadata": {},
     "output_type": "execute_result"
    }
   ],
   "source": [
    "# about 37.2s\n",
    "# carm = car.loc[car['차량말소YN'] == 'N'].reset_index(drop=True)\n",
    "carm = car.reset_index(drop=True)\n",
    "carm.shape"
   ]
  },
  {
   "cell_type": "code",
   "execution_count": 30,
   "metadata": {},
   "outputs": [
    {
     "data": {
      "text/plain": [
       "Index(['차량관리번호', '차량등록번호', '본거지법정동코드', '소유자구분', '차종_등록정보', '용도', '현재회원번호',\n",
       "       '차대번호', '최초등록일자', '차량연식', '차량제작일자', '배출가스검사유효일자', '제원관리번호', '배출가스인증번호',\n",
       "       '배출가스등급', '저공해조치YN(미사용)', '저공해조치종류', '저공해조치구조변경YN', '차량등록번호숫자정보',\n",
       "       '차량말소YN', '최초회원번호', '취득일자', '취득금액', '생성일시_등록정보', '수정일시_등록정보', '차명',\n",
       "       '차종_제원정보', '차종분류', '차종유형(소분류)', '자동차형식', '제작사명', '연료', '엔진형식', '공차중량',\n",
       "       '총중량', '적재중량', '엔진출력', '배기량', '승차인원', '차량길이', '차량너비', '차량높이', '원산지명',\n",
       "       '삭제YN', '승인일자', '구동형식', '변속기종류', '생성일시_제원정보', '수정일시_제원정보'],\n",
       "      dtype='object')"
      ]
     },
     "execution_count": 30,
     "metadata": {},
     "output_type": "execute_result"
    }
   ],
   "source": [
    "carm.columns"
   ]
  },
  {
   "cell_type": "code",
   "execution_count": 21,
   "metadata": {},
   "outputs": [
    {
     "data": {
      "text/plain": [
       "차량말소YN\n",
       "Y    1223886\n",
       "N    1154762\n",
       "Name: count, dtype: int64"
      ]
     },
     "execution_count": 21,
     "metadata": {},
     "output_type": "execute_result"
    }
   ],
   "source": [
    "g5['차량말소YN'].value_counts(dropna=False)"
   ]
  },
  {
   "cell_type": "code",
   "execution_count": 22,
   "metadata": {},
   "outputs": [
    {
     "data": {
      "text/plain": [
       "(2378648, 49)"
      ]
     },
     "execution_count": 22,
     "metadata": {},
     "output_type": "execute_result"
    }
   ],
   "source": [
    "# gm5 = g5.loc[g5['차량말소YN'] == 'N'].reset_index(drop=True)\n",
    "gm5 = g5.reset_index(drop=True)\n",
    "gm5.shape"
   ]
  },
  {
   "cell_type": "code",
   "execution_count": 23,
   "metadata": {},
   "outputs": [
    {
     "data": {
      "text/plain": [
       "Index(['차량관리번호', '차량등록번호', '본거지법정동코드', '소유자구분', '차종_등록정보', '용도', '현재회원번호',\n",
       "       '차대번호', '최초등록일자', '차량연식', '차량제작일자', '배출가스검사유효일자', '제원관리번호', '배출가스인증번호',\n",
       "       '배출가스등급', '저공해조치YN(미사용)', '저공해조치종류', '저공해조치구조변경YN', '차량등록번호숫자정보',\n",
       "       '차량말소YN', '최초회원번호', '취득일자', '취득금액', '생성일시_등록정보', '수정일시_등록정보', '차명',\n",
       "       '차종_제원정보', '차종분류', '차종유형(소분류)', '자동차형식', '제작사명', '연료', '엔진형식', '공차중량',\n",
       "       '총중량', '적재중량', '엔진출력', '배기량', '승차인원', '차량길이', '차량너비', '차량높이', '원산지명',\n",
       "       '삭제YN', '승인일자', '구동형식', '변속기종류', '생성일시_제원정보', '수정일시_제원정보'],\n",
       "      dtype='object')"
      ]
     },
     "execution_count": 23,
     "metadata": {},
     "output_type": "execute_result"
    }
   ],
   "source": [
    "gm5.columns"
   ]
  },
  {
   "attachments": {},
   "cell_type": "markdown",
   "metadata": {},
   "source": [
    "## 등급 수정"
   ]
  },
  {
   "cell_type": "code",
   "execution_count": 34,
   "metadata": {},
   "outputs": [
    {
     "data": {
      "text/plain": [
       "배출가스등급\n",
       "2      11803371\n",
       "3       9890563\n",
       "1       2870152\n",
       "5       2378599\n",
       "4       1898773\n",
       "X        305339\n",
       "T2       250282\n",
       "T3       136844\n",
       "T5           49\n",
       "T4           43\n",
       "NaN          32\n",
       "Name: count, dtype: int64"
      ]
     },
     "execution_count": 34,
     "metadata": {},
     "output_type": "execute_result"
    }
   ],
   "source": [
    "carm['배출가스등급'].value_counts(dropna=False)"
   ]
  },
  {
   "cell_type": "code",
   "execution_count": 35,
   "metadata": {},
   "outputs": [],
   "source": [
    "carm.loc[(carm['배출가스등급'] == 1) | (carm['배출가스등급'] == '1'), '등급'] = 1\n",
    "carm.loc[(carm['배출가스등급'] == 2) | (carm['배출가스등급'] == '2') | (carm['배출가스등급'] == 'T2'), '등급'] = 2\n",
    "carm.loc[(carm['배출가스등급'] == 3) | (carm['배출가스등급'] == '3') | (carm['배출가스등급'] == 'T3'), '등급'] = 3\n",
    "carm.loc[(carm['배출가스등급'] == 4) | (carm['배출가스등급'] == '4') | (carm['배출가스등급'] == 'T4'), '등급'] = 4\n",
    "carm.loc[(carm['배출가스등급'] == 5) | (carm['배출가스등급'] == '5') | (carm['배출가스등급'] == 'T5'), '등급'] = 5\n",
    "carm.loc[carm['배출가스등급'] == 'X', '등급'] = 'X'\n",
    "carm.loc[carm['배출가스등급'].isnull() == True, '등급'] = np.nan"
   ]
  },
  {
   "cell_type": "code",
   "execution_count": 36,
   "metadata": {},
   "outputs": [
    {
     "data": {
      "text/plain": [
       "등급\n",
       "2.0    12053653\n",
       "3.0    10027407\n",
       "1.0     2870152\n",
       "5.0     2378648\n",
       "4.0     1898816\n",
       "X        305339\n",
       "NaN          32\n",
       "Name: count, dtype: int64"
      ]
     },
     "execution_count": 36,
     "metadata": {},
     "output_type": "execute_result"
    }
   ],
   "source": [
    "carm['등급'].value_counts(dropna=False)"
   ]
  },
  {
   "attachments": {},
   "cell_type": "markdown",
   "metadata": {},
   "source": [
    "## 시도, 시구군 정보 부착"
   ]
  },
  {
   "cell_type": "code",
   "execution_count": 37,
   "metadata": {},
   "outputs": [
    {
     "data": {
      "text/plain": [
       "Index(['본거지법정동코드', '시도', '시구군', '읍면동', '리', '지역3', '폐지여부', '대기관리권역',\n",
       "       '대기관리권역YN'],\n",
       "      dtype='object')"
      ]
     },
     "execution_count": 37,
     "metadata": {},
     "output_type": "execute_result"
    }
   ],
   "source": [
    "code.columns"
   ]
  },
  {
   "cell_type": "code",
   "execution_count": 38,
   "metadata": {},
   "outputs": [
    {
     "data": {
      "text/plain": [
       "Index(['차량관리번호', '차량등록번호', '본거지법정동코드', '소유자구분', '차종_등록정보', '용도', '현재회원번호',\n",
       "       '차대번호', '최초등록일자', '차량연식', '차량제작일자', '배출가스검사유효일자', '제원관리번호', '배출가스인증번호',\n",
       "       '배출가스등급', '저공해조치YN(미사용)', '저공해조치종류', '저공해조치구조변경YN', '차량등록번호숫자정보',\n",
       "       '차량말소YN', '최초회원번호', '취득일자', '취득금액', '생성일시_등록정보', '수정일시_등록정보', '차명',\n",
       "       '차종_제원정보', '차종분류', '차종유형(소분류)', '자동차형식', '제작사명', '연료', '엔진형식', '공차중량',\n",
       "       '총중량', '적재중량', '엔진출력', '배기량', '승차인원', '차량길이', '차량너비', '차량높이', '원산지명',\n",
       "       '삭제YN', '승인일자', '구동형식', '변속기종류', '생성일시_제원정보', '수정일시_제원정보', '등급'],\n",
       "      dtype='object')"
      ]
     },
     "execution_count": 38,
     "metadata": {},
     "output_type": "execute_result"
    }
   ],
   "source": [
    "carm.columns"
   ]
  },
  {
   "cell_type": "code",
   "execution_count": 39,
   "metadata": {},
   "outputs": [
    {
     "data": {
      "text/plain": [
       "(29534047, 13)"
      ]
     },
     "execution_count": 39,
     "metadata": {},
     "output_type": "execute_result"
    }
   ],
   "source": [
    "# about 20.5s\n",
    "df = carm[['차량등록번호', '본거지법정동코드', '차대번호', '제원관리번호', '배출가스인증번호', '차명', '차종_등록정보', '차종유형(소분류)', '연료', '차량말소YN', '등급']].merge(code[['본거지법정동코드', '시도', '시구군']], on='본거지법정동코드', how='left')\n",
    "df.shape"
   ]
  },
  {
   "cell_type": "code",
   "execution_count": 40,
   "metadata": {},
   "outputs": [
    {
     "data": {
      "text/plain": [
       "시도      0\n",
       "시구군    27\n",
       "dtype: int64"
      ]
     },
     "execution_count": 40,
     "metadata": {},
     "output_type": "execute_result"
    }
   ],
   "source": [
    "df[['시도', '시구군']].isnull().sum()"
   ]
  },
  {
   "cell_type": "code",
   "execution_count": 41,
   "metadata": {},
   "outputs": [
    {
     "data": {
      "text/html": [
       "<div>\n",
       "<style scoped>\n",
       "    .dataframe tbody tr th:only-of-type {\n",
       "        vertical-align: middle;\n",
       "    }\n",
       "\n",
       "    .dataframe tbody tr th {\n",
       "        vertical-align: top;\n",
       "    }\n",
       "\n",
       "    .dataframe thead th {\n",
       "        text-align: right;\n",
       "    }\n",
       "</style>\n",
       "<table border=\"1\" class=\"dataframe\">\n",
       "  <thead>\n",
       "    <tr style=\"text-align: right;\">\n",
       "      <th></th>\n",
       "      <th>본거지법정동코드</th>\n",
       "      <th>시도</th>\n",
       "      <th>시구군</th>\n",
       "    </tr>\n",
       "  </thead>\n",
       "  <tbody>\n",
       "  </tbody>\n",
       "</table>\n",
       "</div>"
      ],
      "text/plain": [
       "Empty DataFrame\n",
       "Columns: [본거지법정동코드, 시도, 시구군]\n",
       "Index: []"
      ]
     },
     "execution_count": 41,
     "metadata": {},
     "output_type": "execute_result"
    }
   ],
   "source": [
    "df.loc[df['시도'].isnull() == True, ['본거지법정동코드', '시도', '시구군']]"
   ]
  },
  {
   "cell_type": "code",
   "execution_count": 42,
   "metadata": {},
   "outputs": [
    {
     "data": {
      "text/html": [
       "<div>\n",
       "<style scoped>\n",
       "    .dataframe tbody tr th:only-of-type {\n",
       "        vertical-align: middle;\n",
       "    }\n",
       "\n",
       "    .dataframe tbody tr th {\n",
       "        vertical-align: top;\n",
       "    }\n",
       "\n",
       "    .dataframe thead th {\n",
       "        text-align: right;\n",
       "    }\n",
       "</style>\n",
       "<table border=\"1\" class=\"dataframe\">\n",
       "  <thead>\n",
       "    <tr style=\"text-align: right;\">\n",
       "      <th></th>\n",
       "      <th>본거지법정동코드</th>\n",
       "      <th>시도</th>\n",
       "      <th>시구군</th>\n",
       "    </tr>\n",
       "  </thead>\n",
       "  <tbody>\n",
       "    <tr>\n",
       "      <th>6410</th>\n",
       "      <td>4100000000</td>\n",
       "      <td>경기도</td>\n",
       "      <td>NaN</td>\n",
       "    </tr>\n",
       "    <tr>\n",
       "      <th>7767</th>\n",
       "      <td>3611000000</td>\n",
       "      <td>세종특별자치시</td>\n",
       "      <td>NaN</td>\n",
       "    </tr>\n",
       "    <tr>\n",
       "      <th>7864</th>\n",
       "      <td>3611000000</td>\n",
       "      <td>세종특별자치시</td>\n",
       "      <td>NaN</td>\n",
       "    </tr>\n",
       "    <tr>\n",
       "      <th>10318</th>\n",
       "      <td>3611000000</td>\n",
       "      <td>세종특별자치시</td>\n",
       "      <td>NaN</td>\n",
       "    </tr>\n",
       "    <tr>\n",
       "      <th>21817</th>\n",
       "      <td>3611000000</td>\n",
       "      <td>세종특별자치시</td>\n",
       "      <td>NaN</td>\n",
       "    </tr>\n",
       "    <tr>\n",
       "      <th>26056</th>\n",
       "      <td>3611000000</td>\n",
       "      <td>세종특별자치시</td>\n",
       "      <td>NaN</td>\n",
       "    </tr>\n",
       "    <tr>\n",
       "      <th>30707</th>\n",
       "      <td>3611000000</td>\n",
       "      <td>세종특별자치시</td>\n",
       "      <td>NaN</td>\n",
       "    </tr>\n",
       "    <tr>\n",
       "      <th>30767</th>\n",
       "      <td>3611000000</td>\n",
       "      <td>세종특별자치시</td>\n",
       "      <td>NaN</td>\n",
       "    </tr>\n",
       "    <tr>\n",
       "      <th>31076</th>\n",
       "      <td>3611000000</td>\n",
       "      <td>세종특별자치시</td>\n",
       "      <td>NaN</td>\n",
       "    </tr>\n",
       "    <tr>\n",
       "      <th>32500</th>\n",
       "      <td>3611000000</td>\n",
       "      <td>세종특별자치시</td>\n",
       "      <td>NaN</td>\n",
       "    </tr>\n",
       "    <tr>\n",
       "      <th>70462</th>\n",
       "      <td>3611000000</td>\n",
       "      <td>세종특별자치시</td>\n",
       "      <td>NaN</td>\n",
       "    </tr>\n",
       "    <tr>\n",
       "      <th>108668</th>\n",
       "      <td>3611000000</td>\n",
       "      <td>세종특별자치시</td>\n",
       "      <td>NaN</td>\n",
       "    </tr>\n",
       "    <tr>\n",
       "      <th>158565</th>\n",
       "      <td>3611000000</td>\n",
       "      <td>세종특별자치시</td>\n",
       "      <td>NaN</td>\n",
       "    </tr>\n",
       "    <tr>\n",
       "      <th>186549</th>\n",
       "      <td>3611000000</td>\n",
       "      <td>세종특별자치시</td>\n",
       "      <td>NaN</td>\n",
       "    </tr>\n",
       "    <tr>\n",
       "      <th>245229</th>\n",
       "      <td>3611000000</td>\n",
       "      <td>세종특별자치시</td>\n",
       "      <td>NaN</td>\n",
       "    </tr>\n",
       "    <tr>\n",
       "      <th>324529</th>\n",
       "      <td>3611000000</td>\n",
       "      <td>세종특별자치시</td>\n",
       "      <td>NaN</td>\n",
       "    </tr>\n",
       "    <tr>\n",
       "      <th>333150</th>\n",
       "      <td>3611000000</td>\n",
       "      <td>세종특별자치시</td>\n",
       "      <td>NaN</td>\n",
       "    </tr>\n",
       "    <tr>\n",
       "      <th>334188</th>\n",
       "      <td>3611000000</td>\n",
       "      <td>세종특별자치시</td>\n",
       "      <td>NaN</td>\n",
       "    </tr>\n",
       "    <tr>\n",
       "      <th>338891</th>\n",
       "      <td>3611000000</td>\n",
       "      <td>세종특별자치시</td>\n",
       "      <td>NaN</td>\n",
       "    </tr>\n",
       "    <tr>\n",
       "      <th>360112</th>\n",
       "      <td>3611000000</td>\n",
       "      <td>세종특별자치시</td>\n",
       "      <td>NaN</td>\n",
       "    </tr>\n",
       "    <tr>\n",
       "      <th>370176</th>\n",
       "      <td>3611000000</td>\n",
       "      <td>세종특별자치시</td>\n",
       "      <td>NaN</td>\n",
       "    </tr>\n",
       "    <tr>\n",
       "      <th>375034</th>\n",
       "      <td>3611000000</td>\n",
       "      <td>세종특별자치시</td>\n",
       "      <td>NaN</td>\n",
       "    </tr>\n",
       "    <tr>\n",
       "      <th>380730</th>\n",
       "      <td>3611000000</td>\n",
       "      <td>세종특별자치시</td>\n",
       "      <td>NaN</td>\n",
       "    </tr>\n",
       "    <tr>\n",
       "      <th>399495</th>\n",
       "      <td>3611000000</td>\n",
       "      <td>세종특별자치시</td>\n",
       "      <td>NaN</td>\n",
       "    </tr>\n",
       "    <tr>\n",
       "      <th>640381</th>\n",
       "      <td>3611000000</td>\n",
       "      <td>세종특별자치시</td>\n",
       "      <td>NaN</td>\n",
       "    </tr>\n",
       "    <tr>\n",
       "      <th>2935848</th>\n",
       "      <td>3611000000</td>\n",
       "      <td>세종특별자치시</td>\n",
       "      <td>NaN</td>\n",
       "    </tr>\n",
       "    <tr>\n",
       "      <th>4889942</th>\n",
       "      <td>3611000000</td>\n",
       "      <td>세종특별자치시</td>\n",
       "      <td>NaN</td>\n",
       "    </tr>\n",
       "  </tbody>\n",
       "</table>\n",
       "</div>"
      ],
      "text/plain": [
       "           본거지법정동코드       시도  시구군\n",
       "6410     4100000000      경기도  NaN\n",
       "7767     3611000000  세종특별자치시  NaN\n",
       "7864     3611000000  세종특별자치시  NaN\n",
       "10318    3611000000  세종특별자치시  NaN\n",
       "21817    3611000000  세종특별자치시  NaN\n",
       "26056    3611000000  세종특별자치시  NaN\n",
       "30707    3611000000  세종특별자치시  NaN\n",
       "30767    3611000000  세종특별자치시  NaN\n",
       "31076    3611000000  세종특별자치시  NaN\n",
       "32500    3611000000  세종특별자치시  NaN\n",
       "70462    3611000000  세종특별자치시  NaN\n",
       "108668   3611000000  세종특별자치시  NaN\n",
       "158565   3611000000  세종특별자치시  NaN\n",
       "186549   3611000000  세종특별자치시  NaN\n",
       "245229   3611000000  세종특별자치시  NaN\n",
       "324529   3611000000  세종특별자치시  NaN\n",
       "333150   3611000000  세종특별자치시  NaN\n",
       "334188   3611000000  세종특별자치시  NaN\n",
       "338891   3611000000  세종특별자치시  NaN\n",
       "360112   3611000000  세종특별자치시  NaN\n",
       "370176   3611000000  세종특별자치시  NaN\n",
       "375034   3611000000  세종특별자치시  NaN\n",
       "380730   3611000000  세종특별자치시  NaN\n",
       "399495   3611000000  세종특별자치시  NaN\n",
       "640381   3611000000  세종특별자치시  NaN\n",
       "2935848  3611000000  세종특별자치시  NaN\n",
       "4889942  3611000000  세종특별자치시  NaN"
      ]
     },
     "execution_count": 42,
     "metadata": {},
     "output_type": "execute_result"
    }
   ],
   "source": [
    "df.loc[df['시구군'].isnull() == True, ['본거지법정동코드', '시도', '시구군']]"
   ]
  },
  {
   "cell_type": "code",
   "execution_count": 24,
   "metadata": {},
   "outputs": [
    {
     "data": {
      "text/plain": [
       "Index(['차량관리번호', '차량등록번호', '본거지법정동코드', '소유자구분', '차종_등록정보', '용도', '현재회원번호',\n",
       "       '차대번호', '최초등록일자', '차량연식', '차량제작일자', '배출가스검사유효일자', '제원관리번호', '배출가스인증번호',\n",
       "       '배출가스등급', '저공해조치YN(미사용)', '저공해조치종류', '저공해조치구조변경YN', '차량등록번호숫자정보',\n",
       "       '차량말소YN', '최초회원번호', '취득일자', '취득금액', '생성일시_등록정보', '수정일시_등록정보', '차명',\n",
       "       '차종_제원정보', '차종분류', '차종유형(소분류)', '자동차형식', '제작사명', '연료', '엔진형식', '공차중량',\n",
       "       '총중량', '적재중량', '엔진출력', '배기량', '승차인원', '차량길이', '차량너비', '차량높이', '원산지명',\n",
       "       '삭제YN', '승인일자', '구동형식', '변속기종류', '생성일시_제원정보', '수정일시_제원정보'],\n",
       "      dtype='object')"
      ]
     },
     "execution_count": 24,
     "metadata": {},
     "output_type": "execute_result"
    }
   ],
   "source": [
    "gm5.columns"
   ]
  },
  {
   "cell_type": "code",
   "execution_count": 25,
   "metadata": {},
   "outputs": [
    {
     "data": {
      "text/plain": [
       "(2378648, 20)"
      ]
     },
     "execution_count": 25,
     "metadata": {},
     "output_type": "execute_result"
    }
   ],
   "source": [
    "# about 0.8s\n",
    "dfg5 = gm5[['차량등록번호', '차종_등록정보', '차종유형(소분류)', '용도', '본거지법정동코드', '차대번호', '제원관리번호', '배출가스인증번호', '배출가스등급', '차명', '연료', '차량말소YN']].merge(code, on='본거지법정동코드', how='left')\n",
    "dfg5.shape"
   ]
  },
  {
   "cell_type": "code",
   "execution_count": 26,
   "metadata": {},
   "outputs": [
    {
     "data": {
      "text/plain": [
       "시도           0\n",
       "시구군         21\n",
       "대기관리권역       0\n",
       "대기관리권역YN     0\n",
       "dtype: int64"
      ]
     },
     "execution_count": 26,
     "metadata": {},
     "output_type": "execute_result"
    }
   ],
   "source": [
    "dfg5[['시도', '시구군', '대기관리권역', '대기관리권역YN']].isnull().sum()"
   ]
  },
  {
   "cell_type": "code",
   "execution_count": 27,
   "metadata": {},
   "outputs": [
    {
     "data": {
      "text/html": [
       "<div>\n",
       "<style scoped>\n",
       "    .dataframe tbody tr th:only-of-type {\n",
       "        vertical-align: middle;\n",
       "    }\n",
       "\n",
       "    .dataframe tbody tr th {\n",
       "        vertical-align: top;\n",
       "    }\n",
       "\n",
       "    .dataframe thead th {\n",
       "        text-align: right;\n",
       "    }\n",
       "</style>\n",
       "<table border=\"1\" class=\"dataframe\">\n",
       "  <thead>\n",
       "    <tr style=\"text-align: right;\">\n",
       "      <th></th>\n",
       "      <th>본거지법정동코드</th>\n",
       "      <th>시도</th>\n",
       "      <th>시구군</th>\n",
       "      <th>대기관리권역</th>\n",
       "      <th>대기관리권역YN</th>\n",
       "    </tr>\n",
       "  </thead>\n",
       "  <tbody>\n",
       "    <tr>\n",
       "      <th>5750</th>\n",
       "      <td>4100000000</td>\n",
       "      <td>경기도</td>\n",
       "      <td>NaN</td>\n",
       "      <td>수도권</td>\n",
       "      <td>Y</td>\n",
       "    </tr>\n",
       "    <tr>\n",
       "      <th>7004</th>\n",
       "      <td>3611000000</td>\n",
       "      <td>세종특별자치시</td>\n",
       "      <td>NaN</td>\n",
       "      <td>중부권</td>\n",
       "      <td>Y</td>\n",
       "    </tr>\n",
       "    <tr>\n",
       "      <th>7100</th>\n",
       "      <td>3611000000</td>\n",
       "      <td>세종특별자치시</td>\n",
       "      <td>NaN</td>\n",
       "      <td>중부권</td>\n",
       "      <td>Y</td>\n",
       "    </tr>\n",
       "    <tr>\n",
       "      <th>9449</th>\n",
       "      <td>3611000000</td>\n",
       "      <td>세종특별자치시</td>\n",
       "      <td>NaN</td>\n",
       "      <td>중부권</td>\n",
       "      <td>Y</td>\n",
       "    </tr>\n",
       "    <tr>\n",
       "      <th>20441</th>\n",
       "      <td>3611000000</td>\n",
       "      <td>세종특별자치시</td>\n",
       "      <td>NaN</td>\n",
       "      <td>중부권</td>\n",
       "      <td>Y</td>\n",
       "    </tr>\n",
       "    <tr>\n",
       "      <th>24578</th>\n",
       "      <td>3611000000</td>\n",
       "      <td>세종특별자치시</td>\n",
       "      <td>NaN</td>\n",
       "      <td>중부권</td>\n",
       "      <td>Y</td>\n",
       "    </tr>\n",
       "    <tr>\n",
       "      <th>28977</th>\n",
       "      <td>3611000000</td>\n",
       "      <td>세종특별자치시</td>\n",
       "      <td>NaN</td>\n",
       "      <td>중부권</td>\n",
       "      <td>Y</td>\n",
       "    </tr>\n",
       "    <tr>\n",
       "      <th>29037</th>\n",
       "      <td>3611000000</td>\n",
       "      <td>세종특별자치시</td>\n",
       "      <td>NaN</td>\n",
       "      <td>중부권</td>\n",
       "      <td>Y</td>\n",
       "    </tr>\n",
       "    <tr>\n",
       "      <th>29341</th>\n",
       "      <td>3611000000</td>\n",
       "      <td>세종특별자치시</td>\n",
       "      <td>NaN</td>\n",
       "      <td>중부권</td>\n",
       "      <td>Y</td>\n",
       "    </tr>\n",
       "    <tr>\n",
       "      <th>30724</th>\n",
       "      <td>3611000000</td>\n",
       "      <td>세종특별자치시</td>\n",
       "      <td>NaN</td>\n",
       "      <td>중부권</td>\n",
       "      <td>Y</td>\n",
       "    </tr>\n",
       "    <tr>\n",
       "      <th>61691</th>\n",
       "      <td>3611000000</td>\n",
       "      <td>세종특별자치시</td>\n",
       "      <td>NaN</td>\n",
       "      <td>중부권</td>\n",
       "      <td>Y</td>\n",
       "    </tr>\n",
       "    <tr>\n",
       "      <th>99080</th>\n",
       "      <td>3611000000</td>\n",
       "      <td>세종특별자치시</td>\n",
       "      <td>NaN</td>\n",
       "      <td>중부권</td>\n",
       "      <td>Y</td>\n",
       "    </tr>\n",
       "    <tr>\n",
       "      <th>136446</th>\n",
       "      <td>3611000000</td>\n",
       "      <td>세종특별자치시</td>\n",
       "      <td>NaN</td>\n",
       "      <td>중부권</td>\n",
       "      <td>Y</td>\n",
       "    </tr>\n",
       "    <tr>\n",
       "      <th>170481</th>\n",
       "      <td>3611000000</td>\n",
       "      <td>세종특별자치시</td>\n",
       "      <td>NaN</td>\n",
       "      <td>중부권</td>\n",
       "      <td>Y</td>\n",
       "    </tr>\n",
       "    <tr>\n",
       "      <th>174085</th>\n",
       "      <td>3611000000</td>\n",
       "      <td>세종특별자치시</td>\n",
       "      <td>NaN</td>\n",
       "      <td>중부권</td>\n",
       "      <td>Y</td>\n",
       "    </tr>\n",
       "    <tr>\n",
       "      <th>174560</th>\n",
       "      <td>3611000000</td>\n",
       "      <td>세종특별자치시</td>\n",
       "      <td>NaN</td>\n",
       "      <td>중부권</td>\n",
       "      <td>Y</td>\n",
       "    </tr>\n",
       "    <tr>\n",
       "      <th>176749</th>\n",
       "      <td>3611000000</td>\n",
       "      <td>세종특별자치시</td>\n",
       "      <td>NaN</td>\n",
       "      <td>중부권</td>\n",
       "      <td>Y</td>\n",
       "    </tr>\n",
       "    <tr>\n",
       "      <th>190586</th>\n",
       "      <td>3611000000</td>\n",
       "      <td>세종특별자치시</td>\n",
       "      <td>NaN</td>\n",
       "      <td>중부권</td>\n",
       "      <td>Y</td>\n",
       "    </tr>\n",
       "    <tr>\n",
       "      <th>192981</th>\n",
       "      <td>3611000000</td>\n",
       "      <td>세종특별자치시</td>\n",
       "      <td>NaN</td>\n",
       "      <td>중부권</td>\n",
       "      <td>Y</td>\n",
       "    </tr>\n",
       "    <tr>\n",
       "      <th>195713</th>\n",
       "      <td>3611000000</td>\n",
       "      <td>세종특별자치시</td>\n",
       "      <td>NaN</td>\n",
       "      <td>중부권</td>\n",
       "      <td>Y</td>\n",
       "    </tr>\n",
       "    <tr>\n",
       "      <th>1488578</th>\n",
       "      <td>3611000000</td>\n",
       "      <td>세종특별자치시</td>\n",
       "      <td>NaN</td>\n",
       "      <td>중부권</td>\n",
       "      <td>Y</td>\n",
       "    </tr>\n",
       "  </tbody>\n",
       "</table>\n",
       "</div>"
      ],
      "text/plain": [
       "           본거지법정동코드       시도  시구군 대기관리권역 대기관리권역YN\n",
       "5750     4100000000      경기도  NaN    수도권        Y\n",
       "7004     3611000000  세종특별자치시  NaN    중부권        Y\n",
       "7100     3611000000  세종특별자치시  NaN    중부권        Y\n",
       "9449     3611000000  세종특별자치시  NaN    중부권        Y\n",
       "20441    3611000000  세종특별자치시  NaN    중부권        Y\n",
       "24578    3611000000  세종특별자치시  NaN    중부권        Y\n",
       "28977    3611000000  세종특별자치시  NaN    중부권        Y\n",
       "29037    3611000000  세종특별자치시  NaN    중부권        Y\n",
       "29341    3611000000  세종특별자치시  NaN    중부권        Y\n",
       "30724    3611000000  세종특별자치시  NaN    중부권        Y\n",
       "61691    3611000000  세종특별자치시  NaN    중부권        Y\n",
       "99080    3611000000  세종특별자치시  NaN    중부권        Y\n",
       "136446   3611000000  세종특별자치시  NaN    중부권        Y\n",
       "170481   3611000000  세종특별자치시  NaN    중부권        Y\n",
       "174085   3611000000  세종특별자치시  NaN    중부권        Y\n",
       "174560   3611000000  세종특별자치시  NaN    중부권        Y\n",
       "176749   3611000000  세종특별자치시  NaN    중부권        Y\n",
       "190586   3611000000  세종특별자치시  NaN    중부권        Y\n",
       "192981   3611000000  세종특별자치시  NaN    중부권        Y\n",
       "195713   3611000000  세종특별자치시  NaN    중부권        Y\n",
       "1488578  3611000000  세종특별자치시  NaN    중부권        Y"
      ]
     },
     "execution_count": 27,
     "metadata": {},
     "output_type": "execute_result"
    }
   ],
   "source": [
    "dfg5.loc[dfg5['시구군'].isnull() == True, ['본거지법정동코드', '시도', '시구군', '대기관리권역', '대기관리권역YN']]"
   ]
  },
  {
   "attachments": {},
   "cell_type": "markdown",
   "metadata": {},
   "source": [
    "## 연료 결측, 기타연료 확인"
   ]
  },
  {
   "cell_type": "code",
   "execution_count": 43,
   "metadata": {},
   "outputs": [
    {
     "data": {
      "text/plain": [
       "연료\n",
       "휘발유            13799638\n",
       "경유             11627721\n",
       "LPG(액화석유가스)     2338696\n",
       "휘발유 하이브리드       1112576\n",
       "전기               377935\n",
       "NaN              154428\n",
       "CNG(압축천연가스)       40048\n",
       "경유 하이브리드          36010\n",
       "수소                28349\n",
       "LPG 하이브리드         17230\n",
       "기타연료               1054\n",
       "CNG 하이브리드           327\n",
       "LNG(액화천연가스)          27\n",
       "알코올                   4\n",
       "태양열                   3\n",
       "등유                    1\n",
       "Name: count, dtype: int64"
      ]
     },
     "execution_count": 43,
     "metadata": {},
     "output_type": "execute_result"
    }
   ],
   "source": [
    "df['연료'].value_counts(dropna=False)"
   ]
  },
  {
   "cell_type": "code",
   "execution_count": null,
   "metadata": {},
   "outputs": [],
   "source": [
    "# fuel_dict = {a:b for a, b in fuel.values}\n",
    "# fuel_dict"
   ]
  },
  {
   "cell_type": "code",
   "execution_count": 27,
   "metadata": {},
   "outputs": [
    {
     "data": {
      "text/plain": [
       "array(['트레일러', '미스비시샤시(세미트레일러)', '도큐트레일러', ..., '대흥18.8톤가변형저상트레일러',\n",
       "       '캠핑플레인23.2톤가변식저상트레일러', '에이사캠핑트레일러'], dtype=object)"
      ]
     },
     "execution_count": 27,
     "metadata": {},
     "output_type": "execute_result"
    }
   ],
   "source": [
    "# df.loc[((df['연료'].isnull() == True) | (df['연료'] == '기타연료')), '차명'].unique()"
   ]
  },
  {
   "cell_type": "code",
   "execution_count": 28,
   "metadata": {},
   "outputs": [],
   "source": [
    "# for one in df.loc[((df['연료'].isnull() == True) | (df['연료'] == '기타연료')), '차명'].unique():\n",
    "#     df.loc[((df['연료'].isnull() == True) | (df['연료'] == '기타연료')) & (df['차명'] == one), '연료'] = fuel_dict[one]"
   ]
  },
  {
   "cell_type": "code",
   "execution_count": 44,
   "metadata": {},
   "outputs": [
    {
     "data": {
      "text/plain": [
       "연료\n",
       "휘발유            13799638\n",
       "경유             11627721\n",
       "LPG(액화석유가스)     2338696\n",
       "휘발유 하이브리드       1112576\n",
       "전기               377935\n",
       "NaN              154428\n",
       "CNG(압축천연가스)       40048\n",
       "경유 하이브리드          36010\n",
       "수소                28349\n",
       "LPG 하이브리드         17230\n",
       "기타연료               1054\n",
       "CNG 하이브리드           327\n",
       "LNG(액화천연가스)          27\n",
       "알코올                   4\n",
       "태양열                   3\n",
       "등유                    1\n",
       "Name: count, dtype: int64"
      ]
     },
     "execution_count": 44,
     "metadata": {},
     "output_type": "execute_result"
    }
   ],
   "source": [
    "df['연료'].value_counts(dropna=False)"
   ]
  },
  {
   "cell_type": "code",
   "execution_count": null,
   "metadata": {},
   "outputs": [],
   "source": [
    "# df['연료'].value_counts(dropna=False).reset_index().to_excel(os.path.join(analysis_fold, '연료별_수.xlsx'), index=False)"
   ]
  },
  {
   "cell_type": "code",
   "execution_count": 45,
   "metadata": {},
   "outputs": [
    {
     "data": {
      "text/plain": [
       "등급\n",
       "2.0    12053653\n",
       "3.0    10027407\n",
       "1.0     2870152\n",
       "5.0     2378648\n",
       "4.0     1898816\n",
       "X        305339\n",
       "NaN          32\n",
       "Name: count, dtype: int64"
      ]
     },
     "execution_count": 45,
     "metadata": {},
     "output_type": "execute_result"
    }
   ],
   "source": [
    "df['등급'].value_counts(dropna=False)"
   ]
  },
  {
   "cell_type": "code",
   "execution_count": 28,
   "metadata": {},
   "outputs": [
    {
     "data": {
      "text/plain": [
       "연료\n",
       "경유             2347276\n",
       "휘발유              30856\n",
       "LPG(액화석유가스)        453\n",
       "NaN                 31\n",
       "기타연료                26\n",
       "CNG(압축천연가스)          5\n",
       "알코올                  1\n",
       "Name: count, dtype: int64"
      ]
     },
     "execution_count": 28,
     "metadata": {},
     "output_type": "execute_result"
    }
   ],
   "source": [
    "dfg5['연료'].value_counts(dropna=False)"
   ]
  },
  {
   "cell_type": "code",
   "execution_count": 29,
   "metadata": {},
   "outputs": [
    {
     "data": {
      "text/plain": [
       "{'BENZ S500': '휘발유',\n",
       " 'BMW': '휘발유',\n",
       " 'BMW 3-SERIES': '휘발유',\n",
       " 'BMW 318I': '휘발유',\n",
       " 'BMW 325CI': '휘발유',\n",
       " 'BMW 325I': '휘발유',\n",
       " 'BMW 325i': '휘발유',\n",
       " 'BMW 328I': '휘발유',\n",
       " 'BMW 525I': '휘발유',\n",
       " 'BMW 528I': '휘발유',\n",
       " 'BMW 530I': '휘발유',\n",
       " 'BMW 5SERIES': '휘발유',\n",
       " 'BMW 750Li': '휘발유',\n",
       " 'BMW X3': '휘발유',\n",
       " 'BMW X5': '휘발유',\n",
       " 'BMW Z3': '휘발유',\n",
       " 'BMW530I': '휘발유',\n",
       " 'BUICK CENTURY': '휘발유',\n",
       " 'BUICK LESABRE': '휘발유',\n",
       " 'BUICK TERRAZA': '휘발유',\n",
       " 'CADILLAC CTS': '휘발유',\n",
       " 'CHEVROLET IMPALA': '휘발유',\n",
       " 'CHEVROLET PRIZM': '휘발유',\n",
       " 'CHRYSLER': '휘발유',\n",
       " 'CHRYSLER 300 LTD': '휘발유',\n",
       " 'CHRYSLER 300C': '경유',\n",
       " 'CHRYSLER HEMI AWD': '휘발유',\n",
       " 'CHRYSLER PT CRUISER': '휘발유',\n",
       " 'CHRYSLER TOWN & COUNTRY(7)': '휘발유',\n",
       " 'CIELO': '휘발유',\n",
       " 'CORSICA': '휘발유',\n",
       " 'COUGAR': '휘발유',\n",
       " 'DODGE CALIBER': '휘발유',\n",
       " 'DODGE CARAVAN': '휘발유',\n",
       " 'DODGE CHARGER': '휘발유',\n",
       " 'DODGE DAKOTA': '휘발유',\n",
       " 'DODGE DURANGO': '휘발유',\n",
       " 'DODGE GRAND CARAVAN': '휘발유',\n",
       " 'DODGE NEON SXT': '휘발유',\n",
       " 'EF소나타': '휘발유',\n",
       " 'ESCORT': '휘발유',\n",
       " 'FIREBIRD': '휘발유',\n",
       " 'FORD ESCAPE': '휘발유',\n",
       " 'FORD EXPEDITION': '휘발유',\n",
       " 'FORD EXPEDITION(8)': '휘발유',\n",
       " 'FORD EXPLORER': '휘발유',\n",
       " 'FORD FOCUS': '휘발유',\n",
       " 'FORD FREESTYLE(7)': '휘발유',\n",
       " 'FORD FUSION': '휘발유',\n",
       " 'FORD MUSTANG': '휘발유',\n",
       " 'FORD RANGER XLT': '경유',\n",
       " 'FORD WINDSTAR': '휘발유',\n",
       " 'G.M.C': '휘발유',\n",
       " 'G20': '휘발유',\n",
       " 'GMC': '휘발유',\n",
       " 'GMC JIMMY': '휘발유',\n",
       " 'GMC SIERRA': '휘발유',\n",
       " 'HONDA ACCORD': '휘발유',\n",
       " 'HONDA CR-V': '휘발유',\n",
       " 'HONDA CR-V EX': '휘발유',\n",
       " 'HONDA PILOT': '휘발유',\n",
       " 'HYUNDAI PRESTO': '휘발유',\n",
       " 'HYUNDAI SONATA': '휘발유',\n",
       " 'HYUNDAI/SONATA': '휘발유',\n",
       " 'INFINITI G37S': '휘발유',\n",
       " 'JAGUAR X-TYPE': '휘발유',\n",
       " 'JEEP GRAND CHEROKEE': '휘발유',\n",
       " 'JEEP LIBERTY': '휘발유',\n",
       " 'JEEP PATRIOT': '경유',\n",
       " 'KIA OPTIMA': '휘발유',\n",
       " 'KIA SEDONA': '휘발유',\n",
       " 'LEXUS ES330': '휘발유',\n",
       " 'LEXUS ES350': '휘발유',\n",
       " 'LEXUS LS430': '휘발유',\n",
       " 'LEXUS RS330': '휘발유',\n",
       " 'LEXUS RX330': '휘발유',\n",
       " 'LINCOLN MKX': '휘발유',\n",
       " 'MAZDA MAZDA6': '휘발유',\n",
       " 'MAZDA SENTA': '휘발유',\n",
       " 'MERCEDES BENZ': '휘발유',\n",
       " 'MERCEDES-BENZ': '휘발유',\n",
       " 'MERCEDES-BENZ CLS 550': '경유',\n",
       " 'MERCEDES-BENZ E-350': '휘발유',\n",
       " 'MERCEDES-BENZ E-CLASS': '휘발유',\n",
       " 'MERCEDES-BENZ R-CLASS 3500': '경유',\n",
       " 'MERCEDES-BENZ S 500': '휘발유',\n",
       " 'MERCEDES-BENZ S65': '경유',\n",
       " 'MERCURY MILAN': '휘발유',\n",
       " 'NEW 그랜저XG': '휘발유',\n",
       " 'NISSAN MURANO': '휘발유',\n",
       " 'NISSAN ROGUE 3.5': '휘발유',\n",
       " 'NISSAN XTERRA': '휘발유',\n",
       " 'OLDSMOBILE BRAVADA': '휘발유',\n",
       " 'OLDSMOBILESILHOUET': '휘발유',\n",
       " 'PLYMOUTH': '휘발유',\n",
       " 'PONTIAC SUNBIRD': '휘발유',\n",
       " 'PONTIAC VIBE': '휘발유',\n",
       " 'PONTIAC VIBE BASE': '휘발유',\n",
       " 'PORSCHE': '휘발유',\n",
       " 'ROYALE': '휘발유',\n",
       " 'ROYALSALON': '휘발유',\n",
       " 'RX7': '휘발유',\n",
       " 'SANTAFE': '휘발유',\n",
       " 'SEPHIA': '휘발유',\n",
       " 'SILHOUET': '휘발유',\n",
       " 'SPORTAGE': '휘발유',\n",
       " 'STAREX': '휘발유',\n",
       " 'SUNDANCE': '휘발유',\n",
       " 'TAURUS': '휘발유',\n",
       " 'TOYOTA 4-RUNNER': '경유',\n",
       " 'TOYOTA AVALON': '휘발유',\n",
       " 'TOYOTA CAMRY하이브리드': '휘발유 하이브리드',\n",
       " 'TOYOTA COROLLA': '휘발유',\n",
       " 'TOYOTA ESTIIM': '휘발유',\n",
       " 'TOYOTA MATRIX': '휘발유',\n",
       " 'TOYOTA SIENNA': '휘발유',\n",
       " 'TOYOTA SR-5': '휘발유',\n",
       " 'VISION': '휘발유',\n",
       " 'VOLKSWAGEN JETTA': '휘발유',\n",
       " 'VOLVO 7G1': '휘발유',\n",
       " 'VOLVO 960': '휘발유',\n",
       " 'VOLVO S60': '휘발유',\n",
       " 'VOLVO S80': '휘발유',\n",
       " 'VOLVO T5': '휘발유',\n",
       " 'VOLVO XC60': '휘발유',\n",
       " 'VOLVO XC90': '휘발유',\n",
       " '구급차(도요다)': '경유',\n",
       " '그랜저2.0': '휘발유',\n",
       " '그랜저XG300L': '휘발유',\n",
       " '기아마스타': '경유',\n",
       " '뉴복사담프': '경유',\n",
       " '뉴비틀2.0': '휘발유',\n",
       " '닛산실비아2.0': '휘발유',\n",
       " '닛산씨마그로리아': '휘발유',\n",
       " '다임24KL에틸렌글리콜트레일러': '무동력',\n",
       " '다찌람밴': '휘발유',\n",
       " '대우11톤카고': '경유',\n",
       " '대우11톤카고트럭': '경유',\n",
       " '대우8톤카고': '경유',\n",
       " '대흥저상트레일러': '무동력',\n",
       " '도오다': '휘발유',\n",
       " '도요다MR2': '휘발유',\n",
       " '도요다세라': '휘발유',\n",
       " '도요다슈프라': '휘발유',\n",
       " '도요다웨곤엠브란스': '경유',\n",
       " '도요다코로나': '휘발유',\n",
       " '도요다크라운': '휘발유',\n",
       " '도요다크라운로얄싸롱': '휘발유',\n",
       " '도요타 프리우스(하이브리드)': '휘발유 하이브리드',\n",
       " '라비타(LAVITA)': '휘발유',\n",
       " '로얄살롱': '휘발유',\n",
       " '로얄살롱2.0AT': '휘발유',\n",
       " '르망': '휘발유',\n",
       " '르망펜타-5': '휘발유',\n",
       " '링컨MARK7': '경유',\n",
       " '맥스디젤삼방': '경유',\n",
       " '머큐리 세이블': '경유',\n",
       " '벤즈 230E': '휘발유',\n",
       " '벤즈230E': '휘발유',\n",
       " '벤츠 C300': '휘발유',\n",
       " '벤츠190E': '휘발유',\n",
       " '벤츠C280': '휘발유',\n",
       " '벤츠E230': '휘발유',\n",
       " '벤츠S320': '휘발유',\n",
       " '복사14': '휘발유',\n",
       " '브리샤2': '휘발유',\n",
       " '블루버드': '휘발유',\n",
       " '사파리': '휘발유',\n",
       " '새턴': '휘발유',\n",
       " '새한2.5톤카고': '경유',\n",
       " '새한버스': '경유',\n",
       " '셀리카-GT': '휘발유',\n",
       " '소나타': '휘발유',\n",
       " '소나타1800오토매틱': '휘발유',\n",
       " '수프라': '휘발유',\n",
       " '스텔라': '휘발유',\n",
       " '스텔라1.6CXL': '휘발유',\n",
       " '스텔라오토매틱': '휘발유',\n",
       " '시보레': '휘발유',\n",
       " '시보레카베리아': '휘발유',\n",
       " '쏘나타': '휘발유',\n",
       " '아시아AM707중형버스': '경유',\n",
       " '아큐라': '휘발유',\n",
       " '에스페로': '휘발유',\n",
       " '에어스트림탐지견수송트레일러': '무동력',\n",
       " '엑셀': '휘발유',\n",
       " '엑셀운전교습용차량': '휘발유',\n",
       " '원흥식 트럭': '경유',\n",
       " '인타담프': '경유',\n",
       " '일산 육륜': '경유',\n",
       " '제설차': '경유',\n",
       " '지프': '경유',\n",
       " '체로키': '휘발유',\n",
       " '캐피탈': '휘발유',\n",
       " '캠리': '휘발유',\n",
       " '코르시카': '휘발유',\n",
       " '코우거': '휘발유',\n",
       " '코티나디럭스': '휘발유',\n",
       " '코티나마크IV': '휘발유',\n",
       " '크로마터보i.e': '휘발유',\n",
       " '티코(TICO)': '휘발유',\n",
       " '포니': '휘발유',\n",
       " '포니2': '휘발유',\n",
       " '포니2-L.P.G': 'LPG(액화석유가스)',\n",
       " '포니2-LPG': 'LPG(액화석유가스)',\n",
       " '포르쉐': '휘발유',\n",
       " '프레스토오토매틱': '휘발유',\n",
       " '프레스토오토메틱': '휘발유',\n",
       " '프리무스': '휘발유 하이브리드',\n",
       " '한원40A콤비콘테이너트레일러': '무동력',\n",
       " '한원40피트구즈넥트레일러': '무동력',\n",
       " '현대3톤트럭': '경유',\n",
       " '현대리어엔진버스': '경유',\n",
       " '현대포터': '경유',\n",
       " '혼다 CR-V': '경유',\n",
       " '홍성캠핑트레일러': '무동력'}"
      ]
     },
     "execution_count": 29,
     "metadata": {},
     "output_type": "execute_result"
    }
   ],
   "source": [
    "fuel_dict = {a:b for a, b in fuel.values}\n",
    "fuel_dict"
   ]
  },
  {
   "cell_type": "code",
   "execution_count": 30,
   "metadata": {},
   "outputs": [],
   "source": [
    "# about 14.7\n",
    "for one in dfg5.loc[((dfg5['연료'].isnull() == True) | (dfg5['연료'] == '기타연료')), '차명'].unique():\n",
    "    try:\n",
    "        dfg5.loc[((dfg5['연료'].isnull() == True) | (dfg5['연료'] == '기타연료')) & (dfg5['차명'] == one), '연료'] = fuel_dict[one]\n",
    "    except:\n",
    "        dfg5.loc[((dfg5['연료'].isnull() == True) | (dfg5['연료'] == '기타연료')) & (dfg5['차명'] == one), '연료'] = '기타연료'"
   ]
  },
  {
   "cell_type": "code",
   "execution_count": 31,
   "metadata": {},
   "outputs": [
    {
     "data": {
      "text/plain": [
       "연료\n",
       "경유             2347299\n",
       "휘발유              30880\n",
       "LPG(액화석유가스)        455\n",
       "무동력                  5\n",
       "CNG(압축천연가스)          5\n",
       "기타연료                 3\n",
       "알코올                  1\n",
       "Name: count, dtype: int64"
      ]
     },
     "execution_count": 31,
     "metadata": {},
     "output_type": "execute_result"
    }
   ],
   "source": [
    "dfg5['연료'].value_counts(dropna=False)"
   ]
  },
  {
   "attachments": {},
   "cell_type": "markdown",
   "metadata": {},
   "source": [
    "## 노후차 조기폐차 관리정보 수도권 필수 컬럼만 추출"
   ]
  },
  {
   "cell_type": "code",
   "execution_count": 32,
   "metadata": {},
   "outputs": [
    {
     "data": {
      "text/plain": [
       "array(['Y', nan, 'N'], dtype=object)"
      ]
     },
     "execution_count": 32,
     "metadata": {},
     "output_type": "execute_result"
    }
   ],
   "source": [
    "aea['조기폐차최종승인YN'].unique()"
   ]
  },
  {
   "cell_type": "code",
   "execution_count": 33,
   "metadata": {},
   "outputs": [
    {
     "data": {
      "text/plain": [
       "조기폐차최종승인YN\n",
       "Y      680570\n",
       "NaN     89686\n",
       "N          55\n",
       "Name: count, dtype: int64"
      ]
     },
     "execution_count": 33,
     "metadata": {},
     "output_type": "execute_result"
    }
   ],
   "source": [
    "aea['조기폐차최종승인YN'].value_counts(dropna=False)"
   ]
  },
  {
   "cell_type": "code",
   "execution_count": 34,
   "metadata": {},
   "outputs": [
    {
     "data": {
      "text/plain": [
       "array(['Y', 'B', 'D', 'M', 'X', 'C', 'A', 'N', 'G', 'P', 'I'],\n",
       "      dtype=object)"
      ]
     },
     "execution_count": 34,
     "metadata": {},
     "output_type": "execute_result"
    }
   ],
   "source": [
    "aea['조기폐차상태코드'].unique()"
   ]
  },
  {
   "cell_type": "code",
   "execution_count": 57,
   "metadata": {},
   "outputs": [],
   "source": [
    "# aeam = aea[[\n",
    "#     '차대번호',\n",
    "#     '조기폐차최종승인YN',\n",
    "#     ]]"
   ]
  },
  {
   "cell_type": "code",
   "execution_count": 35,
   "metadata": {},
   "outputs": [
    {
     "data": {
      "text/plain": [
       "(680570, 4)"
      ]
     },
     "execution_count": 35,
     "metadata": {},
     "output_type": "execute_result"
    }
   ],
   "source": [
    "aeam = aea.loc[aea['조기폐차최종승인YN'] == 'Y'].reset_index(drop=True)\n",
    "aeam.shape"
   ]
  },
  {
   "attachments": {},
   "cell_type": "markdown",
   "metadata": {},
   "source": [
    "## 노후차 조기폐차 관리정보 수도권외 필수 컬럼만 추출"
   ]
  },
  {
   "cell_type": "code",
   "execution_count": 36,
   "metadata": {},
   "outputs": [
    {
     "data": {
      "text/plain": [
       "array(['Y', nan, 'N'], dtype=object)"
      ]
     },
     "execution_count": 36,
     "metadata": {},
     "output_type": "execute_result"
    }
   ],
   "source": [
    "lgv['조기폐차최종승인YN'].unique()"
   ]
  },
  {
   "cell_type": "code",
   "execution_count": 37,
   "metadata": {},
   "outputs": [
    {
     "data": {
      "text/plain": [
       "조기폐차최종승인YN\n",
       "NaN    162764\n",
       "Y      128585\n",
       "N           4\n",
       "Name: count, dtype: int64"
      ]
     },
     "execution_count": 37,
     "metadata": {},
     "output_type": "execute_result"
    }
   ],
   "source": [
    "lgv['조기폐차최종승인YN'].value_counts(dropna=False)"
   ]
  },
  {
   "cell_type": "code",
   "execution_count": 38,
   "metadata": {},
   "outputs": [
    {
     "data": {
      "text/plain": [
       "array(['Y', 'M', 'X', 'B', 'G', 'I', 'C', 'P', 'D', 'N'], dtype=object)"
      ]
     },
     "execution_count": 38,
     "metadata": {},
     "output_type": "execute_result"
    }
   ],
   "source": [
    "lgv['조기폐차상태코드'].unique()"
   ]
  },
  {
   "cell_type": "code",
   "execution_count": 39,
   "metadata": {},
   "outputs": [],
   "source": [
    "# lgvm = lgv[[\n",
    "#     '차대번호',\n",
    "#     '조기폐차최종승인YN',\n",
    "#     ]]"
   ]
  },
  {
   "cell_type": "code",
   "execution_count": 40,
   "metadata": {},
   "outputs": [
    {
     "data": {
      "text/plain": [
       "(128585, 4)"
      ]
     },
     "execution_count": 40,
     "metadata": {},
     "output_type": "execute_result"
    }
   ],
   "source": [
    "lgvm = lgv.loc[lgv['조기폐차최종승인YN'] == 'Y'].reset_index(drop=True)\n",
    "lgvm.shape"
   ]
  },
  {
   "attachments": {},
   "cell_type": "markdown",
   "metadata": {},
   "source": [
    "## 노후차 조기폐차 정보 병합"
   ]
  },
  {
   "cell_type": "code",
   "execution_count": 41,
   "metadata": {},
   "outputs": [
    {
     "data": {
      "text/plain": [
       "(809155, 4)"
      ]
     },
     "execution_count": 41,
     "metadata": {},
     "output_type": "execute_result"
    }
   ],
   "source": [
    "early = pd.concat([aeam, lgvm], ignore_index=True)\n",
    "early.shape"
   ]
  },
  {
   "cell_type": "code",
   "execution_count": 42,
   "metadata": {},
   "outputs": [
    {
     "data": {
      "text/plain": [
       "((809155, 4), 809130)"
      ]
     },
     "execution_count": 42,
     "metadata": {},
     "output_type": "execute_result"
    }
   ],
   "source": [
    "early.shape, len(early['차대번호'].unique())"
   ]
  },
  {
   "cell_type": "code",
   "execution_count": 43,
   "metadata": {},
   "outputs": [
    {
     "data": {
      "text/plain": [
       "(809130, 4)"
      ]
     },
     "execution_count": 43,
     "metadata": {},
     "output_type": "execute_result"
    }
   ],
   "source": [
    "earlym = early.sort_values('말소일자', ascending=False).drop_duplicates(['차대번호']).reset_index(drop=True)\n",
    "earlym.shape"
   ]
  },
  {
   "cell_type": "code",
   "execution_count": 44,
   "metadata": {},
   "outputs": [
    {
     "data": {
      "text/plain": [
       "Index(['조기폐차상태코드', '차대번호', '말소일자', '조기폐차최종승인YN'], dtype='object')"
      ]
     },
     "execution_count": 44,
     "metadata": {},
     "output_type": "execute_result"
    }
   ],
   "source": [
    "earlym.columns"
   ]
  },
  {
   "cell_type": "code",
   "execution_count": 70,
   "metadata": {},
   "outputs": [
    {
     "data": {
      "text/plain": [
       "Index(['차량등록번호', '본거지법정동코드', '차대번호', '제원관리번호', '배출가스인증번호', '차명', '차종_등록정보',\n",
       "       '차종유형(소분류)', '연료', '차량말소YN', '등급', '시도', '시구군'],\n",
       "      dtype='object')"
      ]
     },
     "execution_count": 70,
     "metadata": {},
     "output_type": "execute_result"
    }
   ],
   "source": [
    "df.columns"
   ]
  },
  {
   "cell_type": "code",
   "execution_count": 71,
   "metadata": {},
   "outputs": [
    {
     "data": {
      "text/plain": [
       "(29534047, 13)"
      ]
     },
     "execution_count": 71,
     "metadata": {},
     "output_type": "execute_result"
    }
   ],
   "source": [
    "df.shape"
   ]
  },
  {
   "cell_type": "code",
   "execution_count": 72,
   "metadata": {},
   "outputs": [
    {
     "data": {
      "text/plain": [
       "(29534047, 14)"
      ]
     },
     "execution_count": 72,
     "metadata": {},
     "output_type": "execute_result"
    }
   ],
   "source": [
    "# about 48.6s\n",
    "df1 = df.merge(earlym[['차대번호', '조기폐차최종승인YN']], on='차대번호', how='left')\n",
    "df1.shape"
   ]
  },
  {
   "cell_type": "code",
   "execution_count": 73,
   "metadata": {},
   "outputs": [
    {
     "data": {
      "text/plain": [
       "Index(['차량등록번호', '본거지법정동코드', '차대번호', '제원관리번호', '배출가스인증번호', '차명', '차종_등록정보',\n",
       "       '차종유형(소분류)', '연료', '차량말소YN', '등급', '시도', '시구군', '조기폐차최종승인YN'],\n",
       "      dtype='object')"
      ]
     },
     "execution_count": 73,
     "metadata": {},
     "output_type": "execute_result"
    }
   ],
   "source": [
    "df1.columns"
   ]
  },
  {
   "attachments": {},
   "cell_type": "markdown",
   "metadata": {},
   "source": [
    "## 저감장치 부착이력 데이터 확인"
   ]
  },
  {
   "cell_type": "code",
   "execution_count": 45,
   "metadata": {},
   "outputs": [
    {
     "data": {
      "text/plain": [
       "Index(['저감장치종류', 'PM최종저감효율', 'TDMS부착여부', '구조변경일자', '부착업체명', '부착일자', '탈거승인일',\n",
       "       '차량번호', '차대번호', '주행거리', '저감장치반납여부', '저감장치구분', '저감등록번호', '재장착확인일자',\n",
       "       '장치일련번호', '삼원촉매장치반납여부'],\n",
       "      dtype='object')"
      ]
     },
     "execution_count": 45,
     "metadata": {},
     "output_type": "execute_result"
    }
   ],
   "source": [
    "att.columns"
   ]
  },
  {
   "cell_type": "code",
   "execution_count": 46,
   "metadata": {},
   "outputs": [
    {
     "data": {
      "text/plain": [
       "저감장치구분\n",
       "1종        294602\n",
       "엔진개조      198590\n",
       "2종        156370\n",
       "3종        148308\n",
       "엔진교체        8528\n",
       "1종+SCR      2304\n",
       "삼원촉매        2075\n",
       "Name: count, dtype: int64"
      ]
     },
     "execution_count": 46,
     "metadata": {},
     "output_type": "execute_result"
    }
   ],
   "source": [
    "att['저감장치구분'].value_counts(dropna=False)"
   ]
  },
  {
   "cell_type": "code",
   "execution_count": 47,
   "metadata": {},
   "outputs": [
    {
     "data": {
      "text/plain": [
       "저감장치종류\n",
       "NaN         223879\n",
       "복합소형        162046\n",
       "DOC         137166\n",
       "소형          105138\n",
       "자연대형         47920\n",
       "복합중형         44915\n",
       "자연중형         30715\n",
       "pDPF         30586\n",
       "중형           15529\n",
       "복합대형          9006\n",
       "자연대형+SCR      2304\n",
       "대형            1573\n",
       "Name: count, dtype: int64"
      ]
     },
     "execution_count": 47,
     "metadata": {},
     "output_type": "execute_result"
    }
   ],
   "source": [
    "att['저감장치종류'].value_counts(dropna=False)"
   ]
  },
  {
   "cell_type": "code",
   "execution_count": 48,
   "metadata": {},
   "outputs": [
    {
     "data": {
      "text/plain": [
       "저감장치구분  저감장치종류  \n",
       "1종      복합대형          9006\n",
       "        복합소형        162046\n",
       "        복합중형         44915\n",
       "        자연대형         47920\n",
       "        자연중형         30715\n",
       "1종+SCR  자연대형+SCR      2304\n",
       "2종      pDPF         30586\n",
       "        소형           99769\n",
       "        중형           13943\n",
       "3종      DOC         137166\n",
       "엔진교체    대형            1573\n",
       "        소형            5369\n",
       "        중형            1586\n",
       "Name: 차대번호, dtype: int64"
      ]
     },
     "execution_count": 48,
     "metadata": {},
     "output_type": "execute_result"
    }
   ],
   "source": [
    "att.groupby(['저감장치구분', '저감장치종류'])['차대번호'].count()"
   ]
  },
  {
   "cell_type": "code",
   "execution_count": 77,
   "metadata": {},
   "outputs": [],
   "source": [
    "# att.groupby(['저감장치구분', '저감장치종류'])['차대번호'].count().reset_index().to_excel(os.path.join(analysis_fold, '저감장치종류.xlsx'), index=False)"
   ]
  },
  {
   "attachments": {},
   "cell_type": "markdown",
   "metadata": {},
   "source": [
    "### 1종, 1종+SCR 만 추출\n",
    "- 1종 : DPF\n",
    "- 1종+SCR : PM-NOx 저감장치"
   ]
  },
  {
   "cell_type": "code",
   "execution_count": 49,
   "metadata": {},
   "outputs": [
    {
     "data": {
      "text/plain": [
       "(296906, 3)"
      ]
     },
     "execution_count": 49,
     "metadata": {},
     "output_type": "execute_result"
    }
   ],
   "source": [
    "attm = att.loc[(att['저감장치구분'] == '1종') | (att['저감장치구분'] == '1종+SCR'), ['차대번호', '저감장치구분', '저감장치종류']].reset_index(drop=True)\n",
    "attm.shape"
   ]
  },
  {
   "cell_type": "code",
   "execution_count": 50,
   "metadata": {},
   "outputs": [
    {
     "data": {
      "text/plain": [
       "(296906, 4)"
      ]
     },
     "execution_count": 50,
     "metadata": {},
     "output_type": "execute_result"
    }
   ],
   "source": [
    "attm.loc[attm['저감장치구분'] == '1종', '저감장치'] = 'DPF'\n",
    "attm.loc[attm['저감장치구분'] == '1종+SCR', '저감장치'] = 'PM-NOx저감장치'\n",
    "attm.shape"
   ]
  },
  {
   "cell_type": "code",
   "execution_count": 51,
   "metadata": {},
   "outputs": [
    {
     "data": {
      "text/plain": [
       "array(['자연대형', '자연중형', '복합중형', '복합대형', '복합소형', '자연대형+SCR'], dtype=object)"
      ]
     },
     "execution_count": 51,
     "metadata": {},
     "output_type": "execute_result"
    }
   ],
   "source": [
    "attm['저감장치종류'].unique()"
   ]
  },
  {
   "cell_type": "code",
   "execution_count": 52,
   "metadata": {},
   "outputs": [
    {
     "data": {
      "text/plain": [
       "저감장치\n",
       "DPF           294602\n",
       "PM-NOx저감장치      2304\n",
       "Name: count, dtype: int64"
      ]
     },
     "execution_count": 52,
     "metadata": {},
     "output_type": "execute_result"
    }
   ],
   "source": [
    "attm['저감장치'].value_counts(dropna=False)"
   ]
  },
  {
   "cell_type": "code",
   "execution_count": 53,
   "metadata": {},
   "outputs": [
    {
     "data": {
      "text/plain": [
       "Index(['차대번호', '저감장치구분', '저감장치종류', '저감장치'], dtype='object')"
      ]
     },
     "execution_count": 53,
     "metadata": {},
     "output_type": "execute_result"
    }
   ],
   "source": [
    "attm.columns"
   ]
  },
  {
   "cell_type": "code",
   "execution_count": 54,
   "metadata": {},
   "outputs": [
    {
     "data": {
      "text/plain": [
       "((296906, 4), 296605)"
      ]
     },
     "execution_count": 54,
     "metadata": {},
     "output_type": "execute_result"
    }
   ],
   "source": [
    "attm.shape, len(attm['차대번호'].unique())"
   ]
  },
  {
   "cell_type": "code",
   "execution_count": 55,
   "metadata": {},
   "outputs": [
    {
     "data": {
      "text/plain": [
       "0"
      ]
     },
     "execution_count": 55,
     "metadata": {},
     "output_type": "execute_result"
    }
   ],
   "source": [
    "attm['저감장치'].isnull().sum()"
   ]
  },
  {
   "cell_type": "code",
   "execution_count": 56,
   "metadata": {},
   "outputs": [
    {
     "data": {
      "text/html": [
       "<div>\n",
       "<style scoped>\n",
       "    .dataframe tbody tr th:only-of-type {\n",
       "        vertical-align: middle;\n",
       "    }\n",
       "\n",
       "    .dataframe tbody tr th {\n",
       "        vertical-align: top;\n",
       "    }\n",
       "\n",
       "    .dataframe thead th {\n",
       "        text-align: right;\n",
       "    }\n",
       "</style>\n",
       "<table border=\"1\" class=\"dataframe\">\n",
       "  <thead>\n",
       "    <tr style=\"text-align: right;\">\n",
       "      <th></th>\n",
       "      <th>차대번호</th>\n",
       "      <th>저감장치구분</th>\n",
       "      <th>저감장치종류</th>\n",
       "      <th>저감장치</th>\n",
       "    </tr>\n",
       "  </thead>\n",
       "  <tbody>\n",
       "    <tr>\n",
       "      <th>203125</th>\n",
       "      <td>충남-06로5020</td>\n",
       "      <td>1종</td>\n",
       "      <td>복합대형</td>\n",
       "      <td>DPF</td>\n",
       "    </tr>\n",
       "    <tr>\n",
       "      <th>233331</th>\n",
       "      <td>충남-06노5975</td>\n",
       "      <td>1종</td>\n",
       "      <td>복합대형</td>\n",
       "      <td>DPF</td>\n",
       "    </tr>\n",
       "    <tr>\n",
       "      <th>279669</th>\n",
       "      <td>인천06마6927</td>\n",
       "      <td>1종</td>\n",
       "      <td>복합대형</td>\n",
       "      <td>DPF</td>\n",
       "    </tr>\n",
       "    <tr>\n",
       "      <th>202440</th>\n",
       "      <td>인천-14마5426</td>\n",
       "      <td>1종</td>\n",
       "      <td>복합대형</td>\n",
       "      <td>DPF</td>\n",
       "    </tr>\n",
       "    <tr>\n",
       "      <th>201636</th>\n",
       "      <td>인천-14마5003</td>\n",
       "      <td>1종</td>\n",
       "      <td>복합대형</td>\n",
       "      <td>DPF</td>\n",
       "    </tr>\n",
       "  </tbody>\n",
       "</table>\n",
       "</div>"
      ],
      "text/plain": [
       "              차대번호 저감장치구분 저감장치종류 저감장치\n",
       "203125  충남-06로5020     1종   복합대형  DPF\n",
       "233331  충남-06노5975     1종   복합대형  DPF\n",
       "279669   인천06마6927     1종   복합대형  DPF\n",
       "202440  인천-14마5426     1종   복합대형  DPF\n",
       "201636  인천-14마5003     1종   복합대형  DPF"
      ]
     },
     "execution_count": 56,
     "metadata": {},
     "output_type": "execute_result"
    }
   ],
   "source": [
    "attm = attm.sort_values(['차대번호', '저감장치'], ascending=False)\n",
    "attm.head()"
   ]
  },
  {
   "cell_type": "code",
   "execution_count": 57,
   "metadata": {},
   "outputs": [
    {
     "data": {
      "text/html": [
       "<div>\n",
       "<style scoped>\n",
       "    .dataframe tbody tr th:only-of-type {\n",
       "        vertical-align: middle;\n",
       "    }\n",
       "\n",
       "    .dataframe tbody tr th {\n",
       "        vertical-align: top;\n",
       "    }\n",
       "\n",
       "    .dataframe thead th {\n",
       "        text-align: right;\n",
       "    }\n",
       "</style>\n",
       "<table border=\"1\" class=\"dataframe\">\n",
       "  <thead>\n",
       "    <tr style=\"text-align: right;\">\n",
       "      <th></th>\n",
       "      <th>차대번호</th>\n",
       "      <th>저감장치구분</th>\n",
       "      <th>저감장치종류</th>\n",
       "      <th>저감장치</th>\n",
       "    </tr>\n",
       "  </thead>\n",
       "  <tbody>\n",
       "    <tr>\n",
       "      <th>190522</th>\n",
       "      <td>000391</td>\n",
       "      <td>1종</td>\n",
       "      <td>복합대형</td>\n",
       "      <td>DPF</td>\n",
       "    </tr>\n",
       "    <tr>\n",
       "      <th>182833</th>\n",
       "      <td>000380</td>\n",
       "      <td>1종</td>\n",
       "      <td>복합대형</td>\n",
       "      <td>DPF</td>\n",
       "    </tr>\n",
       "    <tr>\n",
       "      <th>180428</th>\n",
       "      <td>000223</td>\n",
       "      <td>1종</td>\n",
       "      <td>복합대형</td>\n",
       "      <td>DPF</td>\n",
       "    </tr>\n",
       "    <tr>\n",
       "      <th>197822</th>\n",
       "      <td>000128</td>\n",
       "      <td>1종</td>\n",
       "      <td>복합대형</td>\n",
       "      <td>DPF</td>\n",
       "    </tr>\n",
       "    <tr>\n",
       "      <th>198067</th>\n",
       "      <td>000039</td>\n",
       "      <td>1종</td>\n",
       "      <td>복합대형</td>\n",
       "      <td>DPF</td>\n",
       "    </tr>\n",
       "  </tbody>\n",
       "</table>\n",
       "</div>"
      ],
      "text/plain": [
       "          차대번호 저감장치구분 저감장치종류 저감장치\n",
       "190522  000391     1종   복합대형  DPF\n",
       "182833  000380     1종   복합대형  DPF\n",
       "180428  000223     1종   복합대형  DPF\n",
       "197822  000128     1종   복합대형  DPF\n",
       "198067  000039     1종   복합대형  DPF"
      ]
     },
     "execution_count": 57,
     "metadata": {},
     "output_type": "execute_result"
    }
   ],
   "source": [
    "attm.tail()"
   ]
  },
  {
   "cell_type": "code",
   "execution_count": 58,
   "metadata": {},
   "outputs": [
    {
     "data": {
      "text/plain": [
       "(296605, 4)"
      ]
     },
     "execution_count": 58,
     "metadata": {},
     "output_type": "execute_result"
    }
   ],
   "source": [
    "attm = attm.drop_duplicates(['차대번호'])\n",
    "attm.shape"
   ]
  },
  {
   "cell_type": "code",
   "execution_count": 88,
   "metadata": {},
   "outputs": [
    {
     "data": {
      "text/plain": [
       "(29534047, 14)"
      ]
     },
     "execution_count": 88,
     "metadata": {},
     "output_type": "execute_result"
    }
   ],
   "source": [
    "df1.shape"
   ]
  },
  {
   "cell_type": "code",
   "execution_count": 89,
   "metadata": {},
   "outputs": [
    {
     "data": {
      "text/plain": [
       "(29534047, 15)"
      ]
     },
     "execution_count": 89,
     "metadata": {},
     "output_type": "execute_result"
    }
   ],
   "source": [
    "# about 47.1s\n",
    "df2 = df1.merge(attm[['차대번호', '저감장치']], on='차대번호', how='left')\n",
    "df2.shape"
   ]
  },
  {
   "cell_type": "code",
   "execution_count": 90,
   "metadata": {},
   "outputs": [
    {
     "data": {
      "text/plain": [
       "Index(['차량등록번호', '본거지법정동코드', '차대번호', '제원관리번호', '배출가스인증번호', '차명', '차종_등록정보',\n",
       "       '차종유형(소분류)', '연료', '차량말소YN', '등급', '시도', '시구군', '조기폐차최종승인YN', '저감장치'],\n",
       "      dtype='object')"
      ]
     },
     "execution_count": 90,
     "metadata": {},
     "output_type": "execute_result"
    }
   ],
   "source": [
    "df2.columns"
   ]
  },
  {
   "attachments": {},
   "cell_type": "markdown",
   "metadata": {},
   "source": [
    "## 운행제한 단속 정보 추가"
   ]
  },
  {
   "cell_type": "code",
   "execution_count": 91,
   "metadata": {},
   "outputs": [
    {
     "data": {
      "text/plain": [
       "Index(['차대번호', '운행제한단속YN'], dtype='object')"
      ]
     },
     "execution_count": 91,
     "metadata": {},
     "output_type": "execute_result"
    }
   ],
   "source": [
    "limit.columns"
   ]
  },
  {
   "cell_type": "code",
   "execution_count": 92,
   "metadata": {},
   "outputs": [
    {
     "data": {
      "text/plain": [
       "(29534047, 15)"
      ]
     },
     "execution_count": 92,
     "metadata": {},
     "output_type": "execute_result"
    }
   ],
   "source": [
    "df2.shape"
   ]
  },
  {
   "cell_type": "code",
   "execution_count": 93,
   "metadata": {},
   "outputs": [
    {
     "data": {
      "text/plain": [
       "(29534047, 16)"
      ]
     },
     "execution_count": 93,
     "metadata": {},
     "output_type": "execute_result"
    }
   ],
   "source": [
    "# about 45.4s\n",
    "df3 = df2.merge(limit, on='차대번호', how='left')\n",
    "df3.shape"
   ]
  },
  {
   "attachments": {},
   "cell_type": "markdown",
   "metadata": {},
   "source": [
    "## 비상시 및 계절제 단속 정보 추가"
   ]
  },
  {
   "cell_type": "code",
   "execution_count": 94,
   "metadata": {},
   "outputs": [
    {
     "data": {
      "text/plain": [
       "Index(['차대번호', '계절제1차단속YN', '계절제2차단속YN', '계절제3차단속YN', '비상시단속YN'], dtype='object')"
      ]
     },
     "execution_count": 94,
     "metadata": {},
     "output_type": "execute_result"
    }
   ],
   "source": [
    "slimitm.columns"
   ]
  },
  {
   "cell_type": "code",
   "execution_count": 95,
   "metadata": {},
   "outputs": [
    {
     "data": {
      "text/plain": [
       "(1204906, 5)"
      ]
     },
     "execution_count": 95,
     "metadata": {},
     "output_type": "execute_result"
    }
   ],
   "source": [
    "slimitm.shape"
   ]
  },
  {
   "cell_type": "code",
   "execution_count": 96,
   "metadata": {},
   "outputs": [
    {
     "data": {
      "text/plain": [
       "차대번호               0\n",
       "계절제1차단속YN    1056625\n",
       "계절제2차단속YN     532799\n",
       "계절제3차단속YN     615746\n",
       "비상시단속YN       807429\n",
       "dtype: int64"
      ]
     },
     "execution_count": 96,
     "metadata": {},
     "output_type": "execute_result"
    }
   ],
   "source": [
    "slimitm.isnull().sum()"
   ]
  },
  {
   "cell_type": "code",
   "execution_count": 97,
   "metadata": {},
   "outputs": [
    {
     "data": {
      "text/plain": [
       "(29534047, 16)"
      ]
     },
     "execution_count": 97,
     "metadata": {},
     "output_type": "execute_result"
    }
   ],
   "source": [
    "df3.shape"
   ]
  },
  {
   "cell_type": "code",
   "execution_count": 98,
   "metadata": {},
   "outputs": [
    {
     "data": {
      "text/plain": [
       "Index(['차량등록번호', '본거지법정동코드', '차대번호', '제원관리번호', '배출가스인증번호', '차명', '차종_등록정보',\n",
       "       '차종유형(소분류)', '연료', '차량말소YN', '등급', '시도', '시구군', '조기폐차최종승인YN', '저감장치',\n",
       "       '운행제한단속YN'],\n",
       "      dtype='object')"
      ]
     },
     "execution_count": 98,
     "metadata": {},
     "output_type": "execute_result"
    }
   ],
   "source": [
    "df3.columns"
   ]
  },
  {
   "cell_type": "code",
   "execution_count": 99,
   "metadata": {},
   "outputs": [
    {
     "data": {
      "text/plain": [
       "(29534047, 20)"
      ]
     },
     "execution_count": 99,
     "metadata": {},
     "output_type": "execute_result"
    }
   ],
   "source": [
    "# about 56.6s\n",
    "df4 = df3.merge(slimitm, on='차대번호', how='left')\n",
    "df4.shape"
   ]
  },
  {
   "cell_type": "code",
   "execution_count": 100,
   "metadata": {},
   "outputs": [
    {
     "data": {
      "text/plain": [
       "Index(['차량등록번호', '본거지법정동코드', '차대번호', '제원관리번호', '배출가스인증번호', '차명', '차종_등록정보',\n",
       "       '차종유형(소분류)', '연료', '차량말소YN', '등급', '시도', '시구군', '조기폐차최종승인YN', '저감장치',\n",
       "       '운행제한단속YN', '계절제1차단속YN', '계절제2차단속YN', '계절제3차단속YN', '비상시단속YN'],\n",
       "      dtype='object')"
      ]
     },
     "execution_count": 100,
     "metadata": {},
     "output_type": "execute_result"
    }
   ],
   "source": [
    "df4.columns"
   ]
  },
  {
   "attachments": {},
   "cell_type": "markdown",
   "metadata": {},
   "source": [
    "## [출력] BD3-1,2 df"
   ]
  },
  {
   "cell_type": "code",
   "execution_count": 101,
   "metadata": {},
   "outputs": [
    {
     "data": {
      "text/plain": [
       "Index(['본거지법정동코드', '차대번호', '연료', '차종_등록정보', '차종유형(소분류)', '조기폐차최종승인YN',\n",
       "       '운행제한단속YN', '계절제1차단속YN', '계절제2차단속YN', '계절제3차단속YN', '비상시단속YN'],\n",
       "      dtype='object')"
      ]
     },
     "execution_count": 101,
     "metadata": {},
     "output_type": "execute_result"
    }
   ],
   "source": [
    "# about 6.6s\n",
    "df5 = df4[[\n",
    "    '본거지법정동코드',\n",
    "    '차대번호',\n",
    "    '연료',\n",
    "    '차종_등록정보',\n",
    "    '차종유형(소분류)',\n",
    "    '조기폐차최종승인YN',\n",
    "    '운행제한단속YN',\n",
    "    '계절제1차단속YN', \n",
    "    '계절제2차단속YN', \n",
    "    '계절제3차단속YN', \n",
    "    '비상시단속YN',\n",
    "    ]]\n",
    "df5.columns"
   ]
  },
  {
   "cell_type": "code",
   "execution_count": 157,
   "metadata": {},
   "outputs": [],
   "source": [
    "# chc_dict = {\n",
    "#     '본거지법정동코드':'BSPL_STDG_CD', \n",
    "#     '차대번호':'VIN', \n",
    "#     '제원관리번호':'MANP_MNG_NO', \n",
    "#     '배출가스인증번호':'EXHST_GAS_CERT_NO', \n",
    "#     '연료':'FUEL_CD',\n",
    "#     '차종_등록정보':'VHCTY_CD',\n",
    "#     '차종유형(소분류)':'VHCTY_TY',\n",
    "#     '차량말소YN':'VHCL_ERSR_YN', \n",
    "#     '등급':'EXHST_GAS_GRD_CD', \n",
    "#     '시도':'CTPV', \n",
    "#     '시구군':'SGG', \n",
    "#     '조기폐차최종승인YN':'ELPDSRC_LAST_APRV_YN', \n",
    "#     '저감장치':'RDCDVC', \n",
    "#     '운행제한단속YN':'RUN_LMT_CRDN_YN',\n",
    "#     '계절제1차단속YN':'SEASON1_CRDN_YN', \n",
    "#     '계절제2차단속YN':'SEASON2_CRDN_YN', \n",
    "#     '계절제3차단속YN':'SEASON3_CRDN_YN', \n",
    "#     '비상시단속YN':'EMGN_CRDN_YN',\n",
    "# }"
   ]
  },
  {
   "cell_type": "code",
   "execution_count": 102,
   "metadata": {},
   "outputs": [],
   "source": [
    "chc_dict = {\n",
    "    '본거지법정동코드':'BSPL_STDG_CD', \n",
    "    '차대번호':'VIN', \n",
    "    '연료':'FUEL_CD',\n",
    "    '차종_등록정보':'VHCTY_CD',\n",
    "    '차종유형(소분류)':'VHCTY_TY',\n",
    "    '조기폐차최종승인YN':'ELPDSRC_LAST_APRV_YN', \n",
    "    '운행제한단속YN':'RUN_LMT_CRDN_YN',\n",
    "    '계절제1차단속YN':'SEASON1_CRDN_YN', \n",
    "    '계절제2차단속YN':'SEASON2_CRDN_YN', \n",
    "    '계절제3차단속YN':'SEASON3_CRDN_YN', \n",
    "    '비상시단속YN':'EMGN_CRDN_YN',\n",
    "}"
   ]
  },
  {
   "cell_type": "code",
   "execution_count": 103,
   "metadata": {},
   "outputs": [
    {
     "data": {
      "text/plain": [
       "Index(['BSPL_STDG_CD', 'VIN', 'FUEL_CD', 'VHCTY_CD', 'VHCTY_TY',\n",
       "       'ELPDSRC_LAST_APRV_YN', 'RUN_LMT_CRDN_YN', 'SEASON1_CRDN_YN',\n",
       "       'SEASON2_CRDN_YN', 'SEASON3_CRDN_YN', 'EMGN_CRDN_YN'],\n",
       "      dtype='object')"
      ]
     },
     "execution_count": 103,
     "metadata": {},
     "output_type": "execute_result"
    }
   ],
   "source": [
    "# about \n",
    "df5 = df5.rename(columns=chc_dict)\n",
    "df5.columns"
   ]
  },
  {
   "cell_type": "code",
   "execution_count": 104,
   "metadata": {},
   "outputs": [
    {
     "data": {
      "text/plain": [
       "'2023.06.05_PM.04.29.57'"
      ]
     },
     "execution_count": 104,
     "metadata": {},
     "output_type": "execute_result"
    }
   ],
   "source": [
    "today_date = datetime.today().strftime(\"%Y.%m.%d_%p.%I.%M.%S\")\n",
    "today_date"
   ]
  },
  {
   "cell_type": "code",
   "execution_count": 105,
   "metadata": {},
   "outputs": [],
   "source": [
    "# about 1m 22.5s\n",
    "df5.to_csv(os.path.join(df_fold, f'BD3_STD_BD_LEM_ND_RUN_LMT_CURSTT({today_date}).csv'), index=False)"
   ]
  },
  {
   "attachments": {},
   "cell_type": "markdown",
   "metadata": {},
   "source": [
    "## [출력] 전체 차량 현황"
   ]
  },
  {
   "cell_type": "code",
   "execution_count": 132,
   "metadata": {},
   "outputs": [
    {
     "data": {
      "text/plain": [
       "Index(['차량등록번호', '본거지법정동코드', '차대번호', '제원관리번호', '배출가스인증번호', '차명', '연료',\n",
       "       '차량말소YN', '등급', '시도', '시구군', '조기폐차최종승인YN', '저감장치', '운행제한단속YN',\n",
       "       '계절제1차단속YN', '계절제2차단속YN', '계절제3차단속YN', '비상시단속YN'],\n",
       "      dtype='object')"
      ]
     },
     "execution_count": 132,
     "metadata": {},
     "output_type": "execute_result"
    }
   ],
   "source": [
    "df4.columns"
   ]
  },
  {
   "cell_type": "code",
   "execution_count": 133,
   "metadata": {},
   "outputs": [
    {
     "data": {
      "text/plain": [
       "차량말소YN\n",
       "N    25693532\n",
       "Y     3840515\n",
       "Name: count, dtype: int64"
      ]
     },
     "execution_count": 133,
     "metadata": {},
     "output_type": "execute_result"
    }
   ],
   "source": [
    "df4['차량말소YN'].value_counts(dropna=False)"
   ]
  },
  {
   "cell_type": "code",
   "execution_count": 134,
   "metadata": {},
   "outputs": [
    {
     "data": {
      "text/plain": [
       "(25693532, 2)"
      ]
     },
     "execution_count": 134,
     "metadata": {},
     "output_type": "execute_result"
    }
   ],
   "source": [
    "df5_1 = df4.loc[df4['차량말소YN'] == 'N', ['차대번호', '연료']].reset_index(drop=True)\n",
    "df5_1.shape"
   ]
  },
  {
   "cell_type": "code",
   "execution_count": 135,
   "metadata": {},
   "outputs": [
    {
     "data": {
      "text/plain": [
       "Index(['VIN', 'FUEL_CD'], dtype='object')"
      ]
     },
     "execution_count": 135,
     "metadata": {},
     "output_type": "execute_result"
    }
   ],
   "source": [
    "# about \n",
    "df5_1 = df5_1.rename(columns=chc_dict)\n",
    "df5_1.columns"
   ]
  },
  {
   "cell_type": "code",
   "execution_count": 136,
   "metadata": {},
   "outputs": [
    {
     "data": {
      "text/plain": [
       "'2023.05.30_AM.09.52.15'"
      ]
     },
     "execution_count": 136,
     "metadata": {},
     "output_type": "execute_result"
    }
   ],
   "source": [
    "today_date = datetime.today().strftime(\"%Y.%m.%d_%p.%I.%M.%S\")\n",
    "today_date"
   ]
  },
  {
   "cell_type": "code",
   "execution_count": 137,
   "metadata": {},
   "outputs": [],
   "source": [
    "# about 37.8s\n",
    "# 저공해조치 및 운행제한\n",
    "df5_1.to_csv(os.path.join(df_fold, f'BD3_STD_BD_LEM_ND_RUN_LMT_CURSTT({today_date}).csv'), index=False)"
   ]
  },
  {
   "attachments": {},
   "cell_type": "markdown",
   "metadata": {},
   "source": [
    "# 분석"
   ]
  },
  {
   "attachments": {},
   "cell_type": "markdown",
   "metadata": {},
   "source": [
    "## 전체"
   ]
  },
  {
   "attachments": {},
   "cell_type": "markdown",
   "metadata": {},
   "source": [
    "### 내연기관차"
   ]
  },
  {
   "cell_type": "code",
   "execution_count": 103,
   "metadata": {},
   "outputs": [
    {
     "data": {
      "text/plain": [
       "휘발유            12177033\n",
       "경유              9890990\n",
       "LPG(액화석유가스)     1904188\n",
       "휘발유 하이브리드       1095741\n",
       "경유 하이브리드          35779\n",
       "CNG(압축천연가스)       30461\n",
       "LPG 하이브리드         14352\n",
       "기타연료                933\n",
       "CNG 하이브리드           304\n",
       "LNG(액화천연가스)          27\n",
       "알코올                   3\n",
       "등유                    1\n",
       "Name: 연료, dtype: int64"
      ]
     },
     "execution_count": 103,
     "metadata": {},
     "output_type": "execute_result"
    }
   ],
   "source": [
    "# about 11.8s\n",
    "gas_car = df.loc[(df['연료'].isnull() == False) & (df['연료'] != '전기') & (df['연료'] != '수소') & (df['연료'] != '태양열')]\n",
    "gas_car['연료'].value_counts(dropna=False)"
   ]
  },
  {
   "cell_type": "code",
   "execution_count": 104,
   "metadata": {},
   "outputs": [
    {
     "data": {
      "text/plain": [
       "Index(['차량등록번호', '본거지법정동코드', '차대번호', '제원관리번호', '배출가스인증번호', '배출가스등급', '차명',\n",
       "       '연료', '차량말소YN', '등급', '시도', '시구군', '읍면동', '리', '지역3', '폐지여부', '대기관리권역',\n",
       "       '대기관리권역YN'],\n",
       "      dtype='object')"
      ]
     },
     "execution_count": 104,
     "metadata": {},
     "output_type": "execute_result"
    }
   ],
   "source": [
    "gas_car.columns"
   ]
  },
  {
   "cell_type": "code",
   "execution_count": 105,
   "metadata": {},
   "outputs": [
    {
     "data": {
      "text/html": [
       "<div>\n",
       "<style scoped>\n",
       "    .dataframe tbody tr th:only-of-type {\n",
       "        vertical-align: middle;\n",
       "    }\n",
       "\n",
       "    .dataframe tbody tr th {\n",
       "        vertical-align: top;\n",
       "    }\n",
       "\n",
       "    .dataframe thead th {\n",
       "        text-align: right;\n",
       "    }\n",
       "</style>\n",
       "<table border=\"1\" class=\"dataframe\">\n",
       "  <thead>\n",
       "    <tr style=\"text-align: right;\">\n",
       "      <th>등급</th>\n",
       "      <th>시도</th>\n",
       "      <th>1.0</th>\n",
       "      <th>2.0</th>\n",
       "      <th>3.0</th>\n",
       "      <th>4.0</th>\n",
       "      <th>5.0</th>\n",
       "      <th>X</th>\n",
       "    </tr>\n",
       "  </thead>\n",
       "  <tbody>\n",
       "    <tr>\n",
       "      <th>0</th>\n",
       "      <td>강원도</td>\n",
       "      <td>62814</td>\n",
       "      <td>354769</td>\n",
       "      <td>309052</td>\n",
       "      <td>56328</td>\n",
       "      <td>48547</td>\n",
       "      <td>3649</td>\n",
       "    </tr>\n",
       "    <tr>\n",
       "      <th>1</th>\n",
       "      <td>경기도</td>\n",
       "      <td>590508</td>\n",
       "      <td>2829950</td>\n",
       "      <td>2246914</td>\n",
       "      <td>362403</td>\n",
       "      <td>228482</td>\n",
       "      <td>42052</td>\n",
       "    </tr>\n",
       "    <tr>\n",
       "      <th>2</th>\n",
       "      <td>경상남도</td>\n",
       "      <td>153254</td>\n",
       "      <td>853461</td>\n",
       "      <td>628061</td>\n",
       "      <td>116771</td>\n",
       "      <td>105067</td>\n",
       "      <td>9528</td>\n",
       "    </tr>\n",
       "    <tr>\n",
       "      <th>3</th>\n",
       "      <td>경상북도</td>\n",
       "      <td>103557</td>\n",
       "      <td>628228</td>\n",
       "      <td>527532</td>\n",
       "      <td>116935</td>\n",
       "      <td>122479</td>\n",
       "      <td>5913</td>\n",
       "    </tr>\n",
       "    <tr>\n",
       "      <th>4</th>\n",
       "      <td>광주광역시</td>\n",
       "      <td>73614</td>\n",
       "      <td>320817</td>\n",
       "      <td>241466</td>\n",
       "      <td>39361</td>\n",
       "      <td>26352</td>\n",
       "      <td>2893</td>\n",
       "    </tr>\n",
       "    <tr>\n",
       "      <th>5</th>\n",
       "      <td>대구광역시</td>\n",
       "      <td>110492</td>\n",
       "      <td>554620</td>\n",
       "      <td>420456</td>\n",
       "      <td>69054</td>\n",
       "      <td>50303</td>\n",
       "      <td>5854</td>\n",
       "    </tr>\n",
       "    <tr>\n",
       "      <th>6</th>\n",
       "      <td>대전광역시</td>\n",
       "      <td>67169</td>\n",
       "      <td>324682</td>\n",
       "      <td>230858</td>\n",
       "      <td>41638</td>\n",
       "      <td>26306</td>\n",
       "      <td>2992</td>\n",
       "    </tr>\n",
       "    <tr>\n",
       "      <th>7</th>\n",
       "      <td>부산광역시</td>\n",
       "      <td>148871</td>\n",
       "      <td>674629</td>\n",
       "      <td>499969</td>\n",
       "      <td>76784</td>\n",
       "      <td>67462</td>\n",
       "      <td>9006</td>\n",
       "    </tr>\n",
       "    <tr>\n",
       "      <th>8</th>\n",
       "      <td>서울특별시</td>\n",
       "      <td>354521</td>\n",
       "      <td>1445320</td>\n",
       "      <td>1043315</td>\n",
       "      <td>178512</td>\n",
       "      <td>126995</td>\n",
       "      <td>17767</td>\n",
       "    </tr>\n",
       "    <tr>\n",
       "      <th>9</th>\n",
       "      <td>세종특별자치시</td>\n",
       "      <td>22041</td>\n",
       "      <td>91924</td>\n",
       "      <td>62444</td>\n",
       "      <td>8075</td>\n",
       "      <td>4352</td>\n",
       "      <td>897</td>\n",
       "    </tr>\n",
       "    <tr>\n",
       "      <th>10</th>\n",
       "      <td>울산광역시</td>\n",
       "      <td>48450</td>\n",
       "      <td>278741</td>\n",
       "      <td>192622</td>\n",
       "      <td>32487</td>\n",
       "      <td>26409</td>\n",
       "      <td>2844</td>\n",
       "    </tr>\n",
       "    <tr>\n",
       "      <th>11</th>\n",
       "      <td>인천광역시</td>\n",
       "      <td>198252</td>\n",
       "      <td>783405</td>\n",
       "      <td>574303</td>\n",
       "      <td>80688</td>\n",
       "      <td>55007</td>\n",
       "      <td>12701</td>\n",
       "    </tr>\n",
       "    <tr>\n",
       "      <th>12</th>\n",
       "      <td>전라남도</td>\n",
       "      <td>113100</td>\n",
       "      <td>470400</td>\n",
       "      <td>445136</td>\n",
       "      <td>86065</td>\n",
       "      <td>77641</td>\n",
       "      <td>6773</td>\n",
       "    </tr>\n",
       "    <tr>\n",
       "      <th>13</th>\n",
       "      <td>전라북도</td>\n",
       "      <td>77616</td>\n",
       "      <td>394715</td>\n",
       "      <td>354748</td>\n",
       "      <td>72913</td>\n",
       "      <td>58967</td>\n",
       "      <td>3947</td>\n",
       "    </tr>\n",
       "    <tr>\n",
       "      <th>14</th>\n",
       "      <td>제주특별자치도</td>\n",
       "      <td>89176</td>\n",
       "      <td>301730</td>\n",
       "      <td>221548</td>\n",
       "      <td>26652</td>\n",
       "      <td>24813</td>\n",
       "      <td>5251</td>\n",
       "    </tr>\n",
       "    <tr>\n",
       "      <th>15</th>\n",
       "      <td>충청남도</td>\n",
       "      <td>90567</td>\n",
       "      <td>508955</td>\n",
       "      <td>434488</td>\n",
       "      <td>85494</td>\n",
       "      <td>62980</td>\n",
       "      <td>4785</td>\n",
       "    </tr>\n",
       "    <tr>\n",
       "      <th>16</th>\n",
       "      <td>충청북도</td>\n",
       "      <td>72483</td>\n",
       "      <td>391355</td>\n",
       "      <td>326381</td>\n",
       "      <td>61020</td>\n",
       "      <td>42571</td>\n",
       "      <td>3568</td>\n",
       "    </tr>\n",
       "  </tbody>\n",
       "</table>\n",
       "</div>"
      ],
      "text/plain": [
       "등급       시도     1.0      2.0      3.0     4.0     5.0      X\n",
       "0       강원도   62814   354769   309052   56328   48547   3649\n",
       "1       경기도  590508  2829950  2246914  362403  228482  42052\n",
       "2      경상남도  153254   853461   628061  116771  105067   9528\n",
       "3      경상북도  103557   628228   527532  116935  122479   5913\n",
       "4     광주광역시   73614   320817   241466   39361   26352   2893\n",
       "5     대구광역시  110492   554620   420456   69054   50303   5854\n",
       "6     대전광역시   67169   324682   230858   41638   26306   2992\n",
       "7     부산광역시  148871   674629   499969   76784   67462   9006\n",
       "8     서울특별시  354521  1445320  1043315  178512  126995  17767\n",
       "9   세종특별자치시   22041    91924    62444    8075    4352    897\n",
       "10    울산광역시   48450   278741   192622   32487   26409   2844\n",
       "11    인천광역시  198252   783405   574303   80688   55007  12701\n",
       "12     전라남도  113100   470400   445136   86065   77641   6773\n",
       "13     전라북도   77616   394715   354748   72913   58967   3947\n",
       "14  제주특별자치도   89176   301730   221548   26652   24813   5251\n",
       "15     충청남도   90567   508955   434488   85494   62980   4785\n",
       "16     충청북도   72483   391355   326381   61020   42571   3568"
      ]
     },
     "execution_count": 105,
     "metadata": {},
     "output_type": "execute_result"
    }
   ],
   "source": [
    "# 내연기관차\n",
    "stat_gas1 = gas_car.groupby(['시도', '등급'], dropna=False)['차대번호'].count().unstack().reset_index()\n",
    "stat_gas1 = stat_gas1.rename(columns={'차대번호':'차량수'})\n",
    "stat_gas1"
   ]
  },
  {
   "cell_type": "code",
   "execution_count": 106,
   "metadata": {},
   "outputs": [],
   "source": [
    "stat_gas1.to_excel(os.path.join(analysis_fold, '통계_전체_시도_등급별_차량현황.xlsx'), index=False)"
   ]
  },
  {
   "cell_type": "code",
   "execution_count": 66,
   "metadata": {},
   "outputs": [
    {
     "data": {
      "text/html": [
       "<div>\n",
       "<style scoped>\n",
       "    .dataframe tbody tr th:only-of-type {\n",
       "        vertical-align: middle;\n",
       "    }\n",
       "\n",
       "    .dataframe tbody tr th {\n",
       "        vertical-align: top;\n",
       "    }\n",
       "\n",
       "    .dataframe thead th {\n",
       "        text-align: right;\n",
       "    }\n",
       "</style>\n",
       "<table border=\"1\" class=\"dataframe\">\n",
       "  <thead>\n",
       "    <tr style=\"text-align: right;\">\n",
       "      <th></th>\n",
       "      <th></th>\n",
       "      <th>대기관리권역YN</th>\n",
       "      <th>N</th>\n",
       "      <th>Y</th>\n",
       "    </tr>\n",
       "    <tr>\n",
       "      <th>대기관리권역</th>\n",
       "      <th>시도</th>\n",
       "      <th>배출가스등급</th>\n",
       "      <th></th>\n",
       "      <th></th>\n",
       "    </tr>\n",
       "  </thead>\n",
       "  <tbody>\n",
       "    <tr>\n",
       "      <th rowspan=\"5\" valign=\"top\">그 외</th>\n",
       "      <th rowspan=\"5\" valign=\"top\">강원</th>\n",
       "      <th>1</th>\n",
       "      <td>62814.00</td>\n",
       "      <td>NaN</td>\n",
       "    </tr>\n",
       "    <tr>\n",
       "      <th>2</th>\n",
       "      <td>349994.00</td>\n",
       "      <td>NaN</td>\n",
       "    </tr>\n",
       "    <tr>\n",
       "      <th>3</th>\n",
       "      <td>304509.00</td>\n",
       "      <td>NaN</td>\n",
       "    </tr>\n",
       "    <tr>\n",
       "      <th>4</th>\n",
       "      <td>56327.00</td>\n",
       "      <td>NaN</td>\n",
       "    </tr>\n",
       "    <tr>\n",
       "      <th>5</th>\n",
       "      <td>48547.00</td>\n",
       "      <td>NaN</td>\n",
       "    </tr>\n",
       "    <tr>\n",
       "      <th>...</th>\n",
       "      <th>...</th>\n",
       "      <th>...</th>\n",
       "      <td>...</td>\n",
       "      <td>...</td>\n",
       "    </tr>\n",
       "    <tr>\n",
       "      <th rowspan=\"5\" valign=\"top\">중부권</th>\n",
       "      <th rowspan=\"5\" valign=\"top\">충북</th>\n",
       "      <th>5</th>\n",
       "      <td>10468.00</td>\n",
       "      <td>32099.00</td>\n",
       "    </tr>\n",
       "    <tr>\n",
       "      <th>T2</th>\n",
       "      <td>389.00</td>\n",
       "      <td>4602.00</td>\n",
       "    </tr>\n",
       "    <tr>\n",
       "      <th>T3</th>\n",
       "      <td>617.00</td>\n",
       "      <td>4062.00</td>\n",
       "    </tr>\n",
       "    <tr>\n",
       "      <th>T5</th>\n",
       "      <td>NaN</td>\n",
       "      <td>2.00</td>\n",
       "    </tr>\n",
       "    <tr>\n",
       "      <th>X</th>\n",
       "      <td>419.00</td>\n",
       "      <td>3114.00</td>\n",
       "    </tr>\n",
       "  </tbody>\n",
       "</table>\n",
       "<p>156 rows × 2 columns</p>\n",
       "</div>"
      ],
      "text/plain": [
       "대기관리권역YN                 N        Y\n",
       "대기관리권역 시도 배출가스등급                   \n",
       "그 외    강원 1       62814.00      NaN\n",
       "          2      349994.00      NaN\n",
       "          3      304509.00      NaN\n",
       "          4       56327.00      NaN\n",
       "          5       48547.00      NaN\n",
       "...                    ...      ...\n",
       "중부권    충북 5       10468.00 32099.00\n",
       "          T2        389.00  4602.00\n",
       "          T3        617.00  4062.00\n",
       "          T5           NaN     2.00\n",
       "          X         419.00  3114.00\n",
       "\n",
       "[156 rows x 2 columns]"
      ]
     },
     "execution_count": 66,
     "metadata": {},
     "output_type": "execute_result"
    }
   ],
   "source": [
    "# 내연기관차\n",
    "stat_gas2 = gas_car.groupby(['대기관리권역', '시도', '배출가스등급', '대기관리권역YN'])['차대번호'].count().unstack()\n",
    "stat_gas2"
   ]
  },
  {
   "cell_type": "code",
   "execution_count": 67,
   "metadata": {},
   "outputs": [
    {
     "data": {
      "text/html": [
       "<div>\n",
       "<style scoped>\n",
       "    .dataframe tbody tr th:only-of-type {\n",
       "        vertical-align: middle;\n",
       "    }\n",
       "\n",
       "    .dataframe tbody tr th {\n",
       "        vertical-align: top;\n",
       "    }\n",
       "\n",
       "    .dataframe thead th {\n",
       "        text-align: right;\n",
       "    }\n",
       "</style>\n",
       "<table border=\"1\" class=\"dataframe\">\n",
       "  <thead>\n",
       "    <tr style=\"text-align: right;\">\n",
       "      <th></th>\n",
       "      <th></th>\n",
       "      <th>대기관리권역YN</th>\n",
       "      <th>N</th>\n",
       "      <th>Y</th>\n",
       "    </tr>\n",
       "    <tr>\n",
       "      <th>대기관리권역</th>\n",
       "      <th>시도</th>\n",
       "      <th>연료</th>\n",
       "      <th></th>\n",
       "      <th></th>\n",
       "    </tr>\n",
       "  </thead>\n",
       "  <tbody>\n",
       "    <tr>\n",
       "      <th rowspan=\"5\" valign=\"top\">그 외</th>\n",
       "      <th rowspan=\"5\" valign=\"top\">강원</th>\n",
       "      <th>CNG(압축천연가스)</th>\n",
       "      <td>342.00</td>\n",
       "      <td>NaN</td>\n",
       "    </tr>\n",
       "    <tr>\n",
       "      <th>LPG 하이브리드</th>\n",
       "      <td>594.00</td>\n",
       "      <td>NaN</td>\n",
       "    </tr>\n",
       "    <tr>\n",
       "      <th>LPG(액화석유가스)</th>\n",
       "      <td>57868.00</td>\n",
       "      <td>NaN</td>\n",
       "    </tr>\n",
       "    <tr>\n",
       "      <th>경유</th>\n",
       "      <td>372822.00</td>\n",
       "      <td>NaN</td>\n",
       "    </tr>\n",
       "    <tr>\n",
       "      <th>경유 하이브리드</th>\n",
       "      <td>399.00</td>\n",
       "      <td>NaN</td>\n",
       "    </tr>\n",
       "    <tr>\n",
       "      <th>...</th>\n",
       "      <th>...</th>\n",
       "      <th>...</th>\n",
       "      <td>...</td>\n",
       "      <td>...</td>\n",
       "    </tr>\n",
       "    <tr>\n",
       "      <th rowspan=\"5\" valign=\"top\">중부권</th>\n",
       "      <th rowspan=\"5\" valign=\"top\">충북</th>\n",
       "      <th>LPG(액화석유가스)</th>\n",
       "      <td>8641.00</td>\n",
       "      <td>61573.00</td>\n",
       "    </tr>\n",
       "    <tr>\n",
       "      <th>경유</th>\n",
       "      <td>62530.00</td>\n",
       "      <td>319859.00</td>\n",
       "    </tr>\n",
       "    <tr>\n",
       "      <th>경유 하이브리드</th>\n",
       "      <td>41.00</td>\n",
       "      <td>648.00</td>\n",
       "    </tr>\n",
       "    <tr>\n",
       "      <th>휘발유</th>\n",
       "      <td>44932.00</td>\n",
       "      <td>368498.00</td>\n",
       "    </tr>\n",
       "    <tr>\n",
       "      <th>휘발유 하이브리드</th>\n",
       "      <td>2726.00</td>\n",
       "      <td>26742.00</td>\n",
       "    </tr>\n",
       "  </tbody>\n",
       "</table>\n",
       "<p>143 rows × 2 columns</p>\n",
       "</div>"
      ],
      "text/plain": [
       "대기관리권역YN                      N         Y\n",
       "대기관리권역 시도 연료                             \n",
       "그 외    강원 CNG(압축천연가스)    342.00       NaN\n",
       "          LPG 하이브리드      594.00       NaN\n",
       "          LPG(액화석유가스)  57868.00       NaN\n",
       "          경유          372822.00       NaN\n",
       "          경유 하이브리드       399.00       NaN\n",
       "...                         ...       ...\n",
       "중부권    충북 LPG(액화석유가스)   8641.00  61573.00\n",
       "          경유           62530.00 319859.00\n",
       "          경유 하이브리드        41.00    648.00\n",
       "          휘발유          44932.00 368498.00\n",
       "          휘발유 하이브리드     2726.00  26742.00\n",
       "\n",
       "[143 rows x 2 columns]"
      ]
     },
     "execution_count": 67,
     "metadata": {},
     "output_type": "execute_result"
    }
   ],
   "source": [
    "# 내연기관차\n",
    "stat_gas3 = gas_car.groupby(['대기관리권역', '시도', '연료', '대기관리권역YN'])['차대번호'].count().unstack()\n",
    "stat_gas3"
   ]
  },
  {
   "cell_type": "code",
   "execution_count": 68,
   "metadata": {},
   "outputs": [
    {
     "data": {
      "text/html": [
       "<div>\n",
       "<style scoped>\n",
       "    .dataframe tbody tr th:only-of-type {\n",
       "        vertical-align: middle;\n",
       "    }\n",
       "\n",
       "    .dataframe tbody tr th {\n",
       "        vertical-align: top;\n",
       "    }\n",
       "\n",
       "    .dataframe thead th {\n",
       "        text-align: right;\n",
       "    }\n",
       "</style>\n",
       "<table border=\"1\" class=\"dataframe\">\n",
       "  <thead>\n",
       "    <tr style=\"text-align: right;\">\n",
       "      <th></th>\n",
       "      <th></th>\n",
       "      <th></th>\n",
       "      <th>대기관리권역YN</th>\n",
       "      <th>N</th>\n",
       "      <th>Y</th>\n",
       "    </tr>\n",
       "    <tr>\n",
       "      <th>대기관리권역</th>\n",
       "      <th>시도</th>\n",
       "      <th>배출가스등급</th>\n",
       "      <th>연료</th>\n",
       "      <th></th>\n",
       "      <th></th>\n",
       "    </tr>\n",
       "  </thead>\n",
       "  <tbody>\n",
       "    <tr>\n",
       "      <th rowspan=\"5\" valign=\"top\">그 외</th>\n",
       "      <th rowspan=\"5\" valign=\"top\">강원</th>\n",
       "      <th rowspan=\"4\" valign=\"top\">1</th>\n",
       "      <th>LPG 하이브리드</th>\n",
       "      <td>594.00</td>\n",
       "      <td>NaN</td>\n",
       "    </tr>\n",
       "    <tr>\n",
       "      <th>LPG(액화석유가스)</th>\n",
       "      <td>13209.00</td>\n",
       "      <td>NaN</td>\n",
       "    </tr>\n",
       "    <tr>\n",
       "      <th>휘발유</th>\n",
       "      <td>24236.00</td>\n",
       "      <td>NaN</td>\n",
       "    </tr>\n",
       "    <tr>\n",
       "      <th>휘발유 하이브리드</th>\n",
       "      <td>24775.00</td>\n",
       "      <td>NaN</td>\n",
       "    </tr>\n",
       "    <tr>\n",
       "      <th>2</th>\n",
       "      <th>CNG(압축천연가스)</th>\n",
       "      <td>203.00</td>\n",
       "      <td>NaN</td>\n",
       "    </tr>\n",
       "    <tr>\n",
       "      <th>...</th>\n",
       "      <th>...</th>\n",
       "      <th>...</th>\n",
       "      <th>...</th>\n",
       "      <td>...</td>\n",
       "      <td>...</td>\n",
       "    </tr>\n",
       "    <tr>\n",
       "      <th rowspan=\"5\" valign=\"top\">중부권</th>\n",
       "      <th rowspan=\"5\" valign=\"top\">충북</th>\n",
       "      <th rowspan=\"5\" valign=\"top\">X</th>\n",
       "      <th>LPG(액화석유가스)</th>\n",
       "      <td>15.00</td>\n",
       "      <td>226.00</td>\n",
       "    </tr>\n",
       "    <tr>\n",
       "      <th>경유</th>\n",
       "      <td>172.00</td>\n",
       "      <td>767.00</td>\n",
       "    </tr>\n",
       "    <tr>\n",
       "      <th>경유 하이브리드</th>\n",
       "      <td>4.00</td>\n",
       "      <td>19.00</td>\n",
       "    </tr>\n",
       "    <tr>\n",
       "      <th>휘발유</th>\n",
       "      <td>163.00</td>\n",
       "      <td>1570.00</td>\n",
       "    </tr>\n",
       "    <tr>\n",
       "      <th>휘발유 하이브리드</th>\n",
       "      <td>65.00</td>\n",
       "      <td>530.00</td>\n",
       "    </tr>\n",
       "  </tbody>\n",
       "</table>\n",
       "<p>593 rows × 2 columns</p>\n",
       "</div>"
      ],
      "text/plain": [
       "대기관리권역YN                            N       Y\n",
       "대기관리권역 시도 배출가스등급 연료                          \n",
       "그 외    강원 1      LPG 하이브리드     594.00     NaN\n",
       "                 LPG(액화석유가스) 13209.00     NaN\n",
       "                 휘발유         24236.00     NaN\n",
       "                 휘발유 하이브리드   24775.00     NaN\n",
       "          2      CNG(압축천연가스)   203.00     NaN\n",
       "...                               ...     ...\n",
       "중부권    충북 X      LPG(액화석유가스)    15.00  226.00\n",
       "                 경유            172.00  767.00\n",
       "                 경유 하이브리드        4.00   19.00\n",
       "                 휘발유           163.00 1570.00\n",
       "                 휘발유 하이브리드      65.00  530.00\n",
       "\n",
       "[593 rows x 2 columns]"
      ]
     },
     "execution_count": 68,
     "metadata": {},
     "output_type": "execute_result"
    }
   ],
   "source": [
    "# 내연기관차\n",
    "stat_gas4 = gas_car.groupby(['대기관리권역', '시도', '배출가스등급', '연료', '대기관리권역YN'])['차대번호'].count().unstack()\n",
    "stat_gas4"
   ]
  },
  {
   "attachments": {},
   "cell_type": "markdown",
   "metadata": {},
   "source": [
    "#### [출력] 내연기관차 대기관리권역별 등급별(말소 제거) 차량 현황"
   ]
  },
  {
   "cell_type": "code",
   "execution_count": 62,
   "metadata": {},
   "outputs": [
    {
     "data": {
      "text/plain": [
       "'2023.05.04_AM.10.46.25'"
      ]
     },
     "execution_count": 62,
     "metadata": {},
     "output_type": "execute_result"
    }
   ],
   "source": [
    "today_date = datetime.today().strftime(\"%Y.%m.%d_%p.%I.%M.%S\")\n",
    "today_date"
   ]
  },
  {
   "cell_type": "code",
   "execution_count": 73,
   "metadata": {},
   "outputs": [],
   "source": [
    "with pd.ExcelWriter(os.path.join(analysis_fold, f'통계_내연기관차_대기관리권역_등급_연료별({today_date}).xlsx')) as writer:\n",
    "    stat_gas1.to_excel(writer, sheet_name='대기관리권역')\n",
    "    stat_gas2.to_excel(writer, sheet_name='대기관리권역_등급')\n",
    "    stat_gas3.to_excel(writer, sheet_name='대기관리권역_연료')\n",
    "    stat_gas4.to_excel(writer, sheet_name='대기관리권역_등급_연료')"
   ]
  },
  {
   "attachments": {},
   "cell_type": "markdown",
   "metadata": {},
   "source": [
    "### 무공해차(전기, 수소, 태양열)"
   ]
  },
  {
   "cell_type": "code",
   "execution_count": 54,
   "metadata": {},
   "outputs": [
    {
     "data": {
      "text/plain": [
       "전기     368693\n",
       "수소      28227\n",
       "태양열         2\n",
       "Name: 연료, dtype: int64"
      ]
     },
     "execution_count": 54,
     "metadata": {},
     "output_type": "execute_result"
    }
   ],
   "source": [
    "# about 12.1s\n",
    "no_car = df.loc[(df['연료'].isnull() == False) & ((df['연료'] == '전기') | (df['연료'] == '수소') | (df['연료'] == '태양열'))]\n",
    "no_car['연료'].value_counts(dropna=False)"
   ]
  },
  {
   "cell_type": "code",
   "execution_count": 64,
   "metadata": {},
   "outputs": [
    {
     "data": {
      "text/html": [
       "<div>\n",
       "<style scoped>\n",
       "    .dataframe tbody tr th:only-of-type {\n",
       "        vertical-align: middle;\n",
       "    }\n",
       "\n",
       "    .dataframe tbody tr th {\n",
       "        vertical-align: top;\n",
       "    }\n",
       "\n",
       "    .dataframe thead th {\n",
       "        text-align: right;\n",
       "    }\n",
       "</style>\n",
       "<table border=\"1\" class=\"dataframe\">\n",
       "  <thead>\n",
       "    <tr style=\"text-align: right;\">\n",
       "      <th></th>\n",
       "      <th>대기관리권역YN</th>\n",
       "      <th>N</th>\n",
       "      <th>Y</th>\n",
       "    </tr>\n",
       "    <tr>\n",
       "      <th>대기관리권역</th>\n",
       "      <th>시도</th>\n",
       "      <th></th>\n",
       "      <th></th>\n",
       "    </tr>\n",
       "  </thead>\n",
       "  <tbody>\n",
       "    <tr>\n",
       "      <th rowspan=\"2\" valign=\"top\">그 외</th>\n",
       "      <th>강원</th>\n",
       "      <td>15551.00</td>\n",
       "      <td>NaN</td>\n",
       "    </tr>\n",
       "    <tr>\n",
       "      <th>제주</th>\n",
       "      <td>31714.00</td>\n",
       "      <td>NaN</td>\n",
       "    </tr>\n",
       "    <tr>\n",
       "      <th rowspan=\"2\" valign=\"top\">남부권</th>\n",
       "      <th>광주</th>\n",
       "      <td>NaN</td>\n",
       "      <td>9578.00</td>\n",
       "    </tr>\n",
       "    <tr>\n",
       "      <th>전남</th>\n",
       "      <td>6381.00</td>\n",
       "      <td>8952.00</td>\n",
       "    </tr>\n",
       "    <tr>\n",
       "      <th rowspan=\"5\" valign=\"top\">동남권</th>\n",
       "      <th>경남</th>\n",
       "      <td>5797.00</td>\n",
       "      <td>17641.00</td>\n",
       "    </tr>\n",
       "    <tr>\n",
       "      <th>경북</th>\n",
       "      <td>7434.00</td>\n",
       "      <td>10742.00</td>\n",
       "    </tr>\n",
       "    <tr>\n",
       "      <th>대구</th>\n",
       "      <td>NaN</td>\n",
       "      <td>23647.00</td>\n",
       "    </tr>\n",
       "    <tr>\n",
       "      <th>부산</th>\n",
       "      <td>NaN</td>\n",
       "      <td>22518.00</td>\n",
       "    </tr>\n",
       "    <tr>\n",
       "      <th>울산</th>\n",
       "      <td>NaN</td>\n",
       "      <td>7203.00</td>\n",
       "    </tr>\n",
       "    <tr>\n",
       "      <th rowspan=\"3\" valign=\"top\">수도권</th>\n",
       "      <th>경기</th>\n",
       "      <td>1868.00</td>\n",
       "      <td>76140.00</td>\n",
       "    </tr>\n",
       "    <tr>\n",
       "      <th>서울</th>\n",
       "      <td>NaN</td>\n",
       "      <td>61017.00</td>\n",
       "    </tr>\n",
       "    <tr>\n",
       "      <th>인천</th>\n",
       "      <td>51.00</td>\n",
       "      <td>25443.00</td>\n",
       "    </tr>\n",
       "    <tr>\n",
       "      <th rowspan=\"5\" valign=\"top\">중부권</th>\n",
       "      <th>대전</th>\n",
       "      <td>NaN</td>\n",
       "      <td>14670.00</td>\n",
       "    </tr>\n",
       "    <tr>\n",
       "      <th>세종</th>\n",
       "      <td>NaN</td>\n",
       "      <td>3028.00</td>\n",
       "    </tr>\n",
       "    <tr>\n",
       "      <th>전북</th>\n",
       "      <td>5207.00</td>\n",
       "      <td>8976.00</td>\n",
       "    </tr>\n",
       "    <tr>\n",
       "      <th>충남</th>\n",
       "      <td>434.00</td>\n",
       "      <td>16803.00</td>\n",
       "    </tr>\n",
       "    <tr>\n",
       "      <th>충북</th>\n",
       "      <td>1890.00</td>\n",
       "      <td>14237.00</td>\n",
       "    </tr>\n",
       "  </tbody>\n",
       "</table>\n",
       "</div>"
      ],
      "text/plain": [
       "대기관리권역YN         N        Y\n",
       "대기관리권역 시도                  \n",
       "그 외    강원 15551.00      NaN\n",
       "       제주 31714.00      NaN\n",
       "남부권    광주      NaN  9578.00\n",
       "       전남  6381.00  8952.00\n",
       "동남권    경남  5797.00 17641.00\n",
       "       경북  7434.00 10742.00\n",
       "       대구      NaN 23647.00\n",
       "       부산      NaN 22518.00\n",
       "       울산      NaN  7203.00\n",
       "수도권    경기  1868.00 76140.00\n",
       "       서울      NaN 61017.00\n",
       "       인천    51.00 25443.00\n",
       "중부권    대전      NaN 14670.00\n",
       "       세종      NaN  3028.00\n",
       "       전북  5207.00  8976.00\n",
       "       충남   434.00 16803.00\n",
       "       충북  1890.00 14237.00"
      ]
     },
     "execution_count": 64,
     "metadata": {},
     "output_type": "execute_result"
    }
   ],
   "source": [
    "# 내연기관차\n",
    "stat_no1 = no_car.groupby(['대기관리권역', '시도', '대기관리권역YN'])['차대번호'].count().unstack()\n",
    "stat_no1"
   ]
  },
  {
   "cell_type": "code",
   "execution_count": 70,
   "metadata": {},
   "outputs": [
    {
     "data": {
      "text/html": [
       "<div>\n",
       "<style scoped>\n",
       "    .dataframe tbody tr th:only-of-type {\n",
       "        vertical-align: middle;\n",
       "    }\n",
       "\n",
       "    .dataframe tbody tr th {\n",
       "        vertical-align: top;\n",
       "    }\n",
       "\n",
       "    .dataframe thead th {\n",
       "        text-align: right;\n",
       "    }\n",
       "</style>\n",
       "<table border=\"1\" class=\"dataframe\">\n",
       "  <thead>\n",
       "    <tr style=\"text-align: right;\">\n",
       "      <th></th>\n",
       "      <th></th>\n",
       "      <th>대기관리권역YN</th>\n",
       "      <th>N</th>\n",
       "      <th>Y</th>\n",
       "    </tr>\n",
       "    <tr>\n",
       "      <th>대기관리권역</th>\n",
       "      <th>시도</th>\n",
       "      <th>배출가스등급</th>\n",
       "      <th></th>\n",
       "      <th></th>\n",
       "    </tr>\n",
       "  </thead>\n",
       "  <tbody>\n",
       "    <tr>\n",
       "      <th rowspan=\"4\" valign=\"top\">그 외</th>\n",
       "      <th rowspan=\"2\" valign=\"top\">강원</th>\n",
       "      <th>1</th>\n",
       "      <td>15487.00</td>\n",
       "      <td>NaN</td>\n",
       "    </tr>\n",
       "    <tr>\n",
       "      <th>X</th>\n",
       "      <td>64.00</td>\n",
       "      <td>NaN</td>\n",
       "    </tr>\n",
       "    <tr>\n",
       "      <th rowspan=\"2\" valign=\"top\">제주</th>\n",
       "      <th>1</th>\n",
       "      <td>31654.00</td>\n",
       "      <td>NaN</td>\n",
       "    </tr>\n",
       "    <tr>\n",
       "      <th>X</th>\n",
       "      <td>60.00</td>\n",
       "      <td>NaN</td>\n",
       "    </tr>\n",
       "    <tr>\n",
       "      <th rowspan=\"4\" valign=\"top\">남부권</th>\n",
       "      <th rowspan=\"2\" valign=\"top\">광주</th>\n",
       "      <th>1</th>\n",
       "      <td>NaN</td>\n",
       "      <td>9552.00</td>\n",
       "    </tr>\n",
       "    <tr>\n",
       "      <th>X</th>\n",
       "      <td>NaN</td>\n",
       "      <td>26.00</td>\n",
       "    </tr>\n",
       "    <tr>\n",
       "      <th rowspan=\"2\" valign=\"top\">전남</th>\n",
       "      <th>1</th>\n",
       "      <td>6349.00</td>\n",
       "      <td>8904.00</td>\n",
       "    </tr>\n",
       "    <tr>\n",
       "      <th>X</th>\n",
       "      <td>32.00</td>\n",
       "      <td>48.00</td>\n",
       "    </tr>\n",
       "    <tr>\n",
       "      <th rowspan=\"10\" valign=\"top\">동남권</th>\n",
       "      <th rowspan=\"2\" valign=\"top\">경남</th>\n",
       "      <th>1</th>\n",
       "      <td>5758.00</td>\n",
       "      <td>17552.00</td>\n",
       "    </tr>\n",
       "    <tr>\n",
       "      <th>X</th>\n",
       "      <td>39.00</td>\n",
       "      <td>89.00</td>\n",
       "    </tr>\n",
       "    <tr>\n",
       "      <th rowspan=\"2\" valign=\"top\">경북</th>\n",
       "      <th>1</th>\n",
       "      <td>7381.00</td>\n",
       "      <td>10716.00</td>\n",
       "    </tr>\n",
       "    <tr>\n",
       "      <th>X</th>\n",
       "      <td>53.00</td>\n",
       "      <td>26.00</td>\n",
       "    </tr>\n",
       "    <tr>\n",
       "      <th rowspan=\"2\" valign=\"top\">대구</th>\n",
       "      <th>1</th>\n",
       "      <td>NaN</td>\n",
       "      <td>23556.00</td>\n",
       "    </tr>\n",
       "    <tr>\n",
       "      <th>X</th>\n",
       "      <td>NaN</td>\n",
       "      <td>91.00</td>\n",
       "    </tr>\n",
       "    <tr>\n",
       "      <th rowspan=\"2\" valign=\"top\">부산</th>\n",
       "      <th>1</th>\n",
       "      <td>NaN</td>\n",
       "      <td>22396.00</td>\n",
       "    </tr>\n",
       "    <tr>\n",
       "      <th>X</th>\n",
       "      <td>NaN</td>\n",
       "      <td>122.00</td>\n",
       "    </tr>\n",
       "    <tr>\n",
       "      <th rowspan=\"2\" valign=\"top\">울산</th>\n",
       "      <th>1</th>\n",
       "      <td>NaN</td>\n",
       "      <td>7202.00</td>\n",
       "    </tr>\n",
       "    <tr>\n",
       "      <th>X</th>\n",
       "      <td>NaN</td>\n",
       "      <td>1.00</td>\n",
       "    </tr>\n",
       "    <tr>\n",
       "      <th rowspan=\"6\" valign=\"top\">수도권</th>\n",
       "      <th rowspan=\"2\" valign=\"top\">경기</th>\n",
       "      <th>1</th>\n",
       "      <td>1861.00</td>\n",
       "      <td>75600.00</td>\n",
       "    </tr>\n",
       "    <tr>\n",
       "      <th>X</th>\n",
       "      <td>7.00</td>\n",
       "      <td>540.00</td>\n",
       "    </tr>\n",
       "    <tr>\n",
       "      <th rowspan=\"2\" valign=\"top\">서울</th>\n",
       "      <th>1</th>\n",
       "      <td>NaN</td>\n",
       "      <td>60655.00</td>\n",
       "    </tr>\n",
       "    <tr>\n",
       "      <th>X</th>\n",
       "      <td>NaN</td>\n",
       "      <td>362.00</td>\n",
       "    </tr>\n",
       "    <tr>\n",
       "      <th rowspan=\"2\" valign=\"top\">인천</th>\n",
       "      <th>1</th>\n",
       "      <td>51.00</td>\n",
       "      <td>25264.00</td>\n",
       "    </tr>\n",
       "    <tr>\n",
       "      <th>X</th>\n",
       "      <td>NaN</td>\n",
       "      <td>179.00</td>\n",
       "    </tr>\n",
       "    <tr>\n",
       "      <th rowspan=\"10\" valign=\"top\">중부권</th>\n",
       "      <th rowspan=\"2\" valign=\"top\">대전</th>\n",
       "      <th>1</th>\n",
       "      <td>NaN</td>\n",
       "      <td>14624.00</td>\n",
       "    </tr>\n",
       "    <tr>\n",
       "      <th>X</th>\n",
       "      <td>NaN</td>\n",
       "      <td>46.00</td>\n",
       "    </tr>\n",
       "    <tr>\n",
       "      <th rowspan=\"2\" valign=\"top\">세종</th>\n",
       "      <th>1</th>\n",
       "      <td>NaN</td>\n",
       "      <td>3025.00</td>\n",
       "    </tr>\n",
       "    <tr>\n",
       "      <th>X</th>\n",
       "      <td>NaN</td>\n",
       "      <td>3.00</td>\n",
       "    </tr>\n",
       "    <tr>\n",
       "      <th rowspan=\"2\" valign=\"top\">전북</th>\n",
       "      <th>1</th>\n",
       "      <td>5190.00</td>\n",
       "      <td>8912.00</td>\n",
       "    </tr>\n",
       "    <tr>\n",
       "      <th>X</th>\n",
       "      <td>17.00</td>\n",
       "      <td>64.00</td>\n",
       "    </tr>\n",
       "    <tr>\n",
       "      <th rowspan=\"2\" valign=\"top\">충남</th>\n",
       "      <th>1</th>\n",
       "      <td>432.00</td>\n",
       "      <td>16747.00</td>\n",
       "    </tr>\n",
       "    <tr>\n",
       "      <th>X</th>\n",
       "      <td>2.00</td>\n",
       "      <td>56.00</td>\n",
       "    </tr>\n",
       "    <tr>\n",
       "      <th rowspan=\"2\" valign=\"top\">충북</th>\n",
       "      <th>1</th>\n",
       "      <td>1879.00</td>\n",
       "      <td>14163.00</td>\n",
       "    </tr>\n",
       "    <tr>\n",
       "      <th>X</th>\n",
       "      <td>11.00</td>\n",
       "      <td>74.00</td>\n",
       "    </tr>\n",
       "  </tbody>\n",
       "</table>\n",
       "</div>"
      ],
      "text/plain": [
       "대기관리권역YN                N        Y\n",
       "대기관리권역 시도 배출가스등급                  \n",
       "그 외    강원 1      15487.00      NaN\n",
       "          X         64.00      NaN\n",
       "       제주 1      31654.00      NaN\n",
       "          X         60.00      NaN\n",
       "남부권    광주 1           NaN  9552.00\n",
       "          X           NaN    26.00\n",
       "       전남 1       6349.00  8904.00\n",
       "          X         32.00    48.00\n",
       "동남권    경남 1       5758.00 17552.00\n",
       "          X         39.00    89.00\n",
       "       경북 1       7381.00 10716.00\n",
       "          X         53.00    26.00\n",
       "       대구 1           NaN 23556.00\n",
       "          X           NaN    91.00\n",
       "       부산 1           NaN 22396.00\n",
       "          X           NaN   122.00\n",
       "       울산 1           NaN  7202.00\n",
       "          X           NaN     1.00\n",
       "수도권    경기 1       1861.00 75600.00\n",
       "          X          7.00   540.00\n",
       "       서울 1           NaN 60655.00\n",
       "          X           NaN   362.00\n",
       "       인천 1         51.00 25264.00\n",
       "          X           NaN   179.00\n",
       "중부권    대전 1           NaN 14624.00\n",
       "          X           NaN    46.00\n",
       "       세종 1           NaN  3025.00\n",
       "          X           NaN     3.00\n",
       "       전북 1       5190.00  8912.00\n",
       "          X         17.00    64.00\n",
       "       충남 1        432.00 16747.00\n",
       "          X          2.00    56.00\n",
       "       충북 1       1879.00 14163.00\n",
       "          X         11.00    74.00"
      ]
     },
     "execution_count": 70,
     "metadata": {},
     "output_type": "execute_result"
    }
   ],
   "source": [
    "# 내연기관차\n",
    "stat_no2 = no_car.groupby(['대기관리권역', '시도', '배출가스등급', '대기관리권역YN'])['차대번호'].count().unstack()\n",
    "stat_no2"
   ]
  },
  {
   "cell_type": "code",
   "execution_count": 71,
   "metadata": {},
   "outputs": [
    {
     "data": {
      "text/html": [
       "<div>\n",
       "<style scoped>\n",
       "    .dataframe tbody tr th:only-of-type {\n",
       "        vertical-align: middle;\n",
       "    }\n",
       "\n",
       "    .dataframe tbody tr th {\n",
       "        vertical-align: top;\n",
       "    }\n",
       "\n",
       "    .dataframe thead th {\n",
       "        text-align: right;\n",
       "    }\n",
       "</style>\n",
       "<table border=\"1\" class=\"dataframe\">\n",
       "  <thead>\n",
       "    <tr style=\"text-align: right;\">\n",
       "      <th></th>\n",
       "      <th></th>\n",
       "      <th>대기관리권역YN</th>\n",
       "      <th>N</th>\n",
       "      <th>Y</th>\n",
       "    </tr>\n",
       "    <tr>\n",
       "      <th>대기관리권역</th>\n",
       "      <th>시도</th>\n",
       "      <th>연료</th>\n",
       "      <th></th>\n",
       "      <th></th>\n",
       "    </tr>\n",
       "  </thead>\n",
       "  <tbody>\n",
       "    <tr>\n",
       "      <th rowspan=\"4\" valign=\"top\">그 외</th>\n",
       "      <th rowspan=\"2\" valign=\"top\">강원</th>\n",
       "      <th>수소</th>\n",
       "      <td>2504.00</td>\n",
       "      <td>NaN</td>\n",
       "    </tr>\n",
       "    <tr>\n",
       "      <th>전기</th>\n",
       "      <td>13047.00</td>\n",
       "      <td>NaN</td>\n",
       "    </tr>\n",
       "    <tr>\n",
       "      <th rowspan=\"2\" valign=\"top\">제주</th>\n",
       "      <th>수소</th>\n",
       "      <td>5.00</td>\n",
       "      <td>NaN</td>\n",
       "    </tr>\n",
       "    <tr>\n",
       "      <th>전기</th>\n",
       "      <td>31709.00</td>\n",
       "      <td>NaN</td>\n",
       "    </tr>\n",
       "    <tr>\n",
       "      <th rowspan=\"4\" valign=\"top\">남부권</th>\n",
       "      <th rowspan=\"2\" valign=\"top\">광주</th>\n",
       "      <th>수소</th>\n",
       "      <td>NaN</td>\n",
       "      <td>1096.00</td>\n",
       "    </tr>\n",
       "    <tr>\n",
       "      <th>전기</th>\n",
       "      <td>NaN</td>\n",
       "      <td>8482.00</td>\n",
       "    </tr>\n",
       "    <tr>\n",
       "      <th rowspan=\"2\" valign=\"top\">전남</th>\n",
       "      <th>수소</th>\n",
       "      <td>84.00</td>\n",
       "      <td>627.00</td>\n",
       "    </tr>\n",
       "    <tr>\n",
       "      <th>전기</th>\n",
       "      <td>6297.00</td>\n",
       "      <td>8325.00</td>\n",
       "    </tr>\n",
       "    <tr>\n",
       "      <th rowspan=\"10\" valign=\"top\">동남권</th>\n",
       "      <th rowspan=\"2\" valign=\"top\">경남</th>\n",
       "      <th>수소</th>\n",
       "      <td>207.00</td>\n",
       "      <td>2182.00</td>\n",
       "    </tr>\n",
       "    <tr>\n",
       "      <th>전기</th>\n",
       "      <td>5590.00</td>\n",
       "      <td>15459.00</td>\n",
       "    </tr>\n",
       "    <tr>\n",
       "      <th rowspan=\"2\" valign=\"top\">경북</th>\n",
       "      <th>수소</th>\n",
       "      <td>68.00</td>\n",
       "      <td>148.00</td>\n",
       "    </tr>\n",
       "    <tr>\n",
       "      <th>전기</th>\n",
       "      <td>7366.00</td>\n",
       "      <td>10594.00</td>\n",
       "    </tr>\n",
       "    <tr>\n",
       "      <th rowspan=\"2\" valign=\"top\">대구</th>\n",
       "      <th>수소</th>\n",
       "      <td>NaN</td>\n",
       "      <td>529.00</td>\n",
       "    </tr>\n",
       "    <tr>\n",
       "      <th>전기</th>\n",
       "      <td>NaN</td>\n",
       "      <td>23118.00</td>\n",
       "    </tr>\n",
       "    <tr>\n",
       "      <th rowspan=\"2\" valign=\"top\">부산</th>\n",
       "      <th>수소</th>\n",
       "      <td>NaN</td>\n",
       "      <td>1887.00</td>\n",
       "    </tr>\n",
       "    <tr>\n",
       "      <th>전기</th>\n",
       "      <td>NaN</td>\n",
       "      <td>20631.00</td>\n",
       "    </tr>\n",
       "    <tr>\n",
       "      <th rowspan=\"2\" valign=\"top\">울산</th>\n",
       "      <th>수소</th>\n",
       "      <td>NaN</td>\n",
       "      <td>2438.00</td>\n",
       "    </tr>\n",
       "    <tr>\n",
       "      <th>전기</th>\n",
       "      <td>NaN</td>\n",
       "      <td>4765.00</td>\n",
       "    </tr>\n",
       "    <tr>\n",
       "      <th rowspan=\"7\" valign=\"top\">수도권</th>\n",
       "      <th rowspan=\"3\" valign=\"top\">경기</th>\n",
       "      <th>수소</th>\n",
       "      <td>26.00</td>\n",
       "      <td>5989.00</td>\n",
       "    </tr>\n",
       "    <tr>\n",
       "      <th>전기</th>\n",
       "      <td>1842.00</td>\n",
       "      <td>70149.00</td>\n",
       "    </tr>\n",
       "    <tr>\n",
       "      <th>태양열</th>\n",
       "      <td>NaN</td>\n",
       "      <td>2.00</td>\n",
       "    </tr>\n",
       "    <tr>\n",
       "      <th rowspan=\"2\" valign=\"top\">서울</th>\n",
       "      <th>수소</th>\n",
       "      <td>NaN</td>\n",
       "      <td>2839.00</td>\n",
       "    </tr>\n",
       "    <tr>\n",
       "      <th>전기</th>\n",
       "      <td>NaN</td>\n",
       "      <td>58178.00</td>\n",
       "    </tr>\n",
       "    <tr>\n",
       "      <th rowspan=\"2\" valign=\"top\">인천</th>\n",
       "      <th>수소</th>\n",
       "      <td>1.00</td>\n",
       "      <td>1569.00</td>\n",
       "    </tr>\n",
       "    <tr>\n",
       "      <th>전기</th>\n",
       "      <td>50.00</td>\n",
       "      <td>23874.00</td>\n",
       "    </tr>\n",
       "    <tr>\n",
       "      <th rowspan=\"10\" valign=\"top\">중부권</th>\n",
       "      <th rowspan=\"2\" valign=\"top\">대전</th>\n",
       "      <th>수소</th>\n",
       "      <td>NaN</td>\n",
       "      <td>1208.00</td>\n",
       "    </tr>\n",
       "    <tr>\n",
       "      <th>전기</th>\n",
       "      <td>NaN</td>\n",
       "      <td>13462.00</td>\n",
       "    </tr>\n",
       "    <tr>\n",
       "      <th rowspan=\"2\" valign=\"top\">세종</th>\n",
       "      <th>수소</th>\n",
       "      <td>NaN</td>\n",
       "      <td>242.00</td>\n",
       "    </tr>\n",
       "    <tr>\n",
       "      <th>전기</th>\n",
       "      <td>NaN</td>\n",
       "      <td>2786.00</td>\n",
       "    </tr>\n",
       "    <tr>\n",
       "      <th rowspan=\"2\" valign=\"top\">전북</th>\n",
       "      <th>수소</th>\n",
       "      <td>420.00</td>\n",
       "      <td>1270.00</td>\n",
       "    </tr>\n",
       "    <tr>\n",
       "      <th>전기</th>\n",
       "      <td>4787.00</td>\n",
       "      <td>7706.00</td>\n",
       "    </tr>\n",
       "    <tr>\n",
       "      <th rowspan=\"2\" valign=\"top\">충남</th>\n",
       "      <th>수소</th>\n",
       "      <td>8.00</td>\n",
       "      <td>1182.00</td>\n",
       "    </tr>\n",
       "    <tr>\n",
       "      <th>전기</th>\n",
       "      <td>426.00</td>\n",
       "      <td>15621.00</td>\n",
       "    </tr>\n",
       "    <tr>\n",
       "      <th rowspan=\"2\" valign=\"top\">충북</th>\n",
       "      <th>수소</th>\n",
       "      <td>64.00</td>\n",
       "      <td>1634.00</td>\n",
       "    </tr>\n",
       "    <tr>\n",
       "      <th>전기</th>\n",
       "      <td>1826.00</td>\n",
       "      <td>12603.00</td>\n",
       "    </tr>\n",
       "  </tbody>\n",
       "</table>\n",
       "</div>"
      ],
      "text/plain": [
       "대기관리권역YN             N        Y\n",
       "대기관리권역 시도 연료                   \n",
       "그 외    강원 수소   2504.00      NaN\n",
       "          전기  13047.00      NaN\n",
       "       제주 수소      5.00      NaN\n",
       "          전기  31709.00      NaN\n",
       "남부권    광주 수소       NaN  1096.00\n",
       "          전기       NaN  8482.00\n",
       "       전남 수소     84.00   627.00\n",
       "          전기   6297.00  8325.00\n",
       "동남권    경남 수소    207.00  2182.00\n",
       "          전기   5590.00 15459.00\n",
       "       경북 수소     68.00   148.00\n",
       "          전기   7366.00 10594.00\n",
       "       대구 수소       NaN   529.00\n",
       "          전기       NaN 23118.00\n",
       "       부산 수소       NaN  1887.00\n",
       "          전기       NaN 20631.00\n",
       "       울산 수소       NaN  2438.00\n",
       "          전기       NaN  4765.00\n",
       "수도권    경기 수소     26.00  5989.00\n",
       "          전기   1842.00 70149.00\n",
       "          태양열      NaN     2.00\n",
       "       서울 수소       NaN  2839.00\n",
       "          전기       NaN 58178.00\n",
       "       인천 수소      1.00  1569.00\n",
       "          전기     50.00 23874.00\n",
       "중부권    대전 수소       NaN  1208.00\n",
       "          전기       NaN 13462.00\n",
       "       세종 수소       NaN   242.00\n",
       "          전기       NaN  2786.00\n",
       "       전북 수소    420.00  1270.00\n",
       "          전기   4787.00  7706.00\n",
       "       충남 수소      8.00  1182.00\n",
       "          전기    426.00 15621.00\n",
       "       충북 수소     64.00  1634.00\n",
       "          전기   1826.00 12603.00"
      ]
     },
     "execution_count": 71,
     "metadata": {},
     "output_type": "execute_result"
    }
   ],
   "source": [
    "# 내연기관차\n",
    "stat_no3 = no_car.groupby(['대기관리권역', '시도', '연료', '대기관리권역YN'])['차대번호'].count().unstack()\n",
    "stat_no3"
   ]
  },
  {
   "cell_type": "code",
   "execution_count": 72,
   "metadata": {},
   "outputs": [
    {
     "data": {
      "text/html": [
       "<div>\n",
       "<style scoped>\n",
       "    .dataframe tbody tr th:only-of-type {\n",
       "        vertical-align: middle;\n",
       "    }\n",
       "\n",
       "    .dataframe tbody tr th {\n",
       "        vertical-align: top;\n",
       "    }\n",
       "\n",
       "    .dataframe thead th {\n",
       "        text-align: right;\n",
       "    }\n",
       "</style>\n",
       "<table border=\"1\" class=\"dataframe\">\n",
       "  <thead>\n",
       "    <tr style=\"text-align: right;\">\n",
       "      <th></th>\n",
       "      <th></th>\n",
       "      <th></th>\n",
       "      <th>대기관리권역YN</th>\n",
       "      <th>N</th>\n",
       "      <th>Y</th>\n",
       "    </tr>\n",
       "    <tr>\n",
       "      <th>대기관리권역</th>\n",
       "      <th>시도</th>\n",
       "      <th>배출가스등급</th>\n",
       "      <th>연료</th>\n",
       "      <th></th>\n",
       "      <th></th>\n",
       "    </tr>\n",
       "  </thead>\n",
       "  <tbody>\n",
       "    <tr>\n",
       "      <th rowspan=\"5\" valign=\"top\">그 외</th>\n",
       "      <th rowspan=\"4\" valign=\"top\">강원</th>\n",
       "      <th rowspan=\"2\" valign=\"top\">1</th>\n",
       "      <th>수소</th>\n",
       "      <td>2496.00</td>\n",
       "      <td>NaN</td>\n",
       "    </tr>\n",
       "    <tr>\n",
       "      <th>전기</th>\n",
       "      <td>12991.00</td>\n",
       "      <td>NaN</td>\n",
       "    </tr>\n",
       "    <tr>\n",
       "      <th rowspan=\"2\" valign=\"top\">X</th>\n",
       "      <th>수소</th>\n",
       "      <td>8.00</td>\n",
       "      <td>NaN</td>\n",
       "    </tr>\n",
       "    <tr>\n",
       "      <th>전기</th>\n",
       "      <td>56.00</td>\n",
       "      <td>NaN</td>\n",
       "    </tr>\n",
       "    <tr>\n",
       "      <th>제주</th>\n",
       "      <th>1</th>\n",
       "      <th>수소</th>\n",
       "      <td>5.00</td>\n",
       "      <td>NaN</td>\n",
       "    </tr>\n",
       "    <tr>\n",
       "      <th>...</th>\n",
       "      <th>...</th>\n",
       "      <th>...</th>\n",
       "      <th>...</th>\n",
       "      <td>...</td>\n",
       "      <td>...</td>\n",
       "    </tr>\n",
       "    <tr>\n",
       "      <th rowspan=\"5\" valign=\"top\">중부권</th>\n",
       "      <th>충남</th>\n",
       "      <th>X</th>\n",
       "      <th>전기</th>\n",
       "      <td>2.00</td>\n",
       "      <td>50.00</td>\n",
       "    </tr>\n",
       "    <tr>\n",
       "      <th rowspan=\"4\" valign=\"top\">충북</th>\n",
       "      <th rowspan=\"2\" valign=\"top\">1</th>\n",
       "      <th>수소</th>\n",
       "      <td>64.00</td>\n",
       "      <td>1618.00</td>\n",
       "    </tr>\n",
       "    <tr>\n",
       "      <th>전기</th>\n",
       "      <td>1815.00</td>\n",
       "      <td>12545.00</td>\n",
       "    </tr>\n",
       "    <tr>\n",
       "      <th rowspan=\"2\" valign=\"top\">X</th>\n",
       "      <th>수소</th>\n",
       "      <td>NaN</td>\n",
       "      <td>16.00</td>\n",
       "    </tr>\n",
       "    <tr>\n",
       "      <th>전기</th>\n",
       "      <td>11.00</td>\n",
       "      <td>58.00</td>\n",
       "    </tr>\n",
       "  </tbody>\n",
       "</table>\n",
       "<p>65 rows × 2 columns</p>\n",
       "</div>"
      ],
      "text/plain": [
       "대기관리권역YN                   N        Y\n",
       "대기관리권역 시도 배출가스등급 연료                  \n",
       "그 외    강원 1      수소  2496.00      NaN\n",
       "                 전기 12991.00      NaN\n",
       "          X      수소     8.00      NaN\n",
       "                 전기    56.00      NaN\n",
       "       제주 1      수소     5.00      NaN\n",
       "...                      ...      ...\n",
       "중부권    충남 X      전기     2.00    50.00\n",
       "       충북 1      수소    64.00  1618.00\n",
       "                 전기  1815.00 12545.00\n",
       "          X      수소      NaN    16.00\n",
       "                 전기    11.00    58.00\n",
       "\n",
       "[65 rows x 2 columns]"
      ]
     },
     "execution_count": 72,
     "metadata": {},
     "output_type": "execute_result"
    }
   ],
   "source": [
    "# 내연기관차\n",
    "stat_no4 = no_car.groupby(['대기관리권역', '시도', '배출가스등급', '연료', '대기관리권역YN'])['차대번호'].count().unstack()\n",
    "stat_no4"
   ]
  },
  {
   "attachments": {},
   "cell_type": "markdown",
   "metadata": {},
   "source": [
    "#### [출력] 무공해차 대기관리권역별 등급별(말소 제거) 차량 현황"
   ]
  },
  {
   "cell_type": "code",
   "execution_count": 74,
   "metadata": {},
   "outputs": [
    {
     "data": {
      "text/plain": [
       "'2023.05.04_AM.10.50.07'"
      ]
     },
     "execution_count": 74,
     "metadata": {},
     "output_type": "execute_result"
    }
   ],
   "source": [
    "today_date = datetime.today().strftime(\"%Y.%m.%d_%p.%I.%M.%S\")\n",
    "today_date"
   ]
  },
  {
   "cell_type": "code",
   "execution_count": 75,
   "metadata": {},
   "outputs": [],
   "source": [
    "with pd.ExcelWriter(os.path.join(analysis_fold, f'통계_무공해차_대기관리권역_등급_연료별({today_date}).xlsx')) as writer:\n",
    "    stat_no1.to_excel(writer, sheet_name='대기관리권역')\n",
    "    stat_no2.to_excel(writer, sheet_name='대기관리권역_등급')\n",
    "    stat_no3.to_excel(writer, sheet_name='대기관리권역_연료')\n",
    "    stat_no4.to_excel(writer, sheet_name='대기관리권역_등급_연료')"
   ]
  },
  {
   "attachments": {},
   "cell_type": "markdown",
   "metadata": {},
   "source": [
    "## 5등급"
   ]
  },
  {
   "attachments": {},
   "cell_type": "markdown",
   "metadata": {},
   "source": [
    "### 내연기관차"
   ]
  },
  {
   "cell_type": "code",
   "execution_count": 59,
   "metadata": {},
   "outputs": [
    {
     "data": {
      "text/plain": [
       "연료\n",
       "경유             2347299\n",
       "휘발유              30880\n",
       "LPG(액화석유가스)        455\n",
       "무동력                  5\n",
       "CNG(압축천연가스)          5\n",
       "기타연료                 3\n",
       "알코올                  1\n",
       "Name: count, dtype: int64"
      ]
     },
     "execution_count": 59,
     "metadata": {},
     "output_type": "execute_result"
    }
   ],
   "source": [
    "dfg5['연료'].value_counts(dropna=False)"
   ]
  },
  {
   "cell_type": "code",
   "execution_count": 60,
   "metadata": {},
   "outputs": [
    {
     "data": {
      "text/plain": [
       "(2378640, 20)"
      ]
     },
     "execution_count": 60,
     "metadata": {},
     "output_type": "execute_result"
    }
   ],
   "source": [
    "dfg5.loc[(dfg5['연료'] != '무동력') & (dfg5['연료'] != '기타연료')].shape"
   ]
  },
  {
   "cell_type": "code",
   "execution_count": 61,
   "metadata": {},
   "outputs": [
    {
     "data": {
      "text/plain": [
       "(2378648, 20)"
      ]
     },
     "execution_count": 61,
     "metadata": {},
     "output_type": "execute_result"
    }
   ],
   "source": [
    "dfg5.shape"
   ]
  },
  {
   "cell_type": "code",
   "execution_count": 62,
   "metadata": {},
   "outputs": [
    {
     "data": {
      "text/plain": [
       "연료\n",
       "경유             2347299\n",
       "휘발유              30880\n",
       "LPG(액화석유가스)        455\n",
       "무동력                  5\n",
       "CNG(압축천연가스)          5\n",
       "기타연료                 3\n",
       "알코올                  1\n",
       "Name: count, dtype: int64"
      ]
     },
     "execution_count": 62,
     "metadata": {},
     "output_type": "execute_result"
    }
   ],
   "source": [
    "# about 11.8s\n",
    "# gas_car = dfg5.loc[(dfg5['연료'] != '무동력') & (dfg5['연료'] != '기타연료')]\n",
    "g5_gas_car = dfg5.copy()\n",
    "g5_gas_car['연료'].value_counts(dropna=False)"
   ]
  },
  {
   "cell_type": "code",
   "execution_count": 63,
   "metadata": {},
   "outputs": [
    {
     "data": {
      "text/plain": [
       "차량말소YN\n",
       "Y    1223886\n",
       "N    1154762\n",
       "Name: count, dtype: int64"
      ]
     },
     "execution_count": 63,
     "metadata": {},
     "output_type": "execute_result"
    }
   ],
   "source": [
    "# 말소 차량 제거\n",
    "g5_gas_car['차량말소YN'].value_counts(dropna=False)"
   ]
  },
  {
   "cell_type": "code",
   "execution_count": 64,
   "metadata": {},
   "outputs": [
    {
     "data": {
      "text/plain": [
       "시도\n",
       "강원도        104301\n",
       "경기도        483315\n",
       "경상남도       210829\n",
       "경상북도       235671\n",
       "광주광역시       61783\n",
       "대구광역시      114610\n",
       "대전광역시       63419\n",
       "부산광역시      122113\n",
       "서울특별시      217174\n",
       "세종특별자치시     11843\n",
       "울산광역시       55338\n",
       "인천광역시      105678\n",
       "전라남도       158423\n",
       "전라북도       130932\n",
       "제주특별자치도     49982\n",
       "충청남도       147828\n",
       "충청북도       105409\n",
       "Name: 차대번호, dtype: int64"
      ]
     },
     "execution_count": 64,
     "metadata": {},
     "output_type": "execute_result"
    }
   ],
   "source": [
    "# 내연기관차\n",
    "stat_gas1 = g5_gas_car.groupby('시도', dropna=False)['차대번호'].count()\n",
    "stat_gas1"
   ]
  },
  {
   "cell_type": "code",
   "execution_count": 214,
   "metadata": {},
   "outputs": [
    {
     "data": {
      "text/html": [
       "<div>\n",
       "<style scoped>\n",
       "    .dataframe tbody tr th:only-of-type {\n",
       "        vertical-align: middle;\n",
       "    }\n",
       "\n",
       "    .dataframe tbody tr th {\n",
       "        vertical-align: top;\n",
       "    }\n",
       "\n",
       "    .dataframe thead th {\n",
       "        text-align: right;\n",
       "    }\n",
       "</style>\n",
       "<table border=\"1\" class=\"dataframe\">\n",
       "  <thead>\n",
       "    <tr style=\"text-align: right;\">\n",
       "      <th></th>\n",
       "      <th></th>\n",
       "      <th>대기관리권역YN</th>\n",
       "      <th>N</th>\n",
       "      <th>Y</th>\n",
       "    </tr>\n",
       "    <tr>\n",
       "      <th>대기관리권역</th>\n",
       "      <th>시도</th>\n",
       "      <th>배출가스등급</th>\n",
       "      <th></th>\n",
       "      <th></th>\n",
       "    </tr>\n",
       "  </thead>\n",
       "  <tbody>\n",
       "    <tr>\n",
       "      <th rowspan=\"4\" valign=\"top\">그 외</th>\n",
       "      <th rowspan=\"2\" valign=\"top\">강원</th>\n",
       "      <th>5</th>\n",
       "      <td>104300.00</td>\n",
       "      <td>NaN</td>\n",
       "    </tr>\n",
       "    <tr>\n",
       "      <th>T5</th>\n",
       "      <td>1.00</td>\n",
       "      <td>NaN</td>\n",
       "    </tr>\n",
       "    <tr>\n",
       "      <th rowspan=\"2\" valign=\"top\">제주</th>\n",
       "      <th>5</th>\n",
       "      <td>49981.00</td>\n",
       "      <td>NaN</td>\n",
       "    </tr>\n",
       "    <tr>\n",
       "      <th>T5</th>\n",
       "      <td>1.00</td>\n",
       "      <td>NaN</td>\n",
       "    </tr>\n",
       "    <tr>\n",
       "      <th rowspan=\"4\" valign=\"top\">남부권</th>\n",
       "      <th rowspan=\"2\" valign=\"top\">광주</th>\n",
       "      <th>5</th>\n",
       "      <td>NaN</td>\n",
       "      <td>61782.00</td>\n",
       "    </tr>\n",
       "    <tr>\n",
       "      <th>T5</th>\n",
       "      <td>NaN</td>\n",
       "      <td>1.00</td>\n",
       "    </tr>\n",
       "    <tr>\n",
       "      <th rowspan=\"2\" valign=\"top\">전남</th>\n",
       "      <th>5</th>\n",
       "      <td>84853.00</td>\n",
       "      <td>73566.00</td>\n",
       "    </tr>\n",
       "    <tr>\n",
       "      <th>T5</th>\n",
       "      <td>1.00</td>\n",
       "      <td>1.00</td>\n",
       "    </tr>\n",
       "    <tr>\n",
       "      <th rowspan=\"9\" valign=\"top\">동남권</th>\n",
       "      <th rowspan=\"2\" valign=\"top\">경남</th>\n",
       "      <th>5</th>\n",
       "      <td>79299.00</td>\n",
       "      <td>131528.00</td>\n",
       "    </tr>\n",
       "    <tr>\n",
       "      <th>T5</th>\n",
       "      <td>1.00</td>\n",
       "      <td>1.00</td>\n",
       "    </tr>\n",
       "    <tr>\n",
       "      <th rowspan=\"2\" valign=\"top\">경북</th>\n",
       "      <th>5</th>\n",
       "      <td>117813.00</td>\n",
       "      <td>117851.00</td>\n",
       "    </tr>\n",
       "    <tr>\n",
       "      <th>T5</th>\n",
       "      <td>2.00</td>\n",
       "      <td>4.00</td>\n",
       "    </tr>\n",
       "    <tr>\n",
       "      <th rowspan=\"2\" valign=\"top\">대구</th>\n",
       "      <th>5</th>\n",
       "      <td>NaN</td>\n",
       "      <td>114605.00</td>\n",
       "    </tr>\n",
       "    <tr>\n",
       "      <th>T5</th>\n",
       "      <td>NaN</td>\n",
       "      <td>5.00</td>\n",
       "    </tr>\n",
       "    <tr>\n",
       "      <th rowspan=\"2\" valign=\"top\">부산</th>\n",
       "      <th>5</th>\n",
       "      <td>NaN</td>\n",
       "      <td>122110.00</td>\n",
       "    </tr>\n",
       "    <tr>\n",
       "      <th>T5</th>\n",
       "      <td>NaN</td>\n",
       "      <td>1.00</td>\n",
       "    </tr>\n",
       "    <tr>\n",
       "      <th>울산</th>\n",
       "      <th>5</th>\n",
       "      <td>NaN</td>\n",
       "      <td>55337.00</td>\n",
       "    </tr>\n",
       "    <tr>\n",
       "      <th rowspan=\"6\" valign=\"top\">수도권</th>\n",
       "      <th rowspan=\"2\" valign=\"top\">경기</th>\n",
       "      <th>5</th>\n",
       "      <td>18557.00</td>\n",
       "      <td>464745.00</td>\n",
       "    </tr>\n",
       "    <tr>\n",
       "      <th>T5</th>\n",
       "      <td>NaN</td>\n",
       "      <td>13.00</td>\n",
       "    </tr>\n",
       "    <tr>\n",
       "      <th rowspan=\"2\" valign=\"top\">서울</th>\n",
       "      <th>5</th>\n",
       "      <td>NaN</td>\n",
       "      <td>217170.00</td>\n",
       "    </tr>\n",
       "    <tr>\n",
       "      <th>T5</th>\n",
       "      <td>NaN</td>\n",
       "      <td>4.00</td>\n",
       "    </tr>\n",
       "    <tr>\n",
       "      <th rowspan=\"2\" valign=\"top\">인천</th>\n",
       "      <th>5</th>\n",
       "      <td>2490.00</td>\n",
       "      <td>103185.00</td>\n",
       "    </tr>\n",
       "    <tr>\n",
       "      <th>T5</th>\n",
       "      <td>NaN</td>\n",
       "      <td>2.00</td>\n",
       "    </tr>\n",
       "    <tr>\n",
       "      <th rowspan=\"9\" valign=\"top\">중부권</th>\n",
       "      <th rowspan=\"2\" valign=\"top\">대전</th>\n",
       "      <th>5</th>\n",
       "      <td>NaN</td>\n",
       "      <td>63417.00</td>\n",
       "    </tr>\n",
       "    <tr>\n",
       "      <th>T5</th>\n",
       "      <td>NaN</td>\n",
       "      <td>2.00</td>\n",
       "    </tr>\n",
       "    <tr>\n",
       "      <th>세종</th>\n",
       "      <th>5</th>\n",
       "      <td>NaN</td>\n",
       "      <td>11843.00</td>\n",
       "    </tr>\n",
       "    <tr>\n",
       "      <th rowspan=\"2\" valign=\"top\">전북</th>\n",
       "      <th>5</th>\n",
       "      <td>66925.00</td>\n",
       "      <td>64005.00</td>\n",
       "    </tr>\n",
       "    <tr>\n",
       "      <th>T5</th>\n",
       "      <td>NaN</td>\n",
       "      <td>1.00</td>\n",
       "    </tr>\n",
       "    <tr>\n",
       "      <th rowspan=\"2\" valign=\"top\">충남</th>\n",
       "      <th>5</th>\n",
       "      <td>6039.00</td>\n",
       "      <td>141786.00</td>\n",
       "    </tr>\n",
       "    <tr>\n",
       "      <th>T5</th>\n",
       "      <td>1.00</td>\n",
       "      <td>2.00</td>\n",
       "    </tr>\n",
       "    <tr>\n",
       "      <th rowspan=\"2\" valign=\"top\">충북</th>\n",
       "      <th>5</th>\n",
       "      <td>22169.00</td>\n",
       "      <td>83235.00</td>\n",
       "    </tr>\n",
       "    <tr>\n",
       "      <th>T5</th>\n",
       "      <td>NaN</td>\n",
       "      <td>5.00</td>\n",
       "    </tr>\n",
       "  </tbody>\n",
       "</table>\n",
       "</div>"
      ],
      "text/plain": [
       "대기관리권역YN                 N         Y\n",
       "대기관리권역 시도 배출가스등급                    \n",
       "그 외    강원 5      104300.00       NaN\n",
       "          T5          1.00       NaN\n",
       "       제주 5       49981.00       NaN\n",
       "          T5          1.00       NaN\n",
       "남부권    광주 5            NaN  61782.00\n",
       "          T5           NaN      1.00\n",
       "       전남 5       84853.00  73566.00\n",
       "          T5          1.00      1.00\n",
       "동남권    경남 5       79299.00 131528.00\n",
       "          T5          1.00      1.00\n",
       "       경북 5      117813.00 117851.00\n",
       "          T5          2.00      4.00\n",
       "       대구 5            NaN 114605.00\n",
       "          T5           NaN      5.00\n",
       "       부산 5            NaN 122110.00\n",
       "          T5           NaN      1.00\n",
       "       울산 5            NaN  55337.00\n",
       "수도권    경기 5       18557.00 464745.00\n",
       "          T5           NaN     13.00\n",
       "       서울 5            NaN 217170.00\n",
       "          T5           NaN      4.00\n",
       "       인천 5        2490.00 103185.00\n",
       "          T5           NaN      2.00\n",
       "중부권    대전 5            NaN  63417.00\n",
       "          T5           NaN      2.00\n",
       "       세종 5            NaN  11843.00\n",
       "       전북 5       66925.00  64005.00\n",
       "          T5           NaN      1.00\n",
       "       충남 5        6039.00 141786.00\n",
       "          T5          1.00      2.00\n",
       "       충북 5       22169.00  83235.00\n",
       "          T5           NaN      5.00"
      ]
     },
     "execution_count": 214,
     "metadata": {},
     "output_type": "execute_result"
    }
   ],
   "source": [
    "# # 내연기관차\n",
    "# stat_gas2 = g5_gas_car.groupby(['대기관리권역', '시도', '배출가스등급', '대기관리권역YN'], dropna=False)['차대번호'].count().unstack()\n",
    "# stat_gas2"
   ]
  },
  {
   "cell_type": "code",
   "execution_count": 215,
   "metadata": {},
   "outputs": [
    {
     "data": {
      "text/html": [
       "<div>\n",
       "<style scoped>\n",
       "    .dataframe tbody tr th:only-of-type {\n",
       "        vertical-align: middle;\n",
       "    }\n",
       "\n",
       "    .dataframe tbody tr th {\n",
       "        vertical-align: top;\n",
       "    }\n",
       "\n",
       "    .dataframe thead th {\n",
       "        text-align: right;\n",
       "    }\n",
       "</style>\n",
       "<table border=\"1\" class=\"dataframe\">\n",
       "  <thead>\n",
       "    <tr style=\"text-align: right;\">\n",
       "      <th></th>\n",
       "      <th></th>\n",
       "      <th>대기관리권역YN</th>\n",
       "      <th>N</th>\n",
       "      <th>Y</th>\n",
       "    </tr>\n",
       "    <tr>\n",
       "      <th>대기관리권역</th>\n",
       "      <th>시도</th>\n",
       "      <th>연료</th>\n",
       "      <th></th>\n",
       "      <th></th>\n",
       "    </tr>\n",
       "  </thead>\n",
       "  <tbody>\n",
       "    <tr>\n",
       "      <th rowspan=\"6\" valign=\"top\">그 외</th>\n",
       "      <th rowspan=\"3\" valign=\"top\">강원</th>\n",
       "      <th>LPG(액화석유가스)</th>\n",
       "      <td>11.00</td>\n",
       "      <td>NaN</td>\n",
       "    </tr>\n",
       "    <tr>\n",
       "      <th>경유</th>\n",
       "      <td>103646.00</td>\n",
       "      <td>NaN</td>\n",
       "    </tr>\n",
       "    <tr>\n",
       "      <th>휘발유</th>\n",
       "      <td>644.00</td>\n",
       "      <td>NaN</td>\n",
       "    </tr>\n",
       "    <tr>\n",
       "      <th rowspan=\"3\" valign=\"top\">제주</th>\n",
       "      <th>LPG(액화석유가스)</th>\n",
       "      <td>6.00</td>\n",
       "      <td>NaN</td>\n",
       "    </tr>\n",
       "    <tr>\n",
       "      <th>경유</th>\n",
       "      <td>49695.00</td>\n",
       "      <td>NaN</td>\n",
       "    </tr>\n",
       "    <tr>\n",
       "      <th>휘발유</th>\n",
       "      <td>281.00</td>\n",
       "      <td>NaN</td>\n",
       "    </tr>\n",
       "    <tr>\n",
       "      <th rowspan=\"6\" valign=\"top\">남부권</th>\n",
       "      <th rowspan=\"3\" valign=\"top\">광주</th>\n",
       "      <th>LPG(액화석유가스)</th>\n",
       "      <td>NaN</td>\n",
       "      <td>11.00</td>\n",
       "    </tr>\n",
       "    <tr>\n",
       "      <th>경유</th>\n",
       "      <td>NaN</td>\n",
       "      <td>61064.00</td>\n",
       "    </tr>\n",
       "    <tr>\n",
       "      <th>휘발유</th>\n",
       "      <td>NaN</td>\n",
       "      <td>708.00</td>\n",
       "    </tr>\n",
       "    <tr>\n",
       "      <th rowspan=\"3\" valign=\"top\">전남</th>\n",
       "      <th>LPG(액화석유가스)</th>\n",
       "      <td>23.00</td>\n",
       "      <td>14.00</td>\n",
       "    </tr>\n",
       "    <tr>\n",
       "      <th>경유</th>\n",
       "      <td>84314.00</td>\n",
       "      <td>73127.00</td>\n",
       "    </tr>\n",
       "    <tr>\n",
       "      <th>휘발유</th>\n",
       "      <td>517.00</td>\n",
       "      <td>426.00</td>\n",
       "    </tr>\n",
       "    <tr>\n",
       "      <th rowspan=\"17\" valign=\"top\">동남권</th>\n",
       "      <th rowspan=\"3\" valign=\"top\">경남</th>\n",
       "      <th>LPG(액화석유가스)</th>\n",
       "      <td>17.00</td>\n",
       "      <td>22.00</td>\n",
       "    </tr>\n",
       "    <tr>\n",
       "      <th>경유</th>\n",
       "      <td>78844.00</td>\n",
       "      <td>130611.00</td>\n",
       "    </tr>\n",
       "    <tr>\n",
       "      <th>휘발유</th>\n",
       "      <td>439.00</td>\n",
       "      <td>896.00</td>\n",
       "    </tr>\n",
       "    <tr>\n",
       "      <th rowspan=\"4\" valign=\"top\">경북</th>\n",
       "      <th>CNG(압축천연가스)</th>\n",
       "      <td>2.00</td>\n",
       "      <td>1.00</td>\n",
       "    </tr>\n",
       "    <tr>\n",
       "      <th>LPG(액화석유가스)</th>\n",
       "      <td>7.00</td>\n",
       "      <td>14.00</td>\n",
       "    </tr>\n",
       "    <tr>\n",
       "      <th>경유</th>\n",
       "      <td>117237.00</td>\n",
       "      <td>116959.00</td>\n",
       "    </tr>\n",
       "    <tr>\n",
       "      <th>휘발유</th>\n",
       "      <td>569.00</td>\n",
       "      <td>881.00</td>\n",
       "    </tr>\n",
       "    <tr>\n",
       "      <th rowspan=\"3\" valign=\"top\">대구</th>\n",
       "      <th>LPG(액화석유가스)</th>\n",
       "      <td>NaN</td>\n",
       "      <td>15.00</td>\n",
       "    </tr>\n",
       "    <tr>\n",
       "      <th>경유</th>\n",
       "      <td>NaN</td>\n",
       "      <td>113269.00</td>\n",
       "    </tr>\n",
       "    <tr>\n",
       "      <th>휘발유</th>\n",
       "      <td>NaN</td>\n",
       "      <td>1326.00</td>\n",
       "    </tr>\n",
       "    <tr>\n",
       "      <th rowspan=\"4\" valign=\"top\">부산</th>\n",
       "      <th>LPG(액화석유가스)</th>\n",
       "      <td>NaN</td>\n",
       "      <td>57.00</td>\n",
       "    </tr>\n",
       "    <tr>\n",
       "      <th>경유</th>\n",
       "      <td>NaN</td>\n",
       "      <td>120212.00</td>\n",
       "    </tr>\n",
       "    <tr>\n",
       "      <th>알코올</th>\n",
       "      <td>NaN</td>\n",
       "      <td>1.00</td>\n",
       "    </tr>\n",
       "    <tr>\n",
       "      <th>휘발유</th>\n",
       "      <td>NaN</td>\n",
       "      <td>1841.00</td>\n",
       "    </tr>\n",
       "    <tr>\n",
       "      <th rowspan=\"3\" valign=\"top\">울산</th>\n",
       "      <th>LPG(액화석유가스)</th>\n",
       "      <td>NaN</td>\n",
       "      <td>10.00</td>\n",
       "    </tr>\n",
       "    <tr>\n",
       "      <th>경유</th>\n",
       "      <td>NaN</td>\n",
       "      <td>54795.00</td>\n",
       "    </tr>\n",
       "    <tr>\n",
       "      <th>휘발유</th>\n",
       "      <td>NaN</td>\n",
       "      <td>532.00</td>\n",
       "    </tr>\n",
       "    <tr>\n",
       "      <th rowspan=\"10\" valign=\"top\">수도권</th>\n",
       "      <th rowspan=\"4\" valign=\"top\">경기</th>\n",
       "      <th>CNG(압축천연가스)</th>\n",
       "      <td>NaN</td>\n",
       "      <td>1.00</td>\n",
       "    </tr>\n",
       "    <tr>\n",
       "      <th>LPG(액화석유가스)</th>\n",
       "      <td>1.00</td>\n",
       "      <td>80.00</td>\n",
       "    </tr>\n",
       "    <tr>\n",
       "      <th>경유</th>\n",
       "      <td>18369.00</td>\n",
       "      <td>458705.00</td>\n",
       "    </tr>\n",
       "    <tr>\n",
       "      <th>휘발유</th>\n",
       "      <td>187.00</td>\n",
       "      <td>5972.00</td>\n",
       "    </tr>\n",
       "    <tr>\n",
       "      <th rowspan=\"3\" valign=\"top\">서울</th>\n",
       "      <th>LPG(액화석유가스)</th>\n",
       "      <td>NaN</td>\n",
       "      <td>52.00</td>\n",
       "    </tr>\n",
       "    <tr>\n",
       "      <th>경유</th>\n",
       "      <td>NaN</td>\n",
       "      <td>206836.00</td>\n",
       "    </tr>\n",
       "    <tr>\n",
       "      <th>휘발유</th>\n",
       "      <td>NaN</td>\n",
       "      <td>10286.00</td>\n",
       "    </tr>\n",
       "    <tr>\n",
       "      <th rowspan=\"3\" valign=\"top\">인천</th>\n",
       "      <th>LPG(액화석유가스)</th>\n",
       "      <td>1.00</td>\n",
       "      <td>29.00</td>\n",
       "    </tr>\n",
       "    <tr>\n",
       "      <th>경유</th>\n",
       "      <td>2472.00</td>\n",
       "      <td>101546.00</td>\n",
       "    </tr>\n",
       "    <tr>\n",
       "      <th>휘발유</th>\n",
       "      <td>17.00</td>\n",
       "      <td>1612.00</td>\n",
       "    </tr>\n",
       "    <tr>\n",
       "      <th rowspan=\"16\" valign=\"top\">중부권</th>\n",
       "      <th rowspan=\"3\" valign=\"top\">대전</th>\n",
       "      <th>LPG(액화석유가스)</th>\n",
       "      <td>NaN</td>\n",
       "      <td>17.00</td>\n",
       "    </tr>\n",
       "    <tr>\n",
       "      <th>경유</th>\n",
       "      <td>NaN</td>\n",
       "      <td>62840.00</td>\n",
       "    </tr>\n",
       "    <tr>\n",
       "      <th>휘발유</th>\n",
       "      <td>NaN</td>\n",
       "      <td>562.00</td>\n",
       "    </tr>\n",
       "    <tr>\n",
       "      <th rowspan=\"3\" valign=\"top\">세종</th>\n",
       "      <th>LPG(액화석유가스)</th>\n",
       "      <td>NaN</td>\n",
       "      <td>1.00</td>\n",
       "    </tr>\n",
       "    <tr>\n",
       "      <th>경유</th>\n",
       "      <td>NaN</td>\n",
       "      <td>11761.00</td>\n",
       "    </tr>\n",
       "    <tr>\n",
       "      <th>휘발유</th>\n",
       "      <td>NaN</td>\n",
       "      <td>81.00</td>\n",
       "    </tr>\n",
       "    <tr>\n",
       "      <th rowspan=\"3\" valign=\"top\">전북</th>\n",
       "      <th>LPG(액화석유가스)</th>\n",
       "      <td>17.00</td>\n",
       "      <td>12.00</td>\n",
       "    </tr>\n",
       "    <tr>\n",
       "      <th>경유</th>\n",
       "      <td>66359.00</td>\n",
       "      <td>63160.00</td>\n",
       "    </tr>\n",
       "    <tr>\n",
       "      <th>휘발유</th>\n",
       "      <td>549.00</td>\n",
       "      <td>834.00</td>\n",
       "    </tr>\n",
       "    <tr>\n",
       "      <th rowspan=\"3\" valign=\"top\">충남</th>\n",
       "      <th>LPG(액화석유가스)</th>\n",
       "      <td>2.00</td>\n",
       "      <td>23.00</td>\n",
       "    </tr>\n",
       "    <tr>\n",
       "      <th>경유</th>\n",
       "      <td>5999.00</td>\n",
       "      <td>140774.00</td>\n",
       "    </tr>\n",
       "    <tr>\n",
       "      <th>휘발유</th>\n",
       "      <td>39.00</td>\n",
       "      <td>991.00</td>\n",
       "    </tr>\n",
       "    <tr>\n",
       "      <th rowspan=\"4\" valign=\"top\">충북</th>\n",
       "      <th>CNG(압축천연가스)</th>\n",
       "      <td>NaN</td>\n",
       "      <td>1.00</td>\n",
       "    </tr>\n",
       "    <tr>\n",
       "      <th>LPG(액화석유가스)</th>\n",
       "      <td>2.00</td>\n",
       "      <td>11.00</td>\n",
       "    </tr>\n",
       "    <tr>\n",
       "      <th>경유</th>\n",
       "      <td>22047.00</td>\n",
       "      <td>82658.00</td>\n",
       "    </tr>\n",
       "    <tr>\n",
       "      <th>휘발유</th>\n",
       "      <td>120.00</td>\n",
       "      <td>570.00</td>\n",
       "    </tr>\n",
       "  </tbody>\n",
       "</table>\n",
       "</div>"
      ],
      "text/plain": [
       "대기관리권역YN                      N         Y\n",
       "대기관리권역 시도 연료                             \n",
       "그 외    강원 LPG(액화석유가스)     11.00       NaN\n",
       "          경유          103646.00       NaN\n",
       "          휘발유            644.00       NaN\n",
       "       제주 LPG(액화석유가스)      6.00       NaN\n",
       "          경유           49695.00       NaN\n",
       "          휘발유            281.00       NaN\n",
       "남부권    광주 LPG(액화석유가스)       NaN     11.00\n",
       "          경유                NaN  61064.00\n",
       "          휘발유               NaN    708.00\n",
       "       전남 LPG(액화석유가스)     23.00     14.00\n",
       "          경유           84314.00  73127.00\n",
       "          휘발유            517.00    426.00\n",
       "동남권    경남 LPG(액화석유가스)     17.00     22.00\n",
       "          경유           78844.00 130611.00\n",
       "          휘발유            439.00    896.00\n",
       "       경북 CNG(압축천연가스)      2.00      1.00\n",
       "          LPG(액화석유가스)      7.00     14.00\n",
       "          경유          117237.00 116959.00\n",
       "          휘발유            569.00    881.00\n",
       "       대구 LPG(액화석유가스)       NaN     15.00\n",
       "          경유                NaN 113269.00\n",
       "          휘발유               NaN   1326.00\n",
       "       부산 LPG(액화석유가스)       NaN     57.00\n",
       "          경유                NaN 120212.00\n",
       "          알코올               NaN      1.00\n",
       "          휘발유               NaN   1841.00\n",
       "       울산 LPG(액화석유가스)       NaN     10.00\n",
       "          경유                NaN  54795.00\n",
       "          휘발유               NaN    532.00\n",
       "수도권    경기 CNG(압축천연가스)       NaN      1.00\n",
       "          LPG(액화석유가스)      1.00     80.00\n",
       "          경유           18369.00 458705.00\n",
       "          휘발유            187.00   5972.00\n",
       "       서울 LPG(액화석유가스)       NaN     52.00\n",
       "          경유                NaN 206836.00\n",
       "          휘발유               NaN  10286.00\n",
       "       인천 LPG(액화석유가스)      1.00     29.00\n",
       "          경유            2472.00 101546.00\n",
       "          휘발유             17.00   1612.00\n",
       "중부권    대전 LPG(액화석유가스)       NaN     17.00\n",
       "          경유                NaN  62840.00\n",
       "          휘발유               NaN    562.00\n",
       "       세종 LPG(액화석유가스)       NaN      1.00\n",
       "          경유                NaN  11761.00\n",
       "          휘발유               NaN     81.00\n",
       "       전북 LPG(액화석유가스)     17.00     12.00\n",
       "          경유           66359.00  63160.00\n",
       "          휘발유            549.00    834.00\n",
       "       충남 LPG(액화석유가스)      2.00     23.00\n",
       "          경유            5999.00 140774.00\n",
       "          휘발유             39.00    991.00\n",
       "       충북 CNG(압축천연가스)       NaN      1.00\n",
       "          LPG(액화석유가스)      2.00     11.00\n",
       "          경유           22047.00  82658.00\n",
       "          휘발유            120.00    570.00"
      ]
     },
     "execution_count": 215,
     "metadata": {},
     "output_type": "execute_result"
    }
   ],
   "source": [
    "# # 내연기관차\n",
    "# stat_gas3 = g5_gas_car.groupby(['대기관리권역', '시도', '연료', '대기관리권역YN'], dropna=False)['차대번호'].count().unstack()\n",
    "# stat_gas3"
   ]
  },
  {
   "cell_type": "code",
   "execution_count": 216,
   "metadata": {},
   "outputs": [
    {
     "data": {
      "text/html": [
       "<div>\n",
       "<style scoped>\n",
       "    .dataframe tbody tr th:only-of-type {\n",
       "        vertical-align: middle;\n",
       "    }\n",
       "\n",
       "    .dataframe tbody tr th {\n",
       "        vertical-align: top;\n",
       "    }\n",
       "\n",
       "    .dataframe thead th {\n",
       "        text-align: right;\n",
       "    }\n",
       "</style>\n",
       "<table border=\"1\" class=\"dataframe\">\n",
       "  <thead>\n",
       "    <tr style=\"text-align: right;\">\n",
       "      <th></th>\n",
       "      <th></th>\n",
       "      <th></th>\n",
       "      <th>대기관리권역YN</th>\n",
       "      <th>N</th>\n",
       "      <th>Y</th>\n",
       "    </tr>\n",
       "    <tr>\n",
       "      <th>대기관리권역</th>\n",
       "      <th>시도</th>\n",
       "      <th>배출가스등급</th>\n",
       "      <th>연료</th>\n",
       "      <th></th>\n",
       "      <th></th>\n",
       "    </tr>\n",
       "  </thead>\n",
       "  <tbody>\n",
       "    <tr>\n",
       "      <th rowspan=\"5\" valign=\"top\">그 외</th>\n",
       "      <th rowspan=\"4\" valign=\"top\">강원</th>\n",
       "      <th rowspan=\"3\" valign=\"top\">5</th>\n",
       "      <th>LPG(액화석유가스)</th>\n",
       "      <td>11.00</td>\n",
       "      <td>NaN</td>\n",
       "    </tr>\n",
       "    <tr>\n",
       "      <th>경유</th>\n",
       "      <td>103645.00</td>\n",
       "      <td>NaN</td>\n",
       "    </tr>\n",
       "    <tr>\n",
       "      <th>휘발유</th>\n",
       "      <td>644.00</td>\n",
       "      <td>NaN</td>\n",
       "    </tr>\n",
       "    <tr>\n",
       "      <th>T5</th>\n",
       "      <th>경유</th>\n",
       "      <td>1.00</td>\n",
       "      <td>NaN</td>\n",
       "    </tr>\n",
       "    <tr>\n",
       "      <th>제주</th>\n",
       "      <th>5</th>\n",
       "      <th>LPG(액화석유가스)</th>\n",
       "      <td>6.00</td>\n",
       "      <td>NaN</td>\n",
       "    </tr>\n",
       "    <tr>\n",
       "      <th>...</th>\n",
       "      <th>...</th>\n",
       "      <th>...</th>\n",
       "      <th>...</th>\n",
       "      <td>...</td>\n",
       "      <td>...</td>\n",
       "    </tr>\n",
       "    <tr>\n",
       "      <th rowspan=\"5\" valign=\"top\">중부권</th>\n",
       "      <th rowspan=\"5\" valign=\"top\">충북</th>\n",
       "      <th rowspan=\"4\" valign=\"top\">5</th>\n",
       "      <th>CNG(압축천연가스)</th>\n",
       "      <td>NaN</td>\n",
       "      <td>1.00</td>\n",
       "    </tr>\n",
       "    <tr>\n",
       "      <th>LPG(액화석유가스)</th>\n",
       "      <td>2.00</td>\n",
       "      <td>11.00</td>\n",
       "    </tr>\n",
       "    <tr>\n",
       "      <th>경유</th>\n",
       "      <td>22047.00</td>\n",
       "      <td>82653.00</td>\n",
       "    </tr>\n",
       "    <tr>\n",
       "      <th>휘발유</th>\n",
       "      <td>120.00</td>\n",
       "      <td>570.00</td>\n",
       "    </tr>\n",
       "    <tr>\n",
       "      <th>T5</th>\n",
       "      <th>경유</th>\n",
       "      <td>NaN</td>\n",
       "      <td>5.00</td>\n",
       "    </tr>\n",
       "  </tbody>\n",
       "</table>\n",
       "<p>73 rows × 2 columns</p>\n",
       "</div>"
      ],
      "text/plain": [
       "대기관리권역YN                             N        Y\n",
       "대기관리권역 시도 배출가스등급 연료                            \n",
       "그 외    강원 5      LPG(액화석유가스)     11.00      NaN\n",
       "                 경유          103645.00      NaN\n",
       "                 휘발유            644.00      NaN\n",
       "          T5     경유               1.00      NaN\n",
       "       제주 5      LPG(액화석유가스)      6.00      NaN\n",
       "...                                ...      ...\n",
       "중부권    충북 5      CNG(압축천연가스)       NaN     1.00\n",
       "                 LPG(액화석유가스)      2.00    11.00\n",
       "                 경유           22047.00 82653.00\n",
       "                 휘발유            120.00   570.00\n",
       "          T5     경유                NaN     5.00\n",
       "\n",
       "[73 rows x 2 columns]"
      ]
     },
     "execution_count": 216,
     "metadata": {},
     "output_type": "execute_result"
    }
   ],
   "source": [
    "# # 내연기관차\n",
    "# stat_gas4 = g5_gas_car.groupby(['대기관리권역', '시도', '배출가스등급', '연료', '대기관리권역YN'], dropna=False)['차대번호'].count().unstack()\n",
    "# stat_gas4"
   ]
  },
  {
   "attachments": {},
   "cell_type": "markdown",
   "metadata": {},
   "source": [
    "#### [출력] 내연기관차 대기관리권역별 등급별(말소 제거) 차량 현황"
   ]
  },
  {
   "cell_type": "code",
   "execution_count": 114,
   "metadata": {},
   "outputs": [
    {
     "data": {
      "text/plain": [
       "'2023.05.18_PM.04.11.38'"
      ]
     },
     "execution_count": 114,
     "metadata": {},
     "output_type": "execute_result"
    }
   ],
   "source": [
    "today_date = datetime.today().strftime(\"%Y.%m.%d_%p.%I.%M.%S\")\n",
    "today_date"
   ]
  },
  {
   "cell_type": "code",
   "execution_count": 123,
   "metadata": {},
   "outputs": [],
   "source": [
    "with pd.ExcelWriter(os.path.join(analysis_fold, f'통계_5등급_내연기관차_시도별(말소유지))({today_date}).xlsx')) as writer:\n",
    "    stat_gas1.to_excel(writer, sheet_name='시도별')\n",
    "    # stat_gas2.to_excel(writer, sheet_name='대기관리권역_등급')\n",
    "    # stat_gas3.to_excel(writer, sheet_name='대기관리권역_연료')\n",
    "    # stat_gas4.to_excel(writer, sheet_name='대기관리권역_등급_연료')"
   ]
  },
  {
   "attachments": {},
   "cell_type": "markdown",
   "metadata": {},
   "source": [
    "## 조기폐차 차량현황"
   ]
  },
  {
   "cell_type": "code",
   "execution_count": 65,
   "metadata": {},
   "outputs": [
    {
     "data": {
      "text/plain": [
       "(2378648, 20)"
      ]
     },
     "execution_count": 65,
     "metadata": {},
     "output_type": "execute_result"
    }
   ],
   "source": [
    "g5_gas_car.shape"
   ]
  },
  {
   "cell_type": "code",
   "execution_count": 66,
   "metadata": {},
   "outputs": [
    {
     "data": {
      "text/plain": [
       "Index(['차량등록번호', '차종_등록정보', '차종유형(소분류)', '용도', '본거지법정동코드', '차대번호', '제원관리번호',\n",
       "       '배출가스인증번호', '배출가스등급', '차명', '연료', '차량말소YN', '시도', '시구군', '읍면동', '리',\n",
       "       '지역3', '폐지여부', '대기관리권역', '대기관리권역YN'],\n",
       "      dtype='object')"
      ]
     },
     "execution_count": 66,
     "metadata": {},
     "output_type": "execute_result"
    }
   ],
   "source": [
    "g5_gas_car.columns"
   ]
  },
  {
   "cell_type": "code",
   "execution_count": 67,
   "metadata": {},
   "outputs": [
    {
     "data": {
      "text/plain": [
       "Index(['조기폐차상태코드', '차대번호', '말소일자', '조기폐차최종승인YN'], dtype='object')"
      ]
     },
     "execution_count": 67,
     "metadata": {},
     "output_type": "execute_result"
    }
   ],
   "source": [
    "earlym.columns"
   ]
  },
  {
   "cell_type": "code",
   "execution_count": 68,
   "metadata": {},
   "outputs": [
    {
     "data": {
      "text/plain": [
       "(809130, 4)"
      ]
     },
     "execution_count": 68,
     "metadata": {},
     "output_type": "execute_result"
    }
   ],
   "source": [
    "earlym.shape"
   ]
  },
  {
   "cell_type": "code",
   "execution_count": 69,
   "metadata": {},
   "outputs": [
    {
     "data": {
      "text/plain": [
       "(2378648, 23)"
      ]
     },
     "execution_count": 69,
     "metadata": {},
     "output_type": "execute_result"
    }
   ],
   "source": [
    "g5_gas_car = g5_gas_car.merge(earlym, on='차대번호', how='left')\n",
    "g5_gas_car.shape"
   ]
  },
  {
   "cell_type": "code",
   "execution_count": 70,
   "metadata": {},
   "outputs": [
    {
     "data": {
      "text/plain": [
       "Index(['차량등록번호', '차종_등록정보', '차종유형(소분류)', '용도', '본거지법정동코드', '차대번호', '제원관리번호',\n",
       "       '배출가스인증번호', '배출가스등급', '차명', '연료', '차량말소YN', '시도', '시구군', '읍면동', '리',\n",
       "       '지역3', '폐지여부', '대기관리권역', '대기관리권역YN', '조기폐차상태코드', '말소일자', '조기폐차최종승인YN'],\n",
       "      dtype='object')"
      ]
     },
     "execution_count": 70,
     "metadata": {},
     "output_type": "execute_result"
    }
   ],
   "source": [
    "g5_gas_car.columns"
   ]
  },
  {
   "attachments": {},
   "cell_type": "markdown",
   "metadata": {},
   "source": [
    "### [출력]"
   ]
  },
  {
   "cell_type": "code",
   "execution_count": 77,
   "metadata": {},
   "outputs": [
    {
     "data": {
      "text/plain": [
       "(2378648, 8)"
      ]
     },
     "execution_count": 77,
     "metadata": {},
     "output_type": "execute_result"
    }
   ],
   "source": [
    "g5_gas_car1 = g5_gas_car[[\n",
    "    '차대번호', \n",
    "    '제원관리번호',\n",
    "    '차종_등록정보', \n",
    "    '차종유형(소분류)', \n",
    "    '용도',\n",
    "    '연료', \n",
    "    '조기폐차상태코드',\n",
    "    '조기폐차최종승인YN'\n",
    "    ]]\n",
    "g5_gas_car1.shape"
   ]
  },
  {
   "cell_type": "code",
   "execution_count": 78,
   "metadata": {},
   "outputs": [
    {
     "name": "stderr",
     "output_type": "stream",
     "text": [
      "C:\\Users\\kbjung\\AppData\\Local\\Temp\\ipykernel_4116\\3880346676.py:1: SettingWithCopyWarning: \n",
      "A value is trying to be set on a copy of a slice from a DataFrame.\n",
      "Try using .loc[row_indexer,col_indexer] = value instead\n",
      "\n",
      "See the caveats in the documentation: https://pandas.pydata.org/pandas-docs/stable/user_guide/indexing.html#returning-a-view-versus-a-copy\n",
      "  g5_gas_car1['기준연월'] = '2022.12'\n"
     ]
    }
   ],
   "source": [
    "g5_gas_car1['기준연월'] = '2022.12'"
   ]
  },
  {
   "cell_type": "code",
   "execution_count": 79,
   "metadata": {},
   "outputs": [
    {
     "data": {
      "text/plain": [
       "Index(['차대번호', '제원관리번호', '차종_등록정보', '차종유형(소분류)', '용도', '연료', '조기폐차상태코드',\n",
       "       '조기폐차최종승인YN', '기준연월'],\n",
       "      dtype='object')"
      ]
     },
     "execution_count": 79,
     "metadata": {},
     "output_type": "execute_result"
    }
   ],
   "source": [
    "g5_gas_car1.columns"
   ]
  },
  {
   "cell_type": "code",
   "execution_count": 80,
   "metadata": {},
   "outputs": [],
   "source": [
    "g5_gas_car1 = g5_gas_car1[['기준연월', '차대번호', '제원관리번호', '차종_등록정보', '차종유형(소분류)', '용도', '연료', '조기폐차상태코드', '조기폐차최종승인YN' ]]"
   ]
  },
  {
   "cell_type": "code",
   "execution_count": 81,
   "metadata": {},
   "outputs": [],
   "source": [
    "chc_col = {\n",
    "    '기준연월':'CRTR_YM', \n",
    "    '차대번호':'VIN', \n",
    "    '제원관리번호':'MANG_MNG_NO',\n",
    "    '차종_등록정보':'VHCTY_CD', \n",
    "    '차종유형(소분류)':'VHCTY_TY', \n",
    "    '용도':'PURPS_CD2',\n",
    "    '연료':'FUEL_CD', \n",
    "    '조기폐차상태코드':'ELPDSRC_STTS_CD',\n",
    "    '조기폐차최종승인YN':'ELPDSRC_LAST_APRV_YN',\n",
    "}"
   ]
  },
  {
   "cell_type": "code",
   "execution_count": 82,
   "metadata": {},
   "outputs": [
    {
     "data": {
      "text/plain": [
       "Index(['CRTR_YM', 'VIN', 'MANG_MNG_NO', 'VHCTY_CD', 'VHCTY_TY', 'PURPS_CD2',\n",
       "       'FUEL_CD', 'ELPDSRC_STTS_CD', 'ELPDSRC_LAST_APRV_YN'],\n",
       "      dtype='object')"
      ]
     },
     "execution_count": 82,
     "metadata": {},
     "output_type": "execute_result"
    }
   ],
   "source": [
    "g5_gas_car1 = g5_gas_car1.rename(columns=chc_col)\n",
    "g5_gas_car1.columns"
   ]
  },
  {
   "cell_type": "code",
   "execution_count": 83,
   "metadata": {},
   "outputs": [],
   "source": [
    "# about 14.3s\n",
    "g5_gas_car1.to_csv(os.path.join(df_fold, 'BD1_4등급_조기폐차현황.csv'), index=False)"
   ]
  },
  {
   "cell_type": "code",
   "execution_count": null,
   "metadata": {},
   "outputs": [],
   "source": []
  },
  {
   "cell_type": "code",
   "execution_count": 130,
   "metadata": {},
   "outputs": [
    {
     "data": {
      "text/plain": [
       "조기폐차최종승인YN\n",
       "NaN    2012396\n",
       "Y       366233\n",
       "N           19\n",
       "Name: count, dtype: int64"
      ]
     },
     "execution_count": 130,
     "metadata": {},
     "output_type": "execute_result"
    }
   ],
   "source": [
    "g5_gas_car['조기폐차최종승인YN'].value_counts(dropna=False)"
   ]
  },
  {
   "cell_type": "code",
   "execution_count": 132,
   "metadata": {},
   "outputs": [
    {
     "data": {
      "text/html": [
       "<div>\n",
       "<style scoped>\n",
       "    .dataframe tbody tr th:only-of-type {\n",
       "        vertical-align: middle;\n",
       "    }\n",
       "\n",
       "    .dataframe tbody tr th {\n",
       "        vertical-align: top;\n",
       "    }\n",
       "\n",
       "    .dataframe thead th {\n",
       "        text-align: right;\n",
       "    }\n",
       "</style>\n",
       "<table border=\"1\" class=\"dataframe\">\n",
       "  <thead>\n",
       "    <tr style=\"text-align: right;\">\n",
       "      <th>조기폐차최종승인YN</th>\n",
       "      <th>N</th>\n",
       "      <th>Y</th>\n",
       "      <th>NaN</th>\n",
       "    </tr>\n",
       "    <tr>\n",
       "      <th>시도</th>\n",
       "      <th></th>\n",
       "      <th></th>\n",
       "      <th></th>\n",
       "    </tr>\n",
       "  </thead>\n",
       "  <tbody>\n",
       "    <tr>\n",
       "      <th>강원도</th>\n",
       "      <td>NaN</td>\n",
       "      <td>7139.00</td>\n",
       "      <td>97162.00</td>\n",
       "    </tr>\n",
       "    <tr>\n",
       "      <th>경기도</th>\n",
       "      <td>16.00</td>\n",
       "      <td>161411.00</td>\n",
       "      <td>321888.00</td>\n",
       "    </tr>\n",
       "    <tr>\n",
       "      <th>경상남도</th>\n",
       "      <td>3.00</td>\n",
       "      <td>14464.00</td>\n",
       "      <td>196362.00</td>\n",
       "    </tr>\n",
       "    <tr>\n",
       "      <th>경상북도</th>\n",
       "      <td>NaN</td>\n",
       "      <td>14787.00</td>\n",
       "      <td>220884.00</td>\n",
       "    </tr>\n",
       "    <tr>\n",
       "      <th>광주광역시</th>\n",
       "      <td>NaN</td>\n",
       "      <td>11343.00</td>\n",
       "      <td>50440.00</td>\n",
       "    </tr>\n",
       "    <tr>\n",
       "      <th>대구광역시</th>\n",
       "      <td>NaN</td>\n",
       "      <td>22123.00</td>\n",
       "      <td>92487.00</td>\n",
       "    </tr>\n",
       "    <tr>\n",
       "      <th>대전광역시</th>\n",
       "      <td>NaN</td>\n",
       "      <td>3431.00</td>\n",
       "      <td>59988.00</td>\n",
       "    </tr>\n",
       "    <tr>\n",
       "      <th>부산광역시</th>\n",
       "      <td>NaN</td>\n",
       "      <td>6446.00</td>\n",
       "      <td>115667.00</td>\n",
       "    </tr>\n",
       "    <tr>\n",
       "      <th>서울특별시</th>\n",
       "      <td>NaN</td>\n",
       "      <td>49330.00</td>\n",
       "      <td>167844.00</td>\n",
       "    </tr>\n",
       "    <tr>\n",
       "      <th>세종특별자치시</th>\n",
       "      <td>NaN</td>\n",
       "      <td>2249.00</td>\n",
       "      <td>9594.00</td>\n",
       "    </tr>\n",
       "    <tr>\n",
       "      <th>울산광역시</th>\n",
       "      <td>NaN</td>\n",
       "      <td>8365.00</td>\n",
       "      <td>46973.00</td>\n",
       "    </tr>\n",
       "    <tr>\n",
       "      <th>인천광역시</th>\n",
       "      <td>NaN</td>\n",
       "      <td>28186.00</td>\n",
       "      <td>77492.00</td>\n",
       "    </tr>\n",
       "    <tr>\n",
       "      <th>전라남도</th>\n",
       "      <td>NaN</td>\n",
       "      <td>10899.00</td>\n",
       "      <td>147524.00</td>\n",
       "    </tr>\n",
       "    <tr>\n",
       "      <th>전라북도</th>\n",
       "      <td>NaN</td>\n",
       "      <td>3606.00</td>\n",
       "      <td>127326.00</td>\n",
       "    </tr>\n",
       "    <tr>\n",
       "      <th>제주특별자치도</th>\n",
       "      <td>NaN</td>\n",
       "      <td>1291.00</td>\n",
       "      <td>48691.00</td>\n",
       "    </tr>\n",
       "    <tr>\n",
       "      <th>충청남도</th>\n",
       "      <td>NaN</td>\n",
       "      <td>9944.00</td>\n",
       "      <td>137884.00</td>\n",
       "    </tr>\n",
       "    <tr>\n",
       "      <th>충청북도</th>\n",
       "      <td>NaN</td>\n",
       "      <td>11219.00</td>\n",
       "      <td>94190.00</td>\n",
       "    </tr>\n",
       "  </tbody>\n",
       "</table>\n",
       "</div>"
      ],
      "text/plain": [
       "조기폐차최종승인YN     N         Y       NaN\n",
       "시도                                  \n",
       "강원도          NaN   7139.00  97162.00\n",
       "경기도        16.00 161411.00 321888.00\n",
       "경상남도        3.00  14464.00 196362.00\n",
       "경상북도         NaN  14787.00 220884.00\n",
       "광주광역시        NaN  11343.00  50440.00\n",
       "대구광역시        NaN  22123.00  92487.00\n",
       "대전광역시        NaN   3431.00  59988.00\n",
       "부산광역시        NaN   6446.00 115667.00\n",
       "서울특별시        NaN  49330.00 167844.00\n",
       "세종특별자치시      NaN   2249.00   9594.00\n",
       "울산광역시        NaN   8365.00  46973.00\n",
       "인천광역시        NaN  28186.00  77492.00\n",
       "전라남도         NaN  10899.00 147524.00\n",
       "전라북도         NaN   3606.00 127326.00\n",
       "제주특별자치도      NaN   1291.00  48691.00\n",
       "충청남도         NaN   9944.00 137884.00\n",
       "충청북도         NaN  11219.00  94190.00"
      ]
     },
     "execution_count": 132,
     "metadata": {},
     "output_type": "execute_result"
    }
   ],
   "source": [
    "# 내연기관차\n",
    "stat_gas5 = g5_gas_car.groupby(['시도', '조기폐차최종승인YN'], dropna=False)['차대번호'].count().unstack('조기폐차최종승인YN')\n",
    "stat_gas5"
   ]
  },
  {
   "cell_type": "code",
   "execution_count": 133,
   "metadata": {},
   "outputs": [
    {
     "data": {
      "text/plain": [
       "dtype('float64')"
      ]
     },
     "execution_count": 133,
     "metadata": {},
     "output_type": "execute_result"
    }
   ],
   "source": [
    "g5_gas_car['말소일자'].dtype"
   ]
  },
  {
   "cell_type": "code",
   "execution_count": 288,
   "metadata": {},
   "outputs": [
    {
     "data": {
      "text/plain": [
       "count     373714.00\n",
       "mean    20206051.70\n",
       "std        55565.22\n",
       "min       445003.00\n",
       "25%     20200212.00\n",
       "50%     20210305.00\n",
       "75%     20211105.00\n",
       "max     44440923.00\n",
       "Name: 말소일자, dtype: float64"
      ]
     },
     "execution_count": 288,
     "metadata": {},
     "output_type": "execute_result"
    }
   ],
   "source": [
    "g5_gas_car['말소일자'].describe()"
   ]
  },
  {
   "cell_type": "code",
   "execution_count": 289,
   "metadata": {},
   "outputs": [],
   "source": [
    "g5_gas_car.loc[g5_gas_car['말소일자'] < 20190101, '말소일자_년도'] = 2018\n",
    "g5_gas_car.loc[(g5_gas_car['말소일자'] >= 20190101) & (g5_gas_car['말소일자'] < 20200101), '말소일자_년도'] = 2019\n",
    "g5_gas_car.loc[(g5_gas_car['말소일자'] >= 20200101) & (g5_gas_car['말소일자'] < 20210101), '말소일자_년도'] = 2020\n",
    "g5_gas_car.loc[(g5_gas_car['말소일자'] >= 20210101) & (g5_gas_car['말소일자'] < 20220101), '말소일자_년도'] = 2021\n",
    "g5_gas_car.loc[(g5_gas_car['말소일자'] >= 20220101) & (g5_gas_car['말소일자'] < 20230101), '말소일자_년도'] = 2022\n",
    "g5_gas_car.loc[g5_gas_car['말소일자'] >= 20230101, '말소일자_년도'] = 2023"
   ]
  },
  {
   "cell_type": "code",
   "execution_count": 290,
   "metadata": {},
   "outputs": [
    {
     "data": {
      "text/plain": [
       "말소일자_년도\n",
       "2018.00         6\n",
       "2019.00     79951\n",
       "2020.00     97487\n",
       "2021.00    108664\n",
       "2022.00     79672\n",
       "2023.00        12\n",
       "Name: 차대번호, dtype: int64"
      ]
     },
     "execution_count": 290,
     "metadata": {},
     "output_type": "execute_result"
    }
   ],
   "source": [
    "stat_gas5_1 = g5_gas_car.loc[g5_gas_car['조기폐차최종승인YN'] == 'Y'].groupby(['말소일자_년도'])['차대번호'].count()\n",
    "stat_gas5_1"
   ]
  },
  {
   "cell_type": "code",
   "execution_count": 291,
   "metadata": {},
   "outputs": [
    {
     "data": {
      "text/html": [
       "<div>\n",
       "<style scoped>\n",
       "    .dataframe tbody tr th:only-of-type {\n",
       "        vertical-align: middle;\n",
       "    }\n",
       "\n",
       "    .dataframe tbody tr th {\n",
       "        vertical-align: top;\n",
       "    }\n",
       "\n",
       "    .dataframe thead th {\n",
       "        text-align: right;\n",
       "    }\n",
       "</style>\n",
       "<table border=\"1\" class=\"dataframe\">\n",
       "  <thead>\n",
       "    <tr style=\"text-align: right;\">\n",
       "      <th>말소일자_년도</th>\n",
       "      <th>2018.00</th>\n",
       "      <th>2019.00</th>\n",
       "      <th>2020.00</th>\n",
       "      <th>2021.00</th>\n",
       "      <th>2022.00</th>\n",
       "      <th>2023.00</th>\n",
       "    </tr>\n",
       "    <tr>\n",
       "      <th>시도</th>\n",
       "      <th></th>\n",
       "      <th></th>\n",
       "      <th></th>\n",
       "      <th></th>\n",
       "      <th></th>\n",
       "      <th></th>\n",
       "    </tr>\n",
       "  </thead>\n",
       "  <tbody>\n",
       "    <tr>\n",
       "      <th>강원도</th>\n",
       "      <td>NaN</td>\n",
       "      <td>NaN</td>\n",
       "      <td>4.00</td>\n",
       "      <td>2272.00</td>\n",
       "      <td>4863.00</td>\n",
       "      <td>NaN</td>\n",
       "    </tr>\n",
       "    <tr>\n",
       "      <th>경기도</th>\n",
       "      <td>1.00</td>\n",
       "      <td>49026.00</td>\n",
       "      <td>66331.00</td>\n",
       "      <td>38919.00</td>\n",
       "      <td>6690.00</td>\n",
       "      <td>3.00</td>\n",
       "    </tr>\n",
       "    <tr>\n",
       "      <th>경상남도</th>\n",
       "      <td>NaN</td>\n",
       "      <td>NaN</td>\n",
       "      <td>2.00</td>\n",
       "      <td>4724.00</td>\n",
       "      <td>9738.00</td>\n",
       "      <td>NaN</td>\n",
       "    </tr>\n",
       "    <tr>\n",
       "      <th>경상북도</th>\n",
       "      <td>NaN</td>\n",
       "      <td>NaN</td>\n",
       "      <td>2.00</td>\n",
       "      <td>4231.00</td>\n",
       "      <td>10554.00</td>\n",
       "      <td>NaN</td>\n",
       "    </tr>\n",
       "    <tr>\n",
       "      <th>광주광역시</th>\n",
       "      <td>NaN</td>\n",
       "      <td>NaN</td>\n",
       "      <td>NaN</td>\n",
       "      <td>7131.00</td>\n",
       "      <td>4212.00</td>\n",
       "      <td>NaN</td>\n",
       "    </tr>\n",
       "    <tr>\n",
       "      <th>대구광역시</th>\n",
       "      <td>NaN</td>\n",
       "      <td>NaN</td>\n",
       "      <td>NaN</td>\n",
       "      <td>15178.00</td>\n",
       "      <td>6945.00</td>\n",
       "      <td>NaN</td>\n",
       "    </tr>\n",
       "    <tr>\n",
       "      <th>대전광역시</th>\n",
       "      <td>NaN</td>\n",
       "      <td>1.00</td>\n",
       "      <td>NaN</td>\n",
       "      <td>5.00</td>\n",
       "      <td>3424.00</td>\n",
       "      <td>1.00</td>\n",
       "    </tr>\n",
       "    <tr>\n",
       "      <th>부산광역시</th>\n",
       "      <td>1.00</td>\n",
       "      <td>NaN</td>\n",
       "      <td>NaN</td>\n",
       "      <td>7.00</td>\n",
       "      <td>6438.00</td>\n",
       "      <td>NaN</td>\n",
       "    </tr>\n",
       "    <tr>\n",
       "      <th>서울특별시</th>\n",
       "      <td>2.00</td>\n",
       "      <td>20303.00</td>\n",
       "      <td>20293.00</td>\n",
       "      <td>7585.00</td>\n",
       "      <td>1147.00</td>\n",
       "      <td>NaN</td>\n",
       "    </tr>\n",
       "    <tr>\n",
       "      <th>세종특별자치시</th>\n",
       "      <td>1.00</td>\n",
       "      <td>NaN</td>\n",
       "      <td>NaN</td>\n",
       "      <td>1515.00</td>\n",
       "      <td>733.00</td>\n",
       "      <td>NaN</td>\n",
       "    </tr>\n",
       "    <tr>\n",
       "      <th>울산광역시</th>\n",
       "      <td>NaN</td>\n",
       "      <td>NaN</td>\n",
       "      <td>NaN</td>\n",
       "      <td>4211.00</td>\n",
       "      <td>4154.00</td>\n",
       "      <td>NaN</td>\n",
       "    </tr>\n",
       "    <tr>\n",
       "      <th>인천광역시</th>\n",
       "      <td>NaN</td>\n",
       "      <td>10621.00</td>\n",
       "      <td>10838.00</td>\n",
       "      <td>5368.00</td>\n",
       "      <td>1359.00</td>\n",
       "      <td>NaN</td>\n",
       "    </tr>\n",
       "    <tr>\n",
       "      <th>전라남도</th>\n",
       "      <td>NaN</td>\n",
       "      <td>NaN</td>\n",
       "      <td>1.00</td>\n",
       "      <td>4810.00</td>\n",
       "      <td>6088.00</td>\n",
       "      <td>NaN</td>\n",
       "    </tr>\n",
       "    <tr>\n",
       "      <th>전라북도</th>\n",
       "      <td>NaN</td>\n",
       "      <td>NaN</td>\n",
       "      <td>NaN</td>\n",
       "      <td>2004.00</td>\n",
       "      <td>1602.00</td>\n",
       "      <td>NaN</td>\n",
       "    </tr>\n",
       "    <tr>\n",
       "      <th>제주특별자치도</th>\n",
       "      <td>NaN</td>\n",
       "      <td>NaN</td>\n",
       "      <td>NaN</td>\n",
       "      <td>3.00</td>\n",
       "      <td>1288.00</td>\n",
       "      <td>NaN</td>\n",
       "    </tr>\n",
       "    <tr>\n",
       "      <th>충청남도</th>\n",
       "      <td>NaN</td>\n",
       "      <td>NaN</td>\n",
       "      <td>8.00</td>\n",
       "      <td>3006.00</td>\n",
       "      <td>6922.00</td>\n",
       "      <td>8.00</td>\n",
       "    </tr>\n",
       "    <tr>\n",
       "      <th>충청북도</th>\n",
       "      <td>1.00</td>\n",
       "      <td>NaN</td>\n",
       "      <td>8.00</td>\n",
       "      <td>7695.00</td>\n",
       "      <td>3515.00</td>\n",
       "      <td>NaN</td>\n",
       "    </tr>\n",
       "  </tbody>\n",
       "</table>\n",
       "</div>"
      ],
      "text/plain": [
       "말소일자_년도  2018.00  2019.00  2020.00  2021.00  2022.00  2023.00\n",
       "시도                                                           \n",
       "강원도          NaN      NaN     4.00  2272.00  4863.00      NaN\n",
       "경기도         1.00 49026.00 66331.00 38919.00  6690.00     3.00\n",
       "경상남도         NaN      NaN     2.00  4724.00  9738.00      NaN\n",
       "경상북도         NaN      NaN     2.00  4231.00 10554.00      NaN\n",
       "광주광역시        NaN      NaN      NaN  7131.00  4212.00      NaN\n",
       "대구광역시        NaN      NaN      NaN 15178.00  6945.00      NaN\n",
       "대전광역시        NaN     1.00      NaN     5.00  3424.00     1.00\n",
       "부산광역시       1.00      NaN      NaN     7.00  6438.00      NaN\n",
       "서울특별시       2.00 20303.00 20293.00  7585.00  1147.00      NaN\n",
       "세종특별자치시     1.00      NaN      NaN  1515.00   733.00      NaN\n",
       "울산광역시        NaN      NaN      NaN  4211.00  4154.00      NaN\n",
       "인천광역시        NaN 10621.00 10838.00  5368.00  1359.00      NaN\n",
       "전라남도         NaN      NaN     1.00  4810.00  6088.00      NaN\n",
       "전라북도         NaN      NaN      NaN  2004.00  1602.00      NaN\n",
       "제주특별자치도      NaN      NaN      NaN     3.00  1288.00      NaN\n",
       "충청남도         NaN      NaN     8.00  3006.00  6922.00     8.00\n",
       "충청북도        1.00      NaN     8.00  7695.00  3515.00      NaN"
      ]
     },
     "execution_count": 291,
     "metadata": {},
     "output_type": "execute_result"
    }
   ],
   "source": [
    "stat_gas5_2 = g5_gas_car.loc[g5_gas_car['조기폐차최종승인YN'] == 'Y'].groupby(['시도', '말소일자_년도'])['차대번호'].count().unstack()\n",
    "stat_gas5_2"
   ]
  },
  {
   "attachments": {},
   "cell_type": "markdown",
   "metadata": {},
   "source": [
    "#### [출력] 내연기관차 대기관리권역별 조기폐차(말소 제거) 차량 현황"
   ]
  },
  {
   "cell_type": "code",
   "execution_count": 292,
   "metadata": {},
   "outputs": [
    {
     "data": {
      "text/plain": [
       "'2023.05.07_PM.09.54.40'"
      ]
     },
     "execution_count": 292,
     "metadata": {},
     "output_type": "execute_result"
    }
   ],
   "source": [
    "today_date = datetime.today().strftime(\"%Y.%m.%d_%p.%I.%M.%S\")\n",
    "today_date"
   ]
  },
  {
   "cell_type": "code",
   "execution_count": 293,
   "metadata": {},
   "outputs": [],
   "source": [
    "with pd.ExcelWriter(os.path.join(analysis_fold, f'통계_5등급_내연기관차_조기폐차({today_date}).xlsx')) as writer:\n",
    "    stat_gas5.to_excel(writer, sheet_name='대기관리권역_조기폐차')\n",
    "    stat_gas5_1.to_excel(writer, sheet_name='연도별_조기폐차')\n",
    "    stat_gas5_2.to_excel(writer, sheet_name='시도별_연도별_조기폐차')"
   ]
  },
  {
   "attachments": {},
   "cell_type": "markdown",
   "metadata": {},
   "source": [
    "## 5등급 저감장치 부착 차량 현황(말소 제거)"
   ]
  },
  {
   "cell_type": "code",
   "execution_count": 134,
   "metadata": {},
   "outputs": [
    {
     "data": {
      "text/plain": [
       "(2378648, 19)"
      ]
     },
     "execution_count": 134,
     "metadata": {},
     "output_type": "execute_result"
    }
   ],
   "source": [
    "g5_gas_car.shape"
   ]
  },
  {
   "cell_type": "code",
   "execution_count": 135,
   "metadata": {},
   "outputs": [
    {
     "data": {
      "text/plain": [
       "(2378830, 20)"
      ]
     },
     "execution_count": 135,
     "metadata": {},
     "output_type": "execute_result"
    }
   ],
   "source": [
    "g5_gas_car = g5_gas_car.merge(attm[['차대번호', '저감장치']], on='차대번호', how='left')\n",
    "g5_gas_car.shape"
   ]
  },
  {
   "cell_type": "code",
   "execution_count": 136,
   "metadata": {},
   "outputs": [
    {
     "data": {
      "text/plain": [
       "차량말소YN\n",
       "Y    1223942\n",
       "N    1154888\n",
       "Name: count, dtype: int64"
      ]
     },
     "execution_count": 136,
     "metadata": {},
     "output_type": "execute_result"
    }
   ],
   "source": [
    "g5_gas_car['차량말소YN'].value_counts(dropna=False)"
   ]
  },
  {
   "cell_type": "code",
   "execution_count": 137,
   "metadata": {},
   "outputs": [
    {
     "data": {
      "text/plain": [
       "(1154888, 20)"
      ]
     },
     "execution_count": 137,
     "metadata": {},
     "output_type": "execute_result"
    }
   ],
   "source": [
    "g5_gas_car_n = g5_gas_car.loc[g5_gas_car['차량말소YN'] == 'N'].reset_index(drop=True)\n",
    "g5_gas_car_n.shape"
   ]
  },
  {
   "cell_type": "code",
   "execution_count": 138,
   "metadata": {},
   "outputs": [
    {
     "data": {
      "text/plain": [
       "Index(['차량등록번호', '본거지법정동코드', '차대번호', '제원관리번호', '배출가스인증번호', '배출가스등급', '차명',\n",
       "       '연료', '차량말소YN', '시도', '시구군', '읍면동', '리', '지역3', '폐지여부', '대기관리권역',\n",
       "       '대기관리권역YN', '말소일자', '조기폐차최종승인YN', '저감장치'],\n",
       "      dtype='object')"
      ]
     },
     "execution_count": 138,
     "metadata": {},
     "output_type": "execute_result"
    }
   ],
   "source": [
    "g5_gas_car_n.columns"
   ]
  },
  {
   "cell_type": "code",
   "execution_count": 104,
   "metadata": {},
   "outputs": [
    {
     "data": {
      "text/plain": [
       "저감장치\n",
       "DPF           141328\n",
       "PM-NOx저감장치      1796\n",
       "Name: count, dtype: int64"
      ]
     },
     "execution_count": 104,
     "metadata": {},
     "output_type": "execute_result"
    }
   ],
   "source": [
    "g5_gas_car_n['저감장치'].value_counts()"
   ]
  },
  {
   "cell_type": "code",
   "execution_count": 140,
   "metadata": {},
   "outputs": [
    {
     "data": {
      "text/html": [
       "<div>\n",
       "<style scoped>\n",
       "    .dataframe tbody tr th:only-of-type {\n",
       "        vertical-align: middle;\n",
       "    }\n",
       "\n",
       "    .dataframe tbody tr th {\n",
       "        vertical-align: top;\n",
       "    }\n",
       "\n",
       "    .dataframe thead th {\n",
       "        text-align: right;\n",
       "    }\n",
       "</style>\n",
       "<table border=\"1\" class=\"dataframe\">\n",
       "  <thead>\n",
       "    <tr style=\"text-align: right;\">\n",
       "      <th></th>\n",
       "      <th>시도</th>\n",
       "      <th>차대번호</th>\n",
       "    </tr>\n",
       "  </thead>\n",
       "  <tbody>\n",
       "    <tr>\n",
       "      <th>0</th>\n",
       "      <td>강원도</td>\n",
       "      <td>48552</td>\n",
       "    </tr>\n",
       "    <tr>\n",
       "      <th>1</th>\n",
       "      <td>경기도</td>\n",
       "      <td>228518</td>\n",
       "    </tr>\n",
       "    <tr>\n",
       "      <th>2</th>\n",
       "      <td>경상남도</td>\n",
       "      <td>105070</td>\n",
       "    </tr>\n",
       "    <tr>\n",
       "      <th>3</th>\n",
       "      <td>경상북도</td>\n",
       "      <td>122492</td>\n",
       "    </tr>\n",
       "    <tr>\n",
       "      <th>4</th>\n",
       "      <td>광주광역시</td>\n",
       "      <td>26359</td>\n",
       "    </tr>\n",
       "    <tr>\n",
       "      <th>5</th>\n",
       "      <td>대구광역시</td>\n",
       "      <td>50305</td>\n",
       "    </tr>\n",
       "    <tr>\n",
       "      <th>6</th>\n",
       "      <td>대전광역시</td>\n",
       "      <td>26307</td>\n",
       "    </tr>\n",
       "    <tr>\n",
       "      <th>7</th>\n",
       "      <td>부산광역시</td>\n",
       "      <td>67467</td>\n",
       "    </tr>\n",
       "    <tr>\n",
       "      <th>8</th>\n",
       "      <td>서울특별시</td>\n",
       "      <td>127022</td>\n",
       "    </tr>\n",
       "    <tr>\n",
       "      <th>9</th>\n",
       "      <td>세종특별자치시</td>\n",
       "      <td>4353</td>\n",
       "    </tr>\n",
       "    <tr>\n",
       "      <th>10</th>\n",
       "      <td>울산광역시</td>\n",
       "      <td>26411</td>\n",
       "    </tr>\n",
       "    <tr>\n",
       "      <th>11</th>\n",
       "      <td>인천광역시</td>\n",
       "      <td>55013</td>\n",
       "    </tr>\n",
       "    <tr>\n",
       "      <th>12</th>\n",
       "      <td>전라남도</td>\n",
       "      <td>77662</td>\n",
       "    </tr>\n",
       "    <tr>\n",
       "      <th>13</th>\n",
       "      <td>전라북도</td>\n",
       "      <td>58972</td>\n",
       "    </tr>\n",
       "    <tr>\n",
       "      <th>14</th>\n",
       "      <td>제주특별자치도</td>\n",
       "      <td>24816</td>\n",
       "    </tr>\n",
       "    <tr>\n",
       "      <th>15</th>\n",
       "      <td>충청남도</td>\n",
       "      <td>62993</td>\n",
       "    </tr>\n",
       "    <tr>\n",
       "      <th>16</th>\n",
       "      <td>충청북도</td>\n",
       "      <td>42576</td>\n",
       "    </tr>\n",
       "  </tbody>\n",
       "</table>\n",
       "</div>"
      ],
      "text/plain": [
       "         시도    차대번호\n",
       "0       강원도   48552\n",
       "1       경기도  228518\n",
       "2      경상남도  105070\n",
       "3      경상북도  122492\n",
       "4     광주광역시   26359\n",
       "5     대구광역시   50305\n",
       "6     대전광역시   26307\n",
       "7     부산광역시   67467\n",
       "8     서울특별시  127022\n",
       "9   세종특별자치시    4353\n",
       "10    울산광역시   26411\n",
       "11    인천광역시   55013\n",
       "12     전라남도   77662\n",
       "13     전라북도   58972\n",
       "14  제주특별자치도   24816\n",
       "15     충청남도   62993\n",
       "16     충청북도   42576"
      ]
     },
     "execution_count": 140,
     "metadata": {},
     "output_type": "execute_result"
    }
   ],
   "source": [
    "# 내연기관차\n",
    "stat_gas6 = g5_gas_car_n.groupby('시도', dropna=False)['차대번호'].count().reset_index()\n",
    "stat_gas6"
   ]
  },
  {
   "cell_type": "code",
   "execution_count": 141,
   "metadata": {},
   "outputs": [
    {
     "data": {
      "text/plain": [
       "시도\n",
       "강원도         2983\n",
       "경기도        47261\n",
       "경상남도        3000\n",
       "경상북도        4264\n",
       "광주광역시       1474\n",
       "대구광역시       2689\n",
       "대전광역시       1530\n",
       "부산광역시       3267\n",
       "서울특별시      37467\n",
       "세종특별자치시      328\n",
       "울산광역시        975\n",
       "인천광역시      19761\n",
       "전라남도        3840\n",
       "전라북도        4596\n",
       "제주특별자치도      743\n",
       "충청남도        4370\n",
       "충청북도        2780\n",
       "Name: 차대번호, dtype: int64"
      ]
     },
     "execution_count": 141,
     "metadata": {},
     "output_type": "execute_result"
    }
   ],
   "source": [
    "# 내연기관차 > 저감장치 : DPF\n",
    "stat_gas7 = g5_gas_car_n.loc[g5_gas_car_n['저감장치'] == 'DPF'].groupby('시도')['차대번호'].count()\n",
    "stat_gas7"
   ]
  },
  {
   "cell_type": "code",
   "execution_count": 142,
   "metadata": {},
   "outputs": [
    {
     "data": {
      "text/plain": [
       "시도\n",
       "강원도         21\n",
       "경기도        272\n",
       "경상남도        47\n",
       "경상북도        58\n",
       "광주광역시       31\n",
       "대구광역시       46\n",
       "대전광역시       51\n",
       "부산광역시      293\n",
       "서울특별시      291\n",
       "세종특별자치시     12\n",
       "울산광역시      135\n",
       "인천광역시      237\n",
       "전라남도        35\n",
       "전라북도       151\n",
       "제주특별자치도      5\n",
       "충청남도        63\n",
       "충청북도        48\n",
       "Name: 차대번호, dtype: int64"
      ]
     },
     "execution_count": 142,
     "metadata": {},
     "output_type": "execute_result"
    }
   ],
   "source": [
    "# 내연기관차 > 저감장치 : PM-NOx저감장치\n",
    "stat_gas8 = g5_gas_car_n.loc[g5_gas_car_n['저감장치'] == 'PM-NOx저감장치'].groupby('시도')['차대번호'].count()\n",
    "stat_gas8"
   ]
  },
  {
   "attachments": {},
   "cell_type": "markdown",
   "metadata": {},
   "source": [
    "#### [출력] 내연기관차 대기관리권역별 저감장치 부착이력별(말소 제거) 차량 현황"
   ]
  },
  {
   "cell_type": "code",
   "execution_count": 143,
   "metadata": {},
   "outputs": [
    {
     "data": {
      "text/plain": [
       "'2023.05.18_PM.04.16.07'"
      ]
     },
     "execution_count": 143,
     "metadata": {},
     "output_type": "execute_result"
    }
   ],
   "source": [
    "today_date = datetime.today().strftime(\"%Y.%m.%d_%p.%I.%M.%S\")\n",
    "today_date"
   ]
  },
  {
   "cell_type": "code",
   "execution_count": 144,
   "metadata": {},
   "outputs": [],
   "source": [
    "with pd.ExcelWriter(os.path.join(analysis_fold, f'통계_5등급_내연기관차_시도별_저감장치별(말소제거)({today_date}).xlsx')) as writer:\n",
    "    stat_gas6.to_excel(writer, sheet_name='시도별')\n",
    "    stat_gas7.to_excel(writer, sheet_name='대기관리권역_DPF')\n",
    "    stat_gas8.to_excel(writer, sheet_name='대기관리권역_PM-NOx저감장치')"
   ]
  },
  {
   "attachments": {},
   "cell_type": "markdown",
   "metadata": {},
   "source": [
    "### [출력] 5등급 저감장치 부착 데이터"
   ]
  },
  {
   "cell_type": "code",
   "execution_count": 146,
   "metadata": {},
   "outputs": [
    {
     "data": {
      "text/plain": [
       "(1154888, 20)"
      ]
     },
     "execution_count": 146,
     "metadata": {},
     "output_type": "execute_result"
    }
   ],
   "source": [
    "g5_gas_car_n.shape"
   ]
  },
  {
   "cell_type": "code",
   "execution_count": 147,
   "metadata": {},
   "outputs": [
    {
     "data": {
      "text/plain": [
       "차량말소YN\n",
       "N    1154888\n",
       "Name: count, dtype: int64"
      ]
     },
     "execution_count": 147,
     "metadata": {},
     "output_type": "execute_result"
    }
   ],
   "source": [
    "g5_gas_car_n['차량말소YN'].value_counts(dropna=False)"
   ]
  },
  {
   "cell_type": "code",
   "execution_count": 148,
   "metadata": {},
   "outputs": [
    {
     "data": {
      "text/plain": [
       "Index(['차량등록번호', '본거지법정동코드', '차대번호', '제원관리번호', '배출가스인증번호', '배출가스등급', '차명',\n",
       "       '연료', '차량말소YN', '시도', '시구군', '읍면동', '리', '지역3', '폐지여부', '대기관리권역',\n",
       "       '대기관리권역YN', '말소일자', '조기폐차최종승인YN', '저감장치'],\n",
       "      dtype='object')"
      ]
     },
     "execution_count": 148,
     "metadata": {},
     "output_type": "execute_result"
    }
   ],
   "source": [
    "g5_gas_car_n.columns"
   ]
  },
  {
   "cell_type": "code",
   "execution_count": 150,
   "metadata": {},
   "outputs": [
    {
     "data": {
      "text/plain": [
       "'2023.05.18_PM.04.18.48'"
      ]
     },
     "execution_count": 150,
     "metadata": {},
     "output_type": "execute_result"
    }
   ],
   "source": [
    "today_date = datetime.today().strftime(\"%Y.%m.%d_%p.%I.%M.%S\")\n",
    "today_date"
   ]
  },
  {
   "cell_type": "code",
   "execution_count": 151,
   "metadata": {},
   "outputs": [],
   "source": [
    "# about 6m 11.3s\n",
    "n = 500000\n",
    "g5_gas_car_n.iloc[:n].to_excel(os.path.join(raw_fold, f'BD3-1_5등급차_저감장치현황({today_date})01.xlsx'), index=False)\n",
    "g5_gas_car_n.iloc[n:].to_excel(os.path.join(raw_fold, f'BD3-1_5등급차_저감장치현황({today_date})02.xlsx'), index=False)"
   ]
  },
  {
   "attachments": {},
   "cell_type": "markdown",
   "metadata": {},
   "source": [
    "# code end"
   ]
  }
 ],
 "metadata": {
  "kernelspec": {
   "display_name": "base",
   "language": "python",
   "name": "python3"
  },
  "language_info": {
   "codemirror_mode": {
    "name": "ipython",
    "version": 3
   },
   "file_extension": ".py",
   "mimetype": "text/x-python",
   "name": "python",
   "nbconvert_exporter": "python",
   "pygments_lexer": "ipython3",
   "version": "3.9.13"
  },
  "orig_nbformat": 4,
  "vscode": {
   "interpreter": {
    "hash": "ad2bdc8ecc057115af97d19610ffacc2b4e99fae6737bb82f5d7fb13d2f2c186"
   }
  }
 },
 "nbformat": 4,
 "nbformat_minor": 2
}
