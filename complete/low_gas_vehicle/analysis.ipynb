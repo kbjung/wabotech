{
 "cells": [
  {
   "cell_type": "markdown",
   "metadata": {},
   "source": [
    "# \"저공해차 보급촉진을 위한 제도운영 지원 및 개선방안 마련\" 데이터 분석"
   ]
  },
  {
   "cell_type": "markdown",
   "metadata": {},
   "source": [
    "## library"
   ]
  },
  {
   "cell_type": "code",
   "execution_count": 1,
   "metadata": {},
   "outputs": [],
   "source": [
    "import pandas as pd\n",
    "import numpy as np\n",
    "import matplotlib.pyplot as plt\n",
    "import re\n",
    "from tqdm import tqdm"
   ]
  },
  {
   "cell_type": "code",
   "execution_count": 2,
   "metadata": {},
   "outputs": [],
   "source": [
    "# 소수점 자리 표기 옵션\n",
    "pd.options.display.float_format = '{:.5f}'.format\n",
    "# pd.reset_option('display.float_format')"
   ]
  },
  {
   "cell_type": "markdown",
   "metadata": {},
   "source": [
    "### data load"
   ]
  },
  {
   "cell_type": "code",
   "execution_count": 3,
   "metadata": {},
   "outputs": [],
   "source": [
    "# - 2020년\n",
    "#     - 1월 : 229958\n",
    "#     - 2월 : 180605\n",
    "#     - 3월 : 173919\n",
    "#     - 4월 : 178250\n",
    "#     - 5월 : 193126\n",
    "#     - 6월 : 204171\n",
    "#     - 7월 : 224591\n",
    "#     - 8월 : 259094\n",
    "#     - 9월 : 231712\n",
    "#     - 10월 : 295100\n",
    "#     - 11월 : 303539\n",
    "#     - 12월 : 322549\n",
    "# - 2021년\n",
    "#     - 1월 : 304612\n",
    "#     - 2월 : 276148\n",
    "#     - 3월 : 295915\n",
    "#     - 4월 : 284649\n",
    "#     - 5월 : 288367\n",
    "#     - 6월 : 290878\n",
    "#     - 7월 : 349382\n",
    "#     - 8월 : 358950\n",
    "#     - 9월 : 357788\n",
    "#     - 10월 : 422421\n",
    "#     - 11월 : 479016\n",
    "#     - 12월 : 551719\n",
    "# - 2022년\n",
    "#     - 1월 : 544858\n",
    "#     - 2월 : 465335\n",
    "#     - 3월 : 512731\n",
    "#     - 4월 : 544984\n",
    "#     - 5월 : 593030\n",
    "#     - 6월 : 597657\n",
    "#     - 7월 : 675689\n",
    "#     - 8월 : 675079"
   ]
  },
  {
   "cell_type": "code",
   "execution_count": 5,
   "metadata": {},
   "outputs": [
    {
     "name": "stdout",
     "output_type": "stream",
     "text": [
      "2020년 01월 샘플 : 229958\n",
      "2020년 02월 샘플 : 180605\n",
      "2020년 03월 샘플 : 173919\n",
      "2020년 04월 샘플 : 178250\n",
      "2020년 05월 샘플 : 193126\n",
      "2020년 06월 샘플 : 204171\n",
      "2020년 07월 샘플 : 224591\n",
      "2020년 08월 샘플 : 259094\n",
      "2020년 09월 샘플 : 231712\n",
      "2020년 10월 샘플 : 295100\n",
      "2020년 11월 샘플 : 303539\n",
      "2020년 12월 샘플 : 322549\n",
      "2021년 01월 샘플 : 304612\n",
      "2021년 02월 샘플 : 276148\n",
      "2021년 03월 샘플 : 295915\n",
      "2021년 04월 샘플 : 284649\n",
      "2021년 05월 샘플 : 288367\n",
      "2021년 06월 샘플 : 290878\n",
      "2021년 07월 샘플 : 349382\n",
      "2021년 08월 샘플 : 358950\n",
      "2021년 09월 샘플 : 357788\n",
      "2021년 10월 샘플 : 422421\n",
      "2021년 11월 샘플 : 479016\n",
      "2021년 12월 샘플 : 551719\n",
      "2022년 01월 샘플 : 544858\n",
      "2022년 02월 샘플 : 465335\n",
      "2022년 03월 샘플 : 512731\n",
      "2022년 04월 샘플 : 544984\n",
      "2022년 05월 샘플 : 593030\n",
      "2022년 06월 샘플 : 597657\n",
      "2022년 07월 샘플 : 675689\n",
      "2022년 08월 샘플 : 675079\n"
     ]
    }
   ],
   "source": [
    "total_data = pd.DataFrame()\n",
    "# 2020년 \n",
    "count = 0\n",
    "for m in range(1, 13):\n",
    "    y = 20\n",
    "    s = f'raw/{y}년/20{y}년{m:0>2}월.xlsx'\n",
    "    m_data = pd.read_excel(s)\n",
    "    print(f'20{y}년 {m:0>2}월 샘플 :', m_data.shape[0])\n",
    "    count += m_data.shape[0]\n",
    "    total_data = pd.concat([total_data, m_data], ignore_index=True)\n",
    "# 2021년\n",
    "for m in range(1, 13):\n",
    "    y = 21\n",
    "    s = f'raw/{y}년/{y}년{m:0>2}월.xlsx'\n",
    "    m_data = pd.read_excel(s)\n",
    "    print(f'20{y}년 {m:0>2}월 샘플 :', m_data.shape[0])\n",
    "    count += m_data.shape[0]\n",
    "    total_data = pd.concat([total_data, m_data], ignore_index=True)\n",
    "# 2022년\n",
    "for m in range(1, 9):\n",
    "    y = 22\n",
    "    s = f'raw/{y}년/{y}년{m:0>2}월.xlsx'\n",
    "    m_data = pd.read_excel(s)\n",
    "    print(f'20{y}년 {m:0>2}월 샘플 :', m_data.shape[0])\n",
    "    count += m_data.shape[0]\n",
    "    total_data = pd.concat([total_data, m_data], ignore_index=True)"
   ]
  },
  {
   "cell_type": "code",
   "execution_count": 6,
   "metadata": {},
   "outputs": [
    {
     "name": "stdout",
     "output_type": "stream",
     "text": [
      "개별 데이터 개수 합산 : 11665822\n",
      "총 데이터 개수 : 11665822\n"
     ]
    }
   ],
   "source": [
    "print(f'개별 데이터 개수 합산 : {count}')\n",
    "print(f'총 데이터 개수 : {total_data.shape[0]}')"
   ]
  },
  {
   "cell_type": "code",
   "execution_count": 7,
   "metadata": {},
   "outputs": [
    {
     "name": "stdout",
     "output_type": "stream",
     "text": [
      "<class 'pandas.core.frame.DataFrame'>\n",
      "RangeIndex: 11665822 entries, 0 to 11665821\n",
      "Data columns (total 12 columns):\n",
      " #   Column     Dtype  \n",
      "---  ------     -----  \n",
      " 0   충전소명       object \n",
      " 1   충전기ID      int64  \n",
      " 2   지역         object \n",
      " 3   시군구        object \n",
      " 4   주소         object \n",
      " 5   충전기용량(kW)  float64\n",
      " 6   충전기타입      object \n",
      " 7   충전시작일시     int64  \n",
      " 8   충전종료일시     int64  \n",
      " 9   충전시간       object \n",
      " 10  충전량        float64\n",
      " 11  충전용량       object \n",
      "dtypes: float64(2), int64(3), object(7)\n",
      "memory usage: 1.0+ GB\n"
     ]
    }
   ],
   "source": [
    "total_data.info()"
   ]
  },
  {
   "cell_type": "markdown",
   "metadata": {},
   "source": [
    "#### 데이터 절약"
   ]
  },
  {
   "cell_type": "code",
   "execution_count": 8,
   "metadata": {},
   "outputs": [
    {
     "name": "stdout",
     "output_type": "stream",
     "text": [
      "<class 'pandas.core.frame.DataFrame'>\n",
      "RangeIndex: 11665822 entries, 0 to 11665821\n",
      "Data columns (total 12 columns):\n",
      " #   Column     Dtype  \n",
      "---  ------     -----  \n",
      " 0   충전소명       object \n",
      " 1   충전기ID      int16  \n",
      " 2   지역         object \n",
      " 3   시군구        object \n",
      " 4   주소         object \n",
      " 5   충전기용량(kW)  float64\n",
      " 6   충전기타입      object \n",
      " 7   충전시작일시     int64  \n",
      " 8   충전종료일시     int64  \n",
      " 9   충전시간       object \n",
      " 10  충전량        float64\n",
      " 11  충전용량       object \n",
      "dtypes: float64(2), int16(1), int64(2), object(7)\n",
      "memory usage: 1001.3+ MB\n"
     ]
    }
   ],
   "source": [
    "total_data['충전기ID'] = total_data['충전기ID'].astype('int16')\n",
    "total_data.info()"
   ]
  },
  {
   "cell_type": "markdown",
   "metadata": {},
   "source": [
    "##### 20-22년 병합 데이터 출력"
   ]
  },
  {
   "cell_type": "code",
   "execution_count": 80,
   "metadata": {},
   "outputs": [],
   "source": [
    "total_data.to_csv('2020-22년_급속충전.csv', encoding='utf-8')"
   ]
  },
  {
   "cell_type": "markdown",
   "metadata": {},
   "source": [
    "##### 20-22년 병합 데이터 로드(다시 시작)"
   ]
  },
  {
   "cell_type": "code",
   "execution_count": 638,
   "metadata": {},
   "outputs": [
    {
     "name": "stderr",
     "output_type": "stream",
     "text": [
      "C:\\Users\\kbj\\AppData\\Local\\Temp\\ipykernel_17248\\1573190630.py:1: DtypeWarning: Columns (12) have mixed types. Specify dtype option on import or set low_memory=False.\n",
      "  total_data = pd.read_csv('2020-22년_급속충전.csv')\n"
     ]
    }
   ],
   "source": [
    "# total_data = pd.read_csv('2020-22년_급속충전.csv', index_col=0)\n",
    "# total_data.info()"
   ]
  },
  {
   "cell_type": "code",
   "execution_count": 9,
   "metadata": {},
   "outputs": [
    {
     "name": "stdout",
     "output_type": "stream",
     "text": [
      "<class 'pandas.core.frame.DataFrame'>\n",
      "RangeIndex: 11665822 entries, 0 to 11665821\n",
      "Data columns (total 12 columns):\n",
      " #   Column     Dtype  \n",
      "---  ------     -----  \n",
      " 0   충전소명       object \n",
      " 1   충전기ID      int16  \n",
      " 2   지역         object \n",
      " 3   시군구        object \n",
      " 4   주소         object \n",
      " 5   충전기용량(kW)  float64\n",
      " 6   충전기타입      object \n",
      " 7   충전시작일시     int64  \n",
      " 8   충전종료일시     int64  \n",
      " 9   충전시간       object \n",
      " 10  충전량        float64\n",
      " 11  충전용량       object \n",
      "dtypes: float64(2), int16(1), int64(2), object(7)\n",
      "memory usage: 1001.3+ MB\n"
     ]
    }
   ],
   "source": [
    "df = total_data.copy()\n",
    "df.info()"
   ]
  },
  {
   "cell_type": "markdown",
   "metadata": {},
   "source": [
    "## 전처리\n",
    "- 충전소명 : O\n",
    "- 충전기ID : int64\n",
    "- 지역 : O\n",
    "- 시군구 : O\n",
    "- 주소 : O\n",
    "- 충전기용량(kW) : float64\n",
    "- 충전기타입 : object \n",
    "- 충전시작일시 : int64  \n",
    "- 충전종료일시 : int64  \n",
    "- 충전시간 : object \n",
    "- 충전량 : float64\n",
    "- 충전용량 : object "
   ]
  },
  {
   "cell_type": "markdown",
   "metadata": {},
   "source": [
    "### 특이사항\n",
    "- 2020년 12월까지 충전기용량(kW)가 2021년 1월부터 충전용량으로 변경\n",
    "    - 2020년 12월까지 데이터의 충전기용량(kW) 값을 충전용량으로 이동\n",
    "- 충전용량 표기방법 변경\n",
    "    - 2022년 3월까지 충전용량이 \"100\"으로 , 4월부터 \"급속(100kW멀티)\"으로 입력"
   ]
  },
  {
   "cell_type": "code",
   "execution_count": 10,
   "metadata": {},
   "outputs": [
    {
     "data": {
      "text/html": [
       "<div>\n",
       "<style scoped>\n",
       "    .dataframe tbody tr th:only-of-type {\n",
       "        vertical-align: middle;\n",
       "    }\n",
       "\n",
       "    .dataframe tbody tr th {\n",
       "        vertical-align: top;\n",
       "    }\n",
       "\n",
       "    .dataframe thead th {\n",
       "        text-align: right;\n",
       "    }\n",
       "</style>\n",
       "<table border=\"1\" class=\"dataframe\">\n",
       "  <thead>\n",
       "    <tr style=\"text-align: right;\">\n",
       "      <th></th>\n",
       "      <th>충전소명</th>\n",
       "      <th>충전기ID</th>\n",
       "      <th>지역</th>\n",
       "      <th>시군구</th>\n",
       "      <th>주소</th>\n",
       "      <th>충전기용량(kW)</th>\n",
       "      <th>충전기타입</th>\n",
       "      <th>충전시작일시</th>\n",
       "      <th>충전종료일시</th>\n",
       "      <th>충전시간</th>\n",
       "      <th>충전량</th>\n",
       "      <th>충전용량</th>\n",
       "    </tr>\n",
       "  </thead>\n",
       "  <tbody>\n",
       "    <tr>\n",
       "      <th>0</th>\n",
       "      <td>내린천휴게소 양양방향</td>\n",
       "      <td>1</td>\n",
       "      <td>강원도</td>\n",
       "      <td>인제군</td>\n",
       "      <td>강원도 인제군 상남면 하남리 339-7(양양방향)</td>\n",
       "      <td>50.00000</td>\n",
       "      <td>DC차데모+AC3상+DC콤보</td>\n",
       "      <td>20200117193331</td>\n",
       "      <td>20200117201417</td>\n",
       "      <td>00:40:00</td>\n",
       "      <td>25.47000</td>\n",
       "      <td>NaN</td>\n",
       "    </tr>\n",
       "    <tr>\n",
       "      <th>1</th>\n",
       "      <td>내린천휴게소 양양방향</td>\n",
       "      <td>1</td>\n",
       "      <td>강원도</td>\n",
       "      <td>인제군</td>\n",
       "      <td>강원도 인제군 상남면 하남리 339-7(양양방향)</td>\n",
       "      <td>50.00000</td>\n",
       "      <td>DC차데모+AC3상+DC콤보</td>\n",
       "      <td>20200130143545</td>\n",
       "      <td>20200130150645</td>\n",
       "      <td>00:30:31</td>\n",
       "      <td>17.57000</td>\n",
       "      <td>NaN</td>\n",
       "    </tr>\n",
       "    <tr>\n",
       "      <th>2</th>\n",
       "      <td>내린천휴게소 양양방향</td>\n",
       "      <td>1</td>\n",
       "      <td>강원도</td>\n",
       "      <td>인제군</td>\n",
       "      <td>강원도 인제군 상남면 하남리 339-7(양양방향)</td>\n",
       "      <td>50.00000</td>\n",
       "      <td>DC차데모+AC3상+DC콤보</td>\n",
       "      <td>20200105005728</td>\n",
       "      <td>20200105011329</td>\n",
       "      <td>00:15:35</td>\n",
       "      <td>6.98000</td>\n",
       "      <td>NaN</td>\n",
       "    </tr>\n",
       "    <tr>\n",
       "      <th>3</th>\n",
       "      <td>내린천휴게소 양양방향</td>\n",
       "      <td>3</td>\n",
       "      <td>강원도</td>\n",
       "      <td>인제군</td>\n",
       "      <td>강원도 인제군 상남면 하남리 339-7(양양방향)</td>\n",
       "      <td>100.00000</td>\n",
       "      <td>DC콤보</td>\n",
       "      <td>20200120120215</td>\n",
       "      <td>20200120124708</td>\n",
       "      <td>00:41:00</td>\n",
       "      <td>15.30000</td>\n",
       "      <td>NaN</td>\n",
       "    </tr>\n",
       "    <tr>\n",
       "      <th>4</th>\n",
       "      <td>한국광기술원</td>\n",
       "      <td>1</td>\n",
       "      <td>광주광역시</td>\n",
       "      <td>북구</td>\n",
       "      <td>광주광역시 북구 첨단 벤처로 108번길 9</td>\n",
       "      <td>50.00000</td>\n",
       "      <td>DC차데모+AC3상+DC콤보</td>\n",
       "      <td>20200123085417</td>\n",
       "      <td>20200123092554</td>\n",
       "      <td>00:31:14</td>\n",
       "      <td>21.92000</td>\n",
       "      <td>NaN</td>\n",
       "    </tr>\n",
       "  </tbody>\n",
       "</table>\n",
       "</div>"
      ],
      "text/plain": [
       "          충전소명  충전기ID     지역  시군구                           주소  충전기용량(kW)  \\\n",
       "0  내린천휴게소 양양방향      1    강원도  인제군  강원도 인제군 상남면 하남리 339-7(양양방향)   50.00000   \n",
       "1  내린천휴게소 양양방향      1    강원도  인제군  강원도 인제군 상남면 하남리 339-7(양양방향)   50.00000   \n",
       "2  내린천휴게소 양양방향      1    강원도  인제군  강원도 인제군 상남면 하남리 339-7(양양방향)   50.00000   \n",
       "3  내린천휴게소 양양방향      3    강원도  인제군  강원도 인제군 상남면 하남리 339-7(양양방향)  100.00000   \n",
       "4       한국광기술원      1  광주광역시   북구      광주광역시 북구 첨단 벤처로 108번길 9   50.00000   \n",
       "\n",
       "             충전기타입          충전시작일시          충전종료일시      충전시간      충전량 충전용량  \n",
       "0  DC차데모+AC3상+DC콤보  20200117193331  20200117201417  00:40:00 25.47000  NaN  \n",
       "1  DC차데모+AC3상+DC콤보  20200130143545  20200130150645  00:30:31 17.57000  NaN  \n",
       "2  DC차데모+AC3상+DC콤보  20200105005728  20200105011329  00:15:35  6.98000  NaN  \n",
       "3             DC콤보  20200120120215  20200120124708  00:41:00 15.30000  NaN  \n",
       "4  DC차데모+AC3상+DC콤보  20200123085417  20200123092554  00:31:14 21.92000  NaN  "
      ]
     },
     "execution_count": 10,
     "metadata": {},
     "output_type": "execute_result"
    }
   ],
   "source": [
    "df.head()"
   ]
  },
  {
   "cell_type": "code",
   "execution_count": 11,
   "metadata": {},
   "outputs": [
    {
     "data": {
      "text/html": [
       "<div>\n",
       "<style scoped>\n",
       "    .dataframe tbody tr th:only-of-type {\n",
       "        vertical-align: middle;\n",
       "    }\n",
       "\n",
       "    .dataframe tbody tr th {\n",
       "        vertical-align: top;\n",
       "    }\n",
       "\n",
       "    .dataframe thead th {\n",
       "        text-align: right;\n",
       "    }\n",
       "</style>\n",
       "<table border=\"1\" class=\"dataframe\">\n",
       "  <thead>\n",
       "    <tr style=\"text-align: right;\">\n",
       "      <th></th>\n",
       "      <th>충전소명</th>\n",
       "      <th>충전기ID</th>\n",
       "      <th>지역</th>\n",
       "      <th>시군구</th>\n",
       "      <th>주소</th>\n",
       "      <th>충전기용량(kW)</th>\n",
       "      <th>충전기타입</th>\n",
       "      <th>충전시작일시</th>\n",
       "      <th>충전종료일시</th>\n",
       "      <th>충전시간</th>\n",
       "      <th>충전량</th>\n",
       "      <th>충전용량</th>\n",
       "    </tr>\n",
       "  </thead>\n",
       "  <tbody>\n",
       "    <tr>\n",
       "      <th>2796614</th>\n",
       "      <td>군위휴게소(부산방향)</td>\n",
       "      <td>1</td>\n",
       "      <td>경상북도</td>\n",
       "      <td>군위군</td>\n",
       "      <td>경상북도 군위군 군위읍 경북대로 4084 (오곡리)</td>\n",
       "      <td>NaN</td>\n",
       "      <td>DC차데모+AC3상+DC콤보</td>\n",
       "      <td>20210101092250</td>\n",
       "      <td>20210101095816</td>\n",
       "      <td>00:29:24</td>\n",
       "      <td>11.95000</td>\n",
       "      <td>50.00000</td>\n",
       "    </tr>\n",
       "    <tr>\n",
       "      <th>2796615</th>\n",
       "      <td>충주휴게소(마산방향)</td>\n",
       "      <td>1</td>\n",
       "      <td>충청북도</td>\n",
       "      <td>충주시</td>\n",
       "      <td>충청북도 충주시 중앙탑면 중부내륙고속도로 231 (용전리)</td>\n",
       "      <td>NaN</td>\n",
       "      <td>DC차데모+AC3상+DC콤보</td>\n",
       "      <td>20210101095126</td>\n",
       "      <td>20210101095818</td>\n",
       "      <td>00:06:48</td>\n",
       "      <td>4.86000</td>\n",
       "      <td>50.00000</td>\n",
       "    </tr>\n",
       "    <tr>\n",
       "      <th>2796616</th>\n",
       "      <td>내서읍스포츠센터</td>\n",
       "      <td>1</td>\n",
       "      <td>경상남도</td>\n",
       "      <td>창원시</td>\n",
       "      <td>경상남도 창원시 마산회원구 내서읍 중리 391-3</td>\n",
       "      <td>NaN</td>\n",
       "      <td>DC콤보</td>\n",
       "      <td>20210101094752</td>\n",
       "      <td>20210101095819</td>\n",
       "      <td>00:10:27</td>\n",
       "      <td>3.29000</td>\n",
       "      <td>100.00000</td>\n",
       "    </tr>\n",
       "    <tr>\n",
       "      <th>2796617</th>\n",
       "      <td>삼성혈 인근 공영주차장</td>\n",
       "      <td>1</td>\n",
       "      <td>제주특별자치도</td>\n",
       "      <td>제주시</td>\n",
       "      <td>제주특별자치도 제주시 이도1동 1293-1</td>\n",
       "      <td>NaN</td>\n",
       "      <td>DC차데모+AC3상+DC콤보</td>\n",
       "      <td>20210101091323</td>\n",
       "      <td>20210101095819</td>\n",
       "      <td>00:40:00</td>\n",
       "      <td>7.52000</td>\n",
       "      <td>50.00000</td>\n",
       "    </tr>\n",
       "    <tr>\n",
       "      <th>2796618</th>\n",
       "      <td>본오1동행정복지센터</td>\n",
       "      <td>1</td>\n",
       "      <td>경기도</td>\n",
       "      <td>안산시</td>\n",
       "      <td>경기도 안산시 상록구 샘골로 16</td>\n",
       "      <td>NaN</td>\n",
       "      <td>DC콤보</td>\n",
       "      <td>20210101091559</td>\n",
       "      <td>20210101095835</td>\n",
       "      <td>00:40:00</td>\n",
       "      <td>21.66000</td>\n",
       "      <td>100.00000</td>\n",
       "    </tr>\n",
       "  </tbody>\n",
       "</table>\n",
       "</div>"
      ],
      "text/plain": [
       "                 충전소명  충전기ID       지역  시군구                                주소  \\\n",
       "2796614   군위휴게소(부산방향)      1     경상북도  군위군      경상북도 군위군 군위읍 경북대로 4084 (오곡리)   \n",
       "2796615   충주휴게소(마산방향)      1     충청북도  충주시  충청북도 충주시 중앙탑면 중부내륙고속도로 231 (용전리)   \n",
       "2796616      내서읍스포츠센터      1     경상남도  창원시       경상남도 창원시 마산회원구 내서읍 중리 391-3   \n",
       "2796617  삼성혈 인근 공영주차장      1  제주특별자치도  제주시           제주특별자치도 제주시 이도1동 1293-1   \n",
       "2796618    본오1동행정복지센터      1      경기도  안산시                경기도 안산시 상록구 샘골로 16   \n",
       "\n",
       "         충전기용량(kW)            충전기타입          충전시작일시          충전종료일시      충전시간  \\\n",
       "2796614        NaN  DC차데모+AC3상+DC콤보  20210101092250  20210101095816  00:29:24   \n",
       "2796615        NaN  DC차데모+AC3상+DC콤보  20210101095126  20210101095818  00:06:48   \n",
       "2796616        NaN             DC콤보  20210101094752  20210101095819  00:10:27   \n",
       "2796617        NaN  DC차데모+AC3상+DC콤보  20210101091323  20210101095819  00:40:00   \n",
       "2796618        NaN             DC콤보  20210101091559  20210101095835  00:40:00   \n",
       "\n",
       "             충전량      충전용량  \n",
       "2796614 11.95000  50.00000  \n",
       "2796615  4.86000  50.00000  \n",
       "2796616  3.29000 100.00000  \n",
       "2796617  7.52000  50.00000  \n",
       "2796618 21.66000 100.00000  "
      ]
     },
     "execution_count": 11,
     "metadata": {},
     "output_type": "execute_result"
    }
   ],
   "source": [
    "df[df['충전용량'].notnull() == True].head()"
   ]
  },
  {
   "cell_type": "markdown",
   "metadata": {},
   "source": [
    "### 충전시작시간 정리"
   ]
  },
  {
   "cell_type": "code",
   "execution_count": 12,
   "metadata": {},
   "outputs": [
    {
     "name": "stdout",
     "output_type": "stream",
     "text": [
      "0\n"
     ]
    }
   ],
   "source": [
    "# 충전시작일시의 데이터는 년~초 까지 모두 존재\n",
    "temp = df['충전시작일시'].to_list()\n",
    "temp2 = [str(i) for i in temp]\n",
    "count = 0\n",
    "for one in temp2:\n",
    "    if len(one) == 8:\n",
    "        count += 1\n",
    "print(count)"
   ]
  },
  {
   "cell_type": "code",
   "execution_count": 13,
   "metadata": {},
   "outputs": [
    {
     "data": {
      "text/html": [
       "<div>\n",
       "<style scoped>\n",
       "    .dataframe tbody tr th:only-of-type {\n",
       "        vertical-align: middle;\n",
       "    }\n",
       "\n",
       "    .dataframe tbody tr th {\n",
       "        vertical-align: top;\n",
       "    }\n",
       "\n",
       "    .dataframe thead th {\n",
       "        text-align: right;\n",
       "    }\n",
       "</style>\n",
       "<table border=\"1\" class=\"dataframe\">\n",
       "  <thead>\n",
       "    <tr style=\"text-align: right;\">\n",
       "      <th></th>\n",
       "      <th>충전소명</th>\n",
       "      <th>충전기ID</th>\n",
       "      <th>지역</th>\n",
       "      <th>시군구</th>\n",
       "      <th>주소</th>\n",
       "      <th>충전기용량(kW)</th>\n",
       "      <th>충전기타입</th>\n",
       "      <th>충전시작일시</th>\n",
       "      <th>충전종료일시</th>\n",
       "      <th>충전시간</th>\n",
       "      <th>충전량</th>\n",
       "      <th>충전용량</th>\n",
       "      <th>충전시작_년도</th>\n",
       "      <th>충전시작_월</th>\n",
       "      <th>충전시작_일</th>\n",
       "      <th>충전시작_시</th>\n",
       "      <th>충전시작_분</th>\n",
       "      <th>충전시작_초</th>\n",
       "    </tr>\n",
       "  </thead>\n",
       "  <tbody>\n",
       "    <tr>\n",
       "      <th>0</th>\n",
       "      <td>내린천휴게소 양양방향</td>\n",
       "      <td>1</td>\n",
       "      <td>강원도</td>\n",
       "      <td>인제군</td>\n",
       "      <td>강원도 인제군 상남면 하남리 339-7(양양방향)</td>\n",
       "      <td>50.00000</td>\n",
       "      <td>DC차데모+AC3상+DC콤보</td>\n",
       "      <td>20200117193331</td>\n",
       "      <td>20200117201417</td>\n",
       "      <td>00:40:00</td>\n",
       "      <td>25.47000</td>\n",
       "      <td>NaN</td>\n",
       "      <td>2020</td>\n",
       "      <td>1</td>\n",
       "      <td>17</td>\n",
       "      <td>19</td>\n",
       "      <td>33</td>\n",
       "      <td>31</td>\n",
       "    </tr>\n",
       "    <tr>\n",
       "      <th>1</th>\n",
       "      <td>내린천휴게소 양양방향</td>\n",
       "      <td>1</td>\n",
       "      <td>강원도</td>\n",
       "      <td>인제군</td>\n",
       "      <td>강원도 인제군 상남면 하남리 339-7(양양방향)</td>\n",
       "      <td>50.00000</td>\n",
       "      <td>DC차데모+AC3상+DC콤보</td>\n",
       "      <td>20200130143545</td>\n",
       "      <td>20200130150645</td>\n",
       "      <td>00:30:31</td>\n",
       "      <td>17.57000</td>\n",
       "      <td>NaN</td>\n",
       "      <td>2020</td>\n",
       "      <td>1</td>\n",
       "      <td>30</td>\n",
       "      <td>14</td>\n",
       "      <td>35</td>\n",
       "      <td>45</td>\n",
       "    </tr>\n",
       "    <tr>\n",
       "      <th>2</th>\n",
       "      <td>내린천휴게소 양양방향</td>\n",
       "      <td>1</td>\n",
       "      <td>강원도</td>\n",
       "      <td>인제군</td>\n",
       "      <td>강원도 인제군 상남면 하남리 339-7(양양방향)</td>\n",
       "      <td>50.00000</td>\n",
       "      <td>DC차데모+AC3상+DC콤보</td>\n",
       "      <td>20200105005728</td>\n",
       "      <td>20200105011329</td>\n",
       "      <td>00:15:35</td>\n",
       "      <td>6.98000</td>\n",
       "      <td>NaN</td>\n",
       "      <td>2020</td>\n",
       "      <td>1</td>\n",
       "      <td>5</td>\n",
       "      <td>0</td>\n",
       "      <td>57</td>\n",
       "      <td>28</td>\n",
       "    </tr>\n",
       "    <tr>\n",
       "      <th>3</th>\n",
       "      <td>내린천휴게소 양양방향</td>\n",
       "      <td>3</td>\n",
       "      <td>강원도</td>\n",
       "      <td>인제군</td>\n",
       "      <td>강원도 인제군 상남면 하남리 339-7(양양방향)</td>\n",
       "      <td>100.00000</td>\n",
       "      <td>DC콤보</td>\n",
       "      <td>20200120120215</td>\n",
       "      <td>20200120124708</td>\n",
       "      <td>00:41:00</td>\n",
       "      <td>15.30000</td>\n",
       "      <td>NaN</td>\n",
       "      <td>2020</td>\n",
       "      <td>1</td>\n",
       "      <td>20</td>\n",
       "      <td>12</td>\n",
       "      <td>2</td>\n",
       "      <td>15</td>\n",
       "    </tr>\n",
       "    <tr>\n",
       "      <th>4</th>\n",
       "      <td>한국광기술원</td>\n",
       "      <td>1</td>\n",
       "      <td>광주광역시</td>\n",
       "      <td>북구</td>\n",
       "      <td>광주광역시 북구 첨단 벤처로 108번길 9</td>\n",
       "      <td>50.00000</td>\n",
       "      <td>DC차데모+AC3상+DC콤보</td>\n",
       "      <td>20200123085417</td>\n",
       "      <td>20200123092554</td>\n",
       "      <td>00:31:14</td>\n",
       "      <td>21.92000</td>\n",
       "      <td>NaN</td>\n",
       "      <td>2020</td>\n",
       "      <td>1</td>\n",
       "      <td>23</td>\n",
       "      <td>8</td>\n",
       "      <td>54</td>\n",
       "      <td>17</td>\n",
       "    </tr>\n",
       "  </tbody>\n",
       "</table>\n",
       "</div>"
      ],
      "text/plain": [
       "          충전소명  충전기ID     지역  시군구                           주소  충전기용량(kW)  \\\n",
       "0  내린천휴게소 양양방향      1    강원도  인제군  강원도 인제군 상남면 하남리 339-7(양양방향)   50.00000   \n",
       "1  내린천휴게소 양양방향      1    강원도  인제군  강원도 인제군 상남면 하남리 339-7(양양방향)   50.00000   \n",
       "2  내린천휴게소 양양방향      1    강원도  인제군  강원도 인제군 상남면 하남리 339-7(양양방향)   50.00000   \n",
       "3  내린천휴게소 양양방향      3    강원도  인제군  강원도 인제군 상남면 하남리 339-7(양양방향)  100.00000   \n",
       "4       한국광기술원      1  광주광역시   북구      광주광역시 북구 첨단 벤처로 108번길 9   50.00000   \n",
       "\n",
       "             충전기타입          충전시작일시          충전종료일시      충전시간      충전량 충전용량  \\\n",
       "0  DC차데모+AC3상+DC콤보  20200117193331  20200117201417  00:40:00 25.47000  NaN   \n",
       "1  DC차데모+AC3상+DC콤보  20200130143545  20200130150645  00:30:31 17.57000  NaN   \n",
       "2  DC차데모+AC3상+DC콤보  20200105005728  20200105011329  00:15:35  6.98000  NaN   \n",
       "3             DC콤보  20200120120215  20200120124708  00:41:00 15.30000  NaN   \n",
       "4  DC차데모+AC3상+DC콤보  20200123085417  20200123092554  00:31:14 21.92000  NaN   \n",
       "\n",
       "   충전시작_년도  충전시작_월  충전시작_일  충전시작_시  충전시작_분  충전시작_초  \n",
       "0     2020       1      17      19      33      31  \n",
       "1     2020       1      30      14      35      45  \n",
       "2     2020       1       5       0      57      28  \n",
       "3     2020       1      20      12       2      15  \n",
       "4     2020       1      23       8      54      17  "
      ]
     },
     "execution_count": 13,
     "metadata": {},
     "output_type": "execute_result"
    }
   ],
   "source": [
    "ch_start = df['충전시작일시'].copy()\n",
    "df['충전시작_년도'] = ch_start.astype(str).str[:4].astype(int)\n",
    "df['충전시작_월'] = df['충전시작일시'].astype(str).str[4:6].astype(int)\n",
    "df['충전시작_일'] = df['충전시작일시'].astype(str).str[6:8].astype(int)\n",
    "df['충전시작_시'] = df['충전시작일시'].astype(str).str[8:10].astype(int)\n",
    "df['충전시작_분'] = df['충전시작일시'].astype(str).str[10:12].astype(int)\n",
    "df['충전시작_초'] = df['충전시작일시'].astype(str).str[12:14].astype(int)\n",
    "df.head()"
   ]
  },
  {
   "cell_type": "code",
   "execution_count": 14,
   "metadata": {},
   "outputs": [
    {
     "data": {
      "text/html": [
       "<div>\n",
       "<style scoped>\n",
       "    .dataframe tbody tr th:only-of-type {\n",
       "        vertical-align: middle;\n",
       "    }\n",
       "\n",
       "    .dataframe tbody tr th {\n",
       "        vertical-align: top;\n",
       "    }\n",
       "\n",
       "    .dataframe thead th {\n",
       "        text-align: right;\n",
       "    }\n",
       "</style>\n",
       "<table border=\"1\" class=\"dataframe\">\n",
       "  <thead>\n",
       "    <tr style=\"text-align: right;\">\n",
       "      <th></th>\n",
       "      <th>충전소명</th>\n",
       "      <th>충전기ID</th>\n",
       "      <th>지역</th>\n",
       "      <th>시군구</th>\n",
       "      <th>주소</th>\n",
       "      <th>충전기용량(kW)</th>\n",
       "      <th>충전기타입</th>\n",
       "      <th>충전시작일시</th>\n",
       "      <th>충전종료일시</th>\n",
       "      <th>충전시간</th>\n",
       "      <th>충전량</th>\n",
       "      <th>충전용량</th>\n",
       "      <th>충전시작_년도</th>\n",
       "      <th>충전시작_월</th>\n",
       "      <th>충전시작_일</th>\n",
       "      <th>충전시작_시</th>\n",
       "      <th>충전시작_분</th>\n",
       "      <th>충전시작_초</th>\n",
       "      <th>충전시작일시(변환)</th>\n",
       "    </tr>\n",
       "  </thead>\n",
       "  <tbody>\n",
       "    <tr>\n",
       "      <th>0</th>\n",
       "      <td>내린천휴게소 양양방향</td>\n",
       "      <td>1</td>\n",
       "      <td>강원도</td>\n",
       "      <td>인제군</td>\n",
       "      <td>강원도 인제군 상남면 하남리 339-7(양양방향)</td>\n",
       "      <td>50.00000</td>\n",
       "      <td>DC차데모+AC3상+DC콤보</td>\n",
       "      <td>20200117193331</td>\n",
       "      <td>20200117201417</td>\n",
       "      <td>00:40:00</td>\n",
       "      <td>25.47000</td>\n",
       "      <td>NaN</td>\n",
       "      <td>2020</td>\n",
       "      <td>1</td>\n",
       "      <td>17</td>\n",
       "      <td>19</td>\n",
       "      <td>33</td>\n",
       "      <td>31</td>\n",
       "      <td>2020-1-17 19:33:31</td>\n",
       "    </tr>\n",
       "    <tr>\n",
       "      <th>1</th>\n",
       "      <td>내린천휴게소 양양방향</td>\n",
       "      <td>1</td>\n",
       "      <td>강원도</td>\n",
       "      <td>인제군</td>\n",
       "      <td>강원도 인제군 상남면 하남리 339-7(양양방향)</td>\n",
       "      <td>50.00000</td>\n",
       "      <td>DC차데모+AC3상+DC콤보</td>\n",
       "      <td>20200130143545</td>\n",
       "      <td>20200130150645</td>\n",
       "      <td>00:30:31</td>\n",
       "      <td>17.57000</td>\n",
       "      <td>NaN</td>\n",
       "      <td>2020</td>\n",
       "      <td>1</td>\n",
       "      <td>30</td>\n",
       "      <td>14</td>\n",
       "      <td>35</td>\n",
       "      <td>45</td>\n",
       "      <td>2020-1-30 14:35:45</td>\n",
       "    </tr>\n",
       "    <tr>\n",
       "      <th>2</th>\n",
       "      <td>내린천휴게소 양양방향</td>\n",
       "      <td>1</td>\n",
       "      <td>강원도</td>\n",
       "      <td>인제군</td>\n",
       "      <td>강원도 인제군 상남면 하남리 339-7(양양방향)</td>\n",
       "      <td>50.00000</td>\n",
       "      <td>DC차데모+AC3상+DC콤보</td>\n",
       "      <td>20200105005728</td>\n",
       "      <td>20200105011329</td>\n",
       "      <td>00:15:35</td>\n",
       "      <td>6.98000</td>\n",
       "      <td>NaN</td>\n",
       "      <td>2020</td>\n",
       "      <td>1</td>\n",
       "      <td>5</td>\n",
       "      <td>0</td>\n",
       "      <td>57</td>\n",
       "      <td>28</td>\n",
       "      <td>2020-1-5 0:57:28</td>\n",
       "    </tr>\n",
       "    <tr>\n",
       "      <th>3</th>\n",
       "      <td>내린천휴게소 양양방향</td>\n",
       "      <td>3</td>\n",
       "      <td>강원도</td>\n",
       "      <td>인제군</td>\n",
       "      <td>강원도 인제군 상남면 하남리 339-7(양양방향)</td>\n",
       "      <td>100.00000</td>\n",
       "      <td>DC콤보</td>\n",
       "      <td>20200120120215</td>\n",
       "      <td>20200120124708</td>\n",
       "      <td>00:41:00</td>\n",
       "      <td>15.30000</td>\n",
       "      <td>NaN</td>\n",
       "      <td>2020</td>\n",
       "      <td>1</td>\n",
       "      <td>20</td>\n",
       "      <td>12</td>\n",
       "      <td>2</td>\n",
       "      <td>15</td>\n",
       "      <td>2020-1-20 12:2:15</td>\n",
       "    </tr>\n",
       "    <tr>\n",
       "      <th>4</th>\n",
       "      <td>한국광기술원</td>\n",
       "      <td>1</td>\n",
       "      <td>광주광역시</td>\n",
       "      <td>북구</td>\n",
       "      <td>광주광역시 북구 첨단 벤처로 108번길 9</td>\n",
       "      <td>50.00000</td>\n",
       "      <td>DC차데모+AC3상+DC콤보</td>\n",
       "      <td>20200123085417</td>\n",
       "      <td>20200123092554</td>\n",
       "      <td>00:31:14</td>\n",
       "      <td>21.92000</td>\n",
       "      <td>NaN</td>\n",
       "      <td>2020</td>\n",
       "      <td>1</td>\n",
       "      <td>23</td>\n",
       "      <td>8</td>\n",
       "      <td>54</td>\n",
       "      <td>17</td>\n",
       "      <td>2020-1-23 8:54:17</td>\n",
       "    </tr>\n",
       "  </tbody>\n",
       "</table>\n",
       "</div>"
      ],
      "text/plain": [
       "          충전소명  충전기ID     지역  시군구                           주소  충전기용량(kW)  \\\n",
       "0  내린천휴게소 양양방향      1    강원도  인제군  강원도 인제군 상남면 하남리 339-7(양양방향)   50.00000   \n",
       "1  내린천휴게소 양양방향      1    강원도  인제군  강원도 인제군 상남면 하남리 339-7(양양방향)   50.00000   \n",
       "2  내린천휴게소 양양방향      1    강원도  인제군  강원도 인제군 상남면 하남리 339-7(양양방향)   50.00000   \n",
       "3  내린천휴게소 양양방향      3    강원도  인제군  강원도 인제군 상남면 하남리 339-7(양양방향)  100.00000   \n",
       "4       한국광기술원      1  광주광역시   북구      광주광역시 북구 첨단 벤처로 108번길 9   50.00000   \n",
       "\n",
       "             충전기타입          충전시작일시          충전종료일시      충전시간      충전량 충전용량  \\\n",
       "0  DC차데모+AC3상+DC콤보  20200117193331  20200117201417  00:40:00 25.47000  NaN   \n",
       "1  DC차데모+AC3상+DC콤보  20200130143545  20200130150645  00:30:31 17.57000  NaN   \n",
       "2  DC차데모+AC3상+DC콤보  20200105005728  20200105011329  00:15:35  6.98000  NaN   \n",
       "3             DC콤보  20200120120215  20200120124708  00:41:00 15.30000  NaN   \n",
       "4  DC차데모+AC3상+DC콤보  20200123085417  20200123092554  00:31:14 21.92000  NaN   \n",
       "\n",
       "   충전시작_년도  충전시작_월  충전시작_일  충전시작_시  충전시작_분  충전시작_초          충전시작일시(변환)  \n",
       "0     2020       1      17      19      33      31  2020-1-17 19:33:31  \n",
       "1     2020       1      30      14      35      45  2020-1-30 14:35:45  \n",
       "2     2020       1       5       0      57      28    2020-1-5 0:57:28  \n",
       "3     2020       1      20      12       2      15   2020-1-20 12:2:15  \n",
       "4     2020       1      23       8      54      17   2020-1-23 8:54:17  "
      ]
     },
     "execution_count": 14,
     "metadata": {},
     "output_type": "execute_result"
    }
   ],
   "source": [
    "df['충전시작일시(변환)'] = df['충전시작_년도'].astype(str) + '-' + df['충전시작_월'].astype(str) + '-' + df['충전시작_일'].astype(str) + ' ' + df['충전시작_시'].astype(str) + ':' + df['충전시작_분'].astype(str) + ':' + df['충전시작_초'].astype(str)\n",
    "df.head()"
   ]
  },
  {
   "cell_type": "code",
   "execution_count": 15,
   "metadata": {},
   "outputs": [
    {
     "data": {
      "text/html": [
       "<div>\n",
       "<style scoped>\n",
       "    .dataframe tbody tr th:only-of-type {\n",
       "        vertical-align: middle;\n",
       "    }\n",
       "\n",
       "    .dataframe tbody tr th {\n",
       "        vertical-align: top;\n",
       "    }\n",
       "\n",
       "    .dataframe thead th {\n",
       "        text-align: right;\n",
       "    }\n",
       "</style>\n",
       "<table border=\"1\" class=\"dataframe\">\n",
       "  <thead>\n",
       "    <tr style=\"text-align: right;\">\n",
       "      <th></th>\n",
       "      <th>충전소명</th>\n",
       "      <th>충전기ID</th>\n",
       "      <th>지역</th>\n",
       "      <th>시군구</th>\n",
       "      <th>주소</th>\n",
       "      <th>충전기용량(kW)</th>\n",
       "      <th>충전기타입</th>\n",
       "      <th>충전시작일시</th>\n",
       "      <th>충전종료일시</th>\n",
       "      <th>충전시간</th>\n",
       "      <th>충전량</th>\n",
       "      <th>충전용량</th>\n",
       "      <th>충전시작_년도</th>\n",
       "      <th>충전시작_월</th>\n",
       "      <th>충전시작_일</th>\n",
       "      <th>충전시작_시</th>\n",
       "      <th>충전시작_분</th>\n",
       "      <th>충전시작_초</th>\n",
       "      <th>충전시작일시(변환)</th>\n",
       "    </tr>\n",
       "  </thead>\n",
       "  <tbody>\n",
       "    <tr>\n",
       "      <th>0</th>\n",
       "      <td>내린천휴게소 양양방향</td>\n",
       "      <td>1</td>\n",
       "      <td>강원도</td>\n",
       "      <td>인제군</td>\n",
       "      <td>강원도 인제군 상남면 하남리 339-7(양양방향)</td>\n",
       "      <td>50.00000</td>\n",
       "      <td>DC차데모+AC3상+DC콤보</td>\n",
       "      <td>20200117193331</td>\n",
       "      <td>20200117201417</td>\n",
       "      <td>00:40:00</td>\n",
       "      <td>25.47000</td>\n",
       "      <td>NaN</td>\n",
       "      <td>2020</td>\n",
       "      <td>1</td>\n",
       "      <td>17</td>\n",
       "      <td>19</td>\n",
       "      <td>33</td>\n",
       "      <td>31</td>\n",
       "      <td>2020-01-17 19:33:31</td>\n",
       "    </tr>\n",
       "    <tr>\n",
       "      <th>1</th>\n",
       "      <td>내린천휴게소 양양방향</td>\n",
       "      <td>1</td>\n",
       "      <td>강원도</td>\n",
       "      <td>인제군</td>\n",
       "      <td>강원도 인제군 상남면 하남리 339-7(양양방향)</td>\n",
       "      <td>50.00000</td>\n",
       "      <td>DC차데모+AC3상+DC콤보</td>\n",
       "      <td>20200130143545</td>\n",
       "      <td>20200130150645</td>\n",
       "      <td>00:30:31</td>\n",
       "      <td>17.57000</td>\n",
       "      <td>NaN</td>\n",
       "      <td>2020</td>\n",
       "      <td>1</td>\n",
       "      <td>30</td>\n",
       "      <td>14</td>\n",
       "      <td>35</td>\n",
       "      <td>45</td>\n",
       "      <td>2020-01-30 14:35:45</td>\n",
       "    </tr>\n",
       "    <tr>\n",
       "      <th>2</th>\n",
       "      <td>내린천휴게소 양양방향</td>\n",
       "      <td>1</td>\n",
       "      <td>강원도</td>\n",
       "      <td>인제군</td>\n",
       "      <td>강원도 인제군 상남면 하남리 339-7(양양방향)</td>\n",
       "      <td>50.00000</td>\n",
       "      <td>DC차데모+AC3상+DC콤보</td>\n",
       "      <td>20200105005728</td>\n",
       "      <td>20200105011329</td>\n",
       "      <td>00:15:35</td>\n",
       "      <td>6.98000</td>\n",
       "      <td>NaN</td>\n",
       "      <td>2020</td>\n",
       "      <td>1</td>\n",
       "      <td>5</td>\n",
       "      <td>0</td>\n",
       "      <td>57</td>\n",
       "      <td>28</td>\n",
       "      <td>2020-01-05 00:57:28</td>\n",
       "    </tr>\n",
       "    <tr>\n",
       "      <th>3</th>\n",
       "      <td>내린천휴게소 양양방향</td>\n",
       "      <td>3</td>\n",
       "      <td>강원도</td>\n",
       "      <td>인제군</td>\n",
       "      <td>강원도 인제군 상남면 하남리 339-7(양양방향)</td>\n",
       "      <td>100.00000</td>\n",
       "      <td>DC콤보</td>\n",
       "      <td>20200120120215</td>\n",
       "      <td>20200120124708</td>\n",
       "      <td>00:41:00</td>\n",
       "      <td>15.30000</td>\n",
       "      <td>NaN</td>\n",
       "      <td>2020</td>\n",
       "      <td>1</td>\n",
       "      <td>20</td>\n",
       "      <td>12</td>\n",
       "      <td>2</td>\n",
       "      <td>15</td>\n",
       "      <td>2020-01-20 12:02:15</td>\n",
       "    </tr>\n",
       "    <tr>\n",
       "      <th>4</th>\n",
       "      <td>한국광기술원</td>\n",
       "      <td>1</td>\n",
       "      <td>광주광역시</td>\n",
       "      <td>북구</td>\n",
       "      <td>광주광역시 북구 첨단 벤처로 108번길 9</td>\n",
       "      <td>50.00000</td>\n",
       "      <td>DC차데모+AC3상+DC콤보</td>\n",
       "      <td>20200123085417</td>\n",
       "      <td>20200123092554</td>\n",
       "      <td>00:31:14</td>\n",
       "      <td>21.92000</td>\n",
       "      <td>NaN</td>\n",
       "      <td>2020</td>\n",
       "      <td>1</td>\n",
       "      <td>23</td>\n",
       "      <td>8</td>\n",
       "      <td>54</td>\n",
       "      <td>17</td>\n",
       "      <td>2020-01-23 08:54:17</td>\n",
       "    </tr>\n",
       "  </tbody>\n",
       "</table>\n",
       "</div>"
      ],
      "text/plain": [
       "          충전소명  충전기ID     지역  시군구                           주소  충전기용량(kW)  \\\n",
       "0  내린천휴게소 양양방향      1    강원도  인제군  강원도 인제군 상남면 하남리 339-7(양양방향)   50.00000   \n",
       "1  내린천휴게소 양양방향      1    강원도  인제군  강원도 인제군 상남면 하남리 339-7(양양방향)   50.00000   \n",
       "2  내린천휴게소 양양방향      1    강원도  인제군  강원도 인제군 상남면 하남리 339-7(양양방향)   50.00000   \n",
       "3  내린천휴게소 양양방향      3    강원도  인제군  강원도 인제군 상남면 하남리 339-7(양양방향)  100.00000   \n",
       "4       한국광기술원      1  광주광역시   북구      광주광역시 북구 첨단 벤처로 108번길 9   50.00000   \n",
       "\n",
       "             충전기타입          충전시작일시          충전종료일시      충전시간      충전량 충전용량  \\\n",
       "0  DC차데모+AC3상+DC콤보  20200117193331  20200117201417  00:40:00 25.47000  NaN   \n",
       "1  DC차데모+AC3상+DC콤보  20200130143545  20200130150645  00:30:31 17.57000  NaN   \n",
       "2  DC차데모+AC3상+DC콤보  20200105005728  20200105011329  00:15:35  6.98000  NaN   \n",
       "3             DC콤보  20200120120215  20200120124708  00:41:00 15.30000  NaN   \n",
       "4  DC차데모+AC3상+DC콤보  20200123085417  20200123092554  00:31:14 21.92000  NaN   \n",
       "\n",
       "   충전시작_년도  충전시작_월  충전시작_일  충전시작_시  충전시작_분  충전시작_초          충전시작일시(변환)  \n",
       "0     2020       1      17      19      33      31 2020-01-17 19:33:31  \n",
       "1     2020       1      30      14      35      45 2020-01-30 14:35:45  \n",
       "2     2020       1       5       0      57      28 2020-01-05 00:57:28  \n",
       "3     2020       1      20      12       2      15 2020-01-20 12:02:15  \n",
       "4     2020       1      23       8      54      17 2020-01-23 08:54:17  "
      ]
     },
     "execution_count": 15,
     "metadata": {},
     "output_type": "execute_result"
    }
   ],
   "source": [
    "df['충전시작일시(변환)'] = pd.to_datetime(df['충전시작일시(변환)'])\n",
    "df.head()"
   ]
  },
  {
   "cell_type": "markdown",
   "metadata": {},
   "source": [
    "### 충전종료시간 정리"
   ]
  },
  {
   "cell_type": "code",
   "execution_count": 16,
   "metadata": {},
   "outputs": [
    {
     "data": {
      "text/html": [
       "<div>\n",
       "<style scoped>\n",
       "    .dataframe tbody tr th:only-of-type {\n",
       "        vertical-align: middle;\n",
       "    }\n",
       "\n",
       "    .dataframe tbody tr th {\n",
       "        vertical-align: top;\n",
       "    }\n",
       "\n",
       "    .dataframe thead th {\n",
       "        text-align: right;\n",
       "    }\n",
       "</style>\n",
       "<table border=\"1\" class=\"dataframe\">\n",
       "  <thead>\n",
       "    <tr style=\"text-align: right;\">\n",
       "      <th></th>\n",
       "      <th>충전소명</th>\n",
       "      <th>충전기ID</th>\n",
       "      <th>지역</th>\n",
       "      <th>시군구</th>\n",
       "      <th>주소</th>\n",
       "      <th>충전기용량(kW)</th>\n",
       "      <th>충전기타입</th>\n",
       "      <th>충전시작일시</th>\n",
       "      <th>충전종료일시</th>\n",
       "      <th>충전시간</th>\n",
       "      <th>충전량</th>\n",
       "      <th>충전용량</th>\n",
       "      <th>충전시작_년도</th>\n",
       "      <th>충전시작_월</th>\n",
       "      <th>충전시작_일</th>\n",
       "      <th>충전시작_시</th>\n",
       "      <th>충전시작_분</th>\n",
       "      <th>충전시작_초</th>\n",
       "      <th>충전시작일시(변환)</th>\n",
       "    </tr>\n",
       "  </thead>\n",
       "  <tbody>\n",
       "  </tbody>\n",
       "</table>\n",
       "</div>"
      ],
      "text/plain": [
       "Empty DataFrame\n",
       "Columns: [충전소명, 충전기ID, 지역, 시군구, 주소, 충전기용량(kW), 충전기타입, 충전시작일시, 충전종료일시, 충전시간, 충전량, 충전용량, 충전시작_년도, 충전시작_월, 충전시작_일, 충전시작_시, 충전시작_분, 충전시작_초, 충전시작일시(변환)]\n",
       "Index: []"
      ]
     },
     "execution_count": 16,
     "metadata": {},
     "output_type": "execute_result"
    }
   ],
   "source": [
    "df[df['충전종료일시'] == ' ']"
   ]
  },
  {
   "cell_type": "code",
   "execution_count": 17,
   "metadata": {},
   "outputs": [
    {
     "name": "stdout",
     "output_type": "stream",
     "text": [
      "71311\n"
     ]
    }
   ],
   "source": [
    "# 충전종료일시의 데이터는 년~일까지만 있는 데이터가 71311개 존재\n",
    "    # 해당 데이터 뒤에 시분초를 '000000'으로 추가하는 작업 필요함.\n",
    "temp = df['충전종료일시'].to_list()\n",
    "temp2 = [str(i) for i in temp]\n",
    "count = 0\n",
    "for one in temp2:\n",
    "    if len(one) == 8:\n",
    "        count += 1\n",
    "print(count)"
   ]
  },
  {
   "cell_type": "code",
   "execution_count": 18,
   "metadata": {},
   "outputs": [
    {
     "data": {
      "text/html": [
       "<div>\n",
       "<style scoped>\n",
       "    .dataframe tbody tr th:only-of-type {\n",
       "        vertical-align: middle;\n",
       "    }\n",
       "\n",
       "    .dataframe tbody tr th {\n",
       "        vertical-align: top;\n",
       "    }\n",
       "\n",
       "    .dataframe thead th {\n",
       "        text-align: right;\n",
       "    }\n",
       "</style>\n",
       "<table border=\"1\" class=\"dataframe\">\n",
       "  <thead>\n",
       "    <tr style=\"text-align: right;\">\n",
       "      <th></th>\n",
       "      <th>충전소명</th>\n",
       "      <th>충전기ID</th>\n",
       "      <th>지역</th>\n",
       "      <th>시군구</th>\n",
       "      <th>주소</th>\n",
       "      <th>충전기용량(kW)</th>\n",
       "      <th>충전기타입</th>\n",
       "      <th>충전시작일시</th>\n",
       "      <th>충전종료일시</th>\n",
       "      <th>충전시간</th>\n",
       "      <th>충전량</th>\n",
       "      <th>충전용량</th>\n",
       "      <th>충전시작_년도</th>\n",
       "      <th>충전시작_월</th>\n",
       "      <th>충전시작_일</th>\n",
       "      <th>충전시작_시</th>\n",
       "      <th>충전시작_분</th>\n",
       "      <th>충전시작_초</th>\n",
       "      <th>충전시작일시(변환)</th>\n",
       "    </tr>\n",
       "  </thead>\n",
       "  <tbody>\n",
       "    <tr>\n",
       "      <th>11665817</th>\n",
       "      <td>죽전휴게소(서울방향)</td>\n",
       "      <td>1</td>\n",
       "      <td>경기도</td>\n",
       "      <td>용인시</td>\n",
       "      <td>경기도 용인시 수지구 경부고속도로 400 (죽전동)</td>\n",
       "      <td>NaN</td>\n",
       "      <td>DC차데모+AC3상+DC콤보</td>\n",
       "      <td>20220831235918</td>\n",
       "      <td>20220901004034</td>\n",
       "      <td>00:40:00</td>\n",
       "      <td>31.09000</td>\n",
       "      <td>급속(50kW)</td>\n",
       "      <td>2022</td>\n",
       "      <td>8</td>\n",
       "      <td>31</td>\n",
       "      <td>23</td>\n",
       "      <td>59</td>\n",
       "      <td>18</td>\n",
       "      <td>2022-08-31 23:59:18</td>\n",
       "    </tr>\n",
       "    <tr>\n",
       "      <th>11665818</th>\n",
       "      <td>원주모범운전자회</td>\n",
       "      <td>21</td>\n",
       "      <td>강원도</td>\n",
       "      <td>원주시</td>\n",
       "      <td>강원도 원주시 단구로 150</td>\n",
       "      <td>NaN</td>\n",
       "      <td>DC콤보</td>\n",
       "      <td>20220831235920</td>\n",
       "      <td>20220901001904</td>\n",
       "      <td>00:19:43</td>\n",
       "      <td>46.51000</td>\n",
       "      <td>급속(200kW동시)</td>\n",
       "      <td>2022</td>\n",
       "      <td>8</td>\n",
       "      <td>31</td>\n",
       "      <td>23</td>\n",
       "      <td>59</td>\n",
       "      <td>20</td>\n",
       "      <td>2022-08-31 23:59:20</td>\n",
       "    </tr>\n",
       "    <tr>\n",
       "      <th>11665819</th>\n",
       "      <td>검단2공영주차장</td>\n",
       "      <td>1</td>\n",
       "      <td>인천광역시</td>\n",
       "      <td>서구</td>\n",
       "      <td>인천광역시 서구 당하동 1097-5  검단4동 주민센터 옆</td>\n",
       "      <td>NaN</td>\n",
       "      <td>DC차데모+AC3상+DC콤보</td>\n",
       "      <td>20220831235931</td>\n",
       "      <td>20220901004251</td>\n",
       "      <td>00:40:00</td>\n",
       "      <td>21.97000</td>\n",
       "      <td>급속(50kW)</td>\n",
       "      <td>2022</td>\n",
       "      <td>8</td>\n",
       "      <td>31</td>\n",
       "      <td>23</td>\n",
       "      <td>59</td>\n",
       "      <td>31</td>\n",
       "      <td>2022-08-31 23:59:31</td>\n",
       "    </tr>\n",
       "    <tr>\n",
       "      <th>11665820</th>\n",
       "      <td>강당골 공영주차장</td>\n",
       "      <td>1</td>\n",
       "      <td>대구광역시</td>\n",
       "      <td>남구</td>\n",
       "      <td>대구광역시 남구 봉덕동 1272-18</td>\n",
       "      <td>NaN</td>\n",
       "      <td>DC차데모+AC3상+DC콤보</td>\n",
       "      <td>20220831235934</td>\n",
       "      <td>20220901004057</td>\n",
       "      <td>00:40:00</td>\n",
       "      <td>27.60000</td>\n",
       "      <td>급속(50kW)</td>\n",
       "      <td>2022</td>\n",
       "      <td>8</td>\n",
       "      <td>31</td>\n",
       "      <td>23</td>\n",
       "      <td>59</td>\n",
       "      <td>34</td>\n",
       "      <td>2022-08-31 23:59:34</td>\n",
       "    </tr>\n",
       "    <tr>\n",
       "      <th>11665821</th>\n",
       "      <td>마천동2공영주차장</td>\n",
       "      <td>1</td>\n",
       "      <td>서울특별시</td>\n",
       "      <td>송파구</td>\n",
       "      <td>서울특별시 송파구 성내천로299-7</td>\n",
       "      <td>NaN</td>\n",
       "      <td>DC차데모+AC3상+DC콤보</td>\n",
       "      <td>20220831235946</td>\n",
       "      <td>20220901003700</td>\n",
       "      <td>00:34:09</td>\n",
       "      <td>9.77000</td>\n",
       "      <td>급속(100kW멀티)</td>\n",
       "      <td>2022</td>\n",
       "      <td>8</td>\n",
       "      <td>31</td>\n",
       "      <td>23</td>\n",
       "      <td>59</td>\n",
       "      <td>46</td>\n",
       "      <td>2022-08-31 23:59:46</td>\n",
       "    </tr>\n",
       "  </tbody>\n",
       "</table>\n",
       "</div>"
      ],
      "text/plain": [
       "                 충전소명  충전기ID     지역  시군구                                주소  \\\n",
       "11665817  죽전휴게소(서울방향)      1    경기도  용인시      경기도 용인시 수지구 경부고속도로 400 (죽전동)   \n",
       "11665818     원주모범운전자회     21    강원도  원주시                   강원도 원주시 단구로 150   \n",
       "11665819     검단2공영주차장      1  인천광역시   서구  인천광역시 서구 당하동 1097-5  검단4동 주민센터 옆   \n",
       "11665820    강당골 공영주차장      1  대구광역시   남구              대구광역시 남구 봉덕동 1272-18   \n",
       "11665821    마천동2공영주차장      1  서울특별시  송파구               서울특별시 송파구 성내천로299-7   \n",
       "\n",
       "          충전기용량(kW)            충전기타입          충전시작일시          충전종료일시  \\\n",
       "11665817        NaN  DC차데모+AC3상+DC콤보  20220831235918  20220901004034   \n",
       "11665818        NaN             DC콤보  20220831235920  20220901001904   \n",
       "11665819        NaN  DC차데모+AC3상+DC콤보  20220831235931  20220901004251   \n",
       "11665820        NaN  DC차데모+AC3상+DC콤보  20220831235934  20220901004057   \n",
       "11665821        NaN  DC차데모+AC3상+DC콤보  20220831235946  20220901003700   \n",
       "\n",
       "              충전시간      충전량         충전용량  충전시작_년도  충전시작_월  충전시작_일  충전시작_시  \\\n",
       "11665817  00:40:00 31.09000     급속(50kW)     2022       8      31      23   \n",
       "11665818  00:19:43 46.51000  급속(200kW동시)     2022       8      31      23   \n",
       "11665819  00:40:00 21.97000     급속(50kW)     2022       8      31      23   \n",
       "11665820  00:40:00 27.60000     급속(50kW)     2022       8      31      23   \n",
       "11665821  00:34:09  9.77000  급속(100kW멀티)     2022       8      31      23   \n",
       "\n",
       "          충전시작_분  충전시작_초          충전시작일시(변환)  \n",
       "11665817      59      18 2022-08-31 23:59:18  \n",
       "11665818      59      20 2022-08-31 23:59:20  \n",
       "11665819      59      31 2022-08-31 23:59:31  \n",
       "11665820      59      34 2022-08-31 23:59:34  \n",
       "11665821      59      46 2022-08-31 23:59:46  "
      ]
     },
     "execution_count": 18,
     "metadata": {},
     "output_type": "execute_result"
    }
   ],
   "source": [
    "df.tail()"
   ]
  },
  {
   "cell_type": "code",
   "execution_count": 19,
   "metadata": {},
   "outputs": [
    {
     "name": "stdout",
     "output_type": "stream",
     "text": [
      "<class 'pandas.core.series.Series'>\n",
      "RangeIndex: 11665822 entries, 0 to 11665821\n",
      "Series name: 충전종료일시\n",
      "Non-Null Count     Dtype\n",
      "--------------     -----\n",
      "11665822 non-null  int64\n",
      "dtypes: int64(1)\n",
      "memory usage: 89.0 MB\n"
     ]
    }
   ],
   "source": [
    "df['충전종료일시'].info()"
   ]
  },
  {
   "cell_type": "code",
   "execution_count": 20,
   "metadata": {},
   "outputs": [],
   "source": [
    "temp = df['충전종료일시'].to_list()"
   ]
  },
  {
   "cell_type": "code",
   "execution_count": 21,
   "metadata": {},
   "outputs": [
    {
     "name": "stdout",
     "output_type": "stream",
     "text": [
      "1578\n"
     ]
    }
   ],
   "source": [
    "for i, one in enumerate(temp):\n",
    "    if len(str(one)) == 8:\n",
    "        print(i)\n",
    "        break"
   ]
  },
  {
   "cell_type": "code",
   "execution_count": 22,
   "metadata": {},
   "outputs": [
    {
     "data": {
      "text/plain": [
       "20200118"
      ]
     },
     "execution_count": 22,
     "metadata": {},
     "output_type": "execute_result"
    }
   ],
   "source": [
    "temp[1578]"
   ]
  },
  {
   "cell_type": "code",
   "execution_count": 23,
   "metadata": {},
   "outputs": [
    {
     "data": {
      "text/plain": [
       "20200118"
      ]
     },
     "execution_count": 23,
     "metadata": {},
     "output_type": "execute_result"
    }
   ],
   "source": [
    "df['충전종료일시'][1578]"
   ]
  },
  {
   "cell_type": "code",
   "execution_count": 24,
   "metadata": {},
   "outputs": [
    {
     "data": {
      "text/plain": [
       "'20200118'"
      ]
     },
     "execution_count": 24,
     "metadata": {},
     "output_type": "execute_result"
    }
   ],
   "source": [
    "temp2 = [str(i) for i in temp]\n",
    "temp2[1578]"
   ]
  },
  {
   "cell_type": "code",
   "execution_count": 25,
   "metadata": {},
   "outputs": [
    {
     "data": {
      "text/plain": [
       "11665822"
      ]
     },
     "execution_count": 25,
     "metadata": {},
     "output_type": "execute_result"
    }
   ],
   "source": [
    "for i, one in enumerate(temp2):\n",
    "    if len(one) == 8:\n",
    "        temp2[i] = one + '000000'\n",
    "len(temp2)"
   ]
  },
  {
   "cell_type": "code",
   "execution_count": 26,
   "metadata": {},
   "outputs": [
    {
     "data": {
      "text/plain": [
       "'20200118000000'"
      ]
     },
     "execution_count": 26,
     "metadata": {},
     "output_type": "execute_result"
    }
   ],
   "source": [
    "temp2[1578]"
   ]
  },
  {
   "cell_type": "code",
   "execution_count": 27,
   "metadata": {},
   "outputs": [
    {
     "data": {
      "text/html": [
       "<div>\n",
       "<style scoped>\n",
       "    .dataframe tbody tr th:only-of-type {\n",
       "        vertical-align: middle;\n",
       "    }\n",
       "\n",
       "    .dataframe tbody tr th {\n",
       "        vertical-align: top;\n",
       "    }\n",
       "\n",
       "    .dataframe thead th {\n",
       "        text-align: right;\n",
       "    }\n",
       "</style>\n",
       "<table border=\"1\" class=\"dataframe\">\n",
       "  <thead>\n",
       "    <tr style=\"text-align: right;\">\n",
       "      <th></th>\n",
       "      <th>충전소명</th>\n",
       "      <th>충전기ID</th>\n",
       "      <th>지역</th>\n",
       "      <th>시군구</th>\n",
       "      <th>주소</th>\n",
       "      <th>충전기용량(kW)</th>\n",
       "      <th>충전기타입</th>\n",
       "      <th>충전시작일시</th>\n",
       "      <th>충전종료일시</th>\n",
       "      <th>충전시간</th>\n",
       "      <th>충전량</th>\n",
       "      <th>충전용량</th>\n",
       "      <th>충전시작_년도</th>\n",
       "      <th>충전시작_월</th>\n",
       "      <th>충전시작_일</th>\n",
       "      <th>충전시작_시</th>\n",
       "      <th>충전시작_분</th>\n",
       "      <th>충전시작_초</th>\n",
       "      <th>충전시작일시(변환)</th>\n",
       "    </tr>\n",
       "  </thead>\n",
       "  <tbody>\n",
       "    <tr>\n",
       "      <th>0</th>\n",
       "      <td>내린천휴게소 양양방향</td>\n",
       "      <td>1</td>\n",
       "      <td>강원도</td>\n",
       "      <td>인제군</td>\n",
       "      <td>강원도 인제군 상남면 하남리 339-7(양양방향)</td>\n",
       "      <td>50.00000</td>\n",
       "      <td>DC차데모+AC3상+DC콤보</td>\n",
       "      <td>20200117193331</td>\n",
       "      <td>20200117201417</td>\n",
       "      <td>00:40:00</td>\n",
       "      <td>25.47000</td>\n",
       "      <td>NaN</td>\n",
       "      <td>2020</td>\n",
       "      <td>1</td>\n",
       "      <td>17</td>\n",
       "      <td>19</td>\n",
       "      <td>33</td>\n",
       "      <td>31</td>\n",
       "      <td>2020-01-17 19:33:31</td>\n",
       "    </tr>\n",
       "    <tr>\n",
       "      <th>1</th>\n",
       "      <td>내린천휴게소 양양방향</td>\n",
       "      <td>1</td>\n",
       "      <td>강원도</td>\n",
       "      <td>인제군</td>\n",
       "      <td>강원도 인제군 상남면 하남리 339-7(양양방향)</td>\n",
       "      <td>50.00000</td>\n",
       "      <td>DC차데모+AC3상+DC콤보</td>\n",
       "      <td>20200130143545</td>\n",
       "      <td>20200130150645</td>\n",
       "      <td>00:30:31</td>\n",
       "      <td>17.57000</td>\n",
       "      <td>NaN</td>\n",
       "      <td>2020</td>\n",
       "      <td>1</td>\n",
       "      <td>30</td>\n",
       "      <td>14</td>\n",
       "      <td>35</td>\n",
       "      <td>45</td>\n",
       "      <td>2020-01-30 14:35:45</td>\n",
       "    </tr>\n",
       "    <tr>\n",
       "      <th>2</th>\n",
       "      <td>내린천휴게소 양양방향</td>\n",
       "      <td>1</td>\n",
       "      <td>강원도</td>\n",
       "      <td>인제군</td>\n",
       "      <td>강원도 인제군 상남면 하남리 339-7(양양방향)</td>\n",
       "      <td>50.00000</td>\n",
       "      <td>DC차데모+AC3상+DC콤보</td>\n",
       "      <td>20200105005728</td>\n",
       "      <td>20200105011329</td>\n",
       "      <td>00:15:35</td>\n",
       "      <td>6.98000</td>\n",
       "      <td>NaN</td>\n",
       "      <td>2020</td>\n",
       "      <td>1</td>\n",
       "      <td>5</td>\n",
       "      <td>0</td>\n",
       "      <td>57</td>\n",
       "      <td>28</td>\n",
       "      <td>2020-01-05 00:57:28</td>\n",
       "    </tr>\n",
       "    <tr>\n",
       "      <th>3</th>\n",
       "      <td>내린천휴게소 양양방향</td>\n",
       "      <td>3</td>\n",
       "      <td>강원도</td>\n",
       "      <td>인제군</td>\n",
       "      <td>강원도 인제군 상남면 하남리 339-7(양양방향)</td>\n",
       "      <td>100.00000</td>\n",
       "      <td>DC콤보</td>\n",
       "      <td>20200120120215</td>\n",
       "      <td>20200120124708</td>\n",
       "      <td>00:41:00</td>\n",
       "      <td>15.30000</td>\n",
       "      <td>NaN</td>\n",
       "      <td>2020</td>\n",
       "      <td>1</td>\n",
       "      <td>20</td>\n",
       "      <td>12</td>\n",
       "      <td>2</td>\n",
       "      <td>15</td>\n",
       "      <td>2020-01-20 12:02:15</td>\n",
       "    </tr>\n",
       "    <tr>\n",
       "      <th>4</th>\n",
       "      <td>한국광기술원</td>\n",
       "      <td>1</td>\n",
       "      <td>광주광역시</td>\n",
       "      <td>북구</td>\n",
       "      <td>광주광역시 북구 첨단 벤처로 108번길 9</td>\n",
       "      <td>50.00000</td>\n",
       "      <td>DC차데모+AC3상+DC콤보</td>\n",
       "      <td>20200123085417</td>\n",
       "      <td>20200123092554</td>\n",
       "      <td>00:31:14</td>\n",
       "      <td>21.92000</td>\n",
       "      <td>NaN</td>\n",
       "      <td>2020</td>\n",
       "      <td>1</td>\n",
       "      <td>23</td>\n",
       "      <td>8</td>\n",
       "      <td>54</td>\n",
       "      <td>17</td>\n",
       "      <td>2020-01-23 08:54:17</td>\n",
       "    </tr>\n",
       "  </tbody>\n",
       "</table>\n",
       "</div>"
      ],
      "text/plain": [
       "          충전소명  충전기ID     지역  시군구                           주소  충전기용량(kW)  \\\n",
       "0  내린천휴게소 양양방향      1    강원도  인제군  강원도 인제군 상남면 하남리 339-7(양양방향)   50.00000   \n",
       "1  내린천휴게소 양양방향      1    강원도  인제군  강원도 인제군 상남면 하남리 339-7(양양방향)   50.00000   \n",
       "2  내린천휴게소 양양방향      1    강원도  인제군  강원도 인제군 상남면 하남리 339-7(양양방향)   50.00000   \n",
       "3  내린천휴게소 양양방향      3    강원도  인제군  강원도 인제군 상남면 하남리 339-7(양양방향)  100.00000   \n",
       "4       한국광기술원      1  광주광역시   북구      광주광역시 북구 첨단 벤처로 108번길 9   50.00000   \n",
       "\n",
       "             충전기타입          충전시작일시          충전종료일시      충전시간      충전량 충전용량  \\\n",
       "0  DC차데모+AC3상+DC콤보  20200117193331  20200117201417  00:40:00 25.47000  NaN   \n",
       "1  DC차데모+AC3상+DC콤보  20200130143545  20200130150645  00:30:31 17.57000  NaN   \n",
       "2  DC차데모+AC3상+DC콤보  20200105005728  20200105011329  00:15:35  6.98000  NaN   \n",
       "3             DC콤보  20200120120215  20200120124708  00:41:00 15.30000  NaN   \n",
       "4  DC차데모+AC3상+DC콤보  20200123085417  20200123092554  00:31:14 21.92000  NaN   \n",
       "\n",
       "   충전시작_년도  충전시작_월  충전시작_일  충전시작_시  충전시작_분  충전시작_초          충전시작일시(변환)  \n",
       "0     2020       1      17      19      33      31 2020-01-17 19:33:31  \n",
       "1     2020       1      30      14      35      45 2020-01-30 14:35:45  \n",
       "2     2020       1       5       0      57      28 2020-01-05 00:57:28  \n",
       "3     2020       1      20      12       2      15 2020-01-20 12:02:15  \n",
       "4     2020       1      23       8      54      17 2020-01-23 08:54:17  "
      ]
     },
     "execution_count": 27,
     "metadata": {},
     "output_type": "execute_result"
    }
   ],
   "source": [
    "df['충전종료일시'] = temp2\n",
    "df.head()"
   ]
  },
  {
   "cell_type": "code",
   "execution_count": 30,
   "metadata": {},
   "outputs": [
    {
     "data": {
      "text/plain": [
       "'20200118000000'"
      ]
     },
     "execution_count": 30,
     "metadata": {},
     "output_type": "execute_result"
    }
   ],
   "source": [
    "df['충전종료일시'][1578]"
   ]
  },
  {
   "cell_type": "code",
   "execution_count": 29,
   "metadata": {},
   "outputs": [
    {
     "data": {
      "text/plain": [
       "충전소명                동해웰빙레포츠타운 주차장\n",
       "충전기ID                          21\n",
       "지역                            강원도\n",
       "시군구                           동해시\n",
       "주소                 강원도 동해시 덕골길 10\n",
       "충전기용량(kW)               200.00000\n",
       "충전기타입                        DC콤보\n",
       "충전시작일시             20200118162253\n",
       "충전종료일시             20200118000000\n",
       "충전시간                     00:06:49\n",
       "충전량                       1.91000\n",
       "충전용량                          NaN\n",
       "충전시작_년도                      2020\n",
       "충전시작_월                          1\n",
       "충전시작_일                         18\n",
       "충전시작_시                         16\n",
       "충전시작_분                         22\n",
       "충전시작_초                         53\n",
       "충전시작일시(변환)    2020-01-18 16:22:53\n",
       "Name: 1578, dtype: object"
      ]
     },
     "execution_count": 29,
     "metadata": {},
     "output_type": "execute_result"
    }
   ],
   "source": [
    "df.iloc[1578, :]"
   ]
  },
  {
   "cell_type": "code",
   "execution_count": 31,
   "metadata": {},
   "outputs": [
    {
     "data": {
      "text/html": [
       "<div>\n",
       "<style scoped>\n",
       "    .dataframe tbody tr th:only-of-type {\n",
       "        vertical-align: middle;\n",
       "    }\n",
       "\n",
       "    .dataframe tbody tr th {\n",
       "        vertical-align: top;\n",
       "    }\n",
       "\n",
       "    .dataframe thead th {\n",
       "        text-align: right;\n",
       "    }\n",
       "</style>\n",
       "<table border=\"1\" class=\"dataframe\">\n",
       "  <thead>\n",
       "    <tr style=\"text-align: right;\">\n",
       "      <th></th>\n",
       "      <th>충전소명</th>\n",
       "      <th>충전기ID</th>\n",
       "      <th>지역</th>\n",
       "      <th>시군구</th>\n",
       "      <th>주소</th>\n",
       "      <th>충전기용량(kW)</th>\n",
       "      <th>충전기타입</th>\n",
       "      <th>충전시작일시</th>\n",
       "      <th>충전종료일시</th>\n",
       "      <th>충전시간</th>\n",
       "      <th>...</th>\n",
       "      <th>충전시작_시</th>\n",
       "      <th>충전시작_분</th>\n",
       "      <th>충전시작_초</th>\n",
       "      <th>충전시작일시(변환)</th>\n",
       "      <th>충전종료_년도</th>\n",
       "      <th>충전종료_월</th>\n",
       "      <th>충전종료_일</th>\n",
       "      <th>충전종료_시</th>\n",
       "      <th>충전종료_분</th>\n",
       "      <th>충전종료_초</th>\n",
       "    </tr>\n",
       "  </thead>\n",
       "  <tbody>\n",
       "    <tr>\n",
       "      <th>0</th>\n",
       "      <td>내린천휴게소 양양방향</td>\n",
       "      <td>1</td>\n",
       "      <td>강원도</td>\n",
       "      <td>인제군</td>\n",
       "      <td>강원도 인제군 상남면 하남리 339-7(양양방향)</td>\n",
       "      <td>50.00000</td>\n",
       "      <td>DC차데모+AC3상+DC콤보</td>\n",
       "      <td>20200117193331</td>\n",
       "      <td>20200117201417</td>\n",
       "      <td>00:40:00</td>\n",
       "      <td>...</td>\n",
       "      <td>19</td>\n",
       "      <td>33</td>\n",
       "      <td>31</td>\n",
       "      <td>2020-01-17 19:33:31</td>\n",
       "      <td>2020</td>\n",
       "      <td>1</td>\n",
       "      <td>17</td>\n",
       "      <td>20</td>\n",
       "      <td>14</td>\n",
       "      <td>17</td>\n",
       "    </tr>\n",
       "    <tr>\n",
       "      <th>1</th>\n",
       "      <td>내린천휴게소 양양방향</td>\n",
       "      <td>1</td>\n",
       "      <td>강원도</td>\n",
       "      <td>인제군</td>\n",
       "      <td>강원도 인제군 상남면 하남리 339-7(양양방향)</td>\n",
       "      <td>50.00000</td>\n",
       "      <td>DC차데모+AC3상+DC콤보</td>\n",
       "      <td>20200130143545</td>\n",
       "      <td>20200130150645</td>\n",
       "      <td>00:30:31</td>\n",
       "      <td>...</td>\n",
       "      <td>14</td>\n",
       "      <td>35</td>\n",
       "      <td>45</td>\n",
       "      <td>2020-01-30 14:35:45</td>\n",
       "      <td>2020</td>\n",
       "      <td>1</td>\n",
       "      <td>30</td>\n",
       "      <td>15</td>\n",
       "      <td>6</td>\n",
       "      <td>45</td>\n",
       "    </tr>\n",
       "    <tr>\n",
       "      <th>2</th>\n",
       "      <td>내린천휴게소 양양방향</td>\n",
       "      <td>1</td>\n",
       "      <td>강원도</td>\n",
       "      <td>인제군</td>\n",
       "      <td>강원도 인제군 상남면 하남리 339-7(양양방향)</td>\n",
       "      <td>50.00000</td>\n",
       "      <td>DC차데모+AC3상+DC콤보</td>\n",
       "      <td>20200105005728</td>\n",
       "      <td>20200105011329</td>\n",
       "      <td>00:15:35</td>\n",
       "      <td>...</td>\n",
       "      <td>0</td>\n",
       "      <td>57</td>\n",
       "      <td>28</td>\n",
       "      <td>2020-01-05 00:57:28</td>\n",
       "      <td>2020</td>\n",
       "      <td>1</td>\n",
       "      <td>5</td>\n",
       "      <td>1</td>\n",
       "      <td>13</td>\n",
       "      <td>29</td>\n",
       "    </tr>\n",
       "    <tr>\n",
       "      <th>3</th>\n",
       "      <td>내린천휴게소 양양방향</td>\n",
       "      <td>3</td>\n",
       "      <td>강원도</td>\n",
       "      <td>인제군</td>\n",
       "      <td>강원도 인제군 상남면 하남리 339-7(양양방향)</td>\n",
       "      <td>100.00000</td>\n",
       "      <td>DC콤보</td>\n",
       "      <td>20200120120215</td>\n",
       "      <td>20200120124708</td>\n",
       "      <td>00:41:00</td>\n",
       "      <td>...</td>\n",
       "      <td>12</td>\n",
       "      <td>2</td>\n",
       "      <td>15</td>\n",
       "      <td>2020-01-20 12:02:15</td>\n",
       "      <td>2020</td>\n",
       "      <td>1</td>\n",
       "      <td>20</td>\n",
       "      <td>12</td>\n",
       "      <td>47</td>\n",
       "      <td>8</td>\n",
       "    </tr>\n",
       "    <tr>\n",
       "      <th>4</th>\n",
       "      <td>한국광기술원</td>\n",
       "      <td>1</td>\n",
       "      <td>광주광역시</td>\n",
       "      <td>북구</td>\n",
       "      <td>광주광역시 북구 첨단 벤처로 108번길 9</td>\n",
       "      <td>50.00000</td>\n",
       "      <td>DC차데모+AC3상+DC콤보</td>\n",
       "      <td>20200123085417</td>\n",
       "      <td>20200123092554</td>\n",
       "      <td>00:31:14</td>\n",
       "      <td>...</td>\n",
       "      <td>8</td>\n",
       "      <td>54</td>\n",
       "      <td>17</td>\n",
       "      <td>2020-01-23 08:54:17</td>\n",
       "      <td>2020</td>\n",
       "      <td>1</td>\n",
       "      <td>23</td>\n",
       "      <td>9</td>\n",
       "      <td>25</td>\n",
       "      <td>54</td>\n",
       "    </tr>\n",
       "  </tbody>\n",
       "</table>\n",
       "<p>5 rows × 25 columns</p>\n",
       "</div>"
      ],
      "text/plain": [
       "          충전소명  충전기ID     지역  시군구                           주소  충전기용량(kW)  \\\n",
       "0  내린천휴게소 양양방향      1    강원도  인제군  강원도 인제군 상남면 하남리 339-7(양양방향)   50.00000   \n",
       "1  내린천휴게소 양양방향      1    강원도  인제군  강원도 인제군 상남면 하남리 339-7(양양방향)   50.00000   \n",
       "2  내린천휴게소 양양방향      1    강원도  인제군  강원도 인제군 상남면 하남리 339-7(양양방향)   50.00000   \n",
       "3  내린천휴게소 양양방향      3    강원도  인제군  강원도 인제군 상남면 하남리 339-7(양양방향)  100.00000   \n",
       "4       한국광기술원      1  광주광역시   북구      광주광역시 북구 첨단 벤처로 108번길 9   50.00000   \n",
       "\n",
       "             충전기타입          충전시작일시          충전종료일시      충전시간  ...  충전시작_시  \\\n",
       "0  DC차데모+AC3상+DC콤보  20200117193331  20200117201417  00:40:00  ...      19   \n",
       "1  DC차데모+AC3상+DC콤보  20200130143545  20200130150645  00:30:31  ...      14   \n",
       "2  DC차데모+AC3상+DC콤보  20200105005728  20200105011329  00:15:35  ...       0   \n",
       "3             DC콤보  20200120120215  20200120124708  00:41:00  ...      12   \n",
       "4  DC차데모+AC3상+DC콤보  20200123085417  20200123092554  00:31:14  ...       8   \n",
       "\n",
       "  충전시작_분  충전시작_초          충전시작일시(변환)  충전종료_년도  충전종료_월  충전종료_일  충전종료_시 충전종료_분  \\\n",
       "0     33      31 2020-01-17 19:33:31     2020       1      17      20     14   \n",
       "1     35      45 2020-01-30 14:35:45     2020       1      30      15      6   \n",
       "2     57      28 2020-01-05 00:57:28     2020       1       5       1     13   \n",
       "3      2      15 2020-01-20 12:02:15     2020       1      20      12     47   \n",
       "4     54      17 2020-01-23 08:54:17     2020       1      23       9     25   \n",
       "\n",
       "   충전종료_초  \n",
       "0      17  \n",
       "1      45  \n",
       "2      29  \n",
       "3       8  \n",
       "4      54  \n",
       "\n",
       "[5 rows x 25 columns]"
      ]
     },
     "execution_count": 31,
     "metadata": {},
     "output_type": "execute_result"
    }
   ],
   "source": [
    "ch_time = df['충전종료일시'].copy()\n",
    "df['충전종료_년도'] = ch_time.astype(str).str[:4].astype(int)\n",
    "df['충전종료_월'] = ch_time.astype(str).str[4:6].astype(int)\n",
    "df['충전종료_일'] = ch_time.astype(str).str[6:8].astype(int)\n",
    "df['충전종료_시'] = ch_time.astype(str).str[8:10].astype(int)\n",
    "df['충전종료_분'] = ch_time.astype(str).str[10:12].astype(int)\n",
    "df['충전종료_초'] = ch_time.astype(str).str[12:14].astype(int)\n",
    "df.head()"
   ]
  },
  {
   "cell_type": "code",
   "execution_count": 32,
   "metadata": {},
   "outputs": [
    {
     "data": {
      "text/html": [
       "<div>\n",
       "<style scoped>\n",
       "    .dataframe tbody tr th:only-of-type {\n",
       "        vertical-align: middle;\n",
       "    }\n",
       "\n",
       "    .dataframe tbody tr th {\n",
       "        vertical-align: top;\n",
       "    }\n",
       "\n",
       "    .dataframe thead th {\n",
       "        text-align: right;\n",
       "    }\n",
       "</style>\n",
       "<table border=\"1\" class=\"dataframe\">\n",
       "  <thead>\n",
       "    <tr style=\"text-align: right;\">\n",
       "      <th></th>\n",
       "      <th>충전소명</th>\n",
       "      <th>충전기ID</th>\n",
       "      <th>지역</th>\n",
       "      <th>시군구</th>\n",
       "      <th>주소</th>\n",
       "      <th>충전기용량(kW)</th>\n",
       "      <th>충전기타입</th>\n",
       "      <th>충전시작일시</th>\n",
       "      <th>충전종료일시</th>\n",
       "      <th>충전시간</th>\n",
       "      <th>...</th>\n",
       "      <th>충전시작_시</th>\n",
       "      <th>충전시작_분</th>\n",
       "      <th>충전시작_초</th>\n",
       "      <th>충전시작일시(변환)</th>\n",
       "      <th>충전종료_년도</th>\n",
       "      <th>충전종료_월</th>\n",
       "      <th>충전종료_일</th>\n",
       "      <th>충전종료_시</th>\n",
       "      <th>충전종료_분</th>\n",
       "      <th>충전종료_초</th>\n",
       "    </tr>\n",
       "  </thead>\n",
       "  <tbody>\n",
       "    <tr>\n",
       "      <th>11665817</th>\n",
       "      <td>죽전휴게소(서울방향)</td>\n",
       "      <td>1</td>\n",
       "      <td>경기도</td>\n",
       "      <td>용인시</td>\n",
       "      <td>경기도 용인시 수지구 경부고속도로 400 (죽전동)</td>\n",
       "      <td>NaN</td>\n",
       "      <td>DC차데모+AC3상+DC콤보</td>\n",
       "      <td>20220831235918</td>\n",
       "      <td>20220901004034</td>\n",
       "      <td>00:40:00</td>\n",
       "      <td>...</td>\n",
       "      <td>23</td>\n",
       "      <td>59</td>\n",
       "      <td>18</td>\n",
       "      <td>2022-08-31 23:59:18</td>\n",
       "      <td>2022</td>\n",
       "      <td>9</td>\n",
       "      <td>1</td>\n",
       "      <td>0</td>\n",
       "      <td>40</td>\n",
       "      <td>34</td>\n",
       "    </tr>\n",
       "    <tr>\n",
       "      <th>11665818</th>\n",
       "      <td>원주모범운전자회</td>\n",
       "      <td>21</td>\n",
       "      <td>강원도</td>\n",
       "      <td>원주시</td>\n",
       "      <td>강원도 원주시 단구로 150</td>\n",
       "      <td>NaN</td>\n",
       "      <td>DC콤보</td>\n",
       "      <td>20220831235920</td>\n",
       "      <td>20220901001904</td>\n",
       "      <td>00:19:43</td>\n",
       "      <td>...</td>\n",
       "      <td>23</td>\n",
       "      <td>59</td>\n",
       "      <td>20</td>\n",
       "      <td>2022-08-31 23:59:20</td>\n",
       "      <td>2022</td>\n",
       "      <td>9</td>\n",
       "      <td>1</td>\n",
       "      <td>0</td>\n",
       "      <td>19</td>\n",
       "      <td>4</td>\n",
       "    </tr>\n",
       "    <tr>\n",
       "      <th>11665819</th>\n",
       "      <td>검단2공영주차장</td>\n",
       "      <td>1</td>\n",
       "      <td>인천광역시</td>\n",
       "      <td>서구</td>\n",
       "      <td>인천광역시 서구 당하동 1097-5  검단4동 주민센터 옆</td>\n",
       "      <td>NaN</td>\n",
       "      <td>DC차데모+AC3상+DC콤보</td>\n",
       "      <td>20220831235931</td>\n",
       "      <td>20220901004251</td>\n",
       "      <td>00:40:00</td>\n",
       "      <td>...</td>\n",
       "      <td>23</td>\n",
       "      <td>59</td>\n",
       "      <td>31</td>\n",
       "      <td>2022-08-31 23:59:31</td>\n",
       "      <td>2022</td>\n",
       "      <td>9</td>\n",
       "      <td>1</td>\n",
       "      <td>0</td>\n",
       "      <td>42</td>\n",
       "      <td>51</td>\n",
       "    </tr>\n",
       "    <tr>\n",
       "      <th>11665820</th>\n",
       "      <td>강당골 공영주차장</td>\n",
       "      <td>1</td>\n",
       "      <td>대구광역시</td>\n",
       "      <td>남구</td>\n",
       "      <td>대구광역시 남구 봉덕동 1272-18</td>\n",
       "      <td>NaN</td>\n",
       "      <td>DC차데모+AC3상+DC콤보</td>\n",
       "      <td>20220831235934</td>\n",
       "      <td>20220901004057</td>\n",
       "      <td>00:40:00</td>\n",
       "      <td>...</td>\n",
       "      <td>23</td>\n",
       "      <td>59</td>\n",
       "      <td>34</td>\n",
       "      <td>2022-08-31 23:59:34</td>\n",
       "      <td>2022</td>\n",
       "      <td>9</td>\n",
       "      <td>1</td>\n",
       "      <td>0</td>\n",
       "      <td>40</td>\n",
       "      <td>57</td>\n",
       "    </tr>\n",
       "    <tr>\n",
       "      <th>11665821</th>\n",
       "      <td>마천동2공영주차장</td>\n",
       "      <td>1</td>\n",
       "      <td>서울특별시</td>\n",
       "      <td>송파구</td>\n",
       "      <td>서울특별시 송파구 성내천로299-7</td>\n",
       "      <td>NaN</td>\n",
       "      <td>DC차데모+AC3상+DC콤보</td>\n",
       "      <td>20220831235946</td>\n",
       "      <td>20220901003700</td>\n",
       "      <td>00:34:09</td>\n",
       "      <td>...</td>\n",
       "      <td>23</td>\n",
       "      <td>59</td>\n",
       "      <td>46</td>\n",
       "      <td>2022-08-31 23:59:46</td>\n",
       "      <td>2022</td>\n",
       "      <td>9</td>\n",
       "      <td>1</td>\n",
       "      <td>0</td>\n",
       "      <td>37</td>\n",
       "      <td>0</td>\n",
       "    </tr>\n",
       "  </tbody>\n",
       "</table>\n",
       "<p>5 rows × 25 columns</p>\n",
       "</div>"
      ],
      "text/plain": [
       "                 충전소명  충전기ID     지역  시군구                                주소  \\\n",
       "11665817  죽전휴게소(서울방향)      1    경기도  용인시      경기도 용인시 수지구 경부고속도로 400 (죽전동)   \n",
       "11665818     원주모범운전자회     21    강원도  원주시                   강원도 원주시 단구로 150   \n",
       "11665819     검단2공영주차장      1  인천광역시   서구  인천광역시 서구 당하동 1097-5  검단4동 주민센터 옆   \n",
       "11665820    강당골 공영주차장      1  대구광역시   남구              대구광역시 남구 봉덕동 1272-18   \n",
       "11665821    마천동2공영주차장      1  서울특별시  송파구               서울특별시 송파구 성내천로299-7   \n",
       "\n",
       "          충전기용량(kW)            충전기타입          충전시작일시          충전종료일시  \\\n",
       "11665817        NaN  DC차데모+AC3상+DC콤보  20220831235918  20220901004034   \n",
       "11665818        NaN             DC콤보  20220831235920  20220901001904   \n",
       "11665819        NaN  DC차데모+AC3상+DC콤보  20220831235931  20220901004251   \n",
       "11665820        NaN  DC차데모+AC3상+DC콤보  20220831235934  20220901004057   \n",
       "11665821        NaN  DC차데모+AC3상+DC콤보  20220831235946  20220901003700   \n",
       "\n",
       "              충전시간  ...  충전시작_시 충전시작_분  충전시작_초          충전시작일시(변환)  충전종료_년도  \\\n",
       "11665817  00:40:00  ...      23     59      18 2022-08-31 23:59:18     2022   \n",
       "11665818  00:19:43  ...      23     59      20 2022-08-31 23:59:20     2022   \n",
       "11665819  00:40:00  ...      23     59      31 2022-08-31 23:59:31     2022   \n",
       "11665820  00:40:00  ...      23     59      34 2022-08-31 23:59:34     2022   \n",
       "11665821  00:34:09  ...      23     59      46 2022-08-31 23:59:46     2022   \n",
       "\n",
       "          충전종료_월  충전종료_일  충전종료_시 충전종료_분  충전종료_초  \n",
       "11665817       9       1       0     40      34  \n",
       "11665818       9       1       0     19       4  \n",
       "11665819       9       1       0     42      51  \n",
       "11665820       9       1       0     40      57  \n",
       "11665821       9       1       0     37       0  \n",
       "\n",
       "[5 rows x 25 columns]"
      ]
     },
     "execution_count": 32,
     "metadata": {},
     "output_type": "execute_result"
    }
   ],
   "source": [
    "df.tail()"
   ]
  },
  {
   "cell_type": "markdown",
   "metadata": {},
   "source": [
    "#### 충전종료일시-초 오류 데이터\n",
    "- 1495개"
   ]
  },
  {
   "cell_type": "code",
   "execution_count": 33,
   "metadata": {},
   "outputs": [
    {
     "data": {
      "text/plain": [
       "(1495, 25)"
      ]
     },
     "execution_count": 33,
     "metadata": {},
     "output_type": "execute_result"
    }
   ],
   "source": [
    "df[df['충전종료_초'] >= 60].shape"
   ]
  },
  {
   "cell_type": "code",
   "execution_count": 34,
   "metadata": {},
   "outputs": [
    {
     "data": {
      "text/plain": [
       "1495"
      ]
     },
     "execution_count": 34,
     "metadata": {},
     "output_type": "execute_result"
    }
   ],
   "source": [
    "over_s_idx = df[df['충전종료_초'] >= 60].index\n",
    "len(over_s_idx)"
   ]
  },
  {
   "cell_type": "code",
   "execution_count": 35,
   "metadata": {},
   "outputs": [
    {
     "data": {
      "text/plain": [
       "Int64Index([1960560, 1964993, 1966556, 1976775, 2043371], dtype='int64')"
      ]
     },
     "execution_count": 35,
     "metadata": {},
     "output_type": "execute_result"
    }
   ],
   "source": [
    "over_s_idx[:5]"
   ]
  },
  {
   "cell_type": "code",
   "execution_count": 38,
   "metadata": {},
   "outputs": [
    {
     "data": {
      "text/plain": [
       "충전종료_분    30\n",
       "충전종료_초    99\n",
       "Name: 1960560, dtype: int32"
      ]
     },
     "execution_count": 38,
     "metadata": {},
     "output_type": "execute_result"
    }
   ],
   "source": [
    "df[['충전종료_분', '충전종료_초']].iloc[1960560]"
   ]
  },
  {
   "cell_type": "code",
   "execution_count": 39,
   "metadata": {},
   "outputs": [
    {
     "data": {
      "text/plain": [
       "99"
      ]
     },
     "execution_count": 39,
     "metadata": {},
     "output_type": "execute_result"
    }
   ],
   "source": [
    "df.loc[1960560, '충전종료_초']"
   ]
  },
  {
   "cell_type": "code",
   "execution_count": 40,
   "metadata": {},
   "outputs": [],
   "source": [
    "for i in over_s_idx:\n",
    "    df.loc[i, '충전종료_분'] += 1\n",
    "    df.loc[i, '충전종료_초'] -= 60"
   ]
  },
  {
   "cell_type": "code",
   "execution_count": 42,
   "metadata": {},
   "outputs": [
    {
     "data": {
      "text/plain": [
       "충전종료_분    31\n",
       "충전종료_초    39\n",
       "Name: 1960560, dtype: int32"
      ]
     },
     "execution_count": 42,
     "metadata": {},
     "output_type": "execute_result"
    }
   ],
   "source": [
    "df[['충전종료_분', '충전종료_초']].iloc[1960560]"
   ]
  },
  {
   "cell_type": "markdown",
   "metadata": {},
   "source": [
    "#### 충전종료일시-분 오류 데이터\n",
    "- 3270개"
   ]
  },
  {
   "cell_type": "code",
   "execution_count": 43,
   "metadata": {},
   "outputs": [
    {
     "data": {
      "text/plain": [
       "(3270, 25)"
      ]
     },
     "execution_count": 43,
     "metadata": {},
     "output_type": "execute_result"
    }
   ],
   "source": [
    "df[df['충전종료_분'] >= 60].shape"
   ]
  },
  {
   "cell_type": "code",
   "execution_count": 44,
   "metadata": {},
   "outputs": [
    {
     "data": {
      "text/plain": [
       "3270"
      ]
     },
     "execution_count": 44,
     "metadata": {},
     "output_type": "execute_result"
    }
   ],
   "source": [
    "over_m_idx = df[df['충전종료_분'] >= 60].index\n",
    "len(over_m_idx)"
   ]
  },
  {
   "cell_type": "code",
   "execution_count": 45,
   "metadata": {},
   "outputs": [
    {
     "data": {
      "text/plain": [
       "Int64Index([1964993, 1966556, 1968601, 1968849, 1970888], dtype='int64')"
      ]
     },
     "execution_count": 45,
     "metadata": {},
     "output_type": "execute_result"
    }
   ],
   "source": [
    "over_m_idx[:5]"
   ]
  },
  {
   "cell_type": "code",
   "execution_count": 46,
   "metadata": {},
   "outputs": [
    {
     "data": {
      "text/plain": [
       "충전종료_시    17\n",
       "충전종료_분    65\n",
       "Name: 1964993, dtype: int32"
      ]
     },
     "execution_count": 46,
     "metadata": {},
     "output_type": "execute_result"
    }
   ],
   "source": [
    "df[['충전종료_시', '충전종료_분']].iloc[1964993]"
   ]
  },
  {
   "cell_type": "code",
   "execution_count": 48,
   "metadata": {},
   "outputs": [
    {
     "data": {
      "text/plain": [
       "65"
      ]
     },
     "execution_count": 48,
     "metadata": {},
     "output_type": "execute_result"
    }
   ],
   "source": [
    "df.loc[1964993, '충전종료_분']"
   ]
  },
  {
   "cell_type": "code",
   "execution_count": 49,
   "metadata": {},
   "outputs": [],
   "source": [
    "for i in over_m_idx:\n",
    "    df.loc[i, '충전종료_시'] += 1\n",
    "    df.loc[i, '충전종료_분'] -= 60"
   ]
  },
  {
   "cell_type": "code",
   "execution_count": 50,
   "metadata": {},
   "outputs": [
    {
     "data": {
      "text/plain": [
       "5"
      ]
     },
     "execution_count": 50,
     "metadata": {},
     "output_type": "execute_result"
    }
   ],
   "source": [
    "df.loc[1964993, '충전종료_분']"
   ]
  },
  {
   "cell_type": "code",
   "execution_count": 51,
   "metadata": {},
   "outputs": [
    {
     "data": {
      "text/plain": [
       "충전종료_시    18\n",
       "충전종료_분     5\n",
       "Name: 1964993, dtype: int32"
      ]
     },
     "execution_count": 51,
     "metadata": {},
     "output_type": "execute_result"
    }
   ],
   "source": [
    "df[['충전종료_시', '충전종료_분']].iloc[1964993]"
   ]
  },
  {
   "cell_type": "markdown",
   "metadata": {},
   "source": [
    "#### 충전종료일시-시 오류 데이터\n",
    "- 71개"
   ]
  },
  {
   "cell_type": "code",
   "execution_count": 52,
   "metadata": {},
   "outputs": [
    {
     "data": {
      "text/plain": [
       "(71, 25)"
      ]
     },
     "execution_count": 52,
     "metadata": {},
     "output_type": "execute_result"
    }
   ],
   "source": [
    "df[df['충전종료_시'] >= 24].shape"
   ]
  },
  {
   "cell_type": "code",
   "execution_count": 53,
   "metadata": {},
   "outputs": [
    {
     "data": {
      "text/plain": [
       "71"
      ]
     },
     "execution_count": 53,
     "metadata": {},
     "output_type": "execute_result"
    }
   ],
   "source": [
    "over_h_idx = df[df['충전종료_시'] >= 24].index\n",
    "len(over_h_idx)"
   ]
  },
  {
   "cell_type": "code",
   "execution_count": 54,
   "metadata": {},
   "outputs": [
    {
     "data": {
      "text/plain": [
       "Int64Index([2168170, 2171801, 2189569, 2189571, 2192634], dtype='int64')"
      ]
     },
     "execution_count": 54,
     "metadata": {},
     "output_type": "execute_result"
    }
   ],
   "source": [
    "over_h_idx[:5]"
   ]
  },
  {
   "cell_type": "code",
   "execution_count": 56,
   "metadata": {},
   "outputs": [
    {
     "data": {
      "text/plain": [
       "충전종료_일    30\n",
       "충전종료_시    24\n",
       "Name: 2168170, dtype: int32"
      ]
     },
     "execution_count": 56,
     "metadata": {},
     "output_type": "execute_result"
    }
   ],
   "source": [
    "df[['충전종료_일', '충전종료_시']].iloc[2168170]"
   ]
  },
  {
   "cell_type": "code",
   "execution_count": 57,
   "metadata": {},
   "outputs": [],
   "source": [
    "for i in over_h_idx:\n",
    "    df.loc[i, '충전종료_일'] += 1\n",
    "    df.loc[i, '충전종료_시'] -= 24"
   ]
  },
  {
   "cell_type": "code",
   "execution_count": 58,
   "metadata": {},
   "outputs": [
    {
     "data": {
      "text/plain": [
       "충전종료_일    31\n",
       "충전종료_시     0\n",
       "Name: 2168170, dtype: int32"
      ]
     },
     "execution_count": 58,
     "metadata": {},
     "output_type": "execute_result"
    }
   ],
   "source": [
    "df[['충전종료_일', '충전종료_시']].iloc[2168170]"
   ]
  },
  {
   "cell_type": "markdown",
   "metadata": {},
   "source": [
    "#### 충전종료일시-일 오류 데이터\n",
    "- 3개(index) : 3232880, 2440150, 2775050"
   ]
  },
  {
   "cell_type": "code",
   "execution_count": 59,
   "metadata": {},
   "outputs": [
    {
     "data": {
      "text/plain": [
       "Int64Index([], dtype='int64')"
      ]
     },
     "execution_count": 59,
     "metadata": {},
     "output_type": "execute_result"
    }
   ],
   "source": [
    "df[(df['충전종료_월'] == 1) & (df['충전종료_일'] > 31)].index"
   ]
  },
  {
   "cell_type": "code",
   "execution_count": 60,
   "metadata": {},
   "outputs": [
    {
     "data": {
      "text/plain": [
       "Int64Index([3232880], dtype='int64')"
      ]
     },
     "execution_count": 60,
     "metadata": {},
     "output_type": "execute_result"
    }
   ],
   "source": [
    "df[(df['충전종료_년도'] == 2021) & (df['충전종료_월'] == 2) & (df['충전종료_일'] > 28)].index"
   ]
  },
  {
   "cell_type": "code",
   "execution_count": 61,
   "metadata": {},
   "outputs": [
    {
     "data": {
      "text/plain": [
       "Int64Index([], dtype='int64')"
      ]
     },
     "execution_count": 61,
     "metadata": {},
     "output_type": "execute_result"
    }
   ],
   "source": [
    "df[(df['충전종료_년도'] == 2022) & (df['충전종료_월'] == 2) & (df['충전종료_일'] > 28)].index"
   ]
  },
  {
   "cell_type": "code",
   "execution_count": 62,
   "metadata": {},
   "outputs": [
    {
     "data": {
      "text/plain": [
       "Int64Index([], dtype='int64')"
      ]
     },
     "execution_count": 62,
     "metadata": {},
     "output_type": "execute_result"
    }
   ],
   "source": [
    "# 2020년은 윤년\n",
    "df[(df['충전종료_년도'] == 2020) & (df['충전종료_월'] == 2) & (df['충전종료_일'] > 29)].index"
   ]
  },
  {
   "cell_type": "code",
   "execution_count": 63,
   "metadata": {},
   "outputs": [
    {
     "data": {
      "text/plain": [
       "Int64Index([], dtype='int64')"
      ]
     },
     "execution_count": 63,
     "metadata": {},
     "output_type": "execute_result"
    }
   ],
   "source": [
    "df[(df['충전종료_월'] == 3) & (df['충전종료_일'] > 31)].index"
   ]
  },
  {
   "cell_type": "code",
   "execution_count": 64,
   "metadata": {},
   "outputs": [
    {
     "data": {
      "text/plain": [
       "Int64Index([], dtype='int64')"
      ]
     },
     "execution_count": 64,
     "metadata": {},
     "output_type": "execute_result"
    }
   ],
   "source": [
    "df[(df['충전종료_월'] == 4) & (df['충전종료_일'] > 30)].index"
   ]
  },
  {
   "cell_type": "code",
   "execution_count": 65,
   "metadata": {},
   "outputs": [
    {
     "data": {
      "text/plain": [
       "Int64Index([], dtype='int64')"
      ]
     },
     "execution_count": 65,
     "metadata": {},
     "output_type": "execute_result"
    }
   ],
   "source": [
    "df[(df['충전종료_월'] == 5) & (df['충전종료_일'] > 31)].index"
   ]
  },
  {
   "cell_type": "code",
   "execution_count": 66,
   "metadata": {},
   "outputs": [
    {
     "data": {
      "text/plain": [
       "Int64Index([], dtype='int64')"
      ]
     },
     "execution_count": 66,
     "metadata": {},
     "output_type": "execute_result"
    }
   ],
   "source": [
    "df[(df['충전종료_월'] == 6) & (df['충전종료_일'] > 31)].index"
   ]
  },
  {
   "cell_type": "code",
   "execution_count": 67,
   "metadata": {},
   "outputs": [
    {
     "data": {
      "text/plain": [
       "Int64Index([], dtype='int64')"
      ]
     },
     "execution_count": 67,
     "metadata": {},
     "output_type": "execute_result"
    }
   ],
   "source": [
    "df[(df['충전종료_월'] == 7) & (df['충전종료_일'] > 31)].index"
   ]
  },
  {
   "cell_type": "code",
   "execution_count": 68,
   "metadata": {},
   "outputs": [
    {
     "data": {
      "text/plain": [
       "Int64Index([], dtype='int64')"
      ]
     },
     "execution_count": 68,
     "metadata": {},
     "output_type": "execute_result"
    }
   ],
   "source": [
    "df[(df['충전종료_월'] == 8) & (df['충전종료_일'] > 31)].index"
   ]
  },
  {
   "cell_type": "code",
   "execution_count": 69,
   "metadata": {},
   "outputs": [
    {
     "data": {
      "text/plain": [
       "Int64Index([], dtype='int64')"
      ]
     },
     "execution_count": 69,
     "metadata": {},
     "output_type": "execute_result"
    }
   ],
   "source": [
    "df[(df['충전종료_월'] == 9) & (df['충전종료_일'] > 30)].index"
   ]
  },
  {
   "cell_type": "code",
   "execution_count": 70,
   "metadata": {},
   "outputs": [
    {
     "data": {
      "text/plain": [
       "Int64Index([], dtype='int64')"
      ]
     },
     "execution_count": 70,
     "metadata": {},
     "output_type": "execute_result"
    }
   ],
   "source": [
    "df[(df['충전종료_월'] == 10) & (df['충전종료_일'] > 31)].index"
   ]
  },
  {
   "cell_type": "code",
   "execution_count": 71,
   "metadata": {},
   "outputs": [
    {
     "data": {
      "text/plain": [
       "Int64Index([2440150], dtype='int64')"
      ]
     },
     "execution_count": 71,
     "metadata": {},
     "output_type": "execute_result"
    }
   ],
   "source": [
    "df[(df['충전종료_월'] == 11) & (df['충전종료_일'] > 30)].index"
   ]
  },
  {
   "cell_type": "code",
   "execution_count": 72,
   "metadata": {},
   "outputs": [
    {
     "data": {
      "text/plain": [
       "Int64Index([2775050], dtype='int64')"
      ]
     },
     "execution_count": 72,
     "metadata": {},
     "output_type": "execute_result"
    }
   ],
   "source": [
    "df[(df['충전종료_월'] == 12) & (df['충전종료_일'] > 31)].index"
   ]
  },
  {
   "cell_type": "code",
   "execution_count": 73,
   "metadata": {},
   "outputs": [
    {
     "data": {
      "text/plain": [
       "충전종료_년도    2021\n",
       "충전종료_월        2\n",
       "충전종료_일       29\n",
       "Name: 3232880, dtype: object"
      ]
     },
     "execution_count": 73,
     "metadata": {},
     "output_type": "execute_result"
    }
   ],
   "source": [
    "check_col = ['충전종료_년도', '충전종료_월', '충전종료_일']\n",
    "df.loc[3232880, check_col]"
   ]
  },
  {
   "cell_type": "code",
   "execution_count": 74,
   "metadata": {},
   "outputs": [
    {
     "data": {
      "text/plain": [
       "충전종료_년도    2021\n",
       "충전종료_월        3\n",
       "충전종료_일        1\n",
       "Name: 3232880, dtype: object"
      ]
     },
     "execution_count": 74,
     "metadata": {},
     "output_type": "execute_result"
    }
   ],
   "source": [
    "df.loc[3232880, '충전종료_월'] = 3\n",
    "df.loc[3232880, '충전종료_일'] = 1\n",
    "df.loc[3232880, check_col]"
   ]
  },
  {
   "cell_type": "code",
   "execution_count": 75,
   "metadata": {},
   "outputs": [
    {
     "data": {
      "text/plain": [
       "충전종료_년도    2020\n",
       "충전종료_월       11\n",
       "충전종료_일       31\n",
       "Name: 2440150, dtype: object"
      ]
     },
     "execution_count": 75,
     "metadata": {},
     "output_type": "execute_result"
    }
   ],
   "source": [
    "df.loc[2440150, check_col]"
   ]
  },
  {
   "cell_type": "code",
   "execution_count": 76,
   "metadata": {},
   "outputs": [
    {
     "data": {
      "text/plain": [
       "충전종료_년도    2020\n",
       "충전종료_월       12\n",
       "충전종료_일        1\n",
       "Name: 2440150, dtype: object"
      ]
     },
     "execution_count": 76,
     "metadata": {},
     "output_type": "execute_result"
    }
   ],
   "source": [
    "df.loc[2440150, '충전종료_월'] = 12\n",
    "df.loc[2440150, '충전종료_일'] = 1\n",
    "df.loc[2440150, check_col]"
   ]
  },
  {
   "cell_type": "code",
   "execution_count": 77,
   "metadata": {},
   "outputs": [
    {
     "data": {
      "text/plain": [
       "충전종료_년도    2020\n",
       "충전종료_월       12\n",
       "충전종료_일       32\n",
       "Name: 2775050, dtype: object"
      ]
     },
     "execution_count": 77,
     "metadata": {},
     "output_type": "execute_result"
    }
   ],
   "source": [
    "df.loc[2775050, check_col]"
   ]
  },
  {
   "cell_type": "code",
   "execution_count": 78,
   "metadata": {},
   "outputs": [
    {
     "data": {
      "text/plain": [
       "충전종료_년도    2021\n",
       "충전종료_월        1\n",
       "충전종료_일        1\n",
       "Name: 2775050, dtype: object"
      ]
     },
     "execution_count": 78,
     "metadata": {},
     "output_type": "execute_result"
    }
   ],
   "source": [
    "df.loc[2775050, '충전종료_년도'] = 2021\n",
    "df.loc[2775050, '충전종료_월'] = 1\n",
    "df.loc[2775050, '충전종료_일'] = 1\n",
    "df.loc[2775050, check_col]"
   ]
  },
  {
   "cell_type": "markdown",
   "metadata": {},
   "source": [
    "#### 충전종료시간(변환)"
   ]
  },
  {
   "cell_type": "code",
   "execution_count": 80,
   "metadata": {},
   "outputs": [
    {
     "data": {
      "text/html": [
       "<div>\n",
       "<style scoped>\n",
       "    .dataframe tbody tr th:only-of-type {\n",
       "        vertical-align: middle;\n",
       "    }\n",
       "\n",
       "    .dataframe tbody tr th {\n",
       "        vertical-align: top;\n",
       "    }\n",
       "\n",
       "    .dataframe thead th {\n",
       "        text-align: right;\n",
       "    }\n",
       "</style>\n",
       "<table border=\"1\" class=\"dataframe\">\n",
       "  <thead>\n",
       "    <tr style=\"text-align: right;\">\n",
       "      <th></th>\n",
       "      <th>충전종료일시</th>\n",
       "      <th>충전시간</th>\n",
       "      <th>충전량</th>\n",
       "      <th>충전용량</th>\n",
       "      <th>충전시작_년도</th>\n",
       "      <th>충전시작_월</th>\n",
       "      <th>충전시작_일</th>\n",
       "      <th>충전시작_시</th>\n",
       "      <th>충전시작_분</th>\n",
       "      <th>충전시작_초</th>\n",
       "      <th>충전시작일시(변환)</th>\n",
       "      <th>충전종료_년도</th>\n",
       "      <th>충전종료_월</th>\n",
       "      <th>충전종료_일</th>\n",
       "      <th>충전종료_시</th>\n",
       "      <th>충전종료_분</th>\n",
       "      <th>충전종료_초</th>\n",
       "      <th>충전종료일시(변환)</th>\n",
       "    </tr>\n",
       "  </thead>\n",
       "  <tbody>\n",
       "    <tr>\n",
       "      <th>0</th>\n",
       "      <td>20200117201417</td>\n",
       "      <td>00:40:00</td>\n",
       "      <td>25.47000</td>\n",
       "      <td>NaN</td>\n",
       "      <td>2020</td>\n",
       "      <td>1</td>\n",
       "      <td>17</td>\n",
       "      <td>19</td>\n",
       "      <td>33</td>\n",
       "      <td>31</td>\n",
       "      <td>2020-01-17 19:33:31</td>\n",
       "      <td>2020</td>\n",
       "      <td>1</td>\n",
       "      <td>17</td>\n",
       "      <td>20</td>\n",
       "      <td>14</td>\n",
       "      <td>17</td>\n",
       "      <td>2020-1-17 20:14:17</td>\n",
       "    </tr>\n",
       "    <tr>\n",
       "      <th>1</th>\n",
       "      <td>20200130150645</td>\n",
       "      <td>00:30:31</td>\n",
       "      <td>17.57000</td>\n",
       "      <td>NaN</td>\n",
       "      <td>2020</td>\n",
       "      <td>1</td>\n",
       "      <td>30</td>\n",
       "      <td>14</td>\n",
       "      <td>35</td>\n",
       "      <td>45</td>\n",
       "      <td>2020-01-30 14:35:45</td>\n",
       "      <td>2020</td>\n",
       "      <td>1</td>\n",
       "      <td>30</td>\n",
       "      <td>15</td>\n",
       "      <td>6</td>\n",
       "      <td>45</td>\n",
       "      <td>2020-1-30 15:6:45</td>\n",
       "    </tr>\n",
       "    <tr>\n",
       "      <th>2</th>\n",
       "      <td>20200105011329</td>\n",
       "      <td>00:15:35</td>\n",
       "      <td>6.98000</td>\n",
       "      <td>NaN</td>\n",
       "      <td>2020</td>\n",
       "      <td>1</td>\n",
       "      <td>5</td>\n",
       "      <td>0</td>\n",
       "      <td>57</td>\n",
       "      <td>28</td>\n",
       "      <td>2020-01-05 00:57:28</td>\n",
       "      <td>2020</td>\n",
       "      <td>1</td>\n",
       "      <td>5</td>\n",
       "      <td>1</td>\n",
       "      <td>13</td>\n",
       "      <td>29</td>\n",
       "      <td>2020-1-5 1:13:29</td>\n",
       "    </tr>\n",
       "    <tr>\n",
       "      <th>3</th>\n",
       "      <td>20200120124708</td>\n",
       "      <td>00:41:00</td>\n",
       "      <td>15.30000</td>\n",
       "      <td>NaN</td>\n",
       "      <td>2020</td>\n",
       "      <td>1</td>\n",
       "      <td>20</td>\n",
       "      <td>12</td>\n",
       "      <td>2</td>\n",
       "      <td>15</td>\n",
       "      <td>2020-01-20 12:02:15</td>\n",
       "      <td>2020</td>\n",
       "      <td>1</td>\n",
       "      <td>20</td>\n",
       "      <td>12</td>\n",
       "      <td>47</td>\n",
       "      <td>8</td>\n",
       "      <td>2020-1-20 12:47:8</td>\n",
       "    </tr>\n",
       "    <tr>\n",
       "      <th>4</th>\n",
       "      <td>20200123092554</td>\n",
       "      <td>00:31:14</td>\n",
       "      <td>21.92000</td>\n",
       "      <td>NaN</td>\n",
       "      <td>2020</td>\n",
       "      <td>1</td>\n",
       "      <td>23</td>\n",
       "      <td>8</td>\n",
       "      <td>54</td>\n",
       "      <td>17</td>\n",
       "      <td>2020-01-23 08:54:17</td>\n",
       "      <td>2020</td>\n",
       "      <td>1</td>\n",
       "      <td>23</td>\n",
       "      <td>9</td>\n",
       "      <td>25</td>\n",
       "      <td>54</td>\n",
       "      <td>2020-1-23 9:25:54</td>\n",
       "    </tr>\n",
       "  </tbody>\n",
       "</table>\n",
       "</div>"
      ],
      "text/plain": [
       "           충전종료일시      충전시간      충전량 충전용량  충전시작_년도  충전시작_월  충전시작_일  충전시작_시  \\\n",
       "0  20200117201417  00:40:00 25.47000  NaN     2020       1      17      19   \n",
       "1  20200130150645  00:30:31 17.57000  NaN     2020       1      30      14   \n",
       "2  20200105011329  00:15:35  6.98000  NaN     2020       1       5       0   \n",
       "3  20200120124708  00:41:00 15.30000  NaN     2020       1      20      12   \n",
       "4  20200123092554  00:31:14 21.92000  NaN     2020       1      23       8   \n",
       "\n",
       "   충전시작_분  충전시작_초          충전시작일시(변환)  충전종료_년도  충전종료_월  충전종료_일  충전종료_시  \\\n",
       "0      33      31 2020-01-17 19:33:31     2020       1      17      20   \n",
       "1      35      45 2020-01-30 14:35:45     2020       1      30      15   \n",
       "2      57      28 2020-01-05 00:57:28     2020       1       5       1   \n",
       "3       2      15 2020-01-20 12:02:15     2020       1      20      12   \n",
       "4      54      17 2020-01-23 08:54:17     2020       1      23       9   \n",
       "\n",
       "   충전종료_분  충전종료_초          충전종료일시(변환)  \n",
       "0      14      17  2020-1-17 20:14:17  \n",
       "1       6      45   2020-1-30 15:6:45  \n",
       "2      13      29    2020-1-5 1:13:29  \n",
       "3      47       8   2020-1-20 12:47:8  \n",
       "4      25      54   2020-1-23 9:25:54  "
      ]
     },
     "execution_count": 80,
     "metadata": {},
     "output_type": "execute_result"
    }
   ],
   "source": [
    "df['충전종료일시(변환)'] = df['충전종료_년도'].astype(str) + '-' +  df['충전종료_월'].astype(str) + '-' + df['충전종료_일'].astype(str) + ' ' + df['충전종료_시'].astype(str) + ':' + df['충전종료_분'].astype(str) + ':' + df['충전종료_초'].astype(str)\n",
    "df.iloc[:5,8:]"
   ]
  },
  {
   "cell_type": "code",
   "execution_count": 81,
   "metadata": {},
   "outputs": [],
   "source": [
    "df['충전종료일시(변환)'] = pd.to_datetime(df['충전종료일시(변환)'])"
   ]
  },
  {
   "cell_type": "code",
   "execution_count": 82,
   "metadata": {},
   "outputs": [
    {
     "data": {
      "text/html": [
       "<div>\n",
       "<style scoped>\n",
       "    .dataframe tbody tr th:only-of-type {\n",
       "        vertical-align: middle;\n",
       "    }\n",
       "\n",
       "    .dataframe tbody tr th {\n",
       "        vertical-align: top;\n",
       "    }\n",
       "\n",
       "    .dataframe thead th {\n",
       "        text-align: right;\n",
       "    }\n",
       "</style>\n",
       "<table border=\"1\" class=\"dataframe\">\n",
       "  <thead>\n",
       "    <tr style=\"text-align: right;\">\n",
       "      <th></th>\n",
       "      <th>충전소명</th>\n",
       "      <th>충전기ID</th>\n",
       "      <th>지역</th>\n",
       "      <th>시군구</th>\n",
       "      <th>주소</th>\n",
       "      <th>충전기용량(kW)</th>\n",
       "      <th>충전기타입</th>\n",
       "      <th>충전시작일시</th>\n",
       "      <th>충전종료일시</th>\n",
       "      <th>충전시간</th>\n",
       "      <th>...</th>\n",
       "      <th>충전시작_초</th>\n",
       "      <th>충전시작일시(변환)</th>\n",
       "      <th>충전종료_년도</th>\n",
       "      <th>충전종료_월</th>\n",
       "      <th>충전종료_일</th>\n",
       "      <th>충전종료_시</th>\n",
       "      <th>충전종료_분</th>\n",
       "      <th>충전종료_초</th>\n",
       "      <th>충전종료일시(변환)</th>\n",
       "      <th>충전시간(계산)</th>\n",
       "    </tr>\n",
       "  </thead>\n",
       "  <tbody>\n",
       "    <tr>\n",
       "      <th>0</th>\n",
       "      <td>내린천휴게소 양양방향</td>\n",
       "      <td>1</td>\n",
       "      <td>강원도</td>\n",
       "      <td>인제군</td>\n",
       "      <td>강원도 인제군 상남면 하남리 339-7(양양방향)</td>\n",
       "      <td>50.00000</td>\n",
       "      <td>DC차데모+AC3상+DC콤보</td>\n",
       "      <td>20200117193331</td>\n",
       "      <td>20200117201417</td>\n",
       "      <td>00:40:00</td>\n",
       "      <td>...</td>\n",
       "      <td>31</td>\n",
       "      <td>2020-01-17 19:33:31</td>\n",
       "      <td>2020</td>\n",
       "      <td>1</td>\n",
       "      <td>17</td>\n",
       "      <td>20</td>\n",
       "      <td>14</td>\n",
       "      <td>17</td>\n",
       "      <td>2020-01-17 20:14:17</td>\n",
       "      <td>0 days 00:40:46</td>\n",
       "    </tr>\n",
       "    <tr>\n",
       "      <th>1</th>\n",
       "      <td>내린천휴게소 양양방향</td>\n",
       "      <td>1</td>\n",
       "      <td>강원도</td>\n",
       "      <td>인제군</td>\n",
       "      <td>강원도 인제군 상남면 하남리 339-7(양양방향)</td>\n",
       "      <td>50.00000</td>\n",
       "      <td>DC차데모+AC3상+DC콤보</td>\n",
       "      <td>20200130143545</td>\n",
       "      <td>20200130150645</td>\n",
       "      <td>00:30:31</td>\n",
       "      <td>...</td>\n",
       "      <td>45</td>\n",
       "      <td>2020-01-30 14:35:45</td>\n",
       "      <td>2020</td>\n",
       "      <td>1</td>\n",
       "      <td>30</td>\n",
       "      <td>15</td>\n",
       "      <td>6</td>\n",
       "      <td>45</td>\n",
       "      <td>2020-01-30 15:06:45</td>\n",
       "      <td>0 days 00:31:00</td>\n",
       "    </tr>\n",
       "    <tr>\n",
       "      <th>2</th>\n",
       "      <td>내린천휴게소 양양방향</td>\n",
       "      <td>1</td>\n",
       "      <td>강원도</td>\n",
       "      <td>인제군</td>\n",
       "      <td>강원도 인제군 상남면 하남리 339-7(양양방향)</td>\n",
       "      <td>50.00000</td>\n",
       "      <td>DC차데모+AC3상+DC콤보</td>\n",
       "      <td>20200105005728</td>\n",
       "      <td>20200105011329</td>\n",
       "      <td>00:15:35</td>\n",
       "      <td>...</td>\n",
       "      <td>28</td>\n",
       "      <td>2020-01-05 00:57:28</td>\n",
       "      <td>2020</td>\n",
       "      <td>1</td>\n",
       "      <td>5</td>\n",
       "      <td>1</td>\n",
       "      <td>13</td>\n",
       "      <td>29</td>\n",
       "      <td>2020-01-05 01:13:29</td>\n",
       "      <td>0 days 00:16:01</td>\n",
       "    </tr>\n",
       "    <tr>\n",
       "      <th>3</th>\n",
       "      <td>내린천휴게소 양양방향</td>\n",
       "      <td>3</td>\n",
       "      <td>강원도</td>\n",
       "      <td>인제군</td>\n",
       "      <td>강원도 인제군 상남면 하남리 339-7(양양방향)</td>\n",
       "      <td>100.00000</td>\n",
       "      <td>DC콤보</td>\n",
       "      <td>20200120120215</td>\n",
       "      <td>20200120124708</td>\n",
       "      <td>00:41:00</td>\n",
       "      <td>...</td>\n",
       "      <td>15</td>\n",
       "      <td>2020-01-20 12:02:15</td>\n",
       "      <td>2020</td>\n",
       "      <td>1</td>\n",
       "      <td>20</td>\n",
       "      <td>12</td>\n",
       "      <td>47</td>\n",
       "      <td>8</td>\n",
       "      <td>2020-01-20 12:47:08</td>\n",
       "      <td>0 days 00:44:53</td>\n",
       "    </tr>\n",
       "    <tr>\n",
       "      <th>4</th>\n",
       "      <td>한국광기술원</td>\n",
       "      <td>1</td>\n",
       "      <td>광주광역시</td>\n",
       "      <td>북구</td>\n",
       "      <td>광주광역시 북구 첨단 벤처로 108번길 9</td>\n",
       "      <td>50.00000</td>\n",
       "      <td>DC차데모+AC3상+DC콤보</td>\n",
       "      <td>20200123085417</td>\n",
       "      <td>20200123092554</td>\n",
       "      <td>00:31:14</td>\n",
       "      <td>...</td>\n",
       "      <td>17</td>\n",
       "      <td>2020-01-23 08:54:17</td>\n",
       "      <td>2020</td>\n",
       "      <td>1</td>\n",
       "      <td>23</td>\n",
       "      <td>9</td>\n",
       "      <td>25</td>\n",
       "      <td>54</td>\n",
       "      <td>2020-01-23 09:25:54</td>\n",
       "      <td>0 days 00:31:37</td>\n",
       "    </tr>\n",
       "  </tbody>\n",
       "</table>\n",
       "<p>5 rows × 27 columns</p>\n",
       "</div>"
      ],
      "text/plain": [
       "          충전소명  충전기ID     지역  시군구                           주소  충전기용량(kW)  \\\n",
       "0  내린천휴게소 양양방향      1    강원도  인제군  강원도 인제군 상남면 하남리 339-7(양양방향)   50.00000   \n",
       "1  내린천휴게소 양양방향      1    강원도  인제군  강원도 인제군 상남면 하남리 339-7(양양방향)   50.00000   \n",
       "2  내린천휴게소 양양방향      1    강원도  인제군  강원도 인제군 상남면 하남리 339-7(양양방향)   50.00000   \n",
       "3  내린천휴게소 양양방향      3    강원도  인제군  강원도 인제군 상남면 하남리 339-7(양양방향)  100.00000   \n",
       "4       한국광기술원      1  광주광역시   북구      광주광역시 북구 첨단 벤처로 108번길 9   50.00000   \n",
       "\n",
       "             충전기타입          충전시작일시          충전종료일시      충전시간  ...  충전시작_초  \\\n",
       "0  DC차데모+AC3상+DC콤보  20200117193331  20200117201417  00:40:00  ...      31   \n",
       "1  DC차데모+AC3상+DC콤보  20200130143545  20200130150645  00:30:31  ...      45   \n",
       "2  DC차데모+AC3상+DC콤보  20200105005728  20200105011329  00:15:35  ...      28   \n",
       "3             DC콤보  20200120120215  20200120124708  00:41:00  ...      15   \n",
       "4  DC차데모+AC3상+DC콤보  20200123085417  20200123092554  00:31:14  ...      17   \n",
       "\n",
       "           충전시작일시(변환)  충전종료_년도  충전종료_월  충전종료_일  충전종료_시  충전종료_분  충전종료_초  \\\n",
       "0 2020-01-17 19:33:31     2020       1      17      20      14      17   \n",
       "1 2020-01-30 14:35:45     2020       1      30      15       6      45   \n",
       "2 2020-01-05 00:57:28     2020       1       5       1      13      29   \n",
       "3 2020-01-20 12:02:15     2020       1      20      12      47       8   \n",
       "4 2020-01-23 08:54:17     2020       1      23       9      25      54   \n",
       "\n",
       "           충전종료일시(변환)        충전시간(계산)  \n",
       "0 2020-01-17 20:14:17 0 days 00:40:46  \n",
       "1 2020-01-30 15:06:45 0 days 00:31:00  \n",
       "2 2020-01-05 01:13:29 0 days 00:16:01  \n",
       "3 2020-01-20 12:47:08 0 days 00:44:53  \n",
       "4 2020-01-23 09:25:54 0 days 00:31:37  \n",
       "\n",
       "[5 rows x 27 columns]"
      ]
     },
     "execution_count": 82,
     "metadata": {},
     "output_type": "execute_result"
    }
   ],
   "source": [
    "df['충전시간(계산)'] = df['충전종료일시(변환)'] - df['충전시작일시(변환)']\n",
    "df.head()"
   ]
  },
  {
   "cell_type": "markdown",
   "metadata": {},
   "source": [
    "### 충전기용량과 충전용량 합치기"
   ]
  },
  {
   "cell_type": "code",
   "execution_count": 95,
   "metadata": {},
   "outputs": [
    {
     "name": "stdout",
     "output_type": "stream",
     "text": [
      "<class 'pandas.core.frame.DataFrame'>\n",
      "RangeIndex: 11665822 entries, 0 to 11665821\n",
      "Data columns (total 27 columns):\n",
      " #   Column      Dtype          \n",
      "---  ------      -----          \n",
      " 0   충전소명        object         \n",
      " 1   충전기ID       int16          \n",
      " 2   지역          object         \n",
      " 3   시군구         object         \n",
      " 4   주소          object         \n",
      " 5   충전기용량(kW)   float64        \n",
      " 6   충전기타입       object         \n",
      " 7   충전시작일시      int64          \n",
      " 8   충전종료일시      object         \n",
      " 9   충전시간        object         \n",
      " 10  충전량         float64        \n",
      " 11  충전용량        object         \n",
      " 12  충전시작_년도     int32          \n",
      " 13  충전시작_월      int32          \n",
      " 14  충전시작_일      int32          \n",
      " 15  충전시작_시      int32          \n",
      " 16  충전시작_분      int32          \n",
      " 17  충전시작_초      int32          \n",
      " 18  충전시작일시(변환)  datetime64[ns] \n",
      " 19  충전종료_년도     int32          \n",
      " 20  충전종료_월      int32          \n",
      " 21  충전종료_일      int32          \n",
      " 22  충전종료_시      int32          \n",
      " 23  충전종료_분      int32          \n",
      " 24  충전종료_초      int32          \n",
      " 25  충전종료일시(변환)  datetime64[ns] \n",
      " 26  충전시간(계산)    timedelta64[ns]\n",
      "dtypes: datetime64[ns](2), float64(2), int16(1), int32(12), int64(1), object(8), timedelta64[ns](1)\n",
      "memory usage: 1.8+ GB\n"
     ]
    }
   ],
   "source": [
    "df = df.sort_values(by=['충전시작_년도', '충전시작_월', '충전시작_일', '충전시작_시', '충전시작_분', '충전시작_초']).reset_index(drop=True)\n",
    "df.info()"
   ]
  },
  {
   "cell_type": "code",
   "execution_count": 96,
   "metadata": {},
   "outputs": [
    {
     "data": {
      "text/html": [
       "<div>\n",
       "<style scoped>\n",
       "    .dataframe tbody tr th:only-of-type {\n",
       "        vertical-align: middle;\n",
       "    }\n",
       "\n",
       "    .dataframe tbody tr th {\n",
       "        vertical-align: top;\n",
       "    }\n",
       "\n",
       "    .dataframe thead th {\n",
       "        text-align: right;\n",
       "    }\n",
       "</style>\n",
       "<table border=\"1\" class=\"dataframe\">\n",
       "  <thead>\n",
       "    <tr style=\"text-align: right;\">\n",
       "      <th></th>\n",
       "      <th>충전소명</th>\n",
       "      <th>충전기ID</th>\n",
       "      <th>지역</th>\n",
       "      <th>시군구</th>\n",
       "      <th>주소</th>\n",
       "      <th>충전기용량(kW)</th>\n",
       "      <th>충전기타입</th>\n",
       "      <th>충전시작일시</th>\n",
       "      <th>충전종료일시</th>\n",
       "      <th>충전시간</th>\n",
       "      <th>...</th>\n",
       "      <th>충전시작_초</th>\n",
       "      <th>충전시작일시(변환)</th>\n",
       "      <th>충전종료_년도</th>\n",
       "      <th>충전종료_월</th>\n",
       "      <th>충전종료_일</th>\n",
       "      <th>충전종료_시</th>\n",
       "      <th>충전종료_분</th>\n",
       "      <th>충전종료_초</th>\n",
       "      <th>충전종료일시(변환)</th>\n",
       "      <th>충전시간(계산)</th>\n",
       "    </tr>\n",
       "  </thead>\n",
       "  <tbody>\n",
       "    <tr>\n",
       "      <th>2796609</th>\n",
       "      <td>시흥제4동공영주차장</td>\n",
       "      <td>1</td>\n",
       "      <td>서울특별시</td>\n",
       "      <td>금천구</td>\n",
       "      <td>서울특별시 금천구 독산로 36나길 21, B1 18</td>\n",
       "      <td>50.00000</td>\n",
       "      <td>DC차데모+AC3상+DC콤보</td>\n",
       "      <td>20201231235808</td>\n",
       "      <td>20210101002023</td>\n",
       "      <td>00:21:51</td>\n",
       "      <td>...</td>\n",
       "      <td>8</td>\n",
       "      <td>2020-12-31 23:58:08</td>\n",
       "      <td>2021</td>\n",
       "      <td>1</td>\n",
       "      <td>1</td>\n",
       "      <td>0</td>\n",
       "      <td>20</td>\n",
       "      <td>23</td>\n",
       "      <td>2021-01-01 00:20:23</td>\n",
       "      <td>0 days 00:22:15</td>\n",
       "    </tr>\n",
       "    <tr>\n",
       "      <th>2796610</th>\n",
       "      <td>건천휴게소(부산방향)</td>\n",
       "      <td>1</td>\n",
       "      <td>경상북도</td>\n",
       "      <td>경주시</td>\n",
       "      <td>경상북도 경주시 건천읍 경부고속도로 77 (방내리)</td>\n",
       "      <td>50.00000</td>\n",
       "      <td>DC차데모+AC3상+DC콤보</td>\n",
       "      <td>20201231235811</td>\n",
       "      <td>20210101003023</td>\n",
       "      <td>00:31:50</td>\n",
       "      <td>...</td>\n",
       "      <td>11</td>\n",
       "      <td>2020-12-31 23:58:11</td>\n",
       "      <td>2021</td>\n",
       "      <td>1</td>\n",
       "      <td>1</td>\n",
       "      <td>0</td>\n",
       "      <td>30</td>\n",
       "      <td>23</td>\n",
       "      <td>2021-01-01 00:30:23</td>\n",
       "      <td>0 days 00:32:12</td>\n",
       "    </tr>\n",
       "    <tr>\n",
       "      <th>2796611</th>\n",
       "      <td>중부지방고용노동청 별관 앞</td>\n",
       "      <td>1</td>\n",
       "      <td>인천광역시</td>\n",
       "      <td>남동구</td>\n",
       "      <td>인천광역시 남동구 구월3동 1111-6  중부지방고용노동청 별관 앞</td>\n",
       "      <td>50.00000</td>\n",
       "      <td>DC차데모+AC3상+DC콤보</td>\n",
       "      <td>20201231235836</td>\n",
       "      <td>20210101001905</td>\n",
       "      <td>00:20:02</td>\n",
       "      <td>...</td>\n",
       "      <td>36</td>\n",
       "      <td>2020-12-31 23:58:36</td>\n",
       "      <td>2021</td>\n",
       "      <td>1</td>\n",
       "      <td>1</td>\n",
       "      <td>0</td>\n",
       "      <td>19</td>\n",
       "      <td>5</td>\n",
       "      <td>2021-01-01 00:19:05</td>\n",
       "      <td>0 days 00:20:29</td>\n",
       "    </tr>\n",
       "    <tr>\n",
       "      <th>2796612</th>\n",
       "      <td>세종중앙공원주차장2</td>\n",
       "      <td>2</td>\n",
       "      <td>세종특별자치시</td>\n",
       "      <td>연기면</td>\n",
       "      <td>세종특별자치시 연기면 수목원로 136</td>\n",
       "      <td>100.00000</td>\n",
       "      <td>DC콤보</td>\n",
       "      <td>20201231235931</td>\n",
       "      <td>20210101003714</td>\n",
       "      <td>00:37:43</td>\n",
       "      <td>...</td>\n",
       "      <td>31</td>\n",
       "      <td>2020-12-31 23:59:31</td>\n",
       "      <td>2021</td>\n",
       "      <td>1</td>\n",
       "      <td>1</td>\n",
       "      <td>0</td>\n",
       "      <td>37</td>\n",
       "      <td>14</td>\n",
       "      <td>2021-01-01 00:37:14</td>\n",
       "      <td>0 days 00:37:43</td>\n",
       "    </tr>\n",
       "    <tr>\n",
       "      <th>2796613</th>\n",
       "      <td>부석면주민자치센터</td>\n",
       "      <td>1</td>\n",
       "      <td>충청남도</td>\n",
       "      <td>서산시</td>\n",
       "      <td>충청남도 서산시 부석면 취평리 364-2</td>\n",
       "      <td>100.00000</td>\n",
       "      <td>DC차데모+AC3상+DC콤보</td>\n",
       "      <td>20201231235955</td>\n",
       "      <td>20210101001316</td>\n",
       "      <td>00:12:21</td>\n",
       "      <td>...</td>\n",
       "      <td>55</td>\n",
       "      <td>2020-12-31 23:59:55</td>\n",
       "      <td>2021</td>\n",
       "      <td>1</td>\n",
       "      <td>1</td>\n",
       "      <td>0</td>\n",
       "      <td>13</td>\n",
       "      <td>16</td>\n",
       "      <td>2021-01-01 00:13:16</td>\n",
       "      <td>0 days 00:13:21</td>\n",
       "    </tr>\n",
       "  </tbody>\n",
       "</table>\n",
       "<p>5 rows × 27 columns</p>\n",
       "</div>"
      ],
      "text/plain": [
       "                   충전소명  충전기ID       지역  시군구  \\\n",
       "2796609      시흥제4동공영주차장      1    서울특별시  금천구   \n",
       "2796610     건천휴게소(부산방향)      1     경상북도  경주시   \n",
       "2796611  중부지방고용노동청 별관 앞      1    인천광역시  남동구   \n",
       "2796612      세종중앙공원주차장2      2  세종특별자치시  연기면   \n",
       "2796613       부석면주민자치센터      1     충청남도  서산시   \n",
       "\n",
       "                                            주소  충전기용량(kW)            충전기타입  \\\n",
       "2796609           서울특별시 금천구 독산로 36나길 21, B1 18   50.00000  DC차데모+AC3상+DC콤보   \n",
       "2796610           경상북도 경주시 건천읍 경부고속도로 77 (방내리)   50.00000  DC차데모+AC3상+DC콤보   \n",
       "2796611  인천광역시 남동구 구월3동 1111-6  중부지방고용노동청 별관 앞   50.00000  DC차데모+AC3상+DC콤보   \n",
       "2796612                   세종특별자치시 연기면 수목원로 136  100.00000             DC콤보   \n",
       "2796613                 충청남도 서산시 부석면 취평리 364-2  100.00000  DC차데모+AC3상+DC콤보   \n",
       "\n",
       "                 충전시작일시          충전종료일시      충전시간  ...  충전시작_초  \\\n",
       "2796609  20201231235808  20210101002023  00:21:51  ...       8   \n",
       "2796610  20201231235811  20210101003023  00:31:50  ...      11   \n",
       "2796611  20201231235836  20210101001905  00:20:02  ...      36   \n",
       "2796612  20201231235931  20210101003714  00:37:43  ...      31   \n",
       "2796613  20201231235955  20210101001316  00:12:21  ...      55   \n",
       "\n",
       "                 충전시작일시(변환)  충전종료_년도  충전종료_월  충전종료_일  충전종료_시  충전종료_분  충전종료_초  \\\n",
       "2796609 2020-12-31 23:58:08     2021       1       1       0      20      23   \n",
       "2796610 2020-12-31 23:58:11     2021       1       1       0      30      23   \n",
       "2796611 2020-12-31 23:58:36     2021       1       1       0      19       5   \n",
       "2796612 2020-12-31 23:59:31     2021       1       1       0      37      14   \n",
       "2796613 2020-12-31 23:59:55     2021       1       1       0      13      16   \n",
       "\n",
       "                 충전종료일시(변환)        충전시간(계산)  \n",
       "2796609 2021-01-01 00:20:23 0 days 00:22:15  \n",
       "2796610 2021-01-01 00:30:23 0 days 00:32:12  \n",
       "2796611 2021-01-01 00:19:05 0 days 00:20:29  \n",
       "2796612 2021-01-01 00:37:14 0 days 00:37:43  \n",
       "2796613 2021-01-01 00:13:16 0 days 00:13:21  \n",
       "\n",
       "[5 rows x 27 columns]"
      ]
     },
     "execution_count": 96,
     "metadata": {},
     "output_type": "execute_result"
    }
   ],
   "source": [
    "df[df['충전시작_년도'] == 2020].tail()"
   ]
  },
  {
   "cell_type": "code",
   "execution_count": 97,
   "metadata": {},
   "outputs": [
    {
     "data": {
      "text/html": [
       "<div>\n",
       "<style scoped>\n",
       "    .dataframe tbody tr th:only-of-type {\n",
       "        vertical-align: middle;\n",
       "    }\n",
       "\n",
       "    .dataframe tbody tr th {\n",
       "        vertical-align: top;\n",
       "    }\n",
       "\n",
       "    .dataframe thead th {\n",
       "        text-align: right;\n",
       "    }\n",
       "</style>\n",
       "<table border=\"1\" class=\"dataframe\">\n",
       "  <thead>\n",
       "    <tr style=\"text-align: right;\">\n",
       "      <th></th>\n",
       "      <th>충전소명</th>\n",
       "      <th>충전기ID</th>\n",
       "      <th>지역</th>\n",
       "      <th>시군구</th>\n",
       "      <th>주소</th>\n",
       "      <th>충전기용량(kW)</th>\n",
       "      <th>충전기타입</th>\n",
       "      <th>충전시작일시</th>\n",
       "      <th>충전종료일시</th>\n",
       "      <th>충전시간</th>\n",
       "      <th>...</th>\n",
       "      <th>충전시작_초</th>\n",
       "      <th>충전시작일시(변환)</th>\n",
       "      <th>충전종료_년도</th>\n",
       "      <th>충전종료_월</th>\n",
       "      <th>충전종료_일</th>\n",
       "      <th>충전종료_시</th>\n",
       "      <th>충전종료_분</th>\n",
       "      <th>충전종료_초</th>\n",
       "      <th>충전종료일시(변환)</th>\n",
       "      <th>충전시간(계산)</th>\n",
       "    </tr>\n",
       "  </thead>\n",
       "  <tbody>\n",
       "    <tr>\n",
       "      <th>2796614</th>\n",
       "      <td>칠곡3지구 공영주차장</td>\n",
       "      <td>42</td>\n",
       "      <td>대구광역시</td>\n",
       "      <td>북구</td>\n",
       "      <td>대구광역시 북구 구암동 771-2</td>\n",
       "      <td>NaN</td>\n",
       "      <td>DC콤보</td>\n",
       "      <td>20210101000032</td>\n",
       "      <td>20210101002547</td>\n",
       "      <td>00:25:16</td>\n",
       "      <td>...</td>\n",
       "      <td>32</td>\n",
       "      <td>2021-01-01 00:00:32</td>\n",
       "      <td>2021</td>\n",
       "      <td>1</td>\n",
       "      <td>1</td>\n",
       "      <td>0</td>\n",
       "      <td>25</td>\n",
       "      <td>47</td>\n",
       "      <td>2021-01-01 00:25:47</td>\n",
       "      <td>0 days 00:25:15</td>\n",
       "    </tr>\n",
       "    <tr>\n",
       "      <th>2796615</th>\n",
       "      <td>망향휴게소(부산방향)</td>\n",
       "      <td>1</td>\n",
       "      <td>충청남도</td>\n",
       "      <td>천안시</td>\n",
       "      <td>충청남도 천안시 서북구 성거읍 돌다리길 23-37</td>\n",
       "      <td>NaN</td>\n",
       "      <td>DC차데모+AC3상+DC콤보</td>\n",
       "      <td>20210101000034</td>\n",
       "      <td>20210101001118</td>\n",
       "      <td>00:09:51</td>\n",
       "      <td>...</td>\n",
       "      <td>34</td>\n",
       "      <td>2021-01-01 00:00:34</td>\n",
       "      <td>2021</td>\n",
       "      <td>1</td>\n",
       "      <td>1</td>\n",
       "      <td>0</td>\n",
       "      <td>11</td>\n",
       "      <td>18</td>\n",
       "      <td>2021-01-01 00:11:18</td>\n",
       "      <td>0 days 00:10:44</td>\n",
       "    </tr>\n",
       "    <tr>\n",
       "      <th>2796616</th>\n",
       "      <td>관악역 3환승 공영주차장</td>\n",
       "      <td>1</td>\n",
       "      <td>경기도</td>\n",
       "      <td>안양시</td>\n",
       "      <td>경기도 안양시 만안구 석수1동 110-26  입구 맨끝 왼쪽</td>\n",
       "      <td>NaN</td>\n",
       "      <td>DC차데모+AC3상+DC콤보</td>\n",
       "      <td>20210101000043</td>\n",
       "      <td>20210101002454</td>\n",
       "      <td>00:23:47</td>\n",
       "      <td>...</td>\n",
       "      <td>43</td>\n",
       "      <td>2021-01-01 00:00:43</td>\n",
       "      <td>2021</td>\n",
       "      <td>1</td>\n",
       "      <td>1</td>\n",
       "      <td>0</td>\n",
       "      <td>24</td>\n",
       "      <td>54</td>\n",
       "      <td>2021-01-01 00:24:54</td>\n",
       "      <td>0 days 00:24:11</td>\n",
       "    </tr>\n",
       "    <tr>\n",
       "      <th>2796617</th>\n",
       "      <td>평창휴게소(강릉방향)</td>\n",
       "      <td>1</td>\n",
       "      <td>강원도</td>\n",
       "      <td>평창군</td>\n",
       "      <td>강원도 평창군 용평면 경강로 2159-58</td>\n",
       "      <td>NaN</td>\n",
       "      <td>DC차데모+AC3상+DC콤보</td>\n",
       "      <td>20210101000049</td>\n",
       "      <td>20210101004354</td>\n",
       "      <td>00:40:00</td>\n",
       "      <td>...</td>\n",
       "      <td>49</td>\n",
       "      <td>2021-01-01 00:00:49</td>\n",
       "      <td>2021</td>\n",
       "      <td>1</td>\n",
       "      <td>1</td>\n",
       "      <td>0</td>\n",
       "      <td>43</td>\n",
       "      <td>54</td>\n",
       "      <td>2021-01-01 00:43:54</td>\n",
       "      <td>0 days 00:43:05</td>\n",
       "    </tr>\n",
       "    <tr>\n",
       "      <th>2796618</th>\n",
       "      <td>강동구청</td>\n",
       "      <td>12</td>\n",
       "      <td>서울특별시</td>\n",
       "      <td>강동구</td>\n",
       "      <td>서울특별시 강동구 성내로 25</td>\n",
       "      <td>NaN</td>\n",
       "      <td>DC콤보</td>\n",
       "      <td>20210101000052</td>\n",
       "      <td>20210101003015</td>\n",
       "      <td>00:29:03</td>\n",
       "      <td>...</td>\n",
       "      <td>52</td>\n",
       "      <td>2021-01-01 00:00:52</td>\n",
       "      <td>2021</td>\n",
       "      <td>1</td>\n",
       "      <td>1</td>\n",
       "      <td>0</td>\n",
       "      <td>30</td>\n",
       "      <td>15</td>\n",
       "      <td>2021-01-01 00:30:15</td>\n",
       "      <td>0 days 00:29:23</td>\n",
       "    </tr>\n",
       "  </tbody>\n",
       "</table>\n",
       "<p>5 rows × 27 columns</p>\n",
       "</div>"
      ],
      "text/plain": [
       "                  충전소명  충전기ID     지역  시군구                                 주소  \\\n",
       "2796614    칠곡3지구 공영주차장     42  대구광역시   북구                 대구광역시 북구 구암동 771-2   \n",
       "2796615    망향휴게소(부산방향)      1   충청남도  천안시        충청남도 천안시 서북구 성거읍 돌다리길 23-37   \n",
       "2796616  관악역 3환승 공영주차장      1    경기도  안양시  경기도 안양시 만안구 석수1동 110-26  입구 맨끝 왼쪽   \n",
       "2796617    평창휴게소(강릉방향)      1    강원도  평창군            강원도 평창군 용평면 경강로 2159-58   \n",
       "2796618           강동구청     12  서울특별시  강동구                   서울특별시 강동구 성내로 25   \n",
       "\n",
       "         충전기용량(kW)            충전기타입          충전시작일시          충전종료일시      충전시간  \\\n",
       "2796614        NaN             DC콤보  20210101000032  20210101002547  00:25:16   \n",
       "2796615        NaN  DC차데모+AC3상+DC콤보  20210101000034  20210101001118  00:09:51   \n",
       "2796616        NaN  DC차데모+AC3상+DC콤보  20210101000043  20210101002454  00:23:47   \n",
       "2796617        NaN  DC차데모+AC3상+DC콤보  20210101000049  20210101004354  00:40:00   \n",
       "2796618        NaN             DC콤보  20210101000052  20210101003015  00:29:03   \n",
       "\n",
       "         ...  충전시작_초          충전시작일시(변환)  충전종료_년도  충전종료_월  충전종료_일  충전종료_시  \\\n",
       "2796614  ...      32 2021-01-01 00:00:32     2021       1       1       0   \n",
       "2796615  ...      34 2021-01-01 00:00:34     2021       1       1       0   \n",
       "2796616  ...      43 2021-01-01 00:00:43     2021       1       1       0   \n",
       "2796617  ...      49 2021-01-01 00:00:49     2021       1       1       0   \n",
       "2796618  ...      52 2021-01-01 00:00:52     2021       1       1       0   \n",
       "\n",
       "         충전종료_분  충전종료_초          충전종료일시(변환)        충전시간(계산)  \n",
       "2796614      25      47 2021-01-01 00:25:47 0 days 00:25:15  \n",
       "2796615      11      18 2021-01-01 00:11:18 0 days 00:10:44  \n",
       "2796616      24      54 2021-01-01 00:24:54 0 days 00:24:11  \n",
       "2796617      43      54 2021-01-01 00:43:54 0 days 00:43:05  \n",
       "2796618      30      15 2021-01-01 00:30:15 0 days 00:29:23  \n",
       "\n",
       "[5 rows x 27 columns]"
      ]
     },
     "execution_count": 97,
     "metadata": {},
     "output_type": "execute_result"
    }
   ],
   "source": [
    "df[df['충전시작_년도'] == 2021].head()"
   ]
  },
  {
   "cell_type": "code",
   "execution_count": 98,
   "metadata": {},
   "outputs": [
    {
     "data": {
      "text/plain": [
       "(2796614,)"
      ]
     },
     "execution_count": 98,
     "metadata": {},
     "output_type": "execute_result"
    }
   ],
   "source": [
    "df.loc[df['충전시작_년도'] == 2020, '충전기용량(kW)'].shape"
   ]
  },
  {
   "cell_type": "code",
   "execution_count": 99,
   "metadata": {},
   "outputs": [
    {
     "data": {
      "text/plain": [
       "0   50.00000\n",
       "1   50.00000\n",
       "2   50.00000\n",
       "3   50.00000\n",
       "4   50.00000\n",
       "Name: 충전기용량(kW), dtype: float64"
      ]
     },
     "execution_count": 99,
     "metadata": {},
     "output_type": "execute_result"
    }
   ],
   "source": [
    "df.loc[df['충전시작_년도'] == 2020, '충전기용량(kW)'].head()"
   ]
  },
  {
   "cell_type": "code",
   "execution_count": 100,
   "metadata": {},
   "outputs": [
    {
     "data": {
      "text/plain": [
       "2796609    50.00000\n",
       "2796610    50.00000\n",
       "2796611    50.00000\n",
       "2796612   100.00000\n",
       "2796613   100.00000\n",
       "Name: 충전기용량(kW), dtype: float64"
      ]
     },
     "execution_count": 100,
     "metadata": {},
     "output_type": "execute_result"
    }
   ],
   "source": [
    "df.loc[df['충전시작_년도'] == 2020, '충전기용량(kW)'].tail()"
   ]
  },
  {
   "cell_type": "code",
   "execution_count": 101,
   "metadata": {},
   "outputs": [
    {
     "data": {
      "text/plain": [
       "[50.0, 50.0, 50.0, 50.0, 50.0]"
      ]
     },
     "execution_count": 101,
     "metadata": {},
     "output_type": "execute_result"
    }
   ],
   "source": [
    "temp = df.loc[df['충전시작_년도'] == 2020, '충전기용량(kW)'].to_list()\n",
    "temp[:5]"
   ]
  },
  {
   "cell_type": "code",
   "execution_count": 102,
   "metadata": {},
   "outputs": [
    {
     "data": {
      "text/plain": [
       "[50.0, 50.0, 50.0, 100.0, 100.0]"
      ]
     },
     "execution_count": 102,
     "metadata": {},
     "output_type": "execute_result"
    }
   ],
   "source": [
    "temp[-5:]"
   ]
  },
  {
   "cell_type": "code",
   "execution_count": 103,
   "metadata": {},
   "outputs": [
    {
     "data": {
      "text/plain": [
       "2796614"
      ]
     },
     "execution_count": 103,
     "metadata": {},
     "output_type": "execute_result"
    }
   ],
   "source": [
    "len(temp)"
   ]
  },
  {
   "cell_type": "code",
   "execution_count": 114,
   "metadata": {},
   "outputs": [
    {
     "data": {
      "text/plain": [
       "(4259845,)"
      ]
     },
     "execution_count": 114,
     "metadata": {},
     "output_type": "execute_result"
    }
   ],
   "source": [
    "df.loc[df['충전시작_년도'] == 2021, '충전용량'].shape"
   ]
  },
  {
   "cell_type": "code",
   "execution_count": 109,
   "metadata": {},
   "outputs": [
    {
     "data": {
      "text/plain": [
       "2796614   100.00000\n",
       "2796615    50.00000\n",
       "2796616    50.00000\n",
       "2796617   100.00000\n",
       "2796618   200.00000\n",
       "Name: 충전용량, dtype: object"
      ]
     },
     "execution_count": 109,
     "metadata": {},
     "output_type": "execute_result"
    }
   ],
   "source": [
    "df.loc[df['충전시작_년도'] == 2021, '충전용량'].head()"
   ]
  },
  {
   "cell_type": "code",
   "execution_count": 110,
   "metadata": {},
   "outputs": [
    {
     "data": {
      "text/plain": [
       "7056454   100.00000\n",
       "7056455    50.00000\n",
       "7056456   200.00000\n",
       "7056457   100.00000\n",
       "7056458    50.00000\n",
       "Name: 충전용량, dtype: object"
      ]
     },
     "execution_count": 110,
     "metadata": {},
     "output_type": "execute_result"
    }
   ],
   "source": [
    "df.loc[df['충전시작_년도'] == 2021, '충전용량'].tail()"
   ]
  },
  {
   "cell_type": "code",
   "execution_count": 111,
   "metadata": {},
   "outputs": [
    {
     "data": {
      "text/plain": [
       "[100.0, 50.0, 50.0, 100.0, 200.0]"
      ]
     },
     "execution_count": 111,
     "metadata": {},
     "output_type": "execute_result"
    }
   ],
   "source": [
    "temp2 = df.loc[df['충전시작_년도'] == 2021, '충전용량'].to_list()\n",
    "temp2[:5]"
   ]
  },
  {
   "cell_type": "code",
   "execution_count": 112,
   "metadata": {},
   "outputs": [
    {
     "data": {
      "text/plain": [
       "[100.0, 50.0, 200.0, 100.0, 50.0]"
      ]
     },
     "execution_count": 112,
     "metadata": {},
     "output_type": "execute_result"
    }
   ],
   "source": [
    "temp2[-5:]"
   ]
  },
  {
   "cell_type": "code",
   "execution_count": 113,
   "metadata": {},
   "outputs": [
    {
     "data": {
      "text/plain": [
       "4259845"
      ]
     },
     "execution_count": 113,
     "metadata": {},
     "output_type": "execute_result"
    }
   ],
   "source": [
    "len(temp2)"
   ]
  },
  {
   "cell_type": "code",
   "execution_count": 115,
   "metadata": {},
   "outputs": [
    {
     "data": {
      "text/plain": [
       "(4609363,)"
      ]
     },
     "execution_count": 115,
     "metadata": {},
     "output_type": "execute_result"
    }
   ],
   "source": [
    "df.loc[df['충전시작_년도'] == 2022, '충전용량'].shape"
   ]
  },
  {
   "cell_type": "code",
   "execution_count": 116,
   "metadata": {},
   "outputs": [
    {
     "data": {
      "text/plain": [
       "7056459    50.00000\n",
       "7056460    50.00000\n",
       "7056461    50.00000\n",
       "7056462   200.00000\n",
       "7056463    50.00000\n",
       "Name: 충전용량, dtype: object"
      ]
     },
     "execution_count": 116,
     "metadata": {},
     "output_type": "execute_result"
    }
   ],
   "source": [
    "df.loc[df['충전시작_년도'] == 2022, '충전용량'].head()"
   ]
  },
  {
   "cell_type": "code",
   "execution_count": 120,
   "metadata": {},
   "outputs": [
    {
     "data": {
      "text/plain": [
       "11665817       급속(50kW)\n",
       "11665818    급속(200kW동시)\n",
       "11665819       급속(50kW)\n",
       "11665820       급속(50kW)\n",
       "11665821    급속(100kW멀티)\n",
       "Name: 충전용량, dtype: object"
      ]
     },
     "execution_count": 120,
     "metadata": {},
     "output_type": "execute_result"
    }
   ],
   "source": [
    "df.loc[df['충전시작_년도'] == 2022, '충전용량'].tail()"
   ]
  },
  {
   "cell_type": "code",
   "execution_count": 118,
   "metadata": {},
   "outputs": [
    {
     "data": {
      "text/plain": [
       "[50.0, 50.0, 50.0, 200.0, 50.0]"
      ]
     },
     "execution_count": 118,
     "metadata": {},
     "output_type": "execute_result"
    }
   ],
   "source": [
    "temp3 = df.loc[df['충전시작_년도'] == 2022, '충전용량'].to_list()\n",
    "temp3[:5]"
   ]
  },
  {
   "cell_type": "code",
   "execution_count": 119,
   "metadata": {},
   "outputs": [
    {
     "data": {
      "text/plain": [
       "['급속(50kW)', '급속(200kW동시)', '급속(50kW)', '급속(50kW)', '급속(100kW멀티)']"
      ]
     },
     "execution_count": 119,
     "metadata": {},
     "output_type": "execute_result"
    }
   ],
   "source": [
    "temp3[-5:]"
   ]
  },
  {
   "cell_type": "code",
   "execution_count": 122,
   "metadata": {},
   "outputs": [
    {
     "data": {
      "text/plain": [
       "4609363"
      ]
     },
     "execution_count": 122,
     "metadata": {},
     "output_type": "execute_result"
    }
   ],
   "source": [
    "len(temp3)"
   ]
  },
  {
   "cell_type": "code",
   "execution_count": 121,
   "metadata": {},
   "outputs": [
    {
     "data": {
      "text/plain": [
       "(11665822, 27)"
      ]
     },
     "execution_count": 121,
     "metadata": {},
     "output_type": "execute_result"
    }
   ],
   "source": [
    "df.shape"
   ]
  },
  {
   "cell_type": "code",
   "execution_count": 123,
   "metadata": {},
   "outputs": [
    {
     "data": {
      "text/plain": [
       "11665822"
      ]
     },
     "execution_count": 123,
     "metadata": {},
     "output_type": "execute_result"
    }
   ],
   "source": [
    "len(temp + temp2 + temp3)"
   ]
  },
  {
   "cell_type": "code",
   "execution_count": null,
   "metadata": {},
   "outputs": [],
   "source": [
    "df['충전용량'].head()"
   ]
  },
  {
   "cell_type": "code",
   "execution_count": 124,
   "metadata": {},
   "outputs": [],
   "source": [
    "df['충전용량'] = temp + temp2 + temp3"
   ]
  },
  {
   "cell_type": "code",
   "execution_count": 127,
   "metadata": {},
   "outputs": [
    {
     "data": {
      "text/plain": [
       "0   50.00000\n",
       "1   50.00000\n",
       "2   50.00000\n",
       "3   50.00000\n",
       "4   50.00000\n",
       "Name: 충전용량, dtype: object"
      ]
     },
     "execution_count": 127,
     "metadata": {},
     "output_type": "execute_result"
    }
   ],
   "source": [
    "df['충전용량'].head()"
   ]
  },
  {
   "cell_type": "code",
   "execution_count": 125,
   "metadata": {},
   "outputs": [
    {
     "data": {
      "text/plain": [
       "11665817   NaN\n",
       "11665818   NaN\n",
       "11665819   NaN\n",
       "11665820   NaN\n",
       "11665821   NaN\n",
       "Name: 충전기용량(kW), dtype: float64"
      ]
     },
     "execution_count": 125,
     "metadata": {},
     "output_type": "execute_result"
    }
   ],
   "source": [
    "df['충전기용량(kW)'].tail()"
   ]
  },
  {
   "cell_type": "code",
   "execution_count": 128,
   "metadata": {},
   "outputs": [
    {
     "data": {
      "text/html": [
       "<div>\n",
       "<style scoped>\n",
       "    .dataframe tbody tr th:only-of-type {\n",
       "        vertical-align: middle;\n",
       "    }\n",
       "\n",
       "    .dataframe tbody tr th {\n",
       "        vertical-align: top;\n",
       "    }\n",
       "\n",
       "    .dataframe thead th {\n",
       "        text-align: right;\n",
       "    }\n",
       "</style>\n",
       "<table border=\"1\" class=\"dataframe\">\n",
       "  <thead>\n",
       "    <tr style=\"text-align: right;\">\n",
       "      <th></th>\n",
       "      <th>충전소명</th>\n",
       "      <th>충전기ID</th>\n",
       "      <th>지역</th>\n",
       "      <th>시군구</th>\n",
       "      <th>주소</th>\n",
       "      <th>충전기용량(kW)</th>\n",
       "      <th>충전기타입</th>\n",
       "      <th>충전시작일시</th>\n",
       "      <th>충전종료일시</th>\n",
       "      <th>충전시간</th>\n",
       "      <th>충전량</th>\n",
       "      <th>충전용량</th>\n",
       "    </tr>\n",
       "  </thead>\n",
       "  <tbody>\n",
       "    <tr>\n",
       "      <th>0</th>\n",
       "      <td>진영휴게소(부산방향)</td>\n",
       "      <td>1</td>\n",
       "      <td>경상남도</td>\n",
       "      <td>김해시</td>\n",
       "      <td>경상남도 김해시 진영읍 하계로96번길 94-4 , 주유소 옆 주차장</td>\n",
       "      <td>50.00000</td>\n",
       "      <td>DC차데모+AC3상+DC콤보</td>\n",
       "      <td>20200101000244</td>\n",
       "      <td>20200101004215</td>\n",
       "      <td>00:39:25</td>\n",
       "      <td>20.22000</td>\n",
       "      <td>50.00000</td>\n",
       "    </tr>\n",
       "    <tr>\n",
       "      <th>1</th>\n",
       "      <td>천왕역 환승주차장</td>\n",
       "      <td>1</td>\n",
       "      <td>서울특별시</td>\n",
       "      <td>구로구</td>\n",
       "      <td>서울특별시 구로구 오류동 174-10 , 천왕역 환승주차장 1층</td>\n",
       "      <td>50.00000</td>\n",
       "      <td>DC차데모+AC3상</td>\n",
       "      <td>20200101000457</td>\n",
       "      <td>20200101004534</td>\n",
       "      <td>00:40:37</td>\n",
       "      <td>18.87000</td>\n",
       "      <td>50.00000</td>\n",
       "    </tr>\n",
       "    <tr>\n",
       "      <th>2</th>\n",
       "      <td>민속자연사박물관</td>\n",
       "      <td>1</td>\n",
       "      <td>제주특별자치도</td>\n",
       "      <td>제주시</td>\n",
       "      <td>제주특별자치도 제주시 삼성로 40 민속자연사박물관</td>\n",
       "      <td>50.00000</td>\n",
       "      <td>DC차데모+AC3상+DC콤보</td>\n",
       "      <td>20200101000745</td>\n",
       "      <td>20200101003703</td>\n",
       "      <td>00:29:13</td>\n",
       "      <td>16.04000</td>\n",
       "      <td>50.00000</td>\n",
       "    </tr>\n",
       "    <tr>\n",
       "      <th>3</th>\n",
       "      <td>노형동주민센터</td>\n",
       "      <td>1</td>\n",
       "      <td>제주특별자치도</td>\n",
       "      <td>제주시</td>\n",
       "      <td>제주특별자치도 제주시 노형9길 9-4,  주차장</td>\n",
       "      <td>50.00000</td>\n",
       "      <td>DC차데모+AC3상+DC콤보</td>\n",
       "      <td>20200101000748</td>\n",
       "      <td>20200101001659</td>\n",
       "      <td>00:09:07</td>\n",
       "      <td>5.80000</td>\n",
       "      <td>50.00000</td>\n",
       "    </tr>\n",
       "    <tr>\n",
       "      <th>4</th>\n",
       "      <td>영일대1주차장</td>\n",
       "      <td>1</td>\n",
       "      <td>경상북도</td>\n",
       "      <td>포항시</td>\n",
       "      <td>경상북도 포항시 북구 해안로82</td>\n",
       "      <td>50.00000</td>\n",
       "      <td>DC차데모+AC3상+DC콤보</td>\n",
       "      <td>20200101000851</td>\n",
       "      <td>20200101004220</td>\n",
       "      <td>00:33:29</td>\n",
       "      <td>13.32000</td>\n",
       "      <td>50.00000</td>\n",
       "    </tr>\n",
       "  </tbody>\n",
       "</table>\n",
       "</div>"
      ],
      "text/plain": [
       "          충전소명  충전기ID       지역  시군구                                     주소  \\\n",
       "0  진영휴게소(부산방향)      1     경상남도  김해시  경상남도 김해시 진영읍 하계로96번길 94-4 , 주유소 옆 주차장   \n",
       "1    천왕역 환승주차장      1    서울특별시  구로구    서울특별시 구로구 오류동 174-10 , 천왕역 환승주차장 1층   \n",
       "2     민속자연사박물관      1  제주특별자치도  제주시            제주특별자치도 제주시 삼성로 40 민속자연사박물관   \n",
       "3      노형동주민센터      1  제주특별자치도  제주시             제주특별자치도 제주시 노형9길 9-4,  주차장   \n",
       "4      영일대1주차장      1     경상북도  포항시                      경상북도 포항시 북구 해안로82   \n",
       "\n",
       "   충전기용량(kW)            충전기타입          충전시작일시          충전종료일시      충전시간  \\\n",
       "0   50.00000  DC차데모+AC3상+DC콤보  20200101000244  20200101004215  00:39:25   \n",
       "1   50.00000       DC차데모+AC3상  20200101000457  20200101004534  00:40:37   \n",
       "2   50.00000  DC차데모+AC3상+DC콤보  20200101000745  20200101003703  00:29:13   \n",
       "3   50.00000  DC차데모+AC3상+DC콤보  20200101000748  20200101001659  00:09:07   \n",
       "4   50.00000  DC차데모+AC3상+DC콤보  20200101000851  20200101004220  00:33:29   \n",
       "\n",
       "       충전량     충전용량  \n",
       "0 20.22000 50.00000  \n",
       "1 18.87000 50.00000  \n",
       "2 16.04000 50.00000  \n",
       "3  5.80000 50.00000  \n",
       "4 13.32000 50.00000  "
      ]
     },
     "execution_count": 128,
     "metadata": {},
     "output_type": "execute_result"
    }
   ],
   "source": [
    "df.iloc[:5, :12]"
   ]
  },
  {
   "cell_type": "code",
   "execution_count": 129,
   "metadata": {},
   "outputs": [
    {
     "data": {
      "text/html": [
       "<div>\n",
       "<style scoped>\n",
       "    .dataframe tbody tr th:only-of-type {\n",
       "        vertical-align: middle;\n",
       "    }\n",
       "\n",
       "    .dataframe tbody tr th {\n",
       "        vertical-align: top;\n",
       "    }\n",
       "\n",
       "    .dataframe thead th {\n",
       "        text-align: right;\n",
       "    }\n",
       "</style>\n",
       "<table border=\"1\" class=\"dataframe\">\n",
       "  <thead>\n",
       "    <tr style=\"text-align: right;\">\n",
       "      <th></th>\n",
       "      <th>충전소명</th>\n",
       "      <th>충전기ID</th>\n",
       "      <th>지역</th>\n",
       "      <th>시군구</th>\n",
       "      <th>주소</th>\n",
       "      <th>충전기타입</th>\n",
       "      <th>충전시작일시</th>\n",
       "      <th>충전종료일시</th>\n",
       "      <th>충전시간</th>\n",
       "      <th>충전량</th>\n",
       "      <th>충전용량</th>\n",
       "      <th>충전시작_년도</th>\n",
       "    </tr>\n",
       "  </thead>\n",
       "  <tbody>\n",
       "    <tr>\n",
       "      <th>0</th>\n",
       "      <td>진영휴게소(부산방향)</td>\n",
       "      <td>1</td>\n",
       "      <td>경상남도</td>\n",
       "      <td>김해시</td>\n",
       "      <td>경상남도 김해시 진영읍 하계로96번길 94-4 , 주유소 옆 주차장</td>\n",
       "      <td>DC차데모+AC3상+DC콤보</td>\n",
       "      <td>20200101000244</td>\n",
       "      <td>20200101004215</td>\n",
       "      <td>00:39:25</td>\n",
       "      <td>20.22000</td>\n",
       "      <td>50.00000</td>\n",
       "      <td>2020</td>\n",
       "    </tr>\n",
       "    <tr>\n",
       "      <th>1</th>\n",
       "      <td>천왕역 환승주차장</td>\n",
       "      <td>1</td>\n",
       "      <td>서울특별시</td>\n",
       "      <td>구로구</td>\n",
       "      <td>서울특별시 구로구 오류동 174-10 , 천왕역 환승주차장 1층</td>\n",
       "      <td>DC차데모+AC3상</td>\n",
       "      <td>20200101000457</td>\n",
       "      <td>20200101004534</td>\n",
       "      <td>00:40:37</td>\n",
       "      <td>18.87000</td>\n",
       "      <td>50.00000</td>\n",
       "      <td>2020</td>\n",
       "    </tr>\n",
       "    <tr>\n",
       "      <th>2</th>\n",
       "      <td>민속자연사박물관</td>\n",
       "      <td>1</td>\n",
       "      <td>제주특별자치도</td>\n",
       "      <td>제주시</td>\n",
       "      <td>제주특별자치도 제주시 삼성로 40 민속자연사박물관</td>\n",
       "      <td>DC차데모+AC3상+DC콤보</td>\n",
       "      <td>20200101000745</td>\n",
       "      <td>20200101003703</td>\n",
       "      <td>00:29:13</td>\n",
       "      <td>16.04000</td>\n",
       "      <td>50.00000</td>\n",
       "      <td>2020</td>\n",
       "    </tr>\n",
       "    <tr>\n",
       "      <th>3</th>\n",
       "      <td>노형동주민센터</td>\n",
       "      <td>1</td>\n",
       "      <td>제주특별자치도</td>\n",
       "      <td>제주시</td>\n",
       "      <td>제주특별자치도 제주시 노형9길 9-4,  주차장</td>\n",
       "      <td>DC차데모+AC3상+DC콤보</td>\n",
       "      <td>20200101000748</td>\n",
       "      <td>20200101001659</td>\n",
       "      <td>00:09:07</td>\n",
       "      <td>5.80000</td>\n",
       "      <td>50.00000</td>\n",
       "      <td>2020</td>\n",
       "    </tr>\n",
       "    <tr>\n",
       "      <th>4</th>\n",
       "      <td>영일대1주차장</td>\n",
       "      <td>1</td>\n",
       "      <td>경상북도</td>\n",
       "      <td>포항시</td>\n",
       "      <td>경상북도 포항시 북구 해안로82</td>\n",
       "      <td>DC차데모+AC3상+DC콤보</td>\n",
       "      <td>20200101000851</td>\n",
       "      <td>20200101004220</td>\n",
       "      <td>00:33:29</td>\n",
       "      <td>13.32000</td>\n",
       "      <td>50.00000</td>\n",
       "      <td>2020</td>\n",
       "    </tr>\n",
       "  </tbody>\n",
       "</table>\n",
       "</div>"
      ],
      "text/plain": [
       "          충전소명  충전기ID       지역  시군구                                     주소  \\\n",
       "0  진영휴게소(부산방향)      1     경상남도  김해시  경상남도 김해시 진영읍 하계로96번길 94-4 , 주유소 옆 주차장   \n",
       "1    천왕역 환승주차장      1    서울특별시  구로구    서울특별시 구로구 오류동 174-10 , 천왕역 환승주차장 1층   \n",
       "2     민속자연사박물관      1  제주특별자치도  제주시            제주특별자치도 제주시 삼성로 40 민속자연사박물관   \n",
       "3      노형동주민센터      1  제주특별자치도  제주시             제주특별자치도 제주시 노형9길 9-4,  주차장   \n",
       "4      영일대1주차장      1     경상북도  포항시                      경상북도 포항시 북구 해안로82   \n",
       "\n",
       "             충전기타입          충전시작일시          충전종료일시      충전시간      충전량  \\\n",
       "0  DC차데모+AC3상+DC콤보  20200101000244  20200101004215  00:39:25 20.22000   \n",
       "1       DC차데모+AC3상  20200101000457  20200101004534  00:40:37 18.87000   \n",
       "2  DC차데모+AC3상+DC콤보  20200101000745  20200101003703  00:29:13 16.04000   \n",
       "3  DC차데모+AC3상+DC콤보  20200101000748  20200101001659  00:09:07  5.80000   \n",
       "4  DC차데모+AC3상+DC콤보  20200101000851  20200101004220  00:33:29 13.32000   \n",
       "\n",
       "      충전용량  충전시작_년도  \n",
       "0 50.00000     2020  \n",
       "1 50.00000     2020  \n",
       "2 50.00000     2020  \n",
       "3 50.00000     2020  \n",
       "4 50.00000     2020  "
      ]
     },
     "execution_count": 129,
     "metadata": {},
     "output_type": "execute_result"
    }
   ],
   "source": [
    "df = df.drop(['충전기용량(kW)'], axis=1)\n",
    "df.iloc[:5, :12]"
   ]
  },
  {
   "cell_type": "markdown",
   "metadata": {},
   "source": [
    "##### 일시 분리 데이터 출력"
   ]
  },
  {
   "cell_type": "code",
   "execution_count": 130,
   "metadata": {},
   "outputs": [],
   "source": [
    "df.to_csv('2020-22년_급속충전_일시분리.csv', encoding='utf-8')"
   ]
  },
  {
   "cell_type": "markdown",
   "metadata": {},
   "source": [
    "## 데이터 로드(다시 시작)"
   ]
  },
  {
   "cell_type": "code",
   "execution_count": 5,
   "metadata": {},
   "outputs": [
    {
     "name": "stderr",
     "output_type": "stream",
     "text": [
      "C:\\Users\\kbj\\AppData\\Local\\Temp\\ipykernel_7780\\927583139.py:1: DtypeWarning: Columns (12) have mixed types. Specify dtype option on import or set low_memory=False.\n",
      "  df = pd.read_csv('2020-22년_급속충전_일시분리.csv')\n"
     ]
    }
   ],
   "source": [
    "# df = pd.read_csv('2020-22년_급속충전_일시분리.csv', index_col=0)\n",
    "# df.info()"
   ]
  },
  {
   "cell_type": "code",
   "execution_count": 131,
   "metadata": {},
   "outputs": [
    {
     "name": "stdout",
     "output_type": "stream",
     "text": [
      "<class 'pandas.core.frame.DataFrame'>\n",
      "RangeIndex: 11665822 entries, 0 to 11665821\n",
      "Data columns (total 26 columns):\n",
      " #   Column      Dtype          \n",
      "---  ------      -----          \n",
      " 0   충전소명        object         \n",
      " 1   충전기ID       int16          \n",
      " 2   지역          object         \n",
      " 3   시군구         object         \n",
      " 4   주소          object         \n",
      " 5   충전기타입       object         \n",
      " 6   충전시작일시      int64          \n",
      " 7   충전종료일시      object         \n",
      " 8   충전시간        object         \n",
      " 9   충전량         float64        \n",
      " 10  충전용량        object         \n",
      " 11  충전시작_년도     int32          \n",
      " 12  충전시작_월      int32          \n",
      " 13  충전시작_일      int32          \n",
      " 14  충전시작_시      int32          \n",
      " 15  충전시작_분      int32          \n",
      " 16  충전시작_초      int32          \n",
      " 17  충전시작일시(변환)  datetime64[ns] \n",
      " 18  충전종료_년도     int32          \n",
      " 19  충전종료_월      int32          \n",
      " 20  충전종료_일      int32          \n",
      " 21  충전종료_시      int32          \n",
      " 22  충전종료_분      int32          \n",
      " 23  충전종료_초      int32          \n",
      " 24  충전종료일시(변환)  datetime64[ns] \n",
      " 25  충전시간(계산)    timedelta64[ns]\n",
      "dtypes: datetime64[ns](2), float64(1), int16(1), int32(12), int64(1), object(8), timedelta64[ns](1)\n",
      "memory usage: 1.7+ GB\n"
     ]
    }
   ],
   "source": [
    "df.info()"
   ]
  },
  {
   "cell_type": "markdown",
   "metadata": {},
   "source": [
    "### raw 충전시간과 계산값 비교"
   ]
  },
  {
   "cell_type": "code",
   "execution_count": 132,
   "metadata": {},
   "outputs": [
    {
     "data": {
      "text/plain": [
       "0    00:39:25\n",
       "1    00:40:37\n",
       "2    00:29:13\n",
       "3    00:09:07\n",
       "4    00:33:29\n",
       "Name: 충전시간, dtype: object"
      ]
     },
     "execution_count": 132,
     "metadata": {},
     "output_type": "execute_result"
    }
   ],
   "source": [
    "df['충전시간'].head()"
   ]
  },
  {
   "cell_type": "code",
   "execution_count": 133,
   "metadata": {},
   "outputs": [
    {
     "data": {
      "text/plain": [
       "dtype('O')"
      ]
     },
     "execution_count": 133,
     "metadata": {},
     "output_type": "execute_result"
    }
   ],
   "source": [
    "df['충전시간'].dtype"
   ]
  },
  {
   "cell_type": "markdown",
   "metadata": {},
   "source": [
    "#### 충전시간 오류 값 처리\n",
    "- 7개 제거"
   ]
  },
  {
   "cell_type": "code",
   "execution_count": 139,
   "metadata": {},
   "outputs": [
    {
     "data": {
      "text/plain": [
       "1165409     -6:-2:-5\n",
       "1191927     00:-4:-1\n",
       "1196581     00:-1:-4\n",
       "1196582     00:-1:-2\n",
       "7030914     00:-4:-2\n",
       "7305076     00:-1:-3\n",
       "11392158    -1:-4:-4\n",
       "Name: 충전시간, dtype: object"
      ]
     },
     "execution_count": 139,
     "metadata": {},
     "output_type": "execute_result"
    }
   ],
   "source": [
    "df.loc[[1165409, 1191927, 1196581, 1196582, 7030914, 7305076, 11392158], '충전시간']"
   ]
  },
  {
   "cell_type": "code",
   "execution_count": 135,
   "metadata": {},
   "outputs": [],
   "source": [
    "# temp = pd.to_timedelta(df['충전시간']) # only leading negative signs are allowed 에러 발생\n",
    "temp = pd.to_timedelta(df['충전시간'], errors='coerce')"
   ]
  },
  {
   "cell_type": "code",
   "execution_count": 136,
   "metadata": {},
   "outputs": [
    {
     "data": {
      "text/plain": [
       "7"
      ]
     },
     "execution_count": 136,
     "metadata": {},
     "output_type": "execute_result"
    }
   ],
   "source": [
    "temp.isnull().sum()"
   ]
  },
  {
   "cell_type": "code",
   "execution_count": 137,
   "metadata": {},
   "outputs": [],
   "source": [
    "temp = temp.to_frame()"
   ]
  },
  {
   "cell_type": "code",
   "execution_count": 138,
   "metadata": {},
   "outputs": [
    {
     "data": {
      "text/html": [
       "<div>\n",
       "<style scoped>\n",
       "    .dataframe tbody tr th:only-of-type {\n",
       "        vertical-align: middle;\n",
       "    }\n",
       "\n",
       "    .dataframe tbody tr th {\n",
       "        vertical-align: top;\n",
       "    }\n",
       "\n",
       "    .dataframe thead th {\n",
       "        text-align: right;\n",
       "    }\n",
       "</style>\n",
       "<table border=\"1\" class=\"dataframe\">\n",
       "  <thead>\n",
       "    <tr style=\"text-align: right;\">\n",
       "      <th></th>\n",
       "      <th>충전시간</th>\n",
       "    </tr>\n",
       "  </thead>\n",
       "  <tbody>\n",
       "    <tr>\n",
       "      <th>1165409</th>\n",
       "      <td>NaT</td>\n",
       "    </tr>\n",
       "    <tr>\n",
       "      <th>1191927</th>\n",
       "      <td>NaT</td>\n",
       "    </tr>\n",
       "    <tr>\n",
       "      <th>1196581</th>\n",
       "      <td>NaT</td>\n",
       "    </tr>\n",
       "    <tr>\n",
       "      <th>1196582</th>\n",
       "      <td>NaT</td>\n",
       "    </tr>\n",
       "    <tr>\n",
       "      <th>7030914</th>\n",
       "      <td>NaT</td>\n",
       "    </tr>\n",
       "    <tr>\n",
       "      <th>7305076</th>\n",
       "      <td>NaT</td>\n",
       "    </tr>\n",
       "    <tr>\n",
       "      <th>11392158</th>\n",
       "      <td>NaT</td>\n",
       "    </tr>\n",
       "  </tbody>\n",
       "</table>\n",
       "</div>"
      ],
      "text/plain": [
       "         충전시간\n",
       "1165409   NaT\n",
       "1191927   NaT\n",
       "1196581   NaT\n",
       "1196582   NaT\n",
       "7030914   NaT\n",
       "7305076   NaT\n",
       "11392158  NaT"
      ]
     },
     "execution_count": 138,
     "metadata": {},
     "output_type": "execute_result"
    }
   ],
   "source": [
    "temp[temp['충전시간'].isnull() == True]"
   ]
  },
  {
   "cell_type": "code",
   "execution_count": 140,
   "metadata": {},
   "outputs": [
    {
     "name": "stdout",
     "output_type": "stream",
     "text": [
      "-6:-2:-5 2020-07-01 19:35:59\n",
      "00:-4:-1 2020-07-05 15:39:18\n",
      "00:-1:-4 2020-07-06 09:05:47\n",
      "00:-1:-2 2020-07-06 09:05:47\n",
      "00:-4:-2 2021-12-30 17:18:27\n",
      "00:-1:-3 2022-01-14 17:53:48\n",
      "-1:-4:-4 2022-08-19 03:00:11\n"
     ]
    }
   ],
   "source": [
    "null_idx = temp[temp['충전시간'].isnull() == True].index\n",
    "for i in null_idx:\n",
    "    print(df.loc[i, '충전시간'], df.loc[i, '충전시작일시(변환)'])"
   ]
  },
  {
   "cell_type": "code",
   "execution_count": 141,
   "metadata": {},
   "outputs": [
    {
     "data": {
      "text/plain": [
       "(11665822, 26)"
      ]
     },
     "execution_count": 141,
     "metadata": {},
     "output_type": "execute_result"
    }
   ],
   "source": [
    "df.shape"
   ]
  },
  {
   "cell_type": "code",
   "execution_count": 142,
   "metadata": {},
   "outputs": [
    {
     "data": {
      "text/plain": [
       "(11665815, 26)"
      ]
     },
     "execution_count": 142,
     "metadata": {},
     "output_type": "execute_result"
    }
   ],
   "source": [
    "df2 = df.drop(null_idx).reset_index(drop=True)\n",
    "df2.shape"
   ]
  },
  {
   "cell_type": "code",
   "execution_count": 143,
   "metadata": {},
   "outputs": [
    {
     "name": "stdout",
     "output_type": "stream",
     "text": [
      "<class 'pandas.core.frame.DataFrame'>\n",
      "RangeIndex: 11665815 entries, 0 to 11665814\n",
      "Data columns (total 26 columns):\n",
      " #   Column      Dtype          \n",
      "---  ------      -----          \n",
      " 0   충전소명        object         \n",
      " 1   충전기ID       int16          \n",
      " 2   지역          object         \n",
      " 3   시군구         object         \n",
      " 4   주소          object         \n",
      " 5   충전기타입       object         \n",
      " 6   충전시작일시      int64          \n",
      " 7   충전종료일시      object         \n",
      " 8   충전시간        object         \n",
      " 9   충전량         float64        \n",
      " 10  충전용량        object         \n",
      " 11  충전시작_년도     int32          \n",
      " 12  충전시작_월      int32          \n",
      " 13  충전시작_일      int32          \n",
      " 14  충전시작_시      int32          \n",
      " 15  충전시작_분      int32          \n",
      " 16  충전시작_초      int32          \n",
      " 17  충전시작일시(변환)  datetime64[ns] \n",
      " 18  충전종료_년도     int32          \n",
      " 19  충전종료_월      int32          \n",
      " 20  충전종료_일      int32          \n",
      " 21  충전종료_시      int32          \n",
      " 22  충전종료_분      int32          \n",
      " 23  충전종료_초      int32          \n",
      " 24  충전종료일시(변환)  datetime64[ns] \n",
      " 25  충전시간(계산)    timedelta64[ns]\n",
      "dtypes: datetime64[ns](2), float64(1), int16(1), int32(12), int64(1), object(8), timedelta64[ns](1)\n",
      "memory usage: 1.7+ GB\n"
     ]
    }
   ],
   "source": [
    "df2.info()"
   ]
  },
  {
   "cell_type": "code",
   "execution_count": 144,
   "metadata": {},
   "outputs": [
    {
     "name": "stdout",
     "output_type": "stream",
     "text": [
      "<class 'pandas.core.frame.DataFrame'>\n",
      "RangeIndex: 11665815 entries, 0 to 11665814\n",
      "Data columns (total 26 columns):\n",
      " #   Column      Dtype          \n",
      "---  ------      -----          \n",
      " 0   충전소명        object         \n",
      " 1   충전기ID       int16          \n",
      " 2   지역          object         \n",
      " 3   시군구         object         \n",
      " 4   주소          object         \n",
      " 5   충전기타입       object         \n",
      " 6   충전시작일시      int64          \n",
      " 7   충전종료일시      object         \n",
      " 8   충전시간        timedelta64[ns]\n",
      " 9   충전량         float64        \n",
      " 10  충전용량        object         \n",
      " 11  충전시작_년도     int32          \n",
      " 12  충전시작_월      int32          \n",
      " 13  충전시작_일      int32          \n",
      " 14  충전시작_시      int32          \n",
      " 15  충전시작_분      int32          \n",
      " 16  충전시작_초      int32          \n",
      " 17  충전시작일시(변환)  datetime64[ns] \n",
      " 18  충전종료_년도     int32          \n",
      " 19  충전종료_월      int32          \n",
      " 20  충전종료_일      int32          \n",
      " 21  충전종료_시      int32          \n",
      " 22  충전종료_분      int32          \n",
      " 23  충전종료_초      int32          \n",
      " 24  충전종료일시(변환)  datetime64[ns] \n",
      " 25  충전시간(계산)    timedelta64[ns]\n",
      "dtypes: datetime64[ns](2), float64(1), int16(1), int32(12), int64(1), object(7), timedelta64[ns](2)\n",
      "memory usage: 1.7+ GB\n"
     ]
    }
   ],
   "source": [
    "df2['충전시간'] = pd.to_timedelta(df2['충전시간'])\n",
    "df2.info()"
   ]
  },
  {
   "cell_type": "code",
   "execution_count": 145,
   "metadata": {},
   "outputs": [
    {
     "data": {
      "text/plain": [
       "count                     11665815\n",
       "mean     0 days 00:34:21.381945453\n",
       "std      0 days 01:20:05.913477577\n",
       "min                0 days 00:00:00\n",
       "25%                0 days 00:20:55\n",
       "50%                0 days 00:34:07\n",
       "75%                0 days 00:40:00\n",
       "max                4 days 03:56:55\n",
       "Name: 충전시간, dtype: object"
      ]
     },
     "execution_count": 145,
     "metadata": {},
     "output_type": "execute_result"
    }
   ],
   "source": [
    "df2['충전시간'].describe()"
   ]
  },
  {
   "cell_type": "code",
   "execution_count": 146,
   "metadata": {},
   "outputs": [
    {
     "data": {
      "text/plain": [
       "count                     11665815\n",
       "mean     0 days 00:29:18.506520633\n",
       "std      4 days 08:44:42.009406092\n",
       "min          -14905 days +09:10:08\n",
       "25%                0 days 00:21:28\n",
       "50%                0 days 00:34:49\n",
       "75%                0 days 00:40:24\n",
       "max               14 days 08:40:25\n",
       "Name: 충전시간(계산), dtype: object"
      ]
     },
     "execution_count": 146,
     "metadata": {},
     "output_type": "execute_result"
    }
   ],
   "source": [
    "df2['충전시간(계산)'].describe()"
   ]
  },
  {
   "cell_type": "code",
   "execution_count": 147,
   "metadata": {},
   "outputs": [
    {
     "data": {
      "text/html": [
       "<div>\n",
       "<style scoped>\n",
       "    .dataframe tbody tr th:only-of-type {\n",
       "        vertical-align: middle;\n",
       "    }\n",
       "\n",
       "    .dataframe tbody tr th {\n",
       "        vertical-align: top;\n",
       "    }\n",
       "\n",
       "    .dataframe thead th {\n",
       "        text-align: right;\n",
       "    }\n",
       "</style>\n",
       "<table border=\"1\" class=\"dataframe\">\n",
       "  <thead>\n",
       "    <tr style=\"text-align: right;\">\n",
       "      <th></th>\n",
       "      <th>충전소명</th>\n",
       "      <th>충전기ID</th>\n",
       "      <th>지역</th>\n",
       "      <th>시군구</th>\n",
       "      <th>주소</th>\n",
       "      <th>충전기타입</th>\n",
       "      <th>충전시작일시</th>\n",
       "      <th>충전종료일시</th>\n",
       "      <th>충전시간</th>\n",
       "      <th>충전량</th>\n",
       "      <th>...</th>\n",
       "      <th>충전시작_초</th>\n",
       "      <th>충전시작일시(변환)</th>\n",
       "      <th>충전종료_년도</th>\n",
       "      <th>충전종료_월</th>\n",
       "      <th>충전종료_일</th>\n",
       "      <th>충전종료_시</th>\n",
       "      <th>충전종료_분</th>\n",
       "      <th>충전종료_초</th>\n",
       "      <th>충전종료일시(변환)</th>\n",
       "      <th>충전시간(계산)</th>\n",
       "    </tr>\n",
       "  </thead>\n",
       "  <tbody>\n",
       "    <tr>\n",
       "      <th>2154135</th>\n",
       "      <td>단양관광안내소(단양팔경)</td>\n",
       "      <td>1</td>\n",
       "      <td>충청북도</td>\n",
       "      <td>단양군</td>\n",
       "      <td>충청북도 단양군 단양읍 고수리 149-1</td>\n",
       "      <td>DC차데모+AC3상+DC콤보</td>\n",
       "      <td>20201030144953</td>\n",
       "      <td>19800110000001</td>\n",
       "      <td>3 days 10:47:44</td>\n",
       "      <td>14.20000</td>\n",
       "      <td>...</td>\n",
       "      <td>53</td>\n",
       "      <td>2020-10-30 14:49:53</td>\n",
       "      <td>1980</td>\n",
       "      <td>1</td>\n",
       "      <td>10</td>\n",
       "      <td>0</td>\n",
       "      <td>0</td>\n",
       "      <td>1</td>\n",
       "      <td>1980-01-10 00:00:01</td>\n",
       "      <td>-14905 days +09:10:08</td>\n",
       "    </tr>\n",
       "  </tbody>\n",
       "</table>\n",
       "<p>1 rows × 26 columns</p>\n",
       "</div>"
      ],
      "text/plain": [
       "                  충전소명  충전기ID    지역  시군구                      주소  \\\n",
       "2154135  단양관광안내소(단양팔경)      1  충청북도  단양군  충청북도 단양군 단양읍 고수리 149-1   \n",
       "\n",
       "                   충전기타입          충전시작일시          충전종료일시            충전시간  \\\n",
       "2154135  DC차데모+AC3상+DC콤보  20201030144953  19800110000001 3 days 10:47:44   \n",
       "\n",
       "             충전량  ... 충전시작_초          충전시작일시(변환)  충전종료_년도  충전종료_월  충전종료_일  \\\n",
       "2154135 14.20000  ...     53 2020-10-30 14:49:53     1980       1      10   \n",
       "\n",
       "         충전종료_시  충전종료_분 충전종료_초          충전종료일시(변환)              충전시간(계산)  \n",
       "2154135       0       0      1 1980-01-10 00:00:01 -14905 days +09:10:08  \n",
       "\n",
       "[1 rows x 26 columns]"
      ]
     },
     "execution_count": 147,
     "metadata": {},
     "output_type": "execute_result"
    }
   ],
   "source": [
    "df2[df2['충전시간(계산)'] == '-14905 days +09:10:08']"
   ]
  },
  {
   "cell_type": "markdown",
   "metadata": {},
   "source": [
    "##### df2 출력\n",
    "- 충전시간 오류 제거 : 7개"
   ]
  },
  {
   "cell_type": "code",
   "execution_count": 60,
   "metadata": {},
   "outputs": [
    {
     "name": "stdout",
     "output_type": "stream",
     "text": [
      "<class 'pandas.core.frame.DataFrame'>\n",
      "RangeIndex: 11665815 entries, 0 to 11665814\n",
      "Data columns (total 26 columns):\n",
      " #   Column      Dtype          \n",
      "---  ------      -----          \n",
      " 0   충전소명        object         \n",
      " 1   충전기ID       int8           \n",
      " 2   지역          object         \n",
      " 3   시군구         object         \n",
      " 4   주소          object         \n",
      " 5   충전기타입       object         \n",
      " 6   충전시작일시      int64          \n",
      " 7   충전종료일시      int64          \n",
      " 8   충전시간        timedelta64[ns]\n",
      " 9   충전량         float64        \n",
      " 10  충전용량        object         \n",
      " 11  충전시작_년도     int16          \n",
      " 12  충전시작_월      int8           \n",
      " 13  충전시작_일      int8           \n",
      " 14  충전시작_시      int8           \n",
      " 15  충전시작_분      int8           \n",
      " 16  충전시작_초      int8           \n",
      " 17  충전시작일시(변환)  object         \n",
      " 18  충전종료_년도     int16          \n",
      " 19  충전종료_월      int8           \n",
      " 20  충전종료_일      int8           \n",
      " 21  충전종료_시      int8           \n",
      " 22  충전종료_분      int8           \n",
      " 23  충전종료_초      int8           \n",
      " 24  충전종료일시(변환)  object         \n",
      " 25  충전시간(계산)    timedelta64[ns]\n",
      "dtypes: float64(1), int16(2), int64(2), int8(11), object(8), timedelta64[ns](2)\n",
      "memory usage: 1.3+ GB\n"
     ]
    }
   ],
   "source": [
    "df2.info()"
   ]
  },
  {
   "cell_type": "code",
   "execution_count": 61,
   "metadata": {},
   "outputs": [],
   "source": [
    "df2.to_csv('2020-22년_급속충전_충전시간_오류제거.csv', encoding='utf-8', index=False)"
   ]
  },
  {
   "cell_type": "markdown",
   "metadata": {},
   "source": [
    "## 데이터 로드(다시 시작)"
   ]
  },
  {
   "cell_type": "code",
   "execution_count": 4,
   "metadata": {},
   "outputs": [
    {
     "name": "stderr",
     "output_type": "stream",
     "text": [
      "C:\\Users\\kbj\\AppData\\Local\\Temp\\ipykernel_848\\2104362447.py:1: DtypeWarning: Columns (11) have mixed types. Specify dtype option on import or set low_memory=False.\n",
      "  df2 = pd.read_csv('2020-22년_급속충전_충전시간_오류제거.csv', index_col=0, dtype={'충전시작_년도':np.int16, '충전종료_년도':np.int16, '충전시작_월':np.int8,  '충전시작_일':np.int8, '충전시작_시':np.int8, '충전시작_분':np.int8, '충전시작_초':np.int8, '충전종료_월':np.int8, '충전종료_일':np.int8, '충전종료_시':np.int8, '충전종료_분':np.int8, '충전종료_초':np.int8, '충전기ID':np.int8})\n"
     ]
    },
    {
     "name": "stdout",
     "output_type": "stream",
     "text": [
      "<class 'pandas.core.frame.DataFrame'>\n",
      "RangeIndex: 11665815 entries, 0 to 11665814\n",
      "Data columns (total 26 columns):\n",
      " #   Column      Dtype          \n",
      "---  ------      -----          \n",
      " 0   충전소명        object         \n",
      " 1   충전기ID       int8           \n",
      " 2   지역          object         \n",
      " 3   시군구         object         \n",
      " 4   주소          object         \n",
      " 5   충전기타입       object         \n",
      " 6   충전시작일시      int64          \n",
      " 7   충전종료일시      int64          \n",
      " 8   충전시간        timedelta64[ns]\n",
      " 9   충전량         float64        \n",
      " 10  충전용량        object         \n",
      " 11  충전시작_년도     int16          \n",
      " 12  충전시작_월      int8           \n",
      " 13  충전시작_일      int8           \n",
      " 14  충전시작_시      int8           \n",
      " 15  충전시작_분      int8           \n",
      " 16  충전시작_초      int8           \n",
      " 17  충전시작일시(변환)  object         \n",
      " 18  충전종료_년도     int16          \n",
      " 19  충전종료_월      int8           \n",
      " 20  충전종료_일      int8           \n",
      " 21  충전종료_시      int8           \n",
      " 22  충전종료_분      int8           \n",
      " 23  충전종료_초      int8           \n",
      " 24  충전종료일시(변환)  object         \n",
      " 25  충전시간(계산)    timedelta64[ns]\n",
      "dtypes: float64(1), int16(2), int64(2), int8(11), object(8), timedelta64[ns](2)\n",
      "memory usage: 1.3+ GB\n"
     ]
    }
   ],
   "source": [
    "df2 = pd.read_csv('2020-22년_급속충전_충전시간_오류제거.csv', index_col=0, dtype={'충전시작_년도':np.int16, '충전종료_년도':np.int16, '충전시작_월':np.int8,  '충전시작_일':np.int8, '충전시작_시':np.int8, '충전시작_분':np.int8, '충전시작_초':np.int8, '충전종료_월':np.int8, '충전종료_일':np.int8, '충전종료_시':np.int8, '충전종료_분':np.int8, '충전종료_초':np.int8, '충전기ID':np.int8})\n",
    "df2['충전시간'] = pd.to_timedelta(df2['충전시간'])\n",
    "df2['충전시간(계산)'] = pd.to_timedelta(df2['충전시간(계산)'])\n",
    "df2 = df2.reset_index(drop=True)\n",
    "df2.info()"
   ]
  },
  {
   "cell_type": "code",
   "execution_count": 5,
   "metadata": {},
   "outputs": [
    {
     "name": "stdout",
     "output_type": "stream",
     "text": [
      "0\n"
     ]
    }
   ],
   "source": [
    "count = 0\n",
    "for one in df2['충전소명']:\n",
    "    if '\"' in one:\n",
    "        count += 1\n",
    "print(count)"
   ]
  },
  {
   "cell_type": "markdown",
   "metadata": {},
   "source": [
    "### [분석] 연도/지역별 충전기ID 개수\n",
    "- 충전시간(계산) 음수 값 유지"
   ]
  },
  {
   "cell_type": "code",
   "execution_count": 6,
   "metadata": {},
   "outputs": [
    {
     "data": {
      "text/plain": [
       "(17585, 26)"
      ]
     },
     "execution_count": 6,
     "metadata": {},
     "output_type": "execute_result"
    }
   ],
   "source": [
    "numch_col = ['충전시작_년도', '충전소명', '충전기ID']\n",
    "numch = df2.drop_duplicates(numch_col, keep='first').reset_index(drop=True)\n",
    "numch.shape"
   ]
  },
  {
   "cell_type": "code",
   "execution_count": 7,
   "metadata": {},
   "outputs": [
    {
     "data": {
      "text/plain": [
       "충전시작_년도  지역    시군구  충전기ID\n",
       "2020     강원도   강릉시  1        15\n",
       "                    2        11\n",
       "                    3         5\n",
       "                    4         1\n",
       "                    21        1\n",
       "                             ..\n",
       "2022     충청북도  충주시  44        2\n",
       "                    45        1\n",
       "                    81        1\n",
       "                    82        1\n",
       "                    91        1\n",
       "Name: 시군구별 충전기ID별 개수, Length: 5040, dtype: int64"
      ]
     },
     "execution_count": 7,
     "metadata": {},
     "output_type": "execute_result"
    }
   ],
   "source": [
    "numch_group_chargerID = numch.groupby(['충전시작_년도', '지역', '시군구', '충전기ID'])['충전소명'].count().rename('시군구별 충전기ID별 개수')\n",
    "numch_group_chargerID"
   ]
  },
  {
   "cell_type": "code",
   "execution_count": 8,
   "metadata": {},
   "outputs": [
    {
     "data": {
      "text/plain": [
       "66         강릉휴게소(강릉방향)\n",
       "499        강릉휴게소(인천방향)\n",
       "516        구정휴게소(속초방향)\n",
       "594          정동진해변 주차장\n",
       "715        구정휴게소(동해방향)\n",
       "1277           강릉종합운동장\n",
       "2834           강북공설운동장\n",
       "2836       옥계휴게소(속초방향)\n",
       "3115    하나로마트 강릉농협 강동점\n",
       "3462       강릉 모래내 행복센터\n",
       "3668       국민연금공단 강릉사옥\n",
       "3743     한국폴리텍대학 강릉캠퍼스\n",
       "4188      북강릉농협연곡하나로마트\n",
       "4256            왕산면사무소\n",
       "4258          제2정문 주차장\n",
       "Name: 충전소명, dtype: object"
      ]
     },
     "execution_count": 8,
     "metadata": {},
     "output_type": "execute_result"
    }
   ],
   "source": [
    "numch[(numch['충전시작_년도'] == 2020) & (numch['지역'] == '강원도') & (numch['시군구'] == '강릉시') & (numch['충전기ID'] == 1)]['충전소명']"
   ]
  },
  {
   "cell_type": "code",
   "execution_count": 9,
   "metadata": {},
   "outputs": [
    {
     "data": {
      "text/plain": [
       "지역    시군구  충전기ID  충전시작_년도\n",
       "강원도   강릉시  1      2020       15\n",
       "                  2021       17\n",
       "                  2022       20\n",
       "           2      2020       11\n",
       "                  2021       11\n",
       "                             ..\n",
       "충청북도  충주시  81     2022        1\n",
       "           82     2022        1\n",
       "           91     2020        1\n",
       "                  2021        1\n",
       "                  2022        1\n",
       "Name: 충전기ID별 개수, Length: 5040, dtype: int64"
      ]
     },
     "execution_count": 9,
     "metadata": {},
     "output_type": "execute_result"
    }
   ],
   "source": [
    "numch_group_chargerID_y = numch.groupby(['지역', '시군구', '충전기ID', '충전시작_년도'])['충전소명'].count().rename('충전기ID별 개수')\n",
    "numch_group_chargerID_y"
   ]
  },
  {
   "cell_type": "code",
   "execution_count": 10,
   "metadata": {},
   "outputs": [
    {
     "data": {
      "text/plain": [
       "지역    시군구  충전시작_년도\n",
       "강원도   강릉시  2020                [4, 1, 3, 2, 52, 42, 41, 43, 44, 21, 22]\n",
       "           2021            [42, 3, 1, 52, 2, 43, 41, 22, 4, 21, 44, 45]\n",
       "           2022               [1, 2, 22, 3, 21, 42, 45, 43, 41, 52, 44]\n",
       "      고성군  2020                                          [12, 11, 1, 2]\n",
       "           2021                                          [12, 2, 1, 11]\n",
       "                                            ...                        \n",
       "충청북도  청주시  2021          [1, 43, 2, 12, 11, 42, 52, 41, 21, 22, 45, 44]\n",
       "           2022       [1, 12, 41, 11, 2, 21, 22, 52, 44, 42, 45, 43,...\n",
       "      충주시  2020          [1, 11, 12, 2, 21, 22, 91, 41, 42, 45, 44, 43]\n",
       "           2021       [1, 12, 21, 22, 42, 41, 2, 43, 11, 44, 45, 91,...\n",
       "           2022       [1, 12, 21, 22, 91, 2, 11, 44, 42, 45, 24, 43,...\n",
       "Name: 충전기ID unique값, Length: 744, dtype: object"
      ]
     },
     "execution_count": 10,
     "metadata": {},
     "output_type": "execute_result"
    }
   ],
   "source": [
    "numch_group_chargerID_y_u = numch.groupby(['지역', '시군구', '충전시작_년도'])['충전기ID'].unique().rename('충전기ID unique값')\n",
    "numch_group_chargerID_y_u"
   ]
  },
  {
   "cell_type": "code",
   "execution_count": 11,
   "metadata": {},
   "outputs": [
    {
     "data": {
      "text/plain": [
       "(744,)"
      ]
     },
     "execution_count": 11,
     "metadata": {},
     "output_type": "execute_result"
    }
   ],
   "source": [
    "numch_group_chargerID_y_u.shape"
   ]
  },
  {
   "cell_type": "code",
   "execution_count": 12,
   "metadata": {},
   "outputs": [
    {
     "data": {
      "text/plain": [
       "array([ 4,  1,  3,  2, 52, 42, 41, 43, 44, 21, 22], dtype=int8)"
      ]
     },
     "execution_count": 12,
     "metadata": {},
     "output_type": "execute_result"
    }
   ],
   "source": [
    "numch_group_chargerID_y_u.iloc[0]"
   ]
  },
  {
   "cell_type": "code",
   "execution_count": 13,
   "metadata": {},
   "outputs": [],
   "source": [
    "for i, one in enumerate(numch_group_chargerID_y_u):\n",
    "    numch_group_chargerID_y_u.iloc[i] = sorted(one)"
   ]
  },
  {
   "cell_type": "code",
   "execution_count": 14,
   "metadata": {},
   "outputs": [
    {
     "data": {
      "text/plain": [
       "지역    시군구  충전시작_년도\n",
       "강원도   강릉시  2020                [1, 2, 3, 4, 21, 22, 41, 42, 43, 44, 52]\n",
       "           2021            [1, 2, 3, 4, 21, 22, 41, 42, 43, 44, 45, 52]\n",
       "           2022               [1, 2, 3, 21, 22, 41, 42, 43, 44, 45, 52]\n",
       "      고성군  2020                                          [1, 2, 11, 12]\n",
       "           2021                                          [1, 2, 11, 12]\n",
       "                                            ...                        \n",
       "충청북도  청주시  2021          [1, 2, 11, 12, 21, 22, 41, 42, 43, 44, 45, 52]\n",
       "           2022       [1, 2, 3, 11, 12, 21, 22, 23, 24, 41, 42, 43, ...\n",
       "      충주시  2020          [1, 2, 11, 12, 21, 22, 41, 42, 43, 44, 45, 91]\n",
       "           2021       [1, 2, 11, 12, 21, 22, 23, 24, 41, 42, 43, 44,...\n",
       "           2022       [1, 2, 3, 4, 11, 12, 21, 22, 23, 24, 41, 42, 4...\n",
       "Name: 충전기ID unique값, Length: 744, dtype: object"
      ]
     },
     "execution_count": 14,
     "metadata": {},
     "output_type": "execute_result"
    }
   ],
   "source": [
    "numch_group_chargerID_y_u"
   ]
  },
  {
   "cell_type": "code",
   "execution_count": 15,
   "metadata": {},
   "outputs": [
    {
     "data": {
      "text/plain": [
       "지역    시군구  충전시작_년도\n",
       "강원도   강릉시  2020       11\n",
       "           2021       12\n",
       "           2022       11\n",
       "      고성군  2020        4\n",
       "           2021        4\n",
       "                      ..\n",
       "충청북도  청주시  2021       12\n",
       "           2022       15\n",
       "      충주시  2020       12\n",
       "           2021       14\n",
       "           2022       18\n",
       "Name: 충전기ID nunique, Length: 744, dtype: int64"
      ]
     },
     "execution_count": 15,
     "metadata": {},
     "output_type": "execute_result"
    }
   ],
   "source": [
    "numch_group_chargerID_y_nu = numch.groupby(['지역', '시군구', '충전시작_년도'])['충전기ID'].nunique().rename('충전기ID nunique')\n",
    "numch_group_chargerID_y_nu"
   ]
  },
  {
   "cell_type": "code",
   "execution_count": 16,
   "metadata": {},
   "outputs": [
    {
     "data": {
      "text/plain": [
       "충전시작_년도  지역    충전기ID\n",
       "2020     강원도   1        158\n",
       "               2         56\n",
       "               3         10\n",
       "               4          2\n",
       "               11        39\n",
       "                       ... \n",
       "2022     충청북도  45         2\n",
       "               52         8\n",
       "               81         2\n",
       "               82         2\n",
       "               91         5\n",
       "Name: 지역별 ID별 충전기 개수, Length: 1015, dtype: int64"
      ]
     },
     "execution_count": 16,
     "metadata": {},
     "output_type": "execute_result"
    }
   ],
   "source": [
    "numch_group_chargerID_sum = numch.groupby(['충전시작_년도', '지역', '충전기ID'])['충전소명'].count().rename('지역별 ID별 충전기 개수')\n",
    "numch_group_chargerID_sum"
   ]
  },
  {
   "cell_type": "code",
   "execution_count": 88,
   "metadata": {},
   "outputs": [],
   "source": [
    "numch_group_chargerID_file = pd.ExcelWriter('분석/2020-22년_년도_지역별_충전기ID_수2.xlsx')\n",
    "numch_group_chargerID.to_excel(numch_group_chargerID_file, sheet_name='시군구별 충전기ID별 개수')\n",
    "numch_group_chargerID_y.to_excel(numch_group_chargerID_file, sheet_name='충전기ID별 개수')\n",
    "numch_group_chargerID_y_u.to_excel(numch_group_chargerID_file, sheet_name='충전기ID unique값')\n",
    "numch_group_chargerID_y_nu.to_excel(numch_group_chargerID_file, sheet_name='충전기ID nunique')\n",
    "numch_group_chargerID_sum.to_excel(numch_group_chargerID_file, sheet_name='지역별 ID별 충전기 개수')\n",
    "numch_group_chargerID_file.save()"
   ]
  },
  {
   "cell_type": "markdown",
   "metadata": {},
   "source": [
    "### 충전시간 데이터 확인"
   ]
  },
  {
   "cell_type": "code",
   "execution_count": 17,
   "metadata": {},
   "outputs": [
    {
     "data": {
      "text/html": [
       "<div>\n",
       "<style scoped>\n",
       "    .dataframe tbody tr th:only-of-type {\n",
       "        vertical-align: middle;\n",
       "    }\n",
       "\n",
       "    .dataframe tbody tr th {\n",
       "        vertical-align: top;\n",
       "    }\n",
       "\n",
       "    .dataframe thead th {\n",
       "        text-align: right;\n",
       "    }\n",
       "</style>\n",
       "<table border=\"1\" class=\"dataframe\">\n",
       "  <thead>\n",
       "    <tr style=\"text-align: right;\">\n",
       "      <th></th>\n",
       "      <th>충전소명</th>\n",
       "      <th>충전기ID</th>\n",
       "      <th>지역</th>\n",
       "      <th>시군구</th>\n",
       "      <th>주소</th>\n",
       "      <th>충전기타입</th>\n",
       "      <th>충전시작일시</th>\n",
       "      <th>충전종료일시</th>\n",
       "      <th>충전시간</th>\n",
       "      <th>충전량</th>\n",
       "      <th>...</th>\n",
       "      <th>충전시작_초</th>\n",
       "      <th>충전시작일시(변환)</th>\n",
       "      <th>충전종료_년도</th>\n",
       "      <th>충전종료_월</th>\n",
       "      <th>충전종료_일</th>\n",
       "      <th>충전종료_시</th>\n",
       "      <th>충전종료_분</th>\n",
       "      <th>충전종료_초</th>\n",
       "      <th>충전종료일시(변환)</th>\n",
       "      <th>충전시간(계산)</th>\n",
       "    </tr>\n",
       "  </thead>\n",
       "  <tbody>\n",
       "    <tr>\n",
       "      <th>40755</th>\n",
       "      <td>스포츠파크 주차장</td>\n",
       "      <td>11</td>\n",
       "      <td>경상남도</td>\n",
       "      <td>거창군</td>\n",
       "      <td>경상남도 거창군 거창읍 심소정길39-36</td>\n",
       "      <td>DC콤보</td>\n",
       "      <td>20200106124403</td>\n",
       "      <td>20200106124403</td>\n",
       "      <td>0 days</td>\n",
       "      <td>1.02000</td>\n",
       "      <td>...</td>\n",
       "      <td>3</td>\n",
       "      <td>2020-01-06 12:44:03</td>\n",
       "      <td>2020</td>\n",
       "      <td>1</td>\n",
       "      <td>6</td>\n",
       "      <td>12</td>\n",
       "      <td>44</td>\n",
       "      <td>3</td>\n",
       "      <td>2020-01-06 12:44:03</td>\n",
       "      <td>0 days 00:00:00</td>\n",
       "    </tr>\n",
       "    <tr>\n",
       "      <th>48908</th>\n",
       "      <td>이마트 파주운정점</td>\n",
       "      <td>11</td>\n",
       "      <td>경기도</td>\n",
       "      <td>파주시</td>\n",
       "      <td>경기도 파주시 한울로 123</td>\n",
       "      <td>DC콤보</td>\n",
       "      <td>20200107165228</td>\n",
       "      <td>20200107165255</td>\n",
       "      <td>0 days</td>\n",
       "      <td>22.51000</td>\n",
       "      <td>...</td>\n",
       "      <td>28</td>\n",
       "      <td>2020-01-07 16:52:28</td>\n",
       "      <td>2020</td>\n",
       "      <td>1</td>\n",
       "      <td>7</td>\n",
       "      <td>16</td>\n",
       "      <td>52</td>\n",
       "      <td>55</td>\n",
       "      <td>2020-01-07 16:52:55</td>\n",
       "      <td>0 days 00:00:27</td>\n",
       "    </tr>\n",
       "    <tr>\n",
       "      <th>61941</th>\n",
       "      <td>(재)문화엑스포</td>\n",
       "      <td>11</td>\n",
       "      <td>경상북도</td>\n",
       "      <td>경주시</td>\n",
       "      <td>경상북도 경주시 경감로 614</td>\n",
       "      <td>DC콤보</td>\n",
       "      <td>20200109145420</td>\n",
       "      <td>20200109145420</td>\n",
       "      <td>0 days</td>\n",
       "      <td>1.18000</td>\n",
       "      <td>...</td>\n",
       "      <td>20</td>\n",
       "      <td>2020-01-09 14:54:20</td>\n",
       "      <td>2020</td>\n",
       "      <td>1</td>\n",
       "      <td>9</td>\n",
       "      <td>14</td>\n",
       "      <td>54</td>\n",
       "      <td>20</td>\n",
       "      <td>2020-01-09 14:54:20</td>\n",
       "      <td>0 days 00:00:00</td>\n",
       "    </tr>\n",
       "    <tr>\n",
       "      <th>103629</th>\n",
       "      <td>종합사회복지관</td>\n",
       "      <td>12</td>\n",
       "      <td>충청남도</td>\n",
       "      <td>공주시</td>\n",
       "      <td>충청남도 공주시 의당면 의당로 257</td>\n",
       "      <td>DC콤보</td>\n",
       "      <td>20200114192124</td>\n",
       "      <td>20200114192132</td>\n",
       "      <td>0 days</td>\n",
       "      <td>14.58000</td>\n",
       "      <td>...</td>\n",
       "      <td>24</td>\n",
       "      <td>2020-01-14 19:21:24</td>\n",
       "      <td>2020</td>\n",
       "      <td>1</td>\n",
       "      <td>14</td>\n",
       "      <td>19</td>\n",
       "      <td>21</td>\n",
       "      <td>32</td>\n",
       "      <td>2020-01-14 19:21:32</td>\n",
       "      <td>0 days 00:00:08</td>\n",
       "    </tr>\n",
       "    <tr>\n",
       "      <th>156226</th>\n",
       "      <td>부안국민체육센터</td>\n",
       "      <td>11</td>\n",
       "      <td>전라북도</td>\n",
       "      <td>부안군</td>\n",
       "      <td>전라북도 부안군 부안읍 석정로 162</td>\n",
       "      <td>DC콤보</td>\n",
       "      <td>20200121162513</td>\n",
       "      <td>20200121162513</td>\n",
       "      <td>0 days</td>\n",
       "      <td>1.48000</td>\n",
       "      <td>...</td>\n",
       "      <td>13</td>\n",
       "      <td>2020-01-21 16:25:13</td>\n",
       "      <td>2020</td>\n",
       "      <td>1</td>\n",
       "      <td>21</td>\n",
       "      <td>16</td>\n",
       "      <td>25</td>\n",
       "      <td>13</td>\n",
       "      <td>2020-01-21 16:25:13</td>\n",
       "      <td>0 days 00:00:00</td>\n",
       "    </tr>\n",
       "  </tbody>\n",
       "</table>\n",
       "<p>5 rows × 26 columns</p>\n",
       "</div>"
      ],
      "text/plain": [
       "             충전소명  충전기ID    지역  시군구                      주소 충전기타입  \\\n",
       "40755   스포츠파크 주차장     11  경상남도  거창군  경상남도 거창군 거창읍 심소정길39-36  DC콤보   \n",
       "48908   이마트 파주운정점     11   경기도  파주시         경기도 파주시 한울로 123  DC콤보   \n",
       "61941    (재)문화엑스포     11  경상북도  경주시        경상북도 경주시 경감로 614  DC콤보   \n",
       "103629    종합사회복지관     12  충청남도  공주시    충청남도 공주시 의당면 의당로 257  DC콤보   \n",
       "156226   부안국민체육센터     11  전라북도  부안군    전라북도 부안군 부안읍 석정로 162  DC콤보   \n",
       "\n",
       "                충전시작일시          충전종료일시   충전시간      충전량  ... 충전시작_초  \\\n",
       "40755   20200106124403  20200106124403 0 days  1.02000  ...      3   \n",
       "48908   20200107165228  20200107165255 0 days 22.51000  ...     28   \n",
       "61941   20200109145420  20200109145420 0 days  1.18000  ...     20   \n",
       "103629  20200114192124  20200114192132 0 days 14.58000  ...     24   \n",
       "156226  20200121162513  20200121162513 0 days  1.48000  ...     13   \n",
       "\n",
       "                 충전시작일시(변환)  충전종료_년도  충전종료_월  충전종료_일  충전종료_시  충전종료_분 충전종료_초  \\\n",
       "40755   2020-01-06 12:44:03     2020       1       6      12      44      3   \n",
       "48908   2020-01-07 16:52:28     2020       1       7      16      52     55   \n",
       "61941   2020-01-09 14:54:20     2020       1       9      14      54     20   \n",
       "103629  2020-01-14 19:21:24     2020       1      14      19      21     32   \n",
       "156226  2020-01-21 16:25:13     2020       1      21      16      25     13   \n",
       "\n",
       "                 충전종료일시(변환)        충전시간(계산)  \n",
       "40755   2020-01-06 12:44:03 0 days 00:00:00  \n",
       "48908   2020-01-07 16:52:55 0 days 00:00:27  \n",
       "61941   2020-01-09 14:54:20 0 days 00:00:00  \n",
       "103629  2020-01-14 19:21:32 0 days 00:00:08  \n",
       "156226  2020-01-21 16:25:13 0 days 00:00:00  \n",
       "\n",
       "[5 rows x 26 columns]"
      ]
     },
     "execution_count": 17,
     "metadata": {},
     "output_type": "execute_result"
    }
   ],
   "source": [
    "df2[df2['충전시간'] == '0 days 00:00:00'].head()"
   ]
  },
  {
   "cell_type": "code",
   "execution_count": 18,
   "metadata": {},
   "outputs": [
    {
     "data": {
      "text/plain": [
       "(5702, 26)"
      ]
     },
     "execution_count": 18,
     "metadata": {},
     "output_type": "execute_result"
    }
   ],
   "source": [
    "df2[df2['충전시간'] == '0 days 00:00:00'].shape"
   ]
  },
  {
   "cell_type": "code",
   "execution_count": 22,
   "metadata": {},
   "outputs": [
    {
     "data": {
      "text/html": [
       "<div>\n",
       "<style scoped>\n",
       "    .dataframe tbody tr th:only-of-type {\n",
       "        vertical-align: middle;\n",
       "    }\n",
       "\n",
       "    .dataframe tbody tr th {\n",
       "        vertical-align: top;\n",
       "    }\n",
       "\n",
       "    .dataframe thead th {\n",
       "        text-align: right;\n",
       "    }\n",
       "</style>\n",
       "<table border=\"1\" class=\"dataframe\">\n",
       "  <thead>\n",
       "    <tr style=\"text-align: right;\">\n",
       "      <th></th>\n",
       "      <th>충전소명</th>\n",
       "      <th>충전기ID</th>\n",
       "      <th>지역</th>\n",
       "      <th>시군구</th>\n",
       "      <th>주소</th>\n",
       "      <th>충전기타입</th>\n",
       "      <th>충전시작일시</th>\n",
       "      <th>충전종료일시</th>\n",
       "      <th>충전시간</th>\n",
       "      <th>충전량</th>\n",
       "      <th>...</th>\n",
       "      <th>충전시작_초</th>\n",
       "      <th>충전시작일시(변환)</th>\n",
       "      <th>충전종료_년도</th>\n",
       "      <th>충전종료_월</th>\n",
       "      <th>충전종료_일</th>\n",
       "      <th>충전종료_시</th>\n",
       "      <th>충전종료_분</th>\n",
       "      <th>충전종료_초</th>\n",
       "      <th>충전종료일시(변환)</th>\n",
       "      <th>충전시간(계산)</th>\n",
       "    </tr>\n",
       "  </thead>\n",
       "  <tbody>\n",
       "    <tr>\n",
       "      <th>40755</th>\n",
       "      <td>스포츠파크 주차장</td>\n",
       "      <td>11</td>\n",
       "      <td>경상남도</td>\n",
       "      <td>거창군</td>\n",
       "      <td>경상남도 거창군 거창읍 심소정길39-36</td>\n",
       "      <td>DC콤보</td>\n",
       "      <td>20200106124403</td>\n",
       "      <td>20200106124403</td>\n",
       "      <td>0 days</td>\n",
       "      <td>1.02000</td>\n",
       "      <td>...</td>\n",
       "      <td>3</td>\n",
       "      <td>2020-01-06 12:44:03</td>\n",
       "      <td>2020</td>\n",
       "      <td>1</td>\n",
       "      <td>6</td>\n",
       "      <td>12</td>\n",
       "      <td>44</td>\n",
       "      <td>3</td>\n",
       "      <td>2020-01-06 12:44:03</td>\n",
       "      <td>0 days 00:00:00</td>\n",
       "    </tr>\n",
       "    <tr>\n",
       "      <th>48908</th>\n",
       "      <td>이마트 파주운정점</td>\n",
       "      <td>11</td>\n",
       "      <td>경기도</td>\n",
       "      <td>파주시</td>\n",
       "      <td>경기도 파주시 한울로 123</td>\n",
       "      <td>DC콤보</td>\n",
       "      <td>20200107165228</td>\n",
       "      <td>20200107165255</td>\n",
       "      <td>0 days</td>\n",
       "      <td>22.51000</td>\n",
       "      <td>...</td>\n",
       "      <td>28</td>\n",
       "      <td>2020-01-07 16:52:28</td>\n",
       "      <td>2020</td>\n",
       "      <td>1</td>\n",
       "      <td>7</td>\n",
       "      <td>16</td>\n",
       "      <td>52</td>\n",
       "      <td>55</td>\n",
       "      <td>2020-01-07 16:52:55</td>\n",
       "      <td>0 days 00:00:27</td>\n",
       "    </tr>\n",
       "    <tr>\n",
       "      <th>61941</th>\n",
       "      <td>(재)문화엑스포</td>\n",
       "      <td>11</td>\n",
       "      <td>경상북도</td>\n",
       "      <td>경주시</td>\n",
       "      <td>경상북도 경주시 경감로 614</td>\n",
       "      <td>DC콤보</td>\n",
       "      <td>20200109145420</td>\n",
       "      <td>20200109145420</td>\n",
       "      <td>0 days</td>\n",
       "      <td>1.18000</td>\n",
       "      <td>...</td>\n",
       "      <td>20</td>\n",
       "      <td>2020-01-09 14:54:20</td>\n",
       "      <td>2020</td>\n",
       "      <td>1</td>\n",
       "      <td>9</td>\n",
       "      <td>14</td>\n",
       "      <td>54</td>\n",
       "      <td>20</td>\n",
       "      <td>2020-01-09 14:54:20</td>\n",
       "      <td>0 days 00:00:00</td>\n",
       "    </tr>\n",
       "    <tr>\n",
       "      <th>103629</th>\n",
       "      <td>종합사회복지관</td>\n",
       "      <td>12</td>\n",
       "      <td>충청남도</td>\n",
       "      <td>공주시</td>\n",
       "      <td>충청남도 공주시 의당면 의당로 257</td>\n",
       "      <td>DC콤보</td>\n",
       "      <td>20200114192124</td>\n",
       "      <td>20200114192132</td>\n",
       "      <td>0 days</td>\n",
       "      <td>14.58000</td>\n",
       "      <td>...</td>\n",
       "      <td>24</td>\n",
       "      <td>2020-01-14 19:21:24</td>\n",
       "      <td>2020</td>\n",
       "      <td>1</td>\n",
       "      <td>14</td>\n",
       "      <td>19</td>\n",
       "      <td>21</td>\n",
       "      <td>32</td>\n",
       "      <td>2020-01-14 19:21:32</td>\n",
       "      <td>0 days 00:00:08</td>\n",
       "    </tr>\n",
       "    <tr>\n",
       "      <th>156226</th>\n",
       "      <td>부안국민체육센터</td>\n",
       "      <td>11</td>\n",
       "      <td>전라북도</td>\n",
       "      <td>부안군</td>\n",
       "      <td>전라북도 부안군 부안읍 석정로 162</td>\n",
       "      <td>DC콤보</td>\n",
       "      <td>20200121162513</td>\n",
       "      <td>20200121162513</td>\n",
       "      <td>0 days</td>\n",
       "      <td>1.48000</td>\n",
       "      <td>...</td>\n",
       "      <td>13</td>\n",
       "      <td>2020-01-21 16:25:13</td>\n",
       "      <td>2020</td>\n",
       "      <td>1</td>\n",
       "      <td>21</td>\n",
       "      <td>16</td>\n",
       "      <td>25</td>\n",
       "      <td>13</td>\n",
       "      <td>2020-01-21 16:25:13</td>\n",
       "      <td>0 days 00:00:00</td>\n",
       "    </tr>\n",
       "  </tbody>\n",
       "</table>\n",
       "<p>5 rows × 26 columns</p>\n",
       "</div>"
      ],
      "text/plain": [
       "             충전소명  충전기ID    지역  시군구                      주소 충전기타입  \\\n",
       "40755   스포츠파크 주차장     11  경상남도  거창군  경상남도 거창군 거창읍 심소정길39-36  DC콤보   \n",
       "48908   이마트 파주운정점     11   경기도  파주시         경기도 파주시 한울로 123  DC콤보   \n",
       "61941    (재)문화엑스포     11  경상북도  경주시        경상북도 경주시 경감로 614  DC콤보   \n",
       "103629    종합사회복지관     12  충청남도  공주시    충청남도 공주시 의당면 의당로 257  DC콤보   \n",
       "156226   부안국민체육센터     11  전라북도  부안군    전라북도 부안군 부안읍 석정로 162  DC콤보   \n",
       "\n",
       "                충전시작일시          충전종료일시   충전시간      충전량  ... 충전시작_초  \\\n",
       "40755   20200106124403  20200106124403 0 days  1.02000  ...      3   \n",
       "48908   20200107165228  20200107165255 0 days 22.51000  ...     28   \n",
       "61941   20200109145420  20200109145420 0 days  1.18000  ...     20   \n",
       "103629  20200114192124  20200114192132 0 days 14.58000  ...     24   \n",
       "156226  20200121162513  20200121162513 0 days  1.48000  ...     13   \n",
       "\n",
       "                 충전시작일시(변환)  충전종료_년도  충전종료_월  충전종료_일  충전종료_시  충전종료_분 충전종료_초  \\\n",
       "40755   2020-01-06 12:44:03     2020       1       6      12      44      3   \n",
       "48908   2020-01-07 16:52:28     2020       1       7      16      52     55   \n",
       "61941   2020-01-09 14:54:20     2020       1       9      14      54     20   \n",
       "103629  2020-01-14 19:21:24     2020       1      14      19      21     32   \n",
       "156226  2020-01-21 16:25:13     2020       1      21      16      25     13   \n",
       "\n",
       "                 충전종료일시(변환)        충전시간(계산)  \n",
       "40755   2020-01-06 12:44:03 0 days 00:00:00  \n",
       "48908   2020-01-07 16:52:55 0 days 00:00:27  \n",
       "61941   2020-01-09 14:54:20 0 days 00:00:00  \n",
       "103629  2020-01-14 19:21:32 0 days 00:00:08  \n",
       "156226  2020-01-21 16:25:13 0 days 00:00:00  \n",
       "\n",
       "[5 rows x 26 columns]"
      ]
     },
     "execution_count": 22,
     "metadata": {},
     "output_type": "execute_result"
    }
   ],
   "source": [
    "df2[df2['충전시간'] == '0'].head()"
   ]
  },
  {
   "cell_type": "code",
   "execution_count": 21,
   "metadata": {},
   "outputs": [
    {
     "data": {
      "text/plain": [
       "(5702, 26)"
      ]
     },
     "execution_count": 21,
     "metadata": {},
     "output_type": "execute_result"
    }
   ],
   "source": [
    "df2[df2['충전시간'] == '0'].shape"
   ]
  },
  {
   "cell_type": "code",
   "execution_count": 19,
   "metadata": {},
   "outputs": [
    {
     "data": {
      "text/plain": [
       "dtype('float64')"
      ]
     },
     "execution_count": 19,
     "metadata": {},
     "output_type": "execute_result"
    }
   ],
   "source": [
    "df2['충전량'].dtype"
   ]
  },
  {
   "cell_type": "code",
   "execution_count": 20,
   "metadata": {},
   "outputs": [
    {
     "data": {
      "text/plain": [
       "0   20.22000\n",
       "1   18.87000\n",
       "2   16.04000\n",
       "3    5.80000\n",
       "4   13.32000\n",
       "Name: 충전량, dtype: float64"
      ]
     },
     "execution_count": 20,
     "metadata": {},
     "output_type": "execute_result"
    }
   ],
   "source": [
    "df2['충전량'].head()"
   ]
  },
  {
   "cell_type": "code",
   "execution_count": 23,
   "metadata": {},
   "outputs": [
    {
     "data": {
      "text/html": [
       "<div>\n",
       "<style scoped>\n",
       "    .dataframe tbody tr th:only-of-type {\n",
       "        vertical-align: middle;\n",
       "    }\n",
       "\n",
       "    .dataframe tbody tr th {\n",
       "        vertical-align: top;\n",
       "    }\n",
       "\n",
       "    .dataframe thead th {\n",
       "        text-align: right;\n",
       "    }\n",
       "</style>\n",
       "<table border=\"1\" class=\"dataframe\">\n",
       "  <thead>\n",
       "    <tr style=\"text-align: right;\">\n",
       "      <th></th>\n",
       "      <th>충전시간</th>\n",
       "      <th>충전량</th>\n",
       "    </tr>\n",
       "  </thead>\n",
       "  <tbody>\n",
       "    <tr>\n",
       "      <th>40755</th>\n",
       "      <td>0 days</td>\n",
       "      <td>1.02000</td>\n",
       "    </tr>\n",
       "    <tr>\n",
       "      <th>48908</th>\n",
       "      <td>0 days</td>\n",
       "      <td>22.51000</td>\n",
       "    </tr>\n",
       "    <tr>\n",
       "      <th>61941</th>\n",
       "      <td>0 days</td>\n",
       "      <td>1.18000</td>\n",
       "    </tr>\n",
       "    <tr>\n",
       "      <th>103629</th>\n",
       "      <td>0 days</td>\n",
       "      <td>14.58000</td>\n",
       "    </tr>\n",
       "    <tr>\n",
       "      <th>156226</th>\n",
       "      <td>0 days</td>\n",
       "      <td>1.48000</td>\n",
       "    </tr>\n",
       "    <tr>\n",
       "      <th>...</th>\n",
       "      <td>...</td>\n",
       "      <td>...</td>\n",
       "    </tr>\n",
       "    <tr>\n",
       "      <th>11571981</th>\n",
       "      <td>0 days</td>\n",
       "      <td>18.70000</td>\n",
       "    </tr>\n",
       "    <tr>\n",
       "      <th>11572687</th>\n",
       "      <td>0 days</td>\n",
       "      <td>23.41000</td>\n",
       "    </tr>\n",
       "    <tr>\n",
       "      <th>11607861</th>\n",
       "      <td>0 days</td>\n",
       "      <td>7.44000</td>\n",
       "    </tr>\n",
       "    <tr>\n",
       "      <th>11618040</th>\n",
       "      <td>0 days</td>\n",
       "      <td>4.50000</td>\n",
       "    </tr>\n",
       "    <tr>\n",
       "      <th>11619415</th>\n",
       "      <td>0 days</td>\n",
       "      <td>13.48000</td>\n",
       "    </tr>\n",
       "  </tbody>\n",
       "</table>\n",
       "<p>5702 rows × 2 columns</p>\n",
       "</div>"
      ],
      "text/plain": [
       "           충전시간      충전량\n",
       "40755    0 days  1.02000\n",
       "48908    0 days 22.51000\n",
       "61941    0 days  1.18000\n",
       "103629   0 days 14.58000\n",
       "156226   0 days  1.48000\n",
       "...         ...      ...\n",
       "11571981 0 days 18.70000\n",
       "11572687 0 days 23.41000\n",
       "11607861 0 days  7.44000\n",
       "11618040 0 days  4.50000\n",
       "11619415 0 days 13.48000\n",
       "\n",
       "[5702 rows x 2 columns]"
      ]
     },
     "execution_count": 23,
     "metadata": {},
     "output_type": "execute_result"
    }
   ],
   "source": [
    "df2[ (df2['충전시간'] == '0') & (df2['충전량'] != 0) ][['충전시간', '충전량']]"
   ]
  },
  {
   "cell_type": "code",
   "execution_count": 24,
   "metadata": {},
   "outputs": [
    {
     "data": {
      "text/html": [
       "<div>\n",
       "<style scoped>\n",
       "    .dataframe tbody tr th:only-of-type {\n",
       "        vertical-align: middle;\n",
       "    }\n",
       "\n",
       "    .dataframe tbody tr th {\n",
       "        vertical-align: top;\n",
       "    }\n",
       "\n",
       "    .dataframe thead th {\n",
       "        text-align: right;\n",
       "    }\n",
       "</style>\n",
       "<table border=\"1\" class=\"dataframe\">\n",
       "  <thead>\n",
       "    <tr style=\"text-align: right;\">\n",
       "      <th></th>\n",
       "      <th>충전시간</th>\n",
       "      <th>충전량</th>\n",
       "    </tr>\n",
       "  </thead>\n",
       "  <tbody>\n",
       "    <tr>\n",
       "      <th>40755</th>\n",
       "      <td>0 days</td>\n",
       "      <td>1.02000</td>\n",
       "    </tr>\n",
       "    <tr>\n",
       "      <th>48908</th>\n",
       "      <td>0 days</td>\n",
       "      <td>22.51000</td>\n",
       "    </tr>\n",
       "    <tr>\n",
       "      <th>61941</th>\n",
       "      <td>0 days</td>\n",
       "      <td>1.18000</td>\n",
       "    </tr>\n",
       "    <tr>\n",
       "      <th>103629</th>\n",
       "      <td>0 days</td>\n",
       "      <td>14.58000</td>\n",
       "    </tr>\n",
       "    <tr>\n",
       "      <th>156226</th>\n",
       "      <td>0 days</td>\n",
       "      <td>1.48000</td>\n",
       "    </tr>\n",
       "    <tr>\n",
       "      <th>...</th>\n",
       "      <td>...</td>\n",
       "      <td>...</td>\n",
       "    </tr>\n",
       "    <tr>\n",
       "      <th>11571981</th>\n",
       "      <td>0 days</td>\n",
       "      <td>18.70000</td>\n",
       "    </tr>\n",
       "    <tr>\n",
       "      <th>11572687</th>\n",
       "      <td>0 days</td>\n",
       "      <td>23.41000</td>\n",
       "    </tr>\n",
       "    <tr>\n",
       "      <th>11607861</th>\n",
       "      <td>0 days</td>\n",
       "      <td>7.44000</td>\n",
       "    </tr>\n",
       "    <tr>\n",
       "      <th>11618040</th>\n",
       "      <td>0 days</td>\n",
       "      <td>4.50000</td>\n",
       "    </tr>\n",
       "    <tr>\n",
       "      <th>11619415</th>\n",
       "      <td>0 days</td>\n",
       "      <td>13.48000</td>\n",
       "    </tr>\n",
       "  </tbody>\n",
       "</table>\n",
       "<p>5702 rows × 2 columns</p>\n",
       "</div>"
      ],
      "text/plain": [
       "           충전시간      충전량\n",
       "40755    0 days  1.02000\n",
       "48908    0 days 22.51000\n",
       "61941    0 days  1.18000\n",
       "103629   0 days 14.58000\n",
       "156226   0 days  1.48000\n",
       "...         ...      ...\n",
       "11571981 0 days 18.70000\n",
       "11572687 0 days 23.41000\n",
       "11607861 0 days  7.44000\n",
       "11618040 0 days  4.50000\n",
       "11619415 0 days 13.48000\n",
       "\n",
       "[5702 rows x 2 columns]"
      ]
     },
     "execution_count": 24,
     "metadata": {},
     "output_type": "execute_result"
    }
   ],
   "source": [
    "df2.loc[ (df2['충전시간'] == '0') & (df2['충전량'] != 0), ['충전시간', '충전량'] ]"
   ]
  },
  {
   "cell_type": "code",
   "execution_count": 25,
   "metadata": {},
   "outputs": [
    {
     "data": {
      "text/plain": [
       "(5702, 26)"
      ]
     },
     "execution_count": 25,
     "metadata": {},
     "output_type": "execute_result"
    }
   ],
   "source": [
    "df2[ (df2['충전시간'] == '0') & (df2['충전량'] != 0) ].shape"
   ]
  },
  {
   "cell_type": "markdown",
   "metadata": {},
   "source": [
    "### 충전시간(계산) 음수 값 제거(df3)\n",
    "- 52,366개"
   ]
  },
  {
   "cell_type": "code",
   "execution_count": 26,
   "metadata": {},
   "outputs": [
    {
     "data": {
      "text/plain": [
       "52366"
      ]
     },
     "execution_count": 26,
     "metadata": {},
     "output_type": "execute_result"
    }
   ],
   "source": [
    "n_ch_time_idx = df2[df2['충전시간(계산)'] < '0'].index\n",
    "len(n_ch_time_idx)"
   ]
  },
  {
   "cell_type": "code",
   "execution_count": 27,
   "metadata": {},
   "outputs": [
    {
     "data": {
      "text/plain": [
       "(11665815, 26)"
      ]
     },
     "execution_count": 27,
     "metadata": {},
     "output_type": "execute_result"
    }
   ],
   "source": [
    "df2.shape"
   ]
  },
  {
   "cell_type": "code",
   "execution_count": 28,
   "metadata": {},
   "outputs": [],
   "source": [
    "df3 = df2.drop(n_ch_time_idx).reset_index(drop=True)"
   ]
  },
  {
   "cell_type": "code",
   "execution_count": 29,
   "metadata": {},
   "outputs": [
    {
     "data": {
      "text/plain": [
       "(11613449, 26)"
      ]
     },
     "execution_count": 29,
     "metadata": {},
     "output_type": "execute_result"
    }
   ],
   "source": [
    "df3.shape"
   ]
  },
  {
   "cell_type": "code",
   "execution_count": 30,
   "metadata": {},
   "outputs": [
    {
     "data": {
      "text/plain": [
       "count                     11613449\n",
       "mean     0 days 00:33:51.200344617\n",
       "std      0 days 01:19:04.781739278\n",
       "min                0 days 00:00:00\n",
       "25%                0 days 00:20:53\n",
       "50%                0 days 00:34:02\n",
       "75%                0 days 00:40:00\n",
       "max                4 days 03:56:55\n",
       "Name: 충전시간, dtype: object"
      ]
     },
     "execution_count": 30,
     "metadata": {},
     "output_type": "execute_result"
    }
   ],
   "source": [
    "df3['충전시간'].describe()"
   ]
  },
  {
   "cell_type": "code",
   "execution_count": 31,
   "metadata": {},
   "outputs": [
    {
     "data": {
      "text/plain": [
       "count                     11613449\n",
       "mean     0 days 00:34:58.600275335\n",
       "std      0 days 01:23:19.668917229\n",
       "min                0 days 00:00:00\n",
       "25%                0 days 00:21:39\n",
       "50%                0 days 00:34:56\n",
       "75%                0 days 00:40:25\n",
       "max               14 days 08:40:25\n",
       "Name: 충전시간(계산), dtype: object"
      ]
     },
     "execution_count": 31,
     "metadata": {},
     "output_type": "execute_result"
    }
   ],
   "source": [
    "df3['충전시간(계산)'].describe()"
   ]
  },
  {
   "cell_type": "markdown",
   "metadata": {},
   "source": [
    "### 원본 충전시간과 계산 충전시간 차이 통계"
   ]
  },
  {
   "cell_type": "code",
   "execution_count": 32,
   "metadata": {},
   "outputs": [
    {
     "data": {
      "text/plain": [
       "count                     11613449\n",
       "mean     0 days 00:01:07.399930718\n",
       "std      0 days 01:01:06.908441070\n",
       "min              -1 days +00:00:23\n",
       "25%                0 days 00:00:00\n",
       "50%                0 days 00:00:13\n",
       "75%                0 days 00:01:42\n",
       "max               14 days 08:32:12\n",
       "dtype: object"
      ]
     },
     "execution_count": 32,
     "metadata": {},
     "output_type": "execute_result"
    }
   ],
   "source": [
    "temp = df3['충전시간(계산)'] - df3['충전시간']\n",
    "temp.describe()"
   ]
  },
  {
   "cell_type": "code",
   "execution_count": 33,
   "metadata": {},
   "outputs": [
    {
     "data": {
      "text/plain": [
       "(817340,)"
      ]
     },
     "execution_count": 33,
     "metadata": {},
     "output_type": "execute_result"
    }
   ],
   "source": [
    "temp[temp < '0'].shape"
   ]
  },
  {
   "cell_type": "code",
   "execution_count": 34,
   "metadata": {},
   "outputs": [],
   "source": [
    "df3['raw값과_계산값_차이'] = df3['충전시간(계산)'] - df3['충전시간']"
   ]
  },
  {
   "cell_type": "code",
   "execution_count": 36,
   "metadata": {},
   "outputs": [
    {
     "data": {
      "text/html": [
       "<div>\n",
       "<style scoped>\n",
       "    .dataframe tbody tr th:only-of-type {\n",
       "        vertical-align: middle;\n",
       "    }\n",
       "\n",
       "    .dataframe tbody tr th {\n",
       "        vertical-align: top;\n",
       "    }\n",
       "\n",
       "    .dataframe thead th {\n",
       "        text-align: right;\n",
       "    }\n",
       "</style>\n",
       "<table border=\"1\" class=\"dataframe\">\n",
       "  <thead>\n",
       "    <tr style=\"text-align: right;\">\n",
       "      <th></th>\n",
       "      <th>충전소명</th>\n",
       "      <th>충전기ID</th>\n",
       "      <th>지역</th>\n",
       "      <th>시군구</th>\n",
       "      <th>주소</th>\n",
       "      <th>충전기타입</th>\n",
       "      <th>충전시작일시</th>\n",
       "      <th>충전종료일시</th>\n",
       "      <th>충전시간</th>\n",
       "      <th>충전량</th>\n",
       "      <th>...</th>\n",
       "      <th>충전시작일시(변환)</th>\n",
       "      <th>충전종료_년도</th>\n",
       "      <th>충전종료_월</th>\n",
       "      <th>충전종료_일</th>\n",
       "      <th>충전종료_시</th>\n",
       "      <th>충전종료_분</th>\n",
       "      <th>충전종료_초</th>\n",
       "      <th>충전종료일시(변환)</th>\n",
       "      <th>충전시간(계산)</th>\n",
       "      <th>raw값과_계산값_차이</th>\n",
       "    </tr>\n",
       "  </thead>\n",
       "  <tbody>\n",
       "    <tr>\n",
       "      <th>8083907</th>\n",
       "      <td>포항실내사격장</td>\n",
       "      <td>11</td>\n",
       "      <td>경상북도</td>\n",
       "      <td>포항시</td>\n",
       "      <td>경상북도 포항시 북구 용흥동 4-9</td>\n",
       "      <td>DC콤보</td>\n",
       "      <td>20220305094551</td>\n",
       "      <td>20220319182616</td>\n",
       "      <td>0 days 00:08:13</td>\n",
       "      <td>3.24000</td>\n",
       "      <td>...</td>\n",
       "      <td>2022-03-05 09:45:51</td>\n",
       "      <td>2022</td>\n",
       "      <td>3</td>\n",
       "      <td>19</td>\n",
       "      <td>18</td>\n",
       "      <td>26</td>\n",
       "      <td>16</td>\n",
       "      <td>2022-03-19 18:26:16</td>\n",
       "      <td>14 days 08:40:25</td>\n",
       "      <td>14 days 08:32:12</td>\n",
       "    </tr>\n",
       "  </tbody>\n",
       "</table>\n",
       "<p>1 rows × 27 columns</p>\n",
       "</div>"
      ],
      "text/plain": [
       "            충전소명  충전기ID    지역  시군구                   주소 충전기타입          충전시작일시  \\\n",
       "8083907  포항실내사격장     11  경상북도  포항시  경상북도 포항시 북구 용흥동 4-9  DC콤보  20220305094551   \n",
       "\n",
       "                 충전종료일시            충전시간     충전량  ...           충전시작일시(변환)  \\\n",
       "8083907  20220319182616 0 days 00:08:13 3.24000  ...  2022-03-05 09:45:51   \n",
       "\n",
       "         충전종료_년도  충전종료_월  충전종료_일  충전종료_시  충전종료_분  충전종료_초           충전종료일시(변환)  \\\n",
       "8083907     2022       3      19      18      26      16  2022-03-19 18:26:16   \n",
       "\n",
       "                충전시간(계산)     raw값과_계산값_차이  \n",
       "8083907 14 days 08:40:25 14 days 08:32:12  \n",
       "\n",
       "[1 rows x 27 columns]"
      ]
     },
     "execution_count": 36,
     "metadata": {},
     "output_type": "execute_result"
    }
   ],
   "source": [
    "df3[df3['raw값과_계산값_차이'] > '14 days']"
   ]
  },
  {
   "cell_type": "code",
   "execution_count": 37,
   "metadata": {},
   "outputs": [
    {
     "data": {
      "text/plain": [
       "count                     11613449\n",
       "mean     0 days 00:01:07.399930718\n",
       "std      0 days 01:01:06.908441070\n",
       "min              -1 days +00:00:23\n",
       "25%                0 days 00:00:00\n",
       "50%                0 days 00:00:13\n",
       "75%                0 days 00:01:42\n",
       "max               14 days 08:32:12\n",
       "Name: raw값과_계산값_차이, dtype: object"
      ]
     },
     "execution_count": 37,
     "metadata": {},
     "output_type": "execute_result"
    }
   ],
   "source": [
    "df3['raw값과_계산값_차이'].describe()"
   ]
  },
  {
   "cell_type": "markdown",
   "metadata": {},
   "source": [
    "#### df3 출력\n",
    "- 충전시간(계산) 음수 값 제거 : 52,366"
   ]
  },
  {
   "cell_type": "code",
   "execution_count": 59,
   "metadata": {},
   "outputs": [],
   "source": [
    "df3.to_csv('2020-22년_급속충전_충전시간(계산)음수제거.csv', encoding='utf-8', index=False)"
   ]
  },
  {
   "cell_type": "code",
   "execution_count": 38,
   "metadata": {},
   "outputs": [
    {
     "name": "stdout",
     "output_type": "stream",
     "text": [
      "<class 'pandas.core.frame.DataFrame'>\n",
      "RangeIndex: 11613449 entries, 0 to 11613448\n",
      "Data columns (total 27 columns):\n",
      " #   Column        Dtype          \n",
      "---  ------        -----          \n",
      " 0   충전소명          object         \n",
      " 1   충전기ID         int8           \n",
      " 2   지역            object         \n",
      " 3   시군구           object         \n",
      " 4   주소            object         \n",
      " 5   충전기타입         object         \n",
      " 6   충전시작일시        int64          \n",
      " 7   충전종료일시        int64          \n",
      " 8   충전시간          timedelta64[ns]\n",
      " 9   충전량           float64        \n",
      " 10  충전용량          object         \n",
      " 11  충전시작_년도       int16          \n",
      " 12  충전시작_월        int8           \n",
      " 13  충전시작_일        int8           \n",
      " 14  충전시작_시        int8           \n",
      " 15  충전시작_분        int8           \n",
      " 16  충전시작_초        int8           \n",
      " 17  충전시작일시(변환)    object         \n",
      " 18  충전종료_년도       int16          \n",
      " 19  충전종료_월        int8           \n",
      " 20  충전종료_일        int8           \n",
      " 21  충전종료_시        int8           \n",
      " 22  충전종료_분        int8           \n",
      " 23  충전종료_초        int8           \n",
      " 24  충전종료일시(변환)    object         \n",
      " 25  충전시간(계산)      timedelta64[ns]\n",
      " 26  raw값과_계산값_차이  timedelta64[ns]\n",
      "dtypes: float64(1), int16(2), int64(2), int8(11), object(8), timedelta64[ns](3)\n",
      "memory usage: 1.4+ GB\n"
     ]
    }
   ],
   "source": [
    "df3.info()"
   ]
  },
  {
   "cell_type": "code",
   "execution_count": 39,
   "metadata": {},
   "outputs": [
    {
     "name": "stdout",
     "output_type": "stream",
     "text": [
      "<class 'pandas.core.frame.DataFrame'>\n",
      "RangeIndex: 11665815 entries, 0 to 11665814\n",
      "Data columns (total 26 columns):\n",
      " #   Column      Dtype          \n",
      "---  ------      -----          \n",
      " 0   충전소명        object         \n",
      " 1   충전기ID       int8           \n",
      " 2   지역          object         \n",
      " 3   시군구         object         \n",
      " 4   주소          object         \n",
      " 5   충전기타입       object         \n",
      " 6   충전시작일시      int64          \n",
      " 7   충전종료일시      int64          \n",
      " 8   충전시간        timedelta64[ns]\n",
      " 9   충전량         float64        \n",
      " 10  충전용량        object         \n",
      " 11  충전시작_년도     int16          \n",
      " 12  충전시작_월      int8           \n",
      " 13  충전시작_일      int8           \n",
      " 14  충전시작_시      int8           \n",
      " 15  충전시작_분      int8           \n",
      " 16  충전시작_초      int8           \n",
      " 17  충전시작일시(변환)  object         \n",
      " 18  충전종료_년도     int16          \n",
      " 19  충전종료_월      int8           \n",
      " 20  충전종료_일      int8           \n",
      " 21  충전종료_시      int8           \n",
      " 22  충전종료_분      int8           \n",
      " 23  충전종료_초      int8           \n",
      " 24  충전종료일시(변환)  object         \n",
      " 25  충전시간(계산)    timedelta64[ns]\n",
      "dtypes: float64(1), int16(2), int64(2), int8(11), object(8), timedelta64[ns](2)\n",
      "memory usage: 1.3+ GB\n"
     ]
    }
   ],
   "source": [
    "df2.info()"
   ]
  },
  {
   "cell_type": "markdown",
   "metadata": {},
   "source": [
    "## 주소 분리"
   ]
  },
  {
   "cell_type": "markdown",
   "metadata": {},
   "source": [
    "- 과거(원본샘플에서 처리)\n",
    "    - 샘플수\n",
    "        - 신주소 : 7,755,902 개\n",
    "        - 구주소 : 3,857,547 개\n",
    "    - 한 주소에 2개 다른 주소가 입력\n",
    "        - 동일 지역\n",
    "            - 신주소 : 20,837개\n",
    "            - 구주소 : 99,756개\n",
    "        - 다른 지역\n",
    "            - 신주소 : 0개\n",
    "            - 구주소 : 5,427개\n",
    "        - raw데이터의 입력값 지역이 있는 주소로 병합\n",
    "            - 예시) 전라남도 무안군 청계면 영산로 1854-16 전라남도 무안군 청계면 영산로 1854-16 -> 전라남도 무안군 청계면 영산로 1854-16\n",
    "            - 예시) 충청남도 청양군 청양읍 군량리 533 충청남도 태안군 소원면 신덕리 272 -> 충청남도 청양군 청양읍 군량리 533\n",
    "            - 예시) 전라북도 순창군 풍산면 반월리 12-4 충청남도 공주시 탄천면 삼각리 523-2 -> 전라북도 순창군 풍산면 반월리 12-4\n",
    "    - 도로명 수정\n",
    "        - \"도로명주소 안내\" 참고하여 지역 코드와 맞추기위해\n",
    "            - 예시) 첨단 벤처로 108번길 -> 첨단벤처로108번길"
   ]
  },
  {
   "cell_type": "markdown",
   "metadata": {},
   "source": [
    "- 현재(주소 별도로 처리)\n",
    "    - 샘플수\n",
    "        - 충전시간 오류 7개 제거 데이터(df2)\n",
    "            - 신주소 : 7,893,081\n",
    "            - 구주소 : 3,772,734\n",
    "            - 총 : 11,665,815\n",
    "        - 충전시간(계산) 음수 52,366개 제거 데이터(df3)\n",
    "            - 신주소 : 7,864,132\n",
    "            - 구주소 : 3,749,317\n",
    "            - 총 : 11,613,449"
   ]
  },
  {
   "cell_type": "code",
   "execution_count": 48,
   "metadata": {},
   "outputs": [
    {
     "name": "stdout",
     "output_type": "stream",
     "text": [
      "<class 'pandas.core.frame.DataFrame'>\n",
      "RangeIndex: 4364 entries, 0 to 4363\n",
      "Data columns (total 7 columns):\n",
      " #   Column  Non-Null Count  Dtype \n",
      "---  ------  --------------  ----- \n",
      " 0   주소      4364 non-null   object\n",
      " 1   ad1     4364 non-null   object\n",
      " 2   ad2     4333 non-null   object\n",
      " 3   ad3     2947 non-null   object\n",
      " 4   ad4     919 non-null    object\n",
      " 5   ad5     2802 non-null   object\n",
      " 6   주소분류    4364 non-null   object\n",
      "dtypes: object(7)\n",
      "memory usage: 238.8+ KB\n"
     ]
    }
   ],
   "source": [
    "adr = pd.read_excel('분석/2020-22년_급속충전_주소_분류.xlsx')\n",
    "adr.info()"
   ]
  },
  {
   "cell_type": "code",
   "execution_count": 49,
   "metadata": {},
   "outputs": [
    {
     "data": {
      "text/html": [
       "<div>\n",
       "<style scoped>\n",
       "    .dataframe tbody tr th:only-of-type {\n",
       "        vertical-align: middle;\n",
       "    }\n",
       "\n",
       "    .dataframe tbody tr th {\n",
       "        vertical-align: top;\n",
       "    }\n",
       "\n",
       "    .dataframe thead th {\n",
       "        text-align: right;\n",
       "    }\n",
       "</style>\n",
       "<table border=\"1\" class=\"dataframe\">\n",
       "  <thead>\n",
       "    <tr style=\"text-align: right;\">\n",
       "      <th></th>\n",
       "      <th>주소</th>\n",
       "      <th>ad1</th>\n",
       "      <th>ad2</th>\n",
       "      <th>ad3</th>\n",
       "      <th>ad4</th>\n",
       "      <th>ad5</th>\n",
       "      <th>주소분류</th>\n",
       "    </tr>\n",
       "  </thead>\n",
       "  <tbody>\n",
       "    <tr>\n",
       "      <th>0</th>\n",
       "      <td>강원도 인제군 상남면 하남리 339-7(양양방향)</td>\n",
       "      <td>강원도</td>\n",
       "      <td>인제군</td>\n",
       "      <td>상남면</td>\n",
       "      <td>하남리</td>\n",
       "      <td>NaN</td>\n",
       "      <td>old</td>\n",
       "    </tr>\n",
       "    <tr>\n",
       "      <th>1</th>\n",
       "      <td>광주광역시 북구 첨단 벤처로 108번길 9</td>\n",
       "      <td>광주광역시</td>\n",
       "      <td>북구</td>\n",
       "      <td>NaN</td>\n",
       "      <td>NaN</td>\n",
       "      <td>첨단벤처로108번길</td>\n",
       "      <td>new</td>\n",
       "    </tr>\n",
       "    <tr>\n",
       "      <th>2</th>\n",
       "      <td>전라남도 순천시 해룡면 남가리 733-73</td>\n",
       "      <td>전라남도</td>\n",
       "      <td>순천시</td>\n",
       "      <td>해룡면</td>\n",
       "      <td>남가리</td>\n",
       "      <td>NaN</td>\n",
       "      <td>old</td>\n",
       "    </tr>\n",
       "    <tr>\n",
       "      <th>3</th>\n",
       "      <td>전라남도 구례군 산동면 산업로 2319</td>\n",
       "      <td>전라남도</td>\n",
       "      <td>구례군</td>\n",
       "      <td>산동면</td>\n",
       "      <td>NaN</td>\n",
       "      <td>산업로</td>\n",
       "      <td>new</td>\n",
       "    </tr>\n",
       "    <tr>\n",
       "      <th>4</th>\n",
       "      <td>전라남도 구례군 산동면 노고단로1068</td>\n",
       "      <td>전라남도</td>\n",
       "      <td>구례군</td>\n",
       "      <td>산동면</td>\n",
       "      <td>NaN</td>\n",
       "      <td>노고단로</td>\n",
       "      <td>new</td>\n",
       "    </tr>\n",
       "  </tbody>\n",
       "</table>\n",
       "</div>"
      ],
      "text/plain": [
       "                            주소    ad1  ad2  ad3  ad4         ad5 주소분류\n",
       "0  강원도 인제군 상남면 하남리 339-7(양양방향)    강원도  인제군  상남면  하남리         NaN  old\n",
       "1      광주광역시 북구 첨단 벤처로 108번길 9  광주광역시   북구  NaN  NaN  첨단벤처로108번길  new\n",
       "2      전라남도 순천시 해룡면 남가리 733-73   전라남도  순천시  해룡면  남가리         NaN  old\n",
       "3        전라남도 구례군 산동면 산업로 2319   전라남도  구례군  산동면  NaN         산업로  new\n",
       "4        전라남도 구례군 산동면 노고단로1068   전라남도  구례군  산동면  NaN        노고단로  new"
      ]
     },
     "execution_count": 49,
     "metadata": {},
     "output_type": "execute_result"
    }
   ],
   "source": [
    "adr.head()"
   ]
  },
  {
   "cell_type": "markdown",
   "metadata": {},
   "source": [
    "#### 오류 7개 제거 데이터 신/구주소 확인"
   ]
  },
  {
   "cell_type": "code",
   "execution_count": 50,
   "metadata": {},
   "outputs": [
    {
     "name": "stdout",
     "output_type": "stream",
     "text": [
      "<class 'pandas.core.frame.DataFrame'>\n",
      "Int64Index: 11665815 entries, 0 to 11665814\n",
      "Data columns (total 32 columns):\n",
      " #   Column      Dtype          \n",
      "---  ------      -----          \n",
      " 0   충전소명        object         \n",
      " 1   충전기ID       int8           \n",
      " 2   지역          object         \n",
      " 3   시군구         object         \n",
      " 4   주소          object         \n",
      " 5   충전기타입       object         \n",
      " 6   충전시작일시      int64          \n",
      " 7   충전종료일시      int64          \n",
      " 8   충전시간        timedelta64[ns]\n",
      " 9   충전량         float64        \n",
      " 10  충전용량        object         \n",
      " 11  충전시작_년도     int16          \n",
      " 12  충전시작_월      int8           \n",
      " 13  충전시작_일      int8           \n",
      " 14  충전시작_시      int8           \n",
      " 15  충전시작_분      int8           \n",
      " 16  충전시작_초      int8           \n",
      " 17  충전시작일시(변환)  object         \n",
      " 18  충전종료_년도     int16          \n",
      " 19  충전종료_월      int8           \n",
      " 20  충전종료_일      int8           \n",
      " 21  충전종료_시      int8           \n",
      " 22  충전종료_분      int8           \n",
      " 23  충전종료_초      int8           \n",
      " 24  충전종료일시(변환)  object         \n",
      " 25  충전시간(계산)    timedelta64[ns]\n",
      " 26  ad1         object         \n",
      " 27  ad2         object         \n",
      " 28  ad3         object         \n",
      " 29  ad4         object         \n",
      " 30  ad5         object         \n",
      " 31  주소분류        object         \n",
      "dtypes: float64(1), int16(2), int64(2), int8(11), object(14), timedelta64[ns](2)\n",
      "memory usage: 1.9+ GB\n"
     ]
    }
   ],
   "source": [
    "df21 = df2.merge(adr, how='left', on='주소')\n",
    "df21.info()"
   ]
  },
  {
   "cell_type": "code",
   "execution_count": 51,
   "metadata": {},
   "outputs": [
    {
     "data": {
      "text/html": [
       "<div>\n",
       "<style scoped>\n",
       "    .dataframe tbody tr th:only-of-type {\n",
       "        vertical-align: middle;\n",
       "    }\n",
       "\n",
       "    .dataframe tbody tr th {\n",
       "        vertical-align: top;\n",
       "    }\n",
       "\n",
       "    .dataframe thead th {\n",
       "        text-align: right;\n",
       "    }\n",
       "</style>\n",
       "<table border=\"1\" class=\"dataframe\">\n",
       "  <thead>\n",
       "    <tr style=\"text-align: right;\">\n",
       "      <th></th>\n",
       "      <th>주소</th>\n",
       "      <th>ad1</th>\n",
       "      <th>ad2</th>\n",
       "      <th>ad3</th>\n",
       "      <th>ad4</th>\n",
       "      <th>ad5</th>\n",
       "      <th>주소분류</th>\n",
       "    </tr>\n",
       "  </thead>\n",
       "  <tbody>\n",
       "    <tr>\n",
       "      <th>0</th>\n",
       "      <td>경상남도 김해시 진영읍 하계로96번길 94-4 , 주유소 옆 주차장</td>\n",
       "      <td>경상남도</td>\n",
       "      <td>김해시</td>\n",
       "      <td>진영읍</td>\n",
       "      <td>NaN</td>\n",
       "      <td>하계로96번길</td>\n",
       "      <td>new</td>\n",
       "    </tr>\n",
       "    <tr>\n",
       "      <th>1</th>\n",
       "      <td>서울특별시 구로구 오류동 174-10 , 천왕역 환승주차장 1층</td>\n",
       "      <td>서울특별시</td>\n",
       "      <td>구로구</td>\n",
       "      <td>오류동</td>\n",
       "      <td>NaN</td>\n",
       "      <td>NaN</td>\n",
       "      <td>old</td>\n",
       "    </tr>\n",
       "    <tr>\n",
       "      <th>2</th>\n",
       "      <td>제주특별자치도 제주시 삼성로 40 민속자연사박물관</td>\n",
       "      <td>제주특별자치도</td>\n",
       "      <td>제주시</td>\n",
       "      <td>NaN</td>\n",
       "      <td>NaN</td>\n",
       "      <td>삼성로</td>\n",
       "      <td>new</td>\n",
       "    </tr>\n",
       "    <tr>\n",
       "      <th>3</th>\n",
       "      <td>제주특별자치도 제주시 노형9길 9-4,  주차장</td>\n",
       "      <td>제주특별자치도</td>\n",
       "      <td>제주시</td>\n",
       "      <td>NaN</td>\n",
       "      <td>NaN</td>\n",
       "      <td>노형9길</td>\n",
       "      <td>new</td>\n",
       "    </tr>\n",
       "    <tr>\n",
       "      <th>4</th>\n",
       "      <td>경상북도 포항시 북구 해안로82</td>\n",
       "      <td>경상북도</td>\n",
       "      <td>포항시 북구</td>\n",
       "      <td>NaN</td>\n",
       "      <td>NaN</td>\n",
       "      <td>해안로</td>\n",
       "      <td>new</td>\n",
       "    </tr>\n",
       "  </tbody>\n",
       "</table>\n",
       "</div>"
      ],
      "text/plain": [
       "                                      주소      ad1     ad2  ad3  ad4      ad5  \\\n",
       "0  경상남도 김해시 진영읍 하계로96번길 94-4 , 주유소 옆 주차장     경상남도     김해시  진영읍  NaN  하계로96번길   \n",
       "1    서울특별시 구로구 오류동 174-10 , 천왕역 환승주차장 1층    서울특별시     구로구  오류동  NaN      NaN   \n",
       "2            제주특별자치도 제주시 삼성로 40 민속자연사박물관  제주특별자치도     제주시  NaN  NaN      삼성로   \n",
       "3             제주특별자치도 제주시 노형9길 9-4,  주차장  제주특별자치도     제주시  NaN  NaN     노형9길   \n",
       "4                      경상북도 포항시 북구 해안로82     경상북도  포항시 북구  NaN  NaN      해안로   \n",
       "\n",
       "  주소분류  \n",
       "0  new  \n",
       "1  old  \n",
       "2  new  \n",
       "3  new  \n",
       "4  new  "
      ]
     },
     "execution_count": 51,
     "metadata": {},
     "output_type": "execute_result"
    }
   ],
   "source": [
    "df21[['주소', 'ad1', 'ad2', 'ad3', 'ad4', 'ad5', '주소분류']].head()"
   ]
  },
  {
   "cell_type": "code",
   "execution_count": 52,
   "metadata": {},
   "outputs": [
    {
     "name": "stdout",
     "output_type": "stream",
     "text": [
      "<class 'pandas.core.frame.DataFrame'>\n",
      "Int64Index: 11665815 entries, 0 to 11665814\n",
      "Data columns (total 7 columns):\n",
      " #   Column  Dtype \n",
      "---  ------  ----- \n",
      " 0   주소      object\n",
      " 1   ad1     object\n",
      " 2   ad2     object\n",
      " 3   ad3     object\n",
      " 4   ad4     object\n",
      " 5   ad5     object\n",
      " 6   주소분류    object\n",
      "dtypes: object(7)\n",
      "memory usage: 712.0+ MB\n"
     ]
    }
   ],
   "source": [
    "df21[['주소', 'ad1', 'ad2', 'ad3', 'ad4', 'ad5', '주소분류']].info()"
   ]
  },
  {
   "cell_type": "code",
   "execution_count": 53,
   "metadata": {},
   "outputs": [
    {
     "data": {
      "text/plain": [
       "(7893081, 32)"
      ]
     },
     "execution_count": 53,
     "metadata": {},
     "output_type": "execute_result"
    }
   ],
   "source": [
    "df21[df21['주소분류'] == 'new'].shape"
   ]
  },
  {
   "cell_type": "code",
   "execution_count": 54,
   "metadata": {},
   "outputs": [
    {
     "data": {
      "text/plain": [
       "(3772734, 32)"
      ]
     },
     "execution_count": 54,
     "metadata": {},
     "output_type": "execute_result"
    }
   ],
   "source": [
    "df21[df21['주소분류'] == 'old'].shape"
   ]
  },
  {
   "cell_type": "markdown",
   "metadata": {},
   "source": [
    "##### df21 출력\n",
    "- 충전시간 오류 데이터 제거 : 7개\n",
    "- 주소분류 추가"
   ]
  },
  {
   "cell_type": "code",
   "execution_count": 63,
   "metadata": {},
   "outputs": [],
   "source": [
    "df21.to_csv('2020-22년_급속충전_충전시간_오류제거_주소분류.csv', encoding='utf-8', index=False)"
   ]
  },
  {
   "cell_type": "markdown",
   "metadata": {},
   "source": [
    "### 충전시간(계산) 음수 52,366개 제거 데이터 신/구주소 확인"
   ]
  },
  {
   "cell_type": "code",
   "execution_count": 55,
   "metadata": {},
   "outputs": [
    {
     "name": "stdout",
     "output_type": "stream",
     "text": [
      "<class 'pandas.core.frame.DataFrame'>\n",
      "Int64Index: 11613449 entries, 0 to 11613448\n",
      "Data columns (total 33 columns):\n",
      " #   Column        Dtype          \n",
      "---  ------        -----          \n",
      " 0   충전소명          object         \n",
      " 1   충전기ID         int8           \n",
      " 2   지역            object         \n",
      " 3   시군구           object         \n",
      " 4   주소            object         \n",
      " 5   충전기타입         object         \n",
      " 6   충전시작일시        int64          \n",
      " 7   충전종료일시        int64          \n",
      " 8   충전시간          timedelta64[ns]\n",
      " 9   충전량           float64        \n",
      " 10  충전용량          object         \n",
      " 11  충전시작_년도       int16          \n",
      " 12  충전시작_월        int8           \n",
      " 13  충전시작_일        int8           \n",
      " 14  충전시작_시        int8           \n",
      " 15  충전시작_분        int8           \n",
      " 16  충전시작_초        int8           \n",
      " 17  충전시작일시(변환)    object         \n",
      " 18  충전종료_년도       int16          \n",
      " 19  충전종료_월        int8           \n",
      " 20  충전종료_일        int8           \n",
      " 21  충전종료_시        int8           \n",
      " 22  충전종료_분        int8           \n",
      " 23  충전종료_초        int8           \n",
      " 24  충전종료일시(변환)    object         \n",
      " 25  충전시간(계산)      timedelta64[ns]\n",
      " 26  raw값과_계산값_차이  timedelta64[ns]\n",
      " 27  ad1           object         \n",
      " 28  ad2           object         \n",
      " 29  ad3           object         \n",
      " 30  ad4           object         \n",
      " 31  ad5           object         \n",
      " 32  주소분류          object         \n",
      "dtypes: float64(1), int16(2), int64(2), int8(11), object(14), timedelta64[ns](3)\n",
      "memory usage: 2.0+ GB\n"
     ]
    }
   ],
   "source": [
    "df31 = df3.merge(adr, how='left', on='주소')\n",
    "df31.info()"
   ]
  },
  {
   "cell_type": "code",
   "execution_count": 56,
   "metadata": {},
   "outputs": [
    {
     "data": {
      "text/html": [
       "<div>\n",
       "<style scoped>\n",
       "    .dataframe tbody tr th:only-of-type {\n",
       "        vertical-align: middle;\n",
       "    }\n",
       "\n",
       "    .dataframe tbody tr th {\n",
       "        vertical-align: top;\n",
       "    }\n",
       "\n",
       "    .dataframe thead th {\n",
       "        text-align: right;\n",
       "    }\n",
       "</style>\n",
       "<table border=\"1\" class=\"dataframe\">\n",
       "  <thead>\n",
       "    <tr style=\"text-align: right;\">\n",
       "      <th></th>\n",
       "      <th>주소</th>\n",
       "      <th>ad1</th>\n",
       "      <th>ad2</th>\n",
       "      <th>ad3</th>\n",
       "      <th>ad4</th>\n",
       "      <th>ad5</th>\n",
       "      <th>주소분류</th>\n",
       "    </tr>\n",
       "  </thead>\n",
       "  <tbody>\n",
       "    <tr>\n",
       "      <th>0</th>\n",
       "      <td>경상남도 김해시 진영읍 하계로96번길 94-4 , 주유소 옆 주차장</td>\n",
       "      <td>경상남도</td>\n",
       "      <td>김해시</td>\n",
       "      <td>진영읍</td>\n",
       "      <td>NaN</td>\n",
       "      <td>하계로96번길</td>\n",
       "      <td>new</td>\n",
       "    </tr>\n",
       "    <tr>\n",
       "      <th>1</th>\n",
       "      <td>서울특별시 구로구 오류동 174-10 , 천왕역 환승주차장 1층</td>\n",
       "      <td>서울특별시</td>\n",
       "      <td>구로구</td>\n",
       "      <td>오류동</td>\n",
       "      <td>NaN</td>\n",
       "      <td>NaN</td>\n",
       "      <td>old</td>\n",
       "    </tr>\n",
       "    <tr>\n",
       "      <th>2</th>\n",
       "      <td>제주특별자치도 제주시 삼성로 40 민속자연사박물관</td>\n",
       "      <td>제주특별자치도</td>\n",
       "      <td>제주시</td>\n",
       "      <td>NaN</td>\n",
       "      <td>NaN</td>\n",
       "      <td>삼성로</td>\n",
       "      <td>new</td>\n",
       "    </tr>\n",
       "    <tr>\n",
       "      <th>3</th>\n",
       "      <td>제주특별자치도 제주시 노형9길 9-4,  주차장</td>\n",
       "      <td>제주특별자치도</td>\n",
       "      <td>제주시</td>\n",
       "      <td>NaN</td>\n",
       "      <td>NaN</td>\n",
       "      <td>노형9길</td>\n",
       "      <td>new</td>\n",
       "    </tr>\n",
       "    <tr>\n",
       "      <th>4</th>\n",
       "      <td>경상북도 포항시 북구 해안로82</td>\n",
       "      <td>경상북도</td>\n",
       "      <td>포항시 북구</td>\n",
       "      <td>NaN</td>\n",
       "      <td>NaN</td>\n",
       "      <td>해안로</td>\n",
       "      <td>new</td>\n",
       "    </tr>\n",
       "  </tbody>\n",
       "</table>\n",
       "</div>"
      ],
      "text/plain": [
       "                                      주소      ad1     ad2  ad3  ad4      ad5  \\\n",
       "0  경상남도 김해시 진영읍 하계로96번길 94-4 , 주유소 옆 주차장     경상남도     김해시  진영읍  NaN  하계로96번길   \n",
       "1    서울특별시 구로구 오류동 174-10 , 천왕역 환승주차장 1층    서울특별시     구로구  오류동  NaN      NaN   \n",
       "2            제주특별자치도 제주시 삼성로 40 민속자연사박물관  제주특별자치도     제주시  NaN  NaN      삼성로   \n",
       "3             제주특별자치도 제주시 노형9길 9-4,  주차장  제주특별자치도     제주시  NaN  NaN     노형9길   \n",
       "4                      경상북도 포항시 북구 해안로82     경상북도  포항시 북구  NaN  NaN      해안로   \n",
       "\n",
       "  주소분류  \n",
       "0  new  \n",
       "1  old  \n",
       "2  new  \n",
       "3  new  \n",
       "4  new  "
      ]
     },
     "execution_count": 56,
     "metadata": {},
     "output_type": "execute_result"
    }
   ],
   "source": [
    "df31[['주소', 'ad1', 'ad2', 'ad3', 'ad4', 'ad5', '주소분류']].head()"
   ]
  },
  {
   "cell_type": "code",
   "execution_count": 57,
   "metadata": {},
   "outputs": [
    {
     "data": {
      "text/plain": [
       "(7864132, 33)"
      ]
     },
     "execution_count": 57,
     "metadata": {},
     "output_type": "execute_result"
    }
   ],
   "source": [
    "df31[df31['주소분류'] == 'new'].shape"
   ]
  },
  {
   "cell_type": "code",
   "execution_count": 58,
   "metadata": {},
   "outputs": [
    {
     "data": {
      "text/plain": [
       "(3749317, 33)"
      ]
     },
     "execution_count": 58,
     "metadata": {},
     "output_type": "execute_result"
    }
   ],
   "source": [
    "df31[df31['주소분류'] == 'old'].shape"
   ]
  },
  {
   "cell_type": "markdown",
   "metadata": {},
   "source": [
    "#### df31 출력\n",
    "- 충전시간(계산) 음수 데이터 제거 : 52,366개\n",
    "- 주소분류 추가"
   ]
  },
  {
   "cell_type": "code",
   "execution_count": 64,
   "metadata": {},
   "outputs": [],
   "source": [
    "df31.to_csv('2020-22년_급속충전_충전시간(계산)음수제거_주소분류.csv', encoding='utf-8', index=False)"
   ]
  },
  {
   "cell_type": "markdown",
   "metadata": {},
   "source": [
    "## 분석"
   ]
  },
  {
   "cell_type": "markdown",
   "metadata": {},
   "source": [
    "### 년도/지역별 충전시간, 충전량 통계\n",
    "- 총 충전시간, 총 충전량"
   ]
  },
  {
   "cell_type": "markdown",
   "metadata": {},
   "source": [
    "#### 연도, 지역별 총 충전시간"
   ]
  },
  {
   "cell_type": "code",
   "execution_count": 9,
   "metadata": {},
   "outputs": [
    {
     "data": {
      "text/plain": [
       "지역    시군구\n",
       "강원도   강릉시   2000 days 10:06:29\n",
       "      고성군    342 days 10:02:43\n",
       "      동해시   1281 days 14:11:21\n",
       "      삼척시    801 days 16:11:31\n",
       "      속초시    894 days 04:56:14\n",
       "                   ...        \n",
       "충청북도  제천시   1138 days 18:12:40\n",
       "      증평군    154 days 17:00:42\n",
       "      진천군   1108 days 10:33:16\n",
       "      청주시   5926 days 17:03:39\n",
       "      충주시   3080 days 13:36:25\n",
       "Name: 충전시간, Length: 252, dtype: timedelta64[ns]"
      ]
     },
     "execution_count": 9,
     "metadata": {},
     "output_type": "execute_result"
    }
   ],
   "source": [
    "total_charge_time_l = df2.groupby(['지역', '시군구'])['충전시간'].sum()\n",
    "total_charge_time_l"
   ]
  },
  {
   "cell_type": "code",
   "execution_count": 6,
   "metadata": {},
   "outputs": [
    {
     "data": {
      "text/plain": [
       "충전시작_년도\n",
       "2020             89296 days 01:56:46\n",
       "2021             88766 days 15:01:20\n",
       "2022   94960 days 22:08:44.999999488\n",
       "Name: 충전시간, dtype: timedelta64[ns]"
      ]
     },
     "execution_count": 6,
     "metadata": {},
     "output_type": "execute_result"
    }
   ],
   "source": [
    "total_charge_time_y = df2.groupby(['충전시작_년도'])['충전시간'].sum()\n",
    "total_charge_time_y"
   ]
  },
  {
   "cell_type": "code",
   "execution_count": 7,
   "metadata": {},
   "outputs": [
    {
     "data": {
      "text/plain": [
       "충전시작_년도  지역     \n",
       "2020     강원도        6148 days 10:01:35\n",
       "         경기도       13840 days 18:55:17\n",
       "         경상남도       4730 days 02:41:21\n",
       "         경상북도      11275 days 13:47:49\n",
       "         광주광역시      1824 days 08:01:38\n",
       "         대구광역시      3112 days 19:53:59\n",
       "         대전광역시      2662 days 07:41:09\n",
       "         부산광역시      2020 days 11:30:21\n",
       "         서울특별시      6382 days 09:09:38\n",
       "         세종특별자치시     568 days 20:38:10\n",
       "         울산광역시      1634 days 16:25:51\n",
       "         인천광역시      3482 days 21:46:27\n",
       "         전라남도       5581 days 05:29:41\n",
       "         전라북도       5187 days 09:00:55\n",
       "         제주특별자치도    8284 days 00:42:42\n",
       "         충청남도       6550 days 05:43:33\n",
       "         충청북도       6009 days 12:26:40\n",
       "2021     강원도        6241 days 13:48:26\n",
       "         경기도       14241 days 04:13:44\n",
       "         경상남도       7025 days 11:04:01\n",
       "         경상북도      10720 days 02:23:57\n",
       "         광주광역시      1537 days 21:59:15\n",
       "         대구광역시      3023 days 14:48:01\n",
       "         대전광역시      2665 days 16:03:49\n",
       "         부산광역시      2225 days 08:29:06\n",
       "         서울특별시      6981 days 21:42:07\n",
       "         세종특별자치시     571 days 14:02:22\n",
       "         울산광역시      1377 days 03:29:27\n",
       "         인천광역시      3400 days 22:41:13\n",
       "         전라남도       4808 days 23:36:01\n",
       "         전라북도       5284 days 09:17:53\n",
       "         제주특별자치도    5053 days 02:05:17\n",
       "         충청남도       7420 days 18:38:10\n",
       "         충청북도       6186 days 22:38:31\n",
       "2022     강원도        7004 days 08:25:44\n",
       "         경기도       16861 days 23:09:49\n",
       "         경상남도       7638 days 04:01:35\n",
       "         경상북도      10627 days 02:55:34\n",
       "         광주광역시      1663 days 18:52:01\n",
       "         대구광역시      2723 days 01:22:57\n",
       "         대전광역시      2606 days 13:53:42\n",
       "         부산광역시      2395 days 10:57:23\n",
       "         서울특별시      7322 days 02:25:28\n",
       "         세종특별자치시     406 days 23:52:05\n",
       "         울산광역시      2037 days 16:22:05\n",
       "         인천광역시      4315 days 17:20:41\n",
       "         전라남도       5139 days 16:14:04\n",
       "         전라북도       6138 days 23:44:48\n",
       "         제주특별자치도    3648 days 22:41:38\n",
       "         충청남도       7630 days 11:38:16\n",
       "         충청북도       6799 days 20:10:55\n",
       "Name: 충전시간, dtype: timedelta64[ns]"
      ]
     },
     "execution_count": 7,
     "metadata": {},
     "output_type": "execute_result"
    }
   ],
   "source": [
    "total_charge_time_yl = df2.groupby(['충전시작_년도', '지역'])['충전시간'].sum()\n",
    "total_charge_time_yl"
   ]
  },
  {
   "cell_type": "code",
   "execution_count": 8,
   "metadata": {},
   "outputs": [
    {
     "data": {
      "text/plain": [
       "충전시작_년도  지역    시군구\n",
       "2020     강원도   강릉시    410 days 15:28:29\n",
       "               고성군     62 days 20:02:16\n",
       "               동해시    708 days 22:49:15\n",
       "               삼척시    210 days 20:42:17\n",
       "               속초시    194 days 05:11:37\n",
       "                            ...        \n",
       "2022     충청북도  제천시    393 days 12:09:25\n",
       "               증평군     62 days 12:48:55\n",
       "               진천군    271 days 04:46:10\n",
       "               청주시   2235 days 01:32:44\n",
       "               충주시   1141 days 00:21:33\n",
       "Name: 충전시간, Length: 744, dtype: timedelta64[ns]"
      ]
     },
     "execution_count": 8,
     "metadata": {},
     "output_type": "execute_result"
    }
   ],
   "source": [
    "total_charge_time_yl2 = df2.groupby(['충전시작_년도', '지역', '시군구'])['충전시간'].sum()\n",
    "total_charge_time_yl2"
   ]
  },
  {
   "cell_type": "markdown",
   "metadata": {},
   "source": [
    "##### 연도/지역별 총 충전시간 파일 출력"
   ]
  },
  {
   "cell_type": "code",
   "execution_count": 10,
   "metadata": {},
   "outputs": [],
   "source": [
    "total_charge_time_group = pd.ExcelWriter('분석/2020-22년_연도_지역별_충전시간.xlsx')\n",
    "total_charge_time_l.to_excel(total_charge_time_group, sheet_name='시군구별')\n",
    "total_charge_time_y.to_excel(total_charge_time_group, sheet_name='년도별')\n",
    "total_charge_time_yl.to_excel(total_charge_time_group, sheet_name='년도지역별')\n",
    "total_charge_time_yl2.to_excel(total_charge_time_group, sheet_name='년도시군구별')\n",
    "total_charge_time_group.save()"
   ]
  },
  {
   "cell_type": "markdown",
   "metadata": {},
   "source": [
    "#### 지역/연도별 총 충전량 합계"
   ]
  },
  {
   "cell_type": "code",
   "execution_count": 11,
   "metadata": {},
   "outputs": [
    {
     "data": {
      "text/plain": [
       "지역    시군구\n",
       "강원도   강릉시   1857604.33000\n",
       "      고성군    369691.09000\n",
       "      동해시    701535.12000\n",
       "      삼척시    716323.83000\n",
       "      속초시    860865.62000\n",
       "                 ...     \n",
       "충청북도  제천시    999654.99000\n",
       "      증평군    155696.15000\n",
       "      진천군    591631.10000\n",
       "      청주시   5178912.01000\n",
       "      충주시   2493316.51000\n",
       "Name: 충전량, Length: 252, dtype: float64"
      ]
     },
     "execution_count": 11,
     "metadata": {},
     "output_type": "execute_result"
    }
   ],
   "source": [
    "total_charge_vol_l = df2.groupby(['지역', '시군구'])['충전량'].sum()\n",
    "total_charge_vol_l"
   ]
  },
  {
   "cell_type": "code",
   "execution_count": 12,
   "metadata": {},
   "outputs": [
    {
     "data": {
      "text/plain": [
       "충전시작_년도\n",
       "2020   46811133.65000\n",
       "2021   80999447.99000\n",
       "2022   97428562.80000\n",
       "Name: 충전량, dtype: float64"
      ]
     },
     "execution_count": 12,
     "metadata": {},
     "output_type": "execute_result"
    }
   ],
   "source": [
    "total_charge_vol_y = df2.groupby(['충전시작_년도'])['충전량'].sum()\n",
    "total_charge_vol_y"
   ]
  },
  {
   "cell_type": "code",
   "execution_count": 13,
   "metadata": {},
   "outputs": [
    {
     "data": {
      "text/plain": [
       "충전시작_년도  지역     \n",
       "2020     강원도        2989184.45000\n",
       "         경기도        7010474.66000\n",
       "         경상남도       3167694.35000\n",
       "         경상북도       5910919.27000\n",
       "         광주광역시       754169.55000\n",
       "         대구광역시      2146057.41000\n",
       "         대전광역시      1293125.47000\n",
       "         부산광역시      1062800.58000\n",
       "         서울특별시      3316642.81000\n",
       "         세종특별자치시     317304.54000\n",
       "         울산광역시       780398.72000\n",
       "         인천광역시      1348635.13000\n",
       "         전라남도       2539533.61000\n",
       "         전라북도       2497671.17000\n",
       "         제주특별자치도    4802271.95000\n",
       "         충청남도       3916231.72000\n",
       "         충청북도       2958018.26000\n",
       "2021     강원도        5871167.90000\n",
       "         경기도       13035269.15000\n",
       "         경상남도       6517862.71000\n",
       "         경상북도      10042405.83000\n",
       "         광주광역시      1445372.51000\n",
       "         대구광역시      2783647.75000\n",
       "         대전광역시      2351933.04000\n",
       "         부산광역시      1921385.39000\n",
       "         서울특별시      5851317.95000\n",
       "         세종특별자치시     525703.96000\n",
       "         울산광역시      1304336.52000\n",
       "         인천광역시      3110031.03000\n",
       "         전라남도       4500415.62000\n",
       "         전라북도       5038784.96000\n",
       "         제주특별자치도    4046350.29000\n",
       "         충청남도       6958596.18000\n",
       "         충청북도       5694867.20000\n",
       "2022     강원도        7372220.13000\n",
       "         경기도       16997906.70000\n",
       "         경상남도       8091867.96000\n",
       "         경상북도      11235626.40000\n",
       "         광주광역시      1735726.28000\n",
       "         대구광역시      2912572.29000\n",
       "         대전광역시      2531314.28000\n",
       "         부산광역시      2421477.37000\n",
       "         서울특별시      6878092.09000\n",
       "         세종특별자치시     455896.14000\n",
       "         울산광역시      2244564.88000\n",
       "         인천광역시      4362413.48000\n",
       "         전라남도       5561356.99000\n",
       "         전라북도       6467173.96000\n",
       "         제주특별자치도    3359101.56000\n",
       "         충청남도       7933890.17000\n",
       "         충청북도       6867362.12000\n",
       "Name: 충전량, dtype: float64"
      ]
     },
     "execution_count": 13,
     "metadata": {},
     "output_type": "execute_result"
    }
   ],
   "source": [
    "total_charge_vol_yl = df2.groupby(['충전시작_년도', '지역'])['충전량'].sum()\n",
    "total_charge_vol_yl"
   ]
  },
  {
   "cell_type": "code",
   "execution_count": 14,
   "metadata": {},
   "outputs": [
    {
     "data": {
      "text/plain": [
       "충전시작_년도  지역    시군구\n",
       "2020     강원도   강릉시    298971.29000\n",
       "               고성군     47163.01000\n",
       "               동해시     91053.80000\n",
       "               삼척시    130089.39000\n",
       "               속초시    142168.72000\n",
       "                          ...     \n",
       "2022     충청북도  제천시    416637.20000\n",
       "               증평군     63544.97000\n",
       "               진천군    277948.46000\n",
       "               청주시   2263350.46000\n",
       "               충주시   1161811.42000\n",
       "Name: 충전량, Length: 744, dtype: float64"
      ]
     },
     "execution_count": 14,
     "metadata": {},
     "output_type": "execute_result"
    }
   ],
   "source": [
    "total_charge_vol_yl2 = df2.groupby(['충전시작_년도', '지역', '시군구'])['충전량'].sum()\n",
    "total_charge_vol_yl2"
   ]
  },
  {
   "cell_type": "markdown",
   "metadata": {},
   "source": [
    "##### 년도/지역별 총 충전량 출력"
   ]
  },
  {
   "cell_type": "code",
   "execution_count": 15,
   "metadata": {},
   "outputs": [],
   "source": [
    "total_charge_vol_group = pd.ExcelWriter('분석/2020-22년_연도_지역별_충전량.xlsx')\n",
    "total_charge_vol_l.to_excel(total_charge_vol_group, sheet_name='시군구별')\n",
    "total_charge_vol_y.to_excel(total_charge_vol_group, sheet_name='년도별')\n",
    "total_charge_vol_yl.to_excel(total_charge_vol_group, sheet_name='년도지역별')\n",
    "total_charge_vol_yl2.to_excel(total_charge_vol_group, sheet_name='년도시군구별')\n",
    "total_charge_vol_group.save()"
   ]
  },
  {
   "cell_type": "markdown",
   "metadata": {},
   "source": [
    "### 년도, 월별 충전시간, 충전량 통계\n",
    "- 총 충전시간, 총 충전량"
   ]
  },
  {
   "cell_type": "markdown",
   "metadata": {},
   "source": [
    "#### 년도/월별 총 충전시간"
   ]
  },
  {
   "cell_type": "code",
   "execution_count": 17,
   "metadata": {},
   "outputs": [
    {
     "data": {
      "text/plain": [
       "충전시작_년도\n",
       "2020             89296 days 01:56:46\n",
       "2021             88766 days 15:01:20\n",
       "2022   94960 days 22:08:44.999999488\n",
       "Name: 충전시간, dtype: timedelta64[ns]"
      ]
     },
     "execution_count": 17,
     "metadata": {},
     "output_type": "execute_result"
    }
   ],
   "source": [
    "charge_time_y = df2.groupby(['충전시작_년도'])['충전시간'].sum()\n",
    "charge_time_y"
   ]
  },
  {
   "cell_type": "code",
   "execution_count": 16,
   "metadata": {},
   "outputs": [
    {
     "data": {
      "text/plain": [
       "충전시작_년도  충전시작_월\n",
       "2020     1         4844 days 06:04:49\n",
       "         2         3807 days 14:53:40\n",
       "         3         4220 days 18:42:13\n",
       "         4         5200 days 19:02:23\n",
       "         5         6698 days 16:05:39\n",
       "         6         8425 days 07:42:45\n",
       "         7         9948 days 17:47:42\n",
       "         8         9994 days 13:12:00\n",
       "         9         7887 days 09:02:08\n",
       "         10        9809 days 02:56:50\n",
       "         11        9686 days 05:46:34\n",
       "         12        8772 days 14:40:03\n",
       "2021     1         6700 days 00:31:35\n",
       "         2         5972 days 01:10:01\n",
       "         3         6318 days 03:25:10\n",
       "         4         5981 days 18:18:29\n",
       "         5         5934 days 01:30:44\n",
       "         6         5927 days 10:26:42\n",
       "         7         6999 days 08:35:22\n",
       "         8         7217 days 06:09:09\n",
       "         9         7222 days 08:48:45\n",
       "         10        8611 days 17:43:58\n",
       "         11       10017 days 21:16:40\n",
       "         12       11864 days 13:04:45\n",
       "2022     1        11766 days 19:03:00\n",
       "         2         9909 days 20:56:47\n",
       "         3        10833 days 12:08:33\n",
       "         4        11210 days 01:08:59\n",
       "         5        12025 days 11:31:03\n",
       "         6        12032 days 13:22:44\n",
       "         7        13605 days 05:53:35\n",
       "         8        13577 days 10:04:04\n",
       "Name: 충전시간, dtype: timedelta64[ns]"
      ]
     },
     "execution_count": 16,
     "metadata": {},
     "output_type": "execute_result"
    }
   ],
   "source": [
    "charge_time_ym = df2.groupby(['충전시작_년도', '충전시작_월'])['충전시간'].sum()\n",
    "charge_time_ym"
   ]
  },
  {
   "cell_type": "code",
   "execution_count": 20,
   "metadata": {},
   "outputs": [],
   "source": [
    "total_charge_time_group_ym = pd.ExcelWriter('분석/2020-22년_급속충전_년월별_총_충전시간.xlsx')\n",
    "charge_time_y.to_excel(total_charge_time_group_ym, sheet_name='연도별')\n",
    "charge_time_ym.to_excel(total_charge_time_group_ym, sheet_name='연도월별')\n",
    "total_charge_time_group_ym.save()"
   ]
  },
  {
   "cell_type": "markdown",
   "metadata": {},
   "source": [
    "#### 년도/월별 총 충전시간(계산)"
   ]
  },
  {
   "cell_type": "code",
   "execution_count": 21,
   "metadata": {},
   "outputs": [
    {
     "data": {
      "text/plain": [
       "충전시작_년도\n",
       "2020    84050 days 00:29:12.999999488\n",
       "2021    95417 days 01:17:47.000000512\n",
       "2022   102616 days 02:40:48.999999488\n",
       "Name: 충전시간(계산), dtype: timedelta64[ns]"
      ]
     },
     "execution_count": 21,
     "metadata": {},
     "output_type": "execute_result"
    }
   ],
   "source": [
    "cal_charge_time_y = df2.groupby(['충전시작_년도'])['충전시간(계산)'].sum()\n",
    "cal_charge_time_y"
   ]
  },
  {
   "cell_type": "code",
   "execution_count": 22,
   "metadata": {},
   "outputs": [
    {
     "data": {
      "text/plain": [
       "충전시작_년도  충전시작_월\n",
       "2020     1         5111 days 07:36:54\n",
       "         2         4030 days 10:04:17\n",
       "         3         4128 days 11:36:27\n",
       "         4         4900 days 20:11:06\n",
       "         5         6183 days 22:26:24\n",
       "         6         7541 days 18:02:20\n",
       "         7         8763 days 12:15:12\n",
       "         8         8909 days 04:45:22\n",
       "         9         7116 days 07:09:15\n",
       "         10        9042 days 04:42:48\n",
       "         11        9503 days 08:37:36\n",
       "         12        8818 days 17:01:32\n",
       "2021     1         6970 days 17:06:06\n",
       "         2         6278 days 23:23:36\n",
       "         3         6597 days 16:40:25\n",
       "         4         6267 days 11:25:41\n",
       "         5         6229 days 08:51:42\n",
       "         6         6233 days 16:48:38\n",
       "         7         7350 days 13:25:41\n",
       "         8         7941 days 11:25:24\n",
       "         9         8056 days 00:14:44\n",
       "         10        9592 days 22:42:28\n",
       "         11       10994 days 09:48:00\n",
       "         12       12903 days 17:25:22\n",
       "2022     1        12766 days 06:53:00\n",
       "         2        10760 days 18:15:50\n",
       "         3        11820 days 02:18:10\n",
       "         4        12187 days 02:13:02\n",
       "         5        13126 days 15:54:21\n",
       "         6        13076 days 21:10:27\n",
       "         7        14502 days 02:56:44\n",
       "         8        14376 days 04:59:15\n",
       "Name: 충전시간(계산), dtype: timedelta64[ns]"
      ]
     },
     "execution_count": 22,
     "metadata": {},
     "output_type": "execute_result"
    }
   ],
   "source": [
    "cal_charge_time_ym = df2.groupby(['충전시작_년도', '충전시작_월'])['충전시간(계산)'].sum()\n",
    "cal_charge_time_ym"
   ]
  },
  {
   "cell_type": "code",
   "execution_count": 23,
   "metadata": {},
   "outputs": [],
   "source": [
    "total_cal_charge_time_group_ym = pd.ExcelWriter('분석/2020-22년_급속충전_년월별_총_충전시간(계산).xlsx')\n",
    "cal_charge_time_y.to_excel(total_cal_charge_time_group_ym, sheet_name='연도별')\n",
    "cal_charge_time_ym.to_excel(total_cal_charge_time_group_ym, sheet_name='연도월별')\n",
    "total_cal_charge_time_group_ym.save()"
   ]
  },
  {
   "cell_type": "markdown",
   "metadata": {},
   "source": [
    "#### 년도/월별 총 충전량"
   ]
  },
  {
   "cell_type": "code",
   "execution_count": 24,
   "metadata": {},
   "outputs": [
    {
     "data": {
      "text/plain": [
       "충전시작_년도\n",
       "2020   46811133.65000\n",
       "2021   80999447.99000\n",
       "2022   97428562.80000\n",
       "Name: 충전량, dtype: float64"
      ]
     },
     "execution_count": 24,
     "metadata": {},
     "output_type": "execute_result"
    }
   ],
   "source": [
    "cal_charge_vol_y = df2.groupby(['충전시작_년도'])['충전량'].sum()\n",
    "cal_charge_vol_y"
   ]
  },
  {
   "cell_type": "code",
   "execution_count": 25,
   "metadata": {},
   "outputs": [
    {
     "data": {
      "text/plain": [
       "충전시작_년도  충전시작_월\n",
       "2020     1         3728407.76000\n",
       "         2         2923554.69000\n",
       "         3         2868303.28000\n",
       "         4         3029906.70000\n",
       "         5         3364357.94000\n",
       "         6         3562807.86000\n",
       "         7         3794918.35000\n",
       "         8         4398191.42000\n",
       "         9         3893530.88000\n",
       "         10        4855642.05000\n",
       "         11        5046230.77000\n",
       "         12        5345281.95000\n",
       "2021     1         4985581.43000\n",
       "         2         4688077.46000\n",
       "         3         5284216.30000\n",
       "         4         5254442.52000\n",
       "         5         5396621.91000\n",
       "         6         5646845.23000\n",
       "         7         6912348.98000\n",
       "         8         7154868.40000\n",
       "         9         7228810.76000\n",
       "         10        8412678.23000\n",
       "         11        9455615.51000\n",
       "         12       10579341.26000\n",
       "2022     1        10302203.67000\n",
       "         2         8714278.79000\n",
       "         3        10292070.61000\n",
       "         4        11457488.60000\n",
       "         5        12850982.38000\n",
       "         6        13187238.69000\n",
       "         7        15196951.74000\n",
       "         8        15427348.32000\n",
       "Name: 충전량, dtype: float64"
      ]
     },
     "execution_count": 25,
     "metadata": {},
     "output_type": "execute_result"
    }
   ],
   "source": [
    "cal_charge_vol_ym = df2.groupby(['충전시작_년도', '충전시작_월'])['충전량'].sum()\n",
    "cal_charge_vol_ym"
   ]
  },
  {
   "cell_type": "code",
   "execution_count": 26,
   "metadata": {},
   "outputs": [],
   "source": [
    "total_charge_vol_group_ym = pd.ExcelWriter('분석/2020-22년_급속충전_년월별_총_충전량.xlsx')\n",
    "cal_charge_vol_y.to_excel(total_charge_vol_group_ym, sheet_name='년도별')\n",
    "cal_charge_vol_ym.to_excel(total_charge_vol_group_ym, sheet_name='년도월별')\n",
    "total_charge_vol_group_ym.save()"
   ]
  },
  {
   "cell_type": "markdown",
   "metadata": {},
   "source": [
    "## 데이터 로드(다시 시작)"
   ]
  },
  {
   "cell_type": "code",
   "execution_count": 16,
   "metadata": {},
   "outputs": [
    {
     "name": "stderr",
     "output_type": "stream",
     "text": [
      "C:\\Users\\kbj\\AppData\\Local\\Temp\\ipykernel_13392\\3053455079.py:1: DtypeWarning: Columns (11) have mixed types. Specify dtype option on import or set low_memory=False.\n",
      "  df2 = pd.read_csv('2020-22년_급속충전-충전시간정리.csv', index_col=0, dtype={'충전시작_년도':np.int16, '충전종료_년도':np.int16, '충전시작_월':np.int8,  '충전시작_일':np.int8, '충전시작_시':np.int8, '충전시작_분':np.int8, '충전시작_초':np.int8, '충전종료_월':np.int8, '충전종료_일':np.int8, '충전종료_시':np.int8, '충전종료_분':np.int8, '충전종료_초':np.int8, '충전기ID':np.int8})\n"
     ]
    },
    {
     "name": "stdout",
     "output_type": "stream",
     "text": [
      "<class 'pandas.core.frame.DataFrame'>\n",
      "RangeIndex: 11613449 entries, 0 to 11613448\n",
      "Data columns (total 27 columns):\n",
      " #   Column        Dtype          \n",
      "---  ------        -----          \n",
      " 0   충전소명          object         \n",
      " 1   충전기ID         int8           \n",
      " 2   지역            object         \n",
      " 3   시군구           object         \n",
      " 4   주소            object         \n",
      " 5   충전기타입         object         \n",
      " 6   충전시작일시        int64          \n",
      " 7   충전종료일시        int64          \n",
      " 8   충전시간          timedelta64[ns]\n",
      " 9   충전량           float64        \n",
      " 10  충전용량          object         \n",
      " 11  충전시작_년도       int16          \n",
      " 12  충전시작_월        int8           \n",
      " 13  충전시작_일        int8           \n",
      " 14  충전시작_시        int8           \n",
      " 15  충전시작_분        int8           \n",
      " 16  충전시작_초        int8           \n",
      " 17  충전시작일시(변환)    object         \n",
      " 18  충전종료_년도       int16          \n",
      " 19  충전종료_월        int8           \n",
      " 20  충전종료_일        int8           \n",
      " 21  충전종료_시        int8           \n",
      " 22  충전종료_분        int8           \n",
      " 23  충전종료_초        int8           \n",
      " 24  충전종료일시(변환)    object         \n",
      " 25  충전시간(계산)      timedelta64[ns]\n",
      " 26  raw값과_계산값_차이  object         \n",
      "dtypes: float64(1), int16(2), int64(2), int8(11), object(9), timedelta64[ns](2)\n",
      "memory usage: 1.4+ GB\n"
     ]
    }
   ],
   "source": [
    "# df21 = pd.read_csv('2020-22년_급속충전_충전시간_오류제거_주소분류.csv', index_col=0, dtype={'충전시작_년도':np.int16, '충전종료_년도':np.int16, '충전시작_월':np.int8,  '충전시작_일':np.int8, '충전시작_시':np.int8, '충전시작_분':np.int8, '충전시작_초':np.int8, '충전종료_월':np.int8, '충전종료_일':np.int8, '충전종료_시':np.int8, '충전종료_분':np.int8, '충전종료_초':np.int8, '충전기ID':np.int8})\n",
    "# df21['충전시간'] = pd.to_timedelta(df21['충전시간'])\n",
    "# df21['충전시간(계산)'] = pd.to_timedelta(df21['충전시간(계산)'])\n",
    "# df21 = df21.reset_index(drop=True)\n",
    "# df21.info()"
   ]
  },
  {
   "cell_type": "code",
   "execution_count": 65,
   "metadata": {},
   "outputs": [],
   "source": [
    "new_adr_df = df21[df21['주소분류'] == 'new'].reset_index(drop=True)\n",
    "old_adr_df = df21[df21['주소분류'] == 'old'].reset_index(drop=True)"
   ]
  },
  {
   "cell_type": "code",
   "execution_count": 66,
   "metadata": {},
   "outputs": [
    {
     "data": {
      "text/plain": [
       "((7893081, 32), (3772734, 32))"
      ]
     },
     "execution_count": 66,
     "metadata": {},
     "output_type": "execute_result"
    }
   ],
   "source": [
    "new_adr_df.shape, old_adr_df.shape"
   ]
  },
  {
   "cell_type": "markdown",
   "metadata": {},
   "source": [
    "## 분석2"
   ]
  },
  {
   "cell_type": "code",
   "execution_count": 67,
   "metadata": {},
   "outputs": [
    {
     "name": "stdout",
     "output_type": "stream",
     "text": [
      "<class 'pandas.core.frame.DataFrame'>\n",
      "RangeIndex: 7893081 entries, 0 to 7893080\n",
      "Data columns (total 32 columns):\n",
      " #   Column      Dtype          \n",
      "---  ------      -----          \n",
      " 0   충전소명        object         \n",
      " 1   충전기ID       int8           \n",
      " 2   지역          object         \n",
      " 3   시군구         object         \n",
      " 4   주소          object         \n",
      " 5   충전기타입       object         \n",
      " 6   충전시작일시      int64          \n",
      " 7   충전종료일시      int64          \n",
      " 8   충전시간        timedelta64[ns]\n",
      " 9   충전량         float64        \n",
      " 10  충전용량        object         \n",
      " 11  충전시작_년도     int16          \n",
      " 12  충전시작_월      int8           \n",
      " 13  충전시작_일      int8           \n",
      " 14  충전시작_시      int8           \n",
      " 15  충전시작_분      int8           \n",
      " 16  충전시작_초      int8           \n",
      " 17  충전시작일시(변환)  object         \n",
      " 18  충전종료_년도     int16          \n",
      " 19  충전종료_월      int8           \n",
      " 20  충전종료_일      int8           \n",
      " 21  충전종료_시      int8           \n",
      " 22  충전종료_분      int8           \n",
      " 23  충전종료_초      int8           \n",
      " 24  충전종료일시(변환)  object         \n",
      " 25  충전시간(계산)    timedelta64[ns]\n",
      " 26  ad1         object         \n",
      " 27  ad2         object         \n",
      " 28  ad3         object         \n",
      " 29  ad4         object         \n",
      " 30  ad5         object         \n",
      " 31  주소분류        object         \n",
      "dtypes: float64(1), int16(2), int64(2), int8(11), object(14), timedelta64[ns](2)\n",
      "memory usage: 1.2+ GB\n"
     ]
    }
   ],
   "source": [
    "new_adr_df.info()"
   ]
  },
  {
   "cell_type": "code",
   "execution_count": 68,
   "metadata": {},
   "outputs": [
    {
     "name": "stdout",
     "output_type": "stream",
     "text": [
      "<class 'pandas.core.frame.DataFrame'>\n",
      "RangeIndex: 3772734 entries, 0 to 3772733\n",
      "Data columns (total 32 columns):\n",
      " #   Column      Dtype          \n",
      "---  ------      -----          \n",
      " 0   충전소명        object         \n",
      " 1   충전기ID       int8           \n",
      " 2   지역          object         \n",
      " 3   시군구         object         \n",
      " 4   주소          object         \n",
      " 5   충전기타입       object         \n",
      " 6   충전시작일시      int64          \n",
      " 7   충전종료일시      int64          \n",
      " 8   충전시간        timedelta64[ns]\n",
      " 9   충전량         float64        \n",
      " 10  충전용량        object         \n",
      " 11  충전시작_년도     int16          \n",
      " 12  충전시작_월      int8           \n",
      " 13  충전시작_일      int8           \n",
      " 14  충전시작_시      int8           \n",
      " 15  충전시작_분      int8           \n",
      " 16  충전시작_초      int8           \n",
      " 17  충전시작일시(변환)  object         \n",
      " 18  충전종료_년도     int16          \n",
      " 19  충전종료_월      int8           \n",
      " 20  충전종료_일      int8           \n",
      " 21  충전종료_시      int8           \n",
      " 22  충전종료_분      int8           \n",
      " 23  충전종료_초      int8           \n",
      " 24  충전종료일시(변환)  object         \n",
      " 25  충전시간(계산)    timedelta64[ns]\n",
      " 26  ad1         object         \n",
      " 27  ad2         object         \n",
      " 28  ad3         object         \n",
      " 29  ad4         object         \n",
      " 30  ad5         object         \n",
      " 31  주소분류        object         \n",
      "dtypes: float64(1), int16(2), int64(2), int8(11), object(14), timedelta64[ns](2)\n",
      "memory usage: 600.9+ MB\n"
     ]
    }
   ],
   "source": [
    "old_adr_df.info()"
   ]
  },
  {
   "cell_type": "markdown",
   "metadata": {},
   "source": [
    "#### [과거] 분석 이슈\n",
    "- 원본데이터 주소 분석\n",
    "- 1번 지역(시군구) : 세종특별자치시 주소는 시군구가 없이 바로 도로명 주소나 2번 지역명(읍면동)이 있는 경우가 있음\n",
    "- 2번 지역(읍면동) : 3번 지역명(리)의 주소가 있는 샘플 존재.\n",
    "    - 샘플 주소 : 강원도 화천군 하리\n",
    "    - 실제 주소 : 강원도 화천군 화천읍 하리"
   ]
  },
  {
   "cell_type": "markdown",
   "metadata": {},
   "source": [
    "### 교체 충전기 수 예측\n",
    "- 충전기 별 충전량/충전시간 데이터 활용\n",
    "- 같은 지역내에 동일한 \"충전기ID\" 존재"
   ]
  },
  {
   "cell_type": "code",
   "execution_count": 69,
   "metadata": {},
   "outputs": [
    {
     "data": {
      "text/plain": [
       "Index(['충전소명', '충전기ID', '지역', '시군구', '주소', '충전기타입', '충전시작일시', '충전종료일시', '충전시간',\n",
       "       '충전량', '충전용량', '충전시작_년도', '충전시작_월', '충전시작_일', '충전시작_시', '충전시작_분',\n",
       "       '충전시작_초', '충전시작일시(변환)', '충전종료_년도', '충전종료_월', '충전종료_일', '충전종료_시',\n",
       "       '충전종료_분', '충전종료_초', '충전종료일시(변환)', '충전시간(계산)', 'ad1', 'ad2', 'ad3',\n",
       "       'ad4', 'ad5', '주소분류'],\n",
       "      dtype='object')"
      ]
     },
     "execution_count": 69,
     "metadata": {},
     "output_type": "execute_result"
    }
   ],
   "source": [
    "new_adr_df.columns"
   ]
  },
  {
   "cell_type": "code",
   "execution_count": 70,
   "metadata": {},
   "outputs": [
    {
     "data": {
      "text/html": [
       "<div>\n",
       "<style scoped>\n",
       "    .dataframe tbody tr th:only-of-type {\n",
       "        vertical-align: middle;\n",
       "    }\n",
       "\n",
       "    .dataframe tbody tr th {\n",
       "        vertical-align: top;\n",
       "    }\n",
       "\n",
       "    .dataframe thead th {\n",
       "        text-align: right;\n",
       "    }\n",
       "</style>\n",
       "<table border=\"1\" class=\"dataframe\">\n",
       "  <thead>\n",
       "    <tr style=\"text-align: right;\">\n",
       "      <th></th>\n",
       "      <th>충전기ID</th>\n",
       "      <th>지역</th>\n",
       "      <th>시군구</th>\n",
       "      <th>충전기타입</th>\n",
       "      <th>충전시간</th>\n",
       "      <th>충전량</th>\n",
       "    </tr>\n",
       "  </thead>\n",
       "  <tbody>\n",
       "    <tr>\n",
       "      <th>0</th>\n",
       "      <td>1</td>\n",
       "      <td>경상남도</td>\n",
       "      <td>김해시</td>\n",
       "      <td>DC차데모+AC3상+DC콤보</td>\n",
       "      <td>0 days 00:39:25</td>\n",
       "      <td>20.22000</td>\n",
       "    </tr>\n",
       "    <tr>\n",
       "      <th>1</th>\n",
       "      <td>1</td>\n",
       "      <td>제주특별자치도</td>\n",
       "      <td>제주시</td>\n",
       "      <td>DC차데모+AC3상+DC콤보</td>\n",
       "      <td>0 days 00:29:13</td>\n",
       "      <td>16.04000</td>\n",
       "    </tr>\n",
       "    <tr>\n",
       "      <th>2</th>\n",
       "      <td>1</td>\n",
       "      <td>제주특별자치도</td>\n",
       "      <td>제주시</td>\n",
       "      <td>DC차데모+AC3상+DC콤보</td>\n",
       "      <td>0 days 00:09:07</td>\n",
       "      <td>5.80000</td>\n",
       "    </tr>\n",
       "    <tr>\n",
       "      <th>3</th>\n",
       "      <td>1</td>\n",
       "      <td>경상북도</td>\n",
       "      <td>포항시</td>\n",
       "      <td>DC차데모+AC3상+DC콤보</td>\n",
       "      <td>0 days 00:33:29</td>\n",
       "      <td>13.32000</td>\n",
       "    </tr>\n",
       "    <tr>\n",
       "      <th>4</th>\n",
       "      <td>1</td>\n",
       "      <td>강원도</td>\n",
       "      <td>양양군</td>\n",
       "      <td>DC차데모+AC3상+DC콤보</td>\n",
       "      <td>0 days 00:40:41</td>\n",
       "      <td>29.23000</td>\n",
       "    </tr>\n",
       "  </tbody>\n",
       "</table>\n",
       "</div>"
      ],
      "text/plain": [
       "   충전기ID       지역  시군구            충전기타입            충전시간      충전량\n",
       "0      1     경상남도  김해시  DC차데모+AC3상+DC콤보 0 days 00:39:25 20.22000\n",
       "1      1  제주특별자치도  제주시  DC차데모+AC3상+DC콤보 0 days 00:29:13 16.04000\n",
       "2      1  제주특별자치도  제주시  DC차데모+AC3상+DC콤보 0 days 00:09:07  5.80000\n",
       "3      1     경상북도  포항시  DC차데모+AC3상+DC콤보 0 days 00:33:29 13.32000\n",
       "4      1      강원도  양양군  DC차데모+AC3상+DC콤보 0 days 00:40:41 29.23000"
      ]
     },
     "execution_count": 70,
     "metadata": {},
     "output_type": "execute_result"
    }
   ],
   "source": [
    "temp = new_adr_df[['충전기ID', '지역', '시군구', '충전기타입', '충전시간', '충전량']]\n",
    "temp.head()"
   ]
  },
  {
   "cell_type": "code",
   "execution_count": 71,
   "metadata": {},
   "outputs": [
    {
     "data": {
      "text/plain": [
       "array(['경상남도', '제주특별자치도', '경상북도', '강원도', '대전광역시', '충청남도', '충청북도', '부산광역시',\n",
       "       '경기도', '전라남도', '대구광역시', '광주광역시', '서울특별시', '울산광역시', '전라북도',\n",
       "       '세종특별자치시', '인천광역시'], dtype=object)"
      ]
     },
     "execution_count": 71,
     "metadata": {},
     "output_type": "execute_result"
    }
   ],
   "source": [
    "temp['지역'].unique()"
   ]
  },
  {
   "cell_type": "code",
   "execution_count": 72,
   "metadata": {},
   "outputs": [
    {
     "data": {
      "text/plain": [
       "array([ 1,  4,  2,  5, 52, 12,  3, 11,  6, 14, 13, 10, 51, 22, 21,  8, 23,\n",
       "       24, 15, 18, 17, 26, 25, 42, 41, 43, 44, 16,  7, 91, 80, 89, 83, 88,\n",
       "       84, 86, 85, 82, 87, 45, 46, 47, 81, 92, 28, 27, 93, 94, 97, 95, 98,\n",
       "       96], dtype=int8)"
      ]
     },
     "execution_count": 72,
     "metadata": {},
     "output_type": "execute_result"
    }
   ],
   "source": [
    "temp['충전기ID'].unique()"
   ]
  },
  {
   "cell_type": "code",
   "execution_count": 73,
   "metadata": {},
   "outputs": [
    {
     "data": {
      "text/plain": [
       "array([ 1,  2, 11, 52,  6, 12,  3,  4,  5, 13, 21, 22, 14, 23, 24, 26, 25,\n",
       "        8,  7, 45, 41, 43, 44, 42], dtype=int8)"
      ]
     },
     "execution_count": 73,
     "metadata": {},
     "output_type": "execute_result"
    }
   ],
   "source": [
    "temp[temp['지역'] == '서울특별시']['충전기ID'].unique()"
   ]
  },
  {
   "cell_type": "code",
   "execution_count": 74,
   "metadata": {},
   "outputs": [
    {
     "data": {
      "text/plain": [
       "1     414101\n",
       "2      52729\n",
       "22     43034\n",
       "21     38357\n",
       "12     28079\n",
       "11     26816\n",
       "41     11340\n",
       "45      8639\n",
       "44      8049\n",
       "3       7917\n",
       "4       7459\n",
       "42      6339\n",
       "43      6216\n",
       "23      5418\n",
       "52      5070\n",
       "24      5010\n",
       "5       3903\n",
       "26      3709\n",
       "6       3336\n",
       "8       3249\n",
       "25      2700\n",
       "7       2221\n",
       "13       961\n",
       "14       214\n",
       "Name: 충전기ID, dtype: int64"
      ]
     },
     "execution_count": 74,
     "metadata": {},
     "output_type": "execute_result"
    }
   ],
   "source": [
    "temp[temp['지역'] == '서울특별시']['충전기ID'].value_counts()"
   ]
  },
  {
   "cell_type": "code",
   "execution_count": 75,
   "metadata": {},
   "outputs": [
    {
     "data": {
      "text/plain": [
       "array([ 1,  5, 12, 11,  2, 52, 51,  3, 14, 21, 22, 13, 23, 24, 42, 41, 43,\n",
       "       44,  8,  4,  7,  6, 80, 89, 83, 88, 84, 86, 85, 82, 87, 81, 45, 46,\n",
       "       91, 26, 25, 28, 27, 92, 94, 97, 95, 93, 98, 96], dtype=int8)"
      ]
     },
     "execution_count": 75,
     "metadata": {},
     "output_type": "execute_result"
    }
   ],
   "source": [
    "temp[temp['지역'] == '경기도']['충전기ID'].unique()"
   ]
  },
  {
   "cell_type": "code",
   "execution_count": 76,
   "metadata": {},
   "outputs": [
    {
     "data": {
      "text/html": [
       "<div>\n",
       "<style scoped>\n",
       "    .dataframe tbody tr th:only-of-type {\n",
       "        vertical-align: middle;\n",
       "    }\n",
       "\n",
       "    .dataframe tbody tr th {\n",
       "        vertical-align: top;\n",
       "    }\n",
       "\n",
       "    .dataframe thead th {\n",
       "        text-align: right;\n",
       "    }\n",
       "</style>\n",
       "<table border=\"1\" class=\"dataframe\">\n",
       "  <thead>\n",
       "    <tr style=\"text-align: right;\">\n",
       "      <th></th>\n",
       "      <th>충전기ID</th>\n",
       "      <th>지역</th>\n",
       "      <th>시군구</th>\n",
       "      <th>충전기타입</th>\n",
       "      <th>충전시간</th>\n",
       "      <th>충전량</th>\n",
       "    </tr>\n",
       "  </thead>\n",
       "  <tbody>\n",
       "    <tr>\n",
       "      <th>55</th>\n",
       "      <td>1</td>\n",
       "      <td>서울특별시</td>\n",
       "      <td>양천구</td>\n",
       "      <td>DC차데모+AC3상+DC콤보</td>\n",
       "      <td>0 days 00:35:51</td>\n",
       "      <td>17.36000</td>\n",
       "    </tr>\n",
       "    <tr>\n",
       "      <th>72</th>\n",
       "      <td>1</td>\n",
       "      <td>서울특별시</td>\n",
       "      <td>중구</td>\n",
       "      <td>DC차데모+AC3상+DC콤보</td>\n",
       "      <td>0 days 00:11:38</td>\n",
       "      <td>6.16000</td>\n",
       "    </tr>\n",
       "    <tr>\n",
       "      <th>74</th>\n",
       "      <td>1</td>\n",
       "      <td>서울특별시</td>\n",
       "      <td>종로구</td>\n",
       "      <td>DC차데모+AC3상+DC콤보</td>\n",
       "      <td>0 days 00:25:34</td>\n",
       "      <td>15.18000</td>\n",
       "    </tr>\n",
       "    <tr>\n",
       "      <th>121</th>\n",
       "      <td>1</td>\n",
       "      <td>서울특별시</td>\n",
       "      <td>관악구</td>\n",
       "      <td>DC차데모+AC3상+DC콤보</td>\n",
       "      <td>0 days 00:14:38</td>\n",
       "      <td>6.63000</td>\n",
       "    </tr>\n",
       "    <tr>\n",
       "      <th>150</th>\n",
       "      <td>1</td>\n",
       "      <td>서울특별시</td>\n",
       "      <td>관악구</td>\n",
       "      <td>DC차데모+AC3상+DC콤보</td>\n",
       "      <td>0 days 00:05:47</td>\n",
       "      <td>1.88000</td>\n",
       "    </tr>\n",
       "  </tbody>\n",
       "</table>\n",
       "</div>"
      ],
      "text/plain": [
       "     충전기ID     지역  시군구            충전기타입            충전시간      충전량\n",
       "55       1  서울특별시  양천구  DC차데모+AC3상+DC콤보 0 days 00:35:51 17.36000\n",
       "72       1  서울특별시   중구  DC차데모+AC3상+DC콤보 0 days 00:11:38  6.16000\n",
       "74       1  서울특별시  종로구  DC차데모+AC3상+DC콤보 0 days 00:25:34 15.18000\n",
       "121      1  서울특별시  관악구  DC차데모+AC3상+DC콤보 0 days 00:14:38  6.63000\n",
       "150      1  서울특별시  관악구  DC차데모+AC3상+DC콤보 0 days 00:05:47  1.88000"
      ]
     },
     "execution_count": 76,
     "metadata": {},
     "output_type": "execute_result"
    }
   ],
   "source": [
    "seoul = temp[temp['지역'] == '서울특별시']\n",
    "seoul.head()"
   ]
  },
  {
   "cell_type": "code",
   "execution_count": 77,
   "metadata": {},
   "outputs": [
    {
     "data": {
      "text/plain": [
       "array(['양천구', '중구', '종로구', '관악구', '동작구', '영등포구', '서대문구', '용산구', '강남구',\n",
       "       '중랑구', '서초구', '마포구', '강동구', '강북구', '동대문구', '강서구', '도봉구', '은평구',\n",
       "       '송파구', '금천구', '구로구', '노원구', '성북구', '성동구', '광진구'], dtype=object)"
      ]
     },
     "execution_count": 77,
     "metadata": {},
     "output_type": "execute_result"
    }
   ],
   "source": [
    "seoul['시군구'].unique()"
   ]
  },
  {
   "cell_type": "code",
   "execution_count": 78,
   "metadata": {},
   "outputs": [
    {
     "data": {
      "text/plain": [
       "array([ 1,  2, 52,  6,  4,  5,  3], dtype=int8)"
      ]
     },
     "execution_count": 78,
     "metadata": {},
     "output_type": "execute_result"
    }
   ],
   "source": [
    "seoul[seoul['시군구'] == '영등포구']['충전기ID'].unique()"
   ]
  },
  {
   "cell_type": "code",
   "execution_count": 79,
   "metadata": {},
   "outputs": [
    {
     "data": {
      "text/plain": [
       "1     48225\n",
       "2     11116\n",
       "52     5070\n",
       "5      1853\n",
       "4      1849\n",
       "6      1391\n",
       "3      1379\n",
       "Name: 충전기ID, dtype: int64"
      ]
     },
     "execution_count": 79,
     "metadata": {},
     "output_type": "execute_result"
    }
   ],
   "source": [
    "seoul[seoul['시군구'] == '영등포구']['충전기ID'].value_counts()"
   ]
  },
  {
   "cell_type": "code",
   "execution_count": 80,
   "metadata": {},
   "outputs": [
    {
     "data": {
      "text/plain": [
       "array([ 1,  2, 44, 41, 43, 42, 45, 21, 23, 25, 26, 24, 22], dtype=int8)"
      ]
     },
     "execution_count": 80,
     "metadata": {},
     "output_type": "execute_result"
    }
   ],
   "source": [
    "seoul[seoul['시군구'] == '송파구']['충전기ID'].unique()"
   ]
  },
  {
   "cell_type": "markdown",
   "metadata": {},
   "source": [
    "##### 특정 지역 충전기 확인\n",
    "- '강원도 강릉시 성산면 영동고속도로 231 (보광리)'"
   ]
  },
  {
   "cell_type": "code",
   "execution_count": 81,
   "metadata": {},
   "outputs": [
    {
     "data": {
      "text/plain": [
       "236           서울특별시 영등포구 의사당대로1, 국회도서관 앞\n",
       "788      서울특별시 영등포구 영중로3길 7  지하1층 여성전용구역\n",
       "813     서울특별시 영등포구 영중로 125, 지상주차장(외부 1F)\n",
       "1257    서울특별시 영등포구 영중로 125, 지상주차장(외부 1F)\n",
       "1431       서울특별시 영등포구 양산로111 , 왼쪽 끝편 주차장\n",
       "Name: 주소, dtype: object"
      ]
     },
     "execution_count": 81,
     "metadata": {},
     "output_type": "execute_result"
    }
   ],
   "source": [
    "new_adr_df[(new_adr_df['시군구'] == '영등포구') & (new_adr_df['충전기ID'] == 1)]['주소'].head()"
   ]
  },
  {
   "cell_type": "code",
   "execution_count": 82,
   "metadata": {},
   "outputs": [
    {
     "data": {
      "text/plain": [
       "85     강원도 강릉시 성산면 영동고속도로 231 (보광리)\n",
       "133    강원도 강릉시 성산면 영동고속도로 231 (보광리)\n",
       "174    강원도 강릉시 성산면 영동고속도로 231 (보광리)\n",
       "215    강원도 강릉시 성산면 영동고속도로 231 (보광리)\n",
       "255    강원도 강릉시 성산면 영동고속도로 231 (보광리)\n",
       "Name: 주소, dtype: object"
      ]
     },
     "execution_count": 82,
     "metadata": {},
     "output_type": "execute_result"
    }
   ],
   "source": [
    "new_adr_df[(new_adr_df['시군구'] == '강릉시') & (new_adr_df['충전기ID'] == 1)]['주소'].head()"
   ]
  },
  {
   "cell_type": "code",
   "execution_count": 83,
   "metadata": {},
   "outputs": [
    {
     "data": {
      "text/html": [
       "<div>\n",
       "<style scoped>\n",
       "    .dataframe tbody tr th:only-of-type {\n",
       "        vertical-align: middle;\n",
       "    }\n",
       "\n",
       "    .dataframe tbody tr th {\n",
       "        vertical-align: top;\n",
       "    }\n",
       "\n",
       "    .dataframe thead tr th {\n",
       "        text-align: left;\n",
       "    }\n",
       "\n",
       "    .dataframe thead tr:last-of-type th {\n",
       "        text-align: right;\n",
       "    }\n",
       "</style>\n",
       "<table border=\"1\" class=\"dataframe\">\n",
       "  <thead>\n",
       "    <tr>\n",
       "      <th></th>\n",
       "      <th colspan=\"2\" halign=\"left\">충전시간</th>\n",
       "      <th colspan=\"2\" halign=\"left\">충전량</th>\n",
       "    </tr>\n",
       "    <tr>\n",
       "      <th></th>\n",
       "      <th>sum</th>\n",
       "      <th>mean</th>\n",
       "      <th>sum</th>\n",
       "      <th>mean</th>\n",
       "    </tr>\n",
       "    <tr>\n",
       "      <th>충전기ID</th>\n",
       "      <th></th>\n",
       "      <th></th>\n",
       "      <th></th>\n",
       "      <th></th>\n",
       "    </tr>\n",
       "  </thead>\n",
       "  <tbody>\n",
       "    <tr>\n",
       "      <th>1</th>\n",
       "      <td>106 days 01:21:20</td>\n",
       "      <td>0 days 00:27:53.047288661</td>\n",
       "      <td>95304.53000</td>\n",
       "      <td>17.40086</td>\n",
       "    </tr>\n",
       "    <tr>\n",
       "      <th>2</th>\n",
       "      <td>66 days 13:39:36</td>\n",
       "      <td>0 days 00:26:23.583700440</td>\n",
       "      <td>62449.30000</td>\n",
       "      <td>17.19419</td>\n",
       "    </tr>\n",
       "    <tr>\n",
       "      <th>3</th>\n",
       "      <td>89 days 05:15:44</td>\n",
       "      <td>0 days 00:26:49.299373695</td>\n",
       "      <td>83053.01000</td>\n",
       "      <td>17.33883</td>\n",
       "    </tr>\n",
       "  </tbody>\n",
       "</table>\n",
       "</div>"
      ],
      "text/plain": [
       "                   충전시간                                   충전량         \n",
       "                    sum                      mean         sum     mean\n",
       "충전기ID                                                                 \n",
       "1     106 days 01:21:20 0 days 00:27:53.047288661 95304.53000 17.40086\n",
       "2      66 days 13:39:36 0 days 00:26:23.583700440 62449.30000 17.19419\n",
       "3      89 days 05:15:44 0 days 00:26:49.299373695 83053.01000 17.33883"
      ]
     },
     "execution_count": 83,
     "metadata": {},
     "output_type": "execute_result"
    }
   ],
   "source": [
    "new_adr_df[(new_adr_df['시군구'] == '강릉시') & (new_adr_df['주소'] == '강원도 강릉시 성산면 영동고속도로 231 (보광리)')].groupby(['충전기ID'])[['충전시간', '충전량']].agg(['sum', 'mean'])"
   ]
  },
  {
   "cell_type": "code",
   "execution_count": 84,
   "metadata": {},
   "outputs": [
    {
     "data": {
      "text/html": [
       "<div>\n",
       "<style scoped>\n",
       "    .dataframe tbody tr th:only-of-type {\n",
       "        vertical-align: middle;\n",
       "    }\n",
       "\n",
       "    .dataframe tbody tr th {\n",
       "        vertical-align: top;\n",
       "    }\n",
       "\n",
       "    .dataframe thead th {\n",
       "        text-align: right;\n",
       "    }\n",
       "</style>\n",
       "<table border=\"1\" class=\"dataframe\">\n",
       "  <thead>\n",
       "    <tr style=\"text-align: right;\">\n",
       "      <th></th>\n",
       "      <th>충전시간</th>\n",
       "      <th>충전량</th>\n",
       "    </tr>\n",
       "  </thead>\n",
       "  <tbody>\n",
       "    <tr>\n",
       "      <th>sum</th>\n",
       "      <td>261 days 20:16:40</td>\n",
       "      <td>240806.84000</td>\n",
       "    </tr>\n",
       "    <tr>\n",
       "      <th>mean</th>\n",
       "      <td>0 days 00:27:07.699834520</td>\n",
       "      <td>17.32548</td>\n",
       "    </tr>\n",
       "  </tbody>\n",
       "</table>\n",
       "</div>"
      ],
      "text/plain": [
       "                          충전시간          충전량\n",
       "sum          261 days 20:16:40 240806.84000\n",
       "mean 0 days 00:27:07.699834520     17.32548"
      ]
     },
     "execution_count": 84,
     "metadata": {},
     "output_type": "execute_result"
    }
   ],
   "source": [
    "new_adr_df[(new_adr_df['시군구'] == '강릉시') & (new_adr_df['주소'] == '강원도 강릉시 성산면 영동고속도로 231 (보광리)')][['충전시간', '충전량']].agg(['sum', 'mean'])"
   ]
  },
  {
   "cell_type": "markdown",
   "metadata": {},
   "source": [
    "#### 지역, 시군구, 충전기ID 별 통계"
   ]
  },
  {
   "cell_type": "code",
   "execution_count": 21,
   "metadata": {},
   "outputs": [],
   "source": [
    "# statis = temp.groupby(['지역', '시군구', '충전기ID'])[['충전시간', '충전량']].agg(['sum', 'mean'])\n",
    "# statis"
   ]
  },
  {
   "cell_type": "code",
   "execution_count": 22,
   "metadata": {},
   "outputs": [],
   "source": [
    "# statis.to_excel('분석/2020-22년_신주소_지역_시군구_충전기ID_충전시간_충전량_통계.xlsx', encoding='utf-8')"
   ]
  },
  {
   "cell_type": "markdown",
   "metadata": {},
   "source": [
    "### 특정 지역/기간별 충전량"
   ]
  },
  {
   "cell_type": "code",
   "execution_count": 85,
   "metadata": {},
   "outputs": [
    {
     "data": {
      "text/plain": [
       "Index(['충전소명', '충전기ID', '지역', '시군구', '주소', '충전기타입', '충전시작일시', '충전종료일시', '충전시간',\n",
       "       '충전량', '충전용량', '충전시작_년도', '충전시작_월', '충전시작_일', '충전시작_시', '충전시작_분',\n",
       "       '충전시작_초', '충전시작일시(변환)', '충전종료_년도', '충전종료_월', '충전종료_일', '충전종료_시',\n",
       "       '충전종료_분', '충전종료_초', '충전종료일시(변환)', '충전시간(계산)', 'ad1', 'ad2', 'ad3',\n",
       "       'ad4', 'ad5', '주소분류'],\n",
       "      dtype='object')"
      ]
     },
     "execution_count": 85,
     "metadata": {},
     "output_type": "execute_result"
    }
   ],
   "source": [
    "new_adr_df.columns"
   ]
  },
  {
   "cell_type": "code",
   "execution_count": 86,
   "metadata": {},
   "outputs": [
    {
     "name": "stdout",
     "output_type": "stream",
     "text": [
      "<class 'pandas.core.frame.DataFrame'>\n",
      "RangeIndex: 7893081 entries, 0 to 7893080\n",
      "Data columns (total 5 columns):\n",
      " #   Column   Dtype  \n",
      "---  ------   -----  \n",
      " 0   지역       object \n",
      " 1   시군구      object \n",
      " 2   충전시작_년도  int16  \n",
      " 3   충전시작_월   int8   \n",
      " 4   충전량      float64\n",
      "dtypes: float64(1), int16(1), int8(1), object(2)\n",
      "memory usage: 203.2+ MB\n"
     ]
    }
   ],
   "source": [
    "temp = new_adr_df[['지역', '시군구', '충전시작_년도', '충전시작_월', '충전량']]\n",
    "temp.info()"
   ]
  },
  {
   "cell_type": "code",
   "execution_count": 87,
   "metadata": {},
   "outputs": [
    {
     "data": {
      "text/html": [
       "<div>\n",
       "<style scoped>\n",
       "    .dataframe tbody tr th:only-of-type {\n",
       "        vertical-align: middle;\n",
       "    }\n",
       "\n",
       "    .dataframe tbody tr th {\n",
       "        vertical-align: top;\n",
       "    }\n",
       "\n",
       "    .dataframe thead tr th {\n",
       "        text-align: left;\n",
       "    }\n",
       "\n",
       "    .dataframe thead tr:last-of-type th {\n",
       "        text-align: right;\n",
       "    }\n",
       "</style>\n",
       "<table border=\"1\" class=\"dataframe\">\n",
       "  <thead>\n",
       "    <tr>\n",
       "      <th></th>\n",
       "      <th></th>\n",
       "      <th></th>\n",
       "      <th></th>\n",
       "      <th colspan=\"2\" halign=\"left\">충전량</th>\n",
       "    </tr>\n",
       "    <tr>\n",
       "      <th></th>\n",
       "      <th></th>\n",
       "      <th></th>\n",
       "      <th></th>\n",
       "      <th>sum</th>\n",
       "      <th>mean</th>\n",
       "    </tr>\n",
       "    <tr>\n",
       "      <th>지역</th>\n",
       "      <th>시군구</th>\n",
       "      <th>충전시작_년도</th>\n",
       "      <th>충전시작_월</th>\n",
       "      <th></th>\n",
       "      <th></th>\n",
       "    </tr>\n",
       "  </thead>\n",
       "  <tbody>\n",
       "    <tr>\n",
       "      <th rowspan=\"5\" valign=\"top\">강원도</th>\n",
       "      <th rowspan=\"5\" valign=\"top\">강릉시</th>\n",
       "      <th rowspan=\"5\" valign=\"top\">2020</th>\n",
       "      <th>1</th>\n",
       "      <td>24097.21000</td>\n",
       "      <td>15.61712</td>\n",
       "    </tr>\n",
       "    <tr>\n",
       "      <th>2</th>\n",
       "      <td>19731.80000</td>\n",
       "      <td>15.63534</td>\n",
       "    </tr>\n",
       "    <tr>\n",
       "      <th>3</th>\n",
       "      <td>19599.25000</td>\n",
       "      <td>16.17100</td>\n",
       "    </tr>\n",
       "    <tr>\n",
       "      <th>4</th>\n",
       "      <td>20738.49000</td>\n",
       "      <td>17.02667</td>\n",
       "    </tr>\n",
       "    <tr>\n",
       "      <th>5</th>\n",
       "      <td>23248.08000</td>\n",
       "      <td>16.48800</td>\n",
       "    </tr>\n",
       "    <tr>\n",
       "      <th>...</th>\n",
       "      <th>...</th>\n",
       "      <th>...</th>\n",
       "      <th>...</th>\n",
       "      <td>...</td>\n",
       "      <td>...</td>\n",
       "    </tr>\n",
       "    <tr>\n",
       "      <th rowspan=\"5\" valign=\"top\">충청북도</th>\n",
       "      <th rowspan=\"5\" valign=\"top\">충주시</th>\n",
       "      <th rowspan=\"5\" valign=\"top\">2022</th>\n",
       "      <th>4</th>\n",
       "      <td>108623.48000</td>\n",
       "      <td>19.98592</td>\n",
       "    </tr>\n",
       "    <tr>\n",
       "      <th>5</th>\n",
       "      <td>115388.01000</td>\n",
       "      <td>19.89105</td>\n",
       "    </tr>\n",
       "    <tr>\n",
       "      <th>6</th>\n",
       "      <td>106327.68000</td>\n",
       "      <td>20.13019</td>\n",
       "    </tr>\n",
       "    <tr>\n",
       "      <th>7</th>\n",
       "      <td>139095.34000</td>\n",
       "      <td>21.49518</td>\n",
       "    </tr>\n",
       "    <tr>\n",
       "      <th>8</th>\n",
       "      <td>199168.47000</td>\n",
       "      <td>23.55908</td>\n",
       "    </tr>\n",
       "  </tbody>\n",
       "</table>\n",
       "<p>7530 rows × 2 columns</p>\n",
       "</div>"
      ],
      "text/plain": [
       "                                 충전량         \n",
       "                                 sum     mean\n",
       "지역   시군구 충전시작_년도 충전시작_월                      \n",
       "강원도  강릉시 2020    1       24097.21000 15.61712\n",
       "                 2       19731.80000 15.63534\n",
       "                 3       19599.25000 16.17100\n",
       "                 4       20738.49000 17.02667\n",
       "                 5       23248.08000 16.48800\n",
       "...                              ...      ...\n",
       "충청북도 충주시 2022    4      108623.48000 19.98592\n",
       "                 5      115388.01000 19.89105\n",
       "                 6      106327.68000 20.13019\n",
       "                 7      139095.34000 21.49518\n",
       "                 8      199168.47000 23.55908\n",
       "\n",
       "[7530 rows x 2 columns]"
      ]
     },
     "execution_count": 87,
     "metadata": {},
     "output_type": "execute_result"
    }
   ],
   "source": [
    "statis = temp.groupby(['지역', '시군구', '충전시작_년도', '충전시작_월'])[['충전량']].agg(['sum', 'mean'])\n",
    "statis"
   ]
  },
  {
   "cell_type": "code",
   "execution_count": 88,
   "metadata": {},
   "outputs": [],
   "source": [
    "statis.to_excel('분석/2020-22년_신주소_지역_시군구_년도_월_충전량_통계.xlsx', encoding='utf-8')"
   ]
  },
  {
   "cell_type": "markdown",
   "metadata": {},
   "source": [
    "### 연도/분기/시간대별 충전기 대수\n",
    "- 예시) 2020년/1분기(1-3월)/00-01시 충전기 대수"
   ]
  },
  {
   "cell_type": "code",
   "execution_count": 9,
   "metadata": {},
   "outputs": [
    {
     "name": "stdout",
     "output_type": "stream",
     "text": [
      "<class 'pandas.core.frame.DataFrame'>\n",
      "RangeIndex: 11613449 entries, 0 to 11613448\n",
      "Data columns (total 40 columns):\n",
      " #   Column        Dtype          \n",
      "---  ------        -----          \n",
      " 0   충전소명          object         \n",
      " 1   충전기ID         int8           \n",
      " 2   지역            object         \n",
      " 3   시군구           object         \n",
      " 4   주소            object         \n",
      " 5   충전기타입         object         \n",
      " 6   충전시작일시        int64          \n",
      " 7   충전종료일시        int64          \n",
      " 8   충전시간          timedelta64[ns]\n",
      " 9   충전량           float64        \n",
      " 10  충전용량          object         \n",
      " 11  충전시작_년도       int16          \n",
      " 12  충전시작_월        int8           \n",
      " 13  충전시작_일        int8           \n",
      " 14  충전시작_시        int8           \n",
      " 15  충전시작_분        int8           \n",
      " 16  충전시작_초        int8           \n",
      " 17  충전시작일시(변환)    object         \n",
      " 18  충전종료_년도       int16          \n",
      " 19  충전종료_월        int8           \n",
      " 20  충전종료_일        int8           \n",
      " 21  충전종료_시        int8           \n",
      " 22  충전종료_분        int8           \n",
      " 23  충전종료_초        int8           \n",
      " 24  충전종료일시(변환)    object         \n",
      " 25  충전시간(계산)      timedelta64[ns]\n",
      " 26  raw값과_계산값_차이  object         \n",
      " 27  0             object         \n",
      " 28  1             object         \n",
      " 29  2             object         \n",
      " 30  3             object         \n",
      " 31  4             object         \n",
      " 32  5             object         \n",
      " 33  6             object         \n",
      " 34  7             object         \n",
      " 35  8             object         \n",
      " 36  9             object         \n",
      " 37  10            object         \n",
      " 38  11            object         \n",
      " 39  12            object         \n",
      "dtypes: float64(1), int16(2), int64(2), int8(11), object(22), timedelta64[ns](2)\n",
      "memory usage: 2.5+ GB\n"
     ]
    }
   ],
   "source": [
    "df2.info()"
   ]
  },
  {
   "cell_type": "code",
   "execution_count": 10,
   "metadata": {},
   "outputs": [
    {
     "data": {
      "text/html": [
       "<div>\n",
       "<style scoped>\n",
       "    .dataframe tbody tr th:only-of-type {\n",
       "        vertical-align: middle;\n",
       "    }\n",
       "\n",
       "    .dataframe tbody tr th {\n",
       "        vertical-align: top;\n",
       "    }\n",
       "\n",
       "    .dataframe thead th {\n",
       "        text-align: right;\n",
       "    }\n",
       "</style>\n",
       "<table border=\"1\" class=\"dataframe\">\n",
       "  <thead>\n",
       "    <tr style=\"text-align: right;\">\n",
       "      <th></th>\n",
       "      <th>충전소명</th>\n",
       "      <th>충전기ID</th>\n",
       "      <th>지역</th>\n",
       "      <th>시군구</th>\n",
       "      <th>주소</th>\n",
       "      <th>충전기타입</th>\n",
       "      <th>충전시작일시</th>\n",
       "    </tr>\n",
       "  </thead>\n",
       "  <tbody>\n",
       "    <tr>\n",
       "      <th>7765000</th>\n",
       "      <td>내린천휴게소 양양방향</td>\n",
       "      <td>1</td>\n",
       "      <td>강원도</td>\n",
       "      <td>인제군</td>\n",
       "      <td>강원도 인제군 상남면 하남리 339-7(양양방향)</td>\n",
       "      <td>DC차데모+AC3상+DC콤보</td>\n",
       "      <td>20200105005728</td>\n",
       "    </tr>\n",
       "    <tr>\n",
       "      <th>7883070</th>\n",
       "      <td>내린천휴게소 양양방향</td>\n",
       "      <td>1</td>\n",
       "      <td>강원도</td>\n",
       "      <td>인제군</td>\n",
       "      <td>강원도 인제군 상남면 하남리 339-7(양양방향)</td>\n",
       "      <td>DC차데모+AC3상+DC콤보</td>\n",
       "      <td>20200305000732</td>\n",
       "    </tr>\n",
       "  </tbody>\n",
       "</table>\n",
       "</div>"
      ],
      "text/plain": [
       "                충전소명  충전기ID   지역  시군구                           주소  \\\n",
       "7765000  내린천휴게소 양양방향      1  강원도  인제군  강원도 인제군 상남면 하남리 339-7(양양방향)   \n",
       "7883070  내린천휴게소 양양방향      1  강원도  인제군  강원도 인제군 상남면 하남리 339-7(양양방향)   \n",
       "\n",
       "                   충전기타입          충전시작일시  \n",
       "7765000  DC차데모+AC3상+DC콤보  20200105005728  \n",
       "7883070  DC차데모+AC3상+DC콤보  20200305000732  "
      ]
     },
     "execution_count": 10,
     "metadata": {},
     "output_type": "execute_result"
    }
   ],
   "source": [
    "df2[(df2['충전시작_년도'] == 2020) & \n",
    "    (df2['충전시작_월'] >= 1) & (df2['충전시작_월'] <= 3) & (df2['충전시작_일'] == 5) &\n",
    "    (df2['충전시작_시'] >= 0) & (df2['충전시작_시'] < 1) & (df2['충전소명'] == '내린천휴게소 양양방향')].iloc[:10, :7]"
   ]
  },
  {
   "cell_type": "code",
   "execution_count": 11,
   "metadata": {},
   "outputs": [
    {
     "data": {
      "text/plain": [
       "array([1], dtype=int8)"
      ]
     },
     "execution_count": 11,
     "metadata": {},
     "output_type": "execute_result"
    }
   ],
   "source": [
    "df2[(df2['충전시작_년도'] == 2020) & \n",
    "    (df2['충전시작_월'] >= 1) & (df2['충전시작_월'] <= 3) & (df2['충전시작_일'] == 5) &\n",
    "    (df2['충전시작_시'] >= 0) & (df2['충전시작_시'] < 1) & (df2['충전소명'] == '내린천휴게소 양양방향')]['충전기ID'].unique()"
   ]
  },
  {
   "cell_type": "code",
   "execution_count": 12,
   "metadata": {},
   "outputs": [],
   "source": [
    "# 시간 오래걸림\n",
    "    # 53분동안 2020년도 처리 안됨\n",
    "# num_charger_by_hours = pd.DataFrame(columns=['년도', '월', '일', '시간', '충전기대수'])\n",
    "# for y in tqdm(range(2020, 2023)):\n",
    "#     temp_y = df2[df2['충전시작_년도'] == y].reset_index(drop=True)\n",
    "#     for m in range(1, 11, 3):\n",
    "#         temp_m = temp_y[(temp_y['충전시작_월'] >= m) & (temp_y['충전시작_월'] <= m+2)].reset_index(drop=True)\n",
    "#         for d in temp_m['충전시작_일'].unique():\n",
    "#             temp_d = temp_m[temp_m['충전시작_일'] == d].reset_index(drop=True)\n",
    "#             for h in range(24):\n",
    "#                 temp_h = temp_m[(temp_m['충전시작_시'] >= h) & (temp_m['충전시작_시'] < h+1)].reset_index(drop=True)\n",
    "#                 count = 0\n",
    "#                 for one in temp_h['충전소명'].unique():\n",
    "#                     num_charger = len(temp_h[temp_h['충전소명'] == one]['충전기ID'].unique())\n",
    "#                     count += num_charger\n",
    "#                 num_charger_by_hours.loc[len(num_charger_by_hours)] = [y, m, d, h, count]"
   ]
  },
  {
   "cell_type": "code",
   "execution_count": 32,
   "metadata": {},
   "outputs": [
    {
     "name": "stdout",
     "output_type": "stream",
     "text": [
      "<class 'pandas.core.frame.DataFrame'>\n",
      "RangeIndex: 10192033 entries, 0 to 10192032\n",
      "Data columns (total 40 columns):\n",
      " #   Column        Dtype          \n",
      "---  ------        -----          \n",
      " 0   충전소명          object         \n",
      " 1   충전기ID         int8           \n",
      " 2   지역            object         \n",
      " 3   시군구           object         \n",
      " 4   주소            object         \n",
      " 5   충전기타입         object         \n",
      " 6   충전시작일시        int64          \n",
      " 7   충전종료일시        int64          \n",
      " 8   충전시간          timedelta64[ns]\n",
      " 9   충전량           float64        \n",
      " 10  충전용량          object         \n",
      " 11  충전시작_년도       int16          \n",
      " 12  충전시작_월        int8           \n",
      " 13  충전시작_일        int8           \n",
      " 14  충전시작_시        int8           \n",
      " 15  충전시작_분        int8           \n",
      " 16  충전시작_초        int8           \n",
      " 17  충전시작일시(변환)    object         \n",
      " 18  충전종료_년도       int16          \n",
      " 19  충전종료_월        int8           \n",
      " 20  충전종료_일        int8           \n",
      " 21  충전종료_시        int8           \n",
      " 22  충전종료_분        int8           \n",
      " 23  충전종료_초        int8           \n",
      " 24  충전종료일시(변환)    object         \n",
      " 25  충전시간(계산)      timedelta64[ns]\n",
      " 26  raw값과_계산값_차이  object         \n",
      " 27  0             object         \n",
      " 28  1             object         \n",
      " 29  2             object         \n",
      " 30  3             object         \n",
      " 31  4             object         \n",
      " 32  5             object         \n",
      " 33  6             object         \n",
      " 34  7             object         \n",
      " 35  8             object         \n",
      " 36  9             object         \n",
      " 37  10            object         \n",
      " 38  11            object         \n",
      " 39  12            object         \n",
      "dtypes: float64(1), int16(2), int64(2), int8(11), object(22), timedelta64[ns](2)\n",
      "memory usage: 2.2+ GB\n"
     ]
    }
   ],
   "source": [
    "ymdh_col = ['충전시작_년도', '충전시작_월', '충전시작_일', '충전시작_시', '충전소명', '충전기ID']\n",
    "ymdh = df2.drop_duplicates(ymdh_col, keep='first').reset_index(drop=True)\n",
    "ymdh.info()"
   ]
  },
  {
   "cell_type": "markdown",
   "metadata": {},
   "source": [
    "#### 분기 컬럼 생성"
   ]
  },
  {
   "cell_type": "code",
   "execution_count": 33,
   "metadata": {},
   "outputs": [
    {
     "name": "stderr",
     "output_type": "stream",
     "text": [
      "100%|██████████| 10192033/10192033 [00:04<00:00, 2060263.56it/s]\n"
     ]
    },
    {
     "data": {
      "text/plain": [
       "True"
      ]
     },
     "execution_count": 33,
     "metadata": {},
     "output_type": "execute_result"
    }
   ],
   "source": [
    "div_month = []\n",
    "for i in tqdm(ymdh['충전시작_월'].to_list()):\n",
    "    if (i >= 1) and (i <= 3):\n",
    "        div_month.append(1)\n",
    "    elif (i >= 4) and (i <= 6):\n",
    "        div_month.append(2)\n",
    "    elif (i >= 7) and (i <= 9):\n",
    "        div_month.append(3)\n",
    "    else:\n",
    "        div_month.append(4)\n",
    "len(div_month) == 10192033"
   ]
  },
  {
   "cell_type": "code",
   "execution_count": 34,
   "metadata": {},
   "outputs": [
    {
     "data": {
      "text/html": [
       "<div>\n",
       "<style scoped>\n",
       "    .dataframe tbody tr th:only-of-type {\n",
       "        vertical-align: middle;\n",
       "    }\n",
       "\n",
       "    .dataframe tbody tr th {\n",
       "        vertical-align: top;\n",
       "    }\n",
       "\n",
       "    .dataframe thead th {\n",
       "        text-align: right;\n",
       "    }\n",
       "</style>\n",
       "<table border=\"1\" class=\"dataframe\">\n",
       "  <thead>\n",
       "    <tr style=\"text-align: right;\">\n",
       "      <th></th>\n",
       "      <th>충전시작일시</th>\n",
       "      <th>충전종료일시</th>\n",
       "      <th>충전시간</th>\n",
       "      <th>충전량</th>\n",
       "      <th>충전용량</th>\n",
       "      <th>충전시작_년도</th>\n",
       "      <th>충전시작_월</th>\n",
       "      <th>충전시작_일</th>\n",
       "      <th>충전시작_시</th>\n",
       "      <th>충전시작_분</th>\n",
       "      <th>...</th>\n",
       "      <th>4</th>\n",
       "      <th>5</th>\n",
       "      <th>6</th>\n",
       "      <th>7</th>\n",
       "      <th>8</th>\n",
       "      <th>9</th>\n",
       "      <th>10</th>\n",
       "      <th>11</th>\n",
       "      <th>12</th>\n",
       "      <th>충전시작_분기</th>\n",
       "    </tr>\n",
       "  </thead>\n",
       "  <tbody>\n",
       "    <tr>\n",
       "      <th>0</th>\n",
       "      <td>20200101000244</td>\n",
       "      <td>20200101004215</td>\n",
       "      <td>0 days 00:39:25</td>\n",
       "      <td>20.22000</td>\n",
       "      <td>50.00000</td>\n",
       "      <td>2020</td>\n",
       "      <td>1</td>\n",
       "      <td>1</td>\n",
       "      <td>0</td>\n",
       "      <td>2</td>\n",
       "      <td>...</td>\n",
       "      <td>94-4</td>\n",
       "      <td>주유소</td>\n",
       "      <td>옆</td>\n",
       "      <td>주차장</td>\n",
       "      <td>NaN</td>\n",
       "      <td>NaN</td>\n",
       "      <td>NaN</td>\n",
       "      <td>NaN</td>\n",
       "      <td>NaN</td>\n",
       "      <td>1</td>\n",
       "    </tr>\n",
       "    <tr>\n",
       "      <th>1</th>\n",
       "      <td>20200101000745</td>\n",
       "      <td>20200101003703</td>\n",
       "      <td>0 days 00:29:13</td>\n",
       "      <td>16.04000</td>\n",
       "      <td>50.00000</td>\n",
       "      <td>2020</td>\n",
       "      <td>1</td>\n",
       "      <td>1</td>\n",
       "      <td>0</td>\n",
       "      <td>7</td>\n",
       "      <td>...</td>\n",
       "      <td>민속자연사박물관</td>\n",
       "      <td>NaN</td>\n",
       "      <td>NaN</td>\n",
       "      <td>NaN</td>\n",
       "      <td>NaN</td>\n",
       "      <td>NaN</td>\n",
       "      <td>NaN</td>\n",
       "      <td>NaN</td>\n",
       "      <td>NaN</td>\n",
       "      <td>1</td>\n",
       "    </tr>\n",
       "    <tr>\n",
       "      <th>2</th>\n",
       "      <td>20200101000748</td>\n",
       "      <td>20200101001659</td>\n",
       "      <td>0 days 00:09:07</td>\n",
       "      <td>5.80000</td>\n",
       "      <td>50.00000</td>\n",
       "      <td>2020</td>\n",
       "      <td>1</td>\n",
       "      <td>1</td>\n",
       "      <td>0</td>\n",
       "      <td>7</td>\n",
       "      <td>...</td>\n",
       "      <td>주차장</td>\n",
       "      <td>NaN</td>\n",
       "      <td>NaN</td>\n",
       "      <td>NaN</td>\n",
       "      <td>NaN</td>\n",
       "      <td>NaN</td>\n",
       "      <td>NaN</td>\n",
       "      <td>NaN</td>\n",
       "      <td>NaN</td>\n",
       "      <td>1</td>\n",
       "    </tr>\n",
       "  </tbody>\n",
       "</table>\n",
       "<p>3 rows × 35 columns</p>\n",
       "</div>"
      ],
      "text/plain": [
       "           충전시작일시          충전종료일시            충전시간      충전량     충전용량  충전시작_년도  \\\n",
       "0  20200101000244  20200101004215 0 days 00:39:25 20.22000 50.00000     2020   \n",
       "1  20200101000745  20200101003703 0 days 00:29:13 16.04000 50.00000     2020   \n",
       "2  20200101000748  20200101001659 0 days 00:09:07  5.80000 50.00000     2020   \n",
       "\n",
       "   충전시작_월  충전시작_일  충전시작_시  충전시작_분  ...         4    5    6    7    8    9  \\\n",
       "0       1       1       0       2  ...      94-4  주유소    옆  주차장  NaN  NaN   \n",
       "1       1       1       0       7  ...  민속자연사박물관  NaN  NaN  NaN  NaN  NaN   \n",
       "2       1       1       0       7  ...       주차장  NaN  NaN  NaN  NaN  NaN   \n",
       "\n",
       "    10   11   12 충전시작_분기  \n",
       "0  NaN  NaN  NaN       1  \n",
       "1  NaN  NaN  NaN       1  \n",
       "2  NaN  NaN  NaN       1  \n",
       "\n",
       "[3 rows x 35 columns]"
      ]
     },
     "execution_count": 34,
     "metadata": {},
     "output_type": "execute_result"
    }
   ],
   "source": [
    "ymdh['충전시작_분기'] = div_month\n",
    "ymdh.iloc[:3, 6:]"
   ]
  },
  {
   "cell_type": "code",
   "execution_count": 35,
   "metadata": {},
   "outputs": [
    {
     "data": {
      "text/html": [
       "<div>\n",
       "<style scoped>\n",
       "    .dataframe tbody tr th:only-of-type {\n",
       "        vertical-align: middle;\n",
       "    }\n",
       "\n",
       "    .dataframe tbody tr th {\n",
       "        vertical-align: top;\n",
       "    }\n",
       "\n",
       "    .dataframe thead th {\n",
       "        text-align: right;\n",
       "    }\n",
       "</style>\n",
       "<table border=\"1\" class=\"dataframe\">\n",
       "  <thead>\n",
       "    <tr style=\"text-align: right;\">\n",
       "      <th></th>\n",
       "      <th>충전시작일시</th>\n",
       "      <th>충전종료일시</th>\n",
       "      <th>충전시간</th>\n",
       "      <th>충전량</th>\n",
       "      <th>충전용량</th>\n",
       "      <th>충전시작_년도</th>\n",
       "      <th>충전시작_월</th>\n",
       "      <th>충전시작_일</th>\n",
       "      <th>충전시작_시</th>\n",
       "      <th>충전시작_분</th>\n",
       "      <th>...</th>\n",
       "      <th>4</th>\n",
       "      <th>5</th>\n",
       "      <th>6</th>\n",
       "      <th>7</th>\n",
       "      <th>8</th>\n",
       "      <th>9</th>\n",
       "      <th>10</th>\n",
       "      <th>11</th>\n",
       "      <th>12</th>\n",
       "      <th>충전시작_분기</th>\n",
       "    </tr>\n",
       "  </thead>\n",
       "  <tbody>\n",
       "    <tr>\n",
       "      <th>10192028</th>\n",
       "      <td>20220831235823</td>\n",
       "      <td>20220901001839</td>\n",
       "      <td>0 days 00:20:01</td>\n",
       "      <td>19.22000</td>\n",
       "      <td>급속(200kW동시)</td>\n",
       "      <td>2022</td>\n",
       "      <td>8</td>\n",
       "      <td>31</td>\n",
       "      <td>23</td>\n",
       "      <td>58</td>\n",
       "      <td>...</td>\n",
       "      <td>1271-11</td>\n",
       "      <td>NaN</td>\n",
       "      <td>NaN</td>\n",
       "      <td>NaN</td>\n",
       "      <td>NaN</td>\n",
       "      <td>NaN</td>\n",
       "      <td>NaN</td>\n",
       "      <td>NaN</td>\n",
       "      <td>NaN</td>\n",
       "      <td>3</td>\n",
       "    </tr>\n",
       "    <tr>\n",
       "      <th>10192029</th>\n",
       "      <td>20220831235909</td>\n",
       "      <td>20220901000721</td>\n",
       "      <td>0 days 00:04:53</td>\n",
       "      <td>3.35000</td>\n",
       "      <td>급속(50kW)</td>\n",
       "      <td>2022</td>\n",
       "      <td>8</td>\n",
       "      <td>31</td>\n",
       "      <td>23</td>\n",
       "      <td>59</td>\n",
       "      <td>...</td>\n",
       "      <td>NaN</td>\n",
       "      <td>NaN</td>\n",
       "      <td>NaN</td>\n",
       "      <td>NaN</td>\n",
       "      <td>NaN</td>\n",
       "      <td>NaN</td>\n",
       "      <td>NaN</td>\n",
       "      <td>NaN</td>\n",
       "      <td>NaN</td>\n",
       "      <td>3</td>\n",
       "    </tr>\n",
       "    <tr>\n",
       "      <th>10192030</th>\n",
       "      <td>20220831235914</td>\n",
       "      <td>20220901002120</td>\n",
       "      <td>0 days 00:22:06</td>\n",
       "      <td>30.14000</td>\n",
       "      <td>급속(100kW멀티)</td>\n",
       "      <td>2022</td>\n",
       "      <td>8</td>\n",
       "      <td>31</td>\n",
       "      <td>23</td>\n",
       "      <td>59</td>\n",
       "      <td>...</td>\n",
       "      <td>NaN</td>\n",
       "      <td>NaN</td>\n",
       "      <td>NaN</td>\n",
       "      <td>NaN</td>\n",
       "      <td>NaN</td>\n",
       "      <td>NaN</td>\n",
       "      <td>NaN</td>\n",
       "      <td>NaN</td>\n",
       "      <td>NaN</td>\n",
       "      <td>3</td>\n",
       "    </tr>\n",
       "    <tr>\n",
       "      <th>10192031</th>\n",
       "      <td>20220831235931</td>\n",
       "      <td>20220901004251</td>\n",
       "      <td>0 days 00:40:00</td>\n",
       "      <td>21.97000</td>\n",
       "      <td>급속(50kW)</td>\n",
       "      <td>2022</td>\n",
       "      <td>8</td>\n",
       "      <td>31</td>\n",
       "      <td>23</td>\n",
       "      <td>59</td>\n",
       "      <td>...</td>\n",
       "      <td>검단4동</td>\n",
       "      <td>주민센터</td>\n",
       "      <td>옆</td>\n",
       "      <td>NaN</td>\n",
       "      <td>NaN</td>\n",
       "      <td>NaN</td>\n",
       "      <td>NaN</td>\n",
       "      <td>NaN</td>\n",
       "      <td>NaN</td>\n",
       "      <td>3</td>\n",
       "    </tr>\n",
       "    <tr>\n",
       "      <th>10192032</th>\n",
       "      <td>20220831235934</td>\n",
       "      <td>20220901004057</td>\n",
       "      <td>0 days 00:40:00</td>\n",
       "      <td>27.60000</td>\n",
       "      <td>급속(50kW)</td>\n",
       "      <td>2022</td>\n",
       "      <td>8</td>\n",
       "      <td>31</td>\n",
       "      <td>23</td>\n",
       "      <td>59</td>\n",
       "      <td>...</td>\n",
       "      <td>NaN</td>\n",
       "      <td>NaN</td>\n",
       "      <td>NaN</td>\n",
       "      <td>NaN</td>\n",
       "      <td>NaN</td>\n",
       "      <td>NaN</td>\n",
       "      <td>NaN</td>\n",
       "      <td>NaN</td>\n",
       "      <td>NaN</td>\n",
       "      <td>3</td>\n",
       "    </tr>\n",
       "  </tbody>\n",
       "</table>\n",
       "<p>5 rows × 35 columns</p>\n",
       "</div>"
      ],
      "text/plain": [
       "                  충전시작일시          충전종료일시            충전시간      충전량  \\\n",
       "10192028  20220831235823  20220901001839 0 days 00:20:01 19.22000   \n",
       "10192029  20220831235909  20220901000721 0 days 00:04:53  3.35000   \n",
       "10192030  20220831235914  20220901002120 0 days 00:22:06 30.14000   \n",
       "10192031  20220831235931  20220901004251 0 days 00:40:00 21.97000   \n",
       "10192032  20220831235934  20220901004057 0 days 00:40:00 27.60000   \n",
       "\n",
       "                 충전용량  충전시작_년도  충전시작_월  충전시작_일  충전시작_시  충전시작_분  ...        4  \\\n",
       "10192028  급속(200kW동시)     2022       8      31      23      58  ...  1271-11   \n",
       "10192029     급속(50kW)     2022       8      31      23      59  ...      NaN   \n",
       "10192030  급속(100kW멀티)     2022       8      31      23      59  ...      NaN   \n",
       "10192031     급속(50kW)     2022       8      31      23      59  ...     검단4동   \n",
       "10192032     급속(50kW)     2022       8      31      23      59  ...      NaN   \n",
       "\n",
       "             5    6    7    8    9   10   11   12 충전시작_분기  \n",
       "10192028   NaN  NaN  NaN  NaN  NaN  NaN  NaN  NaN       3  \n",
       "10192029   NaN  NaN  NaN  NaN  NaN  NaN  NaN  NaN       3  \n",
       "10192030   NaN  NaN  NaN  NaN  NaN  NaN  NaN  NaN       3  \n",
       "10192031  주민센터    옆  NaN  NaN  NaN  NaN  NaN  NaN       3  \n",
       "10192032   NaN  NaN  NaN  NaN  NaN  NaN  NaN  NaN       3  \n",
       "\n",
       "[5 rows x 35 columns]"
      ]
     },
     "execution_count": 35,
     "metadata": {},
     "output_type": "execute_result"
    }
   ],
   "source": [
    "ymdh.iloc[-5:, 6:]"
   ]
  },
  {
   "cell_type": "code",
   "execution_count": 36,
   "metadata": {},
   "outputs": [
    {
     "data": {
      "text/plain": [
       "충전시작_년도  충전시작_월  충전시작_일  충전시작_시\n",
       "2020     1       1       0           29\n",
       "                         1           27\n",
       "                         2           29\n",
       "                         3           58\n",
       "                         4           57\n",
       "                                   ... \n",
       "2022     8       31      19        1062\n",
       "                         20         931\n",
       "                         21         731\n",
       "                         22         516\n",
       "                         23         387\n",
       "Name: 충전기_수(대), Length: 23376, dtype: int64"
      ]
     },
     "execution_count": 36,
     "metadata": {},
     "output_type": "execute_result"
    }
   ],
   "source": [
    "group_ymdh = ymdh.groupby(['충전시작_년도', '충전시작_월', '충전시작_일', '충전시작_시'])['충전기ID'].count().rename('충전기_수(대)')\n",
    "group_ymdh"
   ]
  },
  {
   "cell_type": "code",
   "execution_count": 37,
   "metadata": {},
   "outputs": [
    {
     "data": {
      "text/plain": [
       "충전시작_년도  충전시작_분기  충전시작_시\n",
       "2020     1        0          6395\n",
       "                  1          4578\n",
       "                  2          3370\n",
       "                  3          2813\n",
       "                  4          2871\n",
       "                            ...  \n",
       "2022     3        19        63619\n",
       "                  20        52697\n",
       "                  21        42154\n",
       "                  22        30622\n",
       "                  23        21767\n",
       "Name: 충전기_수(대), Length: 264, dtype: int64"
      ]
     },
     "execution_count": 37,
     "metadata": {},
     "output_type": "execute_result"
    }
   ],
   "source": [
    "group_div = ymdh.groupby(['충전시작_년도', '충전시작_분기', '충전시작_시'])['충전기ID'].count().rename('충전기_수(대)')\n",
    "group_div"
   ]
  },
  {
   "cell_type": "code",
   "execution_count": 38,
   "metadata": {},
   "outputs": [
    {
     "data": {
      "text/plain": [
       "충전시작_월  충전시작_시\n",
       "1       0         11834\n",
       "        1          8327\n",
       "        2          6264\n",
       "        3          5245\n",
       "        4          5920\n",
       "                  ...  \n",
       "12      19        38803\n",
       "        20        32514\n",
       "        21        26057\n",
       "        22        19559\n",
       "        23        13514\n",
       "Name: 충전기_수(대), Length: 288, dtype: int64"
      ]
     },
     "execution_count": 38,
     "metadata": {},
     "output_type": "execute_result"
    }
   ],
   "source": [
    "group_m = ymdh.groupby(['충전시작_월', '충전시작_시'])['충전기ID'].count().rename('충전기_수(대)')\n",
    "group_m"
   ]
  },
  {
   "cell_type": "code",
   "execution_count": 39,
   "metadata": {},
   "outputs": [
    {
     "data": {
      "text/plain": [
       "충전시작_시\n",
       "0     130386\n",
       "1      97321\n",
       "2      74491\n",
       "3      64911\n",
       "4      77421\n",
       "5     127063\n",
       "6     214952\n",
       "7     305332\n",
       "8     424905\n",
       "9     512267\n",
       "10    591077\n",
       "11    664360\n",
       "12    738851\n",
       "13    721442\n",
       "14    738600\n",
       "15    759144\n",
       "16    760384\n",
       "17    715055\n",
       "18    641412\n",
       "19    549712\n",
       "20    459797\n",
       "21    367166\n",
       "22    269420\n",
       "23    186564\n",
       "Name: 충전기_수(대), dtype: int64"
      ]
     },
     "execution_count": 39,
     "metadata": {},
     "output_type": "execute_result"
    }
   ],
   "source": [
    "group_h = ymdh.groupby(['충전시작_시'])['충전기ID'].count().rename('충전기_수(대)')\n",
    "group_h"
   ]
  },
  {
   "cell_type": "code",
   "execution_count": 40,
   "metadata": {},
   "outputs": [],
   "source": [
    "ymdh_file = pd.ExcelWriter('분석/2020-22년_년월일시간별_충전시간.xlsx')\n",
    "group_h.to_excel(ymdh_file, sheet_name='시간')\n",
    "group_m.to_excel(ymdh_file, sheet_name='월')\n",
    "group_div.to_excel(ymdh_file, sheet_name='분기')\n",
    "group_ymdh.to_excel(ymdh_file, sheet_name='년월일시간')\n",
    "ymdh_file.save()"
   ]
  },
  {
   "cell_type": "markdown",
   "metadata": {},
   "source": [
    "### 년도/지역별 충전기 수 통계"
   ]
  },
  {
   "cell_type": "code",
   "execution_count": 13,
   "metadata": {},
   "outputs": [
    {
     "name": "stdout",
     "output_type": "stream",
     "text": [
      "<class 'pandas.core.frame.DataFrame'>\n",
      "RangeIndex: 5 entries, 0 to 4\n",
      "Data columns (total 13 columns):\n",
      " #   Column  Non-Null Count  Dtype \n",
      "---  ------  --------------  ----- \n",
      " 0   0       5 non-null      object\n",
      " 1   1       5 non-null      object\n",
      " 2   2       5 non-null      object\n",
      " 3   3       5 non-null      object\n",
      " 4   4       5 non-null      object\n",
      " 5   5       1 non-null      object\n",
      " 6   6       1 non-null      object\n",
      " 7   7       1 non-null      object\n",
      " 8   8       0 non-null      object\n",
      " 9   9       0 non-null      object\n",
      " 10  10      0 non-null      object\n",
      " 11  11      0 non-null      object\n",
      " 12  12      0 non-null      object\n",
      "dtypes: object(13)\n",
      "memory usage: 648.0+ bytes\n"
     ]
    }
   ],
   "source": [
    "df2.iloc[:5, 27:].info()"
   ]
  },
  {
   "cell_type": "code",
   "execution_count": 14,
   "metadata": {},
   "outputs": [
    {
     "data": {
      "text/plain": [
       "array(['경상남도', '제주특별자치도', '경상북도', '강원도', '대전광역시', '충청남도', '충청북도', '부산광역시',\n",
       "       '경기도', '전라남도', '대구광역시', '광주광역시', '서울특별시', '울산광역시', '전라북도', '인천광역시',\n",
       "       '세종특별자치시'], dtype=object)"
      ]
     },
     "execution_count": 14,
     "metadata": {},
     "output_type": "execute_result"
    }
   ],
   "source": [
    "df2['0'].unique()"
   ]
  },
  {
   "cell_type": "code",
   "execution_count": 15,
   "metadata": {},
   "outputs": [
    {
     "data": {
      "text/plain": [
       "(17585, 40)"
      ]
     },
     "execution_count": 15,
     "metadata": {},
     "output_type": "execute_result"
    }
   ],
   "source": [
    "# 3.8s\n",
    "numch_col = ['충전시작_년도', '충전소명', '충전기ID']\n",
    "numch = df2.drop_duplicates(numch_col, keep='first').reset_index(drop=True)\n",
    "numch.shape"
   ]
  },
  {
   "cell_type": "code",
   "execution_count": 16,
   "metadata": {},
   "outputs": [
    {
     "data": {
      "text/plain": [
       "충전시작_년도  0      \n",
       "2020     강원도        428\n",
       "         경기도        552\n",
       "         경상남도       407\n",
       "         경상북도       571\n",
       "         광주광역시       84\n",
       "         대구광역시      147\n",
       "         대전광역시       97\n",
       "         부산광역시       96\n",
       "         서울특별시      258\n",
       "         세종특별자치시     46\n",
       "         울산광역시      133\n",
       "         인천광역시      128\n",
       "         전라남도       419\n",
       "         전라북도       304\n",
       "         제주특별자치도    250\n",
       "         충청남도       382\n",
       "         충청북도       270\n",
       "2021     강원도        542\n",
       "         경기도        763\n",
       "         경상남도       604\n",
       "         경상북도       803\n",
       "         광주광역시      112\n",
       "         대구광역시      176\n",
       "         대전광역시      115\n",
       "         부산광역시       96\n",
       "         서울특별시      300\n",
       "         세종특별자치시     49\n",
       "         울산광역시      158\n",
       "         인천광역시      163\n",
       "         전라남도       608\n",
       "         전라북도       499\n",
       "         제주특별자치도    249\n",
       "         충청남도       501\n",
       "         충청북도       353\n",
       "2022     강원도        596\n",
       "         경기도        880\n",
       "         경상남도       687\n",
       "         경상북도       903\n",
       "         광주광역시      133\n",
       "         대구광역시      187\n",
       "         대전광역시      134\n",
       "         부산광역시      108\n",
       "         서울특별시      316\n",
       "         세종특별자치시     57\n",
       "         울산광역시      173\n",
       "         인천광역시      184\n",
       "         전라남도       680\n",
       "         전라북도       583\n",
       "         제주특별자치도    261\n",
       "         충청남도       601\n",
       "         충청북도       439\n",
       "Name: 충전기 수, dtype: int64"
      ]
     },
     "execution_count": 16,
     "metadata": {},
     "output_type": "execute_result"
    }
   ],
   "source": [
    "numch_group_ad1 = numch.groupby(['충전시작_년도', '0'])['충전기ID'].count().rename('충전기 수')\n",
    "numch_group_ad1"
   ]
  },
  {
   "cell_type": "code",
   "execution_count": 17,
   "metadata": {},
   "outputs": [
    {
     "data": {
      "text/plain": [
       "충전시작_년도  0     1  \n",
       "2020     강원도   강릉시     40\n",
       "               고성군     14\n",
       "               동해시     15\n",
       "               삼척시     43\n",
       "               속초시     16\n",
       "                     ... \n",
       "2022     충청북도  제천시     33\n",
       "               증평군      6\n",
       "               진천군     27\n",
       "               청주시    107\n",
       "               충주시     73\n",
       "Name: 충전기 수, Length: 744, dtype: int64"
      ]
     },
     "execution_count": 17,
     "metadata": {},
     "output_type": "execute_result"
    }
   ],
   "source": [
    "numch_group_ad2 = numch.groupby(['충전시작_년도', '0', '1'])['충전기ID'].count().rename('충전기 수')\n",
    "numch_group_ad2"
   ]
  },
  {
   "cell_type": "code",
   "execution_count": 18,
   "metadata": {},
   "outputs": [
    {
     "data": {
      "text/plain": [
       "충전시작_년도  0     1    2    \n",
       "2020     강원도   강릉시  강동면       4\n",
       "                    강릉대로      1\n",
       "                    구정면       6\n",
       "                    남산초교길     2\n",
       "                    남항진동      2\n",
       "                             ..\n",
       "2022     충청북도  충주시  용탄동       1\n",
       "                    으뜸로       1\n",
       "                    주덕읍       1\n",
       "                    중앙탑면     12\n",
       "                    지현동       1\n",
       "Name: 충전기 수, Length: 6310, dtype: int64"
      ]
     },
     "execution_count": 18,
     "metadata": {},
     "output_type": "execute_result"
    }
   ],
   "source": [
    "numch_group_ad3 = numch.groupby(['충전시작_년도', '0', '1', '2'])['충전기ID'].count().rename('충전기 수')\n",
    "numch_group_ad3"
   ]
  },
  {
   "cell_type": "code",
   "execution_count": 19,
   "metadata": {},
   "outputs": [
    {
     "data": {
      "text/plain": [
       "충전시작_년도  0     1    2     3       \n",
       "2020     강원도   강릉시  강동면   와천로          3\n",
       "                          정동역길         1\n",
       "                    강릉대로  33           1\n",
       "                    구정면   동해고속도로       3\n",
       "                          회산로          3\n",
       "                                      ..\n",
       "2022     충청북도  충주시  으뜸로   21           1\n",
       "                    주덕읍   신덕로          1\n",
       "                    중앙탑면  중부내륙고속도로    11\n",
       "                          탑평리          1\n",
       "                    지현동   696          1\n",
       "Name: 충전기 수, Length: 9496, dtype: int64"
      ]
     },
     "execution_count": 19,
     "metadata": {},
     "output_type": "execute_result"
    }
   ],
   "source": [
    "numch_group_ad4 = numch.groupby(['충전시작_년도', '0', '1', '2', '3'])['충전기ID'].count().rename('충전기 수')\n",
    "numch_group_ad4"
   ]
  },
  {
   "cell_type": "code",
   "execution_count": 55,
   "metadata": {},
   "outputs": [],
   "source": [
    "numch_group_file = pd.ExcelWriter('분석/2020-22년_년도_지역별_충전기_수.xlsx')\n",
    "numch_group_ad1.to_excel(numch_group_file, sheet_name='지역')\n",
    "numch_group_ad2.to_excel(numch_group_file, sheet_name='시군구')\n",
    "numch_group_ad3.to_excel(numch_group_file, sheet_name='읍면동')\n",
    "numch_group_ad4.to_excel(numch_group_file, sheet_name='리')\n",
    "numch_group_file.save()"
   ]
  },
  {
   "cell_type": "markdown",
   "metadata": {},
   "source": [
    "### 연도/지역별 충전기ID 개수"
   ]
  },
  {
   "cell_type": "code",
   "execution_count": 24,
   "metadata": {},
   "outputs": [
    {
     "data": {
      "text/plain": [
       "충전시작_년도  지역    시군구  충전기ID\n",
       "2020     강원도   강릉시  1        15\n",
       "                    2        11\n",
       "                    3         5\n",
       "                    4         1\n",
       "                    21        1\n",
       "                             ..\n",
       "2022     충청북도  충주시  44        2\n",
       "                    45        1\n",
       "                    81        1\n",
       "                    82        1\n",
       "                    91        1\n",
       "Name: 충전기ID 수, Length: 5040, dtype: int64"
      ]
     },
     "execution_count": 24,
     "metadata": {},
     "output_type": "execute_result"
    }
   ],
   "source": [
    "numch_group_chargerID = numch.groupby(['충전시작_년도', '지역', '시군구', '충전기ID'])['주소'].count().rename('충전기ID 수')\n",
    "numch_group_chargerID"
   ]
  },
  {
   "cell_type": "code",
   "execution_count": 28,
   "metadata": {},
   "outputs": [
    {
     "data": {
      "text/plain": [
       "지역    시군구  충전기ID  충전시작_년도\n",
       "강원도   강릉시  1      2020       15\n",
       "                  2021       17\n",
       "                  2022       20\n",
       "           2      2020       11\n",
       "                  2021       11\n",
       "                             ..\n",
       "충청북도  충주시  81     2022        1\n",
       "           82     2022        1\n",
       "           91     2020        1\n",
       "                  2021        1\n",
       "                  2022        1\n",
       "Name: 충전기ID 수, Length: 5040, dtype: int64"
      ]
     },
     "execution_count": 28,
     "metadata": {},
     "output_type": "execute_result"
    }
   ],
   "source": [
    "numch_group_chargerID_y = numch.groupby(['지역', '시군구', '충전기ID', '충전시작_년도'])['주소'].count().rename('충전기ID 수')\n",
    "numch_group_chargerID_y"
   ]
  },
  {
   "cell_type": "code",
   "execution_count": 49,
   "metadata": {},
   "outputs": [
    {
     "data": {
      "text/plain": [
       "지역    시군구  충전시작_년도\n",
       "강원도   강릉시  2020                [4, 1, 3, 2, 52, 42, 41, 43, 44, 21, 22]\n",
       "           2021            [3, 1, 52, 2, 4, 42, 43, 41, 22, 21, 44, 45]\n",
       "           2022               [1, 2, 3, 52, 22, 21, 42, 45, 43, 41, 44]\n",
       "      고성군  2020                                          [12, 11, 1, 2]\n",
       "           2021                                          [12, 2, 1, 11]\n",
       "                                            ...                        \n",
       "충청북도  청주시  2021          [1, 43, 2, 12, 11, 42, 52, 41, 45, 22, 21, 44]\n",
       "           2022       [1, 12, 41, 11, 2, 21, 22, 52, 44, 42, 45, 43,...\n",
       "      충주시  2020          [1, 11, 12, 2, 91, 41, 42, 45, 44, 43, 21, 22]\n",
       "           2021       [1, 12, 42, 41, 2, 43, 11, 44, 45, 91, 22, 21,...\n",
       "           2022       [1, 12, 21, 22, 91, 2, 44, 42, 45, 24, 43, 11,...\n",
       "Name: 충전기ID 값, Length: 744, dtype: object"
      ]
     },
     "execution_count": 49,
     "metadata": {},
     "output_type": "execute_result"
    }
   ],
   "source": [
    "numch_group_chargerID_y_u = numch.groupby(['지역', '시군구', '충전시작_년도'])['충전기ID'].unique().rename('충전기ID 값')\n",
    "numch_group_chargerID_y_u"
   ]
  },
  {
   "cell_type": "code",
   "execution_count": 50,
   "metadata": {},
   "outputs": [
    {
     "data": {
      "text/plain": [
       "(744,)"
      ]
     },
     "execution_count": 50,
     "metadata": {},
     "output_type": "execute_result"
    }
   ],
   "source": [
    "numch_group_chargerID_y_u.shape"
   ]
  },
  {
   "cell_type": "code",
   "execution_count": 51,
   "metadata": {},
   "outputs": [
    {
     "data": {
      "text/plain": [
       "array([ 4,  1,  3,  2, 52, 42, 41, 43, 44, 21, 22], dtype=int8)"
      ]
     },
     "execution_count": 51,
     "metadata": {},
     "output_type": "execute_result"
    }
   ],
   "source": [
    "numch_group_chargerID_y_u.iloc[0]"
   ]
  },
  {
   "cell_type": "code",
   "execution_count": 52,
   "metadata": {},
   "outputs": [],
   "source": [
    "for i, one in enumerate(numch_group_chargerID_y_u):\n",
    "    numch_group_chargerID_y_u.iloc[i] = sorted(one)"
   ]
  },
  {
   "cell_type": "code",
   "execution_count": 53,
   "metadata": {},
   "outputs": [
    {
     "data": {
      "text/plain": [
       "지역    시군구  충전시작_년도\n",
       "강원도   강릉시  2020                [1, 2, 3, 4, 21, 22, 41, 42, 43, 44, 52]\n",
       "           2021            [1, 2, 3, 4, 21, 22, 41, 42, 43, 44, 45, 52]\n",
       "           2022               [1, 2, 3, 21, 22, 41, 42, 43, 44, 45, 52]\n",
       "      고성군  2020                                          [1, 2, 11, 12]\n",
       "           2021                                          [1, 2, 11, 12]\n",
       "                                            ...                        \n",
       "충청북도  청주시  2021          [1, 2, 11, 12, 21, 22, 41, 42, 43, 44, 45, 52]\n",
       "           2022       [1, 2, 3, 11, 12, 21, 22, 23, 24, 41, 42, 43, ...\n",
       "      충주시  2020          [1, 2, 11, 12, 21, 22, 41, 42, 43, 44, 45, 91]\n",
       "           2021       [1, 2, 11, 12, 21, 22, 23, 24, 41, 42, 43, 44,...\n",
       "           2022       [1, 2, 3, 4, 11, 12, 21, 22, 23, 24, 41, 42, 4...\n",
       "Name: 충전기ID 값, Length: 744, dtype: object"
      ]
     },
     "execution_count": 53,
     "metadata": {},
     "output_type": "execute_result"
    }
   ],
   "source": [
    "numch_group_chargerID_y_u"
   ]
  },
  {
   "cell_type": "code",
   "execution_count": 54,
   "metadata": {},
   "outputs": [
    {
     "data": {
      "text/plain": [
       "지역    시군구  충전시작_년도\n",
       "강원도   강릉시  2020       11\n",
       "           2021       12\n",
       "           2022       11\n",
       "      고성군  2020        4\n",
       "           2021        4\n",
       "                      ..\n",
       "충청북도  청주시  2021       12\n",
       "           2022       15\n",
       "      충주시  2020       12\n",
       "           2021       14\n",
       "           2022       18\n",
       "Name: 충전기ID 개수, Length: 744, dtype: int64"
      ]
     },
     "execution_count": 54,
     "metadata": {},
     "output_type": "execute_result"
    }
   ],
   "source": [
    "numch_group_chargerID_y_nu = numch.groupby(['지역', '시군구', '충전시작_년도'])['충전기ID'].nunique().rename('충전기ID 개수')\n",
    "numch_group_chargerID_y_nu"
   ]
  },
  {
   "cell_type": "code",
   "execution_count": 55,
   "metadata": {},
   "outputs": [],
   "source": [
    "numch_group_chargerID_file = pd.ExcelWriter('분석/2020-22년_년도_지역별_충전기ID_수.xlsx')\n",
    "numch_group_chargerID.to_excel(numch_group_chargerID_file, sheet_name='sheet1')\n",
    "numch_group_chargerID_y.to_excel(numch_group_chargerID_file, sheet_name='sheet2')\n",
    "numch_group_chargerID_y_u.to_excel(numch_group_chargerID_file, sheet_name='sheet3')\n",
    "numch_group_chargerID_y_nu.to_excel(numch_group_chargerID_file, sheet_name='sheet4')\n",
    "numch_group_chargerID_file.save()"
   ]
  },
  {
   "cell_type": "markdown",
   "metadata": {},
   "source": [
    "# 코드 마지막"
   ]
  }
 ],
 "metadata": {
  "kernelspec": {
   "display_name": "Python 3.9.13 ('base')",
   "language": "python",
   "name": "python3"
  },
  "language_info": {
   "codemirror_mode": {
    "name": "ipython",
    "version": 3
   },
   "file_extension": ".py",
   "mimetype": "text/x-python",
   "name": "python",
   "nbconvert_exporter": "python",
   "pygments_lexer": "ipython3",
   "version": "3.9.13"
  },
  "orig_nbformat": 4,
  "vscode": {
   "interpreter": {
    "hash": "ad2bdc8ecc057115af97d19610ffacc2b4e99fae6737bb82f5d7fb13d2f2c186"
   }
  }
 },
 "nbformat": 4,
 "nbformat_minor": 2
}
