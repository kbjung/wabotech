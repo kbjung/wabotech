{
 "cells": [
  {
   "attachments": {},
   "cell_type": "markdown",
   "metadata": {},
   "source": [
    "# Library"
   ]
  },
  {
   "cell_type": "code",
   "execution_count": 1,
   "metadata": {},
   "outputs": [],
   "source": [
    "import pandas as pd\n",
    "import numpy as np\n",
    "import os\n",
    "from tqdm import tqdm\n",
    "from datetime import datetime"
   ]
  },
  {
   "cell_type": "code",
   "execution_count": 2,
   "metadata": {},
   "outputs": [],
   "source": [
    "# 소수점 옵션\n",
    "pd.options.display.float_format = '{:.2f}'.format\n",
    "# pd.reset_option('display.float_format')"
   ]
  },
  {
   "attachments": {},
   "cell_type": "markdown",
   "metadata": {},
   "source": [
    "# fold path"
   ]
  },
  {
   "cell_type": "code",
   "execution_count": 3,
   "metadata": {},
   "outputs": [],
   "source": [
    "drive = 'D'\n",
    "ods_fold = f'{drive}:/data/big2/ODS'\n",
    "analysis_fold = 'analysis'"
   ]
  },
  {
   "attachments": {},
   "cell_type": "markdown",
   "metadata": {},
   "source": [
    "# load"
   ]
  },
  {
   "cell_type": "code",
   "execution_count": 4,
   "metadata": {},
   "outputs": [],
   "source": [
    "# about 8m 7.8s\n",
    "car = pd.read_csv(os.path.join(ods_fold, '[ODS]등록정보&제원정보(연료수정)(등급컬럼추가)(2022.12.28).csv'), low_memory=False)"
   ]
  },
  {
   "cell_type": "code",
   "execution_count": 5,
   "metadata": {},
   "outputs": [
    {
     "name": "stdout",
     "output_type": "stream",
     "text": [
      "<class 'pandas.core.frame.DataFrame'>\n",
      "RangeIndex: 25404385 entries, 0 to 25404384\n",
      "Data columns (total 59 columns):\n",
      " #   Column        Dtype  \n",
      "---  ------        -----  \n",
      " 0   차량관리번호        object \n",
      " 1   차량등록번호        object \n",
      " 2   본거지법정동코드      int64  \n",
      " 3   소유자구분         object \n",
      " 4   차종_등록정보       object \n",
      " 5   용도            object \n",
      " 6   현재회원번호        object \n",
      " 7   차대번호          object \n",
      " 8   최초등록일자        int64  \n",
      " 9   차량연식          int64  \n",
      " 10  차량제작일자        float64\n",
      " 11  배출가스검사유효일자    float64\n",
      " 12  제원관리번호        object \n",
      " 13  배출가스인증번호      object \n",
      " 14  배출가스등급        object \n",
      " 15  저공해조치YN(미사용)  object \n",
      " 16  저공해조치종류       float64\n",
      " 17  저공해조치구조변경YN   object \n",
      " 18  차량등록번호숫자정보    int64  \n",
      " 19  차량말소YN        object \n",
      " 20  최초회원번호        object \n",
      " 21  취득일자          object \n",
      " 22  취득금액          float64\n",
      " 23  생성일시_등록정보     object \n",
      " 24  수정일시_등록정보     object \n",
      " 25  차명            object \n",
      " 26  차종_제원정보       object \n",
      " 27  차종분류          object \n",
      " 28  차종유형(소분류)     object \n",
      " 29  자동차형식         object \n",
      " 30  제작사명          object \n",
      " 31  연료            object \n",
      " 32  엔진형식          object \n",
      " 33  공차중량          float64\n",
      " 34  총중량           float64\n",
      " 35  적재중량          float64\n",
      " 36  엔진출력          float64\n",
      " 37  배기량           float64\n",
      " 38  승차인원          float64\n",
      " 39  차량길이          float64\n",
      " 40  차량너비          float64\n",
      " 41  차량높이          float64\n",
      " 42  원산지명          object \n",
      " 43  삭제YN          object \n",
      " 44  승인일자          object \n",
      " 45  구동형식          float64\n",
      " 46  변속기종류         object \n",
      " 47  생성일시_제원정보     object \n",
      " 48  수정일시_제원정보     object \n",
      " 49  법정동코드         float64\n",
      " 50  시도            object \n",
      " 51  시구군           object \n",
      " 52  읍면동           object \n",
      " 53  리             object \n",
      " 54  지역3           float64\n",
      " 55  폐지여부          object \n",
      " 56  대기관리권역        object \n",
      " 57  대기관리권역YN      object \n",
      " 58  등급            int64  \n",
      "dtypes: float64(16), int64(5), object(38)\n",
      "memory usage: 11.2+ GB\n"
     ]
    }
   ],
   "source": [
    "car.info()"
   ]
  },
  {
   "cell_type": "code",
   "execution_count": 6,
   "metadata": {},
   "outputs": [
    {
     "data": {
      "text/plain": [
       "Index(['차량관리번호', '차량등록번호', '본거지법정동코드', '소유자구분', '차종_등록정보', '용도', '현재회원번호',\n",
       "       '차대번호', '최초등록일자', '차량연식', '차량제작일자', '배출가스검사유효일자', '제원관리번호', '배출가스인증번호',\n",
       "       '배출가스등급', '저공해조치YN(미사용)', '저공해조치종류', '저공해조치구조변경YN', '차량등록번호숫자정보',\n",
       "       '차량말소YN', '최초회원번호', '취득일자', '취득금액', '생성일시_등록정보', '수정일시_등록정보', '차명',\n",
       "       '차종_제원정보', '차종분류', '차종유형(소분류)', '자동차형식', '제작사명', '연료', '엔진형식', '공차중량',\n",
       "       '총중량', '적재중량', '엔진출력', '배기량', '승차인원', '차량길이', '차량너비', '차량높이', '원산지명',\n",
       "       '삭제YN', '승인일자', '구동형식', '변속기종류', '생성일시_제원정보', '수정일시_제원정보', '법정동코드',\n",
       "       '시도', '시구군', '읍면동', '리', '지역3', '폐지여부', '대기관리권역', '대기관리권역YN', '등급'],\n",
       "      dtype='object')"
      ]
     },
     "execution_count": 6,
     "metadata": {},
     "output_type": "execute_result"
    }
   ],
   "source": [
    "car.columns"
   ]
  },
  {
   "attachments": {},
   "cell_type": "markdown",
   "metadata": {},
   "source": [
    "# 분석"
   ]
  },
  {
   "cell_type": "code",
   "execution_count": 7,
   "metadata": {},
   "outputs": [
    {
     "data": {
      "text/plain": [
       "2    11207677\n",
       "3     8759393\n",
       "1     2771380\n",
       "4     1511211\n",
       "5     1154724\n",
       "Name: 등급, dtype: int64"
      ]
     },
     "execution_count": 7,
     "metadata": {},
     "output_type": "execute_result"
    }
   ],
   "source": [
    "car['등급'].value_counts(dropna=False)"
   ]
  },
  {
   "cell_type": "code",
   "execution_count": 8,
   "metadata": {},
   "outputs": [
    {
     "data": {
      "text/plain": [
       "휘발유            12101949\n",
       "경유              9860384\n",
       "LPG(액화석유가스)     1896593\n",
       "휘발유 하이브리드       1071363\n",
       "전기               366804\n",
       "경유 하이브리드          34191\n",
       "CNG(압축천연가스)       30311\n",
       "수소                28102\n",
       "LPG 하이브리드         14350\n",
       "CNG 하이브리드           304\n",
       "LNG(액화천연가스)          25\n",
       "무동력                   7\n",
       "알코올                   2\n",
       "Name: 연료, dtype: int64"
      ]
     },
     "execution_count": 8,
     "metadata": {},
     "output_type": "execute_result"
    }
   ],
   "source": [
    "car['연료'].value_counts(dropna=False)"
   ]
  },
  {
   "attachments": {},
   "cell_type": "markdown",
   "metadata": {},
   "source": [
    "## 전체 차량 현황"
   ]
  },
  {
   "cell_type": "code",
   "execution_count": 17,
   "metadata": {},
   "outputs": [
    {
     "data": {
      "text/html": [
       "<div>\n",
       "<style scoped>\n",
       "    .dataframe tbody tr th:only-of-type {\n",
       "        vertical-align: middle;\n",
       "    }\n",
       "\n",
       "    .dataframe tbody tr th {\n",
       "        vertical-align: top;\n",
       "    }\n",
       "\n",
       "    .dataframe thead th {\n",
       "        text-align: right;\n",
       "    }\n",
       "</style>\n",
       "<table border=\"1\" class=\"dataframe\">\n",
       "  <thead>\n",
       "    <tr style=\"text-align: right;\">\n",
       "      <th></th>\n",
       "      <th>대기관리권역YN</th>\n",
       "      <th>N</th>\n",
       "      <th>Y</th>\n",
       "    </tr>\n",
       "    <tr>\n",
       "      <th>대기관리권역</th>\n",
       "      <th>시도</th>\n",
       "      <th></th>\n",
       "      <th></th>\n",
       "    </tr>\n",
       "  </thead>\n",
       "  <tbody>\n",
       "    <tr>\n",
       "      <th rowspan=\"2\" valign=\"top\">그 외</th>\n",
       "      <th>강원</th>\n",
       "      <td>846993.00</td>\n",
       "      <td>NaN</td>\n",
       "    </tr>\n",
       "    <tr>\n",
       "      <th>제주</th>\n",
       "      <td>695572.00</td>\n",
       "      <td>NaN</td>\n",
       "    </tr>\n",
       "    <tr>\n",
       "      <th rowspan=\"2\" valign=\"top\">남부권</th>\n",
       "      <th>광주</th>\n",
       "      <td>NaN</td>\n",
       "      <td>711165.00</td>\n",
       "    </tr>\n",
       "    <tr>\n",
       "      <th>전남</th>\n",
       "      <td>616235.00</td>\n",
       "      <td>591351.00</td>\n",
       "    </tr>\n",
       "    <tr>\n",
       "      <th rowspan=\"5\" valign=\"top\">동남권</th>\n",
       "      <th>경남</th>\n",
       "      <td>537576.00</td>\n",
       "      <td>1342341.00</td>\n",
       "    </tr>\n",
       "    <tr>\n",
       "      <th>경북</th>\n",
       "      <td>582214.00</td>\n",
       "      <td>934617.00</td>\n",
       "    </tr>\n",
       "    <tr>\n",
       "      <th>대구</th>\n",
       "      <td>NaN</td>\n",
       "      <td>1228482.00</td>\n",
       "    </tr>\n",
       "    <tr>\n",
       "      <th>부산</th>\n",
       "      <td>NaN</td>\n",
       "      <td>1490113.00</td>\n",
       "    </tr>\n",
       "    <tr>\n",
       "      <th>울산</th>\n",
       "      <td>NaN</td>\n",
       "      <td>585909.00</td>\n",
       "    </tr>\n",
       "    <tr>\n",
       "      <th rowspan=\"3\" valign=\"top\">수도권</th>\n",
       "      <th>경기</th>\n",
       "      <td>128583.00</td>\n",
       "      <td>6207209.00</td>\n",
       "    </tr>\n",
       "    <tr>\n",
       "      <th>서울</th>\n",
       "      <td>NaN</td>\n",
       "      <td>3209359.00</td>\n",
       "    </tr>\n",
       "    <tr>\n",
       "      <th>인천</th>\n",
       "      <td>9072.00</td>\n",
       "      <td>1707894.00</td>\n",
       "    </tr>\n",
       "    <tr>\n",
       "      <th rowspan=\"5\" valign=\"top\">중부권</th>\n",
       "      <th>대전</th>\n",
       "      <td>NaN</td>\n",
       "      <td>705277.00</td>\n",
       "    </tr>\n",
       "    <tr>\n",
       "      <th>세종</th>\n",
       "      <td>NaN</td>\n",
       "      <td>191861.00</td>\n",
       "    </tr>\n",
       "    <tr>\n",
       "      <th>전북</th>\n",
       "      <td>344562.00</td>\n",
       "      <td>628490.00</td>\n",
       "    </tr>\n",
       "    <tr>\n",
       "      <th>충남</th>\n",
       "      <td>31389.00</td>\n",
       "      <td>1168268.00</td>\n",
       "    </tr>\n",
       "    <tr>\n",
       "      <th>충북</th>\n",
       "      <td>120426.00</td>\n",
       "      <td>789427.00</td>\n",
       "    </tr>\n",
       "  </tbody>\n",
       "</table>\n",
       "</div>"
      ],
      "text/plain": [
       "대기관리권역YN          N          Y\n",
       "대기관리권역 시도                     \n",
       "그 외    강원 846993.00        NaN\n",
       "       제주 695572.00        NaN\n",
       "남부권    광주       NaN  711165.00\n",
       "       전남 616235.00  591351.00\n",
       "동남권    경남 537576.00 1342341.00\n",
       "       경북 582214.00  934617.00\n",
       "       대구       NaN 1228482.00\n",
       "       부산       NaN 1490113.00\n",
       "       울산       NaN  585909.00\n",
       "수도권    경기 128583.00 6207209.00\n",
       "       서울       NaN 3209359.00\n",
       "       인천   9072.00 1707894.00\n",
       "중부권    대전       NaN  705277.00\n",
       "       세종       NaN  191861.00\n",
       "       전북 344562.00  628490.00\n",
       "       충남  31389.00 1168268.00\n",
       "       충북 120426.00  789427.00"
      ]
     },
     "execution_count": 17,
     "metadata": {},
     "output_type": "execute_result"
    }
   ],
   "source": [
    "stat_car = car.groupby(['대기관리권역', '시도', '대기관리권역YN'], dropna=False)['차대번호'].count().unstack()\n",
    "stat_car"
   ]
  },
  {
   "cell_type": "code",
   "execution_count": 19,
   "metadata": {},
   "outputs": [
    {
     "data": {
      "text/plain": [
       "'2023.05.04_PM.04.13.06'"
      ]
     },
     "execution_count": 19,
     "metadata": {},
     "output_type": "execute_result"
    }
   ],
   "source": [
    "today_date = datetime.today().strftime(\"%Y.%m.%d_%p.%I.%M.%S\")\n",
    "today_date"
   ]
  },
  {
   "cell_type": "code",
   "execution_count": 20,
   "metadata": {},
   "outputs": [],
   "source": [
    "with pd.ExcelWriter(os.path.join(analysis_fold, f'통계_전체_대기관리권역별{today_date}.xlsx')) as writer:\n",
    "    stat_car.to_excel(writer, sheet_name='전체')"
   ]
  },
  {
   "attachments": {},
   "cell_type": "markdown",
   "metadata": {},
   "source": [
    "## 전기차와 수소"
   ]
  },
  {
   "cell_type": "code",
   "execution_count": 9,
   "metadata": {},
   "outputs": [
    {
     "data": {
      "text/plain": [
       "(394906, 59)"
      ]
     },
     "execution_count": 9,
     "metadata": {},
     "output_type": "execute_result"
    }
   ],
   "source": [
    "df = car.loc[(car['연료'] == '전기') | (car['연료'] == '수소')].reset_index(drop=True)\n",
    "df.shape"
   ]
  },
  {
   "cell_type": "code",
   "execution_count": 10,
   "metadata": {},
   "outputs": [
    {
     "data": {
      "text/html": [
       "<div>\n",
       "<style scoped>\n",
       "    .dataframe tbody tr th:only-of-type {\n",
       "        vertical-align: middle;\n",
       "    }\n",
       "\n",
       "    .dataframe tbody tr th {\n",
       "        vertical-align: top;\n",
       "    }\n",
       "\n",
       "    .dataframe thead th {\n",
       "        text-align: right;\n",
       "    }\n",
       "</style>\n",
       "<table border=\"1\" class=\"dataframe\">\n",
       "  <thead>\n",
       "    <tr style=\"text-align: right;\">\n",
       "      <th></th>\n",
       "      <th>대기관리권역YN</th>\n",
       "      <th>N</th>\n",
       "      <th>Y</th>\n",
       "    </tr>\n",
       "    <tr>\n",
       "      <th>대기관리권역</th>\n",
       "      <th>시도</th>\n",
       "      <th></th>\n",
       "      <th></th>\n",
       "    </tr>\n",
       "  </thead>\n",
       "  <tbody>\n",
       "    <tr>\n",
       "      <th rowspan=\"2\" valign=\"top\">그 외</th>\n",
       "      <th>강원</th>\n",
       "      <td>15487.00</td>\n",
       "      <td>NaN</td>\n",
       "    </tr>\n",
       "    <tr>\n",
       "      <th>제주</th>\n",
       "      <td>31654.00</td>\n",
       "      <td>NaN</td>\n",
       "    </tr>\n",
       "    <tr>\n",
       "      <th rowspan=\"2\" valign=\"top\">남부권</th>\n",
       "      <th>광주</th>\n",
       "      <td>NaN</td>\n",
       "      <td>9552.00</td>\n",
       "    </tr>\n",
       "    <tr>\n",
       "      <th>전남</th>\n",
       "      <td>6349.00</td>\n",
       "      <td>8904.00</td>\n",
       "    </tr>\n",
       "    <tr>\n",
       "      <th rowspan=\"5\" valign=\"top\">동남권</th>\n",
       "      <th>경남</th>\n",
       "      <td>5758.00</td>\n",
       "      <td>17552.00</td>\n",
       "    </tr>\n",
       "    <tr>\n",
       "      <th>경북</th>\n",
       "      <td>7381.00</td>\n",
       "      <td>10716.00</td>\n",
       "    </tr>\n",
       "    <tr>\n",
       "      <th>대구</th>\n",
       "      <td>NaN</td>\n",
       "      <td>23556.00</td>\n",
       "    </tr>\n",
       "    <tr>\n",
       "      <th>부산</th>\n",
       "      <td>NaN</td>\n",
       "      <td>22396.00</td>\n",
       "    </tr>\n",
       "    <tr>\n",
       "      <th>울산</th>\n",
       "      <td>NaN</td>\n",
       "      <td>7202.00</td>\n",
       "    </tr>\n",
       "    <tr>\n",
       "      <th rowspan=\"3\" valign=\"top\">수도권</th>\n",
       "      <th>경기</th>\n",
       "      <td>1861.00</td>\n",
       "      <td>75599.00</td>\n",
       "    </tr>\n",
       "    <tr>\n",
       "      <th>서울</th>\n",
       "      <td>NaN</td>\n",
       "      <td>60653.00</td>\n",
       "    </tr>\n",
       "    <tr>\n",
       "      <th>인천</th>\n",
       "      <td>51.00</td>\n",
       "      <td>25263.00</td>\n",
       "    </tr>\n",
       "    <tr>\n",
       "      <th rowspan=\"5\" valign=\"top\">중부권</th>\n",
       "      <th>대전</th>\n",
       "      <td>NaN</td>\n",
       "      <td>14624.00</td>\n",
       "    </tr>\n",
       "    <tr>\n",
       "      <th>세종</th>\n",
       "      <td>NaN</td>\n",
       "      <td>3025.00</td>\n",
       "    </tr>\n",
       "    <tr>\n",
       "      <th>전북</th>\n",
       "      <td>5190.00</td>\n",
       "      <td>8912.00</td>\n",
       "    </tr>\n",
       "    <tr>\n",
       "      <th>충남</th>\n",
       "      <td>432.00</td>\n",
       "      <td>16747.00</td>\n",
       "    </tr>\n",
       "    <tr>\n",
       "      <th>충북</th>\n",
       "      <td>1879.00</td>\n",
       "      <td>14163.00</td>\n",
       "    </tr>\n",
       "  </tbody>\n",
       "</table>\n",
       "</div>"
      ],
      "text/plain": [
       "대기관리권역YN         N        Y\n",
       "대기관리권역 시도                  \n",
       "그 외    강원 15487.00      NaN\n",
       "       제주 31654.00      NaN\n",
       "남부권    광주      NaN  9552.00\n",
       "       전남  6349.00  8904.00\n",
       "동남권    경남  5758.00 17552.00\n",
       "       경북  7381.00 10716.00\n",
       "       대구      NaN 23556.00\n",
       "       부산      NaN 22396.00\n",
       "       울산      NaN  7202.00\n",
       "수도권    경기  1861.00 75599.00\n",
       "       서울      NaN 60653.00\n",
       "       인천    51.00 25263.00\n",
       "중부권    대전      NaN 14624.00\n",
       "       세종      NaN  3025.00\n",
       "       전북  5190.00  8912.00\n",
       "       충남   432.00 16747.00\n",
       "       충북  1879.00 14163.00"
      ]
     },
     "execution_count": 10,
     "metadata": {},
     "output_type": "execute_result"
    }
   ],
   "source": [
    "stat = df.groupby(['대기관리권역', '시도', '대기관리권역YN'], dropna=False)['차대번호'].count().unstack()\n",
    "stat"
   ]
  },
  {
   "attachments": {},
   "cell_type": "markdown",
   "metadata": {},
   "source": [
    "## 전기차"
   ]
  },
  {
   "cell_type": "code",
   "execution_count": 11,
   "metadata": {},
   "outputs": [
    {
     "data": {
      "text/plain": [
       "(366804, 59)"
      ]
     },
     "execution_count": 11,
     "metadata": {},
     "output_type": "execute_result"
    }
   ],
   "source": [
    "ev = df.loc[df['연료'] == '전기'].reset_index(drop=True)\n",
    "ev.shape"
   ]
  },
  {
   "cell_type": "code",
   "execution_count": 12,
   "metadata": {},
   "outputs": [
    {
     "data": {
      "text/html": [
       "<div>\n",
       "<style scoped>\n",
       "    .dataframe tbody tr th:only-of-type {\n",
       "        vertical-align: middle;\n",
       "    }\n",
       "\n",
       "    .dataframe tbody tr th {\n",
       "        vertical-align: top;\n",
       "    }\n",
       "\n",
       "    .dataframe thead th {\n",
       "        text-align: right;\n",
       "    }\n",
       "</style>\n",
       "<table border=\"1\" class=\"dataframe\">\n",
       "  <thead>\n",
       "    <tr style=\"text-align: right;\">\n",
       "      <th></th>\n",
       "      <th>대기관리권역YN</th>\n",
       "      <th>N</th>\n",
       "      <th>Y</th>\n",
       "    </tr>\n",
       "    <tr>\n",
       "      <th>대기관리권역</th>\n",
       "      <th>시도</th>\n",
       "      <th></th>\n",
       "      <th></th>\n",
       "    </tr>\n",
       "  </thead>\n",
       "  <tbody>\n",
       "    <tr>\n",
       "      <th rowspan=\"2\" valign=\"top\">그 외</th>\n",
       "      <th>강원</th>\n",
       "      <td>12991.00</td>\n",
       "      <td>NaN</td>\n",
       "    </tr>\n",
       "    <tr>\n",
       "      <th>제주</th>\n",
       "      <td>31649.00</td>\n",
       "      <td>NaN</td>\n",
       "    </tr>\n",
       "    <tr>\n",
       "      <th rowspan=\"2\" valign=\"top\">남부권</th>\n",
       "      <th>광주</th>\n",
       "      <td>NaN</td>\n",
       "      <td>8458.00</td>\n",
       "    </tr>\n",
       "    <tr>\n",
       "      <th>전남</th>\n",
       "      <td>6265.00</td>\n",
       "      <td>8288.00</td>\n",
       "    </tr>\n",
       "    <tr>\n",
       "      <th rowspan=\"5\" valign=\"top\">동남권</th>\n",
       "      <th>경남</th>\n",
       "      <td>5552.00</td>\n",
       "      <td>15379.00</td>\n",
       "    </tr>\n",
       "    <tr>\n",
       "      <th>경북</th>\n",
       "      <td>7314.00</td>\n",
       "      <td>10568.00</td>\n",
       "    </tr>\n",
       "    <tr>\n",
       "      <th>대구</th>\n",
       "      <td>NaN</td>\n",
       "      <td>23030.00</td>\n",
       "    </tr>\n",
       "    <tr>\n",
       "      <th>부산</th>\n",
       "      <td>NaN</td>\n",
       "      <td>20517.00</td>\n",
       "    </tr>\n",
       "    <tr>\n",
       "      <th>울산</th>\n",
       "      <td>NaN</td>\n",
       "      <td>4764.00</td>\n",
       "    </tr>\n",
       "    <tr>\n",
       "      <th rowspan=\"3\" valign=\"top\">수도권</th>\n",
       "      <th>경기</th>\n",
       "      <td>1835.00</td>\n",
       "      <td>69655.00</td>\n",
       "    </tr>\n",
       "    <tr>\n",
       "      <th>서울</th>\n",
       "      <td>NaN</td>\n",
       "      <td>57819.00</td>\n",
       "    </tr>\n",
       "    <tr>\n",
       "      <th>인천</th>\n",
       "      <td>50.00</td>\n",
       "      <td>23703.00</td>\n",
       "    </tr>\n",
       "    <tr>\n",
       "      <th rowspan=\"5\" valign=\"top\">중부권</th>\n",
       "      <th>대전</th>\n",
       "      <td>NaN</td>\n",
       "      <td>13417.00</td>\n",
       "    </tr>\n",
       "    <tr>\n",
       "      <th>세종</th>\n",
       "      <td>NaN</td>\n",
       "      <td>2783.00</td>\n",
       "    </tr>\n",
       "    <tr>\n",
       "      <th>전북</th>\n",
       "      <td>4770.00</td>\n",
       "      <td>7642.00</td>\n",
       "    </tr>\n",
       "    <tr>\n",
       "      <th>충남</th>\n",
       "      <td>424.00</td>\n",
       "      <td>15571.00</td>\n",
       "    </tr>\n",
       "    <tr>\n",
       "      <th>충북</th>\n",
       "      <td>1815.00</td>\n",
       "      <td>12545.00</td>\n",
       "    </tr>\n",
       "  </tbody>\n",
       "</table>\n",
       "</div>"
      ],
      "text/plain": [
       "대기관리권역YN         N        Y\n",
       "대기관리권역 시도                  \n",
       "그 외    강원 12991.00      NaN\n",
       "       제주 31649.00      NaN\n",
       "남부권    광주      NaN  8458.00\n",
       "       전남  6265.00  8288.00\n",
       "동남권    경남  5552.00 15379.00\n",
       "       경북  7314.00 10568.00\n",
       "       대구      NaN 23030.00\n",
       "       부산      NaN 20517.00\n",
       "       울산      NaN  4764.00\n",
       "수도권    경기  1835.00 69655.00\n",
       "       서울      NaN 57819.00\n",
       "       인천    50.00 23703.00\n",
       "중부권    대전      NaN 13417.00\n",
       "       세종      NaN  2783.00\n",
       "       전북  4770.00  7642.00\n",
       "       충남   424.00 15571.00\n",
       "       충북  1815.00 12545.00"
      ]
     },
     "execution_count": 12,
     "metadata": {},
     "output_type": "execute_result"
    }
   ],
   "source": [
    "ev_stat = ev.groupby(['대기관리권역', '시도', '대기관리권역YN'], dropna=False)['차대번호'].count().unstack()\n",
    "ev_stat"
   ]
  },
  {
   "attachments": {},
   "cell_type": "markdown",
   "metadata": {},
   "source": [
    "## 하이브리드"
   ]
  },
  {
   "cell_type": "code",
   "execution_count": 13,
   "metadata": {},
   "outputs": [
    {
     "data": {
      "text/plain": [
       "(28102, 59)"
      ]
     },
     "execution_count": 13,
     "metadata": {},
     "output_type": "execute_result"
    }
   ],
   "source": [
    "h2 = df.loc[df['연료'] == '수소'].reset_index(drop=True)\n",
    "h2.shape"
   ]
  },
  {
   "cell_type": "code",
   "execution_count": 14,
   "metadata": {},
   "outputs": [
    {
     "data": {
      "text/html": [
       "<div>\n",
       "<style scoped>\n",
       "    .dataframe tbody tr th:only-of-type {\n",
       "        vertical-align: middle;\n",
       "    }\n",
       "\n",
       "    .dataframe tbody tr th {\n",
       "        vertical-align: top;\n",
       "    }\n",
       "\n",
       "    .dataframe thead th {\n",
       "        text-align: right;\n",
       "    }\n",
       "</style>\n",
       "<table border=\"1\" class=\"dataframe\">\n",
       "  <thead>\n",
       "    <tr style=\"text-align: right;\">\n",
       "      <th></th>\n",
       "      <th>대기관리권역YN</th>\n",
       "      <th>N</th>\n",
       "      <th>Y</th>\n",
       "    </tr>\n",
       "    <tr>\n",
       "      <th>대기관리권역</th>\n",
       "      <th>시도</th>\n",
       "      <th></th>\n",
       "      <th></th>\n",
       "    </tr>\n",
       "  </thead>\n",
       "  <tbody>\n",
       "    <tr>\n",
       "      <th rowspan=\"2\" valign=\"top\">그 외</th>\n",
       "      <th>강원</th>\n",
       "      <td>2496.00</td>\n",
       "      <td>NaN</td>\n",
       "    </tr>\n",
       "    <tr>\n",
       "      <th>제주</th>\n",
       "      <td>5.00</td>\n",
       "      <td>NaN</td>\n",
       "    </tr>\n",
       "    <tr>\n",
       "      <th rowspan=\"2\" valign=\"top\">남부권</th>\n",
       "      <th>광주</th>\n",
       "      <td>NaN</td>\n",
       "      <td>1094.00</td>\n",
       "    </tr>\n",
       "    <tr>\n",
       "      <th>전남</th>\n",
       "      <td>84.00</td>\n",
       "      <td>616.00</td>\n",
       "    </tr>\n",
       "    <tr>\n",
       "      <th rowspan=\"5\" valign=\"top\">동남권</th>\n",
       "      <th>경남</th>\n",
       "      <td>206.00</td>\n",
       "      <td>2173.00</td>\n",
       "    </tr>\n",
       "    <tr>\n",
       "      <th>경북</th>\n",
       "      <td>67.00</td>\n",
       "      <td>148.00</td>\n",
       "    </tr>\n",
       "    <tr>\n",
       "      <th>대구</th>\n",
       "      <td>NaN</td>\n",
       "      <td>526.00</td>\n",
       "    </tr>\n",
       "    <tr>\n",
       "      <th>부산</th>\n",
       "      <td>NaN</td>\n",
       "      <td>1879.00</td>\n",
       "    </tr>\n",
       "    <tr>\n",
       "      <th>울산</th>\n",
       "      <td>NaN</td>\n",
       "      <td>2438.00</td>\n",
       "    </tr>\n",
       "    <tr>\n",
       "      <th rowspan=\"3\" valign=\"top\">수도권</th>\n",
       "      <th>경기</th>\n",
       "      <td>26.00</td>\n",
       "      <td>5944.00</td>\n",
       "    </tr>\n",
       "    <tr>\n",
       "      <th>서울</th>\n",
       "      <td>NaN</td>\n",
       "      <td>2834.00</td>\n",
       "    </tr>\n",
       "    <tr>\n",
       "      <th>인천</th>\n",
       "      <td>1.00</td>\n",
       "      <td>1560.00</td>\n",
       "    </tr>\n",
       "    <tr>\n",
       "      <th rowspan=\"5\" valign=\"top\">중부권</th>\n",
       "      <th>대전</th>\n",
       "      <td>NaN</td>\n",
       "      <td>1207.00</td>\n",
       "    </tr>\n",
       "    <tr>\n",
       "      <th>세종</th>\n",
       "      <td>NaN</td>\n",
       "      <td>242.00</td>\n",
       "    </tr>\n",
       "    <tr>\n",
       "      <th>전북</th>\n",
       "      <td>420.00</td>\n",
       "      <td>1270.00</td>\n",
       "    </tr>\n",
       "    <tr>\n",
       "      <th>충남</th>\n",
       "      <td>8.00</td>\n",
       "      <td>1176.00</td>\n",
       "    </tr>\n",
       "    <tr>\n",
       "      <th>충북</th>\n",
       "      <td>64.00</td>\n",
       "      <td>1618.00</td>\n",
       "    </tr>\n",
       "  </tbody>\n",
       "</table>\n",
       "</div>"
      ],
      "text/plain": [
       "대기관리권역YN        N       Y\n",
       "대기관리권역 시도                \n",
       "그 외    강원 2496.00     NaN\n",
       "       제주    5.00     NaN\n",
       "남부권    광주     NaN 1094.00\n",
       "       전남   84.00  616.00\n",
       "동남권    경남  206.00 2173.00\n",
       "       경북   67.00  148.00\n",
       "       대구     NaN  526.00\n",
       "       부산     NaN 1879.00\n",
       "       울산     NaN 2438.00\n",
       "수도권    경기   26.00 5944.00\n",
       "       서울     NaN 2834.00\n",
       "       인천    1.00 1560.00\n",
       "중부권    대전     NaN 1207.00\n",
       "       세종     NaN  242.00\n",
       "       전북  420.00 1270.00\n",
       "       충남    8.00 1176.00\n",
       "       충북   64.00 1618.00"
      ]
     },
     "execution_count": 14,
     "metadata": {},
     "output_type": "execute_result"
    }
   ],
   "source": [
    "h2_stat = h2.groupby(['대기관리권역', '시도', '대기관리권역YN'], dropna=False)['차대번호'].count().unstack()\n",
    "h2_stat"
   ]
  },
  {
   "attachments": {},
   "cell_type": "markdown",
   "metadata": {},
   "source": [
    "## 출력"
   ]
  },
  {
   "cell_type": "code",
   "execution_count": 15,
   "metadata": {},
   "outputs": [
    {
     "data": {
      "text/plain": [
       "'2023.05.04_PM.03.59.12'"
      ]
     },
     "execution_count": 15,
     "metadata": {},
     "output_type": "execute_result"
    }
   ],
   "source": [
    "today_date = datetime.today().strftime(\"%Y.%m.%d_%p.%I.%M.%S\")\n",
    "today_date"
   ]
  },
  {
   "cell_type": "code",
   "execution_count": 16,
   "metadata": {},
   "outputs": [],
   "source": [
    "with pd.ExcelWriter(os.path.join(analysis_fold, f'통계_전기차_수소_대기관리권역별{today_date}.xlsx')) as writer:\n",
    "    stat.to_excel(writer, sheet_name='전기_수소')\n",
    "    ev_stat.to_excel(writer, sheet_name='전기차')\n",
    "    h2_stat.to_excel(writer, sheet_name='수소')"
   ]
  },
  {
   "attachments": {},
   "cell_type": "markdown",
   "metadata": {},
   "source": [
    "# 코드 마지막"
   ]
  }
 ],
 "metadata": {
  "kernelspec": {
   "display_name": "base",
   "language": "python",
   "name": "python3"
  },
  "language_info": {
   "codemirror_mode": {
    "name": "ipython",
    "version": 3
   },
   "file_extension": ".py",
   "mimetype": "text/x-python",
   "name": "python",
   "nbconvert_exporter": "python",
   "pygments_lexer": "ipython3",
   "version": "3.9.13"
  },
  "orig_nbformat": 4
 },
 "nbformat": 4,
 "nbformat_minor": 2
}
