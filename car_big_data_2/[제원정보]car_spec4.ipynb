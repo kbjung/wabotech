{
 "cells": [
  {
   "cell_type": "markdown",
   "metadata": {},
   "source": [
    "# [제원정보]4등급 차량"
   ]
  },
  {
   "cell_type": "markdown",
   "metadata": {},
   "source": [
    "## Library"
   ]
  },
  {
   "cell_type": "code",
   "execution_count": 2,
   "metadata": {},
   "outputs": [],
   "source": [
    "from tqdm import tqdm\n",
    "import numpy as np\n",
    "import re"
   ]
  },
  {
   "cell_type": "code",
   "execution_count": 3,
   "metadata": {},
   "outputs": [],
   "source": [
    "import pandas as pd"
   ]
  },
  {
   "cell_type": "markdown",
   "metadata": {},
   "source": [
    "## data load"
   ]
  },
  {
   "cell_type": "code",
   "execution_count": 4,
   "metadata": {},
   "outputs": [
    {
     "data": {
      "text/html": [
       "<div>\n",
       "<style scoped>\n",
       "    .dataframe tbody tr th:only-of-type {\n",
       "        vertical-align: middle;\n",
       "    }\n",
       "\n",
       "    .dataframe tbody tr th {\n",
       "        vertical-align: top;\n",
       "    }\n",
       "\n",
       "    .dataframe thead th {\n",
       "        text-align: right;\n",
       "    }\n",
       "</style>\n",
       "<table border=\"1\" class=\"dataframe\">\n",
       "  <thead>\n",
       "    <tr style=\"text-align: right;\">\n",
       "      <th></th>\n",
       "      <th>차량관리번호</th>\n",
       "      <th>차량등록번호</th>\n",
       "      <th>본거지법정동코드</th>\n",
       "      <th>소유자구분</th>\n",
       "      <th>차종_등록정보</th>\n",
       "      <th>용도</th>\n",
       "      <th>차대번호</th>\n",
       "      <th>최초등록일자</th>\n",
       "      <th>차량연식</th>\n",
       "      <th>차량제작일자</th>\n",
       "      <th>...</th>\n",
       "      <th>배기량</th>\n",
       "      <th>승차인원</th>\n",
       "      <th>차량길이</th>\n",
       "      <th>차량너비</th>\n",
       "      <th>차량높이</th>\n",
       "      <th>원산지명</th>\n",
       "      <th>삭제YN</th>\n",
       "      <th>제원승인일자</th>\n",
       "      <th>구동형식</th>\n",
       "      <th>변속기종류</th>\n",
       "    </tr>\n",
       "  </thead>\n",
       "  <tbody>\n",
       "  </tbody>\n",
       "</table>\n",
       "<p>0 rows × 40 columns</p>\n",
       "</div>"
      ],
      "text/plain": [
       "Empty DataFrame\n",
       "Columns: [차량관리번호, 차량등록번호, 본거지법정동코드, 소유자구분, 차종_등록정보, 용도, 차대번호, 최초등록일자, 차량연식, 차량제작일자, 검사유효일, 제원관리번호, 배출가스인증번호, 배출가스등급, 저공해조치종류, 저공해조치구조변경YN, 차량말소YN, 취득일자, 취득금액, 차명, 차종_제원정보, 차종분류, 차종유형, 자동차형식, 제작사명, 연료, 엔진형식, 총중량, 적재중량, 엔진출력, 배기량, 승차인원, 차량길이, 차량너비, 차량높이, 원산지명, 삭제YN, 제원승인일자, 구동형식, 변속기종류]\n",
       "Index: []\n",
       "\n",
       "[0 rows x 40 columns]"
      ]
     },
     "execution_count": 4,
     "metadata": {},
     "output_type": "execute_result"
    }
   ],
   "source": [
    "col = pd.read_table('data/컬럼명.txt', sep=',')\n",
    "col"
   ]
  },
  {
   "cell_type": "code",
   "execution_count": 1,
   "metadata": {},
   "outputs": [
    {
     "ename": "NameError",
     "evalue": "name 'col' is not defined",
     "output_type": "error",
     "traceback": [
      "\u001b[1;31m---------------------------------------------------------------------------\u001b[0m",
      "\u001b[1;31mNameError\u001b[0m                                 Traceback (most recent call last)",
      "\u001b[1;32m~\\AppData\\Local\\Temp\\ipykernel_15548\\533775807.py\u001b[0m in \u001b[0;36m<module>\u001b[1;34m\u001b[0m\n\u001b[1;32m----> 1\u001b[1;33m \u001b[0mcol\u001b[0m\u001b[1;33m.\u001b[0m\u001b[0mcolumns\u001b[0m\u001b[1;33m\u001b[0m\u001b[1;33m\u001b[0m\u001b[0m\n\u001b[0m",
      "\u001b[1;31mNameError\u001b[0m: name 'col' is not defined"
     ]
    }
   ],
   "source": [
    "col.columns"
   ]
  },
  {
   "cell_type": "code",
   "execution_count": 6,
   "metadata": {},
   "outputs": [
    {
     "name": "stderr",
     "output_type": "stream",
     "text": [
      "C:\\Users\\kbj\\AppData\\Local\\Temp\\ipykernel_13928\\2626983995.py:2: DtypeWarning: Columns (14,17,29,37,38) have mixed types. Specify dtype option on import or set low_memory=False.\n",
      "  df = pd.read_table('data/220819_22.06월기준_4등급.txt', encoding='cp949', header=40, names=col.columns)\n"
     ]
    },
    {
     "name": "stdout",
     "output_type": "stream",
     "text": [
      "<class 'pandas.core.frame.DataFrame'>\n",
      "RangeIndex: 1528586 entries, 0 to 1528585\n",
      "Data columns (total 40 columns):\n",
      " #   Column       Non-Null Count    Dtype  \n",
      "---  ------       --------------    -----  \n",
      " 0   차량관리번호       1528586 non-null  object \n",
      " 1   차량등록번호       1528586 non-null  object \n",
      " 2   본거지법정동코드     1528586 non-null  int64  \n",
      " 3   소유자구분        1528586 non-null  object \n",
      " 4   차종_등록정보      1528584 non-null  object \n",
      " 5   용도           1528586 non-null  object \n",
      " 6   차대번호         1528586 non-null  object \n",
      " 7   최초등록일자       1528586 non-null  int64  \n",
      " 8   차량연식         1528586 non-null  int64  \n",
      " 9   차량제작일자       1358925 non-null  float64\n",
      " 10  검사유효일        1528574 non-null  float64\n",
      " 11  제원관리번호       1528586 non-null  object \n",
      " 12  배출가스인증번호     1405585 non-null  object \n",
      " 13  배출가스등급       1528586 non-null  int64  \n",
      " 14  저공해조치종류      195 non-null      object \n",
      " 15  저공해조치구조변경YN  1528586 non-null  object \n",
      " 16  차량말소YN       1528586 non-null  object \n",
      " 17  취득일자         1435514 non-null  object \n",
      " 18  취득금액         1453613 non-null  float64\n",
      " 19  차명           1528586 non-null  object \n",
      " 20  차종_제원정보      1528586 non-null  object \n",
      " 21  차종분류         1528586 non-null  object \n",
      " 22  차종유형         1528586 non-null  object \n",
      " 23  자동차형식        1528302 non-null  object \n",
      " 24  제작사명         1518694 non-null  object \n",
      " 25  연료           1528586 non-null  object \n",
      " 26  엔진형식         1526740 non-null  object \n",
      " 27  총중량          1528585 non-null  float64\n",
      " 28  적재중량         1528075 non-null  float64\n",
      " 29  엔진출력         1528227 non-null  object \n",
      " 30  배기량          1528582 non-null  float64\n",
      " 31  승차인원         1528586 non-null  int64  \n",
      " 32  차량길이         1528585 non-null  float64\n",
      " 33  차량너비         1528585 non-null  float64\n",
      " 34  차량높이         1528583 non-null  float64\n",
      " 35  원산지명         1509499 non-null  object \n",
      " 36  삭제YN         1528586 non-null  object \n",
      " 37  제원승인일자       1528155 non-null  object \n",
      " 38  구동형식         41 non-null       object \n",
      " 39  변속기종류        1528426 non-null  object \n",
      "dtypes: float64(9), int64(5), object(26)\n",
      "memory usage: 466.5+ MB\n"
     ]
    }
   ],
   "source": [
    "# 23.4s\n",
    "df = pd.read_table('data/220819_22.06월기준_4등급.txt', encoding='cp949', header=40, names=col.columns)\n",
    "df.info()"
   ]
  },
  {
   "cell_type": "code",
   "execution_count": 7,
   "metadata": {},
   "outputs": [
    {
     "data": {
      "text/html": [
       "<div>\n",
       "<style scoped>\n",
       "    .dataframe tbody tr th:only-of-type {\n",
       "        vertical-align: middle;\n",
       "    }\n",
       "\n",
       "    .dataframe tbody tr th {\n",
       "        vertical-align: top;\n",
       "    }\n",
       "\n",
       "    .dataframe thead th {\n",
       "        text-align: right;\n",
       "    }\n",
       "</style>\n",
       "<table border=\"1\" class=\"dataframe\">\n",
       "  <thead>\n",
       "    <tr style=\"text-align: right;\">\n",
       "      <th></th>\n",
       "      <th>차량관리번호</th>\n",
       "      <th>차량등록번호</th>\n",
       "      <th>본거지법정동코드</th>\n",
       "      <th>소유자구분</th>\n",
       "      <th>차종_등록정보</th>\n",
       "      <th>용도</th>\n",
       "      <th>차대번호</th>\n",
       "      <th>최초등록일자</th>\n",
       "      <th>차량연식</th>\n",
       "      <th>차량제작일자</th>\n",
       "      <th>...</th>\n",
       "      <th>배기량</th>\n",
       "      <th>승차인원</th>\n",
       "      <th>차량길이</th>\n",
       "      <th>차량너비</th>\n",
       "      <th>차량높이</th>\n",
       "      <th>원산지명</th>\n",
       "      <th>삭제YN</th>\n",
       "      <th>제원승인일자</th>\n",
       "      <th>구동형식</th>\n",
       "      <th>변속기종류</th>\n",
       "    </tr>\n",
       "  </thead>\n",
       "  <tbody>\n",
       "    <tr>\n",
       "      <th>0</th>\n",
       "      <td>KMFZCY7JBCU784032-01</td>\n",
       "      <td>97구4490</td>\n",
       "      <td>1144010700</td>\n",
       "      <td>법인</td>\n",
       "      <td>화물</td>\n",
       "      <td>자가용</td>\n",
       "      <td>KMFZCY7JBCU784032</td>\n",
       "      <td>20110817</td>\n",
       "      <td>2012</td>\n",
       "      <td>20110811.0</td>\n",
       "      <td>...</td>\n",
       "      <td>2497.0</td>\n",
       "      <td>6</td>\n",
       "      <td>5120.0</td>\n",
       "      <td>1740.0</td>\n",
       "      <td>1965.0</td>\n",
       "      <td>대한민국</td>\n",
       "      <td>N</td>\n",
       "      <td>20110524</td>\n",
       "      <td>NaN</td>\n",
       "      <td>자동</td>\n",
       "    </tr>\n",
       "    <tr>\n",
       "      <th>1</th>\n",
       "      <td>KMHJN81VP7U578447-01</td>\n",
       "      <td>11너2154</td>\n",
       "      <td>2650010100</td>\n",
       "      <td>주민</td>\n",
       "      <td>승용</td>\n",
       "      <td>자가용</td>\n",
       "      <td>KMHJN81VP7U578447</td>\n",
       "      <td>20070102</td>\n",
       "      <td>2007</td>\n",
       "      <td>20061104.0</td>\n",
       "      <td>...</td>\n",
       "      <td>1991.0</td>\n",
       "      <td>5</td>\n",
       "      <td>4325.0</td>\n",
       "      <td>1800.0</td>\n",
       "      <td>1680.0</td>\n",
       "      <td>대한민국</td>\n",
       "      <td>N</td>\n",
       "      <td>20060621</td>\n",
       "      <td>NaN</td>\n",
       "      <td>자동</td>\n",
       "    </tr>\n",
       "    <tr>\n",
       "      <th>2</th>\n",
       "      <td>KPACE4AB1AP070600-01</td>\n",
       "      <td>96어5714</td>\n",
       "      <td>4729025024</td>\n",
       "      <td>주민</td>\n",
       "      <td>화물</td>\n",
       "      <td>자가용</td>\n",
       "      <td>KPACE4AB1AP070600</td>\n",
       "      <td>20091221</td>\n",
       "      <td>2010</td>\n",
       "      <td>20091210.0</td>\n",
       "      <td>...</td>\n",
       "      <td>1998.0</td>\n",
       "      <td>5</td>\n",
       "      <td>4965.0</td>\n",
       "      <td>1900.0</td>\n",
       "      <td>1755.0</td>\n",
       "      <td>대한민국</td>\n",
       "      <td>N</td>\n",
       "      <td>20090513</td>\n",
       "      <td>NaN</td>\n",
       "      <td>자동</td>\n",
       "    </tr>\n",
       "    <tr>\n",
       "      <th>3</th>\n",
       "      <td>KMHNU81WP7U009391-01</td>\n",
       "      <td>11가1154</td>\n",
       "      <td>4117110100</td>\n",
       "      <td>사업자</td>\n",
       "      <td>승용</td>\n",
       "      <td>자가용</td>\n",
       "      <td>KMHNU81WP7U009391</td>\n",
       "      <td>20070212</td>\n",
       "      <td>2007</td>\n",
       "      <td>20070207.0</td>\n",
       "      <td>...</td>\n",
       "      <td>2959.0</td>\n",
       "      <td>7</td>\n",
       "      <td>4840.0</td>\n",
       "      <td>1970.0</td>\n",
       "      <td>1805.0</td>\n",
       "      <td>대한민국</td>\n",
       "      <td>N</td>\n",
       "      <td>20060821</td>\n",
       "      <td>NaN</td>\n",
       "      <td>자동</td>\n",
       "    </tr>\n",
       "    <tr>\n",
       "      <th>4</th>\n",
       "      <td>KMHDT41TP9U638425-01</td>\n",
       "      <td>22보7099</td>\n",
       "      <td>4711331026</td>\n",
       "      <td>주민</td>\n",
       "      <td>승용</td>\n",
       "      <td>자가용</td>\n",
       "      <td>KMHDT41TP9U638425</td>\n",
       "      <td>20081128</td>\n",
       "      <td>2009</td>\n",
       "      <td>20081123.0</td>\n",
       "      <td>...</td>\n",
       "      <td>1582.0</td>\n",
       "      <td>5</td>\n",
       "      <td>4505.0</td>\n",
       "      <td>1775.0</td>\n",
       "      <td>1480.0</td>\n",
       "      <td>대한민국</td>\n",
       "      <td>N</td>\n",
       "      <td>20080729</td>\n",
       "      <td>NaN</td>\n",
       "      <td>수동</td>\n",
       "    </tr>\n",
       "  </tbody>\n",
       "</table>\n",
       "<p>5 rows × 40 columns</p>\n",
       "</div>"
      ],
      "text/plain": [
       "                 차량관리번호   차량등록번호    본거지법정동코드 소유자구분 차종_등록정보   용도  \\\n",
       "0  KMFZCY7JBCU784032-01  97구4490  1144010700    법인      화물  자가용   \n",
       "1  KMHJN81VP7U578447-01  11너2154  2650010100    주민      승용  자가용   \n",
       "2  KPACE4AB1AP070600-01  96어5714  4729025024    주민      화물  자가용   \n",
       "3  KMHNU81WP7U009391-01  11가1154  4117110100   사업자      승용  자가용   \n",
       "4  KMHDT41TP9U638425-01  22보7099  4711331026    주민      승용  자가용   \n",
       "\n",
       "                차대번호    최초등록일자  차량연식      차량제작일자  ...     배기량 승차인원    차량길이  \\\n",
       "0  KMFZCY7JBCU784032  20110817  2012  20110811.0  ...  2497.0    6  5120.0   \n",
       "1  KMHJN81VP7U578447  20070102  2007  20061104.0  ...  1991.0    5  4325.0   \n",
       "2  KPACE4AB1AP070600  20091221  2010  20091210.0  ...  1998.0    5  4965.0   \n",
       "3  KMHNU81WP7U009391  20070212  2007  20070207.0  ...  2959.0    7  4840.0   \n",
       "4  KMHDT41TP9U638425  20081128  2009  20081123.0  ...  1582.0    5  4505.0   \n",
       "\n",
       "     차량너비    차량높이  원산지명 삭제YN    제원승인일자  구동형식 변속기종류  \n",
       "0  1740.0  1965.0  대한민국    N  20110524   NaN    자동  \n",
       "1  1800.0  1680.0  대한민국    N  20060621   NaN    자동  \n",
       "2  1900.0  1755.0  대한민국    N  20090513   NaN    자동  \n",
       "3  1970.0  1805.0  대한민국    N  20060821   NaN    자동  \n",
       "4  1775.0  1480.0  대한민국    N  20080729   NaN    수동  \n",
       "\n",
       "[5 rows x 40 columns]"
      ]
     },
     "execution_count": 7,
     "metadata": {},
     "output_type": "execute_result"
    }
   ],
   "source": [
    "df.head()"
   ]
  },
  {
   "cell_type": "markdown",
   "metadata": {},
   "source": [
    "### [출력]기본 파일 csv로 출력"
   ]
  },
  {
   "cell_type": "code",
   "execution_count": 8,
   "metadata": {},
   "outputs": [],
   "source": [
    "# # 34.6s\n",
    "# df.to_csv('data/220819_22.06월기준_4등급.csv', encoding='cp949')"
   ]
  },
  {
   "cell_type": "markdown",
   "metadata": {},
   "source": [
    "### [로드]파일"
   ]
  },
  {
   "cell_type": "code",
   "execution_count": 4,
   "metadata": {},
   "outputs": [
    {
     "name": "stderr",
     "output_type": "stream",
     "text": [
      "C:\\Users\\kbj\\AppData\\Local\\Temp\\ipykernel_15548\\4060601969.py:2: DtypeWarning: Columns (15,18,30,38,39) have mixed types. Specify dtype option on import or set low_memory=False.\n",
      "  df = pd.read_csv('data/220819_22.06월기준_4등급.csv', encoding='cp949', index_col=0)\n"
     ]
    },
    {
     "name": "stdout",
     "output_type": "stream",
     "text": [
      "<class 'pandas.core.frame.DataFrame'>\n",
      "Int64Index: 1528586 entries, 0 to 1528585\n",
      "Data columns (total 40 columns):\n",
      " #   Column       Non-Null Count    Dtype  \n",
      "---  ------       --------------    -----  \n",
      " 0   차량관리번호       1528586 non-null  object \n",
      " 1   차량등록번호       1528586 non-null  object \n",
      " 2   본거지법정동코드     1528586 non-null  int64  \n",
      " 3   소유자구분        1528586 non-null  object \n",
      " 4   차종_등록정보      1528584 non-null  object \n",
      " 5   용도           1528586 non-null  object \n",
      " 6   차대번호         1528586 non-null  object \n",
      " 7   최초등록일자       1528586 non-null  int64  \n",
      " 8   차량연식         1528586 non-null  int64  \n",
      " 9   차량제작일자       1358925 non-null  float64\n",
      " 10  검사유효일        1528574 non-null  float64\n",
      " 11  제원관리번호       1528586 non-null  object \n",
      " 12  배출가스인증번호     1405585 non-null  object \n",
      " 13  배출가스등급       1528586 non-null  int64  \n",
      " 14  저공해조치종류      195 non-null      object \n",
      " 15  저공해조치구조변경YN  1528586 non-null  object \n",
      " 16  차량말소YN       1528586 non-null  object \n",
      " 17  취득일자         1435514 non-null  object \n",
      " 18  취득금액         1453613 non-null  float64\n",
      " 19  차명           1528586 non-null  object \n",
      " 20  차종_제원정보      1528586 non-null  object \n",
      " 21  차종분류         1528586 non-null  object \n",
      " 22  차종유형         1528586 non-null  object \n",
      " 23  자동차형식        1528302 non-null  object \n",
      " 24  제작사명         1518694 non-null  object \n",
      " 25  연료           1528586 non-null  object \n",
      " 26  엔진형식         1526740 non-null  object \n",
      " 27  총중량          1528585 non-null  float64\n",
      " 28  적재중량         1528075 non-null  float64\n",
      " 29  엔진출력         1528227 non-null  object \n",
      " 30  배기량          1528582 non-null  float64\n",
      " 31  승차인원         1528586 non-null  int64  \n",
      " 32  차량길이         1528585 non-null  float64\n",
      " 33  차량너비         1528585 non-null  float64\n",
      " 34  차량높이         1528583 non-null  float64\n",
      " 35  원산지명         1509499 non-null  object \n",
      " 36  삭제YN         1528586 non-null  object \n",
      " 37  제원승인일자       1528155 non-null  object \n",
      " 38  구동형식         41 non-null       object \n",
      " 39  변속기종류        1528426 non-null  object \n",
      "dtypes: float64(9), int64(5), object(26)\n",
      "memory usage: 478.1+ MB\n"
     ]
    }
   ],
   "source": [
    "# 26.1s\n",
    "df = pd.read_csv('data/220819_22.06월기준_4등급.csv', encoding='cp949', index_col=0)\n",
    "df.info()"
   ]
  },
  {
   "attachments": {},
   "cell_type": "markdown",
   "metadata": {},
   "source": [
    "### 0\\. [e]차량관리번호"
   ]
  },
  {
   "cell_type": "code",
   "execution_count": null,
   "metadata": {},
   "outputs": [],
   "source": [
    "# - 오류\n",
    "#     - null 값 : 0\n",
    "#     - 영문과 숫자가 아닌 값 : 7038"
   ]
  },
  {
   "cell_type": "code",
   "execution_count": 10,
   "metadata": {},
   "outputs": [],
   "source": [
    "# 오류 값 예시\n",
    "# 19514    28-88-112-06218-01\n",
    "# 23971    11-94-112-09987다-01"
   ]
  },
  {
   "cell_type": "code",
   "execution_count": 5,
   "metadata": {},
   "outputs": [
    {
     "data": {
      "text/plain": [
       "0"
      ]
     },
     "execution_count": 5,
     "metadata": {},
     "output_type": "execute_result"
    }
   ],
   "source": [
    "df.iloc[:, 0].isnull().sum()"
   ]
  },
  {
   "cell_type": "code",
   "execution_count": 6,
   "metadata": {},
   "outputs": [
    {
     "data": {
      "text/plain": [
       "KMFZCY7JBCU784032-01    1\n",
       "KMHSH81VP9U467470-01    1\n",
       "KNAGA2263NA273801-01    1\n",
       "KNCSJX74BBK577862-01    1\n",
       "KNADG414AAS597155-01    1\n",
       "                       ..\n",
       "KNAFA2223PA131127-01    1\n",
       "KPACA4AB1BP099521-01    1\n",
       "KNCSJZ74BBK571321-01    1\n",
       "KNAGA2223MA251640-01    1\n",
       "KNME5C2MM8P008790-01    1\n",
       "Name: 차량관리번호, Length: 1528586, dtype: int64"
      ]
     },
     "execution_count": 6,
     "metadata": {},
     "output_type": "execute_result"
    }
   ],
   "source": [
    "df.iloc[:, 0].value_counts()"
   ]
  },
  {
   "cell_type": "code",
   "execution_count": 7,
   "metadata": {},
   "outputs": [
    {
     "data": {
      "text/html": [
       "<div>\n",
       "<style scoped>\n",
       "    .dataframe tbody tr th:only-of-type {\n",
       "        vertical-align: middle;\n",
       "    }\n",
       "\n",
       "    .dataframe tbody tr th {\n",
       "        vertical-align: top;\n",
       "    }\n",
       "\n",
       "    .dataframe thead th {\n",
       "        text-align: right;\n",
       "    }\n",
       "</style>\n",
       "<table border=\"1\" class=\"dataframe\">\n",
       "  <thead>\n",
       "    <tr style=\"text-align: right;\">\n",
       "      <th></th>\n",
       "      <th>차량관리번호</th>\n",
       "      <th>차대번호</th>\n",
       "    </tr>\n",
       "  </thead>\n",
       "  <tbody>\n",
       "    <tr>\n",
       "      <th>0</th>\n",
       "      <td>KMFZCY7JBCU784032-01</td>\n",
       "      <td>KMFZCY7JBCU784032</td>\n",
       "    </tr>\n",
       "    <tr>\n",
       "      <th>1</th>\n",
       "      <td>KMHJN81VP7U578447-01</td>\n",
       "      <td>KMHJN81VP7U578447</td>\n",
       "    </tr>\n",
       "    <tr>\n",
       "      <th>2</th>\n",
       "      <td>KPACE4AB1AP070600-01</td>\n",
       "      <td>KPACE4AB1AP070600</td>\n",
       "    </tr>\n",
       "    <tr>\n",
       "      <th>3</th>\n",
       "      <td>KMHNU81WP7U009391-01</td>\n",
       "      <td>KMHNU81WP7U009391</td>\n",
       "    </tr>\n",
       "    <tr>\n",
       "      <th>4</th>\n",
       "      <td>KMHDT41TP9U638425-01</td>\n",
       "      <td>KMHDT41TP9U638425</td>\n",
       "    </tr>\n",
       "  </tbody>\n",
       "</table>\n",
       "</div>"
      ],
      "text/plain": [
       "                 차량관리번호               차대번호\n",
       "0  KMFZCY7JBCU784032-01  KMFZCY7JBCU784032\n",
       "1  KMHJN81VP7U578447-01  KMHJN81VP7U578447\n",
       "2  KPACE4AB1AP070600-01  KPACE4AB1AP070600\n",
       "3  KMHNU81WP7U009391-01  KMHNU81WP7U009391\n",
       "4  KMHDT41TP9U638425-01  KMHDT41TP9U638425"
      ]
     },
     "execution_count": 7,
     "metadata": {},
     "output_type": "execute_result"
    }
   ],
   "source": [
    "df.iloc[:5, [0, 6]]"
   ]
  },
  {
   "cell_type": "code",
   "execution_count": 8,
   "metadata": {},
   "outputs": [
    {
     "name": "stderr",
     "output_type": "stream",
     "text": [
      "1528586it [00:01, 1418034.33it/s]\n"
     ]
    },
    {
     "data": {
      "text/plain": [
       "7096"
      ]
     },
     "execution_count": 8,
     "metadata": {},
     "output_type": "execute_result"
    }
   ],
   "source": [
    "count = 0\n",
    "p01 = re.compile('\\w+[-]\\d+')\n",
    "idx01 = []\n",
    "for i, one in tqdm(enumerate(df.iloc[:, 0].to_numpy())):\n",
    "    temp = one.split('-')\n",
    "    if len(temp) != 2 and str(one).count('-') != 1:\n",
    "        idx01.append(i)\n",
    "        count += 1\n",
    "count"
   ]
  },
  {
   "cell_type": "code",
   "execution_count": 9,
   "metadata": {},
   "outputs": [
    {
     "data": {
      "text/plain": [
       "[396, 586, 700, 821, 1227]"
      ]
     },
     "execution_count": 9,
     "metadata": {},
     "output_type": "execute_result"
    }
   ],
   "source": [
    "idx01[:5]"
   ]
  },
  {
   "cell_type": "code",
   "execution_count": 11,
   "metadata": {},
   "outputs": [
    {
     "data": {
      "text/plain": [
       "<re.Match object; span=(0, 5), match='28-88'>"
      ]
     },
     "execution_count": 11,
     "metadata": {},
     "output_type": "execute_result"
    }
   ],
   "source": [
    "p01.search('28-88-112-06218-01')"
   ]
  },
  {
   "cell_type": "code",
   "execution_count": 12,
   "metadata": {},
   "outputs": [
    {
     "data": {
      "text/plain": [
       "4"
      ]
     },
     "execution_count": 12,
     "metadata": {},
     "output_type": "execute_result"
    }
   ],
   "source": [
    "'28-88-112-06218-01'.count('-')"
   ]
  },
  {
   "cell_type": "code",
   "execution_count": 13,
   "metadata": {},
   "outputs": [
    {
     "data": {
      "text/html": [
       "<div>\n",
       "<style scoped>\n",
       "    .dataframe tbody tr th:only-of-type {\n",
       "        vertical-align: middle;\n",
       "    }\n",
       "\n",
       "    .dataframe tbody tr th {\n",
       "        vertical-align: top;\n",
       "    }\n",
       "\n",
       "    .dataframe thead th {\n",
       "        text-align: right;\n",
       "    }\n",
       "</style>\n",
       "<table border=\"1\" class=\"dataframe\">\n",
       "  <thead>\n",
       "    <tr style=\"text-align: right;\">\n",
       "      <th></th>\n",
       "      <th>차량관리번호</th>\n",
       "      <th>차량등록번호</th>\n",
       "      <th>차대번호</th>\n",
       "    </tr>\n",
       "  </thead>\n",
       "  <tbody>\n",
       "    <tr>\n",
       "      <th>396</th>\n",
       "      <td>1199서울4브2371</td>\n",
       "      <td>서울4브2371</td>\n",
       "      <td>KMHNF31TPMU075332</td>\n",
       "    </tr>\n",
       "    <tr>\n",
       "      <th>586</th>\n",
       "      <td>4599전북1우1923</td>\n",
       "      <td>전북1우1923</td>\n",
       "      <td>KMHBF21DPLU195430</td>\n",
       "    </tr>\n",
       "    <tr>\n",
       "      <th>700</th>\n",
       "      <td>1199서울1즈5001</td>\n",
       "      <td>서울1즈5001</td>\n",
       "      <td>KNAGB2223MA603865</td>\n",
       "    </tr>\n",
       "    <tr>\n",
       "      <th>821</th>\n",
       "      <td>2799대구4수5818</td>\n",
       "      <td>대구4수5818</td>\n",
       "      <td>KNAGB2212KS206153</td>\n",
       "    </tr>\n",
       "    <tr>\n",
       "      <th>1227</th>\n",
       "      <td>4199경기59너9481</td>\n",
       "      <td>경기59너9481</td>\n",
       "      <td>KNAGC2232VA253756</td>\n",
       "    </tr>\n",
       "  </tbody>\n",
       "</table>\n",
       "</div>"
      ],
      "text/plain": [
       "             차량관리번호     차량등록번호               차대번호\n",
       "396    1199서울4브2371   서울4브2371  KMHNF31TPMU075332\n",
       "586    4599전북1우1923   전북1우1923  KMHBF21DPLU195430\n",
       "700    1199서울1즈5001   서울1즈5001  KNAGB2223MA603865\n",
       "821    2799대구4수5818   대구4수5818  KNAGB2212KS206153\n",
       "1227  4199경기59너9481  경기59너9481  KNAGC2232VA253756"
      ]
     },
     "execution_count": 13,
     "metadata": {},
     "output_type": "execute_result"
    }
   ],
   "source": [
    "temp = df[['차량관리번호', '차량등록번호', '차대번호']].reindex(idx01)\n",
    "temp.head()"
   ]
  },
  {
   "cell_type": "code",
   "execution_count": 14,
   "metadata": {},
   "outputs": [
    {
     "data": {
      "text/html": [
       "<div>\n",
       "<style scoped>\n",
       "    .dataframe tbody tr th:only-of-type {\n",
       "        vertical-align: middle;\n",
       "    }\n",
       "\n",
       "    .dataframe tbody tr th {\n",
       "        vertical-align: top;\n",
       "    }\n",
       "\n",
       "    .dataframe thead th {\n",
       "        text-align: right;\n",
       "    }\n",
       "</style>\n",
       "<table border=\"1\" class=\"dataframe\">\n",
       "  <thead>\n",
       "    <tr style=\"text-align: right;\">\n",
       "      <th></th>\n",
       "      <th>차량관리번호</th>\n",
       "      <th>차량등록번호</th>\n",
       "      <th>차대번호</th>\n",
       "    </tr>\n",
       "  </thead>\n",
       "  <tbody>\n",
       "    <tr>\n",
       "      <th>1527680</th>\n",
       "      <td>1199서울52마5593</td>\n",
       "      <td>서울52마5593</td>\n",
       "      <td>KLAWA19B1SB513723</td>\n",
       "    </tr>\n",
       "    <tr>\n",
       "      <th>1527890</th>\n",
       "      <td>4199경기3노8469</td>\n",
       "      <td>경기3노8469</td>\n",
       "      <td>KNADA2422LS574822</td>\n",
       "    </tr>\n",
       "    <tr>\n",
       "      <th>1528062</th>\n",
       "      <td>3099대전1므5676</td>\n",
       "      <td>대전1므5676</td>\n",
       "      <td>KMHBF31FPKU045797</td>\n",
       "    </tr>\n",
       "    <tr>\n",
       "      <th>1528409</th>\n",
       "      <td>1199서울2두4957</td>\n",
       "      <td>서울2두4957</td>\n",
       "      <td>KNADA2322JS058424</td>\n",
       "    </tr>\n",
       "    <tr>\n",
       "      <th>1528555</th>\n",
       "      <td>4499충남1고3267</td>\n",
       "      <td>충남1고3267</td>\n",
       "      <td>KMHSF21APKU344288</td>\n",
       "    </tr>\n",
       "  </tbody>\n",
       "</table>\n",
       "</div>"
      ],
      "text/plain": [
       "                차량관리번호     차량등록번호               차대번호\n",
       "1527680  1199서울52마5593  서울52마5593  KLAWA19B1SB513723\n",
       "1527890   4199경기3노8469   경기3노8469  KNADA2422LS574822\n",
       "1528062   3099대전1므5676   대전1므5676  KMHBF31FPKU045797\n",
       "1528409   1199서울2두4957   서울2두4957  KNADA2322JS058424\n",
       "1528555   4499충남1고3267   충남1고3267  KMHSF21APKU344288"
      ]
     },
     "execution_count": 14,
     "metadata": {},
     "output_type": "execute_result"
    }
   ],
   "source": [
    "temp.tail()"
   ]
  },
  {
   "cell_type": "code",
   "execution_count": 15,
   "metadata": {},
   "outputs": [
    {
     "data": {
      "text/plain": [
       "7096"
      ]
     },
     "execution_count": 15,
     "metadata": {},
     "output_type": "execute_result"
    }
   ],
   "source": [
    "len(temp)"
   ]
  },
  {
   "cell_type": "code",
   "execution_count": 16,
   "metadata": {},
   "outputs": [
    {
     "name": "stderr",
     "output_type": "stream",
     "text": [
      "7096it [00:00, 591070.84it/s]\n"
     ]
    }
   ],
   "source": [
    "# 정상 차량관리번호가 아닌 데이터 중 차대번호가 숫자로만 이루어진 데이터 추출\n",
    "p02 = re.compile('\\D+')\n",
    "idx02 = []\n",
    "for i, one in tqdm(enumerate(temp['차대번호'])):\n",
    "    if not p02.search(str(one)):\n",
    "        idx02.append(temp.index[i])"
   ]
  },
  {
   "cell_type": "code",
   "execution_count": 17,
   "metadata": {},
   "outputs": [
    {
     "data": {
      "text/html": [
       "<div>\n",
       "<style scoped>\n",
       "    .dataframe tbody tr th:only-of-type {\n",
       "        vertical-align: middle;\n",
       "    }\n",
       "\n",
       "    .dataframe tbody tr th {\n",
       "        vertical-align: top;\n",
       "    }\n",
       "\n",
       "    .dataframe thead th {\n",
       "        text-align: right;\n",
       "    }\n",
       "</style>\n",
       "<table border=\"1\" class=\"dataframe\">\n",
       "  <thead>\n",
       "    <tr style=\"text-align: right;\">\n",
       "      <th></th>\n",
       "      <th>차량관리번호</th>\n",
       "      <th>차량등록번호</th>\n",
       "      <th>차대번호</th>\n",
       "    </tr>\n",
       "  </thead>\n",
       "  <tbody>\n",
       "    <tr>\n",
       "      <th>10938</th>\n",
       "      <td>309907두3770</td>\n",
       "      <td>07두3770</td>\n",
       "      <td>119213302831</td>\n",
       "    </tr>\n",
       "    <tr>\n",
       "      <th>11507</th>\n",
       "      <td>419946도2120</td>\n",
       "      <td>46도2120</td>\n",
       "      <td>119911326351</td>\n",
       "    </tr>\n",
       "    <tr>\n",
       "      <th>19254</th>\n",
       "      <td>4199경기34라1747</td>\n",
       "      <td>경기34라1747</td>\n",
       "      <td>119311204514</td>\n",
       "    </tr>\n",
       "    <tr>\n",
       "      <th>21885</th>\n",
       "      <td>1199서울51도2598</td>\n",
       "      <td>서울51도2598</td>\n",
       "      <td>119213302811</td>\n",
       "    </tr>\n",
       "    <tr>\n",
       "      <th>25234</th>\n",
       "      <td>309901러5898</td>\n",
       "      <td>01러5898</td>\n",
       "      <td>119511213449</td>\n",
       "    </tr>\n",
       "    <tr>\n",
       "      <th>...</th>\n",
       "      <td>...</td>\n",
       "      <td>...</td>\n",
       "      <td>...</td>\n",
       "    </tr>\n",
       "    <tr>\n",
       "      <th>1467961</th>\n",
       "      <td>119904모6103</td>\n",
       "      <td>04모6103</td>\n",
       "      <td>119411207591</td>\n",
       "    </tr>\n",
       "    <tr>\n",
       "      <th>1477471</th>\n",
       "      <td>119902도1045</td>\n",
       "      <td>01무6006</td>\n",
       "      <td>419511298223</td>\n",
       "    </tr>\n",
       "    <tr>\n",
       "      <th>1503302</th>\n",
       "      <td>119901마8588</td>\n",
       "      <td>01마8588</td>\n",
       "      <td>419811337474</td>\n",
       "    </tr>\n",
       "    <tr>\n",
       "      <th>1503754</th>\n",
       "      <td>279921두2224</td>\n",
       "      <td>21두2224</td>\n",
       "      <td>119213300916</td>\n",
       "    </tr>\n",
       "    <tr>\n",
       "      <th>1516650</th>\n",
       "      <td>439906마8829</td>\n",
       "      <td>06마8829</td>\n",
       "      <td>119611325740</td>\n",
       "    </tr>\n",
       "  </tbody>\n",
       "</table>\n",
       "<p>132 rows × 3 columns</p>\n",
       "</div>"
      ],
      "text/plain": [
       "                차량관리번호     차량등록번호          차대번호\n",
       "10938      309907두3770    07두3770  119213302831\n",
       "11507      419946도2120    46도2120  119911326351\n",
       "19254    4199경기34라1747  경기34라1747  119311204514\n",
       "21885    1199서울51도2598  서울51도2598  119213302811\n",
       "25234      309901러5898    01러5898  119511213449\n",
       "...                ...        ...           ...\n",
       "1467961    119904모6103    04모6103  119411207591\n",
       "1477471    119902도1045    01무6006  419511298223\n",
       "1503302    119901마8588    01마8588  419811337474\n",
       "1503754    279921두2224    21두2224  119213300916\n",
       "1516650    439906마8829    06마8829  119611325740\n",
       "\n",
       "[132 rows x 3 columns]"
      ]
     },
     "execution_count": 17,
     "metadata": {},
     "output_type": "execute_result"
    }
   ],
   "source": [
    "df[['차량관리번호', '차량등록번호', '차대번호']].reindex(idx02)"
   ]
  },
  {
   "cell_type": "code",
   "execution_count": null,
   "metadata": {},
   "outputs": [],
   "source": [
    "n = 0\n",
    "for i, one in enumerate(df['차량관리번호']):\n",
    "    if len(one.split('-')) > 2 and n < 2:\n",
    "        print(i, one)\n",
    "        n += 1"
   ]
  },
  {
   "cell_type": "code",
   "execution_count": null,
   "metadata": {},
   "outputs": [],
   "source": [
    "# 바('-')가 2개 이상 있는 샘플\n",
    "count = 0\n",
    "idx03 = []\n",
    "for i, one in enumerate(df['차량관리번호']):\n",
    "    if len(one.split('-')) > 2:\n",
    "        idx03.append(i)\n",
    "        count += 1\n",
    "count"
   ]
  },
  {
   "cell_type": "code",
   "execution_count": null,
   "metadata": {},
   "outputs": [],
   "source": [
    "df.loc[idx03[:5], ['차량관리번호', '차량등록번호', '차대번호'] ]"
   ]
  },
  {
   "cell_type": "markdown",
   "metadata": {},
   "source": [
    "#### [출력]차량관리번호 오류 값의 차대번호"
   ]
  },
  {
   "cell_type": "code",
   "execution_count": 19,
   "metadata": {},
   "outputs": [],
   "source": [
    "# temp.to_csv('analysis/[차량관리번호]오류샘플의_차대번호.csv', encoding='cp949')"
   ]
  },
  {
   "cell_type": "code",
   "execution_count": 20,
   "metadata": {},
   "outputs": [
    {
     "data": {
      "text/plain": [
       "1"
      ]
     },
     "execution_count": 20,
     "metadata": {},
     "output_type": "execute_result"
    }
   ],
   "source": [
    "len('439906마8829'.split('-'))"
   ]
  },
  {
   "cell_type": "markdown",
   "metadata": {},
   "source": [
    "#### 차량관리번호 뒷번호 확인"
   ]
  },
  {
   "cell_type": "code",
   "execution_count": 21,
   "metadata": {},
   "outputs": [
    {
     "name": "stderr",
     "output_type": "stream",
     "text": [
      "1528586it [00:01, 887040.55it/s]\n"
     ]
    }
   ],
   "source": [
    "num_list = []\n",
    "rest_list = []\n",
    "for i, one in tqdm(enumerate(df.iloc[:, 0])):\n",
    "    temp = str(one).split('-')\n",
    "    if len(temp) == 2:\n",
    "        num_list.append(temp[-1])\n",
    "    else:\n",
    "        num_list.append(np.nan)\n",
    "        rest_list.append(i)"
   ]
  },
  {
   "cell_type": "code",
   "execution_count": 22,
   "metadata": {},
   "outputs": [
    {
     "data": {
      "text/plain": [
       "7096"
      ]
     },
     "execution_count": 22,
     "metadata": {},
     "output_type": "execute_result"
    }
   ],
   "source": [
    "len(rest_list)"
   ]
  },
  {
   "cell_type": "code",
   "execution_count": 23,
   "metadata": {},
   "outputs": [
    {
     "data": {
      "text/plain": [
       "6964"
      ]
     },
     "execution_count": 23,
     "metadata": {},
     "output_type": "execute_result"
    }
   ],
   "source": [
    "# 뒷번호 나머지에서 차량관리번호 오류 값 제거\n",
    "len(set(rest_list) - set(idx02))"
   ]
  },
  {
   "cell_type": "code",
   "execution_count": 24,
   "metadata": {},
   "outputs": [
    {
     "data": {
      "text/plain": [
       "5"
      ]
     },
     "execution_count": 24,
     "metadata": {},
     "output_type": "execute_result"
    }
   ],
   "source": [
    "len(set(num_list))"
   ]
  },
  {
   "cell_type": "code",
   "execution_count": 25,
   "metadata": {},
   "outputs": [
    {
     "data": {
      "text/plain": [
       "{'01', '02', '03', '05', nan}"
      ]
     },
     "execution_count": 25,
     "metadata": {},
     "output_type": "execute_result"
    }
   ],
   "source": [
    "set(num_list)"
   ]
  },
  {
   "cell_type": "code",
   "execution_count": 26,
   "metadata": {},
   "outputs": [
    {
     "data": {
      "text/plain": [
       "1528586"
      ]
     },
     "execution_count": 26,
     "metadata": {},
     "output_type": "execute_result"
    }
   ],
   "source": [
    "len(num_list)"
   ]
  },
  {
   "cell_type": "code",
   "execution_count": 27,
   "metadata": {},
   "outputs": [
    {
     "data": {
      "text/plain": [
       "1520309"
      ]
     },
     "execution_count": 27,
     "metadata": {},
     "output_type": "execute_result"
    }
   ],
   "source": [
    "num_list.count('01')"
   ]
  },
  {
   "cell_type": "code",
   "execution_count": 28,
   "metadata": {},
   "outputs": [
    {
     "data": {
      "text/plain": [
       "1146"
      ]
     },
     "execution_count": 28,
     "metadata": {},
     "output_type": "execute_result"
    }
   ],
   "source": [
    "num_list.count('02')"
   ]
  },
  {
   "cell_type": "code",
   "execution_count": 29,
   "metadata": {},
   "outputs": [
    {
     "data": {
      "text/plain": [
       "34"
      ]
     },
     "execution_count": 29,
     "metadata": {},
     "output_type": "execute_result"
    }
   ],
   "source": [
    "num_list.count('03')"
   ]
  },
  {
   "cell_type": "code",
   "execution_count": 30,
   "metadata": {},
   "outputs": [
    {
     "data": {
      "text/plain": [
       "1"
      ]
     },
     "execution_count": 30,
     "metadata": {},
     "output_type": "execute_result"
    }
   ],
   "source": [
    "num_list.count('05')"
   ]
  },
  {
   "cell_type": "code",
   "execution_count": 31,
   "metadata": {},
   "outputs": [
    {
     "name": "stdout",
     "output_type": "stream",
     "text": [
      "차량관리번호 \"-\" 뒤 숫자 :01\n",
      "예시)\n",
      "0    KMFZCY7JBCU784032-01\n",
      "1    KMHJN81VP7U578447-01\n",
      "2    KPACE4AB1AP070600-01\n",
      "Name: 차량관리번호, dtype: object\n",
      "\n",
      "차량관리번호 \"-\" 뒤 숫자 :02\n",
      "예시)\n",
      "201    KMHMF11FPVU173589-02\n",
      "712    KNAJH52339A041977-02\n",
      "845    KN17P23E5TK077638-02\n",
      "Name: 차량관리번호, dtype: object\n",
      "\n",
      "차량관리번호 \"-\" 뒤 숫자 :03\n",
      "예시)\n",
      "63591     KNADB2412VS582076-03\n",
      "98067     KMHEM41BP1A459662-03\n",
      "117838    KNHMB76136S011413-03\n",
      "Name: 차량관리번호, dtype: object\n",
      "\n",
      "차량관리번호 \"-\" 뒤 숫자 :05\n",
      "예시)\n",
      "551325    KNAGB2223PA670315-05\n",
      "Name: 차량관리번호, dtype: object\n",
      "\n"
     ]
    }
   ],
   "source": [
    "for n in ['01', '02', '03', '05']:\n",
    "    idx = []\n",
    "    for i, one in enumerate(df.iloc[:, 0].to_numpy()):\n",
    "        temp = str(one).split('-')\n",
    "        if len(temp) == 2 and temp[-1] == n:\n",
    "            idx.append(i)\n",
    "    print(f'차량관리번호 \"-\" 뒤 숫자 :{n}')\n",
    "    print('예시)')\n",
    "    print(df.iloc[idx[:3], 0])\n",
    "    print()"
   ]
  },
  {
   "cell_type": "code",
   "execution_count": 32,
   "metadata": {},
   "outputs": [
    {
     "name": "stdout",
     "output_type": "stream",
     "text": [
      "KMHMF11FPVU173589-02\n"
     ]
    }
   ],
   "source": [
    "for one in df.iloc[:, 0].to_numpy():\n",
    "    temp = one.split('-')\n",
    "    if len(temp) == 2:\n",
    "        if 'KMHMF11FPVU173589' in one:\n",
    "            print(one)"
   ]
  },
  {
   "cell_type": "code",
   "execution_count": 33,
   "metadata": {},
   "outputs": [
    {
     "name": "stdout",
     "output_type": "stream",
     "text": [
      "KNADB2412VS582076-03\n"
     ]
    }
   ],
   "source": [
    "for one in df.iloc[:, 0].to_numpy():\n",
    "    temp = one.split('-')\n",
    "    if len(temp) == 2:\n",
    "        if 'KNADB2412VS582076' in one:\n",
    "            print(one)"
   ]
  },
  {
   "cell_type": "code",
   "execution_count": 34,
   "metadata": {},
   "outputs": [
    {
     "name": "stdout",
     "output_type": "stream",
     "text": [
      "KNAJH52339A041977-02\n"
     ]
    }
   ],
   "source": [
    "for one in df.iloc[:, 0].to_numpy():\n",
    "    temp = one.split('-')\n",
    "    if len(temp) == 2:\n",
    "        if 'KNAJH52339A041977' in one:\n",
    "            print(one)"
   ]
  },
  {
   "cell_type": "code",
   "execution_count": 35,
   "metadata": {},
   "outputs": [
    {
     "name": "stdout",
     "output_type": "stream",
     "text": [
      "KNAGB2223PA670315-05\n"
     ]
    }
   ],
   "source": [
    "for one in df.iloc[:, 0].to_numpy():\n",
    "    temp = one.split('-')\n",
    "    if len(temp) == 2:\n",
    "        if 'KNAGB2223PA670315' in one:\n",
    "            print(one)"
   ]
  },
  {
   "cell_type": "code",
   "execution_count": 36,
   "metadata": {},
   "outputs": [],
   "source": [
    "# 71분이상 걸림\n",
    "# for i, one in enumerate(df.iloc[:, 0].to_numpy()):\n",
    "#     temp = str(one).split('-')\n",
    "#     n = 0\n",
    "#     if len(temp) == 2:\n",
    "#         for two in df.iloc[:, 0].to_numpy():\n",
    "#             if temp[0] in two:\n",
    "#                 n += 1\n",
    "#     if n >= 2:\n",
    "#         print(one)"
   ]
  },
  {
   "cell_type": "code",
   "execution_count": 37,
   "metadata": {},
   "outputs": [],
   "source": [
    "# KMHSJ81VP8U393036-01\n",
    "# VF30U9HZHBS004241-01"
   ]
  },
  {
   "cell_type": "markdown",
   "metadata": {},
   "source": [
    "##### 차량관리번호 앞번호(차대번호) 중복 여부 확인"
   ]
  },
  {
   "cell_type": "code",
   "execution_count": 38,
   "metadata": {},
   "outputs": [],
   "source": [
    "# 차량관리번호 앞번호(차대번호) 중복 여부 체크\n",
    "list03 = []\n",
    "idx03 = []\n",
    "for i, one in enumerate(df.iloc[:, 0].to_numpy()):\n",
    "    temp = str(one).split('-')\n",
    "    if len(temp) == 2:\n",
    "        list03.append(temp[0])\n",
    "        idx03.append(i)"
   ]
  },
  {
   "cell_type": "code",
   "execution_count": 39,
   "metadata": {},
   "outputs": [
    {
     "data": {
      "text/plain": [
       "([1, 2, 3], [1, 2])"
      ]
     },
     "execution_count": 39,
     "metadata": {},
     "output_type": "execute_result"
    }
   ],
   "source": [
    "a = [1, 2, 3]\n",
    "b = a.copy()\n",
    "b.remove(3)\n",
    "a, b"
   ]
  },
  {
   "cell_type": "code",
   "execution_count": 40,
   "metadata": {},
   "outputs": [],
   "source": [
    "dict03_1 = dict()\n",
    "for one in set(list03):\n",
    "    dict03_1[one] = 0"
   ]
  },
  {
   "cell_type": "code",
   "execution_count": 41,
   "metadata": {},
   "outputs": [
    {
     "data": {
      "text/plain": [
       "{1: 0, 2: 0, 3: 0, 4: 0, 5: 0}"
      ]
     },
     "execution_count": 41,
     "metadata": {},
     "output_type": "execute_result"
    }
   ],
   "source": [
    "test_list = [1, 2, 3, 2, 3, 3, 4, 5]\n",
    "test_dict = dict()\n",
    "for one in set(test_list):\n",
    "    test_dict[one] = 0\n",
    "test_dict"
   ]
  },
  {
   "cell_type": "code",
   "execution_count": 42,
   "metadata": {},
   "outputs": [
    {
     "data": {
      "text/plain": [
       "{1: 1, 2: 2, 3: 3, 4: 1, 5: 1}"
      ]
     },
     "execution_count": 42,
     "metadata": {},
     "output_type": "execute_result"
    }
   ],
   "source": [
    "for one in test_list:\n",
    "    test_dict[one] += 1\n",
    "test_dict"
   ]
  },
  {
   "cell_type": "code",
   "execution_count": 43,
   "metadata": {},
   "outputs": [],
   "source": [
    "for one in list03:\n",
    "    dict03_1[one] += 1"
   ]
  },
  {
   "cell_type": "code",
   "execution_count": 44,
   "metadata": {},
   "outputs": [
    {
     "data": {
      "text/plain": [
       "54"
      ]
     },
     "execution_count": 44,
     "metadata": {},
     "output_type": "execute_result"
    }
   ],
   "source": [
    "# 중복 앞번호 : 54 개\n",
    "keys = []\n",
    "for k, v in dict03_1.items():\n",
    "    if v >= 2:\n",
    "        keys.append(k)\n",
    "len(keys)"
   ]
  },
  {
   "cell_type": "code",
   "execution_count": 45,
   "metadata": {},
   "outputs": [
    {
     "data": {
      "text/plain": [
       "['KMFZCZ7JABU694641',\n",
       " 'KMHMF21FPPU018261',\n",
       " 'KMHSJ81UBAU597392',\n",
       " 'KMFZCX7JACU758469',\n",
       " 'KNCSHY74CBK563376']"
      ]
     },
     "execution_count": 45,
     "metadata": {},
     "output_type": "execute_result"
    }
   ],
   "source": [
    "keys[:5]"
   ]
  },
  {
   "cell_type": "code",
   "execution_count": 46,
   "metadata": {},
   "outputs": [
    {
     "data": {
      "text/plain": [
       "2"
      ]
     },
     "execution_count": 46,
     "metadata": {},
     "output_type": "execute_result"
    }
   ],
   "source": [
    "dict03_1['KMHJN81VP7U512177']"
   ]
  },
  {
   "cell_type": "code",
   "execution_count": 47,
   "metadata": {},
   "outputs": [],
   "source": [
    "keys = sorted(keys)"
   ]
  },
  {
   "cell_type": "code",
   "execution_count": 48,
   "metadata": {},
   "outputs": [
    {
     "data": {
      "text/plain": [
       "['1C3EW65G51V703776',\n",
       " '1GBEL19W3XB192382',\n",
       " 'KLACD26RD9B296846',\n",
       " 'KLASM69F1JB054053',\n",
       " 'KLATF19T1NB526286']"
      ]
     },
     "execution_count": 48,
     "metadata": {},
     "output_type": "execute_result"
    }
   ],
   "source": [
    "keys[:5]"
   ]
  },
  {
   "cell_type": "code",
   "execution_count": 49,
   "metadata": {},
   "outputs": [
    {
     "data": {
      "text/plain": [
       "1"
      ]
     },
     "execution_count": 49,
     "metadata": {},
     "output_type": "execute_result"
    }
   ],
   "source": [
    "a = [1, 2, 3, 2]\n",
    "a.index(2)"
   ]
  },
  {
   "cell_type": "code",
   "execution_count": 50,
   "metadata": {},
   "outputs": [],
   "source": [
    "# 13.7s\n",
    "# 중복 뒷번호 샘플 추출 : 108 개\n",
    "idx03_1 = []\n",
    "for k in keys:\n",
    "    for i, one in enumerate(df.iloc[:, 0].to_numpy()):\n",
    "        if k in one:\n",
    "            idx03_1.append(i)"
   ]
  },
  {
   "cell_type": "code",
   "execution_count": 51,
   "metadata": {},
   "outputs": [
    {
     "data": {
      "text/plain": [
       "108"
      ]
     },
     "execution_count": 51,
     "metadata": {},
     "output_type": "execute_result"
    }
   ],
   "source": [
    "len(idx03_1)"
   ]
  },
  {
   "cell_type": "code",
   "execution_count": 52,
   "metadata": {},
   "outputs": [
    {
     "data": {
      "text/plain": [
       "1528473    1C3EW65G51V703776-02\n",
       "1528487    1C3EW65G51V703776-01\n",
       "747837     1GBEL19W3XB192382-02\n",
       "1424917    1GBEL19W3XB192382-01\n",
       "320861     KLACD26RD9B296846-02\n",
       "                   ...         \n",
       "726046     KPACA4AB1AP075957-02\n",
       "21735      VF30U9HZHBS004241-01\n",
       "820238     VF30U9HZHBS004241-02\n",
       "956166     WAUZZZ8R3BA022251-02\n",
       "1172622    WAUZZZ8R3BA022251-01\n",
       "Name: 차량관리번호, Length: 108, dtype: object"
      ]
     },
     "execution_count": 52,
     "metadata": {},
     "output_type": "execute_result"
    }
   ],
   "source": [
    "df.iloc[idx03_1, 0]"
   ]
  },
  {
   "cell_type": "code",
   "execution_count": 53,
   "metadata": {},
   "outputs": [
    {
     "data": {
      "text/plain": [
       "2"
      ]
     },
     "execution_count": 53,
     "metadata": {},
     "output_type": "execute_result"
    }
   ],
   "source": [
    "# 중복 뒷번호 중복 최대 횟수 : 2 번\n",
    "m = 0\n",
    "for k, v in dict03_1.items():\n",
    "    if m <= v:\n",
    "        m = v\n",
    "m"
   ]
  },
  {
   "cell_type": "markdown",
   "metadata": {},
   "source": [
    "#### [출력]앞번호 중복 예시"
   ]
  },
  {
   "cell_type": "code",
   "execution_count": 59,
   "metadata": {},
   "outputs": [
    {
     "name": "stderr",
     "output_type": "stream",
     "text": [
      "C:\\Users\\kbj\\AppData\\Roaming\\Python\\Python39\\site-packages\\pandas\\util\\_decorators.py:211: FutureWarning: the 'encoding' keyword is deprecated and will be removed in a future version. Please take steps to stop the use of 'encoding'\n",
      "  return func(*args, **kwargs)\n"
     ]
    }
   ],
   "source": [
    "# temp03_1 = df.iloc[idx03_1, 0]\n",
    "# temp03_1.to_excel('analysis/[제원정보][4등급][차량관리번호]앞번호_중복_예시.xlsx', encoding='utf-8')"
   ]
  },
  {
   "attachments": {},
   "cell_type": "markdown",
   "metadata": {},
   "source": [
    "### 1\\. 차량등록번호"
   ]
  },
  {
   "cell_type": "code",
   "execution_count": null,
   "metadata": {},
   "outputs": [],
   "source": [
    "# - 오류\n",
    "#     - null 값 : 0\n",
    "#     - [한글][숫자][한글][숫자] 형식 값 : 317,579\n",
    "#     - [숫자][한글][숫자] 형식 값(구 번호판) : 1,211,007"
   ]
  },
  {
   "cell_type": "code",
   "execution_count": 60,
   "metadata": {},
   "outputs": [
    {
     "data": {
      "text/plain": [
       "0"
      ]
     },
     "execution_count": 60,
     "metadata": {},
     "output_type": "execute_result"
    }
   ],
   "source": [
    "df.iloc[:, 1].isnull().sum()"
   ]
  },
  {
   "cell_type": "code",
   "execution_count": 61,
   "metadata": {},
   "outputs": [
    {
     "data": {
      "text/plain": [
       "97구4490      1\n",
       "27나1278      1\n",
       "인천1더9940     1\n",
       "83두1780      1\n",
       "12소2340      1\n",
       "            ..\n",
       "서울1러2561     1\n",
       "95마1880      1\n",
       "87마2994      1\n",
       "경기45마7935    1\n",
       "55고3109      1\n",
       "Name: 차량등록번호, Length: 1528586, dtype: int64"
      ]
     },
     "execution_count": 61,
     "metadata": {},
     "output_type": "execute_result"
    }
   ],
   "source": [
    "df.iloc[:, 1].value_counts()"
   ]
  },
  {
   "cell_type": "code",
   "execution_count": 62,
   "metadata": {},
   "outputs": [
    {
     "name": "stderr",
     "output_type": "stream",
     "text": [
      "1528586it [00:01, 1135926.71it/s]\n"
     ]
    },
    {
     "data": {
      "text/plain": [
       "0"
      ]
     },
     "execution_count": 62,
     "metadata": {},
     "output_type": "execute_result"
    }
   ],
   "source": [
    "count = 0\n",
    "p11 = re.compile('\\d+[가-힣]+')\n",
    "idx11 = []\n",
    "for i, one in tqdm(enumerate(df.iloc[:, 1].to_numpy())):\n",
    "    if not p11.search(one):\n",
    "        idx11.append(i)\n",
    "        count += 1\n",
    "count"
   ]
  },
  {
   "cell_type": "code",
   "execution_count": 63,
   "metadata": {},
   "outputs": [
    {
     "name": "stderr",
     "output_type": "stream",
     "text": [
      "1528586it [00:01, 853028.03it/s]\n"
     ]
    },
    {
     "data": {
      "text/plain": [
       "1211007"
      ]
     },
     "execution_count": 63,
     "metadata": {},
     "output_type": "execute_result"
    }
   ],
   "source": [
    "# [한글][숫자][한글][숫자] 형식에 맞지 않는 값 : 1211007\n",
    "count = 0\n",
    "p12 = re.compile('[가-힣]+\\d+[가-힣]+\\d+')\n",
    "idx12 = []\n",
    "for i, one in tqdm(enumerate(df.iloc[:, 1].to_numpy())):\n",
    "    if not p12.search(one):\n",
    "        idx12.append(i)\n",
    "        count += 1\n",
    "count"
   ]
  },
  {
   "cell_type": "code",
   "execution_count": 64,
   "metadata": {},
   "outputs": [
    {
     "name": "stderr",
     "output_type": "stream",
     "text": [
      "C:\\Users\\kbj\\AppData\\Local\\Temp\\ipykernel_13928\\1435103437.py:1: FutureWarning: The behavior of `series[i:j]` with an integer-dtype index is deprecated. In a future version, this will be treated as *label-based* indexing, consistent with e.g. `series[i]` lookups. To retain the old behavior, use `series.iloc[i:j]`. To get the future behavior, use `series.loc[i:j]`.\n",
      "  df.iloc[:, 1].reindex(idx12)[:5]\n"
     ]
    },
    {
     "data": {
      "text/plain": [
       "0    97구4490\n",
       "1    11너2154\n",
       "2    96어5714\n",
       "3    11가1154\n",
       "4    22보7099\n",
       "Name: 차량등록번호, dtype: object"
      ]
     },
     "execution_count": 64,
     "metadata": {},
     "output_type": "execute_result"
    }
   ],
   "source": [
    "df.iloc[:, 1].reindex(idx12)[:5]"
   ]
  },
  {
   "cell_type": "code",
   "execution_count": 65,
   "metadata": {},
   "outputs": [
    {
     "data": {
      "text/html": [
       "<div>\n",
       "<style scoped>\n",
       "    .dataframe tbody tr th:only-of-type {\n",
       "        vertical-align: middle;\n",
       "    }\n",
       "\n",
       "    .dataframe tbody tr th {\n",
       "        vertical-align: top;\n",
       "    }\n",
       "\n",
       "    .dataframe thead th {\n",
       "        text-align: right;\n",
       "    }\n",
       "</style>\n",
       "<table border=\"1\" class=\"dataframe\">\n",
       "  <thead>\n",
       "    <tr style=\"text-align: right;\">\n",
       "      <th></th>\n",
       "      <th>차량관리번호</th>\n",
       "      <th>차량등록번호</th>\n",
       "      <th>차대번호</th>\n",
       "    </tr>\n",
       "  </thead>\n",
       "  <tbody>\n",
       "    <tr>\n",
       "      <th>0</th>\n",
       "      <td>KMFZCY7JBCU784032-01</td>\n",
       "      <td>97구4490</td>\n",
       "      <td>KMFZCY7JBCU784032</td>\n",
       "    </tr>\n",
       "    <tr>\n",
       "      <th>1</th>\n",
       "      <td>KMHJN81VP7U578447-01</td>\n",
       "      <td>11너2154</td>\n",
       "      <td>KMHJN81VP7U578447</td>\n",
       "    </tr>\n",
       "    <tr>\n",
       "      <th>2</th>\n",
       "      <td>KPACE4AB1AP070600-01</td>\n",
       "      <td>96어5714</td>\n",
       "      <td>KPACE4AB1AP070600</td>\n",
       "    </tr>\n",
       "    <tr>\n",
       "      <th>3</th>\n",
       "      <td>KMHNU81WP7U009391-01</td>\n",
       "      <td>11가1154</td>\n",
       "      <td>KMHNU81WP7U009391</td>\n",
       "    </tr>\n",
       "    <tr>\n",
       "      <th>4</th>\n",
       "      <td>KMHDT41TP9U638425-01</td>\n",
       "      <td>22보7099</td>\n",
       "      <td>KMHDT41TP9U638425</td>\n",
       "    </tr>\n",
       "  </tbody>\n",
       "</table>\n",
       "</div>"
      ],
      "text/plain": [
       "                 차량관리번호   차량등록번호               차대번호\n",
       "0  KMFZCY7JBCU784032-01  97구4490  KMFZCY7JBCU784032\n",
       "1  KMHJN81VP7U578447-01  11너2154  KMHJN81VP7U578447\n",
       "2  KPACE4AB1AP070600-01  96어5714  KPACE4AB1AP070600\n",
       "3  KMHNU81WP7U009391-01  11가1154  KMHNU81WP7U009391\n",
       "4  KMHDT41TP9U638425-01  22보7099  KMHDT41TP9U638425"
      ]
     },
     "execution_count": 65,
     "metadata": {},
     "output_type": "execute_result"
    }
   ],
   "source": [
    "df.iloc[:, [0, 1, 6]].reindex(idx12)[:5]"
   ]
  },
  {
   "cell_type": "code",
   "execution_count": 66,
   "metadata": {},
   "outputs": [
    {
     "data": {
      "text/html": [
       "<div>\n",
       "<style scoped>\n",
       "    .dataframe tbody tr th:only-of-type {\n",
       "        vertical-align: middle;\n",
       "    }\n",
       "\n",
       "    .dataframe tbody tr th {\n",
       "        vertical-align: top;\n",
       "    }\n",
       "\n",
       "    .dataframe thead th {\n",
       "        text-align: right;\n",
       "    }\n",
       "</style>\n",
       "<table border=\"1\" class=\"dataframe\">\n",
       "  <thead>\n",
       "    <tr style=\"text-align: right;\">\n",
       "      <th></th>\n",
       "      <th>차량관리번호</th>\n",
       "      <th>차량등록번호</th>\n",
       "      <th>차대번호</th>\n",
       "    </tr>\n",
       "  </thead>\n",
       "  <tbody>\n",
       "    <tr>\n",
       "      <th>1528580</th>\n",
       "      <td>KNAJE55539K557097-01</td>\n",
       "      <td>22더4719</td>\n",
       "      <td>KNAJE55539K557097</td>\n",
       "    </tr>\n",
       "    <tr>\n",
       "      <th>1528581</th>\n",
       "      <td>KMHJN81VP6U438041-01</td>\n",
       "      <td>06다4703</td>\n",
       "      <td>KMHJN81VP6U438041</td>\n",
       "    </tr>\n",
       "    <tr>\n",
       "      <th>1528582</th>\n",
       "      <td>KNAKH815BAK669764-01</td>\n",
       "      <td>17무6646</td>\n",
       "      <td>KNAKH815BAK669764</td>\n",
       "    </tr>\n",
       "    <tr>\n",
       "      <th>1528583</th>\n",
       "      <td>KMCLK19KP8C035195-01</td>\n",
       "      <td>96부7399</td>\n",
       "      <td>KMCLK18KP8C035195</td>\n",
       "    </tr>\n",
       "    <tr>\n",
       "      <th>1528585</th>\n",
       "      <td>KNME5C2MM8P008790-01</td>\n",
       "      <td>55고3109</td>\n",
       "      <td>KNME5C2MM8P008790</td>\n",
       "    </tr>\n",
       "  </tbody>\n",
       "</table>\n",
       "</div>"
      ],
      "text/plain": [
       "                       차량관리번호   차량등록번호               차대번호\n",
       "1528580  KNAJE55539K557097-01  22더4719  KNAJE55539K557097\n",
       "1528581  KMHJN81VP6U438041-01  06다4703  KMHJN81VP6U438041\n",
       "1528582  KNAKH815BAK669764-01  17무6646  KNAKH815BAK669764\n",
       "1528583  KMCLK19KP8C035195-01  96부7399  KMCLK18KP8C035195\n",
       "1528585  KNME5C2MM8P008790-01  55고3109  KNME5C2MM8P008790"
      ]
     },
     "execution_count": 66,
     "metadata": {},
     "output_type": "execute_result"
    }
   ],
   "source": [
    "df.iloc[:, [0, 1, 6]].reindex(idx12)[-5:]"
   ]
  },
  {
   "cell_type": "code",
   "execution_count": 67,
   "metadata": {},
   "outputs": [
    {
     "name": "stderr",
     "output_type": "stream",
     "text": [
      "1528586it [00:01, 1119886.44it/s]\n"
     ]
    },
    {
     "data": {
      "text/plain": [
       "0"
      ]
     },
     "execution_count": 67,
     "metadata": {},
     "output_type": "execute_result"
    }
   ],
   "source": [
    "# [숫자][한글][숫자] 형식이 아닌 값 : 0\n",
    "count = 0\n",
    "p13 = re.compile('\\d+[가-힣]+\\d+')\n",
    "idx13 = []\n",
    "for i, one in tqdm(enumerate(df.iloc[:, 1].to_numpy())):\n",
    "    if not p13.search(one):\n",
    "        idx13.append(i)\n",
    "        count += 1\n",
    "count"
   ]
  },
  {
   "attachments": {},
   "cell_type": "markdown",
   "metadata": {},
   "source": [
    "### 2\\. 본거지법정동코드"
   ]
  },
  {
   "cell_type": "code",
   "execution_count": null,
   "metadata": {},
   "outputs": [],
   "source": [
    "# - 오류\n",
    "#     - null 값 : 0\n",
    "#     - 숫자가 아닌 값 : 0\n",
    "#     - 길이가 10이 아닌 값 : 0"
   ]
  },
  {
   "cell_type": "code",
   "execution_count": 68,
   "metadata": {},
   "outputs": [
    {
     "data": {
      "text/plain": [
       "0"
      ]
     },
     "execution_count": 68,
     "metadata": {},
     "output_type": "execute_result"
    }
   ],
   "source": [
    "df.iloc[:, 2].isnull().sum()"
   ]
  },
  {
   "cell_type": "code",
   "execution_count": 69,
   "metadata": {},
   "outputs": [
    {
     "data": {
      "text/plain": [
       "4139013200    5442\n",
       "1150010300    4246\n",
       "1162010200    3960\n",
       "2817710500    3936\n",
       "1135010500    3513\n",
       "              ... \n",
       "4479039025       1\n",
       "4575039000       1\n",
       "4119710400       1\n",
       "4163055000       1\n",
       "4371025030       1\n",
       "Name: 본거지법정동코드, Length: 20119, dtype: int64"
      ]
     },
     "execution_count": 69,
     "metadata": {},
     "output_type": "execute_result"
    }
   ],
   "source": [
    "df.iloc[:, 2].value_counts()"
   ]
  },
  {
   "cell_type": "code",
   "execution_count": 70,
   "metadata": {},
   "outputs": [
    {
     "name": "stderr",
     "output_type": "stream",
     "text": [
      "1528586it [00:02, 577237.39it/s]\n"
     ]
    },
    {
     "data": {
      "text/plain": [
       "0"
      ]
     },
     "execution_count": 70,
     "metadata": {},
     "output_type": "execute_result"
    }
   ],
   "source": [
    "# 숫자가 아닌 값\n",
    "count = 0\n",
    "p2 = re.compile('\\D+')\n",
    "idx2 = []\n",
    "for i, one in tqdm(enumerate(df.iloc[:, 2].to_numpy())):\n",
    "    if p2.search(str(one)):\n",
    "        idx2.append(i)\n",
    "        count += 1\n",
    "count"
   ]
  },
  {
   "cell_type": "code",
   "execution_count": 71,
   "metadata": {},
   "outputs": [
    {
     "data": {
      "text/plain": [
       "<re.Match object; span=(1, 7), match='b안녕하세요'>"
      ]
     },
     "execution_count": 71,
     "metadata": {},
     "output_type": "execute_result"
    }
   ],
   "source": [
    "p2.search('2b안녕하세요1a')"
   ]
  },
  {
   "cell_type": "code",
   "execution_count": 72,
   "metadata": {},
   "outputs": [
    {
     "name": "stderr",
     "output_type": "stream",
     "text": [
      "1528586it [00:01, 778591.86it/s]\n"
     ]
    },
    {
     "data": {
      "text/plain": [
       "0"
      ]
     },
     "execution_count": 72,
     "metadata": {},
     "output_type": "execute_result"
    }
   ],
   "source": [
    "count = 0\n",
    "idx21 = []\n",
    "for i, one in tqdm(enumerate(df.iloc[:, 2].to_numpy())):\n",
    "    if len(str(one)) != 10:\n",
    "        idx21.append(i)\n",
    "        count += 1\n",
    "count"
   ]
  },
  {
   "cell_type": "markdown",
   "metadata": {},
   "source": [
    "### 3\\. 소유자구분"
   ]
  },
  {
   "cell_type": "code",
   "execution_count": 73,
   "metadata": {},
   "outputs": [
    {
     "data": {
      "text/plain": [
       "주민     1320642\n",
       "법인      139402\n",
       "사업자      42860\n",
       "외국인      21568\n",
       "기타        4114\n",
       "Name: 소유자구분, dtype: int64"
      ]
     },
     "execution_count": 73,
     "metadata": {},
     "output_type": "execute_result"
    }
   ],
   "source": [
    "df.iloc[:, 3].value_counts()"
   ]
  },
  {
   "cell_type": "markdown",
   "metadata": {},
   "source": [
    "### 4\\. 차종_등록정보"
   ]
  },
  {
   "cell_type": "code",
   "execution_count": 74,
   "metadata": {},
   "outputs": [
    {
     "data": {
      "text/plain": [
       "승용    850752\n",
       "화물    520825\n",
       "승합    148852\n",
       "특수      8155\n",
       "Name: 차종_등록정보, dtype: int64"
      ]
     },
     "execution_count": 74,
     "metadata": {},
     "output_type": "execute_result"
    }
   ],
   "source": [
    "df.iloc[:, 4].value_counts()"
   ]
  },
  {
   "cell_type": "markdown",
   "metadata": {},
   "source": [
    "### 5\\. 용도"
   ]
  },
  {
   "cell_type": "code",
   "execution_count": 75,
   "metadata": {},
   "outputs": [
    {
     "data": {
      "text/plain": [
       "자가용    1481507\n",
       "영업용      41362\n",
       "관용        5717\n",
       "Name: 용도, dtype: int64"
      ]
     },
     "execution_count": 75,
     "metadata": {},
     "output_type": "execute_result"
    }
   ],
   "source": [
    "df.iloc[:, 5].value_counts()"
   ]
  },
  {
   "attachments": {},
   "cell_type": "markdown",
   "metadata": {},
   "source": [
    "### 6\\. [e]차대번호"
   ]
  },
  {
   "cell_type": "code",
   "execution_count": null,
   "metadata": {},
   "outputs": [],
   "source": [
    "# - 오류\n",
    "#     - 1\\. null 값 : 0\n",
    "#     - 2\\. 정상(17자리, 영문 포함) : 1525955\n",
    "#     - 3\\. 17자리, 영문X : 1\n",
    "#     - 4\\. 17자리X, 영문 : 57\n",
    "#     - 5\\. 17자리X, 영문X : 2573"
   ]
  },
  {
   "cell_type": "code",
   "execution_count": 55,
   "metadata": {},
   "outputs": [],
   "source": [
    "df2 = df.copy()"
   ]
  },
  {
   "cell_type": "code",
   "execution_count": 56,
   "metadata": {},
   "outputs": [
    {
     "name": "stdout",
     "output_type": "stream",
     "text": [
      "<class 'pandas.core.frame.DataFrame'>\n",
      "Int64Index: 1528586 entries, 0 to 1528585\n",
      "Data columns (total 40 columns):\n",
      " #   Column       Non-Null Count    Dtype  \n",
      "---  ------       --------------    -----  \n",
      " 0   차량관리번호       1528586 non-null  object \n",
      " 1   차량등록번호       1528586 non-null  object \n",
      " 2   본거지법정동코드     1528586 non-null  int64  \n",
      " 3   소유자구분        1528586 non-null  object \n",
      " 4   차종_등록정보      1528584 non-null  object \n",
      " 5   용도           1528586 non-null  object \n",
      " 6   차대번호         1528586 non-null  object \n",
      " 7   최초등록일자       1528586 non-null  int64  \n",
      " 8   차량연식         1528586 non-null  int64  \n",
      " 9   차량제작일자       1358925 non-null  float64\n",
      " 10  검사유효일        1528574 non-null  float64\n",
      " 11  제원관리번호       1528586 non-null  object \n",
      " 12  배출가스인증번호     1405585 non-null  object \n",
      " 13  배출가스등급       1528586 non-null  int64  \n",
      " 14  저공해조치종류      195 non-null      object \n",
      " 15  저공해조치구조변경YN  1528586 non-null  object \n",
      " 16  차량말소YN       1528586 non-null  object \n",
      " 17  취득일자         1435514 non-null  object \n",
      " 18  취득금액         1453613 non-null  float64\n",
      " 19  차명           1528586 non-null  object \n",
      " 20  차종_제원정보      1528586 non-null  object \n",
      " 21  차종분류         1528586 non-null  object \n",
      " 22  차종유형         1528586 non-null  object \n",
      " 23  자동차형식        1528302 non-null  object \n",
      " 24  제작사명         1518694 non-null  object \n",
      " 25  연료           1528586 non-null  object \n",
      " 26  엔진형식         1526740 non-null  object \n",
      " 27  총중량          1528585 non-null  float64\n",
      " 28  적재중량         1528075 non-null  float64\n",
      " 29  엔진출력         1528227 non-null  object \n",
      " 30  배기량          1528582 non-null  float64\n",
      " 31  승차인원         1528586 non-null  int64  \n",
      " 32  차량길이         1528585 non-null  float64\n",
      " 33  차량너비         1528585 non-null  float64\n",
      " 34  차량높이         1528583 non-null  float64\n",
      " 35  원산지명         1509499 non-null  object \n",
      " 36  삭제YN         1528586 non-null  object \n",
      " 37  제원승인일자       1528155 non-null  object \n",
      " 38  구동형식         41 non-null       object \n",
      " 39  변속기종류        1528426 non-null  object \n",
      "dtypes: float64(9), int64(5), object(26)\n",
      "memory usage: 510.4+ MB\n"
     ]
    }
   ],
   "source": [
    "df2.info()"
   ]
  },
  {
   "cell_type": "code",
   "execution_count": 66,
   "metadata": {},
   "outputs": [
    {
     "data": {
      "text/plain": [
       "17"
      ]
     },
     "execution_count": 66,
     "metadata": {},
     "output_type": "execute_result"
    }
   ],
   "source": [
    "len('KMFZCY7JBCU784032')"
   ]
  },
  {
   "attachments": {},
   "cell_type": "markdown",
   "metadata": {},
   "source": [
    "#### 동일 차대번호 확인"
   ]
  },
  {
   "cell_type": "code",
   "execution_count": null,
   "metadata": {},
   "outputs": [],
   "source": [
    "# 동일차대번호(차량등록번호 다름) : 19"
   ]
  },
  {
   "cell_type": "code",
   "execution_count": 67,
   "metadata": {},
   "outputs": [
    {
     "data": {
      "text/plain": [
       "KMHCF21DPSU000012    5\n",
       "KLAVM69H1JB075787    2\n",
       "KMHMF21FPPU018261    2\n",
       "KMHVF21JPKU161128    2\n",
       "KLY7T51BBNC011472    2\n",
       "                    ..\n",
       "KMFZCZ7JABU656518    1\n",
       "KNAFA2223PA131127    1\n",
       "KPACA4AB1BP099521    1\n",
       "KNCSJZ74BBK571321    1\n",
       "KNME5C2MM8P008790    1\n",
       "Name: 차대번호, Length: 1528564, dtype: int64"
      ]
     },
     "execution_count": 67,
     "metadata": {},
     "output_type": "execute_result"
    }
   ],
   "source": [
    "df2.iloc[:, 6].value_counts()"
   ]
  },
  {
   "cell_type": "code",
   "execution_count": 68,
   "metadata": {},
   "outputs": [
    {
     "data": {
      "text/plain": [
       "(1528586, 49)"
      ]
     },
     "execution_count": 68,
     "metadata": {},
     "output_type": "execute_result"
    }
   ],
   "source": [
    "df2.shape"
   ]
  },
  {
   "cell_type": "code",
   "execution_count": null,
   "metadata": {},
   "outputs": [],
   "source": [
    "dup_vin_df = df2.iloc[:, 6].value_counts().reset_index()\n",
    "dup_vin_df.columns = ['차대번호', '개수']\n",
    "dup_vin_df.head()"
   ]
  },
  {
   "cell_type": "code",
   "execution_count": 71,
   "metadata": {},
   "outputs": [
    {
     "data": {
      "text/plain": [
       "(1528564, 2)"
      ]
     },
     "execution_count": 71,
     "metadata": {},
     "output_type": "execute_result"
    }
   ],
   "source": [
    "dup_vin_df.shape"
   ]
  },
  {
   "cell_type": "code",
   "execution_count": null,
   "metadata": {},
   "outputs": [],
   "source": [
    "# 중복 차대번호 추출\n",
    "dup_vin_df2 = dup_vin_df[dup_vin_df['개수'] > 1].reset_index(drop=True)\n",
    "dup_vin_df2.shape"
   ]
  },
  {
   "cell_type": "code",
   "execution_count": 81,
   "metadata": {},
   "outputs": [
    {
     "data": {
      "text/plain": [
       "0     KMHCF21DPSU000012\n",
       "1     KLAVM69H1JB075787\n",
       "2     KMHMF21FPPU018261\n",
       "3     KMHVF21JPKU161128\n",
       "4     KLY7T51BBNC011472\n",
       "5     KLATF19T1NB526286\n",
       "6     KMHNF21SPLU031911\n",
       "7     KLASM69F1JB054053\n",
       "8     KMHNF21SPLU049507\n",
       "9     KNAGC2213SA102715\n",
       "10    KLAEM19W1NB116889\n",
       "11    KNAGA2222KS130454\n",
       "12    KNALA2233RA822260\n",
       "13    KNADA2322JS052345\n",
       "14    1GBEL19W3XB192382\n",
       "15    KLATF19T1LB267581\n",
       "16    KMHBF31FPNU489190\n",
       "17    KNAGC2282YA382041\n",
       "18    KMHBF31FPKU143334\n",
       "Name: index, dtype: object"
      ]
     },
     "execution_count": 81,
     "metadata": {},
     "output_type": "execute_result"
    }
   ],
   "source": [
    "dup_vin_df2['차대번호'].head()"
   ]
  },
  {
   "cell_type": "markdown",
   "metadata": {},
   "source": [
    "##### 동일 차대번호 예시\n",
    "- 차량등록번호는 다름"
   ]
  },
  {
   "cell_type": "code",
   "execution_count": null,
   "metadata": {},
   "outputs": [],
   "source": [
    "for i in range(dup_vin_df2['차대번호'].shape[0]):\n",
    "    print(f'{i}번째 차대번호')\n",
    "    print(df2.loc[df2['차대번호'] == dup_vin_df2['차대번호'][0], ['차량등록번호', '차대번호']])\n",
    "    print()"
   ]
  },
  {
   "cell_type": "markdown",
   "metadata": {},
   "source": [
    "#### 차대번호 정상 확인"
   ]
  },
  {
   "cell_type": "code",
   "execution_count": 101,
   "metadata": {},
   "outputs": [
    {
     "name": "stderr",
     "output_type": "stream",
     "text": [
      "1528586it [00:02, 643794.83it/s]\n"
     ]
    },
    {
     "data": {
      "text/plain": [
       "1525955"
      ]
     },
     "execution_count": 101,
     "metadata": {},
     "output_type": "execute_result"
    }
   ],
   "source": [
    "# 17자리, 영문 -> 정상 : 1525955\n",
    "count = 0\n",
    "p61 = re.compile('[a-zA-Z]+')\n",
    "idx61 = []\n",
    "for i, one in tqdm(enumerate(df2.iloc[:, 6].to_numpy())):\n",
    "    if len(str(one)) == 17 and p61.search(str(one)):\n",
    "        idx61.append(i)\n",
    "        count += 1\n",
    "count"
   ]
  },
  {
   "cell_type": "code",
   "execution_count": 102,
   "metadata": {},
   "outputs": [
    {
     "name": "stderr",
     "output_type": "stream",
     "text": [
      "1525955it [00:00, 1827529.03it/s]\n"
     ]
    },
    {
     "data": {
      "text/plain": [
       "1018"
      ]
     },
     "execution_count": 102,
     "metadata": {},
     "output_type": "execute_result"
    }
   ],
   "source": [
    "# 정상에서 \"I, O, Q\" 포함한 값 : 1018\n",
    "temp61 = df2.iloc[idx61, 6].to_numpy()\n",
    "idx61_1 = []\n",
    "for i, one in tqdm(enumerate(temp61)):\n",
    "    if ('I' in one) or ('O' in one) or ('Q' in one):\n",
    "        idx61_1.append(idx61[i])\n",
    "len(idx61_1)"
   ]
  },
  {
   "cell_type": "code",
   "execution_count": 103,
   "metadata": {},
   "outputs": [
    {
     "name": "stderr",
     "output_type": "stream",
     "text": [
      "C:\\Users\\kbj\\AppData\\Local\\Temp\\ipykernel_15548\\2435097354.py:1: FutureWarning: The behavior of `series[i:j]` with an integer-dtype index is deprecated. In a future version, this will be treated as *label-based* indexing, consistent with e.g. `series[i]` lookups. To retain the old behavior, use `series.iloc[i:j]`. To get the future behavior, use `series.loc[i:j]`.\n",
      "  df2.iloc[idx61_1, 6][:5]\n"
     ]
    },
    {
     "data": {
      "text/plain": [
       "711     WFOFXXGBBVTS14067\n",
       "4089    IMECM53U7LA639275\n",
       "4306    KNFSEOD428K331451\n",
       "7352    IMECM53UXLA639285\n",
       "8869    IMECM53U4LA619808\n",
       "Name: 차대번호, dtype: object"
      ]
     },
     "execution_count": 103,
     "metadata": {},
     "output_type": "execute_result"
    }
   ],
   "source": [
    "df2.iloc[idx61_1, 6][:5]"
   ]
  },
  {
   "cell_type": "code",
   "execution_count": 104,
   "metadata": {},
   "outputs": [
    {
     "name": "stderr",
     "output_type": "stream",
     "text": [
      "1528586it [00:13, 113278.21it/s]\n"
     ]
    },
    {
     "data": {
      "text/plain": [
       "1"
      ]
     },
     "execution_count": 104,
     "metadata": {},
     "output_type": "execute_result"
    }
   ],
   "source": [
    "# 17자리, 영문X  => 숫자만 : 1\n",
    "count = 0\n",
    "p62 = re.compile('[a-zA-Z]+')\n",
    "idx62 = []\n",
    "for i, one in tqdm(enumerate(df2.iloc[:, 6].to_numpy())):\n",
    "    n = 0\n",
    "    for j in str(one):\n",
    "        if p62.search(j):\n",
    "            n += 1\n",
    "    if len(str(one)) == 17 and n == 0:\n",
    "        idx62.append(i)\n",
    "        count += 1\n",
    "count"
   ]
  },
  {
   "cell_type": "code",
   "execution_count": 105,
   "metadata": {},
   "outputs": [
    {
     "data": {
      "text/plain": [
       "708259    01901321371111111\n",
       "Name: 차대번호, dtype: object"
      ]
     },
     "execution_count": 105,
     "metadata": {},
     "output_type": "execute_result"
    }
   ],
   "source": [
    "df2.iloc[:, 6].reindex(idx62)"
   ]
  },
  {
   "cell_type": "code",
   "execution_count": 106,
   "metadata": {},
   "outputs": [
    {
     "name": "stderr",
     "output_type": "stream",
     "text": [
      "1528586it [00:00, 1677337.10it/s]\n"
     ]
    },
    {
     "data": {
      "text/plain": [
       "57"
      ]
     },
     "execution_count": 106,
     "metadata": {},
     "output_type": "execute_result"
    }
   ],
   "source": [
    "# 17자리 X, 영문 : 57\n",
    "count = 0\n",
    "p63 = re.compile('[a-zA-Z]+')\n",
    "idx63 = []\n",
    "for i, one in tqdm(enumerate(df2.iloc[:, 6].to_numpy())):\n",
    "    if len(str(one)) != 17 and p63.search(one):\n",
    "        idx63.append(i)\n",
    "        count += 1\n",
    "count"
   ]
  },
  {
   "cell_type": "code",
   "execution_count": 107,
   "metadata": {},
   "outputs": [
    {
     "name": "stderr",
     "output_type": "stream",
     "text": [
      "C:\\Users\\kbj\\AppData\\Local\\Temp\\ipykernel_15548\\2206251045.py:1: FutureWarning: The behavior of `series[i:j]` with an integer-dtype index is deprecated. In a future version, this will be treated as *label-based* indexing, consistent with e.g. `series[i]` lookups. To retain the old behavior, use `series.iloc[i:j]`. To get the future behavior, use `series.loc[i:j]`.\n",
      "  df2.iloc[:, 6].reindex(idx63)[:5]\n"
     ]
    },
    {
     "data": {
      "text/plain": [
       "34589         SL68T032460\n",
       "69588         RPS13330414\n",
       "71114        CN-62-T-2213\n",
       "91950         KPY30051283\n",
       "96602    KNADA2322HS00898\n",
       "Name: 차대번호, dtype: object"
      ]
     },
     "execution_count": 107,
     "metadata": {},
     "output_type": "execute_result"
    }
   ],
   "source": [
    "df2.iloc[:, 6].reindex(idx63)[:5]"
   ]
  },
  {
   "cell_type": "code",
   "execution_count": 108,
   "metadata": {},
   "outputs": [
    {
     "name": "stderr",
     "output_type": "stream",
     "text": [
      "1528586it [00:12, 121118.76it/s]\n"
     ]
    },
    {
     "data": {
      "text/plain": [
       "2573"
      ]
     },
     "execution_count": 108,
     "metadata": {},
     "output_type": "execute_result"
    }
   ],
   "source": [
    "# 17자리 X, 영문X : 2573\n",
    "count = 0\n",
    "p64 = re.compile('[a-zA-Z]+')\n",
    "idx64 = []\n",
    "for i, one in tqdm(enumerate(df2.iloc[:, 6].to_numpy())):\n",
    "    n = 0\n",
    "    for j in one:\n",
    "        if p64.search(j):\n",
    "            n += 1\n",
    "    if len(str(one)) != 17 and n == 0:\n",
    "        idx64.append(i)\n",
    "        count += 1\n",
    "count"
   ]
  },
  {
   "cell_type": "code",
   "execution_count": 109,
   "metadata": {},
   "outputs": [
    {
     "name": "stderr",
     "output_type": "stream",
     "text": [
      "C:\\Users\\kbj\\AppData\\Local\\Temp\\ipykernel_15548\\1133880624.py:1: FutureWarning: The behavior of `series[i:j]` with an integer-dtype index is deprecated. In a future version, this will be treated as *label-based* indexing, consistent with e.g. `series[i]` lookups. To retain the old behavior, use `series.iloc[i:j]`. To get the future behavior, use `series.loc[i:j]`.\n",
      "  df2.iloc[:, 6].reindex(idx64)[:5]\n"
     ]
    },
    {
     "data": {
      "text/plain": [
       "429       119811326107\n",
       "692     27931130152305\n",
       "1320      119111327184\n",
       "1475      119811229792\n",
       "1544      219211301625\n",
       "Name: 차대번호, dtype: object"
      ]
     },
     "execution_count": 109,
     "metadata": {},
     "output_type": "execute_result"
    }
   ],
   "source": [
    "df2.iloc[:, 6].reindex(idx64)[:5]"
   ]
  },
  {
   "cell_type": "code",
   "execution_count": 110,
   "metadata": {},
   "outputs": [
    {
     "name": "stderr",
     "output_type": "stream",
     "text": [
      "1528586it [00:01, 1475944.62it/s]\n"
     ]
    },
    {
     "data": {
      "text/plain": [
       "{10, 11, 12, 13, 14, 15, 16, 17}"
      ]
     },
     "execution_count": 110,
     "metadata": {},
     "output_type": "execute_result"
    }
   ],
   "source": [
    "# 차대번호 길이 종류 확인\n",
    "len_vin = []\n",
    "for i, one in tqdm(enumerate(df2.iloc[:, 6].to_numpy())):\n",
    "    len_vin.append(len(str(one)))\n",
    "set(len_vin)"
   ]
  },
  {
   "cell_type": "code",
   "execution_count": 111,
   "metadata": {},
   "outputs": [],
   "source": [
    "df2['VIN_length'] = [ len(one) for one in df2['차대번호'] ]"
   ]
  },
  {
   "cell_type": "code",
   "execution_count": 112,
   "metadata": {},
   "outputs": [
    {
     "data": {
      "text/plain": [
       "array([17, 12, 14, 13, 11, 15, 16, 10], dtype=int64)"
      ]
     },
     "execution_count": 112,
     "metadata": {},
     "output_type": "execute_result"
    }
   ],
   "source": [
    "df2['VIN_length'].unique()"
   ]
  },
  {
   "cell_type": "code",
   "execution_count": 113,
   "metadata": {},
   "outputs": [],
   "source": [
    "IOQ = []\n",
    "for one in df2['차대번호']:\n",
    "    if ('I' in one) or ('O' in one) or ('Q' in one):\n",
    "        IOQ.append('Y')\n",
    "    else:\n",
    "        IOQ.append('N')\n",
    "df2['IOQ'] = IOQ"
   ]
  },
  {
   "cell_type": "code",
   "execution_count": 114,
   "metadata": {},
   "outputs": [
    {
     "data": {
      "text/plain": [
       "array(['N', 'Y'], dtype=object)"
      ]
     },
     "execution_count": 114,
     "metadata": {},
     "output_type": "execute_result"
    }
   ],
   "source": [
    "df2['IOQ'].unique()"
   ]
  },
  {
   "cell_type": "code",
   "execution_count": 115,
   "metadata": {},
   "outputs": [
    {
     "name": "stderr",
     "output_type": "stream",
     "text": [
      "1528586it [00:12, 124655.09it/s]\n"
     ]
    },
    {
     "data": {
      "text/plain": [
       "2574"
      ]
     },
     "execution_count": 115,
     "metadata": {},
     "output_type": "execute_result"
    }
   ],
   "source": [
    "# 알파벳 포함\n",
    "included_alpha = []\n",
    "count = 0\n",
    "p65 = re.compile('[a-zA-Z]+')\n",
    "for i, one in tqdm(enumerate(df2.iloc[:, 6].to_numpy())):\n",
    "    n = 0\n",
    "    for j in one:\n",
    "        if p65.search(j):\n",
    "            n += 1\n",
    "    if n == 0:\n",
    "        included_alpha.append('N')\n",
    "        count += 1\n",
    "    else:\n",
    "        included_alpha.append('Y')\n",
    "count"
   ]
  },
  {
   "cell_type": "code",
   "execution_count": 116,
   "metadata": {},
   "outputs": [],
   "source": [
    "df2['alpha'] = included_alpha"
   ]
  },
  {
   "cell_type": "code",
   "execution_count": 117,
   "metadata": {},
   "outputs": [
    {
     "data": {
      "text/plain": [
       "VIN_length  alpha  IOQ\n",
       "10          N      N            1\n",
       "            Y      N            3\n",
       "11          N      N          209\n",
       "            Y      N            7\n",
       "12          N      N         2132\n",
       "            Y      N            2\n",
       "13          N      N          154\n",
       "            Y      N            3\n",
       "14          N      N           22\n",
       "15          N      N           38\n",
       "            Y      N            2\n",
       "                   Y            1\n",
       "16          N      N           17\n",
       "            Y      N           39\n",
       "17          N      N            1\n",
       "            Y      N      1524937\n",
       "                   Y         1018\n",
       "Name: 차대번호, dtype: int64"
      ]
     },
     "execution_count": 117,
     "metadata": {},
     "output_type": "execute_result"
    }
   ],
   "source": [
    "df2.groupby(['VIN_length', 'alpha', 'IOQ'])['차대번호'].count()"
   ]
  },
  {
   "cell_type": "code",
   "execution_count": 118,
   "metadata": {},
   "outputs": [
    {
     "data": {
      "text/plain": [
       "VIN_length  IOQ\n",
       "10          N            4\n",
       "11          N          216\n",
       "12          N         2134\n",
       "13          N          157\n",
       "14          N           22\n",
       "15          N           40\n",
       "            Y            1\n",
       "16          N           56\n",
       "17          N      1524938\n",
       "            Y         1018\n",
       "Name: 차대번호, dtype: int64"
      ]
     },
     "execution_count": 118,
     "metadata": {},
     "output_type": "execute_result"
    }
   ],
   "source": [
    "df2.groupby(['VIN_length', 'IOQ'])['차대번호'].count()"
   ]
  },
  {
   "cell_type": "code",
   "execution_count": 119,
   "metadata": {},
   "outputs": [],
   "source": [
    "V_I_dict = df2.groupby(['VIN_length', 'IOQ'])['차대번호'].groups"
   ]
  },
  {
   "cell_type": "code",
   "execution_count": 120,
   "metadata": {},
   "outputs": [
    {
     "data": {
      "text/plain": [
       "dict_keys([(10, 'N'), (11, 'N'), (12, 'N'), (13, 'N'), (14, 'N'), (15, 'N'), (15, 'Y'), (16, 'N'), (17, 'N'), (17, 'Y')])"
      ]
     },
     "execution_count": 120,
     "metadata": {},
     "output_type": "execute_result"
    }
   ],
   "source": [
    "V_I_dict.keys()"
   ]
  },
  {
   "cell_type": "code",
   "execution_count": 121,
   "metadata": {},
   "outputs": [
    {
     "data": {
      "text/html": [
       "<div>\n",
       "<style scoped>\n",
       "    .dataframe tbody tr th:only-of-type {\n",
       "        vertical-align: middle;\n",
       "    }\n",
       "\n",
       "    .dataframe tbody tr th {\n",
       "        vertical-align: top;\n",
       "    }\n",
       "\n",
       "    .dataframe thead th {\n",
       "        text-align: right;\n",
       "    }\n",
       "</style>\n",
       "<table border=\"1\" class=\"dataframe\">\n",
       "  <thead>\n",
       "    <tr style=\"text-align: right;\">\n",
       "      <th></th>\n",
       "      <th>VIN_length</th>\n",
       "      <th>IOQ</th>\n",
       "      <th>차대번호</th>\n",
       "    </tr>\n",
       "  </thead>\n",
       "  <tbody>\n",
       "    <tr>\n",
       "      <th>0</th>\n",
       "      <td>10</td>\n",
       "      <td>N</td>\n",
       "      <td>4</td>\n",
       "    </tr>\n",
       "    <tr>\n",
       "      <th>1</th>\n",
       "      <td>11</td>\n",
       "      <td>N</td>\n",
       "      <td>216</td>\n",
       "    </tr>\n",
       "    <tr>\n",
       "      <th>2</th>\n",
       "      <td>12</td>\n",
       "      <td>N</td>\n",
       "      <td>2134</td>\n",
       "    </tr>\n",
       "    <tr>\n",
       "      <th>3</th>\n",
       "      <td>13</td>\n",
       "      <td>N</td>\n",
       "      <td>157</td>\n",
       "    </tr>\n",
       "    <tr>\n",
       "      <th>4</th>\n",
       "      <td>14</td>\n",
       "      <td>N</td>\n",
       "      <td>22</td>\n",
       "    </tr>\n",
       "    <tr>\n",
       "      <th>5</th>\n",
       "      <td>15</td>\n",
       "      <td>N</td>\n",
       "      <td>40</td>\n",
       "    </tr>\n",
       "    <tr>\n",
       "      <th>6</th>\n",
       "      <td>15</td>\n",
       "      <td>Y</td>\n",
       "      <td>1</td>\n",
       "    </tr>\n",
       "    <tr>\n",
       "      <th>7</th>\n",
       "      <td>16</td>\n",
       "      <td>N</td>\n",
       "      <td>56</td>\n",
       "    </tr>\n",
       "    <tr>\n",
       "      <th>8</th>\n",
       "      <td>17</td>\n",
       "      <td>N</td>\n",
       "      <td>1524938</td>\n",
       "    </tr>\n",
       "    <tr>\n",
       "      <th>9</th>\n",
       "      <td>17</td>\n",
       "      <td>Y</td>\n",
       "      <td>1018</td>\n",
       "    </tr>\n",
       "  </tbody>\n",
       "</table>\n",
       "</div>"
      ],
      "text/plain": [
       "   VIN_length IOQ     차대번호\n",
       "0          10   N        4\n",
       "1          11   N      216\n",
       "2          12   N     2134\n",
       "3          13   N      157\n",
       "4          14   N       22\n",
       "5          15   N       40\n",
       "6          15   Y        1\n",
       "7          16   N       56\n",
       "8          17   N  1524938\n",
       "9          17   Y     1018"
      ]
     },
     "execution_count": 121,
     "metadata": {},
     "output_type": "execute_result"
    }
   ],
   "source": [
    "g = df2.groupby(['VIN_length', 'IOQ'], as_index=False)['차대번호'].count()\n",
    "g"
   ]
  },
  {
   "cell_type": "code",
   "execution_count": 122,
   "metadata": {},
   "outputs": [
    {
     "data": {
      "text/html": [
       "<div>\n",
       "<style scoped>\n",
       "    .dataframe tbody tr th:only-of-type {\n",
       "        vertical-align: middle;\n",
       "    }\n",
       "\n",
       "    .dataframe tbody tr th {\n",
       "        vertical-align: top;\n",
       "    }\n",
       "\n",
       "    .dataframe thead th {\n",
       "        text-align: right;\n",
       "    }\n",
       "</style>\n",
       "<table border=\"1\" class=\"dataframe\">\n",
       "  <thead>\n",
       "    <tr style=\"text-align: right;\">\n",
       "      <th></th>\n",
       "      <th>VIN_length</th>\n",
       "      <th>IOQ</th>\n",
       "      <th>차대번호</th>\n",
       "    </tr>\n",
       "  </thead>\n",
       "  <tbody>\n",
       "    <tr>\n",
       "      <th>0</th>\n",
       "      <td>10</td>\n",
       "      <td>N</td>\n",
       "      <td>4</td>\n",
       "    </tr>\n",
       "    <tr>\n",
       "      <th>1</th>\n",
       "      <td>11</td>\n",
       "      <td>N</td>\n",
       "      <td>216</td>\n",
       "    </tr>\n",
       "    <tr>\n",
       "      <th>2</th>\n",
       "      <td>12</td>\n",
       "      <td>N</td>\n",
       "      <td>2134</td>\n",
       "    </tr>\n",
       "    <tr>\n",
       "      <th>3</th>\n",
       "      <td>13</td>\n",
       "      <td>N</td>\n",
       "      <td>157</td>\n",
       "    </tr>\n",
       "    <tr>\n",
       "      <th>4</th>\n",
       "      <td>14</td>\n",
       "      <td>N</td>\n",
       "      <td>22</td>\n",
       "    </tr>\n",
       "    <tr>\n",
       "      <th>6</th>\n",
       "      <td>15</td>\n",
       "      <td>Y</td>\n",
       "      <td>1</td>\n",
       "    </tr>\n",
       "    <tr>\n",
       "      <th>5</th>\n",
       "      <td>15</td>\n",
       "      <td>N</td>\n",
       "      <td>40</td>\n",
       "    </tr>\n",
       "    <tr>\n",
       "      <th>7</th>\n",
       "      <td>16</td>\n",
       "      <td>N</td>\n",
       "      <td>56</td>\n",
       "    </tr>\n",
       "    <tr>\n",
       "      <th>9</th>\n",
       "      <td>17</td>\n",
       "      <td>Y</td>\n",
       "      <td>1018</td>\n",
       "    </tr>\n",
       "    <tr>\n",
       "      <th>8</th>\n",
       "      <td>17</td>\n",
       "      <td>N</td>\n",
       "      <td>1524938</td>\n",
       "    </tr>\n",
       "  </tbody>\n",
       "</table>\n",
       "</div>"
      ],
      "text/plain": [
       "   VIN_length IOQ     차대번호\n",
       "0          10   N        4\n",
       "1          11   N      216\n",
       "2          12   N     2134\n",
       "3          13   N      157\n",
       "4          14   N       22\n",
       "6          15   Y        1\n",
       "5          15   N       40\n",
       "7          16   N       56\n",
       "9          17   Y     1018\n",
       "8          17   N  1524938"
      ]
     },
     "execution_count": 122,
     "metadata": {},
     "output_type": "execute_result"
    }
   ],
   "source": [
    "V_I_df = g.sort_values(['VIN_length', 'IOQ'], ascending=[True, False])\n",
    "V_I_df"
   ]
  },
  {
   "cell_type": "code",
   "execution_count": 123,
   "metadata": {},
   "outputs": [
    {
     "name": "stdout",
     "output_type": "stream",
     "text": [
      "[VIN_length : 10, \"IOQ\"포함 : N]\n",
      "예시)\n",
      "274224    FD3S303919\n",
      "303394    EU13315046\n",
      "472456    1102253020\n",
      "Name: 차대번호, dtype: object\n",
      "\n",
      "[VIN_length : 11, \"IOQ\"포함 : N]\n",
      "예시)\n",
      "10469    01891322131\n",
      "12281    01901321765\n",
      "12965    01911322485\n",
      "Name: 차대번호, dtype: object\n",
      "\n",
      "[VIN_length : 12, \"IOQ\"포함 : N]\n",
      "예시)\n",
      "429     119811326107\n",
      "1320    119111327184\n",
      "1475    119811229792\n",
      "Name: 차대번호, dtype: object\n",
      "\n",
      "[VIN_length : 13, \"IOQ\"포함 : N]\n",
      "예시)\n",
      "7610     119213303068다\n",
      "28217    119213302895다\n",
      "48405    119213302724다\n",
      "Name: 차대번호, dtype: object\n",
      "\n",
      "[VIN_length : 14, \"IOQ\"포함 : N]\n",
      "예시)\n",
      "692       27931130152305\n",
      "206507    21891130315401\n",
      "276689    119111200061대서\n",
      "Name: 차대번호, dtype: object\n",
      "\n",
      "[VIN_length : 15, \"IOQ\"포함 : N]\n",
      "예시)\n",
      "19514    28-88-112-06218\n",
      "84146    11-97-113-29992\n",
      "84224    41-77-111-00110\n",
      "Name: 차대번호, dtype: object\n",
      "\n",
      "[VIN_length : 15, \"IOQ\"포함 : Y]\n",
      "예시)\n",
      "103131    12851300018EORN\n",
      "Name: 차대번호, dtype: object\n",
      "\n",
      "[VIN_length : 16, \"IOQ\"포함 : N]\n",
      "예시)\n",
      "23971    11-94-112-09987다\n",
      "96602    KNADA2322HS00898\n",
      "99552    KNAGA222JS117210\n",
      "Name: 차대번호, dtype: object\n",
      "\n",
      "[VIN_length : 17, \"IOQ\"포함 : N]\n",
      "예시)\n",
      "0    KMFZCY7JBCU784032\n",
      "1    KMHJN81VP7U578447\n",
      "2    KPACE4AB1AP070600\n",
      "Name: 차대번호, dtype: object\n",
      "\n",
      "[VIN_length : 17, \"IOQ\"포함 : Y]\n",
      "예시)\n",
      "711     WFOFXXGBBVTS14067\n",
      "4089    IMECM53U7LA639275\n",
      "4306    KNFSEOD428K331451\n",
      "Name: 차대번호, dtype: object\n",
      "\n"
     ]
    }
   ],
   "source": [
    "for v in range(10, 18):\n",
    "    for i in ['N', 'Y']:\n",
    "        try:\n",
    "            idx = V_I_dict[(v, i)]\n",
    "            print(f'[VIN_length : {v}, \"IOQ\"포함 : {i}]')\n",
    "            print('예시)')\n",
    "            print(df2.iloc[idx[:3], 6])\n",
    "            print()\n",
    "        except:\n",
    "            pass"
   ]
  },
  {
   "cell_type": "markdown",
   "metadata": {},
   "source": [
    "##### [출력]번호길이, IOQ포함 통계"
   ]
  },
  {
   "cell_type": "code",
   "execution_count": 112,
   "metadata": {},
   "outputs": [],
   "source": [
    "# V_I_df.to_csv('analysis/[차대번호]번호길이_IOQ포함_통계.csv', index=False, encoding='cp949')"
   ]
  },
  {
   "cell_type": "markdown",
   "metadata": {},
   "source": [
    "#### WMI 코드 분류 제작사 통계"
   ]
  },
  {
   "cell_type": "code",
   "execution_count": null,
   "metadata": {},
   "outputs": [
    {
     "name": "stdout",
     "output_type": "stream",
     "text": [
      "<class 'pandas.core.frame.DataFrame'>\n",
      "RangeIndex: 690 entries, 0 to 689\n",
      "Data columns (total 8 columns):\n",
      " #   Column         Non-Null Count  Dtype  \n",
      "---  ------         --------------  -----  \n",
      " 0   WMI            690 non-null    object \n",
      " 1   MF CODE        690 non-null    object \n",
      " 2   Identifier     690 non-null    object \n",
      " 3   Manufacturer   690 non-null    object \n",
      " 4   Country        688 non-null    object \n",
      " 5   Vehicle Types  249 non-null    object \n",
      " 6   Description    54 non-null     object \n",
      " 7   참고             0 non-null      float64\n",
      "dtypes: float64(1), object(7)\n",
      "memory usage: 43.2+ KB\n"
     ]
    }
   ],
   "source": [
    "wmi = pd.read_excel('data/20190730_WMI CODE.xlsx', sheet_name='WMI CODE')\n",
    "wmi.info()"
   ]
  },
  {
   "cell_type": "code",
   "execution_count": null,
   "metadata": {},
   "outputs": [
    {
     "data": {
      "text/plain": [
       "0    KMFZCY7JBCU784032\n",
       "1    KMHJN81VP7U578447\n",
       "2    KPACE4AB1AP070600\n",
       "3    KMHNU81WP7U009391\n",
       "4    KMHDT41TP9U638425\n",
       "Name: 차대번호, dtype: object"
      ]
     },
     "metadata": {},
     "output_type": "display_data"
    }
   ],
   "source": [
    "df2['차대번호'].head()"
   ]
  },
  {
   "cell_type": "code",
   "execution_count": null,
   "metadata": {},
   "outputs": [],
   "source": [
    "df2['wmi'] = df2['차대번호'].str[:3]"
   ]
  },
  {
   "cell_type": "code",
   "execution_count": null,
   "metadata": {},
   "outputs": [
    {
     "data": {
      "text/plain": [
       "0    KMF\n",
       "1    KMH\n",
       "2    KPA\n",
       "3    KMH\n",
       "4    KMH\n",
       "Name: wmi, dtype: object"
      ]
     },
     "metadata": {},
     "output_type": "display_data"
    }
   ],
   "source": [
    "df2['wmi'].head()"
   ]
  },
  {
   "cell_type": "code",
   "execution_count": null,
   "metadata": {},
   "outputs": [
    {
     "data": {
      "text/html": [
       "<div>\n",
       "<style scoped>\n",
       "    .dataframe tbody tr th:only-of-type {\n",
       "        vertical-align: middle;\n",
       "    }\n",
       "\n",
       "    .dataframe tbody tr th {\n",
       "        vertical-align: top;\n",
       "    }\n",
       "\n",
       "    .dataframe thead th {\n",
       "        text-align: right;\n",
       "    }\n",
       "</style>\n",
       "<table border=\"1\" class=\"dataframe\">\n",
       "  <thead>\n",
       "    <tr style=\"text-align: right;\">\n",
       "      <th></th>\n",
       "      <th>차대번호</th>\n",
       "      <th>wmi</th>\n",
       "      <th>WMI</th>\n",
       "    </tr>\n",
       "  </thead>\n",
       "  <tbody>\n",
       "    <tr>\n",
       "      <th>0</th>\n",
       "      <td>KMFZCY7JBCU784032</td>\n",
       "      <td>KMF</td>\n",
       "      <td>KMF</td>\n",
       "    </tr>\n",
       "    <tr>\n",
       "      <th>1</th>\n",
       "      <td>KMHJN81VP7U578447</td>\n",
       "      <td>KMH</td>\n",
       "      <td>KMH</td>\n",
       "    </tr>\n",
       "    <tr>\n",
       "      <th>2</th>\n",
       "      <td>KPACE4AB1AP070600</td>\n",
       "      <td>KPA</td>\n",
       "      <td>KPA</td>\n",
       "    </tr>\n",
       "    <tr>\n",
       "      <th>3</th>\n",
       "      <td>KMHNU81WP7U009391</td>\n",
       "      <td>KMH</td>\n",
       "      <td>KMH</td>\n",
       "    </tr>\n",
       "    <tr>\n",
       "      <th>4</th>\n",
       "      <td>KMHDT41TP9U638425</td>\n",
       "      <td>KMH</td>\n",
       "      <td>KMH</td>\n",
       "    </tr>\n",
       "  </tbody>\n",
       "</table>\n",
       "</div>"
      ],
      "text/plain": [
       "                차대번호  wmi  WMI\n",
       "0  KMFZCY7JBCU784032  KMF  KMF\n",
       "1  KMHJN81VP7U578447  KMH  KMH\n",
       "2  KPACE4AB1AP070600  KPA  KPA\n",
       "3  KMHNU81WP7U009391  KMH  KMH\n",
       "4  KMHDT41TP9U638425  KMH  KMH"
      ]
     },
     "metadata": {},
     "output_type": "display_data"
    }
   ],
   "source": [
    "df2 = df2.merge(wmi, left_on='wmi', right_on='WMI', how='left')\n",
    "df2[['차대번호', 'wmi', 'WMI']].head()"
   ]
  },
  {
   "cell_type": "code",
   "execution_count": null,
   "metadata": {},
   "outputs": [
    {
     "data": {
      "text/plain": [
       "(1528586, 49)"
      ]
     },
     "metadata": {},
     "output_type": "display_data"
    }
   ],
   "source": [
    "df2.shape"
   ]
  },
  {
   "cell_type": "code",
   "execution_count": null,
   "metadata": {},
   "outputs": [
    {
     "data": {
      "text/html": [
       "<div>\n",
       "<style scoped>\n",
       "    .dataframe tbody tr th:only-of-type {\n",
       "        vertical-align: middle;\n",
       "    }\n",
       "\n",
       "    .dataframe tbody tr th {\n",
       "        vertical-align: top;\n",
       "    }\n",
       "\n",
       "    .dataframe thead th {\n",
       "        text-align: right;\n",
       "    }\n",
       "</style>\n",
       "<table border=\"1\" class=\"dataframe\">\n",
       "  <thead>\n",
       "    <tr style=\"text-align: right;\">\n",
       "      <th></th>\n",
       "      <th>차대번호</th>\n",
       "      <th>wmi</th>\n",
       "      <th>WMI</th>\n",
       "      <th>Manufacturer</th>\n",
       "    </tr>\n",
       "  </thead>\n",
       "  <tbody>\n",
       "    <tr>\n",
       "      <th>0</th>\n",
       "      <td>KMFZCY7JBCU784032</td>\n",
       "      <td>KMF</td>\n",
       "      <td>KMF</td>\n",
       "      <td>Hyundai</td>\n",
       "    </tr>\n",
       "    <tr>\n",
       "      <th>1</th>\n",
       "      <td>KMHJN81VP7U578447</td>\n",
       "      <td>KMH</td>\n",
       "      <td>KMH</td>\n",
       "      <td>Hyundai</td>\n",
       "    </tr>\n",
       "    <tr>\n",
       "      <th>2</th>\n",
       "      <td>KPACE4AB1AP070600</td>\n",
       "      <td>KPA</td>\n",
       "      <td>KPA</td>\n",
       "      <td>SsangYong</td>\n",
       "    </tr>\n",
       "    <tr>\n",
       "      <th>3</th>\n",
       "      <td>KMHNU81WP7U009391</td>\n",
       "      <td>KMH</td>\n",
       "      <td>KMH</td>\n",
       "      <td>Hyundai</td>\n",
       "    </tr>\n",
       "    <tr>\n",
       "      <th>4</th>\n",
       "      <td>KMHDT41TP9U638425</td>\n",
       "      <td>KMH</td>\n",
       "      <td>KMH</td>\n",
       "      <td>Hyundai</td>\n",
       "    </tr>\n",
       "  </tbody>\n",
       "</table>\n",
       "</div>"
      ],
      "text/plain": [
       "                차대번호  wmi  WMI Manufacturer\n",
       "0  KMFZCY7JBCU784032  KMF  KMF      Hyundai\n",
       "1  KMHJN81VP7U578447  KMH  KMH      Hyundai\n",
       "2  KPACE4AB1AP070600  KPA  KPA    SsangYong\n",
       "3  KMHNU81WP7U009391  KMH  KMH      Hyundai\n",
       "4  KMHDT41TP9U638425  KMH  KMH      Hyundai"
      ]
     },
     "metadata": {},
     "output_type": "display_data"
    }
   ],
   "source": [
    "df2[['차대번호', 'wmi', 'WMI', 'Manufacturer']].head()"
   ]
  },
  {
   "cell_type": "code",
   "execution_count": null,
   "metadata": {},
   "outputs": [
    {
     "data": {
      "text/plain": [
       "0"
      ]
     },
     "metadata": {},
     "output_type": "display_data"
    }
   ],
   "source": [
    "df2.iloc[:, 6].isnull().sum()"
   ]
  },
  {
   "attachments": {},
   "cell_type": "markdown",
   "metadata": {},
   "source": [
    "##### 차대번호 길이 조건 전부 포함"
   ]
  },
  {
   "cell_type": "code",
   "execution_count": 2,
   "metadata": {},
   "outputs": [],
   "source": [
    "# 차대번호 개수(WMI 코드와 매칭되는 데이터) : 1453352"
   ]
  },
  {
   "cell_type": "code",
   "execution_count": 124,
   "metadata": {},
   "outputs": [
    {
     "name": "stdout",
     "output_type": "stream",
     "text": [
      "<class 'pandas.core.series.Series'>\n",
      "Int64Index: 1528586 entries, 0 to 1528585\n",
      "Series name: WMI\n",
      "Non-Null Count    Dtype \n",
      "--------------    ----- \n",
      "1453352 non-null  object\n",
      "dtypes: object(1)\n",
      "memory usage: 55.6+ MB\n"
     ]
    }
   ],
   "source": [
    "# 차대번호 길이 조건 전부 포함\n",
    "df2['WMI'].info()"
   ]
  },
  {
   "cell_type": "code",
   "execution_count": 133,
   "metadata": {},
   "outputs": [
    {
     "data": {
      "text/html": [
       "<div>\n",
       "<style scoped>\n",
       "    .dataframe tbody tr th:only-of-type {\n",
       "        vertical-align: middle;\n",
       "    }\n",
       "\n",
       "    .dataframe tbody tr th {\n",
       "        vertical-align: top;\n",
       "    }\n",
       "\n",
       "    .dataframe thead th {\n",
       "        text-align: right;\n",
       "    }\n",
       "</style>\n",
       "<table border=\"1\" class=\"dataframe\">\n",
       "  <thead>\n",
       "    <tr style=\"text-align: right;\">\n",
       "      <th></th>\n",
       "      <th>차량관리번호</th>\n",
       "      <th>차대번호</th>\n",
       "      <th>wmi</th>\n",
       "      <th>WMI</th>\n",
       "      <th>Identifier</th>\n",
       "    </tr>\n",
       "  </thead>\n",
       "  <tbody>\n",
       "    <tr>\n",
       "      <th>0</th>\n",
       "      <td>KMFZCY7JBCU784032-01</td>\n",
       "      <td>KMFZCY7JBCU784032</td>\n",
       "      <td>KMF</td>\n",
       "      <td>KMF</td>\n",
       "      <td>Hyundai</td>\n",
       "    </tr>\n",
       "    <tr>\n",
       "      <th>1</th>\n",
       "      <td>KMHJN81VP7U578447-01</td>\n",
       "      <td>KMHJN81VP7U578447</td>\n",
       "      <td>KMH</td>\n",
       "      <td>KMH</td>\n",
       "      <td>Hyundai</td>\n",
       "    </tr>\n",
       "    <tr>\n",
       "      <th>2</th>\n",
       "      <td>KPACE4AB1AP070600-01</td>\n",
       "      <td>KPACE4AB1AP070600</td>\n",
       "      <td>KPA</td>\n",
       "      <td>KPA</td>\n",
       "      <td>SsangYong</td>\n",
       "    </tr>\n",
       "    <tr>\n",
       "      <th>3</th>\n",
       "      <td>KMHNU81WP7U009391-01</td>\n",
       "      <td>KMHNU81WP7U009391</td>\n",
       "      <td>KMH</td>\n",
       "      <td>KMH</td>\n",
       "      <td>Hyundai</td>\n",
       "    </tr>\n",
       "    <tr>\n",
       "      <th>4</th>\n",
       "      <td>KMHDT41TP9U638425-01</td>\n",
       "      <td>KMHDT41TP9U638425</td>\n",
       "      <td>KMH</td>\n",
       "      <td>KMH</td>\n",
       "      <td>Hyundai</td>\n",
       "    </tr>\n",
       "  </tbody>\n",
       "</table>\n",
       "</div>"
      ],
      "text/plain": [
       "                 차량관리번호               차대번호  wmi  WMI Identifier\n",
       "0  KMFZCY7JBCU784032-01  KMFZCY7JBCU784032  KMF  KMF    Hyundai\n",
       "1  KMHJN81VP7U578447-01  KMHJN81VP7U578447  KMH  KMH    Hyundai\n",
       "2  KPACE4AB1AP070600-01  KPACE4AB1AP070600  KPA  KPA  SsangYong\n",
       "3  KMHNU81WP7U009391-01  KMHNU81WP7U009391  KMH  KMH    Hyundai\n",
       "4  KMHDT41TP9U638425-01  KMHDT41TP9U638425  KMH  KMH    Hyundai"
      ]
     },
     "execution_count": 133,
     "metadata": {},
     "output_type": "execute_result"
    }
   ],
   "source": [
    "# wmi 코드와 매칭되는 데이터\n",
    "nor_iden = df2.loc[df2['WMI'].isnull() == False, ['차량관리번호', '차대번호', 'wmi', 'WMI', 'Identifier']]\n",
    "nor_iden.head()"
   ]
  },
  {
   "cell_type": "code",
   "execution_count": 126,
   "metadata": {},
   "outputs": [
    {
     "data": {
      "text/plain": [
       "(1453352, 4)"
      ]
     },
     "execution_count": 126,
     "metadata": {},
     "output_type": "execute_result"
    }
   ],
   "source": [
    "# WMI 코드와 매칭되는 샘플 수 : 1453352\n",
    "nor_iden.shape"
   ]
  },
  {
   "cell_type": "code",
   "execution_count": 127,
   "metadata": {},
   "outputs": [
    {
     "data": {
      "text/plain": [
       "144"
      ]
     },
     "execution_count": 127,
     "metadata": {},
     "output_type": "execute_result"
    }
   ],
   "source": [
    "# wmi 유니크 개수 : 144\n",
    "len(nor_iden['wmi'].unique())"
   ]
  },
  {
   "cell_type": "code",
   "execution_count": 128,
   "metadata": {},
   "outputs": [
    {
     "data": {
      "text/plain": [
       "75"
      ]
     },
     "execution_count": 128,
     "metadata": {},
     "output_type": "execute_result"
    }
   ],
   "source": [
    "# 제작사 유니크 개수 : 75\n",
    "len(nor_iden['Identifier'].unique())"
   ]
  },
  {
   "cell_type": "code",
   "execution_count": 129,
   "metadata": {},
   "outputs": [
    {
     "data": {
      "text/html": [
       "<div>\n",
       "<style scoped>\n",
       "    .dataframe tbody tr th:only-of-type {\n",
       "        vertical-align: middle;\n",
       "    }\n",
       "\n",
       "    .dataframe tbody tr th {\n",
       "        vertical-align: top;\n",
       "    }\n",
       "\n",
       "    .dataframe thead th {\n",
       "        text-align: right;\n",
       "    }\n",
       "</style>\n",
       "<table border=\"1\" class=\"dataframe\">\n",
       "  <thead>\n",
       "    <tr style=\"text-align: right;\">\n",
       "      <th></th>\n",
       "      <th>차량관리번호</th>\n",
       "      <th>차대번호</th>\n",
       "      <th>wmi</th>\n",
       "      <th>WMI</th>\n",
       "      <th>Identifier</th>\n",
       "    </tr>\n",
       "  </thead>\n",
       "  <tbody>\n",
       "    <tr>\n",
       "      <th>16</th>\n",
       "      <td>KLTBL8AW19K000032-01</td>\n",
       "      <td>KLTBL8AW19K000032</td>\n",
       "      <td>KLT</td>\n",
       "      <td>NaN</td>\n",
       "      <td>NaN</td>\n",
       "    </tr>\n",
       "    <tr>\n",
       "      <th>33</th>\n",
       "      <td>KNFSEOA429K392912-01</td>\n",
       "      <td>KNFSE0A429K392912</td>\n",
       "      <td>KNF</td>\n",
       "      <td>NaN</td>\n",
       "      <td>NaN</td>\n",
       "    </tr>\n",
       "    <tr>\n",
       "      <th>36</th>\n",
       "      <td>KLY3S11BDVC433781-01</td>\n",
       "      <td>KLY3S11BDVC433781</td>\n",
       "      <td>KLY</td>\n",
       "      <td>NaN</td>\n",
       "      <td>NaN</td>\n",
       "    </tr>\n",
       "    <tr>\n",
       "      <th>63</th>\n",
       "      <td>KN3HNS8D1PK002372-01</td>\n",
       "      <td>KN3HNS8D1PK002372</td>\n",
       "      <td>KN3</td>\n",
       "      <td>NaN</td>\n",
       "      <td>NaN</td>\n",
       "    </tr>\n",
       "    <tr>\n",
       "      <th>92</th>\n",
       "      <td>KLY7T11ZDSC024951-01</td>\n",
       "      <td>KLY7T11ZDSC024951</td>\n",
       "      <td>KLY</td>\n",
       "      <td>NaN</td>\n",
       "      <td>NaN</td>\n",
       "    </tr>\n",
       "  </tbody>\n",
       "</table>\n",
       "</div>"
      ],
      "text/plain": [
       "                  차량관리번호               차대번호  wmi  WMI Identifier\n",
       "16  KLTBL8AW19K000032-01  KLTBL8AW19K000032  KLT  NaN        NaN\n",
       "33  KNFSEOA429K392912-01  KNFSE0A429K392912  KNF  NaN        NaN\n",
       "36  KLY3S11BDVC433781-01  KLY3S11BDVC433781  KLY  NaN        NaN\n",
       "63  KN3HNS8D1PK002372-01  KN3HNS8D1PK002372  KN3  NaN        NaN\n",
       "92  KLY7T11ZDSC024951-01  KLY7T11ZDSC024951  KLY  NaN        NaN"
      ]
     },
     "execution_count": 129,
     "metadata": {},
     "output_type": "execute_result"
    }
   ],
   "source": [
    "# wmi 코드와 매칭 안되는 데이터\n",
    "error_iden = df2.loc[df2['WMI'].isnull() == True, ['차량관리번호', '차대번호', 'wmi', 'WMI', 'Identifier']]\n",
    "error_iden.head()"
   ]
  },
  {
   "cell_type": "code",
   "execution_count": 130,
   "metadata": {},
   "outputs": [
    {
     "data": {
      "text/plain": [
       "(75234, 5)"
      ]
     },
     "execution_count": 130,
     "metadata": {},
     "output_type": "execute_result"
    }
   ],
   "source": [
    "# wmi 코드 매칭 안되는 샘플 수 : 75234\n",
    "error_iden.shape"
   ]
  },
  {
   "cell_type": "code",
   "execution_count": 131,
   "metadata": {},
   "outputs": [
    {
     "data": {
      "text/plain": [
       "241"
      ]
     },
     "execution_count": 131,
     "metadata": {},
     "output_type": "execute_result"
    }
   ],
   "source": [
    "len(error_iden['wmi'].unique())"
   ]
  },
  {
   "cell_type": "markdown",
   "metadata": {},
   "source": [
    "###### [출력]오류 wmi코드 예시"
   ]
  },
  {
   "cell_type": "code",
   "execution_count": 132,
   "metadata": {},
   "outputs": [
    {
     "name": "stderr",
     "output_type": "stream",
     "text": [
      "C:\\Users\\kbj\\AppData\\Roaming\\Python\\Python39\\site-packages\\pandas\\util\\_decorators.py:211: FutureWarning: the 'encoding' keyword is deprecated and will be removed in a future version. Please take steps to stop the use of 'encoding'\n",
      "  return func(*args, **kwargs)\n"
     ]
    }
   ],
   "source": [
    "error_iden.to_excel('analysis/[차대번호][4등급]오류_WMI코드_데이터예시.xlsx',index=False, encoding='cp949')"
   ]
  },
  {
   "cell_type": "code",
   "execution_count": 126,
   "metadata": {},
   "outputs": [
    {
     "data": {
      "text/html": [
       "<div>\n",
       "<style scoped>\n",
       "    .dataframe tbody tr th:only-of-type {\n",
       "        vertical-align: middle;\n",
       "    }\n",
       "\n",
       "    .dataframe tbody tr th {\n",
       "        vertical-align: top;\n",
       "    }\n",
       "\n",
       "    .dataframe thead th {\n",
       "        text-align: right;\n",
       "    }\n",
       "</style>\n",
       "<table border=\"1\" class=\"dataframe\">\n",
       "  <thead>\n",
       "    <tr style=\"text-align: right;\">\n",
       "      <th></th>\n",
       "      <th>Identifier</th>\n",
       "      <th>차대번호</th>\n",
       "    </tr>\n",
       "  </thead>\n",
       "  <tbody>\n",
       "    <tr>\n",
       "      <th>24</th>\n",
       "      <td>Hyundai</td>\n",
       "      <td>887158</td>\n",
       "    </tr>\n",
       "    <tr>\n",
       "      <th>32</th>\n",
       "      <td>Kia</td>\n",
       "      <td>358332</td>\n",
       "    </tr>\n",
       "    <tr>\n",
       "      <th>19</th>\n",
       "      <td>GM Daewoo</td>\n",
       "      <td>116240</td>\n",
       "    </tr>\n",
       "    <tr>\n",
       "      <th>66</th>\n",
       "      <td>SsangYong</td>\n",
       "      <td>31201</td>\n",
       "    </tr>\n",
       "    <tr>\n",
       "      <th>60</th>\n",
       "      <td>Renault Samsung</td>\n",
       "      <td>16165</td>\n",
       "    </tr>\n",
       "    <tr>\n",
       "      <th>...</th>\n",
       "      <td>...</td>\n",
       "      <td>...</td>\n",
       "    </tr>\n",
       "    <tr>\n",
       "      <th>18</th>\n",
       "      <td>Freightliner</td>\n",
       "      <td>1</td>\n",
       "    </tr>\n",
       "    <tr>\n",
       "      <th>58</th>\n",
       "      <td>RUF</td>\n",
       "      <td>1</td>\n",
       "    </tr>\n",
       "    <tr>\n",
       "      <th>14</th>\n",
       "      <td>Dong Feng</td>\n",
       "      <td>1</td>\n",
       "    </tr>\n",
       "    <tr>\n",
       "      <th>12</th>\n",
       "      <td>Daimler</td>\n",
       "      <td>1</td>\n",
       "    </tr>\n",
       "    <tr>\n",
       "      <th>0</th>\n",
       "      <td>Alfa Romeo</td>\n",
       "      <td>1</td>\n",
       "    </tr>\n",
       "  </tbody>\n",
       "</table>\n",
       "<p>75 rows × 2 columns</p>\n",
       "</div>"
      ],
      "text/plain": [
       "         Identifier    차대번호\n",
       "24          Hyundai  887158\n",
       "32              Kia  358332\n",
       "19        GM Daewoo  116240\n",
       "66        SsangYong   31201\n",
       "60  Renault Samsung   16165\n",
       "..              ...     ...\n",
       "18     Freightliner       1\n",
       "58              RUF       1\n",
       "14        Dong Feng       1\n",
       "12          Daimler       1\n",
       "0        Alfa Romeo       1\n",
       "\n",
       "[75 rows x 2 columns]"
      ]
     },
     "execution_count": 126,
     "metadata": {},
     "output_type": "execute_result"
    }
   ],
   "source": [
    "# wmi 코드와 매칭되는 데이터 통계\n",
    "nor_iden_group = nor_iden.groupby(['Identifier'], as_index=False)['차대번호'].count().sort_values('차대번호', ascending=False)\n",
    "nor_iden_group"
   ]
  },
  {
   "cell_type": "markdown",
   "metadata": {},
   "source": [
    "###### [출력]제작사별 통계"
   ]
  },
  {
   "cell_type": "code",
   "execution_count": 127,
   "metadata": {},
   "outputs": [
    {
     "name": "stderr",
     "output_type": "stream",
     "text": [
      "C:\\Users\\kbj\\AppData\\Roaming\\Python\\Python39\\site-packages\\pandas\\util\\_decorators.py:211: FutureWarning: the 'encoding' keyword is deprecated and will be removed in a future version. Please take steps to stop the use of 'encoding'\n",
      "  return func(*args, **kwargs)\n"
     ]
    }
   ],
   "source": [
    "nor_iden_group.to_excel('analysis/[차대번호][4등급]제작사별_통계.xlsx', index=False, encoding='cp949')"
   ]
  },
  {
   "attachments": {},
   "cell_type": "markdown",
   "metadata": {},
   "source": [
    "##### 차대번호 정상"
   ]
  },
  {
   "cell_type": "code",
   "execution_count": null,
   "metadata": {},
   "outputs": [],
   "source": [
    "# - 길이 17자리, IOQ 문자 미포함\n",
    "# - 차대번호 개수(정상 WMI 코드) : 1524938"
   ]
  },
  {
   "cell_type": "code",
   "execution_count": 128,
   "metadata": {},
   "outputs": [
    {
     "data": {
      "text/html": [
       "<div>\n",
       "<style scoped>\n",
       "    .dataframe tbody tr th:only-of-type {\n",
       "        vertical-align: middle;\n",
       "    }\n",
       "\n",
       "    .dataframe tbody tr th {\n",
       "        vertical-align: top;\n",
       "    }\n",
       "\n",
       "    .dataframe thead th {\n",
       "        text-align: right;\n",
       "    }\n",
       "</style>\n",
       "<table border=\"1\" class=\"dataframe\">\n",
       "  <thead>\n",
       "    <tr style=\"text-align: right;\">\n",
       "      <th></th>\n",
       "      <th>차량관리번호</th>\n",
       "      <th>차량등록번호</th>\n",
       "      <th>본거지법정동코드</th>\n",
       "      <th>소유자구분</th>\n",
       "      <th>차종_등록정보</th>\n",
       "      <th>용도</th>\n",
       "      <th>차대번호</th>\n",
       "      <th>최초등록일자</th>\n",
       "      <th>차량연식</th>\n",
       "      <th>차량제작일자</th>\n",
       "      <th>...</th>\n",
       "      <th>MF CODE</th>\n",
       "      <th>Identifier</th>\n",
       "      <th>Manufacturer</th>\n",
       "      <th>Country</th>\n",
       "      <th>Vehicle Types</th>\n",
       "      <th>Description</th>\n",
       "      <th>참고</th>\n",
       "      <th>VIN_length</th>\n",
       "      <th>IOQ</th>\n",
       "      <th>alpha</th>\n",
       "    </tr>\n",
       "  </thead>\n",
       "  <tbody>\n",
       "    <tr>\n",
       "      <th>0</th>\n",
       "      <td>KMFZCY7JBCU784032-01</td>\n",
       "      <td>97구4490</td>\n",
       "      <td>1144010700</td>\n",
       "      <td>법인</td>\n",
       "      <td>화물</td>\n",
       "      <td>자가용</td>\n",
       "      <td>KMFZCY7JBCU784032</td>\n",
       "      <td>20110817</td>\n",
       "      <td>2012</td>\n",
       "      <td>20110811.0</td>\n",
       "      <td>...</td>\n",
       "      <td>HYUN</td>\n",
       "      <td>Hyundai</td>\n",
       "      <td>Hyundai</td>\n",
       "      <td>Korea</td>\n",
       "      <td>Commercail vehicle</td>\n",
       "      <td>NaN</td>\n",
       "      <td>NaN</td>\n",
       "      <td>17</td>\n",
       "      <td>N</td>\n",
       "      <td>Y</td>\n",
       "    </tr>\n",
       "    <tr>\n",
       "      <th>1</th>\n",
       "      <td>KMHJN81VP7U578447-01</td>\n",
       "      <td>11너2154</td>\n",
       "      <td>2650010100</td>\n",
       "      <td>주민</td>\n",
       "      <td>승용</td>\n",
       "      <td>자가용</td>\n",
       "      <td>KMHJN81VP7U578447</td>\n",
       "      <td>20070102</td>\n",
       "      <td>2007</td>\n",
       "      <td>20061104.0</td>\n",
       "      <td>...</td>\n",
       "      <td>HYUN</td>\n",
       "      <td>Hyundai</td>\n",
       "      <td>Hyundai</td>\n",
       "      <td>Korea</td>\n",
       "      <td>Passenger &amp; multi-purpose vehicle</td>\n",
       "      <td>NaN</td>\n",
       "      <td>NaN</td>\n",
       "      <td>17</td>\n",
       "      <td>N</td>\n",
       "      <td>Y</td>\n",
       "    </tr>\n",
       "    <tr>\n",
       "      <th>2</th>\n",
       "      <td>KPACE4AB1AP070600-01</td>\n",
       "      <td>96어5714</td>\n",
       "      <td>4729025024</td>\n",
       "      <td>주민</td>\n",
       "      <td>화물</td>\n",
       "      <td>자가용</td>\n",
       "      <td>KPACE4AB1AP070600</td>\n",
       "      <td>20091221</td>\n",
       "      <td>2010</td>\n",
       "      <td>20091210.0</td>\n",
       "      <td>...</td>\n",
       "      <td>SSAN</td>\n",
       "      <td>SsangYong</td>\n",
       "      <td>SsangYong</td>\n",
       "      <td>NaN</td>\n",
       "      <td>NaN</td>\n",
       "      <td>NaN</td>\n",
       "      <td>NaN</td>\n",
       "      <td>17</td>\n",
       "      <td>N</td>\n",
       "      <td>Y</td>\n",
       "    </tr>\n",
       "    <tr>\n",
       "      <th>3</th>\n",
       "      <td>KMHNU81WP7U009391-01</td>\n",
       "      <td>11가1154</td>\n",
       "      <td>4117110100</td>\n",
       "      <td>사업자</td>\n",
       "      <td>승용</td>\n",
       "      <td>자가용</td>\n",
       "      <td>KMHNU81WP7U009391</td>\n",
       "      <td>20070212</td>\n",
       "      <td>2007</td>\n",
       "      <td>20070207.0</td>\n",
       "      <td>...</td>\n",
       "      <td>HYUN</td>\n",
       "      <td>Hyundai</td>\n",
       "      <td>Hyundai</td>\n",
       "      <td>Korea</td>\n",
       "      <td>Passenger &amp; multi-purpose vehicle</td>\n",
       "      <td>NaN</td>\n",
       "      <td>NaN</td>\n",
       "      <td>17</td>\n",
       "      <td>N</td>\n",
       "      <td>Y</td>\n",
       "    </tr>\n",
       "    <tr>\n",
       "      <th>4</th>\n",
       "      <td>KMHDT41TP9U638425-01</td>\n",
       "      <td>22보7099</td>\n",
       "      <td>4711331026</td>\n",
       "      <td>주민</td>\n",
       "      <td>승용</td>\n",
       "      <td>자가용</td>\n",
       "      <td>KMHDT41TP9U638425</td>\n",
       "      <td>20081128</td>\n",
       "      <td>2009</td>\n",
       "      <td>20081123.0</td>\n",
       "      <td>...</td>\n",
       "      <td>HYUN</td>\n",
       "      <td>Hyundai</td>\n",
       "      <td>Hyundai</td>\n",
       "      <td>Korea</td>\n",
       "      <td>Passenger &amp; multi-purpose vehicle</td>\n",
       "      <td>NaN</td>\n",
       "      <td>NaN</td>\n",
       "      <td>17</td>\n",
       "      <td>N</td>\n",
       "      <td>Y</td>\n",
       "    </tr>\n",
       "  </tbody>\n",
       "</table>\n",
       "<p>5 rows × 52 columns</p>\n",
       "</div>"
      ],
      "text/plain": [
       "                 차량관리번호   차량등록번호    본거지법정동코드 소유자구분 차종_등록정보   용도  \\\n",
       "0  KMFZCY7JBCU784032-01  97구4490  1144010700    법인      화물  자가용   \n",
       "1  KMHJN81VP7U578447-01  11너2154  2650010100    주민      승용  자가용   \n",
       "2  KPACE4AB1AP070600-01  96어5714  4729025024    주민      화물  자가용   \n",
       "3  KMHNU81WP7U009391-01  11가1154  4117110100   사업자      승용  자가용   \n",
       "4  KMHDT41TP9U638425-01  22보7099  4711331026    주민      승용  자가용   \n",
       "\n",
       "                차대번호    최초등록일자  차량연식      차량제작일자  ...  MF CODE Identifier  \\\n",
       "0  KMFZCY7JBCU784032  20110817  2012  20110811.0  ...     HYUN    Hyundai   \n",
       "1  KMHJN81VP7U578447  20070102  2007  20061104.0  ...     HYUN    Hyundai   \n",
       "2  KPACE4AB1AP070600  20091221  2010  20091210.0  ...     SSAN  SsangYong   \n",
       "3  KMHNU81WP7U009391  20070212  2007  20070207.0  ...     HYUN    Hyundai   \n",
       "4  KMHDT41TP9U638425  20081128  2009  20081123.0  ...     HYUN    Hyundai   \n",
       "\n",
       "  Manufacturer  Country                      Vehicle Types Description  참고  \\\n",
       "0      Hyundai    Korea                 Commercail vehicle         NaN NaN   \n",
       "1      Hyundai    Korea  Passenger & multi-purpose vehicle         NaN NaN   \n",
       "2    SsangYong      NaN                                NaN         NaN NaN   \n",
       "3      Hyundai    Korea  Passenger & multi-purpose vehicle         NaN NaN   \n",
       "4      Hyundai    Korea  Passenger & multi-purpose vehicle         NaN NaN   \n",
       "\n",
       "  VIN_length  IOQ alpha  \n",
       "0         17    N     Y  \n",
       "1         17    N     Y  \n",
       "2         17    N     Y  \n",
       "3         17    N     Y  \n",
       "4         17    N     Y  \n",
       "\n",
       "[5 rows x 52 columns]"
      ]
     },
     "execution_count": 128,
     "metadata": {},
     "output_type": "execute_result"
    }
   ],
   "source": [
    "nor_vin = df2.loc[(df2['VIN_length'] == 17) & (df2['IOQ'] == 'N')]\n",
    "nor_vin.head()"
   ]
  },
  {
   "cell_type": "code",
   "execution_count": 129,
   "metadata": {},
   "outputs": [
    {
     "data": {
      "text/plain": [
       "(1524938, 52)"
      ]
     },
     "execution_count": 129,
     "metadata": {},
     "output_type": "execute_result"
    }
   ],
   "source": [
    "nor_vin.shape"
   ]
  },
  {
   "cell_type": "code",
   "execution_count": 130,
   "metadata": {},
   "outputs": [
    {
     "data": {
      "text/plain": [
       "(1452859, 52)"
      ]
     },
     "execution_count": 130,
     "metadata": {},
     "output_type": "execute_result"
    }
   ],
   "source": [
    "# wmi 코드와 매칭된 데이터\n",
    "nor_iden_by_nor_vin = nor_vin.loc[nor_vin['WMI'].isnull() == False]\n",
    "nor_iden_by_nor_vin.shape"
   ]
  },
  {
   "cell_type": "code",
   "execution_count": 135,
   "metadata": {},
   "outputs": [
    {
     "data": {
      "text/plain": [
       "(72079, 52)"
      ]
     },
     "execution_count": 135,
     "metadata": {},
     "output_type": "execute_result"
    }
   ],
   "source": [
    "# wmi 코드와 매칭안된 데이터\n",
    "nor_vin.loc[nor_vin['WMI'].isnull() == True].shape"
   ]
  },
  {
   "cell_type": "code",
   "execution_count": 131,
   "metadata": {},
   "outputs": [
    {
     "data": {
      "text/plain": [
       "74"
      ]
     },
     "execution_count": 131,
     "metadata": {},
     "output_type": "execute_result"
    }
   ],
   "source": [
    "# wmi 코드와 매칭된 데이터, 제작사 유니크 값\n",
    "len(nor_iden_by_nor_vin['Identifier'].unique())"
   ]
  },
  {
   "cell_type": "code",
   "execution_count": 132,
   "metadata": {},
   "outputs": [
    {
     "data": {
      "text/plain": [
       "142"
      ]
     },
     "execution_count": 132,
     "metadata": {},
     "output_type": "execute_result"
    }
   ],
   "source": [
    "# wmi 코드와 매칭된 데이터, wmi 유니크 값\n",
    "len(nor_iden_by_nor_vin['WMI'].unique())"
   ]
  },
  {
   "cell_type": "code",
   "execution_count": 133,
   "metadata": {},
   "outputs": [
    {
     "data": {
      "text/html": [
       "<div>\n",
       "<style scoped>\n",
       "    .dataframe tbody tr th:only-of-type {\n",
       "        vertical-align: middle;\n",
       "    }\n",
       "\n",
       "    .dataframe tbody tr th {\n",
       "        vertical-align: top;\n",
       "    }\n",
       "\n",
       "    .dataframe thead th {\n",
       "        text-align: right;\n",
       "    }\n",
       "</style>\n",
       "<table border=\"1\" class=\"dataframe\">\n",
       "  <thead>\n",
       "    <tr style=\"text-align: right;\">\n",
       "      <th></th>\n",
       "      <th>Identifier</th>\n",
       "      <th>차대번호</th>\n",
       "    </tr>\n",
       "  </thead>\n",
       "  <tbody>\n",
       "    <tr>\n",
       "      <th>24</th>\n",
       "      <td>Hyundai</td>\n",
       "      <td>887097</td>\n",
       "    </tr>\n",
       "    <tr>\n",
       "      <th>32</th>\n",
       "      <td>Kia</td>\n",
       "      <td>358299</td>\n",
       "    </tr>\n",
       "    <tr>\n",
       "      <th>19</th>\n",
       "      <td>GM Daewoo</td>\n",
       "      <td>116158</td>\n",
       "    </tr>\n",
       "    <tr>\n",
       "      <th>65</th>\n",
       "      <td>SsangYong</td>\n",
       "      <td>31200</td>\n",
       "    </tr>\n",
       "    <tr>\n",
       "      <th>59</th>\n",
       "      <td>Renault Samsung</td>\n",
       "      <td>16164</td>\n",
       "    </tr>\n",
       "    <tr>\n",
       "      <th>...</th>\n",
       "      <td>...</td>\n",
       "      <td>...</td>\n",
       "    </tr>\n",
       "    <tr>\n",
       "      <th>18</th>\n",
       "      <td>Freightliner</td>\n",
       "      <td>1</td>\n",
       "    </tr>\n",
       "    <tr>\n",
       "      <th>57</th>\n",
       "      <td>RUF</td>\n",
       "      <td>1</td>\n",
       "    </tr>\n",
       "    <tr>\n",
       "      <th>14</th>\n",
       "      <td>Dong Feng</td>\n",
       "      <td>1</td>\n",
       "    </tr>\n",
       "    <tr>\n",
       "      <th>12</th>\n",
       "      <td>Daimler</td>\n",
       "      <td>1</td>\n",
       "    </tr>\n",
       "    <tr>\n",
       "      <th>0</th>\n",
       "      <td>Alfa Romeo</td>\n",
       "      <td>1</td>\n",
       "    </tr>\n",
       "  </tbody>\n",
       "</table>\n",
       "<p>74 rows × 2 columns</p>\n",
       "</div>"
      ],
      "text/plain": [
       "         Identifier    차대번호\n",
       "24          Hyundai  887097\n",
       "32              Kia  358299\n",
       "19        GM Daewoo  116158\n",
       "65        SsangYong   31200\n",
       "59  Renault Samsung   16164\n",
       "..              ...     ...\n",
       "18     Freightliner       1\n",
       "57              RUF       1\n",
       "14        Dong Feng       1\n",
       "12          Daimler       1\n",
       "0        Alfa Romeo       1\n",
       "\n",
       "[74 rows x 2 columns]"
      ]
     },
     "execution_count": 133,
     "metadata": {},
     "output_type": "execute_result"
    }
   ],
   "source": [
    "# wmi 코드와 매칭된 데이터 통계\n",
    "nor_iden_by_nor_vin_group = nor_iden_by_nor_vin.groupby('Identifier', as_index=False)['차대번호'].count().sort_values('차대번호', ascending=False)\n",
    "nor_iden_by_nor_vin_group"
   ]
  },
  {
   "cell_type": "markdown",
   "metadata": {},
   "source": [
    "###### [출력]제작사별 통계(정상차대번호)"
   ]
  },
  {
   "cell_type": "code",
   "execution_count": 134,
   "metadata": {},
   "outputs": [
    {
     "name": "stderr",
     "output_type": "stream",
     "text": [
      "C:\\Users\\kbj\\AppData\\Roaming\\Python\\Python39\\site-packages\\pandas\\util\\_decorators.py:211: FutureWarning: the 'encoding' keyword is deprecated and will be removed in a future version. Please take steps to stop the use of 'encoding'\n",
      "  return func(*args, **kwargs)\n"
     ]
    }
   ],
   "source": [
    "nor_iden_by_nor_vin_group.to_excel('analysis/[차대번호][4등급]제작사별_통계(정상차대번호).xlsx', encoding='cp949')"
   ]
  },
  {
   "attachments": {},
   "cell_type": "markdown",
   "metadata": {},
   "source": [
    "### 7\\. [e]최초등록일자"
   ]
  },
  {
   "cell_type": "code",
   "execution_count": null,
   "metadata": {},
   "outputs": [],
   "source": [
    "# - 오류\n",
    "#     - null 값 : 0\n",
    "#     - 숫자가 아닌 값 : 0\n",
    "#     - 길이가 8이 아닌 값 : 2"
   ]
  },
  {
   "cell_type": "code",
   "execution_count": 41,
   "metadata": {},
   "outputs": [
    {
     "data": {
      "text/plain": [
       "20080102    4651\n",
       "20110103    4609\n",
       "20090102    4263\n",
       "20080103    2707\n",
       "20100104    2634\n",
       "            ... \n",
       "20160127       1\n",
       "20130617       1\n",
       "20040716       1\n",
       "20130712       1\n",
       "20220614       1\n",
       "Name: 최초등록일자, Length: 8446, dtype: int64"
      ]
     },
     "execution_count": 41,
     "metadata": {},
     "output_type": "execute_result"
    }
   ],
   "source": [
    "df.iloc[:, 7].value_counts()"
   ]
  },
  {
   "cell_type": "code",
   "execution_count": 42,
   "metadata": {},
   "outputs": [
    {
     "data": {
      "text/plain": [
       "0"
      ]
     },
     "execution_count": 42,
     "metadata": {},
     "output_type": "execute_result"
    }
   ],
   "source": [
    "df.iloc[:, 7].isnull().sum()"
   ]
  },
  {
   "cell_type": "code",
   "execution_count": 43,
   "metadata": {},
   "outputs": [
    {
     "name": "stderr",
     "output_type": "stream",
     "text": [
      "1528586it [00:02, 677042.45it/s]\n"
     ]
    },
    {
     "data": {
      "text/plain": [
       "0"
      ]
     },
     "execution_count": 43,
     "metadata": {},
     "output_type": "execute_result"
    }
   ],
   "source": [
    "# 숫자가 포함되지 않은 샘플\n",
    "count = 0\n",
    "p7 = re.compile('\\d+')\n",
    "idx7 = []\n",
    "for i, one in tqdm(enumerate(df.iloc[:, 7].to_numpy())):\n",
    "    if not p7.search(str(one)):\n",
    "        idx7.append(i)\n",
    "        count += 1\n",
    "count"
   ]
  },
  {
   "cell_type": "code",
   "execution_count": 44,
   "metadata": {},
   "outputs": [
    {
     "name": "stderr",
     "output_type": "stream",
     "text": [
      "1528586it [00:01, 918736.69it/s]\n"
     ]
    },
    {
     "data": {
      "text/plain": [
       "2"
      ]
     },
     "execution_count": 44,
     "metadata": {},
     "output_type": "execute_result"
    }
   ],
   "source": [
    "# 길이가 8이 아닌 샘플\n",
    "count = 0\n",
    "idx71 = []\n",
    "for i, one in tqdm(enumerate(df.iloc[:, 7].to_numpy())):\n",
    "    if len(str(one)) != 8:\n",
    "        idx71.append(i)\n",
    "        count += 1\n",
    "count"
   ]
  },
  {
   "cell_type": "code",
   "execution_count": 45,
   "metadata": {},
   "outputs": [
    {
     "data": {
      "text/plain": [
       "110669       1993\n",
       "489146    9960617\n",
       "Name: 최초등록일자, dtype: int64"
      ]
     },
     "execution_count": 45,
     "metadata": {},
     "output_type": "execute_result"
    }
   ],
   "source": [
    "# 길이가 8이 아닌 샘플 예시\n",
    "df.iloc[:, 7].reindex(idx71)"
   ]
  },
  {
   "attachments": {},
   "cell_type": "markdown",
   "metadata": {},
   "source": [
    "### 8\\. 차량연식"
   ]
  },
  {
   "cell_type": "code",
   "execution_count": null,
   "metadata": {},
   "outputs": [],
   "source": [
    "# - 오류\n",
    "#     - null 값 : 0\n",
    "#     - 길이 4 아닌 값 : 0\n",
    "#     - 숫자가 아닌 값 : 0"
   ]
  },
  {
   "cell_type": "code",
   "execution_count": 46,
   "metadata": {},
   "outputs": [
    {
     "data": {
      "text/plain": [
       "2010    252711\n",
       "2011    237575\n",
       "2008    226868\n",
       "2009    213544\n",
       "2007    107029\n",
       "2012     94187\n",
       "1994     37783\n",
       "1996     36266\n",
       "1995     35395\n",
       "1993     34281\n",
       "2006     34010\n",
       "1992     33927\n",
       "1991     30328\n",
       "1997     29988\n",
       "1990     26704\n",
       "1989     20689\n",
       "1999     20030\n",
       "2000     13327\n",
       "1988     11854\n",
       "1998     10236\n",
       "2002      8971\n",
       "2001      7836\n",
       "1987      1278\n",
       "2005      1068\n",
       "2017       732\n",
       "2018       483\n",
       "2016       482\n",
       "2015       463\n",
       "2004       214\n",
       "2003       169\n",
       "2013        98\n",
       "2014        13\n",
       "2019        13\n",
       "1986        12\n",
       "1985         4\n",
       "2020         3\n",
       "1984         3\n",
       "1979         3\n",
       "1983         3\n",
       "1978         1\n",
       "1981         1\n",
       "1980         1\n",
       "1901         1\n",
       "1968         1\n",
       "1973         1\n",
       "Name: 차량연식, dtype: int64"
      ]
     },
     "execution_count": 46,
     "metadata": {},
     "output_type": "execute_result"
    }
   ],
   "source": [
    "df.iloc[:, 8].value_counts()"
   ]
  },
  {
   "cell_type": "code",
   "execution_count": 47,
   "metadata": {},
   "outputs": [
    {
     "data": {
      "text/plain": [
       "0"
      ]
     },
     "execution_count": 47,
     "metadata": {},
     "output_type": "execute_result"
    }
   ],
   "source": [
    "df.iloc[:, 8].isnull().sum()"
   ]
  },
  {
   "cell_type": "code",
   "execution_count": 48,
   "metadata": {},
   "outputs": [
    {
     "name": "stderr",
     "output_type": "stream",
     "text": [
      "1528586it [00:01, 904369.05it/s]\n"
     ]
    },
    {
     "data": {
      "text/plain": [
       "0"
      ]
     },
     "execution_count": 48,
     "metadata": {},
     "output_type": "execute_result"
    }
   ],
   "source": [
    "count = 0\n",
    "idx8 = []\n",
    "for i, one in tqdm(enumerate(df.iloc[:, 8].to_numpy())):\n",
    "    if len(str(one)) != 4:\n",
    "        idx8.append(i)\n",
    "        count += 1\n",
    "count"
   ]
  },
  {
   "cell_type": "code",
   "execution_count": 49,
   "metadata": {},
   "outputs": [
    {
     "name": "stderr",
     "output_type": "stream",
     "text": [
      "1528586it [00:02, 699257.89it/s]\n"
     ]
    },
    {
     "data": {
      "text/plain": [
       "0"
      ]
     },
     "execution_count": 49,
     "metadata": {},
     "output_type": "execute_result"
    }
   ],
   "source": [
    "# 숫자가 포함되지 않은 샘플\n",
    "count = 0\n",
    "p81 = re.compile('\\d+')\n",
    "idx81 = []\n",
    "for i, one in tqdm(enumerate(df.iloc[:, 8].to_numpy())):\n",
    "    if not p81.search(str(one)):\n",
    "        idx81.append(i)\n",
    "        count += 1\n",
    "count"
   ]
  },
  {
   "attachments": {},
   "cell_type": "markdown",
   "metadata": {},
   "source": [
    "### 9\\. [e]차량제작일자"
   ]
  },
  {
   "cell_type": "code",
   "execution_count": null,
   "metadata": {},
   "outputs": [],
   "source": [
    "# - 오류\n",
    "#     - null : 169661\n",
    "#     - 8자리 아닌 값(null값 제외) : 4\n",
    "#     - 숫자가 아닌 값(null값 제외) : 0"
   ]
  },
  {
   "cell_type": "code",
   "execution_count": 50,
   "metadata": {},
   "outputs": [
    {
     "data": {
      "text/plain": [
       "169661"
      ]
     },
     "execution_count": 50,
     "metadata": {},
     "output_type": "execute_result"
    }
   ],
   "source": [
    "df.iloc[:, 9].isnull().sum()"
   ]
  },
  {
   "cell_type": "code",
   "execution_count": 51,
   "metadata": {},
   "outputs": [
    {
     "data": {
      "text/plain": [
       "20090629.0    1459\n",
       "20090612.0    1444\n",
       "20080219.0    1432\n",
       "20091201.0    1424\n",
       "20090702.0    1402\n",
       "              ... \n",
       "20140628.0       1\n",
       "20030407.0       1\n",
       "20060219.0       1\n",
       "20130128.0       1\n",
       "20190923.0       1\n",
       "Name: 차량제작일자, Length: 8299, dtype: int64"
      ]
     },
     "execution_count": 51,
     "metadata": {},
     "output_type": "execute_result"
    }
   ],
   "source": [
    "df.iloc[:, 9].value_counts()"
   ]
  },
  {
   "cell_type": "code",
   "execution_count": 52,
   "metadata": {},
   "outputs": [
    {
     "data": {
      "text/plain": [
       "0    20110811\n",
       "1    20061104\n",
       "2    20091210\n",
       "3    20070207\n",
       "4    20081123\n",
       "Name: 차량제작일자, dtype: int32"
      ]
     },
     "execution_count": 52,
     "metadata": {},
     "output_type": "execute_result"
    }
   ],
   "source": [
    "temp9 = df.iloc[:, 9].fillna(0).astype('int')\n",
    "temp9[:5]"
   ]
  },
  {
   "cell_type": "code",
   "execution_count": 53,
   "metadata": {},
   "outputs": [
    {
     "name": "stderr",
     "output_type": "stream",
     "text": [
      "1528586it [00:01, 892363.52it/s]\n"
     ]
    },
    {
     "data": {
      "text/plain": [
       "169665"
      ]
     },
     "execution_count": 53,
     "metadata": {},
     "output_type": "execute_result"
    }
   ],
   "source": [
    "# 길이가 8이 아닌 값 : 169,665 개\n",
    "count = 0\n",
    "idx91 = []\n",
    "for i, one in tqdm(enumerate(temp9.to_numpy())):\n",
    "    if len(str(one)) != 8:\n",
    "        idx91.append(i)\n",
    "        count += 1\n",
    "count"
   ]
  },
  {
   "cell_type": "code",
   "execution_count": 54,
   "metadata": {},
   "outputs": [
    {
     "name": "stderr",
     "output_type": "stream",
     "text": [
      "1528586it [00:00, 1665677.09it/s]\n"
     ]
    },
    {
     "data": {
      "text/plain": [
       "169661"
      ]
     },
     "execution_count": 54,
     "metadata": {},
     "output_type": "execute_result"
    }
   ],
   "source": [
    "# null 값 : 169661\n",
    "count = 0\n",
    "idx92 = []\n",
    "for i, one in tqdm(enumerate(temp9.to_numpy())):\n",
    "    if one == 0:\n",
    "        idx92.append(i)\n",
    "        count += 1\n",
    "count"
   ]
  },
  {
   "cell_type": "code",
   "execution_count": null,
   "metadata": {},
   "outputs": [],
   "source": [
    "# 길이가 8이 아닌 값 중 null 값 제외 값 : 4\n",
    "len(list(set(idx91) - set(idx92)))"
   ]
  },
  {
   "cell_type": "code",
   "execution_count": null,
   "metadata": {},
   "outputs": [],
   "source": [
    "temp9.reindex(list(set(idx91) - set(idx92)))"
   ]
  },
  {
   "cell_type": "code",
   "execution_count": 57,
   "metadata": {},
   "outputs": [
    {
     "name": "stderr",
     "output_type": "stream",
     "text": [
      "1528586it [00:02, 673383.50it/s]\n"
     ]
    },
    {
     "data": {
      "text/plain": [
       "0"
      ]
     },
     "execution_count": 57,
     "metadata": {},
     "output_type": "execute_result"
    }
   ],
   "source": [
    "# 숫자가 아닌 값 : 0\n",
    "count = 0\n",
    "p93 = re.compile('\\d+')\n",
    "idx93 = []\n",
    "for i, one in tqdm(enumerate(temp9.to_numpy())):\n",
    "    if not p93.search(str(one)):\n",
    "        idx93.append(i)\n",
    "        count += 1\n",
    "count"
   ]
  },
  {
   "attachments": {},
   "cell_type": "markdown",
   "metadata": {},
   "source": [
    "### 10\\. [e]검사유효일"
   ]
  },
  {
   "cell_type": "code",
   "execution_count": null,
   "metadata": {},
   "outputs": [],
   "source": [
    "# - 오류\n",
    "#     - null : 12=\n",
    "#     - 8자리 아닌 값 : 12\n",
    "#     - 숫자가 아닌 값(nan값 제외) : 0"
   ]
  },
  {
   "cell_type": "code",
   "execution_count": 58,
   "metadata": {},
   "outputs": [
    {
     "data": {
      "text/plain": [
       "12"
      ]
     },
     "execution_count": 58,
     "metadata": {},
     "output_type": "execute_result"
    }
   ],
   "source": [
    "df.iloc[:, 10].isnull().sum()"
   ]
  },
  {
   "cell_type": "code",
   "execution_count": 59,
   "metadata": {},
   "outputs": [
    {
     "data": {
      "text/plain": [
       "20200103.0    3335\n",
       "20200101.0    3304\n",
       "20200102.0    3132\n",
       "20210101.0    3017\n",
       "20190831.0    2346\n",
       "              ... \n",
       "21060605.0       1\n",
       "19901201.0       1\n",
       "19900208.0       1\n",
       "19900510.0       1\n",
       "20250908.0       1\n",
       "Name: 검사유효일, Length: 12510, dtype: int64"
      ]
     },
     "execution_count": 59,
     "metadata": {},
     "output_type": "execute_result"
    }
   ],
   "source": [
    "df.iloc[:, 10].value_counts()"
   ]
  },
  {
   "cell_type": "code",
   "execution_count": 60,
   "metadata": {},
   "outputs": [
    {
     "data": {
      "text/plain": [
       "0    20200508\n",
       "1    20210101\n",
       "2    20230130\n",
       "3    20210211\n",
       "4    20221231\n",
       "Name: 검사유효일, dtype: int32"
      ]
     },
     "execution_count": 60,
     "metadata": {},
     "output_type": "execute_result"
    }
   ],
   "source": [
    "temp10 = df.iloc[:, 10].fillna(0).astype('int')\n",
    "temp10[:5]"
   ]
  },
  {
   "cell_type": "code",
   "execution_count": 61,
   "metadata": {},
   "outputs": [
    {
     "name": "stderr",
     "output_type": "stream",
     "text": [
      "1528586it [00:01, 903427.18it/s]\n"
     ]
    },
    {
     "data": {
      "text/plain": [
       "12"
      ]
     },
     "execution_count": 61,
     "metadata": {},
     "output_type": "execute_result"
    }
   ],
   "source": [
    "# 길이가 8이 아닌 값 : 12\n",
    "count = 0\n",
    "idx101 = []\n",
    "for i, one in tqdm(enumerate(temp10.to_numpy())):\n",
    "    if len(str(one)) != 8:\n",
    "        idx101.append(i)\n",
    "        count += 1\n",
    "count"
   ]
  },
  {
   "cell_type": "code",
   "execution_count": 62,
   "metadata": {},
   "outputs": [
    {
     "name": "stderr",
     "output_type": "stream",
     "text": [
      "1528586it [00:00, 1756496.47it/s]\n"
     ]
    },
    {
     "data": {
      "text/plain": [
       "12"
      ]
     },
     "execution_count": 62,
     "metadata": {},
     "output_type": "execute_result"
    }
   ],
   "source": [
    "# null 값 : 12 개\n",
    "count = 0\n",
    "idx102 = []\n",
    "for i, one in tqdm(enumerate(temp10.to_numpy())):\n",
    "    if one == 0:\n",
    "        idx102.append(i)\n",
    "        count += 1\n",
    "count"
   ]
  },
  {
   "cell_type": "code",
   "execution_count": null,
   "metadata": {},
   "outputs": [],
   "source": [
    "# 길이가 8이 아닌 값 중 null 값 제외 값 : 0\n",
    "    # => 길이가 8이 아닌 값은 전부 null 값\n",
    "len(list(set(idx101) - set(idx102)))"
   ]
  },
  {
   "cell_type": "code",
   "execution_count": 64,
   "metadata": {},
   "outputs": [
    {
     "name": "stderr",
     "output_type": "stream",
     "text": [
      "1528586it [00:02, 659985.82it/s]\n"
     ]
    },
    {
     "data": {
      "text/plain": [
       "0"
      ]
     },
     "execution_count": 64,
     "metadata": {},
     "output_type": "execute_result"
    }
   ],
   "source": [
    "# 숫자가 아닌 값 : 0\n",
    "count = 0\n",
    "p103 = re.compile('\\d+')\n",
    "idx103 = []\n",
    "for i, one in tqdm(enumerate(temp10.to_numpy())):\n",
    "    if not p103.search(str(one)):\n",
    "        idx103.append(i)\n",
    "        count += 1\n",
    "count"
   ]
  },
  {
   "attachments": {},
   "cell_type": "markdown",
   "metadata": {},
   "source": [
    "### 11\\. [e]제원관리번호"
   ]
  },
  {
   "cell_type": "code",
   "execution_count": null,
   "metadata": {},
   "outputs": [],
   "source": [
    "# - 오류\n",
    "#     - null : 0\n",
    "#     - 17자리X : 356933\n",
    "#     - 17자리X, 숫자X : 30"
   ]
  },
  {
   "cell_type": "code",
   "execution_count": 65,
   "metadata": {},
   "outputs": [
    {
     "data": {
      "text/plain": [
       "A0810006801591209    36231\n",
       "A0110003400441206    22730\n",
       "A0810006209233110    19414\n",
       "A0810007402962210    16877\n",
       "A0810006801661210    16186\n",
       "                     ...  \n",
       "B2F10014200003307        1\n",
       "00032701002631207        1\n",
       "30290100000046           1\n",
       "20465900000000           1\n",
       "A0810005209353308        1\n",
       "Name: 제원관리번호, Length: 15315, dtype: int64"
      ]
     },
     "execution_count": 65,
     "metadata": {},
     "output_type": "execute_result"
    }
   ],
   "source": [
    "df.iloc[:, 11].value_counts()"
   ]
  },
  {
   "cell_type": "code",
   "execution_count": 66,
   "metadata": {},
   "outputs": [
    {
     "data": {
      "text/plain": [
       "0"
      ]
     },
     "execution_count": 66,
     "metadata": {},
     "output_type": "execute_result"
    }
   ],
   "source": [
    "df.iloc[:, 11].isnull().sum()"
   ]
  },
  {
   "cell_type": "code",
   "execution_count": 67,
   "metadata": {},
   "outputs": [
    {
     "name": "stderr",
     "output_type": "stream",
     "text": [
      "1528586it [00:01, 1460306.81it/s]\n"
     ]
    },
    {
     "data": {
      "text/plain": [
       "356933"
      ]
     },
     "execution_count": 67,
     "metadata": {},
     "output_type": "execute_result"
    }
   ],
   "source": [
    "# 17자리X : 356933\n",
    "count = 0\n",
    "idx111 = []\n",
    "for i, one in tqdm(enumerate(df.iloc[:, 11].to_numpy())):\n",
    "    if len(str(one)) != 17:\n",
    "        idx111.append(i)\n",
    "        count += 1\n",
    "count"
   ]
  },
  {
   "cell_type": "code",
   "execution_count": 68,
   "metadata": {},
   "outputs": [
    {
     "name": "stderr",
     "output_type": "stream",
     "text": [
      "1528586it [00:01, 1321963.35it/s]\n"
     ]
    },
    {
     "data": {
      "text/plain": [
       "30"
      ]
     },
     "execution_count": 68,
     "metadata": {},
     "output_type": "execute_result"
    }
   ],
   "source": [
    "# 17자리X, 숫자이외 값 : 30\n",
    "count = 0\n",
    "p112 = re.compile('[a-zA-Z가-힣]+')\n",
    "idx112 = []\n",
    "for i, one in tqdm(enumerate(df.iloc[:, 11].to_numpy())):\n",
    "    if len(str(one)) != 17 and p112.search(one):\n",
    "        idx112.append(i)\n",
    "        count += 1\n",
    "count"
   ]
  },
  {
   "attachments": {},
   "cell_type": "markdown",
   "metadata": {},
   "source": [
    "### 12\\. [e]배출가스인증번호"
   ]
  },
  {
   "cell_type": "code",
   "execution_count": null,
   "metadata": {},
   "outputs": [],
   "source": [
    "# - 정보\n",
    "#     - 총 : 1528586\n",
    "#     - null : 123001\n",
    "#     - 정상\n",
    "#         - 2005.01.04 이후 표기 방식([숫자문자]{3}-[문자]{2}-[숫자]{2}-[숫자]{2}, 12자리) : 1152680\n",
    "#         - 2005.01.04 이전 표기 방식([숫자문자]{3}-[문자]{2}-[숫자]{2}, 9자리) : 230867\n",
    "#     - 오류(null 값 제외) : 252905\n",
    "#       - 예시\n",
    "#           - "
   ]
  },
  {
   "cell_type": "code",
   "execution_count": null,
   "metadata": {},
   "outputs": [],
   "source": [
    "# 2005년 이후 표기 방식 중 길이가 12자리가 아닌 값 : \n",
    "#     - [max] 차량연식 : \n",
    "# 2005년 이전 표기 방식 중 길이가 9자리가 아닌 값 : "
   ]
  },
  {
   "cell_type": "code",
   "execution_count": 99,
   "metadata": {},
   "outputs": [
    {
     "data": {
      "text/plain": [
       "7MY-HD-14-68      268972\n",
       "8MY-KM-13-19       93969\n",
       "6MY-KM-14-61       76371\n",
       "9MY-KM-14-41       67493\n",
       "7MY-HD-14-46       60364\n",
       "                   ...  \n",
       "8MY-WI-0M-24           1\n",
       "AMY-PPE-14-225         1\n",
       "8MY-SN-0M-24           1\n",
       "7MY-SK-24-03           1\n",
       "AMY-PPE-14-800         1\n",
       "Name: 배출가스인증번호, Length: 304, dtype: int64"
      ]
     },
     "execution_count": 99,
     "metadata": {},
     "output_type": "execute_result"
    }
   ],
   "source": [
    "df.iloc[:, 12].value_counts()"
   ]
  },
  {
   "cell_type": "code",
   "execution_count": 100,
   "metadata": {},
   "outputs": [
    {
     "data": {
      "text/plain": [
       "123001"
      ]
     },
     "execution_count": 100,
     "metadata": {},
     "output_type": "execute_result"
    }
   ],
   "source": [
    "df.iloc[:, 12].isnull().sum()"
   ]
  },
  {
   "cell_type": "code",
   "execution_count": null,
   "metadata": {},
   "outputs": [],
   "source": [
    "gas_df = df.copy()\n",
    "gas_df.head()"
   ]
  },
  {
   "cell_type": "code",
   "execution_count": null,
   "metadata": {},
   "outputs": [],
   "source": [
    "# 빈칸을 포함한 예시\n",
    "# gas_df.iloc[1186467, 12]"
   ]
  },
  {
   "cell_type": "code",
   "execution_count": null,
   "metadata": {},
   "outputs": [],
   "source": [
    "# gas_df['배출가스인증번호'] = gas_df['배출가스인증번호'].str.replace(' ', '')\n",
    "# gas_df.iloc[1186467, 12]"
   ]
  },
  {
   "cell_type": "code",
   "execution_count": 101,
   "metadata": {},
   "outputs": [
    {
     "name": "stderr",
     "output_type": "stream",
     "text": [
      "1528586it [00:01, 806880.16it/s]\n"
     ]
    },
    {
     "data": {
      "text/plain": [
       "1152680"
      ]
     },
     "execution_count": 101,
     "metadata": {},
     "output_type": "execute_result"
    }
   ],
   "source": [
    "# 2005.01.04 이후 표기 방식 : 1152680\n",
    "count = 0\n",
    "p121 = re.compile('[a-zA-Z0-9]{3}[-][a-zA-Z]{2}[-][0-9]{2}[-][0-9]{2}')\n",
    "idx121 = []\n",
    "for i, one in tqdm(enumerate(gas_df.iloc[:, 12].to_numpy())):\n",
    "    if p121.search(str(one)):\n",
    "        idx121.append(i)\n",
    "        count += 1\n",
    "count"
   ]
  },
  {
   "cell_type": "code",
   "execution_count": 102,
   "metadata": {},
   "outputs": [
    {
     "name": "stderr",
     "output_type": "stream",
     "text": [
      "1528586it [00:01, 855895.55it/s]\n"
     ]
    },
    {
     "data": {
      "text/plain": [
       "375906"
      ]
     },
     "execution_count": 102,
     "metadata": {},
     "output_type": "execute_result"
    }
   ],
   "source": [
    "# 2005.01.04 이후 표기 방식이 아닌 값 : 375906\n",
    "count = 0\n",
    "idx122 = []\n",
    "for i, one in tqdm(enumerate(gas_df.iloc[:, 12].to_numpy())):\n",
    "    if not p121.search(str(one)):\n",
    "        idx122.append(i)\n",
    "        count += 1\n",
    "count"
   ]
  },
  {
   "cell_type": "code",
   "execution_count": null,
   "metadata": {},
   "outputs": [],
   "source": [
    "gas_df.iloc[:, 12].reindex(idx122)[:5]"
   ]
  },
  {
   "cell_type": "code",
   "execution_count": 103,
   "metadata": {},
   "outputs": [
    {
     "name": "stderr",
     "output_type": "stream",
     "text": [
      "375906it [00:00, 756850.81it/s]\n"
     ]
    },
    {
     "data": {
      "text/plain": [
       "230867"
      ]
     },
     "execution_count": 103,
     "metadata": {},
     "output_type": "execute_result"
    }
   ],
   "source": [
    "# 2005.01.04 이전 배출가스 표기 방식 \n",
    "count = 0\n",
    "p123 = re.compile('[a-zA-Z0-9]{3}[-][a-zA-Z]{2}[-][0-9]{2}')\n",
    "idx123 = []\n",
    "for i, one in tqdm(enumerate(gas_df.iloc[idx122, 12].to_numpy())):\n",
    "    if p123.search(str(one)):\n",
    "        idx123.append(idx122[i])\n",
    "        count += 1\n",
    "count"
   ]
  },
  {
   "cell_type": "code",
   "execution_count": null,
   "metadata": {},
   "outputs": [],
   "source": [
    "gas_df.iloc[idx123, [7, 8, 9, 17, 12]][:5]"
   ]
  },
  {
   "cell_type": "code",
   "execution_count": null,
   "metadata": {},
   "outputs": [],
   "source": [
    "# null 값 : 626171\n",
    "idx124 = gas_df[gas_df['배출가스인증번호'].isnull() == True]['배출가스인증번호'].index\n",
    "len(idx124)"
   ]
  },
  {
   "cell_type": "code",
   "execution_count": 104,
   "metadata": {},
   "outputs": [
    {
     "name": "stderr",
     "output_type": "stream",
     "text": [
      "C:\\Users\\kbj\\AppData\\Local\\Temp\\ipykernel_17576\\4092535168.py:1: FutureWarning: The behavior of `series[i:j]` with an integer-dtype index is deprecated. In a future version, this will be treated as *label-based* indexing, consistent with e.g. `series[i]` lookups. To retain the old behavior, use `series.iloc[i:j]`. To get the future behavior, use `series.loc[i:j]`.\n",
      "  df.iloc[:, 12].reindex(idx122)[:5]\n"
     ]
    },
    {
     "data": {
      "text/plain": [
       "5     VMY-KM-38\n",
       "21    RMY-HD-20\n",
       "28    KMY-HD-03\n",
       "29          NaN\n",
       "36          NaN\n",
       "Name: 배출가스인증번호, dtype: object"
      ]
     },
     "execution_count": 104,
     "metadata": {},
     "output_type": "execute_result"
    }
   ],
   "source": [
    "gas_df.iloc[:, 12].reindex(idx124)[:5]"
   ]
  },
  {
   "cell_type": "code",
   "execution_count": null,
   "metadata": {},
   "outputs": [],
   "source": [
    "# 2005.01.04 이후 표기 방식이 아닌 값 중 null 값 제외한 오류 값 : \n",
    "idx125 = sorted(set(idx122) - set(idx124) - set(idx123))\n",
    "len(idx125)"
   ]
  },
  {
   "cell_type": "code",
   "execution_count": null,
   "metadata": {},
   "outputs": [],
   "source": [
    "gas_df.iloc[:, 12].reindex(idx125)[:5]"
   ]
  },
  {
   "cell_type": "code",
   "execution_count": null,
   "metadata": {},
   "outputs": [],
   "source": [
    "# 2005년 이상 배출가스인증번호 데이터\n",
    "gas_temp = gas_df.iloc[idx123, [7, 8, 9, 17, 12]]\n",
    "gas_temp[gas_temp['차량연식'] >= 2005].head()"
   ]
  },
  {
   "cell_type": "code",
   "execution_count": null,
   "metadata": {},
   "outputs": [],
   "source": [
    "# 2005년 이상년도에서 맞지않는 배출가스인증번호 샘플 : \n",
    "gas_temp.loc[(gas_temp['차량연식'] >= 2005) & (gas_temp['배출가스인증번호'].str.len() != 12)]"
   ]
  },
  {
   "cell_type": "code",
   "execution_count": null,
   "metadata": {},
   "outputs": [],
   "source": [
    "gas_temp.loc[(gas_temp['차량연식'] >= 2005) & (gas_temp['배출가스인증번호'].str.len() != 12 )].shape"
   ]
  },
  {
   "cell_type": "code",
   "execution_count": null,
   "metadata": {},
   "outputs": [],
   "source": [
    "gas_temp.loc[(gas_temp['차량연식'] >= 2005) & (gas_temp['배출가스인증번호'].str.len() != 12 ), '차량연식'].max()"
   ]
  },
  {
   "cell_type": "code",
   "execution_count": null,
   "metadata": {},
   "outputs": [],
   "source": [
    "# 2005년 미만 년도에서 맞지않는 배출가스인증번호 샘플 : 0\n",
    "gas_temp.loc[(gas_temp['차량연식'] < 2005) & (gas_temp['배출가스인증번호'].str.len() != 9 )]"
   ]
  },
  {
   "cell_type": "code",
   "execution_count": null,
   "metadata": {},
   "outputs": [],
   "source": []
  },
  {
   "cell_type": "code",
   "execution_count": null,
   "metadata": {},
   "outputs": [],
   "source": []
  },
  {
   "cell_type": "code",
   "execution_count": 105,
   "metadata": {},
   "outputs": [
    {
     "data": {
      "text/plain": [
       "Int64Index([     29,      36,      42,      63,      67,      92,      98,\n",
       "                108,     128,     147,\n",
       "            ...\n",
       "            1528534, 1528535, 1528536, 1528538, 1528539, 1528540, 1528548,\n",
       "            1528561, 1528583, 1528584],\n",
       "           dtype='int64', length=123001)"
      ]
     },
     "execution_count": 105,
     "metadata": {},
     "output_type": "execute_result"
    }
   ],
   "source": [
    "df[df['배출가스인증번호'].isnull() == True]['배출가스인증번호'].index"
   ]
  },
  {
   "cell_type": "code",
   "execution_count": 106,
   "metadata": {},
   "outputs": [
    {
     "data": {
      "text/plain": [
       "123001"
      ]
     },
     "execution_count": 106,
     "metadata": {},
     "output_type": "execute_result"
    }
   ],
   "source": [
    "idx124 = df[df['배출가스인증번호'].isnull() == True]['배출가스인증번호'].index\n",
    "len(idx124)"
   ]
  },
  {
   "cell_type": "code",
   "execution_count": 107,
   "metadata": {},
   "outputs": [
    {
     "name": "stderr",
     "output_type": "stream",
     "text": [
      "C:\\Users\\kbj\\AppData\\Local\\Temp\\ipykernel_17576\\828939027.py:1: FutureWarning: The behavior of `series[i:j]` with an integer-dtype index is deprecated. In a future version, this will be treated as *label-based* indexing, consistent with e.g. `series[i]` lookups. To retain the old behavior, use `series.iloc[i:j]`. To get the future behavior, use `series.loc[i:j]`.\n",
      "  df.iloc[:, 12].reindex(idx124)[:5]\n"
     ]
    },
    {
     "data": {
      "text/plain": [
       "29    NaN\n",
       "36    NaN\n",
       "42    NaN\n",
       "63    NaN\n",
       "67    NaN\n",
       "Name: 배출가스인증번호, dtype: object"
      ]
     },
     "execution_count": 107,
     "metadata": {},
     "output_type": "execute_result"
    }
   ],
   "source": [
    "df.iloc[:, 12].reindex(idx124)[:5]"
   ]
  },
  {
   "cell_type": "code",
   "execution_count": 108,
   "metadata": {},
   "outputs": [
    {
     "data": {
      "text/plain": [
       "252905"
      ]
     },
     "execution_count": 108,
     "metadata": {},
     "output_type": "execute_result"
    }
   ],
   "source": [
    "# null 값 제외한 오류 값 : 252905\n",
    "len(set(idx122) - set(idx124))"
   ]
  },
  {
   "cell_type": "code",
   "execution_count": 109,
   "metadata": {},
   "outputs": [
    {
     "name": "stderr",
     "output_type": "stream",
     "text": [
      "C:\\Users\\kbj\\AppData\\Local\\Temp\\ipykernel_17576\\2414504646.py:1: FutureWarning: The behavior of `series[i:j]` with an integer-dtype index is deprecated. In a future version, this will be treated as *label-based* indexing, consistent with e.g. `series[i]` lookups. To retain the old behavior, use `series.iloc[i:j]`. To get the future behavior, use `series.loc[i:j]`.\n",
      "  df.iloc[:, 12].reindex(sorted(set(idx122) - set(idx124)))[:5]\n"
     ]
    },
    {
     "data": {
      "text/plain": [
       "5     VMY-KM-38\n",
       "21    RMY-HD-20\n",
       "28    KMY-HD-03\n",
       "46    RMY-HD-20\n",
       "62    MMY-HD-11\n",
       "Name: 배출가스인증번호, dtype: object"
      ]
     },
     "execution_count": 109,
     "metadata": {},
     "output_type": "execute_result"
    }
   ],
   "source": [
    "df.iloc[:, 12].reindex(sorted(set(idx122) - set(idx124)))[:5]"
   ]
  },
  {
   "cell_type": "code",
   "execution_count": 111,
   "metadata": {},
   "outputs": [
    {
     "data": {
      "text/html": [
       "<div>\n",
       "<style scoped>\n",
       "    .dataframe tbody tr th:only-of-type {\n",
       "        vertical-align: middle;\n",
       "    }\n",
       "\n",
       "    .dataframe tbody tr th {\n",
       "        vertical-align: top;\n",
       "    }\n",
       "\n",
       "    .dataframe thead th {\n",
       "        text-align: right;\n",
       "    }\n",
       "</style>\n",
       "<table border=\"1\" class=\"dataframe\">\n",
       "  <thead>\n",
       "    <tr style=\"text-align: right;\">\n",
       "      <th></th>\n",
       "      <th>최초등록일자</th>\n",
       "      <th>차량연식</th>\n",
       "      <th>차량제작일자</th>\n",
       "      <th>취득일자</th>\n",
       "      <th>배출가스인증번호</th>\n",
       "    </tr>\n",
       "  </thead>\n",
       "  <tbody>\n",
       "    <tr>\n",
       "      <th>5</th>\n",
       "      <td>20000609</td>\n",
       "      <td>2000</td>\n",
       "      <td>20000529.0</td>\n",
       "      <td>20030219.0</td>\n",
       "      <td>VMY-KM-38</td>\n",
       "    </tr>\n",
       "    <tr>\n",
       "      <th>21</th>\n",
       "      <td>19990608</td>\n",
       "      <td>1999</td>\n",
       "      <td>19990513.0</td>\n",
       "      <td>20040401.0</td>\n",
       "      <td>RMY-HD-20</td>\n",
       "    </tr>\n",
       "    <tr>\n",
       "      <th>28</th>\n",
       "      <td>19910820</td>\n",
       "      <td>1991</td>\n",
       "      <td>NaN</td>\n",
       "      <td>NaN</td>\n",
       "      <td>KMY-HD-03</td>\n",
       "    </tr>\n",
       "    <tr>\n",
       "      <th>46</th>\n",
       "      <td>19991213</td>\n",
       "      <td>2000</td>\n",
       "      <td>19991202.0</td>\n",
       "      <td>20150914.0</td>\n",
       "      <td>RMY-HD-20</td>\n",
       "    </tr>\n",
       "    <tr>\n",
       "      <th>62</th>\n",
       "      <td>19970522</td>\n",
       "      <td>1997</td>\n",
       "      <td>19970310.0</td>\n",
       "      <td>NaN</td>\n",
       "      <td>MMY-HD-11</td>\n",
       "    </tr>\n",
       "  </tbody>\n",
       "</table>\n",
       "</div>"
      ],
      "text/plain": [
       "      최초등록일자  차량연식      차량제작일자        취득일자   배출가스인증번호\n",
       "5   20000609  2000  20000529.0  20030219.0  VMY-KM-38\n",
       "21  19990608  1999  19990513.0  20040401.0  RMY-HD-20\n",
       "28  19910820  1991         NaN         NaN  KMY-HD-03\n",
       "46  19991213  2000  19991202.0  20150914.0  RMY-HD-20\n",
       "62  19970522  1997  19970310.0         NaN  MMY-HD-11"
      ]
     },
     "execution_count": 111,
     "metadata": {},
     "output_type": "execute_result"
    }
   ],
   "source": [
    "df.iloc[idx123, [7, 8, 9, 17, 12]][:5]"
   ]
  },
  {
   "cell_type": "code",
   "execution_count": 116,
   "metadata": {},
   "outputs": [
    {
     "data": {
      "text/html": [
       "<div>\n",
       "<style scoped>\n",
       "    .dataframe tbody tr th:only-of-type {\n",
       "        vertical-align: middle;\n",
       "    }\n",
       "\n",
       "    .dataframe tbody tr th {\n",
       "        vertical-align: top;\n",
       "    }\n",
       "\n",
       "    .dataframe thead th {\n",
       "        text-align: right;\n",
       "    }\n",
       "</style>\n",
       "<table border=\"1\" class=\"dataframe\">\n",
       "  <thead>\n",
       "    <tr style=\"text-align: right;\">\n",
       "      <th></th>\n",
       "      <th>최초등록일자</th>\n",
       "      <th>차량연식</th>\n",
       "      <th>차량제작일자</th>\n",
       "      <th>취득일자</th>\n",
       "      <th>배출가스인증번호</th>\n",
       "    </tr>\n",
       "  </thead>\n",
       "  <tbody>\n",
       "    <tr>\n",
       "      <th>582</th>\n",
       "      <td>20100209</td>\n",
       "      <td>2010</td>\n",
       "      <td>20100205.0</td>\n",
       "      <td>20120910.0</td>\n",
       "      <td>AMY-JL-13-9</td>\n",
       "    </tr>\n",
       "    <tr>\n",
       "      <th>810</th>\n",
       "      <td>20070816</td>\n",
       "      <td>2007</td>\n",
       "      <td>20070816.0</td>\n",
       "      <td>20100423.0</td>\n",
       "      <td>6MY-PA-14-4</td>\n",
       "    </tr>\n",
       "    <tr>\n",
       "      <th>1629</th>\n",
       "      <td>20100409</td>\n",
       "      <td>2010</td>\n",
       "      <td>20100205.0</td>\n",
       "      <td>20180423.0</td>\n",
       "      <td>AMY-JL-13-9</td>\n",
       "    </tr>\n",
       "    <tr>\n",
       "      <th>2087</th>\n",
       "      <td>20100511</td>\n",
       "      <td>2010</td>\n",
       "      <td>20100506.0</td>\n",
       "      <td>20190611.0</td>\n",
       "      <td>AMY-JL-13-9</td>\n",
       "    </tr>\n",
       "    <tr>\n",
       "      <th>2142</th>\n",
       "      <td>20100504</td>\n",
       "      <td>2010</td>\n",
       "      <td>20091207.0</td>\n",
       "      <td>20180430.0</td>\n",
       "      <td>8MY-PA-14-3</td>\n",
       "    </tr>\n",
       "    <tr>\n",
       "      <th>...</th>\n",
       "      <td>...</td>\n",
       "      <td>...</td>\n",
       "      <td>...</td>\n",
       "      <td>...</td>\n",
       "      <td>...</td>\n",
       "    </tr>\n",
       "    <tr>\n",
       "      <th>1524691</th>\n",
       "      <td>20100409</td>\n",
       "      <td>2010</td>\n",
       "      <td>20100212.0</td>\n",
       "      <td>20191108.0</td>\n",
       "      <td>9MY-JL-14-4</td>\n",
       "    </tr>\n",
       "    <tr>\n",
       "      <th>1524870</th>\n",
       "      <td>20100108</td>\n",
       "      <td>2010</td>\n",
       "      <td>20091102.0</td>\n",
       "      <td>20110119.0</td>\n",
       "      <td>AMY-JL-13-9</td>\n",
       "    </tr>\n",
       "    <tr>\n",
       "      <th>1525658</th>\n",
       "      <td>20090415</td>\n",
       "      <td>2009</td>\n",
       "      <td>20081208.0</td>\n",
       "      <td>20190930.0</td>\n",
       "      <td>8MY-PA-14-3</td>\n",
       "    </tr>\n",
       "    <tr>\n",
       "      <th>1527579</th>\n",
       "      <td>20100108</td>\n",
       "      <td>2010</td>\n",
       "      <td>20091223.0</td>\n",
       "      <td>20100405.0</td>\n",
       "      <td>6MY-PA-14-4</td>\n",
       "    </tr>\n",
       "    <tr>\n",
       "      <th>1528353</th>\n",
       "      <td>20080805</td>\n",
       "      <td>2009</td>\n",
       "      <td>20080725.0</td>\n",
       "      <td>20080805.0</td>\n",
       "      <td>8MY-PA-14-3</td>\n",
       "    </tr>\n",
       "  </tbody>\n",
       "</table>\n",
       "<p>3018 rows × 5 columns</p>\n",
       "</div>"
      ],
      "text/plain": [
       "           최초등록일자  차량연식      차량제작일자        취득일자     배출가스인증번호\n",
       "582      20100209  2010  20100205.0  20120910.0  AMY-JL-13-9\n",
       "810      20070816  2007  20070816.0  20100423.0  6MY-PA-14-4\n",
       "1629     20100409  2010  20100205.0  20180423.0  AMY-JL-13-9\n",
       "2087     20100511  2010  20100506.0  20190611.0  AMY-JL-13-9\n",
       "2142     20100504  2010  20091207.0  20180430.0  8MY-PA-14-3\n",
       "...           ...   ...         ...         ...          ...\n",
       "1524691  20100409  2010  20100212.0  20191108.0  9MY-JL-14-4\n",
       "1524870  20100108  2010  20091102.0  20110119.0  AMY-JL-13-9\n",
       "1525658  20090415  2009  20081208.0  20190930.0  8MY-PA-14-3\n",
       "1527579  20100108  2010  20091223.0  20100405.0  6MY-PA-14-4\n",
       "1528353  20080805  2009  20080725.0  20080805.0  8MY-PA-14-3\n",
       "\n",
       "[3018 rows x 5 columns]"
      ]
     },
     "execution_count": 116,
     "metadata": {},
     "output_type": "execute_result"
    }
   ],
   "source": [
    "temp = df.iloc[idx123, [7, 8, 9, 17, 12]]\n",
    "temp[temp['차량연식'] >= 2005]"
   ]
  },
  {
   "cell_type": "code",
   "execution_count": 117,
   "metadata": {},
   "outputs": [
    {
     "data": {
      "text/html": [
       "<div>\n",
       "<style scoped>\n",
       "    .dataframe tbody tr th:only-of-type {\n",
       "        vertical-align: middle;\n",
       "    }\n",
       "\n",
       "    .dataframe tbody tr th {\n",
       "        vertical-align: top;\n",
       "    }\n",
       "\n",
       "    .dataframe thead th {\n",
       "        text-align: right;\n",
       "    }\n",
       "</style>\n",
       "<table border=\"1\" class=\"dataframe\">\n",
       "  <thead>\n",
       "    <tr style=\"text-align: right;\">\n",
       "      <th></th>\n",
       "      <th>최초등록일자</th>\n",
       "      <th>차량연식</th>\n",
       "      <th>차량제작일자</th>\n",
       "      <th>취득일자</th>\n",
       "      <th>배출가스인증번호</th>\n",
       "    </tr>\n",
       "  </thead>\n",
       "  <tbody>\n",
       "    <tr>\n",
       "      <th>7024</th>\n",
       "      <td>20050720</td>\n",
       "      <td>2005</td>\n",
       "      <td>20050421.0</td>\n",
       "      <td>20220408.0</td>\n",
       "      <td>4MY-AD-20</td>\n",
       "    </tr>\n",
       "    <tr>\n",
       "      <th>12139</th>\n",
       "      <td>20060208</td>\n",
       "      <td>2006</td>\n",
       "      <td>20060119.0</td>\n",
       "      <td>20140710.0</td>\n",
       "      <td>4MY-AD-20</td>\n",
       "    </tr>\n",
       "    <tr>\n",
       "      <th>103021</th>\n",
       "      <td>20061017</td>\n",
       "      <td>2007</td>\n",
       "      <td>20060929.0</td>\n",
       "      <td>20220128.0</td>\n",
       "      <td>4MY-DC-33</td>\n",
       "    </tr>\n",
       "    <tr>\n",
       "      <th>106341</th>\n",
       "      <td>20051104</td>\n",
       "      <td>2005</td>\n",
       "      <td>20050905.0</td>\n",
       "      <td>20060327.0</td>\n",
       "      <td>4MY-PA-06</td>\n",
       "    </tr>\n",
       "    <tr>\n",
       "      <th>119764</th>\n",
       "      <td>20060228</td>\n",
       "      <td>2006</td>\n",
       "      <td>20060116.0</td>\n",
       "      <td>20200720.0</td>\n",
       "      <td>4MY-AD-20</td>\n",
       "    </tr>\n",
       "    <tr>\n",
       "      <th>124247</th>\n",
       "      <td>20061017</td>\n",
       "      <td>2007</td>\n",
       "      <td>20060929.0</td>\n",
       "      <td>20220411.0</td>\n",
       "      <td>4MY-DC-33</td>\n",
       "    </tr>\n",
       "    <tr>\n",
       "      <th>142443</th>\n",
       "      <td>20051208</td>\n",
       "      <td>2006</td>\n",
       "      <td>20051202.0</td>\n",
       "      <td>20171106.0</td>\n",
       "      <td>4MY-PA-06</td>\n",
       "    </tr>\n",
       "    <tr>\n",
       "      <th>145601</th>\n",
       "      <td>20051208</td>\n",
       "      <td>2006</td>\n",
       "      <td>20051205.0</td>\n",
       "      <td>20190802.0</td>\n",
       "      <td>4MY-PA-06</td>\n",
       "    </tr>\n",
       "    <tr>\n",
       "      <th>187641</th>\n",
       "      <td>20060105</td>\n",
       "      <td>2006</td>\n",
       "      <td>20051212.0</td>\n",
       "      <td>20170910.0</td>\n",
       "      <td>4MY-AD-20</td>\n",
       "    </tr>\n",
       "    <tr>\n",
       "      <th>200655</th>\n",
       "      <td>20060120</td>\n",
       "      <td>2006</td>\n",
       "      <td>20051221.0</td>\n",
       "      <td>20080909.0</td>\n",
       "      <td>4MY-PA-06</td>\n",
       "    </tr>\n",
       "    <tr>\n",
       "      <th>205166</th>\n",
       "      <td>20060105</td>\n",
       "      <td>2006</td>\n",
       "      <td>20051206.0</td>\n",
       "      <td>NaN</td>\n",
       "      <td>4MY-AD-20</td>\n",
       "    </tr>\n",
       "    <tr>\n",
       "      <th>214893</th>\n",
       "      <td>20051125</td>\n",
       "      <td>2006</td>\n",
       "      <td>20051115.0</td>\n",
       "      <td>20170605.0</td>\n",
       "      <td>4MY-PA-06</td>\n",
       "    </tr>\n",
       "    <tr>\n",
       "      <th>215221</th>\n",
       "      <td>20061017</td>\n",
       "      <td>2007</td>\n",
       "      <td>20060929.0</td>\n",
       "      <td>20201104.0</td>\n",
       "      <td>4MY-DC-33</td>\n",
       "    </tr>\n",
       "    <tr>\n",
       "      <th>231476</th>\n",
       "      <td>20060630</td>\n",
       "      <td>2006</td>\n",
       "      <td>20060612.0</td>\n",
       "      <td>20090629.0</td>\n",
       "      <td>4MY-AD-20</td>\n",
       "    </tr>\n",
       "    <tr>\n",
       "      <th>233228</th>\n",
       "      <td>20061017</td>\n",
       "      <td>2007</td>\n",
       "      <td>20060929.0</td>\n",
       "      <td>20181030.0</td>\n",
       "      <td>4MY-DC-33</td>\n",
       "    </tr>\n",
       "    <tr>\n",
       "      <th>274979</th>\n",
       "      <td>20060710</td>\n",
       "      <td>2006</td>\n",
       "      <td>20060710.0</td>\n",
       "      <td>20060710.0</td>\n",
       "      <td>4MY-AD-20</td>\n",
       "    </tr>\n",
       "    <tr>\n",
       "      <th>326770</th>\n",
       "      <td>20060322</td>\n",
       "      <td>2006</td>\n",
       "      <td>20060104.0</td>\n",
       "      <td>20080129.0</td>\n",
       "      <td>4MY-AD-20</td>\n",
       "    </tr>\n",
       "    <tr>\n",
       "      <th>341853</th>\n",
       "      <td>20060418</td>\n",
       "      <td>2006</td>\n",
       "      <td>20060411.0</td>\n",
       "      <td>20200818.0</td>\n",
       "      <td>4MY-AD-20</td>\n",
       "    </tr>\n",
       "    <tr>\n",
       "      <th>413232</th>\n",
       "      <td>20050823</td>\n",
       "      <td>2005</td>\n",
       "      <td>20050421.0</td>\n",
       "      <td>20200511.0</td>\n",
       "      <td>4MY-AD-20</td>\n",
       "    </tr>\n",
       "    <tr>\n",
       "      <th>415374</th>\n",
       "      <td>20051108</td>\n",
       "      <td>2006</td>\n",
       "      <td>20051102.0</td>\n",
       "      <td>20191119.0</td>\n",
       "      <td>4MY-PA-06</td>\n",
       "    </tr>\n",
       "    <tr>\n",
       "      <th>462151</th>\n",
       "      <td>20061017</td>\n",
       "      <td>2007</td>\n",
       "      <td>20060929.0</td>\n",
       "      <td>20160809.0</td>\n",
       "      <td>4MY-DC-33</td>\n",
       "    </tr>\n",
       "    <tr>\n",
       "      <th>484064</th>\n",
       "      <td>20060210</td>\n",
       "      <td>2006</td>\n",
       "      <td>20060116.0</td>\n",
       "      <td>20200103.0</td>\n",
       "      <td>4MY-AD-20</td>\n",
       "    </tr>\n",
       "    <tr>\n",
       "      <th>491202</th>\n",
       "      <td>20051216</td>\n",
       "      <td>2006</td>\n",
       "      <td>20051212.0</td>\n",
       "      <td>20200807.0</td>\n",
       "      <td>4MY-AD-20</td>\n",
       "    </tr>\n",
       "    <tr>\n",
       "      <th>498049</th>\n",
       "      <td>20060502</td>\n",
       "      <td>2006</td>\n",
       "      <td>20060502.0</td>\n",
       "      <td>20191204.0</td>\n",
       "      <td>4MY-AD-20</td>\n",
       "    </tr>\n",
       "    <tr>\n",
       "      <th>555269</th>\n",
       "      <td>20060320</td>\n",
       "      <td>2006</td>\n",
       "      <td>20060119.0</td>\n",
       "      <td>20200827.0</td>\n",
       "      <td>4MY-AD-20</td>\n",
       "    </tr>\n",
       "    <tr>\n",
       "      <th>570232</th>\n",
       "      <td>20060406</td>\n",
       "      <td>2006</td>\n",
       "      <td>20060405.0</td>\n",
       "      <td>20090415.0</td>\n",
       "      <td>4MY-AD-20</td>\n",
       "    </tr>\n",
       "    <tr>\n",
       "      <th>598285</th>\n",
       "      <td>20060331</td>\n",
       "      <td>2006</td>\n",
       "      <td>20060131.0</td>\n",
       "      <td>20090107.0</td>\n",
       "      <td>4MY-AD-20</td>\n",
       "    </tr>\n",
       "    <tr>\n",
       "      <th>608426</th>\n",
       "      <td>20060811</td>\n",
       "      <td>2006</td>\n",
       "      <td>20060113.0</td>\n",
       "      <td>20220421.0</td>\n",
       "      <td>4MY-AD-20</td>\n",
       "    </tr>\n",
       "    <tr>\n",
       "      <th>619036</th>\n",
       "      <td>20060104</td>\n",
       "      <td>2005</td>\n",
       "      <td>20051118.0</td>\n",
       "      <td>20210617.0</td>\n",
       "      <td>4MY-PA-06</td>\n",
       "    </tr>\n",
       "    <tr>\n",
       "      <th>633188</th>\n",
       "      <td>20051104</td>\n",
       "      <td>2005</td>\n",
       "      <td>20051024.0</td>\n",
       "      <td>20051104.0</td>\n",
       "      <td>4MY-PA-06</td>\n",
       "    </tr>\n",
       "    <tr>\n",
       "      <th>634356</th>\n",
       "      <td>20060526</td>\n",
       "      <td>2006</td>\n",
       "      <td>20060523.0</td>\n",
       "      <td>20210329.0</td>\n",
       "      <td>4MY-AD-20</td>\n",
       "    </tr>\n",
       "    <tr>\n",
       "      <th>639946</th>\n",
       "      <td>20061017</td>\n",
       "      <td>2007</td>\n",
       "      <td>20060929.0</td>\n",
       "      <td>20201013.0</td>\n",
       "      <td>4MY-DC-33</td>\n",
       "    </tr>\n",
       "    <tr>\n",
       "      <th>668947</th>\n",
       "      <td>20060919</td>\n",
       "      <td>2006</td>\n",
       "      <td>20060116.0</td>\n",
       "      <td>20181115.0</td>\n",
       "      <td>4MY-AD-20</td>\n",
       "    </tr>\n",
       "    <tr>\n",
       "      <th>760911</th>\n",
       "      <td>20060103</td>\n",
       "      <td>2006</td>\n",
       "      <td>20051212.0</td>\n",
       "      <td>20090108.0</td>\n",
       "      <td>4MY-AD-20</td>\n",
       "    </tr>\n",
       "    <tr>\n",
       "      <th>779293</th>\n",
       "      <td>20060623</td>\n",
       "      <td>2006</td>\n",
       "      <td>20060620.0</td>\n",
       "      <td>20211103.0</td>\n",
       "      <td>4MY-AD-20</td>\n",
       "    </tr>\n",
       "    <tr>\n",
       "      <th>788779</th>\n",
       "      <td>20060127</td>\n",
       "      <td>2006</td>\n",
       "      <td>20060101.0</td>\n",
       "      <td>20160503.0</td>\n",
       "      <td>4MY-AD-20</td>\n",
       "    </tr>\n",
       "    <tr>\n",
       "      <th>792661</th>\n",
       "      <td>20060621</td>\n",
       "      <td>2006</td>\n",
       "      <td>20060612.0</td>\n",
       "      <td>20190326.0</td>\n",
       "      <td>4MY-AD-20</td>\n",
       "    </tr>\n",
       "    <tr>\n",
       "      <th>816532</th>\n",
       "      <td>20061031</td>\n",
       "      <td>2006</td>\n",
       "      <td>20060414.0</td>\n",
       "      <td>20090112.0</td>\n",
       "      <td>4MY-AD-20</td>\n",
       "    </tr>\n",
       "    <tr>\n",
       "      <th>847726</th>\n",
       "      <td>20060616</td>\n",
       "      <td>2006</td>\n",
       "      <td>20060612.0</td>\n",
       "      <td>20060616.0</td>\n",
       "      <td>4MY-AD-20</td>\n",
       "    </tr>\n",
       "    <tr>\n",
       "      <th>849611</th>\n",
       "      <td>20060117</td>\n",
       "      <td>2006</td>\n",
       "      <td>20060101.0</td>\n",
       "      <td>20150715.0</td>\n",
       "      <td>4MY-AD-20</td>\n",
       "    </tr>\n",
       "    <tr>\n",
       "      <th>856660</th>\n",
       "      <td>20060707</td>\n",
       "      <td>2006</td>\n",
       "      <td>20060125.0</td>\n",
       "      <td>20110117.0</td>\n",
       "      <td>4MY-AD-20</td>\n",
       "    </tr>\n",
       "    <tr>\n",
       "      <th>886125</th>\n",
       "      <td>20060626</td>\n",
       "      <td>2006</td>\n",
       "      <td>20060405.0</td>\n",
       "      <td>20180524.0</td>\n",
       "      <td>4MY-AD-20</td>\n",
       "    </tr>\n",
       "    <tr>\n",
       "      <th>943091</th>\n",
       "      <td>20061017</td>\n",
       "      <td>2007</td>\n",
       "      <td>20060929.0</td>\n",
       "      <td>20210630.0</td>\n",
       "      <td>4MY-DC-33</td>\n",
       "    </tr>\n",
       "    <tr>\n",
       "      <th>1033065</th>\n",
       "      <td>20051226</td>\n",
       "      <td>2005</td>\n",
       "      <td>20050929.0</td>\n",
       "      <td>20201029.0</td>\n",
       "      <td>4MY-PA-06</td>\n",
       "    </tr>\n",
       "    <tr>\n",
       "      <th>1090741</th>\n",
       "      <td>20060612</td>\n",
       "      <td>2006</td>\n",
       "      <td>20060405.0</td>\n",
       "      <td>20190705.0</td>\n",
       "      <td>4MY-AD-20</td>\n",
       "    </tr>\n",
       "    <tr>\n",
       "      <th>1131159</th>\n",
       "      <td>20060627</td>\n",
       "      <td>2006</td>\n",
       "      <td>20060621.0</td>\n",
       "      <td>20210811.0</td>\n",
       "      <td>4MY-AD-20</td>\n",
       "    </tr>\n",
       "    <tr>\n",
       "      <th>1162786</th>\n",
       "      <td>20060106</td>\n",
       "      <td>2006</td>\n",
       "      <td>20051229.0</td>\n",
       "      <td>20201102.0</td>\n",
       "      <td>4MY-AD-20</td>\n",
       "    </tr>\n",
       "    <tr>\n",
       "      <th>1173919</th>\n",
       "      <td>20060120</td>\n",
       "      <td>2006</td>\n",
       "      <td>20060101.0</td>\n",
       "      <td>20090126.0</td>\n",
       "      <td>4MY-AD-20</td>\n",
       "    </tr>\n",
       "    <tr>\n",
       "      <th>1183650</th>\n",
       "      <td>20051215</td>\n",
       "      <td>2005</td>\n",
       "      <td>20051018.0</td>\n",
       "      <td>20200917.0</td>\n",
       "      <td>4MY-PA-06</td>\n",
       "    </tr>\n",
       "    <tr>\n",
       "      <th>1202869</th>\n",
       "      <td>20060227</td>\n",
       "      <td>2005</td>\n",
       "      <td>20051019.0</td>\n",
       "      <td>20190827.0</td>\n",
       "      <td>4MY-PA-06</td>\n",
       "    </tr>\n",
       "    <tr>\n",
       "      <th>1213404</th>\n",
       "      <td>20061031</td>\n",
       "      <td>2006</td>\n",
       "      <td>20060119.0</td>\n",
       "      <td>20190509.0</td>\n",
       "      <td>4MY-AD-20</td>\n",
       "    </tr>\n",
       "    <tr>\n",
       "      <th>1296007</th>\n",
       "      <td>20060208</td>\n",
       "      <td>2006</td>\n",
       "      <td>20051206.0</td>\n",
       "      <td>20210708.0</td>\n",
       "      <td>4MY-AD-20</td>\n",
       "    </tr>\n",
       "    <tr>\n",
       "      <th>1338420</th>\n",
       "      <td>20060208</td>\n",
       "      <td>2006</td>\n",
       "      <td>20060109.0</td>\n",
       "      <td>20190527.0</td>\n",
       "      <td>4MY-AD-20</td>\n",
       "    </tr>\n",
       "    <tr>\n",
       "      <th>1445334</th>\n",
       "      <td>20060127</td>\n",
       "      <td>2006</td>\n",
       "      <td>20051229.0</td>\n",
       "      <td>20210423.0</td>\n",
       "      <td>4MY-AD-20</td>\n",
       "    </tr>\n",
       "    <tr>\n",
       "      <th>1446826</th>\n",
       "      <td>20051103</td>\n",
       "      <td>2005</td>\n",
       "      <td>20051024.0</td>\n",
       "      <td>20081030.0</td>\n",
       "      <td>4MY-PA-06</td>\n",
       "    </tr>\n",
       "    <tr>\n",
       "      <th>1452988</th>\n",
       "      <td>20061031</td>\n",
       "      <td>2006</td>\n",
       "      <td>20060414.0</td>\n",
       "      <td>20220627.0</td>\n",
       "      <td>4MY-AD-20</td>\n",
       "    </tr>\n",
       "    <tr>\n",
       "      <th>1457523</th>\n",
       "      <td>20051014</td>\n",
       "      <td>2005</td>\n",
       "      <td>20050903.0</td>\n",
       "      <td>20191022.0</td>\n",
       "      <td>4MY-PA-06</td>\n",
       "    </tr>\n",
       "    <tr>\n",
       "      <th>1486921</th>\n",
       "      <td>20060118</td>\n",
       "      <td>2006</td>\n",
       "      <td>20060116.0</td>\n",
       "      <td>20150506.0</td>\n",
       "      <td>4MY-AD-20</td>\n",
       "    </tr>\n",
       "  </tbody>\n",
       "</table>\n",
       "</div>"
      ],
      "text/plain": [
       "           최초등록일자  차량연식      차량제작일자        취득일자   배출가스인증번호\n",
       "7024     20050720  2005  20050421.0  20220408.0  4MY-AD-20\n",
       "12139    20060208  2006  20060119.0  20140710.0  4MY-AD-20\n",
       "103021   20061017  2007  20060929.0  20220128.0  4MY-DC-33\n",
       "106341   20051104  2005  20050905.0  20060327.0  4MY-PA-06\n",
       "119764   20060228  2006  20060116.0  20200720.0  4MY-AD-20\n",
       "124247   20061017  2007  20060929.0  20220411.0  4MY-DC-33\n",
       "142443   20051208  2006  20051202.0  20171106.0  4MY-PA-06\n",
       "145601   20051208  2006  20051205.0  20190802.0  4MY-PA-06\n",
       "187641   20060105  2006  20051212.0  20170910.0  4MY-AD-20\n",
       "200655   20060120  2006  20051221.0  20080909.0  4MY-PA-06\n",
       "205166   20060105  2006  20051206.0         NaN  4MY-AD-20\n",
       "214893   20051125  2006  20051115.0  20170605.0  4MY-PA-06\n",
       "215221   20061017  2007  20060929.0  20201104.0  4MY-DC-33\n",
       "231476   20060630  2006  20060612.0  20090629.0  4MY-AD-20\n",
       "233228   20061017  2007  20060929.0  20181030.0  4MY-DC-33\n",
       "274979   20060710  2006  20060710.0  20060710.0  4MY-AD-20\n",
       "326770   20060322  2006  20060104.0  20080129.0  4MY-AD-20\n",
       "341853   20060418  2006  20060411.0  20200818.0  4MY-AD-20\n",
       "413232   20050823  2005  20050421.0  20200511.0  4MY-AD-20\n",
       "415374   20051108  2006  20051102.0  20191119.0  4MY-PA-06\n",
       "462151   20061017  2007  20060929.0  20160809.0  4MY-DC-33\n",
       "484064   20060210  2006  20060116.0  20200103.0  4MY-AD-20\n",
       "491202   20051216  2006  20051212.0  20200807.0  4MY-AD-20\n",
       "498049   20060502  2006  20060502.0  20191204.0  4MY-AD-20\n",
       "555269   20060320  2006  20060119.0  20200827.0  4MY-AD-20\n",
       "570232   20060406  2006  20060405.0  20090415.0  4MY-AD-20\n",
       "598285   20060331  2006  20060131.0  20090107.0  4MY-AD-20\n",
       "608426   20060811  2006  20060113.0  20220421.0  4MY-AD-20\n",
       "619036   20060104  2005  20051118.0  20210617.0  4MY-PA-06\n",
       "633188   20051104  2005  20051024.0  20051104.0  4MY-PA-06\n",
       "634356   20060526  2006  20060523.0  20210329.0  4MY-AD-20\n",
       "639946   20061017  2007  20060929.0  20201013.0  4MY-DC-33\n",
       "668947   20060919  2006  20060116.0  20181115.0  4MY-AD-20\n",
       "760911   20060103  2006  20051212.0  20090108.0  4MY-AD-20\n",
       "779293   20060623  2006  20060620.0  20211103.0  4MY-AD-20\n",
       "788779   20060127  2006  20060101.0  20160503.0  4MY-AD-20\n",
       "792661   20060621  2006  20060612.0  20190326.0  4MY-AD-20\n",
       "816532   20061031  2006  20060414.0  20090112.0  4MY-AD-20\n",
       "847726   20060616  2006  20060612.0  20060616.0  4MY-AD-20\n",
       "849611   20060117  2006  20060101.0  20150715.0  4MY-AD-20\n",
       "856660   20060707  2006  20060125.0  20110117.0  4MY-AD-20\n",
       "886125   20060626  2006  20060405.0  20180524.0  4MY-AD-20\n",
       "943091   20061017  2007  20060929.0  20210630.0  4MY-DC-33\n",
       "1033065  20051226  2005  20050929.0  20201029.0  4MY-PA-06\n",
       "1090741  20060612  2006  20060405.0  20190705.0  4MY-AD-20\n",
       "1131159  20060627  2006  20060621.0  20210811.0  4MY-AD-20\n",
       "1162786  20060106  2006  20051229.0  20201102.0  4MY-AD-20\n",
       "1173919  20060120  2006  20060101.0  20090126.0  4MY-AD-20\n",
       "1183650  20051215  2005  20051018.0  20200917.0  4MY-PA-06\n",
       "1202869  20060227  2005  20051019.0  20190827.0  4MY-PA-06\n",
       "1213404  20061031  2006  20060119.0  20190509.0  4MY-AD-20\n",
       "1296007  20060208  2006  20051206.0  20210708.0  4MY-AD-20\n",
       "1338420  20060208  2006  20060109.0  20190527.0  4MY-AD-20\n",
       "1445334  20060127  2006  20051229.0  20210423.0  4MY-AD-20\n",
       "1446826  20051103  2005  20051024.0  20081030.0  4MY-PA-06\n",
       "1452988  20061031  2006  20060414.0  20220627.0  4MY-AD-20\n",
       "1457523  20051014  2005  20050903.0  20191022.0  4MY-PA-06\n",
       "1486921  20060118  2006  20060116.0  20150506.0  4MY-AD-20"
      ]
     },
     "execution_count": 117,
     "metadata": {},
     "output_type": "execute_result"
    }
   ],
   "source": [
    "# 2005년 이상년도에서 맞지않는 배출가스인증번호 샘플 : 58\n",
    "temp.loc[(temp['차량연식'] >= 2005) & (temp['배출가스인증번호'].str.len() < 11 )]"
   ]
  },
  {
   "cell_type": "code",
   "execution_count": 118,
   "metadata": {},
   "outputs": [
    {
     "data": {
      "text/plain": [
       "(58, 5)"
      ]
     },
     "execution_count": 118,
     "metadata": {},
     "output_type": "execute_result"
    }
   ],
   "source": [
    "temp.loc[(temp['차량연식'] >= 2005) & (temp['배출가스인증번호'].str.len() < 11 )].shape"
   ]
  },
  {
   "cell_type": "code",
   "execution_count": 119,
   "metadata": {},
   "outputs": [
    {
     "data": {
      "text/html": [
       "<div>\n",
       "<style scoped>\n",
       "    .dataframe tbody tr th:only-of-type {\n",
       "        vertical-align: middle;\n",
       "    }\n",
       "\n",
       "    .dataframe tbody tr th {\n",
       "        vertical-align: top;\n",
       "    }\n",
       "\n",
       "    .dataframe thead th {\n",
       "        text-align: right;\n",
       "    }\n",
       "</style>\n",
       "<table border=\"1\" class=\"dataframe\">\n",
       "  <thead>\n",
       "    <tr style=\"text-align: right;\">\n",
       "      <th></th>\n",
       "      <th>최초등록일자</th>\n",
       "      <th>차량연식</th>\n",
       "      <th>차량제작일자</th>\n",
       "      <th>취득일자</th>\n",
       "      <th>배출가스인증번호</th>\n",
       "    </tr>\n",
       "  </thead>\n",
       "  <tbody>\n",
       "    <tr>\n",
       "      <th>747837</th>\n",
       "      <td>20091013</td>\n",
       "      <td>1999</td>\n",
       "      <td>19991231.0</td>\n",
       "      <td>10091009.0</td>\n",
       "      <td>9MY-PP-14-W38</td>\n",
       "    </tr>\n",
       "    <tr>\n",
       "      <th>1424917</th>\n",
       "      <td>20090917</td>\n",
       "      <td>1999</td>\n",
       "      <td>20081124.0</td>\n",
       "      <td>20201106.0</td>\n",
       "      <td>9MY-PP-14-W38</td>\n",
       "    </tr>\n",
       "  </tbody>\n",
       "</table>\n",
       "</div>"
      ],
      "text/plain": [
       "           최초등록일자  차량연식      차량제작일자        취득일자       배출가스인증번호\n",
       "747837   20091013  1999  19991231.0  10091009.0  9MY-PP-14-W38\n",
       "1424917  20090917  1999  20081124.0  20201106.0  9MY-PP-14-W38"
      ]
     },
     "execution_count": 119,
     "metadata": {},
     "output_type": "execute_result"
    }
   ],
   "source": [
    "# 2005년 미만년도에서 맞지않는 배출가스인증번호 샘플 : 2\n",
    "temp.loc[(temp['차량연식'] < 2005) & (temp['배출가스인증번호'].str.len() > 9 )]"
   ]
  },
  {
   "attachments": {},
   "cell_type": "markdown",
   "metadata": {},
   "source": [
    "#### 오류 배출가스인증번호 유형 통계"
   ]
  },
  {
   "cell_type": "code",
   "execution_count": null,
   "metadata": {},
   "outputs": [],
   "source": [
    "# - 총 오류 샘플 수 : \n",
    "#     - 1번째 부분 3자리가 아닌 경우 : \n",
    "#         - 빈 값('')인 경우 : \n",
    "#         - 바('-') 기호가 없는 경우 : \n",
    "#     - 2번째 부분 2자리가 아닌 경우 : \n",
    "#         - 2번째 부분 1자리인 경우(XXX-n-XX-XX) : \n",
    "#         - 2번째 부분 3자리인 경우(XXX-nnn-XX-XX) : \n",
    "#     - 3번째 부분 2자리가 아닌 경우 : \n",
    "#         - 3번째 부분 3자리인 경우(XXX-XX-nnn) : \n",
    "#     - 4번째 부분 2자리가 아닌 경우 : \n",
    "#         - 4번째 부분 1자리인 경우(XXX-XX-XX-n) : \n",
    "#             - 2번째 부분 1자리인 경우(XXX-n-XX-XX)와 동일한 샘플 : \n",
    "#         - 4번째 부분 3자리인 경우(XXX-XX-XX-nnn) : "
   ]
  },
  {
   "cell_type": "code",
   "execution_count": null,
   "metadata": {},
   "outputs": [
    {
     "data": {
      "text/plain": [
       "17     KMY-D-HD-M-03\n",
       "160    KMY-D-HD-M-05\n",
       "190    KMY-D-HD-M-07\n",
       "221    KMY-D-HD-M-03\n",
       "231    KMY-D-HD-M-03\n",
       "Name: 배출가스인증번호, dtype: object"
      ]
     },
     "metadata": {},
     "output_type": "display_data"
    }
   ],
   "source": [
    "gas_df.iloc[idx125[:5], 12]"
   ]
  },
  {
   "cell_type": "code",
   "execution_count": null,
   "metadata": {},
   "outputs": [
    {
     "data": {
      "text/plain": [
       "17     KMY-D-HD-M-03\n",
       "160    KMY-D-HD-M-05\n",
       "190    KMY-D-HD-M-07\n",
       "221    KMY-D-HD-M-03\n",
       "231    KMY-D-HD-M-03\n",
       "Name: 배출가스인증번호, dtype: object"
      ]
     },
     "metadata": {},
     "output_type": "display_data"
    }
   ],
   "source": [
    "gas_temp2 = gas_df.iloc[idx125, 12]\n",
    "gas_temp2.head()"
   ]
  },
  {
   "attachments": {},
   "cell_type": "markdown",
   "metadata": {},
   "source": [
    "##### 1번째 자리 오류 유형"
   ]
  },
  {
   "cell_type": "code",
   "execution_count": null,
   "metadata": {},
   "outputs": [],
   "source": [
    "# 1번째 부분 3자리가 아닌 경우 : \n",
    "#     - 빈 값('')인 경우 : \n",
    "#     - 바('-') 기호가 없는 경우 : "
   ]
  },
  {
   "cell_type": "code",
   "execution_count": null,
   "metadata": {},
   "outputs": [
    {
     "name": "stderr",
     "output_type": "stream",
     "text": [
      "22241it [00:00, 817956.77it/s]\n"
     ]
    },
    {
     "data": {
      "text/plain": [
       "18"
      ]
     },
     "metadata": {},
     "output_type": "display_data"
    }
   ],
   "source": [
    "idx126 = []\n",
    "count = 0\n",
    "for i, one in tqdm(enumerate(gas_temp2.to_numpy())):\n",
    "    try:\n",
    "        if len(str(one).split('-')[0]) != 3:\n",
    "            idx126.append(gas_temp2.index[i])\n",
    "            count += 1\n",
    "    except:\n",
    "        pass\n",
    "count"
   ]
  },
  {
   "cell_type": "code",
   "execution_count": null,
   "metadata": {},
   "outputs": [
    {
     "data": {
      "text/plain": [
       "227026            \n",
       "257916            \n",
       "278780            \n",
       "323112     3MYHD14\n",
       "460914            \n",
       "528140            \n",
       "595589            \n",
       "612429            \n",
       "634065            \n",
       "712384     3MYHD14\n",
       "773188            \n",
       "788617            \n",
       "798063            \n",
       "846077            \n",
       "998681            \n",
       "1123684           \n",
       "1180089           \n",
       "1186430           \n",
       "Name: 배출가스인증번호, dtype: object"
      ]
     },
     "metadata": {},
     "output_type": "display_data"
    }
   ],
   "source": [
    "gas_df.iloc[idx126, 12]"
   ]
  },
  {
   "cell_type": "code",
   "execution_count": null,
   "metadata": {},
   "outputs": [
    {
     "data": {
      "text/plain": [
       "''"
      ]
     },
     "metadata": {},
     "output_type": "display_data"
    }
   ],
   "source": [
    "gas_df.iloc[idx126[0], 12]"
   ]
  },
  {
   "attachments": {},
   "cell_type": "markdown",
   "metadata": {},
   "source": [
    "##### 2번째 자리 오류 유형"
   ]
  },
  {
   "cell_type": "code",
   "execution_count": null,
   "metadata": {},
   "outputs": [],
   "source": [
    "# 2번째 부분 2자리가 아닌 경우 : \n",
    "#   - 2번째 부분 1자리인 경우(XXX-n-XX-XX) : \n",
    "#   - 2번째 부분 3자리인 경우(XXX-nnn-XX-XX) : "
   ]
  },
  {
   "cell_type": "code",
   "execution_count": null,
   "metadata": {},
   "outputs": [
    {
     "name": "stderr",
     "output_type": "stream",
     "text": [
      "22241it [00:00, 372189.26it/s]\n"
     ]
    },
    {
     "data": {
      "text/plain": [
       "22221"
      ]
     },
     "metadata": {},
     "output_type": "display_data"
    }
   ],
   "source": [
    "idx127 = []\n",
    "count = 0\n",
    "for i, one in tqdm(enumerate(gas_temp2.to_numpy())):\n",
    "    try:\n",
    "        if len(str(one).split('-')[1]) != 2:\n",
    "            idx127.append(gas_temp2.index[i])\n",
    "            count += 1\n",
    "    except:\n",
    "        pass\n",
    "count"
   ]
  },
  {
   "cell_type": "code",
   "execution_count": null,
   "metadata": {},
   "outputs": [
    {
     "data": {
      "text/plain": [
       "17     KMY-D-HD-M-03\n",
       "160    KMY-D-HD-M-05\n",
       "190    KMY-D-HD-M-07\n",
       "221    KMY-D-HD-M-03\n",
       "231    KMY-D-HD-M-03\n",
       "Name: 배출가스인증번호, dtype: object"
      ]
     },
     "metadata": {},
     "output_type": "display_data"
    }
   ],
   "source": [
    "gas_df.iloc[idx127[:5], 12]"
   ]
  },
  {
   "cell_type": "code",
   "execution_count": null,
   "metadata": {},
   "outputs": [
    {
     "name": "stderr",
     "output_type": "stream",
     "text": [
      "22241it [00:00, 332842.79it/s]\n"
     ]
    },
    {
     "data": {
      "text/plain": [
       "21601"
      ]
     },
     "metadata": {},
     "output_type": "display_data"
    }
   ],
   "source": [
    "idx127_1 = []\n",
    "count = 0\n",
    "for i, one in tqdm(enumerate(gas_temp2.to_numpy())):\n",
    "    try:\n",
    "        if len(str(one).split('-')[1]) == 1:\n",
    "            idx127_1.append(gas_temp2.index[i])\n",
    "            count += 1\n",
    "    except:\n",
    "        pass\n",
    "count"
   ]
  },
  {
   "cell_type": "code",
   "execution_count": null,
   "metadata": {},
   "outputs": [
    {
     "data": {
      "text/plain": [
       "17     KMY-D-HD-M-03\n",
       "160    KMY-D-HD-M-05\n",
       "190    KMY-D-HD-M-07\n",
       "221    KMY-D-HD-M-03\n",
       "231    KMY-D-HD-M-03\n",
       "Name: 배출가스인증번호, dtype: object"
      ]
     },
     "metadata": {},
     "output_type": "display_data"
    }
   ],
   "source": [
    "gas_df.iloc[idx127_1[:5], 12]"
   ]
  },
  {
   "cell_type": "code",
   "execution_count": null,
   "metadata": {},
   "outputs": [
    {
     "name": "stderr",
     "output_type": "stream",
     "text": [
      "22241it [00:00, 571774.09it/s]\n"
     ]
    },
    {
     "data": {
      "text/plain": [
       "620"
      ]
     },
     "metadata": {},
     "output_type": "display_data"
    }
   ],
   "source": [
    "idx127_3 = []\n",
    "count = 0\n",
    "for i, one in tqdm(enumerate(gas_temp2.to_numpy())):\n",
    "    try:\n",
    "        if len(str(one).split('-')[1]) == 3:\n",
    "            idx127_3.append(gas_temp2.index[i])\n",
    "            count += 1\n",
    "    except:\n",
    "        pass\n",
    "count"
   ]
  },
  {
   "cell_type": "code",
   "execution_count": null,
   "metadata": {},
   "outputs": [
    {
     "data": {
      "text/plain": [
       "934     5MY-VTK-24-02\n",
       "6473    5MY-VTK-24-02\n",
       "6527    5MY-VTK-24-01\n",
       "7532    5MY-VTK-24-02\n",
       "8277    5MY-VTK-24-02\n",
       "Name: 배출가스인증번호, dtype: object"
      ]
     },
     "metadata": {},
     "output_type": "display_data"
    }
   ],
   "source": [
    "gas_df.iloc[idx127_3[:5], 12]"
   ]
  },
  {
   "cell_type": "code",
   "execution_count": null,
   "metadata": {},
   "outputs": [
    {
     "name": "stderr",
     "output_type": "stream",
     "text": [
      "22241it [00:00, 1061957.30it/s]\n"
     ]
    },
    {
     "data": {
      "text/plain": [
       "0"
      ]
     },
     "metadata": {},
     "output_type": "display_data"
    }
   ],
   "source": [
    "idx127_4 = []\n",
    "count = 0\n",
    "for i, one in tqdm(enumerate(gas_temp2.to_numpy())):\n",
    "    try:\n",
    "        if len(str(one).split('-')[1]) == 4:\n",
    "            idx127_4.append(gas_temp2.index[i])\n",
    "            count += 1\n",
    "    except:\n",
    "        pass\n",
    "count"
   ]
  },
  {
   "attachments": {},
   "cell_type": "markdown",
   "metadata": {},
   "source": [
    "##### 3번째 자리 오류 유형"
   ]
  },
  {
   "cell_type": "code",
   "execution_count": null,
   "metadata": {},
   "outputs": [],
   "source": [
    "# 3번째 부분 2자리가 아닌 경우 : \n",
    "#   - 3번째 부분 3자리인 경우(XXX-XX-nnn) : "
   ]
  },
  {
   "cell_type": "code",
   "execution_count": null,
   "metadata": {},
   "outputs": [
    {
     "name": "stderr",
     "output_type": "stream",
     "text": [
      "22241it [00:00, 1015208.90it/s]\n"
     ]
    },
    {
     "data": {
      "text/plain": [
       "1"
      ]
     },
     "metadata": {},
     "output_type": "display_data"
    }
   ],
   "source": [
    "idx128 = []\n",
    "count = 0\n",
    "for i, one in tqdm(enumerate(gas_temp2.to_numpy())):\n",
    "    try:\n",
    "        if len(str(one).split('-')[2]) != 2:\n",
    "            idx128.append(gas_temp2.index[i])\n",
    "            count += 1\n",
    "    except:\n",
    "        pass\n",
    "count"
   ]
  },
  {
   "cell_type": "code",
   "execution_count": null,
   "metadata": {},
   "outputs": [
    {
     "data": {
      "text/plain": [
       "920690    1MY-HD-D53\n",
       "Name: 배출가스인증번호, dtype: object"
      ]
     },
     "metadata": {},
     "output_type": "display_data"
    }
   ],
   "source": [
    "gas_df.iloc[idx128, 12]"
   ]
  },
  {
   "attachments": {},
   "cell_type": "markdown",
   "metadata": {},
   "source": [
    "##### 4번째 자리 오류 유형"
   ]
  },
  {
   "cell_type": "code",
   "execution_count": null,
   "metadata": {},
   "outputs": [],
   "source": [
    "# 4번째 부분 2자리가 아닌 경우 : \n",
    "#   - 4번째 부분 1자리인 경우(XXX-XX-XX-n) : \n",
    "#       - 2번째 부분 1자리인 경우(XXX-n-XX-XX)와 동일한 샘플 : \n",
    "#   - 4번째 부분 3자리인 경우(XXX-XX-XX-nnn) : "
   ]
  },
  {
   "cell_type": "code",
   "execution_count": null,
   "metadata": {},
   "outputs": [
    {
     "name": "stderr",
     "output_type": "stream",
     "text": [
      "22241it [00:00, 388879.23it/s]\n"
     ]
    },
    {
     "data": {
      "text/plain": [
       "21602"
      ]
     },
     "metadata": {},
     "output_type": "display_data"
    }
   ],
   "source": [
    "idx129 = []\n",
    "count = 0\n",
    "for i, one in tqdm(enumerate(gas_temp2.to_numpy())):\n",
    "    try:\n",
    "        if len(str(one).split('-')[3]) != 2:\n",
    "            idx129.append(gas_temp2.index[i])\n",
    "            count += 1\n",
    "    except:\n",
    "        pass\n",
    "count"
   ]
  },
  {
   "cell_type": "code",
   "execution_count": null,
   "metadata": {},
   "outputs": [
    {
     "data": {
      "text/plain": [
       "17     KMY-D-HD-M-03\n",
       "160    KMY-D-HD-M-05\n",
       "190    KMY-D-HD-M-07\n",
       "221    KMY-D-HD-M-03\n",
       "231    KMY-D-HD-M-03\n",
       "Name: 배출가스인증번호, dtype: object"
      ]
     },
     "metadata": {},
     "output_type": "display_data"
    }
   ],
   "source": [
    "gas_df.iloc[idx129[:5], 12]"
   ]
  },
  {
   "cell_type": "code",
   "execution_count": null,
   "metadata": {},
   "outputs": [
    {
     "name": "stderr",
     "output_type": "stream",
     "text": [
      "22241it [00:00, 342569.76it/s]\n"
     ]
    },
    {
     "data": {
      "text/plain": [
       "21601"
      ]
     },
     "metadata": {},
     "output_type": "display_data"
    }
   ],
   "source": [
    "idx129_1 = []\n",
    "count = 0\n",
    "for i, one in tqdm(enumerate(gas_temp2.to_numpy())):\n",
    "    try:\n",
    "        if len(str(one).split('-')[3]) == 1:\n",
    "            idx129_1.append(gas_temp2.index[i])\n",
    "            count += 1\n",
    "    except:\n",
    "        pass\n",
    "count"
   ]
  },
  {
   "cell_type": "code",
   "execution_count": null,
   "metadata": {},
   "outputs": [
    {
     "data": {
      "text/plain": [
       "17     KMY-D-HD-M-03\n",
       "160    KMY-D-HD-M-05\n",
       "190    KMY-D-HD-M-07\n",
       "221    KMY-D-HD-M-03\n",
       "231    KMY-D-HD-M-03\n",
       "Name: 배출가스인증번호, dtype: object"
      ]
     },
     "metadata": {},
     "output_type": "display_data"
    }
   ],
   "source": [
    "gas_df.iloc[idx129_1[:5], 12]"
   ]
  },
  {
   "cell_type": "code",
   "execution_count": null,
   "metadata": {},
   "outputs": [
    {
     "name": "stderr",
     "output_type": "stream",
     "text": [
      "22241it [00:00, 719401.53it/s]\n"
     ]
    },
    {
     "data": {
      "text/plain": [
       "1"
      ]
     },
     "metadata": {},
     "output_type": "display_data"
    }
   ],
   "source": [
    "idx129_3 = []\n",
    "count = 0\n",
    "for i, one in tqdm(enumerate(gas_temp2.to_numpy())):\n",
    "    try:\n",
    "        if len(str(one).split('-')[3]) == 3:\n",
    "            idx129_3.append(gas_temp2.index[i])\n",
    "            count += 1\n",
    "    except:\n",
    "        pass\n",
    "count"
   ]
  },
  {
   "cell_type": "code",
   "execution_count": null,
   "metadata": {},
   "outputs": [
    {
     "data": {
      "text/plain": [
       "144093    9MY-PPE-14-597\n",
       "Name: 배출가스인증번호, dtype: object"
      ]
     },
     "metadata": {},
     "output_type": "display_data"
    }
   ],
   "source": [
    "gas_df.iloc[idx129_3, 12]"
   ]
  },
  {
   "cell_type": "code",
   "execution_count": null,
   "metadata": {},
   "outputs": [
    {
     "name": "stderr",
     "output_type": "stream",
     "text": [
      "1186488it [00:01, 952199.44it/s]\n"
     ]
    },
    {
     "data": {
      "text/plain": [
       "0"
      ]
     },
     "metadata": {},
     "output_type": "display_data"
    }
   ],
   "source": [
    "idx127_4 = []\n",
    "count = 0\n",
    "for i, one in tqdm(enumerate(gas_df.iloc[:, 12].to_numpy())):\n",
    "    try:\n",
    "        if len(str(one).split('-')[3]) == 4:\n",
    "            idx127_4.append(i)\n",
    "            count += 1\n",
    "    except:\n",
    "        pass\n",
    "count"
   ]
  },
  {
   "attachments": {},
   "cell_type": "markdown",
   "metadata": {},
   "source": [
    "##### 중복으로 추출된 샘플"
   ]
  },
  {
   "cell_type": "code",
   "execution_count": null,
   "metadata": {},
   "outputs": [
    {
     "data": {
      "text/plain": [
       "[17, 160, 190, 221, 231]"
      ]
     },
     "metadata": {},
     "output_type": "display_data"
    }
   ],
   "source": [
    "idx127_1[:5]"
   ]
  },
  {
   "cell_type": "code",
   "execution_count": null,
   "metadata": {},
   "outputs": [
    {
     "data": {
      "text/plain": [
       "[17, 160, 190, 221, 231]"
      ]
     },
     "metadata": {},
     "output_type": "display_data"
    }
   ],
   "source": [
    "idx129_1[:5]"
   ]
  },
  {
   "cell_type": "code",
   "execution_count": null,
   "metadata": {},
   "outputs": [
    {
     "data": {
      "text/plain": [
       "True"
      ]
     },
     "metadata": {},
     "output_type": "display_data"
    }
   ],
   "source": [
    "set(idx127_1) == set(idx129_1)"
   ]
  },
  {
   "attachments": {},
   "cell_type": "markdown",
   "metadata": {},
   "source": [
    "### 13\\. 배출가스등급"
   ]
  },
  {
   "cell_type": "code",
   "execution_count": null,
   "metadata": {},
   "outputs": [],
   "source": [
    "# - 오류\n",
    "#     - null : 0"
   ]
  },
  {
   "cell_type": "code",
   "execution_count": 95,
   "metadata": {},
   "outputs": [
    {
     "data": {
      "text/plain": [
       "4    1528586\n",
       "Name: 배출가스등급, dtype: int64"
      ]
     },
     "execution_count": 95,
     "metadata": {},
     "output_type": "execute_result"
    }
   ],
   "source": [
    "df.iloc[:, 13].value_counts()"
   ]
  },
  {
   "cell_type": "code",
   "execution_count": 96,
   "metadata": {},
   "outputs": [
    {
     "data": {
      "text/plain": [
       "0"
      ]
     },
     "execution_count": 96,
     "metadata": {},
     "output_type": "execute_result"
    }
   ],
   "source": [
    "df.iloc[:, 13].isnull().sum()"
   ]
  },
  {
   "attachments": {},
   "cell_type": "markdown",
   "metadata": {},
   "source": [
    "### 14\\. [e]저공해조치종류"
   ]
  },
  {
   "cell_type": "code",
   "execution_count": null,
   "metadata": {},
   "outputs": [],
   "source": [
    "# - 오류\n",
    "#     - null : 1528391"
   ]
  },
  {
   "cell_type": "code",
   "execution_count": 97,
   "metadata": {},
   "outputs": [
    {
     "data": {
      "text/plain": [
       "2종 저감장치 부착    115\n",
       "1종 저감장치 부착     71\n",
       "엔진개조            4\n",
       "3종 저감장치 부착      4\n",
       "동시저감장치 부착       1\n",
       "Name: 저공해조치종류, dtype: int64"
      ]
     },
     "execution_count": 97,
     "metadata": {},
     "output_type": "execute_result"
    }
   ],
   "source": [
    "df.iloc[:, 14].value_counts()"
   ]
  },
  {
   "cell_type": "code",
   "execution_count": 98,
   "metadata": {},
   "outputs": [
    {
     "data": {
      "text/plain": [
       "1528391"
      ]
     },
     "execution_count": 98,
     "metadata": {},
     "output_type": "execute_result"
    }
   ],
   "source": [
    "df.iloc[:, 14].isnull().sum()"
   ]
  },
  {
   "attachments": {},
   "cell_type": "markdown",
   "metadata": {},
   "source": [
    "### 15\\. 저공해조치구조변경YN"
   ]
  },
  {
   "cell_type": "code",
   "execution_count": null,
   "metadata": {},
   "outputs": [],
   "source": [
    "# - 오류\n",
    "#     - null : 0"
   ]
  },
  {
   "cell_type": "code",
   "execution_count": 99,
   "metadata": {},
   "outputs": [
    {
     "data": {
      "text/plain": [
       "N    1215924\n",
       "Y     312662\n",
       "Name: 저공해조치구조변경YN, dtype: int64"
      ]
     },
     "execution_count": 99,
     "metadata": {},
     "output_type": "execute_result"
    }
   ],
   "source": [
    "df.iloc[:, 15].value_counts()"
   ]
  },
  {
   "cell_type": "code",
   "execution_count": 100,
   "metadata": {},
   "outputs": [
    {
     "data": {
      "text/plain": [
       "0"
      ]
     },
     "execution_count": 100,
     "metadata": {},
     "output_type": "execute_result"
    }
   ],
   "source": [
    "df.iloc[:, 15].isnull().sum()"
   ]
  },
  {
   "attachments": {},
   "cell_type": "markdown",
   "metadata": {},
   "source": [
    "### 16\\. 차량말소YN"
   ]
  },
  {
   "cell_type": "code",
   "execution_count": null,
   "metadata": {},
   "outputs": [],
   "source": [
    "# - 오류\n",
    "#     - null : 0"
   ]
  },
  {
   "cell_type": "code",
   "execution_count": 101,
   "metadata": {},
   "outputs": [
    {
     "data": {
      "text/plain": [
       "N    1528586\n",
       "Name: 차량말소YN, dtype: int64"
      ]
     },
     "execution_count": 101,
     "metadata": {},
     "output_type": "execute_result"
    }
   ],
   "source": [
    "df.iloc[:, 16].value_counts()"
   ]
  },
  {
   "cell_type": "code",
   "execution_count": 102,
   "metadata": {},
   "outputs": [
    {
     "data": {
      "text/plain": [
       "0"
      ]
     },
     "execution_count": 102,
     "metadata": {},
     "output_type": "execute_result"
    }
   ],
   "source": [
    "df.iloc[:, 16].isnull().sum()"
   ]
  },
  {
   "attachments": {},
   "cell_type": "markdown",
   "metadata": {},
   "source": [
    "### 17\\. [e]취득일자"
   ]
  },
  {
   "cell_type": "code",
   "execution_count": null,
   "metadata": {},
   "outputs": [],
   "source": [
    "# - 오류\n",
    "#     - null : 93072\n",
    "#     - 8자리 아닌 값 : 2\n",
    "#     - 숫자가 아닌 값(nan값 제외) :  0"
   ]
  },
  {
   "cell_type": "code",
   "execution_count": 103,
   "metadata": {},
   "outputs": [
    {
     "data": {
      "text/plain": [
       "20220607.0    1008\n",
       "20220627.0     901\n",
       "20220602.0     883\n",
       "20220620.0     844\n",
       "20220530.0     833\n",
       "              ... \n",
       "20070221         1\n",
       "20110306         1\n",
       "20020628         1\n",
       "20150415         1\n",
       "20051218.0       1\n",
       "Name: 취득일자, Length: 16929, dtype: int64"
      ]
     },
     "execution_count": 103,
     "metadata": {},
     "output_type": "execute_result"
    }
   ],
   "source": [
    "df.iloc[:, 17].value_counts()"
   ]
  },
  {
   "cell_type": "code",
   "execution_count": 104,
   "metadata": {},
   "outputs": [
    {
     "data": {
      "text/plain": [
       "93072"
      ]
     },
     "execution_count": 104,
     "metadata": {},
     "output_type": "execute_result"
    }
   ],
   "source": [
    "df.iloc[:, 17].isnull().sum()"
   ]
  },
  {
   "cell_type": "code",
   "execution_count": 111,
   "metadata": {},
   "outputs": [
    {
     "data": {
      "text/plain": [
       "dtype('O')"
      ]
     },
     "execution_count": 111,
     "metadata": {},
     "output_type": "execute_result"
    }
   ],
   "source": [
    "df['취득일자'].dtype"
   ]
  },
  {
   "cell_type": "code",
   "execution_count": 113,
   "metadata": {},
   "outputs": [],
   "source": [
    "# 취득일자 정수형으로 변환시 오류인 값 : 93074\n",
    "idx171_1 = []\n",
    "idx171_2 = []\n",
    "for i, one in enumerate(df['취득일자'].to_numpy()):\n",
    "    try:\n",
    "        int(one)\n",
    "        idx171_2.append(i)\n",
    "    except:\n",
    "        idx171_1.append(i)"
   ]
  },
  {
   "cell_type": "code",
   "execution_count": 114,
   "metadata": {},
   "outputs": [
    {
     "data": {
      "text/plain": [
       "93074"
      ]
     },
     "execution_count": 114,
     "metadata": {},
     "output_type": "execute_result"
    }
   ],
   "source": [
    "len(idx171_1)"
   ]
  },
  {
   "cell_type": "code",
   "execution_count": 115,
   "metadata": {},
   "outputs": [
    {
     "data": {
      "text/plain": [
       "93072"
      ]
     },
     "execution_count": 115,
     "metadata": {},
     "output_type": "execute_result"
    }
   ],
   "source": [
    "# 취득일자가 nan 값인 샘플 : 141553\n",
    "idx172 = df[df['취득일자'].isnull() == True]['취득일자'].index\n",
    "len(idx172)"
   ]
  },
  {
   "cell_type": "code",
   "execution_count": 116,
   "metadata": {},
   "outputs": [
    {
     "data": {
      "text/plain": [
       "735987     200109 9\n",
       "1372039    2001 412\n",
       "Name: 취득일자, dtype: object"
      ]
     },
     "execution_count": 116,
     "metadata": {},
     "output_type": "execute_result"
    }
   ],
   "source": [
    "# 숫자가 아닌 값 : \n",
    "df.iloc[sorted(set(idx171_1) - set(idx172)), 17]"
   ]
  },
  {
   "cell_type": "code",
   "execution_count": null,
   "metadata": {},
   "outputs": [],
   "source": [
    "get_date_temp = df.iloc[idx171_2, 17].copy()\n",
    "get_date_temp.head()"
   ]
  },
  {
   "cell_type": "code",
   "execution_count": null,
   "metadata": {},
   "outputs": [],
   "source": [
    "get_date_temp = get_date_temp.astype('int')\n",
    "get_date_temp.head()"
   ]
  },
  {
   "cell_type": "code",
   "execution_count": null,
   "metadata": {},
   "outputs": [],
   "source": [
    "# 8자리가 아닌 값(nan값 포함) : \n",
    "idx173 = []\n",
    "for i, one in enumerate(get_date_temp):\n",
    "    if len(str(one)) != 8:\n",
    "        idx173.append(get_date_temp.index[i])\n",
    "len(idx173) "
   ]
  },
  {
   "cell_type": "code",
   "execution_count": null,
   "metadata": {},
   "outputs": [],
   "source": [
    "get_date_temp[idx173]"
   ]
  },
  {
   "cell_type": "code",
   "execution_count": null,
   "metadata": {},
   "outputs": [],
   "source": [
    "# 8자리가 아닌 값(nan값 제외) : \n",
    "len(set(idx173) - set(idx172))"
   ]
  },
  {
   "cell_type": "code",
   "execution_count": null,
   "metadata": {},
   "outputs": [],
   "source": [
    "df.iloc[sorted(set(idx173) - set(idx172)), 17].head()"
   ]
  },
  {
   "attachments": {},
   "cell_type": "markdown",
   "metadata": {},
   "source": [
    "### 18\\. [e]취득금액"
   ]
  },
  {
   "cell_type": "code",
   "execution_count": null,
   "metadata": {},
   "outputs": [],
   "source": [
    "# - 오류\n",
    "#     - null : 74973\n",
    "#     - 숫자가 아닌 값 : 0"
   ]
  },
  {
   "cell_type": "code",
   "execution_count": 117,
   "metadata": {},
   "outputs": [
    {
     "data": {
      "text/plain": [
       "0.0            258676\n",
       "1000000.0       43125\n",
       "500000.0        29818\n",
       "2000000.0       28457\n",
       "100000.0        27958\n",
       "                ...  \n",
       "62790.0             1\n",
       "100761818.0         1\n",
       "26188580.0          1\n",
       "17523047.0          1\n",
       "20240.0             1\n",
       "Name: 취득금액, Length: 159946, dtype: int64"
      ]
     },
     "execution_count": 117,
     "metadata": {},
     "output_type": "execute_result"
    }
   ],
   "source": [
    "df.iloc[:, 18].value_counts()"
   ]
  },
  {
   "cell_type": "code",
   "execution_count": 118,
   "metadata": {},
   "outputs": [
    {
     "data": {
      "text/plain": [
       "74973"
      ]
     },
     "execution_count": 118,
     "metadata": {},
     "output_type": "execute_result"
    }
   ],
   "source": [
    "df.iloc[:, 18].isnull().sum()"
   ]
  },
  {
   "cell_type": "code",
   "execution_count": 122,
   "metadata": {},
   "outputs": [
    {
     "name": "stderr",
     "output_type": "stream",
     "text": [
      "1528586it [00:02, 690456.77it/s]\n"
     ]
    },
    {
     "data": {
      "text/plain": [
       "74973"
      ]
     },
     "execution_count": 122,
     "metadata": {},
     "output_type": "execute_result"
    }
   ],
   "source": [
    "p18 = re.compile('\\D+')\n",
    "idx181 = []\n",
    "idx182 = []\n",
    "count = 0\n",
    "for i, one in tqdm(enumerate(df.iloc[:, 18].to_numpy())):\n",
    "    try:\n",
    "        if p18.search(str(int(one))):\n",
    "            idx181.append(i)\n",
    "            count += 1\n",
    "    except:\n",
    "        idx182.append(i)\n",
    "        count += 1\n",
    "count"
   ]
  },
  {
   "cell_type": "code",
   "execution_count": 125,
   "metadata": {},
   "outputs": [
    {
     "data": {
      "text/plain": [
       "(0, 74973)"
      ]
     },
     "execution_count": 125,
     "metadata": {},
     "output_type": "execute_result"
    }
   ],
   "source": [
    "len(idx181), len(idx182)"
   ]
  },
  {
   "cell_type": "code",
   "execution_count": 123,
   "metadata": {},
   "outputs": [
    {
     "name": "stderr",
     "output_type": "stream",
     "text": [
      "C:\\Users\\kbj\\AppData\\Local\\Temp\\ipykernel_18336\\2151798388.py:1: FutureWarning: The behavior of `series[i:j]` with an integer-dtype index is deprecated. In a future version, this will be treated as *label-based* indexing, consistent with e.g. `series[i]` lookups. To retain the old behavior, use `series.iloc[i:j]`. To get the future behavior, use `series.loc[i:j]`.\n",
      "  df.iloc[:, 18].reindex(idx182)[:5]\n"
     ]
    },
    {
     "data": {
      "text/plain": [
       "62    NaN\n",
       "98    NaN\n",
       "128   NaN\n",
       "146   NaN\n",
       "156   NaN\n",
       "Name: 취득금액, dtype: float64"
      ]
     },
     "execution_count": 123,
     "metadata": {},
     "output_type": "execute_result"
    }
   ],
   "source": [
    "df.iloc[:, 18].reindex(idx182)[:5]"
   ]
  },
  {
   "attachments": {},
   "cell_type": "markdown",
   "metadata": {},
   "source": [
    "### 19\\. 차명"
   ]
  },
  {
   "cell_type": "code",
   "execution_count": null,
   "metadata": {},
   "outputs": [],
   "source": [
    "# - 오류\n",
    "#     - null : 0"
   ]
  },
  {
   "cell_type": "code",
   "execution_count": 126,
   "metadata": {},
   "outputs": [
    {
     "data": {
      "text/plain": [
       "포터Ⅱ(PORTERⅡ)              180795\n",
       "싼타페(SANTAFE)              138850\n",
       "스포티지                       76497\n",
       "그랜드 스타렉스(GRAND STAREX)     74977\n",
       "투싼(TUCSON)                 58687\n",
       "                           ...  \n",
       "CIVIC SiR                      1\n",
       "TACOMA3.4                      1\n",
       "미니브리티시오픈                       1\n",
       "BMW 525itA                     1\n",
       "메가트럭군물자수송                      1\n",
       "Name: 차명, Length: 3572, dtype: int64"
      ]
     },
     "execution_count": 126,
     "metadata": {},
     "output_type": "execute_result"
    }
   ],
   "source": [
    "df.iloc[:, 19].value_counts()"
   ]
  },
  {
   "cell_type": "code",
   "execution_count": 127,
   "metadata": {},
   "outputs": [
    {
     "data": {
      "text/plain": [
       "0"
      ]
     },
     "execution_count": 127,
     "metadata": {},
     "output_type": "execute_result"
    }
   ],
   "source": [
    "df.iloc[:, 19].isnull().sum()"
   ]
  },
  {
   "cell_type": "code",
   "execution_count": null,
   "metadata": {},
   "outputs": [],
   "source": [
    "df.loc[df['차명'].isnull() == True, ['차명', '차량등록번호', '차대번호']]"
   ]
  },
  {
   "attachments": {},
   "cell_type": "markdown",
   "metadata": {},
   "source": [
    "### 20\\. 차종_제원정보"
   ]
  },
  {
   "cell_type": "code",
   "execution_count": null,
   "metadata": {},
   "outputs": [],
   "source": [
    "# - 오류\n",
    "#     - null : 0"
   ]
  },
  {
   "cell_type": "code",
   "execution_count": 128,
   "metadata": {},
   "outputs": [
    {
     "data": {
      "text/plain": [
       "승용    843902\n",
       "화물    521971\n",
       "승합    155705\n",
       "특수      7008\n",
       "Name: 차종_제원정보, dtype: int64"
      ]
     },
     "execution_count": 128,
     "metadata": {},
     "output_type": "execute_result"
    }
   ],
   "source": [
    "df.iloc[:, 20].value_counts()"
   ]
  },
  {
   "cell_type": "code",
   "execution_count": 129,
   "metadata": {},
   "outputs": [
    {
     "data": {
      "text/plain": [
       "0"
      ]
     },
     "execution_count": 129,
     "metadata": {},
     "output_type": "execute_result"
    }
   ],
   "source": [
    "df.iloc[:, 20].isnull().sum()"
   ]
  },
  {
   "attachments": {},
   "cell_type": "markdown",
   "metadata": {},
   "source": [
    "### 21\\. 차종분류"
   ]
  },
  {
   "cell_type": "code",
   "execution_count": null,
   "metadata": {},
   "outputs": [],
   "source": [
    "# - 오류\n",
    "#     - null : 0"
   ]
  },
  {
   "cell_type": "code",
   "execution_count": 130,
   "metadata": {},
   "outputs": [
    {
     "data": {
      "text/plain": [
       "일반             540536\n",
       "다목적            439052\n",
       "일반형-카고         370138\n",
       "밴               63114\n",
       "특수용도형-특수용도형     51196\n",
       "일반형-픽업          31406\n",
       "기타              18027\n",
       "덤프               5965\n",
       "견인               5446\n",
       "특수               1725\n",
       "특수작업형             854\n",
       "구난                708\n",
       "승용겸화물             267\n",
       "특수용도형-탱크로리        151\n",
       "특수용도형-피견인           1\n",
       "Name: 차종분류, dtype: int64"
      ]
     },
     "execution_count": 130,
     "metadata": {},
     "output_type": "execute_result"
    }
   ],
   "source": [
    "df.iloc[:, 21].value_counts()"
   ]
  },
  {
   "cell_type": "code",
   "execution_count": 131,
   "metadata": {},
   "outputs": [
    {
     "data": {
      "text/plain": [
       "0"
      ]
     },
     "execution_count": 131,
     "metadata": {},
     "output_type": "execute_result"
    }
   ],
   "source": [
    "df.iloc[:, 21].isnull().sum()"
   ]
  },
  {
   "attachments": {},
   "cell_type": "markdown",
   "metadata": {},
   "source": [
    "### 22\\. 차종유형"
   ]
  },
  {
   "cell_type": "code",
   "execution_count": null,
   "metadata": {},
   "outputs": [],
   "source": [
    "# - 오류\n",
    "#     - null : 0"
   ]
  },
  {
   "cell_type": "code",
   "execution_count": 132,
   "metadata": {},
   "outputs": [
    {
     "data": {
      "text/plain": [
       "중형    698798\n",
       "소형    582232\n",
       "대형    219531\n",
       "경형     28025\n",
       "Name: 차종유형, dtype: int64"
      ]
     },
     "execution_count": 132,
     "metadata": {},
     "output_type": "execute_result"
    }
   ],
   "source": [
    "df.iloc[:, 22].value_counts()"
   ]
  },
  {
   "cell_type": "code",
   "execution_count": 134,
   "metadata": {},
   "outputs": [
    {
     "data": {
      "text/plain": [
       "0"
      ]
     },
     "execution_count": 134,
     "metadata": {},
     "output_type": "execute_result"
    }
   ],
   "source": [
    "df.iloc[:, 22].isnull().sum()"
   ]
  },
  {
   "attachments": {},
   "cell_type": "markdown",
   "metadata": {},
   "source": [
    "### 23\\. [e]자동차형식"
   ]
  },
  {
   "cell_type": "code",
   "execution_count": null,
   "metadata": {},
   "outputs": [],
   "source": [
    "# - 오류\n",
    "#     - null : 284"
   ]
  },
  {
   "cell_type": "code",
   "execution_count": 135,
   "metadata": {},
   "outputs": [
    {
     "data": {
      "text/plain": [
       "CM7UBA               36235\n",
       "CA26R                23887\n",
       "JE553G-HG            22730\n",
       "HRQJA-DX-B           19414\n",
       "TQ-12JAB-1           16880\n",
       "                     ...  \n",
       "HD2-42-10Le-BEIT1        1\n",
       "EN-7NS3DAF8-2            1\n",
       "HBSV-VD138               1\n",
       "KTH-18L14.5-410          1\n",
       "HD050-8MT2-LGc-A         1\n",
       "Name: 자동차형식, Length: 8114, dtype: int64"
      ]
     },
     "execution_count": 135,
     "metadata": {},
     "output_type": "execute_result"
    }
   ],
   "source": [
    "df.iloc[:, 23].value_counts()"
   ]
  },
  {
   "cell_type": "code",
   "execution_count": 136,
   "metadata": {},
   "outputs": [
    {
     "data": {
      "text/plain": [
       "284"
      ]
     },
     "execution_count": 136,
     "metadata": {},
     "output_type": "execute_result"
    }
   ],
   "source": [
    "df.iloc[:, 23].isnull().sum()"
   ]
  },
  {
   "attachments": {},
   "cell_type": "markdown",
   "metadata": {},
   "source": [
    "### 24\\. [e]제작사명"
   ]
  },
  {
   "cell_type": "code",
   "execution_count": null,
   "metadata": {},
   "outputs": [],
   "source": [
    "# - 오류\n",
    "#     - null : 9892"
   ]
  },
  {
   "cell_type": "code",
   "execution_count": 137,
   "metadata": {},
   "outputs": [
    {
     "data": {
      "text/plain": [
       "현대자동차(주)       891178\n",
       "기아자동차(주)       377792\n",
       "대우자동차(주)        62506\n",
       "한국지엠주식회사        53957\n",
       "쌍용자동차(주)        41016\n",
       "                ...  \n",
       "(주) 미래교통렌트카         1\n",
       "마이웨이                1\n",
       "고랜드코리아              1\n",
       "백상 CTC              1\n",
       "서울시티투어버스(주)         1\n",
       "Name: 제작사명, Length: 669, dtype: int64"
      ]
     },
     "execution_count": 137,
     "metadata": {},
     "output_type": "execute_result"
    }
   ],
   "source": [
    "df.iloc[:, 24].value_counts()"
   ]
  },
  {
   "cell_type": "code",
   "execution_count": 138,
   "metadata": {},
   "outputs": [
    {
     "data": {
      "text/plain": [
       "9892"
      ]
     },
     "execution_count": 138,
     "metadata": {},
     "output_type": "execute_result"
    }
   ],
   "source": [
    "df.iloc[:, 24].isnull().sum()"
   ]
  },
  {
   "attachments": {},
   "cell_type": "markdown",
   "metadata": {},
   "source": [
    "### 25\\. 연료"
   ]
  },
  {
   "cell_type": "code",
   "execution_count": 3,
   "metadata": {},
   "outputs": [],
   "source": [
    "# - 오류\n",
    "#     - null : 0"
   ]
  },
  {
   "cell_type": "code",
   "execution_count": 139,
   "metadata": {},
   "outputs": [
    {
     "data": {
      "text/plain": [
       "경유             1167610\n",
       "휘발유             334517\n",
       "LPG(액화석유가스)      26419\n",
       "기타연료                38\n",
       "알코올                  1\n",
       "CNG(압축천연가스)          1\n",
       "Name: 연료, dtype: int64"
      ]
     },
     "execution_count": 139,
     "metadata": {},
     "output_type": "execute_result"
    }
   ],
   "source": [
    "df.iloc[:, 25].value_counts()"
   ]
  },
  {
   "cell_type": "code",
   "execution_count": 140,
   "metadata": {},
   "outputs": [
    {
     "data": {
      "text/plain": [
       "0"
      ]
     },
     "execution_count": 140,
     "metadata": {},
     "output_type": "execute_result"
    }
   ],
   "source": [
    "df.iloc[:, 25].isnull().sum()"
   ]
  },
  {
   "attachments": {},
   "cell_type": "markdown",
   "metadata": {},
   "source": [
    "### 26\\. [e]엔진형식"
   ]
  },
  {
   "cell_type": "code",
   "execution_count": 4,
   "metadata": {},
   "outputs": [],
   "source": [
    "# - 오류\n",
    "#     - null : 1846"
   ]
  },
  {
   "cell_type": "code",
   "execution_count": 141,
   "metadata": {},
   "outputs": [
    {
     "data": {
      "text/plain": [
       "D4CB           407006\n",
       "D4EA           190781\n",
       "J3             139727\n",
       "D6EA            75036\n",
       "Z20S            53958\n",
       "                ...  \n",
       "12A2DJ01            1\n",
       "AR01544             1\n",
       "LT-1                1\n",
       "J3-8-VF-F           1\n",
       "D2676 LOH02         1\n",
       "Name: 엔진형식, Length: 1428, dtype: int64"
      ]
     },
     "execution_count": 141,
     "metadata": {},
     "output_type": "execute_result"
    }
   ],
   "source": [
    "df.iloc[:, 26].value_counts()"
   ]
  },
  {
   "cell_type": "code",
   "execution_count": 142,
   "metadata": {},
   "outputs": [
    {
     "data": {
      "text/plain": [
       "1846"
      ]
     },
     "execution_count": 142,
     "metadata": {},
     "output_type": "execute_result"
    }
   ],
   "source": [
    "df.iloc[:, 26].isnull().sum()"
   ]
  },
  {
   "attachments": {},
   "cell_type": "markdown",
   "metadata": {},
   "source": [
    "### 27\\. [e]총중량"
   ]
  },
  {
   "cell_type": "code",
   "execution_count": null,
   "metadata": {},
   "outputs": [],
   "source": [
    "# - 오류\n",
    "#     - null : 1\n",
    "#     - 숫자가 아닌 값(nan값 제외) : 0"
   ]
  },
  {
   "cell_type": "code",
   "execution_count": 143,
   "metadata": {},
   "outputs": [
    {
     "data": {
      "text/plain": [
       "2925.0     66420\n",
       "2285.0     53732\n",
       "2950.0     51480\n",
       "2955.0     47126\n",
       "2345.0     39729\n",
       "           ...  \n",
       "6960.0         1\n",
       "10570.0        1\n",
       "35180.0        1\n",
       "5435.0         1\n",
       "21690.0        1\n",
       "Name: 총중량, Length: 2121, dtype: int64"
      ]
     },
     "execution_count": 143,
     "metadata": {},
     "output_type": "execute_result"
    }
   ],
   "source": [
    "df.iloc[:, 27].value_counts()"
   ]
  },
  {
   "cell_type": "code",
   "execution_count": 144,
   "metadata": {},
   "outputs": [
    {
     "data": {
      "text/plain": [
       "1"
      ]
     },
     "execution_count": 144,
     "metadata": {},
     "output_type": "execute_result"
    }
   ],
   "source": [
    "df.iloc[:, 27].isnull().sum()"
   ]
  },
  {
   "cell_type": "code",
   "execution_count": 145,
   "metadata": {},
   "outputs": [
    {
     "name": "stderr",
     "output_type": "stream",
     "text": [
      "1528586it [00:02, 662307.08it/s]\n"
     ]
    },
    {
     "data": {
      "text/plain": [
       "1"
      ]
     },
     "execution_count": 145,
     "metadata": {},
     "output_type": "execute_result"
    }
   ],
   "source": [
    "p27 = re.compile('\\D+')\n",
    "idx271 = []\n",
    "idx272 = []\n",
    "count = 0\n",
    "for i, one in tqdm(enumerate(df.iloc[:, 27].to_numpy())):\n",
    "    try:\n",
    "        if p27.search(str(int(one))):\n",
    "            idx271.append(i)\n",
    "            count += 1\n",
    "    except:\n",
    "        idx272.append(i)\n",
    "        count += 1\n",
    "count"
   ]
  },
  {
   "cell_type": "code",
   "execution_count": 146,
   "metadata": {},
   "outputs": [
    {
     "data": {
      "text/plain": [
       "(0, 1)"
      ]
     },
     "execution_count": 146,
     "metadata": {},
     "output_type": "execute_result"
    }
   ],
   "source": [
    "len(idx271), len(idx272)"
   ]
  },
  {
   "cell_type": "code",
   "execution_count": null,
   "metadata": {},
   "outputs": [],
   "source": [
    "df.iloc[idx272, 27]"
   ]
  },
  {
   "attachments": {},
   "cell_type": "markdown",
   "metadata": {},
   "source": [
    "### 28\\. [e]적재중량"
   ]
  },
  {
   "cell_type": "code",
   "execution_count": null,
   "metadata": {},
   "outputs": [],
   "source": [
    "# - 오류\n",
    "#     - null : 511\n",
    "#     - 숫자가 아닌 값(nan값 제외) : 0"
   ]
  },
  {
   "cell_type": "code",
   "execution_count": 149,
   "metadata": {},
   "outputs": [
    {
     "data": {
      "text/plain": [
       "0.0         999646\n",
       "1000.0      351435\n",
       "600.0        41249\n",
       "400.0        31382\n",
       "800.0        24526\n",
       "             ...  \n",
       "9400.0           1\n",
       "10200.0          1\n",
       "450000.0         1\n",
       "14200.0          1\n",
       "800000.0         1\n",
       "Name: 적재중량, Length: 164, dtype: int64"
      ]
     },
     "execution_count": 149,
     "metadata": {},
     "output_type": "execute_result"
    }
   ],
   "source": [
    "df.iloc[:, 28].value_counts()"
   ]
  },
  {
   "cell_type": "code",
   "execution_count": 150,
   "metadata": {},
   "outputs": [
    {
     "data": {
      "text/plain": [
       "511"
      ]
     },
     "execution_count": 150,
     "metadata": {},
     "output_type": "execute_result"
    }
   ],
   "source": [
    "df.iloc[:, 28].isnull().sum()"
   ]
  },
  {
   "cell_type": "code",
   "execution_count": 151,
   "metadata": {},
   "outputs": [
    {
     "name": "stderr",
     "output_type": "stream",
     "text": [
      "1528586it [00:02, 690660.57it/s]\n"
     ]
    },
    {
     "data": {
      "text/plain": [
       "511"
      ]
     },
     "execution_count": 151,
     "metadata": {},
     "output_type": "execute_result"
    }
   ],
   "source": [
    "p28 = re.compile('\\D+')\n",
    "idx281 = []\n",
    "idx282 = []\n",
    "count = 0\n",
    "for i, one in tqdm(enumerate(df.iloc[:, 28].to_numpy())):\n",
    "    try:\n",
    "        if p28.search(str(int(one))):\n",
    "            idx281.append(i)\n",
    "            count += 1\n",
    "    except:\n",
    "        idx282.append(i)\n",
    "        count += 1\n",
    "count"
   ]
  },
  {
   "cell_type": "code",
   "execution_count": 152,
   "metadata": {},
   "outputs": [
    {
     "data": {
      "text/plain": [
       "(0, 511)"
      ]
     },
     "execution_count": 152,
     "metadata": {},
     "output_type": "execute_result"
    }
   ],
   "source": [
    "len(idx281), len(idx282)"
   ]
  },
  {
   "cell_type": "code",
   "execution_count": null,
   "metadata": {},
   "outputs": [],
   "source": [
    "df.iloc[idx282[:5], 28]"
   ]
  },
  {
   "attachments": {},
   "cell_type": "markdown",
   "metadata": {},
   "source": [
    "### 19\\. [e]엔진출력"
   ]
  },
  {
   "cell_type": "code",
   "execution_count": null,
   "metadata": {},
   "outputs": [],
   "source": [
    "# - 오류\n",
    "#     - null : 359\n",
    "#     - 숫자가 아닌 값 : 18"
   ]
  },
  {
   "cell_type": "code",
   "execution_count": 153,
   "metadata": {},
   "outputs": [
    {
     "data": {
      "text/plain": [
       "126.0       289953\n",
       "174.0       104789\n",
       "151.0        91306\n",
       "150.0        77553\n",
       "126          64775\n",
       "             ...  \n",
       "280-6400         1\n",
       "4                1\n",
       "34.0             1\n",
       "273.0            1\n",
       "436.0            1\n",
       "Name: 엔진출력, Length: 662, dtype: int64"
      ]
     },
     "execution_count": 153,
     "metadata": {},
     "output_type": "execute_result"
    }
   ],
   "source": [
    "df.iloc[:, 29].value_counts()"
   ]
  },
  {
   "cell_type": "code",
   "execution_count": 154,
   "metadata": {},
   "outputs": [
    {
     "data": {
      "text/plain": [
       "359"
      ]
     },
     "execution_count": 154,
     "metadata": {},
     "output_type": "execute_result"
    }
   ],
   "source": [
    "df.iloc[:, 29].isnull().sum()"
   ]
  },
  {
   "cell_type": "code",
   "execution_count": 160,
   "metadata": {},
   "outputs": [
    {
     "name": "stderr",
     "output_type": "stream",
     "text": [
      "1528586it [00:02, 708461.06it/s]\n"
     ]
    },
    {
     "data": {
      "text/plain": [
       "377"
      ]
     },
     "execution_count": 160,
     "metadata": {},
     "output_type": "execute_result"
    }
   ],
   "source": [
    "p29 = re.compile('\\d+[.]\\d+')\n",
    "idx291 = []\n",
    "idx292 = []\n",
    "count = 0\n",
    "for i, one in tqdm(enumerate(df.iloc[:, 29].to_numpy())):\n",
    "    try:\n",
    "        if not p29.search(str(float(one))):\n",
    "            idx291.append(i)\n",
    "            count += 1\n",
    "    except:\n",
    "        idx292.append(i)\n",
    "        count += 1\n",
    "count"
   ]
  },
  {
   "cell_type": "code",
   "execution_count": 161,
   "metadata": {},
   "outputs": [
    {
     "data": {
      "text/plain": [
       "(359, 18)"
      ]
     },
     "execution_count": 161,
     "metadata": {},
     "output_type": "execute_result"
    }
   ],
   "source": [
    "len(idx291), len(idx292)"
   ]
  },
  {
   "cell_type": "code",
   "execution_count": 162,
   "metadata": {},
   "outputs": [
    {
     "data": {
      "text/plain": [
       "359"
      ]
     },
     "execution_count": 162,
     "metadata": {},
     "output_type": "execute_result"
    }
   ],
   "source": [
    "idx293 = df[df['엔진출력'].isnull() == True]['엔진출력'].index\n",
    "len(idx293)"
   ]
  },
  {
   "cell_type": "code",
   "execution_count": 163,
   "metadata": {},
   "outputs": [
    {
     "name": "stderr",
     "output_type": "stream",
     "text": [
      "C:\\Users\\kbj\\AppData\\Local\\Temp\\ipykernel_18336\\2791330140.py:1: FutureWarning: The behavior of `series[i:j]` with an integer-dtype index is deprecated. In a future version, this will be treated as *label-based* indexing, consistent with e.g. `series[i]` lookups. To retain the old behavior, use `series.iloc[i:j]`. To get the future behavior, use `series.loc[i:j]`.\n",
      "  df.iloc[idx291, 29][:5]\n"
     ]
    },
    {
     "data": {
      "text/plain": [
       "12060    NaN\n",
       "16761    NaN\n",
       "19514    NaN\n",
       "22845    NaN\n",
       "25508    NaN\n",
       "Name: 엔진출력, dtype: object"
      ]
     },
     "execution_count": 163,
     "metadata": {},
     "output_type": "execute_result"
    }
   ],
   "source": [
    "df.iloc[idx291[:5], 29]"
   ]
  },
  {
   "cell_type": "code",
   "execution_count": 164,
   "metadata": {},
   "outputs": [
    {
     "name": "stderr",
     "output_type": "stream",
     "text": [
      "C:\\Users\\kbj\\AppData\\Local\\Temp\\ipykernel_18336\\491642684.py:1: FutureWarning: The behavior of `series[i:j]` with an integer-dtype index is deprecated. In a future version, this will be treated as *label-based* indexing, consistent with e.g. `series[i]` lookups. To retain the old behavior, use `series.iloc[i:j]`. To get the future behavior, use `series.loc[i:j]`.\n",
      "  df.iloc[idx292, 29][:5]\n"
     ]
    },
    {
     "data": {
      "text/plain": [
       "50704        114PS\n",
       "114636       113ps\n",
       "162707      0140PS\n",
       "195884    105-5800\n",
       "205207       195HP\n",
       "Name: 엔진출력, dtype: object"
      ]
     },
     "execution_count": 164,
     "metadata": {},
     "output_type": "execute_result"
    }
   ],
   "source": [
    "df.iloc[idx292[:5], 29]"
   ]
  },
  {
   "cell_type": "code",
   "execution_count": 167,
   "metadata": {},
   "outputs": [
    {
     "name": "stderr",
     "output_type": "stream",
     "text": [
      "C:\\Users\\kbj\\AppData\\Local\\Temp\\ipykernel_18336\\2073082367.py:1: FutureWarning: The behavior of `series[i:j]` with an integer-dtype index is deprecated. In a future version, this will be treated as *label-based* indexing, consistent with e.g. `series[i]` lookups. To retain the old behavior, use `series.iloc[i:j]`. To get the future behavior, use `series.loc[i:j]`.\n",
      "  df.iloc[idx293, 29][:5]\n"
     ]
    },
    {
     "data": {
      "text/plain": [
       "12060    NaN\n",
       "16761    NaN\n",
       "19514    NaN\n",
       "22845    NaN\n",
       "25508    NaN\n",
       "Name: 엔진출력, dtype: object"
      ]
     },
     "execution_count": 167,
     "metadata": {},
     "output_type": "execute_result"
    }
   ],
   "source": [
    "df.iloc[idx293[:5], 29]"
   ]
  },
  {
   "attachments": {},
   "cell_type": "markdown",
   "metadata": {},
   "source": [
    "### 30\\. [e]배기량"
   ]
  },
  {
   "cell_type": "code",
   "execution_count": null,
   "metadata": {},
   "outputs": [],
   "source": [
    "# - error\n",
    "#     - null : 4\n",
    "#     - 숫자가 아닌 값 : 0"
   ]
  },
  {
   "cell_type": "code",
   "execution_count": 169,
   "metadata": {},
   "outputs": [
    {
     "data": {
      "text/plain": [
       "2497.0     412725\n",
       "1991.0     245078\n",
       "2902.0     139727\n",
       "2959.0      75053\n",
       "1995.0      68705\n",
       "            ...  \n",
       "4701.0          1\n",
       "3803.0          1\n",
       "5958.0          1\n",
       "15607.0         1\n",
       "12412.0         1\n",
       "Name: 배기량, Length: 627, dtype: int64"
      ]
     },
     "execution_count": 169,
     "metadata": {},
     "output_type": "execute_result"
    }
   ],
   "source": [
    "df.iloc[:, 30].value_counts()"
   ]
  },
  {
   "cell_type": "code",
   "execution_count": 170,
   "metadata": {},
   "outputs": [
    {
     "data": {
      "text/plain": [
       "4"
      ]
     },
     "execution_count": 170,
     "metadata": {},
     "output_type": "execute_result"
    }
   ],
   "source": [
    "df.iloc[:, 30].isnull().sum()"
   ]
  },
  {
   "cell_type": "code",
   "execution_count": 171,
   "metadata": {},
   "outputs": [
    {
     "name": "stderr",
     "output_type": "stream",
     "text": [
      "1528586it [00:02, 619306.55it/s]\n"
     ]
    },
    {
     "data": {
      "text/plain": [
       "4"
      ]
     },
     "execution_count": 171,
     "metadata": {},
     "output_type": "execute_result"
    }
   ],
   "source": [
    "p30 = re.compile('\\D+')\n",
    "idx301 = []\n",
    "idx302 = []\n",
    "count = 0\n",
    "for i, one in tqdm(enumerate(df.iloc[:, 30].to_numpy())):\n",
    "    try:\n",
    "        if p30.search(str(int(one))):\n",
    "            idx301.append(i)\n",
    "            count += 1\n",
    "    except:\n",
    "        idx302.append(i)\n",
    "        count += 1\n",
    "count"
   ]
  },
  {
   "cell_type": "code",
   "execution_count": 172,
   "metadata": {},
   "outputs": [
    {
     "data": {
      "text/plain": [
       "(0, 4)"
      ]
     },
     "execution_count": 172,
     "metadata": {},
     "output_type": "execute_result"
    }
   ],
   "source": [
    "len(idx301), len(idx302)"
   ]
  },
  {
   "cell_type": "code",
   "execution_count": null,
   "metadata": {},
   "outputs": [],
   "source": [
    "df.iloc[idx302, 30]"
   ]
  },
  {
   "attachments": {},
   "cell_type": "markdown",
   "metadata": {},
   "source": [
    "### 31\\. 승차인원"
   ]
  },
  {
   "cell_type": "code",
   "execution_count": null,
   "metadata": {},
   "outputs": [],
   "source": [
    "# - error\n",
    "#     - null : 0\n",
    "#     - 숫자가 아닌 값(nan값 제외) : 0"
   ]
  },
  {
   "cell_type": "code",
   "execution_count": 173,
   "metadata": {},
   "outputs": [
    {
     "data": {
      "text/plain": [
       "5     625751\n",
       "3     338761\n",
       "7     271132\n",
       "6      92585\n",
       "11     72915\n",
       "12     58829\n",
       "2      27413\n",
       "9      20963\n",
       "4       9575\n",
       "25      4045\n",
       "47      1446\n",
       "34      1115\n",
       "46       901\n",
       "0        852\n",
       "39       460\n",
       "29       410\n",
       "15       275\n",
       "43       229\n",
       "38       186\n",
       "42       147\n",
       "30       139\n",
       "8         91\n",
       "45        58\n",
       "16        48\n",
       "41        41\n",
       "18        32\n",
       "59        22\n",
       "33        21\n",
       "21        18\n",
       "20        17\n",
       "19        14\n",
       "28        13\n",
       "35        12\n",
       "10         9\n",
       "1          8\n",
       "32         7\n",
       "26         6\n",
       "63         4\n",
       "40         4\n",
       "56         4\n",
       "23         4\n",
       "14         4\n",
       "31         3\n",
       "22         3\n",
       "37         2\n",
       "62         2\n",
       "51         2\n",
       "67         2\n",
       "44         2\n",
       "50         1\n",
       "27         1\n",
       "36         1\n",
       "64         1\n",
       "Name: 승차인원, dtype: int64"
      ]
     },
     "execution_count": 173,
     "metadata": {},
     "output_type": "execute_result"
    }
   ],
   "source": [
    "df.iloc[:, 31].value_counts()"
   ]
  },
  {
   "cell_type": "code",
   "execution_count": 174,
   "metadata": {},
   "outputs": [
    {
     "data": {
      "text/plain": [
       "0"
      ]
     },
     "execution_count": 174,
     "metadata": {},
     "output_type": "execute_result"
    }
   ],
   "source": [
    "df.iloc[:, 31].isnull().sum()"
   ]
  },
  {
   "cell_type": "code",
   "execution_count": 180,
   "metadata": {},
   "outputs": [
    {
     "name": "stderr",
     "output_type": "stream",
     "text": [
      "1528586it [00:02, 756812.66it/s]\n"
     ]
    },
    {
     "data": {
      "text/plain": [
       "0"
      ]
     },
     "execution_count": 180,
     "metadata": {},
     "output_type": "execute_result"
    }
   ],
   "source": [
    "p31 = re.compile('\\D+')\n",
    "idx311 = []\n",
    "idx312 = []\n",
    "count = 0\n",
    "for i, one in tqdm(enumerate(df.iloc[:, 31].to_numpy())):\n",
    "    try:\n",
    "        if p31.search(str(int(one))):\n",
    "            idx311.append(i)\n",
    "            count += 1\n",
    "    except:\n",
    "        idx312.append(i)\n",
    "        count += 1\n",
    "count"
   ]
  },
  {
   "attachments": {},
   "cell_type": "markdown",
   "metadata": {},
   "source": [
    "### 32\\. [e]차량길이"
   ]
  },
  {
   "cell_type": "code",
   "execution_count": null,
   "metadata": {},
   "outputs": [],
   "source": [
    "# - error\n",
    "#     - null : 1\n",
    "#     - 숫자 아닌 값(nan값 제외) : 0"
   ]
  },
  {
   "cell_type": "code",
   "execution_count": 175,
   "metadata": {},
   "outputs": [
    {
     "data": {
      "text/plain": [
       "4675.0     139634\n",
       "5125.0     138323\n",
       "5085.0     126095\n",
       "5120.0      76767\n",
       "4350.0      76260\n",
       "            ...  \n",
       "11970.0         1\n",
       "4593.0          1\n",
       "8285.0          1\n",
       "5940.0          1\n",
       "5435.0          1\n",
       "Name: 차량길이, Length: 1247, dtype: int64"
      ]
     },
     "execution_count": 175,
     "metadata": {},
     "output_type": "execute_result"
    }
   ],
   "source": [
    "df.iloc[:, 32].value_counts()"
   ]
  },
  {
   "cell_type": "code",
   "execution_count": 176,
   "metadata": {},
   "outputs": [
    {
     "data": {
      "text/plain": [
       "1"
      ]
     },
     "execution_count": 176,
     "metadata": {},
     "output_type": "execute_result"
    }
   ],
   "source": [
    "df.iloc[:, 32].isnull().sum()"
   ]
  },
  {
   "cell_type": "code",
   "execution_count": 177,
   "metadata": {},
   "outputs": [
    {
     "name": "stderr",
     "output_type": "stream",
     "text": [
      "1528586it [00:02, 701730.27it/s]\n"
     ]
    },
    {
     "data": {
      "text/plain": [
       "1"
      ]
     },
     "execution_count": 177,
     "metadata": {},
     "output_type": "execute_result"
    }
   ],
   "source": [
    "p32 = re.compile('\\D+')\n",
    "idx321 = []\n",
    "idx322 = []\n",
    "count = 0\n",
    "for i, one in tqdm(enumerate(df.iloc[:, 32].to_numpy())):\n",
    "    try:\n",
    "        if p32.search(str(int(one))):\n",
    "            idx321.append(i)\n",
    "            count += 1\n",
    "    except:\n",
    "        idx322.append(i)\n",
    "        count += 1\n",
    "count"
   ]
  },
  {
   "cell_type": "code",
   "execution_count": 178,
   "metadata": {},
   "outputs": [
    {
     "data": {
      "text/plain": [
       "(0, 1)"
      ]
     },
     "execution_count": 178,
     "metadata": {},
     "output_type": "execute_result"
    }
   ],
   "source": [
    "len(idx321), len(idx322)"
   ]
  },
  {
   "cell_type": "code",
   "execution_count": null,
   "metadata": {},
   "outputs": [],
   "source": [
    "df.iloc[idx322, 32]"
   ]
  },
  {
   "attachments": {},
   "cell_type": "markdown",
   "metadata": {},
   "source": [
    "### 33\\. [e]차량너비"
   ]
  },
  {
   "cell_type": "code",
   "execution_count": null,
   "metadata": {},
   "outputs": [],
   "source": [
    "# - error\n",
    "#     - null : 1\n",
    "#     - 숫자 아닌 값(nan값 제외) : 0"
   ]
  },
  {
   "cell_type": "code",
   "execution_count": 206,
   "metadata": {},
   "outputs": [
    {
     "data": {
      "text/plain": [
       "1740.0    326413\n",
       "1890.0    143036\n",
       "1920.0    127426\n",
       "1985.0     74746\n",
       "1840.0     53628\n",
       "           ...  \n",
       "175.0          1\n",
       "2465.0         1\n",
       "1834.0         1\n",
       "1633.0         1\n",
       "1610.0         1\n",
       "Name: 차량너비, Length: 318, dtype: int64"
      ]
     },
     "execution_count": 206,
     "metadata": {},
     "output_type": "execute_result"
    }
   ],
   "source": [
    "df.iloc[:, 33].value_counts()"
   ]
  },
  {
   "cell_type": "code",
   "execution_count": 207,
   "metadata": {},
   "outputs": [
    {
     "data": {
      "text/plain": [
       "1"
      ]
     },
     "execution_count": 207,
     "metadata": {},
     "output_type": "execute_result"
    }
   ],
   "source": [
    "df.iloc[:, 33].isnull().sum()"
   ]
  },
  {
   "cell_type": "code",
   "execution_count": 208,
   "metadata": {},
   "outputs": [
    {
     "name": "stderr",
     "output_type": "stream",
     "text": [
      "1528586it [00:02, 685335.39it/s]\n"
     ]
    },
    {
     "data": {
      "text/plain": [
       "1"
      ]
     },
     "execution_count": 208,
     "metadata": {},
     "output_type": "execute_result"
    }
   ],
   "source": [
    "p33 = re.compile('\\D+')\n",
    "idx331 = []\n",
    "idx332 = []\n",
    "count = 0\n",
    "for i, one in tqdm(enumerate(df.iloc[:, 33].to_numpy())):\n",
    "    try:\n",
    "        if p33.search(str(int(one))):\n",
    "            idx331.append(i)\n",
    "            count += 1\n",
    "    except:\n",
    "        idx332.append(i)\n",
    "        count += 1\n",
    "count"
   ]
  },
  {
   "cell_type": "code",
   "execution_count": null,
   "metadata": {},
   "outputs": [],
   "source": [
    "df.iloc[idx332, 33]"
   ]
  },
  {
   "attachments": {},
   "cell_type": "markdown",
   "metadata": {},
   "source": [
    "### 34\\. [e]차량높이"
   ]
  },
  {
   "cell_type": "code",
   "execution_count": null,
   "metadata": {},
   "outputs": [],
   "source": [
    "# - error\n",
    "#     - null : 3\n",
    "#     - 숫자 아닌 값(nan값 제외) : 0"
   ]
  },
  {
   "cell_type": "code",
   "execution_count": 181,
   "metadata": {},
   "outputs": [
    {
     "data": {
      "text/plain": [
       "1965.0    229617\n",
       "1695.0     72455\n",
       "1925.0     67094\n",
       "1995.0     58511\n",
       "1935.0     56907\n",
       "           ...  \n",
       "2210.0         1\n",
       "1717.0         1\n",
       "2615.0         1\n",
       "1529.0         1\n",
       "4000.0         1\n",
       "Name: 차량높이, Length: 604, dtype: int64"
      ]
     },
     "execution_count": 181,
     "metadata": {},
     "output_type": "execute_result"
    }
   ],
   "source": [
    "df.iloc[:, 34].value_counts()"
   ]
  },
  {
   "cell_type": "code",
   "execution_count": 182,
   "metadata": {},
   "outputs": [
    {
     "data": {
      "text/plain": [
       "3"
      ]
     },
     "execution_count": 182,
     "metadata": {},
     "output_type": "execute_result"
    }
   ],
   "source": [
    "df.iloc[:, 34].isnull().sum()"
   ]
  },
  {
   "cell_type": "code",
   "execution_count": 183,
   "metadata": {},
   "outputs": [
    {
     "name": "stderr",
     "output_type": "stream",
     "text": [
      "1528586it [00:02, 618882.59it/s]\n"
     ]
    },
    {
     "data": {
      "text/plain": [
       "3"
      ]
     },
     "execution_count": 183,
     "metadata": {},
     "output_type": "execute_result"
    }
   ],
   "source": [
    "p34 = re.compile('\\D+')\n",
    "idx341 = []\n",
    "idx342 = []\n",
    "count = 0\n",
    "for i, one in tqdm(enumerate(df.iloc[:, 34].to_numpy())):\n",
    "    try:\n",
    "        if p34.search(str(int(one))):\n",
    "            idx341.append(i)\n",
    "            count += 1\n",
    "    except:\n",
    "        idx342.append(i)\n",
    "        count += 1\n",
    "count"
   ]
  },
  {
   "cell_type": "code",
   "execution_count": null,
   "metadata": {},
   "outputs": [],
   "source": [
    "df.iloc[idx342, 34]"
   ]
  },
  {
   "attachments": {},
   "cell_type": "markdown",
   "metadata": {},
   "source": [
    "### 35\\. [e]원산지명"
   ]
  },
  {
   "cell_type": "code",
   "execution_count": null,
   "metadata": {},
   "outputs": [],
   "source": [
    "# - error\n",
    "#     - null : 19087\n",
    "#     - 문자 아닌 값(nan값 제외) : 0"
   ]
  },
  {
   "cell_type": "code",
   "execution_count": 184,
   "metadata": {},
   "outputs": [
    {
     "data": {
      "text/plain": [
       "대한민국           1467579\n",
       "독일               16650\n",
       "미국                7363\n",
       "스웨덴               6916\n",
       "프랑스               5140\n",
       "영국                2990\n",
       "일본                1476\n",
       "네덜란드               676\n",
       "오스트리아              298\n",
       "이탈리아               209\n",
       "기타                  78\n",
       "캐나다                 31\n",
       "벨기에                 27\n",
       "멕시코                 24\n",
       "대만                  13\n",
       "중국                   9\n",
       "가나                   5\n",
       "스페인                  4\n",
       "스위스                  3\n",
       "괌                    2\n",
       "덴마크                  2\n",
       "기니비사우                1\n",
       "감비아                  1\n",
       "가봉                   1\n",
       "독립국연합 (CIS)          1\n",
       "Name: 원산지명, dtype: int64"
      ]
     },
     "execution_count": 184,
     "metadata": {},
     "output_type": "execute_result"
    }
   ],
   "source": [
    "df.iloc[:, 35].value_counts()"
   ]
  },
  {
   "cell_type": "code",
   "execution_count": 185,
   "metadata": {},
   "outputs": [
    {
     "data": {
      "text/plain": [
       "19087"
      ]
     },
     "execution_count": 185,
     "metadata": {},
     "output_type": "execute_result"
    }
   ],
   "source": [
    "df.iloc[:, 35].isnull().sum()"
   ]
  },
  {
   "cell_type": "code",
   "execution_count": 187,
   "metadata": {},
   "outputs": [
    {
     "name": "stderr",
     "output_type": "stream",
     "text": [
      "1528586it [00:01, 1136214.58it/s]\n"
     ]
    },
    {
     "data": {
      "text/plain": [
       "19087"
      ]
     },
     "execution_count": 187,
     "metadata": {},
     "output_type": "execute_result"
    }
   ],
   "source": [
    "p35 = re.compile('\\D+')\n",
    "idx351 = []\n",
    "idx352 = []\n",
    "count = 0\n",
    "for i, one in tqdm(enumerate(df.iloc[:, 35].to_numpy())):\n",
    "    try:\n",
    "        if not p35.search(one):\n",
    "            idx351.append(i)\n",
    "            count += 1\n",
    "    except:\n",
    "        idx352.append(i)\n",
    "        count += 1\n",
    "count"
   ]
  },
  {
   "cell_type": "code",
   "execution_count": 188,
   "metadata": {},
   "outputs": [
    {
     "data": {
      "text/plain": [
       "(0, 19087)"
      ]
     },
     "execution_count": 188,
     "metadata": {},
     "output_type": "execute_result"
    }
   ],
   "source": [
    "len(idx351), len(idx352)"
   ]
  },
  {
   "cell_type": "code",
   "execution_count": null,
   "metadata": {},
   "outputs": [],
   "source": [
    "df.iloc[idx352[:5], 35].unique()"
   ]
  },
  {
   "attachments": {},
   "cell_type": "markdown",
   "metadata": {},
   "source": [
    "### 36\\. 삭제YN"
   ]
  },
  {
   "cell_type": "code",
   "execution_count": null,
   "metadata": {},
   "outputs": [],
   "source": [
    "# - error\n",
    "#     - null : 0"
   ]
  },
  {
   "cell_type": "code",
   "execution_count": 189,
   "metadata": {},
   "outputs": [
    {
     "data": {
      "text/plain": [
       "N    1528586\n",
       "Name: 삭제YN, dtype: int64"
      ]
     },
     "execution_count": 189,
     "metadata": {},
     "output_type": "execute_result"
    }
   ],
   "source": [
    "df.iloc[:, 36].value_counts()"
   ]
  },
  {
   "cell_type": "code",
   "execution_count": 190,
   "metadata": {},
   "outputs": [
    {
     "data": {
      "text/plain": [
       "0"
      ]
     },
     "execution_count": 190,
     "metadata": {},
     "output_type": "execute_result"
    }
   ],
   "source": [
    "df.iloc[:, 36].isnull().sum()"
   ]
  },
  {
   "attachments": {},
   "cell_type": "markdown",
   "metadata": {},
   "source": [
    "### 37\\. [e]제원승인일자"
   ]
  },
  {
   "cell_type": "code",
   "execution_count": null,
   "metadata": {},
   "outputs": [],
   "source": [
    "# - error\n",
    "#     - null : 431\n",
    "#     - 형식에 맞지 않는 값 : 108"
   ]
  },
  {
   "cell_type": "code",
   "execution_count": 191,
   "metadata": {},
   "outputs": [
    {
     "data": {
      "text/plain": [
       "20100326      78288\n",
       "20090622      35879\n",
       "20100326.0    35819\n",
       "20110524      29346\n",
       "20090520      24716\n",
       "              ...  \n",
       "20160427          1\n",
       "20151216          1\n",
       "20121101          1\n",
       "20050422          1\n",
       "20070529.0        1\n",
       "Name: 제원승인일자, Length: 5958, dtype: int64"
      ]
     },
     "execution_count": 191,
     "metadata": {},
     "output_type": "execute_result"
    }
   ],
   "source": [
    "df.iloc[:, 37].value_counts()"
   ]
  },
  {
   "cell_type": "code",
   "execution_count": 192,
   "metadata": {},
   "outputs": [
    {
     "data": {
      "text/plain": [
       "431"
      ]
     },
     "execution_count": 192,
     "metadata": {},
     "output_type": "execute_result"
    }
   ],
   "source": [
    "df.iloc[:, 37].isnull().sum()"
   ]
  },
  {
   "cell_type": "code",
   "execution_count": 193,
   "metadata": {},
   "outputs": [
    {
     "name": "stderr",
     "output_type": "stream",
     "text": [
      "1528586it [00:02, 596189.99it/s]\n"
     ]
    },
    {
     "data": {
      "text/plain": [
       "539"
      ]
     },
     "execution_count": 193,
     "metadata": {},
     "output_type": "execute_result"
    }
   ],
   "source": [
    "p37 = re.compile('\\D+')\n",
    "idx371 = []\n",
    "idx372 = []\n",
    "count = 0\n",
    "for i, one in tqdm(enumerate(df.iloc[:, 37].to_numpy())):\n",
    "    try:\n",
    "        if p37.search(str(int(one))):\n",
    "            idx371.append(i)\n",
    "            count += 1\n",
    "    except:\n",
    "        idx372.append(i)\n",
    "        count += 1\n",
    "count"
   ]
  },
  {
   "cell_type": "code",
   "execution_count": 194,
   "metadata": {},
   "outputs": [
    {
     "data": {
      "text/plain": [
       "(0, 539)"
      ]
     },
     "execution_count": 194,
     "metadata": {},
     "output_type": "execute_result"
    }
   ],
   "source": [
    "len(idx371), len(idx372)"
   ]
  },
  {
   "cell_type": "code",
   "execution_count": 195,
   "metadata": {},
   "outputs": [
    {
     "name": "stderr",
     "output_type": "stream",
     "text": [
      "C:\\Users\\kbj\\AppData\\Local\\Temp\\ipykernel_18336\\829264895.py:1: FutureWarning: The behavior of `series[i:j]` with an integer-dtype index is deprecated. In a future version, this will be treated as *label-based* indexing, consistent with e.g. `series[i]` lookups. To retain the old behavior, use `series.iloc[i:j]`. To get the future behavior, use `series.loc[i:j]`.\n",
      "  df.iloc[:, 37].reindex(idx372)[:5]\n"
     ]
    },
    {
     "data": {
      "text/plain": [
       "1544         NaN\n",
       "3888         NaN\n",
       "4231    1991 112\n",
       "6957         NaN\n",
       "7069         NaN\n",
       "Name: 제원승인일자, dtype: object"
      ]
     },
     "execution_count": 195,
     "metadata": {},
     "output_type": "execute_result"
    }
   ],
   "source": [
    "df.iloc[:, 37].reindex(idx372[:5])"
   ]
  },
  {
   "cell_type": "code",
   "execution_count": 196,
   "metadata": {},
   "outputs": [
    {
     "data": {
      "text/plain": [
       "431"
      ]
     },
     "execution_count": 196,
     "metadata": {},
     "output_type": "execute_result"
    }
   ],
   "source": [
    "idx373 = df[df['제원승인일자'].isnull() == True]['제원승인일자'].index\n",
    "len(idx373)"
   ]
  },
  {
   "cell_type": "code",
   "execution_count": 197,
   "metadata": {},
   "outputs": [
    {
     "data": {
      "text/plain": [
       "108"
      ]
     },
     "execution_count": 197,
     "metadata": {},
     "output_type": "execute_result"
    }
   ],
   "source": [
    "len(list(set(idx372) - set(idx373)))"
   ]
  },
  {
   "cell_type": "code",
   "execution_count": 198,
   "metadata": {},
   "outputs": [
    {
     "name": "stderr",
     "output_type": "stream",
     "text": [
      "C:\\Users\\kbj\\AppData\\Local\\Temp\\ipykernel_18336\\4017740081.py:1: FutureWarning: The behavior of `series[i:j]` with an integer-dtype index is deprecated. In a future version, this will be treated as *label-based* indexing, consistent with e.g. `series[i]` lookups. To retain the old behavior, use `series.iloc[i:j]`. To get the future behavior, use `series.loc[i:j]`.\n",
      "  df.iloc[sorted(set(idx372) - set(idx373)), 37][:5]\n"
     ]
    },
    {
     "data": {
      "text/plain": [
       "4231     1991 112\n",
       "8926     1991 123\n",
       "21579    1991 112\n",
       "29975    1991 123\n",
       "38288    1991 112\n",
       "Name: 제원승인일자, dtype: object"
      ]
     },
     "execution_count": 198,
     "metadata": {},
     "output_type": "execute_result"
    }
   ],
   "source": [
    "df.iloc[sorted(set(idx372) - set(idx373))[:5], 37]"
   ]
  },
  {
   "attachments": {},
   "cell_type": "markdown",
   "metadata": {},
   "source": [
    "### 38\\. [e]구동형식"
   ]
  },
  {
   "cell_type": "code",
   "execution_count": null,
   "metadata": {},
   "outputs": [],
   "source": [
    "# - error\n",
    "#     - null : 1528545"
   ]
  },
  {
   "cell_type": "code",
   "execution_count": 199,
   "metadata": {},
   "outputs": [
    {
     "data": {
      "text/plain": [
       "4x2         18\n",
       "6x2          9\n",
       "10x4         5\n",
       "후륜구동         4\n",
       "4륜구동(선택)     1\n",
       "4x4          1\n",
       "기타           1\n",
       "전륜구동         1\n",
       "4륜구동(상시)     1\n",
       "Name: 구동형식, dtype: int64"
      ]
     },
     "execution_count": 199,
     "metadata": {},
     "output_type": "execute_result"
    }
   ],
   "source": [
    "df.iloc[:, 38].value_counts()"
   ]
  },
  {
   "cell_type": "code",
   "execution_count": 200,
   "metadata": {},
   "outputs": [
    {
     "data": {
      "text/plain": [
       "1528545"
      ]
     },
     "execution_count": 200,
     "metadata": {},
     "output_type": "execute_result"
    }
   ],
   "source": [
    "df.iloc[:, 38].isnull().sum()"
   ]
  },
  {
   "attachments": {},
   "cell_type": "markdown",
   "metadata": {},
   "source": [
    "### 39\\. [e]변속기종류"
   ]
  },
  {
   "cell_type": "code",
   "execution_count": null,
   "metadata": {},
   "outputs": [],
   "source": [
    "# - error\n",
    "#     - null : 160\n",
    "#     - 문자가 아닌 값(nan값 제외) : 0"
   ]
  },
  {
   "cell_type": "code",
   "execution_count": 201,
   "metadata": {},
   "outputs": [
    {
     "data": {
      "text/plain": [
       "자동        963870\n",
       "수동        563865\n",
       "기타           500\n",
       "무단           158\n",
       "반자동           32\n",
       "변속기 없음         1\n",
       "Name: 변속기종류, dtype: int64"
      ]
     },
     "execution_count": 201,
     "metadata": {},
     "output_type": "execute_result"
    }
   ],
   "source": [
    "df.iloc[:, 39].value_counts()"
   ]
  },
  {
   "cell_type": "code",
   "execution_count": 202,
   "metadata": {},
   "outputs": [
    {
     "data": {
      "text/plain": [
       "160"
      ]
     },
     "execution_count": 202,
     "metadata": {},
     "output_type": "execute_result"
    }
   ],
   "source": [
    "df.iloc[:, 39].isnull().sum()"
   ]
  },
  {
   "cell_type": "code",
   "execution_count": 203,
   "metadata": {},
   "outputs": [
    {
     "name": "stderr",
     "output_type": "stream",
     "text": [
      "1528586it [00:01, 956223.37it/s]\n"
     ]
    },
    {
     "data": {
      "text/plain": [
       "160"
      ]
     },
     "execution_count": 203,
     "metadata": {},
     "output_type": "execute_result"
    }
   ],
   "source": [
    "p39 = re.compile('[가-힣]+')\n",
    "idx391 = []\n",
    "idx392 = []\n",
    "count = 0\n",
    "for i, one in tqdm(enumerate(df.iloc[:, 39].to_numpy())):\n",
    "    try:\n",
    "        if not p39.search(one):\n",
    "            idx391.append(i)\n",
    "            count += 1\n",
    "    except:\n",
    "        idx392.append(i)\n",
    "        count += 1\n",
    "count"
   ]
  },
  {
   "cell_type": "code",
   "execution_count": 204,
   "metadata": {},
   "outputs": [
    {
     "data": {
      "text/plain": [
       "(0, 160)"
      ]
     },
     "execution_count": 204,
     "metadata": {},
     "output_type": "execute_result"
    }
   ],
   "source": [
    "len(idx391), len(idx392)"
   ]
  },
  {
   "cell_type": "code",
   "execution_count": null,
   "metadata": {},
   "outputs": [],
   "source": [
    "df.iloc[idx392[:5], 39]"
   ]
  },
  {
   "cell_type": "markdown",
   "metadata": {},
   "source": [
    "# 코드 마지막"
   ]
  }
 ],
 "metadata": {
  "kernelspec": {
   "display_name": "Python 3.9.13 ('base')",
   "language": "python",
   "name": "python3"
  },
  "language_info": {
   "codemirror_mode": {
    "name": "ipython",
    "version": 3
   },
   "file_extension": ".py",
   "mimetype": "text/x-python",
   "name": "python",
   "nbconvert_exporter": "python",
   "pygments_lexer": "ipython3",
   "version": "3.9.13"
  },
  "orig_nbformat": 4,
  "vscode": {
   "interpreter": {
    "hash": "ad2bdc8ecc057115af97d19610ffacc2b4e99fae6737bb82f5d7fb13d2f2c186"
   }
  }
 },
 "nbformat": 4,
 "nbformat_minor": 2
}
