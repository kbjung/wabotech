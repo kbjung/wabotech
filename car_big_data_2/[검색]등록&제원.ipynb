{
 "cells": [
  {
   "cell_type": "code",
   "execution_count": 1,
   "metadata": {},
   "outputs": [],
   "source": [
    "import pandas as pd\n",
    "import numpy as np\n",
    "import os"
   ]
  },
  {
   "cell_type": "code",
   "execution_count": 11,
   "metadata": {},
   "outputs": [],
   "source": [
    "ods_fold = 'D:/data/big2/ODS'\n",
    "fold = 'D:/data/big2/BD1_4등급_데이터_점검1'"
   ]
  },
  {
   "cell_type": "code",
   "execution_count": 4,
   "metadata": {},
   "outputs": [
    {
     "name": "stderr",
     "output_type": "stream",
     "text": [
      "C:\\Users\\kbjung\\AppData\\Local\\Temp\\ipykernel_20272\\2937543908.py:2: DtypeWarning: Columns (12,15,21,44,48) have mixed types. Specify dtype option on import or set low_memory=False.\n",
      "  df = pd.read_csv(os.path.join(ods_fold, file_name), encoding='cp949')\n"
     ]
    },
    {
     "name": "stdout",
     "output_type": "stream",
     "text": [
      "<class 'pandas.core.frame.DataFrame'>\n",
      "RangeIndex: 29534047 entries, 0 to 29534046\n",
      "Data columns (total 49 columns):\n",
      " #   Column        Dtype  \n",
      "---  ------        -----  \n",
      " 0   차량관리번호        object \n",
      " 1   차량등록번호        object \n",
      " 2   본거지법정동코드      int64  \n",
      " 3   소유자구분         object \n",
      " 4   차종_등록정보       object \n",
      " 5   용도            object \n",
      " 6   현재회원번호        object \n",
      " 7   차대번호          object \n",
      " 8   최초등록일자        int64  \n",
      " 9   차량연식          int64  \n",
      " 10  차량제작일자        float64\n",
      " 11  배출가스검사유효일자    float64\n",
      " 12  제원관리번호        object \n",
      " 13  배출가스인증번호      object \n",
      " 14  배출가스등급        object \n",
      " 15  저공해조치YN(미사용)  object \n",
      " 16  저공해조치종류       float64\n",
      " 17  저공해조치구조변경YN   object \n",
      " 18  차량등록번호숫자정보    int64  \n",
      " 19  차량말소YN        object \n",
      " 20  최초회원번호        object \n",
      " 21  취득일자          object \n",
      " 22  취득금액          float64\n",
      " 23  생성일시_등록정보     object \n",
      " 24  수정일시_등록정보     object \n",
      " 25  차명            object \n",
      " 26  차종_제원정보       object \n",
      " 27  차종분류          object \n",
      " 28  차종유형(소분류)     object \n",
      " 29  자동차형식         object \n",
      " 30  제작사명          object \n",
      " 31  연료            object \n",
      " 32  엔진형식          object \n",
      " 33  공차중량          float64\n",
      " 34  총중량           float64\n",
      " 35  적재중량          float64\n",
      " 36  엔진출력          float64\n",
      " 37  배기량           float64\n",
      " 38  승차인원          float64\n",
      " 39  차량길이          float64\n",
      " 40  차량너비          float64\n",
      " 41  차량높이          float64\n",
      " 42  원산지명          object \n",
      " 43  삭제YN          object \n",
      " 44  승인일자          object \n",
      " 45  구동형식          float64\n",
      " 46  변속기종류         object \n",
      " 47  생성일시_제원정보     object \n",
      " 48  수정일시_제원정보     object \n",
      "dtypes: float64(14), int64(4), object(31)\n",
      "memory usage: 10.8+ GB\n"
     ]
    }
   ],
   "source": [
    "# about 6m 48s\n",
    "file_name = '[ODS]등록정보&제원정보(2022.12.28).csv'\n",
    "df = pd.read_csv(os.path.join(ods_fold, file_name), encoding='cp949', low_memory=False)\n",
    "df.info()"
   ]
  },
  {
   "cell_type": "code",
   "execution_count": 5,
   "metadata": {},
   "outputs": [
    {
     "data": {
      "text/plain": [
       "Index(['차량관리번호', '차량등록번호', '본거지법정동코드', '소유자구분', '차종_등록정보', '용도', '현재회원번호',\n",
       "       '차대번호', '최초등록일자', '차량연식', '차량제작일자', '배출가스검사유효일자', '제원관리번호', '배출가스인증번호',\n",
       "       '배출가스등급', '저공해조치YN(미사용)', '저공해조치종류', '저공해조치구조변경YN', '차량등록번호숫자정보',\n",
       "       '차량말소YN', '최초회원번호', '취득일자', '취득금액', '생성일시_등록정보', '수정일시_등록정보', '차명',\n",
       "       '차종_제원정보', '차종분류', '차종유형(소분류)', '자동차형식', '제작사명', '연료', '엔진형식', '공차중량',\n",
       "       '총중량', '적재중량', '엔진출력', '배기량', '승차인원', '차량길이', '차량너비', '차량높이', '원산지명',\n",
       "       '삭제YN', '승인일자', '구동형식', '변속기종류', '생성일시_제원정보', '수정일시_제원정보'],\n",
       "      dtype='object')"
      ]
     },
     "execution_count": 5,
     "metadata": {},
     "output_type": "execute_result"
    }
   ],
   "source": [
    "df.columns"
   ]
  },
  {
   "cell_type": "code",
   "execution_count": 6,
   "metadata": {},
   "outputs": [
    {
     "data": {
      "text/plain": [
       "(94868, 49)"
      ]
     },
     "execution_count": 6,
     "metadata": {},
     "output_type": "execute_result"
    }
   ],
   "source": [
    "df[df['배출가스인증번호'] == '9MY-KM-14-22'].shape"
   ]
  },
  {
   "cell_type": "code",
   "execution_count": 14,
   "metadata": {},
   "outputs": [
    {
     "data": {
      "text/plain": [
       "3    94868\n",
       "Name: 배출가스등급, dtype: int64"
      ]
     },
     "execution_count": 14,
     "metadata": {},
     "output_type": "execute_result"
    }
   ],
   "source": [
    "df.loc[df['배출가스인증번호'] == '9MY-KM-14-22', '배출가스등급'].value_counts(dropna=False)"
   ]
  },
  {
   "cell_type": "code",
   "execution_count": 21,
   "metadata": {},
   "outputs": [
    {
     "data": {
      "text/plain": [
       "N    87217\n",
       "Y     7651\n",
       "Name: 차량말소YN, dtype: int64"
      ]
     },
     "execution_count": 21,
     "metadata": {},
     "output_type": "execute_result"
    }
   ],
   "source": [
    "df.loc[df['배출가스인증번호'] == '9MY-KM-14-22', '차량말소YN'].value_counts(dropna=False)"
   ]
  },
  {
   "cell_type": "code",
   "execution_count": 17,
   "metadata": {},
   "outputs": [
    {
     "name": "stdout",
     "output_type": "stream",
     "text": [
      "<class 'pandas.core.frame.DataFrame'>\n",
      "RangeIndex: 1153813 entries, 0 to 1153812\n",
      "Data columns (total 64 columns):\n",
      " #   Column     Non-Null Count    Dtype  \n",
      "---  ------     --------------    -----  \n",
      " 0   차대번호       1153813 non-null  object \n",
      " 1   차량번호_x     1153813 non-null  object \n",
      " 2   제원관리번호     1153813 non-null  object \n",
      " 3   차종_원본      1153813 non-null  object \n",
      " 4   용도         1153813 non-null  object \n",
      " 5   최초등록일      1153813 non-null  int64  \n",
      " 6   연식         1153813 non-null  int64  \n",
      " 7   제작일자       1153809 non-null  float64\n",
      " 8   검사유효일      1153810 non-null  float64\n",
      " 9   배출가스인증번호   1146663 non-null  object \n",
      " 10  등급         1153813 non-null  int64  \n",
      " 11  차명_x       1153813 non-null  object \n",
      " 12  차종분류       1153813 non-null  object \n",
      " 13  차종유형       1153813 non-null  object \n",
      " 14  자동차형식      1153812 non-null  object \n",
      " 15  제작사명       1153795 non-null  object \n",
      " 16  연료         1153813 non-null  object \n",
      " 17  엔진형식_x     1153813 non-null  object \n",
      " 18  총중량        1153813 non-null  float64\n",
      " 19  적재중량       1153589 non-null  float64\n",
      " 20  엔진출력       1153811 non-null  float64\n",
      " 21  배기량        1153813 non-null  float64\n",
      " 22  법정동코드      1153813 non-null  int64  \n",
      " 23  시도명        1153813 non-null  object \n",
      " 24  시군구명       1153813 non-null  object \n",
      " 25  소유자구분      1153813 non-null  object \n",
      " 26  말소여부       1153813 non-null  object \n",
      " 27  일치유무       1153813 non-null  object \n",
      " 28  사용연료       1131176 non-null  object \n",
      " 29  주행거리       1131063 non-null  float64\n",
      " 30  차명_y       1131176 non-null  object \n",
      " 31  차량번호_y     1131176 non-null  object \n",
      " 32  차종         1131176 non-null  object \n",
      " 33  차량연식       1131176 non-null  float64\n",
      " 34  엔진형식_y     1131165 non-null  object \n",
      " 35  검사방법       1131176 non-null  object \n",
      " 36  검사일자       1131176 non-null  float64\n",
      " 37  검사종류       1131176 non-null  object \n",
      " 38  검사판정시각     1122501 non-null  object \n",
      " 39  검사판정       1131176 non-null  object \n",
      " 40  산소값        817299 non-null   float64\n",
      " 41  이산화탄소값     817299 non-null   float64\n",
      " 42  무부하매연판정1   1122497 non-null  object \n",
      " 43  무부하매연판정2   44435 non-null    object \n",
      " 44  무부하매연판정3   43534 non-null    object \n",
      " 45  무부하매연판정4   43532 non-null    object \n",
      " 46  무부하매연판정5   43532 non-null    object \n",
      " 47  무부하매연판정6   46 non-null       object \n",
      " 48  무부하매연허용치1  1122497 non-null  float64\n",
      " 49  무부하매연허용치2  333612 non-null   float64\n",
      " 50  무부하매연허용치3  333611 non-null   float64\n",
      " 51  무부하매연허용치4  333609 non-null   float64\n",
      " 52  무부하매연허용치5  333609 non-null   float64\n",
      " 53  무부하매연허용치6  301714 non-null   float64\n",
      " 54  무부하매연측정치1  1122501 non-null  float64\n",
      " 55  무부하매연측정치2  367673 non-null   float64\n",
      " 56  무부하매연측정치3  333613 non-null   float64\n",
      " 57  무부하매연측정치4  333611 non-null   float64\n",
      " 58  무부하매연측정치5  333611 non-null   float64\n",
      " 59  무부하매연측정치6  301714 non-null   float64\n",
      " 60  정기정밀       1131176 non-null  object \n",
      " 61  vin10      1153813 non-null  object \n",
      " 62  vin_year   1153810 non-null  float64\n",
      " 63  DPF유무      1153813 non-null  object \n",
      "dtypes: float64(24), int64(4), object(36)\n",
      "memory usage: 563.4+ MB\n"
     ]
    }
   ],
   "source": [
    "# about 27s\n",
    "file_name = '[병합]4등급_차량_리스트_양식_result.csv'\n",
    "result = pd.read_csv(os.path.join(fold, file_name), encoding='cp949', low_memory=False)\n",
    "result.info()"
   ]
  },
  {
   "cell_type": "code",
   "execution_count": 18,
   "metadata": {},
   "outputs": [
    {
     "data": {
      "text/plain": [
       "Index(['차대번호', '차량번호_x', '제원관리번호', '차종_원본', '용도', '최초등록일', '연식', '제작일자',\n",
       "       '검사유효일', '배출가스인증번호', '등급', '차명_x', '차종분류', '차종유형', '자동차형식', '제작사명',\n",
       "       '연료', '엔진형식_x', '총중량', '적재중량', '엔진출력', '배기량', '법정동코드', '시도명', '시군구명',\n",
       "       '소유자구분', '말소여부', '일치유무', '사용연료', '주행거리', '차명_y', '차량번호_y', '차종', '차량연식',\n",
       "       '엔진형식_y', '검사방법', '검사일자', '검사종류', '검사판정시각', '검사판정', '산소값', '이산화탄소값',\n",
       "       '무부하매연판정1', '무부하매연판정2', '무부하매연판정3', '무부하매연판정4', '무부하매연판정5', '무부하매연판정6',\n",
       "       '무부하매연허용치1', '무부하매연허용치2', '무부하매연허용치3', '무부하매연허용치4', '무부하매연허용치5',\n",
       "       '무부하매연허용치6', '무부하매연측정치1', '무부하매연측정치2', '무부하매연측정치3', '무부하매연측정치4',\n",
       "       '무부하매연측정치5', '무부하매연측정치6', '정기정밀', 'vin10', 'vin_year', 'DPF유무'],\n",
       "      dtype='object')"
      ]
     },
     "execution_count": 18,
     "metadata": {},
     "output_type": "execute_result"
    }
   ],
   "source": [
    "result.columns"
   ]
  },
  {
   "cell_type": "code",
   "execution_count": 19,
   "metadata": {},
   "outputs": [
    {
     "data": {
      "text/plain": [
       "4    1153813\n",
       "Name: 등급, dtype: int64"
      ]
     },
     "execution_count": 19,
     "metadata": {},
     "output_type": "execute_result"
    }
   ],
   "source": [
    "result['등급'].value_counts(dropna=True)"
   ]
  },
  {
   "cell_type": "code",
   "execution_count": 20,
   "metadata": {},
   "outputs": [
    {
     "data": {
      "text/plain": [
       "(39626, 64)"
      ]
     },
     "execution_count": 20,
     "metadata": {},
     "output_type": "execute_result"
    }
   ],
   "source": [
    "result[result['배출가스인증번호'] == '9MY-KM-14-22'].shape"
   ]
  },
  {
   "cell_type": "code",
   "execution_count": null,
   "metadata": {},
   "outputs": [],
   "source": [
    "result[result['배출가스인증번호'] == '9MY-KM-14-22', ['']]"
   ]
  }
 ],
 "metadata": {
  "kernelspec": {
   "display_name": "base",
   "language": "python",
   "name": "python3"
  },
  "language_info": {
   "codemirror_mode": {
    "name": "ipython",
    "version": 3
   },
   "file_extension": ".py",
   "mimetype": "text/x-python",
   "name": "python",
   "nbconvert_exporter": "python",
   "pygments_lexer": "ipython3",
   "version": "3.9.13"
  },
  "orig_nbformat": 4,
  "vscode": {
   "interpreter": {
    "hash": "ad2bdc8ecc057115af97d19610ffacc2b4e99fae6737bb82f5d7fb13d2f2c186"
   }
  }
 },
 "nbformat": 4,
 "nbformat_minor": 2
}
