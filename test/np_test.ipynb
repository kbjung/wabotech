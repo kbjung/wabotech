{
 "cells": [
  {
   "attachments": {},
   "cell_type": "markdown",
   "metadata": {},
   "source": [
    "# Library"
   ]
  },
  {
   "cell_type": "code",
   "execution_count": 1,
   "metadata": {},
   "outputs": [],
   "source": [
    "import pandas as pd\n",
    "import numpy as np\n",
    "import os"
   ]
  },
  {
   "attachments": {},
   "cell_type": "markdown",
   "metadata": {},
   "source": [
    "## 임시 파일 테스트"
   ]
  },
  {
   "cell_type": "code",
   "execution_count": 2,
   "metadata": {},
   "outputs": [
    {
     "data": {
      "text/plain": [
       "((4, 4), (4, 4))"
      ]
     },
     "execution_count": 2,
     "metadata": {},
     "output_type": "execute_result"
    }
   ],
   "source": [
    "df1 = pd.DataFrame({'a':[1, 2, 3, 4], 'b':[2, 3, 4, 5], 'c':['a', 'b', 'c', 'd'], 'd':[400, 300, 200, 400]})\n",
    "df2 = pd.DataFrame({'a':[10, 20 ,30, 40], 'b1':[20, 30, 40, 50], 'c':['30', '40', '50', '60'], 'd':['d1', 'd2', 'd3', 'd4']})\n",
    "df1.shape, df2.shape"
   ]
  },
  {
   "cell_type": "code",
   "execution_count": 73,
   "metadata": {},
   "outputs": [
    {
     "data": {
      "text/html": [
       "<div>\n",
       "<style scoped>\n",
       "    .dataframe tbody tr th:only-of-type {\n",
       "        vertical-align: middle;\n",
       "    }\n",
       "\n",
       "    .dataframe tbody tr th {\n",
       "        vertical-align: top;\n",
       "    }\n",
       "\n",
       "    .dataframe thead th {\n",
       "        text-align: right;\n",
       "    }\n",
       "</style>\n",
       "<table border=\"1\" class=\"dataframe\">\n",
       "  <thead>\n",
       "    <tr style=\"text-align: right;\">\n",
       "      <th></th>\n",
       "      <th>a</th>\n",
       "      <th>b</th>\n",
       "      <th>c</th>\n",
       "      <th>d</th>\n",
       "      <th>b1</th>\n",
       "    </tr>\n",
       "  </thead>\n",
       "  <tbody>\n",
       "    <tr>\n",
       "      <th>0</th>\n",
       "      <td>1</td>\n",
       "      <td>2.0</td>\n",
       "      <td>a</td>\n",
       "      <td>400</td>\n",
       "      <td>NaN</td>\n",
       "    </tr>\n",
       "    <tr>\n",
       "      <th>1</th>\n",
       "      <td>2</td>\n",
       "      <td>3.0</td>\n",
       "      <td>b</td>\n",
       "      <td>300</td>\n",
       "      <td>NaN</td>\n",
       "    </tr>\n",
       "    <tr>\n",
       "      <th>2</th>\n",
       "      <td>3</td>\n",
       "      <td>4.0</td>\n",
       "      <td>c</td>\n",
       "      <td>200</td>\n",
       "      <td>NaN</td>\n",
       "    </tr>\n",
       "    <tr>\n",
       "      <th>3</th>\n",
       "      <td>4</td>\n",
       "      <td>5.0</td>\n",
       "      <td>d</td>\n",
       "      <td>400</td>\n",
       "      <td>NaN</td>\n",
       "    </tr>\n",
       "    <tr>\n",
       "      <th>0</th>\n",
       "      <td>10</td>\n",
       "      <td>NaN</td>\n",
       "      <td>30</td>\n",
       "      <td>d1</td>\n",
       "      <td>20.0</td>\n",
       "    </tr>\n",
       "    <tr>\n",
       "      <th>1</th>\n",
       "      <td>20</td>\n",
       "      <td>NaN</td>\n",
       "      <td>40</td>\n",
       "      <td>d2</td>\n",
       "      <td>30.0</td>\n",
       "    </tr>\n",
       "    <tr>\n",
       "      <th>2</th>\n",
       "      <td>30</td>\n",
       "      <td>NaN</td>\n",
       "      <td>50</td>\n",
       "      <td>d3</td>\n",
       "      <td>40.0</td>\n",
       "    </tr>\n",
       "    <tr>\n",
       "      <th>3</th>\n",
       "      <td>40</td>\n",
       "      <td>NaN</td>\n",
       "      <td>60</td>\n",
       "      <td>d4</td>\n",
       "      <td>50.0</td>\n",
       "    </tr>\n",
       "  </tbody>\n",
       "</table>\n",
       "</div>"
      ],
      "text/plain": [
       "    a    b   c    d    b1\n",
       "0   1  2.0   a  400   NaN\n",
       "1   2  3.0   b  300   NaN\n",
       "2   3  4.0   c  200   NaN\n",
       "3   4  5.0   d  400   NaN\n",
       "0  10  NaN  30   d1  20.0\n",
       "1  20  NaN  40   d2  30.0\n",
       "2  30  NaN  50   d3  40.0\n",
       "3  40  NaN  60   d4  50.0"
      ]
     },
     "execution_count": 73,
     "metadata": {},
     "output_type": "execute_result"
    }
   ],
   "source": [
    "df = pd.concat([df1, df2], ignore_index=False)\n",
    "df"
   ]
  },
  {
   "cell_type": "code",
   "execution_count": 74,
   "metadata": {},
   "outputs": [
    {
     "data": {
      "text/plain": [
       "array([[1, 2.0, 'a', 400, nan],\n",
       "       [2, 3.0, 'b', 300, nan],\n",
       "       [3, 4.0, 'c', 200, nan],\n",
       "       [4, 5.0, 'd', 400, nan],\n",
       "       [10, nan, '30', 'd1', 20.0],\n",
       "       [20, nan, '40', 'd2', 30.0],\n",
       "       [30, nan, '50', 'd3', 40.0],\n",
       "       [40, nan, '60', 'd4', 50.0]], dtype=object)"
      ]
     },
     "execution_count": 74,
     "metadata": {},
     "output_type": "execute_result"
    }
   ],
   "source": [
    "np_df = df.to_numpy()\n",
    "np_df"
   ]
  },
  {
   "cell_type": "code",
   "execution_count": 92,
   "metadata": {},
   "outputs": [],
   "source": [
    "col = df.columns"
   ]
  },
  {
   "cell_type": "code",
   "execution_count": 79,
   "metadata": {},
   "outputs": [
    {
     "data": {
      "text/plain": [
       "(8, 5)"
      ]
     },
     "execution_count": 79,
     "metadata": {},
     "output_type": "execute_result"
    }
   ],
   "source": [
    "np_df.shape"
   ]
  },
  {
   "cell_type": "code",
   "execution_count": 35,
   "metadata": {},
   "outputs": [],
   "source": [
    "col = df.columns\n",
    "col1 = df['a'].to_numpy()\n",
    "col2 = df['b'].to_numpy()\n",
    "col3 = df['c'].to_numpy()\n",
    "col4 = df['d'].to_numpy()\n",
    "col5 = df['b1'].to_numpy()"
   ]
  },
  {
   "cell_type": "code",
   "execution_count": 93,
   "metadata": {},
   "outputs": [],
   "source": [
    "np.savez('np_data/test', 컬럼1=col1, 컬럼2=col2, 컬럼3=col3, 컬럼4=col4, 컬럼5=col5)"
   ]
  },
  {
   "cell_type": "code",
   "execution_count": 64,
   "metadata": {},
   "outputs": [],
   "source": [
    "np.savez_compressed('np_data/compressed_test', 컬럼1=col1, 컬럼2=col2, 컬럼3=col3, 컬럼4=col4, 컬럼5=col5)"
   ]
  },
  {
   "cell_type": "code",
   "execution_count": 84,
   "metadata": {},
   "outputs": [
    {
     "name": "stdout",
     "output_type": "stream",
     "text": [
      "Wall time: 0 ns\n"
     ]
    },
    {
     "data": {
      "text/plain": [
       "<numpy.lib.npyio.NpzFile at 0x157fc4f1e50>"
      ]
     },
     "execution_count": 84,
     "metadata": {},
     "output_type": "execute_result"
    }
   ],
   "source": [
    "%%time\n",
    "load_df = np.load('np_data/test.npz', allow_pickle=True)\n",
    "load_df"
   ]
  },
  {
   "cell_type": "code",
   "execution_count": 99,
   "metadata": {},
   "outputs": [],
   "source": [
    "np.savez('np_data/test', data=np_df, col=col)"
   ]
  },
  {
   "cell_type": "code",
   "execution_count": 100,
   "metadata": {},
   "outputs": [
    {
     "name": "stdout",
     "output_type": "stream",
     "text": [
      "Wall time: 11 ms\n"
     ]
    },
    {
     "data": {
      "text/plain": [
       "<numpy.lib.npyio.NpzFile at 0x157fe54b220>"
      ]
     },
     "execution_count": 100,
     "metadata": {},
     "output_type": "execute_result"
    }
   ],
   "source": [
    "%%time\n",
    "load_df = np.load('np_data/test.npz', allow_pickle=True)\n",
    "load_df"
   ]
  },
  {
   "cell_type": "code",
   "execution_count": 101,
   "metadata": {},
   "outputs": [
    {
     "data": {
      "text/plain": [
       "['data', 'col']"
      ]
     },
     "execution_count": 101,
     "metadata": {},
     "output_type": "execute_result"
    }
   ],
   "source": [
    "load_df.files"
   ]
  },
  {
   "cell_type": "code",
   "execution_count": 102,
   "metadata": {},
   "outputs": [
    {
     "data": {
      "text/plain": [
       "array([[1, 2.0, 'a', 400, nan],\n",
       "       [2, 3.0, 'b', 300, nan],\n",
       "       [3, 4.0, 'c', 200, nan],\n",
       "       [4, 5.0, 'd', 400, nan],\n",
       "       [10, nan, '30', 'd1', 20.0],\n",
       "       [20, nan, '40', 'd2', 30.0],\n",
       "       [30, nan, '50', 'd3', 40.0],\n",
       "       [40, nan, '60', 'd4', 50.0]], dtype=object)"
      ]
     },
     "execution_count": 102,
     "metadata": {},
     "output_type": "execute_result"
    }
   ],
   "source": [
    "load_df['data']"
   ]
  },
  {
   "cell_type": "code",
   "execution_count": 103,
   "metadata": {},
   "outputs": [
    {
     "data": {
      "text/plain": [
       "array(['a', 'b', 'c', 'd', 'b1'], dtype=object)"
      ]
     },
     "execution_count": 103,
     "metadata": {},
     "output_type": "execute_result"
    }
   ],
   "source": [
    "load_df['col']"
   ]
  },
  {
   "cell_type": "code",
   "execution_count": 104,
   "metadata": {},
   "outputs": [
    {
     "data": {
      "text/html": [
       "<div>\n",
       "<style scoped>\n",
       "    .dataframe tbody tr th:only-of-type {\n",
       "        vertical-align: middle;\n",
       "    }\n",
       "\n",
       "    .dataframe tbody tr th {\n",
       "        vertical-align: top;\n",
       "    }\n",
       "\n",
       "    .dataframe thead th {\n",
       "        text-align: right;\n",
       "    }\n",
       "</style>\n",
       "<table border=\"1\" class=\"dataframe\">\n",
       "  <thead>\n",
       "    <tr style=\"text-align: right;\">\n",
       "      <th></th>\n",
       "      <th>a</th>\n",
       "      <th>b</th>\n",
       "      <th>c</th>\n",
       "      <th>d</th>\n",
       "      <th>b1</th>\n",
       "    </tr>\n",
       "  </thead>\n",
       "  <tbody>\n",
       "    <tr>\n",
       "      <th>0</th>\n",
       "      <td>1</td>\n",
       "      <td>2.0</td>\n",
       "      <td>a</td>\n",
       "      <td>400</td>\n",
       "      <td>NaN</td>\n",
       "    </tr>\n",
       "    <tr>\n",
       "      <th>1</th>\n",
       "      <td>2</td>\n",
       "      <td>3.0</td>\n",
       "      <td>b</td>\n",
       "      <td>300</td>\n",
       "      <td>NaN</td>\n",
       "    </tr>\n",
       "    <tr>\n",
       "      <th>2</th>\n",
       "      <td>3</td>\n",
       "      <td>4.0</td>\n",
       "      <td>c</td>\n",
       "      <td>200</td>\n",
       "      <td>NaN</td>\n",
       "    </tr>\n",
       "    <tr>\n",
       "      <th>3</th>\n",
       "      <td>4</td>\n",
       "      <td>5.0</td>\n",
       "      <td>d</td>\n",
       "      <td>400</td>\n",
       "      <td>NaN</td>\n",
       "    </tr>\n",
       "    <tr>\n",
       "      <th>4</th>\n",
       "      <td>10</td>\n",
       "      <td>NaN</td>\n",
       "      <td>30</td>\n",
       "      <td>d1</td>\n",
       "      <td>20.0</td>\n",
       "    </tr>\n",
       "    <tr>\n",
       "      <th>5</th>\n",
       "      <td>20</td>\n",
       "      <td>NaN</td>\n",
       "      <td>40</td>\n",
       "      <td>d2</td>\n",
       "      <td>30.0</td>\n",
       "    </tr>\n",
       "    <tr>\n",
       "      <th>6</th>\n",
       "      <td>30</td>\n",
       "      <td>NaN</td>\n",
       "      <td>50</td>\n",
       "      <td>d3</td>\n",
       "      <td>40.0</td>\n",
       "    </tr>\n",
       "    <tr>\n",
       "      <th>7</th>\n",
       "      <td>40</td>\n",
       "      <td>NaN</td>\n",
       "      <td>60</td>\n",
       "      <td>d4</td>\n",
       "      <td>50.0</td>\n",
       "    </tr>\n",
       "  </tbody>\n",
       "</table>\n",
       "</div>"
      ],
      "text/plain": [
       "    a    b   c    d    b1\n",
       "0   1  2.0   a  400   NaN\n",
       "1   2  3.0   b  300   NaN\n",
       "2   3  4.0   c  200   NaN\n",
       "3   4  5.0   d  400   NaN\n",
       "4  10  NaN  30   d1  20.0\n",
       "5  20  NaN  40   d2  30.0\n",
       "6  30  NaN  50   d3  40.0\n",
       "7  40  NaN  60   d4  50.0"
      ]
     },
     "execution_count": 104,
     "metadata": {},
     "output_type": "execute_result"
    }
   ],
   "source": [
    "pd.DataFrame(load_df['data'], columns=col)"
   ]
  },
  {
   "cell_type": "code",
   "execution_count": 69,
   "metadata": {},
   "outputs": [
    {
     "data": {
      "text/html": [
       "<div>\n",
       "<style scoped>\n",
       "    .dataframe tbody tr th:only-of-type {\n",
       "        vertical-align: middle;\n",
       "    }\n",
       "\n",
       "    .dataframe tbody tr th {\n",
       "        vertical-align: top;\n",
       "    }\n",
       "\n",
       "    .dataframe thead th {\n",
       "        text-align: right;\n",
       "    }\n",
       "</style>\n",
       "<table border=\"1\" class=\"dataframe\">\n",
       "  <thead>\n",
       "    <tr style=\"text-align: right;\">\n",
       "      <th></th>\n",
       "      <th>컬럼1</th>\n",
       "      <th>컬럼2</th>\n",
       "      <th>컬럼3</th>\n",
       "      <th>컬럼4</th>\n",
       "      <th>컬럼5</th>\n",
       "    </tr>\n",
       "  </thead>\n",
       "  <tbody>\n",
       "    <tr>\n",
       "      <th>0</th>\n",
       "      <td>1</td>\n",
       "      <td>2.0</td>\n",
       "      <td>a</td>\n",
       "      <td>400</td>\n",
       "      <td>NaN</td>\n",
       "    </tr>\n",
       "    <tr>\n",
       "      <th>1</th>\n",
       "      <td>2</td>\n",
       "      <td>3.0</td>\n",
       "      <td>b</td>\n",
       "      <td>300</td>\n",
       "      <td>NaN</td>\n",
       "    </tr>\n",
       "    <tr>\n",
       "      <th>2</th>\n",
       "      <td>3</td>\n",
       "      <td>4.0</td>\n",
       "      <td>c</td>\n",
       "      <td>200</td>\n",
       "      <td>NaN</td>\n",
       "    </tr>\n",
       "    <tr>\n",
       "      <th>3</th>\n",
       "      <td>4</td>\n",
       "      <td>5.0</td>\n",
       "      <td>d</td>\n",
       "      <td>400</td>\n",
       "      <td>NaN</td>\n",
       "    </tr>\n",
       "    <tr>\n",
       "      <th>4</th>\n",
       "      <td>10</td>\n",
       "      <td>NaN</td>\n",
       "      <td>30</td>\n",
       "      <td>d1</td>\n",
       "      <td>20.0</td>\n",
       "    </tr>\n",
       "    <tr>\n",
       "      <th>5</th>\n",
       "      <td>20</td>\n",
       "      <td>NaN</td>\n",
       "      <td>40</td>\n",
       "      <td>d2</td>\n",
       "      <td>30.0</td>\n",
       "    </tr>\n",
       "    <tr>\n",
       "      <th>6</th>\n",
       "      <td>30</td>\n",
       "      <td>NaN</td>\n",
       "      <td>50</td>\n",
       "      <td>d3</td>\n",
       "      <td>40.0</td>\n",
       "    </tr>\n",
       "    <tr>\n",
       "      <th>7</th>\n",
       "      <td>40</td>\n",
       "      <td>NaN</td>\n",
       "      <td>60</td>\n",
       "      <td>d4</td>\n",
       "      <td>50.0</td>\n",
       "    </tr>\n",
       "  </tbody>\n",
       "</table>\n",
       "</div>"
      ],
      "text/plain": [
       "   컬럼1  컬럼2 컬럼3  컬럼4   컬럼5\n",
       "0    1  2.0   a  400   NaN\n",
       "1    2  3.0   b  300   NaN\n",
       "2    3  4.0   c  200   NaN\n",
       "3    4  5.0   d  400   NaN\n",
       "4   10  NaN  30   d1  20.0\n",
       "5   20  NaN  40   d2  30.0\n",
       "6   30  NaN  50   d3  40.0\n",
       "7   40  NaN  60   d4  50.0"
      ]
     },
     "execution_count": 69,
     "metadata": {},
     "output_type": "execute_result"
    }
   ],
   "source": [
    "data_df = pd.DataFrame.from_dict({x:load_df[x] for x in load_df.files})\n",
    "data_df"
   ]
  },
  {
   "attachments": {},
   "cell_type": "markdown",
   "metadata": {},
   "source": [
    "# 4등급 등록&제원정보로 테스트"
   ]
  },
  {
   "cell_type": "code",
   "execution_count": 2,
   "metadata": {},
   "outputs": [],
   "source": [
    "ods_fold = 'D:/data/big2/ODS'"
   ]
  },
  {
   "cell_type": "code",
   "execution_count": 112,
   "metadata": {},
   "outputs": [
    {
     "name": "stdout",
     "output_type": "stream",
     "text": [
      "<class 'pandas.core.frame.DataFrame'>\n",
      "RangeIndex: 1898816 entries, 0 to 1898815\n",
      "Data columns (total 49 columns):\n",
      " #   Column        Dtype  \n",
      "---  ------        -----  \n",
      " 0   차량관리번호        object \n",
      " 1   차량등록번호        object \n",
      " 2   본거지법정동코드      int64  \n",
      " 3   소유자구분         object \n",
      " 4   차종_등록정보       object \n",
      " 5   용도            object \n",
      " 6   현재회원번호        object \n",
      " 7   차대번호          object \n",
      " 8   최초등록일자        int64  \n",
      " 9   차량연식          int64  \n",
      " 10  차량제작일자        float64\n",
      " 11  배출가스검사유효일자    float64\n",
      " 12  제원관리번호        object \n",
      " 13  배출가스인증번호      object \n",
      " 14  배출가스등급        object \n",
      " 15  저공해조치YN(미사용)  object \n",
      " 16  저공해조치종류       float64\n",
      " 17  저공해조치구조변경YN   object \n",
      " 18  차량등록번호숫자정보    int64  \n",
      " 19  차량말소YN        object \n",
      " 20  최초회원번호        object \n",
      " 21  취득일자          object \n",
      " 22  취득금액          float64\n",
      " 23  생성일시_등록정보     object \n",
      " 24  수정일시_등록정보     object \n",
      " 25  차명            object \n",
      " 26  차종_제원정보       object \n",
      " 27  차종분류          object \n",
      " 28  차종유형(소분류)     object \n",
      " 29  자동차형식         object \n",
      " 30  제작사명          object \n",
      " 31  연료            object \n",
      " 32  엔진형식          object \n",
      " 33  공차중량          float64\n",
      " 34  총중량           float64\n",
      " 35  적재중량          float64\n",
      " 36  엔진출력          float64\n",
      " 37  배기량           float64\n",
      " 38  승차인원          float64\n",
      " 39  차량길이          float64\n",
      " 40  차량너비          float64\n",
      " 41  차량높이          float64\n",
      " 42  원산지명          object \n",
      " 43  삭제YN          object \n",
      " 44  승인일자          object \n",
      " 45  구동형식          float64\n",
      " 46  변속기종류         object \n",
      " 47  생성일시_제원정보     object \n",
      " 48  수정일시_제원정보     object \n",
      "dtypes: float64(14), int64(4), object(31)\n",
      "memory usage: 709.9+ MB\n"
     ]
    }
   ],
   "source": [
    "# about 33s\n",
    "file_name = '[ODS][G4]등록정보&제원정보(2022.12.28).csv'\n",
    "df = pd.read_csv(os.path.join(ods_fold, file_name), encoding='cp949', low_memory=False)\n",
    "df.info()"
   ]
  },
  {
   "cell_type": "code",
   "execution_count": 113,
   "metadata": {},
   "outputs": [
    {
     "data": {
      "text/plain": [
       "차량관리번호                0\n",
       "차량등록번호                0\n",
       "본거지법정동코드              0\n",
       "소유자구분                 0\n",
       "차종_등록정보               2\n",
       "용도                    0\n",
       "현재회원번호              839\n",
       "차대번호                  0\n",
       "최초등록일자                0\n",
       "차량연식                  0\n",
       "차량제작일자           188717\n",
       "배출가스검사유효일자           15\n",
       "제원관리번호                0\n",
       "배출가스인증번호         159076\n",
       "배출가스등급                0\n",
       "저공해조치YN(미사용)        216\n",
       "저공해조치종류         1898600\n",
       "저공해조치구조변경YN           1\n",
       "차량등록번호숫자정보            0\n",
       "차량말소YN                0\n",
       "최초회원번호             4799\n",
       "취득일자             110182\n",
       "취득금액              90836\n",
       "생성일시_등록정보             0\n",
       "수정일시_등록정보        596210\n",
       "차명                    0\n",
       "차종_제원정보               0\n",
       "차종분류                  0\n",
       "차종유형(소분류)             0\n",
       "자동차형식               649\n",
       "제작사명              12123\n",
       "연료                   89\n",
       "엔진형식               2138\n",
       "공차중량            1898816\n",
       "총중량                  32\n",
       "적재중량                647\n",
       "엔진출력                754\n",
       "배기량                  14\n",
       "승차인원                  1\n",
       "차량길이                141\n",
       "차량너비                141\n",
       "차량높이                144\n",
       "원산지명              19678\n",
       "삭제YN                  0\n",
       "승인일자                615\n",
       "구동형식            1898767\n",
       "변속기종류               168\n",
       "생성일시_제원정보             0\n",
       "수정일시_제원정보       1898301\n",
       "dtype: int64"
      ]
     },
     "execution_count": 113,
     "metadata": {},
     "output_type": "execute_result"
    }
   ],
   "source": [
    "df.isnull().sum()"
   ]
  },
  {
   "cell_type": "code",
   "execution_count": 108,
   "metadata": {},
   "outputs": [],
   "source": [
    "# about \n",
    "np.savez_compressed('np_data/[G4]등록&제원정보(2022.12.28)', col=df.columns, data=df.to_numpy())"
   ]
  },
  {
   "cell_type": "code",
   "execution_count": 5,
   "metadata": {},
   "outputs": [],
   "source": [
    "ndf = np.load('np_data/[G4]등록&제원정보(2022.12.28).npz', allow_pickle=True)"
   ]
  },
  {
   "cell_type": "code",
   "execution_count": 6,
   "metadata": {},
   "outputs": [
    {
     "data": {
      "text/plain": [
       "['col', 'data']"
      ]
     },
     "execution_count": 6,
     "metadata": {},
     "output_type": "execute_result"
    }
   ],
   "source": [
    "ndf.files"
   ]
  },
  {
   "cell_type": "code",
   "execution_count": 116,
   "metadata": {},
   "outputs": [
    {
     "name": "stdout",
     "output_type": "stream",
     "text": [
      "<class 'pandas.core.frame.DataFrame'>\n",
      "RangeIndex: 1898816 entries, 0 to 1898815\n",
      "Data columns (total 49 columns):\n",
      " #   Column        Dtype \n",
      "---  ------        ----- \n",
      " 0   차량관리번호        object\n",
      " 1   차량등록번호        object\n",
      " 2   본거지법정동코드      object\n",
      " 3   소유자구분         object\n",
      " 4   차종_등록정보       object\n",
      " 5   용도            object\n",
      " 6   현재회원번호        object\n",
      " 7   차대번호          object\n",
      " 8   최초등록일자        object\n",
      " 9   차량연식          object\n",
      " 10  차량제작일자        object\n",
      " 11  배출가스검사유효일자    object\n",
      " 12  제원관리번호        object\n",
      " 13  배출가스인증번호      object\n",
      " 14  배출가스등급        object\n",
      " 15  저공해조치YN(미사용)  object\n",
      " 16  저공해조치종류       object\n",
      " 17  저공해조치구조변경YN   object\n",
      " 18  차량등록번호숫자정보    object\n",
      " 19  차량말소YN        object\n",
      " 20  최초회원번호        object\n",
      " 21  취득일자          object\n",
      " 22  취득금액          object\n",
      " 23  생성일시_등록정보     object\n",
      " 24  수정일시_등록정보     object\n",
      " 25  차명            object\n",
      " 26  차종_제원정보       object\n",
      " 27  차종분류          object\n",
      " 28  차종유형(소분류)     object\n",
      " 29  자동차형식         object\n",
      " 30  제작사명          object\n",
      " 31  연료            object\n",
      " 32  엔진형식          object\n",
      " 33  공차중량          object\n",
      " 34  총중량           object\n",
      " 35  적재중량          object\n",
      " 36  엔진출력          object\n",
      " 37  배기량           object\n",
      " 38  승차인원          object\n",
      " 39  차량길이          object\n",
      " 40  차량너비          object\n",
      " 41  차량높이          object\n",
      " 42  원산지명          object\n",
      " 43  삭제YN          object\n",
      " 44  승인일자          object\n",
      " 45  구동형식          object\n",
      " 46  변속기종류         object\n",
      " 47  생성일시_제원정보     object\n",
      " 48  수정일시_제원정보     object\n",
      "dtypes: object(49)\n",
      "memory usage: 709.9+ MB\n"
     ]
    }
   ],
   "source": [
    "# about 16s\n",
    "df2 = pd.DataFrame(ndf['data'], columns=ndf['col'])\n",
    "df2.info()"
   ]
  },
  {
   "cell_type": "code",
   "execution_count": 117,
   "metadata": {},
   "outputs": [
    {
     "data": {
      "text/plain": [
       "차량관리번호                0\n",
       "차량등록번호                0\n",
       "본거지법정동코드              0\n",
       "소유자구분                 0\n",
       "차종_등록정보               2\n",
       "용도                    0\n",
       "현재회원번호              839\n",
       "차대번호                  0\n",
       "최초등록일자                0\n",
       "차량연식                  0\n",
       "차량제작일자           188717\n",
       "배출가스검사유효일자           15\n",
       "제원관리번호                0\n",
       "배출가스인증번호         159076\n",
       "배출가스등급                0\n",
       "저공해조치YN(미사용)        216\n",
       "저공해조치종류         1898600\n",
       "저공해조치구조변경YN           1\n",
       "차량등록번호숫자정보            0\n",
       "차량말소YN                0\n",
       "최초회원번호             4799\n",
       "취득일자             110182\n",
       "취득금액              90836\n",
       "생성일시_등록정보             0\n",
       "수정일시_등록정보        596210\n",
       "차명                    0\n",
       "차종_제원정보               0\n",
       "차종분류                  0\n",
       "차종유형(소분류)             0\n",
       "자동차형식               649\n",
       "제작사명              12123\n",
       "연료                   89\n",
       "엔진형식               2138\n",
       "공차중량            1898816\n",
       "총중량                  32\n",
       "적재중량                647\n",
       "엔진출력                754\n",
       "배기량                  14\n",
       "승차인원                  1\n",
       "차량길이                141\n",
       "차량너비                141\n",
       "차량높이                144\n",
       "원산지명              19678\n",
       "삭제YN                  0\n",
       "승인일자                615\n",
       "구동형식            1898767\n",
       "변속기종류               168\n",
       "생성일시_제원정보             0\n",
       "수정일시_제원정보       1898301\n",
       "dtype: int64"
      ]
     },
     "execution_count": 117,
     "metadata": {},
     "output_type": "execute_result"
    }
   ],
   "source": [
    "df2.isnull().sum()"
   ]
  },
  {
   "cell_type": "code",
   "execution_count": 7,
   "metadata": {},
   "outputs": [
    {
     "data": {
      "text/plain": [
       "array(['차량관리번호', '차량등록번호', '본거지법정동코드', '소유자구분', '차종_등록정보', '용도', '현재회원번호',\n",
       "       '차대번호', '최초등록일자', '차량연식', '차량제작일자', '배출가스검사유효일자', '제원관리번호',\n",
       "       '배출가스인증번호', '배출가스등급', '저공해조치YN(미사용)', '저공해조치종류', '저공해조치구조변경YN',\n",
       "       '차량등록번호숫자정보', '차량말소YN', '최초회원번호', '취득일자', '취득금액', '생성일시_등록정보',\n",
       "       '수정일시_등록정보', '차명', '차종_제원정보', '차종분류', '차종유형(소분류)', '자동차형식', '제작사명',\n",
       "       '연료', '엔진형식', '공차중량', '총중량', '적재중량', '엔진출력', '배기량', '승차인원', '차량길이',\n",
       "       '차량너비', '차량높이', '원산지명', '삭제YN', '승인일자', '구동형식', '변속기종류',\n",
       "       '생성일시_제원정보', '수정일시_제원정보'], dtype=object)"
      ]
     },
     "execution_count": 7,
     "metadata": {},
     "output_type": "execute_result"
    }
   ],
   "source": [
    "ndf['col']"
   ]
  },
  {
   "cell_type": "code",
   "execution_count": 8,
   "metadata": {},
   "outputs": [
    {
     "data": {
      "text/plain": [
       "(array([7], dtype=int64),)"
      ]
     },
     "execution_count": 8,
     "metadata": {},
     "output_type": "execute_result"
    }
   ],
   "source": [
    "np.where(ndf['col'] == '차대번호')"
   ]
  },
  {
   "cell_type": "code",
   "execution_count": 10,
   "metadata": {},
   "outputs": [
    {
     "data": {
      "text/plain": [
       "array(['CN-62-T-2213', 'SL68T032460', '2T1CF2897YC359923',\n",
       "       'KNADA2322HS004198', 'KNADA2322HS004360'], dtype=object)"
      ]
     },
     "execution_count": 10,
     "metadata": {},
     "output_type": "execute_result"
    }
   ],
   "source": [
    "# about 15s\n",
    "ndf['data'][:5, 7]"
   ]
  },
  {
   "cell_type": "code",
   "execution_count": 11,
   "metadata": {},
   "outputs": [],
   "source": [
    "# about 15s\n",
    "temp = ndf['data'][:, 7]"
   ]
  },
  {
   "cell_type": "code",
   "execution_count": null,
   "metadata": {},
   "outputs": [],
   "source": []
  }
 ],
 "metadata": {
  "kernelspec": {
   "display_name": "base",
   "language": "python",
   "name": "python3"
  },
  "language_info": {
   "codemirror_mode": {
    "name": "ipython",
    "version": 3
   },
   "file_extension": ".py",
   "mimetype": "text/x-python",
   "name": "python",
   "nbconvert_exporter": "python",
   "pygments_lexer": "ipython3",
   "version": "3.9.13"
  },
  "orig_nbformat": 4,
  "vscode": {
   "interpreter": {
    "hash": "ad2bdc8ecc057115af97d19610ffacc2b4e99fae6737bb82f5d7fb13d2f2c186"
   }
  }
 },
 "nbformat": 4,
 "nbformat_minor": 2
}
