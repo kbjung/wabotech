{
 "cells": [
  {
   "attachments": {},
   "cell_type": "markdown",
   "metadata": {},
   "source": [
    "# Library"
   ]
  },
  {
   "cell_type": "code",
   "execution_count": 1,
   "metadata": {},
   "outputs": [],
   "source": [
    "import pandas as pd\n",
    "import numpy as np\n",
    "import os\n",
    "from tqdm import tqdm\n",
    "from datetime import datetime"
   ]
  },
  {
   "cell_type": "code",
   "execution_count": 2,
   "metadata": {},
   "outputs": [],
   "source": [
    "# 소수점 옵션\n",
    "pd.options.display.float_format = '{:.2f}'.format\n",
    "# pd.reset_option('display.float_format')"
   ]
  },
  {
   "attachments": {},
   "cell_type": "markdown",
   "metadata": {},
   "source": [
    "# 수정사항\n",
    "- 2023.03.21\n",
    "    - item 2 : EG\n",
    "        - 1. 개별 차량에 대한 지역코드를 부여하여, 지역마다 얼마나 차량들이 존재하는지 구분이 필요한 것 같음\n",
    "\n",
    "    이 외에도 내일 오전에 동양에서 가시화와 관련된 회의에서 추가적으로 필요하다고 판단되는 사항에 대해 추가적으로 분석이 필요할 것 같음\n",
    "\n",
    "- 2023.03.22\n",
    "    - result파일에 'EG' 컬럼 추가\n",
    "\n",
    "- 2023.03.24\n",
    "    - result파일에 '배인번호_수정', '등급_수정', 'DPF유무_수정' 컬럼 추가"
   ]
  },
  {
   "attachments": {},
   "cell_type": "markdown",
   "metadata": {},
   "source": [
    "# fold path"
   ]
  },
  {
   "cell_type": "code",
   "execution_count": 3,
   "metadata": {},
   "outputs": [],
   "source": [
    "drive = 'D'"
   ]
  },
  {
   "cell_type": "code",
   "execution_count": 4,
   "metadata": {},
   "outputs": [],
   "source": [
    "raw_fold = f'{drive}:/data/big2/BD1/raw'\n",
    "ods_fold = f'{drive}:/data/big2/ODS'\n",
    "sample_fold = f'{drive}:/data/big2/BD1/sample'\n",
    "analysis_fold = f'{drive}:/data/big2/BD1/an'"
   ]
  },
  {
   "attachments": {},
   "cell_type": "markdown",
   "metadata": {},
   "source": [
    "# Load"
   ]
  },
  {
   "attachments": {},
   "cell_type": "markdown",
   "metadata": {},
   "source": [
    "## result 최종(전체)(최근3년 정기&정밀 검사 포함)"
   ]
  },
  {
   "cell_type": "code",
   "execution_count": 17,
   "metadata": {},
   "outputs": [
    {
     "name": "stdout",
     "output_type": "stream",
     "text": [
      "<class 'pandas.core.frame.DataFrame'>\n",
      "RangeIndex: 1502235 entries, 0 to 1502234\n",
      "Data columns (total 60 columns):\n",
      " #   Column      Non-Null Count    Dtype  \n",
      "---  ------      --------------    -----  \n",
      " 0   차대번호        1502235 non-null  object \n",
      " 1   차량번호        1502235 non-null  object \n",
      " 2   제원관리번호      1502235 non-null  object \n",
      " 3   차종          1502235 non-null  object \n",
      " 4   용도          1502235 non-null  object \n",
      " 5   최초등록일       1502235 non-null  int64  \n",
      " 6   연식          1502235 non-null  int64  \n",
      " 7   제작일자        1335178 non-null  float64\n",
      " 8   검사유효일       1502223 non-null  float64\n",
      " 9   배출가스인증번호    1384783 non-null  object \n",
      " 10  등급          1502235 non-null  int64  \n",
      " 11  차명          1502235 non-null  object \n",
      " 12  차종분류        1502235 non-null  object \n",
      " 13  차종유형        1502235 non-null  object \n",
      " 14  자동차형식       1501958 non-null  object \n",
      " 15  제작사명        1492590 non-null  object \n",
      " 16  연료          1502235 non-null  object \n",
      " 17  엔진형식        1500400 non-null  object \n",
      " 18  총중량         1502234 non-null  float64\n",
      " 19  적재중량        1501728 non-null  float64\n",
      " 20  엔진출력        1501882 non-null  object \n",
      " 21  배기량         1502231 non-null  float64\n",
      " 22  법정동코드       1502235 non-null  int64  \n",
      " 23  시도명         1502235 non-null  object \n",
      " 24  시군구명        1502235 non-null  object \n",
      " 25  소유자구분       1502235 non-null  object \n",
      " 26  말소여부        1502235 non-null  object \n",
      " 27  일치유무        1153813 non-null  object \n",
      " 28  인증번호 수정 유무  1151141 non-null  object \n",
      " 29  배인번호_수정     1153813 non-null  object \n",
      " 30  등급_수정       1502235 non-null  float64\n",
      " 31  DPF유무_수정    1153813 non-null  object \n",
      " 32  배출가스        1151141 non-null  object \n",
      " 33  등급2         1151141 non-null  object \n",
      " 34  DPF         1144315 non-null  object \n",
      " 35  비고          46494 non-null    object \n",
      " 36  검사방법        1187943 non-null  object \n",
      " 37  검사종류        1187943 non-null  object \n",
      " 38  검사판정        1187943 non-null  object \n",
      " 39  산소값         872538 non-null   float64\n",
      " 40  이산화탄소값      872927 non-null   float64\n",
      " 41  무부하매연판정1    1178171 non-null  object \n",
      " 42  무부하매연판정2    100095 non-null   object \n",
      " 43  무부하매연판정3    99194 non-null    object \n",
      " 44  무부하매연판정4    98567 non-null    object \n",
      " 45  무부하매연판정5    98567 non-null    object \n",
      " 46  무부하매연판정6    55081 non-null    object \n",
      " 47  무부하매연허용치1   1178171 non-null  float64\n",
      " 48  무부하매연허용치2   389275 non-null   float64\n",
      " 49  무부하매연허용치3   389274 non-null   float64\n",
      " 50  무부하매연허용치4   388649 non-null   float64\n",
      " 51  무부하매연허용치5   388649 non-null   float64\n",
      " 52  무부하매연허용치6   356754 non-null   float64\n",
      " 53  무부하매연측정치1   1178175 non-null  float64\n",
      " 54  무부하매연측정치2   423337 non-null   float64\n",
      " 55  무부하매연측정치3   389276 non-null   float64\n",
      " 56  무부하매연측정치4   388651 non-null   float64\n",
      " 57  무부하매연측정치5   388651 non-null   float64\n",
      " 58  무부하매연측정치6   356754 non-null   float64\n",
      " 59  정기정밀        1187943 non-null  object \n",
      "dtypes: float64(20), int64(4), object(36)\n",
      "memory usage: 687.7+ MB\n"
     ]
    }
   ],
   "source": [
    "# about 23.5s\n",
    "name = '4등급_차량_리스트_양식_result_최종(전체)(정기&정밀)(2023.05.17_PM.05.40.37)'\n",
    "file_name = f'{name}.csv'\n",
    "result = pd.read_csv(os.path.join(raw_fold, file_name), low_memory=False)\n",
    "result.info()"
   ]
  },
  {
   "cell_type": "code",
   "execution_count": 18,
   "metadata": {},
   "outputs": [
    {
     "data": {
      "text/plain": [
       "02420011500011209    584\n",
       "02420011500031210    208\n",
       "02420011500001209    184\n",
       "Name: 제원관리번호, dtype: int64"
      ]
     },
     "execution_count": 18,
     "metadata": {},
     "output_type": "execute_result"
    }
   ],
   "source": [
    "result.loc[result['배출가스인증번호'] == '9MY-AD-14-04', '제원관리번호'].value_counts()"
   ]
  },
  {
   "cell_type": "code",
   "execution_count": 19,
   "metadata": {},
   "outputs": [
    {
     "data": {
      "text/html": [
       "<div>\n",
       "<style scoped>\n",
       "    .dataframe tbody tr th:only-of-type {\n",
       "        vertical-align: middle;\n",
       "    }\n",
       "\n",
       "    .dataframe tbody tr th {\n",
       "        vertical-align: top;\n",
       "    }\n",
       "\n",
       "    .dataframe thead th {\n",
       "        text-align: right;\n",
       "    }\n",
       "</style>\n",
       "<table border=\"1\" class=\"dataframe\">\n",
       "  <thead>\n",
       "    <tr style=\"text-align: right;\">\n",
       "      <th></th>\n",
       "      <th>제원관리번호</th>\n",
       "      <th>등급_수정</th>\n",
       "    </tr>\n",
       "  </thead>\n",
       "  <tbody>\n",
       "    <tr>\n",
       "      <th>1002799</th>\n",
       "      <td>02420011500001209</td>\n",
       "      <td>4.00</td>\n",
       "    </tr>\n",
       "    <tr>\n",
       "      <th>1002800</th>\n",
       "      <td>02420011500011209</td>\n",
       "      <td>4.00</td>\n",
       "    </tr>\n",
       "    <tr>\n",
       "      <th>1002801</th>\n",
       "      <td>02420011500011209</td>\n",
       "      <td>4.00</td>\n",
       "    </tr>\n",
       "    <tr>\n",
       "      <th>1002802</th>\n",
       "      <td>02420011500011209</td>\n",
       "      <td>4.00</td>\n",
       "    </tr>\n",
       "    <tr>\n",
       "      <th>1002803</th>\n",
       "      <td>02420011500001209</td>\n",
       "      <td>4.00</td>\n",
       "    </tr>\n",
       "  </tbody>\n",
       "</table>\n",
       "</div>"
      ],
      "text/plain": [
       "                    제원관리번호  등급_수정\n",
       "1002799  02420011500001209   4.00\n",
       "1002800  02420011500011209   4.00\n",
       "1002801  02420011500011209   4.00\n",
       "1002802  02420011500011209   4.00\n",
       "1002803  02420011500001209   4.00"
      ]
     },
     "execution_count": 19,
     "metadata": {},
     "output_type": "execute_result"
    }
   ],
   "source": [
    "result.loc[result['배출가스인증번호'] == '9MY-AD-14-04', ['제원관리번호', '등급_수정']].head()"
   ]
  },
  {
   "attachments": {},
   "cell_type": "markdown",
   "metadata": {},
   "source": [
    "# 전처리"
   ]
  },
  {
   "attachments": {},
   "cell_type": "markdown",
   "metadata": {},
   "source": [
    "## 컬럼명 수정"
   ]
  },
  {
   "cell_type": "code",
   "execution_count": 20,
   "metadata": {},
   "outputs": [
    {
     "data": {
      "text/plain": [
       "Index(['차대번호', '차량번호', '제원관리번호', '차종', '용도', '최초등록일', '연식', '제작일자', '검사유효일',\n",
       "       '배출가스인증번호', '등급', '차명', '차종분류', '차종유형', '자동차형식', '제작사명', '연료', '엔진형식',\n",
       "       '총중량', '적재중량', '엔진출력', '배기량', '법정동코드', '시도명', '시군구명', '소유자구분', '말소여부',\n",
       "       '일치유무', '인증번호 수정 유무', '배인번호_수정', '등급_수정', 'DPF유무_수정', '배출가스', '등급2',\n",
       "       'DPF', '비고', '검사방법', '검사종류', '검사판정', '산소값', '이산화탄소값', '무부하매연판정1',\n",
       "       '무부하매연판정2', '무부하매연판정3', '무부하매연판정4', '무부하매연판정5', '무부하매연판정6', '무부하매연허용치1',\n",
       "       '무부하매연허용치2', '무부하매연허용치3', '무부하매연허용치4', '무부하매연허용치5', '무부하매연허용치6',\n",
       "       '무부하매연측정치1', '무부하매연측정치2', '무부하매연측정치3', '무부하매연측정치4', '무부하매연측정치5',\n",
       "       '무부하매연측정치6', '정기정밀'],\n",
       "      dtype='object')"
      ]
     },
     "execution_count": 20,
     "metadata": {},
     "output_type": "execute_result"
    }
   ],
   "source": [
    "result.columns"
   ]
  },
  {
   "attachments": {},
   "cell_type": "markdown",
   "metadata": {},
   "source": [
    "## 9MY-AD-14-04 4등급 수정 확인"
   ]
  },
  {
   "cell_type": "code",
   "execution_count": 21,
   "metadata": {},
   "outputs": [
    {
     "data": {
      "text/plain": [
       "(976,)"
      ]
     },
     "execution_count": 21,
     "metadata": {},
     "output_type": "execute_result"
    }
   ],
   "source": [
    "result.loc[result['배출가스인증번호'] == '9MY-AD-14-04', '등급_수정'].shape"
   ]
  },
  {
   "cell_type": "code",
   "execution_count": 22,
   "metadata": {},
   "outputs": [
    {
     "data": {
      "text/plain": [
       "array([4.])"
      ]
     },
     "execution_count": 22,
     "metadata": {},
     "output_type": "execute_result"
    }
   ],
   "source": [
    "result.loc[result['배출가스인증번호'] == '9MY-AD-14-04', '등급_수정'].unique()"
   ]
  },
  {
   "cell_type": "code",
   "execution_count": 23,
   "metadata": {},
   "outputs": [],
   "source": [
    "# result.loc[result['배출가스인증번호'] == '9MY-AD-14-04', '등급_수정'] = 4"
   ]
  },
  {
   "attachments": {},
   "cell_type": "markdown",
   "metadata": {},
   "source": [
    "## 유니목1200 5등급으로 수정 확인"
   ]
  },
  {
   "cell_type": "code",
   "execution_count": 25,
   "metadata": {},
   "outputs": [
    {
     "data": {
      "text/html": [
       "<div>\n",
       "<style scoped>\n",
       "    .dataframe tbody tr th:only-of-type {\n",
       "        vertical-align: middle;\n",
       "    }\n",
       "\n",
       "    .dataframe tbody tr th {\n",
       "        vertical-align: top;\n",
       "    }\n",
       "\n",
       "    .dataframe thead th {\n",
       "        text-align: right;\n",
       "    }\n",
       "</style>\n",
       "<table border=\"1\" class=\"dataframe\">\n",
       "  <thead>\n",
       "    <tr style=\"text-align: right;\">\n",
       "      <th></th>\n",
       "      <th>차명</th>\n",
       "      <th>등급_수정</th>\n",
       "    </tr>\n",
       "  </thead>\n",
       "  <tbody>\n",
       "    <tr>\n",
       "      <th>1150788</th>\n",
       "      <td>유니목1200</td>\n",
       "      <td>5.00</td>\n",
       "    </tr>\n",
       "  </tbody>\n",
       "</table>\n",
       "</div>"
      ],
      "text/plain": [
       "              차명  등급_수정\n",
       "1150788  유니목1200   5.00"
      ]
     },
     "execution_count": 25,
     "metadata": {},
     "output_type": "execute_result"
    }
   ],
   "source": [
    "result.loc[result['차대번호'] =='WDB1260251A480232', ['차명', '등급_수정']]"
   ]
  },
  {
   "cell_type": "code",
   "execution_count": 14,
   "metadata": {},
   "outputs": [],
   "source": [
    "# result.loc[result['차대번호'] =='WDB1260251A480232', '등급_수정'] = 5"
   ]
  },
  {
   "attachments": {},
   "cell_type": "markdown",
   "metadata": {},
   "source": [
    "## 휘발유, LPG 차량 등급_수정 값 확인\n",
    "- 4등급"
   ]
  },
  {
   "cell_type": "code",
   "execution_count": 26,
   "metadata": {},
   "outputs": [
    {
     "data": {
      "text/plain": [
       "4.00    348419\n",
       "Name: 등급_수정, dtype: int64"
      ]
     },
     "execution_count": 26,
     "metadata": {},
     "output_type": "execute_result"
    }
   ],
   "source": [
    "result.loc[(result['연료'] == '휘발유') | (result['연료'] == 'LPG(액화석유가스)'), '등급_수정'].value_counts(dropna=False)"
   ]
  },
  {
   "cell_type": "code",
   "execution_count": 22,
   "metadata": {},
   "outputs": [],
   "source": [
    "# result.loc[(result['연료'] == '휘발유') | (result['연료'] == 'LPG(액화석유가스)'), '등급_수정'] = 4"
   ]
  },
  {
   "cell_type": "code",
   "execution_count": 23,
   "metadata": {},
   "outputs": [
    {
     "data": {
      "text/plain": [
       "4.00    348419\n",
       "Name: 등급_수정, dtype: int64"
      ]
     },
     "execution_count": 23,
     "metadata": {},
     "output_type": "execute_result"
    }
   ],
   "source": [
    "# result.loc[(result['연료'] == '휘발유') | (result['연료'] == 'LPG(액화석유가스)'), '등급_수정'].value_counts(dropna=False)"
   ]
  },
  {
   "attachments": {},
   "cell_type": "markdown",
   "metadata": {},
   "source": [
    "## 알코올, CNG, 기타연료 등급_수정 값 수정\n",
    "- 4등급"
   ]
  },
  {
   "cell_type": "code",
   "execution_count": 27,
   "metadata": {},
   "outputs": [
    {
     "data": {
      "text/plain": [
       "4.00    3\n",
       "Name: 등급_수정, dtype: int64"
      ]
     },
     "execution_count": 27,
     "metadata": {},
     "output_type": "execute_result"
    }
   ],
   "source": [
    "result.loc[(result['연료'] == '알코올') | (result['연료'] == 'CNG(압축천연가스)') | (result['연료'] == '기타연료'), '등급_수정'].value_counts(dropna=False)"
   ]
  },
  {
   "cell_type": "code",
   "execution_count": 28,
   "metadata": {},
   "outputs": [],
   "source": [
    "# result.loc[(result['연료'] == '알코올') | (result['연료'] == 'CNG(압축천연가스)') | (result['연료'] == '기타연료'), '등급_수정'] = 4"
   ]
  },
  {
   "cell_type": "code",
   "execution_count": 29,
   "metadata": {},
   "outputs": [
    {
     "data": {
      "text/plain": [
       "4.00    3\n",
       "Name: 등급_수정, dtype: int64"
      ]
     },
     "execution_count": 29,
     "metadata": {},
     "output_type": "execute_result"
    }
   ],
   "source": [
    "# result.loc[(result['연료'] == '알코올') | (result['연료'] == 'CNG(압축천연가스)') | (result['연료'] == '기타연료'), '등급_수정'].value_counts(dropna=False)"
   ]
  },
  {
   "attachments": {},
   "cell_type": "markdown",
   "metadata": {},
   "source": [
    "## 등급 수정\n",
    "- 5등급으로 수정\n",
    "    - 배인번호_수정 : 4MY-DB-04, 24개\n",
    "    - 배인번호_수정 : 4MY-DB-03, 9개"
   ]
  },
  {
   "cell_type": "code",
   "execution_count": null,
   "metadata": {},
   "outputs": [],
   "source": [
    "result['등급_수정'].value_counts(dropna=False)"
   ]
  },
  {
   "cell_type": "code",
   "execution_count": null,
   "metadata": {},
   "outputs": [
    {
     "data": {
      "text/plain": [
       "(24, 36)"
      ]
     },
     "metadata": {},
     "output_type": "display_data"
    }
   ],
   "source": [
    "result.loc[result['배인번호_수정'] == '4MY-DB-04'].shape"
   ]
  },
  {
   "cell_type": "code",
   "execution_count": null,
   "metadata": {},
   "outputs": [
    {
     "data": {
      "text/plain": [
       "array([4.])"
      ]
     },
     "metadata": {},
     "output_type": "display_data"
    }
   ],
   "source": [
    "result.loc[result['배인번호_수정'] == '4MY-DB-04', '등급_수정'].unique()"
   ]
  },
  {
   "cell_type": "code",
   "execution_count": null,
   "metadata": {},
   "outputs": [],
   "source": [
    "# result.loc[result['배인번호_수정'] == '4MY-DB-04', '등급_수정'] = 5"
   ]
  },
  {
   "cell_type": "code",
   "execution_count": null,
   "metadata": {},
   "outputs": [
    {
     "data": {
      "text/plain": [
       "array([5.])"
      ]
     },
     "metadata": {},
     "output_type": "display_data"
    }
   ],
   "source": [
    "# result.loc[result['배인번호_수정'] == '4MY-DB-04', '등급_수정'].unique()"
   ]
  },
  {
   "cell_type": "code",
   "execution_count": null,
   "metadata": {},
   "outputs": [
    {
     "data": {
      "text/plain": [
       "(9, 36)"
      ]
     },
     "metadata": {},
     "output_type": "display_data"
    }
   ],
   "source": [
    "result.loc[result['배인번호_수정'] == '4MY-DB-03'].shape"
   ]
  },
  {
   "cell_type": "code",
   "execution_count": null,
   "metadata": {},
   "outputs": [
    {
     "data": {
      "text/plain": [
       "array([4.])"
      ]
     },
     "metadata": {},
     "output_type": "display_data"
    }
   ],
   "source": [
    "result.loc[result['배인번호_수정'] == '4MY-DB-03', '등급_수정'].unique()"
   ]
  },
  {
   "cell_type": "code",
   "execution_count": null,
   "metadata": {},
   "outputs": [],
   "source": [
    "# result.loc[result['배인번호_수정'] == '4MY-DB-03', '등급_수정'] = 5"
   ]
  },
  {
   "cell_type": "code",
   "execution_count": null,
   "metadata": {},
   "outputs": [
    {
     "data": {
      "text/plain": [
       "array([5.])"
      ]
     },
     "metadata": {},
     "output_type": "display_data"
    }
   ],
   "source": [
    "# result.loc[result['배인번호_수정'] == '4MY-DB-03', '등급_수정'].unique()"
   ]
  },
  {
   "cell_type": "code",
   "execution_count": null,
   "metadata": {},
   "outputs": [
    {
     "data": {
      "text/plain": [
       "등급_수정\n",
       "4.00    1497678\n",
       "3.00       4397\n",
       "5.00        160\n",
       "Name: count, dtype: int64"
      ]
     },
     "metadata": {},
     "output_type": "display_data"
    }
   ],
   "source": [
    "result['등급_수정'].value_counts(dropna=False)"
   ]
  },
  {
   "attachments": {},
   "cell_type": "markdown",
   "metadata": {},
   "source": [
    "## 4등급 차량만"
   ]
  },
  {
   "cell_type": "code",
   "execution_count": 28,
   "metadata": {},
   "outputs": [
    {
     "data": {
      "text/plain": [
       "경유             1153813\n",
       "휘발유             323019\n",
       "LPG(액화석유가스)      25400\n",
       "알코올                  1\n",
       "기타연료                 1\n",
       "CNG(압축천연가스)          1\n",
       "Name: 연료, dtype: int64"
      ]
     },
     "execution_count": 28,
     "metadata": {},
     "output_type": "execute_result"
    }
   ],
   "source": [
    "result['연료'].value_counts(dropna=False)"
   ]
  },
  {
   "cell_type": "code",
   "execution_count": 29,
   "metadata": {},
   "outputs": [
    {
     "data": {
      "text/plain": [
       "4.00    1497711\n",
       "3.00       4397\n",
       "5.00        127\n",
       "Name: 등급_수정, dtype: int64"
      ]
     },
     "execution_count": 29,
     "metadata": {},
     "output_type": "execute_result"
    }
   ],
   "source": [
    "result['등급_수정'].value_counts(dropna=False)"
   ]
  },
  {
   "cell_type": "code",
   "execution_count": 30,
   "metadata": {},
   "outputs": [
    {
     "data": {
      "text/plain": [
       "4.00    1149289\n",
       "3.00       4397\n",
       "5.00        127\n",
       "Name: 등급_수정, dtype: int64"
      ]
     },
     "execution_count": 30,
     "metadata": {},
     "output_type": "execute_result"
    }
   ],
   "source": [
    "result.loc[result['연료'] == '경유', '등급_수정'].value_counts(dropna=False)"
   ]
  },
  {
   "cell_type": "code",
   "execution_count": 31,
   "metadata": {},
   "outputs": [
    {
     "data": {
      "text/plain": [
       "(1497711, 60)"
      ]
     },
     "execution_count": 31,
     "metadata": {},
     "output_type": "execute_result"
    }
   ],
   "source": [
    "result1 = result.loc[result['등급_수정'] == 4]\n",
    "result1.shape"
   ]
  },
  {
   "cell_type": "code",
   "execution_count": 32,
   "metadata": {},
   "outputs": [
    {
     "data": {
      "text/plain": [
       "(4524, 60)"
      ]
     },
     "execution_count": 32,
     "metadata": {},
     "output_type": "execute_result"
    }
   ],
   "source": [
    "g3_g5 = result.loc[result['등급_수정'] != 4]\n",
    "g3_g5.shape"
   ]
  },
  {
   "attachments": {},
   "cell_type": "markdown",
   "metadata": {},
   "source": [
    "## 중복 차대번호 확인\n",
    "- 최종등록일자, 배출가스검사유효일자 최신 데이터 사용"
   ]
  },
  {
   "cell_type": "code",
   "execution_count": 33,
   "metadata": {},
   "outputs": [
    {
     "data": {
      "text/plain": [
       "1497690"
      ]
     },
     "execution_count": 33,
     "metadata": {},
     "output_type": "execute_result"
    }
   ],
   "source": [
    "len(result1['차대번호'].unique())"
   ]
  },
  {
   "attachments": {},
   "cell_type": "markdown",
   "metadata": {},
   "source": [
    "## 연료 확인"
   ]
  },
  {
   "cell_type": "code",
   "execution_count": 34,
   "metadata": {},
   "outputs": [
    {
     "data": {
      "text/plain": [
       "경유             1149289\n",
       "휘발유             323019\n",
       "LPG(액화석유가스)      25400\n",
       "알코올                  1\n",
       "기타연료                 1\n",
       "CNG(압축천연가스)          1\n",
       "Name: 연료, dtype: int64"
      ]
     },
     "execution_count": 34,
     "metadata": {},
     "output_type": "execute_result"
    }
   ],
   "source": [
    "result1['연료'].value_counts(dropna=False)"
   ]
  },
  {
   "attachments": {},
   "cell_type": "markdown",
   "metadata": {},
   "source": [
    "## 연료 컬럼 추가"
   ]
  },
  {
   "cell_type": "code",
   "execution_count": 35,
   "metadata": {},
   "outputs": [
    {
     "data": {
      "text/plain": [
       "(1149289, 60)"
      ]
     },
     "execution_count": 35,
     "metadata": {},
     "output_type": "execute_result"
    }
   ],
   "source": [
    "# 1149289\n",
    "rw1 = result1.loc[result1['연료'] == '경유'].reset_index(drop=True)\n",
    "rw1.shape"
   ]
  },
  {
   "cell_type": "code",
   "execution_count": 36,
   "metadata": {},
   "outputs": [
    {
     "data": {
      "text/plain": [
       "(348419, 60)"
      ]
     },
     "execution_count": 36,
     "metadata": {},
     "output_type": "execute_result"
    }
   ],
   "source": [
    "# 348419\n",
    "rw2 = result1.loc[(result1['연료'] == '휘발유') | (result1['연료'] == 'LPG(액화석유가스)')].reset_index(drop=True)\n",
    "rw2.shape"
   ]
  },
  {
   "cell_type": "code",
   "execution_count": 37,
   "metadata": {},
   "outputs": [
    {
     "data": {
      "text/plain": [
       "(3, 60)"
      ]
     },
     "execution_count": 37,
     "metadata": {},
     "output_type": "execute_result"
    }
   ],
   "source": [
    "# 3\n",
    "rw_rest = result1.loc[(result1['연료'] == '알코올') | (result1['연료'] == 'CNG(압축천연가스)') | (result1['연료'] == '기타연료')].reset_index(drop=True)\n",
    "rw_rest.shape"
   ]
  },
  {
   "cell_type": "code",
   "execution_count": 39,
   "metadata": {},
   "outputs": [
    {
     "data": {
      "text/plain": [
       "1497711"
      ]
     },
     "execution_count": 39,
     "metadata": {},
     "output_type": "execute_result"
    }
   ],
   "source": [
    "result1.shape[0]"
   ]
  },
  {
   "cell_type": "code",
   "execution_count": 38,
   "metadata": {},
   "outputs": [
    {
     "data": {
      "text/plain": [
       "1497711"
      ]
     },
     "execution_count": 38,
     "metadata": {},
     "output_type": "execute_result"
    }
   ],
   "source": [
    "rw1.shape[0] + rw2.shape[0] + rw_rest.shape[0]"
   ]
  },
  {
   "cell_type": "code",
   "execution_count": 40,
   "metadata": {},
   "outputs": [],
   "source": [
    "rw1['fuel'] = '경유'\n",
    "rw2['fuel'] = '휘발유_가스'"
   ]
  },
  {
   "cell_type": "code",
   "execution_count": 43,
   "metadata": {},
   "outputs": [
    {
     "data": {
      "text/plain": [
       "경유             1149289\n",
       "휘발유             323019\n",
       "LPG(액화석유가스)      25400\n",
       "알코올                  1\n",
       "기타연료                 1\n",
       "CNG(압축천연가스)          1\n",
       "Name: 연료, dtype: int64"
      ]
     },
     "execution_count": 43,
     "metadata": {},
     "output_type": "execute_result"
    }
   ],
   "source": [
    "result1['연료'].value_counts(dropna=False)"
   ]
  },
  {
   "cell_type": "code",
   "execution_count": 41,
   "metadata": {},
   "outputs": [
    {
     "data": {
      "text/plain": [
       "경유    1149289\n",
       "Name: fuel, dtype: int64"
      ]
     },
     "execution_count": 41,
     "metadata": {},
     "output_type": "execute_result"
    }
   ],
   "source": [
    "rw1['fuel'].value_counts()"
   ]
  },
  {
   "cell_type": "code",
   "execution_count": 42,
   "metadata": {},
   "outputs": [
    {
     "data": {
      "text/plain": [
       "휘발유_가스    348419\n",
       "Name: fuel, dtype: int64"
      ]
     },
     "execution_count": 42,
     "metadata": {},
     "output_type": "execute_result"
    }
   ],
   "source": [
    "rw2['fuel'].value_counts()"
   ]
  },
  {
   "attachments": {},
   "cell_type": "markdown",
   "metadata": {},
   "source": [
    "## 경유, 휘발유_가스, 나머지 병합"
   ]
  },
  {
   "cell_type": "code",
   "execution_count": 44,
   "metadata": {},
   "outputs": [
    {
     "data": {
      "text/plain": [
       "Index(['차대번호', '차량번호', '제원관리번호', '차종', '용도', '최초등록일', '연식', '제작일자', '검사유효일',\n",
       "       '배출가스인증번호', '등급', '차명', '차종분류', '차종유형', '자동차형식', '제작사명', '연료', '엔진형식',\n",
       "       '총중량', '적재중량', '엔진출력', '배기량', '법정동코드', '시도명', '시군구명', '소유자구분', '말소여부',\n",
       "       '일치유무', '인증번호 수정 유무', '배인번호_수정', '등급_수정', 'DPF유무_수정', '배출가스', '등급2',\n",
       "       'DPF', '비고', '검사방법', '검사종류', '검사판정', '산소값', '이산화탄소값', '무부하매연판정1',\n",
       "       '무부하매연판정2', '무부하매연판정3', '무부하매연판정4', '무부하매연판정5', '무부하매연판정6', '무부하매연허용치1',\n",
       "       '무부하매연허용치2', '무부하매연허용치3', '무부하매연허용치4', '무부하매연허용치5', '무부하매연허용치6',\n",
       "       '무부하매연측정치1', '무부하매연측정치2', '무부하매연측정치3', '무부하매연측정치4', '무부하매연측정치5',\n",
       "       '무부하매연측정치6', '정기정밀', 'fuel'],\n",
       "      dtype='object')"
      ]
     },
     "execution_count": 44,
     "metadata": {},
     "output_type": "execute_result"
    }
   ],
   "source": [
    "rw1.columns"
   ]
  },
  {
   "cell_type": "code",
   "execution_count": 45,
   "metadata": {},
   "outputs": [
    {
     "data": {
      "text/plain": [
       "Index(['차대번호', '차량번호', '제원관리번호', '차종', '용도', '최초등록일', '연식', '제작일자', '검사유효일',\n",
       "       '배출가스인증번호', '등급', '차명', '차종분류', '차종유형', '자동차형식', '제작사명', '연료', '엔진형식',\n",
       "       '총중량', '적재중량', '엔진출력', '배기량', '법정동코드', '시도명', '시군구명', '소유자구분', '말소여부',\n",
       "       '일치유무', '인증번호 수정 유무', '배인번호_수정', '등급_수정', 'DPF유무_수정', '배출가스', '등급2',\n",
       "       'DPF', '비고', '검사방법', '검사종류', '검사판정', '산소값', '이산화탄소값', '무부하매연판정1',\n",
       "       '무부하매연판정2', '무부하매연판정3', '무부하매연판정4', '무부하매연판정5', '무부하매연판정6', '무부하매연허용치1',\n",
       "       '무부하매연허용치2', '무부하매연허용치3', '무부하매연허용치4', '무부하매연허용치5', '무부하매연허용치6',\n",
       "       '무부하매연측정치1', '무부하매연측정치2', '무부하매연측정치3', '무부하매연측정치4', '무부하매연측정치5',\n",
       "       '무부하매연측정치6', '정기정밀', 'fuel'],\n",
       "      dtype='object')"
      ]
     },
     "execution_count": 45,
     "metadata": {},
     "output_type": "execute_result"
    }
   ],
   "source": [
    "rw2.columns"
   ]
  },
  {
   "cell_type": "code",
   "execution_count": 48,
   "metadata": {},
   "outputs": [
    {
     "data": {
      "text/plain": [
       "Index(['차대번호', '차량번호', '제원관리번호', '차종', '용도', '최초등록일', '연식', '제작일자', '검사유효일',\n",
       "       '배출가스인증번호', '등급', '차명', '차종분류', '차종유형', '자동차형식', '제작사명', '연료', '엔진형식',\n",
       "       '총중량', '적재중량', '엔진출력', '배기량', '법정동코드', '시도명', '시군구명', '소유자구분', '말소여부',\n",
       "       '일치유무', '인증번호 수정 유무', '배인번호_수정', '등급_수정', 'DPF유무_수정', '배출가스', '등급2',\n",
       "       'DPF', '비고', '검사방법', '검사종류', '검사판정', '산소값', '이산화탄소값', '무부하매연판정1',\n",
       "       '무부하매연판정2', '무부하매연판정3', '무부하매연판정4', '무부하매연판정5', '무부하매연판정6', '무부하매연허용치1',\n",
       "       '무부하매연허용치2', '무부하매연허용치3', '무부하매연허용치4', '무부하매연허용치5', '무부하매연허용치6',\n",
       "       '무부하매연측정치1', '무부하매연측정치2', '무부하매연측정치3', '무부하매연측정치4', '무부하매연측정치5',\n",
       "       '무부하매연측정치6', '정기정밀'],\n",
       "      dtype='object')"
      ]
     },
     "execution_count": 48,
     "metadata": {},
     "output_type": "execute_result"
    }
   ],
   "source": [
    "rw_rest.columns"
   ]
  },
  {
   "cell_type": "code",
   "execution_count": 49,
   "metadata": {},
   "outputs": [
    {
     "data": {
      "text/plain": [
       "(1497711, 61)"
      ]
     },
     "execution_count": 49,
     "metadata": {},
     "output_type": "execute_result"
    }
   ],
   "source": [
    "df = pd.concat([rw1, rw2, rw_rest], ignore_index=True)\n",
    "df.shape"
   ]
  },
  {
   "cell_type": "code",
   "execution_count": 51,
   "metadata": {},
   "outputs": [
    {
     "data": {
      "text/plain": [
       "경유        1149289\n",
       "휘발유_가스     348419\n",
       "NaN             3\n",
       "Name: fuel, dtype: int64"
      ]
     },
     "execution_count": 51,
     "metadata": {},
     "output_type": "execute_result"
    }
   ],
   "source": [
    "df['fuel'].value_counts(dropna=False)"
   ]
  },
  {
   "cell_type": "code",
   "execution_count": 52,
   "metadata": {},
   "outputs": [
    {
     "data": {
      "text/plain": [
       "무       879365\n",
       "NaN     348422\n",
       "유       253675\n",
       "확인불가     16249\n",
       "Name: DPF유무_수정, dtype: int64"
      ]
     },
     "execution_count": 52,
     "metadata": {},
     "output_type": "execute_result"
    }
   ],
   "source": [
    "df['DPF유무_수정'].value_counts(dropna=False)"
   ]
  },
  {
   "cell_type": "code",
   "execution_count": 35,
   "metadata": {},
   "outputs": [],
   "source": [
    "# df['DPF유무_수정'] = df['DPF유무_수정'].fillna('무')\n",
    "# df.loc[df['DPF유무_수정'] == '확인불가', 'DPF유무_수정'] = '무'"
   ]
  },
  {
   "cell_type": "code",
   "execution_count": 53,
   "metadata": {},
   "outputs": [
    {
     "data": {
      "text/plain": [
       "무       879365\n",
       "NaN     348422\n",
       "유       253675\n",
       "확인불가     16249\n",
       "Name: DPF유무_수정, dtype: int64"
      ]
     },
     "execution_count": 53,
     "metadata": {},
     "output_type": "execute_result"
    }
   ],
   "source": [
    "df['DPF유무_수정'].value_counts(dropna=False)"
   ]
  },
  {
   "attachments": {},
   "cell_type": "markdown",
   "metadata": {},
   "source": [
    "# 분석"
   ]
  },
  {
   "cell_type": "code",
   "execution_count": 54,
   "metadata": {},
   "outputs": [
    {
     "name": "stderr",
     "output_type": "stream",
     "text": [
      "100%|██████████| 1497711/1497711 [00:02<00:00, 529708.57it/s]\n"
     ]
    },
    {
     "data": {
      "text/plain": [
       "1497711"
      ]
     },
     "execution_count": 54,
     "metadata": {},
     "output_type": "execute_result"
    }
   ],
   "source": [
    "grade_list = []\n",
    "for f, y, cy, e in tqdm(df[['fuel', '제작일자', '연식', 'DPF유무_수정']].values):\n",
    "    if (f == '휘발유_가스') and ( (19980101 <= y <= 20001231) or (1998 <= cy <= 2000) ):\n",
    "        grade_list.append('A')\n",
    "    elif (f == '휘발유_가스') and ( (y <= 19971231) or (cy <= 1997) ):\n",
    "        grade_list.append('B')\n",
    "    elif (f == '경유') and ( (y >= 20080101) or (cy >= 2008) ) and (e == '유'):\n",
    "        grade_list.append('A')\n",
    "    elif (f == '경유') and ( (y <= 20071231) or (cy <= 2007) )and (e == '유'):\n",
    "        grade_list.append('B')\n",
    "    elif (f == '경유') and ( (y >= 20080101) or (cy >= 2008) ) and (e == '무'):\n",
    "        grade_list.append('C')\n",
    "    elif (f == '경유') and ( (y <= 20071231) or (cy <= 2007) ) and (e == '무'):\n",
    "        grade_list.append('D')\n",
    "    else:\n",
    "        grade_list.append('X')\n",
    "len(grade_list)"
   ]
  },
  {
   "cell_type": "code",
   "execution_count": 55,
   "metadata": {},
   "outputs": [
    {
     "data": {
      "text/plain": [
       "['D', 'D', 'D', 'D', 'D']"
      ]
     },
     "execution_count": 55,
     "metadata": {},
     "output_type": "execute_result"
    }
   ],
   "source": [
    "grade_list[:5]"
   ]
  },
  {
   "cell_type": "code",
   "execution_count": 56,
   "metadata": {},
   "outputs": [
    {
     "data": {
      "text/plain": [
       "['C', 'C', 'D', 'C', 'C', 'D', 'D', 'C', 'C', 'D']"
      ]
     },
     "execution_count": 56,
     "metadata": {},
     "output_type": "execute_result"
    }
   ],
   "source": [
    "num = 85420\n",
    "grade_list[num:num+10]"
   ]
  },
  {
   "cell_type": "code",
   "execution_count": 57,
   "metadata": {},
   "outputs": [
    {
     "data": {
      "text/plain": [
       "['B', 'B', 'X', 'X', 'X']"
      ]
     },
     "execution_count": 57,
     "metadata": {},
     "output_type": "execute_result"
    }
   ],
   "source": [
    "grade_list[-5:]"
   ]
  },
  {
   "cell_type": "code",
   "execution_count": 58,
   "metadata": {},
   "outputs": [],
   "source": [
    "df['Grade'] = grade_list"
   ]
  },
  {
   "cell_type": "code",
   "execution_count": 59,
   "metadata": {},
   "outputs": [
    {
     "data": {
      "text/html": [
       "<div>\n",
       "<style scoped>\n",
       "    .dataframe tbody tr th:only-of-type {\n",
       "        vertical-align: middle;\n",
       "    }\n",
       "\n",
       "    .dataframe tbody tr th {\n",
       "        vertical-align: top;\n",
       "    }\n",
       "\n",
       "    .dataframe thead th {\n",
       "        text-align: right;\n",
       "    }\n",
       "</style>\n",
       "<table border=\"1\" class=\"dataframe\">\n",
       "  <thead>\n",
       "    <tr style=\"text-align: right;\">\n",
       "      <th></th>\n",
       "      <th>fuel</th>\n",
       "      <th>대수</th>\n",
       "    </tr>\n",
       "  </thead>\n",
       "  <tbody>\n",
       "    <tr>\n",
       "      <th>0</th>\n",
       "      <td>경유</td>\n",
       "      <td>1149289</td>\n",
       "    </tr>\n",
       "    <tr>\n",
       "      <th>1</th>\n",
       "      <td>휘발유_가스</td>\n",
       "      <td>348419</td>\n",
       "    </tr>\n",
       "  </tbody>\n",
       "</table>\n",
       "</div>"
      ],
      "text/plain": [
       "     fuel       대수\n",
       "0      경유  1149289\n",
       "1  휘발유_가스   348419"
      ]
     },
     "execution_count": 59,
     "metadata": {},
     "output_type": "execute_result"
    }
   ],
   "source": [
    "num_by_fuel = df.groupby(['fuel'])['차대번호'].count().reset_index().sort_values('차대번호', ascending=False)\n",
    "num_by_fuel = num_by_fuel.rename(columns={'차대번호':'대수'})\n",
    "num_by_fuel"
   ]
  },
  {
   "cell_type": "code",
   "execution_count": 60,
   "metadata": {},
   "outputs": [
    {
     "data": {
      "text/html": [
       "<div>\n",
       "<style scoped>\n",
       "    .dataframe tbody tr th:only-of-type {\n",
       "        vertical-align: middle;\n",
       "    }\n",
       "\n",
       "    .dataframe tbody tr th {\n",
       "        vertical-align: top;\n",
       "    }\n",
       "\n",
       "    .dataframe thead th {\n",
       "        text-align: right;\n",
       "    }\n",
       "</style>\n",
       "<table border=\"1\" class=\"dataframe\">\n",
       "  <thead>\n",
       "    <tr style=\"text-align: right;\">\n",
       "      <th>Grade</th>\n",
       "      <th>A</th>\n",
       "      <th>B</th>\n",
       "      <th>C</th>\n",
       "      <th>D</th>\n",
       "      <th>X</th>\n",
       "    </tr>\n",
       "    <tr>\n",
       "      <th>fuel</th>\n",
       "      <th></th>\n",
       "      <th></th>\n",
       "      <th></th>\n",
       "      <th></th>\n",
       "      <th></th>\n",
       "    </tr>\n",
       "  </thead>\n",
       "  <tbody>\n",
       "    <tr>\n",
       "      <th>경유</th>\n",
       "      <td>167293.00</td>\n",
       "      <td>86382.00</td>\n",
       "      <td>840425.00</td>\n",
       "      <td>38940.00</td>\n",
       "      <td>16249.00</td>\n",
       "    </tr>\n",
       "    <tr>\n",
       "      <th>휘발유_가스</th>\n",
       "      <td>40729.00</td>\n",
       "      <td>291937.00</td>\n",
       "      <td>NaN</td>\n",
       "      <td>NaN</td>\n",
       "      <td>15753.00</td>\n",
       "    </tr>\n",
       "  </tbody>\n",
       "</table>\n",
       "</div>"
      ],
      "text/plain": [
       "Grade          A         B         C        D        X\n",
       "fuel                                                  \n",
       "경유     167293.00  86382.00 840425.00 38940.00 16249.00\n",
       "휘발유_가스  40729.00 291937.00       NaN      NaN 15753.00"
      ]
     },
     "execution_count": 60,
     "metadata": {},
     "output_type": "execute_result"
    }
   ],
   "source": [
    "num_by_grade = df.groupby(['fuel', 'Grade'])['차대번호'].count().unstack()\n",
    "# num_by_grade = num_by_grade.rename('대수')\n",
    "num_by_grade"
   ]
  },
  {
   "cell_type": "code",
   "execution_count": 61,
   "metadata": {},
   "outputs": [
    {
     "data": {
      "text/html": [
       "<div>\n",
       "<style scoped>\n",
       "    .dataframe tbody tr th:only-of-type {\n",
       "        vertical-align: middle;\n",
       "    }\n",
       "\n",
       "    .dataframe tbody tr th {\n",
       "        vertical-align: top;\n",
       "    }\n",
       "\n",
       "    .dataframe thead th {\n",
       "        text-align: right;\n",
       "    }\n",
       "</style>\n",
       "<table border=\"1\" class=\"dataframe\">\n",
       "  <thead>\n",
       "    <tr style=\"text-align: right;\">\n",
       "      <th>Grade</th>\n",
       "      <th>A</th>\n",
       "      <th>B</th>\n",
       "      <th>C</th>\n",
       "      <th>D</th>\n",
       "      <th>X</th>\n",
       "    </tr>\n",
       "    <tr>\n",
       "      <th>시도명</th>\n",
       "      <th></th>\n",
       "      <th></th>\n",
       "      <th></th>\n",
       "      <th></th>\n",
       "      <th></th>\n",
       "    </tr>\n",
       "  </thead>\n",
       "  <tbody>\n",
       "    <tr>\n",
       "      <th>강원도</th>\n",
       "      <td>7544</td>\n",
       "      <td>10774</td>\n",
       "      <td>34963</td>\n",
       "      <td>1677</td>\n",
       "      <td>967</td>\n",
       "    </tr>\n",
       "    <tr>\n",
       "      <th>경기도</th>\n",
       "      <td>52407</td>\n",
       "      <td>99870</td>\n",
       "      <td>189687</td>\n",
       "      <td>9822</td>\n",
       "      <td>7733</td>\n",
       "    </tr>\n",
       "    <tr>\n",
       "      <th>경상남도</th>\n",
       "      <td>16063</td>\n",
       "      <td>23214</td>\n",
       "      <td>71293</td>\n",
       "      <td>3025</td>\n",
       "      <td>2358</td>\n",
       "    </tr>\n",
       "    <tr>\n",
       "      <th>경상북도</th>\n",
       "      <td>14147</td>\n",
       "      <td>23492</td>\n",
       "      <td>73252</td>\n",
       "      <td>2901</td>\n",
       "      <td>2213</td>\n",
       "    </tr>\n",
       "    <tr>\n",
       "      <th>광주광역시</th>\n",
       "      <td>5733</td>\n",
       "      <td>10070</td>\n",
       "      <td>21859</td>\n",
       "      <td>1006</td>\n",
       "      <td>726</td>\n",
       "    </tr>\n",
       "    <tr>\n",
       "      <th>대구광역시</th>\n",
       "      <td>10086</td>\n",
       "      <td>18588</td>\n",
       "      <td>36183</td>\n",
       "      <td>1928</td>\n",
       "      <td>1731</td>\n",
       "    </tr>\n",
       "    <tr>\n",
       "      <th>대전광역시</th>\n",
       "      <td>5775</td>\n",
       "      <td>11717</td>\n",
       "      <td>21701</td>\n",
       "      <td>1095</td>\n",
       "      <td>988</td>\n",
       "    </tr>\n",
       "    <tr>\n",
       "      <th>부산광역시</th>\n",
       "      <td>11419</td>\n",
       "      <td>19515</td>\n",
       "      <td>41171</td>\n",
       "      <td>1776</td>\n",
       "      <td>1688</td>\n",
       "    </tr>\n",
       "    <tr>\n",
       "      <th>서울특별시</th>\n",
       "      <td>25534</td>\n",
       "      <td>62671</td>\n",
       "      <td>77485</td>\n",
       "      <td>4289</td>\n",
       "      <td>5350</td>\n",
       "    </tr>\n",
       "    <tr>\n",
       "      <th>세종특별자치시</th>\n",
       "      <td>1193</td>\n",
       "      <td>1678</td>\n",
       "      <td>4818</td>\n",
       "      <td>254</td>\n",
       "      <td>159</td>\n",
       "    </tr>\n",
       "    <tr>\n",
       "      <th>울산광역시</th>\n",
       "      <td>4437</td>\n",
       "      <td>6898</td>\n",
       "      <td>18977</td>\n",
       "      <td>997</td>\n",
       "      <td>725</td>\n",
       "    </tr>\n",
       "    <tr>\n",
       "      <th>인천광역시</th>\n",
       "      <td>12394</td>\n",
       "      <td>21815</td>\n",
       "      <td>42143</td>\n",
       "      <td>2041</td>\n",
       "      <td>1687</td>\n",
       "    </tr>\n",
       "    <tr>\n",
       "      <th>전라남도</th>\n",
       "      <td>9582</td>\n",
       "      <td>16144</td>\n",
       "      <td>56631</td>\n",
       "      <td>1932</td>\n",
       "      <td>1368</td>\n",
       "    </tr>\n",
       "    <tr>\n",
       "      <th>전라북도</th>\n",
       "      <td>9157</td>\n",
       "      <td>14528</td>\n",
       "      <td>45586</td>\n",
       "      <td>1867</td>\n",
       "      <td>1286</td>\n",
       "    </tr>\n",
       "    <tr>\n",
       "      <th>제주특별자치도</th>\n",
       "      <td>3915</td>\n",
       "      <td>5679</td>\n",
       "      <td>15813</td>\n",
       "      <td>583</td>\n",
       "      <td>461</td>\n",
       "    </tr>\n",
       "    <tr>\n",
       "      <th>충청남도</th>\n",
       "      <td>10606</td>\n",
       "      <td>17918</td>\n",
       "      <td>52746</td>\n",
       "      <td>2163</td>\n",
       "      <td>1486</td>\n",
       "    </tr>\n",
       "    <tr>\n",
       "      <th>충청북도</th>\n",
       "      <td>8030</td>\n",
       "      <td>13748</td>\n",
       "      <td>36117</td>\n",
       "      <td>1584</td>\n",
       "      <td>1079</td>\n",
       "    </tr>\n",
       "  </tbody>\n",
       "</table>\n",
       "</div>"
      ],
      "text/plain": [
       "Grade        A      B       C     D     X\n",
       "시도명                                      \n",
       "강원도       7544  10774   34963  1677   967\n",
       "경기도      52407  99870  189687  9822  7733\n",
       "경상남도     16063  23214   71293  3025  2358\n",
       "경상북도     14147  23492   73252  2901  2213\n",
       "광주광역시     5733  10070   21859  1006   726\n",
       "대구광역시    10086  18588   36183  1928  1731\n",
       "대전광역시     5775  11717   21701  1095   988\n",
       "부산광역시    11419  19515   41171  1776  1688\n",
       "서울특별시    25534  62671   77485  4289  5350\n",
       "세종특별자치시   1193   1678    4818   254   159\n",
       "울산광역시     4437   6898   18977   997   725\n",
       "인천광역시    12394  21815   42143  2041  1687\n",
       "전라남도      9582  16144   56631  1932  1368\n",
       "전라북도      9157  14528   45586  1867  1286\n",
       "제주특별자치도   3915   5679   15813   583   461\n",
       "충청남도     10606  17918   52746  2163  1486\n",
       "충청북도      8030  13748   36117  1584  1079"
      ]
     },
     "execution_count": 61,
     "metadata": {},
     "output_type": "execute_result"
    }
   ],
   "source": [
    "num_by_grade_by_local = df.groupby(['시도명', 'Grade'])['차대번호'].count().unstack()\n",
    "# num_by_grade_by_local = num_by_grade_by_local.rename('대수')\n",
    "num_by_grade_by_local"
   ]
  },
  {
   "cell_type": "code",
   "execution_count": 62,
   "metadata": {},
   "outputs": [
    {
     "data": {
      "text/plain": [
       "Index(['A', 'B', 'C', 'D', 'X'], dtype='object', name='Grade')"
      ]
     },
     "execution_count": 62,
     "metadata": {},
     "output_type": "execute_result"
    }
   ],
   "source": [
    "num_by_grade_by_local.columns"
   ]
  },
  {
   "cell_type": "code",
   "execution_count": 63,
   "metadata": {},
   "outputs": [
    {
     "data": {
      "text/plain": [
       "Index(['강원도', '경기도', '경상남도', '경상북도', '광주광역시', '대구광역시', '대전광역시', '부산광역시',\n",
       "       '서울특별시', '세종특별자치시', '울산광역시', '인천광역시', '전라남도', '전라북도', '제주특별자치도', '충청남도',\n",
       "       '충청북도'],\n",
       "      dtype='object', name='시도명')"
      ]
     },
     "execution_count": 63,
     "metadata": {},
     "output_type": "execute_result"
    }
   ],
   "source": [
    "num_by_grade_by_local.index"
   ]
  },
  {
   "cell_type": "code",
   "execution_count": 64,
   "metadata": {},
   "outputs": [
    {
     "data": {
      "text/plain": [
       "Index(['차대번호', '차량번호', '제원관리번호', '차종', '용도', '최초등록일', '연식', '제작일자', '검사유효일',\n",
       "       '배출가스인증번호', '등급', '차명', '차종분류', '차종유형', '자동차형식', '제작사명', '연료', '엔진형식',\n",
       "       '총중량', '적재중량', '엔진출력', '배기량', '법정동코드', '시도명', '시군구명', '소유자구분', '말소여부',\n",
       "       '일치유무', '인증번호 수정 유무', '배인번호_수정', '등급_수정', 'DPF유무_수정', '배출가스', '등급2',\n",
       "       'DPF', '비고', '검사방법', '검사종류', '검사판정', '산소값', '이산화탄소값', '무부하매연판정1',\n",
       "       '무부하매연판정2', '무부하매연판정3', '무부하매연판정4', '무부하매연판정5', '무부하매연판정6', '무부하매연허용치1',\n",
       "       '무부하매연허용치2', '무부하매연허용치3', '무부하매연허용치4', '무부하매연허용치5', '무부하매연허용치6',\n",
       "       '무부하매연측정치1', '무부하매연측정치2', '무부하매연측정치3', '무부하매연측정치4', '무부하매연측정치5',\n",
       "       '무부하매연측정치6', '정기정밀', 'fuel', 'Grade'],\n",
       "      dtype='object')"
      ]
     },
     "execution_count": 64,
     "metadata": {},
     "output_type": "execute_result"
    }
   ],
   "source": [
    "df.columns"
   ]
  },
  {
   "attachments": {},
   "cell_type": "markdown",
   "metadata": {},
   "source": [
    "## [출력] 4등급"
   ]
  },
  {
   "cell_type": "code",
   "execution_count": 65,
   "metadata": {},
   "outputs": [
    {
     "data": {
      "text/plain": [
       "Index(['차대번호', '차량번호', '제원관리번호', '차종', '용도', '최초등록일', '연식', '제작일자', '검사유효일',\n",
       "       '배출가스인증번호', '등급', '차명', '차종분류', '차종유형', '자동차형식', '제작사명', '연료', '엔진형식',\n",
       "       '총중량', '적재중량', '엔진출력', '배기량', '법정동코드', '시도명', '시군구명', '소유자구분', '말소여부',\n",
       "       '일치유무', '인증번호 수정 유무', '배인번호_수정', '등급_수정', 'DPF유무_수정', '배출가스', '등급2',\n",
       "       'DPF', '비고', '검사방법', '검사종류', '검사판정', '산소값', '이산화탄소값', '무부하매연판정1',\n",
       "       '무부하매연판정2', '무부하매연판정3', '무부하매연판정4', '무부하매연판정5', '무부하매연판정6', '무부하매연허용치1',\n",
       "       '무부하매연허용치2', '무부하매연허용치3', '무부하매연허용치4', '무부하매연허용치5', '무부하매연허용치6',\n",
       "       '무부하매연측정치1', '무부하매연측정치2', '무부하매연측정치3', '무부하매연측정치4', '무부하매연측정치5',\n",
       "       '무부하매연측정치6', '정기정밀', 'fuel', 'Grade'],\n",
       "      dtype='object')"
      ]
     },
     "execution_count": 65,
     "metadata": {},
     "output_type": "execute_result"
    }
   ],
   "source": [
    "df.columns"
   ]
  },
  {
   "cell_type": "code",
   "execution_count": 66,
   "metadata": {},
   "outputs": [
    {
     "data": {
      "text/plain": [
       "Index(['차대번호', '차량번호', '제원관리번호', '차종', '용도', '최초등록일', '연식', '제작일자', '검사유효일',\n",
       "       '배출가스인증번호', '등급', '차명', '차종분류', '차종유형', '자동차형식', '제작사명', '연료', '엔진형식',\n",
       "       '총중량', '적재중량', '엔진출력', '배기량', '법정동코드', '시도명', '시군구명', '소유자구분', '말소여부',\n",
       "       '일치유무', '인증번호 수정 유무', '배인번호_수정', '등급_수정', 'DPF유무_수정', '배출가스', '등급2',\n",
       "       'DPF', '비고', 'Grade'],\n",
       "      dtype='object')"
      ]
     },
     "execution_count": 66,
     "metadata": {},
     "output_type": "execute_result"
    }
   ],
   "source": [
    "df1 = df.drop(['검사방법', '검사종류', '검사판정', '산소값', '이산화탄소값', '무부하매연판정1',\n",
    "       '무부하매연판정2', '무부하매연판정3', '무부하매연판정4', '무부하매연판정5', '무부하매연판정6', '무부하매연허용치1',\n",
    "       '무부하매연허용치2', '무부하매연허용치3', '무부하매연허용치4', '무부하매연허용치5', '무부하매연허용치6',\n",
    "       '무부하매연측정치1', '무부하매연측정치2', '무부하매연측정치3', '무부하매연측정치4', '무부하매연측정치5',\n",
    "       '무부하매연측정치6', '정기정밀', 'fuel'], axis=1)\n",
    "df1.columns"
   ]
  },
  {
   "cell_type": "code",
   "execution_count": 67,
   "metadata": {},
   "outputs": [
    {
     "name": "stdout",
     "output_type": "stream",
     "text": [
      "<class 'pandas.core.frame.DataFrame'>\n",
      "RangeIndex: 1497711 entries, 0 to 1497710\n",
      "Data columns (total 37 columns):\n",
      " #   Column      Non-Null Count    Dtype  \n",
      "---  ------      --------------    -----  \n",
      " 0   차대번호        1497711 non-null  object \n",
      " 1   차량번호        1497711 non-null  object \n",
      " 2   제원관리번호      1497711 non-null  object \n",
      " 3   차종          1497711 non-null  object \n",
      " 4   용도          1497711 non-null  object \n",
      " 5   최초등록일       1497711 non-null  int64  \n",
      " 6   연식          1497711 non-null  int64  \n",
      " 7   제작일자        1330657 non-null  float64\n",
      " 8   검사유효일       1497699 non-null  float64\n",
      " 9   배출가스인증번호    1380297 non-null  object \n",
      " 10  등급          1497711 non-null  int64  \n",
      " 11  차명          1497711 non-null  object \n",
      " 12  차종분류        1497711 non-null  object \n",
      " 13  차종유형        1497711 non-null  object \n",
      " 14  자동차형식       1497434 non-null  object \n",
      " 15  제작사명        1488067 non-null  object \n",
      " 16  연료          1497711 non-null  object \n",
      " 17  엔진형식        1495876 non-null  object \n",
      " 18  총중량         1497710 non-null  float64\n",
      " 19  적재중량        1497369 non-null  float64\n",
      " 20  엔진출력        1497358 non-null  object \n",
      " 21  배기량         1497707 non-null  float64\n",
      " 22  법정동코드       1497711 non-null  int64  \n",
      " 23  시도명         1497711 non-null  object \n",
      " 24  시군구명        1497711 non-null  object \n",
      " 25  소유자구분       1497711 non-null  object \n",
      " 26  말소여부        1497711 non-null  object \n",
      " 27  일치유무        1149289 non-null  object \n",
      " 28  인증번호 수정 유무  1146618 non-null  object \n",
      " 29  배인번호_수정     1149289 non-null  object \n",
      " 30  등급_수정       1497711 non-null  float64\n",
      " 31  DPF유무_수정    1149289 non-null  object \n",
      " 32  배출가스        1146618 non-null  object \n",
      " 33  등급2         1146618 non-null  object \n",
      " 34  DPF         1139796 non-null  object \n",
      " 35  비고          44481 non-null    object \n",
      " 36  Grade       1497711 non-null  object \n",
      "dtypes: float64(6), int64(4), object(27)\n",
      "memory usage: 422.8+ MB\n"
     ]
    }
   ],
   "source": [
    "df1.info()"
   ]
  },
  {
   "cell_type": "code",
   "execution_count": 70,
   "metadata": {},
   "outputs": [
    {
     "data": {
      "text/html": [
       "<div>\n",
       "<style scoped>\n",
       "    .dataframe tbody tr th:only-of-type {\n",
       "        vertical-align: middle;\n",
       "    }\n",
       "\n",
       "    .dataframe tbody tr th {\n",
       "        vertical-align: top;\n",
       "    }\n",
       "\n",
       "    .dataframe thead th {\n",
       "        text-align: right;\n",
       "    }\n",
       "</style>\n",
       "<table border=\"1\" class=\"dataframe\">\n",
       "  <thead>\n",
       "    <tr style=\"text-align: right;\">\n",
       "      <th></th>\n",
       "      <th>배출가스인증번호</th>\n",
       "      <th>제원관리번호</th>\n",
       "    </tr>\n",
       "  </thead>\n",
       "  <tbody>\n",
       "    <tr>\n",
       "      <th>0</th>\n",
       "      <td>4MY-AD-20</td>\n",
       "      <td>02420000100031305</td>\n",
       "    </tr>\n",
       "    <tr>\n",
       "      <th>1</th>\n",
       "      <td>4MY-AD-20</td>\n",
       "      <td>02420000100031305</td>\n",
       "    </tr>\n",
       "    <tr>\n",
       "      <th>2</th>\n",
       "      <td>4MY-AD-20</td>\n",
       "      <td>02420000100031305</td>\n",
       "    </tr>\n",
       "    <tr>\n",
       "      <th>3</th>\n",
       "      <td>4MY-AD-20</td>\n",
       "      <td>02420000100031305</td>\n",
       "    </tr>\n",
       "    <tr>\n",
       "      <th>4</th>\n",
       "      <td>4MY-AD-20</td>\n",
       "      <td>02420000100031305</td>\n",
       "    </tr>\n",
       "  </tbody>\n",
       "</table>\n",
       "</div>"
      ],
      "text/plain": [
       "    배출가스인증번호             제원관리번호\n",
       "0  4MY-AD-20  02420000100031305\n",
       "1  4MY-AD-20  02420000100031305\n",
       "2  4MY-AD-20  02420000100031305\n",
       "3  4MY-AD-20  02420000100031305\n",
       "4  4MY-AD-20  02420000100031305"
      ]
     },
     "execution_count": 70,
     "metadata": {},
     "output_type": "execute_result"
    }
   ],
   "source": [
    "df1[['배출가스인증번호', '제원관리번호']].head()"
   ]
  },
  {
   "cell_type": "code",
   "execution_count": 71,
   "metadata": {},
   "outputs": [
    {
     "data": {
      "text/plain": [
       "'2023.04.18_PM.02.45.20'"
      ]
     },
     "execution_count": 71,
     "metadata": {},
     "output_type": "execute_result"
    }
   ],
   "source": [
    "today_date = datetime.today().strftime(\"%Y.%m.%d_%p.%I.%M.%S\")\n",
    "today_date"
   ]
  },
  {
   "cell_type": "code",
   "execution_count": 72,
   "metadata": {},
   "outputs": [],
   "source": [
    "# about 20.8s\n",
    "df1.to_csv(os.path.join(raw_fold, f'4등급_차량_리스트_양식_result(경유,휘발유,LPG)_Grade_추가({today_date}).csv'), index=False, encoding='cp949')"
   ]
  },
  {
   "cell_type": "code",
   "execution_count": 73,
   "metadata": {},
   "outputs": [],
   "source": [
    "# about 21m 8.3s\n",
    "df1.iloc[:500000].to_excel(os.path.join(raw_fold, f'4등급_차량_리스트_양식_result(경유,휘발유,LPG)_Grade_추가({today_date})01.xlsx'), index=False)\n",
    "df1.iloc[500000:].to_excel(os.path.join(raw_fold, f'4등급_차량_리스트_양식_result(경유,휘발유,LPG)_Grade_추가({today_date})02.xlsx'), index=False)"
   ]
  },
  {
   "attachments": {},
   "cell_type": "markdown",
   "metadata": {},
   "source": [
    "## [출력] 4등급 + 3등급(등급_수정) + 5등급(등급_수정)"
   ]
  },
  {
   "cell_type": "code",
   "execution_count": 74,
   "metadata": {},
   "outputs": [
    {
     "data": {
      "text/plain": [
       "(1502235, 62)"
      ]
     },
     "execution_count": 74,
     "metadata": {},
     "output_type": "execute_result"
    }
   ],
   "source": [
    "total = pd.concat([df, g3_g5], ignore_index=True)\n",
    "total.shape"
   ]
  },
  {
   "cell_type": "code",
   "execution_count": 75,
   "metadata": {},
   "outputs": [
    {
     "data": {
      "text/plain": [
       "Index(['차대번호', '차량번호', '제원관리번호', '차종', '용도', '최초등록일', '연식', '제작일자', '검사유효일',\n",
       "       '배출가스인증번호', '등급', '차명', '차종분류', '차종유형', '자동차형식', '제작사명', '연료', '엔진형식',\n",
       "       '총중량', '적재중량', '엔진출력', '배기량', '법정동코드', '시도명', '시군구명', '소유자구분', '말소여부',\n",
       "       '일치유무', '인증번호 수정 유무', '배인번호_수정', '등급_수정', 'DPF유무_수정', '배출가스', '등급2',\n",
       "       'DPF', '비고', '검사방법', '검사종류', '검사판정', '산소값', '이산화탄소값', '무부하매연판정1',\n",
       "       '무부하매연판정2', '무부하매연판정3', '무부하매연판정4', '무부하매연판정5', '무부하매연판정6', '무부하매연허용치1',\n",
       "       '무부하매연허용치2', '무부하매연허용치3', '무부하매연허용치4', '무부하매연허용치5', '무부하매연허용치6',\n",
       "       '무부하매연측정치1', '무부하매연측정치2', '무부하매연측정치3', '무부하매연측정치4', '무부하매연측정치5',\n",
       "       '무부하매연측정치6', '정기정밀', 'fuel', 'Grade'],\n",
       "      dtype='object')"
      ]
     },
     "execution_count": 75,
     "metadata": {},
     "output_type": "execute_result"
    }
   ],
   "source": [
    "total.columns"
   ]
  },
  {
   "cell_type": "code",
   "execution_count": 76,
   "metadata": {},
   "outputs": [
    {
     "data": {
      "text/plain": [
       "Index(['차대번호', '차량번호', '제원관리번호', '차종', '용도', '최초등록일', '연식', '제작일자', '검사유효일',\n",
       "       '배출가스인증번호', '등급', '차명', '차종분류', '차종유형', '자동차형식', '제작사명', '연료', '엔진형식',\n",
       "       '총중량', '적재중량', '엔진출력', '배기량', '법정동코드', '시도명', '시군구명', '소유자구분', '말소여부',\n",
       "       '일치유무', '인증번호 수정 유무', '배인번호_수정', '등급_수정', 'DPF유무_수정', '배출가스', '등급2',\n",
       "       'DPF', '비고', 'Grade'],\n",
       "      dtype='object')"
      ]
     },
     "execution_count": 76,
     "metadata": {},
     "output_type": "execute_result"
    }
   ],
   "source": [
    "total = total.drop(['검사방법', '검사종류', '검사판정', '산소값', '이산화탄소값', '무부하매연판정1',\n",
    "       '무부하매연판정2', '무부하매연판정3', '무부하매연판정4', '무부하매연판정5', '무부하매연판정6', '무부하매연허용치1',\n",
    "       '무부하매연허용치2', '무부하매연허용치3', '무부하매연허용치4', '무부하매연허용치5', '무부하매연허용치6',\n",
    "       '무부하매연측정치1', '무부하매연측정치2', '무부하매연측정치3', '무부하매연측정치4', '무부하매연측정치5',\n",
    "       '무부하매연측정치6', '정기정밀', 'fuel'], axis=1)\n",
    "total.columns"
   ]
  },
  {
   "cell_type": "code",
   "execution_count": 77,
   "metadata": {},
   "outputs": [
    {
     "data": {
      "text/plain": [
       "'2023.04.18_PM.03.07.04'"
      ]
     },
     "execution_count": 77,
     "metadata": {},
     "output_type": "execute_result"
    }
   ],
   "source": [
    "today_date = datetime.today().strftime(\"%Y.%m.%d_%p.%I.%M.%S\")\n",
    "today_date"
   ]
  },
  {
   "cell_type": "code",
   "execution_count": 78,
   "metadata": {},
   "outputs": [],
   "source": [
    "# about 21.8s\n",
    "total.to_csv(os.path.join(raw_fold, f'4등급_차량_리스트_양식_result(전체)_Grade_추가({today_date}).csv'), index=False, encoding='cp949')"
   ]
  },
  {
   "cell_type": "code",
   "execution_count": 79,
   "metadata": {},
   "outputs": [],
   "source": [
    "# about 14m 7.3s\n",
    "total.iloc[:700000].to_excel(os.path.join(raw_fold, f'4등급_차량_리스트_양식_result(전체)_Grade_추가({today_date})01.xlsx'), index=False)\n",
    "total.iloc[700000:].to_excel(os.path.join(raw_fold, f'4등급_차량_리스트_양식_result(전체)_Grade_추가({today_date})02.xlsx'), index=False)"
   ]
  },
  {
   "attachments": {},
   "cell_type": "markdown",
   "metadata": {},
   "source": [
    "## [로드] result 전체 등급, 동코드 추가 파일"
   ]
  },
  {
   "cell_type": "code",
   "execution_count": 5,
   "metadata": {},
   "outputs": [
    {
     "name": "stdout",
     "output_type": "stream",
     "text": [
      "<class 'pandas.core.frame.DataFrame'>\n",
      "RangeIndex: 1502235 entries, 0 to 1502234\n",
      "Data columns (total 44 columns):\n",
      " #   Column         Non-Null Count    Dtype  \n",
      "---  ------         --------------    -----  \n",
      " 0   차대번호           1502235 non-null  object \n",
      " 1   차량번호           1502235 non-null  object \n",
      " 2   제원관리번호         1502235 non-null  object \n",
      " 3   차종             1502235 non-null  object \n",
      " 4   용도             1502235 non-null  object \n",
      " 5   최초등록일          1502235 non-null  int64  \n",
      " 6   연식             1502235 non-null  int64  \n",
      " 7   제작일자           1335178 non-null  float64\n",
      " 8   검사유효일          1502223 non-null  float64\n",
      " 9   배출가스인증번호       1384783 non-null  object \n",
      " 10  등급             1502235 non-null  int64  \n",
      " 11  차명             1502235 non-null  object \n",
      " 12  차종분류           1502235 non-null  object \n",
      " 13  차종유형           1502235 non-null  object \n",
      " 14  자동차형식          1501958 non-null  object \n",
      " 15  제작사명           1492590 non-null  object \n",
      " 16  연료             1502235 non-null  object \n",
      " 17  엔진형식           1500400 non-null  object \n",
      " 18  총중량            1502234 non-null  float64\n",
      " 19  적재중량           1501728 non-null  float64\n",
      " 20  엔진출력           1501882 non-null  object \n",
      " 21  배기량            1502231 non-null  float64\n",
      " 22  법정동코드          1502235 non-null  int64  \n",
      " 23  시도명            1502235 non-null  object \n",
      " 24  시군구명           1502235 non-null  object \n",
      " 25  소유자구분          1502235 non-null  object \n",
      " 26  말소여부           1502235 non-null  object \n",
      " 27  일치유무           1153813 non-null  object \n",
      " 28  인증번호 수정 유무     1151141 non-null  object \n",
      " 29  배인번호_수정        1153813 non-null  object \n",
      " 30  등급_수정          1502235 non-null  float64\n",
      " 31  DPF유무_수정       1153813 non-null  object \n",
      " 32  배출가스           1151141 non-null  object \n",
      " 33  등급2            1151141 non-null  object \n",
      " 34  DPF            1144315 non-null  object \n",
      " 35  비고             46494 non-null    object \n",
      " 36  Grade          1497711 non-null  object \n",
      " 37  시군구명_수정        1494113 non-null  object \n",
      " 38  dong_code      1502235 non-null  int64  \n",
      " 39  E_CO_total     1497708 non-null  float64\n",
      " 40  E_HC_total     1497708 non-null  float64\n",
      " 41  E_NOx_total    1497708 non-null  float64\n",
      " 42  E_PM10_total   1497708 non-null  float64\n",
      " 43  E_PM2_5_total  1497708 non-null  float64\n",
      "dtypes: float64(11), int64(5), object(28)\n",
      "memory usage: 504.3+ MB\n"
     ]
    }
   ],
   "source": [
    "# about 23.5s\n",
    "name = 'result(전체)_CAPSS_배출량(Grade추가)(dong_code추가)(2023.05.08_PM.04.42.03)'\n",
    "file_name = f'{name}.csv'\n",
    "result = pd.read_csv(os.path.join(raw_fold, file_name), low_memory=False)\n",
    "result.info()"
   ]
  },
  {
   "attachments": {},
   "cell_type": "markdown",
   "metadata": {},
   "source": [
    "### 시각화"
   ]
  },
  {
   "cell_type": "code",
   "execution_count": 6,
   "metadata": {},
   "outputs": [],
   "source": [
    "import matplotlib.pyplot as plt\n",
    "import seaborn as sns\n",
    "import platform\n",
    "from matplotlib import font_manager, rc\n",
    "\n",
    "# 한글 폰트 지정\n",
    "path = \"C:/Windows/Fonts/malgun.ttf\"\n",
    "if platform.system() == \"Windows\":\n",
    "    font_name = font_manager.FontProperties(fname=path).get_name()\n",
    "    rc('font', family=font_name)\n",
    "elif platform.system()==\"Darwin\":\n",
    "    rc('font', family='AppleGothic')\n",
    "else:\n",
    "    print(\"Unknown System\")\n",
    "# 음수 표현\n",
    "plt.rcParams['axes.unicode_minus'] = False"
   ]
  },
  {
   "cell_type": "code",
   "execution_count": 7,
   "metadata": {},
   "outputs": [
    {
     "data": {
      "text/plain": [
       "Index(['차대번호', '차량번호', '제원관리번호', '차종', '용도', '최초등록일', '연식', '제작일자', '검사유효일',\n",
       "       '배출가스인증번호', '등급', '차명', '차종분류', '차종유형', '자동차형식', '제작사명', '연료', '엔진형식',\n",
       "       '총중량', '적재중량', '엔진출력', '배기량', '법정동코드', '시도명', '시군구명', '소유자구분', '말소여부',\n",
       "       '일치유무', '인증번호 수정 유무', '배인번호_수정', '등급_수정', 'DPF유무_수정', '배출가스', '등급2',\n",
       "       'DPF', '비고', 'Grade', '시군구명_수정', 'dong_code', 'E_CO_total',\n",
       "       'E_HC_total', 'E_NOx_total', 'E_PM10_total', 'E_PM2_5_total'],\n",
       "      dtype='object')"
      ]
     },
     "execution_count": 7,
     "metadata": {},
     "output_type": "execute_result"
    }
   ],
   "source": [
    "result.columns"
   ]
  },
  {
   "cell_type": "code",
   "execution_count": 8,
   "metadata": {},
   "outputs": [
    {
     "data": {
      "text/plain": [
       "경유             1153813\n",
       "휘발유             323019\n",
       "LPG(액화석유가스)      25400\n",
       "알코올                  1\n",
       "기타연료                 1\n",
       "CNG(압축천연가스)          1\n",
       "Name: 연료, dtype: int64"
      ]
     },
     "execution_count": 8,
     "metadata": {},
     "output_type": "execute_result"
    }
   ],
   "source": [
    "result['연료'].value_counts(dropna=False)"
   ]
  },
  {
   "attachments": {},
   "cell_type": "markdown",
   "metadata": {},
   "source": [
    "#### 4등급 경유차 시도, EG별 차량수"
   ]
  },
  {
   "cell_type": "code",
   "execution_count": 35,
   "metadata": {},
   "outputs": [
    {
     "data": {
      "text/html": [
       "<div>\n",
       "<style scoped>\n",
       "    .dataframe tbody tr th:only-of-type {\n",
       "        vertical-align: middle;\n",
       "    }\n",
       "\n",
       "    .dataframe tbody tr th {\n",
       "        vertical-align: top;\n",
       "    }\n",
       "\n",
       "    .dataframe thead th {\n",
       "        text-align: right;\n",
       "    }\n",
       "</style>\n",
       "<table border=\"1\" class=\"dataframe\">\n",
       "  <thead>\n",
       "    <tr style=\"text-align: right;\">\n",
       "      <th>시도명</th>\n",
       "      <th>Grade</th>\n",
       "      <th>강원도</th>\n",
       "      <th>경기도</th>\n",
       "      <th>경상남도</th>\n",
       "      <th>경상북도</th>\n",
       "      <th>광주광역시</th>\n",
       "      <th>대구광역시</th>\n",
       "      <th>대전광역시</th>\n",
       "      <th>부산광역시</th>\n",
       "      <th>서울특별시</th>\n",
       "      <th>세종특별자치시</th>\n",
       "      <th>울산광역시</th>\n",
       "      <th>인천광역시</th>\n",
       "      <th>전라남도</th>\n",
       "      <th>전라북도</th>\n",
       "      <th>제주특별자치도</th>\n",
       "      <th>충청남도</th>\n",
       "      <th>충청북도</th>\n",
       "    </tr>\n",
       "  </thead>\n",
       "  <tbody>\n",
       "    <tr>\n",
       "      <th>0</th>\n",
       "      <td>A</td>\n",
       "      <td>6573</td>\n",
       "      <td>41981</td>\n",
       "      <td>13724</td>\n",
       "      <td>11780</td>\n",
       "      <td>4806</td>\n",
       "      <td>7650</td>\n",
       "      <td>4295</td>\n",
       "      <td>9087</td>\n",
       "      <td>16923</td>\n",
       "      <td>1054</td>\n",
       "      <td>3699</td>\n",
       "      <td>10124</td>\n",
       "      <td>8308</td>\n",
       "      <td>7984</td>\n",
       "      <td>3401</td>\n",
       "      <td>9129</td>\n",
       "      <td>6775</td>\n",
       "    </tr>\n",
       "    <tr>\n",
       "      <th>1</th>\n",
       "      <td>B</td>\n",
       "      <td>3028</td>\n",
       "      <td>20713</td>\n",
       "      <td>7305</td>\n",
       "      <td>6301</td>\n",
       "      <td>2495</td>\n",
       "      <td>4251</td>\n",
       "      <td>2502</td>\n",
       "      <td>4537</td>\n",
       "      <td>9668</td>\n",
       "      <td>556</td>\n",
       "      <td>2135</td>\n",
       "      <td>5394</td>\n",
       "      <td>4115</td>\n",
       "      <td>4108</td>\n",
       "      <td>1749</td>\n",
       "      <td>4333</td>\n",
       "      <td>3192</td>\n",
       "    </tr>\n",
       "    <tr>\n",
       "      <th>2</th>\n",
       "      <td>C</td>\n",
       "      <td>34963</td>\n",
       "      <td>189687</td>\n",
       "      <td>71293</td>\n",
       "      <td>73252</td>\n",
       "      <td>21859</td>\n",
       "      <td>36183</td>\n",
       "      <td>21701</td>\n",
       "      <td>41171</td>\n",
       "      <td>77485</td>\n",
       "      <td>4818</td>\n",
       "      <td>18977</td>\n",
       "      <td>42143</td>\n",
       "      <td>56631</td>\n",
       "      <td>45586</td>\n",
       "      <td>15813</td>\n",
       "      <td>52746</td>\n",
       "      <td>36117</td>\n",
       "    </tr>\n",
       "    <tr>\n",
       "      <th>3</th>\n",
       "      <td>D</td>\n",
       "      <td>1677</td>\n",
       "      <td>9822</td>\n",
       "      <td>3025</td>\n",
       "      <td>2901</td>\n",
       "      <td>1006</td>\n",
       "      <td>1928</td>\n",
       "      <td>1095</td>\n",
       "      <td>1776</td>\n",
       "      <td>4289</td>\n",
       "      <td>254</td>\n",
       "      <td>997</td>\n",
       "      <td>2041</td>\n",
       "      <td>1932</td>\n",
       "      <td>1867</td>\n",
       "      <td>583</td>\n",
       "      <td>2163</td>\n",
       "      <td>1584</td>\n",
       "    </tr>\n",
       "    <tr>\n",
       "      <th>4</th>\n",
       "      <td>X</td>\n",
       "      <td>629</td>\n",
       "      <td>4102</td>\n",
       "      <td>1309</td>\n",
       "      <td>1173</td>\n",
       "      <td>411</td>\n",
       "      <td>746</td>\n",
       "      <td>407</td>\n",
       "      <td>854</td>\n",
       "      <td>1737</td>\n",
       "      <td>91</td>\n",
       "      <td>308</td>\n",
       "      <td>841</td>\n",
       "      <td>923</td>\n",
       "      <td>807</td>\n",
       "      <td>265</td>\n",
       "      <td>945</td>\n",
       "      <td>701</td>\n",
       "    </tr>\n",
       "  </tbody>\n",
       "</table>\n",
       "</div>"
      ],
      "text/plain": [
       "시도명 Grade    강원도     경기도   경상남도   경상북도  광주광역시  대구광역시  대전광역시  부산광역시  서울특별시  \\\n",
       "0       A   6573   41981  13724  11780   4806   7650   4295   9087  16923   \n",
       "1       B   3028   20713   7305   6301   2495   4251   2502   4537   9668   \n",
       "2       C  34963  189687  71293  73252  21859  36183  21701  41171  77485   \n",
       "3       D   1677    9822   3025   2901   1006   1928   1095   1776   4289   \n",
       "4       X    629    4102   1309   1173    411    746    407    854   1737   \n",
       "\n",
       "시도명  세종특별자치시  울산광역시  인천광역시   전라남도   전라북도  제주특별자치도   충청남도   충청북도  \n",
       "0       1054   3699  10124   8308   7984     3401   9129   6775  \n",
       "1        556   2135   5394   4115   4108     1749   4333   3192  \n",
       "2       4818  18977  42143  56631  45586    15813  52746  36117  \n",
       "3        254    997   2041   1932   1867      583   2163   1584  \n",
       "4         91    308    841    923    807      265    945    701  "
      ]
     },
     "execution_count": 35,
     "metadata": {},
     "output_type": "execute_result"
    }
   ],
   "source": [
    "fuel = '경유'\n",
    "vis_df = result.loc[result['연료'] == fuel].groupby(['시도명', 'Grade'])['차대번호'].count().unstack('시도명').reset_index()\n",
    "vis_df"
   ]
  },
  {
   "cell_type": "code",
   "execution_count": 36,
   "metadata": {},
   "outputs": [
    {
     "data": {
      "text/plain": [
       "Index(['Grade', '강원도', '경기도', '경상남도', '경상북도', '광주광역시', '대구광역시', '대전광역시',\n",
       "       '부산광역시', '서울특별시', '세종특별자치시', '울산광역시', '인천광역시', '전라남도', '전라북도',\n",
       "       '제주특별자치도', '충청남도', '충청북도'],\n",
       "      dtype='object', name='시도명')"
      ]
     },
     "execution_count": 36,
     "metadata": {},
     "output_type": "execute_result"
    }
   ],
   "source": [
    "vis_df.columns"
   ]
  },
  {
   "cell_type": "code",
   "execution_count": 37,
   "metadata": {},
   "outputs": [
    {
     "data": {
      "text/html": [
       "<div>\n",
       "<style scoped>\n",
       "    .dataframe tbody tr th:only-of-type {\n",
       "        vertical-align: middle;\n",
       "    }\n",
       "\n",
       "    .dataframe tbody tr th {\n",
       "        vertical-align: top;\n",
       "    }\n",
       "\n",
       "    .dataframe thead th {\n",
       "        text-align: right;\n",
       "    }\n",
       "</style>\n",
       "<table border=\"1\" class=\"dataframe\">\n",
       "  <thead>\n",
       "    <tr style=\"text-align: right;\">\n",
       "      <th>시도명</th>\n",
       "      <th>Grade</th>\n",
       "      <th>서울특별시</th>\n",
       "      <th>인천광역시</th>\n",
       "      <th>경기도</th>\n",
       "      <th>부산광역시</th>\n",
       "      <th>대구광역시</th>\n",
       "      <th>광주광역시</th>\n",
       "      <th>대전광역시</th>\n",
       "      <th>울산광역시</th>\n",
       "      <th>세종특별자치시</th>\n",
       "      <th>강원도</th>\n",
       "      <th>충청북도</th>\n",
       "      <th>충청남도</th>\n",
       "      <th>전라북도</th>\n",
       "      <th>전라남도</th>\n",
       "      <th>경상북도</th>\n",
       "      <th>경상남도</th>\n",
       "      <th>제주특별자치도</th>\n",
       "    </tr>\n",
       "  </thead>\n",
       "  <tbody>\n",
       "    <tr>\n",
       "      <th>0</th>\n",
       "      <td>A</td>\n",
       "      <td>16923</td>\n",
       "      <td>10124</td>\n",
       "      <td>41981</td>\n",
       "      <td>9087</td>\n",
       "      <td>7650</td>\n",
       "      <td>4806</td>\n",
       "      <td>4295</td>\n",
       "      <td>3699</td>\n",
       "      <td>1054</td>\n",
       "      <td>6573</td>\n",
       "      <td>6775</td>\n",
       "      <td>9129</td>\n",
       "      <td>7984</td>\n",
       "      <td>8308</td>\n",
       "      <td>11780</td>\n",
       "      <td>13724</td>\n",
       "      <td>3401</td>\n",
       "    </tr>\n",
       "    <tr>\n",
       "      <th>1</th>\n",
       "      <td>B</td>\n",
       "      <td>9668</td>\n",
       "      <td>5394</td>\n",
       "      <td>20713</td>\n",
       "      <td>4537</td>\n",
       "      <td>4251</td>\n",
       "      <td>2495</td>\n",
       "      <td>2502</td>\n",
       "      <td>2135</td>\n",
       "      <td>556</td>\n",
       "      <td>3028</td>\n",
       "      <td>3192</td>\n",
       "      <td>4333</td>\n",
       "      <td>4108</td>\n",
       "      <td>4115</td>\n",
       "      <td>6301</td>\n",
       "      <td>7305</td>\n",
       "      <td>1749</td>\n",
       "    </tr>\n",
       "    <tr>\n",
       "      <th>2</th>\n",
       "      <td>C</td>\n",
       "      <td>77485</td>\n",
       "      <td>42143</td>\n",
       "      <td>189687</td>\n",
       "      <td>41171</td>\n",
       "      <td>36183</td>\n",
       "      <td>21859</td>\n",
       "      <td>21701</td>\n",
       "      <td>18977</td>\n",
       "      <td>4818</td>\n",
       "      <td>34963</td>\n",
       "      <td>36117</td>\n",
       "      <td>52746</td>\n",
       "      <td>45586</td>\n",
       "      <td>56631</td>\n",
       "      <td>73252</td>\n",
       "      <td>71293</td>\n",
       "      <td>15813</td>\n",
       "    </tr>\n",
       "    <tr>\n",
       "      <th>3</th>\n",
       "      <td>D</td>\n",
       "      <td>4289</td>\n",
       "      <td>2041</td>\n",
       "      <td>9822</td>\n",
       "      <td>1776</td>\n",
       "      <td>1928</td>\n",
       "      <td>1006</td>\n",
       "      <td>1095</td>\n",
       "      <td>997</td>\n",
       "      <td>254</td>\n",
       "      <td>1677</td>\n",
       "      <td>1584</td>\n",
       "      <td>2163</td>\n",
       "      <td>1867</td>\n",
       "      <td>1932</td>\n",
       "      <td>2901</td>\n",
       "      <td>3025</td>\n",
       "      <td>583</td>\n",
       "    </tr>\n",
       "    <tr>\n",
       "      <th>4</th>\n",
       "      <td>X</td>\n",
       "      <td>1737</td>\n",
       "      <td>841</td>\n",
       "      <td>4102</td>\n",
       "      <td>854</td>\n",
       "      <td>746</td>\n",
       "      <td>411</td>\n",
       "      <td>407</td>\n",
       "      <td>308</td>\n",
       "      <td>91</td>\n",
       "      <td>629</td>\n",
       "      <td>701</td>\n",
       "      <td>945</td>\n",
       "      <td>807</td>\n",
       "      <td>923</td>\n",
       "      <td>1173</td>\n",
       "      <td>1309</td>\n",
       "      <td>265</td>\n",
       "    </tr>\n",
       "  </tbody>\n",
       "</table>\n",
       "</div>"
      ],
      "text/plain": [
       "시도명 Grade  서울특별시  인천광역시     경기도  부산광역시  대구광역시  광주광역시  대전광역시  울산광역시  세종특별자치시  \\\n",
       "0       A  16923  10124   41981   9087   7650   4806   4295   3699     1054   \n",
       "1       B   9668   5394   20713   4537   4251   2495   2502   2135      556   \n",
       "2       C  77485  42143  189687  41171  36183  21859  21701  18977     4818   \n",
       "3       D   4289   2041    9822   1776   1928   1006   1095    997      254   \n",
       "4       X   1737    841    4102    854    746    411    407    308       91   \n",
       "\n",
       "시도명    강원도   충청북도   충청남도   전라북도   전라남도   경상북도   경상남도  제주특별자치도  \n",
       "0     6573   6775   9129   7984   8308  11780  13724     3401  \n",
       "1     3028   3192   4333   4108   4115   6301   7305     1749  \n",
       "2    34963  36117  52746  45586  56631  73252  71293    15813  \n",
       "3     1677   1584   2163   1867   1932   2901   3025      583  \n",
       "4      629    701    945    807    923   1173   1309      265  "
      ]
     },
     "execution_count": 37,
     "metadata": {},
     "output_type": "execute_result"
    }
   ],
   "source": [
    "vis_df = vis_df[['Grade', \n",
    "                '서울특별시', \n",
    "                '인천광역시', \n",
    "                '경기도', \n",
    "                '부산광역시', \n",
    "                '대구광역시', \n",
    "                '광주광역시', \n",
    "                '대전광역시',\n",
    "                '울산광역시', \n",
    "                '세종특별자치시', \n",
    "                '강원도', \n",
    "                '충청북도',\n",
    "                '충청남도', \n",
    "                '전라북도',\n",
    "                '전라남도', \n",
    "                '경상북도', \n",
    "                '경상남도', \n",
    "                '제주특별자치도', \n",
    "                ]]\n",
    "vis_df"
   ]
  },
  {
   "cell_type": "code",
   "execution_count": 42,
   "metadata": {},
   "outputs": [
    {
     "data": {
      "text/html": [
       "<div>\n",
       "<style scoped>\n",
       "    .dataframe tbody tr th:only-of-type {\n",
       "        vertical-align: middle;\n",
       "    }\n",
       "\n",
       "    .dataframe tbody tr th {\n",
       "        vertical-align: top;\n",
       "    }\n",
       "\n",
       "    .dataframe thead th {\n",
       "        text-align: right;\n",
       "    }\n",
       "</style>\n",
       "<table border=\"1\" class=\"dataframe\">\n",
       "  <thead>\n",
       "    <tr style=\"text-align: right;\">\n",
       "      <th>시도명</th>\n",
       "      <th>Grade</th>\n",
       "      <th>서울</th>\n",
       "      <th>인천</th>\n",
       "      <th>경기</th>\n",
       "      <th>부산</th>\n",
       "      <th>대구</th>\n",
       "      <th>광주</th>\n",
       "      <th>대전</th>\n",
       "      <th>울산</th>\n",
       "      <th>세종</th>\n",
       "      <th>강원</th>\n",
       "      <th>충북</th>\n",
       "      <th>충남</th>\n",
       "      <th>전북</th>\n",
       "      <th>전남</th>\n",
       "      <th>경북</th>\n",
       "      <th>경남</th>\n",
       "      <th>제주</th>\n",
       "    </tr>\n",
       "  </thead>\n",
       "  <tbody>\n",
       "    <tr>\n",
       "      <th>0</th>\n",
       "      <td>A</td>\n",
       "      <td>16923</td>\n",
       "      <td>10124</td>\n",
       "      <td>41981</td>\n",
       "      <td>9087</td>\n",
       "      <td>7650</td>\n",
       "      <td>4806</td>\n",
       "      <td>4295</td>\n",
       "      <td>3699</td>\n",
       "      <td>1054</td>\n",
       "      <td>6573</td>\n",
       "      <td>6775</td>\n",
       "      <td>9129</td>\n",
       "      <td>7984</td>\n",
       "      <td>8308</td>\n",
       "      <td>11780</td>\n",
       "      <td>13724</td>\n",
       "      <td>3401</td>\n",
       "    </tr>\n",
       "    <tr>\n",
       "      <th>1</th>\n",
       "      <td>B</td>\n",
       "      <td>9668</td>\n",
       "      <td>5394</td>\n",
       "      <td>20713</td>\n",
       "      <td>4537</td>\n",
       "      <td>4251</td>\n",
       "      <td>2495</td>\n",
       "      <td>2502</td>\n",
       "      <td>2135</td>\n",
       "      <td>556</td>\n",
       "      <td>3028</td>\n",
       "      <td>3192</td>\n",
       "      <td>4333</td>\n",
       "      <td>4108</td>\n",
       "      <td>4115</td>\n",
       "      <td>6301</td>\n",
       "      <td>7305</td>\n",
       "      <td>1749</td>\n",
       "    </tr>\n",
       "    <tr>\n",
       "      <th>2</th>\n",
       "      <td>C</td>\n",
       "      <td>77485</td>\n",
       "      <td>42143</td>\n",
       "      <td>189687</td>\n",
       "      <td>41171</td>\n",
       "      <td>36183</td>\n",
       "      <td>21859</td>\n",
       "      <td>21701</td>\n",
       "      <td>18977</td>\n",
       "      <td>4818</td>\n",
       "      <td>34963</td>\n",
       "      <td>36117</td>\n",
       "      <td>52746</td>\n",
       "      <td>45586</td>\n",
       "      <td>56631</td>\n",
       "      <td>73252</td>\n",
       "      <td>71293</td>\n",
       "      <td>15813</td>\n",
       "    </tr>\n",
       "    <tr>\n",
       "      <th>3</th>\n",
       "      <td>D</td>\n",
       "      <td>4289</td>\n",
       "      <td>2041</td>\n",
       "      <td>9822</td>\n",
       "      <td>1776</td>\n",
       "      <td>1928</td>\n",
       "      <td>1006</td>\n",
       "      <td>1095</td>\n",
       "      <td>997</td>\n",
       "      <td>254</td>\n",
       "      <td>1677</td>\n",
       "      <td>1584</td>\n",
       "      <td>2163</td>\n",
       "      <td>1867</td>\n",
       "      <td>1932</td>\n",
       "      <td>2901</td>\n",
       "      <td>3025</td>\n",
       "      <td>583</td>\n",
       "    </tr>\n",
       "    <tr>\n",
       "      <th>4</th>\n",
       "      <td>X</td>\n",
       "      <td>1737</td>\n",
       "      <td>841</td>\n",
       "      <td>4102</td>\n",
       "      <td>854</td>\n",
       "      <td>746</td>\n",
       "      <td>411</td>\n",
       "      <td>407</td>\n",
       "      <td>308</td>\n",
       "      <td>91</td>\n",
       "      <td>629</td>\n",
       "      <td>701</td>\n",
       "      <td>945</td>\n",
       "      <td>807</td>\n",
       "      <td>923</td>\n",
       "      <td>1173</td>\n",
       "      <td>1309</td>\n",
       "      <td>265</td>\n",
       "    </tr>\n",
       "  </tbody>\n",
       "</table>\n",
       "</div>"
      ],
      "text/plain": [
       "시도명 Grade     서울     인천      경기     부산     대구     광주     대전     울산    세종  \\\n",
       "0       A  16923  10124   41981   9087   7650   4806   4295   3699  1054   \n",
       "1       B   9668   5394   20713   4537   4251   2495   2502   2135   556   \n",
       "2       C  77485  42143  189687  41171  36183  21859  21701  18977  4818   \n",
       "3       D   4289   2041    9822   1776   1928   1006   1095    997   254   \n",
       "4       X   1737    841    4102    854    746    411    407    308    91   \n",
       "\n",
       "시도명     강원     충북     충남     전북     전남     경북     경남     제주  \n",
       "0     6573   6775   9129   7984   8308  11780  13724   3401  \n",
       "1     3028   3192   4333   4108   4115   6301   7305   1749  \n",
       "2    34963  36117  52746  45586  56631  73252  71293  15813  \n",
       "3     1677   1584   2163   1867   1932   2901   3025    583  \n",
       "4      629    701    945    807    923   1173   1309    265  "
      ]
     },
     "execution_count": 42,
     "metadata": {},
     "output_type": "execute_result"
    }
   ],
   "source": [
    "vis_df = vis_df.rename(columns = {'서울특별시':'서울', '인천광역시':'인천', '경기도':'경기', '부산광역시':'부산', '대구광역시':'대구', '광주광역시':'광주', '대전광역시':'대전', '울산광역시':'울산', '세종특별자치시':'세종', '강원도':'강원', \n",
    "                        '충청북도':'충북', '충청남도':'충남', '전라북도':'전북', '전라남도':'전남', '경상북도':'경북', '경상남도':'경남', '제주특별자치도':'제주'})\n",
    "vis_df"
   ]
  },
  {
   "cell_type": "code",
   "execution_count": 43,
   "metadata": {},
   "outputs": [
    {
     "data": {
      "text/plain": [
       "array([16923, 10124, 41981, 9087, 7650, 4806, 4295, 3699, 1054, 6573,\n",
       "       6775, 9129, 7984, 8308, 11780, 13724, 3401], dtype=object)"
      ]
     },
     "execution_count": 43,
     "metadata": {},
     "output_type": "execute_result"
    }
   ],
   "source": [
    "vis_df.iloc[0, 1:].values"
   ]
  },
  {
   "cell_type": "code",
   "execution_count": 44,
   "metadata": {},
   "outputs": [
    {
     "data": {
      "text/plain": [
       "[16923,\n",
       " 10124,\n",
       " 41981,\n",
       " 9087,\n",
       " 7650,\n",
       " 4806,\n",
       " 4295,\n",
       " 3699,\n",
       " 1054,\n",
       " 6573,\n",
       " 6775,\n",
       " 9129,\n",
       " 7984,\n",
       " 8308,\n",
       " 11780,\n",
       " 13724,\n",
       " 3401]"
      ]
     },
     "execution_count": 44,
     "metadata": {},
     "output_type": "execute_result"
    }
   ],
   "source": [
    "list(vis_df.iloc[0, 1:].values)"
   ]
  },
  {
   "cell_type": "code",
   "execution_count": 51,
   "metadata": {},
   "outputs": [
    {
     "data": {
      "text/html": [
       "<svg  width=\"935\" height=\"55\"><rect x=\"0\" y=\"0\" width=\"55\" height=\"55\" style=\"fill:#db5f57;stroke-width:2;stroke:rgb(255,255,255)\"/><rect x=\"55\" y=\"0\" width=\"55\" height=\"55\" style=\"fill:#db8d57;stroke-width:2;stroke:rgb(255,255,255)\"/><rect x=\"110\" y=\"0\" width=\"55\" height=\"55\" style=\"fill:#dbbc57;stroke-width:2;stroke:rgb(255,255,255)\"/><rect x=\"165\" y=\"0\" width=\"55\" height=\"55\" style=\"fill:#ccdb57;stroke-width:2;stroke:rgb(255,255,255)\"/><rect x=\"220\" y=\"0\" width=\"55\" height=\"55\" style=\"fill:#9ddb57;stroke-width:2;stroke:rgb(255,255,255)\"/><rect x=\"275\" y=\"0\" width=\"55\" height=\"55\" style=\"fill:#6edb57;stroke-width:2;stroke:rgb(255,255,255)\"/><rect x=\"330\" y=\"0\" width=\"55\" height=\"55\" style=\"fill:#57db6e;stroke-width:2;stroke:rgb(255,255,255)\"/><rect x=\"385\" y=\"0\" width=\"55\" height=\"55\" style=\"fill:#57db9d;stroke-width:2;stroke:rgb(255,255,255)\"/><rect x=\"440\" y=\"0\" width=\"55\" height=\"55\" style=\"fill:#57dbcc;stroke-width:2;stroke:rgb(255,255,255)\"/><rect x=\"495\" y=\"0\" width=\"55\" height=\"55\" style=\"fill:#57bcdb;stroke-width:2;stroke:rgb(255,255,255)\"/><rect x=\"550\" y=\"0\" width=\"55\" height=\"55\" style=\"fill:#578ddb;stroke-width:2;stroke:rgb(255,255,255)\"/><rect x=\"605\" y=\"0\" width=\"55\" height=\"55\" style=\"fill:#575edb;stroke-width:2;stroke:rgb(255,255,255)\"/><rect x=\"660\" y=\"0\" width=\"55\" height=\"55\" style=\"fill:#7e57db;stroke-width:2;stroke:rgb(255,255,255)\"/><rect x=\"715\" y=\"0\" width=\"55\" height=\"55\" style=\"fill:#ad57db;stroke-width:2;stroke:rgb(255,255,255)\"/><rect x=\"770\" y=\"0\" width=\"55\" height=\"55\" style=\"fill:#db57db;stroke-width:2;stroke:rgb(255,255,255)\"/><rect x=\"825\" y=\"0\" width=\"55\" height=\"55\" style=\"fill:#db57ac;stroke-width:2;stroke:rgb(255,255,255)\"/><rect x=\"880\" y=\"0\" width=\"55\" height=\"55\" style=\"fill:#db577e;stroke-width:2;stroke:rgb(255,255,255)\"/></svg>"
      ],
      "text/plain": [
       "[(0.86, 0.3712, 0.33999999999999997),\n",
       " (0.86, 0.5547294117647059, 0.33999999999999997),\n",
       " (0.86, 0.7382588235294117, 0.33999999999999997),\n",
       " (0.7982117647058823, 0.86, 0.33999999999999997),\n",
       " (0.6146823529411763, 0.86, 0.33999999999999997),\n",
       " (0.4311529411764704, 0.86, 0.33999999999999997),\n",
       " (0.33999999999999997, 0.86, 0.43237647058823525),\n",
       " (0.33999999999999997, 0.86, 0.6159058823529412),\n",
       " (0.33999999999999997, 0.86, 0.7994352941176471),\n",
       " (0.33999999999999997, 0.7370352941176468, 0.86),\n",
       " (0.33999999999999997, 0.553505882352941, 0.86),\n",
       " (0.33999999999999997, 0.369976470588235, 0.86),\n",
       " (0.49355294117647014, 0.33999999999999997, 0.86),\n",
       " (0.677082352941176, 0.33999999999999997, 0.86),\n",
       " (0.86, 0.33999999999999997, 0.8593882352941175),\n",
       " (0.86, 0.33999999999999997, 0.6758588235294114),\n",
       " (0.86, 0.33999999999999997, 0.4923294117647055)]"
      ]
     },
     "execution_count": 51,
     "metadata": {},
     "output_type": "execute_result"
    }
   ],
   "source": [
    "colors = sns.color_palette('hls', 17)\n",
    "colors"
   ]
  },
  {
   "cell_type": "code",
   "execution_count": 53,
   "metadata": {},
   "outputs": [
    {
     "data": {
      "text/plain": [
       "(0.86, 0.3712, 0.33999999999999997)"
      ]
     },
     "execution_count": 53,
     "metadata": {},
     "output_type": "execute_result"
    }
   ],
   "source": [
    "colors[0]"
   ]
  },
  {
   "cell_type": "code",
   "execution_count": 74,
   "metadata": {},
   "outputs": [
    {
     "data": {
      "image/png": "[encoded data removed]",
      "text/plain": [
       "<Figure size 2000x800 with 1 Axes>"
      ]
     },
     "metadata": {},
     "output_type": "display_data"
    }
   ],
   "source": [
    "x = vis_df.columns[1:]\n",
    "# ya = list(vis_df.iloc[0, 1:])\n",
    "# yb = list(vis_df.iloc[1, 1:])\n",
    "# yc = list(vis_df.iloc[2, 1:])\n",
    "# yd = list(vis_df.iloc[3, 1:])\n",
    "# yx = list(vis_df.iloc[4, 1:])\n",
    "labels = ['A', 'B', 'C', 'D', 'X']\n",
    "plt.figure(figsize=(20, 8))\n",
    "plt.title(f'지역별 4등급 {fuel}차 세분류', loc='left', fontdict={'fontsize':20})\n",
    "plt.xticks(fontsize=15)\n",
    "plt.yticks(fontsize=15)\n",
    "for i in range(vis_df.shape[0]):\n",
    "    plt.bar(x, list(vis_df.iloc[i, 1:]), bottom=np.sum(vis_df.iloc[i+1:, 1:]), label=labels[i], alpha=0.7)\n",
    "plt.legend(fontsize=20);"
   ]
  },
  {
   "cell_type": "code",
   "execution_count": 75,
   "metadata": {},
   "outputs": [],
   "source": [
    "vis_df.to_excel(os.path.join(analysis_fold, '통계_4등급_경유차_지역_EG.xlsx'), index=False)"
   ]
  },
  {
   "attachments": {},
   "cell_type": "markdown",
   "metadata": {},
   "source": [
    "#### 4등급 시도별, EG별 차량수"
   ]
  },
  {
   "cell_type": "code",
   "execution_count": 10,
   "metadata": {},
   "outputs": [
    {
     "data": {
      "text/plain": [
       "Index(['차대번호', '차량번호', '제원관리번호', '차종', '용도', '최초등록일', '연식', '제작일자', '검사유효일',\n",
       "       '배출가스인증번호', '등급', '차명', '차종분류', '차종유형', '자동차형식', '제작사명', '연료', '엔진형식',\n",
       "       '총중량', '적재중량', '엔진출력', '배기량', '법정동코드', '시도명', '시군구명', '소유자구분', '말소여부',\n",
       "       '일치유무', '인증번호 수정 유무', '배인번호_수정', '등급_수정', 'DPF유무_수정', '배출가스', '등급2',\n",
       "       'DPF', '비고', 'Grade', '시군구명_수정', 'dong_code', 'E_CO_total',\n",
       "       'E_HC_total', 'E_NOx_total', 'E_PM10_total', 'E_PM2_5_total'],\n",
       "      dtype='object')"
      ]
     },
     "execution_count": 10,
     "metadata": {},
     "output_type": "execute_result"
    }
   ],
   "source": [
    "result.columns"
   ]
  },
  {
   "cell_type": "code",
   "execution_count": 16,
   "metadata": {},
   "outputs": [
    {
     "data": {
      "text/html": [
       "<div>\n",
       "<style scoped>\n",
       "    .dataframe tbody tr th:only-of-type {\n",
       "        vertical-align: middle;\n",
       "    }\n",
       "\n",
       "    .dataframe tbody tr th {\n",
       "        vertical-align: top;\n",
       "    }\n",
       "\n",
       "    .dataframe thead th {\n",
       "        text-align: right;\n",
       "    }\n",
       "</style>\n",
       "<table border=\"1\" class=\"dataframe\">\n",
       "  <thead>\n",
       "    <tr style=\"text-align: right;\">\n",
       "      <th>Grade</th>\n",
       "      <th>시도명</th>\n",
       "      <th>시군구명</th>\n",
       "      <th>A</th>\n",
       "      <th>B</th>\n",
       "      <th>C</th>\n",
       "      <th>D</th>\n",
       "      <th>X</th>\n",
       "      <th>NaN</th>\n",
       "    </tr>\n",
       "  </thead>\n",
       "  <tbody>\n",
       "    <tr>\n",
       "      <th>0</th>\n",
       "      <td>강원도</td>\n",
       "      <td>강릉시</td>\n",
       "      <td>1060.00</td>\n",
       "      <td>1443.00</td>\n",
       "      <td>4221.00</td>\n",
       "      <td>213.00</td>\n",
       "      <td>127.00</td>\n",
       "      <td>21.00</td>\n",
       "    </tr>\n",
       "    <tr>\n",
       "      <th>1</th>\n",
       "      <td>강원도</td>\n",
       "      <td>고성군</td>\n",
       "      <td>155.00</td>\n",
       "      <td>300.00</td>\n",
       "      <td>898.00</td>\n",
       "      <td>34.00</td>\n",
       "      <td>12.00</td>\n",
       "      <td>NaN</td>\n",
       "    </tr>\n",
       "    <tr>\n",
       "      <th>2</th>\n",
       "      <td>강원도</td>\n",
       "      <td>동해시</td>\n",
       "      <td>459.00</td>\n",
       "      <td>793.00</td>\n",
       "      <td>1824.00</td>\n",
       "      <td>111.00</td>\n",
       "      <td>53.00</td>\n",
       "      <td>7.00</td>\n",
       "    </tr>\n",
       "    <tr>\n",
       "      <th>3</th>\n",
       "      <td>강원도</td>\n",
       "      <td>삼척시</td>\n",
       "      <td>354.00</td>\n",
       "      <td>419.00</td>\n",
       "      <td>1582.00</td>\n",
       "      <td>75.00</td>\n",
       "      <td>46.00</td>\n",
       "      <td>6.00</td>\n",
       "    </tr>\n",
       "    <tr>\n",
       "      <th>4</th>\n",
       "      <td>강원도</td>\n",
       "      <td>속초시</td>\n",
       "      <td>298.00</td>\n",
       "      <td>636.00</td>\n",
       "      <td>1407.00</td>\n",
       "      <td>79.00</td>\n",
       "      <td>53.00</td>\n",
       "      <td>5.00</td>\n",
       "    </tr>\n",
       "    <tr>\n",
       "      <th>...</th>\n",
       "      <td>...</td>\n",
       "      <td>...</td>\n",
       "      <td>...</td>\n",
       "      <td>...</td>\n",
       "      <td>...</td>\n",
       "      <td>...</td>\n",
       "      <td>...</td>\n",
       "      <td>...</td>\n",
       "    </tr>\n",
       "    <tr>\n",
       "      <th>251</th>\n",
       "      <td>충청북도</td>\n",
       "      <td>청주시 상당구</td>\n",
       "      <td>831.00</td>\n",
       "      <td>1407.00</td>\n",
       "      <td>3440.00</td>\n",
       "      <td>160.00</td>\n",
       "      <td>106.00</td>\n",
       "      <td>23.00</td>\n",
       "    </tr>\n",
       "    <tr>\n",
       "      <th>252</th>\n",
       "      <td>충청북도</td>\n",
       "      <td>청주시 서원구</td>\n",
       "      <td>869.00</td>\n",
       "      <td>1415.00</td>\n",
       "      <td>3035.00</td>\n",
       "      <td>173.00</td>\n",
       "      <td>130.00</td>\n",
       "      <td>9.00</td>\n",
       "    </tr>\n",
       "    <tr>\n",
       "      <th>253</th>\n",
       "      <td>충청북도</td>\n",
       "      <td>청주시 청원구</td>\n",
       "      <td>936.00</td>\n",
       "      <td>1652.00</td>\n",
       "      <td>3655.00</td>\n",
       "      <td>181.00</td>\n",
       "      <td>134.00</td>\n",
       "      <td>13.00</td>\n",
       "    </tr>\n",
       "    <tr>\n",
       "      <th>254</th>\n",
       "      <td>충청북도</td>\n",
       "      <td>청주시 흥덕구</td>\n",
       "      <td>1139.00</td>\n",
       "      <td>1881.00</td>\n",
       "      <td>4383.00</td>\n",
       "      <td>198.00</td>\n",
       "      <td>162.00</td>\n",
       "      <td>21.00</td>\n",
       "    </tr>\n",
       "    <tr>\n",
       "      <th>255</th>\n",
       "      <td>충청북도</td>\n",
       "      <td>충주시</td>\n",
       "      <td>1077.00</td>\n",
       "      <td>1843.00</td>\n",
       "      <td>4999.00</td>\n",
       "      <td>218.00</td>\n",
       "      <td>145.00</td>\n",
       "      <td>19.00</td>\n",
       "    </tr>\n",
       "  </tbody>\n",
       "</table>\n",
       "<p>256 rows × 8 columns</p>\n",
       "</div>"
      ],
      "text/plain": [
       "Grade   시도명     시군구명       A       B       C      D      X   NaN\n",
       "0       강원도      강릉시 1060.00 1443.00 4221.00 213.00 127.00 21.00\n",
       "1       강원도      고성군  155.00  300.00  898.00  34.00  12.00   NaN\n",
       "2       강원도      동해시  459.00  793.00 1824.00 111.00  53.00  7.00\n",
       "3       강원도      삼척시  354.00  419.00 1582.00  75.00  46.00  6.00\n",
       "4       강원도      속초시  298.00  636.00 1407.00  79.00  53.00  5.00\n",
       "..      ...      ...     ...     ...     ...    ...    ...   ...\n",
       "251    충청북도  청주시 상당구  831.00 1407.00 3440.00 160.00 106.00 23.00\n",
       "252    충청북도  청주시 서원구  869.00 1415.00 3035.00 173.00 130.00  9.00\n",
       "253    충청북도  청주시 청원구  936.00 1652.00 3655.00 181.00 134.00 13.00\n",
       "254    충청북도  청주시 흥덕구 1139.00 1881.00 4383.00 198.00 162.00 21.00\n",
       "255    충청북도      충주시 1077.00 1843.00 4999.00 218.00 145.00 19.00\n",
       "\n",
       "[256 rows x 8 columns]"
      ]
     },
     "execution_count": 16,
     "metadata": {},
     "output_type": "execute_result"
    }
   ],
   "source": [
    "vis_df2 = result.groupby(['시도명', '시군구명', 'Grade'], dropna=False)['차대번호'].count().unstack().reset_index()\n",
    "vis_df2"
   ]
  },
  {
   "cell_type": "code",
   "execution_count": 17,
   "metadata": {},
   "outputs": [],
   "source": [
    "vis_df2.to_excel(os.path.join(analysis_fold, '통계_4등급_시도_시구군_EG별_차량현황.xlsx'), index=False)"
   ]
  },
  {
   "attachments": {},
   "cell_type": "markdown",
   "metadata": {},
   "source": [
    "## [출력] EG 통계"
   ]
  },
  {
   "cell_type": "code",
   "execution_count": 80,
   "metadata": {},
   "outputs": [
    {
     "data": {
      "text/plain": [
       "'D:/data/big2/BD1/an'"
      ]
     },
     "execution_count": 80,
     "metadata": {},
     "output_type": "execute_result"
    }
   ],
   "source": [
    "analysis_fold"
   ]
  },
  {
   "cell_type": "code",
   "execution_count": 81,
   "metadata": {},
   "outputs": [
    {
     "data": {
      "text/plain": [
       "'2023.04.18_PM.03.21.33'"
      ]
     },
     "execution_count": 81,
     "metadata": {},
     "output_type": "execute_result"
    }
   ],
   "source": [
    "today_date = datetime.today().strftime(\"%Y.%m.%d_%p.%I.%M.%S\")\n",
    "today_date"
   ]
  },
  {
   "cell_type": "code",
   "execution_count": 82,
   "metadata": {},
   "outputs": [],
   "source": [
    "with pd.ExcelWriter(os.path.join(analysis_fold, f'G4_통계_EG_{today_date}.xlsx')) as writer:\n",
    "    num_by_fuel.to_excel(writer, sheet_name='연료별', index=False)\n",
    "    num_by_grade.to_excel(writer, sheet_name='등급별')\n",
    "    num_by_grade_by_local.to_excel(writer, sheet_name='지역별')"
   ]
  },
  {
   "attachments": {},
   "cell_type": "markdown",
   "metadata": {},
   "source": [
    "## [출력] 지역별 샘플"
   ]
  },
  {
   "cell_type": "code",
   "execution_count": 54,
   "metadata": {},
   "outputs": [
    {
     "data": {
      "text/plain": [
       "Index(['차대번호', '차량번호', '제원관리번호', '차종', '용도', '최초등록일', '연식', '제작일자', '검사유효일',\n",
       "       '배출가스인증번호', '등급', '차명', '차종분류', '차종유형', '자동차형식', '제작사명', '연료', '엔진형식',\n",
       "       '총중량', '적재중량', '엔진출력', '배기량', '법정동코드', '시도명', '시군구명', '소유자구분', '말소여부',\n",
       "       '일치유무', '배인번호_수정', '등급_수정', 'DPF유무_수정', 'fuel', 'Grade'],\n",
       "      dtype='object')"
      ]
     },
     "execution_count": 54,
     "metadata": {},
     "output_type": "execute_result"
    }
   ],
   "source": [
    "df.columns"
   ]
  },
  {
   "cell_type": "code",
   "execution_count": 55,
   "metadata": {},
   "outputs": [
    {
     "data": {
      "text/html": [
       "<div>\n",
       "<style scoped>\n",
       "    .dataframe tbody tr th:only-of-type {\n",
       "        vertical-align: middle;\n",
       "    }\n",
       "\n",
       "    .dataframe tbody tr th {\n",
       "        vertical-align: top;\n",
       "    }\n",
       "\n",
       "    .dataframe thead th {\n",
       "        text-align: right;\n",
       "    }\n",
       "</style>\n",
       "<table border=\"1\" class=\"dataframe\">\n",
       "  <thead>\n",
       "    <tr style=\"text-align: right;\">\n",
       "      <th></th>\n",
       "      <th>법정동코드</th>\n",
       "      <th>시도명</th>\n",
       "      <th>시군구명</th>\n",
       "      <th>Grade</th>\n",
       "      <th>차량번호</th>\n",
       "      <th>DPF유무_수정</th>\n",
       "      <th>연식</th>\n",
       "    </tr>\n",
       "  </thead>\n",
       "  <tbody>\n",
       "    <tr>\n",
       "      <th>0</th>\n",
       "      <td>3017011600</td>\n",
       "      <td>대전광역시</td>\n",
       "      <td>서구</td>\n",
       "      <td>D</td>\n",
       "      <td>21로7811</td>\n",
       "      <td>무</td>\n",
       "      <td>2006</td>\n",
       "    </tr>\n",
       "    <tr>\n",
       "      <th>1</th>\n",
       "      <td>2635010700</td>\n",
       "      <td>부산광역시</td>\n",
       "      <td>해운대구</td>\n",
       "      <td>D</td>\n",
       "      <td>23거2347</td>\n",
       "      <td>무</td>\n",
       "      <td>2006</td>\n",
       "    </tr>\n",
       "    <tr>\n",
       "      <th>2</th>\n",
       "      <td>4148012200</td>\n",
       "      <td>경기도</td>\n",
       "      <td>파주시</td>\n",
       "      <td>D</td>\n",
       "      <td>04어9316</td>\n",
       "      <td>무</td>\n",
       "      <td>2006</td>\n",
       "    </tr>\n",
       "    <tr>\n",
       "      <th>3</th>\n",
       "      <td>2623010900</td>\n",
       "      <td>부산광역시</td>\n",
       "      <td>부산진구</td>\n",
       "      <td>D</td>\n",
       "      <td>14우2622</td>\n",
       "      <td>무</td>\n",
       "      <td>2006</td>\n",
       "    </tr>\n",
       "    <tr>\n",
       "      <th>4</th>\n",
       "      <td>5013010300</td>\n",
       "      <td>제주특별자치도</td>\n",
       "      <td>서귀포시</td>\n",
       "      <td>D</td>\n",
       "      <td>07머3269</td>\n",
       "      <td>무</td>\n",
       "      <td>2006</td>\n",
       "    </tr>\n",
       "    <tr>\n",
       "      <th>5</th>\n",
       "      <td>4150031021</td>\n",
       "      <td>경기도</td>\n",
       "      <td>이천시</td>\n",
       "      <td>D</td>\n",
       "      <td>58거7827</td>\n",
       "      <td>무</td>\n",
       "      <td>2006</td>\n",
       "    </tr>\n",
       "    <tr>\n",
       "      <th>6</th>\n",
       "      <td>4817012100</td>\n",
       "      <td>경상남도</td>\n",
       "      <td>진주시</td>\n",
       "      <td>D</td>\n",
       "      <td>64보3244</td>\n",
       "      <td>무</td>\n",
       "      <td>2006</td>\n",
       "    </tr>\n",
       "    <tr>\n",
       "      <th>7</th>\n",
       "      <td>4167025035</td>\n",
       "      <td>경기도</td>\n",
       "      <td>여주시</td>\n",
       "      <td>D</td>\n",
       "      <td>69가2031</td>\n",
       "      <td>무</td>\n",
       "      <td>2006</td>\n",
       "    </tr>\n",
       "    <tr>\n",
       "      <th>8</th>\n",
       "      <td>4213010300</td>\n",
       "      <td>강원도</td>\n",
       "      <td>원주시</td>\n",
       "      <td>D</td>\n",
       "      <td>06주6090</td>\n",
       "      <td>무</td>\n",
       "      <td>2006</td>\n",
       "    </tr>\n",
       "    <tr>\n",
       "      <th>9</th>\n",
       "      <td>4684035021</td>\n",
       "      <td>전라남도</td>\n",
       "      <td>무안군</td>\n",
       "      <td>D</td>\n",
       "      <td>32어5631</td>\n",
       "      <td>무</td>\n",
       "      <td>2006</td>\n",
       "    </tr>\n",
       "  </tbody>\n",
       "</table>\n",
       "</div>"
      ],
      "text/plain": [
       "        법정동코드      시도명  시군구명 Grade     차량번호 DPF유무_수정    연식\n",
       "0  3017011600    대전광역시    서구     D  21로7811        무  2006\n",
       "1  2635010700    부산광역시  해운대구     D  23거2347        무  2006\n",
       "2  4148012200      경기도   파주시     D  04어9316        무  2006\n",
       "3  2623010900    부산광역시  부산진구     D  14우2622        무  2006\n",
       "4  5013010300  제주특별자치도  서귀포시     D  07머3269        무  2006\n",
       "5  4150031021      경기도   이천시     D  58거7827        무  2006\n",
       "6  4817012100     경상남도   진주시     D  64보3244        무  2006\n",
       "7  4167025035      경기도   여주시     D  69가2031        무  2006\n",
       "8  4213010300      강원도   원주시     D  06주6090        무  2006\n",
       "9  4684035021     전라남도   무안군     D  32어5631        무  2006"
      ]
     },
     "execution_count": 55,
     "metadata": {},
     "output_type": "execute_result"
    }
   ],
   "source": [
    "df[['법정동코드', '시도명', '시군구명', 'Grade', '차량번호', 'DPF유무_수정', '연식']].head(10)"
   ]
  },
  {
   "cell_type": "code",
   "execution_count": 74,
   "metadata": {},
   "outputs": [],
   "source": [
    "# df[['법정동코드', '시도명', '시군구명', 'Grade', '차량번호', 'DPF유무_수정', '연식']].head(10).to_excel(os.path.join(analysis_fold, f'샘플_법정동코드_지역_{today_date}.xlsx'), index=False)"
   ]
  },
  {
   "cell_type": "code",
   "execution_count": 56,
   "metadata": {},
   "outputs": [
    {
     "data": {
      "text/plain": [
       "시도명   시군구명  Grade  DPF유무_수정\n",
       "강원도   강릉시   A      유            928\n",
       "                   NaN          117\n",
       "            B      유            459\n",
       "                   NaN          981\n",
       "            C      무           4221\n",
       "                               ... \n",
       "충청북도  충주시   B      NaN         1425\n",
       "            C      무           4999\n",
       "            D      무            218\n",
       "            X      확인불가         103\n",
       "                   NaN           49\n",
       "Name: 차대번호, Length: 2006, dtype: int64"
      ]
     },
     "execution_count": 56,
     "metadata": {},
     "output_type": "execute_result"
    }
   ],
   "source": [
    "df.groupby(['시도명', '시군구명', 'Grade', 'DPF유무_수정'], dropna=False)['차대번호'].count()"
   ]
  },
  {
   "attachments": {},
   "cell_type": "markdown",
   "metadata": {},
   "source": [
    "# 배인번호 HB 포함한 샘플 출력"
   ]
  },
  {
   "cell_type": "code",
   "execution_count": 108,
   "metadata": {},
   "outputs": [
    {
     "data": {
      "text/plain": [
       "Index(['차대번호', '차량번호', '제원관리번호', '차종', '용도', '최초등록일', '연식', '제작일자', '검사유효일',\n",
       "       '배출가스인증번호', '등급', '차명', '차종분류', '차종유형', '자동차형식', '제작사명', '연료', '엔진형식',\n",
       "       '총중량', '적재중량', '엔진출력', '배기량', '법정동코드', '시도명', '시군구명', '소유자구분', '말소여부',\n",
       "       '일치유무', '배인번호_수정', '등급_수정', 'DPF유무_수정', 'Grade'],\n",
       "      dtype='object')"
      ]
     },
     "execution_count": 108,
     "metadata": {},
     "output_type": "execute_result"
    }
   ],
   "source": [
    "df1.columns"
   ]
  },
  {
   "cell_type": "code",
   "execution_count": 114,
   "metadata": {},
   "outputs": [],
   "source": [
    "hb = df1.copy()"
   ]
  },
  {
   "cell_type": "code",
   "execution_count": 115,
   "metadata": {},
   "outputs": [],
   "source": [
    "hb['배출가스인증번호'] = hb['배출가스인증번호'].astype('str')\n",
    "hb['배인번호_수정'] = hb['배인번호_수정'].astype('str')"
   ]
  },
  {
   "cell_type": "code",
   "execution_count": 116,
   "metadata": {},
   "outputs": [
    {
     "data": {
      "text/plain": [
       "(2672, 32)"
      ]
     },
     "execution_count": 116,
     "metadata": {},
     "output_type": "execute_result"
    }
   ],
   "source": [
    "temp = hb.loc[hb['배인번호_수정'].str.contains('HB')].reset_index(drop=True)\n",
    "temp.shape"
   ]
  },
  {
   "attachments": {},
   "cell_type": "markdown",
   "metadata": {},
   "source": [
    "## [출력] 샘플"
   ]
  },
  {
   "cell_type": "code",
   "execution_count": 117,
   "metadata": {},
   "outputs": [],
   "source": [
    "# about 1.5s\n",
    "temp.to_excel(os.path.join(raw_fold, '샘플_배인번호_수정에_HB포함.xlsx'), index=False)"
   ]
  },
  {
   "attachments": {},
   "cell_type": "markdown",
   "metadata": {},
   "source": [
    "# 코드 마지막"
   ]
  }
 ],
 "metadata": {
  "kernelspec": {
   "display_name": "base",
   "language": "python",
   "name": "python3"
  },
  "language_info": {
   "codemirror_mode": {
    "name": "ipython",
    "version": 3
   },
   "file_extension": ".py",
   "mimetype": "text/x-python",
   "name": "python",
   "nbconvert_exporter": "python",
   "pygments_lexer": "ipython3",
   "version": "3.9.13"
  },
  "orig_nbformat": 4,
  "vscode": {
   "interpreter": {
    "hash": "ad2bdc8ecc057115af97d19610ffacc2b4e99fae6737bb82f5d7fb13d2f2c186"
   }
  }
 },
 "nbformat": 4,
 "nbformat_minor": 2
}
