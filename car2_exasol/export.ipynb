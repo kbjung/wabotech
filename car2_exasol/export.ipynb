{
 "cells": [
  {
   "cell_type": "markdown",
   "id": "5c092f22-4f5e-43cf-a6b6-419de79303d9",
   "metadata": {},
   "source": [
    "# Library"
   ]
  },
  {
   "cell_type": "code",
   "execution_count": 1,
   "id": "5785fbb2-bb58-4dfc-92fb-93f37fe1f2ba",
   "metadata": {
    "tags": []
   },
   "outputs": [],
   "source": [
    "import pandas as pd\n",
    "import pyexasol\n",
    "from tqdm import tqdm"
   ]
  },
  {
   "cell_type": "markdown",
   "id": "0a24ab93-9416-4fad-9858-1f081abdb9b3",
   "metadata": {
    "tags": []
   },
   "source": [
    "# insider db"
   ]
  },
  {
   "cell_type": "code",
   "execution_count": 2,
   "id": "e07dcf0d-0bea-4b22-b2c7-1616fbba2902",
   "metadata": {
    "tags": []
   },
   "outputs": [],
   "source": [
    "wd = pyexasol.connect(dsn='172.29.135.35/F99FAB2444F86051A9A467F6313FAAB48AF7C4760663430958E3B89A9DC53361:8563', user='sys', password='exasol', compression=True, schema='VSYSD')\n",
    "we = pyexasol.connect(dsn='172.29.135.35/F99FAB2444F86051A9A467F6313FAAB48AF7C4760663430958E3B89A9DC53361:8563', user='sys', password='exasol', compression=True, schema='VSYSE')"
   ]
  },
  {
   "cell_type": "code",
   "execution_count": 6,
   "id": "8d954573-8ecb-4e79-9d0b-1f028db9ce59",
   "metadata": {
    "tags": []
   },
   "outputs": [
    {
     "data": {
      "text/plain": [
       "50"
      ]
     },
     "execution_count": 6,
     "metadata": {},
     "output_type": "execute_result"
    }
   ],
   "source": [
    "table_list = ['STD_BD_CAR_CURSTT', 'STD_BD_CAR_CURSTT_MOD', 'STD_BD_CAR_CURSTT_MOD2', 'STD_BD_CAR_CURSTT_MOD2_4RD_INS', 'STD_BD_CAR_CURSTT_MOD_4RD_INS', 'STD_BD_CAR_PRET', 'STD_BD_CAR_REG_MKCNT', 'STD_BD_DAT_FUEL_CAR_DEC', \n",
    "              'STD_BD_DAT_GRD4_CAR_CURSTT', 'STD_BD_DAT_GRD4_CERT_NO_RVW', 'STD_BD_DAT_GRD4_DTL_INFO', 'STD_BD_DAT_GRD4_EXHST_MASS_CURSTT', 'STD_BD_DAT_GRD4_EXHST_MSS_CURSTT', 'STD_BD_DAT_GRD4_MEVLU', 'STD_BD_DAT_GRD4_MLSFC', \n",
    "              'STD_BD_DAT_GRD4_SI', 'STD_BD_DAT_GRD5_REDUC_BIZ', 'STD_BD_DAT_GRD_CURSTT', 'STD_BD_DAT_LEM_SELCT', 'STD_BD_DAT_RUN_LMT_CURSTT', 'STD_BD_DAT_SELCT_PNT_CURSTT', 'STD_BD_ECO_CAR_PRET', 'STD_BD_ERSR_RSLT', \n",
    "              'STD_BD_FUEL_GRD_VHCL_CURSTT_PRET', 'STD_BD_GRD4_CAR_CURSTT', 'STD_BD_GRD4_CAR_CURSTT_TOT', 'STD_BD_GRD4_DS_CRRLTN_CFFCNT', 'STD_BD_GRD4_ELPDSRC_CURSTT', 'STD_BD_GRD4_EXHST_GAS_MSS', 'STD_BD_GRD4_EXHST_GAS_MSS_TOT', \n",
    "              'STD_BD_GRD4_LEM_PRIO_ORD_SELCT_CURSTT', 'STD_BD_GRD4_MLSFC_RSLT', 'STD_BD_GRD4_RESULT', 'STD_BD_GRD4_RGN_CURSTT', 'STD_BD_GRD4_RGN_CURSTT_MOD', 'STD_BD_GRD4_SI', 'STD_BD_GRD5_DS_CRRLTN_CFFCNT', 'STD_BD_GRD5_ELPDSRC', \n",
    "              'STD_BD_GRD5_ELPDSRC_CURSTT', 'STD_BD_GRD5_LEM_N', 'STD_BD_GRD5_LEM_N_MOD', 'STD_BD_GRD5_LEM_PRIO_ORD_SELCT_CURSTT', 'STD_BD_GRD5_LMT_NOCS', 'STD_BD_HYBRD_CAR_PRET', 'STD_BD_KOSIS', 'STD_BD_ORDITM_DSCL_CURSTT', \n",
    "              'STD_BD_SEASON_CRDN_NOCS_CURSTT', 'STD_BD_SEASON_DSCL_RGN_CURSTT', 'STD_BD_SEASON_DY_AVRG_CRDN_NOCS', 'STD_BD_TB_MAPDATA']\n",
    "len(table_list)"
   ]
  },
  {
   "cell_type": "code",
   "execution_count": 7,
   "id": "6befe293-c7cb-4b1e-9c0f-7d5075dd7900",
   "metadata": {
    "tags": []
   },
   "outputs": [
    {
     "data": {
      "text/plain": [
       "50"
      ]
     },
     "execution_count": 7,
     "metadata": {},
     "output_type": "execute_result"
    }
   ],
   "source": [
    "len(set(table_list))"
   ]
  },
  {
   "cell_type": "markdown",
   "id": "2f661ba7-9597-4275-a486-24e2c48491fe",
   "metadata": {},
   "source": [
    "# file export"
   ]
  },
  {
   "cell_type": "code",
   "execution_count": 9,
   "id": "d412f5cd-308d-431e-a1a9-b77e46f1f75f",
   "metadata": {
    "tags": []
   },
   "outputs": [
    {
     "name": "stderr",
     "output_type": "stream",
     "text": [
      "  0%|          | 0/50 [00:00<?, ?it/s]/home/svradm/miniconda3/lib/python3.8/site-packages/pyexasol/callback.py:42: DtypeWarning: Columns (7) have mixed types. Specify dtype option on import or set low_memory=False.\n",
      "  return pandas.read_csv(pipe, skip_blank_lines=False, **kwargs)\n",
      "  2%|▏         | 1/50 [03:38<2:58:11, 218.20s/it]"
     ]
    },
    {
     "name": "stdout",
     "output_type": "stream",
     "text": [
      "STD_BD_CAR_CURSTT.csv 출력완료\n"
     ]
    },
    {
     "name": "stderr",
     "output_type": "stream",
     "text": [
      "  4%|▍         | 2/50 [03:40<1:12:55, 91.16s/it] "
     ]
    },
    {
     "name": "stdout",
     "output_type": "stream",
     "text": [
      "STD_BD_CAR_CURSTT_MOD.csv 출력완료\n"
     ]
    },
    {
     "name": "stderr",
     "output_type": "stream",
     "text": [
      "  6%|▌         | 3/50 [03:41<39:12, 50.05s/it]  "
     ]
    },
    {
     "name": "stdout",
     "output_type": "stream",
     "text": [
      "STD_BD_CAR_CURSTT_MOD2.csv 출력완료\n"
     ]
    },
    {
     "name": "stderr",
     "output_type": "stream",
     "text": [
      "  8%|▊         | 4/50 [03:42<23:34, 30.75s/it]"
     ]
    },
    {
     "name": "stdout",
     "output_type": "stream",
     "text": [
      "STD_BD_CAR_CURSTT_MOD2_4RD_INS.csv 출력완료\n"
     ]
    },
    {
     "name": "stderr",
     "output_type": "stream",
     "text": [
      " 10%|█         | 5/50 [03:43<15:02, 20.05s/it]"
     ]
    },
    {
     "name": "stdout",
     "output_type": "stream",
     "text": [
      "STD_BD_CAR_CURSTT_MOD_4RD_INS.csv 출력완료\n"
     ]
    },
    {
     "name": "stderr",
     "output_type": "stream",
     "text": [
      " 12%|█▏        | 6/50 [03:44<09:58, 13.59s/it]"
     ]
    },
    {
     "name": "stdout",
     "output_type": "stream",
     "text": [
      "STD_BD_CAR_PRET.csv 출력완료\n"
     ]
    },
    {
     "name": "stderr",
     "output_type": "stream",
     "text": [
      " 14%|█▍        | 7/50 [03:45<06:49,  9.52s/it]"
     ]
    },
    {
     "name": "stdout",
     "output_type": "stream",
     "text": [
      "STD_BD_CAR_REG_MKCNT.csv 출력완료\n"
     ]
    },
    {
     "name": "stderr",
     "output_type": "stream",
     "text": [
      " 16%|█▌        | 8/50 [03:47<04:47,  6.84s/it]"
     ]
    },
    {
     "name": "stdout",
     "output_type": "stream",
     "text": [
      "STD_BD_DAT_FUEL_CAR_DEC.csv 출력완료\n"
     ]
    },
    {
     "name": "stderr",
     "output_type": "stream",
     "text": [
      " 18%|█▊        | 9/50 [03:50<03:52,  5.67s/it]"
     ]
    },
    {
     "name": "stdout",
     "output_type": "stream",
     "text": [
      "STD_BD_DAT_GRD4_CAR_CURSTT.csv 출력완료\n"
     ]
    },
    {
     "name": "stderr",
     "output_type": "stream",
     "text": [
      " 20%|██        | 10/50 [03:51<02:50,  4.26s/it]"
     ]
    },
    {
     "name": "stdout",
     "output_type": "stream",
     "text": [
      "STD_BD_DAT_GRD4_CERT_NO_RVW.csv 출력완료\n"
     ]
    },
    {
     "name": "stderr",
     "output_type": "stream",
     "text": [
      "/home/svradm/miniconda3/lib/python3.8/site-packages/pyexasol/callback.py:42: DtypeWarning: Columns (10,11,13,14) have mixed types. Specify dtype option on import or set low_memory=False.\n",
      "  return pandas.read_csv(pipe, skip_blank_lines=False, **kwargs)\n",
      " 22%|██▏       | 11/50 [04:11<05:55,  9.12s/it]"
     ]
    },
    {
     "name": "stdout",
     "output_type": "stream",
     "text": [
      "STD_BD_DAT_GRD4_DTL_INFO.csv 출력완료\n"
     ]
    },
    {
     "name": "stderr",
     "output_type": "stream",
     "text": [
      " 24%|██▍       | 12/50 [04:12<04:17,  6.78s/it]"
     ]
    },
    {
     "name": "stdout",
     "output_type": "stream",
     "text": [
      "STD_BD_DAT_GRD4_EXHST_MASS_CURSTT.csv 출력완료\n"
     ]
    },
    {
     "name": "stderr",
     "output_type": "stream",
     "text": [
      " 26%|██▌       | 13/50 [04:14<03:09,  5.11s/it]"
     ]
    },
    {
     "name": "stdout",
     "output_type": "stream",
     "text": [
      "STD_BD_DAT_GRD4_EXHST_MSS_CURSTT.csv 출력완료\n"
     ]
    },
    {
     "name": "stderr",
     "output_type": "stream",
     "text": [
      " 28%|██▊       | 14/50 [04:15<02:22,  3.94s/it]"
     ]
    },
    {
     "name": "stdout",
     "output_type": "stream",
     "text": [
      "STD_BD_DAT_GRD4_MEVLU.csv 출력완료\n"
     ]
    },
    {
     "name": "stderr",
     "output_type": "stream",
     "text": [
      " 30%|███       | 15/50 [04:16<01:49,  3.12s/it]"
     ]
    },
    {
     "name": "stdout",
     "output_type": "stream",
     "text": [
      "STD_BD_DAT_GRD4_MLSFC.csv 출력완료\n"
     ]
    },
    {
     "name": "stderr",
     "output_type": "stream",
     "text": [
      " 32%|███▏      | 16/50 [04:17<01:25,  2.52s/it]"
     ]
    },
    {
     "name": "stdout",
     "output_type": "stream",
     "text": [
      "STD_BD_DAT_GRD4_SI.csv 출력완료\n"
     ]
    },
    {
     "name": "stderr",
     "output_type": "stream",
     "text": [
      " 34%|███▍      | 17/50 [04:18<01:08,  2.08s/it]"
     ]
    },
    {
     "name": "stdout",
     "output_type": "stream",
     "text": [
      "STD_BD_DAT_GRD5_REDUC_BIZ.csv 출력완료\n"
     ]
    },
    {
     "name": "stderr",
     "output_type": "stream",
     "text": [
      " 36%|███▌      | 18/50 [04:21<01:12,  2.26s/it]"
     ]
    },
    {
     "name": "stdout",
     "output_type": "stream",
     "text": [
      "STD_BD_DAT_GRD_CURSTT.csv 출력완료\n"
     ]
    },
    {
     "name": "stderr",
     "output_type": "stream",
     "text": [
      " 38%|███▊      | 19/50 [04:22<00:59,  1.91s/it]"
     ]
    },
    {
     "name": "stdout",
     "output_type": "stream",
     "text": [
      "STD_BD_DAT_LEM_SELCT.csv 출력완료\n"
     ]
    },
    {
     "name": "stderr",
     "output_type": "stream",
     "text": [
      " 40%|████      | 20/50 [04:23<00:50,  1.69s/it]"
     ]
    },
    {
     "name": "stdout",
     "output_type": "stream",
     "text": [
      "STD_BD_DAT_RUN_LMT_CURSTT.csv 출력완료\n"
     ]
    },
    {
     "name": "stderr",
     "output_type": "stream",
     "text": [
      " 42%|████▏     | 21/50 [04:24<00:43,  1.51s/it]"
     ]
    },
    {
     "name": "stdout",
     "output_type": "stream",
     "text": [
      "STD_BD_DAT_SELCT_PNT_CURSTT.csv 출력완료\n"
     ]
    },
    {
     "name": "stderr",
     "output_type": "stream",
     "text": [
      " 44%|████▍     | 22/50 [04:25<00:39,  1.40s/it]"
     ]
    },
    {
     "name": "stdout",
     "output_type": "stream",
     "text": [
      "STD_BD_ECO_CAR_PRET.csv 출력완료\n"
     ]
    },
    {
     "name": "stderr",
     "output_type": "stream",
     "text": [
      " 46%|████▌     | 23/50 [04:57<04:44, 10.52s/it]"
     ]
    },
    {
     "name": "stdout",
     "output_type": "stream",
     "text": [
      "STD_BD_ERSR_RSLT.csv 출력완료\n"
     ]
    },
    {
     "name": "stderr",
     "output_type": "stream",
     "text": [
      " 48%|████▊     | 24/50 [04:59<03:21,  7.74s/it]"
     ]
    },
    {
     "name": "stdout",
     "output_type": "stream",
     "text": [
      "STD_BD_FUEL_GRD_VHCL_CURSTT_PRET.csv 출력완료\n"
     ]
    },
    {
     "name": "stderr",
     "output_type": "stream",
     "text": [
      "/home/svradm/miniconda3/lib/python3.8/site-packages/pyexasol/callback.py:42: DtypeWarning: Columns (3,16) have mixed types. Specify dtype option on import or set low_memory=False.\n",
      "  return pandas.read_csv(pipe, skip_blank_lines=False, **kwargs)\n",
      " 50%|█████     | 25/50 [05:22<05:12, 12.50s/it]"
     ]
    },
    {
     "name": "stdout",
     "output_type": "stream",
     "text": [
      "STD_BD_GRD4_CAR_CURSTT.csv 출력완료\n"
     ]
    },
    {
     "name": "stderr",
     "output_type": "stream",
     "text": [
      " 52%|█████▏    | 26/50 [05:23<03:38,  9.11s/it]"
     ]
    },
    {
     "name": "stdout",
     "output_type": "stream",
     "text": [
      "STD_BD_GRD4_CAR_CURSTT_TOT.csv 출력완료\n"
     ]
    },
    {
     "name": "stderr",
     "output_type": "stream",
     "text": [
      " 54%|█████▍    | 27/50 [05:24<02:34,  6.71s/it]"
     ]
    },
    {
     "name": "stdout",
     "output_type": "stream",
     "text": [
      "STD_BD_GRD4_DS_CRRLTN_CFFCNT.csv 출력완료\n"
     ]
    },
    {
     "name": "stderr",
     "output_type": "stream",
     "text": [
      " 56%|█████▌    | 28/50 [05:36<02:59,  8.14s/it]"
     ]
    },
    {
     "name": "stdout",
     "output_type": "stream",
     "text": [
      "STD_BD_GRD4_ELPDSRC_CURSTT.csv 출력완료\n"
     ]
    },
    {
     "name": "stderr",
     "output_type": "stream",
     "text": [
      "/home/svradm/miniconda3/lib/python3.8/site-packages/pyexasol/callback.py:42: DtypeWarning: Columns (4,29) have mixed types. Specify dtype option on import or set low_memory=False.\n",
      "  return pandas.read_csv(pipe, skip_blank_lines=False, **kwargs)\n",
      " 58%|█████▊    | 29/50 [06:31<07:45, 22.16s/it]"
     ]
    },
    {
     "name": "stdout",
     "output_type": "stream",
     "text": [
      "STD_BD_GRD4_EXHST_GAS_MSS.csv 출력완료\n"
     ]
    },
    {
     "name": "stderr",
     "output_type": "stream",
     "text": [
      " 60%|██████    | 30/50 [06:32<05:17, 15.88s/it]"
     ]
    },
    {
     "name": "stdout",
     "output_type": "stream",
     "text": [
      "STD_BD_GRD4_EXHST_GAS_MSS_TOT.csv 출력완료\n"
     ]
    },
    {
     "name": "stderr",
     "output_type": "stream",
     "text": [
      " 62%|██████▏   | 31/50 [06:48<05:04, 16.04s/it]"
     ]
    },
    {
     "name": "stdout",
     "output_type": "stream",
     "text": [
      "STD_BD_GRD4_LEM_PRIO_ORD_SELCT_CURSTT.csv 출력완료\n"
     ]
    },
    {
     "name": "stderr",
     "output_type": "stream",
     "text": [
      "/home/svradm/miniconda3/lib/python3.8/site-packages/pyexasol/callback.py:42: DtypeWarning: Columns (11) have mixed types. Specify dtype option on import or set low_memory=False.\n",
      "  return pandas.read_csv(pipe, skip_blank_lines=False, **kwargs)\n",
      " 64%|██████▍   | 32/50 [07:02<04:37, 15.40s/it]"
     ]
    },
    {
     "name": "stdout",
     "output_type": "stream",
     "text": [
      "STD_BD_GRD4_MLSFC_RSLT.csv 출력완료\n"
     ]
    },
    {
     "name": "stderr",
     "output_type": "stream",
     "text": [
      "/home/svradm/miniconda3/lib/python3.8/site-packages/pyexasol/callback.py:42: DtypeWarning: Columns (18,25,27) have mixed types. Specify dtype option on import or set low_memory=False.\n",
      "  return pandas.read_csv(pipe, skip_blank_lines=False, **kwargs)\n",
      " 66%|██████▌   | 33/50 [07:35<05:52, 20.72s/it]"
     ]
    },
    {
     "name": "stdout",
     "output_type": "stream",
     "text": [
      "STD_BD_GRD4_RESULT.csv 출력완료\n"
     ]
    },
    {
     "name": "stderr",
     "output_type": "stream",
     "text": [
      " 68%|██████▊   | 34/50 [07:37<03:58, 14.88s/it]"
     ]
    },
    {
     "name": "stdout",
     "output_type": "stream",
     "text": [
      "STD_BD_GRD4_RGN_CURSTT.csv 출력완료\n"
     ]
    },
    {
     "name": "stderr",
     "output_type": "stream",
     "text": [
      " 70%|███████   | 35/50 [07:38<02:41, 10.75s/it]"
     ]
    },
    {
     "name": "stdout",
     "output_type": "stream",
     "text": [
      "STD_BD_GRD4_RGN_CURSTT_MOD.csv 출력완료\n"
     ]
    },
    {
     "name": "stderr",
     "output_type": "stream",
     "text": [
      " 72%|███████▏  | 36/50 [07:49<02:30, 10.77s/it]"
     ]
    },
    {
     "name": "stdout",
     "output_type": "stream",
     "text": [
      "STD_BD_GRD4_SI.csv 출력완료\n"
     ]
    },
    {
     "name": "stderr",
     "output_type": "stream",
     "text": [
      " 74%|███████▍  | 37/50 [07:50<01:42,  7.87s/it]"
     ]
    },
    {
     "name": "stdout",
     "output_type": "stream",
     "text": [
      "STD_BD_GRD5_DS_CRRLTN_CFFCNT.csv 출력완료\n"
     ]
    },
    {
     "name": "stderr",
     "output_type": "stream",
     "text": [
      " 76%|███████▌  | 38/50 [07:51<01:10,  5.84s/it]"
     ]
    },
    {
     "name": "stdout",
     "output_type": "stream",
     "text": [
      "STD_BD_GRD5_ELPDSRC.csv 출력완료\n"
     ]
    },
    {
     "name": "stderr",
     "output_type": "stream",
     "text": [
      " 78%|███████▊  | 39/50 [07:52<00:48,  4.40s/it]"
     ]
    },
    {
     "name": "stdout",
     "output_type": "stream",
     "text": [
      "STD_BD_GRD5_ELPDSRC_CURSTT.csv 출력완료\n"
     ]
    },
    {
     "name": "stderr",
     "output_type": "stream",
     "text": [
      " 80%|████████  | 40/50 [07:53<00:34,  3.43s/it]"
     ]
    },
    {
     "name": "stdout",
     "output_type": "stream",
     "text": [
      "STD_BD_GRD5_LEM_N.csv 출력완료\n"
     ]
    },
    {
     "name": "stderr",
     "output_type": "stream",
     "text": [
      " 82%|████████▏ | 41/50 [07:54<00:24,  2.74s/it]"
     ]
    },
    {
     "name": "stdout",
     "output_type": "stream",
     "text": [
      "STD_BD_GRD5_LEM_N_MOD.csv 출력완료\n"
     ]
    },
    {
     "name": "stderr",
     "output_type": "stream",
     "text": [
      "/home/svradm/miniconda3/lib/python3.8/site-packages/pyexasol/callback.py:42: DtypeWarning: Columns (9) have mixed types. Specify dtype option on import or set low_memory=False.\n",
      "  return pandas.read_csv(pipe, skip_blank_lines=False, **kwargs)\n",
      " 84%|████████▍ | 42/50 [08:08<00:49,  6.20s/it]"
     ]
    },
    {
     "name": "stdout",
     "output_type": "stream",
     "text": [
      "STD_BD_GRD5_LEM_PRIO_ORD_SELCT_CURSTT.csv 출력완료\n"
     ]
    },
    {
     "name": "stderr",
     "output_type": "stream",
     "text": [
      " 86%|████████▌ | 43/50 [08:11<00:35,  5.07s/it]"
     ]
    },
    {
     "name": "stdout",
     "output_type": "stream",
     "text": [
      "STD_BD_GRD5_LMT_NOCS.csv 출력완료\n"
     ]
    },
    {
     "name": "stderr",
     "output_type": "stream",
     "text": [
      " 88%|████████▊ | 44/50 [08:12<00:23,  3.88s/it]"
     ]
    },
    {
     "name": "stdout",
     "output_type": "stream",
     "text": [
      "STD_BD_HYBRD_CAR_PRET.csv 출력완료\n"
     ]
    },
    {
     "name": "stderr",
     "output_type": "stream",
     "text": [
      " 90%|█████████ | 45/50 [08:13<00:15,  3.03s/it]"
     ]
    },
    {
     "name": "stdout",
     "output_type": "stream",
     "text": [
      "STD_BD_KOSIS.csv 출력완료\n"
     ]
    },
    {
     "name": "stderr",
     "output_type": "stream",
     "text": [
      " 92%|█████████▏| 46/50 [08:15<00:10,  2.60s/it]"
     ]
    },
    {
     "name": "stdout",
     "output_type": "stream",
     "text": [
      "STD_BD_ORDITM_DSCL_CURSTT.csv 출력완료\n"
     ]
    },
    {
     "name": "stderr",
     "output_type": "stream",
     "text": [
      " 94%|█████████▍| 47/50 [08:22<00:12,  4.01s/it]"
     ]
    },
    {
     "name": "stdout",
     "output_type": "stream",
     "text": [
      "STD_BD_SEASON_CRDN_NOCS_CURSTT.csv 출력완료\n"
     ]
    },
    {
     "name": "stderr",
     "output_type": "stream",
     "text": [
      " 96%|█████████▌| 48/50 [08:30<00:10,  5.12s/it]"
     ]
    },
    {
     "name": "stdout",
     "output_type": "stream",
     "text": [
      "STD_BD_SEASON_DSCL_RGN_CURSTT.csv 출력완료\n"
     ]
    },
    {
     "name": "stderr",
     "output_type": "stream",
     "text": [
      " 98%|█████████▊| 49/50 [08:31<00:03,  3.93s/it]"
     ]
    },
    {
     "name": "stdout",
     "output_type": "stream",
     "text": [
      "STD_BD_SEASON_DY_AVRG_CRDN_NOCS.csv 출력완료\n"
     ]
    },
    {
     "name": "stderr",
     "output_type": "stream",
     "text": [
      "100%|██████████| 50/50 [08:32<00:00, 10.25s/it]"
     ]
    },
    {
     "name": "stdout",
     "output_type": "stream",
     "text": [
      "STD_BD_TB_MAPDATA.csv 출력완료\n"
     ]
    },
    {
     "name": "stderr",
     "output_type": "stream",
     "text": [
      "\n"
     ]
    }
   ],
   "source": [
    "for table_name in tqdm(table_list):\n",
    "    df = we.export_to_pandas(f\"SELECT * from {table_name};\")\n",
    "    df.to_csv(table_name + '.csv', index=False)\n",
    "    print(f'{table_name}.csv 출력완료')"
   ]
  },
  {
   "cell_type": "markdown",
   "id": "b59fc47a-7468-4ec8-99c5-a129fc0c5c5f",
   "metadata": {},
   "source": [
    "# Code End"
   ]
  }
 ],
 "metadata": {
  "kernelspec": {
   "display_name": "Python 3 (ipykernel)",
   "language": "python",
   "name": "python3"
  },
  "language_info": {
   "codemirror_mode": {
    "name": "ipython",
    "version": 3
   },
   "file_extension": ".py",
   "mimetype": "text/x-python",
   "name": "python",
   "nbconvert_exporter": "python",
   "pygments_lexer": "ipython3",
   "version": "3.9.13"
  }
 },
 "nbformat": 4,
 "nbformat_minor": 5
}
