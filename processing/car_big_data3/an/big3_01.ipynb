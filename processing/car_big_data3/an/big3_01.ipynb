{
 "cells": [
  {
   "cell_type": "markdown",
   "metadata": {},
   "source": [
    "# 자동차 환경 빅데이터 3차\n",
    "- 과제2 : 건설기계 배출가스 관리 체게 구축\n",
    "- 과제4 : 배출가스 전문정비제도 관리체계 구축\n",
    "- 과제5 : 자동차 환경 빅데이터 제작사 공동 활용체게 구축"
   ]
  },
  {
   "cell_type": "markdown",
   "metadata": {},
   "source": [
    "# Library"
   ]
  },
  {
   "cell_type": "code",
   "execution_count": 39,
   "metadata": {},
   "outputs": [],
   "source": [
    "import pandas as pd\n",
    "import os\n",
    "import numpy as np\n",
    "from datetime import datetime"
   ]
  },
  {
   "cell_type": "code",
   "execution_count": 6,
   "metadata": {},
   "outputs": [],
   "source": [
    "pd.options.display.float_format = '{:.2f}'.format\n",
    "# pd.reset_option('display.float_format')"
   ]
  },
  {
   "cell_type": "code",
   "execution_count": 200,
   "metadata": {},
   "outputs": [],
   "source": [
    "# 경고문 없애는 코드\n",
    "# UserWarning: Workbook contains no default style, apply openpyxl's default warn(\"Workbook contains no default style, apply openpyxl's default\")\n",
    "import warnings\n",
    "warnings.simplefilter(\"ignore\")"
   ]
  },
  {
   "cell_type": "markdown",
   "metadata": {},
   "source": [
    "# Fold"
   ]
  },
  {
   "cell_type": "code",
   "execution_count": 536,
   "metadata": {},
   "outputs": [
    {
     "data": {
      "text/plain": [
       "{'pub_fold': 'D:/data/processing/big3/raw/public',\n",
       " 'raw_fold': 'D:/data/processing/big3/raw',\n",
       " 'an_fold': 'D:/data/processing/big3/analysis',\n",
       " 'df_fold': 'D:/data/processing/big3/df',\n",
       " 'raw2_fold': 'D:/data/processing/big3/raw/BD2',\n",
       " 'raw4_fold': 'D:/data/processing/big3/raw/BD4',\n",
       " 'raw5_fold': 'D:/data/processing/big3/raw/BD5',\n",
       " 'an2_fold:': 'D:/data/processing/big3/analysis/BD2',\n",
       " 'an4_fold:': 'D:/data/processing/big3/analysis/BD4',\n",
       " 'an5_fold:': 'D:/data/processing/big3/analysis/BD5',\n",
       " 'df2_fold': 'D:/data/processing/big3/df/BD2',\n",
       " 'df4_fold': 'D:/data/processing/big3/df/BD4',\n",
       " 'df5_fold': 'D:/data/processing/big3/df/BD5'}"
      ]
     },
     "execution_count": 536,
     "metadata": {},
     "output_type": "execute_result"
    }
   ],
   "source": [
    "raw_fold = 'D:/data/processing/big3/raw'\n",
    "raw2_fold = 'D:/data/processing/big3/raw/BD2'\n",
    "raw4_fold = 'D:/data/processing/big3/raw/BD4'\n",
    "raw5_fold = 'D:/data/processing/big3/raw/BD5'\n",
    "an_fold = 'D:/data/processing/big3/analysis'\n",
    "an2_fold = 'D:/data/processing/big3/analysis/BD2'\n",
    "an4_fold = 'D:/data/processing/big3/analysis/BD4'\n",
    "an5_fold = 'D:/data/processing/big3/analysis/BD5'\n",
    "df_fold = 'D:/data/processing/big3/df'\n",
    "df2_fold = 'D:/data/processing/big3/df/BD2'\n",
    "df4_fold = 'D:/data/processing/big3/df/BD4'\n",
    "df5_fold = 'D:/data/processing/big3/df/BD5'\n",
    "pub_fold = 'D:/data/processing/big3/raw/public'\n",
    "folds = {'pub_fold':pub_fold, 'raw_fold':raw_fold, 'an_fold':an_fold, 'df_fold':df_fold, \n",
    "         'raw2_fold':raw2_fold, 'raw4_fold':raw4_fold, 'raw5_fold':raw5_fold, \n",
    "         'an2_fold:':an2_fold, 'an4_fold:':an4_fold, 'an5_fold:':an5_fold, \n",
    "         'df2_fold':df2_fold, 'df4_fold':df4_fold, 'df5_fold':df5_fold}\n",
    "folds"
   ]
  },
  {
   "cell_type": "markdown",
   "metadata": {},
   "source": [
    "# EDA\n",
    "+ 과제2\n",
    "    - 건설기계 인증자료\n",
    "    - 건설기계 인증대장\n",
    "+ 과제4\n",
    "    - 자동차전문정비 : STD_TB_ERR_RES\n",
    "    - 자동차전문정비상세 : STD_TB_ERR_RES_DET\n",
    "+ 과제5\n",
    "    - 구조변경검사 : STD_DLM_TB_ERP_GUBUN_BAECHUL"
   ]
  },
  {
   "cell_type": "markdown",
   "metadata": {},
   "source": [
    "## 과제2 > 건설기계 인증자료(12개)"
   ]
  },
  {
   "cell_type": "code",
   "execution_count": 81,
   "metadata": {},
   "outputs": [],
   "source": [
    "def construct_machine_certification_data_load(name, sheet_name=0):\n",
    "    try:\n",
    "        file_name = f'{name}.xlsx'\n",
    "        cert_dt = pd.read_excel(os.path.join(raw2_fold + '/KENCIS 건설기계 인증자료_231018', file_name), sheet_name=sheet_name)\n",
    "        return cert_dt\n",
    "    except:\n",
    "        file_name = f'{name}.xlsx'\n",
    "        cert_dt = pd.read_excel(os.path.join(raw2_fold + '/KENCIS 건설기계 인증자료_231018', file_name))\n",
    "        return cert_dt"
   ]
  },
  {
   "cell_type": "markdown",
   "metadata": {},
   "source": [
    "### 정보 모음"
   ]
  },
  {
   "cell_type": "code",
   "execution_count": 93,
   "metadata": {},
   "outputs": [
    {
     "name": "stdout",
     "output_type": "stream",
     "text": [
      "<class 'pandas.core.frame.DataFrame'>\n",
      "RangeIndex: 649 entries, 0 to 648\n",
      "Data columns (total 7 columns):\n",
      " #   Column  Non-Null Count  Dtype \n",
      "---  ------  --------------  ----- \n",
      " 0   테이블명    12 non-null     object\n",
      " 1   테이블설명   12 non-null     object\n",
      " 2   컬럼명     649 non-null    object\n",
      " 3   컬럼설명    644 non-null    object\n",
      " 4   데이터형식   649 non-null    object\n",
      " 5   길이      499 non-null    object\n",
      " 6   Null    649 non-null    object\n",
      "dtypes: object(7)\n",
      "memory usage: 35.6+ KB\n"
     ]
    }
   ],
   "source": [
    "cols = construct_machine_certification_data_load('KENCIS_건설기계인증정보_테이블명세서', '테이블정의서')\n",
    "cols.info()"
   ]
  },
  {
   "cell_type": "code",
   "execution_count": 94,
   "metadata": {},
   "outputs": [],
   "source": [
    "cols[['테이블명', '테이블설명']] = cols[['테이블명', '테이블설명']].ffill()"
   ]
  },
  {
   "cell_type": "code",
   "execution_count": 199,
   "metadata": {},
   "outputs": [
    {
     "data": {
      "text/plain": [
       "12"
      ]
     },
     "execution_count": 199,
     "metadata": {},
     "output_type": "execute_result"
    }
   ],
   "source": [
    "name_list = [\n",
    "    'UNI_FC_TCMASTER', \n",
    "    'UNI_FC_TCERTIMODI', \n",
    "    'UNI_FC_ENG_TEFSPEC', \n",
    "    'UNI_FC_TEEMISSN', \n",
    "    'UNI_FC_TEEMISSN_ENG_RES', \n",
    "    'UNI_FC_TESTINFO', \n",
    "    'UNI_FC_ENG_LIST', \n",
    "    'UNI_FC_ENDUENG_EMI', \n",
    "    'UNI_FC_ENDUENGTEST', \n",
    "    'UNI_FC_ENDUENGTEST_RES', \n",
    "    'UNI_FC_KIENGTEST', \n",
    "    'UNI_FC_KIENGTEST_RES', \n",
    "    ]\n",
    "len(name_list)"
   ]
  },
  {
   "cell_type": "code",
   "execution_count": 110,
   "metadata": {},
   "outputs": [],
   "source": [
    "cols_dict = {}\n",
    "for t in name_list:\n",
    "    cols_dict[t] = {a:b for a, b in cols.loc[cols['테이블명'] == t, ['컬럼명', '컬럼설명']].values}"
   ]
  },
  {
   "cell_type": "code",
   "execution_count": 111,
   "metadata": {},
   "outputs": [
    {
     "data": {
      "text/plain": [
       "{'UNI_FC_ENDUENG_EMI': {'ADM_NO': '관리번호',\n",
       "  'CERTI_MODI_SNO': '변경인증일련번호',\n",
       "  'CO_GRAD': 'CO기울기',\n",
       "  'CO_YITCT': 'CO Y절편',\n",
       "  'MOD_DATETIME': '수정일시',\n",
       "  'MOD_ID': '수정아이디',\n",
       "  'NMHC_GRAD': 'NMHC기울기',\n",
       "  'NMHC_YITCT': 'NMHC Y절편',\n",
       "  'NOX_GRAD': 'NOX기울기',\n",
       "  'NOX_YITCT': 'NOX Y절편',\n",
       "  'PM_GRAD': 'PM기울기',\n",
       "  'PM_YITCT': 'PM Y절편',\n",
       "  'REG_DATETIME': '등록일시',\n",
       "  'REG_ID': '등록아이디',\n",
       "  'TEST_METHOD_CHK': '시험방법체크값',\n",
       "  'TEST_MOD': '배출가스시험모드',\n",
       "  'TEST_RST_SNO': '시험결과일련번호',\n",
       "  'PN_GRAD': 'PN 기울기',\n",
       "  'PN_YITCT': 'PN Y절편'},\n",
       " 'UNI_FC_ENDUENGTEST': {'ADM_NO': '관리번호',\n",
       "  'CERTI_MODI_SNO': '변경인증일련번호',\n",
       "  'ENG_ID_NO': '대표원동기명(원동기코드)',\n",
       "  'ENG_NO': '원동기 번호',\n",
       "  'ENG_TYPE': '엔진형식',\n",
       "  'MOD_DATETIME': '수정일시',\n",
       "  'MOD_ID': '수정아이디',\n",
       "  'REG_DATETIME': '등록일시',\n",
       "  'REG_ID': '등록아이디',\n",
       "  'TEST_DATE': '시험일',\n",
       "  'TEST_ENG_SNO': '시험원동기일련번호',\n",
       "  'TEST_NO': '시험번호'},\n",
       " 'UNI_FC_ENDUENGTEST_RES': {'ADM_NO': '관리번호',\n",
       "  'CERTI_MODI_SNO': '인증 일련번호',\n",
       "  'P_ENG_YN': '내구대표차원동기여부',\n",
       "  'SEL_ADM_NO': '내구 동일원동기  관리번호',\n",
       "  'TEST_METHOD_CHK': '시험방법체크값',\n",
       "  'TEST_MOD': '시험모드(CVS-75,Highway,US06,SC03,Cold CO...)',\n",
       "  'TEST_RST_SNO': '시험결과일련번호',\n",
       "  'TEST_RST_SNO_SEQ': '시험결과일련번호의항목순번',\n",
       "  'FUEL': '사용연료코드',\n",
       "  'DDC_USE_YN': '지정열화계수 사용유무(사용:1,미사용:0)',\n",
       "  'TEST_CNT': '회차',\n",
       "  'TEST_TIME': '운전시간',\n",
       "  'TEST_PLACE': '시험장소',\n",
       "  'TEST_DATE': '시험일자',\n",
       "  'CO': 'CO',\n",
       "  'NOX': 'NOx',\n",
       "  'PM': 'PM',\n",
       "  'NMHC': 'NMHC',\n",
       "  'REG_ID': '등록아이디',\n",
       "  'REG_DATETIME': '등록일시',\n",
       "  'MOD_ID': '수정아이디',\n",
       "  'MOD_DATETIME': '수정일시',\n",
       "  'PN': 'PN',\n",
       "  'NMHCNOX': 'NMHC+Nox'},\n",
       " 'UNI_FC_ENG_LIST': {'ADM_NO': '관리번호',\n",
       "  'CERTI_MODI_SNO': '변경인증일련번호',\n",
       "  'EF_SNO': '동일차종일련번호',\n",
       "  'ENG_DISPL': '배기량',\n",
       "  'ENG_ID_NO': '대표원동기명(원동기코드)',\n",
       "  'ENG_SNO': '원동기장착일련번호',\n",
       "  'ENG_TYPE': '엔진형식',\n",
       "  'ETC': '기타 정보',\n",
       "  'MAX_PWR_KW': '최대출력kW',\n",
       "  'MAX_PWR_RPM': '최대출력 회전수',\n",
       "  'MOD_DATETIME': '수정일시',\n",
       "  'MOD_ID': '수정아이디',\n",
       "  'MODI_REF_EF_SNO': '변경부모동일원동기번호',\n",
       "  'REG_DATETIME': '등록일시',\n",
       "  'REG_ID': '등록아이디',\n",
       "  'VEH_IN_COM': '수입사',\n",
       "  'VEH_MAKER': '제작사',\n",
       "  'VEH_NM': '차명',\n",
       "  'VEH_PRE_NM': '건설(농)기계 수입사 대표자 성명',\n",
       "  'VEH_TYPE': '자동차형식',\n",
       "  'VEH_TYPE_YN': '인증서 표출 여부'},\n",
       " 'UNI_FC_ENG_TEFSPEC': {'ADM_NO': '관리번호',\n",
       "  'CERTI_MODI_SNO': '변경인증일련번호',\n",
       "  'EF_SNO': '동일원동기일련번호',\n",
       "  'ENG_MAKER': '제작사',\n",
       "  'ENG_TYPE': '원동기 형식',\n",
       "  'ENG_ID_NO': '원동기코드',\n",
       "  'CYCLE': '싸이클(행정)',\n",
       "  'BOAR': '보어(mm)',\n",
       "  'STROKE': '스트로크(mm)',\n",
       "  'CYLIN_CNT': '실린더 개수',\n",
       "  'CYLIN_ARRANGE': '실린더 배치',\n",
       "  'ENG_DISPL': '배기량(㎠)',\n",
       "  'RATED_OUT': '정격출력(kW)',\n",
       "  'RATED_OUT_RPM': '회전속도(rpm)',\n",
       "  'MAX_TORQ': '최대토크(Nm)',\n",
       "  'MAX_TORQ_RPM': '회전속도(rpm)',\n",
       "  'COMP_RATIO': '압축비(오차)',\n",
       "  'COMB_TYPE': '연소방식',\n",
       "  'EXH_MIN_AREA': '흡기 포트의 최소 단면적(㎟)',\n",
       "  'INTAKE_MIN_AREA': '배기 포트의 최소 단면적(㎟)',\n",
       "  'COOL_TYPE': '냉각매체',\n",
       "  'COOLANT_SORT': '냉각수 종류',\n",
       "  'COOLANT_PUMP_YN': '냉각수 공급펌프 적용 여부',\n",
       "  'PUMP_TYPE': '펌프형식',\n",
       "  'PUMP_MAKER': '펌프제작사',\n",
       "  'COOLANT_DRV_RATIO': '수냉식 구동비',\n",
       "  'AIR_BLAST_YN': '공기 송풍장치 적용 여부',\n",
       "  'BLAST_MAKER': '송풍기 제작사',\n",
       "  'BLAST_DRV_RATIO': '공냉식 구동비',\n",
       "  'COOLANT_OUTLET_TEMP': '냉각수 출구온도(K)',\n",
       "  'STD_MAX_TEMP': '기준점에서 최대 온도(K)',\n",
       "  'ITCL_TEMP': '인터출러 전단 온도(K)',\n",
       "  'MAX_INTAKE_TEMP': '최대 배기온도(K)',\n",
       "  'MIN_LUBR_OIL': '최소 윤활유 온도(K)',\n",
       "  'MAX_LUBR_OIL': '최대 윤활유 온도(K)',\n",
       "  'EXH_COMP_YN': '홉기공기 압축장치 적용 여부',\n",
       "  'EXH_COMP_MAKER': '제작사',\n",
       "  'EXH_COMP_TYPE': '형식',\n",
       "  'EXH_COMP_PRESS': '최대 압축압력(kPa)',\n",
       "  'ITCL_YN': '인터쿨러 적용 여부',\n",
       "  'EXH_MAX_SUB_PRESS': '정격출력 회전수(전부하)에서의 최대허용 흡기부압',\n",
       "  'INTAKE_MAX_BACK_PRESS': '정격출력 회전수(전부하)에서의 최대허용 배압',\n",
       "  'CAT_TYPE': '종류',\n",
       "  'CAT_PMETAL_COMP': '귀금속 성분',\n",
       "  'CAT_PMETAL_AMT': '귀금속량(g)',\n",
       "  'CAT_PMETAL_CAPA': '용량(㎤)',\n",
       "  'CAT_PMETAL_RATIO': '귀금속물질비(Pt:PD:Rh)',\n",
       "  'FUEL_DELIV_PUMP_PERF': '연료공급펌프 성능(kPa)',\n",
       "  'FUEL_INJ_MAKER': '제작사',\n",
       "  'FUEL_INJ_TYPE': '형식',\n",
       "  'RATED_OUT_FUEL_AMT': '정격출력 회전수의 최대분사시 싸이클당 연료공급량(㎣)',\n",
       "  'RATED_OUT_FUEL_RPM': '정격출력 회전수의 최대분사시 싸이클당 연료공급량 회전수(rpm)',\n",
       "  'MAX_TORQ_FUEL_AMT': '최대토크 회전수의 최대 분사시 싸이클당 연료공급량(㎣)',\n",
       "  'MAX_TORQ_FUEL_RPM': '최대토크 회전수의 최대 분사시 싸이클당 연료공급량 회전수(rpm)',\n",
       "  'INJ_TNG': '분사시기',\n",
       "  'INJ_PIPING_LENGTH': '인젝션 파이핑 길이(mm)',\n",
       "  'INJ_PIPING_INS_DIA': ' 내경(mm)',\n",
       "  'INJ_MAKER': '인젝터 제작사',\n",
       "  'INJ_TYPE': '인젝터 형식',\n",
       "  'FUEL_INJ_PRESS': '열림압(kPa)',\n",
       "  'GVN_MAKER': '거버너 제작사',\n",
       "  'GVN_TYPE': '거버너 형식',\n",
       "  'GVN_FUEL_CUT_RPM': '거버너 전부하 이하에서 연료차단이 이뤄지는 회전속도(rpm)',\n",
       "  'GVN_UNLOAD_RPM': '거버너 최고 무부하 회전속도(rpm)',\n",
       "  'GVN_IDLE_RPM': '거버너 공회전속도(rpm)',\n",
       "  'COLD_START_MAKER': '제작사',\n",
       "  'COLD_START_TYPE': '형식',\n",
       "  'COLD_START_HEAT_TYPE': '예열방식',\n",
       "  'EXH_VALVE_LIFT': '흡기 밸브 리프트(mm)',\n",
       "  'INTAKE_VALVE_LIFT': '배가 밸브 리프트(mm)',\n",
       "  'EXH_VALVE_OPEN': '흡기밸브 열기',\n",
       "  'EXH_VALVE_CLOSE': '흡기밸브 닫기',\n",
       "  'INTAKE_VALVE_OPEN': '배기밸브 열기',\n",
       "  'INTAKE_VALVE_CLOSE': '배기밸브 닫기',\n",
       "  'COOLFAN_REMOVE_STS': '정격출력-냉각팬 탈거상태',\n",
       "  'IDLE_RPM': '공회전 수',\n",
       "  'IND_CYLIN_DISPL_DIFF': '개별실린더 배기량 차이(%)',\n",
       "  'ENG_ECU_NO': '원동기 ECU No.',\n",
       "  'SW_NO': '소프트웨어 No.',\n",
       "  'COMB_CHAMB_TYPE': '연소실 형식',\n",
       "  'VALVE_PORT_SHAPE': '밸브 및 포트 구성 형상',\n",
       "  'INTK_VALVE_PORT_SIZE': '흡기 밸브 및 포트 크기',\n",
       "  'INTK_VALVE_PORT_CNT': '흡기 밸브 및 포트 개수',\n",
       "  'EXH_VALVE_PORT_SIZE': '배기 밸브 및 포트 크기',\n",
       "  'EXH_VALVE_PORT_CNT': '배기 밸브 및 포트 개수',\n",
       "  'AIR_CG_COOL_YN': '공기 챠저 쿨링 시스템',\n",
       "  'EMIS_CYC_YN': '배기가스재순환장치',\n",
       "  'WATER_INJ_YN': '물 인젝션 장치',\n",
       "  'AIR_INJ_YN': '공기 인젝션 장치',\n",
       "  'EXH_AFTERTREAT': '배기후처리장치(촉매형태)',\n",
       "  'REG_DATETIME': '등록일시',\n",
       "  'REG_ID': '등록아이디',\n",
       "  'MOD_DATETIME': '수정일시',\n",
       "  'MOD_ID': '수정아이디',\n",
       "  'REF_EF_SNO': '부모동일원동기번호',\n",
       "  'PRINT_YN': '출력여부',\n",
       "  'TEMP_CTL_STD': '기준',\n",
       "  'FUEL': nan,\n",
       "  'CERTI_SNO': 'PHP건설기계TCERTIMODI의IDX',\n",
       "  'IDX': 'PHP건설기계TEFSPEC의IDX',\n",
       "  'PHP_EF_SNO': nan,\n",
       "  'PHP_PAR_EF_SNO': nan,\n",
       "  'PHP_P_EFSNO': nan,\n",
       "  'ENG_CAR_GB': '건설기계/농업기계구분',\n",
       "  'AIR_INTK_TYPE': '공기흡입방식',\n",
       "  'MAX_OUTT_POWER': '최대출력동력',\n",
       "  'MAX_OUTT_RPM': '최대출력분당회전수',\n",
       "  'MAX_OUTT_POWER_UNIT': '최대출력동력단위'},\n",
       " 'UNI_FC_KIENGTEST': {'ADM_NO': '관리번호',\n",
       "  'CERTI_MODI_SNO': '변경인증일련번호',\n",
       "  'ENG_ID_NO': '대표원동기명(원동기코드)',\n",
       "  'ENG_NO': '원동기 번호',\n",
       "  'ENG_TYPE': '엔진형식',\n",
       "  'MOD_DATETIME': '수정일시',\n",
       "  'MOD_ID': '수정아이디',\n",
       "  'REG_DATETIME': '등록일시',\n",
       "  'REG_ID': '등록아이디',\n",
       "  'TEST_DATE': '시험일',\n",
       "  'TEST_ENG_SNO': '시험원동기일련번호',\n",
       "  'TEST_NO': '시험번호'},\n",
       " 'UNI_FC_KIENGTEST_RES': {'ADM_NO': '관리번호',\n",
       "  'CERTI_MODI_SNO': '인증 일련번호',\n",
       "  'P_ENG_YN': 'KI대표원동기 여부',\n",
       "  'SEL_ADM_NO': 'KI대표원동기 관리번호',\n",
       "  'TEST_METHOD_CHK': '시험방법체크값',\n",
       "  'TEST_MOD': '시험모드(CVS-75,Highway,US06,SC03,Cold CO...)',\n",
       "  'TEST_RST_SNO': '시험결과일련번호',\n",
       "  'TEST_RST_SNO_SEQ': '시험결과일련번호의항목순번',\n",
       "  'FUEL': '사용연료',\n",
       "  'CO': 'CO',\n",
       "  'NMHC': 'NMHC',\n",
       "  'NOX': 'NOx',\n",
       "  'PM': 'PM',\n",
       "  'REG_ID': '등록아이디',\n",
       "  'REG_DATETIME': '등록일시',\n",
       "  'MOD_ID': '수정아이디',\n",
       "  'MOD_DATETIME': '수정일시',\n",
       "  'NMHCNOX': 'NMHC+Nox',\n",
       "  'PN': '입자상물질개수',\n",
       "  'NH3': '암모니아'},\n",
       " 'UNI_FC_TCERTIMODI': {'CERTI_MODI_SNO': '변경인증일련번호',\n",
       "  'REG_DATETIME': '등록일시',\n",
       "  'CERTI_MODI_DIV': '변경구분(1:변경인증, 2:변경보고)',\n",
       "  'EMIS_NOISE_DIV': '배출소음구분(1:배출 2:소음 3:배출+소음)',\n",
       "  'EMIS_MODI_ITEM': '배출가스 변경인증 변경항목',\n",
       "  'NOISE_MODI_ITEM': '소음 변경인증 변경항목',\n",
       "  'EMIS_MODI_REASON': '배출가스 변경사유',\n",
       "  'NOISE_MODI_REASON': '소음 변경사유',\n",
       "  'MODI_ITEM_ETC': '기타 변경사항',\n",
       "  'RECT_DATE': '접수일',\n",
       "  'APPLI_ID': '신청아이디',\n",
       "  'OFFICER_ID': '담당자 ID',\n",
       "  'MODI_EXPLAIN': '변경하고자 하는 인증내용에 대한 설명',\n",
       "  'EMIS_CHG_EXAM': '인증내용 변경전후의 배출가스변화에 대한 설명',\n",
       "  'NOISE_CHG_EXAM': '인증내용 변경전후의 소음변화에 대한 설명',\n",
       "  'MODIF_PROC_STATE': '변경인증 진행상태',\n",
       "  'CERTI_STATE': '인증진행상태',\n",
       "  'RECEIVE_STATE': '반영 전 데이터',\n",
       "  'CO_STD': 'CO 기준치',\n",
       "  'NOX_STD': 'NOx 허용기준',\n",
       "  'HC_STD': 'HC 기준치',\n",
       "  'HCNOX_STD': 'HCNOX 허용기준',\n",
       "  'EVAP_EMIS_STD': '증발가스 허용기준',\n",
       "  'PM_STD': 'HC PPm 허용기준',\n",
       "  'COLD_CO_STD': 'Cold CO 기준치',\n",
       "  'SMOKE_STD': '매연 허용기준',\n",
       "  'FORMAL_STD': 'FORMAL허용기준',\n",
       "  'IDLE_CO_STD': '아이들링 CO 허용기준',\n",
       "  'HC_PPM_STD': 'HC PPm 허용기준',\n",
       "  'MODI_EXPLAIN_CT': '변경하고자 하는 인증내용에 대한 설명',\n",
       "  'EMIS_CHG_EXAM_CT': '인증내용 변경전후의 배출가스 변화에 대한 설명',\n",
       "  'NOISE_CHG_EXAM_CT': '인증내용 변경전후의 소음 변화에 대한 설명',\n",
       "  'ACCEL_NOISE_STD': '가속주행소음 기준치',\n",
       "  'EXH_NOISE_STD': '배기소음 기준치',\n",
       "  'HORN_NOISE_STD': '경적소음 기준치',\n",
       "  'TEST_NO': '시험번호',\n",
       "  'EMIS_CERTI_DATE': '배출가스인증일 ',\n",
       "  'NOISE_CERTI_DATE': '소음인증일',\n",
       "  'MODI_TITLE': '변경제목',\n",
       "  'MODI_DESC': '변경내용',\n",
       "  'CERTI_STD': '인증허용기준',\n",
       "  'CERTI_STD_DATE': '인증허용일',\n",
       "  'EMIS_WITHD_DATE': '배출인증반납일',\n",
       "  'NOISE_WITHD_DATE': '소음인증반납일',\n",
       "  'ADM_NO': '관리번호',\n",
       "  'OLDCERTI': '과거자료여부',\n",
       "  'CERTI_SNO': 'TCERTIMODI의IDX',\n",
       "  'CR_CO': '인증 CO값',\n",
       "  'CR_CO2': '인증 CO2값',\n",
       "  'CR_COLD_CO': '인증 COLD_CO값',\n",
       "  'CR_EVAP_EMIS': '인증 EVAP_EMIS값',\n",
       "  'CR_HC': '인증 HC값',\n",
       "  'CR_HCNOX': '인증 HCNOX값',\n",
       "  'CR_MILEAGE': '인증 MILEAGE값',\n",
       "  'CR_NOX': '인증 NOX값',\n",
       "  'CR_PM': '인증 PM값',\n",
       "  'CR_PN': '인증 PN값',\n",
       "  'MILEAGE_STD': '허용기준MILEAGE',\n",
       "  'PN_STD': 'PN 허용기준',\n",
       "  'TC_NO': '고유번호',\n",
       "  'OPINION_NOTE': '최종의견',\n",
       "  'BOWAN_NOTE': '보완사항',\n",
       "  'CTEST_NOTE': '확인시험',\n",
       "  'EMIS_DOC': '배출가스인증서교부 공문 내용',\n",
       "  'NOISE_DOC': '소음인증서교부 공문 내용',\n",
       "  'CERTI_DIV': '인증구분(1:국내,2:수입)',\n",
       "  'APPROVAL_YN': '결재여부',\n",
       "  'MGR_ID1': '결재연구관',\n",
       "  'MGR_ID2': '결재연구사',\n",
       "  'APPREGI_DATE': '결재일',\n",
       "  'MAKE_MTRL_NO': '인증신청 작성자료번호',\n",
       "  'EMIS_CANCEL_DATE': '배출가스 인증서 취소 날짜',\n",
       "  'NOISE_CANCEL_DATE': '소음 인증서 취소 날짜',\n",
       "  'SNOTE': '배출가스 인증서 취소 사유',\n",
       "  'SNOTE2': '소음 인증서 취소 사유',\n",
       "  'REG_ID': '등록아이디',\n",
       "  'MOD_ID': '수정아이디',\n",
       "  'MOD_DATETIME': '수정일시',\n",
       "  'STANDARD_SLT': '배출허용기준',\n",
       "  'STANDARD_SLT2': '배출허용기준2',\n",
       "  'ETC_TXT1': '배출가스표지판위치',\n",
       "  'IDX': 'PHP건설기계IDX',\n",
       "  'ETC_TXT3': '최대부압',\n",
       "  'ETC_TXT4': '최대배압',\n",
       "  'EMIS_ROWS_CODE': '배출가스저감기술',\n",
       "  'EMIS_LOWS': '배출가스저감기술코드',\n",
       "  'PHP_CERTY_TYPE': '인증_형태(이전PHP사용컬럼)',\n",
       "  'PHP_REP_TYPE': '접수_형태(이전PHP사용컬럼)',\n",
       "  'PHP_CERTI_STATE': '인증_상태(이전PHP사용컬럼)',\n",
       "  'OLD_EMIS_CERTI_DATE': '과거자료 배출인증일자',\n",
       "  'OLD_NOISE_CERTI_DATE': '과거자료 소음인증일자'},\n",
       " 'UNI_FC_TCMASTER': {'ADM_NO': '관리번호',\n",
       "  'AGREE_SUBMIS': '교정정보 및 사후 확정정보 제출 협약',\n",
       "  'AGREE_SUBMIS_CT': '교정정보 및 사후 확정정보 제출 협약 첨부파일',\n",
       "  'APP_WAR': '보증에 관한 설명',\n",
       "  'APP_WAR_CT': '보증에 관한 설명첨부파일',\n",
       "  'APPLI_ID': '신청아이디',\n",
       "  'APPREGI_DATE': '결재일',\n",
       "  'APPROVAL_YN': '결재여부',\n",
       "  'CERTI_DIV': '인증구분',\n",
       "  'CERTI_INTRO': '인증소개',\n",
       "  'CERTI_INTRO_CT': '인증소개 첨부파일',\n",
       "  'CERTI_STATE': '처분내용',\n",
       "  'CERTI_TYPE': '인증종류',\n",
       "  'CO_DEVT': 'CO 개발목표치',\n",
       "  'CO_OP': '산술기호(1:덧셈 2:곱셈)',\n",
       "  'COLD_CO_DEVT': 'Cold CO 개발목표치',\n",
       "  'COLD_CO_OP': 'Cold CO 연산자',\n",
       "  'CONF_INFO': '기밀사항',\n",
       "  'CONF_INFO_CT': '기밀사항 첨부파일',\n",
       "  'CONF_ISSUE_NO': '발급문서번호',\n",
       "  'DF_CO': 'CO 열화계수',\n",
       "  'DF_COLD_CO': 'HC 열화계수',\n",
       "  'DF_EVAP_EMIS': 'COLD_CO 열화계수',\n",
       "  'DF_HC': 'HC 열화계수',\n",
       "  'DF_HCNOX': 'HCNOX 열화계수',\n",
       "  'DF_MILEAGE': '열화계수 사용량',\n",
       "  'DF_NOX': 'NOX 열화계수',\n",
       "  'DF_PM': 'PM 열화계수',\n",
       "  'DF_PN': 'PN 열화계수',\n",
       "  'DF_SMOKE': 'SMOKE 열화계수',\n",
       "  'DURA_TEST_EF_SNO': '내구성시험 동일차종 일련번호',\n",
       "  'DURA_TEST_REMARK': '내구성테스트 비고',\n",
       "  'DURA_TEST_YN': '내구성시험 실시 여부',\n",
       "  'E_CONFIRM': '결제상태',\n",
       "  'EF_CD': '동일차종기호',\n",
       "  'EF_CD_1': '인증년도',\n",
       "  'EF_CD_2': '차종기호',\n",
       "  'EF_CD_3': '차종기호',\n",
       "  'EF_CD_4': '차종기호',\n",
       "  'EF_CD_5': '차종기호',\n",
       "  'EF_CD_6': '차종기호',\n",
       "  'EF_CD_7': '차종기호',\n",
       "  'EF_CD_8': '차종기호',\n",
       "  'EF_CD_9': '차종기호',\n",
       "  'EF_CNT': '동일차량 대수',\n",
       "  'ELEC_CAR_GB': '전기차 구분 ( N:일반,E:전기차(사용안함),H:하이브리드(사용안함), C:친환경차 )',\n",
       "  'EMIS_CANCEL_DATE': '배출가스 인증서 취소 날짜',\n",
       "  'EMIS_CERTI_DATE': '배출가스인증일 ',\n",
       "  'EMIS_CERTI_NO': '배출인증번호',\n",
       "  'EMIS_CERTI_SNO': '배출가스인증번호',\n",
       "  'EMIS_CTL_INSTALL': '배출가스 방지장치 부착내용',\n",
       "  'EMIS_CTL_INSTALL_E': '배출가스 방지장치 부착내용(영문)',\n",
       "  'EMIS_CTL_LABEL': '배출가스 표시판(Label)',\n",
       "  'EMIS_CTL_LABEL_CT': '배출가스 표시판(Label)첨부파일 ',\n",
       "  'EMIS_CTL_TECH': '배출가스 제어장치',\n",
       "  'EMIS_CTL_TECH_CT': '배출가스 제어장치첨부파일',\n",
       "  'EMIS_NOTE': '배출허용기준',\n",
       "  'EMIS_NOTE2': '변경인증관련비고내용',\n",
       "  'EMIS_OMIT_NO': '배출가스인증생략번호',\n",
       "  'EMIS_STD_NOTE': '배출기준정보',\n",
       "  'EMIS_TEST_EF_SNO': '배출가스시험 동일차종 일련번호',\n",
       "  'EMIS_TEST_REMARK': '배출가스시험차 비고',\n",
       "  'EMIS_VEH_CLASS': '배출가스 차종',\n",
       "  'EMIS_WARRANT': '자동차배출가스 보증에 관한 제작자의 확인서',\n",
       "  'EMIS_WARRANT_CT': '자동차배출가스 보증에 관한 제작자의 확인서첨부파일',\n",
       "  'EMIS_WITHD_DATE': '배출인증반납일',\n",
       "  'END_DATE': 'end_date',\n",
       "  'ENG_CAR_GB': '건설기계/농업기계구분',\n",
       "  'ENG_DRAWOUT_YN': '원동기동력 인출장치 장착여부',\n",
       "  'EV_CTL_INSTALL': '전기제어장치 부착내용',\n",
       "  'EVAP_BLOWBY': '증발가스 및 브로바이가스',\n",
       "  'EVAP_BLOWBY_CT': '증발가스 및 브로바이가스첨부파일',\n",
       "  'EVAP_EMIS_DEVT': '증발가스 개발목표치',\n",
       "  'EVAP_EMIS_OP': '산술기호(1:덧셈 2:곱셈)',\n",
       "  'FACT_SNO': '사업장',\n",
       "  'FILE_ORIGIN1': '시설적합확인서',\n",
       "  'FILE1': '첨부파일',\n",
       "  'FORMAL_DEVT': '포름알데히드 개발목표치',\n",
       "  'HC_DEVT': 'HC 개발목표치',\n",
       "  'HC_DIV': 'HC 개발목표치',\n",
       "  'HC_OP': '산술기호(1:덧셈 2:곱셈)',\n",
       "  'HCNOX_DEVT': 'HCNOX 개발목표치',\n",
       "  'HCNOX_OP': '산술기호(1:덧셈 2:곱셈)',\n",
       "  'MAINT_WARRANT': '정비보증',\n",
       "  'MAINT_WARRANT_CT': '첨부파일',\n",
       "  'ME_OPINION_FILE1': '검토의견서 파일1',\n",
       "  'ME_OPINION_FILE1_ORGNM': '검토의견서 파일1(원본파일명)',\n",
       "  'ME_OPINION_FILE2': '검토의견서 파일2',\n",
       "  'ME_OPINION_FILE2_ORGNM': '검토의견서 파일2(원본파일명)',\n",
       "  'ME_OPINION_FILE3': '검토의견서 파일3',\n",
       "  'ME_OPINION_FILE3_ORGNM': '검토의견서 파일3(원본파일명)',\n",
       "  'ME_OPINION_NOTE': '검토의견서 내용',\n",
       "  'ME_OPINION_TITLE': '검토의견서 제목',\n",
       "  'ME_RECEIVE_STATE': '환경부 접수 코드(공통코드:21)',\n",
       "  'ME_REFERRAL_RCV_SNO': '검토의뢰서 접수번호(검토의뢰서 접수번호)',\n",
       "  'ME_REFERRAL_SEND_SNO': '검토의뢰서 번호(검토의뢰서 제출번호)',\n",
       "  'MGR_ID1': '결재연구관',\n",
       "  'MGR_ID2': '결재연구사',\n",
       "  'MOD_DATETIME': '수정일시',\n",
       "  'MOD_ID': '수정아이디',\n",
       "  'MODIFY_YN': 'modify_yn',\n",
       "  'NATION': '제작국가',\n",
       "  'NOISE_CANCEL_DATE': '소음 인증서 취소 날짜',\n",
       "  'NOISE_CERTI_CD': '소음인증코드',\n",
       "  'NOISE_CERTI_DATE': '소음인증일',\n",
       "  'NOISE_CERTI_NO': '소음인증번호',\n",
       "  'NOISE_CERTI_SNO': '소음인증번호',\n",
       "  'NOISE_CTL_INSTALL': '소음 방지장치 부착내용',\n",
       "  'NOISE_NOTE': '소음허용기준',\n",
       "  'NOISE_OMIT_NO': '소음 인증생략번호',\n",
       "  'NOISE_RED_DOC': '자동차 소음저감에 관한 서류',\n",
       "  'NOISE_RED_DOC_CT': '자동차 소음저감에 관한 서류첨부파일',\n",
       "  'NOISE_STD_NOTE': '소음기준정보',\n",
       "  'NOISE_TEST_EF_SNO': '소음시험 동일차종 일련번호',\n",
       "  'NOISE_VEH_CLASS': '소음 차종',\n",
       "  'NOISE_WITHD_DATE': '소음인증반납일',\n",
       "  'NOX_DEVT': 'NOx 개발목표치',\n",
       "  'NOX_OP': '산술기호(1:덧셈 2:곱셈)',\n",
       "  'OBD_TEST_YN': 'OBD 시험여부',\n",
       "  'OBD_VEH_CLASS': 'obd_veh_class',\n",
       "  'OFFICE_CD': '업체코드',\n",
       "  'OFFICER_ID': '담당자 ID',\n",
       "  'OLD_VEH_ID_NO': 'OLD_원동기코드',\n",
       "  'OLDCERTI': '과거자료여부',\n",
       "  'OMIT_CNT': '인증생략 가능수',\n",
       "  'OMIT_REASON': '인증생략근거',\n",
       "  'PAY_TAX': 'pay_tax',\n",
       "  'PERSON_NO': 'person_no',\n",
       "  'PM_DEVT': 'PM 개발목표치',\n",
       "  'PM_OP': '산술기호(1:덧셈 2:곱셈)',\n",
       "  'PROC_STATE': '인증처리상태',\n",
       "  'PRODUCTION': '제작사(한글)',\n",
       "  'PRODUCTION_E': '제작사(영문)',\n",
       "  'RCV_SEQ': 'RCV순번',\n",
       "  'RECEIVE_STATE': '반영 전 데이타',\n",
       "  'RECT_DATE': '접수일',\n",
       "  'REG_DATETIME': '등록일시',\n",
       "  'REG_ID': '등록아이디',\n",
       "  'REG2_YN': '재신청여부',\n",
       "  'SEL_CONT': '비고(한글)',\n",
       "  'SEL_CONT_E': '비고(영문)',\n",
       "  'SELF_TEST': '시설확인유무',\n",
       "  'SIMIL_ADMIN_NO': '인증생략신청서',\n",
       "  'SMOKE_DEVT': '매연 개발목표치',\n",
       "  'SMOKE_OP': '산술기호(1:덧셈 2:곱셈)',\n",
       "  'SNOTE': '취소반납사유',\n",
       "  'SNOTE2': '소음 인증서 반납/취소 사유',\n",
       "  'TC_NO': '고유번호',\n",
       "  'TC_TYPE': '1:기본인증,2:변경인증',\n",
       "  'TEST_FUEL': '인증시험 연료',\n",
       "  'TEST_FUEL_CT': '인증시험 연료첨부파일',\n",
       "  'TEST_PROC': '시험절차',\n",
       "  'TEST_PROC_CT': '시험절차 첨부파일 ',\n",
       "  'TONG_DATE': '통관일',\n",
       "  'TONG_NUM': '통관대수',\n",
       "  'TRECOGREP': '비정기정비',\n",
       "  'TREGREP': '정기정비',\n",
       "  'USER_ID': '사용자아이디',\n",
       "  'VEH_ID_NO': '원동기코드'},\n",
       " 'UNI_FC_TEEMISSN': {'ADM_NO': '관리번호',\n",
       "  'CERTI_MODI_SNO': '인증일련번호',\n",
       "  'FUEL': '사용연료코드',\n",
       "  'SEL_STAND': '적용기준',\n",
       "  'F_STAND': '외국기준',\n",
       "  'GU_TERM': '보증기간',\n",
       "  'TEST_DIV': '시험구분',\n",
       "  'TEST_METHOD_CHK': '시험방법체크값',\n",
       "  'COL': '대표적용기술',\n",
       "  'REG_ID': '등록아이디',\n",
       "  'REG_DATETIME': '등록일시',\n",
       "  'MOD_ID': '수정아이디',\n",
       "  'MOD_DATETIME': '수정일시',\n",
       "  'LEV_CRTR_CD': '저배출차량 기준 코드',\n",
       "  'TBL_PK_SEQ_ID': nan},\n",
       " 'UNI_FC_TEEMISSN_ENG_RES': {'ADM_NO': '관리번호',\n",
       "  'CERTI_MODI_SNO': '인증일련번호',\n",
       "  'TEST_RST_SNO': '시험결과일련번호',\n",
       "  'TEST_RST_CODE': '시험결과구분코드(차량별시험결과=00,종합결과=99)',\n",
       "  'TEST_MOD': '시험모드(CVS-75,Highway,US06,SC03,Cold CO...)',\n",
       "  'ENG_NO': '시험원동기형식',\n",
       "  'MAX_PWR_KW': '최대출력kW',\n",
       "  'MAX_PWR_RPM': '최대출력RPM',\n",
       "  'COOLANT_OUTLET_TEMP': '최대출력 시 냉각수 출구온도',\n",
       "  'ITCL_TEMP': '최대출력 시 인터쿨러 전단온도',\n",
       "  'EXH_SUB_PRESS': '최대출력 시 흡기 부압',\n",
       "  'EXH_BACK_PRESS': '최대출력 시 흡기배압',\n",
       "  'TEST_NO': '시험번호',\n",
       "  'TEST_DATE': '시험일자',\n",
       "  'ENG_TYPE': '시험원동기형식',\n",
       "  'ENG_ID_NO': '대표원동기명(원동기코드)',\n",
       "  'IDLE_RPM': '공회전수',\n",
       "  'ENG_DISPL': '총배기량',\n",
       "  'MAX_TORQ': '최대토크kgf또는Nm',\n",
       "  'MAX_TORQ_RPM': '최대토크RPM',\n",
       "  'MAX_PWR_COOLANT_OUTLET_TEMP': '최대출력 시 냉각수 출구온도',\n",
       "  'MAX_PWR_ITCL_TEMP': '최대출력 시 인터쿨러 전단온도',\n",
       "  'MAX_PWR_EXH_TEMP': '최대출력 시 흡기온도',\n",
       "  'MAX_PWR_EXH_SUB_PRESS': '최대출력 시 흡기 부압',\n",
       "  'MAX_PWR_EXH_BACK_PRESS': 'MAX_PWR_EXH_BACK_PRESS',\n",
       "  'MAX_INTAKE_TEMP': 'MAX_INTAKE_TEMP',\n",
       "  'TEST_RPM': '회전수(rpm)',\n",
       "  'TEST_PWR_KW': '출력(KW)',\n",
       "  'TEST_LOAD': '부하(kgm)',\n",
       "  'AIR_FLOW': '습공기유량(kg/h)',\n",
       "  'FUEL_FLOW': '연료유량(kg/h)',\n",
       "  'CO_RST_PPM': 'CO측정값(ppm)',\n",
       "  'NMHC_RST_PPM': 'NMHC측정값(ppm)',\n",
       "  'NOX_RST_PPM': 'Nox측정값(ppm)',\n",
       "  'KW_WET_CONV_COEF': 'Kw습식전환계수',\n",
       "  'KNOX_REV_COEF': 'Knox보정계수',\n",
       "  'WF_ADDTO_COEF': 'WF가중계수',\n",
       "  'CO_RST_VAL': 'CO시험결과',\n",
       "  'NMHC_RST_VAL': 'NMHC시험결과',\n",
       "  'CH4_RST_VAL': 'CH4시험결과',\n",
       "  'NOX_RST_VAL': 'Nox시험결과',\n",
       "  'CO2_RST_VAL': 'CO2시험결과',\n",
       "  'MILEAGE_RST_VAL': '연비시험결과',\n",
       "  'PM_RST_VAL': 'PM시험결과',\n",
       "  'CO_RST_VAL2': 'CO시험결과2',\n",
       "  'NMHC_RST_VAL2': 'NMHC시험결과2',\n",
       "  'CH4_RST_VAL2': 'CH4시험결과2',\n",
       "  'NOX_RST_VAL2': 'Nox시험결과2',\n",
       "  'CO2_RST_VAL2': 'CO2시험결과2',\n",
       "  'MILEAGE_RST_VAL2': '연비시험결과2',\n",
       "  'PM_RST_VAL2': 'PM시험결과2',\n",
       "  'CO_FINAL_RST': 'CO최종시험결과',\n",
       "  'NMHC_FINAL_RST': 'NMHC최종시험결과',\n",
       "  'CH4_FINAL_RST': 'CH4최종시험결과',\n",
       "  'NOX_FINAL_RST': 'Nox최종시험결과',\n",
       "  'CO2_FINAL_RST': 'CO2최종시험결과',\n",
       "  'MILEAGE_FINAL_RST': '연비최종시험결과',\n",
       "  'PM_FINAL_RST': 'PM최종시험결과',\n",
       "  'CO_DF_RST': 'CO열화계수',\n",
       "  'NMHC_DF_RST': 'NMHC열화계수',\n",
       "  'CH4_DF_RST': 'CH4열화계수',\n",
       "  'NOX_DF_RST': 'Nox열화계수',\n",
       "  'CO2_DF_RST': 'CO2열화계수',\n",
       "  'MILEAGE_DF_RST': '연비열화계수',\n",
       "  'PM_DF_RST': 'PM열화계수',\n",
       "  'CO_KI_RST': 'CO주기적재생지수',\n",
       "  'NMHC_KI_RST': 'NMHC주기적재생지수',\n",
       "  'CH4_KI_RST': 'CH4주기적재생지수',\n",
       "  'NOX_KI_RST': 'Nox주기적재생지수',\n",
       "  'CO2_KI_RST': 'CO2주기적재생지수',\n",
       "  'MILEAGE_KI_RST': '연비주기적재생지수',\n",
       "  'PM_KI_RST': 'PM주기적재생지수',\n",
       "  'CO_ST_PERMSS': 'CO기준치',\n",
       "  'NMHC_ST_PERMSS': 'NMHC기준치',\n",
       "  'CH4_ST_PERMSS': 'CH4기준치',\n",
       "  'NOX_ST_PERMSS': 'Nox기준치',\n",
       "  'CO2_ST_PERMSS': 'CO2기준치',\n",
       "  'MILEAGE_ST_PERMSS': '연비기준치',\n",
       "  'PM_ST_PERMSS': 'PM기준치',\n",
       "  'REG_DATETIME': '등록일시',\n",
       "  'REG_ID': '등록아이디',\n",
       "  'MOD_DATETIME': '수정일시',\n",
       "  'MOD_ID': '수정아이디',\n",
       "  'PN_RST_VAL': 'PN시험결과',\n",
       "  'PN_RST_VAL2': 'PN시험결과2',\n",
       "  'PN_FINAL_RST': 'PN최종시험결과',\n",
       "  'PN_DF_RST': 'PN열화계수',\n",
       "  'PN_KI_RST': 'PN주기적재생지수',\n",
       "  'PN_ST_PERMSS': 'PN기준치',\n",
       "  'NMHCNOX_RST_VAL': 'NMHC+Nox시험결과',\n",
       "  'NMHCNOX_KI_RST': 'NMHC+Nox주기적재생지수',\n",
       "  'NMHCNOX_DF_RST': 'NMHC+Nox열화계수',\n",
       "  'NMHCNOX_FINAL_RST': 'NMHC+Nox최종시험결과',\n",
       "  'NMHCNOX_ST_PERMSS': 'NMHC+Nox기준치',\n",
       "  'NMHCNOX_RST_VAL2': 'NMHC+Nox시험결과2',\n",
       "  'NH3_RST_VAL2': 'NH3시험결과2',\n",
       "  'NH3_FINAL_RST': 'NH3최종시험결과',\n",
       "  'NH3_DF_RST': 'NH3열화계수',\n",
       "  'NH3_KI_RST': 'NH3주기적재생지수',\n",
       "  'NH3_ST_PERMSS': 'NH3기준치',\n",
       "  'NH3_RST_VAL': 'NH3시험결과'},\n",
       " 'UNI_FC_TESTINFO': {'ADM_NO': '관리번호',\n",
       "  'AVRG_LOADQTY': '평균 부하량',\n",
       "  'CERTI_MODI_SNO': '인증일련번호',\n",
       "  'CHR_LLMT_SOC': '축전지_하한_충전상태',\n",
       "  'CHR_UPLMT_SOC': '축전지_상한_충전상태',\n",
       "  'EF_SNO': '동일차종일련번호',\n",
       "  'ELECMOT_MAX_EFFICIENCY': '전동기_최대_효율',\n",
       "  'ELECMOT_MAX_SPEED_RPM': '전동기_최대_속도_분당회전수',\n",
       "  'ELECMOT_RATED_SPEED_RPM': '전동기_정격_속도_분당회전수',\n",
       "  'ELEC_INFO1': '사용안함-(전기차)대표적용기술(전기차제어장치부착내용)',\n",
       "  'ELEC_INFO1_TXT': '사용안함-전기차정보기재',\n",
       "  'ELEC_SPEC_CHR_OUTPUT': '전기차-제원_축전지_출력밀도',\n",
       "  'ELEC_SPEC_CHR_RATED_VOLT': '전기차-제원_축전지_정격전압',\n",
       "  'ELEC_SPEC_CHR_STOABLE': '전기차-제원_축전지_저장가능전력',\n",
       "  'ELEC_SPEC_CHR_TYPE': '전기차-제원_축전지_종류',\n",
       "  'ELEC_SPEC_CHR_USEABLE': '전기차-제원_축전지_이용가능전력',\n",
       "  'ELEC_SPEC_CHR_VOL': '전기차-제원_축전지_용량',\n",
       "  'ELEC_SPEC_CVT_MAX_OUTPUT': '전기차-제원_컨버터_최대출력전류',\n",
       "  'ELEC_SPEC_CVT_TYPE': '전기차-제원_컨버터_종류',\n",
       "  'ELEC_SPEC_ELECMOT_TYPE': '전기차-제원_전동기_종류',\n",
       "  'ELEC_SPEC_IVT_MAX_ELEC': '전기차-제원_인버터_최대전류',\n",
       "  'ELEC_SPEC_IVT_TYPE': '전기차-제원_인버터_종류',\n",
       "  'ELEC_SPEC_MAX_OUTPUT1': '전기차-제원_최대출력1',\n",
       "  'ELEC_SPEC_MAX_OUTPUT2': '전기차-제원_최대출력2',\n",
       "  'ELEC_SPEC_MAX_TORQUE': '전기차-제원_최대토크',\n",
       "  'ELEC_SPEC_RATED_VOLT': '전기차-제원_정격전압',\n",
       "  'ELEC_TECH': '사용안함-전기차:대표적용기술',\n",
       "  'ELEC_WARR_ACCUMU': '전기차-주요부품 보증기간(축전지)',\n",
       "  'ELEC_WARR_CHARGER': '전기차-주요부품 보증기간(충전기)',\n",
       "  'ELEC_WARR_ELECMOT': '전기차-주요부품 보증기간(전동기)',\n",
       "  'ELEC_WARR_GENERATOR': '전기차-주요부품 보증기간(제너레이터)',\n",
       "  'HVAC_PWRER_QY': 'Heating, Ventilation, Air Conditioning_전력_량',\n",
       "  'INFO1': '대표적용기술',\n",
       "  'INFO2': '배출가스 방지장치 부착내용',\n",
       "  'INFO3': '소음 방지장치 부착내용',\n",
       "  'INFO4': '시험기본정보',\n",
       "  'LOWTMP_POWER_LOAD_COEF1': '저온_동력_부하_계수1',\n",
       "  'LOWTMP_POWER_LOAD_COEF2': '저온_동력_부하_계수2',\n",
       "  'LOWTMP_POWER_LOAD_COEF3': '저온_동력_부하_계수3',\n",
       "  'LOWTMP_ROAD_INTAKE_COEF1': '저온_도로_흡입_계수1',\n",
       "  'LOWTMP_ROAD_INTAKE_COEF2': '저온_도로_흡입_계수2',\n",
       "  'LOWTMP_ROAD_INTAKE_COEF3': '저온_도로_흡입_계수3',\n",
       "  'MOD_DATETIME': '수정일시',\n",
       "  'MOD_ID': '수정아이디',\n",
       "  'PTC_HEATER_PWRER_QY': 'Positive Temperature Coefficient_히터_전력_량',\n",
       "  'REG_DATETIME': '등록일시',\n",
       "  'REG_ID': '등록아이디',\n",
       "  'TC_TYPE': '적용기준(기본/변경)',\n",
       "  'FCEV_WARR_FUELCELL': '수소전기차-주요부품 보증기간(연료전지)',\n",
       "  'FCEV_WARR_ACCUMU': '수소전기차-주요부품 보증기간(축전지)',\n",
       "  'FCEV_WARR_ELECMOT': '수소전기차-주요부품 보증기간(전동기)',\n",
       "  'FCEV_WARR_INVERTER': '수소전기차-주요부품 보증기간(인버터)',\n",
       "  'FCEV_WARR_CONVERTER': '수소전기차-주요부품 보증기간(컨버터)',\n",
       "  'FCEV_WARR_FUELTANKVALVE': '수소전기차-주요부품 보증기간(연료탱크밸브)',\n",
       "  'FCEV_WARR_FUELPRESS_ETC': '수소전기차-주요부품 보증기간(연료압력조절기등)',\n",
       "  'FCEV_SPEC_FUELCELL_TYPE': '수소전기차-제원_연료전지_종류',\n",
       "  'FCEV_SPEC_FUELCELL_MAX_CAPA': '수소전기차-제원_연료전지_최대용량',\n",
       "  'FCEV_SPEC_FUELCELL_RATED_VOLT': '수소전기차-제원_연료전지_정격전압',\n",
       "  'FCEV_SPEC_FUELCELL_MAX_OUT': '수소전기차-제원_연료전지_최대출력',\n",
       "  'RTEMP_POWER_LOAD_COEF1': '상온_동력_부하_계수1',\n",
       "  'RTEMP_POWER_LOAD_COEF2': '상온_동력_부하_계수2',\n",
       "  'RTEMP_POWER_LOAD_COEF3': '상온_동력_부하_계수3',\n",
       "  'RTEMP_ROAD_INTAKE_COEF1': '상온_도로_흡입_계수1',\n",
       "  'RTEMP_ROAD_INTAKE_COEF2': '상온_도로_흡입_계수2',\n",
       "  'RTEMP_ROAD_INTAKE_COEF3': '상온_도로_흡입_계수3',\n",
       "  'RTEMP_MCT_RDIST': '상온_MCT_주행거리',\n",
       "  'LOWTMP_MCT_RDIST': '저온_MCT_주행거리'}}"
      ]
     },
     "execution_count": 111,
     "metadata": {},
     "output_type": "execute_result"
    }
   ],
   "source": [
    "cols_dict"
   ]
  },
  {
   "cell_type": "code",
   "execution_count": 192,
   "metadata": {},
   "outputs": [
    {
     "name": "stderr",
     "output_type": "stream",
     "text": [
      "c:\\Users\\kbjung\\anaconda3\\Lib\\site-packages\\openpyxl\\styles\\stylesheet.py:226: UserWarning: Workbook contains no default style, apply openpyxl's default\n",
      "  warn(\"Workbook contains no default style, apply openpyxl's default\")\n"
     ]
    },
    {
     "name": "stdout",
     "output_type": "stream",
     "text": [
      "<class 'pandas.core.frame.DataFrame'>\n",
      "RangeIndex: 2740 entries, 0 to 2739\n",
      "Data columns (total 20 columns):\n",
      " #   Column            Non-Null Count  Dtype  \n",
      "---  ------            --------------  -----  \n",
      " 0   ADM_NO            2740 non-null   int64  \n",
      " 1   CERTI_MODI_SNO    2740 non-null   int64  \n",
      " 2   P_ENG_YN          2704 non-null   float64\n",
      " 3   SEL_ADM_NO        30 non-null     float64\n",
      " 4   TEST_METHOD_CHK   2740 non-null   object \n",
      " 5   TEST_MOD          2740 non-null   int64  \n",
      " 6   TEST_RST_SNO      2740 non-null   int64  \n",
      " 7   TEST_RST_SNO_SEQ  2740 non-null   int64  \n",
      " 8   FUEL              0 non-null      float64\n",
      " 9   CO                953 non-null    float64\n",
      " 10  NMHC              924 non-null    float64\n",
      " 11  NOX               943 non-null    float64\n",
      " 12  PM                943 non-null    float64\n",
      " 13  REG_ID            2740 non-null   object \n",
      " 14  REG_DATETIME      2740 non-null   object \n",
      " 15  MOD_ID            162 non-null    object \n",
      " 16  MOD_DATETIME      162 non-null    object \n",
      " 17  NMHCNOX           209 non-null    float64\n",
      " 18  PN                833 non-null    float64\n",
      " 19  NH3               86 non-null     float64\n",
      "dtypes: float64(10), int64(5), object(5)\n",
      "memory usage: 428.3+ KB\n"
     ]
    }
   ],
   "source": [
    "name = 'UNI_FC_KIENGTEST_RES'\n",
    "ct01 = construct_machine_certification_data_load(name)\n",
    "ct01.info()"
   ]
  },
  {
   "cell_type": "code",
   "execution_count": 187,
   "metadata": {},
   "outputs": [
    {
     "data": {
      "text/plain": [
       "{'ADM_NO': '관리번호',\n",
       " 'CERTI_MODI_SNO': '변경인증일련번호',\n",
       " 'EF_SNO': '동일차종일련번호',\n",
       " 'ENG_DISPL': '배기량',\n",
       " 'ENG_ID_NO': '대표원동기명(원동기코드)',\n",
       " 'ENG_SNO': '원동기장착일련번호',\n",
       " 'ENG_TYPE': '엔진형식',\n",
       " 'ETC': '기타 정보',\n",
       " 'MAX_PWR_KW': '최대출력kW',\n",
       " 'MAX_PWR_RPM': '최대출력 회전수',\n",
       " 'MOD_DATETIME': '수정일시',\n",
       " 'MOD_ID': '수정아이디',\n",
       " 'MODI_REF_EF_SNO': '변경부모동일원동기번호',\n",
       " 'REG_DATETIME': '등록일시',\n",
       " 'REG_ID': '등록아이디',\n",
       " 'VEH_IN_COM': '수입사',\n",
       " 'VEH_MAKER': '제작사',\n",
       " 'VEH_NM': '차명',\n",
       " 'VEH_PRE_NM': '건설(농)기계 수입사 대표자 성명',\n",
       " 'VEH_TYPE': '자동차형식',\n",
       " 'VEH_TYPE_YN': '인증서 표출 여부'}"
      ]
     },
     "execution_count": 187,
     "metadata": {},
     "output_type": "execute_result"
    }
   ],
   "source": [
    "cols_dict[name]"
   ]
  },
  {
   "cell_type": "code",
   "execution_count": 190,
   "metadata": {},
   "outputs": [
    {
     "data": {
      "text/html": [
       "<div>\n",
       "<style scoped>\n",
       "    .dataframe tbody tr th:only-of-type {\n",
       "        vertical-align: middle;\n",
       "    }\n",
       "\n",
       "    .dataframe tbody tr th {\n",
       "        vertical-align: top;\n",
       "    }\n",
       "\n",
       "    .dataframe thead th {\n",
       "        text-align: right;\n",
       "    }\n",
       "</style>\n",
       "<table border=\"1\" class=\"dataframe\">\n",
       "  <thead>\n",
       "    <tr style=\"text-align: right;\">\n",
       "      <th></th>\n",
       "      <th>컬럼명</th>\n",
       "      <th>컬럼설명</th>\n",
       "    </tr>\n",
       "  </thead>\n",
       "  <tbody>\n",
       "    <tr>\n",
       "      <th>0</th>\n",
       "      <td>ADM_NO</td>\n",
       "      <td>관리번호</td>\n",
       "    </tr>\n",
       "    <tr>\n",
       "      <th>1</th>\n",
       "      <td>CERTI_MODI_SNO</td>\n",
       "      <td>변경인증일련번호</td>\n",
       "    </tr>\n",
       "    <tr>\n",
       "      <th>2</th>\n",
       "      <td>EF_SNO</td>\n",
       "      <td>동일차종일련번호</td>\n",
       "    </tr>\n",
       "    <tr>\n",
       "      <th>3</th>\n",
       "      <td>ENG_DISPL</td>\n",
       "      <td>배기량</td>\n",
       "    </tr>\n",
       "    <tr>\n",
       "      <th>4</th>\n",
       "      <td>ENG_ID_NO</td>\n",
       "      <td>대표원동기명(원동기코드)</td>\n",
       "    </tr>\n",
       "    <tr>\n",
       "      <th>5</th>\n",
       "      <td>ENG_SNO</td>\n",
       "      <td>원동기장착일련번호</td>\n",
       "    </tr>\n",
       "    <tr>\n",
       "      <th>6</th>\n",
       "      <td>ENG_TYPE</td>\n",
       "      <td>엔진형식</td>\n",
       "    </tr>\n",
       "    <tr>\n",
       "      <th>7</th>\n",
       "      <td>ETC</td>\n",
       "      <td>기타 정보</td>\n",
       "    </tr>\n",
       "    <tr>\n",
       "      <th>8</th>\n",
       "      <td>MAX_PWR_KW</td>\n",
       "      <td>최대출력kW</td>\n",
       "    </tr>\n",
       "    <tr>\n",
       "      <th>9</th>\n",
       "      <td>MAX_PWR_RPM</td>\n",
       "      <td>최대출력 회전수</td>\n",
       "    </tr>\n",
       "    <tr>\n",
       "      <th>10</th>\n",
       "      <td>MOD_DATETIME</td>\n",
       "      <td>수정일시</td>\n",
       "    </tr>\n",
       "    <tr>\n",
       "      <th>11</th>\n",
       "      <td>MOD_ID</td>\n",
       "      <td>수정아이디</td>\n",
       "    </tr>\n",
       "    <tr>\n",
       "      <th>12</th>\n",
       "      <td>MODI_REF_EF_SNO</td>\n",
       "      <td>변경부모동일원동기번호</td>\n",
       "    </tr>\n",
       "    <tr>\n",
       "      <th>13</th>\n",
       "      <td>REG_DATETIME</td>\n",
       "      <td>등록일시</td>\n",
       "    </tr>\n",
       "    <tr>\n",
       "      <th>14</th>\n",
       "      <td>REG_ID</td>\n",
       "      <td>등록아이디</td>\n",
       "    </tr>\n",
       "    <tr>\n",
       "      <th>15</th>\n",
       "      <td>VEH_IN_COM</td>\n",
       "      <td>수입사</td>\n",
       "    </tr>\n",
       "    <tr>\n",
       "      <th>16</th>\n",
       "      <td>VEH_MAKER</td>\n",
       "      <td>제작사</td>\n",
       "    </tr>\n",
       "    <tr>\n",
       "      <th>17</th>\n",
       "      <td>VEH_NM</td>\n",
       "      <td>차명</td>\n",
       "    </tr>\n",
       "    <tr>\n",
       "      <th>18</th>\n",
       "      <td>VEH_PRE_NM</td>\n",
       "      <td>건설(농)기계 수입사 대표자 성명</td>\n",
       "    </tr>\n",
       "    <tr>\n",
       "      <th>19</th>\n",
       "      <td>VEH_TYPE</td>\n",
       "      <td>자동차형식</td>\n",
       "    </tr>\n",
       "    <tr>\n",
       "      <th>20</th>\n",
       "      <td>VEH_TYPE_YN</td>\n",
       "      <td>인증서 표출 여부</td>\n",
       "    </tr>\n",
       "  </tbody>\n",
       "</table>\n",
       "</div>"
      ],
      "text/plain": [
       "                컬럼명                컬럼설명\n",
       "0            ADM_NO                관리번호\n",
       "1    CERTI_MODI_SNO            변경인증일련번호\n",
       "2            EF_SNO            동일차종일련번호\n",
       "3         ENG_DISPL                 배기량\n",
       "4         ENG_ID_NO       대표원동기명(원동기코드)\n",
       "5           ENG_SNO           원동기장착일련번호\n",
       "6          ENG_TYPE                엔진형식\n",
       "7               ETC               기타 정보\n",
       "8        MAX_PWR_KW              최대출력kW\n",
       "9       MAX_PWR_RPM            최대출력 회전수\n",
       "10     MOD_DATETIME                수정일시\n",
       "11           MOD_ID               수정아이디\n",
       "12  MODI_REF_EF_SNO         변경부모동일원동기번호\n",
       "13     REG_DATETIME                등록일시\n",
       "14           REG_ID               등록아이디\n",
       "15       VEH_IN_COM                 수입사\n",
       "16        VEH_MAKER                 제작사\n",
       "17           VEH_NM                  차명\n",
       "18       VEH_PRE_NM  건설(농)기계 수입사 대표자 성명\n",
       "19         VEH_TYPE               자동차형식\n",
       "20      VEH_TYPE_YN           인증서 표출 여부"
      ]
     },
     "execution_count": 190,
     "metadata": {},
     "output_type": "execute_result"
    }
   ],
   "source": [
    "cols_df = pd.DataFrame({'컬럼명':cols_dict[name].keys(), '컬럼설명':cols_dict[name].values()})\n",
    "cols_df"
   ]
  },
  {
   "cell_type": "code",
   "execution_count": 191,
   "metadata": {},
   "outputs": [
    {
     "data": {
      "text/html": [
       "<div>\n",
       "<style scoped>\n",
       "    .dataframe tbody tr th:only-of-type {\n",
       "        vertical-align: middle;\n",
       "    }\n",
       "\n",
       "    .dataframe tbody tr th {\n",
       "        vertical-align: top;\n",
       "    }\n",
       "\n",
       "    .dataframe thead th {\n",
       "        text-align: right;\n",
       "    }\n",
       "</style>\n",
       "<table border=\"1\" class=\"dataframe\">\n",
       "  <thead>\n",
       "    <tr style=\"text-align: right;\">\n",
       "      <th></th>\n",
       "      <th>번호</th>\n",
       "      <th>컬럼명</th>\n",
       "      <th>컬럼설명</th>\n",
       "      <th>빈 값 개수</th>\n",
       "      <th>총 행수</th>\n",
       "    </tr>\n",
       "  </thead>\n",
       "  <tbody>\n",
       "    <tr>\n",
       "      <th>0</th>\n",
       "      <td>1</td>\n",
       "      <td>ENG_SNO</td>\n",
       "      <td>원동기장착일련번호</td>\n",
       "      <td>0</td>\n",
       "      <td>9521</td>\n",
       "    </tr>\n",
       "    <tr>\n",
       "      <th>1</th>\n",
       "      <td>2</td>\n",
       "      <td>ADM_NO</td>\n",
       "      <td>관리번호</td>\n",
       "      <td>0</td>\n",
       "      <td>9521</td>\n",
       "    </tr>\n",
       "    <tr>\n",
       "      <th>2</th>\n",
       "      <td>3</td>\n",
       "      <td>CERTI_MODI_SNO</td>\n",
       "      <td>변경인증일련번호</td>\n",
       "      <td>0</td>\n",
       "      <td>9521</td>\n",
       "    </tr>\n",
       "    <tr>\n",
       "      <th>3</th>\n",
       "      <td>4</td>\n",
       "      <td>EF_SNO</td>\n",
       "      <td>동일차종일련번호</td>\n",
       "      <td>0</td>\n",
       "      <td>9521</td>\n",
       "    </tr>\n",
       "    <tr>\n",
       "      <th>4</th>\n",
       "      <td>5</td>\n",
       "      <td>ENG_TYPE</td>\n",
       "      <td>엔진형식</td>\n",
       "      <td>9516</td>\n",
       "      <td>9521</td>\n",
       "    </tr>\n",
       "    <tr>\n",
       "      <th>5</th>\n",
       "      <td>6</td>\n",
       "      <td>ENG_ID_NO</td>\n",
       "      <td>대표원동기명(원동기코드)</td>\n",
       "      <td>9516</td>\n",
       "      <td>9521</td>\n",
       "    </tr>\n",
       "    <tr>\n",
       "      <th>6</th>\n",
       "      <td>7</td>\n",
       "      <td>MAX_PWR_KW</td>\n",
       "      <td>최대출력kW</td>\n",
       "      <td>9516</td>\n",
       "      <td>9521</td>\n",
       "    </tr>\n",
       "    <tr>\n",
       "      <th>7</th>\n",
       "      <td>8</td>\n",
       "      <td>MAX_PWR_RPM</td>\n",
       "      <td>최대출력 회전수</td>\n",
       "      <td>9516</td>\n",
       "      <td>9521</td>\n",
       "    </tr>\n",
       "    <tr>\n",
       "      <th>8</th>\n",
       "      <td>9</td>\n",
       "      <td>ENG_DISPL</td>\n",
       "      <td>배기량</td>\n",
       "      <td>9516</td>\n",
       "      <td>9521</td>\n",
       "    </tr>\n",
       "    <tr>\n",
       "      <th>9</th>\n",
       "      <td>10</td>\n",
       "      <td>VEH_IN_COM</td>\n",
       "      <td>수입사</td>\n",
       "      <td>240</td>\n",
       "      <td>9521</td>\n",
       "    </tr>\n",
       "    <tr>\n",
       "      <th>10</th>\n",
       "      <td>11</td>\n",
       "      <td>VEH_PRE_NM</td>\n",
       "      <td>건설(농)기계 수입사 대표자 성명</td>\n",
       "      <td>242</td>\n",
       "      <td>9521</td>\n",
       "    </tr>\n",
       "    <tr>\n",
       "      <th>11</th>\n",
       "      <td>12</td>\n",
       "      <td>VEH_NM</td>\n",
       "      <td>차명</td>\n",
       "      <td>234</td>\n",
       "      <td>9521</td>\n",
       "    </tr>\n",
       "    <tr>\n",
       "      <th>12</th>\n",
       "      <td>13</td>\n",
       "      <td>VEH_MAKER</td>\n",
       "      <td>제작사</td>\n",
       "      <td>230</td>\n",
       "      <td>9521</td>\n",
       "    </tr>\n",
       "    <tr>\n",
       "      <th>13</th>\n",
       "      <td>14</td>\n",
       "      <td>VEH_TYPE</td>\n",
       "      <td>자동차형식</td>\n",
       "      <td>231</td>\n",
       "      <td>9521</td>\n",
       "    </tr>\n",
       "    <tr>\n",
       "      <th>14</th>\n",
       "      <td>15</td>\n",
       "      <td>ETC</td>\n",
       "      <td>기타 정보</td>\n",
       "      <td>9463</td>\n",
       "      <td>9521</td>\n",
       "    </tr>\n",
       "    <tr>\n",
       "      <th>15</th>\n",
       "      <td>16</td>\n",
       "      <td>REG_DATETIME</td>\n",
       "      <td>등록일시</td>\n",
       "      <td>0</td>\n",
       "      <td>9521</td>\n",
       "    </tr>\n",
       "    <tr>\n",
       "      <th>16</th>\n",
       "      <td>17</td>\n",
       "      <td>REG_ID</td>\n",
       "      <td>등록아이디</td>\n",
       "      <td>6535</td>\n",
       "      <td>9521</td>\n",
       "    </tr>\n",
       "    <tr>\n",
       "      <th>17</th>\n",
       "      <td>18</td>\n",
       "      <td>MOD_DATETIME</td>\n",
       "      <td>수정일시</td>\n",
       "      <td>5990</td>\n",
       "      <td>9521</td>\n",
       "    </tr>\n",
       "    <tr>\n",
       "      <th>18</th>\n",
       "      <td>19</td>\n",
       "      <td>MOD_ID</td>\n",
       "      <td>수정아이디</td>\n",
       "      <td>6011</td>\n",
       "      <td>9521</td>\n",
       "    </tr>\n",
       "    <tr>\n",
       "      <th>19</th>\n",
       "      <td>20</td>\n",
       "      <td>MODI_REF_EF_SNO</td>\n",
       "      <td>변경부모동일원동기번호</td>\n",
       "      <td>9521</td>\n",
       "      <td>9521</td>\n",
       "    </tr>\n",
       "    <tr>\n",
       "      <th>20</th>\n",
       "      <td>21</td>\n",
       "      <td>VEH_TYPE_YN</td>\n",
       "      <td>인증서 표출 여부</td>\n",
       "      <td>9450</td>\n",
       "      <td>9521</td>\n",
       "    </tr>\n",
       "  </tbody>\n",
       "</table>\n",
       "</div>"
      ],
      "text/plain": [
       "    번호              컬럼명                컬럼설명  빈 값 개수  총 행수\n",
       "0    1          ENG_SNO           원동기장착일련번호       0  9521\n",
       "1    2           ADM_NO                관리번호       0  9521\n",
       "2    3   CERTI_MODI_SNO            변경인증일련번호       0  9521\n",
       "3    4           EF_SNO            동일차종일련번호       0  9521\n",
       "4    5         ENG_TYPE                엔진형식    9516  9521\n",
       "5    6        ENG_ID_NO       대표원동기명(원동기코드)    9516  9521\n",
       "6    7       MAX_PWR_KW              최대출력kW    9516  9521\n",
       "7    8      MAX_PWR_RPM            최대출력 회전수    9516  9521\n",
       "8    9        ENG_DISPL                 배기량    9516  9521\n",
       "9   10       VEH_IN_COM                 수입사     240  9521\n",
       "10  11       VEH_PRE_NM  건설(농)기계 수입사 대표자 성명     242  9521\n",
       "11  12           VEH_NM                  차명     234  9521\n",
       "12  13        VEH_MAKER                 제작사     230  9521\n",
       "13  14         VEH_TYPE               자동차형식     231  9521\n",
       "14  15              ETC               기타 정보    9463  9521\n",
       "15  16     REG_DATETIME                등록일시       0  9521\n",
       "16  17           REG_ID               등록아이디    6535  9521\n",
       "17  18     MOD_DATETIME                수정일시    5990  9521\n",
       "18  19           MOD_ID               수정아이디    6011  9521\n",
       "19  20  MODI_REF_EF_SNO         변경부모동일원동기번호    9521  9521\n",
       "20  21      VEH_TYPE_YN           인증서 표출 여부    9450  9521"
      ]
     },
     "execution_count": 191,
     "metadata": {},
     "output_type": "execute_result"
    }
   ],
   "source": [
    "temp = ct01.isnull().sum().reset_index().rename(columns={'index':'컬럼명', 0:'빈 값 개수'})\n",
    "temp['총 행수'] = ct01.shape[0]\n",
    "temp.insert(0, '번호', [x for x in range(1, temp.shape[0] + 1)])\n",
    "ttemp = temp.merge(cols_df, on='컬럼명', how='left')\n",
    "ttemp = ttemp[['번호', '컬럼명', '컬럼설명', '빈 값 개수', '총 행수']]\n",
    "ttemp"
   ]
  },
  {
   "cell_type": "code",
   "execution_count": 195,
   "metadata": {},
   "outputs": [
    {
     "data": {
      "text/plain": [
       "'2023.10.31'"
      ]
     },
     "execution_count": 195,
     "metadata": {},
     "output_type": "execute_result"
    }
   ],
   "source": [
    "today_date = datetime.today().strftime('%Y.%m.%d')\n",
    "today_date"
   ]
  },
  {
   "cell_type": "markdown",
   "metadata": {},
   "source": [
    "#### 컬럼, 데이터 정보들 출력"
   ]
  },
  {
   "cell_type": "code",
   "execution_count": 201,
   "metadata": {},
   "outputs": [],
   "source": [
    "# 41.2s\n",
    "with pd.ExcelWriter(os.path.join(an2_fold, f'건설기계_인증자료_데이터정보({today_date}).xlsx')) as writer:\n",
    "    for i, name in enumerate(name_list):\n",
    "        cols_df = pd.DataFrame({'컬럼명':cols_dict[name].keys(), '컬럼설명':cols_dict[name].values()})\n",
    "        ct = construct_machine_certification_data_load(name)\n",
    "        temp = ct.isnull().sum().reset_index().rename(columns={'index':'컬럼명', 0:'빈 값 개수'})\n",
    "        temp['총 행수'] = ct.shape[0]\n",
    "        temp.insert(0, '번호', [x for x in range(1, temp.shape[0] + 1)])\n",
    "        ttemp = temp.merge(cols_df, on='컬럼명', how='left')\n",
    "        ttemp = ttemp[['번호', '컬럼명', '컬럼설명', '빈 값 개수', '총 행수']]\n",
    "        ttemp.to_excel(writer, sheet_name=f'{i+1}. {name}', index=False)"
   ]
  },
  {
   "cell_type": "code",
   "execution_count": 202,
   "metadata": {},
   "outputs": [
    {
     "data": {
      "text/plain": [
       "['UNI_FC_TCMASTER',\n",
       " 'UNI_FC_TCERTIMODI',\n",
       " 'UNI_FC_ENG_TEFSPEC',\n",
       " 'UNI_FC_TEEMISSN',\n",
       " 'UNI_FC_TEEMISSN_ENG_RES',\n",
       " 'UNI_FC_TESTINFO',\n",
       " 'UNI_FC_ENG_LIST',\n",
       " 'UNI_FC_ENDUENG_EMI',\n",
       " 'UNI_FC_ENDUENGTEST',\n",
       " 'UNI_FC_ENDUENGTEST_RES',\n",
       " 'UNI_FC_KIENGTEST',\n",
       " 'UNI_FC_KIENGTEST_RES']"
      ]
     },
     "execution_count": 202,
     "metadata": {},
     "output_type": "execute_result"
    }
   ],
   "source": [
    "name_list"
   ]
  },
  {
   "cell_type": "markdown",
   "metadata": {},
   "source": [
    "### 1\\. UNI_FC_TCMASTER"
   ]
  },
  {
   "cell_type": "code",
   "execution_count": 592,
   "metadata": {},
   "outputs": [
    {
     "data": {
      "text/plain": [
       "'UNI_FC_TCMASTER'"
      ]
     },
     "execution_count": 592,
     "metadata": {},
     "output_type": "execute_result"
    }
   ],
   "source": [
    "name01 = name_list[0]\n",
    "name01"
   ]
  },
  {
   "cell_type": "code",
   "execution_count": 593,
   "metadata": {},
   "outputs": [
    {
     "name": "stdout",
     "output_type": "stream",
     "text": [
      "<class 'pandas.core.frame.DataFrame'>\n",
      "RangeIndex: 624 entries, 0 to 623\n",
      "Columns: 159 entries, ADM_NO to NOISE_STD_NOTE\n",
      "dtypes: datetime64[ns](1), float64(127), int64(2), object(29)\n",
      "memory usage: 775.3+ KB\n"
     ]
    }
   ],
   "source": [
    "# 1.3s\n",
    "ct01 = construct_machine_certification_data_load(name01)\n",
    "ct01.info()"
   ]
  },
  {
   "cell_type": "code",
   "execution_count": 594,
   "metadata": {},
   "outputs": [],
   "source": [
    "# CERTI_DIV(인증구분) : 1, 2\n",
    "# EMIS_CERTI_NO(배출가스인증번호) : 00EN*AA*00 형식(숫자, 영문, 특수문자 혼합 10자리)\n",
    "# EMIS_VEH_CLASS(배출가스 차종) : CE\n",
    "# CERTI_STATE 처분내용 : nan, '90', 'C0', '10', '42', '46', '41'\n",
    "# RECEIVE_STATE 반영 전 데이타 : nan,  0.\n",
    "# NATION 제작국가 : nan, 'SW', 'US', 'KR', 'JP', 'GM', 'IT', 'FN', 'UK', 'CN', 'FR', 'SP', 'SU', 'ID'\n",
    "# SELF_TEST 시설확인유무 : nan, 'Y', 'N'\n",
    "# EMIS_CERTI_SNO 배출가스인증번호 : nan,  1.,  2.,  7.,  3.,  5., 12., 13.,  4.,  6., 10.,  8., 11., 9.\n",
    "# OFFICE_CD 업체코드 : 'DDDC', 'VVIC', 'HIIC', 'KJDC', 'SSIC', 'DSDC', 'HDDC', 'WYIC', 'SJIC', 'ASIC', 'DPIC', 'LSIC', 'KBIC', 'CMIC', 'WTIC', 'MEIC', 'WJIC', 'HCDC', 'TMIC', 'LHIC', 'MXIC', 'HWDC', 'SCIC', 'EXAN', 'RADC', 'TYDC'\n",
    "# OLDCERTI 과거자료여부 : nan, 'Y'\n",
    "# REG2_YN 재신청여부 : nan, 'N'\n",
    "# SNOTE 취소반납사유 : nan, '권리 및 의무 승계', '권리 및 의무 승계 신고', '권리 및 의무 신고에 따른 인증서 재교부'\n",
    "# EF_CNT 동일차량 대수 : nan,  5.,  2.,  1.,  6.,  4.,  3., 22.,  9.,  0., 31.,  8., 14., 23.,  7., 15., 16., 11., 51., 13., 17., 10., 18.\n",
    "# ELEC_CAR_GB 전기차 구분 ( N:일반,E:전기차(사용안함),H:하이브리드(사용안함), C:친환경차 ) : nan, 'N'\n",
    "# CONF_ISSUE_NO 발급문서번호 : nan,  821.,  941.,  901., 1141., 1022., 1122.,  822.\n",
    "# APPROVAL_YN 결재여부 : 'N', 'Y'\n",
    "# ENG_CAR_GB 건설기계/농업기계구분 : nan, 'C', 'A', 'CA'"
   ]
  },
  {
   "cell_type": "code",
   "execution_count": 597,
   "metadata": {},
   "outputs": [
    {
     "name": "stdout",
     "output_type": "stream",
     "text": [
      "인증구분\n"
     ]
    },
    {
     "data": {
      "text/plain": [
       "{1, 2}"
      ]
     },
     "execution_count": 597,
     "metadata": {},
     "output_type": "execute_result"
    }
   ],
   "source": [
    "col01 = 'CERTI_DIV'\n",
    "print(cols_dict[name01][col01])\n",
    "set(ct01[col01].unique())"
   ]
  },
  {
   "cell_type": "markdown",
   "metadata": {},
   "source": [
    "### 2\\. UNI_FC_TCERTIMODI"
   ]
  },
  {
   "cell_type": "code",
   "execution_count": 598,
   "metadata": {},
   "outputs": [
    {
     "data": {
      "text/plain": [
       "'UNI_FC_TCERTIMODI'"
      ]
     },
     "execution_count": 598,
     "metadata": {},
     "output_type": "execute_result"
    }
   ],
   "source": [
    "name02 = name_list[1]\n",
    "name02"
   ]
  },
  {
   "cell_type": "code",
   "execution_count": 599,
   "metadata": {},
   "outputs": [
    {
     "name": "stdout",
     "output_type": "stream",
     "text": [
      "<class 'pandas.core.frame.DataFrame'>\n",
      "RangeIndex: 2830 entries, 0 to 2829\n",
      "Data columns (total 91 columns):\n",
      " #   Column                Non-Null Count  Dtype         \n",
      "---  ------                --------------  -----         \n",
      " 0   CERTI_MODI_SNO        2830 non-null   int64         \n",
      " 1   REG_DATETIME          2830 non-null   object        \n",
      " 2   CERTI_MODI_DIV        2375 non-null   float64       \n",
      " 3   EMIS_NOISE_DIV        2670 non-null   float64       \n",
      " 4   EMIS_MODI_ITEM        0 non-null      float64       \n",
      " 5   NOISE_MODI_ITEM       0 non-null      float64       \n",
      " 6   EMIS_MODI_REASON      2346 non-null   object        \n",
      " 7   NOISE_MODI_REASON     0 non-null      float64       \n",
      " 8   MODI_ITEM_ETC         0 non-null      float64       \n",
      " 9   RECT_DATE             2828 non-null   object        \n",
      " 10  APPLI_ID              2670 non-null   object        \n",
      " 11  OFFICER_ID            0 non-null      float64       \n",
      " 12  MODI_EXPLAIN          0 non-null      float64       \n",
      " 13  EMIS_CHG_EXAM         0 non-null      float64       \n",
      " 14  NOISE_CHG_EXAM        0 non-null      float64       \n",
      " 15  MODIF_PROC_STATE      1054 non-null   float64       \n",
      " 16  CERTI_STATE           2576 non-null   object        \n",
      " 17  RECEIVE_STATE         1054 non-null   float64       \n",
      " 18  CO_STD                0 non-null      float64       \n",
      " 19  NOX_STD               0 non-null      float64       \n",
      " 20  HC_STD                0 non-null      float64       \n",
      " 21  HCNOX_STD             0 non-null      float64       \n",
      " 22  EVAP_EMIS_STD         0 non-null      float64       \n",
      " 23  PM_STD                0 non-null      float64       \n",
      " 24  COLD_CO_STD           0 non-null      float64       \n",
      " 25  SMOKE_STD             0 non-null      float64       \n",
      " 26  FORMAL_STD            0 non-null      float64       \n",
      " 27  IDLE_CO_STD           0 non-null      float64       \n",
      " 28  HC_PPM_STD            0 non-null      float64       \n",
      " 29  MODI_EXPLAIN_CT       0 non-null      float64       \n",
      " 30  EMIS_CHG_EXAM_CT      0 non-null      float64       \n",
      " 31  NOISE_CHG_EXAM_CT     0 non-null      float64       \n",
      " 32  ACCEL_NOISE_STD       0 non-null      float64       \n",
      " 33  EXH_NOISE_STD         0 non-null      float64       \n",
      " 34  HORN_NOISE_STD        0 non-null      float64       \n",
      " 35  TEST_NO               0 non-null      float64       \n",
      " 36  EMIS_CERTI_DATE       2632 non-null   object        \n",
      " 37  NOISE_CERTI_DATE      0 non-null      float64       \n",
      " 38  MODI_TITLE            0 non-null      float64       \n",
      " 39  MODI_DESC             0 non-null      float64       \n",
      " 40  CERTI_STD             0 non-null      float64       \n",
      " 41  CERTI_STD_DATE        0 non-null      float64       \n",
      " 42  EMIS_WITHD_DATE       117 non-null    object        \n",
      " 43  NOISE_WITHD_DATE      0 non-null      float64       \n",
      " 44  ADM_NO                2830 non-null   int64         \n",
      " 45  OLDCERTI              619 non-null    object        \n",
      " 46  CERTI_SNO             1052 non-null   float64       \n",
      " 47  CR_CO                 0 non-null      float64       \n",
      " 48  CR_CO2                0 non-null      float64       \n",
      " 49  CR_COLD_CO            0 non-null      float64       \n",
      " 50  CR_EVAP_EMIS          0 non-null      float64       \n",
      " 51  CR_HC                 0 non-null      float64       \n",
      " 52  CR_HCNOX              0 non-null      float64       \n",
      " 53  CR_MILEAGE            0 non-null      float64       \n",
      " 54  CR_NOX                0 non-null      float64       \n",
      " 55  CR_PM                 0 non-null      float64       \n",
      " 56  CR_PN                 0 non-null      float64       \n",
      " 57  MILEAGE_STD           0 non-null      float64       \n",
      " 58  PN_STD                0 non-null      float64       \n",
      " 59  TC_NO                 0 non-null      float64       \n",
      " 60  OPINION_NOTE          799 non-null    object        \n",
      " 61  BOWAN_NOTE            0 non-null      float64       \n",
      " 62  CTEST_NOTE            0 non-null      float64       \n",
      " 63  EMIS_DOC              1032 non-null   float64       \n",
      " 64  NOISE_DOC             0 non-null      float64       \n",
      " 65  CERTI_DIV             2670 non-null   float64       \n",
      " 66  APPROVAL_YN           2830 non-null   object        \n",
      " 67  MGR_ID1               1016 non-null   object        \n",
      " 68  MGR_ID2               94 non-null     object        \n",
      " 69  APPREGI_DATE          1016 non-null   datetime64[ns]\n",
      " 70  MAKE_MTRL_NO          1216 non-null   float64       \n",
      " 71  EMIS_CANCEL_DATE      0 non-null      float64       \n",
      " 72  NOISE_CANCEL_DATE     0 non-null      float64       \n",
      " 73  SNOTE                 0 non-null      float64       \n",
      " 74  SNOTE2                0 non-null      float64       \n",
      " 75  REG_ID                1109 non-null   object        \n",
      " 76  MOD_ID                913 non-null    object        \n",
      " 77  MOD_DATETIME          1299 non-null   object        \n",
      " 78  STANDARD_SLT          542 non-null    float64       \n",
      " 79  STANDARD_SLT2         113 non-null    float64       \n",
      " 80  ETC_TXT1              1776 non-null   object        \n",
      " 81  IDX                   1616 non-null   float64       \n",
      " 82  ETC_TXT3              1776 non-null   object        \n",
      " 83  ETC_TXT4              1743 non-null   object        \n",
      " 84  EMIS_ROWS_CODE        1075 non-null   object        \n",
      " 85  EMIS_LOWS             73 non-null     object        \n",
      " 86  PHP_CERTY_TYPE        1616 non-null   float64       \n",
      " 87  PHP_REP_TYPE          1616 non-null   float64       \n",
      " 88  PHP_CERTI_STATE       1616 non-null   float64       \n",
      " 89  OLD_EMIS_CERTI_DATE   0 non-null      float64       \n",
      " 90  OLD_NOISE_CERTI_DATE  0 non-null      float64       \n",
      "dtypes: datetime64[ns](1), float64(68), int64(2), object(20)\n",
      "memory usage: 2.0+ MB\n"
     ]
    }
   ],
   "source": [
    "# 5.0s\n",
    "ct02 = construct_machine_certification_data_load(name02)\n",
    "ct02.info()"
   ]
  },
  {
   "cell_type": "code",
   "execution_count": 600,
   "metadata": {},
   "outputs": [],
   "source": [
    "# CERTI_MODI_SNO 변경인증일련번호 : 0 ~ 77\n",
    "# CERTI_MODI_DIV 변경구분(1:변경인증, 2:변경보고) : 1.,  2., nan\n",
    "# EMIS_NOISE_DIV 배출소음구분(1:배출 2:소음 3:배출+소음) : 1., nan\n",
    "# MODIF_PROC_STATE 변경인증 진행상태 : nan, 0.0\n",
    "# CERTI_STATE 인증진행상태 : nan, '10', '20', '30', '42', '46', '90', 'C', 'C0', 'C2'\n",
    "# OLDCERTI 과거자료여부 : nan, 'N', 'Y'\n",
    "# CERTI_SNO TCERTIMODI의IDX : nan, 1.0 ~ 48.0\n",
    "# EMIS_DOC 배출가스인증서교부 공문 내용 : 1.0, nan\n",
    "# CERTI_DIV 인증구분(1:국내,2:수입) : 1.0, 2.0, nan\n",
    "# APPROVAL_YN 결재여부 : 'N', 'Y'\n",
    "# MAKE_MTRL_NO 인증신청 작성자료번호 : 1.0, 3.0, 4.0, 5.0, 6.0, nan\n",
    "# STANDARD_SLT 배출허용기준 : nan, 1.0, 2.0, 3.0, 4.0, 6.0, 7.0, 8.0, 9.0, 10.0\n",
    "# STANDARD_SLT2 배출허용기준2 : nan, 1.0, 2.0, 3.0, 4.0, 6.0, 7.0, 8.0, 9.0, 10.0\n",
    "# EMIS_ROWS_CODE 배출가스저감기술 : nan, '1', '1/2', '1/2/3', '1/2/3/4', '1/2/3/4/5', '1/2/4', '1/2/4/5', '1/3', '1/3/4', '1/3/4/5', '1/4', '1/4/5', '1/5', '2', '2/3/4', '2/4', '3/4', '5'\n",
    "# EMIS_LOWS 배출가스저감기술코드 : nan, 'In-cylinder 방식', 'LNC', 'Turbocharger, Common rail', 'VGT, common rail', '연료장치, 터보챠저', '전자제어 연료분사 시스템', '전자제어 연료분사시스템', '전자제어장치,커먼레일', '커먼레일', '터보', '터보, 기계식', '터보차저', '터보차져'"
   ]
  },
  {
   "cell_type": "code",
   "execution_count": 601,
   "metadata": {},
   "outputs": [
    {
     "name": "stdout",
     "output_type": "stream",
     "text": [
      "변경구분(1:변경인증, 2:변경보고)\n"
     ]
    },
    {
     "data": {
      "text/plain": [
       "{1.0, 2.0, nan}"
      ]
     },
     "execution_count": 601,
     "metadata": {},
     "output_type": "execute_result"
    }
   ],
   "source": [
    "col02 = 'CERTI_MODI_DIV'\n",
    "print(cols_dict[name02][col02])\n",
    "set(ct02[col02].unique())"
   ]
  },
  {
   "cell_type": "markdown",
   "metadata": {},
   "source": [
    "### 3\\. UNI_FC_ENG_TEFSPEC"
   ]
  },
  {
   "cell_type": "code",
   "execution_count": 602,
   "metadata": {},
   "outputs": [
    {
     "data": {
      "text/plain": [
       "'UNI_FC_ENG_TEFSPEC'"
      ]
     },
     "execution_count": 602,
     "metadata": {},
     "output_type": "execute_result"
    }
   ],
   "source": [
    "name03 = name_list[2]\n",
    "name03"
   ]
  },
  {
   "cell_type": "code",
   "execution_count": 603,
   "metadata": {},
   "outputs": [
    {
     "name": "stdout",
     "output_type": "stream",
     "text": [
      "<class 'pandas.core.frame.DataFrame'>\n",
      "RangeIndex: 8646 entries, 0 to 8645\n",
      "Columns: 108 entries, ADM_NO to MAX_OUTT_POWER_UNIT\n",
      "dtypes: float64(23), int64(3), object(82)\n",
      "memory usage: 7.1+ MB\n"
     ]
    }
   ],
   "source": [
    "# 16.1s\n",
    "ct03 = construct_machine_certification_data_load(name03)\n",
    "ct03.info()"
   ]
  },
  {
   "cell_type": "code",
   "execution_count": 604,
   "metadata": {},
   "outputs": [],
   "source": [
    "# CERTI_MODI_SNO 변경인증일련번호 : 0 ~ 77\n",
    "# EF_SNO 동일원동기일련번호 : 0 ~ 256\n",
    "# CYCLE 싸이클(행정) : nan, '4', '4cycle', '4사이클', '4행정', '5'\n",
    "# COMB_TYPE 연소방식 : nan, 1.0, 2.0\n",
    "# COOL_TYPE 냉각매체 : nan, 1.0\n",
    "# CAT_TYPE 종류 : nan, 1.0, 2.0, 8.0, 9.0, 12.0, 15.0, 19.0, 20.0, 21.0, 22.0, 24.0, 99.0\n",
    "# ENG_CAR_GB 건설기계/농업기계구분 : nan, 'A', 'C', 'CA'"
   ]
  },
  {
   "cell_type": "code",
   "execution_count": 605,
   "metadata": {},
   "outputs": [
    {
     "name": "stdout",
     "output_type": "stream",
     "text": [
      "건설기계/농업기계구분\n"
     ]
    },
    {
     "data": {
      "text/plain": [
       "{'A', 'C', 'CA', nan}"
      ]
     },
     "execution_count": 605,
     "metadata": {},
     "output_type": "execute_result"
    }
   ],
   "source": [
    "col03 = 'ENG_CAR_GB'\n",
    "print(cols_dict[name03][col03])\n",
    "set(ct03[col03].unique())"
   ]
  },
  {
   "cell_type": "markdown",
   "metadata": {},
   "source": [
    "### 4\\. UNI_FC_TEEMISSN"
   ]
  },
  {
   "cell_type": "code",
   "execution_count": 606,
   "metadata": {},
   "outputs": [
    {
     "data": {
      "text/plain": [
       "'UNI_FC_TEEMISSN'"
      ]
     },
     "execution_count": 606,
     "metadata": {},
     "output_type": "execute_result"
    }
   ],
   "source": [
    "name04 = name_list[3]\n",
    "name04"
   ]
  },
  {
   "cell_type": "code",
   "execution_count": 607,
   "metadata": {},
   "outputs": [
    {
     "name": "stdout",
     "output_type": "stream",
     "text": [
      "<class 'pandas.core.frame.DataFrame'>\n",
      "RangeIndex: 1058 entries, 0 to 1057\n",
      "Data columns (total 15 columns):\n",
      " #   Column           Non-Null Count  Dtype  \n",
      "---  ------           --------------  -----  \n",
      " 0   ADM_NO           1058 non-null   int64  \n",
      " 1   CERTI_MODI_SNO   1058 non-null   int64  \n",
      " 2   FUEL             882 non-null    object \n",
      " 3   SEL_STAND        592 non-null    float64\n",
      " 4   F_STAND          609 non-null    float64\n",
      " 5   GU_TERM          577 non-null    float64\n",
      " 6   TEST_DIV         0 non-null      float64\n",
      " 7   TEST_METHOD_CHK  1053 non-null   object \n",
      " 8   COL              0 non-null      float64\n",
      " 9   REG_ID           1058 non-null   object \n",
      " 10  REG_DATETIME     1058 non-null   object \n",
      " 11  MOD_ID           538 non-null    object \n",
      " 12  MOD_DATETIME     538 non-null    object \n",
      " 13  TBL_PK_SEQ_ID    1058 non-null   int64  \n",
      " 14  LEV_CRTR_CD      0 non-null      float64\n",
      "dtypes: float64(6), int64(3), object(6)\n",
      "memory usage: 124.1+ KB\n"
     ]
    }
   ],
   "source": [
    "# 0.3s\n",
    "ct04 = construct_machine_certification_data_load(name04)\n",
    "ct04.info()"
   ]
  },
  {
   "cell_type": "code",
   "execution_count": 608,
   "metadata": {},
   "outputs": [],
   "source": [
    "# CERTI_MODI_SNO 인증일련번호 : 0 ~ 70(빈 번호 존재)\n",
    "# FUEL 사용연료코드 : nan, ‘D’\n",
    "# SEL_STAND 적용기준 : nan, 3.0, 5.0, 6.0, 7.0, 8.0\n",
    "# F_STAND 외국기준 : nan, 5.0, 6.0, 9.0, 10.0, 11.0"
   ]
  },
  {
   "cell_type": "code",
   "execution_count": 609,
   "metadata": {},
   "outputs": [
    {
     "name": "stdout",
     "output_type": "stream",
     "text": [
      "저배출차량 기준 코드\n"
     ]
    },
    {
     "data": {
      "text/plain": [
       "{nan}"
      ]
     },
     "execution_count": 609,
     "metadata": {},
     "output_type": "execute_result"
    }
   ],
   "source": [
    "col04 = 'LEV_CRTR_CD'\n",
    "print(cols_dict[name04][col04])\n",
    "set(ct04[col04].unique())"
   ]
  },
  {
   "cell_type": "markdown",
   "metadata": {},
   "source": [
    "### 5\\. UNI_FC_TEEMISSN_ENG_RES"
   ]
  },
  {
   "cell_type": "code",
   "execution_count": 610,
   "metadata": {},
   "outputs": [
    {
     "data": {
      "text/plain": [
       "'UNI_FC_TEEMISSN_ENG_RES'"
      ]
     },
     "execution_count": 610,
     "metadata": {},
     "output_type": "execute_result"
    }
   ],
   "source": [
    "name05 = name_list[4]\n",
    "name05"
   ]
  },
  {
   "cell_type": "code",
   "execution_count": 611,
   "metadata": {},
   "outputs": [
    {
     "name": "stdout",
     "output_type": "stream",
     "text": [
      "<class 'pandas.core.frame.DataFrame'>\n",
      "RangeIndex: 2761 entries, 0 to 2760\n",
      "Columns: 101 entries, ADM_NO to NH3_ST_PERMSS\n",
      "dtypes: float64(77), int64(5), object(19)\n",
      "memory usage: 2.1+ MB\n"
     ]
    }
   ],
   "source": [
    "# 6.4s\n",
    "ct05 = construct_machine_certification_data_load(name05)\n",
    "ct05.info()"
   ]
  },
  {
   "cell_type": "code",
   "execution_count": null,
   "metadata": {},
   "outputs": [],
   "source": [
    "# CERTI_MODI_SNO 인증일련번호 : 0 ~ 35(빈 번호 존재)\n",
    "# TEST_RST_CODE 시험결과구분코드(차량별시험결과=00,종합결과=99) : 0, 99\n",
    "# TEST_MOD 시험모드(CVS-75,Highway,US06,SC03,Cold CO...) : 1, 2, 3, 99"
   ]
  },
  {
   "cell_type": "code",
   "execution_count": 614,
   "metadata": {},
   "outputs": [
    {
     "name": "stdout",
     "output_type": "stream",
     "text": [
      "시험모드(CVS-75,Highway,US06,SC03,Cold CO...)\n"
     ]
    },
    {
     "data": {
      "text/plain": [
       "{1, 2, 3, 99}"
      ]
     },
     "execution_count": 614,
     "metadata": {},
     "output_type": "execute_result"
    }
   ],
   "source": [
    "col05 = 'TEST_MOD'\n",
    "print(cols_dict[name05][col05])\n",
    "set(ct05[col05].unique())"
   ]
  },
  {
   "cell_type": "markdown",
   "metadata": {},
   "source": [
    "### 6\\. UNI_FC_TESTINFO"
   ]
  },
  {
   "cell_type": "code",
   "execution_count": 615,
   "metadata": {},
   "outputs": [
    {
     "data": {
      "text/plain": [
       "'UNI_FC_TESTINFO'"
      ]
     },
     "execution_count": 615,
     "metadata": {},
     "output_type": "execute_result"
    }
   ],
   "source": [
    "name06 = name_list[5]\n",
    "name06"
   ]
  },
  {
   "cell_type": "code",
   "execution_count": 616,
   "metadata": {},
   "outputs": [
    {
     "name": "stdout",
     "output_type": "stream",
     "text": [
      "<class 'pandas.core.frame.DataFrame'>\n",
      "RangeIndex: 1044 entries, 0 to 1043\n",
      "Data columns (total 67 columns):\n",
      " #   Column                         Non-Null Count  Dtype  \n",
      "---  ------                         --------------  -----  \n",
      " 0   ADM_NO                         1044 non-null   int64  \n",
      " 1   EF_SNO                         0 non-null      float64\n",
      " 2   CERTI_MODI_SNO                 1044 non-null   int64  \n",
      " 3   INFO1                          177 non-null    object \n",
      " 4   INFO2                          1044 non-null   object \n",
      " 5   INFO3                          0 non-null      float64\n",
      " 6   TC_TYPE                        1044 non-null   int64  \n",
      " 7   INFO4                          0 non-null      float64\n",
      " 8   ELEC_INFO1                     0 non-null      float64\n",
      " 9   ELEC_TECH                      0 non-null      float64\n",
      " 10  ELEC_INFO1_TXT                 0 non-null      float64\n",
      " 11  ELEC_WARR_ACCUMU               0 non-null      float64\n",
      " 12  ELEC_WARR_CHARGER              0 non-null      float64\n",
      " 13  ELEC_WARR_ELECMOT              0 non-null      float64\n",
      " 14  ELEC_WARR_GENERATOR            0 non-null      float64\n",
      " 15  ELEC_SPEC_ELECMOT_TYPE         0 non-null      float64\n",
      " 16  ELEC_SPEC_MAX_OUTPUT1          0 non-null      float64\n",
      " 17  ELEC_SPEC_MAX_OUTPUT2          0 non-null      float64\n",
      " 18  ELEC_SPEC_RATED_VOLT           0 non-null      float64\n",
      " 19  ELEC_SPEC_MAX_TORQUE           0 non-null      float64\n",
      " 20  ELEC_SPEC_CHR_TYPE             0 non-null      float64\n",
      " 21  ELEC_SPEC_CHR_RATED_VOLT       0 non-null      float64\n",
      " 22  ELEC_SPEC_CHR_VOL              0 non-null      float64\n",
      " 23  ELEC_SPEC_CHR_OUTPUT           0 non-null      float64\n",
      " 24  ELEC_SPEC_CHR_STOABLE          0 non-null      float64\n",
      " 25  ELEC_SPEC_CHR_USEABLE          0 non-null      float64\n",
      " 26  ELEC_SPEC_IVT_TYPE             0 non-null      float64\n",
      " 27  ELEC_SPEC_IVT_MAX_ELEC         0 non-null      float64\n",
      " 28  ELEC_SPEC_CVT_TYPE             0 non-null      float64\n",
      " 29  ELEC_SPEC_CVT_MAX_OUTPUT       0 non-null      float64\n",
      " 30  REG_ID                         1044 non-null   object \n",
      " 31  REG_DATETIME                   1044 non-null   object \n",
      " 32  MOD_ID                         503 non-null    object \n",
      " 33  MOD_DATETIME                   503 non-null    object \n",
      " 34  FCEV_WARR_FUELCELL             0 non-null      float64\n",
      " 35  FCEV_WARR_ACCUMU               0 non-null      float64\n",
      " 36  FCEV_WARR_ELECMOT              0 non-null      float64\n",
      " 37  FCEV_WARR_INVERTER             0 non-null      float64\n",
      " 38  FCEV_WARR_CONVERTER            0 non-null      float64\n",
      " 39  FCEV_WARR_FUELTANKVALVE        0 non-null      float64\n",
      " 40  FCEV_WARR_FUELPRESS_ETC        0 non-null      float64\n",
      " 41  FCEV_SPEC_FUELCELL_TYPE        0 non-null      float64\n",
      " 42  FCEV_SPEC_FUELCELL_MAX_CAPA    0 non-null      float64\n",
      " 43  FCEV_SPEC_FUELCELL_RATED_VOLT  0 non-null      float64\n",
      " 44  FCEV_SPEC_FUELCELL_MAX_OUT     0 non-null      float64\n",
      " 45  ELECMOT_RATED_SPEED_RPM        0 non-null      float64\n",
      " 46  ELECMOT_MAX_SPEED_RPM          0 non-null      float64\n",
      " 47  ELECMOT_MAX_EFFICIENCY         0 non-null      float64\n",
      " 48  CHR_LLMT_SOC                   0 non-null      float64\n",
      " 49  CHR_UPLMT_SOC                  0 non-null      float64\n",
      " 50  AVRG_LOADQTY                   0 non-null      float64\n",
      " 51  PTC_HEATER_PWRER_QY            0 non-null      float64\n",
      " 52  HVAC_PWRER_QY                  0 non-null      float64\n",
      " 53  RTEMP_MCT_RDIST                0 non-null      float64\n",
      " 54  LOWTMP_MCT_RDIST               0 non-null      float64\n",
      " 55  RTEMP_POWER_LOAD_COEF1         0 non-null      float64\n",
      " 56  RTEMP_POWER_LOAD_COEF2         0 non-null      float64\n",
      " 57  RTEMP_POWER_LOAD_COEF3         0 non-null      float64\n",
      " 58  LOWTMP_POWER_LOAD_COEF1        0 non-null      float64\n",
      " 59  LOWTMP_POWER_LOAD_COEF2        0 non-null      float64\n",
      " 60  LOWTMP_POWER_LOAD_COEF3        0 non-null      float64\n",
      " 61  RTEMP_ROAD_INTAKE_COEF1        0 non-null      float64\n",
      " 62  RTEMP_ROAD_INTAKE_COEF2        0 non-null      float64\n",
      " 63  RTEMP_ROAD_INTAKE_COEF3        0 non-null      float64\n",
      " 64  LOWTMP_ROAD_INTAKE_COEF1       0 non-null      float64\n",
      " 65  LOWTMP_ROAD_INTAKE_COEF2       0 non-null      float64\n",
      " 66  LOWTMP_ROAD_INTAKE_COEF3       0 non-null      float64\n",
      "dtypes: float64(58), int64(3), object(6)\n",
      "memory usage: 546.6+ KB\n"
     ]
    }
   ],
   "source": [
    "# 1.3s\n",
    "ct06 = construct_machine_certification_data_load(name06)\n",
    "ct06.info()"
   ]
  },
  {
   "cell_type": "code",
   "execution_count": 617,
   "metadata": {},
   "outputs": [],
   "source": [
    "# CERTI_MODI_SNO 인증일련번호 : 0 ~ 70(빈 번호 존재)\n",
    "# TC_TYPE 적용기준(기본/변경) : 1"
   ]
  },
  {
   "cell_type": "code",
   "execution_count": 618,
   "metadata": {},
   "outputs": [
    {
     "name": "stdout",
     "output_type": "stream",
     "text": [
      "적용기준(기본/변경)\n"
     ]
    },
    {
     "data": {
      "text/plain": [
       "{1}"
      ]
     },
     "execution_count": 618,
     "metadata": {},
     "output_type": "execute_result"
    }
   ],
   "source": [
    "col06 = 'TC_TYPE'\n",
    "print(cols_dict[name06][col06])\n",
    "set(ct06[col06].unique())"
   ]
  },
  {
   "cell_type": "markdown",
   "metadata": {},
   "source": [
    "### 7\\. UNI_FC_ENG_LIST"
   ]
  },
  {
   "cell_type": "code",
   "execution_count": 619,
   "metadata": {},
   "outputs": [
    {
     "data": {
      "text/plain": [
       "'UNI_FC_ENG_LIST'"
      ]
     },
     "execution_count": 619,
     "metadata": {},
     "output_type": "execute_result"
    }
   ],
   "source": [
    "name07 = name_list[6]\n",
    "name07"
   ]
  },
  {
   "cell_type": "code",
   "execution_count": 620,
   "metadata": {},
   "outputs": [
    {
     "name": "stdout",
     "output_type": "stream",
     "text": [
      "<class 'pandas.core.frame.DataFrame'>\n",
      "RangeIndex: 9521 entries, 0 to 9520\n",
      "Data columns (total 21 columns):\n",
      " #   Column           Non-Null Count  Dtype  \n",
      "---  ------           --------------  -----  \n",
      " 0   ENG_SNO          9521 non-null   int64  \n",
      " 1   ADM_NO           9521 non-null   int64  \n",
      " 2   CERTI_MODI_SNO   9521 non-null   int64  \n",
      " 3   EF_SNO           9521 non-null   int64  \n",
      " 4   ENG_TYPE         5 non-null      object \n",
      " 5   ENG_ID_NO        5 non-null      object \n",
      " 6   MAX_PWR_KW       5 non-null      float64\n",
      " 7   MAX_PWR_RPM      5 non-null      float64\n",
      " 8   ENG_DISPL        5 non-null      float64\n",
      " 9   VEH_IN_COM       9281 non-null   object \n",
      " 10  VEH_PRE_NM       9279 non-null   object \n",
      " 11  VEH_NM           9287 non-null   object \n",
      " 12  VEH_MAKER        9291 non-null   object \n",
      " 13  VEH_TYPE         9290 non-null   object \n",
      " 14  ETC              58 non-null     object \n",
      " 15  REG_DATETIME     9521 non-null   object \n",
      " 16  REG_ID           2986 non-null   object \n",
      " 17  MOD_DATETIME     3531 non-null   object \n",
      " 18  MOD_ID           3510 non-null   object \n",
      " 19  MODI_REF_EF_SNO  0 non-null      float64\n",
      " 20  VEH_TYPE_YN      71 non-null     object \n",
      "dtypes: float64(4), int64(4), object(13)\n",
      "memory usage: 1.5+ MB\n"
     ]
    }
   ],
   "source": [
    "# 3.7s\n",
    "ct07 = construct_machine_certification_data_load(name07)\n",
    "ct07.info()"
   ]
  },
  {
   "cell_type": "code",
   "execution_count": 621,
   "metadata": {},
   "outputs": [],
   "source": [
    "# ENG_SNO 원동기장착일련번호 : 0 ~ 21\n",
    "# CERTI_MODI_SNO 변경인증일련번호 : 0 ~ 77\n",
    "# EF_SNO 동일차종일련번호 : 0 ~ 256\n",
    "# ENG_ID_NO 대표원동기명(원동기코드) : nan, 'CFYI520/CFYI520U', 'F5GFL414J*B', 'F5HFL464A*F',\n",
    "# VEH_TYPE_YN 인증서 표출 여부 : nan, 'Y'"
   ]
  },
  {
   "cell_type": "code",
   "execution_count": 622,
   "metadata": {},
   "outputs": [
    {
     "name": "stdout",
     "output_type": "stream",
     "text": [
      "인증서 표출 여부\n"
     ]
    },
    {
     "data": {
      "text/plain": [
       "{'Y', nan}"
      ]
     },
     "execution_count": 622,
     "metadata": {},
     "output_type": "execute_result"
    }
   ],
   "source": [
    "col07 = 'VEH_TYPE_YN'\n",
    "print(cols_dict[name07][col07])\n",
    "set(ct07[col07].unique())"
   ]
  },
  {
   "cell_type": "markdown",
   "metadata": {},
   "source": [
    "### 8\\. UNI_FC_ENDUENG_EMI"
   ]
  },
  {
   "cell_type": "code",
   "execution_count": 623,
   "metadata": {},
   "outputs": [
    {
     "data": {
      "text/plain": [
       "'UNI_FC_ENDUENG_EMI'"
      ]
     },
     "execution_count": 623,
     "metadata": {},
     "output_type": "execute_result"
    }
   ],
   "source": [
    "name08 = name_list[7]\n",
    "name08"
   ]
  },
  {
   "cell_type": "code",
   "execution_count": 624,
   "metadata": {},
   "outputs": [
    {
     "name": "stdout",
     "output_type": "stream",
     "text": [
      "<class 'pandas.core.frame.DataFrame'>\n",
      "RangeIndex: 411 entries, 0 to 410\n",
      "Data columns (total 19 columns):\n",
      " #   Column           Non-Null Count  Dtype  \n",
      "---  ------           --------------  -----  \n",
      " 0   ADM_NO           411 non-null    int64  \n",
      " 1   CERTI_MODI_SNO   411 non-null    int64  \n",
      " 2   TEST_METHOD_CHK  411 non-null    object \n",
      " 3   TEST_MOD         411 non-null    int64  \n",
      " 4   TEST_RST_SNO     411 non-null    int64  \n",
      " 5   NOX_GRAD         167 non-null    float64\n",
      " 6   NMHC_GRAD        153 non-null    float64\n",
      " 7   CO_GRAD          163 non-null    float64\n",
      " 8   PM_GRAD          166 non-null    float64\n",
      " 9   NOX_YITCT        166 non-null    float64\n",
      " 10  NMHC_YITCT       153 non-null    float64\n",
      " 11  CO_YITCT         165 non-null    float64\n",
      " 12  PM_YITCT         165 non-null    float64\n",
      " 13  REG_ID           411 non-null    object \n",
      " 14  REG_DATETIME     375 non-null    object \n",
      " 15  MOD_ID           57 non-null     object \n",
      " 16  MOD_DATETIME     21 non-null     object \n",
      " 17  PN_GRAD          52 non-null     float64\n",
      " 18  PN_YITCT         52 non-null     float64\n",
      "dtypes: float64(10), int64(4), object(5)\n",
      "memory usage: 61.1+ KB\n"
     ]
    }
   ],
   "source": [
    "# 0.2s\n",
    "ct08 = construct_machine_certification_data_load(name08)\n",
    "ct08.info()"
   ]
  },
  {
   "cell_type": "code",
   "execution_count": 625,
   "metadata": {},
   "outputs": [],
   "source": [
    "# CERTI_MODI_SNO 변경인증일련번호 : 0 ~ 22(빈 번호 존재)\n",
    "# TEST_METHOD_CHK 시험방법체크값 : 'NNNN', 'NNNY', 'NNYN', 'NNYY', 'NYNN', 'NYYN', 'YNNN', 'YNYN', 'YYYY'\n",
    "# TEST_MOD 배출가스시험모드 : 1, 3, 4\n",
    "# TEST_RST_SNO 시험결과일련번호 : 1"
   ]
  },
  {
   "cell_type": "code",
   "execution_count": 627,
   "metadata": {},
   "outputs": [
    {
     "name": "stdout",
     "output_type": "stream",
     "text": [
      "시험결과일련번호\n"
     ]
    },
    {
     "data": {
      "text/plain": [
       "{1}"
      ]
     },
     "execution_count": 627,
     "metadata": {},
     "output_type": "execute_result"
    }
   ],
   "source": [
    "col08 = 'TEST_RST_SNO'\n",
    "print(cols_dict[name08][col08])\n",
    "set(ct08[col08].unique())"
   ]
  },
  {
   "cell_type": "markdown",
   "metadata": {},
   "source": [
    "### 9\\. UNI_FC_ENDUENGTEST"
   ]
  },
  {
   "cell_type": "code",
   "execution_count": 628,
   "metadata": {},
   "outputs": [
    {
     "data": {
      "text/plain": [
       "'UNI_FC_ENDUENGTEST'"
      ]
     },
     "execution_count": 628,
     "metadata": {},
     "output_type": "execute_result"
    }
   ],
   "source": [
    "name09 = name_list[8]\n",
    "name09"
   ]
  },
  {
   "cell_type": "code",
   "execution_count": 629,
   "metadata": {},
   "outputs": [
    {
     "name": "stdout",
     "output_type": "stream",
     "text": [
      "<class 'pandas.core.frame.DataFrame'>\n",
      "RangeIndex: 430 entries, 0 to 429\n",
      "Data columns (total 12 columns):\n",
      " #   Column          Non-Null Count  Dtype \n",
      "---  ------          --------------  ----- \n",
      " 0   ADM_NO          430 non-null    int64 \n",
      " 1   CERTI_MODI_SNO  430 non-null    int64 \n",
      " 2   TEST_ENG_SNO    430 non-null    int64 \n",
      " 3   ENG_TYPE        334 non-null    object\n",
      " 4   ENG_ID_NO       315 non-null    object\n",
      " 5   ENG_NO          319 non-null    object\n",
      " 6   TEST_NO         277 non-null    object\n",
      " 7   TEST_DATE       318 non-null    object\n",
      " 8   REG_ID          407 non-null    object\n",
      " 9   REG_DATETIME    430 non-null    object\n",
      " 10  MOD_ID          56 non-null     object\n",
      " 11  MOD_DATETIME    51 non-null     object\n",
      "dtypes: int64(3), object(9)\n",
      "memory usage: 40.4+ KB\n"
     ]
    }
   ],
   "source": [
    "# 0.1s\n",
    "ct09 = construct_machine_certification_data_load(name09)\n",
    "ct09.info()"
   ]
  },
  {
   "cell_type": "code",
   "execution_count": 630,
   "metadata": {},
   "outputs": [],
   "source": [
    "# CERTI_MODI_SNO 변경인증일련번호 : 0 ~ 22(빈 번호 존재)\n",
    "# TEST_ENG_SNO 시험원동기일련번호 : 0 ~ 19"
   ]
  },
  {
   "cell_type": "code",
   "execution_count": 632,
   "metadata": {},
   "outputs": [
    {
     "name": "stdout",
     "output_type": "stream",
     "text": [
      "시험원동기일련번호\n"
     ]
    },
    {
     "data": {
      "text/plain": [
       "{0, 1, 2, 3, 4, 5, 6, 7, 8, 9, 10, 11, 12, 13, 14, 15, 16, 17, 18, 19}"
      ]
     },
     "execution_count": 632,
     "metadata": {},
     "output_type": "execute_result"
    }
   ],
   "source": [
    "col09 = 'TEST_ENG_SNO'\n",
    "print(cols_dict[name09][col09])\n",
    "set(ct09[col09].unique())"
   ]
  },
  {
   "cell_type": "markdown",
   "metadata": {},
   "source": [
    "### 10\\. UNI_FC_ENDUENGTEST_RES"
   ]
  },
  {
   "cell_type": "code",
   "execution_count": 635,
   "metadata": {},
   "outputs": [
    {
     "data": {
      "text/plain": [
       "'UNI_FC_ENDUENGTEST_RES'"
      ]
     },
     "execution_count": 635,
     "metadata": {},
     "output_type": "execute_result"
    }
   ],
   "source": [
    "name10 = name_list[9]\n",
    "name10"
   ]
  },
  {
   "cell_type": "code",
   "execution_count": 636,
   "metadata": {},
   "outputs": [
    {
     "name": "stdout",
     "output_type": "stream",
     "text": [
      "<class 'pandas.core.frame.DataFrame'>\n",
      "RangeIndex: 7581 entries, 0 to 7580\n",
      "Data columns (total 24 columns):\n",
      " #   Column            Non-Null Count  Dtype  \n",
      "---  ------            --------------  -----  \n",
      " 0   ADM_NO            7581 non-null   int64  \n",
      " 1   CERTI_MODI_SNO    7581 non-null   int64  \n",
      " 2   P_ENG_YN          7581 non-null   int64  \n",
      " 3   SEL_ADM_NO        4236 non-null   float64\n",
      " 4   TEST_METHOD_CHK   7581 non-null   object \n",
      " 5   TEST_MOD          7581 non-null   int64  \n",
      " 6   TEST_RST_SNO      7581 non-null   int64  \n",
      " 7   TEST_RST_SNO_SEQ  7581 non-null   int64  \n",
      " 8   FUEL              0 non-null      float64\n",
      " 9   DDC_USE_YN        6724 non-null   float64\n",
      " 10  TEST_CNT          0 non-null      float64\n",
      " 11  TEST_TIME         7100 non-null   float64\n",
      " 12  TEST_PLACE        7054 non-null   object \n",
      " 13  TEST_DATE         7025 non-null   object \n",
      " 14  CO                6034 non-null   float64\n",
      " 15  NOX               5960 non-null   float64\n",
      " 16  PM                5901 non-null   float64\n",
      " 17  NMHC              5948 non-null   float64\n",
      " 18  REG_ID            721 non-null    object \n",
      " 19  REG_DATETIME      7581 non-null   object \n",
      " 20  MOD_ID            352 non-null    object \n",
      " 21  MOD_DATETIME      431 non-null    object \n",
      " 22  PN                357 non-null    float64\n",
      " 23  NMHCNOX           715 non-null    float64\n",
      "dtypes: float64(11), int64(6), object(7)\n",
      "memory usage: 1.4+ MB\n"
     ]
    }
   ],
   "source": [
    "# 4.2s\n",
    "ct10 = construct_machine_certification_data_load(name10)\n",
    "ct10.info()"
   ]
  },
  {
   "cell_type": "code",
   "execution_count": 637,
   "metadata": {},
   "outputs": [],
   "source": [
    "# CERTI_MODI_SNO 인증 일련번호 : 0 ~ 22(빈 번호 존재)\n",
    "# P_ENG_YN 내구대표차원동기여부 : 0, 1, 2\n",
    "# TEST_METHOD_CHK 시험방법체크값 : 'NNNN', 'NNNY', 'NNYN', 'NNYY', 'NYNN', 'NYYN', 'YNNN', 'YNYN', 'YYYY'\n",
    "# TEST_MOD 시험모드(CVS-75,Highway,US06,SC03,Cold CO...) : 1, 2\n",
    "# TEST_RST_SNO 시험결과일련번호 : 1 ~ 268\n",
    "# TEST_RST_SNO_SEQ 시험결과일련번호의항목순번 : 1 ~ 4\n",
    "# DDC_USE_YN 지정열화계수 사용유무(사용:1,미사용:0) : nan, 1.0, 2.0"
   ]
  },
  {
   "cell_type": "code",
   "execution_count": 638,
   "metadata": {},
   "outputs": [
    {
     "name": "stdout",
     "output_type": "stream",
     "text": [
      "회차\n"
     ]
    },
    {
     "data": {
      "text/plain": [
       "{nan}"
      ]
     },
     "execution_count": 638,
     "metadata": {},
     "output_type": "execute_result"
    }
   ],
   "source": [
    "col10 = 'TEST_CNT'\n",
    "print(cols_dict[name10][col10])\n",
    "set(ct10[col10].unique())"
   ]
  },
  {
   "cell_type": "markdown",
   "metadata": {},
   "source": [
    "### 11\\. UNI_FC_KIENGTEST"
   ]
  },
  {
   "cell_type": "code",
   "execution_count": 639,
   "metadata": {},
   "outputs": [
    {
     "data": {
      "text/plain": [
       "'UNI_FC_KIENGTEST'"
      ]
     },
     "execution_count": 639,
     "metadata": {},
     "output_type": "execute_result"
    }
   ],
   "source": [
    "name11 = name_list[10]\n",
    "name11"
   ]
  },
  {
   "cell_type": "code",
   "execution_count": 640,
   "metadata": {},
   "outputs": [
    {
     "name": "stdout",
     "output_type": "stream",
     "text": [
      "<class 'pandas.core.frame.DataFrame'>\n",
      "RangeIndex: 307 entries, 0 to 306\n",
      "Data columns (total 12 columns):\n",
      " #   Column          Non-Null Count  Dtype \n",
      "---  ------          --------------  ----- \n",
      " 0   ADM_NO          307 non-null    int64 \n",
      " 1   CERTI_MODI_SNO  307 non-null    int64 \n",
      " 2   TEST_ENG_SNO    307 non-null    int64 \n",
      " 3   ENG_TYPE        209 non-null    object\n",
      " 4   ENG_ID_NO       196 non-null    object\n",
      " 5   ENG_NO          209 non-null    object\n",
      " 6   TEST_NO         179 non-null    object\n",
      " 7   TEST_DATE       203 non-null    object\n",
      " 8   REG_ID          307 non-null    object\n",
      " 9   REG_DATETIME    307 non-null    object\n",
      " 10  MOD_ID          29 non-null     object\n",
      " 11  MOD_DATETIME    29 non-null     object\n",
      "dtypes: int64(3), object(9)\n",
      "memory usage: 28.9+ KB\n"
     ]
    }
   ],
   "source": [
    "# 0.1s\n",
    "ct11 = construct_machine_certification_data_load(name11)\n",
    "ct11.info()"
   ]
  },
  {
   "cell_type": "code",
   "execution_count": 641,
   "metadata": {},
   "outputs": [],
   "source": [
    "# CERTI_MODI_SNO 변경인증일련번호 : 0 ~ 35(빈 번호 존재)\n",
    "# TEST_ENG_SNO 시험원동기일련번호 : 0 ~ 5"
   ]
  },
  {
   "cell_type": "code",
   "execution_count": 642,
   "metadata": {},
   "outputs": [
    {
     "name": "stdout",
     "output_type": "stream",
     "text": [
      "시험원동기일련번호\n"
     ]
    },
    {
     "data": {
      "text/plain": [
       "{0, 1, 2, 3, 4, 5}"
      ]
     },
     "execution_count": 642,
     "metadata": {},
     "output_type": "execute_result"
    }
   ],
   "source": [
    "col11 = 'TEST_ENG_SNO'\n",
    "print(cols_dict[name11][col11])\n",
    "set(ct11[col11].unique())"
   ]
  },
  {
   "cell_type": "markdown",
   "metadata": {},
   "source": [
    "### 12\\. UNI_FC_KIENGTEST_RES"
   ]
  },
  {
   "cell_type": "code",
   "execution_count": 643,
   "metadata": {},
   "outputs": [
    {
     "data": {
      "text/plain": [
       "'UNI_FC_KIENGTEST_RES'"
      ]
     },
     "execution_count": 643,
     "metadata": {},
     "output_type": "execute_result"
    }
   ],
   "source": [
    "name12 = name_list[11]\n",
    "name12"
   ]
  },
  {
   "cell_type": "code",
   "execution_count": 644,
   "metadata": {},
   "outputs": [
    {
     "name": "stdout",
     "output_type": "stream",
     "text": [
      "<class 'pandas.core.frame.DataFrame'>\n",
      "RangeIndex: 2740 entries, 0 to 2739\n",
      "Data columns (total 20 columns):\n",
      " #   Column            Non-Null Count  Dtype  \n",
      "---  ------            --------------  -----  \n",
      " 0   ADM_NO            2740 non-null   int64  \n",
      " 1   CERTI_MODI_SNO    2740 non-null   int64  \n",
      " 2   P_ENG_YN          2704 non-null   float64\n",
      " 3   SEL_ADM_NO        30 non-null     float64\n",
      " 4   TEST_METHOD_CHK   2740 non-null   object \n",
      " 5   TEST_MOD          2740 non-null   int64  \n",
      " 6   TEST_RST_SNO      2740 non-null   int64  \n",
      " 7   TEST_RST_SNO_SEQ  2740 non-null   int64  \n",
      " 8   FUEL              0 non-null      float64\n",
      " 9   CO                953 non-null    float64\n",
      " 10  NMHC              924 non-null    float64\n",
      " 11  NOX               943 non-null    float64\n",
      " 12  PM                943 non-null    float64\n",
      " 13  REG_ID            2740 non-null   object \n",
      " 14  REG_DATETIME      2740 non-null   object \n",
      " 15  MOD_ID            162 non-null    object \n",
      " 16  MOD_DATETIME      162 non-null    object \n",
      " 17  NMHCNOX           209 non-null    float64\n",
      " 18  PN                833 non-null    float64\n",
      " 19  NH3               86 non-null     float64\n",
      "dtypes: float64(10), int64(5), object(5)\n",
      "memory usage: 428.3+ KB\n"
     ]
    }
   ],
   "source": [
    "# 1.3s\n",
    "ct12 = construct_machine_certification_data_load(name12)\n",
    "ct12.info()"
   ]
  },
  {
   "cell_type": "code",
   "execution_count": 645,
   "metadata": {},
   "outputs": [],
   "source": [
    "# CERTI_MODI_SNO 인증 일련번호 : 0 ~ 35(빈 번호 존재)\n",
    "# P_ENG_YN KI대표원동기 여부 : nan, 1.0, 2.0\n",
    "# TEST_METHOD_CHK 시험방법체크값 : 'NNNN', 'NNYN', 'NYNN'\n",
    "# TEST_MOD 시험모드(CVS-75,Highway,US06,SC03,Cold CO...) : 1, 2\n",
    "# TEST_RST_SNO 시험결과일련번호 : 0 ~ 9\n",
    "# TEST_RST_SNO_SEQ 시험결과일련번호의항목순번 : 0 ~ 2"
   ]
  },
  {
   "cell_type": "code",
   "execution_count": 647,
   "metadata": {},
   "outputs": [
    {
     "name": "stdout",
     "output_type": "stream",
     "text": [
      "시험결과일련번호의항목순번\n"
     ]
    },
    {
     "data": {
      "text/plain": [
       "{0, 1, 2}"
      ]
     },
     "execution_count": 647,
     "metadata": {},
     "output_type": "execute_result"
    }
   ],
   "source": [
    "col12 = 'TEST_RST_SNO_SEQ'\n",
    "print(cols_dict[name12][col12])\n",
    "set(ct12[col12].unique())"
   ]
  },
  {
   "cell_type": "markdown",
   "metadata": {},
   "source": [
    "## 과제2 > 건설기계 인증대장"
   ]
  },
  {
   "cell_type": "code",
   "execution_count": 126,
   "metadata": {},
   "outputs": [
    {
     "name": "stdout",
     "output_type": "stream",
     "text": [
      "<class 'pandas.core.frame.DataFrame'>\n",
      "RangeIndex: 5974 entries, 0 to 5973\n",
      "Data columns (total 64 columns):\n",
      " #   Column           Non-Null Count  Dtype \n",
      "---  ------           --------------  ----- \n",
      " 0   배출기준             5971 non-null   object\n",
      " 1   상호명              5971 non-null   object\n",
      " 2   인증번호             5971 non-null   object\n",
      " 3   최초인증일자           5971 non-null   object\n",
      " 4   재교부일자\n",
      "(변경일자)     5971 non-null   object\n",
      " 5   접수번호             5971 non-null   object\n",
      " 6   접수일자             5971 non-null   object\n",
      " 7   종류               5971 non-null   object\n",
      " 8   구분               5971 non-null   object\n",
      " 9   상세내역             4051 non-null   object\n",
      " 10  엔진형식\n",
      "(엔진모델명)     5971 non-null   object\n",
      " 11  엔진코드             5970 non-null   object\n",
      " 12  엔진배기량            5862 non-null   object\n",
      " 13  최대출력             5856 non-null   object\n",
      " 14  Unnamed: 14      5856 non-null   object\n",
      " 15  엔진제작사            5971 non-null   object\n",
      " 16  엔진제작국            5971 non-null   object\n",
      " 17  건설기계 \n",
      "수입사\n",
      "(대표자)  5367 non-null   object\n",
      " 18  건설기계\n",
      "제작사         5365 non-null   object\n",
      " 19  건설기계\n",
      "명칭          5367 non-null   object\n",
      " 20  건설/농업기계 형식       5368 non-null   object\n",
      " 21  비고               637 non-null    object\n",
      " 22  정정내역             110 non-null    object\n",
      " 23  기준치              368 non-null    object\n",
      " 24  Unnamed: 24      368 non-null    object\n",
      " 25  Unnamed: 25      368 non-null    object\n",
      " 26  Unnamed: 26      368 non-null    object\n",
      " 27  Unnamed: 27      368 non-null    object\n",
      " 28  Unnamed: 28      369 non-null    object\n",
      " 29  시험결과             370 non-null    object\n",
      " 30  Unnamed: 30      369 non-null    object\n",
      " 31  Unnamed: 31      369 non-null    object\n",
      " 32  Unnamed: 32      369 non-null    object\n",
      " 33  Unnamed: 33      369 non-null    object\n",
      " 34  Unnamed: 34      351 non-null    object\n",
      " 35  Unnamed: 35      360 non-null    object\n",
      " 36  Unnamed: 36      370 non-null    object\n",
      " 37  Unnamed: 37      369 non-null    object\n",
      " 38  Unnamed: 38      371 non-null    object\n",
      " 39  Unnamed: 39      369 non-null    object\n",
      " 40  Unnamed: 40      370 non-null    object\n",
      " 41  Unnamed: 41      370 non-null    object\n",
      " 42  Unnamed: 42      370 non-null    object\n",
      " 43  Unnamed: 43      364 non-null    object\n",
      " 44  Unnamed: 44      362 non-null    object\n",
      " 45  Unnamed: 45      383 non-null    object\n",
      " 46  Unnamed: 46      382 non-null    object\n",
      " 47  Unnamed: 47      371 non-null    object\n",
      " 48  Unnamed: 48      368 non-null    object\n",
      " 49  Unnamed: 49      370 non-null    object\n",
      " 50  Unnamed: 50      370 non-null    object\n",
      " 51  Unnamed: 51      370 non-null    object\n",
      " 52  Unnamed: 52      364 non-null    object\n",
      " 53  Unnamed: 53      363 non-null    object\n",
      " 54  Unnamed: 54      367 non-null    object\n",
      " 55  Unnamed: 55      366 non-null    object\n",
      " 56  자체시험여부           360 non-null    object\n",
      " 57  적용기술             287 non-null    object\n",
      " 58  Unnamed: 58      288 non-null    object\n",
      " 59  Unnamed: 59      289 non-null    object\n",
      " 60  Unnamed: 60      280 non-null    object\n",
      " 61  Unnamed: 61      201 non-null    object\n",
      " 62  Unnamed: 62      90 non-null     object\n",
      " 63  DF 변경보고          1639 non-null   object\n",
      "dtypes: object(64)\n",
      "memory usage: 2.9+ MB\n"
     ]
    }
   ],
   "source": [
    "name = '건설기계 인증대장(Tier3~Stage5)'\n",
    "file_name = f'{name}.xlsx'\n",
    "cert_ld34 = pd.read_excel(os.path.join(raw2_fold, file_name), sheet_name='TIER-3~TIER-4')\n",
    "cert_ld34.info()"
   ]
  },
  {
   "cell_type": "code",
   "execution_count": 161,
   "metadata": {},
   "outputs": [
    {
     "name": "stdout",
     "output_type": "stream",
     "text": [
      "<class 'pandas.core.frame.DataFrame'>\n",
      "RangeIndex: 2058 entries, 0 to 2057\n",
      "Data columns (total 74 columns):\n",
      " #   Column           Non-Null Count  Dtype  \n",
      "---  ------           --------------  -----  \n",
      " 0   배출기준             2054 non-null   object \n",
      " 1   상호명              2055 non-null   object \n",
      " 2   인증번호             2055 non-null   object \n",
      " 3   최초인증일자           2054 non-null   object \n",
      " 4   재교부일자\n",
      "(변경일자)     2054 non-null   object \n",
      " 5   접수번호             2054 non-null   object \n",
      " 6   접수일자             2054 non-null   object \n",
      " 7   종류               2054 non-null   object \n",
      " 8   구분               2054 non-null   object \n",
      " 9   상세내역             783 non-null    object \n",
      " 10  엔진형식\n",
      "(엔진모델명)     2054 non-null   object \n",
      " 11  엔진코드             2053 non-null   object \n",
      " 12  엔진배기량            2054 non-null   float64\n",
      " 13  최대출력             2050 non-null   object \n",
      " 14  Unnamed: 14      2050 non-null   object \n",
      " 15  엔진\n",
      "제작사           2054 non-null   object \n",
      " 16  엔진제작국            2054 non-null   object \n",
      " 17  건설기계 \n",
      "수입사\n",
      "(대표자)  2044 non-null   object \n",
      " 18  건설기계\n",
      "제작사         2044 non-null   object \n",
      " 19  건설기계\n",
      "명칭          2044 non-null   object \n",
      " 20  건설/농업기계 형식       2044 non-null   object \n",
      " 21  비고               183 non-null    object \n",
      " 22  기준치              152 non-null    object \n",
      " 23  Unnamed: 23      152 non-null    object \n",
      " 24  Unnamed: 24      152 non-null    object \n",
      " 25  Unnamed: 25      152 non-null    object \n",
      " 26  Unnamed: 26      152 non-null    object \n",
      " 27  Unnamed: 27      152 non-null    object \n",
      " 28  Unnamed: 28      151 non-null    object \n",
      " 29  시험결과             153 non-null    object \n",
      " 30  Unnamed: 30      152 non-null    object \n",
      " 31  Unnamed: 31      152 non-null    object \n",
      " 32  Unnamed: 32      152 non-null    object \n",
      " 33  Unnamed: 33      152 non-null    object \n",
      " 34  Unnamed: 34      152 non-null    object \n",
      " 35  Unnamed: 35      152 non-null    object \n",
      " 36  Unnamed: 36      152 non-null    object \n",
      " 37  Unnamed: 37      152 non-null    object \n",
      " 38  Unnamed: 38      152 non-null    object \n",
      " 39  Unnamed: 39      153 non-null    object \n",
      " 40  Unnamed: 40      152 non-null    object \n",
      " 41  Unnamed: 41      152 non-null    object \n",
      " 42  Unnamed: 42      151 non-null    object \n",
      " 43  Unnamed: 43      151 non-null    object \n",
      " 44  Unnamed: 44      151 non-null    object \n",
      " 45  Unnamed: 45      151 non-null    object \n",
      " 46  Unnamed: 46      151 non-null    object \n",
      " 47  Unnamed: 47      151 non-null    object \n",
      " 48  Unnamed: 48      151 non-null    object \n",
      " 49  Unnamed: 49      151 non-null    object \n",
      " 50  Unnamed: 50      151 non-null    object \n",
      " 51  Unnamed: 51      152 non-null    object \n",
      " 52  Unnamed: 52      151 non-null    object \n",
      " 53  Unnamed: 53      152 non-null    object \n",
      " 54  Unnamed: 54      151 non-null    object \n",
      " 55  Unnamed: 55      151 non-null    object \n",
      " 56  Unnamed: 56      151 non-null    object \n",
      " 57  Unnamed: 57      151 non-null    object \n",
      " 58  Unnamed: 58      150 non-null    object \n",
      " 59  Unnamed: 59      151 non-null    object \n",
      " 60  Unnamed: 60      150 non-null    object \n",
      " 61  Unnamed: 61      151 non-null    object \n",
      " 62  Unnamed: 62      151 non-null    object \n",
      " 63  Unnamed: 63      152 non-null    object \n",
      " 64  Unnamed: 64      151 non-null    object \n",
      " 65  자체시험여부           151 non-null    object \n",
      " 66  DF 대표            138 non-null    object \n",
      " 67  적용기술             131 non-null    object \n",
      " 68  Unnamed: 68      131 non-null    object \n",
      " 69  Unnamed: 69      131 non-null    object \n",
      " 70  Unnamed: 70      131 non-null    object \n",
      " 71  Unnamed: 71      131 non-null    object \n",
      " 72  Unnamed: 72      105 non-null    object \n",
      " 73  임의설정자료제출여부       130 non-null    object \n",
      "dtypes: float64(1), object(73)\n",
      "memory usage: 1.2+ MB\n"
     ]
    }
   ],
   "source": [
    "name = '건설기계 인증대장(Tier3~Stage5)'\n",
    "file_name = f'{name}.xlsx'\n",
    "cert_ld5 = pd.read_excel(os.path.join(raw2_fold, file_name), sheet_name='STAGE5')\n",
    "cert_ld5.info()"
   ]
  },
  {
   "cell_type": "markdown",
   "metadata": {},
   "source": [
    "### 정보(TIER-3~TIER-4)"
   ]
  },
  {
   "cell_type": "markdown",
   "metadata": {},
   "source": [
    "#### 컬럼 수정"
   ]
  },
  {
   "cell_type": "code",
   "execution_count": 128,
   "metadata": {},
   "outputs": [
    {
     "data": {
      "text/plain": [
       "Index(['배출기준', '상호명', '인증번호', '최초인증일자', '재교부일자\\n(변경일자)', '접수번호', '접수일자', '종류',\n",
       "       '구분', '상세내역', '엔진형식\\n(엔진모델명)', '엔진코드', '엔진배기량', '최대출력', 'Unnamed: 14',\n",
       "       '엔진제작사', '엔진제작국', '건설기계 \\n수입사\\n(대표자)', '건설기계\\n제작사', '건설기계\\n명칭',\n",
       "       '건설/농업기계 형식', '비고', '정정내역', '기준치', 'Unnamed: 24', 'Unnamed: 25',\n",
       "       'Unnamed: 26', 'Unnamed: 27', 'Unnamed: 28', '시험결과', 'Unnamed: 30',\n",
       "       'Unnamed: 31', 'Unnamed: 32', 'Unnamed: 33', 'Unnamed: 34',\n",
       "       'Unnamed: 35', 'Unnamed: 36', 'Unnamed: 37', 'Unnamed: 38',\n",
       "       'Unnamed: 39', 'Unnamed: 40', 'Unnamed: 41', 'Unnamed: 42',\n",
       "       'Unnamed: 43', 'Unnamed: 44', 'Unnamed: 45', 'Unnamed: 46',\n",
       "       'Unnamed: 47', 'Unnamed: 48', 'Unnamed: 49', 'Unnamed: 50',\n",
       "       'Unnamed: 51', 'Unnamed: 52', 'Unnamed: 53', 'Unnamed: 54',\n",
       "       'Unnamed: 55', '자체시험여부', '적용기술', 'Unnamed: 58', 'Unnamed: 59',\n",
       "       'Unnamed: 60', 'Unnamed: 61', 'Unnamed: 62', 'DF 변경보고'],\n",
       "      dtype='object')"
      ]
     },
     "execution_count": 128,
     "metadata": {},
     "output_type": "execute_result"
    }
   ],
   "source": [
    "cert_ld34.columns"
   ]
  },
  {
   "cell_type": "code",
   "execution_count": 136,
   "metadata": {},
   "outputs": [
    {
     "data": {
      "text/plain": [
       "64"
      ]
     },
     "execution_count": 136,
     "metadata": {},
     "output_type": "execute_result"
    }
   ],
   "source": [
    "cert_ld34.columns = [\n",
    "    '배출기준', '상호명', '인증번호', '최초인증일자', '재교부일자(변경일자)', '접수번호', '접수일자', '종류', '구분', '상세내역', '엔진형식(엔진모델명)', '엔진코드', '엔진배기량', '최대출력_KW', '최대출력_RPM', '엔진제작사', '엔진제작국', '건설기계수입사(대표자)', '건설기계제작사', '건설기계명칭', '건설/농업기계_형식', '비고', '정정내역', \n",
    "    '기준치_CO', '기준치_NMHC+Nox', '기준치_NMHC', '기준치_Nox', '기준치_PM', '기준치_CO2', \n",
    "    '시험결과_ISO_8178_C1_CO', '시험결과_ISO_8178_C1_HC+Nox', '시험결과_ISO_8178_C1_NMHC', '시험결과_ISO_8178_C1_Nox', '시험결과_ISO_8178_C1_PM', '시험결과_ISO_8178_C1_CO2', '시험결과_ISO_8178_C1_검사일시', '시험결과_ISO_8178_C1_최대출력_kw', '시험결과_ISO_8178_C1_rpm', \n",
    "    '시험결과_NRSC_CO', '시험결과_NRSC_HC+Nox', '시험결과_NRSC_NMHC', '시험결과_NRSC_Nox', '시험결과_NRSC_PM', '시험결과_NRSC_CO2', '시험결과_NRSC_검사일시', '시험결과_NRSC_최대출력_kw', '시험결과_NRSC_최대출력_rpm', \n",
    "    '시험결과_NRTC_CO', '시험결과_NRTC_HC+Nox', '시험결과_NRTC_NMHC', '시험결과_NRTC_Nox', '시험결과_NRTC_PM', '시험결과_NRTC_CO2', '시험결과_NRTC_검사일시', '시험결과_NRTC_최대출력_kw', '시험결과_NRTC_최대출력_rpm',\n",
    "    '자체시험여부', '적용기술_EGR', '적용기술_SCR', '적용기술_DPF', '적용기술_ECU', '적용기술_DOC', '적용기술_기타', 'DF_변경보고'\n",
    "]\n",
    "len(cert_ld34.columns)"
   ]
  },
  {
   "cell_type": "markdown",
   "metadata": {},
   "source": [
    "#### 필요한 데이터만 추출(행 제한)"
   ]
  },
  {
   "cell_type": "code",
   "execution_count": 137,
   "metadata": {},
   "outputs": [
    {
     "data": {
      "text/html": [
       "<div>\n",
       "<style scoped>\n",
       "    .dataframe tbody tr th:only-of-type {\n",
       "        vertical-align: middle;\n",
       "    }\n",
       "\n",
       "    .dataframe tbody tr th {\n",
       "        vertical-align: top;\n",
       "    }\n",
       "\n",
       "    .dataframe thead th {\n",
       "        text-align: right;\n",
       "    }\n",
       "</style>\n",
       "<table border=\"1\" class=\"dataframe\">\n",
       "  <thead>\n",
       "    <tr style=\"text-align: right;\">\n",
       "      <th></th>\n",
       "      <th>배출기준</th>\n",
       "      <th>상호명</th>\n",
       "      <th>인증번호</th>\n",
       "      <th>최초인증일자</th>\n",
       "      <th>재교부일자(변경일자)</th>\n",
       "      <th>접수번호</th>\n",
       "      <th>접수일자</th>\n",
       "      <th>종류</th>\n",
       "      <th>구분</th>\n",
       "      <th>상세내역</th>\n",
       "      <th>...</th>\n",
       "      <th>시험결과_NRTC_최대출력_kw</th>\n",
       "      <th>시험결과_NRTC_최대출력_rpm</th>\n",
       "      <th>자체시험여부</th>\n",
       "      <th>적용기술_EGR</th>\n",
       "      <th>적용기술_SCR</th>\n",
       "      <th>적용기술_DPF</th>\n",
       "      <th>적용기술_ECU</th>\n",
       "      <th>적용기술_DOC</th>\n",
       "      <th>적용기술_기타</th>\n",
       "      <th>DF_변경보고</th>\n",
       "    </tr>\n",
       "  </thead>\n",
       "  <tbody>\n",
       "    <tr>\n",
       "      <th>3</th>\n",
       "      <td>tier-3</td>\n",
       "      <td>㈜커민스 코리아, 윤석윤</td>\n",
       "      <td>09EN*CU*01</td>\n",
       "      <td>2009-01-14 00:00:00</td>\n",
       "      <td>-</td>\n",
       "      <td>6940</td>\n",
       "      <td>2008-12-23 00:00:00</td>\n",
       "      <td>건설기계</td>\n",
       "      <td>대표(최초)</td>\n",
       "      <td>NaN</td>\n",
       "      <td>...</td>\n",
       "      <td>-</td>\n",
       "      <td>-</td>\n",
       "      <td>TIER-2기준으로시험,3도만족\\n교통입회</td>\n",
       "      <td>X</td>\n",
       "      <td>X</td>\n",
       "      <td>X</td>\n",
       "      <td>O</td>\n",
       "      <td>NaN</td>\n",
       "      <td>NaN</td>\n",
       "      <td>해당없음</td>\n",
       "    </tr>\n",
       "    <tr>\n",
       "      <th>4</th>\n",
       "      <td>tier-3</td>\n",
       "      <td>㈜커민스 코리아, 윤석윤</td>\n",
       "      <td>09EN*CU*01</td>\n",
       "      <td>-</td>\n",
       "      <td>2012-02-08 00:00:00</td>\n",
       "      <td>15</td>\n",
       "      <td>2012-02-06 00:00:00</td>\n",
       "      <td>건설기계</td>\n",
       "      <td>대표(정정)</td>\n",
       "      <td>대표엔진의\\n건설기계 형식 정정</td>\n",
       "      <td>...</td>\n",
       "      <td>NaN</td>\n",
       "      <td>NaN</td>\n",
       "      <td>NaN</td>\n",
       "      <td>NaN</td>\n",
       "      <td>NaN</td>\n",
       "      <td>NaN</td>\n",
       "      <td>NaN</td>\n",
       "      <td>NaN</td>\n",
       "      <td>NaN</td>\n",
       "      <td>해당없음</td>\n",
       "    </tr>\n",
       "    <tr>\n",
       "      <th>5</th>\n",
       "      <td>tier-3</td>\n",
       "      <td>㈜커민스 코리아, 윤석윤</td>\n",
       "      <td>09EN*CU*01</td>\n",
       "      <td>-</td>\n",
       "      <td>2011-08-03 00:00:00</td>\n",
       "      <td>173</td>\n",
       "      <td>2011-07-26 00:00:00</td>\n",
       "      <td>건설기계</td>\n",
       "      <td>대표(보고)</td>\n",
       "      <td>대표엔진의\\n수입사 및 건설기계추가</td>\n",
       "      <td>...</td>\n",
       "      <td>NaN</td>\n",
       "      <td>NaN</td>\n",
       "      <td>NaN</td>\n",
       "      <td>NaN</td>\n",
       "      <td>NaN</td>\n",
       "      <td>NaN</td>\n",
       "      <td>NaN</td>\n",
       "      <td>NaN</td>\n",
       "      <td>NaN</td>\n",
       "      <td>해당없음</td>\n",
       "    </tr>\n",
       "    <tr>\n",
       "      <th>6</th>\n",
       "      <td>tier-3</td>\n",
       "      <td>㈜커민스 코리아, 윤석윤</td>\n",
       "      <td>09EN*CU*01</td>\n",
       "      <td>-</td>\n",
       "      <td>2011-09-22 00:00:00</td>\n",
       "      <td>204</td>\n",
       "      <td>2011-09-07 00:00:00</td>\n",
       "      <td>건설기계</td>\n",
       "      <td>대표(보고)</td>\n",
       "      <td>대표엔진의\\n수입사 및 건설기계추가</td>\n",
       "      <td>...</td>\n",
       "      <td>NaN</td>\n",
       "      <td>NaN</td>\n",
       "      <td>NaN</td>\n",
       "      <td>NaN</td>\n",
       "      <td>NaN</td>\n",
       "      <td>NaN</td>\n",
       "      <td>NaN</td>\n",
       "      <td>NaN</td>\n",
       "      <td>NaN</td>\n",
       "      <td>해당없음</td>\n",
       "    </tr>\n",
       "    <tr>\n",
       "      <th>7</th>\n",
       "      <td>tier-3</td>\n",
       "      <td>㈜커민스 코리아, 윤석윤</td>\n",
       "      <td>09EN*CU*01</td>\n",
       "      <td>-</td>\n",
       "      <td>2012-01-25 00:00:00</td>\n",
       "      <td>3</td>\n",
       "      <td>2012-01-10 00:00:00</td>\n",
       "      <td>건설기계</td>\n",
       "      <td>대표(보고)</td>\n",
       "      <td>대표엔진의\\n수입사 및 건설기계추가</td>\n",
       "      <td>...</td>\n",
       "      <td>NaN</td>\n",
       "      <td>NaN</td>\n",
       "      <td>NaN</td>\n",
       "      <td>NaN</td>\n",
       "      <td>NaN</td>\n",
       "      <td>NaN</td>\n",
       "      <td>NaN</td>\n",
       "      <td>NaN</td>\n",
       "      <td>NaN</td>\n",
       "      <td>해당없음</td>\n",
       "    </tr>\n",
       "  </tbody>\n",
       "</table>\n",
       "<p>5 rows × 64 columns</p>\n",
       "</div>"
      ],
      "text/plain": [
       "     배출기준            상호명        인증번호               최초인증일자  \\\n",
       "3  tier-3  ㈜커민스 코리아, 윤석윤  09EN*CU*01  2009-01-14 00:00:00   \n",
       "4  tier-3  ㈜커민스 코리아, 윤석윤  09EN*CU*01                    -   \n",
       "5  tier-3  ㈜커민스 코리아, 윤석윤  09EN*CU*01                    -   \n",
       "6  tier-3  ㈜커민스 코리아, 윤석윤  09EN*CU*01                    -   \n",
       "7  tier-3  ㈜커민스 코리아, 윤석윤  09EN*CU*01                    -   \n",
       "\n",
       "           재교부일자(변경일자)  접수번호                 접수일자    종류      구분  \\\n",
       "3                    -  6940  2008-12-23 00:00:00  건설기계  대표(최초)   \n",
       "4  2012-02-08 00:00:00    15  2012-02-06 00:00:00  건설기계  대표(정정)   \n",
       "5  2011-08-03 00:00:00   173  2011-07-26 00:00:00  건설기계  대표(보고)   \n",
       "6  2011-09-22 00:00:00   204  2011-09-07 00:00:00  건설기계  대표(보고)   \n",
       "7  2012-01-25 00:00:00     3  2012-01-10 00:00:00  건설기계  대표(보고)   \n",
       "\n",
       "                  상세내역  ... 시험결과_NRTC_최대출력_kw 시험결과_NRTC_최대출력_rpm  \\\n",
       "3                  NaN  ...                 -                  -   \n",
       "4    대표엔진의\\n건설기계 형식 정정  ...               NaN                NaN   \n",
       "5  대표엔진의\\n수입사 및 건설기계추가  ...               NaN                NaN   \n",
       "6  대표엔진의\\n수입사 및 건설기계추가  ...               NaN                NaN   \n",
       "7  대표엔진의\\n수입사 및 건설기계추가  ...               NaN                NaN   \n",
       "\n",
       "                    자체시험여부 적용기술_EGR 적용기술_SCR 적용기술_DPF 적용기술_ECU 적용기술_DOC  \\\n",
       "3  TIER-2기준으로시험,3도만족\\n교통입회        X        X        X        O      NaN   \n",
       "4                      NaN      NaN      NaN      NaN      NaN      NaN   \n",
       "5                      NaN      NaN      NaN      NaN      NaN      NaN   \n",
       "6                      NaN      NaN      NaN      NaN      NaN      NaN   \n",
       "7                      NaN      NaN      NaN      NaN      NaN      NaN   \n",
       "\n",
       "  적용기술_기타 DF_변경보고  \n",
       "3     NaN    해당없음  \n",
       "4     NaN    해당없음  \n",
       "5     NaN    해당없음  \n",
       "6     NaN    해당없음  \n",
       "7     NaN    해당없음  \n",
       "\n",
       "[5 rows x 64 columns]"
      ]
     },
     "execution_count": 137,
     "metadata": {},
     "output_type": "execute_result"
    }
   ],
   "source": [
    "cert_ld34 = cert_ld34.iloc[3:, :]\n",
    "cert_ld34.head()"
   ]
  },
  {
   "cell_type": "code",
   "execution_count": 184,
   "metadata": {},
   "outputs": [
    {
     "data": {
      "text/plain": [
       "(5971, 64)"
      ]
     },
     "execution_count": 184,
     "metadata": {},
     "output_type": "execute_result"
    }
   ],
   "source": [
    "cert_ld34.shape"
   ]
  },
  {
   "cell_type": "markdown",
   "metadata": {},
   "source": [
    "### 데이터 확인"
   ]
  },
  {
   "cell_type": "code",
   "execution_count": 509,
   "metadata": {},
   "outputs": [
    {
     "data": {
      "text/plain": [
       "{'16년부터 수입 안함', 2200, 'O', nan, '신규인증완료후 미생산', '해당없음'}"
      ]
     },
     "execution_count": 509,
     "metadata": {},
     "output_type": "execute_result"
    }
   ],
   "source": [
    "set(cert_ld34['DF_변경보고'].unique())"
   ]
  },
  {
   "cell_type": "markdown",
   "metadata": {},
   "source": [
    "### 데이터 수정(TIER-3~TIER-4)"
   ]
  },
  {
   "cell_type": "code",
   "execution_count": null,
   "metadata": {},
   "outputs": [],
   "source": [
    "# 줄 바꿈이 있는 열\n",
    "# 상세내역, 최대출력_KW, 최대출력_RPM, 정정내역, 자체시험여부\n",
    "\n",
    "# 줄 바꿈을 간격으로 바꿀 열\n",
    "# 상세내역\n",
    "\n",
    "# 줄 바꿈을 없앨 열\n",
    "# 최대출력_KW, 최대출력_RPM, 정정내역\n",
    "\n",
    "# 줄 바꿈을 쉼표로 바꿀 열\n",
    "# 자체시험여부"
   ]
  },
  {
   "cell_type": "code",
   "execution_count": 141,
   "metadata": {},
   "outputs": [
    {
     "data": {
      "text/html": [
       "<div>\n",
       "<style scoped>\n",
       "    .dataframe tbody tr th:only-of-type {\n",
       "        vertical-align: middle;\n",
       "    }\n",
       "\n",
       "    .dataframe tbody tr th {\n",
       "        vertical-align: top;\n",
       "    }\n",
       "\n",
       "    .dataframe thead th {\n",
       "        text-align: right;\n",
       "    }\n",
       "</style>\n",
       "<table border=\"1\" class=\"dataframe\">\n",
       "  <thead>\n",
       "    <tr style=\"text-align: right;\">\n",
       "      <th></th>\n",
       "      <th>상세내역</th>\n",
       "    </tr>\n",
       "  </thead>\n",
       "  <tbody>\n",
       "    <tr>\n",
       "      <th>3</th>\n",
       "      <td>NaN</td>\n",
       "    </tr>\n",
       "    <tr>\n",
       "      <th>4</th>\n",
       "      <td>대표엔진의 건설기계 형식 정정</td>\n",
       "    </tr>\n",
       "    <tr>\n",
       "      <th>5</th>\n",
       "      <td>대표엔진의 수입사 및 건설기계추가</td>\n",
       "    </tr>\n",
       "    <tr>\n",
       "      <th>6</th>\n",
       "      <td>대표엔진의 수입사 및 건설기계추가</td>\n",
       "    </tr>\n",
       "    <tr>\n",
       "      <th>7</th>\n",
       "      <td>대표엔진의 수입사 및 건설기계추가</td>\n",
       "    </tr>\n",
       "  </tbody>\n",
       "</table>\n",
       "</div>"
      ],
      "text/plain": [
       "                 상세내역\n",
       "3                 NaN\n",
       "4    대표엔진의 건설기계 형식 정정\n",
       "5  대표엔진의 수입사 및 건설기계추가\n",
       "6  대표엔진의 수입사 및 건설기계추가\n",
       "7  대표엔진의 수입사 및 건설기계추가"
      ]
     },
     "execution_count": 141,
     "metadata": {},
     "output_type": "execute_result"
    }
   ],
   "source": [
    "# 줄 바꿈을 간격으로 바꿀 열\n",
    "# 상세내역\n",
    "cert_ld34['상세내역'] = cert_ld34['상세내역'].str.replace('\\n', ' ')\n",
    "cert_ld34[['상세내역']].head()"
   ]
  },
  {
   "cell_type": "code",
   "execution_count": 140,
   "metadata": {},
   "outputs": [
    {
     "data": {
      "text/html": [
       "<div>\n",
       "<style scoped>\n",
       "    .dataframe tbody tr th:only-of-type {\n",
       "        vertical-align: middle;\n",
       "    }\n",
       "\n",
       "    .dataframe tbody tr th {\n",
       "        vertical-align: top;\n",
       "    }\n",
       "\n",
       "    .dataframe thead th {\n",
       "        text-align: right;\n",
       "    }\n",
       "</style>\n",
       "<table border=\"1\" class=\"dataframe\">\n",
       "  <thead>\n",
       "    <tr style=\"text-align: right;\">\n",
       "      <th></th>\n",
       "      <th>최대출력_KW</th>\n",
       "      <th>최대출력_RPM</th>\n",
       "      <th>정정내역</th>\n",
       "    </tr>\n",
       "  </thead>\n",
       "  <tbody>\n",
       "    <tr>\n",
       "      <th>3</th>\n",
       "      <td>250(325ps)</td>\n",
       "      <td>2,100(1,900)</td>\n",
       "      <td>1. 동일엔진 추가, 출력병기   (2010.02.02, 재교부)</td>\n",
       "    </tr>\n",
       "    <tr>\n",
       "      <th>4</th>\n",
       "      <td>250(325ps)</td>\n",
       "      <td>2,100(1,900)</td>\n",
       "      <td>1.건설기계 형식 정정(2012.02.,재교부)</td>\n",
       "    </tr>\n",
       "    <tr>\n",
       "      <th>5</th>\n",
       "      <td>250(325ps)</td>\n",
       "      <td>2,100(1,900)</td>\n",
       "      <td>NaN</td>\n",
       "    </tr>\n",
       "    <tr>\n",
       "      <th>6</th>\n",
       "      <td>250(325ps)</td>\n",
       "      <td>2,100(1,900)</td>\n",
       "      <td>NaN</td>\n",
       "    </tr>\n",
       "    <tr>\n",
       "      <th>7</th>\n",
       "      <td>250(325ps)</td>\n",
       "      <td>2,100(1,900)</td>\n",
       "      <td>NaN</td>\n",
       "    </tr>\n",
       "  </tbody>\n",
       "</table>\n",
       "</div>"
      ],
      "text/plain": [
       "      최대출력_KW      최대출력_RPM                                  정정내역\n",
       "3  250(325ps)  2,100(1,900)  1. 동일엔진 추가, 출력병기   (2010.02.02, 재교부)\n",
       "4  250(325ps)  2,100(1,900)            1.건설기계 형식 정정(2012.02.,재교부)\n",
       "5  250(325ps)  2,100(1,900)                                   NaN\n",
       "6  250(325ps)  2,100(1,900)                                   NaN\n",
       "7  250(325ps)  2,100(1,900)                                   NaN"
      ]
     },
     "execution_count": 140,
     "metadata": {},
     "output_type": "execute_result"
    }
   ],
   "source": [
    "# 줄 바꿈을 없앨 열\n",
    "# 최대출력_KW, 최대출력_RPM, 정정내역\n",
    "cert_ld34['최대출력_KW'] = cert_ld34['최대출력_KW'].str.replace('\\n', '')\n",
    "cert_ld34['최대출력_RPM'] = cert_ld34['최대출력_RPM'].str.replace('\\n', '')\n",
    "cert_ld34['정정내역'] = cert_ld34['정정내역'].str.replace('\\n', '')\n",
    "cert_ld34[['최대출력_KW', '최대출력_RPM', '정정내역']].head()"
   ]
  },
  {
   "cell_type": "code",
   "execution_count": 142,
   "metadata": {},
   "outputs": [
    {
     "data": {
      "text/html": [
       "<div>\n",
       "<style scoped>\n",
       "    .dataframe tbody tr th:only-of-type {\n",
       "        vertical-align: middle;\n",
       "    }\n",
       "\n",
       "    .dataframe tbody tr th {\n",
       "        vertical-align: top;\n",
       "    }\n",
       "\n",
       "    .dataframe thead th {\n",
       "        text-align: right;\n",
       "    }\n",
       "</style>\n",
       "<table border=\"1\" class=\"dataframe\">\n",
       "  <thead>\n",
       "    <tr style=\"text-align: right;\">\n",
       "      <th></th>\n",
       "      <th>자체시험여부</th>\n",
       "    </tr>\n",
       "  </thead>\n",
       "  <tbody>\n",
       "    <tr>\n",
       "      <th>3</th>\n",
       "      <td>TIER-2기준으로시험,3도만족,교통입회</td>\n",
       "    </tr>\n",
       "    <tr>\n",
       "      <th>4</th>\n",
       "      <td>NaN</td>\n",
       "    </tr>\n",
       "    <tr>\n",
       "      <th>5</th>\n",
       "      <td>NaN</td>\n",
       "    </tr>\n",
       "    <tr>\n",
       "      <th>6</th>\n",
       "      <td>NaN</td>\n",
       "    </tr>\n",
       "    <tr>\n",
       "      <th>7</th>\n",
       "      <td>NaN</td>\n",
       "    </tr>\n",
       "  </tbody>\n",
       "</table>\n",
       "</div>"
      ],
      "text/plain": [
       "                   자체시험여부\n",
       "3  TIER-2기준으로시험,3도만족,교통입회\n",
       "4                     NaN\n",
       "5                     NaN\n",
       "6                     NaN\n",
       "7                     NaN"
      ]
     },
     "execution_count": 142,
     "metadata": {},
     "output_type": "execute_result"
    }
   ],
   "source": [
    "# 줄 바꿈을 쉼표로 바꿀 열\n",
    "# 자체시험여부\n",
    "cert_ld34['자체시험여부'] = cert_ld34['자체시험여부'].str.replace('\\n', ',')\n",
    "cert_ld34[['자체시험여부']].head()"
   ]
  },
  {
   "cell_type": "markdown",
   "metadata": {},
   "source": [
    "### 정보(STAGE5)"
   ]
  },
  {
   "cell_type": "markdown",
   "metadata": {},
   "source": [
    "#### 컬럼 수정"
   ]
  },
  {
   "cell_type": "code",
   "execution_count": 162,
   "metadata": {},
   "outputs": [
    {
     "data": {
      "text/html": [
       "<div>\n",
       "<style scoped>\n",
       "    .dataframe tbody tr th:only-of-type {\n",
       "        vertical-align: middle;\n",
       "    }\n",
       "\n",
       "    .dataframe tbody tr th {\n",
       "        vertical-align: top;\n",
       "    }\n",
       "\n",
       "    .dataframe thead th {\n",
       "        text-align: right;\n",
       "    }\n",
       "</style>\n",
       "<table border=\"1\" class=\"dataframe\">\n",
       "  <thead>\n",
       "    <tr style=\"text-align: right;\">\n",
       "      <th></th>\n",
       "      <th>배출기준</th>\n",
       "      <th>상호명</th>\n",
       "      <th>인증번호</th>\n",
       "      <th>최초인증일자</th>\n",
       "      <th>재교부일자\\n(변경일자)</th>\n",
       "      <th>접수번호</th>\n",
       "      <th>접수일자</th>\n",
       "      <th>종류</th>\n",
       "      <th>구분</th>\n",
       "      <th>상세내역</th>\n",
       "      <th>...</th>\n",
       "      <th>Unnamed: 64</th>\n",
       "      <th>자체시험여부</th>\n",
       "      <th>DF 대표</th>\n",
       "      <th>적용기술</th>\n",
       "      <th>Unnamed: 68</th>\n",
       "      <th>Unnamed: 69</th>\n",
       "      <th>Unnamed: 70</th>\n",
       "      <th>Unnamed: 71</th>\n",
       "      <th>Unnamed: 72</th>\n",
       "      <th>임의설정자료제출여부</th>\n",
       "    </tr>\n",
       "  </thead>\n",
       "  <tbody>\n",
       "    <tr>\n",
       "      <th>0</th>\n",
       "      <td>NaN</td>\n",
       "      <td>NaN</td>\n",
       "      <td>NaN</td>\n",
       "      <td>NaN</td>\n",
       "      <td>NaN</td>\n",
       "      <td>NaN</td>\n",
       "      <td>NaN</td>\n",
       "      <td>NaN</td>\n",
       "      <td>NaN</td>\n",
       "      <td>NaN</td>\n",
       "      <td>...</td>\n",
       "      <td>NaN</td>\n",
       "      <td>NaN</td>\n",
       "      <td>NaN</td>\n",
       "      <td>EGR</td>\n",
       "      <td>SCR</td>\n",
       "      <td>DPF</td>\n",
       "      <td>ECU</td>\n",
       "      <td>DOC</td>\n",
       "      <td>기타</td>\n",
       "      <td>NaN</td>\n",
       "    </tr>\n",
       "    <tr>\n",
       "      <th>1</th>\n",
       "      <td>NaN</td>\n",
       "      <td>NaN</td>\n",
       "      <td>NaN</td>\n",
       "      <td>NaN</td>\n",
       "      <td>NaN</td>\n",
       "      <td>NaN</td>\n",
       "      <td>NaN</td>\n",
       "      <td>NaN</td>\n",
       "      <td>NaN</td>\n",
       "      <td>NaN</td>\n",
       "      <td>...</td>\n",
       "      <td>NaN</td>\n",
       "      <td>NaN</td>\n",
       "      <td>NaN</td>\n",
       "      <td>NaN</td>\n",
       "      <td>NaN</td>\n",
       "      <td>NaN</td>\n",
       "      <td>NaN</td>\n",
       "      <td>NaN</td>\n",
       "      <td>NaN</td>\n",
       "      <td>NaN</td>\n",
       "    </tr>\n",
       "    <tr>\n",
       "      <th>2</th>\n",
       "      <td>NaN</td>\n",
       "      <td>NaN</td>\n",
       "      <td>NaN</td>\n",
       "      <td>NaN</td>\n",
       "      <td>NaN</td>\n",
       "      <td>NaN</td>\n",
       "      <td>NaN</td>\n",
       "      <td>NaN</td>\n",
       "      <td>NaN</td>\n",
       "      <td>NaN</td>\n",
       "      <td>...</td>\n",
       "      <td>rpm</td>\n",
       "      <td>NaN</td>\n",
       "      <td>NaN</td>\n",
       "      <td>NaN</td>\n",
       "      <td>NaN</td>\n",
       "      <td>NaN</td>\n",
       "      <td>NaN</td>\n",
       "      <td>NaN</td>\n",
       "      <td>NaN</td>\n",
       "      <td>NaN</td>\n",
       "    </tr>\n",
       "    <tr>\n",
       "      <th>3</th>\n",
       "      <td>Stage-5</td>\n",
       "      <td>㈜원진에이티</td>\n",
       "      <td>20EN*IV*01</td>\n",
       "      <td>2020-07-15 00:00:00</td>\n",
       "      <td>-</td>\n",
       "      <td>2020_1230</td>\n",
       "      <td>2020-06-16 00:00:00</td>\n",
       "      <td>건설기계</td>\n",
       "      <td>대표(최초)</td>\n",
       "      <td>NaN</td>\n",
       "      <td>...</td>\n",
       "      <td>2000</td>\n",
       "      <td>자체시험</td>\n",
       "      <td>대표</td>\n",
       "      <td>-</td>\n",
       "      <td>O</td>\n",
       "      <td>-</td>\n",
       "      <td>O</td>\n",
       "      <td>O</td>\n",
       "      <td>NaN</td>\n",
       "      <td>X</td>\n",
       "    </tr>\n",
       "    <tr>\n",
       "      <th>4</th>\n",
       "      <td>Stage-5</td>\n",
       "      <td>㈜원진에이티</td>\n",
       "      <td>20EN*IV*01</td>\n",
       "      <td>2020-07-15 00:00:00</td>\n",
       "      <td>-</td>\n",
       "      <td>2020_1230</td>\n",
       "      <td>2020-06-16 00:00:00</td>\n",
       "      <td>농업기계</td>\n",
       "      <td>동일(최초)</td>\n",
       "      <td>NaN</td>\n",
       "      <td>...</td>\n",
       "      <td>NaN</td>\n",
       "      <td>NaN</td>\n",
       "      <td>NaN</td>\n",
       "      <td>NaN</td>\n",
       "      <td>NaN</td>\n",
       "      <td>NaN</td>\n",
       "      <td>NaN</td>\n",
       "      <td>NaN</td>\n",
       "      <td>NaN</td>\n",
       "      <td>NaN</td>\n",
       "    </tr>\n",
       "  </tbody>\n",
       "</table>\n",
       "<p>5 rows × 74 columns</p>\n",
       "</div>"
      ],
      "text/plain": [
       "      배출기준     상호명        인증번호               최초인증일자 재교부일자\\n(변경일자)       접수번호  \\\n",
       "0      NaN     NaN         NaN                  NaN           NaN        NaN   \n",
       "1      NaN     NaN         NaN                  NaN           NaN        NaN   \n",
       "2      NaN     NaN         NaN                  NaN           NaN        NaN   \n",
       "3  Stage-5  ㈜원진에이티  20EN*IV*01  2020-07-15 00:00:00             -  2020_1230   \n",
       "4  Stage-5  ㈜원진에이티  20EN*IV*01  2020-07-15 00:00:00             -  2020_1230   \n",
       "\n",
       "                  접수일자    종류      구분 상세내역  ... Unnamed: 64 자체시험여부  DF 대표 적용기술  \\\n",
       "0                  NaN   NaN     NaN  NaN  ...         NaN    NaN    NaN  EGR   \n",
       "1                  NaN   NaN     NaN  NaN  ...         NaN    NaN    NaN  NaN   \n",
       "2                  NaN   NaN     NaN  NaN  ...         rpm    NaN    NaN  NaN   \n",
       "3  2020-06-16 00:00:00  건설기계  대표(최초)  NaN  ...        2000   자체시험     대표    -   \n",
       "4  2020-06-16 00:00:00  농업기계  동일(최초)  NaN  ...         NaN    NaN    NaN  NaN   \n",
       "\n",
       "  Unnamed: 68 Unnamed: 69 Unnamed: 70 Unnamed: 71 Unnamed: 72 임의설정자료제출여부  \n",
       "0         SCR         DPF         ECU         DOC          기타        NaN  \n",
       "1         NaN         NaN         NaN         NaN         NaN        NaN  \n",
       "2         NaN         NaN         NaN         NaN         NaN        NaN  \n",
       "3           O           -           O           O         NaN          X  \n",
       "4         NaN         NaN         NaN         NaN         NaN        NaN  \n",
       "\n",
       "[5 rows x 74 columns]"
      ]
     },
     "execution_count": 162,
     "metadata": {},
     "output_type": "execute_result"
    }
   ],
   "source": [
    "cert_ld5.head()"
   ]
  },
  {
   "cell_type": "code",
   "execution_count": 163,
   "metadata": {},
   "outputs": [
    {
     "data": {
      "text/plain": [
       "Index(['배출기준', '상호명', '인증번호', '최초인증일자', '재교부일자\\n(변경일자)', '접수번호', '접수일자', '종류',\n",
       "       '구분', '상세내역', '엔진형식\\n(엔진모델명)', '엔진코드', '엔진배기량', '최대출력', 'Unnamed: 14',\n",
       "       '엔진\\n제작사', '엔진제작국', '건설기계 \\n수입사\\n(대표자)', '건설기계\\n제작사', '건설기계\\n명칭',\n",
       "       '건설/농업기계 형식', '비고', '기준치', 'Unnamed: 23', 'Unnamed: 24', 'Unnamed: 25',\n",
       "       'Unnamed: 26', 'Unnamed: 27', 'Unnamed: 28', '시험결과', 'Unnamed: 30',\n",
       "       'Unnamed: 31', 'Unnamed: 32', 'Unnamed: 33', 'Unnamed: 34',\n",
       "       'Unnamed: 35', 'Unnamed: 36', 'Unnamed: 37', 'Unnamed: 38',\n",
       "       'Unnamed: 39', 'Unnamed: 40', 'Unnamed: 41', 'Unnamed: 42',\n",
       "       'Unnamed: 43', 'Unnamed: 44', 'Unnamed: 45', 'Unnamed: 46',\n",
       "       'Unnamed: 47', 'Unnamed: 48', 'Unnamed: 49', 'Unnamed: 50',\n",
       "       'Unnamed: 51', 'Unnamed: 52', 'Unnamed: 53', 'Unnamed: 54',\n",
       "       'Unnamed: 55', 'Unnamed: 56', 'Unnamed: 57', 'Unnamed: 58',\n",
       "       'Unnamed: 59', 'Unnamed: 60', 'Unnamed: 61', 'Unnamed: 62',\n",
       "       'Unnamed: 63', 'Unnamed: 64', '자체시험여부', 'DF 대표', '적용기술', 'Unnamed: 68',\n",
       "       'Unnamed: 69', 'Unnamed: 70', 'Unnamed: 71', 'Unnamed: 72',\n",
       "       '임의설정자료제출여부'],\n",
       "      dtype='object')"
      ]
     },
     "execution_count": 163,
     "metadata": {},
     "output_type": "execute_result"
    }
   ],
   "source": [
    "cert_ld5.columns"
   ]
  },
  {
   "cell_type": "code",
   "execution_count": 164,
   "metadata": {},
   "outputs": [],
   "source": [
    "cert_ld5.columns = [\n",
    "    '배출기준', '상호명', '인증번호', '최초인증일자', '재교부일자(변경일자)', '접수번호', '접수일자', '종류', '구분', '상세내역', '엔진형식(엔진모델명)', '엔진코드', '엔진배기량', \n",
    "    '최대출력_KW', '최대출력_RPM',\n",
    "    '엔진제작사', '엔진제작국', '건설기계수입사(대표자)', '건설기계제작사', '건설기계명칭', '건설/농업기계 형식', '비고', \n",
    "    '기준치_CO', '기준치_THC+Nox', '기준치_THC', '기준치_Nox', '기준치_PM', '기준치_PN', '기준치_NH3', \n",
    "    '시험결과_ISO_8178_C1_CO', '시험결과_ISO_8178_C1_THC+Nox', '시험결과_ISO_8178_C1_THC', '시험결과_ISO_8178_C1_Nox', '시험결과_ISO_8178_C1_PM', '시험결과_ISO_8178_C1_PN', '시험결과_ISO_8178_C1_NH3', '시험결과_ISO_8178_C1_CO2', '시험결과_ISO_8178_C1_연비', '시험결과_ISO_8178_C1_검사일시',\n",
    "    '시험결과_ISO_8178_C1_최대출력_kw', '시험결과_ISO_8178_C1_최대출력_rpm', \n",
    "    '시험결과_NRSC_CO', '시험결과_NRSC_THC+Nox', '시험결과_NRSC_THC', '시험결과_NRSC_Nox', '시험결과_NRSC_PM', '시험결과_NRSC_PN', '시험결과_NRSC_NH3', '시험결과_NRSC_CO2', '시험결과_NRSC_연비', '시험결과_NRSC_검사일시', '시험결과_NRSC_최대출력_kw', '시험결과_NRSC_최대출력_rpm', \n",
    "    '시험결과_NRTC_CO', '시험결과_NRTC_THC+Nox', '시험결과_NRTC_THC', '시험결과_NRTC_Nox', '시험결과_NRTC_PM', '시험결과_NRTC_PN', '시험결과_NRTC_NH3', '시험결과_NRTC_CO2', '시험결과_NRTC_연비', '시험결과_NRTC_검사일시', '시험결과_NRTC_최대출력_kw', '시험결과_NRTC_최대출력_rpm', \n",
    "    '자체시험여부', 'DF_대표', '적용기술_EGR', '적용기술_SCR', '적용기술_DPF', '적용기술_ECU', '적용기술_DOC', '적용기술_기타', \n",
    "    '임의설정자료제출여부'\n",
    "]"
   ]
  },
  {
   "cell_type": "code",
   "execution_count": 165,
   "metadata": {},
   "outputs": [
    {
     "data": {
      "text/html": [
       "<div>\n",
       "<style scoped>\n",
       "    .dataframe tbody tr th:only-of-type {\n",
       "        vertical-align: middle;\n",
       "    }\n",
       "\n",
       "    .dataframe tbody tr th {\n",
       "        vertical-align: top;\n",
       "    }\n",
       "\n",
       "    .dataframe thead th {\n",
       "        text-align: right;\n",
       "    }\n",
       "</style>\n",
       "<table border=\"1\" class=\"dataframe\">\n",
       "  <thead>\n",
       "    <tr style=\"text-align: right;\">\n",
       "      <th></th>\n",
       "      <th>배출기준</th>\n",
       "      <th>상호명</th>\n",
       "      <th>인증번호</th>\n",
       "      <th>최초인증일자</th>\n",
       "      <th>재교부일자(변경일자)</th>\n",
       "      <th>접수번호</th>\n",
       "      <th>접수일자</th>\n",
       "      <th>종류</th>\n",
       "      <th>구분</th>\n",
       "      <th>상세내역</th>\n",
       "      <th>...</th>\n",
       "      <th>시험결과_NRTC_최대출력_rpm</th>\n",
       "      <th>자체시험여부</th>\n",
       "      <th>DF_대표</th>\n",
       "      <th>적용기술_EGR</th>\n",
       "      <th>적용기술_SCR</th>\n",
       "      <th>적용기술_DPF</th>\n",
       "      <th>적용기술_ECU</th>\n",
       "      <th>적용기술_DOC</th>\n",
       "      <th>적용기술_기타</th>\n",
       "      <th>임의설정자료제출여부</th>\n",
       "    </tr>\n",
       "  </thead>\n",
       "  <tbody>\n",
       "    <tr>\n",
       "      <th>0</th>\n",
       "      <td>NaN</td>\n",
       "      <td>NaN</td>\n",
       "      <td>NaN</td>\n",
       "      <td>NaN</td>\n",
       "      <td>NaN</td>\n",
       "      <td>NaN</td>\n",
       "      <td>NaN</td>\n",
       "      <td>NaN</td>\n",
       "      <td>NaN</td>\n",
       "      <td>NaN</td>\n",
       "      <td>...</td>\n",
       "      <td>NaN</td>\n",
       "      <td>NaN</td>\n",
       "      <td>NaN</td>\n",
       "      <td>EGR</td>\n",
       "      <td>SCR</td>\n",
       "      <td>DPF</td>\n",
       "      <td>ECU</td>\n",
       "      <td>DOC</td>\n",
       "      <td>기타</td>\n",
       "      <td>NaN</td>\n",
       "    </tr>\n",
       "    <tr>\n",
       "      <th>1</th>\n",
       "      <td>NaN</td>\n",
       "      <td>NaN</td>\n",
       "      <td>NaN</td>\n",
       "      <td>NaN</td>\n",
       "      <td>NaN</td>\n",
       "      <td>NaN</td>\n",
       "      <td>NaN</td>\n",
       "      <td>NaN</td>\n",
       "      <td>NaN</td>\n",
       "      <td>NaN</td>\n",
       "      <td>...</td>\n",
       "      <td>NaN</td>\n",
       "      <td>NaN</td>\n",
       "      <td>NaN</td>\n",
       "      <td>NaN</td>\n",
       "      <td>NaN</td>\n",
       "      <td>NaN</td>\n",
       "      <td>NaN</td>\n",
       "      <td>NaN</td>\n",
       "      <td>NaN</td>\n",
       "      <td>NaN</td>\n",
       "    </tr>\n",
       "    <tr>\n",
       "      <th>2</th>\n",
       "      <td>NaN</td>\n",
       "      <td>NaN</td>\n",
       "      <td>NaN</td>\n",
       "      <td>NaN</td>\n",
       "      <td>NaN</td>\n",
       "      <td>NaN</td>\n",
       "      <td>NaN</td>\n",
       "      <td>NaN</td>\n",
       "      <td>NaN</td>\n",
       "      <td>NaN</td>\n",
       "      <td>...</td>\n",
       "      <td>rpm</td>\n",
       "      <td>NaN</td>\n",
       "      <td>NaN</td>\n",
       "      <td>NaN</td>\n",
       "      <td>NaN</td>\n",
       "      <td>NaN</td>\n",
       "      <td>NaN</td>\n",
       "      <td>NaN</td>\n",
       "      <td>NaN</td>\n",
       "      <td>NaN</td>\n",
       "    </tr>\n",
       "    <tr>\n",
       "      <th>3</th>\n",
       "      <td>Stage-5</td>\n",
       "      <td>㈜원진에이티</td>\n",
       "      <td>20EN*IV*01</td>\n",
       "      <td>2020-07-15 00:00:00</td>\n",
       "      <td>-</td>\n",
       "      <td>2020_1230</td>\n",
       "      <td>2020-06-16 00:00:00</td>\n",
       "      <td>건설기계</td>\n",
       "      <td>대표(최초)</td>\n",
       "      <td>NaN</td>\n",
       "      <td>...</td>\n",
       "      <td>2000</td>\n",
       "      <td>자체시험</td>\n",
       "      <td>대표</td>\n",
       "      <td>-</td>\n",
       "      <td>O</td>\n",
       "      <td>-</td>\n",
       "      <td>O</td>\n",
       "      <td>O</td>\n",
       "      <td>NaN</td>\n",
       "      <td>X</td>\n",
       "    </tr>\n",
       "    <tr>\n",
       "      <th>4</th>\n",
       "      <td>Stage-5</td>\n",
       "      <td>㈜원진에이티</td>\n",
       "      <td>20EN*IV*01</td>\n",
       "      <td>2020-07-15 00:00:00</td>\n",
       "      <td>-</td>\n",
       "      <td>2020_1230</td>\n",
       "      <td>2020-06-16 00:00:00</td>\n",
       "      <td>농업기계</td>\n",
       "      <td>동일(최초)</td>\n",
       "      <td>NaN</td>\n",
       "      <td>...</td>\n",
       "      <td>NaN</td>\n",
       "      <td>NaN</td>\n",
       "      <td>NaN</td>\n",
       "      <td>NaN</td>\n",
       "      <td>NaN</td>\n",
       "      <td>NaN</td>\n",
       "      <td>NaN</td>\n",
       "      <td>NaN</td>\n",
       "      <td>NaN</td>\n",
       "      <td>NaN</td>\n",
       "    </tr>\n",
       "  </tbody>\n",
       "</table>\n",
       "<p>5 rows × 74 columns</p>\n",
       "</div>"
      ],
      "text/plain": [
       "      배출기준     상호명        인증번호               최초인증일자 재교부일자(변경일자)       접수번호  \\\n",
       "0      NaN     NaN         NaN                  NaN         NaN        NaN   \n",
       "1      NaN     NaN         NaN                  NaN         NaN        NaN   \n",
       "2      NaN     NaN         NaN                  NaN         NaN        NaN   \n",
       "3  Stage-5  ㈜원진에이티  20EN*IV*01  2020-07-15 00:00:00           -  2020_1230   \n",
       "4  Stage-5  ㈜원진에이티  20EN*IV*01  2020-07-15 00:00:00           -  2020_1230   \n",
       "\n",
       "                  접수일자    종류      구분 상세내역  ... 시험결과_NRTC_최대출력_rpm 자체시험여부  \\\n",
       "0                  NaN   NaN     NaN  NaN  ...                NaN    NaN   \n",
       "1                  NaN   NaN     NaN  NaN  ...                NaN    NaN   \n",
       "2                  NaN   NaN     NaN  NaN  ...                rpm    NaN   \n",
       "3  2020-06-16 00:00:00  건설기계  대표(최초)  NaN  ...               2000   자체시험   \n",
       "4  2020-06-16 00:00:00  농업기계  동일(최초)  NaN  ...                NaN    NaN   \n",
       "\n",
       "   DF_대표 적용기술_EGR 적용기술_SCR 적용기술_DPF 적용기술_ECU 적용기술_DOC 적용기술_기타 임의설정자료제출여부  \n",
       "0    NaN      EGR      SCR      DPF      ECU      DOC      기타        NaN  \n",
       "1    NaN      NaN      NaN      NaN      NaN      NaN     NaN        NaN  \n",
       "2    NaN      NaN      NaN      NaN      NaN      NaN     NaN        NaN  \n",
       "3     대표        -        O        -        O        O     NaN          X  \n",
       "4    NaN      NaN      NaN      NaN      NaN      NaN     NaN        NaN  \n",
       "\n",
       "[5 rows x 74 columns]"
      ]
     },
     "execution_count": 165,
     "metadata": {},
     "output_type": "execute_result"
    }
   ],
   "source": [
    "cert_ld5.head()"
   ]
  },
  {
   "cell_type": "markdown",
   "metadata": {},
   "source": [
    "#### 필요한 데이터만 추출(행 제한)"
   ]
  },
  {
   "cell_type": "code",
   "execution_count": 166,
   "metadata": {},
   "outputs": [
    {
     "data": {
      "text/html": [
       "<div>\n",
       "<style scoped>\n",
       "    .dataframe tbody tr th:only-of-type {\n",
       "        vertical-align: middle;\n",
       "    }\n",
       "\n",
       "    .dataframe tbody tr th {\n",
       "        vertical-align: top;\n",
       "    }\n",
       "\n",
       "    .dataframe thead th {\n",
       "        text-align: right;\n",
       "    }\n",
       "</style>\n",
       "<table border=\"1\" class=\"dataframe\">\n",
       "  <thead>\n",
       "    <tr style=\"text-align: right;\">\n",
       "      <th></th>\n",
       "      <th>배출기준</th>\n",
       "      <th>상호명</th>\n",
       "      <th>인증번호</th>\n",
       "      <th>최초인증일자</th>\n",
       "      <th>재교부일자(변경일자)</th>\n",
       "      <th>접수번호</th>\n",
       "      <th>접수일자</th>\n",
       "      <th>종류</th>\n",
       "      <th>구분</th>\n",
       "      <th>상세내역</th>\n",
       "      <th>...</th>\n",
       "      <th>시험결과_NRTC_최대출력_rpm</th>\n",
       "      <th>자체시험여부</th>\n",
       "      <th>DF_대표</th>\n",
       "      <th>적용기술_EGR</th>\n",
       "      <th>적용기술_SCR</th>\n",
       "      <th>적용기술_DPF</th>\n",
       "      <th>적용기술_ECU</th>\n",
       "      <th>적용기술_DOC</th>\n",
       "      <th>적용기술_기타</th>\n",
       "      <th>임의설정자료제출여부</th>\n",
       "    </tr>\n",
       "  </thead>\n",
       "  <tbody>\n",
       "    <tr>\n",
       "      <th>3</th>\n",
       "      <td>Stage-5</td>\n",
       "      <td>㈜원진에이티</td>\n",
       "      <td>20EN*IV*01</td>\n",
       "      <td>2020-07-15 00:00:00</td>\n",
       "      <td>-</td>\n",
       "      <td>2020_1230</td>\n",
       "      <td>2020-06-16 00:00:00</td>\n",
       "      <td>건설기계</td>\n",
       "      <td>대표(최초)</td>\n",
       "      <td>NaN</td>\n",
       "      <td>...</td>\n",
       "      <td>2000</td>\n",
       "      <td>자체시험</td>\n",
       "      <td>대표</td>\n",
       "      <td>-</td>\n",
       "      <td>O</td>\n",
       "      <td>-</td>\n",
       "      <td>O</td>\n",
       "      <td>O</td>\n",
       "      <td>NaN</td>\n",
       "      <td>X</td>\n",
       "    </tr>\n",
       "    <tr>\n",
       "      <th>4</th>\n",
       "      <td>Stage-5</td>\n",
       "      <td>㈜원진에이티</td>\n",
       "      <td>20EN*IV*01</td>\n",
       "      <td>2020-07-15 00:00:00</td>\n",
       "      <td>-</td>\n",
       "      <td>2020_1230</td>\n",
       "      <td>2020-06-16 00:00:00</td>\n",
       "      <td>농업기계</td>\n",
       "      <td>동일(최초)</td>\n",
       "      <td>NaN</td>\n",
       "      <td>...</td>\n",
       "      <td>NaN</td>\n",
       "      <td>NaN</td>\n",
       "      <td>NaN</td>\n",
       "      <td>NaN</td>\n",
       "      <td>NaN</td>\n",
       "      <td>NaN</td>\n",
       "      <td>NaN</td>\n",
       "      <td>NaN</td>\n",
       "      <td>NaN</td>\n",
       "      <td>NaN</td>\n",
       "    </tr>\n",
       "    <tr>\n",
       "      <th>5</th>\n",
       "      <td>Stage-5</td>\n",
       "      <td>㈜원진에이티</td>\n",
       "      <td>20EN*IV*01</td>\n",
       "      <td>2020-07-15 00:00:00</td>\n",
       "      <td>-</td>\n",
       "      <td>2020_1230</td>\n",
       "      <td>2020-06-16 00:00:00</td>\n",
       "      <td>농업기계</td>\n",
       "      <td>동일(최초)</td>\n",
       "      <td>NaN</td>\n",
       "      <td>...</td>\n",
       "      <td>NaN</td>\n",
       "      <td>NaN</td>\n",
       "      <td>NaN</td>\n",
       "      <td>NaN</td>\n",
       "      <td>NaN</td>\n",
       "      <td>NaN</td>\n",
       "      <td>NaN</td>\n",
       "      <td>NaN</td>\n",
       "      <td>NaN</td>\n",
       "      <td>NaN</td>\n",
       "    </tr>\n",
       "    <tr>\n",
       "      <th>6</th>\n",
       "      <td>Stage-5</td>\n",
       "      <td>㈜원진에이티</td>\n",
       "      <td>20EN*IV*01</td>\n",
       "      <td>2020-07-15 00:00:00</td>\n",
       "      <td>-</td>\n",
       "      <td>2020_1230</td>\n",
       "      <td>2020-06-16 00:00:00</td>\n",
       "      <td>농업기계</td>\n",
       "      <td>동일(최초)</td>\n",
       "      <td>NaN</td>\n",
       "      <td>...</td>\n",
       "      <td>NaN</td>\n",
       "      <td>NaN</td>\n",
       "      <td>NaN</td>\n",
       "      <td>NaN</td>\n",
       "      <td>NaN</td>\n",
       "      <td>NaN</td>\n",
       "      <td>NaN</td>\n",
       "      <td>NaN</td>\n",
       "      <td>NaN</td>\n",
       "      <td>NaN</td>\n",
       "    </tr>\n",
       "    <tr>\n",
       "      <th>7</th>\n",
       "      <td>Stage-5</td>\n",
       "      <td>㈜원진에이티</td>\n",
       "      <td>20EN*IV*01</td>\n",
       "      <td>2020-07-15 00:00:00</td>\n",
       "      <td>-</td>\n",
       "      <td>2020_1230</td>\n",
       "      <td>2020-06-16 00:00:00</td>\n",
       "      <td>농업기계</td>\n",
       "      <td>동일(최초)</td>\n",
       "      <td>NaN</td>\n",
       "      <td>...</td>\n",
       "      <td>NaN</td>\n",
       "      <td>NaN</td>\n",
       "      <td>NaN</td>\n",
       "      <td>NaN</td>\n",
       "      <td>NaN</td>\n",
       "      <td>NaN</td>\n",
       "      <td>NaN</td>\n",
       "      <td>NaN</td>\n",
       "      <td>NaN</td>\n",
       "      <td>NaN</td>\n",
       "    </tr>\n",
       "  </tbody>\n",
       "</table>\n",
       "<p>5 rows × 74 columns</p>\n",
       "</div>"
      ],
      "text/plain": [
       "      배출기준     상호명        인증번호               최초인증일자 재교부일자(변경일자)       접수번호  \\\n",
       "3  Stage-5  ㈜원진에이티  20EN*IV*01  2020-07-15 00:00:00           -  2020_1230   \n",
       "4  Stage-5  ㈜원진에이티  20EN*IV*01  2020-07-15 00:00:00           -  2020_1230   \n",
       "5  Stage-5  ㈜원진에이티  20EN*IV*01  2020-07-15 00:00:00           -  2020_1230   \n",
       "6  Stage-5  ㈜원진에이티  20EN*IV*01  2020-07-15 00:00:00           -  2020_1230   \n",
       "7  Stage-5  ㈜원진에이티  20EN*IV*01  2020-07-15 00:00:00           -  2020_1230   \n",
       "\n",
       "                  접수일자    종류      구분 상세내역  ... 시험결과_NRTC_최대출력_rpm 자체시험여부  \\\n",
       "3  2020-06-16 00:00:00  건설기계  대표(최초)  NaN  ...               2000   자체시험   \n",
       "4  2020-06-16 00:00:00  농업기계  동일(최초)  NaN  ...                NaN    NaN   \n",
       "5  2020-06-16 00:00:00  농업기계  동일(최초)  NaN  ...                NaN    NaN   \n",
       "6  2020-06-16 00:00:00  농업기계  동일(최초)  NaN  ...                NaN    NaN   \n",
       "7  2020-06-16 00:00:00  농업기계  동일(최초)  NaN  ...                NaN    NaN   \n",
       "\n",
       "   DF_대표 적용기술_EGR 적용기술_SCR 적용기술_DPF 적용기술_ECU 적용기술_DOC 적용기술_기타 임의설정자료제출여부  \n",
       "3     대표        -        O        -        O        O     NaN          X  \n",
       "4    NaN      NaN      NaN      NaN      NaN      NaN     NaN        NaN  \n",
       "5    NaN      NaN      NaN      NaN      NaN      NaN     NaN        NaN  \n",
       "6    NaN      NaN      NaN      NaN      NaN      NaN     NaN        NaN  \n",
       "7    NaN      NaN      NaN      NaN      NaN      NaN     NaN        NaN  \n",
       "\n",
       "[5 rows x 74 columns]"
      ]
     },
     "execution_count": 166,
     "metadata": {},
     "output_type": "execute_result"
    }
   ],
   "source": [
    "cert_ld5 = cert_ld5.iloc[3:, :]\n",
    "cert_ld5.head()"
   ]
  },
  {
   "cell_type": "code",
   "execution_count": 185,
   "metadata": {},
   "outputs": [
    {
     "data": {
      "text/plain": [
       "(2055, 74)"
      ]
     },
     "execution_count": 185,
     "metadata": {},
     "output_type": "execute_result"
    }
   ],
   "source": [
    "cert_ld5.shape"
   ]
  },
  {
   "cell_type": "code",
   "execution_count": 167,
   "metadata": {},
   "outputs": [
    {
     "data": {
      "text/html": [
       "<div>\n",
       "<style scoped>\n",
       "    .dataframe tbody tr th:only-of-type {\n",
       "        vertical-align: middle;\n",
       "    }\n",
       "\n",
       "    .dataframe tbody tr th {\n",
       "        vertical-align: top;\n",
       "    }\n",
       "\n",
       "    .dataframe thead th {\n",
       "        text-align: right;\n",
       "    }\n",
       "</style>\n",
       "<table border=\"1\" class=\"dataframe\">\n",
       "  <thead>\n",
       "    <tr style=\"text-align: right;\">\n",
       "      <th></th>\n",
       "      <th>배출기준</th>\n",
       "      <th>상호명</th>\n",
       "      <th>인증번호</th>\n",
       "      <th>최초인증일자</th>\n",
       "      <th>재교부일자(변경일자)</th>\n",
       "      <th>접수번호</th>\n",
       "      <th>접수일자</th>\n",
       "      <th>종류</th>\n",
       "      <th>구분</th>\n",
       "      <th>상세내역</th>\n",
       "      <th>엔진형식(엔진모델명)</th>\n",
       "      <th>엔진코드</th>\n",
       "      <th>엔진배기량</th>\n",
       "      <th>최대출력_KW</th>\n",
       "      <th>최대출력_RPM</th>\n",
       "      <th>엔진제작사</th>\n",
       "      <th>엔진제작국</th>\n",
       "      <th>건설기계수입사(대표자)</th>\n",
       "      <th>건설기계제작사</th>\n",
       "      <th>건설기계명칭</th>\n",
       "    </tr>\n",
       "  </thead>\n",
       "  <tbody>\n",
       "    <tr>\n",
       "      <th>3</th>\n",
       "      <td>Stage-5</td>\n",
       "      <td>㈜원진에이티</td>\n",
       "      <td>20EN*IV*01</td>\n",
       "      <td>2020-07-15 00:00:00</td>\n",
       "      <td>-</td>\n",
       "      <td>2020_1230</td>\n",
       "      <td>2020-06-16 00:00:00</td>\n",
       "      <td>건설기계</td>\n",
       "      <td>대표(최초)</td>\n",
       "      <td>NaN</td>\n",
       "      <td>F4HGE613I</td>\n",
       "      <td>F4HGE613I*V</td>\n",
       "      <td>6728.00</td>\n",
       "      <td>191</td>\n",
       "      <td>2000</td>\n",
       "      <td>FPT Industrial S.p.A</td>\n",
       "      <td>이태리</td>\n",
       "      <td>해당없음</td>\n",
       "      <td>해당없음</td>\n",
       "      <td>해당없음</td>\n",
       "    </tr>\n",
       "    <tr>\n",
       "      <th>4</th>\n",
       "      <td>Stage-5</td>\n",
       "      <td>㈜원진에이티</td>\n",
       "      <td>20EN*IV*01</td>\n",
       "      <td>2020-07-15 00:00:00</td>\n",
       "      <td>-</td>\n",
       "      <td>2020_1230</td>\n",
       "      <td>2020-06-16 00:00:00</td>\n",
       "      <td>농업기계</td>\n",
       "      <td>동일(최초)</td>\n",
       "      <td>NaN</td>\n",
       "      <td>F4HGE613I</td>\n",
       "      <td>F4DGE617D*V</td>\n",
       "      <td>6728.00</td>\n",
       "      <td>221</td>\n",
       "      <td>2100</td>\n",
       "      <td>FPT Industrial S.p.A</td>\n",
       "      <td>이태리</td>\n",
       "      <td>LS엠트론\\n(구자은)</td>\n",
       "      <td>NH</td>\n",
       "      <td>트랙터</td>\n",
       "    </tr>\n",
       "    <tr>\n",
       "      <th>5</th>\n",
       "      <td>Stage-5</td>\n",
       "      <td>㈜원진에이티</td>\n",
       "      <td>20EN*IV*01</td>\n",
       "      <td>2020-07-15 00:00:00</td>\n",
       "      <td>-</td>\n",
       "      <td>2020_1230</td>\n",
       "      <td>2020-06-16 00:00:00</td>\n",
       "      <td>농업기계</td>\n",
       "      <td>동일(최초)</td>\n",
       "      <td>NaN</td>\n",
       "      <td>F4HGE613I</td>\n",
       "      <td>F4DGE617D*V</td>\n",
       "      <td>6728.00</td>\n",
       "      <td>221</td>\n",
       "      <td>2100</td>\n",
       "      <td>FPT Industrial S.p.A</td>\n",
       "      <td>이태리</td>\n",
       "      <td>삼정건설기계\\n(유재흥)</td>\n",
       "      <td>CASE</td>\n",
       "      <td>트랙터</td>\n",
       "    </tr>\n",
       "    <tr>\n",
       "      <th>6</th>\n",
       "      <td>Stage-5</td>\n",
       "      <td>㈜원진에이티</td>\n",
       "      <td>20EN*IV*01</td>\n",
       "      <td>2020-07-15 00:00:00</td>\n",
       "      <td>-</td>\n",
       "      <td>2020_1230</td>\n",
       "      <td>2020-06-16 00:00:00</td>\n",
       "      <td>농업기계</td>\n",
       "      <td>동일(최초)</td>\n",
       "      <td>NaN</td>\n",
       "      <td>F4HGE613I</td>\n",
       "      <td>F4DGE617E*V</td>\n",
       "      <td>6728.00</td>\n",
       "      <td>199</td>\n",
       "      <td>2100</td>\n",
       "      <td>FPT Industrial S.p.A</td>\n",
       "      <td>이태리</td>\n",
       "      <td>LS엠트론\\n(구자은)</td>\n",
       "      <td>NH</td>\n",
       "      <td>트랙터</td>\n",
       "    </tr>\n",
       "    <tr>\n",
       "      <th>7</th>\n",
       "      <td>Stage-5</td>\n",
       "      <td>㈜원진에이티</td>\n",
       "      <td>20EN*IV*01</td>\n",
       "      <td>2020-07-15 00:00:00</td>\n",
       "      <td>-</td>\n",
       "      <td>2020_1230</td>\n",
       "      <td>2020-06-16 00:00:00</td>\n",
       "      <td>농업기계</td>\n",
       "      <td>동일(최초)</td>\n",
       "      <td>NaN</td>\n",
       "      <td>F4HGE613I</td>\n",
       "      <td>F4DGE617E*V</td>\n",
       "      <td>6728.00</td>\n",
       "      <td>199</td>\n",
       "      <td>2100</td>\n",
       "      <td>FPT Industrial S.p.A</td>\n",
       "      <td>이태리</td>\n",
       "      <td>삼정건설기계\\n(유재흥)</td>\n",
       "      <td>CASE</td>\n",
       "      <td>트랙터</td>\n",
       "    </tr>\n",
       "  </tbody>\n",
       "</table>\n",
       "</div>"
      ],
      "text/plain": [
       "      배출기준     상호명        인증번호               최초인증일자 재교부일자(변경일자)       접수번호  \\\n",
       "3  Stage-5  ㈜원진에이티  20EN*IV*01  2020-07-15 00:00:00           -  2020_1230   \n",
       "4  Stage-5  ㈜원진에이티  20EN*IV*01  2020-07-15 00:00:00           -  2020_1230   \n",
       "5  Stage-5  ㈜원진에이티  20EN*IV*01  2020-07-15 00:00:00           -  2020_1230   \n",
       "6  Stage-5  ㈜원진에이티  20EN*IV*01  2020-07-15 00:00:00           -  2020_1230   \n",
       "7  Stage-5  ㈜원진에이티  20EN*IV*01  2020-07-15 00:00:00           -  2020_1230   \n",
       "\n",
       "                  접수일자    종류      구분 상세내역 엔진형식(엔진모델명)         엔진코드   엔진배기량  \\\n",
       "3  2020-06-16 00:00:00  건설기계  대표(최초)  NaN   F4HGE613I  F4HGE613I*V 6728.00   \n",
       "4  2020-06-16 00:00:00  농업기계  동일(최초)  NaN   F4HGE613I  F4DGE617D*V 6728.00   \n",
       "5  2020-06-16 00:00:00  농업기계  동일(최초)  NaN   F4HGE613I  F4DGE617D*V 6728.00   \n",
       "6  2020-06-16 00:00:00  농업기계  동일(최초)  NaN   F4HGE613I  F4DGE617E*V 6728.00   \n",
       "7  2020-06-16 00:00:00  농업기계  동일(최초)  NaN   F4HGE613I  F4DGE617E*V 6728.00   \n",
       "\n",
       "  최대출력_KW 최대출력_RPM                 엔진제작사 엔진제작국   건설기계수입사(대표자) 건설기계제작사 건설기계명칭  \n",
       "3     191     2000  FPT Industrial S.p.A   이태리           해당없음    해당없음   해당없음  \n",
       "4     221     2100  FPT Industrial S.p.A   이태리   LS엠트론\\n(구자은)      NH    트랙터  \n",
       "5     221     2100  FPT Industrial S.p.A   이태리  삼정건설기계\\n(유재흥)    CASE    트랙터  \n",
       "6     199     2100  FPT Industrial S.p.A   이태리   LS엠트론\\n(구자은)      NH    트랙터  \n",
       "7     199     2100  FPT Industrial S.p.A   이태리  삼정건설기계\\n(유재흥)    CASE    트랙터  "
      ]
     },
     "execution_count": 167,
     "metadata": {},
     "output_type": "execute_result"
    }
   ],
   "source": [
    "cert_ld5.iloc[:5, :20]"
   ]
  },
  {
   "cell_type": "code",
   "execution_count": 168,
   "metadata": {},
   "outputs": [
    {
     "data": {
      "text/html": [
       "<div>\n",
       "<style scoped>\n",
       "    .dataframe tbody tr th:only-of-type {\n",
       "        vertical-align: middle;\n",
       "    }\n",
       "\n",
       "    .dataframe tbody tr th {\n",
       "        vertical-align: top;\n",
       "    }\n",
       "\n",
       "    .dataframe thead th {\n",
       "        text-align: right;\n",
       "    }\n",
       "</style>\n",
       "<table border=\"1\" class=\"dataframe\">\n",
       "  <thead>\n",
       "    <tr style=\"text-align: right;\">\n",
       "      <th></th>\n",
       "      <th>건설/농업기계 형식</th>\n",
       "      <th>비고</th>\n",
       "      <th>기준치_CO</th>\n",
       "      <th>기준치_THC+Nox</th>\n",
       "      <th>기준치_THC</th>\n",
       "      <th>기준치_Nox</th>\n",
       "      <th>기준치_PM</th>\n",
       "      <th>기준치_PN</th>\n",
       "      <th>기준치_NH3</th>\n",
       "      <th>시험결과_ISO_8178_C1_CO</th>\n",
       "      <th>시험결과_ISO_8178_C1_THC+Nox</th>\n",
       "      <th>시험결과_ISO_8178_C1_THC</th>\n",
       "      <th>시험결과_ISO_8178_C1_Nox</th>\n",
       "      <th>시험결과_ISO_8178_C1_PM</th>\n",
       "      <th>시험결과_ISO_8178_C1_PN</th>\n",
       "    </tr>\n",
       "  </thead>\n",
       "  <tbody>\n",
       "    <tr>\n",
       "      <th>3</th>\n",
       "      <td>해당없음</td>\n",
       "      <td>NaN</td>\n",
       "      <td>3.50</td>\n",
       "      <td>-</td>\n",
       "      <td>0.19</td>\n",
       "      <td>0.40</td>\n",
       "      <td>0.01</td>\n",
       "      <td>1000000000000</td>\n",
       "      <td>10</td>\n",
       "      <td>-</td>\n",
       "      <td>-</td>\n",
       "      <td>-</td>\n",
       "      <td>-</td>\n",
       "      <td>-</td>\n",
       "      <td>-</td>\n",
       "    </tr>\n",
       "    <tr>\n",
       "      <th>4</th>\n",
       "      <td>T7.315</td>\n",
       "      <td>NaN</td>\n",
       "      <td>NaN</td>\n",
       "      <td>NaN</td>\n",
       "      <td>NaN</td>\n",
       "      <td>NaN</td>\n",
       "      <td>NaN</td>\n",
       "      <td>NaN</td>\n",
       "      <td>NaN</td>\n",
       "      <td>NaN</td>\n",
       "      <td>NaN</td>\n",
       "      <td>NaN</td>\n",
       "      <td>NaN</td>\n",
       "      <td>NaN</td>\n",
       "      <td>NaN</td>\n",
       "    </tr>\n",
       "    <tr>\n",
       "      <th>5</th>\n",
       "      <td>Optum 300</td>\n",
       "      <td>NaN</td>\n",
       "      <td>NaN</td>\n",
       "      <td>NaN</td>\n",
       "      <td>NaN</td>\n",
       "      <td>NaN</td>\n",
       "      <td>NaN</td>\n",
       "      <td>NaN</td>\n",
       "      <td>NaN</td>\n",
       "      <td>NaN</td>\n",
       "      <td>NaN</td>\n",
       "      <td>NaN</td>\n",
       "      <td>NaN</td>\n",
       "      <td>NaN</td>\n",
       "      <td>NaN</td>\n",
       "    </tr>\n",
       "    <tr>\n",
       "      <th>6</th>\n",
       "      <td>T7.290</td>\n",
       "      <td>NaN</td>\n",
       "      <td>NaN</td>\n",
       "      <td>NaN</td>\n",
       "      <td>NaN</td>\n",
       "      <td>NaN</td>\n",
       "      <td>NaN</td>\n",
       "      <td>NaN</td>\n",
       "      <td>NaN</td>\n",
       "      <td>NaN</td>\n",
       "      <td>NaN</td>\n",
       "      <td>NaN</td>\n",
       "      <td>NaN</td>\n",
       "      <td>NaN</td>\n",
       "      <td>NaN</td>\n",
       "    </tr>\n",
       "    <tr>\n",
       "      <th>7</th>\n",
       "      <td>Optum 270</td>\n",
       "      <td>NaN</td>\n",
       "      <td>NaN</td>\n",
       "      <td>NaN</td>\n",
       "      <td>NaN</td>\n",
       "      <td>NaN</td>\n",
       "      <td>NaN</td>\n",
       "      <td>NaN</td>\n",
       "      <td>NaN</td>\n",
       "      <td>NaN</td>\n",
       "      <td>NaN</td>\n",
       "      <td>NaN</td>\n",
       "      <td>NaN</td>\n",
       "      <td>NaN</td>\n",
       "      <td>NaN</td>\n",
       "    </tr>\n",
       "  </tbody>\n",
       "</table>\n",
       "</div>"
      ],
      "text/plain": [
       "  건설/농업기계 형식   비고 기준치_CO 기준치_THC+Nox 기준치_THC 기준치_Nox 기준치_PM         기준치_PN  \\\n",
       "3       해당없음  NaN   3.50           -    0.19    0.40   0.01  1000000000000   \n",
       "4     T7.315  NaN    NaN         NaN     NaN     NaN    NaN            NaN   \n",
       "5  Optum 300  NaN    NaN         NaN     NaN     NaN    NaN            NaN   \n",
       "6     T7.290  NaN    NaN         NaN     NaN     NaN    NaN            NaN   \n",
       "7  Optum 270  NaN    NaN         NaN     NaN     NaN    NaN            NaN   \n",
       "\n",
       "  기준치_NH3 시험결과_ISO_8178_C1_CO 시험결과_ISO_8178_C1_THC+Nox 시험결과_ISO_8178_C1_THC  \\\n",
       "3      10                   -                        -                    -   \n",
       "4     NaN                 NaN                      NaN                  NaN   \n",
       "5     NaN                 NaN                      NaN                  NaN   \n",
       "6     NaN                 NaN                      NaN                  NaN   \n",
       "7     NaN                 NaN                      NaN                  NaN   \n",
       "\n",
       "  시험결과_ISO_8178_C1_Nox 시험결과_ISO_8178_C1_PM 시험결과_ISO_8178_C1_PN  \n",
       "3                    -                   -                   -  \n",
       "4                  NaN                 NaN                 NaN  \n",
       "5                  NaN                 NaN                 NaN  \n",
       "6                  NaN                 NaN                 NaN  \n",
       "7                  NaN                 NaN                 NaN  "
      ]
     },
     "execution_count": 168,
     "metadata": {},
     "output_type": "execute_result"
    }
   ],
   "source": [
    "cert_ld5.iloc[:5, 20:35]"
   ]
  },
  {
   "cell_type": "code",
   "execution_count": 169,
   "metadata": {},
   "outputs": [
    {
     "data": {
      "text/html": [
       "<div>\n",
       "<style scoped>\n",
       "    .dataframe tbody tr th:only-of-type {\n",
       "        vertical-align: middle;\n",
       "    }\n",
       "\n",
       "    .dataframe tbody tr th {\n",
       "        vertical-align: top;\n",
       "    }\n",
       "\n",
       "    .dataframe thead th {\n",
       "        text-align: right;\n",
       "    }\n",
       "</style>\n",
       "<table border=\"1\" class=\"dataframe\">\n",
       "  <thead>\n",
       "    <tr style=\"text-align: right;\">\n",
       "      <th></th>\n",
       "      <th>시험결과_ISO_8178_C1_NH3</th>\n",
       "      <th>시험결과_ISO_8178_C1_CO2</th>\n",
       "      <th>시험결과_ISO_8178_C1_연비</th>\n",
       "      <th>시험결과_ISO_8178_C1_검사일시</th>\n",
       "      <th>시험결과_ISO_8178_C1_최대출력_kw</th>\n",
       "      <th>시험결과_ISO_8178_C1_최대출력_rpm</th>\n",
       "      <th>시험결과_NRSC_CO</th>\n",
       "      <th>시험결과_NRSC_THC+Nox</th>\n",
       "      <th>시험결과_NRSC_THC</th>\n",
       "      <th>시험결과_NRSC_Nox</th>\n",
       "      <th>시험결과_NRSC_PM</th>\n",
       "      <th>시험결과_NRSC_PN</th>\n",
       "      <th>시험결과_NRSC_NH3</th>\n",
       "      <th>시험결과_NRSC_CO2</th>\n",
       "      <th>시험결과_NRSC_연비</th>\n",
       "    </tr>\n",
       "  </thead>\n",
       "  <tbody>\n",
       "    <tr>\n",
       "      <th>3</th>\n",
       "      <td>-</td>\n",
       "      <td>-</td>\n",
       "      <td>-</td>\n",
       "      <td>-</td>\n",
       "      <td>-</td>\n",
       "      <td>-</td>\n",
       "      <td>0.01</td>\n",
       "      <td>-</td>\n",
       "      <td>0.01</td>\n",
       "      <td>0.29</td>\n",
       "      <td>0.00</td>\n",
       "      <td>34600000000</td>\n",
       "      <td>1.52</td>\n",
       "      <td>686.36</td>\n",
       "      <td>212.78</td>\n",
       "    </tr>\n",
       "    <tr>\n",
       "      <th>4</th>\n",
       "      <td>NaN</td>\n",
       "      <td>NaN</td>\n",
       "      <td>NaN</td>\n",
       "      <td>NaN</td>\n",
       "      <td>NaN</td>\n",
       "      <td>NaN</td>\n",
       "      <td>NaN</td>\n",
       "      <td>NaN</td>\n",
       "      <td>NaN</td>\n",
       "      <td>NaN</td>\n",
       "      <td>NaN</td>\n",
       "      <td>NaN</td>\n",
       "      <td>NaN</td>\n",
       "      <td>NaN</td>\n",
       "      <td>NaN</td>\n",
       "    </tr>\n",
       "    <tr>\n",
       "      <th>5</th>\n",
       "      <td>NaN</td>\n",
       "      <td>NaN</td>\n",
       "      <td>NaN</td>\n",
       "      <td>NaN</td>\n",
       "      <td>NaN</td>\n",
       "      <td>NaN</td>\n",
       "      <td>NaN</td>\n",
       "      <td>NaN</td>\n",
       "      <td>NaN</td>\n",
       "      <td>NaN</td>\n",
       "      <td>NaN</td>\n",
       "      <td>NaN</td>\n",
       "      <td>NaN</td>\n",
       "      <td>NaN</td>\n",
       "      <td>NaN</td>\n",
       "    </tr>\n",
       "    <tr>\n",
       "      <th>6</th>\n",
       "      <td>NaN</td>\n",
       "      <td>NaN</td>\n",
       "      <td>NaN</td>\n",
       "      <td>NaN</td>\n",
       "      <td>NaN</td>\n",
       "      <td>NaN</td>\n",
       "      <td>NaN</td>\n",
       "      <td>NaN</td>\n",
       "      <td>NaN</td>\n",
       "      <td>NaN</td>\n",
       "      <td>NaN</td>\n",
       "      <td>NaN</td>\n",
       "      <td>NaN</td>\n",
       "      <td>NaN</td>\n",
       "      <td>NaN</td>\n",
       "    </tr>\n",
       "    <tr>\n",
       "      <th>7</th>\n",
       "      <td>NaN</td>\n",
       "      <td>NaN</td>\n",
       "      <td>NaN</td>\n",
       "      <td>NaN</td>\n",
       "      <td>NaN</td>\n",
       "      <td>NaN</td>\n",
       "      <td>NaN</td>\n",
       "      <td>NaN</td>\n",
       "      <td>NaN</td>\n",
       "      <td>NaN</td>\n",
       "      <td>NaN</td>\n",
       "      <td>NaN</td>\n",
       "      <td>NaN</td>\n",
       "      <td>NaN</td>\n",
       "      <td>NaN</td>\n",
       "    </tr>\n",
       "  </tbody>\n",
       "</table>\n",
       "</div>"
      ],
      "text/plain": [
       "  시험결과_ISO_8178_C1_NH3 시험결과_ISO_8178_C1_CO2 시험결과_ISO_8178_C1_연비  \\\n",
       "3                    -                    -                   -   \n",
       "4                  NaN                  NaN                 NaN   \n",
       "5                  NaN                  NaN                 NaN   \n",
       "6                  NaN                  NaN                 NaN   \n",
       "7                  NaN                  NaN                 NaN   \n",
       "\n",
       "  시험결과_ISO_8178_C1_검사일시 시험결과_ISO_8178_C1_최대출력_kw 시험결과_ISO_8178_C1_최대출력_rpm  \\\n",
       "3                     -                        -                         -   \n",
       "4                   NaN                      NaN                       NaN   \n",
       "5                   NaN                      NaN                       NaN   \n",
       "6                   NaN                      NaN                       NaN   \n",
       "7                   NaN                      NaN                       NaN   \n",
       "\n",
       "  시험결과_NRSC_CO 시험결과_NRSC_THC+Nox 시험결과_NRSC_THC 시험결과_NRSC_Nox 시험결과_NRSC_PM  \\\n",
       "3         0.01                 -          0.01          0.29         0.00   \n",
       "4          NaN               NaN           NaN           NaN          NaN   \n",
       "5          NaN               NaN           NaN           NaN          NaN   \n",
       "6          NaN               NaN           NaN           NaN          NaN   \n",
       "7          NaN               NaN           NaN           NaN          NaN   \n",
       "\n",
       "  시험결과_NRSC_PN 시험결과_NRSC_NH3 시험결과_NRSC_CO2 시험결과_NRSC_연비  \n",
       "3  34600000000          1.52        686.36       212.78  \n",
       "4          NaN           NaN           NaN          NaN  \n",
       "5          NaN           NaN           NaN          NaN  \n",
       "6          NaN           NaN           NaN          NaN  \n",
       "7          NaN           NaN           NaN          NaN  "
      ]
     },
     "execution_count": 169,
     "metadata": {},
     "output_type": "execute_result"
    }
   ],
   "source": [
    "cert_ld5.iloc[:5, 35:50]"
   ]
  },
  {
   "cell_type": "code",
   "execution_count": 170,
   "metadata": {},
   "outputs": [
    {
     "data": {
      "text/html": [
       "<div>\n",
       "<style scoped>\n",
       "    .dataframe tbody tr th:only-of-type {\n",
       "        vertical-align: middle;\n",
       "    }\n",
       "\n",
       "    .dataframe tbody tr th {\n",
       "        vertical-align: top;\n",
       "    }\n",
       "\n",
       "    .dataframe thead th {\n",
       "        text-align: right;\n",
       "    }\n",
       "</style>\n",
       "<table border=\"1\" class=\"dataframe\">\n",
       "  <thead>\n",
       "    <tr style=\"text-align: right;\">\n",
       "      <th></th>\n",
       "      <th>시험결과_NRSC_검사일시</th>\n",
       "      <th>시험결과_NRSC_최대출력_kw</th>\n",
       "      <th>시험결과_NRSC_최대출력_rpm</th>\n",
       "      <th>시험결과_NRTC_CO</th>\n",
       "      <th>시험결과_NRTC_THC+Nox</th>\n",
       "      <th>시험결과_NRTC_THC</th>\n",
       "      <th>시험결과_NRTC_Nox</th>\n",
       "      <th>시험결과_NRTC_PM</th>\n",
       "      <th>시험결과_NRTC_PN</th>\n",
       "      <th>시험결과_NRTC_NH3</th>\n",
       "    </tr>\n",
       "  </thead>\n",
       "  <tbody>\n",
       "    <tr>\n",
       "      <th>3</th>\n",
       "      <td>2019-11-14 00:00:00</td>\n",
       "      <td>191</td>\n",
       "      <td>2000</td>\n",
       "      <td>0.02</td>\n",
       "      <td>-</td>\n",
       "      <td>0.01</td>\n",
       "      <td>0.21</td>\n",
       "      <td>0.00</td>\n",
       "      <td>25100000000</td>\n",
       "      <td>0.76</td>\n",
       "    </tr>\n",
       "    <tr>\n",
       "      <th>4</th>\n",
       "      <td>NaN</td>\n",
       "      <td>NaN</td>\n",
       "      <td>NaN</td>\n",
       "      <td>NaN</td>\n",
       "      <td>NaN</td>\n",
       "      <td>NaN</td>\n",
       "      <td>NaN</td>\n",
       "      <td>NaN</td>\n",
       "      <td>NaN</td>\n",
       "      <td>NaN</td>\n",
       "    </tr>\n",
       "    <tr>\n",
       "      <th>5</th>\n",
       "      <td>NaN</td>\n",
       "      <td>NaN</td>\n",
       "      <td>NaN</td>\n",
       "      <td>NaN</td>\n",
       "      <td>NaN</td>\n",
       "      <td>NaN</td>\n",
       "      <td>NaN</td>\n",
       "      <td>NaN</td>\n",
       "      <td>NaN</td>\n",
       "      <td>NaN</td>\n",
       "    </tr>\n",
       "    <tr>\n",
       "      <th>6</th>\n",
       "      <td>NaN</td>\n",
       "      <td>NaN</td>\n",
       "      <td>NaN</td>\n",
       "      <td>NaN</td>\n",
       "      <td>NaN</td>\n",
       "      <td>NaN</td>\n",
       "      <td>NaN</td>\n",
       "      <td>NaN</td>\n",
       "      <td>NaN</td>\n",
       "      <td>NaN</td>\n",
       "    </tr>\n",
       "    <tr>\n",
       "      <th>7</th>\n",
       "      <td>NaN</td>\n",
       "      <td>NaN</td>\n",
       "      <td>NaN</td>\n",
       "      <td>NaN</td>\n",
       "      <td>NaN</td>\n",
       "      <td>NaN</td>\n",
       "      <td>NaN</td>\n",
       "      <td>NaN</td>\n",
       "      <td>NaN</td>\n",
       "      <td>NaN</td>\n",
       "    </tr>\n",
       "  </tbody>\n",
       "</table>\n",
       "</div>"
      ],
      "text/plain": [
       "        시험결과_NRSC_검사일시 시험결과_NRSC_최대출력_kw 시험결과_NRSC_최대출력_rpm 시험결과_NRTC_CO  \\\n",
       "3  2019-11-14 00:00:00               191               2000         0.02   \n",
       "4                  NaN               NaN                NaN          NaN   \n",
       "5                  NaN               NaN                NaN          NaN   \n",
       "6                  NaN               NaN                NaN          NaN   \n",
       "7                  NaN               NaN                NaN          NaN   \n",
       "\n",
       "  시험결과_NRTC_THC+Nox 시험결과_NRTC_THC 시험결과_NRTC_Nox 시험결과_NRTC_PM 시험결과_NRTC_PN  \\\n",
       "3                 -          0.01          0.21         0.00  25100000000   \n",
       "4               NaN           NaN           NaN          NaN          NaN   \n",
       "5               NaN           NaN           NaN          NaN          NaN   \n",
       "6               NaN           NaN           NaN          NaN          NaN   \n",
       "7               NaN           NaN           NaN          NaN          NaN   \n",
       "\n",
       "  시험결과_NRTC_NH3  \n",
       "3          0.76  \n",
       "4           NaN  \n",
       "5           NaN  \n",
       "6           NaN  \n",
       "7           NaN  "
      ]
     },
     "execution_count": 170,
     "metadata": {},
     "output_type": "execute_result"
    }
   ],
   "source": [
    "cert_ld5.iloc[:5, 50:60]"
   ]
  },
  {
   "cell_type": "code",
   "execution_count": 171,
   "metadata": {},
   "outputs": [
    {
     "data": {
      "text/html": [
       "<div>\n",
       "<style scoped>\n",
       "    .dataframe tbody tr th:only-of-type {\n",
       "        vertical-align: middle;\n",
       "    }\n",
       "\n",
       "    .dataframe tbody tr th {\n",
       "        vertical-align: top;\n",
       "    }\n",
       "\n",
       "    .dataframe thead th {\n",
       "        text-align: right;\n",
       "    }\n",
       "</style>\n",
       "<table border=\"1\" class=\"dataframe\">\n",
       "  <thead>\n",
       "    <tr style=\"text-align: right;\">\n",
       "      <th></th>\n",
       "      <th>시험결과_NRTC_CO2</th>\n",
       "      <th>시험결과_NRTC_연비</th>\n",
       "      <th>시험결과_NRTC_검사일시</th>\n",
       "      <th>시험결과_NRTC_최대출력_kw</th>\n",
       "      <th>시험결과_NRTC_최대출력_rpm</th>\n",
       "      <th>자체시험여부</th>\n",
       "      <th>DF_대표</th>\n",
       "      <th>적용기술_EGR</th>\n",
       "      <th>적용기술_SCR</th>\n",
       "      <th>적용기술_DPF</th>\n",
       "      <th>적용기술_ECU</th>\n",
       "      <th>적용기술_DOC</th>\n",
       "      <th>적용기술_기타</th>\n",
       "      <th>임의설정자료제출여부</th>\n",
       "    </tr>\n",
       "  </thead>\n",
       "  <tbody>\n",
       "    <tr>\n",
       "      <th>3</th>\n",
       "      <td>706.07</td>\n",
       "      <td>219.15</td>\n",
       "      <td>2019-11-13 00:00:00</td>\n",
       "      <td>191</td>\n",
       "      <td>2000</td>\n",
       "      <td>자체시험</td>\n",
       "      <td>대표</td>\n",
       "      <td>-</td>\n",
       "      <td>O</td>\n",
       "      <td>-</td>\n",
       "      <td>O</td>\n",
       "      <td>O</td>\n",
       "      <td>NaN</td>\n",
       "      <td>X</td>\n",
       "    </tr>\n",
       "    <tr>\n",
       "      <th>4</th>\n",
       "      <td>NaN</td>\n",
       "      <td>NaN</td>\n",
       "      <td>NaN</td>\n",
       "      <td>NaN</td>\n",
       "      <td>NaN</td>\n",
       "      <td>NaN</td>\n",
       "      <td>NaN</td>\n",
       "      <td>NaN</td>\n",
       "      <td>NaN</td>\n",
       "      <td>NaN</td>\n",
       "      <td>NaN</td>\n",
       "      <td>NaN</td>\n",
       "      <td>NaN</td>\n",
       "      <td>NaN</td>\n",
       "    </tr>\n",
       "    <tr>\n",
       "      <th>5</th>\n",
       "      <td>NaN</td>\n",
       "      <td>NaN</td>\n",
       "      <td>NaN</td>\n",
       "      <td>NaN</td>\n",
       "      <td>NaN</td>\n",
       "      <td>NaN</td>\n",
       "      <td>NaN</td>\n",
       "      <td>NaN</td>\n",
       "      <td>NaN</td>\n",
       "      <td>NaN</td>\n",
       "      <td>NaN</td>\n",
       "      <td>NaN</td>\n",
       "      <td>NaN</td>\n",
       "      <td>NaN</td>\n",
       "    </tr>\n",
       "    <tr>\n",
       "      <th>6</th>\n",
       "      <td>NaN</td>\n",
       "      <td>NaN</td>\n",
       "      <td>NaN</td>\n",
       "      <td>NaN</td>\n",
       "      <td>NaN</td>\n",
       "      <td>NaN</td>\n",
       "      <td>NaN</td>\n",
       "      <td>NaN</td>\n",
       "      <td>NaN</td>\n",
       "      <td>NaN</td>\n",
       "      <td>NaN</td>\n",
       "      <td>NaN</td>\n",
       "      <td>NaN</td>\n",
       "      <td>NaN</td>\n",
       "    </tr>\n",
       "    <tr>\n",
       "      <th>7</th>\n",
       "      <td>NaN</td>\n",
       "      <td>NaN</td>\n",
       "      <td>NaN</td>\n",
       "      <td>NaN</td>\n",
       "      <td>NaN</td>\n",
       "      <td>NaN</td>\n",
       "      <td>NaN</td>\n",
       "      <td>NaN</td>\n",
       "      <td>NaN</td>\n",
       "      <td>NaN</td>\n",
       "      <td>NaN</td>\n",
       "      <td>NaN</td>\n",
       "      <td>NaN</td>\n",
       "      <td>NaN</td>\n",
       "    </tr>\n",
       "  </tbody>\n",
       "</table>\n",
       "</div>"
      ],
      "text/plain": [
       "  시험결과_NRTC_CO2 시험결과_NRTC_연비       시험결과_NRTC_검사일시 시험결과_NRTC_최대출력_kw  \\\n",
       "3        706.07       219.15  2019-11-13 00:00:00               191   \n",
       "4           NaN          NaN                  NaN               NaN   \n",
       "5           NaN          NaN                  NaN               NaN   \n",
       "6           NaN          NaN                  NaN               NaN   \n",
       "7           NaN          NaN                  NaN               NaN   \n",
       "\n",
       "  시험결과_NRTC_최대출력_rpm 자체시험여부 DF_대표 적용기술_EGR 적용기술_SCR 적용기술_DPF 적용기술_ECU  \\\n",
       "3               2000   자체시험    대표        -        O        -        O   \n",
       "4                NaN    NaN   NaN      NaN      NaN      NaN      NaN   \n",
       "5                NaN    NaN   NaN      NaN      NaN      NaN      NaN   \n",
       "6                NaN    NaN   NaN      NaN      NaN      NaN      NaN   \n",
       "7                NaN    NaN   NaN      NaN      NaN      NaN      NaN   \n",
       "\n",
       "  적용기술_DOC 적용기술_기타 임의설정자료제출여부  \n",
       "3        O     NaN          X  \n",
       "4      NaN     NaN        NaN  \n",
       "5      NaN     NaN        NaN  \n",
       "6      NaN     NaN        NaN  \n",
       "7      NaN     NaN        NaN  "
      ]
     },
     "execution_count": 171,
     "metadata": {},
     "output_type": "execute_result"
    }
   ],
   "source": [
    "cert_ld5.iloc[:5, 60:]"
   ]
  },
  {
   "cell_type": "markdown",
   "metadata": {},
   "source": [
    "### 데이터 확인"
   ]
  },
  {
   "cell_type": "code",
   "execution_count": 522,
   "metadata": {},
   "outputs": [
    {
     "data": {
      "text/plain": [
       "{nan,\n",
       " '건설기계 명칭 정정재교부(22.9.8)',\n",
       " '건설기계 수입사 대표자 정정재교부(22.4.29)',\n",
       " '건설기계 제작사 대표자 정정재교부(22.11.08)',\n",
       " '건설기계 제작사 정정재교부(23.4.4)',\n",
       " '건설기계 제작사 정정재교부(23.5.3)',\n",
       " '건설기계 제작사명 변경 재교부(23.7.10)',\n",
       " '건설기계 형식 정정재교부(21.6.15,교통환경연구소-3376)\\n건설기계 수입사 정정재교부(21.8.11, 교통환경연구소-4543)',\n",
       " '건설기계 형식 정정재교부(21.9.1,교통환경연구소-4961)',\n",
       " '건설기계 형식 정정재교부(22.10.27, 교통환경연구소-6606)',\n",
       " '건설기계 형식 정정재교부(22.12.21)',\n",
       " '건설기계 형식 정정재교부(22.6.30)',\n",
       " '건설기계 형식 정정재교부(22.7.13) / 제작사 정정재교부(23.4.00)',\n",
       " '건설기계 형식 정정재교부(22.7.15)',\n",
       " '건설기계형식 정정재교부(22.10.7, 교통환경연구소-6230)',\n",
       " '건설기계형식 정정재교부(22.3.23, 교통환경연구소-1737)',\n",
       " '농업기계형식 정정재교부(22.2.11, 교통환경연구소-1012)',\n",
       " '농업기계형식 정정재교부(22.2.11, 교통환경연구소-1012)\\n엔진제작사 및 농업기게 제작사 정정재교부(22.10.27,교통환경연구소-6608)',\n",
       " '수입사 대표자 변경 재교부(22.10.14)',\n",
       " '수입사명 변경 재교부(23.7.10)',\n",
       " '엔진제작국 정정재교부(22.10.27, 교통환경연구소-6607)',\n",
       " '엔진제작사 정정재교부(23.9.22)',\n",
       " '엔진코드 정정재교부(21.3.25)',\n",
       " '재생지수 산정 결과 신규인증 결과 대입',\n",
       " '정정재교부(교통환경연구소-000,22.5.00)',\n",
       " '정정재교부(교통환경연구소-3899,21.7.12)',\n",
       " '제작사 정정재교부(23.4.00)',\n",
       " '제작사명 정정재교부(23.4.11)',\n",
       " '중고',\n",
       " '최대출력 정정재교부(22.9.8)',\n",
       " '최대출력 정정재교부(23.5.15)'}"
      ]
     },
     "execution_count": 522,
     "metadata": {},
     "output_type": "execute_result"
    }
   ],
   "source": [
    "set(cert_ld5['비고'].unique())"
   ]
  },
  {
   "cell_type": "markdown",
   "metadata": {},
   "source": [
    "### 데이터 수정(STAGE5)"
   ]
  },
  {
   "cell_type": "code",
   "execution_count": 172,
   "metadata": {},
   "outputs": [],
   "source": [
    "# 줄 바꿈이 있는 열\n",
    "# 건설기계수입사(대표자)\n",
    "\n",
    "# 줄 바꿈을 없앨 열\n",
    "# 건설기계수입사(대표자)"
   ]
  },
  {
   "cell_type": "code",
   "execution_count": 173,
   "metadata": {},
   "outputs": [
    {
     "data": {
      "text/html": [
       "<div>\n",
       "<style scoped>\n",
       "    .dataframe tbody tr th:only-of-type {\n",
       "        vertical-align: middle;\n",
       "    }\n",
       "\n",
       "    .dataframe tbody tr th {\n",
       "        vertical-align: top;\n",
       "    }\n",
       "\n",
       "    .dataframe thead th {\n",
       "        text-align: right;\n",
       "    }\n",
       "</style>\n",
       "<table border=\"1\" class=\"dataframe\">\n",
       "  <thead>\n",
       "    <tr style=\"text-align: right;\">\n",
       "      <th></th>\n",
       "      <th>건설기계수입사(대표자)</th>\n",
       "    </tr>\n",
       "  </thead>\n",
       "  <tbody>\n",
       "    <tr>\n",
       "      <th>3</th>\n",
       "      <td>해당없음</td>\n",
       "    </tr>\n",
       "    <tr>\n",
       "      <th>4</th>\n",
       "      <td>LS엠트론(구자은)</td>\n",
       "    </tr>\n",
       "    <tr>\n",
       "      <th>5</th>\n",
       "      <td>삼정건설기계(유재흥)</td>\n",
       "    </tr>\n",
       "    <tr>\n",
       "      <th>6</th>\n",
       "      <td>LS엠트론(구자은)</td>\n",
       "    </tr>\n",
       "    <tr>\n",
       "      <th>7</th>\n",
       "      <td>삼정건설기계(유재흥)</td>\n",
       "    </tr>\n",
       "  </tbody>\n",
       "</table>\n",
       "</div>"
      ],
      "text/plain": [
       "  건설기계수입사(대표자)\n",
       "3         해당없음\n",
       "4   LS엠트론(구자은)\n",
       "5  삼정건설기계(유재흥)\n",
       "6   LS엠트론(구자은)\n",
       "7  삼정건설기계(유재흥)"
      ]
     },
     "execution_count": 173,
     "metadata": {},
     "output_type": "execute_result"
    }
   ],
   "source": [
    "# 줄 바꿈을 없앨 열\n",
    "# 건설기계수입사(대표자)\n",
    "cert_ld5['건설기계수입사(대표자)'] = cert_ld5['건설기계수입사(대표자)'].str.replace('\\n', '')\n",
    "cert_ld5[['건설기계수입사(대표자)']].head()"
   ]
  },
  {
   "cell_type": "markdown",
   "metadata": {},
   "source": [
    "#### 컬럼, 데이터 정보들 출력"
   ]
  },
  {
   "cell_type": "code",
   "execution_count": 179,
   "metadata": {},
   "outputs": [
    {
     "data": {
      "text/html": [
       "<div>\n",
       "<style scoped>\n",
       "    .dataframe tbody tr th:only-of-type {\n",
       "        vertical-align: middle;\n",
       "    }\n",
       "\n",
       "    .dataframe tbody tr th {\n",
       "        vertical-align: top;\n",
       "    }\n",
       "\n",
       "    .dataframe thead th {\n",
       "        text-align: right;\n",
       "    }\n",
       "</style>\n",
       "<table border=\"1\" class=\"dataframe\">\n",
       "  <thead>\n",
       "    <tr style=\"text-align: right;\">\n",
       "      <th></th>\n",
       "      <th>번호</th>\n",
       "      <th>컬럼명</th>\n",
       "      <th>빈 값 개수</th>\n",
       "      <th>총 행수</th>\n",
       "    </tr>\n",
       "  </thead>\n",
       "  <tbody>\n",
       "    <tr>\n",
       "      <th>0</th>\n",
       "      <td>1</td>\n",
       "      <td>배출기준</td>\n",
       "      <td>0</td>\n",
       "      <td>5971</td>\n",
       "    </tr>\n",
       "    <tr>\n",
       "      <th>1</th>\n",
       "      <td>2</td>\n",
       "      <td>상호명</td>\n",
       "      <td>0</td>\n",
       "      <td>5971</td>\n",
       "    </tr>\n",
       "    <tr>\n",
       "      <th>2</th>\n",
       "      <td>3</td>\n",
       "      <td>인증번호</td>\n",
       "      <td>0</td>\n",
       "      <td>5971</td>\n",
       "    </tr>\n",
       "    <tr>\n",
       "      <th>3</th>\n",
       "      <td>4</td>\n",
       "      <td>최초인증일자</td>\n",
       "      <td>0</td>\n",
       "      <td>5971</td>\n",
       "    </tr>\n",
       "    <tr>\n",
       "      <th>4</th>\n",
       "      <td>5</td>\n",
       "      <td>재교부일자(변경일자)</td>\n",
       "      <td>0</td>\n",
       "      <td>5971</td>\n",
       "    </tr>\n",
       "    <tr>\n",
       "      <th>...</th>\n",
       "      <td>...</td>\n",
       "      <td>...</td>\n",
       "      <td>...</td>\n",
       "      <td>...</td>\n",
       "    </tr>\n",
       "    <tr>\n",
       "      <th>59</th>\n",
       "      <td>60</td>\n",
       "      <td>적용기술_DPF</td>\n",
       "      <td>5683</td>\n",
       "      <td>5971</td>\n",
       "    </tr>\n",
       "    <tr>\n",
       "      <th>60</th>\n",
       "      <td>61</td>\n",
       "      <td>적용기술_ECU</td>\n",
       "      <td>5692</td>\n",
       "      <td>5971</td>\n",
       "    </tr>\n",
       "    <tr>\n",
       "      <th>61</th>\n",
       "      <td>62</td>\n",
       "      <td>적용기술_DOC</td>\n",
       "      <td>5771</td>\n",
       "      <td>5971</td>\n",
       "    </tr>\n",
       "    <tr>\n",
       "      <th>62</th>\n",
       "      <td>63</td>\n",
       "      <td>적용기술_기타</td>\n",
       "      <td>5882</td>\n",
       "      <td>5971</td>\n",
       "    </tr>\n",
       "    <tr>\n",
       "      <th>63</th>\n",
       "      <td>64</td>\n",
       "      <td>DF_변경보고</td>\n",
       "      <td>4332</td>\n",
       "      <td>5971</td>\n",
       "    </tr>\n",
       "  </tbody>\n",
       "</table>\n",
       "<p>64 rows × 4 columns</p>\n",
       "</div>"
      ],
      "text/plain": [
       "    번호          컬럼명  빈 값 개수  총 행수\n",
       "0    1         배출기준       0  5971\n",
       "1    2          상호명       0  5971\n",
       "2    3         인증번호       0  5971\n",
       "3    4       최초인증일자       0  5971\n",
       "4    5  재교부일자(변경일자)       0  5971\n",
       "..  ..          ...     ...   ...\n",
       "59  60     적용기술_DPF    5683  5971\n",
       "60  61     적용기술_ECU    5692  5971\n",
       "61  62     적용기술_DOC    5771  5971\n",
       "62  63      적용기술_기타    5882  5971\n",
       "63  64      DF_변경보고    4332  5971\n",
       "\n",
       "[64 rows x 4 columns]"
      ]
     },
     "execution_count": 179,
     "metadata": {},
     "output_type": "execute_result"
    }
   ],
   "source": [
    "info01 = cert_ld34.isnull().sum().reset_index().rename(columns={'index':'컬럼명', 0:'빈 값 개수'})\n",
    "info01['총 행수'] = cert_ld34.shape[0]\n",
    "info01['번호'] = [x for x in range(1, info01.shape[0] + 1)]\n",
    "info01 = info01[['번호', '컬럼명', '빈 값 개수', '총 행수']]\n",
    "info01"
   ]
  },
  {
   "cell_type": "code",
   "execution_count": 180,
   "metadata": {},
   "outputs": [
    {
     "data": {
      "text/html": [
       "<div>\n",
       "<style scoped>\n",
       "    .dataframe tbody tr th:only-of-type {\n",
       "        vertical-align: middle;\n",
       "    }\n",
       "\n",
       "    .dataframe tbody tr th {\n",
       "        vertical-align: top;\n",
       "    }\n",
       "\n",
       "    .dataframe thead th {\n",
       "        text-align: right;\n",
       "    }\n",
       "</style>\n",
       "<table border=\"1\" class=\"dataframe\">\n",
       "  <thead>\n",
       "    <tr style=\"text-align: right;\">\n",
       "      <th></th>\n",
       "      <th>번호</th>\n",
       "      <th>컬럼명</th>\n",
       "      <th>빈 값 개수</th>\n",
       "      <th>총 행수</th>\n",
       "    </tr>\n",
       "  </thead>\n",
       "  <tbody>\n",
       "    <tr>\n",
       "      <th>0</th>\n",
       "      <td>1</td>\n",
       "      <td>배출기준</td>\n",
       "      <td>1</td>\n",
       "      <td>2055</td>\n",
       "    </tr>\n",
       "    <tr>\n",
       "      <th>1</th>\n",
       "      <td>2</td>\n",
       "      <td>상호명</td>\n",
       "      <td>0</td>\n",
       "      <td>2055</td>\n",
       "    </tr>\n",
       "    <tr>\n",
       "      <th>2</th>\n",
       "      <td>3</td>\n",
       "      <td>인증번호</td>\n",
       "      <td>0</td>\n",
       "      <td>2055</td>\n",
       "    </tr>\n",
       "    <tr>\n",
       "      <th>3</th>\n",
       "      <td>4</td>\n",
       "      <td>최초인증일자</td>\n",
       "      <td>1</td>\n",
       "      <td>2055</td>\n",
       "    </tr>\n",
       "    <tr>\n",
       "      <th>4</th>\n",
       "      <td>5</td>\n",
       "      <td>재교부일자(변경일자)</td>\n",
       "      <td>1</td>\n",
       "      <td>2055</td>\n",
       "    </tr>\n",
       "    <tr>\n",
       "      <th>...</th>\n",
       "      <td>...</td>\n",
       "      <td>...</td>\n",
       "      <td>...</td>\n",
       "      <td>...</td>\n",
       "    </tr>\n",
       "    <tr>\n",
       "      <th>69</th>\n",
       "      <td>70</td>\n",
       "      <td>적용기술_DPF</td>\n",
       "      <td>1925</td>\n",
       "      <td>2055</td>\n",
       "    </tr>\n",
       "    <tr>\n",
       "      <th>70</th>\n",
       "      <td>71</td>\n",
       "      <td>적용기술_ECU</td>\n",
       "      <td>1925</td>\n",
       "      <td>2055</td>\n",
       "    </tr>\n",
       "    <tr>\n",
       "      <th>71</th>\n",
       "      <td>72</td>\n",
       "      <td>적용기술_DOC</td>\n",
       "      <td>1925</td>\n",
       "      <td>2055</td>\n",
       "    </tr>\n",
       "    <tr>\n",
       "      <th>72</th>\n",
       "      <td>73</td>\n",
       "      <td>적용기술_기타</td>\n",
       "      <td>1951</td>\n",
       "      <td>2055</td>\n",
       "    </tr>\n",
       "    <tr>\n",
       "      <th>73</th>\n",
       "      <td>74</td>\n",
       "      <td>임의설정자료제출여부</td>\n",
       "      <td>1925</td>\n",
       "      <td>2055</td>\n",
       "    </tr>\n",
       "  </tbody>\n",
       "</table>\n",
       "<p>74 rows × 4 columns</p>\n",
       "</div>"
      ],
      "text/plain": [
       "    번호          컬럼명  빈 값 개수  총 행수\n",
       "0    1         배출기준       1  2055\n",
       "1    2          상호명       0  2055\n",
       "2    3         인증번호       0  2055\n",
       "3    4       최초인증일자       1  2055\n",
       "4    5  재교부일자(변경일자)       1  2055\n",
       "..  ..          ...     ...   ...\n",
       "69  70     적용기술_DPF    1925  2055\n",
       "70  71     적용기술_ECU    1925  2055\n",
       "71  72     적용기술_DOC    1925  2055\n",
       "72  73      적용기술_기타    1951  2055\n",
       "73  74   임의설정자료제출여부    1925  2055\n",
       "\n",
       "[74 rows x 4 columns]"
      ]
     },
     "execution_count": 180,
     "metadata": {},
     "output_type": "execute_result"
    }
   ],
   "source": [
    "info02 = cert_ld5.isnull().sum().reset_index().rename(columns={'index':'컬럼명', 0:'빈 값 개수'})\n",
    "info02['총 행수'] = cert_ld5.shape[0]\n",
    "info02['번호'] = [x for x in range(1, info02.shape[0] + 1)]\n",
    "info02 = info02[['번호', '컬럼명', '빈 값 개수', '총 행수']]\n",
    "info02"
   ]
  },
  {
   "cell_type": "code",
   "execution_count": 182,
   "metadata": {},
   "outputs": [
    {
     "data": {
      "text/plain": [
       "'2023.10.31'"
      ]
     },
     "execution_count": 182,
     "metadata": {},
     "output_type": "execute_result"
    }
   ],
   "source": [
    "today_date = datetime.today().strftime('%Y.%m.%d')\n",
    "today_date"
   ]
  },
  {
   "cell_type": "code",
   "execution_count": 183,
   "metadata": {},
   "outputs": [],
   "source": [
    "with pd.ExcelWriter(os.path.join(an2_fold, f'건설기계_인증대장_데이터정보({today_date}).xlsx')) as writer:\n",
    "    info01.to_excel(writer, sheet_name='TIER-3~TIER-4', index=False)\n",
    "    info02.to_excel(writer, sheet_name='STAGE5', index=False)"
   ]
  },
  {
   "cell_type": "markdown",
   "metadata": {},
   "source": [
    "## 전문정비(STD_TB_ERR_RES)"
   ]
  },
  {
   "cell_type": "code",
   "execution_count": 558,
   "metadata": {},
   "outputs": [],
   "source": [
    "er_dict = {\n",
    "    'DRVNG_DSTNC':'주행거리', \n",
    "    'VHRNO':'자동차등록번호', \n",
    "    'VIN':'차대번호', \n",
    "    'LOD_COX_MEVLU':'부하일산화탄소측정치', \n",
    "    'LOD_HC_MEVLU':'부하탄화수소측정치', \n",
    "    'LOD_NOX_MEVLU':'부하질소산화물측정치', \n",
    "    'LOD_SMO_MEVLU':'부하매연측정치', \n",
    "    'LOD_TQ_MEVLU':'부하토크측정치', \n",
    "    'OVHUL_YMD':'정비일자', \n",
    "    'SPCY_OVHUL_BIZPLC_NM':'전문정비사업소명', \n",
    "    'OVHUL_RCPT_NO':'정비접수번호', \n",
    "    'PRCINSP_RINSP_RCPT_NO':'정밀재검사접수번호', \n",
    "    'NOLOD_COX_MEVLU':'무부하일산화탄소측정치', \n",
    "    'NOLOD_HC_MEVLU':'무부하탄화수소측정치', \n",
    "    'NOLOD_AIR_EXCRT_MEVLU':'무부하공기과잉률측정치', \n",
    "    'NOLOD_SMO_MEVLU':'무부하매연측정치', \n",
    "}"
   ]
  },
  {
   "cell_type": "code",
   "execution_count": 559,
   "metadata": {},
   "outputs": [
    {
     "name": "stdout",
     "output_type": "stream",
     "text": [
      "<class 'pandas.core.frame.DataFrame'>\n",
      "RangeIndex: 54617 entries, 0 to 54616\n",
      "Data columns (total 16 columns):\n",
      " #   Column                 Non-Null Count  Dtype  \n",
      "---  ------                 --------------  -----  \n",
      " 0   DRVNG_DSTNC            54617 non-null  float64\n",
      " 1   VHRNO                  54617 non-null  object \n",
      " 2   VIN                    51051 non-null  object \n",
      " 3   LOD_COX_MEVLU          53884 non-null  object \n",
      " 4   LOD_HC_MEVLU           53886 non-null  object \n",
      " 5   LOD_NOX_MEVLU          53883 non-null  object \n",
      " 6   LOD_SMO_MEVLU          53941 non-null  object \n",
      " 7   LOD_TQ_MEVLU           53819 non-null  object \n",
      " 8   OVHUL_YMD              54617 non-null  int64  \n",
      " 9   SPCY_OVHUL_BIZPLC_NM   54617 non-null  object \n",
      " 10  OVHUL_RCPT_NO          54617 non-null  int64  \n",
      " 11  PRCINSP_RINSP_RCPT_NO  54617 non-null  object \n",
      " 12  NOLOD_COX_MEVLU        53870 non-null  object \n",
      " 13  NOLOD_HC_MEVLU         53871 non-null  object \n",
      " 14  NOLOD_AIR_EXCRT_MEVLU  28484 non-null  object \n",
      " 15  NOLOD_SMO_MEVLU        50992 non-null  object \n",
      "dtypes: float64(1), int64(2), object(13)\n",
      "memory usage: 6.7+ MB\n"
     ]
    }
   ],
   "source": [
    "# 0.3s\n",
    "name = 'STD_TB_ERR_RES(20231011)'\n",
    "file_name = f'{name}.csv'\n",
    "er = pd.read_csv(os.path.join(pub_fold, file_name), low_memory=False)\n",
    "er.info()"
   ]
  },
  {
   "cell_type": "code",
   "execution_count": 560,
   "metadata": {},
   "outputs": [
    {
     "data": {
      "text/plain": [
       "Index(['주행거리', '자동차등록번호', '차대번호', '부하일산화탄소측정치', '부하탄화수소측정치', '부하질소산화물측정치',\n",
       "       '부하매연측정치', '부하토크측정치', '정비일자', '전문정비사업소명', '정비접수번호', '정밀재검사접수번호',\n",
       "       '무부하일산화탄소측정치', '무부하탄화수소측정치', '무부하공기과잉률측정치', '무부하매연측정치'],\n",
       "      dtype='object')"
      ]
     },
     "execution_count": 560,
     "metadata": {},
     "output_type": "execute_result"
    }
   ],
   "source": [
    "er = er.rename(columns=er_dict)\n",
    "er.columns"
   ]
  },
  {
   "cell_type": "markdown",
   "metadata": {},
   "source": [
    "### 데이터 확인"
   ]
  },
  {
   "cell_type": "code",
   "execution_count": 575,
   "metadata": {},
   "outputs": [
    {
     "data": {
      "text/plain": [
       "{1, 2, 3, 4, 5, 6, 7, 8, 9, 10, 11, 12, 13}"
      ]
     },
     "execution_count": 575,
     "metadata": {},
     "output_type": "execute_result"
    }
   ],
   "source": [
    "set(er['정비접수번호'].unique())"
   ]
  },
  {
   "cell_type": "markdown",
   "metadata": {},
   "source": [
    "#### 컬럼, 데이터 정보들 출력"
   ]
  },
  {
   "cell_type": "code",
   "execution_count": 562,
   "metadata": {},
   "outputs": [
    {
     "data": {
      "text/html": [
       "<div>\n",
       "<style scoped>\n",
       "    .dataframe tbody tr th:only-of-type {\n",
       "        vertical-align: middle;\n",
       "    }\n",
       "\n",
       "    .dataframe tbody tr th {\n",
       "        vertical-align: top;\n",
       "    }\n",
       "\n",
       "    .dataframe thead th {\n",
       "        text-align: right;\n",
       "    }\n",
       "</style>\n",
       "<table border=\"1\" class=\"dataframe\">\n",
       "  <thead>\n",
       "    <tr style=\"text-align: right;\">\n",
       "      <th></th>\n",
       "      <th>컬럼명</th>\n",
       "      <th>컬럼내용</th>\n",
       "    </tr>\n",
       "  </thead>\n",
       "  <tbody>\n",
       "    <tr>\n",
       "      <th>0</th>\n",
       "      <td>DRVNG_DSTNC</td>\n",
       "      <td>주행거리</td>\n",
       "    </tr>\n",
       "    <tr>\n",
       "      <th>1</th>\n",
       "      <td>VHRNO</td>\n",
       "      <td>자동차등록번호</td>\n",
       "    </tr>\n",
       "    <tr>\n",
       "      <th>2</th>\n",
       "      <td>VIN</td>\n",
       "      <td>차대번호</td>\n",
       "    </tr>\n",
       "    <tr>\n",
       "      <th>3</th>\n",
       "      <td>LOD_COX_MEVLU</td>\n",
       "      <td>부하일산화탄소측정치</td>\n",
       "    </tr>\n",
       "    <tr>\n",
       "      <th>4</th>\n",
       "      <td>LOD_HC_MEVLU</td>\n",
       "      <td>부하탄화수소측정치</td>\n",
       "    </tr>\n",
       "    <tr>\n",
       "      <th>5</th>\n",
       "      <td>LOD_NOX_MEVLU</td>\n",
       "      <td>부하질소산화물측정치</td>\n",
       "    </tr>\n",
       "    <tr>\n",
       "      <th>6</th>\n",
       "      <td>LOD_SMO_MEVLU</td>\n",
       "      <td>부하매연측정치</td>\n",
       "    </tr>\n",
       "    <tr>\n",
       "      <th>7</th>\n",
       "      <td>LOD_TQ_MEVLU</td>\n",
       "      <td>부하토크측정치</td>\n",
       "    </tr>\n",
       "    <tr>\n",
       "      <th>8</th>\n",
       "      <td>OVHUL_YMD</td>\n",
       "      <td>정비일자</td>\n",
       "    </tr>\n",
       "    <tr>\n",
       "      <th>9</th>\n",
       "      <td>SPCY_OVHUL_BIZPLC_NM</td>\n",
       "      <td>전문정비사업소명</td>\n",
       "    </tr>\n",
       "    <tr>\n",
       "      <th>10</th>\n",
       "      <td>OVHUL_RCPT_NO</td>\n",
       "      <td>정비접수번호</td>\n",
       "    </tr>\n",
       "    <tr>\n",
       "      <th>11</th>\n",
       "      <td>PRCINSP_RINSP_RCPT_NO</td>\n",
       "      <td>정밀재검사접수번호</td>\n",
       "    </tr>\n",
       "    <tr>\n",
       "      <th>12</th>\n",
       "      <td>NOLOD_COX_MEVLU</td>\n",
       "      <td>무부하일산화탄소측정치</td>\n",
       "    </tr>\n",
       "    <tr>\n",
       "      <th>13</th>\n",
       "      <td>NOLOD_HC_MEVLU</td>\n",
       "      <td>무부하탄화수소측정치</td>\n",
       "    </tr>\n",
       "    <tr>\n",
       "      <th>14</th>\n",
       "      <td>NOLOD_AIR_EXCRT_MEVLU</td>\n",
       "      <td>무부하공기과잉률측정치</td>\n",
       "    </tr>\n",
       "    <tr>\n",
       "      <th>15</th>\n",
       "      <td>NOLOD_SMO_MEVLU</td>\n",
       "      <td>무부하매연측정치</td>\n",
       "    </tr>\n",
       "  </tbody>\n",
       "</table>\n",
       "</div>"
      ],
      "text/plain": [
       "                      컬럼명         컬럼내용\n",
       "0             DRVNG_DSTNC         주행거리\n",
       "1                   VHRNO      자동차등록번호\n",
       "2                     VIN         차대번호\n",
       "3           LOD_COX_MEVLU   부하일산화탄소측정치\n",
       "4            LOD_HC_MEVLU    부하탄화수소측정치\n",
       "5           LOD_NOX_MEVLU   부하질소산화물측정치\n",
       "6           LOD_SMO_MEVLU      부하매연측정치\n",
       "7            LOD_TQ_MEVLU      부하토크측정치\n",
       "8               OVHUL_YMD         정비일자\n",
       "9    SPCY_OVHUL_BIZPLC_NM     전문정비사업소명\n",
       "10          OVHUL_RCPT_NO       정비접수번호\n",
       "11  PRCINSP_RINSP_RCPT_NO    정밀재검사접수번호\n",
       "12        NOLOD_COX_MEVLU  무부하일산화탄소측정치\n",
       "13         NOLOD_HC_MEVLU   무부하탄화수소측정치\n",
       "14  NOLOD_AIR_EXCRT_MEVLU  무부하공기과잉률측정치\n",
       "15        NOLOD_SMO_MEVLU     무부하매연측정치"
      ]
     },
     "execution_count": 562,
     "metadata": {},
     "output_type": "execute_result"
    }
   ],
   "source": [
    "er_cols = pd.DataFrame({'컬럼명':er_dict.keys(), '컬럼내용':er_dict.values()})\n",
    "er_cols"
   ]
  },
  {
   "cell_type": "code",
   "execution_count": 566,
   "metadata": {},
   "outputs": [
    {
     "data": {
      "text/html": [
       "<div>\n",
       "<style scoped>\n",
       "    .dataframe tbody tr th:only-of-type {\n",
       "        vertical-align: middle;\n",
       "    }\n",
       "\n",
       "    .dataframe tbody tr th {\n",
       "        vertical-align: top;\n",
       "    }\n",
       "\n",
       "    .dataframe thead th {\n",
       "        text-align: right;\n",
       "    }\n",
       "</style>\n",
       "<table border=\"1\" class=\"dataframe\">\n",
       "  <thead>\n",
       "    <tr style=\"text-align: right;\">\n",
       "      <th></th>\n",
       "      <th>번호</th>\n",
       "      <th>컬럼명</th>\n",
       "      <th>컬럼내용</th>\n",
       "      <th>빈 값 개수</th>\n",
       "      <th>총 행수</th>\n",
       "    </tr>\n",
       "  </thead>\n",
       "  <tbody>\n",
       "    <tr>\n",
       "      <th>0</th>\n",
       "      <td>1</td>\n",
       "      <td>DRVNG_DSTNC</td>\n",
       "      <td>주행거리</td>\n",
       "      <td>0</td>\n",
       "      <td>54617</td>\n",
       "    </tr>\n",
       "    <tr>\n",
       "      <th>1</th>\n",
       "      <td>2</td>\n",
       "      <td>VHRNO</td>\n",
       "      <td>자동차등록번호</td>\n",
       "      <td>0</td>\n",
       "      <td>54617</td>\n",
       "    </tr>\n",
       "    <tr>\n",
       "      <th>2</th>\n",
       "      <td>3</td>\n",
       "      <td>VIN</td>\n",
       "      <td>차대번호</td>\n",
       "      <td>3566</td>\n",
       "      <td>54617</td>\n",
       "    </tr>\n",
       "    <tr>\n",
       "      <th>3</th>\n",
       "      <td>4</td>\n",
       "      <td>LOD_COX_MEVLU</td>\n",
       "      <td>부하일산화탄소측정치</td>\n",
       "      <td>733</td>\n",
       "      <td>54617</td>\n",
       "    </tr>\n",
       "    <tr>\n",
       "      <th>4</th>\n",
       "      <td>5</td>\n",
       "      <td>LOD_HC_MEVLU</td>\n",
       "      <td>부하탄화수소측정치</td>\n",
       "      <td>731</td>\n",
       "      <td>54617</td>\n",
       "    </tr>\n",
       "    <tr>\n",
       "      <th>5</th>\n",
       "      <td>6</td>\n",
       "      <td>LOD_NOX_MEVLU</td>\n",
       "      <td>부하질소산화물측정치</td>\n",
       "      <td>734</td>\n",
       "      <td>54617</td>\n",
       "    </tr>\n",
       "    <tr>\n",
       "      <th>6</th>\n",
       "      <td>7</td>\n",
       "      <td>LOD_SMO_MEVLU</td>\n",
       "      <td>부하매연측정치</td>\n",
       "      <td>676</td>\n",
       "      <td>54617</td>\n",
       "    </tr>\n",
       "    <tr>\n",
       "      <th>7</th>\n",
       "      <td>8</td>\n",
       "      <td>LOD_TQ_MEVLU</td>\n",
       "      <td>부하토크측정치</td>\n",
       "      <td>798</td>\n",
       "      <td>54617</td>\n",
       "    </tr>\n",
       "    <tr>\n",
       "      <th>8</th>\n",
       "      <td>9</td>\n",
       "      <td>OVHUL_YMD</td>\n",
       "      <td>정비일자</td>\n",
       "      <td>0</td>\n",
       "      <td>54617</td>\n",
       "    </tr>\n",
       "    <tr>\n",
       "      <th>9</th>\n",
       "      <td>10</td>\n",
       "      <td>SPCY_OVHUL_BIZPLC_NM</td>\n",
       "      <td>전문정비사업소명</td>\n",
       "      <td>0</td>\n",
       "      <td>54617</td>\n",
       "    </tr>\n",
       "    <tr>\n",
       "      <th>10</th>\n",
       "      <td>11</td>\n",
       "      <td>OVHUL_RCPT_NO</td>\n",
       "      <td>정비접수번호</td>\n",
       "      <td>0</td>\n",
       "      <td>54617</td>\n",
       "    </tr>\n",
       "    <tr>\n",
       "      <th>11</th>\n",
       "      <td>12</td>\n",
       "      <td>PRCINSP_RINSP_RCPT_NO</td>\n",
       "      <td>정밀재검사접수번호</td>\n",
       "      <td>0</td>\n",
       "      <td>54617</td>\n",
       "    </tr>\n",
       "    <tr>\n",
       "      <th>12</th>\n",
       "      <td>13</td>\n",
       "      <td>NOLOD_COX_MEVLU</td>\n",
       "      <td>무부하일산화탄소측정치</td>\n",
       "      <td>747</td>\n",
       "      <td>54617</td>\n",
       "    </tr>\n",
       "    <tr>\n",
       "      <th>13</th>\n",
       "      <td>14</td>\n",
       "      <td>NOLOD_HC_MEVLU</td>\n",
       "      <td>무부하탄화수소측정치</td>\n",
       "      <td>746</td>\n",
       "      <td>54617</td>\n",
       "    </tr>\n",
       "    <tr>\n",
       "      <th>14</th>\n",
       "      <td>15</td>\n",
       "      <td>NOLOD_AIR_EXCRT_MEVLU</td>\n",
       "      <td>무부하공기과잉률측정치</td>\n",
       "      <td>26133</td>\n",
       "      <td>54617</td>\n",
       "    </tr>\n",
       "    <tr>\n",
       "      <th>15</th>\n",
       "      <td>16</td>\n",
       "      <td>NOLOD_SMO_MEVLU</td>\n",
       "      <td>무부하매연측정치</td>\n",
       "      <td>3625</td>\n",
       "      <td>54617</td>\n",
       "    </tr>\n",
       "  </tbody>\n",
       "</table>\n",
       "</div>"
      ],
      "text/plain": [
       "    번호                    컬럼명         컬럼내용  빈 값 개수   총 행수\n",
       "0    1            DRVNG_DSTNC         주행거리       0  54617\n",
       "1    2                  VHRNO      자동차등록번호       0  54617\n",
       "2    3                    VIN         차대번호    3566  54617\n",
       "3    4          LOD_COX_MEVLU   부하일산화탄소측정치     733  54617\n",
       "4    5           LOD_HC_MEVLU    부하탄화수소측정치     731  54617\n",
       "5    6          LOD_NOX_MEVLU   부하질소산화물측정치     734  54617\n",
       "6    7          LOD_SMO_MEVLU      부하매연측정치     676  54617\n",
       "7    8           LOD_TQ_MEVLU      부하토크측정치     798  54617\n",
       "8    9              OVHUL_YMD         정비일자       0  54617\n",
       "9   10   SPCY_OVHUL_BIZPLC_NM     전문정비사업소명       0  54617\n",
       "10  11          OVHUL_RCPT_NO       정비접수번호       0  54617\n",
       "11  12  PRCINSP_RINSP_RCPT_NO    정밀재검사접수번호       0  54617\n",
       "12  13        NOLOD_COX_MEVLU  무부하일산화탄소측정치     747  54617\n",
       "13  14         NOLOD_HC_MEVLU   무부하탄화수소측정치     746  54617\n",
       "14  15  NOLOD_AIR_EXCRT_MEVLU  무부하공기과잉률측정치   26133  54617\n",
       "15  16        NOLOD_SMO_MEVLU     무부하매연측정치    3625  54617"
      ]
     },
     "execution_count": 566,
     "metadata": {},
     "output_type": "execute_result"
    }
   ],
   "source": [
    "temp = er.isnull().sum().reset_index()\n",
    "temp = temp.rename(columns={'index':'컬럼내용', 0:'빈 값 개수'})\n",
    "temp['총 행수'] = er.shape[0]\n",
    "temp['번호'] = [x for x in range(1, temp.shape[0] + 1)]\n",
    "ttemp = temp.merge(er_cols, on='컬럼내용', how='left')\n",
    "ttemp = ttemp[['번호', '컬럼명', '컬럼내용', '빈 값 개수', '총 행수']]\n",
    "ttemp"
   ]
  },
  {
   "cell_type": "code",
   "execution_count": 567,
   "metadata": {},
   "outputs": [
    {
     "data": {
      "text/plain": [
       "'2023.10.31'"
      ]
     },
     "execution_count": 567,
     "metadata": {},
     "output_type": "execute_result"
    }
   ],
   "source": [
    "today_date = datetime.today().strftime('%Y.%m.%d')\n",
    "today_date"
   ]
  },
  {
   "cell_type": "code",
   "execution_count": 568,
   "metadata": {},
   "outputs": [],
   "source": [
    "ttemp.to_excel(os.path.join(an4_fold, f'전문정비_데이터정보({today_date}).xlsx'), index=False)"
   ]
  },
  {
   "cell_type": "markdown",
   "metadata": {},
   "source": [
    "## 전문정비상세(STD_TB_ERR_RES_DET)"
   ]
  },
  {
   "cell_type": "code",
   "execution_count": 554,
   "metadata": {},
   "outputs": [],
   "source": [
    "erd_dict = {\n",
    "    'VHRNO':'자동차등록번호', \n",
    "    'VIN':'차대번호', \n",
    "    'OVHUL_CN':'정비내용', \n",
    "    'OVHUL_YMD':'정비일자', \n",
    "    'SPCY_OVHUL_BIZPLC_NM':'전문정비사업소명', \n",
    "    'OVHUL_CMPNT_NM':'정비부품명', \n",
    "    'OVHUL_RCPT_NO':'정비접수번호', \n",
    "    'PRCINSP_RINSP_RCPT_NO':'정밀재검사접수번호', \n",
    "}"
   ]
  },
  {
   "cell_type": "code",
   "execution_count": 555,
   "metadata": {},
   "outputs": [
    {
     "name": "stdout",
     "output_type": "stream",
     "text": [
      "<class 'pandas.core.frame.DataFrame'>\n",
      "RangeIndex: 106819 entries, 0 to 106818\n",
      "Data columns (total 8 columns):\n",
      " #   Column                 Non-Null Count   Dtype  \n",
      "---  ------                 --------------   -----  \n",
      " 0   VHRNO                  106818 non-null  object \n",
      " 1   VIN                    94670 non-null   object \n",
      " 2   OVHUL_CN               106817 non-null  object \n",
      " 3   OVHUL_YMD              106818 non-null  float64\n",
      " 4   SPCY_OVHUL_BIZPLC_NM   106818 non-null  object \n",
      " 5   OVHUL_CMPNT_NM         106817 non-null  object \n",
      " 6   OVHUL_RCPT_NO          106818 non-null  float64\n",
      " 7   PRCINSP_RINSP_RCPT_NO  0 non-null       float64\n",
      "dtypes: float64(3), object(5)\n",
      "memory usage: 6.5+ MB\n"
     ]
    }
   ],
   "source": [
    "# 0.3s\n",
    "name = 'STD_TB_ERR_RES_DET(20231011)'\n",
    "file_name = f'{name}.csv'\n",
    "erd = pd.read_csv(os.path.join(pub_fold, file_name), low_memory=False)\n",
    "erd.info()"
   ]
  },
  {
   "cell_type": "code",
   "execution_count": 556,
   "metadata": {},
   "outputs": [
    {
     "data": {
      "text/plain": [
       "Index(['자동차등록번호', '차대번호', '정비내용', '정비일자', '전문정비사업소명', '정비부품명', '정비접수번호',\n",
       "       '정밀재검사접수번호'],\n",
       "      dtype='object')"
      ]
     },
     "execution_count": 556,
     "metadata": {},
     "output_type": "execute_result"
    }
   ],
   "source": [
    "erd = erd.rename(columns=erd_dict)\n",
    "erd.columns"
   ]
  },
  {
   "cell_type": "markdown",
   "metadata": {},
   "source": [
    "### 데이터 확인"
   ]
  },
  {
   "cell_type": "code",
   "execution_count": 557,
   "metadata": {},
   "outputs": [
    {
     "data": {
      "text/plain": [
       "(106819, 8)"
      ]
     },
     "execution_count": 557,
     "metadata": {},
     "output_type": "execute_result"
    }
   ],
   "source": [
    "erd.shape"
   ]
  },
  {
   "cell_type": "code",
   "execution_count": 581,
   "metadata": {},
   "outputs": [
    {
     "data": {
      "text/plain": [
       "{nan}"
      ]
     },
     "execution_count": 581,
     "metadata": {},
     "output_type": "execute_result"
    }
   ],
   "source": [
    "set(erd['정비접수번호'].unique())"
   ]
  },
  {
   "cell_type": "markdown",
   "metadata": {},
   "source": [
    "#### 컬럼, 데이터 정보들 출력"
   ]
  },
  {
   "cell_type": "code",
   "execution_count": 569,
   "metadata": {},
   "outputs": [
    {
     "data": {
      "text/html": [
       "<div>\n",
       "<style scoped>\n",
       "    .dataframe tbody tr th:only-of-type {\n",
       "        vertical-align: middle;\n",
       "    }\n",
       "\n",
       "    .dataframe tbody tr th {\n",
       "        vertical-align: top;\n",
       "    }\n",
       "\n",
       "    .dataframe thead th {\n",
       "        text-align: right;\n",
       "    }\n",
       "</style>\n",
       "<table border=\"1\" class=\"dataframe\">\n",
       "  <thead>\n",
       "    <tr style=\"text-align: right;\">\n",
       "      <th></th>\n",
       "      <th>컬럼명</th>\n",
       "      <th>컬럼내용</th>\n",
       "    </tr>\n",
       "  </thead>\n",
       "  <tbody>\n",
       "    <tr>\n",
       "      <th>0</th>\n",
       "      <td>VHRNO</td>\n",
       "      <td>자동차등록번호</td>\n",
       "    </tr>\n",
       "    <tr>\n",
       "      <th>1</th>\n",
       "      <td>VIN</td>\n",
       "      <td>차대번호</td>\n",
       "    </tr>\n",
       "    <tr>\n",
       "      <th>2</th>\n",
       "      <td>OVHUL_CN</td>\n",
       "      <td>정비내용</td>\n",
       "    </tr>\n",
       "    <tr>\n",
       "      <th>3</th>\n",
       "      <td>OVHUL_YMD</td>\n",
       "      <td>정비일자</td>\n",
       "    </tr>\n",
       "    <tr>\n",
       "      <th>4</th>\n",
       "      <td>SPCY_OVHUL_BIZPLC_NM</td>\n",
       "      <td>전문정비사업소명</td>\n",
       "    </tr>\n",
       "    <tr>\n",
       "      <th>5</th>\n",
       "      <td>OVHUL_CMPNT_NM</td>\n",
       "      <td>정비부품명</td>\n",
       "    </tr>\n",
       "    <tr>\n",
       "      <th>6</th>\n",
       "      <td>OVHUL_RCPT_NO</td>\n",
       "      <td>정비접수번호</td>\n",
       "    </tr>\n",
       "    <tr>\n",
       "      <th>7</th>\n",
       "      <td>PRCINSP_RINSP_RCPT_NO</td>\n",
       "      <td>정밀재검사접수번호</td>\n",
       "    </tr>\n",
       "  </tbody>\n",
       "</table>\n",
       "</div>"
      ],
      "text/plain": [
       "                     컬럼명       컬럼내용\n",
       "0                  VHRNO    자동차등록번호\n",
       "1                    VIN       차대번호\n",
       "2               OVHUL_CN       정비내용\n",
       "3              OVHUL_YMD       정비일자\n",
       "4   SPCY_OVHUL_BIZPLC_NM   전문정비사업소명\n",
       "5         OVHUL_CMPNT_NM      정비부품명\n",
       "6          OVHUL_RCPT_NO     정비접수번호\n",
       "7  PRCINSP_RINSP_RCPT_NO  정밀재검사접수번호"
      ]
     },
     "execution_count": 569,
     "metadata": {},
     "output_type": "execute_result"
    }
   ],
   "source": [
    "erd_cols = pd.DataFrame({'컬럼명':erd_dict.keys(), '컬럼내용':erd_dict.values()})\n",
    "erd_cols"
   ]
  },
  {
   "cell_type": "code",
   "execution_count": 570,
   "metadata": {},
   "outputs": [
    {
     "data": {
      "text/html": [
       "<div>\n",
       "<style scoped>\n",
       "    .dataframe tbody tr th:only-of-type {\n",
       "        vertical-align: middle;\n",
       "    }\n",
       "\n",
       "    .dataframe tbody tr th {\n",
       "        vertical-align: top;\n",
       "    }\n",
       "\n",
       "    .dataframe thead th {\n",
       "        text-align: right;\n",
       "    }\n",
       "</style>\n",
       "<table border=\"1\" class=\"dataframe\">\n",
       "  <thead>\n",
       "    <tr style=\"text-align: right;\">\n",
       "      <th></th>\n",
       "      <th>번호</th>\n",
       "      <th>컬럼명</th>\n",
       "      <th>컬럼내용</th>\n",
       "      <th>빈 값 개수</th>\n",
       "      <th>총 행수</th>\n",
       "    </tr>\n",
       "  </thead>\n",
       "  <tbody>\n",
       "    <tr>\n",
       "      <th>0</th>\n",
       "      <td>1</td>\n",
       "      <td>VHRNO</td>\n",
       "      <td>자동차등록번호</td>\n",
       "      <td>1</td>\n",
       "      <td>106819</td>\n",
       "    </tr>\n",
       "    <tr>\n",
       "      <th>1</th>\n",
       "      <td>2</td>\n",
       "      <td>VIN</td>\n",
       "      <td>차대번호</td>\n",
       "      <td>12149</td>\n",
       "      <td>106819</td>\n",
       "    </tr>\n",
       "    <tr>\n",
       "      <th>2</th>\n",
       "      <td>3</td>\n",
       "      <td>OVHUL_CN</td>\n",
       "      <td>정비내용</td>\n",
       "      <td>2</td>\n",
       "      <td>106819</td>\n",
       "    </tr>\n",
       "    <tr>\n",
       "      <th>3</th>\n",
       "      <td>4</td>\n",
       "      <td>OVHUL_YMD</td>\n",
       "      <td>정비일자</td>\n",
       "      <td>1</td>\n",
       "      <td>106819</td>\n",
       "    </tr>\n",
       "    <tr>\n",
       "      <th>4</th>\n",
       "      <td>5</td>\n",
       "      <td>SPCY_OVHUL_BIZPLC_NM</td>\n",
       "      <td>전문정비사업소명</td>\n",
       "      <td>1</td>\n",
       "      <td>106819</td>\n",
       "    </tr>\n",
       "    <tr>\n",
       "      <th>5</th>\n",
       "      <td>6</td>\n",
       "      <td>OVHUL_CMPNT_NM</td>\n",
       "      <td>정비부품명</td>\n",
       "      <td>2</td>\n",
       "      <td>106819</td>\n",
       "    </tr>\n",
       "    <tr>\n",
       "      <th>6</th>\n",
       "      <td>7</td>\n",
       "      <td>OVHUL_RCPT_NO</td>\n",
       "      <td>정비접수번호</td>\n",
       "      <td>1</td>\n",
       "      <td>106819</td>\n",
       "    </tr>\n",
       "    <tr>\n",
       "      <th>7</th>\n",
       "      <td>8</td>\n",
       "      <td>PRCINSP_RINSP_RCPT_NO</td>\n",
       "      <td>정밀재검사접수번호</td>\n",
       "      <td>106819</td>\n",
       "      <td>106819</td>\n",
       "    </tr>\n",
       "  </tbody>\n",
       "</table>\n",
       "</div>"
      ],
      "text/plain": [
       "   번호                    컬럼명       컬럼내용  빈 값 개수    총 행수\n",
       "0   1                  VHRNO    자동차등록번호       1  106819\n",
       "1   2                    VIN       차대번호   12149  106819\n",
       "2   3               OVHUL_CN       정비내용       2  106819\n",
       "3   4              OVHUL_YMD       정비일자       1  106819\n",
       "4   5   SPCY_OVHUL_BIZPLC_NM   전문정비사업소명       1  106819\n",
       "5   6         OVHUL_CMPNT_NM      정비부품명       2  106819\n",
       "6   7          OVHUL_RCPT_NO     정비접수번호       1  106819\n",
       "7   8  PRCINSP_RINSP_RCPT_NO  정밀재검사접수번호  106819  106819"
      ]
     },
     "execution_count": 570,
     "metadata": {},
     "output_type": "execute_result"
    }
   ],
   "source": [
    "temp = erd.isnull().sum().reset_index()\n",
    "temp = temp.rename(columns={'index':'컬럼내용', 0:'빈 값 개수'})\n",
    "temp['총 행수'] = erd.shape[0]\n",
    "temp['번호'] = [x for x in range(1, temp.shape[0] + 1)]\n",
    "ttemp = temp.merge(erd_cols, on='컬럼내용', how='left')\n",
    "ttemp = ttemp[['번호', '컬럼명', '컬럼내용', '빈 값 개수', '총 행수']]\n",
    "ttemp"
   ]
  },
  {
   "cell_type": "code",
   "execution_count": 572,
   "metadata": {},
   "outputs": [
    {
     "data": {
      "text/plain": [
       "'2023.10.31'"
      ]
     },
     "execution_count": 572,
     "metadata": {},
     "output_type": "execute_result"
    }
   ],
   "source": [
    "today_date = datetime.today().strftime('%Y.%m.%d')\n",
    "today_date"
   ]
  },
  {
   "cell_type": "code",
   "execution_count": 571,
   "metadata": {},
   "outputs": [],
   "source": [
    "ttemp.to_excel(os.path.join(an4_fold, f'전문정비상세_데이터정보({today_date}).xlsx'), index=False)"
   ]
  },
  {
   "cell_type": "markdown",
   "metadata": {},
   "source": [
    "## 구조변경검사(STD_DLM_TB_ERP_GUBUN_BAECHUL)"
   ]
  },
  {
   "cell_type": "code",
   "execution_count": 525,
   "metadata": {},
   "outputs": [
    {
     "name": "stdout",
     "output_type": "stream",
     "text": [
      "<class 'pandas.core.frame.DataFrame'>\n",
      "RangeIndex: 1321945 entries, 0 to 1321944\n",
      "Data columns (total 39 columns):\n",
      " #   Column                     Non-Null Count    Dtype  \n",
      "---  ------                     --------------    -----  \n",
      " 0   AIR_PSSR                   1152822 non-null  float64\n",
      " 1   AIR_TMPRT                  1152822 non-null  float64\n",
      " 2   CO2_VAL                    1110507 non-null  float64\n",
      " 3   DRVNG_DSTNC                1320563 non-null  float64\n",
      " 4   FNCINSP_JGMT_YN            1321919 non-null  object \n",
      " 5   INSPOF_NM                  1321945 non-null  object \n",
      " 6   INSPOF_RPRSV_NM            1318198 non-null  object \n",
      " 7   MAXM_OTPT_MSRMT_VAL        445619 non-null   float64\n",
      " 8   MAXM_OTPT_PRMT_VAL         544747 non-null   float64\n",
      " 9   O2_VAL                     1110507 non-null  float64\n",
      " 10  PRCINSP_YMD                1321945 non-null  int64  \n",
      " 11  PRCINSP_VLD_YMD            127529 non-null   float64\n",
      " 12  PRCINSP_VLD_WHL            1321945 non-null  object \n",
      " 13  PRCINSP_JGMT               1321904 non-null  object \n",
      " 14  PRCINSP_KND                1265148 non-null  object \n",
      " 15  PRCINSP_RCPT_NO            1308820 non-null  object \n",
      " 16  RINSP_WHL                  1321945 non-null  object \n",
      " 17  VHCL_PURPS_CD              1321945 non-null  object \n",
      " 18  VHRNO                      1321945 non-null  object \n",
      " 19  VIN                        1321945 non-null  object \n",
      " 20  STRCT_CHG_INSP_MSRMT_MTHD  1321945 non-null  object \n",
      " 21  NOLOD_SMO_MSRMT_VAL1       1276978 non-null  float64\n",
      " 22  NOLOD_SMO_PRMT_VAL1        1276912 non-null  float64\n",
      " 23  NOLOD_SMO_MSRMT_VAL2       1060644 non-null  float64\n",
      " 24  NOLOD_SMO_PRMT_VAL2        1012599 non-null  float64\n",
      " 25  NOLOD_SMO_MSRMT_VAL3       990667 non-null   float64\n",
      " 26  NOLOD_SMO_PRMT_VAL3        990600 non-null   float64\n",
      " 27  NOLOD_SMO_MSRMT_VAL4       731316 non-null   float64\n",
      " 28  NOLOD_SMO_PRMT_VAL4        731299 non-null   float64\n",
      " 29  NOLOD_SMO_MSRMT_VAL5       731316 non-null   float64\n",
      " 30  NOLOD_SMO_PRMT_VAL5        731296 non-null   float64\n",
      " 31  NOLOD_SMO_MSRMT_VAL6       346019 non-null   float64\n",
      " 32  NOLOD_SMO_PRMT_VAL6        345649 non-null   float64\n",
      " 33  NOLOD_SMO_JGMT_YN1         1276959 non-null  object \n",
      " 34  NOLOD_SMO_JGMT_YN2         760411 non-null   object \n",
      " 35  NOLOD_SMO_JGMT_YN3         760365 non-null   object \n",
      " 36  NOLOD_SMO_JGMT_YN4         500957 non-null   object \n",
      " 37  NOLOD_SMO_JGMT_YN5         500955 non-null   object \n",
      " 38  NOLOD_SMO_JGMT_YN6         76346 non-null    object \n",
      "dtypes: float64(20), int64(1), object(18)\n",
      "memory usage: 393.3+ MB\n"
     ]
    }
   ],
   "source": [
    "# 11.7s\n",
    "name = 'STD_DLM_TB_ERP_GUBUN_BAECHUL(20231011)'\n",
    "file_name = f'{name}.csv'\n",
    "gb = pd.read_csv(os.path.join(pub_fold, file_name), low_memory=False)\n",
    "gb.info()"
   ]
  },
  {
   "cell_type": "code",
   "execution_count": null,
   "metadata": {},
   "outputs": [
    {
     "data": {
      "text/plain": [
       "(1321945, 39)"
      ]
     },
     "metadata": {},
     "output_type": "display_data"
    }
   ],
   "source": [
    "gb.shape"
   ]
  },
  {
   "cell_type": "code",
   "execution_count": null,
   "metadata": {},
   "outputs": [
    {
     "data": {
      "text/plain": [
       "Index(['AIR_PSSR', 'AIR_TMPRT', 'CO2_VAL', 'DRVNG_DSTNC', 'FNCINSP_JGMT_YN',\n",
       "       'INSPOF_NM', 'INSPOF_RPRSV_NM', 'MAXM_OTPT_MSRMT_VAL',\n",
       "       'MAXM_OTPT_PRMT_VAL', 'O2_VAL', 'PRCINSP_YMD', 'PRCINSP_VLD_YMD',\n",
       "       'PRCINSP_VLD_WHL', 'PRCINSP_JGMT', 'PRCINSP_KND', 'PRCINSP_RCPT_NO',\n",
       "       'RINSP_WHL', 'VHCL_PURPS_CD', 'VHRNO', 'VIN',\n",
       "       'STRCT_CHG_INSP_MSRMT_MTHD', 'NOLOD_SMO_MSRMT_VAL1',\n",
       "       'NOLOD_SMO_PRMT_VAL1', 'NOLOD_SMO_MSRMT_VAL2', 'NOLOD_SMO_PRMT_VAL2',\n",
       "       'NOLOD_SMO_MSRMT_VAL3', 'NOLOD_SMO_PRMT_VAL3', 'NOLOD_SMO_MSRMT_VAL4',\n",
       "       'NOLOD_SMO_PRMT_VAL4', 'NOLOD_SMO_MSRMT_VAL5', 'NOLOD_SMO_PRMT_VAL5',\n",
       "       'NOLOD_SMO_MSRMT_VAL6', 'NOLOD_SMO_PRMT_VAL6', 'NOLOD_SMO_JGMT_YN1',\n",
       "       'NOLOD_SMO_JGMT_YN2', 'NOLOD_SMO_JGMT_YN3', 'NOLOD_SMO_JGMT_YN4',\n",
       "       'NOLOD_SMO_JGMT_YN5', 'NOLOD_SMO_JGMT_YN6'],\n",
       "      dtype='object')"
      ]
     },
     "metadata": {},
     "output_type": "display_data"
    }
   ],
   "source": [
    "gb.columns"
   ]
  },
  {
   "cell_type": "markdown",
   "metadata": {},
   "source": [
    "### 데이터 확인"
   ]
  },
  {
   "cell_type": "code",
   "execution_count": null,
   "metadata": {},
   "outputs": [
    {
     "data": {
      "text/html": [
       "<div>\n",
       "<style scoped>\n",
       "    .dataframe tbody tr th:only-of-type {\n",
       "        vertical-align: middle;\n",
       "    }\n",
       "\n",
       "    .dataframe tbody tr th {\n",
       "        vertical-align: top;\n",
       "    }\n",
       "\n",
       "    .dataframe thead th {\n",
       "        text-align: right;\n",
       "    }\n",
       "</style>\n",
       "<table border=\"1\" class=\"dataframe\">\n",
       "  <thead>\n",
       "    <tr style=\"text-align: right;\">\n",
       "      <th></th>\n",
       "      <th>AIR_PSSR</th>\n",
       "      <th>AIR_TMPRT</th>\n",
       "      <th>CO2_VAL</th>\n",
       "      <th>DRVNG_DSTNC</th>\n",
       "      <th>FNCINSP_JGMT_YN</th>\n",
       "      <th>INSPOF_NM</th>\n",
       "      <th>INSPOF_RPRSV_NM</th>\n",
       "      <th>MAXM_OTPT_MSRMT_VAL</th>\n",
       "      <th>MAXM_OTPT_PRMT_VAL</th>\n",
       "      <th>O2_VAL</th>\n",
       "    </tr>\n",
       "  </thead>\n",
       "  <tbody>\n",
       "    <tr>\n",
       "      <th>0</th>\n",
       "      <td>0.00</td>\n",
       "      <td>0.00</td>\n",
       "      <td>14.80</td>\n",
       "      <td>25377.00</td>\n",
       "      <td>Y</td>\n",
       "      <td>이현자동차검사소</td>\n",
       "      <td>최원수</td>\n",
       "      <td>NaN</td>\n",
       "      <td>NaN</td>\n",
       "      <td>0.00</td>\n",
       "    </tr>\n",
       "    <tr>\n",
       "      <th>1</th>\n",
       "      <td>101.30</td>\n",
       "      <td>18.00</td>\n",
       "      <td>0.00</td>\n",
       "      <td>172542.00</td>\n",
       "      <td>Y</td>\n",
       "      <td>서인천자동차검사소</td>\n",
       "      <td>박상영</td>\n",
       "      <td>NaN</td>\n",
       "      <td>NaN</td>\n",
       "      <td>0.00</td>\n",
       "    </tr>\n",
       "    <tr>\n",
       "      <th>2</th>\n",
       "      <td>98.20</td>\n",
       "      <td>24.80</td>\n",
       "      <td>0.00</td>\n",
       "      <td>203176.00</td>\n",
       "      <td>Y</td>\n",
       "      <td>용인자동차검사소</td>\n",
       "      <td>최광진</td>\n",
       "      <td>NaN</td>\n",
       "      <td>NaN</td>\n",
       "      <td>0.00</td>\n",
       "    </tr>\n",
       "    <tr>\n",
       "      <th>3</th>\n",
       "      <td>101.20</td>\n",
       "      <td>15.20</td>\n",
       "      <td>0.00</td>\n",
       "      <td>208787.00</td>\n",
       "      <td>Y</td>\n",
       "      <td>노원자동차검사소</td>\n",
       "      <td>김동연</td>\n",
       "      <td>NaN</td>\n",
       "      <td>NaN</td>\n",
       "      <td>0.00</td>\n",
       "    </tr>\n",
       "    <tr>\n",
       "      <th>4</th>\n",
       "      <td>99.80</td>\n",
       "      <td>13.40</td>\n",
       "      <td>0.00</td>\n",
       "      <td>158139.00</td>\n",
       "      <td>Y</td>\n",
       "      <td>성동자동차검사소</td>\n",
       "      <td>나성철</td>\n",
       "      <td>NaN</td>\n",
       "      <td>NaN</td>\n",
       "      <td>0.00</td>\n",
       "    </tr>\n",
       "  </tbody>\n",
       "</table>\n",
       "</div>"
      ],
      "text/plain": [
       "   AIR_PSSR  AIR_TMPRT  CO2_VAL  DRVNG_DSTNC FNCINSP_JGMT_YN  INSPOF_NM  \\\n",
       "0      0.00       0.00    14.80     25377.00               Y   이현자동차검사소   \n",
       "1    101.30      18.00     0.00    172542.00               Y  서인천자동차검사소   \n",
       "2     98.20      24.80     0.00    203176.00               Y   용인자동차검사소   \n",
       "3    101.20      15.20     0.00    208787.00               Y   노원자동차검사소   \n",
       "4     99.80      13.40     0.00    158139.00               Y   성동자동차검사소   \n",
       "\n",
       "  INSPOF_RPRSV_NM  MAXM_OTPT_MSRMT_VAL  MAXM_OTPT_PRMT_VAL  O2_VAL  \n",
       "0             최원수                  NaN                 NaN    0.00  \n",
       "1             박상영                  NaN                 NaN    0.00  \n",
       "2             최광진                  NaN                 NaN    0.00  \n",
       "3             김동연                  NaN                 NaN    0.00  \n",
       "4             나성철                  NaN                 NaN    0.00  "
      ]
     },
     "metadata": {},
     "output_type": "display_data"
    }
   ],
   "source": [
    "gb.iloc[:, :10].head()"
   ]
  },
  {
   "cell_type": "code",
   "execution_count": null,
   "metadata": {},
   "outputs": [
    {
     "data": {
      "text/plain": [
       "{' ', '8', 'N', 'Y', nan}"
      ]
     },
     "metadata": {},
     "output_type": "display_data"
    }
   ],
   "source": [
    "set(gb.FNCINSP_JGMT_YN.unique())"
   ]
  },
  {
   "cell_type": "code",
   "execution_count": null,
   "metadata": {},
   "outputs": [
    {
     "data": {
      "text/html": [
       "<div>\n",
       "<style scoped>\n",
       "    .dataframe tbody tr th:only-of-type {\n",
       "        vertical-align: middle;\n",
       "    }\n",
       "\n",
       "    .dataframe tbody tr th {\n",
       "        vertical-align: top;\n",
       "    }\n",
       "\n",
       "    .dataframe thead th {\n",
       "        text-align: right;\n",
       "    }\n",
       "</style>\n",
       "<table border=\"1\" class=\"dataframe\">\n",
       "  <thead>\n",
       "    <tr style=\"text-align: right;\">\n",
       "      <th></th>\n",
       "      <th>PRCINSP_YMD</th>\n",
       "      <th>PRCINSP_VLD_YMD</th>\n",
       "      <th>PRCINSP_VLD_WHL</th>\n",
       "      <th>PRCINSP_JGMT</th>\n",
       "      <th>PRCINSP_KND</th>\n",
       "      <th>PRCINSP_RCPT_NO</th>\n",
       "      <th>RINSP_WHL</th>\n",
       "      <th>VHCL_PURPS_CD</th>\n",
       "      <th>VHRNO</th>\n",
       "      <th>VIN</th>\n",
       "    </tr>\n",
       "  </thead>\n",
       "  <tbody>\n",
       "    <tr>\n",
       "      <th>0</th>\n",
       "      <td>20121031</td>\n",
       "      <td>NaN</td>\n",
       "      <td>~</td>\n",
       "      <td>Y</td>\n",
       "      <td>A21C02</td>\n",
       "      <td>27302012103101971</td>\n",
       "      <td>20121031~20121109</td>\n",
       "      <td>A20P</td>\n",
       "      <td>43버6629</td>\n",
       "      <td>KMHFG41EBCA120332</td>\n",
       "    </tr>\n",
       "    <tr>\n",
       "      <th>1</th>\n",
       "      <td>20121031</td>\n",
       "      <td>NaN</td>\n",
       "      <td>~</td>\n",
       "      <td>Y</td>\n",
       "      <td>A21C02</td>\n",
       "      <td>28402012103101621</td>\n",
       "      <td>20121031~20121109</td>\n",
       "      <td>A20P</td>\n",
       "      <td>81노1182</td>\n",
       "      <td>KMFLA18EP6C009216</td>\n",
       "    </tr>\n",
       "    <tr>\n",
       "      <th>2</th>\n",
       "      <td>20121031</td>\n",
       "      <td>NaN</td>\n",
       "      <td>~</td>\n",
       "      <td>Y</td>\n",
       "      <td>A21C02</td>\n",
       "      <td>41j02012103101191</td>\n",
       "      <td>20121031~20121109</td>\n",
       "      <td>A20P</td>\n",
       "      <td>경기94다4315</td>\n",
       "      <td>KN3HDP3352K836554</td>\n",
       "    </tr>\n",
       "    <tr>\n",
       "      <th>3</th>\n",
       "      <td>20121031</td>\n",
       "      <td>NaN</td>\n",
       "      <td>~</td>\n",
       "      <td>Y</td>\n",
       "      <td>A21C02</td>\n",
       "      <td>11602012103102571</td>\n",
       "      <td>20121031~20121109</td>\n",
       "      <td>A20P</td>\n",
       "      <td>서울34머6188</td>\n",
       "      <td>KMHWP81HP2U498130</td>\n",
       "    </tr>\n",
       "    <tr>\n",
       "      <th>4</th>\n",
       "      <td>20121031</td>\n",
       "      <td>NaN</td>\n",
       "      <td>~</td>\n",
       "      <td>Y</td>\n",
       "      <td>A21C02</td>\n",
       "      <td>11a02012103102091</td>\n",
       "      <td>20121031~20121109</td>\n",
       "      <td>A20P</td>\n",
       "      <td>80조2956</td>\n",
       "      <td>KMFWVH7HP5U646771</td>\n",
       "    </tr>\n",
       "  </tbody>\n",
       "</table>\n",
       "</div>"
      ],
      "text/plain": [
       "   PRCINSP_YMD  PRCINSP_VLD_YMD PRCINSP_VLD_WHL PRCINSP_JGMT PRCINSP_KND  \\\n",
       "0     20121031              NaN               ~            Y      A21C02   \n",
       "1     20121031              NaN               ~            Y      A21C02   \n",
       "2     20121031              NaN               ~            Y      A21C02   \n",
       "3     20121031              NaN               ~            Y      A21C02   \n",
       "4     20121031              NaN               ~            Y      A21C02   \n",
       "\n",
       "     PRCINSP_RCPT_NO          RINSP_WHL VHCL_PURPS_CD      VHRNO  \\\n",
       "0  27302012103101971  20121031~20121109          A20P    43버6629   \n",
       "1  28402012103101621  20121031~20121109          A20P    81노1182   \n",
       "2  41j02012103101191  20121031~20121109          A20P  경기94다4315   \n",
       "3  11602012103102571  20121031~20121109          A20P  서울34머6188   \n",
       "4  11a02012103102091  20121031~20121109          A20P    80조2956   \n",
       "\n",
       "                 VIN  \n",
       "0  KMHFG41EBCA120332  \n",
       "1  KMFLA18EP6C009216  \n",
       "2  KN3HDP3352K836554  \n",
       "3  KMHWP81HP2U498130  \n",
       "4  KMFWVH7HP5U646771  "
      ]
     },
     "metadata": {},
     "output_type": "display_data"
    }
   ],
   "source": [
    "gb.iloc[:, 10:20].head()"
   ]
  },
  {
   "cell_type": "code",
   "execution_count": null,
   "metadata": {},
   "outputs": [
    {
     "data": {
      "text/plain": [
       "{'A20B', 'A20O', 'A20P', 'A20T'}"
      ]
     },
     "metadata": {},
     "output_type": "display_data"
    }
   ],
   "source": [
    "set(gb.VHCL_PURPS_CD.unique())"
   ]
  },
  {
   "cell_type": "code",
   "execution_count": null,
   "metadata": {},
   "outputs": [
    {
     "data": {
      "text/html": [
       "<div>\n",
       "<style scoped>\n",
       "    .dataframe tbody tr th:only-of-type {\n",
       "        vertical-align: middle;\n",
       "    }\n",
       "\n",
       "    .dataframe tbody tr th {\n",
       "        vertical-align: top;\n",
       "    }\n",
       "\n",
       "    .dataframe thead th {\n",
       "        text-align: right;\n",
       "    }\n",
       "</style>\n",
       "<table border=\"1\" class=\"dataframe\">\n",
       "  <thead>\n",
       "    <tr style=\"text-align: right;\">\n",
       "      <th></th>\n",
       "      <th>STRCT_CHG_INSP_MSRMT_MTHD</th>\n",
       "      <th>NOLOD_SMO_MSRMT_VAL1</th>\n",
       "      <th>NOLOD_SMO_PRMT_VAL1</th>\n",
       "      <th>NOLOD_SMO_MSRMT_VAL2</th>\n",
       "      <th>NOLOD_SMO_PRMT_VAL2</th>\n",
       "      <th>NOLOD_SMO_MSRMT_VAL3</th>\n",
       "      <th>NOLOD_SMO_PRMT_VAL3</th>\n",
       "      <th>NOLOD_SMO_MSRMT_VAL4</th>\n",
       "      <th>NOLOD_SMO_PRMT_VAL4</th>\n",
       "      <th>NOLOD_SMO_MSRMT_VAL5</th>\n",
       "    </tr>\n",
       "  </thead>\n",
       "  <tbody>\n",
       "    <tr>\n",
       "      <th>0</th>\n",
       "      <td>부하검사(ASM-Idling)</td>\n",
       "      <td>0.00</td>\n",
       "      <td>0.60</td>\n",
       "      <td>7.00</td>\n",
       "      <td>120.00</td>\n",
       "      <td>0.00</td>\n",
       "      <td>790.00</td>\n",
       "      <td>0.00</td>\n",
       "      <td>1.00</td>\n",
       "      <td>8.00</td>\n",
       "    </tr>\n",
       "    <tr>\n",
       "      <th>1</th>\n",
       "      <td>부하검사(LUG DOWN)</td>\n",
       "      <td>0.00</td>\n",
       "      <td>20.00</td>\n",
       "      <td>0.00</td>\n",
       "      <td>20.00</td>\n",
       "      <td>0.00</td>\n",
       "      <td>20.00</td>\n",
       "      <td>2504.00</td>\n",
       "      <td>5.00</td>\n",
       "      <td>123.80</td>\n",
       "    </tr>\n",
       "    <tr>\n",
       "      <th>2</th>\n",
       "      <td>부하검사(KD-147)</td>\n",
       "      <td>14.00</td>\n",
       "      <td>20.00</td>\n",
       "      <td>NaN</td>\n",
       "      <td>NaN</td>\n",
       "      <td>NaN</td>\n",
       "      <td>NaN</td>\n",
       "      <td>NaN</td>\n",
       "      <td>NaN</td>\n",
       "      <td>NaN</td>\n",
       "    </tr>\n",
       "    <tr>\n",
       "      <th>3</th>\n",
       "      <td>부하검사(KD-147)</td>\n",
       "      <td>1.00</td>\n",
       "      <td>20.00</td>\n",
       "      <td>NaN</td>\n",
       "      <td>NaN</td>\n",
       "      <td>NaN</td>\n",
       "      <td>NaN</td>\n",
       "      <td>NaN</td>\n",
       "      <td>NaN</td>\n",
       "      <td>NaN</td>\n",
       "    </tr>\n",
       "    <tr>\n",
       "      <th>4</th>\n",
       "      <td>부하검사(KD-147)</td>\n",
       "      <td>0.00</td>\n",
       "      <td>20.00</td>\n",
       "      <td>NaN</td>\n",
       "      <td>NaN</td>\n",
       "      <td>NaN</td>\n",
       "      <td>NaN</td>\n",
       "      <td>NaN</td>\n",
       "      <td>NaN</td>\n",
       "      <td>NaN</td>\n",
       "    </tr>\n",
       "  </tbody>\n",
       "</table>\n",
       "</div>"
      ],
      "text/plain": [
       "  STRCT_CHG_INSP_MSRMT_MTHD  NOLOD_SMO_MSRMT_VAL1  NOLOD_SMO_PRMT_VAL1  \\\n",
       "0          부하검사(ASM-Idling)                  0.00                 0.60   \n",
       "1            부하검사(LUG DOWN)                  0.00                20.00   \n",
       "2              부하검사(KD-147)                 14.00                20.00   \n",
       "3              부하검사(KD-147)                  1.00                20.00   \n",
       "4              부하검사(KD-147)                  0.00                20.00   \n",
       "\n",
       "   NOLOD_SMO_MSRMT_VAL2  NOLOD_SMO_PRMT_VAL2  NOLOD_SMO_MSRMT_VAL3  \\\n",
       "0                  7.00               120.00                  0.00   \n",
       "1                  0.00                20.00                  0.00   \n",
       "2                   NaN                  NaN                   NaN   \n",
       "3                   NaN                  NaN                   NaN   \n",
       "4                   NaN                  NaN                   NaN   \n",
       "\n",
       "   NOLOD_SMO_PRMT_VAL3  NOLOD_SMO_MSRMT_VAL4  NOLOD_SMO_PRMT_VAL4  \\\n",
       "0               790.00                  0.00                 1.00   \n",
       "1                20.00               2504.00                 5.00   \n",
       "2                  NaN                   NaN                  NaN   \n",
       "3                  NaN                   NaN                  NaN   \n",
       "4                  NaN                   NaN                  NaN   \n",
       "\n",
       "   NOLOD_SMO_MSRMT_VAL5  \n",
       "0                  8.00  \n",
       "1                123.80  \n",
       "2                   NaN  \n",
       "3                   NaN  \n",
       "4                   NaN  "
      ]
     },
     "metadata": {},
     "output_type": "display_data"
    }
   ],
   "source": [
    "gb.iloc[:, 20:30].head()"
   ]
  },
  {
   "cell_type": "code",
   "execution_count": null,
   "metadata": {},
   "outputs": [
    {
     "data": {
      "text/plain": [
       "{'무부하검사(TSI)',\n",
       " '무부하검사(급가속)',\n",
       " '무부하검사(정지가동)',\n",
       " '부하검사(ASM-Idling)',\n",
       " '부하검사(ASM2525)',\n",
       " '부하검사(KD-147)',\n",
       " '부하검사(LUG DOWN)'}"
      ]
     },
     "metadata": {},
     "output_type": "display_data"
    }
   ],
   "source": [
    "set(gb.STRCT_CHG_INSP_MSRMT_MTHD.unique())"
   ]
  },
  {
   "cell_type": "code",
   "execution_count": null,
   "metadata": {},
   "outputs": [
    {
     "data": {
      "text/html": [
       "<div>\n",
       "<style scoped>\n",
       "    .dataframe tbody tr th:only-of-type {\n",
       "        vertical-align: middle;\n",
       "    }\n",
       "\n",
       "    .dataframe tbody tr th {\n",
       "        vertical-align: top;\n",
       "    }\n",
       "\n",
       "    .dataframe thead th {\n",
       "        text-align: right;\n",
       "    }\n",
       "</style>\n",
       "<table border=\"1\" class=\"dataframe\">\n",
       "  <thead>\n",
       "    <tr style=\"text-align: right;\">\n",
       "      <th></th>\n",
       "      <th>NOLOD_SMO_PRMT_VAL5</th>\n",
       "      <th>NOLOD_SMO_MSRMT_VAL6</th>\n",
       "      <th>NOLOD_SMO_PRMT_VAL6</th>\n",
       "      <th>NOLOD_SMO_JGMT_YN1</th>\n",
       "      <th>NOLOD_SMO_JGMT_YN2</th>\n",
       "      <th>NOLOD_SMO_JGMT_YN3</th>\n",
       "      <th>NOLOD_SMO_JGMT_YN4</th>\n",
       "      <th>NOLOD_SMO_JGMT_YN5</th>\n",
       "      <th>NOLOD_SMO_JGMT_YN6</th>\n",
       "    </tr>\n",
       "  </thead>\n",
       "  <tbody>\n",
       "    <tr>\n",
       "      <th>0</th>\n",
       "      <td>120.00</td>\n",
       "      <td>0.98</td>\n",
       "      <td>0.10</td>\n",
       "      <td>Y</td>\n",
       "      <td>Y</td>\n",
       "      <td>Y</td>\n",
       "      <td>Y</td>\n",
       "      <td>Y</td>\n",
       "      <td>Y</td>\n",
       "    </tr>\n",
       "    <tr>\n",
       "      <th>1</th>\n",
       "      <td>117.00</td>\n",
       "      <td>NaN</td>\n",
       "      <td>NaN</td>\n",
       "      <td>Y</td>\n",
       "      <td>Y</td>\n",
       "      <td>Y</td>\n",
       "      <td>Y</td>\n",
       "      <td>Y</td>\n",
       "      <td>NaN</td>\n",
       "    </tr>\n",
       "    <tr>\n",
       "      <th>2</th>\n",
       "      <td>NaN</td>\n",
       "      <td>NaN</td>\n",
       "      <td>NaN</td>\n",
       "      <td>Y</td>\n",
       "      <td>NaN</td>\n",
       "      <td>NaN</td>\n",
       "      <td>NaN</td>\n",
       "      <td>NaN</td>\n",
       "      <td>NaN</td>\n",
       "    </tr>\n",
       "    <tr>\n",
       "      <th>3</th>\n",
       "      <td>NaN</td>\n",
       "      <td>NaN</td>\n",
       "      <td>NaN</td>\n",
       "      <td>Y</td>\n",
       "      <td>NaN</td>\n",
       "      <td>NaN</td>\n",
       "      <td>NaN</td>\n",
       "      <td>NaN</td>\n",
       "      <td>NaN</td>\n",
       "    </tr>\n",
       "    <tr>\n",
       "      <th>4</th>\n",
       "      <td>NaN</td>\n",
       "      <td>NaN</td>\n",
       "      <td>NaN</td>\n",
       "      <td>Y</td>\n",
       "      <td>NaN</td>\n",
       "      <td>NaN</td>\n",
       "      <td>NaN</td>\n",
       "      <td>NaN</td>\n",
       "      <td>NaN</td>\n",
       "    </tr>\n",
       "  </tbody>\n",
       "</table>\n",
       "</div>"
      ],
      "text/plain": [
       "   NOLOD_SMO_PRMT_VAL5  NOLOD_SMO_MSRMT_VAL6  NOLOD_SMO_PRMT_VAL6  \\\n",
       "0               120.00                  0.98                 0.10   \n",
       "1               117.00                   NaN                  NaN   \n",
       "2                  NaN                   NaN                  NaN   \n",
       "3                  NaN                   NaN                  NaN   \n",
       "4                  NaN                   NaN                  NaN   \n",
       "\n",
       "  NOLOD_SMO_JGMT_YN1 NOLOD_SMO_JGMT_YN2 NOLOD_SMO_JGMT_YN3 NOLOD_SMO_JGMT_YN4  \\\n",
       "0                  Y                  Y                  Y                  Y   \n",
       "1                  Y                  Y                  Y                  Y   \n",
       "2                  Y                NaN                NaN                NaN   \n",
       "3                  Y                NaN                NaN                NaN   \n",
       "4                  Y                NaN                NaN                NaN   \n",
       "\n",
       "  NOLOD_SMO_JGMT_YN5 NOLOD_SMO_JGMT_YN6  \n",
       "0                  Y                  Y  \n",
       "1                  Y                NaN  \n",
       "2                NaN                NaN  \n",
       "3                NaN                NaN  \n",
       "4                NaN                NaN  "
      ]
     },
     "metadata": {},
     "output_type": "display_data"
    }
   ],
   "source": [
    "gb.iloc[:, 30:40].head()"
   ]
  },
  {
   "cell_type": "code",
   "execution_count": null,
   "metadata": {},
   "outputs": [
    {
     "data": {
      "text/plain": [
       "{' ', '0', 'N', 'Y', nan}"
      ]
     },
     "metadata": {},
     "output_type": "display_data"
    }
   ],
   "source": [
    "set(gb.NOLOD_SMO_JGMT_YN6.unique())"
   ]
  },
  {
   "cell_type": "markdown",
   "metadata": {},
   "source": [
    "#### 컬럼, 데이터 정보들 출력"
   ]
  },
  {
   "cell_type": "code",
   "execution_count": null,
   "metadata": {},
   "outputs": [
    {
     "data": {
      "text/html": [
       "<div>\n",
       "<style scoped>\n",
       "    .dataframe tbody tr th:only-of-type {\n",
       "        vertical-align: middle;\n",
       "    }\n",
       "\n",
       "    .dataframe tbody tr th {\n",
       "        vertical-align: top;\n",
       "    }\n",
       "\n",
       "    .dataframe thead th {\n",
       "        text-align: right;\n",
       "    }\n",
       "</style>\n",
       "<table border=\"1\" class=\"dataframe\">\n",
       "  <thead>\n",
       "    <tr style=\"text-align: right;\">\n",
       "      <th></th>\n",
       "      <th>번호</th>\n",
       "      <th>컬럼명</th>\n",
       "      <th>빈 값 개수</th>\n",
       "      <th>총 행수</th>\n",
       "    </tr>\n",
       "  </thead>\n",
       "  <tbody>\n",
       "    <tr>\n",
       "      <th>0</th>\n",
       "      <td>1</td>\n",
       "      <td>AIR_PSSR</td>\n",
       "      <td>169123</td>\n",
       "      <td>1321945</td>\n",
       "    </tr>\n",
       "    <tr>\n",
       "      <th>1</th>\n",
       "      <td>2</td>\n",
       "      <td>AIR_TMPRT</td>\n",
       "      <td>169123</td>\n",
       "      <td>1321945</td>\n",
       "    </tr>\n",
       "    <tr>\n",
       "      <th>2</th>\n",
       "      <td>3</td>\n",
       "      <td>CO2_VAL</td>\n",
       "      <td>211438</td>\n",
       "      <td>1321945</td>\n",
       "    </tr>\n",
       "    <tr>\n",
       "      <th>3</th>\n",
       "      <td>4</td>\n",
       "      <td>DRVNG_DSTNC</td>\n",
       "      <td>1382</td>\n",
       "      <td>1321945</td>\n",
       "    </tr>\n",
       "    <tr>\n",
       "      <th>4</th>\n",
       "      <td>5</td>\n",
       "      <td>FNCINSP_JGMT_YN</td>\n",
       "      <td>26</td>\n",
       "      <td>1321945</td>\n",
       "    </tr>\n",
       "    <tr>\n",
       "      <th>5</th>\n",
       "      <td>6</td>\n",
       "      <td>INSPOF_NM</td>\n",
       "      <td>0</td>\n",
       "      <td>1321945</td>\n",
       "    </tr>\n",
       "    <tr>\n",
       "      <th>6</th>\n",
       "      <td>7</td>\n",
       "      <td>INSPOF_RPRSV_NM</td>\n",
       "      <td>3747</td>\n",
       "      <td>1321945</td>\n",
       "    </tr>\n",
       "    <tr>\n",
       "      <th>7</th>\n",
       "      <td>8</td>\n",
       "      <td>MAXM_OTPT_MSRMT_VAL</td>\n",
       "      <td>876326</td>\n",
       "      <td>1321945</td>\n",
       "    </tr>\n",
       "    <tr>\n",
       "      <th>8</th>\n",
       "      <td>9</td>\n",
       "      <td>MAXM_OTPT_PRMT_VAL</td>\n",
       "      <td>777198</td>\n",
       "      <td>1321945</td>\n",
       "    </tr>\n",
       "    <tr>\n",
       "      <th>9</th>\n",
       "      <td>10</td>\n",
       "      <td>O2_VAL</td>\n",
       "      <td>211438</td>\n",
       "      <td>1321945</td>\n",
       "    </tr>\n",
       "    <tr>\n",
       "      <th>10</th>\n",
       "      <td>11</td>\n",
       "      <td>PRCINSP_YMD</td>\n",
       "      <td>0</td>\n",
       "      <td>1321945</td>\n",
       "    </tr>\n",
       "    <tr>\n",
       "      <th>11</th>\n",
       "      <td>12</td>\n",
       "      <td>PRCINSP_VLD_YMD</td>\n",
       "      <td>1194416</td>\n",
       "      <td>1321945</td>\n",
       "    </tr>\n",
       "    <tr>\n",
       "      <th>12</th>\n",
       "      <td>13</td>\n",
       "      <td>PRCINSP_VLD_WHL</td>\n",
       "      <td>0</td>\n",
       "      <td>1321945</td>\n",
       "    </tr>\n",
       "    <tr>\n",
       "      <th>13</th>\n",
       "      <td>14</td>\n",
       "      <td>PRCINSP_JGMT</td>\n",
       "      <td>41</td>\n",
       "      <td>1321945</td>\n",
       "    </tr>\n",
       "    <tr>\n",
       "      <th>14</th>\n",
       "      <td>15</td>\n",
       "      <td>PRCINSP_KND</td>\n",
       "      <td>56797</td>\n",
       "      <td>1321945</td>\n",
       "    </tr>\n",
       "    <tr>\n",
       "      <th>15</th>\n",
       "      <td>16</td>\n",
       "      <td>PRCINSP_RCPT_NO</td>\n",
       "      <td>13125</td>\n",
       "      <td>1321945</td>\n",
       "    </tr>\n",
       "    <tr>\n",
       "      <th>16</th>\n",
       "      <td>17</td>\n",
       "      <td>RINSP_WHL</td>\n",
       "      <td>0</td>\n",
       "      <td>1321945</td>\n",
       "    </tr>\n",
       "    <tr>\n",
       "      <th>17</th>\n",
       "      <td>18</td>\n",
       "      <td>VHCL_PURPS_CD</td>\n",
       "      <td>0</td>\n",
       "      <td>1321945</td>\n",
       "    </tr>\n",
       "    <tr>\n",
       "      <th>18</th>\n",
       "      <td>19</td>\n",
       "      <td>VHRNO</td>\n",
       "      <td>0</td>\n",
       "      <td>1321945</td>\n",
       "    </tr>\n",
       "    <tr>\n",
       "      <th>19</th>\n",
       "      <td>20</td>\n",
       "      <td>VIN</td>\n",
       "      <td>0</td>\n",
       "      <td>1321945</td>\n",
       "    </tr>\n",
       "    <tr>\n",
       "      <th>20</th>\n",
       "      <td>21</td>\n",
       "      <td>STRCT_CHG_INSP_MSRMT_MTHD</td>\n",
       "      <td>0</td>\n",
       "      <td>1321945</td>\n",
       "    </tr>\n",
       "    <tr>\n",
       "      <th>21</th>\n",
       "      <td>22</td>\n",
       "      <td>NOLOD_SMO_MSRMT_VAL1</td>\n",
       "      <td>44967</td>\n",
       "      <td>1321945</td>\n",
       "    </tr>\n",
       "    <tr>\n",
       "      <th>22</th>\n",
       "      <td>23</td>\n",
       "      <td>NOLOD_SMO_PRMT_VAL1</td>\n",
       "      <td>45033</td>\n",
       "      <td>1321945</td>\n",
       "    </tr>\n",
       "    <tr>\n",
       "      <th>23</th>\n",
       "      <td>24</td>\n",
       "      <td>NOLOD_SMO_MSRMT_VAL2</td>\n",
       "      <td>261301</td>\n",
       "      <td>1321945</td>\n",
       "    </tr>\n",
       "    <tr>\n",
       "      <th>24</th>\n",
       "      <td>25</td>\n",
       "      <td>NOLOD_SMO_PRMT_VAL2</td>\n",
       "      <td>309346</td>\n",
       "      <td>1321945</td>\n",
       "    </tr>\n",
       "    <tr>\n",
       "      <th>25</th>\n",
       "      <td>26</td>\n",
       "      <td>NOLOD_SMO_MSRMT_VAL3</td>\n",
       "      <td>331278</td>\n",
       "      <td>1321945</td>\n",
       "    </tr>\n",
       "    <tr>\n",
       "      <th>26</th>\n",
       "      <td>27</td>\n",
       "      <td>NOLOD_SMO_PRMT_VAL3</td>\n",
       "      <td>331345</td>\n",
       "      <td>1321945</td>\n",
       "    </tr>\n",
       "    <tr>\n",
       "      <th>27</th>\n",
       "      <td>28</td>\n",
       "      <td>NOLOD_SMO_MSRMT_VAL4</td>\n",
       "      <td>590629</td>\n",
       "      <td>1321945</td>\n",
       "    </tr>\n",
       "    <tr>\n",
       "      <th>28</th>\n",
       "      <td>29</td>\n",
       "      <td>NOLOD_SMO_PRMT_VAL4</td>\n",
       "      <td>590646</td>\n",
       "      <td>1321945</td>\n",
       "    </tr>\n",
       "    <tr>\n",
       "      <th>29</th>\n",
       "      <td>30</td>\n",
       "      <td>NOLOD_SMO_MSRMT_VAL5</td>\n",
       "      <td>590629</td>\n",
       "      <td>1321945</td>\n",
       "    </tr>\n",
       "    <tr>\n",
       "      <th>30</th>\n",
       "      <td>31</td>\n",
       "      <td>NOLOD_SMO_PRMT_VAL5</td>\n",
       "      <td>590649</td>\n",
       "      <td>1321945</td>\n",
       "    </tr>\n",
       "    <tr>\n",
       "      <th>31</th>\n",
       "      <td>32</td>\n",
       "      <td>NOLOD_SMO_MSRMT_VAL6</td>\n",
       "      <td>975926</td>\n",
       "      <td>1321945</td>\n",
       "    </tr>\n",
       "    <tr>\n",
       "      <th>32</th>\n",
       "      <td>33</td>\n",
       "      <td>NOLOD_SMO_PRMT_VAL6</td>\n",
       "      <td>976296</td>\n",
       "      <td>1321945</td>\n",
       "    </tr>\n",
       "    <tr>\n",
       "      <th>33</th>\n",
       "      <td>34</td>\n",
       "      <td>NOLOD_SMO_JGMT_YN1</td>\n",
       "      <td>44986</td>\n",
       "      <td>1321945</td>\n",
       "    </tr>\n",
       "    <tr>\n",
       "      <th>34</th>\n",
       "      <td>35</td>\n",
       "      <td>NOLOD_SMO_JGMT_YN2</td>\n",
       "      <td>561534</td>\n",
       "      <td>1321945</td>\n",
       "    </tr>\n",
       "    <tr>\n",
       "      <th>35</th>\n",
       "      <td>36</td>\n",
       "      <td>NOLOD_SMO_JGMT_YN3</td>\n",
       "      <td>561580</td>\n",
       "      <td>1321945</td>\n",
       "    </tr>\n",
       "    <tr>\n",
       "      <th>36</th>\n",
       "      <td>37</td>\n",
       "      <td>NOLOD_SMO_JGMT_YN4</td>\n",
       "      <td>820988</td>\n",
       "      <td>1321945</td>\n",
       "    </tr>\n",
       "    <tr>\n",
       "      <th>37</th>\n",
       "      <td>38</td>\n",
       "      <td>NOLOD_SMO_JGMT_YN5</td>\n",
       "      <td>820990</td>\n",
       "      <td>1321945</td>\n",
       "    </tr>\n",
       "    <tr>\n",
       "      <th>38</th>\n",
       "      <td>39</td>\n",
       "      <td>NOLOD_SMO_JGMT_YN6</td>\n",
       "      <td>1245599</td>\n",
       "      <td>1321945</td>\n",
       "    </tr>\n",
       "  </tbody>\n",
       "</table>\n",
       "</div>"
      ],
      "text/plain": [
       "    번호                        컬럼명   빈 값 개수     총 행수\n",
       "0    1                   AIR_PSSR   169123  1321945\n",
       "1    2                  AIR_TMPRT   169123  1321945\n",
       "2    3                    CO2_VAL   211438  1321945\n",
       "3    4                DRVNG_DSTNC     1382  1321945\n",
       "4    5            FNCINSP_JGMT_YN       26  1321945\n",
       "5    6                  INSPOF_NM        0  1321945\n",
       "6    7            INSPOF_RPRSV_NM     3747  1321945\n",
       "7    8        MAXM_OTPT_MSRMT_VAL   876326  1321945\n",
       "8    9         MAXM_OTPT_PRMT_VAL   777198  1321945\n",
       "9   10                     O2_VAL   211438  1321945\n",
       "10  11                PRCINSP_YMD        0  1321945\n",
       "11  12            PRCINSP_VLD_YMD  1194416  1321945\n",
       "12  13            PRCINSP_VLD_WHL        0  1321945\n",
       "13  14               PRCINSP_JGMT       41  1321945\n",
       "14  15                PRCINSP_KND    56797  1321945\n",
       "15  16            PRCINSP_RCPT_NO    13125  1321945\n",
       "16  17                  RINSP_WHL        0  1321945\n",
       "17  18              VHCL_PURPS_CD        0  1321945\n",
       "18  19                      VHRNO        0  1321945\n",
       "19  20                        VIN        0  1321945\n",
       "20  21  STRCT_CHG_INSP_MSRMT_MTHD        0  1321945\n",
       "21  22       NOLOD_SMO_MSRMT_VAL1    44967  1321945\n",
       "22  23        NOLOD_SMO_PRMT_VAL1    45033  1321945\n",
       "23  24       NOLOD_SMO_MSRMT_VAL2   261301  1321945\n",
       "24  25        NOLOD_SMO_PRMT_VAL2   309346  1321945\n",
       "25  26       NOLOD_SMO_MSRMT_VAL3   331278  1321945\n",
       "26  27        NOLOD_SMO_PRMT_VAL3   331345  1321945\n",
       "27  28       NOLOD_SMO_MSRMT_VAL4   590629  1321945\n",
       "28  29        NOLOD_SMO_PRMT_VAL4   590646  1321945\n",
       "29  30       NOLOD_SMO_MSRMT_VAL5   590629  1321945\n",
       "30  31        NOLOD_SMO_PRMT_VAL5   590649  1321945\n",
       "31  32       NOLOD_SMO_MSRMT_VAL6   975926  1321945\n",
       "32  33        NOLOD_SMO_PRMT_VAL6   976296  1321945\n",
       "33  34         NOLOD_SMO_JGMT_YN1    44986  1321945\n",
       "34  35         NOLOD_SMO_JGMT_YN2   561534  1321945\n",
       "35  36         NOLOD_SMO_JGMT_YN3   561580  1321945\n",
       "36  37         NOLOD_SMO_JGMT_YN4   820988  1321945\n",
       "37  38         NOLOD_SMO_JGMT_YN5   820990  1321945\n",
       "38  39         NOLOD_SMO_JGMT_YN6  1245599  1321945"
      ]
     },
     "metadata": {},
     "output_type": "display_data"
    }
   ],
   "source": [
    "temp = gb.isnull().sum().reset_index()\n",
    "temp = temp.rename(columns={'index':'컬럼명', 0:'빈 값 개수'})\n",
    "temp['총 행수'] = gb.shape[0]\n",
    "temp['번호'] = [x for x in range(1, temp.shape[0] + 1)]\n",
    "temp = temp[['번호', '컬럼명', '빈 값 개수', '총 행수']]\n",
    "temp"
   ]
  },
  {
   "cell_type": "code",
   "execution_count": null,
   "metadata": {},
   "outputs": [],
   "source": [
    "today_date = datetime.today().strftime('%Y.%m.%d')\n",
    "today_date"
   ]
  },
  {
   "cell_type": "code",
   "execution_count": null,
   "metadata": {},
   "outputs": [],
   "source": [
    "temp.to_excel(os.path.join(an5_fold, f'구조변경_데이터정보({today_date}).xlsx'), index=False)"
   ]
  },
  {
   "cell_type": "markdown",
   "metadata": {},
   "source": [
    "# EDA"
   ]
  },
  {
   "cell_type": "markdown",
   "metadata": {},
   "source": [
    "## 전문정비(STD_TB_ERR_RES)"
   ]
  },
  {
   "cell_type": "code",
   "execution_count": 17,
   "metadata": {},
   "outputs": [
    {
     "data": {
      "text/plain": [
       "0"
      ]
     },
     "execution_count": 17,
     "metadata": {},
     "output_type": "execute_result"
    }
   ],
   "source": [
    "er['정비일자'].isnull().sum()"
   ]
  },
  {
   "cell_type": "code",
   "execution_count": 15,
   "metadata": {},
   "outputs": [
    {
     "data": {
      "text/plain": [
       "count      54617.00\n",
       "mean    20083896.95\n",
       "std        16435.80\n",
       "min     20060727.00\n",
       "25%     20070801.00\n",
       "50%     20080507.00\n",
       "75%     20091109.00\n",
       "max     20121010.00\n",
       "Name: 정비일자, dtype: float64"
      ]
     },
     "execution_count": 15,
     "metadata": {},
     "output_type": "execute_result"
    }
   ],
   "source": [
    "er['정비일자'].describe()"
   ]
  },
  {
   "cell_type": "code",
   "execution_count": 19,
   "metadata": {},
   "outputs": [
    {
     "data": {
      "text/plain": [
       "0   2008-01-10\n",
       "1   2008-01-23\n",
       "2   2008-01-08\n",
       "3   2008-01-18\n",
       "4   2008-01-07\n",
       "Name: 정비일자, dtype: datetime64[ns]"
      ]
     },
     "execution_count": 19,
     "metadata": {},
     "output_type": "execute_result"
    }
   ],
   "source": [
    "er['정비일자'] = pd.to_datetime(er['정비일자'], format='%Y%m%d', errors='coerce')\n",
    "er['정비일자'].head()"
   ]
  },
  {
   "cell_type": "code",
   "execution_count": 20,
   "metadata": {},
   "outputs": [
    {
     "name": "stderr",
     "output_type": "stream",
     "text": [
      "C:\\Users\\kbjung\\AppData\\Local\\Temp\\ipykernel_3124\\328505498.py:1: FutureWarning: Treating datetime data as categorical rather than numeric in `.describe` is deprecated and will be removed in a future version of pandas. Specify `datetime_is_numeric=True` to silence this warning and adopt the future behavior now.\n",
      "  er['정비일자'].describe()\n"
     ]
    },
    {
     "data": {
      "text/plain": [
       "count                   54617\n",
       "unique                   1839\n",
       "top       2007-10-02 00:00:00\n",
       "freq                      123\n",
       "first     2006-07-27 00:00:00\n",
       "last      2012-10-10 00:00:00\n",
       "Name: 정비일자, dtype: object"
      ]
     },
     "execution_count": 20,
     "metadata": {},
     "output_type": "execute_result"
    }
   ],
   "source": [
    "er['정비일자'].describe()"
   ]
  },
  {
   "cell_type": "markdown",
   "metadata": {},
   "source": [
    "## 전문정비상세(STD_TB_ERR_RES_DET)"
   ]
  },
  {
   "cell_type": "code",
   "execution_count": 18,
   "metadata": {},
   "outputs": [
    {
     "data": {
      "text/plain": [
       "1"
      ]
     },
     "execution_count": 18,
     "metadata": {},
     "output_type": "execute_result"
    }
   ],
   "source": [
    "erd['정비일자'].isnull().sum()"
   ]
  },
  {
   "cell_type": "code",
   "execution_count": 16,
   "metadata": {},
   "outputs": [
    {
     "data": {
      "text/plain": [
       "count     106818.00\n",
       "mean    20083911.85\n",
       "std        15852.89\n",
       "min     20060727.00\n",
       "25%     20070829.00\n",
       "50%     20080529.00\n",
       "75%     20090921.00\n",
       "max     20120928.00\n",
       "Name: 정비일자, dtype: float64"
      ]
     },
     "execution_count": 16,
     "metadata": {},
     "output_type": "execute_result"
    }
   ],
   "source": [
    "erd['정비일자'].describe()"
   ]
  },
  {
   "cell_type": "code",
   "execution_count": 21,
   "metadata": {},
   "outputs": [
    {
     "data": {
      "text/plain": [
       "0   2007-02-08\n",
       "1   2006-08-11\n",
       "2   2006-08-11\n",
       "3   2006-08-11\n",
       "4   2006-12-11\n",
       "Name: 정비일자, dtype: datetime64[ns]"
      ]
     },
     "execution_count": 21,
     "metadata": {},
     "output_type": "execute_result"
    }
   ],
   "source": [
    "erd['정비일자'] = pd.to_datetime(erd['정비일자'], format='%Y%m%d', errors='coerce')\n",
    "erd['정비일자'].head()"
   ]
  },
  {
   "cell_type": "code",
   "execution_count": 22,
   "metadata": {},
   "outputs": [
    {
     "name": "stderr",
     "output_type": "stream",
     "text": [
      "C:\\Users\\kbjung\\AppData\\Local\\Temp\\ipykernel_3124\\338169835.py:1: FutureWarning: Treating datetime data as categorical rather than numeric in `.describe` is deprecated and will be removed in a future version of pandas. Specify `datetime_is_numeric=True` to silence this warning and adopt the future behavior now.\n",
      "  erd['정비일자'].describe()\n"
     ]
    },
    {
     "data": {
      "text/plain": [
       "count                  106818\n",
       "unique                   1832\n",
       "top       2007-08-13 00:00:00\n",
       "freq                      232\n",
       "first     2006-07-27 00:00:00\n",
       "last      2012-09-28 00:00:00\n",
       "Name: 정비일자, dtype: object"
      ]
     },
     "execution_count": 22,
     "metadata": {},
     "output_type": "execute_result"
    }
   ],
   "source": [
    "erd['정비일자'].describe()"
   ]
  },
  {
   "cell_type": "markdown",
   "metadata": {},
   "source": [
    "## 구조변경검사(STD_DLM_TB_ERP_GUBUN_BAECHUL)"
   ]
  },
  {
   "cell_type": "code",
   "execution_count": null,
   "metadata": {},
   "outputs": [],
   "source": []
  }
 ],
 "metadata": {
  "kernelspec": {
   "display_name": "base",
   "language": "python",
   "name": "python3"
  },
  "language_info": {
   "codemirror_mode": {
    "name": "ipython",
    "version": 3
   },
   "file_extension": ".py",
   "mimetype": "text/x-python",
   "name": "python",
   "nbconvert_exporter": "python",
   "pygments_lexer": "ipython3",
   "version": "3.11.4"
  }
 },
 "nbformat": 4,
 "nbformat_minor": 2
}
