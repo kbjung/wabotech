{
 "cells": [
  {
   "attachments": {},
   "cell_type": "markdown",
   "metadata": {},
   "source": [
    "# Library\n"
   ]
  },
  {
   "cell_type": "code",
   "execution_count": 1,
   "metadata": {},
   "outputs": [],
   "source": [
    "import pandas as pd\n",
    "import numpy as np\n",
    "import os\n",
    "from tqdm import tqdm\n",
    "from datetime import datetime\n",
    "import pyexasol"
   ]
  },
  {
   "cell_type": "code",
   "execution_count": 2,
   "metadata": {},
   "outputs": [],
   "source": [
    "# 소수점 옵션\n",
    "pd.options.display.float_format = '{:.2f}'.format\n",
    "# pd.reset_option('display.float_format')"
   ]
  },
  {
   "attachments": {},
   "cell_type": "markdown",
   "metadata": {},
   "source": [
    "# server"
   ]
  },
  {
   "cell_type": "code",
   "execution_count": 3,
   "metadata": {},
   "outputs": [],
   "source": [
    "# # insider db\n",
    "# wb = pyexasol.connect(dsn='172.29.135.35/F99FAB2444F86051A9A467F6313FAAB48AF7C4760663430958E3B89A9DC53361:8563', user='sys', password='exasol', compression=True, schema='VSYSD')\n",
    "# exasol db\n",
    "ws = pyexasol.connect(dsn='dev.openankus.org:8563', user='sys', password='djslzja', compression=True, schema='VSYS')\n",
    "wb = pyexasol.connect(dsn='dev.openankus.org:8563', user='sys', password='djslzja', compression=True, schema='VSYSD')\n",
    "we = pyexasol.connect(dsn='dev.openankus.org:8563', user='sys', password='djslzja', compression=True, schema='vsyse')\n",
    "wbt = pyexasol.connect(dsn='dev.openankus.org:8563', user='sys', password='djslzja', compression=True, schema='wbt')"
   ]
  },
  {
   "attachments": {},
   "cell_type": "markdown",
   "metadata": {},
   "source": [
    "# fold path"
   ]
  },
  {
   "cell_type": "code",
   "execution_count": 4,
   "metadata": {},
   "outputs": [],
   "source": [
    "drive = 'D'\n",
    "ods_fold = f'{drive}:/data/big2/ODS'\n",
    "big2_fold = f'{drive}:/data/big2'\n",
    "an3_fold = f'{drive}:/data/big2/BD3/an'\n",
    "raw3_fold = f'{drive}:/data/big2/BD3/raw'"
   ]
  },
  {
   "attachments": {},
   "cell_type": "markdown",
   "metadata": {},
   "source": [
    "# Load\n",
    "- 등록&제원 -> result 5등급"
   ]
  },
  {
   "attachments": {},
   "cell_type": "markdown",
   "metadata": {},
   "source": [
    "## 등록정보(STD_CEG_CAR_MIG) 5등급만"
   ]
  },
  {
   "cell_type": "code",
   "execution_count": 5,
   "metadata": {},
   "outputs": [
    {
     "name": "stderr",
     "output_type": "stream",
     "text": [
      "C:\\Users\\kbjung\\AppData\\Roaming\\Python\\Python39\\site-packages\\pyexasol\\callback.py:42: DtypeWarning: Columns (8) have mixed types. Specify dtype option on import or set low_memory=False.\n",
      "  return pandas.read_csv(pipe, skip_blank_lines=False, **kwargs)\n"
     ]
    }
   ],
   "source": [
    "# 8.6s\n",
    "car = wb.export_to_pandas(\"SELECT VIN, BSPL_STDG_CD, VHCL_ERSR_YN, MANP_MNG_NO, YRIDNW, VHCTY_CD, PURPS_CD2, FRST_REG_YMD, VHCL_FBCTN_YMD, VHCL_MNG_NO FROM STD_CEG_CAR_MIG WHERE EXHST_GAS_GRD_CD = 'A0505' OR EXHST_GAS_GRD_CD = 'A05T5';\")"
   ]
  },
  {
   "cell_type": "code",
   "execution_count": 6,
   "metadata": {},
   "outputs": [
    {
     "name": "stdout",
     "output_type": "stream",
     "text": [
      "<class 'pandas.core.frame.DataFrame'>\n",
      "RangeIndex: 2378646 entries, 0 to 2378645\n",
      "Data columns (total 10 columns):\n",
      " #   Column          Dtype \n",
      "---  ------          ----- \n",
      " 0   VIN             object\n",
      " 1   BSPL_STDG_CD    int64 \n",
      " 2   VHCL_ERSR_YN    object\n",
      " 3   MANP_MNG_NO     object\n",
      " 4   YRIDNW          int64 \n",
      " 5   VHCTY_CD        object\n",
      " 6   PURPS_CD2       object\n",
      " 7   FRST_REG_YMD    int64 \n",
      " 8   VHCL_FBCTN_YMD  object\n",
      " 9   VHCL_MNG_NO     object\n",
      "dtypes: int64(3), object(7)\n",
      "memory usage: 181.5+ MB\n"
     ]
    }
   ],
   "source": [
    "car.info()"
   ]
  },
  {
   "cell_type": "code",
   "execution_count": 7,
   "metadata": {},
   "outputs": [],
   "source": [
    "car_ch_col = {\n",
    "    'VIN':'차대번호', \n",
    "    'BSPL_STDG_CD':'법정동코드', \n",
    "    'VHCL_ERSR_YN':'차량말소YN',\n",
    "    'MANP_MNG_NO':'제원관리번호',\n",
    "    'YRIDNW':'차량연식', \n",
    "    'VHCTY_CD':'차종', \n",
    "    'PURPS_CD2':'용도', \n",
    "    'FRST_REG_YMD':'최초등록일자',\n",
    "    'VHCL_FBCTN_YMD':'제작일자',\n",
    "    'VHCL_MNG_NO':'차량관리번호'\n",
    "}"
   ]
  },
  {
   "cell_type": "code",
   "execution_count": 8,
   "metadata": {},
   "outputs": [],
   "source": [
    "carr = car.rename(columns=car_ch_col)"
   ]
  },
  {
   "cell_type": "code",
   "execution_count": 9,
   "metadata": {},
   "outputs": [
    {
     "data": {
      "text/plain": [
       "Index(['차대번호', '법정동코드', '차량말소YN', '제원관리번호', '차량연식', '차종', '용도', '최초등록일자',\n",
       "       '제작일자', '차량관리번호'],\n",
       "      dtype='object')"
      ]
     },
     "execution_count": 9,
     "metadata": {},
     "output_type": "execute_result"
    }
   ],
   "source": [
    "carr.columns"
   ]
  },
  {
   "attachments": {},
   "cell_type": "markdown",
   "metadata": {},
   "source": [
    "## 제원정보(STD_CEG_CAR_SRC_MIG)"
   ]
  },
  {
   "cell_type": "code",
   "execution_count": 10,
   "metadata": {},
   "outputs": [],
   "source": [
    "# 3.8s\n",
    "src = wb.export_to_pandas(\"SELECT MANP_MNG_NO, FUEL_CD, VHCTY_TY_CD2 FROM STD_CEG_CAR_SRC_MIG;\")"
   ]
  },
  {
   "cell_type": "code",
   "execution_count": 11,
   "metadata": {},
   "outputs": [],
   "source": [
    "src_ch_col = {\n",
    "    'MANP_MNG_NO':'제원관리번호', \n",
    "    'FUEL_CD':'연료',\n",
    "    'VHCTY_TY_CD2':'차종유형', \n",
    "}"
   ]
  },
  {
   "cell_type": "code",
   "execution_count": 12,
   "metadata": {},
   "outputs": [
    {
     "data": {
      "text/plain": [
       "Index(['제원관리번호', '연료', '차종유형'], dtype='object')"
      ]
     },
     "execution_count": 12,
     "metadata": {},
     "output_type": "execute_result"
    }
   ],
   "source": [
    "srcr = src.rename(columns=src_ch_col)\n",
    "srcr.columns"
   ]
  },
  {
   "attachments": {},
   "cell_type": "markdown",
   "metadata": {},
   "source": [
    "## 저감장치 부착이력(STD_DLM_TB_ERP_ATT_HIS)"
   ]
  },
  {
   "cell_type": "code",
   "execution_count": 13,
   "metadata": {},
   "outputs": [
    {
     "name": "stdout",
     "output_type": "stream",
     "text": [
      "<class 'pandas.core.frame.DataFrame'>\n",
      "RangeIndex: 1010946 entries, 0 to 1010945\n",
      "Data columns (total 2 columns):\n",
      " #   Column        Non-Null Count    Dtype \n",
      "---  ------        --------------    ----- \n",
      " 0   VIN           1010946 non-null  object\n",
      " 1   RDCDVC_SE_CD  1010946 non-null  object\n",
      "dtypes: object(2)\n",
      "memory usage: 15.4+ MB\n"
     ]
    }
   ],
   "source": [
    "# 3.0s\n",
    "att = wb.export_to_pandas(\"SELECT VIN, RDCDVC_SE_CD FROM STD_DLM_TB_ERP_ATT_HIS;\")\n",
    "att.info()"
   ]
  },
  {
   "cell_type": "code",
   "execution_count": 14,
   "metadata": {},
   "outputs": [],
   "source": [
    "att_ch_col = {\n",
    "    'VIN':'차대번호', \n",
    "    'RDCDVC_SE_CD':'저감장치구분', \n",
    "}"
   ]
  },
  {
   "cell_type": "code",
   "execution_count": 15,
   "metadata": {},
   "outputs": [
    {
     "data": {
      "text/plain": [
       "Index(['차대번호', '저감장치구분'], dtype='object')"
      ]
     },
     "execution_count": 15,
     "metadata": {},
     "output_type": "execute_result"
    }
   ],
   "source": [
    "attr = att.rename(columns=att_ch_col)\n",
    "attr.columns"
   ]
  },
  {
   "attachments": {},
   "cell_type": "markdown",
   "metadata": {},
   "source": [
    "## 법정동코드(STD_BJCD_INFO)"
   ]
  },
  {
   "cell_type": "code",
   "execution_count": 16,
   "metadata": {},
   "outputs": [
    {
     "name": "stdout",
     "output_type": "stream",
     "text": [
      "<class 'pandas.core.frame.DataFrame'>\n",
      "RangeIndex: 46333 entries, 0 to 46332\n",
      "Data columns (total 5 columns):\n",
      " #   Column        Non-Null Count  Dtype \n",
      "---  ------        --------------  ----- \n",
      " 0   STDG_CD       46333 non-null  int64 \n",
      " 1   STDG_CTPV_CD  46333 non-null  int64 \n",
      " 2   STDG_SGG_CD   46333 non-null  int64 \n",
      " 3   STDG_CTPV_NM  46333 non-null  object\n",
      " 4   STDG_SGG_NM   46310 non-null  object\n",
      "dtypes: int64(3), object(2)\n",
      "memory usage: 1.8+ MB\n"
     ]
    }
   ],
   "source": [
    "# 1.3s\n",
    "code = wb.export_to_pandas(\"SELECT STDG_CD, STDG_CTPV_CD, STDG_SGG_CD, STDG_CTPV_NM, STDG_SGG_NM FROM STD_BJCD_INFO;\")\n",
    "code.info()"
   ]
  },
  {
   "cell_type": "code",
   "execution_count": 17,
   "metadata": {},
   "outputs": [
    {
     "data": {
      "text/plain": [
       "Index(['STDG_CD', 'STDG_CTPV_CD', 'STDG_SGG_CD', 'STDG_CTPV_NM',\n",
       "       'STDG_SGG_NM'],\n",
       "      dtype='object')"
      ]
     },
     "execution_count": 17,
     "metadata": {},
     "output_type": "execute_result"
    }
   ],
   "source": [
    "code.columns"
   ]
  },
  {
   "cell_type": "code",
   "execution_count": 18,
   "metadata": {},
   "outputs": [],
   "source": [
    "code_ch_col = {\n",
    "    'STDG_CD':'법정동코드', \n",
    "    'STDG_CTPV_NM':'시도', \n",
    "    'STDG_SGG_NM':'시군구', \n",
    "    'STDG_CTPV_CD':'시도코드', \n",
    "    'STDG_SGG_CD':'시군구코드',\n",
    "}"
   ]
  },
  {
   "cell_type": "code",
   "execution_count": 19,
   "metadata": {},
   "outputs": [
    {
     "data": {
      "text/plain": [
       "Index(['법정동코드', '시도코드', '시군구코드', '시도', '시군구'], dtype='object')"
      ]
     },
     "execution_count": 19,
     "metadata": {},
     "output_type": "execute_result"
    }
   ],
   "source": [
    "coder = code.rename(columns=code_ch_col)\n",
    "coder.columns"
   ]
  },
  {
   "attachments": {},
   "cell_type": "markdown",
   "metadata": {},
   "source": [
    "## 노후차 조기폐차 관리정보(수도권)(STD_DLM_TB_ERP_EARLY_ERASE_AEA)"
   ]
  },
  {
   "cell_type": "code",
   "execution_count": 20,
   "metadata": {},
   "outputs": [
    {
     "name": "stdout",
     "output_type": "stream",
     "text": [
      "<class 'pandas.core.frame.DataFrame'>\n",
      "RangeIndex: 804082 entries, 0 to 804081\n",
      "Data columns (total 4 columns):\n",
      " #   Column               Non-Null Count   Dtype  \n",
      "---  ------               --------------   -----  \n",
      " 0   VIN                  804082 non-null  object \n",
      " 1   ELPDSRC_STTS_CD      804082 non-null  object \n",
      " 2   ELPDSRC_LST_APRV_YN  683874 non-null  object \n",
      " 3   ERSR_YMD             689973 non-null  float64\n",
      "dtypes: float64(1), object(3)\n",
      "memory usage: 24.5+ MB\n"
     ]
    }
   ],
   "source": [
    "# 2.4s\n",
    "aea = wb.export_to_pandas(\"SELECT VIN, ELPDSRC_STTS_CD, ELPDSRC_LST_APRV_YN, ERSR_YMD FROM STD_DLM_TB_ERP_EARLY_ERASE_AEA;\")\n",
    "aea.info()"
   ]
  },
  {
   "cell_type": "code",
   "execution_count": 21,
   "metadata": {},
   "outputs": [
    {
     "data": {
      "text/plain": [
       "Index(['VIN', 'ELPDSRC_STTS_CD', 'ELPDSRC_LST_APRV_YN', 'ERSR_YMD'], dtype='object')"
      ]
     },
     "execution_count": 21,
     "metadata": {},
     "output_type": "execute_result"
    }
   ],
   "source": [
    "aea.columns"
   ]
  },
  {
   "cell_type": "code",
   "execution_count": 22,
   "metadata": {},
   "outputs": [],
   "source": [
    "aea_ch_col = {\n",
    "    'VIN':'차대번호', \n",
    "    'ELPDSRC_STTS_CD':'조기폐차상태코드', \n",
    "    'ELPDSRC_LST_APRV_YN':'조기폐차최종승인YN', \n",
    "    'ERSR_YMD':'말소일자',\n",
    "}"
   ]
  },
  {
   "cell_type": "code",
   "execution_count": 23,
   "metadata": {},
   "outputs": [
    {
     "data": {
      "text/plain": [
       "Index(['차대번호', '조기폐차상태코드', '조기폐차최종승인YN', '말소일자'], dtype='object')"
      ]
     },
     "execution_count": 23,
     "metadata": {},
     "output_type": "execute_result"
    }
   ],
   "source": [
    "aear = aea.rename(columns=aea_ch_col)\n",
    "aear.columns"
   ]
  },
  {
   "cell_type": "code",
   "execution_count": 24,
   "metadata": {},
   "outputs": [
    {
     "data": {
      "text/html": [
       "<div>\n",
       "<style scoped>\n",
       "    .dataframe tbody tr th:only-of-type {\n",
       "        vertical-align: middle;\n",
       "    }\n",
       "\n",
       "    .dataframe tbody tr th {\n",
       "        vertical-align: top;\n",
       "    }\n",
       "\n",
       "    .dataframe thead th {\n",
       "        text-align: right;\n",
       "    }\n",
       "</style>\n",
       "<table border=\"1\" class=\"dataframe\">\n",
       "  <thead>\n",
       "    <tr style=\"text-align: right;\">\n",
       "      <th></th>\n",
       "      <th>차대번호</th>\n",
       "      <th>조기폐차상태코드</th>\n",
       "      <th>조기폐차최종승인YN</th>\n",
       "      <th>말소일자</th>\n",
       "    </tr>\n",
       "  </thead>\n",
       "  <tbody>\n",
       "    <tr>\n",
       "      <th>0</th>\n",
       "      <td>KMCXLS7BP2U626435</td>\n",
       "      <td>A32Y</td>\n",
       "      <td>Y</td>\n",
       "      <td>20120524.00</td>\n",
       "    </tr>\n",
       "    <tr>\n",
       "      <th>1</th>\n",
       "      <td>KNAJA5265VA794691</td>\n",
       "      <td>A32Y</td>\n",
       "      <td>Y</td>\n",
       "      <td>20120524.00</td>\n",
       "    </tr>\n",
       "    <tr>\n",
       "      <th>2</th>\n",
       "      <td>KPBLC3D81VP018295</td>\n",
       "      <td>A32Y</td>\n",
       "      <td>Y</td>\n",
       "      <td>20120524.00</td>\n",
       "    </tr>\n",
       "    <tr>\n",
       "      <th>3</th>\n",
       "      <td>KPDHADMD1YP225493</td>\n",
       "      <td>A32Y</td>\n",
       "      <td>Y</td>\n",
       "      <td>20120524.00</td>\n",
       "    </tr>\n",
       "    <tr>\n",
       "      <th>4</th>\n",
       "      <td>KNAMA75122S249083</td>\n",
       "      <td>A32Y</td>\n",
       "      <td>Y</td>\n",
       "      <td>20120529.00</td>\n",
       "    </tr>\n",
       "  </tbody>\n",
       "</table>\n",
       "</div>"
      ],
      "text/plain": [
       "                차대번호 조기폐차상태코드 조기폐차최종승인YN        말소일자\n",
       "0  KMCXLS7BP2U626435     A32Y          Y 20120524.00\n",
       "1  KNAJA5265VA794691     A32Y          Y 20120524.00\n",
       "2  KPBLC3D81VP018295     A32Y          Y 20120524.00\n",
       "3  KPDHADMD1YP225493     A32Y          Y 20120524.00\n",
       "4  KNAMA75122S249083     A32Y          Y 20120529.00"
      ]
     },
     "execution_count": 24,
     "metadata": {},
     "output_type": "execute_result"
    }
   ],
   "source": [
    "aear.head()"
   ]
  },
  {
   "attachments": {},
   "cell_type": "markdown",
   "metadata": {},
   "source": [
    "## 노후차 조기폐차 관리정보(수도권외)(STD_DLM_TB_ERP_EARLY_ERASE_LGV)"
   ]
  },
  {
   "cell_type": "code",
   "execution_count": 144,
   "metadata": {},
   "outputs": [
    {
     "name": "stdout",
     "output_type": "stream",
     "text": [
      "<class 'pandas.core.frame.DataFrame'>\n",
      "RangeIndex: 373371 entries, 0 to 373370\n",
      "Data columns (total 4 columns):\n",
      " #   Column               Non-Null Count   Dtype  \n",
      "---  ------               --------------   -----  \n",
      " 0   VIN                  373371 non-null  object \n",
      " 1   ELPDSRC_STTS_CD      373371 non-null  object \n",
      " 2   ELPDSRC_LST_APRV_YN  160690 non-null  object \n",
      " 3   ERSR_YMD             175443 non-null  float64\n",
      "dtypes: float64(1), object(3)\n",
      "memory usage: 11.4+ MB\n"
     ]
    }
   ],
   "source": [
    "# 1.8s\n",
    "lgv = wb.export_to_pandas(\"SELECT VIN, ELPDSRC_STTS_CD, ELPDSRC_LST_APRV_YN, ERSR_YMD FROM STD_DLM_TB_ERP_EARLY_ERASE_LGV;\")\n",
    "lgv.info()"
   ]
  },
  {
   "cell_type": "code",
   "execution_count": 145,
   "metadata": {},
   "outputs": [
    {
     "data": {
      "text/plain": [
       "Index(['VIN', 'ELPDSRC_STTS_CD', 'ELPDSRC_LST_APRV_YN', 'ERSR_YMD'], dtype='object')"
      ]
     },
     "execution_count": 145,
     "metadata": {},
     "output_type": "execute_result"
    }
   ],
   "source": [
    "lgv.columns"
   ]
  },
  {
   "cell_type": "code",
   "execution_count": 146,
   "metadata": {},
   "outputs": [],
   "source": [
    "lgv_ch_col = {\n",
    "    'VIN':'차대번호', \n",
    "    'ELPDSRC_STTS_CD':'조기폐차상태코드', \n",
    "    'ELPDSRC_LST_APRV_YN':'조기폐차최종승인YN', \n",
    "    'ERSR_YMD':'말소일자', \n",
    "}"
   ]
  },
  {
   "cell_type": "code",
   "execution_count": 147,
   "metadata": {},
   "outputs": [
    {
     "data": {
      "text/plain": [
       "Index(['차대번호', '조기폐차상태코드', '조기폐차최종승인YN', '말소일자'], dtype='object')"
      ]
     },
     "execution_count": 147,
     "metadata": {},
     "output_type": "execute_result"
    }
   ],
   "source": [
    "lgvr = lgv.rename(columns=lgv_ch_col)\n",
    "lgvr.columns"
   ]
  },
  {
   "cell_type": "code",
   "execution_count": 148,
   "metadata": {},
   "outputs": [
    {
     "data": {
      "text/html": [
       "<div>\n",
       "<style scoped>\n",
       "    .dataframe tbody tr th:only-of-type {\n",
       "        vertical-align: middle;\n",
       "    }\n",
       "\n",
       "    .dataframe tbody tr th {\n",
       "        vertical-align: top;\n",
       "    }\n",
       "\n",
       "    .dataframe thead th {\n",
       "        text-align: right;\n",
       "    }\n",
       "</style>\n",
       "<table border=\"1\" class=\"dataframe\">\n",
       "  <thead>\n",
       "    <tr style=\"text-align: right;\">\n",
       "      <th></th>\n",
       "      <th>차대번호</th>\n",
       "      <th>조기폐차상태코드</th>\n",
       "      <th>조기폐차최종승인YN</th>\n",
       "      <th>말소일자</th>\n",
       "    </tr>\n",
       "  </thead>\n",
       "  <tbody>\n",
       "    <tr>\n",
       "      <th>0</th>\n",
       "      <td>KMHSD81VP4U791871</td>\n",
       "      <td>A32M</td>\n",
       "      <td>NaN</td>\n",
       "      <td>NaN</td>\n",
       "    </tr>\n",
       "    <tr>\n",
       "      <th>1</th>\n",
       "      <td>KPBFA2AF16P223800</td>\n",
       "      <td>A32M</td>\n",
       "      <td>NaN</td>\n",
       "      <td>NaN</td>\n",
       "    </tr>\n",
       "    <tr>\n",
       "      <th>2</th>\n",
       "      <td>KMFWVH7HP7U772891</td>\n",
       "      <td>A32M</td>\n",
       "      <td>NaN</td>\n",
       "      <td>NaN</td>\n",
       "    </tr>\n",
       "    <tr>\n",
       "      <th>3</th>\n",
       "      <td>KMFXKN7BPYU361960</td>\n",
       "      <td>A32M</td>\n",
       "      <td>NaN</td>\n",
       "      <td>NaN</td>\n",
       "    </tr>\n",
       "    <tr>\n",
       "      <th>4</th>\n",
       "      <td>KMFXKS7BP2U563724</td>\n",
       "      <td>A32M</td>\n",
       "      <td>NaN</td>\n",
       "      <td>NaN</td>\n",
       "    </tr>\n",
       "  </tbody>\n",
       "</table>\n",
       "</div>"
      ],
      "text/plain": [
       "                차대번호 조기폐차상태코드 조기폐차최종승인YN  말소일자\n",
       "0  KMHSD81VP4U791871     A32M        NaN   NaN\n",
       "1  KPBFA2AF16P223800     A32M        NaN   NaN\n",
       "2  KMFWVH7HP7U772891     A32M        NaN   NaN\n",
       "3  KMFXKN7BPYU361960     A32M        NaN   NaN\n",
       "4  KMFXKS7BP2U563724     A32M        NaN   NaN"
      ]
     },
     "execution_count": 148,
     "metadata": {},
     "output_type": "execute_result"
    }
   ],
   "source": [
    "lgvr.head()"
   ]
  },
  {
   "attachments": {},
   "cell_type": "markdown",
   "metadata": {},
   "source": [
    "## 비상시 및 계절제 단속발령(N_IS_ISSUE_DISCLOSURE)"
   ]
  },
  {
   "cell_type": "code",
   "execution_count": 30,
   "metadata": {},
   "outputs": [],
   "source": [
    "# # 1.8s\n",
    "# isdis = we.export_to_pandas(\"SELECT GNFD_NO, VIN, REG_SIDO_CD, REG_SIGNGU_CD FROM ODS_N_IS_ISSUE_DISCLOSURE;\")\n",
    "# isdis.info()"
   ]
  },
  {
   "cell_type": "code",
   "execution_count": 183,
   "metadata": {},
   "outputs": [
    {
     "name": "stdout",
     "output_type": "stream",
     "text": [
      "<class 'pandas.core.frame.DataFrame'>\n",
      "RangeIndex: 81512621 entries, 0 to 81512620\n",
      "Data columns (total 6 columns):\n",
      " #   Column         Dtype \n",
      "---  ------         ----- \n",
      " 0   REGLT_NO       int64 \n",
      " 1   GNFD_NO        int64 \n",
      " 2   REG_SIDO_CD    int64 \n",
      " 3   REG_SIGNGU_CD  int64 \n",
      " 4   REGLT_AREA_CD  int64 \n",
      " 5   VIN            object\n",
      "dtypes: int64(5), object(1)\n",
      "memory usage: 3.6+ GB\n"
     ]
    }
   ],
   "source": [
    "# about 58.4s\n",
    "name = 'ODS_N_IS_ISSUE_DISCLOSURE(col_sliced)'\n",
    "file_name = f'{name}.csv'\n",
    "isdis = pd.read_csv(os.path.join(ods_fold, file_name), usecols=['REGLT_NO', 'GNFD_NO', 'VIN', 'REG_SIDO_CD', 'REG_SIGNGU_CD', 'REGLT_AREA_CD']) # usecols=['REGLT_NO', 'GNFD_NO, 'VIN', 'REG_SIDO_CD', 'REG_SIGNGU_CD', 'REGLT_AREA_CD']\n",
    "isdis.info()"
   ]
  },
  {
   "cell_type": "code",
   "execution_count": 184,
   "metadata": {},
   "outputs": [
    {
     "data": {
      "text/html": [
       "<div>\n",
       "<style scoped>\n",
       "    .dataframe tbody tr th:only-of-type {\n",
       "        vertical-align: middle;\n",
       "    }\n",
       "\n",
       "    .dataframe tbody tr th {\n",
       "        vertical-align: top;\n",
       "    }\n",
       "\n",
       "    .dataframe thead th {\n",
       "        text-align: right;\n",
       "    }\n",
       "</style>\n",
       "<table border=\"1\" class=\"dataframe\">\n",
       "  <thead>\n",
       "    <tr style=\"text-align: right;\">\n",
       "      <th></th>\n",
       "      <th>REGLT_NO</th>\n",
       "      <th>GNFD_NO</th>\n",
       "      <th>REG_SIDO_CD</th>\n",
       "      <th>REG_SIGNGU_CD</th>\n",
       "      <th>REGLT_AREA_CD</th>\n",
       "      <th>VIN</th>\n",
       "    </tr>\n",
       "  </thead>\n",
       "  <tbody>\n",
       "    <tr>\n",
       "      <th>0</th>\n",
       "      <td>54793831</td>\n",
       "      <td>1838</td>\n",
       "      <td>41</td>\n",
       "      <td>190</td>\n",
       "      <td>41190</td>\n",
       "      <td>KMFXKS7BP3U657943</td>\n",
       "    </tr>\n",
       "    <tr>\n",
       "      <th>1</th>\n",
       "      <td>54793839</td>\n",
       "      <td>1838</td>\n",
       "      <td>41</td>\n",
       "      <td>190</td>\n",
       "      <td>41190</td>\n",
       "      <td>KNAMA75432S388470</td>\n",
       "    </tr>\n",
       "    <tr>\n",
       "      <th>2</th>\n",
       "      <td>54793843</td>\n",
       "      <td>1838</td>\n",
       "      <td>28</td>\n",
       "      <td>237</td>\n",
       "      <td>41190</td>\n",
       "      <td>KNGDNM9N14K178854</td>\n",
       "    </tr>\n",
       "    <tr>\n",
       "      <th>3</th>\n",
       "      <td>54795717</td>\n",
       "      <td>1838</td>\n",
       "      <td>41</td>\n",
       "      <td>130</td>\n",
       "      <td>41190</td>\n",
       "      <td>KMFGA17PP7C072098</td>\n",
       "    </tr>\n",
       "    <tr>\n",
       "      <th>4</th>\n",
       "      <td>54793837</td>\n",
       "      <td>1838</td>\n",
       "      <td>41</td>\n",
       "      <td>190</td>\n",
       "      <td>41190</td>\n",
       "      <td>KPBSH3AB18P082348</td>\n",
       "    </tr>\n",
       "  </tbody>\n",
       "</table>\n",
       "</div>"
      ],
      "text/plain": [
       "   REGLT_NO  GNFD_NO  REG_SIDO_CD  REG_SIGNGU_CD  REGLT_AREA_CD   \n",
       "0  54793831     1838           41            190          41190  \\\n",
       "1  54793839     1838           41            190          41190   \n",
       "2  54793843     1838           28            237          41190   \n",
       "3  54795717     1838           41            130          41190   \n",
       "4  54793837     1838           41            190          41190   \n",
       "\n",
       "                 VIN  \n",
       "0  KMFXKS7BP3U657943  \n",
       "1  KNAMA75432S388470  \n",
       "2  KNGDNM9N14K178854  \n",
       "3  KMFGA17PP7C072098  \n",
       "4  KPBSH3AB18P082348  "
      ]
     },
     "execution_count": 184,
     "metadata": {},
     "output_type": "execute_result"
    }
   ],
   "source": [
    "isdis.head()"
   ]
  },
  {
   "cell_type": "code",
   "execution_count": 185,
   "metadata": {},
   "outputs": [
    {
     "data": {
      "text/plain": [
       "Index(['REGLT_NO', 'GNFD_NO', 'REG_SIDO_CD', 'REG_SIGNGU_CD', 'REGLT_AREA_CD',\n",
       "       'VIN'],\n",
       "      dtype='object')"
      ]
     },
     "execution_count": 185,
     "metadata": {},
     "output_type": "execute_result"
    }
   ],
   "source": [
    "isdis.columns"
   ]
  },
  {
   "cell_type": "code",
   "execution_count": 186,
   "metadata": {},
   "outputs": [],
   "source": [
    "isdis_ch_col = {\n",
    "    'REGLT_NO':'적발번호', \n",
    "    'GNFD_NO':'발령번호', \n",
    "    'REG_SIDO_CD':'등록시도코드', \n",
    "    'REG_SIGNGU_CD':'등록시군구코드', \n",
    "    'VIN':'차대번호',\n",
    "    'REGLT_AREA_CD':'적발지역코드', \n",
    "}"
   ]
  },
  {
   "cell_type": "code",
   "execution_count": 187,
   "metadata": {},
   "outputs": [
    {
     "data": {
      "text/plain": [
       "Index(['적발번호', '발령번호', '등록시도코드', '등록시군구코드', '적발지역코드', '차대번호'], dtype='object')"
      ]
     },
     "execution_count": 187,
     "metadata": {},
     "output_type": "execute_result"
    }
   ],
   "source": [
    "isdisr = isdis.rename(columns=isdis_ch_col)\n",
    "isdisr.columns"
   ]
  },
  {
   "attachments": {},
   "cell_type": "markdown",
   "metadata": {},
   "source": [
    "## 운행제한 발령정보(N_IS_ISSUE)"
   ]
  },
  {
   "cell_type": "code",
   "execution_count": 36,
   "metadata": {},
   "outputs": [],
   "source": [
    "# # 1.8s\n",
    "# isis = we.export_to_pandas(\"SELECT GNFD_NO, TY_STDR_ID, DNSTY_STDR_ID FROM ODS_N_IS_ISSUE;\")\n",
    "# isis.info()"
   ]
  },
  {
   "cell_type": "code",
   "execution_count": 37,
   "metadata": {},
   "outputs": [
    {
     "name": "stdout",
     "output_type": "stream",
     "text": [
      "<class 'pandas.core.frame.DataFrame'>\n",
      "RangeIndex: 1785 entries, 0 to 1784\n",
      "Data columns (total 3 columns):\n",
      " #   Column         Non-Null Count  Dtype \n",
      "---  ------         --------------  ----- \n",
      " 0   GNFD_NO        1785 non-null   int64 \n",
      " 1   DNSTY_STDR_ID  1785 non-null   object\n",
      " 2   TY_STDR_ID     1785 non-null   object\n",
      "dtypes: int64(1), object(2)\n",
      "memory usage: 42.0+ KB\n"
     ]
    }
   ],
   "source": [
    "name = 'ODS_N_IS_ISSUE'\n",
    "file_name = f'{name}.csv'\n",
    "isis = pd.read_csv(os.path.join(ods_fold, file_name), usecols=['GNFD_NO', 'TY_STDR_ID', 'DNSTY_STDR_ID']) # usecols=['GNFD_NO', 'TY_STDR_ID', 'DNSTY_STDR_ID']\n",
    "isis.info()"
   ]
  },
  {
   "cell_type": "code",
   "execution_count": 38,
   "metadata": {},
   "outputs": [
    {
     "data": {
      "text/plain": [
       "Index(['GNFD_NO', 'DNSTY_STDR_ID', 'TY_STDR_ID'], dtype='object')"
      ]
     },
     "execution_count": 38,
     "metadata": {},
     "output_type": "execute_result"
    }
   ],
   "source": [
    "isis.columns"
   ]
  },
  {
   "cell_type": "code",
   "execution_count": 39,
   "metadata": {},
   "outputs": [],
   "source": [
    "isis_ch_col = {\n",
    "    'GNFD_NO':'발령번호', \n",
    "    'DNSTY_STDR_ID':'농도기준아이디', \n",
    "    'TY_STDR_ID':'유형기준아이디', \n",
    "}"
   ]
  },
  {
   "cell_type": "code",
   "execution_count": 40,
   "metadata": {},
   "outputs": [
    {
     "data": {
      "text/plain": [
       "Index(['발령번호', '농도기준아이디', '유형기준아이디'], dtype='object')"
      ]
     },
     "execution_count": 40,
     "metadata": {},
     "output_type": "execute_result"
    }
   ],
   "source": [
    "isisr = isis.rename(columns=isis_ch_col)\n",
    "isisr.columns"
   ]
  },
  {
   "cell_type": "code",
   "execution_count": 41,
   "metadata": {},
   "outputs": [],
   "source": [
    "# DNSTY_STDR_ID(농도기준아이디) : 실발령(C011), 모의발령(C012)\n",
    "# TY_STDR_ID(유형기준아이디) : 비상시(T001), 계절제(T002)"
   ]
  },
  {
   "attachments": {},
   "cell_type": "markdown",
   "metadata": {},
   "source": [
    "## N_IS_PENALTY"
   ]
  },
  {
   "cell_type": "code",
   "execution_count": 188,
   "metadata": {},
   "outputs": [
    {
     "name": "stdout",
     "output_type": "stream",
     "text": [
      "<class 'pandas.core.frame.DataFrame'>\n",
      "RangeIndex: 10790105 entries, 0 to 10790104\n",
      "Data columns (total 2 columns):\n",
      " #   Column    Dtype\n",
      "---  ------    -----\n",
      " 0   REGLT_NO  int64\n",
      " 1   REGLT_DE  int64\n",
      "dtypes: int64(2)\n",
      "memory usage: 164.6 MB\n"
     ]
    }
   ],
   "source": [
    "# 9.5s\n",
    "# ispe = ws.export_to_pandas(\"SELECT REGLT_NO, REGLT_DE FROM N_IS_PENALTY WHERE ROWNUM <= 10000;\")\n",
    "ispe = ws.export_to_pandas(\"SELECT REGLT_NO, REGLT_DE FROM N_IS_PENALTY;\")\n",
    "ispe.info()"
   ]
  },
  {
   "cell_type": "code",
   "execution_count": 189,
   "metadata": {},
   "outputs": [],
   "source": [
    "# # about 2.1s\n",
    "# name = 'N_IS_PENALTY'\n",
    "# file_name = f'{name}.csv'\n",
    "# ispe = pd.read_csv(os.path.join(ods_fold, file_name), usecols=['REGLT_NO, 'REGLT_DE'], nrows=100**2, sep='|') # usecols=['REGLT_NO, 'REGLT_DE']\n",
    "# ispe.info()"
   ]
  },
  {
   "cell_type": "code",
   "execution_count": 190,
   "metadata": {},
   "outputs": [
    {
     "data": {
      "text/html": [
       "<div>\n",
       "<style scoped>\n",
       "    .dataframe tbody tr th:only-of-type {\n",
       "        vertical-align: middle;\n",
       "    }\n",
       "\n",
       "    .dataframe tbody tr th {\n",
       "        vertical-align: top;\n",
       "    }\n",
       "\n",
       "    .dataframe thead th {\n",
       "        text-align: right;\n",
       "    }\n",
       "</style>\n",
       "<table border=\"1\" class=\"dataframe\">\n",
       "  <thead>\n",
       "    <tr style=\"text-align: right;\">\n",
       "      <th></th>\n",
       "      <th>REGLT_NO</th>\n",
       "      <th>REGLT_DE</th>\n",
       "    </tr>\n",
       "  </thead>\n",
       "  <tbody>\n",
       "    <tr>\n",
       "      <th>0</th>\n",
       "      <td>40995</td>\n",
       "      <td>20191210</td>\n",
       "    </tr>\n",
       "    <tr>\n",
       "      <th>1</th>\n",
       "      <td>40828</td>\n",
       "      <td>20191210</td>\n",
       "    </tr>\n",
       "    <tr>\n",
       "      <th>2</th>\n",
       "      <td>40676</td>\n",
       "      <td>20191210</td>\n",
       "    </tr>\n",
       "    <tr>\n",
       "      <th>3</th>\n",
       "      <td>40683</td>\n",
       "      <td>20191210</td>\n",
       "    </tr>\n",
       "    <tr>\n",
       "      <th>4</th>\n",
       "      <td>42850</td>\n",
       "      <td>20191210</td>\n",
       "    </tr>\n",
       "  </tbody>\n",
       "</table>\n",
       "</div>"
      ],
      "text/plain": [
       "   REGLT_NO  REGLT_DE\n",
       "0     40995  20191210\n",
       "1     40828  20191210\n",
       "2     40676  20191210\n",
       "3     40683  20191210\n",
       "4     42850  20191210"
      ]
     },
     "execution_count": 190,
     "metadata": {},
     "output_type": "execute_result"
    }
   ],
   "source": [
    "ispe.head()"
   ]
  },
  {
   "cell_type": "code",
   "execution_count": 191,
   "metadata": {},
   "outputs": [],
   "source": [
    "ispe_ch_col = {\n",
    "    'REGLT_NO':'적발번호', \n",
    "    'REGLT_DE':'단속일', \n",
    "}"
   ]
  },
  {
   "cell_type": "code",
   "execution_count": 192,
   "metadata": {},
   "outputs": [
    {
     "data": {
      "text/plain": [
       "Index(['적발번호', '단속일'], dtype='object')"
      ]
     },
     "execution_count": 192,
     "metadata": {},
     "output_type": "execute_result"
    }
   ],
   "source": [
    "isper = ispe.rename(columns=ispe_ch_col)\n",
    "isper.columns"
   ]
  },
  {
   "attachments": {},
   "cell_type": "markdown",
   "metadata": {},
   "source": [
    "## 운행제한 단속정보(N_US_DISCLOSURE)"
   ]
  },
  {
   "cell_type": "code",
   "execution_count": 49,
   "metadata": {},
   "outputs": [],
   "source": [
    "# # 1.8s\n",
    "# ispe = we.export_to_pandas(\"SELECT GNFD_NO, REGLT_DE FROM N_US_DISCLOSURE WHERE ROWNUM <= 10000;\")\n",
    "# # ispe = we.export_to_pandas(\"SELECT GNFD_NO, REGLT_DE FROM N_US_DISCLOSURE;\")\n",
    "# ispe.info()"
   ]
  },
  {
   "cell_type": "code",
   "execution_count": 282,
   "metadata": {},
   "outputs": [
    {
     "name": "stdout",
     "output_type": "stream",
     "text": [
      "<class 'pandas.core.frame.DataFrame'>\n",
      "RangeIndex: 3090035 entries, 0 to 3090034\n",
      "Data columns (total 6 columns):\n",
      " #   Column         Dtype \n",
      "---  ------         ----- \n",
      " 0   NO             int64 \n",
      " 1   REG_SIDO_CD    int64 \n",
      " 2   REG_SIGNGU_CD  int64 \n",
      " 3   DISCL_TY       object\n",
      " 4   REGLT_AREA_CD  int64 \n",
      " 5   VIN            object\n",
      "dtypes: int64(4), object(2)\n",
      "memory usage: 141.5+ MB\n"
     ]
    }
   ],
   "source": [
    "# about 13.5s\n",
    "name = 'ODS_N_US_DISCLOSURE'\n",
    "file_name = f'{name}.csv'\n",
    "usdis = pd.read_csv(os.path.join(ods_fold, file_name), usecols=['NO', 'VIN', 'DISCL_TY', 'REGLT_AREA_CD', 'REG_SIDO_CD', 'REG_SIGNGU_CD']) # usecols=['NO', 'VIN, 'DISCL_TY', 'REGLT_AREA_CD', 'REG_SIDO_CD', 'REG_SIGNGU_CD']\n",
    "usdis.info()"
   ]
  },
  {
   "cell_type": "code",
   "execution_count": 283,
   "metadata": {},
   "outputs": [
    {
     "data": {
      "text/html": [
       "<div>\n",
       "<style scoped>\n",
       "    .dataframe tbody tr th:only-of-type {\n",
       "        vertical-align: middle;\n",
       "    }\n",
       "\n",
       "    .dataframe tbody tr th {\n",
       "        vertical-align: top;\n",
       "    }\n",
       "\n",
       "    .dataframe thead th {\n",
       "        text-align: right;\n",
       "    }\n",
       "</style>\n",
       "<table border=\"1\" class=\"dataframe\">\n",
       "  <thead>\n",
       "    <tr style=\"text-align: right;\">\n",
       "      <th></th>\n",
       "      <th>NO</th>\n",
       "      <th>REG_SIDO_CD</th>\n",
       "      <th>REG_SIGNGU_CD</th>\n",
       "      <th>DISCL_TY</th>\n",
       "      <th>REGLT_AREA_CD</th>\n",
       "      <th>VIN</th>\n",
       "    </tr>\n",
       "  </thead>\n",
       "  <tbody>\n",
       "    <tr>\n",
       "      <th>0</th>\n",
       "      <td>117112</td>\n",
       "      <td>41</td>\n",
       "      <td>110</td>\n",
       "      <td>S</td>\n",
       "      <td>41430</td>\n",
       "      <td>KPBFA2AD12P021974</td>\n",
       "    </tr>\n",
       "    <tr>\n",
       "      <th>1</th>\n",
       "      <td>117111</td>\n",
       "      <td>11</td>\n",
       "      <td>0</td>\n",
       "      <td>S</td>\n",
       "      <td>41430</td>\n",
       "      <td>KMHNN81XP2U038507</td>\n",
       "    </tr>\n",
       "    <tr>\n",
       "      <th>2</th>\n",
       "      <td>117107</td>\n",
       "      <td>41</td>\n",
       "      <td>410</td>\n",
       "      <td>S</td>\n",
       "      <td>41430</td>\n",
       "      <td>KMFZCD7JP5U094049</td>\n",
       "    </tr>\n",
       "    <tr>\n",
       "      <th>3</th>\n",
       "      <td>132833</td>\n",
       "      <td>11</td>\n",
       "      <td>0</td>\n",
       "      <td>S</td>\n",
       "      <td>41130</td>\n",
       "      <td>KMFWVH7HP4U579325</td>\n",
       "    </tr>\n",
       "    <tr>\n",
       "      <th>4</th>\n",
       "      <td>6933349</td>\n",
       "      <td>11</td>\n",
       "      <td>0</td>\n",
       "      <td>S</td>\n",
       "      <td>41130</td>\n",
       "      <td>KNAMA75433S411400</td>\n",
       "    </tr>\n",
       "  </tbody>\n",
       "</table>\n",
       "</div>"
      ],
      "text/plain": [
       "        NO  REG_SIDO_CD  REG_SIGNGU_CD DISCL_TY  REGLT_AREA_CD   \n",
       "0   117112           41            110        S          41430  \\\n",
       "1   117111           11              0        S          41430   \n",
       "2   117107           41            410        S          41430   \n",
       "3   132833           11              0        S          41130   \n",
       "4  6933349           11              0        S          41130   \n",
       "\n",
       "                 VIN  \n",
       "0  KPBFA2AD12P021974  \n",
       "1  KMHNN81XP2U038507  \n",
       "2  KMFZCD7JP5U094049  \n",
       "3  KMFWVH7HP4U579325  \n",
       "4  KNAMA75433S411400  "
      ]
     },
     "execution_count": 283,
     "metadata": {},
     "output_type": "execute_result"
    }
   ],
   "source": [
    "usdis.head()"
   ]
  },
  {
   "cell_type": "code",
   "execution_count": 284,
   "metadata": {},
   "outputs": [
    {
     "data": {
      "text/plain": [
       "Index(['NO', 'REG_SIDO_CD', 'REG_SIGNGU_CD', 'DISCL_TY', 'REGLT_AREA_CD',\n",
       "       'VIN'],\n",
       "      dtype='object')"
      ]
     },
     "execution_count": 284,
     "metadata": {},
     "output_type": "execute_result"
    }
   ],
   "source": [
    "usdis.columns"
   ]
  },
  {
   "cell_type": "code",
   "execution_count": 285,
   "metadata": {},
   "outputs": [],
   "source": [
    "usdis_ch_dict = {\n",
    "    'NO':'번호', \n",
    "    'VIN':'차대번호', \n",
    "    'REG_SIDO_CD':'등록시도코드', \n",
    "    'REG_SIGNGU_CD':'등록시군구코드', \n",
    "    'DISCL_TY':'적발유형', \n",
    "    'REGLT_AREA_CD':'단속지역코드', \n",
    "}"
   ]
  },
  {
   "cell_type": "code",
   "execution_count": 286,
   "metadata": {},
   "outputs": [
    {
     "data": {
      "text/plain": [
       "Index(['번호', '등록시도코드', '등록시군구코드', '적발유형', '단속지역코드', '차대번호'], dtype='object')"
      ]
     },
     "execution_count": 286,
     "metadata": {},
     "output_type": "execute_result"
    }
   ],
   "source": [
    "usdisr = usdis.rename(columns=usdis_ch_dict)\n",
    "usdisr.columns"
   ]
  },
  {
   "cell_type": "code",
   "execution_count": 55,
   "metadata": {},
   "outputs": [],
   "source": [
    "# DISCL_TY(적발유형) : S(일반 -> 상시), H(고농도)"
   ]
  },
  {
   "attachments": {},
   "cell_type": "markdown",
   "metadata": {},
   "source": [
    "## N_US_PENALTY"
   ]
  },
  {
   "cell_type": "code",
   "execution_count": 344,
   "metadata": {},
   "outputs": [
    {
     "name": "stdout",
     "output_type": "stream",
     "text": [
      "<class 'pandas.core.frame.DataFrame'>\n",
      "RangeIndex: 443309 entries, 0 to 443308\n",
      "Data columns (total 3 columns):\n",
      " #   Column     Non-Null Count   Dtype\n",
      "---  ------     --------------   -----\n",
      " 0   NO         443309 non-null  int64\n",
      " 1   REGLT_CNT  443309 non-null  int64\n",
      " 2   REGLT_YM   443309 non-null  int64\n",
      "dtypes: int64(3)\n",
      "memory usage: 10.1 MB\n"
     ]
    }
   ],
   "source": [
    "# 1.8s\n",
    "uspe = ws.export_to_pandas('SELECT \"NO\", REGLT_CNT, REGLT_YM FROM N_US_PENALTY;')\n",
    "uspe.info()"
   ]
  },
  {
   "cell_type": "code",
   "execution_count": 345,
   "metadata": {},
   "outputs": [],
   "source": [
    "# # about 2.1s\n",
    "# name = 'N_US_PENALTY'\n",
    "# file_name = f'{name}.csv'\n",
    "# uspe = pd.read_csv(os.path.join(ods_fold, file_name), nrows=100**2, sep='|' ) # usecols=['NO', 'REGLT_CNT']\n",
    "# uspe.info()"
   ]
  },
  {
   "cell_type": "code",
   "execution_count": 346,
   "metadata": {},
   "outputs": [
    {
     "data": {
      "text/plain": [
       "count   443309.00\n",
       "mean         4.54\n",
       "std          5.08\n",
       "min          1.00\n",
       "25%          1.00\n",
       "50%          2.00\n",
       "75%          6.00\n",
       "max         31.00\n",
       "Name: REGLT_CNT, dtype: float64"
      ]
     },
     "execution_count": 346,
     "metadata": {},
     "output_type": "execute_result"
    }
   ],
   "source": [
    "uspe['REGLT_CNT'].describe()"
   ]
  },
  {
   "cell_type": "code",
   "execution_count": 347,
   "metadata": {},
   "outputs": [
    {
     "data": {
      "text/plain": [
       "Index(['NO', 'REGLT_CNT', 'REGLT_YM'], dtype='object')"
      ]
     },
     "execution_count": 347,
     "metadata": {},
     "output_type": "execute_result"
    }
   ],
   "source": [
    "uspe.columns"
   ]
  },
  {
   "cell_type": "code",
   "execution_count": 348,
   "metadata": {},
   "outputs": [],
   "source": [
    "uspe_ch_dict = {\n",
    "    'NO':'번호', \n",
    "    'REGLT_CNT':'적발건수', \n",
    "    'REGLT_YM':'적발년월'\n",
    "}"
   ]
  },
  {
   "cell_type": "code",
   "execution_count": 349,
   "metadata": {},
   "outputs": [
    {
     "data": {
      "text/plain": [
       "Index(['번호', '적발건수', '적발년월'], dtype='object')"
      ]
     },
     "execution_count": 349,
     "metadata": {},
     "output_type": "execute_result"
    }
   ],
   "source": [
    "usper = uspe.rename(columns=uspe_ch_dict)\n",
    "usper.columns"
   ]
  },
  {
   "attachments": {},
   "cell_type": "markdown",
   "metadata": {},
   "source": [
    "## 등록이력(CEG_CAR_HISTORY_MIG)"
   ]
  },
  {
   "cell_type": "code",
   "execution_count": 62,
   "metadata": {},
   "outputs": [
    {
     "name": "stdout",
     "output_type": "stream",
     "text": [
      "<class 'pandas.core.frame.DataFrame'>\n",
      "RangeIndex: 50044247 entries, 0 to 50044246\n",
      "Data columns (total 3 columns):\n",
      " #   Column        Dtype  \n",
      "---  ------        -----  \n",
      " 0   VHCL_ERSR_YN  object \n",
      " 1   CHNG_DE       float64\n",
      " 2   VHMNO         object \n",
      "dtypes: float64(1), object(2)\n",
      "memory usage: 1.1+ GB\n"
     ]
    }
   ],
   "source": [
    "# 1m 10.1s\n",
    "his = ws.export_to_pandas(\"SELECT VHCL_ERSR_YN, CHNG_DE, VHMNO FROM CEG_CAR_HISTORY_MIG;\")\n",
    "his.info()"
   ]
  },
  {
   "cell_type": "code",
   "execution_count": 63,
   "metadata": {},
   "outputs": [],
   "source": [
    "his_ch_col = {\n",
    "    'VHCL_ERSR_YN':'차량말소YN', \n",
    "    'CHNG_DE':'변경일자',\n",
    "    'VHMNO':'차량관리번호'\n",
    "}"
   ]
  },
  {
   "cell_type": "code",
   "execution_count": 64,
   "metadata": {},
   "outputs": [
    {
     "data": {
      "text/plain": [
       "Index(['차량말소YN', '변경일자', '차량관리번호'], dtype='object')"
      ]
     },
     "execution_count": 64,
     "metadata": {},
     "output_type": "execute_result"
    }
   ],
   "source": [
    "hisr = his.rename(columns=his_ch_col)\n",
    "hisr.columns"
   ]
  },
  {
   "attachments": {},
   "cell_type": "markdown",
   "metadata": {},
   "source": [
    "# 전처리"
   ]
  },
  {
   "attachments": {},
   "cell_type": "markdown",
   "metadata": {},
   "source": [
    "## 중복 차대번호 제거"
   ]
  },
  {
   "cell_type": "code",
   "execution_count": 65,
   "metadata": {},
   "outputs": [
    {
     "data": {
      "text/plain": [
       "((2378646, 10), 2378598)"
      ]
     },
     "execution_count": 65,
     "metadata": {},
     "output_type": "execute_result"
    }
   ],
   "source": [
    "carr.shape, len(carr['차대번호'].unique())"
   ]
  },
  {
   "cell_type": "code",
   "execution_count": 66,
   "metadata": {},
   "outputs": [
    {
     "data": {
      "text/plain": [
       "(2378598, 10)"
      ]
     },
     "execution_count": 66,
     "metadata": {},
     "output_type": "execute_result"
    }
   ],
   "source": [
    "carr = carr.sort_values('최초등록일자', ascending=False).drop_duplicates('차대번호').reset_index(drop=True)\n",
    "carr.shape"
   ]
  },
  {
   "attachments": {},
   "cell_type": "markdown",
   "metadata": {},
   "source": [
    "## 차종 코드 변환"
   ]
  },
  {
   "cell_type": "code",
   "execution_count": 67,
   "metadata": {},
   "outputs": [
    {
     "data": {
      "text/plain": [
       "array(['화물', '승용', '특수', '승합', nan], dtype=object)"
      ]
     },
     "execution_count": 67,
     "metadata": {},
     "output_type": "execute_result"
    }
   ],
   "source": [
    "cd_dict = {\n",
    "    'A31M':'이륜', \n",
    "    'A31P':'승용', \n",
    "    'A31S':'특수', \n",
    "    'A31T':'화물', \n",
    "    'A31V':'승합'\n",
    "}\n",
    "carr['차종'] = carr['차종'].replace(cd_dict)\n",
    "carr['차종'].unique()"
   ]
  },
  {
   "attachments": {},
   "cell_type": "markdown",
   "metadata": {},
   "source": [
    "## 용도 코드 변환"
   ]
  },
  {
   "cell_type": "code",
   "execution_count": 68,
   "metadata": {},
   "outputs": [
    {
     "data": {
      "text/plain": [
       "array(['개인용', '영업용', '관용'], dtype=object)"
      ]
     },
     "execution_count": 68,
     "metadata": {},
     "output_type": "execute_result"
    }
   ],
   "source": [
    "purps_dict = {\n",
    "    'A08P':'개인용', \n",
    "    'A08B':'영업용', \n",
    "    'A08O':'관용',\n",
    "}\n",
    "carr['용도'] = carr['용도'].replace(purps_dict)\n",
    "carr['용도'].unique()"
   ]
  },
  {
   "attachments": {},
   "cell_type": "markdown",
   "metadata": {},
   "source": [
    "## 등록정보 말소 제거"
   ]
  },
  {
   "cell_type": "code",
   "execution_count": 69,
   "metadata": {},
   "outputs": [
    {
     "data": {
      "text/plain": [
       "(1162311, 10)"
      ]
     },
     "execution_count": 69,
     "metadata": {},
     "output_type": "execute_result"
    }
   ],
   "source": [
    "carm = carr[carr['차량말소YN'] == 'N'].reset_index(drop=True)\n",
    "carm.shape"
   ]
  },
  {
   "attachments": {},
   "cell_type": "markdown",
   "metadata": {},
   "source": [
    "## 연료 코드 변환"
   ]
  },
  {
   "cell_type": "code",
   "execution_count": 70,
   "metadata": {},
   "outputs": [
    {
     "data": {
      "text/plain": [
       "array(['경유', '휘발유', 'CNG(압축천연가스)', nan, 'LPG(액화석유가스)', '기타연료',\n",
       "       '휘발유 하이브리드', '전기', '알코올', '태양열', '경유 하이브리드', '등유', 'CNG 하이브리드',\n",
       "       'LPG 하이브리드', '수소', 'LNG(액화천연가스)'], dtype=object)"
      ]
     },
     "execution_count": 70,
     "metadata": {},
     "output_type": "execute_result"
    }
   ],
   "source": [
    "fuel_dict = {\n",
    "    'A90GS':'휘발유', \n",
    "    'A91DS':'경유',\n",
    "    'A92LP':'LPG(액화석유가스)', \n",
    "    'A90GH':'휘발유 하이브리드', \n",
    "    'A93EV':'전기', \n",
    "    'A91DH':'경유 하이브리드', \n",
    "    'A92CN':'CNG(압축천연가스)', \n",
    "    'A93HD':'수소', \n",
    "    'A92LH':'LPG 하이브리드', \n",
    "    'A94OT':'기타연료', \n",
    "    'A92CH':'CNG 하이브리드',\n",
    "    'A90AC':'알코올', \n",
    "    'A93SH':'태양열', \n",
    "    'A91KS':'등유', \n",
    "    'A92LN':'LNG(액화천연가스)', \n",
    "    'A90PH':'플러그인 하이브리드', \n",
    "}\n",
    "srcr['연료'] = srcr['연료'].replace(fuel_dict)\n",
    "srcr['연료'].unique()"
   ]
  },
  {
   "attachments": {},
   "cell_type": "markdown",
   "metadata": {},
   "source": [
    "## 차종유형 코드 변환"
   ]
  },
  {
   "cell_type": "code",
   "execution_count": 71,
   "metadata": {},
   "outputs": [
    {
     "data": {
      "text/plain": [
       "array(['대형', '소형', '중형', '경형', nan], dtype=object)"
      ]
     },
     "execution_count": 71,
     "metadata": {},
     "output_type": "execute_result"
    }
   ],
   "source": [
    "ty_dict = {\n",
    "    'A30C':'경형', \n",
    "    'A30L':'대형', \n",
    "    'A30M':'중형', \n",
    "    'A30S':'소형',\n",
    "}\n",
    "srcr['차종유형'] = srcr['차종유형'].replace(ty_dict)\n",
    "srcr['차종유형'].unique()"
   ]
  },
  {
   "attachments": {},
   "cell_type": "markdown",
   "metadata": {},
   "source": [
    "## 등록&제원 병합"
   ]
  },
  {
   "cell_type": "code",
   "execution_count": 72,
   "metadata": {},
   "outputs": [
    {
     "data": {
      "text/plain": [
       "(1162311, 12)"
      ]
     },
     "execution_count": 72,
     "metadata": {},
     "output_type": "execute_result"
    }
   ],
   "source": [
    "# 19.4s\n",
    "cs = carm.merge(srcr, on='제원관리번호', how='left')\n",
    "cs.shape"
   ]
  },
  {
   "attachments": {},
   "cell_type": "markdown",
   "metadata": {},
   "source": [
    "## 저감장치구분 코드 변환"
   ]
  },
  {
   "cell_type": "code",
   "execution_count": 73,
   "metadata": {},
   "outputs": [
    {
     "data": {
      "text/plain": [
       "array(['A1001', 'A1003', 'A1005', 'A1006', 'A1002', 'A1004', 'A1007'],\n",
       "      dtype=object)"
      ]
     },
     "execution_count": 73,
     "metadata": {},
     "output_type": "execute_result"
    }
   ],
   "source": [
    "# 4m 14.3s\n",
    "attr['저감장치구분'].unique()"
   ]
  },
  {
   "cell_type": "code",
   "execution_count": 74,
   "metadata": {},
   "outputs": [
    {
     "data": {
      "text/plain": [
       "array(['1종', '3종', '엔진개조', '엔진교체', '2종', '1종+SCR', '삼원촉매'], dtype=object)"
      ]
     },
     "execution_count": 74,
     "metadata": {},
     "output_type": "execute_result"
    }
   ],
   "source": [
    "# 27.5s\n",
    "rdcdvc_dict = {\n",
    "    'A1001':'1종', \n",
    "    'A1002':'2종', \n",
    "    'A1003':'3종', \n",
    "    'A1004':'1종+SCR', \n",
    "    'A1005':'엔진개조', \n",
    "    'A1006':'엔진교체',\n",
    "    'A1007':'삼원촉매',\n",
    "}\n",
    "attr['저감장치구분'] = attr['저감장치구분'].replace(rdcdvc_dict)\n",
    "attr['저감장치구분'].unique()"
   ]
  },
  {
   "attachments": {},
   "cell_type": "markdown",
   "metadata": {},
   "source": [
    "## 저감장치 부착 유무"
   ]
  },
  {
   "cell_type": "code",
   "execution_count": 75,
   "metadata": {},
   "outputs": [],
   "source": [
    "attr.loc[(attr['저감장치구분'] == '1종') | (attr['저감장치구분'] == '1종+SCR'), 'DPF_YN'] = '유'"
   ]
  },
  {
   "cell_type": "code",
   "execution_count": 76,
   "metadata": {},
   "outputs": [
    {
     "data": {
      "text/plain": [
       "DPF_YN\n",
       "NaN    531833\n",
       "유      479113\n",
       "Name: count, dtype: int64"
      ]
     },
     "execution_count": 76,
     "metadata": {},
     "output_type": "execute_result"
    }
   ],
   "source": [
    "attr['DPF_YN'].value_counts(dropna=False)"
   ]
  },
  {
   "attachments": {},
   "cell_type": "markdown",
   "metadata": {},
   "source": [
    "## 등록&제원&저감이력 병합"
   ]
  },
  {
   "cell_type": "code",
   "execution_count": 77,
   "metadata": {},
   "outputs": [
    {
     "data": {
      "text/plain": [
       "(1162570, 13)"
      ]
     },
     "execution_count": 77,
     "metadata": {},
     "output_type": "execute_result"
    }
   ],
   "source": [
    "# 1.7s\n",
    "csa = cs.merge(attr[['차대번호', 'DPF_YN']], on='차대번호', how='left')\n",
    "csa.shape"
   ]
  },
  {
   "attachments": {},
   "cell_type": "markdown",
   "metadata": {},
   "source": [
    "## 지역정보 병합"
   ]
  },
  {
   "cell_type": "code",
   "execution_count": 78,
   "metadata": {},
   "outputs": [],
   "source": [
    "csac = csa.merge(coder, on='법정동코드', how='left')"
   ]
  },
  {
   "attachments": {},
   "cell_type": "markdown",
   "metadata": {},
   "source": [
    "### 매칭 안되는 지역 처리"
   ]
  },
  {
   "cell_type": "code",
   "execution_count": 79,
   "metadata": {},
   "outputs": [],
   "source": [
    "csac.loc[csac['법정동코드'] == 4165052000, ['시도', '시군구']] = ['경기도', '포천시'] # 경기도 포천시 선단동"
   ]
  },
  {
   "attachments": {},
   "cell_type": "markdown",
   "metadata": {},
   "source": [
    "## 조기폐차 정보들 병합"
   ]
  },
  {
   "cell_type": "code",
   "execution_count": 149,
   "metadata": {},
   "outputs": [
    {
     "data": {
      "text/plain": [
       "(1177453, 4)"
      ]
     },
     "execution_count": 149,
     "metadata": {},
     "output_type": "execute_result"
    }
   ],
   "source": [
    "elp = pd.concat([aear, lgvr], ignore_index=True)\n",
    "elp.shape"
   ]
  },
  {
   "cell_type": "code",
   "execution_count": 150,
   "metadata": {},
   "outputs": [
    {
     "data": {
      "text/plain": [
       "((1177453, 4), 1105195)"
      ]
     },
     "execution_count": 150,
     "metadata": {},
     "output_type": "execute_result"
    }
   ],
   "source": [
    "elp.shape, len(elp['차대번호'].unique())"
   ]
  },
  {
   "cell_type": "code",
   "execution_count": 151,
   "metadata": {},
   "outputs": [
    {
     "data": {
      "text/plain": [
       "(1105195, 4)"
      ]
     },
     "execution_count": 151,
     "metadata": {},
     "output_type": "execute_result"
    }
   ],
   "source": [
    "elpm = elp.sort_values('조기폐차최종승인YN', ascending=False).drop_duplicates('차대번호').reset_index(drop=True)\n",
    "elpm.shape"
   ]
  },
  {
   "cell_type": "code",
   "execution_count": 152,
   "metadata": {},
   "outputs": [
    {
     "data": {
      "text/plain": [
       "(844474, 4)"
      ]
     },
     "execution_count": 152,
     "metadata": {},
     "output_type": "execute_result"
    }
   ],
   "source": [
    "elpm = elpm[elpm['조기폐차최종승인YN'] == 'Y'].reset_index(drop=True)\n",
    "elpm.shape"
   ]
  },
  {
   "attachments": {},
   "cell_type": "markdown",
   "metadata": {},
   "source": [
    "## 조기폐차 정보 추가"
   ]
  },
  {
   "cell_type": "code",
   "execution_count": 153,
   "metadata": {},
   "outputs": [
    {
     "data": {
      "text/plain": [
       "(1162570, 17)"
      ]
     },
     "execution_count": 153,
     "metadata": {},
     "output_type": "execute_result"
    }
   ],
   "source": [
    "csac.shape"
   ]
  },
  {
   "cell_type": "code",
   "execution_count": 154,
   "metadata": {},
   "outputs": [
    {
     "data": {
      "text/plain": [
       "(1162570, 20)"
      ]
     },
     "execution_count": 154,
     "metadata": {},
     "output_type": "execute_result"
    }
   ],
   "source": [
    "df = csac.merge(elpm, on='차대번호', how='left')\n",
    "df.shape"
   ]
  },
  {
   "cell_type": "code",
   "execution_count": 155,
   "metadata": {},
   "outputs": [
    {
     "data": {
      "text/html": [
       "<div>\n",
       "<style scoped>\n",
       "    .dataframe tbody tr th:only-of-type {\n",
       "        vertical-align: middle;\n",
       "    }\n",
       "\n",
       "    .dataframe tbody tr th {\n",
       "        vertical-align: top;\n",
       "    }\n",
       "\n",
       "    .dataframe thead th {\n",
       "        text-align: right;\n",
       "    }\n",
       "</style>\n",
       "<table border=\"1\" class=\"dataframe\">\n",
       "  <thead>\n",
       "    <tr style=\"text-align: right;\">\n",
       "      <th></th>\n",
       "      <th>차대번호</th>\n",
       "      <th>법정동코드</th>\n",
       "      <th>차량말소YN</th>\n",
       "      <th>제원관리번호</th>\n",
       "      <th>차량연식</th>\n",
       "      <th>차종</th>\n",
       "      <th>용도</th>\n",
       "      <th>최초등록일자</th>\n",
       "      <th>제작일자</th>\n",
       "      <th>차량관리번호</th>\n",
       "      <th>연료</th>\n",
       "      <th>차종유형</th>\n",
       "      <th>DPF_YN</th>\n",
       "      <th>시도코드</th>\n",
       "      <th>시군구코드</th>\n",
       "      <th>시도</th>\n",
       "      <th>시군구</th>\n",
       "      <th>조기폐차상태코드</th>\n",
       "      <th>조기폐차최종승인YN</th>\n",
       "      <th>말소일자</th>\n",
       "    </tr>\n",
       "  </thead>\n",
       "  <tbody>\n",
       "    <tr>\n",
       "      <th>0</th>\n",
       "      <td>KL3C3AHF27K000082</td>\n",
       "      <td>4481025000</td>\n",
       "      <td>N</td>\n",
       "      <td>A0310007202023307</td>\n",
       "      <td>2007</td>\n",
       "      <td>화물</td>\n",
       "      <td>개인용</td>\n",
       "      <td>20220711</td>\n",
       "      <td>20070627.00</td>\n",
       "      <td>KL3C3AHF27K000082-01</td>\n",
       "      <td>경유</td>\n",
       "      <td>대형</td>\n",
       "      <td>NaN</td>\n",
       "      <td>44.00</td>\n",
       "      <td>810.00</td>\n",
       "      <td>충청남도</td>\n",
       "      <td>예산군</td>\n",
       "      <td>NaN</td>\n",
       "      <td>NaN</td>\n",
       "      <td>NaN</td>\n",
       "    </tr>\n",
       "    <tr>\n",
       "      <th>1</th>\n",
       "      <td>KL3C3AHF27K000068</td>\n",
       "      <td>4372033032</td>\n",
       "      <td>N</td>\n",
       "      <td>A0310007202023307</td>\n",
       "      <td>2007</td>\n",
       "      <td>화물</td>\n",
       "      <td>개인용</td>\n",
       "      <td>20220413</td>\n",
       "      <td>20070618.00</td>\n",
       "      <td>KL3C3AHF27K000068-01</td>\n",
       "      <td>경유</td>\n",
       "      <td>대형</td>\n",
       "      <td>NaN</td>\n",
       "      <td>43.00</td>\n",
       "      <td>720.00</td>\n",
       "      <td>충청북도</td>\n",
       "      <td>보은군</td>\n",
       "      <td>NaN</td>\n",
       "      <td>NaN</td>\n",
       "      <td>NaN</td>\n",
       "    </tr>\n",
       "    <tr>\n",
       "      <th>2</th>\n",
       "      <td>1P3EW65G5XV503775</td>\n",
       "      <td>4157010600</td>\n",
       "      <td>N</td>\n",
       "      <td>10020204100011319</td>\n",
       "      <td>1999</td>\n",
       "      <td>승용</td>\n",
       "      <td>개인용</td>\n",
       "      <td>20211124</td>\n",
       "      <td>20190905</td>\n",
       "      <td>1P3EW65G5XV503775-01</td>\n",
       "      <td>휘발유</td>\n",
       "      <td>대형</td>\n",
       "      <td>NaN</td>\n",
       "      <td>41.00</td>\n",
       "      <td>570.00</td>\n",
       "      <td>경기도</td>\n",
       "      <td>김포시</td>\n",
       "      <td>NaN</td>\n",
       "      <td>NaN</td>\n",
       "      <td>NaN</td>\n",
       "    </tr>\n",
       "    <tr>\n",
       "      <th>3</th>\n",
       "      <td>1P3EW65G5YV606177</td>\n",
       "      <td>5011013700</td>\n",
       "      <td>N</td>\n",
       "      <td>10020204100001319</td>\n",
       "      <td>2000</td>\n",
       "      <td>승용</td>\n",
       "      <td>개인용</td>\n",
       "      <td>20211124</td>\n",
       "      <td>20190802</td>\n",
       "      <td>1P3EW65G5YV606177-01</td>\n",
       "      <td>휘발유</td>\n",
       "      <td>대형</td>\n",
       "      <td>NaN</td>\n",
       "      <td>50.00</td>\n",
       "      <td>110.00</td>\n",
       "      <td>제주특별자치도</td>\n",
       "      <td>제주시</td>\n",
       "      <td>NaN</td>\n",
       "      <td>NaN</td>\n",
       "      <td>NaN</td>\n",
       "    </tr>\n",
       "    <tr>\n",
       "      <th>4</th>\n",
       "      <td>KMCYSS7JP7U084697</td>\n",
       "      <td>4423038028</td>\n",
       "      <td>N</td>\n",
       "      <td>A0810003403394206</td>\n",
       "      <td>2007</td>\n",
       "      <td>특수</td>\n",
       "      <td>개인용</td>\n",
       "      <td>20210826</td>\n",
       "      <td>20070227</td>\n",
       "      <td>KMCYSS7JP7U084697-01</td>\n",
       "      <td>경유</td>\n",
       "      <td>중형</td>\n",
       "      <td>NaN</td>\n",
       "      <td>44.00</td>\n",
       "      <td>230.00</td>\n",
       "      <td>충청남도</td>\n",
       "      <td>논산시</td>\n",
       "      <td>NaN</td>\n",
       "      <td>NaN</td>\n",
       "      <td>NaN</td>\n",
       "    </tr>\n",
       "  </tbody>\n",
       "</table>\n",
       "</div>"
      ],
      "text/plain": [
       "                차대번호       법정동코드 차량말소YN             제원관리번호  차량연식  차종   용도   \n",
       "0  KL3C3AHF27K000082  4481025000      N  A0310007202023307  2007  화물  개인용  \\\n",
       "1  KL3C3AHF27K000068  4372033032      N  A0310007202023307  2007  화물  개인용   \n",
       "2  1P3EW65G5XV503775  4157010600      N  10020204100011319  1999  승용  개인용   \n",
       "3  1P3EW65G5YV606177  5011013700      N  10020204100001319  2000  승용  개인용   \n",
       "4  KMCYSS7JP7U084697  4423038028      N  A0810003403394206  2007  특수  개인용   \n",
       "\n",
       "     최초등록일자        제작일자                차량관리번호   연료 차종유형 DPF_YN  시도코드  시군구코드   \n",
       "0  20220711 20070627.00  KL3C3AHF27K000082-01   경유   대형    NaN 44.00 810.00  \\\n",
       "1  20220413 20070618.00  KL3C3AHF27K000068-01   경유   대형    NaN 43.00 720.00   \n",
       "2  20211124    20190905  1P3EW65G5XV503775-01  휘발유   대형    NaN 41.00 570.00   \n",
       "3  20211124    20190802  1P3EW65G5YV606177-01  휘발유   대형    NaN 50.00 110.00   \n",
       "4  20210826    20070227  KMCYSS7JP7U084697-01   경유   중형    NaN 44.00 230.00   \n",
       "\n",
       "        시도  시군구 조기폐차상태코드 조기폐차최종승인YN  말소일자  \n",
       "0     충청남도  예산군      NaN        NaN   NaN  \n",
       "1     충청북도  보은군      NaN        NaN   NaN  \n",
       "2      경기도  김포시      NaN        NaN   NaN  \n",
       "3  제주특별자치도  제주시      NaN        NaN   NaN  \n",
       "4     충청남도  논산시      NaN        NaN   NaN  "
      ]
     },
     "execution_count": 155,
     "metadata": {},
     "output_type": "execute_result"
    }
   ],
   "source": [
    "df.head()"
   ]
  },
  {
   "attachments": {},
   "cell_type": "markdown",
   "metadata": {},
   "source": [
    "## 비상시 및 계절제 병합"
   ]
  },
  {
   "cell_type": "code",
   "execution_count": 194,
   "metadata": {},
   "outputs": [
    {
     "data": {
      "text/plain": [
       "((81512621, 6), (1785, 3), (10790105, 2))"
      ]
     },
     "execution_count": 194,
     "metadata": {},
     "output_type": "execute_result"
    }
   ],
   "source": [
    "isdisr.shape, isisr.shape, isper.shape"
   ]
  },
  {
   "cell_type": "code",
   "execution_count": 195,
   "metadata": {},
   "outputs": [
    {
     "data": {
      "text/plain": [
       "(Index(['적발번호', '발령번호', '등록시도코드', '등록시군구코드', '적발지역코드', '차대번호'], dtype='object'),\n",
       " Index(['발령번호', '농도기준아이디', '유형기준아이디'], dtype='object'),\n",
       " Index(['적발번호', '단속일'], dtype='object'))"
      ]
     },
     "execution_count": 195,
     "metadata": {},
     "output_type": "execute_result"
    }
   ],
   "source": [
    "isdisr.columns, isisr.columns, isper.columns"
   ]
  },
  {
   "cell_type": "code",
   "execution_count": 197,
   "metadata": {},
   "outputs": [
    {
     "data": {
      "text/plain": [
       "(81512621, 6)"
      ]
     },
     "execution_count": 197,
     "metadata": {},
     "output_type": "execute_result"
    }
   ],
   "source": [
    "isdisr.shape"
   ]
  },
  {
   "cell_type": "code",
   "execution_count": 198,
   "metadata": {},
   "outputs": [
    {
     "data": {
      "text/plain": [
       "(81512621, 7)"
      ]
     },
     "execution_count": 198,
     "metadata": {},
     "output_type": "execute_result"
    }
   ],
   "source": [
    "# 41.3s\n",
    "isdp= isdisr.merge(isper, on='적발번호', how='left')\n",
    "isdp.shape"
   ]
  },
  {
   "cell_type": "code",
   "execution_count": 200,
   "metadata": {},
   "outputs": [
    {
     "data": {
      "text/plain": [
       "(81512621, 9)"
      ]
     },
     "execution_count": 200,
     "metadata": {},
     "output_type": "execute_result"
    }
   ],
   "source": [
    "# 9.5s\n",
    "isdpi = isdp.merge(isisr, on='발령번호', how='left')\n",
    "isdpi.shape"
   ]
  },
  {
   "attachments": {},
   "cell_type": "markdown",
   "metadata": {},
   "source": [
    "### 지역정보 추가"
   ]
  },
  {
   "cell_type": "code",
   "execution_count": 202,
   "metadata": {},
   "outputs": [],
   "source": [
    "coder_dup = coder.sort_values('법정동코드', ascending=True).drop_duplicates(['시도코드', '시군구코드']).reset_index(drop=True)"
   ]
  },
  {
   "cell_type": "code",
   "execution_count": 203,
   "metadata": {},
   "outputs": [
    {
     "data": {
      "text/html": [
       "<div>\n",
       "<style scoped>\n",
       "    .dataframe tbody tr th:only-of-type {\n",
       "        vertical-align: middle;\n",
       "    }\n",
       "\n",
       "    .dataframe tbody tr th {\n",
       "        vertical-align: top;\n",
       "    }\n",
       "\n",
       "    .dataframe thead th {\n",
       "        text-align: right;\n",
       "    }\n",
       "</style>\n",
       "<table border=\"1\" class=\"dataframe\">\n",
       "  <thead>\n",
       "    <tr style=\"text-align: right;\">\n",
       "      <th></th>\n",
       "      <th>법정동코드</th>\n",
       "      <th>시도코드</th>\n",
       "      <th>시군구코드</th>\n",
       "      <th>시도</th>\n",
       "      <th>시군구</th>\n",
       "    </tr>\n",
       "  </thead>\n",
       "  <tbody>\n",
       "    <tr>\n",
       "      <th>0</th>\n",
       "      <td>1100000000</td>\n",
       "      <td>11</td>\n",
       "      <td>0</td>\n",
       "      <td>서울특별시</td>\n",
       "      <td>NaN</td>\n",
       "    </tr>\n",
       "    <tr>\n",
       "      <th>1</th>\n",
       "      <td>1111000000</td>\n",
       "      <td>11</td>\n",
       "      <td>110</td>\n",
       "      <td>서울특별시</td>\n",
       "      <td>종로구</td>\n",
       "    </tr>\n",
       "    <tr>\n",
       "      <th>2</th>\n",
       "      <td>1114000000</td>\n",
       "      <td>11</td>\n",
       "      <td>140</td>\n",
       "      <td>서울특별시</td>\n",
       "      <td>중구</td>\n",
       "    </tr>\n",
       "    <tr>\n",
       "      <th>3</th>\n",
       "      <td>1117000000</td>\n",
       "      <td>11</td>\n",
       "      <td>170</td>\n",
       "      <td>서울특별시</td>\n",
       "      <td>용산구</td>\n",
       "    </tr>\n",
       "    <tr>\n",
       "      <th>4</th>\n",
       "      <td>1120000000</td>\n",
       "      <td>11</td>\n",
       "      <td>200</td>\n",
       "      <td>서울특별시</td>\n",
       "      <td>성동구</td>\n",
       "    </tr>\n",
       "  </tbody>\n",
       "</table>\n",
       "</div>"
      ],
      "text/plain": [
       "        법정동코드  시도코드  시군구코드     시도  시군구\n",
       "0  1100000000    11      0  서울특별시  NaN\n",
       "1  1111000000    11    110  서울특별시  종로구\n",
       "2  1114000000    11    140  서울특별시   중구\n",
       "3  1117000000    11    170  서울특별시  용산구\n",
       "4  1120000000    11    200  서울특별시  성동구"
      ]
     },
     "execution_count": 203,
     "metadata": {},
     "output_type": "execute_result"
    }
   ],
   "source": [
    "coder_dup.head()"
   ]
  },
  {
   "cell_type": "code",
   "execution_count": 411,
   "metadata": {},
   "outputs": [
    {
     "data": {
      "text/plain": [
       "(81512621, 11)"
      ]
     },
     "execution_count": 411,
     "metadata": {},
     "output_type": "execute_result"
    }
   ],
   "source": [
    "# 28.4s\n",
    "is_total1 = isdpi.merge(coder_dup[['시도코드', '시군구코드', '시도', '시군구']], left_on=['등록시도코드', '등록시군구코드'], right_on=['시도코드', '시군구코드'], how='left')\n",
    "is_total1 = is_total1.drop(['시도코드', '시군구코드'], axis=1)\n",
    "is_total1.shape"
   ]
  },
  {
   "cell_type": "code",
   "execution_count": 412,
   "metadata": {},
   "outputs": [],
   "source": [
    "is_total1 = is_total1.rename(columns={'시도':'등록시도', '시군구':'등록시군구'})"
   ]
  },
  {
   "cell_type": "code",
   "execution_count": 413,
   "metadata": {},
   "outputs": [
    {
     "data": {
      "text/html": [
       "<div>\n",
       "<style scoped>\n",
       "    .dataframe tbody tr th:only-of-type {\n",
       "        vertical-align: middle;\n",
       "    }\n",
       "\n",
       "    .dataframe tbody tr th {\n",
       "        vertical-align: top;\n",
       "    }\n",
       "\n",
       "    .dataframe thead th {\n",
       "        text-align: right;\n",
       "    }\n",
       "</style>\n",
       "<table border=\"1\" class=\"dataframe\">\n",
       "  <thead>\n",
       "    <tr style=\"text-align: right;\">\n",
       "      <th></th>\n",
       "      <th>적발번호</th>\n",
       "      <th>발령번호</th>\n",
       "      <th>등록시도코드</th>\n",
       "      <th>등록시군구코드</th>\n",
       "      <th>적발지역코드</th>\n",
       "      <th>차대번호</th>\n",
       "      <th>단속일</th>\n",
       "      <th>농도기준아이디</th>\n",
       "      <th>유형기준아이디</th>\n",
       "      <th>등록시도</th>\n",
       "      <th>등록시군구</th>\n",
       "    </tr>\n",
       "  </thead>\n",
       "  <tbody>\n",
       "    <tr>\n",
       "      <th>0</th>\n",
       "      <td>54793831</td>\n",
       "      <td>1838</td>\n",
       "      <td>41</td>\n",
       "      <td>190</td>\n",
       "      <td>41190</td>\n",
       "      <td>KMFXKS7BP3U657943</td>\n",
       "      <td>NaN</td>\n",
       "      <td>C012</td>\n",
       "      <td>T001</td>\n",
       "      <td>경기도</td>\n",
       "      <td>부천시</td>\n",
       "    </tr>\n",
       "    <tr>\n",
       "      <th>1</th>\n",
       "      <td>54793839</td>\n",
       "      <td>1838</td>\n",
       "      <td>41</td>\n",
       "      <td>190</td>\n",
       "      <td>41190</td>\n",
       "      <td>KNAMA75432S388470</td>\n",
       "      <td>NaN</td>\n",
       "      <td>C012</td>\n",
       "      <td>T001</td>\n",
       "      <td>경기도</td>\n",
       "      <td>부천시</td>\n",
       "    </tr>\n",
       "    <tr>\n",
       "      <th>2</th>\n",
       "      <td>54793843</td>\n",
       "      <td>1838</td>\n",
       "      <td>28</td>\n",
       "      <td>237</td>\n",
       "      <td>41190</td>\n",
       "      <td>KNGDNM9N14K178854</td>\n",
       "      <td>NaN</td>\n",
       "      <td>C012</td>\n",
       "      <td>T001</td>\n",
       "      <td>인천광역시</td>\n",
       "      <td>부평구</td>\n",
       "    </tr>\n",
       "    <tr>\n",
       "      <th>3</th>\n",
       "      <td>54795717</td>\n",
       "      <td>1838</td>\n",
       "      <td>41</td>\n",
       "      <td>130</td>\n",
       "      <td>41190</td>\n",
       "      <td>KMFGA17PP7C072098</td>\n",
       "      <td>NaN</td>\n",
       "      <td>C012</td>\n",
       "      <td>T001</td>\n",
       "      <td>경기도</td>\n",
       "      <td>성남시</td>\n",
       "    </tr>\n",
       "    <tr>\n",
       "      <th>4</th>\n",
       "      <td>54793837</td>\n",
       "      <td>1838</td>\n",
       "      <td>41</td>\n",
       "      <td>190</td>\n",
       "      <td>41190</td>\n",
       "      <td>KPBSH3AB18P082348</td>\n",
       "      <td>NaN</td>\n",
       "      <td>C012</td>\n",
       "      <td>T001</td>\n",
       "      <td>경기도</td>\n",
       "      <td>부천시</td>\n",
       "    </tr>\n",
       "  </tbody>\n",
       "</table>\n",
       "</div>"
      ],
      "text/plain": [
       "       적발번호  발령번호  등록시도코드  등록시군구코드  적발지역코드               차대번호  단속일 농도기준아이디   \n",
       "0  54793831  1838      41      190   41190  KMFXKS7BP3U657943  NaN    C012  \\\n",
       "1  54793839  1838      41      190   41190  KNAMA75432S388470  NaN    C012   \n",
       "2  54793843  1838      28      237   41190  KNGDNM9N14K178854  NaN    C012   \n",
       "3  54795717  1838      41      130   41190  KMFGA17PP7C072098  NaN    C012   \n",
       "4  54793837  1838      41      190   41190  KPBSH3AB18P082348  NaN    C012   \n",
       "\n",
       "  유형기준아이디   등록시도 등록시군구  \n",
       "0    T001    경기도   부천시  \n",
       "1    T001    경기도   부천시  \n",
       "2    T001  인천광역시   부평구  \n",
       "3    T001    경기도   성남시  \n",
       "4    T001    경기도   부천시  "
      ]
     },
     "execution_count": 413,
     "metadata": {},
     "output_type": "execute_result"
    }
   ],
   "source": [
    "is_total1.head()"
   ]
  },
  {
   "cell_type": "code",
   "execution_count": 414,
   "metadata": {},
   "outputs": [],
   "source": [
    "# 1m 19.2s\n",
    "is_total1['적발지역코드'] = is_total1['적발지역코드'].astype('str')\n",
    "is_total1['적발시도코드'] = is_total1['적발지역코드'].str[:2]\n",
    "is_total1['적발시군구코드'] = is_total1['적발지역코드'].str[2:5]\n",
    "is_total1[['적발시도코드', '적발시군구코드']] = is_total1[['적발시도코드', '적발시군구코드']].astype('int')"
   ]
  },
  {
   "cell_type": "code",
   "execution_count": 415,
   "metadata": {},
   "outputs": [
    {
     "data": {
      "text/html": [
       "<div>\n",
       "<style scoped>\n",
       "    .dataframe tbody tr th:only-of-type {\n",
       "        vertical-align: middle;\n",
       "    }\n",
       "\n",
       "    .dataframe tbody tr th {\n",
       "        vertical-align: top;\n",
       "    }\n",
       "\n",
       "    .dataframe thead th {\n",
       "        text-align: right;\n",
       "    }\n",
       "</style>\n",
       "<table border=\"1\" class=\"dataframe\">\n",
       "  <thead>\n",
       "    <tr style=\"text-align: right;\">\n",
       "      <th></th>\n",
       "      <th>적발번호</th>\n",
       "      <th>발령번호</th>\n",
       "      <th>등록시도코드</th>\n",
       "      <th>등록시군구코드</th>\n",
       "      <th>적발지역코드</th>\n",
       "      <th>차대번호</th>\n",
       "      <th>단속일</th>\n",
       "      <th>농도기준아이디</th>\n",
       "      <th>유형기준아이디</th>\n",
       "      <th>등록시도</th>\n",
       "      <th>등록시군구</th>\n",
       "      <th>적발시도코드</th>\n",
       "      <th>적발시군구코드</th>\n",
       "    </tr>\n",
       "  </thead>\n",
       "  <tbody>\n",
       "    <tr>\n",
       "      <th>0</th>\n",
       "      <td>54793831</td>\n",
       "      <td>1838</td>\n",
       "      <td>41</td>\n",
       "      <td>190</td>\n",
       "      <td>41190</td>\n",
       "      <td>KMFXKS7BP3U657943</td>\n",
       "      <td>NaN</td>\n",
       "      <td>C012</td>\n",
       "      <td>T001</td>\n",
       "      <td>경기도</td>\n",
       "      <td>부천시</td>\n",
       "      <td>41</td>\n",
       "      <td>190</td>\n",
       "    </tr>\n",
       "    <tr>\n",
       "      <th>1</th>\n",
       "      <td>54793839</td>\n",
       "      <td>1838</td>\n",
       "      <td>41</td>\n",
       "      <td>190</td>\n",
       "      <td>41190</td>\n",
       "      <td>KNAMA75432S388470</td>\n",
       "      <td>NaN</td>\n",
       "      <td>C012</td>\n",
       "      <td>T001</td>\n",
       "      <td>경기도</td>\n",
       "      <td>부천시</td>\n",
       "      <td>41</td>\n",
       "      <td>190</td>\n",
       "    </tr>\n",
       "    <tr>\n",
       "      <th>2</th>\n",
       "      <td>54793843</td>\n",
       "      <td>1838</td>\n",
       "      <td>28</td>\n",
       "      <td>237</td>\n",
       "      <td>41190</td>\n",
       "      <td>KNGDNM9N14K178854</td>\n",
       "      <td>NaN</td>\n",
       "      <td>C012</td>\n",
       "      <td>T001</td>\n",
       "      <td>인천광역시</td>\n",
       "      <td>부평구</td>\n",
       "      <td>41</td>\n",
       "      <td>190</td>\n",
       "    </tr>\n",
       "    <tr>\n",
       "      <th>3</th>\n",
       "      <td>54795717</td>\n",
       "      <td>1838</td>\n",
       "      <td>41</td>\n",
       "      <td>130</td>\n",
       "      <td>41190</td>\n",
       "      <td>KMFGA17PP7C072098</td>\n",
       "      <td>NaN</td>\n",
       "      <td>C012</td>\n",
       "      <td>T001</td>\n",
       "      <td>경기도</td>\n",
       "      <td>성남시</td>\n",
       "      <td>41</td>\n",
       "      <td>190</td>\n",
       "    </tr>\n",
       "    <tr>\n",
       "      <th>4</th>\n",
       "      <td>54793837</td>\n",
       "      <td>1838</td>\n",
       "      <td>41</td>\n",
       "      <td>190</td>\n",
       "      <td>41190</td>\n",
       "      <td>KPBSH3AB18P082348</td>\n",
       "      <td>NaN</td>\n",
       "      <td>C012</td>\n",
       "      <td>T001</td>\n",
       "      <td>경기도</td>\n",
       "      <td>부천시</td>\n",
       "      <td>41</td>\n",
       "      <td>190</td>\n",
       "    </tr>\n",
       "  </tbody>\n",
       "</table>\n",
       "</div>"
      ],
      "text/plain": [
       "       적발번호  발령번호  등록시도코드  등록시군구코드 적발지역코드               차대번호  단속일 농도기준아이디   \n",
       "0  54793831  1838      41      190  41190  KMFXKS7BP3U657943  NaN    C012  \\\n",
       "1  54793839  1838      41      190  41190  KNAMA75432S388470  NaN    C012   \n",
       "2  54793843  1838      28      237  41190  KNGDNM9N14K178854  NaN    C012   \n",
       "3  54795717  1838      41      130  41190  KMFGA17PP7C072098  NaN    C012   \n",
       "4  54793837  1838      41      190  41190  KPBSH3AB18P082348  NaN    C012   \n",
       "\n",
       "  유형기준아이디   등록시도 등록시군구  적발시도코드  적발시군구코드  \n",
       "0    T001    경기도   부천시      41      190  \n",
       "1    T001    경기도   부천시      41      190  \n",
       "2    T001  인천광역시   부평구      41      190  \n",
       "3    T001    경기도   성남시      41      190  \n",
       "4    T001    경기도   부천시      41      190  "
      ]
     },
     "execution_count": 415,
     "metadata": {},
     "output_type": "execute_result"
    }
   ],
   "source": [
    "is_total1.head()"
   ]
  },
  {
   "cell_type": "code",
   "execution_count": 416,
   "metadata": {},
   "outputs": [],
   "source": [
    "# 16.5s\n",
    "is_total = is_total1.merge(coder_dup[['시도코드', '시군구코드', '시도', '시군구']], left_on=['적발시도코드', '적발시군구코드'], right_on=['시도코드', '시군구코드'], how='left')"
   ]
  },
  {
   "cell_type": "code",
   "execution_count": 417,
   "metadata": {},
   "outputs": [
    {
     "data": {
      "text/html": [
       "<div>\n",
       "<style scoped>\n",
       "    .dataframe tbody tr th:only-of-type {\n",
       "        vertical-align: middle;\n",
       "    }\n",
       "\n",
       "    .dataframe tbody tr th {\n",
       "        vertical-align: top;\n",
       "    }\n",
       "\n",
       "    .dataframe thead th {\n",
       "        text-align: right;\n",
       "    }\n",
       "</style>\n",
       "<table border=\"1\" class=\"dataframe\">\n",
       "  <thead>\n",
       "    <tr style=\"text-align: right;\">\n",
       "      <th></th>\n",
       "      <th>적발번호</th>\n",
       "      <th>발령번호</th>\n",
       "      <th>등록시도코드</th>\n",
       "      <th>등록시군구코드</th>\n",
       "      <th>적발지역코드</th>\n",
       "      <th>차대번호</th>\n",
       "      <th>단속일</th>\n",
       "      <th>농도기준아이디</th>\n",
       "      <th>유형기준아이디</th>\n",
       "      <th>등록시도</th>\n",
       "      <th>등록시군구</th>\n",
       "      <th>적발시도코드</th>\n",
       "      <th>적발시군구코드</th>\n",
       "      <th>시도코드</th>\n",
       "      <th>시군구코드</th>\n",
       "      <th>시도</th>\n",
       "      <th>시군구</th>\n",
       "    </tr>\n",
       "  </thead>\n",
       "  <tbody>\n",
       "    <tr>\n",
       "      <th>0</th>\n",
       "      <td>54793831</td>\n",
       "      <td>1838</td>\n",
       "      <td>41</td>\n",
       "      <td>190</td>\n",
       "      <td>41190</td>\n",
       "      <td>KMFXKS7BP3U657943</td>\n",
       "      <td>NaN</td>\n",
       "      <td>C012</td>\n",
       "      <td>T001</td>\n",
       "      <td>경기도</td>\n",
       "      <td>부천시</td>\n",
       "      <td>41</td>\n",
       "      <td>190</td>\n",
       "      <td>41.00</td>\n",
       "      <td>190.00</td>\n",
       "      <td>경기도</td>\n",
       "      <td>부천시</td>\n",
       "    </tr>\n",
       "    <tr>\n",
       "      <th>1</th>\n",
       "      <td>54793839</td>\n",
       "      <td>1838</td>\n",
       "      <td>41</td>\n",
       "      <td>190</td>\n",
       "      <td>41190</td>\n",
       "      <td>KNAMA75432S388470</td>\n",
       "      <td>NaN</td>\n",
       "      <td>C012</td>\n",
       "      <td>T001</td>\n",
       "      <td>경기도</td>\n",
       "      <td>부천시</td>\n",
       "      <td>41</td>\n",
       "      <td>190</td>\n",
       "      <td>41.00</td>\n",
       "      <td>190.00</td>\n",
       "      <td>경기도</td>\n",
       "      <td>부천시</td>\n",
       "    </tr>\n",
       "    <tr>\n",
       "      <th>2</th>\n",
       "      <td>54793843</td>\n",
       "      <td>1838</td>\n",
       "      <td>28</td>\n",
       "      <td>237</td>\n",
       "      <td>41190</td>\n",
       "      <td>KNGDNM9N14K178854</td>\n",
       "      <td>NaN</td>\n",
       "      <td>C012</td>\n",
       "      <td>T001</td>\n",
       "      <td>인천광역시</td>\n",
       "      <td>부평구</td>\n",
       "      <td>41</td>\n",
       "      <td>190</td>\n",
       "      <td>41.00</td>\n",
       "      <td>190.00</td>\n",
       "      <td>경기도</td>\n",
       "      <td>부천시</td>\n",
       "    </tr>\n",
       "    <tr>\n",
       "      <th>3</th>\n",
       "      <td>54795717</td>\n",
       "      <td>1838</td>\n",
       "      <td>41</td>\n",
       "      <td>130</td>\n",
       "      <td>41190</td>\n",
       "      <td>KMFGA17PP7C072098</td>\n",
       "      <td>NaN</td>\n",
       "      <td>C012</td>\n",
       "      <td>T001</td>\n",
       "      <td>경기도</td>\n",
       "      <td>성남시</td>\n",
       "      <td>41</td>\n",
       "      <td>190</td>\n",
       "      <td>41.00</td>\n",
       "      <td>190.00</td>\n",
       "      <td>경기도</td>\n",
       "      <td>부천시</td>\n",
       "    </tr>\n",
       "    <tr>\n",
       "      <th>4</th>\n",
       "      <td>54793837</td>\n",
       "      <td>1838</td>\n",
       "      <td>41</td>\n",
       "      <td>190</td>\n",
       "      <td>41190</td>\n",
       "      <td>KPBSH3AB18P082348</td>\n",
       "      <td>NaN</td>\n",
       "      <td>C012</td>\n",
       "      <td>T001</td>\n",
       "      <td>경기도</td>\n",
       "      <td>부천시</td>\n",
       "      <td>41</td>\n",
       "      <td>190</td>\n",
       "      <td>41.00</td>\n",
       "      <td>190.00</td>\n",
       "      <td>경기도</td>\n",
       "      <td>부천시</td>\n",
       "    </tr>\n",
       "  </tbody>\n",
       "</table>\n",
       "</div>"
      ],
      "text/plain": [
       "       적발번호  발령번호  등록시도코드  등록시군구코드 적발지역코드               차대번호  단속일 농도기준아이디   \n",
       "0  54793831  1838      41      190  41190  KMFXKS7BP3U657943  NaN    C012  \\\n",
       "1  54793839  1838      41      190  41190  KNAMA75432S388470  NaN    C012   \n",
       "2  54793843  1838      28      237  41190  KNGDNM9N14K178854  NaN    C012   \n",
       "3  54795717  1838      41      130  41190  KMFGA17PP7C072098  NaN    C012   \n",
       "4  54793837  1838      41      190  41190  KPBSH3AB18P082348  NaN    C012   \n",
       "\n",
       "  유형기준아이디   등록시도 등록시군구  적발시도코드  적발시군구코드  시도코드  시군구코드   시도  시군구  \n",
       "0    T001    경기도   부천시      41      190 41.00 190.00  경기도  부천시  \n",
       "1    T001    경기도   부천시      41      190 41.00 190.00  경기도  부천시  \n",
       "2    T001  인천광역시   부평구      41      190 41.00 190.00  경기도  부천시  \n",
       "3    T001    경기도   성남시      41      190 41.00 190.00  경기도  부천시  \n",
       "4    T001    경기도   부천시      41      190 41.00 190.00  경기도  부천시  "
      ]
     },
     "execution_count": 417,
     "metadata": {},
     "output_type": "execute_result"
    }
   ],
   "source": [
    "is_total.head()"
   ]
  },
  {
   "cell_type": "code",
   "execution_count": 418,
   "metadata": {},
   "outputs": [
    {
     "ename": "MemoryError",
     "evalue": "Unable to allocate 622. MiB for an array with shape (1, 81512621) and data type object",
     "output_type": "error",
     "traceback": [
      "\u001b[1;31m---------------------------------------------------------------------------\u001b[0m",
      "\u001b[1;31mMemoryError\u001b[0m                               Traceback (most recent call last)",
      "\u001b[1;32m~\\AppData\\Local\\Temp\\ipykernel_3712\\3352720898.py\u001b[0m in \u001b[0;36m<module>\u001b[1;34m\u001b[0m\n\u001b[0;32m      1\u001b[0m \u001b[1;31m# 1m 12.8s\u001b[0m\u001b[1;33m\u001b[0m\u001b[1;33m\u001b[0m\u001b[0m\n\u001b[0;32m      2\u001b[0m \u001b[0mis_total\u001b[0m \u001b[1;33m=\u001b[0m \u001b[0mis_total\u001b[0m\u001b[1;33m.\u001b[0m\u001b[0mdrop\u001b[0m\u001b[1;33m(\u001b[0m\u001b[1;33m[\u001b[0m\u001b[1;34m'적발시도코드'\u001b[0m\u001b[1;33m,\u001b[0m \u001b[1;34m'적발시군구코드'\u001b[0m\u001b[1;33m,\u001b[0m \u001b[1;34m'시도코드'\u001b[0m\u001b[1;33m,\u001b[0m \u001b[1;34m'시군구코드'\u001b[0m\u001b[1;33m]\u001b[0m\u001b[1;33m,\u001b[0m \u001b[0maxis\u001b[0m\u001b[1;33m=\u001b[0m\u001b[1;36m1\u001b[0m\u001b[1;33m)\u001b[0m\u001b[1;33m\u001b[0m\u001b[1;33m\u001b[0m\u001b[0m\n\u001b[1;32m----> 3\u001b[1;33m \u001b[0mis_total\u001b[0m \u001b[1;33m=\u001b[0m \u001b[0mis_total\u001b[0m\u001b[1;33m.\u001b[0m\u001b[0mrename\u001b[0m\u001b[1;33m(\u001b[0m\u001b[0mcolumns\u001b[0m\u001b[1;33m=\u001b[0m\u001b[1;33m{\u001b[0m\u001b[1;34m'시도'\u001b[0m\u001b[1;33m:\u001b[0m\u001b[1;34m'적발시도'\u001b[0m\u001b[1;33m,\u001b[0m \u001b[1;34m'시군구'\u001b[0m\u001b[1;33m:\u001b[0m\u001b[1;34m'적발시군구'\u001b[0m\u001b[1;33m}\u001b[0m\u001b[1;33m)\u001b[0m\u001b[1;33m\u001b[0m\u001b[1;33m\u001b[0m\u001b[0m\n\u001b[0m\u001b[0;32m      4\u001b[0m \u001b[0mis_total\u001b[0m\u001b[1;33m.\u001b[0m\u001b[0mhead\u001b[0m\u001b[1;33m(\u001b[0m\u001b[1;33m)\u001b[0m\u001b[1;33m\u001b[0m\u001b[1;33m\u001b[0m\u001b[0m\n",
      "\u001b[1;32m~\\AppData\\Roaming\\Python\\Python39\\site-packages\\pandas\\core\\frame.py\u001b[0m in \u001b[0;36mrename\u001b[1;34m(self, mapper, index, columns, axis, copy, inplace, level, errors)\u001b[0m\n\u001b[0;32m   5440\u001b[0m         \u001b[1;36m4\u001b[0m  \u001b[1;36m3\u001b[0m  \u001b[1;36m6\u001b[0m\u001b[1;33m\u001b[0m\u001b[1;33m\u001b[0m\u001b[0m\n\u001b[0;32m   5441\u001b[0m         \"\"\"\n\u001b[1;32m-> 5442\u001b[1;33m         return super()._rename(\n\u001b[0m\u001b[0;32m   5443\u001b[0m             \u001b[0mmapper\u001b[0m\u001b[1;33m=\u001b[0m\u001b[0mmapper\u001b[0m\u001b[1;33m,\u001b[0m\u001b[1;33m\u001b[0m\u001b[1;33m\u001b[0m\u001b[0m\n\u001b[0;32m   5444\u001b[0m             \u001b[0mindex\u001b[0m\u001b[1;33m=\u001b[0m\u001b[0mindex\u001b[0m\u001b[1;33m,\u001b[0m\u001b[1;33m\u001b[0m\u001b[1;33m\u001b[0m\u001b[0m\n",
      "\u001b[1;32m~\\AppData\\Roaming\\Python\\Python39\\site-packages\\pandas\\core\\generic.py\u001b[0m in \u001b[0;36m_rename\u001b[1;34m(self, mapper, index, columns, axis, copy, inplace, level, errors)\u001b[0m\n\u001b[0;32m   1005\u001b[0m \u001b[1;33m\u001b[0m\u001b[0m\n\u001b[0;32m   1006\u001b[0m         \u001b[0mself\u001b[0m\u001b[1;33m.\u001b[0m\u001b[0m_check_inplace_and_allows_duplicate_labels\u001b[0m\u001b[1;33m(\u001b[0m\u001b[0minplace\u001b[0m\u001b[1;33m)\u001b[0m\u001b[1;33m\u001b[0m\u001b[1;33m\u001b[0m\u001b[0m\n\u001b[1;32m-> 1007\u001b[1;33m         \u001b[0mresult\u001b[0m \u001b[1;33m=\u001b[0m \u001b[0mself\u001b[0m \u001b[1;32mif\u001b[0m \u001b[0minplace\u001b[0m \u001b[1;32melse\u001b[0m \u001b[0mself\u001b[0m\u001b[1;33m.\u001b[0m\u001b[0mcopy\u001b[0m\u001b[1;33m(\u001b[0m\u001b[0mdeep\u001b[0m\u001b[1;33m=\u001b[0m\u001b[0mcopy\u001b[0m \u001b[1;32mand\u001b[0m \u001b[1;32mnot\u001b[0m \u001b[0musing_copy_on_write\u001b[0m\u001b[1;33m(\u001b[0m\u001b[1;33m)\u001b[0m\u001b[1;33m)\u001b[0m\u001b[1;33m\u001b[0m\u001b[1;33m\u001b[0m\u001b[0m\n\u001b[0m\u001b[0;32m   1008\u001b[0m \u001b[1;33m\u001b[0m\u001b[0m\n\u001b[0;32m   1009\u001b[0m         \u001b[1;32mfor\u001b[0m \u001b[0maxis_no\u001b[0m\u001b[1;33m,\u001b[0m \u001b[0mreplacements\u001b[0m \u001b[1;32min\u001b[0m \u001b[0menumerate\u001b[0m\u001b[1;33m(\u001b[0m\u001b[1;33m(\u001b[0m\u001b[0mindex\u001b[0m\u001b[1;33m,\u001b[0m \u001b[0mcolumns\u001b[0m\u001b[1;33m)\u001b[0m\u001b[1;33m)\u001b[0m\u001b[1;33m:\u001b[0m\u001b[1;33m\u001b[0m\u001b[1;33m\u001b[0m\u001b[0m\n",
      "\u001b[1;32m~\\AppData\\Roaming\\Python\\Python39\\site-packages\\pandas\\core\\generic.py\u001b[0m in \u001b[0;36mcopy\u001b[1;34m(self, deep)\u001b[0m\n\u001b[0;32m   6450\u001b[0m         \u001b[0mdtype\u001b[0m\u001b[1;33m:\u001b[0m \u001b[0mobject\u001b[0m\u001b[1;33m\u001b[0m\u001b[1;33m\u001b[0m\u001b[0m\n\u001b[0;32m   6451\u001b[0m         \"\"\"\n\u001b[1;32m-> 6452\u001b[1;33m         \u001b[0mdata\u001b[0m \u001b[1;33m=\u001b[0m \u001b[0mself\u001b[0m\u001b[1;33m.\u001b[0m\u001b[0m_mgr\u001b[0m\u001b[1;33m.\u001b[0m\u001b[0mcopy\u001b[0m\u001b[1;33m(\u001b[0m\u001b[0mdeep\u001b[0m\u001b[1;33m=\u001b[0m\u001b[0mdeep\u001b[0m\u001b[1;33m)\u001b[0m\u001b[1;33m\u001b[0m\u001b[1;33m\u001b[0m\u001b[0m\n\u001b[0m\u001b[0;32m   6453\u001b[0m         \u001b[0mself\u001b[0m\u001b[1;33m.\u001b[0m\u001b[0m_clear_item_cache\u001b[0m\u001b[1;33m(\u001b[0m\u001b[1;33m)\u001b[0m\u001b[1;33m\u001b[0m\u001b[1;33m\u001b[0m\u001b[0m\n\u001b[0;32m   6454\u001b[0m         \u001b[1;32mreturn\u001b[0m \u001b[0mself\u001b[0m\u001b[1;33m.\u001b[0m\u001b[0m_constructor\u001b[0m\u001b[1;33m(\u001b[0m\u001b[0mdata\u001b[0m\u001b[1;33m)\u001b[0m\u001b[1;33m.\u001b[0m\u001b[0m__finalize__\u001b[0m\u001b[1;33m(\u001b[0m\u001b[0mself\u001b[0m\u001b[1;33m,\u001b[0m \u001b[0mmethod\u001b[0m\u001b[1;33m=\u001b[0m\u001b[1;34m\"copy\"\u001b[0m\u001b[1;33m)\u001b[0m\u001b[1;33m\u001b[0m\u001b[1;33m\u001b[0m\u001b[0m\n",
      "\u001b[1;32m~\\AppData\\Roaming\\Python\\Python39\\site-packages\\pandas\\core\\internals\\managers.py\u001b[0m in \u001b[0;36mcopy\u001b[1;34m(self, deep)\u001b[0m\n\u001b[0;32m    651\u001b[0m             \u001b[0mnew_axes\u001b[0m \u001b[1;33m=\u001b[0m \u001b[0mlist\u001b[0m\u001b[1;33m(\u001b[0m\u001b[0mself\u001b[0m\u001b[1;33m.\u001b[0m\u001b[0maxes\u001b[0m\u001b[1;33m)\u001b[0m\u001b[1;33m\u001b[0m\u001b[1;33m\u001b[0m\u001b[0m\n\u001b[0;32m    652\u001b[0m \u001b[1;33m\u001b[0m\u001b[0m\n\u001b[1;32m--> 653\u001b[1;33m         \u001b[0mres\u001b[0m \u001b[1;33m=\u001b[0m \u001b[0mself\u001b[0m\u001b[1;33m.\u001b[0m\u001b[0mapply\u001b[0m\u001b[1;33m(\u001b[0m\u001b[1;34m\"copy\"\u001b[0m\u001b[1;33m,\u001b[0m \u001b[0mdeep\u001b[0m\u001b[1;33m=\u001b[0m\u001b[0mdeep\u001b[0m\u001b[1;33m)\u001b[0m\u001b[1;33m\u001b[0m\u001b[1;33m\u001b[0m\u001b[0m\n\u001b[0m\u001b[0;32m    654\u001b[0m         \u001b[0mres\u001b[0m\u001b[1;33m.\u001b[0m\u001b[0maxes\u001b[0m \u001b[1;33m=\u001b[0m \u001b[0mnew_axes\u001b[0m\u001b[1;33m\u001b[0m\u001b[1;33m\u001b[0m\u001b[0m\n\u001b[0;32m    655\u001b[0m \u001b[1;33m\u001b[0m\u001b[0m\n",
      "\u001b[1;32m~\\AppData\\Roaming\\Python\\Python39\\site-packages\\pandas\\core\\internals\\managers.py\u001b[0m in \u001b[0;36mapply\u001b[1;34m(self, f, align_keys, **kwargs)\u001b[0m\n\u001b[0;32m    350\u001b[0m                 \u001b[0mapplied\u001b[0m \u001b[1;33m=\u001b[0m \u001b[0mb\u001b[0m\u001b[1;33m.\u001b[0m\u001b[0mapply\u001b[0m\u001b[1;33m(\u001b[0m\u001b[0mf\u001b[0m\u001b[1;33m,\u001b[0m \u001b[1;33m**\u001b[0m\u001b[0mkwargs\u001b[0m\u001b[1;33m)\u001b[0m\u001b[1;33m\u001b[0m\u001b[1;33m\u001b[0m\u001b[0m\n\u001b[0;32m    351\u001b[0m             \u001b[1;32melse\u001b[0m\u001b[1;33m:\u001b[0m\u001b[1;33m\u001b[0m\u001b[1;33m\u001b[0m\u001b[0m\n\u001b[1;32m--> 352\u001b[1;33m                 \u001b[0mapplied\u001b[0m \u001b[1;33m=\u001b[0m \u001b[0mgetattr\u001b[0m\u001b[1;33m(\u001b[0m\u001b[0mb\u001b[0m\u001b[1;33m,\u001b[0m \u001b[0mf\u001b[0m\u001b[1;33m)\u001b[0m\u001b[1;33m(\u001b[0m\u001b[1;33m**\u001b[0m\u001b[0mkwargs\u001b[0m\u001b[1;33m)\u001b[0m\u001b[1;33m\u001b[0m\u001b[1;33m\u001b[0m\u001b[0m\n\u001b[0m\u001b[0;32m    353\u001b[0m             \u001b[0mresult_blocks\u001b[0m \u001b[1;33m=\u001b[0m \u001b[0mextend_blocks\u001b[0m\u001b[1;33m(\u001b[0m\u001b[0mapplied\u001b[0m\u001b[1;33m,\u001b[0m \u001b[0mresult_blocks\u001b[0m\u001b[1;33m)\u001b[0m\u001b[1;33m\u001b[0m\u001b[1;33m\u001b[0m\u001b[0m\n\u001b[0;32m    354\u001b[0m \u001b[1;33m\u001b[0m\u001b[0m\n",
      "\u001b[1;32m~\\AppData\\Roaming\\Python\\Python39\\site-packages\\pandas\\core\\internals\\blocks.py\u001b[0m in \u001b[0;36mcopy\u001b[1;34m(self, deep)\u001b[0m\n\u001b[0;32m    538\u001b[0m         \u001b[0mrefs\u001b[0m\u001b[1;33m:\u001b[0m \u001b[0mBlockValuesRefs\u001b[0m \u001b[1;33m|\u001b[0m \u001b[1;32mNone\u001b[0m\u001b[1;33m\u001b[0m\u001b[1;33m\u001b[0m\u001b[0m\n\u001b[0;32m    539\u001b[0m         \u001b[1;32mif\u001b[0m \u001b[0mdeep\u001b[0m\u001b[1;33m:\u001b[0m\u001b[1;33m\u001b[0m\u001b[1;33m\u001b[0m\u001b[0m\n\u001b[1;32m--> 540\u001b[1;33m             \u001b[0mvalues\u001b[0m \u001b[1;33m=\u001b[0m \u001b[0mvalues\u001b[0m\u001b[1;33m.\u001b[0m\u001b[0mcopy\u001b[0m\u001b[1;33m(\u001b[0m\u001b[1;33m)\u001b[0m\u001b[1;33m\u001b[0m\u001b[1;33m\u001b[0m\u001b[0m\n\u001b[0m\u001b[0;32m    541\u001b[0m             \u001b[0mrefs\u001b[0m \u001b[1;33m=\u001b[0m \u001b[1;32mNone\u001b[0m\u001b[1;33m\u001b[0m\u001b[1;33m\u001b[0m\u001b[0m\n\u001b[0;32m    542\u001b[0m         \u001b[1;32melse\u001b[0m\u001b[1;33m:\u001b[0m\u001b[1;33m\u001b[0m\u001b[1;33m\u001b[0m\u001b[0m\n",
      "\u001b[1;31mMemoryError\u001b[0m: Unable to allocate 622. MiB for an array with shape (1, 81512621) and data type object"
     ]
    }
   ],
   "source": [
    "# 1m 12.8s\n",
    "is_total = is_total.drop(['적발시도코드', '적발시군구코드', '시도코드', '시군구코드'], axis=1)\n",
    "is_total = is_total.rename(columns={'시도':'적발시도', '시군구':'적발시군구'})\n",
    "is_total.head()"
   ]
  },
  {
   "attachments": {},
   "cell_type": "markdown",
   "metadata": {},
   "source": [
    "## 상시 병합"
   ]
  },
  {
   "cell_type": "code",
   "execution_count": 350,
   "metadata": {},
   "outputs": [
    {
     "data": {
      "text/html": [
       "<div>\n",
       "<style scoped>\n",
       "    .dataframe tbody tr th:only-of-type {\n",
       "        vertical-align: middle;\n",
       "    }\n",
       "\n",
       "    .dataframe tbody tr th {\n",
       "        vertical-align: top;\n",
       "    }\n",
       "\n",
       "    .dataframe thead th {\n",
       "        text-align: right;\n",
       "    }\n",
       "</style>\n",
       "<table border=\"1\" class=\"dataframe\">\n",
       "  <thead>\n",
       "    <tr style=\"text-align: right;\">\n",
       "      <th></th>\n",
       "      <th>번호</th>\n",
       "      <th>등록시도코드</th>\n",
       "      <th>등록시군구코드</th>\n",
       "      <th>적발유형</th>\n",
       "      <th>단속지역코드</th>\n",
       "      <th>차대번호</th>\n",
       "    </tr>\n",
       "  </thead>\n",
       "  <tbody>\n",
       "    <tr>\n",
       "      <th>0</th>\n",
       "      <td>117112</td>\n",
       "      <td>41</td>\n",
       "      <td>110</td>\n",
       "      <td>S</td>\n",
       "      <td>41430</td>\n",
       "      <td>KPBFA2AD12P021974</td>\n",
       "    </tr>\n",
       "    <tr>\n",
       "      <th>1</th>\n",
       "      <td>117111</td>\n",
       "      <td>11</td>\n",
       "      <td>0</td>\n",
       "      <td>S</td>\n",
       "      <td>41430</td>\n",
       "      <td>KMHNN81XP2U038507</td>\n",
       "    </tr>\n",
       "    <tr>\n",
       "      <th>2</th>\n",
       "      <td>117107</td>\n",
       "      <td>41</td>\n",
       "      <td>410</td>\n",
       "      <td>S</td>\n",
       "      <td>41430</td>\n",
       "      <td>KMFZCD7JP5U094049</td>\n",
       "    </tr>\n",
       "    <tr>\n",
       "      <th>3</th>\n",
       "      <td>132833</td>\n",
       "      <td>11</td>\n",
       "      <td>0</td>\n",
       "      <td>S</td>\n",
       "      <td>41130</td>\n",
       "      <td>KMFWVH7HP4U579325</td>\n",
       "    </tr>\n",
       "    <tr>\n",
       "      <th>4</th>\n",
       "      <td>6933349</td>\n",
       "      <td>11</td>\n",
       "      <td>0</td>\n",
       "      <td>S</td>\n",
       "      <td>41130</td>\n",
       "      <td>KNAMA75433S411400</td>\n",
       "    </tr>\n",
       "  </tbody>\n",
       "</table>\n",
       "</div>"
      ],
      "text/plain": [
       "        번호  등록시도코드  등록시군구코드 적발유형  단속지역코드               차대번호\n",
       "0   117112      41      110    S   41430  KPBFA2AD12P021974\n",
       "1   117111      11        0    S   41430  KMHNN81XP2U038507\n",
       "2   117107      41      410    S   41430  KMFZCD7JP5U094049\n",
       "3   132833      11        0    S   41130  KMFWVH7HP4U579325\n",
       "4  6933349      11        0    S   41130  KNAMA75433S411400"
      ]
     },
     "execution_count": 350,
     "metadata": {},
     "output_type": "execute_result"
    }
   ],
   "source": [
    "usdisr.head()"
   ]
  },
  {
   "cell_type": "code",
   "execution_count": 351,
   "metadata": {},
   "outputs": [
    {
     "data": {
      "text/html": [
       "<div>\n",
       "<style scoped>\n",
       "    .dataframe tbody tr th:only-of-type {\n",
       "        vertical-align: middle;\n",
       "    }\n",
       "\n",
       "    .dataframe tbody tr th {\n",
       "        vertical-align: top;\n",
       "    }\n",
       "\n",
       "    .dataframe thead th {\n",
       "        text-align: right;\n",
       "    }\n",
       "</style>\n",
       "<table border=\"1\" class=\"dataframe\">\n",
       "  <thead>\n",
       "    <tr style=\"text-align: right;\">\n",
       "      <th></th>\n",
       "      <th>번호</th>\n",
       "      <th>적발건수</th>\n",
       "      <th>적발년월</th>\n",
       "    </tr>\n",
       "  </thead>\n",
       "  <tbody>\n",
       "    <tr>\n",
       "      <th>0</th>\n",
       "      <td>8114417</td>\n",
       "      <td>1</td>\n",
       "      <td>201901</td>\n",
       "    </tr>\n",
       "    <tr>\n",
       "      <th>1</th>\n",
       "      <td>6933701</td>\n",
       "      <td>4</td>\n",
       "      <td>201901</td>\n",
       "    </tr>\n",
       "    <tr>\n",
       "      <th>2</th>\n",
       "      <td>6938411</td>\n",
       "      <td>10</td>\n",
       "      <td>201901</td>\n",
       "    </tr>\n",
       "    <tr>\n",
       "      <th>3</th>\n",
       "      <td>8114173</td>\n",
       "      <td>1</td>\n",
       "      <td>201901</td>\n",
       "    </tr>\n",
       "    <tr>\n",
       "      <th>4</th>\n",
       "      <td>6938670</td>\n",
       "      <td>14</td>\n",
       "      <td>201901</td>\n",
       "    </tr>\n",
       "  </tbody>\n",
       "</table>\n",
       "</div>"
      ],
      "text/plain": [
       "        번호  적발건수    적발년월\n",
       "0  8114417     1  201901\n",
       "1  6933701     4  201901\n",
       "2  6938411    10  201901\n",
       "3  8114173     1  201901\n",
       "4  6938670    14  201901"
      ]
     },
     "execution_count": 351,
     "metadata": {},
     "output_type": "execute_result"
    }
   ],
   "source": [
    "usper.head()"
   ]
  },
  {
   "cell_type": "code",
   "execution_count": 352,
   "metadata": {},
   "outputs": [
    {
     "data": {
      "text/plain": [
       "(3090035, 6)"
      ]
     },
     "execution_count": 352,
     "metadata": {},
     "output_type": "execute_result"
    }
   ],
   "source": [
    "usdisr.shape"
   ]
  },
  {
   "cell_type": "code",
   "execution_count": 353,
   "metadata": {},
   "outputs": [
    {
     "data": {
      "text/plain": [
       "(3090035, 8)"
      ]
     },
     "execution_count": 353,
     "metadata": {},
     "output_type": "execute_result"
    }
   ],
   "source": [
    "# 1s\n",
    "usdp = usdisr.merge(usper, on='번호', how='left')\n",
    "usdp.shape"
   ]
  },
  {
   "attachments": {},
   "cell_type": "markdown",
   "metadata": {},
   "source": [
    "### 지역정보 추가"
   ]
  },
  {
   "cell_type": "code",
   "execution_count": 354,
   "metadata": {},
   "outputs": [
    {
     "data": {
      "text/html": [
       "<div>\n",
       "<style scoped>\n",
       "    .dataframe tbody tr th:only-of-type {\n",
       "        vertical-align: middle;\n",
       "    }\n",
       "\n",
       "    .dataframe tbody tr th {\n",
       "        vertical-align: top;\n",
       "    }\n",
       "\n",
       "    .dataframe thead th {\n",
       "        text-align: right;\n",
       "    }\n",
       "</style>\n",
       "<table border=\"1\" class=\"dataframe\">\n",
       "  <thead>\n",
       "    <tr style=\"text-align: right;\">\n",
       "      <th></th>\n",
       "      <th>번호</th>\n",
       "      <th>등록시도코드</th>\n",
       "      <th>등록시군구코드</th>\n",
       "      <th>적발유형</th>\n",
       "      <th>단속지역코드</th>\n",
       "      <th>차대번호</th>\n",
       "      <th>적발건수</th>\n",
       "      <th>적발년월</th>\n",
       "      <th>법정동코드</th>\n",
       "      <th>시도코드</th>\n",
       "      <th>시군구코드</th>\n",
       "      <th>시도</th>\n",
       "      <th>시군구</th>\n",
       "    </tr>\n",
       "  </thead>\n",
       "  <tbody>\n",
       "    <tr>\n",
       "      <th>0</th>\n",
       "      <td>117112</td>\n",
       "      <td>41</td>\n",
       "      <td>110</td>\n",
       "      <td>S</td>\n",
       "      <td>41430</td>\n",
       "      <td>KPBFA2AD12P021974</td>\n",
       "      <td>NaN</td>\n",
       "      <td>NaN</td>\n",
       "      <td>4111000000.00</td>\n",
       "      <td>41.00</td>\n",
       "      <td>110.00</td>\n",
       "      <td>경기도</td>\n",
       "      <td>수원시</td>\n",
       "    </tr>\n",
       "    <tr>\n",
       "      <th>1</th>\n",
       "      <td>117111</td>\n",
       "      <td>11</td>\n",
       "      <td>0</td>\n",
       "      <td>S</td>\n",
       "      <td>41430</td>\n",
       "      <td>KMHNN81XP2U038507</td>\n",
       "      <td>NaN</td>\n",
       "      <td>NaN</td>\n",
       "      <td>1100000000.00</td>\n",
       "      <td>11.00</td>\n",
       "      <td>0.00</td>\n",
       "      <td>서울특별시</td>\n",
       "      <td>NaN</td>\n",
       "    </tr>\n",
       "    <tr>\n",
       "      <th>2</th>\n",
       "      <td>117107</td>\n",
       "      <td>41</td>\n",
       "      <td>410</td>\n",
       "      <td>S</td>\n",
       "      <td>41430</td>\n",
       "      <td>KMFZCD7JP5U094049</td>\n",
       "      <td>NaN</td>\n",
       "      <td>NaN</td>\n",
       "      <td>4141000000.00</td>\n",
       "      <td>41.00</td>\n",
       "      <td>410.00</td>\n",
       "      <td>경기도</td>\n",
       "      <td>군포시</td>\n",
       "    </tr>\n",
       "    <tr>\n",
       "      <th>3</th>\n",
       "      <td>132833</td>\n",
       "      <td>11</td>\n",
       "      <td>0</td>\n",
       "      <td>S</td>\n",
       "      <td>41130</td>\n",
       "      <td>KMFWVH7HP4U579325</td>\n",
       "      <td>NaN</td>\n",
       "      <td>NaN</td>\n",
       "      <td>1100000000.00</td>\n",
       "      <td>11.00</td>\n",
       "      <td>0.00</td>\n",
       "      <td>서울특별시</td>\n",
       "      <td>NaN</td>\n",
       "    </tr>\n",
       "    <tr>\n",
       "      <th>4</th>\n",
       "      <td>6933349</td>\n",
       "      <td>11</td>\n",
       "      <td>0</td>\n",
       "      <td>S</td>\n",
       "      <td>41130</td>\n",
       "      <td>KNAMA75433S411400</td>\n",
       "      <td>NaN</td>\n",
       "      <td>NaN</td>\n",
       "      <td>1100000000.00</td>\n",
       "      <td>11.00</td>\n",
       "      <td>0.00</td>\n",
       "      <td>서울특별시</td>\n",
       "      <td>NaN</td>\n",
       "    </tr>\n",
       "  </tbody>\n",
       "</table>\n",
       "</div>"
      ],
      "text/plain": [
       "        번호  등록시도코드  등록시군구코드 적발유형  단속지역코드               차대번호  적발건수  적발년월   \n",
       "0   117112      41      110    S   41430  KPBFA2AD12P021974   NaN   NaN  \\\n",
       "1   117111      11        0    S   41430  KMHNN81XP2U038507   NaN   NaN   \n",
       "2   117107      41      410    S   41430  KMFZCD7JP5U094049   NaN   NaN   \n",
       "3   132833      11        0    S   41130  KMFWVH7HP4U579325   NaN   NaN   \n",
       "4  6933349      11        0    S   41130  KNAMA75433S411400   NaN   NaN   \n",
       "\n",
       "          법정동코드  시도코드  시군구코드     시도  시군구  \n",
       "0 4111000000.00 41.00 110.00    경기도  수원시  \n",
       "1 1100000000.00 11.00   0.00  서울특별시  NaN  \n",
       "2 4141000000.00 41.00 410.00    경기도  군포시  \n",
       "3 1100000000.00 11.00   0.00  서울특별시  NaN  \n",
       "4 1100000000.00 11.00   0.00  서울특별시  NaN  "
      ]
     },
     "execution_count": 354,
     "metadata": {},
     "output_type": "execute_result"
    }
   ],
   "source": [
    "us_total = usdp.merge(coder_dup, left_on=['등록시도코드', '등록시군구코드'], right_on=['시도코드', '시군구코드'], how='left')\n",
    "us_total.head()"
   ]
  },
  {
   "cell_type": "code",
   "execution_count": 355,
   "metadata": {},
   "outputs": [
    {
     "data": {
      "text/html": [
       "<div>\n",
       "<style scoped>\n",
       "    .dataframe tbody tr th:only-of-type {\n",
       "        vertical-align: middle;\n",
       "    }\n",
       "\n",
       "    .dataframe tbody tr th {\n",
       "        vertical-align: top;\n",
       "    }\n",
       "\n",
       "    .dataframe thead th {\n",
       "        text-align: right;\n",
       "    }\n",
       "</style>\n",
       "<table border=\"1\" class=\"dataframe\">\n",
       "  <thead>\n",
       "    <tr style=\"text-align: right;\">\n",
       "      <th></th>\n",
       "      <th>번호</th>\n",
       "      <th>등록시도코드</th>\n",
       "      <th>등록시군구코드</th>\n",
       "      <th>적발유형</th>\n",
       "      <th>단속지역코드</th>\n",
       "      <th>차대번호</th>\n",
       "      <th>적발건수</th>\n",
       "      <th>적발년월</th>\n",
       "      <th>법정동코드</th>\n",
       "      <th>시도</th>\n",
       "      <th>시군구</th>\n",
       "    </tr>\n",
       "  </thead>\n",
       "  <tbody>\n",
       "    <tr>\n",
       "      <th>0</th>\n",
       "      <td>117112</td>\n",
       "      <td>41</td>\n",
       "      <td>110</td>\n",
       "      <td>S</td>\n",
       "      <td>41430</td>\n",
       "      <td>KPBFA2AD12P021974</td>\n",
       "      <td>NaN</td>\n",
       "      <td>NaN</td>\n",
       "      <td>4111000000.00</td>\n",
       "      <td>경기도</td>\n",
       "      <td>수원시</td>\n",
       "    </tr>\n",
       "    <tr>\n",
       "      <th>1</th>\n",
       "      <td>117111</td>\n",
       "      <td>11</td>\n",
       "      <td>0</td>\n",
       "      <td>S</td>\n",
       "      <td>41430</td>\n",
       "      <td>KMHNN81XP2U038507</td>\n",
       "      <td>NaN</td>\n",
       "      <td>NaN</td>\n",
       "      <td>1100000000.00</td>\n",
       "      <td>서울특별시</td>\n",
       "      <td>NaN</td>\n",
       "    </tr>\n",
       "    <tr>\n",
       "      <th>2</th>\n",
       "      <td>117107</td>\n",
       "      <td>41</td>\n",
       "      <td>410</td>\n",
       "      <td>S</td>\n",
       "      <td>41430</td>\n",
       "      <td>KMFZCD7JP5U094049</td>\n",
       "      <td>NaN</td>\n",
       "      <td>NaN</td>\n",
       "      <td>4141000000.00</td>\n",
       "      <td>경기도</td>\n",
       "      <td>군포시</td>\n",
       "    </tr>\n",
       "    <tr>\n",
       "      <th>3</th>\n",
       "      <td>132833</td>\n",
       "      <td>11</td>\n",
       "      <td>0</td>\n",
       "      <td>S</td>\n",
       "      <td>41130</td>\n",
       "      <td>KMFWVH7HP4U579325</td>\n",
       "      <td>NaN</td>\n",
       "      <td>NaN</td>\n",
       "      <td>1100000000.00</td>\n",
       "      <td>서울특별시</td>\n",
       "      <td>NaN</td>\n",
       "    </tr>\n",
       "    <tr>\n",
       "      <th>4</th>\n",
       "      <td>6933349</td>\n",
       "      <td>11</td>\n",
       "      <td>0</td>\n",
       "      <td>S</td>\n",
       "      <td>41130</td>\n",
       "      <td>KNAMA75433S411400</td>\n",
       "      <td>NaN</td>\n",
       "      <td>NaN</td>\n",
       "      <td>1100000000.00</td>\n",
       "      <td>서울특별시</td>\n",
       "      <td>NaN</td>\n",
       "    </tr>\n",
       "  </tbody>\n",
       "</table>\n",
       "</div>"
      ],
      "text/plain": [
       "        번호  등록시도코드  등록시군구코드 적발유형  단속지역코드               차대번호  적발건수  적발년월   \n",
       "0   117112      41      110    S   41430  KPBFA2AD12P021974   NaN   NaN  \\\n",
       "1   117111      11        0    S   41430  KMHNN81XP2U038507   NaN   NaN   \n",
       "2   117107      41      410    S   41430  KMFZCD7JP5U094049   NaN   NaN   \n",
       "3   132833      11        0    S   41130  KMFWVH7HP4U579325   NaN   NaN   \n",
       "4  6933349      11        0    S   41130  KNAMA75433S411400   NaN   NaN   \n",
       "\n",
       "          법정동코드     시도  시군구  \n",
       "0 4111000000.00    경기도  수원시  \n",
       "1 1100000000.00  서울특별시  NaN  \n",
       "2 4141000000.00    경기도  군포시  \n",
       "3 1100000000.00  서울특별시  NaN  \n",
       "4 1100000000.00  서울특별시  NaN  "
      ]
     },
     "execution_count": 355,
     "metadata": {},
     "output_type": "execute_result"
    }
   ],
   "source": [
    "us_total = us_total.drop(['시도코드', '시군구코드'], axis=1)\n",
    "us_total.head()"
   ]
  },
  {
   "cell_type": "code",
   "execution_count": 356,
   "metadata": {},
   "outputs": [
    {
     "data": {
      "text/plain": [
       "((81512621, 13), (3090035, 11))"
      ]
     },
     "execution_count": 356,
     "metadata": {},
     "output_type": "execute_result"
    }
   ],
   "source": [
    "is_total.shape, us_total.shape"
   ]
  },
  {
   "attachments": {},
   "cell_type": "markdown",
   "metadata": {},
   "source": [
    "## 등록(말소 유지) & 제원 병합"
   ]
  },
  {
   "cell_type": "code",
   "execution_count": 109,
   "metadata": {},
   "outputs": [],
   "source": [
    "# 10.3s\n",
    "cse = carr.merge(srcr, on='제원관리번호', how='left')"
   ]
  },
  {
   "cell_type": "code",
   "execution_count": 110,
   "metadata": {},
   "outputs": [
    {
     "data": {
      "text/plain": [
       "Index(['차대번호', '법정동코드', '차량말소YN', '제원관리번호', '차량연식', '차종', '용도', '최초등록일자',\n",
       "       '제작일자', '차량관리번호', '연료', '차종유형'],\n",
       "      dtype='object')"
      ]
     },
     "execution_count": 110,
     "metadata": {},
     "output_type": "execute_result"
    }
   ],
   "source": [
    "cse.columns"
   ]
  },
  {
   "attachments": {},
   "cell_type": "markdown",
   "metadata": {},
   "source": [
    "## 등록&제원&이력 병합"
   ]
  },
  {
   "cell_type": "code",
   "execution_count": 111,
   "metadata": {},
   "outputs": [],
   "source": [
    "# 2m 6.0s\n",
    "ersr = cse.merge(hisr, on='차량관리번호', how='left')"
   ]
  },
  {
   "cell_type": "code",
   "execution_count": 112,
   "metadata": {},
   "outputs": [
    {
     "data": {
      "text/plain": [
       "Index(['차대번호', '법정동코드', '차량말소YN_x', '제원관리번호', '차량연식', '차종', '용도', '최초등록일자',\n",
       "       '제작일자', '차량관리번호', '연료', '차종유형', '차량말소YN_y', '변경일자'],\n",
       "      dtype='object')"
      ]
     },
     "execution_count": 112,
     "metadata": {},
     "output_type": "execute_result"
    }
   ],
   "source": [
    "ersr.columns"
   ]
  },
  {
   "cell_type": "code",
   "execution_count": 113,
   "metadata": {},
   "outputs": [],
   "source": [
    "# 1. 등록 차량말소와 등록이력 차량 말소 둘 모두 해당되는 데이터 추출\n",
    "ersr = ersr.loc[(ersr['차량말소YN_x'] == 'Y') & (ersr['차량말소YN_y'] == 'Y')].reset_index(drop=True)"
   ]
  },
  {
   "cell_type": "code",
   "execution_count": 114,
   "metadata": {},
   "outputs": [],
   "source": [
    "# 2. 변경일자 기준 최신 데이터만 남기고 차대번호 중복 제거\n",
    "ersr = ersr.sort_values('변경일자', ascending=False).drop_duplicates('차대번호').reset_index(drop=True)"
   ]
  },
  {
   "cell_type": "code",
   "execution_count": 115,
   "metadata": {},
   "outputs": [],
   "source": [
    "# 3. 변경일자 2019.01.01 이후만 추출\n",
    "ersr = ersr[ersr['변경일자'] >= 20190101].reset_index(drop=True)"
   ]
  },
  {
   "attachments": {},
   "cell_type": "markdown",
   "metadata": {},
   "source": [
    "## 등록&제원&이력&법정동코드 병합(errc)"
   ]
  },
  {
   "cell_type": "code",
   "execution_count": 116,
   "metadata": {},
   "outputs": [],
   "source": [
    "# 매칭 후 '시도' 빈값 없음\n",
    "errc = ersr.merge(coder, on='법정동코드', how='left')"
   ]
  },
  {
   "attachments": {},
   "cell_type": "markdown",
   "metadata": {},
   "source": [
    "# Load"
   ]
  },
  {
   "attachments": {},
   "cell_type": "markdown",
   "metadata": {},
   "source": [
    "## 5등급 지역별 조기폐차"
   ]
  },
  {
   "cell_type": "code",
   "execution_count": 117,
   "metadata": {},
   "outputs": [
    {
     "name": "stdout",
     "output_type": "stream",
     "text": [
      "<class 'pandas.core.frame.DataFrame'>\n",
      "RangeIndex: 68 entries, 0 to 67\n",
      "Data columns (total 6 columns):\n",
      " #   Column      Non-Null Count  Dtype  \n",
      "---  ------      --------------  -----  \n",
      " 0   RGN         68 non-null     object \n",
      " 1   YR          68 non-null     int64  \n",
      " 2   VHCL_MKCNT  68 non-null     int64  \n",
      " 3   VHCL_REDE   68 non-null     float64\n",
      " 4   ELPDSRC     68 non-null     float64\n",
      " 5   NTRL_DCLN   68 non-null     float64\n",
      "dtypes: float64(3), int64(2), object(1)\n",
      "memory usage: 3.3+ KB\n"
     ]
    }
   ],
   "source": [
    "# about 2.1s\n",
    "name = '5등급_조기폐차'\n",
    "file_name = f'{name}.xlsx'\n",
    "df1 = pd.read_excel(os.path.join(raw3_fold, file_name))\n",
    "df1.info()"
   ]
  },
  {
   "cell_type": "code",
   "execution_count": 118,
   "metadata": {},
   "outputs": [
    {
     "data": {
      "text/html": [
       "<div>\n",
       "<style scoped>\n",
       "    .dataframe tbody tr th:only-of-type {\n",
       "        vertical-align: middle;\n",
       "    }\n",
       "\n",
       "    .dataframe tbody tr th {\n",
       "        vertical-align: top;\n",
       "    }\n",
       "\n",
       "    .dataframe thead th {\n",
       "        text-align: right;\n",
       "    }\n",
       "</style>\n",
       "<table border=\"1\" class=\"dataframe\">\n",
       "  <thead>\n",
       "    <tr style=\"text-align: right;\">\n",
       "      <th></th>\n",
       "      <th>RGN</th>\n",
       "      <th>YR</th>\n",
       "      <th>VHCL_MKCNT</th>\n",
       "      <th>VHCL_REDE</th>\n",
       "      <th>ELPDSRC</th>\n",
       "      <th>NTRL_DCLN</th>\n",
       "    </tr>\n",
       "  </thead>\n",
       "  <tbody>\n",
       "    <tr>\n",
       "      <th>0</th>\n",
       "      <td>서울</td>\n",
       "      <td>2019</td>\n",
       "      <td>199898</td>\n",
       "      <td>46949.67</td>\n",
       "      <td>31792.00</td>\n",
       "      <td>15157.67</td>\n",
       "    </tr>\n",
       "    <tr>\n",
       "      <th>1</th>\n",
       "      <td>서울</td>\n",
       "      <td>2020</td>\n",
       "      <td>161864</td>\n",
       "      <td>38034.00</td>\n",
       "      <td>23045.00</td>\n",
       "      <td>14989.00</td>\n",
       "    </tr>\n",
       "    <tr>\n",
       "      <th>2</th>\n",
       "      <td>서울</td>\n",
       "      <td>2021</td>\n",
       "      <td>138381</td>\n",
       "      <td>23483.00</td>\n",
       "      <td>8148.00</td>\n",
       "      <td>15335.00</td>\n",
       "    </tr>\n",
       "    <tr>\n",
       "      <th>3</th>\n",
       "      <td>서울</td>\n",
       "      <td>2022</td>\n",
       "      <td>120996</td>\n",
       "      <td>17385.00</td>\n",
       "      <td>2476.00</td>\n",
       "      <td>14909.00</td>\n",
       "    </tr>\n",
       "    <tr>\n",
       "      <th>4</th>\n",
       "      <td>인천</td>\n",
       "      <td>2019</td>\n",
       "      <td>90619</td>\n",
       "      <td>20596.67</td>\n",
       "      <td>16421.67</td>\n",
       "      <td>4175.00</td>\n",
       "    </tr>\n",
       "  </tbody>\n",
       "</table>\n",
       "</div>"
      ],
      "text/plain": [
       "  RGN    YR  VHCL_MKCNT  VHCL_REDE  ELPDSRC  NTRL_DCLN\n",
       "0  서울  2019      199898   46949.67 31792.00   15157.67\n",
       "1  서울  2020      161864   38034.00 23045.00   14989.00\n",
       "2  서울  2021      138381   23483.00  8148.00   15335.00\n",
       "3  서울  2022      120996   17385.00  2476.00   14909.00\n",
       "4  인천  2019       90619   20596.67 16421.67    4175.00"
      ]
     },
     "execution_count": 118,
     "metadata": {},
     "output_type": "execute_result"
    }
   ],
   "source": [
    "df1.head()"
   ]
  },
  {
   "attachments": {},
   "cell_type": "markdown",
   "metadata": {},
   "source": [
    "## 5등급 저공해 미조치"
   ]
  },
  {
   "cell_type": "code",
   "execution_count": 119,
   "metadata": {},
   "outputs": [
    {
     "name": "stdout",
     "output_type": "stream",
     "text": [
      "<class 'pandas.core.frame.DataFrame'>\n",
      "RangeIndex: 12 entries, 0 to 11\n",
      "Data columns (total 3 columns):\n",
      " #   Column  Non-Null Count  Dtype \n",
      "---  ------  --------------  ----- \n",
      " 0   지역      12 non-null     object\n",
      " 1   구분      12 non-null     object\n",
      " 2   차량대수    12 non-null     int64 \n",
      "dtypes: int64(1), object(2)\n",
      "memory usage: 416.0+ bytes\n"
     ]
    }
   ],
   "source": [
    "# about 2.1s\n",
    "name = '5등급_저공해미조치'\n",
    "file_name = f'{name}.xlsx'\n",
    "no_dpf = pd.read_excel(os.path.join(raw3_fold, file_name))\n",
    "no_dpf.info()"
   ]
  },
  {
   "cell_type": "code",
   "execution_count": 120,
   "metadata": {},
   "outputs": [
    {
     "data": {
      "text/html": [
       "<div>\n",
       "<style scoped>\n",
       "    .dataframe tbody tr th:only-of-type {\n",
       "        vertical-align: middle;\n",
       "    }\n",
       "\n",
       "    .dataframe tbody tr th {\n",
       "        vertical-align: top;\n",
       "    }\n",
       "\n",
       "    .dataframe thead th {\n",
       "        text-align: right;\n",
       "    }\n",
       "</style>\n",
       "<table border=\"1\" class=\"dataframe\">\n",
       "  <thead>\n",
       "    <tr style=\"text-align: right;\">\n",
       "      <th></th>\n",
       "      <th>지역</th>\n",
       "      <th>구분</th>\n",
       "      <th>차량대수</th>\n",
       "    </tr>\n",
       "  </thead>\n",
       "  <tbody>\n",
       "    <tr>\n",
       "      <th>0</th>\n",
       "      <td>수도권</td>\n",
       "      <td>2차계절제_시작</td>\n",
       "      <td>539748</td>\n",
       "    </tr>\n",
       "    <tr>\n",
       "      <th>1</th>\n",
       "      <td>수도권</td>\n",
       "      <td>2차계절제_종료</td>\n",
       "      <td>515615</td>\n",
       "    </tr>\n",
       "    <tr>\n",
       "      <th>2</th>\n",
       "      <td>수도권</td>\n",
       "      <td>3차계절제_시작</td>\n",
       "      <td>459110</td>\n",
       "    </tr>\n",
       "    <tr>\n",
       "      <th>3</th>\n",
       "      <td>수도권</td>\n",
       "      <td>3차계절제_종료</td>\n",
       "      <td>436921</td>\n",
       "    </tr>\n",
       "    <tr>\n",
       "      <th>4</th>\n",
       "      <td>수도권</td>\n",
       "      <td>4차계절제_시작</td>\n",
       "      <td>394533</td>\n",
       "    </tr>\n",
       "  </tbody>\n",
       "</table>\n",
       "</div>"
      ],
      "text/plain": [
       "    지역        구분    차량대수\n",
       "0  수도권  2차계절제_시작  539748\n",
       "1  수도권  2차계절제_종료  515615\n",
       "2  수도권  3차계절제_시작  459110\n",
       "3  수도권  3차계절제_종료  436921\n",
       "4  수도권  4차계절제_시작  394533"
      ]
     },
     "execution_count": 120,
     "metadata": {},
     "output_type": "execute_result"
    }
   ],
   "source": [
    "no_dpf.head()"
   ]
  },
  {
   "attachments": {},
   "cell_type": "markdown",
   "metadata": {},
   "source": [
    "## [로드] 운행제한 테이블(limit)"
   ]
  },
  {
   "cell_type": "code",
   "execution_count": 308,
   "metadata": {},
   "outputs": [
    {
     "name": "stdout",
     "output_type": "stream",
     "text": [
      "<class 'pandas.core.frame.DataFrame'>\n",
      "RangeIndex: 731507 entries, 0 to 731506\n",
      "Data columns (total 7 columns):\n",
      " #   Column  Non-Null Count   Dtype  \n",
      "---  ------  --------------   -----  \n",
      " 0   VIN     731507 non-null  object \n",
      " 1   계절제_1차  37861 non-null   float64\n",
      " 2   계절제_2차  54788 non-null   float64\n",
      " 3   계절제_3차  68278 non-null   float64\n",
      " 4   비상시     94084 non-null   float64\n",
      " 5   상시      84185 non-null   float64\n",
      " 6   계절제_4차  29307 non-null   float64\n",
      "dtypes: float64(6), object(1)\n",
      "memory usage: 39.1+ MB\n"
     ]
    }
   ],
   "source": [
    "# about 2.1s\n",
    "name = '차대번호별 적발'\n",
    "file_name = f'{name}.csv'\n",
    "limit = pd.read_csv(os.path.join(raw3_fold, file_name), low_memory=False, encoding='cp949')\n",
    "limit.info()"
   ]
  },
  {
   "cell_type": "code",
   "execution_count": 309,
   "metadata": {},
   "outputs": [
    {
     "data": {
      "text/html": [
       "<div>\n",
       "<style scoped>\n",
       "    .dataframe tbody tr th:only-of-type {\n",
       "        vertical-align: middle;\n",
       "    }\n",
       "\n",
       "    .dataframe tbody tr th {\n",
       "        vertical-align: top;\n",
       "    }\n",
       "\n",
       "    .dataframe thead th {\n",
       "        text-align: right;\n",
       "    }\n",
       "</style>\n",
       "<table border=\"1\" class=\"dataframe\">\n",
       "  <thead>\n",
       "    <tr style=\"text-align: right;\">\n",
       "      <th></th>\n",
       "      <th>VIN</th>\n",
       "      <th>계절제_1차</th>\n",
       "      <th>계절제_2차</th>\n",
       "      <th>계절제_3차</th>\n",
       "      <th>비상시</th>\n",
       "      <th>상시</th>\n",
       "      <th>계절제_4차</th>\n",
       "    </tr>\n",
       "  </thead>\n",
       "  <tbody>\n",
       "    <tr>\n",
       "      <th>0</th>\n",
       "      <td>KPBFA2AD14P100772</td>\n",
       "      <td>1.00</td>\n",
       "      <td>NaN</td>\n",
       "      <td>NaN</td>\n",
       "      <td>1.00</td>\n",
       "      <td>NaN</td>\n",
       "      <td>NaN</td>\n",
       "    </tr>\n",
       "    <tr>\n",
       "      <th>1</th>\n",
       "      <td>KMJWWH7JP5U656738</td>\n",
       "      <td>4.00</td>\n",
       "      <td>2.00</td>\n",
       "      <td>25.00</td>\n",
       "      <td>3.00</td>\n",
       "      <td>NaN</td>\n",
       "      <td>1.00</td>\n",
       "    </tr>\n",
       "    <tr>\n",
       "      <th>2</th>\n",
       "      <td>KNAJC52136A532787</td>\n",
       "      <td>2.00</td>\n",
       "      <td>NaN</td>\n",
       "      <td>NaN</td>\n",
       "      <td>1.00</td>\n",
       "      <td>NaN</td>\n",
       "      <td>NaN</td>\n",
       "    </tr>\n",
       "    <tr>\n",
       "      <th>3</th>\n",
       "      <td>KMHSH81WP6U081899</td>\n",
       "      <td>4.00</td>\n",
       "      <td>NaN</td>\n",
       "      <td>NaN</td>\n",
       "      <td>1.00</td>\n",
       "      <td>NaN</td>\n",
       "      <td>NaN</td>\n",
       "    </tr>\n",
       "    <tr>\n",
       "      <th>4</th>\n",
       "      <td>KNAJE55186K143510</td>\n",
       "      <td>1.00</td>\n",
       "      <td>NaN</td>\n",
       "      <td>NaN</td>\n",
       "      <td>1.00</td>\n",
       "      <td>NaN</td>\n",
       "      <td>NaN</td>\n",
       "    </tr>\n",
       "  </tbody>\n",
       "</table>\n",
       "</div>"
      ],
      "text/plain": [
       "                 VIN  계절제_1차  계절제_2차  계절제_3차  비상시  상시  계절제_4차\n",
       "0  KPBFA2AD14P100772    1.00     NaN     NaN 1.00 NaN     NaN\n",
       "1  KMJWWH7JP5U656738    4.00    2.00   25.00 3.00 NaN    1.00\n",
       "2  KNAJC52136A532787    2.00     NaN     NaN 1.00 NaN     NaN\n",
       "3  KMHSH81WP6U081899    4.00     NaN     NaN 1.00 NaN     NaN\n",
       "4  KNAJE55186K143510    1.00     NaN     NaN 1.00 NaN     NaN"
      ]
     },
     "execution_count": 309,
     "metadata": {},
     "output_type": "execute_result"
    }
   ],
   "source": [
    "limit.head()"
   ]
  },
  {
   "cell_type": "code",
   "execution_count": 310,
   "metadata": {},
   "outputs": [
    {
     "data": {
      "text/plain": [
       "count   84185.00\n",
       "mean        5.27\n",
       "std         5.66\n",
       "min         1.00\n",
       "25%         1.00\n",
       "50%         4.00\n",
       "75%         7.00\n",
       "max        58.00\n",
       "Name: 상시, dtype: float64"
      ]
     },
     "execution_count": 310,
     "metadata": {},
     "output_type": "execute_result"
    }
   ],
   "source": [
    "limit['상시'].describe()"
   ]
  },
  {
   "attachments": {},
   "cell_type": "markdown",
   "metadata": {},
   "source": [
    "## [로드] 계절제 적발지역별 차대번호(slimit)"
   ]
  },
  {
   "cell_type": "code",
   "execution_count": 123,
   "metadata": {},
   "outputs": [
    {
     "name": "stdout",
     "output_type": "stream",
     "text": [
      "<class 'pandas.core.frame.DataFrame'>\n",
      "RangeIndex: 163294 entries, 0 to 163293\n",
      "Data columns (total 9 columns):\n",
      " #   Column  Non-Null Count   Dtype  \n",
      "---  ------  --------------   -----  \n",
      " 0   적발지역    163294 non-null  object \n",
      " 1   적발시도    163294 non-null  object \n",
      " 2   차대번호    163294 non-null  object \n",
      " 3   계절제_1차  39111 non-null   float64\n",
      " 4   계절제_2차  58088 non-null   float64\n",
      " 5   계절제_3차  73775 non-null   float64\n",
      " 6   계절제_4차  31673 non-null   float64\n",
      " 7   차종      162378 non-null  object \n",
      " 8   차종유형    162378 non-null  object \n",
      "dtypes: float64(4), object(5)\n",
      "memory usage: 11.2+ MB\n"
     ]
    }
   ],
   "source": [
    "# about 1.8s\n",
    "name = '계절제 적발지역 차대번호'\n",
    "file_name = f'{name}.csv'\n",
    "slimit = pd.read_csv(os.path.join(raw3_fold, file_name), low_memory=False, encoding='cp949')\n",
    "slimit.info()"
   ]
  },
  {
   "attachments": {},
   "cell_type": "markdown",
   "metadata": {},
   "source": [
    "# 분석"
   ]
  },
  {
   "cell_type": "code",
   "execution_count": 125,
   "metadata": {},
   "outputs": [
    {
     "data": {
      "text/plain": [
       "Series([], Name: 적발건수, dtype: float64)"
      ]
     },
     "execution_count": 125,
     "metadata": {},
     "output_type": "execute_result"
    }
   ],
   "source": [
    "us_total.loc[us_total['적발유형'] == 'H'].groupby(['시도'])['적발건수'].sum()"
   ]
  },
  {
   "attachments": {},
   "cell_type": "markdown",
   "metadata": {},
   "source": [
    "## 5등급"
   ]
  },
  {
   "attachments": {},
   "cell_type": "markdown",
   "metadata": {},
   "source": [
    "### 5등급 지역별 조기폐차 현황"
   ]
  },
  {
   "cell_type": "code",
   "execution_count": 156,
   "metadata": {},
   "outputs": [
    {
     "data": {
      "text/html": [
       "<div>\n",
       "<style scoped>\n",
       "    .dataframe tbody tr th:only-of-type {\n",
       "        vertical-align: middle;\n",
       "    }\n",
       "\n",
       "    .dataframe tbody tr th {\n",
       "        vertical-align: top;\n",
       "    }\n",
       "\n",
       "    .dataframe thead th {\n",
       "        text-align: right;\n",
       "    }\n",
       "</style>\n",
       "<table border=\"1\" class=\"dataframe\">\n",
       "  <thead>\n",
       "    <tr style=\"text-align: right;\">\n",
       "      <th></th>\n",
       "      <th>차대번호</th>\n",
       "      <th>법정동코드</th>\n",
       "      <th>차량말소YN</th>\n",
       "      <th>제원관리번호</th>\n",
       "      <th>차량연식</th>\n",
       "      <th>차종</th>\n",
       "      <th>용도</th>\n",
       "      <th>최초등록일자</th>\n",
       "      <th>제작일자</th>\n",
       "      <th>차량관리번호</th>\n",
       "      <th>연료</th>\n",
       "      <th>차종유형</th>\n",
       "      <th>DPF_YN</th>\n",
       "      <th>시도코드</th>\n",
       "      <th>시군구코드</th>\n",
       "      <th>시도</th>\n",
       "      <th>시군구</th>\n",
       "      <th>조기폐차상태코드</th>\n",
       "      <th>조기폐차최종승인YN</th>\n",
       "      <th>말소일자</th>\n",
       "    </tr>\n",
       "  </thead>\n",
       "  <tbody>\n",
       "    <tr>\n",
       "      <th>0</th>\n",
       "      <td>KL3C3AHF27K000082</td>\n",
       "      <td>4481025000</td>\n",
       "      <td>N</td>\n",
       "      <td>A0310007202023307</td>\n",
       "      <td>2007</td>\n",
       "      <td>화물</td>\n",
       "      <td>개인용</td>\n",
       "      <td>20220711</td>\n",
       "      <td>20070627.00</td>\n",
       "      <td>KL3C3AHF27K000082-01</td>\n",
       "      <td>경유</td>\n",
       "      <td>대형</td>\n",
       "      <td>NaN</td>\n",
       "      <td>44.00</td>\n",
       "      <td>810.00</td>\n",
       "      <td>충청남도</td>\n",
       "      <td>예산군</td>\n",
       "      <td>NaN</td>\n",
       "      <td>NaN</td>\n",
       "      <td>NaN</td>\n",
       "    </tr>\n",
       "    <tr>\n",
       "      <th>1</th>\n",
       "      <td>KL3C3AHF27K000068</td>\n",
       "      <td>4372033032</td>\n",
       "      <td>N</td>\n",
       "      <td>A0310007202023307</td>\n",
       "      <td>2007</td>\n",
       "      <td>화물</td>\n",
       "      <td>개인용</td>\n",
       "      <td>20220413</td>\n",
       "      <td>20070618.00</td>\n",
       "      <td>KL3C3AHF27K000068-01</td>\n",
       "      <td>경유</td>\n",
       "      <td>대형</td>\n",
       "      <td>NaN</td>\n",
       "      <td>43.00</td>\n",
       "      <td>720.00</td>\n",
       "      <td>충청북도</td>\n",
       "      <td>보은군</td>\n",
       "      <td>NaN</td>\n",
       "      <td>NaN</td>\n",
       "      <td>NaN</td>\n",
       "    </tr>\n",
       "    <tr>\n",
       "      <th>2</th>\n",
       "      <td>1P3EW65G5XV503775</td>\n",
       "      <td>4157010600</td>\n",
       "      <td>N</td>\n",
       "      <td>10020204100011319</td>\n",
       "      <td>1999</td>\n",
       "      <td>승용</td>\n",
       "      <td>개인용</td>\n",
       "      <td>20211124</td>\n",
       "      <td>20190905</td>\n",
       "      <td>1P3EW65G5XV503775-01</td>\n",
       "      <td>휘발유</td>\n",
       "      <td>대형</td>\n",
       "      <td>NaN</td>\n",
       "      <td>41.00</td>\n",
       "      <td>570.00</td>\n",
       "      <td>경기도</td>\n",
       "      <td>김포시</td>\n",
       "      <td>NaN</td>\n",
       "      <td>NaN</td>\n",
       "      <td>NaN</td>\n",
       "    </tr>\n",
       "    <tr>\n",
       "      <th>3</th>\n",
       "      <td>1P3EW65G5YV606177</td>\n",
       "      <td>5011013700</td>\n",
       "      <td>N</td>\n",
       "      <td>10020204100001319</td>\n",
       "      <td>2000</td>\n",
       "      <td>승용</td>\n",
       "      <td>개인용</td>\n",
       "      <td>20211124</td>\n",
       "      <td>20190802</td>\n",
       "      <td>1P3EW65G5YV606177-01</td>\n",
       "      <td>휘발유</td>\n",
       "      <td>대형</td>\n",
       "      <td>NaN</td>\n",
       "      <td>50.00</td>\n",
       "      <td>110.00</td>\n",
       "      <td>제주특별자치도</td>\n",
       "      <td>제주시</td>\n",
       "      <td>NaN</td>\n",
       "      <td>NaN</td>\n",
       "      <td>NaN</td>\n",
       "    </tr>\n",
       "    <tr>\n",
       "      <th>4</th>\n",
       "      <td>KMCYSS7JP7U084697</td>\n",
       "      <td>4423038028</td>\n",
       "      <td>N</td>\n",
       "      <td>A0810003403394206</td>\n",
       "      <td>2007</td>\n",
       "      <td>특수</td>\n",
       "      <td>개인용</td>\n",
       "      <td>20210826</td>\n",
       "      <td>20070227</td>\n",
       "      <td>KMCYSS7JP7U084697-01</td>\n",
       "      <td>경유</td>\n",
       "      <td>중형</td>\n",
       "      <td>NaN</td>\n",
       "      <td>44.00</td>\n",
       "      <td>230.00</td>\n",
       "      <td>충청남도</td>\n",
       "      <td>논산시</td>\n",
       "      <td>NaN</td>\n",
       "      <td>NaN</td>\n",
       "      <td>NaN</td>\n",
       "    </tr>\n",
       "  </tbody>\n",
       "</table>\n",
       "</div>"
      ],
      "text/plain": [
       "                차대번호       법정동코드 차량말소YN             제원관리번호  차량연식  차종   용도   \n",
       "0  KL3C3AHF27K000082  4481025000      N  A0310007202023307  2007  화물  개인용  \\\n",
       "1  KL3C3AHF27K000068  4372033032      N  A0310007202023307  2007  화물  개인용   \n",
       "2  1P3EW65G5XV503775  4157010600      N  10020204100011319  1999  승용  개인용   \n",
       "3  1P3EW65G5YV606177  5011013700      N  10020204100001319  2000  승용  개인용   \n",
       "4  KMCYSS7JP7U084697  4423038028      N  A0810003403394206  2007  특수  개인용   \n",
       "\n",
       "     최초등록일자        제작일자                차량관리번호   연료 차종유형 DPF_YN  시도코드  시군구코드   \n",
       "0  20220711 20070627.00  KL3C3AHF27K000082-01   경유   대형    NaN 44.00 810.00  \\\n",
       "1  20220413 20070618.00  KL3C3AHF27K000068-01   경유   대형    NaN 43.00 720.00   \n",
       "2  20211124    20190905  1P3EW65G5XV503775-01  휘발유   대형    NaN 41.00 570.00   \n",
       "3  20211124    20190802  1P3EW65G5YV606177-01  휘발유   대형    NaN 50.00 110.00   \n",
       "4  20210826    20070227  KMCYSS7JP7U084697-01   경유   중형    NaN 44.00 230.00   \n",
       "\n",
       "        시도  시군구 조기폐차상태코드 조기폐차최종승인YN  말소일자  \n",
       "0     충청남도  예산군      NaN        NaN   NaN  \n",
       "1     충청북도  보은군      NaN        NaN   NaN  \n",
       "2      경기도  김포시      NaN        NaN   NaN  \n",
       "3  제주특별자치도  제주시      NaN        NaN   NaN  \n",
       "4     충청남도  논산시      NaN        NaN   NaN  "
      ]
     },
     "execution_count": 156,
     "metadata": {},
     "output_type": "execute_result"
    }
   ],
   "source": [
    "df.head()"
   ]
  },
  {
   "cell_type": "code",
   "execution_count": 157,
   "metadata": {},
   "outputs": [
    {
     "data": {
      "text/html": [
       "<div>\n",
       "<style scoped>\n",
       "    .dataframe tbody tr th:only-of-type {\n",
       "        vertical-align: middle;\n",
       "    }\n",
       "\n",
       "    .dataframe tbody tr th {\n",
       "        vertical-align: top;\n",
       "    }\n",
       "\n",
       "    .dataframe thead th {\n",
       "        text-align: right;\n",
       "    }\n",
       "</style>\n",
       "<table border=\"1\" class=\"dataframe\">\n",
       "  <thead>\n",
       "    <tr style=\"text-align: right;\">\n",
       "      <th></th>\n",
       "      <th>차대번호</th>\n",
       "      <th>법정동코드</th>\n",
       "      <th>차량말소YN_x</th>\n",
       "      <th>제원관리번호</th>\n",
       "      <th>차량연식</th>\n",
       "      <th>차종</th>\n",
       "      <th>용도</th>\n",
       "      <th>최초등록일자</th>\n",
       "      <th>제작일자</th>\n",
       "      <th>차량관리번호</th>\n",
       "      <th>...</th>\n",
       "      <th>차종유형</th>\n",
       "      <th>차량말소YN_y</th>\n",
       "      <th>변경일자</th>\n",
       "      <th>시도코드</th>\n",
       "      <th>시군구코드</th>\n",
       "      <th>시도</th>\n",
       "      <th>시군구</th>\n",
       "      <th>변경일자_년</th>\n",
       "      <th>변경일자_월</th>\n",
       "      <th>변경일자_일</th>\n",
       "    </tr>\n",
       "  </thead>\n",
       "  <tbody>\n",
       "    <tr>\n",
       "      <th>0</th>\n",
       "      <td>440234211982</td>\n",
       "      <td>2811013800</td>\n",
       "      <td>Y</td>\n",
       "      <td>10172800010000</td>\n",
       "      <td>2002</td>\n",
       "      <td>화물</td>\n",
       "      <td>관용</td>\n",
       "      <td>20020318</td>\n",
       "      <td>20020313.00</td>\n",
       "      <td>440234211982-01</td>\n",
       "      <td>...</td>\n",
       "      <td>중형</td>\n",
       "      <td>Y</td>\n",
       "      <td>20220628.0</td>\n",
       "      <td>28</td>\n",
       "      <td>110</td>\n",
       "      <td>인천광역시</td>\n",
       "      <td>중구</td>\n",
       "      <td>2022</td>\n",
       "      <td>06</td>\n",
       "      <td>28</td>\n",
       "    </tr>\n",
       "    <tr>\n",
       "      <th>1</th>\n",
       "      <td>KNAJC52183A097253</td>\n",
       "      <td>4825037023</td>\n",
       "      <td>Y</td>\n",
       "      <td>A0110002000041302</td>\n",
       "      <td>2003</td>\n",
       "      <td>승용</td>\n",
       "      <td>개인용</td>\n",
       "      <td>20030109</td>\n",
       "      <td>20030104</td>\n",
       "      <td>KNAJC52183A097253-01</td>\n",
       "      <td>...</td>\n",
       "      <td>대형</td>\n",
       "      <td>Y</td>\n",
       "      <td>20220628.0</td>\n",
       "      <td>48</td>\n",
       "      <td>250</td>\n",
       "      <td>경상남도</td>\n",
       "      <td>김해시</td>\n",
       "      <td>2022</td>\n",
       "      <td>06</td>\n",
       "      <td>28</td>\n",
       "    </tr>\n",
       "    <tr>\n",
       "      <th>2</th>\n",
       "      <td>KNCSC9342PS667181</td>\n",
       "      <td>2635010100</td>\n",
       "      <td>Y</td>\n",
       "      <td>10018600430000</td>\n",
       "      <td>1993</td>\n",
       "      <td>화물</td>\n",
       "      <td>개인용</td>\n",
       "      <td>19930727</td>\n",
       "      <td>NaN</td>\n",
       "      <td>KNCSC9342PS667181-01</td>\n",
       "      <td>...</td>\n",
       "      <td>소형</td>\n",
       "      <td>Y</td>\n",
       "      <td>20220628.0</td>\n",
       "      <td>26</td>\n",
       "      <td>350</td>\n",
       "      <td>부산광역시</td>\n",
       "      <td>해운대구</td>\n",
       "      <td>2022</td>\n",
       "      <td>06</td>\n",
       "      <td>28</td>\n",
       "    </tr>\n",
       "    <tr>\n",
       "      <th>3</th>\n",
       "      <td>KMJWWH7JP3U533880</td>\n",
       "      <td>4725034030</td>\n",
       "      <td>Y</td>\n",
       "      <td>A0810003700112202</td>\n",
       "      <td>2003</td>\n",
       "      <td>승합</td>\n",
       "      <td>개인용</td>\n",
       "      <td>20030408</td>\n",
       "      <td>20030318.00</td>\n",
       "      <td>KMJWWH7JP3U533880-01</td>\n",
       "      <td>...</td>\n",
       "      <td>중형</td>\n",
       "      <td>Y</td>\n",
       "      <td>20220628.0</td>\n",
       "      <td>47</td>\n",
       "      <td>250</td>\n",
       "      <td>경상북도</td>\n",
       "      <td>상주시</td>\n",
       "      <td>2022</td>\n",
       "      <td>06</td>\n",
       "      <td>28</td>\n",
       "    </tr>\n",
       "    <tr>\n",
       "      <th>4</th>\n",
       "      <td>KNAJC52184A284285</td>\n",
       "      <td>3011011400</td>\n",
       "      <td>Y</td>\n",
       "      <td>A0110002001621303</td>\n",
       "      <td>2004</td>\n",
       "      <td>승용</td>\n",
       "      <td>개인용</td>\n",
       "      <td>20040308</td>\n",
       "      <td>20040225</td>\n",
       "      <td>KNAJC52184A284285-01</td>\n",
       "      <td>...</td>\n",
       "      <td>대형</td>\n",
       "      <td>Y</td>\n",
       "      <td>20220628.0</td>\n",
       "      <td>30</td>\n",
       "      <td>110</td>\n",
       "      <td>대전광역시</td>\n",
       "      <td>동구</td>\n",
       "      <td>2022</td>\n",
       "      <td>06</td>\n",
       "      <td>28</td>\n",
       "    </tr>\n",
       "  </tbody>\n",
       "</table>\n",
       "<p>5 rows × 21 columns</p>\n",
       "</div>"
      ],
      "text/plain": [
       "                차대번호       법정동코드 차량말소YN_x             제원관리번호  차량연식  차종   용도   \n",
       "0       440234211982  2811013800        Y     10172800010000  2002  화물   관용  \\\n",
       "1  KNAJC52183A097253  4825037023        Y  A0110002000041302  2003  승용  개인용   \n",
       "2  KNCSC9342PS667181  2635010100        Y     10018600430000  1993  화물  개인용   \n",
       "3  KMJWWH7JP3U533880  4725034030        Y  A0810003700112202  2003  승합  개인용   \n",
       "4  KNAJC52184A284285  3011011400        Y  A0110002001621303  2004  승용  개인용   \n",
       "\n",
       "     최초등록일자        제작일자                차량관리번호  ... 차종유형 차량말소YN_y        변경일자   \n",
       "0  20020318 20020313.00       440234211982-01  ...   중형        Y  20220628.0  \\\n",
       "1  20030109    20030104  KNAJC52183A097253-01  ...   대형        Y  20220628.0   \n",
       "2  19930727         NaN  KNCSC9342PS667181-01  ...   소형        Y  20220628.0   \n",
       "3  20030408 20030318.00  KMJWWH7JP3U533880-01  ...   중형        Y  20220628.0   \n",
       "4  20040308    20040225  KNAJC52184A284285-01  ...   대형        Y  20220628.0   \n",
       "\n",
       "  시도코드  시군구코드     시도   시군구 변경일자_년 변경일자_월 변경일자_일  \n",
       "0   28    110  인천광역시    중구   2022     06     28  \n",
       "1   48    250   경상남도   김해시   2022     06     28  \n",
       "2   26    350  부산광역시  해운대구   2022     06     28  \n",
       "3   47    250   경상북도   상주시   2022     06     28  \n",
       "4   30    110  대전광역시    동구   2022     06     28  \n",
       "\n",
       "[5 rows x 21 columns]"
      ]
     },
     "execution_count": 157,
     "metadata": {},
     "output_type": "execute_result"
    }
   ],
   "source": [
    "errc.head()"
   ]
  },
  {
   "cell_type": "code",
   "execution_count": 158,
   "metadata": {},
   "outputs": [],
   "source": [
    "dfm = df.copy()"
   ]
  },
  {
   "cell_type": "code",
   "execution_count": 159,
   "metadata": {},
   "outputs": [],
   "source": [
    "dfm['최초등록일자'] = dfm['최초등록일자'].astype('str')\n",
    "dfm['최초등록일자_년'] = dfm['최초등록일자'].str[:4]\n",
    "dfm['최초등록일자_월'] = dfm['최초등록일자'].str[4:6]\n",
    "dfm['최초등록일자_일'] = dfm['최초등록일자'].str[6:8]"
   ]
  },
  {
   "cell_type": "code",
   "execution_count": 130,
   "metadata": {},
   "outputs": [],
   "source": [
    "errc['변경일자'] = errc['변경일자'].astype('str')\n",
    "errc['변경일자_년'] = errc['변경일자'].str[:4]\n",
    "errc['변경일자_월'] = errc['변경일자'].str[4:6]\n",
    "errc['변경일자_일'] = errc['변경일자'].str[6:8]"
   ]
  },
  {
   "attachments": {},
   "cell_type": "markdown",
   "metadata": {},
   "source": [
    "### 시도, 연도별 차량 현황 분석"
   ]
  },
  {
   "cell_type": "code",
   "execution_count": 160,
   "metadata": {},
   "outputs": [],
   "source": [
    "# 2022년 차량 대수\n",
    "grp1 = dfm.groupby(['시도'], as_index=False)['차대번호'].count()\n",
    "grp1 = grp1.rename(columns={'차대번호':'차량대수'})\n",
    "grp1['연도'] = '2022'\n",
    "grp1 = grp1[['연도', '시도', '차량대수']]"
   ]
  },
  {
   "cell_type": "code",
   "execution_count": 132,
   "metadata": {},
   "outputs": [
    {
     "data": {
      "text/html": [
       "<div>\n",
       "<style scoped>\n",
       "    .dataframe tbody tr th:only-of-type {\n",
       "        vertical-align: middle;\n",
       "    }\n",
       "\n",
       "    .dataframe tbody tr th {\n",
       "        vertical-align: top;\n",
       "    }\n",
       "\n",
       "    .dataframe thead th {\n",
       "        text-align: right;\n",
       "    }\n",
       "</style>\n",
       "<table border=\"1\" class=\"dataframe\">\n",
       "  <thead>\n",
       "    <tr style=\"text-align: right;\">\n",
       "      <th></th>\n",
       "      <th>연도</th>\n",
       "      <th>시도</th>\n",
       "      <th>차량대수</th>\n",
       "    </tr>\n",
       "  </thead>\n",
       "  <tbody>\n",
       "    <tr>\n",
       "      <th>0</th>\n",
       "      <td>2022</td>\n",
       "      <td>강원도</td>\n",
       "      <td>48918</td>\n",
       "    </tr>\n",
       "    <tr>\n",
       "      <th>1</th>\n",
       "      <td>2022</td>\n",
       "      <td>경기도</td>\n",
       "      <td>229975</td>\n",
       "    </tr>\n",
       "    <tr>\n",
       "      <th>2</th>\n",
       "      <td>2022</td>\n",
       "      <td>경상남도</td>\n",
       "      <td>105851</td>\n",
       "    </tr>\n",
       "    <tr>\n",
       "      <th>3</th>\n",
       "      <td>2022</td>\n",
       "      <td>경상북도</td>\n",
       "      <td>123303</td>\n",
       "    </tr>\n",
       "    <tr>\n",
       "      <th>4</th>\n",
       "      <td>2022</td>\n",
       "      <td>광주광역시</td>\n",
       "      <td>26496</td>\n",
       "    </tr>\n",
       "  </tbody>\n",
       "</table>\n",
       "</div>"
      ],
      "text/plain": [
       "     연도     시도    차량대수\n",
       "0  2022    강원도   48918\n",
       "1  2022    경기도  229975\n",
       "2  2022   경상남도  105851\n",
       "3  2022   경상북도  123303\n",
       "4  2022  광주광역시   26496"
      ]
     },
     "execution_count": 132,
     "metadata": {},
     "output_type": "execute_result"
    }
   ],
   "source": [
    "grp1.head()"
   ]
  },
  {
   "cell_type": "code",
   "execution_count": 133,
   "metadata": {},
   "outputs": [],
   "source": [
    "# 4년간 차량 통계 기본 데이터셋\n",
    "yr_list = []\n",
    "ctpv_list = []\n",
    "for ctpv in grp1['시도'].unique():\n",
    "    for yr in ['2019', '2020', '2021', '2022']:\n",
    "        yr_list.append(yr)\n",
    "        ctpv_list.append(ctpv)\n",
    "base = pd.DataFrame({'연도':yr_list, '시도':ctpv_list})"
   ]
  },
  {
   "cell_type": "code",
   "execution_count": 134,
   "metadata": {},
   "outputs": [
    {
     "data": {
      "text/html": [
       "<div>\n",
       "<style scoped>\n",
       "    .dataframe tbody tr th:only-of-type {\n",
       "        vertical-align: middle;\n",
       "    }\n",
       "\n",
       "    .dataframe tbody tr th {\n",
       "        vertical-align: top;\n",
       "    }\n",
       "\n",
       "    .dataframe thead th {\n",
       "        text-align: right;\n",
       "    }\n",
       "</style>\n",
       "<table border=\"1\" class=\"dataframe\">\n",
       "  <thead>\n",
       "    <tr style=\"text-align: right;\">\n",
       "      <th></th>\n",
       "      <th>연도</th>\n",
       "      <th>시도</th>\n",
       "    </tr>\n",
       "  </thead>\n",
       "  <tbody>\n",
       "    <tr>\n",
       "      <th>0</th>\n",
       "      <td>2019</td>\n",
       "      <td>강원도</td>\n",
       "    </tr>\n",
       "    <tr>\n",
       "      <th>1</th>\n",
       "      <td>2020</td>\n",
       "      <td>강원도</td>\n",
       "    </tr>\n",
       "    <tr>\n",
       "      <th>2</th>\n",
       "      <td>2021</td>\n",
       "      <td>강원도</td>\n",
       "    </tr>\n",
       "    <tr>\n",
       "      <th>3</th>\n",
       "      <td>2022</td>\n",
       "      <td>강원도</td>\n",
       "    </tr>\n",
       "    <tr>\n",
       "      <th>4</th>\n",
       "      <td>2019</td>\n",
       "      <td>경기도</td>\n",
       "    </tr>\n",
       "  </tbody>\n",
       "</table>\n",
       "</div>"
      ],
      "text/plain": [
       "     연도   시도\n",
       "0  2019  강원도\n",
       "1  2020  강원도\n",
       "2  2021  강원도\n",
       "3  2022  강원도\n",
       "4  2019  경기도"
      ]
     },
     "execution_count": 134,
     "metadata": {},
     "output_type": "execute_result"
    }
   ],
   "source": [
    "base.head()"
   ]
  },
  {
   "cell_type": "code",
   "execution_count": 135,
   "metadata": {},
   "outputs": [
    {
     "data": {
      "text/html": [
       "<div>\n",
       "<style scoped>\n",
       "    .dataframe tbody tr th:only-of-type {\n",
       "        vertical-align: middle;\n",
       "    }\n",
       "\n",
       "    .dataframe tbody tr th {\n",
       "        vertical-align: top;\n",
       "    }\n",
       "\n",
       "    .dataframe thead th {\n",
       "        text-align: right;\n",
       "    }\n",
       "</style>\n",
       "<table border=\"1\" class=\"dataframe\">\n",
       "  <thead>\n",
       "    <tr style=\"text-align: right;\">\n",
       "      <th></th>\n",
       "      <th>연도</th>\n",
       "      <th>시도</th>\n",
       "      <th>등록대수</th>\n",
       "    </tr>\n",
       "  </thead>\n",
       "  <tbody>\n",
       "    <tr>\n",
       "      <th>0</th>\n",
       "      <td>1950</td>\n",
       "      <td>경기도</td>\n",
       "      <td>1</td>\n",
       "    </tr>\n",
       "    <tr>\n",
       "      <th>1</th>\n",
       "      <td>1955</td>\n",
       "      <td>강원도</td>\n",
       "      <td>1</td>\n",
       "    </tr>\n",
       "    <tr>\n",
       "      <th>2</th>\n",
       "      <td>1958</td>\n",
       "      <td>경상북도</td>\n",
       "      <td>1</td>\n",
       "    </tr>\n",
       "    <tr>\n",
       "      <th>3</th>\n",
       "      <td>1962</td>\n",
       "      <td>강원도</td>\n",
       "      <td>4</td>\n",
       "    </tr>\n",
       "    <tr>\n",
       "      <th>4</th>\n",
       "      <td>1962</td>\n",
       "      <td>경기도</td>\n",
       "      <td>2</td>\n",
       "    </tr>\n",
       "    <tr>\n",
       "      <th>...</th>\n",
       "      <td>...</td>\n",
       "      <td>...</td>\n",
       "      <td>...</td>\n",
       "    </tr>\n",
       "    <tr>\n",
       "      <th>812</th>\n",
       "      <td>2021</td>\n",
       "      <td>울산광역시</td>\n",
       "      <td>1</td>\n",
       "    </tr>\n",
       "    <tr>\n",
       "      <th>813</th>\n",
       "      <td>2021</td>\n",
       "      <td>제주특별자치도</td>\n",
       "      <td>1</td>\n",
       "    </tr>\n",
       "    <tr>\n",
       "      <th>814</th>\n",
       "      <td>2021</td>\n",
       "      <td>충청남도</td>\n",
       "      <td>2</td>\n",
       "    </tr>\n",
       "    <tr>\n",
       "      <th>815</th>\n",
       "      <td>2022</td>\n",
       "      <td>충청남도</td>\n",
       "      <td>1</td>\n",
       "    </tr>\n",
       "    <tr>\n",
       "      <th>816</th>\n",
       "      <td>2022</td>\n",
       "      <td>충청북도</td>\n",
       "      <td>1</td>\n",
       "    </tr>\n",
       "  </tbody>\n",
       "</table>\n",
       "<p>817 rows × 3 columns</p>\n",
       "</div>"
      ],
      "text/plain": [
       "       연도       시도  등록대수\n",
       "0    1950      경기도     1\n",
       "1    1955      강원도     1\n",
       "2    1958     경상북도     1\n",
       "3    1962      강원도     4\n",
       "4    1962      경기도     2\n",
       "..    ...      ...   ...\n",
       "812  2021    울산광역시     1\n",
       "813  2021  제주특별자치도     1\n",
       "814  2021     충청남도     2\n",
       "815  2022     충청남도     1\n",
       "816  2022     충청북도     1\n",
       "\n",
       "[817 rows x 3 columns]"
      ]
     },
     "execution_count": 135,
     "metadata": {},
     "output_type": "execute_result"
    }
   ],
   "source": [
    "# 연도별 등록대수\n",
    "grp2 = dfm.groupby(['최초등록일자_년', '시도'], as_index=False)['차대번호'].count()\n",
    "grp2 = grp2.rename(columns={'최초등록일자_년':'연도', '차대번호':'등록대수'})\n",
    "grp2"
   ]
  },
  {
   "cell_type": "code",
   "execution_count": 136,
   "metadata": {},
   "outputs": [
    {
     "data": {
      "text/html": [
       "<div>\n",
       "<style scoped>\n",
       "    .dataframe tbody tr th:only-of-type {\n",
       "        vertical-align: middle;\n",
       "    }\n",
       "\n",
       "    .dataframe tbody tr th {\n",
       "        vertical-align: top;\n",
       "    }\n",
       "\n",
       "    .dataframe thead th {\n",
       "        text-align: right;\n",
       "    }\n",
       "</style>\n",
       "<table border=\"1\" class=\"dataframe\">\n",
       "  <thead>\n",
       "    <tr style=\"text-align: right;\">\n",
       "      <th></th>\n",
       "      <th>연도</th>\n",
       "      <th>시도</th>\n",
       "      <th>말소대수</th>\n",
       "    </tr>\n",
       "  </thead>\n",
       "  <tbody>\n",
       "    <tr>\n",
       "      <th>0</th>\n",
       "      <td>2019</td>\n",
       "      <td>강원도</td>\n",
       "      <td>11881</td>\n",
       "    </tr>\n",
       "    <tr>\n",
       "      <th>1</th>\n",
       "      <td>2019</td>\n",
       "      <td>경기도</td>\n",
       "      <td>73287</td>\n",
       "    </tr>\n",
       "    <tr>\n",
       "      <th>2</th>\n",
       "      <td>2019</td>\n",
       "      <td>경상남도</td>\n",
       "      <td>17542</td>\n",
       "    </tr>\n",
       "    <tr>\n",
       "      <th>3</th>\n",
       "      <td>2019</td>\n",
       "      <td>경상북도</td>\n",
       "      <td>19636</td>\n",
       "    </tr>\n",
       "    <tr>\n",
       "      <th>4</th>\n",
       "      <td>2019</td>\n",
       "      <td>광주광역시</td>\n",
       "      <td>5895</td>\n",
       "    </tr>\n",
       "    <tr>\n",
       "      <th>...</th>\n",
       "      <td>...</td>\n",
       "      <td>...</td>\n",
       "      <td>...</td>\n",
       "    </tr>\n",
       "    <tr>\n",
       "      <th>63</th>\n",
       "      <td>2022</td>\n",
       "      <td>전라남도</td>\n",
       "      <td>11191</td>\n",
       "    </tr>\n",
       "    <tr>\n",
       "      <th>64</th>\n",
       "      <td>2022</td>\n",
       "      <td>전라북도</td>\n",
       "      <td>6653</td>\n",
       "    </tr>\n",
       "    <tr>\n",
       "      <th>65</th>\n",
       "      <td>2022</td>\n",
       "      <td>제주특별자치도</td>\n",
       "      <td>3391</td>\n",
       "    </tr>\n",
       "    <tr>\n",
       "      <th>66</th>\n",
       "      <td>2022</td>\n",
       "      <td>충청남도</td>\n",
       "      <td>8951</td>\n",
       "    </tr>\n",
       "    <tr>\n",
       "      <th>67</th>\n",
       "      <td>2022</td>\n",
       "      <td>충청북도</td>\n",
       "      <td>4949</td>\n",
       "    </tr>\n",
       "  </tbody>\n",
       "</table>\n",
       "<p>68 rows × 3 columns</p>\n",
       "</div>"
      ],
      "text/plain": [
       "      연도       시도   말소대수\n",
       "0   2019      강원도  11881\n",
       "1   2019      경기도  73287\n",
       "2   2019     경상남도  17542\n",
       "3   2019     경상북도  19636\n",
       "4   2019    광주광역시   5895\n",
       "..   ...      ...    ...\n",
       "63  2022     전라남도  11191\n",
       "64  2022     전라북도   6653\n",
       "65  2022  제주특별자치도   3391\n",
       "66  2022     충청남도   8951\n",
       "67  2022     충청북도   4949\n",
       "\n",
       "[68 rows x 3 columns]"
      ]
     },
     "execution_count": 136,
     "metadata": {},
     "output_type": "execute_result"
    }
   ],
   "source": [
    "# 연도별 말소대수\n",
    "grp3 = errc.groupby(['변경일자_년', '시도'], as_index=False)['차대번호'].count()\n",
    "grp3 = grp3.rename(columns={'변경일자_년':'연도', '차대번호':'말소대수'})\n",
    "grp3"
   ]
  },
  {
   "cell_type": "code",
   "execution_count": 137,
   "metadata": {},
   "outputs": [
    {
     "data": {
      "text/html": [
       "<div>\n",
       "<style scoped>\n",
       "    .dataframe tbody tr th:only-of-type {\n",
       "        vertical-align: middle;\n",
       "    }\n",
       "\n",
       "    .dataframe tbody tr th {\n",
       "        vertical-align: top;\n",
       "    }\n",
       "\n",
       "    .dataframe thead th {\n",
       "        text-align: right;\n",
       "    }\n",
       "</style>\n",
       "<table border=\"1\" class=\"dataframe\">\n",
       "  <thead>\n",
       "    <tr style=\"text-align: right;\">\n",
       "      <th></th>\n",
       "      <th>연도</th>\n",
       "      <th>시도</th>\n",
       "      <th>차량대수</th>\n",
       "    </tr>\n",
       "  </thead>\n",
       "  <tbody>\n",
       "    <tr>\n",
       "      <th>0</th>\n",
       "      <td>2019</td>\n",
       "      <td>강원도</td>\n",
       "      <td>NaN</td>\n",
       "    </tr>\n",
       "    <tr>\n",
       "      <th>1</th>\n",
       "      <td>2020</td>\n",
       "      <td>강원도</td>\n",
       "      <td>NaN</td>\n",
       "    </tr>\n",
       "    <tr>\n",
       "      <th>2</th>\n",
       "      <td>2021</td>\n",
       "      <td>강원도</td>\n",
       "      <td>NaN</td>\n",
       "    </tr>\n",
       "    <tr>\n",
       "      <th>3</th>\n",
       "      <td>2022</td>\n",
       "      <td>강원도</td>\n",
       "      <td>48918.00</td>\n",
       "    </tr>\n",
       "    <tr>\n",
       "      <th>4</th>\n",
       "      <td>2019</td>\n",
       "      <td>경기도</td>\n",
       "      <td>NaN</td>\n",
       "    </tr>\n",
       "    <tr>\n",
       "      <th>...</th>\n",
       "      <td>...</td>\n",
       "      <td>...</td>\n",
       "      <td>...</td>\n",
       "    </tr>\n",
       "    <tr>\n",
       "      <th>63</th>\n",
       "      <td>2022</td>\n",
       "      <td>충청남도</td>\n",
       "      <td>63513.00</td>\n",
       "    </tr>\n",
       "    <tr>\n",
       "      <th>64</th>\n",
       "      <td>2019</td>\n",
       "      <td>충청북도</td>\n",
       "      <td>NaN</td>\n",
       "    </tr>\n",
       "    <tr>\n",
       "      <th>65</th>\n",
       "      <td>2020</td>\n",
       "      <td>충청북도</td>\n",
       "      <td>NaN</td>\n",
       "    </tr>\n",
       "    <tr>\n",
       "      <th>66</th>\n",
       "      <td>2021</td>\n",
       "      <td>충청북도</td>\n",
       "      <td>NaN</td>\n",
       "    </tr>\n",
       "    <tr>\n",
       "      <th>67</th>\n",
       "      <td>2022</td>\n",
       "      <td>충청북도</td>\n",
       "      <td>42777.00</td>\n",
       "    </tr>\n",
       "  </tbody>\n",
       "</table>\n",
       "<p>68 rows × 3 columns</p>\n",
       "</div>"
      ],
      "text/plain": [
       "      연도    시도     차량대수\n",
       "0   2019   강원도      NaN\n",
       "1   2020   강원도      NaN\n",
       "2   2021   강원도      NaN\n",
       "3   2022   강원도 48918.00\n",
       "4   2019   경기도      NaN\n",
       "..   ...   ...      ...\n",
       "63  2022  충청남도 63513.00\n",
       "64  2019  충청북도      NaN\n",
       "65  2020  충청북도      NaN\n",
       "66  2021  충청북도      NaN\n",
       "67  2022  충청북도 42777.00\n",
       "\n",
       "[68 rows x 3 columns]"
      ]
     },
     "execution_count": 137,
     "metadata": {},
     "output_type": "execute_result"
    }
   ],
   "source": [
    "base1 = base.merge(grp1, on=['연도', '시도'], how='left')\n",
    "base1"
   ]
  },
  {
   "cell_type": "code",
   "execution_count": 138,
   "metadata": {},
   "outputs": [
    {
     "data": {
      "text/html": [
       "<div>\n",
       "<style scoped>\n",
       "    .dataframe tbody tr th:only-of-type {\n",
       "        vertical-align: middle;\n",
       "    }\n",
       "\n",
       "    .dataframe tbody tr th {\n",
       "        vertical-align: top;\n",
       "    }\n",
       "\n",
       "    .dataframe thead th {\n",
       "        text-align: right;\n",
       "    }\n",
       "</style>\n",
       "<table border=\"1\" class=\"dataframe\">\n",
       "  <thead>\n",
       "    <tr style=\"text-align: right;\">\n",
       "      <th></th>\n",
       "      <th>연도</th>\n",
       "      <th>시도</th>\n",
       "      <th>차량대수</th>\n",
       "      <th>등록대수</th>\n",
       "    </tr>\n",
       "  </thead>\n",
       "  <tbody>\n",
       "    <tr>\n",
       "      <th>0</th>\n",
       "      <td>2019</td>\n",
       "      <td>강원도</td>\n",
       "      <td>NaN</td>\n",
       "      <td>2.00</td>\n",
       "    </tr>\n",
       "    <tr>\n",
       "      <th>1</th>\n",
       "      <td>2020</td>\n",
       "      <td>강원도</td>\n",
       "      <td>NaN</td>\n",
       "      <td>1.00</td>\n",
       "    </tr>\n",
       "    <tr>\n",
       "      <th>2</th>\n",
       "      <td>2021</td>\n",
       "      <td>강원도</td>\n",
       "      <td>NaN</td>\n",
       "      <td>NaN</td>\n",
       "    </tr>\n",
       "    <tr>\n",
       "      <th>3</th>\n",
       "      <td>2022</td>\n",
       "      <td>강원도</td>\n",
       "      <td>48918.00</td>\n",
       "      <td>NaN</td>\n",
       "    </tr>\n",
       "    <tr>\n",
       "      <th>4</th>\n",
       "      <td>2019</td>\n",
       "      <td>경기도</td>\n",
       "      <td>NaN</td>\n",
       "      <td>36.00</td>\n",
       "    </tr>\n",
       "    <tr>\n",
       "      <th>...</th>\n",
       "      <td>...</td>\n",
       "      <td>...</td>\n",
       "      <td>...</td>\n",
       "      <td>...</td>\n",
       "    </tr>\n",
       "    <tr>\n",
       "      <th>63</th>\n",
       "      <td>2022</td>\n",
       "      <td>충청남도</td>\n",
       "      <td>63513.00</td>\n",
       "      <td>1.00</td>\n",
       "    </tr>\n",
       "    <tr>\n",
       "      <th>64</th>\n",
       "      <td>2019</td>\n",
       "      <td>충청북도</td>\n",
       "      <td>NaN</td>\n",
       "      <td>2.00</td>\n",
       "    </tr>\n",
       "    <tr>\n",
       "      <th>65</th>\n",
       "      <td>2020</td>\n",
       "      <td>충청북도</td>\n",
       "      <td>NaN</td>\n",
       "      <td>NaN</td>\n",
       "    </tr>\n",
       "    <tr>\n",
       "      <th>66</th>\n",
       "      <td>2021</td>\n",
       "      <td>충청북도</td>\n",
       "      <td>NaN</td>\n",
       "      <td>NaN</td>\n",
       "    </tr>\n",
       "    <tr>\n",
       "      <th>67</th>\n",
       "      <td>2022</td>\n",
       "      <td>충청북도</td>\n",
       "      <td>42777.00</td>\n",
       "      <td>1.00</td>\n",
       "    </tr>\n",
       "  </tbody>\n",
       "</table>\n",
       "<p>68 rows × 4 columns</p>\n",
       "</div>"
      ],
      "text/plain": [
       "      연도    시도     차량대수  등록대수\n",
       "0   2019   강원도      NaN  2.00\n",
       "1   2020   강원도      NaN  1.00\n",
       "2   2021   강원도      NaN   NaN\n",
       "3   2022   강원도 48918.00   NaN\n",
       "4   2019   경기도      NaN 36.00\n",
       "..   ...   ...      ...   ...\n",
       "63  2022  충청남도 63513.00  1.00\n",
       "64  2019  충청북도      NaN  2.00\n",
       "65  2020  충청북도      NaN   NaN\n",
       "66  2021  충청북도      NaN   NaN\n",
       "67  2022  충청북도 42777.00  1.00\n",
       "\n",
       "[68 rows x 4 columns]"
      ]
     },
     "execution_count": 138,
     "metadata": {},
     "output_type": "execute_result"
    }
   ],
   "source": [
    "base2 = base1.merge(grp2, on=['연도', '시도'], how='left')\n",
    "base2"
   ]
  },
  {
   "cell_type": "code",
   "execution_count": 139,
   "metadata": {},
   "outputs": [
    {
     "data": {
      "text/html": [
       "<div>\n",
       "<style scoped>\n",
       "    .dataframe tbody tr th:only-of-type {\n",
       "        vertical-align: middle;\n",
       "    }\n",
       "\n",
       "    .dataframe tbody tr th {\n",
       "        vertical-align: top;\n",
       "    }\n",
       "\n",
       "    .dataframe thead th {\n",
       "        text-align: right;\n",
       "    }\n",
       "</style>\n",
       "<table border=\"1\" class=\"dataframe\">\n",
       "  <thead>\n",
       "    <tr style=\"text-align: right;\">\n",
       "      <th></th>\n",
       "      <th>연도</th>\n",
       "      <th>시도</th>\n",
       "      <th>차량대수</th>\n",
       "      <th>등록대수</th>\n",
       "      <th>말소대수</th>\n",
       "    </tr>\n",
       "  </thead>\n",
       "  <tbody>\n",
       "    <tr>\n",
       "      <th>0</th>\n",
       "      <td>2019</td>\n",
       "      <td>강원도</td>\n",
       "      <td>NaN</td>\n",
       "      <td>2.00</td>\n",
       "      <td>11881</td>\n",
       "    </tr>\n",
       "    <tr>\n",
       "      <th>1</th>\n",
       "      <td>2020</td>\n",
       "      <td>강원도</td>\n",
       "      <td>NaN</td>\n",
       "      <td>1.00</td>\n",
       "      <td>16689</td>\n",
       "    </tr>\n",
       "    <tr>\n",
       "      <th>2</th>\n",
       "      <td>2021</td>\n",
       "      <td>강원도</td>\n",
       "      <td>NaN</td>\n",
       "      <td>NaN</td>\n",
       "      <td>19202</td>\n",
       "    </tr>\n",
       "    <tr>\n",
       "      <th>3</th>\n",
       "      <td>2022</td>\n",
       "      <td>강원도</td>\n",
       "      <td>48918.00</td>\n",
       "      <td>NaN</td>\n",
       "      <td>6192</td>\n",
       "    </tr>\n",
       "    <tr>\n",
       "      <th>4</th>\n",
       "      <td>2019</td>\n",
       "      <td>경기도</td>\n",
       "      <td>NaN</td>\n",
       "      <td>36.00</td>\n",
       "      <td>73287</td>\n",
       "    </tr>\n",
       "    <tr>\n",
       "      <th>...</th>\n",
       "      <td>...</td>\n",
       "      <td>...</td>\n",
       "      <td>...</td>\n",
       "      <td>...</td>\n",
       "      <td>...</td>\n",
       "    </tr>\n",
       "    <tr>\n",
       "      <th>63</th>\n",
       "      <td>2022</td>\n",
       "      <td>충청남도</td>\n",
       "      <td>63513.00</td>\n",
       "      <td>1.00</td>\n",
       "      <td>8951</td>\n",
       "    </tr>\n",
       "    <tr>\n",
       "      <th>64</th>\n",
       "      <td>2019</td>\n",
       "      <td>충청북도</td>\n",
       "      <td>NaN</td>\n",
       "      <td>2.00</td>\n",
       "      <td>13677</td>\n",
       "    </tr>\n",
       "    <tr>\n",
       "      <th>65</th>\n",
       "      <td>2020</td>\n",
       "      <td>충청북도</td>\n",
       "      <td>NaN</td>\n",
       "      <td>NaN</td>\n",
       "      <td>23589</td>\n",
       "    </tr>\n",
       "    <tr>\n",
       "      <th>66</th>\n",
       "      <td>2021</td>\n",
       "      <td>충청북도</td>\n",
       "      <td>NaN</td>\n",
       "      <td>NaN</td>\n",
       "      <td>19555</td>\n",
       "    </tr>\n",
       "    <tr>\n",
       "      <th>67</th>\n",
       "      <td>2022</td>\n",
       "      <td>충청북도</td>\n",
       "      <td>42777.00</td>\n",
       "      <td>1.00</td>\n",
       "      <td>4949</td>\n",
       "    </tr>\n",
       "  </tbody>\n",
       "</table>\n",
       "<p>68 rows × 5 columns</p>\n",
       "</div>"
      ],
      "text/plain": [
       "      연도    시도     차량대수  등록대수   말소대수\n",
       "0   2019   강원도      NaN  2.00  11881\n",
       "1   2020   강원도      NaN  1.00  16689\n",
       "2   2021   강원도      NaN   NaN  19202\n",
       "3   2022   강원도 48918.00   NaN   6192\n",
       "4   2019   경기도      NaN 36.00  73287\n",
       "..   ...   ...      ...   ...    ...\n",
       "63  2022  충청남도 63513.00  1.00   8951\n",
       "64  2019  충청북도      NaN  2.00  13677\n",
       "65  2020  충청북도      NaN   NaN  23589\n",
       "66  2021  충청북도      NaN   NaN  19555\n",
       "67  2022  충청북도 42777.00  1.00   4949\n",
       "\n",
       "[68 rows x 5 columns]"
      ]
     },
     "execution_count": 139,
     "metadata": {},
     "output_type": "execute_result"
    }
   ],
   "source": [
    "base3 = base2.merge(grp3, on=['연도', '시도'], how='left')\n",
    "base3"
   ]
  },
  {
   "cell_type": "code",
   "execution_count": 140,
   "metadata": {},
   "outputs": [
    {
     "data": {
      "text/plain": [
       "차량대수    51\n",
       "등록대수    37\n",
       "말소대수     0\n",
       "dtype: int64"
      ]
     },
     "execution_count": 140,
     "metadata": {},
     "output_type": "execute_result"
    }
   ],
   "source": [
    "base3[['차량대수', '등록대수', '말소대수']].isnull().sum()"
   ]
  },
  {
   "cell_type": "code",
   "execution_count": 141,
   "metadata": {},
   "outputs": [],
   "source": [
    "base3[['차량대수', '등록대수', '말소대수']] = base3[['차량대수', '등록대수', '말소대수']].fillna(0)"
   ]
  },
  {
   "cell_type": "code",
   "execution_count": 142,
   "metadata": {},
   "outputs": [],
   "source": [
    "n = 4\n",
    "for i in range(base3.shape[0] // n):\n",
    "    for j in range(2, n+1):\n",
    "        base3.loc[(i+1)*n - j, '차량대수'] = base3.loc[(i+1)*n - (j-1), '차량대수'] + base3.loc[(i+1)*n - (j-1), '말소대수'] - base3.loc[(i+1)*n - (j-1), '등록대수']"
   ]
  },
  {
   "cell_type": "code",
   "execution_count": 143,
   "metadata": {},
   "outputs": [
    {
     "data": {
      "text/html": [
       "<div>\n",
       "<style scoped>\n",
       "    .dataframe tbody tr th:only-of-type {\n",
       "        vertical-align: middle;\n",
       "    }\n",
       "\n",
       "    .dataframe tbody tr th {\n",
       "        vertical-align: top;\n",
       "    }\n",
       "\n",
       "    .dataframe thead th {\n",
       "        text-align: right;\n",
       "    }\n",
       "</style>\n",
       "<table border=\"1\" class=\"dataframe\">\n",
       "  <thead>\n",
       "    <tr style=\"text-align: right;\">\n",
       "      <th></th>\n",
       "      <th>연도</th>\n",
       "      <th>시도</th>\n",
       "      <th>차량대수</th>\n",
       "      <th>등록대수</th>\n",
       "      <th>말소대수</th>\n",
       "    </tr>\n",
       "  </thead>\n",
       "  <tbody>\n",
       "    <tr>\n",
       "      <th>0</th>\n",
       "      <td>2019</td>\n",
       "      <td>강원도</td>\n",
       "      <td>91000.00</td>\n",
       "      <td>2.00</td>\n",
       "      <td>11881</td>\n",
       "    </tr>\n",
       "    <tr>\n",
       "      <th>1</th>\n",
       "      <td>2020</td>\n",
       "      <td>강원도</td>\n",
       "      <td>74312.00</td>\n",
       "      <td>1.00</td>\n",
       "      <td>16689</td>\n",
       "    </tr>\n",
       "    <tr>\n",
       "      <th>2</th>\n",
       "      <td>2021</td>\n",
       "      <td>강원도</td>\n",
       "      <td>55110.00</td>\n",
       "      <td>0.00</td>\n",
       "      <td>19202</td>\n",
       "    </tr>\n",
       "    <tr>\n",
       "      <th>3</th>\n",
       "      <td>2022</td>\n",
       "      <td>강원도</td>\n",
       "      <td>48918.00</td>\n",
       "      <td>0.00</td>\n",
       "      <td>6192</td>\n",
       "    </tr>\n",
       "    <tr>\n",
       "      <th>4</th>\n",
       "      <td>2019</td>\n",
       "      <td>경기도</td>\n",
       "      <td>405494.00</td>\n",
       "      <td>36.00</td>\n",
       "      <td>73287</td>\n",
       "    </tr>\n",
       "    <tr>\n",
       "      <th>...</th>\n",
       "      <td>...</td>\n",
       "      <td>...</td>\n",
       "      <td>...</td>\n",
       "      <td>...</td>\n",
       "      <td>...</td>\n",
       "    </tr>\n",
       "    <tr>\n",
       "      <th>63</th>\n",
       "      <td>2022</td>\n",
       "      <td>충청남도</td>\n",
       "      <td>63513.00</td>\n",
       "      <td>1.00</td>\n",
       "      <td>8951</td>\n",
       "    </tr>\n",
       "    <tr>\n",
       "      <th>64</th>\n",
       "      <td>2019</td>\n",
       "      <td>충청북도</td>\n",
       "      <td>90869.00</td>\n",
       "      <td>2.00</td>\n",
       "      <td>13677</td>\n",
       "    </tr>\n",
       "    <tr>\n",
       "      <th>65</th>\n",
       "      <td>2020</td>\n",
       "      <td>충청북도</td>\n",
       "      <td>67280.00</td>\n",
       "      <td>0.00</td>\n",
       "      <td>23589</td>\n",
       "    </tr>\n",
       "    <tr>\n",
       "      <th>66</th>\n",
       "      <td>2021</td>\n",
       "      <td>충청북도</td>\n",
       "      <td>47725.00</td>\n",
       "      <td>0.00</td>\n",
       "      <td>19555</td>\n",
       "    </tr>\n",
       "    <tr>\n",
       "      <th>67</th>\n",
       "      <td>2022</td>\n",
       "      <td>충청북도</td>\n",
       "      <td>42777.00</td>\n",
       "      <td>1.00</td>\n",
       "      <td>4949</td>\n",
       "    </tr>\n",
       "  </tbody>\n",
       "</table>\n",
       "<p>68 rows × 5 columns</p>\n",
       "</div>"
      ],
      "text/plain": [
       "      연도    시도      차량대수  등록대수   말소대수\n",
       "0   2019   강원도  91000.00  2.00  11881\n",
       "1   2020   강원도  74312.00  1.00  16689\n",
       "2   2021   강원도  55110.00  0.00  19202\n",
       "3   2022   강원도  48918.00  0.00   6192\n",
       "4   2019   경기도 405494.00 36.00  73287\n",
       "..   ...   ...       ...   ...    ...\n",
       "63  2022  충청남도  63513.00  1.00   8951\n",
       "64  2019  충청북도  90869.00  2.00  13677\n",
       "65  2020  충청북도  67280.00  0.00  23589\n",
       "66  2021  충청북도  47725.00  0.00  19555\n",
       "67  2022  충청북도  42777.00  1.00   4949\n",
       "\n",
       "[68 rows x 5 columns]"
      ]
     },
     "execution_count": 143,
     "metadata": {},
     "output_type": "execute_result"
    }
   ],
   "source": [
    "base3"
   ]
  },
  {
   "cell_type": "code",
   "execution_count": 163,
   "metadata": {},
   "outputs": [
    {
     "data": {
      "text/plain": [
       "Index(['차대번호', '법정동코드', '차량말소YN', '제원관리번호', '차량연식', '차종', '용도', '최초등록일자',\n",
       "       '제작일자', '차량관리번호', '연료', '차종유형', 'DPF_YN', '시도코드', '시군구코드', '시도', '시군구',\n",
       "       '조기폐차상태코드', '조기폐차최종승인YN', '말소일자', '최초등록일자_년', '최초등록일자_월', '최초등록일자_일'],\n",
       "      dtype='object')"
      ]
     },
     "execution_count": 163,
     "metadata": {},
     "output_type": "execute_result"
    }
   ],
   "source": [
    "dfm.columns"
   ]
  },
  {
   "cell_type": "code",
   "execution_count": 165,
   "metadata": {},
   "outputs": [],
   "source": [
    "dfm['말소일자'] = dfm['말소일자'].astype('str')\n",
    "dfm['말소일자_년'] = dfm['말소일자'].str[:4]\n",
    "dfm['말소일자_월'] = dfm['말소일자'].str[4:6]\n",
    "dfm['말소일자_일'] = dfm['말소일자'].str[6:8]"
   ]
  },
  {
   "cell_type": "code",
   "execution_count": 168,
   "metadata": {},
   "outputs": [
    {
     "data": {
      "text/html": [
       "<div>\n",
       "<style scoped>\n",
       "    .dataframe tbody tr th:only-of-type {\n",
       "        vertical-align: middle;\n",
       "    }\n",
       "\n",
       "    .dataframe tbody tr th {\n",
       "        vertical-align: top;\n",
       "    }\n",
       "\n",
       "    .dataframe thead th {\n",
       "        text-align: right;\n",
       "    }\n",
       "</style>\n",
       "<table border=\"1\" class=\"dataframe\">\n",
       "  <thead>\n",
       "    <tr style=\"text-align: right;\">\n",
       "      <th></th>\n",
       "      <th>연도</th>\n",
       "      <th>조기폐차대수</th>\n",
       "    </tr>\n",
       "  </thead>\n",
       "  <tbody>\n",
       "    <tr>\n",
       "      <th>0</th>\n",
       "      <td>2013</td>\n",
       "      <td>1</td>\n",
       "    </tr>\n",
       "    <tr>\n",
       "      <th>1</th>\n",
       "      <td>2015</td>\n",
       "      <td>1</td>\n",
       "    </tr>\n",
       "    <tr>\n",
       "      <th>2</th>\n",
       "      <td>2018</td>\n",
       "      <td>1</td>\n",
       "    </tr>\n",
       "    <tr>\n",
       "      <th>3</th>\n",
       "      <td>2021</td>\n",
       "      <td>2</td>\n",
       "    </tr>\n",
       "    <tr>\n",
       "      <th>4</th>\n",
       "      <td>2022</td>\n",
       "      <td>25147</td>\n",
       "    </tr>\n",
       "    <tr>\n",
       "      <th>5</th>\n",
       "      <td>2023</td>\n",
       "      <td>15953</td>\n",
       "    </tr>\n",
       "    <tr>\n",
       "      <th>6</th>\n",
       "      <td>2032</td>\n",
       "      <td>4</td>\n",
       "    </tr>\n",
       "    <tr>\n",
       "      <th>7</th>\n",
       "      <td>2202</td>\n",
       "      <td>5</td>\n",
       "    </tr>\n",
       "    <tr>\n",
       "      <th>8</th>\n",
       "      <td>nan</td>\n",
       "      <td>1</td>\n",
       "    </tr>\n",
       "  </tbody>\n",
       "</table>\n",
       "</div>"
      ],
      "text/plain": [
       "     연도  조기폐차대수\n",
       "0  2013       1\n",
       "1  2015       1\n",
       "2  2018       1\n",
       "3  2021       2\n",
       "4  2022   25147\n",
       "5  2023   15953\n",
       "6  2032       4\n",
       "7  2202       5\n",
       "8   nan       1"
      ]
     },
     "execution_count": 168,
     "metadata": {},
     "output_type": "execute_result"
    }
   ],
   "source": [
    "grp4 = dfm.loc[dfm['조기폐차최종승인YN'] == 'Y'].groupby(['말소일자_년'], as_index=False)['차대번호'].count()\n",
    "grp4 = grp4.rename(columns={'말소일자_년':'연도', '차대번호':'조기폐차대수'})\n",
    "grp4"
   ]
  },
  {
   "cell_type": "code",
   "execution_count": 169,
   "metadata": {},
   "outputs": [
    {
     "data": {
      "text/html": [
       "<div>\n",
       "<style scoped>\n",
       "    .dataframe tbody tr th:only-of-type {\n",
       "        vertical-align: middle;\n",
       "    }\n",
       "\n",
       "    .dataframe tbody tr th {\n",
       "        vertical-align: top;\n",
       "    }\n",
       "\n",
       "    .dataframe thead th {\n",
       "        text-align: right;\n",
       "    }\n",
       "</style>\n",
       "<table border=\"1\" class=\"dataframe\">\n",
       "  <thead>\n",
       "    <tr style=\"text-align: right;\">\n",
       "      <th></th>\n",
       "      <th>연도</th>\n",
       "      <th>시도</th>\n",
       "      <th>차량대수</th>\n",
       "      <th>등록대수</th>\n",
       "      <th>말소대수</th>\n",
       "      <th>조기폐차대수</th>\n",
       "    </tr>\n",
       "  </thead>\n",
       "  <tbody>\n",
       "    <tr>\n",
       "      <th>0</th>\n",
       "      <td>2019</td>\n",
       "      <td>강원도</td>\n",
       "      <td>91000.00</td>\n",
       "      <td>2.00</td>\n",
       "      <td>11881</td>\n",
       "      <td>NaN</td>\n",
       "    </tr>\n",
       "    <tr>\n",
       "      <th>1</th>\n",
       "      <td>2020</td>\n",
       "      <td>강원도</td>\n",
       "      <td>74312.00</td>\n",
       "      <td>1.00</td>\n",
       "      <td>16689</td>\n",
       "      <td>NaN</td>\n",
       "    </tr>\n",
       "    <tr>\n",
       "      <th>2</th>\n",
       "      <td>2021</td>\n",
       "      <td>강원도</td>\n",
       "      <td>55110.00</td>\n",
       "      <td>0.00</td>\n",
       "      <td>19202</td>\n",
       "      <td>2.00</td>\n",
       "    </tr>\n",
       "    <tr>\n",
       "      <th>3</th>\n",
       "      <td>2022</td>\n",
       "      <td>강원도</td>\n",
       "      <td>48918.00</td>\n",
       "      <td>0.00</td>\n",
       "      <td>6192</td>\n",
       "      <td>25147.00</td>\n",
       "    </tr>\n",
       "    <tr>\n",
       "      <th>4</th>\n",
       "      <td>2019</td>\n",
       "      <td>경기도</td>\n",
       "      <td>405494.00</td>\n",
       "      <td>36.00</td>\n",
       "      <td>73287</td>\n",
       "      <td>NaN</td>\n",
       "    </tr>\n",
       "    <tr>\n",
       "      <th>...</th>\n",
       "      <td>...</td>\n",
       "      <td>...</td>\n",
       "      <td>...</td>\n",
       "      <td>...</td>\n",
       "      <td>...</td>\n",
       "      <td>...</td>\n",
       "    </tr>\n",
       "    <tr>\n",
       "      <th>63</th>\n",
       "      <td>2022</td>\n",
       "      <td>충청남도</td>\n",
       "      <td>63513.00</td>\n",
       "      <td>1.00</td>\n",
       "      <td>8951</td>\n",
       "      <td>25147.00</td>\n",
       "    </tr>\n",
       "    <tr>\n",
       "      <th>64</th>\n",
       "      <td>2019</td>\n",
       "      <td>충청북도</td>\n",
       "      <td>90869.00</td>\n",
       "      <td>2.00</td>\n",
       "      <td>13677</td>\n",
       "      <td>NaN</td>\n",
       "    </tr>\n",
       "    <tr>\n",
       "      <th>65</th>\n",
       "      <td>2020</td>\n",
       "      <td>충청북도</td>\n",
       "      <td>67280.00</td>\n",
       "      <td>0.00</td>\n",
       "      <td>23589</td>\n",
       "      <td>NaN</td>\n",
       "    </tr>\n",
       "    <tr>\n",
       "      <th>66</th>\n",
       "      <td>2021</td>\n",
       "      <td>충청북도</td>\n",
       "      <td>47725.00</td>\n",
       "      <td>0.00</td>\n",
       "      <td>19555</td>\n",
       "      <td>2.00</td>\n",
       "    </tr>\n",
       "    <tr>\n",
       "      <th>67</th>\n",
       "      <td>2022</td>\n",
       "      <td>충청북도</td>\n",
       "      <td>42777.00</td>\n",
       "      <td>1.00</td>\n",
       "      <td>4949</td>\n",
       "      <td>25147.00</td>\n",
       "    </tr>\n",
       "  </tbody>\n",
       "</table>\n",
       "<p>68 rows × 6 columns</p>\n",
       "</div>"
      ],
      "text/plain": [
       "      연도    시도      차량대수  등록대수   말소대수   조기폐차대수\n",
       "0   2019   강원도  91000.00  2.00  11881      NaN\n",
       "1   2020   강원도  74312.00  1.00  16689      NaN\n",
       "2   2021   강원도  55110.00  0.00  19202     2.00\n",
       "3   2022   강원도  48918.00  0.00   6192 25147.00\n",
       "4   2019   경기도 405494.00 36.00  73287      NaN\n",
       "..   ...   ...       ...   ...    ...      ...\n",
       "63  2022  충청남도  63513.00  1.00   8951 25147.00\n",
       "64  2019  충청북도  90869.00  2.00  13677      NaN\n",
       "65  2020  충청북도  67280.00  0.00  23589      NaN\n",
       "66  2021  충청북도  47725.00  0.00  19555     2.00\n",
       "67  2022  충청북도  42777.00  1.00   4949 25147.00\n",
       "\n",
       "[68 rows x 6 columns]"
      ]
     },
     "execution_count": 169,
     "metadata": {},
     "output_type": "execute_result"
    }
   ],
   "source": [
    "base4 = base3.merge(grp4, on='연도', how='left')\n",
    "base4"
   ]
  },
  {
   "cell_type": "code",
   "execution_count": 172,
   "metadata": {},
   "outputs": [
    {
     "data": {
      "text/html": [
       "<div>\n",
       "<style scoped>\n",
       "    .dataframe tbody tr th:only-of-type {\n",
       "        vertical-align: middle;\n",
       "    }\n",
       "\n",
       "    .dataframe tbody tr th {\n",
       "        vertical-align: top;\n",
       "    }\n",
       "\n",
       "    .dataframe thead th {\n",
       "        text-align: right;\n",
       "    }\n",
       "</style>\n",
       "<table border=\"1\" class=\"dataframe\">\n",
       "  <thead>\n",
       "    <tr style=\"text-align: right;\">\n",
       "      <th></th>\n",
       "      <th>연도</th>\n",
       "      <th>시도</th>\n",
       "      <th>차량대수</th>\n",
       "      <th>조기폐차대수</th>\n",
       "    </tr>\n",
       "  </thead>\n",
       "  <tbody>\n",
       "    <tr>\n",
       "      <th>0</th>\n",
       "      <td>2019</td>\n",
       "      <td>강원도</td>\n",
       "      <td>91000.00</td>\n",
       "      <td>0.00</td>\n",
       "    </tr>\n",
       "    <tr>\n",
       "      <th>1</th>\n",
       "      <td>2020</td>\n",
       "      <td>강원도</td>\n",
       "      <td>74312.00</td>\n",
       "      <td>0.00</td>\n",
       "    </tr>\n",
       "    <tr>\n",
       "      <th>2</th>\n",
       "      <td>2021</td>\n",
       "      <td>강원도</td>\n",
       "      <td>55110.00</td>\n",
       "      <td>2.00</td>\n",
       "    </tr>\n",
       "    <tr>\n",
       "      <th>3</th>\n",
       "      <td>2022</td>\n",
       "      <td>강원도</td>\n",
       "      <td>48918.00</td>\n",
       "      <td>25147.00</td>\n",
       "    </tr>\n",
       "    <tr>\n",
       "      <th>4</th>\n",
       "      <td>2019</td>\n",
       "      <td>경기도</td>\n",
       "      <td>405494.00</td>\n",
       "      <td>0.00</td>\n",
       "    </tr>\n",
       "    <tr>\n",
       "      <th>...</th>\n",
       "      <td>...</td>\n",
       "      <td>...</td>\n",
       "      <td>...</td>\n",
       "      <td>...</td>\n",
       "    </tr>\n",
       "    <tr>\n",
       "      <th>63</th>\n",
       "      <td>2022</td>\n",
       "      <td>충청남도</td>\n",
       "      <td>63513.00</td>\n",
       "      <td>25147.00</td>\n",
       "    </tr>\n",
       "    <tr>\n",
       "      <th>64</th>\n",
       "      <td>2019</td>\n",
       "      <td>충청북도</td>\n",
       "      <td>90869.00</td>\n",
       "      <td>0.00</td>\n",
       "    </tr>\n",
       "    <tr>\n",
       "      <th>65</th>\n",
       "      <td>2020</td>\n",
       "      <td>충청북도</td>\n",
       "      <td>67280.00</td>\n",
       "      <td>0.00</td>\n",
       "    </tr>\n",
       "    <tr>\n",
       "      <th>66</th>\n",
       "      <td>2021</td>\n",
       "      <td>충청북도</td>\n",
       "      <td>47725.00</td>\n",
       "      <td>2.00</td>\n",
       "    </tr>\n",
       "    <tr>\n",
       "      <th>67</th>\n",
       "      <td>2022</td>\n",
       "      <td>충청북도</td>\n",
       "      <td>42777.00</td>\n",
       "      <td>25147.00</td>\n",
       "    </tr>\n",
       "  </tbody>\n",
       "</table>\n",
       "<p>68 rows × 4 columns</p>\n",
       "</div>"
      ],
      "text/plain": [
       "      연도    시도      차량대수   조기폐차대수\n",
       "0   2019   강원도  91000.00     0.00\n",
       "1   2020   강원도  74312.00     0.00\n",
       "2   2021   강원도  55110.00     2.00\n",
       "3   2022   강원도  48918.00 25147.00\n",
       "4   2019   경기도 405494.00     0.00\n",
       "..   ...   ...       ...      ...\n",
       "63  2022  충청남도  63513.00 25147.00\n",
       "64  2019  충청북도  90869.00     0.00\n",
       "65  2020  충청북도  67280.00     0.00\n",
       "66  2021  충청북도  47725.00     2.00\n",
       "67  2022  충청북도  42777.00 25147.00\n",
       "\n",
       "[68 rows x 4 columns]"
      ]
     },
     "execution_count": 172,
     "metadata": {},
     "output_type": "execute_result"
    }
   ],
   "source": [
    "base4['조기폐차대수'] = base4['조기폐차대수'].fillna(0)\n",
    "base4 = base4.drop(['등록대수', '말소대수'], axis=1)\n",
    "base4"
   ]
  },
  {
   "cell_type": "code",
   "execution_count": 174,
   "metadata": {},
   "outputs": [],
   "source": [
    "n = len(base4['연도'].unique())\n",
    "for i in range(base4.shape[0] // n):\n",
    "    for j in range(n-1):\n",
    "        base4.loc[i*4 + j+1, '감소대수'] = base4.loc[i*4 + j, '차량대수'] - base4.loc[i*4 + j+1, '차량대수']"
   ]
  },
  {
   "cell_type": "code",
   "execution_count": 175,
   "metadata": {},
   "outputs": [
    {
     "data": {
      "text/html": [
       "<div>\n",
       "<style scoped>\n",
       "    .dataframe tbody tr th:only-of-type {\n",
       "        vertical-align: middle;\n",
       "    }\n",
       "\n",
       "    .dataframe tbody tr th {\n",
       "        vertical-align: top;\n",
       "    }\n",
       "\n",
       "    .dataframe thead th {\n",
       "        text-align: right;\n",
       "    }\n",
       "</style>\n",
       "<table border=\"1\" class=\"dataframe\">\n",
       "  <thead>\n",
       "    <tr style=\"text-align: right;\">\n",
       "      <th></th>\n",
       "      <th>연도</th>\n",
       "      <th>시도</th>\n",
       "      <th>차량대수</th>\n",
       "      <th>조기폐차대수</th>\n",
       "      <th>감소대수</th>\n",
       "    </tr>\n",
       "  </thead>\n",
       "  <tbody>\n",
       "    <tr>\n",
       "      <th>0</th>\n",
       "      <td>2019</td>\n",
       "      <td>강원도</td>\n",
       "      <td>91000.00</td>\n",
       "      <td>0.00</td>\n",
       "      <td>NaN</td>\n",
       "    </tr>\n",
       "    <tr>\n",
       "      <th>1</th>\n",
       "      <td>2020</td>\n",
       "      <td>강원도</td>\n",
       "      <td>74312.00</td>\n",
       "      <td>0.00</td>\n",
       "      <td>16688.00</td>\n",
       "    </tr>\n",
       "    <tr>\n",
       "      <th>2</th>\n",
       "      <td>2021</td>\n",
       "      <td>강원도</td>\n",
       "      <td>55110.00</td>\n",
       "      <td>2.00</td>\n",
       "      <td>19202.00</td>\n",
       "    </tr>\n",
       "    <tr>\n",
       "      <th>3</th>\n",
       "      <td>2022</td>\n",
       "      <td>강원도</td>\n",
       "      <td>48918.00</td>\n",
       "      <td>25147.00</td>\n",
       "      <td>6192.00</td>\n",
       "    </tr>\n",
       "    <tr>\n",
       "      <th>4</th>\n",
       "      <td>2019</td>\n",
       "      <td>경기도</td>\n",
       "      <td>405494.00</td>\n",
       "      <td>0.00</td>\n",
       "      <td>NaN</td>\n",
       "    </tr>\n",
       "    <tr>\n",
       "      <th>...</th>\n",
       "      <td>...</td>\n",
       "      <td>...</td>\n",
       "      <td>...</td>\n",
       "      <td>...</td>\n",
       "      <td>...</td>\n",
       "    </tr>\n",
       "    <tr>\n",
       "      <th>63</th>\n",
       "      <td>2022</td>\n",
       "      <td>충청남도</td>\n",
       "      <td>63513.00</td>\n",
       "      <td>25147.00</td>\n",
       "      <td>8950.00</td>\n",
       "    </tr>\n",
       "    <tr>\n",
       "      <th>64</th>\n",
       "      <td>2019</td>\n",
       "      <td>충청북도</td>\n",
       "      <td>90869.00</td>\n",
       "      <td>0.00</td>\n",
       "      <td>NaN</td>\n",
       "    </tr>\n",
       "    <tr>\n",
       "      <th>65</th>\n",
       "      <td>2020</td>\n",
       "      <td>충청북도</td>\n",
       "      <td>67280.00</td>\n",
       "      <td>0.00</td>\n",
       "      <td>23589.00</td>\n",
       "    </tr>\n",
       "    <tr>\n",
       "      <th>66</th>\n",
       "      <td>2021</td>\n",
       "      <td>충청북도</td>\n",
       "      <td>47725.00</td>\n",
       "      <td>2.00</td>\n",
       "      <td>19555.00</td>\n",
       "    </tr>\n",
       "    <tr>\n",
       "      <th>67</th>\n",
       "      <td>2022</td>\n",
       "      <td>충청북도</td>\n",
       "      <td>42777.00</td>\n",
       "      <td>25147.00</td>\n",
       "      <td>4948.00</td>\n",
       "    </tr>\n",
       "  </tbody>\n",
       "</table>\n",
       "<p>68 rows × 5 columns</p>\n",
       "</div>"
      ],
      "text/plain": [
       "      연도    시도      차량대수   조기폐차대수     감소대수\n",
       "0   2019   강원도  91000.00     0.00      NaN\n",
       "1   2020   강원도  74312.00     0.00 16688.00\n",
       "2   2021   강원도  55110.00     2.00 19202.00\n",
       "3   2022   강원도  48918.00 25147.00  6192.00\n",
       "4   2019   경기도 405494.00     0.00      NaN\n",
       "..   ...   ...       ...      ...      ...\n",
       "63  2022  충청남도  63513.00 25147.00  8950.00\n",
       "64  2019  충청북도  90869.00     0.00      NaN\n",
       "65  2020  충청북도  67280.00     0.00 23589.00\n",
       "66  2021  충청북도  47725.00     2.00 19555.00\n",
       "67  2022  충청북도  42777.00 25147.00  4948.00\n",
       "\n",
       "[68 rows x 5 columns]"
      ]
     },
     "execution_count": 175,
     "metadata": {},
     "output_type": "execute_result"
    }
   ],
   "source": [
    "base4"
   ]
  },
  {
   "cell_type": "code",
   "execution_count": 176,
   "metadata": {},
   "outputs": [],
   "source": [
    "base4['자연감소대수'] = base4['감소대수'] - base4['조기폐차대수']"
   ]
  },
  {
   "cell_type": "code",
   "execution_count": 179,
   "metadata": {},
   "outputs": [
    {
     "data": {
      "text/html": [
       "<div>\n",
       "<style scoped>\n",
       "    .dataframe tbody tr th:only-of-type {\n",
       "        vertical-align: middle;\n",
       "    }\n",
       "\n",
       "    .dataframe tbody tr th {\n",
       "        vertical-align: top;\n",
       "    }\n",
       "\n",
       "    .dataframe thead th {\n",
       "        text-align: right;\n",
       "    }\n",
       "</style>\n",
       "<table border=\"1\" class=\"dataframe\">\n",
       "  <thead>\n",
       "    <tr style=\"text-align: right;\">\n",
       "      <th></th>\n",
       "      <th>연도</th>\n",
       "      <th>시도</th>\n",
       "      <th>차량대수</th>\n",
       "      <th>조기폐차대수</th>\n",
       "      <th>감소대수</th>\n",
       "      <th>자연감소대수</th>\n",
       "    </tr>\n",
       "  </thead>\n",
       "  <tbody>\n",
       "    <tr>\n",
       "      <th>0</th>\n",
       "      <td>2019</td>\n",
       "      <td>강원도</td>\n",
       "      <td>91000.00</td>\n",
       "      <td>0.00</td>\n",
       "      <td>NaN</td>\n",
       "      <td>NaN</td>\n",
       "    </tr>\n",
       "    <tr>\n",
       "      <th>1</th>\n",
       "      <td>2020</td>\n",
       "      <td>강원도</td>\n",
       "      <td>74312.00</td>\n",
       "      <td>0.00</td>\n",
       "      <td>16688.00</td>\n",
       "      <td>16688.00</td>\n",
       "    </tr>\n",
       "    <tr>\n",
       "      <th>2</th>\n",
       "      <td>2021</td>\n",
       "      <td>강원도</td>\n",
       "      <td>55110.00</td>\n",
       "      <td>2.00</td>\n",
       "      <td>19202.00</td>\n",
       "      <td>19200.00</td>\n",
       "    </tr>\n",
       "    <tr>\n",
       "      <th>3</th>\n",
       "      <td>2022</td>\n",
       "      <td>강원도</td>\n",
       "      <td>48918.00</td>\n",
       "      <td>25147.00</td>\n",
       "      <td>6192.00</td>\n",
       "      <td>-18955.00</td>\n",
       "    </tr>\n",
       "    <tr>\n",
       "      <th>4</th>\n",
       "      <td>2019</td>\n",
       "      <td>경기도</td>\n",
       "      <td>405494.00</td>\n",
       "      <td>0.00</td>\n",
       "      <td>NaN</td>\n",
       "      <td>NaN</td>\n",
       "    </tr>\n",
       "    <tr>\n",
       "      <th>...</th>\n",
       "      <td>...</td>\n",
       "      <td>...</td>\n",
       "      <td>...</td>\n",
       "      <td>...</td>\n",
       "      <td>...</td>\n",
       "      <td>...</td>\n",
       "    </tr>\n",
       "    <tr>\n",
       "      <th>63</th>\n",
       "      <td>2022</td>\n",
       "      <td>충청남도</td>\n",
       "      <td>63513.00</td>\n",
       "      <td>25147.00</td>\n",
       "      <td>8950.00</td>\n",
       "      <td>-16197.00</td>\n",
       "    </tr>\n",
       "    <tr>\n",
       "      <th>64</th>\n",
       "      <td>2019</td>\n",
       "      <td>충청북도</td>\n",
       "      <td>90869.00</td>\n",
       "      <td>0.00</td>\n",
       "      <td>NaN</td>\n",
       "      <td>NaN</td>\n",
       "    </tr>\n",
       "    <tr>\n",
       "      <th>65</th>\n",
       "      <td>2020</td>\n",
       "      <td>충청북도</td>\n",
       "      <td>67280.00</td>\n",
       "      <td>0.00</td>\n",
       "      <td>23589.00</td>\n",
       "      <td>23589.00</td>\n",
       "    </tr>\n",
       "    <tr>\n",
       "      <th>66</th>\n",
       "      <td>2021</td>\n",
       "      <td>충청북도</td>\n",
       "      <td>47725.00</td>\n",
       "      <td>2.00</td>\n",
       "      <td>19555.00</td>\n",
       "      <td>19553.00</td>\n",
       "    </tr>\n",
       "    <tr>\n",
       "      <th>67</th>\n",
       "      <td>2022</td>\n",
       "      <td>충청북도</td>\n",
       "      <td>42777.00</td>\n",
       "      <td>25147.00</td>\n",
       "      <td>4948.00</td>\n",
       "      <td>-20199.00</td>\n",
       "    </tr>\n",
       "  </tbody>\n",
       "</table>\n",
       "<p>68 rows × 6 columns</p>\n",
       "</div>"
      ],
      "text/plain": [
       "      연도    시도      차량대수   조기폐차대수     감소대수    자연감소대수\n",
       "0   2019   강원도  91000.00     0.00      NaN       NaN\n",
       "1   2020   강원도  74312.00     0.00 16688.00  16688.00\n",
       "2   2021   강원도  55110.00     2.00 19202.00  19200.00\n",
       "3   2022   강원도  48918.00 25147.00  6192.00 -18955.00\n",
       "4   2019   경기도 405494.00     0.00      NaN       NaN\n",
       "..   ...   ...       ...      ...      ...       ...\n",
       "63  2022  충청남도  63513.00 25147.00  8950.00 -16197.00\n",
       "64  2019  충청북도  90869.00     0.00      NaN       NaN\n",
       "65  2020  충청북도  67280.00     0.00 23589.00  23589.00\n",
       "66  2021  충청북도  47725.00     2.00 19555.00  19553.00\n",
       "67  2022  충청북도  42777.00 25147.00  4948.00 -20199.00\n",
       "\n",
       "[68 rows x 6 columns]"
      ]
     },
     "execution_count": 179,
     "metadata": {},
     "output_type": "execute_result"
    }
   ],
   "source": [
    "base4"
   ]
  },
  {
   "cell_type": "code",
   "execution_count": 9,
   "metadata": {},
   "outputs": [],
   "source": [
    "STD_BD_GRD5_ELPDSRC_CURSTT = df1.copy()"
   ]
  },
  {
   "attachments": {},
   "cell_type": "markdown",
   "metadata": {},
   "source": [
    "#### [출력] [D] STD_BD_GRD5_ELPDSRC_CURSTT"
   ]
  },
  {
   "cell_type": "code",
   "execution_count": null,
   "metadata": {},
   "outputs": [],
   "source": [
    "# expdf = STD_BD_GRD5_ELPDSRC_CURSTT\n",
    "# table_nm = 'STD_BD_GRD5_ELPDSRC_CURSTT'.upper()\n",
    "\n",
    "# # 테이블 생성\n",
    "# sql = 'create table ' + table_nm + '( \\n'\n",
    "\n",
    "# for idx,column in enumerate(expdf.columns):\n",
    "#     if 'float' in expdf[column].dtype.name:\n",
    "#         sql += column + ' float'\n",
    "#     elif 'int' in expdf[column].dtype.name:\n",
    "#         sql += column + ' number'\n",
    "#     else:\n",
    "#         sql += column + ' varchar(255)'\n",
    "\n",
    "#     if len(expdf.columns) - 1 != idx:\n",
    "#         sql += ','\n",
    "#     sql += '\\n'\n",
    "# sql += ')'    \n",
    "# wbt.execute(sql)\n",
    "\n",
    "# # 데이터 추가\n",
    "# # 5s\n",
    "# wbt.import_from_pandas(expdf, table_nm)"
   ]
  },
  {
   "attachments": {},
   "cell_type": "markdown",
   "metadata": {},
   "source": [
    "### 5등급 지역별 저공해미조치 차량현황"
   ]
  },
  {
   "cell_type": "code",
   "execution_count": 10,
   "metadata": {},
   "outputs": [],
   "source": [
    "cdict = {\n",
    "    '지역':'RGN',\n",
    "    '구분':'SEASON',\n",
    "    '차량대수':'VHCL_MKCNT', \n",
    "}"
   ]
  },
  {
   "cell_type": "code",
   "execution_count": 11,
   "metadata": {},
   "outputs": [
    {
     "data": {
      "text/plain": [
       "Index(['RGN', 'SEASON', 'VHCL_MKCNT'], dtype='object')"
      ]
     },
     "execution_count": 11,
     "metadata": {},
     "output_type": "execute_result"
    }
   ],
   "source": [
    "STD_BD_GRD5_LEM_N_MOD = no_dpf.rename(columns=cdict)\n",
    "STD_BD_GRD5_LEM_N_MOD.columns"
   ]
  },
  {
   "attachments": {},
   "cell_type": "markdown",
   "metadata": {},
   "source": [
    "#### [출력] [D] STD_BD_GRD5_LEM_N_MOD"
   ]
  },
  {
   "cell_type": "code",
   "execution_count": null,
   "metadata": {},
   "outputs": [],
   "source": [
    "# expdf = STD_BD_GRD5_LEM_N_MOD\n",
    "# table_nm = 'STD_BD_GRD5_LEM_N_MOD'.upper()\n",
    "\n",
    "# # 테이블 생성\n",
    "# sql = 'create table ' + table_nm + '( \\n'\n",
    "\n",
    "# for idx,column in enumerate(expdf.columns):\n",
    "#     if 'float' in expdf[column].dtype.name:\n",
    "#         sql += column + ' float'\n",
    "#     elif 'int' in expdf[column].dtype.name:\n",
    "#         sql += column + ' number'\n",
    "#     else:\n",
    "#         sql += column + ' varchar(255)'\n",
    "\n",
    "#     if len(expdf.columns) - 1 != idx:\n",
    "#         sql += ','\n",
    "#     sql += '\\n'\n",
    "# sql += ')'    \n",
    "# wbt.execute(sql)\n",
    "\n",
    "# # 데이터 추가\n",
    "# # 5s\n",
    "# wbt.import_from_pandas(expdf, table_nm)"
   ]
  },
  {
   "attachments": {},
   "cell_type": "markdown",
   "metadata": {},
   "source": [
    "### 차대번호별 운행제한 적발 현황"
   ]
  },
  {
   "cell_type": "code",
   "execution_count": null,
   "metadata": {},
   "outputs": [],
   "source": [
    "# DNSTY_STDR_ID(농도기준아이디) : 실발령(C011), 모의발령(C012)\n",
    "# TY_STDR_ID(유형기준아이디) : 비상시(T001), 계절제(T002)"
   ]
  },
  {
   "cell_type": "code",
   "execution_count": 215,
   "metadata": {},
   "outputs": [
    {
     "data": {
      "text/html": [
       "<div>\n",
       "<style scoped>\n",
       "    .dataframe tbody tr th:only-of-type {\n",
       "        vertical-align: middle;\n",
       "    }\n",
       "\n",
       "    .dataframe tbody tr th {\n",
       "        vertical-align: top;\n",
       "    }\n",
       "\n",
       "    .dataframe thead th {\n",
       "        text-align: right;\n",
       "    }\n",
       "</style>\n",
       "<table border=\"1\" class=\"dataframe\">\n",
       "  <thead>\n",
       "    <tr style=\"text-align: right;\">\n",
       "      <th></th>\n",
       "      <th>적발번호</th>\n",
       "      <th>발령번호</th>\n",
       "      <th>등록시도코드</th>\n",
       "      <th>등록시군구코드</th>\n",
       "      <th>적발지역코드</th>\n",
       "      <th>차대번호</th>\n",
       "      <th>단속일</th>\n",
       "      <th>농도기준아이디</th>\n",
       "      <th>유형기준아이디</th>\n",
       "      <th>등록시도</th>\n",
       "      <th>등록시군구</th>\n",
       "      <th>적발시도</th>\n",
       "      <th>적발시도</th>\n",
       "    </tr>\n",
       "  </thead>\n",
       "  <tbody>\n",
       "    <tr>\n",
       "      <th>0</th>\n",
       "      <td>54793831</td>\n",
       "      <td>1838</td>\n",
       "      <td>41</td>\n",
       "      <td>190</td>\n",
       "      <td>41190</td>\n",
       "      <td>KMFXKS7BP3U657943</td>\n",
       "      <td>NaN</td>\n",
       "      <td>C012</td>\n",
       "      <td>T001</td>\n",
       "      <td>경기도</td>\n",
       "      <td>부천시</td>\n",
       "      <td>경기도</td>\n",
       "      <td>부천시</td>\n",
       "    </tr>\n",
       "    <tr>\n",
       "      <th>1</th>\n",
       "      <td>54793839</td>\n",
       "      <td>1838</td>\n",
       "      <td>41</td>\n",
       "      <td>190</td>\n",
       "      <td>41190</td>\n",
       "      <td>KNAMA75432S388470</td>\n",
       "      <td>NaN</td>\n",
       "      <td>C012</td>\n",
       "      <td>T001</td>\n",
       "      <td>경기도</td>\n",
       "      <td>부천시</td>\n",
       "      <td>경기도</td>\n",
       "      <td>부천시</td>\n",
       "    </tr>\n",
       "    <tr>\n",
       "      <th>2</th>\n",
       "      <td>54793843</td>\n",
       "      <td>1838</td>\n",
       "      <td>28</td>\n",
       "      <td>237</td>\n",
       "      <td>41190</td>\n",
       "      <td>KNGDNM9N14K178854</td>\n",
       "      <td>NaN</td>\n",
       "      <td>C012</td>\n",
       "      <td>T001</td>\n",
       "      <td>인천광역시</td>\n",
       "      <td>부평구</td>\n",
       "      <td>경기도</td>\n",
       "      <td>부천시</td>\n",
       "    </tr>\n",
       "    <tr>\n",
       "      <th>3</th>\n",
       "      <td>54795717</td>\n",
       "      <td>1838</td>\n",
       "      <td>41</td>\n",
       "      <td>130</td>\n",
       "      <td>41190</td>\n",
       "      <td>KMFGA17PP7C072098</td>\n",
       "      <td>NaN</td>\n",
       "      <td>C012</td>\n",
       "      <td>T001</td>\n",
       "      <td>경기도</td>\n",
       "      <td>성남시</td>\n",
       "      <td>경기도</td>\n",
       "      <td>부천시</td>\n",
       "    </tr>\n",
       "    <tr>\n",
       "      <th>4</th>\n",
       "      <td>54793837</td>\n",
       "      <td>1838</td>\n",
       "      <td>41</td>\n",
       "      <td>190</td>\n",
       "      <td>41190</td>\n",
       "      <td>KPBSH3AB18P082348</td>\n",
       "      <td>NaN</td>\n",
       "      <td>C012</td>\n",
       "      <td>T001</td>\n",
       "      <td>경기도</td>\n",
       "      <td>부천시</td>\n",
       "      <td>경기도</td>\n",
       "      <td>부천시</td>\n",
       "    </tr>\n",
       "  </tbody>\n",
       "</table>\n",
       "</div>"
      ],
      "text/plain": [
       "       적발번호  발령번호  등록시도코드  등록시군구코드 적발지역코드               차대번호  단속일 농도기준아이디   \n",
       "0  54793831  1838      41      190  41190  KMFXKS7BP3U657943  NaN    C012  \\\n",
       "1  54793839  1838      41      190  41190  KNAMA75432S388470  NaN    C012   \n",
       "2  54793843  1838      28      237  41190  KNGDNM9N14K178854  NaN    C012   \n",
       "3  54795717  1838      41      130  41190  KMFGA17PP7C072098  NaN    C012   \n",
       "4  54793837  1838      41      190  41190  KPBSH3AB18P082348  NaN    C012   \n",
       "\n",
       "  유형기준아이디   등록시도 등록시군구 적발시도 적발시도  \n",
       "0    T001    경기도   부천시  경기도  부천시  \n",
       "1    T001    경기도   부천시  경기도  부천시  \n",
       "2    T001  인천광역시   부평구  경기도  부천시  \n",
       "3    T001    경기도   성남시  경기도  부천시  \n",
       "4    T001    경기도   부천시  경기도  부천시  "
      ]
     },
     "execution_count": 215,
     "metadata": {},
     "output_type": "execute_result"
    }
   ],
   "source": [
    "is_total.head()"
   ]
  },
  {
   "cell_type": "code",
   "execution_count": 216,
   "metadata": {},
   "outputs": [
    {
     "data": {
      "text/plain": [
       "(81512621, 13)"
      ]
     },
     "execution_count": 216,
     "metadata": {},
     "output_type": "execute_result"
    }
   ],
   "source": [
    "is_total.shape"
   ]
  },
  {
   "cell_type": "code",
   "execution_count": 311,
   "metadata": {},
   "outputs": [
    {
     "data": {
      "text/plain": [
       "(13012643, 13)"
      ]
     },
     "execution_count": 311,
     "metadata": {},
     "output_type": "execute_result"
    }
   ],
   "source": [
    "# 11.0s\n",
    "# DNSTY_STDR_ID(농도기준아이디) : 실발령(C011), 모의발령(C012)\n",
    "# TY_STDR_ID(유형기준아이디) : 비상시(T001), 계절제(T002)\n",
    "is_season = is_total.loc[(is_total['농도기준아이디'] == 'C011') & (is_total['유형기준아이디'] == 'T002')].reset_index(drop=True)\n",
    "is_season.shape"
   ]
  },
  {
   "cell_type": "code",
   "execution_count": 312,
   "metadata": {},
   "outputs": [
    {
     "data": {
      "text/plain": [
       "dtype('float64')"
      ]
     },
     "execution_count": 312,
     "metadata": {},
     "output_type": "execute_result"
    }
   ],
   "source": [
    "is_season['단속일'].dtype"
   ]
  },
  {
   "cell_type": "code",
   "execution_count": 313,
   "metadata": {},
   "outputs": [
    {
     "data": {
      "text/plain": [
       "count     338694.00\n",
       "mean    20211753.01\n",
       "std         7033.04\n",
       "min     20201201.00\n",
       "25%     20210112.00\n",
       "50%     20210316.00\n",
       "75%     20220121.00\n",
       "max     20230104.00\n",
       "Name: 단속일, dtype: float64"
      ]
     },
     "execution_count": 313,
     "metadata": {},
     "output_type": "execute_result"
    }
   ],
   "source": [
    "is_season['단속일'].describe()"
   ]
  },
  {
   "cell_type": "code",
   "execution_count": 314,
   "metadata": {},
   "outputs": [],
   "source": [
    "is_season.loc[(is_season['단속일'] > 20191130) & (is_season['단속일'] < 20200401), '계절제_1차여부'] = 'Y'\n",
    "is_season.loc[(is_season['단속일'] > 20201130) & (is_season['단속일'] < 20210401), '계절제_2차여부'] = 'Y'\n",
    "is_season.loc[(is_season['단속일'] > 20211130) & (is_season['단속일'] < 20220401), '계절제_3차여부'] = 'Y'\n",
    "is_season.loc[(is_season['단속일'] > 20221130) & (is_season['단속일'] < 20230401), '계절제_4차여부'] = 'Y'"
   ]
  },
  {
   "cell_type": "code",
   "execution_count": 315,
   "metadata": {},
   "outputs": [
    {
     "data": {
      "text/html": [
       "<div>\n",
       "<style scoped>\n",
       "    .dataframe tbody tr th:only-of-type {\n",
       "        vertical-align: middle;\n",
       "    }\n",
       "\n",
       "    .dataframe tbody tr th {\n",
       "        vertical-align: top;\n",
       "    }\n",
       "\n",
       "    .dataframe thead th {\n",
       "        text-align: right;\n",
       "    }\n",
       "</style>\n",
       "<table border=\"1\" class=\"dataframe\">\n",
       "  <thead>\n",
       "    <tr style=\"text-align: right;\">\n",
       "      <th></th>\n",
       "      <th>차대번호</th>\n",
       "      <th>계절제_1차</th>\n",
       "      <th>계절제_2차</th>\n",
       "      <th>계절제_3차</th>\n",
       "      <th>계절제_4차</th>\n",
       "    </tr>\n",
       "  </thead>\n",
       "  <tbody>\n",
       "    <tr>\n",
       "      <th>0</th>\n",
       "      <td>000000JN44C000673</td>\n",
       "      <td>0</td>\n",
       "      <td>0</td>\n",
       "      <td>9</td>\n",
       "      <td>0</td>\n",
       "    </tr>\n",
       "    <tr>\n",
       "      <th>1</th>\n",
       "      <td>01451201380</td>\n",
       "      <td>0</td>\n",
       "      <td>0</td>\n",
       "      <td>0</td>\n",
       "      <td>0</td>\n",
       "    </tr>\n",
       "    <tr>\n",
       "      <th>2</th>\n",
       "      <td>01751300580</td>\n",
       "      <td>0</td>\n",
       "      <td>1</td>\n",
       "      <td>0</td>\n",
       "      <td>0</td>\n",
       "    </tr>\n",
       "    <tr>\n",
       "      <th>3</th>\n",
       "      <td>01761300921</td>\n",
       "      <td>0</td>\n",
       "      <td>0</td>\n",
       "      <td>0</td>\n",
       "      <td>0</td>\n",
       "    </tr>\n",
       "    <tr>\n",
       "      <th>4</th>\n",
       "      <td>01761301128</td>\n",
       "      <td>0</td>\n",
       "      <td>0</td>\n",
       "      <td>1</td>\n",
       "      <td>0</td>\n",
       "    </tr>\n",
       "    <tr>\n",
       "      <th>...</th>\n",
       "      <td>...</td>\n",
       "      <td>...</td>\n",
       "      <td>...</td>\n",
       "      <td>...</td>\n",
       "      <td>...</td>\n",
       "    </tr>\n",
       "    <tr>\n",
       "      <th>408191</th>\n",
       "      <td>YV2JSO2C668870647</td>\n",
       "      <td>0</td>\n",
       "      <td>1</td>\n",
       "      <td>0</td>\n",
       "      <td>0</td>\n",
       "    </tr>\n",
       "    <tr>\n",
       "      <th>408192</th>\n",
       "      <td>YV2JSO2C768870642</td>\n",
       "      <td>0</td>\n",
       "      <td>0</td>\n",
       "      <td>1</td>\n",
       "      <td>2</td>\n",
       "    </tr>\n",
       "    <tr>\n",
       "      <th>408193</th>\n",
       "      <td>YV2JSO2C76A625817</td>\n",
       "      <td>0</td>\n",
       "      <td>0</td>\n",
       "      <td>0</td>\n",
       "      <td>0</td>\n",
       "    </tr>\n",
       "    <tr>\n",
       "      <th>408194</th>\n",
       "      <td>YV2JSO2C88A655606</td>\n",
       "      <td>0</td>\n",
       "      <td>0</td>\n",
       "      <td>0</td>\n",
       "      <td>0</td>\n",
       "    </tr>\n",
       "    <tr>\n",
       "      <th>408195</th>\n",
       "      <td>YV2JSO2C968870643</td>\n",
       "      <td>0</td>\n",
       "      <td>0</td>\n",
       "      <td>31</td>\n",
       "      <td>0</td>\n",
       "    </tr>\n",
       "  </tbody>\n",
       "</table>\n",
       "<p>408196 rows × 5 columns</p>\n",
       "</div>"
      ],
      "text/plain": [
       "                     차대번호  계절제_1차  계절제_2차  계절제_3차  계절제_4차\n",
       "0       000000JN44C000673       0       0       9       0\n",
       "1             01451201380       0       0       0       0\n",
       "2             01751300580       0       1       0       0\n",
       "3             01761300921       0       0       0       0\n",
       "4             01761301128       0       0       1       0\n",
       "...                   ...     ...     ...     ...     ...\n",
       "408191  YV2JSO2C668870647       0       1       0       0\n",
       "408192  YV2JSO2C768870642       0       0       1       2\n",
       "408193  YV2JSO2C76A625817       0       0       0       0\n",
       "408194  YV2JSO2C88A655606       0       0       0       0\n",
       "408195  YV2JSO2C968870643       0       0      31       0\n",
       "\n",
       "[408196 rows x 5 columns]"
      ]
     },
     "execution_count": 315,
     "metadata": {},
     "output_type": "execute_result"
    }
   ],
   "source": [
    "limit_season = is_season.groupby(['차대번호'], as_index=False).agg({'계절제_1차여부':'count', '계절제_2차여부':'count', '계절제_3차여부':'count', '계절제_4차여부':'count'})\n",
    "limit_season = limit_season.rename(columns={'계절제_1차여부':'계절제_1차', '계절제_2차여부':'계절제_2차', '계절제_3차여부':'계절제_3차', '계절제_4차여부':'계절제_4차'})\n",
    "limit_season"
   ]
  },
  {
   "cell_type": "code",
   "execution_count": 316,
   "metadata": {},
   "outputs": [
    {
     "data": {
      "text/plain": [
       "(546574, 13)"
      ]
     },
     "execution_count": 316,
     "metadata": {},
     "output_type": "execute_result"
    }
   ],
   "source": [
    "# 11.0s\n",
    "# DNSTY_STDR_ID(농도기준아이디) : 실발령(C011), 모의발령(C012)\n",
    "# TY_STDR_ID(유형기준아이디) : 비상시(T001), 계절제(T002)\n",
    "is_high = is_total.loc[(is_total['농도기준아이디'] == 'C011') & (is_total['유형기준아이디'] == 'T001')].reset_index(drop=True)\n",
    "is_high.shape"
   ]
  },
  {
   "cell_type": "code",
   "execution_count": 317,
   "metadata": {},
   "outputs": [
    {
     "data": {
      "text/html": [
       "<div>\n",
       "<style scoped>\n",
       "    .dataframe tbody tr th:only-of-type {\n",
       "        vertical-align: middle;\n",
       "    }\n",
       "\n",
       "    .dataframe tbody tr th {\n",
       "        vertical-align: top;\n",
       "    }\n",
       "\n",
       "    .dataframe thead th {\n",
       "        text-align: right;\n",
       "    }\n",
       "</style>\n",
       "<table border=\"1\" class=\"dataframe\">\n",
       "  <thead>\n",
       "    <tr style=\"text-align: right;\">\n",
       "      <th></th>\n",
       "      <th>적발번호</th>\n",
       "      <th>발령번호</th>\n",
       "      <th>등록시도코드</th>\n",
       "      <th>등록시군구코드</th>\n",
       "      <th>적발지역코드</th>\n",
       "      <th>차대번호</th>\n",
       "      <th>단속일</th>\n",
       "      <th>농도기준아이디</th>\n",
       "      <th>유형기준아이디</th>\n",
       "      <th>등록시도</th>\n",
       "      <th>등록시군구</th>\n",
       "      <th>적발시도</th>\n",
       "      <th>적발시도</th>\n",
       "    </tr>\n",
       "  </thead>\n",
       "  <tbody>\n",
       "    <tr>\n",
       "      <th>0</th>\n",
       "      <td>19890</td>\n",
       "      <td>1</td>\n",
       "      <td>11</td>\n",
       "      <td>350</td>\n",
       "      <td>41150</td>\n",
       "      <td>KMHMG81VP5U257794</td>\n",
       "      <td>NaN</td>\n",
       "      <td>C011</td>\n",
       "      <td>T001</td>\n",
       "      <td>서울특별시</td>\n",
       "      <td>노원구</td>\n",
       "      <td>경기도</td>\n",
       "      <td>의정부시</td>\n",
       "    </tr>\n",
       "    <tr>\n",
       "      <th>1</th>\n",
       "      <td>39000</td>\n",
       "      <td>1</td>\n",
       "      <td>41</td>\n",
       "      <td>210</td>\n",
       "      <td>41210</td>\n",
       "      <td>KNAMC75136S062407</td>\n",
       "      <td>NaN</td>\n",
       "      <td>C011</td>\n",
       "      <td>T001</td>\n",
       "      <td>경기도</td>\n",
       "      <td>광명시</td>\n",
       "      <td>경기도</td>\n",
       "      <td>광명시</td>\n",
       "    </tr>\n",
       "    <tr>\n",
       "      <th>2</th>\n",
       "      <td>19892</td>\n",
       "      <td>1</td>\n",
       "      <td>41</td>\n",
       "      <td>360</td>\n",
       "      <td>41360</td>\n",
       "      <td>KNAJE55136K140658</td>\n",
       "      <td>NaN</td>\n",
       "      <td>C011</td>\n",
       "      <td>T001</td>\n",
       "      <td>경기도</td>\n",
       "      <td>남양주시</td>\n",
       "      <td>경기도</td>\n",
       "      <td>남양주시</td>\n",
       "    </tr>\n",
       "    <tr>\n",
       "      <th>3</th>\n",
       "      <td>19889</td>\n",
       "      <td>1</td>\n",
       "      <td>41</td>\n",
       "      <td>610</td>\n",
       "      <td>41130</td>\n",
       "      <td>KNAJC52134A283624</td>\n",
       "      <td>NaN</td>\n",
       "      <td>C011</td>\n",
       "      <td>T001</td>\n",
       "      <td>경기도</td>\n",
       "      <td>광주시</td>\n",
       "      <td>경기도</td>\n",
       "      <td>성남시</td>\n",
       "    </tr>\n",
       "    <tr>\n",
       "      <th>4</th>\n",
       "      <td>19191</td>\n",
       "      <td>1</td>\n",
       "      <td>11</td>\n",
       "      <td>500</td>\n",
       "      <td>41190</td>\n",
       "      <td>KN4HNW6DM5K098136</td>\n",
       "      <td>NaN</td>\n",
       "      <td>C011</td>\n",
       "      <td>T001</td>\n",
       "      <td>서울특별시</td>\n",
       "      <td>강서구</td>\n",
       "      <td>경기도</td>\n",
       "      <td>부천시</td>\n",
       "    </tr>\n",
       "  </tbody>\n",
       "</table>\n",
       "</div>"
      ],
      "text/plain": [
       "    적발번호  발령번호  등록시도코드  등록시군구코드 적발지역코드               차대번호  단속일 농도기준아이디   \n",
       "0  19890     1      11      350  41150  KMHMG81VP5U257794  NaN    C011  \\\n",
       "1  39000     1      41      210  41210  KNAMC75136S062407  NaN    C011   \n",
       "2  19892     1      41      360  41360  KNAJE55136K140658  NaN    C011   \n",
       "3  19889     1      41      610  41130  KNAJC52134A283624  NaN    C011   \n",
       "4  19191     1      11      500  41190  KN4HNW6DM5K098136  NaN    C011   \n",
       "\n",
       "  유형기준아이디   등록시도 등록시군구 적발시도  적발시도  \n",
       "0    T001  서울특별시   노원구  경기도  의정부시  \n",
       "1    T001    경기도   광명시  경기도   광명시  \n",
       "2    T001    경기도  남양주시  경기도  남양주시  \n",
       "3    T001    경기도   광주시  경기도   성남시  \n",
       "4    T001  서울특별시   강서구  경기도   부천시  "
      ]
     },
     "execution_count": 317,
     "metadata": {},
     "output_type": "execute_result"
    }
   ],
   "source": [
    "is_high.head()"
   ]
  },
  {
   "cell_type": "code",
   "execution_count": 318,
   "metadata": {},
   "outputs": [
    {
     "data": {
      "text/html": [
       "<div>\n",
       "<style scoped>\n",
       "    .dataframe tbody tr th:only-of-type {\n",
       "        vertical-align: middle;\n",
       "    }\n",
       "\n",
       "    .dataframe tbody tr th {\n",
       "        vertical-align: top;\n",
       "    }\n",
       "\n",
       "    .dataframe thead th {\n",
       "        text-align: right;\n",
       "    }\n",
       "</style>\n",
       "<table border=\"1\" class=\"dataframe\">\n",
       "  <thead>\n",
       "    <tr style=\"text-align: right;\">\n",
       "      <th></th>\n",
       "      <th>차대번호</th>\n",
       "      <th>비상시</th>\n",
       "    </tr>\n",
       "  </thead>\n",
       "  <tbody>\n",
       "    <tr>\n",
       "      <th>0</th>\n",
       "      <td>000000JN44C000673</td>\n",
       "      <td>1</td>\n",
       "    </tr>\n",
       "    <tr>\n",
       "      <th>1</th>\n",
       "      <td>01841300288</td>\n",
       "      <td>1</td>\n",
       "    </tr>\n",
       "    <tr>\n",
       "      <th>2</th>\n",
       "      <td>01861321189</td>\n",
       "      <td>0</td>\n",
       "    </tr>\n",
       "    <tr>\n",
       "      <th>3</th>\n",
       "      <td>02821282638</td>\n",
       "      <td>2</td>\n",
       "    </tr>\n",
       "    <tr>\n",
       "      <th>4</th>\n",
       "      <td>03824219227</td>\n",
       "      <td>1</td>\n",
       "    </tr>\n",
       "    <tr>\n",
       "      <th>...</th>\n",
       "      <td>...</td>\n",
       "      <td>...</td>\n",
       "    </tr>\n",
       "    <tr>\n",
       "      <th>188457</th>\n",
       "      <td>YV2JS02CX8A655591</td>\n",
       "      <td>0</td>\n",
       "    </tr>\n",
       "    <tr>\n",
       "      <th>188458</th>\n",
       "      <td>YV2JSO2C768870642</td>\n",
       "      <td>1</td>\n",
       "    </tr>\n",
       "    <tr>\n",
       "      <th>188459</th>\n",
       "      <td>YV2JSO2C76A625817</td>\n",
       "      <td>1</td>\n",
       "    </tr>\n",
       "    <tr>\n",
       "      <th>188460</th>\n",
       "      <td>YV2JSO2C88A655606</td>\n",
       "      <td>0</td>\n",
       "    </tr>\n",
       "    <tr>\n",
       "      <th>188461</th>\n",
       "      <td>YV2JSO2C968870643</td>\n",
       "      <td>2</td>\n",
       "    </tr>\n",
       "  </tbody>\n",
       "</table>\n",
       "<p>188462 rows × 2 columns</p>\n",
       "</div>"
      ],
      "text/plain": [
       "                     차대번호  비상시\n",
       "0       000000JN44C000673    1\n",
       "1             01841300288    1\n",
       "2             01861321189    0\n",
       "3             02821282638    2\n",
       "4             03824219227    1\n",
       "...                   ...  ...\n",
       "188457  YV2JS02CX8A655591    0\n",
       "188458  YV2JSO2C768870642    1\n",
       "188459  YV2JSO2C76A625817    1\n",
       "188460  YV2JSO2C88A655606    0\n",
       "188461  YV2JSO2C968870643    2\n",
       "\n",
       "[188462 rows x 2 columns]"
      ]
     },
     "execution_count": 318,
     "metadata": {},
     "output_type": "execute_result"
    }
   ],
   "source": [
    "limit_high = is_high.groupby(['차대번호'], as_index=False).agg({'단속일':'count'})\n",
    "limit_high = limit_high.rename(columns={'단속일':'비상시'})\n",
    "limit_high"
   ]
  },
  {
   "cell_type": "code",
   "execution_count": 319,
   "metadata": {},
   "outputs": [
    {
     "data": {
      "text/plain": [
       "(3090035, 10)"
      ]
     },
     "execution_count": 319,
     "metadata": {},
     "output_type": "execute_result"
    }
   ],
   "source": [
    "us_total.shape"
   ]
  },
  {
   "cell_type": "code",
   "execution_count": 320,
   "metadata": {},
   "outputs": [
    {
     "data": {
      "text/plain": [
       "dtype('float64')"
      ]
     },
     "execution_count": 320,
     "metadata": {},
     "output_type": "execute_result"
    }
   ],
   "source": [
    "us_total['적발건수'].dtype"
   ]
  },
  {
   "cell_type": "code",
   "execution_count": 321,
   "metadata": {},
   "outputs": [
    {
     "data": {
      "text/html": [
       "<div>\n",
       "<style scoped>\n",
       "    .dataframe tbody tr th:only-of-type {\n",
       "        vertical-align: middle;\n",
       "    }\n",
       "\n",
       "    .dataframe tbody tr th {\n",
       "        vertical-align: top;\n",
       "    }\n",
       "\n",
       "    .dataframe thead th {\n",
       "        text-align: right;\n",
       "    }\n",
       "</style>\n",
       "<table border=\"1\" class=\"dataframe\">\n",
       "  <thead>\n",
       "    <tr style=\"text-align: right;\">\n",
       "      <th></th>\n",
       "      <th>차대번호</th>\n",
       "      <th>상시</th>\n",
       "    </tr>\n",
       "  </thead>\n",
       "  <tbody>\n",
       "    <tr>\n",
       "      <th>0</th>\n",
       "      <td>01771226923</td>\n",
       "      <td>3.00</td>\n",
       "    </tr>\n",
       "    <tr>\n",
       "      <th>1</th>\n",
       "      <td>01781201391</td>\n",
       "      <td>1.00</td>\n",
       "    </tr>\n",
       "    <tr>\n",
       "      <th>2</th>\n",
       "      <td>01781212746</td>\n",
       "      <td>1.00</td>\n",
       "    </tr>\n",
       "    <tr>\n",
       "      <th>3</th>\n",
       "      <td>01791201714</td>\n",
       "      <td>2.00</td>\n",
       "    </tr>\n",
       "    <tr>\n",
       "      <th>4</th>\n",
       "      <td>01792116793</td>\n",
       "      <td>7.00</td>\n",
       "    </tr>\n",
       "    <tr>\n",
       "      <th>...</th>\n",
       "      <td>...</td>\n",
       "      <td>...</td>\n",
       "    </tr>\n",
       "    <tr>\n",
       "      <th>85750</th>\n",
       "      <td>YV2JSO2C668870647</td>\n",
       "      <td>64.00</td>\n",
       "    </tr>\n",
       "    <tr>\n",
       "      <th>85751</th>\n",
       "      <td>YV2JSO2C768870642</td>\n",
       "      <td>4.00</td>\n",
       "    </tr>\n",
       "    <tr>\n",
       "      <th>85752</th>\n",
       "      <td>YV2JSO2C76A620052</td>\n",
       "      <td>1.00</td>\n",
       "    </tr>\n",
       "    <tr>\n",
       "      <th>85753</th>\n",
       "      <td>YV2JSO2C968870643</td>\n",
       "      <td>86.00</td>\n",
       "    </tr>\n",
       "    <tr>\n",
       "      <th>85754</th>\n",
       "      <td>YV2X1G1G2EA766707</td>\n",
       "      <td>6.00</td>\n",
       "    </tr>\n",
       "  </tbody>\n",
       "</table>\n",
       "<p>85755 rows × 2 columns</p>\n",
       "</div>"
      ],
      "text/plain": [
       "                    차대번호    상시\n",
       "0            01771226923  3.00\n",
       "1            01781201391  1.00\n",
       "2            01781212746  1.00\n",
       "3            01791201714  2.00\n",
       "4            01792116793  7.00\n",
       "...                  ...   ...\n",
       "85750  YV2JSO2C668870647 64.00\n",
       "85751  YV2JSO2C768870642  4.00\n",
       "85752  YV2JSO2C76A620052  1.00\n",
       "85753  YV2JSO2C968870643 86.00\n",
       "85754  YV2X1G1G2EA766707  6.00\n",
       "\n",
       "[85755 rows x 2 columns]"
      ]
     },
     "execution_count": 321,
     "metadata": {},
     "output_type": "execute_result"
    }
   ],
   "source": [
    "limit_alw = us_total.groupby('차대번호', as_index=False).agg({'적발건수':'sum'})\n",
    "limit_alw = limit_alw.rename(columns={'적발건수':'상시'})\n",
    "limit_alw"
   ]
  },
  {
   "cell_type": "code",
   "execution_count": 322,
   "metadata": {},
   "outputs": [
    {
     "data": {
      "text/plain": [
       "((408196, 5), (188462, 2), (85755, 2))"
      ]
     },
     "execution_count": 322,
     "metadata": {},
     "output_type": "execute_result"
    }
   ],
   "source": [
    "limit_season.shape, limit_high.shape, limit_alw.shape"
   ]
  },
  {
   "cell_type": "code",
   "execution_count": 323,
   "metadata": {},
   "outputs": [
    {
     "data": {
      "text/plain": [
       "(408196, 6)"
      ]
     },
     "execution_count": 323,
     "metadata": {},
     "output_type": "execute_result"
    }
   ],
   "source": [
    "limit_sh = limit_season.merge(limit_high, on='차대번호', how='left')\n",
    "limit_sh.shape"
   ]
  },
  {
   "cell_type": "code",
   "execution_count": 324,
   "metadata": {},
   "outputs": [
    {
     "data": {
      "text/plain": [
       "(408196, 7)"
      ]
     },
     "execution_count": 324,
     "metadata": {},
     "output_type": "execute_result"
    }
   ],
   "source": [
    "limit = limit_sh.merge(limit_alw, on='차대번호', how='left')\n",
    "limit.shape"
   ]
  },
  {
   "cell_type": "code",
   "execution_count": 325,
   "metadata": {},
   "outputs": [
    {
     "data": {
      "text/plain": [
       "Index(['차대번호', '계절제_1차', '계절제_2차', '계절제_3차', '계절제_4차', '비상시', '상시'], dtype='object')"
      ]
     },
     "execution_count": 325,
     "metadata": {},
     "output_type": "execute_result"
    }
   ],
   "source": [
    "limit.columns"
   ]
  },
  {
   "cell_type": "code",
   "execution_count": 326,
   "metadata": {},
   "outputs": [
    {
     "data": {
      "text/plain": [
       "계절제_1차         0\n",
       "계절제_2차         0\n",
       "계절제_3차         0\n",
       "계절제_4차         0\n",
       "비상시       271900\n",
       "상시        360710\n",
       "dtype: int64"
      ]
     },
     "execution_count": 326,
     "metadata": {},
     "output_type": "execute_result"
    }
   ],
   "source": [
    "limit[['계절제_1차', '계절제_2차', '계절제_3차', '계절제_4차', '비상시', '상시']].isnull().sum()"
   ]
  },
  {
   "cell_type": "code",
   "execution_count": 327,
   "metadata": {},
   "outputs": [
    {
     "data": {
      "text/plain": [
       "계절제_1차    0\n",
       "계절제_2차    0\n",
       "계절제_3차    0\n",
       "계절제_4차    0\n",
       "비상시       0\n",
       "상시        0\n",
       "dtype: int64"
      ]
     },
     "execution_count": 327,
     "metadata": {},
     "output_type": "execute_result"
    }
   ],
   "source": [
    "limit[['계절제_1차', '계절제_2차', '계절제_3차', '계절제_4차', '비상시', '상시']] = limit[['계절제_1차', '계절제_2차', '계절제_3차', '계절제_4차', '비상시', '상시']].fillna(0)\n",
    "limit[['계절제_1차', '계절제_2차', '계절제_3차', '계절제_4차', '비상시', '상시']].isnull().sum()"
   ]
  },
  {
   "cell_type": "code",
   "execution_count": 328,
   "metadata": {},
   "outputs": [],
   "source": [
    "limit['비상시'] = limit['비상시'].astype('int')\n",
    "limit['상시'] = limit['상시'].astype('int')"
   ]
  },
  {
   "cell_type": "code",
   "execution_count": 329,
   "metadata": {},
   "outputs": [
    {
     "data": {
      "text/html": [
       "<div>\n",
       "<style scoped>\n",
       "    .dataframe tbody tr th:only-of-type {\n",
       "        vertical-align: middle;\n",
       "    }\n",
       "\n",
       "    .dataframe tbody tr th {\n",
       "        vertical-align: top;\n",
       "    }\n",
       "\n",
       "    .dataframe thead th {\n",
       "        text-align: right;\n",
       "    }\n",
       "</style>\n",
       "<table border=\"1\" class=\"dataframe\">\n",
       "  <thead>\n",
       "    <tr style=\"text-align: right;\">\n",
       "      <th></th>\n",
       "      <th>차대번호</th>\n",
       "      <th>계절제_1차</th>\n",
       "      <th>계절제_2차</th>\n",
       "      <th>계절제_3차</th>\n",
       "      <th>계절제_4차</th>\n",
       "      <th>비상시</th>\n",
       "      <th>상시</th>\n",
       "    </tr>\n",
       "  </thead>\n",
       "  <tbody>\n",
       "    <tr>\n",
       "      <th>0</th>\n",
       "      <td>000000JN44C000673</td>\n",
       "      <td>0</td>\n",
       "      <td>0</td>\n",
       "      <td>9</td>\n",
       "      <td>0</td>\n",
       "      <td>1</td>\n",
       "      <td>0</td>\n",
       "    </tr>\n",
       "    <tr>\n",
       "      <th>1</th>\n",
       "      <td>01451201380</td>\n",
       "      <td>0</td>\n",
       "      <td>0</td>\n",
       "      <td>0</td>\n",
       "      <td>0</td>\n",
       "      <td>0</td>\n",
       "      <td>0</td>\n",
       "    </tr>\n",
       "    <tr>\n",
       "      <th>2</th>\n",
       "      <td>01751300580</td>\n",
       "      <td>0</td>\n",
       "      <td>1</td>\n",
       "      <td>0</td>\n",
       "      <td>0</td>\n",
       "      <td>0</td>\n",
       "      <td>0</td>\n",
       "    </tr>\n",
       "    <tr>\n",
       "      <th>3</th>\n",
       "      <td>01761300921</td>\n",
       "      <td>0</td>\n",
       "      <td>0</td>\n",
       "      <td>0</td>\n",
       "      <td>0</td>\n",
       "      <td>0</td>\n",
       "      <td>0</td>\n",
       "    </tr>\n",
       "    <tr>\n",
       "      <th>4</th>\n",
       "      <td>01761301128</td>\n",
       "      <td>0</td>\n",
       "      <td>0</td>\n",
       "      <td>1</td>\n",
       "      <td>0</td>\n",
       "      <td>0</td>\n",
       "      <td>0</td>\n",
       "    </tr>\n",
       "  </tbody>\n",
       "</table>\n",
       "</div>"
      ],
      "text/plain": [
       "                차대번호  계절제_1차  계절제_2차  계절제_3차  계절제_4차  비상시  상시\n",
       "0  000000JN44C000673       0       0       9       0    1   0\n",
       "1        01451201380       0       0       0       0    0   0\n",
       "2        01751300580       0       1       0       0    0   0\n",
       "3        01761300921       0       0       0       0    0   0\n",
       "4        01761301128       0       0       1       0    0   0"
      ]
     },
     "execution_count": 329,
     "metadata": {},
     "output_type": "execute_result"
    }
   ],
   "source": [
    "limit.head()"
   ]
  },
  {
   "cell_type": "code",
   "execution_count": 330,
   "metadata": {},
   "outputs": [
    {
     "data": {
      "text/plain": [
       "count   408196.00\n",
       "mean         3.50\n",
       "std         20.33\n",
       "min          0.00\n",
       "25%          0.00\n",
       "50%          0.00\n",
       "75%          0.00\n",
       "max        900.00\n",
       "Name: 상시, dtype: float64"
      ]
     },
     "execution_count": 330,
     "metadata": {},
     "output_type": "execute_result"
    }
   ],
   "source": [
    "limit['상시'].describe()"
   ]
  },
  {
   "cell_type": "code",
   "execution_count": 331,
   "metadata": {},
   "outputs": [
    {
     "data": {
      "text/plain": [
       "(1162570, 20)"
      ]
     },
     "execution_count": 331,
     "metadata": {},
     "output_type": "execute_result"
    }
   ],
   "source": [
    "df.shape"
   ]
  },
  {
   "cell_type": "code",
   "execution_count": 332,
   "metadata": {},
   "outputs": [
    {
     "data": {
      "text/plain": [
       "(1162570, 26)"
      ]
     },
     "execution_count": 332,
     "metadata": {},
     "output_type": "execute_result"
    }
   ],
   "source": [
    "lmt1 = df.merge(limit, on='차대번호', how='left')\n",
    "lmt1.shape"
   ]
  },
  {
   "cell_type": "code",
   "execution_count": 333,
   "metadata": {},
   "outputs": [
    {
     "data": {
      "text/plain": [
       "Index(['차대번호', '법정동코드', '차량말소YN', '제원관리번호', '차량연식', '차종', '용도', '최초등록일자',\n",
       "       '제작일자', '차량관리번호', '연료', '차종유형', 'DPF_YN', '시도코드', '시군구코드', '시도', '시군구',\n",
       "       '조기폐차상태코드', '조기폐차최종승인YN', '말소일자', '계절제_1차', '계절제_2차', '계절제_3차',\n",
       "       '계절제_4차', '비상시', '상시'],\n",
       "      dtype='object')"
      ]
     },
     "execution_count": 333,
     "metadata": {},
     "output_type": "execute_result"
    }
   ],
   "source": [
    "lmt1.columns"
   ]
  },
  {
   "cell_type": "code",
   "execution_count": 334,
   "metadata": {},
   "outputs": [
    {
     "data": {
      "text/plain": [
       "array(['충청남도', '충청북도', '경기도', '제주특별자치도', '경상북도', '울산광역시', '경상남도', '광주광역시',\n",
       "       '부산광역시', '대전광역시', '전라남도', '강원도', '대구광역시', '전라북도', '서울특별시', '인천광역시',\n",
       "       '세종특별자치시'], dtype=object)"
      ]
     },
     "execution_count": 334,
     "metadata": {},
     "output_type": "execute_result"
    }
   ],
   "source": [
    "lmt1['시도'].unique()"
   ]
  },
  {
   "cell_type": "code",
   "execution_count": 335,
   "metadata": {},
   "outputs": [],
   "source": [
    "lmt1.loc[(lmt1['시도'] == '서울특별시') | (lmt1['시도'] == '경기도') | (lmt1['시도'] == '인천광역시'), '지역'] = '수도권'\n",
    "lmt1['지역'] = lmt1['지역'].fillna('수도권외')"
   ]
  },
  {
   "cell_type": "code",
   "execution_count": 336,
   "metadata": {},
   "outputs": [
    {
     "data": {
      "text/plain": [
       "array(['수도권외', '수도권'], dtype=object)"
      ]
     },
     "execution_count": 336,
     "metadata": {},
     "output_type": "execute_result"
    }
   ],
   "source": [
    "lmt1['지역'].unique()"
   ]
  },
  {
   "cell_type": "code",
   "execution_count": 337,
   "metadata": {},
   "outputs": [
    {
     "data": {
      "text/plain": [
       "DPF_YN\n",
       "NaN    843374\n",
       "유      319196\n",
       "Name: count, dtype: int64"
      ]
     },
     "execution_count": 337,
     "metadata": {},
     "output_type": "execute_result"
    }
   ],
   "source": [
    "lmt1['DPF_YN'].value_counts(dropna=False)"
   ]
  },
  {
   "cell_type": "code",
   "execution_count": 338,
   "metadata": {},
   "outputs": [],
   "source": [
    "lmt1['DPF_YN'] = lmt1['DPF_YN'].fillna('무')"
   ]
  },
  {
   "cell_type": "code",
   "execution_count": 339,
   "metadata": {},
   "outputs": [
    {
     "data": {
      "text/plain": [
       "Index(['차대번호', '법정동코드', '차량말소YN', '제원관리번호', '차량연식', '차종', '용도', '최초등록일자',\n",
       "       '제작일자', '차량관리번호', '연료', '차종유형', 'DPF_YN', '시도코드', '시군구코드', '시도', '시군구',\n",
       "       '조기폐차상태코드', '조기폐차최종승인YN', '말소일자', '계절제_1차', '계절제_2차', '계절제_3차',\n",
       "       '계절제_4차', '비상시', '상시', '지역'],\n",
       "      dtype='object')"
      ]
     },
     "execution_count": 339,
     "metadata": {},
     "output_type": "execute_result"
    }
   ],
   "source": [
    "lmt1.columns"
   ]
  },
  {
   "cell_type": "code",
   "execution_count": 340,
   "metadata": {},
   "outputs": [
    {
     "data": {
      "text/plain": [
       "(54824, 10)"
      ]
     },
     "execution_count": 340,
     "metadata": {},
     "output_type": "execute_result"
    }
   ],
   "source": [
    "season = lmt1.loc[ (lmt1['계절제_1차'] > 0) | (lmt1['계절제_2차'] > 0) | (lmt1['계절제_3차'] > 0) | (lmt1['계절제_4차'] > 0),[\n",
    "    '차대번호', \n",
    "    '계절제_1차', \n",
    "    '계절제_2차',\n",
    "    '계절제_3차', \n",
    "    '계절제_4차',\n",
    "    '지역', \n",
    "    '시도', \n",
    "    'DPF_YN', \n",
    "    '차종', \n",
    "    '차종유형', \n",
    "]]\n",
    "season.shape"
   ]
  },
  {
   "cell_type": "code",
   "execution_count": 341,
   "metadata": {},
   "outputs": [],
   "source": [
    "cdict = {\n",
    "    '차대번호':'VIN', \n",
    "    '계절제_1차':'SEASON_1ODR_CRDN_NOCS', \n",
    "    '계절제_2차':'SEASON_2ODR_CRDN_NOCS',\n",
    "    '계절제_3차':'SEASON_3ODR_CRDN_NOCS', \n",
    "    '계절제_4차':'SEASON_4ODR_CRDN_NOCS',\n",
    "    '지역':'RGN', \n",
    "    '시도':'CTPV', \n",
    "    'DPF_YN':'DPF_EXTRNS_YN', \n",
    "    '차종':'VHCTY_CD', \n",
    "    '차종유형':'VHCTY_TY', \n",
    "}"
   ]
  },
  {
   "cell_type": "code",
   "execution_count": 342,
   "metadata": {},
   "outputs": [
    {
     "data": {
      "text/plain": [
       "Index(['VIN', 'SEASON_1ODR_CRDN_NOCS', 'SEASON_2ODR_CRDN_NOCS',\n",
       "       'SEASON_3ODR_CRDN_NOCS', 'SEASON_4ODR_CRDN_NOCS', 'RGN', 'CTPV',\n",
       "       'DPF_EXTRNS_YN', 'VHCTY_CD', 'VHCTY_TY'],\n",
       "      dtype='object')"
      ]
     },
     "execution_count": 342,
     "metadata": {},
     "output_type": "execute_result"
    }
   ],
   "source": [
    "STD_BD_SEASON_CRDN_NOCS_CURSTT = season.rename(columns=cdict)\n",
    "STD_BD_SEASON_CRDN_NOCS_CURSTT.columns"
   ]
  },
  {
   "attachments": {},
   "cell_type": "markdown",
   "metadata": {},
   "source": [
    "#### [출력] STD_BD_SEASON_CRDN_NOCS_CURSTT"
   ]
  },
  {
   "cell_type": "code",
   "execution_count": null,
   "metadata": {},
   "outputs": [],
   "source": [
    "# expdf = STD_BD_SEASON_CRDN_NOCS_CURSTT\n",
    "# table_nm = 'STD_BD_SEASON_CRDN_NOCS_CURSTT'.upper()\n",
    "\n",
    "# # 테이블 생성\n",
    "# sql = 'create table ' + table_nm + '( \\n'\n",
    "\n",
    "# for idx,column in enumerate(expdf.columns):\n",
    "#     if 'float' in expdf[column].dtype.name:\n",
    "#         sql += column + ' float'\n",
    "#     elif 'int' in expdf[column].dtype.name:\n",
    "#         sql += column + ' number'\n",
    "#     else:\n",
    "#         sql += column + ' varchar(255)'\n",
    "\n",
    "#     if len(expdf.columns) - 1 != idx:\n",
    "#         sql += ','\n",
    "#     sql += '\\n'\n",
    "# sql += ')'    \n",
    "# wbt.execute(sql)\n",
    "\n",
    "# # 데이터 추가\n",
    "# # 5s\n",
    "# wbt.import_from_pandas(expdf, table_nm)"
   ]
  },
  {
   "attachments": {},
   "cell_type": "markdown",
   "metadata": {},
   "source": [
    "### 지역별 상시운행제한 단속 현황"
   ]
  },
  {
   "cell_type": "code",
   "execution_count": 369,
   "metadata": {},
   "outputs": [
    {
     "data": {
      "text/plain": [
       "(3090035, 12)"
      ]
     },
     "execution_count": 369,
     "metadata": {},
     "output_type": "execute_result"
    }
   ],
   "source": [
    "us_total.shape"
   ]
  },
  {
   "cell_type": "code",
   "execution_count": 396,
   "metadata": {},
   "outputs": [
    {
     "data": {
      "text/plain": [
       "(3090035, 13)"
      ]
     },
     "execution_count": 396,
     "metadata": {},
     "output_type": "execute_result"
    }
   ],
   "source": [
    "us_total2 = us_total.merge(limit_alw, on='차대번호', how='left')\n",
    "us_total2.shape"
   ]
  },
  {
   "cell_type": "code",
   "execution_count": 397,
   "metadata": {},
   "outputs": [
    {
     "data": {
      "text/html": [
       "<div>\n",
       "<style scoped>\n",
       "    .dataframe tbody tr th:only-of-type {\n",
       "        vertical-align: middle;\n",
       "    }\n",
       "\n",
       "    .dataframe tbody tr th {\n",
       "        vertical-align: top;\n",
       "    }\n",
       "\n",
       "    .dataframe thead th {\n",
       "        text-align: right;\n",
       "    }\n",
       "</style>\n",
       "<table border=\"1\" class=\"dataframe\">\n",
       "  <thead>\n",
       "    <tr style=\"text-align: right;\">\n",
       "      <th></th>\n",
       "      <th>번호</th>\n",
       "      <th>등록시도코드</th>\n",
       "      <th>등록시군구코드</th>\n",
       "      <th>적발유형</th>\n",
       "      <th>단속지역코드</th>\n",
       "      <th>차대번호</th>\n",
       "      <th>적발건수</th>\n",
       "      <th>적발년월</th>\n",
       "      <th>법정동코드</th>\n",
       "      <th>시도</th>\n",
       "      <th>시군구</th>\n",
       "      <th>적발년월_년</th>\n",
       "      <th>상시</th>\n",
       "    </tr>\n",
       "  </thead>\n",
       "  <tbody>\n",
       "    <tr>\n",
       "      <th>0</th>\n",
       "      <td>117112</td>\n",
       "      <td>41</td>\n",
       "      <td>110</td>\n",
       "      <td>S</td>\n",
       "      <td>41430</td>\n",
       "      <td>KPBFA2AD12P021974</td>\n",
       "      <td>NaN</td>\n",
       "      <td>nan</td>\n",
       "      <td>4111000000.00</td>\n",
       "      <td>경기도</td>\n",
       "      <td>수원시</td>\n",
       "      <td>nan</td>\n",
       "      <td>0.00</td>\n",
       "    </tr>\n",
       "    <tr>\n",
       "      <th>1</th>\n",
       "      <td>117111</td>\n",
       "      <td>11</td>\n",
       "      <td>0</td>\n",
       "      <td>S</td>\n",
       "      <td>41430</td>\n",
       "      <td>KMHNN81XP2U038507</td>\n",
       "      <td>NaN</td>\n",
       "      <td>nan</td>\n",
       "      <td>1100000000.00</td>\n",
       "      <td>서울특별시</td>\n",
       "      <td>NaN</td>\n",
       "      <td>nan</td>\n",
       "      <td>78.00</td>\n",
       "    </tr>\n",
       "    <tr>\n",
       "      <th>2</th>\n",
       "      <td>117107</td>\n",
       "      <td>41</td>\n",
       "      <td>410</td>\n",
       "      <td>S</td>\n",
       "      <td>41430</td>\n",
       "      <td>KMFZCD7JP5U094049</td>\n",
       "      <td>NaN</td>\n",
       "      <td>nan</td>\n",
       "      <td>4141000000.00</td>\n",
       "      <td>경기도</td>\n",
       "      <td>군포시</td>\n",
       "      <td>nan</td>\n",
       "      <td>0.00</td>\n",
       "    </tr>\n",
       "    <tr>\n",
       "      <th>3</th>\n",
       "      <td>132833</td>\n",
       "      <td>11</td>\n",
       "      <td>0</td>\n",
       "      <td>S</td>\n",
       "      <td>41130</td>\n",
       "      <td>KMFWVH7HP4U579325</td>\n",
       "      <td>NaN</td>\n",
       "      <td>nan</td>\n",
       "      <td>1100000000.00</td>\n",
       "      <td>서울특별시</td>\n",
       "      <td>NaN</td>\n",
       "      <td>nan</td>\n",
       "      <td>12.00</td>\n",
       "    </tr>\n",
       "    <tr>\n",
       "      <th>4</th>\n",
       "      <td>6933349</td>\n",
       "      <td>11</td>\n",
       "      <td>0</td>\n",
       "      <td>S</td>\n",
       "      <td>41130</td>\n",
       "      <td>KNAMA75433S411400</td>\n",
       "      <td>NaN</td>\n",
       "      <td>nan</td>\n",
       "      <td>1100000000.00</td>\n",
       "      <td>서울특별시</td>\n",
       "      <td>NaN</td>\n",
       "      <td>nan</td>\n",
       "      <td>211.00</td>\n",
       "    </tr>\n",
       "  </tbody>\n",
       "</table>\n",
       "</div>"
      ],
      "text/plain": [
       "        번호  등록시도코드  등록시군구코드 적발유형  단속지역코드               차대번호  적발건수 적발년월   \n",
       "0   117112      41      110    S   41430  KPBFA2AD12P021974   NaN  nan  \\\n",
       "1   117111      11        0    S   41430  KMHNN81XP2U038507   NaN  nan   \n",
       "2   117107      41      410    S   41430  KMFZCD7JP5U094049   NaN  nan   \n",
       "3   132833      11        0    S   41130  KMFWVH7HP4U579325   NaN  nan   \n",
       "4  6933349      11        0    S   41130  KNAMA75433S411400   NaN  nan   \n",
       "\n",
       "          법정동코드     시도  시군구 적발년월_년     상시  \n",
       "0 4111000000.00    경기도  수원시    nan   0.00  \n",
       "1 1100000000.00  서울특별시  NaN    nan  78.00  \n",
       "2 4141000000.00    경기도  군포시    nan   0.00  \n",
       "3 1100000000.00  서울특별시  NaN    nan  12.00  \n",
       "4 1100000000.00  서울특별시  NaN    nan 211.00  "
      ]
     },
     "execution_count": 397,
     "metadata": {},
     "output_type": "execute_result"
    }
   ],
   "source": [
    "us_total2.head()"
   ]
  },
  {
   "cell_type": "code",
   "execution_count": 398,
   "metadata": {},
   "outputs": [],
   "source": [
    "us_total2.loc[(us_total2['시도'] == '서울특별시') | (us_total2['시도'] == '경기도') | (us_total2['시도'] == '인천광역시'), '지역'] = '수도권'\n",
    "us_total2['지역'] = us_total2['지역'].fillna('수도권외')"
   ]
  },
  {
   "cell_type": "code",
   "execution_count": 399,
   "metadata": {},
   "outputs": [
    {
     "data": {
      "text/plain": [
       "(85755, 14)"
      ]
     },
     "execution_count": 399,
     "metadata": {},
     "output_type": "execute_result"
    }
   ],
   "source": [
    "us_total2 = us_total2.sort_values('적발년월_년', ascending=True).drop_duplicates('차대번호').reset_index(drop=True)\n",
    "us_total2.shape"
   ]
  },
  {
   "cell_type": "code",
   "execution_count": 400,
   "metadata": {},
   "outputs": [
    {
     "data": {
      "text/html": [
       "<div>\n",
       "<style scoped>\n",
       "    .dataframe tbody tr th:only-of-type {\n",
       "        vertical-align: middle;\n",
       "    }\n",
       "\n",
       "    .dataframe tbody tr th {\n",
       "        vertical-align: top;\n",
       "    }\n",
       "\n",
       "    .dataframe thead th {\n",
       "        text-align: right;\n",
       "    }\n",
       "</style>\n",
       "<table border=\"1\" class=\"dataframe\">\n",
       "  <thead>\n",
       "    <tr style=\"text-align: right;\">\n",
       "      <th></th>\n",
       "      <th>번호</th>\n",
       "      <th>등록시도코드</th>\n",
       "      <th>등록시군구코드</th>\n",
       "      <th>적발유형</th>\n",
       "      <th>단속지역코드</th>\n",
       "      <th>차대번호</th>\n",
       "      <th>적발건수</th>\n",
       "      <th>적발년월</th>\n",
       "      <th>법정동코드</th>\n",
       "      <th>시도</th>\n",
       "      <th>시군구</th>\n",
       "      <th>적발년월_년</th>\n",
       "      <th>상시</th>\n",
       "      <th>지역</th>\n",
       "    </tr>\n",
       "  </thead>\n",
       "  <tbody>\n",
       "    <tr>\n",
       "      <th>0</th>\n",
       "      <td>29292052</td>\n",
       "      <td>11</td>\n",
       "      <td>140</td>\n",
       "      <td>S</td>\n",
       "      <td>11000</td>\n",
       "      <td>KMHWP81HP4U595502</td>\n",
       "      <td>1.00</td>\n",
       "      <td>201910.0</td>\n",
       "      <td>1114000000.00</td>\n",
       "      <td>서울특별시</td>\n",
       "      <td>중구</td>\n",
       "      <td>2019</td>\n",
       "      <td>21.00</td>\n",
       "      <td>수도권</td>\n",
       "    </tr>\n",
       "    <tr>\n",
       "      <th>1</th>\n",
       "      <td>27704334</td>\n",
       "      <td>48</td>\n",
       "      <td>330</td>\n",
       "      <td>S</td>\n",
       "      <td>11000</td>\n",
       "      <td>KL3XD70C1TK000480</td>\n",
       "      <td>2.00</td>\n",
       "      <td>201909.0</td>\n",
       "      <td>4833000000.00</td>\n",
       "      <td>경상남도</td>\n",
       "      <td>양산시</td>\n",
       "      <td>2019</td>\n",
       "      <td>14.00</td>\n",
       "      <td>수도권외</td>\n",
       "    </tr>\n",
       "    <tr>\n",
       "      <th>2</th>\n",
       "      <td>7988381</td>\n",
       "      <td>11</td>\n",
       "      <td>140</td>\n",
       "      <td>S</td>\n",
       "      <td>11000</td>\n",
       "      <td>KMHMH81VP5U260393</td>\n",
       "      <td>4.00</td>\n",
       "      <td>201905.0</td>\n",
       "      <td>1114000000.00</td>\n",
       "      <td>서울특별시</td>\n",
       "      <td>중구</td>\n",
       "      <td>2019</td>\n",
       "      <td>99.00</td>\n",
       "      <td>수도권</td>\n",
       "    </tr>\n",
       "    <tr>\n",
       "      <th>3</th>\n",
       "      <td>27704294</td>\n",
       "      <td>11</td>\n",
       "      <td>140</td>\n",
       "      <td>S</td>\n",
       "      <td>11000</td>\n",
       "      <td>KMFFD37BPXU433184</td>\n",
       "      <td>1.00</td>\n",
       "      <td>201909.0</td>\n",
       "      <td>1114000000.00</td>\n",
       "      <td>서울특별시</td>\n",
       "      <td>중구</td>\n",
       "      <td>2019</td>\n",
       "      <td>1.00</td>\n",
       "      <td>수도권</td>\n",
       "    </tr>\n",
       "    <tr>\n",
       "      <th>4</th>\n",
       "      <td>7988382</td>\n",
       "      <td>11</td>\n",
       "      <td>140</td>\n",
       "      <td>S</td>\n",
       "      <td>11000</td>\n",
       "      <td>KNAMA75434S616088</td>\n",
       "      <td>8.00</td>\n",
       "      <td>201905.0</td>\n",
       "      <td>1114000000.00</td>\n",
       "      <td>서울특별시</td>\n",
       "      <td>중구</td>\n",
       "      <td>2019</td>\n",
       "      <td>64.00</td>\n",
       "      <td>수도권</td>\n",
       "    </tr>\n",
       "  </tbody>\n",
       "</table>\n",
       "</div>"
      ],
      "text/plain": [
       "         번호  등록시도코드  등록시군구코드 적발유형  단속지역코드               차대번호  적발건수      적발년월   \n",
       "0  29292052      11      140    S   11000  KMHWP81HP4U595502  1.00  201910.0  \\\n",
       "1  27704334      48      330    S   11000  KL3XD70C1TK000480  2.00  201909.0   \n",
       "2   7988381      11      140    S   11000  KMHMH81VP5U260393  4.00  201905.0   \n",
       "3  27704294      11      140    S   11000  KMFFD37BPXU433184  1.00  201909.0   \n",
       "4   7988382      11      140    S   11000  KNAMA75434S616088  8.00  201905.0   \n",
       "\n",
       "          법정동코드     시도  시군구 적발년월_년    상시    지역  \n",
       "0 1114000000.00  서울특별시   중구   2019 21.00   수도권  \n",
       "1 4833000000.00   경상남도  양산시   2019 14.00  수도권외  \n",
       "2 1114000000.00  서울특별시   중구   2019 99.00   수도권  \n",
       "3 1114000000.00  서울특별시   중구   2019  1.00   수도권  \n",
       "4 1114000000.00  서울특별시   중구   2019 64.00   수도권  "
      ]
     },
     "execution_count": 400,
     "metadata": {},
     "output_type": "execute_result"
    }
   ],
   "source": [
    "us_total2.head()"
   ]
  },
  {
   "cell_type": "code",
   "execution_count": 401,
   "metadata": {},
   "outputs": [
    {
     "data": {
      "text/html": [
       "<div>\n",
       "<style scoped>\n",
       "    .dataframe tbody tr th:only-of-type {\n",
       "        vertical-align: middle;\n",
       "    }\n",
       "\n",
       "    .dataframe tbody tr th {\n",
       "        vertical-align: top;\n",
       "    }\n",
       "\n",
       "    .dataframe thead th {\n",
       "        text-align: right;\n",
       "    }\n",
       "</style>\n",
       "<table border=\"1\" class=\"dataframe\">\n",
       "  <thead>\n",
       "    <tr style=\"text-align: right;\">\n",
       "      <th></th>\n",
       "      <th>번호</th>\n",
       "      <th>등록시도코드</th>\n",
       "      <th>등록시군구코드</th>\n",
       "      <th>적발유형</th>\n",
       "      <th>단속지역코드</th>\n",
       "      <th>차대번호</th>\n",
       "      <th>적발년월</th>\n",
       "      <th>법정동코드</th>\n",
       "      <th>시도</th>\n",
       "      <th>시군구</th>\n",
       "      <th>적발년월_년</th>\n",
       "      <th>상시</th>\n",
       "      <th>지역</th>\n",
       "    </tr>\n",
       "  </thead>\n",
       "  <tbody>\n",
       "    <tr>\n",
       "      <th>0</th>\n",
       "      <td>29292052</td>\n",
       "      <td>11</td>\n",
       "      <td>140</td>\n",
       "      <td>S</td>\n",
       "      <td>11000</td>\n",
       "      <td>KMHWP81HP4U595502</td>\n",
       "      <td>201910.0</td>\n",
       "      <td>1114000000.00</td>\n",
       "      <td>서울특별시</td>\n",
       "      <td>중구</td>\n",
       "      <td>2019</td>\n",
       "      <td>21.00</td>\n",
       "      <td>수도권</td>\n",
       "    </tr>\n",
       "    <tr>\n",
       "      <th>1</th>\n",
       "      <td>27704334</td>\n",
       "      <td>48</td>\n",
       "      <td>330</td>\n",
       "      <td>S</td>\n",
       "      <td>11000</td>\n",
       "      <td>KL3XD70C1TK000480</td>\n",
       "      <td>201909.0</td>\n",
       "      <td>4833000000.00</td>\n",
       "      <td>경상남도</td>\n",
       "      <td>양산시</td>\n",
       "      <td>2019</td>\n",
       "      <td>14.00</td>\n",
       "      <td>수도권외</td>\n",
       "    </tr>\n",
       "    <tr>\n",
       "      <th>2</th>\n",
       "      <td>7988381</td>\n",
       "      <td>11</td>\n",
       "      <td>140</td>\n",
       "      <td>S</td>\n",
       "      <td>11000</td>\n",
       "      <td>KMHMH81VP5U260393</td>\n",
       "      <td>201905.0</td>\n",
       "      <td>1114000000.00</td>\n",
       "      <td>서울특별시</td>\n",
       "      <td>중구</td>\n",
       "      <td>2019</td>\n",
       "      <td>99.00</td>\n",
       "      <td>수도권</td>\n",
       "    </tr>\n",
       "    <tr>\n",
       "      <th>3</th>\n",
       "      <td>27704294</td>\n",
       "      <td>11</td>\n",
       "      <td>140</td>\n",
       "      <td>S</td>\n",
       "      <td>11000</td>\n",
       "      <td>KMFFD37BPXU433184</td>\n",
       "      <td>201909.0</td>\n",
       "      <td>1114000000.00</td>\n",
       "      <td>서울특별시</td>\n",
       "      <td>중구</td>\n",
       "      <td>2019</td>\n",
       "      <td>1.00</td>\n",
       "      <td>수도권</td>\n",
       "    </tr>\n",
       "    <tr>\n",
       "      <th>4</th>\n",
       "      <td>7988382</td>\n",
       "      <td>11</td>\n",
       "      <td>140</td>\n",
       "      <td>S</td>\n",
       "      <td>11000</td>\n",
       "      <td>KNAMA75434S616088</td>\n",
       "      <td>201905.0</td>\n",
       "      <td>1114000000.00</td>\n",
       "      <td>서울특별시</td>\n",
       "      <td>중구</td>\n",
       "      <td>2019</td>\n",
       "      <td>64.00</td>\n",
       "      <td>수도권</td>\n",
       "    </tr>\n",
       "  </tbody>\n",
       "</table>\n",
       "</div>"
      ],
      "text/plain": [
       "         번호  등록시도코드  등록시군구코드 적발유형  단속지역코드               차대번호      적발년월   \n",
       "0  29292052      11      140    S   11000  KMHWP81HP4U595502  201910.0  \\\n",
       "1  27704334      48      330    S   11000  KL3XD70C1TK000480  201909.0   \n",
       "2   7988381      11      140    S   11000  KMHMH81VP5U260393  201905.0   \n",
       "3  27704294      11      140    S   11000  KMFFD37BPXU433184  201909.0   \n",
       "4   7988382      11      140    S   11000  KNAMA75434S616088  201905.0   \n",
       "\n",
       "          법정동코드     시도  시군구 적발년월_년    상시    지역  \n",
       "0 1114000000.00  서울특별시   중구   2019 21.00   수도권  \n",
       "1 4833000000.00   경상남도  양산시   2019 14.00  수도권외  \n",
       "2 1114000000.00  서울특별시   중구   2019 99.00   수도권  \n",
       "3 1114000000.00  서울특별시   중구   2019  1.00   수도권  \n",
       "4 1114000000.00  서울특별시   중구   2019 64.00   수도권  "
      ]
     },
     "execution_count": 401,
     "metadata": {},
     "output_type": "execute_result"
    }
   ],
   "source": [
    "us_total2 = us_total2.drop(['적발건수'], axis=1)\n",
    "us_total2.head()"
   ]
  },
  {
   "cell_type": "code",
   "execution_count": 403,
   "metadata": {},
   "outputs": [
    {
     "data": {
      "text/html": [
       "<div>\n",
       "<style scoped>\n",
       "    .dataframe tbody tr th:only-of-type {\n",
       "        vertical-align: middle;\n",
       "    }\n",
       "\n",
       "    .dataframe tbody tr th {\n",
       "        vertical-align: top;\n",
       "    }\n",
       "\n",
       "    .dataframe thead th {\n",
       "        text-align: right;\n",
       "    }\n",
       "</style>\n",
       "<table border=\"1\" class=\"dataframe\">\n",
       "  <thead>\n",
       "    <tr style=\"text-align: right;\">\n",
       "      <th></th>\n",
       "      <th>번호</th>\n",
       "      <th>등록시도코드</th>\n",
       "      <th>등록시군구코드</th>\n",
       "      <th>적발유형</th>\n",
       "      <th>단속지역코드</th>\n",
       "      <th>차대번호</th>\n",
       "      <th>적발년월</th>\n",
       "      <th>법정동코드</th>\n",
       "      <th>시도</th>\n",
       "      <th>시군구</th>\n",
       "      <th>적발년도</th>\n",
       "      <th>적발건수</th>\n",
       "      <th>지역</th>\n",
       "    </tr>\n",
       "  </thead>\n",
       "  <tbody>\n",
       "    <tr>\n",
       "      <th>0</th>\n",
       "      <td>29292052</td>\n",
       "      <td>11</td>\n",
       "      <td>140</td>\n",
       "      <td>S</td>\n",
       "      <td>11000</td>\n",
       "      <td>KMHWP81HP4U595502</td>\n",
       "      <td>201910.0</td>\n",
       "      <td>1114000000.00</td>\n",
       "      <td>서울특별시</td>\n",
       "      <td>중구</td>\n",
       "      <td>2019</td>\n",
       "      <td>21.00</td>\n",
       "      <td>수도권</td>\n",
       "    </tr>\n",
       "    <tr>\n",
       "      <th>1</th>\n",
       "      <td>27704334</td>\n",
       "      <td>48</td>\n",
       "      <td>330</td>\n",
       "      <td>S</td>\n",
       "      <td>11000</td>\n",
       "      <td>KL3XD70C1TK000480</td>\n",
       "      <td>201909.0</td>\n",
       "      <td>4833000000.00</td>\n",
       "      <td>경상남도</td>\n",
       "      <td>양산시</td>\n",
       "      <td>2019</td>\n",
       "      <td>14.00</td>\n",
       "      <td>수도권외</td>\n",
       "    </tr>\n",
       "    <tr>\n",
       "      <th>2</th>\n",
       "      <td>7988381</td>\n",
       "      <td>11</td>\n",
       "      <td>140</td>\n",
       "      <td>S</td>\n",
       "      <td>11000</td>\n",
       "      <td>KMHMH81VP5U260393</td>\n",
       "      <td>201905.0</td>\n",
       "      <td>1114000000.00</td>\n",
       "      <td>서울특별시</td>\n",
       "      <td>중구</td>\n",
       "      <td>2019</td>\n",
       "      <td>99.00</td>\n",
       "      <td>수도권</td>\n",
       "    </tr>\n",
       "    <tr>\n",
       "      <th>3</th>\n",
       "      <td>27704294</td>\n",
       "      <td>11</td>\n",
       "      <td>140</td>\n",
       "      <td>S</td>\n",
       "      <td>11000</td>\n",
       "      <td>KMFFD37BPXU433184</td>\n",
       "      <td>201909.0</td>\n",
       "      <td>1114000000.00</td>\n",
       "      <td>서울특별시</td>\n",
       "      <td>중구</td>\n",
       "      <td>2019</td>\n",
       "      <td>1.00</td>\n",
       "      <td>수도권</td>\n",
       "    </tr>\n",
       "    <tr>\n",
       "      <th>4</th>\n",
       "      <td>7988382</td>\n",
       "      <td>11</td>\n",
       "      <td>140</td>\n",
       "      <td>S</td>\n",
       "      <td>11000</td>\n",
       "      <td>KNAMA75434S616088</td>\n",
       "      <td>201905.0</td>\n",
       "      <td>1114000000.00</td>\n",
       "      <td>서울특별시</td>\n",
       "      <td>중구</td>\n",
       "      <td>2019</td>\n",
       "      <td>64.00</td>\n",
       "      <td>수도권</td>\n",
       "    </tr>\n",
       "  </tbody>\n",
       "</table>\n",
       "</div>"
      ],
      "text/plain": [
       "         번호  등록시도코드  등록시군구코드 적발유형  단속지역코드               차대번호      적발년월   \n",
       "0  29292052      11      140    S   11000  KMHWP81HP4U595502  201910.0  \\\n",
       "1  27704334      48      330    S   11000  KL3XD70C1TK000480  201909.0   \n",
       "2   7988381      11      140    S   11000  KMHMH81VP5U260393  201905.0   \n",
       "3  27704294      11      140    S   11000  KMFFD37BPXU433184  201909.0   \n",
       "4   7988382      11      140    S   11000  KNAMA75434S616088  201905.0   \n",
       "\n",
       "          법정동코드     시도  시군구  적발년도  적발건수    지역  \n",
       "0 1114000000.00  서울특별시   중구  2019 21.00   수도권  \n",
       "1 4833000000.00   경상남도  양산시  2019 14.00  수도권외  \n",
       "2 1114000000.00  서울특별시   중구  2019 99.00   수도권  \n",
       "3 1114000000.00  서울특별시   중구  2019  1.00   수도권  \n",
       "4 1114000000.00  서울특별시   중구  2019 64.00   수도권  "
      ]
     },
     "execution_count": 403,
     "metadata": {},
     "output_type": "execute_result"
    }
   ],
   "source": [
    "us_total2 = us_total2.rename(columns={'적발년월_년':'적발년도', '상시':'적발건수'})\n",
    "us_total2.head()"
   ]
  },
  {
   "cell_type": "code",
   "execution_count": 404,
   "metadata": {},
   "outputs": [
    {
     "data": {
      "text/plain": [
       "dtype('float64')"
      ]
     },
     "execution_count": 404,
     "metadata": {},
     "output_type": "execute_result"
    }
   ],
   "source": [
    "us_total2['적발건수'].dtype"
   ]
  },
  {
   "cell_type": "code",
   "execution_count": 405,
   "metadata": {},
   "outputs": [],
   "source": [
    "orditm = us_total2.loc[(us_total2['적발건수'] > 0)& (us_total2['적발년도'].isnull() == False), [\n",
    "    '차대번호',\n",
    "    '적발년도',\n",
    "    '적발건수',\n",
    "    '지역',\n",
    "    '시도',\n",
    "]]"
   ]
  },
  {
   "cell_type": "code",
   "execution_count": 406,
   "metadata": {},
   "outputs": [
    {
     "data": {
      "text/plain": [
       "(83631, 5)"
      ]
     },
     "execution_count": 406,
     "metadata": {},
     "output_type": "execute_result"
    }
   ],
   "source": [
    "orditm.shape"
   ]
  },
  {
   "cell_type": "code",
   "execution_count": 407,
   "metadata": {},
   "outputs": [
    {
     "data": {
      "text/plain": [
       "count   83631.00\n",
       "mean       23.77\n",
       "std        44.56\n",
       "min         1.00\n",
       "25%         2.00\n",
       "50%         8.00\n",
       "75%        27.00\n",
       "max       900.00\n",
       "Name: 적발건수, dtype: float64"
      ]
     },
     "execution_count": 407,
     "metadata": {},
     "output_type": "execute_result"
    }
   ],
   "source": [
    "orditm['적발건수'].describe()"
   ]
  },
  {
   "attachments": {},
   "cell_type": "markdown",
   "metadata": {},
   "source": [
    "#### [❌] [로드] 상시 적발지역 차대번호2"
   ]
  },
  {
   "cell_type": "code",
   "execution_count": 278,
   "metadata": {},
   "outputs": [
    {
     "name": "stdout",
     "output_type": "stream",
     "text": [
      "<class 'pandas.core.frame.DataFrame'>\n",
      "RangeIndex: 106472 entries, 0 to 106471\n",
      "Data columns (total 5 columns):\n",
      " #   Column  Non-Null Count   Dtype \n",
      "---  ------  --------------   ----- \n",
      " 0   차대번호    106472 non-null  object\n",
      " 1   적발년도    106472 non-null  int64 \n",
      " 2   적발건수    106472 non-null  int64 \n",
      " 3   지역      106472 non-null  object\n",
      " 4   시도      106472 non-null  object\n",
      "dtypes: int64(2), object(3)\n",
      "memory usage: 4.1+ MB\n"
     ]
    }
   ],
   "source": [
    "# # about 2.1s\n",
    "# name = '상시 적발지역 차대번호2'\n",
    "# file_name = f'{name}.csv'\n",
    "# orditm = pd.read_csv(os.path.join(raw3_fold, file_name), encoding='cp949')\n",
    "# orditm.info()"
   ]
  },
  {
   "cell_type": "code",
   "execution_count": 280,
   "metadata": {},
   "outputs": [
    {
     "data": {
      "text/html": [
       "<div>\n",
       "<style scoped>\n",
       "    .dataframe tbody tr th:only-of-type {\n",
       "        vertical-align: middle;\n",
       "    }\n",
       "\n",
       "    .dataframe tbody tr th {\n",
       "        vertical-align: top;\n",
       "    }\n",
       "\n",
       "    .dataframe thead th {\n",
       "        text-align: right;\n",
       "    }\n",
       "</style>\n",
       "<table border=\"1\" class=\"dataframe\">\n",
       "  <thead>\n",
       "    <tr style=\"text-align: right;\">\n",
       "      <th></th>\n",
       "      <th>차대번호</th>\n",
       "      <th>적발년도</th>\n",
       "      <th>적발건수</th>\n",
       "      <th>지역</th>\n",
       "      <th>시도</th>\n",
       "    </tr>\n",
       "  </thead>\n",
       "  <tbody>\n",
       "    <tr>\n",
       "      <th>0</th>\n",
       "      <td>KNGDPM5313K123343</td>\n",
       "      <td>2019</td>\n",
       "      <td>2</td>\n",
       "      <td>수도권</td>\n",
       "      <td>서울</td>\n",
       "    </tr>\n",
       "    <tr>\n",
       "      <th>1</th>\n",
       "      <td>KNGDPM5N14K163032</td>\n",
       "      <td>2019</td>\n",
       "      <td>4</td>\n",
       "      <td>수도권</td>\n",
       "      <td>서울</td>\n",
       "    </tr>\n",
       "    <tr>\n",
       "      <th>2</th>\n",
       "      <td>KNHMB76136S072660</td>\n",
       "      <td>2019</td>\n",
       "      <td>4</td>\n",
       "      <td>수도권</td>\n",
       "      <td>인천</td>\n",
       "    </tr>\n",
       "    <tr>\n",
       "      <th>3</th>\n",
       "      <td>KNHMB76137S128033</td>\n",
       "      <td>2019</td>\n",
       "      <td>3</td>\n",
       "      <td>수도권</td>\n",
       "      <td>서울</td>\n",
       "    </tr>\n",
       "    <tr>\n",
       "      <th>4</th>\n",
       "      <td>KNHUP7513YS048282</td>\n",
       "      <td>2019</td>\n",
       "      <td>6</td>\n",
       "      <td>수도권</td>\n",
       "      <td>서울</td>\n",
       "    </tr>\n",
       "    <tr>\n",
       "      <th>...</th>\n",
       "      <td>...</td>\n",
       "      <td>...</td>\n",
       "      <td>...</td>\n",
       "      <td>...</td>\n",
       "      <td>...</td>\n",
       "    </tr>\n",
       "    <tr>\n",
       "      <th>106467</th>\n",
       "      <td>KMHMJ81VP7U300058</td>\n",
       "      <td>2020</td>\n",
       "      <td>4</td>\n",
       "      <td>수도권</td>\n",
       "      <td>서울</td>\n",
       "    </tr>\n",
       "    <tr>\n",
       "      <th>106468</th>\n",
       "      <td>KMHWP81JP6U718394</td>\n",
       "      <td>2020</td>\n",
       "      <td>1</td>\n",
       "      <td>수도권</td>\n",
       "      <td>서울</td>\n",
       "    </tr>\n",
       "    <tr>\n",
       "      <th>106469</th>\n",
       "      <td>KN3HAP53E3K912032</td>\n",
       "      <td>2020</td>\n",
       "      <td>1</td>\n",
       "      <td>수도권외</td>\n",
       "      <td>부산</td>\n",
       "    </tr>\n",
       "    <tr>\n",
       "      <th>106470</th>\n",
       "      <td>KNAMA75433S415876</td>\n",
       "      <td>2020</td>\n",
       "      <td>5</td>\n",
       "      <td>수도권</td>\n",
       "      <td>인천</td>\n",
       "    </tr>\n",
       "    <tr>\n",
       "      <th>106471</th>\n",
       "      <td>KMFXKD7BPYU419049</td>\n",
       "      <td>2020</td>\n",
       "      <td>1</td>\n",
       "      <td>수도권</td>\n",
       "      <td>서울</td>\n",
       "    </tr>\n",
       "  </tbody>\n",
       "</table>\n",
       "<p>106472 rows × 5 columns</p>\n",
       "</div>"
      ],
      "text/plain": [
       "                     차대번호  적발년도  적발건수    지역  시도\n",
       "0       KNGDPM5313K123343  2019     2   수도권  서울\n",
       "1       KNGDPM5N14K163032  2019     4   수도권  서울\n",
       "2       KNHMB76136S072660  2019     4   수도권  인천\n",
       "3       KNHMB76137S128033  2019     3   수도권  서울\n",
       "4       KNHUP7513YS048282  2019     6   수도권  서울\n",
       "...                   ...   ...   ...   ...  ..\n",
       "106467  KMHMJ81VP7U300058  2020     4   수도권  서울\n",
       "106468  KMHWP81JP6U718394  2020     1   수도권  서울\n",
       "106469  KN3HAP53E3K912032  2020     1  수도권외  부산\n",
       "106470  KNAMA75433S415876  2020     5   수도권  인천\n",
       "106471  KMFXKD7BPYU419049  2020     1   수도권  서울\n",
       "\n",
       "[106472 rows x 5 columns]"
      ]
     },
     "execution_count": 280,
     "metadata": {},
     "output_type": "execute_result"
    }
   ],
   "source": [
    "# orditm[orditm['적발건수'] > 0]"
   ]
  },
  {
   "cell_type": "code",
   "execution_count": 408,
   "metadata": {},
   "outputs": [],
   "source": [
    "cdict = {\n",
    "    '차대번호':'VIN', \n",
    "    '적발년도':'DSCL_YR', \n",
    "    '적발건수':'DSCL_NOCS', \n",
    "    '지역':'RGN',\n",
    "    '시도':'CTPV', \n",
    "}"
   ]
  },
  {
   "cell_type": "code",
   "execution_count": 409,
   "metadata": {},
   "outputs": [
    {
     "data": {
      "text/plain": [
       "Index(['VIN', 'DSCL_YR', 'DSCL_NOCS', 'RGN', 'CTPV'], dtype='object')"
      ]
     },
     "execution_count": 409,
     "metadata": {},
     "output_type": "execute_result"
    }
   ],
   "source": [
    "STD_BD_ORDITM_DSCL_CURSTT = orditm.rename(columns=cdict)\n",
    "STD_BD_ORDITM_DSCL_CURSTT.columns"
   ]
  },
  {
   "attachments": {},
   "cell_type": "markdown",
   "metadata": {},
   "source": [
    "#### [출력] STD_BD_ORDITM_DSCL_CURSTT"
   ]
  },
  {
   "cell_type": "code",
   "execution_count": null,
   "metadata": {},
   "outputs": [],
   "source": [
    "# expdf = STD_BD_ORDITM_DSCL_CURSTT\n",
    "# table_nm = 'STD_BD_ORDITM_DSCL_CURSTT'.upper()\n",
    "\n",
    "# # 테이블 생성\n",
    "# sql = 'create table ' + table_nm + '( \\n'\n",
    "\n",
    "# for idx,column in enumerate(expdf.columns):\n",
    "#     if 'float' in expdf[column].dtype.name:\n",
    "#         sql += column + ' float'\n",
    "#     elif 'int' in expdf[column].dtype.name:\n",
    "#         sql += column + ' number'\n",
    "#     else:\n",
    "#         sql += column + ' varchar(255)'\n",
    "\n",
    "#     if len(expdf.columns) - 1 != idx:\n",
    "#         sql += ','\n",
    "#     sql += '\\n'\n",
    "# sql += ')'    \n",
    "# wbt.execute(sql)\n",
    "\n",
    "# # 데이터 추가\n",
    "# # 5s\n",
    "# wbt.import_from_pandas(expdf, table_nm)"
   ]
  },
  {
   "attachments": {},
   "cell_type": "markdown",
   "metadata": {},
   "source": [
    "### 적발지역별 계절제 단속 현황 출력"
   ]
  },
  {
   "cell_type": "code",
   "execution_count": 410,
   "metadata": {},
   "outputs": [
    {
     "data": {
      "text/html": [
       "<div>\n",
       "<style scoped>\n",
       "    .dataframe tbody tr th:only-of-type {\n",
       "        vertical-align: middle;\n",
       "    }\n",
       "\n",
       "    .dataframe tbody tr th {\n",
       "        vertical-align: top;\n",
       "    }\n",
       "\n",
       "    .dataframe thead th {\n",
       "        text-align: right;\n",
       "    }\n",
       "</style>\n",
       "<table border=\"1\" class=\"dataframe\">\n",
       "  <thead>\n",
       "    <tr style=\"text-align: right;\">\n",
       "      <th></th>\n",
       "      <th>적발번호</th>\n",
       "      <th>발령번호</th>\n",
       "      <th>등록시도코드</th>\n",
       "      <th>등록시군구코드</th>\n",
       "      <th>적발지역코드</th>\n",
       "      <th>차대번호</th>\n",
       "      <th>단속일</th>\n",
       "      <th>농도기준아이디</th>\n",
       "      <th>유형기준아이디</th>\n",
       "      <th>등록시도</th>\n",
       "      <th>등록시군구</th>\n",
       "      <th>적발시도</th>\n",
       "      <th>적발시도</th>\n",
       "    </tr>\n",
       "  </thead>\n",
       "  <tbody>\n",
       "    <tr>\n",
       "      <th>0</th>\n",
       "      <td>54793831</td>\n",
       "      <td>1838</td>\n",
       "      <td>41</td>\n",
       "      <td>190</td>\n",
       "      <td>41190</td>\n",
       "      <td>KMFXKS7BP3U657943</td>\n",
       "      <td>NaN</td>\n",
       "      <td>C012</td>\n",
       "      <td>T001</td>\n",
       "      <td>경기도</td>\n",
       "      <td>부천시</td>\n",
       "      <td>경기도</td>\n",
       "      <td>부천시</td>\n",
       "    </tr>\n",
       "    <tr>\n",
       "      <th>1</th>\n",
       "      <td>54793839</td>\n",
       "      <td>1838</td>\n",
       "      <td>41</td>\n",
       "      <td>190</td>\n",
       "      <td>41190</td>\n",
       "      <td>KNAMA75432S388470</td>\n",
       "      <td>NaN</td>\n",
       "      <td>C012</td>\n",
       "      <td>T001</td>\n",
       "      <td>경기도</td>\n",
       "      <td>부천시</td>\n",
       "      <td>경기도</td>\n",
       "      <td>부천시</td>\n",
       "    </tr>\n",
       "    <tr>\n",
       "      <th>2</th>\n",
       "      <td>54793843</td>\n",
       "      <td>1838</td>\n",
       "      <td>28</td>\n",
       "      <td>237</td>\n",
       "      <td>41190</td>\n",
       "      <td>KNGDNM9N14K178854</td>\n",
       "      <td>NaN</td>\n",
       "      <td>C012</td>\n",
       "      <td>T001</td>\n",
       "      <td>인천광역시</td>\n",
       "      <td>부평구</td>\n",
       "      <td>경기도</td>\n",
       "      <td>부천시</td>\n",
       "    </tr>\n",
       "    <tr>\n",
       "      <th>3</th>\n",
       "      <td>54795717</td>\n",
       "      <td>1838</td>\n",
       "      <td>41</td>\n",
       "      <td>130</td>\n",
       "      <td>41190</td>\n",
       "      <td>KMFGA17PP7C072098</td>\n",
       "      <td>NaN</td>\n",
       "      <td>C012</td>\n",
       "      <td>T001</td>\n",
       "      <td>경기도</td>\n",
       "      <td>성남시</td>\n",
       "      <td>경기도</td>\n",
       "      <td>부천시</td>\n",
       "    </tr>\n",
       "    <tr>\n",
       "      <th>4</th>\n",
       "      <td>54793837</td>\n",
       "      <td>1838</td>\n",
       "      <td>41</td>\n",
       "      <td>190</td>\n",
       "      <td>41190</td>\n",
       "      <td>KPBSH3AB18P082348</td>\n",
       "      <td>NaN</td>\n",
       "      <td>C012</td>\n",
       "      <td>T001</td>\n",
       "      <td>경기도</td>\n",
       "      <td>부천시</td>\n",
       "      <td>경기도</td>\n",
       "      <td>부천시</td>\n",
       "    </tr>\n",
       "  </tbody>\n",
       "</table>\n",
       "</div>"
      ],
      "text/plain": [
       "       적발번호  발령번호  등록시도코드  등록시군구코드 적발지역코드               차대번호  단속일 농도기준아이디   \n",
       "0  54793831  1838      41      190  41190  KMFXKS7BP3U657943  NaN    C012  \\\n",
       "1  54793839  1838      41      190  41190  KNAMA75432S388470  NaN    C012   \n",
       "2  54793843  1838      28      237  41190  KNGDNM9N14K178854  NaN    C012   \n",
       "3  54795717  1838      41      130  41190  KMFGA17PP7C072098  NaN    C012   \n",
       "4  54793837  1838      41      190  41190  KPBSH3AB18P082348  NaN    C012   \n",
       "\n",
       "  유형기준아이디   등록시도 등록시군구 적발시도 적발시도  \n",
       "0    T001    경기도   부천시  경기도  부천시  \n",
       "1    T001    경기도   부천시  경기도  부천시  \n",
       "2    T001  인천광역시   부평구  경기도  부천시  \n",
       "3    T001    경기도   성남시  경기도  부천시  \n",
       "4    T001    경기도   부천시  경기도  부천시  "
      ]
     },
     "execution_count": 410,
     "metadata": {},
     "output_type": "execute_result"
    }
   ],
   "source": [
    "is_total.head()"
   ]
  },
  {
   "cell_type": "code",
   "execution_count": 148,
   "metadata": {},
   "outputs": [
    {
     "data": {
      "text/html": [
       "<div>\n",
       "<style scoped>\n",
       "    .dataframe tbody tr th:only-of-type {\n",
       "        vertical-align: middle;\n",
       "    }\n",
       "\n",
       "    .dataframe tbody tr th {\n",
       "        vertical-align: top;\n",
       "    }\n",
       "\n",
       "    .dataframe thead th {\n",
       "        text-align: right;\n",
       "    }\n",
       "</style>\n",
       "<table border=\"1\" class=\"dataframe\">\n",
       "  <thead>\n",
       "    <tr style=\"text-align: right;\">\n",
       "      <th></th>\n",
       "      <th>적발지역</th>\n",
       "      <th>적발시도</th>\n",
       "      <th>차대번호</th>\n",
       "      <th>계절제_1차</th>\n",
       "      <th>계절제_2차</th>\n",
       "      <th>계절제_3차</th>\n",
       "      <th>계절제_4차</th>\n",
       "      <th>차종</th>\n",
       "      <th>차종유형</th>\n",
       "    </tr>\n",
       "  </thead>\n",
       "  <tbody>\n",
       "    <tr>\n",
       "      <th>0</th>\n",
       "      <td>수도권</td>\n",
       "      <td>서울</td>\n",
       "      <td>KMFZCS7JP7U292779</td>\n",
       "      <td>4.00</td>\n",
       "      <td>NaN</td>\n",
       "      <td>NaN</td>\n",
       "      <td>NaN</td>\n",
       "      <td>화물</td>\n",
       "      <td>소형</td>\n",
       "    </tr>\n",
       "    <tr>\n",
       "      <th>1</th>\n",
       "      <td>수도권</td>\n",
       "      <td>인천</td>\n",
       "      <td>KMHSD81VP2U244691</td>\n",
       "      <td>1.00</td>\n",
       "      <td>3.00</td>\n",
       "      <td>NaN</td>\n",
       "      <td>NaN</td>\n",
       "      <td>승용</td>\n",
       "      <td>중형</td>\n",
       "    </tr>\n",
       "    <tr>\n",
       "      <th>2</th>\n",
       "      <td>수도권</td>\n",
       "      <td>인천</td>\n",
       "      <td>KMHJN81VP6U261521</td>\n",
       "      <td>1.00</td>\n",
       "      <td>NaN</td>\n",
       "      <td>NaN</td>\n",
       "      <td>NaN</td>\n",
       "      <td>승용</td>\n",
       "      <td>중형</td>\n",
       "    </tr>\n",
       "    <tr>\n",
       "      <th>3</th>\n",
       "      <td>수도권</td>\n",
       "      <td>인천</td>\n",
       "      <td>KNAJC52135A471475</td>\n",
       "      <td>1.00</td>\n",
       "      <td>NaN</td>\n",
       "      <td>NaN</td>\n",
       "      <td>NaN</td>\n",
       "      <td>승용</td>\n",
       "      <td>대형</td>\n",
       "    </tr>\n",
       "    <tr>\n",
       "      <th>4</th>\n",
       "      <td>수도권</td>\n",
       "      <td>경기</td>\n",
       "      <td>KMHSJ81WP6U029832</td>\n",
       "      <td>1.00</td>\n",
       "      <td>4.00</td>\n",
       "      <td>NaN</td>\n",
       "      <td>NaN</td>\n",
       "      <td>승용</td>\n",
       "      <td>대형</td>\n",
       "    </tr>\n",
       "  </tbody>\n",
       "</table>\n",
       "</div>"
      ],
      "text/plain": [
       "  적발지역 적발시도               차대번호  계절제_1차  계절제_2차  계절제_3차  계절제_4차  차종 차종유형\n",
       "0  수도권   서울  KMFZCS7JP7U292779    4.00     NaN     NaN     NaN  화물   소형\n",
       "1  수도권   인천  KMHSD81VP2U244691    1.00    3.00     NaN     NaN  승용   중형\n",
       "2  수도권   인천  KMHJN81VP6U261521    1.00     NaN     NaN     NaN  승용   중형\n",
       "3  수도권   인천  KNAJC52135A471475    1.00     NaN     NaN     NaN  승용   대형\n",
       "4  수도권   경기  KMHSJ81WP6U029832    1.00    4.00     NaN     NaN  승용   대형"
      ]
     },
     "execution_count": 148,
     "metadata": {},
     "output_type": "execute_result"
    }
   ],
   "source": [
    "slimit.head()"
   ]
  },
  {
   "cell_type": "code",
   "execution_count": 149,
   "metadata": {},
   "outputs": [
    {
     "data": {
      "text/plain": [
       "Index(['적발지역', '적발시도', '차대번호', '계절제_1차', '계절제_2차', '계절제_3차', '계절제_4차', '차종',\n",
       "       '차종유형'],\n",
       "      dtype='object')"
      ]
     },
     "execution_count": 149,
     "metadata": {},
     "output_type": "execute_result"
    }
   ],
   "source": [
    "slimit.columns"
   ]
  },
  {
   "cell_type": "code",
   "execution_count": 150,
   "metadata": {},
   "outputs": [],
   "source": [
    "cdict = {\n",
    "    '적발지역':'DSCL_RGN', \n",
    "    '적발시도':'DSCL_CTPV', \n",
    "    '차대번호':'VIN', \n",
    "    '계절제_1차':'SEASON_1ODR_CRDN_NOCS', \n",
    "    '계절제_2차':'SEASON_2ODR_CRDN_NOCS', \n",
    "    '계절제_3차':'SEASON_3ODR_CRDN_NOCS', \n",
    "    '계절제_4차':'SEASON_4ODR_CRDN_NOCS', \n",
    "    '차종':'VHCTY_CD',\n",
    "    '차종유형':'VHCTY_TY', \n",
    "}"
   ]
  },
  {
   "cell_type": "code",
   "execution_count": 151,
   "metadata": {},
   "outputs": [
    {
     "data": {
      "text/plain": [
       "Index(['DSCL_RGN', 'DSCL_CTPV', 'VIN', 'SEASON_1ODR_CRDN_NOCS',\n",
       "       'SEASON_2ODR_CRDN_NOCS', 'SEASON_3ODR_CRDN_NOCS',\n",
       "       'SEASON_4ODR_CRDN_NOCS', 'VHCTY_CD', 'VHCTY_TY'],\n",
       "      dtype='object')"
      ]
     },
     "execution_count": 151,
     "metadata": {},
     "output_type": "execute_result"
    }
   ],
   "source": [
    "STD_BD_SEASON_DSCL_RGN_CURSTT = slimit.rename(columns=cdict)\n",
    "STD_BD_SEASON_DSCL_RGN_CURSTT.columns"
   ]
  },
  {
   "attachments": {},
   "cell_type": "markdown",
   "metadata": {},
   "source": [
    "#### [출력] [D] STD_BD_SEASON_DSCL_RGN_CURSTT"
   ]
  },
  {
   "cell_type": "code",
   "execution_count": null,
   "metadata": {},
   "outputs": [],
   "source": [
    "# expdf = STD_BD_SEASON_DSCL_RGN_CURSTT\n",
    "# table_nm = 'STD_BD_SEASON_DSCL_RGN_CURSTT'.upper()\n",
    "\n",
    "# # 테이블 생성\n",
    "# sql = 'create table ' + table_nm + '( \\n'\n",
    "\n",
    "# for idx,column in enumerate(expdf.columns):\n",
    "#     if 'float' in expdf[column].dtype.name:\n",
    "#         sql += column + ' float'\n",
    "#     elif 'int' in expdf[column].dtype.name:\n",
    "#         sql += column + ' number'\n",
    "#     else:\n",
    "#         sql += column + ' varchar(255)'\n",
    "\n",
    "#     if len(expdf.columns) - 1 != idx:\n",
    "#         sql += ','\n",
    "#     sql += '\\n'\n",
    "# sql += ')'    \n",
    "# wbt.execute(sql)\n",
    "\n",
    "# # 데이터 추가\n",
    "# # 5s\n",
    "# wbt.import_from_pandas(expdf, table_nm)"
   ]
  },
  {
   "attachments": {},
   "cell_type": "markdown",
   "metadata": {},
   "source": [
    "# code end"
   ]
  }
 ],
 "metadata": {
  "kernelspec": {
   "display_name": "base",
   "language": "python",
   "name": "python3"
  },
  "language_info": {
   "codemirror_mode": {
    "name": "ipython",
    "version": 3
   },
   "file_extension": ".py",
   "mimetype": "text/x-python",
   "name": "python",
   "nbconvert_exporter": "python",
   "pygments_lexer": "ipython3",
   "version": "3.9.13"
  },
  "orig_nbformat": 4,
  "vscode": {
   "interpreter": {
    "hash": "ad2bdc8ecc057115af97d19610ffacc2b4e99fae6737bb82f5d7fb13d2f2c186"
   }
  }
 },
 "nbformat": 4,
 "nbformat_minor": 2
}
